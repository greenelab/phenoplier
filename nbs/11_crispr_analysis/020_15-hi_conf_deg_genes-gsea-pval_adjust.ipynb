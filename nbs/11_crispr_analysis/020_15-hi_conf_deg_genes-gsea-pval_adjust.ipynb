{
 "cells": [
  {
   "cell_type": "markdown",
   "metadata": {
    "papermill": {
     "duration": 0.034195,
     "end_time": "2021-07-16T16:23:42.122504",
     "exception": false,
     "start_time": "2021-07-16T16:23:42.088309",
     "status": "completed"
    },
    "tags": []
   },
   "source": [
    "# Description"
   ]
  },
  {
   "cell_type": "markdown",
   "metadata": {
    "papermill": {
     "duration": 0.009129,
     "end_time": "2021-07-16T16:23:42.145731",
     "exception": false,
     "start_time": "2021-07-16T16:23:42.136602",
     "status": "completed"
    },
    "tags": []
   },
   "source": [
    "This notebook reads the FGSEA results on all LVs, takes the maximum p-value for each LV/gene-set pair, and then adjusts for multiple-testing."
   ]
  },
  {
   "cell_type": "markdown",
   "metadata": {
    "papermill": {
     "duration": 0.008595,
     "end_time": "2021-07-16T16:23:42.162853",
     "exception": false,
     "start_time": "2021-07-16T16:23:42.154258",
     "status": "completed"
    },
    "tags": []
   },
   "source": [
    "# Modules loading"
   ]
  },
  {
   "cell_type": "code",
   "execution_count": 1,
   "metadata": {
    "execution": {
     "iopub.execute_input": "2021-07-16T16:23:42.186463Z",
     "iopub.status.busy": "2021-07-16T16:23:42.186101Z",
     "iopub.status.idle": "2021-07-16T16:23:42.193629Z",
     "shell.execute_reply": "2021-07-16T16:23:42.193210Z"
    },
    "papermill": {
     "duration": 0.021742,
     "end_time": "2021-07-16T16:23:42.193722",
     "exception": false,
     "start_time": "2021-07-16T16:23:42.171980",
     "status": "completed"
    },
    "tags": []
   },
   "outputs": [],
   "source": [
    "%load_ext autoreload\n",
    "%autoreload 2"
   ]
  },
  {
   "cell_type": "code",
   "execution_count": 2,
   "metadata": {
    "execution": {
     "iopub.execute_input": "2021-07-16T16:23:42.214932Z",
     "iopub.status.busy": "2021-07-16T16:23:42.214551Z",
     "iopub.status.idle": "2021-07-16T16:23:42.624268Z",
     "shell.execute_reply": "2021-07-16T16:23:42.623902Z"
    },
    "papermill": {
     "duration": 0.421256,
     "end_time": "2021-07-16T16:23:42.624369",
     "exception": false,
     "start_time": "2021-07-16T16:23:42.203113",
     "status": "completed"
    },
    "tags": []
   },
   "outputs": [],
   "source": [
    "from pathlib import Path\n",
    "\n",
    "import numpy as np\n",
    "import pandas as pd\n",
    "from IPython.display import HTML\n",
    "from statsmodels.stats.multitest import multipletests\n",
    "\n",
    "from entity import Trait\n",
    "from data.cache import read_data\n",
    "import conf"
   ]
  },
  {
   "cell_type": "markdown",
   "metadata": {
    "papermill": {
     "duration": 0.00942,
     "end_time": "2021-07-16T16:23:42.643967",
     "exception": false,
     "start_time": "2021-07-16T16:23:42.634547",
     "status": "completed"
    },
    "tags": []
   },
   "source": [
    "# Settings"
   ]
  },
  {
   "cell_type": "code",
   "execution_count": 3,
   "metadata": {
    "execution": {
     "iopub.execute_input": "2021-07-16T16:23:42.665353Z",
     "iopub.status.busy": "2021-07-16T16:23:42.664992Z",
     "iopub.status.idle": "2021-07-16T16:23:42.673219Z",
     "shell.execute_reply": "2021-07-16T16:23:42.672832Z"
    },
    "papermill": {
     "duration": 0.019746,
     "end_time": "2021-07-16T16:23:42.673305",
     "exception": false,
     "start_time": "2021-07-16T16:23:42.653559",
     "status": "completed"
    },
    "tags": []
   },
   "outputs": [],
   "source": [
    "FGSEA_INPUT_FILEPATH = Path(\n",
    "    conf.RESULTS[\"CRISPR_ANALYSES\"][\"BASE_DIR\"], \"fgsea-hi_conf-all_lvs.tsv\"\n",
    ").resolve()"
   ]
  },
  {
   "cell_type": "markdown",
   "metadata": {
    "papermill": {
     "duration": 0.009201,
     "end_time": "2021-07-16T16:23:42.692034",
     "exception": false,
     "start_time": "2021-07-16T16:23:42.682833",
     "status": "completed"
    },
    "tags": []
   },
   "source": [
    "# Data loading"
   ]
  },
  {
   "cell_type": "markdown",
   "metadata": {
    "papermill": {
     "duration": 0.008685,
     "end_time": "2021-07-16T16:23:42.710007",
     "exception": false,
     "start_time": "2021-07-16T16:23:42.701322",
     "status": "completed"
    },
    "tags": []
   },
   "source": [
    "## LVs enrichment on DEG from CRISPR screen"
   ]
  },
  {
   "cell_type": "code",
   "execution_count": 4,
   "metadata": {
    "execution": {
     "iopub.execute_input": "2021-07-16T16:23:42.731890Z",
     "iopub.status.busy": "2021-07-16T16:23:42.731446Z",
     "iopub.status.idle": "2021-07-16T16:23:42.765463Z",
     "shell.execute_reply": "2021-07-16T16:23:42.765085Z"
    },
    "papermill": {
     "duration": 0.046417,
     "end_time": "2021-07-16T16:23:42.765549",
     "exception": false,
     "start_time": "2021-07-16T16:23:42.719132",
     "status": "completed"
    },
    "tags": []
   },
   "outputs": [],
   "source": [
    "deg_enrich = pd.read_csv(\n",
    "    FGSEA_INPUT_FILEPATH,\n",
    "    sep=\"\\t\",\n",
    ")"
   ]
  },
  {
   "cell_type": "code",
   "execution_count": 5,
   "metadata": {
    "execution": {
     "iopub.execute_input": "2021-07-16T16:23:42.786649Z",
     "iopub.status.busy": "2021-07-16T16:23:42.786285Z",
     "iopub.status.idle": "2021-07-16T16:23:42.798780Z",
     "shell.execute_reply": "2021-07-16T16:23:42.798403Z"
    },
    "papermill": {
     "duration": 0.02387,
     "end_time": "2021-07-16T16:23:42.798879",
     "exception": false,
     "start_time": "2021-07-16T16:23:42.775009",
     "status": "completed"
    },
    "tags": []
   },
   "outputs": [
    {
     "data": {
      "text/plain": [
       "(19740, 10)"
      ]
     },
     "execution_count": 5,
     "metadata": {},
     "output_type": "execute_result"
    }
   ],
   "source": [
    "deg_enrich.shape"
   ]
  },
  {
   "cell_type": "code",
   "execution_count": 6,
   "metadata": {
    "execution": {
     "iopub.execute_input": "2021-07-16T16:23:42.821057Z",
     "iopub.status.busy": "2021-07-16T16:23:42.820638Z",
     "iopub.status.idle": "2021-07-16T16:23:42.860418Z",
     "shell.execute_reply": "2021-07-16T16:23:42.859968Z"
    },
    "papermill": {
     "duration": 0.051525,
     "end_time": "2021-07-16T16:23:42.860520",
     "exception": false,
     "start_time": "2021-07-16T16:23:42.808995",
     "status": "completed"
    },
    "tags": []
   },
   "outputs": [
    {
     "data": {
      "text/html": [
       "<div>\n",
       "<style scoped>\n",
       "    .dataframe tbody tr th:only-of-type {\n",
       "        vertical-align: middle;\n",
       "    }\n",
       "\n",
       "    .dataframe tbody tr th {\n",
       "        vertical-align: top;\n",
       "    }\n",
       "\n",
       "    .dataframe thead th {\n",
       "        text-align: right;\n",
       "    }\n",
       "</style>\n",
       "<table border=\"1\" class=\"dataframe\">\n",
       "  <thead>\n",
       "    <tr style=\"text-align: right;\">\n",
       "      <th></th>\n",
       "      <th>pathway</th>\n",
       "      <th>pval</th>\n",
       "      <th>padj</th>\n",
       "      <th>log2err</th>\n",
       "      <th>ES</th>\n",
       "      <th>NES</th>\n",
       "      <th>size</th>\n",
       "      <th>leadingEdge</th>\n",
       "      <th>lv</th>\n",
       "      <th>rep_idx</th>\n",
       "    </tr>\n",
       "  </thead>\n",
       "  <tbody>\n",
       "    <tr>\n",
       "      <th>0</th>\n",
       "      <td>gene_set_decrease</td>\n",
       "      <td>0.095904</td>\n",
       "      <td>0.191808</td>\n",
       "      <td>0.140406</td>\n",
       "      <td>0.909509</td>\n",
       "      <td>1.257073</td>\n",
       "      <td>5</td>\n",
       "      <td>PCYT2, UBE2J2, FBXW7</td>\n",
       "      <td>LV1</td>\n",
       "      <td>1</td>\n",
       "    </tr>\n",
       "    <tr>\n",
       "      <th>1</th>\n",
       "      <td>gene_set_increase</td>\n",
       "      <td>0.228771</td>\n",
       "      <td>0.228771</td>\n",
       "      <td>0.083836</td>\n",
       "      <td>0.840253</td>\n",
       "      <td>1.286063</td>\n",
       "      <td>3</td>\n",
       "      <td>ACACA, MBTPS1</td>\n",
       "      <td>LV1</td>\n",
       "      <td>1</td>\n",
       "    </tr>\n",
       "    <tr>\n",
       "      <th>2</th>\n",
       "      <td>gene_set_decrease</td>\n",
       "      <td>0.101898</td>\n",
       "      <td>0.203796</td>\n",
       "      <td>0.135741</td>\n",
       "      <td>0.909509</td>\n",
       "      <td>1.253560</td>\n",
       "      <td>5</td>\n",
       "      <td>PCYT2, UBE2J2, FBXW7</td>\n",
       "      <td>LV1</td>\n",
       "      <td>2</td>\n",
       "    </tr>\n",
       "    <tr>\n",
       "      <th>3</th>\n",
       "      <td>gene_set_increase</td>\n",
       "      <td>0.285714</td>\n",
       "      <td>0.285714</td>\n",
       "      <td>0.072180</td>\n",
       "      <td>0.840253</td>\n",
       "      <td>1.258282</td>\n",
       "      <td>3</td>\n",
       "      <td>ACACA, MBTPS1</td>\n",
       "      <td>LV1</td>\n",
       "      <td>2</td>\n",
       "    </tr>\n",
       "    <tr>\n",
       "      <th>4</th>\n",
       "      <td>gene_set_decrease</td>\n",
       "      <td>0.097902</td>\n",
       "      <td>0.195804</td>\n",
       "      <td>0.138805</td>\n",
       "      <td>0.909509</td>\n",
       "      <td>1.260276</td>\n",
       "      <td>5</td>\n",
       "      <td>PCYT2, UBE2J2, FBXW7</td>\n",
       "      <td>LV1</td>\n",
       "      <td>3</td>\n",
       "    </tr>\n",
       "  </tbody>\n",
       "</table>\n",
       "</div>"
      ],
      "text/plain": [
       "             pathway      pval      padj   log2err        ES       NES  size  \\\n",
       "0  gene_set_decrease  0.095904  0.191808  0.140406  0.909509  1.257073     5   \n",
       "1  gene_set_increase  0.228771  0.228771  0.083836  0.840253  1.286063     3   \n",
       "2  gene_set_decrease  0.101898  0.203796  0.135741  0.909509  1.253560     5   \n",
       "3  gene_set_increase  0.285714  0.285714  0.072180  0.840253  1.258282     3   \n",
       "4  gene_set_decrease  0.097902  0.195804  0.138805  0.909509  1.260276     5   \n",
       "\n",
       "            leadingEdge   lv  rep_idx  \n",
       "0  PCYT2, UBE2J2, FBXW7  LV1        1  \n",
       "1         ACACA, MBTPS1  LV1        1  \n",
       "2  PCYT2, UBE2J2, FBXW7  LV1        2  \n",
       "3         ACACA, MBTPS1  LV1        2  \n",
       "4  PCYT2, UBE2J2, FBXW7  LV1        3  "
      ]
     },
     "execution_count": 6,
     "metadata": {},
     "output_type": "execute_result"
    }
   ],
   "source": [
    "deg_enrich.head()"
   ]
  },
  {
   "cell_type": "code",
   "execution_count": 7,
   "metadata": {
    "execution": {
     "iopub.execute_input": "2021-07-16T16:23:42.887836Z",
     "iopub.status.busy": "2021-07-16T16:23:42.887345Z",
     "iopub.status.idle": "2021-07-16T16:23:42.905041Z",
     "shell.execute_reply": "2021-07-16T16:23:42.904595Z"
    },
    "papermill": {
     "duration": 0.032373,
     "end_time": "2021-07-16T16:23:42.905148",
     "exception": false,
     "start_time": "2021-07-16T16:23:42.872775",
     "status": "completed"
    },
    "tags": []
   },
   "outputs": [],
   "source": [
    "deg_enrich = deg_enrich.dropna()"
   ]
  },
  {
   "cell_type": "code",
   "execution_count": 8,
   "metadata": {
    "execution": {
     "iopub.execute_input": "2021-07-16T16:23:42.932713Z",
     "iopub.status.busy": "2021-07-16T16:23:42.932249Z",
     "iopub.status.idle": "2021-07-16T16:23:43.097780Z",
     "shell.execute_reply": "2021-07-16T16:23:43.097464Z"
    },
    "papermill": {
     "duration": 0.180167,
     "end_time": "2021-07-16T16:23:43.097865",
     "exception": false,
     "start_time": "2021-07-16T16:23:42.917698",
     "status": "completed"
    },
    "tags": []
   },
   "outputs": [],
   "source": [
    "# for each lv/pathway pair we ran fgsea 10 times; here I take the maximum pvalue (least significant) among those runs\n",
    "deg_enrich_max_idx = deg_enrich.groupby([\"lv\", \"pathway\"])[\"pval\"].idxmax()"
   ]
  },
  {
   "cell_type": "code",
   "execution_count": 9,
   "metadata": {
    "execution": {
     "iopub.execute_input": "2021-07-16T16:23:43.119837Z",
     "iopub.status.busy": "2021-07-16T16:23:43.119485Z",
     "iopub.status.idle": "2021-07-16T16:23:43.135456Z",
     "shell.execute_reply": "2021-07-16T16:23:43.135742Z"
    },
    "papermill": {
     "duration": 0.028129,
     "end_time": "2021-07-16T16:23:43.135847",
     "exception": false,
     "start_time": "2021-07-16T16:23:43.107718",
     "status": "completed"
    },
    "tags": []
   },
   "outputs": [
    {
     "data": {
      "text/plain": [
       "(1974, 10)"
      ]
     },
     "metadata": {},
     "output_type": "display_data"
    },
    {
     "data": {
      "text/html": [
       "<div>\n",
       "<style scoped>\n",
       "    .dataframe tbody tr th:only-of-type {\n",
       "        vertical-align: middle;\n",
       "    }\n",
       "\n",
       "    .dataframe tbody tr th {\n",
       "        vertical-align: top;\n",
       "    }\n",
       "\n",
       "    .dataframe thead th {\n",
       "        text-align: right;\n",
       "    }\n",
       "</style>\n",
       "<table border=\"1\" class=\"dataframe\">\n",
       "  <thead>\n",
       "    <tr style=\"text-align: right;\">\n",
       "      <th></th>\n",
       "      <th>pathway</th>\n",
       "      <th>pval</th>\n",
       "      <th>padj</th>\n",
       "      <th>log2err</th>\n",
       "      <th>ES</th>\n",
       "      <th>NES</th>\n",
       "      <th>size</th>\n",
       "      <th>leadingEdge</th>\n",
       "      <th>lv</th>\n",
       "      <th>rep_idx</th>\n",
       "    </tr>\n",
       "  </thead>\n",
       "  <tbody>\n",
       "    <tr>\n",
       "      <th>0</th>\n",
       "      <td>gene_set_decrease</td>\n",
       "      <td>0.116883</td>\n",
       "      <td>0.233766</td>\n",
       "      <td>0.125640</td>\n",
       "      <td>0.909509</td>\n",
       "      <td>1.237006</td>\n",
       "      <td>5</td>\n",
       "      <td>PCYT2, UBE2J2, FBXW7</td>\n",
       "      <td>LV1</td>\n",
       "      <td>8</td>\n",
       "    </tr>\n",
       "    <tr>\n",
       "      <th>1</th>\n",
       "      <td>gene_set_increase</td>\n",
       "      <td>0.285714</td>\n",
       "      <td>0.285714</td>\n",
       "      <td>0.072180</td>\n",
       "      <td>0.840253</td>\n",
       "      <td>1.258282</td>\n",
       "      <td>3</td>\n",
       "      <td>ACACA, MBTPS1</td>\n",
       "      <td>LV1</td>\n",
       "      <td>2</td>\n",
       "    </tr>\n",
       "    <tr>\n",
       "      <th>2</th>\n",
       "      <td>gene_set_decrease</td>\n",
       "      <td>0.741259</td>\n",
       "      <td>0.741259</td>\n",
       "      <td>0.026956</td>\n",
       "      <td>0.751964</td>\n",
       "      <td>1.005845</td>\n",
       "      <td>5</td>\n",
       "      <td>TCF7L2, UBE2J2, PTEN</td>\n",
       "      <td>LV10</td>\n",
       "      <td>10</td>\n",
       "    </tr>\n",
       "    <tr>\n",
       "      <th>3</th>\n",
       "      <td>gene_set_increase</td>\n",
       "      <td>0.427572</td>\n",
       "      <td>0.720280</td>\n",
       "      <td>0.052805</td>\n",
       "      <td>0.814140</td>\n",
       "      <td>1.320263</td>\n",
       "      <td>3</td>\n",
       "      <td>MBTPS1, DGAT2</td>\n",
       "      <td>LV10</td>\n",
       "      <td>4</td>\n",
       "    </tr>\n",
       "    <tr>\n",
       "      <th>4</th>\n",
       "      <td>gene_set_decrease</td>\n",
       "      <td>0.908092</td>\n",
       "      <td>0.908092</td>\n",
       "      <td>0.014514</td>\n",
       "      <td>0.540400</td>\n",
       "      <td>0.778719</td>\n",
       "      <td>5</td>\n",
       "      <td>PTEN, TCF7L2</td>\n",
       "      <td>LV100</td>\n",
       "      <td>1</td>\n",
       "    </tr>\n",
       "  </tbody>\n",
       "</table>\n",
       "</div>"
      ],
      "text/plain": [
       "             pathway      pval      padj   log2err        ES       NES  size  \\\n",
       "0  gene_set_decrease  0.116883  0.233766  0.125640  0.909509  1.237006     5   \n",
       "1  gene_set_increase  0.285714  0.285714  0.072180  0.840253  1.258282     3   \n",
       "2  gene_set_decrease  0.741259  0.741259  0.026956  0.751964  1.005845     5   \n",
       "3  gene_set_increase  0.427572  0.720280  0.052805  0.814140  1.320263     3   \n",
       "4  gene_set_decrease  0.908092  0.908092  0.014514  0.540400  0.778719     5   \n",
       "\n",
       "            leadingEdge     lv  rep_idx  \n",
       "0  PCYT2, UBE2J2, FBXW7    LV1        8  \n",
       "1         ACACA, MBTPS1    LV1        2  \n",
       "2  TCF7L2, UBE2J2, PTEN   LV10       10  \n",
       "3         MBTPS1, DGAT2   LV10        4  \n",
       "4          PTEN, TCF7L2  LV100        1  "
      ]
     },
     "metadata": {},
     "output_type": "display_data"
    }
   ],
   "source": [
    "deg_enrich = deg_enrich.loc[deg_enrich_max_idx].reset_index(drop=True)\n",
    "display(deg_enrich.shape)\n",
    "display(deg_enrich.head())"
   ]
  },
  {
   "cell_type": "markdown",
   "metadata": {
    "papermill": {
     "duration": 0.010568,
     "end_time": "2021-07-16T16:23:43.271554",
     "exception": false,
     "start_time": "2021-07-16T16:23:43.260986",
     "status": "completed"
    },
    "tags": []
   },
   "source": [
    "# Adjust p-values"
   ]
  },
  {
   "cell_type": "code",
   "execution_count": 13,
   "metadata": {
    "execution": {
     "iopub.execute_input": "2021-07-16T16:23:43.295462Z",
     "iopub.status.busy": "2021-07-16T16:23:43.295097Z",
     "iopub.status.idle": "2021-07-16T16:23:43.302962Z",
     "shell.execute_reply": "2021-07-16T16:23:43.303257Z"
    },
    "papermill": {
     "duration": 0.021264,
     "end_time": "2021-07-16T16:23:43.303368",
     "exception": false,
     "start_time": "2021-07-16T16:23:43.282104",
     "status": "completed"
    },
    "tags": []
   },
   "outputs": [],
   "source": [
    "adj_pvals = multipletests(deg_enrich[\"pval\"], alpha=0.05, method=\"fdr_bh\")"
   ]
  },
  {
   "cell_type": "code",
   "execution_count": 14,
   "metadata": {
    "execution": {
     "iopub.execute_input": "2021-07-16T16:23:43.328267Z",
     "iopub.status.busy": "2021-07-16T16:23:43.327915Z",
     "iopub.status.idle": "2021-07-16T16:23:43.336055Z",
     "shell.execute_reply": "2021-07-16T16:23:43.336350Z"
    },
    "papermill": {
     "duration": 0.021512,
     "end_time": "2021-07-16T16:23:43.336451",
     "exception": false,
     "start_time": "2021-07-16T16:23:43.314939",
     "status": "completed"
    },
    "tags": []
   },
   "outputs": [
    {
     "data": {
      "text/plain": [
       "(array([False, False, False, ..., False, False, False]),\n",
       " array([0.96728523, 0.96728523, 0.96728523, ..., 0.96728523, 0.96728523,\n",
       "        0.96728523]),\n",
       " 2.5984107385745858e-05,\n",
       " 2.5329280648429586e-05)"
      ]
     },
     "execution_count": 14,
     "metadata": {},
     "output_type": "execute_result"
    }
   ],
   "source": [
    "adj_pvals"
   ]
  },
  {
   "cell_type": "code",
   "execution_count": 15,
   "metadata": {
    "execution": {
     "iopub.execute_input": "2021-07-16T16:23:43.360422Z",
     "iopub.status.busy": "2021-07-16T16:23:43.360050Z",
     "iopub.status.idle": "2021-07-16T16:23:43.368946Z",
     "shell.execute_reply": "2021-07-16T16:23:43.368597Z"
    },
    "papermill": {
     "duration": 0.021635,
     "end_time": "2021-07-16T16:23:43.369029",
     "exception": false,
     "start_time": "2021-07-16T16:23:43.347394",
     "status": "completed"
    },
    "tags": []
   },
   "outputs": [
    {
     "data": {
      "text/plain": [
       "0"
      ]
     },
     "execution_count": 15,
     "metadata": {},
     "output_type": "execute_result"
    }
   ],
   "source": [
    "np.sum(adj_pvals[0])"
   ]
  },
  {
   "cell_type": "markdown",
   "metadata": {
    "papermill": {
     "duration": 0.011078,
     "end_time": "2021-07-16T16:23:43.391318",
     "exception": false,
     "start_time": "2021-07-16T16:23:43.380240",
     "status": "completed"
    },
    "tags": []
   },
   "source": [
    "There are no significant LVs after correcting for multiple-testing"
   ]
  },
  {
   "cell_type": "code",
   "execution_count": 16,
   "metadata": {
    "execution": {
     "iopub.execute_input": "2021-07-16T16:23:43.415672Z",
     "iopub.status.busy": "2021-07-16T16:23:43.415299Z",
     "iopub.status.idle": "2021-07-16T16:23:43.423508Z",
     "shell.execute_reply": "2021-07-16T16:23:43.423143Z"
    },
    "papermill": {
     "duration": 0.02132,
     "end_time": "2021-07-16T16:23:43.423592",
     "exception": false,
     "start_time": "2021-07-16T16:23:43.402272",
     "status": "completed"
    },
    "tags": []
   },
   "outputs": [],
   "source": [
    "deg_enrich = deg_enrich.assign(fdr=adj_pvals[1])"
   ]
  },
  {
   "cell_type": "code",
   "execution_count": 17,
   "metadata": {
    "execution": {
     "iopub.execute_input": "2021-07-16T16:23:43.448438Z",
     "iopub.status.busy": "2021-07-16T16:23:43.448075Z",
     "iopub.status.idle": "2021-07-16T16:23:43.462657Z",
     "shell.execute_reply": "2021-07-16T16:23:43.462300Z"
    },
    "papermill": {
     "duration": 0.027592,
     "end_time": "2021-07-16T16:23:43.462741",
     "exception": false,
     "start_time": "2021-07-16T16:23:43.435149",
     "status": "completed"
    },
    "tags": []
   },
   "outputs": [
    {
     "data": {
      "text/html": [
       "<div>\n",
       "<style scoped>\n",
       "    .dataframe tbody tr th:only-of-type {\n",
       "        vertical-align: middle;\n",
       "    }\n",
       "\n",
       "    .dataframe tbody tr th {\n",
       "        vertical-align: top;\n",
       "    }\n",
       "\n",
       "    .dataframe thead th {\n",
       "        text-align: right;\n",
       "    }\n",
       "</style>\n",
       "<table border=\"1\" class=\"dataframe\">\n",
       "  <thead>\n",
       "    <tr style=\"text-align: right;\">\n",
       "      <th></th>\n",
       "      <th>pathway</th>\n",
       "      <th>pval</th>\n",
       "      <th>padj</th>\n",
       "      <th>log2err</th>\n",
       "      <th>ES</th>\n",
       "      <th>NES</th>\n",
       "      <th>size</th>\n",
       "      <th>leadingEdge</th>\n",
       "      <th>lv</th>\n",
       "      <th>rep_idx</th>\n",
       "      <th>fdr</th>\n",
       "    </tr>\n",
       "  </thead>\n",
       "  <tbody>\n",
       "    <tr>\n",
       "      <th>0</th>\n",
       "      <td>gene_set_decrease</td>\n",
       "      <td>0.116883</td>\n",
       "      <td>0.233766</td>\n",
       "      <td>0.125640</td>\n",
       "      <td>0.909509</td>\n",
       "      <td>1.237006</td>\n",
       "      <td>5</td>\n",
       "      <td>PCYT2, UBE2J2, FBXW7</td>\n",
       "      <td>LV1</td>\n",
       "      <td>8</td>\n",
       "      <td>0.967285</td>\n",
       "    </tr>\n",
       "    <tr>\n",
       "      <th>1</th>\n",
       "      <td>gene_set_increase</td>\n",
       "      <td>0.285714</td>\n",
       "      <td>0.285714</td>\n",
       "      <td>0.072180</td>\n",
       "      <td>0.840253</td>\n",
       "      <td>1.258282</td>\n",
       "      <td>3</td>\n",
       "      <td>ACACA, MBTPS1</td>\n",
       "      <td>LV1</td>\n",
       "      <td>2</td>\n",
       "      <td>0.967285</td>\n",
       "    </tr>\n",
       "    <tr>\n",
       "      <th>2</th>\n",
       "      <td>gene_set_decrease</td>\n",
       "      <td>0.741259</td>\n",
       "      <td>0.741259</td>\n",
       "      <td>0.026956</td>\n",
       "      <td>0.751964</td>\n",
       "      <td>1.005845</td>\n",
       "      <td>5</td>\n",
       "      <td>TCF7L2, UBE2J2, PTEN</td>\n",
       "      <td>LV10</td>\n",
       "      <td>10</td>\n",
       "      <td>0.967285</td>\n",
       "    </tr>\n",
       "    <tr>\n",
       "      <th>3</th>\n",
       "      <td>gene_set_increase</td>\n",
       "      <td>0.427572</td>\n",
       "      <td>0.720280</td>\n",
       "      <td>0.052805</td>\n",
       "      <td>0.814140</td>\n",
       "      <td>1.320263</td>\n",
       "      <td>3</td>\n",
       "      <td>MBTPS1, DGAT2</td>\n",
       "      <td>LV10</td>\n",
       "      <td>4</td>\n",
       "      <td>0.967285</td>\n",
       "    </tr>\n",
       "    <tr>\n",
       "      <th>4</th>\n",
       "      <td>gene_set_decrease</td>\n",
       "      <td>0.908092</td>\n",
       "      <td>0.908092</td>\n",
       "      <td>0.014514</td>\n",
       "      <td>0.540400</td>\n",
       "      <td>0.778719</td>\n",
       "      <td>5</td>\n",
       "      <td>PTEN, TCF7L2</td>\n",
       "      <td>LV100</td>\n",
       "      <td>1</td>\n",
       "      <td>0.974250</td>\n",
       "    </tr>\n",
       "  </tbody>\n",
       "</table>\n",
       "</div>"
      ],
      "text/plain": [
       "             pathway      pval      padj   log2err        ES       NES  size  \\\n",
       "0  gene_set_decrease  0.116883  0.233766  0.125640  0.909509  1.237006     5   \n",
       "1  gene_set_increase  0.285714  0.285714  0.072180  0.840253  1.258282     3   \n",
       "2  gene_set_decrease  0.741259  0.741259  0.026956  0.751964  1.005845     5   \n",
       "3  gene_set_increase  0.427572  0.720280  0.052805  0.814140  1.320263     3   \n",
       "4  gene_set_decrease  0.908092  0.908092  0.014514  0.540400  0.778719     5   \n",
       "\n",
       "            leadingEdge     lv  rep_idx       fdr  \n",
       "0  PCYT2, UBE2J2, FBXW7    LV1        8  0.967285  \n",
       "1         ACACA, MBTPS1    LV1        2  0.967285  \n",
       "2  TCF7L2, UBE2J2, PTEN   LV10       10  0.967285  \n",
       "3         MBTPS1, DGAT2   LV10        4  0.967285  \n",
       "4          PTEN, TCF7L2  LV100        1  0.974250  "
      ]
     },
     "execution_count": 17,
     "metadata": {},
     "output_type": "execute_result"
    }
   ],
   "source": [
    "deg_enrich.head()"
   ]
  },
  {
   "cell_type": "markdown",
   "metadata": {
    "papermill": {
     "duration": 0.011186,
     "end_time": "2021-07-16T16:23:43.485594",
     "exception": false,
     "start_time": "2021-07-16T16:23:43.474408",
     "status": "completed"
    },
    "tags": []
   },
   "source": [
    "# Analysis"
   ]
  },
  {
   "cell_type": "code",
   "execution_count": 18,
   "metadata": {
    "execution": {
     "iopub.execute_input": "2021-07-16T16:23:43.510790Z",
     "iopub.status.busy": "2021-07-16T16:23:43.510424Z",
     "iopub.status.idle": "2021-07-16T16:23:43.518795Z",
     "shell.execute_reply": "2021-07-16T16:23:43.519074Z"
    },
    "papermill": {
     "duration": 0.022315,
     "end_time": "2021-07-16T16:23:43.519180",
     "exception": false,
     "start_time": "2021-07-16T16:23:43.496865",
     "status": "completed"
    },
    "tags": []
   },
   "outputs": [],
   "source": [
    "df = deg_enrich[(deg_enrich[\"pval\"] < 0.01)].sort_values(\"pval\", ascending=True)"
   ]
  },
  {
   "cell_type": "code",
   "execution_count": 19,
   "metadata": {
    "execution": {
     "iopub.execute_input": "2021-07-16T16:23:43.545408Z",
     "iopub.status.busy": "2021-07-16T16:23:43.545046Z",
     "iopub.status.idle": "2021-07-16T16:23:43.553250Z",
     "shell.execute_reply": "2021-07-16T16:23:43.552924Z"
    },
    "papermill": {
     "duration": 0.021949,
     "end_time": "2021-07-16T16:23:43.553337",
     "exception": false,
     "start_time": "2021-07-16T16:23:43.531388",
     "status": "completed"
    },
    "tags": []
   },
   "outputs": [
    {
     "data": {
      "text/plain": [
       "(15, 11)"
      ]
     },
     "execution_count": 19,
     "metadata": {},
     "output_type": "execute_result"
    }
   ],
   "source": [
    "df.shape"
   ]
  },
  {
   "cell_type": "code",
   "execution_count": 20,
   "metadata": {
    "execution": {
     "iopub.execute_input": "2021-07-16T16:23:43.580919Z",
     "iopub.status.busy": "2021-07-16T16:23:43.580503Z",
     "iopub.status.idle": "2021-07-16T16:23:43.594790Z",
     "shell.execute_reply": "2021-07-16T16:23:43.594452Z"
    },
    "papermill": {
     "duration": 0.02899,
     "end_time": "2021-07-16T16:23:43.594876",
     "exception": false,
     "start_time": "2021-07-16T16:23:43.565886",
     "status": "completed"
    },
    "tags": []
   },
   "outputs": [
    {
     "data": {
      "text/html": [
       "<div>\n",
       "<style scoped>\n",
       "    .dataframe tbody tr th:only-of-type {\n",
       "        vertical-align: middle;\n",
       "    }\n",
       "\n",
       "    .dataframe tbody tr th {\n",
       "        vertical-align: top;\n",
       "    }\n",
       "\n",
       "    .dataframe thead th {\n",
       "        text-align: right;\n",
       "    }\n",
       "</style>\n",
       "<table border=\"1\" class=\"dataframe\">\n",
       "  <thead>\n",
       "    <tr style=\"text-align: right;\">\n",
       "      <th></th>\n",
       "      <th>pathway</th>\n",
       "      <th>pval</th>\n",
       "      <th>padj</th>\n",
       "      <th>log2err</th>\n",
       "      <th>ES</th>\n",
       "      <th>NES</th>\n",
       "      <th>size</th>\n",
       "      <th>leadingEdge</th>\n",
       "      <th>lv</th>\n",
       "      <th>rep_idx</th>\n",
       "      <th>fdr</th>\n",
       "    </tr>\n",
       "  </thead>\n",
       "  <tbody>\n",
       "    <tr>\n",
       "      <th>936</th>\n",
       "      <td>gene_set_decrease</td>\n",
       "      <td>0.000554</td>\n",
       "      <td>0.001108</td>\n",
       "      <td>0.477271</td>\n",
       "      <td>0.999703</td>\n",
       "      <td>1.388986</td>\n",
       "      <td>5</td>\n",
       "      <td>FBXW7, TCF7L2</td>\n",
       "      <td>LV520</td>\n",
       "      <td>6</td>\n",
       "      <td>0.967285</td>\n",
       "    </tr>\n",
       "    <tr>\n",
       "      <th>1560</th>\n",
       "      <td>gene_set_decrease</td>\n",
       "      <td>0.002201</td>\n",
       "      <td>0.004403</td>\n",
       "      <td>0.431708</td>\n",
       "      <td>0.997776</td>\n",
       "      <td>1.359600</td>\n",
       "      <td>5</td>\n",
       "      <td>UBE2J2, TCF7L2</td>\n",
       "      <td>LV801</td>\n",
       "      <td>6</td>\n",
       "      <td>0.967285</td>\n",
       "    </tr>\n",
       "    <tr>\n",
       "      <th>918</th>\n",
       "      <td>gene_set_decrease</td>\n",
       "      <td>0.002460</td>\n",
       "      <td>0.004921</td>\n",
       "      <td>0.431708</td>\n",
       "      <td>0.997331</td>\n",
       "      <td>1.382906</td>\n",
       "      <td>5</td>\n",
       "      <td>FBXW7, TCF7L2</td>\n",
       "      <td>LV512</td>\n",
       "      <td>2</td>\n",
       "      <td>0.967285</td>\n",
       "    </tr>\n",
       "    <tr>\n",
       "      <th>327</th>\n",
       "      <td>gene_set_increase</td>\n",
       "      <td>0.003533</td>\n",
       "      <td>0.007067</td>\n",
       "      <td>0.431708</td>\n",
       "      <td>0.998221</td>\n",
       "      <td>1.582398</td>\n",
       "      <td>3</td>\n",
       "      <td>DGAT2, ACACA</td>\n",
       "      <td>LV246</td>\n",
       "      <td>6</td>\n",
       "      <td>0.967285</td>\n",
       "    </tr>\n",
       "    <tr>\n",
       "      <th>1140</th>\n",
       "      <td>gene_set_decrease</td>\n",
       "      <td>0.003570</td>\n",
       "      <td>0.007141</td>\n",
       "      <td>0.431708</td>\n",
       "      <td>0.999299</td>\n",
       "      <td>1.400503</td>\n",
       "      <td>5</td>\n",
       "      <td>PTEN, FBXW7</td>\n",
       "      <td>LV612</td>\n",
       "      <td>3</td>\n",
       "      <td>0.967285</td>\n",
       "    </tr>\n",
       "  </tbody>\n",
       "</table>\n",
       "</div>"
      ],
      "text/plain": [
       "                pathway      pval      padj   log2err        ES       NES  \\\n",
       "936   gene_set_decrease  0.000554  0.001108  0.477271  0.999703  1.388986   \n",
       "1560  gene_set_decrease  0.002201  0.004403  0.431708  0.997776  1.359600   \n",
       "918   gene_set_decrease  0.002460  0.004921  0.431708  0.997331  1.382906   \n",
       "327   gene_set_increase  0.003533  0.007067  0.431708  0.998221  1.582398   \n",
       "1140  gene_set_decrease  0.003570  0.007141  0.431708  0.999299  1.400503   \n",
       "\n",
       "      size     leadingEdge     lv  rep_idx       fdr  \n",
       "936      5   FBXW7, TCF7L2  LV520        6  0.967285  \n",
       "1560     5  UBE2J2, TCF7L2  LV801        6  0.967285  \n",
       "918      5   FBXW7, TCF7L2  LV512        2  0.967285  \n",
       "327      3    DGAT2, ACACA  LV246        6  0.967285  \n",
       "1140     5     PTEN, FBXW7  LV612        3  0.967285  "
      ]
     },
     "execution_count": 20,
     "metadata": {},
     "output_type": "execute_result"
    }
   ],
   "source": [
    "df.head()"
   ]
  },
  {
   "cell_type": "markdown",
   "metadata": {
    "papermill": {
     "duration": 0.012235,
     "end_time": "2021-07-16T16:23:43.619847",
     "exception": false,
     "start_time": "2021-07-16T16:23:43.607612",
     "status": "completed"
    },
    "tags": []
   },
   "source": [
    "# Save"
   ]
  },
  {
   "cell_type": "code",
   "execution_count": 21,
   "metadata": {
    "execution": {
     "iopub.execute_input": "2021-07-16T16:23:43.646155Z",
     "iopub.status.busy": "2021-07-16T16:23:43.645788Z",
     "iopub.status.idle": "2021-07-16T16:23:43.678663Z",
     "shell.execute_reply": "2021-07-16T16:23:43.678290Z"
    },
    "papermill": {
     "duration": 0.046861,
     "end_time": "2021-07-16T16:23:43.678749",
     "exception": false,
     "start_time": "2021-07-16T16:23:43.631888",
     "status": "completed"
    },
    "tags": []
   },
   "outputs": [],
   "source": [
    "# override the original file with adjusted p-values\n",
    "deg_enrich.to_csv(\n",
    "    FGSEA_INPUT_FILEPATH,\n",
    "    sep=\"\\t\",\n",
    "    index=False,\n",
    ")"
   ]
  },
  {
   "cell_type": "code",
   "execution_count": null,
   "metadata": {
    "papermill": {
     "duration": 0.012193,
     "end_time": "2021-07-16T16:23:43.703688",
     "exception": false,
     "start_time": "2021-07-16T16:23:43.691495",
     "status": "completed"
    },
    "tags": []
   },
   "outputs": [],
   "source": []
  }
 ],
 "metadata": {
  "jupytext": {
   "cell_metadata_filter": "all,-execution,-papermill,-trusted",
   "formats": "ipynb,py//py:percent"
  },
  "kernelspec": {
   "display_name": "Python 3 (ipykernel)",
   "language": "python",
   "name": "python3"
  },
  "language_info": {
   "codemirror_mode": {
    "name": "ipython",
    "version": 3
   },
   "file_extension": ".py",
   "mimetype": "text/x-python",
   "name": "python",
   "nbconvert_exporter": "python",
   "pygments_lexer": "ipython3",
   "version": "3.8.13"
  },
  "papermill": {
   "default_parameters": {},
   "duration": 2.908101,
   "end_time": "2021-07-16T16:23:44.023673",
   "environment_variables": {},
   "exception": null,
   "input_path": "30_validation/crispr_screen/020_15-hi_conf_deg_genes-gsea-pval_adjust.ipynb",
   "output_path": "30_validation/crispr_screen/020_15-hi_conf_deg_genes-gsea-pval_adjust.run.ipynb",
   "parameters": {},
   "start_time": "2021-07-16T16:23:41.115572",
   "version": "2.2.2"
  },
  "toc-autonumbering": true
 },
 "nbformat": 4,
 "nbformat_minor": 4
}
