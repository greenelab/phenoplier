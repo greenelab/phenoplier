{
 "cells": [
  {
   "cell_type": "markdown",
   "id": "nuclear-producer",
   "metadata": {},
   "source": [
    "# Description"
   ]
  },
  {
   "cell_type": "markdown",
   "id": "psychological-creator",
   "metadata": {},
   "source": [
    "TODO"
   ]
  },
  {
   "cell_type": "markdown",
   "id": "significant-madrid",
   "metadata": {},
   "source": [
    "# Modules"
   ]
  },
  {
   "cell_type": "code",
   "execution_count": 1,
   "id": "chronic-freeze",
   "metadata": {},
   "outputs": [],
   "source": [
    "from pathlib import Path\n",
    "import tempfile\n",
    "\n",
    "import numpy as np\n",
    "from scipy import stats\n",
    "import pandas as pd\n",
    "\n",
    "from entity import Trait, Gene\n",
    "import conf"
   ]
  },
  {
   "cell_type": "markdown",
   "id": "previous-burning",
   "metadata": {},
   "source": [
    "# Load gene module-gene membership matrix (matrix Z)"
   ]
  },
  {
   "cell_type": "code",
   "execution_count": 2,
   "id": "cooked-return",
   "metadata": {},
   "outputs": [],
   "source": [
    "matrix_z = pd.read_pickle(conf.MULTIPLIER[\"MODEL_Z_MATRIX_FILE\"])"
   ]
  },
  {
   "cell_type": "code",
   "execution_count": 3,
   "id": "greenhouse-disclaimer",
   "metadata": {},
   "outputs": [
    {
     "data": {
      "text/plain": [
       "(6750, 987)"
      ]
     },
     "execution_count": 3,
     "metadata": {},
     "output_type": "execute_result"
    }
   ],
   "source": [
    "matrix_z.shape"
   ]
  },
  {
   "cell_type": "code",
   "execution_count": 4,
   "id": "driving-standard",
   "metadata": {},
   "outputs": [
    {
     "data": {
      "text/html": [
       "<div>\n",
       "<style scoped>\n",
       "    .dataframe tbody tr th:only-of-type {\n",
       "        vertical-align: middle;\n",
       "    }\n",
       "\n",
       "    .dataframe tbody tr th {\n",
       "        vertical-align: top;\n",
       "    }\n",
       "\n",
       "    .dataframe thead th {\n",
       "        text-align: right;\n",
       "    }\n",
       "</style>\n",
       "<table border=\"1\" class=\"dataframe\">\n",
       "  <thead>\n",
       "    <tr style=\"text-align: right;\">\n",
       "      <th></th>\n",
       "      <th>LV1</th>\n",
       "      <th>LV2</th>\n",
       "      <th>LV3</th>\n",
       "      <th>LV4</th>\n",
       "      <th>LV5</th>\n",
       "      <th>LV6</th>\n",
       "      <th>LV7</th>\n",
       "      <th>LV8</th>\n",
       "      <th>LV9</th>\n",
       "      <th>LV10</th>\n",
       "      <th>...</th>\n",
       "      <th>LV978</th>\n",
       "      <th>LV979</th>\n",
       "      <th>LV980</th>\n",
       "      <th>LV981</th>\n",
       "      <th>LV982</th>\n",
       "      <th>LV983</th>\n",
       "      <th>LV984</th>\n",
       "      <th>LV985</th>\n",
       "      <th>LV986</th>\n",
       "      <th>LV987</th>\n",
       "    </tr>\n",
       "  </thead>\n",
       "  <tbody>\n",
       "    <tr>\n",
       "      <th>GAS6</th>\n",
       "      <td>0.000000</td>\n",
       "      <td>0.0</td>\n",
       "      <td>0.039438</td>\n",
       "      <td>0.0</td>\n",
       "      <td>0.050476</td>\n",
       "      <td>0.000000</td>\n",
       "      <td>0.0</td>\n",
       "      <td>0.000000</td>\n",
       "      <td>0.590949</td>\n",
       "      <td>0.000000</td>\n",
       "      <td>...</td>\n",
       "      <td>0.050125</td>\n",
       "      <td>0.00000</td>\n",
       "      <td>0.033407</td>\n",
       "      <td>0.000000</td>\n",
       "      <td>0.000000</td>\n",
       "      <td>0.005963</td>\n",
       "      <td>0.347362</td>\n",
       "      <td>0.0</td>\n",
       "      <td>0.000000</td>\n",
       "      <td>0.000000</td>\n",
       "    </tr>\n",
       "    <tr>\n",
       "      <th>MMP14</th>\n",
       "      <td>0.000000</td>\n",
       "      <td>0.0</td>\n",
       "      <td>0.000000</td>\n",
       "      <td>0.0</td>\n",
       "      <td>0.070072</td>\n",
       "      <td>0.000000</td>\n",
       "      <td>0.0</td>\n",
       "      <td>0.004904</td>\n",
       "      <td>1.720179</td>\n",
       "      <td>2.423595</td>\n",
       "      <td>...</td>\n",
       "      <td>0.000000</td>\n",
       "      <td>0.00000</td>\n",
       "      <td>0.001007</td>\n",
       "      <td>0.000000</td>\n",
       "      <td>0.035747</td>\n",
       "      <td>0.000000</td>\n",
       "      <td>0.000000</td>\n",
       "      <td>0.0</td>\n",
       "      <td>0.014978</td>\n",
       "      <td>0.000000</td>\n",
       "    </tr>\n",
       "    <tr>\n",
       "      <th>DSP</th>\n",
       "      <td>0.000000</td>\n",
       "      <td>0.0</td>\n",
       "      <td>0.000000</td>\n",
       "      <td>0.0</td>\n",
       "      <td>0.000000</td>\n",
       "      <td>0.041697</td>\n",
       "      <td>0.0</td>\n",
       "      <td>0.005718</td>\n",
       "      <td>0.000000</td>\n",
       "      <td>0.000000</td>\n",
       "      <td>...</td>\n",
       "      <td>0.020853</td>\n",
       "      <td>0.00000</td>\n",
       "      <td>0.000000</td>\n",
       "      <td>0.000000</td>\n",
       "      <td>0.000000</td>\n",
       "      <td>0.005774</td>\n",
       "      <td>0.000000</td>\n",
       "      <td>0.0</td>\n",
       "      <td>0.000000</td>\n",
       "      <td>0.416405</td>\n",
       "    </tr>\n",
       "    <tr>\n",
       "      <th>MARCKSL1</th>\n",
       "      <td>0.305212</td>\n",
       "      <td>0.0</td>\n",
       "      <td>0.000000</td>\n",
       "      <td>0.0</td>\n",
       "      <td>0.000000</td>\n",
       "      <td>0.000000</td>\n",
       "      <td>0.0</td>\n",
       "      <td>0.000000</td>\n",
       "      <td>0.161843</td>\n",
       "      <td>0.149471</td>\n",
       "      <td>...</td>\n",
       "      <td>0.027134</td>\n",
       "      <td>0.05272</td>\n",
       "      <td>0.000000</td>\n",
       "      <td>0.030189</td>\n",
       "      <td>0.060884</td>\n",
       "      <td>0.000000</td>\n",
       "      <td>0.000000</td>\n",
       "      <td>0.0</td>\n",
       "      <td>0.000000</td>\n",
       "      <td>0.448480</td>\n",
       "    </tr>\n",
       "    <tr>\n",
       "      <th>SPARC</th>\n",
       "      <td>0.000000</td>\n",
       "      <td>0.0</td>\n",
       "      <td>0.000000</td>\n",
       "      <td>0.0</td>\n",
       "      <td>0.000000</td>\n",
       "      <td>0.000000</td>\n",
       "      <td>0.0</td>\n",
       "      <td>0.000000</td>\n",
       "      <td>0.000000</td>\n",
       "      <td>0.014014</td>\n",
       "      <td>...</td>\n",
       "      <td>0.000000</td>\n",
       "      <td>0.00000</td>\n",
       "      <td>0.000000</td>\n",
       "      <td>0.000000</td>\n",
       "      <td>0.000000</td>\n",
       "      <td>0.000000</td>\n",
       "      <td>0.067779</td>\n",
       "      <td>0.0</td>\n",
       "      <td>0.122417</td>\n",
       "      <td>0.062665</td>\n",
       "    </tr>\n",
       "  </tbody>\n",
       "</table>\n",
       "<p>5 rows × 987 columns</p>\n",
       "</div>"
      ],
      "text/plain": [
       "               LV1  LV2       LV3  LV4       LV5       LV6  LV7       LV8  \\\n",
       "GAS6      0.000000  0.0  0.039438  0.0  0.050476  0.000000  0.0  0.000000   \n",
       "MMP14     0.000000  0.0  0.000000  0.0  0.070072  0.000000  0.0  0.004904   \n",
       "DSP       0.000000  0.0  0.000000  0.0  0.000000  0.041697  0.0  0.005718   \n",
       "MARCKSL1  0.305212  0.0  0.000000  0.0  0.000000  0.000000  0.0  0.000000   \n",
       "SPARC     0.000000  0.0  0.000000  0.0  0.000000  0.000000  0.0  0.000000   \n",
       "\n",
       "               LV9      LV10  ...     LV978    LV979     LV980     LV981  \\\n",
       "GAS6      0.590949  0.000000  ...  0.050125  0.00000  0.033407  0.000000   \n",
       "MMP14     1.720179  2.423595  ...  0.000000  0.00000  0.001007  0.000000   \n",
       "DSP       0.000000  0.000000  ...  0.020853  0.00000  0.000000  0.000000   \n",
       "MARCKSL1  0.161843  0.149471  ...  0.027134  0.05272  0.000000  0.030189   \n",
       "SPARC     0.000000  0.014014  ...  0.000000  0.00000  0.000000  0.000000   \n",
       "\n",
       "             LV982     LV983     LV984  LV985     LV986     LV987  \n",
       "GAS6      0.000000  0.005963  0.347362    0.0  0.000000  0.000000  \n",
       "MMP14     0.035747  0.000000  0.000000    0.0  0.014978  0.000000  \n",
       "DSP       0.000000  0.005774  0.000000    0.0  0.000000  0.416405  \n",
       "MARCKSL1  0.060884  0.000000  0.000000    0.0  0.000000  0.448480  \n",
       "SPARC     0.000000  0.000000  0.067779    0.0  0.122417  0.062665  \n",
       "\n",
       "[5 rows x 987 columns]"
      ]
     },
     "execution_count": 4,
     "metadata": {},
     "output_type": "execute_result"
    }
   ],
   "source": [
    "matrix_z.head()"
   ]
  },
  {
   "cell_type": "markdown",
   "id": "standing-drive",
   "metadata": {},
   "source": [
    "Matrix Z contains the membership value for each gene across all LVs (or gene modules).\n",
    "A value of zero means that the gene does not belong to that LV, whereas a larger value represents how strongly that gene belongs to the LV."
   ]
  },
  {
   "cell_type": "markdown",
   "id": "perfect-bracket",
   "metadata": {},
   "source": [
    "# Load information about LV alignment with pathways"
   ]
  },
  {
   "cell_type": "code",
   "execution_count": 5,
   "id": "junior-knock",
   "metadata": {},
   "outputs": [],
   "source": [
    "lv_metadata = pd.read_pickle(conf.MULTIPLIER[\"MODEL_SUMMARY_FILE\"])"
   ]
  },
  {
   "cell_type": "code",
   "execution_count": 6,
   "id": "everyday-ordinary",
   "metadata": {},
   "outputs": [
    {
     "data": {
      "text/plain": [
       "(2157, 5)"
      ]
     },
     "execution_count": 6,
     "metadata": {},
     "output_type": "execute_result"
    }
   ],
   "source": [
    "lv_metadata.shape"
   ]
  },
  {
   "cell_type": "code",
   "execution_count": 7,
   "id": "sunrise-anxiety",
   "metadata": {},
   "outputs": [
    {
     "data": {
      "text/html": [
       "<div>\n",
       "<style scoped>\n",
       "    .dataframe tbody tr th:only-of-type {\n",
       "        vertical-align: middle;\n",
       "    }\n",
       "\n",
       "    .dataframe tbody tr th {\n",
       "        vertical-align: top;\n",
       "    }\n",
       "\n",
       "    .dataframe thead th {\n",
       "        text-align: right;\n",
       "    }\n",
       "</style>\n",
       "<table border=\"1\" class=\"dataframe\">\n",
       "  <thead>\n",
       "    <tr style=\"text-align: right;\">\n",
       "      <th></th>\n",
       "      <th>pathway</th>\n",
       "      <th>LV index</th>\n",
       "      <th>AUC</th>\n",
       "      <th>p-value</th>\n",
       "      <th>FDR</th>\n",
       "    </tr>\n",
       "  </thead>\n",
       "  <tbody>\n",
       "    <tr>\n",
       "      <th>1</th>\n",
       "      <td>KEGG_LYSINE_DEGRADATION</td>\n",
       "      <td>1</td>\n",
       "      <td>0.388059</td>\n",
       "      <td>0.866078</td>\n",
       "      <td>0.956005</td>\n",
       "    </tr>\n",
       "    <tr>\n",
       "      <th>2</th>\n",
       "      <td>REACTOME_MRNA_SPLICING</td>\n",
       "      <td>1</td>\n",
       "      <td>0.733057</td>\n",
       "      <td>0.000048</td>\n",
       "      <td>0.000582</td>\n",
       "    </tr>\n",
       "    <tr>\n",
       "      <th>3</th>\n",
       "      <td>MIPS_NOP56P_ASSOCIATED_PRE_RRNA_COMPLEX</td>\n",
       "      <td>1</td>\n",
       "      <td>0.680555</td>\n",
       "      <td>0.001628</td>\n",
       "      <td>0.011366</td>\n",
       "    </tr>\n",
       "    <tr>\n",
       "      <th>4</th>\n",
       "      <td>KEGG_DNA_REPLICATION</td>\n",
       "      <td>1</td>\n",
       "      <td>0.549473</td>\n",
       "      <td>0.312155</td>\n",
       "      <td>0.539951</td>\n",
       "    </tr>\n",
       "    <tr>\n",
       "      <th>5</th>\n",
       "      <td>PID_MYC_ACTIVPATHWAY</td>\n",
       "      <td>1</td>\n",
       "      <td>0.639303</td>\n",
       "      <td>0.021702</td>\n",
       "      <td>0.083739</td>\n",
       "    </tr>\n",
       "  </tbody>\n",
       "</table>\n",
       "</div>"
      ],
      "text/plain": [
       "                                   pathway LV index       AUC   p-value  \\\n",
       "1                  KEGG_LYSINE_DEGRADATION        1  0.388059  0.866078   \n",
       "2                   REACTOME_MRNA_SPLICING        1  0.733057  0.000048   \n",
       "3  MIPS_NOP56P_ASSOCIATED_PRE_RRNA_COMPLEX        1  0.680555  0.001628   \n",
       "4                     KEGG_DNA_REPLICATION        1  0.549473  0.312155   \n",
       "5                     PID_MYC_ACTIVPATHWAY        1  0.639303  0.021702   \n",
       "\n",
       "        FDR  \n",
       "1  0.956005  \n",
       "2  0.000582  \n",
       "3  0.011366  \n",
       "4  0.539951  \n",
       "5  0.083739  "
      ]
     },
     "execution_count": 7,
     "metadata": {},
     "output_type": "execute_result"
    }
   ],
   "source": [
    "lv_metadata.head()"
   ]
  },
  {
   "cell_type": "markdown",
   "id": "accompanied-canada",
   "metadata": {},
   "source": [
    "# Load GWAS information"
   ]
  },
  {
   "cell_type": "code",
   "execution_count": 8,
   "id": "inside-rebecca",
   "metadata": {},
   "outputs": [],
   "source": [
    "gwas_info = pd.read_csv(conf.PHENOMEXCAN[\"RAPID_GWAS_PHENO_INFO_FILE\"], sep=\"\\t\")"
   ]
  },
  {
   "cell_type": "code",
   "execution_count": 9,
   "id": "authentic-parallel",
   "metadata": {},
   "outputs": [
    {
     "data": {
      "text/html": [
       "<div>\n",
       "<style scoped>\n",
       "    .dataframe tbody tr th:only-of-type {\n",
       "        vertical-align: middle;\n",
       "    }\n",
       "\n",
       "    .dataframe tbody tr th {\n",
       "        vertical-align: top;\n",
       "    }\n",
       "\n",
       "    .dataframe thead th {\n",
       "        text-align: right;\n",
       "    }\n",
       "</style>\n",
       "<table border=\"1\" class=\"dataframe\">\n",
       "  <thead>\n",
       "    <tr style=\"text-align: right;\">\n",
       "      <th></th>\n",
       "      <th>phenotype</th>\n",
       "      <th>description</th>\n",
       "      <th>variable_type</th>\n",
       "      <th>source</th>\n",
       "      <th>n_non_missing</th>\n",
       "      <th>n_missing</th>\n",
       "      <th>n_controls</th>\n",
       "      <th>n_cases</th>\n",
       "      <th>PHESANT_transformation</th>\n",
       "      <th>notes</th>\n",
       "    </tr>\n",
       "  </thead>\n",
       "  <tbody>\n",
       "    <tr>\n",
       "      <th>0</th>\n",
       "      <td>G54</td>\n",
       "      <td>Diagnoses - main ICD10: G54 Nerve root and ple...</td>\n",
       "      <td>categorical</td>\n",
       "      <td>icd10</td>\n",
       "      <td>361194</td>\n",
       "      <td>0</td>\n",
       "      <td>361051.0</td>\n",
       "      <td>143.0</td>\n",
       "      <td>NaN</td>\n",
       "      <td>NaN</td>\n",
       "    </tr>\n",
       "    <tr>\n",
       "      <th>1</th>\n",
       "      <td>C21</td>\n",
       "      <td>Diagnoses - main ICD10: C21 Malignant neoplasm...</td>\n",
       "      <td>categorical</td>\n",
       "      <td>icd10</td>\n",
       "      <td>361194</td>\n",
       "      <td>0</td>\n",
       "      <td>361055.0</td>\n",
       "      <td>139.0</td>\n",
       "      <td>NaN</td>\n",
       "      <td>NaN</td>\n",
       "    </tr>\n",
       "    <tr>\n",
       "      <th>2</th>\n",
       "      <td>F45</td>\n",
       "      <td>Diagnoses - main ICD10: F45 Somatoform disorders</td>\n",
       "      <td>categorical</td>\n",
       "      <td>icd10</td>\n",
       "      <td>361194</td>\n",
       "      <td>0</td>\n",
       "      <td>360953.0</td>\n",
       "      <td>241.0</td>\n",
       "      <td>NaN</td>\n",
       "      <td>NaN</td>\n",
       "    </tr>\n",
       "    <tr>\n",
       "      <th>3</th>\n",
       "      <td>I35</td>\n",
       "      <td>Diagnoses - main ICD10: I35 Nonrheumatic aorti...</td>\n",
       "      <td>categorical</td>\n",
       "      <td>icd10</td>\n",
       "      <td>361194</td>\n",
       "      <td>0</td>\n",
       "      <td>360293.0</td>\n",
       "      <td>901.0</td>\n",
       "      <td>NaN</td>\n",
       "      <td>NaN</td>\n",
       "    </tr>\n",
       "    <tr>\n",
       "      <th>4</th>\n",
       "      <td>D38</td>\n",
       "      <td>Diagnoses - main ICD10: D38 Neoplasm of uncert...</td>\n",
       "      <td>categorical</td>\n",
       "      <td>icd10</td>\n",
       "      <td>361194</td>\n",
       "      <td>0</td>\n",
       "      <td>361087.0</td>\n",
       "      <td>107.0</td>\n",
       "      <td>NaN</td>\n",
       "      <td>NaN</td>\n",
       "    </tr>\n",
       "  </tbody>\n",
       "</table>\n",
       "</div>"
      ],
      "text/plain": [
       "  phenotype                                        description variable_type  \\\n",
       "0       G54  Diagnoses - main ICD10: G54 Nerve root and ple...   categorical   \n",
       "1       C21  Diagnoses - main ICD10: C21 Malignant neoplasm...   categorical   \n",
       "2       F45   Diagnoses - main ICD10: F45 Somatoform disorders   categorical   \n",
       "3       I35  Diagnoses - main ICD10: I35 Nonrheumatic aorti...   categorical   \n",
       "4       D38  Diagnoses - main ICD10: D38 Neoplasm of uncert...   categorical   \n",
       "\n",
       "  source  n_non_missing  n_missing  n_controls  n_cases  \\\n",
       "0  icd10         361194          0    361051.0    143.0   \n",
       "1  icd10         361194          0    361055.0    139.0   \n",
       "2  icd10         361194          0    360953.0    241.0   \n",
       "3  icd10         361194          0    360293.0    901.0   \n",
       "4  icd10         361194          0    361087.0    107.0   \n",
       "\n",
       "  PHESANT_transformation notes  \n",
       "0                    NaN   NaN  \n",
       "1                    NaN   NaN  \n",
       "2                    NaN   NaN  \n",
       "3                    NaN   NaN  \n",
       "4                    NaN   NaN  "
      ]
     },
     "execution_count": 9,
     "metadata": {},
     "output_type": "execute_result"
    }
   ],
   "source": [
    "gwas_info.head()"
   ]
  },
  {
   "cell_type": "markdown",
   "id": "ongoing-magazine",
   "metadata": {},
   "source": [
    "# Load gene associations"
   ]
  },
  {
   "cell_type": "code",
   "execution_count": 10,
   "id": "tight-drain",
   "metadata": {},
   "outputs": [],
   "source": [
    "# FIXME: LINK PHENOMEXCAN PAPER AND EXPLAIN BRIEFLY WHAT ARE THESE RESULTS\n",
    "# MENTION TWAS AND LINK MULTIXCAN PAPER"
   ]
  },
  {
   "cell_type": "code",
   "execution_count": 11,
   "id": "legendary-talent",
   "metadata": {},
   "outputs": [],
   "source": [
    "phenomexcan_df = pd.read_pickle(conf.PHENOMEXCAN[\"SMULTIXCAN_MASHR_PVALUES_FILE\"])"
   ]
  },
  {
   "cell_type": "code",
   "execution_count": 12,
   "id": "broad-density",
   "metadata": {},
   "outputs": [
    {
     "data": {
      "text/plain": [
       "(22515, 4091)"
      ]
     },
     "execution_count": 12,
     "metadata": {},
     "output_type": "execute_result"
    }
   ],
   "source": [
    "phenomexcan_df.shape"
   ]
  },
  {
   "cell_type": "code",
   "execution_count": 13,
   "id": "executive-projection",
   "metadata": {},
   "outputs": [
    {
     "data": {
      "text/html": [
       "<div>\n",
       "<style scoped>\n",
       "    .dataframe tbody tr th:only-of-type {\n",
       "        vertical-align: middle;\n",
       "    }\n",
       "\n",
       "    .dataframe tbody tr th {\n",
       "        vertical-align: top;\n",
       "    }\n",
       "\n",
       "    .dataframe thead th {\n",
       "        text-align: right;\n",
       "    }\n",
       "</style>\n",
       "<table border=\"1\" class=\"dataframe\">\n",
       "  <thead>\n",
       "    <tr style=\"text-align: right;\">\n",
       "      <th></th>\n",
       "      <th>20096_1-Size_of_red_wine_glass_drunk_small_125ml</th>\n",
       "      <th>2345-Ever_had_bowel_cancer_screening</th>\n",
       "      <th>N49-Diagnoses_main_ICD10_N49_Inflammatory_disorders_of_male_genital_organs_not_elsewhere_classified</th>\n",
       "      <th>100011_raw-Iron</th>\n",
       "      <th>5221-Index_of_best_refractometry_result_right</th>\n",
       "      <th>20003_1141150624-Treatmentmedication_code_zomig_25mg_tablet</th>\n",
       "      <th>S69-Diagnoses_main_ICD10_S69_Other_and_unspecified_injuries_of_wrist_and_hand</th>\n",
       "      <th>20024_1136-Job_code_deduced_Information_and_communication_technology_managers</th>\n",
       "      <th>20002_1385-Noncancer_illness_code_selfreported_allergy_or_anaphylactic_reaction_to_food</th>\n",
       "      <th>G6_SLEEPAPNO-Sleep_apnoea</th>\n",
       "      <th>...</th>\n",
       "      <th>Astle_et_al_2016_Sum_basophil_neutrophil_counts</th>\n",
       "      <th>RA_OKADA_TRANS_ETHNIC</th>\n",
       "      <th>pgc.scz2</th>\n",
       "      <th>PGC_ADHD_EUR_2017</th>\n",
       "      <th>MAGIC_FastingGlucose</th>\n",
       "      <th>Astle_et_al_2016_Red_blood_cell_count</th>\n",
       "      <th>SSGAC_Depressive_Symptoms</th>\n",
       "      <th>BCAC_ER_positive_BreastCancer_EUR</th>\n",
       "      <th>IBD.EUR.Inflammatory_Bowel_Disease</th>\n",
       "      <th>Astle_et_al_2016_High_light_scatter_reticulocyte_count</th>\n",
       "    </tr>\n",
       "    <tr>\n",
       "      <th>gene_name</th>\n",
       "      <th></th>\n",
       "      <th></th>\n",
       "      <th></th>\n",
       "      <th></th>\n",
       "      <th></th>\n",
       "      <th></th>\n",
       "      <th></th>\n",
       "      <th></th>\n",
       "      <th></th>\n",
       "      <th></th>\n",
       "      <th></th>\n",
       "      <th></th>\n",
       "      <th></th>\n",
       "      <th></th>\n",
       "      <th></th>\n",
       "      <th></th>\n",
       "      <th></th>\n",
       "      <th></th>\n",
       "      <th></th>\n",
       "      <th></th>\n",
       "      <th></th>\n",
       "    </tr>\n",
       "  </thead>\n",
       "  <tbody>\n",
       "    <tr>\n",
       "      <th>ENSG00000000419</th>\n",
       "      <td>0.865429</td>\n",
       "      <td>0.918314</td>\n",
       "      <td>0.810683</td>\n",
       "      <td>0.374671</td>\n",
       "      <td>0.189032</td>\n",
       "      <td>0.140981</td>\n",
       "      <td>0.467741</td>\n",
       "      <td>0.129427</td>\n",
       "      <td>0.193680</td>\n",
       "      <td>0.285479</td>\n",
       "      <td>...</td>\n",
       "      <td>0.416210</td>\n",
       "      <td>0.782554</td>\n",
       "      <td>0.609467</td>\n",
       "      <td>0.980281</td>\n",
       "      <td>0.666504</td>\n",
       "      <td>0.409761</td>\n",
       "      <td>0.713310</td>\n",
       "      <td>0.168319</td>\n",
       "      <td>0.460244</td>\n",
       "      <td>0.765506</td>\n",
       "    </tr>\n",
       "    <tr>\n",
       "      <th>ENSG00000000457</th>\n",
       "      <td>0.174192</td>\n",
       "      <td>0.064765</td>\n",
       "      <td>0.889194</td>\n",
       "      <td>0.896938</td>\n",
       "      <td>0.448596</td>\n",
       "      <td>0.269602</td>\n",
       "      <td>0.540261</td>\n",
       "      <td>0.068405</td>\n",
       "      <td>0.041813</td>\n",
       "      <td>0.313427</td>\n",
       "      <td>...</td>\n",
       "      <td>0.149360</td>\n",
       "      <td>0.512603</td>\n",
       "      <td>0.010907</td>\n",
       "      <td>0.228982</td>\n",
       "      <td>0.607081</td>\n",
       "      <td>0.812484</td>\n",
       "      <td>0.678749</td>\n",
       "      <td>0.918971</td>\n",
       "      <td>0.311187</td>\n",
       "      <td>0.344574</td>\n",
       "    </tr>\n",
       "    <tr>\n",
       "      <th>ENSG00000000460</th>\n",
       "      <td>0.879969</td>\n",
       "      <td>0.240715</td>\n",
       "      <td>0.238228</td>\n",
       "      <td>0.567555</td>\n",
       "      <td>0.921320</td>\n",
       "      <td>0.825036</td>\n",
       "      <td>0.782230</td>\n",
       "      <td>0.644525</td>\n",
       "      <td>0.392273</td>\n",
       "      <td>0.840014</td>\n",
       "      <td>...</td>\n",
       "      <td>0.503520</td>\n",
       "      <td>0.764147</td>\n",
       "      <td>0.587969</td>\n",
       "      <td>0.301460</td>\n",
       "      <td>0.629621</td>\n",
       "      <td>0.486664</td>\n",
       "      <td>0.736509</td>\n",
       "      <td>0.933600</td>\n",
       "      <td>0.000477</td>\n",
       "      <td>0.321223</td>\n",
       "    </tr>\n",
       "    <tr>\n",
       "      <th>ENSG00000000938</th>\n",
       "      <td>0.192670</td>\n",
       "      <td>0.400054</td>\n",
       "      <td>0.114353</td>\n",
       "      <td>0.470700</td>\n",
       "      <td>0.889202</td>\n",
       "      <td>0.000011</td>\n",
       "      <td>0.899764</td>\n",
       "      <td>0.212352</td>\n",
       "      <td>0.829671</td>\n",
       "      <td>0.372348</td>\n",
       "      <td>...</td>\n",
       "      <td>0.899212</td>\n",
       "      <td>0.961678</td>\n",
       "      <td>0.059247</td>\n",
       "      <td>0.588855</td>\n",
       "      <td>0.898525</td>\n",
       "      <td>0.135045</td>\n",
       "      <td>0.954998</td>\n",
       "      <td>0.088220</td>\n",
       "      <td>0.176497</td>\n",
       "      <td>0.304281</td>\n",
       "    </tr>\n",
       "    <tr>\n",
       "      <th>ENSG00000000971</th>\n",
       "      <td>0.180632</td>\n",
       "      <td>0.793060</td>\n",
       "      <td>0.490585</td>\n",
       "      <td>0.088752</td>\n",
       "      <td>0.744531</td>\n",
       "      <td>0.949639</td>\n",
       "      <td>0.253817</td>\n",
       "      <td>0.377408</td>\n",
       "      <td>0.971655</td>\n",
       "      <td>0.070266</td>\n",
       "      <td>...</td>\n",
       "      <td>0.390618</td>\n",
       "      <td>0.093824</td>\n",
       "      <td>0.020391</td>\n",
       "      <td>0.109883</td>\n",
       "      <td>0.870551</td>\n",
       "      <td>0.995450</td>\n",
       "      <td>0.002660</td>\n",
       "      <td>0.421588</td>\n",
       "      <td>0.656851</td>\n",
       "      <td>0.868416</td>\n",
       "    </tr>\n",
       "  </tbody>\n",
       "</table>\n",
       "<p>5 rows × 4091 columns</p>\n",
       "</div>"
      ],
      "text/plain": [
       "                 20096_1-Size_of_red_wine_glass_drunk_small_125ml  \\\n",
       "gene_name                                                           \n",
       "ENSG00000000419                                          0.865429   \n",
       "ENSG00000000457                                          0.174192   \n",
       "ENSG00000000460                                          0.879969   \n",
       "ENSG00000000938                                          0.192670   \n",
       "ENSG00000000971                                          0.180632   \n",
       "\n",
       "                 2345-Ever_had_bowel_cancer_screening  \\\n",
       "gene_name                                               \n",
       "ENSG00000000419                              0.918314   \n",
       "ENSG00000000457                              0.064765   \n",
       "ENSG00000000460                              0.240715   \n",
       "ENSG00000000938                              0.400054   \n",
       "ENSG00000000971                              0.793060   \n",
       "\n",
       "                 N49-Diagnoses_main_ICD10_N49_Inflammatory_disorders_of_male_genital_organs_not_elsewhere_classified  \\\n",
       "gene_name                                                                                                              \n",
       "ENSG00000000419                                           0.810683                                                     \n",
       "ENSG00000000457                                           0.889194                                                     \n",
       "ENSG00000000460                                           0.238228                                                     \n",
       "ENSG00000000938                                           0.114353                                                     \n",
       "ENSG00000000971                                           0.490585                                                     \n",
       "\n",
       "                 100011_raw-Iron  \\\n",
       "gene_name                          \n",
       "ENSG00000000419         0.374671   \n",
       "ENSG00000000457         0.896938   \n",
       "ENSG00000000460         0.567555   \n",
       "ENSG00000000938         0.470700   \n",
       "ENSG00000000971         0.088752   \n",
       "\n",
       "                 5221-Index_of_best_refractometry_result_right  \\\n",
       "gene_name                                                        \n",
       "ENSG00000000419                                       0.189032   \n",
       "ENSG00000000457                                       0.448596   \n",
       "ENSG00000000460                                       0.921320   \n",
       "ENSG00000000938                                       0.889202   \n",
       "ENSG00000000971                                       0.744531   \n",
       "\n",
       "                 20003_1141150624-Treatmentmedication_code_zomig_25mg_tablet  \\\n",
       "gene_name                                                                      \n",
       "ENSG00000000419                                           0.140981             \n",
       "ENSG00000000457                                           0.269602             \n",
       "ENSG00000000460                                           0.825036             \n",
       "ENSG00000000938                                           0.000011             \n",
       "ENSG00000000971                                           0.949639             \n",
       "\n",
       "                 S69-Diagnoses_main_ICD10_S69_Other_and_unspecified_injuries_of_wrist_and_hand  \\\n",
       "gene_name                                                                                        \n",
       "ENSG00000000419                                           0.467741                               \n",
       "ENSG00000000457                                           0.540261                               \n",
       "ENSG00000000460                                           0.782230                               \n",
       "ENSG00000000938                                           0.899764                               \n",
       "ENSG00000000971                                           0.253817                               \n",
       "\n",
       "                 20024_1136-Job_code_deduced_Information_and_communication_technology_managers  \\\n",
       "gene_name                                                                                        \n",
       "ENSG00000000419                                           0.129427                               \n",
       "ENSG00000000457                                           0.068405                               \n",
       "ENSG00000000460                                           0.644525                               \n",
       "ENSG00000000938                                           0.212352                               \n",
       "ENSG00000000971                                           0.377408                               \n",
       "\n",
       "                 20002_1385-Noncancer_illness_code_selfreported_allergy_or_anaphylactic_reaction_to_food  \\\n",
       "gene_name                                                                                                  \n",
       "ENSG00000000419                                           0.193680                                         \n",
       "ENSG00000000457                                           0.041813                                         \n",
       "ENSG00000000460                                           0.392273                                         \n",
       "ENSG00000000938                                           0.829671                                         \n",
       "ENSG00000000971                                           0.971655                                         \n",
       "\n",
       "                 G6_SLEEPAPNO-Sleep_apnoea  ...  \\\n",
       "gene_name                                   ...   \n",
       "ENSG00000000419                   0.285479  ...   \n",
       "ENSG00000000457                   0.313427  ...   \n",
       "ENSG00000000460                   0.840014  ...   \n",
       "ENSG00000000938                   0.372348  ...   \n",
       "ENSG00000000971                   0.070266  ...   \n",
       "\n",
       "                 Astle_et_al_2016_Sum_basophil_neutrophil_counts  \\\n",
       "gene_name                                                          \n",
       "ENSG00000000419                                         0.416210   \n",
       "ENSG00000000457                                         0.149360   \n",
       "ENSG00000000460                                         0.503520   \n",
       "ENSG00000000938                                         0.899212   \n",
       "ENSG00000000971                                         0.390618   \n",
       "\n",
       "                 RA_OKADA_TRANS_ETHNIC  pgc.scz2  PGC_ADHD_EUR_2017  \\\n",
       "gene_name                                                             \n",
       "ENSG00000000419               0.782554  0.609467           0.980281   \n",
       "ENSG00000000457               0.512603  0.010907           0.228982   \n",
       "ENSG00000000460               0.764147  0.587969           0.301460   \n",
       "ENSG00000000938               0.961678  0.059247           0.588855   \n",
       "ENSG00000000971               0.093824  0.020391           0.109883   \n",
       "\n",
       "                 MAGIC_FastingGlucose  Astle_et_al_2016_Red_blood_cell_count  \\\n",
       "gene_name                                                                      \n",
       "ENSG00000000419              0.666504                               0.409761   \n",
       "ENSG00000000457              0.607081                               0.812484   \n",
       "ENSG00000000460              0.629621                               0.486664   \n",
       "ENSG00000000938              0.898525                               0.135045   \n",
       "ENSG00000000971              0.870551                               0.995450   \n",
       "\n",
       "                 SSGAC_Depressive_Symptoms  BCAC_ER_positive_BreastCancer_EUR  \\\n",
       "gene_name                                                                       \n",
       "ENSG00000000419                   0.713310                           0.168319   \n",
       "ENSG00000000457                   0.678749                           0.918971   \n",
       "ENSG00000000460                   0.736509                           0.933600   \n",
       "ENSG00000000938                   0.954998                           0.088220   \n",
       "ENSG00000000971                   0.002660                           0.421588   \n",
       "\n",
       "                 IBD.EUR.Inflammatory_Bowel_Disease  \\\n",
       "gene_name                                             \n",
       "ENSG00000000419                            0.460244   \n",
       "ENSG00000000457                            0.311187   \n",
       "ENSG00000000460                            0.000477   \n",
       "ENSG00000000938                            0.176497   \n",
       "ENSG00000000971                            0.656851   \n",
       "\n",
       "                 Astle_et_al_2016_High_light_scatter_reticulocyte_count  \n",
       "gene_name                                                                \n",
       "ENSG00000000419                                           0.765506       \n",
       "ENSG00000000457                                           0.344574       \n",
       "ENSG00000000460                                           0.321223       \n",
       "ENSG00000000938                                           0.304281       \n",
       "ENSG00000000971                                           0.868416       \n",
       "\n",
       "[5 rows x 4091 columns]"
      ]
     },
     "execution_count": 13,
     "metadata": {},
     "output_type": "execute_result"
    }
   ],
   "source": [
    "phenomexcan_df.head()"
   ]
  },
  {
   "cell_type": "markdown",
   "id": "stable-impossible",
   "metadata": {},
   "source": [
    "Let's convert gene Ensembl IDs to symbols:"
   ]
  },
  {
   "cell_type": "code",
   "execution_count": 14,
   "id": "cheap-contribution",
   "metadata": {},
   "outputs": [],
   "source": [
    "phenomexcan_df = phenomexcan_df.rename(index=Gene.GENE_ID_TO_NAME_MAP)"
   ]
  },
  {
   "cell_type": "code",
   "execution_count": 15,
   "id": "common-return",
   "metadata": {},
   "outputs": [],
   "source": [
    "phenomexcan_df = phenomexcan_df.loc[~phenomexcan_df.index.duplicated()]"
   ]
  },
  {
   "cell_type": "code",
   "execution_count": 16,
   "id": "concrete-leader",
   "metadata": {},
   "outputs": [
    {
     "data": {
      "text/html": [
       "<div>\n",
       "<style scoped>\n",
       "    .dataframe tbody tr th:only-of-type {\n",
       "        vertical-align: middle;\n",
       "    }\n",
       "\n",
       "    .dataframe tbody tr th {\n",
       "        vertical-align: top;\n",
       "    }\n",
       "\n",
       "    .dataframe thead th {\n",
       "        text-align: right;\n",
       "    }\n",
       "</style>\n",
       "<table border=\"1\" class=\"dataframe\">\n",
       "  <thead>\n",
       "    <tr style=\"text-align: right;\">\n",
       "      <th></th>\n",
       "      <th>20096_1-Size_of_red_wine_glass_drunk_small_125ml</th>\n",
       "      <th>2345-Ever_had_bowel_cancer_screening</th>\n",
       "      <th>N49-Diagnoses_main_ICD10_N49_Inflammatory_disorders_of_male_genital_organs_not_elsewhere_classified</th>\n",
       "      <th>100011_raw-Iron</th>\n",
       "      <th>5221-Index_of_best_refractometry_result_right</th>\n",
       "      <th>20003_1141150624-Treatmentmedication_code_zomig_25mg_tablet</th>\n",
       "      <th>S69-Diagnoses_main_ICD10_S69_Other_and_unspecified_injuries_of_wrist_and_hand</th>\n",
       "      <th>20024_1136-Job_code_deduced_Information_and_communication_technology_managers</th>\n",
       "      <th>20002_1385-Noncancer_illness_code_selfreported_allergy_or_anaphylactic_reaction_to_food</th>\n",
       "      <th>G6_SLEEPAPNO-Sleep_apnoea</th>\n",
       "      <th>...</th>\n",
       "      <th>Astle_et_al_2016_Sum_basophil_neutrophil_counts</th>\n",
       "      <th>RA_OKADA_TRANS_ETHNIC</th>\n",
       "      <th>pgc.scz2</th>\n",
       "      <th>PGC_ADHD_EUR_2017</th>\n",
       "      <th>MAGIC_FastingGlucose</th>\n",
       "      <th>Astle_et_al_2016_Red_blood_cell_count</th>\n",
       "      <th>SSGAC_Depressive_Symptoms</th>\n",
       "      <th>BCAC_ER_positive_BreastCancer_EUR</th>\n",
       "      <th>IBD.EUR.Inflammatory_Bowel_Disease</th>\n",
       "      <th>Astle_et_al_2016_High_light_scatter_reticulocyte_count</th>\n",
       "    </tr>\n",
       "    <tr>\n",
       "      <th>gene_name</th>\n",
       "      <th></th>\n",
       "      <th></th>\n",
       "      <th></th>\n",
       "      <th></th>\n",
       "      <th></th>\n",
       "      <th></th>\n",
       "      <th></th>\n",
       "      <th></th>\n",
       "      <th></th>\n",
       "      <th></th>\n",
       "      <th></th>\n",
       "      <th></th>\n",
       "      <th></th>\n",
       "      <th></th>\n",
       "      <th></th>\n",
       "      <th></th>\n",
       "      <th></th>\n",
       "      <th></th>\n",
       "      <th></th>\n",
       "      <th></th>\n",
       "      <th></th>\n",
       "    </tr>\n",
       "  </thead>\n",
       "  <tbody>\n",
       "    <tr>\n",
       "      <th>DPM1</th>\n",
       "      <td>0.865429</td>\n",
       "      <td>0.918314</td>\n",
       "      <td>0.810683</td>\n",
       "      <td>0.374671</td>\n",
       "      <td>0.189032</td>\n",
       "      <td>0.140981</td>\n",
       "      <td>0.467741</td>\n",
       "      <td>0.129427</td>\n",
       "      <td>0.193680</td>\n",
       "      <td>0.285479</td>\n",
       "      <td>...</td>\n",
       "      <td>0.416210</td>\n",
       "      <td>0.782554</td>\n",
       "      <td>0.609467</td>\n",
       "      <td>0.980281</td>\n",
       "      <td>0.666504</td>\n",
       "      <td>0.409761</td>\n",
       "      <td>0.713310</td>\n",
       "      <td>0.168319</td>\n",
       "      <td>0.460244</td>\n",
       "      <td>0.765506</td>\n",
       "    </tr>\n",
       "    <tr>\n",
       "      <th>SCYL3</th>\n",
       "      <td>0.174192</td>\n",
       "      <td>0.064765</td>\n",
       "      <td>0.889194</td>\n",
       "      <td>0.896938</td>\n",
       "      <td>0.448596</td>\n",
       "      <td>0.269602</td>\n",
       "      <td>0.540261</td>\n",
       "      <td>0.068405</td>\n",
       "      <td>0.041813</td>\n",
       "      <td>0.313427</td>\n",
       "      <td>...</td>\n",
       "      <td>0.149360</td>\n",
       "      <td>0.512603</td>\n",
       "      <td>0.010907</td>\n",
       "      <td>0.228982</td>\n",
       "      <td>0.607081</td>\n",
       "      <td>0.812484</td>\n",
       "      <td>0.678749</td>\n",
       "      <td>0.918971</td>\n",
       "      <td>0.311187</td>\n",
       "      <td>0.344574</td>\n",
       "    </tr>\n",
       "    <tr>\n",
       "      <th>C1orf112</th>\n",
       "      <td>0.879969</td>\n",
       "      <td>0.240715</td>\n",
       "      <td>0.238228</td>\n",
       "      <td>0.567555</td>\n",
       "      <td>0.921320</td>\n",
       "      <td>0.825036</td>\n",
       "      <td>0.782230</td>\n",
       "      <td>0.644525</td>\n",
       "      <td>0.392273</td>\n",
       "      <td>0.840014</td>\n",
       "      <td>...</td>\n",
       "      <td>0.503520</td>\n",
       "      <td>0.764147</td>\n",
       "      <td>0.587969</td>\n",
       "      <td>0.301460</td>\n",
       "      <td>0.629621</td>\n",
       "      <td>0.486664</td>\n",
       "      <td>0.736509</td>\n",
       "      <td>0.933600</td>\n",
       "      <td>0.000477</td>\n",
       "      <td>0.321223</td>\n",
       "    </tr>\n",
       "    <tr>\n",
       "      <th>FGR</th>\n",
       "      <td>0.192670</td>\n",
       "      <td>0.400054</td>\n",
       "      <td>0.114353</td>\n",
       "      <td>0.470700</td>\n",
       "      <td>0.889202</td>\n",
       "      <td>0.000011</td>\n",
       "      <td>0.899764</td>\n",
       "      <td>0.212352</td>\n",
       "      <td>0.829671</td>\n",
       "      <td>0.372348</td>\n",
       "      <td>...</td>\n",
       "      <td>0.899212</td>\n",
       "      <td>0.961678</td>\n",
       "      <td>0.059247</td>\n",
       "      <td>0.588855</td>\n",
       "      <td>0.898525</td>\n",
       "      <td>0.135045</td>\n",
       "      <td>0.954998</td>\n",
       "      <td>0.088220</td>\n",
       "      <td>0.176497</td>\n",
       "      <td>0.304281</td>\n",
       "    </tr>\n",
       "    <tr>\n",
       "      <th>CFH</th>\n",
       "      <td>0.180632</td>\n",
       "      <td>0.793060</td>\n",
       "      <td>0.490585</td>\n",
       "      <td>0.088752</td>\n",
       "      <td>0.744531</td>\n",
       "      <td>0.949639</td>\n",
       "      <td>0.253817</td>\n",
       "      <td>0.377408</td>\n",
       "      <td>0.971655</td>\n",
       "      <td>0.070266</td>\n",
       "      <td>...</td>\n",
       "      <td>0.390618</td>\n",
       "      <td>0.093824</td>\n",
       "      <td>0.020391</td>\n",
       "      <td>0.109883</td>\n",
       "      <td>0.870551</td>\n",
       "      <td>0.995450</td>\n",
       "      <td>0.002660</td>\n",
       "      <td>0.421588</td>\n",
       "      <td>0.656851</td>\n",
       "      <td>0.868416</td>\n",
       "    </tr>\n",
       "  </tbody>\n",
       "</table>\n",
       "<p>5 rows × 4091 columns</p>\n",
       "</div>"
      ],
      "text/plain": [
       "           20096_1-Size_of_red_wine_glass_drunk_small_125ml  \\\n",
       "gene_name                                                     \n",
       "DPM1                                               0.865429   \n",
       "SCYL3                                              0.174192   \n",
       "C1orf112                                           0.879969   \n",
       "FGR                                                0.192670   \n",
       "CFH                                                0.180632   \n",
       "\n",
       "           2345-Ever_had_bowel_cancer_screening  \\\n",
       "gene_name                                         \n",
       "DPM1                                   0.918314   \n",
       "SCYL3                                  0.064765   \n",
       "C1orf112                               0.240715   \n",
       "FGR                                    0.400054   \n",
       "CFH                                    0.793060   \n",
       "\n",
       "           N49-Diagnoses_main_ICD10_N49_Inflammatory_disorders_of_male_genital_organs_not_elsewhere_classified  \\\n",
       "gene_name                                                                                                        \n",
       "DPM1                                                0.810683                                                     \n",
       "SCYL3                                               0.889194                                                     \n",
       "C1orf112                                            0.238228                                                     \n",
       "FGR                                                 0.114353                                                     \n",
       "CFH                                                 0.490585                                                     \n",
       "\n",
       "           100011_raw-Iron  5221-Index_of_best_refractometry_result_right  \\\n",
       "gene_name                                                                   \n",
       "DPM1              0.374671                                       0.189032   \n",
       "SCYL3             0.896938                                       0.448596   \n",
       "C1orf112          0.567555                                       0.921320   \n",
       "FGR               0.470700                                       0.889202   \n",
       "CFH               0.088752                                       0.744531   \n",
       "\n",
       "           20003_1141150624-Treatmentmedication_code_zomig_25mg_tablet  \\\n",
       "gene_name                                                                \n",
       "DPM1                                                0.140981             \n",
       "SCYL3                                               0.269602             \n",
       "C1orf112                                            0.825036             \n",
       "FGR                                                 0.000011             \n",
       "CFH                                                 0.949639             \n",
       "\n",
       "           S69-Diagnoses_main_ICD10_S69_Other_and_unspecified_injuries_of_wrist_and_hand  \\\n",
       "gene_name                                                                                  \n",
       "DPM1                                                0.467741                               \n",
       "SCYL3                                               0.540261                               \n",
       "C1orf112                                            0.782230                               \n",
       "FGR                                                 0.899764                               \n",
       "CFH                                                 0.253817                               \n",
       "\n",
       "           20024_1136-Job_code_deduced_Information_and_communication_technology_managers  \\\n",
       "gene_name                                                                                  \n",
       "DPM1                                                0.129427                               \n",
       "SCYL3                                               0.068405                               \n",
       "C1orf112                                            0.644525                               \n",
       "FGR                                                 0.212352                               \n",
       "CFH                                                 0.377408                               \n",
       "\n",
       "           20002_1385-Noncancer_illness_code_selfreported_allergy_or_anaphylactic_reaction_to_food  \\\n",
       "gene_name                                                                                            \n",
       "DPM1                                                0.193680                                         \n",
       "SCYL3                                               0.041813                                         \n",
       "C1orf112                                            0.392273                                         \n",
       "FGR                                                 0.829671                                         \n",
       "CFH                                                 0.971655                                         \n",
       "\n",
       "           G6_SLEEPAPNO-Sleep_apnoea  ...  \\\n",
       "gene_name                             ...   \n",
       "DPM1                        0.285479  ...   \n",
       "SCYL3                       0.313427  ...   \n",
       "C1orf112                    0.840014  ...   \n",
       "FGR                         0.372348  ...   \n",
       "CFH                         0.070266  ...   \n",
       "\n",
       "           Astle_et_al_2016_Sum_basophil_neutrophil_counts  \\\n",
       "gene_name                                                    \n",
       "DPM1                                              0.416210   \n",
       "SCYL3                                             0.149360   \n",
       "C1orf112                                          0.503520   \n",
       "FGR                                               0.899212   \n",
       "CFH                                               0.390618   \n",
       "\n",
       "           RA_OKADA_TRANS_ETHNIC  pgc.scz2  PGC_ADHD_EUR_2017  \\\n",
       "gene_name                                                       \n",
       "DPM1                    0.782554  0.609467           0.980281   \n",
       "SCYL3                   0.512603  0.010907           0.228982   \n",
       "C1orf112                0.764147  0.587969           0.301460   \n",
       "FGR                     0.961678  0.059247           0.588855   \n",
       "CFH                     0.093824  0.020391           0.109883   \n",
       "\n",
       "           MAGIC_FastingGlucose  Astle_et_al_2016_Red_blood_cell_count  \\\n",
       "gene_name                                                                \n",
       "DPM1                   0.666504                               0.409761   \n",
       "SCYL3                  0.607081                               0.812484   \n",
       "C1orf112               0.629621                               0.486664   \n",
       "FGR                    0.898525                               0.135045   \n",
       "CFH                    0.870551                               0.995450   \n",
       "\n",
       "           SSGAC_Depressive_Symptoms  BCAC_ER_positive_BreastCancer_EUR  \\\n",
       "gene_name                                                                 \n",
       "DPM1                        0.713310                           0.168319   \n",
       "SCYL3                       0.678749                           0.918971   \n",
       "C1orf112                    0.736509                           0.933600   \n",
       "FGR                         0.954998                           0.088220   \n",
       "CFH                         0.002660                           0.421588   \n",
       "\n",
       "           IBD.EUR.Inflammatory_Bowel_Disease  \\\n",
       "gene_name                                       \n",
       "DPM1                                 0.460244   \n",
       "SCYL3                                0.311187   \n",
       "C1orf112                             0.000477   \n",
       "FGR                                  0.176497   \n",
       "CFH                                  0.656851   \n",
       "\n",
       "           Astle_et_al_2016_High_light_scatter_reticulocyte_count  \n",
       "gene_name                                                          \n",
       "DPM1                                                0.765506       \n",
       "SCYL3                                               0.344574       \n",
       "C1orf112                                            0.321223       \n",
       "FGR                                                 0.304281       \n",
       "CFH                                                 0.868416       \n",
       "\n",
       "[5 rows x 4091 columns]"
      ]
     },
     "execution_count": 16,
     "metadata": {},
     "output_type": "execute_result"
    }
   ],
   "source": [
    "phenomexcan_df.head()"
   ]
  },
  {
   "cell_type": "markdown",
   "id": "biblical-charleston",
   "metadata": {},
   "source": [
    "Let's keep genes present in our matrix Z only"
   ]
  },
  {
   "cell_type": "code",
   "execution_count": 17,
   "id": "united-expansion",
   "metadata": {},
   "outputs": [
    {
     "data": {
      "text/plain": [
       "Index(['DPM1', 'FGR', 'CFH', 'GCLC', 'NFYA', 'CYP51A1', 'RAD52', 'BAD', 'LAP3',\n",
       "       'HS3ST1',\n",
       "       ...\n",
       "       'NEFL', 'CCL3', 'PSMB3', 'SSTR3', 'DHRS11', 'ACACA', 'HIST1H3H',\n",
       "       'MRPL45', 'LINC00921', 'ADORA3'],\n",
       "      dtype='object', length=6452)"
      ]
     },
     "metadata": {},
     "output_type": "display_data"
    }
   ],
   "source": [
    "common_genes = phenomexcan_df.index.intersection(matrix_z.index)\n",
    "display(common_genes)"
   ]
  },
  {
   "cell_type": "code",
   "execution_count": 18,
   "id": "outside-japan",
   "metadata": {},
   "outputs": [],
   "source": [
    "phenomexcan_df = phenomexcan_df.loc[common_genes]"
   ]
  },
  {
   "cell_type": "code",
   "execution_count": 19,
   "id": "fiscal-locking",
   "metadata": {},
   "outputs": [
    {
     "data": {
      "text/plain": [
       "(6452, 4091)"
      ]
     },
     "execution_count": 19,
     "metadata": {},
     "output_type": "execute_result"
    }
   ],
   "source": [
    "phenomexcan_df.shape"
   ]
  },
  {
   "cell_type": "code",
   "execution_count": 20,
   "id": "spare-passage",
   "metadata": {},
   "outputs": [],
   "source": [
    "matrix_z = matrix_z.loc[common_genes]"
   ]
  },
  {
   "cell_type": "code",
   "execution_count": 21,
   "id": "reported-nerve",
   "metadata": {},
   "outputs": [
    {
     "data": {
      "text/plain": [
       "(6452, 987)"
      ]
     },
     "execution_count": 21,
     "metadata": {},
     "output_type": "execute_result"
    }
   ],
   "source": [
    "matrix_z.shape"
   ]
  },
  {
   "cell_type": "markdown",
   "id": "polished-fundamentals",
   "metadata": {},
   "source": [
    "# Take a look at genes associated with neutrophil counts"
   ]
  },
  {
   "cell_type": "code",
   "execution_count": 22,
   "id": "dated-collect",
   "metadata": {},
   "outputs": [
    {
     "data": {
      "text/plain": [
       "Index(['30140_raw-Neutrophill_count', '30200_raw-Neutrophill_percentage',\n",
       "       'Astle_et_al_2016_Sum_neutrophil_eosinophil_counts',\n",
       "       'Astle_et_al_2016_Neutrophil_count',\n",
       "       'Astle_et_al_2016_Sum_basophil_neutrophil_counts'],\n",
       "      dtype='object')"
      ]
     },
     "execution_count": 22,
     "metadata": {},
     "output_type": "execute_result"
    }
   ],
   "source": [
    "phenomexcan_df.columns[phenomexcan_df.columns.str.lower().str.contains(\"neutrophil\")]"
   ]
  },
  {
   "cell_type": "code",
   "execution_count": 23,
   "id": "regional-dutch",
   "metadata": {},
   "outputs": [],
   "source": [
    "# trait_code = \"30140_raw-Neutrophill_count\"\n",
    "# t = Trait.get_trait(full_code=trait_code)\n",
    "# display(f\"{trait_code} - sample size: {t.n}\")"
   ]
  },
  {
   "cell_type": "code",
   "execution_count": 24,
   "id": "three-tradition",
   "metadata": {},
   "outputs": [
    {
     "data": {
      "text/plain": [
       "'Astle_et_al_2016_Neutrophil_count - sample size: 173480'"
      ]
     },
     "metadata": {},
     "output_type": "display_data"
    }
   ],
   "source": [
    "trait_code = \"Astle_et_al_2016_Neutrophil_count\"\n",
    "t = Trait.get_trait(full_code=trait_code)\n",
    "display(f\"{trait_code} - sample size: {t.n}\")"
   ]
  },
  {
   "cell_type": "code",
   "execution_count": 25,
   "id": "wicked-friday",
   "metadata": {},
   "outputs": [],
   "source": [
    "# traits_df = phenomexcan_df[[\"30140_raw-Neutrophill_count\", \"Astle_et_al_2016_Neutrophil_count\"]].dropna()"
   ]
  },
  {
   "cell_type": "code",
   "execution_count": 26,
   "id": "independent-universe",
   "metadata": {},
   "outputs": [],
   "source": [
    "traits_df = phenomexcan_df[[\"Astle_et_al_2016_Neutrophil_count\"]].dropna()"
   ]
  },
  {
   "cell_type": "code",
   "execution_count": 27,
   "id": "excellent-network",
   "metadata": {},
   "outputs": [
    {
     "data": {
      "text/plain": [
       "(6452, 1)"
      ]
     },
     "execution_count": 27,
     "metadata": {},
     "output_type": "execute_result"
    }
   ],
   "source": [
    "traits_df.shape"
   ]
  },
  {
   "cell_type": "code",
   "execution_count": 28,
   "id": "gothic-packaging",
   "metadata": {},
   "outputs": [
    {
     "data": {
      "text/html": [
       "<div>\n",
       "<style scoped>\n",
       "    .dataframe tbody tr th:only-of-type {\n",
       "        vertical-align: middle;\n",
       "    }\n",
       "\n",
       "    .dataframe tbody tr th {\n",
       "        vertical-align: top;\n",
       "    }\n",
       "\n",
       "    .dataframe thead th {\n",
       "        text-align: right;\n",
       "    }\n",
       "</style>\n",
       "<table border=\"1\" class=\"dataframe\">\n",
       "  <thead>\n",
       "    <tr style=\"text-align: right;\">\n",
       "      <th></th>\n",
       "      <th>Astle_et_al_2016_Neutrophil_count</th>\n",
       "    </tr>\n",
       "  </thead>\n",
       "  <tbody>\n",
       "    <tr>\n",
       "      <th>DPM1</th>\n",
       "      <td>0.388682</td>\n",
       "    </tr>\n",
       "    <tr>\n",
       "      <th>FGR</th>\n",
       "      <td>0.886969</td>\n",
       "    </tr>\n",
       "    <tr>\n",
       "      <th>CFH</th>\n",
       "      <td>0.442834</td>\n",
       "    </tr>\n",
       "    <tr>\n",
       "      <th>GCLC</th>\n",
       "      <td>0.569352</td>\n",
       "    </tr>\n",
       "    <tr>\n",
       "      <th>NFYA</th>\n",
       "      <td>0.001760</td>\n",
       "    </tr>\n",
       "  </tbody>\n",
       "</table>\n",
       "</div>"
      ],
      "text/plain": [
       "      Astle_et_al_2016_Neutrophil_count\n",
       "DPM1                           0.388682\n",
       "FGR                            0.886969\n",
       "CFH                            0.442834\n",
       "GCLC                           0.569352\n",
       "NFYA                           0.001760"
      ]
     },
     "execution_count": 28,
     "metadata": {},
     "output_type": "execute_result"
    }
   ],
   "source": [
    "traits_df.head()"
   ]
  },
  {
   "cell_type": "code",
   "execution_count": 29,
   "id": "atomic-vertical",
   "metadata": {},
   "outputs": [
    {
     "data": {
      "text/html": [
       "<div>\n",
       "<style scoped>\n",
       "    .dataframe tbody tr th:only-of-type {\n",
       "        vertical-align: middle;\n",
       "    }\n",
       "\n",
       "    .dataframe tbody tr th {\n",
       "        vertical-align: top;\n",
       "    }\n",
       "\n",
       "    .dataframe thead th {\n",
       "        text-align: right;\n",
       "    }\n",
       "</style>\n",
       "<table border=\"1\" class=\"dataframe\">\n",
       "  <thead>\n",
       "    <tr style=\"text-align: right;\">\n",
       "      <th></th>\n",
       "      <th>Astle_et_al_2016_Neutrophil_count</th>\n",
       "    </tr>\n",
       "  </thead>\n",
       "  <tbody>\n",
       "    <tr>\n",
       "      <th>count</th>\n",
       "      <td>6452.000000</td>\n",
       "    </tr>\n",
       "    <tr>\n",
       "      <th>mean</th>\n",
       "      <td>1.448715</td>\n",
       "    </tr>\n",
       "    <tr>\n",
       "      <th>std</th>\n",
       "      <td>6.349477</td>\n",
       "    </tr>\n",
       "    <tr>\n",
       "      <th>min</th>\n",
       "      <td>0.000051</td>\n",
       "    </tr>\n",
       "    <tr>\n",
       "      <th>25%</th>\n",
       "      <td>0.214177</td>\n",
       "    </tr>\n",
       "    <tr>\n",
       "      <th>50%</th>\n",
       "      <td>0.560065</td>\n",
       "    </tr>\n",
       "    <tr>\n",
       "      <th>75%</th>\n",
       "      <td>1.227759</td>\n",
       "    </tr>\n",
       "    <tr>\n",
       "      <th>max</th>\n",
       "      <td>260.901281</td>\n",
       "    </tr>\n",
       "  </tbody>\n",
       "</table>\n",
       "</div>"
      ],
      "text/plain": [
       "       Astle_et_al_2016_Neutrophil_count\n",
       "count                        6452.000000\n",
       "mean                            1.448715\n",
       "std                             6.349477\n",
       "min                             0.000051\n",
       "25%                             0.214177\n",
       "50%                             0.560065\n",
       "75%                             1.227759\n",
       "max                           260.901281"
      ]
     },
     "execution_count": 29,
     "metadata": {},
     "output_type": "execute_result"
    }
   ],
   "source": [
    "traits_df.apply(lambda x: -np.log10(x)).describe()"
   ]
  },
  {
   "cell_type": "code",
   "execution_count": 30,
   "id": "challenging-publication",
   "metadata": {},
   "outputs": [],
   "source": [
    "# traits_df.apply(lambda x: -np.log10(x)).corr()"
   ]
  },
  {
   "cell_type": "code",
   "execution_count": 31,
   "id": "boolean-backing",
   "metadata": {},
   "outputs": [],
   "source": [
    "assert not traits_df.isna().any().any()"
   ]
  },
  {
   "cell_type": "markdown",
   "id": "altered-marketing",
   "metadata": {},
   "source": [
    "# Convert p-values to z-scores"
   ]
  },
  {
   "cell_type": "markdown",
   "id": "flexible-questionnaire",
   "metadata": {},
   "source": [
    "This converts a p-value to a scalar > 0, where higher positive values mean stronger association, and lower values close to zero mean weaker associations."
   ]
  },
  {
   "cell_type": "code",
   "execution_count": 32,
   "id": "handy-reset",
   "metadata": {},
   "outputs": [],
   "source": [
    "traits_zscores = pd.DataFrame(\n",
    "    data=np.abs(stats.norm.ppf(traits_df / 2)),\n",
    "    index=traits_df.index.copy(),\n",
    "    columns=traits_df.columns.copy(),\n",
    ")"
   ]
  },
  {
   "cell_type": "code",
   "execution_count": 33,
   "id": "human-desktop",
   "metadata": {},
   "outputs": [],
   "source": [
    "assert not traits_zscores.isna().any().any()"
   ]
  },
  {
   "cell_type": "code",
   "execution_count": 34,
   "id": "interstate-emission",
   "metadata": {},
   "outputs": [
    {
     "data": {
      "text/html": [
       "<div>\n",
       "<style scoped>\n",
       "    .dataframe tbody tr th:only-of-type {\n",
       "        vertical-align: middle;\n",
       "    }\n",
       "\n",
       "    .dataframe tbody tr th {\n",
       "        vertical-align: top;\n",
       "    }\n",
       "\n",
       "    .dataframe thead th {\n",
       "        text-align: right;\n",
       "    }\n",
       "</style>\n",
       "<table border=\"1\" class=\"dataframe\">\n",
       "  <thead>\n",
       "    <tr style=\"text-align: right;\">\n",
       "      <th></th>\n",
       "      <th>Astle_et_al_2016_Neutrophil_count</th>\n",
       "    </tr>\n",
       "  </thead>\n",
       "  <tbody>\n",
       "    <tr>\n",
       "      <th>DPM1</th>\n",
       "      <td>0.862010</td>\n",
       "    </tr>\n",
       "    <tr>\n",
       "      <th>FGR</th>\n",
       "      <td>0.142140</td>\n",
       "    </tr>\n",
       "    <tr>\n",
       "      <th>CFH</th>\n",
       "      <td>0.767416</td>\n",
       "    </tr>\n",
       "    <tr>\n",
       "      <th>GCLC</th>\n",
       "      <td>0.569006</td>\n",
       "    </tr>\n",
       "    <tr>\n",
       "      <th>NFYA</th>\n",
       "      <td>3.127917</td>\n",
       "    </tr>\n",
       "  </tbody>\n",
       "</table>\n",
       "</div>"
      ],
      "text/plain": [
       "      Astle_et_al_2016_Neutrophil_count\n",
       "DPM1                           0.862010\n",
       "FGR                            0.142140\n",
       "CFH                            0.767416\n",
       "GCLC                           0.569006\n",
       "NFYA                           3.127917"
      ]
     },
     "execution_count": 34,
     "metadata": {},
     "output_type": "execute_result"
    }
   ],
   "source": [
    "traits_zscores.head()"
   ]
  },
  {
   "cell_type": "code",
   "execution_count": 35,
   "id": "civilian-algebra",
   "metadata": {},
   "outputs": [
    {
     "data": {
      "text/html": [
       "<div>\n",
       "<style scoped>\n",
       "    .dataframe tbody tr th:only-of-type {\n",
       "        vertical-align: middle;\n",
       "    }\n",
       "\n",
       "    .dataframe tbody tr th {\n",
       "        vertical-align: top;\n",
       "    }\n",
       "\n",
       "    .dataframe thead th {\n",
       "        text-align: right;\n",
       "    }\n",
       "</style>\n",
       "<table border=\"1\" class=\"dataframe\">\n",
       "  <thead>\n",
       "    <tr style=\"text-align: right;\">\n",
       "      <th></th>\n",
       "      <th>Astle_et_al_2016_Neutrophil_count</th>\n",
       "    </tr>\n",
       "  </thead>\n",
       "  <tbody>\n",
       "    <tr>\n",
       "      <th>count</th>\n",
       "      <td>6452.000000</td>\n",
       "    </tr>\n",
       "    <tr>\n",
       "      <th>mean</th>\n",
       "      <td>1.480574</td>\n",
       "    </tr>\n",
       "    <tr>\n",
       "      <th>std</th>\n",
       "      <td>1.723161</td>\n",
       "    </tr>\n",
       "    <tr>\n",
       "      <th>min</th>\n",
       "      <td>0.000146</td>\n",
       "    </tr>\n",
       "    <tr>\n",
       "      <th>25%</th>\n",
       "      <td>0.509084</td>\n",
       "    </tr>\n",
       "    <tr>\n",
       "      <th>50%</th>\n",
       "      <td>1.090753</td>\n",
       "    </tr>\n",
       "    <tr>\n",
       "      <th>75%</th>\n",
       "      <td>1.886786</td>\n",
       "    </tr>\n",
       "    <tr>\n",
       "      <th>max</th>\n",
       "      <td>34.553676</td>\n",
       "    </tr>\n",
       "  </tbody>\n",
       "</table>\n",
       "</div>"
      ],
      "text/plain": [
       "       Astle_et_al_2016_Neutrophil_count\n",
       "count                        6452.000000\n",
       "mean                            1.480574\n",
       "std                             1.723161\n",
       "min                             0.000146\n",
       "25%                             0.509084\n",
       "50%                             1.090753\n",
       "75%                             1.886786\n",
       "max                            34.553676"
      ]
     },
     "execution_count": 35,
     "metadata": {},
     "output_type": "execute_result"
    }
   ],
   "source": [
    "traits_zscores.describe()"
   ]
  },
  {
   "cell_type": "markdown",
   "id": "similar-possession",
   "metadata": {},
   "source": [
    "# Analysis of an neutrophil-termed LV"
   ]
  },
  {
   "cell_type": "markdown",
   "id": "interested-istanbul",
   "metadata": {},
   "source": [
    "Let's take as an example an LV that was previously analyzed in another study [here](https://doi.org/10.1016/j.cels.2019.04.003), which we identify as `LV603`. This LV aligns well with pathways related to neutrophils, as you can see below."
   ]
  },
  {
   "cell_type": "code",
   "execution_count": 36,
   "id": "composed-inspection",
   "metadata": {},
   "outputs": [
    {
     "data": {
      "text/html": [
       "<div>\n",
       "<style scoped>\n",
       "    .dataframe tbody tr th:only-of-type {\n",
       "        vertical-align: middle;\n",
       "    }\n",
       "\n",
       "    .dataframe tbody tr th {\n",
       "        vertical-align: top;\n",
       "    }\n",
       "\n",
       "    .dataframe thead th {\n",
       "        text-align: right;\n",
       "    }\n",
       "</style>\n",
       "<table border=\"1\" class=\"dataframe\">\n",
       "  <thead>\n",
       "    <tr style=\"text-align: right;\">\n",
       "      <th></th>\n",
       "      <th>pathway</th>\n",
       "      <th>LV index</th>\n",
       "      <th>AUC</th>\n",
       "      <th>p-value</th>\n",
       "      <th>FDR</th>\n",
       "    </tr>\n",
       "  </thead>\n",
       "  <tbody>\n",
       "    <tr>\n",
       "      <th>1511</th>\n",
       "      <td>IRIS_Neutrophil-Resting</td>\n",
       "      <td>603</td>\n",
       "      <td>0.905751</td>\n",
       "      <td>8.355936e-38</td>\n",
       "      <td>4.505939e-35</td>\n",
       "    </tr>\n",
       "    <tr>\n",
       "      <th>1512</th>\n",
       "      <td>SVM Neutrophils</td>\n",
       "      <td>603</td>\n",
       "      <td>0.979789</td>\n",
       "      <td>2.856571e-11</td>\n",
       "      <td>1.432936e-09</td>\n",
       "    </tr>\n",
       "    <tr>\n",
       "      <th>1513</th>\n",
       "      <td>PID_IL8CXCR2_PATHWAY</td>\n",
       "      <td>603</td>\n",
       "      <td>0.810732</td>\n",
       "      <td>8.814671e-04</td>\n",
       "      <td>7.041943e-03</td>\n",
       "    </tr>\n",
       "    <tr>\n",
       "      <th>1516</th>\n",
       "      <td>SIG_PIP3_SIGNALING_IN_B_LYMPHOCYTES</td>\n",
       "      <td>603</td>\n",
       "      <td>0.769292</td>\n",
       "      <td>3.387907e-03</td>\n",
       "      <td>1.948724e-02</td>\n",
       "    </tr>\n",
       "    <tr>\n",
       "      <th>1517</th>\n",
       "      <td>KEGG_LEISHMANIA_INFECTION</td>\n",
       "      <td>603</td>\n",
       "      <td>0.644626</td>\n",
       "      <td>2.429881e-02</td>\n",
       "      <td>9.119697e-02</td>\n",
       "    </tr>\n",
       "    <tr>\n",
       "      <th>1515</th>\n",
       "      <td>PID_RHOA_REG_PATHWAY</td>\n",
       "      <td>603</td>\n",
       "      <td>0.608811</td>\n",
       "      <td>1.031757e-01</td>\n",
       "      <td>2.615159e-01</td>\n",
       "    </tr>\n",
       "    <tr>\n",
       "      <th>1514</th>\n",
       "      <td>PID_FCER1PATHWAY</td>\n",
       "      <td>603</td>\n",
       "      <td>0.554558</td>\n",
       "      <td>2.286091e-01</td>\n",
       "      <td>4.404042e-01</td>\n",
       "    </tr>\n",
       "    <tr>\n",
       "      <th>1518</th>\n",
       "      <td>PID_GMCSF_PATHWAY</td>\n",
       "      <td>603</td>\n",
       "      <td>0.461435</td>\n",
       "      <td>6.625028e-01</td>\n",
       "      <td>8.376427e-01</td>\n",
       "    </tr>\n",
       "  </tbody>\n",
       "</table>\n",
       "</div>"
      ],
      "text/plain": [
       "                                  pathway LV index       AUC       p-value  \\\n",
       "1511              IRIS_Neutrophil-Resting      603  0.905751  8.355936e-38   \n",
       "1512                      SVM Neutrophils      603  0.979789  2.856571e-11   \n",
       "1513                 PID_IL8CXCR2_PATHWAY      603  0.810732  8.814671e-04   \n",
       "1516  SIG_PIP3_SIGNALING_IN_B_LYMPHOCYTES      603  0.769292  3.387907e-03   \n",
       "1517            KEGG_LEISHMANIA_INFECTION      603  0.644626  2.429881e-02   \n",
       "1515                 PID_RHOA_REG_PATHWAY      603  0.608811  1.031757e-01   \n",
       "1514                     PID_FCER1PATHWAY      603  0.554558  2.286091e-01   \n",
       "1518                    PID_GMCSF_PATHWAY      603  0.461435  6.625028e-01   \n",
       "\n",
       "               FDR  \n",
       "1511  4.505939e-35  \n",
       "1512  1.432936e-09  \n",
       "1513  7.041943e-03  \n",
       "1516  1.948724e-02  \n",
       "1517  9.119697e-02  \n",
       "1515  2.615159e-01  \n",
       "1514  4.404042e-01  \n",
       "1518  8.376427e-01  "
      ]
     },
     "execution_count": 36,
     "metadata": {},
     "output_type": "execute_result"
    }
   ],
   "source": [
    "lv_metadata[lv_metadata[\"LV index\"] == \"603\"].sort_values(\"FDR\")"
   ]
  },
  {
   "cell_type": "markdown",
   "id": "adjacent-insight",
   "metadata": {},
   "source": [
    "Let's see which genes more strongly belong to LV603:"
   ]
  },
  {
   "cell_type": "code",
   "execution_count": 37,
   "id": "adverse-portrait",
   "metadata": {},
   "outputs": [
    {
     "data": {
      "text/plain": [
       "CXCR2        5.320459\n",
       "FCGR3B       5.128372\n",
       "TNFRSF10C    5.035457\n",
       "VNN2         4.680865\n",
       "ZDHHC18      4.495976\n",
       "MNDA         4.488505\n",
       "CXCR1        4.442062\n",
       "P2RY13       4.404405\n",
       "VNN3         4.253184\n",
       "FPR2         4.187560\n",
       "CEACAM3      4.139476\n",
       "C5AR1        4.101986\n",
       "SLC45A4      4.068913\n",
       "AQP9         3.939923\n",
       "CCR3         3.883533\n",
       "ABTB1        3.745259\n",
       "CSF3R        3.735651\n",
       "FPR1         3.720018\n",
       "DPEP2        3.656125\n",
       "SIRPB1       3.632251\n",
       "Name: LV603, dtype: float64"
      ]
     },
     "metadata": {},
     "output_type": "display_data"
    }
   ],
   "source": [
    "lv603_top_genes = matrix_z[\"LV603\"].sort_values(ascending=False)\n",
    "display(lv603_top_genes.head(20))"
   ]
  },
  {
   "cell_type": "markdown",
   "id": "million-duncan",
   "metadata": {},
   "source": [
    "Are these top genes associated with our neutrophil?"
   ]
  },
  {
   "cell_type": "code",
   "execution_count": 38,
   "id": "unlimited-award",
   "metadata": {},
   "outputs": [
    {
     "data": {
      "text/html": [
       "<div>\n",
       "<style scoped>\n",
       "    .dataframe tbody tr th:only-of-type {\n",
       "        vertical-align: middle;\n",
       "    }\n",
       "\n",
       "    .dataframe tbody tr th {\n",
       "        vertical-align: top;\n",
       "    }\n",
       "\n",
       "    .dataframe thead th {\n",
       "        text-align: right;\n",
       "    }\n",
       "</style>\n",
       "<table border=\"1\" class=\"dataframe\">\n",
       "  <thead>\n",
       "    <tr style=\"text-align: right;\">\n",
       "      <th></th>\n",
       "      <th>Astle_et_al_2016_Neutrophil_count</th>\n",
       "    </tr>\n",
       "  </thead>\n",
       "  <tbody>\n",
       "    <tr>\n",
       "      <th>CXCR2</th>\n",
       "      <td>4.853946</td>\n",
       "    </tr>\n",
       "    <tr>\n",
       "      <th>FCGR3B</th>\n",
       "      <td>2.021852</td>\n",
       "    </tr>\n",
       "    <tr>\n",
       "      <th>TNFRSF10C</th>\n",
       "      <td>5.384578</td>\n",
       "    </tr>\n",
       "    <tr>\n",
       "      <th>VNN2</th>\n",
       "      <td>2.597925</td>\n",
       "    </tr>\n",
       "    <tr>\n",
       "      <th>ZDHHC18</th>\n",
       "      <td>7.438307</td>\n",
       "    </tr>\n",
       "    <tr>\n",
       "      <th>MNDA</th>\n",
       "      <td>0.667815</td>\n",
       "    </tr>\n",
       "    <tr>\n",
       "      <th>CXCR1</th>\n",
       "      <td>6.610157</td>\n",
       "    </tr>\n",
       "    <tr>\n",
       "      <th>P2RY13</th>\n",
       "      <td>3.057785</td>\n",
       "    </tr>\n",
       "    <tr>\n",
       "      <th>VNN3</th>\n",
       "      <td>1.273416</td>\n",
       "    </tr>\n",
       "    <tr>\n",
       "      <th>FPR2</th>\n",
       "      <td>0.271665</td>\n",
       "    </tr>\n",
       "    <tr>\n",
       "      <th>CEACAM3</th>\n",
       "      <td>0.016748</td>\n",
       "    </tr>\n",
       "    <tr>\n",
       "      <th>C5AR1</th>\n",
       "      <td>2.850904</td>\n",
       "    </tr>\n",
       "    <tr>\n",
       "      <th>SLC45A4</th>\n",
       "      <td>7.088678</td>\n",
       "    </tr>\n",
       "    <tr>\n",
       "      <th>AQP9</th>\n",
       "      <td>1.125486</td>\n",
       "    </tr>\n",
       "    <tr>\n",
       "      <th>CCR3</th>\n",
       "      <td>1.507482</td>\n",
       "    </tr>\n",
       "    <tr>\n",
       "      <th>ABTB1</th>\n",
       "      <td>0.626760</td>\n",
       "    </tr>\n",
       "    <tr>\n",
       "      <th>CSF3R</th>\n",
       "      <td>13.808712</td>\n",
       "    </tr>\n",
       "    <tr>\n",
       "      <th>FPR1</th>\n",
       "      <td>1.473778</td>\n",
       "    </tr>\n",
       "    <tr>\n",
       "      <th>DPEP2</th>\n",
       "      <td>1.061471</td>\n",
       "    </tr>\n",
       "    <tr>\n",
       "      <th>SIRPB1</th>\n",
       "      <td>2.777080</td>\n",
       "    </tr>\n",
       "  </tbody>\n",
       "</table>\n",
       "</div>"
      ],
      "text/plain": [
       "           Astle_et_al_2016_Neutrophil_count\n",
       "CXCR2                               4.853946\n",
       "FCGR3B                              2.021852\n",
       "TNFRSF10C                           5.384578\n",
       "VNN2                                2.597925\n",
       "ZDHHC18                             7.438307\n",
       "MNDA                                0.667815\n",
       "CXCR1                               6.610157\n",
       "P2RY13                              3.057785\n",
       "VNN3                                1.273416\n",
       "FPR2                                0.271665\n",
       "CEACAM3                             0.016748\n",
       "C5AR1                               2.850904\n",
       "SLC45A4                             7.088678\n",
       "AQP9                                1.125486\n",
       "CCR3                                1.507482\n",
       "ABTB1                               0.626760\n",
       "CSF3R                              13.808712\n",
       "FPR1                                1.473778\n",
       "DPEP2                               1.061471\n",
       "SIRPB1                              2.777080"
      ]
     },
     "execution_count": 38,
     "metadata": {},
     "output_type": "execute_result"
    }
   ],
   "source": [
    "traits_zscores.loc[lv603_top_genes.index].head(20)"
   ]
  },
  {
   "cell_type": "markdown",
   "id": "valued-adventure",
   "metadata": {},
   "source": [
    "It seems so. But what about the rest of the genes? They might be also strongly associated.\n",
    "Let's take a random sample:"
   ]
  },
  {
   "cell_type": "code",
   "execution_count": 39,
   "id": "mexican-bracket",
   "metadata": {},
   "outputs": [
    {
     "data": {
      "text/html": [
       "<div>\n",
       "<style scoped>\n",
       "    .dataframe tbody tr th:only-of-type {\n",
       "        vertical-align: middle;\n",
       "    }\n",
       "\n",
       "    .dataframe tbody tr th {\n",
       "        vertical-align: top;\n",
       "    }\n",
       "\n",
       "    .dataframe thead th {\n",
       "        text-align: right;\n",
       "    }\n",
       "</style>\n",
       "<table border=\"1\" class=\"dataframe\">\n",
       "  <thead>\n",
       "    <tr style=\"text-align: right;\">\n",
       "      <th></th>\n",
       "      <th>Astle_et_al_2016_Neutrophil_count</th>\n",
       "    </tr>\n",
       "  </thead>\n",
       "  <tbody>\n",
       "    <tr>\n",
       "      <th>CPSF2</th>\n",
       "      <td>0.162255</td>\n",
       "    </tr>\n",
       "    <tr>\n",
       "      <th>SLC7A7</th>\n",
       "      <td>1.150304</td>\n",
       "    </tr>\n",
       "    <tr>\n",
       "      <th>GGT1</th>\n",
       "      <td>1.545870</td>\n",
       "    </tr>\n",
       "    <tr>\n",
       "      <th>PIK3C3</th>\n",
       "      <td>0.818348</td>\n",
       "    </tr>\n",
       "    <tr>\n",
       "      <th>CHIT1</th>\n",
       "      <td>1.434727</td>\n",
       "    </tr>\n",
       "    <tr>\n",
       "      <th>ZNF570</th>\n",
       "      <td>0.176574</td>\n",
       "    </tr>\n",
       "    <tr>\n",
       "      <th>MRPL9</th>\n",
       "      <td>1.672936</td>\n",
       "    </tr>\n",
       "    <tr>\n",
       "      <th>COPE</th>\n",
       "      <td>0.860495</td>\n",
       "    </tr>\n",
       "    <tr>\n",
       "      <th>KLRK1</th>\n",
       "      <td>2.009665</td>\n",
       "    </tr>\n",
       "    <tr>\n",
       "      <th>DVL3</th>\n",
       "      <td>1.381302</td>\n",
       "    </tr>\n",
       "    <tr>\n",
       "      <th>ADD1</th>\n",
       "      <td>0.478504</td>\n",
       "    </tr>\n",
       "    <tr>\n",
       "      <th>CRLS1</th>\n",
       "      <td>0.999528</td>\n",
       "    </tr>\n",
       "    <tr>\n",
       "      <th>SETD7</th>\n",
       "      <td>0.695420</td>\n",
       "    </tr>\n",
       "    <tr>\n",
       "      <th>ENPP2</th>\n",
       "      <td>1.346618</td>\n",
       "    </tr>\n",
       "    <tr>\n",
       "      <th>AKT3</th>\n",
       "      <td>2.171519</td>\n",
       "    </tr>\n",
       "    <tr>\n",
       "      <th>TPST1</th>\n",
       "      <td>5.324084</td>\n",
       "    </tr>\n",
       "    <tr>\n",
       "      <th>HNRNPUL1</th>\n",
       "      <td>2.627601</td>\n",
       "    </tr>\n",
       "    <tr>\n",
       "      <th>SLC24A4</th>\n",
       "      <td>0.253584</td>\n",
       "    </tr>\n",
       "    <tr>\n",
       "      <th>VAMP4</th>\n",
       "      <td>0.897914</td>\n",
       "    </tr>\n",
       "    <tr>\n",
       "      <th>PAG1</th>\n",
       "      <td>0.601414</td>\n",
       "    </tr>\n",
       "  </tbody>\n",
       "</table>\n",
       "</div>"
      ],
      "text/plain": [
       "          Astle_et_al_2016_Neutrophil_count\n",
       "CPSF2                              0.162255\n",
       "SLC7A7                             1.150304\n",
       "GGT1                               1.545870\n",
       "PIK3C3                             0.818348\n",
       "CHIT1                              1.434727\n",
       "ZNF570                             0.176574\n",
       "MRPL9                              1.672936\n",
       "COPE                               0.860495\n",
       "KLRK1                              2.009665\n",
       "DVL3                               1.381302\n",
       "ADD1                               0.478504\n",
       "CRLS1                              0.999528\n",
       "SETD7                              0.695420\n",
       "ENPP2                              1.346618\n",
       "AKT3                               2.171519\n",
       "TPST1                              5.324084\n",
       "HNRNPUL1                           2.627601\n",
       "SLC24A4                            0.253584\n",
       "VAMP4                              0.897914\n",
       "PAG1                               0.601414"
      ]
     },
     "execution_count": 39,
     "metadata": {},
     "output_type": "execute_result"
    }
   ],
   "source": [
    "traits_zscores.sample(n=20, random_state=0)"
   ]
  },
  {
   "cell_type": "markdown",
   "id": "equipped-primary",
   "metadata": {},
   "source": [
    "They do not seem as high as those with the top gene in LV603. If we compute the correlation between LV603 gene weights (`lv603_top_genes`) and gene associations for neutrophil counts (`traits_zscores`) we get this:"
   ]
  },
  {
   "cell_type": "code",
   "execution_count": 40,
   "id": "excited-sailing",
   "metadata": {},
   "outputs": [
    {
     "data": {
      "text/plain": [
       "(0.07636590129740203, 8.158019888806208e-10)"
      ]
     },
     "execution_count": 40,
     "metadata": {},
     "output_type": "execute_result"
    }
   ],
   "source": [
    "stats.pearsonr(\n",
    "    traits_zscores.loc[lv603_top_genes.index].iloc[:, 0].to_numpy(),\n",
    "    lv603_top_genes.to_numpy(),\n",
    ")"
   ]
  },
  {
   "cell_type": "markdown",
   "id": "oriental-temperature",
   "metadata": {},
   "source": [
    "Although the correlation is significant (`8.16e-10`) and the slope positive (we are interested only in genes at the top of the LV), we need to account for correlated predicted expression from the TWAS models (for example, if the expression of two genes at the top of the LV is correlated, results will not be as significant after accounting for this). We have a class implemented in Python that computes this, as shown below."
   ]
  },
  {
   "cell_type": "markdown",
   "id": "similar-steel",
   "metadata": {},
   "source": [
    "# Association between an LV and a trait"
   ]
  },
  {
   "cell_type": "markdown",
   "id": "balanced-rough",
   "metadata": {},
   "source": [
    "You can use our class `gls.GLSPhenoplier` to compute an association between an LV and a trait, in a similar way we did it in the previous cells by correlating LV603 gene weight's and neutrophil count gene associations (transformed to z-scores). However, `gls.GLSPhenoplier` takes into account correlations between the predicted expression of genes by using a generalized least squares (GLS) model."
   ]
  },
  {
   "cell_type": "code",
   "execution_count": 41,
   "id": "choice-wright",
   "metadata": {},
   "outputs": [],
   "source": [
    "from gls import GLSPhenoplier"
   ]
  },
  {
   "cell_type": "markdown",
   "id": "aboriginal-webmaster",
   "metadata": {},
   "source": [
    "We need to save our trait gene association to a pickle file before:"
   ]
  },
  {
   "cell_type": "code",
   "execution_count": 42,
   "id": "stone-compatibility",
   "metadata": {},
   "outputs": [
    {
     "data": {
      "text/plain": [
       "'/tmp/tmpa4nxnxjo.pkl'"
      ]
     },
     "metadata": {},
     "output_type": "display_data"
    }
   ],
   "source": [
    "with tempfile.NamedTemporaryFile(suffix=\".pkl\") as f:\n",
    "    output_filepath = f.name\n",
    "    display(output_filepath)\n",
    "\n",
    "traits_zscores.to_pickle(output_filepath)"
   ]
  },
  {
   "cell_type": "markdown",
   "id": "destroyed-responsibility",
   "metadata": {},
   "source": [
    "Now select an LV id and the trait id, as shown below:"
   ]
  },
  {
   "cell_type": "code",
   "execution_count": 43,
   "id": "satisfactory-survival",
   "metadata": {},
   "outputs": [
    {
     "data": {
      "text/plain": [
       "'Astle_et_al_2016_Neutrophil_count'"
      ]
     },
     "metadata": {},
     "output_type": "display_data"
    }
   ],
   "source": [
    "lv_code = \"LV603\"\n",
    "\n",
    "phenotype_code = traits_zscores.columns[0]\n",
    "display(phenotype_code)"
   ]
  },
  {
   "cell_type": "markdown",
   "id": "blind-facial",
   "metadata": {},
   "source": [
    "Run the model:"
   ]
  },
  {
   "cell_type": "code",
   "execution_count": 44,
   "id": "native-breakdown",
   "metadata": {},
   "outputs": [
    {
     "data": {
      "text/plain": [
       "<gls.GLSPhenoplier at 0x7f7b9b0c4af0>"
      ]
     },
     "execution_count": 44,
     "metadata": {},
     "output_type": "execute_result"
    }
   ],
   "source": [
    "gls_model = GLSPhenoplier(\n",
    "    smultixcan_result_set_filepath=output_filepath,\n",
    ")\n",
    "\n",
    "gls_model.fit_named(lv_code, phenotype_code)"
   ]
  },
  {
   "cell_type": "markdown",
   "id": "rough-cameroon",
   "metadata": {},
   "source": [
    "You can show the entire table of results from the statsmodels model:"
   ]
  },
  {
   "cell_type": "code",
   "execution_count": 45,
   "id": "crude-construction",
   "metadata": {},
   "outputs": [],
   "source": [
    "res = gls_model.results"
   ]
  },
  {
   "cell_type": "code",
   "execution_count": 46,
   "id": "toxic-insured",
   "metadata": {},
   "outputs": [
    {
     "name": "stdout",
     "output_type": "stream",
     "text": [
      "                            GLS Regression Results                            \n",
      "==============================================================================\n",
      "Dep. Variable:              phenotype   R-squared:                       0.005\n",
      "Model:                            GLS   Adj. R-squared:                  0.005\n",
      "Method:                 Least Squares   F-statistic:                     30.34\n",
      "Date:                Thu, 07 Oct 2021   Prob (F-statistic):           3.76e-08\n",
      "Time:                        14:27:02   Log-Likelihood:                -9329.5\n",
      "No. Observations:                6450   AIC:                         1.866e+04\n",
      "Df Residuals:                    6448   BIC:                         1.868e+04\n",
      "Df Model:                           1                                         \n",
      "Covariance Type:            nonrobust                                         \n",
      "==============================================================================\n",
      "                 coef    std err          t      P>|t|      [0.025      0.975]\n",
      "------------------------------------------------------------------------------\n",
      "i              0.0059      0.013      0.474      0.636      -0.019       0.030\n",
      "lv             0.0698      0.013      5.508      0.000       0.045       0.095\n",
      "==============================================================================\n",
      "Omnibus:                     7347.302   Durbin-Watson:                   1.989\n",
      "Prob(Omnibus):                  0.000   Jarque-Bera (JB):          1255825.774\n",
      "Skew:                           5.696   Prob(JB):                         0.00\n",
      "Kurtosis:                      70.402   Cond. No.                         1.01\n",
      "==============================================================================\n",
      "\n",
      "Notes:\n",
      "[1] Standard Errors assume that the covariance matrix of the errors is correctly specified.\n"
     ]
    }
   ],
   "source": [
    "print(res.summary())"
   ]
  },
  {
   "cell_type": "markdown",
   "id": "broke-wagner",
   "metadata": {},
   "source": [
    "This p-value (`3.76e-08`) is a two-sided test on the LV coefficient (`0.0698`).\n",
    "You can see that the p-value is slightly less significant than the p-value from the Pearson correlation that we computed before."
   ]
  },
  {
   "cell_type": "markdown",
   "id": "boring-dialogue",
   "metadata": {},
   "source": [
    "This is how you can access the model's estimated parameters.\n",
    "\n",
    "These are the coefficients:"
   ]
  },
  {
   "cell_type": "code",
   "execution_count": 47,
   "id": "exact-harris",
   "metadata": {},
   "outputs": [
    {
     "data": {
      "text/plain": [
       "i     0.005930\n",
       "lv    0.069771\n",
       "dtype: float64"
      ]
     },
     "execution_count": 47,
     "metadata": {},
     "output_type": "execute_result"
    }
   ],
   "source": [
    "res.params"
   ]
  },
  {
   "cell_type": "markdown",
   "id": "mighty-validation",
   "metadata": {},
   "source": [
    "Two-sided p-values:"
   ]
  },
  {
   "cell_type": "code",
   "execution_count": 48,
   "id": "atlantic-nurse",
   "metadata": {},
   "outputs": [
    {
     "data": {
      "text/plain": [
       "i     6.355177e-01\n",
       "lv    3.764051e-08\n",
       "dtype: float64"
      ]
     },
     "execution_count": 48,
     "metadata": {},
     "output_type": "execute_result"
    }
   ],
   "source": [
    "res.pvalues"
   ]
  },
  {
   "cell_type": "markdown",
   "id": "handed-rating",
   "metadata": {},
   "source": [
    "One-sided p-values"
   ]
  },
  {
   "cell_type": "code",
   "execution_count": 49,
   "id": "tribal-afghanistan",
   "metadata": {},
   "outputs": [
    {
     "data": {
      "text/plain": [
       "i     3.177588e-01\n",
       "lv    1.882026e-08\n",
       "dtype: float64"
      ]
     },
     "execution_count": 49,
     "metadata": {},
     "output_type": "execute_result"
    }
   ],
   "source": [
    "res.pvalues_onesided"
   ]
  },
  {
   "cell_type": "markdown",
   "id": "awful-bedroom",
   "metadata": {},
   "source": [
    "# Conclusions"
   ]
  },
  {
   "cell_type": "markdown",
   "id": "dental-russia",
   "metadata": {},
   "source": [
    "- summary of what we did\n",
    "- next steps"
   ]
  }
 ],
 "metadata": {
  "jupytext": {
   "cell_metadata_filter": "all,-execution,-papermill,-trusted",
   "formats": "ipynb,py//py:percent"
  },
  "kernelspec": {
   "display_name": "Python 3",
   "language": "python",
   "name": "python3"
  },
  "language_info": {
   "codemirror_mode": {
    "name": "ipython",
    "version": 3
   },
   "file_extension": ".py",
   "mimetype": "text/x-python",
   "name": "python",
   "nbconvert_exporter": "python",
   "pygments_lexer": "ipython3",
   "version": "3.8.8"
  },
  "toc-autonumbering": true
 },
 "nbformat": 4,
 "nbformat_minor": 5
}
