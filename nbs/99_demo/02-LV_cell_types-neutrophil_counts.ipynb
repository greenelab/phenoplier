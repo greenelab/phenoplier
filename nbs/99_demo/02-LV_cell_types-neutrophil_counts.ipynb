{
 "cells": [
  {
   "cell_type": "markdown",
   "id": "overhead-stability",
   "metadata": {},
   "source": [
    "# Description"
   ]
  },
  {
   "cell_type": "markdown",
   "id": "wired-carroll",
   "metadata": {},
   "source": [
    "In the previous notebook, we found that LV603 gene weight's are predictive of gene associations for neutrophil counts.\n",
    "In a real application, you would run the `GLSPhenoplier` for your trait of interested across all LVs in our models, and get the significant ones. Then you can see in which cell types the LV's genes are expressed, and this is what we are going to do in this notebook for LV603.\n",
    "\n",
    "To find the cell types associated with an LV, we'll use the matrix B (see our manuscript).\n",
    "We can connected samples in matrix B with gene expression metadata and explore which cell types are associated with the LV.\n",
    "However, metadata in gene expression datasets is usually hard to read, process and interpret.\n",
    "For example, for some samples that could be important for our LV, we might not have access to the cell types where the expriments were conducted. We'll show here what we can do to try to overcome this."
   ]
  },
  {
   "cell_type": "markdown",
   "id": "apparent-independence",
   "metadata": {},
   "source": [
    "# Modules"
   ]
  },
  {
   "cell_type": "code",
   "execution_count": 1,
   "id": "preliminary-bottom",
   "metadata": {},
   "outputs": [],
   "source": [
    "import re\n",
    "from pathlib import Path\n",
    "\n",
    "import pandas as pd\n",
    "import matplotlib.pyplot as plt\n",
    "import seaborn as sns\n",
    "\n",
    "from data.recount2 import LVAnalysis\n",
    "from utils import chunker\n",
    "import conf"
   ]
  },
  {
   "cell_type": "markdown",
   "id": "second-durham",
   "metadata": {
    "papermill": {
     "duration": 0.005973,
     "end_time": "2021-05-11T19:09:56.792495",
     "exception": false,
     "start_time": "2021-05-11T19:09:56.786522",
     "status": "completed"
    },
    "tags": []
   },
   "source": [
    "# Settings"
   ]
  },
  {
   "cell_type": "code",
   "execution_count": 2,
   "id": "equal-matter",
   "metadata": {
    "papermill": {
     "duration": 0.019548,
     "end_time": "2021-05-11T19:09:56.817689",
     "exception": false,
     "start_time": "2021-05-11T19:09:56.798141",
     "status": "completed"
    },
    "tags": [
     "parameters"
    ]
   },
   "outputs": [],
   "source": [
    "LV_NAME = \"LV603\""
   ]
  },
  {
   "cell_type": "code",
   "execution_count": 3,
   "id": "developing-warner",
   "metadata": {},
   "outputs": [],
   "source": [
    "# LV_AXIS_THRESHOLD = 3.0\n",
    "# N_TOP_SAMPLES = 400\n",
    "# N_TOP_ATTRS = 25"
   ]
  },
  {
   "cell_type": "code",
   "execution_count": 5,
   "id": "previous-infrared",
   "metadata": {},
   "outputs": [
    {
     "data": {
      "text/plain": [
       "PosixPath('/home/miltondp/projects/labs/greenelab/phenoplier/bases/phenoplier_asthma/results/demo/lv603')"
      ]
     },
     "metadata": {},
     "output_type": "display_data"
    }
   ],
   "source": [
    "OUTPUT_FIGURES_DIR = Path(conf.RESULTS_DIR, \"demo\", f\"{LV_NAME.lower()}\").resolve()\n",
    "display(OUTPUT_FIGURES_DIR)\n",
    "OUTPUT_FIGURES_DIR.mkdir(parents=True, exist_ok=True)"
   ]
  },
  {
   "cell_type": "code",
   "execution_count": 6,
   "id": "recent-order",
   "metadata": {},
   "outputs": [
    {
     "data": {
      "text/plain": [
       "PosixPath('/home/miltondp/projects/labs/greenelab/phenoplier/bases/phenoplier_asthma/results/demo/lv603/lv603-cell_types.svg')"
      ]
     },
     "metadata": {},
     "output_type": "display_data"
    }
   ],
   "source": [
    "OUTPUT_CELL_TYPE_FILEPATH = OUTPUT_FIGURES_DIR / f\"{LV_NAME.lower()}-cell_types.svg\"\n",
    "display(OUTPUT_CELL_TYPE_FILEPATH)"
   ]
  },
  {
   "cell_type": "markdown",
   "id": "consecutive-frequency",
   "metadata": {
    "papermill": {
     "duration": 0.005592,
     "end_time": "2021-05-11T19:09:56.854406",
     "exception": false,
     "start_time": "2021-05-11T19:09:56.848814",
     "status": "completed"
    },
    "tags": []
   },
   "source": [
    "# Load MultiPLIER summary"
   ]
  },
  {
   "cell_type": "code",
   "execution_count": 7,
   "id": "different-animal",
   "metadata": {
    "papermill": {
     "duration": 0.020251,
     "end_time": "2021-05-11T19:09:56.880435",
     "exception": false,
     "start_time": "2021-05-11T19:09:56.860184",
     "status": "completed"
    },
    "tags": []
   },
   "outputs": [],
   "source": [
    "multiplier_model_summary = pd.read_pickle(conf.MULTIPLIER[\"MODEL_SUMMARY_FILE\"])"
   ]
  },
  {
   "cell_type": "code",
   "execution_count": 8,
   "id": "sexual-transcription",
   "metadata": {
    "papermill": {
     "duration": 0.02062,
     "end_time": "2021-05-11T19:09:56.906744",
     "exception": false,
     "start_time": "2021-05-11T19:09:56.886124",
     "status": "completed"
    },
    "tags": []
   },
   "outputs": [
    {
     "data": {
      "text/plain": [
       "(2157, 5)"
      ]
     },
     "execution_count": 8,
     "metadata": {},
     "output_type": "execute_result"
    }
   ],
   "source": [
    "multiplier_model_summary.shape"
   ]
  },
  {
   "cell_type": "code",
   "execution_count": 9,
   "id": "mathematical-digest",
   "metadata": {
    "papermill": {
     "duration": 0.024737,
     "end_time": "2021-05-11T19:09:56.937493",
     "exception": false,
     "start_time": "2021-05-11T19:09:56.912756",
     "status": "completed"
    },
    "tags": []
   },
   "outputs": [
    {
     "data": {
      "text/html": [
       "<div>\n",
       "<style scoped>\n",
       "    .dataframe tbody tr th:only-of-type {\n",
       "        vertical-align: middle;\n",
       "    }\n",
       "\n",
       "    .dataframe tbody tr th {\n",
       "        vertical-align: top;\n",
       "    }\n",
       "\n",
       "    .dataframe thead th {\n",
       "        text-align: right;\n",
       "    }\n",
       "</style>\n",
       "<table border=\"1\" class=\"dataframe\">\n",
       "  <thead>\n",
       "    <tr style=\"text-align: right;\">\n",
       "      <th></th>\n",
       "      <th>pathway</th>\n",
       "      <th>LV index</th>\n",
       "      <th>AUC</th>\n",
       "      <th>p-value</th>\n",
       "      <th>FDR</th>\n",
       "    </tr>\n",
       "  </thead>\n",
       "  <tbody>\n",
       "    <tr>\n",
       "      <th>1</th>\n",
       "      <td>KEGG_LYSINE_DEGRADATION</td>\n",
       "      <td>1</td>\n",
       "      <td>0.388059</td>\n",
       "      <td>0.866078</td>\n",
       "      <td>0.956005</td>\n",
       "    </tr>\n",
       "    <tr>\n",
       "      <th>2</th>\n",
       "      <td>REACTOME_MRNA_SPLICING</td>\n",
       "      <td>1</td>\n",
       "      <td>0.733057</td>\n",
       "      <td>0.000048</td>\n",
       "      <td>0.000582</td>\n",
       "    </tr>\n",
       "    <tr>\n",
       "      <th>3</th>\n",
       "      <td>MIPS_NOP56P_ASSOCIATED_PRE_RRNA_COMPLEX</td>\n",
       "      <td>1</td>\n",
       "      <td>0.680555</td>\n",
       "      <td>0.001628</td>\n",
       "      <td>0.011366</td>\n",
       "    </tr>\n",
       "    <tr>\n",
       "      <th>4</th>\n",
       "      <td>KEGG_DNA_REPLICATION</td>\n",
       "      <td>1</td>\n",
       "      <td>0.549473</td>\n",
       "      <td>0.312155</td>\n",
       "      <td>0.539951</td>\n",
       "    </tr>\n",
       "    <tr>\n",
       "      <th>5</th>\n",
       "      <td>PID_MYC_ACTIVPATHWAY</td>\n",
       "      <td>1</td>\n",
       "      <td>0.639303</td>\n",
       "      <td>0.021702</td>\n",
       "      <td>0.083739</td>\n",
       "    </tr>\n",
       "  </tbody>\n",
       "</table>\n",
       "</div>"
      ],
      "text/plain": [
       "                                   pathway LV index       AUC   p-value  \\\n",
       "1                  KEGG_LYSINE_DEGRADATION        1  0.388059  0.866078   \n",
       "2                   REACTOME_MRNA_SPLICING        1  0.733057  0.000048   \n",
       "3  MIPS_NOP56P_ASSOCIATED_PRE_RRNA_COMPLEX        1  0.680555  0.001628   \n",
       "4                     KEGG_DNA_REPLICATION        1  0.549473  0.312155   \n",
       "5                     PID_MYC_ACTIVPATHWAY        1  0.639303  0.021702   \n",
       "\n",
       "        FDR  \n",
       "1  0.956005  \n",
       "2  0.000582  \n",
       "3  0.011366  \n",
       "4  0.539951  \n",
       "5  0.083739  "
      ]
     },
     "execution_count": 9,
     "metadata": {},
     "output_type": "execute_result"
    }
   ],
   "source": [
    "multiplier_model_summary.head()"
   ]
  },
  {
   "cell_type": "markdown",
   "id": "satisfactory-victor",
   "metadata": {
    "papermill": {
     "duration": 0.006007,
     "end_time": "2021-05-11T19:09:56.949763",
     "exception": false,
     "start_time": "2021-05-11T19:09:56.943756",
     "status": "completed"
    },
    "tags": []
   },
   "source": [
    "# Load data"
   ]
  },
  {
   "cell_type": "markdown",
   "id": "accomplished-viking",
   "metadata": {
    "papermill": {
     "duration": 0.005873,
     "end_time": "2021-05-11T19:09:56.961602",
     "exception": false,
     "start_time": "2021-05-11T19:09:56.955729",
     "status": "completed"
    },
    "tags": []
   },
   "source": [
    "## Original data"
   ]
  },
  {
   "cell_type": "code",
   "execution_count": 10,
   "id": "intended-termination",
   "metadata": {
    "papermill": {
     "duration": 0.019571,
     "end_time": "2021-05-11T19:09:56.987255",
     "exception": false,
     "start_time": "2021-05-11T19:09:56.967684",
     "status": "completed"
    },
    "tags": []
   },
   "outputs": [],
   "source": [
    "# INPUT_SUBSET = \"z_score_std\""
   ]
  },
  {
   "cell_type": "code",
   "execution_count": 11,
   "id": "wooden-underwear",
   "metadata": {
    "papermill": {
     "duration": 0.019175,
     "end_time": "2021-05-11T19:09:57.025099",
     "exception": false,
     "start_time": "2021-05-11T19:09:57.005924",
     "status": "completed"
    },
    "tags": []
   },
   "outputs": [],
   "source": [
    "# INPUT_STEM = \"projection-smultixcan-efo_partial-mashr-zscores\""
   ]
  },
  {
   "cell_type": "code",
   "execution_count": 12,
   "id": "unlikely-rotation",
   "metadata": {
    "papermill": {
     "duration": 0.020992,
     "end_time": "2021-05-11T19:09:57.052255",
     "exception": false,
     "start_time": "2021-05-11T19:09:57.031263",
     "status": "completed"
    },
    "tags": []
   },
   "outputs": [],
   "source": [
    "# input_filepath = Path(\n",
    "#     conf.RESULTS[\"DATA_TRANSFORMATIONS_DIR\"],\n",
    "#     INPUT_SUBSET,\n",
    "#     f\"{INPUT_SUBSET}-{INPUT_STEM}.pkl\",\n",
    "# ).resolve()\n",
    "# display(input_filepath)\n",
    "\n",
    "# assert input_filepath.exists(), \"Input file does not exist\"\n",
    "\n",
    "# input_filepath_stem = input_filepath.stem\n",
    "# display(input_filepath_stem)"
   ]
  },
  {
   "cell_type": "code",
   "execution_count": 13,
   "id": "confused-russia",
   "metadata": {
    "papermill": {
     "duration": 0.032337,
     "end_time": "2021-05-11T19:09:57.090585",
     "exception": false,
     "start_time": "2021-05-11T19:09:57.058248",
     "status": "completed"
    },
    "tags": []
   },
   "outputs": [],
   "source": [
    "# data = pd.read_pickle(input_filepath)"
   ]
  },
  {
   "cell_type": "code",
   "execution_count": 14,
   "id": "brazilian-aquatic",
   "metadata": {
    "papermill": {
     "duration": 0.01967,
     "end_time": "2021-05-11T19:09:57.116292",
     "exception": false,
     "start_time": "2021-05-11T19:09:57.096622",
     "status": "completed"
    },
    "tags": []
   },
   "outputs": [],
   "source": [
    "# data.shape"
   ]
  },
  {
   "cell_type": "code",
   "execution_count": 15,
   "id": "material-cleaners",
   "metadata": {
    "papermill": {
     "duration": 0.031843,
     "end_time": "2021-05-11T19:09:57.154356",
     "exception": false,
     "start_time": "2021-05-11T19:09:57.122513",
     "status": "completed"
    },
    "tags": []
   },
   "outputs": [],
   "source": [
    "# data.head()"
   ]
  },
  {
   "cell_type": "markdown",
   "id": "official-acrylic",
   "metadata": {},
   "source": [
    "## LV data"
   ]
  },
  {
   "cell_type": "code",
   "execution_count": 16,
   "id": "broken-instrumentation",
   "metadata": {},
   "outputs": [],
   "source": [
    "lv_obj = LVAnalysis(LV_NAME)  # FIXME: does it work without data as argument?"
   ]
  },
  {
   "cell_type": "code",
   "execution_count": 63,
   "id": "spread-token",
   "metadata": {},
   "outputs": [
    {
     "data": {
      "text/html": [
       "<div>\n",
       "<style scoped>\n",
       "    .dataframe tbody tr th:only-of-type {\n",
       "        vertical-align: middle;\n",
       "    }\n",
       "\n",
       "    .dataframe tbody tr th {\n",
       "        vertical-align: top;\n",
       "    }\n",
       "\n",
       "    .dataframe thead th {\n",
       "        text-align: right;\n",
       "    }\n",
       "</style>\n",
       "<table border=\"1\" class=\"dataframe\">\n",
       "  <thead>\n",
       "    <tr style=\"text-align: right;\">\n",
       "      <th></th>\n",
       "      <th>gene_name</th>\n",
       "      <th>LV603</th>\n",
       "      <th>gene_band</th>\n",
       "    </tr>\n",
       "  </thead>\n",
       "  <tbody>\n",
       "    <tr>\n",
       "      <th>0</th>\n",
       "      <td>CXCR2</td>\n",
       "      <td>5.320459</td>\n",
       "      <td>2q35</td>\n",
       "    </tr>\n",
       "    <tr>\n",
       "      <th>1</th>\n",
       "      <td>FCGR3B</td>\n",
       "      <td>5.128372</td>\n",
       "      <td>1q23.3</td>\n",
       "    </tr>\n",
       "    <tr>\n",
       "      <th>2</th>\n",
       "      <td>TNFRSF10C</td>\n",
       "      <td>5.035457</td>\n",
       "      <td>8p21.3</td>\n",
       "    </tr>\n",
       "    <tr>\n",
       "      <th>3</th>\n",
       "      <td>VNN2</td>\n",
       "      <td>4.680865</td>\n",
       "      <td>6q23.2</td>\n",
       "    </tr>\n",
       "    <tr>\n",
       "      <th>4</th>\n",
       "      <td>ZDHHC18</td>\n",
       "      <td>4.495976</td>\n",
       "      <td>1p36.11</td>\n",
       "    </tr>\n",
       "    <tr>\n",
       "      <th>5</th>\n",
       "      <td>MNDA</td>\n",
       "      <td>4.488505</td>\n",
       "      <td>1q23.1</td>\n",
       "    </tr>\n",
       "    <tr>\n",
       "      <th>6</th>\n",
       "      <td>CXCR1</td>\n",
       "      <td>4.442062</td>\n",
       "      <td>2q35</td>\n",
       "    </tr>\n",
       "    <tr>\n",
       "      <th>7</th>\n",
       "      <td>P2RY13</td>\n",
       "      <td>4.404405</td>\n",
       "      <td>3q25.1</td>\n",
       "    </tr>\n",
       "    <tr>\n",
       "      <th>8</th>\n",
       "      <td>VNN3</td>\n",
       "      <td>4.253184</td>\n",
       "      <td>6q23.2</td>\n",
       "    </tr>\n",
       "    <tr>\n",
       "      <th>9</th>\n",
       "      <td>FPR2</td>\n",
       "      <td>4.187560</td>\n",
       "      <td>19q13.41</td>\n",
       "    </tr>\n",
       "    <tr>\n",
       "      <th>10</th>\n",
       "      <td>CEACAM3</td>\n",
       "      <td>4.139476</td>\n",
       "      <td>19q13.2</td>\n",
       "    </tr>\n",
       "    <tr>\n",
       "      <th>11</th>\n",
       "      <td>C5AR1</td>\n",
       "      <td>4.101986</td>\n",
       "      <td>19q13.32</td>\n",
       "    </tr>\n",
       "    <tr>\n",
       "      <th>12</th>\n",
       "      <td>SLC45A4</td>\n",
       "      <td>4.068913</td>\n",
       "      <td>8q24.3</td>\n",
       "    </tr>\n",
       "    <tr>\n",
       "      <th>13</th>\n",
       "      <td>AQP9</td>\n",
       "      <td>3.939923</td>\n",
       "      <td>15q21.3</td>\n",
       "    </tr>\n",
       "    <tr>\n",
       "      <th>14</th>\n",
       "      <td>CCR3</td>\n",
       "      <td>3.883533</td>\n",
       "      <td>3p21.31</td>\n",
       "    </tr>\n",
       "    <tr>\n",
       "      <th>15</th>\n",
       "      <td>ABTB1</td>\n",
       "      <td>3.745259</td>\n",
       "      <td>3q21.3</td>\n",
       "    </tr>\n",
       "    <tr>\n",
       "      <th>16</th>\n",
       "      <td>CSF3R</td>\n",
       "      <td>3.735651</td>\n",
       "      <td>1p34.3</td>\n",
       "    </tr>\n",
       "    <tr>\n",
       "      <th>17</th>\n",
       "      <td>FPR1</td>\n",
       "      <td>3.720018</td>\n",
       "      <td>19q13.41</td>\n",
       "    </tr>\n",
       "    <tr>\n",
       "      <th>18</th>\n",
       "      <td>DPEP2</td>\n",
       "      <td>3.656125</td>\n",
       "      <td>16q22.1</td>\n",
       "    </tr>\n",
       "    <tr>\n",
       "      <th>19</th>\n",
       "      <td>SIRPB1</td>\n",
       "      <td>3.632251</td>\n",
       "      <td>20p13</td>\n",
       "    </tr>\n",
       "  </tbody>\n",
       "</table>\n",
       "</div>"
      ],
      "text/plain": [
       "    gene_name     LV603 gene_band\n",
       "0       CXCR2  5.320459      2q35\n",
       "1      FCGR3B  5.128372    1q23.3\n",
       "2   TNFRSF10C  5.035457    8p21.3\n",
       "3        VNN2  4.680865    6q23.2\n",
       "4     ZDHHC18  4.495976   1p36.11\n",
       "5        MNDA  4.488505    1q23.1\n",
       "6       CXCR1  4.442062      2q35\n",
       "7      P2RY13  4.404405    3q25.1\n",
       "8        VNN3  4.253184    6q23.2\n",
       "9        FPR2  4.187560  19q13.41\n",
       "10    CEACAM3  4.139476   19q13.2\n",
       "11      C5AR1  4.101986  19q13.32\n",
       "12    SLC45A4  4.068913    8q24.3\n",
       "13       AQP9  3.939923   15q21.3\n",
       "14       CCR3  3.883533   3p21.31\n",
       "15      ABTB1  3.745259    3q21.3\n",
       "16      CSF3R  3.735651    1p34.3\n",
       "17       FPR1  3.720018  19q13.41\n",
       "18      DPEP2  3.656125   16q22.1\n",
       "19     SIRPB1  3.632251     20p13"
      ]
     },
     "execution_count": 63,
     "metadata": {},
     "output_type": "execute_result"
    }
   ],
   "source": [
    "lv_obj.lv_genes.head(20)"
   ]
  },
  {
   "cell_type": "code",
   "execution_count": 20,
   "id": "italian-chapter",
   "metadata": {},
   "outputs": [
    {
     "data": {
      "text/html": [
       "<div>\n",
       "<style scoped>\n",
       "    .dataframe tbody tr th:only-of-type {\n",
       "        vertical-align: middle;\n",
       "    }\n",
       "\n",
       "    .dataframe tbody tr th {\n",
       "        vertical-align: top;\n",
       "    }\n",
       "\n",
       "    .dataframe thead th {\n",
       "        text-align: right;\n",
       "    }\n",
       "</style>\n",
       "<table border=\"1\" class=\"dataframe\">\n",
       "  <thead>\n",
       "    <tr style=\"text-align: right;\">\n",
       "      <th></th>\n",
       "      <th>pathway</th>\n",
       "      <th>LV index</th>\n",
       "      <th>AUC</th>\n",
       "      <th>p-value</th>\n",
       "      <th>FDR</th>\n",
       "    </tr>\n",
       "  </thead>\n",
       "  <tbody>\n",
       "    <tr>\n",
       "      <th>1511</th>\n",
       "      <td>IRIS_Neutrophil-Resting</td>\n",
       "      <td>603</td>\n",
       "      <td>0.905751</td>\n",
       "      <td>8.355936e-38</td>\n",
       "      <td>4.505939e-35</td>\n",
       "    </tr>\n",
       "    <tr>\n",
       "      <th>1512</th>\n",
       "      <td>SVM Neutrophils</td>\n",
       "      <td>603</td>\n",
       "      <td>0.979789</td>\n",
       "      <td>2.856571e-11</td>\n",
       "      <td>1.432936e-09</td>\n",
       "    </tr>\n",
       "    <tr>\n",
       "      <th>1513</th>\n",
       "      <td>PID_IL8CXCR2_PATHWAY</td>\n",
       "      <td>603</td>\n",
       "      <td>0.810732</td>\n",
       "      <td>8.814671e-04</td>\n",
       "      <td>7.041943e-03</td>\n",
       "    </tr>\n",
       "    <tr>\n",
       "      <th>1516</th>\n",
       "      <td>SIG_PIP3_SIGNALING_IN_B_LYMPHOCYTES</td>\n",
       "      <td>603</td>\n",
       "      <td>0.769292</td>\n",
       "      <td>3.387907e-03</td>\n",
       "      <td>1.948724e-02</td>\n",
       "    </tr>\n",
       "  </tbody>\n",
       "</table>\n",
       "</div>"
      ],
      "text/plain": [
       "                                  pathway LV index       AUC       p-value  \\\n",
       "1511              IRIS_Neutrophil-Resting      603  0.905751  8.355936e-38   \n",
       "1512                      SVM Neutrophils      603  0.979789  2.856571e-11   \n",
       "1513                 PID_IL8CXCR2_PATHWAY      603  0.810732  8.814671e-04   \n",
       "1516  SIG_PIP3_SIGNALING_IN_B_LYMPHOCYTES      603  0.769292  3.387907e-03   \n",
       "\n",
       "               FDR  \n",
       "1511  4.505939e-35  \n",
       "1512  1.432936e-09  \n",
       "1513  7.041943e-03  \n",
       "1516  1.948724e-02  "
      ]
     },
     "execution_count": 20,
     "metadata": {},
     "output_type": "execute_result"
    }
   ],
   "source": [
    "multiplier_model_summary[\n",
    "    multiplier_model_summary[\"LV index\"].isin((LV_NAME[2:],))\n",
    "    & (\n",
    "        (multiplier_model_summary[\"FDR\"] < 0.05)\n",
    "        & (multiplier_model_summary[\"AUC\"] >= 0.75)\n",
    "    )\n",
    "]"
   ]
  },
  {
   "cell_type": "code",
   "execution_count": 21,
   "id": "applied-amino",
   "metadata": {},
   "outputs": [
    {
     "name": "stdout",
     "output_type": "stream",
     "text": [
      "SRP051688, SRP059959, SRP045500, SRP044593, SRP048971, SRP015360, SRP056159, SRP059695, SRP026331, SRP051848, SRP062966, SRP017138, SRP022133, SRP059039, SRP059172, SRP058237, SRP043080, SRP056443, SRP034732, SRP055874, SRP041620, SRP056784, "
     ]
    },
    {
     "name": "stderr",
     "output_type": "stream",
     "text": [
      "/home/miltondp/projects/labs/greenelab/phenoplier/libs/data/recount2.py:323: UserWarning: Not all experiments data could be loaded (21 != 22)\n",
      "  warnings.warn(\n"
     ]
    }
   ],
   "source": [
    "lv_data = lv_obj.get_experiments_data()"
   ]
  },
  {
   "cell_type": "code",
   "execution_count": 22,
   "id": "engaged-madrid",
   "metadata": {},
   "outputs": [
    {
     "data": {
      "text/plain": [
       "(1141, 50)"
      ]
     },
     "execution_count": 22,
     "metadata": {},
     "output_type": "execute_result"
    }
   ],
   "source": [
    "lv_data.shape"
   ]
  },
  {
   "cell_type": "code",
   "execution_count": 23,
   "id": "direct-hungarian",
   "metadata": {},
   "outputs": [
    {
     "data": {
      "text/html": [
       "<div>\n",
       "<style scoped>\n",
       "    .dataframe tbody tr th:only-of-type {\n",
       "        vertical-align: middle;\n",
       "    }\n",
       "\n",
       "    .dataframe tbody tr th {\n",
       "        vertical-align: top;\n",
       "    }\n",
       "\n",
       "    .dataframe thead th {\n",
       "        text-align: right;\n",
       "    }\n",
       "</style>\n",
       "<table border=\"1\" class=\"dataframe\">\n",
       "  <thead>\n",
       "    <tr style=\"text-align: right;\">\n",
       "      <th></th>\n",
       "      <th></th>\n",
       "      <th>time</th>\n",
       "      <th>cell type</th>\n",
       "      <th>assay</th>\n",
       "      <th>donor</th>\n",
       "      <th>tissue</th>\n",
       "      <th>passages</th>\n",
       "      <th>age</th>\n",
       "      <th>cellcount</th>\n",
       "      <th>celltype</th>\n",
       "      <th>collectiondate</th>\n",
       "      <th>...</th>\n",
       "      <th>country</th>\n",
       "      <th>location</th>\n",
       "      <th>individual</th>\n",
       "      <th>disease state</th>\n",
       "      <th>diagnosis</th>\n",
       "      <th>disease/health status</th>\n",
       "      <th>timepoint</th>\n",
       "      <th>treatment status</th>\n",
       "      <th>ethnicity</th>\n",
       "      <th>LV603</th>\n",
       "    </tr>\n",
       "    <tr>\n",
       "      <th>project</th>\n",
       "      <th>run</th>\n",
       "      <th></th>\n",
       "      <th></th>\n",
       "      <th></th>\n",
       "      <th></th>\n",
       "      <th></th>\n",
       "      <th></th>\n",
       "      <th></th>\n",
       "      <th></th>\n",
       "      <th></th>\n",
       "      <th></th>\n",
       "      <th></th>\n",
       "      <th></th>\n",
       "      <th></th>\n",
       "      <th></th>\n",
       "      <th></th>\n",
       "      <th></th>\n",
       "      <th></th>\n",
       "      <th></th>\n",
       "      <th></th>\n",
       "      <th></th>\n",
       "      <th></th>\n",
       "    </tr>\n",
       "  </thead>\n",
       "  <tbody>\n",
       "    <tr>\n",
       "      <th rowspan=\"5\" valign=\"top\">SRP051688</th>\n",
       "      <th>SRR1740034</th>\n",
       "      <td>0 d</td>\n",
       "      <td>primary human B cells</td>\n",
       "      <td>RNA-seq</td>\n",
       "      <td>Donor: HD30</td>\n",
       "      <td>NaN</td>\n",
       "      <td>NaN</td>\n",
       "      <td>NaN</td>\n",
       "      <td>NaN</td>\n",
       "      <td>NaN</td>\n",
       "      <td>NaN</td>\n",
       "      <td>...</td>\n",
       "      <td>NaN</td>\n",
       "      <td>NaN</td>\n",
       "      <td>NaN</td>\n",
       "      <td>NaN</td>\n",
       "      <td>NaN</td>\n",
       "      <td>NaN</td>\n",
       "      <td>NaN</td>\n",
       "      <td>NaN</td>\n",
       "      <td>NaN</td>\n",
       "      <td>-0.026016</td>\n",
       "    </tr>\n",
       "    <tr>\n",
       "      <th>SRR1740035</th>\n",
       "      <td>1 d</td>\n",
       "      <td>primary human B cells</td>\n",
       "      <td>RNA-seq</td>\n",
       "      <td>Donor: HD30</td>\n",
       "      <td>NaN</td>\n",
       "      <td>NaN</td>\n",
       "      <td>NaN</td>\n",
       "      <td>NaN</td>\n",
       "      <td>NaN</td>\n",
       "      <td>NaN</td>\n",
       "      <td>...</td>\n",
       "      <td>NaN</td>\n",
       "      <td>NaN</td>\n",
       "      <td>NaN</td>\n",
       "      <td>NaN</td>\n",
       "      <td>NaN</td>\n",
       "      <td>NaN</td>\n",
       "      <td>NaN</td>\n",
       "      <td>NaN</td>\n",
       "      <td>NaN</td>\n",
       "      <td>-0.029451</td>\n",
       "    </tr>\n",
       "    <tr>\n",
       "      <th>SRR1740036</th>\n",
       "      <td>3 d</td>\n",
       "      <td>primary human B cells</td>\n",
       "      <td>RNA-seq</td>\n",
       "      <td>Donor: HD30</td>\n",
       "      <td>NaN</td>\n",
       "      <td>NaN</td>\n",
       "      <td>NaN</td>\n",
       "      <td>NaN</td>\n",
       "      <td>NaN</td>\n",
       "      <td>NaN</td>\n",
       "      <td>...</td>\n",
       "      <td>NaN</td>\n",
       "      <td>NaN</td>\n",
       "      <td>NaN</td>\n",
       "      <td>NaN</td>\n",
       "      <td>NaN</td>\n",
       "      <td>NaN</td>\n",
       "      <td>NaN</td>\n",
       "      <td>NaN</td>\n",
       "      <td>NaN</td>\n",
       "      <td>-0.027997</td>\n",
       "    </tr>\n",
       "    <tr>\n",
       "      <th>SRR1740037</th>\n",
       "      <td>7 d</td>\n",
       "      <td>primary human B cells</td>\n",
       "      <td>RNA-seq</td>\n",
       "      <td>Donor: HD30</td>\n",
       "      <td>NaN</td>\n",
       "      <td>NaN</td>\n",
       "      <td>NaN</td>\n",
       "      <td>NaN</td>\n",
       "      <td>NaN</td>\n",
       "      <td>NaN</td>\n",
       "      <td>...</td>\n",
       "      <td>NaN</td>\n",
       "      <td>NaN</td>\n",
       "      <td>NaN</td>\n",
       "      <td>NaN</td>\n",
       "      <td>NaN</td>\n",
       "      <td>NaN</td>\n",
       "      <td>NaN</td>\n",
       "      <td>NaN</td>\n",
       "      <td>NaN</td>\n",
       "      <td>-0.025136</td>\n",
       "    </tr>\n",
       "    <tr>\n",
       "      <th>SRR1740038</th>\n",
       "      <td>0 d</td>\n",
       "      <td>primary human myeloid DC</td>\n",
       "      <td>RNA-seq</td>\n",
       "      <td>Donor: HD30</td>\n",
       "      <td>NaN</td>\n",
       "      <td>NaN</td>\n",
       "      <td>NaN</td>\n",
       "      <td>NaN</td>\n",
       "      <td>NaN</td>\n",
       "      <td>NaN</td>\n",
       "      <td>...</td>\n",
       "      <td>NaN</td>\n",
       "      <td>NaN</td>\n",
       "      <td>NaN</td>\n",
       "      <td>NaN</td>\n",
       "      <td>NaN</td>\n",
       "      <td>NaN</td>\n",
       "      <td>NaN</td>\n",
       "      <td>NaN</td>\n",
       "      <td>NaN</td>\n",
       "      <td>0.124358</td>\n",
       "    </tr>\n",
       "  </tbody>\n",
       "</table>\n",
       "<p>5 rows × 50 columns</p>\n",
       "</div>"
      ],
      "text/plain": [
       "                     time                 cell type    assay        donor  \\\n",
       "project   run                                                               \n",
       "SRP051688 SRR1740034  0 d     primary human B cells  RNA-seq  Donor: HD30   \n",
       "          SRR1740035  1 d     primary human B cells  RNA-seq  Donor: HD30   \n",
       "          SRR1740036  3 d     primary human B cells  RNA-seq  Donor: HD30   \n",
       "          SRR1740037  7 d     primary human B cells  RNA-seq  Donor: HD30   \n",
       "          SRR1740038  0 d  primary human myeloid DC  RNA-seq  Donor: HD30   \n",
       "\n",
       "                     tissue passages  age cellcount celltype collectiondate  \\\n",
       "project   run                                                                 \n",
       "SRP051688 SRR1740034    NaN      NaN  NaN       NaN      NaN            NaN   \n",
       "          SRR1740035    NaN      NaN  NaN       NaN      NaN            NaN   \n",
       "          SRR1740036    NaN      NaN  NaN       NaN      NaN            NaN   \n",
       "          SRR1740037    NaN      NaN  NaN       NaN      NaN            NaN   \n",
       "          SRR1740038    NaN      NaN  NaN       NaN      NaN            NaN   \n",
       "\n",
       "                      ... country location individual disease state diagnosis  \\\n",
       "project   run         ...                                                       \n",
       "SRP051688 SRR1740034  ...     NaN      NaN        NaN           NaN       NaN   \n",
       "          SRR1740035  ...     NaN      NaN        NaN           NaN       NaN   \n",
       "          SRR1740036  ...     NaN      NaN        NaN           NaN       NaN   \n",
       "          SRR1740037  ...     NaN      NaN        NaN           NaN       NaN   \n",
       "          SRR1740038  ...     NaN      NaN        NaN           NaN       NaN   \n",
       "\n",
       "                     disease/health status timepoint treatment status  \\\n",
       "project   run                                                           \n",
       "SRP051688 SRR1740034                   NaN       NaN              NaN   \n",
       "          SRR1740035                   NaN       NaN              NaN   \n",
       "          SRR1740036                   NaN       NaN              NaN   \n",
       "          SRR1740037                   NaN       NaN              NaN   \n",
       "          SRR1740038                   NaN       NaN              NaN   \n",
       "\n",
       "                     ethnicity     LV603  \n",
       "project   run                             \n",
       "SRP051688 SRR1740034       NaN -0.026016  \n",
       "          SRR1740035       NaN -0.029451  \n",
       "          SRR1740036       NaN -0.027997  \n",
       "          SRR1740037       NaN -0.025136  \n",
       "          SRR1740038       NaN  0.124358  \n",
       "\n",
       "[5 rows x 50 columns]"
      ]
     },
     "execution_count": 23,
     "metadata": {},
     "output_type": "execute_result"
    }
   ],
   "source": [
    "lv_data.head()"
   ]
  },
  {
   "cell_type": "markdown",
   "id": "enabling-indicator",
   "metadata": {},
   "source": [
    "# LV cell types analysis"
   ]
  },
  {
   "cell_type": "markdown",
   "id": "convertible-sharing",
   "metadata": {},
   "source": [
    "## Get top attributes"
   ]
  },
  {
   "cell_type": "code",
   "execution_count": 24,
   "id": "enormous-knock",
   "metadata": {},
   "outputs": [
    {
     "data": {
      "text/plain": [
       "cell type                         0.587916\n",
       "assay                             0.578014\n",
       "source                            0.574160\n",
       "passages                          0.509250\n",
       "diseasestatus                     0.445557\n",
       "race                              0.445557\n",
       "time since symptom onset (yrs)    0.445557\n",
       "time since steroid dose           0.445557\n",
       "time since last flare (months)    0.445557\n",
       "smoker                            0.445557\n",
       "samplename                        0.445557\n",
       "years since diagnosis             0.445557\n",
       "index                             0.445557\n",
       "donorid                           0.445557\n",
       "collectiondate                    0.445557\n",
       "celltype                          0.445557\n",
       "cellcount                         0.445557\n",
       "donor                             0.433574\n",
       "treatment                         0.407633\n",
       "time                              0.314083\n",
       "dtype: float64"
      ]
     },
     "metadata": {},
     "output_type": "display_data"
    }
   ],
   "source": [
    "lv_attrs = lv_obj.get_attributes_variation_score()\n",
    "display(lv_attrs.head(20))"
   ]
  },
  {
   "cell_type": "code",
   "execution_count": 28,
   "id": "elect-davis",
   "metadata": {},
   "outputs": [
    {
     "data": {
      "text/plain": [
       "cell type    0.587916\n",
       "celltype     0.445557\n",
       "tissue       0.146257\n",
       "dtype: float64"
      ]
     },
     "execution_count": 28,
     "metadata": {},
     "output_type": "execute_result"
    }
   ],
   "source": [
    "# show those with cell type or tissue in their name\n",
    "_tmp = pd.Series(lv_attrs.index)\n",
    "lv_attrs[\n",
    "    _tmp.str.match(\n",
    "        \"(?:cell.*(type|line)$)|(?:tissue$)|(?:tissue.*type$)\",\n",
    "        case=False,\n",
    "        flags=re.IGNORECASE,\n",
    "    ).values\n",
    "].sort_values(ascending=False)"
   ]
  },
  {
   "cell_type": "code",
   "execution_count": 29,
   "id": "biblical-label",
   "metadata": {},
   "outputs": [],
   "source": [
    "lv_attrs_selected = [\n",
    "    \"cell type\",\n",
    "    \"celltype\",\n",
    "    \"tissue\",\n",
    "]"
   ]
  },
  {
   "cell_type": "code",
   "execution_count": 30,
   "id": "peaceful-medication",
   "metadata": {},
   "outputs": [],
   "source": [
    "_tmp = lv_data.loc[\n",
    "    :,\n",
    "    lv_attrs_selected + [LV_NAME],\n",
    "]"
   ]
  },
  {
   "cell_type": "code",
   "execution_count": 31,
   "id": "split-remedy",
   "metadata": {},
   "outputs": [],
   "source": [
    "_tmp_seq = list(chunker(_tmp.sort_values(LV_NAME, ascending=False), 25))"
   ]
  },
  {
   "cell_type": "code",
   "execution_count": 43,
   "id": "economic-beast",
   "metadata": {},
   "outputs": [
    {
     "data": {
      "text/html": [
       "<div>\n",
       "<style scoped>\n",
       "    .dataframe tbody tr th:only-of-type {\n",
       "        vertical-align: middle;\n",
       "    }\n",
       "\n",
       "    .dataframe tbody tr th {\n",
       "        vertical-align: top;\n",
       "    }\n",
       "\n",
       "    .dataframe thead th {\n",
       "        text-align: right;\n",
       "    }\n",
       "</style>\n",
       "<table border=\"1\" class=\"dataframe\">\n",
       "  <thead>\n",
       "    <tr style=\"text-align: right;\">\n",
       "      <th></th>\n",
       "      <th></th>\n",
       "      <th>cell type</th>\n",
       "      <th>celltype</th>\n",
       "      <th>tissue</th>\n",
       "      <th>LV603</th>\n",
       "    </tr>\n",
       "    <tr>\n",
       "      <th>project</th>\n",
       "      <th>run</th>\n",
       "      <th></th>\n",
       "      <th></th>\n",
       "      <th></th>\n",
       "      <th></th>\n",
       "    </tr>\n",
       "  </thead>\n",
       "  <tbody>\n",
       "    <tr>\n",
       "      <th rowspan=\"4\" valign=\"top\">SRP051688</th>\n",
       "      <th>SRR1740077</th>\n",
       "      <td>primary human neutrophils</td>\n",
       "      <td>NaN</td>\n",
       "      <td>NaN</td>\n",
       "      <td>2.279927</td>\n",
       "    </tr>\n",
       "    <tr>\n",
       "      <th>SRR1740076</th>\n",
       "      <td>primary human neutrophils</td>\n",
       "      <td>NaN</td>\n",
       "      <td>NaN</td>\n",
       "      <td>2.256947</td>\n",
       "    </tr>\n",
       "    <tr>\n",
       "      <th>SRR1740046</th>\n",
       "      <td>primary human neutrophils</td>\n",
       "      <td>NaN</td>\n",
       "      <td>NaN</td>\n",
       "      <td>2.215945</td>\n",
       "    </tr>\n",
       "    <tr>\n",
       "      <th>SRR1740049</th>\n",
       "      <td>primary human neutrophils</td>\n",
       "      <td>NaN</td>\n",
       "      <td>NaN</td>\n",
       "      <td>2.203057</td>\n",
       "    </tr>\n",
       "    <tr>\n",
       "      <th rowspan=\"2\" valign=\"top\">SRP059959</th>\n",
       "      <th>SRR2082517</th>\n",
       "      <td>granulocyte</td>\n",
       "      <td>NaN</td>\n",
       "      <td>blood</td>\n",
       "      <td>2.169530</td>\n",
       "    </tr>\n",
       "    <tr>\n",
       "      <th>SRR2082519</th>\n",
       "      <td>granulocyte</td>\n",
       "      <td>NaN</td>\n",
       "      <td>blood</td>\n",
       "      <td>2.151865</td>\n",
       "    </tr>\n",
       "    <tr>\n",
       "      <th>SRP051688</th>\n",
       "      <th>SRR1740047</th>\n",
       "      <td>primary human neutrophils</td>\n",
       "      <td>NaN</td>\n",
       "      <td>NaN</td>\n",
       "      <td>2.133590</td>\n",
       "    </tr>\n",
       "    <tr>\n",
       "      <th rowspan=\"2\" valign=\"top\">SRP059959</th>\n",
       "      <th>SRR2082532</th>\n",
       "      <td>granulocyte</td>\n",
       "      <td>NaN</td>\n",
       "      <td>blood</td>\n",
       "      <td>2.129115</td>\n",
       "    </tr>\n",
       "    <tr>\n",
       "      <th>SRR2082533</th>\n",
       "      <td>granulocyte</td>\n",
       "      <td>NaN</td>\n",
       "      <td>blood</td>\n",
       "      <td>2.126420</td>\n",
       "    </tr>\n",
       "    <tr>\n",
       "      <th rowspan=\"2\" valign=\"top\">SRP051688</th>\n",
       "      <th>SRR1740048</th>\n",
       "      <td>primary human neutrophils</td>\n",
       "      <td>NaN</td>\n",
       "      <td>NaN</td>\n",
       "      <td>2.124825</td>\n",
       "    </tr>\n",
       "    <tr>\n",
       "      <th>SRR1740074</th>\n",
       "      <td>primary human neutrophils</td>\n",
       "      <td>NaN</td>\n",
       "      <td>NaN</td>\n",
       "      <td>2.103118</td>\n",
       "    </tr>\n",
       "    <tr>\n",
       "      <th>SRP045500</th>\n",
       "      <th>SRR1551033</th>\n",
       "      <td>NaN</td>\n",
       "      <td>Neutrophils</td>\n",
       "      <td>NaN</td>\n",
       "      <td>2.095864</td>\n",
       "    </tr>\n",
       "    <tr>\n",
       "      <th>SRP059959</th>\n",
       "      <th>SRR2082518</th>\n",
       "      <td>granulocyte</td>\n",
       "      <td>NaN</td>\n",
       "      <td>blood</td>\n",
       "      <td>2.091945</td>\n",
       "    </tr>\n",
       "    <tr>\n",
       "      <th>SRP045500</th>\n",
       "      <th>SRR1551061</th>\n",
       "      <td>NaN</td>\n",
       "      <td>Neutrophils</td>\n",
       "      <td>NaN</td>\n",
       "      <td>2.085310</td>\n",
       "    </tr>\n",
       "    <tr>\n",
       "      <th rowspan=\"7\" valign=\"top\">SRP059959</th>\n",
       "      <th>SRR2082526</th>\n",
       "      <td>granulocyte</td>\n",
       "      <td>NaN</td>\n",
       "      <td>blood</td>\n",
       "      <td>2.085297</td>\n",
       "    </tr>\n",
       "    <tr>\n",
       "      <th>SRR2082525</th>\n",
       "      <td>granulocyte</td>\n",
       "      <td>NaN</td>\n",
       "      <td>blood</td>\n",
       "      <td>2.085107</td>\n",
       "    </tr>\n",
       "    <tr>\n",
       "      <th>SRR2082527</th>\n",
       "      <td>granulocyte</td>\n",
       "      <td>NaN</td>\n",
       "      <td>blood</td>\n",
       "      <td>2.082319</td>\n",
       "    </tr>\n",
       "    <tr>\n",
       "      <th>SRR2082530</th>\n",
       "      <td>granulocyte</td>\n",
       "      <td>NaN</td>\n",
       "      <td>blood</td>\n",
       "      <td>2.079952</td>\n",
       "    </tr>\n",
       "    <tr>\n",
       "      <th>SRR2082523</th>\n",
       "      <td>granulocyte</td>\n",
       "      <td>NaN</td>\n",
       "      <td>blood</td>\n",
       "      <td>2.079069</td>\n",
       "    </tr>\n",
       "    <tr>\n",
       "      <th>SRR2082531</th>\n",
       "      <td>granulocyte</td>\n",
       "      <td>NaN</td>\n",
       "      <td>blood</td>\n",
       "      <td>2.078531</td>\n",
       "    </tr>\n",
       "    <tr>\n",
       "      <th>SRR2082524</th>\n",
       "      <td>granulocyte</td>\n",
       "      <td>NaN</td>\n",
       "      <td>blood</td>\n",
       "      <td>2.077891</td>\n",
       "    </tr>\n",
       "    <tr>\n",
       "      <th>SRP045500</th>\n",
       "      <th>SRR1551088</th>\n",
       "      <td>NaN</td>\n",
       "      <td>Neutrophils</td>\n",
       "      <td>NaN</td>\n",
       "      <td>2.075770</td>\n",
       "    </tr>\n",
       "    <tr>\n",
       "      <th rowspan=\"2\" valign=\"top\">SRP059959</th>\n",
       "      <th>SRR2082534</th>\n",
       "      <td>granulocyte</td>\n",
       "      <td>NaN</td>\n",
       "      <td>blood</td>\n",
       "      <td>2.072290</td>\n",
       "    </tr>\n",
       "    <tr>\n",
       "      <th>SRR2082535</th>\n",
       "      <td>granulocyte</td>\n",
       "      <td>NaN</td>\n",
       "      <td>blood</td>\n",
       "      <td>2.071957</td>\n",
       "    </tr>\n",
       "    <tr>\n",
       "      <th>SRP045500</th>\n",
       "      <th>SRR1550992</th>\n",
       "      <td>NaN</td>\n",
       "      <td>Neutrophils</td>\n",
       "      <td>NaN</td>\n",
       "      <td>2.071362</td>\n",
       "    </tr>\n",
       "  </tbody>\n",
       "</table>\n",
       "</div>"
      ],
      "text/plain": [
       "                                      cell type     celltype tissue     LV603\n",
       "project   run                                                                \n",
       "SRP051688 SRR1740077  primary human neutrophils          NaN    NaN  2.279927\n",
       "          SRR1740076  primary human neutrophils          NaN    NaN  2.256947\n",
       "          SRR1740046  primary human neutrophils          NaN    NaN  2.215945\n",
       "          SRR1740049  primary human neutrophils          NaN    NaN  2.203057\n",
       "SRP059959 SRR2082517                granulocyte          NaN  blood  2.169530\n",
       "          SRR2082519                granulocyte          NaN  blood  2.151865\n",
       "SRP051688 SRR1740047  primary human neutrophils          NaN    NaN  2.133590\n",
       "SRP059959 SRR2082532                granulocyte          NaN  blood  2.129115\n",
       "          SRR2082533                granulocyte          NaN  blood  2.126420\n",
       "SRP051688 SRR1740048  primary human neutrophils          NaN    NaN  2.124825\n",
       "          SRR1740074  primary human neutrophils          NaN    NaN  2.103118\n",
       "SRP045500 SRR1551033                        NaN  Neutrophils    NaN  2.095864\n",
       "SRP059959 SRR2082518                granulocyte          NaN  blood  2.091945\n",
       "SRP045500 SRR1551061                        NaN  Neutrophils    NaN  2.085310\n",
       "SRP059959 SRR2082526                granulocyte          NaN  blood  2.085297\n",
       "          SRR2082525                granulocyte          NaN  blood  2.085107\n",
       "          SRR2082527                granulocyte          NaN  blood  2.082319\n",
       "          SRR2082530                granulocyte          NaN  blood  2.079952\n",
       "          SRR2082523                granulocyte          NaN  blood  2.079069\n",
       "          SRR2082531                granulocyte          NaN  blood  2.078531\n",
       "          SRR2082524                granulocyte          NaN  blood  2.077891\n",
       "SRP045500 SRR1551088                        NaN  Neutrophils    NaN  2.075770\n",
       "SRP059959 SRR2082534                granulocyte          NaN  blood  2.072290\n",
       "          SRR2082535                granulocyte          NaN  blood  2.071957\n",
       "SRP045500 SRR1550992                        NaN  Neutrophils    NaN  2.071362"
      ]
     },
     "execution_count": 43,
     "metadata": {},
     "output_type": "execute_result"
    }
   ],
   "source": [
    "_tmp_seq[0]"
   ]
  },
  {
   "cell_type": "code",
   "execution_count": 34,
   "id": "minute-liver",
   "metadata": {},
   "outputs": [
    {
     "data": {
      "text/html": [
       "<div>\n",
       "<style scoped>\n",
       "    .dataframe tbody tr th:only-of-type {\n",
       "        vertical-align: middle;\n",
       "    }\n",
       "\n",
       "    .dataframe tbody tr th {\n",
       "        vertical-align: top;\n",
       "    }\n",
       "\n",
       "    .dataframe thead th {\n",
       "        text-align: right;\n",
       "    }\n",
       "</style>\n",
       "<table border=\"1\" class=\"dataframe\">\n",
       "  <thead>\n",
       "    <tr style=\"text-align: right;\">\n",
       "      <th></th>\n",
       "      <th></th>\n",
       "      <th>age</th>\n",
       "      <th>Sex</th>\n",
       "      <th>treatment</th>\n",
       "      <th>LV603</th>\n",
       "    </tr>\n",
       "    <tr>\n",
       "      <th>project</th>\n",
       "      <th>run</th>\n",
       "      <th></th>\n",
       "      <th></th>\n",
       "      <th></th>\n",
       "      <th></th>\n",
       "    </tr>\n",
       "  </thead>\n",
       "  <tbody>\n",
       "    <tr>\n",
       "      <th rowspan=\"6\" valign=\"top\">SRP015360</th>\n",
       "      <th>SRR553460</th>\n",
       "      <td>30</td>\n",
       "      <td>male</td>\n",
       "      <td>none</td>\n",
       "      <td>1.936240</td>\n",
       "    </tr>\n",
       "    <tr>\n",
       "      <th>SRR553463</th>\n",
       "      <td>58</td>\n",
       "      <td>male</td>\n",
       "      <td>none</td>\n",
       "      <td>1.614990</td>\n",
       "    </tr>\n",
       "    <tr>\n",
       "      <th>SRR553461</th>\n",
       "      <td>30</td>\n",
       "      <td>male</td>\n",
       "      <td>incubated for 1h with TNF-alpha (10 ng/mL)</td>\n",
       "      <td>1.538253</td>\n",
       "    </tr>\n",
       "    <tr>\n",
       "      <th>SRR553464</th>\n",
       "      <td>58</td>\n",
       "      <td>male</td>\n",
       "      <td>incubated for 1h with TNF-alpha (10 ng/mL)</td>\n",
       "      <td>1.368832</td>\n",
       "    </tr>\n",
       "    <tr>\n",
       "      <th>SRR553462</th>\n",
       "      <td>30</td>\n",
       "      <td>male</td>\n",
       "      <td>incubated for 1h with GM-CSF (5 ng/mL)</td>\n",
       "      <td>1.016750</td>\n",
       "    </tr>\n",
       "    <tr>\n",
       "      <th>SRR553465</th>\n",
       "      <td>58</td>\n",
       "      <td>male</td>\n",
       "      <td>incubated for 1h with GM-CSF (5 ng/mL)</td>\n",
       "      <td>0.798007</td>\n",
       "    </tr>\n",
       "  </tbody>\n",
       "</table>\n",
       "</div>"
      ],
      "text/plain": [
       "                    age   Sex                                   treatment  \\\n",
       "project   run                                                               \n",
       "SRP015360 SRR553460  30  male                                        none   \n",
       "          SRR553463  58  male                                        none   \n",
       "          SRR553461  30  male  incubated for 1h with TNF-alpha (10 ng/mL)   \n",
       "          SRR553464  58  male  incubated for 1h with TNF-alpha (10 ng/mL)   \n",
       "          SRR553462  30  male      incubated for 1h with GM-CSF (5 ng/mL)   \n",
       "          SRR553465  58  male      incubated for 1h with GM-CSF (5 ng/mL)   \n",
       "\n",
       "                        LV603  \n",
       "project   run                  \n",
       "SRP015360 SRR553460  1.936240  \n",
       "          SRR553463  1.614990  \n",
       "          SRR553461  1.538253  \n",
       "          SRR553464  1.368832  \n",
       "          SRR553462  1.016750  \n",
       "          SRR553465  0.798007  "
      ]
     },
     "execution_count": 34,
     "metadata": {},
     "output_type": "execute_result"
    }
   ],
   "source": [
    "# what is there in these projects?\n",
    "lv_data.loc[[\"SRP015360\"]].dropna(how=\"all\", axis=1).sort_values(\n",
    "    LV_NAME, ascending=False\n",
    ").head(10)"
   ]
  },
  {
   "cell_type": "markdown",
   "id": "covered-interference",
   "metadata": {},
   "source": [
    "MENTION HERE THAT YOU CAN GO TO THIS PLACE FOR THIS SRP: https://trace.ncbi.nlm.nih.gov/Traces/sra/?study=SRP015360\n",
    "\n",
    "And in this case we see it's neutrophils under different stimuli."
   ]
  },
  {
   "cell_type": "code",
   "execution_count": 37,
   "id": "double-blogger",
   "metadata": {},
   "outputs": [],
   "source": [
    "# TODO: select here in the order desired.\n",
    "SELECTED_ATTRIBUTES = [\n",
    "    \"cell type\",\n",
    "    \"celltype\",\n",
    "    \"tissue\",\n",
    "]"
   ]
  },
  {
   "cell_type": "code",
   "execution_count": 38,
   "id": "royal-blood",
   "metadata": {},
   "outputs": [],
   "source": [
    "# it has to be in the order desired for filling nans in the SELECTED_ATTRIBUTE\n",
    "# SECOND_ATTRIBUTES = [\"celltype\", ]"
   ]
  },
  {
   "cell_type": "markdown",
   "id": "colonial-driving",
   "metadata": {},
   "source": [
    "## Get plot data"
   ]
  },
  {
   "cell_type": "code",
   "execution_count": 39,
   "id": "competent-niagara",
   "metadata": {},
   "outputs": [],
   "source": [
    "plot_data = lv_data.loc[:, SELECTED_ATTRIBUTES + [LV_NAME]]"
   ]
  },
  {
   "cell_type": "code",
   "execution_count": 40,
   "id": "hidden-corner",
   "metadata": {},
   "outputs": [],
   "source": [
    "# if blank/nan, fill cell type column with tissue content\n",
    "_new_column = plot_data[SELECTED_ATTRIBUTES].fillna(method=\"backfill\", axis=1)[\n",
    "    SELECTED_ATTRIBUTES[0]\n",
    "]\n",
    "plot_data[SELECTED_ATTRIBUTES[0]] = _new_column\n",
    "plot_data = plot_data.drop(columns=SELECTED_ATTRIBUTES[1:])\n",
    "plot_data = plot_data.fillna({SELECTED_ATTRIBUTES[0]: \"NOT CATEGORIZED\"})"
   ]
  },
  {
   "cell_type": "code",
   "execution_count": 41,
   "id": "considered-belly",
   "metadata": {},
   "outputs": [],
   "source": [
    "plot_data = plot_data.sort_values(LV_NAME, ascending=False)"
   ]
  },
  {
   "cell_type": "code",
   "execution_count": 42,
   "id": "needed-montreal",
   "metadata": {},
   "outputs": [
    {
     "data": {
      "text/html": [
       "<div>\n",
       "<style scoped>\n",
       "    .dataframe tbody tr th:only-of-type {\n",
       "        vertical-align: middle;\n",
       "    }\n",
       "\n",
       "    .dataframe tbody tr th {\n",
       "        vertical-align: top;\n",
       "    }\n",
       "\n",
       "    .dataframe thead th {\n",
       "        text-align: right;\n",
       "    }\n",
       "</style>\n",
       "<table border=\"1\" class=\"dataframe\">\n",
       "  <thead>\n",
       "    <tr style=\"text-align: right;\">\n",
       "      <th></th>\n",
       "      <th></th>\n",
       "      <th>cell type</th>\n",
       "      <th>LV603</th>\n",
       "    </tr>\n",
       "    <tr>\n",
       "      <th>project</th>\n",
       "      <th>run</th>\n",
       "      <th></th>\n",
       "      <th></th>\n",
       "    </tr>\n",
       "  </thead>\n",
       "  <tbody>\n",
       "    <tr>\n",
       "      <th rowspan=\"4\" valign=\"top\">SRP051688</th>\n",
       "      <th>SRR1740077</th>\n",
       "      <td>primary human neutrophils</td>\n",
       "      <td>2.279927</td>\n",
       "    </tr>\n",
       "    <tr>\n",
       "      <th>SRR1740076</th>\n",
       "      <td>primary human neutrophils</td>\n",
       "      <td>2.256947</td>\n",
       "    </tr>\n",
       "    <tr>\n",
       "      <th>SRR1740046</th>\n",
       "      <td>primary human neutrophils</td>\n",
       "      <td>2.215945</td>\n",
       "    </tr>\n",
       "    <tr>\n",
       "      <th>SRR1740049</th>\n",
       "      <td>primary human neutrophils</td>\n",
       "      <td>2.203057</td>\n",
       "    </tr>\n",
       "    <tr>\n",
       "      <th rowspan=\"2\" valign=\"top\">SRP059959</th>\n",
       "      <th>SRR2082517</th>\n",
       "      <td>granulocyte</td>\n",
       "      <td>2.169530</td>\n",
       "    </tr>\n",
       "    <tr>\n",
       "      <th>SRR2082519</th>\n",
       "      <td>granulocyte</td>\n",
       "      <td>2.151865</td>\n",
       "    </tr>\n",
       "    <tr>\n",
       "      <th>SRP051688</th>\n",
       "      <th>SRR1740047</th>\n",
       "      <td>primary human neutrophils</td>\n",
       "      <td>2.133590</td>\n",
       "    </tr>\n",
       "    <tr>\n",
       "      <th rowspan=\"2\" valign=\"top\">SRP059959</th>\n",
       "      <th>SRR2082532</th>\n",
       "      <td>granulocyte</td>\n",
       "      <td>2.129115</td>\n",
       "    </tr>\n",
       "    <tr>\n",
       "      <th>SRR2082533</th>\n",
       "      <td>granulocyte</td>\n",
       "      <td>2.126420</td>\n",
       "    </tr>\n",
       "    <tr>\n",
       "      <th rowspan=\"2\" valign=\"top\">SRP051688</th>\n",
       "      <th>SRR1740048</th>\n",
       "      <td>primary human neutrophils</td>\n",
       "      <td>2.124825</td>\n",
       "    </tr>\n",
       "    <tr>\n",
       "      <th>SRR1740074</th>\n",
       "      <td>primary human neutrophils</td>\n",
       "      <td>2.103118</td>\n",
       "    </tr>\n",
       "    <tr>\n",
       "      <th>SRP045500</th>\n",
       "      <th>SRR1551033</th>\n",
       "      <td>Neutrophils</td>\n",
       "      <td>2.095864</td>\n",
       "    </tr>\n",
       "    <tr>\n",
       "      <th>SRP059959</th>\n",
       "      <th>SRR2082518</th>\n",
       "      <td>granulocyte</td>\n",
       "      <td>2.091945</td>\n",
       "    </tr>\n",
       "    <tr>\n",
       "      <th>SRP045500</th>\n",
       "      <th>SRR1551061</th>\n",
       "      <td>Neutrophils</td>\n",
       "      <td>2.085310</td>\n",
       "    </tr>\n",
       "    <tr>\n",
       "      <th rowspan=\"6\" valign=\"top\">SRP059959</th>\n",
       "      <th>SRR2082526</th>\n",
       "      <td>granulocyte</td>\n",
       "      <td>2.085297</td>\n",
       "    </tr>\n",
       "    <tr>\n",
       "      <th>SRR2082525</th>\n",
       "      <td>granulocyte</td>\n",
       "      <td>2.085107</td>\n",
       "    </tr>\n",
       "    <tr>\n",
       "      <th>SRR2082527</th>\n",
       "      <td>granulocyte</td>\n",
       "      <td>2.082319</td>\n",
       "    </tr>\n",
       "    <tr>\n",
       "      <th>SRR2082530</th>\n",
       "      <td>granulocyte</td>\n",
       "      <td>2.079952</td>\n",
       "    </tr>\n",
       "    <tr>\n",
       "      <th>SRR2082523</th>\n",
       "      <td>granulocyte</td>\n",
       "      <td>2.079069</td>\n",
       "    </tr>\n",
       "    <tr>\n",
       "      <th>SRR2082531</th>\n",
       "      <td>granulocyte</td>\n",
       "      <td>2.078531</td>\n",
       "    </tr>\n",
       "  </tbody>\n",
       "</table>\n",
       "</div>"
      ],
      "text/plain": [
       "                                      cell type     LV603\n",
       "project   run                                            \n",
       "SRP051688 SRR1740077  primary human neutrophils  2.279927\n",
       "          SRR1740076  primary human neutrophils  2.256947\n",
       "          SRR1740046  primary human neutrophils  2.215945\n",
       "          SRR1740049  primary human neutrophils  2.203057\n",
       "SRP059959 SRR2082517                granulocyte  2.169530\n",
       "          SRR2082519                granulocyte  2.151865\n",
       "SRP051688 SRR1740047  primary human neutrophils  2.133590\n",
       "SRP059959 SRR2082532                granulocyte  2.129115\n",
       "          SRR2082533                granulocyte  2.126420\n",
       "SRP051688 SRR1740048  primary human neutrophils  2.124825\n",
       "          SRR1740074  primary human neutrophils  2.103118\n",
       "SRP045500 SRR1551033                Neutrophils  2.095864\n",
       "SRP059959 SRR2082518                granulocyte  2.091945\n",
       "SRP045500 SRR1551061                Neutrophils  2.085310\n",
       "SRP059959 SRR2082526                granulocyte  2.085297\n",
       "          SRR2082525                granulocyte  2.085107\n",
       "          SRR2082527                granulocyte  2.082319\n",
       "          SRR2082530                granulocyte  2.079952\n",
       "          SRR2082523                granulocyte  2.079069\n",
       "          SRR2082531                granulocyte  2.078531"
      ]
     },
     "execution_count": 42,
     "metadata": {},
     "output_type": "execute_result"
    }
   ],
   "source": [
    "plot_data.head(20)"
   ]
  },
  {
   "cell_type": "markdown",
   "id": "italian-resource",
   "metadata": {},
   "source": [
    "You can see that now all attributes (\"celltype\", \"cell type\" and \"tissue\") are combined under a single attribute named \"cell type\".\n",
    "For example, if you look at `SRP045500`, which had a value under \"celltype\" but an empty (NaN) value for attribute \"cell type\", that now the value was moved to \"cell type\" (it was unified into this single attribute)."
   ]
  },
  {
   "cell_type": "markdown",
   "id": "committed-defeat",
   "metadata": {},
   "source": [
    "## Customize x-axis values"
   ]
  },
  {
   "cell_type": "markdown",
   "id": "acknowledged-layer",
   "metadata": {},
   "source": [
    "When cell type values are not very clear, customize their names by looking at their specific studies to know exactly what the authors meant."
   ]
  },
  {
   "cell_type": "code",
   "execution_count": 45,
   "id": "dental-point",
   "metadata": {},
   "outputs": [],
   "source": [
    "final_plot_data = plot_data.replace(\n",
    "    {\n",
    "        SELECTED_ATTRIBUTES[0]: {\n",
    "            # neutrophils:\n",
    "            \"primary human neutrophils\": \"Neutrophils\",\n",
    "            \"Neutrophil isolated from peripheral blood\": \"Neutrophils\",\n",
    "            \"Neutrophil\": \"Neutrophils\",\n",
    "            \"neutrophils (Neu)\": \"Neutrophils\",\n",
    "            # granulocytes:\n",
    "            \"granulocyte\": \"Granulocytes\",\n",
    "            # monocytes:\n",
    "            \"primary human monocytes\": \"Monocytes\",\n",
    "            # whole blood:\n",
    "            #             \"whole blood\": \"Whole blood\",  # uncomment this line to merge occurences of \"whole blood\" into \"Whole blood\"\n",
    "            \"Whole Blood\": \"Whole blood\",\n",
    "            # PBMC:\n",
    "            \"primary human PBMC\": \"PBMC\",\n",
    "            # B-cells:\n",
    "            \"primary human B cells\": \"B cells\",\n",
    "            # T-cells:\n",
    "            \"primary human T cells\": \"T cells\",\n",
    "            # epithelial cells:\n",
    "            \"epithelial cells (Epi)\": \"Epithelial cells\",\n",
    "            \"primary human myeloid DC\": \"mDCs\",\n",
    "        }\n",
    "    }\n",
    ")"
   ]
  },
  {
   "cell_type": "code",
   "execution_count": 48,
   "id": "certain-movement",
   "metadata": {},
   "outputs": [],
   "source": [
    "# # add also tissue information to these projects\n",
    "# _srp_code = \"SRP061881\"\n",
    "# _tmp = final_plot_data.loc[(_srp_code,)].apply(\n",
    "#     lambda x: lv_data.loc[(_srp_code, x.name), \"cell type\"]\n",
    "#     + f\" ({lv_data.loc[(_srp_code, x.name), 'tissue']})\",\n",
    "#     axis=1,\n",
    "# )\n",
    "# final_plot_data.loc[(_srp_code, _tmp.index), SELECTED_ATTRIBUTE] = _tmp.values\n",
    "\n",
    "\n",
    "# _srp_code = \"SRP056049\"\n",
    "# _tmp = final_plot_data.loc[(_srp_code,)].apply(\n",
    "#     lambda x: lv_data.loc[(_srp_code, x.name), \"cell population\"]\n",
    "#     + f\" ({lv_data.loc[(_srp_code, x.name), 'diagnosis']})\",\n",
    "#     axis=1,\n",
    "# )\n",
    "# final_plot_data.loc[(_srp_code, _tmp.index), SELECTED_ATTRIBUTE] = _tmp.values\n",
    "\n",
    "\n",
    "# _srp_code = \"SRP059057\"\n",
    "# _tmp = final_plot_data.loc[(_srp_code,)].apply(\n",
    "#     lambda x: lv_data.loc[(_srp_code, x.name), \"cell stimulation\"]\n",
    "#     + f\" ({lv_data.loc[(_srp_code, x.name), 'phenotype']})\",\n",
    "#     axis=1,\n",
    "# )\n",
    "# final_plot_data.loc[(_srp_code, _tmp.index), SELECTED_ATTRIBUTE] = _tmp.values"
   ]
  },
  {
   "cell_type": "code",
   "execution_count": 49,
   "id": "auburn-click",
   "metadata": {},
   "outputs": [],
   "source": [
    "# # all samples from SRP049593 are fibroblasts\n",
    "# final_plot_data[SELECTED_ATTRIBUTES[0]] = final_plot_data.apply(\n",
    "#     lambda x: \"Myeloma cells\" if x.name[0] in (\"SRP027015\",) else x[\"cell type\"],\n",
    "#     axis=1,\n",
    "# )"
   ]
  },
  {
   "cell_type": "code",
   "execution_count": 50,
   "id": "ecological-disposition",
   "metadata": {},
   "outputs": [],
   "source": [
    "# take the top samples only\n",
    "final_plot_data = final_plot_data.sort_values(\n",
    "    LV_NAME, ascending=False\n",
    ")  # [:N_TOP_SAMPLES]"
   ]
  },
  {
   "cell_type": "markdown",
   "id": "pressed-festival",
   "metadata": {},
   "source": [
    "## Threshold LV values"
   ]
  },
  {
   "cell_type": "code",
   "execution_count": 51,
   "id": "subtle-checklist",
   "metadata": {},
   "outputs": [],
   "source": [
    "# final_plot_data.loc[\n",
    "#     final_plot_data[LV_NAME] > LV_AXIS_THRESHOLD, LV_NAME\n",
    "# ] = LV_AXIS_THRESHOLD"
   ]
  },
  {
   "cell_type": "markdown",
   "id": "computational-lambda",
   "metadata": {},
   "source": [
    "## Delete samples with no tissue/cell type information"
   ]
  },
  {
   "cell_type": "code",
   "execution_count": 52,
   "id": "structured-institution",
   "metadata": {},
   "outputs": [],
   "source": [
    "# final_plot_data = final_plot_data[\n",
    "#     final_plot_data[SELECTED_ATTRIBUTE] != \"NOT CATEGORIZED\"\n",
    "# ]"
   ]
  },
  {
   "cell_type": "markdown",
   "id": "nominated-skating",
   "metadata": {},
   "source": [
    "## Set x-axis order"
   ]
  },
  {
   "cell_type": "code",
   "execution_count": 53,
   "id": "sweet-enhancement",
   "metadata": {},
   "outputs": [],
   "source": [
    "N_TOP_ATTRS = 10"
   ]
  },
  {
   "cell_type": "code",
   "execution_count": 54,
   "id": "pursuant-apollo",
   "metadata": {},
   "outputs": [],
   "source": [
    "attr_order = (\n",
    "    final_plot_data.groupby(SELECTED_ATTRIBUTES[0])\n",
    "    .max()\n",
    "    .sort_values(LV_NAME, ascending=False)\n",
    "    .index[:N_TOP_ATTRS]\n",
    "    .tolist()\n",
    ")"
   ]
  },
  {
   "cell_type": "code",
   "execution_count": 55,
   "id": "wooden-recall",
   "metadata": {},
   "outputs": [
    {
     "data": {
      "text/plain": [
       "10"
      ]
     },
     "execution_count": 55,
     "metadata": {},
     "output_type": "execute_result"
    }
   ],
   "source": [
    "len(attr_order)"
   ]
  },
  {
   "cell_type": "code",
   "execution_count": 56,
   "id": "complimentary-deployment",
   "metadata": {},
   "outputs": [
    {
     "data": {
      "text/plain": [
       "['Neutrophils',\n",
       " 'Granulocytes',\n",
       " 'NOT CATEGORIZED',\n",
       " 'peripheral blood',\n",
       " 'whole blood']"
      ]
     },
     "execution_count": 56,
     "metadata": {},
     "output_type": "execute_result"
    }
   ],
   "source": [
    "attr_order[:5]"
   ]
  },
  {
   "cell_type": "markdown",
   "id": "cross-sister",
   "metadata": {},
   "source": [
    "## Plot"
   ]
  },
  {
   "cell_type": "code",
   "execution_count": 58,
   "id": "plain-crowd",
   "metadata": {},
   "outputs": [
    {
     "data": {
      "image/png": "[encoded data removed]",
      "text/plain": [
       "<Figure size 1080x360 with 1 Axes>"
      ]
     },
     "metadata": {},
     "output_type": "display_data"
    }
   ],
   "source": [
    "with sns.plotting_context(\"paper\", font_scale=1.5), sns.axes_style(\"whitegrid\"):\n",
    "    sns.catplot(\n",
    "        data=final_plot_data,\n",
    "        y=LV_NAME,\n",
    "        x=SELECTED_ATTRIBUTES[0],\n",
    "        order=attr_order,\n",
    "        kind=\"strip\",\n",
    "        height=5,\n",
    "        aspect=3,\n",
    "    )\n",
    "    plt.xticks(rotation=45, horizontalalignment=\"right\")\n",
    "\n",
    "#     plt.savefig(\n",
    "#         OUTPUT_CELL_TYPE_FILEPATH,\n",
    "#         bbox_inches=\"tight\",\n",
    "#         facecolor=\"white\",\n",
    "#     )"
   ]
  },
  {
   "cell_type": "markdown",
   "id": "desperate-hamburg",
   "metadata": {},
   "source": [
    "# Debug"
   ]
  },
  {
   "cell_type": "code",
   "execution_count": 60,
   "id": "boring-british",
   "metadata": {},
   "outputs": [
    {
     "data": {
      "text/html": [
       "<div>\n",
       "<style scoped>\n",
       "    .dataframe tbody tr th:only-of-type {\n",
       "        vertical-align: middle;\n",
       "    }\n",
       "\n",
       "    .dataframe tbody tr th {\n",
       "        vertical-align: top;\n",
       "    }\n",
       "\n",
       "    .dataframe thead th {\n",
       "        text-align: right;\n",
       "    }\n",
       "</style>\n",
       "<table border=\"1\" class=\"dataframe\">\n",
       "  <thead>\n",
       "    <tr style=\"text-align: right;\">\n",
       "      <th></th>\n",
       "      <th></th>\n",
       "      <th>cell type</th>\n",
       "      <th>LV603</th>\n",
       "    </tr>\n",
       "    <tr>\n",
       "      <th>project</th>\n",
       "      <th>run</th>\n",
       "      <th></th>\n",
       "      <th></th>\n",
       "    </tr>\n",
       "  </thead>\n",
       "  <tbody>\n",
       "    <tr>\n",
       "      <th rowspan=\"3\" valign=\"top\">SRP015360</th>\n",
       "      <th>SRR553460</th>\n",
       "      <td>NOT CATEGORIZED</td>\n",
       "      <td>1.936240</td>\n",
       "    </tr>\n",
       "    <tr>\n",
       "      <th>SRR553463</th>\n",
       "      <td>NOT CATEGORIZED</td>\n",
       "      <td>1.614990</td>\n",
       "    </tr>\n",
       "    <tr>\n",
       "      <th>SRR553461</th>\n",
       "      <td>NOT CATEGORIZED</td>\n",
       "      <td>1.538253</td>\n",
       "    </tr>\n",
       "    <tr>\n",
       "      <th>SRP051848</th>\n",
       "      <th>SRR1747386</th>\n",
       "      <td>NOT CATEGORIZED</td>\n",
       "      <td>1.512612</td>\n",
       "    </tr>\n",
       "    <tr>\n",
       "      <th>SRP015360</th>\n",
       "      <th>SRR553464</th>\n",
       "      <td>NOT CATEGORIZED</td>\n",
       "      <td>1.368832</td>\n",
       "    </tr>\n",
       "    <tr>\n",
       "      <th rowspan=\"2\" valign=\"top\">SRP051848</th>\n",
       "      <th>SRR1747242</th>\n",
       "      <td>NOT CATEGORIZED</td>\n",
       "      <td>1.313651</td>\n",
       "    </tr>\n",
       "    <tr>\n",
       "      <th>SRR1747230</th>\n",
       "      <td>NOT CATEGORIZED</td>\n",
       "      <td>1.283074</td>\n",
       "    </tr>\n",
       "    <tr>\n",
       "      <th>SRP017138</th>\n",
       "      <th>SRR616078</th>\n",
       "      <td>NOT CATEGORIZED</td>\n",
       "      <td>1.267509</td>\n",
       "    </tr>\n",
       "    <tr>\n",
       "      <th rowspan=\"12\" valign=\"top\">SRP051848</th>\n",
       "      <th>SRR1747372</th>\n",
       "      <td>NOT CATEGORIZED</td>\n",
       "      <td>1.266037</td>\n",
       "    </tr>\n",
       "    <tr>\n",
       "      <th>SRR1747348</th>\n",
       "      <td>NOT CATEGORIZED</td>\n",
       "      <td>1.257565</td>\n",
       "    </tr>\n",
       "    <tr>\n",
       "      <th>SRR1747322</th>\n",
       "      <td>NOT CATEGORIZED</td>\n",
       "      <td>1.253071</td>\n",
       "    </tr>\n",
       "    <tr>\n",
       "      <th>SRR1747312</th>\n",
       "      <td>NOT CATEGORIZED</td>\n",
       "      <td>1.247533</td>\n",
       "    </tr>\n",
       "    <tr>\n",
       "      <th>SRR1747314</th>\n",
       "      <td>NOT CATEGORIZED</td>\n",
       "      <td>1.241307</td>\n",
       "    </tr>\n",
       "    <tr>\n",
       "      <th>SRR1747248</th>\n",
       "      <td>NOT CATEGORIZED</td>\n",
       "      <td>1.211017</td>\n",
       "    </tr>\n",
       "    <tr>\n",
       "      <th>SRR1747264</th>\n",
       "      <td>NOT CATEGORIZED</td>\n",
       "      <td>1.169013</td>\n",
       "    </tr>\n",
       "    <tr>\n",
       "      <th>SRR1747304</th>\n",
       "      <td>NOT CATEGORIZED</td>\n",
       "      <td>1.164252</td>\n",
       "    </tr>\n",
       "    <tr>\n",
       "      <th>SRR1747275</th>\n",
       "      <td>NOT CATEGORIZED</td>\n",
       "      <td>1.160602</td>\n",
       "    </tr>\n",
       "    <tr>\n",
       "      <th>SRR1747247</th>\n",
       "      <td>NOT CATEGORIZED</td>\n",
       "      <td>1.129323</td>\n",
       "    </tr>\n",
       "    <tr>\n",
       "      <th>SRR1747321</th>\n",
       "      <td>NOT CATEGORIZED</td>\n",
       "      <td>1.116180</td>\n",
       "    </tr>\n",
       "    <tr>\n",
       "      <th>SRR1747232</th>\n",
       "      <td>NOT CATEGORIZED</td>\n",
       "      <td>1.098986</td>\n",
       "    </tr>\n",
       "  </tbody>\n",
       "</table>\n",
       "</div>"
      ],
      "text/plain": [
       "                            cell type     LV603\n",
       "project   run                                  \n",
       "SRP015360 SRR553460   NOT CATEGORIZED  1.936240\n",
       "          SRR553463   NOT CATEGORIZED  1.614990\n",
       "          SRR553461   NOT CATEGORIZED  1.538253\n",
       "SRP051848 SRR1747386  NOT CATEGORIZED  1.512612\n",
       "SRP015360 SRR553464   NOT CATEGORIZED  1.368832\n",
       "SRP051848 SRR1747242  NOT CATEGORIZED  1.313651\n",
       "          SRR1747230  NOT CATEGORIZED  1.283074\n",
       "SRP017138 SRR616078   NOT CATEGORIZED  1.267509\n",
       "SRP051848 SRR1747372  NOT CATEGORIZED  1.266037\n",
       "          SRR1747348  NOT CATEGORIZED  1.257565\n",
       "          SRR1747322  NOT CATEGORIZED  1.253071\n",
       "          SRR1747312  NOT CATEGORIZED  1.247533\n",
       "          SRR1747314  NOT CATEGORIZED  1.241307\n",
       "          SRR1747248  NOT CATEGORIZED  1.211017\n",
       "          SRR1747264  NOT CATEGORIZED  1.169013\n",
       "          SRR1747304  NOT CATEGORIZED  1.164252\n",
       "          SRR1747275  NOT CATEGORIZED  1.160602\n",
       "          SRR1747247  NOT CATEGORIZED  1.129323\n",
       "          SRR1747321  NOT CATEGORIZED  1.116180\n",
       "          SRR1747232  NOT CATEGORIZED  1.098986"
      ]
     },
     "metadata": {},
     "output_type": "display_data"
    }
   ],
   "source": [
    "with pd.option_context(\n",
    "    \"display.max_rows\", None, \"display.max_columns\", None, \"display.max_colwidth\", None\n",
    "):\n",
    "    _tmp = final_plot_data[\n",
    "        final_plot_data[SELECTED_ATTRIBUTES[0]].str.contains(\"NOT CAT\")\n",
    "    ]\n",
    "    display(_tmp.head(20))"
   ]
  },
  {
   "cell_type": "code",
   "execution_count": 61,
   "id": "occupied-count",
   "metadata": {},
   "outputs": [
    {
     "data": {
      "text/html": [
       "<div>\n",
       "<style scoped>\n",
       "    .dataframe tbody tr th:only-of-type {\n",
       "        vertical-align: middle;\n",
       "    }\n",
       "\n",
       "    .dataframe tbody tr th {\n",
       "        vertical-align: top;\n",
       "    }\n",
       "\n",
       "    .dataframe thead th {\n",
       "        text-align: right;\n",
       "    }\n",
       "</style>\n",
       "<table border=\"1\" class=\"dataframe\">\n",
       "  <thead>\n",
       "    <tr style=\"text-align: right;\">\n",
       "      <th></th>\n",
       "      <th></th>\n",
       "      <th>age</th>\n",
       "      <th>Sex</th>\n",
       "      <th>treatment</th>\n",
       "      <th>LV603</th>\n",
       "    </tr>\n",
       "    <tr>\n",
       "      <th>project</th>\n",
       "      <th>run</th>\n",
       "      <th></th>\n",
       "      <th></th>\n",
       "      <th></th>\n",
       "      <th></th>\n",
       "    </tr>\n",
       "  </thead>\n",
       "  <tbody>\n",
       "    <tr>\n",
       "      <th rowspan=\"6\" valign=\"top\">SRP015360</th>\n",
       "      <th>SRR553460</th>\n",
       "      <td>30</td>\n",
       "      <td>male</td>\n",
       "      <td>none</td>\n",
       "      <td>1.936240</td>\n",
       "    </tr>\n",
       "    <tr>\n",
       "      <th>SRR553463</th>\n",
       "      <td>58</td>\n",
       "      <td>male</td>\n",
       "      <td>none</td>\n",
       "      <td>1.614990</td>\n",
       "    </tr>\n",
       "    <tr>\n",
       "      <th>SRR553461</th>\n",
       "      <td>30</td>\n",
       "      <td>male</td>\n",
       "      <td>incubated for 1h with TNF-alpha (10 ng/mL)</td>\n",
       "      <td>1.538253</td>\n",
       "    </tr>\n",
       "    <tr>\n",
       "      <th>SRR553464</th>\n",
       "      <td>58</td>\n",
       "      <td>male</td>\n",
       "      <td>incubated for 1h with TNF-alpha (10 ng/mL)</td>\n",
       "      <td>1.368832</td>\n",
       "    </tr>\n",
       "    <tr>\n",
       "      <th>SRR553462</th>\n",
       "      <td>30</td>\n",
       "      <td>male</td>\n",
       "      <td>incubated for 1h with GM-CSF (5 ng/mL)</td>\n",
       "      <td>1.016750</td>\n",
       "    </tr>\n",
       "    <tr>\n",
       "      <th>SRR553465</th>\n",
       "      <td>58</td>\n",
       "      <td>male</td>\n",
       "      <td>incubated for 1h with GM-CSF (5 ng/mL)</td>\n",
       "      <td>0.798007</td>\n",
       "    </tr>\n",
       "  </tbody>\n",
       "</table>\n",
       "</div>"
      ],
      "text/plain": [
       "                    age   Sex                                   treatment  \\\n",
       "project   run                                                               \n",
       "SRP015360 SRR553460  30  male                                        none   \n",
       "          SRR553463  58  male                                        none   \n",
       "          SRR553461  30  male  incubated for 1h with TNF-alpha (10 ng/mL)   \n",
       "          SRR553464  58  male  incubated for 1h with TNF-alpha (10 ng/mL)   \n",
       "          SRR553462  30  male      incubated for 1h with GM-CSF (5 ng/mL)   \n",
       "          SRR553465  58  male      incubated for 1h with GM-CSF (5 ng/mL)   \n",
       "\n",
       "                        LV603  \n",
       "project   run                  \n",
       "SRP015360 SRR553460  1.936240  \n",
       "          SRR553463  1.614990  \n",
       "          SRR553461  1.538253  \n",
       "          SRR553464  1.368832  \n",
       "          SRR553462  1.016750  \n",
       "          SRR553465  0.798007  "
      ]
     },
     "execution_count": 61,
     "metadata": {},
     "output_type": "execute_result"
    }
   ],
   "source": [
    "# what is there in these projects?\n",
    "lv_data.loc[[\"SRP015360\"]].dropna(how=\"all\", axis=1).sort_values(\n",
    "    LV_NAME, ascending=False\n",
    ").head(60)"
   ]
  },
  {
   "cell_type": "code",
   "execution_count": null,
   "id": "sophisticated-insight",
   "metadata": {},
   "outputs": [],
   "source": []
  }
 ],
 "metadata": {
  "jupytext": {
   "cell_metadata_filter": "all,-execution,-papermill,-trusted",
   "formats": "ipynb,py//py:percent"
  },
  "kernelspec": {
   "display_name": "Python 3",
   "language": "python",
   "name": "python3"
  },
  "language_info": {
   "codemirror_mode": {
    "name": "ipython",
    "version": 3
   },
   "file_extension": ".py",
   "mimetype": "text/x-python",
   "name": "python",
   "nbconvert_exporter": "python",
   "pygments_lexer": "ipython3",
   "version": "3.8.8"
  },
  "toc-autonumbering": true
 },
 "nbformat": 4,
 "nbformat_minor": 5
}
