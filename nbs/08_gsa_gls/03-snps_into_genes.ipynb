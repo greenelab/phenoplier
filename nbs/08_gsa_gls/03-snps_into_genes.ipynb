{
 "cells": [
  {
   "cell_type": "markdown",
   "id": "premier-accreditation",
   "metadata": {},
   "source": [
    "# Description"
   ]
  },
  {
   "cell_type": "markdown",
   "id": "forty-bradford",
   "metadata": {},
   "source": [
    "This notebook separates all SNPs in prediction models into \"genes\" (SNPs are grouped according to whethere they are predictors for a gene's expresssion)."
   ]
  },
  {
   "cell_type": "markdown",
   "id": "expected-recovery",
   "metadata": {},
   "source": [
    "# Modules"
   ]
  },
  {
   "cell_type": "code",
   "execution_count": 1,
   "id": "honest-hearts",
   "metadata": {
    "papermill": {
     "duration": 0.047722,
     "end_time": "2021-03-08T16:37:51.496059",
     "exception": false,
     "start_time": "2021-03-08T16:37:51.448337",
     "status": "completed"
    },
    "tags": []
   },
   "outputs": [],
   "source": [
    "%load_ext autoreload\n",
    "%autoreload 2"
   ]
  },
  {
   "cell_type": "code",
   "execution_count": 2,
   "id": "diverse-resistance",
   "metadata": {},
   "outputs": [],
   "source": [
    "import numpy as np\n",
    "import pandas as pd\n",
    "import sqlite3\n",
    "\n",
    "import rpy2.robjects as ro\n",
    "from rpy2.robjects import pandas2ri\n",
    "from rpy2.robjects.conversion import localconverter\n",
    "\n",
    "import conf"
   ]
  },
  {
   "cell_type": "code",
   "execution_count": 3,
   "id": "better-indie",
   "metadata": {},
   "outputs": [],
   "source": [
    "load_rda = ro.r[\"load\"]"
   ]
  },
  {
   "cell_type": "markdown",
   "id": "three-tiger",
   "metadata": {},
   "source": [
    "# Load data"
   ]
  },
  {
   "cell_type": "markdown",
   "id": "major-poverty",
   "metadata": {},
   "source": [
    "## LD blocks"
   ]
  },
  {
   "cell_type": "code",
   "execution_count": 4,
   "id": "robust-update",
   "metadata": {},
   "outputs": [
    {
     "data": {
      "text/plain": [
       "'/home/miltondp/projects/labs/greenelab/phenoplier/base/data/phenomexcan/ld_blocks/ld_block_pickrell_eur_b38.rda'"
      ]
     },
     "metadata": {},
     "output_type": "display_data"
    }
   ],
   "source": [
    "input_file = str(conf.PHENOMEXCAN[\"LD_BLOCKS\"][\"LD_BLOCKS_FILE\"])\n",
    "display(input_file)"
   ]
  },
  {
   "cell_type": "code",
   "execution_count": 5,
   "id": "blocked-spyware",
   "metadata": {},
   "outputs": [
    {
     "data": {
      "text/html": [
       "\n",
       "        <span>StrVector with 1 elements.</span>\n",
       "        <table>\n",
       "        <tbody>\n",
       "          <tr>\n",
       "          \n",
       "            <td>\n",
       "            'ld_block_pickrell_eur_b38'\n",
       "            </td>\n",
       "          \n",
       "          </tr>\n",
       "        </tbody>\n",
       "        </table>\n",
       "        "
      ],
      "text/plain": [
       "R object with classes: ('character',) mapped to:\n",
       "['ld_block_pickrell_eur_b38']"
      ]
     },
     "execution_count": 5,
     "metadata": {},
     "output_type": "execute_result"
    }
   ],
   "source": [
    "load_rda(input_file)"
   ]
  },
  {
   "cell_type": "code",
   "execution_count": 6,
   "id": "incorporate-mechanism",
   "metadata": {},
   "outputs": [
    {
     "data": {
      "text/html": [
       "\n",
       "        <span>ListVector with 2 elements.</span>\n",
       "        <table>\n",
       "        <tbody>\n",
       "        \n",
       "          <tr>\n",
       "            <th>\n",
       "            ld_block\n",
       "            </th>\n",
       "            <td>\n",
       "            <rpy2.rinterface.ListSexpVector object at 0x7f30b7c8ce80> [RTYPES.VECSXP]\n",
       "            </td>\n",
       "          </tr>\n",
       "        \n",
       "          <tr>\n",
       "            <th>\n",
       "            meta_information\n",
       "            </th>\n",
       "            <td>\n",
       "            <rpy2.rinterface.ListSexpVector object at 0x7f30b7c8c8c0> [RTYPES.VECSXP]\n",
       "            </td>\n",
       "          </tr>\n",
       "        \n",
       "        </tbody>\n",
       "        </table>\n",
       "        "
      ],
      "text/plain": [
       "R object with classes: ('list',) mapped to:\n",
       "[ListSexpVector, ListSexpVector]\n",
       "  ld_block: <class 'rpy2.rinterface.ListSexpVector'>\n",
       "  <rpy2.rinterface.ListSexpVector object at 0x7f30b7c8c8c0> [RTYPES.VECSXP]\n",
       "  meta_information: <class 'rpy2.rinterface.ListSexpVector'>\n",
       "  <rpy2.rinterface.ListSexpVector object at 0x7f30b7c8c980> [RTYPES.VECSXP]"
      ]
     },
     "execution_count": 6,
     "metadata": {},
     "output_type": "execute_result"
    }
   ],
   "source": [
    "ro.r[\"ld_block_pickrell_eur_b38\"]"
   ]
  },
  {
   "cell_type": "markdown",
   "id": "altered-browse",
   "metadata": {},
   "source": [
    "### Show metadata"
   ]
  },
  {
   "cell_type": "code",
   "execution_count": 7,
   "id": "present-programming",
   "metadata": {},
   "outputs": [
    {
     "data": {
      "text/html": [
       "\n",
       "        <span>ListVector with 2 elements.</span>\n",
       "        <table>\n",
       "        <tbody>\n",
       "        \n",
       "          <tr>\n",
       "            <th>\n",
       "            genome_assembly_version\n",
       "            </th>\n",
       "            <td>\n",
       "            <rpy2.rinterface_lib.sexp.StrSexpVector object at 0x7f30b7c96280> [RTYPES.STRSXP]\n",
       "            </td>\n",
       "          </tr>\n",
       "        \n",
       "          <tr>\n",
       "            <th>\n",
       "            notes\n",
       "            </th>\n",
       "            <td>\n",
       "            <rpy2.rinterface_lib.sexp.StrSexpVector object at 0x7f30b7c96140> [RTYPES.STRSXP]\n",
       "            </td>\n",
       "          </tr>\n",
       "        \n",
       "        </tbody>\n",
       "        </table>\n",
       "        "
      ],
      "text/plain": [
       "R object with classes: ('list',) mapped to:\n",
       "[StrSexpVector, StrSexpVector]\n",
       "  genome_assembly_version: <class 'rpy2.rinterface_lib.sexp.StrSexpVector'>\n",
       "  <rpy2.rinterface_lib.sexp.StrSexpVector object at 0x7f30b7c91f80> [RTYPES.STRSXP]\n",
       "  notes: <class 'rpy2.rinterface_lib.sexp.StrSexpVector'>\n",
       "  <rpy2.rinterface_lib.sexp.StrSexpVector object at 0x7f30b7c96280> [RTYPES.STRSXP]"
      ]
     },
     "execution_count": 7,
     "metadata": {},
     "output_type": "execute_result"
    }
   ],
   "source": [
    "ro.r[\"ld_block_pickrell_eur_b38\"][1]"
   ]
  },
  {
   "cell_type": "code",
   "execution_count": 8,
   "id": "specified-viewer",
   "metadata": {},
   "outputs": [
    {
     "data": {
      "text/plain": [
       "array(['hg38'], dtype='<U4')"
      ]
     },
     "execution_count": 8,
     "metadata": {},
     "output_type": "execute_result"
    }
   ],
   "source": [
    "np.array(ro.r[\"ld_block_pickrell_eur_b38\"][1][0])"
   ]
  },
  {
   "cell_type": "code",
   "execution_count": 9,
   "id": "challenging-preliminary",
   "metadata": {},
   "outputs": [
    {
     "data": {
      "text/plain": [
       "array(['LD block annotation (for European population) obtained from Berisa et al (https://academic.oup.com/bioinformatics/article/32/2/283/1743626). Formatted by Alvaro Barbeira'],\n",
       "      dtype='<U169')"
      ]
     },
     "execution_count": 9,
     "metadata": {},
     "output_type": "execute_result"
    }
   ],
   "source": [
    "np.array(ro.r[\"ld_block_pickrell_eur_b38\"][1][1])"
   ]
  },
  {
   "cell_type": "markdown",
   "id": "congressional-comedy",
   "metadata": {},
   "source": [
    "### Load LD blocks"
   ]
  },
  {
   "cell_type": "code",
   "execution_count": 10,
   "id": "juvenile-reason",
   "metadata": {},
   "outputs": [],
   "source": [
    "ld_block_r = ro.r[\"ld_block_pickrell_eur_b38\"][0]"
   ]
  },
  {
   "cell_type": "code",
   "execution_count": 11,
   "id": "approximate-disease",
   "metadata": {},
   "outputs": [
    {
     "data": {
      "text/html": [
       "\n",
       "        <span>StrVector with 1702 elements.</span>\n",
       "        <table>\n",
       "        <tbody>\n",
       "          <tr>\n",
       "          \n",
       "            <td>\n",
       "            '1'\n",
       "            </td>\n",
       "          \n",
       "            <td>\n",
       "            '2'\n",
       "            </td>\n",
       "          \n",
       "            <td>\n",
       "            '3'\n",
       "            </td>\n",
       "          \n",
       "            <td>\n",
       "            ...\n",
       "            </td>\n",
       "          \n",
       "            <td>\n",
       "            '1700'\n",
       "            </td>\n",
       "          \n",
       "            <td>\n",
       "            '1701'\n",
       "            </td>\n",
       "          \n",
       "            <td>\n",
       "            '1702'\n",
       "            </td>\n",
       "          \n",
       "          </tr>\n",
       "        </tbody>\n",
       "        </table>\n",
       "        "
      ],
      "text/plain": [
       "R object with classes: ('character',) mapped to:\n",
       "['1', '2', '3', '4', ..., '1699', '1700', '1701', '1702']"
      ]
     },
     "execution_count": 11,
     "metadata": {},
     "output_type": "execute_result"
    }
   ],
   "source": [
    "ld_block_r.rownames"
   ]
  },
  {
   "cell_type": "code",
   "execution_count": 12,
   "id": "patient-crack",
   "metadata": {},
   "outputs": [
    {
     "data": {
      "text/html": [
       "\n",
       "        <span>StrVector with 4 elements.</span>\n",
       "        <table>\n",
       "        <tbody>\n",
       "          <tr>\n",
       "          \n",
       "            <td>\n",
       "            'region_na...\n",
       "            </td>\n",
       "          \n",
       "            <td>\n",
       "            'chromosome'\n",
       "            </td>\n",
       "          \n",
       "            <td>\n",
       "            'start'\n",
       "            </td>\n",
       "          \n",
       "            <td>\n",
       "            'end'\n",
       "            </td>\n",
       "          \n",
       "          </tr>\n",
       "        </tbody>\n",
       "        </table>\n",
       "        "
      ],
      "text/plain": [
       "R object with classes: ('character',) mapped to:\n",
       "['region_na..., 'chromosome', 'start', 'end']"
      ]
     },
     "execution_count": 12,
     "metadata": {},
     "output_type": "execute_result"
    }
   ],
   "source": [
    "ld_block_r.colnames"
   ]
  },
  {
   "cell_type": "code",
   "execution_count": 13,
   "id": "indoor-afghanistan",
   "metadata": {},
   "outputs": [],
   "source": [
    "with localconverter(ro.default_converter + pandas2ri.converter):\n",
    "    ld_block_df = ro.conversion.rpy2py(ld_block_r)"
   ]
  },
  {
   "cell_type": "code",
   "execution_count": 14,
   "id": "induced-display",
   "metadata": {},
   "outputs": [
    {
     "data": {
      "text/html": [
       "<div>\n",
       "<style scoped>\n",
       "    .dataframe tbody tr th:only-of-type {\n",
       "        vertical-align: middle;\n",
       "    }\n",
       "\n",
       "    .dataframe tbody tr th {\n",
       "        vertical-align: top;\n",
       "    }\n",
       "\n",
       "    .dataframe thead th {\n",
       "        text-align: right;\n",
       "    }\n",
       "</style>\n",
       "<table border=\"1\" class=\"dataframe\">\n",
       "  <thead>\n",
       "    <tr style=\"text-align: right;\">\n",
       "      <th></th>\n",
       "      <th>region_name</th>\n",
       "      <th>chromosome</th>\n",
       "      <th>start</th>\n",
       "      <th>end</th>\n",
       "    </tr>\n",
       "  </thead>\n",
       "  <tbody>\n",
       "    <tr>\n",
       "      <th>1</th>\n",
       "      <td>chr1_1</td>\n",
       "      <td>chr1</td>\n",
       "      <td>10583</td>\n",
       "      <td>1961168</td>\n",
       "    </tr>\n",
       "    <tr>\n",
       "      <th>2</th>\n",
       "      <td>chr1_2</td>\n",
       "      <td>chr1</td>\n",
       "      <td>1961168</td>\n",
       "      <td>3666172</td>\n",
       "    </tr>\n",
       "    <tr>\n",
       "      <th>3</th>\n",
       "      <td>chr1_3</td>\n",
       "      <td>chr1</td>\n",
       "      <td>3666172</td>\n",
       "      <td>4320751</td>\n",
       "    </tr>\n",
       "    <tr>\n",
       "      <th>4</th>\n",
       "      <td>chr1_4</td>\n",
       "      <td>chr1</td>\n",
       "      <td>4320751</td>\n",
       "      <td>5853833</td>\n",
       "    </tr>\n",
       "    <tr>\n",
       "      <th>5</th>\n",
       "      <td>chr1_5</td>\n",
       "      <td>chr1</td>\n",
       "      <td>5853833</td>\n",
       "      <td>7187275</td>\n",
       "    </tr>\n",
       "    <tr>\n",
       "      <th>...</th>\n",
       "      <td>...</td>\n",
       "      <td>...</td>\n",
       "      <td>...</td>\n",
       "      <td>...</td>\n",
       "    </tr>\n",
       "    <tr>\n",
       "      <th>1698</th>\n",
       "      <td>chr22_20</td>\n",
       "      <td>chr22</td>\n",
       "      <td>44599428</td>\n",
       "      <td>46074615</td>\n",
       "    </tr>\n",
       "    <tr>\n",
       "      <th>1699</th>\n",
       "      <td>chr22_21</td>\n",
       "      <td>chr22</td>\n",
       "      <td>46074615</td>\n",
       "      <td>47200568</td>\n",
       "    </tr>\n",
       "    <tr>\n",
       "      <th>1700</th>\n",
       "      <td>chr22_22</td>\n",
       "      <td>chr22</td>\n",
       "      <td>47200568</td>\n",
       "      <td>48507891</td>\n",
       "    </tr>\n",
       "    <tr>\n",
       "      <th>1701</th>\n",
       "      <td>chr22_23</td>\n",
       "      <td>chr22</td>\n",
       "      <td>48507891</td>\n",
       "      <td>49430885</td>\n",
       "    </tr>\n",
       "    <tr>\n",
       "      <th>1702</th>\n",
       "      <td>chr22_24</td>\n",
       "      <td>chr22</td>\n",
       "      <td>49430885</td>\n",
       "      <td>50804870</td>\n",
       "    </tr>\n",
       "  </tbody>\n",
       "</table>\n",
       "<p>1702 rows × 4 columns</p>\n",
       "</div>"
      ],
      "text/plain": [
       "     region_name chromosome     start       end\n",
       "1         chr1_1       chr1     10583   1961168\n",
       "2         chr1_2       chr1   1961168   3666172\n",
       "3         chr1_3       chr1   3666172   4320751\n",
       "4         chr1_4       chr1   4320751   5853833\n",
       "5         chr1_5       chr1   5853833   7187275\n",
       "...          ...        ...       ...       ...\n",
       "1698    chr22_20      chr22  44599428  46074615\n",
       "1699    chr22_21      chr22  46074615  47200568\n",
       "1700    chr22_22      chr22  47200568  48507891\n",
       "1701    chr22_23      chr22  48507891  49430885\n",
       "1702    chr22_24      chr22  49430885  50804870\n",
       "\n",
       "[1702 rows x 4 columns]"
      ]
     },
     "execution_count": 14,
     "metadata": {},
     "output_type": "execute_result"
    }
   ],
   "source": [
    "ld_block_df"
   ]
  },
  {
   "cell_type": "code",
   "execution_count": 15,
   "id": "divine-crime",
   "metadata": {},
   "outputs": [
    {
     "data": {
      "text/plain": [
       "region_name    object\n",
       "chromosome     object\n",
       "start           int32\n",
       "end             int32\n",
       "dtype: object"
      ]
     },
     "execution_count": 15,
     "metadata": {},
     "output_type": "execute_result"
    }
   ],
   "source": [
    "ld_block_df.dtypes"
   ]
  },
  {
   "cell_type": "markdown",
   "id": "literary-parker",
   "metadata": {},
   "source": [
    "### Save in tsv"
   ]
  },
  {
   "cell_type": "code",
   "execution_count": 16,
   "id": "surprised-bidder",
   "metadata": {},
   "outputs": [
    {
     "data": {
      "text/plain": [
       "PosixPath('/home/miltondp/projects/labs/greenelab/phenoplier/base/data/phenomexcan/ld_blocks/ld_block_pickrell_eur_b38.tsv')"
      ]
     },
     "metadata": {},
     "output_type": "display_data"
    }
   ],
   "source": [
    "output_file = conf.PHENOMEXCAN[\"LD_BLOCKS\"][\"LD_BLOCKS_FILE\"].parent / (\n",
    "    conf.PHENOMEXCAN[\"LD_BLOCKS\"][\"LD_BLOCKS_FILE\"].stem + \".tsv\"\n",
    ")\n",
    "display(output_file)"
   ]
  },
  {
   "cell_type": "code",
   "execution_count": 17,
   "id": "controversial-while",
   "metadata": {},
   "outputs": [],
   "source": [
    "ld_block_df.to_csv(output_file, sep=\"\\t\", index=False)"
   ]
  },
  {
   "cell_type": "markdown",
   "id": "sticky-greece",
   "metadata": {},
   "source": [
    "## SNPs in predictions models"
   ]
  },
  {
   "cell_type": "code",
   "execution_count": 18,
   "id": "rough-appointment",
   "metadata": {},
   "outputs": [],
   "source": [
    "mashr_models_db_files = list(\n",
    "    conf.PHENOMEXCAN[\"PREDICTION_MODELS\"][\"MASHR\"].glob(\"*.db\")\n",
    ")"
   ]
  },
  {
   "cell_type": "code",
   "execution_count": 19,
   "id": "speaking-meter",
   "metadata": {},
   "outputs": [],
   "source": [
    "assert len(mashr_models_db_files) == 49"
   ]
  },
  {
   "cell_type": "code",
   "execution_count": 20,
   "id": "discrete-basic",
   "metadata": {},
   "outputs": [
    {
     "name": "stdout",
     "output_type": "stream",
     "text": [
      "Processing mashr_Brain_Cerebellar_Hemisphere.db\n",
      "Processing mashr_Adrenal_Gland.db\n",
      "Processing mashr_Spleen.db\n",
      "Processing mashr_Minor_Salivary_Gland.db\n",
      "Processing mashr_Brain_Anterior_cingulate_cortex_BA24.db\n",
      "Processing mashr_Brain_Frontal_Cortex_BA9.db\n",
      "Processing mashr_Stomach.db\n",
      "Processing mashr_Cells_EBV-transformed_lymphocytes.db\n",
      "Processing mashr_Uterus.db\n",
      "Processing mashr_Esophagus_Muscularis.db\n",
      "Processing mashr_Heart_Left_Ventricle.db\n",
      "Processing mashr_Nerve_Tibial.db\n",
      "Processing mashr_Breast_Mammary_Tissue.db\n",
      "Processing mashr_Cells_Cultured_fibroblasts.db\n",
      "Processing mashr_Prostate.db\n",
      "Processing mashr_Brain_Substantia_nigra.db\n",
      "Processing mashr_Brain_Putamen_basal_ganglia.db\n",
      "Processing mashr_Esophagus_Mucosa.db\n",
      "Processing mashr_Adipose_Subcutaneous.db\n",
      "Processing mashr_Artery_Aorta.db\n",
      "Processing mashr_Whole_Blood.db\n",
      "Processing mashr_Pituitary.db\n",
      "Processing mashr_Brain_Nucleus_accumbens_basal_ganglia.db\n",
      "Processing mashr_Brain_Caudate_basal_ganglia.db\n",
      "Processing mashr_Brain_Cortex.db\n",
      "Processing mashr_Lung.db\n",
      "Processing mashr_Colon_Transverse.db\n",
      "Processing mashr_Artery_Tibial.db\n",
      "Processing mashr_Liver.db\n",
      "Processing mashr_Vagina.db\n",
      "Processing mashr_Heart_Atrial_Appendage.db\n",
      "Processing mashr_Brain_Hippocampus.db\n",
      "Processing mashr_Ovary.db\n",
      "Processing mashr_Brain_Hypothalamus.db\n",
      "Processing mashr_Pancreas.db\n",
      "Processing mashr_Muscle_Skeletal.db\n",
      "Processing mashr_Esophagus_Gastroesophageal_Junction.db\n",
      "Processing mashr_Skin_Not_Sun_Exposed_Suprapubic.db\n",
      "Processing mashr_Skin_Sun_Exposed_Lower_leg.db\n",
      "Processing mashr_Kidney_Cortex.db\n",
      "Processing mashr_Brain_Cerebellum.db\n",
      "Processing mashr_Testis.db\n",
      "Processing mashr_Brain_Amygdala.db\n",
      "Processing mashr_Adipose_Visceral_Omentum.db\n",
      "Processing mashr_Brain_Spinal_cord_cervical_c-1.db\n",
      "Processing mashr_Colon_Sigmoid.db\n",
      "Processing mashr_Thyroid.db\n",
      "Processing mashr_Artery_Coronary.db\n",
      "Processing mashr_Small_Intestine_Terminal_Ileum.db\n"
     ]
    }
   ],
   "source": [
    "all_variants_ids = []\n",
    "\n",
    "for m in mashr_models_db_files:\n",
    "    print(f\"Processing {m.name}\")\n",
    "    tissue = m.name.split(\"mashr_\")[1].split(\".db\")[0]\n",
    "\n",
    "    with sqlite3.connect(m) as conn:\n",
    "        df = pd.read_sql(\"select gene, varID from weights\", conn)\n",
    "        df[\"gene\"] = df[\"gene\"].apply(lambda x: x.split(\".\")[0])\n",
    "        df = df.assign(tissue=tissue)\n",
    "        \n",
    "        all_variants_ids.append(df)"
   ]
  },
  {
   "cell_type": "code",
   "execution_count": 21,
   "id": "varying-briefing",
   "metadata": {},
   "outputs": [],
   "source": [
    "all_gene_snps = pd.concat(all_variants_ids, ignore_index=True)"
   ]
  },
  {
   "cell_type": "code",
   "execution_count": 22,
   "id": "operating-appearance",
   "metadata": {},
   "outputs": [
    {
     "data": {
      "text/plain": [
       "(1132714, 3)"
      ]
     },
     "execution_count": 22,
     "metadata": {},
     "output_type": "execute_result"
    }
   ],
   "source": [
    "all_gene_snps.shape"
   ]
  },
  {
   "cell_type": "code",
   "execution_count": 23,
   "id": "passive-right",
   "metadata": {},
   "outputs": [
    {
     "data": {
      "text/html": [
       "<div>\n",
       "<style scoped>\n",
       "    .dataframe tbody tr th:only-of-type {\n",
       "        vertical-align: middle;\n",
       "    }\n",
       "\n",
       "    .dataframe tbody tr th {\n",
       "        vertical-align: top;\n",
       "    }\n",
       "\n",
       "    .dataframe thead th {\n",
       "        text-align: right;\n",
       "    }\n",
       "</style>\n",
       "<table border=\"1\" class=\"dataframe\">\n",
       "  <thead>\n",
       "    <tr style=\"text-align: right;\">\n",
       "      <th></th>\n",
       "      <th>gene</th>\n",
       "      <th>varID</th>\n",
       "      <th>tissue</th>\n",
       "    </tr>\n",
       "  </thead>\n",
       "  <tbody>\n",
       "    <tr>\n",
       "      <th>0</th>\n",
       "      <td>ENSG00000107331</td>\n",
       "      <td>chr9_137029407_T_G_b38</td>\n",
       "      <td>Brain_Cerebellar_Hemisphere</td>\n",
       "    </tr>\n",
       "    <tr>\n",
       "      <th>1</th>\n",
       "      <td>ENSG00000180549</td>\n",
       "      <td>chr9_137032610_A_G_b38</td>\n",
       "      <td>Brain_Cerebellar_Hemisphere</td>\n",
       "    </tr>\n",
       "    <tr>\n",
       "      <th>2</th>\n",
       "      <td>ENSG00000180549</td>\n",
       "      <td>chr9_137032730_G_A_b38</td>\n",
       "      <td>Brain_Cerebellar_Hemisphere</td>\n",
       "    </tr>\n",
       "    <tr>\n",
       "      <th>3</th>\n",
       "      <td>ENSG00000107281</td>\n",
       "      <td>chr9_137046201_C_A_b38</td>\n",
       "      <td>Brain_Cerebellar_Hemisphere</td>\n",
       "    </tr>\n",
       "    <tr>\n",
       "      <th>4</th>\n",
       "      <td>ENSG00000054179</td>\n",
       "      <td>chr9_137048360_C_A_b38</td>\n",
       "      <td>Brain_Cerebellar_Hemisphere</td>\n",
       "    </tr>\n",
       "  </tbody>\n",
       "</table>\n",
       "</div>"
      ],
      "text/plain": [
       "              gene                   varID                       tissue\n",
       "0  ENSG00000107331  chr9_137029407_T_G_b38  Brain_Cerebellar_Hemisphere\n",
       "1  ENSG00000180549  chr9_137032610_A_G_b38  Brain_Cerebellar_Hemisphere\n",
       "2  ENSG00000180549  chr9_137032730_G_A_b38  Brain_Cerebellar_Hemisphere\n",
       "3  ENSG00000107281  chr9_137046201_C_A_b38  Brain_Cerebellar_Hemisphere\n",
       "4  ENSG00000054179  chr9_137048360_C_A_b38  Brain_Cerebellar_Hemisphere"
      ]
     },
     "execution_count": 23,
     "metadata": {},
     "output_type": "execute_result"
    }
   ],
   "source": [
    "all_gene_snps.head()"
   ]
  },
  {
   "cell_type": "markdown",
   "id": "derived-family",
   "metadata": {},
   "source": [
    "# Create variant block dataframe"
   ]
  },
  {
   "cell_type": "markdown",
   "id": "chemical-equality",
   "metadata": {},
   "source": [
    "## Preprocess SNPs data"
   ]
  },
  {
   "cell_type": "code",
   "execution_count": 24,
   "id": "medieval-proxy",
   "metadata": {},
   "outputs": [],
   "source": [
    "variants_ld_block_df = all_gene_snps[[\"varID\", \"gene\"]]"
   ]
  },
  {
   "cell_type": "code",
   "execution_count": 25,
   "id": "simple-flesh",
   "metadata": {},
   "outputs": [
    {
     "data": {
      "text/plain": [
       "(1132714, 2)"
      ]
     },
     "execution_count": 25,
     "metadata": {},
     "output_type": "execute_result"
    }
   ],
   "source": [
    "variants_ld_block_df.shape"
   ]
  },
  {
   "cell_type": "code",
   "execution_count": 26,
   "id": "south-webmaster",
   "metadata": {},
   "outputs": [],
   "source": [
    "variants_info = variants_ld_block_df[\"varID\"].str.split(\"_\", expand=True)"
   ]
  },
  {
   "cell_type": "code",
   "execution_count": 27,
   "id": "dynamic-professional",
   "metadata": {},
   "outputs": [
    {
     "data": {
      "text/plain": [
       "(1132714, 5)"
      ]
     },
     "execution_count": 27,
     "metadata": {},
     "output_type": "execute_result"
    }
   ],
   "source": [
    "variants_info.shape"
   ]
  },
  {
   "cell_type": "code",
   "execution_count": 28,
   "id": "beneficial-addiction",
   "metadata": {},
   "outputs": [],
   "source": [
    "assert variants_ld_block_df.shape[0] == variants_info.shape[0]"
   ]
  },
  {
   "cell_type": "code",
   "execution_count": 29,
   "id": "practical-aerospace",
   "metadata": {},
   "outputs": [],
   "source": [
    "variants_ld_block_df = variants_ld_block_df.join(variants_info)[[\"varID\", 0, 1, 2, 3, \"gene\"]]"
   ]
  },
  {
   "cell_type": "code",
   "execution_count": 30,
   "id": "excessive-affair",
   "metadata": {},
   "outputs": [],
   "source": [
    "assert variants_ld_block_df.shape[0] == variants_info.shape[0]"
   ]
  },
  {
   "cell_type": "code",
   "execution_count": 31,
   "id": "american-galaxy",
   "metadata": {},
   "outputs": [
    {
     "data": {
      "text/html": [
       "<div>\n",
       "<style scoped>\n",
       "    .dataframe tbody tr th:only-of-type {\n",
       "        vertical-align: middle;\n",
       "    }\n",
       "\n",
       "    .dataframe tbody tr th {\n",
       "        vertical-align: top;\n",
       "    }\n",
       "\n",
       "    .dataframe thead th {\n",
       "        text-align: right;\n",
       "    }\n",
       "</style>\n",
       "<table border=\"1\" class=\"dataframe\">\n",
       "  <thead>\n",
       "    <tr style=\"text-align: right;\">\n",
       "      <th></th>\n",
       "      <th>varID</th>\n",
       "      <th>0</th>\n",
       "      <th>1</th>\n",
       "      <th>2</th>\n",
       "      <th>3</th>\n",
       "      <th>gene</th>\n",
       "    </tr>\n",
       "  </thead>\n",
       "  <tbody>\n",
       "    <tr>\n",
       "      <th>0</th>\n",
       "      <td>chr9_137029407_T_G_b38</td>\n",
       "      <td>chr9</td>\n",
       "      <td>137029407</td>\n",
       "      <td>T</td>\n",
       "      <td>G</td>\n",
       "      <td>ENSG00000107331</td>\n",
       "    </tr>\n",
       "    <tr>\n",
       "      <th>1</th>\n",
       "      <td>chr9_137032610_A_G_b38</td>\n",
       "      <td>chr9</td>\n",
       "      <td>137032610</td>\n",
       "      <td>A</td>\n",
       "      <td>G</td>\n",
       "      <td>ENSG00000180549</td>\n",
       "    </tr>\n",
       "    <tr>\n",
       "      <th>2</th>\n",
       "      <td>chr9_137032730_G_A_b38</td>\n",
       "      <td>chr9</td>\n",
       "      <td>137032730</td>\n",
       "      <td>G</td>\n",
       "      <td>A</td>\n",
       "      <td>ENSG00000180549</td>\n",
       "    </tr>\n",
       "    <tr>\n",
       "      <th>3</th>\n",
       "      <td>chr9_137046201_C_A_b38</td>\n",
       "      <td>chr9</td>\n",
       "      <td>137046201</td>\n",
       "      <td>C</td>\n",
       "      <td>A</td>\n",
       "      <td>ENSG00000107281</td>\n",
       "    </tr>\n",
       "    <tr>\n",
       "      <th>4</th>\n",
       "      <td>chr9_137048360_C_A_b38</td>\n",
       "      <td>chr9</td>\n",
       "      <td>137048360</td>\n",
       "      <td>C</td>\n",
       "      <td>A</td>\n",
       "      <td>ENSG00000054179</td>\n",
       "    </tr>\n",
       "  </tbody>\n",
       "</table>\n",
       "</div>"
      ],
      "text/plain": [
       "                    varID     0          1  2  3             gene\n",
       "0  chr9_137029407_T_G_b38  chr9  137029407  T  G  ENSG00000107331\n",
       "1  chr9_137032610_A_G_b38  chr9  137032610  A  G  ENSG00000180549\n",
       "2  chr9_137032730_G_A_b38  chr9  137032730  G  A  ENSG00000180549\n",
       "3  chr9_137046201_C_A_b38  chr9  137046201  C  A  ENSG00000107281\n",
       "4  chr9_137048360_C_A_b38  chr9  137048360  C  A  ENSG00000054179"
      ]
     },
     "execution_count": 31,
     "metadata": {},
     "output_type": "execute_result"
    }
   ],
   "source": [
    "variants_ld_block_df.head()"
   ]
  },
  {
   "cell_type": "code",
   "execution_count": 32,
   "id": "improved-omega",
   "metadata": {},
   "outputs": [],
   "source": [
    "variants_ld_block_df = variants_ld_block_df.rename(\n",
    "    columns={\n",
    "        0: \"chr\",\n",
    "        1: \"position\",\n",
    "        2: \"ref_allele\",\n",
    "        3: \"eff_allele\",\n",
    "    }\n",
    ")"
   ]
  },
  {
   "cell_type": "code",
   "execution_count": 33,
   "id": "disciplinary-sucking",
   "metadata": {},
   "outputs": [],
   "source": [
    "variants_ld_block_df[\"chr\"] = variants_ld_block_df[\"chr\"].apply(lambda x: int(x[3:]))"
   ]
  },
  {
   "cell_type": "code",
   "execution_count": 34,
   "id": "korean-tribute",
   "metadata": {},
   "outputs": [],
   "source": [
    "variants_ld_block_df[\"position\"] = variants_ld_block_df[\"position\"].astype(int)"
   ]
  },
  {
   "cell_type": "code",
   "execution_count": 35,
   "id": "complete-hotel",
   "metadata": {},
   "outputs": [
    {
     "data": {
      "text/plain": [
       "(1132714, 6)"
      ]
     },
     "execution_count": 35,
     "metadata": {},
     "output_type": "execute_result"
    }
   ],
   "source": [
    "variants_ld_block_df.shape"
   ]
  },
  {
   "cell_type": "code",
   "execution_count": 36,
   "id": "municipal-fence",
   "metadata": {},
   "outputs": [
    {
     "data": {
      "text/html": [
       "<div>\n",
       "<style scoped>\n",
       "    .dataframe tbody tr th:only-of-type {\n",
       "        vertical-align: middle;\n",
       "    }\n",
       "\n",
       "    .dataframe tbody tr th {\n",
       "        vertical-align: top;\n",
       "    }\n",
       "\n",
       "    .dataframe thead th {\n",
       "        text-align: right;\n",
       "    }\n",
       "</style>\n",
       "<table border=\"1\" class=\"dataframe\">\n",
       "  <thead>\n",
       "    <tr style=\"text-align: right;\">\n",
       "      <th></th>\n",
       "      <th>varID</th>\n",
       "      <th>chr</th>\n",
       "      <th>position</th>\n",
       "      <th>ref_allele</th>\n",
       "      <th>eff_allele</th>\n",
       "      <th>gene</th>\n",
       "    </tr>\n",
       "  </thead>\n",
       "  <tbody>\n",
       "    <tr>\n",
       "      <th>0</th>\n",
       "      <td>chr9_137029407_T_G_b38</td>\n",
       "      <td>9</td>\n",
       "      <td>137029407</td>\n",
       "      <td>T</td>\n",
       "      <td>G</td>\n",
       "      <td>ENSG00000107331</td>\n",
       "    </tr>\n",
       "    <tr>\n",
       "      <th>1</th>\n",
       "      <td>chr9_137032610_A_G_b38</td>\n",
       "      <td>9</td>\n",
       "      <td>137032610</td>\n",
       "      <td>A</td>\n",
       "      <td>G</td>\n",
       "      <td>ENSG00000180549</td>\n",
       "    </tr>\n",
       "    <tr>\n",
       "      <th>2</th>\n",
       "      <td>chr9_137032730_G_A_b38</td>\n",
       "      <td>9</td>\n",
       "      <td>137032730</td>\n",
       "      <td>G</td>\n",
       "      <td>A</td>\n",
       "      <td>ENSG00000180549</td>\n",
       "    </tr>\n",
       "    <tr>\n",
       "      <th>3</th>\n",
       "      <td>chr9_137046201_C_A_b38</td>\n",
       "      <td>9</td>\n",
       "      <td>137046201</td>\n",
       "      <td>C</td>\n",
       "      <td>A</td>\n",
       "      <td>ENSG00000107281</td>\n",
       "    </tr>\n",
       "    <tr>\n",
       "      <th>4</th>\n",
       "      <td>chr9_137048360_C_A_b38</td>\n",
       "      <td>9</td>\n",
       "      <td>137048360</td>\n",
       "      <td>C</td>\n",
       "      <td>A</td>\n",
       "      <td>ENSG00000054179</td>\n",
       "    </tr>\n",
       "  </tbody>\n",
       "</table>\n",
       "</div>"
      ],
      "text/plain": [
       "                    varID  chr   position ref_allele eff_allele  \\\n",
       "0  chr9_137029407_T_G_b38    9  137029407          T          G   \n",
       "1  chr9_137032610_A_G_b38    9  137032610          A          G   \n",
       "2  chr9_137032730_G_A_b38    9  137032730          G          A   \n",
       "3  chr9_137046201_C_A_b38    9  137046201          C          A   \n",
       "4  chr9_137048360_C_A_b38    9  137048360          C          A   \n",
       "\n",
       "              gene  \n",
       "0  ENSG00000107331  \n",
       "1  ENSG00000180549  \n",
       "2  ENSG00000180549  \n",
       "3  ENSG00000107281  \n",
       "4  ENSG00000054179  "
      ]
     },
     "execution_count": 36,
     "metadata": {},
     "output_type": "execute_result"
    }
   ],
   "source": [
    "variants_ld_block_df.head()"
   ]
  },
  {
   "cell_type": "code",
   "execution_count": 37,
   "id": "vocal-generator",
   "metadata": {},
   "outputs": [
    {
     "data": {
      "text/plain": [
       "varID         object\n",
       "chr            int64\n",
       "position       int64\n",
       "ref_allele    object\n",
       "eff_allele    object\n",
       "gene          object\n",
       "dtype: object"
      ]
     },
     "execution_count": 37,
     "metadata": {},
     "output_type": "execute_result"
    }
   ],
   "source": [
    "variants_ld_block_df.dtypes"
   ]
  },
  {
   "cell_type": "markdown",
   "id": "external-ceremony",
   "metadata": {},
   "source": [
    "# Testing"
   ]
  },
  {
   "cell_type": "code",
   "execution_count": 38,
   "id": "instant-mortality",
   "metadata": {},
   "outputs": [
    {
     "data": {
      "text/plain": [
       "gene\n",
       "ENSG00000000419    1\n",
       "ENSG00000000457    1\n",
       "ENSG00000000460    1\n",
       "ENSG00000000938    1\n",
       "ENSG00000000971    1\n",
       "                  ..\n",
       "ENSG00000284430    1\n",
       "ENSG00000284452    1\n",
       "ENSG00000284513    1\n",
       "ENSG00000284526    1\n",
       "ENSG00000284552    1\n",
       "Length: 22535, dtype: int64"
      ]
     },
     "metadata": {},
     "output_type": "display_data"
    }
   ],
   "source": [
    "_unique_chr_per_ld_block = variants_ld_block_df.groupby(\"gene\").apply(\n",
    "    lambda x: x[\"chr\"].unique().shape[0]\n",
    ")\n",
    "display(_unique_chr_per_ld_block)"
   ]
  },
  {
   "cell_type": "code",
   "execution_count": 39,
   "id": "better-european",
   "metadata": {},
   "outputs": [
    {
     "data": {
      "text/plain": [
       "array([1])"
      ]
     },
     "metadata": {},
     "output_type": "display_data"
    }
   ],
   "source": [
    "display(_unique_chr_per_ld_block.unique())\n",
    "assert _unique_chr_per_ld_block.unique().shape[0] == 1\n",
    "assert _unique_chr_per_ld_block.unique()[0] == 1"
   ]
  },
  {
   "cell_type": "markdown",
   "id": "annual-confirmation",
   "metadata": {},
   "source": [
    "# Save"
   ]
  },
  {
   "cell_type": "code",
   "execution_count": 40,
   "id": "caroline-italy",
   "metadata": {},
   "outputs": [
    {
     "data": {
      "text/html": [
       "<div>\n",
       "<style scoped>\n",
       "    .dataframe tbody tr th:only-of-type {\n",
       "        vertical-align: middle;\n",
       "    }\n",
       "\n",
       "    .dataframe tbody tr th {\n",
       "        vertical-align: top;\n",
       "    }\n",
       "\n",
       "    .dataframe thead th {\n",
       "        text-align: right;\n",
       "    }\n",
       "</style>\n",
       "<table border=\"1\" class=\"dataframe\">\n",
       "  <thead>\n",
       "    <tr style=\"text-align: right;\">\n",
       "      <th></th>\n",
       "      <th>varID</th>\n",
       "      <th>chr</th>\n",
       "      <th>position</th>\n",
       "      <th>ref_allele</th>\n",
       "      <th>eff_allele</th>\n",
       "      <th>gene</th>\n",
       "    </tr>\n",
       "  </thead>\n",
       "  <tbody>\n",
       "    <tr>\n",
       "      <th>0</th>\n",
       "      <td>chr9_137029407_T_G_b38</td>\n",
       "      <td>9</td>\n",
       "      <td>137029407</td>\n",
       "      <td>T</td>\n",
       "      <td>G</td>\n",
       "      <td>ENSG00000107331</td>\n",
       "    </tr>\n",
       "    <tr>\n",
       "      <th>1</th>\n",
       "      <td>chr9_137032610_A_G_b38</td>\n",
       "      <td>9</td>\n",
       "      <td>137032610</td>\n",
       "      <td>A</td>\n",
       "      <td>G</td>\n",
       "      <td>ENSG00000180549</td>\n",
       "    </tr>\n",
       "    <tr>\n",
       "      <th>2</th>\n",
       "      <td>chr9_137032730_G_A_b38</td>\n",
       "      <td>9</td>\n",
       "      <td>137032730</td>\n",
       "      <td>G</td>\n",
       "      <td>A</td>\n",
       "      <td>ENSG00000180549</td>\n",
       "    </tr>\n",
       "    <tr>\n",
       "      <th>3</th>\n",
       "      <td>chr9_137046201_C_A_b38</td>\n",
       "      <td>9</td>\n",
       "      <td>137046201</td>\n",
       "      <td>C</td>\n",
       "      <td>A</td>\n",
       "      <td>ENSG00000107281</td>\n",
       "    </tr>\n",
       "    <tr>\n",
       "      <th>4</th>\n",
       "      <td>chr9_137048360_C_A_b38</td>\n",
       "      <td>9</td>\n",
       "      <td>137048360</td>\n",
       "      <td>C</td>\n",
       "      <td>A</td>\n",
       "      <td>ENSG00000054179</td>\n",
       "    </tr>\n",
       "  </tbody>\n",
       "</table>\n",
       "</div>"
      ],
      "text/plain": [
       "                    varID  chr   position ref_allele eff_allele  \\\n",
       "0  chr9_137029407_T_G_b38    9  137029407          T          G   \n",
       "1  chr9_137032610_A_G_b38    9  137032610          A          G   \n",
       "2  chr9_137032730_G_A_b38    9  137032730          G          A   \n",
       "3  chr9_137046201_C_A_b38    9  137046201          C          A   \n",
       "4  chr9_137048360_C_A_b38    9  137048360          C          A   \n",
       "\n",
       "              gene  \n",
       "0  ENSG00000107331  \n",
       "1  ENSG00000180549  \n",
       "2  ENSG00000180549  \n",
       "3  ENSG00000107281  \n",
       "4  ENSG00000054179  "
      ]
     },
     "execution_count": 40,
     "metadata": {},
     "output_type": "execute_result"
    }
   ],
   "source": [
    "variants_ld_block_df.head()"
   ]
  },
  {
   "cell_type": "code",
   "execution_count": 41,
   "id": "balanced-controversy",
   "metadata": {},
   "outputs": [
    {
     "data": {
      "text/plain": [
       "PosixPath('/home/miltondp/projects/labs/greenelab/phenoplier/base/data/phenomexcan/ld_blocks/mashr_snps_gene_blocks.pkl')"
      ]
     },
     "metadata": {},
     "output_type": "display_data"
    }
   ],
   "source": [
    "output_file = conf.PHENOMEXCAN[\"LD_BLOCKS\"][\"BASE_DIR\"] / \"mashr_snps_gene_blocks.pkl\"\n",
    "display(output_file)"
   ]
  },
  {
   "cell_type": "code",
   "execution_count": 42,
   "id": "invisible-parallel",
   "metadata": {},
   "outputs": [],
   "source": [
    "variants_ld_block_df.to_pickle(output_file)"
   ]
  },
  {
   "cell_type": "code",
   "execution_count": null,
   "id": "about-brief",
   "metadata": {},
   "outputs": [],
   "source": []
  }
 ],
 "metadata": {
  "jupytext": {
   "cell_metadata_filter": "all,-execution,-papermill,-trusted",
   "formats": "ipynb,py//py:percent"
  },
  "kernelspec": {
   "display_name": "Python 3",
   "language": "python",
   "name": "python3"
  },
  "language_info": {
   "codemirror_mode": {
    "name": "ipython",
    "version": 3
   },
   "file_extension": ".py",
   "mimetype": "text/x-python",
   "name": "python",
   "nbconvert_exporter": "python",
   "pygments_lexer": "ipython3",
   "version": "3.8.8"
  }
 },
 "nbformat": 4,
 "nbformat_minor": 5
}
