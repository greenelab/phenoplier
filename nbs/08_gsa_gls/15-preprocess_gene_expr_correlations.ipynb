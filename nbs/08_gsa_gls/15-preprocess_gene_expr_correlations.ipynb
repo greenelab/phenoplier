{
 "cells": [
  {
   "cell_type": "markdown",
   "id": "religious-hungary",
   "metadata": {
    "papermill": {
     "duration": 0.018708,
     "end_time": "2021-04-28T22:27:16.472059",
     "exception": false,
     "start_time": "2021-04-28T22:27:16.453351",
     "status": "completed"
    },
    "tags": []
   },
   "source": [
    "# Description"
   ]
  },
  {
   "cell_type": "markdown",
   "id": "younger-glasgow",
   "metadata": {
    "papermill": {
     "duration": 0.015071,
     "end_time": "2021-04-28T22:27:16.502145",
     "exception": false,
     "start_time": "2021-04-28T22:27:16.487074",
     "status": "completed"
    },
    "tags": []
   },
   "source": [
    "This notebook reads all gene correlations across all tissues and computes a single correlation matrix."
   ]
  },
  {
   "cell_type": "markdown",
   "id": "spoken-serbia",
   "metadata": {
    "papermill": {
     "duration": 0.014891,
     "end_time": "2021-04-28T22:27:16.532200",
     "exception": false,
     "start_time": "2021-04-28T22:27:16.517309",
     "status": "completed"
    },
    "tags": []
   },
   "source": [
    "# Modules"
   ]
  },
  {
   "cell_type": "code",
   "execution_count": 1,
   "id": "scientific-montgomery",
   "metadata": {
    "papermill": {
     "duration": 0.027924,
     "end_time": "2021-04-28T22:27:16.575188",
     "exception": false,
     "start_time": "2021-04-28T22:27:16.547264",
     "status": "completed"
    },
    "tags": []
   },
   "outputs": [],
   "source": [
    "%load_ext autoreload\n",
    "%autoreload 2"
   ]
  },
  {
   "cell_type": "code",
   "execution_count": 2,
   "id": "offensive-hearts",
   "metadata": {
    "papermill": {
     "duration": 0.461025,
     "end_time": "2021-04-28T22:27:17.051883",
     "exception": false,
     "start_time": "2021-04-28T22:27:16.590858",
     "status": "completed"
    },
    "tags": []
   },
   "outputs": [],
   "source": [
    "import numpy as np\n",
    "from scipy.spatial.distance import squareform\n",
    "import pandas as pd\n",
    "\n",
    "# from tqdm import tqdm\n",
    "\n",
    "import conf\n",
    "from entity import Gene"
   ]
  },
  {
   "cell_type": "markdown",
   "id": "stupid-expense",
   "metadata": {
    "papermill": {
     "duration": 0.01618,
     "end_time": "2021-04-28T22:27:17.085464",
     "exception": false,
     "start_time": "2021-04-28T22:27:17.069284",
     "status": "completed"
    },
    "tags": []
   },
   "source": [
    "# Settings"
   ]
  },
  {
   "cell_type": "code",
   "execution_count": 3,
   "id": "distributed-argument",
   "metadata": {
    "tags": [
     "parameters"
    ]
   },
   "outputs": [
    {
     "data": {
      "text/plain": [
       "PosixPath('/home/miltondp/projects/labs/greenelab/phenoplier/base/data/phenomexcan/ld_blocks/gene_corrs')"
      ]
     },
     "metadata": {},
     "output_type": "display_data"
    }
   ],
   "source": [
    "INPUT_DIR = conf.PHENOMEXCAN[\"LD_BLOCKS\"][\"BASE_DIR\"] / \"gene_corrs\"\n",
    "display(INPUT_DIR)"
   ]
  },
  {
   "cell_type": "markdown",
   "id": "liked-robert",
   "metadata": {
    "papermill": {
     "duration": 0.01618,
     "end_time": "2021-04-28T22:27:17.085464",
     "exception": false,
     "start_time": "2021-04-28T22:27:17.069284",
     "status": "completed"
    },
    "tags": []
   },
   "source": [
    "# Load data"
   ]
  },
  {
   "cell_type": "markdown",
   "id": "cleared-story",
   "metadata": {
    "papermill": {
     "duration": 0.016156,
     "end_time": "2021-04-28T22:27:17.704727",
     "exception": false,
     "start_time": "2021-04-28T22:27:17.688571",
     "status": "completed"
    },
    "tags": []
   },
   "source": [
    "## Gene correlations"
   ]
  },
  {
   "cell_type": "code",
   "execution_count": 4,
   "id": "consolidated-forest",
   "metadata": {},
   "outputs": [],
   "source": [
    "all_gene_corr_files = list(INPUT_DIR.rglob(\"*.pkl\"))"
   ]
  },
  {
   "cell_type": "code",
   "execution_count": 5,
   "id": "intermediate-shame",
   "metadata": {},
   "outputs": [
    {
     "data": {
      "text/plain": [
       "1078"
      ]
     },
     "execution_count": 5,
     "metadata": {},
     "output_type": "execute_result"
    }
   ],
   "source": [
    "len(all_gene_corr_files)"
   ]
  },
  {
   "cell_type": "code",
   "execution_count": 6,
   "id": "affiliated-bargain",
   "metadata": {},
   "outputs": [
    {
     "data": {
      "text/plain": [
       "[PosixPath('/home/miltondp/projects/labs/greenelab/phenoplier/base/data/phenomexcan/ld_blocks/gene_corrs/Ovary/gene_corrs-Ovary-chr18.pkl'),\n",
       " PosixPath('/home/miltondp/projects/labs/greenelab/phenoplier/base/data/phenomexcan/ld_blocks/gene_corrs/Ovary/gene_corrs-Ovary-chr9.pkl'),\n",
       " PosixPath('/home/miltondp/projects/labs/greenelab/phenoplier/base/data/phenomexcan/ld_blocks/gene_corrs/Ovary/gene_corrs-Ovary-chr19.pkl'),\n",
       " PosixPath('/home/miltondp/projects/labs/greenelab/phenoplier/base/data/phenomexcan/ld_blocks/gene_corrs/Ovary/gene_corrs-Ovary-chr13.pkl'),\n",
       " PosixPath('/home/miltondp/projects/labs/greenelab/phenoplier/base/data/phenomexcan/ld_blocks/gene_corrs/Ovary/gene_corrs-Ovary-chr21.pkl')]"
      ]
     },
     "execution_count": 6,
     "metadata": {},
     "output_type": "execute_result"
    }
   ],
   "source": [
    "all_gene_corr_files[:5]"
   ]
  },
  {
   "cell_type": "code",
   "execution_count": 7,
   "id": "introductory-border",
   "metadata": {},
   "outputs": [],
   "source": [
    "assert len(all_gene_corr_files) == 22 * 49"
   ]
  },
  {
   "cell_type": "code",
   "execution_count": 8,
   "id": "accepted-keyboard",
   "metadata": {},
   "outputs": [],
   "source": [
    "all_gene_corr_files_df = pd.DataFrame({\"corr_file\": [f for f in all_gene_corr_files]})"
   ]
  },
  {
   "cell_type": "code",
   "execution_count": 9,
   "id": "listed-massage",
   "metadata": {},
   "outputs": [],
   "source": [
    "all_gene_corr_files_df = all_gene_corr_files_df.assign(\n",
    "    file_name=all_gene_corr_files_df[\"corr_file\"].apply(lambda x: x.name)\n",
    ")"
   ]
  },
  {
   "cell_type": "code",
   "execution_count": 10,
   "id": "narrative-suspect",
   "metadata": {},
   "outputs": [],
   "source": [
    "all_gene_corr_files_df = all_gene_corr_files_df.assign(\n",
    "    tissue=all_gene_corr_files_df[\"file_name\"].apply(\n",
    "        lambda x: x.split(\"-chr\")[0].split(\"gene_corrs-\")[1]\n",
    "    )\n",
    ")"
   ]
  },
  {
   "cell_type": "code",
   "execution_count": 11,
   "id": "liked-passport",
   "metadata": {},
   "outputs": [],
   "source": [
    "all_gene_corr_files_df = all_gene_corr_files_df.assign(\n",
    "    chromosome=all_gene_corr_files_df[\"file_name\"].apply(\n",
    "        lambda x: int(x.split(\"-chr\")[1].split(\".\")[0])\n",
    "    )\n",
    ")"
   ]
  },
  {
   "cell_type": "code",
   "execution_count": 12,
   "id": "appropriate-gregory",
   "metadata": {},
   "outputs": [],
   "source": [
    "assert all_gene_corr_files_df[\"tissue\"].unique().shape[0] == 49"
   ]
  },
  {
   "cell_type": "code",
   "execution_count": 13,
   "id": "christian-gothic",
   "metadata": {},
   "outputs": [],
   "source": [
    "assert all_gene_corr_files_df[\"chromosome\"].unique().shape[0] == 22\n",
    "assert set(all_gene_corr_files_df[\"chromosome\"]) == set(range(1, 23))"
   ]
  },
  {
   "cell_type": "code",
   "execution_count": 14,
   "id": "equivalent-excuse",
   "metadata": {},
   "outputs": [
    {
     "data": {
      "text/plain": [
       "(1078, 4)"
      ]
     },
     "execution_count": 14,
     "metadata": {},
     "output_type": "execute_result"
    }
   ],
   "source": [
    "all_gene_corr_files_df.shape"
   ]
  },
  {
   "cell_type": "code",
   "execution_count": 15,
   "id": "fiscal-actress",
   "metadata": {},
   "outputs": [
    {
     "data": {
      "text/html": [
       "<div>\n",
       "<style scoped>\n",
       "    .dataframe tbody tr th:only-of-type {\n",
       "        vertical-align: middle;\n",
       "    }\n",
       "\n",
       "    .dataframe tbody tr th {\n",
       "        vertical-align: top;\n",
       "    }\n",
       "\n",
       "    .dataframe thead th {\n",
       "        text-align: right;\n",
       "    }\n",
       "</style>\n",
       "<table border=\"1\" class=\"dataframe\">\n",
       "  <thead>\n",
       "    <tr style=\"text-align: right;\">\n",
       "      <th></th>\n",
       "      <th>corr_file</th>\n",
       "      <th>file_name</th>\n",
       "      <th>tissue</th>\n",
       "      <th>chromosome</th>\n",
       "    </tr>\n",
       "  </thead>\n",
       "  <tbody>\n",
       "    <tr>\n",
       "      <th>0</th>\n",
       "      <td>/home/miltondp/projects/labs/greenelab/phenopl...</td>\n",
       "      <td>gene_corrs-Ovary-chr18.pkl</td>\n",
       "      <td>Ovary</td>\n",
       "      <td>18</td>\n",
       "    </tr>\n",
       "    <tr>\n",
       "      <th>1</th>\n",
       "      <td>/home/miltondp/projects/labs/greenelab/phenopl...</td>\n",
       "      <td>gene_corrs-Ovary-chr9.pkl</td>\n",
       "      <td>Ovary</td>\n",
       "      <td>9</td>\n",
       "    </tr>\n",
       "    <tr>\n",
       "      <th>2</th>\n",
       "      <td>/home/miltondp/projects/labs/greenelab/phenopl...</td>\n",
       "      <td>gene_corrs-Ovary-chr19.pkl</td>\n",
       "      <td>Ovary</td>\n",
       "      <td>19</td>\n",
       "    </tr>\n",
       "    <tr>\n",
       "      <th>3</th>\n",
       "      <td>/home/miltondp/projects/labs/greenelab/phenopl...</td>\n",
       "      <td>gene_corrs-Ovary-chr13.pkl</td>\n",
       "      <td>Ovary</td>\n",
       "      <td>13</td>\n",
       "    </tr>\n",
       "    <tr>\n",
       "      <th>4</th>\n",
       "      <td>/home/miltondp/projects/labs/greenelab/phenopl...</td>\n",
       "      <td>gene_corrs-Ovary-chr21.pkl</td>\n",
       "      <td>Ovary</td>\n",
       "      <td>21</td>\n",
       "    </tr>\n",
       "  </tbody>\n",
       "</table>\n",
       "</div>"
      ],
      "text/plain": [
       "                                           corr_file  \\\n",
       "0  /home/miltondp/projects/labs/greenelab/phenopl...   \n",
       "1  /home/miltondp/projects/labs/greenelab/phenopl...   \n",
       "2  /home/miltondp/projects/labs/greenelab/phenopl...   \n",
       "3  /home/miltondp/projects/labs/greenelab/phenopl...   \n",
       "4  /home/miltondp/projects/labs/greenelab/phenopl...   \n",
       "\n",
       "                    file_name tissue  chromosome  \n",
       "0  gene_corrs-Ovary-chr18.pkl  Ovary          18  \n",
       "1   gene_corrs-Ovary-chr9.pkl  Ovary           9  \n",
       "2  gene_corrs-Ovary-chr19.pkl  Ovary          19  \n",
       "3  gene_corrs-Ovary-chr13.pkl  Ovary          13  \n",
       "4  gene_corrs-Ovary-chr21.pkl  Ovary          21  "
      ]
     },
     "execution_count": 15,
     "metadata": {},
     "output_type": "execute_result"
    }
   ],
   "source": [
    "all_gene_corr_files_df.head()"
   ]
  },
  {
   "cell_type": "markdown",
   "id": "green-entity",
   "metadata": {
    "papermill": {
     "duration": 0.016156,
     "end_time": "2021-04-28T22:27:17.704727",
     "exception": false,
     "start_time": "2021-04-28T22:27:17.688571",
     "status": "completed"
    },
    "tags": []
   },
   "source": [
    "## MultiPLIER Z"
   ]
  },
  {
   "cell_type": "code",
   "execution_count": 16,
   "id": "temporal-candidate",
   "metadata": {
    "papermill": {
     "duration": 0.050172,
     "end_time": "2021-04-28T22:27:17.770996",
     "exception": false,
     "start_time": "2021-04-28T22:27:17.720824",
     "status": "completed"
    },
    "tags": []
   },
   "outputs": [],
   "source": [
    "multiplier_z_genes = pd.read_pickle(\n",
    "    conf.MULTIPLIER[\"MODEL_Z_MATRIX_FILE\"]\n",
    ").index.tolist()"
   ]
  },
  {
   "cell_type": "code",
   "execution_count": 17,
   "id": "continental-compatibility",
   "metadata": {
    "papermill": {
     "duration": 0.027596,
     "end_time": "2021-04-28T22:27:17.819065",
     "exception": false,
     "start_time": "2021-04-28T22:27:17.791469",
     "status": "completed"
    },
    "tags": []
   },
   "outputs": [
    {
     "data": {
      "text/plain": [
       "6750"
      ]
     },
     "execution_count": 17,
     "metadata": {},
     "output_type": "execute_result"
    }
   ],
   "source": [
    "len(multiplier_z_genes)"
   ]
  },
  {
   "cell_type": "code",
   "execution_count": 18,
   "id": "northern-gospel",
   "metadata": {
    "papermill": {
     "duration": 0.027396,
     "end_time": "2021-04-28T22:27:17.863147",
     "exception": false,
     "start_time": "2021-04-28T22:27:17.835751",
     "status": "completed"
    },
    "tags": []
   },
   "outputs": [
    {
     "data": {
      "text/plain": [
       "['GAS6',\n",
       " 'MMP14',\n",
       " 'DSP',\n",
       " 'MARCKSL1',\n",
       " 'SPARC',\n",
       " 'CTSD',\n",
       " 'EPAS1',\n",
       " 'PALLD',\n",
       " 'PHC2',\n",
       " 'LGALS3BP']"
      ]
     },
     "execution_count": 18,
     "metadata": {},
     "output_type": "execute_result"
    }
   ],
   "source": [
    "multiplier_z_genes[:10]"
   ]
  },
  {
   "cell_type": "markdown",
   "id": "rapid-malaysia",
   "metadata": {
    "papermill": {
     "duration": 0.016403,
     "end_time": "2021-04-28T22:27:17.896463",
     "exception": false,
     "start_time": "2021-04-28T22:27:17.880060",
     "status": "completed"
    },
    "tags": []
   },
   "source": [
    "## Get gene objects"
   ]
  },
  {
   "cell_type": "code",
   "execution_count": 19,
   "id": "retained-methodology",
   "metadata": {
    "papermill": {
     "duration": 0.032133,
     "end_time": "2021-04-28T22:27:17.945091",
     "exception": false,
     "start_time": "2021-04-28T22:27:17.912958",
     "status": "completed"
    },
    "tags": []
   },
   "outputs": [],
   "source": [
    "multiplier_gene_obj = {\n",
    "    gene_name: Gene(name=gene_name)\n",
    "    for gene_name in multiplier_z_genes\n",
    "    if gene_name in Gene.GENE_NAME_TO_ID_MAP\n",
    "}"
   ]
  },
  {
   "cell_type": "code",
   "execution_count": 20,
   "id": "mineral-header",
   "metadata": {
    "papermill": {
     "duration": 0.028153,
     "end_time": "2021-04-28T22:27:17.990710",
     "exception": false,
     "start_time": "2021-04-28T22:27:17.962557",
     "status": "completed"
    },
    "tags": []
   },
   "outputs": [
    {
     "data": {
      "text/plain": [
       "6454"
      ]
     },
     "execution_count": 20,
     "metadata": {},
     "output_type": "execute_result"
    }
   ],
   "source": [
    "len(multiplier_gene_obj)"
   ]
  },
  {
   "cell_type": "code",
   "execution_count": 21,
   "id": "subject-budapest",
   "metadata": {
    "papermill": {
     "duration": 0.028361,
     "end_time": "2021-04-28T22:27:18.036595",
     "exception": false,
     "start_time": "2021-04-28T22:27:18.008234",
     "status": "completed"
    },
    "tags": []
   },
   "outputs": [
    {
     "data": {
      "text/plain": [
       "'ENSG00000183087'"
      ]
     },
     "execution_count": 21,
     "metadata": {},
     "output_type": "execute_result"
    }
   ],
   "source": [
    "multiplier_gene_obj[\"GAS6\"].ensembl_id"
   ]
  },
  {
   "cell_type": "code",
   "execution_count": 22,
   "id": "experimental-baghdad",
   "metadata": {
    "papermill": {
     "duration": 0.693976,
     "end_time": "2021-04-28T22:27:18.748183",
     "exception": false,
     "start_time": "2021-04-28T22:27:18.054207",
     "status": "completed"
    },
    "tags": []
   },
   "outputs": [],
   "source": [
    "_gene_obj = list(multiplier_gene_obj.values())\n",
    "\n",
    "genes_info = pd.DataFrame(\n",
    "    {\n",
    "        \"name\": [g.name for g in _gene_obj],\n",
    "        \"id\": [g.ensembl_id for g in _gene_obj],\n",
    "        \"chr\": [g.chromosome for g in _gene_obj],\n",
    "    }\n",
    ").dropna()"
   ]
  },
  {
   "cell_type": "code",
   "execution_count": 23,
   "id": "consolidated-grammar",
   "metadata": {
    "papermill": {
     "duration": 0.028574,
     "end_time": "2021-04-28T22:27:18.793860",
     "exception": false,
     "start_time": "2021-04-28T22:27:18.765286",
     "status": "completed"
    },
    "tags": []
   },
   "outputs": [
    {
     "data": {
      "text/plain": [
       "(6452, 3)"
      ]
     },
     "execution_count": 23,
     "metadata": {},
     "output_type": "execute_result"
    }
   ],
   "source": [
    "genes_info.shape"
   ]
  },
  {
   "cell_type": "code",
   "execution_count": 24,
   "id": "strategic-cheat",
   "metadata": {
    "papermill": {
     "duration": 0.03142,
     "end_time": "2021-04-28T22:27:18.843921",
     "exception": false,
     "start_time": "2021-04-28T22:27:18.812501",
     "status": "completed"
    },
    "tags": []
   },
   "outputs": [
    {
     "data": {
      "text/html": [
       "<div>\n",
       "<style scoped>\n",
       "    .dataframe tbody tr th:only-of-type {\n",
       "        vertical-align: middle;\n",
       "    }\n",
       "\n",
       "    .dataframe tbody tr th {\n",
       "        vertical-align: top;\n",
       "    }\n",
       "\n",
       "    .dataframe thead th {\n",
       "        text-align: right;\n",
       "    }\n",
       "</style>\n",
       "<table border=\"1\" class=\"dataframe\">\n",
       "  <thead>\n",
       "    <tr style=\"text-align: right;\">\n",
       "      <th></th>\n",
       "      <th>name</th>\n",
       "      <th>id</th>\n",
       "      <th>chr</th>\n",
       "    </tr>\n",
       "  </thead>\n",
       "  <tbody>\n",
       "    <tr>\n",
       "      <th>0</th>\n",
       "      <td>GAS6</td>\n",
       "      <td>ENSG00000183087</td>\n",
       "      <td>13</td>\n",
       "    </tr>\n",
       "    <tr>\n",
       "      <th>1</th>\n",
       "      <td>MMP14</td>\n",
       "      <td>ENSG00000157227</td>\n",
       "      <td>14</td>\n",
       "    </tr>\n",
       "    <tr>\n",
       "      <th>2</th>\n",
       "      <td>DSP</td>\n",
       "      <td>ENSG00000096696</td>\n",
       "      <td>6</td>\n",
       "    </tr>\n",
       "    <tr>\n",
       "      <th>3</th>\n",
       "      <td>MARCKSL1</td>\n",
       "      <td>ENSG00000175130</td>\n",
       "      <td>1</td>\n",
       "    </tr>\n",
       "    <tr>\n",
       "      <th>4</th>\n",
       "      <td>SPARC</td>\n",
       "      <td>ENSG00000113140</td>\n",
       "      <td>5</td>\n",
       "    </tr>\n",
       "  </tbody>\n",
       "</table>\n",
       "</div>"
      ],
      "text/plain": [
       "       name               id chr\n",
       "0      GAS6  ENSG00000183087  13\n",
       "1     MMP14  ENSG00000157227  14\n",
       "2       DSP  ENSG00000096696   6\n",
       "3  MARCKSL1  ENSG00000175130   1\n",
       "4     SPARC  ENSG00000113140   5"
      ]
     },
     "execution_count": 24,
     "metadata": {},
     "output_type": "execute_result"
    }
   ],
   "source": [
    "genes_info.head()"
   ]
  },
  {
   "cell_type": "markdown",
   "id": "processed-oxford",
   "metadata": {
    "papermill": {
     "duration": 0.017762,
     "end_time": "2021-04-28T22:27:18.880002",
     "exception": false,
     "start_time": "2021-04-28T22:27:18.862240",
     "status": "completed"
    },
    "tags": []
   },
   "source": [
    "## Get tissues names"
   ]
  },
  {
   "cell_type": "code",
   "execution_count": 25,
   "id": "rolled-validity",
   "metadata": {
    "papermill": {
     "duration": 0.028783,
     "end_time": "2021-04-28T22:27:18.926607",
     "exception": false,
     "start_time": "2021-04-28T22:27:18.897824",
     "status": "completed"
    },
    "tags": []
   },
   "outputs": [],
   "source": [
    "db_files = list(conf.PHENOMEXCAN[\"PREDICTION_MODELS\"][\"MASHR\"].glob(\"*.db\"))"
   ]
  },
  {
   "cell_type": "code",
   "execution_count": 26,
   "id": "nominated-cheat",
   "metadata": {
    "papermill": {
     "duration": 0.028322,
     "end_time": "2021-04-28T22:27:18.973419",
     "exception": false,
     "start_time": "2021-04-28T22:27:18.945097",
     "status": "completed"
    },
    "tags": []
   },
   "outputs": [],
   "source": [
    "assert len(db_files) == 49"
   ]
  },
  {
   "cell_type": "code",
   "execution_count": 27,
   "id": "numerical-dinner",
   "metadata": {
    "papermill": {
     "duration": 0.028928,
     "end_time": "2021-04-28T22:27:19.021298",
     "exception": false,
     "start_time": "2021-04-28T22:27:18.992370",
     "status": "completed"
    },
    "tags": []
   },
   "outputs": [],
   "source": [
    "tissues = [str(f).split(\"mashr_\")[1].split(\".db\")[0] for f in db_files]"
   ]
  },
  {
   "cell_type": "code",
   "execution_count": 28,
   "id": "indirect-halifax",
   "metadata": {
    "papermill": {
     "duration": 0.028848,
     "end_time": "2021-04-28T22:27:19.068390",
     "exception": false,
     "start_time": "2021-04-28T22:27:19.039542",
     "status": "completed"
    },
    "tags": []
   },
   "outputs": [
    {
     "data": {
      "text/plain": [
       "['Brain_Cerebellar_Hemisphere',\n",
       " 'Adrenal_Gland',\n",
       " 'Spleen',\n",
       " 'Minor_Salivary_Gland',\n",
       " 'Brain_Anterior_cingulate_cortex_BA24']"
      ]
     },
     "execution_count": 28,
     "metadata": {},
     "output_type": "execute_result"
    }
   ],
   "source": [
    "tissues[:5]"
   ]
  },
  {
   "cell_type": "markdown",
   "id": "hawaiian-pound",
   "metadata": {
    "papermill": {
     "duration": 0.018668,
     "end_time": "2021-04-28T22:27:19.105651",
     "exception": false,
     "start_time": "2021-04-28T22:27:19.086983",
     "status": "completed"
    },
    "tags": []
   },
   "source": [
    "# Average correlations per chromosome"
   ]
  },
  {
   "cell_type": "code",
   "execution_count": 29,
   "id": "electric-length",
   "metadata": {},
   "outputs": [
    {
     "name": "stdout",
     "output_type": "stream",
     "text": [
      "Chromosome: 1\n",
      "Number of corrs files: (49, 4)\n",
      "Number of MultiPLIER genes: (700, 3)\n",
      "Reading corrs per tissue\n",
      "  WARNING (Ovary): has NaN values (1000)\n",
      "  WARNING (Brain_Cortex): has NaN values (1056)\n",
      "  WARNING (Whole_Blood): has NaN values (2158)\n",
      "  WARNING (Artery_Coronary): has NaN values (1028)\n",
      "  WARNING (Pancreas): has NaN values (2054)\n",
      "  WARNING (Vagina): has NaN values (1894)\n",
      "  WARNING (Brain_Frontal_Cortex_BA9): has NaN values (1050)\n",
      "  WARNING (Brain_Amygdala): has NaN values (934)\n",
      "  WARNING (Heart_Atrial_Appendage): has NaN values (1070)\n",
      "  WARNING (Brain_Nucleus_accumbens_basal_ganglia): has NaN values (978)\n",
      "  WARNING (Skin_Sun_Exposed_Lower_leg): has NaN values (1110)\n",
      "  WARNING (Brain_Cerebellar_Hemisphere): has NaN values (952)\n",
      "  WARNING (Kidney_Cortex): has NaN values (2334)\n",
      "  WARNING (Cells_EBV-transformed_lymphocytes): has NaN values (1922)\n"
     ]
    },
    {
     "data": {
      "text/plain": [
       "count    244650.000000\n",
       "mean          0.000062\n",
       "std           0.016267\n",
       "min          -0.604064\n",
       "25%          -0.005203\n",
       "50%           0.000000\n",
       "75%           0.005283\n",
       "max           0.662772\n",
       "dtype: float64"
      ]
     },
     "metadata": {},
     "output_type": "display_data"
    },
    {
     "name": "stdout",
     "output_type": "stream",
     "text": [
      "\n",
      "\n",
      "Chromosome: 2\n",
      "Number of corrs files: (49, 4)\n",
      "Number of MultiPLIER genes: (445, 3)\n",
      "Reading corrs per tissue\n",
      "  WARNING (Whole_Blood): has NaN values (706)\n",
      "  WARNING (Muscle_Skeletal): has NaN values (694)\n",
      "  WARNING (Brain_Amygdala): has NaN values (610)\n",
      "  WARNING (Minor_Salivary_Gland): has NaN values (1992)\n",
      "  WARNING (Cells_Cultured_fibroblasts): has NaN values (714)\n",
      "  WARNING (Heart_Left_Ventricle): has NaN values (678)\n"
     ]
    },
    {
     "data": {
      "text/plain": [
       "count    98790.000000\n",
       "mean        -0.000031\n",
       "std          0.016511\n",
       "min         -0.572576\n",
       "25%         -0.005460\n",
       "50%          0.000000\n",
       "75%          0.005474\n",
       "max          0.555836\n",
       "dtype: float64"
      ]
     },
     "metadata": {},
     "output_type": "display_data"
    },
    {
     "name": "stdout",
     "output_type": "stream",
     "text": [
      "\n",
      "\n",
      "Chromosome: 3\n",
      "Number of corrs files: (49, 4)\n",
      "Number of MultiPLIER genes: (393, 3)\n",
      "Reading corrs per tissue\n",
      "  WARNING (Brain_Cortex): has NaN values (560)\n",
      "  WARNING (Small_Intestine_Terminal_Ileum): has NaN values (562)\n",
      "  WARNING (Vagina): has NaN values (542)\n",
      "  WARNING (Adipose_Subcutaneous): has NaN values (638)\n",
      "  WARNING (Muscle_Skeletal): has NaN values (612)\n",
      "  WARNING (Thyroid): has NaN values (656)\n",
      "  WARNING (Minor_Salivary_Gland): has NaN values (566)\n",
      "  WARNING (Kidney_Cortex): has NaN values (460)\n",
      "  WARNING (Cells_EBV-transformed_lymphocytes): has NaN values (1090)\n"
     ]
    },
    {
     "data": {
      "text/plain": [
       "count    77028.000000\n",
       "mean         0.000007\n",
       "std          0.018638\n",
       "min         -0.926208\n",
       "25%         -0.005516\n",
       "50%          0.000000\n",
       "75%          0.005437\n",
       "max          0.892995\n",
       "dtype: float64"
      ]
     },
     "metadata": {},
     "output_type": "display_data"
    },
    {
     "name": "stdout",
     "output_type": "stream",
     "text": [
      "\n",
      "\n",
      "Chromosome: 4\n",
      "Number of corrs files: (49, 4)\n",
      "Number of MultiPLIER genes: (244, 3)\n",
      "Reading corrs per tissue\n",
      "  WARNING (Pancreas): has NaN values (368)\n",
      "  WARNING (Vagina): has NaN values (326)\n",
      "  WARNING (Brain_Frontal_Cortex_BA9): has NaN values (370)\n",
      "  WARNING (Colon_Sigmoid): has NaN values (370)\n",
      "  WARNING (Nerve_Tibial): has NaN values (408)\n",
      "  WARNING (Artery_Tibial): has NaN values (376)\n",
      "  WARNING (Kidney_Cortex): has NaN values (306)\n"
     ]
    },
    {
     "data": {
      "text/plain": [
       "count    29646.000000\n",
       "mean         0.000081\n",
       "std          0.015757\n",
       "min         -0.493401\n",
       "25%         -0.005026\n",
       "50%          0.000000\n",
       "75%          0.005064\n",
       "max          0.556111\n",
       "dtype: float64"
      ]
     },
     "metadata": {},
     "output_type": "display_data"
    },
    {
     "name": "stdout",
     "output_type": "stream",
     "text": [
      "\n",
      "\n",
      "Chromosome: 5\n",
      "Number of corrs files: (49, 4)\n",
      "Number of MultiPLIER genes: (306, 3)\n",
      "Reading corrs per tissue\n",
      "  WARNING (Brain_Substantia_nigra): has NaN values (422)\n",
      "  WARNING (Pituitary): has NaN values (470)\n",
      "  WARNING (Thyroid): has NaN values (500)\n",
      "  WARNING (Minor_Salivary_Gland): has NaN values (448)\n",
      "  WARNING (Uterus): has NaN values (438)\n"
     ]
    },
    {
     "data": {
      "text/plain": [
       "count    46665.000000\n",
       "mean         0.000041\n",
       "std          0.018839\n",
       "min         -0.620978\n",
       "25%         -0.005262\n",
       "50%          0.000000\n",
       "75%          0.005253\n",
       "max          0.717110\n",
       "dtype: float64"
      ]
     },
     "metadata": {},
     "output_type": "display_data"
    },
    {
     "name": "stdout",
     "output_type": "stream",
     "text": [
      "\n",
      "\n",
      "Chromosome: 6\n",
      "Number of corrs files: (49, 4)\n",
      "Number of MultiPLIER genes: (339, 3)\n",
      "Reading corrs per tissue\n",
      "  WARNING (Small_Intestine_Terminal_Ileum): has NaN values (516)\n",
      "  WARNING (Adrenal_Gland): has NaN values (518)\n",
      "  WARNING (Vagina): has NaN values (456)\n",
      "  WARNING (Colon_Transverse): has NaN values (530)\n",
      "  WARNING (Colon_Sigmoid): has NaN values (526)\n",
      "  WARNING (Minor_Salivary_Gland): has NaN values (490)\n",
      "  WARNING (Esophagus_Mucosa): has NaN values (544)\n",
      "  WARNING (Uterus): has NaN values (474)\n",
      "  WARNING (Prostate): has NaN values (502)\n"
     ]
    },
    {
     "data": {
      "text/plain": [
       "count    57291.000000\n",
       "mean         0.000085\n",
       "std          0.018855\n",
       "min         -0.549863\n",
       "25%         -0.005654\n",
       "50%          0.000000\n",
       "75%          0.005680\n",
       "max          0.763644\n",
       "dtype: float64"
      ]
     },
     "metadata": {},
     "output_type": "display_data"
    },
    {
     "name": "stdout",
     "output_type": "stream",
     "text": [
      "\n",
      "\n",
      "Chromosome: 7\n",
      "Number of corrs files: (49, 4)\n",
      "Number of MultiPLIER genes: (281, 3)\n",
      "Reading corrs per tissue\n",
      "  WARNING (Whole_Blood): has NaN values (906)\n",
      "  WARNING (Artery_Coronary): has NaN values (428)\n",
      "  WARNING (Stomach): has NaN values (424)\n",
      "  WARNING (Colon_Transverse): has NaN values (428)\n",
      "  WARNING (Minor_Salivary_Gland): has NaN values (416)\n",
      "  WARNING (Brain_Caudate_basal_ganglia): has NaN values (392)\n",
      "  WARNING (Kidney_Cortex): has NaN values (340)\n",
      "  WARNING (Liver): has NaN values (402)\n",
      "  WARNING (Spleen): has NaN values (806)\n"
     ]
    },
    {
     "data": {
      "text/plain": [
       "count    39340.000000\n",
       "mean         0.000242\n",
       "std          0.017489\n",
       "min         -0.335488\n",
       "25%         -0.005271\n",
       "50%          0.000002\n",
       "75%          0.005450\n",
       "max          0.703423\n",
       "dtype: float64"
      ]
     },
     "metadata": {},
     "output_type": "display_data"
    },
    {
     "name": "stdout",
     "output_type": "stream",
     "text": [
      "\n",
      "\n",
      "Chromosome: 8\n",
      "Number of corrs files: (49, 4)\n",
      "Number of MultiPLIER genes: (222, 3)\n",
      "Reading corrs per tissue\n",
      "  WARNING (Heart_Atrial_Appendage): has NaN values (670)\n",
      "  WARNING (Nerve_Tibial): has NaN values (372)\n",
      "  WARNING (Artery_Tibial): has NaN values (340)\n",
      "  WARNING (Heart_Left_Ventricle): has NaN values (318)\n"
     ]
    },
    {
     "data": {
      "text/plain": [
       "count    24531.000000\n",
       "mean        -0.000046\n",
       "std          0.015408\n",
       "min         -0.497477\n",
       "25%         -0.004892\n",
       "50%          0.000012\n",
       "75%          0.004903\n",
       "max          0.653567\n",
       "dtype: float64"
      ]
     },
     "metadata": {},
     "output_type": "display_data"
    },
    {
     "name": "stdout",
     "output_type": "stream",
     "text": [
      "\n",
      "\n",
      "Chromosome: 9\n",
      "Number of corrs files: (49, 4)\n",
      "Number of MultiPLIER genes: (245, 3)\n",
      "Reading corrs per tissue\n",
      "  WARNING (Small_Intestine_Terminal_Ileum): has NaN values (354)\n",
      "  WARNING (Whole_Blood): has NaN values (388)\n",
      "  WARNING (Minor_Salivary_Gland): has NaN values (390)\n",
      "  WARNING (Brain_Spinal_cord_cervical_c-1): has NaN values (702)\n",
      "  WARNING (Cells_EBV-transformed_lymphocytes): has NaN values (356)\n",
      "  WARNING (Liver): has NaN values (346)\n"
     ]
    },
    {
     "data": {
      "text/plain": [
       "count    29890.000000\n",
       "mean        -0.000095\n",
       "std          0.018607\n",
       "min         -0.800607\n",
       "25%         -0.005406\n",
       "50%          0.000000\n",
       "75%          0.005427\n",
       "max          0.763849\n",
       "dtype: float64"
      ]
     },
     "metadata": {},
     "output_type": "display_data"
    },
    {
     "name": "stdout",
     "output_type": "stream",
     "text": [
      "\n",
      "\n",
      "Chromosome: 10\n",
      "Number of corrs files: (49, 4)\n",
      "Number of MultiPLIER genes: (245, 3)\n",
      "Reading corrs per tissue\n",
      "  WARNING (Whole_Blood): has NaN values (394)\n",
      "  WARNING (Pancreas): has NaN values (380)\n",
      "  WARNING (Colon_Transverse): has NaN values (384)\n",
      "  WARNING (Cells_EBV-transformed_lymphocytes): has NaN values (360)\n",
      "  WARNING (Heart_Left_Ventricle): has NaN values (380)\n"
     ]
    },
    {
     "data": {
      "text/plain": [
       "count    29890.000000\n",
       "mean        -0.000005\n",
       "std          0.017629\n",
       "min         -0.798728\n",
       "25%         -0.005992\n",
       "50%          0.000000\n",
       "75%          0.005860\n",
       "max          0.707145\n",
       "dtype: float64"
      ]
     },
     "metadata": {},
     "output_type": "display_data"
    },
    {
     "name": "stdout",
     "output_type": "stream",
     "text": [
      "\n",
      "\n",
      "Chromosome: 11\n",
      "Number of corrs files: (49, 4)\n",
      "Number of MultiPLIER genes: (387, 3)\n",
      "Reading corrs per tissue\n",
      "  WARNING (Artery_Coronary): has NaN values (580)\n",
      "  WARNING (Muscle_Skeletal): has NaN values (634)\n",
      "  WARNING (Brain_Frontal_Cortex_BA9): has NaN values (562)\n",
      "  WARNING (Brain_Amygdala): has NaN values (518)\n",
      "  WARNING (Brain_Cerebellar_Hemisphere): has NaN values (580)\n",
      "  WARNING (Artery_Tibial): has NaN values (1222)\n"
     ]
    },
    {
     "data": {
      "text/plain": [
       "count    74691.000000\n",
       "mean         0.000085\n",
       "std          0.019831\n",
       "min         -0.805327\n",
       "25%         -0.005683\n",
       "50%          0.000000\n",
       "75%          0.005740\n",
       "max          0.626080\n",
       "dtype: float64"
      ]
     },
     "metadata": {},
     "output_type": "display_data"
    },
    {
     "name": "stdout",
     "output_type": "stream",
     "text": [
      "\n",
      "\n",
      "Chromosome: 12\n",
      "Number of corrs files: (49, 4)\n",
      "Number of MultiPLIER genes: (389, 3)\n",
      "Reading corrs per tissue\n",
      "  WARNING (Whole_Blood): has NaN values (1206)\n",
      "  WARNING (Skin_Not_Sun_Exposed_Suprapubic): has NaN values (624)\n",
      "  WARNING (Pituitary): has NaN values (584)\n",
      "  WARNING (Kidney_Cortex): has NaN values (460)\n",
      "  WARNING (Brain_Anterior_cingulate_cortex_BA24): has NaN values (538)\n",
      "  WARNING (Brain_Spinal_cord_cervical_c-1): has NaN values (522)\n",
      "  WARNING (Liver): has NaN values (560)\n"
     ]
    },
    {
     "data": {
      "text/plain": [
       "count    75466.000000\n",
       "mean        -0.000073\n",
       "std          0.018400\n",
       "min         -0.881911\n",
       "25%         -0.005265\n",
       "50%          0.000000\n",
       "75%          0.005168\n",
       "max          0.723507\n",
       "dtype: float64"
      ]
     },
     "metadata": {},
     "output_type": "display_data"
    },
    {
     "name": "stdout",
     "output_type": "stream",
     "text": [
      "\n",
      "\n",
      "Chromosome: 13\n",
      "Number of corrs files: (49, 4)\n",
      "Number of MultiPLIER genes: (118, 3)\n",
      "Reading corrs per tissue\n",
      "  WARNING (Brain_Amygdala): has NaN values (142)\n",
      "  WARNING (Heart_Atrial_Appendage): has NaN values (188)\n",
      "  WARNING (Liver): has NaN values (152)\n"
     ]
    },
    {
     "data": {
      "text/plain": [
       "count    6903.000000\n",
       "mean       -0.000031\n",
       "std         0.021762\n",
       "min        -0.484959\n",
       "25%        -0.004572\n",
       "50%         0.000000\n",
       "75%         0.004676\n",
       "max         0.497591\n",
       "dtype: float64"
      ]
     },
     "metadata": {},
     "output_type": "display_data"
    },
    {
     "name": "stdout",
     "output_type": "stream",
     "text": [
      "\n",
      "\n",
      "Chromosome: 14\n",
      "Number of corrs files: (49, 4)\n",
      "Number of MultiPLIER genes: (211, 3)\n",
      "Reading corrs per tissue\n",
      "  WARNING (Ovary): has NaN values (312)\n",
      "  WARNING (Brain_Substantia_nigra): has NaN values (270)\n"
     ]
    },
    {
     "data": {
      "text/plain": [
       "count    22155.000000\n",
       "mean         0.000050\n",
       "std          0.018158\n",
       "min         -0.733259\n",
       "25%         -0.005152\n",
       "50%          0.000000\n",
       "75%          0.005261\n",
       "max          0.481464\n",
       "dtype: float64"
      ]
     },
     "metadata": {},
     "output_type": "display_data"
    },
    {
     "name": "stdout",
     "output_type": "stream",
     "text": [
      "\n",
      "\n",
      "Chromosome: 15\n",
      "Number of corrs files: (49, 4)\n",
      "Number of MultiPLIER genes: (187, 3)\n",
      "Reading corrs per tissue\n"
     ]
    },
    {
     "data": {
      "text/plain": [
       "count    17391.000000\n",
       "mean         0.000092\n",
       "std          0.023125\n",
       "min         -0.753693\n",
       "25%         -0.005577\n",
       "50%          0.000000\n",
       "75%          0.005513\n",
       "max          0.530052\n",
       "dtype: float64"
      ]
     },
     "metadata": {},
     "output_type": "display_data"
    },
    {
     "name": "stdout",
     "output_type": "stream",
     "text": [
      "\n",
      "\n",
      "Chromosome: 16\n",
      "Number of corrs files: (49, 4)\n",
      "Number of MultiPLIER genes: (274, 3)\n",
      "Reading corrs per tissue\n",
      "  WARNING (Brain_Frontal_Cortex_BA9): has NaN values (394)\n",
      "  WARNING (Colon_Sigmoid): has NaN values (430)\n",
      "  WARNING (Brain_Amygdala): has NaN values (364)\n",
      "  WARNING (Cells_Cultured_fibroblasts): has NaN values (870)\n",
      "  WARNING (Artery_Tibial): has NaN values (434)\n",
      "  WARNING (Brain_Hypothalamus): has NaN values (400)\n",
      "  WARNING (Cells_EBV-transformed_lymphocytes): has NaN values (384)\n",
      "  WARNING (Esophagus_Mucosa): has NaN values (444)\n"
     ]
    },
    {
     "data": {
      "text/plain": [
       "count    37401.000000\n",
       "mean        -0.000028\n",
       "std          0.025896\n",
       "min         -0.750217\n",
       "25%         -0.005933\n",
       "50%          0.000000\n",
       "75%          0.005818\n",
       "max          0.710003\n",
       "dtype: float64"
      ]
     },
     "metadata": {},
     "output_type": "display_data"
    },
    {
     "name": "stdout",
     "output_type": "stream",
     "text": [
      "\n",
      "\n",
      "Chromosome: 17\n",
      "Number of corrs files: (49, 4)\n",
      "Number of MultiPLIER genes: (411, 3)\n",
      "Reading corrs per tissue\n",
      "  WARNING (Adrenal_Gland): has NaN values (584)\n",
      "  WARNING (Vagina): has NaN values (520)\n",
      "  WARNING (Muscle_Skeletal): has NaN values (1222)\n",
      "  WARNING (Brain_Putamen_basal_ganglia): has NaN values (584)\n",
      "  WARNING (Pituitary): has NaN values (618)\n",
      "  WARNING (Colon_Transverse): has NaN values (636)\n",
      "  WARNING (Esophagus_Gastroesophageal_Junction): has NaN values (632)\n",
      "  WARNING (Brain_Amygdala): has NaN values (516)\n",
      "  WARNING (Heart_Atrial_Appendage): has NaN values (1298)\n",
      "  WARNING (Cells_Cultured_fibroblasts): has NaN values (1274)\n",
      "  WARNING (Esophagus_Muscularis): has NaN values (674)\n",
      "  WARNING (Brain_Cerebellar_Hemisphere): has NaN values (578)\n",
      "  WARNING (Kidney_Cortex): has NaN values (468)\n",
      "  WARNING (Brain_Hypothalamus): has NaN values (604)\n",
      "  WARNING (Brain_Cerebellum): has NaN values (588)\n",
      "  WARNING (Brain_Spinal_cord_cervical_c-1): has NaN values (548)\n",
      "  WARNING (Uterus): has NaN values (570)\n",
      "  WARNING (Adipose_Visceral_Omentum): has NaN values (638)\n",
      "  WARNING (Liver): has NaN values (582)\n"
     ]
    },
    {
     "data": {
      "text/plain": [
       "count    84255.000000\n",
       "mean         0.000021\n",
       "std          0.019209\n",
       "min         -0.666764\n",
       "25%         -0.005698\n",
       "50%          0.000000\n",
       "75%          0.005789\n",
       "max          0.616416\n",
       "dtype: float64"
      ]
     },
     "metadata": {},
     "output_type": "display_data"
    },
    {
     "name": "stdout",
     "output_type": "stream",
     "text": [
      "\n",
      "\n",
      "Chromosome: 18\n",
      "Number of corrs files: (49, 4)\n",
      "Number of MultiPLIER genes: (96, 3)\n",
      "Reading corrs per tissue\n",
      "  WARNING (Colon_Sigmoid): has NaN values (150)\n",
      "  WARNING (Cells_Cultured_fibroblasts): has NaN values (156)\n",
      "  WARNING (Kidney_Cortex): has NaN values (122)\n"
     ]
    },
    {
     "data": {
      "text/plain": [
       "count    4560.000000\n",
       "mean       -0.000165\n",
       "std         0.014240\n",
       "min        -0.165306\n",
       "25%        -0.005642\n",
       "50%        -0.000173\n",
       "75%         0.005389\n",
       "max         0.297951\n",
       "dtype: float64"
      ]
     },
     "metadata": {},
     "output_type": "display_data"
    },
    {
     "name": "stdout",
     "output_type": "stream",
     "text": [
      "\n",
      "\n",
      "Chromosome: 19\n",
      "Number of corrs files: (49, 4)\n",
      "Number of MultiPLIER genes: (540, 3)\n",
      "Reading corrs per tissue\n",
      "  WARNING (Whole_Blood): has NaN values (1770)\n",
      "  WARNING (Adrenal_Gland): has NaN values (790)\n",
      "  WARNING (Pancreas): has NaN values (1630)\n",
      "  WARNING (Brain_Substantia_nigra): has NaN values (1422)\n",
      "  WARNING (Brain_Putamen_basal_ganglia): has NaN values (1562)\n",
      "  WARNING (Brain_Amygdala): has NaN values (758)\n",
      "  WARNING (Brain_Caudate_basal_ganglia): has NaN values (1594)\n",
      "  WARNING (Cells_Cultured_fibroblasts): has NaN values (826)\n",
      "  WARNING (Brain_Cerebellar_Hemisphere): has NaN values (790)\n",
      "  WARNING (Artery_Tibial): has NaN values (860)\n",
      "  WARNING (Kidney_Cortex): has NaN values (1878)\n",
      "  WARNING (Brain_Cerebellum): has NaN values (794)\n",
      "  WARNING (Cells_EBV-transformed_lymphocytes): has NaN values (794)\n",
      "  WARNING (Prostate): has NaN values (842)\n",
      "  WARNING (Heart_Left_Ventricle): has NaN values (816)\n",
      "  WARNING (Spleen): has NaN values (860)\n"
     ]
    },
    {
     "data": {
      "text/plain": [
       "count    145530.000000\n",
       "mean          0.000057\n",
       "std           0.018714\n",
       "min          -0.646847\n",
       "25%          -0.006179\n",
       "50%           0.000000\n",
       "75%           0.006243\n",
       "max           0.806689\n",
       "dtype: float64"
      ]
     },
     "metadata": {},
     "output_type": "display_data"
    },
    {
     "name": "stdout",
     "output_type": "stream",
     "text": [
      "\n",
      "\n",
      "Chromosome: 20\n",
      "Number of corrs files: (49, 4)\n",
      "Number of MultiPLIER genes: (187, 3)\n",
      "Reading corrs per tissue\n",
      "  WARNING (Brain_Hippocampus): has NaN values (288)\n",
      "  WARNING (Adipose_Subcutaneous): has NaN values (308)\n",
      "  WARNING (Kidney_Cortex): has NaN values (214)\n"
     ]
    },
    {
     "data": {
      "text/plain": [
       "count    17391.000000\n",
       "mean        -0.000008\n",
       "std          0.021300\n",
       "min         -0.512275\n",
       "25%         -0.006265\n",
       "50%         -0.000054\n",
       "75%          0.005810\n",
       "max          0.581009\n",
       "dtype: float64"
      ]
     },
     "metadata": {},
     "output_type": "display_data"
    },
    {
     "name": "stdout",
     "output_type": "stream",
     "text": [
      "\n",
      "\n",
      "Chromosome: 21\n",
      "Number of corrs files: (49, 4)\n",
      "Number of MultiPLIER genes: (62, 3)\n",
      "Reading corrs per tissue\n"
     ]
    },
    {
     "data": {
      "text/plain": [
       "count    1891.000000\n",
       "mean        0.000785\n",
       "std         0.018951\n",
       "min        -0.330358\n",
       "25%        -0.005045\n",
       "50%         0.000378\n",
       "75%         0.006563\n",
       "max         0.172858\n",
       "dtype: float64"
      ]
     },
     "metadata": {},
     "output_type": "display_data"
    },
    {
     "name": "stdout",
     "output_type": "stream",
     "text": [
      "\n",
      "\n",
      "Chromosome: 22\n",
      "Number of corrs files: (49, 4)\n",
      "Number of MultiPLIER genes: (170, 3)\n",
      "Reading corrs per tissue\n",
      "  WARNING (Testis): has NaN values (278)\n",
      "  WARNING (Stomach): has NaN values (266)\n",
      "  WARNING (Brain_Frontal_Cortex_BA9): has NaN values (260)\n",
      "  WARNING (Pituitary): has NaN values (262)\n",
      "  WARNING (Esophagus_Gastroesophageal_Junction): has NaN values (278)\n",
      "  WARNING (Artery_Tibial): has NaN values (292)\n",
      "  WARNING (Kidney_Cortex): has NaN values (196)\n"
     ]
    },
    {
     "data": {
      "text/plain": [
       "count    14365.000000\n",
       "mean        -0.000173\n",
       "std          0.024237\n",
       "min         -0.659690\n",
       "25%         -0.006331\n",
       "50%         -0.000084\n",
       "75%          0.006518\n",
       "max          0.719813\n",
       "dtype: float64"
      ]
     },
     "metadata": {},
     "output_type": "display_data"
    },
    {
     "name": "stdout",
     "output_type": "stream",
     "text": [
      "\n",
      "\n"
     ]
    }
   ],
   "source": [
    "corrs_per_chr = {}\n",
    "\n",
    "for chr_num in range(1, 23):\n",
    "    print(f\"Chromosome: {chr_num}\", flush=True)\n",
    "\n",
    "    chr_files = all_gene_corr_files_df[all_gene_corr_files_df[\"chromosome\"] == chr_num]\n",
    "    print(f\"Number of corrs files: {chr_files.shape}\")\n",
    "\n",
    "    multiplier_genes_in_chr = genes_info[genes_info[\"chr\"] == str(chr_num)]\n",
    "    print(f\"Number of MultiPLIER genes: {multiplier_genes_in_chr.shape}\")\n",
    "\n",
    "    # create final dataframe with corrs for this chr\n",
    "    chr_df = pd.DataFrame(\n",
    "        data=0.0,\n",
    "        index=multiplier_genes_in_chr[\"id\"],\n",
    "        columns=multiplier_genes_in_chr[\"id\"],\n",
    "    )\n",
    "\n",
    "    print(\"Reading corrs per tissue\", flush=True)\n",
    "    for idx, tissue_corrs in chr_files.iterrows():\n",
    "        tissue_corrs_df = pd.read_pickle(tissue_corrs[\"corr_file\"])\n",
    "\n",
    "        nan_values = tissue_corrs_df.isna()\n",
    "        if nan_values.any().any():\n",
    "            print(\n",
    "                f\"  WARNING ({tissue_corrs['tissue']}): has NaN values ({nan_values.sum().sum()})\"\n",
    "            )\n",
    "            tissue_corrs_df = tissue_corrs_df.fillna(0.0)\n",
    "\n",
    "        # align\n",
    "        tissue_corrs_df = tissue_corrs_df.loc[chr_df.index, chr_df.columns]\n",
    "\n",
    "        chr_df = chr_df + tissue_corrs_df\n",
    "    #         chr_df = chr_df.where(chr_df.abs() > tissue_corrs_df.abs(), tissue_corrs_df).fillna(chr_df)\n",
    "\n",
    "    chr_df = chr_df / float(chr_files.shape[0])\n",
    "    chr_df_flat = pd.Series(squareform(chr_df.values, checks=False))\n",
    "    display(chr_df_flat.describe())\n",
    "\n",
    "    corrs_per_chr[chr_num] = chr_df\n",
    "\n",
    "    print(\"\\n\")"
   ]
  },
  {
   "cell_type": "markdown",
   "id": "offensive-earthquake",
   "metadata": {
    "papermill": {
     "duration": 0.018668,
     "end_time": "2021-04-28T22:27:19.105651",
     "exception": false,
     "start_time": "2021-04-28T22:27:19.086983",
     "status": "completed"
    },
    "tags": []
   },
   "source": [
    "# Create full gene correlation matrix"
   ]
  },
  {
   "cell_type": "markdown",
   "id": "visible-academy",
   "metadata": {},
   "source": [
    "This matrix has all genes in MultiPLIER Z"
   ]
  },
  {
   "cell_type": "code",
   "execution_count": 30,
   "id": "lesser-eight",
   "metadata": {},
   "outputs": [],
   "source": [
    "gene_corrs_df = pd.DataFrame(data=0.0, index=genes_info[\"id\"], columns=genes_info[\"id\"])"
   ]
  },
  {
   "cell_type": "code",
   "execution_count": 31,
   "id": "mature-dining",
   "metadata": {},
   "outputs": [
    {
     "data": {
      "text/plain": [
       "(6452, 6452)"
      ]
     },
     "execution_count": 31,
     "metadata": {},
     "output_type": "execute_result"
    }
   ],
   "source": [
    "gene_corrs_df.shape"
   ]
  },
  {
   "cell_type": "code",
   "execution_count": 32,
   "id": "hollow-olympus",
   "metadata": {},
   "outputs": [
    {
     "data": {
      "text/html": [
       "<div>\n",
       "<style scoped>\n",
       "    .dataframe tbody tr th:only-of-type {\n",
       "        vertical-align: middle;\n",
       "    }\n",
       "\n",
       "    .dataframe tbody tr th {\n",
       "        vertical-align: top;\n",
       "    }\n",
       "\n",
       "    .dataframe thead th {\n",
       "        text-align: right;\n",
       "    }\n",
       "</style>\n",
       "<table border=\"1\" class=\"dataframe\">\n",
       "  <thead>\n",
       "    <tr style=\"text-align: right;\">\n",
       "      <th>id</th>\n",
       "      <th>ENSG00000183087</th>\n",
       "      <th>ENSG00000157227</th>\n",
       "      <th>ENSG00000096696</th>\n",
       "      <th>ENSG00000175130</th>\n",
       "      <th>ENSG00000113140</th>\n",
       "      <th>ENSG00000117984</th>\n",
       "      <th>ENSG00000116016</th>\n",
       "      <th>ENSG00000129116</th>\n",
       "      <th>ENSG00000134686</th>\n",
       "      <th>ENSG00000108679</th>\n",
       "      <th>...</th>\n",
       "      <th>ENSG00000111716</th>\n",
       "      <th>ENSG00000166796</th>\n",
       "      <th>ENSG00000114331</th>\n",
       "      <th>ENSG00000131584</th>\n",
       "      <th>ENSG00000165410</th>\n",
       "      <th>ENSG00000172757</th>\n",
       "      <th>ENSG00000147862</th>\n",
       "      <th>ENSG00000008323</th>\n",
       "      <th>ENSG00000167083</th>\n",
       "      <th>ENSG00000149257</th>\n",
       "    </tr>\n",
       "    <tr>\n",
       "      <th>id</th>\n",
       "      <th></th>\n",
       "      <th></th>\n",
       "      <th></th>\n",
       "      <th></th>\n",
       "      <th></th>\n",
       "      <th></th>\n",
       "      <th></th>\n",
       "      <th></th>\n",
       "      <th></th>\n",
       "      <th></th>\n",
       "      <th></th>\n",
       "      <th></th>\n",
       "      <th></th>\n",
       "      <th></th>\n",
       "      <th></th>\n",
       "      <th></th>\n",
       "      <th></th>\n",
       "      <th></th>\n",
       "      <th></th>\n",
       "      <th></th>\n",
       "      <th></th>\n",
       "    </tr>\n",
       "  </thead>\n",
       "  <tbody>\n",
       "    <tr>\n",
       "      <th>ENSG00000183087</th>\n",
       "      <td>0.0</td>\n",
       "      <td>0.0</td>\n",
       "      <td>0.0</td>\n",
       "      <td>0.0</td>\n",
       "      <td>0.0</td>\n",
       "      <td>0.0</td>\n",
       "      <td>0.0</td>\n",
       "      <td>0.0</td>\n",
       "      <td>0.0</td>\n",
       "      <td>0.0</td>\n",
       "      <td>...</td>\n",
       "      <td>0.0</td>\n",
       "      <td>0.0</td>\n",
       "      <td>0.0</td>\n",
       "      <td>0.0</td>\n",
       "      <td>0.0</td>\n",
       "      <td>0.0</td>\n",
       "      <td>0.0</td>\n",
       "      <td>0.0</td>\n",
       "      <td>0.0</td>\n",
       "      <td>0.0</td>\n",
       "    </tr>\n",
       "    <tr>\n",
       "      <th>ENSG00000157227</th>\n",
       "      <td>0.0</td>\n",
       "      <td>0.0</td>\n",
       "      <td>0.0</td>\n",
       "      <td>0.0</td>\n",
       "      <td>0.0</td>\n",
       "      <td>0.0</td>\n",
       "      <td>0.0</td>\n",
       "      <td>0.0</td>\n",
       "      <td>0.0</td>\n",
       "      <td>0.0</td>\n",
       "      <td>...</td>\n",
       "      <td>0.0</td>\n",
       "      <td>0.0</td>\n",
       "      <td>0.0</td>\n",
       "      <td>0.0</td>\n",
       "      <td>0.0</td>\n",
       "      <td>0.0</td>\n",
       "      <td>0.0</td>\n",
       "      <td>0.0</td>\n",
       "      <td>0.0</td>\n",
       "      <td>0.0</td>\n",
       "    </tr>\n",
       "    <tr>\n",
       "      <th>ENSG00000096696</th>\n",
       "      <td>0.0</td>\n",
       "      <td>0.0</td>\n",
       "      <td>0.0</td>\n",
       "      <td>0.0</td>\n",
       "      <td>0.0</td>\n",
       "      <td>0.0</td>\n",
       "      <td>0.0</td>\n",
       "      <td>0.0</td>\n",
       "      <td>0.0</td>\n",
       "      <td>0.0</td>\n",
       "      <td>...</td>\n",
       "      <td>0.0</td>\n",
       "      <td>0.0</td>\n",
       "      <td>0.0</td>\n",
       "      <td>0.0</td>\n",
       "      <td>0.0</td>\n",
       "      <td>0.0</td>\n",
       "      <td>0.0</td>\n",
       "      <td>0.0</td>\n",
       "      <td>0.0</td>\n",
       "      <td>0.0</td>\n",
       "    </tr>\n",
       "    <tr>\n",
       "      <th>ENSG00000175130</th>\n",
       "      <td>0.0</td>\n",
       "      <td>0.0</td>\n",
       "      <td>0.0</td>\n",
       "      <td>0.0</td>\n",
       "      <td>0.0</td>\n",
       "      <td>0.0</td>\n",
       "      <td>0.0</td>\n",
       "      <td>0.0</td>\n",
       "      <td>0.0</td>\n",
       "      <td>0.0</td>\n",
       "      <td>...</td>\n",
       "      <td>0.0</td>\n",
       "      <td>0.0</td>\n",
       "      <td>0.0</td>\n",
       "      <td>0.0</td>\n",
       "      <td>0.0</td>\n",
       "      <td>0.0</td>\n",
       "      <td>0.0</td>\n",
       "      <td>0.0</td>\n",
       "      <td>0.0</td>\n",
       "      <td>0.0</td>\n",
       "    </tr>\n",
       "    <tr>\n",
       "      <th>ENSG00000113140</th>\n",
       "      <td>0.0</td>\n",
       "      <td>0.0</td>\n",
       "      <td>0.0</td>\n",
       "      <td>0.0</td>\n",
       "      <td>0.0</td>\n",
       "      <td>0.0</td>\n",
       "      <td>0.0</td>\n",
       "      <td>0.0</td>\n",
       "      <td>0.0</td>\n",
       "      <td>0.0</td>\n",
       "      <td>...</td>\n",
       "      <td>0.0</td>\n",
       "      <td>0.0</td>\n",
       "      <td>0.0</td>\n",
       "      <td>0.0</td>\n",
       "      <td>0.0</td>\n",
       "      <td>0.0</td>\n",
       "      <td>0.0</td>\n",
       "      <td>0.0</td>\n",
       "      <td>0.0</td>\n",
       "      <td>0.0</td>\n",
       "    </tr>\n",
       "  </tbody>\n",
       "</table>\n",
       "<p>5 rows × 6452 columns</p>\n",
       "</div>"
      ],
      "text/plain": [
       "id               ENSG00000183087  ENSG00000157227  ENSG00000096696  \\\n",
       "id                                                                   \n",
       "ENSG00000183087              0.0              0.0              0.0   \n",
       "ENSG00000157227              0.0              0.0              0.0   \n",
       "ENSG00000096696              0.0              0.0              0.0   \n",
       "ENSG00000175130              0.0              0.0              0.0   \n",
       "ENSG00000113140              0.0              0.0              0.0   \n",
       "\n",
       "id               ENSG00000175130  ENSG00000113140  ENSG00000117984  \\\n",
       "id                                                                   \n",
       "ENSG00000183087              0.0              0.0              0.0   \n",
       "ENSG00000157227              0.0              0.0              0.0   \n",
       "ENSG00000096696              0.0              0.0              0.0   \n",
       "ENSG00000175130              0.0              0.0              0.0   \n",
       "ENSG00000113140              0.0              0.0              0.0   \n",
       "\n",
       "id               ENSG00000116016  ENSG00000129116  ENSG00000134686  \\\n",
       "id                                                                   \n",
       "ENSG00000183087              0.0              0.0              0.0   \n",
       "ENSG00000157227              0.0              0.0              0.0   \n",
       "ENSG00000096696              0.0              0.0              0.0   \n",
       "ENSG00000175130              0.0              0.0              0.0   \n",
       "ENSG00000113140              0.0              0.0              0.0   \n",
       "\n",
       "id               ENSG00000108679  ...  ENSG00000111716  ENSG00000166796  \\\n",
       "id                                ...                                     \n",
       "ENSG00000183087              0.0  ...              0.0              0.0   \n",
       "ENSG00000157227              0.0  ...              0.0              0.0   \n",
       "ENSG00000096696              0.0  ...              0.0              0.0   \n",
       "ENSG00000175130              0.0  ...              0.0              0.0   \n",
       "ENSG00000113140              0.0  ...              0.0              0.0   \n",
       "\n",
       "id               ENSG00000114331  ENSG00000131584  ENSG00000165410  \\\n",
       "id                                                                   \n",
       "ENSG00000183087              0.0              0.0              0.0   \n",
       "ENSG00000157227              0.0              0.0              0.0   \n",
       "ENSG00000096696              0.0              0.0              0.0   \n",
       "ENSG00000175130              0.0              0.0              0.0   \n",
       "ENSG00000113140              0.0              0.0              0.0   \n",
       "\n",
       "id               ENSG00000172757  ENSG00000147862  ENSG00000008323  \\\n",
       "id                                                                   \n",
       "ENSG00000183087              0.0              0.0              0.0   \n",
       "ENSG00000157227              0.0              0.0              0.0   \n",
       "ENSG00000096696              0.0              0.0              0.0   \n",
       "ENSG00000175130              0.0              0.0              0.0   \n",
       "ENSG00000113140              0.0              0.0              0.0   \n",
       "\n",
       "id               ENSG00000167083  ENSG00000149257  \n",
       "id                                                 \n",
       "ENSG00000183087              0.0              0.0  \n",
       "ENSG00000157227              0.0              0.0  \n",
       "ENSG00000096696              0.0              0.0  \n",
       "ENSG00000175130              0.0              0.0  \n",
       "ENSG00000113140              0.0              0.0  \n",
       "\n",
       "[5 rows x 6452 columns]"
      ]
     },
     "execution_count": 32,
     "metadata": {},
     "output_type": "execute_result"
    }
   ],
   "source": [
    "gene_corrs_df.head()"
   ]
  },
  {
   "cell_type": "code",
   "execution_count": 33,
   "id": "studied-advantage",
   "metadata": {},
   "outputs": [],
   "source": [
    "for chr_num, chr_data in corrs_per_chr.items():\n",
    "    chr_data = chr_data.reindex(\n",
    "        index=gene_corrs_df.index, columns=gene_corrs_df.columns\n",
    "    )\n",
    "    gene_corrs_df = gene_corrs_df + chr_data.fillna(0.0)"
   ]
  },
  {
   "cell_type": "code",
   "execution_count": 34,
   "id": "other-sister",
   "metadata": {},
   "outputs": [],
   "source": [
    "gene_corrs_df = gene_corrs_df.astype(np.float32)"
   ]
  },
  {
   "cell_type": "code",
   "execution_count": 35,
   "id": "stuck-delicious",
   "metadata": {},
   "outputs": [
    {
     "data": {
      "text/html": [
       "<div>\n",
       "<style scoped>\n",
       "    .dataframe tbody tr th:only-of-type {\n",
       "        vertical-align: middle;\n",
       "    }\n",
       "\n",
       "    .dataframe tbody tr th {\n",
       "        vertical-align: top;\n",
       "    }\n",
       "\n",
       "    .dataframe thead th {\n",
       "        text-align: right;\n",
       "    }\n",
       "</style>\n",
       "<table border=\"1\" class=\"dataframe\">\n",
       "  <thead>\n",
       "    <tr style=\"text-align: right;\">\n",
       "      <th>id</th>\n",
       "      <th>ENSG00000183087</th>\n",
       "      <th>ENSG00000157227</th>\n",
       "      <th>ENSG00000096696</th>\n",
       "      <th>ENSG00000175130</th>\n",
       "      <th>ENSG00000113140</th>\n",
       "      <th>ENSG00000117984</th>\n",
       "      <th>ENSG00000116016</th>\n",
       "      <th>ENSG00000129116</th>\n",
       "      <th>ENSG00000134686</th>\n",
       "      <th>ENSG00000108679</th>\n",
       "      <th>...</th>\n",
       "      <th>ENSG00000111716</th>\n",
       "      <th>ENSG00000166796</th>\n",
       "      <th>ENSG00000114331</th>\n",
       "      <th>ENSG00000131584</th>\n",
       "      <th>ENSG00000165410</th>\n",
       "      <th>ENSG00000172757</th>\n",
       "      <th>ENSG00000147862</th>\n",
       "      <th>ENSG00000008323</th>\n",
       "      <th>ENSG00000167083</th>\n",
       "      <th>ENSG00000149257</th>\n",
       "    </tr>\n",
       "    <tr>\n",
       "      <th>id</th>\n",
       "      <th></th>\n",
       "      <th></th>\n",
       "      <th></th>\n",
       "      <th></th>\n",
       "      <th></th>\n",
       "      <th></th>\n",
       "      <th></th>\n",
       "      <th></th>\n",
       "      <th></th>\n",
       "      <th></th>\n",
       "      <th></th>\n",
       "      <th></th>\n",
       "      <th></th>\n",
       "      <th></th>\n",
       "      <th></th>\n",
       "      <th></th>\n",
       "      <th></th>\n",
       "      <th></th>\n",
       "      <th></th>\n",
       "      <th></th>\n",
       "      <th></th>\n",
       "    </tr>\n",
       "  </thead>\n",
       "  <tbody>\n",
       "    <tr>\n",
       "      <th>ENSG00000183087</th>\n",
       "      <td>1.0</td>\n",
       "      <td>0.0</td>\n",
       "      <td>0.0</td>\n",
       "      <td>0.0</td>\n",
       "      <td>0.0</td>\n",
       "      <td>0.0</td>\n",
       "      <td>0.0</td>\n",
       "      <td>0.0</td>\n",
       "      <td>0.000000</td>\n",
       "      <td>0.0</td>\n",
       "      <td>...</td>\n",
       "      <td>0.0</td>\n",
       "      <td>0.0</td>\n",
       "      <td>0.0</td>\n",
       "      <td>0.000000</td>\n",
       "      <td>0.000000</td>\n",
       "      <td>0.0</td>\n",
       "      <td>0.0</td>\n",
       "      <td>0.0</td>\n",
       "      <td>0.0</td>\n",
       "      <td>0.0</td>\n",
       "    </tr>\n",
       "    <tr>\n",
       "      <th>ENSG00000157227</th>\n",
       "      <td>0.0</td>\n",
       "      <td>1.0</td>\n",
       "      <td>0.0</td>\n",
       "      <td>0.0</td>\n",
       "      <td>0.0</td>\n",
       "      <td>0.0</td>\n",
       "      <td>0.0</td>\n",
       "      <td>0.0</td>\n",
       "      <td>0.000000</td>\n",
       "      <td>0.0</td>\n",
       "      <td>...</td>\n",
       "      <td>0.0</td>\n",
       "      <td>0.0</td>\n",
       "      <td>0.0</td>\n",
       "      <td>0.000000</td>\n",
       "      <td>-0.000683</td>\n",
       "      <td>0.0</td>\n",
       "      <td>0.0</td>\n",
       "      <td>0.0</td>\n",
       "      <td>0.0</td>\n",
       "      <td>0.0</td>\n",
       "    </tr>\n",
       "    <tr>\n",
       "      <th>ENSG00000096696</th>\n",
       "      <td>0.0</td>\n",
       "      <td>0.0</td>\n",
       "      <td>1.0</td>\n",
       "      <td>0.0</td>\n",
       "      <td>0.0</td>\n",
       "      <td>0.0</td>\n",
       "      <td>0.0</td>\n",
       "      <td>0.0</td>\n",
       "      <td>0.000000</td>\n",
       "      <td>0.0</td>\n",
       "      <td>...</td>\n",
       "      <td>0.0</td>\n",
       "      <td>0.0</td>\n",
       "      <td>0.0</td>\n",
       "      <td>0.000000</td>\n",
       "      <td>0.000000</td>\n",
       "      <td>0.0</td>\n",
       "      <td>0.0</td>\n",
       "      <td>0.0</td>\n",
       "      <td>0.0</td>\n",
       "      <td>0.0</td>\n",
       "    </tr>\n",
       "    <tr>\n",
       "      <th>ENSG00000175130</th>\n",
       "      <td>0.0</td>\n",
       "      <td>0.0</td>\n",
       "      <td>0.0</td>\n",
       "      <td>1.0</td>\n",
       "      <td>0.0</td>\n",
       "      <td>0.0</td>\n",
       "      <td>0.0</td>\n",
       "      <td>0.0</td>\n",
       "      <td>-0.001079</td>\n",
       "      <td>0.0</td>\n",
       "      <td>...</td>\n",
       "      <td>0.0</td>\n",
       "      <td>0.0</td>\n",
       "      <td>0.0</td>\n",
       "      <td>-0.000171</td>\n",
       "      <td>0.000000</td>\n",
       "      <td>0.0</td>\n",
       "      <td>0.0</td>\n",
       "      <td>0.0</td>\n",
       "      <td>0.0</td>\n",
       "      <td>0.0</td>\n",
       "    </tr>\n",
       "    <tr>\n",
       "      <th>ENSG00000113140</th>\n",
       "      <td>0.0</td>\n",
       "      <td>0.0</td>\n",
       "      <td>0.0</td>\n",
       "      <td>0.0</td>\n",
       "      <td>1.0</td>\n",
       "      <td>0.0</td>\n",
       "      <td>0.0</td>\n",
       "      <td>0.0</td>\n",
       "      <td>0.000000</td>\n",
       "      <td>0.0</td>\n",
       "      <td>...</td>\n",
       "      <td>0.0</td>\n",
       "      <td>0.0</td>\n",
       "      <td>0.0</td>\n",
       "      <td>0.000000</td>\n",
       "      <td>0.000000</td>\n",
       "      <td>0.0</td>\n",
       "      <td>0.0</td>\n",
       "      <td>0.0</td>\n",
       "      <td>0.0</td>\n",
       "      <td>0.0</td>\n",
       "    </tr>\n",
       "  </tbody>\n",
       "</table>\n",
       "<p>5 rows × 6452 columns</p>\n",
       "</div>"
      ],
      "text/plain": [
       "id               ENSG00000183087  ENSG00000157227  ENSG00000096696  \\\n",
       "id                                                                   \n",
       "ENSG00000183087              1.0              0.0              0.0   \n",
       "ENSG00000157227              0.0              1.0              0.0   \n",
       "ENSG00000096696              0.0              0.0              1.0   \n",
       "ENSG00000175130              0.0              0.0              0.0   \n",
       "ENSG00000113140              0.0              0.0              0.0   \n",
       "\n",
       "id               ENSG00000175130  ENSG00000113140  ENSG00000117984  \\\n",
       "id                                                                   \n",
       "ENSG00000183087              0.0              0.0              0.0   \n",
       "ENSG00000157227              0.0              0.0              0.0   \n",
       "ENSG00000096696              0.0              0.0              0.0   \n",
       "ENSG00000175130              1.0              0.0              0.0   \n",
       "ENSG00000113140              0.0              1.0              0.0   \n",
       "\n",
       "id               ENSG00000116016  ENSG00000129116  ENSG00000134686  \\\n",
       "id                                                                   \n",
       "ENSG00000183087              0.0              0.0         0.000000   \n",
       "ENSG00000157227              0.0              0.0         0.000000   \n",
       "ENSG00000096696              0.0              0.0         0.000000   \n",
       "ENSG00000175130              0.0              0.0        -0.001079   \n",
       "ENSG00000113140              0.0              0.0         0.000000   \n",
       "\n",
       "id               ENSG00000108679  ...  ENSG00000111716  ENSG00000166796  \\\n",
       "id                                ...                                     \n",
       "ENSG00000183087              0.0  ...              0.0              0.0   \n",
       "ENSG00000157227              0.0  ...              0.0              0.0   \n",
       "ENSG00000096696              0.0  ...              0.0              0.0   \n",
       "ENSG00000175130              0.0  ...              0.0              0.0   \n",
       "ENSG00000113140              0.0  ...              0.0              0.0   \n",
       "\n",
       "id               ENSG00000114331  ENSG00000131584  ENSG00000165410  \\\n",
       "id                                                                   \n",
       "ENSG00000183087              0.0         0.000000         0.000000   \n",
       "ENSG00000157227              0.0         0.000000        -0.000683   \n",
       "ENSG00000096696              0.0         0.000000         0.000000   \n",
       "ENSG00000175130              0.0        -0.000171         0.000000   \n",
       "ENSG00000113140              0.0         0.000000         0.000000   \n",
       "\n",
       "id               ENSG00000172757  ENSG00000147862  ENSG00000008323  \\\n",
       "id                                                                   \n",
       "ENSG00000183087              0.0              0.0              0.0   \n",
       "ENSG00000157227              0.0              0.0              0.0   \n",
       "ENSG00000096696              0.0              0.0              0.0   \n",
       "ENSG00000175130              0.0              0.0              0.0   \n",
       "ENSG00000113140              0.0              0.0              0.0   \n",
       "\n",
       "id               ENSG00000167083  ENSG00000149257  \n",
       "id                                                 \n",
       "ENSG00000183087              0.0              0.0  \n",
       "ENSG00000157227              0.0              0.0  \n",
       "ENSG00000096696              0.0              0.0  \n",
       "ENSG00000175130              0.0              0.0  \n",
       "ENSG00000113140              0.0              0.0  \n",
       "\n",
       "[5 rows x 6452 columns]"
      ]
     },
     "execution_count": 35,
     "metadata": {},
     "output_type": "execute_result"
    }
   ],
   "source": [
    "gene_corrs_df.head()"
   ]
  },
  {
   "cell_type": "code",
   "execution_count": 36,
   "id": "ready-slave",
   "metadata": {},
   "outputs": [],
   "source": [
    "assert np.all(gene_corrs_df.values.diagonal() == 1.0)"
   ]
  },
  {
   "cell_type": "markdown",
   "id": "organizational-acceptance",
   "metadata": {},
   "source": [
    "## Stats"
   ]
  },
  {
   "cell_type": "code",
   "execution_count": 37,
   "id": "honest-native",
   "metadata": {},
   "outputs": [],
   "source": [
    "_gene_corrs_flat = squareform(gene_corrs_df.values, checks=False)"
   ]
  },
  {
   "cell_type": "code",
   "execution_count": 38,
   "id": "resistant-plenty",
   "metadata": {},
   "outputs": [
    {
     "data": {
      "text/plain": [
       "count    2.081093e+07\n",
       "mean     1.812486e-06\n",
       "std      4.384554e-03\n",
       "min     -9.262078e-01\n",
       "25%      0.000000e+00\n",
       "50%      0.000000e+00\n",
       "75%      0.000000e+00\n",
       "max      8.929952e-01\n",
       "dtype: float64"
      ]
     },
     "execution_count": 38,
     "metadata": {},
     "output_type": "execute_result"
    }
   ],
   "source": [
    "pd.Series(_gene_corrs_flat).describe()"
   ]
  },
  {
   "cell_type": "markdown",
   "id": "ordered-standard",
   "metadata": {},
   "source": [
    "# Plot"
   ]
  },
  {
   "cell_type": "code",
   "execution_count": 39,
   "id": "relevant-stevens",
   "metadata": {},
   "outputs": [],
   "source": [
    "import matplotlib.pyplot as plt\n",
    "from matplotlib.colors import ListedColormap"
   ]
  },
  {
   "cell_type": "code",
   "execution_count": 40,
   "id": "domestic-booth",
   "metadata": {},
   "outputs": [],
   "source": [
    "genes_order = genes_info.sort_values(\"chr\")[\"id\"].tolist()"
   ]
  },
  {
   "cell_type": "code",
   "execution_count": 41,
   "id": "falling-actor",
   "metadata": {},
   "outputs": [],
   "source": [
    "cmap = ListedColormap([\"w\", \"r\"])"
   ]
  },
  {
   "cell_type": "code",
   "execution_count": 42,
   "id": "eligible-softball",
   "metadata": {},
   "outputs": [
    {
     "data": {
      "text/plain": [
       "[]"
      ]
     },
     "execution_count": 42,
     "metadata": {},
     "output_type": "execute_result"
    },
    {
     "data": {
      "image/png": "[encoded data removed]",
      "text/plain": [
       "<Figure size 720x720 with 1 Axes>"
      ]
     },
     "metadata": {},
     "output_type": "display_data"
    }
   ],
   "source": [
    "fig, ax = plt.subplots(figsize=(10, 10))\n",
    "ax.matshow(\n",
    "    gene_corrs_df.loc[genes_order, genes_order].values, vmin=-0.05, vmax=0.05, cmap=cmap\n",
    ")\n",
    "ax.set_xlabel(\"Genes\")\n",
    "ax.set_ylabel(\"Genes\")\n",
    "ax.set_xticks([])\n",
    "ax.set_yticks([])"
   ]
  },
  {
   "cell_type": "markdown",
   "id": "bright-clear",
   "metadata": {},
   "source": [
    "# Testing"
   ]
  },
  {
   "cell_type": "code",
   "execution_count": 43,
   "id": "broad-canada",
   "metadata": {},
   "outputs": [
    {
     "data": {
      "text/plain": [
       "0.20144808"
      ]
     },
     "execution_count": 43,
     "metadata": {},
     "output_type": "execute_result"
    }
   ],
   "source": [
    "# COL4A1 and COL4A2\n",
    "gene1 = \"ENSG00000187498\"\n",
    "gene2 = \"ENSG00000134871\"\n",
    "\n",
    "gene_corrs_df.loc[gene1, gene2]"
   ]
  },
  {
   "cell_type": "code",
   "execution_count": 44,
   "id": "advance-following",
   "metadata": {},
   "outputs": [],
   "source": [
    "_genes_files = all_gene_corr_files_df[all_gene_corr_files_df[\"chromosome\"] == 13][\n",
    "    \"corr_file\"\n",
    "].tolist()\n",
    "assert len(_genes_files) == 49"
   ]
  },
  {
   "cell_type": "code",
   "execution_count": 45,
   "id": "running-torture",
   "metadata": {},
   "outputs": [],
   "source": [
    "_gene_values = []\n",
    "for f in _genes_files:\n",
    "    gene1_gene2_corr = pd.read_pickle(f).loc[gene1, gene2]\n",
    "    _gene_values.append(gene1_gene2_corr)"
   ]
  },
  {
   "cell_type": "code",
   "execution_count": 46,
   "id": "heavy-establishment",
   "metadata": {},
   "outputs": [],
   "source": [
    "_gene_values = np.array(_gene_values)\n",
    "assert _gene_values.shape[0] == 49"
   ]
  },
  {
   "cell_type": "code",
   "execution_count": 47,
   "id": "enclosed-volleyball",
   "metadata": {},
   "outputs": [
    {
     "data": {
      "text/plain": [
       "0.20144808"
      ]
     },
     "metadata": {},
     "output_type": "display_data"
    }
   ],
   "source": [
    "display(_gene_values.mean())\n",
    "assert gene_corrs_df.loc[gene1, gene2] == _gene_values.mean()"
   ]
  },
  {
   "cell_type": "markdown",
   "id": "straight-absorption",
   "metadata": {},
   "source": [
    "# Save"
   ]
  },
  {
   "cell_type": "markdown",
   "id": "advance-gossip",
   "metadata": {},
   "source": [
    "## With ensemble ids"
   ]
  },
  {
   "cell_type": "code",
   "execution_count": 48,
   "id": "surrounded-gathering",
   "metadata": {},
   "outputs": [
    {
     "data": {
      "text/plain": [
       "PosixPath('/home/miltondp/projects/labs/greenelab/phenoplier/base/data/phenomexcan/ld_blocks/multiplier_genes-pred_expression_corr_avg.pkl')"
      ]
     },
     "metadata": {},
     "output_type": "display_data"
    }
   ],
   "source": [
    "output_file = (\n",
    "    conf.PHENOMEXCAN[\"LD_BLOCKS\"][\"BASE_DIR\"]\n",
    "    / \"multiplier_genes-pred_expression_corr_avg.pkl\"\n",
    ")\n",
    "display(output_file)"
   ]
  },
  {
   "cell_type": "code",
   "execution_count": 49,
   "id": "chubby-lecture",
   "metadata": {},
   "outputs": [],
   "source": [
    "gene_corrs_df.to_pickle(output_file)"
   ]
  },
  {
   "cell_type": "markdown",
   "id": "informative-version",
   "metadata": {},
   "source": [
    "## With gene symbols"
   ]
  },
  {
   "cell_type": "code",
   "execution_count": 50,
   "id": "realistic-winter",
   "metadata": {},
   "outputs": [
    {
     "data": {
      "text/plain": [
       "PosixPath('/home/miltondp/projects/labs/greenelab/phenoplier/base/data/phenomexcan/ld_blocks/multiplier_genes-pred_expression_corr_avg-gene_names.pkl')"
      ]
     },
     "metadata": {},
     "output_type": "display_data"
    }
   ],
   "source": [
    "output_file = (\n",
    "    conf.PHENOMEXCAN[\"LD_BLOCKS\"][\"BASE_DIR\"]\n",
    "    / \"multiplier_genes-pred_expression_corr_avg-gene_names.pkl\"\n",
    ")\n",
    "display(output_file)"
   ]
  },
  {
   "cell_type": "code",
   "execution_count": 51,
   "id": "palestinian-siemens",
   "metadata": {},
   "outputs": [],
   "source": [
    "gene_corrs_gene_names_df = gene_corrs_df.rename(\n",
    "    index=Gene.GENE_ID_TO_NAME_MAP, columns=Gene.GENE_ID_TO_NAME_MAP\n",
    ")"
   ]
  },
  {
   "cell_type": "code",
   "execution_count": 52,
   "id": "promotional-knight",
   "metadata": {},
   "outputs": [],
   "source": [
    "assert gene_corrs_gene_names_df.index.is_unique"
   ]
  },
  {
   "cell_type": "code",
   "execution_count": 53,
   "id": "distributed-reunion",
   "metadata": {},
   "outputs": [],
   "source": [
    "assert gene_corrs_gene_names_df.columns.is_unique"
   ]
  },
  {
   "cell_type": "code",
   "execution_count": 54,
   "id": "stylish-guest",
   "metadata": {},
   "outputs": [
    {
     "data": {
      "text/plain": [
       "(6452, 6452)"
      ]
     },
     "execution_count": 54,
     "metadata": {},
     "output_type": "execute_result"
    }
   ],
   "source": [
    "gene_corrs_gene_names_df.shape"
   ]
  },
  {
   "cell_type": "code",
   "execution_count": 55,
   "id": "graduate-sheep",
   "metadata": {},
   "outputs": [
    {
     "data": {
      "text/html": [
       "<div>\n",
       "<style scoped>\n",
       "    .dataframe tbody tr th:only-of-type {\n",
       "        vertical-align: middle;\n",
       "    }\n",
       "\n",
       "    .dataframe tbody tr th {\n",
       "        vertical-align: top;\n",
       "    }\n",
       "\n",
       "    .dataframe thead th {\n",
       "        text-align: right;\n",
       "    }\n",
       "</style>\n",
       "<table border=\"1\" class=\"dataframe\">\n",
       "  <thead>\n",
       "    <tr style=\"text-align: right;\">\n",
       "      <th>id</th>\n",
       "      <th>GAS6</th>\n",
       "      <th>MMP14</th>\n",
       "      <th>DSP</th>\n",
       "      <th>MARCKSL1</th>\n",
       "      <th>SPARC</th>\n",
       "      <th>CTSD</th>\n",
       "      <th>EPAS1</th>\n",
       "      <th>PALLD</th>\n",
       "      <th>PHC2</th>\n",
       "      <th>LGALS3BP</th>\n",
       "      <th>...</th>\n",
       "      <th>LDHB</th>\n",
       "      <th>LDHC</th>\n",
       "      <th>ACAP2</th>\n",
       "      <th>ACAP3</th>\n",
       "      <th>CFL2</th>\n",
       "      <th>CFL1</th>\n",
       "      <th>NFIB</th>\n",
       "      <th>PLEKHG6</th>\n",
       "      <th>GNGT2</th>\n",
       "      <th>SERPINH1</th>\n",
       "    </tr>\n",
       "    <tr>\n",
       "      <th>id</th>\n",
       "      <th></th>\n",
       "      <th></th>\n",
       "      <th></th>\n",
       "      <th></th>\n",
       "      <th></th>\n",
       "      <th></th>\n",
       "      <th></th>\n",
       "      <th></th>\n",
       "      <th></th>\n",
       "      <th></th>\n",
       "      <th></th>\n",
       "      <th></th>\n",
       "      <th></th>\n",
       "      <th></th>\n",
       "      <th></th>\n",
       "      <th></th>\n",
       "      <th></th>\n",
       "      <th></th>\n",
       "      <th></th>\n",
       "      <th></th>\n",
       "      <th></th>\n",
       "    </tr>\n",
       "  </thead>\n",
       "  <tbody>\n",
       "    <tr>\n",
       "      <th>GAS6</th>\n",
       "      <td>1.0</td>\n",
       "      <td>0.0</td>\n",
       "      <td>0.0</td>\n",
       "      <td>0.0</td>\n",
       "      <td>0.0</td>\n",
       "      <td>0.0</td>\n",
       "      <td>0.0</td>\n",
       "      <td>0.0</td>\n",
       "      <td>0.000000</td>\n",
       "      <td>0.0</td>\n",
       "      <td>...</td>\n",
       "      <td>0.0</td>\n",
       "      <td>0.0</td>\n",
       "      <td>0.0</td>\n",
       "      <td>0.000000</td>\n",
       "      <td>0.000000</td>\n",
       "      <td>0.0</td>\n",
       "      <td>0.0</td>\n",
       "      <td>0.0</td>\n",
       "      <td>0.0</td>\n",
       "      <td>0.0</td>\n",
       "    </tr>\n",
       "    <tr>\n",
       "      <th>MMP14</th>\n",
       "      <td>0.0</td>\n",
       "      <td>1.0</td>\n",
       "      <td>0.0</td>\n",
       "      <td>0.0</td>\n",
       "      <td>0.0</td>\n",
       "      <td>0.0</td>\n",
       "      <td>0.0</td>\n",
       "      <td>0.0</td>\n",
       "      <td>0.000000</td>\n",
       "      <td>0.0</td>\n",
       "      <td>...</td>\n",
       "      <td>0.0</td>\n",
       "      <td>0.0</td>\n",
       "      <td>0.0</td>\n",
       "      <td>0.000000</td>\n",
       "      <td>-0.000683</td>\n",
       "      <td>0.0</td>\n",
       "      <td>0.0</td>\n",
       "      <td>0.0</td>\n",
       "      <td>0.0</td>\n",
       "      <td>0.0</td>\n",
       "    </tr>\n",
       "    <tr>\n",
       "      <th>DSP</th>\n",
       "      <td>0.0</td>\n",
       "      <td>0.0</td>\n",
       "      <td>1.0</td>\n",
       "      <td>0.0</td>\n",
       "      <td>0.0</td>\n",
       "      <td>0.0</td>\n",
       "      <td>0.0</td>\n",
       "      <td>0.0</td>\n",
       "      <td>0.000000</td>\n",
       "      <td>0.0</td>\n",
       "      <td>...</td>\n",
       "      <td>0.0</td>\n",
       "      <td>0.0</td>\n",
       "      <td>0.0</td>\n",
       "      <td>0.000000</td>\n",
       "      <td>0.000000</td>\n",
       "      <td>0.0</td>\n",
       "      <td>0.0</td>\n",
       "      <td>0.0</td>\n",
       "      <td>0.0</td>\n",
       "      <td>0.0</td>\n",
       "    </tr>\n",
       "    <tr>\n",
       "      <th>MARCKSL1</th>\n",
       "      <td>0.0</td>\n",
       "      <td>0.0</td>\n",
       "      <td>0.0</td>\n",
       "      <td>1.0</td>\n",
       "      <td>0.0</td>\n",
       "      <td>0.0</td>\n",
       "      <td>0.0</td>\n",
       "      <td>0.0</td>\n",
       "      <td>-0.001079</td>\n",
       "      <td>0.0</td>\n",
       "      <td>...</td>\n",
       "      <td>0.0</td>\n",
       "      <td>0.0</td>\n",
       "      <td>0.0</td>\n",
       "      <td>-0.000171</td>\n",
       "      <td>0.000000</td>\n",
       "      <td>0.0</td>\n",
       "      <td>0.0</td>\n",
       "      <td>0.0</td>\n",
       "      <td>0.0</td>\n",
       "      <td>0.0</td>\n",
       "    </tr>\n",
       "    <tr>\n",
       "      <th>SPARC</th>\n",
       "      <td>0.0</td>\n",
       "      <td>0.0</td>\n",
       "      <td>0.0</td>\n",
       "      <td>0.0</td>\n",
       "      <td>1.0</td>\n",
       "      <td>0.0</td>\n",
       "      <td>0.0</td>\n",
       "      <td>0.0</td>\n",
       "      <td>0.000000</td>\n",
       "      <td>0.0</td>\n",
       "      <td>...</td>\n",
       "      <td>0.0</td>\n",
       "      <td>0.0</td>\n",
       "      <td>0.0</td>\n",
       "      <td>0.000000</td>\n",
       "      <td>0.000000</td>\n",
       "      <td>0.0</td>\n",
       "      <td>0.0</td>\n",
       "      <td>0.0</td>\n",
       "      <td>0.0</td>\n",
       "      <td>0.0</td>\n",
       "    </tr>\n",
       "  </tbody>\n",
       "</table>\n",
       "<p>5 rows × 6452 columns</p>\n",
       "</div>"
      ],
      "text/plain": [
       "id        GAS6  MMP14  DSP  MARCKSL1  SPARC  CTSD  EPAS1  PALLD      PHC2  \\\n",
       "id                                                                          \n",
       "GAS6       1.0    0.0  0.0       0.0    0.0   0.0    0.0    0.0  0.000000   \n",
       "MMP14      0.0    1.0  0.0       0.0    0.0   0.0    0.0    0.0  0.000000   \n",
       "DSP        0.0    0.0  1.0       0.0    0.0   0.0    0.0    0.0  0.000000   \n",
       "MARCKSL1   0.0    0.0  0.0       1.0    0.0   0.0    0.0    0.0 -0.001079   \n",
       "SPARC      0.0    0.0  0.0       0.0    1.0   0.0    0.0    0.0  0.000000   \n",
       "\n",
       "id        LGALS3BP  ...  LDHB  LDHC  ACAP2     ACAP3      CFL2  CFL1  NFIB  \\\n",
       "id                  ...                                                      \n",
       "GAS6           0.0  ...   0.0   0.0    0.0  0.000000  0.000000   0.0   0.0   \n",
       "MMP14          0.0  ...   0.0   0.0    0.0  0.000000 -0.000683   0.0   0.0   \n",
       "DSP            0.0  ...   0.0   0.0    0.0  0.000000  0.000000   0.0   0.0   \n",
       "MARCKSL1       0.0  ...   0.0   0.0    0.0 -0.000171  0.000000   0.0   0.0   \n",
       "SPARC          0.0  ...   0.0   0.0    0.0  0.000000  0.000000   0.0   0.0   \n",
       "\n",
       "id        PLEKHG6  GNGT2  SERPINH1  \n",
       "id                                  \n",
       "GAS6          0.0    0.0       0.0  \n",
       "MMP14         0.0    0.0       0.0  \n",
       "DSP           0.0    0.0       0.0  \n",
       "MARCKSL1      0.0    0.0       0.0  \n",
       "SPARC         0.0    0.0       0.0  \n",
       "\n",
       "[5 rows x 6452 columns]"
      ]
     },
     "execution_count": 55,
     "metadata": {},
     "output_type": "execute_result"
    }
   ],
   "source": [
    "gene_corrs_gene_names_df.head()"
   ]
  },
  {
   "cell_type": "code",
   "execution_count": 56,
   "id": "atomic-mounting",
   "metadata": {},
   "outputs": [],
   "source": [
    "gene_corrs_gene_names_df.to_pickle(output_file)"
   ]
  },
  {
   "cell_type": "code",
   "execution_count": null,
   "id": "departmental-stopping",
   "metadata": {},
   "outputs": [],
   "source": []
  }
 ],
 "metadata": {
  "jupytext": {
   "cell_metadata_filter": "all,-execution,-papermill,-trusted",
   "formats": "ipynb,py//py:percent"
  },
  "kernelspec": {
   "display_name": "Python 3",
   "language": "python",
   "name": "python3"
  },
  "language_info": {
   "codemirror_mode": {
    "name": "ipython",
    "version": 3
   },
   "file_extension": ".py",
   "mimetype": "text/x-python",
   "name": "python",
   "nbconvert_exporter": "python",
   "pygments_lexer": "ipython3",
   "version": "3.8.8"
  },
  "papermill": {
   "default_parameters": {},
   "duration": 722.130107,
   "end_time": "2021-04-28T22:39:17.602577",
   "environment_variables": {},
   "exception": null,
   "input_path": "08_gsa_gls/10-gene_expr_correlations.ipynb",
   "output_path": "08_gsa_gls/10-gene_expr_correlations.run.ipynb",
   "parameters": {},
   "start_time": "2021-04-28T22:27:15.472470",
   "version": "2.2.2"
  }
 },
 "nbformat": 4,
 "nbformat_minor": 5
}
