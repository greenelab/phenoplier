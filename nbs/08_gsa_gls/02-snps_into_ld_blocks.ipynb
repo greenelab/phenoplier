{
 "cells": [
  {
   "cell_type": "markdown",
   "id": "lovely-reward",
   "metadata": {
    "papermill": {
     "duration": 0.02604,
     "end_time": "2021-04-27T18:11:18.339186",
     "exception": false,
     "start_time": "2021-04-27T18:11:18.313146",
     "status": "completed"
    },
    "tags": []
   },
   "source": [
    "# Description"
   ]
  },
  {
   "cell_type": "markdown",
   "id": "determined-praise",
   "metadata": {
    "papermill": {
     "duration": 0.019973,
     "end_time": "2021-04-27T18:11:18.380141",
     "exception": false,
     "start_time": "2021-04-27T18:11:18.360168",
     "status": "completed"
    },
    "tags": []
   },
   "source": [
    "This notebook separates all SNPs in prediction models into LD blocks (LINK TO PAPER)."
   ]
  },
  {
   "cell_type": "markdown",
   "id": "diagnostic-congo",
   "metadata": {
    "papermill": {
     "duration": 0.020558,
     "end_time": "2021-04-27T18:11:18.421144",
     "exception": false,
     "start_time": "2021-04-27T18:11:18.400586",
     "status": "completed"
    },
    "tags": []
   },
   "source": [
    "# Modules"
   ]
  },
  {
   "cell_type": "code",
   "execution_count": 1,
   "id": "dedicated-desire",
   "metadata": {
    "execution": {
     "iopub.execute_input": "2021-04-27T18:11:18.467805Z",
     "iopub.status.busy": "2021-04-27T18:11:18.467405Z",
     "iopub.status.idle": "2021-04-27T18:11:18.475103Z",
     "shell.execute_reply": "2021-04-27T18:11:18.474675Z"
    },
    "papermill": {
     "duration": 0.033572,
     "end_time": "2021-04-27T18:11:18.475196",
     "exception": false,
     "start_time": "2021-04-27T18:11:18.441624",
     "status": "completed"
    },
    "tags": []
   },
   "outputs": [],
   "source": [
    "%load_ext autoreload\n",
    "%autoreload 2"
   ]
  },
  {
   "cell_type": "code",
   "execution_count": 2,
   "id": "serial-metadata",
   "metadata": {
    "execution": {
     "iopub.execute_input": "2021-04-27T18:11:18.520584Z",
     "iopub.status.busy": "2021-04-27T18:11:18.520218Z",
     "iopub.status.idle": "2021-04-27T18:11:18.911186Z",
     "shell.execute_reply": "2021-04-27T18:11:18.910789Z"
    },
    "papermill": {
     "duration": 0.414759,
     "end_time": "2021-04-27T18:11:18.911275",
     "exception": false,
     "start_time": "2021-04-27T18:11:18.496516",
     "status": "completed"
    },
    "tags": []
   },
   "outputs": [],
   "source": [
    "import numpy as np\n",
    "import pandas as pd\n",
    "import sqlite3\n",
    "\n",
    "import rpy2.robjects as ro\n",
    "from rpy2.robjects import pandas2ri\n",
    "from rpy2.robjects.conversion import localconverter\n",
    "\n",
    "import conf"
   ]
  },
  {
   "cell_type": "code",
   "execution_count": 3,
   "id": "rational-innocent",
   "metadata": {
    "execution": {
     "iopub.execute_input": "2021-04-27T18:11:18.956889Z",
     "iopub.status.busy": "2021-04-27T18:11:18.956462Z",
     "iopub.status.idle": "2021-04-27T18:11:18.965245Z",
     "shell.execute_reply": "2021-04-27T18:11:18.965526Z"
    },
    "papermill": {
     "duration": 0.032677,
     "end_time": "2021-04-27T18:11:18.965631",
     "exception": false,
     "start_time": "2021-04-27T18:11:18.932954",
     "status": "completed"
    },
    "tags": []
   },
   "outputs": [],
   "source": [
    "load_rda = ro.r[\"load\"]"
   ]
  },
  {
   "cell_type": "markdown",
   "id": "alone-motel",
   "metadata": {
    "papermill": {
     "duration": 0.020846,
     "end_time": "2021-04-27T18:11:19.008081",
     "exception": false,
     "start_time": "2021-04-27T18:11:18.987235",
     "status": "completed"
    },
    "tags": []
   },
   "source": [
    "# Load data"
   ]
  },
  {
   "cell_type": "markdown",
   "id": "stable-travel",
   "metadata": {
    "papermill": {
     "duration": 0.020163,
     "end_time": "2021-04-27T18:11:19.049059",
     "exception": false,
     "start_time": "2021-04-27T18:11:19.028896",
     "status": "completed"
    },
    "tags": []
   },
   "source": [
    "## LD blocks"
   ]
  },
  {
   "cell_type": "code",
   "execution_count": 4,
   "id": "afraid-metadata",
   "metadata": {
    "execution": {
     "iopub.execute_input": "2021-04-27T18:11:19.092734Z",
     "iopub.status.busy": "2021-04-27T18:11:19.092345Z",
     "iopub.status.idle": "2021-04-27T18:11:19.104953Z",
     "shell.execute_reply": "2021-04-27T18:11:19.104520Z"
    },
    "papermill": {
     "duration": 0.035547,
     "end_time": "2021-04-27T18:11:19.105039",
     "exception": false,
     "start_time": "2021-04-27T18:11:19.069492",
     "status": "completed"
    },
    "tags": []
   },
   "outputs": [
    {
     "data": {
      "text/plain": [
       "'/home/miltondp/projects/labs/greenelab/phenoplier/base/data/phenomexcan/ld_blocks/ld_block_pickrell_eur_b38.rda'"
      ]
     },
     "metadata": {},
     "output_type": "display_data"
    }
   ],
   "source": [
    "input_file = str(conf.PHENOMEXCAN[\"LD_BLOCKS\"][\"LD_BLOCKS_FILE\"])\n",
    "display(input_file)"
   ]
  },
  {
   "cell_type": "code",
   "execution_count": 5,
   "id": "unique-thriller",
   "metadata": {
    "execution": {
     "iopub.execute_input": "2021-04-27T18:11:19.150268Z",
     "iopub.status.busy": "2021-04-27T18:11:19.149917Z",
     "iopub.status.idle": "2021-04-27T18:11:19.160579Z",
     "shell.execute_reply": "2021-04-27T18:11:19.160213Z"
    },
    "papermill": {
     "duration": 0.033744,
     "end_time": "2021-04-27T18:11:19.160661",
     "exception": false,
     "start_time": "2021-04-27T18:11:19.126917",
     "status": "completed"
    },
    "tags": []
   },
   "outputs": [
    {
     "data": {
      "text/html": [
       "\n",
       "        <span>StrVector with 1 elements.</span>\n",
       "        <table>\n",
       "        <tbody>\n",
       "          <tr>\n",
       "          \n",
       "            <td>\n",
       "            'ld_block_pickrell_eur_b38'\n",
       "            </td>\n",
       "          \n",
       "          </tr>\n",
       "        </tbody>\n",
       "        </table>\n",
       "        "
      ],
      "text/plain": [
       "R object with classes: ('character',) mapped to:\n",
       "['ld_block_pickrell_eur_b38']"
      ]
     },
     "execution_count": 5,
     "metadata": {},
     "output_type": "execute_result"
    }
   ],
   "source": [
    "load_rda(input_file)"
   ]
  },
  {
   "cell_type": "code",
   "execution_count": 6,
   "id": "billion-slide",
   "metadata": {
    "execution": {
     "iopub.execute_input": "2021-04-27T18:11:19.206650Z",
     "iopub.status.busy": "2021-04-27T18:11:19.206293Z",
     "iopub.status.idle": "2021-04-27T18:11:19.215234Z",
     "shell.execute_reply": "2021-04-27T18:11:19.214864Z"
    },
    "papermill": {
     "duration": 0.032845,
     "end_time": "2021-04-27T18:11:19.215318",
     "exception": false,
     "start_time": "2021-04-27T18:11:19.182473",
     "status": "completed"
    },
    "tags": []
   },
   "outputs": [
    {
     "data": {
      "text/html": [
       "\n",
       "        <span>ListVector with 2 elements.</span>\n",
       "        <table>\n",
       "        <tbody>\n",
       "        \n",
       "          <tr>\n",
       "            <th>\n",
       "            ld_block\n",
       "            </th>\n",
       "            <td>\n",
       "            <rpy2.rinterface.ListSexpVector object at 0x7fc858454900> [RTYPES.VECSXP]\n",
       "            </td>\n",
       "          </tr>\n",
       "        \n",
       "          <tr>\n",
       "            <th>\n",
       "            meta_information\n",
       "            </th>\n",
       "            <td>\n",
       "            <rpy2.rinterface.ListSexpVector object at 0x7fc8584546c0> [RTYPES.VECSXP]\n",
       "            </td>\n",
       "          </tr>\n",
       "        \n",
       "        </tbody>\n",
       "        </table>\n",
       "        "
      ],
      "text/plain": [
       "R object with classes: ('list',) mapped to:\n",
       "[ListSexpVector, ListSexpVector]\n",
       "  ld_block: <class 'rpy2.rinterface.ListSexpVector'>\n",
       "  <rpy2.rinterface.ListSexpVector object at 0x7fc858454740> [RTYPES.VECSXP]\n",
       "  meta_information: <class 'rpy2.rinterface.ListSexpVector'>\n",
       "  <rpy2.rinterface.ListSexpVector object at 0x7fc858454880> [RTYPES.VECSXP]"
      ]
     },
     "execution_count": 6,
     "metadata": {},
     "output_type": "execute_result"
    }
   ],
   "source": [
    "ro.r[\"ld_block_pickrell_eur_b38\"]"
   ]
  },
  {
   "cell_type": "markdown",
   "id": "fatty-myrtle",
   "metadata": {
    "papermill": {
     "duration": 0.021115,
     "end_time": "2021-04-27T18:11:19.258414",
     "exception": false,
     "start_time": "2021-04-27T18:11:19.237299",
     "status": "completed"
    },
    "tags": []
   },
   "source": [
    "### Show metadata"
   ]
  },
  {
   "cell_type": "code",
   "execution_count": 7,
   "id": "surrounded-transition",
   "metadata": {
    "execution": {
     "iopub.execute_input": "2021-04-27T18:11:19.303809Z",
     "iopub.status.busy": "2021-04-27T18:11:19.303451Z",
     "iopub.status.idle": "2021-04-27T18:11:19.312331Z",
     "shell.execute_reply": "2021-04-27T18:11:19.312016Z"
    },
    "papermill": {
     "duration": 0.032569,
     "end_time": "2021-04-27T18:11:19.312416",
     "exception": false,
     "start_time": "2021-04-27T18:11:19.279847",
     "status": "completed"
    },
    "tags": []
   },
   "outputs": [
    {
     "data": {
      "text/html": [
       "\n",
       "        <span>ListVector with 2 elements.</span>\n",
       "        <table>\n",
       "        <tbody>\n",
       "        \n",
       "          <tr>\n",
       "            <th>\n",
       "            genome_assembly_version\n",
       "            </th>\n",
       "            <td>\n",
       "            <rpy2.rinterface_lib.sexp.StrSexpVector object at 0x7fc8583db5c0> [RTYPES.STRSXP]\n",
       "            </td>\n",
       "          </tr>\n",
       "        \n",
       "          <tr>\n",
       "            <th>\n",
       "            notes\n",
       "            </th>\n",
       "            <td>\n",
       "            <rpy2.rinterface_lib.sexp.StrSexpVector object at 0x7fc8583db4c0> [RTYPES.STRSXP]\n",
       "            </td>\n",
       "          </tr>\n",
       "        \n",
       "        </tbody>\n",
       "        </table>\n",
       "        "
      ],
      "text/plain": [
       "R object with classes: ('list',) mapped to:\n",
       "[StrSexpVector, StrSexpVector]\n",
       "  genome_assembly_version: <class 'rpy2.rinterface_lib.sexp.StrSexpVector'>\n",
       "  <rpy2.rinterface_lib.sexp.StrSexpVector object at 0x7fc8583db1c0> [RTYPES.STRSXP]\n",
       "  notes: <class 'rpy2.rinterface_lib.sexp.StrSexpVector'>\n",
       "  <rpy2.rinterface_lib.sexp.StrSexpVector object at 0x7fc8583db300> [RTYPES.STRSXP]"
      ]
     },
     "execution_count": 7,
     "metadata": {},
     "output_type": "execute_result"
    }
   ],
   "source": [
    "ro.r[\"ld_block_pickrell_eur_b38\"][1]"
   ]
  },
  {
   "cell_type": "code",
   "execution_count": 8,
   "id": "corresponding-driving",
   "metadata": {
    "execution": {
     "iopub.execute_input": "2021-04-27T18:11:19.358441Z",
     "iopub.status.busy": "2021-04-27T18:11:19.358072Z",
     "iopub.status.idle": "2021-04-27T18:11:19.366817Z",
     "shell.execute_reply": "2021-04-27T18:11:19.366394Z"
    },
    "papermill": {
     "duration": 0.0327,
     "end_time": "2021-04-27T18:11:19.366900",
     "exception": false,
     "start_time": "2021-04-27T18:11:19.334200",
     "status": "completed"
    },
    "tags": []
   },
   "outputs": [
    {
     "data": {
      "text/plain": [
       "array(['hg38'], dtype='<U4')"
      ]
     },
     "execution_count": 8,
     "metadata": {},
     "output_type": "execute_result"
    }
   ],
   "source": [
    "np.array(ro.r[\"ld_block_pickrell_eur_b38\"][1][0])"
   ]
  },
  {
   "cell_type": "code",
   "execution_count": 9,
   "id": "revised-caution",
   "metadata": {
    "execution": {
     "iopub.execute_input": "2021-04-27T18:11:19.413445Z",
     "iopub.status.busy": "2021-04-27T18:11:19.413080Z",
     "iopub.status.idle": "2021-04-27T18:11:19.421473Z",
     "shell.execute_reply": "2021-04-27T18:11:19.421750Z"
    },
    "papermill": {
     "duration": 0.03281,
     "end_time": "2021-04-27T18:11:19.421855",
     "exception": false,
     "start_time": "2021-04-27T18:11:19.389045",
     "status": "completed"
    },
    "tags": []
   },
   "outputs": [
    {
     "data": {
      "text/plain": [
       "array(['LD block annotation (for European population) obtained from Berisa et al (https://academic.oup.com/bioinformatics/article/32/2/283/1743626). Formatted by Alvaro Barbeira'],\n",
       "      dtype='<U169')"
      ]
     },
     "execution_count": 9,
     "metadata": {},
     "output_type": "execute_result"
    }
   ],
   "source": [
    "np.array(ro.r[\"ld_block_pickrell_eur_b38\"][1][1])"
   ]
  },
  {
   "cell_type": "markdown",
   "id": "dynamic-white",
   "metadata": {
    "papermill": {
     "duration": 0.022456,
     "end_time": "2021-04-27T18:11:19.467099",
     "exception": false,
     "start_time": "2021-04-27T18:11:19.444643",
     "status": "completed"
    },
    "tags": []
   },
   "source": [
    "### Load LD blocks"
   ]
  },
  {
   "cell_type": "code",
   "execution_count": 10,
   "id": "close-assistant",
   "metadata": {
    "execution": {
     "iopub.execute_input": "2021-04-27T18:11:19.514417Z",
     "iopub.status.busy": "2021-04-27T18:11:19.514048Z",
     "iopub.status.idle": "2021-04-27T18:11:19.521856Z",
     "shell.execute_reply": "2021-04-27T18:11:19.521477Z"
    },
    "papermill": {
     "duration": 0.03255,
     "end_time": "2021-04-27T18:11:19.521942",
     "exception": false,
     "start_time": "2021-04-27T18:11:19.489392",
     "status": "completed"
    },
    "tags": []
   },
   "outputs": [],
   "source": [
    "ld_block_r = ro.r[\"ld_block_pickrell_eur_b38\"][0]"
   ]
  },
  {
   "cell_type": "code",
   "execution_count": 11,
   "id": "raising-alexandria",
   "metadata": {
    "execution": {
     "iopub.execute_input": "2021-04-27T18:11:19.572378Z",
     "iopub.status.busy": "2021-04-27T18:11:19.572020Z",
     "iopub.status.idle": "2021-04-27T18:11:19.581266Z",
     "shell.execute_reply": "2021-04-27T18:11:19.580885Z"
    },
    "papermill": {
     "duration": 0.034882,
     "end_time": "2021-04-27T18:11:19.581351",
     "exception": false,
     "start_time": "2021-04-27T18:11:19.546469",
     "status": "completed"
    },
    "tags": []
   },
   "outputs": [
    {
     "data": {
      "text/html": [
       "\n",
       "        <span>StrVector with 1702 elements.</span>\n",
       "        <table>\n",
       "        <tbody>\n",
       "          <tr>\n",
       "          \n",
       "            <td>\n",
       "            '1'\n",
       "            </td>\n",
       "          \n",
       "            <td>\n",
       "            '2'\n",
       "            </td>\n",
       "          \n",
       "            <td>\n",
       "            '3'\n",
       "            </td>\n",
       "          \n",
       "            <td>\n",
       "            ...\n",
       "            </td>\n",
       "          \n",
       "            <td>\n",
       "            '1700'\n",
       "            </td>\n",
       "          \n",
       "            <td>\n",
       "            '1701'\n",
       "            </td>\n",
       "          \n",
       "            <td>\n",
       "            '1702'\n",
       "            </td>\n",
       "          \n",
       "          </tr>\n",
       "        </tbody>\n",
       "        </table>\n",
       "        "
      ],
      "text/plain": [
       "R object with classes: ('character',) mapped to:\n",
       "['1', '2', '3', '4', ..., '1699', '1700', '1701', '1702']"
      ]
     },
     "execution_count": 11,
     "metadata": {},
     "output_type": "execute_result"
    }
   ],
   "source": [
    "ld_block_r.rownames"
   ]
  },
  {
   "cell_type": "code",
   "execution_count": 12,
   "id": "bulgarian-forge",
   "metadata": {
    "execution": {
     "iopub.execute_input": "2021-04-27T18:11:19.629265Z",
     "iopub.status.busy": "2021-04-27T18:11:19.628912Z",
     "iopub.status.idle": "2021-04-27T18:11:19.637592Z",
     "shell.execute_reply": "2021-04-27T18:11:19.637263Z"
    },
    "papermill": {
     "duration": 0.033412,
     "end_time": "2021-04-27T18:11:19.637673",
     "exception": false,
     "start_time": "2021-04-27T18:11:19.604261",
     "status": "completed"
    },
    "tags": []
   },
   "outputs": [
    {
     "data": {
      "text/html": [
       "\n",
       "        <span>StrVector with 4 elements.</span>\n",
       "        <table>\n",
       "        <tbody>\n",
       "          <tr>\n",
       "          \n",
       "            <td>\n",
       "            'region_na...\n",
       "            </td>\n",
       "          \n",
       "            <td>\n",
       "            'chromosome'\n",
       "            </td>\n",
       "          \n",
       "            <td>\n",
       "            'start'\n",
       "            </td>\n",
       "          \n",
       "            <td>\n",
       "            'end'\n",
       "            </td>\n",
       "          \n",
       "          </tr>\n",
       "        </tbody>\n",
       "        </table>\n",
       "        "
      ],
      "text/plain": [
       "R object with classes: ('character',) mapped to:\n",
       "['region_na..., 'chromosome', 'start', 'end']"
      ]
     },
     "execution_count": 12,
     "metadata": {},
     "output_type": "execute_result"
    }
   ],
   "source": [
    "ld_block_r.colnames"
   ]
  },
  {
   "cell_type": "code",
   "execution_count": 13,
   "id": "enhanced-canadian",
   "metadata": {
    "execution": {
     "iopub.execute_input": "2021-04-27T18:11:19.686509Z",
     "iopub.status.busy": "2021-04-27T18:11:19.686144Z",
     "iopub.status.idle": "2021-04-27T18:11:19.729038Z",
     "shell.execute_reply": "2021-04-27T18:11:19.728658Z"
    },
    "papermill": {
     "duration": 0.068168,
     "end_time": "2021-04-27T18:11:19.729122",
     "exception": false,
     "start_time": "2021-04-27T18:11:19.660954",
     "status": "completed"
    },
    "tags": []
   },
   "outputs": [],
   "source": [
    "with localconverter(ro.default_converter + pandas2ri.converter):\n",
    "    ld_block_df = ro.conversion.rpy2py(ld_block_r)"
   ]
  },
  {
   "cell_type": "code",
   "execution_count": 14,
   "id": "mexican-calibration",
   "metadata": {
    "execution": {
     "iopub.execute_input": "2021-04-27T18:11:19.777484Z",
     "iopub.status.busy": "2021-04-27T18:11:19.777126Z",
     "iopub.status.idle": "2021-04-27T18:11:19.791009Z",
     "shell.execute_reply": "2021-04-27T18:11:19.790611Z"
    },
    "papermill": {
     "duration": 0.039174,
     "end_time": "2021-04-27T18:11:19.791093",
     "exception": false,
     "start_time": "2021-04-27T18:11:19.751919",
     "status": "completed"
    },
    "tags": []
   },
   "outputs": [
    {
     "data": {
      "text/html": [
       "<div>\n",
       "<style scoped>\n",
       "    .dataframe tbody tr th:only-of-type {\n",
       "        vertical-align: middle;\n",
       "    }\n",
       "\n",
       "    .dataframe tbody tr th {\n",
       "        vertical-align: top;\n",
       "    }\n",
       "\n",
       "    .dataframe thead th {\n",
       "        text-align: right;\n",
       "    }\n",
       "</style>\n",
       "<table border=\"1\" class=\"dataframe\">\n",
       "  <thead>\n",
       "    <tr style=\"text-align: right;\">\n",
       "      <th></th>\n",
       "      <th>region_name</th>\n",
       "      <th>chromosome</th>\n",
       "      <th>start</th>\n",
       "      <th>end</th>\n",
       "    </tr>\n",
       "  </thead>\n",
       "  <tbody>\n",
       "    <tr>\n",
       "      <th>1</th>\n",
       "      <td>chr1_1</td>\n",
       "      <td>chr1</td>\n",
       "      <td>10583</td>\n",
       "      <td>1961168</td>\n",
       "    </tr>\n",
       "    <tr>\n",
       "      <th>2</th>\n",
       "      <td>chr1_2</td>\n",
       "      <td>chr1</td>\n",
       "      <td>1961168</td>\n",
       "      <td>3666172</td>\n",
       "    </tr>\n",
       "    <tr>\n",
       "      <th>3</th>\n",
       "      <td>chr1_3</td>\n",
       "      <td>chr1</td>\n",
       "      <td>3666172</td>\n",
       "      <td>4320751</td>\n",
       "    </tr>\n",
       "    <tr>\n",
       "      <th>4</th>\n",
       "      <td>chr1_4</td>\n",
       "      <td>chr1</td>\n",
       "      <td>4320751</td>\n",
       "      <td>5853833</td>\n",
       "    </tr>\n",
       "    <tr>\n",
       "      <th>5</th>\n",
       "      <td>chr1_5</td>\n",
       "      <td>chr1</td>\n",
       "      <td>5853833</td>\n",
       "      <td>7187275</td>\n",
       "    </tr>\n",
       "    <tr>\n",
       "      <th>...</th>\n",
       "      <td>...</td>\n",
       "      <td>...</td>\n",
       "      <td>...</td>\n",
       "      <td>...</td>\n",
       "    </tr>\n",
       "    <tr>\n",
       "      <th>1698</th>\n",
       "      <td>chr22_20</td>\n",
       "      <td>chr22</td>\n",
       "      <td>44599428</td>\n",
       "      <td>46074615</td>\n",
       "    </tr>\n",
       "    <tr>\n",
       "      <th>1699</th>\n",
       "      <td>chr22_21</td>\n",
       "      <td>chr22</td>\n",
       "      <td>46074615</td>\n",
       "      <td>47200568</td>\n",
       "    </tr>\n",
       "    <tr>\n",
       "      <th>1700</th>\n",
       "      <td>chr22_22</td>\n",
       "      <td>chr22</td>\n",
       "      <td>47200568</td>\n",
       "      <td>48507891</td>\n",
       "    </tr>\n",
       "    <tr>\n",
       "      <th>1701</th>\n",
       "      <td>chr22_23</td>\n",
       "      <td>chr22</td>\n",
       "      <td>48507891</td>\n",
       "      <td>49430885</td>\n",
       "    </tr>\n",
       "    <tr>\n",
       "      <th>1702</th>\n",
       "      <td>chr22_24</td>\n",
       "      <td>chr22</td>\n",
       "      <td>49430885</td>\n",
       "      <td>50804870</td>\n",
       "    </tr>\n",
       "  </tbody>\n",
       "</table>\n",
       "<p>1702 rows × 4 columns</p>\n",
       "</div>"
      ],
      "text/plain": [
       "     region_name chromosome     start       end\n",
       "1         chr1_1       chr1     10583   1961168\n",
       "2         chr1_2       chr1   1961168   3666172\n",
       "3         chr1_3       chr1   3666172   4320751\n",
       "4         chr1_4       chr1   4320751   5853833\n",
       "5         chr1_5       chr1   5853833   7187275\n",
       "...          ...        ...       ...       ...\n",
       "1698    chr22_20      chr22  44599428  46074615\n",
       "1699    chr22_21      chr22  46074615  47200568\n",
       "1700    chr22_22      chr22  47200568  48507891\n",
       "1701    chr22_23      chr22  48507891  49430885\n",
       "1702    chr22_24      chr22  49430885  50804870\n",
       "\n",
       "[1702 rows x 4 columns]"
      ]
     },
     "execution_count": 14,
     "metadata": {},
     "output_type": "execute_result"
    }
   ],
   "source": [
    "ld_block_df"
   ]
  },
  {
   "cell_type": "code",
   "execution_count": 15,
   "id": "chemical-definition",
   "metadata": {
    "execution": {
     "iopub.execute_input": "2021-04-27T18:11:19.840950Z",
     "iopub.status.busy": "2021-04-27T18:11:19.840542Z",
     "iopub.status.idle": "2021-04-27T18:11:19.849335Z",
     "shell.execute_reply": "2021-04-27T18:11:19.849014Z"
    },
    "papermill": {
     "duration": 0.034595,
     "end_time": "2021-04-27T18:11:19.849419",
     "exception": false,
     "start_time": "2021-04-27T18:11:19.814824",
     "status": "completed"
    },
    "tags": []
   },
   "outputs": [
    {
     "data": {
      "text/plain": [
       "region_name    object\n",
       "chromosome     object\n",
       "start           int32\n",
       "end             int32\n",
       "dtype: object"
      ]
     },
     "execution_count": 15,
     "metadata": {},
     "output_type": "execute_result"
    }
   ],
   "source": [
    "ld_block_df.dtypes"
   ]
  },
  {
   "cell_type": "markdown",
   "id": "incorporated-slovenia",
   "metadata": {
    "papermill": {
     "duration": 0.024096,
     "end_time": "2021-04-27T18:11:19.897962",
     "exception": false,
     "start_time": "2021-04-27T18:11:19.873866",
     "status": "completed"
    },
    "tags": []
   },
   "source": [
    "### Save in tsv"
   ]
  },
  {
   "cell_type": "code",
   "execution_count": 16,
   "id": "christian-exhibit",
   "metadata": {
    "execution": {
     "iopub.execute_input": "2021-04-27T18:11:19.947390Z",
     "iopub.status.busy": "2021-04-27T18:11:19.947017Z",
     "iopub.status.idle": "2021-04-27T18:11:19.955373Z",
     "shell.execute_reply": "2021-04-27T18:11:19.955012Z"
    },
    "papermill": {
     "duration": 0.034134,
     "end_time": "2021-04-27T18:11:19.955456",
     "exception": false,
     "start_time": "2021-04-27T18:11:19.921322",
     "status": "completed"
    },
    "tags": []
   },
   "outputs": [
    {
     "data": {
      "text/plain": [
       "PosixPath('/home/miltondp/projects/labs/greenelab/phenoplier/base/data/phenomexcan/ld_blocks/ld_block_pickrell_eur_b38.tsv')"
      ]
     },
     "metadata": {},
     "output_type": "display_data"
    }
   ],
   "source": [
    "output_file = conf.PHENOMEXCAN[\"LD_BLOCKS\"][\"LD_BLOCKS_FILE\"].parent / (\n",
    "    conf.PHENOMEXCAN[\"LD_BLOCKS\"][\"LD_BLOCKS_FILE\"].stem + \".tsv\"\n",
    ")\n",
    "display(output_file)"
   ]
  },
  {
   "cell_type": "code",
   "execution_count": 17,
   "id": "dated-netherlands",
   "metadata": {
    "execution": {
     "iopub.execute_input": "2021-04-27T18:11:20.006082Z",
     "iopub.status.busy": "2021-04-27T18:11:20.005714Z",
     "iopub.status.idle": "2021-04-27T18:11:20.016255Z",
     "shell.execute_reply": "2021-04-27T18:11:20.015877Z"
    },
    "papermill": {
     "duration": 0.036639,
     "end_time": "2021-04-27T18:11:20.016340",
     "exception": false,
     "start_time": "2021-04-27T18:11:19.979701",
     "status": "completed"
    },
    "tags": []
   },
   "outputs": [],
   "source": [
    "ld_block_df.to_csv(output_file, sep=\"\\t\", index=False)"
   ]
  },
  {
   "cell_type": "markdown",
   "id": "racial-detroit",
   "metadata": {
    "papermill": {
     "duration": 0.02365,
     "end_time": "2021-04-27T18:11:20.064333",
     "exception": false,
     "start_time": "2021-04-27T18:11:20.040683",
     "status": "completed"
    },
    "tags": []
   },
   "source": [
    "## SNPs in predictions models"
   ]
  },
  {
   "cell_type": "code",
   "execution_count": 18,
   "id": "enhanced-chinese",
   "metadata": {
    "execution": {
     "iopub.execute_input": "2021-04-27T18:11:20.113468Z",
     "iopub.status.busy": "2021-04-27T18:11:20.113107Z",
     "iopub.status.idle": "2021-04-27T18:11:20.120997Z",
     "shell.execute_reply": "2021-04-27T18:11:20.120594Z"
    },
    "papermill": {
     "duration": 0.033463,
     "end_time": "2021-04-27T18:11:20.121081",
     "exception": false,
     "start_time": "2021-04-27T18:11:20.087618",
     "status": "completed"
    },
    "tags": []
   },
   "outputs": [],
   "source": [
    "mashr_models_db_files = list(\n",
    "    conf.PHENOMEXCAN[\"PREDICTION_MODELS\"][\"MASHR\"].glob(\"*.db\")\n",
    ")"
   ]
  },
  {
   "cell_type": "code",
   "execution_count": 19,
   "id": "virtual-directory",
   "metadata": {
    "execution": {
     "iopub.execute_input": "2021-04-27T18:11:20.171798Z",
     "iopub.status.busy": "2021-04-27T18:11:20.171442Z",
     "iopub.status.idle": "2021-04-27T18:11:20.178818Z",
     "shell.execute_reply": "2021-04-27T18:11:20.178458Z"
    },
    "papermill": {
     "duration": 0.033237,
     "end_time": "2021-04-27T18:11:20.178901",
     "exception": false,
     "start_time": "2021-04-27T18:11:20.145664",
     "status": "completed"
    },
    "tags": []
   },
   "outputs": [],
   "source": [
    "assert len(mashr_models_db_files) == 49"
   ]
  },
  {
   "cell_type": "code",
   "execution_count": 20,
   "id": "processed-filename",
   "metadata": {
    "execution": {
     "iopub.execute_input": "2021-04-27T18:11:20.229766Z",
     "iopub.status.busy": "2021-04-27T18:11:20.229388Z",
     "iopub.status.idle": "2021-04-27T18:11:20.236944Z",
     "shell.execute_reply": "2021-04-27T18:11:20.236518Z"
    },
    "papermill": {
     "duration": 0.033795,
     "end_time": "2021-04-27T18:11:20.237024",
     "exception": false,
     "start_time": "2021-04-27T18:11:20.203229",
     "status": "completed"
    },
    "tags": []
   },
   "outputs": [],
   "source": [
    "all_variants_ids = set()"
   ]
  },
  {
   "cell_type": "code",
   "execution_count": 21,
   "id": "welcome-return",
   "metadata": {
    "execution": {
     "iopub.execute_input": "2021-04-27T18:11:20.287775Z",
     "iopub.status.busy": "2021-04-27T18:11:20.287415Z",
     "iopub.status.idle": "2021-04-27T18:11:21.332630Z",
     "shell.execute_reply": "2021-04-27T18:11:21.332986Z"
    },
    "papermill": {
     "duration": 1.072051,
     "end_time": "2021-04-27T18:11:21.333114",
     "exception": false,
     "start_time": "2021-04-27T18:11:20.261063",
     "status": "completed"
    },
    "tags": []
   },
   "outputs": [
    {
     "name": "stdout",
     "output_type": "stream",
     "text": [
      "Processing mashr_Skin_Not_Sun_Exposed_Suprapubic.db\n",
      "Processing mashr_Cells_EBV-transformed_lymphocytes.db\n",
      "Processing mashr_Brain_Frontal_Cortex_BA9.db\n",
      "Processing mashr_Kidney_Cortex.db\n",
      "Processing mashr_Brain_Substantia_nigra.db\n",
      "Processing mashr_Spleen.db\n",
      "Processing mashr_Colon_Transverse.db\n",
      "Processing mashr_Heart_Left_Ventricle.db\n",
      "Processing mashr_Lung.db\n",
      "Processing mashr_Muscle_Skeletal.db\n"
     ]
    },
    {
     "name": "stdout",
     "output_type": "stream",
     "text": [
      "Processing mashr_Brain_Hypothalamus.db\n",
      "Processing mashr_Brain_Cortex.db\n",
      "Processing mashr_Brain_Amygdala.db\n",
      "Processing mashr_Esophagus_Mucosa.db\n",
      "Processing mashr_Adrenal_Gland.db\n",
      "Processing mashr_Uterus.db\n",
      "Processing mashr_Prostate.db\n",
      "Processing mashr_Whole_Blood.db\n",
      "Processing mashr_Pituitary.db\n",
      "Processing mashr_Esophagus_Gastroesophageal_Junction.db\n"
     ]
    },
    {
     "name": "stdout",
     "output_type": "stream",
     "text": [
      "Processing mashr_Stomach.db\n",
      "Processing mashr_Heart_Atrial_Appendage.db\n",
      "Processing mashr_Brain_Cerebellum.db\n",
      "Processing mashr_Breast_Mammary_Tissue.db\n",
      "Processing mashr_Artery_Tibial.db\n",
      "Processing mashr_Artery_Aorta.db\n",
      "Processing mashr_Small_Intestine_Terminal_Ileum.db\n",
      "Processing mashr_Brain_Hippocampus.db\n",
      "Processing mashr_Testis.db\n",
      "Processing mashr_Brain_Putamen_basal_ganglia.db\n",
      "Processing mashr_Pancreas.db\n"
     ]
    },
    {
     "name": "stdout",
     "output_type": "stream",
     "text": [
      "Processing mashr_Adipose_Subcutaneous.db\n",
      "Processing mashr_Brain_Cerebellar_Hemisphere.db\n",
      "Processing mashr_Colon_Sigmoid.db\n",
      "Processing mashr_Minor_Salivary_Gland.db\n",
      "Processing mashr_Cells_Cultured_fibroblasts.db\n",
      "Processing mashr_Brain_Nucleus_accumbens_basal_ganglia.db\n",
      "Processing mashr_Brain_Anterior_cingulate_cortex_BA24.db\n",
      "Processing mashr_Vagina.db\n",
      "Processing mashr_Ovary.db\n",
      "Processing mashr_Skin_Sun_Exposed_Lower_leg.db\n"
     ]
    },
    {
     "name": "stdout",
     "output_type": "stream",
     "text": [
      "Processing mashr_Esophagus_Muscularis.db\n",
      "Processing mashr_Brain_Spinal_cord_cervical_c-1.db\n",
      "Processing mashr_Artery_Coronary.db\n",
      "Processing mashr_Thyroid.db\n",
      "Processing mashr_Brain_Caudate_basal_ganglia.db\n",
      "Processing mashr_Adipose_Visceral_Omentum.db\n",
      "Processing mashr_Nerve_Tibial.db\n",
      "Processing mashr_Liver.db\n"
     ]
    }
   ],
   "source": [
    "for m in mashr_models_db_files:\n",
    "    print(f\"Processing {m.name}\")\n",
    "\n",
    "    with sqlite3.connect(m) as conn:\n",
    "        df = pd.read_sql(\"select varID from weights\", conn)[\"varID\"]\n",
    "        all_variants_ids.update(set(df.values))"
   ]
  },
  {
   "cell_type": "code",
   "execution_count": 22,
   "id": "asian-wallpaper",
   "metadata": {
    "execution": {
     "iopub.execute_input": "2021-04-27T18:11:21.389543Z",
     "iopub.status.busy": "2021-04-27T18:11:21.389177Z",
     "iopub.status.idle": "2021-04-27T18:11:21.397110Z",
     "shell.execute_reply": "2021-04-27T18:11:21.397402Z"
    },
    "papermill": {
     "duration": 0.034928,
     "end_time": "2021-04-27T18:11:21.397504",
     "exception": false,
     "start_time": "2021-04-27T18:11:21.362576",
     "status": "completed"
    },
    "tags": []
   },
   "outputs": [
    {
     "data": {
      "text/plain": [
       "237405"
      ]
     },
     "execution_count": 22,
     "metadata": {},
     "output_type": "execute_result"
    }
   ],
   "source": [
    "len(all_variants_ids)"
   ]
  },
  {
   "cell_type": "code",
   "execution_count": 23,
   "id": "negative-simple",
   "metadata": {
    "execution": {
     "iopub.execute_input": "2021-04-27T18:11:21.449969Z",
     "iopub.status.busy": "2021-04-27T18:11:21.449611Z",
     "iopub.status.idle": "2021-04-27T18:11:21.466691Z",
     "shell.execute_reply": "2021-04-27T18:11:21.467041Z"
    },
    "papermill": {
     "duration": 0.044471,
     "end_time": "2021-04-27T18:11:21.467169",
     "exception": false,
     "start_time": "2021-04-27T18:11:21.422698",
     "status": "completed"
    },
    "tags": []
   },
   "outputs": [
    {
     "data": {
      "text/plain": [
       "['chr4_152680407_C_A_b38',\n",
       " 'chr3_39281932_C_G_b38',\n",
       " 'chr17_3661000_T_C_b38',\n",
       " 'chr12_120906687_G_T_b38',\n",
       " 'chr10_43575139_A_G_b38',\n",
       " 'chr12_230789_A_G_b38',\n",
       " 'chr14_23960726_G_A_b38',\n",
       " 'chr13_48658462_T_G_b38',\n",
       " 'chr12_9990298_G_A_b38',\n",
       " 'chr20_59958704_G_T_b38']"
      ]
     },
     "execution_count": 23,
     "metadata": {},
     "output_type": "execute_result"
    }
   ],
   "source": [
    "list(all_variants_ids)[:10]"
   ]
  },
  {
   "cell_type": "markdown",
   "id": "silver-simpson",
   "metadata": {
    "papermill": {
     "duration": 0.025817,
     "end_time": "2021-04-27T18:11:21.524605",
     "exception": false,
     "start_time": "2021-04-27T18:11:21.498788",
     "status": "completed"
    },
    "tags": []
   },
   "source": [
    "# Assign each variant to an LD block"
   ]
  },
  {
   "cell_type": "markdown",
   "id": "peaceful-handy",
   "metadata": {
    "papermill": {
     "duration": 0.026261,
     "end_time": "2021-04-27T18:11:21.578900",
     "exception": false,
     "start_time": "2021-04-27T18:11:21.552639",
     "status": "completed"
    },
    "tags": []
   },
   "source": [
    "## Preprocess SNPs data"
   ]
  },
  {
   "cell_type": "code",
   "execution_count": 24,
   "id": "small-application",
   "metadata": {
    "execution": {
     "iopub.execute_input": "2021-04-27T18:11:21.633224Z",
     "iopub.status.busy": "2021-04-27T18:11:21.632870Z",
     "iopub.status.idle": "2021-04-27T18:11:21.701709Z",
     "shell.execute_reply": "2021-04-27T18:11:21.701075Z"
    },
    "papermill": {
     "duration": 0.09669,
     "end_time": "2021-04-27T18:11:21.701848",
     "exception": false,
     "start_time": "2021-04-27T18:11:21.605158",
     "status": "completed"
    },
    "tags": []
   },
   "outputs": [],
   "source": [
    "variants_ld_block_df = pd.DataFrame({\"varID\": list(all_variants_ids)})"
   ]
  },
  {
   "cell_type": "code",
   "execution_count": 25,
   "id": "single-scratch",
   "metadata": {
    "execution": {
     "iopub.execute_input": "2021-04-27T18:11:21.770865Z",
     "iopub.status.busy": "2021-04-27T18:11:21.770474Z",
     "iopub.status.idle": "2021-04-27T18:11:21.779037Z",
     "shell.execute_reply": "2021-04-27T18:11:21.778646Z"
    },
    "papermill": {
     "duration": 0.041304,
     "end_time": "2021-04-27T18:11:21.779124",
     "exception": false,
     "start_time": "2021-04-27T18:11:21.737820",
     "status": "completed"
    },
    "tags": []
   },
   "outputs": [
    {
     "data": {
      "text/plain": [
       "(237405, 1)"
      ]
     },
     "execution_count": 25,
     "metadata": {},
     "output_type": "execute_result"
    }
   ],
   "source": [
    "variants_ld_block_df.shape"
   ]
  },
  {
   "cell_type": "code",
   "execution_count": 26,
   "id": "central-nation",
   "metadata": {
    "execution": {
     "iopub.execute_input": "2021-04-27T18:11:21.835167Z",
     "iopub.status.busy": "2021-04-27T18:11:21.834808Z",
     "iopub.status.idle": "2021-04-27T18:11:22.504457Z",
     "shell.execute_reply": "2021-04-27T18:11:22.504010Z"
    },
    "papermill": {
     "duration": 0.697891,
     "end_time": "2021-04-27T18:11:22.504566",
     "exception": false,
     "start_time": "2021-04-27T18:11:21.806675",
     "status": "completed"
    },
    "tags": []
   },
   "outputs": [],
   "source": [
    "variants_info = variants_ld_block_df[\"varID\"].str.split(\"_\", expand=True)"
   ]
  },
  {
   "cell_type": "code",
   "execution_count": 27,
   "id": "falling-scottish",
   "metadata": {
    "execution": {
     "iopub.execute_input": "2021-04-27T18:11:22.574126Z",
     "iopub.status.busy": "2021-04-27T18:11:22.573727Z",
     "iopub.status.idle": "2021-04-27T18:11:22.582295Z",
     "shell.execute_reply": "2021-04-27T18:11:22.582605Z"
    },
    "papermill": {
     "duration": 0.043922,
     "end_time": "2021-04-27T18:11:22.582720",
     "exception": false,
     "start_time": "2021-04-27T18:11:22.538798",
     "status": "completed"
    },
    "tags": []
   },
   "outputs": [
    {
     "data": {
      "text/plain": [
       "(237405, 5)"
      ]
     },
     "execution_count": 27,
     "metadata": {},
     "output_type": "execute_result"
    }
   ],
   "source": [
    "variants_info.shape"
   ]
  },
  {
   "cell_type": "code",
   "execution_count": 28,
   "id": "raised-recording",
   "metadata": {
    "execution": {
     "iopub.execute_input": "2021-04-27T18:11:22.639382Z",
     "iopub.status.busy": "2021-04-27T18:11:22.639017Z",
     "iopub.status.idle": "2021-04-27T18:11:22.646378Z",
     "shell.execute_reply": "2021-04-27T18:11:22.646028Z"
    },
    "papermill": {
     "duration": 0.035416,
     "end_time": "2021-04-27T18:11:22.646459",
     "exception": false,
     "start_time": "2021-04-27T18:11:22.611043",
     "status": "completed"
    },
    "tags": []
   },
   "outputs": [],
   "source": [
    "assert variants_ld_block_df.shape[0] == variants_info.shape[0]"
   ]
  },
  {
   "cell_type": "code",
   "execution_count": 29,
   "id": "theoretical-backup",
   "metadata": {
    "execution": {
     "iopub.execute_input": "2021-04-27T18:11:22.701619Z",
     "iopub.status.busy": "2021-04-27T18:11:22.701253Z",
     "iopub.status.idle": "2021-04-27T18:11:22.842016Z",
     "shell.execute_reply": "2021-04-27T18:11:22.841345Z"
    },
    "papermill": {
     "duration": 0.16878,
     "end_time": "2021-04-27T18:11:22.842155",
     "exception": false,
     "start_time": "2021-04-27T18:11:22.673375",
     "status": "completed"
    },
    "tags": []
   },
   "outputs": [],
   "source": [
    "variants_ld_block_df = variants_ld_block_df.join(variants_info)[[\"varID\", 0, 1, 2, 3]]"
   ]
  },
  {
   "cell_type": "code",
   "execution_count": 30,
   "id": "reported-office",
   "metadata": {
    "execution": {
     "iopub.execute_input": "2021-04-27T18:11:22.913440Z",
     "iopub.status.busy": "2021-04-27T18:11:22.913076Z",
     "iopub.status.idle": "2021-04-27T18:11:22.920480Z",
     "shell.execute_reply": "2021-04-27T18:11:22.920136Z"
    },
    "papermill": {
     "duration": 0.040425,
     "end_time": "2021-04-27T18:11:22.920566",
     "exception": false,
     "start_time": "2021-04-27T18:11:22.880141",
     "status": "completed"
    },
    "tags": []
   },
   "outputs": [],
   "source": [
    "assert variants_ld_block_df.shape[0] == variants_info.shape[0]"
   ]
  },
  {
   "cell_type": "code",
   "execution_count": 31,
   "id": "synthetic-script",
   "metadata": {
    "execution": {
     "iopub.execute_input": "2021-04-27T18:11:22.976975Z",
     "iopub.status.busy": "2021-04-27T18:11:22.976557Z",
     "iopub.status.idle": "2021-04-27T18:11:22.988350Z",
     "shell.execute_reply": "2021-04-27T18:11:22.987982Z"
    },
    "papermill": {
     "duration": 0.039976,
     "end_time": "2021-04-27T18:11:22.988435",
     "exception": false,
     "start_time": "2021-04-27T18:11:22.948459",
     "status": "completed"
    },
    "tags": []
   },
   "outputs": [
    {
     "data": {
      "text/html": [
       "<div>\n",
       "<style scoped>\n",
       "    .dataframe tbody tr th:only-of-type {\n",
       "        vertical-align: middle;\n",
       "    }\n",
       "\n",
       "    .dataframe tbody tr th {\n",
       "        vertical-align: top;\n",
       "    }\n",
       "\n",
       "    .dataframe thead th {\n",
       "        text-align: right;\n",
       "    }\n",
       "</style>\n",
       "<table border=\"1\" class=\"dataframe\">\n",
       "  <thead>\n",
       "    <tr style=\"text-align: right;\">\n",
       "      <th></th>\n",
       "      <th>varID</th>\n",
       "      <th>0</th>\n",
       "      <th>1</th>\n",
       "      <th>2</th>\n",
       "      <th>3</th>\n",
       "    </tr>\n",
       "  </thead>\n",
       "  <tbody>\n",
       "    <tr>\n",
       "      <th>0</th>\n",
       "      <td>chr4_152680407_C_A_b38</td>\n",
       "      <td>chr4</td>\n",
       "      <td>152680407</td>\n",
       "      <td>C</td>\n",
       "      <td>A</td>\n",
       "    </tr>\n",
       "    <tr>\n",
       "      <th>1</th>\n",
       "      <td>chr3_39281932_C_G_b38</td>\n",
       "      <td>chr3</td>\n",
       "      <td>39281932</td>\n",
       "      <td>C</td>\n",
       "      <td>G</td>\n",
       "    </tr>\n",
       "    <tr>\n",
       "      <th>2</th>\n",
       "      <td>chr17_3661000_T_C_b38</td>\n",
       "      <td>chr17</td>\n",
       "      <td>3661000</td>\n",
       "      <td>T</td>\n",
       "      <td>C</td>\n",
       "    </tr>\n",
       "    <tr>\n",
       "      <th>3</th>\n",
       "      <td>chr12_120906687_G_T_b38</td>\n",
       "      <td>chr12</td>\n",
       "      <td>120906687</td>\n",
       "      <td>G</td>\n",
       "      <td>T</td>\n",
       "    </tr>\n",
       "    <tr>\n",
       "      <th>4</th>\n",
       "      <td>chr10_43575139_A_G_b38</td>\n",
       "      <td>chr10</td>\n",
       "      <td>43575139</td>\n",
       "      <td>A</td>\n",
       "      <td>G</td>\n",
       "    </tr>\n",
       "  </tbody>\n",
       "</table>\n",
       "</div>"
      ],
      "text/plain": [
       "                     varID      0          1  2  3\n",
       "0   chr4_152680407_C_A_b38   chr4  152680407  C  A\n",
       "1    chr3_39281932_C_G_b38   chr3   39281932  C  G\n",
       "2    chr17_3661000_T_C_b38  chr17    3661000  T  C\n",
       "3  chr12_120906687_G_T_b38  chr12  120906687  G  T\n",
       "4   chr10_43575139_A_G_b38  chr10   43575139  A  G"
      ]
     },
     "execution_count": 31,
     "metadata": {},
     "output_type": "execute_result"
    }
   ],
   "source": [
    "variants_ld_block_df.head()"
   ]
  },
  {
   "cell_type": "code",
   "execution_count": 32,
   "id": "imperial-composer",
   "metadata": {
    "execution": {
     "iopub.execute_input": "2021-04-27T18:11:23.045389Z",
     "iopub.status.busy": "2021-04-27T18:11:23.045022Z",
     "iopub.status.idle": "2021-04-27T18:11:23.068900Z",
     "shell.execute_reply": "2021-04-27T18:11:23.069256Z"
    },
    "papermill": {
     "duration": 0.053204,
     "end_time": "2021-04-27T18:11:23.069386",
     "exception": false,
     "start_time": "2021-04-27T18:11:23.016182",
     "status": "completed"
    },
    "tags": []
   },
   "outputs": [],
   "source": [
    "variants_ld_block_df = variants_ld_block_df.rename(\n",
    "    columns={\n",
    "        0: \"chr\",\n",
    "        1: \"position\",\n",
    "        2: \"ref_allele\",\n",
    "        3: \"eff_allele\",\n",
    "    }\n",
    ")"
   ]
  },
  {
   "cell_type": "code",
   "execution_count": 33,
   "id": "emotional-devices",
   "metadata": {
    "execution": {
     "iopub.execute_input": "2021-04-27T18:11:23.131323Z",
     "iopub.status.busy": "2021-04-27T18:11:23.130965Z",
     "iopub.status.idle": "2021-04-27T18:11:23.249930Z",
     "shell.execute_reply": "2021-04-27T18:11:23.249411Z"
    },
    "papermill": {
     "duration": 0.148289,
     "end_time": "2021-04-27T18:11:23.250038",
     "exception": false,
     "start_time": "2021-04-27T18:11:23.101749",
     "status": "completed"
    },
    "tags": []
   },
   "outputs": [],
   "source": [
    "variants_ld_block_df[\"chr\"] = variants_ld_block_df[\"chr\"].apply(lambda x: int(x[3:]))"
   ]
  },
  {
   "cell_type": "code",
   "execution_count": 34,
   "id": "genuine-block",
   "metadata": {
    "execution": {
     "iopub.execute_input": "2021-04-27T18:11:23.317513Z",
     "iopub.status.busy": "2021-04-27T18:11:23.317152Z",
     "iopub.status.idle": "2021-04-27T18:11:23.358971Z",
     "shell.execute_reply": "2021-04-27T18:11:23.359338Z"
    },
    "papermill": {
     "duration": 0.073553,
     "end_time": "2021-04-27T18:11:23.359473",
     "exception": false,
     "start_time": "2021-04-27T18:11:23.285920",
     "status": "completed"
    },
    "tags": []
   },
   "outputs": [],
   "source": [
    "variants_ld_block_df[\"position\"] = variants_ld_block_df[\"position\"].astype(int)"
   ]
  },
  {
   "cell_type": "code",
   "execution_count": 35,
   "id": "stable-harmony",
   "metadata": {
    "execution": {
     "iopub.execute_input": "2021-04-27T18:11:23.424250Z",
     "iopub.status.busy": "2021-04-27T18:11:23.423894Z",
     "iopub.status.idle": "2021-04-27T18:11:23.431952Z",
     "shell.execute_reply": "2021-04-27T18:11:23.431583Z"
    },
    "papermill": {
     "duration": 0.037841,
     "end_time": "2021-04-27T18:11:23.432037",
     "exception": false,
     "start_time": "2021-04-27T18:11:23.394196",
     "status": "completed"
    },
    "tags": []
   },
   "outputs": [
    {
     "data": {
      "text/plain": [
       "(237405, 5)"
      ]
     },
     "execution_count": 35,
     "metadata": {},
     "output_type": "execute_result"
    }
   ],
   "source": [
    "variants_ld_block_df.shape"
   ]
  },
  {
   "cell_type": "code",
   "execution_count": 36,
   "id": "chinese-reunion",
   "metadata": {
    "execution": {
     "iopub.execute_input": "2021-04-27T18:11:23.512142Z",
     "iopub.status.busy": "2021-04-27T18:11:23.511764Z",
     "iopub.status.idle": "2021-04-27T18:11:23.523457Z",
     "shell.execute_reply": "2021-04-27T18:11:23.523081Z"
    },
    "papermill": {
     "duration": 0.04554,
     "end_time": "2021-04-27T18:11:23.523544",
     "exception": false,
     "start_time": "2021-04-27T18:11:23.478004",
     "status": "completed"
    },
    "tags": []
   },
   "outputs": [
    {
     "data": {
      "text/html": [
       "<div>\n",
       "<style scoped>\n",
       "    .dataframe tbody tr th:only-of-type {\n",
       "        vertical-align: middle;\n",
       "    }\n",
       "\n",
       "    .dataframe tbody tr th {\n",
       "        vertical-align: top;\n",
       "    }\n",
       "\n",
       "    .dataframe thead th {\n",
       "        text-align: right;\n",
       "    }\n",
       "</style>\n",
       "<table border=\"1\" class=\"dataframe\">\n",
       "  <thead>\n",
       "    <tr style=\"text-align: right;\">\n",
       "      <th></th>\n",
       "      <th>varID</th>\n",
       "      <th>chr</th>\n",
       "      <th>position</th>\n",
       "      <th>ref_allele</th>\n",
       "      <th>eff_allele</th>\n",
       "    </tr>\n",
       "  </thead>\n",
       "  <tbody>\n",
       "    <tr>\n",
       "      <th>0</th>\n",
       "      <td>chr4_152680407_C_A_b38</td>\n",
       "      <td>4</td>\n",
       "      <td>152680407</td>\n",
       "      <td>C</td>\n",
       "      <td>A</td>\n",
       "    </tr>\n",
       "    <tr>\n",
       "      <th>1</th>\n",
       "      <td>chr3_39281932_C_G_b38</td>\n",
       "      <td>3</td>\n",
       "      <td>39281932</td>\n",
       "      <td>C</td>\n",
       "      <td>G</td>\n",
       "    </tr>\n",
       "    <tr>\n",
       "      <th>2</th>\n",
       "      <td>chr17_3661000_T_C_b38</td>\n",
       "      <td>17</td>\n",
       "      <td>3661000</td>\n",
       "      <td>T</td>\n",
       "      <td>C</td>\n",
       "    </tr>\n",
       "    <tr>\n",
       "      <th>3</th>\n",
       "      <td>chr12_120906687_G_T_b38</td>\n",
       "      <td>12</td>\n",
       "      <td>120906687</td>\n",
       "      <td>G</td>\n",
       "      <td>T</td>\n",
       "    </tr>\n",
       "    <tr>\n",
       "      <th>4</th>\n",
       "      <td>chr10_43575139_A_G_b38</td>\n",
       "      <td>10</td>\n",
       "      <td>43575139</td>\n",
       "      <td>A</td>\n",
       "      <td>G</td>\n",
       "    </tr>\n",
       "  </tbody>\n",
       "</table>\n",
       "</div>"
      ],
      "text/plain": [
       "                     varID  chr   position ref_allele eff_allele\n",
       "0   chr4_152680407_C_A_b38    4  152680407          C          A\n",
       "1    chr3_39281932_C_G_b38    3   39281932          C          G\n",
       "2    chr17_3661000_T_C_b38   17    3661000          T          C\n",
       "3  chr12_120906687_G_T_b38   12  120906687          G          T\n",
       "4   chr10_43575139_A_G_b38   10   43575139          A          G"
      ]
     },
     "execution_count": 36,
     "metadata": {},
     "output_type": "execute_result"
    }
   ],
   "source": [
    "variants_ld_block_df.head()"
   ]
  },
  {
   "cell_type": "code",
   "execution_count": 37,
   "id": "instant-cooking",
   "metadata": {
    "execution": {
     "iopub.execute_input": "2021-04-27T18:11:23.585096Z",
     "iopub.status.busy": "2021-04-27T18:11:23.584698Z",
     "iopub.status.idle": "2021-04-27T18:11:23.593876Z",
     "shell.execute_reply": "2021-04-27T18:11:23.593556Z"
    },
    "papermill": {
     "duration": 0.040764,
     "end_time": "2021-04-27T18:11:23.593961",
     "exception": false,
     "start_time": "2021-04-27T18:11:23.553197",
     "status": "completed"
    },
    "tags": []
   },
   "outputs": [
    {
     "data": {
      "text/plain": [
       "varID         object\n",
       "chr            int64\n",
       "position       int64\n",
       "ref_allele    object\n",
       "eff_allele    object\n",
       "dtype: object"
      ]
     },
     "execution_count": 37,
     "metadata": {},
     "output_type": "execute_result"
    }
   ],
   "source": [
    "variants_ld_block_df.dtypes"
   ]
  },
  {
   "cell_type": "markdown",
   "id": "thorough-force",
   "metadata": {
    "papermill": {
     "duration": 0.027167,
     "end_time": "2021-04-27T18:11:23.649343",
     "exception": false,
     "start_time": "2021-04-27T18:11:23.622176",
     "status": "completed"
    },
    "tags": []
   },
   "source": [
    "## Assign LD blocks"
   ]
  },
  {
   "cell_type": "code",
   "execution_count": 38,
   "id": "expired-screening",
   "metadata": {
    "execution": {
     "iopub.execute_input": "2021-04-27T18:11:23.706179Z",
     "iopub.status.busy": "2021-04-27T18:11:23.705812Z",
     "iopub.status.idle": "2021-04-27T18:11:23.713887Z",
     "shell.execute_reply": "2021-04-27T18:11:23.713527Z"
    },
    "papermill": {
     "duration": 0.037725,
     "end_time": "2021-04-27T18:11:23.713967",
     "exception": false,
     "start_time": "2021-04-27T18:11:23.676242",
     "status": "completed"
    },
    "tags": []
   },
   "outputs": [
    {
     "data": {
      "text/plain": [
       "(1702, 4)"
      ]
     },
     "execution_count": 38,
     "metadata": {},
     "output_type": "execute_result"
    }
   ],
   "source": [
    "ld_block_df.shape"
   ]
  },
  {
   "cell_type": "code",
   "execution_count": 39,
   "id": "plastic-compression",
   "metadata": {
    "execution": {
     "iopub.execute_input": "2021-04-27T18:11:23.772877Z",
     "iopub.status.busy": "2021-04-27T18:11:23.772437Z",
     "iopub.status.idle": "2021-04-27T18:11:23.783629Z",
     "shell.execute_reply": "2021-04-27T18:11:23.783260Z"
    },
    "papermill": {
     "duration": 0.041164,
     "end_time": "2021-04-27T18:11:23.783714",
     "exception": false,
     "start_time": "2021-04-27T18:11:23.742550",
     "status": "completed"
    },
    "tags": []
   },
   "outputs": [
    {
     "data": {
      "text/html": [
       "<div>\n",
       "<style scoped>\n",
       "    .dataframe tbody tr th:only-of-type {\n",
       "        vertical-align: middle;\n",
       "    }\n",
       "\n",
       "    .dataframe tbody tr th {\n",
       "        vertical-align: top;\n",
       "    }\n",
       "\n",
       "    .dataframe thead th {\n",
       "        text-align: right;\n",
       "    }\n",
       "</style>\n",
       "<table border=\"1\" class=\"dataframe\">\n",
       "  <thead>\n",
       "    <tr style=\"text-align: right;\">\n",
       "      <th></th>\n",
       "      <th>region_name</th>\n",
       "      <th>chromosome</th>\n",
       "      <th>start</th>\n",
       "      <th>end</th>\n",
       "    </tr>\n",
       "  </thead>\n",
       "  <tbody>\n",
       "    <tr>\n",
       "      <th>1</th>\n",
       "      <td>chr1_1</td>\n",
       "      <td>chr1</td>\n",
       "      <td>10583</td>\n",
       "      <td>1961168</td>\n",
       "    </tr>\n",
       "    <tr>\n",
       "      <th>2</th>\n",
       "      <td>chr1_2</td>\n",
       "      <td>chr1</td>\n",
       "      <td>1961168</td>\n",
       "      <td>3666172</td>\n",
       "    </tr>\n",
       "    <tr>\n",
       "      <th>3</th>\n",
       "      <td>chr1_3</td>\n",
       "      <td>chr1</td>\n",
       "      <td>3666172</td>\n",
       "      <td>4320751</td>\n",
       "    </tr>\n",
       "    <tr>\n",
       "      <th>4</th>\n",
       "      <td>chr1_4</td>\n",
       "      <td>chr1</td>\n",
       "      <td>4320751</td>\n",
       "      <td>5853833</td>\n",
       "    </tr>\n",
       "    <tr>\n",
       "      <th>5</th>\n",
       "      <td>chr1_5</td>\n",
       "      <td>chr1</td>\n",
       "      <td>5853833</td>\n",
       "      <td>7187275</td>\n",
       "    </tr>\n",
       "  </tbody>\n",
       "</table>\n",
       "</div>"
      ],
      "text/plain": [
       "  region_name chromosome    start      end\n",
       "1      chr1_1       chr1    10583  1961168\n",
       "2      chr1_2       chr1  1961168  3666172\n",
       "3      chr1_3       chr1  3666172  4320751\n",
       "4      chr1_4       chr1  4320751  5853833\n",
       "5      chr1_5       chr1  5853833  7187275"
      ]
     },
     "execution_count": 39,
     "metadata": {},
     "output_type": "execute_result"
    }
   ],
   "source": [
    "ld_block_df.head()"
   ]
  },
  {
   "cell_type": "code",
   "execution_count": 40,
   "id": "mental-diving",
   "metadata": {
    "execution": {
     "iopub.execute_input": "2021-04-27T18:11:23.844368Z",
     "iopub.status.busy": "2021-04-27T18:11:23.844004Z",
     "iopub.status.idle": "2021-04-27T18:11:28.350323Z",
     "shell.execute_reply": "2021-04-27T18:11:28.349956Z"
    },
    "papermill": {
     "duration": 4.537146,
     "end_time": "2021-04-27T18:11:28.350420",
     "exception": false,
     "start_time": "2021-04-27T18:11:23.813274",
     "status": "completed"
    },
    "tags": []
   },
   "outputs": [],
   "source": [
    "snps_ld_blocks = []\n",
    "\n",
    "for index, ldb in ld_block_df.iterrows():\n",
    "    snps_in = variants_ld_block_df[\n",
    "        (variants_ld_block_df[\"chr\"] == int(ldb[\"chromosome\"][3:]))\n",
    "        & (variants_ld_block_df[\"position\"] >= ldb[\"start\"])\n",
    "        & (variants_ld_block_df[\"position\"] < ldb[\"end\"])\n",
    "    ]\n",
    "    snps_in = snps_in[[\"varID\"]]\n",
    "    snps_in = snps_in.assign(ld_block=ldb[\"region_name\"])\n",
    "\n",
    "    snps_ld_blocks.append(snps_in)"
   ]
  },
  {
   "cell_type": "code",
   "execution_count": 41,
   "id": "civic-right",
   "metadata": {
    "execution": {
     "iopub.execute_input": "2021-04-27T18:11:28.412104Z",
     "iopub.status.busy": "2021-04-27T18:11:28.411731Z",
     "iopub.status.idle": "2021-04-27T18:11:28.419531Z",
     "shell.execute_reply": "2021-04-27T18:11:28.419226Z"
    },
    "papermill": {
     "duration": 0.038223,
     "end_time": "2021-04-27T18:11:28.419617",
     "exception": false,
     "start_time": "2021-04-27T18:11:28.381394",
     "status": "completed"
    },
    "tags": []
   },
   "outputs": [
    {
     "data": {
      "text/plain": [
       "1702"
      ]
     },
     "metadata": {},
     "output_type": "display_data"
    }
   ],
   "source": [
    "display(len(snps_ld_blocks))\n",
    "assert len(snps_ld_blocks) == ld_block_df.shape[0]"
   ]
  },
  {
   "cell_type": "code",
   "execution_count": 42,
   "id": "cloudy-tennessee",
   "metadata": {
    "execution": {
     "iopub.execute_input": "2021-04-27T18:11:28.478866Z",
     "iopub.status.busy": "2021-04-27T18:11:28.478497Z",
     "iopub.status.idle": "2021-04-27T18:11:28.787406Z",
     "shell.execute_reply": "2021-04-27T18:11:28.786930Z"
    },
    "papermill": {
     "duration": 0.339282,
     "end_time": "2021-04-27T18:11:28.787512",
     "exception": false,
     "start_time": "2021-04-27T18:11:28.448230",
     "status": "completed"
    },
    "tags": []
   },
   "outputs": [],
   "source": [
    "all_snps_ld_blocks = pd.concat(snps_ld_blocks, ignore_index=True)"
   ]
  },
  {
   "cell_type": "code",
   "execution_count": 43,
   "id": "angry-vacuum",
   "metadata": {
    "execution": {
     "iopub.execute_input": "2021-04-27T18:11:28.853312Z",
     "iopub.status.busy": "2021-04-27T18:11:28.852949Z",
     "iopub.status.idle": "2021-04-27T18:11:28.861105Z",
     "shell.execute_reply": "2021-04-27T18:11:28.860764Z"
    },
    "papermill": {
     "duration": 0.039019,
     "end_time": "2021-04-27T18:11:28.861189",
     "exception": false,
     "start_time": "2021-04-27T18:11:28.822170",
     "status": "completed"
    },
    "tags": []
   },
   "outputs": [
    {
     "data": {
      "text/plain": [
       "(237364, 2)"
      ]
     },
     "execution_count": 43,
     "metadata": {},
     "output_type": "execute_result"
    }
   ],
   "source": [
    "all_snps_ld_blocks.shape"
   ]
  },
  {
   "cell_type": "code",
   "execution_count": 44,
   "id": "interstate-stephen",
   "metadata": {
    "execution": {
     "iopub.execute_input": "2021-04-27T18:11:28.921356Z",
     "iopub.status.busy": "2021-04-27T18:11:28.920990Z",
     "iopub.status.idle": "2021-04-27T18:11:28.931565Z",
     "shell.execute_reply": "2021-04-27T18:11:28.931194Z"
    },
    "papermill": {
     "duration": 0.041204,
     "end_time": "2021-04-27T18:11:28.931647",
     "exception": false,
     "start_time": "2021-04-27T18:11:28.890443",
     "status": "completed"
    },
    "tags": []
   },
   "outputs": [
    {
     "data": {
      "text/html": [
       "<div>\n",
       "<style scoped>\n",
       "    .dataframe tbody tr th:only-of-type {\n",
       "        vertical-align: middle;\n",
       "    }\n",
       "\n",
       "    .dataframe tbody tr th {\n",
       "        vertical-align: top;\n",
       "    }\n",
       "\n",
       "    .dataframe thead th {\n",
       "        text-align: right;\n",
       "    }\n",
       "</style>\n",
       "<table border=\"1\" class=\"dataframe\">\n",
       "  <thead>\n",
       "    <tr style=\"text-align: right;\">\n",
       "      <th></th>\n",
       "      <th>varID</th>\n",
       "      <th>ld_block</th>\n",
       "    </tr>\n",
       "  </thead>\n",
       "  <tbody>\n",
       "    <tr>\n",
       "      <th>0</th>\n",
       "      <td>chr1_975014_C_T_b38</td>\n",
       "      <td>chr1_1</td>\n",
       "    </tr>\n",
       "    <tr>\n",
       "      <th>1</th>\n",
       "      <td>chr1_1673818_A_C_b38</td>\n",
       "      <td>chr1_1</td>\n",
       "    </tr>\n",
       "    <tr>\n",
       "      <th>2</th>\n",
       "      <td>chr1_1070689_G_A_b38</td>\n",
       "      <td>chr1_1</td>\n",
       "    </tr>\n",
       "    <tr>\n",
       "      <th>3</th>\n",
       "      <td>chr1_966426_G_C_b38</td>\n",
       "      <td>chr1_1</td>\n",
       "    </tr>\n",
       "    <tr>\n",
       "      <th>4</th>\n",
       "      <td>chr1_975029_T_C_b38</td>\n",
       "      <td>chr1_1</td>\n",
       "    </tr>\n",
       "  </tbody>\n",
       "</table>\n",
       "</div>"
      ],
      "text/plain": [
       "                  varID ld_block\n",
       "0   chr1_975014_C_T_b38   chr1_1\n",
       "1  chr1_1673818_A_C_b38   chr1_1\n",
       "2  chr1_1070689_G_A_b38   chr1_1\n",
       "3   chr1_966426_G_C_b38   chr1_1\n",
       "4   chr1_975029_T_C_b38   chr1_1"
      ]
     },
     "execution_count": 44,
     "metadata": {},
     "output_type": "execute_result"
    }
   ],
   "source": [
    "all_snps_ld_blocks.head()"
   ]
  },
  {
   "cell_type": "code",
   "execution_count": 45,
   "id": "moderate-livestock",
   "metadata": {
    "execution": {
     "iopub.execute_input": "2021-04-27T18:11:28.992037Z",
     "iopub.status.busy": "2021-04-27T18:11:28.991670Z",
     "iopub.status.idle": "2021-04-27T18:11:29.000161Z",
     "shell.execute_reply": "2021-04-27T18:11:28.999787Z"
    },
    "papermill": {
     "duration": 0.039405,
     "end_time": "2021-04-27T18:11:29.000245",
     "exception": false,
     "start_time": "2021-04-27T18:11:28.960840",
     "status": "completed"
    },
    "tags": []
   },
   "outputs": [
    {
     "data": {
      "text/plain": [
       "(237405, 5)"
      ]
     },
     "execution_count": 45,
     "metadata": {},
     "output_type": "execute_result"
    }
   ],
   "source": [
    "variants_ld_block_df.shape"
   ]
  },
  {
   "cell_type": "code",
   "execution_count": 46,
   "id": "successful-burke",
   "metadata": {
    "execution": {
     "iopub.execute_input": "2021-04-27T18:11:29.062209Z",
     "iopub.status.busy": "2021-04-27T18:11:29.061845Z",
     "iopub.status.idle": "2021-04-27T18:11:29.794234Z",
     "shell.execute_reply": "2021-04-27T18:11:29.793743Z"
    },
    "papermill": {
     "duration": 0.763658,
     "end_time": "2021-04-27T18:11:29.794341",
     "exception": false,
     "start_time": "2021-04-27T18:11:29.030683",
     "status": "completed"
    },
    "tags": []
   },
   "outputs": [],
   "source": [
    "_tmp0 = variants_ld_block_df.set_index(\"varID\")\n",
    "assert _tmp0.index.is_unique\n",
    "\n",
    "_tmp1 = all_snps_ld_blocks.set_index(\"varID\")\n",
    "assert _tmp1.index.is_unique\n",
    "\n",
    "_tmp_df = pd.merge(_tmp0, _tmp1, left_index=True, right_index=True, how=\"inner\")"
   ]
  },
  {
   "cell_type": "code",
   "execution_count": 47,
   "id": "incident-encounter",
   "metadata": {
    "execution": {
     "iopub.execute_input": "2021-04-27T18:11:29.867247Z",
     "iopub.status.busy": "2021-04-27T18:11:29.866889Z",
     "iopub.status.idle": "2021-04-27T18:11:29.875087Z",
     "shell.execute_reply": "2021-04-27T18:11:29.874777Z"
    },
    "papermill": {
     "duration": 0.042445,
     "end_time": "2021-04-27T18:11:29.875174",
     "exception": false,
     "start_time": "2021-04-27T18:11:29.832729",
     "status": "completed"
    },
    "tags": []
   },
   "outputs": [
    {
     "data": {
      "text/plain": [
       "(237364, 5)"
      ]
     },
     "metadata": {},
     "output_type": "display_data"
    }
   ],
   "source": [
    "display(_tmp_df.shape)\n",
    "assert _tmp_df.shape[0] == all_snps_ld_blocks.shape[0]"
   ]
  },
  {
   "cell_type": "code",
   "execution_count": 48,
   "id": "organic-laundry",
   "metadata": {
    "execution": {
     "iopub.execute_input": "2021-04-27T18:11:29.937065Z",
     "iopub.status.busy": "2021-04-27T18:11:29.936649Z",
     "iopub.status.idle": "2021-04-27T18:11:29.948680Z",
     "shell.execute_reply": "2021-04-27T18:11:29.948350Z"
    },
    "papermill": {
     "duration": 0.04366,
     "end_time": "2021-04-27T18:11:29.948833",
     "exception": false,
     "start_time": "2021-04-27T18:11:29.905173",
     "status": "completed"
    },
    "tags": []
   },
   "outputs": [
    {
     "data": {
      "text/html": [
       "<div>\n",
       "<style scoped>\n",
       "    .dataframe tbody tr th:only-of-type {\n",
       "        vertical-align: middle;\n",
       "    }\n",
       "\n",
       "    .dataframe tbody tr th {\n",
       "        vertical-align: top;\n",
       "    }\n",
       "\n",
       "    .dataframe thead th {\n",
       "        text-align: right;\n",
       "    }\n",
       "</style>\n",
       "<table border=\"1\" class=\"dataframe\">\n",
       "  <thead>\n",
       "    <tr style=\"text-align: right;\">\n",
       "      <th></th>\n",
       "      <th>chr</th>\n",
       "      <th>position</th>\n",
       "      <th>ref_allele</th>\n",
       "      <th>eff_allele</th>\n",
       "      <th>ld_block</th>\n",
       "    </tr>\n",
       "    <tr>\n",
       "      <th>varID</th>\n",
       "      <th></th>\n",
       "      <th></th>\n",
       "      <th></th>\n",
       "      <th></th>\n",
       "      <th></th>\n",
       "    </tr>\n",
       "  </thead>\n",
       "  <tbody>\n",
       "    <tr>\n",
       "      <th>chr4_152680407_C_A_b38</th>\n",
       "      <td>4</td>\n",
       "      <td>152680407</td>\n",
       "      <td>C</td>\n",
       "      <td>A</td>\n",
       "      <td>chr4_98</td>\n",
       "    </tr>\n",
       "    <tr>\n",
       "      <th>chr3_39281932_C_G_b38</th>\n",
       "      <td>3</td>\n",
       "      <td>39281932</td>\n",
       "      <td>C</td>\n",
       "      <td>G</td>\n",
       "      <td>chr3_28</td>\n",
       "    </tr>\n",
       "    <tr>\n",
       "      <th>chr17_3661000_T_C_b38</th>\n",
       "      <td>17</td>\n",
       "      <td>3661000</td>\n",
       "      <td>T</td>\n",
       "      <td>C</td>\n",
       "      <td>chr17_3</td>\n",
       "    </tr>\n",
       "    <tr>\n",
       "      <th>chr12_120906687_G_T_b38</th>\n",
       "      <td>12</td>\n",
       "      <td>120906687</td>\n",
       "      <td>G</td>\n",
       "      <td>T</td>\n",
       "      <td>chr12_74</td>\n",
       "    </tr>\n",
       "    <tr>\n",
       "      <th>chr10_43575139_A_G_b38</th>\n",
       "      <td>10</td>\n",
       "      <td>43575139</td>\n",
       "      <td>A</td>\n",
       "      <td>G</td>\n",
       "      <td>chr10_30</td>\n",
       "    </tr>\n",
       "  </tbody>\n",
       "</table>\n",
       "</div>"
      ],
      "text/plain": [
       "                         chr   position ref_allele eff_allele  ld_block\n",
       "varID                                                                  \n",
       "chr4_152680407_C_A_b38     4  152680407          C          A   chr4_98\n",
       "chr3_39281932_C_G_b38      3   39281932          C          G   chr3_28\n",
       "chr17_3661000_T_C_b38     17    3661000          T          C   chr17_3\n",
       "chr12_120906687_G_T_b38   12  120906687          G          T  chr12_74\n",
       "chr10_43575139_A_G_b38    10   43575139          A          G  chr10_30"
      ]
     },
     "execution_count": 48,
     "metadata": {},
     "output_type": "execute_result"
    }
   ],
   "source": [
    "_tmp_df.head()"
   ]
  },
  {
   "cell_type": "code",
   "execution_count": 49,
   "id": "secure-trading",
   "metadata": {
    "execution": {
     "iopub.execute_input": "2021-04-27T18:11:30.011096Z",
     "iopub.status.busy": "2021-04-27T18:11:30.010682Z",
     "iopub.status.idle": "2021-04-27T18:11:30.018313Z",
     "shell.execute_reply": "2021-04-27T18:11:30.017937Z"
    },
    "papermill": {
     "duration": 0.039523,
     "end_time": "2021-04-27T18:11:30.018398",
     "exception": false,
     "start_time": "2021-04-27T18:11:29.978875",
     "status": "completed"
    },
    "tags": []
   },
   "outputs": [],
   "source": [
    "variants_ld_block_df = _tmp_df"
   ]
  },
  {
   "cell_type": "markdown",
   "id": "trained-refrigerator",
   "metadata": {
    "papermill": {
     "duration": 0.029226,
     "end_time": "2021-04-27T18:11:30.077713",
     "exception": false,
     "start_time": "2021-04-27T18:11:30.048487",
     "status": "completed"
    },
    "tags": []
   },
   "source": [
    "# Testing"
   ]
  },
  {
   "cell_type": "code",
   "execution_count": 50,
   "id": "exposed-quest",
   "metadata": {
    "execution": {
     "iopub.execute_input": "2021-04-27T18:11:30.139471Z",
     "iopub.status.busy": "2021-04-27T18:11:30.139114Z",
     "iopub.status.idle": "2021-04-27T18:11:30.331213Z",
     "shell.execute_reply": "2021-04-27T18:11:30.331550Z"
    },
    "papermill": {
     "duration": 0.224382,
     "end_time": "2021-04-27T18:11:30.331674",
     "exception": false,
     "start_time": "2021-04-27T18:11:30.107292",
     "status": "completed"
    },
    "tags": []
   },
   "outputs": [
    {
     "data": {
      "text/plain": [
       "ld_block\n",
       "chr10_1     1\n",
       "chr10_10    1\n",
       "chr10_11    1\n",
       "chr10_12    1\n",
       "chr10_13    1\n",
       "           ..\n",
       "chr9_72     1\n",
       "chr9_73     1\n",
       "chr9_74     1\n",
       "chr9_8      1\n",
       "chr9_9      1\n",
       "Length: 1668, dtype: int64"
      ]
     },
     "metadata": {},
     "output_type": "display_data"
    }
   ],
   "source": [
    "_unique_chr_per_ld_block = variants_ld_block_df.groupby(\"ld_block\").apply(\n",
    "    lambda x: x[\"chr\"].unique().shape[0]\n",
    ")\n",
    "display(_unique_chr_per_ld_block)"
   ]
  },
  {
   "cell_type": "code",
   "execution_count": 51,
   "id": "limited-messenger",
   "metadata": {
    "execution": {
     "iopub.execute_input": "2021-04-27T18:11:30.396850Z",
     "iopub.status.busy": "2021-04-27T18:11:30.396436Z",
     "iopub.status.idle": "2021-04-27T18:11:30.405624Z",
     "shell.execute_reply": "2021-04-27T18:11:30.405303Z"
    },
    "papermill": {
     "duration": 0.041217,
     "end_time": "2021-04-27T18:11:30.405706",
     "exception": false,
     "start_time": "2021-04-27T18:11:30.364489",
     "status": "completed"
    },
    "tags": []
   },
   "outputs": [
    {
     "data": {
      "text/plain": [
       "array([1])"
      ]
     },
     "metadata": {},
     "output_type": "display_data"
    }
   ],
   "source": [
    "display(_unique_chr_per_ld_block.unique())\n",
    "assert _unique_chr_per_ld_block.unique().shape[0] == 1\n",
    "assert _unique_chr_per_ld_block.unique()[0] == 1"
   ]
  },
  {
   "cell_type": "markdown",
   "id": "committed-wyoming",
   "metadata": {
    "papermill": {
     "duration": 0.030391,
     "end_time": "2021-04-27T18:11:30.467039",
     "exception": false,
     "start_time": "2021-04-27T18:11:30.436648",
     "status": "completed"
    },
    "tags": []
   },
   "source": [
    "# Save"
   ]
  },
  {
   "cell_type": "code",
   "execution_count": 52,
   "id": "based-inspection",
   "metadata": {
    "execution": {
     "iopub.execute_input": "2021-04-27T18:11:30.529643Z",
     "iopub.status.busy": "2021-04-27T18:11:30.529272Z",
     "iopub.status.idle": "2021-04-27T18:11:30.540980Z",
     "shell.execute_reply": "2021-04-27T18:11:30.540552Z"
    },
    "papermill": {
     "duration": 0.043901,
     "end_time": "2021-04-27T18:11:30.541062",
     "exception": false,
     "start_time": "2021-04-27T18:11:30.497161",
     "status": "completed"
    },
    "tags": []
   },
   "outputs": [
    {
     "data": {
      "text/html": [
       "<div>\n",
       "<style scoped>\n",
       "    .dataframe tbody tr th:only-of-type {\n",
       "        vertical-align: middle;\n",
       "    }\n",
       "\n",
       "    .dataframe tbody tr th {\n",
       "        vertical-align: top;\n",
       "    }\n",
       "\n",
       "    .dataframe thead th {\n",
       "        text-align: right;\n",
       "    }\n",
       "</style>\n",
       "<table border=\"1\" class=\"dataframe\">\n",
       "  <thead>\n",
       "    <tr style=\"text-align: right;\">\n",
       "      <th></th>\n",
       "      <th>chr</th>\n",
       "      <th>position</th>\n",
       "      <th>ref_allele</th>\n",
       "      <th>eff_allele</th>\n",
       "      <th>ld_block</th>\n",
       "    </tr>\n",
       "    <tr>\n",
       "      <th>varID</th>\n",
       "      <th></th>\n",
       "      <th></th>\n",
       "      <th></th>\n",
       "      <th></th>\n",
       "      <th></th>\n",
       "    </tr>\n",
       "  </thead>\n",
       "  <tbody>\n",
       "    <tr>\n",
       "      <th>chr4_152680407_C_A_b38</th>\n",
       "      <td>4</td>\n",
       "      <td>152680407</td>\n",
       "      <td>C</td>\n",
       "      <td>A</td>\n",
       "      <td>chr4_98</td>\n",
       "    </tr>\n",
       "    <tr>\n",
       "      <th>chr3_39281932_C_G_b38</th>\n",
       "      <td>3</td>\n",
       "      <td>39281932</td>\n",
       "      <td>C</td>\n",
       "      <td>G</td>\n",
       "      <td>chr3_28</td>\n",
       "    </tr>\n",
       "    <tr>\n",
       "      <th>chr17_3661000_T_C_b38</th>\n",
       "      <td>17</td>\n",
       "      <td>3661000</td>\n",
       "      <td>T</td>\n",
       "      <td>C</td>\n",
       "      <td>chr17_3</td>\n",
       "    </tr>\n",
       "    <tr>\n",
       "      <th>chr12_120906687_G_T_b38</th>\n",
       "      <td>12</td>\n",
       "      <td>120906687</td>\n",
       "      <td>G</td>\n",
       "      <td>T</td>\n",
       "      <td>chr12_74</td>\n",
       "    </tr>\n",
       "    <tr>\n",
       "      <th>chr10_43575139_A_G_b38</th>\n",
       "      <td>10</td>\n",
       "      <td>43575139</td>\n",
       "      <td>A</td>\n",
       "      <td>G</td>\n",
       "      <td>chr10_30</td>\n",
       "    </tr>\n",
       "  </tbody>\n",
       "</table>\n",
       "</div>"
      ],
      "text/plain": [
       "                         chr   position ref_allele eff_allele  ld_block\n",
       "varID                                                                  \n",
       "chr4_152680407_C_A_b38     4  152680407          C          A   chr4_98\n",
       "chr3_39281932_C_G_b38      3   39281932          C          G   chr3_28\n",
       "chr17_3661000_T_C_b38     17    3661000          T          C   chr17_3\n",
       "chr12_120906687_G_T_b38   12  120906687          G          T  chr12_74\n",
       "chr10_43575139_A_G_b38    10   43575139          A          G  chr10_30"
      ]
     },
     "execution_count": 52,
     "metadata": {},
     "output_type": "execute_result"
    }
   ],
   "source": [
    "variants_ld_block_df.head()"
   ]
  },
  {
   "cell_type": "code",
   "execution_count": 53,
   "id": "whole-gentleman",
   "metadata": {
    "execution": {
     "iopub.execute_input": "2021-04-27T18:11:30.609098Z",
     "iopub.status.busy": "2021-04-27T18:11:30.608683Z",
     "iopub.status.idle": "2021-04-27T18:11:30.616658Z",
     "shell.execute_reply": "2021-04-27T18:11:30.616278Z"
    },
    "papermill": {
     "duration": 0.043759,
     "end_time": "2021-04-27T18:11:30.616785",
     "exception": false,
     "start_time": "2021-04-27T18:11:30.573026",
     "status": "completed"
    },
    "tags": []
   },
   "outputs": [
    {
     "data": {
      "text/plain": [
       "PosixPath('/home/miltondp/projects/labs/greenelab/phenoplier/base/data/phenomexcan/ld_blocks/mashr_snps_ld_blocks.pkl')"
      ]
     },
     "metadata": {},
     "output_type": "display_data"
    }
   ],
   "source": [
    "output_file = conf.PHENOMEXCAN[\"LD_BLOCKS\"][\"BASE_DIR\"] / \"mashr_snps_ld_blocks.pkl\"\n",
    "display(output_file)"
   ]
  },
  {
   "cell_type": "code",
   "execution_count": 54,
   "id": "skilled-incidence",
   "metadata": {
    "execution": {
     "iopub.execute_input": "2021-04-27T18:11:30.682644Z",
     "iopub.status.busy": "2021-04-27T18:11:30.682286Z",
     "iopub.status.idle": "2021-04-27T18:11:30.805634Z",
     "shell.execute_reply": "2021-04-27T18:11:30.805221Z"
    },
    "papermill": {
     "duration": 0.156513,
     "end_time": "2021-04-27T18:11:30.805740",
     "exception": false,
     "start_time": "2021-04-27T18:11:30.649227",
     "status": "completed"
    },
    "tags": []
   },
   "outputs": [],
   "source": [
    "variants_ld_block_df.to_pickle(output_file)"
   ]
  },
  {
   "cell_type": "code",
   "execution_count": null,
   "id": "bulgarian-football",
   "metadata": {
    "papermill": {
     "duration": 0.031028,
     "end_time": "2021-04-27T18:11:30.876497",
     "exception": false,
     "start_time": "2021-04-27T18:11:30.845469",
     "status": "completed"
    },
    "tags": []
   },
   "outputs": [],
   "source": []
  }
 ],
 "metadata": {
  "jupytext": {
   "cell_metadata_filter": "all,-execution,-papermill,-trusted",
   "formats": "ipynb,py//py:percent"
  },
  "kernelspec": {
   "display_name": "Python 3",
   "language": "python",
   "name": "python3"
  },
  "language_info": {
   "codemirror_mode": {
    "name": "ipython",
    "version": 3
   },
   "file_extension": ".py",
   "mimetype": "text/x-python",
   "name": "python",
   "nbconvert_exporter": "python",
   "pygments_lexer": "ipython3",
   "version": "3.8.8"
  },
  "papermill": {
   "default_parameters": {},
   "duration": 14.083576,
   "end_time": "2021-04-27T18:11:31.414601",
   "environment_variables": {},
   "exception": null,
   "input_path": "08_gsa_gls/02-snps_into_ld_blocks.ipynb",
   "output_path": "08_gsa_gls/02-snps_into_ld_blocks.run.ipynb",
   "parameters": {},
   "start_time": "2021-04-27T18:11:17.331025",
   "version": "2.2.2"
  }
 },
 "nbformat": 4,
 "nbformat_minor": 5
}
