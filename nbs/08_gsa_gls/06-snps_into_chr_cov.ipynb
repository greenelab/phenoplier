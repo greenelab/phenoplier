{
 "cells": [
  {
   "cell_type": "markdown",
   "id": "juvenile-romania",
   "metadata": {
    "papermill": {
     "duration": 0.029706,
     "end_time": "2021-04-29T02:33:22.235551",
     "exception": false,
     "start_time": "2021-04-29T02:33:22.205845",
     "status": "completed"
    },
    "tags": []
   },
   "source": [
    "# Description"
   ]
  },
  {
   "cell_type": "markdown",
   "id": "entertaining-elimination",
   "metadata": {
    "papermill": {
     "duration": 0.025606,
     "end_time": "2021-04-29T02:33:22.286779",
     "exception": false,
     "start_time": "2021-04-29T02:33:22.261173",
     "status": "completed"
    },
    "tags": []
   },
   "source": [
    "This notebook computes the covariance of SNPs for each chr."
   ]
  },
  {
   "cell_type": "markdown",
   "id": "divided-figure",
   "metadata": {
    "papermill": {
     "duration": 0.025836,
     "end_time": "2021-04-29T02:33:22.338415",
     "exception": false,
     "start_time": "2021-04-29T02:33:22.312579",
     "status": "completed"
    },
    "tags": []
   },
   "source": [
    "# Modules"
   ]
  },
  {
   "cell_type": "code",
   "execution_count": 1,
   "id": "antique-norfolk",
   "metadata": {
    "execution": {
     "iopub.execute_input": "2021-04-29T02:33:22.396107Z",
     "iopub.status.busy": "2021-04-29T02:33:22.395726Z",
     "iopub.status.idle": "2021-04-29T02:33:22.403100Z",
     "shell.execute_reply": "2021-04-29T02:33:22.402674Z"
    },
    "papermill": {
     "duration": 0.038636,
     "end_time": "2021-04-29T02:33:22.403189",
     "exception": false,
     "start_time": "2021-04-29T02:33:22.364553",
     "status": "completed"
    },
    "tags": []
   },
   "outputs": [],
   "source": [
    "%load_ext autoreload\n",
    "%autoreload 2"
   ]
  },
  {
   "cell_type": "code",
   "execution_count": 2,
   "id": "contemporary-selling",
   "metadata": {
    "execution": {
     "iopub.execute_input": "2021-04-29T02:33:22.458884Z",
     "iopub.status.busy": "2021-04-29T02:33:22.458518Z",
     "iopub.status.idle": "2021-04-29T02:33:22.826015Z",
     "shell.execute_reply": "2021-04-29T02:33:22.825617Z"
    },
    "papermill": {
     "duration": 0.395615,
     "end_time": "2021-04-29T02:33:22.826110",
     "exception": false,
     "start_time": "2021-04-29T02:33:22.430495",
     "status": "completed"
    },
    "tags": []
   },
   "outputs": [],
   "source": [
    "import sqlite3\n",
    "\n",
    "import numpy as np\n",
    "import pandas as pd\n",
    "from tqdm import tqdm\n",
    "\n",
    "import conf\n",
    "from entity import Gene"
   ]
  },
  {
   "cell_type": "markdown",
   "id": "removed-forty",
   "metadata": {
    "papermill": {
     "duration": 0.025698,
     "end_time": "2021-04-29T02:33:22.879876",
     "exception": false,
     "start_time": "2021-04-29T02:33:22.854178",
     "status": "completed"
    },
    "tags": []
   },
   "source": [
    "# Load data"
   ]
  },
  {
   "cell_type": "markdown",
   "id": "cleared-criterion",
   "metadata": {
    "papermill": {
     "duration": 0.02524,
     "end_time": "2021-04-29T02:33:22.930845",
     "exception": false,
     "start_time": "2021-04-29T02:33:22.905605",
     "status": "completed"
    },
    "tags": []
   },
   "source": [
    "## SNPs in predictions models"
   ]
  },
  {
   "cell_type": "code",
   "execution_count": 3,
   "id": "opening-reaction",
   "metadata": {
    "execution": {
     "iopub.execute_input": "2021-04-29T02:33:22.984328Z",
     "iopub.status.busy": "2021-04-29T02:33:22.983968Z",
     "iopub.status.idle": "2021-04-29T02:33:22.991510Z",
     "shell.execute_reply": "2021-04-29T02:33:22.991211Z"
    },
    "papermill": {
     "duration": 0.035394,
     "end_time": "2021-04-29T02:33:22.991593",
     "exception": false,
     "start_time": "2021-04-29T02:33:22.956199",
     "status": "completed"
    },
    "tags": []
   },
   "outputs": [],
   "source": [
    "mashr_models_db_files = list(\n",
    "    conf.PHENOMEXCAN[\"PREDICTION_MODELS\"][\"MASHR\"].glob(\"*.db\")\n",
    ")"
   ]
  },
  {
   "cell_type": "code",
   "execution_count": 4,
   "id": "parliamentary-russell",
   "metadata": {
    "execution": {
     "iopub.execute_input": "2021-04-29T02:33:23.045727Z",
     "iopub.status.busy": "2021-04-29T02:33:23.045356Z",
     "iopub.status.idle": "2021-04-29T02:33:23.051989Z",
     "shell.execute_reply": "2021-04-29T02:33:23.051694Z"
    },
    "papermill": {
     "duration": 0.034427,
     "end_time": "2021-04-29T02:33:23.052074",
     "exception": false,
     "start_time": "2021-04-29T02:33:23.017647",
     "status": "completed"
    },
    "tags": []
   },
   "outputs": [],
   "source": [
    "assert len(mashr_models_db_files) == 49"
   ]
  },
  {
   "cell_type": "code",
   "execution_count": 5,
   "id": "honey-float",
   "metadata": {
    "execution": {
     "iopub.execute_input": "2021-04-29T02:33:23.107410Z",
     "iopub.status.busy": "2021-04-29T02:33:23.107044Z",
     "iopub.status.idle": "2021-04-29T02:33:24.634498Z",
     "shell.execute_reply": "2021-04-29T02:33:24.634093Z"
    },
    "papermill": {
     "duration": 1.556328,
     "end_time": "2021-04-29T02:33:24.634597",
     "exception": false,
     "start_time": "2021-04-29T02:33:23.078269",
     "status": "completed"
    },
    "tags": []
   },
   "outputs": [
    {
     "name": "stdout",
     "output_type": "stream",
     "text": [
      "Processing mashr_Skin_Not_Sun_Exposed_Suprapubic.db\n",
      "Processing mashr_Cells_EBV-transformed_lymphocytes.db\n",
      "Processing mashr_Brain_Frontal_Cortex_BA9.db\n",
      "Processing mashr_Kidney_Cortex.db\n",
      "Processing mashr_Brain_Substantia_nigra.db\n",
      "Processing mashr_Spleen.db\n",
      "Processing mashr_Colon_Transverse.db\n"
     ]
    },
    {
     "name": "stdout",
     "output_type": "stream",
     "text": [
      "Processing mashr_Heart_Left_Ventricle.db\n",
      "Processing mashr_Lung.db\n",
      "Processing mashr_Muscle_Skeletal.db\n",
      "Processing mashr_Brain_Hypothalamus.db\n",
      "Processing mashr_Brain_Cortex.db\n",
      "Processing mashr_Brain_Amygdala.db\n",
      "Processing mashr_Esophagus_Mucosa.db\n"
     ]
    },
    {
     "name": "stdout",
     "output_type": "stream",
     "text": [
      "Processing mashr_Adrenal_Gland.db\n",
      "Processing mashr_Uterus.db\n",
      "Processing mashr_Prostate.db\n",
      "Processing mashr_Whole_Blood.db\n",
      "Processing mashr_Pituitary.db\n",
      "Processing mashr_Esophagus_Gastroesophageal_Junction.db\n",
      "Processing mashr_Stomach.db\n"
     ]
    },
    {
     "name": "stdout",
     "output_type": "stream",
     "text": [
      "Processing mashr_Heart_Atrial_Appendage.db\n",
      "Processing mashr_Brain_Cerebellum.db\n",
      "Processing mashr_Breast_Mammary_Tissue.db\n",
      "Processing mashr_Artery_Tibial.db\n",
      "Processing mashr_Artery_Aorta.db\n",
      "Processing mashr_Small_Intestine_Terminal_Ileum.db\n",
      "Processing mashr_Brain_Hippocampus.db\n"
     ]
    },
    {
     "name": "stdout",
     "output_type": "stream",
     "text": [
      "Processing mashr_Testis.db\n",
      "Processing mashr_Brain_Putamen_basal_ganglia.db\n",
      "Processing mashr_Pancreas.db\n",
      "Processing mashr_Adipose_Subcutaneous.db\n",
      "Processing mashr_Brain_Cerebellar_Hemisphere.db\n",
      "Processing mashr_Colon_Sigmoid.db\n",
      "Processing mashr_Minor_Salivary_Gland.db\n"
     ]
    },
    {
     "name": "stdout",
     "output_type": "stream",
     "text": [
      "Processing mashr_Cells_Cultured_fibroblasts.db\n",
      "Processing mashr_Brain_Nucleus_accumbens_basal_ganglia.db\n",
      "Processing mashr_Brain_Anterior_cingulate_cortex_BA24.db\n",
      "Processing mashr_Vagina.db\n",
      "Processing mashr_Ovary.db\n",
      "Processing mashr_Skin_Sun_Exposed_Lower_leg.db\n",
      "Processing mashr_Esophagus_Muscularis.db\n"
     ]
    },
    {
     "name": "stdout",
     "output_type": "stream",
     "text": [
      "Processing mashr_Brain_Spinal_cord_cervical_c-1.db\n",
      "Processing mashr_Artery_Coronary.db\n",
      "Processing mashr_Thyroid.db\n",
      "Processing mashr_Brain_Caudate_basal_ganglia.db\n",
      "Processing mashr_Adipose_Visceral_Omentum.db\n",
      "Processing mashr_Nerve_Tibial.db\n",
      "Processing mashr_Liver.db\n"
     ]
    }
   ],
   "source": [
    "all_variants_ids = []\n",
    "\n",
    "for m in mashr_models_db_files:\n",
    "    print(f\"Processing {m.name}\")\n",
    "    tissue = m.name.split(\"mashr_\")[1].split(\".db\")[0]\n",
    "\n",
    "    with sqlite3.connect(m) as conn:\n",
    "        df = pd.read_sql(\"select gene, varID from weights\", conn)\n",
    "        df[\"gene\"] = df[\"gene\"].apply(lambda x: x.split(\".\")[0])\n",
    "        df = df.assign(tissue=tissue)\n",
    "\n",
    "        all_variants_ids.append(df)"
   ]
  },
  {
   "cell_type": "code",
   "execution_count": 6,
   "id": "worthy-reporter",
   "metadata": {
    "execution": {
     "iopub.execute_input": "2021-04-29T02:33:24.699411Z",
     "iopub.status.busy": "2021-04-29T02:33:24.699051Z",
     "iopub.status.idle": "2021-04-29T02:33:24.839639Z",
     "shell.execute_reply": "2021-04-29T02:33:24.840004Z"
    },
    "papermill": {
     "duration": 0.173163,
     "end_time": "2021-04-29T02:33:24.840135",
     "exception": false,
     "start_time": "2021-04-29T02:33:24.666972",
     "status": "completed"
    },
    "tags": []
   },
   "outputs": [],
   "source": [
    "all_gene_snps = pd.concat(all_variants_ids, ignore_index=True)"
   ]
  },
  {
   "cell_type": "code",
   "execution_count": 7,
   "id": "plain-france",
   "metadata": {
    "execution": {
     "iopub.execute_input": "2021-04-29T02:33:24.905438Z",
     "iopub.status.busy": "2021-04-29T02:33:24.905067Z",
     "iopub.status.idle": "2021-04-29T02:33:24.916891Z",
     "shell.execute_reply": "2021-04-29T02:33:24.916478Z"
    },
    "papermill": {
     "duration": 0.041776,
     "end_time": "2021-04-29T02:33:24.916977",
     "exception": false,
     "start_time": "2021-04-29T02:33:24.875201",
     "status": "completed"
    },
    "tags": []
   },
   "outputs": [
    {
     "data": {
      "text/plain": [
       "(1132714, 3)"
      ]
     },
     "execution_count": 7,
     "metadata": {},
     "output_type": "execute_result"
    }
   ],
   "source": [
    "all_gene_snps.shape"
   ]
  },
  {
   "cell_type": "code",
   "execution_count": 8,
   "id": "willing-bouquet",
   "metadata": {
    "execution": {
     "iopub.execute_input": "2021-04-29T02:33:24.974216Z",
     "iopub.status.busy": "2021-04-29T02:33:24.973860Z",
     "iopub.status.idle": "2021-04-29T02:33:24.985861Z",
     "shell.execute_reply": "2021-04-29T02:33:24.985473Z"
    },
    "papermill": {
     "duration": 0.04155,
     "end_time": "2021-04-29T02:33:24.985962",
     "exception": false,
     "start_time": "2021-04-29T02:33:24.944412",
     "status": "completed"
    },
    "tags": []
   },
   "outputs": [
    {
     "data": {
      "text/html": [
       "<div>\n",
       "<style scoped>\n",
       "    .dataframe tbody tr th:only-of-type {\n",
       "        vertical-align: middle;\n",
       "    }\n",
       "\n",
       "    .dataframe tbody tr th {\n",
       "        vertical-align: top;\n",
       "    }\n",
       "\n",
       "    .dataframe thead th {\n",
       "        text-align: right;\n",
       "    }\n",
       "</style>\n",
       "<table border=\"1\" class=\"dataframe\">\n",
       "  <thead>\n",
       "    <tr style=\"text-align: right;\">\n",
       "      <th></th>\n",
       "      <th>gene</th>\n",
       "      <th>varID</th>\n",
       "      <th>tissue</th>\n",
       "    </tr>\n",
       "  </thead>\n",
       "  <tbody>\n",
       "    <tr>\n",
       "      <th>0</th>\n",
       "      <td>ENSG00000169583</td>\n",
       "      <td>chr9_136996001_G_A_b38</td>\n",
       "      <td>Skin_Not_Sun_Exposed_Suprapubic</td>\n",
       "    </tr>\n",
       "    <tr>\n",
       "      <th>1</th>\n",
       "      <td>ENSG00000107331</td>\n",
       "      <td>chr9_137029055_C_CA_b38</td>\n",
       "      <td>Skin_Not_Sun_Exposed_Suprapubic</td>\n",
       "    </tr>\n",
       "    <tr>\n",
       "      <th>2</th>\n",
       "      <td>ENSG00000107331</td>\n",
       "      <td>chr9_137029407_T_G_b38</td>\n",
       "      <td>Skin_Not_Sun_Exposed_Suprapubic</td>\n",
       "    </tr>\n",
       "    <tr>\n",
       "      <th>3</th>\n",
       "      <td>ENSG00000180549</td>\n",
       "      <td>chr9_137031950_T_C_b38</td>\n",
       "      <td>Skin_Not_Sun_Exposed_Suprapubic</td>\n",
       "    </tr>\n",
       "    <tr>\n",
       "      <th>4</th>\n",
       "      <td>ENSG00000180549</td>\n",
       "      <td>chr9_137032610_A_G_b38</td>\n",
       "      <td>Skin_Not_Sun_Exposed_Suprapubic</td>\n",
       "    </tr>\n",
       "  </tbody>\n",
       "</table>\n",
       "</div>"
      ],
      "text/plain": [
       "              gene                    varID                           tissue\n",
       "0  ENSG00000169583   chr9_136996001_G_A_b38  Skin_Not_Sun_Exposed_Suprapubic\n",
       "1  ENSG00000107331  chr9_137029055_C_CA_b38  Skin_Not_Sun_Exposed_Suprapubic\n",
       "2  ENSG00000107331   chr9_137029407_T_G_b38  Skin_Not_Sun_Exposed_Suprapubic\n",
       "3  ENSG00000180549   chr9_137031950_T_C_b38  Skin_Not_Sun_Exposed_Suprapubic\n",
       "4  ENSG00000180549   chr9_137032610_A_G_b38  Skin_Not_Sun_Exposed_Suprapubic"
      ]
     },
     "execution_count": 8,
     "metadata": {},
     "output_type": "execute_result"
    }
   ],
   "source": [
    "all_gene_snps.head()"
   ]
  },
  {
   "cell_type": "code",
   "execution_count": 9,
   "id": "material-purpose",
   "metadata": {
    "execution": {
     "iopub.execute_input": "2021-04-29T02:33:25.045299Z",
     "iopub.status.busy": "2021-04-29T02:33:25.044933Z",
     "iopub.status.idle": "2021-04-29T02:33:25.374238Z",
     "shell.execute_reply": "2021-04-29T02:33:25.373739Z"
    },
    "papermill": {
     "duration": 0.359191,
     "end_time": "2021-04-29T02:33:25.374346",
     "exception": false,
     "start_time": "2021-04-29T02:33:25.015155",
     "status": "completed"
    },
    "tags": []
   },
   "outputs": [],
   "source": [
    "all_snps_in_models = set(all_gene_snps[\"varID\"].unique())"
   ]
  },
  {
   "cell_type": "markdown",
   "id": "surface-disease",
   "metadata": {
    "papermill": {
     "duration": 0.029651,
     "end_time": "2021-04-29T02:33:25.439844",
     "exception": false,
     "start_time": "2021-04-29T02:33:25.410193",
     "status": "completed"
    },
    "tags": []
   },
   "source": [
    "## MultiPLIER Z"
   ]
  },
  {
   "cell_type": "code",
   "execution_count": 10,
   "id": "usual-welding",
   "metadata": {
    "execution": {
     "iopub.execute_input": "2021-04-29T02:33:25.497646Z",
     "iopub.status.busy": "2021-04-29T02:33:25.497271Z",
     "iopub.status.idle": "2021-04-29T02:33:25.524674Z",
     "shell.execute_reply": "2021-04-29T02:33:25.524312Z"
    },
    "papermill": {
     "duration": 0.057363,
     "end_time": "2021-04-29T02:33:25.524773",
     "exception": false,
     "start_time": "2021-04-29T02:33:25.467410",
     "status": "completed"
    },
    "tags": []
   },
   "outputs": [],
   "source": [
    "multiplier_z = pd.read_pickle(conf.MULTIPLIER[\"MODEL_Z_MATRIX_FILE\"])"
   ]
  },
  {
   "cell_type": "code",
   "execution_count": 11,
   "id": "renewable-utilization",
   "metadata": {
    "execution": {
     "iopub.execute_input": "2021-04-29T02:33:25.584115Z",
     "iopub.status.busy": "2021-04-29T02:33:25.583757Z",
     "iopub.status.idle": "2021-04-29T02:33:25.591235Z",
     "shell.execute_reply": "2021-04-29T02:33:25.591503Z"
    },
    "papermill": {
     "duration": 0.036926,
     "end_time": "2021-04-29T02:33:25.591604",
     "exception": false,
     "start_time": "2021-04-29T02:33:25.554678",
     "status": "completed"
    },
    "tags": []
   },
   "outputs": [
    {
     "data": {
      "text/plain": [
       "(6750, 987)"
      ]
     },
     "execution_count": 11,
     "metadata": {},
     "output_type": "execute_result"
    }
   ],
   "source": [
    "multiplier_z.shape"
   ]
  },
  {
   "cell_type": "code",
   "execution_count": 12,
   "id": "completed-inspiration",
   "metadata": {
    "execution": {
     "iopub.execute_input": "2021-04-29T02:33:25.650067Z",
     "iopub.status.busy": "2021-04-29T02:33:25.649691Z",
     "iopub.status.idle": "2021-04-29T02:33:25.671930Z",
     "shell.execute_reply": "2021-04-29T02:33:25.671547Z"
    },
    "papermill": {
     "duration": 0.052146,
     "end_time": "2021-04-29T02:33:25.672029",
     "exception": false,
     "start_time": "2021-04-29T02:33:25.619883",
     "status": "completed"
    },
    "tags": []
   },
   "outputs": [
    {
     "data": {
      "text/html": [
       "<div>\n",
       "<style scoped>\n",
       "    .dataframe tbody tr th:only-of-type {\n",
       "        vertical-align: middle;\n",
       "    }\n",
       "\n",
       "    .dataframe tbody tr th {\n",
       "        vertical-align: top;\n",
       "    }\n",
       "\n",
       "    .dataframe thead th {\n",
       "        text-align: right;\n",
       "    }\n",
       "</style>\n",
       "<table border=\"1\" class=\"dataframe\">\n",
       "  <thead>\n",
       "    <tr style=\"text-align: right;\">\n",
       "      <th></th>\n",
       "      <th>LV1</th>\n",
       "      <th>LV2</th>\n",
       "      <th>LV3</th>\n",
       "      <th>LV4</th>\n",
       "      <th>LV5</th>\n",
       "      <th>LV6</th>\n",
       "      <th>LV7</th>\n",
       "      <th>LV8</th>\n",
       "      <th>LV9</th>\n",
       "      <th>LV10</th>\n",
       "      <th>...</th>\n",
       "      <th>LV978</th>\n",
       "      <th>LV979</th>\n",
       "      <th>LV980</th>\n",
       "      <th>LV981</th>\n",
       "      <th>LV982</th>\n",
       "      <th>LV983</th>\n",
       "      <th>LV984</th>\n",
       "      <th>LV985</th>\n",
       "      <th>LV986</th>\n",
       "      <th>LV987</th>\n",
       "    </tr>\n",
       "  </thead>\n",
       "  <tbody>\n",
       "    <tr>\n",
       "      <th>GAS6</th>\n",
       "      <td>0.000000</td>\n",
       "      <td>0.0</td>\n",
       "      <td>0.039438</td>\n",
       "      <td>0.0</td>\n",
       "      <td>0.050476</td>\n",
       "      <td>0.000000</td>\n",
       "      <td>0.0</td>\n",
       "      <td>0.000000</td>\n",
       "      <td>0.590949</td>\n",
       "      <td>0.000000</td>\n",
       "      <td>...</td>\n",
       "      <td>0.050125</td>\n",
       "      <td>0.00000</td>\n",
       "      <td>0.033407</td>\n",
       "      <td>0.000000</td>\n",
       "      <td>0.000000</td>\n",
       "      <td>0.005963</td>\n",
       "      <td>0.347362</td>\n",
       "      <td>0.0</td>\n",
       "      <td>0.000000</td>\n",
       "      <td>0.000000</td>\n",
       "    </tr>\n",
       "    <tr>\n",
       "      <th>MMP14</th>\n",
       "      <td>0.000000</td>\n",
       "      <td>0.0</td>\n",
       "      <td>0.000000</td>\n",
       "      <td>0.0</td>\n",
       "      <td>0.070072</td>\n",
       "      <td>0.000000</td>\n",
       "      <td>0.0</td>\n",
       "      <td>0.004904</td>\n",
       "      <td>1.720179</td>\n",
       "      <td>2.423595</td>\n",
       "      <td>...</td>\n",
       "      <td>0.000000</td>\n",
       "      <td>0.00000</td>\n",
       "      <td>0.001007</td>\n",
       "      <td>0.000000</td>\n",
       "      <td>0.035747</td>\n",
       "      <td>0.000000</td>\n",
       "      <td>0.000000</td>\n",
       "      <td>0.0</td>\n",
       "      <td>0.014978</td>\n",
       "      <td>0.000000</td>\n",
       "    </tr>\n",
       "    <tr>\n",
       "      <th>DSP</th>\n",
       "      <td>0.000000</td>\n",
       "      <td>0.0</td>\n",
       "      <td>0.000000</td>\n",
       "      <td>0.0</td>\n",
       "      <td>0.000000</td>\n",
       "      <td>0.041697</td>\n",
       "      <td>0.0</td>\n",
       "      <td>0.005718</td>\n",
       "      <td>0.000000</td>\n",
       "      <td>0.000000</td>\n",
       "      <td>...</td>\n",
       "      <td>0.020853</td>\n",
       "      <td>0.00000</td>\n",
       "      <td>0.000000</td>\n",
       "      <td>0.000000</td>\n",
       "      <td>0.000000</td>\n",
       "      <td>0.005774</td>\n",
       "      <td>0.000000</td>\n",
       "      <td>0.0</td>\n",
       "      <td>0.000000</td>\n",
       "      <td>0.416405</td>\n",
       "    </tr>\n",
       "    <tr>\n",
       "      <th>MARCKSL1</th>\n",
       "      <td>0.305212</td>\n",
       "      <td>0.0</td>\n",
       "      <td>0.000000</td>\n",
       "      <td>0.0</td>\n",
       "      <td>0.000000</td>\n",
       "      <td>0.000000</td>\n",
       "      <td>0.0</td>\n",
       "      <td>0.000000</td>\n",
       "      <td>0.161843</td>\n",
       "      <td>0.149471</td>\n",
       "      <td>...</td>\n",
       "      <td>0.027134</td>\n",
       "      <td>0.05272</td>\n",
       "      <td>0.000000</td>\n",
       "      <td>0.030189</td>\n",
       "      <td>0.060884</td>\n",
       "      <td>0.000000</td>\n",
       "      <td>0.000000</td>\n",
       "      <td>0.0</td>\n",
       "      <td>0.000000</td>\n",
       "      <td>0.448480</td>\n",
       "    </tr>\n",
       "    <tr>\n",
       "      <th>SPARC</th>\n",
       "      <td>0.000000</td>\n",
       "      <td>0.0</td>\n",
       "      <td>0.000000</td>\n",
       "      <td>0.0</td>\n",
       "      <td>0.000000</td>\n",
       "      <td>0.000000</td>\n",
       "      <td>0.0</td>\n",
       "      <td>0.000000</td>\n",
       "      <td>0.000000</td>\n",
       "      <td>0.014014</td>\n",
       "      <td>...</td>\n",
       "      <td>0.000000</td>\n",
       "      <td>0.00000</td>\n",
       "      <td>0.000000</td>\n",
       "      <td>0.000000</td>\n",
       "      <td>0.000000</td>\n",
       "      <td>0.000000</td>\n",
       "      <td>0.067779</td>\n",
       "      <td>0.0</td>\n",
       "      <td>0.122417</td>\n",
       "      <td>0.062665</td>\n",
       "    </tr>\n",
       "  </tbody>\n",
       "</table>\n",
       "<p>5 rows × 987 columns</p>\n",
       "</div>"
      ],
      "text/plain": [
       "               LV1  LV2       LV3  LV4       LV5       LV6  LV7       LV8  \\\n",
       "GAS6      0.000000  0.0  0.039438  0.0  0.050476  0.000000  0.0  0.000000   \n",
       "MMP14     0.000000  0.0  0.000000  0.0  0.070072  0.000000  0.0  0.004904   \n",
       "DSP       0.000000  0.0  0.000000  0.0  0.000000  0.041697  0.0  0.005718   \n",
       "MARCKSL1  0.305212  0.0  0.000000  0.0  0.000000  0.000000  0.0  0.000000   \n",
       "SPARC     0.000000  0.0  0.000000  0.0  0.000000  0.000000  0.0  0.000000   \n",
       "\n",
       "               LV9      LV10  ...     LV978    LV979     LV980     LV981  \\\n",
       "GAS6      0.590949  0.000000  ...  0.050125  0.00000  0.033407  0.000000   \n",
       "MMP14     1.720179  2.423595  ...  0.000000  0.00000  0.001007  0.000000   \n",
       "DSP       0.000000  0.000000  ...  0.020853  0.00000  0.000000  0.000000   \n",
       "MARCKSL1  0.161843  0.149471  ...  0.027134  0.05272  0.000000  0.030189   \n",
       "SPARC     0.000000  0.014014  ...  0.000000  0.00000  0.000000  0.000000   \n",
       "\n",
       "             LV982     LV983     LV984  LV985     LV986     LV987  \n",
       "GAS6      0.000000  0.005963  0.347362    0.0  0.000000  0.000000  \n",
       "MMP14     0.035747  0.000000  0.000000    0.0  0.014978  0.000000  \n",
       "DSP       0.000000  0.005774  0.000000    0.0  0.000000  0.416405  \n",
       "MARCKSL1  0.060884  0.000000  0.000000    0.0  0.000000  0.448480  \n",
       "SPARC     0.000000  0.000000  0.067779    0.0  0.122417  0.062665  \n",
       "\n",
       "[5 rows x 987 columns]"
      ]
     },
     "execution_count": 12,
     "metadata": {},
     "output_type": "execute_result"
    }
   ],
   "source": [
    "multiplier_z.head()"
   ]
  },
  {
   "cell_type": "markdown",
   "id": "bulgarian-creator",
   "metadata": {
    "papermill": {
     "duration": 0.028672,
     "end_time": "2021-04-29T02:33:25.731828",
     "exception": false,
     "start_time": "2021-04-29T02:33:25.703156",
     "status": "completed"
    },
    "tags": []
   },
   "source": [
    "## 1000G variants metadata"
   ]
  },
  {
   "cell_type": "code",
   "execution_count": 13,
   "id": "fatal-pipeline",
   "metadata": {
    "execution": {
     "iopub.execute_input": "2021-04-29T02:33:25.790846Z",
     "iopub.status.busy": "2021-04-29T02:33:25.790489Z",
     "iopub.status.idle": "2021-04-29T02:33:25.798550Z",
     "shell.execute_reply": "2021-04-29T02:33:25.798188Z"
    },
    "papermill": {
     "duration": 0.03869,
     "end_time": "2021-04-29T02:33:25.798632",
     "exception": false,
     "start_time": "2021-04-29T02:33:25.759942",
     "status": "completed"
    },
    "tags": []
   },
   "outputs": [
    {
     "data": {
      "text/plain": [
       "PosixPath('/home/miltondp/projects/labs/greenelab/phenoplier/base/data/phenomexcan/ld_blocks/reference_panel_1000G/variant_metadata.parquet')"
      ]
     },
     "metadata": {},
     "output_type": "display_data"
    }
   ],
   "source": [
    "input_file = (\n",
    "    conf.PHENOMEXCAN[\"LD_BLOCKS\"][\"1000G_GENOTYPE_DIR\"] / \"variant_metadata.parquet\"\n",
    ")\n",
    "display(input_file)"
   ]
  },
  {
   "cell_type": "code",
   "execution_count": 14,
   "id": "useful-hamburg",
   "metadata": {
    "execution": {
     "iopub.execute_input": "2021-04-29T02:33:25.857729Z",
     "iopub.status.busy": "2021-04-29T02:33:25.857351Z",
     "iopub.status.idle": "2021-04-29T02:33:31.815062Z",
     "shell.execute_reply": "2021-04-29T02:33:31.814728Z"
    },
    "papermill": {
     "duration": 5.987696,
     "end_time": "2021-04-29T02:33:31.815153",
     "exception": false,
     "start_time": "2021-04-29T02:33:25.827457",
     "status": "completed"
    },
    "tags": []
   },
   "outputs": [],
   "source": [
    "variants_metadata = pd.read_parquet(input_file, columns=[\"id\"])"
   ]
  },
  {
   "cell_type": "code",
   "execution_count": 15,
   "id": "sweet-heating",
   "metadata": {
    "execution": {
     "iopub.execute_input": "2021-04-29T02:33:31.875408Z",
     "iopub.status.busy": "2021-04-29T02:33:31.875034Z",
     "iopub.status.idle": "2021-04-29T02:33:31.885059Z",
     "shell.execute_reply": "2021-04-29T02:33:31.884654Z"
    },
    "papermill": {
     "duration": 0.040661,
     "end_time": "2021-04-29T02:33:31.885141",
     "exception": false,
     "start_time": "2021-04-29T02:33:31.844480",
     "status": "completed"
    },
    "tags": []
   },
   "outputs": [
    {
     "data": {
      "text/plain": [
       "(27731498, 1)"
      ]
     },
     "execution_count": 15,
     "metadata": {},
     "output_type": "execute_result"
    }
   ],
   "source": [
    "variants_metadata.shape"
   ]
  },
  {
   "cell_type": "code",
   "execution_count": 16,
   "id": "first-tournament",
   "metadata": {
    "execution": {
     "iopub.execute_input": "2021-04-29T02:33:31.944169Z",
     "iopub.status.busy": "2021-04-29T02:33:31.943787Z",
     "iopub.status.idle": "2021-04-29T02:33:31.955501Z",
     "shell.execute_reply": "2021-04-29T02:33:31.955126Z"
    },
    "papermill": {
     "duration": 0.04199,
     "end_time": "2021-04-29T02:33:31.955583",
     "exception": false,
     "start_time": "2021-04-29T02:33:31.913593",
     "status": "completed"
    },
    "tags": []
   },
   "outputs": [
    {
     "data": {
      "text/html": [
       "<div>\n",
       "<style scoped>\n",
       "    .dataframe tbody tr th:only-of-type {\n",
       "        vertical-align: middle;\n",
       "    }\n",
       "\n",
       "    .dataframe tbody tr th {\n",
       "        vertical-align: top;\n",
       "    }\n",
       "\n",
       "    .dataframe thead th {\n",
       "        text-align: right;\n",
       "    }\n",
       "</style>\n",
       "<table border=\"1\" class=\"dataframe\">\n",
       "  <thead>\n",
       "    <tr style=\"text-align: right;\">\n",
       "      <th></th>\n",
       "      <th>id</th>\n",
       "    </tr>\n",
       "  </thead>\n",
       "  <tbody>\n",
       "    <tr>\n",
       "      <th>0</th>\n",
       "      <td>chr1_17496_AC_A_b38</td>\n",
       "    </tr>\n",
       "    <tr>\n",
       "      <th>1</th>\n",
       "      <td>chr1_54490_G_A_b38</td>\n",
       "    </tr>\n",
       "    <tr>\n",
       "      <th>2</th>\n",
       "      <td>chr1_55330_G_A_b38</td>\n",
       "    </tr>\n",
       "    <tr>\n",
       "      <th>3</th>\n",
       "      <td>chr1_55416_G_A_b38</td>\n",
       "    </tr>\n",
       "    <tr>\n",
       "      <th>4</th>\n",
       "      <td>chr1_62157_G_A_b38</td>\n",
       "    </tr>\n",
       "  </tbody>\n",
       "</table>\n",
       "</div>"
      ],
      "text/plain": [
       "                    id\n",
       "0  chr1_17496_AC_A_b38\n",
       "1   chr1_54490_G_A_b38\n",
       "2   chr1_55330_G_A_b38\n",
       "3   chr1_55416_G_A_b38\n",
       "4   chr1_62157_G_A_b38"
      ]
     },
     "execution_count": 16,
     "metadata": {},
     "output_type": "execute_result"
    }
   ],
   "source": [
    "variants_metadata.head()"
   ]
  },
  {
   "cell_type": "code",
   "execution_count": 17,
   "id": "accomplished-fetish",
   "metadata": {
    "execution": {
     "iopub.execute_input": "2021-04-29T02:33:32.015499Z",
     "iopub.status.busy": "2021-04-29T02:33:32.015136Z",
     "iopub.status.idle": "2021-04-29T02:33:39.590731Z",
     "shell.execute_reply": "2021-04-29T02:33:39.590242Z"
    },
    "papermill": {
     "duration": 7.606803,
     "end_time": "2021-04-29T02:33:39.590838",
     "exception": false,
     "start_time": "2021-04-29T02:33:31.984035",
     "status": "completed"
    },
    "tags": []
   },
   "outputs": [],
   "source": [
    "variants_ids_with_genotype = set(variants_metadata[\"id\"])"
   ]
  },
  {
   "cell_type": "code",
   "execution_count": 18,
   "id": "fundamental-james",
   "metadata": {
    "execution": {
     "iopub.execute_input": "2021-04-29T02:33:39.659183Z",
     "iopub.status.busy": "2021-04-29T02:33:39.658822Z",
     "iopub.status.idle": "2021-04-29T02:33:39.668344Z",
     "shell.execute_reply": "2021-04-29T02:33:39.667959Z"
    },
    "papermill": {
     "duration": 0.041469,
     "end_time": "2021-04-29T02:33:39.668426",
     "exception": false,
     "start_time": "2021-04-29T02:33:39.626957",
     "status": "completed"
    },
    "tags": []
   },
   "outputs": [
    {
     "data": {
      "text/plain": [
       "27731498"
      ]
     },
     "execution_count": 18,
     "metadata": {},
     "output_type": "execute_result"
    }
   ],
   "source": [
    "len(variants_ids_with_genotype)"
   ]
  },
  {
   "cell_type": "code",
   "execution_count": 19,
   "id": "exposed-tissue",
   "metadata": {
    "execution": {
     "iopub.execute_input": "2021-04-29T02:33:39.730755Z",
     "iopub.status.busy": "2021-04-29T02:33:39.730313Z",
     "iopub.status.idle": "2021-04-29T02:33:42.647401Z",
     "shell.execute_reply": "2021-04-29T02:33:42.646717Z"
    },
    "papermill": {
     "duration": 2.950098,
     "end_time": "2021-04-29T02:33:42.647545",
     "exception": false,
     "start_time": "2021-04-29T02:33:39.697447",
     "status": "completed"
    },
    "tags": []
   },
   "outputs": [
    {
     "data": {
      "text/plain": [
       "['chr11_45002488_A_T_b38',\n",
       " 'chr16_81462547_A_G_b38',\n",
       " 'chr12_99930541_C_T_b38',\n",
       " 'chr20_44176423_G_T_b38',\n",
       " 'chr7_113665978_C_CTTA_b38',\n",
       " 'chr12_103775295_C_T_b38',\n",
       " 'chr11_83121405_T_C_b38',\n",
       " 'chr4_87809126_G_A_b38',\n",
       " 'chr5_161603025_T_G_b38',\n",
       " 'chr11_23978558_G_T_b38']"
      ]
     },
     "execution_count": 19,
     "metadata": {},
     "output_type": "execute_result"
    }
   ],
   "source": [
    "list(variants_ids_with_genotype)[:10]"
   ]
  },
  {
   "cell_type": "code",
   "execution_count": 20,
   "id": "fantastic-magnitude",
   "metadata": {
    "execution": {
     "iopub.execute_input": "2021-04-29T02:33:42.724746Z",
     "iopub.status.busy": "2021-04-29T02:33:42.724326Z",
     "iopub.status.idle": "2021-04-29T02:33:42.734690Z",
     "shell.execute_reply": "2021-04-29T02:33:42.734268Z"
    },
    "papermill": {
     "duration": 0.046198,
     "end_time": "2021-04-29T02:33:42.734793",
     "exception": false,
     "start_time": "2021-04-29T02:33:42.688595",
     "status": "completed"
    },
    "tags": []
   },
   "outputs": [],
   "source": [
    "del variants_metadata"
   ]
  },
  {
   "cell_type": "markdown",
   "id": "spoken-terrace",
   "metadata": {
    "papermill": {
     "duration": 0.028545,
     "end_time": "2021-04-29T02:33:42.795420",
     "exception": false,
     "start_time": "2021-04-29T02:33:42.766875",
     "status": "completed"
    },
    "tags": []
   },
   "source": [
    "# How many variants in predictions models are present in 1000G?"
   ]
  },
  {
   "cell_type": "code",
   "execution_count": 21,
   "id": "lesbian-solution",
   "metadata": {
    "execution": {
     "iopub.execute_input": "2021-04-29T02:33:42.856357Z",
     "iopub.status.busy": "2021-04-29T02:33:42.855994Z",
     "iopub.status.idle": "2021-04-29T02:33:42.865855Z",
     "shell.execute_reply": "2021-04-29T02:33:42.865484Z"
    },
    "papermill": {
     "duration": 0.041261,
     "end_time": "2021-04-29T02:33:42.865937",
     "exception": false,
     "start_time": "2021-04-29T02:33:42.824676",
     "status": "completed"
    },
    "tags": []
   },
   "outputs": [
    {
     "data": {
      "text/plain": [
       "237405"
      ]
     },
     "metadata": {},
     "output_type": "display_data"
    }
   ],
   "source": [
    "n_snps_in_models = len(all_snps_in_models)\n",
    "display(n_snps_in_models)"
   ]
  },
  {
   "cell_type": "code",
   "execution_count": 22,
   "id": "underlying-composer",
   "metadata": {
    "execution": {
     "iopub.execute_input": "2021-04-29T02:33:42.927175Z",
     "iopub.status.busy": "2021-04-29T02:33:42.926745Z",
     "iopub.status.idle": "2021-04-29T02:33:42.989959Z",
     "shell.execute_reply": "2021-04-29T02:33:42.989427Z"
    },
    "papermill": {
     "duration": 0.094404,
     "end_time": "2021-04-29T02:33:42.990076",
     "exception": false,
     "start_time": "2021-04-29T02:33:42.895672",
     "status": "completed"
    },
    "tags": []
   },
   "outputs": [
    {
     "data": {
      "text/plain": [
       "222720"
      ]
     },
     "metadata": {},
     "output_type": "display_data"
    }
   ],
   "source": [
    "n_snps_in_1000g = len(all_snps_in_models.intersection(variants_ids_with_genotype))\n",
    "display(n_snps_in_1000g)"
   ]
  },
  {
   "cell_type": "code",
   "execution_count": 23,
   "id": "demographic-class",
   "metadata": {
    "execution": {
     "iopub.execute_input": "2021-04-29T02:33:43.063747Z",
     "iopub.status.busy": "2021-04-29T02:33:43.063378Z",
     "iopub.status.idle": "2021-04-29T02:33:43.073030Z",
     "shell.execute_reply": "2021-04-29T02:33:43.072623Z"
    },
    "papermill": {
     "duration": 0.043667,
     "end_time": "2021-04-29T02:33:43.073114",
     "exception": false,
     "start_time": "2021-04-29T02:33:43.029447",
     "status": "completed"
    },
    "tags": []
   },
   "outputs": [
    {
     "data": {
      "text/plain": [
       "0.9381436785240412"
      ]
     },
     "execution_count": 23,
     "metadata": {},
     "output_type": "execute_result"
    }
   ],
   "source": [
    "n_snps_in_1000g / n_snps_in_models"
   ]
  },
  {
   "cell_type": "markdown",
   "id": "focal-summit",
   "metadata": {
    "papermill": {
     "duration": 0.028781,
     "end_time": "2021-04-29T02:33:43.131574",
     "exception": false,
     "start_time": "2021-04-29T02:33:43.102793",
     "status": "completed"
    },
    "tags": []
   },
   "source": [
    "# Get final list of genes in MultiPLIER"
   ]
  },
  {
   "cell_type": "code",
   "execution_count": 24,
   "id": "short-transition",
   "metadata": {
    "execution": {
     "iopub.execute_input": "2021-04-29T02:33:43.192802Z",
     "iopub.status.busy": "2021-04-29T02:33:43.192374Z",
     "iopub.status.idle": "2021-04-29T02:33:43.206531Z",
     "shell.execute_reply": "2021-04-29T02:33:43.206162Z"
    },
    "papermill": {
     "duration": 0.045701,
     "end_time": "2021-04-29T02:33:43.206615",
     "exception": false,
     "start_time": "2021-04-29T02:33:43.160914",
     "status": "completed"
    },
    "tags": []
   },
   "outputs": [],
   "source": [
    "genes_in_z = [\n",
    "    Gene(name=gene_name).ensembl_id\n",
    "    for gene_name in multiplier_z.index\n",
    "    if gene_name in Gene.GENE_NAME_TO_ID_MAP\n",
    "]"
   ]
  },
  {
   "cell_type": "code",
   "execution_count": 25,
   "id": "continued-grave",
   "metadata": {
    "execution": {
     "iopub.execute_input": "2021-04-29T02:33:43.268116Z",
     "iopub.status.busy": "2021-04-29T02:33:43.267746Z",
     "iopub.status.idle": "2021-04-29T02:33:43.277314Z",
     "shell.execute_reply": "2021-04-29T02:33:43.276950Z"
    },
    "papermill": {
     "duration": 0.040959,
     "end_time": "2021-04-29T02:33:43.277394",
     "exception": false,
     "start_time": "2021-04-29T02:33:43.236435",
     "status": "completed"
    },
    "tags": []
   },
   "outputs": [
    {
     "data": {
      "text/plain": [
       "6454"
      ]
     },
     "execution_count": 25,
     "metadata": {},
     "output_type": "execute_result"
    }
   ],
   "source": [
    "len(genes_in_z)"
   ]
  },
  {
   "cell_type": "code",
   "execution_count": 26,
   "id": "mighty-silver",
   "metadata": {
    "execution": {
     "iopub.execute_input": "2021-04-29T02:33:43.339198Z",
     "iopub.status.busy": "2021-04-29T02:33:43.338836Z",
     "iopub.status.idle": "2021-04-29T02:33:43.348117Z",
     "shell.execute_reply": "2021-04-29T02:33:43.348418Z"
    },
    "papermill": {
     "duration": 0.041349,
     "end_time": "2021-04-29T02:33:43.348521",
     "exception": false,
     "start_time": "2021-04-29T02:33:43.307172",
     "status": "completed"
    },
    "tags": []
   },
   "outputs": [
    {
     "data": {
      "text/plain": [
       "['ENSG00000183087',\n",
       " 'ENSG00000157227',\n",
       " 'ENSG00000096696',\n",
       " 'ENSG00000175130',\n",
       " 'ENSG00000113140']"
      ]
     },
     "execution_count": 26,
     "metadata": {},
     "output_type": "execute_result"
    }
   ],
   "source": [
    "genes_in_z[:5]"
   ]
  },
  {
   "cell_type": "code",
   "execution_count": 27,
   "id": "stone-airfare",
   "metadata": {
    "execution": {
     "iopub.execute_input": "2021-04-29T02:33:43.410724Z",
     "iopub.status.busy": "2021-04-29T02:33:43.410350Z",
     "iopub.status.idle": "2021-04-29T02:33:43.420335Z",
     "shell.execute_reply": "2021-04-29T02:33:43.419965Z"
    },
    "papermill": {
     "duration": 0.04186,
     "end_time": "2021-04-29T02:33:43.420417",
     "exception": false,
     "start_time": "2021-04-29T02:33:43.378557",
     "status": "completed"
    },
    "tags": []
   },
   "outputs": [],
   "source": [
    "genes_in_z = set(genes_in_z)"
   ]
  },
  {
   "cell_type": "code",
   "execution_count": 28,
   "id": "stuck-science",
   "metadata": {
    "execution": {
     "iopub.execute_input": "2021-04-29T02:33:43.482708Z",
     "iopub.status.busy": "2021-04-29T02:33:43.482350Z",
     "iopub.status.idle": "2021-04-29T02:33:43.492042Z",
     "shell.execute_reply": "2021-04-29T02:33:43.491669Z"
    },
    "papermill": {
     "duration": 0.041069,
     "end_time": "2021-04-29T02:33:43.492125",
     "exception": false,
     "start_time": "2021-04-29T02:33:43.451056",
     "status": "completed"
    },
    "tags": []
   },
   "outputs": [
    {
     "data": {
      "text/plain": [
       "6454"
      ]
     },
     "execution_count": 28,
     "metadata": {},
     "output_type": "execute_result"
    }
   ],
   "source": [
    "len(genes_in_z)"
   ]
  },
  {
   "cell_type": "code",
   "execution_count": 29,
   "id": "demographic-dodge",
   "metadata": {
    "execution": {
     "iopub.execute_input": "2021-04-29T02:33:43.555584Z",
     "iopub.status.busy": "2021-04-29T02:33:43.555220Z",
     "iopub.status.idle": "2021-04-29T02:33:43.655466Z",
     "shell.execute_reply": "2021-04-29T02:33:43.655012Z"
    },
    "papermill": {
     "duration": 0.132522,
     "end_time": "2021-04-29T02:33:43.655569",
     "exception": false,
     "start_time": "2021-04-29T02:33:43.523047",
     "status": "completed"
    },
    "tags": []
   },
   "outputs": [
    {
     "data": {
      "text/plain": [
       "(1132714, 3)"
      ]
     },
     "metadata": {},
     "output_type": "display_data"
    },
    {
     "data": {
      "text/plain": [
       "(396890, 3)"
      ]
     },
     "metadata": {},
     "output_type": "display_data"
    }
   ],
   "source": [
    "# keep genes in MultiPLIER only\n",
    "display(all_gene_snps.shape)\n",
    "\n",
    "all_gene_snps = all_gene_snps[all_gene_snps[\"gene\"].isin(genes_in_z)]\n",
    "\n",
    "display(all_gene_snps.shape)"
   ]
  },
  {
   "cell_type": "markdown",
   "id": "norwegian-replica",
   "metadata": {
    "papermill": {
     "duration": 0.032011,
     "end_time": "2021-04-29T02:33:43.725802",
     "exception": false,
     "start_time": "2021-04-29T02:33:43.693791",
     "status": "completed"
    },
    "tags": []
   },
   "source": [
    "# (For MultiPLIER genes): How many variants in predictions models are present in 1000G?"
   ]
  },
  {
   "cell_type": "code",
   "execution_count": 30,
   "id": "institutional-commitment",
   "metadata": {
    "execution": {
     "iopub.execute_input": "2021-04-29T02:33:43.811695Z",
     "iopub.status.busy": "2021-04-29T02:33:43.811238Z",
     "iopub.status.idle": "2021-04-29T02:33:43.917528Z",
     "shell.execute_reply": "2021-04-29T02:33:43.917089Z"
    },
    "papermill": {
     "duration": 0.159032,
     "end_time": "2021-04-29T02:33:43.917634",
     "exception": false,
     "start_time": "2021-04-29T02:33:43.758602",
     "status": "completed"
    },
    "tags": []
   },
   "outputs": [
    {
     "data": {
      "text/plain": [
       "84708"
      ]
     },
     "metadata": {},
     "output_type": "display_data"
    }
   ],
   "source": [
    "all_snps_in_models_multiplier = set(all_gene_snps[\"varID\"])\n",
    "\n",
    "n_snps_in_models = len(all_snps_in_models_multiplier)\n",
    "display(n_snps_in_models)"
   ]
  },
  {
   "cell_type": "code",
   "execution_count": 31,
   "id": "mental-carroll",
   "metadata": {
    "execution": {
     "iopub.execute_input": "2021-04-29T02:33:43.990003Z",
     "iopub.status.busy": "2021-04-29T02:33:43.989642Z",
     "iopub.status.idle": "2021-04-29T02:33:44.018654Z",
     "shell.execute_reply": "2021-04-29T02:33:44.018257Z"
    },
    "papermill": {
     "duration": 0.06254,
     "end_time": "2021-04-29T02:33:44.018761",
     "exception": false,
     "start_time": "2021-04-29T02:33:43.956221",
     "status": "completed"
    },
    "tags": []
   },
   "outputs": [
    {
     "data": {
      "text/plain": [
       "80339"
      ]
     },
     "metadata": {},
     "output_type": "display_data"
    }
   ],
   "source": [
    "n_snps_in_1000g = len(\n",
    "    all_snps_in_models_multiplier.intersection(variants_ids_with_genotype)\n",
    ")\n",
    "display(n_snps_in_1000g)"
   ]
  },
  {
   "cell_type": "code",
   "execution_count": 32,
   "id": "sapphire-afternoon",
   "metadata": {
    "execution": {
     "iopub.execute_input": "2021-04-29T02:33:44.092652Z",
     "iopub.status.busy": "2021-04-29T02:33:44.092291Z",
     "iopub.status.idle": "2021-04-29T02:33:44.101971Z",
     "shell.execute_reply": "2021-04-29T02:33:44.101601Z"
    },
    "papermill": {
     "duration": 0.04364,
     "end_time": "2021-04-29T02:33:44.102056",
     "exception": false,
     "start_time": "2021-04-29T02:33:44.058416",
     "status": "completed"
    },
    "tags": []
   },
   "outputs": [
    {
     "data": {
      "text/plain": [
       "0.9484228172073476"
      ]
     },
     "execution_count": 32,
     "metadata": {},
     "output_type": "execute_result"
    }
   ],
   "source": [
    "n_snps_in_1000g / n_snps_in_models"
   ]
  },
  {
   "cell_type": "markdown",
   "id": "committed-operator",
   "metadata": {
    "papermill": {
     "duration": 0.031521,
     "end_time": "2021-04-29T02:33:44.165344",
     "exception": false,
     "start_time": "2021-04-29T02:33:44.133823",
     "status": "completed"
    },
    "tags": []
   },
   "source": [
    "## Preprocess SNPs data"
   ]
  },
  {
   "cell_type": "code",
   "execution_count": 33,
   "id": "grave-conclusion",
   "metadata": {
    "execution": {
     "iopub.execute_input": "2021-04-29T02:33:44.230028Z",
     "iopub.status.busy": "2021-04-29T02:33:44.229660Z",
     "iopub.status.idle": "2021-04-29T02:33:44.362938Z",
     "shell.execute_reply": "2021-04-29T02:33:44.362418Z"
    },
    "papermill": {
     "duration": 0.166784,
     "end_time": "2021-04-29T02:33:44.363050",
     "exception": false,
     "start_time": "2021-04-29T02:33:44.196266",
     "status": "completed"
    },
    "tags": []
   },
   "outputs": [],
   "source": [
    "variants_ld_block_df = all_gene_snps[[\"varID\"]].drop_duplicates()"
   ]
  },
  {
   "cell_type": "code",
   "execution_count": 34,
   "id": "returning-encyclopedia",
   "metadata": {
    "execution": {
     "iopub.execute_input": "2021-04-29T02:33:44.439629Z",
     "iopub.status.busy": "2021-04-29T02:33:44.439270Z",
     "iopub.status.idle": "2021-04-29T02:33:44.449184Z",
     "shell.execute_reply": "2021-04-29T02:33:44.448804Z"
    },
    "papermill": {
     "duration": 0.045348,
     "end_time": "2021-04-29T02:33:44.449265",
     "exception": false,
     "start_time": "2021-04-29T02:33:44.403917",
     "status": "completed"
    },
    "tags": []
   },
   "outputs": [
    {
     "data": {
      "text/plain": [
       "(84708, 1)"
      ]
     },
     "execution_count": 34,
     "metadata": {},
     "output_type": "execute_result"
    }
   ],
   "source": [
    "variants_ld_block_df.shape"
   ]
  },
  {
   "cell_type": "code",
   "execution_count": 35,
   "id": "electronic-clone",
   "metadata": {
    "execution": {
     "iopub.execute_input": "2021-04-29T02:33:44.515084Z",
     "iopub.status.busy": "2021-04-29T02:33:44.514728Z",
     "iopub.status.idle": "2021-04-29T02:33:44.526603Z",
     "shell.execute_reply": "2021-04-29T02:33:44.526227Z"
    },
    "papermill": {
     "duration": 0.045592,
     "end_time": "2021-04-29T02:33:44.526687",
     "exception": false,
     "start_time": "2021-04-29T02:33:44.481095",
     "status": "completed"
    },
    "tags": []
   },
   "outputs": [
    {
     "data": {
      "text/html": [
       "<div>\n",
       "<style scoped>\n",
       "    .dataframe tbody tr th:only-of-type {\n",
       "        vertical-align: middle;\n",
       "    }\n",
       "\n",
       "    .dataframe tbody tr th {\n",
       "        vertical-align: top;\n",
       "    }\n",
       "\n",
       "    .dataframe thead th {\n",
       "        text-align: right;\n",
       "    }\n",
       "</style>\n",
       "<table border=\"1\" class=\"dataframe\">\n",
       "  <thead>\n",
       "    <tr style=\"text-align: right;\">\n",
       "      <th></th>\n",
       "      <th>varID</th>\n",
       "    </tr>\n",
       "  </thead>\n",
       "  <tbody>\n",
       "    <tr>\n",
       "      <th>0</th>\n",
       "      <td>chr9_136996001_G_A_b38</td>\n",
       "    </tr>\n",
       "    <tr>\n",
       "      <th>1</th>\n",
       "      <td>chr9_137029055_C_CA_b38</td>\n",
       "    </tr>\n",
       "    <tr>\n",
       "      <th>2</th>\n",
       "      <td>chr9_137029407_T_G_b38</td>\n",
       "    </tr>\n",
       "    <tr>\n",
       "      <th>10</th>\n",
       "      <td>chr9_137084985_C_T_b38</td>\n",
       "    </tr>\n",
       "    <tr>\n",
       "      <th>11</th>\n",
       "      <td>chr9_137102549_TACAC_T_b38</td>\n",
       "    </tr>\n",
       "  </tbody>\n",
       "</table>\n",
       "</div>"
      ],
      "text/plain": [
       "                         varID\n",
       "0       chr9_136996001_G_A_b38\n",
       "1      chr9_137029055_C_CA_b38\n",
       "2       chr9_137029407_T_G_b38\n",
       "10      chr9_137084985_C_T_b38\n",
       "11  chr9_137102549_TACAC_T_b38"
      ]
     },
     "execution_count": 35,
     "metadata": {},
     "output_type": "execute_result"
    }
   ],
   "source": [
    "variants_ld_block_df.head()"
   ]
  },
  {
   "cell_type": "code",
   "execution_count": 36,
   "id": "completed-contributor",
   "metadata": {
    "execution": {
     "iopub.execute_input": "2021-04-29T02:33:44.593742Z",
     "iopub.status.busy": "2021-04-29T02:33:44.593383Z",
     "iopub.status.idle": "2021-04-29T02:33:52.108832Z",
     "shell.execute_reply": "2021-04-29T02:33:52.109202Z"
    },
    "papermill": {
     "duration": 7.549693,
     "end_time": "2021-04-29T02:33:52.109336",
     "exception": false,
     "start_time": "2021-04-29T02:33:44.559643",
     "status": "completed"
    },
    "tags": []
   },
   "outputs": [],
   "source": [
    "variants_info = variants_ld_block_df[\"varID\"].str.split(\"_\", expand=True)"
   ]
  },
  {
   "cell_type": "code",
   "execution_count": 37,
   "id": "extensive-multimedia",
   "metadata": {
    "execution": {
     "iopub.execute_input": "2021-04-29T02:33:52.184351Z",
     "iopub.status.busy": "2021-04-29T02:33:52.183994Z",
     "iopub.status.idle": "2021-04-29T02:33:52.193676Z",
     "shell.execute_reply": "2021-04-29T02:33:52.193381Z"
    },
    "papermill": {
     "duration": 0.044013,
     "end_time": "2021-04-29T02:33:52.193758",
     "exception": false,
     "start_time": "2021-04-29T02:33:52.149745",
     "status": "completed"
    },
    "tags": []
   },
   "outputs": [
    {
     "data": {
      "text/plain": [
       "(84708, 5)"
      ]
     },
     "execution_count": 37,
     "metadata": {},
     "output_type": "execute_result"
    }
   ],
   "source": [
    "variants_info.shape"
   ]
  },
  {
   "cell_type": "code",
   "execution_count": 38,
   "id": "victorian-salon",
   "metadata": {
    "execution": {
     "iopub.execute_input": "2021-04-29T02:33:52.259436Z",
     "iopub.status.busy": "2021-04-29T02:33:52.259080Z",
     "iopub.status.idle": "2021-04-29T02:33:52.270722Z",
     "shell.execute_reply": "2021-04-29T02:33:52.269673Z"
    },
    "papermill": {
     "duration": 0.04574,
     "end_time": "2021-04-29T02:33:52.270939",
     "exception": false,
     "start_time": "2021-04-29T02:33:52.225199",
     "status": "completed"
    },
    "tags": []
   },
   "outputs": [],
   "source": [
    "assert variants_ld_block_df.shape[0] == variants_info.shape[0]"
   ]
  },
  {
   "cell_type": "code",
   "execution_count": 39,
   "id": "norman-context",
   "metadata": {
    "execution": {
     "iopub.execute_input": "2021-04-29T02:33:52.339457Z",
     "iopub.status.busy": "2021-04-29T02:33:52.339085Z",
     "iopub.status.idle": "2021-04-29T02:33:52.384325Z",
     "shell.execute_reply": "2021-04-29T02:33:52.383760Z"
    },
    "papermill": {
     "duration": 0.079533,
     "end_time": "2021-04-29T02:33:52.384442",
     "exception": false,
     "start_time": "2021-04-29T02:33:52.304909",
     "status": "completed"
    },
    "tags": []
   },
   "outputs": [],
   "source": [
    "variants_ld_block_df = variants_ld_block_df.join(variants_info)[[\"varID\", 0, 1, 2, 3]]"
   ]
  },
  {
   "cell_type": "code",
   "execution_count": 40,
   "id": "altered-promise",
   "metadata": {
    "execution": {
     "iopub.execute_input": "2021-04-29T02:33:52.463942Z",
     "iopub.status.busy": "2021-04-29T02:33:52.463578Z",
     "iopub.status.idle": "2021-04-29T02:33:52.472212Z",
     "shell.execute_reply": "2021-04-29T02:33:52.471915Z"
    },
    "papermill": {
     "duration": 0.045151,
     "end_time": "2021-04-29T02:33:52.472295",
     "exception": false,
     "start_time": "2021-04-29T02:33:52.427144",
     "status": "completed"
    },
    "tags": []
   },
   "outputs": [],
   "source": [
    "assert variants_ld_block_df.shape[0] == variants_info.shape[0]"
   ]
  },
  {
   "cell_type": "code",
   "execution_count": 41,
   "id": "exciting-bouquet",
   "metadata": {
    "execution": {
     "iopub.execute_input": "2021-04-29T02:33:52.538900Z",
     "iopub.status.busy": "2021-04-29T02:33:52.538541Z",
     "iopub.status.idle": "2021-04-29T02:33:52.551909Z",
     "shell.execute_reply": "2021-04-29T02:33:52.551538Z"
    },
    "papermill": {
     "duration": 0.047193,
     "end_time": "2021-04-29T02:33:52.551991",
     "exception": false,
     "start_time": "2021-04-29T02:33:52.504798",
     "status": "completed"
    },
    "tags": []
   },
   "outputs": [
    {
     "data": {
      "text/html": [
       "<div>\n",
       "<style scoped>\n",
       "    .dataframe tbody tr th:only-of-type {\n",
       "        vertical-align: middle;\n",
       "    }\n",
       "\n",
       "    .dataframe tbody tr th {\n",
       "        vertical-align: top;\n",
       "    }\n",
       "\n",
       "    .dataframe thead th {\n",
       "        text-align: right;\n",
       "    }\n",
       "</style>\n",
       "<table border=\"1\" class=\"dataframe\">\n",
       "  <thead>\n",
       "    <tr style=\"text-align: right;\">\n",
       "      <th></th>\n",
       "      <th>varID</th>\n",
       "      <th>0</th>\n",
       "      <th>1</th>\n",
       "      <th>2</th>\n",
       "      <th>3</th>\n",
       "    </tr>\n",
       "  </thead>\n",
       "  <tbody>\n",
       "    <tr>\n",
       "      <th>0</th>\n",
       "      <td>chr9_136996001_G_A_b38</td>\n",
       "      <td>chr9</td>\n",
       "      <td>136996001</td>\n",
       "      <td>G</td>\n",
       "      <td>A</td>\n",
       "    </tr>\n",
       "    <tr>\n",
       "      <th>1</th>\n",
       "      <td>chr9_137029055_C_CA_b38</td>\n",
       "      <td>chr9</td>\n",
       "      <td>137029055</td>\n",
       "      <td>C</td>\n",
       "      <td>CA</td>\n",
       "    </tr>\n",
       "    <tr>\n",
       "      <th>2</th>\n",
       "      <td>chr9_137029407_T_G_b38</td>\n",
       "      <td>chr9</td>\n",
       "      <td>137029407</td>\n",
       "      <td>T</td>\n",
       "      <td>G</td>\n",
       "    </tr>\n",
       "    <tr>\n",
       "      <th>10</th>\n",
       "      <td>chr9_137084985_C_T_b38</td>\n",
       "      <td>chr9</td>\n",
       "      <td>137084985</td>\n",
       "      <td>C</td>\n",
       "      <td>T</td>\n",
       "    </tr>\n",
       "    <tr>\n",
       "      <th>11</th>\n",
       "      <td>chr9_137102549_TACAC_T_b38</td>\n",
       "      <td>chr9</td>\n",
       "      <td>137102549</td>\n",
       "      <td>TACAC</td>\n",
       "      <td>T</td>\n",
       "    </tr>\n",
       "  </tbody>\n",
       "</table>\n",
       "</div>"
      ],
      "text/plain": [
       "                         varID     0          1      2   3\n",
       "0       chr9_136996001_G_A_b38  chr9  136996001      G   A\n",
       "1      chr9_137029055_C_CA_b38  chr9  137029055      C  CA\n",
       "2       chr9_137029407_T_G_b38  chr9  137029407      T   G\n",
       "10      chr9_137084985_C_T_b38  chr9  137084985      C   T\n",
       "11  chr9_137102549_TACAC_T_b38  chr9  137102549  TACAC   T"
      ]
     },
     "execution_count": 41,
     "metadata": {},
     "output_type": "execute_result"
    }
   ],
   "source": [
    "variants_ld_block_df.head()"
   ]
  },
  {
   "cell_type": "code",
   "execution_count": 42,
   "id": "vital-drilling",
   "metadata": {
    "execution": {
     "iopub.execute_input": "2021-04-29T02:33:52.619013Z",
     "iopub.status.busy": "2021-04-29T02:33:52.618645Z",
     "iopub.status.idle": "2021-04-29T02:33:52.631577Z",
     "shell.execute_reply": "2021-04-29T02:33:52.631898Z"
    },
    "papermill": {
     "duration": 0.047401,
     "end_time": "2021-04-29T02:33:52.632017",
     "exception": false,
     "start_time": "2021-04-29T02:33:52.584616",
     "status": "completed"
    },
    "tags": []
   },
   "outputs": [],
   "source": [
    "variants_ld_block_df = variants_ld_block_df.rename(\n",
    "    columns={\n",
    "        0: \"chr\",\n",
    "        1: \"position\",\n",
    "        2: \"ref_allele\",\n",
    "        3: \"eff_allele\",\n",
    "    }\n",
    ")"
   ]
  },
  {
   "cell_type": "code",
   "execution_count": 43,
   "id": "dominant-inclusion",
   "metadata": {
    "execution": {
     "iopub.execute_input": "2021-04-29T02:33:52.703919Z",
     "iopub.status.busy": "2021-04-29T02:33:52.703549Z",
     "iopub.status.idle": "2021-04-29T02:33:52.750881Z",
     "shell.execute_reply": "2021-04-29T02:33:52.750463Z"
    },
    "papermill": {
     "duration": 0.081655,
     "end_time": "2021-04-29T02:33:52.750983",
     "exception": false,
     "start_time": "2021-04-29T02:33:52.669328",
     "status": "completed"
    },
    "tags": []
   },
   "outputs": [],
   "source": [
    "variants_ld_block_df[\"chr\"] = variants_ld_block_df[\"chr\"].apply(lambda x: int(x[3:]))"
   ]
  },
  {
   "cell_type": "code",
   "execution_count": 44,
   "id": "rubber-physiology",
   "metadata": {
    "execution": {
     "iopub.execute_input": "2021-04-29T02:33:52.824340Z",
     "iopub.status.busy": "2021-04-29T02:33:52.823973Z",
     "iopub.status.idle": "2021-04-29T02:33:52.844218Z",
     "shell.execute_reply": "2021-04-29T02:33:52.844548Z"
    },
    "papermill": {
     "duration": 0.055542,
     "end_time": "2021-04-29T02:33:52.844669",
     "exception": false,
     "start_time": "2021-04-29T02:33:52.789127",
     "status": "completed"
    },
    "tags": []
   },
   "outputs": [],
   "source": [
    "variants_ld_block_df[\"position\"] = variants_ld_block_df[\"position\"].astype(int)"
   ]
  },
  {
   "cell_type": "code",
   "execution_count": 45,
   "id": "featured-kazakhstan",
   "metadata": {
    "execution": {
     "iopub.execute_input": "2021-04-29T02:33:52.918314Z",
     "iopub.status.busy": "2021-04-29T02:33:52.917959Z",
     "iopub.status.idle": "2021-04-29T02:33:52.927604Z",
     "shell.execute_reply": "2021-04-29T02:33:52.927230Z"
    },
    "papermill": {
     "duration": 0.04428,
     "end_time": "2021-04-29T02:33:52.927687",
     "exception": false,
     "start_time": "2021-04-29T02:33:52.883407",
     "status": "completed"
    },
    "tags": []
   },
   "outputs": [
    {
     "data": {
      "text/plain": [
       "(84708, 5)"
      ]
     },
     "execution_count": 45,
     "metadata": {},
     "output_type": "execute_result"
    }
   ],
   "source": [
    "variants_ld_block_df.shape"
   ]
  },
  {
   "cell_type": "code",
   "execution_count": 46,
   "id": "outstanding-financing",
   "metadata": {
    "execution": {
     "iopub.execute_input": "2021-04-29T02:33:52.994422Z",
     "iopub.status.busy": "2021-04-29T02:33:52.994058Z",
     "iopub.status.idle": "2021-04-29T02:33:53.007289Z",
     "shell.execute_reply": "2021-04-29T02:33:53.006869Z"
    },
    "papermill": {
     "duration": 0.047269,
     "end_time": "2021-04-29T02:33:53.007372",
     "exception": false,
     "start_time": "2021-04-29T02:33:52.960103",
     "status": "completed"
    },
    "tags": []
   },
   "outputs": [
    {
     "data": {
      "text/html": [
       "<div>\n",
       "<style scoped>\n",
       "    .dataframe tbody tr th:only-of-type {\n",
       "        vertical-align: middle;\n",
       "    }\n",
       "\n",
       "    .dataframe tbody tr th {\n",
       "        vertical-align: top;\n",
       "    }\n",
       "\n",
       "    .dataframe thead th {\n",
       "        text-align: right;\n",
       "    }\n",
       "</style>\n",
       "<table border=\"1\" class=\"dataframe\">\n",
       "  <thead>\n",
       "    <tr style=\"text-align: right;\">\n",
       "      <th></th>\n",
       "      <th>varID</th>\n",
       "      <th>chr</th>\n",
       "      <th>position</th>\n",
       "      <th>ref_allele</th>\n",
       "      <th>eff_allele</th>\n",
       "    </tr>\n",
       "  </thead>\n",
       "  <tbody>\n",
       "    <tr>\n",
       "      <th>0</th>\n",
       "      <td>chr9_136996001_G_A_b38</td>\n",
       "      <td>9</td>\n",
       "      <td>136996001</td>\n",
       "      <td>G</td>\n",
       "      <td>A</td>\n",
       "    </tr>\n",
       "    <tr>\n",
       "      <th>1</th>\n",
       "      <td>chr9_137029055_C_CA_b38</td>\n",
       "      <td>9</td>\n",
       "      <td>137029055</td>\n",
       "      <td>C</td>\n",
       "      <td>CA</td>\n",
       "    </tr>\n",
       "    <tr>\n",
       "      <th>2</th>\n",
       "      <td>chr9_137029407_T_G_b38</td>\n",
       "      <td>9</td>\n",
       "      <td>137029407</td>\n",
       "      <td>T</td>\n",
       "      <td>G</td>\n",
       "    </tr>\n",
       "    <tr>\n",
       "      <th>10</th>\n",
       "      <td>chr9_137084985_C_T_b38</td>\n",
       "      <td>9</td>\n",
       "      <td>137084985</td>\n",
       "      <td>C</td>\n",
       "      <td>T</td>\n",
       "    </tr>\n",
       "    <tr>\n",
       "      <th>11</th>\n",
       "      <td>chr9_137102549_TACAC_T_b38</td>\n",
       "      <td>9</td>\n",
       "      <td>137102549</td>\n",
       "      <td>TACAC</td>\n",
       "      <td>T</td>\n",
       "    </tr>\n",
       "  </tbody>\n",
       "</table>\n",
       "</div>"
      ],
      "text/plain": [
       "                         varID  chr   position ref_allele eff_allele\n",
       "0       chr9_136996001_G_A_b38    9  136996001          G          A\n",
       "1      chr9_137029055_C_CA_b38    9  137029055          C         CA\n",
       "2       chr9_137029407_T_G_b38    9  137029407          T          G\n",
       "10      chr9_137084985_C_T_b38    9  137084985          C          T\n",
       "11  chr9_137102549_TACAC_T_b38    9  137102549      TACAC          T"
      ]
     },
     "execution_count": 46,
     "metadata": {},
     "output_type": "execute_result"
    }
   ],
   "source": [
    "variants_ld_block_df.head()"
   ]
  },
  {
   "cell_type": "code",
   "execution_count": 47,
   "id": "indian-smart",
   "metadata": {
    "execution": {
     "iopub.execute_input": "2021-04-29T02:33:53.074129Z",
     "iopub.status.busy": "2021-04-29T02:33:53.073762Z",
     "iopub.status.idle": "2021-04-29T02:33:53.084285Z",
     "shell.execute_reply": "2021-04-29T02:33:53.083988Z"
    },
    "papermill": {
     "duration": 0.044888,
     "end_time": "2021-04-29T02:33:53.084368",
     "exception": false,
     "start_time": "2021-04-29T02:33:53.039480",
     "status": "completed"
    },
    "tags": []
   },
   "outputs": [
    {
     "data": {
      "text/plain": [
       "varID         object\n",
       "chr            int64\n",
       "position       int64\n",
       "ref_allele    object\n",
       "eff_allele    object\n",
       "dtype: object"
      ]
     },
     "execution_count": 47,
     "metadata": {},
     "output_type": "execute_result"
    }
   ],
   "source": [
    "variants_ld_block_df.dtypes"
   ]
  },
  {
   "cell_type": "markdown",
   "id": "democratic-breath",
   "metadata": {
    "papermill": {
     "duration": 0.032016,
     "end_time": "2021-04-29T02:33:53.148473",
     "exception": false,
     "start_time": "2021-04-29T02:33:53.116457",
     "status": "completed"
    },
    "tags": []
   },
   "source": [
    "# Covariance for each chromosome block"
   ]
  },
  {
   "cell_type": "markdown",
   "id": "favorite-ultimate",
   "metadata": {
    "papermill": {
     "duration": 0.031929,
     "end_time": "2021-04-29T02:33:53.212420",
     "exception": false,
     "start_time": "2021-04-29T02:33:53.180491",
     "status": "completed"
    },
    "tags": []
   },
   "source": [
    "## Functions"
   ]
  },
  {
   "cell_type": "code",
   "execution_count": 48,
   "id": "chemical-guess",
   "metadata": {
    "execution": {
     "iopub.execute_input": "2021-04-29T02:33:53.279298Z",
     "iopub.status.busy": "2021-04-29T02:33:53.278918Z",
     "iopub.status.idle": "2021-04-29T02:33:53.288282Z",
     "shell.execute_reply": "2021-04-29T02:33:53.287906Z"
    },
    "papermill": {
     "duration": 0.044412,
     "end_time": "2021-04-29T02:33:53.288366",
     "exception": false,
     "start_time": "2021-04-29T02:33:53.243954",
     "status": "completed"
    },
    "tags": []
   },
   "outputs": [],
   "source": [
    "def compute_snps_cov(snps_df):\n",
    "    assert snps_df[\"chr\"].unique().shape[0]\n",
    "    chromosome = snps_df[\"chr\"].unique()[0]\n",
    "\n",
    "    # keep variants only present in genotype\n",
    "    snps_ids = list(set(snps_df[\"varID\"]).intersection(variants_ids_with_genotype))\n",
    "\n",
    "    chromosome_file = (\n",
    "        conf.PHENOMEXCAN[\"LD_BLOCKS\"][\"1000G_GENOTYPE_DIR\"]\n",
    "        / f\"chr{chromosome}.variants.parquet\"\n",
    "    )\n",
    "    snps_genotypes = pd.read_parquet(chromosome_file, columns=snps_ids)\n",
    "\n",
    "    return snps_genotypes.cov()"
   ]
  },
  {
   "cell_type": "code",
   "execution_count": 49,
   "id": "removed-volume",
   "metadata": {
    "execution": {
     "iopub.execute_input": "2021-04-29T02:33:53.355043Z",
     "iopub.status.busy": "2021-04-29T02:33:53.354687Z",
     "iopub.status.idle": "2021-04-29T02:33:53.367994Z",
     "shell.execute_reply": "2021-04-29T02:33:53.367609Z"
    },
    "papermill": {
     "duration": 0.047439,
     "end_time": "2021-04-29T02:33:53.368079",
     "exception": false,
     "start_time": "2021-04-29T02:33:53.320640",
     "status": "completed"
    },
    "tags": []
   },
   "outputs": [],
   "source": [
    "# testing\n",
    "_tmp_snps = variants_ld_block_df[variants_ld_block_df[\"chr\"] == 22]\n",
    "assert _tmp_snps.shape[0] > 0"
   ]
  },
  {
   "cell_type": "code",
   "execution_count": 50,
   "id": "beautiful-jackson",
   "metadata": {
    "execution": {
     "iopub.execute_input": "2021-04-29T02:33:53.434864Z",
     "iopub.status.busy": "2021-04-29T02:33:53.434501Z",
     "iopub.status.idle": "2021-04-29T02:33:53.444558Z",
     "shell.execute_reply": "2021-04-29T02:33:53.444181Z"
    },
    "papermill": {
     "duration": 0.044101,
     "end_time": "2021-04-29T02:33:53.444641",
     "exception": false,
     "start_time": "2021-04-29T02:33:53.400540",
     "status": "completed"
    },
    "tags": []
   },
   "outputs": [
    {
     "data": {
      "text/plain": [
       "(2687, 5)"
      ]
     },
     "execution_count": 50,
     "metadata": {},
     "output_type": "execute_result"
    }
   ],
   "source": [
    "_tmp_snps.shape"
   ]
  },
  {
   "cell_type": "code",
   "execution_count": 51,
   "id": "mathematical-overhead",
   "metadata": {
    "execution": {
     "iopub.execute_input": "2021-04-29T02:33:53.514304Z",
     "iopub.status.busy": "2021-04-29T02:33:53.513932Z",
     "iopub.status.idle": "2021-04-29T02:33:53.524511Z",
     "shell.execute_reply": "2021-04-29T02:33:53.524829Z"
    },
    "papermill": {
     "duration": 0.045954,
     "end_time": "2021-04-29T02:33:53.524933",
     "exception": false,
     "start_time": "2021-04-29T02:33:53.478979",
     "status": "completed"
    },
    "tags": []
   },
   "outputs": [
    {
     "data": {
      "text/plain": [
       "2484"
      ]
     },
     "metadata": {},
     "output_type": "display_data"
    }
   ],
   "source": [
    "n_expected = len(set(_tmp_snps[\"varID\"]).intersection(variants_ids_with_genotype))\n",
    "display(n_expected)"
   ]
  },
  {
   "cell_type": "code",
   "execution_count": 52,
   "id": "knowing-tender",
   "metadata": {
    "execution": {
     "iopub.execute_input": "2021-04-29T02:33:53.593945Z",
     "iopub.status.busy": "2021-04-29T02:33:53.593582Z",
     "iopub.status.idle": "2021-04-29T02:34:49.982277Z",
     "shell.execute_reply": "2021-04-29T02:34:49.981915Z"
    },
    "papermill": {
     "duration": 56.423488,
     "end_time": "2021-04-29T02:34:49.982372",
     "exception": false,
     "start_time": "2021-04-29T02:33:53.558884",
     "status": "completed"
    },
    "tags": []
   },
   "outputs": [],
   "source": [
    "_tmp = compute_snps_cov(_tmp_snps)"
   ]
  },
  {
   "cell_type": "code",
   "execution_count": 53,
   "id": "exotic-spirituality",
   "metadata": {
    "execution": {
     "iopub.execute_input": "2021-04-29T02:34:50.068805Z",
     "iopub.status.busy": "2021-04-29T02:34:50.068386Z",
     "iopub.status.idle": "2021-04-29T02:34:50.087800Z",
     "shell.execute_reply": "2021-04-29T02:34:50.087050Z"
    },
    "papermill": {
     "duration": 0.059898,
     "end_time": "2021-04-29T02:34:50.087906",
     "exception": false,
     "start_time": "2021-04-29T02:34:50.028008",
     "status": "completed"
    },
    "tags": []
   },
   "outputs": [],
   "source": [
    "assert _tmp.shape == (n_expected, n_expected)\n",
    "assert not _tmp.isna().any().any()"
   ]
  },
  {
   "cell_type": "markdown",
   "id": "macro-google",
   "metadata": {
    "papermill": {
     "duration": 0.032551,
     "end_time": "2021-04-29T02:34:50.156457",
     "exception": false,
     "start_time": "2021-04-29T02:34:50.123906",
     "status": "completed"
    },
    "tags": []
   },
   "source": [
    "## Compute covariance and save"
   ]
  },
  {
   "cell_type": "code",
   "execution_count": 54,
   "id": "dynamic-forwarding",
   "metadata": {
    "execution": {
     "iopub.execute_input": "2021-04-29T02:34:50.224139Z",
     "iopub.status.busy": "2021-04-29T02:34:50.223778Z",
     "iopub.status.idle": "2021-04-29T02:34:50.233496Z",
     "shell.execute_reply": "2021-04-29T02:34:50.233187Z"
    },
    "papermill": {
     "duration": 0.044572,
     "end_time": "2021-04-29T02:34:50.233577",
     "exception": false,
     "start_time": "2021-04-29T02:34:50.189005",
     "status": "completed"
    },
    "tags": []
   },
   "outputs": [
    {
     "data": {
      "text/plain": [
       "PosixPath('/home/miltondp/projects/labs/greenelab/phenoplier/base/data/phenomexcan/ld_blocks/mashr_snps_chr_blocks_cov.h5')"
      ]
     },
     "metadata": {},
     "output_type": "display_data"
    }
   ],
   "source": [
    "output_file = conf.PHENOMEXCAN[\"LD_BLOCKS\"][\"BASE_DIR\"] / \"mashr_snps_chr_blocks_cov.h5\"\n",
    "display(output_file)"
   ]
  },
  {
   "cell_type": "code",
   "execution_count": 55,
   "id": "particular-easter",
   "metadata": {
    "execution": {
     "iopub.execute_input": "2021-04-29T02:34:50.303942Z",
     "iopub.status.busy": "2021-04-29T02:34:50.303573Z",
     "iopub.status.idle": "2021-04-29T03:30:32.603134Z",
     "shell.execute_reply": "2021-04-29T03:30:32.602754Z"
    },
    "papermill": {
     "duration": 3342.335716,
     "end_time": "2021-04-29T03:30:32.603219",
     "exception": false,
     "start_time": "2021-04-29T02:34:50.267503",
     "status": "completed"
    },
    "tags": []
   },
   "outputs": [
    {
     "name": "stderr",
     "output_type": "stream",
     "text": [
      "\r",
      "  0%|                                                                        | 0/22 [00:00<?, ?it/s]"
     ]
    },
    {
     "name": "stderr",
     "output_type": "stream",
     "text": [
      "\r",
      "1 (8130, 5):   0%|                                                           | 0/22 [00:00<?, ?it/s]"
     ]
    },
    {
     "name": "stderr",
     "output_type": "stream",
     "text": [
      "\r",
      "1 (8130, 5):   5%|██▏                                             | 1/22 [07:33<2:38:47, 453.69s/it]"
     ]
    },
    {
     "name": "stderr",
     "output_type": "stream",
     "text": [
      "\r",
      "2 (5857, 5):   5%|██▏                                             | 1/22 [07:33<2:38:47, 453.69s/it]"
     ]
    },
    {
     "name": "stderr",
     "output_type": "stream",
     "text": [
      "\r",
      "2 (5857, 5):   9%|████▎                                           | 2/22 [13:28<2:21:20, 424.04s/it]"
     ]
    },
    {
     "name": "stderr",
     "output_type": "stream",
     "text": [
      "\r",
      "3 (4816, 5):   9%|████▎                                           | 2/22 [13:28<2:21:20, 424.04s/it]"
     ]
    },
    {
     "name": "stderr",
     "output_type": "stream",
     "text": [
      "\r",
      "3 (4816, 5):  14%|██████▌                                         | 3/22 [17:29<1:56:53, 369.14s/it]"
     ]
    },
    {
     "name": "stderr",
     "output_type": "stream",
     "text": [
      "\r",
      "4 (3302, 5):  14%|██████▌                                         | 3/22 [17:29<1:56:53, 369.14s/it]"
     ]
    },
    {
     "name": "stderr",
     "output_type": "stream",
     "text": [
      "\r",
      "4 (3302, 5):  18%|████████▋                                       | 4/22 [20:35<1:34:14, 314.12s/it]"
     ]
    },
    {
     "name": "stderr",
     "output_type": "stream",
     "text": [
      "\r",
      "5 (4056, 5):  18%|████████▋                                       | 4/22 [20:35<1:34:14, 314.12s/it]"
     ]
    },
    {
     "name": "stderr",
     "output_type": "stream",
     "text": [
      "\r",
      "5 (4056, 5):  23%|██████████▉                                     | 5/22 [23:41<1:18:09, 275.83s/it]"
     ]
    },
    {
     "name": "stderr",
     "output_type": "stream",
     "text": [
      "\r",
      "6 (4517, 5):  23%|██████████▉                                     | 5/22 [23:41<1:18:09, 275.83s/it]"
     ]
    },
    {
     "name": "stderr",
     "output_type": "stream",
     "text": [
      "\r",
      "6 (4517, 5):  27%|█████████████                                   | 6/22 [27:15<1:08:35, 257.20s/it]"
     ]
    },
    {
     "name": "stderr",
     "output_type": "stream",
     "text": [
      "\r",
      "7 (3751, 5):  27%|█████████████                                   | 6/22 [27:15<1:08:35, 257.20s/it]"
     ]
    },
    {
     "name": "stderr",
     "output_type": "stream",
     "text": [
      "\r",
      "7 (3751, 5):  32%|███████████████▉                                  | 7/22 [29:58<57:14, 228.99s/it]"
     ]
    },
    {
     "name": "stderr",
     "output_type": "stream",
     "text": [
      "\r",
      "8 (3141, 5):  32%|███████████████▉                                  | 7/22 [29:58<57:14, 228.99s/it]"
     ]
    },
    {
     "name": "stderr",
     "output_type": "stream",
     "text": [
      "\r",
      "8 (3141, 5):  36%|██████████████████▏                               | 8/22 [32:12<46:44, 200.30s/it]"
     ]
    },
    {
     "name": "stderr",
     "output_type": "stream",
     "text": [
      "\r",
      "9 (3323, 5):  36%|██████████████████▏                               | 8/22 [32:12<46:44, 200.30s/it]"
     ]
    },
    {
     "name": "stderr",
     "output_type": "stream",
     "text": [
      "\r",
      "9 (3323, 5):  41%|████████████████████▍                             | 9/22 [34:00<37:24, 172.62s/it]"
     ]
    },
    {
     "name": "stderr",
     "output_type": "stream",
     "text": [
      "\r",
      "10 (3619, 5):  41%|████████████████████                             | 9/22 [34:00<37:24, 172.62s/it]"
     ]
    },
    {
     "name": "stderr",
     "output_type": "stream",
     "text": [
      "\r",
      "10 (3619, 5):  45%|█████████████████████▊                          | 10/22 [36:28<33:04, 165.40s/it]"
     ]
    },
    {
     "name": "stderr",
     "output_type": "stream",
     "text": [
      "\r",
      "11 (4706, 5):  45%|█████████████████████▊                          | 10/22 [36:28<33:04, 165.40s/it]"
     ]
    },
    {
     "name": "stderr",
     "output_type": "stream",
     "text": [
      "\r",
      "11 (4706, 5):  50%|████████████████████████                        | 11/22 [39:39<31:44, 173.13s/it]"
     ]
    },
    {
     "name": "stderr",
     "output_type": "stream",
     "text": [
      "\r",
      "12 (4508, 5):  50%|████████████████████████                        | 11/22 [39:39<31:44, 173.13s/it]"
     ]
    },
    {
     "name": "stderr",
     "output_type": "stream",
     "text": [
      "\r",
      "12 (4508, 5):  55%|██████████████████████████▏                     | 12/22 [42:34<28:57, 173.72s/it]"
     ]
    },
    {
     "name": "stderr",
     "output_type": "stream",
     "text": [
      "\r",
      "13 (1718, 5):  55%|██████████████████████████▏                     | 12/22 [42:34<28:57, 173.72s/it]"
     ]
    },
    {
     "name": "stderr",
     "output_type": "stream",
     "text": [
      "\r",
      "13 (1718, 5):  59%|████████████████████████████▎                   | 13/22 [43:38<21:06, 140.69s/it]"
     ]
    },
    {
     "name": "stderr",
     "output_type": "stream",
     "text": [
      "\r",
      "14 (2667, 5):  59%|████████████████████████████▎                   | 13/22 [43:38<21:06, 140.69s/it]"
     ]
    },
    {
     "name": "stderr",
     "output_type": "stream",
     "text": [
      "\r",
      "14 (2667, 5):  64%|██████████████████████████████▌                 | 14/22 [45:12<16:53, 126.67s/it]"
     ]
    },
    {
     "name": "stderr",
     "output_type": "stream",
     "text": [
      "\r",
      "15 (2611, 5):  64%|██████████████████████████████▌                 | 14/22 [45:12<16:53, 126.67s/it]"
     ]
    },
    {
     "name": "stderr",
     "output_type": "stream",
     "text": [
      "\r",
      "15 (2611, 5):  68%|████████████████████████████████▋               | 15/22 [46:31<13:06, 112.29s/it]"
     ]
    },
    {
     "name": "stderr",
     "output_type": "stream",
     "text": [
      "\r",
      "16 (3635, 5):  68%|████████████████████████████████▋               | 15/22 [46:31<13:06, 112.29s/it]"
     ]
    },
    {
     "name": "stderr",
     "output_type": "stream",
     "text": [
      "\r",
      "16 (3635, 5):  73%|██████████████████████████████████▉             | 16/22 [48:10<10:51, 108.50s/it]"
     ]
    },
    {
     "name": "stderr",
     "output_type": "stream",
     "text": [
      "\r",
      "17 (5121, 5):  73%|██████████████████████████████████▉             | 16/22 [48:10<10:51, 108.50s/it]"
     ]
    },
    {
     "name": "stderr",
     "output_type": "stream",
     "text": [
      "\r",
      "17 (5121, 5):  77%|█████████████████████████████████████           | 17/22 [50:04<09:10, 110.01s/it]"
     ]
    },
    {
     "name": "stderr",
     "output_type": "stream",
     "text": [
      "\r",
      "18 (1493, 5):  77%|█████████████████████████████████████           | 17/22 [50:04<09:10, 110.01s/it]"
     ]
    },
    {
     "name": "stderr",
     "output_type": "stream",
     "text": [
      "\r",
      "18 (1493, 5):  82%|████████████████████████████████████████         | 18/22 [51:15<06:32, 98.23s/it]"
     ]
    },
    {
     "name": "stderr",
     "output_type": "stream",
     "text": [
      "\r",
      "19 (7329, 5):  82%|████████████████████████████████████████         | 18/22 [51:15<06:32, 98.23s/it]"
     ]
    },
    {
     "name": "stderr",
     "output_type": "stream",
     "text": [
      "\r",
      "19 (7329, 5):  86%|█████████████████████████████████████████▍      | 19/22 [53:17<05:16, 105.34s/it]"
     ]
    },
    {
     "name": "stderr",
     "output_type": "stream",
     "text": [
      "\r",
      "20 (2479, 5):  86%|█████████████████████████████████████████▍      | 19/22 [53:17<05:16, 105.34s/it]"
     ]
    },
    {
     "name": "stderr",
     "output_type": "stream",
     "text": [
      "\r",
      "20 (2479, 5):  91%|████████████████████████████████████████████▌    | 20/22 [54:22<03:06, 93.36s/it]"
     ]
    },
    {
     "name": "stderr",
     "output_type": "stream",
     "text": [
      "\r",
      "21 (1242, 5):  91%|████████████████████████████████████████████▌    | 20/22 [54:22<03:06, 93.36s/it]"
     ]
    },
    {
     "name": "stderr",
     "output_type": "stream",
     "text": [
      "\r",
      "21 (1242, 5):  95%|██████████████████████████████████████████████▊  | 21/22 [55:01<01:17, 77.08s/it]"
     ]
    },
    {
     "name": "stderr",
     "output_type": "stream",
     "text": [
      "\r",
      "22 (2687, 5):  95%|██████████████████████████████████████████████▊  | 21/22 [55:01<01:17, 77.08s/it]"
     ]
    },
    {
     "name": "stderr",
     "output_type": "stream",
     "text": [
      "\r",
      "22 (2687, 5): 100%|█████████████████████████████████████████████████| 22/22 [55:41<00:00, 65.95s/it]"
     ]
    },
    {
     "name": "stderr",
     "output_type": "stream",
     "text": [
      "\r",
      "22 (2687, 5): 100%|████████████████████████████████████████████████| 22/22 [55:41<00:00, 151.89s/it]"
     ]
    },
    {
     "name": "stderr",
     "output_type": "stream",
     "text": [
      "\n"
     ]
    }
   ],
   "source": [
    "with pd.HDFStore(output_file, mode=\"w\", complevel=4) as store:\n",
    "    pbar = tqdm(\n",
    "        variants_ld_block_df.groupby(\"chr\"),\n",
    "        ncols=100,\n",
    "        total=variants_ld_block_df[\"chr\"].unique().shape[0],\n",
    "    )\n",
    "\n",
    "    store[\"metadata\"] = variants_ld_block_df\n",
    "\n",
    "    for grp_name, grp_data in pbar:\n",
    "        pbar.set_description(f\"{grp_name} {grp_data.shape}\")\n",
    "        snps_cov = compute_snps_cov(grp_data).astype(np.float32)\n",
    "        assert not snps_cov.isna().any().any()\n",
    "        store[f\"chr{grp_name}\"] = snps_cov"
   ]
  },
  {
   "cell_type": "markdown",
   "id": "dated-energy",
   "metadata": {
    "papermill": {
     "duration": 0.040791,
     "end_time": "2021-04-29T03:30:32.685291",
     "exception": false,
     "start_time": "2021-04-29T03:30:32.644500",
     "status": "completed"
    },
    "tags": []
   },
   "source": [
    "# Testing"
   ]
  },
  {
   "cell_type": "code",
   "execution_count": 56,
   "id": "homeless-chancellor",
   "metadata": {
    "execution": {
     "iopub.execute_input": "2021-04-29T03:30:32.768989Z",
     "iopub.status.busy": "2021-04-29T03:30:32.768581Z",
     "iopub.status.idle": "2021-04-29T03:30:32.779267Z",
     "shell.execute_reply": "2021-04-29T03:30:32.778880Z"
    },
    "papermill": {
     "duration": 0.05388,
     "end_time": "2021-04-29T03:30:32.779352",
     "exception": false,
     "start_time": "2021-04-29T03:30:32.725472",
     "status": "completed"
    },
    "tags": []
   },
   "outputs": [],
   "source": [
    "_tmp = variants_ld_block_df[variants_ld_block_df[\"chr\"] == 1]"
   ]
  },
  {
   "cell_type": "code",
   "execution_count": 57,
   "id": "connected-touch",
   "metadata": {
    "execution": {
     "iopub.execute_input": "2021-04-29T03:30:32.863719Z",
     "iopub.status.busy": "2021-04-29T03:30:32.863353Z",
     "iopub.status.idle": "2021-04-29T03:30:32.873253Z",
     "shell.execute_reply": "2021-04-29T03:30:32.872875Z"
    },
    "papermill": {
     "duration": 0.053396,
     "end_time": "2021-04-29T03:30:32.873338",
     "exception": false,
     "start_time": "2021-04-29T03:30:32.819942",
     "status": "completed"
    },
    "tags": []
   },
   "outputs": [
    {
     "data": {
      "text/plain": [
       "(8130, 5)"
      ]
     },
     "execution_count": 57,
     "metadata": {},
     "output_type": "execute_result"
    }
   ],
   "source": [
    "_tmp.shape"
   ]
  },
  {
   "cell_type": "code",
   "execution_count": 58,
   "id": "parental-favor",
   "metadata": {
    "execution": {
     "iopub.execute_input": "2021-04-29T03:30:32.983603Z",
     "iopub.status.busy": "2021-04-29T03:30:32.983246Z",
     "iopub.status.idle": "2021-04-29T03:30:32.992481Z",
     "shell.execute_reply": "2021-04-29T03:30:32.992103Z"
    },
    "papermill": {
     "duration": 0.058822,
     "end_time": "2021-04-29T03:30:32.992569",
     "exception": false,
     "start_time": "2021-04-29T03:30:32.933747",
     "status": "completed"
    },
    "tags": []
   },
   "outputs": [],
   "source": [
    "assert _tmp.shape[0] > 0"
   ]
  },
  {
   "cell_type": "code",
   "execution_count": 59,
   "id": "speaking-weekly",
   "metadata": {
    "execution": {
     "iopub.execute_input": "2021-04-29T03:30:33.080502Z",
     "iopub.status.busy": "2021-04-29T03:30:33.080118Z",
     "iopub.status.idle": "2021-04-29T03:30:33.092894Z",
     "shell.execute_reply": "2021-04-29T03:30:33.093205Z"
    },
    "papermill": {
     "duration": 0.058384,
     "end_time": "2021-04-29T03:30:33.093313",
     "exception": false,
     "start_time": "2021-04-29T03:30:33.034929",
     "status": "completed"
    },
    "tags": []
   },
   "outputs": [
    {
     "data": {
      "text/plain": [
       "7701"
      ]
     },
     "metadata": {},
     "output_type": "display_data"
    }
   ],
   "source": [
    "n_expected = len(set(_tmp[\"varID\"]).intersection(variants_ids_with_genotype))\n",
    "display(n_expected)\n",
    "assert n_expected > 0"
   ]
  },
  {
   "cell_type": "code",
   "execution_count": 60,
   "id": "proprietary-scratch",
   "metadata": {
    "execution": {
     "iopub.execute_input": "2021-04-29T03:30:33.182425Z",
     "iopub.status.busy": "2021-04-29T03:30:33.182066Z",
     "iopub.status.idle": "2021-04-29T03:30:34.304524Z",
     "shell.execute_reply": "2021-04-29T03:30:34.304086Z"
    },
    "papermill": {
     "duration": 1.167609,
     "end_time": "2021-04-29T03:30:34.304630",
     "exception": false,
     "start_time": "2021-04-29T03:30:33.137021",
     "status": "completed"
    },
    "tags": []
   },
   "outputs": [],
   "source": [
    "with pd.HDFStore(output_file, mode=\"r\") as store:\n",
    "    df = store[\"chr1\"]\n",
    "    assert df.shape == (n_expected, n_expected)\n",
    "    assert not df.isna().any().any()"
   ]
  },
  {
   "cell_type": "code",
   "execution_count": null,
   "id": "unlikely-limitation",
   "metadata": {
    "papermill": {
     "duration": 0.041763,
     "end_time": "2021-04-29T03:30:34.395801",
     "exception": false,
     "start_time": "2021-04-29T03:30:34.354038",
     "status": "completed"
    },
    "tags": []
   },
   "outputs": [],
   "source": []
  }
 ],
 "metadata": {
  "jupytext": {
   "cell_metadata_filter": "all,-execution,-papermill,-trusted",
   "formats": "ipynb,py//py:percent"
  },
  "kernelspec": {
   "display_name": "Python 3",
   "language": "python",
   "name": "python3"
  },
  "language_info": {
   "codemirror_mode": {
    "name": "ipython",
    "version": 3
   },
   "file_extension": ".py",
   "mimetype": "text/x-python",
   "name": "python",
   "nbconvert_exporter": "python",
   "pygments_lexer": "ipython3",
   "version": "3.8.8"
  },
  "papermill": {
   "default_parameters": {},
   "duration": 3437.739445,
   "end_time": "2021-04-29T03:30:38.956807",
   "environment_variables": {},
   "exception": null,
   "input_path": "08_gsa_gls/06-snps_into_chr_cov.ipynb",
   "output_path": "08_gsa_gls/06-snps_into_chr_cov.run.ipynb",
   "parameters": {},
   "start_time": "2021-04-29T02:33:21.217362",
   "version": "2.2.2"
  }
 },
 "nbformat": 4,
 "nbformat_minor": 5
}
