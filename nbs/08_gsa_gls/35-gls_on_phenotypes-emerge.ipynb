{
 "cells": [
  {
   "cell_type": "markdown",
   "id": "becoming-employer",
   "metadata": {
    "papermill": {
     "duration": 0.022374,
     "end_time": "2021-03-10T00:10:54.143712",
     "exception": false,
     "start_time": "2021-03-10T00:10:54.121338",
     "status": "completed"
    },
    "tags": []
   },
   "source": [
    "# Environment variables"
   ]
  },
  {
   "cell_type": "code",
   "execution_count": null,
   "id": "level-mining",
   "metadata": {},
   "outputs": [],
   "source": [
    "%load_ext autoreload\n",
    "%autoreload 2"
   ]
  },
  {
   "cell_type": "code",
   "execution_count": null,
   "id": "interior-julian",
   "metadata": {},
   "outputs": [],
   "source": [
    "import conf"
   ]
  },
  {
   "cell_type": "code",
   "execution_count": null,
   "id": "harmful-citation",
   "metadata": {
    "papermill": {
     "duration": 0.038647,
     "end_time": "2021-03-10T00:10:54.205009",
     "exception": false,
     "start_time": "2021-03-10T00:10:54.166362",
     "status": "completed"
    },
    "tags": []
   },
   "outputs": [],
   "source": [
    "N_JOBS = conf.GENERAL[\"N_JOBS\"]\n",
    "display(N_JOBS)"
   ]
  },
  {
   "cell_type": "code",
   "execution_count": null,
   "id": "tamil-compromise",
   "metadata": {
    "papermill": {
     "duration": 0.029926,
     "end_time": "2021-03-10T00:10:54.259533",
     "exception": false,
     "start_time": "2021-03-10T00:10:54.229607",
     "status": "completed"
    },
    "tags": []
   },
   "outputs": [],
   "source": [
    "%env MKL_NUM_THREADS=$N_JOBS\n",
    "%env OPEN_BLAS_NUM_THREADS=$N_JOBS\n",
    "%env NUMEXPR_NUM_THREADS=$N_JOBS\n",
    "%env OMP_NUM_THREADS=$N_JOBS"
   ]
  },
  {
   "cell_type": "markdown",
   "id": "center-aside",
   "metadata": {},
   "source": [
    "# Modules"
   ]
  },
  {
   "cell_type": "code",
   "execution_count": null,
   "id": "bronze-idaho",
   "metadata": {},
   "outputs": [],
   "source": [
    "from pathlib import Path\n",
    "\n",
    "import statsmodels.api as sm\n",
    "import numpy as np\n",
    "import pandas as pd\n",
    "from sklearn.preprocessing import scale\n",
    "from tqdm import tqdm\n",
    "\n",
    "from gls import GLSPhenoplier"
   ]
  },
  {
   "cell_type": "markdown",
   "id": "unnecessary-album",
   "metadata": {},
   "source": [
    "# Settings"
   ]
  },
  {
   "cell_type": "code",
   "execution_count": null,
   "id": "broken-diploma",
   "metadata": {},
   "outputs": [],
   "source": [
    "OUTPUT_DIR = conf.RESULTS[\"GLS\"]\n",
    "display(OUTPUT_DIR)\n",
    "\n",
    "OUTPUT_DIR.mkdir(exist_ok=True, parents=True)"
   ]
  },
  {
   "cell_type": "markdown",
   "id": "academic-virus",
   "metadata": {},
   "source": [
    "# Load data"
   ]
  },
  {
   "cell_type": "markdown",
   "id": "fifteen-payment",
   "metadata": {},
   "source": [
    "## eMERGE to PhenomeXcan maps"
   ]
  },
  {
   "cell_type": "code",
   "execution_count": null,
   "id": "affiliated-humanitarian",
   "metadata": {},
   "outputs": [],
   "source": [
    "# FIXME: hardcoded\n",
    "input_filepath = Path(\n",
    "    \"/home/miltondp/projects/labs/greenelab/phenoplier/base/data/emerge\",\n",
    "    \"eMERGE_III_PMBB_GSA_v2_2020_phecode_AFR_EUR_cc50_counts_w_dictionary.txt\",\n",
    ").resolve()\n",
    "display(input_filepath)"
   ]
  },
  {
   "cell_type": "code",
   "execution_count": null,
   "id": "matched-collar",
   "metadata": {},
   "outputs": [],
   "source": [
    "emerge_traits_df = pd.read_csv(\n",
    "    input_filepath,\n",
    "    sep=\"\\t\",\n",
    "    dtype={\"phecode\": str},\n",
    "    usecols=[\"phecode\", \"phenotype\", \"category\"],\n",
    ")"
   ]
  },
  {
   "cell_type": "code",
   "execution_count": null,
   "id": "crucial-oriental",
   "metadata": {},
   "outputs": [],
   "source": [
    "emerge_traits_df = emerge_traits_df.rename(\n",
    "    columns={\n",
    "        \"phenotype\": \"phecode_phenotype\",\n",
    "        \"category\": \"phecode_category\",\n",
    "    }\n",
    ")"
   ]
  },
  {
   "cell_type": "code",
   "execution_count": null,
   "id": "tight-three",
   "metadata": {},
   "outputs": [],
   "source": [
    "emerge_traits_df.shape"
   ]
  },
  {
   "cell_type": "code",
   "execution_count": null,
   "id": "uniform-drawing",
   "metadata": {},
   "outputs": [],
   "source": [
    "emerge_traits_df.head()"
   ]
  },
  {
   "cell_type": "markdown",
   "id": "binding-geneva",
   "metadata": {},
   "source": [
    "## eMERGE to PhenomeXcan maps"
   ]
  },
  {
   "cell_type": "code",
   "execution_count": null,
   "id": "subjective-honey",
   "metadata": {},
   "outputs": [],
   "source": [
    "# FIXME: hardcoded\n",
    "emerge_phenomexcan_maps_filepath = Path(\n",
    "    \"/home/miltondp/projects/labs/greenelab/phenoplier/base/data/emerge\",\n",
    "    \"phecodes_phenomexcan_maps.tsv\",\n",
    ").resolve()\n",
    "display(emerge_phenomexcan_maps_filepath)"
   ]
  },
  {
   "cell_type": "code",
   "execution_count": null,
   "id": "married-transparency",
   "metadata": {},
   "outputs": [],
   "source": [
    "emerge_phenomexcan_maps = pd.read_csv(\n",
    "    emerge_phenomexcan_maps_filepath, sep=\"\\t\", dtype={\"phecode\": str}\n",
    ")"
   ]
  },
  {
   "cell_type": "code",
   "execution_count": null,
   "id": "silent-spanish",
   "metadata": {},
   "outputs": [],
   "source": [
    "emerge_phenomexcan_maps = emerge_phenomexcan_maps.dropna(\n",
    "    subset=[\"phecode\", \"phenomexcan\"], how=\"any\"\n",
    ")"
   ]
  },
  {
   "cell_type": "code",
   "execution_count": null,
   "id": "affected-faith",
   "metadata": {},
   "outputs": [],
   "source": [
    "emerge_phenomexcan_maps.shape"
   ]
  },
  {
   "cell_type": "code",
   "execution_count": null,
   "id": "indoor-meditation",
   "metadata": {},
   "outputs": [],
   "source": [
    "emerge_phenomexcan_maps.head()"
   ]
  },
  {
   "cell_type": "markdown",
   "id": "demonstrated-receipt",
   "metadata": {},
   "source": [
    "## eMERGE (S-MultiXcan) projection"
   ]
  },
  {
   "cell_type": "code",
   "execution_count": null,
   "id": "amended-parish",
   "metadata": {},
   "outputs": [],
   "source": [
    "# FIXME hardcoded\n",
    "input_filepath = Path(\n",
    "    \"/home/miltondp/projects/labs/greenelab/phenoplier/base/results/projections\",\n",
    "    \"projection-emerge-smultixcan-mashr-zscores.pkl\",\n",
    ").resolve()\n",
    "display(input_filepath)"
   ]
  },
  {
   "cell_type": "code",
   "execution_count": null,
   "id": "inappropriate-research",
   "metadata": {},
   "outputs": [],
   "source": [
    "emerge_projection = pd.read_pickle(input_filepath)"
   ]
  },
  {
   "cell_type": "code",
   "execution_count": null,
   "id": "narrative-shore",
   "metadata": {},
   "outputs": [],
   "source": [
    "emerge_projection.shape"
   ]
  },
  {
   "cell_type": "code",
   "execution_count": null,
   "id": "opening-prague",
   "metadata": {},
   "outputs": [],
   "source": [
    "emerge_projection.head()"
   ]
  },
  {
   "cell_type": "markdown",
   "id": "binary-semester",
   "metadata": {},
   "source": [
    "## eMERGE (S-MultiXcan) projection"
   ]
  },
  {
   "cell_type": "code",
   "execution_count": null,
   "id": "loaded-paragraph",
   "metadata": {},
   "outputs": [],
   "source": [
    "# FIXME: path hardcoded\n",
    "emerge_smultixcan_projection_filepath = Path(\n",
    "    \"/home/miltondp/projects/labs/greenelab/phenoplier/base/data/emerge/gene_assoc/emerge-smultixcan-mashr-zscores.pkl\"\n",
    ").resolve()\n",
    "\n",
    "display(emerge_smultixcan_projection_filepath)"
   ]
  },
  {
   "cell_type": "code",
   "execution_count": null,
   "id": "invalid-indiana",
   "metadata": {},
   "outputs": [],
   "source": [
    "_tmp = pd.read_pickle(emerge_smultixcan_projection_filepath)"
   ]
  },
  {
   "cell_type": "code",
   "execution_count": null,
   "id": "intense-station",
   "metadata": {},
   "outputs": [],
   "source": [
    "_tmp.shape"
   ]
  },
  {
   "cell_type": "code",
   "execution_count": null,
   "id": "beautiful-leader",
   "metadata": {},
   "outputs": [],
   "source": [
    "_tmp.head()"
   ]
  },
  {
   "cell_type": "markdown",
   "id": "wireless-wrist",
   "metadata": {},
   "source": [
    "## GLS results on PhenomeXcan"
   ]
  },
  {
   "cell_type": "code",
   "execution_count": null,
   "id": "beginning-virus",
   "metadata": {},
   "outputs": [],
   "source": [
    "input_filepath = conf.RESULTS[\"GLS\"] / \"gls_phenotypes.pkl\"\n",
    "display(input_filepath)"
   ]
  },
  {
   "cell_type": "code",
   "execution_count": null,
   "id": "vocational-german",
   "metadata": {},
   "outputs": [],
   "source": [
    "gls_phenomexcan = pd.read_pickle(input_filepath)"
   ]
  },
  {
   "cell_type": "code",
   "execution_count": null,
   "id": "coordinated-brick",
   "metadata": {},
   "outputs": [],
   "source": [
    "gls_phenomexcan.shape"
   ]
  },
  {
   "cell_type": "code",
   "execution_count": null,
   "id": "planned-orbit",
   "metadata": {},
   "outputs": [],
   "source": [
    "gls_phenomexcan.head()"
   ]
  },
  {
   "cell_type": "markdown",
   "id": "linear-velvet",
   "metadata": {},
   "source": [
    "## MultiPLIER summary"
   ]
  },
  {
   "cell_type": "code",
   "execution_count": null,
   "id": "burning-cooperative",
   "metadata": {},
   "outputs": [],
   "source": [
    "multiplier_model_summary = pd.read_pickle(conf.MULTIPLIER[\"MODEL_SUMMARY_FILE\"])"
   ]
  },
  {
   "cell_type": "code",
   "execution_count": null,
   "id": "resident-poetry",
   "metadata": {},
   "outputs": [],
   "source": [
    "multiplier_model_summary.shape"
   ]
  },
  {
   "cell_type": "code",
   "execution_count": null,
   "id": "unlike-forestry",
   "metadata": {},
   "outputs": [],
   "source": [
    "multiplier_model_summary.head()"
   ]
  },
  {
   "cell_type": "code",
   "execution_count": null,
   "id": "adjusted-narrative",
   "metadata": {},
   "outputs": [],
   "source": [
    "well_aligned_lvs = multiplier_model_summary[\n",
    "    (multiplier_model_summary[\"FDR\"] < 0.05) | (multiplier_model_summary[\"AUC\"] >= 0.75)\n",
    "]\n",
    "\n",
    "display(well_aligned_lvs.shape)\n",
    "display(well_aligned_lvs.head())"
   ]
  },
  {
   "cell_type": "code",
   "execution_count": null,
   "id": "proved-tomato",
   "metadata": {},
   "outputs": [],
   "source": [
    "well_aligned_lv_codes = set([f\"LV{lvi}\" for lvi in well_aligned_lvs[\"LV index\"]])"
   ]
  },
  {
   "cell_type": "code",
   "execution_count": null,
   "id": "dimensional-uncle",
   "metadata": {},
   "outputs": [],
   "source": [
    "len(well_aligned_lv_codes)"
   ]
  },
  {
   "cell_type": "code",
   "execution_count": null,
   "id": "scenic-roller",
   "metadata": {},
   "outputs": [],
   "source": [
    "list(well_aligned_lv_codes)[:5]"
   ]
  },
  {
   "cell_type": "markdown",
   "id": "single-finland",
   "metadata": {},
   "source": [
    "# Select LV from previous GLS run on PhenomeXcan"
   ]
  },
  {
   "cell_type": "code",
   "execution_count": null,
   "id": "lightweight-colony",
   "metadata": {},
   "outputs": [],
   "source": [
    "gls_phenomexcan_lvs = gls_phenomexcan[\"lv\"].unique()"
   ]
  },
  {
   "cell_type": "code",
   "execution_count": null,
   "id": "urban-survival",
   "metadata": {},
   "outputs": [],
   "source": [
    "gls_phenomexcan_lvs.shape"
   ]
  },
  {
   "cell_type": "code",
   "execution_count": null,
   "id": "binary-donor",
   "metadata": {},
   "outputs": [],
   "source": [
    "gls_phenomexcan_lvs"
   ]
  },
  {
   "cell_type": "markdown",
   "id": "political-replication",
   "metadata": {},
   "source": [
    "# Select eMERGE traits"
   ]
  },
  {
   "cell_type": "code",
   "execution_count": null,
   "id": "passive-crawford",
   "metadata": {},
   "outputs": [],
   "source": [
    "gls_phenomexcan_traits = gls_phenomexcan[\"phenotype\"].unique()"
   ]
  },
  {
   "cell_type": "code",
   "execution_count": null,
   "id": "violent-crazy",
   "metadata": {},
   "outputs": [],
   "source": [
    "gls_phenomexcan_traits.shape"
   ]
  },
  {
   "cell_type": "code",
   "execution_count": null,
   "id": "absent-burlington",
   "metadata": {},
   "outputs": [],
   "source": [
    "gls_phenomexcan_in_emerge = emerge_phenomexcan_maps[\n",
    "    (emerge_phenomexcan_maps[\"efo\"].isin(gls_phenomexcan_traits))\n",
    "    | (emerge_phenomexcan_maps[\"phenomexcan\"].isin(gls_phenomexcan_traits))\n",
    "]"
   ]
  },
  {
   "cell_type": "code",
   "execution_count": null,
   "id": "informal-jonathan",
   "metadata": {},
   "outputs": [],
   "source": [
    "gls_phenomexcan_in_emerge"
   ]
  },
  {
   "cell_type": "code",
   "execution_count": null,
   "id": "artistic-baking",
   "metadata": {},
   "outputs": [],
   "source": [
    "gls_emerge_phecodes = gls_phenomexcan_in_emerge[\"phecode\"].unique().tolist()"
   ]
  },
  {
   "cell_type": "code",
   "execution_count": null,
   "id": "critical-amateur",
   "metadata": {},
   "outputs": [],
   "source": [
    "# these are the mapped traits from PhenomeXcan to phecodes\n",
    "gls_emerge_phecodes"
   ]
  },
  {
   "cell_type": "code",
   "execution_count": null,
   "id": "falling-north",
   "metadata": {},
   "outputs": [],
   "source": [
    "# phecode_to_desc_map = emerge_traits_df[[\"phecode\", \"phecode_phenotype\"]].set_index(\"phecode\").squeeze().to_dict()"
   ]
  },
  {
   "cell_type": "markdown",
   "id": "executed-chamber",
   "metadata": {},
   "source": [
    "# GLSPhenoplier"
   ]
  },
  {
   "cell_type": "markdown",
   "id": "rough-reputation",
   "metadata": {},
   "source": [
    "## Get list of phenotypes/lvs pairs"
   ]
  },
  {
   "cell_type": "code",
   "execution_count": null,
   "id": "humanitarian-hollow",
   "metadata": {},
   "outputs": [],
   "source": [
    "phenotypes_lvs_pairs = []\n",
    "\n",
    "# for lvs run for PhenomeXcan, I take the top traits in eMERGE + global mapped phenotypes\n",
    "for lv in gls_phenomexcan_lvs:\n",
    "    lv_traits = emerge_projection.loc[lv]\n",
    "    lv_traits = lv_traits[lv_traits > 0.0]\n",
    "    lv_traits = lv_traits.sort_values(ascending=False).head(20)\n",
    "\n",
    "    for phenotype_code in set(lv_traits.index.tolist() + gls_emerge_phecodes):\n",
    "        phenotypes_lvs_pairs.append(\n",
    "            {\n",
    "                \"phenotype\": phenotype_code,\n",
    "                \"lv\": lv,\n",
    "            }\n",
    "        )\n",
    "\n",
    "phenotypes_lvs_pairs = pd.DataFrame(phenotypes_lvs_pairs).drop_duplicates()"
   ]
  },
  {
   "cell_type": "code",
   "execution_count": null,
   "id": "turned-architecture",
   "metadata": {},
   "outputs": [],
   "source": [
    "phenotypes_lvs_pairs = phenotypes_lvs_pairs.sort_values(\"phenotype\").reset_index(\n",
    "    drop=True\n",
    ")"
   ]
  },
  {
   "cell_type": "code",
   "execution_count": null,
   "id": "patient-mystery",
   "metadata": {},
   "outputs": [],
   "source": [
    "phenotypes_lvs_pairs.shape"
   ]
  },
  {
   "cell_type": "code",
   "execution_count": null,
   "id": "normal-column",
   "metadata": {},
   "outputs": [],
   "source": [
    "phenotypes_lvs_pairs.head()"
   ]
  },
  {
   "cell_type": "markdown",
   "id": "alternate-minnesota",
   "metadata": {},
   "source": [
    "## Run"
   ]
  },
  {
   "cell_type": "code",
   "execution_count": null,
   "id": "enormous-acquisition",
   "metadata": {},
   "outputs": [],
   "source": [
    "output_file = OUTPUT_DIR / \"gls_phenotypes-emerge.pkl\"\n",
    "display(output_file)"
   ]
  },
  {
   "cell_type": "code",
   "execution_count": null,
   "id": "mighty-beach",
   "metadata": {},
   "outputs": [],
   "source": [
    "results = []\n",
    "\n",
    "pbar = tqdm(total=phenotypes_lvs_pairs.shape[0])\n",
    "\n",
    "for idx, row in phenotypes_lvs_pairs.iterrows():\n",
    "    phenotype_code = row[\"phenotype\"]\n",
    "    lv_code = row[\"lv\"]\n",
    "\n",
    "    pbar.set_description(f\"{phenotype_code} - {lv_code}\")\n",
    "\n",
    "    gls_model = GLSPhenoplier(\n",
    "        smultixcan_result_set_filepath=emerge_smultixcan_projection_filepath\n",
    "    )\n",
    "    gls_model.fit_named(lv_code, phenotype_code)\n",
    "    res = gls_model.results\n",
    "\n",
    "    results.append(\n",
    "        {\n",
    "            \"phenotype\": phenotype_code,\n",
    "            \"lv\": lv_code,\n",
    "            \"lv_with_pathway\": lv_code in well_aligned_lv_codes,\n",
    "            \"coef\": res.params.loc[\"lv\"],\n",
    "            \"pvalue\": res.pvalues.loc[\"lv\"],\n",
    "            \"summary\": gls_model.results_summary,\n",
    "        }\n",
    "    )\n",
    "\n",
    "    if (idx % 10) == 0:\n",
    "        pd.DataFrame(results).to_pickle(output_file)\n",
    "\n",
    "    pbar.update(1)\n",
    "\n",
    "pbar.close()"
   ]
  },
  {
   "cell_type": "code",
   "execution_count": null,
   "id": "hindu-plumbing",
   "metadata": {},
   "outputs": [],
   "source": [
    "results = pd.DataFrame(results)"
   ]
  },
  {
   "cell_type": "code",
   "execution_count": null,
   "id": "integrated-gospel",
   "metadata": {},
   "outputs": [],
   "source": [
    "results.shape"
   ]
  },
  {
   "cell_type": "code",
   "execution_count": null,
   "id": "instant-conversation",
   "metadata": {},
   "outputs": [],
   "source": [
    "results.head()"
   ]
  },
  {
   "cell_type": "code",
   "execution_count": null,
   "id": "likely-iraqi",
   "metadata": {},
   "outputs": [],
   "source": [
    "results.sort_values(\"pvalue\").head(10)"
   ]
  },
  {
   "cell_type": "markdown",
   "id": "legislative-breath",
   "metadata": {},
   "source": [
    "## Save"
   ]
  },
  {
   "cell_type": "code",
   "execution_count": null,
   "id": "steady-toolbox",
   "metadata": {},
   "outputs": [],
   "source": [
    "results.to_pickle(output_file)"
   ]
  },
  {
   "cell_type": "code",
   "execution_count": null,
   "id": "scientific-buffalo",
   "metadata": {},
   "outputs": [],
   "source": []
  }
 ],
 "metadata": {
  "jupytext": {
   "cell_metadata_filter": "all,-execution,-papermill,-trusted",
   "formats": "ipynb,py//py:percent"
  },
  "kernelspec": {
   "display_name": "Python 3",
   "language": "python",
   "name": "python3"
  },
  "language_info": {
   "codemirror_mode": {
    "name": "ipython",
    "version": 3
   },
   "file_extension": ".py",
   "mimetype": "text/x-python",
   "name": "python",
   "nbconvert_exporter": "python",
   "pygments_lexer": "ipython3",
   "version": "3.8.8"
  }
 },
 "nbformat": 4,
 "nbformat_minor": 5
}
