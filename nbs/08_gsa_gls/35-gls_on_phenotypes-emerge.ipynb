{
 "cells": [
  {
   "cell_type": "markdown",
   "id": "wicked-survival",
   "metadata": {
    "papermill": {
     "duration": 0.028206,
     "end_time": "2021-07-17T03:03:32.028977",
     "exception": false,
     "start_time": "2021-07-17T03:03:32.000771",
     "status": "completed"
    },
    "tags": []
   },
   "source": [
    "# Description"
   ]
  },
  {
   "cell_type": "markdown",
   "id": "controversial-annotation",
   "metadata": {
    "papermill": {
     "duration": 0.02219,
     "end_time": "2021-07-17T03:03:32.073671",
     "exception": false,
     "start_time": "2021-07-17T03:03:32.051481",
     "status": "completed"
    },
    "tags": []
   },
   "source": [
    "This notebook is similar to `30-gls_on_phenotypes-phenomexcan.ipynb` but for eMERGE S-MultiXcan results instead of PhenomeXcan.\n",
    "\n",
    "Since we don't have partition/clusters of eMERGE results, we selected the same set of LVs from the run on PhenomeXcan (`30-gls_on_phenotypes-phenomexcan.ipynb`); and regarding traits, we take the top 20 traits from each LVs to create a list of trait/LVs pairs to run GLSPhenoplier on."
   ]
  },
  {
   "cell_type": "markdown",
   "id": "educated-jurisdiction",
   "metadata": {
    "papermill": {
     "duration": 0.022418,
     "end_time": "2021-07-17T03:03:32.118581",
     "exception": false,
     "start_time": "2021-07-17T03:03:32.096163",
     "status": "completed"
    },
    "tags": []
   },
   "source": [
    "# Environment variables"
   ]
  },
  {
   "cell_type": "code",
   "execution_count": 1,
   "id": "offshore-reservoir",
   "metadata": {
    "execution": {
     "iopub.execute_input": "2021-07-17T03:03:32.168958Z",
     "iopub.status.busy": "2021-07-17T03:03:32.168516Z",
     "iopub.status.idle": "2021-07-17T03:03:32.176109Z",
     "shell.execute_reply": "2021-07-17T03:03:32.175686Z"
    },
    "papermill": {
     "duration": 0.035515,
     "end_time": "2021-07-17T03:03:32.176197",
     "exception": false,
     "start_time": "2021-07-17T03:03:32.140682",
     "status": "completed"
    },
    "tags": []
   },
   "outputs": [],
   "source": [
    "%load_ext autoreload\n",
    "%autoreload 2"
   ]
  },
  {
   "cell_type": "code",
   "execution_count": 2,
   "id": "dressed-strip",
   "metadata": {
    "execution": {
     "iopub.execute_input": "2021-07-17T03:03:32.225393Z",
     "iopub.status.busy": "2021-07-17T03:03:32.225014Z",
     "iopub.status.idle": "2021-07-17T03:03:32.234834Z",
     "shell.execute_reply": "2021-07-17T03:03:32.234514Z"
    },
    "papermill": {
     "duration": 0.035703,
     "end_time": "2021-07-17T03:03:32.234917",
     "exception": false,
     "start_time": "2021-07-17T03:03:32.199214",
     "status": "completed"
    },
    "tags": []
   },
   "outputs": [],
   "source": [
    "import conf"
   ]
  },
  {
   "cell_type": "code",
   "execution_count": 3,
   "id": "capable-procurement",
   "metadata": {
    "execution": {
     "iopub.execute_input": "2021-07-17T03:03:32.283303Z",
     "iopub.status.busy": "2021-07-17T03:03:32.282952Z",
     "iopub.status.idle": "2021-07-17T03:03:32.293208Z",
     "shell.execute_reply": "2021-07-17T03:03:32.292847Z"
    },
    "papermill": {
     "duration": 0.0351,
     "end_time": "2021-07-17T03:03:32.293288",
     "exception": false,
     "start_time": "2021-07-17T03:03:32.258188",
     "status": "completed"
    },
    "tags": []
   },
   "outputs": [
    {
     "data": {
      "text/plain": [
       "3"
      ]
     },
     "metadata": {},
     "output_type": "display_data"
    }
   ],
   "source": [
    "N_JOBS = conf.GENERAL[\"N_JOBS\"]\n",
    "display(N_JOBS)"
   ]
  },
  {
   "cell_type": "code",
   "execution_count": 4,
   "id": "changed-advice",
   "metadata": {
    "execution": {
     "iopub.execute_input": "2021-07-17T03:03:32.343154Z",
     "iopub.status.busy": "2021-07-17T03:03:32.342801Z",
     "iopub.status.idle": "2021-07-17T03:03:32.349452Z",
     "shell.execute_reply": "2021-07-17T03:03:32.349132Z"
    },
    "papermill": {
     "duration": 0.033049,
     "end_time": "2021-07-17T03:03:32.349536",
     "exception": false,
     "start_time": "2021-07-17T03:03:32.316487",
     "status": "completed"
    },
    "tags": []
   },
   "outputs": [
    {
     "name": "stdout",
     "output_type": "stream",
     "text": [
      "env: MKL_NUM_THREADS=3\n",
      "env: OPEN_BLAS_NUM_THREADS=3\n",
      "env: NUMEXPR_NUM_THREADS=3\n",
      "env: OMP_NUM_THREADS=3\n"
     ]
    }
   ],
   "source": [
    "%env MKL_NUM_THREADS=$N_JOBS\n",
    "%env OPEN_BLAS_NUM_THREADS=$N_JOBS\n",
    "%env NUMEXPR_NUM_THREADS=$N_JOBS\n",
    "%env OMP_NUM_THREADS=$N_JOBS"
   ]
  },
  {
   "cell_type": "markdown",
   "id": "absent-elevation",
   "metadata": {
    "papermill": {
     "duration": 0.023267,
     "end_time": "2021-07-17T03:03:32.397357",
     "exception": false,
     "start_time": "2021-07-17T03:03:32.374090",
     "status": "completed"
    },
    "tags": []
   },
   "source": [
    "# Modules"
   ]
  },
  {
   "cell_type": "code",
   "execution_count": 5,
   "id": "hourly-rider",
   "metadata": {
    "execution": {
     "iopub.execute_input": "2021-07-17T03:03:32.445449Z",
     "iopub.status.busy": "2021-07-17T03:03:32.445093Z",
     "iopub.status.idle": "2021-07-17T03:03:33.199634Z",
     "shell.execute_reply": "2021-07-17T03:03:33.199199Z"
    },
    "papermill": {
     "duration": 0.779543,
     "end_time": "2021-07-17T03:03:33.199726",
     "exception": false,
     "start_time": "2021-07-17T03:03:32.420183",
     "status": "completed"
    },
    "tags": []
   },
   "outputs": [],
   "source": [
    "from pathlib import Path\n",
    "\n",
    "import statsmodels.api as sm\n",
    "import numpy as np\n",
    "import pandas as pd\n",
    "from sklearn.preprocessing import scale\n",
    "from tqdm import tqdm\n",
    "\n",
    "from gls import GLSPhenoplier"
   ]
  },
  {
   "cell_type": "markdown",
   "id": "royal-bosnia",
   "metadata": {
    "papermill": {
     "duration": 0.023455,
     "end_time": "2021-07-17T03:03:33.247845",
     "exception": false,
     "start_time": "2021-07-17T03:03:33.224390",
     "status": "completed"
    },
    "tags": []
   },
   "source": [
    "# Settings"
   ]
  },
  {
   "cell_type": "code",
   "execution_count": 6,
   "id": "under-beverage",
   "metadata": {
    "execution": {
     "iopub.execute_input": "2021-07-17T03:03:33.296772Z",
     "iopub.status.busy": "2021-07-17T03:03:33.296397Z",
     "iopub.status.idle": "2021-07-17T03:03:33.306640Z",
     "shell.execute_reply": "2021-07-17T03:03:33.306917Z"
    },
    "papermill": {
     "duration": 0.03601,
     "end_time": "2021-07-17T03:03:33.307021",
     "exception": false,
     "start_time": "2021-07-17T03:03:33.271011",
     "status": "completed"
    },
    "tags": []
   },
   "outputs": [],
   "source": [
    "N_TOP_TRAITS_FROM_LV = 20"
   ]
  },
  {
   "cell_type": "code",
   "execution_count": 7,
   "id": "minor-marketing",
   "metadata": {
    "execution": {
     "iopub.execute_input": "2021-07-17T03:03:33.356572Z",
     "iopub.status.busy": "2021-07-17T03:03:33.356214Z",
     "iopub.status.idle": "2021-07-17T03:03:33.367732Z",
     "shell.execute_reply": "2021-07-17T03:03:33.367360Z"
    },
    "papermill": {
     "duration": 0.037197,
     "end_time": "2021-07-17T03:03:33.367815",
     "exception": false,
     "start_time": "2021-07-17T03:03:33.330618",
     "status": "completed"
    },
    "tags": []
   },
   "outputs": [
    {
     "data": {
      "text/plain": [
       "PosixPath('/home/miltondp/projects/labs/greenelab/phenoplier/base/results/gls')"
      ]
     },
     "metadata": {},
     "output_type": "display_data"
    }
   ],
   "source": [
    "OUTPUT_DIR = conf.RESULTS[\"GLS\"]\n",
    "display(OUTPUT_DIR)\n",
    "\n",
    "OUTPUT_DIR.mkdir(exist_ok=True, parents=True)"
   ]
  },
  {
   "cell_type": "code",
   "execution_count": 8,
   "id": "quarterly-period",
   "metadata": {
    "execution": {
     "iopub.execute_input": "2021-07-17T03:03:33.417628Z",
     "iopub.status.busy": "2021-07-17T03:03:33.417275Z",
     "iopub.status.idle": "2021-07-17T03:03:33.428581Z",
     "shell.execute_reply": "2021-07-17T03:03:33.428282Z"
    },
    "papermill": {
     "duration": 0.037023,
     "end_time": "2021-07-17T03:03:33.428667",
     "exception": false,
     "start_time": "2021-07-17T03:03:33.391644",
     "status": "completed"
    },
    "tags": []
   },
   "outputs": [
    {
     "data": {
      "text/plain": [
       "PosixPath('/home/miltondp/projects/labs/greenelab/phenoplier/base/results/gls/gls_phenotypes-emerge.pkl')"
      ]
     },
     "metadata": {},
     "output_type": "display_data"
    }
   ],
   "source": [
    "OUTPUT_FILENAME = OUTPUT_DIR / \"gls_phenotypes-emerge.pkl\"\n",
    "display(OUTPUT_FILENAME)"
   ]
  },
  {
   "cell_type": "markdown",
   "id": "competitive-basketball",
   "metadata": {
    "papermill": {
     "duration": 0.023164,
     "end_time": "2021-07-17T03:03:33.475980",
     "exception": false,
     "start_time": "2021-07-17T03:03:33.452816",
     "status": "completed"
    },
    "tags": []
   },
   "source": [
    "# Load data"
   ]
  },
  {
   "cell_type": "markdown",
   "id": "unlike-latex",
   "metadata": {
    "papermill": {
     "duration": 0.025158,
     "end_time": "2021-07-17T03:03:33.527268",
     "exception": false,
     "start_time": "2021-07-17T03:03:33.502110",
     "status": "completed"
    },
    "tags": []
   },
   "source": [
    "## eMERGE traits info"
   ]
  },
  {
   "cell_type": "code",
   "execution_count": 9,
   "id": "greek-christopher",
   "metadata": {
    "execution": {
     "iopub.execute_input": "2021-07-17T03:03:33.577840Z",
     "iopub.status.busy": "2021-07-17T03:03:33.577469Z",
     "iopub.status.idle": "2021-07-17T03:03:33.589349Z",
     "shell.execute_reply": "2021-07-17T03:03:33.589646Z"
    },
    "papermill": {
     "duration": 0.038222,
     "end_time": "2021-07-17T03:03:33.589748",
     "exception": false,
     "start_time": "2021-07-17T03:03:33.551526",
     "status": "completed"
    },
    "tags": []
   },
   "outputs": [
    {
     "data": {
      "text/plain": [
       "PosixPath('/home/miltondp/projects/labs/greenelab/phenoplier/base/data/emerge/eMERGE_III_PMBB_GSA_v2_2020_phecode_AFR_EUR_cc50_counts_w_dictionary.txt')"
      ]
     },
     "metadata": {},
     "output_type": "display_data"
    }
   ],
   "source": [
    "# FIXME: in the future, there will be a specific entry in config for the eMERGE directory that should be replaced here\n",
    "input_filepath = Path(\n",
    "    conf.DATA_DIR,\n",
    "    \"emerge\",\n",
    "    \"eMERGE_III_PMBB_GSA_v2_2020_phecode_AFR_EUR_cc50_counts_w_dictionary.txt\",\n",
    ").resolve()\n",
    "display(input_filepath)"
   ]
  },
  {
   "cell_type": "code",
   "execution_count": 10,
   "id": "compound-vanilla",
   "metadata": {
    "execution": {
     "iopub.execute_input": "2021-07-17T03:03:33.641739Z",
     "iopub.status.busy": "2021-07-17T03:03:33.641367Z",
     "iopub.status.idle": "2021-07-17T03:03:33.653560Z",
     "shell.execute_reply": "2021-07-17T03:03:33.653182Z"
    },
    "papermill": {
     "duration": 0.039167,
     "end_time": "2021-07-17T03:03:33.653646",
     "exception": false,
     "start_time": "2021-07-17T03:03:33.614479",
     "status": "completed"
    },
    "tags": []
   },
   "outputs": [],
   "source": [
    "emerge_traits_df = pd.read_csv(\n",
    "    input_filepath,\n",
    "    sep=\"\\t\",\n",
    "    dtype={\"phecode\": str},\n",
    "    usecols=[\"phecode\", \"phenotype\", \"category\"],\n",
    ")"
   ]
  },
  {
   "cell_type": "code",
   "execution_count": 11,
   "id": "appropriate-canvas",
   "metadata": {
    "execution": {
     "iopub.execute_input": "2021-07-17T03:03:33.704975Z",
     "iopub.status.busy": "2021-07-17T03:03:33.704551Z",
     "iopub.status.idle": "2021-07-17T03:03:33.715636Z",
     "shell.execute_reply": "2021-07-17T03:03:33.715281Z"
    },
    "papermill": {
     "duration": 0.037442,
     "end_time": "2021-07-17T03:03:33.715715",
     "exception": false,
     "start_time": "2021-07-17T03:03:33.678273",
     "status": "completed"
    },
    "tags": []
   },
   "outputs": [],
   "source": [
    "emerge_traits_df = emerge_traits_df.rename(\n",
    "    columns={\n",
    "        \"phenotype\": \"phecode_phenotype\",\n",
    "        \"category\": \"phecode_category\",\n",
    "    }\n",
    ")"
   ]
  },
  {
   "cell_type": "code",
   "execution_count": 12,
   "id": "forbidden-herald",
   "metadata": {
    "execution": {
     "iopub.execute_input": "2021-07-17T03:03:33.766602Z",
     "iopub.status.busy": "2021-07-17T03:03:33.766230Z",
     "iopub.status.idle": "2021-07-17T03:03:33.777344Z",
     "shell.execute_reply": "2021-07-17T03:03:33.777621Z"
    },
    "papermill": {
     "duration": 0.037836,
     "end_time": "2021-07-17T03:03:33.777728",
     "exception": false,
     "start_time": "2021-07-17T03:03:33.739892",
     "status": "completed"
    },
    "tags": []
   },
   "outputs": [
    {
     "data": {
      "text/plain": [
       "(309, 3)"
      ]
     },
     "execution_count": 12,
     "metadata": {},
     "output_type": "execute_result"
    }
   ],
   "source": [
    "emerge_traits_df.shape"
   ]
  },
  {
   "cell_type": "code",
   "execution_count": 13,
   "id": "lined-bradley",
   "metadata": {
    "execution": {
     "iopub.execute_input": "2021-07-17T03:03:33.829779Z",
     "iopub.status.busy": "2021-07-17T03:03:33.829424Z",
     "iopub.status.idle": "2021-07-17T03:03:33.844388Z",
     "shell.execute_reply": "2021-07-17T03:03:33.844018Z"
    },
    "papermill": {
     "duration": 0.04143,
     "end_time": "2021-07-17T03:03:33.844471",
     "exception": false,
     "start_time": "2021-07-17T03:03:33.803041",
     "status": "completed"
    },
    "tags": []
   },
   "outputs": [
    {
     "data": {
      "text/html": [
       "<div>\n",
       "<style scoped>\n",
       "    .dataframe tbody tr th:only-of-type {\n",
       "        vertical-align: middle;\n",
       "    }\n",
       "\n",
       "    .dataframe tbody tr th {\n",
       "        vertical-align: top;\n",
       "    }\n",
       "\n",
       "    .dataframe thead th {\n",
       "        text-align: right;\n",
       "    }\n",
       "</style>\n",
       "<table border=\"1\" class=\"dataframe\">\n",
       "  <thead>\n",
       "    <tr style=\"text-align: right;\">\n",
       "      <th></th>\n",
       "      <th>phecode</th>\n",
       "      <th>phecode_phenotype</th>\n",
       "      <th>phecode_category</th>\n",
       "    </tr>\n",
       "  </thead>\n",
       "  <tbody>\n",
       "    <tr>\n",
       "      <th>0</th>\n",
       "      <td>008</td>\n",
       "      <td>Intestinal infection</td>\n",
       "      <td>infectious diseases</td>\n",
       "    </tr>\n",
       "    <tr>\n",
       "      <th>1</th>\n",
       "      <td>008.5</td>\n",
       "      <td>Bacterial enteritis</td>\n",
       "      <td>infectious diseases</td>\n",
       "    </tr>\n",
       "    <tr>\n",
       "      <th>2</th>\n",
       "      <td>008.52</td>\n",
       "      <td>Intestinal infection due to C. difficile</td>\n",
       "      <td>infectious diseases</td>\n",
       "    </tr>\n",
       "    <tr>\n",
       "      <th>3</th>\n",
       "      <td>038</td>\n",
       "      <td>Septicemia</td>\n",
       "      <td>infectious diseases</td>\n",
       "    </tr>\n",
       "    <tr>\n",
       "      <th>4</th>\n",
       "      <td>038.3</td>\n",
       "      <td>Bacteremia</td>\n",
       "      <td>infectious diseases</td>\n",
       "    </tr>\n",
       "  </tbody>\n",
       "</table>\n",
       "</div>"
      ],
      "text/plain": [
       "  phecode                         phecode_phenotype     phecode_category\n",
       "0     008                      Intestinal infection  infectious diseases\n",
       "1   008.5                       Bacterial enteritis  infectious diseases\n",
       "2  008.52  Intestinal infection due to C. difficile  infectious diseases\n",
       "3     038                                Septicemia  infectious diseases\n",
       "4   038.3                                Bacteremia  infectious diseases"
      ]
     },
     "execution_count": 13,
     "metadata": {},
     "output_type": "execute_result"
    }
   ],
   "source": [
    "emerge_traits_df.head()"
   ]
  },
  {
   "cell_type": "markdown",
   "id": "racial-voluntary",
   "metadata": {
    "papermill": {
     "duration": 0.024605,
     "end_time": "2021-07-17T03:03:33.894993",
     "exception": false,
     "start_time": "2021-07-17T03:03:33.870388",
     "status": "completed"
    },
    "tags": []
   },
   "source": [
    "## eMERGE to PhenomeXcan maps"
   ]
  },
  {
   "cell_type": "code",
   "execution_count": 14,
   "id": "motivated-danish",
   "metadata": {
    "execution": {
     "iopub.execute_input": "2021-07-17T03:03:33.947699Z",
     "iopub.status.busy": "2021-07-17T03:03:33.947297Z",
     "iopub.status.idle": "2021-07-17T03:03:33.958822Z",
     "shell.execute_reply": "2021-07-17T03:03:33.958471Z"
    },
    "papermill": {
     "duration": 0.038786,
     "end_time": "2021-07-17T03:03:33.958901",
     "exception": false,
     "start_time": "2021-07-17T03:03:33.920115",
     "status": "completed"
    },
    "tags": []
   },
   "outputs": [
    {
     "data": {
      "text/plain": [
       "PosixPath('/home/miltondp/projects/labs/greenelab/phenoplier/base/data/emerge/phecodes_phenomexcan_maps.tsv')"
      ]
     },
     "metadata": {},
     "output_type": "display_data"
    }
   ],
   "source": [
    "# FIXME: in the future, there will be a specific entry in config for the eMERGE directory that should be replaced here\n",
    "emerge_phenomexcan_maps_filepath = Path(\n",
    "    conf.DATA_DIR,\n",
    "    \"emerge\",\n",
    "    \"phecodes_phenomexcan_maps.tsv\",\n",
    ").resolve()\n",
    "display(emerge_phenomexcan_maps_filepath)"
   ]
  },
  {
   "cell_type": "code",
   "execution_count": 15,
   "id": "bound-shareware",
   "metadata": {
    "execution": {
     "iopub.execute_input": "2021-07-17T03:03:34.012423Z",
     "iopub.status.busy": "2021-07-17T03:03:34.012070Z",
     "iopub.status.idle": "2021-07-17T03:03:34.024868Z",
     "shell.execute_reply": "2021-07-17T03:03:34.025174Z"
    },
    "papermill": {
     "duration": 0.041001,
     "end_time": "2021-07-17T03:03:34.025294",
     "exception": false,
     "start_time": "2021-07-17T03:03:33.984293",
     "status": "completed"
    },
    "tags": []
   },
   "outputs": [],
   "source": [
    "emerge_phenomexcan_maps = pd.read_csv(\n",
    "    emerge_phenomexcan_maps_filepath, sep=\"\\t\", dtype={\"phecode\": str}\n",
    ")"
   ]
  },
  {
   "cell_type": "code",
   "execution_count": 16,
   "id": "occasional-sodium",
   "metadata": {
    "execution": {
     "iopub.execute_input": "2021-07-17T03:03:34.082711Z",
     "iopub.status.busy": "2021-07-17T03:03:34.082333Z",
     "iopub.status.idle": "2021-07-17T03:03:34.096938Z",
     "shell.execute_reply": "2021-07-17T03:03:34.097223Z"
    },
    "papermill": {
     "duration": 0.043228,
     "end_time": "2021-07-17T03:03:34.097331",
     "exception": false,
     "start_time": "2021-07-17T03:03:34.054103",
     "status": "completed"
    },
    "tags": []
   },
   "outputs": [],
   "source": [
    "emerge_phenomexcan_maps = emerge_phenomexcan_maps.dropna(\n",
    "    subset=[\"phecode\", \"phenomexcan\"], how=\"any\"\n",
    ")"
   ]
  },
  {
   "cell_type": "code",
   "execution_count": 17,
   "id": "distant-class",
   "metadata": {
    "execution": {
     "iopub.execute_input": "2021-07-17T03:03:34.150523Z",
     "iopub.status.busy": "2021-07-17T03:03:34.150169Z",
     "iopub.status.idle": "2021-07-17T03:03:34.161479Z",
     "shell.execute_reply": "2021-07-17T03:03:34.161112Z"
    },
    "papermill": {
     "duration": 0.038385,
     "end_time": "2021-07-17T03:03:34.161564",
     "exception": false,
     "start_time": "2021-07-17T03:03:34.123179",
     "status": "completed"
    },
    "tags": []
   },
   "outputs": [
    {
     "data": {
      "text/plain": [
       "(381, 6)"
      ]
     },
     "execution_count": 17,
     "metadata": {},
     "output_type": "execute_result"
    }
   ],
   "source": [
    "emerge_phenomexcan_maps.shape"
   ]
  },
  {
   "cell_type": "code",
   "execution_count": 18,
   "id": "sapphire-chrome",
   "metadata": {
    "execution": {
     "iopub.execute_input": "2021-07-17T03:03:34.215444Z",
     "iopub.status.busy": "2021-07-17T03:03:34.215088Z",
     "iopub.status.idle": "2021-07-17T03:03:34.230993Z",
     "shell.execute_reply": "2021-07-17T03:03:34.230674Z"
    },
    "papermill": {
     "duration": 0.043693,
     "end_time": "2021-07-17T03:03:34.231078",
     "exception": false,
     "start_time": "2021-07-17T03:03:34.187385",
     "status": "completed"
    },
    "tags": []
   },
   "outputs": [
    {
     "data": {
      "text/html": [
       "<div>\n",
       "<style scoped>\n",
       "    .dataframe tbody tr th:only-of-type {\n",
       "        vertical-align: middle;\n",
       "    }\n",
       "\n",
       "    .dataframe tbody tr th {\n",
       "        vertical-align: top;\n",
       "    }\n",
       "\n",
       "    .dataframe thead th {\n",
       "        text-align: right;\n",
       "    }\n",
       "</style>\n",
       "<table border=\"1\" class=\"dataframe\">\n",
       "  <thead>\n",
       "    <tr style=\"text-align: right;\">\n",
       "      <th></th>\n",
       "      <th>phecode</th>\n",
       "      <th>phecode_phenotype</th>\n",
       "      <th>phecode_category</th>\n",
       "      <th>icd10</th>\n",
       "      <th>efo</th>\n",
       "      <th>phenomexcan</th>\n",
       "    </tr>\n",
       "  </thead>\n",
       "  <tbody>\n",
       "    <tr>\n",
       "      <th>0</th>\n",
       "      <td>008</td>\n",
       "      <td>Intestinal infection</td>\n",
       "      <td>infectious diseases</td>\n",
       "      <td>A09</td>\n",
       "      <td>gastroenteritis AND gastroenteritis</td>\n",
       "      <td>A09-Diagnoses_main_ICD10_A09_Diarrhoea_and_gas...</td>\n",
       "    </tr>\n",
       "    <tr>\n",
       "      <th>5</th>\n",
       "      <td>008.5</td>\n",
       "      <td>Bacterial enteritis</td>\n",
       "      <td>infectious diseases</td>\n",
       "      <td>A04</td>\n",
       "      <td>intestinal disease AND bacterial disease</td>\n",
       "      <td>A04-Diagnoses_main_ICD10_A04_Other_bacterial_i...</td>\n",
       "    </tr>\n",
       "    <tr>\n",
       "      <th>6</th>\n",
       "      <td>038</td>\n",
       "      <td>Septicemia</td>\n",
       "      <td>infectious diseases</td>\n",
       "      <td>A41</td>\n",
       "      <td>sepsis</td>\n",
       "      <td>20002_1657-Noncancer_illness_code_selfreported...</td>\n",
       "    </tr>\n",
       "    <tr>\n",
       "      <th>7</th>\n",
       "      <td>038</td>\n",
       "      <td>Septicemia</td>\n",
       "      <td>infectious diseases</td>\n",
       "      <td>A41</td>\n",
       "      <td>sepsis</td>\n",
       "      <td>A41-Diagnoses_main_ICD10_A41_Other_septicaemia</td>\n",
       "    </tr>\n",
       "    <tr>\n",
       "      <th>10</th>\n",
       "      <td>053</td>\n",
       "      <td>Herpes zoster</td>\n",
       "      <td>infectious diseases</td>\n",
       "      <td>B02</td>\n",
       "      <td>herpes zoster</td>\n",
       "      <td>B02-Diagnoses_main_ICD10_B02_Zoster_herpes_zoster</td>\n",
       "    </tr>\n",
       "  </tbody>\n",
       "</table>\n",
       "</div>"
      ],
      "text/plain": [
       "   phecode     phecode_phenotype     phecode_category icd10  \\\n",
       "0      008  Intestinal infection  infectious diseases   A09   \n",
       "5    008.5   Bacterial enteritis  infectious diseases   A04   \n",
       "6      038            Septicemia  infectious diseases   A41   \n",
       "7      038            Septicemia  infectious diseases   A41   \n",
       "10     053         Herpes zoster  infectious diseases   B02   \n",
       "\n",
       "                                         efo  \\\n",
       "0        gastroenteritis AND gastroenteritis   \n",
       "5   intestinal disease AND bacterial disease   \n",
       "6                                     sepsis   \n",
       "7                                     sepsis   \n",
       "10                             herpes zoster   \n",
       "\n",
       "                                          phenomexcan  \n",
       "0   A09-Diagnoses_main_ICD10_A09_Diarrhoea_and_gas...  \n",
       "5   A04-Diagnoses_main_ICD10_A04_Other_bacterial_i...  \n",
       "6   20002_1657-Noncancer_illness_code_selfreported...  \n",
       "7      A41-Diagnoses_main_ICD10_A41_Other_septicaemia  \n",
       "10  B02-Diagnoses_main_ICD10_B02_Zoster_herpes_zoster  "
      ]
     },
     "execution_count": 18,
     "metadata": {},
     "output_type": "execute_result"
    }
   ],
   "source": [
    "emerge_phenomexcan_maps.head()"
   ]
  },
  {
   "cell_type": "markdown",
   "id": "vertical-freight",
   "metadata": {
    "papermill": {
     "duration": 0.025288,
     "end_time": "2021-07-17T03:03:34.282513",
     "exception": false,
     "start_time": "2021-07-17T03:03:34.257225",
     "status": "completed"
    },
    "tags": []
   },
   "source": [
    "## eMERGE (S-MultiXcan) projection"
   ]
  },
  {
   "cell_type": "code",
   "execution_count": 19,
   "id": "elegant-japan",
   "metadata": {
    "execution": {
     "iopub.execute_input": "2021-07-17T03:03:34.336080Z",
     "iopub.status.busy": "2021-07-17T03:03:34.335724Z",
     "iopub.status.idle": "2021-07-17T03:03:34.347220Z",
     "shell.execute_reply": "2021-07-17T03:03:34.347516Z"
    },
    "papermill": {
     "duration": 0.039641,
     "end_time": "2021-07-17T03:03:34.347621",
     "exception": false,
     "start_time": "2021-07-17T03:03:34.307980",
     "status": "completed"
    },
    "tags": []
   },
   "outputs": [
    {
     "data": {
      "text/plain": [
       "PosixPath('/home/miltondp/projects/labs/greenelab/phenoplier/base/results/projections/projection-emerge-smultixcan-mashr-zscores.pkl')"
      ]
     },
     "metadata": {},
     "output_type": "display_data"
    }
   ],
   "source": [
    "input_filepath = Path(\n",
    "    conf.RESULTS[\"PROJECTIONS_DIR\"],\n",
    "    \"projection-emerge-smultixcan-mashr-zscores.pkl\",\n",
    ").resolve()\n",
    "display(input_filepath)"
   ]
  },
  {
   "cell_type": "code",
   "execution_count": 20,
   "id": "hungarian-revolution",
   "metadata": {
    "execution": {
     "iopub.execute_input": "2021-07-17T03:03:34.401447Z",
     "iopub.status.busy": "2021-07-17T03:03:34.401083Z",
     "iopub.status.idle": "2021-07-17T03:03:34.413718Z",
     "shell.execute_reply": "2021-07-17T03:03:34.413408Z"
    },
    "papermill": {
     "duration": 0.040193,
     "end_time": "2021-07-17T03:03:34.413805",
     "exception": false,
     "start_time": "2021-07-17T03:03:34.373612",
     "status": "completed"
    },
    "tags": []
   },
   "outputs": [],
   "source": [
    "emerge_projection = pd.read_pickle(input_filepath)"
   ]
  },
  {
   "cell_type": "code",
   "execution_count": 21,
   "id": "powered-airport",
   "metadata": {
    "execution": {
     "iopub.execute_input": "2021-07-17T03:03:34.469582Z",
     "iopub.status.busy": "2021-07-17T03:03:34.469218Z",
     "iopub.status.idle": "2021-07-17T03:03:34.479907Z",
     "shell.execute_reply": "2021-07-17T03:03:34.480202Z"
    },
    "papermill": {
     "duration": 0.03924,
     "end_time": "2021-07-17T03:03:34.480306",
     "exception": false,
     "start_time": "2021-07-17T03:03:34.441066",
     "status": "completed"
    },
    "tags": []
   },
   "outputs": [
    {
     "data": {
      "text/plain": [
       "(987, 309)"
      ]
     },
     "execution_count": 21,
     "metadata": {},
     "output_type": "execute_result"
    }
   ],
   "source": [
    "emerge_projection.shape"
   ]
  },
  {
   "cell_type": "code",
   "execution_count": 22,
   "id": "unsigned-french",
   "metadata": {
    "execution": {
     "iopub.execute_input": "2021-07-17T03:03:34.542056Z",
     "iopub.status.busy": "2021-07-17T03:03:34.541701Z",
     "iopub.status.idle": "2021-07-17T03:03:34.564832Z",
     "shell.execute_reply": "2021-07-17T03:03:34.564415Z"
    },
    "papermill": {
     "duration": 0.054067,
     "end_time": "2021-07-17T03:03:34.564915",
     "exception": false,
     "start_time": "2021-07-17T03:03:34.510848",
     "status": "completed"
    },
    "tags": []
   },
   "outputs": [
    {
     "data": {
      "text/html": [
       "<div>\n",
       "<style scoped>\n",
       "    .dataframe tbody tr th:only-of-type {\n",
       "        vertical-align: middle;\n",
       "    }\n",
       "\n",
       "    .dataframe tbody tr th {\n",
       "        vertical-align: top;\n",
       "    }\n",
       "\n",
       "    .dataframe thead th {\n",
       "        text-align: right;\n",
       "    }\n",
       "</style>\n",
       "<table border=\"1\" class=\"dataframe\">\n",
       "  <thead>\n",
       "    <tr style=\"text-align: right;\">\n",
       "      <th></th>\n",
       "      <th>292.3</th>\n",
       "      <th>079</th>\n",
       "      <th>741</th>\n",
       "      <th>418.1</th>\n",
       "      <th>280</th>\n",
       "      <th>747</th>\n",
       "      <th>591</th>\n",
       "      <th>426.21</th>\n",
       "      <th>244</th>\n",
       "      <th>070.3</th>\n",
       "      <th>...</th>\n",
       "      <th>427</th>\n",
       "      <th>585.4</th>\n",
       "      <th>345</th>\n",
       "      <th>366.2</th>\n",
       "      <th>420.2</th>\n",
       "      <th>195</th>\n",
       "      <th>250.2</th>\n",
       "      <th>250.1</th>\n",
       "      <th>371</th>\n",
       "      <th>562</th>\n",
       "    </tr>\n",
       "  </thead>\n",
       "  <tbody>\n",
       "    <tr>\n",
       "      <th>LV1</th>\n",
       "      <td>0.055748</td>\n",
       "      <td>-0.019274</td>\n",
       "      <td>0.024491</td>\n",
       "      <td>0.012926</td>\n",
       "      <td>-0.026501</td>\n",
       "      <td>-0.043919</td>\n",
       "      <td>0.025264</td>\n",
       "      <td>-0.053251</td>\n",
       "      <td>0.043269</td>\n",
       "      <td>0.002465</td>\n",
       "      <td>...</td>\n",
       "      <td>-0.031739</td>\n",
       "      <td>0.014192</td>\n",
       "      <td>0.008710</td>\n",
       "      <td>-0.024261</td>\n",
       "      <td>-0.004780</td>\n",
       "      <td>0.057256</td>\n",
       "      <td>0.059702</td>\n",
       "      <td>0.036648</td>\n",
       "      <td>-0.022040</td>\n",
       "      <td>0.034427</td>\n",
       "    </tr>\n",
       "    <tr>\n",
       "      <th>LV2</th>\n",
       "      <td>-0.045630</td>\n",
       "      <td>-0.008570</td>\n",
       "      <td>0.040969</td>\n",
       "      <td>-0.016198</td>\n",
       "      <td>-0.032321</td>\n",
       "      <td>-0.017629</td>\n",
       "      <td>0.009238</td>\n",
       "      <td>-0.011634</td>\n",
       "      <td>-0.005854</td>\n",
       "      <td>0.033497</td>\n",
       "      <td>...</td>\n",
       "      <td>0.019678</td>\n",
       "      <td>0.040569</td>\n",
       "      <td>-0.009344</td>\n",
       "      <td>-0.012921</td>\n",
       "      <td>-0.055292</td>\n",
       "      <td>0.003193</td>\n",
       "      <td>0.013844</td>\n",
       "      <td>0.008327</td>\n",
       "      <td>0.004302</td>\n",
       "      <td>0.035154</td>\n",
       "    </tr>\n",
       "    <tr>\n",
       "      <th>LV3</th>\n",
       "      <td>0.025341</td>\n",
       "      <td>-0.059962</td>\n",
       "      <td>-0.027354</td>\n",
       "      <td>-0.033864</td>\n",
       "      <td>0.009571</td>\n",
       "      <td>0.023318</td>\n",
       "      <td>-0.003872</td>\n",
       "      <td>0.001095</td>\n",
       "      <td>0.028179</td>\n",
       "      <td>0.003639</td>\n",
       "      <td>...</td>\n",
       "      <td>0.041022</td>\n",
       "      <td>-0.036422</td>\n",
       "      <td>0.006088</td>\n",
       "      <td>-0.041302</td>\n",
       "      <td>0.017492</td>\n",
       "      <td>-0.039591</td>\n",
       "      <td>-0.000801</td>\n",
       "      <td>0.009127</td>\n",
       "      <td>0.045741</td>\n",
       "      <td>0.004434</td>\n",
       "    </tr>\n",
       "    <tr>\n",
       "      <th>LV4</th>\n",
       "      <td>-0.039736</td>\n",
       "      <td>0.013238</td>\n",
       "      <td>-0.002819</td>\n",
       "      <td>0.029253</td>\n",
       "      <td>-0.029388</td>\n",
       "      <td>-0.003176</td>\n",
       "      <td>0.037212</td>\n",
       "      <td>-0.022370</td>\n",
       "      <td>0.003168</td>\n",
       "      <td>0.039998</td>\n",
       "      <td>...</td>\n",
       "      <td>-0.029197</td>\n",
       "      <td>0.078351</td>\n",
       "      <td>0.044476</td>\n",
       "      <td>-0.027300</td>\n",
       "      <td>0.005332</td>\n",
       "      <td>0.028581</td>\n",
       "      <td>0.004288</td>\n",
       "      <td>0.015797</td>\n",
       "      <td>-0.074106</td>\n",
       "      <td>-0.020936</td>\n",
       "    </tr>\n",
       "    <tr>\n",
       "      <th>LV5</th>\n",
       "      <td>-0.012250</td>\n",
       "      <td>-0.002846</td>\n",
       "      <td>-0.025161</td>\n",
       "      <td>0.013880</td>\n",
       "      <td>0.009457</td>\n",
       "      <td>0.024885</td>\n",
       "      <td>0.001274</td>\n",
       "      <td>0.064774</td>\n",
       "      <td>0.039294</td>\n",
       "      <td>-0.000256</td>\n",
       "      <td>...</td>\n",
       "      <td>0.032792</td>\n",
       "      <td>-0.035128</td>\n",
       "      <td>-0.011787</td>\n",
       "      <td>-0.006511</td>\n",
       "      <td>-0.035433</td>\n",
       "      <td>-0.008735</td>\n",
       "      <td>-0.011139</td>\n",
       "      <td>-0.036651</td>\n",
       "      <td>0.003044</td>\n",
       "      <td>0.006505</td>\n",
       "    </tr>\n",
       "  </tbody>\n",
       "</table>\n",
       "<p>5 rows × 309 columns</p>\n",
       "</div>"
      ],
      "text/plain": [
       "        292.3       079       741     418.1       280       747       591  \\\n",
       "LV1  0.055748 -0.019274  0.024491  0.012926 -0.026501 -0.043919  0.025264   \n",
       "LV2 -0.045630 -0.008570  0.040969 -0.016198 -0.032321 -0.017629  0.009238   \n",
       "LV3  0.025341 -0.059962 -0.027354 -0.033864  0.009571  0.023318 -0.003872   \n",
       "LV4 -0.039736  0.013238 -0.002819  0.029253 -0.029388 -0.003176  0.037212   \n",
       "LV5 -0.012250 -0.002846 -0.025161  0.013880  0.009457  0.024885  0.001274   \n",
       "\n",
       "       426.21       244     070.3  ...       427     585.4       345  \\\n",
       "LV1 -0.053251  0.043269  0.002465  ... -0.031739  0.014192  0.008710   \n",
       "LV2 -0.011634 -0.005854  0.033497  ...  0.019678  0.040569 -0.009344   \n",
       "LV3  0.001095  0.028179  0.003639  ...  0.041022 -0.036422  0.006088   \n",
       "LV4 -0.022370  0.003168  0.039998  ... -0.029197  0.078351  0.044476   \n",
       "LV5  0.064774  0.039294 -0.000256  ...  0.032792 -0.035128 -0.011787   \n",
       "\n",
       "        366.2     420.2       195     250.2     250.1       371       562  \n",
       "LV1 -0.024261 -0.004780  0.057256  0.059702  0.036648 -0.022040  0.034427  \n",
       "LV2 -0.012921 -0.055292  0.003193  0.013844  0.008327  0.004302  0.035154  \n",
       "LV3 -0.041302  0.017492 -0.039591 -0.000801  0.009127  0.045741  0.004434  \n",
       "LV4 -0.027300  0.005332  0.028581  0.004288  0.015797 -0.074106 -0.020936  \n",
       "LV5 -0.006511 -0.035433 -0.008735 -0.011139 -0.036651  0.003044  0.006505  \n",
       "\n",
       "[5 rows x 309 columns]"
      ]
     },
     "execution_count": 22,
     "metadata": {},
     "output_type": "execute_result"
    }
   ],
   "source": [
    "emerge_projection.head()"
   ]
  },
  {
   "cell_type": "markdown",
   "id": "juvenile-fundamentals",
   "metadata": {
    "papermill": {
     "duration": 0.027013,
     "end_time": "2021-07-17T03:03:34.619653",
     "exception": false,
     "start_time": "2021-07-17T03:03:34.592640",
     "status": "completed"
    },
    "tags": []
   },
   "source": [
    "## eMERGE (S-MultiXcan)"
   ]
  },
  {
   "cell_type": "code",
   "execution_count": 23,
   "id": "mounted-thailand",
   "metadata": {
    "execution": {
     "iopub.execute_input": "2021-07-17T03:03:34.674478Z",
     "iopub.status.busy": "2021-07-17T03:03:34.674126Z",
     "iopub.status.idle": "2021-07-17T03:03:34.685401Z",
     "shell.execute_reply": "2021-07-17T03:03:34.685046Z"
    },
    "papermill": {
     "duration": 0.039668,
     "end_time": "2021-07-17T03:03:34.685480",
     "exception": false,
     "start_time": "2021-07-17T03:03:34.645812",
     "status": "completed"
    },
    "tags": []
   },
   "outputs": [
    {
     "data": {
      "text/plain": [
       "PosixPath('/home/miltondp/projects/labs/greenelab/phenoplier/base/data/emerge/gene_assoc/emerge-smultixcan-mashr-zscores.pkl')"
      ]
     },
     "metadata": {},
     "output_type": "display_data"
    }
   ],
   "source": [
    "# FIXME: in the future, there will be a specific entry in config for the eMERGE directory that should be replaced here\n",
    "emerge_smultixcan_zscores_filepath = Path(\n",
    "    conf.DATA_DIR,\n",
    "    \"emerge\",\n",
    "    \"gene_assoc\",\n",
    "    \"emerge-smultixcan-mashr-zscores.pkl\",\n",
    ").resolve()\n",
    "\n",
    "display(emerge_smultixcan_zscores_filepath)"
   ]
  },
  {
   "cell_type": "code",
   "execution_count": 24,
   "id": "opposite-charles",
   "metadata": {
    "execution": {
     "iopub.execute_input": "2021-07-17T03:03:34.742262Z",
     "iopub.status.busy": "2021-07-17T03:03:34.741914Z",
     "iopub.status.idle": "2021-07-17T03:03:34.778418Z",
     "shell.execute_reply": "2021-07-17T03:03:34.778002Z"
    },
    "papermill": {
     "duration": 0.065725,
     "end_time": "2021-07-17T03:03:34.778519",
     "exception": false,
     "start_time": "2021-07-17T03:03:34.712794",
     "status": "completed"
    },
    "tags": []
   },
   "outputs": [],
   "source": [
    "_tmp = pd.read_pickle(emerge_smultixcan_zscores_filepath)"
   ]
  },
  {
   "cell_type": "code",
   "execution_count": 25,
   "id": "impressive-question",
   "metadata": {
    "execution": {
     "iopub.execute_input": "2021-07-17T03:03:34.837439Z",
     "iopub.status.busy": "2021-07-17T03:03:34.837072Z",
     "iopub.status.idle": "2021-07-17T03:03:34.848317Z",
     "shell.execute_reply": "2021-07-17T03:03:34.848625Z"
    },
    "papermill": {
     "duration": 0.040089,
     "end_time": "2021-07-17T03:03:34.848776",
     "exception": false,
     "start_time": "2021-07-17T03:03:34.808687",
     "status": "completed"
    },
    "tags": []
   },
   "outputs": [
    {
     "data": {
      "text/plain": [
       "(22198, 309)"
      ]
     },
     "execution_count": 25,
     "metadata": {},
     "output_type": "execute_result"
    }
   ],
   "source": [
    "_tmp.shape"
   ]
  },
  {
   "cell_type": "code",
   "execution_count": 26,
   "id": "tribal-mongolia",
   "metadata": {
    "execution": {
     "iopub.execute_input": "2021-07-17T03:03:34.906200Z",
     "iopub.status.busy": "2021-07-17T03:03:34.905836Z",
     "iopub.status.idle": "2021-07-17T03:03:34.928329Z",
     "shell.execute_reply": "2021-07-17T03:03:34.927959Z"
    },
    "papermill": {
     "duration": 0.052156,
     "end_time": "2021-07-17T03:03:34.928411",
     "exception": false,
     "start_time": "2021-07-17T03:03:34.876255",
     "status": "completed"
    },
    "tags": []
   },
   "outputs": [
    {
     "data": {
      "text/html": [
       "<div>\n",
       "<style scoped>\n",
       "    .dataframe tbody tr th:only-of-type {\n",
       "        vertical-align: middle;\n",
       "    }\n",
       "\n",
       "    .dataframe tbody tr th {\n",
       "        vertical-align: top;\n",
       "    }\n",
       "\n",
       "    .dataframe thead th {\n",
       "        text-align: right;\n",
       "    }\n",
       "</style>\n",
       "<table border=\"1\" class=\"dataframe\">\n",
       "  <thead>\n",
       "    <tr style=\"text-align: right;\">\n",
       "      <th></th>\n",
       "      <th>292.3</th>\n",
       "      <th>079</th>\n",
       "      <th>741</th>\n",
       "      <th>418.1</th>\n",
       "      <th>280</th>\n",
       "      <th>747</th>\n",
       "      <th>591</th>\n",
       "      <th>426.21</th>\n",
       "      <th>244</th>\n",
       "      <th>070.3</th>\n",
       "      <th>...</th>\n",
       "      <th>427</th>\n",
       "      <th>585.4</th>\n",
       "      <th>345</th>\n",
       "      <th>366.2</th>\n",
       "      <th>420.2</th>\n",
       "      <th>195</th>\n",
       "      <th>250.2</th>\n",
       "      <th>250.1</th>\n",
       "      <th>371</th>\n",
       "      <th>562</th>\n",
       "    </tr>\n",
       "    <tr>\n",
       "      <th>gene_name</th>\n",
       "      <th></th>\n",
       "      <th></th>\n",
       "      <th></th>\n",
       "      <th></th>\n",
       "      <th></th>\n",
       "      <th></th>\n",
       "      <th></th>\n",
       "      <th></th>\n",
       "      <th></th>\n",
       "      <th></th>\n",
       "      <th></th>\n",
       "      <th></th>\n",
       "      <th></th>\n",
       "      <th></th>\n",
       "      <th></th>\n",
       "      <th></th>\n",
       "      <th></th>\n",
       "      <th></th>\n",
       "      <th></th>\n",
       "      <th></th>\n",
       "      <th></th>\n",
       "    </tr>\n",
       "  </thead>\n",
       "  <tbody>\n",
       "    <tr>\n",
       "      <th>ENSG00000000419</th>\n",
       "      <td>1.043436</td>\n",
       "      <td>1.134028</td>\n",
       "      <td>1.595979</td>\n",
       "      <td>0.399451</td>\n",
       "      <td>0.725100</td>\n",
       "      <td>1.655468</td>\n",
       "      <td>1.803598</td>\n",
       "      <td>0.125250</td>\n",
       "      <td>1.053218</td>\n",
       "      <td>0.922592</td>\n",
       "      <td>...</td>\n",
       "      <td>0.364789</td>\n",
       "      <td>0.453873</td>\n",
       "      <td>0.759558</td>\n",
       "      <td>1.173671</td>\n",
       "      <td>0.298944</td>\n",
       "      <td>1.029646</td>\n",
       "      <td>0.826238</td>\n",
       "      <td>0.685711</td>\n",
       "      <td>2.069701</td>\n",
       "      <td>1.544766</td>\n",
       "    </tr>\n",
       "    <tr>\n",
       "      <th>ENSG00000000457</th>\n",
       "      <td>1.236752</td>\n",
       "      <td>0.119837</td>\n",
       "      <td>0.224120</td>\n",
       "      <td>0.200610</td>\n",
       "      <td>1.304190</td>\n",
       "      <td>0.541478</td>\n",
       "      <td>0.646474</td>\n",
       "      <td>0.493759</td>\n",
       "      <td>0.189680</td>\n",
       "      <td>1.563273</td>\n",
       "      <td>...</td>\n",
       "      <td>1.519500</td>\n",
       "      <td>0.201290</td>\n",
       "      <td>1.020996</td>\n",
       "      <td>0.592006</td>\n",
       "      <td>0.632661</td>\n",
       "      <td>0.995453</td>\n",
       "      <td>0.069362</td>\n",
       "      <td>0.460979</td>\n",
       "      <td>0.217046</td>\n",
       "      <td>1.350475</td>\n",
       "    </tr>\n",
       "    <tr>\n",
       "      <th>ENSG00000000460</th>\n",
       "      <td>0.497108</td>\n",
       "      <td>0.005690</td>\n",
       "      <td>0.317710</td>\n",
       "      <td>0.184918</td>\n",
       "      <td>1.136574</td>\n",
       "      <td>1.708245</td>\n",
       "      <td>0.288962</td>\n",
       "      <td>1.070026</td>\n",
       "      <td>0.403510</td>\n",
       "      <td>1.106321</td>\n",
       "      <td>...</td>\n",
       "      <td>0.678253</td>\n",
       "      <td>1.166204</td>\n",
       "      <td>1.138126</td>\n",
       "      <td>0.608565</td>\n",
       "      <td>0.449551</td>\n",
       "      <td>0.096689</td>\n",
       "      <td>0.887467</td>\n",
       "      <td>0.143815</td>\n",
       "      <td>0.236647</td>\n",
       "      <td>1.048859</td>\n",
       "    </tr>\n",
       "    <tr>\n",
       "      <th>ENSG00000000938</th>\n",
       "      <td>0.374442</td>\n",
       "      <td>1.099899</td>\n",
       "      <td>1.975795</td>\n",
       "      <td>0.107667</td>\n",
       "      <td>0.903520</td>\n",
       "      <td>0.673819</td>\n",
       "      <td>0.855749</td>\n",
       "      <td>0.499088</td>\n",
       "      <td>0.375406</td>\n",
       "      <td>0.815757</td>\n",
       "      <td>...</td>\n",
       "      <td>1.585687</td>\n",
       "      <td>0.584143</td>\n",
       "      <td>0.751384</td>\n",
       "      <td>2.758230</td>\n",
       "      <td>0.572712</td>\n",
       "      <td>0.141023</td>\n",
       "      <td>1.437022</td>\n",
       "      <td>0.288943</td>\n",
       "      <td>0.665727</td>\n",
       "      <td>1.225229</td>\n",
       "    </tr>\n",
       "    <tr>\n",
       "      <th>ENSG00000000971</th>\n",
       "      <td>1.108762</td>\n",
       "      <td>1.133163</td>\n",
       "      <td>0.227188</td>\n",
       "      <td>0.222948</td>\n",
       "      <td>0.072709</td>\n",
       "      <td>0.256124</td>\n",
       "      <td>0.540911</td>\n",
       "      <td>0.606947</td>\n",
       "      <td>0.229133</td>\n",
       "      <td>1.557433</td>\n",
       "      <td>...</td>\n",
       "      <td>2.349373</td>\n",
       "      <td>1.122458</td>\n",
       "      <td>0.155346</td>\n",
       "      <td>0.990123</td>\n",
       "      <td>0.326914</td>\n",
       "      <td>1.100210</td>\n",
       "      <td>1.099537</td>\n",
       "      <td>2.511358</td>\n",
       "      <td>0.950262</td>\n",
       "      <td>1.467305</td>\n",
       "    </tr>\n",
       "  </tbody>\n",
       "</table>\n",
       "<p>5 rows × 309 columns</p>\n",
       "</div>"
      ],
      "text/plain": [
       "                    292.3       079       741     418.1       280       747  \\\n",
       "gene_name                                                                     \n",
       "ENSG00000000419  1.043436  1.134028  1.595979  0.399451  0.725100  1.655468   \n",
       "ENSG00000000457  1.236752  0.119837  0.224120  0.200610  1.304190  0.541478   \n",
       "ENSG00000000460  0.497108  0.005690  0.317710  0.184918  1.136574  1.708245   \n",
       "ENSG00000000938  0.374442  1.099899  1.975795  0.107667  0.903520  0.673819   \n",
       "ENSG00000000971  1.108762  1.133163  0.227188  0.222948  0.072709  0.256124   \n",
       "\n",
       "                      591    426.21       244     070.3  ...       427  \\\n",
       "gene_name                                                ...             \n",
       "ENSG00000000419  1.803598  0.125250  1.053218  0.922592  ...  0.364789   \n",
       "ENSG00000000457  0.646474  0.493759  0.189680  1.563273  ...  1.519500   \n",
       "ENSG00000000460  0.288962  1.070026  0.403510  1.106321  ...  0.678253   \n",
       "ENSG00000000938  0.855749  0.499088  0.375406  0.815757  ...  1.585687   \n",
       "ENSG00000000971  0.540911  0.606947  0.229133  1.557433  ...  2.349373   \n",
       "\n",
       "                    585.4       345     366.2     420.2       195     250.2  \\\n",
       "gene_name                                                                     \n",
       "ENSG00000000419  0.453873  0.759558  1.173671  0.298944  1.029646  0.826238   \n",
       "ENSG00000000457  0.201290  1.020996  0.592006  0.632661  0.995453  0.069362   \n",
       "ENSG00000000460  1.166204  1.138126  0.608565  0.449551  0.096689  0.887467   \n",
       "ENSG00000000938  0.584143  0.751384  2.758230  0.572712  0.141023  1.437022   \n",
       "ENSG00000000971  1.122458  0.155346  0.990123  0.326914  1.100210  1.099537   \n",
       "\n",
       "                    250.1       371       562  \n",
       "gene_name                                      \n",
       "ENSG00000000419  0.685711  2.069701  1.544766  \n",
       "ENSG00000000457  0.460979  0.217046  1.350475  \n",
       "ENSG00000000460  0.143815  0.236647  1.048859  \n",
       "ENSG00000000938  0.288943  0.665727  1.225229  \n",
       "ENSG00000000971  2.511358  0.950262  1.467305  \n",
       "\n",
       "[5 rows x 309 columns]"
      ]
     },
     "execution_count": 26,
     "metadata": {},
     "output_type": "execute_result"
    }
   ],
   "source": [
    "_tmp.head()"
   ]
  },
  {
   "cell_type": "markdown",
   "id": "strategic-manitoba",
   "metadata": {
    "papermill": {
     "duration": 0.026878,
     "end_time": "2021-07-17T03:03:34.983093",
     "exception": false,
     "start_time": "2021-07-17T03:03:34.956215",
     "status": "completed"
    },
    "tags": []
   },
   "source": [
    "## GLS results on PhenomeXcan"
   ]
  },
  {
   "cell_type": "markdown",
   "id": "ceramic-custody",
   "metadata": {
    "papermill": {
     "duration": 0.027575,
     "end_time": "2021-07-17T03:03:35.038362",
     "exception": false,
     "start_time": "2021-07-17T03:03:35.010787",
     "status": "completed"
    },
    "tags": []
   },
   "source": [
    "Read results obtained with `30-gls_on_phenotypes.ipynb` (PhenomeXcan)"
   ]
  },
  {
   "cell_type": "code",
   "execution_count": 27,
   "id": "occupied-competition",
   "metadata": {
    "execution": {
     "iopub.execute_input": "2021-07-17T03:03:35.095168Z",
     "iopub.status.busy": "2021-07-17T03:03:35.094814Z",
     "iopub.status.idle": "2021-07-17T03:03:35.106254Z",
     "shell.execute_reply": "2021-07-17T03:03:35.105886Z"
    },
    "papermill": {
     "duration": 0.041017,
     "end_time": "2021-07-17T03:03:35.106337",
     "exception": false,
     "start_time": "2021-07-17T03:03:35.065320",
     "status": "completed"
    },
    "tags": []
   },
   "outputs": [
    {
     "data": {
      "text/plain": [
       "PosixPath('/home/miltondp/projects/labs/greenelab/phenoplier/base/results/gls/gls_phenotypes-phenomexcan.pkl')"
      ]
     },
     "metadata": {},
     "output_type": "display_data"
    }
   ],
   "source": [
    "input_filepath = conf.RESULTS[\"GLS\"] / \"gls_phenotypes-phenomexcan.pkl\"\n",
    "display(input_filepath)"
   ]
  },
  {
   "cell_type": "code",
   "execution_count": 28,
   "id": "operating-afghanistan",
   "metadata": {
    "execution": {
     "iopub.execute_input": "2021-07-17T03:03:35.164548Z",
     "iopub.status.busy": "2021-07-17T03:03:35.164196Z",
     "iopub.status.idle": "2021-07-17T03:03:36.505772Z",
     "shell.execute_reply": "2021-07-17T03:03:36.506185Z"
    },
    "papermill": {
     "duration": 1.372011,
     "end_time": "2021-07-17T03:03:36.506325",
     "exception": false,
     "start_time": "2021-07-17T03:03:35.134314",
     "status": "completed"
    },
    "tags": []
   },
   "outputs": [],
   "source": [
    "gls_phenomexcan = pd.read_pickle(input_filepath)"
   ]
  },
  {
   "cell_type": "code",
   "execution_count": 29,
   "id": "precise-paragraph",
   "metadata": {
    "execution": {
     "iopub.execute_input": "2021-07-17T03:03:36.577939Z",
     "iopub.status.busy": "2021-07-17T03:03:36.577580Z",
     "iopub.status.idle": "2021-07-17T03:03:36.589366Z",
     "shell.execute_reply": "2021-07-17T03:03:36.588978Z"
    },
    "papermill": {
     "duration": 0.045835,
     "end_time": "2021-07-17T03:03:36.589465",
     "exception": false,
     "start_time": "2021-07-17T03:03:36.543630",
     "status": "completed"
    },
    "tags": []
   },
   "outputs": [
    {
     "data": {
      "text/plain": [
       "(2640, 9)"
      ]
     },
     "execution_count": 29,
     "metadata": {},
     "output_type": "execute_result"
    }
   ],
   "source": [
    "gls_phenomexcan.shape"
   ]
  },
  {
   "cell_type": "code",
   "execution_count": 30,
   "id": "printable-milton",
   "metadata": {
    "execution": {
     "iopub.execute_input": "2021-07-17T03:03:36.667448Z",
     "iopub.status.busy": "2021-07-17T03:03:36.667000Z",
     "iopub.status.idle": "2021-07-17T03:03:36.701490Z",
     "shell.execute_reply": "2021-07-17T03:03:36.701153Z"
    },
    "papermill": {
     "duration": 0.08364,
     "end_time": "2021-07-17T03:03:36.701578",
     "exception": false,
     "start_time": "2021-07-17T03:03:36.617938",
     "status": "completed"
    },
    "tags": []
   },
   "outputs": [
    {
     "data": {
      "text/html": [
       "<div>\n",
       "<style scoped>\n",
       "    .dataframe tbody tr th:only-of-type {\n",
       "        vertical-align: middle;\n",
       "    }\n",
       "\n",
       "    .dataframe tbody tr th {\n",
       "        vertical-align: top;\n",
       "    }\n",
       "\n",
       "    .dataframe thead th {\n",
       "        text-align: right;\n",
       "    }\n",
       "</style>\n",
       "<table border=\"1\" class=\"dataframe\">\n",
       "  <thead>\n",
       "    <tr style=\"text-align: right;\">\n",
       "      <th></th>\n",
       "      <th>part_k</th>\n",
       "      <th>cluster_id</th>\n",
       "      <th>phenotype</th>\n",
       "      <th>lv</th>\n",
       "      <th>lv_with_pathway</th>\n",
       "      <th>coef</th>\n",
       "      <th>pvalue</th>\n",
       "      <th>pvalue_twosided</th>\n",
       "      <th>summary</th>\n",
       "    </tr>\n",
       "  </thead>\n",
       "  <tbody>\n",
       "    <tr>\n",
       "      <th>0</th>\n",
       "      <td>29</td>\n",
       "      <td>17</td>\n",
       "      <td>20003_1140861958-Treatmentmedication_code_simv...</td>\n",
       "      <td>LV744</td>\n",
       "      <td>False</td>\n",
       "      <td>0.017663</td>\n",
       "      <td>0.083346</td>\n",
       "      <td>0.166692</td>\n",
       "      <td>GLS Regression Res...</td>\n",
       "    </tr>\n",
       "    <tr>\n",
       "      <th>1</th>\n",
       "      <td>29</td>\n",
       "      <td>17</td>\n",
       "      <td>20003_1140861958-Treatmentmedication_code_simv...</td>\n",
       "      <td>LV841</td>\n",
       "      <td>False</td>\n",
       "      <td>0.033055</td>\n",
       "      <td>0.004121</td>\n",
       "      <td>0.008241</td>\n",
       "      <td>GLS Regression Res...</td>\n",
       "    </tr>\n",
       "    <tr>\n",
       "      <th>2</th>\n",
       "      <td>29</td>\n",
       "      <td>17</td>\n",
       "      <td>20003_1140861958-Treatmentmedication_code_simv...</td>\n",
       "      <td>LV65</td>\n",
       "      <td>False</td>\n",
       "      <td>0.013617</td>\n",
       "      <td>0.138593</td>\n",
       "      <td>0.277185</td>\n",
       "      <td>GLS Regression Res...</td>\n",
       "    </tr>\n",
       "    <tr>\n",
       "      <th>3</th>\n",
       "      <td>29</td>\n",
       "      <td>17</td>\n",
       "      <td>20003_1140861958-Treatmentmedication_code_simv...</td>\n",
       "      <td>LV515</td>\n",
       "      <td>False</td>\n",
       "      <td>-0.012351</td>\n",
       "      <td>0.834867</td>\n",
       "      <td>0.330265</td>\n",
       "      <td>GLS Regression Res...</td>\n",
       "    </tr>\n",
       "    <tr>\n",
       "      <th>4</th>\n",
       "      <td>29</td>\n",
       "      <td>17</td>\n",
       "      <td>20003_1140861958-Treatmentmedication_code_simv...</td>\n",
       "      <td>LV847</td>\n",
       "      <td>True</td>\n",
       "      <td>0.005045</td>\n",
       "      <td>0.346233</td>\n",
       "      <td>0.692465</td>\n",
       "      <td>GLS Regression Res...</td>\n",
       "    </tr>\n",
       "  </tbody>\n",
       "</table>\n",
       "</div>"
      ],
      "text/plain": [
       "   part_k  cluster_id                                          phenotype  \\\n",
       "0      29          17  20003_1140861958-Treatmentmedication_code_simv...   \n",
       "1      29          17  20003_1140861958-Treatmentmedication_code_simv...   \n",
       "2      29          17  20003_1140861958-Treatmentmedication_code_simv...   \n",
       "3      29          17  20003_1140861958-Treatmentmedication_code_simv...   \n",
       "4      29          17  20003_1140861958-Treatmentmedication_code_simv...   \n",
       "\n",
       "      lv  lv_with_pathway      coef    pvalue  pvalue_twosided  \\\n",
       "0  LV744            False  0.017663  0.083346         0.166692   \n",
       "1  LV841            False  0.033055  0.004121         0.008241   \n",
       "2   LV65            False  0.013617  0.138593         0.277185   \n",
       "3  LV515            False -0.012351  0.834867         0.330265   \n",
       "4  LV847             True  0.005045  0.346233         0.692465   \n",
       "\n",
       "                                             summary  \n",
       "0                              GLS Regression Res...  \n",
       "1                              GLS Regression Res...  \n",
       "2                              GLS Regression Res...  \n",
       "3                              GLS Regression Res...  \n",
       "4                              GLS Regression Res...  "
      ]
     },
     "execution_count": 30,
     "metadata": {},
     "output_type": "execute_result"
    }
   ],
   "source": [
    "gls_phenomexcan.head()"
   ]
  },
  {
   "cell_type": "markdown",
   "id": "massive-serve",
   "metadata": {
    "papermill": {
     "duration": 0.028091,
     "end_time": "2021-07-17T03:03:36.758954",
     "exception": false,
     "start_time": "2021-07-17T03:03:36.730863",
     "status": "completed"
    },
    "tags": []
   },
   "source": [
    "## MultiPLIER summary"
   ]
  },
  {
   "cell_type": "code",
   "execution_count": 31,
   "id": "opened-stroke",
   "metadata": {
    "execution": {
     "iopub.execute_input": "2021-07-17T03:03:36.818195Z",
     "iopub.status.busy": "2021-07-17T03:03:36.817828Z",
     "iopub.status.idle": "2021-07-17T03:03:36.830061Z",
     "shell.execute_reply": "2021-07-17T03:03:36.829690Z"
    },
    "papermill": {
     "duration": 0.042959,
     "end_time": "2021-07-17T03:03:36.830146",
     "exception": false,
     "start_time": "2021-07-17T03:03:36.787187",
     "status": "completed"
    },
    "tags": []
   },
   "outputs": [],
   "source": [
    "multiplier_model_summary = pd.read_pickle(conf.MULTIPLIER[\"MODEL_SUMMARY_FILE\"])"
   ]
  },
  {
   "cell_type": "code",
   "execution_count": 32,
   "id": "obvious-taxation",
   "metadata": {
    "execution": {
     "iopub.execute_input": "2021-07-17T03:03:36.890795Z",
     "iopub.status.busy": "2021-07-17T03:03:36.890436Z",
     "iopub.status.idle": "2021-07-17T03:03:36.901727Z",
     "shell.execute_reply": "2021-07-17T03:03:36.901370Z"
    },
    "papermill": {
     "duration": 0.041971,
     "end_time": "2021-07-17T03:03:36.901808",
     "exception": false,
     "start_time": "2021-07-17T03:03:36.859837",
     "status": "completed"
    },
    "tags": []
   },
   "outputs": [
    {
     "data": {
      "text/plain": [
       "(2157, 5)"
      ]
     },
     "execution_count": 32,
     "metadata": {},
     "output_type": "execute_result"
    }
   ],
   "source": [
    "multiplier_model_summary.shape"
   ]
  },
  {
   "cell_type": "code",
   "execution_count": 33,
   "id": "fantastic-penalty",
   "metadata": {
    "execution": {
     "iopub.execute_input": "2021-07-17T03:03:36.962220Z",
     "iopub.status.busy": "2021-07-17T03:03:36.961854Z",
     "iopub.status.idle": "2021-07-17T03:03:36.976957Z",
     "shell.execute_reply": "2021-07-17T03:03:36.976526Z"
    },
    "papermill": {
     "duration": 0.04602,
     "end_time": "2021-07-17T03:03:36.977044",
     "exception": false,
     "start_time": "2021-07-17T03:03:36.931024",
     "status": "completed"
    },
    "tags": []
   },
   "outputs": [
    {
     "data": {
      "text/html": [
       "<div>\n",
       "<style scoped>\n",
       "    .dataframe tbody tr th:only-of-type {\n",
       "        vertical-align: middle;\n",
       "    }\n",
       "\n",
       "    .dataframe tbody tr th {\n",
       "        vertical-align: top;\n",
       "    }\n",
       "\n",
       "    .dataframe thead th {\n",
       "        text-align: right;\n",
       "    }\n",
       "</style>\n",
       "<table border=\"1\" class=\"dataframe\">\n",
       "  <thead>\n",
       "    <tr style=\"text-align: right;\">\n",
       "      <th></th>\n",
       "      <th>pathway</th>\n",
       "      <th>LV index</th>\n",
       "      <th>AUC</th>\n",
       "      <th>p-value</th>\n",
       "      <th>FDR</th>\n",
       "    </tr>\n",
       "  </thead>\n",
       "  <tbody>\n",
       "    <tr>\n",
       "      <th>1</th>\n",
       "      <td>KEGG_LYSINE_DEGRADATION</td>\n",
       "      <td>1</td>\n",
       "      <td>0.388059</td>\n",
       "      <td>0.866078</td>\n",
       "      <td>0.956005</td>\n",
       "    </tr>\n",
       "    <tr>\n",
       "      <th>2</th>\n",
       "      <td>REACTOME_MRNA_SPLICING</td>\n",
       "      <td>1</td>\n",
       "      <td>0.733057</td>\n",
       "      <td>0.000048</td>\n",
       "      <td>0.000582</td>\n",
       "    </tr>\n",
       "    <tr>\n",
       "      <th>3</th>\n",
       "      <td>MIPS_NOP56P_ASSOCIATED_PRE_RRNA_COMPLEX</td>\n",
       "      <td>1</td>\n",
       "      <td>0.680555</td>\n",
       "      <td>0.001628</td>\n",
       "      <td>0.011366</td>\n",
       "    </tr>\n",
       "    <tr>\n",
       "      <th>4</th>\n",
       "      <td>KEGG_DNA_REPLICATION</td>\n",
       "      <td>1</td>\n",
       "      <td>0.549473</td>\n",
       "      <td>0.312155</td>\n",
       "      <td>0.539951</td>\n",
       "    </tr>\n",
       "    <tr>\n",
       "      <th>5</th>\n",
       "      <td>PID_MYC_ACTIVPATHWAY</td>\n",
       "      <td>1</td>\n",
       "      <td>0.639303</td>\n",
       "      <td>0.021702</td>\n",
       "      <td>0.083739</td>\n",
       "    </tr>\n",
       "  </tbody>\n",
       "</table>\n",
       "</div>"
      ],
      "text/plain": [
       "                                   pathway LV index       AUC   p-value  \\\n",
       "1                  KEGG_LYSINE_DEGRADATION        1  0.388059  0.866078   \n",
       "2                   REACTOME_MRNA_SPLICING        1  0.733057  0.000048   \n",
       "3  MIPS_NOP56P_ASSOCIATED_PRE_RRNA_COMPLEX        1  0.680555  0.001628   \n",
       "4                     KEGG_DNA_REPLICATION        1  0.549473  0.312155   \n",
       "5                     PID_MYC_ACTIVPATHWAY        1  0.639303  0.021702   \n",
       "\n",
       "        FDR  \n",
       "1  0.956005  \n",
       "2  0.000582  \n",
       "3  0.011366  \n",
       "4  0.539951  \n",
       "5  0.083739  "
      ]
     },
     "execution_count": 33,
     "metadata": {},
     "output_type": "execute_result"
    }
   ],
   "source": [
    "multiplier_model_summary.head()"
   ]
  },
  {
   "cell_type": "code",
   "execution_count": 34,
   "id": "wireless-decline",
   "metadata": {
    "execution": {
     "iopub.execute_input": "2021-07-17T03:03:37.038284Z",
     "iopub.status.busy": "2021-07-17T03:03:37.037929Z",
     "iopub.status.idle": "2021-07-17T03:03:37.055645Z",
     "shell.execute_reply": "2021-07-17T03:03:37.055304Z"
    },
    "papermill": {
     "duration": 0.049042,
     "end_time": "2021-07-17T03:03:37.055733",
     "exception": false,
     "start_time": "2021-07-17T03:03:37.006691",
     "status": "completed"
    },
    "tags": []
   },
   "outputs": [
    {
     "data": {
      "text/plain": [
       "(469, 5)"
      ]
     },
     "metadata": {},
     "output_type": "display_data"
    },
    {
     "data": {
      "text/html": [
       "<div>\n",
       "<style scoped>\n",
       "    .dataframe tbody tr th:only-of-type {\n",
       "        vertical-align: middle;\n",
       "    }\n",
       "\n",
       "    .dataframe tbody tr th {\n",
       "        vertical-align: top;\n",
       "    }\n",
       "\n",
       "    .dataframe thead th {\n",
       "        text-align: right;\n",
       "    }\n",
       "</style>\n",
       "<table border=\"1\" class=\"dataframe\">\n",
       "  <thead>\n",
       "    <tr style=\"text-align: right;\">\n",
       "      <th></th>\n",
       "      <th>pathway</th>\n",
       "      <th>LV index</th>\n",
       "      <th>AUC</th>\n",
       "      <th>p-value</th>\n",
       "      <th>FDR</th>\n",
       "    </tr>\n",
       "  </thead>\n",
       "  <tbody>\n",
       "    <tr>\n",
       "      <th>2</th>\n",
       "      <td>REACTOME_MRNA_SPLICING</td>\n",
       "      <td>1</td>\n",
       "      <td>0.733057</td>\n",
       "      <td>4.772691e-05</td>\n",
       "      <td>5.816211e-04</td>\n",
       "    </tr>\n",
       "    <tr>\n",
       "      <th>3</th>\n",
       "      <td>MIPS_NOP56P_ASSOCIATED_PRE_RRNA_COMPLEX</td>\n",
       "      <td>1</td>\n",
       "      <td>0.680555</td>\n",
       "      <td>1.628217e-03</td>\n",
       "      <td>1.136590e-02</td>\n",
       "    </tr>\n",
       "    <tr>\n",
       "      <th>8</th>\n",
       "      <td>REACTOME_MITOTIC_G1_G1_S_PHASES</td>\n",
       "      <td>1</td>\n",
       "      <td>0.686170</td>\n",
       "      <td>2.517619e-04</td>\n",
       "      <td>2.392292e-03</td>\n",
       "    </tr>\n",
       "    <tr>\n",
       "      <th>9</th>\n",
       "      <td>IRIS_Monocyte-Day0</td>\n",
       "      <td>2</td>\n",
       "      <td>0.890036</td>\n",
       "      <td>4.315812e-25</td>\n",
       "      <td>1.329887e-22</td>\n",
       "    </tr>\n",
       "    <tr>\n",
       "      <th>10</th>\n",
       "      <td>DMAP_MONO2</td>\n",
       "      <td>2</td>\n",
       "      <td>0.904676</td>\n",
       "      <td>1.313970e-16</td>\n",
       "      <td>1.574574e-14</td>\n",
       "    </tr>\n",
       "  </tbody>\n",
       "</table>\n",
       "</div>"
      ],
      "text/plain": [
       "                                    pathway LV index       AUC       p-value  \\\n",
       "2                    REACTOME_MRNA_SPLICING        1  0.733057  4.772691e-05   \n",
       "3   MIPS_NOP56P_ASSOCIATED_PRE_RRNA_COMPLEX        1  0.680555  1.628217e-03   \n",
       "8           REACTOME_MITOTIC_G1_G1_S_PHASES        1  0.686170  2.517619e-04   \n",
       "9                        IRIS_Monocyte-Day0        2  0.890036  4.315812e-25   \n",
       "10                               DMAP_MONO2        2  0.904676  1.313970e-16   \n",
       "\n",
       "             FDR  \n",
       "2   5.816211e-04  \n",
       "3   1.136590e-02  \n",
       "8   2.392292e-03  \n",
       "9   1.329887e-22  \n",
       "10  1.574574e-14  "
      ]
     },
     "metadata": {},
     "output_type": "display_data"
    }
   ],
   "source": [
    "well_aligned_lvs = multiplier_model_summary[\n",
    "    (multiplier_model_summary[\"FDR\"] < 0.05) | (multiplier_model_summary[\"AUC\"] >= 0.75)\n",
    "]\n",
    "\n",
    "display(well_aligned_lvs.shape)\n",
    "display(well_aligned_lvs.head())"
   ]
  },
  {
   "cell_type": "code",
   "execution_count": 35,
   "id": "statistical-whale",
   "metadata": {
    "execution": {
     "iopub.execute_input": "2021-07-17T03:03:37.119959Z",
     "iopub.status.busy": "2021-07-17T03:03:37.119571Z",
     "iopub.status.idle": "2021-07-17T03:03:37.130470Z",
     "shell.execute_reply": "2021-07-17T03:03:37.130095Z"
    },
    "papermill": {
     "duration": 0.04302,
     "end_time": "2021-07-17T03:03:37.130552",
     "exception": false,
     "start_time": "2021-07-17T03:03:37.087532",
     "status": "completed"
    },
    "tags": []
   },
   "outputs": [],
   "source": [
    "well_aligned_lv_codes = set([f\"LV{lvi}\" for lvi in well_aligned_lvs[\"LV index\"]])"
   ]
  },
  {
   "cell_type": "code",
   "execution_count": 36,
   "id": "assured-arnold",
   "metadata": {
    "execution": {
     "iopub.execute_input": "2021-07-17T03:03:37.192814Z",
     "iopub.status.busy": "2021-07-17T03:03:37.192400Z",
     "iopub.status.idle": "2021-07-17T03:03:37.204005Z",
     "shell.execute_reply": "2021-07-17T03:03:37.203638Z"
    },
    "papermill": {
     "duration": 0.043152,
     "end_time": "2021-07-17T03:03:37.204089",
     "exception": false,
     "start_time": "2021-07-17T03:03:37.160937",
     "status": "completed"
    },
    "tags": []
   },
   "outputs": [
    {
     "data": {
      "text/plain": [
       "200"
      ]
     },
     "execution_count": 36,
     "metadata": {},
     "output_type": "execute_result"
    }
   ],
   "source": [
    "len(well_aligned_lv_codes)"
   ]
  },
  {
   "cell_type": "code",
   "execution_count": 37,
   "id": "liable-sellers",
   "metadata": {
    "execution": {
     "iopub.execute_input": "2021-07-17T03:03:37.267060Z",
     "iopub.status.busy": "2021-07-17T03:03:37.266709Z",
     "iopub.status.idle": "2021-07-17T03:03:37.278292Z",
     "shell.execute_reply": "2021-07-17T03:03:37.277935Z"
    },
    "papermill": {
     "duration": 0.043649,
     "end_time": "2021-07-17T03:03:37.278374",
     "exception": false,
     "start_time": "2021-07-17T03:03:37.234725",
     "status": "completed"
    },
    "tags": []
   },
   "outputs": [
    {
     "data": {
      "text/plain": [
       "['LV12', 'LV541', 'LV71', 'LV823', 'LV83']"
      ]
     },
     "execution_count": 37,
     "metadata": {},
     "output_type": "execute_result"
    }
   ],
   "source": [
    "list(well_aligned_lv_codes)[:5]"
   ]
  },
  {
   "cell_type": "markdown",
   "id": "expensive-organization",
   "metadata": {
    "papermill": {
     "duration": 0.02963,
     "end_time": "2021-07-17T03:03:37.338577",
     "exception": false,
     "start_time": "2021-07-17T03:03:37.308947",
     "status": "completed"
    },
    "tags": []
   },
   "source": [
    "# Select LVs from previous GLS run on PhenomeXcan"
   ]
  },
  {
   "cell_type": "code",
   "execution_count": 38,
   "id": "buried-lawsuit",
   "metadata": {
    "execution": {
     "iopub.execute_input": "2021-07-17T03:03:37.400643Z",
     "iopub.status.busy": "2021-07-17T03:03:37.400285Z",
     "iopub.status.idle": "2021-07-17T03:03:37.411507Z",
     "shell.execute_reply": "2021-07-17T03:03:37.411133Z"
    },
    "papermill": {
     "duration": 0.043306,
     "end_time": "2021-07-17T03:03:37.411593",
     "exception": false,
     "start_time": "2021-07-17T03:03:37.368287",
     "status": "completed"
    },
    "tags": []
   },
   "outputs": [],
   "source": [
    "gls_phenomexcan_lvs = gls_phenomexcan[\"lv\"].unique()"
   ]
  },
  {
   "cell_type": "code",
   "execution_count": 39,
   "id": "adjustable-private",
   "metadata": {
    "execution": {
     "iopub.execute_input": "2021-07-17T03:03:37.474619Z",
     "iopub.status.busy": "2021-07-17T03:03:37.474257Z",
     "iopub.status.idle": "2021-07-17T03:03:37.485836Z",
     "shell.execute_reply": "2021-07-17T03:03:37.485452Z"
    },
    "papermill": {
     "duration": 0.043922,
     "end_time": "2021-07-17T03:03:37.485923",
     "exception": false,
     "start_time": "2021-07-17T03:03:37.442001",
     "status": "completed"
    },
    "tags": []
   },
   "outputs": [
    {
     "data": {
      "text/plain": [
       "(188,)"
      ]
     },
     "execution_count": 39,
     "metadata": {},
     "output_type": "execute_result"
    }
   ],
   "source": [
    "gls_phenomexcan_lvs.shape"
   ]
  },
  {
   "cell_type": "code",
   "execution_count": 40,
   "id": "fossil-crest",
   "metadata": {
    "execution": {
     "iopub.execute_input": "2021-07-17T03:03:37.555949Z",
     "iopub.status.busy": "2021-07-17T03:03:37.555592Z",
     "iopub.status.idle": "2021-07-17T03:03:37.567293Z",
     "shell.execute_reply": "2021-07-17T03:03:37.566923Z"
    },
    "papermill": {
     "duration": 0.047134,
     "end_time": "2021-07-17T03:03:37.567376",
     "exception": false,
     "start_time": "2021-07-17T03:03:37.520242",
     "status": "completed"
    },
    "tags": []
   },
   "outputs": [
    {
     "data": {
      "text/plain": [
       "array(['LV744', 'LV841', 'LV65', 'LV515', 'LV847', 'LV516', 'LV455',\n",
       "       'LV381', 'LV575', 'LV330', 'LV530', 'LV91', 'LV797', 'LV367',\n",
       "       'LV514', 'LV147', 'LV289', 'LV42', 'LV224', 'LV257', 'LV864',\n",
       "       'LV983', 'LV155', 'LV54', 'LV942', 'LV984', 'LV948', 'LV271',\n",
       "       'LV605', 'LV453', 'LV610', 'LV987', 'LV913', 'LV568', 'LV342',\n",
       "       'LV425', 'LV11', 'LV502', 'LV57', 'LV844', 'LV403', 'LV301',\n",
       "       'LV338', 'LV51', 'LV277', 'LV5', 'LV613', 'LV856', 'LV307',\n",
       "       'LV877', 'LV851', 'LV954', 'LV808', 'LV510', 'LV387', 'LV443',\n",
       "       'LV270', 'LV391', 'LV238', 'LV591', 'LV193', 'LV207', 'LV189',\n",
       "       'LV854', 'LV70', 'LV32', 'LV504', 'LV535', 'LV427', 'LV210',\n",
       "       'LV174', 'LV861', 'LV769', 'LV787', 'LV56', 'LV154', 'LV603',\n",
       "       'LV251', 'LV953', 'LV506', 'LV402', 'LV918', 'LV879', 'LV117',\n",
       "       'LV418', 'LV359', 'LV874', 'LV587', 'LV294', 'LV24', 'LV237',\n",
       "       'LV835', 'LV171', 'LV452', 'LV904', 'LV241', 'LV300', 'LV50',\n",
       "       'LV94', 'LV484', 'LV671', 'LV81', 'LV598', 'LV643', 'LV710',\n",
       "       'LV693', 'LV986', 'LV894', 'LV156', 'LV767', 'LV761', 'LV476',\n",
       "       'LV906', 'LV107', 'LV132', 'LV128', 'LV612', 'LV136', 'LV62',\n",
       "       'LV664', 'LV252', 'LV538', 'LV622', 'LV412', 'LV479', 'LV952',\n",
       "       'LV925', 'LV118', 'LV757', 'LV146', 'LV770', 'LV721', 'LV18',\n",
       "       'LV657', 'LV33', 'LV727', 'LV140', 'LV574', 'LV884', 'LV650',\n",
       "       'LV796', 'LV931', 'LV811', 'LV567', 'LV108', 'LV309', 'LV813',\n",
       "       'LV331', 'LV688', 'LV337', 'LV162', 'LV434', 'LV47', 'LV561',\n",
       "       'LV12', 'LV680', 'LV428', 'LV145', 'LV260', 'LV753', 'LV21',\n",
       "       'LV206', 'LV93', 'LV576', 'LV45', 'LV853', 'LV71', 'LV52', 'LV343',\n",
       "       'LV308', 'LV282', 'LV35', 'LV665', 'LV46', 'LV597', 'LV754',\n",
       "       'LV449', 'LV631', 'LV823', 'LV548', 'LV922', 'LV837', 'LV486',\n",
       "       'LV977', 'LV339', 'LV746', 'LV362', 'LV290'], dtype=object)"
      ]
     },
     "execution_count": 40,
     "metadata": {},
     "output_type": "execute_result"
    }
   ],
   "source": [
    "gls_phenomexcan_lvs"
   ]
  },
  {
   "cell_type": "markdown",
   "id": "fitted-tenant",
   "metadata": {
    "papermill": {
     "duration": 0.030356,
     "end_time": "2021-07-17T03:03:37.629012",
     "exception": false,
     "start_time": "2021-07-17T03:03:37.598656",
     "status": "completed"
    },
    "tags": []
   },
   "source": [
    "# Select eMERGE traits"
   ]
  },
  {
   "cell_type": "markdown",
   "id": "actual-jimmy",
   "metadata": {
    "papermill": {
     "duration": 0.030327,
     "end_time": "2021-07-17T03:03:37.689639",
     "exception": false,
     "start_time": "2021-07-17T03:03:37.659312",
     "status": "completed"
    },
    "tags": []
   },
   "source": [
    "~This is an attempt to first get those eMERGE traits that correspond to the same EFO code in PhenomeXcan.\n",
    "However, turns out that we only have a few matchings. That's why I'm taking the top 20 traits from each LVs in addition\n",
    "to these ones.~"
   ]
  },
  {
   "cell_type": "code",
   "execution_count": 41,
   "id": "continent-seller",
   "metadata": {
    "execution": {
     "iopub.execute_input": "2021-07-17T03:03:37.753457Z",
     "iopub.status.busy": "2021-07-17T03:03:37.753013Z",
     "iopub.status.idle": "2021-07-17T03:03:37.763826Z",
     "shell.execute_reply": "2021-07-17T03:03:37.763459Z"
    },
    "papermill": {
     "duration": 0.043459,
     "end_time": "2021-07-17T03:03:37.763911",
     "exception": false,
     "start_time": "2021-07-17T03:03:37.720452",
     "status": "completed"
    },
    "tags": []
   },
   "outputs": [],
   "source": [
    "# gls_phenomexcan_traits = gls_phenomexcan[\"phenotype\"].unique()"
   ]
  },
  {
   "cell_type": "code",
   "execution_count": 42,
   "id": "expanded-qatar",
   "metadata": {
    "execution": {
     "iopub.execute_input": "2021-07-17T03:03:37.828221Z",
     "iopub.status.busy": "2021-07-17T03:03:37.827869Z",
     "iopub.status.idle": "2021-07-17T03:03:37.839074Z",
     "shell.execute_reply": "2021-07-17T03:03:37.838767Z"
    },
    "papermill": {
     "duration": 0.04387,
     "end_time": "2021-07-17T03:03:37.839162",
     "exception": false,
     "start_time": "2021-07-17T03:03:37.795292",
     "status": "completed"
    },
    "tags": []
   },
   "outputs": [],
   "source": [
    "# gls_phenomexcan_traits.shape"
   ]
  },
  {
   "cell_type": "code",
   "execution_count": 43,
   "id": "light-tribune",
   "metadata": {
    "execution": {
     "iopub.execute_input": "2021-07-17T03:03:37.903109Z",
     "iopub.status.busy": "2021-07-17T03:03:37.902748Z",
     "iopub.status.idle": "2021-07-17T03:03:37.913389Z",
     "shell.execute_reply": "2021-07-17T03:03:37.913074Z"
    },
    "papermill": {
     "duration": 0.043195,
     "end_time": "2021-07-17T03:03:37.913473",
     "exception": false,
     "start_time": "2021-07-17T03:03:37.870278",
     "status": "completed"
    },
    "tags": []
   },
   "outputs": [],
   "source": [
    "# gls_phenomexcan_in_emerge = emerge_phenomexcan_maps[\n",
    "#     (emerge_phenomexcan_maps[\"efo\"].isin(gls_phenomexcan_traits))\n",
    "#     | (emerge_phenomexcan_maps[\"phenomexcan\"].isin(gls_phenomexcan_traits))\n",
    "# ]"
   ]
  },
  {
   "cell_type": "code",
   "execution_count": 44,
   "id": "confirmed-setting",
   "metadata": {
    "execution": {
     "iopub.execute_input": "2021-07-17T03:03:37.979059Z",
     "iopub.status.busy": "2021-07-17T03:03:37.978691Z",
     "iopub.status.idle": "2021-07-17T03:03:37.989196Z",
     "shell.execute_reply": "2021-07-17T03:03:37.988828Z"
    },
    "papermill": {
     "duration": 0.044229,
     "end_time": "2021-07-17T03:03:37.989280",
     "exception": false,
     "start_time": "2021-07-17T03:03:37.945051",
     "status": "completed"
    },
    "tags": []
   },
   "outputs": [],
   "source": [
    "# gls_phenomexcan_in_emerge"
   ]
  },
  {
   "cell_type": "code",
   "execution_count": 45,
   "id": "compound-farmer",
   "metadata": {
    "execution": {
     "iopub.execute_input": "2021-07-17T03:03:38.054727Z",
     "iopub.status.busy": "2021-07-17T03:03:38.054344Z",
     "iopub.status.idle": "2021-07-17T03:03:38.065253Z",
     "shell.execute_reply": "2021-07-17T03:03:38.065552Z"
    },
    "papermill": {
     "duration": 0.045002,
     "end_time": "2021-07-17T03:03:38.065666",
     "exception": false,
     "start_time": "2021-07-17T03:03:38.020664",
     "status": "completed"
    },
    "tags": []
   },
   "outputs": [],
   "source": [
    "# gls_emerge_phecodes = gls_phenomexcan_in_emerge[\"phecode\"].unique().tolist()"
   ]
  },
  {
   "cell_type": "code",
   "execution_count": 46,
   "id": "marine-sandwich",
   "metadata": {
    "execution": {
     "iopub.execute_input": "2021-07-17T03:03:38.132003Z",
     "iopub.status.busy": "2021-07-17T03:03:38.131643Z",
     "iopub.status.idle": "2021-07-17T03:03:38.142292Z",
     "shell.execute_reply": "2021-07-17T03:03:38.141930Z"
    },
    "papermill": {
     "duration": 0.043615,
     "end_time": "2021-07-17T03:03:38.142374",
     "exception": false,
     "start_time": "2021-07-17T03:03:38.098759",
     "status": "completed"
    },
    "tags": []
   },
   "outputs": [],
   "source": [
    "# these are the mapped traits from PhenomeXcan to phecodes\n",
    "# gls_emerge_phecodes"
   ]
  },
  {
   "cell_type": "markdown",
   "id": "personalized-height",
   "metadata": {
    "papermill": {
     "duration": 0.03117,
     "end_time": "2021-07-17T03:03:38.205146",
     "exception": false,
     "start_time": "2021-07-17T03:03:38.173976",
     "status": "completed"
    },
    "tags": []
   },
   "source": [
    "# GLSPhenoplier"
   ]
  },
  {
   "cell_type": "markdown",
   "id": "strange-harvard",
   "metadata": {
    "papermill": {
     "duration": 0.030784,
     "end_time": "2021-07-17T03:03:38.267467",
     "exception": false,
     "start_time": "2021-07-17T03:03:38.236683",
     "status": "completed"
    },
    "tags": []
   },
   "source": [
    "## Get list of phenotypes/lvs pairs"
   ]
  },
  {
   "cell_type": "code",
   "execution_count": 47,
   "id": "chronic-international",
   "metadata": {
    "execution": {
     "iopub.execute_input": "2021-07-17T03:03:38.332457Z",
     "iopub.status.busy": "2021-07-17T03:03:38.332080Z",
     "iopub.status.idle": "2021-07-17T03:03:38.442372Z",
     "shell.execute_reply": "2021-07-17T03:03:38.441987Z"
    },
    "papermill": {
     "duration": 0.144243,
     "end_time": "2021-07-17T03:03:38.442458",
     "exception": false,
     "start_time": "2021-07-17T03:03:38.298215",
     "status": "completed"
    },
    "tags": []
   },
   "outputs": [],
   "source": [
    "phenotypes_lvs_pairs = []\n",
    "\n",
    "# for each LV that was run on PhenomeXcan, I take the top `N_TOP_TRAITS_FROM_LV` traits\n",
    "# in eMERGE\n",
    "# ~~~+ global mapped phenotypes (variable `gls_emerge_phecodes`)~~~\n",
    "for lv in gls_phenomexcan_lvs:\n",
    "    lv_traits = emerge_projection.loc[lv]\n",
    "    lv_traits = lv_traits[lv_traits > 0.0]\n",
    "    lv_traits = lv_traits.sort_values(ascending=False).head(N_TOP_TRAITS_FROM_LV)\n",
    "\n",
    "    for phenotype_code in set(lv_traits.index.tolist()):  # + gls_emerge_phecodes):\n",
    "        phenotypes_lvs_pairs.append(\n",
    "            {\n",
    "                \"phenotype\": phenotype_code,\n",
    "                \"lv\": lv,\n",
    "            }\n",
    "        )\n",
    "\n",
    "phenotypes_lvs_pairs = pd.DataFrame(phenotypes_lvs_pairs).drop_duplicates()"
   ]
  },
  {
   "cell_type": "code",
   "execution_count": 48,
   "id": "engaging-clearance",
   "metadata": {
    "execution": {
     "iopub.execute_input": "2021-07-17T03:03:38.508334Z",
     "iopub.status.busy": "2021-07-17T03:03:38.507916Z",
     "iopub.status.idle": "2021-07-17T03:03:38.522701Z",
     "shell.execute_reply": "2021-07-17T03:03:38.522289Z"
    },
    "papermill": {
     "duration": 0.048722,
     "end_time": "2021-07-17T03:03:38.522803",
     "exception": false,
     "start_time": "2021-07-17T03:03:38.474081",
     "status": "completed"
    },
    "tags": []
   },
   "outputs": [],
   "source": [
    "phenotypes_lvs_pairs = phenotypes_lvs_pairs.sort_values(\"phenotype\").reset_index(\n",
    "    drop=True\n",
    ")"
   ]
  },
  {
   "cell_type": "code",
   "execution_count": 49,
   "id": "differential-reverse",
   "metadata": {
    "execution": {
     "iopub.execute_input": "2021-07-17T03:03:38.591304Z",
     "iopub.status.busy": "2021-07-17T03:03:38.590947Z",
     "iopub.status.idle": "2021-07-17T03:03:38.601654Z",
     "shell.execute_reply": "2021-07-17T03:03:38.601932Z"
    },
    "papermill": {
     "duration": 0.0446,
     "end_time": "2021-07-17T03:03:38.602036",
     "exception": false,
     "start_time": "2021-07-17T03:03:38.557436",
     "status": "completed"
    },
    "tags": []
   },
   "outputs": [
    {
     "data": {
      "text/plain": [
       "(3760, 2)"
      ]
     },
     "execution_count": 49,
     "metadata": {},
     "output_type": "execute_result"
    }
   ],
   "source": [
    "phenotypes_lvs_pairs.shape"
   ]
  },
  {
   "cell_type": "code",
   "execution_count": 50,
   "id": "refined-victory",
   "metadata": {
    "execution": {
     "iopub.execute_input": "2021-07-17T03:03:38.667981Z",
     "iopub.status.busy": "2021-07-17T03:03:38.667627Z",
     "iopub.status.idle": "2021-07-17T03:03:38.681168Z",
     "shell.execute_reply": "2021-07-17T03:03:38.680798Z"
    },
    "papermill": {
     "duration": 0.047223,
     "end_time": "2021-07-17T03:03:38.681269",
     "exception": false,
     "start_time": "2021-07-17T03:03:38.634046",
     "status": "completed"
    },
    "tags": []
   },
   "outputs": [
    {
     "data": {
      "text/html": [
       "<div>\n",
       "<style scoped>\n",
       "    .dataframe tbody tr th:only-of-type {\n",
       "        vertical-align: middle;\n",
       "    }\n",
       "\n",
       "    .dataframe tbody tr th {\n",
       "        vertical-align: top;\n",
       "    }\n",
       "\n",
       "    .dataframe thead th {\n",
       "        text-align: right;\n",
       "    }\n",
       "</style>\n",
       "<table border=\"1\" class=\"dataframe\">\n",
       "  <thead>\n",
       "    <tr style=\"text-align: right;\">\n",
       "      <th></th>\n",
       "      <th>phenotype</th>\n",
       "      <th>lv</th>\n",
       "    </tr>\n",
       "  </thead>\n",
       "  <tbody>\n",
       "    <tr>\n",
       "      <th>0</th>\n",
       "      <td>008</td>\n",
       "      <td>LV18</td>\n",
       "    </tr>\n",
       "    <tr>\n",
       "      <th>1</th>\n",
       "      <td>008</td>\n",
       "      <td>LV257</td>\n",
       "    </tr>\n",
       "    <tr>\n",
       "      <th>2</th>\n",
       "      <td>008</td>\n",
       "      <td>LV770</td>\n",
       "    </tr>\n",
       "    <tr>\n",
       "      <th>3</th>\n",
       "      <td>008</td>\n",
       "      <td>LV514</td>\n",
       "    </tr>\n",
       "    <tr>\n",
       "      <th>4</th>\n",
       "      <td>008</td>\n",
       "      <td>LV32</td>\n",
       "    </tr>\n",
       "  </tbody>\n",
       "</table>\n",
       "</div>"
      ],
      "text/plain": [
       "  phenotype     lv\n",
       "0       008   LV18\n",
       "1       008  LV257\n",
       "2       008  LV770\n",
       "3       008  LV514\n",
       "4       008   LV32"
      ]
     },
     "execution_count": 50,
     "metadata": {},
     "output_type": "execute_result"
    }
   ],
   "source": [
    "phenotypes_lvs_pairs.head()"
   ]
  },
  {
   "cell_type": "markdown",
   "id": "egyptian-advocacy",
   "metadata": {
    "papermill": {
     "duration": 0.031603,
     "end_time": "2021-07-17T03:03:38.745027",
     "exception": false,
     "start_time": "2021-07-17T03:03:38.713424",
     "status": "completed"
    },
    "tags": []
   },
   "source": [
    "## Run"
   ]
  },
  {
   "cell_type": "code",
   "execution_count": 51,
   "id": "meaning-communications",
   "metadata": {
    "execution": {
     "iopub.execute_input": "2021-07-17T03:03:38.812756Z",
     "iopub.status.busy": "2021-07-17T03:03:38.812338Z",
     "iopub.status.idle": "2021-07-17T12:43:26.265846Z",
     "shell.execute_reply": "2021-07-17T12:43:26.265002Z"
    },
    "papermill": {
     "duration": 34787.48884,
     "end_time": "2021-07-17T12:43:26.265933",
     "exception": false,
     "start_time": "2021-07-17T03:03:38.777093",
     "status": "completed"
    },
    "tags": []
   },
   "outputs": [
    {
     "name": "stderr",
     "output_type": "stream",
     "text": [
      "796 - LV510: 100%|██████████| 3760/3760 [9:39:46<00:00,  9.25s/it]\n"
     ]
    }
   ],
   "source": [
    "results = []\n",
    "\n",
    "pbar = tqdm(total=phenotypes_lvs_pairs.shape[0])\n",
    "\n",
    "for idx, row in phenotypes_lvs_pairs.iterrows():\n",
    "    phenotype_code = row[\"phenotype\"]\n",
    "    lv_code = row[\"lv\"]\n",
    "\n",
    "    pbar.set_description(f\"{phenotype_code} - {lv_code}\")\n",
    "\n",
    "    gls_model = GLSPhenoplier(\n",
    "        smultixcan_result_set_filepath=emerge_smultixcan_zscores_filepath\n",
    "    )\n",
    "    gls_model.fit_named(lv_code, phenotype_code)\n",
    "    res = gls_model.results\n",
    "\n",
    "    results.append(\n",
    "        {\n",
    "            \"phenotype\": phenotype_code,\n",
    "            \"lv\": lv_code,\n",
    "            \"lv_with_pathway\": lv_code in well_aligned_lv_codes,\n",
    "            \"coef\": res.params.loc[\"lv\"],\n",
    "            \"pvalue\": res.pvalues_onesided.loc[\"lv\"],\n",
    "            \"pvalue_twosided\": res.pvalues.loc[\"lv\"],\n",
    "            \"summary\": gls_model.results_summary,\n",
    "        }\n",
    "    )\n",
    "\n",
    "    # save results every 10 models trained\n",
    "    if (idx % 10) == 0:\n",
    "        pd.DataFrame(results).to_pickle(OUTPUT_FILENAME)\n",
    "\n",
    "    pbar.update(1)\n",
    "\n",
    "pbar.close()"
   ]
  },
  {
   "cell_type": "code",
   "execution_count": 52,
   "id": "fitted-parameter",
   "metadata": {
    "execution": {
     "iopub.execute_input": "2021-07-17T12:43:28.648223Z",
     "iopub.status.busy": "2021-07-17T12:43:28.647833Z",
     "iopub.status.idle": "2021-07-17T12:43:28.667767Z",
     "shell.execute_reply": "2021-07-17T12:43:28.668131Z"
    },
    "papermill": {
     "duration": 1.216273,
     "end_time": "2021-07-17T12:43:28.668260",
     "exception": false,
     "start_time": "2021-07-17T12:43:27.451987",
     "status": "completed"
    },
    "tags": []
   },
   "outputs": [],
   "source": [
    "results = pd.DataFrame(results)"
   ]
  },
  {
   "cell_type": "code",
   "execution_count": 53,
   "id": "earlier-germany",
   "metadata": {
    "execution": {
     "iopub.execute_input": "2021-07-17T12:43:31.062455Z",
     "iopub.status.busy": "2021-07-17T12:43:31.062064Z",
     "iopub.status.idle": "2021-07-17T12:43:31.074356Z",
     "shell.execute_reply": "2021-07-17T12:43:31.073958Z"
    },
    "papermill": {
     "duration": 1.20467,
     "end_time": "2021-07-17T12:43:31.074449",
     "exception": false,
     "start_time": "2021-07-17T12:43:29.869779",
     "status": "completed"
    },
    "tags": []
   },
   "outputs": [
    {
     "data": {
      "text/plain": [
       "(3760, 7)"
      ]
     },
     "execution_count": 53,
     "metadata": {},
     "output_type": "execute_result"
    }
   ],
   "source": [
    "results.shape"
   ]
  },
  {
   "cell_type": "code",
   "execution_count": 54,
   "id": "alternative-password",
   "metadata": {
    "execution": {
     "iopub.execute_input": "2021-07-17T12:43:33.462654Z",
     "iopub.status.busy": "2021-07-17T12:43:33.462178Z",
     "iopub.status.idle": "2021-07-17T12:43:33.495554Z",
     "shell.execute_reply": "2021-07-17T12:43:33.495217Z"
    },
    "papermill": {
     "duration": 1.225035,
     "end_time": "2021-07-17T12:43:33.495640",
     "exception": false,
     "start_time": "2021-07-17T12:43:32.270605",
     "status": "completed"
    },
    "tags": []
   },
   "outputs": [
    {
     "data": {
      "text/html": [
       "<div>\n",
       "<style scoped>\n",
       "    .dataframe tbody tr th:only-of-type {\n",
       "        vertical-align: middle;\n",
       "    }\n",
       "\n",
       "    .dataframe tbody tr th {\n",
       "        vertical-align: top;\n",
       "    }\n",
       "\n",
       "    .dataframe thead th {\n",
       "        text-align: right;\n",
       "    }\n",
       "</style>\n",
       "<table border=\"1\" class=\"dataframe\">\n",
       "  <thead>\n",
       "    <tr style=\"text-align: right;\">\n",
       "      <th></th>\n",
       "      <th>phenotype</th>\n",
       "      <th>lv</th>\n",
       "      <th>lv_with_pathway</th>\n",
       "      <th>coef</th>\n",
       "      <th>pvalue</th>\n",
       "      <th>pvalue_twosided</th>\n",
       "      <th>summary</th>\n",
       "    </tr>\n",
       "  </thead>\n",
       "  <tbody>\n",
       "    <tr>\n",
       "      <th>0</th>\n",
       "      <td>008</td>\n",
       "      <td>LV18</td>\n",
       "      <td>True</td>\n",
       "      <td>0.024829</td>\n",
       "      <td>0.021613</td>\n",
       "      <td>0.043225</td>\n",
       "      <td>GLS Regression Res...</td>\n",
       "    </tr>\n",
       "    <tr>\n",
       "      <th>1</th>\n",
       "      <td>008</td>\n",
       "      <td>LV257</td>\n",
       "      <td>True</td>\n",
       "      <td>0.029813</td>\n",
       "      <td>0.010222</td>\n",
       "      <td>0.020443</td>\n",
       "      <td>GLS Regression Res...</td>\n",
       "    </tr>\n",
       "    <tr>\n",
       "      <th>2</th>\n",
       "      <td>008</td>\n",
       "      <td>LV770</td>\n",
       "      <td>True</td>\n",
       "      <td>0.022392</td>\n",
       "      <td>0.038518</td>\n",
       "      <td>0.077036</td>\n",
       "      <td>GLS Regression Res...</td>\n",
       "    </tr>\n",
       "    <tr>\n",
       "      <th>3</th>\n",
       "      <td>008</td>\n",
       "      <td>LV514</td>\n",
       "      <td>False</td>\n",
       "      <td>0.027276</td>\n",
       "      <td>0.015994</td>\n",
       "      <td>0.031988</td>\n",
       "      <td>GLS Regression Res...</td>\n",
       "    </tr>\n",
       "    <tr>\n",
       "      <th>4</th>\n",
       "      <td>008</td>\n",
       "      <td>LV32</td>\n",
       "      <td>True</td>\n",
       "      <td>0.040773</td>\n",
       "      <td>0.000721</td>\n",
       "      <td>0.001443</td>\n",
       "      <td>GLS Regression Res...</td>\n",
       "    </tr>\n",
       "  </tbody>\n",
       "</table>\n",
       "</div>"
      ],
      "text/plain": [
       "  phenotype     lv  lv_with_pathway      coef    pvalue  pvalue_twosided  \\\n",
       "0       008   LV18             True  0.024829  0.021613         0.043225   \n",
       "1       008  LV257             True  0.029813  0.010222         0.020443   \n",
       "2       008  LV770             True  0.022392  0.038518         0.077036   \n",
       "3       008  LV514            False  0.027276  0.015994         0.031988   \n",
       "4       008   LV32             True  0.040773  0.000721         0.001443   \n",
       "\n",
       "                                             summary  \n",
       "0                              GLS Regression Res...  \n",
       "1                              GLS Regression Res...  \n",
       "2                              GLS Regression Res...  \n",
       "3                              GLS Regression Res...  \n",
       "4                              GLS Regression Res...  "
      ]
     },
     "execution_count": 54,
     "metadata": {},
     "output_type": "execute_result"
    }
   ],
   "source": [
    "results.head()"
   ]
  },
  {
   "cell_type": "code",
   "execution_count": 55,
   "id": "strong-technical",
   "metadata": {
    "execution": {
     "iopub.execute_input": "2021-07-17T12:43:35.954018Z",
     "iopub.status.busy": "2021-07-17T12:43:35.953635Z",
     "iopub.status.idle": "2021-07-17T12:43:36.003791Z",
     "shell.execute_reply": "2021-07-17T12:43:36.003421Z"
    },
    "papermill": {
     "duration": 1.242463,
     "end_time": "2021-07-17T12:43:36.003876",
     "exception": false,
     "start_time": "2021-07-17T12:43:34.761413",
     "status": "completed"
    },
    "tags": []
   },
   "outputs": [
    {
     "data": {
      "text/html": [
       "<div>\n",
       "<style scoped>\n",
       "    .dataframe tbody tr th:only-of-type {\n",
       "        vertical-align: middle;\n",
       "    }\n",
       "\n",
       "    .dataframe tbody tr th {\n",
       "        vertical-align: top;\n",
       "    }\n",
       "\n",
       "    .dataframe thead th {\n",
       "        text-align: right;\n",
       "    }\n",
       "</style>\n",
       "<table border=\"1\" class=\"dataframe\">\n",
       "  <thead>\n",
       "    <tr style=\"text-align: right;\">\n",
       "      <th></th>\n",
       "      <th>phenotype</th>\n",
       "      <th>lv</th>\n",
       "      <th>lv_with_pathway</th>\n",
       "      <th>coef</th>\n",
       "      <th>pvalue</th>\n",
       "      <th>pvalue_twosided</th>\n",
       "      <th>summary</th>\n",
       "    </tr>\n",
       "  </thead>\n",
       "  <tbody>\n",
       "    <tr>\n",
       "      <th>449</th>\n",
       "      <td>250.1</td>\n",
       "      <td>LV54</td>\n",
       "      <td>False</td>\n",
       "      <td>0.105369</td>\n",
       "      <td>2.184681e-17</td>\n",
       "      <td>4.369361e-17</td>\n",
       "      <td>GLS Regression Res...</td>\n",
       "    </tr>\n",
       "    <tr>\n",
       "      <th>3102</th>\n",
       "      <td>585.32</td>\n",
       "      <td>LV45</td>\n",
       "      <td>True</td>\n",
       "      <td>0.101602</td>\n",
       "      <td>4.446426e-16</td>\n",
       "      <td>8.892851e-16</td>\n",
       "      <td>GLS Regression Res...</td>\n",
       "    </tr>\n",
       "    <tr>\n",
       "      <th>440</th>\n",
       "      <td>250.1</td>\n",
       "      <td>LV425</td>\n",
       "      <td>False</td>\n",
       "      <td>0.093755</td>\n",
       "      <td>2.053420e-14</td>\n",
       "      <td>4.106841e-14</td>\n",
       "      <td>GLS Regression Res...</td>\n",
       "    </tr>\n",
       "    <tr>\n",
       "      <th>2267</th>\n",
       "      <td>443</td>\n",
       "      <td>LV45</td>\n",
       "      <td>True</td>\n",
       "      <td>0.091128</td>\n",
       "      <td>2.727165e-13</td>\n",
       "      <td>5.454329e-13</td>\n",
       "      <td>GLS Regression Res...</td>\n",
       "    </tr>\n",
       "    <tr>\n",
       "      <th>404</th>\n",
       "      <td>244.4</td>\n",
       "      <td>LV57</td>\n",
       "      <td>True</td>\n",
       "      <td>0.089947</td>\n",
       "      <td>2.650956e-12</td>\n",
       "      <td>5.301912e-12</td>\n",
       "      <td>GLS Regression Res...</td>\n",
       "    </tr>\n",
       "    <tr>\n",
       "      <th>3461</th>\n",
       "      <td>714.1</td>\n",
       "      <td>LV425</td>\n",
       "      <td>False</td>\n",
       "      <td>0.086154</td>\n",
       "      <td>2.812428e-12</td>\n",
       "      <td>5.624855e-12</td>\n",
       "      <td>GLS Regression Res...</td>\n",
       "    </tr>\n",
       "    <tr>\n",
       "      <th>376</th>\n",
       "      <td>244</td>\n",
       "      <td>LV57</td>\n",
       "      <td>True</td>\n",
       "      <td>0.089541</td>\n",
       "      <td>2.974966e-12</td>\n",
       "      <td>5.949932e-12</td>\n",
       "      <td>GLS Regression Res...</td>\n",
       "    </tr>\n",
       "    <tr>\n",
       "      <th>701</th>\n",
       "      <td>274.1</td>\n",
       "      <td>LV45</td>\n",
       "      <td>True</td>\n",
       "      <td>0.085661</td>\n",
       "      <td>4.893705e-12</td>\n",
       "      <td>9.787409e-12</td>\n",
       "      <td>GLS Regression Res...</td>\n",
       "    </tr>\n",
       "    <tr>\n",
       "      <th>3463</th>\n",
       "      <td>714.1</td>\n",
       "      <td>LV844</td>\n",
       "      <td>True</td>\n",
       "      <td>0.088236</td>\n",
       "      <td>7.920119e-12</td>\n",
       "      <td>1.584024e-11</td>\n",
       "      <td>GLS Regression Res...</td>\n",
       "    </tr>\n",
       "    <tr>\n",
       "      <th>3092</th>\n",
       "      <td>585.32</td>\n",
       "      <td>LV847</td>\n",
       "      <td>True</td>\n",
       "      <td>0.085519</td>\n",
       "      <td>2.009862e-11</td>\n",
       "      <td>4.019723e-11</td>\n",
       "      <td>GLS Regression Res...</td>\n",
       "    </tr>\n",
       "  </tbody>\n",
       "</table>\n",
       "</div>"
      ],
      "text/plain": [
       "     phenotype     lv  lv_with_pathway      coef        pvalue  \\\n",
       "449      250.1   LV54            False  0.105369  2.184681e-17   \n",
       "3102    585.32   LV45             True  0.101602  4.446426e-16   \n",
       "440      250.1  LV425            False  0.093755  2.053420e-14   \n",
       "2267       443   LV45             True  0.091128  2.727165e-13   \n",
       "404      244.4   LV57             True  0.089947  2.650956e-12   \n",
       "3461     714.1  LV425            False  0.086154  2.812428e-12   \n",
       "376        244   LV57             True  0.089541  2.974966e-12   \n",
       "701      274.1   LV45             True  0.085661  4.893705e-12   \n",
       "3463     714.1  LV844             True  0.088236  7.920119e-12   \n",
       "3092    585.32  LV847             True  0.085519  2.009862e-11   \n",
       "\n",
       "      pvalue_twosided                                            summary  \n",
       "449      4.369361e-17                              GLS Regression Res...  \n",
       "3102     8.892851e-16                              GLS Regression Res...  \n",
       "440      4.106841e-14                              GLS Regression Res...  \n",
       "2267     5.454329e-13                              GLS Regression Res...  \n",
       "404      5.301912e-12                              GLS Regression Res...  \n",
       "3461     5.624855e-12                              GLS Regression Res...  \n",
       "376      5.949932e-12                              GLS Regression Res...  \n",
       "701      9.787409e-12                              GLS Regression Res...  \n",
       "3463     1.584024e-11                              GLS Regression Res...  \n",
       "3092     4.019723e-11                              GLS Regression Res...  "
      ]
     },
     "execution_count": 55,
     "metadata": {},
     "output_type": "execute_result"
    }
   ],
   "source": [
    "results.sort_values(\"pvalue\").head(10)"
   ]
  },
  {
   "cell_type": "markdown",
   "id": "continent-messenger",
   "metadata": {
    "papermill": {
     "duration": 1.190165,
     "end_time": "2021-07-17T12:43:38.398806",
     "exception": false,
     "start_time": "2021-07-17T12:43:37.208641",
     "status": "completed"
    },
    "tags": []
   },
   "source": [
    "## Save"
   ]
  },
  {
   "cell_type": "code",
   "execution_count": 56,
   "id": "indie-relaxation",
   "metadata": {
    "execution": {
     "iopub.execute_input": "2021-07-17T12:43:40.793121Z",
     "iopub.status.busy": "2021-07-17T12:43:40.792738Z",
     "iopub.status.idle": "2021-07-17T12:43:41.858341Z",
     "shell.execute_reply": "2021-07-17T12:43:41.859493Z"
    },
    "papermill": {
     "duration": 2.27261,
     "end_time": "2021-07-17T12:43:41.859894",
     "exception": false,
     "start_time": "2021-07-17T12:43:39.587284",
     "status": "completed"
    },
    "tags": []
   },
   "outputs": [],
   "source": [
    "results.to_pickle(OUTPUT_FILENAME)"
   ]
  },
  {
   "cell_type": "code",
   "execution_count": null,
   "id": "cultural-causing",
   "metadata": {
    "papermill": {
     "duration": 1.276162,
     "end_time": "2021-07-17T12:43:44.321022",
     "exception": false,
     "start_time": "2021-07-17T12:43:43.044860",
     "status": "completed"
    },
    "tags": []
   },
   "outputs": [],
   "source": []
  }
 ],
 "metadata": {
  "jupytext": {
   "cell_metadata_filter": "all,-execution,-papermill,-trusted",
   "formats": "ipynb,py//py:percent"
  },
  "kernelspec": {
   "display_name": "Python 3",
   "language": "python",
   "name": "python3"
  },
  "language_info": {
   "codemirror_mode": {
    "name": "ipython",
    "version": 3
   },
   "file_extension": ".py",
   "mimetype": "text/x-python",
   "name": "python",
   "nbconvert_exporter": "python",
   "pygments_lexer": "ipython3",
   "version": "3.8.8"
  },
  "papermill": {
   "default_parameters": {},
   "duration": 34817.281893,
   "end_time": "2021-07-17T12:43:48.292301",
   "environment_variables": {},
   "exception": null,
   "input_path": "08_gsa_gls/35-gls_on_phenotypes-emerge.ipynb",
   "output_path": "08_gsa_gls/35-gls_on_phenotypes-emerge.run.ipynb",
   "parameters": {},
   "start_time": "2021-07-17T03:03:31.010408",
   "version": "2.2.2"
  }
 },
 "nbformat": 4,
 "nbformat_minor": 5
}
