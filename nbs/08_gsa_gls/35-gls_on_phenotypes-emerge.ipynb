{
 "cells": [
  {
   "cell_type": "markdown",
   "id": "blessed-insertion",
   "metadata": {
    "papermill": {
     "duration": 0.022374,
     "end_time": "2021-03-10T00:10:54.143712",
     "exception": false,
     "start_time": "2021-03-10T00:10:54.121338",
     "status": "completed"
    },
    "tags": []
   },
   "source": [
    "# Description"
   ]
  },
  {
   "cell_type": "markdown",
   "id": "crucial-driving",
   "metadata": {
    "papermill": {
     "duration": 0.022374,
     "end_time": "2021-03-10T00:10:54.143712",
     "exception": false,
     "start_time": "2021-03-10T00:10:54.121338",
     "status": "completed"
    },
    "tags": []
   },
   "source": [
    "This notebook is similar to `30-gls_on_phenotypes...` but for eMERGE S-MultiXcan results instead of PhenomeXcan.\n",
    "\n",
    "Since we don't have partition/clusters of eMERGE results, we selected the same set of LVs from the run on PhenomeXcan (`30-gls_on_phenotypes...`); and regarding traits, we take the top 20 traits from each LVs to create a list of trait/LVs pairs to run GLSPhenoplier on."
   ]
  },
  {
   "cell_type": "markdown",
   "id": "dominant-heating",
   "metadata": {
    "papermill": {
     "duration": 0.025234,
     "end_time": "2021-05-15T23:04:24.199232",
     "exception": false,
     "start_time": "2021-05-15T23:04:24.173998",
     "status": "completed"
    },
    "tags": []
   },
   "source": [
    "# Environment variables"
   ]
  },
  {
   "cell_type": "code",
   "execution_count": 1,
   "id": "exact-huntington",
   "metadata": {
    "execution": {
     "iopub.execute_input": "2021-05-15T23:04:24.247222Z",
     "iopub.status.busy": "2021-05-15T23:04:24.246853Z",
     "iopub.status.idle": "2021-05-15T23:04:24.254469Z",
     "shell.execute_reply": "2021-05-15T23:04:24.254034Z"
    },
    "papermill": {
     "duration": 0.034312,
     "end_time": "2021-05-15T23:04:24.254563",
     "exception": false,
     "start_time": "2021-05-15T23:04:24.220251",
     "status": "completed"
    },
    "tags": []
   },
   "outputs": [],
   "source": [
    "%load_ext autoreload\n",
    "%autoreload 2"
   ]
  },
  {
   "cell_type": "code",
   "execution_count": 2,
   "id": "damaged-founder",
   "metadata": {
    "execution": {
     "iopub.execute_input": "2021-05-15T23:04:24.301494Z",
     "iopub.status.busy": "2021-05-15T23:04:24.301109Z",
     "iopub.status.idle": "2021-05-15T23:04:24.311002Z",
     "shell.execute_reply": "2021-05-15T23:04:24.310628Z"
    },
    "papermill": {
     "duration": 0.034337,
     "end_time": "2021-05-15T23:04:24.311085",
     "exception": false,
     "start_time": "2021-05-15T23:04:24.276748",
     "status": "completed"
    },
    "tags": []
   },
   "outputs": [],
   "source": [
    "import conf"
   ]
  },
  {
   "cell_type": "code",
   "execution_count": 3,
   "id": "blessed-vacation",
   "metadata": {
    "execution": {
     "iopub.execute_input": "2021-05-15T23:04:24.358071Z",
     "iopub.status.busy": "2021-05-15T23:04:24.357715Z",
     "iopub.status.idle": "2021-05-15T23:04:24.367860Z",
     "shell.execute_reply": "2021-05-15T23:04:24.367487Z"
    },
    "papermill": {
     "duration": 0.034025,
     "end_time": "2021-05-15T23:04:24.367945",
     "exception": false,
     "start_time": "2021-05-15T23:04:24.333920",
     "status": "completed"
    },
    "tags": []
   },
   "outputs": [
    {
     "data": {
      "text/plain": [
       "3"
      ]
     },
     "metadata": {},
     "output_type": "display_data"
    }
   ],
   "source": [
    "N_JOBS = conf.GENERAL[\"N_JOBS\"]\n",
    "display(N_JOBS)"
   ]
  },
  {
   "cell_type": "code",
   "execution_count": 4,
   "id": "equal-visiting",
   "metadata": {
    "execution": {
     "iopub.execute_input": "2021-05-15T23:04:24.417140Z",
     "iopub.status.busy": "2021-05-15T23:04:24.416766Z",
     "iopub.status.idle": "2021-05-15T23:04:24.423711Z",
     "shell.execute_reply": "2021-05-15T23:04:24.423346Z"
    },
    "papermill": {
     "duration": 0.03305,
     "end_time": "2021-05-15T23:04:24.423794",
     "exception": false,
     "start_time": "2021-05-15T23:04:24.390744",
     "status": "completed"
    },
    "tags": []
   },
   "outputs": [
    {
     "name": "stdout",
     "output_type": "stream",
     "text": [
      "env: MKL_NUM_THREADS=3\n",
      "env: OPEN_BLAS_NUM_THREADS=3\n",
      "env: NUMEXPR_NUM_THREADS=3\n",
      "env: OMP_NUM_THREADS=3\n"
     ]
    }
   ],
   "source": [
    "%env MKL_NUM_THREADS=$N_JOBS\n",
    "%env OPEN_BLAS_NUM_THREADS=$N_JOBS\n",
    "%env NUMEXPR_NUM_THREADS=$N_JOBS\n",
    "%env OMP_NUM_THREADS=$N_JOBS"
   ]
  },
  {
   "cell_type": "markdown",
   "id": "enabling-symbol",
   "metadata": {
    "papermill": {
     "duration": 0.022253,
     "end_time": "2021-05-15T23:04:24.469380",
     "exception": false,
     "start_time": "2021-05-15T23:04:24.447127",
     "status": "completed"
    },
    "tags": []
   },
   "source": [
    "# Modules"
   ]
  },
  {
   "cell_type": "code",
   "execution_count": 5,
   "id": "amateur-conservation",
   "metadata": {
    "execution": {
     "iopub.execute_input": "2021-05-15T23:04:24.516034Z",
     "iopub.status.busy": "2021-05-15T23:04:24.515679Z",
     "iopub.status.idle": "2021-05-15T23:04:25.267937Z",
     "shell.execute_reply": "2021-05-15T23:04:25.267518Z"
    },
    "papermill": {
     "duration": 0.776587,
     "end_time": "2021-05-15T23:04:25.268030",
     "exception": false,
     "start_time": "2021-05-15T23:04:24.491443",
     "status": "completed"
    },
    "tags": []
   },
   "outputs": [],
   "source": [
    "from pathlib import Path\n",
    "\n",
    "import statsmodels.api as sm\n",
    "import numpy as np\n",
    "import pandas as pd\n",
    "from sklearn.preprocessing import scale\n",
    "from tqdm import tqdm\n",
    "\n",
    "from gls import GLSPhenoplier"
   ]
  },
  {
   "cell_type": "markdown",
   "id": "lesbian-wallpaper",
   "metadata": {
    "papermill": {
     "duration": 0.022294,
     "end_time": "2021-05-15T23:04:25.315204",
     "exception": false,
     "start_time": "2021-05-15T23:04:25.292910",
     "status": "completed"
    },
    "tags": []
   },
   "source": [
    "# Settings"
   ]
  },
  {
   "cell_type": "code",
   "execution_count": null,
   "id": "educational-natural",
   "metadata": {},
   "outputs": [],
   "source": [
    "N_TOP_TRAITS_FROM_LV = 20"
   ]
  },
  {
   "cell_type": "code",
   "execution_count": 6,
   "id": "mechanical-workstation",
   "metadata": {
    "execution": {
     "iopub.execute_input": "2021-05-15T23:04:25.362021Z",
     "iopub.status.busy": "2021-05-15T23:04:25.361657Z",
     "iopub.status.idle": "2021-05-15T23:04:25.372633Z",
     "shell.execute_reply": "2021-05-15T23:04:25.372938Z"
    },
    "papermill": {
     "duration": 0.035803,
     "end_time": "2021-05-15T23:04:25.373042",
     "exception": false,
     "start_time": "2021-05-15T23:04:25.337239",
     "status": "completed"
    },
    "tags": []
   },
   "outputs": [
    {
     "data": {
      "text/plain": [
       "PosixPath('/home/miltondp/projects/labs/greenelab/phenoplier/base/results/gls')"
      ]
     },
     "metadata": {},
     "output_type": "display_data"
    }
   ],
   "source": [
    "OUTPUT_DIR = conf.RESULTS[\"GLS\"]\n",
    "display(OUTPUT_DIR)\n",
    "\n",
    "OUTPUT_DIR.mkdir(exist_ok=True, parents=True)"
   ]
  },
  {
   "cell_type": "markdown",
   "id": "renewable-durham",
   "metadata": {
    "papermill": {
     "duration": 0.023104,
     "end_time": "2021-05-15T23:04:25.419356",
     "exception": false,
     "start_time": "2021-05-15T23:04:25.396252",
     "status": "completed"
    },
    "tags": []
   },
   "source": [
    "# Load data"
   ]
  },
  {
   "cell_type": "markdown",
   "id": "broke-analysis",
   "metadata": {
    "papermill": {
     "duration": 0.0224,
     "end_time": "2021-05-15T23:04:25.464376",
     "exception": false,
     "start_time": "2021-05-15T23:04:25.441976",
     "status": "completed"
    },
    "tags": []
   },
   "source": [
    "## eMERGE traits info"
   ]
  },
  {
   "cell_type": "code",
   "execution_count": 7,
   "id": "reliable-worthy",
   "metadata": {
    "execution": {
     "iopub.execute_input": "2021-05-15T23:04:25.512334Z",
     "iopub.status.busy": "2021-05-15T23:04:25.511976Z",
     "iopub.status.idle": "2021-05-15T23:04:25.523594Z",
     "shell.execute_reply": "2021-05-15T23:04:25.523226Z"
    },
    "papermill": {
     "duration": 0.03666,
     "end_time": "2021-05-15T23:04:25.523677",
     "exception": false,
     "start_time": "2021-05-15T23:04:25.487017",
     "status": "completed"
    },
    "tags": []
   },
   "outputs": [
    {
     "data": {
      "text/plain": [
       "PosixPath('/home/miltondp/projects/labs/greenelab/phenoplier/base/data/emerge/eMERGE_III_PMBB_GSA_v2_2020_phecode_AFR_EUR_cc50_counts_w_dictionary.txt')"
      ]
     },
     "metadata": {},
     "output_type": "display_data"
    }
   ],
   "source": [
    "# FIXME: in the future, there will be a specific entry in config for the eMERGE directory that should be replaced here\n",
    "input_filepath = Path(\n",
    "    conf.DATA_DIR,\n",
    "    \"emerge\",\n",
    "    \"eMERGE_III_PMBB_GSA_v2_2020_phecode_AFR_EUR_cc50_counts_w_dictionary.txt\",\n",
    ").resolve()\n",
    "display(input_filepath)"
   ]
  },
  {
   "cell_type": "code",
   "execution_count": 8,
   "id": "strong-aviation",
   "metadata": {
    "execution": {
     "iopub.execute_input": "2021-05-15T23:04:25.573153Z",
     "iopub.status.busy": "2021-05-15T23:04:25.572775Z",
     "iopub.status.idle": "2021-05-15T23:04:25.584967Z",
     "shell.execute_reply": "2021-05-15T23:04:25.584652Z"
    },
    "papermill": {
     "duration": 0.037592,
     "end_time": "2021-05-15T23:04:25.585054",
     "exception": false,
     "start_time": "2021-05-15T23:04:25.547462",
     "status": "completed"
    },
    "tags": []
   },
   "outputs": [],
   "source": [
    "emerge_traits_df = pd.read_csv(\n",
    "    input_filepath,\n",
    "    sep=\"\\t\",\n",
    "    dtype={\"phecode\": str},\n",
    "    usecols=[\"phecode\", \"phenotype\", \"category\"],\n",
    ")"
   ]
  },
  {
   "cell_type": "code",
   "execution_count": 9,
   "id": "liquid-continuity",
   "metadata": {
    "execution": {
     "iopub.execute_input": "2021-05-15T23:04:25.633696Z",
     "iopub.status.busy": "2021-05-15T23:04:25.633335Z",
     "iopub.status.idle": "2021-05-15T23:04:25.644305Z",
     "shell.execute_reply": "2021-05-15T23:04:25.643934Z"
    },
    "papermill": {
     "duration": 0.036179,
     "end_time": "2021-05-15T23:04:25.644390",
     "exception": false,
     "start_time": "2021-05-15T23:04:25.608211",
     "status": "completed"
    },
    "tags": []
   },
   "outputs": [],
   "source": [
    "emerge_traits_df = emerge_traits_df.rename(\n",
    "    columns={\n",
    "        \"phenotype\": \"phecode_phenotype\",\n",
    "        \"category\": \"phecode_category\",\n",
    "    }\n",
    ")"
   ]
  },
  {
   "cell_type": "code",
   "execution_count": 10,
   "id": "imposed-alliance",
   "metadata": {
    "execution": {
     "iopub.execute_input": "2021-05-15T23:04:25.693053Z",
     "iopub.status.busy": "2021-05-15T23:04:25.692661Z",
     "iopub.status.idle": "2021-05-15T23:04:25.703711Z",
     "shell.execute_reply": "2021-05-15T23:04:25.703349Z"
    },
    "papermill": {
     "duration": 0.036038,
     "end_time": "2021-05-15T23:04:25.703795",
     "exception": false,
     "start_time": "2021-05-15T23:04:25.667757",
     "status": "completed"
    },
    "tags": []
   },
   "outputs": [
    {
     "data": {
      "text/plain": [
       "(309, 3)"
      ]
     },
     "execution_count": 10,
     "metadata": {},
     "output_type": "execute_result"
    }
   ],
   "source": [
    "emerge_traits_df.shape"
   ]
  },
  {
   "cell_type": "code",
   "execution_count": 11,
   "id": "rising-daughter",
   "metadata": {
    "execution": {
     "iopub.execute_input": "2021-05-15T23:04:25.759642Z",
     "iopub.status.busy": "2021-05-15T23:04:25.759277Z",
     "iopub.status.idle": "2021-05-15T23:04:25.774341Z",
     "shell.execute_reply": "2021-05-15T23:04:25.774630Z"
    },
    "papermill": {
     "duration": 0.043493,
     "end_time": "2021-05-15T23:04:25.774738",
     "exception": false,
     "start_time": "2021-05-15T23:04:25.731245",
     "status": "completed"
    },
    "tags": []
   },
   "outputs": [
    {
     "data": {
      "text/html": [
       "<div>\n",
       "<style scoped>\n",
       "    .dataframe tbody tr th:only-of-type {\n",
       "        vertical-align: middle;\n",
       "    }\n",
       "\n",
       "    .dataframe tbody tr th {\n",
       "        vertical-align: top;\n",
       "    }\n",
       "\n",
       "    .dataframe thead th {\n",
       "        text-align: right;\n",
       "    }\n",
       "</style>\n",
       "<table border=\"1\" class=\"dataframe\">\n",
       "  <thead>\n",
       "    <tr style=\"text-align: right;\">\n",
       "      <th></th>\n",
       "      <th>phecode</th>\n",
       "      <th>phecode_phenotype</th>\n",
       "      <th>phecode_category</th>\n",
       "    </tr>\n",
       "  </thead>\n",
       "  <tbody>\n",
       "    <tr>\n",
       "      <th>0</th>\n",
       "      <td>008</td>\n",
       "      <td>Intestinal infection</td>\n",
       "      <td>infectious diseases</td>\n",
       "    </tr>\n",
       "    <tr>\n",
       "      <th>1</th>\n",
       "      <td>008.5</td>\n",
       "      <td>Bacterial enteritis</td>\n",
       "      <td>infectious diseases</td>\n",
       "    </tr>\n",
       "    <tr>\n",
       "      <th>2</th>\n",
       "      <td>008.52</td>\n",
       "      <td>Intestinal infection due to C. difficile</td>\n",
       "      <td>infectious diseases</td>\n",
       "    </tr>\n",
       "    <tr>\n",
       "      <th>3</th>\n",
       "      <td>038</td>\n",
       "      <td>Septicemia</td>\n",
       "      <td>infectious diseases</td>\n",
       "    </tr>\n",
       "    <tr>\n",
       "      <th>4</th>\n",
       "      <td>038.3</td>\n",
       "      <td>Bacteremia</td>\n",
       "      <td>infectious diseases</td>\n",
       "    </tr>\n",
       "  </tbody>\n",
       "</table>\n",
       "</div>"
      ],
      "text/plain": [
       "  phecode                         phecode_phenotype     phecode_category\n",
       "0     008                      Intestinal infection  infectious diseases\n",
       "1   008.5                       Bacterial enteritis  infectious diseases\n",
       "2  008.52  Intestinal infection due to C. difficile  infectious diseases\n",
       "3     038                                Septicemia  infectious diseases\n",
       "4   038.3                                Bacteremia  infectious diseases"
      ]
     },
     "execution_count": 11,
     "metadata": {},
     "output_type": "execute_result"
    }
   ],
   "source": [
    "emerge_traits_df.head()"
   ]
  },
  {
   "cell_type": "markdown",
   "id": "mineral-geology",
   "metadata": {
    "papermill": {
     "duration": 0.023397,
     "end_time": "2021-05-15T23:04:25.822778",
     "exception": false,
     "start_time": "2021-05-15T23:04:25.799381",
     "status": "completed"
    },
    "tags": []
   },
   "source": [
    "## eMERGE to PhenomeXcan maps"
   ]
  },
  {
   "cell_type": "code",
   "execution_count": 12,
   "id": "lasting-buddy",
   "metadata": {
    "execution": {
     "iopub.execute_input": "2021-05-15T23:04:25.871889Z",
     "iopub.status.busy": "2021-05-15T23:04:25.871534Z",
     "iopub.status.idle": "2021-05-15T23:04:25.882928Z",
     "shell.execute_reply": "2021-05-15T23:04:25.882592Z"
    },
    "papermill": {
     "duration": 0.036907,
     "end_time": "2021-05-15T23:04:25.883010",
     "exception": false,
     "start_time": "2021-05-15T23:04:25.846103",
     "status": "completed"
    },
    "tags": []
   },
   "outputs": [
    {
     "data": {
      "text/plain": [
       "PosixPath('/home/miltondp/projects/labs/greenelab/phenoplier/base/data/emerge/phecodes_phenomexcan_maps.tsv')"
      ]
     },
     "metadata": {},
     "output_type": "display_data"
    }
   ],
   "source": [
    "# FIXME: in the future, there will be a specific entry in config for the eMERGE directory that should be replaced here\n",
    "emerge_phenomexcan_maps_filepath = Path(\n",
    "    conf.DATA_DIR,\n",
    "    \"emerge\",\n",
    "    \"phecodes_phenomexcan_maps.tsv\",\n",
    ").resolve()\n",
    "display(emerge_phenomexcan_maps_filepath)"
   ]
  },
  {
   "cell_type": "code",
   "execution_count": 13,
   "id": "existing-rolling",
   "metadata": {
    "execution": {
     "iopub.execute_input": "2021-05-15T23:04:25.934449Z",
     "iopub.status.busy": "2021-05-15T23:04:25.934092Z",
     "iopub.status.idle": "2021-05-15T23:04:25.946933Z",
     "shell.execute_reply": "2021-05-15T23:04:25.946551Z"
    },
    "papermill": {
     "duration": 0.039501,
     "end_time": "2021-05-15T23:04:25.947020",
     "exception": false,
     "start_time": "2021-05-15T23:04:25.907519",
     "status": "completed"
    },
    "tags": []
   },
   "outputs": [],
   "source": [
    "emerge_phenomexcan_maps = pd.read_csv(\n",
    "    emerge_phenomexcan_maps_filepath, sep=\"\\t\", dtype={\"phecode\": str}\n",
    ")"
   ]
  },
  {
   "cell_type": "code",
   "execution_count": 14,
   "id": "tutorial-devon",
   "metadata": {
    "execution": {
     "iopub.execute_input": "2021-05-15T23:04:25.998589Z",
     "iopub.status.busy": "2021-05-15T23:04:25.998231Z",
     "iopub.status.idle": "2021-05-15T23:04:26.012521Z",
     "shell.execute_reply": "2021-05-15T23:04:26.012173Z"
    },
    "papermill": {
     "duration": 0.040659,
     "end_time": "2021-05-15T23:04:26.012607",
     "exception": false,
     "start_time": "2021-05-15T23:04:25.971948",
     "status": "completed"
    },
    "tags": []
   },
   "outputs": [],
   "source": [
    "emerge_phenomexcan_maps = emerge_phenomexcan_maps.dropna(\n",
    "    subset=[\"phecode\", \"phenomexcan\"], how=\"any\"\n",
    ")"
   ]
  },
  {
   "cell_type": "code",
   "execution_count": 15,
   "id": "revolutionary-soviet",
   "metadata": {
    "execution": {
     "iopub.execute_input": "2021-05-15T23:04:26.065306Z",
     "iopub.status.busy": "2021-05-15T23:04:26.064941Z",
     "iopub.status.idle": "2021-05-15T23:04:26.076328Z",
     "shell.execute_reply": "2021-05-15T23:04:26.075946Z"
    },
    "papermill": {
     "duration": 0.038569,
     "end_time": "2021-05-15T23:04:26.076416",
     "exception": false,
     "start_time": "2021-05-15T23:04:26.037847",
     "status": "completed"
    },
    "tags": []
   },
   "outputs": [
    {
     "data": {
      "text/plain": [
       "(381, 6)"
      ]
     },
     "execution_count": 15,
     "metadata": {},
     "output_type": "execute_result"
    }
   ],
   "source": [
    "emerge_phenomexcan_maps.shape"
   ]
  },
  {
   "cell_type": "code",
   "execution_count": 16,
   "id": "cubic-layer",
   "metadata": {
    "execution": {
     "iopub.execute_input": "2021-05-15T23:04:26.127667Z",
     "iopub.status.busy": "2021-05-15T23:04:26.127314Z",
     "iopub.status.idle": "2021-05-15T23:04:26.143101Z",
     "shell.execute_reply": "2021-05-15T23:04:26.142742Z"
    },
    "papermill": {
     "duration": 0.042002,
     "end_time": "2021-05-15T23:04:26.143183",
     "exception": false,
     "start_time": "2021-05-15T23:04:26.101181",
     "status": "completed"
    },
    "tags": []
   },
   "outputs": [
    {
     "data": {
      "text/html": [
       "<div>\n",
       "<style scoped>\n",
       "    .dataframe tbody tr th:only-of-type {\n",
       "        vertical-align: middle;\n",
       "    }\n",
       "\n",
       "    .dataframe tbody tr th {\n",
       "        vertical-align: top;\n",
       "    }\n",
       "\n",
       "    .dataframe thead th {\n",
       "        text-align: right;\n",
       "    }\n",
       "</style>\n",
       "<table border=\"1\" class=\"dataframe\">\n",
       "  <thead>\n",
       "    <tr style=\"text-align: right;\">\n",
       "      <th></th>\n",
       "      <th>phecode</th>\n",
       "      <th>phecode_phenotype</th>\n",
       "      <th>phecode_category</th>\n",
       "      <th>icd10</th>\n",
       "      <th>efo</th>\n",
       "      <th>phenomexcan</th>\n",
       "    </tr>\n",
       "  </thead>\n",
       "  <tbody>\n",
       "    <tr>\n",
       "      <th>0</th>\n",
       "      <td>008</td>\n",
       "      <td>Intestinal infection</td>\n",
       "      <td>infectious diseases</td>\n",
       "      <td>A09</td>\n",
       "      <td>gastroenteritis AND gastroenteritis</td>\n",
       "      <td>A09-Diagnoses_main_ICD10_A09_Diarrhoea_and_gas...</td>\n",
       "    </tr>\n",
       "    <tr>\n",
       "      <th>5</th>\n",
       "      <td>008.5</td>\n",
       "      <td>Bacterial enteritis</td>\n",
       "      <td>infectious diseases</td>\n",
       "      <td>A04</td>\n",
       "      <td>intestinal disease AND bacterial disease</td>\n",
       "      <td>A04-Diagnoses_main_ICD10_A04_Other_bacterial_i...</td>\n",
       "    </tr>\n",
       "    <tr>\n",
       "      <th>6</th>\n",
       "      <td>038</td>\n",
       "      <td>Septicemia</td>\n",
       "      <td>infectious diseases</td>\n",
       "      <td>A41</td>\n",
       "      <td>sepsis</td>\n",
       "      <td>20002_1657-Noncancer_illness_code_selfreported...</td>\n",
       "    </tr>\n",
       "    <tr>\n",
       "      <th>7</th>\n",
       "      <td>038</td>\n",
       "      <td>Septicemia</td>\n",
       "      <td>infectious diseases</td>\n",
       "      <td>A41</td>\n",
       "      <td>sepsis</td>\n",
       "      <td>A41-Diagnoses_main_ICD10_A41_Other_septicaemia</td>\n",
       "    </tr>\n",
       "    <tr>\n",
       "      <th>10</th>\n",
       "      <td>053</td>\n",
       "      <td>Herpes zoster</td>\n",
       "      <td>infectious diseases</td>\n",
       "      <td>B02</td>\n",
       "      <td>herpes zoster</td>\n",
       "      <td>B02-Diagnoses_main_ICD10_B02_Zoster_herpes_zoster</td>\n",
       "    </tr>\n",
       "  </tbody>\n",
       "</table>\n",
       "</div>"
      ],
      "text/plain": [
       "   phecode     phecode_phenotype     phecode_category icd10  \\\n",
       "0      008  Intestinal infection  infectious diseases   A09   \n",
       "5    008.5   Bacterial enteritis  infectious diseases   A04   \n",
       "6      038            Septicemia  infectious diseases   A41   \n",
       "7      038            Septicemia  infectious diseases   A41   \n",
       "10     053         Herpes zoster  infectious diseases   B02   \n",
       "\n",
       "                                         efo  \\\n",
       "0        gastroenteritis AND gastroenteritis   \n",
       "5   intestinal disease AND bacterial disease   \n",
       "6                                     sepsis   \n",
       "7                                     sepsis   \n",
       "10                             herpes zoster   \n",
       "\n",
       "                                          phenomexcan  \n",
       "0   A09-Diagnoses_main_ICD10_A09_Diarrhoea_and_gas...  \n",
       "5   A04-Diagnoses_main_ICD10_A04_Other_bacterial_i...  \n",
       "6   20002_1657-Noncancer_illness_code_selfreported...  \n",
       "7      A41-Diagnoses_main_ICD10_A41_Other_septicaemia  \n",
       "10  B02-Diagnoses_main_ICD10_B02_Zoster_herpes_zoster  "
      ]
     },
     "execution_count": 16,
     "metadata": {},
     "output_type": "execute_result"
    }
   ],
   "source": [
    "emerge_phenomexcan_maps.head()"
   ]
  },
  {
   "cell_type": "markdown",
   "id": "legitimate-writing",
   "metadata": {
    "papermill": {
     "duration": 0.024408,
     "end_time": "2021-05-15T23:04:26.192974",
     "exception": false,
     "start_time": "2021-05-15T23:04:26.168566",
     "status": "completed"
    },
    "tags": []
   },
   "source": [
    "## eMERGE (S-MultiXcan) projection"
   ]
  },
  {
   "cell_type": "code",
   "execution_count": 17,
   "id": "banned-restaurant",
   "metadata": {
    "execution": {
     "iopub.execute_input": "2021-05-15T23:04:26.244551Z",
     "iopub.status.busy": "2021-05-15T23:04:26.244188Z",
     "iopub.status.idle": "2021-05-15T23:04:26.256159Z",
     "shell.execute_reply": "2021-05-15T23:04:26.255790Z"
    },
    "papermill": {
     "duration": 0.0389,
     "end_time": "2021-05-15T23:04:26.256240",
     "exception": false,
     "start_time": "2021-05-15T23:04:26.217340",
     "status": "completed"
    },
    "tags": []
   },
   "outputs": [
    {
     "data": {
      "text/plain": [
       "PosixPath('/home/miltondp/projects/labs/greenelab/phenoplier/base/results/projections/projection-emerge-smultixcan-mashr-zscores.pkl')"
      ]
     },
     "metadata": {},
     "output_type": "display_data"
    }
   ],
   "source": [
    "input_filepath = Path(\n",
    "    conf.RESULTS[\"PROJECTIONS_DIR\"],\n",
    "    \"projection-emerge-smultixcan-mashr-zscores.pkl\",\n",
    ").resolve()\n",
    "display(input_filepath)"
   ]
  },
  {
   "cell_type": "code",
   "execution_count": 18,
   "id": "german-merchant",
   "metadata": {
    "execution": {
     "iopub.execute_input": "2021-05-15T23:04:26.308103Z",
     "iopub.status.busy": "2021-05-15T23:04:26.307752Z",
     "iopub.status.idle": "2021-05-15T23:04:26.320315Z",
     "shell.execute_reply": "2021-05-15T23:04:26.319990Z"
    },
    "papermill": {
     "duration": 0.039278,
     "end_time": "2021-05-15T23:04:26.320403",
     "exception": false,
     "start_time": "2021-05-15T23:04:26.281125",
     "status": "completed"
    },
    "tags": []
   },
   "outputs": [],
   "source": [
    "emerge_projection = pd.read_pickle(input_filepath)"
   ]
  },
  {
   "cell_type": "code",
   "execution_count": 19,
   "id": "complicated-geography",
   "metadata": {
    "execution": {
     "iopub.execute_input": "2021-05-15T23:04:26.373180Z",
     "iopub.status.busy": "2021-05-15T23:04:26.372804Z",
     "iopub.status.idle": "2021-05-15T23:04:26.384419Z",
     "shell.execute_reply": "2021-05-15T23:04:26.384052Z"
    },
    "papermill": {
     "duration": 0.038797,
     "end_time": "2021-05-15T23:04:26.384503",
     "exception": false,
     "start_time": "2021-05-15T23:04:26.345706",
     "status": "completed"
    },
    "tags": []
   },
   "outputs": [
    {
     "data": {
      "text/plain": [
       "(987, 309)"
      ]
     },
     "execution_count": 19,
     "metadata": {},
     "output_type": "execute_result"
    }
   ],
   "source": [
    "emerge_projection.shape"
   ]
  },
  {
   "cell_type": "code",
   "execution_count": 20,
   "id": "noticed-exhibition",
   "metadata": {
    "execution": {
     "iopub.execute_input": "2021-05-15T23:04:26.438377Z",
     "iopub.status.busy": "2021-05-15T23:04:26.438018Z",
     "iopub.status.idle": "2021-05-15T23:04:26.460878Z",
     "shell.execute_reply": "2021-05-15T23:04:26.460478Z"
    },
    "papermill": {
     "duration": 0.05099,
     "end_time": "2021-05-15T23:04:26.460962",
     "exception": false,
     "start_time": "2021-05-15T23:04:26.409972",
     "status": "completed"
    },
    "tags": []
   },
   "outputs": [
    {
     "data": {
      "text/html": [
       "<div>\n",
       "<style scoped>\n",
       "    .dataframe tbody tr th:only-of-type {\n",
       "        vertical-align: middle;\n",
       "    }\n",
       "\n",
       "    .dataframe tbody tr th {\n",
       "        vertical-align: top;\n",
       "    }\n",
       "\n",
       "    .dataframe thead th {\n",
       "        text-align: right;\n",
       "    }\n",
       "</style>\n",
       "<table border=\"1\" class=\"dataframe\">\n",
       "  <thead>\n",
       "    <tr style=\"text-align: right;\">\n",
       "      <th></th>\n",
       "      <th>292.3</th>\n",
       "      <th>079</th>\n",
       "      <th>741</th>\n",
       "      <th>418.1</th>\n",
       "      <th>280</th>\n",
       "      <th>747</th>\n",
       "      <th>591</th>\n",
       "      <th>426.21</th>\n",
       "      <th>244</th>\n",
       "      <th>070.3</th>\n",
       "      <th>...</th>\n",
       "      <th>427</th>\n",
       "      <th>585.4</th>\n",
       "      <th>345</th>\n",
       "      <th>366.2</th>\n",
       "      <th>420.2</th>\n",
       "      <th>195</th>\n",
       "      <th>250.2</th>\n",
       "      <th>250.1</th>\n",
       "      <th>371</th>\n",
       "      <th>562</th>\n",
       "    </tr>\n",
       "  </thead>\n",
       "  <tbody>\n",
       "    <tr>\n",
       "      <th>LV1</th>\n",
       "      <td>0.055748</td>\n",
       "      <td>-0.019274</td>\n",
       "      <td>0.024491</td>\n",
       "      <td>0.012926</td>\n",
       "      <td>-0.026501</td>\n",
       "      <td>-0.043919</td>\n",
       "      <td>0.025264</td>\n",
       "      <td>-0.053251</td>\n",
       "      <td>0.043269</td>\n",
       "      <td>0.002465</td>\n",
       "      <td>...</td>\n",
       "      <td>-0.031739</td>\n",
       "      <td>0.014192</td>\n",
       "      <td>0.008710</td>\n",
       "      <td>-0.024261</td>\n",
       "      <td>-0.004780</td>\n",
       "      <td>0.057256</td>\n",
       "      <td>0.059702</td>\n",
       "      <td>0.036648</td>\n",
       "      <td>-0.022040</td>\n",
       "      <td>0.034427</td>\n",
       "    </tr>\n",
       "    <tr>\n",
       "      <th>LV2</th>\n",
       "      <td>-0.045630</td>\n",
       "      <td>-0.008570</td>\n",
       "      <td>0.040969</td>\n",
       "      <td>-0.016198</td>\n",
       "      <td>-0.032321</td>\n",
       "      <td>-0.017629</td>\n",
       "      <td>0.009238</td>\n",
       "      <td>-0.011634</td>\n",
       "      <td>-0.005854</td>\n",
       "      <td>0.033497</td>\n",
       "      <td>...</td>\n",
       "      <td>0.019678</td>\n",
       "      <td>0.040569</td>\n",
       "      <td>-0.009344</td>\n",
       "      <td>-0.012921</td>\n",
       "      <td>-0.055292</td>\n",
       "      <td>0.003193</td>\n",
       "      <td>0.013844</td>\n",
       "      <td>0.008327</td>\n",
       "      <td>0.004302</td>\n",
       "      <td>0.035154</td>\n",
       "    </tr>\n",
       "    <tr>\n",
       "      <th>LV3</th>\n",
       "      <td>0.025341</td>\n",
       "      <td>-0.059962</td>\n",
       "      <td>-0.027354</td>\n",
       "      <td>-0.033864</td>\n",
       "      <td>0.009571</td>\n",
       "      <td>0.023318</td>\n",
       "      <td>-0.003872</td>\n",
       "      <td>0.001095</td>\n",
       "      <td>0.028179</td>\n",
       "      <td>0.003639</td>\n",
       "      <td>...</td>\n",
       "      <td>0.041022</td>\n",
       "      <td>-0.036422</td>\n",
       "      <td>0.006088</td>\n",
       "      <td>-0.041302</td>\n",
       "      <td>0.017492</td>\n",
       "      <td>-0.039591</td>\n",
       "      <td>-0.000801</td>\n",
       "      <td>0.009127</td>\n",
       "      <td>0.045741</td>\n",
       "      <td>0.004434</td>\n",
       "    </tr>\n",
       "    <tr>\n",
       "      <th>LV4</th>\n",
       "      <td>-0.039736</td>\n",
       "      <td>0.013238</td>\n",
       "      <td>-0.002819</td>\n",
       "      <td>0.029253</td>\n",
       "      <td>-0.029388</td>\n",
       "      <td>-0.003176</td>\n",
       "      <td>0.037212</td>\n",
       "      <td>-0.022370</td>\n",
       "      <td>0.003168</td>\n",
       "      <td>0.039998</td>\n",
       "      <td>...</td>\n",
       "      <td>-0.029197</td>\n",
       "      <td>0.078351</td>\n",
       "      <td>0.044476</td>\n",
       "      <td>-0.027300</td>\n",
       "      <td>0.005332</td>\n",
       "      <td>0.028581</td>\n",
       "      <td>0.004288</td>\n",
       "      <td>0.015797</td>\n",
       "      <td>-0.074106</td>\n",
       "      <td>-0.020936</td>\n",
       "    </tr>\n",
       "    <tr>\n",
       "      <th>LV5</th>\n",
       "      <td>-0.012250</td>\n",
       "      <td>-0.002846</td>\n",
       "      <td>-0.025161</td>\n",
       "      <td>0.013880</td>\n",
       "      <td>0.009457</td>\n",
       "      <td>0.024885</td>\n",
       "      <td>0.001274</td>\n",
       "      <td>0.064774</td>\n",
       "      <td>0.039294</td>\n",
       "      <td>-0.000256</td>\n",
       "      <td>...</td>\n",
       "      <td>0.032792</td>\n",
       "      <td>-0.035128</td>\n",
       "      <td>-0.011787</td>\n",
       "      <td>-0.006511</td>\n",
       "      <td>-0.035433</td>\n",
       "      <td>-0.008735</td>\n",
       "      <td>-0.011139</td>\n",
       "      <td>-0.036651</td>\n",
       "      <td>0.003044</td>\n",
       "      <td>0.006505</td>\n",
       "    </tr>\n",
       "  </tbody>\n",
       "</table>\n",
       "<p>5 rows × 309 columns</p>\n",
       "</div>"
      ],
      "text/plain": [
       "        292.3       079       741     418.1       280       747       591  \\\n",
       "LV1  0.055748 -0.019274  0.024491  0.012926 -0.026501 -0.043919  0.025264   \n",
       "LV2 -0.045630 -0.008570  0.040969 -0.016198 -0.032321 -0.017629  0.009238   \n",
       "LV3  0.025341 -0.059962 -0.027354 -0.033864  0.009571  0.023318 -0.003872   \n",
       "LV4 -0.039736  0.013238 -0.002819  0.029253 -0.029388 -0.003176  0.037212   \n",
       "LV5 -0.012250 -0.002846 -0.025161  0.013880  0.009457  0.024885  0.001274   \n",
       "\n",
       "       426.21       244     070.3  ...       427     585.4       345  \\\n",
       "LV1 -0.053251  0.043269  0.002465  ... -0.031739  0.014192  0.008710   \n",
       "LV2 -0.011634 -0.005854  0.033497  ...  0.019678  0.040569 -0.009344   \n",
       "LV3  0.001095  0.028179  0.003639  ...  0.041022 -0.036422  0.006088   \n",
       "LV4 -0.022370  0.003168  0.039998  ... -0.029197  0.078351  0.044476   \n",
       "LV5  0.064774  0.039294 -0.000256  ...  0.032792 -0.035128 -0.011787   \n",
       "\n",
       "        366.2     420.2       195     250.2     250.1       371       562  \n",
       "LV1 -0.024261 -0.004780  0.057256  0.059702  0.036648 -0.022040  0.034427  \n",
       "LV2 -0.012921 -0.055292  0.003193  0.013844  0.008327  0.004302  0.035154  \n",
       "LV3 -0.041302  0.017492 -0.039591 -0.000801  0.009127  0.045741  0.004434  \n",
       "LV4 -0.027300  0.005332  0.028581  0.004288  0.015797 -0.074106 -0.020936  \n",
       "LV5 -0.006511 -0.035433 -0.008735 -0.011139 -0.036651  0.003044  0.006505  \n",
       "\n",
       "[5 rows x 309 columns]"
      ]
     },
     "execution_count": 20,
     "metadata": {},
     "output_type": "execute_result"
    }
   ],
   "source": [
    "emerge_projection.head()"
   ]
  },
  {
   "cell_type": "markdown",
   "id": "premium-underwear",
   "metadata": {
    "papermill": {
     "duration": 0.024874,
     "end_time": "2021-05-15T23:04:26.511645",
     "exception": false,
     "start_time": "2021-05-15T23:04:26.486771",
     "status": "completed"
    },
    "tags": []
   },
   "source": [
    "## eMERGE (S-MultiXcan)"
   ]
  },
  {
   "cell_type": "code",
   "execution_count": 21,
   "id": "wanted-station",
   "metadata": {
    "execution": {
     "iopub.execute_input": "2021-05-15T23:04:26.565459Z",
     "iopub.status.busy": "2021-05-15T23:04:26.565099Z",
     "iopub.status.idle": "2021-05-15T23:04:26.576666Z",
     "shell.execute_reply": "2021-05-15T23:04:26.576309Z"
    },
    "papermill": {
     "duration": 0.039259,
     "end_time": "2021-05-15T23:04:26.576798",
     "exception": false,
     "start_time": "2021-05-15T23:04:26.537539",
     "status": "completed"
    },
    "tags": []
   },
   "outputs": [
    {
     "data": {
      "text/plain": [
       "PosixPath('/home/miltondp/projects/labs/greenelab/phenoplier/base/data/emerge/gene_assoc/emerge-smultixcan-mashr-zscores.pkl')"
      ]
     },
     "metadata": {},
     "output_type": "display_data"
    }
   ],
   "source": [
    "# FIXME: in the future, there will be a specific entry in config for the eMERGE directory that should be replaced here\n",
    "emerge_smultixcan_zscores_filepath = Path(\n",
    "    conf.DATA_DIR,\n",
    "    \"emerge\",\n",
    "    \"gene_assoc\",\n",
    "    \"emerge-smultixcan-mashr-zscores.pkl\",\n",
    ").resolve()\n",
    "\n",
    "display(emerge_smultixcan_zscores_filepath)"
   ]
  },
  {
   "cell_type": "code",
   "execution_count": 22,
   "id": "neither-thousand",
   "metadata": {
    "execution": {
     "iopub.execute_input": "2021-05-15T23:04:26.631010Z",
     "iopub.status.busy": "2021-05-15T23:04:26.630646Z",
     "iopub.status.idle": "2021-05-15T23:04:26.665977Z",
     "shell.execute_reply": "2021-05-15T23:04:26.666322Z"
    },
    "papermill": {
     "duration": 0.064092,
     "end_time": "2021-05-15T23:04:26.666450",
     "exception": false,
     "start_time": "2021-05-15T23:04:26.602358",
     "status": "completed"
    },
    "tags": []
   },
   "outputs": [],
   "source": [
    "_tmp = pd.read_pickle(emerge_smultixcan_zscores_filepath)"
   ]
  },
  {
   "cell_type": "code",
   "execution_count": 23,
   "id": "looking-reply",
   "metadata": {
    "execution": {
     "iopub.execute_input": "2021-05-15T23:04:26.728325Z",
     "iopub.status.busy": "2021-05-15T23:04:26.727490Z",
     "iopub.status.idle": "2021-05-15T23:04:26.740578Z",
     "shell.execute_reply": "2021-05-15T23:04:26.740145Z"
    },
    "papermill": {
     "duration": 0.043273,
     "end_time": "2021-05-15T23:04:26.740676",
     "exception": false,
     "start_time": "2021-05-15T23:04:26.697403",
     "status": "completed"
    },
    "tags": []
   },
   "outputs": [
    {
     "data": {
      "text/plain": [
       "(22198, 309)"
      ]
     },
     "execution_count": 23,
     "metadata": {},
     "output_type": "execute_result"
    }
   ],
   "source": [
    "_tmp.shape"
   ]
  },
  {
   "cell_type": "code",
   "execution_count": 24,
   "id": "acute-links",
   "metadata": {
    "execution": {
     "iopub.execute_input": "2021-05-15T23:04:26.797837Z",
     "iopub.status.busy": "2021-05-15T23:04:26.797485Z",
     "iopub.status.idle": "2021-05-15T23:04:26.820176Z",
     "shell.execute_reply": "2021-05-15T23:04:26.819819Z"
    },
    "papermill": {
     "duration": 0.051066,
     "end_time": "2021-05-15T23:04:26.820257",
     "exception": false,
     "start_time": "2021-05-15T23:04:26.769191",
     "status": "completed"
    },
    "tags": []
   },
   "outputs": [
    {
     "data": {
      "text/html": [
       "<div>\n",
       "<style scoped>\n",
       "    .dataframe tbody tr th:only-of-type {\n",
       "        vertical-align: middle;\n",
       "    }\n",
       "\n",
       "    .dataframe tbody tr th {\n",
       "        vertical-align: top;\n",
       "    }\n",
       "\n",
       "    .dataframe thead th {\n",
       "        text-align: right;\n",
       "    }\n",
       "</style>\n",
       "<table border=\"1\" class=\"dataframe\">\n",
       "  <thead>\n",
       "    <tr style=\"text-align: right;\">\n",
       "      <th></th>\n",
       "      <th>292.3</th>\n",
       "      <th>079</th>\n",
       "      <th>741</th>\n",
       "      <th>418.1</th>\n",
       "      <th>280</th>\n",
       "      <th>747</th>\n",
       "      <th>591</th>\n",
       "      <th>426.21</th>\n",
       "      <th>244</th>\n",
       "      <th>070.3</th>\n",
       "      <th>...</th>\n",
       "      <th>427</th>\n",
       "      <th>585.4</th>\n",
       "      <th>345</th>\n",
       "      <th>366.2</th>\n",
       "      <th>420.2</th>\n",
       "      <th>195</th>\n",
       "      <th>250.2</th>\n",
       "      <th>250.1</th>\n",
       "      <th>371</th>\n",
       "      <th>562</th>\n",
       "    </tr>\n",
       "    <tr>\n",
       "      <th>gene_name</th>\n",
       "      <th></th>\n",
       "      <th></th>\n",
       "      <th></th>\n",
       "      <th></th>\n",
       "      <th></th>\n",
       "      <th></th>\n",
       "      <th></th>\n",
       "      <th></th>\n",
       "      <th></th>\n",
       "      <th></th>\n",
       "      <th></th>\n",
       "      <th></th>\n",
       "      <th></th>\n",
       "      <th></th>\n",
       "      <th></th>\n",
       "      <th></th>\n",
       "      <th></th>\n",
       "      <th></th>\n",
       "      <th></th>\n",
       "      <th></th>\n",
       "      <th></th>\n",
       "    </tr>\n",
       "  </thead>\n",
       "  <tbody>\n",
       "    <tr>\n",
       "      <th>ENSG00000000419</th>\n",
       "      <td>1.043436</td>\n",
       "      <td>1.134028</td>\n",
       "      <td>1.595979</td>\n",
       "      <td>0.399451</td>\n",
       "      <td>0.725100</td>\n",
       "      <td>1.655468</td>\n",
       "      <td>1.803598</td>\n",
       "      <td>0.125250</td>\n",
       "      <td>1.053218</td>\n",
       "      <td>0.922592</td>\n",
       "      <td>...</td>\n",
       "      <td>0.364789</td>\n",
       "      <td>0.453873</td>\n",
       "      <td>0.759558</td>\n",
       "      <td>1.173671</td>\n",
       "      <td>0.298944</td>\n",
       "      <td>1.029646</td>\n",
       "      <td>0.826238</td>\n",
       "      <td>0.685711</td>\n",
       "      <td>2.069701</td>\n",
       "      <td>1.544766</td>\n",
       "    </tr>\n",
       "    <tr>\n",
       "      <th>ENSG00000000457</th>\n",
       "      <td>1.236752</td>\n",
       "      <td>0.119837</td>\n",
       "      <td>0.224120</td>\n",
       "      <td>0.200610</td>\n",
       "      <td>1.304190</td>\n",
       "      <td>0.541478</td>\n",
       "      <td>0.646474</td>\n",
       "      <td>0.493759</td>\n",
       "      <td>0.189680</td>\n",
       "      <td>1.563273</td>\n",
       "      <td>...</td>\n",
       "      <td>1.519500</td>\n",
       "      <td>0.201290</td>\n",
       "      <td>1.020996</td>\n",
       "      <td>0.592006</td>\n",
       "      <td>0.632661</td>\n",
       "      <td>0.995453</td>\n",
       "      <td>0.069362</td>\n",
       "      <td>0.460979</td>\n",
       "      <td>0.217046</td>\n",
       "      <td>1.350475</td>\n",
       "    </tr>\n",
       "    <tr>\n",
       "      <th>ENSG00000000460</th>\n",
       "      <td>0.497108</td>\n",
       "      <td>0.005690</td>\n",
       "      <td>0.317710</td>\n",
       "      <td>0.184918</td>\n",
       "      <td>1.136574</td>\n",
       "      <td>1.708245</td>\n",
       "      <td>0.288962</td>\n",
       "      <td>1.070026</td>\n",
       "      <td>0.403510</td>\n",
       "      <td>1.106321</td>\n",
       "      <td>...</td>\n",
       "      <td>0.678253</td>\n",
       "      <td>1.166204</td>\n",
       "      <td>1.138126</td>\n",
       "      <td>0.608565</td>\n",
       "      <td>0.449551</td>\n",
       "      <td>0.096689</td>\n",
       "      <td>0.887467</td>\n",
       "      <td>0.143815</td>\n",
       "      <td>0.236647</td>\n",
       "      <td>1.048859</td>\n",
       "    </tr>\n",
       "    <tr>\n",
       "      <th>ENSG00000000938</th>\n",
       "      <td>0.374442</td>\n",
       "      <td>1.099899</td>\n",
       "      <td>1.975795</td>\n",
       "      <td>0.107667</td>\n",
       "      <td>0.903520</td>\n",
       "      <td>0.673819</td>\n",
       "      <td>0.855749</td>\n",
       "      <td>0.499088</td>\n",
       "      <td>0.375406</td>\n",
       "      <td>0.815757</td>\n",
       "      <td>...</td>\n",
       "      <td>1.585687</td>\n",
       "      <td>0.584143</td>\n",
       "      <td>0.751384</td>\n",
       "      <td>2.758230</td>\n",
       "      <td>0.572712</td>\n",
       "      <td>0.141023</td>\n",
       "      <td>1.437022</td>\n",
       "      <td>0.288943</td>\n",
       "      <td>0.665727</td>\n",
       "      <td>1.225229</td>\n",
       "    </tr>\n",
       "    <tr>\n",
       "      <th>ENSG00000000971</th>\n",
       "      <td>1.108762</td>\n",
       "      <td>1.133163</td>\n",
       "      <td>0.227188</td>\n",
       "      <td>0.222948</td>\n",
       "      <td>0.072709</td>\n",
       "      <td>0.256124</td>\n",
       "      <td>0.540911</td>\n",
       "      <td>0.606947</td>\n",
       "      <td>0.229133</td>\n",
       "      <td>1.557433</td>\n",
       "      <td>...</td>\n",
       "      <td>2.349373</td>\n",
       "      <td>1.122458</td>\n",
       "      <td>0.155346</td>\n",
       "      <td>0.990123</td>\n",
       "      <td>0.326914</td>\n",
       "      <td>1.100210</td>\n",
       "      <td>1.099537</td>\n",
       "      <td>2.511358</td>\n",
       "      <td>0.950262</td>\n",
       "      <td>1.467305</td>\n",
       "    </tr>\n",
       "  </tbody>\n",
       "</table>\n",
       "<p>5 rows × 309 columns</p>\n",
       "</div>"
      ],
      "text/plain": [
       "                    292.3       079       741     418.1       280       747  \\\n",
       "gene_name                                                                     \n",
       "ENSG00000000419  1.043436  1.134028  1.595979  0.399451  0.725100  1.655468   \n",
       "ENSG00000000457  1.236752  0.119837  0.224120  0.200610  1.304190  0.541478   \n",
       "ENSG00000000460  0.497108  0.005690  0.317710  0.184918  1.136574  1.708245   \n",
       "ENSG00000000938  0.374442  1.099899  1.975795  0.107667  0.903520  0.673819   \n",
       "ENSG00000000971  1.108762  1.133163  0.227188  0.222948  0.072709  0.256124   \n",
       "\n",
       "                      591    426.21       244     070.3  ...       427  \\\n",
       "gene_name                                                ...             \n",
       "ENSG00000000419  1.803598  0.125250  1.053218  0.922592  ...  0.364789   \n",
       "ENSG00000000457  0.646474  0.493759  0.189680  1.563273  ...  1.519500   \n",
       "ENSG00000000460  0.288962  1.070026  0.403510  1.106321  ...  0.678253   \n",
       "ENSG00000000938  0.855749  0.499088  0.375406  0.815757  ...  1.585687   \n",
       "ENSG00000000971  0.540911  0.606947  0.229133  1.557433  ...  2.349373   \n",
       "\n",
       "                    585.4       345     366.2     420.2       195     250.2  \\\n",
       "gene_name                                                                     \n",
       "ENSG00000000419  0.453873  0.759558  1.173671  0.298944  1.029646  0.826238   \n",
       "ENSG00000000457  0.201290  1.020996  0.592006  0.632661  0.995453  0.069362   \n",
       "ENSG00000000460  1.166204  1.138126  0.608565  0.449551  0.096689  0.887467   \n",
       "ENSG00000000938  0.584143  0.751384  2.758230  0.572712  0.141023  1.437022   \n",
       "ENSG00000000971  1.122458  0.155346  0.990123  0.326914  1.100210  1.099537   \n",
       "\n",
       "                    250.1       371       562  \n",
       "gene_name                                      \n",
       "ENSG00000000419  0.685711  2.069701  1.544766  \n",
       "ENSG00000000457  0.460979  0.217046  1.350475  \n",
       "ENSG00000000460  0.143815  0.236647  1.048859  \n",
       "ENSG00000000938  0.288943  0.665727  1.225229  \n",
       "ENSG00000000971  2.511358  0.950262  1.467305  \n",
       "\n",
       "[5 rows x 309 columns]"
      ]
     },
     "execution_count": 24,
     "metadata": {},
     "output_type": "execute_result"
    }
   ],
   "source": [
    "_tmp.head()"
   ]
  },
  {
   "cell_type": "markdown",
   "id": "canadian-mouth",
   "metadata": {
    "papermill": {
     "duration": 0.026125,
     "end_time": "2021-05-15T23:04:26.873450",
     "exception": false,
     "start_time": "2021-05-15T23:04:26.847325",
     "status": "completed"
    },
    "tags": []
   },
   "source": [
    "## GLS results on PhenomeXcan"
   ]
  },
  {
   "cell_type": "markdown",
   "id": "overhead-fashion",
   "metadata": {
    "papermill": {
     "duration": 0.026125,
     "end_time": "2021-05-15T23:04:26.873450",
     "exception": false,
     "start_time": "2021-05-15T23:04:26.847325",
     "status": "completed"
    },
    "tags": []
   },
   "source": [
    "Read results obtained with `30-gls_on_phenotypes.ipynb` (PhenomeXcan)"
   ]
  },
  {
   "cell_type": "code",
   "execution_count": 25,
   "id": "complex-maldives",
   "metadata": {
    "execution": {
     "iopub.execute_input": "2021-05-15T23:04:26.928039Z",
     "iopub.status.busy": "2021-05-15T23:04:26.927687Z",
     "iopub.status.idle": "2021-05-15T23:04:26.938770Z",
     "shell.execute_reply": "2021-05-15T23:04:26.939048Z"
    },
    "papermill": {
     "duration": 0.039608,
     "end_time": "2021-05-15T23:04:26.939154",
     "exception": false,
     "start_time": "2021-05-15T23:04:26.899546",
     "status": "completed"
    },
    "tags": []
   },
   "outputs": [
    {
     "data": {
      "text/plain": [
       "PosixPath('/home/miltondp/projects/labs/greenelab/phenoplier/base/results/gls/gls_phenotypes.pkl')"
      ]
     },
     "metadata": {},
     "output_type": "display_data"
    }
   ],
   "source": [
    "input_filepath = conf.RESULTS[\"GLS\"] / \"gls_phenotypes.pkl\"\n",
    "display(input_filepath)"
   ]
  },
  {
   "cell_type": "code",
   "execution_count": 26,
   "id": "royal-fashion",
   "metadata": {
    "execution": {
     "iopub.execute_input": "2021-05-15T23:04:26.995040Z",
     "iopub.status.busy": "2021-05-15T23:04:26.994682Z",
     "iopub.status.idle": "2021-05-15T23:04:28.149160Z",
     "shell.execute_reply": "2021-05-15T23:04:28.148710Z"
    },
    "papermill": {
     "duration": 1.183227,
     "end_time": "2021-05-15T23:04:28.149269",
     "exception": false,
     "start_time": "2021-05-15T23:04:26.966042",
     "status": "completed"
    },
    "tags": []
   },
   "outputs": [],
   "source": [
    "gls_phenomexcan = pd.read_pickle(input_filepath)"
   ]
  },
  {
   "cell_type": "code",
   "execution_count": 27,
   "id": "royal-anderson",
   "metadata": {
    "execution": {
     "iopub.execute_input": "2021-05-15T23:04:28.214834Z",
     "iopub.status.busy": "2021-05-15T23:04:28.214482Z",
     "iopub.status.idle": "2021-05-15T23:04:28.225817Z",
     "shell.execute_reply": "2021-05-15T23:04:28.225443Z"
    },
    "papermill": {
     "duration": 0.041796,
     "end_time": "2021-05-15T23:04:28.225903",
     "exception": false,
     "start_time": "2021-05-15T23:04:28.184107",
     "status": "completed"
    },
    "tags": []
   },
   "outputs": [
    {
     "data": {
      "text/plain": [
       "(2580, 8)"
      ]
     },
     "execution_count": 27,
     "metadata": {},
     "output_type": "execute_result"
    }
   ],
   "source": [
    "gls_phenomexcan.shape"
   ]
  },
  {
   "cell_type": "code",
   "execution_count": 28,
   "id": "alert-ontario",
   "metadata": {
    "execution": {
     "iopub.execute_input": "2021-05-15T23:04:28.282605Z",
     "iopub.status.busy": "2021-05-15T23:04:28.282251Z",
     "iopub.status.idle": "2021-05-15T23:04:28.311615Z",
     "shell.execute_reply": "2021-05-15T23:04:28.311244Z"
    },
    "papermill": {
     "duration": 0.058869,
     "end_time": "2021-05-15T23:04:28.311700",
     "exception": false,
     "start_time": "2021-05-15T23:04:28.252831",
     "status": "completed"
    },
    "tags": []
   },
   "outputs": [
    {
     "data": {
      "text/html": [
       "<div>\n",
       "<style scoped>\n",
       "    .dataframe tbody tr th:only-of-type {\n",
       "        vertical-align: middle;\n",
       "    }\n",
       "\n",
       "    .dataframe tbody tr th {\n",
       "        vertical-align: top;\n",
       "    }\n",
       "\n",
       "    .dataframe thead th {\n",
       "        text-align: right;\n",
       "    }\n",
       "</style>\n",
       "<table border=\"1\" class=\"dataframe\">\n",
       "  <thead>\n",
       "    <tr style=\"text-align: right;\">\n",
       "      <th></th>\n",
       "      <th>part_k</th>\n",
       "      <th>cluster_id</th>\n",
       "      <th>phenotype</th>\n",
       "      <th>lv</th>\n",
       "      <th>lv_with_pathway</th>\n",
       "      <th>coef</th>\n",
       "      <th>pvalue</th>\n",
       "      <th>summary</th>\n",
       "    </tr>\n",
       "  </thead>\n",
       "  <tbody>\n",
       "    <tr>\n",
       "      <th>0</th>\n",
       "      <td>29</td>\n",
       "      <td>17</td>\n",
       "      <td>20003_1140861958-Treatmentmedication_code_simv...</td>\n",
       "      <td>LV744</td>\n",
       "      <td>False</td>\n",
       "      <td>0.017663</td>\n",
       "      <td>0.166692</td>\n",
       "      <td>GLS Regression Res...</td>\n",
       "    </tr>\n",
       "    <tr>\n",
       "      <th>1</th>\n",
       "      <td>29</td>\n",
       "      <td>17</td>\n",
       "      <td>20003_1140861958-Treatmentmedication_code_simv...</td>\n",
       "      <td>LV42</td>\n",
       "      <td>True</td>\n",
       "      <td>-0.013276</td>\n",
       "      <td>0.294912</td>\n",
       "      <td>GLS Regression Res...</td>\n",
       "    </tr>\n",
       "    <tr>\n",
       "      <th>2</th>\n",
       "      <td>29</td>\n",
       "      <td>17</td>\n",
       "      <td>20003_1140861958-Treatmentmedication_code_simv...</td>\n",
       "      <td>LV289</td>\n",
       "      <td>False</td>\n",
       "      <td>-0.001951</td>\n",
       "      <td>0.871501</td>\n",
       "      <td>GLS Regression Res...</td>\n",
       "    </tr>\n",
       "    <tr>\n",
       "      <th>3</th>\n",
       "      <td>29</td>\n",
       "      <td>17</td>\n",
       "      <td>20003_1140861958-Treatmentmedication_code_simv...</td>\n",
       "      <td>LV147</td>\n",
       "      <td>False</td>\n",
       "      <td>0.006490</td>\n",
       "      <td>0.602219</td>\n",
       "      <td>GLS Regression Res...</td>\n",
       "    </tr>\n",
       "    <tr>\n",
       "      <th>4</th>\n",
       "      <td>29</td>\n",
       "      <td>17</td>\n",
       "      <td>20003_1140861958-Treatmentmedication_code_simv...</td>\n",
       "      <td>LV514</td>\n",
       "      <td>False</td>\n",
       "      <td>0.025729</td>\n",
       "      <td>0.041014</td>\n",
       "      <td>GLS Regression Res...</td>\n",
       "    </tr>\n",
       "  </tbody>\n",
       "</table>\n",
       "</div>"
      ],
      "text/plain": [
       "   part_k  cluster_id                                          phenotype  \\\n",
       "0      29          17  20003_1140861958-Treatmentmedication_code_simv...   \n",
       "1      29          17  20003_1140861958-Treatmentmedication_code_simv...   \n",
       "2      29          17  20003_1140861958-Treatmentmedication_code_simv...   \n",
       "3      29          17  20003_1140861958-Treatmentmedication_code_simv...   \n",
       "4      29          17  20003_1140861958-Treatmentmedication_code_simv...   \n",
       "\n",
       "      lv  lv_with_pathway      coef    pvalue  \\\n",
       "0  LV744            False  0.017663  0.166692   \n",
       "1   LV42             True -0.013276  0.294912   \n",
       "2  LV289            False -0.001951  0.871501   \n",
       "3  LV147            False  0.006490  0.602219   \n",
       "4  LV514            False  0.025729  0.041014   \n",
       "\n",
       "                                             summary  \n",
       "0                              GLS Regression Res...  \n",
       "1                              GLS Regression Res...  \n",
       "2                              GLS Regression Res...  \n",
       "3                              GLS Regression Res...  \n",
       "4                              GLS Regression Res...  "
      ]
     },
     "execution_count": 28,
     "metadata": {},
     "output_type": "execute_result"
    }
   ],
   "source": [
    "gls_phenomexcan.head()"
   ]
  },
  {
   "cell_type": "markdown",
   "id": "forward-affiliation",
   "metadata": {
    "papermill": {
     "duration": 0.027018,
     "end_time": "2021-05-15T23:04:28.366804",
     "exception": false,
     "start_time": "2021-05-15T23:04:28.339786",
     "status": "completed"
    },
    "tags": []
   },
   "source": [
    "## MultiPLIER summary"
   ]
  },
  {
   "cell_type": "code",
   "execution_count": 29,
   "id": "ideal-spouse",
   "metadata": {
    "execution": {
     "iopub.execute_input": "2021-05-15T23:04:28.423527Z",
     "iopub.status.busy": "2021-05-15T23:04:28.423170Z",
     "iopub.status.idle": "2021-05-15T23:04:28.435231Z",
     "shell.execute_reply": "2021-05-15T23:04:28.434864Z"
    },
    "papermill": {
     "duration": 0.041553,
     "end_time": "2021-05-15T23:04:28.435315",
     "exception": false,
     "start_time": "2021-05-15T23:04:28.393762",
     "status": "completed"
    },
    "tags": []
   },
   "outputs": [],
   "source": [
    "multiplier_model_summary = pd.read_pickle(conf.MULTIPLIER[\"MODEL_SUMMARY_FILE\"])"
   ]
  },
  {
   "cell_type": "code",
   "execution_count": 30,
   "id": "civilian-advancement",
   "metadata": {
    "execution": {
     "iopub.execute_input": "2021-05-15T23:04:28.494079Z",
     "iopub.status.busy": "2021-05-15T23:04:28.493716Z",
     "iopub.status.idle": "2021-05-15T23:04:28.504340Z",
     "shell.execute_reply": "2021-05-15T23:04:28.504607Z"
    },
    "papermill": {
     "duration": 0.041095,
     "end_time": "2021-05-15T23:04:28.504742",
     "exception": false,
     "start_time": "2021-05-15T23:04:28.463647",
     "status": "completed"
    },
    "tags": []
   },
   "outputs": [
    {
     "data": {
      "text/plain": [
       "(2157, 5)"
      ]
     },
     "execution_count": 30,
     "metadata": {},
     "output_type": "execute_result"
    }
   ],
   "source": [
    "multiplier_model_summary.shape"
   ]
  },
  {
   "cell_type": "code",
   "execution_count": 31,
   "id": "august-hacker",
   "metadata": {
    "execution": {
     "iopub.execute_input": "2021-05-15T23:04:28.563101Z",
     "iopub.status.busy": "2021-05-15T23:04:28.562702Z",
     "iopub.status.idle": "2021-05-15T23:04:28.577774Z",
     "shell.execute_reply": "2021-05-15T23:04:28.577404Z"
    },
    "papermill": {
     "duration": 0.045013,
     "end_time": "2021-05-15T23:04:28.577859",
     "exception": false,
     "start_time": "2021-05-15T23:04:28.532846",
     "status": "completed"
    },
    "tags": []
   },
   "outputs": [
    {
     "data": {
      "text/html": [
       "<div>\n",
       "<style scoped>\n",
       "    .dataframe tbody tr th:only-of-type {\n",
       "        vertical-align: middle;\n",
       "    }\n",
       "\n",
       "    .dataframe tbody tr th {\n",
       "        vertical-align: top;\n",
       "    }\n",
       "\n",
       "    .dataframe thead th {\n",
       "        text-align: right;\n",
       "    }\n",
       "</style>\n",
       "<table border=\"1\" class=\"dataframe\">\n",
       "  <thead>\n",
       "    <tr style=\"text-align: right;\">\n",
       "      <th></th>\n",
       "      <th>pathway</th>\n",
       "      <th>LV index</th>\n",
       "      <th>AUC</th>\n",
       "      <th>p-value</th>\n",
       "      <th>FDR</th>\n",
       "    </tr>\n",
       "  </thead>\n",
       "  <tbody>\n",
       "    <tr>\n",
       "      <th>1</th>\n",
       "      <td>KEGG_LYSINE_DEGRADATION</td>\n",
       "      <td>1</td>\n",
       "      <td>0.388059</td>\n",
       "      <td>0.866078</td>\n",
       "      <td>0.956005</td>\n",
       "    </tr>\n",
       "    <tr>\n",
       "      <th>2</th>\n",
       "      <td>REACTOME_MRNA_SPLICING</td>\n",
       "      <td>1</td>\n",
       "      <td>0.733057</td>\n",
       "      <td>0.000048</td>\n",
       "      <td>0.000582</td>\n",
       "    </tr>\n",
       "    <tr>\n",
       "      <th>3</th>\n",
       "      <td>MIPS_NOP56P_ASSOCIATED_PRE_RRNA_COMPLEX</td>\n",
       "      <td>1</td>\n",
       "      <td>0.680555</td>\n",
       "      <td>0.001628</td>\n",
       "      <td>0.011366</td>\n",
       "    </tr>\n",
       "    <tr>\n",
       "      <th>4</th>\n",
       "      <td>KEGG_DNA_REPLICATION</td>\n",
       "      <td>1</td>\n",
       "      <td>0.549473</td>\n",
       "      <td>0.312155</td>\n",
       "      <td>0.539951</td>\n",
       "    </tr>\n",
       "    <tr>\n",
       "      <th>5</th>\n",
       "      <td>PID_MYC_ACTIVPATHWAY</td>\n",
       "      <td>1</td>\n",
       "      <td>0.639303</td>\n",
       "      <td>0.021702</td>\n",
       "      <td>0.083739</td>\n",
       "    </tr>\n",
       "  </tbody>\n",
       "</table>\n",
       "</div>"
      ],
      "text/plain": [
       "                                   pathway LV index       AUC   p-value  \\\n",
       "1                  KEGG_LYSINE_DEGRADATION        1  0.388059  0.866078   \n",
       "2                   REACTOME_MRNA_SPLICING        1  0.733057  0.000048   \n",
       "3  MIPS_NOP56P_ASSOCIATED_PRE_RRNA_COMPLEX        1  0.680555  0.001628   \n",
       "4                     KEGG_DNA_REPLICATION        1  0.549473  0.312155   \n",
       "5                     PID_MYC_ACTIVPATHWAY        1  0.639303  0.021702   \n",
       "\n",
       "        FDR  \n",
       "1  0.956005  \n",
       "2  0.000582  \n",
       "3  0.011366  \n",
       "4  0.539951  \n",
       "5  0.083739  "
      ]
     },
     "execution_count": 31,
     "metadata": {},
     "output_type": "execute_result"
    }
   ],
   "source": [
    "multiplier_model_summary.head()"
   ]
  },
  {
   "cell_type": "code",
   "execution_count": 32,
   "id": "healthy-rings",
   "metadata": {
    "execution": {
     "iopub.execute_input": "2021-05-15T23:04:28.637794Z",
     "iopub.status.busy": "2021-05-15T23:04:28.637440Z",
     "iopub.status.idle": "2021-05-15T23:04:28.654199Z",
     "shell.execute_reply": "2021-05-15T23:04:28.653865Z"
    },
    "papermill": {
     "duration": 0.047312,
     "end_time": "2021-05-15T23:04:28.654282",
     "exception": false,
     "start_time": "2021-05-15T23:04:28.606970",
     "status": "completed"
    },
    "tags": []
   },
   "outputs": [
    {
     "data": {
      "text/plain": [
       "(469, 5)"
      ]
     },
     "metadata": {},
     "output_type": "display_data"
    },
    {
     "data": {
      "text/html": [
       "<div>\n",
       "<style scoped>\n",
       "    .dataframe tbody tr th:only-of-type {\n",
       "        vertical-align: middle;\n",
       "    }\n",
       "\n",
       "    .dataframe tbody tr th {\n",
       "        vertical-align: top;\n",
       "    }\n",
       "\n",
       "    .dataframe thead th {\n",
       "        text-align: right;\n",
       "    }\n",
       "</style>\n",
       "<table border=\"1\" class=\"dataframe\">\n",
       "  <thead>\n",
       "    <tr style=\"text-align: right;\">\n",
       "      <th></th>\n",
       "      <th>pathway</th>\n",
       "      <th>LV index</th>\n",
       "      <th>AUC</th>\n",
       "      <th>p-value</th>\n",
       "      <th>FDR</th>\n",
       "    </tr>\n",
       "  </thead>\n",
       "  <tbody>\n",
       "    <tr>\n",
       "      <th>2</th>\n",
       "      <td>REACTOME_MRNA_SPLICING</td>\n",
       "      <td>1</td>\n",
       "      <td>0.733057</td>\n",
       "      <td>4.772691e-05</td>\n",
       "      <td>5.816211e-04</td>\n",
       "    </tr>\n",
       "    <tr>\n",
       "      <th>3</th>\n",
       "      <td>MIPS_NOP56P_ASSOCIATED_PRE_RRNA_COMPLEX</td>\n",
       "      <td>1</td>\n",
       "      <td>0.680555</td>\n",
       "      <td>1.628217e-03</td>\n",
       "      <td>1.136590e-02</td>\n",
       "    </tr>\n",
       "    <tr>\n",
       "      <th>8</th>\n",
       "      <td>REACTOME_MITOTIC_G1_G1_S_PHASES</td>\n",
       "      <td>1</td>\n",
       "      <td>0.686170</td>\n",
       "      <td>2.517619e-04</td>\n",
       "      <td>2.392292e-03</td>\n",
       "    </tr>\n",
       "    <tr>\n",
       "      <th>9</th>\n",
       "      <td>IRIS_Monocyte-Day0</td>\n",
       "      <td>2</td>\n",
       "      <td>0.890036</td>\n",
       "      <td>4.315812e-25</td>\n",
       "      <td>1.329887e-22</td>\n",
       "    </tr>\n",
       "    <tr>\n",
       "      <th>10</th>\n",
       "      <td>DMAP_MONO2</td>\n",
       "      <td>2</td>\n",
       "      <td>0.904676</td>\n",
       "      <td>1.313970e-16</td>\n",
       "      <td>1.574574e-14</td>\n",
       "    </tr>\n",
       "  </tbody>\n",
       "</table>\n",
       "</div>"
      ],
      "text/plain": [
       "                                    pathway LV index       AUC       p-value  \\\n",
       "2                    REACTOME_MRNA_SPLICING        1  0.733057  4.772691e-05   \n",
       "3   MIPS_NOP56P_ASSOCIATED_PRE_RRNA_COMPLEX        1  0.680555  1.628217e-03   \n",
       "8           REACTOME_MITOTIC_G1_G1_S_PHASES        1  0.686170  2.517619e-04   \n",
       "9                        IRIS_Monocyte-Day0        2  0.890036  4.315812e-25   \n",
       "10                               DMAP_MONO2        2  0.904676  1.313970e-16   \n",
       "\n",
       "             FDR  \n",
       "2   5.816211e-04  \n",
       "3   1.136590e-02  \n",
       "8   2.392292e-03  \n",
       "9   1.329887e-22  \n",
       "10  1.574574e-14  "
      ]
     },
     "metadata": {},
     "output_type": "display_data"
    }
   ],
   "source": [
    "well_aligned_lvs = multiplier_model_summary[\n",
    "    (multiplier_model_summary[\"FDR\"] < 0.05) | (multiplier_model_summary[\"AUC\"] >= 0.75)\n",
    "]\n",
    "\n",
    "display(well_aligned_lvs.shape)\n",
    "display(well_aligned_lvs.head())"
   ]
  },
  {
   "cell_type": "code",
   "execution_count": 33,
   "id": "palestinian-priority",
   "metadata": {
    "execution": {
     "iopub.execute_input": "2021-05-15T23:04:28.742534Z",
     "iopub.status.busy": "2021-05-15T23:04:28.742075Z",
     "iopub.status.idle": "2021-05-15T23:04:28.755229Z",
     "shell.execute_reply": "2021-05-15T23:04:28.754774Z"
    },
    "papermill": {
     "duration": 0.053078,
     "end_time": "2021-05-15T23:04:28.755333",
     "exception": false,
     "start_time": "2021-05-15T23:04:28.702255",
     "status": "completed"
    },
    "tags": []
   },
   "outputs": [],
   "source": [
    "well_aligned_lv_codes = set([f\"LV{lvi}\" for lvi in well_aligned_lvs[\"LV index\"]])"
   ]
  },
  {
   "cell_type": "code",
   "execution_count": 34,
   "id": "female-rolling",
   "metadata": {
    "execution": {
     "iopub.execute_input": "2021-05-15T23:04:28.818584Z",
     "iopub.status.busy": "2021-05-15T23:04:28.818216Z",
     "iopub.status.idle": "2021-05-15T23:04:28.829687Z",
     "shell.execute_reply": "2021-05-15T23:04:28.829351Z"
    },
    "papermill": {
     "duration": 0.042483,
     "end_time": "2021-05-15T23:04:28.829770",
     "exception": false,
     "start_time": "2021-05-15T23:04:28.787287",
     "status": "completed"
    },
    "tags": []
   },
   "outputs": [
    {
     "data": {
      "text/plain": [
       "200"
      ]
     },
     "execution_count": 34,
     "metadata": {},
     "output_type": "execute_result"
    }
   ],
   "source": [
    "len(well_aligned_lv_codes)"
   ]
  },
  {
   "cell_type": "code",
   "execution_count": 35,
   "id": "representative-peoples",
   "metadata": {
    "execution": {
     "iopub.execute_input": "2021-05-15T23:04:28.891537Z",
     "iopub.status.busy": "2021-05-15T23:04:28.891183Z",
     "iopub.status.idle": "2021-05-15T23:04:28.902637Z",
     "shell.execute_reply": "2021-05-15T23:04:28.902284Z"
    },
    "papermill": {
     "duration": 0.042733,
     "end_time": "2021-05-15T23:04:28.902719",
     "exception": false,
     "start_time": "2021-05-15T23:04:28.859986",
     "status": "completed"
    },
    "tags": []
   },
   "outputs": [
    {
     "data": {
      "text/plain": [
       "['LV524', 'LV623', 'LV848', 'LV921', 'LV30']"
      ]
     },
     "execution_count": 35,
     "metadata": {},
     "output_type": "execute_result"
    }
   ],
   "source": [
    "list(well_aligned_lv_codes)[:5]"
   ]
  },
  {
   "cell_type": "markdown",
   "id": "failing-generic",
   "metadata": {
    "papermill": {
     "duration": 0.029008,
     "end_time": "2021-05-15T23:04:28.961476",
     "exception": false,
     "start_time": "2021-05-15T23:04:28.932468",
     "status": "completed"
    },
    "tags": []
   },
   "source": [
    "# Select LVs from previous GLS run on PhenomeXcan"
   ]
  },
  {
   "cell_type": "code",
   "execution_count": 36,
   "id": "statewide-fighter",
   "metadata": {
    "execution": {
     "iopub.execute_input": "2021-05-15T23:04:29.022405Z",
     "iopub.status.busy": "2021-05-15T23:04:29.022050Z",
     "iopub.status.idle": "2021-05-15T23:04:29.035462Z",
     "shell.execute_reply": "2021-05-15T23:04:29.034443Z"
    },
    "papermill": {
     "duration": 0.044785,
     "end_time": "2021-05-15T23:04:29.035681",
     "exception": false,
     "start_time": "2021-05-15T23:04:28.990896",
     "status": "completed"
    },
    "tags": []
   },
   "outputs": [],
   "source": [
    "gls_phenomexcan_lvs = gls_phenomexcan[\"lv\"].unique()"
   ]
  },
  {
   "cell_type": "code",
   "execution_count": 37,
   "id": "velvet-charleston",
   "metadata": {
    "execution": {
     "iopub.execute_input": "2021-05-15T23:04:29.105092Z",
     "iopub.status.busy": "2021-05-15T23:04:29.104685Z",
     "iopub.status.idle": "2021-05-15T23:04:29.116122Z",
     "shell.execute_reply": "2021-05-15T23:04:29.115753Z"
    },
    "papermill": {
     "duration": 0.042676,
     "end_time": "2021-05-15T23:04:29.116204",
     "exception": false,
     "start_time": "2021-05-15T23:04:29.073528",
     "status": "completed"
    },
    "tags": []
   },
   "outputs": [
    {
     "data": {
      "text/plain": [
       "(190,)"
      ]
     },
     "execution_count": 37,
     "metadata": {},
     "output_type": "execute_result"
    }
   ],
   "source": [
    "gls_phenomexcan_lvs.shape"
   ]
  },
  {
   "cell_type": "code",
   "execution_count": 38,
   "id": "organized-finder",
   "metadata": {
    "execution": {
     "iopub.execute_input": "2021-05-15T23:04:29.178104Z",
     "iopub.status.busy": "2021-05-15T23:04:29.177750Z",
     "iopub.status.idle": "2021-05-15T23:04:29.189273Z",
     "shell.execute_reply": "2021-05-15T23:04:29.188920Z"
    },
    "papermill": {
     "duration": 0.043104,
     "end_time": "2021-05-15T23:04:29.189354",
     "exception": false,
     "start_time": "2021-05-15T23:04:29.146250",
     "status": "completed"
    },
    "tags": []
   },
   "outputs": [
    {
     "data": {
      "text/plain": [
       "array(['LV744', 'LV42', 'LV289', 'LV147', 'LV514', 'LV367', 'LV797',\n",
       "       'LV91', 'LV530', 'LV257', 'LV224', 'LV575', 'LV381', 'LV455',\n",
       "       'LV516', 'LV847', 'LV515', 'LV65', 'LV841', 'LV330', 'LV502',\n",
       "       'LV610', 'LV342', 'LV913', 'LV568', 'LV271', 'LV605', 'LV984',\n",
       "       'LV844', 'LV983', 'LV155', 'LV948', 'LV942', 'LV54', 'LV987',\n",
       "       'LV57', 'LV425', 'LV864', 'LV11', 'LV453', 'LV338', 'LV301',\n",
       "       'LV270', 'LV238', 'LV307', 'LV51', 'LV277', 'LV5', 'LV591',\n",
       "       'LV613', 'LV856', 'LV877', 'LV403', 'LV391', 'LV954', 'LV808',\n",
       "       'LV510', 'LV387', 'LV443', 'LV851', 'LV985', 'LV34', 'LV444',\n",
       "       'LV705', 'LV941', 'LV853', 'LV586', 'LV335', 'LV679', 'LV363',\n",
       "       'LV882', 'LV390', 'LV774', 'LV96', 'LV525', 'LV564', 'LV207',\n",
       "       'LV644', 'LV294', 'LV874', 'LV359', 'LV50', 'LV418', 'LV117',\n",
       "       'LV879', 'LV241', 'LV24', 'LV402', 'LV237', 'LV835', 'LV171',\n",
       "       'LV452', 'LV904', 'LV918', 'LV587', 'LV94', 'LV300', 'LV132',\n",
       "       'LV128', 'LV107', 'LV484', 'LV906', 'LV476', 'LV154', 'LV767',\n",
       "       'LV156', 'LV894', 'LV761', 'LV693', 'LV986', 'LV136', 'LV612',\n",
       "       'LV81', 'LV671', 'LV643', 'LV710', 'LV598', 'LV62', 'LV657',\n",
       "       'LV193', 'LV252', 'LV538', 'LV622', 'LV952', 'LV479', 'LV412',\n",
       "       'LV18', 'LV664', 'LV118', 'LV757', 'LV146', 'LV770', 'LV721',\n",
       "       'LV925', 'LV33', 'LV140', 'LV688', 'LV331', 'LV813', 'LV309',\n",
       "       'LV108', 'LV567', 'LV727', 'LV47', 'LV931', 'LV796', 'LV650',\n",
       "       'LV884', 'LV337', 'LV574', 'LV434', 'LV162', 'LV811', 'LV680',\n",
       "       'LV561', 'LV576', 'LV12', 'LV427', 'LV93', 'LV206', 'LV21',\n",
       "       'LV428', 'LV753', 'LV260', 'LV145', 'LV665', 'LV343', 'LV71',\n",
       "       'LV52', 'LV45', 'LV769', 'LV308', 'LV282', 'LV46', 'LV35', 'LV597',\n",
       "       'LV754', 'LV631', 'LV823', 'LV548', 'LV449', 'LV922', 'LV486',\n",
       "       'LV977', 'LV339', 'LV746', 'LV837', 'LV504', 'LV362', 'LV290'],\n",
       "      dtype=object)"
      ]
     },
     "execution_count": 38,
     "metadata": {},
     "output_type": "execute_result"
    }
   ],
   "source": [
    "gls_phenomexcan_lvs"
   ]
  },
  {
   "cell_type": "markdown",
   "id": "funded-mozambique",
   "metadata": {
    "papermill": {
     "duration": 0.02959,
     "end_time": "2021-05-15T23:04:29.249046",
     "exception": false,
     "start_time": "2021-05-15T23:04:29.219456",
     "status": "completed"
    },
    "tags": []
   },
   "source": [
    "# Select eMERGE traits"
   ]
  },
  {
   "cell_type": "markdown",
   "id": "automotive-grammar",
   "metadata": {
    "papermill": {
     "duration": 0.02959,
     "end_time": "2021-05-15T23:04:29.249046",
     "exception": false,
     "start_time": "2021-05-15T23:04:29.219456",
     "status": "completed"
    },
    "tags": []
   },
   "source": [
    "This is an attempt to first get those eMERGE traits that correspond to the same EFO code in PhenomeXcan.\n",
    "However, turns out that we only have a few matchings. That's why I'm taking the top 20 traits from each LVs in addition\n",
    "to these ones."
   ]
  },
  {
   "cell_type": "code",
   "execution_count": 39,
   "id": "favorite-masters",
   "metadata": {
    "execution": {
     "iopub.execute_input": "2021-05-15T23:04:29.310304Z",
     "iopub.status.busy": "2021-05-15T23:04:29.309937Z",
     "iopub.status.idle": "2021-05-15T23:04:29.321402Z",
     "shell.execute_reply": "2021-05-15T23:04:29.321014Z"
    },
    "papermill": {
     "duration": 0.043072,
     "end_time": "2021-05-15T23:04:29.321490",
     "exception": false,
     "start_time": "2021-05-15T23:04:29.278418",
     "status": "completed"
    },
    "tags": []
   },
   "outputs": [],
   "source": [
    "gls_phenomexcan_traits = gls_phenomexcan[\"phenotype\"].unique()"
   ]
  },
  {
   "cell_type": "code",
   "execution_count": 40,
   "id": "southwest-frank",
   "metadata": {
    "execution": {
     "iopub.execute_input": "2021-05-15T23:04:29.384748Z",
     "iopub.status.busy": "2021-05-15T23:04:29.384355Z",
     "iopub.status.idle": "2021-05-15T23:04:29.395596Z",
     "shell.execute_reply": "2021-05-15T23:04:29.395230Z"
    },
    "papermill": {
     "duration": 0.043262,
     "end_time": "2021-05-15T23:04:29.395679",
     "exception": false,
     "start_time": "2021-05-15T23:04:29.352417",
     "status": "completed"
    },
    "tags": []
   },
   "outputs": [
    {
     "data": {
      "text/plain": [
       "(129,)"
      ]
     },
     "execution_count": 40,
     "metadata": {},
     "output_type": "execute_result"
    }
   ],
   "source": [
    "gls_phenomexcan_traits.shape"
   ]
  },
  {
   "cell_type": "code",
   "execution_count": 41,
   "id": "fourth-harvest",
   "metadata": {
    "execution": {
     "iopub.execute_input": "2021-05-15T23:04:29.459764Z",
     "iopub.status.busy": "2021-05-15T23:04:29.459398Z",
     "iopub.status.idle": "2021-05-15T23:04:29.471126Z",
     "shell.execute_reply": "2021-05-15T23:04:29.470749Z"
    },
    "papermill": {
     "duration": 0.044063,
     "end_time": "2021-05-15T23:04:29.471209",
     "exception": false,
     "start_time": "2021-05-15T23:04:29.427146",
     "status": "completed"
    },
    "tags": []
   },
   "outputs": [],
   "source": [
    "gls_phenomexcan_in_emerge = emerge_phenomexcan_maps[\n",
    "    (emerge_phenomexcan_maps[\"efo\"].isin(gls_phenomexcan_traits))\n",
    "    | (emerge_phenomexcan_maps[\"phenomexcan\"].isin(gls_phenomexcan_traits))\n",
    "]"
   ]
  },
  {
   "cell_type": "code",
   "execution_count": 42,
   "id": "designed-century",
   "metadata": {
    "execution": {
     "iopub.execute_input": "2021-05-15T23:04:29.534373Z",
     "iopub.status.busy": "2021-05-15T23:04:29.534006Z",
     "iopub.status.idle": "2021-05-15T23:04:29.551168Z",
     "shell.execute_reply": "2021-05-15T23:04:29.550875Z"
    },
    "papermill": {
     "duration": 0.049328,
     "end_time": "2021-05-15T23:04:29.551253",
     "exception": false,
     "start_time": "2021-05-15T23:04:29.501925",
     "status": "completed"
    },
    "tags": []
   },
   "outputs": [
    {
     "data": {
      "text/html": [
       "<div>\n",
       "<style scoped>\n",
       "    .dataframe tbody tr th:only-of-type {\n",
       "        vertical-align: middle;\n",
       "    }\n",
       "\n",
       "    .dataframe tbody tr th {\n",
       "        vertical-align: top;\n",
       "    }\n",
       "\n",
       "    .dataframe thead th {\n",
       "        text-align: right;\n",
       "    }\n",
       "</style>\n",
       "<table border=\"1\" class=\"dataframe\">\n",
       "  <thead>\n",
       "    <tr style=\"text-align: right;\">\n",
       "      <th></th>\n",
       "      <th>phecode</th>\n",
       "      <th>phecode_phenotype</th>\n",
       "      <th>phecode_category</th>\n",
       "      <th>icd10</th>\n",
       "      <th>efo</th>\n",
       "      <th>phenomexcan</th>\n",
       "    </tr>\n",
       "  </thead>\n",
       "  <tbody>\n",
       "    <tr>\n",
       "      <th>143</th>\n",
       "      <td>411.2</td>\n",
       "      <td>Myocardial infarction</td>\n",
       "      <td>circulatory system</td>\n",
       "      <td>I21</td>\n",
       "      <td>acute myocardial infarction</td>\n",
       "      <td>I21-Diagnoses_main_ICD10_I21_Acute_myocardial_...</td>\n",
       "    </tr>\n",
       "    <tr>\n",
       "      <th>148</th>\n",
       "      <td>411.2</td>\n",
       "      <td>Myocardial infarction</td>\n",
       "      <td>circulatory system</td>\n",
       "      <td>I25</td>\n",
       "      <td>coronary artery disease</td>\n",
       "      <td>CARDIoGRAM_C4D_CAD_ADDITIVE</td>\n",
       "    </tr>\n",
       "    <tr>\n",
       "      <th>149</th>\n",
       "      <td>411.2</td>\n",
       "      <td>Myocardial infarction</td>\n",
       "      <td>circulatory system</td>\n",
       "      <td>I25</td>\n",
       "      <td>coronary artery disease</td>\n",
       "      <td>I25-Diagnoses_main_ICD10_I25_Chronic_ischaemic...</td>\n",
       "    </tr>\n",
       "    <tr>\n",
       "      <th>289</th>\n",
       "      <td>577</td>\n",
       "      <td>Diseases of pancreas</td>\n",
       "      <td>digestive</td>\n",
       "      <td>K90</td>\n",
       "      <td>malabsorption syndrome</td>\n",
       "      <td>K90-Diagnoses_main_ICD10_K90_Intestinal_malabs...</td>\n",
       "    </tr>\n",
       "    <tr>\n",
       "      <th>329</th>\n",
       "      <td>714</td>\n",
       "      <td>Rheumatoid arthritis and other inflammatory po...</td>\n",
       "      <td>musculoskeletal</td>\n",
       "      <td>M06</td>\n",
       "      <td>rheumatoid arthritis</td>\n",
       "      <td>M05-Diagnoses_main_ICD10_M05_Seropositive_rheu...</td>\n",
       "    </tr>\n",
       "    <tr>\n",
       "      <th>330</th>\n",
       "      <td>714</td>\n",
       "      <td>Rheumatoid arthritis and other inflammatory po...</td>\n",
       "      <td>musculoskeletal</td>\n",
       "      <td>M06</td>\n",
       "      <td>rheumatoid arthritis</td>\n",
       "      <td>20002_1464-Noncancer_illness_code_selfreported...</td>\n",
       "    </tr>\n",
       "    <tr>\n",
       "      <th>331</th>\n",
       "      <td>714</td>\n",
       "      <td>Rheumatoid arthritis and other inflammatory po...</td>\n",
       "      <td>musculoskeletal</td>\n",
       "      <td>M06</td>\n",
       "      <td>rheumatoid arthritis</td>\n",
       "      <td>M06-Diagnoses_main_ICD10_M06_Other_rheumatoid_...</td>\n",
       "    </tr>\n",
       "    <tr>\n",
       "      <th>332</th>\n",
       "      <td>714</td>\n",
       "      <td>Rheumatoid arthritis and other inflammatory po...</td>\n",
       "      <td>musculoskeletal</td>\n",
       "      <td>M06</td>\n",
       "      <td>rheumatoid arthritis</td>\n",
       "      <td>RA_OKADA_TRANS_ETHNIC</td>\n",
       "    </tr>\n",
       "    <tr>\n",
       "      <th>333</th>\n",
       "      <td>714.1</td>\n",
       "      <td>Rheumatoid arthritis</td>\n",
       "      <td>musculoskeletal</td>\n",
       "      <td>M05</td>\n",
       "      <td>rheumatoid arthritis</td>\n",
       "      <td>M05-Diagnoses_main_ICD10_M05_Seropositive_rheu...</td>\n",
       "    </tr>\n",
       "    <tr>\n",
       "      <th>334</th>\n",
       "      <td>714.1</td>\n",
       "      <td>Rheumatoid arthritis</td>\n",
       "      <td>musculoskeletal</td>\n",
       "      <td>M05</td>\n",
       "      <td>rheumatoid arthritis</td>\n",
       "      <td>20002_1464-Noncancer_illness_code_selfreported...</td>\n",
       "    </tr>\n",
       "    <tr>\n",
       "      <th>335</th>\n",
       "      <td>714.1</td>\n",
       "      <td>Rheumatoid arthritis</td>\n",
       "      <td>musculoskeletal</td>\n",
       "      <td>M05</td>\n",
       "      <td>rheumatoid arthritis</td>\n",
       "      <td>M06-Diagnoses_main_ICD10_M06_Other_rheumatoid_...</td>\n",
       "    </tr>\n",
       "    <tr>\n",
       "      <th>336</th>\n",
       "      <td>714.1</td>\n",
       "      <td>Rheumatoid arthritis</td>\n",
       "      <td>musculoskeletal</td>\n",
       "      <td>M05</td>\n",
       "      <td>rheumatoid arthritis</td>\n",
       "      <td>RA_OKADA_TRANS_ETHNIC</td>\n",
       "    </tr>\n",
       "    <tr>\n",
       "      <th>392</th>\n",
       "      <td>743.9</td>\n",
       "      <td>Osteopenia or other disorder of bone and carti...</td>\n",
       "      <td>musculoskeletal</td>\n",
       "      <td>M85</td>\n",
       "      <td>bone density</td>\n",
       "      <td>M85-Diagnoses_main_ICD10_M85_Other_disorders_o...</td>\n",
       "    </tr>\n",
       "    <tr>\n",
       "      <th>393</th>\n",
       "      <td>743.9</td>\n",
       "      <td>Osteopenia or other disorder of bone and carti...</td>\n",
       "      <td>musculoskeletal</td>\n",
       "      <td>M85</td>\n",
       "      <td>bone density</td>\n",
       "      <td>GEFOS_Forearm</td>\n",
       "    </tr>\n",
       "  </tbody>\n",
       "</table>\n",
       "</div>"
      ],
      "text/plain": [
       "    phecode                                  phecode_phenotype  \\\n",
       "143   411.2                              Myocardial infarction   \n",
       "148   411.2                              Myocardial infarction   \n",
       "149   411.2                              Myocardial infarction   \n",
       "289     577                               Diseases of pancreas   \n",
       "329     714  Rheumatoid arthritis and other inflammatory po...   \n",
       "330     714  Rheumatoid arthritis and other inflammatory po...   \n",
       "331     714  Rheumatoid arthritis and other inflammatory po...   \n",
       "332     714  Rheumatoid arthritis and other inflammatory po...   \n",
       "333   714.1                               Rheumatoid arthritis   \n",
       "334   714.1                               Rheumatoid arthritis   \n",
       "335   714.1                               Rheumatoid arthritis   \n",
       "336   714.1                               Rheumatoid arthritis   \n",
       "392   743.9  Osteopenia or other disorder of bone and carti...   \n",
       "393   743.9  Osteopenia or other disorder of bone and carti...   \n",
       "\n",
       "       phecode_category icd10                          efo  \\\n",
       "143  circulatory system   I21  acute myocardial infarction   \n",
       "148  circulatory system   I25      coronary artery disease   \n",
       "149  circulatory system   I25      coronary artery disease   \n",
       "289           digestive   K90       malabsorption syndrome   \n",
       "329     musculoskeletal   M06         rheumatoid arthritis   \n",
       "330     musculoskeletal   M06         rheumatoid arthritis   \n",
       "331     musculoskeletal   M06         rheumatoid arthritis   \n",
       "332     musculoskeletal   M06         rheumatoid arthritis   \n",
       "333     musculoskeletal   M05         rheumatoid arthritis   \n",
       "334     musculoskeletal   M05         rheumatoid arthritis   \n",
       "335     musculoskeletal   M05         rheumatoid arthritis   \n",
       "336     musculoskeletal   M05         rheumatoid arthritis   \n",
       "392     musculoskeletal   M85                 bone density   \n",
       "393     musculoskeletal   M85                 bone density   \n",
       "\n",
       "                                           phenomexcan  \n",
       "143  I21-Diagnoses_main_ICD10_I21_Acute_myocardial_...  \n",
       "148                        CARDIoGRAM_C4D_CAD_ADDITIVE  \n",
       "149  I25-Diagnoses_main_ICD10_I25_Chronic_ischaemic...  \n",
       "289  K90-Diagnoses_main_ICD10_K90_Intestinal_malabs...  \n",
       "329  M05-Diagnoses_main_ICD10_M05_Seropositive_rheu...  \n",
       "330  20002_1464-Noncancer_illness_code_selfreported...  \n",
       "331  M06-Diagnoses_main_ICD10_M06_Other_rheumatoid_...  \n",
       "332                              RA_OKADA_TRANS_ETHNIC  \n",
       "333  M05-Diagnoses_main_ICD10_M05_Seropositive_rheu...  \n",
       "334  20002_1464-Noncancer_illness_code_selfreported...  \n",
       "335  M06-Diagnoses_main_ICD10_M06_Other_rheumatoid_...  \n",
       "336                              RA_OKADA_TRANS_ETHNIC  \n",
       "392  M85-Diagnoses_main_ICD10_M85_Other_disorders_o...  \n",
       "393                                      GEFOS_Forearm  "
      ]
     },
     "execution_count": 42,
     "metadata": {},
     "output_type": "execute_result"
    }
   ],
   "source": [
    "gls_phenomexcan_in_emerge"
   ]
  },
  {
   "cell_type": "code",
   "execution_count": 43,
   "id": "hidden-stream",
   "metadata": {
    "execution": {
     "iopub.execute_input": "2021-05-15T23:04:29.614463Z",
     "iopub.status.busy": "2021-05-15T23:04:29.614110Z",
     "iopub.status.idle": "2021-05-15T23:04:29.624578Z",
     "shell.execute_reply": "2021-05-15T23:04:29.624216Z"
    },
    "papermill": {
     "duration": 0.043067,
     "end_time": "2021-05-15T23:04:29.624662",
     "exception": false,
     "start_time": "2021-05-15T23:04:29.581595",
     "status": "completed"
    },
    "tags": []
   },
   "outputs": [],
   "source": [
    "gls_emerge_phecodes = gls_phenomexcan_in_emerge[\"phecode\"].unique().tolist()"
   ]
  },
  {
   "cell_type": "code",
   "execution_count": 44,
   "id": "guided-galaxy",
   "metadata": {
    "execution": {
     "iopub.execute_input": "2021-05-15T23:04:29.688753Z",
     "iopub.status.busy": "2021-05-15T23:04:29.688368Z",
     "iopub.status.idle": "2021-05-15T23:04:29.699425Z",
     "shell.execute_reply": "2021-05-15T23:04:29.699719Z"
    },
    "papermill": {
     "duration": 0.043814,
     "end_time": "2021-05-15T23:04:29.699822",
     "exception": false,
     "start_time": "2021-05-15T23:04:29.656008",
     "status": "completed"
    },
    "tags": []
   },
   "outputs": [
    {
     "data": {
      "text/plain": [
       "['411.2', '577', '714', '714.1', '743.9']"
      ]
     },
     "execution_count": 44,
     "metadata": {},
     "output_type": "execute_result"
    }
   ],
   "source": [
    "# these are the mapped traits from PhenomeXcan to phecodes\n",
    "gls_emerge_phecodes"
   ]
  },
  {
   "cell_type": "markdown",
   "id": "great-president",
   "metadata": {
    "papermill": {
     "duration": 0.030623,
     "end_time": "2021-05-15T23:04:29.842950",
     "exception": false,
     "start_time": "2021-05-15T23:04:29.812327",
     "status": "completed"
    },
    "tags": []
   },
   "source": [
    "# GLSPhenoplier"
   ]
  },
  {
   "cell_type": "markdown",
   "id": "requested-portal",
   "metadata": {
    "papermill": {
     "duration": 0.030073,
     "end_time": "2021-05-15T23:04:29.903473",
     "exception": false,
     "start_time": "2021-05-15T23:04:29.873400",
     "status": "completed"
    },
    "tags": []
   },
   "source": [
    "## Get list of phenotypes/lvs pairs"
   ]
  },
  {
   "cell_type": "code",
   "execution_count": 46,
   "id": "preliminary-muslim",
   "metadata": {
    "execution": {
     "iopub.execute_input": "2021-05-15T23:04:29.968049Z",
     "iopub.status.busy": "2021-05-15T23:04:29.967678Z",
     "iopub.status.idle": "2021-05-15T23:04:30.390152Z",
     "shell.execute_reply": "2021-05-15T23:04:30.389833Z"
    },
    "papermill": {
     "duration": 0.455922,
     "end_time": "2021-05-15T23:04:30.390243",
     "exception": false,
     "start_time": "2021-05-15T23:04:29.934321",
     "status": "completed"
    },
    "tags": []
   },
   "outputs": [],
   "source": [
    "phenotypes_lvs_pairs = []\n",
    "\n",
    "# for each LV that was run on PhenomeXcan, I take the top `N_TOP_TRAITS_FROM_LV` traits\n",
    "# in eMERGE + global mapped phenotypes (variable `gls_emerge_phecodes`)\n",
    "for lv in gls_phenomexcan_lvs:\n",
    "    lv_traits = emerge_projection.loc[lv]\n",
    "    lv_traits = lv_traits[lv_traits > 0.0]\n",
    "    lv_traits = lv_traits.sort_values(ascending=False).head(N_TOP_TRAITS_FROM_LV)\n",
    "\n",
    "    for phenotype_code in set(lv_traits.index.tolist() + gls_emerge_phecodes):\n",
    "        phenotypes_lvs_pairs.append(\n",
    "            {\n",
    "                \"phenotype\": phenotype_code,\n",
    "                \"lv\": lv,\n",
    "            }\n",
    "        )\n",
    "\n",
    "phenotypes_lvs_pairs = pd.DataFrame(phenotypes_lvs_pairs).drop_duplicates()"
   ]
  },
  {
   "cell_type": "code",
   "execution_count": 47,
   "id": "clean-explorer",
   "metadata": {
    "execution": {
     "iopub.execute_input": "2021-05-15T23:04:30.456188Z",
     "iopub.status.busy": "2021-05-15T23:04:30.455831Z",
     "iopub.status.idle": "2021-05-15T23:04:30.468942Z",
     "shell.execute_reply": "2021-05-15T23:04:30.468531Z"
    },
    "papermill": {
     "duration": 0.046872,
     "end_time": "2021-05-15T23:04:30.469027",
     "exception": false,
     "start_time": "2021-05-15T23:04:30.422155",
     "status": "completed"
    },
    "tags": []
   },
   "outputs": [],
   "source": [
    "phenotypes_lvs_pairs = phenotypes_lvs_pairs.sort_values(\"phenotype\").reset_index(\n",
    "    drop=True\n",
    ")"
   ]
  },
  {
   "cell_type": "code",
   "execution_count": 48,
   "id": "working-store",
   "metadata": {
    "execution": {
     "iopub.execute_input": "2021-05-15T23:04:30.533169Z",
     "iopub.status.busy": "2021-05-15T23:04:30.532799Z",
     "iopub.status.idle": "2021-05-15T23:04:30.544228Z",
     "shell.execute_reply": "2021-05-15T23:04:30.543813Z"
    },
    "papermill": {
     "duration": 0.04423,
     "end_time": "2021-05-15T23:04:30.544312",
     "exception": false,
     "start_time": "2021-05-15T23:04:30.500082",
     "status": "completed"
    },
    "tags": []
   },
   "outputs": [
    {
     "data": {
      "text/plain": [
       "(4670, 2)"
      ]
     },
     "execution_count": 48,
     "metadata": {},
     "output_type": "execute_result"
    }
   ],
   "source": [
    "phenotypes_lvs_pairs.shape"
   ]
  },
  {
   "cell_type": "code",
   "execution_count": 49,
   "id": "respected-valve",
   "metadata": {
    "execution": {
     "iopub.execute_input": "2021-05-15T23:04:30.608649Z",
     "iopub.status.busy": "2021-05-15T23:04:30.608290Z",
     "iopub.status.idle": "2021-05-15T23:04:30.621859Z",
     "shell.execute_reply": "2021-05-15T23:04:30.621488Z"
    },
    "papermill": {
     "duration": 0.046519,
     "end_time": "2021-05-15T23:04:30.621944",
     "exception": false,
     "start_time": "2021-05-15T23:04:30.575425",
     "status": "completed"
    },
    "tags": []
   },
   "outputs": [
    {
     "data": {
      "text/html": [
       "<div>\n",
       "<style scoped>\n",
       "    .dataframe tbody tr th:only-of-type {\n",
       "        vertical-align: middle;\n",
       "    }\n",
       "\n",
       "    .dataframe tbody tr th {\n",
       "        vertical-align: top;\n",
       "    }\n",
       "\n",
       "    .dataframe thead th {\n",
       "        text-align: right;\n",
       "    }\n",
       "</style>\n",
       "<table border=\"1\" class=\"dataframe\">\n",
       "  <thead>\n",
       "    <tr style=\"text-align: right;\">\n",
       "      <th></th>\n",
       "      <th>phenotype</th>\n",
       "      <th>lv</th>\n",
       "    </tr>\n",
       "  </thead>\n",
       "  <tbody>\n",
       "    <tr>\n",
       "      <th>0</th>\n",
       "      <td>008</td>\n",
       "      <td>LV631</td>\n",
       "    </tr>\n",
       "    <tr>\n",
       "      <th>1</th>\n",
       "      <td>008</td>\n",
       "      <td>LV18</td>\n",
       "    </tr>\n",
       "    <tr>\n",
       "      <th>2</th>\n",
       "      <td>008</td>\n",
       "      <td>LV906</td>\n",
       "    </tr>\n",
       "    <tr>\n",
       "      <th>3</th>\n",
       "      <td>008</td>\n",
       "      <td>LV650</td>\n",
       "    </tr>\n",
       "    <tr>\n",
       "      <th>4</th>\n",
       "      <td>008</td>\n",
       "      <td>LV514</td>\n",
       "    </tr>\n",
       "  </tbody>\n",
       "</table>\n",
       "</div>"
      ],
      "text/plain": [
       "  phenotype     lv\n",
       "0       008  LV631\n",
       "1       008   LV18\n",
       "2       008  LV906\n",
       "3       008  LV650\n",
       "4       008  LV514"
      ]
     },
     "execution_count": 49,
     "metadata": {},
     "output_type": "execute_result"
    }
   ],
   "source": [
    "phenotypes_lvs_pairs.head()"
   ]
  },
  {
   "cell_type": "markdown",
   "id": "romance-syndicate",
   "metadata": {
    "papermill": {
     "duration": 0.030971,
     "end_time": "2021-05-15T23:04:30.684969",
     "exception": false,
     "start_time": "2021-05-15T23:04:30.653998",
     "status": "completed"
    },
    "tags": []
   },
   "source": [
    "## Run"
   ]
  },
  {
   "cell_type": "code",
   "execution_count": 50,
   "id": "artificial-creator",
   "metadata": {
    "execution": {
     "iopub.execute_input": "2021-05-15T23:04:30.751886Z",
     "iopub.status.busy": "2021-05-15T23:04:30.751487Z",
     "iopub.status.idle": "2021-05-15T23:04:30.763488Z",
     "shell.execute_reply": "2021-05-15T23:04:30.763120Z"
    },
    "papermill": {
     "duration": 0.047867,
     "end_time": "2021-05-15T23:04:30.763578",
     "exception": false,
     "start_time": "2021-05-15T23:04:30.715711",
     "status": "completed"
    },
    "tags": []
   },
   "outputs": [
    {
     "data": {
      "text/plain": [
       "PosixPath('/home/miltondp/projects/labs/greenelab/phenoplier/base/results/gls/gls_phenotypes-emerge.pkl')"
      ]
     },
     "metadata": {},
     "output_type": "display_data"
    }
   ],
   "source": [
    "output_file = OUTPUT_DIR / \"gls_phenotypes-emerge.pkl\"\n",
    "display(output_file)"
   ]
  },
  {
   "cell_type": "code",
   "execution_count": 51,
   "id": "valid-combining",
   "metadata": {
    "execution": {
     "iopub.execute_input": "2021-05-15T23:04:30.832732Z",
     "iopub.status.busy": "2021-05-15T23:04:30.832332Z",
     "iopub.status.idle": "2021-05-16T11:08:17.319660Z",
     "shell.execute_reply": "2021-05-16T11:08:17.319951Z"
    },
    "papermill": {
     "duration": 43426.522866,
     "end_time": "2021-05-16T11:08:17.320061",
     "exception": false,
     "start_time": "2021-05-15T23:04:30.797195",
     "status": "completed"
    },
    "tags": []
   },
   "outputs": [
    {
     "name": "stderr",
     "output_type": "stream",
     "text": [
      "796 - LV913: 100%|██████████| 4670/4670 [12:03:46<00:00,  9.30s/it]\n"
     ]
    }
   ],
   "source": [
    "results = []\n",
    "\n",
    "pbar = tqdm(total=phenotypes_lvs_pairs.shape[0])\n",
    "\n",
    "for idx, row in phenotypes_lvs_pairs.iterrows():\n",
    "    phenotype_code = row[\"phenotype\"]\n",
    "    lv_code = row[\"lv\"]\n",
    "\n",
    "    pbar.set_description(f\"{phenotype_code} - {lv_code}\")\n",
    "\n",
    "    gls_model = GLSPhenoplier(\n",
    "        smultixcan_result_set_filepath=emerge_smultixcan_zscores_filepath\n",
    "    )\n",
    "    gls_model.fit_named(lv_code, phenotype_code)\n",
    "    res = gls_model.results\n",
    "\n",
    "    results.append(\n",
    "        {\n",
    "            \"phenotype\": phenotype_code,\n",
    "            \"lv\": lv_code,\n",
    "            \"lv_with_pathway\": lv_code in well_aligned_lv_codes,\n",
    "            \"coef\": res.params.loc[\"lv\"],\n",
    "            \"pvalue\": res.pvalues.loc[\"lv\"],\n",
    "            \"summary\": gls_model.results_summary,\n",
    "        }\n",
    "    )\n",
    "\n",
    "    # save results every 10 models trained\n",
    "    if (idx % 10) == 0:\n",
    "        pd.DataFrame(results).to_pickle(output_file)\n",
    "\n",
    "    pbar.update(1)\n",
    "\n",
    "pbar.close()"
   ]
  },
  {
   "cell_type": "code",
   "execution_count": 52,
   "id": "dense-deputy",
   "metadata": {
    "execution": {
     "iopub.execute_input": "2021-05-16T11:08:20.248328Z",
     "iopub.status.busy": "2021-05-16T11:08:20.247933Z",
     "iopub.status.idle": "2021-05-16T11:08:20.268814Z",
     "shell.execute_reply": "2021-05-16T11:08:20.269161Z"
    },
    "papermill": {
     "duration": 1.488605,
     "end_time": "2021-05-16T11:08:20.269292",
     "exception": false,
     "start_time": "2021-05-16T11:08:18.780687",
     "status": "completed"
    },
    "tags": []
   },
   "outputs": [],
   "source": [
    "results = pd.DataFrame(results)"
   ]
  },
  {
   "cell_type": "code",
   "execution_count": 53,
   "id": "acknowledged-hampshire",
   "metadata": {
    "execution": {
     "iopub.execute_input": "2021-05-16T11:08:23.240704Z",
     "iopub.status.busy": "2021-05-16T11:08:23.240316Z",
     "iopub.status.idle": "2021-05-16T11:08:23.251950Z",
     "shell.execute_reply": "2021-05-16T11:08:23.252251Z"
    },
    "papermill": {
     "duration": 1.494176,
     "end_time": "2021-05-16T11:08:23.252364",
     "exception": false,
     "start_time": "2021-05-16T11:08:21.758188",
     "status": "completed"
    },
    "tags": []
   },
   "outputs": [
    {
     "data": {
      "text/plain": [
       "(4670, 6)"
      ]
     },
     "execution_count": 53,
     "metadata": {},
     "output_type": "execute_result"
    }
   ],
   "source": [
    "results.shape"
   ]
  },
  {
   "cell_type": "code",
   "execution_count": 54,
   "id": "particular-letter",
   "metadata": {
    "execution": {
     "iopub.execute_input": "2021-05-16T11:08:26.211893Z",
     "iopub.status.busy": "2021-05-16T11:08:26.211495Z",
     "iopub.status.idle": "2021-05-16T11:08:26.245246Z",
     "shell.execute_reply": "2021-05-16T11:08:26.244862Z"
    },
    "papermill": {
     "duration": 1.508873,
     "end_time": "2021-05-16T11:08:26.245333",
     "exception": false,
     "start_time": "2021-05-16T11:08:24.736460",
     "status": "completed"
    },
    "tags": []
   },
   "outputs": [
    {
     "data": {
      "text/html": [
       "<div>\n",
       "<style scoped>\n",
       "    .dataframe tbody tr th:only-of-type {\n",
       "        vertical-align: middle;\n",
       "    }\n",
       "\n",
       "    .dataframe tbody tr th {\n",
       "        vertical-align: top;\n",
       "    }\n",
       "\n",
       "    .dataframe thead th {\n",
       "        text-align: right;\n",
       "    }\n",
       "</style>\n",
       "<table border=\"1\" class=\"dataframe\">\n",
       "  <thead>\n",
       "    <tr style=\"text-align: right;\">\n",
       "      <th></th>\n",
       "      <th>phenotype</th>\n",
       "      <th>lv</th>\n",
       "      <th>lv_with_pathway</th>\n",
       "      <th>coef</th>\n",
       "      <th>pvalue</th>\n",
       "      <th>summary</th>\n",
       "    </tr>\n",
       "  </thead>\n",
       "  <tbody>\n",
       "    <tr>\n",
       "      <th>0</th>\n",
       "      <td>008</td>\n",
       "      <td>LV631</td>\n",
       "      <td>False</td>\n",
       "      <td>0.016437</td>\n",
       "      <td>0.173600</td>\n",
       "      <td>GLS Regression Res...</td>\n",
       "    </tr>\n",
       "    <tr>\n",
       "      <th>1</th>\n",
       "      <td>008</td>\n",
       "      <td>LV18</td>\n",
       "      <td>True</td>\n",
       "      <td>0.024829</td>\n",
       "      <td>0.043225</td>\n",
       "      <td>GLS Regression Res...</td>\n",
       "    </tr>\n",
       "    <tr>\n",
       "      <th>2</th>\n",
       "      <td>008</td>\n",
       "      <td>LV906</td>\n",
       "      <td>False</td>\n",
       "      <td>0.052092</td>\n",
       "      <td>0.000005</td>\n",
       "      <td>GLS Regression Res...</td>\n",
       "    </tr>\n",
       "    <tr>\n",
       "      <th>3</th>\n",
       "      <td>008</td>\n",
       "      <td>LV650</td>\n",
       "      <td>False</td>\n",
       "      <td>0.026647</td>\n",
       "      <td>0.035321</td>\n",
       "      <td>GLS Regression Res...</td>\n",
       "    </tr>\n",
       "    <tr>\n",
       "      <th>4</th>\n",
       "      <td>008</td>\n",
       "      <td>LV514</td>\n",
       "      <td>False</td>\n",
       "      <td>0.027276</td>\n",
       "      <td>0.031988</td>\n",
       "      <td>GLS Regression Res...</td>\n",
       "    </tr>\n",
       "  </tbody>\n",
       "</table>\n",
       "</div>"
      ],
      "text/plain": [
       "  phenotype     lv  lv_with_pathway      coef    pvalue  \\\n",
       "0       008  LV631            False  0.016437  0.173600   \n",
       "1       008   LV18             True  0.024829  0.043225   \n",
       "2       008  LV906            False  0.052092  0.000005   \n",
       "3       008  LV650            False  0.026647  0.035321   \n",
       "4       008  LV514            False  0.027276  0.031988   \n",
       "\n",
       "                                             summary  \n",
       "0                              GLS Regression Res...  \n",
       "1                              GLS Regression Res...  \n",
       "2                              GLS Regression Res...  \n",
       "3                              GLS Regression Res...  \n",
       "4                              GLS Regression Res...  "
      ]
     },
     "execution_count": 54,
     "metadata": {},
     "output_type": "execute_result"
    }
   ],
   "source": [
    "results.head()"
   ]
  },
  {
   "cell_type": "code",
   "execution_count": 55,
   "id": "objective-compensation",
   "metadata": {
    "execution": {
     "iopub.execute_input": "2021-05-16T11:08:29.316911Z",
     "iopub.status.busy": "2021-05-16T11:08:29.316499Z",
     "iopub.status.idle": "2021-05-16T11:08:29.367841Z",
     "shell.execute_reply": "2021-05-16T11:08:29.367482Z"
    },
    "papermill": {
     "duration": 1.544784,
     "end_time": "2021-05-16T11:08:29.367926",
     "exception": false,
     "start_time": "2021-05-16T11:08:27.823142",
     "status": "completed"
    },
    "tags": []
   },
   "outputs": [
    {
     "data": {
      "text/html": [
       "<div>\n",
       "<style scoped>\n",
       "    .dataframe tbody tr th:only-of-type {\n",
       "        vertical-align: middle;\n",
       "    }\n",
       "\n",
       "    .dataframe tbody tr th {\n",
       "        vertical-align: top;\n",
       "    }\n",
       "\n",
       "    .dataframe thead th {\n",
       "        text-align: right;\n",
       "    }\n",
       "</style>\n",
       "<table border=\"1\" class=\"dataframe\">\n",
       "  <thead>\n",
       "    <tr style=\"text-align: right;\">\n",
       "      <th></th>\n",
       "      <th>phenotype</th>\n",
       "      <th>lv</th>\n",
       "      <th>lv_with_pathway</th>\n",
       "      <th>coef</th>\n",
       "      <th>pvalue</th>\n",
       "      <th>summary</th>\n",
       "    </tr>\n",
       "  </thead>\n",
       "  <tbody>\n",
       "    <tr>\n",
       "      <th>440</th>\n",
       "      <td>250.1</td>\n",
       "      <td>LV54</td>\n",
       "      <td>False</td>\n",
       "      <td>0.105369</td>\n",
       "      <td>4.369361e-17</td>\n",
       "      <td>GLS Regression Res...</td>\n",
       "    </tr>\n",
       "    <tr>\n",
       "      <th>3494</th>\n",
       "      <td>585.32</td>\n",
       "      <td>LV45</td>\n",
       "      <td>True</td>\n",
       "      <td>0.101602</td>\n",
       "      <td>8.892851e-16</td>\n",
       "      <td>GLS Regression Res...</td>\n",
       "    </tr>\n",
       "    <tr>\n",
       "      <th>446</th>\n",
       "      <td>250.1</td>\n",
       "      <td>LV425</td>\n",
       "      <td>False</td>\n",
       "      <td>0.093755</td>\n",
       "      <td>4.106841e-14</td>\n",
       "      <td>GLS Regression Res...</td>\n",
       "    </tr>\n",
       "    <tr>\n",
       "      <th>2483</th>\n",
       "      <td>443</td>\n",
       "      <td>LV45</td>\n",
       "      <td>True</td>\n",
       "      <td>0.091128</td>\n",
       "      <td>5.454329e-13</td>\n",
       "      <td>GLS Regression Res...</td>\n",
       "    </tr>\n",
       "    <tr>\n",
       "      <th>390</th>\n",
       "      <td>244.4</td>\n",
       "      <td>LV57</td>\n",
       "      <td>True</td>\n",
       "      <td>0.089947</td>\n",
       "      <td>5.301912e-12</td>\n",
       "      <td>GLS Regression Res...</td>\n",
       "    </tr>\n",
       "    <tr>\n",
       "      <th>4177</th>\n",
       "      <td>714.1</td>\n",
       "      <td>LV425</td>\n",
       "      <td>False</td>\n",
       "      <td>0.086154</td>\n",
       "      <td>5.624855e-12</td>\n",
       "      <td>GLS Regression Res...</td>\n",
       "    </tr>\n",
       "    <tr>\n",
       "      <th>364</th>\n",
       "      <td>244</td>\n",
       "      <td>LV57</td>\n",
       "      <td>True</td>\n",
       "      <td>0.089541</td>\n",
       "      <td>5.949932e-12</td>\n",
       "      <td>GLS Regression Res...</td>\n",
       "    </tr>\n",
       "    <tr>\n",
       "      <th>699</th>\n",
       "      <td>274.1</td>\n",
       "      <td>LV45</td>\n",
       "      <td>True</td>\n",
       "      <td>0.085661</td>\n",
       "      <td>9.787409e-12</td>\n",
       "      <td>GLS Regression Res...</td>\n",
       "    </tr>\n",
       "    <tr>\n",
       "      <th>4192</th>\n",
       "      <td>714.1</td>\n",
       "      <td>LV844</td>\n",
       "      <td>True</td>\n",
       "      <td>0.088236</td>\n",
       "      <td>1.584024e-11</td>\n",
       "      <td>GLS Regression Res...</td>\n",
       "    </tr>\n",
       "    <tr>\n",
       "      <th>3493</th>\n",
       "      <td>585.32</td>\n",
       "      <td>LV847</td>\n",
       "      <td>True</td>\n",
       "      <td>0.085519</td>\n",
       "      <td>4.019723e-11</td>\n",
       "      <td>GLS Regression Res...</td>\n",
       "    </tr>\n",
       "  </tbody>\n",
       "</table>\n",
       "</div>"
      ],
      "text/plain": [
       "     phenotype     lv  lv_with_pathway      coef        pvalue  \\\n",
       "440      250.1   LV54            False  0.105369  4.369361e-17   \n",
       "3494    585.32   LV45             True  0.101602  8.892851e-16   \n",
       "446      250.1  LV425            False  0.093755  4.106841e-14   \n",
       "2483       443   LV45             True  0.091128  5.454329e-13   \n",
       "390      244.4   LV57             True  0.089947  5.301912e-12   \n",
       "4177     714.1  LV425            False  0.086154  5.624855e-12   \n",
       "364        244   LV57             True  0.089541  5.949932e-12   \n",
       "699      274.1   LV45             True  0.085661  9.787409e-12   \n",
       "4192     714.1  LV844             True  0.088236  1.584024e-11   \n",
       "3493    585.32  LV847             True  0.085519  4.019723e-11   \n",
       "\n",
       "                                                summary  \n",
       "440                               GLS Regression Res...  \n",
       "3494                              GLS Regression Res...  \n",
       "446                               GLS Regression Res...  \n",
       "2483                              GLS Regression Res...  \n",
       "390                               GLS Regression Res...  \n",
       "4177                              GLS Regression Res...  \n",
       "364                               GLS Regression Res...  \n",
       "699                               GLS Regression Res...  \n",
       "4192                              GLS Regression Res...  \n",
       "3493                              GLS Regression Res...  "
      ]
     },
     "execution_count": 55,
     "metadata": {},
     "output_type": "execute_result"
    }
   ],
   "source": [
    "results.sort_values(\"pvalue\").head(10)"
   ]
  },
  {
   "cell_type": "markdown",
   "id": "instant-venue",
   "metadata": {
    "papermill": {
     "duration": 1.473679,
     "end_time": "2021-05-16T11:08:32.310277",
     "exception": false,
     "start_time": "2021-05-16T11:08:30.836598",
     "status": "completed"
    },
    "tags": []
   },
   "source": [
    "## Save"
   ]
  },
  {
   "cell_type": "code",
   "execution_count": 56,
   "id": "organizational-commitment",
   "metadata": {
    "execution": {
     "iopub.execute_input": "2021-05-16T11:08:35.264192Z",
     "iopub.status.busy": "2021-05-16T11:08:35.263796Z",
     "iopub.status.idle": "2021-05-16T11:08:36.532058Z",
     "shell.execute_reply": "2021-05-16T11:08:36.530836Z"
    },
    "papermill": {
     "duration": 2.750453,
     "end_time": "2021-05-16T11:08:36.532391",
     "exception": false,
     "start_time": "2021-05-16T11:08:33.781938",
     "status": "completed"
    },
    "tags": []
   },
   "outputs": [],
   "source": [
    "results.to_pickle(output_file)"
   ]
  },
  {
   "cell_type": "code",
   "execution_count": null,
   "id": "restricted-composition",
   "metadata": {
    "papermill": {
     "duration": 1.561866,
     "end_time": "2021-05-16T11:08:39.566162",
     "exception": false,
     "start_time": "2021-05-16T11:08:38.004296",
     "status": "completed"
    },
    "tags": []
   },
   "outputs": [],
   "source": []
  }
 ],
 "metadata": {
  "jupytext": {
   "cell_metadata_filter": "all,-execution,-papermill,-trusted",
   "formats": "ipynb,py//py:percent"
  },
  "kernelspec": {
   "display_name": "Python 3",
   "language": "python",
   "name": "python3"
  },
  "language_info": {
   "codemirror_mode": {
    "name": "ipython",
    "version": 3
   },
   "file_extension": ".py",
   "mimetype": "text/x-python",
   "name": "python",
   "nbconvert_exporter": "python",
   "pygments_lexer": "ipython3",
   "version": "3.8.8"
  },
  "papermill": {
   "default_parameters": {},
   "duration": 43460.264743,
   "end_time": "2021-05-16T11:08:43.458989",
   "environment_variables": {},
   "exception": null,
   "input_path": "08_gsa_gls/35-gls_on_phenotypes-emerge.ipynb",
   "output_path": "08_gsa_gls/35-gls_on_phenotypes-emerge.run.ipynb",
   "parameters": {},
   "start_time": "2021-05-15T23:04:23.194246",
   "version": "2.2.2"
  }
 },
 "nbformat": 4,
 "nbformat_minor": 5
}
