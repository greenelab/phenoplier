{
 "cells": [
  {
   "cell_type": "markdown",
   "id": "ambient-rating",
   "metadata": {
    "papermill": {
     "duration": 0.022374,
     "end_time": "2021-03-10T00:10:54.143712",
     "exception": false,
     "start_time": "2021-03-10T00:10:54.121338",
     "status": "completed"
    },
    "tags": []
   },
   "source": [
    "# Description"
   ]
  },
  {
   "cell_type": "markdown",
   "id": "indie-bacon",
   "metadata": {
    "papermill": {
     "duration": 0.022374,
     "end_time": "2021-03-10T00:10:54.143712",
     "exception": false,
     "start_time": "2021-03-10T00:10:54.121338",
     "status": "completed"
    },
    "tags": []
   },
   "source": [
    "This notebook takes all results per cohort (PhenomeXcan and eMERGE), removes repeated runs, and adjust their pvalues."
   ]
  },
  {
   "cell_type": "markdown",
   "id": "optical-dublin",
   "metadata": {
    "papermill": {
     "duration": 0.022374,
     "end_time": "2021-03-10T00:10:54.143712",
     "exception": false,
     "start_time": "2021-03-10T00:10:54.121338",
     "status": "completed"
    },
    "tags": []
   },
   "source": [
    "# Environment variables"
   ]
  },
  {
   "cell_type": "code",
   "execution_count": null,
   "id": "complicated-power",
   "metadata": {
    "tags": []
   },
   "outputs": [],
   "source": [
    "%load_ext autoreload\n",
    "%autoreload 2"
   ]
  },
  {
   "cell_type": "code",
   "execution_count": null,
   "id": "sharing-vacuum",
   "metadata": {
    "tags": []
   },
   "outputs": [],
   "source": [
    "import conf"
   ]
  },
  {
   "cell_type": "code",
   "execution_count": null,
   "id": "educational-container",
   "metadata": {
    "papermill": {
     "duration": 0.038647,
     "end_time": "2021-03-10T00:10:54.205009",
     "exception": false,
     "start_time": "2021-03-10T00:10:54.166362",
     "status": "completed"
    },
    "tags": []
   },
   "outputs": [],
   "source": [
    "N_JOBS = conf.GENERAL[\"N_JOBS\"]\n",
    "display(N_JOBS)"
   ]
  },
  {
   "cell_type": "code",
   "execution_count": null,
   "id": "aware-identifier",
   "metadata": {
    "papermill": {
     "duration": 0.029926,
     "end_time": "2021-03-10T00:10:54.259533",
     "exception": false,
     "start_time": "2021-03-10T00:10:54.229607",
     "status": "completed"
    },
    "tags": []
   },
   "outputs": [],
   "source": [
    "%env MKL_NUM_THREADS=$N_JOBS\n",
    "%env OPEN_BLAS_NUM_THREADS=$N_JOBS\n",
    "%env NUMEXPR_NUM_THREADS=$N_JOBS\n",
    "%env OMP_NUM_THREADS=$N_JOBS"
   ]
  },
  {
   "cell_type": "markdown",
   "id": "ambient-fiction",
   "metadata": {
    "tags": []
   },
   "source": [
    "# Modules"
   ]
  },
  {
   "cell_type": "code",
   "execution_count": null,
   "id": "grand-cylinder",
   "metadata": {
    "tags": []
   },
   "outputs": [],
   "source": [
    "from pathlib import Path\n",
    "\n",
    "import statsmodels.api as sm\n",
    "from statsmodels.stats.multitest import multipletests\n",
    "import numpy as np\n",
    "import pandas as pd\n",
    "from sklearn.preprocessing import scale\n",
    "from tqdm import tqdm\n",
    "\n",
    "from gls import GLSPhenoplier"
   ]
  },
  {
   "cell_type": "markdown",
   "id": "conventional-bahamas",
   "metadata": {
    "tags": []
   },
   "source": [
    "# Settings"
   ]
  },
  {
   "cell_type": "code",
   "execution_count": null,
   "id": "based-education",
   "metadata": {
    "tags": []
   },
   "outputs": [],
   "source": [
    "OUTPUT_DIR = conf.RESULTS[\"GLS\"]\n",
    "display(OUTPUT_DIR)\n",
    "\n",
    "assert OUTPUT_DIR.exists()"
   ]
  },
  {
   "cell_type": "markdown",
   "id": "opposed-barbados",
   "metadata": {},
   "source": [
    "# Get results files"
   ]
  },
  {
   "cell_type": "code",
   "execution_count": null,
   "id": "celtic-retail",
   "metadata": {},
   "outputs": [],
   "source": [
    "INPUT_FILES_PER_COHORT = {\n",
    "    \"phenomexcan\": list(OUTPUT_DIR.glob(\"gls_phenotypes*phenomexcan*.pkl\")),\n",
    "    \"emerge\": list(OUTPUT_DIR.glob(\"gls_phenotypes*emerge*.pkl\")),\n",
    "}"
   ]
  },
  {
   "cell_type": "code",
   "execution_count": null,
   "id": "lyric-optics",
   "metadata": {},
   "outputs": [],
   "source": [
    "display(INPUT_FILES_PER_COHORT)"
   ]
  },
  {
   "cell_type": "markdown",
   "id": "retained-observer",
   "metadata": {
    "tags": []
   },
   "source": [
    "# Combine by cohort"
   ]
  },
  {
   "cell_type": "code",
   "execution_count": null,
   "id": "employed-technical",
   "metadata": {},
   "outputs": [],
   "source": [
    "for cohort, result_files in INPUT_FILES_PER_COHORT.items():\n",
    "    display(cohort)\n",
    "\n",
    "    dfs = []\n",
    "    for res in result_files:\n",
    "        dfs.append(pd.read_pickle(res))\n",
    "\n",
    "    dfs = pd.concat(dfs, ignore_index=True)\n",
    "\n",
    "    # remove duplicate runs\n",
    "    dfs = dfs.drop_duplicates(subset=[\"phenotype\", \"lv\"])\n",
    "\n",
    "    # adjust pvalues\n",
    "    adj_pval = multipletests(dfs[\"pvalue\"], alpha=0.05, method=\"fdr_bh\")\n",
    "    dfs = dfs.assign(fdr=adj_pval[1])\n",
    "\n",
    "    # drop unneeded columns\n",
    "    dfs = dfs.drop(columns=[\"lv_set\", \"lv_with_pathway\", \"summary\"])\n",
    "\n",
    "    output_file = OUTPUT_DIR / f\"gls_phenotypes-combined-{cohort}.pkl\"\n",
    "    display(output_file)\n",
    "\n",
    "    dfs.to_pickle(output_file)"
   ]
  },
  {
   "cell_type": "code",
   "execution_count": null,
   "id": "pharmaceutical-smell",
   "metadata": {
    "tags": []
   },
   "outputs": [],
   "source": []
  }
 ],
 "metadata": {
  "jupytext": {
   "cell_metadata_filter": "all,-execution,-papermill,-trusted",
   "formats": "ipynb,py//py:percent"
  },
  "kernelspec": {
   "display_name": "Python 3",
   "language": "python",
   "name": "python3"
  },
  "language_info": {
   "codemirror_mode": {
    "name": "ipython",
    "version": 3
   },
   "file_extension": ".py",
   "mimetype": "text/x-python",
   "name": "python",
   "nbconvert_exporter": "python",
   "pygments_lexer": "ipython3",
   "version": "3.8.8"
  }
 },
 "nbformat": 4,
 "nbformat_minor": 5
}
