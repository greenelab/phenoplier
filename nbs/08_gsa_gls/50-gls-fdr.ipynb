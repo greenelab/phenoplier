{
 "cells": [
  {
   "cell_type": "markdown",
   "id": "ambient-rating",
   "metadata": {
    "papermill": {
     "duration": 0.010197,
     "end_time": "2021-07-21T01:28:45.063416",
     "exception": false,
     "start_time": "2021-07-21T01:28:45.053219",
     "status": "completed"
    },
    "tags": []
   },
   "source": [
    "# Description"
   ]
  },
  {
   "cell_type": "markdown",
   "id": "indie-bacon",
   "metadata": {
    "papermill": {
     "duration": 0.005909,
     "end_time": "2021-07-21T01:28:45.075676",
     "exception": false,
     "start_time": "2021-07-21T01:28:45.069767",
     "status": "completed"
    },
    "tags": []
   },
   "source": [
    "This notebook takes all results per cohort (PhenomeXcan and eMERGE), removes repeated runs, and adjust their pvalues."
   ]
  },
  {
   "cell_type": "markdown",
   "id": "optical-dublin",
   "metadata": {
    "papermill": {
     "duration": 0.005797,
     "end_time": "2021-07-21T01:28:45.087285",
     "exception": false,
     "start_time": "2021-07-21T01:28:45.081488",
     "status": "completed"
    },
    "tags": []
   },
   "source": [
    "# Environment variables"
   ]
  },
  {
   "cell_type": "code",
   "execution_count": 1,
   "id": "complicated-power",
   "metadata": {
    "execution": {
     "iopub.execute_input": "2021-07-21T01:28:45.105943Z",
     "iopub.status.busy": "2021-07-21T01:28:45.105583Z",
     "iopub.status.idle": "2021-07-21T01:28:45.112590Z",
     "shell.execute_reply": "2021-07-21T01:28:45.112919Z"
    },
    "papermill": {
     "duration": 0.019809,
     "end_time": "2021-07-21T01:28:45.113094",
     "exception": false,
     "start_time": "2021-07-21T01:28:45.093285",
     "status": "completed"
    },
    "tags": []
   },
   "outputs": [],
   "source": [
    "%load_ext autoreload\n",
    "%autoreload 2"
   ]
  },
  {
   "cell_type": "code",
   "execution_count": 2,
   "id": "sharing-vacuum",
   "metadata": {
    "execution": {
     "iopub.execute_input": "2021-07-21T01:28:45.129063Z",
     "iopub.status.busy": "2021-07-21T01:28:45.128630Z",
     "iopub.status.idle": "2021-07-21T01:28:45.139213Z",
     "shell.execute_reply": "2021-07-21T01:28:45.139525Z"
    },
    "papermill": {
     "duration": 0.019867,
     "end_time": "2021-07-21T01:28:45.139639",
     "exception": false,
     "start_time": "2021-07-21T01:28:45.119772",
     "status": "completed"
    },
    "tags": []
   },
   "outputs": [],
   "source": [
    "import conf"
   ]
  },
  {
   "cell_type": "code",
   "execution_count": 3,
   "id": "educational-container",
   "metadata": {
    "execution": {
     "iopub.execute_input": "2021-07-21T01:28:45.155147Z",
     "iopub.status.busy": "2021-07-21T01:28:45.154768Z",
     "iopub.status.idle": "2021-07-21T01:28:45.165181Z",
     "shell.execute_reply": "2021-07-21T01:28:45.164800Z"
    },
    "papermill": {
     "duration": 0.018781,
     "end_time": "2021-07-21T01:28:45.165264",
     "exception": false,
     "start_time": "2021-07-21T01:28:45.146483",
     "status": "completed"
    },
    "tags": []
   },
   "outputs": [
    {
     "data": {
      "text/plain": [
       "3"
      ]
     },
     "metadata": {},
     "output_type": "display_data"
    }
   ],
   "source": [
    "N_JOBS = conf.GENERAL[\"N_JOBS\"]\n",
    "display(N_JOBS)"
   ]
  },
  {
   "cell_type": "code",
   "execution_count": 4,
   "id": "aware-identifier",
   "metadata": {
    "execution": {
     "iopub.execute_input": "2021-07-21T01:28:45.182079Z",
     "iopub.status.busy": "2021-07-21T01:28:45.181701Z",
     "iopub.status.idle": "2021-07-21T01:28:45.188271Z",
     "shell.execute_reply": "2021-07-21T01:28:45.187856Z"
    },
    "papermill": {
     "duration": 0.01634,
     "end_time": "2021-07-21T01:28:45.188368",
     "exception": false,
     "start_time": "2021-07-21T01:28:45.172028",
     "status": "completed"
    },
    "tags": []
   },
   "outputs": [
    {
     "name": "stdout",
     "output_type": "stream",
     "text": [
      "env: MKL_NUM_THREADS=3\n",
      "env: OPEN_BLAS_NUM_THREADS=3\n",
      "env: NUMEXPR_NUM_THREADS=3\n",
      "env: OMP_NUM_THREADS=3\n"
     ]
    }
   ],
   "source": [
    "%env MKL_NUM_THREADS=$N_JOBS\n",
    "%env OPEN_BLAS_NUM_THREADS=$N_JOBS\n",
    "%env NUMEXPR_NUM_THREADS=$N_JOBS\n",
    "%env OMP_NUM_THREADS=$N_JOBS"
   ]
  },
  {
   "cell_type": "markdown",
   "id": "ambient-fiction",
   "metadata": {
    "papermill": {
     "duration": 0.008342,
     "end_time": "2021-07-21T01:28:45.204632",
     "exception": false,
     "start_time": "2021-07-21T01:28:45.196290",
     "status": "completed"
    },
    "tags": []
   },
   "source": [
    "# Modules"
   ]
  },
  {
   "cell_type": "code",
   "execution_count": 5,
   "id": "grand-cylinder",
   "metadata": {
    "execution": {
     "iopub.execute_input": "2021-07-21T01:28:45.223929Z",
     "iopub.status.busy": "2021-07-21T01:28:45.223495Z",
     "iopub.status.idle": "2021-07-21T01:28:45.973673Z",
     "shell.execute_reply": "2021-07-21T01:28:45.973989Z"
    },
    "papermill": {
     "duration": 0.761021,
     "end_time": "2021-07-21T01:28:45.974107",
     "exception": false,
     "start_time": "2021-07-21T01:28:45.213086",
     "status": "completed"
    },
    "tags": []
   },
   "outputs": [],
   "source": [
    "from pathlib import Path\n",
    "\n",
    "import statsmodels.api as sm\n",
    "from statsmodels.stats.multitest import multipletests\n",
    "import numpy as np\n",
    "import pandas as pd\n",
    "from sklearn.preprocessing import scale\n",
    "from tqdm import tqdm\n",
    "\n",
    "from gls import GLSPhenoplier"
   ]
  },
  {
   "cell_type": "markdown",
   "id": "conventional-bahamas",
   "metadata": {
    "papermill": {
     "duration": 0.006692,
     "end_time": "2021-07-21T01:28:45.988223",
     "exception": false,
     "start_time": "2021-07-21T01:28:45.981531",
     "status": "completed"
    },
    "tags": []
   },
   "source": [
    "# Settings"
   ]
  },
  {
   "cell_type": "code",
   "execution_count": 6,
   "id": "based-education",
   "metadata": {
    "execution": {
     "iopub.execute_input": "2021-07-21T01:28:46.003667Z",
     "iopub.status.busy": "2021-07-21T01:28:46.003305Z",
     "iopub.status.idle": "2021-07-21T01:28:46.014829Z",
     "shell.execute_reply": "2021-07-21T01:28:46.014518Z"
    },
    "papermill": {
     "duration": 0.020175,
     "end_time": "2021-07-21T01:28:46.014916",
     "exception": false,
     "start_time": "2021-07-21T01:28:45.994741",
     "status": "completed"
    },
    "tags": []
   },
   "outputs": [
    {
     "data": {
      "text/plain": [
       "PosixPath('/home/miltondp/projects/labs/greenelab/phenoplier/base/results/gls')"
      ]
     },
     "metadata": {},
     "output_type": "display_data"
    }
   ],
   "source": [
    "OUTPUT_DIR = conf.RESULTS[\"GLS\"]\n",
    "display(OUTPUT_DIR)\n",
    "\n",
    "assert OUTPUT_DIR.exists()"
   ]
  },
  {
   "cell_type": "markdown",
   "id": "opposed-barbados",
   "metadata": {
    "papermill": {
     "duration": 0.006822,
     "end_time": "2021-07-21T01:28:46.028820",
     "exception": false,
     "start_time": "2021-07-21T01:28:46.021998",
     "status": "completed"
    },
    "tags": []
   },
   "source": [
    "# Get results files"
   ]
  },
  {
   "cell_type": "code",
   "execution_count": 7,
   "id": "celtic-retail",
   "metadata": {
    "execution": {
     "iopub.execute_input": "2021-07-21T01:28:46.044629Z",
     "iopub.status.busy": "2021-07-21T01:28:46.044266Z",
     "iopub.status.idle": "2021-07-21T01:28:46.054916Z",
     "shell.execute_reply": "2021-07-21T01:28:46.055211Z"
    },
    "papermill": {
     "duration": 0.019674,
     "end_time": "2021-07-21T01:28:46.055318",
     "exception": false,
     "start_time": "2021-07-21T01:28:46.035644",
     "status": "completed"
    },
    "tags": []
   },
   "outputs": [],
   "source": [
    "INPUT_FILES_PER_COHORT = {\n",
    "    \"phenomexcan\": list(OUTPUT_DIR.glob(\"gls_phenotypes*phenomexcan*.pkl\")),\n",
    "    \"emerge\": list(OUTPUT_DIR.glob(\"gls_phenotypes*emerge*.pkl\")),\n",
    "}"
   ]
  },
  {
   "cell_type": "code",
   "execution_count": 8,
   "id": "lyric-optics",
   "metadata": {
    "execution": {
     "iopub.execute_input": "2021-07-21T01:28:46.071497Z",
     "iopub.status.busy": "2021-07-21T01:28:46.071122Z",
     "iopub.status.idle": "2021-07-21T01:28:46.082560Z",
     "shell.execute_reply": "2021-07-21T01:28:46.082836Z"
    },
    "papermill": {
     "duration": 0.020532,
     "end_time": "2021-07-21T01:28:46.082939",
     "exception": false,
     "start_time": "2021-07-21T01:28:46.062407",
     "status": "completed"
    },
    "tags": []
   },
   "outputs": [
    {
     "data": {
      "text/plain": [
       "{'phenomexcan': [PosixPath('/home/miltondp/projects/labs/greenelab/phenoplier/base/results/gls/gls_phenotypes-combined-phenomexcan.pkl'),\n",
       "  PosixPath('/home/miltondp/projects/labs/greenelab/phenoplier/base/results/gls/gls_phenotypes-crispr_lvs-phenomexcan.pkl'),\n",
       "  PosixPath('/home/miltondp/projects/labs/greenelab/phenoplier/base/results/gls/gls_phenotypes-phenomexcan.pkl')],\n",
       " 'emerge': [PosixPath('/home/miltondp/projects/labs/greenelab/phenoplier/base/results/gls/gls_phenotypes-emerge.pkl')]}"
      ]
     },
     "metadata": {},
     "output_type": "display_data"
    }
   ],
   "source": [
    "display(INPUT_FILES_PER_COHORT)"
   ]
  },
  {
   "cell_type": "markdown",
   "id": "retained-observer",
   "metadata": {
    "papermill": {
     "duration": 0.007768,
     "end_time": "2021-07-21T01:28:46.098302",
     "exception": false,
     "start_time": "2021-07-21T01:28:46.090534",
     "status": "completed"
    },
    "tags": []
   },
   "source": [
    "# Combine by cohort"
   ]
  },
  {
   "cell_type": "code",
   "execution_count": 9,
   "id": "employed-technical",
   "metadata": {
    "execution": {
     "iopub.execute_input": "2021-07-21T01:28:46.117078Z",
     "iopub.status.busy": "2021-07-21T01:28:46.116641Z",
     "iopub.status.idle": "2021-07-21T01:28:55.199366Z",
     "shell.execute_reply": "2021-07-21T01:28:55.198699Z"
    },
    "papermill": {
     "duration": 9.093453,
     "end_time": "2021-07-21T01:28:55.199487",
     "exception": false,
     "start_time": "2021-07-21T01:28:46.106034",
     "status": "completed"
    },
    "tags": []
   },
   "outputs": [
    {
     "data": {
      "text/plain": [
       "'phenomexcan'"
      ]
     },
     "metadata": {},
     "output_type": "display_data"
    },
    {
     "data": {
      "text/plain": [
       "PosixPath('/home/miltondp/projects/labs/greenelab/phenoplier/base/results/gls/gls_phenotypes-combined-phenomexcan.pkl')"
      ]
     },
     "metadata": {},
     "output_type": "display_data"
    },
    {
     "data": {
      "text/plain": [
       "'emerge'"
      ]
     },
     "metadata": {},
     "output_type": "display_data"
    },
    {
     "data": {
      "text/plain": [
       "PosixPath('/home/miltondp/projects/labs/greenelab/phenoplier/base/results/gls/gls_phenotypes-combined-emerge.pkl')"
      ]
     },
     "metadata": {},
     "output_type": "display_data"
    }
   ],
   "source": [
    "for cohort, result_files in INPUT_FILES_PER_COHORT.items():\n",
    "    display(cohort)\n",
    "\n",
    "    dfs = []\n",
    "    for res in result_files:\n",
    "        dfs.append(pd.read_pickle(res))\n",
    "\n",
    "    dfs = pd.concat(dfs, ignore_index=True)\n",
    "\n",
    "    # remove duplicate runs\n",
    "    dfs = dfs.drop_duplicates(subset=[\"phenotype\", \"lv\"])\n",
    "\n",
    "    # adjust pvalues\n",
    "    adj_pval = multipletests(dfs[\"pvalue\"], alpha=0.05, method=\"fdr_bh\")\n",
    "    dfs = dfs.assign(fdr=adj_pval[1])\n",
    "\n",
    "    # drop unneeded columns\n",
    "    dfs = dfs.drop(columns=[\"lv_set\", \"lv_with_pathway\", \"summary\"], errors=\"ignore\")\n",
    "\n",
    "    output_file = OUTPUT_DIR / f\"gls_phenotypes-combined-{cohort}.pkl\"\n",
    "    display(output_file)\n",
    "\n",
    "    dfs.to_pickle(output_file)"
   ]
  },
  {
   "cell_type": "code",
   "execution_count": null,
   "id": "pharmaceutical-smell",
   "metadata": {
    "papermill": {
     "duration": 0.009986,
     "end_time": "2021-07-21T01:28:55.220038",
     "exception": false,
     "start_time": "2021-07-21T01:28:55.210052",
     "status": "completed"
    },
    "tags": []
   },
   "outputs": [],
   "source": []
  }
 ],
 "metadata": {
  "jupytext": {
   "cell_metadata_filter": "all,-execution,-papermill,-trusted",
   "formats": "ipynb,py//py:percent"
  },
  "kernelspec": {
   "display_name": "Python 3",
   "language": "python",
   "name": "python3"
  },
  "language_info": {
   "codemirror_mode": {
    "name": "ipython",
    "version": 3
   },
   "file_extension": ".py",
   "mimetype": "text/x-python",
   "name": "python",
   "nbconvert_exporter": "python",
   "pygments_lexer": "ipython3",
   "version": "3.8.8"
  },
  "papermill": {
   "default_parameters": {},
   "duration": 12.573783,
   "end_time": "2021-07-21T01:28:56.640852",
   "environment_variables": {},
   "exception": null,
   "input_path": "08_gsa_gls/50-gls-fdr.ipynb",
   "output_path": "08_gsa_gls/50-gls-fdr.run.ipynb",
   "parameters": {},
   "start_time": "2021-07-21T01:28:44.067069",
   "version": "2.2.2"
  }
 },
 "nbformat": 4,
 "nbformat_minor": 5
}
