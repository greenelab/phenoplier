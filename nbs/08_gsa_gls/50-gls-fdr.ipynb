{
 "cells": [
  {
   "cell_type": "markdown",
   "id": "ambient-rating",
   "metadata": {
    "papermill": {
     "duration": 0.025485,
     "end_time": "2021-07-15T15:32:09.552227",
     "exception": false,
     "start_time": "2021-07-15T15:32:09.526742",
     "status": "completed"
    },
    "tags": []
   },
   "source": [
    "# Description"
   ]
  },
  {
   "cell_type": "markdown",
   "id": "indie-bacon",
   "metadata": {
    "papermill": {
     "duration": 0.008809,
     "end_time": "2021-07-15T15:32:09.578527",
     "exception": false,
     "start_time": "2021-07-15T15:32:09.569718",
     "status": "completed"
    },
    "tags": []
   },
   "source": [
    "This notebook takes all results per cohort (PhenomeXcan and eMERGE), removes repeated runs, and adjust their pvalues."
   ]
  },
  {
   "cell_type": "markdown",
   "id": "optical-dublin",
   "metadata": {
    "papermill": {
     "duration": 0.005736,
     "end_time": "2021-07-15T15:32:09.591242",
     "exception": false,
     "start_time": "2021-07-15T15:32:09.585506",
     "status": "completed"
    },
    "tags": []
   },
   "source": [
    "# Environment variables"
   ]
  },
  {
   "cell_type": "code",
   "execution_count": 1,
   "id": "complicated-power",
   "metadata": {
    "execution": {
     "iopub.execute_input": "2021-07-15T15:32:09.607516Z",
     "iopub.status.busy": "2021-07-15T15:32:09.607155Z",
     "iopub.status.idle": "2021-07-15T15:32:09.614451Z",
     "shell.execute_reply": "2021-07-15T15:32:09.614742Z"
    },
    "papermill": {
     "duration": 0.018477,
     "end_time": "2021-07-15T15:32:09.614896",
     "exception": false,
     "start_time": "2021-07-15T15:32:09.596419",
     "status": "completed"
    },
    "tags": []
   },
   "outputs": [],
   "source": [
    "%load_ext autoreload\n",
    "%autoreload 2"
   ]
  },
  {
   "cell_type": "code",
   "execution_count": 2,
   "id": "sharing-vacuum",
   "metadata": {
    "execution": {
     "iopub.execute_input": "2021-07-15T15:32:09.629628Z",
     "iopub.status.busy": "2021-07-15T15:32:09.629267Z",
     "iopub.status.idle": "2021-07-15T15:32:09.638840Z",
     "shell.execute_reply": "2021-07-15T15:32:09.638517Z"
    },
    "papermill": {
     "duration": 0.017301,
     "end_time": "2021-07-15T15:32:09.638938",
     "exception": false,
     "start_time": "2021-07-15T15:32:09.621637",
     "status": "completed"
    },
    "tags": []
   },
   "outputs": [],
   "source": [
    "import conf"
   ]
  },
  {
   "cell_type": "code",
   "execution_count": 3,
   "id": "educational-container",
   "metadata": {
    "execution": {
     "iopub.execute_input": "2021-07-15T15:32:09.652659Z",
     "iopub.status.busy": "2021-07-15T15:32:09.652300Z",
     "iopub.status.idle": "2021-07-15T15:32:09.662646Z",
     "shell.execute_reply": "2021-07-15T15:32:09.662284Z"
    },
    "papermill": {
     "duration": 0.017942,
     "end_time": "2021-07-15T15:32:09.662764",
     "exception": false,
     "start_time": "2021-07-15T15:32:09.644822",
     "status": "completed"
    },
    "tags": []
   },
   "outputs": [
    {
     "data": {
      "text/plain": [
       "3"
      ]
     },
     "metadata": {},
     "output_type": "display_data"
    }
   ],
   "source": [
    "N_JOBS = conf.GENERAL[\"N_JOBS\"]\n",
    "display(N_JOBS)"
   ]
  },
  {
   "cell_type": "code",
   "execution_count": 4,
   "id": "aware-identifier",
   "metadata": {
    "execution": {
     "iopub.execute_input": "2021-07-15T15:32:09.678578Z",
     "iopub.status.busy": "2021-07-15T15:32:09.678225Z",
     "iopub.status.idle": "2021-07-15T15:32:09.684577Z",
     "shell.execute_reply": "2021-07-15T15:32:09.684224Z"
    },
    "papermill": {
     "duration": 0.015644,
     "end_time": "2021-07-15T15:32:09.684661",
     "exception": false,
     "start_time": "2021-07-15T15:32:09.669017",
     "status": "completed"
    },
    "tags": []
   },
   "outputs": [
    {
     "name": "stdout",
     "output_type": "stream",
     "text": [
      "env: MKL_NUM_THREADS=3\n",
      "env: OPEN_BLAS_NUM_THREADS=3\n",
      "env: NUMEXPR_NUM_THREADS=3\n",
      "env: OMP_NUM_THREADS=3\n"
     ]
    }
   ],
   "source": [
    "%env MKL_NUM_THREADS=$N_JOBS\n",
    "%env OPEN_BLAS_NUM_THREADS=$N_JOBS\n",
    "%env NUMEXPR_NUM_THREADS=$N_JOBS\n",
    "%env OMP_NUM_THREADS=$N_JOBS"
   ]
  },
  {
   "cell_type": "markdown",
   "id": "ambient-fiction",
   "metadata": {
    "papermill": {
     "duration": 0.005908,
     "end_time": "2021-07-15T15:32:09.696679",
     "exception": false,
     "start_time": "2021-07-15T15:32:09.690771",
     "status": "completed"
    },
    "tags": []
   },
   "source": [
    "# Modules"
   ]
  },
  {
   "cell_type": "code",
   "execution_count": 5,
   "id": "grand-cylinder",
   "metadata": {
    "execution": {
     "iopub.execute_input": "2021-07-15T15:32:09.711547Z",
     "iopub.status.busy": "2021-07-15T15:32:09.711183Z",
     "iopub.status.idle": "2021-07-15T15:32:10.462461Z",
     "shell.execute_reply": "2021-07-15T15:32:10.462042Z"
    },
    "papermill": {
     "duration": 0.759995,
     "end_time": "2021-07-15T15:32:10.462553",
     "exception": false,
     "start_time": "2021-07-15T15:32:09.702558",
     "status": "completed"
    },
    "tags": []
   },
   "outputs": [],
   "source": [
    "from pathlib import Path\n",
    "\n",
    "import statsmodels.api as sm\n",
    "from statsmodels.stats.multitest import multipletests\n",
    "import numpy as np\n",
    "import pandas as pd\n",
    "from sklearn.preprocessing import scale\n",
    "from tqdm import tqdm\n",
    "\n",
    "from gls import GLSPhenoplier"
   ]
  },
  {
   "cell_type": "markdown",
   "id": "conventional-bahamas",
   "metadata": {
    "papermill": {
     "duration": 0.006435,
     "end_time": "2021-07-15T15:32:10.475815",
     "exception": false,
     "start_time": "2021-07-15T15:32:10.469380",
     "status": "completed"
    },
    "tags": []
   },
   "source": [
    "# Settings"
   ]
  },
  {
   "cell_type": "code",
   "execution_count": 6,
   "id": "based-education",
   "metadata": {
    "execution": {
     "iopub.execute_input": "2021-07-15T15:32:10.490762Z",
     "iopub.status.busy": "2021-07-15T15:32:10.490388Z",
     "iopub.status.idle": "2021-07-15T15:32:10.501898Z",
     "shell.execute_reply": "2021-07-15T15:32:10.501555Z"
    },
    "papermill": {
     "duration": 0.019855,
     "end_time": "2021-07-15T15:32:10.501984",
     "exception": false,
     "start_time": "2021-07-15T15:32:10.482129",
     "status": "completed"
    },
    "tags": []
   },
   "outputs": [
    {
     "data": {
      "text/plain": [
       "PosixPath('/home/miltondp/projects/labs/greenelab/phenoplier/base/results/gls')"
      ]
     },
     "metadata": {},
     "output_type": "display_data"
    }
   ],
   "source": [
    "OUTPUT_DIR = conf.RESULTS[\"GLS\"]\n",
    "display(OUTPUT_DIR)\n",
    "\n",
    "assert OUTPUT_DIR.exists()"
   ]
  },
  {
   "cell_type": "markdown",
   "id": "opposed-barbados",
   "metadata": {
    "papermill": {
     "duration": 0.006583,
     "end_time": "2021-07-15T15:32:10.515425",
     "exception": false,
     "start_time": "2021-07-15T15:32:10.508842",
     "status": "completed"
    },
    "tags": []
   },
   "source": [
    "# Get results files"
   ]
  },
  {
   "cell_type": "code",
   "execution_count": 7,
   "id": "celtic-retail",
   "metadata": {
    "execution": {
     "iopub.execute_input": "2021-07-15T15:32:10.531590Z",
     "iopub.status.busy": "2021-07-15T15:32:10.531189Z",
     "iopub.status.idle": "2021-07-15T15:32:10.542745Z",
     "shell.execute_reply": "2021-07-15T15:32:10.543052Z"
    },
    "papermill": {
     "duration": 0.021018,
     "end_time": "2021-07-15T15:32:10.543167",
     "exception": false,
     "start_time": "2021-07-15T15:32:10.522149",
     "status": "completed"
    },
    "tags": []
   },
   "outputs": [],
   "source": [
    "INPUT_FILES_PER_COHORT = {\n",
    "    \"phenomexcan\": list(OUTPUT_DIR.glob(\"gls_phenotypes*phenomexcan*.pkl\")),\n",
    "    \"emerge\": list(OUTPUT_DIR.glob(\"gls_phenotypes*emerge*.pkl\")),\n",
    "}"
   ]
  },
  {
   "cell_type": "code",
   "execution_count": 8,
   "id": "lyric-optics",
   "metadata": {
    "execution": {
     "iopub.execute_input": "2021-07-15T15:32:10.560457Z",
     "iopub.status.busy": "2021-07-15T15:32:10.560049Z",
     "iopub.status.idle": "2021-07-15T15:32:10.572602Z",
     "shell.execute_reply": "2021-07-15T15:32:10.572224Z"
    },
    "papermill": {
     "duration": 0.021964,
     "end_time": "2021-07-15T15:32:10.572705",
     "exception": false,
     "start_time": "2021-07-15T15:32:10.550741",
     "status": "completed"
    },
    "tags": []
   },
   "outputs": [
    {
     "data": {
      "text/plain": [
       "{'phenomexcan': [PosixPath('/home/miltondp/projects/labs/greenelab/phenoplier/base/results/gls/gls_phenotypes-crispr_lvs-phenomexcan.pkl'),\n",
       "  PosixPath('/home/miltondp/projects/labs/greenelab/phenoplier/base/results/gls/gls_phenotypes-phenomexcan.pkl')],\n",
       " 'emerge': [PosixPath('/home/miltondp/projects/labs/greenelab/phenoplier/base/results/gls/gls_phenotypes-crispr_lvs-emerge.pkl'),\n",
       "  PosixPath('/home/miltondp/projects/labs/greenelab/phenoplier/base/results/gls/gls_phenotypes-emerge.pkl')]}"
      ]
     },
     "metadata": {},
     "output_type": "display_data"
    }
   ],
   "source": [
    "display(INPUT_FILES_PER_COHORT)"
   ]
  },
  {
   "cell_type": "markdown",
   "id": "retained-observer",
   "metadata": {
    "papermill": {
     "duration": 0.007782,
     "end_time": "2021-07-15T15:32:10.588290",
     "exception": false,
     "start_time": "2021-07-15T15:32:10.580508",
     "status": "completed"
    },
    "tags": []
   },
   "source": [
    "# Combine by cohort"
   ]
  },
  {
   "cell_type": "code",
   "execution_count": 9,
   "id": "employed-technical",
   "metadata": {
    "execution": {
     "iopub.execute_input": "2021-07-15T15:32:10.606888Z",
     "iopub.status.busy": "2021-07-15T15:32:10.606527Z",
     "iopub.status.idle": "2021-07-15T15:32:21.828252Z",
     "shell.execute_reply": "2021-07-15T15:32:21.827861Z"
    },
    "papermill": {
     "duration": 11.232422,
     "end_time": "2021-07-15T15:32:21.828362",
     "exception": false,
     "start_time": "2021-07-15T15:32:10.595940",
     "status": "completed"
    },
    "tags": []
   },
   "outputs": [
    {
     "data": {
      "text/plain": [
       "'phenomexcan'"
      ]
     },
     "metadata": {},
     "output_type": "display_data"
    },
    {
     "data": {
      "text/plain": [
       "PosixPath('/home/miltondp/projects/labs/greenelab/phenoplier/base/results/gls/gls_phenotypes-combined-phenomexcan.pkl')"
      ]
     },
     "metadata": {},
     "output_type": "display_data"
    },
    {
     "data": {
      "text/plain": [
       "'emerge'"
      ]
     },
     "metadata": {},
     "output_type": "display_data"
    },
    {
     "data": {
      "text/plain": [
       "PosixPath('/home/miltondp/projects/labs/greenelab/phenoplier/base/results/gls/gls_phenotypes-combined-emerge.pkl')"
      ]
     },
     "metadata": {},
     "output_type": "display_data"
    }
   ],
   "source": [
    "for cohort, result_files in INPUT_FILES_PER_COHORT.items():\n",
    "    display(cohort)\n",
    "\n",
    "    dfs = []\n",
    "    for res in result_files:\n",
    "        dfs.append(pd.read_pickle(res))\n",
    "\n",
    "    dfs = pd.concat(dfs, ignore_index=True)\n",
    "\n",
    "    # remove duplicate runs\n",
    "    dfs = dfs.drop_duplicates(subset=[\"phenotype\", \"lv\"])\n",
    "\n",
    "    # adjust pvalues\n",
    "    adj_pval = multipletests(dfs[\"pvalue\"], alpha=0.05, method=\"fdr_bh\")\n",
    "    dfs = dfs.assign(fdr=adj_pval[1])\n",
    "\n",
    "    # drop unneeded columns\n",
    "    dfs = dfs.drop(columns=[\"lv_set\", \"lv_with_pathway\", \"summary\"])\n",
    "\n",
    "    output_file = OUTPUT_DIR / f\"gls_phenotypes-combined-{cohort}.pkl\"\n",
    "    display(output_file)\n",
    "\n",
    "    dfs.to_pickle(output_file)"
   ]
  },
  {
   "cell_type": "code",
   "execution_count": null,
   "id": "pharmaceutical-smell",
   "metadata": {
    "papermill": {
     "duration": 0.009554,
     "end_time": "2021-07-15T15:32:21.848205",
     "exception": false,
     "start_time": "2021-07-15T15:32:21.838651",
     "status": "completed"
    },
    "tags": []
   },
   "outputs": [],
   "source": []
  }
 ],
 "metadata": {
  "jupytext": {
   "cell_metadata_filter": "all,-execution,-papermill,-trusted",
   "formats": "ipynb,py//py:percent"
  },
  "kernelspec": {
   "display_name": "Python 3",
   "language": "python",
   "name": "python3"
  },
  "language_info": {
   "codemirror_mode": {
    "name": "ipython",
    "version": 3
   },
   "file_extension": ".py",
   "mimetype": "text/x-python",
   "name": "python",
   "nbconvert_exporter": "python",
   "pygments_lexer": "ipython3",
   "version": "3.8.8"
  },
  "papermill": {
   "default_parameters": {},
   "duration": 15.707402,
   "end_time": "2021-07-15T15:32:24.270738",
   "environment_variables": {},
   "exception": null,
   "input_path": "08_gsa_gls/50-gls-fdr.ipynb",
   "output_path": "08_gsa_gls/50-gls-fdr.run.ipynb",
   "parameters": {},
   "start_time": "2021-07-15T15:32:08.563336",
   "version": "2.2.2"
  }
 },
 "nbformat": 4,
 "nbformat_minor": 5
}
