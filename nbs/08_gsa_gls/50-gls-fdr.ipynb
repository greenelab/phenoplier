{
 "cells": [
  {
   "cell_type": "markdown",
   "id": "ambient-rating",
   "metadata": {
    "papermill": {
     "duration": 0.011091,
     "end_time": "2021-07-17T16:23:22.488820",
     "exception": false,
     "start_time": "2021-07-17T16:23:22.477729",
     "status": "completed"
    },
    "tags": []
   },
   "source": [
    "# Description"
   ]
  },
  {
   "cell_type": "markdown",
   "id": "indie-bacon",
   "metadata": {
    "papermill": {
     "duration": 0.006203,
     "end_time": "2021-07-17T16:23:22.501727",
     "exception": false,
     "start_time": "2021-07-17T16:23:22.495524",
     "status": "completed"
    },
    "tags": []
   },
   "source": [
    "This notebook takes all results per cohort (PhenomeXcan and eMERGE), removes repeated runs, and adjust their pvalues."
   ]
  },
  {
   "cell_type": "markdown",
   "id": "optical-dublin",
   "metadata": {
    "papermill": {
     "duration": 0.005736,
     "end_time": "2021-07-17T16:23:22.513558",
     "exception": false,
     "start_time": "2021-07-17T16:23:22.507822",
     "status": "completed"
    },
    "tags": []
   },
   "source": [
    "# Environment variables"
   ]
  },
  {
   "cell_type": "code",
   "execution_count": 1,
   "id": "complicated-power",
   "metadata": {
    "execution": {
     "iopub.execute_input": "2021-07-17T16:23:22.531905Z",
     "iopub.status.busy": "2021-07-17T16:23:22.531537Z",
     "iopub.status.idle": "2021-07-17T16:23:22.538727Z",
     "shell.execute_reply": "2021-07-17T16:23:22.539027Z"
    },
    "papermill": {
     "duration": 0.019801,
     "end_time": "2021-07-17T16:23:22.539194",
     "exception": false,
     "start_time": "2021-07-17T16:23:22.519393",
     "status": "completed"
    },
    "tags": []
   },
   "outputs": [],
   "source": [
    "%load_ext autoreload\n",
    "%autoreload 2"
   ]
  },
  {
   "cell_type": "code",
   "execution_count": 2,
   "id": "sharing-vacuum",
   "metadata": {
    "execution": {
     "iopub.execute_input": "2021-07-17T16:23:22.553906Z",
     "iopub.status.busy": "2021-07-17T16:23:22.553549Z",
     "iopub.status.idle": "2021-07-17T16:23:22.562942Z",
     "shell.execute_reply": "2021-07-17T16:23:22.563222Z"
    },
    "papermill": {
     "duration": 0.017842,
     "end_time": "2021-07-17T16:23:22.563324",
     "exception": false,
     "start_time": "2021-07-17T16:23:22.545482",
     "status": "completed"
    },
    "tags": []
   },
   "outputs": [],
   "source": [
    "import conf"
   ]
  },
  {
   "cell_type": "code",
   "execution_count": 3,
   "id": "educational-container",
   "metadata": {
    "execution": {
     "iopub.execute_input": "2021-07-17T16:23:22.578152Z",
     "iopub.status.busy": "2021-07-17T16:23:22.577790Z",
     "iopub.status.idle": "2021-07-17T16:23:22.587807Z",
     "shell.execute_reply": "2021-07-17T16:23:22.587445Z"
    },
    "papermill": {
     "duration": 0.018279,
     "end_time": "2021-07-17T16:23:22.587889",
     "exception": false,
     "start_time": "2021-07-17T16:23:22.569610",
     "status": "completed"
    },
    "tags": []
   },
   "outputs": [
    {
     "data": {
      "text/plain": [
       "3"
      ]
     },
     "metadata": {},
     "output_type": "display_data"
    }
   ],
   "source": [
    "N_JOBS = conf.GENERAL[\"N_JOBS\"]\n",
    "display(N_JOBS)"
   ]
  },
  {
   "cell_type": "code",
   "execution_count": 4,
   "id": "aware-identifier",
   "metadata": {
    "execution": {
     "iopub.execute_input": "2021-07-17T16:23:22.604209Z",
     "iopub.status.busy": "2021-07-17T16:23:22.603857Z",
     "iopub.status.idle": "2021-07-17T16:23:22.609599Z",
     "shell.execute_reply": "2021-07-17T16:23:22.609894Z"
    },
    "papermill": {
     "duration": 0.015529,
     "end_time": "2021-07-17T16:23:22.609993",
     "exception": false,
     "start_time": "2021-07-17T16:23:22.594464",
     "status": "completed"
    },
    "tags": []
   },
   "outputs": [
    {
     "name": "stdout",
     "output_type": "stream",
     "text": [
      "env: MKL_NUM_THREADS=3\n",
      "env: OPEN_BLAS_NUM_THREADS=3\n",
      "env: NUMEXPR_NUM_THREADS=3\n",
      "env: OMP_NUM_THREADS=3\n"
     ]
    }
   ],
   "source": [
    "%env MKL_NUM_THREADS=$N_JOBS\n",
    "%env OPEN_BLAS_NUM_THREADS=$N_JOBS\n",
    "%env NUMEXPR_NUM_THREADS=$N_JOBS\n",
    "%env OMP_NUM_THREADS=$N_JOBS"
   ]
  },
  {
   "cell_type": "markdown",
   "id": "ambient-fiction",
   "metadata": {
    "papermill": {
     "duration": 0.00637,
     "end_time": "2021-07-17T16:23:22.629898",
     "exception": false,
     "start_time": "2021-07-17T16:23:22.623528",
     "status": "completed"
    },
    "tags": []
   },
   "source": [
    "# Modules"
   ]
  },
  {
   "cell_type": "code",
   "execution_count": 5,
   "id": "grand-cylinder",
   "metadata": {
    "execution": {
     "iopub.execute_input": "2021-07-17T16:23:22.645268Z",
     "iopub.status.busy": "2021-07-17T16:23:22.644905Z",
     "iopub.status.idle": "2021-07-17T16:23:23.424916Z",
     "shell.execute_reply": "2021-07-17T16:23:23.424332Z"
    },
    "papermill": {
     "duration": 0.788706,
     "end_time": "2021-07-17T16:23:23.425013",
     "exception": false,
     "start_time": "2021-07-17T16:23:22.636307",
     "status": "completed"
    },
    "tags": []
   },
   "outputs": [],
   "source": [
    "from pathlib import Path\n",
    "\n",
    "import statsmodels.api as sm\n",
    "from statsmodels.stats.multitest import multipletests\n",
    "import numpy as np\n",
    "import pandas as pd\n",
    "from sklearn.preprocessing import scale\n",
    "from tqdm import tqdm\n",
    "\n",
    "from gls import GLSPhenoplier"
   ]
  },
  {
   "cell_type": "markdown",
   "id": "conventional-bahamas",
   "metadata": {
    "papermill": {
     "duration": 0.006554,
     "end_time": "2021-07-17T16:23:23.438990",
     "exception": false,
     "start_time": "2021-07-17T16:23:23.432436",
     "status": "completed"
    },
    "tags": []
   },
   "source": [
    "# Settings"
   ]
  },
  {
   "cell_type": "code",
   "execution_count": 6,
   "id": "based-education",
   "metadata": {
    "execution": {
     "iopub.execute_input": "2021-07-17T16:23:23.454158Z",
     "iopub.status.busy": "2021-07-17T16:23:23.453787Z",
     "iopub.status.idle": "2021-07-17T16:23:23.465330Z",
     "shell.execute_reply": "2021-07-17T16:23:23.464998Z"
    },
    "papermill": {
     "duration": 0.019978,
     "end_time": "2021-07-17T16:23:23.465416",
     "exception": false,
     "start_time": "2021-07-17T16:23:23.445438",
     "status": "completed"
    },
    "tags": []
   },
   "outputs": [
    {
     "data": {
      "text/plain": [
       "PosixPath('/home/miltondp/projects/labs/greenelab/phenoplier/base/results/gls')"
      ]
     },
     "metadata": {},
     "output_type": "display_data"
    }
   ],
   "source": [
    "OUTPUT_DIR = conf.RESULTS[\"GLS\"]\n",
    "display(OUTPUT_DIR)\n",
    "\n",
    "assert OUTPUT_DIR.exists()"
   ]
  },
  {
   "cell_type": "markdown",
   "id": "opposed-barbados",
   "metadata": {
    "papermill": {
     "duration": 0.007001,
     "end_time": "2021-07-17T16:23:23.479654",
     "exception": false,
     "start_time": "2021-07-17T16:23:23.472653",
     "status": "completed"
    },
    "tags": []
   },
   "source": [
    "# Get results files"
   ]
  },
  {
   "cell_type": "code",
   "execution_count": 7,
   "id": "celtic-retail",
   "metadata": {
    "execution": {
     "iopub.execute_input": "2021-07-17T16:23:23.496056Z",
     "iopub.status.busy": "2021-07-17T16:23:23.495699Z",
     "iopub.status.idle": "2021-07-17T16:23:23.506501Z",
     "shell.execute_reply": "2021-07-17T16:23:23.506786Z"
    },
    "papermill": {
     "duration": 0.020226,
     "end_time": "2021-07-17T16:23:23.506891",
     "exception": false,
     "start_time": "2021-07-17T16:23:23.486665",
     "status": "completed"
    },
    "tags": []
   },
   "outputs": [],
   "source": [
    "INPUT_FILES_PER_COHORT = {\n",
    "    \"phenomexcan\": list(OUTPUT_DIR.glob(\"gls_phenotypes*phenomexcan*.pkl\")),\n",
    "    \"emerge\": list(OUTPUT_DIR.glob(\"gls_phenotypes*emerge*.pkl\")),\n",
    "}"
   ]
  },
  {
   "cell_type": "code",
   "execution_count": 8,
   "id": "lyric-optics",
   "metadata": {
    "execution": {
     "iopub.execute_input": "2021-07-17T16:23:23.523173Z",
     "iopub.status.busy": "2021-07-17T16:23:23.522808Z",
     "iopub.status.idle": "2021-07-17T16:23:23.534292Z",
     "shell.execute_reply": "2021-07-17T16:23:23.534585Z"
    },
    "papermill": {
     "duration": 0.020707,
     "end_time": "2021-07-17T16:23:23.534691",
     "exception": false,
     "start_time": "2021-07-17T16:23:23.513984",
     "status": "completed"
    },
    "tags": []
   },
   "outputs": [
    {
     "data": {
      "text/plain": [
       "{'phenomexcan': [PosixPath('/home/miltondp/projects/labs/greenelab/phenoplier/base/results/gls/gls_phenotypes-crispr_lvs-phenomexcan.pkl'),\n",
       "  PosixPath('/home/miltondp/projects/labs/greenelab/phenoplier/base/results/gls/gls_phenotypes-phenomexcan.pkl')],\n",
       " 'emerge': [PosixPath('/home/miltondp/projects/labs/greenelab/phenoplier/base/results/gls/gls_phenotypes-crispr_lvs-emerge.pkl'),\n",
       "  PosixPath('/home/miltondp/projects/labs/greenelab/phenoplier/base/results/gls/gls_phenotypes-emerge.pkl')]}"
      ]
     },
     "metadata": {},
     "output_type": "display_data"
    }
   ],
   "source": [
    "display(INPUT_FILES_PER_COHORT)"
   ]
  },
  {
   "cell_type": "markdown",
   "id": "retained-observer",
   "metadata": {
    "papermill": {
     "duration": 0.007112,
     "end_time": "2021-07-17T16:23:23.549280",
     "exception": false,
     "start_time": "2021-07-17T16:23:23.542168",
     "status": "completed"
    },
    "tags": []
   },
   "source": [
    "# Combine by cohort"
   ]
  },
  {
   "cell_type": "code",
   "execution_count": 9,
   "id": "employed-technical",
   "metadata": {
    "execution": {
     "iopub.execute_input": "2021-07-17T16:23:23.566104Z",
     "iopub.status.busy": "2021-07-17T16:23:23.565744Z",
     "iopub.status.idle": "2021-07-17T16:23:27.852547Z",
     "shell.execute_reply": "2021-07-17T16:23:27.852132Z"
    },
    "papermill": {
     "duration": 4.29678,
     "end_time": "2021-07-17T16:23:27.852652",
     "exception": false,
     "start_time": "2021-07-17T16:23:23.555872",
     "status": "completed"
    },
    "tags": []
   },
   "outputs": [
    {
     "data": {
      "text/plain": [
       "'phenomexcan'"
      ]
     },
     "metadata": {},
     "output_type": "display_data"
    },
    {
     "data": {
      "text/plain": [
       "PosixPath('/home/miltondp/projects/labs/greenelab/phenoplier/base/results/gls/gls_phenotypes-combined-phenomexcan.pkl')"
      ]
     },
     "metadata": {},
     "output_type": "display_data"
    },
    {
     "data": {
      "text/plain": [
       "'emerge'"
      ]
     },
     "metadata": {},
     "output_type": "display_data"
    },
    {
     "data": {
      "text/plain": [
       "PosixPath('/home/miltondp/projects/labs/greenelab/phenoplier/base/results/gls/gls_phenotypes-combined-emerge.pkl')"
      ]
     },
     "metadata": {},
     "output_type": "display_data"
    }
   ],
   "source": [
    "for cohort, result_files in INPUT_FILES_PER_COHORT.items():\n",
    "    display(cohort)\n",
    "\n",
    "    dfs = []\n",
    "    for res in result_files:\n",
    "        dfs.append(pd.read_pickle(res))\n",
    "\n",
    "    dfs = pd.concat(dfs, ignore_index=True)\n",
    "\n",
    "    # remove duplicate runs\n",
    "    dfs = dfs.drop_duplicates(subset=[\"phenotype\", \"lv\"])\n",
    "\n",
    "    # adjust pvalues\n",
    "    adj_pval = multipletests(dfs[\"pvalue\"], alpha=0.05, method=\"fdr_bh\")\n",
    "    dfs = dfs.assign(fdr=adj_pval[1])\n",
    "\n",
    "    # drop unneeded columns\n",
    "    dfs = dfs.drop(columns=[\"lv_set\", \"lv_with_pathway\", \"summary\"])\n",
    "\n",
    "    output_file = OUTPUT_DIR / f\"gls_phenotypes-combined-{cohort}.pkl\"\n",
    "    display(output_file)\n",
    "\n",
    "    dfs.to_pickle(output_file)"
   ]
  },
  {
   "cell_type": "code",
   "execution_count": null,
   "id": "pharmaceutical-smell",
   "metadata": {
    "papermill": {
     "duration": 0.009857,
     "end_time": "2021-07-17T16:23:27.872802",
     "exception": false,
     "start_time": "2021-07-17T16:23:27.862945",
     "status": "completed"
    },
    "tags": []
   },
   "outputs": [],
   "source": []
  }
 ],
 "metadata": {
  "jupytext": {
   "cell_metadata_filter": "all,-execution,-papermill,-trusted",
   "formats": "ipynb,py//py:percent"
  },
  "kernelspec": {
   "display_name": "Python 3",
   "language": "python",
   "name": "python3"
  },
  "language_info": {
   "codemirror_mode": {
    "name": "ipython",
    "version": 3
   },
   "file_extension": ".py",
   "mimetype": "text/x-python",
   "name": "python",
   "nbconvert_exporter": "python",
   "pygments_lexer": "ipython3",
   "version": "3.8.8"
  },
  "papermill": {
   "default_parameters": {},
   "duration": 8.185343,
   "end_time": "2021-07-17T16:23:29.700167",
   "environment_variables": {},
   "exception": null,
   "input_path": "08_gsa_gls/50-gls-fdr.ipynb",
   "output_path": "08_gsa_gls/50-gls-fdr.run.ipynb",
   "parameters": {},
   "start_time": "2021-07-17T16:23:21.514824",
   "version": "2.2.2"
  }
 },
 "nbformat": 4,
 "nbformat_minor": 5
}
