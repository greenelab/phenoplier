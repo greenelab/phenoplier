{
 "cells": [
  {
   "cell_type": "markdown",
   "id": "ambient-rating",
   "metadata": {
    "papermill": {
     "duration": 0.028298,
     "end_time": "2021-07-16T23:37:15.320329",
     "exception": false,
     "start_time": "2021-07-16T23:37:15.292031",
     "status": "completed"
    },
    "tags": []
   },
   "source": [
    "# Description"
   ]
  },
  {
   "cell_type": "markdown",
   "id": "indie-bacon",
   "metadata": {
    "papermill": {
     "duration": 0.008635,
     "end_time": "2021-07-16T23:37:15.343657",
     "exception": false,
     "start_time": "2021-07-16T23:37:15.335022",
     "status": "completed"
    },
    "tags": []
   },
   "source": [
    "This notebook takes all results per cohort (PhenomeXcan and eMERGE), removes repeated runs, and adjust their pvalues."
   ]
  },
  {
   "cell_type": "markdown",
   "id": "optical-dublin",
   "metadata": {
    "papermill": {
     "duration": 0.005839,
     "end_time": "2021-07-16T23:37:15.356389",
     "exception": false,
     "start_time": "2021-07-16T23:37:15.350550",
     "status": "completed"
    },
    "tags": []
   },
   "source": [
    "# Environment variables"
   ]
  },
  {
   "cell_type": "code",
   "execution_count": 1,
   "id": "complicated-power",
   "metadata": {
    "execution": {
     "iopub.execute_input": "2021-07-16T23:37:15.374670Z",
     "iopub.status.busy": "2021-07-16T23:37:15.374309Z",
     "iopub.status.idle": "2021-07-16T23:37:15.381928Z",
     "shell.execute_reply": "2021-07-16T23:37:15.381498Z"
    },
    "papermill": {
     "duration": 0.019823,
     "end_time": "2021-07-16T23:37:15.382017",
     "exception": false,
     "start_time": "2021-07-16T23:37:15.362194",
     "status": "completed"
    },
    "tags": []
   },
   "outputs": [],
   "source": [
    "%load_ext autoreload\n",
    "%autoreload 2"
   ]
  },
  {
   "cell_type": "code",
   "execution_count": 2,
   "id": "sharing-vacuum",
   "metadata": {
    "execution": {
     "iopub.execute_input": "2021-07-16T23:37:15.396683Z",
     "iopub.status.busy": "2021-07-16T23:37:15.396328Z",
     "iopub.status.idle": "2021-07-16T23:37:15.406202Z",
     "shell.execute_reply": "2021-07-16T23:37:15.405832Z"
    },
    "papermill": {
     "duration": 0.018087,
     "end_time": "2021-07-16T23:37:15.406287",
     "exception": false,
     "start_time": "2021-07-16T23:37:15.388200",
     "status": "completed"
    },
    "tags": []
   },
   "outputs": [],
   "source": [
    "import conf"
   ]
  },
  {
   "cell_type": "code",
   "execution_count": 3,
   "id": "educational-container",
   "metadata": {
    "execution": {
     "iopub.execute_input": "2021-07-16T23:37:15.420876Z",
     "iopub.status.busy": "2021-07-16T23:37:15.420467Z",
     "iopub.status.idle": "2021-07-16T23:37:15.430840Z",
     "shell.execute_reply": "2021-07-16T23:37:15.430472Z"
    },
    "papermill": {
     "duration": 0.018425,
     "end_time": "2021-07-16T23:37:15.430922",
     "exception": false,
     "start_time": "2021-07-16T23:37:15.412497",
     "status": "completed"
    },
    "tags": []
   },
   "outputs": [
    {
     "data": {
      "text/plain": [
       "3"
      ]
     },
     "metadata": {},
     "output_type": "display_data"
    }
   ],
   "source": [
    "N_JOBS = conf.GENERAL[\"N_JOBS\"]\n",
    "display(N_JOBS)"
   ]
  },
  {
   "cell_type": "code",
   "execution_count": 4,
   "id": "aware-identifier",
   "metadata": {
    "execution": {
     "iopub.execute_input": "2021-07-16T23:37:15.447257Z",
     "iopub.status.busy": "2021-07-16T23:37:15.446892Z",
     "iopub.status.idle": "2021-07-16T23:37:15.453250Z",
     "shell.execute_reply": "2021-07-16T23:37:15.452886Z"
    },
    "papermill": {
     "duration": 0.015955,
     "end_time": "2021-07-16T23:37:15.453332",
     "exception": false,
     "start_time": "2021-07-16T23:37:15.437377",
     "status": "completed"
    },
    "tags": []
   },
   "outputs": [
    {
     "name": "stdout",
     "output_type": "stream",
     "text": [
      "env: MKL_NUM_THREADS=3\n",
      "env: OPEN_BLAS_NUM_THREADS=3\n",
      "env: NUMEXPR_NUM_THREADS=3\n",
      "env: OMP_NUM_THREADS=3\n"
     ]
    }
   ],
   "source": [
    "%env MKL_NUM_THREADS=$N_JOBS\n",
    "%env OPEN_BLAS_NUM_THREADS=$N_JOBS\n",
    "%env NUMEXPR_NUM_THREADS=$N_JOBS\n",
    "%env OMP_NUM_THREADS=$N_JOBS"
   ]
  },
  {
   "cell_type": "markdown",
   "id": "ambient-fiction",
   "metadata": {
    "papermill": {
     "duration": 0.006387,
     "end_time": "2021-07-16T23:37:15.466230",
     "exception": false,
     "start_time": "2021-07-16T23:37:15.459843",
     "status": "completed"
    },
    "tags": []
   },
   "source": [
    "# Modules"
   ]
  },
  {
   "cell_type": "code",
   "execution_count": 5,
   "id": "grand-cylinder",
   "metadata": {
    "execution": {
     "iopub.execute_input": "2021-07-16T23:37:15.482112Z",
     "iopub.status.busy": "2021-07-16T23:37:15.481711Z",
     "iopub.status.idle": "2021-07-16T23:37:16.248429Z",
     "shell.execute_reply": "2021-07-16T23:37:16.248005Z"
    },
    "papermill": {
     "duration": 0.775741,
     "end_time": "2021-07-16T23:37:16.248523",
     "exception": false,
     "start_time": "2021-07-16T23:37:15.472782",
     "status": "completed"
    },
    "tags": []
   },
   "outputs": [],
   "source": [
    "from pathlib import Path\n",
    "\n",
    "import statsmodels.api as sm\n",
    "from statsmodels.stats.multitest import multipletests\n",
    "import numpy as np\n",
    "import pandas as pd\n",
    "from sklearn.preprocessing import scale\n",
    "from tqdm import tqdm\n",
    "\n",
    "from gls import GLSPhenoplier"
   ]
  },
  {
   "cell_type": "markdown",
   "id": "conventional-bahamas",
   "metadata": {
    "papermill": {
     "duration": 0.006648,
     "end_time": "2021-07-16T23:37:16.262432",
     "exception": false,
     "start_time": "2021-07-16T23:37:16.255784",
     "status": "completed"
    },
    "tags": []
   },
   "source": [
    "# Settings"
   ]
  },
  {
   "cell_type": "code",
   "execution_count": 6,
   "id": "based-education",
   "metadata": {
    "execution": {
     "iopub.execute_input": "2021-07-16T23:37:16.277468Z",
     "iopub.status.busy": "2021-07-16T23:37:16.277106Z",
     "iopub.status.idle": "2021-07-16T23:37:16.288224Z",
     "shell.execute_reply": "2021-07-16T23:37:16.288594Z"
    },
    "papermill": {
     "duration": 0.019845,
     "end_time": "2021-07-16T23:37:16.288710",
     "exception": false,
     "start_time": "2021-07-16T23:37:16.268865",
     "status": "completed"
    },
    "tags": []
   },
   "outputs": [
    {
     "data": {
      "text/plain": [
       "PosixPath('/home/miltondp/projects/labs/greenelab/phenoplier/base/results/gls')"
      ]
     },
     "metadata": {},
     "output_type": "display_data"
    }
   ],
   "source": [
    "OUTPUT_DIR = conf.RESULTS[\"GLS\"]\n",
    "display(OUTPUT_DIR)\n",
    "\n",
    "assert OUTPUT_DIR.exists()"
   ]
  },
  {
   "cell_type": "markdown",
   "id": "opposed-barbados",
   "metadata": {
    "papermill": {
     "duration": 0.006458,
     "end_time": "2021-07-16T23:37:16.302094",
     "exception": false,
     "start_time": "2021-07-16T23:37:16.295636",
     "status": "completed"
    },
    "tags": []
   },
   "source": [
    "# Get results files"
   ]
  },
  {
   "cell_type": "code",
   "execution_count": 7,
   "id": "celtic-retail",
   "metadata": {
    "execution": {
     "iopub.execute_input": "2021-07-16T23:37:16.317584Z",
     "iopub.status.busy": "2021-07-16T23:37:16.317202Z",
     "iopub.status.idle": "2021-07-16T23:37:16.328273Z",
     "shell.execute_reply": "2021-07-16T23:37:16.327966Z"
    },
    "papermill": {
     "duration": 0.019856,
     "end_time": "2021-07-16T23:37:16.328357",
     "exception": false,
     "start_time": "2021-07-16T23:37:16.308501",
     "status": "completed"
    },
    "tags": []
   },
   "outputs": [],
   "source": [
    "INPUT_FILES_PER_COHORT = {\n",
    "    \"phenomexcan\": list(OUTPUT_DIR.glob(\"gls_phenotypes*phenomexcan*.pkl\")),\n",
    "    \"emerge\": list(OUTPUT_DIR.glob(\"gls_phenotypes*emerge*.pkl\")),\n",
    "}"
   ]
  },
  {
   "cell_type": "code",
   "execution_count": 8,
   "id": "lyric-optics",
   "metadata": {
    "execution": {
     "iopub.execute_input": "2021-07-16T23:37:16.344225Z",
     "iopub.status.busy": "2021-07-16T23:37:16.343862Z",
     "iopub.status.idle": "2021-07-16T23:37:16.355577Z",
     "shell.execute_reply": "2021-07-16T23:37:16.355191Z"
    },
    "papermill": {
     "duration": 0.020428,
     "end_time": "2021-07-16T23:37:16.355663",
     "exception": false,
     "start_time": "2021-07-16T23:37:16.335235",
     "status": "completed"
    },
    "tags": []
   },
   "outputs": [
    {
     "data": {
      "text/plain": [
       "{'phenomexcan': [PosixPath('/home/miltondp/projects/labs/greenelab/phenoplier/base/results/gls/gls_phenotypes-combined-phenomexcan.pkl'),\n",
       "  PosixPath('/home/miltondp/projects/labs/greenelab/phenoplier/base/results/gls/gls_phenotypes-crispr_lvs-phenomexcan.pkl'),\n",
       "  PosixPath('/home/miltondp/projects/labs/greenelab/phenoplier/base/results/gls/gls_phenotypes-phenomexcan.pkl')],\n",
       " 'emerge': [PosixPath('/home/miltondp/projects/labs/greenelab/phenoplier/base/results/gls/gls_phenotypes-combined-emerge.pkl'),\n",
       "  PosixPath('/home/miltondp/projects/labs/greenelab/phenoplier/base/results/gls/gls_phenotypes-crispr_lvs-emerge.pkl'),\n",
       "  PosixPath('/home/miltondp/projects/labs/greenelab/phenoplier/base/results/gls/gls_phenotypes-emerge.pkl')]}"
      ]
     },
     "metadata": {},
     "output_type": "display_data"
    }
   ],
   "source": [
    "display(INPUT_FILES_PER_COHORT)"
   ]
  },
  {
   "cell_type": "markdown",
   "id": "retained-observer",
   "metadata": {
    "papermill": {
     "duration": 0.007236,
     "end_time": "2021-07-16T23:37:16.370318",
     "exception": false,
     "start_time": "2021-07-16T23:37:16.363082",
     "status": "completed"
    },
    "tags": []
   },
   "source": [
    "# Combine by cohort"
   ]
  },
  {
   "cell_type": "code",
   "execution_count": 9,
   "id": "employed-technical",
   "metadata": {
    "execution": {
     "iopub.execute_input": "2021-07-16T23:37:16.387688Z",
     "iopub.status.busy": "2021-07-16T23:37:16.387298Z",
     "iopub.status.idle": "2021-07-16T23:37:23.503804Z",
     "shell.execute_reply": "2021-07-16T23:37:23.503316Z"
    },
    "papermill": {
     "duration": 7.126412,
     "end_time": "2021-07-16T23:37:23.503912",
     "exception": false,
     "start_time": "2021-07-16T23:37:16.377500",
     "status": "completed"
    },
    "tags": []
   },
   "outputs": [
    {
     "data": {
      "text/plain": [
       "'phenomexcan'"
      ]
     },
     "metadata": {},
     "output_type": "display_data"
    },
    {
     "data": {
      "text/plain": [
       "PosixPath('/home/miltondp/projects/labs/greenelab/phenoplier/base/results/gls/gls_phenotypes-combined-phenomexcan.pkl')"
      ]
     },
     "metadata": {},
     "output_type": "display_data"
    },
    {
     "data": {
      "text/plain": [
       "'emerge'"
      ]
     },
     "metadata": {},
     "output_type": "display_data"
    },
    {
     "data": {
      "text/plain": [
       "PosixPath('/home/miltondp/projects/labs/greenelab/phenoplier/base/results/gls/gls_phenotypes-combined-emerge.pkl')"
      ]
     },
     "metadata": {},
     "output_type": "display_data"
    }
   ],
   "source": [
    "for cohort, result_files in INPUT_FILES_PER_COHORT.items():\n",
    "    display(cohort)\n",
    "\n",
    "    dfs = []\n",
    "    for res in result_files:\n",
    "        dfs.append(pd.read_pickle(res))\n",
    "\n",
    "    dfs = pd.concat(dfs, ignore_index=True)\n",
    "\n",
    "    # remove duplicate runs\n",
    "    dfs = dfs.drop_duplicates(subset=[\"phenotype\", \"lv\"])\n",
    "\n",
    "    # adjust pvalues\n",
    "    adj_pval = multipletests(dfs[\"pvalue\"], alpha=0.05, method=\"fdr_bh\")\n",
    "    dfs = dfs.assign(fdr=adj_pval[1])\n",
    "\n",
    "    # drop unneeded columns\n",
    "    dfs = dfs.drop(columns=[\"lv_set\", \"lv_with_pathway\", \"summary\"])\n",
    "\n",
    "    output_file = OUTPUT_DIR / f\"gls_phenotypes-combined-{cohort}.pkl\"\n",
    "    display(output_file)\n",
    "\n",
    "    dfs.to_pickle(output_file)"
   ]
  },
  {
   "cell_type": "code",
   "execution_count": null,
   "id": "pharmaceutical-smell",
   "metadata": {
    "papermill": {
     "duration": 0.009525,
     "end_time": "2021-07-16T23:37:23.523391",
     "exception": false,
     "start_time": "2021-07-16T23:37:23.513866",
     "status": "completed"
    },
    "tags": []
   },
   "outputs": [],
   "source": []
  }
 ],
 "metadata": {
  "jupytext": {
   "cell_metadata_filter": "all,-execution,-papermill,-trusted",
   "formats": "ipynb,py//py:percent"
  },
  "kernelspec": {
   "display_name": "Python 3",
   "language": "python",
   "name": "python3"
  },
  "language_info": {
   "codemirror_mode": {
    "name": "ipython",
    "version": 3
   },
   "file_extension": ".py",
   "mimetype": "text/x-python",
   "name": "python",
   "nbconvert_exporter": "python",
   "pygments_lexer": "ipython3",
   "version": "3.8.8"
  },
  "papermill": {
   "default_parameters": {},
   "duration": 11.193528,
   "end_time": "2021-07-16T23:37:25.773678",
   "environment_variables": {},
   "exception": null,
   "input_path": "08_gsa_gls/50-gls-fdr.ipynb",
   "output_path": "08_gsa_gls/50-gls-fdr.run.ipynb",
   "parameters": {},
   "start_time": "2021-07-16T23:37:14.580150",
   "version": "2.2.2"
  }
 },
 "nbformat": 4,
 "nbformat_minor": 5
}
