{
 "cells": [
  {
   "cell_type": "markdown",
   "id": "reported-grain",
   "metadata": {
    "papermill": {
     "duration": 0.022374,
     "end_time": "2021-03-10T00:10:54.143712",
     "exception": false,
     "start_time": "2021-03-10T00:10:54.121338",
     "status": "completed"
    },
    "tags": []
   },
   "source": [
    "# Environment variables"
   ]
  },
  {
   "cell_type": "code",
   "execution_count": null,
   "id": "fewer-browse",
   "metadata": {},
   "outputs": [],
   "source": [
    "%load_ext autoreload\n",
    "%autoreload 2"
   ]
  },
  {
   "cell_type": "code",
   "execution_count": null,
   "id": "peaceful-mainland",
   "metadata": {},
   "outputs": [],
   "source": [
    "import conf"
   ]
  },
  {
   "cell_type": "code",
   "execution_count": null,
   "id": "exterior-warning",
   "metadata": {
    "papermill": {
     "duration": 0.038647,
     "end_time": "2021-03-10T00:10:54.205009",
     "exception": false,
     "start_time": "2021-03-10T00:10:54.166362",
     "status": "completed"
    },
    "tags": []
   },
   "outputs": [],
   "source": [
    "N_JOBS = conf.GENERAL[\"N_JOBS\"]\n",
    "display(N_JOBS)"
   ]
  },
  {
   "cell_type": "code",
   "execution_count": null,
   "id": "talented-token",
   "metadata": {
    "papermill": {
     "duration": 0.029926,
     "end_time": "2021-03-10T00:10:54.259533",
     "exception": false,
     "start_time": "2021-03-10T00:10:54.229607",
     "status": "completed"
    },
    "tags": []
   },
   "outputs": [],
   "source": [
    "%env MKL_NUM_THREADS=$N_JOBS\n",
    "%env OPEN_BLAS_NUM_THREADS=$N_JOBS\n",
    "%env NUMEXPR_NUM_THREADS=$N_JOBS\n",
    "%env OMP_NUM_THREADS=$N_JOBS"
   ]
  },
  {
   "cell_type": "markdown",
   "id": "ultimate-brass",
   "metadata": {},
   "source": [
    "# Modules"
   ]
  },
  {
   "cell_type": "code",
   "execution_count": null,
   "id": "cooked-taiwan",
   "metadata": {},
   "outputs": [],
   "source": [
    "from pathlib import Path\n",
    "\n",
    "import statsmodels.api as sm\n",
    "import numpy as np\n",
    "import pandas as pd\n",
    "from sklearn.preprocessing import scale\n",
    "from tqdm import tqdm\n",
    "\n",
    "from gls import GLSPhenoplier"
   ]
  },
  {
   "cell_type": "markdown",
   "id": "extensive-overall",
   "metadata": {},
   "source": [
    "# Settings"
   ]
  },
  {
   "cell_type": "code",
   "execution_count": null,
   "id": "thirty-supervision",
   "metadata": {},
   "outputs": [],
   "source": [
    "OUTPUT_DIR = conf.RESULTS[\"GLS\"]\n",
    "display(OUTPUT_DIR)\n",
    "\n",
    "OUTPUT_DIR.mkdir(exist_ok=True, parents=True)"
   ]
  },
  {
   "cell_type": "markdown",
   "id": "macro-speech",
   "metadata": {},
   "source": [
    "# Load data"
   ]
  },
  {
   "cell_type": "markdown",
   "id": "outer-oklahoma",
   "metadata": {},
   "source": [
    "## PhenomeXcan (S-MultiXcan)"
   ]
  },
  {
   "cell_type": "code",
   "execution_count": null,
   "id": "pressing-diploma",
   "metadata": {},
   "outputs": [],
   "source": [
    "INPUT_SUBSET = \"z_score_std\""
   ]
  },
  {
   "cell_type": "code",
   "execution_count": null,
   "id": "voluntary-strip",
   "metadata": {},
   "outputs": [],
   "source": [
    "INPUT_STEM = \"projection-smultixcan-efo_partial-mashr-zscores\""
   ]
  },
  {
   "cell_type": "code",
   "execution_count": null,
   "id": "cordless-discharge",
   "metadata": {},
   "outputs": [],
   "source": [
    "input_filepath = Path(\n",
    "    conf.RESULTS[\"DATA_TRANSFORMATIONS_DIR\"],\n",
    "    INPUT_SUBSET,\n",
    "    f\"{INPUT_SUBSET}-{INPUT_STEM}.pkl\",\n",
    ").resolve()"
   ]
  },
  {
   "cell_type": "code",
   "execution_count": null,
   "id": "surprised-yellow",
   "metadata": {},
   "outputs": [],
   "source": [
    "data = pd.read_pickle(input_filepath)"
   ]
  },
  {
   "cell_type": "code",
   "execution_count": null,
   "id": "occasional-drunk",
   "metadata": {},
   "outputs": [],
   "source": [
    "data.shape"
   ]
  },
  {
   "cell_type": "code",
   "execution_count": null,
   "id": "southern-denver",
   "metadata": {},
   "outputs": [],
   "source": [
    "data.head()"
   ]
  },
  {
   "cell_type": "markdown",
   "id": "improving-david",
   "metadata": {},
   "source": [
    "## Clustering results"
   ]
  },
  {
   "cell_type": "code",
   "execution_count": null,
   "id": "amber-athens",
   "metadata": {},
   "outputs": [],
   "source": [
    "CONSENSUS_CLUSTERING_DIR = Path(\n",
    "    conf.RESULTS[\"CLUSTERING_DIR\"], \"consensus_clustering\"\n",
    ").resolve()\n",
    "\n",
    "display(CONSENSUS_CLUSTERING_DIR)"
   ]
  },
  {
   "cell_type": "code",
   "execution_count": null,
   "id": "sudden-process",
   "metadata": {},
   "outputs": [],
   "source": [
    "input_file = Path(CONSENSUS_CLUSTERING_DIR, \"best_partitions_by_k.pkl\").resolve()\n",
    "display(input_file)"
   ]
  },
  {
   "cell_type": "code",
   "execution_count": null,
   "id": "offensive-vocabulary",
   "metadata": {},
   "outputs": [],
   "source": [
    "best_partitions = pd.read_pickle(input_file)"
   ]
  },
  {
   "cell_type": "code",
   "execution_count": null,
   "id": "growing-check",
   "metadata": {},
   "outputs": [],
   "source": [
    "best_partitions.shape"
   ]
  },
  {
   "cell_type": "code",
   "execution_count": null,
   "id": "helpful-sense",
   "metadata": {},
   "outputs": [],
   "source": [
    "best_partitions.head()"
   ]
  },
  {
   "cell_type": "markdown",
   "id": "pretty-collectible",
   "metadata": {},
   "source": [
    "## MultiPLIER summary"
   ]
  },
  {
   "cell_type": "code",
   "execution_count": null,
   "id": "peripheral-format",
   "metadata": {},
   "outputs": [],
   "source": [
    "multiplier_model_summary = pd.read_pickle(conf.MULTIPLIER[\"MODEL_SUMMARY_FILE\"])"
   ]
  },
  {
   "cell_type": "code",
   "execution_count": null,
   "id": "married-lesbian",
   "metadata": {},
   "outputs": [],
   "source": [
    "multiplier_model_summary.shape"
   ]
  },
  {
   "cell_type": "code",
   "execution_count": null,
   "id": "characteristic-rainbow",
   "metadata": {},
   "outputs": [],
   "source": [
    "multiplier_model_summary.head()"
   ]
  },
  {
   "cell_type": "code",
   "execution_count": null,
   "id": "touched-sequence",
   "metadata": {},
   "outputs": [],
   "source": [
    "well_aligned_lvs = multiplier_model_summary[\n",
    "    (multiplier_model_summary[\"FDR\"] < 0.05) | (multiplier_model_summary[\"AUC\"] >= 0.75)\n",
    "]\n",
    "\n",
    "display(well_aligned_lvs.shape)\n",
    "display(well_aligned_lvs.head())"
   ]
  },
  {
   "cell_type": "code",
   "execution_count": null,
   "id": "coated-prediction",
   "metadata": {},
   "outputs": [],
   "source": [
    "well_aligned_lv_codes = set([f\"LV{lvi}\" for lvi in well_aligned_lvs[\"LV index\"]])"
   ]
  },
  {
   "cell_type": "code",
   "execution_count": null,
   "id": "secondary-personal",
   "metadata": {},
   "outputs": [],
   "source": [
    "len(well_aligned_lv_codes)"
   ]
  },
  {
   "cell_type": "code",
   "execution_count": null,
   "id": "center-income",
   "metadata": {},
   "outputs": [],
   "source": [
    "list(well_aligned_lv_codes)[:5]"
   ]
  },
  {
   "cell_type": "markdown",
   "id": "crazy-measurement",
   "metadata": {},
   "source": [
    "# Select partition / cluster pairs"
   ]
  },
  {
   "cell_type": "code",
   "execution_count": null,
   "id": "silent-course",
   "metadata": {},
   "outputs": [],
   "source": [
    "# key: a tuple (partition_k, cluster_id)\n",
    "# value: a list of tuples\n",
    "# this specifies\n",
    "PHENOTYPES_LVS_CONFIG = {\n",
    "    # cardiovascular\n",
    "    (29, 14): [(16, 15)],\n",
    "    (29, 16): [(26, 13), (16, 15)],\n",
    "    (29, 11): [(26, 13), (16, 15)],\n",
    "    (29, 21): [(26, 25), (22, 0), (16, 15)],\n",
    "    (29, 17): [],\n",
    "    # autoimmune\n",
    "    (29, 8): [(25, 18), (22, 8)],\n",
    "    (29, 26): [(25, 12), (25, 18), (22, 8)],\n",
    "    (29, 13): [(25, 12), (22, 8)],\n",
    "    # keratometry\n",
    "    (29, 10): [],\n",
    "    # heel bone mineral density\n",
    "    (29, 15): [],\n",
    "    # hapiness\n",
    "    (29, 27): [],\n",
    "    # asthma\n",
    "    (29, 12): [],\n",
    "}"
   ]
  },
  {
   "cell_type": "code",
   "execution_count": null,
   "id": "running-ballot",
   "metadata": {},
   "outputs": [],
   "source": [
    "CLUSTER_LV_DIR = conf.RESULTS[\"CLUSTERING_INTERPRETATION\"][\"BASE_DIR\"] / \"cluster_lvs\"\n",
    "assert CLUSTER_LV_DIR.exists()\n",
    "\n",
    "display(CLUSTER_LV_DIR)"
   ]
  },
  {
   "cell_type": "code",
   "execution_count": null,
   "id": "dated-national",
   "metadata": {},
   "outputs": [],
   "source": [
    "def _get_lvs_data(part_k, cluster_idx):\n",
    "    cluster_lvs = pd.read_pickle(\n",
    "        CLUSTER_LV_DIR\n",
    "        / f\"part{part_k}\"\n",
    "        / f\"cluster_interpreter-part{part_k}_k{cluster_idx}.pkl\"\n",
    "    )\n",
    "\n",
    "    #     # keep well-aligned lvs only\n",
    "    #     cluster_lvs = cluster_lvs[\n",
    "    #         cluster_lvs.index.astype(str).isin(well_aligned_lvs[\"LV index\"])\n",
    "    #     ]\n",
    "\n",
    "    cluster_lvs[\"cluster\"] = cluster_idx\n",
    "\n",
    "    return list(cluster_lvs[\"name\"])"
   ]
  },
  {
   "cell_type": "code",
   "execution_count": null,
   "id": "romantic-appearance",
   "metadata": {},
   "outputs": [],
   "source": [
    "_get_lvs_data(29, 11)[:5]"
   ]
  },
  {
   "cell_type": "markdown",
   "id": "chicken-organizer",
   "metadata": {},
   "source": [
    "# GLSPhenoplier"
   ]
  },
  {
   "cell_type": "markdown",
   "id": "laughing-mapping",
   "metadata": {},
   "source": [
    "## Get list of phenotypes/lvs pairs"
   ]
  },
  {
   "cell_type": "code",
   "execution_count": null,
   "id": "alike-snowboard",
   "metadata": {},
   "outputs": [],
   "source": [
    "phenotypes_lvs_pairs = []\n",
    "\n",
    "for (part_k, cluster_id), extra_for_lvs in PHENOTYPES_LVS_CONFIG.items():\n",
    "    part = best_partitions.loc[part_k, \"partition\"]\n",
    "\n",
    "    # get traits\n",
    "    cluster_traits = data.index[part == cluster_id]\n",
    "\n",
    "    # get extra lvs\n",
    "    lv_list = _get_lvs_data(part_k, cluster_id)\n",
    "\n",
    "    for extra_part_k, extra_cluster_id in extra_for_lvs:\n",
    "        extra_lv_list = _get_lvs_data(part_k, cluster_id)\n",
    "        lv_list.extend(extra_lv_list)\n",
    "\n",
    "    for phenotype_code in cluster_traits:\n",
    "        for lv_code in lv_list:\n",
    "            phenotypes_lvs_pairs.append(\n",
    "                {\n",
    "                    \"phenotype_part_k\": part_k,\n",
    "                    \"phenotype_cluster_id\": cluster_id,\n",
    "                    \"phenotype\": phenotype_code,\n",
    "                    \"lv\": lv_code,\n",
    "                }\n",
    "            )\n",
    "\n",
    "phenotypes_lvs_pairs = pd.DataFrame(phenotypes_lvs_pairs).drop_duplicates()"
   ]
  },
  {
   "cell_type": "code",
   "execution_count": null,
   "id": "divine-separation",
   "metadata": {},
   "outputs": [],
   "source": [
    "phenotypes_lvs_pairs = phenotypes_lvs_pairs.sort_values(\"phenotype\")"
   ]
  },
  {
   "cell_type": "code",
   "execution_count": null,
   "id": "impressed-claim",
   "metadata": {},
   "outputs": [],
   "source": [
    "phenotypes_lvs_pairs.shape"
   ]
  },
  {
   "cell_type": "code",
   "execution_count": null,
   "id": "experienced-hughes",
   "metadata": {},
   "outputs": [],
   "source": [
    "phenotypes_lvs_pairs.head()"
   ]
  },
  {
   "cell_type": "markdown",
   "id": "unauthorized-crown",
   "metadata": {},
   "source": [
    "## Run"
   ]
  },
  {
   "cell_type": "code",
   "execution_count": null,
   "id": "wrong-russian",
   "metadata": {},
   "outputs": [],
   "source": [
    "output_file = OUTPUT_DIR / \"gls_phenotypes.pkl\"\n",
    "display(output_file)"
   ]
  },
  {
   "cell_type": "code",
   "execution_count": null,
   "id": "advised-allowance",
   "metadata": {},
   "outputs": [],
   "source": [
    "results = []\n",
    "\n",
    "pbar = tqdm(total=phenotypes_lvs_pairs.shape[0])\n",
    "\n",
    "for idx, row in phenotypes_lvs_pairs.iterrows():\n",
    "    phenotype_code = row[\"phenotype\"]\n",
    "    lv_code = row[\"lv\"]\n",
    "\n",
    "    pbar.set_description(f\"{phenotype_code} - {lv_code}\")\n",
    "\n",
    "    gls_model = GLSPhenoplier()\n",
    "    gls_model.fit_named(lv_code, phenotype_code)\n",
    "    res = gls_model.results\n",
    "\n",
    "    results.append(\n",
    "        {\n",
    "            \"part_k\": row[\"phenotype_part_k\"],\n",
    "            \"cluster_id\": row[\"phenotype_cluster_id\"],\n",
    "            \"phenotype\": phenotype_code,\n",
    "            \"lv\": lv_code,\n",
    "            \"lv_with_pathway\": lv_code in well_aligned_lv_codes,\n",
    "            \"coef\": res.params.loc[\"lv\"],\n",
    "            \"pvalue\": res.pvalues.loc[\"lv\"],\n",
    "            \"summary\": gls_model.results_summary,\n",
    "        }\n",
    "    )\n",
    "\n",
    "    if (idx % 10) == 0:\n",
    "        pd.DataFrame(results).to_pickle(output_file)\n",
    "\n",
    "    pbar.update(1)\n",
    "\n",
    "pbar.close()"
   ]
  },
  {
   "cell_type": "code",
   "execution_count": null,
   "id": "greater-floor",
   "metadata": {},
   "outputs": [],
   "source": [
    "results = pd.DataFrame(results)"
   ]
  },
  {
   "cell_type": "code",
   "execution_count": null,
   "id": "judicial-aerospace",
   "metadata": {},
   "outputs": [],
   "source": [
    "results.shape"
   ]
  },
  {
   "cell_type": "code",
   "execution_count": null,
   "id": "proper-medicaid",
   "metadata": {},
   "outputs": [],
   "source": [
    "results.head()"
   ]
  },
  {
   "cell_type": "code",
   "execution_count": null,
   "id": "brazilian-count",
   "metadata": {},
   "outputs": [],
   "source": [
    "results.sort_values(\"pvalue\").head(10)"
   ]
  },
  {
   "cell_type": "markdown",
   "id": "sacred-nowhere",
   "metadata": {},
   "source": [
    "## Save"
   ]
  },
  {
   "cell_type": "code",
   "execution_count": null,
   "id": "organizational-biodiversity",
   "metadata": {},
   "outputs": [],
   "source": [
    "results.to_pickle(output_file)"
   ]
  },
  {
   "cell_type": "code",
   "execution_count": null,
   "id": "round-custom",
   "metadata": {},
   "outputs": [],
   "source": []
  }
 ],
 "metadata": {
  "jupytext": {
   "cell_metadata_filter": "all,-execution,-papermill,-trusted",
   "formats": "ipynb,py//py:percent"
  },
  "kernelspec": {
   "display_name": "Python 3",
   "language": "python",
   "name": "python3"
  },
  "language_info": {
   "codemirror_mode": {
    "name": "ipython",
    "version": 3
   },
   "file_extension": ".py",
   "mimetype": "text/x-python",
   "name": "python",
   "nbconvert_exporter": "python",
   "pygments_lexer": "ipython3",
   "version": "3.8.8"
  }
 },
 "nbformat": 4,
 "nbformat_minor": 5
}
