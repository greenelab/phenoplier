{
 "cells": [
  {
   "cell_type": "markdown",
   "id": "prescribed-mechanics",
   "metadata": {
    "papermill": {
     "duration": 0.02956,
     "end_time": "2021-07-14T16:08:40.129858",
     "exception": false,
     "start_time": "2021-07-14T16:08:40.100298",
     "status": "completed"
    },
    "tags": []
   },
   "source": [
    "# Description"
   ]
  },
  {
   "cell_type": "markdown",
   "id": "novel-physiology",
   "metadata": {
    "papermill": {
     "duration": 0.025074,
     "end_time": "2021-07-14T16:08:40.180001",
     "exception": false,
     "start_time": "2021-07-14T16:08:40.154927",
     "status": "completed"
    },
    "tags": []
   },
   "source": [
    "This notebook is similar to `30` and `35`, but here I use the LVs that we found to be significantly enriched for the lipids CRISPR analysis, which might or might not coincide with the previously used LVs (those that discriminate clusters).\n",
    "The traits here are from PhenomeXcan."
   ]
  },
  {
   "cell_type": "markdown",
   "id": "agricultural-sunset",
   "metadata": {
    "papermill": {
     "duration": 0.025913,
     "end_time": "2021-07-14T16:08:40.230850",
     "exception": false,
     "start_time": "2021-07-14T16:08:40.204937",
     "status": "completed"
    },
    "tags": []
   },
   "source": [
    "# Environment variables"
   ]
  },
  {
   "cell_type": "code",
   "execution_count": 1,
   "id": "colored-functionality",
   "metadata": {
    "execution": {
     "iopub.execute_input": "2021-07-14T16:08:40.288293Z",
     "iopub.status.busy": "2021-07-14T16:08:40.287912Z",
     "iopub.status.idle": "2021-07-14T16:08:40.295411Z",
     "shell.execute_reply": "2021-07-14T16:08:40.295040Z"
    },
    "papermill": {
     "duration": 0.038914,
     "end_time": "2021-07-14T16:08:40.295501",
     "exception": false,
     "start_time": "2021-07-14T16:08:40.256587",
     "status": "completed"
    },
    "tags": []
   },
   "outputs": [],
   "source": [
    "%load_ext autoreload\n",
    "%autoreload 2"
   ]
  },
  {
   "cell_type": "code",
   "execution_count": 2,
   "id": "tested-pantyhose",
   "metadata": {
    "execution": {
     "iopub.execute_input": "2021-07-14T16:08:40.350345Z",
     "iopub.status.busy": "2021-07-14T16:08:40.349980Z",
     "iopub.status.idle": "2021-07-14T16:08:40.359653Z",
     "shell.execute_reply": "2021-07-14T16:08:40.359287Z"
    },
    "papermill": {
     "duration": 0.037702,
     "end_time": "2021-07-14T16:08:40.359734",
     "exception": false,
     "start_time": "2021-07-14T16:08:40.322032",
     "status": "completed"
    },
    "tags": []
   },
   "outputs": [],
   "source": [
    "import conf"
   ]
  },
  {
   "cell_type": "code",
   "execution_count": 3,
   "id": "pending-sleeve",
   "metadata": {
    "execution": {
     "iopub.execute_input": "2021-07-14T16:08:40.413746Z",
     "iopub.status.busy": "2021-07-14T16:08:40.413356Z",
     "iopub.status.idle": "2021-07-14T16:08:40.423808Z",
     "shell.execute_reply": "2021-07-14T16:08:40.423448Z"
    },
    "papermill": {
     "duration": 0.038059,
     "end_time": "2021-07-14T16:08:40.423889",
     "exception": false,
     "start_time": "2021-07-14T16:08:40.385830",
     "status": "completed"
    },
    "tags": []
   },
   "outputs": [
    {
     "data": {
      "text/plain": [
       "3"
      ]
     },
     "metadata": {},
     "output_type": "display_data"
    }
   ],
   "source": [
    "N_JOBS = conf.GENERAL[\"N_JOBS\"]\n",
    "display(N_JOBS)"
   ]
  },
  {
   "cell_type": "code",
   "execution_count": 4,
   "id": "micro-maximum",
   "metadata": {
    "execution": {
     "iopub.execute_input": "2021-07-14T16:08:40.484143Z",
     "iopub.status.busy": "2021-07-14T16:08:40.483789Z",
     "iopub.status.idle": "2021-07-14T16:08:40.490546Z",
     "shell.execute_reply": "2021-07-14T16:08:40.490175Z"
    },
    "papermill": {
     "duration": 0.035772,
     "end_time": "2021-07-14T16:08:40.490629",
     "exception": false,
     "start_time": "2021-07-14T16:08:40.454857",
     "status": "completed"
    },
    "tags": []
   },
   "outputs": [
    {
     "name": "stdout",
     "output_type": "stream",
     "text": [
      "env: MKL_NUM_THREADS=3\n",
      "env: OPEN_BLAS_NUM_THREADS=3\n",
      "env: NUMEXPR_NUM_THREADS=3\n",
      "env: OMP_NUM_THREADS=3\n"
     ]
    }
   ],
   "source": [
    "%env MKL_NUM_THREADS=$N_JOBS\n",
    "%env OPEN_BLAS_NUM_THREADS=$N_JOBS\n",
    "%env NUMEXPR_NUM_THREADS=$N_JOBS\n",
    "%env OMP_NUM_THREADS=$N_JOBS"
   ]
  },
  {
   "cell_type": "markdown",
   "id": "smoking-tomorrow",
   "metadata": {
    "papermill": {
     "duration": 0.031065,
     "end_time": "2021-07-14T16:08:40.549002",
     "exception": false,
     "start_time": "2021-07-14T16:08:40.517937",
     "status": "completed"
    },
    "tags": []
   },
   "source": [
    "# Modules"
   ]
  },
  {
   "cell_type": "code",
   "execution_count": 5,
   "id": "opening-fancy",
   "metadata": {
    "execution": {
     "iopub.execute_input": "2021-07-14T16:08:40.604002Z",
     "iopub.status.busy": "2021-07-14T16:08:40.603647Z",
     "iopub.status.idle": "2021-07-14T16:08:41.349432Z",
     "shell.execute_reply": "2021-07-14T16:08:41.349081Z"
    },
    "papermill": {
     "duration": 0.773956,
     "end_time": "2021-07-14T16:08:41.349528",
     "exception": false,
     "start_time": "2021-07-14T16:08:40.575572",
     "status": "completed"
    },
    "tags": []
   },
   "outputs": [],
   "source": [
    "from pathlib import Path\n",
    "\n",
    "import pandas as pd\n",
    "from tqdm import tqdm\n",
    "\n",
    "from gls import GLSPhenoplier"
   ]
  },
  {
   "cell_type": "markdown",
   "id": "modified-claim",
   "metadata": {
    "papermill": {
     "duration": 0.026072,
     "end_time": "2021-07-14T16:08:41.404086",
     "exception": false,
     "start_time": "2021-07-14T16:08:41.378014",
     "status": "completed"
    },
    "tags": []
   },
   "source": [
    "# Settings"
   ]
  },
  {
   "cell_type": "code",
   "execution_count": 6,
   "id": "romance-parker",
   "metadata": {
    "execution": {
     "iopub.execute_input": "2021-07-14T16:08:41.458509Z",
     "iopub.status.busy": "2021-07-14T16:08:41.458141Z",
     "iopub.status.idle": "2021-07-14T16:08:41.469499Z",
     "shell.execute_reply": "2021-07-14T16:08:41.469133Z"
    },
    "papermill": {
     "duration": 0.039512,
     "end_time": "2021-07-14T16:08:41.469583",
     "exception": false,
     "start_time": "2021-07-14T16:08:41.430071",
     "status": "completed"
    },
    "tags": []
   },
   "outputs": [
    {
     "data": {
      "text/plain": [
       "PosixPath('/home/miltondp/projects/labs/greenelab/phenoplier/base/results/gls')"
      ]
     },
     "metadata": {},
     "output_type": "display_data"
    }
   ],
   "source": [
    "OUTPUT_DIR = conf.RESULTS[\"GLS\"]\n",
    "display(OUTPUT_DIR)\n",
    "\n",
    "OUTPUT_DIR.mkdir(exist_ok=True, parents=True)"
   ]
  },
  {
   "cell_type": "code",
   "execution_count": 7,
   "id": "incredible-importance",
   "metadata": {
    "execution": {
     "iopub.execute_input": "2021-07-14T16:08:41.525549Z",
     "iopub.status.busy": "2021-07-14T16:08:41.525102Z",
     "iopub.status.idle": "2021-07-14T16:08:41.538974Z",
     "shell.execute_reply": "2021-07-14T16:08:41.538524Z"
    },
    "papermill": {
     "duration": 0.043091,
     "end_time": "2021-07-14T16:08:41.539072",
     "exception": false,
     "start_time": "2021-07-14T16:08:41.495981",
     "status": "completed"
    },
    "tags": []
   },
   "outputs": [
    {
     "data": {
      "text/plain": [
       "PosixPath('/home/miltondp/projects/labs/greenelab/phenoplier/base/results/gls/gls_phenotypes-crispr_lvs-phenomexcan.pkl')"
      ]
     },
     "metadata": {},
     "output_type": "display_data"
    }
   ],
   "source": [
    "OUTPUT_FILENAME = OUTPUT_DIR / \"gls_phenotypes-crispr_lvs-phenomexcan.pkl\"\n",
    "display(OUTPUT_FILENAME)"
   ]
  },
  {
   "cell_type": "markdown",
   "id": "operating-theta",
   "metadata": {
    "papermill": {
     "duration": 0.02678,
     "end_time": "2021-07-14T16:08:41.596310",
     "exception": false,
     "start_time": "2021-07-14T16:08:41.569530",
     "status": "completed"
    },
    "tags": []
   },
   "source": [
    "# Load data"
   ]
  },
  {
   "cell_type": "markdown",
   "id": "neural-egypt",
   "metadata": {
    "papermill": {
     "duration": 0.026033,
     "end_time": "2021-07-14T16:08:41.648722",
     "exception": false,
     "start_time": "2021-07-14T16:08:41.622689",
     "status": "completed"
    },
    "tags": []
   },
   "source": [
    "## PhenomeXcan (S-MultiXcan)"
   ]
  },
  {
   "cell_type": "code",
   "execution_count": 8,
   "id": "eastern-galaxy",
   "metadata": {
    "execution": {
     "iopub.execute_input": "2021-07-14T16:08:41.704303Z",
     "iopub.status.busy": "2021-07-14T16:08:41.703946Z",
     "iopub.status.idle": "2021-07-14T16:08:41.714530Z",
     "shell.execute_reply": "2021-07-14T16:08:41.714124Z"
    },
    "papermill": {
     "duration": 0.03918,
     "end_time": "2021-07-14T16:08:41.714615",
     "exception": false,
     "start_time": "2021-07-14T16:08:41.675435",
     "status": "completed"
    },
    "tags": []
   },
   "outputs": [],
   "source": [
    "INPUT_SUBSET = \"z_score_std\""
   ]
  },
  {
   "cell_type": "code",
   "execution_count": 9,
   "id": "freelance-sheet",
   "metadata": {
    "execution": {
     "iopub.execute_input": "2021-07-14T16:08:41.770670Z",
     "iopub.status.busy": "2021-07-14T16:08:41.770314Z",
     "iopub.status.idle": "2021-07-14T16:08:41.780594Z",
     "shell.execute_reply": "2021-07-14T16:08:41.780231Z"
    },
    "papermill": {
     "duration": 0.039086,
     "end_time": "2021-07-14T16:08:41.780676",
     "exception": false,
     "start_time": "2021-07-14T16:08:41.741590",
     "status": "completed"
    },
    "tags": []
   },
   "outputs": [],
   "source": [
    "INPUT_STEM = \"projection-smultixcan-efo_partial-mashr-zscores\""
   ]
  },
  {
   "cell_type": "code",
   "execution_count": 10,
   "id": "sorted-essay",
   "metadata": {
    "execution": {
     "iopub.execute_input": "2021-07-14T16:08:41.836271Z",
     "iopub.status.busy": "2021-07-14T16:08:41.835908Z",
     "iopub.status.idle": "2021-07-14T16:08:41.846513Z",
     "shell.execute_reply": "2021-07-14T16:08:41.846182Z"
    },
    "papermill": {
     "duration": 0.039427,
     "end_time": "2021-07-14T16:08:41.846595",
     "exception": false,
     "start_time": "2021-07-14T16:08:41.807168",
     "status": "completed"
    },
    "tags": []
   },
   "outputs": [],
   "source": [
    "input_filepath = Path(\n",
    "    conf.RESULTS[\"DATA_TRANSFORMATIONS_DIR\"],\n",
    "    INPUT_SUBSET,\n",
    "    f\"{INPUT_SUBSET}-{INPUT_STEM}.pkl\",\n",
    ").resolve()"
   ]
  },
  {
   "cell_type": "code",
   "execution_count": 11,
   "id": "controlled-royal",
   "metadata": {
    "execution": {
     "iopub.execute_input": "2021-07-14T16:08:41.902426Z",
     "iopub.status.busy": "2021-07-14T16:08:41.902072Z",
     "iopub.status.idle": "2021-07-14T16:08:41.926739Z",
     "shell.execute_reply": "2021-07-14T16:08:41.926379Z"
    },
    "papermill": {
     "duration": 0.053225,
     "end_time": "2021-07-14T16:08:41.926850",
     "exception": false,
     "start_time": "2021-07-14T16:08:41.873625",
     "status": "completed"
    },
    "tags": []
   },
   "outputs": [],
   "source": [
    "data = pd.read_pickle(input_filepath)"
   ]
  },
  {
   "cell_type": "code",
   "execution_count": 12,
   "id": "employed-niger",
   "metadata": {
    "execution": {
     "iopub.execute_input": "2021-07-14T16:08:41.985039Z",
     "iopub.status.busy": "2021-07-14T16:08:41.984619Z",
     "iopub.status.idle": "2021-07-14T16:08:41.995589Z",
     "shell.execute_reply": "2021-07-14T16:08:41.995219Z"
    },
    "papermill": {
     "duration": 0.039163,
     "end_time": "2021-07-14T16:08:41.995671",
     "exception": false,
     "start_time": "2021-07-14T16:08:41.956508",
     "status": "completed"
    },
    "tags": []
   },
   "outputs": [
    {
     "data": {
      "text/plain": [
       "(3752, 987)"
      ]
     },
     "execution_count": 12,
     "metadata": {},
     "output_type": "execute_result"
    }
   ],
   "source": [
    "data.shape"
   ]
  },
  {
   "cell_type": "code",
   "execution_count": 13,
   "id": "applicable-headset",
   "metadata": {
    "execution": {
     "iopub.execute_input": "2021-07-14T16:08:42.051636Z",
     "iopub.status.busy": "2021-07-14T16:08:42.051282Z",
     "iopub.status.idle": "2021-07-14T16:08:42.074676Z",
     "shell.execute_reply": "2021-07-14T16:08:42.074304Z"
    },
    "papermill": {
     "duration": 0.052333,
     "end_time": "2021-07-14T16:08:42.074761",
     "exception": false,
     "start_time": "2021-07-14T16:08:42.022428",
     "status": "completed"
    },
    "tags": []
   },
   "outputs": [
    {
     "data": {
      "text/html": [
       "<div>\n",
       "<style scoped>\n",
       "    .dataframe tbody tr th:only-of-type {\n",
       "        vertical-align: middle;\n",
       "    }\n",
       "\n",
       "    .dataframe tbody tr th {\n",
       "        vertical-align: top;\n",
       "    }\n",
       "\n",
       "    .dataframe thead th {\n",
       "        text-align: right;\n",
       "    }\n",
       "</style>\n",
       "<table border=\"1\" class=\"dataframe\">\n",
       "  <thead>\n",
       "    <tr style=\"text-align: right;\">\n",
       "      <th></th>\n",
       "      <th>LV1</th>\n",
       "      <th>LV2</th>\n",
       "      <th>LV3</th>\n",
       "      <th>LV4</th>\n",
       "      <th>LV5</th>\n",
       "      <th>LV6</th>\n",
       "      <th>LV7</th>\n",
       "      <th>LV8</th>\n",
       "      <th>LV9</th>\n",
       "      <th>LV10</th>\n",
       "      <th>...</th>\n",
       "      <th>LV978</th>\n",
       "      <th>LV979</th>\n",
       "      <th>LV980</th>\n",
       "      <th>LV981</th>\n",
       "      <th>LV982</th>\n",
       "      <th>LV983</th>\n",
       "      <th>LV984</th>\n",
       "      <th>LV985</th>\n",
       "      <th>LV986</th>\n",
       "      <th>LV987</th>\n",
       "    </tr>\n",
       "  </thead>\n",
       "  <tbody>\n",
       "    <tr>\n",
       "      <th>100001_raw-Food_weight</th>\n",
       "      <td>-0.695006</td>\n",
       "      <td>1.962565</td>\n",
       "      <td>0.057683</td>\n",
       "      <td>0.878731</td>\n",
       "      <td>-0.539977</td>\n",
       "      <td>1.481272</td>\n",
       "      <td>-0.396422</td>\n",
       "      <td>1.090180</td>\n",
       "      <td>0.759223</td>\n",
       "      <td>0.931395</td>\n",
       "      <td>...</td>\n",
       "      <td>1.129784</td>\n",
       "      <td>1.752343</td>\n",
       "      <td>-1.411403</td>\n",
       "      <td>2.823863</td>\n",
       "      <td>0.931116</td>\n",
       "      <td>-1.054519</td>\n",
       "      <td>0.432982</td>\n",
       "      <td>-0.633597</td>\n",
       "      <td>0.554279</td>\n",
       "      <td>-0.642479</td>\n",
       "    </tr>\n",
       "    <tr>\n",
       "      <th>100002_raw-Energy</th>\n",
       "      <td>-1.528127</td>\n",
       "      <td>-0.345309</td>\n",
       "      <td>-0.148953</td>\n",
       "      <td>-0.242060</td>\n",
       "      <td>0.373427</td>\n",
       "      <td>0.791092</td>\n",
       "      <td>0.263477</td>\n",
       "      <td>0.987702</td>\n",
       "      <td>0.354391</td>\n",
       "      <td>1.416059</td>\n",
       "      <td>...</td>\n",
       "      <td>0.224604</td>\n",
       "      <td>0.769882</td>\n",
       "      <td>-0.509482</td>\n",
       "      <td>0.091153</td>\n",
       "      <td>2.286789</td>\n",
       "      <td>-1.008256</td>\n",
       "      <td>-0.029764</td>\n",
       "      <td>1.737229</td>\n",
       "      <td>-0.272107</td>\n",
       "      <td>-0.526125</td>\n",
       "    </tr>\n",
       "    <tr>\n",
       "      <th>100003_raw-Protein</th>\n",
       "      <td>-0.704572</td>\n",
       "      <td>-1.011299</td>\n",
       "      <td>0.671420</td>\n",
       "      <td>0.143991</td>\n",
       "      <td>0.615212</td>\n",
       "      <td>0.874212</td>\n",
       "      <td>-0.040998</td>\n",
       "      <td>0.915170</td>\n",
       "      <td>0.254369</td>\n",
       "      <td>-0.084237</td>\n",
       "      <td>...</td>\n",
       "      <td>1.003019</td>\n",
       "      <td>1.044314</td>\n",
       "      <td>-2.376108</td>\n",
       "      <td>0.004778</td>\n",
       "      <td>0.053714</td>\n",
       "      <td>-0.892447</td>\n",
       "      <td>-0.183800</td>\n",
       "      <td>1.377991</td>\n",
       "      <td>-0.278794</td>\n",
       "      <td>-0.419733</td>\n",
       "    </tr>\n",
       "    <tr>\n",
       "      <th>100004_raw-Fat</th>\n",
       "      <td>-0.989832</td>\n",
       "      <td>-1.875490</td>\n",
       "      <td>0.261555</td>\n",
       "      <td>-1.420719</td>\n",
       "      <td>0.366238</td>\n",
       "      <td>1.167049</td>\n",
       "      <td>0.257387</td>\n",
       "      <td>0.717674</td>\n",
       "      <td>-0.997664</td>\n",
       "      <td>0.969825</td>\n",
       "      <td>...</td>\n",
       "      <td>0.585913</td>\n",
       "      <td>0.638314</td>\n",
       "      <td>0.119139</td>\n",
       "      <td>-0.140204</td>\n",
       "      <td>1.394326</td>\n",
       "      <td>-1.173402</td>\n",
       "      <td>0.555058</td>\n",
       "      <td>1.013982</td>\n",
       "      <td>-0.544506</td>\n",
       "      <td>-0.064061</td>\n",
       "    </tr>\n",
       "    <tr>\n",
       "      <th>100005_raw-Carbohydrate</th>\n",
       "      <td>-0.580143</td>\n",
       "      <td>0.243335</td>\n",
       "      <td>0.158966</td>\n",
       "      <td>-0.036558</td>\n",
       "      <td>0.068176</td>\n",
       "      <td>-0.202639</td>\n",
       "      <td>1.101281</td>\n",
       "      <td>0.675227</td>\n",
       "      <td>1.463432</td>\n",
       "      <td>1.010078</td>\n",
       "      <td>...</td>\n",
       "      <td>-0.249108</td>\n",
       "      <td>-0.026814</td>\n",
       "      <td>0.232713</td>\n",
       "      <td>0.323682</td>\n",
       "      <td>1.168642</td>\n",
       "      <td>-0.282935</td>\n",
       "      <td>0.653105</td>\n",
       "      <td>1.909526</td>\n",
       "      <td>0.199997</td>\n",
       "      <td>-1.656894</td>\n",
       "    </tr>\n",
       "  </tbody>\n",
       "</table>\n",
       "<p>5 rows × 987 columns</p>\n",
       "</div>"
      ],
      "text/plain": [
       "                              LV1       LV2       LV3       LV4       LV5  \\\n",
       "100001_raw-Food_weight  -0.695006  1.962565  0.057683  0.878731 -0.539977   \n",
       "100002_raw-Energy       -1.528127 -0.345309 -0.148953 -0.242060  0.373427   \n",
       "100003_raw-Protein      -0.704572 -1.011299  0.671420  0.143991  0.615212   \n",
       "100004_raw-Fat          -0.989832 -1.875490  0.261555 -1.420719  0.366238   \n",
       "100005_raw-Carbohydrate -0.580143  0.243335  0.158966 -0.036558  0.068176   \n",
       "\n",
       "                              LV6       LV7       LV8       LV9      LV10  \\\n",
       "100001_raw-Food_weight   1.481272 -0.396422  1.090180  0.759223  0.931395   \n",
       "100002_raw-Energy        0.791092  0.263477  0.987702  0.354391  1.416059   \n",
       "100003_raw-Protein       0.874212 -0.040998  0.915170  0.254369 -0.084237   \n",
       "100004_raw-Fat           1.167049  0.257387  0.717674 -0.997664  0.969825   \n",
       "100005_raw-Carbohydrate -0.202639  1.101281  0.675227  1.463432  1.010078   \n",
       "\n",
       "                         ...     LV978     LV979     LV980     LV981  \\\n",
       "100001_raw-Food_weight   ...  1.129784  1.752343 -1.411403  2.823863   \n",
       "100002_raw-Energy        ...  0.224604  0.769882 -0.509482  0.091153   \n",
       "100003_raw-Protein       ...  1.003019  1.044314 -2.376108  0.004778   \n",
       "100004_raw-Fat           ...  0.585913  0.638314  0.119139 -0.140204   \n",
       "100005_raw-Carbohydrate  ... -0.249108 -0.026814  0.232713  0.323682   \n",
       "\n",
       "                            LV982     LV983     LV984     LV985     LV986  \\\n",
       "100001_raw-Food_weight   0.931116 -1.054519  0.432982 -0.633597  0.554279   \n",
       "100002_raw-Energy        2.286789 -1.008256 -0.029764  1.737229 -0.272107   \n",
       "100003_raw-Protein       0.053714 -0.892447 -0.183800  1.377991 -0.278794   \n",
       "100004_raw-Fat           1.394326 -1.173402  0.555058  1.013982 -0.544506   \n",
       "100005_raw-Carbohydrate  1.168642 -0.282935  0.653105  1.909526  0.199997   \n",
       "\n",
       "                            LV987  \n",
       "100001_raw-Food_weight  -0.642479  \n",
       "100002_raw-Energy       -0.526125  \n",
       "100003_raw-Protein      -0.419733  \n",
       "100004_raw-Fat          -0.064061  \n",
       "100005_raw-Carbohydrate -1.656894  \n",
       "\n",
       "[5 rows x 987 columns]"
      ]
     },
     "execution_count": 13,
     "metadata": {},
     "output_type": "execute_result"
    }
   ],
   "source": [
    "data.head()"
   ]
  },
  {
   "cell_type": "markdown",
   "id": "signed-count",
   "metadata": {
    "papermill": {
     "duration": 0.027351,
     "end_time": "2021-07-14T16:08:42.129428",
     "exception": false,
     "start_time": "2021-07-14T16:08:42.102077",
     "status": "completed"
    },
    "tags": []
   },
   "source": [
    "## Clustering results"
   ]
  },
  {
   "cell_type": "code",
   "execution_count": 14,
   "id": "visible-petite",
   "metadata": {
    "execution": {
     "iopub.execute_input": "2021-07-14T16:08:42.186230Z",
     "iopub.status.busy": "2021-07-14T16:08:42.185875Z",
     "iopub.status.idle": "2021-07-14T16:08:42.197273Z",
     "shell.execute_reply": "2021-07-14T16:08:42.196903Z"
    },
    "papermill": {
     "duration": 0.04113,
     "end_time": "2021-07-14T16:08:42.197355",
     "exception": false,
     "start_time": "2021-07-14T16:08:42.156225",
     "status": "completed"
    },
    "tags": []
   },
   "outputs": [
    {
     "data": {
      "text/plain": [
       "PosixPath('/home/miltondp/projects/labs/greenelab/phenoplier/base/results/clustering/consensus_clustering')"
      ]
     },
     "metadata": {},
     "output_type": "display_data"
    }
   ],
   "source": [
    "CONSENSUS_CLUSTERING_DIR = Path(\n",
    "    conf.RESULTS[\"CLUSTERING_DIR\"], \"consensus_clustering\"\n",
    ").resolve()\n",
    "\n",
    "display(CONSENSUS_CLUSTERING_DIR)"
   ]
  },
  {
   "cell_type": "code",
   "execution_count": 15,
   "id": "located-sheriff",
   "metadata": {
    "execution": {
     "iopub.execute_input": "2021-07-14T16:08:42.255627Z",
     "iopub.status.busy": "2021-07-14T16:08:42.255249Z",
     "iopub.status.idle": "2021-07-14T16:08:42.266829Z",
     "shell.execute_reply": "2021-07-14T16:08:42.267128Z"
    },
    "papermill": {
     "duration": 0.042046,
     "end_time": "2021-07-14T16:08:42.267239",
     "exception": false,
     "start_time": "2021-07-14T16:08:42.225193",
     "status": "completed"
    },
    "tags": []
   },
   "outputs": [
    {
     "data": {
      "text/plain": [
       "PosixPath('/home/miltondp/projects/labs/greenelab/phenoplier/base/results/clustering/consensus_clustering/best_partitions_by_k.pkl')"
      ]
     },
     "metadata": {},
     "output_type": "display_data"
    }
   ],
   "source": [
    "input_file = Path(CONSENSUS_CLUSTERING_DIR, \"best_partitions_by_k.pkl\").resolve()\n",
    "display(input_file)"
   ]
  },
  {
   "cell_type": "code",
   "execution_count": 16,
   "id": "forty-cologne",
   "metadata": {
    "execution": {
     "iopub.execute_input": "2021-07-14T16:08:42.327499Z",
     "iopub.status.busy": "2021-07-14T16:08:42.327130Z",
     "iopub.status.idle": "2021-07-14T16:08:42.338809Z",
     "shell.execute_reply": "2021-07-14T16:08:42.338431Z"
    },
    "papermill": {
     "duration": 0.042804,
     "end_time": "2021-07-14T16:08:42.338896",
     "exception": false,
     "start_time": "2021-07-14T16:08:42.296092",
     "status": "completed"
    },
    "tags": []
   },
   "outputs": [],
   "source": [
    "best_partitions = pd.read_pickle(input_file)"
   ]
  },
  {
   "cell_type": "code",
   "execution_count": 17,
   "id": "medical-arbor",
   "metadata": {
    "execution": {
     "iopub.execute_input": "2021-07-14T16:08:42.398112Z",
     "iopub.status.busy": "2021-07-14T16:08:42.397692Z",
     "iopub.status.idle": "2021-07-14T16:08:42.410022Z",
     "shell.execute_reply": "2021-07-14T16:08:42.409654Z"
    },
    "papermill": {
     "duration": 0.042703,
     "end_time": "2021-07-14T16:08:42.410106",
     "exception": false,
     "start_time": "2021-07-14T16:08:42.367403",
     "status": "completed"
    },
    "tags": []
   },
   "outputs": [
    {
     "data": {
      "text/plain": [
       "(59, 4)"
      ]
     },
     "execution_count": 17,
     "metadata": {},
     "output_type": "execute_result"
    }
   ],
   "source": [
    "best_partitions.shape"
   ]
  },
  {
   "cell_type": "code",
   "execution_count": 18,
   "id": "purple-bobby",
   "metadata": {
    "execution": {
     "iopub.execute_input": "2021-07-14T16:08:42.470111Z",
     "iopub.status.busy": "2021-07-14T16:08:42.469760Z",
     "iopub.status.idle": "2021-07-14T16:08:42.489310Z",
     "shell.execute_reply": "2021-07-14T16:08:42.488949Z"
    },
    "papermill": {
     "duration": 0.050325,
     "end_time": "2021-07-14T16:08:42.489392",
     "exception": false,
     "start_time": "2021-07-14T16:08:42.439067",
     "status": "completed"
    },
    "tags": []
   },
   "outputs": [
    {
     "data": {
      "text/html": [
       "<div>\n",
       "<style scoped>\n",
       "    .dataframe tbody tr th:only-of-type {\n",
       "        vertical-align: middle;\n",
       "    }\n",
       "\n",
       "    .dataframe tbody tr th {\n",
       "        vertical-align: top;\n",
       "    }\n",
       "\n",
       "    .dataframe thead th {\n",
       "        text-align: right;\n",
       "    }\n",
       "</style>\n",
       "<table border=\"1\" class=\"dataframe\">\n",
       "  <thead>\n",
       "    <tr style=\"text-align: right;\">\n",
       "      <th></th>\n",
       "      <th>method</th>\n",
       "      <th>partition</th>\n",
       "      <th>ari_median</th>\n",
       "      <th>selected</th>\n",
       "    </tr>\n",
       "    <tr>\n",
       "      <th>k</th>\n",
       "      <th></th>\n",
       "      <th></th>\n",
       "      <th></th>\n",
       "      <th></th>\n",
       "    </tr>\n",
       "  </thead>\n",
       "  <tbody>\n",
       "    <tr>\n",
       "      <th>14</th>\n",
       "      <td>scc_025</td>\n",
       "      <td>[0, 0, 0, 0, 0, 0, 0, 0, 0, 0, 0, 0, 0, 0, 0, ...</td>\n",
       "      <td>0.090117</td>\n",
       "      <td>True</td>\n",
       "    </tr>\n",
       "    <tr>\n",
       "      <th>22</th>\n",
       "      <td>scc_020</td>\n",
       "      <td>[13, 18, 18, 18, 18, 18, 18, 18, 18, 13, 18, 1...</td>\n",
       "      <td>0.090100</td>\n",
       "      <td>True</td>\n",
       "    </tr>\n",
       "    <tr>\n",
       "      <th>13</th>\n",
       "      <td>scc_025</td>\n",
       "      <td>[0, 0, 0, 0, 0, 0, 0, 0, 0, 0, 0, 0, 0, 0, 0, ...</td>\n",
       "      <td>0.089920</td>\n",
       "      <td>True</td>\n",
       "    </tr>\n",
       "    <tr>\n",
       "      <th>12</th>\n",
       "      <td>scc_025</td>\n",
       "      <td>[0, 0, 0, 0, 0, 0, 0, 0, 0, 0, 0, 0, 0, 0, 0, ...</td>\n",
       "      <td>0.089894</td>\n",
       "      <td>True</td>\n",
       "    </tr>\n",
       "    <tr>\n",
       "      <th>11</th>\n",
       "      <td>scc_025</td>\n",
       "      <td>[0, 0, 0, 0, 0, 0, 0, 0, 0, 0, 0, 0, 0, 0, 0, ...</td>\n",
       "      <td>0.089616</td>\n",
       "      <td>True</td>\n",
       "    </tr>\n",
       "  </tbody>\n",
       "</table>\n",
       "</div>"
      ],
      "text/plain": [
       "     method                                          partition  ari_median  \\\n",
       "k                                                                            \n",
       "14  scc_025  [0, 0, 0, 0, 0, 0, 0, 0, 0, 0, 0, 0, 0, 0, 0, ...    0.090117   \n",
       "22  scc_020  [13, 18, 18, 18, 18, 18, 18, 18, 18, 13, 18, 1...    0.090100   \n",
       "13  scc_025  [0, 0, 0, 0, 0, 0, 0, 0, 0, 0, 0, 0, 0, 0, 0, ...    0.089920   \n",
       "12  scc_025  [0, 0, 0, 0, 0, 0, 0, 0, 0, 0, 0, 0, 0, 0, 0, ...    0.089894   \n",
       "11  scc_025  [0, 0, 0, 0, 0, 0, 0, 0, 0, 0, 0, 0, 0, 0, 0, ...    0.089616   \n",
       "\n",
       "    selected  \n",
       "k             \n",
       "14      True  \n",
       "22      True  \n",
       "13      True  \n",
       "12      True  \n",
       "11      True  "
      ]
     },
     "execution_count": 18,
     "metadata": {},
     "output_type": "execute_result"
    }
   ],
   "source": [
    "best_partitions.head()"
   ]
  },
  {
   "cell_type": "markdown",
   "id": "stuck-penguin",
   "metadata": {
    "papermill": {
     "duration": 0.031906,
     "end_time": "2021-07-14T16:08:42.549739",
     "exception": false,
     "start_time": "2021-07-14T16:08:42.517833",
     "status": "completed"
    },
    "tags": []
   },
   "source": [
    "## MultiPLIER summary"
   ]
  },
  {
   "cell_type": "code",
   "execution_count": 19,
   "id": "smart-pipeline",
   "metadata": {
    "execution": {
     "iopub.execute_input": "2021-07-14T16:08:42.610429Z",
     "iopub.status.busy": "2021-07-14T16:08:42.610065Z",
     "iopub.status.idle": "2021-07-14T16:08:42.621720Z",
     "shell.execute_reply": "2021-07-14T16:08:42.622000Z"
    },
    "papermill": {
     "duration": 0.042601,
     "end_time": "2021-07-14T16:08:42.622111",
     "exception": false,
     "start_time": "2021-07-14T16:08:42.579510",
     "status": "completed"
    },
    "tags": []
   },
   "outputs": [],
   "source": [
    "multiplier_model_summary = pd.read_pickle(conf.MULTIPLIER[\"MODEL_SUMMARY_FILE\"])"
   ]
  },
  {
   "cell_type": "code",
   "execution_count": 20,
   "id": "meaning-opposition",
   "metadata": {
    "execution": {
     "iopub.execute_input": "2021-07-14T16:08:42.682635Z",
     "iopub.status.busy": "2021-07-14T16:08:42.682281Z",
     "iopub.status.idle": "2021-07-14T16:08:42.693336Z",
     "shell.execute_reply": "2021-07-14T16:08:42.692966Z"
    },
    "papermill": {
     "duration": 0.04189,
     "end_time": "2021-07-14T16:08:42.693421",
     "exception": false,
     "start_time": "2021-07-14T16:08:42.651531",
     "status": "completed"
    },
    "tags": []
   },
   "outputs": [
    {
     "data": {
      "text/plain": [
       "(2157, 5)"
      ]
     },
     "execution_count": 20,
     "metadata": {},
     "output_type": "execute_result"
    }
   ],
   "source": [
    "multiplier_model_summary.shape"
   ]
  },
  {
   "cell_type": "code",
   "execution_count": 21,
   "id": "separated-cooler",
   "metadata": {
    "execution": {
     "iopub.execute_input": "2021-07-14T16:08:42.752655Z",
     "iopub.status.busy": "2021-07-14T16:08:42.752296Z",
     "iopub.status.idle": "2021-07-14T16:08:42.766947Z",
     "shell.execute_reply": "2021-07-14T16:08:42.767224Z"
    },
    "papermill": {
     "duration": 0.045547,
     "end_time": "2021-07-14T16:08:42.767330",
     "exception": false,
     "start_time": "2021-07-14T16:08:42.721783",
     "status": "completed"
    },
    "tags": []
   },
   "outputs": [
    {
     "data": {
      "text/html": [
       "<div>\n",
       "<style scoped>\n",
       "    .dataframe tbody tr th:only-of-type {\n",
       "        vertical-align: middle;\n",
       "    }\n",
       "\n",
       "    .dataframe tbody tr th {\n",
       "        vertical-align: top;\n",
       "    }\n",
       "\n",
       "    .dataframe thead th {\n",
       "        text-align: right;\n",
       "    }\n",
       "</style>\n",
       "<table border=\"1\" class=\"dataframe\">\n",
       "  <thead>\n",
       "    <tr style=\"text-align: right;\">\n",
       "      <th></th>\n",
       "      <th>pathway</th>\n",
       "      <th>LV index</th>\n",
       "      <th>AUC</th>\n",
       "      <th>p-value</th>\n",
       "      <th>FDR</th>\n",
       "    </tr>\n",
       "  </thead>\n",
       "  <tbody>\n",
       "    <tr>\n",
       "      <th>1</th>\n",
       "      <td>KEGG_LYSINE_DEGRADATION</td>\n",
       "      <td>1</td>\n",
       "      <td>0.388059</td>\n",
       "      <td>0.866078</td>\n",
       "      <td>0.956005</td>\n",
       "    </tr>\n",
       "    <tr>\n",
       "      <th>2</th>\n",
       "      <td>REACTOME_MRNA_SPLICING</td>\n",
       "      <td>1</td>\n",
       "      <td>0.733057</td>\n",
       "      <td>0.000048</td>\n",
       "      <td>0.000582</td>\n",
       "    </tr>\n",
       "    <tr>\n",
       "      <th>3</th>\n",
       "      <td>MIPS_NOP56P_ASSOCIATED_PRE_RRNA_COMPLEX</td>\n",
       "      <td>1</td>\n",
       "      <td>0.680555</td>\n",
       "      <td>0.001628</td>\n",
       "      <td>0.011366</td>\n",
       "    </tr>\n",
       "    <tr>\n",
       "      <th>4</th>\n",
       "      <td>KEGG_DNA_REPLICATION</td>\n",
       "      <td>1</td>\n",
       "      <td>0.549473</td>\n",
       "      <td>0.312155</td>\n",
       "      <td>0.539951</td>\n",
       "    </tr>\n",
       "    <tr>\n",
       "      <th>5</th>\n",
       "      <td>PID_MYC_ACTIVPATHWAY</td>\n",
       "      <td>1</td>\n",
       "      <td>0.639303</td>\n",
       "      <td>0.021702</td>\n",
       "      <td>0.083739</td>\n",
       "    </tr>\n",
       "  </tbody>\n",
       "</table>\n",
       "</div>"
      ],
      "text/plain": [
       "                                   pathway LV index       AUC   p-value  \\\n",
       "1                  KEGG_LYSINE_DEGRADATION        1  0.388059  0.866078   \n",
       "2                   REACTOME_MRNA_SPLICING        1  0.733057  0.000048   \n",
       "3  MIPS_NOP56P_ASSOCIATED_PRE_RRNA_COMPLEX        1  0.680555  0.001628   \n",
       "4                     KEGG_DNA_REPLICATION        1  0.549473  0.312155   \n",
       "5                     PID_MYC_ACTIVPATHWAY        1  0.639303  0.021702   \n",
       "\n",
       "        FDR  \n",
       "1  0.956005  \n",
       "2  0.000582  \n",
       "3  0.011366  \n",
       "4  0.539951  \n",
       "5  0.083739  "
      ]
     },
     "execution_count": 21,
     "metadata": {},
     "output_type": "execute_result"
    }
   ],
   "source": [
    "multiplier_model_summary.head()"
   ]
  },
  {
   "cell_type": "code",
   "execution_count": 22,
   "id": "frequent-damages",
   "metadata": {
    "execution": {
     "iopub.execute_input": "2021-07-14T16:08:42.828236Z",
     "iopub.status.busy": "2021-07-14T16:08:42.827854Z",
     "iopub.status.idle": "2021-07-14T16:08:42.846474Z",
     "shell.execute_reply": "2021-07-14T16:08:42.846746Z"
    },
    "papermill": {
     "duration": 0.050338,
     "end_time": "2021-07-14T16:08:42.846852",
     "exception": false,
     "start_time": "2021-07-14T16:08:42.796514",
     "status": "completed"
    },
    "tags": []
   },
   "outputs": [
    {
     "data": {
      "text/plain": [
       "(469, 5)"
      ]
     },
     "metadata": {},
     "output_type": "display_data"
    },
    {
     "data": {
      "text/html": [
       "<div>\n",
       "<style scoped>\n",
       "    .dataframe tbody tr th:only-of-type {\n",
       "        vertical-align: middle;\n",
       "    }\n",
       "\n",
       "    .dataframe tbody tr th {\n",
       "        vertical-align: top;\n",
       "    }\n",
       "\n",
       "    .dataframe thead th {\n",
       "        text-align: right;\n",
       "    }\n",
       "</style>\n",
       "<table border=\"1\" class=\"dataframe\">\n",
       "  <thead>\n",
       "    <tr style=\"text-align: right;\">\n",
       "      <th></th>\n",
       "      <th>pathway</th>\n",
       "      <th>LV index</th>\n",
       "      <th>AUC</th>\n",
       "      <th>p-value</th>\n",
       "      <th>FDR</th>\n",
       "    </tr>\n",
       "  </thead>\n",
       "  <tbody>\n",
       "    <tr>\n",
       "      <th>2</th>\n",
       "      <td>REACTOME_MRNA_SPLICING</td>\n",
       "      <td>1</td>\n",
       "      <td>0.733057</td>\n",
       "      <td>4.772691e-05</td>\n",
       "      <td>5.816211e-04</td>\n",
       "    </tr>\n",
       "    <tr>\n",
       "      <th>3</th>\n",
       "      <td>MIPS_NOP56P_ASSOCIATED_PRE_RRNA_COMPLEX</td>\n",
       "      <td>1</td>\n",
       "      <td>0.680555</td>\n",
       "      <td>1.628217e-03</td>\n",
       "      <td>1.136590e-02</td>\n",
       "    </tr>\n",
       "    <tr>\n",
       "      <th>8</th>\n",
       "      <td>REACTOME_MITOTIC_G1_G1_S_PHASES</td>\n",
       "      <td>1</td>\n",
       "      <td>0.686170</td>\n",
       "      <td>2.517619e-04</td>\n",
       "      <td>2.392292e-03</td>\n",
       "    </tr>\n",
       "    <tr>\n",
       "      <th>9</th>\n",
       "      <td>IRIS_Monocyte-Day0</td>\n",
       "      <td>2</td>\n",
       "      <td>0.890036</td>\n",
       "      <td>4.315812e-25</td>\n",
       "      <td>1.329887e-22</td>\n",
       "    </tr>\n",
       "    <tr>\n",
       "      <th>10</th>\n",
       "      <td>DMAP_MONO2</td>\n",
       "      <td>2</td>\n",
       "      <td>0.904676</td>\n",
       "      <td>1.313970e-16</td>\n",
       "      <td>1.574574e-14</td>\n",
       "    </tr>\n",
       "  </tbody>\n",
       "</table>\n",
       "</div>"
      ],
      "text/plain": [
       "                                    pathway LV index       AUC       p-value  \\\n",
       "2                    REACTOME_MRNA_SPLICING        1  0.733057  4.772691e-05   \n",
       "3   MIPS_NOP56P_ASSOCIATED_PRE_RRNA_COMPLEX        1  0.680555  1.628217e-03   \n",
       "8           REACTOME_MITOTIC_G1_G1_S_PHASES        1  0.686170  2.517619e-04   \n",
       "9                        IRIS_Monocyte-Day0        2  0.890036  4.315812e-25   \n",
       "10                               DMAP_MONO2        2  0.904676  1.313970e-16   \n",
       "\n",
       "             FDR  \n",
       "2   5.816211e-04  \n",
       "3   1.136590e-02  \n",
       "8   2.392292e-03  \n",
       "9   1.329887e-22  \n",
       "10  1.574574e-14  "
      ]
     },
     "metadata": {},
     "output_type": "display_data"
    }
   ],
   "source": [
    "well_aligned_lvs = multiplier_model_summary[\n",
    "    (multiplier_model_summary[\"FDR\"] < 0.05) | (multiplier_model_summary[\"AUC\"] >= 0.75)\n",
    "]\n",
    "\n",
    "display(well_aligned_lvs.shape)\n",
    "display(well_aligned_lvs.head())"
   ]
  },
  {
   "cell_type": "code",
   "execution_count": 23,
   "id": "strange-response",
   "metadata": {
    "execution": {
     "iopub.execute_input": "2021-07-14T16:08:42.908565Z",
     "iopub.status.busy": "2021-07-14T16:08:42.908212Z",
     "iopub.status.idle": "2021-07-14T16:08:42.918945Z",
     "shell.execute_reply": "2021-07-14T16:08:42.918588Z"
    },
    "papermill": {
     "duration": 0.042302,
     "end_time": "2021-07-14T16:08:42.919069",
     "exception": false,
     "start_time": "2021-07-14T16:08:42.876767",
     "status": "completed"
    },
    "tags": []
   },
   "outputs": [],
   "source": [
    "well_aligned_lv_codes = set([f\"LV{lvi}\" for lvi in well_aligned_lvs[\"LV index\"]])"
   ]
  },
  {
   "cell_type": "code",
   "execution_count": 24,
   "id": "agreed-trader",
   "metadata": {
    "execution": {
     "iopub.execute_input": "2021-07-14T16:08:42.980881Z",
     "iopub.status.busy": "2021-07-14T16:08:42.980487Z",
     "iopub.status.idle": "2021-07-14T16:08:42.991922Z",
     "shell.execute_reply": "2021-07-14T16:08:42.991556Z"
    },
    "papermill": {
     "duration": 0.043139,
     "end_time": "2021-07-14T16:08:42.992006",
     "exception": false,
     "start_time": "2021-07-14T16:08:42.948867",
     "status": "completed"
    },
    "tags": []
   },
   "outputs": [
    {
     "data": {
      "text/plain": [
       "200"
      ]
     },
     "execution_count": 24,
     "metadata": {},
     "output_type": "execute_result"
    }
   ],
   "source": [
    "len(well_aligned_lv_codes)"
   ]
  },
  {
   "cell_type": "code",
   "execution_count": 25,
   "id": "boxed-providence",
   "metadata": {
    "execution": {
     "iopub.execute_input": "2021-07-14T16:08:43.053324Z",
     "iopub.status.busy": "2021-07-14T16:08:43.052972Z",
     "iopub.status.idle": "2021-07-14T16:08:43.064006Z",
     "shell.execute_reply": "2021-07-14T16:08:43.063638Z"
    },
    "papermill": {
     "duration": 0.042447,
     "end_time": "2021-07-14T16:08:43.064090",
     "exception": false,
     "start_time": "2021-07-14T16:08:43.021643",
     "status": "completed"
    },
    "tags": []
   },
   "outputs": [
    {
     "data": {
      "text/plain": [
       "['LV750', 'LV976', 'LV746', 'LV68', 'LV921']"
      ]
     },
     "execution_count": 25,
     "metadata": {},
     "output_type": "execute_result"
    }
   ],
   "source": [
    "list(well_aligned_lv_codes)[:5]"
   ]
  },
  {
   "cell_type": "markdown",
   "id": "spanish-strap",
   "metadata": {
    "papermill": {
     "duration": 0.02939,
     "end_time": "2021-07-14T16:08:43.123717",
     "exception": false,
     "start_time": "2021-07-14T16:08:43.094327",
     "status": "completed"
    },
    "tags": []
   },
   "source": [
    "# Select LVs from CRISPR analysis"
   ]
  },
  {
   "cell_type": "code",
   "execution_count": 26,
   "id": "common-mechanics",
   "metadata": {
    "execution": {
     "iopub.execute_input": "2021-07-14T16:08:43.184913Z",
     "iopub.status.busy": "2021-07-14T16:08:43.184525Z",
     "iopub.status.idle": "2021-07-14T16:08:43.210768Z",
     "shell.execute_reply": "2021-07-14T16:08:43.210398Z"
    },
    "papermill": {
     "duration": 0.057836,
     "end_time": "2021-07-14T16:08:43.210852",
     "exception": false,
     "start_time": "2021-07-14T16:08:43.153016",
     "status": "completed"
    },
    "tags": []
   },
   "outputs": [],
   "source": [
    "# FIXME: there will be a specific folder for crispr analysis in the future, that should be replaced here\n",
    "deg_enrich = pd.read_csv(\n",
    "    Path(\n",
    "        conf.RESULTS[\"BASE_DIR\"],\n",
    "        \"crispr_analyses\",\n",
    "        \"fgsea-all_lvs.tsv\",\n",
    "    ).resolve(),\n",
    "    sep=\"\\t\",\n",
    ")"
   ]
  },
  {
   "cell_type": "code",
   "execution_count": 27,
   "id": "efficient-leone",
   "metadata": {
    "execution": {
     "iopub.execute_input": "2021-07-14T16:08:43.273580Z",
     "iopub.status.busy": "2021-07-14T16:08:43.273221Z",
     "iopub.status.idle": "2021-07-14T16:08:43.284184Z",
     "shell.execute_reply": "2021-07-14T16:08:43.283807Z"
    },
    "papermill": {
     "duration": 0.043221,
     "end_time": "2021-07-14T16:08:43.284270",
     "exception": false,
     "start_time": "2021-07-14T16:08:43.241049",
     "status": "completed"
    },
    "tags": []
   },
   "outputs": [
    {
     "data": {
      "text/plain": [
       "(1973, 11)"
      ]
     },
     "execution_count": 27,
     "metadata": {},
     "output_type": "execute_result"
    }
   ],
   "source": [
    "deg_enrich.shape"
   ]
  },
  {
   "cell_type": "code",
   "execution_count": 28,
   "id": "appropriate-honolulu",
   "metadata": {
    "execution": {
     "iopub.execute_input": "2021-07-14T16:08:43.346792Z",
     "iopub.status.busy": "2021-07-14T16:08:43.346419Z",
     "iopub.status.idle": "2021-07-14T16:08:43.364059Z",
     "shell.execute_reply": "2021-07-14T16:08:43.363693Z"
    },
    "papermill": {
     "duration": 0.049887,
     "end_time": "2021-07-14T16:08:43.364143",
     "exception": false,
     "start_time": "2021-07-14T16:08:43.314256",
     "status": "completed"
    },
    "tags": []
   },
   "outputs": [
    {
     "data": {
      "text/html": [
       "<div>\n",
       "<style scoped>\n",
       "    .dataframe tbody tr th:only-of-type {\n",
       "        vertical-align: middle;\n",
       "    }\n",
       "\n",
       "    .dataframe tbody tr th {\n",
       "        vertical-align: top;\n",
       "    }\n",
       "\n",
       "    .dataframe thead th {\n",
       "        text-align: right;\n",
       "    }\n",
       "</style>\n",
       "<table border=\"1\" class=\"dataframe\">\n",
       "  <thead>\n",
       "    <tr style=\"text-align: right;\">\n",
       "      <th></th>\n",
       "      <th>pathway</th>\n",
       "      <th>pval</th>\n",
       "      <th>padj</th>\n",
       "      <th>log2err</th>\n",
       "      <th>ES</th>\n",
       "      <th>NES</th>\n",
       "      <th>size</th>\n",
       "      <th>leadingEdge</th>\n",
       "      <th>lv</th>\n",
       "      <th>rep_idx</th>\n",
       "      <th>fdr</th>\n",
       "    </tr>\n",
       "  </thead>\n",
       "  <tbody>\n",
       "    <tr>\n",
       "      <th>0</th>\n",
       "      <td>gene_set_decrease</td>\n",
       "      <td>0.198801</td>\n",
       "      <td>0.251748</td>\n",
       "      <td>0.091680</td>\n",
       "      <td>0.578418</td>\n",
       "      <td>1.123767</td>\n",
       "      <td>35</td>\n",
       "      <td>PTBP1, KEAP1, PEX14, DLST, PCYT2, MAD2L2, GLRX...</td>\n",
       "      <td>LV1</td>\n",
       "      <td>2</td>\n",
       "      <td>0.755621</td>\n",
       "    </tr>\n",
       "    <tr>\n",
       "      <th>1</th>\n",
       "      <td>gene_set_increase</td>\n",
       "      <td>0.251748</td>\n",
       "      <td>0.251748</td>\n",
       "      <td>0.078711</td>\n",
       "      <td>0.539155</td>\n",
       "      <td>1.078565</td>\n",
       "      <td>63</td>\n",
       "      <td>CHERP, RANGAP1, HNRNPL, RPS2, E4F1, TAF1C, GAT...</td>\n",
       "      <td>LV1</td>\n",
       "      <td>2</td>\n",
       "      <td>0.779947</td>\n",
       "    </tr>\n",
       "    <tr>\n",
       "      <th>2</th>\n",
       "      <td>gene_set_decrease</td>\n",
       "      <td>0.963037</td>\n",
       "      <td>0.999001</td>\n",
       "      <td>0.008938</td>\n",
       "      <td>0.434799</td>\n",
       "      <td>0.678421</td>\n",
       "      <td>20</td>\n",
       "      <td>VDR, ACVR1B, KEAP1, NDUFV2, PEX14, NDUFS3, WDR26</td>\n",
       "      <td>LV10</td>\n",
       "      <td>5</td>\n",
       "      <td>1.000000</td>\n",
       "    </tr>\n",
       "    <tr>\n",
       "      <th>3</th>\n",
       "      <td>gene_set_increase</td>\n",
       "      <td>1.000000</td>\n",
       "      <td>1.000000</td>\n",
       "      <td>0.000000</td>\n",
       "      <td>0.236619</td>\n",
       "      <td>0.378164</td>\n",
       "      <td>25</td>\n",
       "      <td>USP39, SRP19, ZNF3, RPL18, RPS19, RAP1GDS1, CH...</td>\n",
       "      <td>LV10</td>\n",
       "      <td>2</td>\n",
       "      <td>1.000000</td>\n",
       "    </tr>\n",
       "    <tr>\n",
       "      <th>4</th>\n",
       "      <td>gene_set_decrease</td>\n",
       "      <td>0.042957</td>\n",
       "      <td>0.085914</td>\n",
       "      <td>0.216543</td>\n",
       "      <td>0.831205</td>\n",
       "      <td>1.711885</td>\n",
       "      <td>27</td>\n",
       "      <td>NDUFB7, PTBP1, RRAGC, PPP2R2B, SQLE</td>\n",
       "      <td>LV100</td>\n",
       "      <td>6</td>\n",
       "      <td>0.718678</td>\n",
       "    </tr>\n",
       "  </tbody>\n",
       "</table>\n",
       "</div>"
      ],
      "text/plain": [
       "             pathway      pval      padj   log2err        ES       NES  size  \\\n",
       "0  gene_set_decrease  0.198801  0.251748  0.091680  0.578418  1.123767    35   \n",
       "1  gene_set_increase  0.251748  0.251748  0.078711  0.539155  1.078565    63   \n",
       "2  gene_set_decrease  0.963037  0.999001  0.008938  0.434799  0.678421    20   \n",
       "3  gene_set_increase  1.000000  1.000000  0.000000  0.236619  0.378164    25   \n",
       "4  gene_set_decrease  0.042957  0.085914  0.216543  0.831205  1.711885    27   \n",
       "\n",
       "                                         leadingEdge     lv  rep_idx       fdr  \n",
       "0  PTBP1, KEAP1, PEX14, DLST, PCYT2, MAD2L2, GLRX...    LV1        2  0.755621  \n",
       "1  CHERP, RANGAP1, HNRNPL, RPS2, E4F1, TAF1C, GAT...    LV1        2  0.779947  \n",
       "2   VDR, ACVR1B, KEAP1, NDUFV2, PEX14, NDUFS3, WDR26   LV10        5  1.000000  \n",
       "3  USP39, SRP19, ZNF3, RPL18, RPS19, RAP1GDS1, CH...   LV10        2  1.000000  \n",
       "4                NDUFB7, PTBP1, RRAGC, PPP2R2B, SQLE  LV100        6  0.718678  "
      ]
     },
     "execution_count": 28,
     "metadata": {},
     "output_type": "execute_result"
    }
   ],
   "source": [
    "deg_enrich.head()"
   ]
  },
  {
   "cell_type": "code",
   "execution_count": 29,
   "id": "impressed-anthony",
   "metadata": {
    "execution": {
     "iopub.execute_input": "2021-07-14T16:08:43.427288Z",
     "iopub.status.busy": "2021-07-14T16:08:43.426922Z",
     "iopub.status.idle": "2021-07-14T16:08:43.587256Z",
     "shell.execute_reply": "2021-07-14T16:08:43.586877Z"
    },
    "papermill": {
     "duration": 0.192452,
     "end_time": "2021-07-14T16:08:43.587340",
     "exception": false,
     "start_time": "2021-07-14T16:08:43.394888",
     "status": "completed"
    },
    "tags": []
   },
   "outputs": [],
   "source": [
    "deg_enrich_max_idx = deg_enrich.groupby([\"lv\", \"pathway\"])[\"padj\"].idxmax()"
   ]
  },
  {
   "cell_type": "code",
   "execution_count": 30,
   "id": "temporal-congress",
   "metadata": {
    "execution": {
     "iopub.execute_input": "2021-07-14T16:08:43.650473Z",
     "iopub.status.busy": "2021-07-14T16:08:43.650115Z",
     "iopub.status.idle": "2021-07-14T16:08:43.668927Z",
     "shell.execute_reply": "2021-07-14T16:08:43.668544Z"
    },
    "papermill": {
     "duration": 0.051001,
     "end_time": "2021-07-14T16:08:43.669010",
     "exception": false,
     "start_time": "2021-07-14T16:08:43.618009",
     "status": "completed"
    },
    "tags": []
   },
   "outputs": [
    {
     "data": {
      "text/plain": [
       "(1973, 11)"
      ]
     },
     "metadata": {},
     "output_type": "display_data"
    },
    {
     "data": {
      "text/html": [
       "<div>\n",
       "<style scoped>\n",
       "    .dataframe tbody tr th:only-of-type {\n",
       "        vertical-align: middle;\n",
       "    }\n",
       "\n",
       "    .dataframe tbody tr th {\n",
       "        vertical-align: top;\n",
       "    }\n",
       "\n",
       "    .dataframe thead th {\n",
       "        text-align: right;\n",
       "    }\n",
       "</style>\n",
       "<table border=\"1\" class=\"dataframe\">\n",
       "  <thead>\n",
       "    <tr style=\"text-align: right;\">\n",
       "      <th></th>\n",
       "      <th>pathway</th>\n",
       "      <th>pval</th>\n",
       "      <th>padj</th>\n",
       "      <th>log2err</th>\n",
       "      <th>ES</th>\n",
       "      <th>NES</th>\n",
       "      <th>size</th>\n",
       "      <th>leadingEdge</th>\n",
       "      <th>lv</th>\n",
       "      <th>rep_idx</th>\n",
       "      <th>fdr</th>\n",
       "    </tr>\n",
       "  </thead>\n",
       "  <tbody>\n",
       "    <tr>\n",
       "      <th>0</th>\n",
       "      <td>gene_set_decrease</td>\n",
       "      <td>0.198801</td>\n",
       "      <td>0.251748</td>\n",
       "      <td>0.091680</td>\n",
       "      <td>0.578418</td>\n",
       "      <td>1.123767</td>\n",
       "      <td>35</td>\n",
       "      <td>PTBP1, KEAP1, PEX14, DLST, PCYT2, MAD2L2, GLRX...</td>\n",
       "      <td>LV1</td>\n",
       "      <td>2</td>\n",
       "      <td>0.755621</td>\n",
       "    </tr>\n",
       "    <tr>\n",
       "      <th>1</th>\n",
       "      <td>gene_set_increase</td>\n",
       "      <td>0.251748</td>\n",
       "      <td>0.251748</td>\n",
       "      <td>0.078711</td>\n",
       "      <td>0.539155</td>\n",
       "      <td>1.078565</td>\n",
       "      <td>63</td>\n",
       "      <td>CHERP, RANGAP1, HNRNPL, RPS2, E4F1, TAF1C, GAT...</td>\n",
       "      <td>LV1</td>\n",
       "      <td>2</td>\n",
       "      <td>0.779947</td>\n",
       "    </tr>\n",
       "    <tr>\n",
       "      <th>2</th>\n",
       "      <td>gene_set_decrease</td>\n",
       "      <td>0.963037</td>\n",
       "      <td>0.999001</td>\n",
       "      <td>0.008938</td>\n",
       "      <td>0.434799</td>\n",
       "      <td>0.678421</td>\n",
       "      <td>20</td>\n",
       "      <td>VDR, ACVR1B, KEAP1, NDUFV2, PEX14, NDUFS3, WDR26</td>\n",
       "      <td>LV10</td>\n",
       "      <td>5</td>\n",
       "      <td>1.000000</td>\n",
       "    </tr>\n",
       "    <tr>\n",
       "      <th>3</th>\n",
       "      <td>gene_set_increase</td>\n",
       "      <td>1.000000</td>\n",
       "      <td>1.000000</td>\n",
       "      <td>0.000000</td>\n",
       "      <td>0.236619</td>\n",
       "      <td>0.378164</td>\n",
       "      <td>25</td>\n",
       "      <td>USP39, SRP19, ZNF3, RPL18, RPS19, RAP1GDS1, CH...</td>\n",
       "      <td>LV10</td>\n",
       "      <td>2</td>\n",
       "      <td>1.000000</td>\n",
       "    </tr>\n",
       "    <tr>\n",
       "      <th>4</th>\n",
       "      <td>gene_set_decrease</td>\n",
       "      <td>0.042957</td>\n",
       "      <td>0.085914</td>\n",
       "      <td>0.216543</td>\n",
       "      <td>0.831205</td>\n",
       "      <td>1.711885</td>\n",
       "      <td>27</td>\n",
       "      <td>NDUFB7, PTBP1, RRAGC, PPP2R2B, SQLE</td>\n",
       "      <td>LV100</td>\n",
       "      <td>6</td>\n",
       "      <td>0.718678</td>\n",
       "    </tr>\n",
       "  </tbody>\n",
       "</table>\n",
       "</div>"
      ],
      "text/plain": [
       "             pathway      pval      padj   log2err        ES       NES  size  \\\n",
       "0  gene_set_decrease  0.198801  0.251748  0.091680  0.578418  1.123767    35   \n",
       "1  gene_set_increase  0.251748  0.251748  0.078711  0.539155  1.078565    63   \n",
       "2  gene_set_decrease  0.963037  0.999001  0.008938  0.434799  0.678421    20   \n",
       "3  gene_set_increase  1.000000  1.000000  0.000000  0.236619  0.378164    25   \n",
       "4  gene_set_decrease  0.042957  0.085914  0.216543  0.831205  1.711885    27   \n",
       "\n",
       "                                         leadingEdge     lv  rep_idx       fdr  \n",
       "0  PTBP1, KEAP1, PEX14, DLST, PCYT2, MAD2L2, GLRX...    LV1        2  0.755621  \n",
       "1  CHERP, RANGAP1, HNRNPL, RPS2, E4F1, TAF1C, GAT...    LV1        2  0.779947  \n",
       "2   VDR, ACVR1B, KEAP1, NDUFV2, PEX14, NDUFS3, WDR26   LV10        5  1.000000  \n",
       "3  USP39, SRP19, ZNF3, RPL18, RPS19, RAP1GDS1, CH...   LV10        2  1.000000  \n",
       "4                NDUFB7, PTBP1, RRAGC, PPP2R2B, SQLE  LV100        6  0.718678  "
      ]
     },
     "metadata": {},
     "output_type": "display_data"
    }
   ],
   "source": [
    "deg_enrich = deg_enrich.loc[deg_enrich_max_idx].reset_index(drop=True)\n",
    "display(deg_enrich.shape)\n",
    "display(deg_enrich.head())"
   ]
  },
  {
   "cell_type": "markdown",
   "id": "declared-editing",
   "metadata": {
    "papermill": {
     "duration": 0.036335,
     "end_time": "2021-07-14T16:08:43.754555",
     "exception": false,
     "start_time": "2021-07-14T16:08:43.718220",
     "status": "completed"
    },
    "tags": []
   },
   "source": [
    "## Lipids-increasing gene sets"
   ]
  },
  {
   "cell_type": "code",
   "execution_count": 31,
   "id": "renewable-curve",
   "metadata": {
    "execution": {
     "iopub.execute_input": "2021-07-14T16:08:43.817565Z",
     "iopub.status.busy": "2021-07-14T16:08:43.817145Z",
     "iopub.status.idle": "2021-07-14T16:08:43.828533Z",
     "shell.execute_reply": "2021-07-14T16:08:43.828844Z"
    },
    "papermill": {
     "duration": 0.04419,
     "end_time": "2021-07-14T16:08:43.828951",
     "exception": false,
     "start_time": "2021-07-14T16:08:43.784761",
     "status": "completed"
    },
    "tags": []
   },
   "outputs": [],
   "source": [
    "deg_increase = deg_enrich[\n",
    "    deg_enrich[\"pathway\"].isin((\"gene_set_increase\",)) & (deg_enrich[\"padj\"] < 0.05)\n",
    "].sort_values(\"padj\", ascending=True)"
   ]
  },
  {
   "cell_type": "code",
   "execution_count": 32,
   "id": "physical-outside",
   "metadata": {
    "execution": {
     "iopub.execute_input": "2021-07-14T16:08:43.892320Z",
     "iopub.status.busy": "2021-07-14T16:08:43.891960Z",
     "iopub.status.idle": "2021-07-14T16:08:43.903309Z",
     "shell.execute_reply": "2021-07-14T16:08:43.902930Z"
    },
    "papermill": {
     "duration": 0.043754,
     "end_time": "2021-07-14T16:08:43.903394",
     "exception": false,
     "start_time": "2021-07-14T16:08:43.859640",
     "status": "completed"
    },
    "tags": []
   },
   "outputs": [
    {
     "data": {
      "text/plain": [
       "(27, 11)"
      ]
     },
     "execution_count": 32,
     "metadata": {},
     "output_type": "execute_result"
    }
   ],
   "source": [
    "deg_increase.shape"
   ]
  },
  {
   "cell_type": "code",
   "execution_count": 33,
   "id": "banner-dancing",
   "metadata": {
    "execution": {
     "iopub.execute_input": "2021-07-14T16:08:43.967951Z",
     "iopub.status.busy": "2021-07-14T16:08:43.967599Z",
     "iopub.status.idle": "2021-07-14T16:08:43.984924Z",
     "shell.execute_reply": "2021-07-14T16:08:43.984511Z"
    },
    "papermill": {
     "duration": 0.050004,
     "end_time": "2021-07-14T16:08:43.985008",
     "exception": false,
     "start_time": "2021-07-14T16:08:43.935004",
     "status": "completed"
    },
    "tags": []
   },
   "outputs": [
    {
     "data": {
      "text/html": [
       "<div>\n",
       "<style scoped>\n",
       "    .dataframe tbody tr th:only-of-type {\n",
       "        vertical-align: middle;\n",
       "    }\n",
       "\n",
       "    .dataframe tbody tr th {\n",
       "        vertical-align: top;\n",
       "    }\n",
       "\n",
       "    .dataframe thead th {\n",
       "        text-align: right;\n",
       "    }\n",
       "</style>\n",
       "<table border=\"1\" class=\"dataframe\">\n",
       "  <thead>\n",
       "    <tr style=\"text-align: right;\">\n",
       "      <th></th>\n",
       "      <th>pathway</th>\n",
       "      <th>pval</th>\n",
       "      <th>padj</th>\n",
       "      <th>log2err</th>\n",
       "      <th>ES</th>\n",
       "      <th>NES</th>\n",
       "      <th>size</th>\n",
       "      <th>leadingEdge</th>\n",
       "      <th>lv</th>\n",
       "      <th>rep_idx</th>\n",
       "      <th>fdr</th>\n",
       "    </tr>\n",
       "  </thead>\n",
       "  <tbody>\n",
       "    <tr>\n",
       "      <th>1350</th>\n",
       "      <td>gene_set_increase</td>\n",
       "      <td>1.738856e-07</td>\n",
       "      <td>3.477712e-07</td>\n",
       "      <td>0.690132</td>\n",
       "      <td>0.905734</td>\n",
       "      <td>1.565818</td>\n",
       "      <td>49</td>\n",
       "      <td>RPS14, RPL31, RPS19, RPS11, RPS6, RPL37, RPSA,...</td>\n",
       "      <td>LV707</td>\n",
       "      <td>3</td>\n",
       "      <td>0.000257</td>\n",
       "    </tr>\n",
       "    <tr>\n",
       "      <th>1790</th>\n",
       "      <td>gene_set_increase</td>\n",
       "      <td>4.293645e-05</td>\n",
       "      <td>8.587291e-05</td>\n",
       "      <td>0.557332</td>\n",
       "      <td>0.732205</td>\n",
       "      <td>1.486815</td>\n",
       "      <td>60</td>\n",
       "      <td>RPS6, RPL6, RPLP0, RPL19, RPL31, RPL7, RPS13, ...</td>\n",
       "      <td>LV905</td>\n",
       "      <td>6</td>\n",
       "      <td>0.028238</td>\n",
       "    </tr>\n",
       "    <tr>\n",
       "      <th>1812</th>\n",
       "      <td>gene_set_increase</td>\n",
       "      <td>6.373604e-05</td>\n",
       "      <td>1.274721e-04</td>\n",
       "      <td>0.538434</td>\n",
       "      <td>0.627667</td>\n",
       "      <td>1.444149</td>\n",
       "      <td>83</td>\n",
       "      <td>SAFB, LUC7L3, HSP90B1, CHD4, SNRPD3, ISY1, DKC...</td>\n",
       "      <td>LV915</td>\n",
       "      <td>4</td>\n",
       "      <td>0.031438</td>\n",
       "    </tr>\n",
       "    <tr>\n",
       "      <th>1446</th>\n",
       "      <td>gene_set_increase</td>\n",
       "      <td>5.632729e-04</td>\n",
       "      <td>1.126546e-03</td>\n",
       "      <td>0.477271</td>\n",
       "      <td>0.803565</td>\n",
       "      <td>1.288959</td>\n",
       "      <td>61</td>\n",
       "      <td>RPL34, RPL35A, RPL31, RPS13, RPS6, RPL6, RPL7,...</td>\n",
       "      <td>LV750</td>\n",
       "      <td>8</td>\n",
       "      <td>0.222267</td>\n",
       "    </tr>\n",
       "    <tr>\n",
       "      <th>539</th>\n",
       "      <td>gene_set_increase</td>\n",
       "      <td>7.830825e-04</td>\n",
       "      <td>1.566165e-03</td>\n",
       "      <td>0.477271</td>\n",
       "      <td>0.971974</td>\n",
       "      <td>1.978913</td>\n",
       "      <td>33</td>\n",
       "      <td>ZNF3, MDM2, RPS6</td>\n",
       "      <td>LV341</td>\n",
       "      <td>9</td>\n",
       "      <td>0.257504</td>\n",
       "    </tr>\n",
       "  </tbody>\n",
       "</table>\n",
       "</div>"
      ],
      "text/plain": [
       "                pathway          pval          padj   log2err        ES  \\\n",
       "1350  gene_set_increase  1.738856e-07  3.477712e-07  0.690132  0.905734   \n",
       "1790  gene_set_increase  4.293645e-05  8.587291e-05  0.557332  0.732205   \n",
       "1812  gene_set_increase  6.373604e-05  1.274721e-04  0.538434  0.627667   \n",
       "1446  gene_set_increase  5.632729e-04  1.126546e-03  0.477271  0.803565   \n",
       "539   gene_set_increase  7.830825e-04  1.566165e-03  0.477271  0.971974   \n",
       "\n",
       "           NES  size                                        leadingEdge  \\\n",
       "1350  1.565818    49  RPS14, RPL31, RPS19, RPS11, RPS6, RPL37, RPSA,...   \n",
       "1790  1.486815    60  RPS6, RPL6, RPLP0, RPL19, RPL31, RPL7, RPS13, ...   \n",
       "1812  1.444149    83  SAFB, LUC7L3, HSP90B1, CHD4, SNRPD3, ISY1, DKC...   \n",
       "1446  1.288959    61  RPL34, RPL35A, RPL31, RPS13, RPS6, RPL6, RPL7,...   \n",
       "539   1.978913    33                                   ZNF3, MDM2, RPS6   \n",
       "\n",
       "         lv  rep_idx       fdr  \n",
       "1350  LV707        3  0.000257  \n",
       "1790  LV905        6  0.028238  \n",
       "1812  LV915        4  0.031438  \n",
       "1446  LV750        8  0.222267  \n",
       "539   LV341        9  0.257504  "
      ]
     },
     "execution_count": 33,
     "metadata": {},
     "output_type": "execute_result"
    }
   ],
   "source": [
    "deg_increase.head()"
   ]
  },
  {
   "cell_type": "code",
   "execution_count": 34,
   "id": "false-announcement",
   "metadata": {
    "execution": {
     "iopub.execute_input": "2021-07-14T16:08:44.050318Z",
     "iopub.status.busy": "2021-07-14T16:08:44.049966Z",
     "iopub.status.idle": "2021-07-14T16:08:44.060519Z",
     "shell.execute_reply": "2021-07-14T16:08:44.060221Z"
    },
    "papermill": {
     "duration": 0.044016,
     "end_time": "2021-07-14T16:08:44.060603",
     "exception": false,
     "start_time": "2021-07-14T16:08:44.016587",
     "status": "completed"
    },
    "tags": []
   },
   "outputs": [],
   "source": [
    "lvs_increase = deg_increase[\"lv\"].unique()"
   ]
  },
  {
   "cell_type": "code",
   "execution_count": 35,
   "id": "electrical-volleyball",
   "metadata": {
    "execution": {
     "iopub.execute_input": "2021-07-14T16:08:44.124982Z",
     "iopub.status.busy": "2021-07-14T16:08:44.124565Z",
     "iopub.status.idle": "2021-07-14T16:08:44.135479Z",
     "shell.execute_reply": "2021-07-14T16:08:44.135141Z"
    },
    "papermill": {
     "duration": 0.043665,
     "end_time": "2021-07-14T16:08:44.135564",
     "exception": false,
     "start_time": "2021-07-14T16:08:44.091899",
     "status": "completed"
    },
    "tags": []
   },
   "outputs": [
    {
     "data": {
      "text/plain": [
       "(27,)"
      ]
     },
     "execution_count": 35,
     "metadata": {},
     "output_type": "execute_result"
    }
   ],
   "source": [
    "lvs_increase.shape"
   ]
  },
  {
   "cell_type": "code",
   "execution_count": 36,
   "id": "wrong-cooling",
   "metadata": {
    "execution": {
     "iopub.execute_input": "2021-07-14T16:08:44.200178Z",
     "iopub.status.busy": "2021-07-14T16:08:44.199822Z",
     "iopub.status.idle": "2021-07-14T16:08:44.211065Z",
     "shell.execute_reply": "2021-07-14T16:08:44.210696Z"
    },
    "papermill": {
     "duration": 0.043967,
     "end_time": "2021-07-14T16:08:44.211148",
     "exception": false,
     "start_time": "2021-07-14T16:08:44.167181",
     "status": "completed"
    },
    "tags": []
   },
   "outputs": [
    {
     "data": {
      "text/plain": [
       "array(['LV707', 'LV905', 'LV915', 'LV750', 'LV341', 'LV310', 'LV48',\n",
       "       'LV509', 'LV467', 'LV64', 'LV490', 'LV550', 'LV621', 'LV775',\n",
       "       'LV415', 'LV504', 'LV507', 'LV494', 'LV399', 'LV246', 'LV120',\n",
       "       'LV122', 'LV515', 'LV489', 'LV783', 'LV768', 'LV577'], dtype=object)"
      ]
     },
     "execution_count": 36,
     "metadata": {},
     "output_type": "execute_result"
    }
   ],
   "source": [
    "lvs_increase"
   ]
  },
  {
   "cell_type": "markdown",
   "id": "transsexual-navigator",
   "metadata": {
    "papermill": {
     "duration": 0.03143,
     "end_time": "2021-07-14T16:08:44.273760",
     "exception": false,
     "start_time": "2021-07-14T16:08:44.242330",
     "status": "completed"
    },
    "tags": []
   },
   "source": [
    "## Lipids-decreasing gene sets"
   ]
  },
  {
   "cell_type": "code",
   "execution_count": 37,
   "id": "controlled-boutique",
   "metadata": {
    "execution": {
     "iopub.execute_input": "2021-07-14T16:08:44.338364Z",
     "iopub.status.busy": "2021-07-14T16:08:44.337977Z",
     "iopub.status.idle": "2021-07-14T16:08:44.349889Z",
     "shell.execute_reply": "2021-07-14T16:08:44.349510Z"
    },
    "papermill": {
     "duration": 0.045674,
     "end_time": "2021-07-14T16:08:44.349974",
     "exception": false,
     "start_time": "2021-07-14T16:08:44.304300",
     "status": "completed"
    },
    "tags": []
   },
   "outputs": [],
   "source": [
    "deg_decrease = deg_enrich[\n",
    "    deg_enrich[\"pathway\"].isin((\"gene_set_decrease\",)) & (deg_enrich[\"padj\"] < 0.05)\n",
    "].sort_values(\"padj\", ascending=True)"
   ]
  },
  {
   "cell_type": "code",
   "execution_count": 38,
   "id": "intensive-pavilion",
   "metadata": {
    "execution": {
     "iopub.execute_input": "2021-07-14T16:08:44.415619Z",
     "iopub.status.busy": "2021-07-14T16:08:44.415262Z",
     "iopub.status.idle": "2021-07-14T16:08:44.426300Z",
     "shell.execute_reply": "2021-07-14T16:08:44.426591Z"
    },
    "papermill": {
     "duration": 0.044344,
     "end_time": "2021-07-14T16:08:44.426691",
     "exception": false,
     "start_time": "2021-07-14T16:08:44.382347",
     "status": "completed"
    },
    "tags": []
   },
   "outputs": [
    {
     "data": {
      "text/plain": [
       "(24, 11)"
      ]
     },
     "execution_count": 38,
     "metadata": {},
     "output_type": "execute_result"
    }
   ],
   "source": [
    "deg_decrease.shape"
   ]
  },
  {
   "cell_type": "code",
   "execution_count": 39,
   "id": "modular-stuff",
   "metadata": {
    "execution": {
     "iopub.execute_input": "2021-07-14T16:08:44.492022Z",
     "iopub.status.busy": "2021-07-14T16:08:44.491659Z",
     "iopub.status.idle": "2021-07-14T16:08:44.508951Z",
     "shell.execute_reply": "2021-07-14T16:08:44.508561Z"
    },
    "papermill": {
     "duration": 0.050477,
     "end_time": "2021-07-14T16:08:44.509036",
     "exception": false,
     "start_time": "2021-07-14T16:08:44.458559",
     "status": "completed"
    },
    "tags": []
   },
   "outputs": [
    {
     "data": {
      "text/html": [
       "<div>\n",
       "<style scoped>\n",
       "    .dataframe tbody tr th:only-of-type {\n",
       "        vertical-align: middle;\n",
       "    }\n",
       "\n",
       "    .dataframe tbody tr th {\n",
       "        vertical-align: top;\n",
       "    }\n",
       "\n",
       "    .dataframe thead th {\n",
       "        text-align: right;\n",
       "    }\n",
       "</style>\n",
       "<table border=\"1\" class=\"dataframe\">\n",
       "  <thead>\n",
       "    <tr style=\"text-align: right;\">\n",
       "      <th></th>\n",
       "      <th>pathway</th>\n",
       "      <th>pval</th>\n",
       "      <th>padj</th>\n",
       "      <th>log2err</th>\n",
       "      <th>ES</th>\n",
       "      <th>NES</th>\n",
       "      <th>size</th>\n",
       "      <th>leadingEdge</th>\n",
       "      <th>lv</th>\n",
       "      <th>rep_idx</th>\n",
       "      <th>fdr</th>\n",
       "    </tr>\n",
       "  </thead>\n",
       "  <tbody>\n",
       "    <tr>\n",
       "      <th>1283</th>\n",
       "      <td>gene_set_decrease</td>\n",
       "      <td>2.605291e-07</td>\n",
       "      <td>5.210582e-07</td>\n",
       "      <td>0.674963</td>\n",
       "      <td>0.858542</td>\n",
       "      <td>1.636153</td>\n",
       "      <td>43</td>\n",
       "      <td>NDUFA4, COX6A1, ATP5O, NDUFB10, COX5A, NDUFS3,...</td>\n",
       "      <td>LV678</td>\n",
       "      <td>3</td>\n",
       "      <td>0.000257</td>\n",
       "    </tr>\n",
       "    <tr>\n",
       "      <th>1199</th>\n",
       "      <td>gene_set_decrease</td>\n",
       "      <td>1.205740e-03</td>\n",
       "      <td>2.411481e-03</td>\n",
       "      <td>0.455060</td>\n",
       "      <td>0.753059</td>\n",
       "      <td>1.430708</td>\n",
       "      <td>35</td>\n",
       "      <td>PEX14, COX17, NDUFS3, ATP5O, COX6A1, DLST, NDU...</td>\n",
       "      <td>LV64</td>\n",
       "      <td>2</td>\n",
       "      <td>0.339847</td>\n",
       "    </tr>\n",
       "    <tr>\n",
       "      <th>1769</th>\n",
       "      <td>gene_set_decrease</td>\n",
       "      <td>1.610715e-03</td>\n",
       "      <td>3.221430e-03</td>\n",
       "      <td>0.455060</td>\n",
       "      <td>0.807492</td>\n",
       "      <td>1.596196</td>\n",
       "      <td>25</td>\n",
       "      <td>NDUFA4, PEX14, STX18, OGDH, COX6A1, COX17, PIK...</td>\n",
       "      <td>LV897</td>\n",
       "      <td>3</td>\n",
       "      <td>0.397243</td>\n",
       "    </tr>\n",
       "    <tr>\n",
       "      <th>1055</th>\n",
       "      <td>gene_set_decrease</td>\n",
       "      <td>4.275828e-03</td>\n",
       "      <td>8.551656e-03</td>\n",
       "      <td>0.407018</td>\n",
       "      <td>0.897219</td>\n",
       "      <td>1.742375</td>\n",
       "      <td>23</td>\n",
       "      <td>CSK, MRPS12</td>\n",
       "      <td>LV575</td>\n",
       "      <td>4</td>\n",
       "      <td>0.718678</td>\n",
       "    </tr>\n",
       "    <tr>\n",
       "      <th>1413</th>\n",
       "      <td>gene_set_decrease</td>\n",
       "      <td>5.763040e-03</td>\n",
       "      <td>1.152608e-02</td>\n",
       "      <td>0.407018</td>\n",
       "      <td>0.936411</td>\n",
       "      <td>1.741728</td>\n",
       "      <td>19</td>\n",
       "      <td>COX7C, NDUFS6, FLCN, COX5A, NDUFS2</td>\n",
       "      <td>LV736</td>\n",
       "      <td>3</td>\n",
       "      <td>0.718678</td>\n",
       "    </tr>\n",
       "  </tbody>\n",
       "</table>\n",
       "</div>"
      ],
      "text/plain": [
       "                pathway          pval          padj   log2err        ES  \\\n",
       "1283  gene_set_decrease  2.605291e-07  5.210582e-07  0.674963  0.858542   \n",
       "1199  gene_set_decrease  1.205740e-03  2.411481e-03  0.455060  0.753059   \n",
       "1769  gene_set_decrease  1.610715e-03  3.221430e-03  0.455060  0.807492   \n",
       "1055  gene_set_decrease  4.275828e-03  8.551656e-03  0.407018  0.897219   \n",
       "1413  gene_set_decrease  5.763040e-03  1.152608e-02  0.407018  0.936411   \n",
       "\n",
       "           NES  size                                        leadingEdge  \\\n",
       "1283  1.636153    43  NDUFA4, COX6A1, ATP5O, NDUFB10, COX5A, NDUFS3,...   \n",
       "1199  1.430708    35  PEX14, COX17, NDUFS3, ATP5O, COX6A1, DLST, NDU...   \n",
       "1769  1.596196    25  NDUFA4, PEX14, STX18, OGDH, COX6A1, COX17, PIK...   \n",
       "1055  1.742375    23                                        CSK, MRPS12   \n",
       "1413  1.741728    19                 COX7C, NDUFS6, FLCN, COX5A, NDUFS2   \n",
       "\n",
       "         lv  rep_idx       fdr  \n",
       "1283  LV678        3  0.000257  \n",
       "1199   LV64        2  0.339847  \n",
       "1769  LV897        3  0.397243  \n",
       "1055  LV575        4  0.718678  \n",
       "1413  LV736        3  0.718678  "
      ]
     },
     "execution_count": 39,
     "metadata": {},
     "output_type": "execute_result"
    }
   ],
   "source": [
    "deg_decrease.head()"
   ]
  },
  {
   "cell_type": "code",
   "execution_count": 40,
   "id": "excessive-designation",
   "metadata": {
    "execution": {
     "iopub.execute_input": "2021-07-14T16:08:44.581370Z",
     "iopub.status.busy": "2021-07-14T16:08:44.580998Z",
     "iopub.status.idle": "2021-07-14T16:08:44.591887Z",
     "shell.execute_reply": "2021-07-14T16:08:44.591566Z"
    },
    "papermill": {
     "duration": 0.048175,
     "end_time": "2021-07-14T16:08:44.591979",
     "exception": false,
     "start_time": "2021-07-14T16:08:44.543804",
     "status": "completed"
    },
    "tags": []
   },
   "outputs": [],
   "source": [
    "lvs_decrease = deg_decrease[\"lv\"].unique()"
   ]
  },
  {
   "cell_type": "code",
   "execution_count": 41,
   "id": "institutional-feeding",
   "metadata": {
    "execution": {
     "iopub.execute_input": "2021-07-14T16:08:44.658255Z",
     "iopub.status.busy": "2021-07-14T16:08:44.657895Z",
     "iopub.status.idle": "2021-07-14T16:08:44.669085Z",
     "shell.execute_reply": "2021-07-14T16:08:44.668664Z"
    },
    "papermill": {
     "duration": 0.044552,
     "end_time": "2021-07-14T16:08:44.669166",
     "exception": false,
     "start_time": "2021-07-14T16:08:44.624614",
     "status": "completed"
    },
    "tags": []
   },
   "outputs": [
    {
     "data": {
      "text/plain": [
       "(24,)"
      ]
     },
     "execution_count": 41,
     "metadata": {},
     "output_type": "execute_result"
    }
   ],
   "source": [
    "lvs_decrease.shape"
   ]
  },
  {
   "cell_type": "code",
   "execution_count": 42,
   "id": "collectible-nothing",
   "metadata": {
    "execution": {
     "iopub.execute_input": "2021-07-14T16:08:44.734646Z",
     "iopub.status.busy": "2021-07-14T16:08:44.734291Z",
     "iopub.status.idle": "2021-07-14T16:08:44.745639Z",
     "shell.execute_reply": "2021-07-14T16:08:44.745268Z"
    },
    "papermill": {
     "duration": 0.044781,
     "end_time": "2021-07-14T16:08:44.745722",
     "exception": false,
     "start_time": "2021-07-14T16:08:44.700941",
     "status": "completed"
    },
    "tags": []
   },
   "outputs": [
    {
     "data": {
      "text/plain": [
       "array(['LV678', 'LV64', 'LV897', 'LV575', 'LV736', 'LV157', 'LV421',\n",
       "       'LV469', 'LV250', 'LV420', 'LV558', 'LV630', 'LV750', 'LV99',\n",
       "       'LV676', 'LV775', 'LV131', 'LV199', 'LV896', 'LV783', 'LV467',\n",
       "       'LV498', 'LV515', 'LV343'], dtype=object)"
      ]
     },
     "execution_count": 42,
     "metadata": {},
     "output_type": "execute_result"
    }
   ],
   "source": [
    "lvs_decrease"
   ]
  },
  {
   "cell_type": "markdown",
   "id": "utility-green",
   "metadata": {
    "papermill": {
     "duration": 0.031177,
     "end_time": "2021-07-14T16:08:44.809135",
     "exception": false,
     "start_time": "2021-07-14T16:08:44.777958",
     "status": "completed"
    },
    "tags": []
   },
   "source": [
    "## Merge into one dataframe"
   ]
  },
  {
   "cell_type": "code",
   "execution_count": 43,
   "id": "significant-haven",
   "metadata": {
    "execution": {
     "iopub.execute_input": "2021-07-14T16:08:44.875931Z",
     "iopub.status.busy": "2021-07-14T16:08:44.875577Z",
     "iopub.status.idle": "2021-07-14T16:08:44.886524Z",
     "shell.execute_reply": "2021-07-14T16:08:44.886806Z"
    },
    "papermill": {
     "duration": 0.046342,
     "end_time": "2021-07-14T16:08:44.886909",
     "exception": false,
     "start_time": "2021-07-14T16:08:44.840567",
     "status": "completed"
    },
    "tags": []
   },
   "outputs": [],
   "source": [
    "_tmp0 = pd.DataFrame({\"lv\": lvs_increase, \"lv_set\": \"lipids-increasing\"})\n",
    "\n",
    "_tmp1 = pd.DataFrame({\"lv\": lvs_decrease, \"lv_set\": \"lipids-decreasing\"})"
   ]
  },
  {
   "cell_type": "code",
   "execution_count": 44,
   "id": "shaped-synthesis",
   "metadata": {
    "execution": {
     "iopub.execute_input": "2021-07-14T16:08:44.954250Z",
     "iopub.status.busy": "2021-07-14T16:08:44.953890Z",
     "iopub.status.idle": "2021-07-14T16:08:44.996979Z",
     "shell.execute_reply": "2021-07-14T16:08:44.997350Z"
    },
    "papermill": {
     "duration": 0.078162,
     "end_time": "2021-07-14T16:08:44.997486",
     "exception": false,
     "start_time": "2021-07-14T16:08:44.919324",
     "status": "completed"
    },
    "tags": []
   },
   "outputs": [],
   "source": [
    "gls_selected_lvs = pd.concat([_tmp0, _tmp1], ignore_index=True)"
   ]
  },
  {
   "cell_type": "code",
   "execution_count": 45,
   "id": "defined-queen",
   "metadata": {
    "execution": {
     "iopub.execute_input": "2021-07-14T16:08:45.076213Z",
     "iopub.status.busy": "2021-07-14T16:08:45.075858Z",
     "iopub.status.idle": "2021-07-14T16:08:45.086932Z",
     "shell.execute_reply": "2021-07-14T16:08:45.086562Z"
    },
    "papermill": {
     "duration": 0.047085,
     "end_time": "2021-07-14T16:08:45.087018",
     "exception": false,
     "start_time": "2021-07-14T16:08:45.039933",
     "status": "completed"
    },
    "tags": []
   },
   "outputs": [
    {
     "data": {
      "text/plain": [
       "(51, 2)"
      ]
     },
     "execution_count": 45,
     "metadata": {},
     "output_type": "execute_result"
    }
   ],
   "source": [
    "gls_selected_lvs.shape"
   ]
  },
  {
   "cell_type": "code",
   "execution_count": 46,
   "id": "abroad-doctrine",
   "metadata": {
    "execution": {
     "iopub.execute_input": "2021-07-14T16:08:45.155550Z",
     "iopub.status.busy": "2021-07-14T16:08:45.155185Z",
     "iopub.status.idle": "2021-07-14T16:08:45.168757Z",
     "shell.execute_reply": "2021-07-14T16:08:45.168352Z"
    },
    "papermill": {
     "duration": 0.047692,
     "end_time": "2021-07-14T16:08:45.168854",
     "exception": false,
     "start_time": "2021-07-14T16:08:45.121162",
     "status": "completed"
    },
    "tags": []
   },
   "outputs": [
    {
     "data": {
      "text/html": [
       "<div>\n",
       "<style scoped>\n",
       "    .dataframe tbody tr th:only-of-type {\n",
       "        vertical-align: middle;\n",
       "    }\n",
       "\n",
       "    .dataframe tbody tr th {\n",
       "        vertical-align: top;\n",
       "    }\n",
       "\n",
       "    .dataframe thead th {\n",
       "        text-align: right;\n",
       "    }\n",
       "</style>\n",
       "<table border=\"1\" class=\"dataframe\">\n",
       "  <thead>\n",
       "    <tr style=\"text-align: right;\">\n",
       "      <th></th>\n",
       "      <th>lv</th>\n",
       "      <th>lv_set</th>\n",
       "    </tr>\n",
       "  </thead>\n",
       "  <tbody>\n",
       "    <tr>\n",
       "      <th>0</th>\n",
       "      <td>LV707</td>\n",
       "      <td>lipids-increasing</td>\n",
       "    </tr>\n",
       "    <tr>\n",
       "      <th>1</th>\n",
       "      <td>LV905</td>\n",
       "      <td>lipids-increasing</td>\n",
       "    </tr>\n",
       "    <tr>\n",
       "      <th>2</th>\n",
       "      <td>LV915</td>\n",
       "      <td>lipids-increasing</td>\n",
       "    </tr>\n",
       "    <tr>\n",
       "      <th>3</th>\n",
       "      <td>LV750</td>\n",
       "      <td>lipids-increasing</td>\n",
       "    </tr>\n",
       "    <tr>\n",
       "      <th>4</th>\n",
       "      <td>LV341</td>\n",
       "      <td>lipids-increasing</td>\n",
       "    </tr>\n",
       "  </tbody>\n",
       "</table>\n",
       "</div>"
      ],
      "text/plain": [
       "      lv             lv_set\n",
       "0  LV707  lipids-increasing\n",
       "1  LV905  lipids-increasing\n",
       "2  LV915  lipids-increasing\n",
       "3  LV750  lipids-increasing\n",
       "4  LV341  lipids-increasing"
      ]
     },
     "execution_count": 46,
     "metadata": {},
     "output_type": "execute_result"
    }
   ],
   "source": [
    "gls_selected_lvs.head()"
   ]
  },
  {
   "cell_type": "markdown",
   "id": "facial-attachment",
   "metadata": {
    "papermill": {
     "duration": 0.032064,
     "end_time": "2021-07-14T16:08:45.232911",
     "exception": false,
     "start_time": "2021-07-14T16:08:45.200847",
     "status": "completed"
    },
    "tags": []
   },
   "source": [
    "# Select traits from specific partition/cluster"
   ]
  },
  {
   "cell_type": "markdown",
   "id": "unknown-brain",
   "metadata": {
    "papermill": {
     "duration": 0.032043,
     "end_time": "2021-07-14T16:08:45.297359",
     "exception": false,
     "start_time": "2021-07-14T16:08:45.265316",
     "status": "completed"
    },
    "tags": []
   },
   "source": [
    "For this run on the LVs related to the lipids CRISPR analysis, I'm only interested in the main clusters of the cardiovascular sub-branch."
   ]
  },
  {
   "cell_type": "code",
   "execution_count": 47,
   "id": "proof-dressing",
   "metadata": {
    "execution": {
     "iopub.execute_input": "2021-07-14T16:08:45.365333Z",
     "iopub.status.busy": "2021-07-14T16:08:45.364969Z",
     "iopub.status.idle": "2021-07-14T16:08:45.375348Z",
     "shell.execute_reply": "2021-07-14T16:08:45.374986Z"
    },
    "papermill": {
     "duration": 0.045748,
     "end_time": "2021-07-14T16:08:45.375430",
     "exception": false,
     "start_time": "2021-07-14T16:08:45.329682",
     "status": "completed"
    },
    "tags": []
   },
   "outputs": [],
   "source": [
    "PHENOTYPES_CONFIG = [\n",
    "    # cardiovascular\n",
    "    (29, 14),\n",
    "    (29, 16),\n",
    "    (29, 11),\n",
    "    (29, 21),\n",
    "    (29, 17),\n",
    "]"
   ]
  },
  {
   "cell_type": "markdown",
   "id": "regulated-coordinator",
   "metadata": {
    "papermill": {
     "duration": 0.032002,
     "end_time": "2021-07-14T16:08:45.439728",
     "exception": false,
     "start_time": "2021-07-14T16:08:45.407726",
     "status": "completed"
    },
    "tags": []
   },
   "source": [
    "# GLSPhenoplier"
   ]
  },
  {
   "cell_type": "markdown",
   "id": "prescribed-variable",
   "metadata": {
    "papermill": {
     "duration": 0.03181,
     "end_time": "2021-07-14T16:08:45.503483",
     "exception": false,
     "start_time": "2021-07-14T16:08:45.471673",
     "status": "completed"
    },
    "tags": []
   },
   "source": [
    "## Get list of phenotypes/lvs pairs"
   ]
  },
  {
   "cell_type": "code",
   "execution_count": 48,
   "id": "formed-separate",
   "metadata": {
    "execution": {
     "iopub.execute_input": "2021-07-14T16:08:45.575254Z",
     "iopub.status.busy": "2021-07-14T16:08:45.574869Z",
     "iopub.status.idle": "2021-07-14T16:08:45.719711Z",
     "shell.execute_reply": "2021-07-14T16:08:45.719336Z"
    },
    "papermill": {
     "duration": 0.183621,
     "end_time": "2021-07-14T16:08:45.719795",
     "exception": false,
     "start_time": "2021-07-14T16:08:45.536174",
     "status": "completed"
    },
    "tags": []
   },
   "outputs": [],
   "source": [
    "phenotypes_lvs_pairs = []\n",
    "\n",
    "for part_k, cluster_id in PHENOTYPES_CONFIG:\n",
    "    # get traits from the partition/cluster\n",
    "    part = best_partitions.loc[part_k, \"partition\"]\n",
    "    cluster_traits = data.index[part == cluster_id]\n",
    "\n",
    "    for phenotype_code in cluster_traits:\n",
    "        for idx, lv_row in gls_selected_lvs.iterrows():\n",
    "            phenotypes_lvs_pairs.append(\n",
    "                {\n",
    "                    \"phenotype_part_k\": part_k,\n",
    "                    \"phenotype_cluster_id\": cluster_id,\n",
    "                    \"phenotype\": phenotype_code,\n",
    "                    \"lv\": lv_row[\"lv\"],\n",
    "                    \"lv_set\": lv_row[\"lv_set\"],\n",
    "                }\n",
    "            )\n",
    "\n",
    "phenotypes_lvs_pairs = pd.DataFrame(phenotypes_lvs_pairs).drop_duplicates()"
   ]
  },
  {
   "cell_type": "code",
   "execution_count": 49,
   "id": "excess-sight",
   "metadata": {
    "execution": {
     "iopub.execute_input": "2021-07-14T16:08:45.786045Z",
     "iopub.status.busy": "2021-07-14T16:08:45.785679Z",
     "iopub.status.idle": "2021-07-14T16:08:45.798437Z",
     "shell.execute_reply": "2021-07-14T16:08:45.798055Z"
    },
    "papermill": {
     "duration": 0.046767,
     "end_time": "2021-07-14T16:08:45.798522",
     "exception": false,
     "start_time": "2021-07-14T16:08:45.751755",
     "status": "completed"
    },
    "tags": []
   },
   "outputs": [],
   "source": [
    "phenotypes_lvs_pairs = phenotypes_lvs_pairs.sort_values(\n",
    "    [\"phenotype\", \"lv\"]\n",
    ").reset_index(drop=True)"
   ]
  },
  {
   "cell_type": "code",
   "execution_count": 50,
   "id": "stone-cheese",
   "metadata": {
    "execution": {
     "iopub.execute_input": "2021-07-14T16:08:45.866877Z",
     "iopub.status.busy": "2021-07-14T16:08:45.866521Z",
     "iopub.status.idle": "2021-07-14T16:08:45.877351Z",
     "shell.execute_reply": "2021-07-14T16:08:45.877628Z"
    },
    "papermill": {
     "duration": 0.045678,
     "end_time": "2021-07-14T16:08:45.877735",
     "exception": false,
     "start_time": "2021-07-14T16:08:45.832057",
     "status": "completed"
    },
    "tags": []
   },
   "outputs": [
    {
     "data": {
      "text/plain": [
       "(2142, 5)"
      ]
     },
     "execution_count": 50,
     "metadata": {},
     "output_type": "execute_result"
    }
   ],
   "source": [
    "phenotypes_lvs_pairs.shape"
   ]
  },
  {
   "cell_type": "code",
   "execution_count": 51,
   "id": "curious-resolution",
   "metadata": {
    "execution": {
     "iopub.execute_input": "2021-07-14T16:08:45.945843Z",
     "iopub.status.busy": "2021-07-14T16:08:45.945484Z",
     "iopub.status.idle": "2021-07-14T16:08:45.959837Z",
     "shell.execute_reply": "2021-07-14T16:08:45.959466Z"
    },
    "papermill": {
     "duration": 0.048968,
     "end_time": "2021-07-14T16:08:45.959924",
     "exception": false,
     "start_time": "2021-07-14T16:08:45.910956",
     "status": "completed"
    },
    "tags": []
   },
   "outputs": [
    {
     "data": {
      "text/html": [
       "<div>\n",
       "<style scoped>\n",
       "    .dataframe tbody tr th:only-of-type {\n",
       "        vertical-align: middle;\n",
       "    }\n",
       "\n",
       "    .dataframe tbody tr th {\n",
       "        vertical-align: top;\n",
       "    }\n",
       "\n",
       "    .dataframe thead th {\n",
       "        text-align: right;\n",
       "    }\n",
       "</style>\n",
       "<table border=\"1\" class=\"dataframe\">\n",
       "  <thead>\n",
       "    <tr style=\"text-align: right;\">\n",
       "      <th></th>\n",
       "      <th>phenotype_part_k</th>\n",
       "      <th>phenotype_cluster_id</th>\n",
       "      <th>phenotype</th>\n",
       "      <th>lv</th>\n",
       "      <th>lv_set</th>\n",
       "    </tr>\n",
       "  </thead>\n",
       "  <tbody>\n",
       "    <tr>\n",
       "      <th>0</th>\n",
       "      <td>29</td>\n",
       "      <td>17</td>\n",
       "      <td>20003_1140861958-Treatmentmedication_code_simv...</td>\n",
       "      <td>LV120</td>\n",
       "      <td>lipids-increasing</td>\n",
       "    </tr>\n",
       "    <tr>\n",
       "      <th>1</th>\n",
       "      <td>29</td>\n",
       "      <td>17</td>\n",
       "      <td>20003_1140861958-Treatmentmedication_code_simv...</td>\n",
       "      <td>LV122</td>\n",
       "      <td>lipids-increasing</td>\n",
       "    </tr>\n",
       "    <tr>\n",
       "      <th>2</th>\n",
       "      <td>29</td>\n",
       "      <td>17</td>\n",
       "      <td>20003_1140861958-Treatmentmedication_code_simv...</td>\n",
       "      <td>LV131</td>\n",
       "      <td>lipids-decreasing</td>\n",
       "    </tr>\n",
       "    <tr>\n",
       "      <th>3</th>\n",
       "      <td>29</td>\n",
       "      <td>17</td>\n",
       "      <td>20003_1140861958-Treatmentmedication_code_simv...</td>\n",
       "      <td>LV157</td>\n",
       "      <td>lipids-decreasing</td>\n",
       "    </tr>\n",
       "    <tr>\n",
       "      <th>4</th>\n",
       "      <td>29</td>\n",
       "      <td>17</td>\n",
       "      <td>20003_1140861958-Treatmentmedication_code_simv...</td>\n",
       "      <td>LV199</td>\n",
       "      <td>lipids-decreasing</td>\n",
       "    </tr>\n",
       "  </tbody>\n",
       "</table>\n",
       "</div>"
      ],
      "text/plain": [
       "   phenotype_part_k  phenotype_cluster_id  \\\n",
       "0                29                    17   \n",
       "1                29                    17   \n",
       "2                29                    17   \n",
       "3                29                    17   \n",
       "4                29                    17   \n",
       "\n",
       "                                           phenotype     lv             lv_set  \n",
       "0  20003_1140861958-Treatmentmedication_code_simv...  LV120  lipids-increasing  \n",
       "1  20003_1140861958-Treatmentmedication_code_simv...  LV122  lipids-increasing  \n",
       "2  20003_1140861958-Treatmentmedication_code_simv...  LV131  lipids-decreasing  \n",
       "3  20003_1140861958-Treatmentmedication_code_simv...  LV157  lipids-decreasing  \n",
       "4  20003_1140861958-Treatmentmedication_code_simv...  LV199  lipids-decreasing  "
      ]
     },
     "execution_count": 51,
     "metadata": {},
     "output_type": "execute_result"
    }
   ],
   "source": [
    "phenotypes_lvs_pairs.head()"
   ]
  },
  {
   "cell_type": "markdown",
   "id": "south-rover",
   "metadata": {
    "papermill": {
     "duration": 0.03237,
     "end_time": "2021-07-14T16:08:46.026459",
     "exception": false,
     "start_time": "2021-07-14T16:08:45.994089",
     "status": "completed"
    },
    "tags": []
   },
   "source": [
    "## Run"
   ]
  },
  {
   "cell_type": "code",
   "execution_count": 52,
   "id": "wired-ordinance",
   "metadata": {
    "execution": {
     "iopub.execute_input": "2021-07-14T16:08:46.096086Z",
     "iopub.status.busy": "2021-07-14T16:08:46.095702Z",
     "iopub.status.idle": "2021-07-14T21:50:17.825869Z",
     "shell.execute_reply": "2021-07-14T21:50:17.826180Z"
    },
    "papermill": {
     "duration": 20491.766999,
     "end_time": "2021-07-14T21:50:17.826298",
     "exception": false,
     "start_time": "2021-07-14T16:08:46.059299",
     "status": "completed"
    },
    "tags": []
   },
   "outputs": [
    {
     "name": "stderr",
     "output_type": "stream",
     "text": [
      "schizophrenia - LV99: 100%|██████████| 2142/2142 [5:41:31<00:00,  9.57s/it]\n"
     ]
    }
   ],
   "source": [
    "results = []\n",
    "\n",
    "pbar = tqdm(total=phenotypes_lvs_pairs.shape[0])\n",
    "\n",
    "for idx, row in phenotypes_lvs_pairs.iterrows():\n",
    "    phenotype_code = row[\"phenotype\"]\n",
    "    lv_code = row[\"lv\"]\n",
    "\n",
    "    pbar.set_description(f\"{phenotype_code} - {lv_code}\")\n",
    "\n",
    "    gls_model = GLSPhenoplier(\n",
    "        smultixcan_result_set_filepath=conf.PHENOMEXCAN[\n",
    "            \"SMULTIXCAN_EFO_PARTIAL_MASHR_ZSCORES_FILE\"\n",
    "        ]\n",
    "    )\n",
    "    gls_model.fit_named(lv_code, phenotype_code)\n",
    "    res = gls_model.results\n",
    "\n",
    "    results.append(\n",
    "        {\n",
    "            \"part_k\": row[\"phenotype_part_k\"],\n",
    "            \"cluster_id\": row[\"phenotype_cluster_id\"],\n",
    "            \"phenotype\": phenotype_code,\n",
    "            \"lv\": lv_code,\n",
    "            \"lv_set\": row[\"lv_set\"],\n",
    "            \"lv_with_pathway\": lv_code in well_aligned_lv_codes,\n",
    "            \"coef\": res.params.loc[\"lv\"],\n",
    "            \"pvalue\": res.pvalues_onesided.loc[\"lv\"],\n",
    "            \"pvalue_twosided\": res.pvalues.loc[\"lv\"],\n",
    "            \"summary\": gls_model.results_summary,\n",
    "        }\n",
    "    )\n",
    "\n",
    "    # save results every 10 models trained\n",
    "    if (idx % 10) == 0:\n",
    "        pd.DataFrame(results).to_pickle(OUTPUT_FILENAME)\n",
    "\n",
    "    pbar.update(1)\n",
    "\n",
    "pbar.close()"
   ]
  },
  {
   "cell_type": "code",
   "execution_count": 53,
   "id": "hourly-occupation",
   "metadata": {
    "execution": {
     "iopub.execute_input": "2021-07-14T21:50:19.236458Z",
     "iopub.status.busy": "2021-07-14T21:50:19.236097Z",
     "iopub.status.idle": "2021-07-14T21:50:19.252631Z",
     "shell.execute_reply": "2021-07-14T21:50:19.252291Z"
    },
    "papermill": {
     "duration": 0.711271,
     "end_time": "2021-07-14T21:50:19.252733",
     "exception": false,
     "start_time": "2021-07-14T21:50:18.541462",
     "status": "completed"
    },
    "tags": []
   },
   "outputs": [],
   "source": [
    "results = pd.DataFrame(results)"
   ]
  },
  {
   "cell_type": "code",
   "execution_count": 54,
   "id": "sustainable-taxation",
   "metadata": {
    "execution": {
     "iopub.execute_input": "2021-07-14T21:50:20.678561Z",
     "iopub.status.busy": "2021-07-14T21:50:20.678172Z",
     "iopub.status.idle": "2021-07-14T21:50:20.689685Z",
     "shell.execute_reply": "2021-07-14T21:50:20.689342Z"
    },
    "papermill": {
     "duration": 0.718775,
     "end_time": "2021-07-14T21:50:20.689771",
     "exception": false,
     "start_time": "2021-07-14T21:50:19.970996",
     "status": "completed"
    },
    "tags": []
   },
   "outputs": [
    {
     "data": {
      "text/plain": [
       "(2142, 10)"
      ]
     },
     "execution_count": 54,
     "metadata": {},
     "output_type": "execute_result"
    }
   ],
   "source": [
    "results.shape"
   ]
  },
  {
   "cell_type": "code",
   "execution_count": 55,
   "id": "excited-knife",
   "metadata": {
    "execution": {
     "iopub.execute_input": "2021-07-14T21:50:22.112129Z",
     "iopub.status.busy": "2021-07-14T21:50:22.111759Z",
     "iopub.status.idle": "2021-07-14T21:50:22.145046Z",
     "shell.execute_reply": "2021-07-14T21:50:22.145330Z"
    },
    "papermill": {
     "duration": 0.749529,
     "end_time": "2021-07-14T21:50:22.145433",
     "exception": false,
     "start_time": "2021-07-14T21:50:21.395904",
     "status": "completed"
    },
    "tags": []
   },
   "outputs": [
    {
     "data": {
      "text/html": [
       "<div>\n",
       "<style scoped>\n",
       "    .dataframe tbody tr th:only-of-type {\n",
       "        vertical-align: middle;\n",
       "    }\n",
       "\n",
       "    .dataframe tbody tr th {\n",
       "        vertical-align: top;\n",
       "    }\n",
       "\n",
       "    .dataframe thead th {\n",
       "        text-align: right;\n",
       "    }\n",
       "</style>\n",
       "<table border=\"1\" class=\"dataframe\">\n",
       "  <thead>\n",
       "    <tr style=\"text-align: right;\">\n",
       "      <th></th>\n",
       "      <th>part_k</th>\n",
       "      <th>cluster_id</th>\n",
       "      <th>phenotype</th>\n",
       "      <th>lv</th>\n",
       "      <th>lv_set</th>\n",
       "      <th>lv_with_pathway</th>\n",
       "      <th>coef</th>\n",
       "      <th>pvalue</th>\n",
       "      <th>pvalue_twosided</th>\n",
       "      <th>summary</th>\n",
       "    </tr>\n",
       "  </thead>\n",
       "  <tbody>\n",
       "    <tr>\n",
       "      <th>0</th>\n",
       "      <td>29</td>\n",
       "      <td>17</td>\n",
       "      <td>20003_1140861958-Treatmentmedication_code_simv...</td>\n",
       "      <td>LV120</td>\n",
       "      <td>lipids-increasing</td>\n",
       "      <td>False</td>\n",
       "      <td>0.011685</td>\n",
       "      <td>0.172618</td>\n",
       "      <td>0.345237</td>\n",
       "      <td>GLS Regression Res...</td>\n",
       "    </tr>\n",
       "    <tr>\n",
       "      <th>1</th>\n",
       "      <td>29</td>\n",
       "      <td>17</td>\n",
       "      <td>20003_1140861958-Treatmentmedication_code_simv...</td>\n",
       "      <td>LV122</td>\n",
       "      <td>lipids-increasing</td>\n",
       "      <td>False</td>\n",
       "      <td>-0.004370</td>\n",
       "      <td>0.638170</td>\n",
       "      <td>0.723659</td>\n",
       "      <td>GLS Regression Res...</td>\n",
       "    </tr>\n",
       "    <tr>\n",
       "      <th>2</th>\n",
       "      <td>29</td>\n",
       "      <td>17</td>\n",
       "      <td>20003_1140861958-Treatmentmedication_code_simv...</td>\n",
       "      <td>LV131</td>\n",
       "      <td>lipids-decreasing</td>\n",
       "      <td>False</td>\n",
       "      <td>-0.000511</td>\n",
       "      <td>0.516590</td>\n",
       "      <td>0.966819</td>\n",
       "      <td>GLS Regression Res...</td>\n",
       "    </tr>\n",
       "    <tr>\n",
       "      <th>3</th>\n",
       "      <td>29</td>\n",
       "      <td>17</td>\n",
       "      <td>20003_1140861958-Treatmentmedication_code_simv...</td>\n",
       "      <td>LV157</td>\n",
       "      <td>lipids-decreasing</td>\n",
       "      <td>False</td>\n",
       "      <td>0.010968</td>\n",
       "      <td>0.176044</td>\n",
       "      <td>0.352087</td>\n",
       "      <td>GLS Regression Res...</td>\n",
       "    </tr>\n",
       "    <tr>\n",
       "      <th>4</th>\n",
       "      <td>29</td>\n",
       "      <td>17</td>\n",
       "      <td>20003_1140861958-Treatmentmedication_code_simv...</td>\n",
       "      <td>LV199</td>\n",
       "      <td>lipids-decreasing</td>\n",
       "      <td>False</td>\n",
       "      <td>-0.009505</td>\n",
       "      <td>0.782400</td>\n",
       "      <td>0.435201</td>\n",
       "      <td>GLS Regression Res...</td>\n",
       "    </tr>\n",
       "  </tbody>\n",
       "</table>\n",
       "</div>"
      ],
      "text/plain": [
       "   part_k  cluster_id                                          phenotype  \\\n",
       "0      29          17  20003_1140861958-Treatmentmedication_code_simv...   \n",
       "1      29          17  20003_1140861958-Treatmentmedication_code_simv...   \n",
       "2      29          17  20003_1140861958-Treatmentmedication_code_simv...   \n",
       "3      29          17  20003_1140861958-Treatmentmedication_code_simv...   \n",
       "4      29          17  20003_1140861958-Treatmentmedication_code_simv...   \n",
       "\n",
       "      lv             lv_set  lv_with_pathway      coef    pvalue  \\\n",
       "0  LV120  lipids-increasing            False  0.011685  0.172618   \n",
       "1  LV122  lipids-increasing            False -0.004370  0.638170   \n",
       "2  LV131  lipids-decreasing            False -0.000511  0.516590   \n",
       "3  LV157  lipids-decreasing            False  0.010968  0.176044   \n",
       "4  LV199  lipids-decreasing            False -0.009505  0.782400   \n",
       "\n",
       "   pvalue_twosided                                            summary  \n",
       "0         0.345237                              GLS Regression Res...  \n",
       "1         0.723659                              GLS Regression Res...  \n",
       "2         0.966819                              GLS Regression Res...  \n",
       "3         0.352087                              GLS Regression Res...  \n",
       "4         0.435201                              GLS Regression Res...  "
      ]
     },
     "execution_count": 55,
     "metadata": {},
     "output_type": "execute_result"
    }
   ],
   "source": [
    "results.head()"
   ]
  },
  {
   "cell_type": "code",
   "execution_count": 56,
   "id": "automatic-manual",
   "metadata": {
    "execution": {
     "iopub.execute_input": "2021-07-14T21:50:23.609404Z",
     "iopub.status.busy": "2021-07-14T21:50:23.609045Z",
     "iopub.status.idle": "2021-07-14T21:50:23.660643Z",
     "shell.execute_reply": "2021-07-14T21:50:23.660974Z"
    },
    "papermill": {
     "duration": 0.752935,
     "end_time": "2021-07-14T21:50:23.661079",
     "exception": false,
     "start_time": "2021-07-14T21:50:22.908144",
     "status": "completed"
    },
    "tags": []
   },
   "outputs": [
    {
     "data": {
      "text/html": [
       "<div>\n",
       "<style scoped>\n",
       "    .dataframe tbody tr th:only-of-type {\n",
       "        vertical-align: middle;\n",
       "    }\n",
       "\n",
       "    .dataframe tbody tr th {\n",
       "        vertical-align: top;\n",
       "    }\n",
       "\n",
       "    .dataframe thead th {\n",
       "        text-align: right;\n",
       "    }\n",
       "</style>\n",
       "<table border=\"1\" class=\"dataframe\">\n",
       "  <thead>\n",
       "    <tr style=\"text-align: right;\">\n",
       "      <th></th>\n",
       "      <th>part_k</th>\n",
       "      <th>cluster_id</th>\n",
       "      <th>phenotype</th>\n",
       "      <th>lv</th>\n",
       "      <th>lv_set</th>\n",
       "      <th>lv_with_pathway</th>\n",
       "      <th>coef</th>\n",
       "      <th>pvalue</th>\n",
       "      <th>pvalue_twosided</th>\n",
       "      <th>summary</th>\n",
       "    </tr>\n",
       "  </thead>\n",
       "  <tbody>\n",
       "    <tr>\n",
       "      <th>1076</th>\n",
       "      <td>29</td>\n",
       "      <td>16</td>\n",
       "      <td>MAGNETIC_CH2.DB.ratio</td>\n",
       "      <td>LV246</td>\n",
       "      <td>lipids-increasing</td>\n",
       "      <td>True</td>\n",
       "      <td>0.095366</td>\n",
       "      <td>2.183932e-14</td>\n",
       "      <td>4.367864e-14</td>\n",
       "      <td>GLS Regression Res...</td>\n",
       "    </tr>\n",
       "    <tr>\n",
       "      <th>2100</th>\n",
       "      <td>29</td>\n",
       "      <td>21</td>\n",
       "      <td>schizophrenia</td>\n",
       "      <td>LV343</td>\n",
       "      <td>lipids-decreasing</td>\n",
       "      <td>False</td>\n",
       "      <td>0.070336</td>\n",
       "      <td>1.388092e-09</td>\n",
       "      <td>2.776184e-09</td>\n",
       "      <td>GLS Regression Res...</td>\n",
       "    </tr>\n",
       "    <tr>\n",
       "      <th>1841</th>\n",
       "      <td>29</td>\n",
       "      <td>17</td>\n",
       "      <td>hypercholesterolemia</td>\n",
       "      <td>LV246</td>\n",
       "      <td>lipids-increasing</td>\n",
       "      <td>True</td>\n",
       "      <td>0.066665</td>\n",
       "      <td>3.672563e-08</td>\n",
       "      <td>7.345126e-08</td>\n",
       "      <td>GLS Regression Res...</td>\n",
       "    </tr>\n",
       "    <tr>\n",
       "      <th>484</th>\n",
       "      <td>29</td>\n",
       "      <td>17</td>\n",
       "      <td>6153_2-Medication_for_cholesterol_blood_pressu...</td>\n",
       "      <td>LV515</td>\n",
       "      <td>lipids-increasing</td>\n",
       "      <td>False</td>\n",
       "      <td>0.058867</td>\n",
       "      <td>3.298919e-06</td>\n",
       "      <td>6.597838e-06</td>\n",
       "      <td>GLS Regression Res...</td>\n",
       "    </tr>\n",
       "    <tr>\n",
       "      <th>485</th>\n",
       "      <td>29</td>\n",
       "      <td>17</td>\n",
       "      <td>6153_2-Medication_for_cholesterol_blood_pressu...</td>\n",
       "      <td>LV515</td>\n",
       "      <td>lipids-decreasing</td>\n",
       "      <td>False</td>\n",
       "      <td>0.058867</td>\n",
       "      <td>3.298919e-06</td>\n",
       "      <td>6.597838e-06</td>\n",
       "      <td>GLS Regression Res...</td>\n",
       "    </tr>\n",
       "    <tr>\n",
       "      <th>1990</th>\n",
       "      <td>29</td>\n",
       "      <td>21</td>\n",
       "      <td>intracranial volume measurement</td>\n",
       "      <td>LV122</td>\n",
       "      <td>lipids-increasing</td>\n",
       "      <td>False</td>\n",
       "      <td>0.053315</td>\n",
       "      <td>7.984697e-06</td>\n",
       "      <td>1.596939e-05</td>\n",
       "      <td>GLS Regression Res...</td>\n",
       "    </tr>\n",
       "    <tr>\n",
       "      <th>77</th>\n",
       "      <td>29</td>\n",
       "      <td>17</td>\n",
       "      <td>20003_1141194794-Treatmentmedication_code_bend...</td>\n",
       "      <td>LV515</td>\n",
       "      <td>lipids-decreasing</td>\n",
       "      <td>False</td>\n",
       "      <td>0.055429</td>\n",
       "      <td>1.028495e-05</td>\n",
       "      <td>2.056990e-05</td>\n",
       "      <td>GLS Regression Res...</td>\n",
       "    </tr>\n",
       "    <tr>\n",
       "      <th>76</th>\n",
       "      <td>29</td>\n",
       "      <td>17</td>\n",
       "      <td>20003_1141194794-Treatmentmedication_code_bend...</td>\n",
       "      <td>LV515</td>\n",
       "      <td>lipids-increasing</td>\n",
       "      <td>False</td>\n",
       "      <td>0.055429</td>\n",
       "      <td>1.028495e-05</td>\n",
       "      <td>2.056990e-05</td>\n",
       "      <td>GLS Regression Res...</td>\n",
       "    </tr>\n",
       "    <tr>\n",
       "      <th>1127</th>\n",
       "      <td>29</td>\n",
       "      <td>16</td>\n",
       "      <td>MAGNETIC_HDL.C</td>\n",
       "      <td>LV246</td>\n",
       "      <td>lipids-increasing</td>\n",
       "      <td>True</td>\n",
       "      <td>0.050872</td>\n",
       "      <td>2.096086e-05</td>\n",
       "      <td>4.192172e-05</td>\n",
       "      <td>GLS Regression Res...</td>\n",
       "    </tr>\n",
       "    <tr>\n",
       "      <th>362</th>\n",
       "      <td>29</td>\n",
       "      <td>17</td>\n",
       "      <td>6153_1-Medication_for_cholesterol_blood_pressu...</td>\n",
       "      <td>LV246</td>\n",
       "      <td>lipids-increasing</td>\n",
       "      <td>True</td>\n",
       "      <td>0.050766</td>\n",
       "      <td>2.179410e-05</td>\n",
       "      <td>4.358819e-05</td>\n",
       "      <td>GLS Regression Res...</td>\n",
       "    </tr>\n",
       "  </tbody>\n",
       "</table>\n",
       "</div>"
      ],
      "text/plain": [
       "      part_k  cluster_id                                          phenotype  \\\n",
       "1076      29          16                              MAGNETIC_CH2.DB.ratio   \n",
       "2100      29          21                                      schizophrenia   \n",
       "1841      29          17                               hypercholesterolemia   \n",
       "484       29          17  6153_2-Medication_for_cholesterol_blood_pressu...   \n",
       "485       29          17  6153_2-Medication_for_cholesterol_blood_pressu...   \n",
       "1990      29          21                    intracranial volume measurement   \n",
       "77        29          17  20003_1141194794-Treatmentmedication_code_bend...   \n",
       "76        29          17  20003_1141194794-Treatmentmedication_code_bend...   \n",
       "1127      29          16                                     MAGNETIC_HDL.C   \n",
       "362       29          17  6153_1-Medication_for_cholesterol_blood_pressu...   \n",
       "\n",
       "         lv             lv_set  lv_with_pathway      coef        pvalue  \\\n",
       "1076  LV246  lipids-increasing             True  0.095366  2.183932e-14   \n",
       "2100  LV343  lipids-decreasing            False  0.070336  1.388092e-09   \n",
       "1841  LV246  lipids-increasing             True  0.066665  3.672563e-08   \n",
       "484   LV515  lipids-increasing            False  0.058867  3.298919e-06   \n",
       "485   LV515  lipids-decreasing            False  0.058867  3.298919e-06   \n",
       "1990  LV122  lipids-increasing            False  0.053315  7.984697e-06   \n",
       "77    LV515  lipids-decreasing            False  0.055429  1.028495e-05   \n",
       "76    LV515  lipids-increasing            False  0.055429  1.028495e-05   \n",
       "1127  LV246  lipids-increasing             True  0.050872  2.096086e-05   \n",
       "362   LV246  lipids-increasing             True  0.050766  2.179410e-05   \n",
       "\n",
       "      pvalue_twosided                                            summary  \n",
       "1076     4.367864e-14                              GLS Regression Res...  \n",
       "2100     2.776184e-09                              GLS Regression Res...  \n",
       "1841     7.345126e-08                              GLS Regression Res...  \n",
       "484      6.597838e-06                              GLS Regression Res...  \n",
       "485      6.597838e-06                              GLS Regression Res...  \n",
       "1990     1.596939e-05                              GLS Regression Res...  \n",
       "77       2.056990e-05                              GLS Regression Res...  \n",
       "76       2.056990e-05                              GLS Regression Res...  \n",
       "1127     4.192172e-05                              GLS Regression Res...  \n",
       "362      4.358819e-05                              GLS Regression Res...  "
      ]
     },
     "execution_count": 56,
     "metadata": {},
     "output_type": "execute_result"
    }
   ],
   "source": [
    "results.sort_values(\"pvalue\").head(10)"
   ]
  },
  {
   "cell_type": "markdown",
   "id": "emotional-cancer",
   "metadata": {
    "papermill": {
     "duration": 0.727346,
     "end_time": "2021-07-14T21:50:25.090867",
     "exception": false,
     "start_time": "2021-07-14T21:50:24.363521",
     "status": "completed"
    },
    "tags": []
   },
   "source": [
    "## Save"
   ]
  },
  {
   "cell_type": "code",
   "execution_count": 57,
   "id": "complex-phase",
   "metadata": {
    "execution": {
     "iopub.execute_input": "2021-07-14T21:50:26.530415Z",
     "iopub.status.busy": "2021-07-14T21:50:26.530025Z",
     "iopub.status.idle": "2021-07-14T21:50:27.057416Z",
     "shell.execute_reply": "2021-07-14T21:50:27.055843Z"
    },
    "papermill": {
     "duration": 1.249789,
     "end_time": "2021-07-14T21:50:27.057745",
     "exception": false,
     "start_time": "2021-07-14T21:50:25.807956",
     "status": "completed"
    },
    "tags": []
   },
   "outputs": [],
   "source": [
    "results.to_pickle(OUTPUT_FILENAME)"
   ]
  },
  {
   "cell_type": "code",
   "execution_count": null,
   "id": "comparative-think",
   "metadata": {
    "papermill": {
     "duration": 0.710808,
     "end_time": "2021-07-14T21:50:28.481244",
     "exception": false,
     "start_time": "2021-07-14T21:50:27.770436",
     "status": "completed"
    },
    "tags": []
   },
   "outputs": [],
   "source": []
  }
 ],
 "metadata": {
  "jupytext": {
   "cell_metadata_filter": "all,-execution,-papermill,-trusted",
   "formats": "ipynb,py//py:percent"
  },
  "kernelspec": {
   "display_name": "Python 3",
   "language": "python",
   "name": "python3"
  },
  "language_info": {
   "codemirror_mode": {
    "name": "ipython",
    "version": 3
   },
   "file_extension": ".py",
   "mimetype": "text/x-python",
   "name": "python",
   "nbconvert_exporter": "python",
   "pygments_lexer": "ipython3",
   "version": "3.8.8"
  },
  "papermill": {
   "default_parameters": {},
   "duration": 20511.404848,
   "end_time": "2021-07-14T21:50:30.514328",
   "environment_variables": {},
   "exception": null,
   "input_path": "08_gsa_gls/40-gls_on_lipids_lvs-phenomexcan.ipynb",
   "output_path": "08_gsa_gls/40-gls_on_lipids_lvs-phenomexcan.run.ipynb",
   "parameters": {},
   "start_time": "2021-07-14T16:08:39.109480",
   "version": "2.2.2"
  }
 },
 "nbformat": 4,
 "nbformat_minor": 5
}
