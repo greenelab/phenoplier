{
 "cells": [
  {
   "cell_type": "markdown",
   "id": "senior-singapore",
   "metadata": {
    "papermill": {
     "duration": 0.02956,
     "end_time": "2021-07-14T16:08:40.129858",
     "exception": false,
     "start_time": "2021-07-14T16:08:40.100298",
     "status": "completed"
    },
    "tags": []
   },
   "source": [
    "# Description"
   ]
  },
  {
   "cell_type": "markdown",
   "id": "perfect-bulgarian",
   "metadata": {
    "papermill": {
     "duration": 0.025074,
     "end_time": "2021-07-14T16:08:40.180001",
     "exception": false,
     "start_time": "2021-07-14T16:08:40.154927",
     "status": "completed"
    },
    "tags": []
   },
   "source": [
    "This notebook is similar to `30` and `35`, but here I use the LVs that we found to be significantly enriched for the lipids CRISPR analysis, which might or might not coincide with the previously used LVs (those that discriminate clusters).\n",
    "The traits here are from PhenomeXcan."
   ]
  },
  {
   "cell_type": "markdown",
   "id": "cognitive-mitchell",
   "metadata": {
    "papermill": {
     "duration": 0.025913,
     "end_time": "2021-07-14T16:08:40.230850",
     "exception": false,
     "start_time": "2021-07-14T16:08:40.204937",
     "status": "completed"
    },
    "tags": []
   },
   "source": [
    "# Environment variables"
   ]
  },
  {
   "cell_type": "code",
   "execution_count": 1,
   "id": "broke-bobby",
   "metadata": {
    "papermill": {
     "duration": 0.038914,
     "end_time": "2021-07-14T16:08:40.295501",
     "exception": false,
     "start_time": "2021-07-14T16:08:40.256587",
     "status": "completed"
    },
    "tags": []
   },
   "outputs": [],
   "source": [
    "%load_ext autoreload\n",
    "%autoreload 2"
   ]
  },
  {
   "cell_type": "code",
   "execution_count": 2,
   "id": "compound-letter",
   "metadata": {
    "papermill": {
     "duration": 0.037702,
     "end_time": "2021-07-14T16:08:40.359734",
     "exception": false,
     "start_time": "2021-07-14T16:08:40.322032",
     "status": "completed"
    },
    "tags": []
   },
   "outputs": [],
   "source": [
    "import conf"
   ]
  },
  {
   "cell_type": "code",
   "execution_count": 3,
   "id": "unable-castle",
   "metadata": {
    "papermill": {
     "duration": 0.038059,
     "end_time": "2021-07-14T16:08:40.423889",
     "exception": false,
     "start_time": "2021-07-14T16:08:40.385830",
     "status": "completed"
    },
    "tags": []
   },
   "outputs": [
    {
     "data": {
      "text/plain": [
       "4"
      ]
     },
     "metadata": {},
     "output_type": "display_data"
    }
   ],
   "source": [
    "N_JOBS = conf.GENERAL[\"N_JOBS\"]\n",
    "display(N_JOBS)"
   ]
  },
  {
   "cell_type": "code",
   "execution_count": 4,
   "id": "consecutive-vegetation",
   "metadata": {
    "papermill": {
     "duration": 0.035772,
     "end_time": "2021-07-14T16:08:40.490629",
     "exception": false,
     "start_time": "2021-07-14T16:08:40.454857",
     "status": "completed"
    },
    "tags": []
   },
   "outputs": [
    {
     "name": "stdout",
     "output_type": "stream",
     "text": [
      "env: MKL_NUM_THREADS=4\n",
      "env: OPEN_BLAS_NUM_THREADS=4\n",
      "env: NUMEXPR_NUM_THREADS=4\n",
      "env: OMP_NUM_THREADS=4\n"
     ]
    }
   ],
   "source": [
    "%env MKL_NUM_THREADS=$N_JOBS\n",
    "%env OPEN_BLAS_NUM_THREADS=$N_JOBS\n",
    "%env NUMEXPR_NUM_THREADS=$N_JOBS\n",
    "%env OMP_NUM_THREADS=$N_JOBS"
   ]
  },
  {
   "cell_type": "markdown",
   "id": "spiritual-funeral",
   "metadata": {
    "papermill": {
     "duration": 0.031065,
     "end_time": "2021-07-14T16:08:40.549002",
     "exception": false,
     "start_time": "2021-07-14T16:08:40.517937",
     "status": "completed"
    },
    "tags": []
   },
   "source": [
    "# Modules"
   ]
  },
  {
   "cell_type": "code",
   "execution_count": 5,
   "id": "enhanced-emperor",
   "metadata": {
    "papermill": {
     "duration": 0.773956,
     "end_time": "2021-07-14T16:08:41.349528",
     "exception": false,
     "start_time": "2021-07-14T16:08:40.575572",
     "status": "completed"
    },
    "tags": []
   },
   "outputs": [],
   "source": [
    "from pathlib import Path\n",
    "\n",
    "import pandas as pd\n",
    "from tqdm import tqdm\n",
    "\n",
    "from gls import GLSPhenoplier"
   ]
  },
  {
   "cell_type": "markdown",
   "id": "adapted-straight",
   "metadata": {
    "papermill": {
     "duration": 0.026072,
     "end_time": "2021-07-14T16:08:41.404086",
     "exception": false,
     "start_time": "2021-07-14T16:08:41.378014",
     "status": "completed"
    },
    "tags": []
   },
   "source": [
    "# Settings"
   ]
  },
  {
   "cell_type": "code",
   "execution_count": 6,
   "id": "imperial-dutch",
   "metadata": {
    "papermill": {
     "duration": 0.039512,
     "end_time": "2021-07-14T16:08:41.469583",
     "exception": false,
     "start_time": "2021-07-14T16:08:41.430071",
     "status": "completed"
    },
    "tags": []
   },
   "outputs": [
    {
     "data": {
      "text/plain": [
       "PosixPath('/home/miltondp/projects/labs/greenelab/phenoplier/bases_data/base_orig/results/gls')"
      ]
     },
     "metadata": {},
     "output_type": "display_data"
    }
   ],
   "source": [
    "OUTPUT_DIR = conf.RESULTS[\"GLS\"]\n",
    "display(OUTPUT_DIR)\n",
    "\n",
    "OUTPUT_DIR.mkdir(exist_ok=True, parents=True)"
   ]
  },
  {
   "cell_type": "code",
   "execution_count": 7,
   "id": "fatty-acting",
   "metadata": {
    "papermill": {
     "duration": 0.043091,
     "end_time": "2021-07-14T16:08:41.539072",
     "exception": false,
     "start_time": "2021-07-14T16:08:41.495981",
     "status": "completed"
    },
    "tags": []
   },
   "outputs": [
    {
     "data": {
      "text/plain": [
       "PosixPath('/home/miltondp/projects/labs/greenelab/phenoplier/bases_data/base_orig/results/gls/gls_phenotypes-crispr_lvs-phenomexcan.pkl')"
      ]
     },
     "metadata": {},
     "output_type": "display_data"
    }
   ],
   "source": [
    "OUTPUT_FILENAME = OUTPUT_DIR / \"gls_phenotypes-crispr_lvs-phenomexcan.pkl\"\n",
    "display(OUTPUT_FILENAME)"
   ]
  },
  {
   "cell_type": "markdown",
   "id": "after-miami",
   "metadata": {
    "papermill": {
     "duration": 0.02678,
     "end_time": "2021-07-14T16:08:41.596310",
     "exception": false,
     "start_time": "2021-07-14T16:08:41.569530",
     "status": "completed"
    },
    "tags": []
   },
   "source": [
    "# Load data"
   ]
  },
  {
   "cell_type": "markdown",
   "id": "juvenile-static",
   "metadata": {
    "papermill": {
     "duration": 0.026033,
     "end_time": "2021-07-14T16:08:41.648722",
     "exception": false,
     "start_time": "2021-07-14T16:08:41.622689",
     "status": "completed"
    },
    "tags": []
   },
   "source": [
    "## PhenomeXcan (S-MultiXcan)"
   ]
  },
  {
   "cell_type": "code",
   "execution_count": 8,
   "id": "valuable-twelve",
   "metadata": {
    "papermill": {
     "duration": 0.03918,
     "end_time": "2021-07-14T16:08:41.714615",
     "exception": false,
     "start_time": "2021-07-14T16:08:41.675435",
     "status": "completed"
    },
    "tags": []
   },
   "outputs": [],
   "source": [
    "INPUT_SUBSET = \"z_score_std\""
   ]
  },
  {
   "cell_type": "code",
   "execution_count": 9,
   "id": "recent-brighton",
   "metadata": {
    "papermill": {
     "duration": 0.039086,
     "end_time": "2021-07-14T16:08:41.780676",
     "exception": false,
     "start_time": "2021-07-14T16:08:41.741590",
     "status": "completed"
    },
    "tags": []
   },
   "outputs": [],
   "source": [
    "INPUT_STEM = \"projection-smultixcan-efo_partial-mashr-zscores\""
   ]
  },
  {
   "cell_type": "code",
   "execution_count": 10,
   "id": "uniform-acrobat",
   "metadata": {
    "papermill": {
     "duration": 0.039427,
     "end_time": "2021-07-14T16:08:41.846595",
     "exception": false,
     "start_time": "2021-07-14T16:08:41.807168",
     "status": "completed"
    },
    "tags": []
   },
   "outputs": [],
   "source": [
    "input_filepath = Path(\n",
    "    conf.RESULTS[\"DATA_TRANSFORMATIONS_DIR\"],\n",
    "    INPUT_SUBSET,\n",
    "    f\"{INPUT_SUBSET}-{INPUT_STEM}.pkl\",\n",
    ").resolve()"
   ]
  },
  {
   "cell_type": "code",
   "execution_count": 11,
   "id": "reasonable-reservation",
   "metadata": {
    "papermill": {
     "duration": 0.053225,
     "end_time": "2021-07-14T16:08:41.926850",
     "exception": false,
     "start_time": "2021-07-14T16:08:41.873625",
     "status": "completed"
    },
    "tags": []
   },
   "outputs": [],
   "source": [
    "data = pd.read_pickle(input_filepath)"
   ]
  },
  {
   "cell_type": "code",
   "execution_count": 12,
   "id": "posted-concord",
   "metadata": {
    "papermill": {
     "duration": 0.039163,
     "end_time": "2021-07-14T16:08:41.995671",
     "exception": false,
     "start_time": "2021-07-14T16:08:41.956508",
     "status": "completed"
    },
    "tags": []
   },
   "outputs": [
    {
     "data": {
      "text/plain": [
       "(3752, 987)"
      ]
     },
     "execution_count": 12,
     "metadata": {},
     "output_type": "execute_result"
    }
   ],
   "source": [
    "data.shape"
   ]
  },
  {
   "cell_type": "code",
   "execution_count": 13,
   "id": "careful-contract",
   "metadata": {
    "papermill": {
     "duration": 0.052333,
     "end_time": "2021-07-14T16:08:42.074761",
     "exception": false,
     "start_time": "2021-07-14T16:08:42.022428",
     "status": "completed"
    },
    "tags": []
   },
   "outputs": [
    {
     "data": {
      "text/html": [
       "<div>\n",
       "<style scoped>\n",
       "    .dataframe tbody tr th:only-of-type {\n",
       "        vertical-align: middle;\n",
       "    }\n",
       "\n",
       "    .dataframe tbody tr th {\n",
       "        vertical-align: top;\n",
       "    }\n",
       "\n",
       "    .dataframe thead th {\n",
       "        text-align: right;\n",
       "    }\n",
       "</style>\n",
       "<table border=\"1\" class=\"dataframe\">\n",
       "  <thead>\n",
       "    <tr style=\"text-align: right;\">\n",
       "      <th></th>\n",
       "      <th>LV1</th>\n",
       "      <th>LV2</th>\n",
       "      <th>LV3</th>\n",
       "      <th>LV4</th>\n",
       "      <th>LV5</th>\n",
       "      <th>LV6</th>\n",
       "      <th>LV7</th>\n",
       "      <th>LV8</th>\n",
       "      <th>LV9</th>\n",
       "      <th>LV10</th>\n",
       "      <th>...</th>\n",
       "      <th>LV978</th>\n",
       "      <th>LV979</th>\n",
       "      <th>LV980</th>\n",
       "      <th>LV981</th>\n",
       "      <th>LV982</th>\n",
       "      <th>LV983</th>\n",
       "      <th>LV984</th>\n",
       "      <th>LV985</th>\n",
       "      <th>LV986</th>\n",
       "      <th>LV987</th>\n",
       "    </tr>\n",
       "  </thead>\n",
       "  <tbody>\n",
       "    <tr>\n",
       "      <th>100001_raw-Food_weight</th>\n",
       "      <td>-0.695006</td>\n",
       "      <td>1.962565</td>\n",
       "      <td>0.057683</td>\n",
       "      <td>0.878731</td>\n",
       "      <td>-0.539977</td>\n",
       "      <td>1.481272</td>\n",
       "      <td>-0.396422</td>\n",
       "      <td>1.090180</td>\n",
       "      <td>0.759223</td>\n",
       "      <td>0.931395</td>\n",
       "      <td>...</td>\n",
       "      <td>1.129784</td>\n",
       "      <td>1.752343</td>\n",
       "      <td>-1.411403</td>\n",
       "      <td>2.823863</td>\n",
       "      <td>0.931116</td>\n",
       "      <td>-1.054519</td>\n",
       "      <td>0.432982</td>\n",
       "      <td>-0.633597</td>\n",
       "      <td>0.554279</td>\n",
       "      <td>-0.642479</td>\n",
       "    </tr>\n",
       "    <tr>\n",
       "      <th>100002_raw-Energy</th>\n",
       "      <td>-1.528127</td>\n",
       "      <td>-0.345309</td>\n",
       "      <td>-0.148953</td>\n",
       "      <td>-0.242060</td>\n",
       "      <td>0.373427</td>\n",
       "      <td>0.791092</td>\n",
       "      <td>0.263477</td>\n",
       "      <td>0.987702</td>\n",
       "      <td>0.354391</td>\n",
       "      <td>1.416059</td>\n",
       "      <td>...</td>\n",
       "      <td>0.224604</td>\n",
       "      <td>0.769882</td>\n",
       "      <td>-0.509482</td>\n",
       "      <td>0.091153</td>\n",
       "      <td>2.286789</td>\n",
       "      <td>-1.008256</td>\n",
       "      <td>-0.029764</td>\n",
       "      <td>1.737229</td>\n",
       "      <td>-0.272107</td>\n",
       "      <td>-0.526125</td>\n",
       "    </tr>\n",
       "    <tr>\n",
       "      <th>100003_raw-Protein</th>\n",
       "      <td>-0.704572</td>\n",
       "      <td>-1.011299</td>\n",
       "      <td>0.671420</td>\n",
       "      <td>0.143991</td>\n",
       "      <td>0.615212</td>\n",
       "      <td>0.874212</td>\n",
       "      <td>-0.040998</td>\n",
       "      <td>0.915170</td>\n",
       "      <td>0.254369</td>\n",
       "      <td>-0.084237</td>\n",
       "      <td>...</td>\n",
       "      <td>1.003019</td>\n",
       "      <td>1.044314</td>\n",
       "      <td>-2.376108</td>\n",
       "      <td>0.004778</td>\n",
       "      <td>0.053714</td>\n",
       "      <td>-0.892447</td>\n",
       "      <td>-0.183800</td>\n",
       "      <td>1.377991</td>\n",
       "      <td>-0.278794</td>\n",
       "      <td>-0.419733</td>\n",
       "    </tr>\n",
       "    <tr>\n",
       "      <th>100004_raw-Fat</th>\n",
       "      <td>-0.989832</td>\n",
       "      <td>-1.875490</td>\n",
       "      <td>0.261555</td>\n",
       "      <td>-1.420719</td>\n",
       "      <td>0.366238</td>\n",
       "      <td>1.167049</td>\n",
       "      <td>0.257387</td>\n",
       "      <td>0.717674</td>\n",
       "      <td>-0.997664</td>\n",
       "      <td>0.969825</td>\n",
       "      <td>...</td>\n",
       "      <td>0.585913</td>\n",
       "      <td>0.638314</td>\n",
       "      <td>0.119139</td>\n",
       "      <td>-0.140204</td>\n",
       "      <td>1.394326</td>\n",
       "      <td>-1.173402</td>\n",
       "      <td>0.555058</td>\n",
       "      <td>1.013982</td>\n",
       "      <td>-0.544506</td>\n",
       "      <td>-0.064061</td>\n",
       "    </tr>\n",
       "    <tr>\n",
       "      <th>100005_raw-Carbohydrate</th>\n",
       "      <td>-0.580143</td>\n",
       "      <td>0.243335</td>\n",
       "      <td>0.158966</td>\n",
       "      <td>-0.036558</td>\n",
       "      <td>0.068176</td>\n",
       "      <td>-0.202639</td>\n",
       "      <td>1.101281</td>\n",
       "      <td>0.675227</td>\n",
       "      <td>1.463432</td>\n",
       "      <td>1.010078</td>\n",
       "      <td>...</td>\n",
       "      <td>-0.249108</td>\n",
       "      <td>-0.026814</td>\n",
       "      <td>0.232713</td>\n",
       "      <td>0.323682</td>\n",
       "      <td>1.168642</td>\n",
       "      <td>-0.282935</td>\n",
       "      <td>0.653105</td>\n",
       "      <td>1.909526</td>\n",
       "      <td>0.199997</td>\n",
       "      <td>-1.656894</td>\n",
       "    </tr>\n",
       "  </tbody>\n",
       "</table>\n",
       "<p>5 rows × 987 columns</p>\n",
       "</div>"
      ],
      "text/plain": [
       "                              LV1       LV2       LV3       LV4       LV5  \\\n",
       "100001_raw-Food_weight  -0.695006  1.962565  0.057683  0.878731 -0.539977   \n",
       "100002_raw-Energy       -1.528127 -0.345309 -0.148953 -0.242060  0.373427   \n",
       "100003_raw-Protein      -0.704572 -1.011299  0.671420  0.143991  0.615212   \n",
       "100004_raw-Fat          -0.989832 -1.875490  0.261555 -1.420719  0.366238   \n",
       "100005_raw-Carbohydrate -0.580143  0.243335  0.158966 -0.036558  0.068176   \n",
       "\n",
       "                              LV6       LV7       LV8       LV9      LV10  \\\n",
       "100001_raw-Food_weight   1.481272 -0.396422  1.090180  0.759223  0.931395   \n",
       "100002_raw-Energy        0.791092  0.263477  0.987702  0.354391  1.416059   \n",
       "100003_raw-Protein       0.874212 -0.040998  0.915170  0.254369 -0.084237   \n",
       "100004_raw-Fat           1.167049  0.257387  0.717674 -0.997664  0.969825   \n",
       "100005_raw-Carbohydrate -0.202639  1.101281  0.675227  1.463432  1.010078   \n",
       "\n",
       "                         ...     LV978     LV979     LV980     LV981  \\\n",
       "100001_raw-Food_weight   ...  1.129784  1.752343 -1.411403  2.823863   \n",
       "100002_raw-Energy        ...  0.224604  0.769882 -0.509482  0.091153   \n",
       "100003_raw-Protein       ...  1.003019  1.044314 -2.376108  0.004778   \n",
       "100004_raw-Fat           ...  0.585913  0.638314  0.119139 -0.140204   \n",
       "100005_raw-Carbohydrate  ... -0.249108 -0.026814  0.232713  0.323682   \n",
       "\n",
       "                            LV982     LV983     LV984     LV985     LV986  \\\n",
       "100001_raw-Food_weight   0.931116 -1.054519  0.432982 -0.633597  0.554279   \n",
       "100002_raw-Energy        2.286789 -1.008256 -0.029764  1.737229 -0.272107   \n",
       "100003_raw-Protein       0.053714 -0.892447 -0.183800  1.377991 -0.278794   \n",
       "100004_raw-Fat           1.394326 -1.173402  0.555058  1.013982 -0.544506   \n",
       "100005_raw-Carbohydrate  1.168642 -0.282935  0.653105  1.909526  0.199997   \n",
       "\n",
       "                            LV987  \n",
       "100001_raw-Food_weight  -0.642479  \n",
       "100002_raw-Energy       -0.526125  \n",
       "100003_raw-Protein      -0.419733  \n",
       "100004_raw-Fat          -0.064061  \n",
       "100005_raw-Carbohydrate -1.656894  \n",
       "\n",
       "[5 rows x 987 columns]"
      ]
     },
     "execution_count": 13,
     "metadata": {},
     "output_type": "execute_result"
    }
   ],
   "source": [
    "data.head()"
   ]
  },
  {
   "cell_type": "markdown",
   "id": "forty-death",
   "metadata": {
    "papermill": {
     "duration": 0.027351,
     "end_time": "2021-07-14T16:08:42.129428",
     "exception": false,
     "start_time": "2021-07-14T16:08:42.102077",
     "status": "completed"
    },
    "tags": []
   },
   "source": [
    "## Clustering results"
   ]
  },
  {
   "cell_type": "code",
   "execution_count": 14,
   "id": "collect-supply",
   "metadata": {
    "papermill": {
     "duration": 0.04113,
     "end_time": "2021-07-14T16:08:42.197355",
     "exception": false,
     "start_time": "2021-07-14T16:08:42.156225",
     "status": "completed"
    },
    "tags": []
   },
   "outputs": [
    {
     "data": {
      "text/plain": [
       "PosixPath('/home/miltondp/projects/labs/greenelab/phenoplier/bases_data/base_orig/results/clustering/consensus_clustering')"
      ]
     },
     "metadata": {},
     "output_type": "display_data"
    }
   ],
   "source": [
    "CONSENSUS_CLUSTERING_DIR = Path(\n",
    "    conf.RESULTS[\"CLUSTERING_DIR\"], \"consensus_clustering\"\n",
    ").resolve()\n",
    "\n",
    "display(CONSENSUS_CLUSTERING_DIR)"
   ]
  },
  {
   "cell_type": "code",
   "execution_count": 15,
   "id": "minus-possible",
   "metadata": {
    "papermill": {
     "duration": 0.042046,
     "end_time": "2021-07-14T16:08:42.267239",
     "exception": false,
     "start_time": "2021-07-14T16:08:42.225193",
     "status": "completed"
    },
    "tags": []
   },
   "outputs": [
    {
     "data": {
      "text/plain": [
       "PosixPath('/home/miltondp/projects/labs/greenelab/phenoplier/bases_data/base_orig/results/clustering/consensus_clustering/best_partitions_by_k.pkl')"
      ]
     },
     "metadata": {},
     "output_type": "display_data"
    }
   ],
   "source": [
    "input_file = Path(CONSENSUS_CLUSTERING_DIR, \"best_partitions_by_k.pkl\").resolve()\n",
    "display(input_file)"
   ]
  },
  {
   "cell_type": "code",
   "execution_count": 16,
   "id": "cheap-suicide",
   "metadata": {
    "papermill": {
     "duration": 0.042804,
     "end_time": "2021-07-14T16:08:42.338896",
     "exception": false,
     "start_time": "2021-07-14T16:08:42.296092",
     "status": "completed"
    },
    "tags": []
   },
   "outputs": [],
   "source": [
    "best_partitions = pd.read_pickle(input_file)"
   ]
  },
  {
   "cell_type": "code",
   "execution_count": 17,
   "id": "economic-marble",
   "metadata": {
    "papermill": {
     "duration": 0.042703,
     "end_time": "2021-07-14T16:08:42.410106",
     "exception": false,
     "start_time": "2021-07-14T16:08:42.367403",
     "status": "completed"
    },
    "tags": []
   },
   "outputs": [
    {
     "data": {
      "text/plain": [
       "(59, 4)"
      ]
     },
     "execution_count": 17,
     "metadata": {},
     "output_type": "execute_result"
    }
   ],
   "source": [
    "best_partitions.shape"
   ]
  },
  {
   "cell_type": "code",
   "execution_count": 18,
   "id": "brazilian-secondary",
   "metadata": {
    "papermill": {
     "duration": 0.050325,
     "end_time": "2021-07-14T16:08:42.489392",
     "exception": false,
     "start_time": "2021-07-14T16:08:42.439067",
     "status": "completed"
    },
    "tags": []
   },
   "outputs": [
    {
     "data": {
      "text/html": [
       "<div>\n",
       "<style scoped>\n",
       "    .dataframe tbody tr th:only-of-type {\n",
       "        vertical-align: middle;\n",
       "    }\n",
       "\n",
       "    .dataframe tbody tr th {\n",
       "        vertical-align: top;\n",
       "    }\n",
       "\n",
       "    .dataframe thead th {\n",
       "        text-align: right;\n",
       "    }\n",
       "</style>\n",
       "<table border=\"1\" class=\"dataframe\">\n",
       "  <thead>\n",
       "    <tr style=\"text-align: right;\">\n",
       "      <th></th>\n",
       "      <th>method</th>\n",
       "      <th>partition</th>\n",
       "      <th>ari_median</th>\n",
       "      <th>selected</th>\n",
       "    </tr>\n",
       "    <tr>\n",
       "      <th>k</th>\n",
       "      <th></th>\n",
       "      <th></th>\n",
       "      <th></th>\n",
       "      <th></th>\n",
       "    </tr>\n",
       "  </thead>\n",
       "  <tbody>\n",
       "    <tr>\n",
       "      <th>14</th>\n",
       "      <td>scc_025</td>\n",
       "      <td>[0, 0, 0, 0, 0, 0, 0, 0, 0, 0, 0, 0, 0, 0, 0, ...</td>\n",
       "      <td>0.090117</td>\n",
       "      <td>True</td>\n",
       "    </tr>\n",
       "    <tr>\n",
       "      <th>22</th>\n",
       "      <td>scc_020</td>\n",
       "      <td>[13, 18, 18, 18, 18, 18, 18, 18, 18, 13, 18, 1...</td>\n",
       "      <td>0.090100</td>\n",
       "      <td>True</td>\n",
       "    </tr>\n",
       "    <tr>\n",
       "      <th>13</th>\n",
       "      <td>scc_025</td>\n",
       "      <td>[0, 0, 0, 0, 0, 0, 0, 0, 0, 0, 0, 0, 0, 0, 0, ...</td>\n",
       "      <td>0.089920</td>\n",
       "      <td>True</td>\n",
       "    </tr>\n",
       "    <tr>\n",
       "      <th>12</th>\n",
       "      <td>scc_025</td>\n",
       "      <td>[0, 0, 0, 0, 0, 0, 0, 0, 0, 0, 0, 0, 0, 0, 0, ...</td>\n",
       "      <td>0.089894</td>\n",
       "      <td>True</td>\n",
       "    </tr>\n",
       "    <tr>\n",
       "      <th>11</th>\n",
       "      <td>scc_025</td>\n",
       "      <td>[0, 0, 0, 0, 0, 0, 0, 0, 0, 0, 0, 0, 0, 0, 0, ...</td>\n",
       "      <td>0.089616</td>\n",
       "      <td>True</td>\n",
       "    </tr>\n",
       "  </tbody>\n",
       "</table>\n",
       "</div>"
      ],
      "text/plain": [
       "     method                                          partition  ari_median  \\\n",
       "k                                                                            \n",
       "14  scc_025  [0, 0, 0, 0, 0, 0, 0, 0, 0, 0, 0, 0, 0, 0, 0, ...    0.090117   \n",
       "22  scc_020  [13, 18, 18, 18, 18, 18, 18, 18, 18, 13, 18, 1...    0.090100   \n",
       "13  scc_025  [0, 0, 0, 0, 0, 0, 0, 0, 0, 0, 0, 0, 0, 0, 0, ...    0.089920   \n",
       "12  scc_025  [0, 0, 0, 0, 0, 0, 0, 0, 0, 0, 0, 0, 0, 0, 0, ...    0.089894   \n",
       "11  scc_025  [0, 0, 0, 0, 0, 0, 0, 0, 0, 0, 0, 0, 0, 0, 0, ...    0.089616   \n",
       "\n",
       "    selected  \n",
       "k             \n",
       "14      True  \n",
       "22      True  \n",
       "13      True  \n",
       "12      True  \n",
       "11      True  "
      ]
     },
     "execution_count": 18,
     "metadata": {},
     "output_type": "execute_result"
    }
   ],
   "source": [
    "best_partitions.head()"
   ]
  },
  {
   "cell_type": "markdown",
   "id": "directed-welsh",
   "metadata": {
    "papermill": {
     "duration": 0.031906,
     "end_time": "2021-07-14T16:08:42.549739",
     "exception": false,
     "start_time": "2021-07-14T16:08:42.517833",
     "status": "completed"
    },
    "tags": []
   },
   "source": [
    "## MultiPLIER summary"
   ]
  },
  {
   "cell_type": "code",
   "execution_count": 19,
   "id": "governing-whole",
   "metadata": {
    "papermill": {
     "duration": 0.042601,
     "end_time": "2021-07-14T16:08:42.622111",
     "exception": false,
     "start_time": "2021-07-14T16:08:42.579510",
     "status": "completed"
    },
    "tags": []
   },
   "outputs": [],
   "source": [
    "multiplier_model_summary = pd.read_pickle(conf.MULTIPLIER[\"MODEL_SUMMARY_FILE\"])"
   ]
  },
  {
   "cell_type": "code",
   "execution_count": 20,
   "id": "welcome-worry",
   "metadata": {
    "papermill": {
     "duration": 0.04189,
     "end_time": "2021-07-14T16:08:42.693421",
     "exception": false,
     "start_time": "2021-07-14T16:08:42.651531",
     "status": "completed"
    },
    "tags": []
   },
   "outputs": [
    {
     "data": {
      "text/plain": [
       "(2157, 5)"
      ]
     },
     "execution_count": 20,
     "metadata": {},
     "output_type": "execute_result"
    }
   ],
   "source": [
    "multiplier_model_summary.shape"
   ]
  },
  {
   "cell_type": "code",
   "execution_count": 21,
   "id": "swedish-surprise",
   "metadata": {
    "papermill": {
     "duration": 0.045547,
     "end_time": "2021-07-14T16:08:42.767330",
     "exception": false,
     "start_time": "2021-07-14T16:08:42.721783",
     "status": "completed"
    },
    "tags": []
   },
   "outputs": [
    {
     "data": {
      "text/html": [
       "<div>\n",
       "<style scoped>\n",
       "    .dataframe tbody tr th:only-of-type {\n",
       "        vertical-align: middle;\n",
       "    }\n",
       "\n",
       "    .dataframe tbody tr th {\n",
       "        vertical-align: top;\n",
       "    }\n",
       "\n",
       "    .dataframe thead th {\n",
       "        text-align: right;\n",
       "    }\n",
       "</style>\n",
       "<table border=\"1\" class=\"dataframe\">\n",
       "  <thead>\n",
       "    <tr style=\"text-align: right;\">\n",
       "      <th></th>\n",
       "      <th>pathway</th>\n",
       "      <th>LV index</th>\n",
       "      <th>AUC</th>\n",
       "      <th>p-value</th>\n",
       "      <th>FDR</th>\n",
       "    </tr>\n",
       "  </thead>\n",
       "  <tbody>\n",
       "    <tr>\n",
       "      <th>1</th>\n",
       "      <td>KEGG_LYSINE_DEGRADATION</td>\n",
       "      <td>1</td>\n",
       "      <td>0.388059</td>\n",
       "      <td>0.866078</td>\n",
       "      <td>0.956005</td>\n",
       "    </tr>\n",
       "    <tr>\n",
       "      <th>2</th>\n",
       "      <td>REACTOME_MRNA_SPLICING</td>\n",
       "      <td>1</td>\n",
       "      <td>0.733057</td>\n",
       "      <td>0.000048</td>\n",
       "      <td>0.000582</td>\n",
       "    </tr>\n",
       "    <tr>\n",
       "      <th>3</th>\n",
       "      <td>MIPS_NOP56P_ASSOCIATED_PRE_RRNA_COMPLEX</td>\n",
       "      <td>1</td>\n",
       "      <td>0.680555</td>\n",
       "      <td>0.001628</td>\n",
       "      <td>0.011366</td>\n",
       "    </tr>\n",
       "    <tr>\n",
       "      <th>4</th>\n",
       "      <td>KEGG_DNA_REPLICATION</td>\n",
       "      <td>1</td>\n",
       "      <td>0.549473</td>\n",
       "      <td>0.312155</td>\n",
       "      <td>0.539951</td>\n",
       "    </tr>\n",
       "    <tr>\n",
       "      <th>5</th>\n",
       "      <td>PID_MYC_ACTIVPATHWAY</td>\n",
       "      <td>1</td>\n",
       "      <td>0.639303</td>\n",
       "      <td>0.021702</td>\n",
       "      <td>0.083739</td>\n",
       "    </tr>\n",
       "  </tbody>\n",
       "</table>\n",
       "</div>"
      ],
      "text/plain": [
       "                                   pathway LV index       AUC   p-value  \\\n",
       "1                  KEGG_LYSINE_DEGRADATION        1  0.388059  0.866078   \n",
       "2                   REACTOME_MRNA_SPLICING        1  0.733057  0.000048   \n",
       "3  MIPS_NOP56P_ASSOCIATED_PRE_RRNA_COMPLEX        1  0.680555  0.001628   \n",
       "4                     KEGG_DNA_REPLICATION        1  0.549473  0.312155   \n",
       "5                     PID_MYC_ACTIVPATHWAY        1  0.639303  0.021702   \n",
       "\n",
       "        FDR  \n",
       "1  0.956005  \n",
       "2  0.000582  \n",
       "3  0.011366  \n",
       "4  0.539951  \n",
       "5  0.083739  "
      ]
     },
     "execution_count": 21,
     "metadata": {},
     "output_type": "execute_result"
    }
   ],
   "source": [
    "multiplier_model_summary.head()"
   ]
  },
  {
   "cell_type": "code",
   "execution_count": 22,
   "id": "proud-clark",
   "metadata": {
    "papermill": {
     "duration": 0.050338,
     "end_time": "2021-07-14T16:08:42.846852",
     "exception": false,
     "start_time": "2021-07-14T16:08:42.796514",
     "status": "completed"
    },
    "tags": []
   },
   "outputs": [
    {
     "data": {
      "text/plain": [
       "(469, 5)"
      ]
     },
     "metadata": {},
     "output_type": "display_data"
    },
    {
     "data": {
      "text/html": [
       "<div>\n",
       "<style scoped>\n",
       "    .dataframe tbody tr th:only-of-type {\n",
       "        vertical-align: middle;\n",
       "    }\n",
       "\n",
       "    .dataframe tbody tr th {\n",
       "        vertical-align: top;\n",
       "    }\n",
       "\n",
       "    .dataframe thead th {\n",
       "        text-align: right;\n",
       "    }\n",
       "</style>\n",
       "<table border=\"1\" class=\"dataframe\">\n",
       "  <thead>\n",
       "    <tr style=\"text-align: right;\">\n",
       "      <th></th>\n",
       "      <th>pathway</th>\n",
       "      <th>LV index</th>\n",
       "      <th>AUC</th>\n",
       "      <th>p-value</th>\n",
       "      <th>FDR</th>\n",
       "    </tr>\n",
       "  </thead>\n",
       "  <tbody>\n",
       "    <tr>\n",
       "      <th>2</th>\n",
       "      <td>REACTOME_MRNA_SPLICING</td>\n",
       "      <td>1</td>\n",
       "      <td>0.733057</td>\n",
       "      <td>4.772691e-05</td>\n",
       "      <td>5.816211e-04</td>\n",
       "    </tr>\n",
       "    <tr>\n",
       "      <th>3</th>\n",
       "      <td>MIPS_NOP56P_ASSOCIATED_PRE_RRNA_COMPLEX</td>\n",
       "      <td>1</td>\n",
       "      <td>0.680555</td>\n",
       "      <td>1.628217e-03</td>\n",
       "      <td>1.136590e-02</td>\n",
       "    </tr>\n",
       "    <tr>\n",
       "      <th>8</th>\n",
       "      <td>REACTOME_MITOTIC_G1_G1_S_PHASES</td>\n",
       "      <td>1</td>\n",
       "      <td>0.686170</td>\n",
       "      <td>2.517619e-04</td>\n",
       "      <td>2.392292e-03</td>\n",
       "    </tr>\n",
       "    <tr>\n",
       "      <th>9</th>\n",
       "      <td>IRIS_Monocyte-Day0</td>\n",
       "      <td>2</td>\n",
       "      <td>0.890036</td>\n",
       "      <td>4.315812e-25</td>\n",
       "      <td>1.329887e-22</td>\n",
       "    </tr>\n",
       "    <tr>\n",
       "      <th>10</th>\n",
       "      <td>DMAP_MONO2</td>\n",
       "      <td>2</td>\n",
       "      <td>0.904676</td>\n",
       "      <td>1.313970e-16</td>\n",
       "      <td>1.574574e-14</td>\n",
       "    </tr>\n",
       "  </tbody>\n",
       "</table>\n",
       "</div>"
      ],
      "text/plain": [
       "                                    pathway LV index       AUC       p-value  \\\n",
       "2                    REACTOME_MRNA_SPLICING        1  0.733057  4.772691e-05   \n",
       "3   MIPS_NOP56P_ASSOCIATED_PRE_RRNA_COMPLEX        1  0.680555  1.628217e-03   \n",
       "8           REACTOME_MITOTIC_G1_G1_S_PHASES        1  0.686170  2.517619e-04   \n",
       "9                        IRIS_Monocyte-Day0        2  0.890036  4.315812e-25   \n",
       "10                               DMAP_MONO2        2  0.904676  1.313970e-16   \n",
       "\n",
       "             FDR  \n",
       "2   5.816211e-04  \n",
       "3   1.136590e-02  \n",
       "8   2.392292e-03  \n",
       "9   1.329887e-22  \n",
       "10  1.574574e-14  "
      ]
     },
     "metadata": {},
     "output_type": "display_data"
    }
   ],
   "source": [
    "well_aligned_lvs = multiplier_model_summary[\n",
    "    (multiplier_model_summary[\"FDR\"] < 0.05) | (multiplier_model_summary[\"AUC\"] >= 0.75)\n",
    "]\n",
    "\n",
    "display(well_aligned_lvs.shape)\n",
    "display(well_aligned_lvs.head())"
   ]
  },
  {
   "cell_type": "code",
   "execution_count": 23,
   "id": "roman-public",
   "metadata": {
    "papermill": {
     "duration": 0.042302,
     "end_time": "2021-07-14T16:08:42.919069",
     "exception": false,
     "start_time": "2021-07-14T16:08:42.876767",
     "status": "completed"
    },
    "tags": []
   },
   "outputs": [],
   "source": [
    "well_aligned_lv_codes = set([f\"LV{lvi}\" for lvi in well_aligned_lvs[\"LV index\"]])"
   ]
  },
  {
   "cell_type": "code",
   "execution_count": 24,
   "id": "informal-webcam",
   "metadata": {
    "papermill": {
     "duration": 0.043139,
     "end_time": "2021-07-14T16:08:42.992006",
     "exception": false,
     "start_time": "2021-07-14T16:08:42.948867",
     "status": "completed"
    },
    "tags": []
   },
   "outputs": [
    {
     "data": {
      "text/plain": [
       "200"
      ]
     },
     "execution_count": 24,
     "metadata": {},
     "output_type": "execute_result"
    }
   ],
   "source": [
    "len(well_aligned_lv_codes)"
   ]
  },
  {
   "cell_type": "code",
   "execution_count": 25,
   "id": "arabic-trick",
   "metadata": {
    "papermill": {
     "duration": 0.042447,
     "end_time": "2021-07-14T16:08:43.064090",
     "exception": false,
     "start_time": "2021-07-14T16:08:43.021643",
     "status": "completed"
    },
    "tags": []
   },
   "outputs": [
    {
     "data": {
      "text/plain": [
       "['LV832', 'LV159', 'LV739', 'LV847', 'LV158']"
      ]
     },
     "execution_count": 25,
     "metadata": {},
     "output_type": "execute_result"
    }
   ],
   "source": [
    "list(well_aligned_lv_codes)[:5]"
   ]
  },
  {
   "cell_type": "markdown",
   "id": "confused-handy",
   "metadata": {
    "papermill": {
     "duration": 0.02939,
     "end_time": "2021-07-14T16:08:43.123717",
     "exception": false,
     "start_time": "2021-07-14T16:08:43.094327",
     "status": "completed"
    },
    "tags": []
   },
   "source": [
    "# Select LVs from CRISPR analysis"
   ]
  },
  {
   "cell_type": "code",
   "execution_count": 26,
   "id": "loose-brunswick",
   "metadata": {
    "papermill": {
     "duration": 0.057836,
     "end_time": "2021-07-14T16:08:43.210852",
     "exception": false,
     "start_time": "2021-07-14T16:08:43.153016",
     "status": "completed"
    },
    "tags": []
   },
   "outputs": [],
   "source": [
    "# FIXME: there will be a specific folder for crispr analysis in the future, that should be replaced here\n",
    "deg_enrich = pd.read_csv(\n",
    "    Path(\n",
    "        conf.RESULTS[\"BASE_DIR\"],\n",
    "        \"crispr_analyses\",\n",
    "        \"fgsea-hi_conf-all_lvs.tsv\",\n",
    "    ).resolve(),\n",
    "    sep=\"\\t\",\n",
    ")"
   ]
  },
  {
   "cell_type": "code",
   "execution_count": 27,
   "id": "sufficient-quick",
   "metadata": {
    "papermill": {
     "duration": 0.043221,
     "end_time": "2021-07-14T16:08:43.284270",
     "exception": false,
     "start_time": "2021-07-14T16:08:43.241049",
     "status": "completed"
    },
    "tags": []
   },
   "outputs": [
    {
     "data": {
      "text/plain": [
       "(1974, 11)"
      ]
     },
     "execution_count": 27,
     "metadata": {},
     "output_type": "execute_result"
    }
   ],
   "source": [
    "deg_enrich.shape"
   ]
  },
  {
   "cell_type": "code",
   "execution_count": 28,
   "id": "regular-plaza",
   "metadata": {
    "papermill": {
     "duration": 0.049887,
     "end_time": "2021-07-14T16:08:43.364143",
     "exception": false,
     "start_time": "2021-07-14T16:08:43.314256",
     "status": "completed"
    },
    "tags": []
   },
   "outputs": [
    {
     "data": {
      "text/html": [
       "<div>\n",
       "<style scoped>\n",
       "    .dataframe tbody tr th:only-of-type {\n",
       "        vertical-align: middle;\n",
       "    }\n",
       "\n",
       "    .dataframe tbody tr th {\n",
       "        vertical-align: top;\n",
       "    }\n",
       "\n",
       "    .dataframe thead th {\n",
       "        text-align: right;\n",
       "    }\n",
       "</style>\n",
       "<table border=\"1\" class=\"dataframe\">\n",
       "  <thead>\n",
       "    <tr style=\"text-align: right;\">\n",
       "      <th></th>\n",
       "      <th>pathway</th>\n",
       "      <th>pval</th>\n",
       "      <th>padj</th>\n",
       "      <th>log2err</th>\n",
       "      <th>ES</th>\n",
       "      <th>NES</th>\n",
       "      <th>size</th>\n",
       "      <th>leadingEdge</th>\n",
       "      <th>lv</th>\n",
       "      <th>rep_idx</th>\n",
       "      <th>fdr</th>\n",
       "    </tr>\n",
       "  </thead>\n",
       "  <tbody>\n",
       "    <tr>\n",
       "      <th>0</th>\n",
       "      <td>gene_set_decrease</td>\n",
       "      <td>0.116883</td>\n",
       "      <td>0.233766</td>\n",
       "      <td>0.125640</td>\n",
       "      <td>0.909509</td>\n",
       "      <td>1.237006</td>\n",
       "      <td>5</td>\n",
       "      <td>PCYT2, UBE2J2, FBXW7</td>\n",
       "      <td>LV1</td>\n",
       "      <td>8</td>\n",
       "      <td>0.967285</td>\n",
       "    </tr>\n",
       "    <tr>\n",
       "      <th>1</th>\n",
       "      <td>gene_set_increase</td>\n",
       "      <td>0.285714</td>\n",
       "      <td>0.285714</td>\n",
       "      <td>0.072180</td>\n",
       "      <td>0.840253</td>\n",
       "      <td>1.258282</td>\n",
       "      <td>3</td>\n",
       "      <td>ACACA, MBTPS1</td>\n",
       "      <td>LV1</td>\n",
       "      <td>2</td>\n",
       "      <td>0.967285</td>\n",
       "    </tr>\n",
       "    <tr>\n",
       "      <th>2</th>\n",
       "      <td>gene_set_decrease</td>\n",
       "      <td>0.741259</td>\n",
       "      <td>0.741259</td>\n",
       "      <td>0.026956</td>\n",
       "      <td>0.751964</td>\n",
       "      <td>1.005845</td>\n",
       "      <td>5</td>\n",
       "      <td>TCF7L2, UBE2J2, PTEN</td>\n",
       "      <td>LV10</td>\n",
       "      <td>10</td>\n",
       "      <td>0.967285</td>\n",
       "    </tr>\n",
       "    <tr>\n",
       "      <th>3</th>\n",
       "      <td>gene_set_increase</td>\n",
       "      <td>0.427572</td>\n",
       "      <td>0.720280</td>\n",
       "      <td>0.052805</td>\n",
       "      <td>0.814140</td>\n",
       "      <td>1.320263</td>\n",
       "      <td>3</td>\n",
       "      <td>MBTPS1, DGAT2</td>\n",
       "      <td>LV10</td>\n",
       "      <td>4</td>\n",
       "      <td>0.967285</td>\n",
       "    </tr>\n",
       "    <tr>\n",
       "      <th>4</th>\n",
       "      <td>gene_set_decrease</td>\n",
       "      <td>0.908092</td>\n",
       "      <td>0.908092</td>\n",
       "      <td>0.014514</td>\n",
       "      <td>0.540400</td>\n",
       "      <td>0.778719</td>\n",
       "      <td>5</td>\n",
       "      <td>PTEN, TCF7L2</td>\n",
       "      <td>LV100</td>\n",
       "      <td>1</td>\n",
       "      <td>0.974250</td>\n",
       "    </tr>\n",
       "  </tbody>\n",
       "</table>\n",
       "</div>"
      ],
      "text/plain": [
       "             pathway      pval      padj   log2err        ES       NES  size  \\\n",
       "0  gene_set_decrease  0.116883  0.233766  0.125640  0.909509  1.237006     5   \n",
       "1  gene_set_increase  0.285714  0.285714  0.072180  0.840253  1.258282     3   \n",
       "2  gene_set_decrease  0.741259  0.741259  0.026956  0.751964  1.005845     5   \n",
       "3  gene_set_increase  0.427572  0.720280  0.052805  0.814140  1.320263     3   \n",
       "4  gene_set_decrease  0.908092  0.908092  0.014514  0.540400  0.778719     5   \n",
       "\n",
       "            leadingEdge     lv  rep_idx       fdr  \n",
       "0  PCYT2, UBE2J2, FBXW7    LV1        8  0.967285  \n",
       "1         ACACA, MBTPS1    LV1        2  0.967285  \n",
       "2  TCF7L2, UBE2J2, PTEN   LV10       10  0.967285  \n",
       "3         MBTPS1, DGAT2   LV10        4  0.967285  \n",
       "4          PTEN, TCF7L2  LV100        1  0.974250  "
      ]
     },
     "execution_count": 28,
     "metadata": {},
     "output_type": "execute_result"
    }
   ],
   "source": [
    "deg_enrich.head()"
   ]
  },
  {
   "cell_type": "code",
   "execution_count": 29,
   "id": "first-calculation",
   "metadata": {
    "papermill": {
     "duration": 0.192452,
     "end_time": "2021-07-14T16:08:43.587340",
     "exception": false,
     "start_time": "2021-07-14T16:08:43.394888",
     "status": "completed"
    },
    "tags": []
   },
   "outputs": [],
   "source": [
    "# deg_enrich_max_idx = deg_enrich.groupby([\"lv\", \"pathway\"])[\"pval\"].idxmax()"
   ]
  },
  {
   "cell_type": "code",
   "execution_count": 30,
   "id": "spiritual-nature",
   "metadata": {
    "papermill": {
     "duration": 0.051001,
     "end_time": "2021-07-14T16:08:43.669010",
     "exception": false,
     "start_time": "2021-07-14T16:08:43.618009",
     "status": "completed"
    },
    "tags": []
   },
   "outputs": [],
   "source": [
    "# deg_enrich = deg_enrich.loc[deg_enrich_max_idx].reset_index(drop=True)\n",
    "# display(deg_enrich.shape)\n",
    "# display(deg_enrich.head())"
   ]
  },
  {
   "cell_type": "markdown",
   "id": "numeric-arctic",
   "metadata": {
    "papermill": {
     "duration": 0.036335,
     "end_time": "2021-07-14T16:08:43.754555",
     "exception": false,
     "start_time": "2021-07-14T16:08:43.718220",
     "status": "completed"
    },
    "tags": []
   },
   "source": [
    "## Lipids-increasing gene sets"
   ]
  },
  {
   "cell_type": "code",
   "execution_count": 31,
   "id": "reasonable-frequency",
   "metadata": {
    "papermill": {
     "duration": 0.04419,
     "end_time": "2021-07-14T16:08:43.828951",
     "exception": false,
     "start_time": "2021-07-14T16:08:43.784761",
     "status": "completed"
    },
    "tags": []
   },
   "outputs": [],
   "source": [
    "deg_increase = deg_enrich[\n",
    "    deg_enrich[\"pathway\"].isin((\"gene_set_increase\",)) & (deg_enrich[\"pval\"] < 0.01)\n",
    "].sort_values(\"pval\", ascending=True)"
   ]
  },
  {
   "cell_type": "code",
   "execution_count": 32,
   "id": "original-welsh",
   "metadata": {
    "papermill": {
     "duration": 0.043754,
     "end_time": "2021-07-14T16:08:43.903394",
     "exception": false,
     "start_time": "2021-07-14T16:08:43.859640",
     "status": "completed"
    },
    "tags": []
   },
   "outputs": [
    {
     "data": {
      "text/plain": [
       "(7, 11)"
      ]
     },
     "execution_count": 32,
     "metadata": {},
     "output_type": "execute_result"
    }
   ],
   "source": [
    "deg_increase.shape"
   ]
  },
  {
   "cell_type": "code",
   "execution_count": 33,
   "id": "theoretical-index",
   "metadata": {
    "papermill": {
     "duration": 0.050004,
     "end_time": "2021-07-14T16:08:43.985008",
     "exception": false,
     "start_time": "2021-07-14T16:08:43.935004",
     "status": "completed"
    },
    "tags": []
   },
   "outputs": [
    {
     "data": {
      "text/html": [
       "<div>\n",
       "<style scoped>\n",
       "    .dataframe tbody tr th:only-of-type {\n",
       "        vertical-align: middle;\n",
       "    }\n",
       "\n",
       "    .dataframe tbody tr th {\n",
       "        vertical-align: top;\n",
       "    }\n",
       "\n",
       "    .dataframe thead th {\n",
       "        text-align: right;\n",
       "    }\n",
       "</style>\n",
       "<table border=\"1\" class=\"dataframe\">\n",
       "  <thead>\n",
       "    <tr style=\"text-align: right;\">\n",
       "      <th></th>\n",
       "      <th>pathway</th>\n",
       "      <th>pval</th>\n",
       "      <th>padj</th>\n",
       "      <th>log2err</th>\n",
       "      <th>ES</th>\n",
       "      <th>NES</th>\n",
       "      <th>size</th>\n",
       "      <th>leadingEdge</th>\n",
       "      <th>lv</th>\n",
       "      <th>rep_idx</th>\n",
       "      <th>fdr</th>\n",
       "    </tr>\n",
       "  </thead>\n",
       "  <tbody>\n",
       "    <tr>\n",
       "      <th>327</th>\n",
       "      <td>gene_set_increase</td>\n",
       "      <td>0.003533</td>\n",
       "      <td>0.007067</td>\n",
       "      <td>0.431708</td>\n",
       "      <td>0.998221</td>\n",
       "      <td>1.582398</td>\n",
       "      <td>3</td>\n",
       "      <td>DGAT2, ACACA</td>\n",
       "      <td>LV246</td>\n",
       "      <td>6</td>\n",
       "      <td>0.967285</td>\n",
       "    </tr>\n",
       "    <tr>\n",
       "      <th>1341</th>\n",
       "      <td>gene_set_increase</td>\n",
       "      <td>0.004573</td>\n",
       "      <td>0.009147</td>\n",
       "      <td>0.407018</td>\n",
       "      <td>0.998666</td>\n",
       "      <td>1.495780</td>\n",
       "      <td>3</td>\n",
       "      <td>ACACA, DGAT2</td>\n",
       "      <td>LV702</td>\n",
       "      <td>9</td>\n",
       "      <td>0.967285</td>\n",
       "    </tr>\n",
       "    <tr>\n",
       "      <th>1129</th>\n",
       "      <td>gene_set_increase</td>\n",
       "      <td>0.005837</td>\n",
       "      <td>0.011675</td>\n",
       "      <td>0.407018</td>\n",
       "      <td>0.996739</td>\n",
       "      <td>1.510660</td>\n",
       "      <td>3</td>\n",
       "      <td>ACACA, DGAT2</td>\n",
       "      <td>LV607</td>\n",
       "      <td>10</td>\n",
       "      <td>0.967285</td>\n",
       "    </tr>\n",
       "    <tr>\n",
       "      <th>1757</th>\n",
       "      <td>gene_set_increase</td>\n",
       "      <td>0.006730</td>\n",
       "      <td>0.013459</td>\n",
       "      <td>0.407018</td>\n",
       "      <td>0.997480</td>\n",
       "      <td>1.545604</td>\n",
       "      <td>3</td>\n",
       "      <td>ACACA, DGAT2</td>\n",
       "      <td>LV890</td>\n",
       "      <td>10</td>\n",
       "      <td>0.967285</td>\n",
       "    </tr>\n",
       "    <tr>\n",
       "      <th>1423</th>\n",
       "      <td>gene_set_increase</td>\n",
       "      <td>0.007847</td>\n",
       "      <td>0.015693</td>\n",
       "      <td>0.380730</td>\n",
       "      <td>0.990514</td>\n",
       "      <td>1.474472</td>\n",
       "      <td>3</td>\n",
       "      <td>MBTPS1, DGAT2</td>\n",
       "      <td>LV74</td>\n",
       "      <td>6</td>\n",
       "      <td>0.967285</td>\n",
       "    </tr>\n",
       "  </tbody>\n",
       "</table>\n",
       "</div>"
      ],
      "text/plain": [
       "                pathway      pval      padj   log2err        ES       NES  \\\n",
       "327   gene_set_increase  0.003533  0.007067  0.431708  0.998221  1.582398   \n",
       "1341  gene_set_increase  0.004573  0.009147  0.407018  0.998666  1.495780   \n",
       "1129  gene_set_increase  0.005837  0.011675  0.407018  0.996739  1.510660   \n",
       "1757  gene_set_increase  0.006730  0.013459  0.407018  0.997480  1.545604   \n",
       "1423  gene_set_increase  0.007847  0.015693  0.380730  0.990514  1.474472   \n",
       "\n",
       "      size    leadingEdge     lv  rep_idx       fdr  \n",
       "327      3   DGAT2, ACACA  LV246        6  0.967285  \n",
       "1341     3   ACACA, DGAT2  LV702        9  0.967285  \n",
       "1129     3   ACACA, DGAT2  LV607       10  0.967285  \n",
       "1757     3   ACACA, DGAT2  LV890       10  0.967285  \n",
       "1423     3  MBTPS1, DGAT2   LV74        6  0.967285  "
      ]
     },
     "execution_count": 33,
     "metadata": {},
     "output_type": "execute_result"
    }
   ],
   "source": [
    "deg_increase.head()"
   ]
  },
  {
   "cell_type": "code",
   "execution_count": 34,
   "id": "italian-cherry",
   "metadata": {
    "papermill": {
     "duration": 0.044016,
     "end_time": "2021-07-14T16:08:44.060603",
     "exception": false,
     "start_time": "2021-07-14T16:08:44.016587",
     "status": "completed"
    },
    "tags": []
   },
   "outputs": [],
   "source": [
    "lvs_increase = deg_increase[\"lv\"].unique()"
   ]
  },
  {
   "cell_type": "code",
   "execution_count": 35,
   "id": "hawaiian-merit",
   "metadata": {
    "papermill": {
     "duration": 0.043665,
     "end_time": "2021-07-14T16:08:44.135564",
     "exception": false,
     "start_time": "2021-07-14T16:08:44.091899",
     "status": "completed"
    },
    "tags": []
   },
   "outputs": [
    {
     "data": {
      "text/plain": [
       "(7,)"
      ]
     },
     "execution_count": 35,
     "metadata": {},
     "output_type": "execute_result"
    }
   ],
   "source": [
    "lvs_increase.shape"
   ]
  },
  {
   "cell_type": "code",
   "execution_count": 36,
   "id": "ignored-vatican",
   "metadata": {
    "papermill": {
     "duration": 0.043967,
     "end_time": "2021-07-14T16:08:44.211148",
     "exception": false,
     "start_time": "2021-07-14T16:08:44.167181",
     "status": "completed"
    },
    "tags": []
   },
   "outputs": [
    {
     "data": {
      "text/plain": [
       "array(['LV246', 'LV702', 'LV607', 'LV890', 'LV74', 'LV865', 'LV841'],\n",
       "      dtype=object)"
      ]
     },
     "execution_count": 36,
     "metadata": {},
     "output_type": "execute_result"
    }
   ],
   "source": [
    "lvs_increase"
   ]
  },
  {
   "cell_type": "markdown",
   "id": "certified-closure",
   "metadata": {
    "papermill": {
     "duration": 0.03143,
     "end_time": "2021-07-14T16:08:44.273760",
     "exception": false,
     "start_time": "2021-07-14T16:08:44.242330",
     "status": "completed"
    },
    "tags": []
   },
   "source": [
    "## Lipids-decreasing gene sets"
   ]
  },
  {
   "cell_type": "code",
   "execution_count": 37,
   "id": "noticed-jefferson",
   "metadata": {
    "papermill": {
     "duration": 0.045674,
     "end_time": "2021-07-14T16:08:44.349974",
     "exception": false,
     "start_time": "2021-07-14T16:08:44.304300",
     "status": "completed"
    },
    "tags": []
   },
   "outputs": [],
   "source": [
    "deg_decrease = deg_enrich[\n",
    "    deg_enrich[\"pathway\"].isin((\"gene_set_decrease\",)) & (deg_enrich[\"pval\"] < 0.01)\n",
    "].sort_values(\"pval\", ascending=True)"
   ]
  },
  {
   "cell_type": "code",
   "execution_count": 38,
   "id": "disabled-placement",
   "metadata": {
    "papermill": {
     "duration": 0.044344,
     "end_time": "2021-07-14T16:08:44.426691",
     "exception": false,
     "start_time": "2021-07-14T16:08:44.382347",
     "status": "completed"
    },
    "tags": []
   },
   "outputs": [
    {
     "data": {
      "text/plain": [
       "(8, 11)"
      ]
     },
     "execution_count": 38,
     "metadata": {},
     "output_type": "execute_result"
    }
   ],
   "source": [
    "deg_decrease.shape"
   ]
  },
  {
   "cell_type": "code",
   "execution_count": 39,
   "id": "moving-intro",
   "metadata": {
    "papermill": {
     "duration": 0.050477,
     "end_time": "2021-07-14T16:08:44.509036",
     "exception": false,
     "start_time": "2021-07-14T16:08:44.458559",
     "status": "completed"
    },
    "tags": []
   },
   "outputs": [
    {
     "data": {
      "text/html": [
       "<div>\n",
       "<style scoped>\n",
       "    .dataframe tbody tr th:only-of-type {\n",
       "        vertical-align: middle;\n",
       "    }\n",
       "\n",
       "    .dataframe tbody tr th {\n",
       "        vertical-align: top;\n",
       "    }\n",
       "\n",
       "    .dataframe thead th {\n",
       "        text-align: right;\n",
       "    }\n",
       "</style>\n",
       "<table border=\"1\" class=\"dataframe\">\n",
       "  <thead>\n",
       "    <tr style=\"text-align: right;\">\n",
       "      <th></th>\n",
       "      <th>pathway</th>\n",
       "      <th>pval</th>\n",
       "      <th>padj</th>\n",
       "      <th>log2err</th>\n",
       "      <th>ES</th>\n",
       "      <th>NES</th>\n",
       "      <th>size</th>\n",
       "      <th>leadingEdge</th>\n",
       "      <th>lv</th>\n",
       "      <th>rep_idx</th>\n",
       "      <th>fdr</th>\n",
       "    </tr>\n",
       "  </thead>\n",
       "  <tbody>\n",
       "    <tr>\n",
       "      <th>936</th>\n",
       "      <td>gene_set_decrease</td>\n",
       "      <td>0.000554</td>\n",
       "      <td>0.001108</td>\n",
       "      <td>0.477271</td>\n",
       "      <td>0.999703</td>\n",
       "      <td>1.388986</td>\n",
       "      <td>5</td>\n",
       "      <td>FBXW7, TCF7L2</td>\n",
       "      <td>LV520</td>\n",
       "      <td>6</td>\n",
       "      <td>0.967285</td>\n",
       "    </tr>\n",
       "    <tr>\n",
       "      <th>1560</th>\n",
       "      <td>gene_set_decrease</td>\n",
       "      <td>0.002201</td>\n",
       "      <td>0.004403</td>\n",
       "      <td>0.431708</td>\n",
       "      <td>0.997776</td>\n",
       "      <td>1.359600</td>\n",
       "      <td>5</td>\n",
       "      <td>UBE2J2, TCF7L2</td>\n",
       "      <td>LV801</td>\n",
       "      <td>6</td>\n",
       "      <td>0.967285</td>\n",
       "    </tr>\n",
       "    <tr>\n",
       "      <th>918</th>\n",
       "      <td>gene_set_decrease</td>\n",
       "      <td>0.002460</td>\n",
       "      <td>0.004921</td>\n",
       "      <td>0.431708</td>\n",
       "      <td>0.997331</td>\n",
       "      <td>1.382906</td>\n",
       "      <td>5</td>\n",
       "      <td>FBXW7, TCF7L2</td>\n",
       "      <td>LV512</td>\n",
       "      <td>2</td>\n",
       "      <td>0.967285</td>\n",
       "    </tr>\n",
       "    <tr>\n",
       "      <th>1140</th>\n",
       "      <td>gene_set_decrease</td>\n",
       "      <td>0.003570</td>\n",
       "      <td>0.007141</td>\n",
       "      <td>0.431708</td>\n",
       "      <td>0.999299</td>\n",
       "      <td>1.400503</td>\n",
       "      <td>5</td>\n",
       "      <td>PTEN, FBXW7</td>\n",
       "      <td>LV612</td>\n",
       "      <td>3</td>\n",
       "      <td>0.967285</td>\n",
       "    </tr>\n",
       "    <tr>\n",
       "      <th>690</th>\n",
       "      <td>gene_set_decrease</td>\n",
       "      <td>0.004053</td>\n",
       "      <td>0.008105</td>\n",
       "      <td>0.407018</td>\n",
       "      <td>0.996738</td>\n",
       "      <td>1.348694</td>\n",
       "      <td>5</td>\n",
       "      <td>PCYT2, TCF7L2</td>\n",
       "      <td>LV41</td>\n",
       "      <td>4</td>\n",
       "      <td>0.967285</td>\n",
       "    </tr>\n",
       "  </tbody>\n",
       "</table>\n",
       "</div>"
      ],
      "text/plain": [
       "                pathway      pval      padj   log2err        ES       NES  \\\n",
       "936   gene_set_decrease  0.000554  0.001108  0.477271  0.999703  1.388986   \n",
       "1560  gene_set_decrease  0.002201  0.004403  0.431708  0.997776  1.359600   \n",
       "918   gene_set_decrease  0.002460  0.004921  0.431708  0.997331  1.382906   \n",
       "1140  gene_set_decrease  0.003570  0.007141  0.431708  0.999299  1.400503   \n",
       "690   gene_set_decrease  0.004053  0.008105  0.407018  0.996738  1.348694   \n",
       "\n",
       "      size     leadingEdge     lv  rep_idx       fdr  \n",
       "936      5   FBXW7, TCF7L2  LV520        6  0.967285  \n",
       "1560     5  UBE2J2, TCF7L2  LV801        6  0.967285  \n",
       "918      5   FBXW7, TCF7L2  LV512        2  0.967285  \n",
       "1140     5     PTEN, FBXW7  LV612        3  0.967285  \n",
       "690      5   PCYT2, TCF7L2   LV41        4  0.967285  "
      ]
     },
     "execution_count": 39,
     "metadata": {},
     "output_type": "execute_result"
    }
   ],
   "source": [
    "deg_decrease.head()"
   ]
  },
  {
   "cell_type": "code",
   "execution_count": 40,
   "id": "amber-phrase",
   "metadata": {
    "papermill": {
     "duration": 0.048175,
     "end_time": "2021-07-14T16:08:44.591979",
     "exception": false,
     "start_time": "2021-07-14T16:08:44.543804",
     "status": "completed"
    },
    "tags": []
   },
   "outputs": [],
   "source": [
    "lvs_decrease = deg_decrease[\"lv\"].unique()"
   ]
  },
  {
   "cell_type": "code",
   "execution_count": 41,
   "id": "signal-highway",
   "metadata": {
    "papermill": {
     "duration": 0.044552,
     "end_time": "2021-07-14T16:08:44.669166",
     "exception": false,
     "start_time": "2021-07-14T16:08:44.624614",
     "status": "completed"
    },
    "tags": []
   },
   "outputs": [
    {
     "data": {
      "text/plain": [
       "(8,)"
      ]
     },
     "execution_count": 41,
     "metadata": {},
     "output_type": "execute_result"
    }
   ],
   "source": [
    "lvs_decrease.shape"
   ]
  },
  {
   "cell_type": "code",
   "execution_count": 42,
   "id": "statistical-midwest",
   "metadata": {
    "papermill": {
     "duration": 0.044781,
     "end_time": "2021-07-14T16:08:44.745722",
     "exception": false,
     "start_time": "2021-07-14T16:08:44.700941",
     "status": "completed"
    },
    "tags": []
   },
   "outputs": [
    {
     "data": {
      "text/plain": [
       "array(['LV520', 'LV801', 'LV512', 'LV612', 'LV41', 'LV838', 'LV302',\n",
       "       'LV959'], dtype=object)"
      ]
     },
     "execution_count": 42,
     "metadata": {},
     "output_type": "execute_result"
    }
   ],
   "source": [
    "lvs_decrease"
   ]
  },
  {
   "cell_type": "markdown",
   "id": "british-progressive",
   "metadata": {
    "papermill": {
     "duration": 0.031177,
     "end_time": "2021-07-14T16:08:44.809135",
     "exception": false,
     "start_time": "2021-07-14T16:08:44.777958",
     "status": "completed"
    },
    "tags": []
   },
   "source": [
    "## Merge into one dataframe"
   ]
  },
  {
   "cell_type": "code",
   "execution_count": 43,
   "id": "massive-yeast",
   "metadata": {
    "papermill": {
     "duration": 0.046342,
     "end_time": "2021-07-14T16:08:44.886909",
     "exception": false,
     "start_time": "2021-07-14T16:08:44.840567",
     "status": "completed"
    },
    "tags": []
   },
   "outputs": [],
   "source": [
    "_tmp0 = pd.DataFrame({\"lv\": lvs_increase, \"lv_set\": \"lipids-increasing\"})\n",
    "\n",
    "_tmp1 = pd.DataFrame({\"lv\": lvs_decrease, \"lv_set\": \"lipids-decreasing\"})"
   ]
  },
  {
   "cell_type": "code",
   "execution_count": 44,
   "id": "divided-cookbook",
   "metadata": {
    "papermill": {
     "duration": 0.078162,
     "end_time": "2021-07-14T16:08:44.997486",
     "exception": false,
     "start_time": "2021-07-14T16:08:44.919324",
     "status": "completed"
    },
    "tags": []
   },
   "outputs": [],
   "source": [
    "gls_selected_lvs = pd.concat([_tmp0, _tmp1], ignore_index=True)"
   ]
  },
  {
   "cell_type": "code",
   "execution_count": 45,
   "id": "second-geology",
   "metadata": {
    "papermill": {
     "duration": 0.047085,
     "end_time": "2021-07-14T16:08:45.087018",
     "exception": false,
     "start_time": "2021-07-14T16:08:45.039933",
     "status": "completed"
    },
    "tags": []
   },
   "outputs": [
    {
     "data": {
      "text/plain": [
       "(15, 2)"
      ]
     },
     "execution_count": 45,
     "metadata": {},
     "output_type": "execute_result"
    }
   ],
   "source": [
    "gls_selected_lvs.shape"
   ]
  },
  {
   "cell_type": "code",
   "execution_count": 46,
   "id": "unexpected-homework",
   "metadata": {
    "papermill": {
     "duration": 0.047692,
     "end_time": "2021-07-14T16:08:45.168854",
     "exception": false,
     "start_time": "2021-07-14T16:08:45.121162",
     "status": "completed"
    },
    "tags": []
   },
   "outputs": [
    {
     "data": {
      "text/html": [
       "<div>\n",
       "<style scoped>\n",
       "    .dataframe tbody tr th:only-of-type {\n",
       "        vertical-align: middle;\n",
       "    }\n",
       "\n",
       "    .dataframe tbody tr th {\n",
       "        vertical-align: top;\n",
       "    }\n",
       "\n",
       "    .dataframe thead th {\n",
       "        text-align: right;\n",
       "    }\n",
       "</style>\n",
       "<table border=\"1\" class=\"dataframe\">\n",
       "  <thead>\n",
       "    <tr style=\"text-align: right;\">\n",
       "      <th></th>\n",
       "      <th>lv</th>\n",
       "      <th>lv_set</th>\n",
       "    </tr>\n",
       "  </thead>\n",
       "  <tbody>\n",
       "    <tr>\n",
       "      <th>0</th>\n",
       "      <td>LV246</td>\n",
       "      <td>lipids-increasing</td>\n",
       "    </tr>\n",
       "    <tr>\n",
       "      <th>1</th>\n",
       "      <td>LV702</td>\n",
       "      <td>lipids-increasing</td>\n",
       "    </tr>\n",
       "    <tr>\n",
       "      <th>2</th>\n",
       "      <td>LV607</td>\n",
       "      <td>lipids-increasing</td>\n",
       "    </tr>\n",
       "    <tr>\n",
       "      <th>3</th>\n",
       "      <td>LV890</td>\n",
       "      <td>lipids-increasing</td>\n",
       "    </tr>\n",
       "    <tr>\n",
       "      <th>4</th>\n",
       "      <td>LV74</td>\n",
       "      <td>lipids-increasing</td>\n",
       "    </tr>\n",
       "  </tbody>\n",
       "</table>\n",
       "</div>"
      ],
      "text/plain": [
       "      lv             lv_set\n",
       "0  LV246  lipids-increasing\n",
       "1  LV702  lipids-increasing\n",
       "2  LV607  lipids-increasing\n",
       "3  LV890  lipids-increasing\n",
       "4   LV74  lipids-increasing"
      ]
     },
     "execution_count": 46,
     "metadata": {},
     "output_type": "execute_result"
    }
   ],
   "source": [
    "gls_selected_lvs.head()"
   ]
  },
  {
   "cell_type": "markdown",
   "id": "governing-humanitarian",
   "metadata": {
    "papermill": {
     "duration": 0.032064,
     "end_time": "2021-07-14T16:08:45.232911",
     "exception": false,
     "start_time": "2021-07-14T16:08:45.200847",
     "status": "completed"
    },
    "tags": []
   },
   "source": [
    "# Select traits from specific partition/cluster"
   ]
  },
  {
   "cell_type": "markdown",
   "id": "proof-friendship",
   "metadata": {
    "papermill": {
     "duration": 0.032043,
     "end_time": "2021-07-14T16:08:45.297359",
     "exception": false,
     "start_time": "2021-07-14T16:08:45.265316",
     "status": "completed"
    },
    "tags": []
   },
   "source": [
    "For this run on the LVs related to the lipids CRISPR analysis, I'm only interested in the main clusters of the cardiovascular sub-branch."
   ]
  },
  {
   "cell_type": "code",
   "execution_count": 47,
   "id": "north-public",
   "metadata": {
    "execution": {
     "iopub.execute_input": "2021-07-14T16:08:45.365333Z",
     "iopub.status.busy": "2021-07-14T16:08:45.364969Z",
     "iopub.status.idle": "2021-07-14T16:08:45.375348Z",
     "shell.execute_reply": "2021-07-14T16:08:45.374986Z"
    },
    "papermill": {
     "duration": 0.045748,
     "end_time": "2021-07-14T16:08:45.375430",
     "exception": false,
     "start_time": "2021-07-14T16:08:45.329682",
     "status": "completed"
    },
    "tags": []
   },
   "outputs": [],
   "source": [
    "PHENOTYPES_CONFIG = [\n",
    "    # cardiovascular\n",
    "    (29, 14),\n",
    "    (29, 16),\n",
    "    (29, 11),\n",
    "    (29, 21),\n",
    "    (29, 17),\n",
    "]"
   ]
  },
  {
   "cell_type": "markdown",
   "id": "amazing-township",
   "metadata": {
    "papermill": {
     "duration": 0.032002,
     "end_time": "2021-07-14T16:08:45.439728",
     "exception": false,
     "start_time": "2021-07-14T16:08:45.407726",
     "status": "completed"
    },
    "tags": []
   },
   "source": [
    "# GLSPhenoplier"
   ]
  },
  {
   "cell_type": "markdown",
   "id": "disabled-caribbean",
   "metadata": {
    "papermill": {
     "duration": 0.03181,
     "end_time": "2021-07-14T16:08:45.503483",
     "exception": false,
     "start_time": "2021-07-14T16:08:45.471673",
     "status": "completed"
    },
    "tags": []
   },
   "source": [
    "## Get list of phenotypes/lvs pairs"
   ]
  },
  {
   "cell_type": "code",
   "execution_count": 48,
   "id": "editorial-bhutan",
   "metadata": {
    "execution": {
     "iopub.execute_input": "2021-07-14T16:08:45.575254Z",
     "iopub.status.busy": "2021-07-14T16:08:45.574869Z",
     "iopub.status.idle": "2021-07-14T16:08:45.719711Z",
     "shell.execute_reply": "2021-07-14T16:08:45.719336Z"
    },
    "papermill": {
     "duration": 0.183621,
     "end_time": "2021-07-14T16:08:45.719795",
     "exception": false,
     "start_time": "2021-07-14T16:08:45.536174",
     "status": "completed"
    },
    "tags": []
   },
   "outputs": [],
   "source": [
    "phenotypes_lvs_pairs = []\n",
    "\n",
    "for part_k, cluster_id in PHENOTYPES_CONFIG:\n",
    "    # get traits from the partition/cluster\n",
    "    part = best_partitions.loc[part_k, \"partition\"]\n",
    "    cluster_traits = data.index[part == cluster_id]\n",
    "\n",
    "    for phenotype_code in cluster_traits:\n",
    "        for idx, lv_row in gls_selected_lvs.iterrows():\n",
    "            phenotypes_lvs_pairs.append(\n",
    "                {\n",
    "                    \"phenotype_part_k\": part_k,\n",
    "                    \"phenotype_cluster_id\": cluster_id,\n",
    "                    \"phenotype\": phenotype_code,\n",
    "                    \"lv\": lv_row[\"lv\"],\n",
    "                    \"lv_set\": lv_row[\"lv_set\"],\n",
    "                }\n",
    "            )\n",
    "\n",
    "phenotypes_lvs_pairs = pd.DataFrame(phenotypes_lvs_pairs).drop_duplicates()"
   ]
  },
  {
   "cell_type": "code",
   "execution_count": 49,
   "id": "persistent-unknown",
   "metadata": {
    "execution": {
     "iopub.execute_input": "2021-07-14T16:08:45.786045Z",
     "iopub.status.busy": "2021-07-14T16:08:45.785679Z",
     "iopub.status.idle": "2021-07-14T16:08:45.798437Z",
     "shell.execute_reply": "2021-07-14T16:08:45.798055Z"
    },
    "papermill": {
     "duration": 0.046767,
     "end_time": "2021-07-14T16:08:45.798522",
     "exception": false,
     "start_time": "2021-07-14T16:08:45.751755",
     "status": "completed"
    },
    "tags": []
   },
   "outputs": [],
   "source": [
    "phenotypes_lvs_pairs = phenotypes_lvs_pairs.sort_values(\n",
    "    [\"phenotype\", \"lv\"]\n",
    ").reset_index(drop=True)"
   ]
  },
  {
   "cell_type": "code",
   "execution_count": 50,
   "id": "radio-usage",
   "metadata": {
    "execution": {
     "iopub.execute_input": "2021-07-14T16:08:45.866877Z",
     "iopub.status.busy": "2021-07-14T16:08:45.866521Z",
     "iopub.status.idle": "2021-07-14T16:08:45.877351Z",
     "shell.execute_reply": "2021-07-14T16:08:45.877628Z"
    },
    "papermill": {
     "duration": 0.045678,
     "end_time": "2021-07-14T16:08:45.877735",
     "exception": false,
     "start_time": "2021-07-14T16:08:45.832057",
     "status": "completed"
    },
    "tags": []
   },
   "outputs": [
    {
     "data": {
      "text/plain": [
       "(2142, 5)"
      ]
     },
     "execution_count": 50,
     "metadata": {},
     "output_type": "execute_result"
    }
   ],
   "source": [
    "phenotypes_lvs_pairs.shape"
   ]
  },
  {
   "cell_type": "code",
   "execution_count": 51,
   "id": "upper-charles",
   "metadata": {
    "execution": {
     "iopub.execute_input": "2021-07-14T16:08:45.945843Z",
     "iopub.status.busy": "2021-07-14T16:08:45.945484Z",
     "iopub.status.idle": "2021-07-14T16:08:45.959837Z",
     "shell.execute_reply": "2021-07-14T16:08:45.959466Z"
    },
    "papermill": {
     "duration": 0.048968,
     "end_time": "2021-07-14T16:08:45.959924",
     "exception": false,
     "start_time": "2021-07-14T16:08:45.910956",
     "status": "completed"
    },
    "tags": []
   },
   "outputs": [
    {
     "data": {
      "text/html": [
       "<div>\n",
       "<style scoped>\n",
       "    .dataframe tbody tr th:only-of-type {\n",
       "        vertical-align: middle;\n",
       "    }\n",
       "\n",
       "    .dataframe tbody tr th {\n",
       "        vertical-align: top;\n",
       "    }\n",
       "\n",
       "    .dataframe thead th {\n",
       "        text-align: right;\n",
       "    }\n",
       "</style>\n",
       "<table border=\"1\" class=\"dataframe\">\n",
       "  <thead>\n",
       "    <tr style=\"text-align: right;\">\n",
       "      <th></th>\n",
       "      <th>phenotype_part_k</th>\n",
       "      <th>phenotype_cluster_id</th>\n",
       "      <th>phenotype</th>\n",
       "      <th>lv</th>\n",
       "      <th>lv_set</th>\n",
       "    </tr>\n",
       "  </thead>\n",
       "  <tbody>\n",
       "    <tr>\n",
       "      <th>0</th>\n",
       "      <td>29</td>\n",
       "      <td>17</td>\n",
       "      <td>20003_1140861958-Treatmentmedication_code_simv...</td>\n",
       "      <td>LV120</td>\n",
       "      <td>lipids-increasing</td>\n",
       "    </tr>\n",
       "    <tr>\n",
       "      <th>1</th>\n",
       "      <td>29</td>\n",
       "      <td>17</td>\n",
       "      <td>20003_1140861958-Treatmentmedication_code_simv...</td>\n",
       "      <td>LV122</td>\n",
       "      <td>lipids-increasing</td>\n",
       "    </tr>\n",
       "    <tr>\n",
       "      <th>2</th>\n",
       "      <td>29</td>\n",
       "      <td>17</td>\n",
       "      <td>20003_1140861958-Treatmentmedication_code_simv...</td>\n",
       "      <td>LV131</td>\n",
       "      <td>lipids-decreasing</td>\n",
       "    </tr>\n",
       "    <tr>\n",
       "      <th>3</th>\n",
       "      <td>29</td>\n",
       "      <td>17</td>\n",
       "      <td>20003_1140861958-Treatmentmedication_code_simv...</td>\n",
       "      <td>LV157</td>\n",
       "      <td>lipids-decreasing</td>\n",
       "    </tr>\n",
       "    <tr>\n",
       "      <th>4</th>\n",
       "      <td>29</td>\n",
       "      <td>17</td>\n",
       "      <td>20003_1140861958-Treatmentmedication_code_simv...</td>\n",
       "      <td>LV199</td>\n",
       "      <td>lipids-decreasing</td>\n",
       "    </tr>\n",
       "  </tbody>\n",
       "</table>\n",
       "</div>"
      ],
      "text/plain": [
       "   phenotype_part_k  phenotype_cluster_id  \\\n",
       "0                29                    17   \n",
       "1                29                    17   \n",
       "2                29                    17   \n",
       "3                29                    17   \n",
       "4                29                    17   \n",
       "\n",
       "                                           phenotype     lv             lv_set  \n",
       "0  20003_1140861958-Treatmentmedication_code_simv...  LV120  lipids-increasing  \n",
       "1  20003_1140861958-Treatmentmedication_code_simv...  LV122  lipids-increasing  \n",
       "2  20003_1140861958-Treatmentmedication_code_simv...  LV131  lipids-decreasing  \n",
       "3  20003_1140861958-Treatmentmedication_code_simv...  LV157  lipids-decreasing  \n",
       "4  20003_1140861958-Treatmentmedication_code_simv...  LV199  lipids-decreasing  "
      ]
     },
     "execution_count": 51,
     "metadata": {},
     "output_type": "execute_result"
    }
   ],
   "source": [
    "phenotypes_lvs_pairs.head()"
   ]
  },
  {
   "cell_type": "markdown",
   "id": "grand-tower",
   "metadata": {
    "papermill": {
     "duration": 0.03237,
     "end_time": "2021-07-14T16:08:46.026459",
     "exception": false,
     "start_time": "2021-07-14T16:08:45.994089",
     "status": "completed"
    },
    "tags": []
   },
   "source": [
    "## Run"
   ]
  },
  {
   "cell_type": "code",
   "execution_count": 52,
   "id": "finnish-excess",
   "metadata": {
    "execution": {
     "iopub.execute_input": "2021-07-14T16:08:46.096086Z",
     "iopub.status.busy": "2021-07-14T16:08:46.095702Z",
     "iopub.status.idle": "2021-07-14T21:50:17.825869Z",
     "shell.execute_reply": "2021-07-14T21:50:17.826180Z"
    },
    "papermill": {
     "duration": 20491.766999,
     "end_time": "2021-07-14T21:50:17.826298",
     "exception": false,
     "start_time": "2021-07-14T16:08:46.059299",
     "status": "completed"
    },
    "tags": []
   },
   "outputs": [
    {
     "name": "stderr",
     "output_type": "stream",
     "text": [
      "schizophrenia - LV99: 100%|██████████| 2142/2142 [5:41:31<00:00,  9.57s/it]\n"
     ]
    }
   ],
   "source": [
    "results = []\n",
    "\n",
    "pbar = tqdm(total=phenotypes_lvs_pairs.shape[0])\n",
    "\n",
    "for idx, row in phenotypes_lvs_pairs.iterrows():\n",
    "    phenotype_code = row[\"phenotype\"]\n",
    "    lv_code = row[\"lv\"]\n",
    "\n",
    "    pbar.set_description(f\"{phenotype_code} - {lv_code}\")\n",
    "\n",
    "    gls_model = GLSPhenoplier(\n",
    "        smultixcan_result_set_filepath=conf.PHENOMEXCAN[\n",
    "            \"SMULTIXCAN_EFO_PARTIAL_MASHR_ZSCORES_FILE\"\n",
    "        ]\n",
    "    )\n",
    "    gls_model.fit_named(lv_code, phenotype_code)\n",
    "    res = gls_model.results\n",
    "\n",
    "    results.append(\n",
    "        {\n",
    "            \"part_k\": row[\"phenotype_part_k\"],\n",
    "            \"cluster_id\": row[\"phenotype_cluster_id\"],\n",
    "            \"phenotype\": phenotype_code,\n",
    "            \"lv\": lv_code,\n",
    "            \"lv_set\": row[\"lv_set\"],\n",
    "            \"lv_with_pathway\": lv_code in well_aligned_lv_codes,\n",
    "            \"coef\": res.params.loc[\"lv\"],\n",
    "            \"pvalue\": res.pvalues_onesided.loc[\"lv\"],\n",
    "            \"pvalue_twosided\": res.pvalues.loc[\"lv\"],\n",
    "            \"summary\": gls_model.results_summary,\n",
    "        }\n",
    "    )\n",
    "\n",
    "    # save results every 10 models trained\n",
    "    if (idx % 10) == 0:\n",
    "        pd.DataFrame(results).to_pickle(OUTPUT_FILENAME)\n",
    "\n",
    "    pbar.update(1)\n",
    "\n",
    "pbar.close()"
   ]
  },
  {
   "cell_type": "code",
   "execution_count": 53,
   "id": "jewish-hands",
   "metadata": {
    "execution": {
     "iopub.execute_input": "2021-07-14T21:50:19.236458Z",
     "iopub.status.busy": "2021-07-14T21:50:19.236097Z",
     "iopub.status.idle": "2021-07-14T21:50:19.252631Z",
     "shell.execute_reply": "2021-07-14T21:50:19.252291Z"
    },
    "papermill": {
     "duration": 0.711271,
     "end_time": "2021-07-14T21:50:19.252733",
     "exception": false,
     "start_time": "2021-07-14T21:50:18.541462",
     "status": "completed"
    },
    "tags": []
   },
   "outputs": [],
   "source": [
    "results = pd.DataFrame(results)"
   ]
  },
  {
   "cell_type": "code",
   "execution_count": 54,
   "id": "dated-ballet",
   "metadata": {
    "execution": {
     "iopub.execute_input": "2021-07-14T21:50:20.678561Z",
     "iopub.status.busy": "2021-07-14T21:50:20.678172Z",
     "iopub.status.idle": "2021-07-14T21:50:20.689685Z",
     "shell.execute_reply": "2021-07-14T21:50:20.689342Z"
    },
    "papermill": {
     "duration": 0.718775,
     "end_time": "2021-07-14T21:50:20.689771",
     "exception": false,
     "start_time": "2021-07-14T21:50:19.970996",
     "status": "completed"
    },
    "tags": []
   },
   "outputs": [
    {
     "data": {
      "text/plain": [
       "(2142, 10)"
      ]
     },
     "execution_count": 54,
     "metadata": {},
     "output_type": "execute_result"
    }
   ],
   "source": [
    "results.shape"
   ]
  },
  {
   "cell_type": "code",
   "execution_count": 55,
   "id": "hollow-retail",
   "metadata": {
    "execution": {
     "iopub.execute_input": "2021-07-14T21:50:22.112129Z",
     "iopub.status.busy": "2021-07-14T21:50:22.111759Z",
     "iopub.status.idle": "2021-07-14T21:50:22.145046Z",
     "shell.execute_reply": "2021-07-14T21:50:22.145330Z"
    },
    "papermill": {
     "duration": 0.749529,
     "end_time": "2021-07-14T21:50:22.145433",
     "exception": false,
     "start_time": "2021-07-14T21:50:21.395904",
     "status": "completed"
    },
    "tags": []
   },
   "outputs": [
    {
     "data": {
      "text/html": [
       "<div>\n",
       "<style scoped>\n",
       "    .dataframe tbody tr th:only-of-type {\n",
       "        vertical-align: middle;\n",
       "    }\n",
       "\n",
       "    .dataframe tbody tr th {\n",
       "        vertical-align: top;\n",
       "    }\n",
       "\n",
       "    .dataframe thead th {\n",
       "        text-align: right;\n",
       "    }\n",
       "</style>\n",
       "<table border=\"1\" class=\"dataframe\">\n",
       "  <thead>\n",
       "    <tr style=\"text-align: right;\">\n",
       "      <th></th>\n",
       "      <th>part_k</th>\n",
       "      <th>cluster_id</th>\n",
       "      <th>phenotype</th>\n",
       "      <th>lv</th>\n",
       "      <th>lv_set</th>\n",
       "      <th>lv_with_pathway</th>\n",
       "      <th>coef</th>\n",
       "      <th>pvalue</th>\n",
       "      <th>pvalue_twosided</th>\n",
       "      <th>summary</th>\n",
       "    </tr>\n",
       "  </thead>\n",
       "  <tbody>\n",
       "    <tr>\n",
       "      <th>0</th>\n",
       "      <td>29</td>\n",
       "      <td>17</td>\n",
       "      <td>20003_1140861958-Treatmentmedication_code_simv...</td>\n",
       "      <td>LV120</td>\n",
       "      <td>lipids-increasing</td>\n",
       "      <td>False</td>\n",
       "      <td>0.011685</td>\n",
       "      <td>0.172618</td>\n",
       "      <td>0.345237</td>\n",
       "      <td>GLS Regression Res...</td>\n",
       "    </tr>\n",
       "    <tr>\n",
       "      <th>1</th>\n",
       "      <td>29</td>\n",
       "      <td>17</td>\n",
       "      <td>20003_1140861958-Treatmentmedication_code_simv...</td>\n",
       "      <td>LV122</td>\n",
       "      <td>lipids-increasing</td>\n",
       "      <td>False</td>\n",
       "      <td>-0.004370</td>\n",
       "      <td>0.638170</td>\n",
       "      <td>0.723659</td>\n",
       "      <td>GLS Regression Res...</td>\n",
       "    </tr>\n",
       "    <tr>\n",
       "      <th>2</th>\n",
       "      <td>29</td>\n",
       "      <td>17</td>\n",
       "      <td>20003_1140861958-Treatmentmedication_code_simv...</td>\n",
       "      <td>LV131</td>\n",
       "      <td>lipids-decreasing</td>\n",
       "      <td>False</td>\n",
       "      <td>-0.000511</td>\n",
       "      <td>0.516590</td>\n",
       "      <td>0.966819</td>\n",
       "      <td>GLS Regression Res...</td>\n",
       "    </tr>\n",
       "    <tr>\n",
       "      <th>3</th>\n",
       "      <td>29</td>\n",
       "      <td>17</td>\n",
       "      <td>20003_1140861958-Treatmentmedication_code_simv...</td>\n",
       "      <td>LV157</td>\n",
       "      <td>lipids-decreasing</td>\n",
       "      <td>False</td>\n",
       "      <td>0.010968</td>\n",
       "      <td>0.176044</td>\n",
       "      <td>0.352087</td>\n",
       "      <td>GLS Regression Res...</td>\n",
       "    </tr>\n",
       "    <tr>\n",
       "      <th>4</th>\n",
       "      <td>29</td>\n",
       "      <td>17</td>\n",
       "      <td>20003_1140861958-Treatmentmedication_code_simv...</td>\n",
       "      <td>LV199</td>\n",
       "      <td>lipids-decreasing</td>\n",
       "      <td>False</td>\n",
       "      <td>-0.009505</td>\n",
       "      <td>0.782400</td>\n",
       "      <td>0.435201</td>\n",
       "      <td>GLS Regression Res...</td>\n",
       "    </tr>\n",
       "  </tbody>\n",
       "</table>\n",
       "</div>"
      ],
      "text/plain": [
       "   part_k  cluster_id                                          phenotype  \\\n",
       "0      29          17  20003_1140861958-Treatmentmedication_code_simv...   \n",
       "1      29          17  20003_1140861958-Treatmentmedication_code_simv...   \n",
       "2      29          17  20003_1140861958-Treatmentmedication_code_simv...   \n",
       "3      29          17  20003_1140861958-Treatmentmedication_code_simv...   \n",
       "4      29          17  20003_1140861958-Treatmentmedication_code_simv...   \n",
       "\n",
       "      lv             lv_set  lv_with_pathway      coef    pvalue  \\\n",
       "0  LV120  lipids-increasing            False  0.011685  0.172618   \n",
       "1  LV122  lipids-increasing            False -0.004370  0.638170   \n",
       "2  LV131  lipids-decreasing            False -0.000511  0.516590   \n",
       "3  LV157  lipids-decreasing            False  0.010968  0.176044   \n",
       "4  LV199  lipids-decreasing            False -0.009505  0.782400   \n",
       "\n",
       "   pvalue_twosided                                            summary  \n",
       "0         0.345237                              GLS Regression Res...  \n",
       "1         0.723659                              GLS Regression Res...  \n",
       "2         0.966819                              GLS Regression Res...  \n",
       "3         0.352087                              GLS Regression Res...  \n",
       "4         0.435201                              GLS Regression Res...  "
      ]
     },
     "execution_count": 55,
     "metadata": {},
     "output_type": "execute_result"
    }
   ],
   "source": [
    "results.head()"
   ]
  },
  {
   "cell_type": "code",
   "execution_count": 56,
   "id": "swedish-closer",
   "metadata": {
    "execution": {
     "iopub.execute_input": "2021-07-14T21:50:23.609404Z",
     "iopub.status.busy": "2021-07-14T21:50:23.609045Z",
     "iopub.status.idle": "2021-07-14T21:50:23.660643Z",
     "shell.execute_reply": "2021-07-14T21:50:23.660974Z"
    },
    "papermill": {
     "duration": 0.752935,
     "end_time": "2021-07-14T21:50:23.661079",
     "exception": false,
     "start_time": "2021-07-14T21:50:22.908144",
     "status": "completed"
    },
    "tags": []
   },
   "outputs": [
    {
     "data": {
      "text/html": [
       "<div>\n",
       "<style scoped>\n",
       "    .dataframe tbody tr th:only-of-type {\n",
       "        vertical-align: middle;\n",
       "    }\n",
       "\n",
       "    .dataframe tbody tr th {\n",
       "        vertical-align: top;\n",
       "    }\n",
       "\n",
       "    .dataframe thead th {\n",
       "        text-align: right;\n",
       "    }\n",
       "</style>\n",
       "<table border=\"1\" class=\"dataframe\">\n",
       "  <thead>\n",
       "    <tr style=\"text-align: right;\">\n",
       "      <th></th>\n",
       "      <th>part_k</th>\n",
       "      <th>cluster_id</th>\n",
       "      <th>phenotype</th>\n",
       "      <th>lv</th>\n",
       "      <th>lv_set</th>\n",
       "      <th>lv_with_pathway</th>\n",
       "      <th>coef</th>\n",
       "      <th>pvalue</th>\n",
       "      <th>pvalue_twosided</th>\n",
       "      <th>summary</th>\n",
       "    </tr>\n",
       "  </thead>\n",
       "  <tbody>\n",
       "    <tr>\n",
       "      <th>1076</th>\n",
       "      <td>29</td>\n",
       "      <td>16</td>\n",
       "      <td>MAGNETIC_CH2.DB.ratio</td>\n",
       "      <td>LV246</td>\n",
       "      <td>lipids-increasing</td>\n",
       "      <td>True</td>\n",
       "      <td>0.095366</td>\n",
       "      <td>2.183932e-14</td>\n",
       "      <td>4.367864e-14</td>\n",
       "      <td>GLS Regression Res...</td>\n",
       "    </tr>\n",
       "    <tr>\n",
       "      <th>2100</th>\n",
       "      <td>29</td>\n",
       "      <td>21</td>\n",
       "      <td>schizophrenia</td>\n",
       "      <td>LV343</td>\n",
       "      <td>lipids-decreasing</td>\n",
       "      <td>False</td>\n",
       "      <td>0.070336</td>\n",
       "      <td>1.388092e-09</td>\n",
       "      <td>2.776184e-09</td>\n",
       "      <td>GLS Regression Res...</td>\n",
       "    </tr>\n",
       "    <tr>\n",
       "      <th>1841</th>\n",
       "      <td>29</td>\n",
       "      <td>17</td>\n",
       "      <td>hypercholesterolemia</td>\n",
       "      <td>LV246</td>\n",
       "      <td>lipids-increasing</td>\n",
       "      <td>True</td>\n",
       "      <td>0.066665</td>\n",
       "      <td>3.672563e-08</td>\n",
       "      <td>7.345126e-08</td>\n",
       "      <td>GLS Regression Res...</td>\n",
       "    </tr>\n",
       "    <tr>\n",
       "      <th>484</th>\n",
       "      <td>29</td>\n",
       "      <td>17</td>\n",
       "      <td>6153_2-Medication_for_cholesterol_blood_pressu...</td>\n",
       "      <td>LV515</td>\n",
       "      <td>lipids-increasing</td>\n",
       "      <td>False</td>\n",
       "      <td>0.058867</td>\n",
       "      <td>3.298919e-06</td>\n",
       "      <td>6.597838e-06</td>\n",
       "      <td>GLS Regression Res...</td>\n",
       "    </tr>\n",
       "    <tr>\n",
       "      <th>485</th>\n",
       "      <td>29</td>\n",
       "      <td>17</td>\n",
       "      <td>6153_2-Medication_for_cholesterol_blood_pressu...</td>\n",
       "      <td>LV515</td>\n",
       "      <td>lipids-decreasing</td>\n",
       "      <td>False</td>\n",
       "      <td>0.058867</td>\n",
       "      <td>3.298919e-06</td>\n",
       "      <td>6.597838e-06</td>\n",
       "      <td>GLS Regression Res...</td>\n",
       "    </tr>\n",
       "    <tr>\n",
       "      <th>1990</th>\n",
       "      <td>29</td>\n",
       "      <td>21</td>\n",
       "      <td>intracranial volume measurement</td>\n",
       "      <td>LV122</td>\n",
       "      <td>lipids-increasing</td>\n",
       "      <td>False</td>\n",
       "      <td>0.053315</td>\n",
       "      <td>7.984697e-06</td>\n",
       "      <td>1.596939e-05</td>\n",
       "      <td>GLS Regression Res...</td>\n",
       "    </tr>\n",
       "    <tr>\n",
       "      <th>77</th>\n",
       "      <td>29</td>\n",
       "      <td>17</td>\n",
       "      <td>20003_1141194794-Treatmentmedication_code_bend...</td>\n",
       "      <td>LV515</td>\n",
       "      <td>lipids-decreasing</td>\n",
       "      <td>False</td>\n",
       "      <td>0.055429</td>\n",
       "      <td>1.028495e-05</td>\n",
       "      <td>2.056990e-05</td>\n",
       "      <td>GLS Regression Res...</td>\n",
       "    </tr>\n",
       "    <tr>\n",
       "      <th>76</th>\n",
       "      <td>29</td>\n",
       "      <td>17</td>\n",
       "      <td>20003_1141194794-Treatmentmedication_code_bend...</td>\n",
       "      <td>LV515</td>\n",
       "      <td>lipids-increasing</td>\n",
       "      <td>False</td>\n",
       "      <td>0.055429</td>\n",
       "      <td>1.028495e-05</td>\n",
       "      <td>2.056990e-05</td>\n",
       "      <td>GLS Regression Res...</td>\n",
       "    </tr>\n",
       "    <tr>\n",
       "      <th>1127</th>\n",
       "      <td>29</td>\n",
       "      <td>16</td>\n",
       "      <td>MAGNETIC_HDL.C</td>\n",
       "      <td>LV246</td>\n",
       "      <td>lipids-increasing</td>\n",
       "      <td>True</td>\n",
       "      <td>0.050872</td>\n",
       "      <td>2.096086e-05</td>\n",
       "      <td>4.192172e-05</td>\n",
       "      <td>GLS Regression Res...</td>\n",
       "    </tr>\n",
       "    <tr>\n",
       "      <th>362</th>\n",
       "      <td>29</td>\n",
       "      <td>17</td>\n",
       "      <td>6153_1-Medication_for_cholesterol_blood_pressu...</td>\n",
       "      <td>LV246</td>\n",
       "      <td>lipids-increasing</td>\n",
       "      <td>True</td>\n",
       "      <td>0.050766</td>\n",
       "      <td>2.179410e-05</td>\n",
       "      <td>4.358819e-05</td>\n",
       "      <td>GLS Regression Res...</td>\n",
       "    </tr>\n",
       "  </tbody>\n",
       "</table>\n",
       "</div>"
      ],
      "text/plain": [
       "      part_k  cluster_id                                          phenotype  \\\n",
       "1076      29          16                              MAGNETIC_CH2.DB.ratio   \n",
       "2100      29          21                                      schizophrenia   \n",
       "1841      29          17                               hypercholesterolemia   \n",
       "484       29          17  6153_2-Medication_for_cholesterol_blood_pressu...   \n",
       "485       29          17  6153_2-Medication_for_cholesterol_blood_pressu...   \n",
       "1990      29          21                    intracranial volume measurement   \n",
       "77        29          17  20003_1141194794-Treatmentmedication_code_bend...   \n",
       "76        29          17  20003_1141194794-Treatmentmedication_code_bend...   \n",
       "1127      29          16                                     MAGNETIC_HDL.C   \n",
       "362       29          17  6153_1-Medication_for_cholesterol_blood_pressu...   \n",
       "\n",
       "         lv             lv_set  lv_with_pathway      coef        pvalue  \\\n",
       "1076  LV246  lipids-increasing             True  0.095366  2.183932e-14   \n",
       "2100  LV343  lipids-decreasing            False  0.070336  1.388092e-09   \n",
       "1841  LV246  lipids-increasing             True  0.066665  3.672563e-08   \n",
       "484   LV515  lipids-increasing            False  0.058867  3.298919e-06   \n",
       "485   LV515  lipids-decreasing            False  0.058867  3.298919e-06   \n",
       "1990  LV122  lipids-increasing            False  0.053315  7.984697e-06   \n",
       "77    LV515  lipids-decreasing            False  0.055429  1.028495e-05   \n",
       "76    LV515  lipids-increasing            False  0.055429  1.028495e-05   \n",
       "1127  LV246  lipids-increasing             True  0.050872  2.096086e-05   \n",
       "362   LV246  lipids-increasing             True  0.050766  2.179410e-05   \n",
       "\n",
       "      pvalue_twosided                                            summary  \n",
       "1076     4.367864e-14                              GLS Regression Res...  \n",
       "2100     2.776184e-09                              GLS Regression Res...  \n",
       "1841     7.345126e-08                              GLS Regression Res...  \n",
       "484      6.597838e-06                              GLS Regression Res...  \n",
       "485      6.597838e-06                              GLS Regression Res...  \n",
       "1990     1.596939e-05                              GLS Regression Res...  \n",
       "77       2.056990e-05                              GLS Regression Res...  \n",
       "76       2.056990e-05                              GLS Regression Res...  \n",
       "1127     4.192172e-05                              GLS Regression Res...  \n",
       "362      4.358819e-05                              GLS Regression Res...  "
      ]
     },
     "execution_count": 56,
     "metadata": {},
     "output_type": "execute_result"
    }
   ],
   "source": [
    "results.sort_values(\"pvalue\").head(10)"
   ]
  },
  {
   "cell_type": "markdown",
   "id": "pending-chemical",
   "metadata": {
    "papermill": {
     "duration": 0.727346,
     "end_time": "2021-07-14T21:50:25.090867",
     "exception": false,
     "start_time": "2021-07-14T21:50:24.363521",
     "status": "completed"
    },
    "tags": []
   },
   "source": [
    "## Save"
   ]
  },
  {
   "cell_type": "code",
   "execution_count": 57,
   "id": "consolidated-metro",
   "metadata": {
    "execution": {
     "iopub.execute_input": "2021-07-14T21:50:26.530415Z",
     "iopub.status.busy": "2021-07-14T21:50:26.530025Z",
     "iopub.status.idle": "2021-07-14T21:50:27.057416Z",
     "shell.execute_reply": "2021-07-14T21:50:27.055843Z"
    },
    "papermill": {
     "duration": 1.249789,
     "end_time": "2021-07-14T21:50:27.057745",
     "exception": false,
     "start_time": "2021-07-14T21:50:25.807956",
     "status": "completed"
    },
    "tags": []
   },
   "outputs": [],
   "source": [
    "results.to_pickle(OUTPUT_FILENAME)"
   ]
  },
  {
   "cell_type": "code",
   "execution_count": null,
   "id": "green-strategy",
   "metadata": {
    "papermill": {
     "duration": 0.710808,
     "end_time": "2021-07-14T21:50:28.481244",
     "exception": false,
     "start_time": "2021-07-14T21:50:27.770436",
     "status": "completed"
    },
    "tags": []
   },
   "outputs": [],
   "source": []
  }
 ],
 "metadata": {
  "jupytext": {
   "cell_metadata_filter": "all,-execution,-papermill,-trusted",
   "formats": "ipynb,py//py:percent"
  },
  "kernelspec": {
   "display_name": "Python 3",
   "language": "python",
   "name": "python3"
  },
  "language_info": {
   "codemirror_mode": {
    "name": "ipython",
    "version": 3
   },
   "file_extension": ".py",
   "mimetype": "text/x-python",
   "name": "python",
   "nbconvert_exporter": "python",
   "pygments_lexer": "ipython3",
   "version": "3.8.8"
  },
  "papermill": {
   "default_parameters": {},
   "duration": 20511.404848,
   "end_time": "2021-07-14T21:50:30.514328",
   "environment_variables": {},
   "exception": null,
   "input_path": "08_gsa_gls/40-gls_on_lipids_lvs-phenomexcan.ipynb",
   "output_path": "08_gsa_gls/40-gls_on_lipids_lvs-phenomexcan.run.ipynb",
   "parameters": {},
   "start_time": "2021-07-14T16:08:39.109480",
   "version": "2.2.2"
  }
 },
 "nbformat": 4,
 "nbformat_minor": 5
}
