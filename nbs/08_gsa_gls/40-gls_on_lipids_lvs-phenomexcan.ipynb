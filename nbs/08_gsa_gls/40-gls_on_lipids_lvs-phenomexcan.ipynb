{
 "cells": [
  {
   "cell_type": "markdown",
   "id": "demonstrated-guinea",
   "metadata": {
    "papermill": {
     "duration": 0.022374,
     "end_time": "2021-03-10T00:10:54.143712",
     "exception": false,
     "start_time": "2021-03-10T00:10:54.121338",
     "status": "completed"
    },
    "tags": []
   },
   "source": [
    "# Description"
   ]
  },
  {
   "cell_type": "markdown",
   "id": "chief-parcel",
   "metadata": {
    "papermill": {
     "duration": 0.022374,
     "end_time": "2021-03-10T00:10:54.143712",
     "exception": false,
     "start_time": "2021-03-10T00:10:54.121338",
     "status": "completed"
    },
    "tags": []
   },
   "source": [
    "This notebook is similar to `30` and `35`, but here I use the LVs that we found to be significantly enriched for the lipids CRISPR analysis, which might or might not coincide with the previously used LVs (those that discriminate clusters).\n",
    "The traits here are from PhenomeXcan."
   ]
  },
  {
   "cell_type": "markdown",
   "id": "professional-retirement",
   "metadata": {
    "papermill": {
     "duration": 0.059413,
     "end_time": "2021-05-17T04:44:50.618128",
     "exception": false,
     "start_time": "2021-05-17T04:44:50.558715",
     "status": "completed"
    },
    "tags": []
   },
   "source": [
    "# Environment variables"
   ]
  },
  {
   "cell_type": "code",
   "execution_count": 1,
   "id": "reported-webcam",
   "metadata": {
    "execution": {
     "iopub.execute_input": "2021-05-17T04:44:50.667538Z",
     "iopub.status.busy": "2021-05-17T04:44:50.667171Z",
     "iopub.status.idle": "2021-05-17T04:44:50.674890Z",
     "shell.execute_reply": "2021-05-17T04:44:50.674421Z"
    },
    "papermill": {
     "duration": 0.034648,
     "end_time": "2021-05-17T04:44:50.674980",
     "exception": false,
     "start_time": "2021-05-17T04:44:50.640332",
     "status": "completed"
    },
    "tags": []
   },
   "outputs": [],
   "source": [
    "%load_ext autoreload\n",
    "%autoreload 2"
   ]
  },
  {
   "cell_type": "code",
   "execution_count": 2,
   "id": "thirty-dynamics",
   "metadata": {
    "execution": {
     "iopub.execute_input": "2021-05-17T04:44:50.722743Z",
     "iopub.status.busy": "2021-05-17T04:44:50.722386Z",
     "iopub.status.idle": "2021-05-17T04:44:50.732104Z",
     "shell.execute_reply": "2021-05-17T04:44:50.731729Z"
    },
    "papermill": {
     "duration": 0.034397,
     "end_time": "2021-05-17T04:44:50.732186",
     "exception": false,
     "start_time": "2021-05-17T04:44:50.697789",
     "status": "completed"
    },
    "tags": []
   },
   "outputs": [],
   "source": [
    "import conf"
   ]
  },
  {
   "cell_type": "code",
   "execution_count": 3,
   "id": "smart-tunnel",
   "metadata": {
    "execution": {
     "iopub.execute_input": "2021-05-17T04:44:50.780228Z",
     "iopub.status.busy": "2021-05-17T04:44:50.779865Z",
     "iopub.status.idle": "2021-05-17T04:44:50.789694Z",
     "shell.execute_reply": "2021-05-17T04:44:50.790011Z"
    },
    "papermill": {
     "duration": 0.034801,
     "end_time": "2021-05-17T04:44:50.790113",
     "exception": false,
     "start_time": "2021-05-17T04:44:50.755312",
     "status": "completed"
    },
    "tags": []
   },
   "outputs": [
    {
     "data": {
      "text/plain": [
       "3"
      ]
     },
     "metadata": {},
     "output_type": "display_data"
    }
   ],
   "source": [
    "N_JOBS = conf.GENERAL[\"N_JOBS\"]\n",
    "display(N_JOBS)"
   ]
  },
  {
   "cell_type": "code",
   "execution_count": 4,
   "id": "educated-needle",
   "metadata": {
    "execution": {
     "iopub.execute_input": "2021-05-17T04:44:50.839890Z",
     "iopub.status.busy": "2021-05-17T04:44:50.839531Z",
     "iopub.status.idle": "2021-05-17T04:44:50.846193Z",
     "shell.execute_reply": "2021-05-17T04:44:50.845903Z"
    },
    "papermill": {
     "duration": 0.032424,
     "end_time": "2021-05-17T04:44:50.846274",
     "exception": false,
     "start_time": "2021-05-17T04:44:50.813850",
     "status": "completed"
    },
    "tags": []
   },
   "outputs": [
    {
     "name": "stdout",
     "output_type": "stream",
     "text": [
      "env: MKL_NUM_THREADS=3\n",
      "env: OPEN_BLAS_NUM_THREADS=3\n",
      "env: NUMEXPR_NUM_THREADS=3\n",
      "env: OMP_NUM_THREADS=3\n"
     ]
    }
   ],
   "source": [
    "%env MKL_NUM_THREADS=$N_JOBS\n",
    "%env OPEN_BLAS_NUM_THREADS=$N_JOBS\n",
    "%env NUMEXPR_NUM_THREADS=$N_JOBS\n",
    "%env OMP_NUM_THREADS=$N_JOBS"
   ]
  },
  {
   "cell_type": "markdown",
   "id": "primary-animal",
   "metadata": {
    "papermill": {
     "duration": 0.022925,
     "end_time": "2021-05-17T04:44:50.891796",
     "exception": false,
     "start_time": "2021-05-17T04:44:50.868871",
     "status": "completed"
    },
    "tags": []
   },
   "source": [
    "# Modules"
   ]
  },
  {
   "cell_type": "code",
   "execution_count": 5,
   "id": "upper-panic",
   "metadata": {
    "execution": {
     "iopub.execute_input": "2021-05-17T04:44:50.939191Z",
     "iopub.status.busy": "2021-05-17T04:44:50.938799Z",
     "iopub.status.idle": "2021-05-17T04:44:51.704450Z",
     "shell.execute_reply": "2021-05-17T04:44:51.704010Z"
    },
    "papermill": {
     "duration": 0.790363,
     "end_time": "2021-05-17T04:44:51.704546",
     "exception": false,
     "start_time": "2021-05-17T04:44:50.914183",
     "status": "completed"
    },
    "tags": []
   },
   "outputs": [],
   "source": [
    "from pathlib import Path\n",
    "\n",
    "import pandas as pd\n",
    "from tqdm import tqdm\n",
    "\n",
    "from gls import GLSPhenoplier"
   ]
  },
  {
   "cell_type": "markdown",
   "id": "understood-harvey",
   "metadata": {
    "papermill": {
     "duration": 0.022718,
     "end_time": "2021-05-17T04:44:51.752360",
     "exception": false,
     "start_time": "2021-05-17T04:44:51.729642",
     "status": "completed"
    },
    "tags": []
   },
   "source": [
    "# Settings"
   ]
  },
  {
   "cell_type": "code",
   "execution_count": 6,
   "id": "tracked-delicious",
   "metadata": {
    "execution": {
     "iopub.execute_input": "2021-05-17T04:44:51.800524Z",
     "iopub.status.busy": "2021-05-17T04:44:51.800155Z",
     "iopub.status.idle": "2021-05-17T04:44:51.811847Z",
     "shell.execute_reply": "2021-05-17T04:44:51.811483Z"
    },
    "papermill": {
     "duration": 0.037429,
     "end_time": "2021-05-17T04:44:51.811929",
     "exception": false,
     "start_time": "2021-05-17T04:44:51.774500",
     "status": "completed"
    },
    "tags": []
   },
   "outputs": [
    {
     "data": {
      "text/plain": [
       "PosixPath('/home/miltondp/projects/labs/greenelab/phenoplier/base/results/gls')"
      ]
     },
     "metadata": {},
     "output_type": "display_data"
    }
   ],
   "source": [
    "OUTPUT_DIR = conf.RESULTS[\"GLS\"]\n",
    "display(OUTPUT_DIR)\n",
    "\n",
    "OUTPUT_DIR.mkdir(exist_ok=True, parents=True)"
   ]
  },
  {
   "cell_type": "markdown",
   "id": "immune-lemon",
   "metadata": {
    "papermill": {
     "duration": 0.022797,
     "end_time": "2021-05-17T04:44:51.858596",
     "exception": false,
     "start_time": "2021-05-17T04:44:51.835799",
     "status": "completed"
    },
    "tags": []
   },
   "source": [
    "# Load data"
   ]
  },
  {
   "cell_type": "markdown",
   "id": "concerned-glass",
   "metadata": {
    "papermill": {
     "duration": 0.022588,
     "end_time": "2021-05-17T04:44:51.904209",
     "exception": false,
     "start_time": "2021-05-17T04:44:51.881621",
     "status": "completed"
    },
    "tags": []
   },
   "source": [
    "## PhenomeXcan (S-MultiXcan)"
   ]
  },
  {
   "cell_type": "code",
   "execution_count": 7,
   "id": "close-sequence",
   "metadata": {
    "execution": {
     "iopub.execute_input": "2021-05-17T04:44:51.953310Z",
     "iopub.status.busy": "2021-05-17T04:44:51.952939Z",
     "iopub.status.idle": "2021-05-17T04:44:51.964049Z",
     "shell.execute_reply": "2021-05-17T04:44:51.963729Z"
    },
    "papermill": {
     "duration": 0.036468,
     "end_time": "2021-05-17T04:44:51.964138",
     "exception": false,
     "start_time": "2021-05-17T04:44:51.927670",
     "status": "completed"
    },
    "tags": []
   },
   "outputs": [],
   "source": [
    "INPUT_SUBSET = \"z_score_std\""
   ]
  },
  {
   "cell_type": "code",
   "execution_count": 8,
   "id": "supported-brain",
   "metadata": {
    "execution": {
     "iopub.execute_input": "2021-05-17T04:44:52.013510Z",
     "iopub.status.busy": "2021-05-17T04:44:52.013143Z",
     "iopub.status.idle": "2021-05-17T04:44:52.023665Z",
     "shell.execute_reply": "2021-05-17T04:44:52.023345Z"
    },
    "papermill": {
     "duration": 0.035609,
     "end_time": "2021-05-17T04:44:52.023748",
     "exception": false,
     "start_time": "2021-05-17T04:44:51.988139",
     "status": "completed"
    },
    "tags": []
   },
   "outputs": [],
   "source": [
    "INPUT_STEM = \"projection-smultixcan-efo_partial-mashr-zscores\""
   ]
  },
  {
   "cell_type": "code",
   "execution_count": 9,
   "id": "electric-classroom",
   "metadata": {
    "execution": {
     "iopub.execute_input": "2021-05-17T04:44:52.072626Z",
     "iopub.status.busy": "2021-05-17T04:44:52.072269Z",
     "iopub.status.idle": "2021-05-17T04:44:52.082585Z",
     "shell.execute_reply": "2021-05-17T04:44:52.082885Z"
    },
    "papermill": {
     "duration": 0.035841,
     "end_time": "2021-05-17T04:44:52.082984",
     "exception": false,
     "start_time": "2021-05-17T04:44:52.047143",
     "status": "completed"
    },
    "tags": []
   },
   "outputs": [],
   "source": [
    "input_filepath = Path(\n",
    "    conf.RESULTS[\"DATA_TRANSFORMATIONS_DIR\"],\n",
    "    INPUT_SUBSET,\n",
    "    f\"{INPUT_SUBSET}-{INPUT_STEM}.pkl\",\n",
    ").resolve()"
   ]
  },
  {
   "cell_type": "code",
   "execution_count": 10,
   "id": "weird-olive",
   "metadata": {
    "execution": {
     "iopub.execute_input": "2021-05-17T04:44:52.131360Z",
     "iopub.status.busy": "2021-05-17T04:44:52.131006Z",
     "iopub.status.idle": "2021-05-17T04:44:52.154559Z",
     "shell.execute_reply": "2021-05-17T04:44:52.154131Z"
    },
    "papermill": {
     "duration": 0.048267,
     "end_time": "2021-05-17T04:44:52.154653",
     "exception": false,
     "start_time": "2021-05-17T04:44:52.106386",
     "status": "completed"
    },
    "tags": []
   },
   "outputs": [],
   "source": [
    "data = pd.read_pickle(input_filepath)"
   ]
  },
  {
   "cell_type": "code",
   "execution_count": 11,
   "id": "listed-retailer",
   "metadata": {
    "execution": {
     "iopub.execute_input": "2021-05-17T04:44:52.208065Z",
     "iopub.status.busy": "2021-05-17T04:44:52.207712Z",
     "iopub.status.idle": "2021-05-17T04:44:52.218793Z",
     "shell.execute_reply": "2021-05-17T04:44:52.218407Z"
    },
    "papermill": {
     "duration": 0.037296,
     "end_time": "2021-05-17T04:44:52.218889",
     "exception": false,
     "start_time": "2021-05-17T04:44:52.181593",
     "status": "completed"
    },
    "tags": []
   },
   "outputs": [
    {
     "data": {
      "text/plain": [
       "(3752, 987)"
      ]
     },
     "execution_count": 11,
     "metadata": {},
     "output_type": "execute_result"
    }
   ],
   "source": [
    "data.shape"
   ]
  },
  {
   "cell_type": "code",
   "execution_count": 12,
   "id": "engaged-graphics",
   "metadata": {
    "execution": {
     "iopub.execute_input": "2021-05-17T04:44:52.270312Z",
     "iopub.status.busy": "2021-05-17T04:44:52.269960Z",
     "iopub.status.idle": "2021-05-17T04:44:52.294513Z",
     "shell.execute_reply": "2021-05-17T04:44:52.293822Z"
    },
    "papermill": {
     "duration": 0.050423,
     "end_time": "2021-05-17T04:44:52.294599",
     "exception": false,
     "start_time": "2021-05-17T04:44:52.244176",
     "status": "completed"
    },
    "tags": []
   },
   "outputs": [
    {
     "data": {
      "text/html": [
       "<div>\n",
       "<style scoped>\n",
       "    .dataframe tbody tr th:only-of-type {\n",
       "        vertical-align: middle;\n",
       "    }\n",
       "\n",
       "    .dataframe tbody tr th {\n",
       "        vertical-align: top;\n",
       "    }\n",
       "\n",
       "    .dataframe thead th {\n",
       "        text-align: right;\n",
       "    }\n",
       "</style>\n",
       "<table border=\"1\" class=\"dataframe\">\n",
       "  <thead>\n",
       "    <tr style=\"text-align: right;\">\n",
       "      <th></th>\n",
       "      <th>LV1</th>\n",
       "      <th>LV2</th>\n",
       "      <th>LV3</th>\n",
       "      <th>LV4</th>\n",
       "      <th>LV5</th>\n",
       "      <th>LV6</th>\n",
       "      <th>LV7</th>\n",
       "      <th>LV8</th>\n",
       "      <th>LV9</th>\n",
       "      <th>LV10</th>\n",
       "      <th>...</th>\n",
       "      <th>LV978</th>\n",
       "      <th>LV979</th>\n",
       "      <th>LV980</th>\n",
       "      <th>LV981</th>\n",
       "      <th>LV982</th>\n",
       "      <th>LV983</th>\n",
       "      <th>LV984</th>\n",
       "      <th>LV985</th>\n",
       "      <th>LV986</th>\n",
       "      <th>LV987</th>\n",
       "    </tr>\n",
       "  </thead>\n",
       "  <tbody>\n",
       "    <tr>\n",
       "      <th>100001_raw-Food_weight</th>\n",
       "      <td>-0.695006</td>\n",
       "      <td>1.962565</td>\n",
       "      <td>0.057683</td>\n",
       "      <td>0.878731</td>\n",
       "      <td>-0.539977</td>\n",
       "      <td>1.481272</td>\n",
       "      <td>-0.396422</td>\n",
       "      <td>1.090180</td>\n",
       "      <td>0.759223</td>\n",
       "      <td>0.931395</td>\n",
       "      <td>...</td>\n",
       "      <td>1.129784</td>\n",
       "      <td>1.752343</td>\n",
       "      <td>-1.411403</td>\n",
       "      <td>2.823863</td>\n",
       "      <td>0.931116</td>\n",
       "      <td>-1.054519</td>\n",
       "      <td>0.432982</td>\n",
       "      <td>-0.633597</td>\n",
       "      <td>0.554279</td>\n",
       "      <td>-0.642479</td>\n",
       "    </tr>\n",
       "    <tr>\n",
       "      <th>100002_raw-Energy</th>\n",
       "      <td>-1.528127</td>\n",
       "      <td>-0.345309</td>\n",
       "      <td>-0.148953</td>\n",
       "      <td>-0.242060</td>\n",
       "      <td>0.373427</td>\n",
       "      <td>0.791092</td>\n",
       "      <td>0.263477</td>\n",
       "      <td>0.987702</td>\n",
       "      <td>0.354391</td>\n",
       "      <td>1.416059</td>\n",
       "      <td>...</td>\n",
       "      <td>0.224604</td>\n",
       "      <td>0.769882</td>\n",
       "      <td>-0.509482</td>\n",
       "      <td>0.091153</td>\n",
       "      <td>2.286789</td>\n",
       "      <td>-1.008256</td>\n",
       "      <td>-0.029764</td>\n",
       "      <td>1.737229</td>\n",
       "      <td>-0.272107</td>\n",
       "      <td>-0.526125</td>\n",
       "    </tr>\n",
       "    <tr>\n",
       "      <th>100003_raw-Protein</th>\n",
       "      <td>-0.704572</td>\n",
       "      <td>-1.011299</td>\n",
       "      <td>0.671420</td>\n",
       "      <td>0.143991</td>\n",
       "      <td>0.615212</td>\n",
       "      <td>0.874212</td>\n",
       "      <td>-0.040998</td>\n",
       "      <td>0.915170</td>\n",
       "      <td>0.254369</td>\n",
       "      <td>-0.084237</td>\n",
       "      <td>...</td>\n",
       "      <td>1.003019</td>\n",
       "      <td>1.044314</td>\n",
       "      <td>-2.376108</td>\n",
       "      <td>0.004778</td>\n",
       "      <td>0.053714</td>\n",
       "      <td>-0.892447</td>\n",
       "      <td>-0.183800</td>\n",
       "      <td>1.377991</td>\n",
       "      <td>-0.278794</td>\n",
       "      <td>-0.419733</td>\n",
       "    </tr>\n",
       "    <tr>\n",
       "      <th>100004_raw-Fat</th>\n",
       "      <td>-0.989832</td>\n",
       "      <td>-1.875490</td>\n",
       "      <td>0.261555</td>\n",
       "      <td>-1.420719</td>\n",
       "      <td>0.366238</td>\n",
       "      <td>1.167049</td>\n",
       "      <td>0.257387</td>\n",
       "      <td>0.717674</td>\n",
       "      <td>-0.997664</td>\n",
       "      <td>0.969825</td>\n",
       "      <td>...</td>\n",
       "      <td>0.585913</td>\n",
       "      <td>0.638314</td>\n",
       "      <td>0.119139</td>\n",
       "      <td>-0.140204</td>\n",
       "      <td>1.394326</td>\n",
       "      <td>-1.173402</td>\n",
       "      <td>0.555058</td>\n",
       "      <td>1.013982</td>\n",
       "      <td>-0.544506</td>\n",
       "      <td>-0.064061</td>\n",
       "    </tr>\n",
       "    <tr>\n",
       "      <th>100005_raw-Carbohydrate</th>\n",
       "      <td>-0.580143</td>\n",
       "      <td>0.243335</td>\n",
       "      <td>0.158966</td>\n",
       "      <td>-0.036558</td>\n",
       "      <td>0.068176</td>\n",
       "      <td>-0.202639</td>\n",
       "      <td>1.101281</td>\n",
       "      <td>0.675227</td>\n",
       "      <td>1.463432</td>\n",
       "      <td>1.010078</td>\n",
       "      <td>...</td>\n",
       "      <td>-0.249108</td>\n",
       "      <td>-0.026814</td>\n",
       "      <td>0.232713</td>\n",
       "      <td>0.323682</td>\n",
       "      <td>1.168642</td>\n",
       "      <td>-0.282935</td>\n",
       "      <td>0.653105</td>\n",
       "      <td>1.909526</td>\n",
       "      <td>0.199997</td>\n",
       "      <td>-1.656894</td>\n",
       "    </tr>\n",
       "  </tbody>\n",
       "</table>\n",
       "<p>5 rows × 987 columns</p>\n",
       "</div>"
      ],
      "text/plain": [
       "                              LV1       LV2       LV3       LV4       LV5  \\\n",
       "100001_raw-Food_weight  -0.695006  1.962565  0.057683  0.878731 -0.539977   \n",
       "100002_raw-Energy       -1.528127 -0.345309 -0.148953 -0.242060  0.373427   \n",
       "100003_raw-Protein      -0.704572 -1.011299  0.671420  0.143991  0.615212   \n",
       "100004_raw-Fat          -0.989832 -1.875490  0.261555 -1.420719  0.366238   \n",
       "100005_raw-Carbohydrate -0.580143  0.243335  0.158966 -0.036558  0.068176   \n",
       "\n",
       "                              LV6       LV7       LV8       LV9      LV10  \\\n",
       "100001_raw-Food_weight   1.481272 -0.396422  1.090180  0.759223  0.931395   \n",
       "100002_raw-Energy        0.791092  0.263477  0.987702  0.354391  1.416059   \n",
       "100003_raw-Protein       0.874212 -0.040998  0.915170  0.254369 -0.084237   \n",
       "100004_raw-Fat           1.167049  0.257387  0.717674 -0.997664  0.969825   \n",
       "100005_raw-Carbohydrate -0.202639  1.101281  0.675227  1.463432  1.010078   \n",
       "\n",
       "                         ...     LV978     LV979     LV980     LV981  \\\n",
       "100001_raw-Food_weight   ...  1.129784  1.752343 -1.411403  2.823863   \n",
       "100002_raw-Energy        ...  0.224604  0.769882 -0.509482  0.091153   \n",
       "100003_raw-Protein       ...  1.003019  1.044314 -2.376108  0.004778   \n",
       "100004_raw-Fat           ...  0.585913  0.638314  0.119139 -0.140204   \n",
       "100005_raw-Carbohydrate  ... -0.249108 -0.026814  0.232713  0.323682   \n",
       "\n",
       "                            LV982     LV983     LV984     LV985     LV986  \\\n",
       "100001_raw-Food_weight   0.931116 -1.054519  0.432982 -0.633597  0.554279   \n",
       "100002_raw-Energy        2.286789 -1.008256 -0.029764  1.737229 -0.272107   \n",
       "100003_raw-Protein       0.053714 -0.892447 -0.183800  1.377991 -0.278794   \n",
       "100004_raw-Fat           1.394326 -1.173402  0.555058  1.013982 -0.544506   \n",
       "100005_raw-Carbohydrate  1.168642 -0.282935  0.653105  1.909526  0.199997   \n",
       "\n",
       "                            LV987  \n",
       "100001_raw-Food_weight  -0.642479  \n",
       "100002_raw-Energy       -0.526125  \n",
       "100003_raw-Protein      -0.419733  \n",
       "100004_raw-Fat          -0.064061  \n",
       "100005_raw-Carbohydrate -1.656894  \n",
       "\n",
       "[5 rows x 987 columns]"
      ]
     },
     "execution_count": 12,
     "metadata": {},
     "output_type": "execute_result"
    }
   ],
   "source": [
    "data.head()"
   ]
  },
  {
   "cell_type": "markdown",
   "id": "quantitative-mechanics",
   "metadata": {
    "papermill": {
     "duration": 0.024451,
     "end_time": "2021-05-17T04:44:52.343680",
     "exception": false,
     "start_time": "2021-05-17T04:44:52.319229",
     "status": "completed"
    },
    "tags": []
   },
   "source": [
    "## Clustering results"
   ]
  },
  {
   "cell_type": "code",
   "execution_count": 13,
   "id": "respiratory-northern",
   "metadata": {
    "execution": {
     "iopub.execute_input": "2021-05-17T04:44:52.393498Z",
     "iopub.status.busy": "2021-05-17T04:44:52.393136Z",
     "iopub.status.idle": "2021-05-17T04:44:52.405273Z",
     "shell.execute_reply": "2021-05-17T04:44:52.404901Z"
    },
    "papermill": {
     "duration": 0.038401,
     "end_time": "2021-05-17T04:44:52.405356",
     "exception": false,
     "start_time": "2021-05-17T04:44:52.366955",
     "status": "completed"
    },
    "tags": []
   },
   "outputs": [
    {
     "data": {
      "text/plain": [
       "PosixPath('/home/miltondp/projects/labs/greenelab/phenoplier/base/results/clustering/consensus_clustering')"
      ]
     },
     "metadata": {},
     "output_type": "display_data"
    }
   ],
   "source": [
    "CONSENSUS_CLUSTERING_DIR = Path(\n",
    "    conf.RESULTS[\"CLUSTERING_DIR\"], \"consensus_clustering\"\n",
    ").resolve()\n",
    "\n",
    "display(CONSENSUS_CLUSTERING_DIR)"
   ]
  },
  {
   "cell_type": "code",
   "execution_count": 14,
   "id": "informed-least",
   "metadata": {
    "execution": {
     "iopub.execute_input": "2021-05-17T04:44:52.457463Z",
     "iopub.status.busy": "2021-05-17T04:44:52.457058Z",
     "iopub.status.idle": "2021-05-17T04:44:52.468951Z",
     "shell.execute_reply": "2021-05-17T04:44:52.468512Z"
    },
    "papermill": {
     "duration": 0.038684,
     "end_time": "2021-05-17T04:44:52.469033",
     "exception": false,
     "start_time": "2021-05-17T04:44:52.430349",
     "status": "completed"
    },
    "tags": []
   },
   "outputs": [
    {
     "data": {
      "text/plain": [
       "PosixPath('/home/miltondp/projects/labs/greenelab/phenoplier/base/results/clustering/consensus_clustering/best_partitions_by_k.pkl')"
      ]
     },
     "metadata": {},
     "output_type": "display_data"
    }
   ],
   "source": [
    "input_file = Path(CONSENSUS_CLUSTERING_DIR, \"best_partitions_by_k.pkl\").resolve()\n",
    "display(input_file)"
   ]
  },
  {
   "cell_type": "code",
   "execution_count": 15,
   "id": "atomic-biology",
   "metadata": {
    "execution": {
     "iopub.execute_input": "2021-05-17T04:44:52.520873Z",
     "iopub.status.busy": "2021-05-17T04:44:52.520500Z",
     "iopub.status.idle": "2021-05-17T04:44:52.532475Z",
     "shell.execute_reply": "2021-05-17T04:44:52.532106Z"
    },
    "papermill": {
     "duration": 0.038627,
     "end_time": "2021-05-17T04:44:52.532558",
     "exception": false,
     "start_time": "2021-05-17T04:44:52.493931",
     "status": "completed"
    },
    "tags": []
   },
   "outputs": [],
   "source": [
    "best_partitions = pd.read_pickle(input_file)"
   ]
  },
  {
   "cell_type": "code",
   "execution_count": 16,
   "id": "surgical-penguin",
   "metadata": {
    "execution": {
     "iopub.execute_input": "2021-05-17T04:44:52.589718Z",
     "iopub.status.busy": "2021-05-17T04:44:52.589307Z",
     "iopub.status.idle": "2021-05-17T04:44:52.601727Z",
     "shell.execute_reply": "2021-05-17T04:44:52.601314Z"
    },
    "papermill": {
     "duration": 0.043614,
     "end_time": "2021-05-17T04:44:52.601818",
     "exception": false,
     "start_time": "2021-05-17T04:44:52.558204",
     "status": "completed"
    },
    "tags": []
   },
   "outputs": [
    {
     "data": {
      "text/plain": [
       "(59, 4)"
      ]
     },
     "execution_count": 16,
     "metadata": {},
     "output_type": "execute_result"
    }
   ],
   "source": [
    "best_partitions.shape"
   ]
  },
  {
   "cell_type": "code",
   "execution_count": 17,
   "id": "warming-assembly",
   "metadata": {
    "execution": {
     "iopub.execute_input": "2021-05-17T04:44:52.656607Z",
     "iopub.status.busy": "2021-05-17T04:44:52.656254Z",
     "iopub.status.idle": "2021-05-17T04:44:52.675421Z",
     "shell.execute_reply": "2021-05-17T04:44:52.675724Z"
    },
    "papermill": {
     "duration": 0.046673,
     "end_time": "2021-05-17T04:44:52.675826",
     "exception": false,
     "start_time": "2021-05-17T04:44:52.629153",
     "status": "completed"
    },
    "tags": []
   },
   "outputs": [
    {
     "data": {
      "text/html": [
       "<div>\n",
       "<style scoped>\n",
       "    .dataframe tbody tr th:only-of-type {\n",
       "        vertical-align: middle;\n",
       "    }\n",
       "\n",
       "    .dataframe tbody tr th {\n",
       "        vertical-align: top;\n",
       "    }\n",
       "\n",
       "    .dataframe thead th {\n",
       "        text-align: right;\n",
       "    }\n",
       "</style>\n",
       "<table border=\"1\" class=\"dataframe\">\n",
       "  <thead>\n",
       "    <tr style=\"text-align: right;\">\n",
       "      <th></th>\n",
       "      <th>method</th>\n",
       "      <th>partition</th>\n",
       "      <th>ari_median</th>\n",
       "      <th>selected</th>\n",
       "    </tr>\n",
       "    <tr>\n",
       "      <th>k</th>\n",
       "      <th></th>\n",
       "      <th></th>\n",
       "      <th></th>\n",
       "      <th></th>\n",
       "    </tr>\n",
       "  </thead>\n",
       "  <tbody>\n",
       "    <tr>\n",
       "      <th>14</th>\n",
       "      <td>scc_025</td>\n",
       "      <td>[0, 0, 0, 0, 0, 0, 0, 0, 0, 0, 0, 0, 0, 0, 0, ...</td>\n",
       "      <td>0.090117</td>\n",
       "      <td>True</td>\n",
       "    </tr>\n",
       "    <tr>\n",
       "      <th>22</th>\n",
       "      <td>scc_020</td>\n",
       "      <td>[13, 18, 18, 18, 18, 18, 18, 18, 18, 13, 18, 1...</td>\n",
       "      <td>0.090100</td>\n",
       "      <td>True</td>\n",
       "    </tr>\n",
       "    <tr>\n",
       "      <th>13</th>\n",
       "      <td>scc_025</td>\n",
       "      <td>[0, 0, 0, 0, 0, 0, 0, 0, 0, 0, 0, 0, 0, 0, 0, ...</td>\n",
       "      <td>0.089920</td>\n",
       "      <td>True</td>\n",
       "    </tr>\n",
       "    <tr>\n",
       "      <th>12</th>\n",
       "      <td>scc_025</td>\n",
       "      <td>[0, 0, 0, 0, 0, 0, 0, 0, 0, 0, 0, 0, 0, 0, 0, ...</td>\n",
       "      <td>0.089894</td>\n",
       "      <td>True</td>\n",
       "    </tr>\n",
       "    <tr>\n",
       "      <th>11</th>\n",
       "      <td>scc_025</td>\n",
       "      <td>[0, 0, 0, 0, 0, 0, 0, 0, 0, 0, 0, 0, 0, 0, 0, ...</td>\n",
       "      <td>0.089616</td>\n",
       "      <td>True</td>\n",
       "    </tr>\n",
       "  </tbody>\n",
       "</table>\n",
       "</div>"
      ],
      "text/plain": [
       "     method                                          partition  ari_median  \\\n",
       "k                                                                            \n",
       "14  scc_025  [0, 0, 0, 0, 0, 0, 0, 0, 0, 0, 0, 0, 0, 0, 0, ...    0.090117   \n",
       "22  scc_020  [13, 18, 18, 18, 18, 18, 18, 18, 18, 13, 18, 1...    0.090100   \n",
       "13  scc_025  [0, 0, 0, 0, 0, 0, 0, 0, 0, 0, 0, 0, 0, 0, 0, ...    0.089920   \n",
       "12  scc_025  [0, 0, 0, 0, 0, 0, 0, 0, 0, 0, 0, 0, 0, 0, 0, ...    0.089894   \n",
       "11  scc_025  [0, 0, 0, 0, 0, 0, 0, 0, 0, 0, 0, 0, 0, 0, 0, ...    0.089616   \n",
       "\n",
       "    selected  \n",
       "k             \n",
       "14      True  \n",
       "22      True  \n",
       "13      True  \n",
       "12      True  \n",
       "11      True  "
      ]
     },
     "execution_count": 17,
     "metadata": {},
     "output_type": "execute_result"
    }
   ],
   "source": [
    "best_partitions.head()"
   ]
  },
  {
   "cell_type": "markdown",
   "id": "average-style",
   "metadata": {
    "papermill": {
     "duration": 0.024561,
     "end_time": "2021-05-17T04:44:52.726235",
     "exception": false,
     "start_time": "2021-05-17T04:44:52.701674",
     "status": "completed"
    },
    "tags": []
   },
   "source": [
    "## MultiPLIER summary"
   ]
  },
  {
   "cell_type": "code",
   "execution_count": 18,
   "id": "massive-christmas",
   "metadata": {
    "execution": {
     "iopub.execute_input": "2021-05-17T04:44:52.778654Z",
     "iopub.status.busy": "2021-05-17T04:44:52.778271Z",
     "iopub.status.idle": "2021-05-17T04:44:52.790680Z",
     "shell.execute_reply": "2021-05-17T04:44:52.790296Z"
    },
    "papermill": {
     "duration": 0.039582,
     "end_time": "2021-05-17T04:44:52.790764",
     "exception": false,
     "start_time": "2021-05-17T04:44:52.751182",
     "status": "completed"
    },
    "tags": []
   },
   "outputs": [],
   "source": [
    "multiplier_model_summary = pd.read_pickle(conf.MULTIPLIER[\"MODEL_SUMMARY_FILE\"])"
   ]
  },
  {
   "cell_type": "code",
   "execution_count": 19,
   "id": "weird-wales",
   "metadata": {
    "execution": {
     "iopub.execute_input": "2021-05-17T04:44:52.845100Z",
     "iopub.status.busy": "2021-05-17T04:44:52.844680Z",
     "iopub.status.idle": "2021-05-17T04:44:52.856352Z",
     "shell.execute_reply": "2021-05-17T04:44:52.855984Z"
    },
    "papermill": {
     "duration": 0.039139,
     "end_time": "2021-05-17T04:44:52.856434",
     "exception": false,
     "start_time": "2021-05-17T04:44:52.817295",
     "status": "completed"
    },
    "tags": []
   },
   "outputs": [
    {
     "data": {
      "text/plain": [
       "(2157, 5)"
      ]
     },
     "execution_count": 19,
     "metadata": {},
     "output_type": "execute_result"
    }
   ],
   "source": [
    "multiplier_model_summary.shape"
   ]
  },
  {
   "cell_type": "code",
   "execution_count": 20,
   "id": "dirty-basket",
   "metadata": {
    "execution": {
     "iopub.execute_input": "2021-05-17T04:44:52.910307Z",
     "iopub.status.busy": "2021-05-17T04:44:52.909953Z",
     "iopub.status.idle": "2021-05-17T04:44:52.925265Z",
     "shell.execute_reply": "2021-05-17T04:44:52.924897Z"
    },
    "papermill": {
     "duration": 0.042971,
     "end_time": "2021-05-17T04:44:52.925350",
     "exception": false,
     "start_time": "2021-05-17T04:44:52.882379",
     "status": "completed"
    },
    "tags": []
   },
   "outputs": [
    {
     "data": {
      "text/html": [
       "<div>\n",
       "<style scoped>\n",
       "    .dataframe tbody tr th:only-of-type {\n",
       "        vertical-align: middle;\n",
       "    }\n",
       "\n",
       "    .dataframe tbody tr th {\n",
       "        vertical-align: top;\n",
       "    }\n",
       "\n",
       "    .dataframe thead th {\n",
       "        text-align: right;\n",
       "    }\n",
       "</style>\n",
       "<table border=\"1\" class=\"dataframe\">\n",
       "  <thead>\n",
       "    <tr style=\"text-align: right;\">\n",
       "      <th></th>\n",
       "      <th>pathway</th>\n",
       "      <th>LV index</th>\n",
       "      <th>AUC</th>\n",
       "      <th>p-value</th>\n",
       "      <th>FDR</th>\n",
       "    </tr>\n",
       "  </thead>\n",
       "  <tbody>\n",
       "    <tr>\n",
       "      <th>1</th>\n",
       "      <td>KEGG_LYSINE_DEGRADATION</td>\n",
       "      <td>1</td>\n",
       "      <td>0.388059</td>\n",
       "      <td>0.866078</td>\n",
       "      <td>0.956005</td>\n",
       "    </tr>\n",
       "    <tr>\n",
       "      <th>2</th>\n",
       "      <td>REACTOME_MRNA_SPLICING</td>\n",
       "      <td>1</td>\n",
       "      <td>0.733057</td>\n",
       "      <td>0.000048</td>\n",
       "      <td>0.000582</td>\n",
       "    </tr>\n",
       "    <tr>\n",
       "      <th>3</th>\n",
       "      <td>MIPS_NOP56P_ASSOCIATED_PRE_RRNA_COMPLEX</td>\n",
       "      <td>1</td>\n",
       "      <td>0.680555</td>\n",
       "      <td>0.001628</td>\n",
       "      <td>0.011366</td>\n",
       "    </tr>\n",
       "    <tr>\n",
       "      <th>4</th>\n",
       "      <td>KEGG_DNA_REPLICATION</td>\n",
       "      <td>1</td>\n",
       "      <td>0.549473</td>\n",
       "      <td>0.312155</td>\n",
       "      <td>0.539951</td>\n",
       "    </tr>\n",
       "    <tr>\n",
       "      <th>5</th>\n",
       "      <td>PID_MYC_ACTIVPATHWAY</td>\n",
       "      <td>1</td>\n",
       "      <td>0.639303</td>\n",
       "      <td>0.021702</td>\n",
       "      <td>0.083739</td>\n",
       "    </tr>\n",
       "  </tbody>\n",
       "</table>\n",
       "</div>"
      ],
      "text/plain": [
       "                                   pathway LV index       AUC   p-value  \\\n",
       "1                  KEGG_LYSINE_DEGRADATION        1  0.388059  0.866078   \n",
       "2                   REACTOME_MRNA_SPLICING        1  0.733057  0.000048   \n",
       "3  MIPS_NOP56P_ASSOCIATED_PRE_RRNA_COMPLEX        1  0.680555  0.001628   \n",
       "4                     KEGG_DNA_REPLICATION        1  0.549473  0.312155   \n",
       "5                     PID_MYC_ACTIVPATHWAY        1  0.639303  0.021702   \n",
       "\n",
       "        FDR  \n",
       "1  0.956005  \n",
       "2  0.000582  \n",
       "3  0.011366  \n",
       "4  0.539951  \n",
       "5  0.083739  "
      ]
     },
     "execution_count": 20,
     "metadata": {},
     "output_type": "execute_result"
    }
   ],
   "source": [
    "multiplier_model_summary.head()"
   ]
  },
  {
   "cell_type": "code",
   "execution_count": 21,
   "id": "sharing-thermal",
   "metadata": {
    "execution": {
     "iopub.execute_input": "2021-05-17T04:44:52.979540Z",
     "iopub.status.busy": "2021-05-17T04:44:52.979188Z",
     "iopub.status.idle": "2021-05-17T04:44:52.998677Z",
     "shell.execute_reply": "2021-05-17T04:44:52.998288Z"
    },
    "papermill": {
     "duration": 0.047732,
     "end_time": "2021-05-17T04:44:52.998765",
     "exception": false,
     "start_time": "2021-05-17T04:44:52.951033",
     "status": "completed"
    },
    "tags": []
   },
   "outputs": [
    {
     "data": {
      "text/plain": [
       "(469, 5)"
      ]
     },
     "metadata": {},
     "output_type": "display_data"
    },
    {
     "data": {
      "text/html": [
       "<div>\n",
       "<style scoped>\n",
       "    .dataframe tbody tr th:only-of-type {\n",
       "        vertical-align: middle;\n",
       "    }\n",
       "\n",
       "    .dataframe tbody tr th {\n",
       "        vertical-align: top;\n",
       "    }\n",
       "\n",
       "    .dataframe thead th {\n",
       "        text-align: right;\n",
       "    }\n",
       "</style>\n",
       "<table border=\"1\" class=\"dataframe\">\n",
       "  <thead>\n",
       "    <tr style=\"text-align: right;\">\n",
       "      <th></th>\n",
       "      <th>pathway</th>\n",
       "      <th>LV index</th>\n",
       "      <th>AUC</th>\n",
       "      <th>p-value</th>\n",
       "      <th>FDR</th>\n",
       "    </tr>\n",
       "  </thead>\n",
       "  <tbody>\n",
       "    <tr>\n",
       "      <th>2</th>\n",
       "      <td>REACTOME_MRNA_SPLICING</td>\n",
       "      <td>1</td>\n",
       "      <td>0.733057</td>\n",
       "      <td>4.772691e-05</td>\n",
       "      <td>5.816211e-04</td>\n",
       "    </tr>\n",
       "    <tr>\n",
       "      <th>3</th>\n",
       "      <td>MIPS_NOP56P_ASSOCIATED_PRE_RRNA_COMPLEX</td>\n",
       "      <td>1</td>\n",
       "      <td>0.680555</td>\n",
       "      <td>1.628217e-03</td>\n",
       "      <td>1.136590e-02</td>\n",
       "    </tr>\n",
       "    <tr>\n",
       "      <th>8</th>\n",
       "      <td>REACTOME_MITOTIC_G1_G1_S_PHASES</td>\n",
       "      <td>1</td>\n",
       "      <td>0.686170</td>\n",
       "      <td>2.517619e-04</td>\n",
       "      <td>2.392292e-03</td>\n",
       "    </tr>\n",
       "    <tr>\n",
       "      <th>9</th>\n",
       "      <td>IRIS_Monocyte-Day0</td>\n",
       "      <td>2</td>\n",
       "      <td>0.890036</td>\n",
       "      <td>4.315812e-25</td>\n",
       "      <td>1.329887e-22</td>\n",
       "    </tr>\n",
       "    <tr>\n",
       "      <th>10</th>\n",
       "      <td>DMAP_MONO2</td>\n",
       "      <td>2</td>\n",
       "      <td>0.904676</td>\n",
       "      <td>1.313970e-16</td>\n",
       "      <td>1.574574e-14</td>\n",
       "    </tr>\n",
       "  </tbody>\n",
       "</table>\n",
       "</div>"
      ],
      "text/plain": [
       "                                    pathway LV index       AUC       p-value  \\\n",
       "2                    REACTOME_MRNA_SPLICING        1  0.733057  4.772691e-05   \n",
       "3   MIPS_NOP56P_ASSOCIATED_PRE_RRNA_COMPLEX        1  0.680555  1.628217e-03   \n",
       "8           REACTOME_MITOTIC_G1_G1_S_PHASES        1  0.686170  2.517619e-04   \n",
       "9                        IRIS_Monocyte-Day0        2  0.890036  4.315812e-25   \n",
       "10                               DMAP_MONO2        2  0.904676  1.313970e-16   \n",
       "\n",
       "             FDR  \n",
       "2   5.816211e-04  \n",
       "3   1.136590e-02  \n",
       "8   2.392292e-03  \n",
       "9   1.329887e-22  \n",
       "10  1.574574e-14  "
      ]
     },
     "metadata": {},
     "output_type": "display_data"
    }
   ],
   "source": [
    "well_aligned_lvs = multiplier_model_summary[\n",
    "    (multiplier_model_summary[\"FDR\"] < 0.05) | (multiplier_model_summary[\"AUC\"] >= 0.75)\n",
    "]\n",
    "\n",
    "display(well_aligned_lvs.shape)\n",
    "display(well_aligned_lvs.head())"
   ]
  },
  {
   "cell_type": "code",
   "execution_count": 22,
   "id": "advance-monthly",
   "metadata": {
    "execution": {
     "iopub.execute_input": "2021-05-17T04:44:53.056355Z",
     "iopub.status.busy": "2021-05-17T04:44:53.055973Z",
     "iopub.status.idle": "2021-05-17T04:44:53.067009Z",
     "shell.execute_reply": "2021-05-17T04:44:53.066648Z"
    },
    "papermill": {
     "duration": 0.039939,
     "end_time": "2021-05-17T04:44:53.067089",
     "exception": false,
     "start_time": "2021-05-17T04:44:53.027150",
     "status": "completed"
    },
    "tags": []
   },
   "outputs": [],
   "source": [
    "well_aligned_lv_codes = set([f\"LV{lvi}\" for lvi in well_aligned_lvs[\"LV index\"]])"
   ]
  },
  {
   "cell_type": "code",
   "execution_count": 23,
   "id": "handy-inventory",
   "metadata": {
    "execution": {
     "iopub.execute_input": "2021-05-17T04:44:53.122209Z",
     "iopub.status.busy": "2021-05-17T04:44:53.121852Z",
     "iopub.status.idle": "2021-05-17T04:44:53.133103Z",
     "shell.execute_reply": "2021-05-17T04:44:53.133398Z"
    },
    "papermill": {
     "duration": 0.039709,
     "end_time": "2021-05-17T04:44:53.133499",
     "exception": false,
     "start_time": "2021-05-17T04:44:53.093790",
     "status": "completed"
    },
    "tags": []
   },
   "outputs": [
    {
     "data": {
      "text/plain": [
       "200"
      ]
     },
     "execution_count": 23,
     "metadata": {},
     "output_type": "execute_result"
    }
   ],
   "source": [
    "len(well_aligned_lv_codes)"
   ]
  },
  {
   "cell_type": "code",
   "execution_count": 24,
   "id": "upset-password",
   "metadata": {
    "execution": {
     "iopub.execute_input": "2021-05-17T04:44:53.190346Z",
     "iopub.status.busy": "2021-05-17T04:44:53.189983Z",
     "iopub.status.idle": "2021-05-17T04:44:53.201241Z",
     "shell.execute_reply": "2021-05-17T04:44:53.200885Z"
    },
    "papermill": {
     "duration": 0.040805,
     "end_time": "2021-05-17T04:44:53.201323",
     "exception": false,
     "start_time": "2021-05-17T04:44:53.160518",
     "status": "completed"
    },
    "tags": []
   },
   "outputs": [
    {
     "data": {
      "text/plain": [
       "['LV195', 'LV671', 'LV805', 'LV953', 'LV976']"
      ]
     },
     "execution_count": 24,
     "metadata": {},
     "output_type": "execute_result"
    }
   ],
   "source": [
    "list(well_aligned_lv_codes)[:5]"
   ]
  },
  {
   "cell_type": "markdown",
   "id": "imposed-anderson",
   "metadata": {
    "papermill": {
     "duration": 0.026557,
     "end_time": "2021-05-17T04:44:53.255191",
     "exception": false,
     "start_time": "2021-05-17T04:44:53.228634",
     "status": "completed"
    },
    "tags": []
   },
   "source": [
    "# Select LVs from CRISPR analysis"
   ]
  },
  {
   "cell_type": "code",
   "execution_count": 25,
   "id": "cardiac-memory",
   "metadata": {
    "execution": {
     "iopub.execute_input": "2021-05-17T04:44:53.310502Z",
     "iopub.status.busy": "2021-05-17T04:44:53.310148Z",
     "iopub.status.idle": "2021-05-17T04:44:53.349824Z",
     "shell.execute_reply": "2021-05-17T04:44:53.350123Z"
    },
    "papermill": {
     "duration": 0.068374,
     "end_time": "2021-05-17T04:44:53.350227",
     "exception": false,
     "start_time": "2021-05-17T04:44:53.281853",
     "status": "completed"
    },
    "tags": []
   },
   "outputs": [],
   "source": [
    "# FIXME: there will be a specific folder for crispr analysis in the future, that should be replaced here\n",
    "deg_enrich = pd.read_csv(\n",
    "    Path(\n",
    "        conf.RESULTS[\"BASE_DIR\"],\n",
    "        \"crispr_analyses\",\n",
    "        \"fgsea-all_lvs.tsv\",\n",
    "    ).resolve(),\n",
    "    sep=\"\\t\",\n",
    ")"
   ]
  },
  {
   "cell_type": "code",
   "execution_count": 26,
   "id": "herbal-commitment",
   "metadata": {
    "execution": {
     "iopub.execute_input": "2021-05-17T04:44:53.406853Z",
     "iopub.status.busy": "2021-05-17T04:44:53.406504Z",
     "iopub.status.idle": "2021-05-17T04:44:53.417975Z",
     "shell.execute_reply": "2021-05-17T04:44:53.417606Z"
    },
    "papermill": {
     "duration": 0.040374,
     "end_time": "2021-05-17T04:44:53.418057",
     "exception": false,
     "start_time": "2021-05-17T04:44:53.377683",
     "status": "completed"
    },
    "tags": []
   },
   "outputs": [
    {
     "data": {
      "text/plain": [
       "(19730, 10)"
      ]
     },
     "execution_count": 26,
     "metadata": {},
     "output_type": "execute_result"
    }
   ],
   "source": [
    "deg_enrich.shape"
   ]
  },
  {
   "cell_type": "code",
   "execution_count": 27,
   "id": "assigned-shower",
   "metadata": {
    "execution": {
     "iopub.execute_input": "2021-05-17T04:44:53.475213Z",
     "iopub.status.busy": "2021-05-17T04:44:53.474864Z",
     "iopub.status.idle": "2021-05-17T04:44:53.491817Z",
     "shell.execute_reply": "2021-05-17T04:44:53.491448Z"
    },
    "papermill": {
     "duration": 0.046201,
     "end_time": "2021-05-17T04:44:53.491900",
     "exception": false,
     "start_time": "2021-05-17T04:44:53.445699",
     "status": "completed"
    },
    "tags": []
   },
   "outputs": [
    {
     "data": {
      "text/html": [
       "<div>\n",
       "<style scoped>\n",
       "    .dataframe tbody tr th:only-of-type {\n",
       "        vertical-align: middle;\n",
       "    }\n",
       "\n",
       "    .dataframe tbody tr th {\n",
       "        vertical-align: top;\n",
       "    }\n",
       "\n",
       "    .dataframe thead th {\n",
       "        text-align: right;\n",
       "    }\n",
       "</style>\n",
       "<table border=\"1\" class=\"dataframe\">\n",
       "  <thead>\n",
       "    <tr style=\"text-align: right;\">\n",
       "      <th></th>\n",
       "      <th>pathway</th>\n",
       "      <th>pval</th>\n",
       "      <th>padj</th>\n",
       "      <th>log2err</th>\n",
       "      <th>ES</th>\n",
       "      <th>NES</th>\n",
       "      <th>size</th>\n",
       "      <th>leadingEdge</th>\n",
       "      <th>lv</th>\n",
       "      <th>rep_idx</th>\n",
       "    </tr>\n",
       "  </thead>\n",
       "  <tbody>\n",
       "    <tr>\n",
       "      <th>0</th>\n",
       "      <td>gene_set_decrease</td>\n",
       "      <td>0.184815</td>\n",
       "      <td>0.235764</td>\n",
       "      <td>0.095921</td>\n",
       "      <td>0.578418</td>\n",
       "      <td>1.126666</td>\n",
       "      <td>35</td>\n",
       "      <td>PTBP1,KEAP1,PEX14,DLST,PCYT2,MAD2L2,GLRX5,OGDH...</td>\n",
       "      <td>LV1</td>\n",
       "      <td>1</td>\n",
       "    </tr>\n",
       "    <tr>\n",
       "      <th>1</th>\n",
       "      <td>gene_set_increase</td>\n",
       "      <td>0.235764</td>\n",
       "      <td>0.235764</td>\n",
       "      <td>0.082205</td>\n",
       "      <td>0.539155</td>\n",
       "      <td>1.076511</td>\n",
       "      <td>63</td>\n",
       "      <td>CHERP,RANGAP1,HNRNPL,RPS2,E4F1,TAF1C,GATAD2A,S...</td>\n",
       "      <td>LV1</td>\n",
       "      <td>1</td>\n",
       "    </tr>\n",
       "    <tr>\n",
       "      <th>2</th>\n",
       "      <td>gene_set_decrease</td>\n",
       "      <td>0.198801</td>\n",
       "      <td>0.251748</td>\n",
       "      <td>0.091680</td>\n",
       "      <td>0.578418</td>\n",
       "      <td>1.123767</td>\n",
       "      <td>35</td>\n",
       "      <td>PTBP1,KEAP1,PEX14,DLST,PCYT2,MAD2L2,GLRX5,OGDH...</td>\n",
       "      <td>LV1</td>\n",
       "      <td>2</td>\n",
       "    </tr>\n",
       "    <tr>\n",
       "      <th>3</th>\n",
       "      <td>gene_set_increase</td>\n",
       "      <td>0.251748</td>\n",
       "      <td>0.251748</td>\n",
       "      <td>0.078711</td>\n",
       "      <td>0.539155</td>\n",
       "      <td>1.078565</td>\n",
       "      <td>63</td>\n",
       "      <td>CHERP,RANGAP1,HNRNPL,RPS2,E4F1,TAF1C,GATAD2A,S...</td>\n",
       "      <td>LV1</td>\n",
       "      <td>2</td>\n",
       "    </tr>\n",
       "    <tr>\n",
       "      <th>4</th>\n",
       "      <td>gene_set_decrease</td>\n",
       "      <td>0.162837</td>\n",
       "      <td>0.215784</td>\n",
       "      <td>0.103576</td>\n",
       "      <td>0.578418</td>\n",
       "      <td>1.137180</td>\n",
       "      <td>35</td>\n",
       "      <td>PTBP1,KEAP1,PEX14,DLST,PCYT2,MAD2L2,GLRX5,OGDH...</td>\n",
       "      <td>LV1</td>\n",
       "      <td>3</td>\n",
       "    </tr>\n",
       "  </tbody>\n",
       "</table>\n",
       "</div>"
      ],
      "text/plain": [
       "             pathway      pval      padj   log2err        ES       NES  size  \\\n",
       "0  gene_set_decrease  0.184815  0.235764  0.095921  0.578418  1.126666    35   \n",
       "1  gene_set_increase  0.235764  0.235764  0.082205  0.539155  1.076511    63   \n",
       "2  gene_set_decrease  0.198801  0.251748  0.091680  0.578418  1.123767    35   \n",
       "3  gene_set_increase  0.251748  0.251748  0.078711  0.539155  1.078565    63   \n",
       "4  gene_set_decrease  0.162837  0.215784  0.103576  0.578418  1.137180    35   \n",
       "\n",
       "                                         leadingEdge   lv  rep_idx  \n",
       "0  PTBP1,KEAP1,PEX14,DLST,PCYT2,MAD2L2,GLRX5,OGDH...  LV1        1  \n",
       "1  CHERP,RANGAP1,HNRNPL,RPS2,E4F1,TAF1C,GATAD2A,S...  LV1        1  \n",
       "2  PTBP1,KEAP1,PEX14,DLST,PCYT2,MAD2L2,GLRX5,OGDH...  LV1        2  \n",
       "3  CHERP,RANGAP1,HNRNPL,RPS2,E4F1,TAF1C,GATAD2A,S...  LV1        2  \n",
       "4  PTBP1,KEAP1,PEX14,DLST,PCYT2,MAD2L2,GLRX5,OGDH...  LV1        3  "
      ]
     },
     "execution_count": 27,
     "metadata": {},
     "output_type": "execute_result"
    }
   ],
   "source": [
    "deg_enrich.head()"
   ]
  },
  {
   "cell_type": "code",
   "execution_count": 28,
   "id": "premium-principal",
   "metadata": {
    "execution": {
     "iopub.execute_input": "2021-05-17T04:44:53.549478Z",
     "iopub.status.busy": "2021-05-17T04:44:53.549124Z",
     "iopub.status.idle": "2021-05-17T04:44:53.715688Z",
     "shell.execute_reply": "2021-05-17T04:44:53.715311Z"
    },
    "papermill": {
     "duration": 0.196078,
     "end_time": "2021-05-17T04:44:53.715773",
     "exception": false,
     "start_time": "2021-05-17T04:44:53.519695",
     "status": "completed"
    },
    "tags": []
   },
   "outputs": [],
   "source": [
    "deg_enrich_max_idx = deg_enrich.groupby([\"lv\", \"pathway\"])[\"padj\"].idxmax()"
   ]
  },
  {
   "cell_type": "code",
   "execution_count": 29,
   "id": "strong-purpose",
   "metadata": {
    "execution": {
     "iopub.execute_input": "2021-05-17T04:44:53.773432Z",
     "iopub.status.busy": "2021-05-17T04:44:53.773073Z",
     "iopub.status.idle": "2021-05-17T04:44:53.791916Z",
     "shell.execute_reply": "2021-05-17T04:44:53.791549Z"
    },
    "papermill": {
     "duration": 0.04847,
     "end_time": "2021-05-17T04:44:53.791998",
     "exception": false,
     "start_time": "2021-05-17T04:44:53.743528",
     "status": "completed"
    },
    "tags": []
   },
   "outputs": [
    {
     "data": {
      "text/plain": [
       "(1973, 10)"
      ]
     },
     "metadata": {},
     "output_type": "display_data"
    },
    {
     "data": {
      "text/html": [
       "<div>\n",
       "<style scoped>\n",
       "    .dataframe tbody tr th:only-of-type {\n",
       "        vertical-align: middle;\n",
       "    }\n",
       "\n",
       "    .dataframe tbody tr th {\n",
       "        vertical-align: top;\n",
       "    }\n",
       "\n",
       "    .dataframe thead th {\n",
       "        text-align: right;\n",
       "    }\n",
       "</style>\n",
       "<table border=\"1\" class=\"dataframe\">\n",
       "  <thead>\n",
       "    <tr style=\"text-align: right;\">\n",
       "      <th></th>\n",
       "      <th>pathway</th>\n",
       "      <th>pval</th>\n",
       "      <th>padj</th>\n",
       "      <th>log2err</th>\n",
       "      <th>ES</th>\n",
       "      <th>NES</th>\n",
       "      <th>size</th>\n",
       "      <th>leadingEdge</th>\n",
       "      <th>lv</th>\n",
       "      <th>rep_idx</th>\n",
       "    </tr>\n",
       "  </thead>\n",
       "  <tbody>\n",
       "    <tr>\n",
       "      <th>0</th>\n",
       "      <td>gene_set_decrease</td>\n",
       "      <td>0.198801</td>\n",
       "      <td>0.251748</td>\n",
       "      <td>0.091680</td>\n",
       "      <td>0.578418</td>\n",
       "      <td>1.123767</td>\n",
       "      <td>35</td>\n",
       "      <td>PTBP1,KEAP1,PEX14,DLST,PCYT2,MAD2L2,GLRX5,OGDH...</td>\n",
       "      <td>LV1</td>\n",
       "      <td>2</td>\n",
       "    </tr>\n",
       "    <tr>\n",
       "      <th>1</th>\n",
       "      <td>gene_set_increase</td>\n",
       "      <td>0.251748</td>\n",
       "      <td>0.251748</td>\n",
       "      <td>0.078711</td>\n",
       "      <td>0.539155</td>\n",
       "      <td>1.078565</td>\n",
       "      <td>63</td>\n",
       "      <td>CHERP,RANGAP1,HNRNPL,RPS2,E4F1,TAF1C,GATAD2A,S...</td>\n",
       "      <td>LV1</td>\n",
       "      <td>2</td>\n",
       "    </tr>\n",
       "    <tr>\n",
       "      <th>2</th>\n",
       "      <td>gene_set_decrease</td>\n",
       "      <td>0.941059</td>\n",
       "      <td>1.000000</td>\n",
       "      <td>0.011418</td>\n",
       "      <td>0.434799</td>\n",
       "      <td>0.691607</td>\n",
       "      <td>20</td>\n",
       "      <td>VDR,ACVR1B,KEAP1,NDUFV2,PEX14,NDUFS3,WDR26</td>\n",
       "      <td>LV10</td>\n",
       "      <td>2</td>\n",
       "    </tr>\n",
       "    <tr>\n",
       "      <th>3</th>\n",
       "      <td>gene_set_increase</td>\n",
       "      <td>1.000000</td>\n",
       "      <td>1.000000</td>\n",
       "      <td>0.000000</td>\n",
       "      <td>0.236619</td>\n",
       "      <td>0.378164</td>\n",
       "      <td>25</td>\n",
       "      <td>USP39,SRP19,ZNF3,RPL18,RPS19,RAP1GDS1,CHD4,UBL...</td>\n",
       "      <td>LV10</td>\n",
       "      <td>2</td>\n",
       "    </tr>\n",
       "    <tr>\n",
       "      <th>4</th>\n",
       "      <td>gene_set_decrease</td>\n",
       "      <td>0.042957</td>\n",
       "      <td>0.085914</td>\n",
       "      <td>0.216543</td>\n",
       "      <td>0.831205</td>\n",
       "      <td>1.711885</td>\n",
       "      <td>27</td>\n",
       "      <td>NDUFB7,PTBP1,RRAGC,PPP2R2B,SQLE</td>\n",
       "      <td>LV100</td>\n",
       "      <td>6</td>\n",
       "    </tr>\n",
       "  </tbody>\n",
       "</table>\n",
       "</div>"
      ],
      "text/plain": [
       "             pathway      pval      padj   log2err        ES       NES  size  \\\n",
       "0  gene_set_decrease  0.198801  0.251748  0.091680  0.578418  1.123767    35   \n",
       "1  gene_set_increase  0.251748  0.251748  0.078711  0.539155  1.078565    63   \n",
       "2  gene_set_decrease  0.941059  1.000000  0.011418  0.434799  0.691607    20   \n",
       "3  gene_set_increase  1.000000  1.000000  0.000000  0.236619  0.378164    25   \n",
       "4  gene_set_decrease  0.042957  0.085914  0.216543  0.831205  1.711885    27   \n",
       "\n",
       "                                         leadingEdge     lv  rep_idx  \n",
       "0  PTBP1,KEAP1,PEX14,DLST,PCYT2,MAD2L2,GLRX5,OGDH...    LV1        2  \n",
       "1  CHERP,RANGAP1,HNRNPL,RPS2,E4F1,TAF1C,GATAD2A,S...    LV1        2  \n",
       "2         VDR,ACVR1B,KEAP1,NDUFV2,PEX14,NDUFS3,WDR26   LV10        2  \n",
       "3  USP39,SRP19,ZNF3,RPL18,RPS19,RAP1GDS1,CHD4,UBL...   LV10        2  \n",
       "4                    NDUFB7,PTBP1,RRAGC,PPP2R2B,SQLE  LV100        6  "
      ]
     },
     "metadata": {},
     "output_type": "display_data"
    }
   ],
   "source": [
    "deg_enrich = deg_enrich.loc[deg_enrich_max_idx].reset_index(drop=True)\n",
    "display(deg_enrich.shape)\n",
    "display(deg_enrich.head())"
   ]
  },
  {
   "cell_type": "markdown",
   "id": "broken-olympus",
   "metadata": {
    "papermill": {
     "duration": 0.027715,
     "end_time": "2021-05-17T04:44:53.848229",
     "exception": false,
     "start_time": "2021-05-17T04:44:53.820514",
     "status": "completed"
    },
    "tags": []
   },
   "source": [
    "## Lipids-increasing gene sets"
   ]
  },
  {
   "cell_type": "code",
   "execution_count": 30,
   "id": "popular-match",
   "metadata": {
    "execution": {
     "iopub.execute_input": "2021-05-17T04:44:53.907923Z",
     "iopub.status.busy": "2021-05-17T04:44:53.907568Z",
     "iopub.status.idle": "2021-05-17T04:44:53.919445Z",
     "shell.execute_reply": "2021-05-17T04:44:53.919121Z"
    },
    "papermill": {
     "duration": 0.04304,
     "end_time": "2021-05-17T04:44:53.919527",
     "exception": false,
     "start_time": "2021-05-17T04:44:53.876487",
     "status": "completed"
    },
    "tags": []
   },
   "outputs": [],
   "source": [
    "deg_increase = deg_enrich[\n",
    "    deg_enrich[\"pathway\"].isin((\"gene_set_increase\",)) & (deg_enrich[\"padj\"] < 0.05)\n",
    "].sort_values(\"padj\", ascending=True)"
   ]
  },
  {
   "cell_type": "code",
   "execution_count": 31,
   "id": "arabic-match",
   "metadata": {
    "execution": {
     "iopub.execute_input": "2021-05-17T04:44:53.979755Z",
     "iopub.status.busy": "2021-05-17T04:44:53.979396Z",
     "iopub.status.idle": "2021-05-17T04:44:53.990549Z",
     "shell.execute_reply": "2021-05-17T04:44:53.990243Z"
    },
    "papermill": {
     "duration": 0.041889,
     "end_time": "2021-05-17T04:44:53.990634",
     "exception": false,
     "start_time": "2021-05-17T04:44:53.948745",
     "status": "completed"
    },
    "tags": []
   },
   "outputs": [
    {
     "data": {
      "text/plain": [
       "(27, 10)"
      ]
     },
     "execution_count": 31,
     "metadata": {},
     "output_type": "execute_result"
    }
   ],
   "source": [
    "deg_increase.shape"
   ]
  },
  {
   "cell_type": "code",
   "execution_count": 32,
   "id": "liked-python",
   "metadata": {
    "execution": {
     "iopub.execute_input": "2021-05-17T04:44:54.049301Z",
     "iopub.status.busy": "2021-05-17T04:44:54.048947Z",
     "iopub.status.idle": "2021-05-17T04:44:54.065727Z",
     "shell.execute_reply": "2021-05-17T04:44:54.065392Z"
    },
    "papermill": {
     "duration": 0.04675,
     "end_time": "2021-05-17T04:44:54.065810",
     "exception": false,
     "start_time": "2021-05-17T04:44:54.019060",
     "status": "completed"
    },
    "tags": []
   },
   "outputs": [
    {
     "data": {
      "text/html": [
       "<div>\n",
       "<style scoped>\n",
       "    .dataframe tbody tr th:only-of-type {\n",
       "        vertical-align: middle;\n",
       "    }\n",
       "\n",
       "    .dataframe tbody tr th {\n",
       "        vertical-align: top;\n",
       "    }\n",
       "\n",
       "    .dataframe thead th {\n",
       "        text-align: right;\n",
       "    }\n",
       "</style>\n",
       "<table border=\"1\" class=\"dataframe\">\n",
       "  <thead>\n",
       "    <tr style=\"text-align: right;\">\n",
       "      <th></th>\n",
       "      <th>pathway</th>\n",
       "      <th>pval</th>\n",
       "      <th>padj</th>\n",
       "      <th>log2err</th>\n",
       "      <th>ES</th>\n",
       "      <th>NES</th>\n",
       "      <th>size</th>\n",
       "      <th>leadingEdge</th>\n",
       "      <th>lv</th>\n",
       "      <th>rep_idx</th>\n",
       "    </tr>\n",
       "  </thead>\n",
       "  <tbody>\n",
       "    <tr>\n",
       "      <th>1350</th>\n",
       "      <td>gene_set_increase</td>\n",
       "      <td>1.738856e-07</td>\n",
       "      <td>3.477712e-07</td>\n",
       "      <td>0.690132</td>\n",
       "      <td>0.905734</td>\n",
       "      <td>1.565818</td>\n",
       "      <td>49</td>\n",
       "      <td>RPS14,RPL31,RPS19,RPS11,RPS6,RPL37,RPSA,RPL18,...</td>\n",
       "      <td>LV707</td>\n",
       "      <td>3</td>\n",
       "    </tr>\n",
       "    <tr>\n",
       "      <th>1790</th>\n",
       "      <td>gene_set_increase</td>\n",
       "      <td>4.293645e-05</td>\n",
       "      <td>8.587291e-05</td>\n",
       "      <td>0.557332</td>\n",
       "      <td>0.732205</td>\n",
       "      <td>1.486815</td>\n",
       "      <td>60</td>\n",
       "      <td>RPS6,RPL6,RPLP0,RPL19,RPL31,RPL7,RPS13,RPS2,RP...</td>\n",
       "      <td>LV905</td>\n",
       "      <td>6</td>\n",
       "    </tr>\n",
       "    <tr>\n",
       "      <th>1812</th>\n",
       "      <td>gene_set_increase</td>\n",
       "      <td>6.373604e-05</td>\n",
       "      <td>1.274721e-04</td>\n",
       "      <td>0.538434</td>\n",
       "      <td>0.627667</td>\n",
       "      <td>1.444149</td>\n",
       "      <td>83</td>\n",
       "      <td>SAFB,LUC7L3,HSP90B1,CHD4,SNRPD3,ISY1,DKC1,PFDN...</td>\n",
       "      <td>LV915</td>\n",
       "      <td>4</td>\n",
       "    </tr>\n",
       "    <tr>\n",
       "      <th>1446</th>\n",
       "      <td>gene_set_increase</td>\n",
       "      <td>5.632729e-04</td>\n",
       "      <td>1.126546e-03</td>\n",
       "      <td>0.477271</td>\n",
       "      <td>0.803565</td>\n",
       "      <td>1.288959</td>\n",
       "      <td>61</td>\n",
       "      <td>RPL34,RPL35A,RPL31,RPS13,RPS6,RPL6,RPL7,UBL5,R...</td>\n",
       "      <td>LV750</td>\n",
       "      <td>8</td>\n",
       "    </tr>\n",
       "    <tr>\n",
       "      <th>539</th>\n",
       "      <td>gene_set_increase</td>\n",
       "      <td>7.830825e-04</td>\n",
       "      <td>1.566165e-03</td>\n",
       "      <td>0.477271</td>\n",
       "      <td>0.971974</td>\n",
       "      <td>1.978913</td>\n",
       "      <td>33</td>\n",
       "      <td>ZNF3,MDM2,RPS6</td>\n",
       "      <td>LV341</td>\n",
       "      <td>9</td>\n",
       "    </tr>\n",
       "  </tbody>\n",
       "</table>\n",
       "</div>"
      ],
      "text/plain": [
       "                pathway          pval          padj   log2err        ES  \\\n",
       "1350  gene_set_increase  1.738856e-07  3.477712e-07  0.690132  0.905734   \n",
       "1790  gene_set_increase  4.293645e-05  8.587291e-05  0.557332  0.732205   \n",
       "1812  gene_set_increase  6.373604e-05  1.274721e-04  0.538434  0.627667   \n",
       "1446  gene_set_increase  5.632729e-04  1.126546e-03  0.477271  0.803565   \n",
       "539   gene_set_increase  7.830825e-04  1.566165e-03  0.477271  0.971974   \n",
       "\n",
       "           NES  size                                        leadingEdge  \\\n",
       "1350  1.565818    49  RPS14,RPL31,RPS19,RPS11,RPS6,RPL37,RPSA,RPL18,...   \n",
       "1790  1.486815    60  RPS6,RPL6,RPLP0,RPL19,RPL31,RPL7,RPS13,RPS2,RP...   \n",
       "1812  1.444149    83  SAFB,LUC7L3,HSP90B1,CHD4,SNRPD3,ISY1,DKC1,PFDN...   \n",
       "1446  1.288959    61  RPL34,RPL35A,RPL31,RPS13,RPS6,RPL6,RPL7,UBL5,R...   \n",
       "539   1.978913    33                                     ZNF3,MDM2,RPS6   \n",
       "\n",
       "         lv  rep_idx  \n",
       "1350  LV707        3  \n",
       "1790  LV905        6  \n",
       "1812  LV915        4  \n",
       "1446  LV750        8  \n",
       "539   LV341        9  "
      ]
     },
     "execution_count": 32,
     "metadata": {},
     "output_type": "execute_result"
    }
   ],
   "source": [
    "deg_increase.head()"
   ]
  },
  {
   "cell_type": "code",
   "execution_count": 33,
   "id": "advance-hollow",
   "metadata": {
    "execution": {
     "iopub.execute_input": "2021-05-17T04:44:54.125889Z",
     "iopub.status.busy": "2021-05-17T04:44:54.125535Z",
     "iopub.status.idle": "2021-05-17T04:44:54.136441Z",
     "shell.execute_reply": "2021-05-17T04:44:54.136069Z"
    },
    "papermill": {
     "duration": 0.041134,
     "end_time": "2021-05-17T04:44:54.136524",
     "exception": false,
     "start_time": "2021-05-17T04:44:54.095390",
     "status": "completed"
    },
    "tags": []
   },
   "outputs": [],
   "source": [
    "lvs_increase = deg_increase[\"lv\"].unique()"
   ]
  },
  {
   "cell_type": "code",
   "execution_count": 34,
   "id": "reduced-lexington",
   "metadata": {
    "execution": {
     "iopub.execute_input": "2021-05-17T04:44:54.219890Z",
     "iopub.status.busy": "2021-05-17T04:44:54.219518Z",
     "iopub.status.idle": "2021-05-17T04:44:54.231157Z",
     "shell.execute_reply": "2021-05-17T04:44:54.230769Z"
    },
    "papermill": {
     "duration": 0.04758,
     "end_time": "2021-05-17T04:44:54.231243",
     "exception": false,
     "start_time": "2021-05-17T04:44:54.183663",
     "status": "completed"
    },
    "tags": []
   },
   "outputs": [
    {
     "data": {
      "text/plain": [
       "(27,)"
      ]
     },
     "execution_count": 34,
     "metadata": {},
     "output_type": "execute_result"
    }
   ],
   "source": [
    "lvs_increase.shape"
   ]
  },
  {
   "cell_type": "code",
   "execution_count": 35,
   "id": "broad-rhythm",
   "metadata": {
    "execution": {
     "iopub.execute_input": "2021-05-17T04:44:54.293262Z",
     "iopub.status.busy": "2021-05-17T04:44:54.292901Z",
     "iopub.status.idle": "2021-05-17T04:44:54.304754Z",
     "shell.execute_reply": "2021-05-17T04:44:54.304352Z"
    },
    "papermill": {
     "duration": 0.042989,
     "end_time": "2021-05-17T04:44:54.304861",
     "exception": false,
     "start_time": "2021-05-17T04:44:54.261872",
     "status": "completed"
    },
    "tags": []
   },
   "outputs": [
    {
     "data": {
      "text/plain": [
       "array(['LV707', 'LV905', 'LV915', 'LV750', 'LV341', 'LV310', 'LV48',\n",
       "       'LV509', 'LV467', 'LV64', 'LV490', 'LV550', 'LV621', 'LV775',\n",
       "       'LV415', 'LV504', 'LV507', 'LV494', 'LV399', 'LV246', 'LV120',\n",
       "       'LV122', 'LV489', 'LV515', 'LV783', 'LV768', 'LV577'], dtype=object)"
      ]
     },
     "execution_count": 35,
     "metadata": {},
     "output_type": "execute_result"
    }
   ],
   "source": [
    "lvs_increase"
   ]
  },
  {
   "cell_type": "markdown",
   "id": "optional-seller",
   "metadata": {
    "papermill": {
     "duration": 0.028757,
     "end_time": "2021-05-17T04:44:54.363422",
     "exception": false,
     "start_time": "2021-05-17T04:44:54.334665",
     "status": "completed"
    },
    "tags": []
   },
   "source": [
    "## Lipids-decreasing gene sets"
   ]
  },
  {
   "cell_type": "code",
   "execution_count": 36,
   "id": "hollywood-democracy",
   "metadata": {
    "execution": {
     "iopub.execute_input": "2021-05-17T04:44:54.424486Z",
     "iopub.status.busy": "2021-05-17T04:44:54.424116Z",
     "iopub.status.idle": "2021-05-17T04:44:54.436023Z",
     "shell.execute_reply": "2021-05-17T04:44:54.435656Z"
    },
    "papermill": {
     "duration": 0.043458,
     "end_time": "2021-05-17T04:44:54.436105",
     "exception": false,
     "start_time": "2021-05-17T04:44:54.392647",
     "status": "completed"
    },
    "tags": []
   },
   "outputs": [],
   "source": [
    "deg_decrease = deg_enrich[\n",
    "    deg_enrich[\"pathway\"].isin((\"gene_set_decrease\",)) & (deg_enrich[\"padj\"] < 0.05)\n",
    "].sort_values(\"padj\", ascending=True)"
   ]
  },
  {
   "cell_type": "code",
   "execution_count": 37,
   "id": "three-honduras",
   "metadata": {
    "execution": {
     "iopub.execute_input": "2021-05-17T04:44:54.498120Z",
     "iopub.status.busy": "2021-05-17T04:44:54.497766Z",
     "iopub.status.idle": "2021-05-17T04:44:54.509181Z",
     "shell.execute_reply": "2021-05-17T04:44:54.508823Z"
    },
    "papermill": {
     "duration": 0.042969,
     "end_time": "2021-05-17T04:44:54.509261",
     "exception": false,
     "start_time": "2021-05-17T04:44:54.466292",
     "status": "completed"
    },
    "tags": []
   },
   "outputs": [
    {
     "data": {
      "text/plain": [
       "(24, 10)"
      ]
     },
     "execution_count": 37,
     "metadata": {},
     "output_type": "execute_result"
    }
   ],
   "source": [
    "deg_decrease.shape"
   ]
  },
  {
   "cell_type": "code",
   "execution_count": 38,
   "id": "ignored-cycle",
   "metadata": {
    "execution": {
     "iopub.execute_input": "2021-05-17T04:44:54.577030Z",
     "iopub.status.busy": "2021-05-17T04:44:54.570769Z",
     "iopub.status.idle": "2021-05-17T04:44:54.591967Z",
     "shell.execute_reply": "2021-05-17T04:44:54.591522Z"
    },
    "papermill": {
     "duration": 0.052947,
     "end_time": "2021-05-17T04:44:54.592065",
     "exception": false,
     "start_time": "2021-05-17T04:44:54.539118",
     "status": "completed"
    },
    "tags": []
   },
   "outputs": [
    {
     "data": {
      "text/html": [
       "<div>\n",
       "<style scoped>\n",
       "    .dataframe tbody tr th:only-of-type {\n",
       "        vertical-align: middle;\n",
       "    }\n",
       "\n",
       "    .dataframe tbody tr th {\n",
       "        vertical-align: top;\n",
       "    }\n",
       "\n",
       "    .dataframe thead th {\n",
       "        text-align: right;\n",
       "    }\n",
       "</style>\n",
       "<table border=\"1\" class=\"dataframe\">\n",
       "  <thead>\n",
       "    <tr style=\"text-align: right;\">\n",
       "      <th></th>\n",
       "      <th>pathway</th>\n",
       "      <th>pval</th>\n",
       "      <th>padj</th>\n",
       "      <th>log2err</th>\n",
       "      <th>ES</th>\n",
       "      <th>NES</th>\n",
       "      <th>size</th>\n",
       "      <th>leadingEdge</th>\n",
       "      <th>lv</th>\n",
       "      <th>rep_idx</th>\n",
       "    </tr>\n",
       "  </thead>\n",
       "  <tbody>\n",
       "    <tr>\n",
       "      <th>1283</th>\n",
       "      <td>gene_set_decrease</td>\n",
       "      <td>2.605291e-07</td>\n",
       "      <td>5.210582e-07</td>\n",
       "      <td>0.674963</td>\n",
       "      <td>0.858542</td>\n",
       "      <td>1.636153</td>\n",
       "      <td>43</td>\n",
       "      <td>NDUFA4,COX6A1,ATP5O,NDUFB10,COX5A,NDUFS3,NDUFB...</td>\n",
       "      <td>LV678</td>\n",
       "      <td>3</td>\n",
       "    </tr>\n",
       "    <tr>\n",
       "      <th>1199</th>\n",
       "      <td>gene_set_decrease</td>\n",
       "      <td>1.205740e-03</td>\n",
       "      <td>2.411481e-03</td>\n",
       "      <td>0.455060</td>\n",
       "      <td>0.753059</td>\n",
       "      <td>1.430708</td>\n",
       "      <td>35</td>\n",
       "      <td>PEX14,COX17,NDUFS3,ATP5O,COX6A1,DLST,NDUFB7,ND...</td>\n",
       "      <td>LV64</td>\n",
       "      <td>2</td>\n",
       "    </tr>\n",
       "    <tr>\n",
       "      <th>1769</th>\n",
       "      <td>gene_set_decrease</td>\n",
       "      <td>1.610715e-03</td>\n",
       "      <td>3.221430e-03</td>\n",
       "      <td>0.455060</td>\n",
       "      <td>0.807492</td>\n",
       "      <td>1.596196</td>\n",
       "      <td>25</td>\n",
       "      <td>NDUFA4,PEX14,STX18,OGDH,COX6A1,COX17,PIK3R1,ND...</td>\n",
       "      <td>LV897</td>\n",
       "      <td>3</td>\n",
       "    </tr>\n",
       "    <tr>\n",
       "      <th>1055</th>\n",
       "      <td>gene_set_decrease</td>\n",
       "      <td>4.275828e-03</td>\n",
       "      <td>8.551656e-03</td>\n",
       "      <td>0.407018</td>\n",
       "      <td>0.897219</td>\n",
       "      <td>1.742375</td>\n",
       "      <td>23</td>\n",
       "      <td>CSK,MRPS12</td>\n",
       "      <td>LV575</td>\n",
       "      <td>4</td>\n",
       "    </tr>\n",
       "    <tr>\n",
       "      <th>1413</th>\n",
       "      <td>gene_set_decrease</td>\n",
       "      <td>5.763040e-03</td>\n",
       "      <td>1.152608e-02</td>\n",
       "      <td>0.407018</td>\n",
       "      <td>0.936411</td>\n",
       "      <td>1.741728</td>\n",
       "      <td>19</td>\n",
       "      <td>COX7C,NDUFS6,FLCN,COX5A,NDUFS2</td>\n",
       "      <td>LV736</td>\n",
       "      <td>3</td>\n",
       "    </tr>\n",
       "  </tbody>\n",
       "</table>\n",
       "</div>"
      ],
      "text/plain": [
       "                pathway          pval          padj   log2err        ES  \\\n",
       "1283  gene_set_decrease  2.605291e-07  5.210582e-07  0.674963  0.858542   \n",
       "1199  gene_set_decrease  1.205740e-03  2.411481e-03  0.455060  0.753059   \n",
       "1769  gene_set_decrease  1.610715e-03  3.221430e-03  0.455060  0.807492   \n",
       "1055  gene_set_decrease  4.275828e-03  8.551656e-03  0.407018  0.897219   \n",
       "1413  gene_set_decrease  5.763040e-03  1.152608e-02  0.407018  0.936411   \n",
       "\n",
       "           NES  size                                        leadingEdge  \\\n",
       "1283  1.636153    43  NDUFA4,COX6A1,ATP5O,NDUFB10,COX5A,NDUFS3,NDUFB...   \n",
       "1199  1.430708    35  PEX14,COX17,NDUFS3,ATP5O,COX6A1,DLST,NDUFB7,ND...   \n",
       "1769  1.596196    25  NDUFA4,PEX14,STX18,OGDH,COX6A1,COX17,PIK3R1,ND...   \n",
       "1055  1.742375    23                                         CSK,MRPS12   \n",
       "1413  1.741728    19                     COX7C,NDUFS6,FLCN,COX5A,NDUFS2   \n",
       "\n",
       "         lv  rep_idx  \n",
       "1283  LV678        3  \n",
       "1199   LV64        2  \n",
       "1769  LV897        3  \n",
       "1055  LV575        4  \n",
       "1413  LV736        3  "
      ]
     },
     "execution_count": 38,
     "metadata": {},
     "output_type": "execute_result"
    }
   ],
   "source": [
    "deg_decrease.head()"
   ]
  },
  {
   "cell_type": "code",
   "execution_count": 39,
   "id": "essential-broadcasting",
   "metadata": {
    "execution": {
     "iopub.execute_input": "2021-05-17T04:44:54.658640Z",
     "iopub.status.busy": "2021-05-17T04:44:54.658286Z",
     "iopub.status.idle": "2021-05-17T04:44:54.668922Z",
     "shell.execute_reply": "2021-05-17T04:44:54.669202Z"
    },
    "papermill": {
     "duration": 0.043194,
     "end_time": "2021-05-17T04:44:54.669308",
     "exception": false,
     "start_time": "2021-05-17T04:44:54.626114",
     "status": "completed"
    },
    "tags": []
   },
   "outputs": [],
   "source": [
    "lvs_decrease = deg_decrease[\"lv\"].unique()"
   ]
  },
  {
   "cell_type": "code",
   "execution_count": 40,
   "id": "beginning-forty",
   "metadata": {
    "execution": {
     "iopub.execute_input": "2021-05-17T04:44:54.732303Z",
     "iopub.status.busy": "2021-05-17T04:44:54.731948Z",
     "iopub.status.idle": "2021-05-17T04:44:54.743391Z",
     "shell.execute_reply": "2021-05-17T04:44:54.743003Z"
    },
    "papermill": {
     "duration": 0.043251,
     "end_time": "2021-05-17T04:44:54.743472",
     "exception": false,
     "start_time": "2021-05-17T04:44:54.700221",
     "status": "completed"
    },
    "tags": []
   },
   "outputs": [
    {
     "data": {
      "text/plain": [
       "(24,)"
      ]
     },
     "execution_count": 40,
     "metadata": {},
     "output_type": "execute_result"
    }
   ],
   "source": [
    "lvs_decrease.shape"
   ]
  },
  {
   "cell_type": "code",
   "execution_count": 41,
   "id": "structured-malta",
   "metadata": {
    "execution": {
     "iopub.execute_input": "2021-05-17T04:44:54.806799Z",
     "iopub.status.busy": "2021-05-17T04:44:54.806444Z",
     "iopub.status.idle": "2021-05-17T04:44:54.818209Z",
     "shell.execute_reply": "2021-05-17T04:44:54.817840Z"
    },
    "papermill": {
     "duration": 0.044222,
     "end_time": "2021-05-17T04:44:54.818294",
     "exception": false,
     "start_time": "2021-05-17T04:44:54.774072",
     "status": "completed"
    },
    "tags": []
   },
   "outputs": [
    {
     "data": {
      "text/plain": [
       "array(['LV678', 'LV64', 'LV897', 'LV575', 'LV736', 'LV157', 'LV421',\n",
       "       'LV469', 'LV250', 'LV420', 'LV558', 'LV630', 'LV750', 'LV99',\n",
       "       'LV676', 'LV775', 'LV131', 'LV199', 'LV896', 'LV783', 'LV467',\n",
       "       'LV498', 'LV515', 'LV343'], dtype=object)"
      ]
     },
     "execution_count": 41,
     "metadata": {},
     "output_type": "execute_result"
    }
   ],
   "source": [
    "lvs_decrease"
   ]
  },
  {
   "cell_type": "markdown",
   "id": "spread-former",
   "metadata": {
    "papermill": {
     "duration": 0.030006,
     "end_time": "2021-05-17T04:44:54.879734",
     "exception": false,
     "start_time": "2021-05-17T04:44:54.849728",
     "status": "completed"
    },
    "tags": []
   },
   "source": [
    "## Merge into one dataframe"
   ]
  },
  {
   "cell_type": "code",
   "execution_count": 42,
   "id": "organic-leadership",
   "metadata": {
    "execution": {
     "iopub.execute_input": "2021-05-17T04:44:54.941756Z",
     "iopub.status.busy": "2021-05-17T04:44:54.941397Z",
     "iopub.status.idle": "2021-05-17T04:44:54.952941Z",
     "shell.execute_reply": "2021-05-17T04:44:54.952512Z"
    },
    "papermill": {
     "duration": 0.043534,
     "end_time": "2021-05-17T04:44:54.953022",
     "exception": false,
     "start_time": "2021-05-17T04:44:54.909488",
     "status": "completed"
    },
    "tags": []
   },
   "outputs": [],
   "source": [
    "_tmp0 = pd.DataFrame({\"lv\": lvs_increase, \"lv_set\": \"lipids-increasing\"})\n",
    "\n",
    "_tmp1 = pd.DataFrame({\"lv\": lvs_decrease, \"lv_set\": \"lipids-decreasing\"})"
   ]
  },
  {
   "cell_type": "code",
   "execution_count": 43,
   "id": "restricted-consciousness",
   "metadata": {
    "execution": {
     "iopub.execute_input": "2021-05-17T04:44:55.016783Z",
     "iopub.status.busy": "2021-05-17T04:44:55.016365Z",
     "iopub.status.idle": "2021-05-17T04:44:55.060771Z",
     "shell.execute_reply": "2021-05-17T04:44:55.060275Z"
    },
    "papermill": {
     "duration": 0.076744,
     "end_time": "2021-05-17T04:44:55.060879",
     "exception": false,
     "start_time": "2021-05-17T04:44:54.984135",
     "status": "completed"
    },
    "tags": []
   },
   "outputs": [],
   "source": [
    "gls_selected_lvs = pd.concat([_tmp0, _tmp1], ignore_index=True)"
   ]
  },
  {
   "cell_type": "code",
   "execution_count": 44,
   "id": "inner-fifth",
   "metadata": {
    "execution": {
     "iopub.execute_input": "2021-05-17T04:44:55.135714Z",
     "iopub.status.busy": "2021-05-17T04:44:55.135333Z",
     "iopub.status.idle": "2021-05-17T04:44:55.147104Z",
     "shell.execute_reply": "2021-05-17T04:44:55.146718Z"
    },
    "papermill": {
     "duration": 0.046732,
     "end_time": "2021-05-17T04:44:55.147192",
     "exception": false,
     "start_time": "2021-05-17T04:44:55.100460",
     "status": "completed"
    },
    "tags": []
   },
   "outputs": [
    {
     "data": {
      "text/plain": [
       "(51, 2)"
      ]
     },
     "execution_count": 44,
     "metadata": {},
     "output_type": "execute_result"
    }
   ],
   "source": [
    "gls_selected_lvs.shape"
   ]
  },
  {
   "cell_type": "code",
   "execution_count": 45,
   "id": "floating-burner",
   "metadata": {
    "execution": {
     "iopub.execute_input": "2021-05-17T04:44:55.212477Z",
     "iopub.status.busy": "2021-05-17T04:44:55.212125Z",
     "iopub.status.idle": "2021-05-17T04:44:55.225285Z",
     "shell.execute_reply": "2021-05-17T04:44:55.225556Z"
    },
    "papermill": {
     "duration": 0.046012,
     "end_time": "2021-05-17T04:44:55.225659",
     "exception": false,
     "start_time": "2021-05-17T04:44:55.179647",
     "status": "completed"
    },
    "tags": []
   },
   "outputs": [
    {
     "data": {
      "text/html": [
       "<div>\n",
       "<style scoped>\n",
       "    .dataframe tbody tr th:only-of-type {\n",
       "        vertical-align: middle;\n",
       "    }\n",
       "\n",
       "    .dataframe tbody tr th {\n",
       "        vertical-align: top;\n",
       "    }\n",
       "\n",
       "    .dataframe thead th {\n",
       "        text-align: right;\n",
       "    }\n",
       "</style>\n",
       "<table border=\"1\" class=\"dataframe\">\n",
       "  <thead>\n",
       "    <tr style=\"text-align: right;\">\n",
       "      <th></th>\n",
       "      <th>lv</th>\n",
       "      <th>lv_set</th>\n",
       "    </tr>\n",
       "  </thead>\n",
       "  <tbody>\n",
       "    <tr>\n",
       "      <th>0</th>\n",
       "      <td>LV707</td>\n",
       "      <td>lipids-increasing</td>\n",
       "    </tr>\n",
       "    <tr>\n",
       "      <th>1</th>\n",
       "      <td>LV905</td>\n",
       "      <td>lipids-increasing</td>\n",
       "    </tr>\n",
       "    <tr>\n",
       "      <th>2</th>\n",
       "      <td>LV915</td>\n",
       "      <td>lipids-increasing</td>\n",
       "    </tr>\n",
       "    <tr>\n",
       "      <th>3</th>\n",
       "      <td>LV750</td>\n",
       "      <td>lipids-increasing</td>\n",
       "    </tr>\n",
       "    <tr>\n",
       "      <th>4</th>\n",
       "      <td>LV341</td>\n",
       "      <td>lipids-increasing</td>\n",
       "    </tr>\n",
       "  </tbody>\n",
       "</table>\n",
       "</div>"
      ],
      "text/plain": [
       "      lv             lv_set\n",
       "0  LV707  lipids-increasing\n",
       "1  LV905  lipids-increasing\n",
       "2  LV915  lipids-increasing\n",
       "3  LV750  lipids-increasing\n",
       "4  LV341  lipids-increasing"
      ]
     },
     "execution_count": 45,
     "metadata": {},
     "output_type": "execute_result"
    }
   ],
   "source": [
    "gls_selected_lvs.head()"
   ]
  },
  {
   "cell_type": "markdown",
   "id": "august-dallas",
   "metadata": {
    "papermill": {
     "duration": 0.030636,
     "end_time": "2021-05-17T04:44:55.287778",
     "exception": false,
     "start_time": "2021-05-17T04:44:55.257142",
     "status": "completed"
    },
    "tags": []
   },
   "source": [
    "# Select traits from specific partition/cluster"
   ]
  },
  {
   "cell_type": "markdown",
   "id": "creative-interstate",
   "metadata": {
    "papermill": {
     "duration": 0.030636,
     "end_time": "2021-05-17T04:44:55.287778",
     "exception": false,
     "start_time": "2021-05-17T04:44:55.257142",
     "status": "completed"
    },
    "tags": []
   },
   "source": [
    "For this run on the LVs related to the lipids CRISPR analysis, I'm only interested in the main clusters of the cardiovascular sub-branch."
   ]
  },
  {
   "cell_type": "code",
   "execution_count": 46,
   "id": "civilian-terrorist",
   "metadata": {
    "execution": {
     "iopub.execute_input": "2021-05-17T04:44:55.351440Z",
     "iopub.status.busy": "2021-05-17T04:44:55.351085Z",
     "iopub.status.idle": "2021-05-17T04:44:55.361987Z",
     "shell.execute_reply": "2021-05-17T04:44:55.361633Z"
    },
    "papermill": {
     "duration": 0.043904,
     "end_time": "2021-05-17T04:44:55.362068",
     "exception": false,
     "start_time": "2021-05-17T04:44:55.318164",
     "status": "completed"
    },
    "tags": []
   },
   "outputs": [],
   "source": [
    "PHENOTYPES_CONFIG = [\n",
    "    # cardiovascular\n",
    "    (29, 14),\n",
    "    (29, 16),\n",
    "    (29, 11),\n",
    "    (29, 21),\n",
    "    (29, 17),\n",
    "]"
   ]
  },
  {
   "cell_type": "markdown",
   "id": "everyday-blink",
   "metadata": {
    "papermill": {
     "duration": 0.030465,
     "end_time": "2021-05-17T04:44:55.423499",
     "exception": false,
     "start_time": "2021-05-17T04:44:55.393034",
     "status": "completed"
    },
    "tags": []
   },
   "source": [
    "# GLSPhenoplier"
   ]
  },
  {
   "cell_type": "markdown",
   "id": "worst-partition",
   "metadata": {
    "papermill": {
     "duration": 0.030488,
     "end_time": "2021-05-17T04:44:55.484234",
     "exception": false,
     "start_time": "2021-05-17T04:44:55.453746",
     "status": "completed"
    },
    "tags": []
   },
   "source": [
    "## Get list of phenotypes/lvs pairs"
   ]
  },
  {
   "cell_type": "code",
   "execution_count": 47,
   "id": "royal-handling",
   "metadata": {
    "execution": {
     "iopub.execute_input": "2021-05-17T04:44:55.548251Z",
     "iopub.status.busy": "2021-05-17T04:44:55.547882Z",
     "iopub.status.idle": "2021-05-17T04:44:55.696701Z",
     "shell.execute_reply": "2021-05-17T04:44:55.696309Z"
    },
    "papermill": {
     "duration": 0.182107,
     "end_time": "2021-05-17T04:44:55.696852",
     "exception": false,
     "start_time": "2021-05-17T04:44:55.514745",
     "status": "completed"
    },
    "tags": []
   },
   "outputs": [],
   "source": [
    "phenotypes_lvs_pairs = []\n",
    "\n",
    "for part_k, cluster_id in PHENOTYPES_CONFIG:\n",
    "    # get traits from the partition/cluster\n",
    "    part = best_partitions.loc[part_k, \"partition\"]\n",
    "    cluster_traits = data.index[part == cluster_id]\n",
    "\n",
    "    for phenotype_code in cluster_traits:\n",
    "        for idx, lv_row in gls_selected_lvs.iterrows():\n",
    "            phenotypes_lvs_pairs.append(\n",
    "                {\n",
    "                    \"phenotype_part_k\": part_k,\n",
    "                    \"phenotype_cluster_id\": cluster_id,\n",
    "                    \"phenotype\": phenotype_code,\n",
    "                    \"lv\": lv_row[\"lv\"],\n",
    "                    \"lv_set\": lv_row[\"lv_set\"],\n",
    "                }\n",
    "            )\n",
    "\n",
    "phenotypes_lvs_pairs = pd.DataFrame(phenotypes_lvs_pairs).drop_duplicates()"
   ]
  },
  {
   "cell_type": "code",
   "execution_count": 48,
   "id": "hollywood-consumption",
   "metadata": {
    "execution": {
     "iopub.execute_input": "2021-05-17T04:44:55.761549Z",
     "iopub.status.busy": "2021-05-17T04:44:55.761192Z",
     "iopub.status.idle": "2021-05-17T04:44:55.773521Z",
     "shell.execute_reply": "2021-05-17T04:44:55.773150Z"
    },
    "papermill": {
     "duration": 0.045536,
     "end_time": "2021-05-17T04:44:55.773604",
     "exception": false,
     "start_time": "2021-05-17T04:44:55.728068",
     "status": "completed"
    },
    "tags": []
   },
   "outputs": [],
   "source": [
    "phenotypes_lvs_pairs = phenotypes_lvs_pairs.sort_values(\n",
    "    [\"phenotype\", \"lv\"]\n",
    ").reset_index(drop=True)"
   ]
  },
  {
   "cell_type": "code",
   "execution_count": 49,
   "id": "neither-parent",
   "metadata": {
    "execution": {
     "iopub.execute_input": "2021-05-17T04:44:55.838213Z",
     "iopub.status.busy": "2021-05-17T04:44:55.837856Z",
     "iopub.status.idle": "2021-05-17T04:44:55.849299Z",
     "shell.execute_reply": "2021-05-17T04:44:55.848937Z"
    },
    "papermill": {
     "duration": 0.04419,
     "end_time": "2021-05-17T04:44:55.849381",
     "exception": false,
     "start_time": "2021-05-17T04:44:55.805191",
     "status": "completed"
    },
    "tags": []
   },
   "outputs": [
    {
     "data": {
      "text/plain": [
       "(2142, 5)"
      ]
     },
     "execution_count": 49,
     "metadata": {},
     "output_type": "execute_result"
    }
   ],
   "source": [
    "phenotypes_lvs_pairs.shape"
   ]
  },
  {
   "cell_type": "code",
   "execution_count": 50,
   "id": "distinguished-mercy",
   "metadata": {
    "execution": {
     "iopub.execute_input": "2021-05-17T04:44:55.914031Z",
     "iopub.status.busy": "2021-05-17T04:44:55.913672Z",
     "iopub.status.idle": "2021-05-17T04:44:55.928116Z",
     "shell.execute_reply": "2021-05-17T04:44:55.927732Z"
    },
    "papermill": {
     "duration": 0.047299,
     "end_time": "2021-05-17T04:44:55.928201",
     "exception": false,
     "start_time": "2021-05-17T04:44:55.880902",
     "status": "completed"
    },
    "tags": []
   },
   "outputs": [
    {
     "data": {
      "text/html": [
       "<div>\n",
       "<style scoped>\n",
       "    .dataframe tbody tr th:only-of-type {\n",
       "        vertical-align: middle;\n",
       "    }\n",
       "\n",
       "    .dataframe tbody tr th {\n",
       "        vertical-align: top;\n",
       "    }\n",
       "\n",
       "    .dataframe thead th {\n",
       "        text-align: right;\n",
       "    }\n",
       "</style>\n",
       "<table border=\"1\" class=\"dataframe\">\n",
       "  <thead>\n",
       "    <tr style=\"text-align: right;\">\n",
       "      <th></th>\n",
       "      <th>phenotype_part_k</th>\n",
       "      <th>phenotype_cluster_id</th>\n",
       "      <th>phenotype</th>\n",
       "      <th>lv</th>\n",
       "      <th>lv_set</th>\n",
       "    </tr>\n",
       "  </thead>\n",
       "  <tbody>\n",
       "    <tr>\n",
       "      <th>0</th>\n",
       "      <td>29</td>\n",
       "      <td>17</td>\n",
       "      <td>20003_1140861958-Treatmentmedication_code_simv...</td>\n",
       "      <td>LV120</td>\n",
       "      <td>lipids-increasing</td>\n",
       "    </tr>\n",
       "    <tr>\n",
       "      <th>1</th>\n",
       "      <td>29</td>\n",
       "      <td>17</td>\n",
       "      <td>20003_1140861958-Treatmentmedication_code_simv...</td>\n",
       "      <td>LV122</td>\n",
       "      <td>lipids-increasing</td>\n",
       "    </tr>\n",
       "    <tr>\n",
       "      <th>2</th>\n",
       "      <td>29</td>\n",
       "      <td>17</td>\n",
       "      <td>20003_1140861958-Treatmentmedication_code_simv...</td>\n",
       "      <td>LV131</td>\n",
       "      <td>lipids-decreasing</td>\n",
       "    </tr>\n",
       "    <tr>\n",
       "      <th>3</th>\n",
       "      <td>29</td>\n",
       "      <td>17</td>\n",
       "      <td>20003_1140861958-Treatmentmedication_code_simv...</td>\n",
       "      <td>LV157</td>\n",
       "      <td>lipids-decreasing</td>\n",
       "    </tr>\n",
       "    <tr>\n",
       "      <th>4</th>\n",
       "      <td>29</td>\n",
       "      <td>17</td>\n",
       "      <td>20003_1140861958-Treatmentmedication_code_simv...</td>\n",
       "      <td>LV199</td>\n",
       "      <td>lipids-decreasing</td>\n",
       "    </tr>\n",
       "  </tbody>\n",
       "</table>\n",
       "</div>"
      ],
      "text/plain": [
       "   phenotype_part_k  phenotype_cluster_id  \\\n",
       "0                29                    17   \n",
       "1                29                    17   \n",
       "2                29                    17   \n",
       "3                29                    17   \n",
       "4                29                    17   \n",
       "\n",
       "                                           phenotype     lv             lv_set  \n",
       "0  20003_1140861958-Treatmentmedication_code_simv...  LV120  lipids-increasing  \n",
       "1  20003_1140861958-Treatmentmedication_code_simv...  LV122  lipids-increasing  \n",
       "2  20003_1140861958-Treatmentmedication_code_simv...  LV131  lipids-decreasing  \n",
       "3  20003_1140861958-Treatmentmedication_code_simv...  LV157  lipids-decreasing  \n",
       "4  20003_1140861958-Treatmentmedication_code_simv...  LV199  lipids-decreasing  "
      ]
     },
     "execution_count": 50,
     "metadata": {},
     "output_type": "execute_result"
    }
   ],
   "source": [
    "phenotypes_lvs_pairs.head()"
   ]
  },
  {
   "cell_type": "markdown",
   "id": "joined-salvation",
   "metadata": {
    "papermill": {
     "duration": 0.031654,
     "end_time": "2021-05-17T04:44:55.993479",
     "exception": false,
     "start_time": "2021-05-17T04:44:55.961825",
     "status": "completed"
    },
    "tags": []
   },
   "source": [
    "## Run"
   ]
  },
  {
   "cell_type": "code",
   "execution_count": 51,
   "id": "federal-birthday",
   "metadata": {
    "execution": {
     "iopub.execute_input": "2021-05-17T04:44:56.058612Z",
     "iopub.status.busy": "2021-05-17T04:44:56.058257Z",
     "iopub.status.idle": "2021-05-17T04:44:56.069285Z",
     "shell.execute_reply": "2021-05-17T04:44:56.069555Z"
    },
    "papermill": {
     "duration": 0.044782,
     "end_time": "2021-05-17T04:44:56.069655",
     "exception": false,
     "start_time": "2021-05-17T04:44:56.024873",
     "status": "completed"
    },
    "tags": []
   },
   "outputs": [
    {
     "data": {
      "text/plain": [
       "PosixPath('/home/miltondp/projects/labs/greenelab/phenoplier/base/results/gls/gls_phenotypes-crispr_lvs.pkl')"
      ]
     },
     "metadata": {},
     "output_type": "display_data"
    }
   ],
   "source": [
    "output_file = OUTPUT_DIR / \"gls_phenotypes-crispr_lvs.pkl\"\n",
    "display(output_file)"
   ]
  },
  {
   "cell_type": "code",
   "execution_count": 52,
   "id": "generic-track",
   "metadata": {
    "execution": {
     "iopub.execute_input": "2021-05-17T04:44:56.137250Z",
     "iopub.status.busy": "2021-05-17T04:44:56.136866Z",
     "iopub.status.idle": "2021-05-17T10:17:12.177156Z",
     "shell.execute_reply": "2021-05-17T10:17:12.177468Z"
    },
    "papermill": {
     "duration": 19936.075822,
     "end_time": "2021-05-17T10:17:12.177582",
     "exception": false,
     "start_time": "2021-05-17T04:44:56.101760",
     "status": "completed"
    },
    "tags": []
   },
   "outputs": [
    {
     "name": "stderr",
     "output_type": "stream",
     "text": [
      "schizophrenia - LV99: 100%|██████████| 2142/2142 [5:32:16<00:00,  9.31s/it]\n"
     ]
    }
   ],
   "source": [
    "results = []\n",
    "\n",
    "pbar = tqdm(total=phenotypes_lvs_pairs.shape[0])\n",
    "\n",
    "for idx, row in phenotypes_lvs_pairs.iterrows():\n",
    "    phenotype_code = row[\"phenotype\"]\n",
    "    lv_code = row[\"lv\"]\n",
    "\n",
    "    pbar.set_description(f\"{phenotype_code} - {lv_code}\")\n",
    "\n",
    "    gls_model = GLSPhenoplier(\n",
    "        smultixcan_result_set_filepath=conf.PHENOMEXCAN[\n",
    "            \"SMULTIXCAN_EFO_PARTIAL_MASHR_ZSCORES_FILE\"\n",
    "        ]\n",
    "    )\n",
    "    gls_model.fit_named(lv_code, phenotype_code)\n",
    "    res = gls_model.results\n",
    "\n",
    "    results.append(\n",
    "        {\n",
    "            \"part_k\": row[\"phenotype_part_k\"],\n",
    "            \"cluster_id\": row[\"phenotype_cluster_id\"],\n",
    "            \"phenotype\": phenotype_code,\n",
    "            \"lv\": lv_code,\n",
    "            \"lv_set\": row[\"lv_set\"],\n",
    "            \"lv_with_pathway\": lv_code in well_aligned_lv_codes,\n",
    "            \"coef\": res.params.loc[\"lv\"],\n",
    "            \"pvalue\": res.pvalues.loc[\"lv\"],\n",
    "            \"summary\": gls_model.results_summary,\n",
    "        }\n",
    "    )\n",
    "\n",
    "    # save results every 10 models trained\n",
    "    if (idx % 10) == 0:\n",
    "        pd.DataFrame(results).to_pickle(output_file)\n",
    "\n",
    "    pbar.update(1)\n",
    "\n",
    "pbar.close()"
   ]
  },
  {
   "cell_type": "code",
   "execution_count": 53,
   "id": "instructional-parameter",
   "metadata": {
    "execution": {
     "iopub.execute_input": "2021-05-17T10:17:13.575613Z",
     "iopub.status.busy": "2021-05-17T10:17:13.575230Z",
     "iopub.status.idle": "2021-05-17T10:17:13.591699Z",
     "shell.execute_reply": "2021-05-17T10:17:13.592013Z"
    },
    "papermill": {
     "duration": 0.723255,
     "end_time": "2021-05-17T10:17:13.592132",
     "exception": false,
     "start_time": "2021-05-17T10:17:12.868877",
     "status": "completed"
    },
    "tags": []
   },
   "outputs": [],
   "source": [
    "results = pd.DataFrame(results)"
   ]
  },
  {
   "cell_type": "code",
   "execution_count": 54,
   "id": "moderate-boards",
   "metadata": {
    "execution": {
     "iopub.execute_input": "2021-05-17T10:17:15.000078Z",
     "iopub.status.busy": "2021-05-17T10:17:14.999645Z",
     "iopub.status.idle": "2021-05-17T10:17:15.011223Z",
     "shell.execute_reply": "2021-05-17T10:17:15.011522Z"
    },
    "papermill": {
     "duration": 0.711047,
     "end_time": "2021-05-17T10:17:15.011632",
     "exception": false,
     "start_time": "2021-05-17T10:17:14.300585",
     "status": "completed"
    },
    "tags": []
   },
   "outputs": [
    {
     "data": {
      "text/plain": [
       "(2142, 9)"
      ]
     },
     "execution_count": 54,
     "metadata": {},
     "output_type": "execute_result"
    }
   ],
   "source": [
    "results.shape"
   ]
  },
  {
   "cell_type": "code",
   "execution_count": 55,
   "id": "vulnerable-congress",
   "metadata": {
    "execution": {
     "iopub.execute_input": "2021-05-17T10:17:16.491792Z",
     "iopub.status.busy": "2021-05-17T10:17:16.491349Z",
     "iopub.status.idle": "2021-05-17T10:17:16.524414Z",
     "shell.execute_reply": "2021-05-17T10:17:16.524050Z"
    },
    "papermill": {
     "duration": 0.743959,
     "end_time": "2021-05-17T10:17:16.524498",
     "exception": false,
     "start_time": "2021-05-17T10:17:15.780539",
     "status": "completed"
    },
    "tags": []
   },
   "outputs": [
    {
     "data": {
      "text/html": [
       "<div>\n",
       "<style scoped>\n",
       "    .dataframe tbody tr th:only-of-type {\n",
       "        vertical-align: middle;\n",
       "    }\n",
       "\n",
       "    .dataframe tbody tr th {\n",
       "        vertical-align: top;\n",
       "    }\n",
       "\n",
       "    .dataframe thead th {\n",
       "        text-align: right;\n",
       "    }\n",
       "</style>\n",
       "<table border=\"1\" class=\"dataframe\">\n",
       "  <thead>\n",
       "    <tr style=\"text-align: right;\">\n",
       "      <th></th>\n",
       "      <th>part_k</th>\n",
       "      <th>cluster_id</th>\n",
       "      <th>phenotype</th>\n",
       "      <th>lv</th>\n",
       "      <th>lv_set</th>\n",
       "      <th>lv_with_pathway</th>\n",
       "      <th>coef</th>\n",
       "      <th>pvalue</th>\n",
       "      <th>summary</th>\n",
       "    </tr>\n",
       "  </thead>\n",
       "  <tbody>\n",
       "    <tr>\n",
       "      <th>0</th>\n",
       "      <td>29</td>\n",
       "      <td>17</td>\n",
       "      <td>20003_1140861958-Treatmentmedication_code_simv...</td>\n",
       "      <td>LV120</td>\n",
       "      <td>lipids-increasing</td>\n",
       "      <td>False</td>\n",
       "      <td>0.011685</td>\n",
       "      <td>0.345237</td>\n",
       "      <td>GLS Regression Res...</td>\n",
       "    </tr>\n",
       "    <tr>\n",
       "      <th>1</th>\n",
       "      <td>29</td>\n",
       "      <td>17</td>\n",
       "      <td>20003_1140861958-Treatmentmedication_code_simv...</td>\n",
       "      <td>LV122</td>\n",
       "      <td>lipids-increasing</td>\n",
       "      <td>False</td>\n",
       "      <td>-0.004370</td>\n",
       "      <td>0.723659</td>\n",
       "      <td>GLS Regression Res...</td>\n",
       "    </tr>\n",
       "    <tr>\n",
       "      <th>2</th>\n",
       "      <td>29</td>\n",
       "      <td>17</td>\n",
       "      <td>20003_1140861958-Treatmentmedication_code_simv...</td>\n",
       "      <td>LV131</td>\n",
       "      <td>lipids-decreasing</td>\n",
       "      <td>False</td>\n",
       "      <td>-0.000511</td>\n",
       "      <td>0.966819</td>\n",
       "      <td>GLS Regression Res...</td>\n",
       "    </tr>\n",
       "    <tr>\n",
       "      <th>3</th>\n",
       "      <td>29</td>\n",
       "      <td>17</td>\n",
       "      <td>20003_1140861958-Treatmentmedication_code_simv...</td>\n",
       "      <td>LV157</td>\n",
       "      <td>lipids-decreasing</td>\n",
       "      <td>False</td>\n",
       "      <td>0.010968</td>\n",
       "      <td>0.352087</td>\n",
       "      <td>GLS Regression Res...</td>\n",
       "    </tr>\n",
       "    <tr>\n",
       "      <th>4</th>\n",
       "      <td>29</td>\n",
       "      <td>17</td>\n",
       "      <td>20003_1140861958-Treatmentmedication_code_simv...</td>\n",
       "      <td>LV199</td>\n",
       "      <td>lipids-decreasing</td>\n",
       "      <td>False</td>\n",
       "      <td>-0.009505</td>\n",
       "      <td>0.435201</td>\n",
       "      <td>GLS Regression Res...</td>\n",
       "    </tr>\n",
       "  </tbody>\n",
       "</table>\n",
       "</div>"
      ],
      "text/plain": [
       "   part_k  cluster_id                                          phenotype  \\\n",
       "0      29          17  20003_1140861958-Treatmentmedication_code_simv...   \n",
       "1      29          17  20003_1140861958-Treatmentmedication_code_simv...   \n",
       "2      29          17  20003_1140861958-Treatmentmedication_code_simv...   \n",
       "3      29          17  20003_1140861958-Treatmentmedication_code_simv...   \n",
       "4      29          17  20003_1140861958-Treatmentmedication_code_simv...   \n",
       "\n",
       "      lv             lv_set  lv_with_pathway      coef    pvalue  \\\n",
       "0  LV120  lipids-increasing            False  0.011685  0.345237   \n",
       "1  LV122  lipids-increasing            False -0.004370  0.723659   \n",
       "2  LV131  lipids-decreasing            False -0.000511  0.966819   \n",
       "3  LV157  lipids-decreasing            False  0.010968  0.352087   \n",
       "4  LV199  lipids-decreasing            False -0.009505  0.435201   \n",
       "\n",
       "                                             summary  \n",
       "0                              GLS Regression Res...  \n",
       "1                              GLS Regression Res...  \n",
       "2                              GLS Regression Res...  \n",
       "3                              GLS Regression Res...  \n",
       "4                              GLS Regression Res...  "
      ]
     },
     "execution_count": 55,
     "metadata": {},
     "output_type": "execute_result"
    }
   ],
   "source": [
    "results.head()"
   ]
  },
  {
   "cell_type": "code",
   "execution_count": 56,
   "id": "honest-color",
   "metadata": {
    "execution": {
     "iopub.execute_input": "2021-05-17T10:17:17.940551Z",
     "iopub.status.busy": "2021-05-17T10:17:17.940172Z",
     "iopub.status.idle": "2021-05-17T10:17:17.989791Z",
     "shell.execute_reply": "2021-05-17T10:17:17.989473Z"
    },
    "papermill": {
     "duration": 0.757243,
     "end_time": "2021-05-17T10:17:17.989875",
     "exception": false,
     "start_time": "2021-05-17T10:17:17.232632",
     "status": "completed"
    },
    "tags": []
   },
   "outputs": [
    {
     "data": {
      "text/html": [
       "<div>\n",
       "<style scoped>\n",
       "    .dataframe tbody tr th:only-of-type {\n",
       "        vertical-align: middle;\n",
       "    }\n",
       "\n",
       "    .dataframe tbody tr th {\n",
       "        vertical-align: top;\n",
       "    }\n",
       "\n",
       "    .dataframe thead th {\n",
       "        text-align: right;\n",
       "    }\n",
       "</style>\n",
       "<table border=\"1\" class=\"dataframe\">\n",
       "  <thead>\n",
       "    <tr style=\"text-align: right;\">\n",
       "      <th></th>\n",
       "      <th>part_k</th>\n",
       "      <th>cluster_id</th>\n",
       "      <th>phenotype</th>\n",
       "      <th>lv</th>\n",
       "      <th>lv_set</th>\n",
       "      <th>lv_with_pathway</th>\n",
       "      <th>coef</th>\n",
       "      <th>pvalue</th>\n",
       "      <th>summary</th>\n",
       "    </tr>\n",
       "  </thead>\n",
       "  <tbody>\n",
       "    <tr>\n",
       "      <th>1076</th>\n",
       "      <td>29</td>\n",
       "      <td>16</td>\n",
       "      <td>MAGNETIC_CH2.DB.ratio</td>\n",
       "      <td>LV246</td>\n",
       "      <td>lipids-increasing</td>\n",
       "      <td>True</td>\n",
       "      <td>0.095366</td>\n",
       "      <td>4.367864e-14</td>\n",
       "      <td>GLS Regression Res...</td>\n",
       "    </tr>\n",
       "    <tr>\n",
       "      <th>2100</th>\n",
       "      <td>29</td>\n",
       "      <td>21</td>\n",
       "      <td>schizophrenia</td>\n",
       "      <td>LV343</td>\n",
       "      <td>lipids-decreasing</td>\n",
       "      <td>False</td>\n",
       "      <td>0.070336</td>\n",
       "      <td>2.776184e-09</td>\n",
       "      <td>GLS Regression Res...</td>\n",
       "    </tr>\n",
       "    <tr>\n",
       "      <th>1841</th>\n",
       "      <td>29</td>\n",
       "      <td>17</td>\n",
       "      <td>hypercholesterolemia</td>\n",
       "      <td>LV246</td>\n",
       "      <td>lipids-increasing</td>\n",
       "      <td>True</td>\n",
       "      <td>0.066665</td>\n",
       "      <td>7.345126e-08</td>\n",
       "      <td>GLS Regression Res...</td>\n",
       "    </tr>\n",
       "    <tr>\n",
       "      <th>485</th>\n",
       "      <td>29</td>\n",
       "      <td>17</td>\n",
       "      <td>6153_2-Medication_for_cholesterol_blood_pressu...</td>\n",
       "      <td>LV515</td>\n",
       "      <td>lipids-decreasing</td>\n",
       "      <td>False</td>\n",
       "      <td>0.058867</td>\n",
       "      <td>6.597838e-06</td>\n",
       "      <td>GLS Regression Res...</td>\n",
       "    </tr>\n",
       "    <tr>\n",
       "      <th>484</th>\n",
       "      <td>29</td>\n",
       "      <td>17</td>\n",
       "      <td>6153_2-Medication_for_cholesterol_blood_pressu...</td>\n",
       "      <td>LV515</td>\n",
       "      <td>lipids-increasing</td>\n",
       "      <td>False</td>\n",
       "      <td>0.058867</td>\n",
       "      <td>6.597838e-06</td>\n",
       "      <td>GLS Regression Res...</td>\n",
       "    </tr>\n",
       "    <tr>\n",
       "      <th>1990</th>\n",
       "      <td>29</td>\n",
       "      <td>21</td>\n",
       "      <td>intracranial volume measurement</td>\n",
       "      <td>LV122</td>\n",
       "      <td>lipids-increasing</td>\n",
       "      <td>False</td>\n",
       "      <td>0.053315</td>\n",
       "      <td>1.596939e-05</td>\n",
       "      <td>GLS Regression Res...</td>\n",
       "    </tr>\n",
       "    <tr>\n",
       "      <th>76</th>\n",
       "      <td>29</td>\n",
       "      <td>17</td>\n",
       "      <td>20003_1141194794-Treatmentmedication_code_bend...</td>\n",
       "      <td>LV515</td>\n",
       "      <td>lipids-increasing</td>\n",
       "      <td>False</td>\n",
       "      <td>0.055429</td>\n",
       "      <td>2.056990e-05</td>\n",
       "      <td>GLS Regression Res...</td>\n",
       "    </tr>\n",
       "    <tr>\n",
       "      <th>77</th>\n",
       "      <td>29</td>\n",
       "      <td>17</td>\n",
       "      <td>20003_1141194794-Treatmentmedication_code_bend...</td>\n",
       "      <td>LV515</td>\n",
       "      <td>lipids-decreasing</td>\n",
       "      <td>False</td>\n",
       "      <td>0.055429</td>\n",
       "      <td>2.056990e-05</td>\n",
       "      <td>GLS Regression Res...</td>\n",
       "    </tr>\n",
       "    <tr>\n",
       "      <th>1127</th>\n",
       "      <td>29</td>\n",
       "      <td>16</td>\n",
       "      <td>MAGNETIC_HDL.C</td>\n",
       "      <td>LV246</td>\n",
       "      <td>lipids-increasing</td>\n",
       "      <td>True</td>\n",
       "      <td>0.050872</td>\n",
       "      <td>4.192172e-05</td>\n",
       "      <td>GLS Regression Res...</td>\n",
       "    </tr>\n",
       "    <tr>\n",
       "      <th>362</th>\n",
       "      <td>29</td>\n",
       "      <td>17</td>\n",
       "      <td>6153_1-Medication_for_cholesterol_blood_pressu...</td>\n",
       "      <td>LV246</td>\n",
       "      <td>lipids-increasing</td>\n",
       "      <td>True</td>\n",
       "      <td>0.050766</td>\n",
       "      <td>4.358819e-05</td>\n",
       "      <td>GLS Regression Res...</td>\n",
       "    </tr>\n",
       "  </tbody>\n",
       "</table>\n",
       "</div>"
      ],
      "text/plain": [
       "      part_k  cluster_id                                          phenotype  \\\n",
       "1076      29          16                              MAGNETIC_CH2.DB.ratio   \n",
       "2100      29          21                                      schizophrenia   \n",
       "1841      29          17                               hypercholesterolemia   \n",
       "485       29          17  6153_2-Medication_for_cholesterol_blood_pressu...   \n",
       "484       29          17  6153_2-Medication_for_cholesterol_blood_pressu...   \n",
       "1990      29          21                    intracranial volume measurement   \n",
       "76        29          17  20003_1141194794-Treatmentmedication_code_bend...   \n",
       "77        29          17  20003_1141194794-Treatmentmedication_code_bend...   \n",
       "1127      29          16                                     MAGNETIC_HDL.C   \n",
       "362       29          17  6153_1-Medication_for_cholesterol_blood_pressu...   \n",
       "\n",
       "         lv             lv_set  lv_with_pathway      coef        pvalue  \\\n",
       "1076  LV246  lipids-increasing             True  0.095366  4.367864e-14   \n",
       "2100  LV343  lipids-decreasing            False  0.070336  2.776184e-09   \n",
       "1841  LV246  lipids-increasing             True  0.066665  7.345126e-08   \n",
       "485   LV515  lipids-decreasing            False  0.058867  6.597838e-06   \n",
       "484   LV515  lipids-increasing            False  0.058867  6.597838e-06   \n",
       "1990  LV122  lipids-increasing            False  0.053315  1.596939e-05   \n",
       "76    LV515  lipids-increasing            False  0.055429  2.056990e-05   \n",
       "77    LV515  lipids-decreasing            False  0.055429  2.056990e-05   \n",
       "1127  LV246  lipids-increasing             True  0.050872  4.192172e-05   \n",
       "362   LV246  lipids-increasing             True  0.050766  4.358819e-05   \n",
       "\n",
       "                                                summary  \n",
       "1076                              GLS Regression Res...  \n",
       "2100                              GLS Regression Res...  \n",
       "1841                              GLS Regression Res...  \n",
       "485                               GLS Regression Res...  \n",
       "484                               GLS Regression Res...  \n",
       "1990                              GLS Regression Res...  \n",
       "76                                GLS Regression Res...  \n",
       "77                                GLS Regression Res...  \n",
       "1127                              GLS Regression Res...  \n",
       "362                               GLS Regression Res...  "
      ]
     },
     "execution_count": 56,
     "metadata": {},
     "output_type": "execute_result"
    }
   ],
   "source": [
    "results.sort_values(\"pvalue\").head(10)"
   ]
  },
  {
   "cell_type": "markdown",
   "id": "affiliated-craft",
   "metadata": {
    "papermill": {
     "duration": 0.706945,
     "end_time": "2021-05-17T10:17:19.399297",
     "exception": false,
     "start_time": "2021-05-17T10:17:18.692352",
     "status": "completed"
    },
    "tags": []
   },
   "source": [
    "## Save"
   ]
  },
  {
   "cell_type": "code",
   "execution_count": 57,
   "id": "caroline-tablet",
   "metadata": {
    "execution": {
     "iopub.execute_input": "2021-05-17T10:17:20.802343Z",
     "iopub.status.busy": "2021-05-17T10:17:20.801888Z",
     "iopub.status.idle": "2021-05-17T10:17:21.338155Z",
     "shell.execute_reply": "2021-05-17T10:17:21.336858Z"
    },
    "papermill": {
     "duration": 1.242617,
     "end_time": "2021-05-17T10:17:21.338470",
     "exception": false,
     "start_time": "2021-05-17T10:17:20.095853",
     "status": "completed"
    },
    "tags": []
   },
   "outputs": [],
   "source": [
    "results.to_pickle(output_file)"
   ]
  },
  {
   "cell_type": "code",
   "execution_count": null,
   "id": "labeled-ability",
   "metadata": {
    "papermill": {
     "duration": 0.710995,
     "end_time": "2021-05-17T10:17:22.801096",
     "exception": false,
     "start_time": "2021-05-17T10:17:22.090101",
     "status": "completed"
    },
    "tags": []
   },
   "outputs": [],
   "source": []
  }
 ],
 "metadata": {
  "jupytext": {
   "cell_metadata_filter": "all,-execution,-papermill,-trusted",
   "formats": "ipynb,py//py:percent"
  },
  "kernelspec": {
   "display_name": "Python 3",
   "language": "python",
   "name": "python3"
  },
  "language_info": {
   "codemirror_mode": {
    "name": "ipython",
    "version": 3
   },
   "file_extension": ".py",
   "mimetype": "text/x-python",
   "name": "python",
   "nbconvert_exporter": "python",
   "pygments_lexer": "ipython3",
   "version": "3.8.8"
  },
  "papermill": {
   "default_parameters": {},
   "duration": 19955.507241,
   "end_time": "2021-05-17T10:17:25.077704",
   "environment_variables": {},
   "exception": null,
   "input_path": "08_gsa_gls/40-gls_on_lipids_lvs-phenomexcan.ipynb",
   "output_path": "08_gsa_gls/40-gls_on_lipids_lvs-phenomexcan.run.ipynb",
   "parameters": {},
   "start_time": "2021-05-17T04:44:49.570463",
   "version": "2.2.2"
  }
 },
 "nbformat": 4,
 "nbformat_minor": 5
}
