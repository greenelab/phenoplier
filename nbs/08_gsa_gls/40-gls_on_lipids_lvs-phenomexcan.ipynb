{
 "cells": [
  {
   "cell_type": "markdown",
   "id": "polar-homeless",
   "metadata": {
    "papermill": {
     "duration": 0.060441,
     "end_time": "2021-07-16T16:30:41.969792",
     "exception": false,
     "start_time": "2021-07-16T16:30:41.909351",
     "status": "completed"
    },
    "tags": []
   },
   "source": [
    "# Description"
   ]
  },
  {
   "cell_type": "markdown",
   "id": "excited-telephone",
   "metadata": {
    "papermill": {
     "duration": 0.022865,
     "end_time": "2021-07-16T16:30:42.016009",
     "exception": false,
     "start_time": "2021-07-16T16:30:41.993144",
     "status": "completed"
    },
    "tags": []
   },
   "source": [
    "This notebook is similar to `30` and `35`, but here I use the LVs that we found to be significantly enriched for the lipids CRISPR analysis, which might or might not coincide with the previously used LVs (those that discriminate clusters).\n",
    "The traits here are from PhenomeXcan."
   ]
  },
  {
   "cell_type": "markdown",
   "id": "printable-disability",
   "metadata": {
    "papermill": {
     "duration": 0.023089,
     "end_time": "2021-07-16T16:30:42.061819",
     "exception": false,
     "start_time": "2021-07-16T16:30:42.038730",
     "status": "completed"
    },
    "tags": []
   },
   "source": [
    "# Environment variables"
   ]
  },
  {
   "cell_type": "code",
   "execution_count": null,
   "id": "durable-egyptian",
   "metadata": {
    "papermill": {
     "duration": 0.035627,
     "end_time": "2021-07-16T16:30:42.120257",
     "exception": false,
     "start_time": "2021-07-16T16:30:42.084630",
     "status": "completed"
    },
    "tags": []
   },
   "outputs": [],
   "source": [
    "%load_ext autoreload\n",
    "%autoreload 2"
   ]
  },
  {
   "cell_type": "code",
   "execution_count": null,
   "id": "nonprofit-notebook",
   "metadata": {
    "papermill": {
     "duration": 0.037586,
     "end_time": "2021-07-16T16:30:42.183115",
     "exception": false,
     "start_time": "2021-07-16T16:30:42.145529",
     "status": "completed"
    },
    "tags": []
   },
   "outputs": [],
   "source": [
    "import conf"
   ]
  },
  {
   "cell_type": "code",
   "execution_count": null,
   "id": "activated-consultation",
   "metadata": {
    "papermill": {
     "duration": 0.035654,
     "end_time": "2021-07-16T16:30:42.243305",
     "exception": false,
     "start_time": "2021-07-16T16:30:42.207651",
     "status": "completed"
    },
    "tags": []
   },
   "outputs": [],
   "source": [
    "N_JOBS = conf.GENERAL[\"N_JOBS\"]\n",
    "display(N_JOBS)"
   ]
  },
  {
   "cell_type": "code",
   "execution_count": null,
   "id": "persistent-trust",
   "metadata": {
    "papermill": {
     "duration": 0.034147,
     "end_time": "2021-07-16T16:30:42.301648",
     "exception": false,
     "start_time": "2021-07-16T16:30:42.267501",
     "status": "completed"
    },
    "tags": []
   },
   "outputs": [],
   "source": [
    "%env MKL_NUM_THREADS=$N_JOBS\n",
    "%env OPEN_BLAS_NUM_THREADS=$N_JOBS\n",
    "%env NUMEXPR_NUM_THREADS=$N_JOBS\n",
    "%env OMP_NUM_THREADS=$N_JOBS"
   ]
  },
  {
   "cell_type": "markdown",
   "id": "systematic-indonesia",
   "metadata": {
    "papermill": {
     "duration": 0.023666,
     "end_time": "2021-07-16T16:30:42.349421",
     "exception": false,
     "start_time": "2021-07-16T16:30:42.325755",
     "status": "completed"
    },
    "tags": []
   },
   "source": [
    "# Modules"
   ]
  },
  {
   "cell_type": "code",
   "execution_count": null,
   "id": "supreme-financing",
   "metadata": {
    "papermill": {
     "duration": 0.786189,
     "end_time": "2021-07-16T16:30:43.159155",
     "exception": false,
     "start_time": "2021-07-16T16:30:42.372966",
     "status": "completed"
    },
    "tags": []
   },
   "outputs": [],
   "source": [
    "from pathlib import Path\n",
    "\n",
    "import pandas as pd\n",
    "from tqdm import tqdm\n",
    "\n",
    "from gls import GLSPhenoplier"
   ]
  },
  {
   "cell_type": "markdown",
   "id": "comprehensive-fleece",
   "metadata": {
    "papermill": {
     "duration": 0.023583,
     "end_time": "2021-07-16T16:30:43.210400",
     "exception": false,
     "start_time": "2021-07-16T16:30:43.186817",
     "status": "completed"
    },
    "tags": []
   },
   "source": [
    "# Settings"
   ]
  },
  {
   "cell_type": "code",
   "execution_count": null,
   "id": "material-scottish",
   "metadata": {
    "papermill": {
     "duration": 0.038466,
     "end_time": "2021-07-16T16:30:43.272306",
     "exception": false,
     "start_time": "2021-07-16T16:30:43.233840",
     "status": "completed"
    },
    "tags": []
   },
   "outputs": [],
   "source": [
    "OUTPUT_DIR = conf.RESULTS[\"GLS\"]\n",
    "display(OUTPUT_DIR)\n",
    "\n",
    "OUTPUT_DIR.mkdir(exist_ok=True, parents=True)"
   ]
  },
  {
   "cell_type": "code",
   "execution_count": null,
   "id": "empty-indian",
   "metadata": {
    "papermill": {
     "duration": 0.037897,
     "end_time": "2021-07-16T16:30:43.336092",
     "exception": false,
     "start_time": "2021-07-16T16:30:43.298195",
     "status": "completed"
    },
    "tags": []
   },
   "outputs": [],
   "source": [
    "OUTPUT_FILENAME = OUTPUT_DIR / \"gls_phenotypes-crispr_lvs-phenomexcan.pkl\"\n",
    "display(OUTPUT_FILENAME)"
   ]
  },
  {
   "cell_type": "markdown",
   "id": "miniature-knock",
   "metadata": {
    "papermill": {
     "duration": 0.024284,
     "end_time": "2021-07-16T16:30:43.384778",
     "exception": false,
     "start_time": "2021-07-16T16:30:43.360494",
     "status": "completed"
    },
    "tags": []
   },
   "source": [
    "# Load data"
   ]
  },
  {
   "cell_type": "markdown",
   "id": "removable-biotechnology",
   "metadata": {
    "papermill": {
     "duration": 0.024045,
     "end_time": "2021-07-16T16:30:43.433201",
     "exception": false,
     "start_time": "2021-07-16T16:30:43.409156",
     "status": "completed"
    },
    "tags": []
   },
   "source": [
    "## PhenomeXcan (S-MultiXcan)"
   ]
  },
  {
   "cell_type": "code",
   "execution_count": null,
   "id": "streaming-integrity",
   "metadata": {
    "papermill": {
     "duration": 0.037716,
     "end_time": "2021-07-16T16:30:43.494947",
     "exception": false,
     "start_time": "2021-07-16T16:30:43.457231",
     "status": "completed"
    },
    "tags": []
   },
   "outputs": [],
   "source": [
    "INPUT_SUBSET = \"z_score_std\""
   ]
  },
  {
   "cell_type": "code",
   "execution_count": null,
   "id": "extra-eugene",
   "metadata": {
    "papermill": {
     "duration": 0.037743,
     "end_time": "2021-07-16T16:30:43.557635",
     "exception": false,
     "start_time": "2021-07-16T16:30:43.519892",
     "status": "completed"
    },
    "tags": []
   },
   "outputs": [],
   "source": [
    "INPUT_STEM = \"projection-smultixcan-efo_partial-mashr-zscores\""
   ]
  },
  {
   "cell_type": "code",
   "execution_count": null,
   "id": "fancy-sustainability",
   "metadata": {
    "papermill": {
     "duration": 0.037787,
     "end_time": "2021-07-16T16:30:43.621197",
     "exception": false,
     "start_time": "2021-07-16T16:30:43.583410",
     "status": "completed"
    },
    "tags": []
   },
   "outputs": [],
   "source": [
    "input_filepath = Path(\n",
    "    conf.RESULTS[\"DATA_TRANSFORMATIONS_DIR\"],\n",
    "    INPUT_SUBSET,\n",
    "    f\"{INPUT_SUBSET}-{INPUT_STEM}.pkl\",\n",
    ").resolve()"
   ]
  },
  {
   "cell_type": "code",
   "execution_count": null,
   "id": "amino-marketing",
   "metadata": {
    "papermill": {
     "duration": 0.05094,
     "end_time": "2021-07-16T16:30:43.696683",
     "exception": false,
     "start_time": "2021-07-16T16:30:43.645743",
     "status": "completed"
    },
    "tags": []
   },
   "outputs": [],
   "source": [
    "data = pd.read_pickle(input_filepath)"
   ]
  },
  {
   "cell_type": "code",
   "execution_count": null,
   "id": "wired-given",
   "metadata": {
    "papermill": {
     "duration": 0.044016,
     "end_time": "2021-07-16T16:30:43.768515",
     "exception": false,
     "start_time": "2021-07-16T16:30:43.724499",
     "status": "completed"
    },
    "tags": []
   },
   "outputs": [],
   "source": [
    "data.shape"
   ]
  },
  {
   "cell_type": "code",
   "execution_count": null,
   "id": "derived-coaching",
   "metadata": {
    "papermill": {
     "duration": 0.050437,
     "end_time": "2021-07-16T16:30:43.847965",
     "exception": false,
     "start_time": "2021-07-16T16:30:43.797528",
     "status": "completed"
    },
    "tags": []
   },
   "outputs": [],
   "source": [
    "data.head()"
   ]
  },
  {
   "cell_type": "markdown",
   "id": "fatal-touch",
   "metadata": {
    "papermill": {
     "duration": 0.025161,
     "end_time": "2021-07-16T16:30:43.899637",
     "exception": false,
     "start_time": "2021-07-16T16:30:43.874476",
     "status": "completed"
    },
    "tags": []
   },
   "source": [
    "## Clustering results"
   ]
  },
  {
   "cell_type": "code",
   "execution_count": null,
   "id": "other-filling",
   "metadata": {
    "papermill": {
     "duration": 0.039565,
     "end_time": "2021-07-16T16:30:43.964307",
     "exception": false,
     "start_time": "2021-07-16T16:30:43.924742",
     "status": "completed"
    },
    "tags": []
   },
   "outputs": [],
   "source": [
    "CONSENSUS_CLUSTERING_DIR = Path(\n",
    "    conf.RESULTS[\"CLUSTERING_DIR\"], \"consensus_clustering\"\n",
    ").resolve()\n",
    "\n",
    "display(CONSENSUS_CLUSTERING_DIR)"
   ]
  },
  {
   "cell_type": "code",
   "execution_count": null,
   "id": "minimal-increase",
   "metadata": {
    "papermill": {
     "duration": 0.039734,
     "end_time": "2021-07-16T16:30:44.031096",
     "exception": false,
     "start_time": "2021-07-16T16:30:43.991362",
     "status": "completed"
    },
    "tags": []
   },
   "outputs": [],
   "source": [
    "input_file = Path(CONSENSUS_CLUSTERING_DIR, \"best_partitions_by_k.pkl\").resolve()\n",
    "display(input_file)"
   ]
  },
  {
   "cell_type": "code",
   "execution_count": null,
   "id": "human-ratio",
   "metadata": {
    "papermill": {
     "duration": 0.040508,
     "end_time": "2021-07-16T16:30:44.097976",
     "exception": false,
     "start_time": "2021-07-16T16:30:44.057468",
     "status": "completed"
    },
    "tags": []
   },
   "outputs": [],
   "source": [
    "best_partitions = pd.read_pickle(input_file)"
   ]
  },
  {
   "cell_type": "code",
   "execution_count": null,
   "id": "recorded-packing",
   "metadata": {
    "papermill": {
     "duration": 0.041342,
     "end_time": "2021-07-16T16:30:44.166090",
     "exception": false,
     "start_time": "2021-07-16T16:30:44.124748",
     "status": "completed"
    },
    "tags": []
   },
   "outputs": [],
   "source": [
    "best_partitions.shape"
   ]
  },
  {
   "cell_type": "code",
   "execution_count": null,
   "id": "recorded-printer",
   "metadata": {
    "papermill": {
     "duration": 0.048228,
     "end_time": "2021-07-16T16:30:44.242184",
     "exception": false,
     "start_time": "2021-07-16T16:30:44.193956",
     "status": "completed"
    },
    "tags": []
   },
   "outputs": [],
   "source": [
    "best_partitions.head()"
   ]
  },
  {
   "cell_type": "markdown",
   "id": "deluxe-forth",
   "metadata": {
    "papermill": {
     "duration": 0.026304,
     "end_time": "2021-07-16T16:30:44.295745",
     "exception": false,
     "start_time": "2021-07-16T16:30:44.269441",
     "status": "completed"
    },
    "tags": []
   },
   "source": [
    "## MultiPLIER summary"
   ]
  },
  {
   "cell_type": "code",
   "execution_count": null,
   "id": "simple-bachelor",
   "metadata": {
    "papermill": {
     "duration": 0.040858,
     "end_time": "2021-07-16T16:30:44.362669",
     "exception": false,
     "start_time": "2021-07-16T16:30:44.321811",
     "status": "completed"
    },
    "tags": []
   },
   "outputs": [],
   "source": [
    "multiplier_model_summary = pd.read_pickle(conf.MULTIPLIER[\"MODEL_SUMMARY_FILE\"])"
   ]
  },
  {
   "cell_type": "code",
   "execution_count": null,
   "id": "preliminary-fighter",
   "metadata": {
    "papermill": {
     "duration": 0.040008,
     "end_time": "2021-07-16T16:30:44.429335",
     "exception": false,
     "start_time": "2021-07-16T16:30:44.389327",
     "status": "completed"
    },
    "tags": []
   },
   "outputs": [],
   "source": [
    "multiplier_model_summary.shape"
   ]
  },
  {
   "cell_type": "code",
   "execution_count": null,
   "id": "accepting-thread",
   "metadata": {
    "papermill": {
     "duration": 0.044544,
     "end_time": "2021-07-16T16:30:44.501295",
     "exception": false,
     "start_time": "2021-07-16T16:30:44.456751",
     "status": "completed"
    },
    "tags": []
   },
   "outputs": [],
   "source": [
    "multiplier_model_summary.head()"
   ]
  },
  {
   "cell_type": "code",
   "execution_count": null,
   "id": "unsigned-chase",
   "metadata": {
    "papermill": {
     "duration": 0.049092,
     "end_time": "2021-07-16T16:30:44.577410",
     "exception": false,
     "start_time": "2021-07-16T16:30:44.528318",
     "status": "completed"
    },
    "tags": []
   },
   "outputs": [],
   "source": [
    "well_aligned_lvs = multiplier_model_summary[\n",
    "    (\n",
    "        multiplier_model_summary[\"FDR\"] < 0.05\n",
    "    )  # & (multiplier_model_summary[\"AUC\"] >= 0.75)\n",
    "]\n",
    "\n",
    "display(well_aligned_lvs.shape)\n",
    "display(well_aligned_lvs.head())"
   ]
  },
  {
   "cell_type": "code",
   "execution_count": null,
   "id": "fleet-color",
   "metadata": {
    "papermill": {
     "duration": 0.040796,
     "end_time": "2021-07-16T16:30:44.645652",
     "exception": false,
     "start_time": "2021-07-16T16:30:44.604856",
     "status": "completed"
    },
    "tags": []
   },
   "outputs": [],
   "source": [
    "well_aligned_lv_codes = set([f\"LV{lvi}\" for lvi in well_aligned_lvs[\"LV index\"]])"
   ]
  },
  {
   "cell_type": "code",
   "execution_count": null,
   "id": "offshore-square",
   "metadata": {
    "papermill": {
     "duration": 0.040852,
     "end_time": "2021-07-16T16:30:44.714397",
     "exception": false,
     "start_time": "2021-07-16T16:30:44.673545",
     "status": "completed"
    },
    "tags": []
   },
   "outputs": [],
   "source": [
    "len(well_aligned_lv_codes)"
   ]
  },
  {
   "cell_type": "code",
   "execution_count": null,
   "id": "awful-berlin",
   "metadata": {
    "papermill": {
     "duration": 0.044445,
     "end_time": "2021-07-16T16:30:44.789677",
     "exception": false,
     "start_time": "2021-07-16T16:30:44.745232",
     "status": "completed"
    },
    "tags": []
   },
   "outputs": [],
   "source": [
    "list(well_aligned_lv_codes)[:5]"
   ]
  },
  {
   "cell_type": "markdown",
   "id": "progressive-evidence",
   "metadata": {
    "papermill": {
     "duration": 0.02753,
     "end_time": "2021-07-16T16:30:44.847926",
     "exception": false,
     "start_time": "2021-07-16T16:30:44.820396",
     "status": "completed"
    },
    "tags": []
   },
   "source": [
    "# Select LVs from CRISPR analysis"
   ]
  },
  {
   "cell_type": "code",
   "execution_count": null,
   "id": "adapted-forty",
   "metadata": {
    "papermill": {
     "duration": 0.046659,
     "end_time": "2021-07-16T16:30:44.922227",
     "exception": false,
     "start_time": "2021-07-16T16:30:44.875568",
     "status": "completed"
    },
    "tags": []
   },
   "outputs": [],
   "source": [
    "# FIXME: there will be a specific folder for crispr analysis in the future, that should be replaced here\n",
    "deg_enrich = pd.read_csv(\n",
    "    Path(\n",
    "        conf.RESULTS[\"BASE_DIR\"],\n",
    "        \"crispr_analyses\",\n",
    "        \"fgsea-hi_conf-all_lvs.tsv\",\n",
    "    ).resolve(),\n",
    "    sep=\"\\t\",\n",
    ")"
   ]
  },
  {
   "cell_type": "code",
   "execution_count": null,
   "id": "understood-bankruptcy",
   "metadata": {
    "papermill": {
     "duration": 0.041762,
     "end_time": "2021-07-16T16:30:44.992555",
     "exception": false,
     "start_time": "2021-07-16T16:30:44.950793",
     "status": "completed"
    },
    "tags": []
   },
   "outputs": [],
   "source": [
    "deg_enrich.shape"
   ]
  },
  {
   "cell_type": "code",
   "execution_count": null,
   "id": "white-narrow",
   "metadata": {
    "papermill": {
     "duration": 0.047725,
     "end_time": "2021-07-16T16:30:45.069017",
     "exception": false,
     "start_time": "2021-07-16T16:30:45.021292",
     "status": "completed"
    },
    "tags": []
   },
   "outputs": [],
   "source": [
    "deg_enrich.head()"
   ]
  },
  {
   "cell_type": "code",
   "execution_count": null,
   "id": "atomic-proposal",
   "metadata": {
    "papermill": {
     "duration": 0.040965,
     "end_time": "2021-07-16T16:30:45.139661",
     "exception": false,
     "start_time": "2021-07-16T16:30:45.098696",
     "status": "completed"
    },
    "tags": []
   },
   "outputs": [],
   "source": [
    "# deg_enrich_max_idx = deg_enrich.groupby([\"lv\", \"pathway\"])[\"pval\"].idxmax()"
   ]
  },
  {
   "cell_type": "code",
   "execution_count": null,
   "id": "alike-addiction",
   "metadata": {
    "papermill": {
     "duration": 0.041767,
     "end_time": "2021-07-16T16:30:45.211614",
     "exception": false,
     "start_time": "2021-07-16T16:30:45.169847",
     "status": "completed"
    },
    "tags": []
   },
   "outputs": [],
   "source": [
    "# deg_enrich = deg_enrich.loc[deg_enrich_max_idx].reset_index(drop=True)\n",
    "# display(deg_enrich.shape)\n",
    "# display(deg_enrich.head())"
   ]
  },
  {
   "cell_type": "code",
   "execution_count": null,
   "id": "regular-petroleum",
   "metadata": {},
   "outputs": [],
   "source": [
    "deg_enrich = deg_enrich.assign(\n",
    "    lv_aligned=deg_enrich[\"lv\"].apply(lambda x: x in well_aligned_lv_codes)\n",
    ")"
   ]
  },
  {
   "cell_type": "code",
   "execution_count": null,
   "id": "blocked-finding",
   "metadata": {},
   "outputs": [],
   "source": [
    "deg_enrich = deg_enrich[(deg_enrich[\"lv_aligned\"])]"
   ]
  },
  {
   "cell_type": "code",
   "execution_count": null,
   "id": "mature-trainer",
   "metadata": {},
   "outputs": [],
   "source": [
    "deg_enrich.shape"
   ]
  },
  {
   "cell_type": "markdown",
   "id": "composite-relief",
   "metadata": {
    "papermill": {
     "duration": 0.047718,
     "end_time": "2021-07-16T16:30:45.288142",
     "exception": false,
     "start_time": "2021-07-16T16:30:45.240424",
     "status": "completed"
    },
    "tags": []
   },
   "source": [
    "## Lipids-increasing gene sets"
   ]
  },
  {
   "cell_type": "code",
   "execution_count": null,
   "id": "circular-document",
   "metadata": {
    "papermill": {
     "duration": 0.04348,
     "end_time": "2021-07-16T16:30:45.366048",
     "exception": false,
     "start_time": "2021-07-16T16:30:45.322568",
     "status": "completed"
    },
    "tags": []
   },
   "outputs": [],
   "source": [
    "deg_increase = deg_enrich[\n",
    "    deg_enrich[\"pathway\"].isin((\"gene_set_increase\",)) & (deg_enrich[\"pval\"] < 0.01)\n",
    "].sort_values(\"pval\", ascending=True)"
   ]
  },
  {
   "cell_type": "code",
   "execution_count": null,
   "id": "pleased-cooler",
   "metadata": {
    "papermill": {
     "duration": 0.04236,
     "end_time": "2021-07-16T16:30:45.437570",
     "exception": false,
     "start_time": "2021-07-16T16:30:45.395210",
     "status": "completed"
    },
    "tags": []
   },
   "outputs": [],
   "source": [
    "deg_increase.shape"
   ]
  },
  {
   "cell_type": "code",
   "execution_count": null,
   "id": "danish-family",
   "metadata": {
    "papermill": {
     "duration": 0.049106,
     "end_time": "2021-07-16T16:30:45.516262",
     "exception": false,
     "start_time": "2021-07-16T16:30:45.467156",
     "status": "completed"
    },
    "tags": []
   },
   "outputs": [],
   "source": [
    "deg_increase.head()"
   ]
  },
  {
   "cell_type": "code",
   "execution_count": null,
   "id": "derived-burner",
   "metadata": {
    "papermill": {
     "duration": 0.042624,
     "end_time": "2021-07-16T16:30:45.589496",
     "exception": false,
     "start_time": "2021-07-16T16:30:45.546872",
     "status": "completed"
    },
    "tags": []
   },
   "outputs": [],
   "source": [
    "lvs_increase = deg_increase[\"lv\"].unique()"
   ]
  },
  {
   "cell_type": "code",
   "execution_count": null,
   "id": "assisted-sapphire",
   "metadata": {
    "papermill": {
     "duration": 0.043527,
     "end_time": "2021-07-16T16:30:45.662705",
     "exception": false,
     "start_time": "2021-07-16T16:30:45.619178",
     "status": "completed"
    },
    "tags": []
   },
   "outputs": [],
   "source": [
    "lvs_increase.shape"
   ]
  },
  {
   "cell_type": "code",
   "execution_count": null,
   "id": "registered-coffee",
   "metadata": {
    "papermill": {
     "duration": 0.043525,
     "end_time": "2021-07-16T16:30:45.736394",
     "exception": false,
     "start_time": "2021-07-16T16:30:45.692869",
     "status": "completed"
    },
    "tags": []
   },
   "outputs": [],
   "source": [
    "lvs_increase"
   ]
  },
  {
   "cell_type": "markdown",
   "id": "narrow-italic",
   "metadata": {
    "papermill": {
     "duration": 0.030306,
     "end_time": "2021-07-16T16:30:45.803640",
     "exception": false,
     "start_time": "2021-07-16T16:30:45.773334",
     "status": "completed"
    },
    "tags": []
   },
   "source": [
    "## Lipids-decreasing gene sets"
   ]
  },
  {
   "cell_type": "code",
   "execution_count": null,
   "id": "mighty-farming",
   "metadata": {
    "papermill": {
     "duration": 0.04467,
     "end_time": "2021-07-16T16:30:45.878038",
     "exception": false,
     "start_time": "2021-07-16T16:30:45.833368",
     "status": "completed"
    },
    "tags": []
   },
   "outputs": [],
   "source": [
    "deg_decrease = deg_enrich[\n",
    "    deg_enrich[\"pathway\"].isin((\"gene_set_decrease\",)) & (deg_enrich[\"pval\"] < 0.01)\n",
    "].sort_values(\"pval\", ascending=True)"
   ]
  },
  {
   "cell_type": "code",
   "execution_count": null,
   "id": "wicked-number",
   "metadata": {
    "papermill": {
     "duration": 0.043955,
     "end_time": "2021-07-16T16:30:45.952072",
     "exception": false,
     "start_time": "2021-07-16T16:30:45.908117",
     "status": "completed"
    },
    "tags": []
   },
   "outputs": [],
   "source": [
    "deg_decrease.shape"
   ]
  },
  {
   "cell_type": "code",
   "execution_count": null,
   "id": "modern-judge",
   "metadata": {
    "papermill": {
     "duration": 0.050064,
     "end_time": "2021-07-16T16:30:46.033543",
     "exception": false,
     "start_time": "2021-07-16T16:30:45.983479",
     "status": "completed"
    },
    "tags": []
   },
   "outputs": [],
   "source": [
    "deg_decrease.head()"
   ]
  },
  {
   "cell_type": "code",
   "execution_count": null,
   "id": "pediatric-wireless",
   "metadata": {
    "papermill": {
     "duration": 0.043614,
     "end_time": "2021-07-16T16:30:46.108186",
     "exception": false,
     "start_time": "2021-07-16T16:30:46.064572",
     "status": "completed"
    },
    "tags": []
   },
   "outputs": [],
   "source": [
    "lvs_decrease = deg_decrease[\"lv\"].unique()"
   ]
  },
  {
   "cell_type": "code",
   "execution_count": null,
   "id": "iraqi-fashion",
   "metadata": {
    "papermill": {
     "duration": 0.046693,
     "end_time": "2021-07-16T16:30:46.186757",
     "exception": false,
     "start_time": "2021-07-16T16:30:46.140064",
     "status": "completed"
    },
    "tags": []
   },
   "outputs": [],
   "source": [
    "lvs_decrease.shape"
   ]
  },
  {
   "cell_type": "code",
   "execution_count": null,
   "id": "cubic-meaning",
   "metadata": {
    "papermill": {
     "duration": 0.044392,
     "end_time": "2021-07-16T16:30:46.264676",
     "exception": false,
     "start_time": "2021-07-16T16:30:46.220284",
     "status": "completed"
    },
    "tags": []
   },
   "outputs": [],
   "source": [
    "lvs_decrease"
   ]
  },
  {
   "cell_type": "markdown",
   "id": "blond-century",
   "metadata": {
    "papermill": {
     "duration": 0.030808,
     "end_time": "2021-07-16T16:30:46.326821",
     "exception": false,
     "start_time": "2021-07-16T16:30:46.296013",
     "status": "completed"
    },
    "tags": []
   },
   "source": [
    "## Merge into one dataframe"
   ]
  },
  {
   "cell_type": "code",
   "execution_count": null,
   "id": "green-conference",
   "metadata": {
    "papermill": {
     "duration": 0.044951,
     "end_time": "2021-07-16T16:30:46.402620",
     "exception": false,
     "start_time": "2021-07-16T16:30:46.357669",
     "status": "completed"
    },
    "tags": []
   },
   "outputs": [],
   "source": [
    "_tmp0 = pd.DataFrame({\"lv\": lvs_increase, \"lv_set\": \"lipids-increasing\"})\n",
    "\n",
    "_tmp1 = pd.DataFrame({\"lv\": lvs_decrease, \"lv_set\": \"lipids-decreasing\"})"
   ]
  },
  {
   "cell_type": "code",
   "execution_count": null,
   "id": "solar-slave",
   "metadata": {
    "papermill": {
     "duration": 0.04479,
     "end_time": "2021-07-16T16:30:46.478581",
     "exception": false,
     "start_time": "2021-07-16T16:30:46.433791",
     "status": "completed"
    },
    "tags": []
   },
   "outputs": [],
   "source": [
    "gls_selected_lvs = pd.concat([_tmp0, _tmp1], ignore_index=True)"
   ]
  },
  {
   "cell_type": "code",
   "execution_count": null,
   "id": "assigned-introduction",
   "metadata": {
    "papermill": {
     "duration": 0.045385,
     "end_time": "2021-07-16T16:30:46.555644",
     "exception": false,
     "start_time": "2021-07-16T16:30:46.510259",
     "status": "completed"
    },
    "tags": []
   },
   "outputs": [],
   "source": [
    "gls_selected_lvs.shape"
   ]
  },
  {
   "cell_type": "code",
   "execution_count": null,
   "id": "usual-advertiser",
   "metadata": {
    "papermill": {
     "duration": 0.047438,
     "end_time": "2021-07-16T16:30:46.635230",
     "exception": false,
     "start_time": "2021-07-16T16:30:46.587792",
     "status": "completed"
    },
    "tags": []
   },
   "outputs": [],
   "source": [
    "gls_selected_lvs.head()"
   ]
  },
  {
   "cell_type": "markdown",
   "id": "herbal-nelson",
   "metadata": {
    "papermill": {
     "duration": 0.031835,
     "end_time": "2021-07-16T16:30:46.700103",
     "exception": false,
     "start_time": "2021-07-16T16:30:46.668268",
     "status": "completed"
    },
    "tags": []
   },
   "source": [
    "# Select traits from main clusters"
   ]
  },
  {
   "cell_type": "markdown",
   "id": "roman-brighton",
   "metadata": {
    "papermill": {
     "duration": 0.035079,
     "end_time": "2021-07-16T16:30:46.767156",
     "exception": false,
     "start_time": "2021-07-16T16:30:46.732077",
     "status": "completed"
    },
    "tags": []
   },
   "source": [
    "For this run on the LVs related to the lipids CRISPR analysis, I'm only interested in the main clusters of the cardiovascular sub-branch."
   ]
  },
  {
   "cell_type": "code",
   "execution_count": null,
   "id": "renewable-whale",
   "metadata": {},
   "outputs": [],
   "source": [
    "k = 29"
   ]
  },
  {
   "cell_type": "code",
   "execution_count": null,
   "id": "raised-comfort",
   "metadata": {},
   "outputs": [],
   "source": [
    "part29 = pd.Series(best_partitions.loc[k, \"partition\"])"
   ]
  },
  {
   "cell_type": "code",
   "execution_count": null,
   "id": "absolute-mortality",
   "metadata": {},
   "outputs": [],
   "source": [
    "part29.value_counts()"
   ]
  },
  {
   "cell_type": "code",
   "execution_count": null,
   "id": "junior-combining",
   "metadata": {},
   "outputs": [],
   "source": [
    "part29_clusters = part29.unique()"
   ]
  },
  {
   "cell_type": "code",
   "execution_count": null,
   "id": "available-schema",
   "metadata": {},
   "outputs": [],
   "source": [
    "part29_clusters"
   ]
  },
  {
   "cell_type": "code",
   "execution_count": null,
   "id": "solid-grass",
   "metadata": {},
   "outputs": [],
   "source": [
    "# number of traits?\n",
    "part29.value_counts().loc[[x for x in part29_clusters if x not in (0,)]].sum()"
   ]
  },
  {
   "cell_type": "code",
   "execution_count": null,
   "id": "graphic-majority",
   "metadata": {
    "papermill": {
     "duration": 0.044729,
     "end_time": "2021-07-16T16:30:46.844073",
     "exception": false,
     "start_time": "2021-07-16T16:30:46.799344",
     "status": "completed"
    },
    "tags": []
   },
   "outputs": [],
   "source": [
    "PHENOTYPES_CONFIG = [(k, x) for x in part29_clusters if x not in (0,)]"
   ]
  },
  {
   "cell_type": "markdown",
   "id": "fifteen-dividend",
   "metadata": {
    "papermill": {
     "duration": 0.031662,
     "end_time": "2021-07-16T16:30:46.908269",
     "exception": false,
     "start_time": "2021-07-16T16:30:46.876607",
     "status": "completed"
    },
    "tags": []
   },
   "source": [
    "# GLSPhenoplier"
   ]
  },
  {
   "cell_type": "markdown",
   "id": "excited-bookmark",
   "metadata": {
    "papermill": {
     "duration": 0.031834,
     "end_time": "2021-07-16T16:30:46.971584",
     "exception": false,
     "start_time": "2021-07-16T16:30:46.939750",
     "status": "completed"
    },
    "tags": []
   },
   "source": [
    "## Get list of phenotypes/lvs pairs"
   ]
  },
  {
   "cell_type": "code",
   "execution_count": null,
   "id": "cooperative-indiana",
   "metadata": {
    "papermill": {
     "duration": 0.088557,
     "end_time": "2021-07-16T16:30:47.092037",
     "exception": false,
     "start_time": "2021-07-16T16:30:47.003480",
     "status": "completed"
    },
    "tags": []
   },
   "outputs": [],
   "source": [
    "phenotypes_lvs_pairs = []\n",
    "\n",
    "for part_k, cluster_id in PHENOTYPES_CONFIG:\n",
    "    # get traits from the partition/cluster\n",
    "    part = best_partitions.loc[part_k, \"partition\"]\n",
    "    cluster_traits = data.index[part == cluster_id]\n",
    "\n",
    "    for phenotype_code in cluster_traits:\n",
    "        for idx, lv_row in gls_selected_lvs.iterrows():\n",
    "            phenotypes_lvs_pairs.append(\n",
    "                {\n",
    "                    \"phenotype_part_k\": part_k,\n",
    "                    \"phenotype_cluster_id\": cluster_id,\n",
    "                    \"phenotype\": phenotype_code,\n",
    "                    \"lv\": lv_row[\"lv\"],\n",
    "                    \"lv_set\": lv_row[\"lv_set\"],\n",
    "                }\n",
    "            )\n",
    "\n",
    "phenotypes_lvs_pairs = pd.DataFrame(phenotypes_lvs_pairs).drop_duplicates()"
   ]
  },
  {
   "cell_type": "code",
   "execution_count": null,
   "id": "matched-valuation",
   "metadata": {
    "papermill": {
     "duration": 0.046552,
     "end_time": "2021-07-16T16:30:47.170000",
     "exception": false,
     "start_time": "2021-07-16T16:30:47.123448",
     "status": "completed"
    },
    "tags": []
   },
   "outputs": [],
   "source": [
    "phenotypes_lvs_pairs = phenotypes_lvs_pairs.sort_values(\n",
    "    [\"phenotype\", \"lv\"]\n",
    ").reset_index(drop=True)"
   ]
  },
  {
   "cell_type": "code",
   "execution_count": null,
   "id": "average-sodium",
   "metadata": {
    "papermill": {
     "duration": 0.045547,
     "end_time": "2021-07-16T16:30:47.250168",
     "exception": false,
     "start_time": "2021-07-16T16:30:47.204621",
     "status": "completed"
    },
    "tags": []
   },
   "outputs": [],
   "source": [
    "phenotypes_lvs_pairs.shape"
   ]
  },
  {
   "cell_type": "code",
   "execution_count": null,
   "id": "failing-underwear",
   "metadata": {
    "papermill": {
     "duration": 0.049332,
     "end_time": "2021-07-16T16:30:47.332561",
     "exception": false,
     "start_time": "2021-07-16T16:30:47.283229",
     "status": "completed"
    },
    "tags": []
   },
   "outputs": [],
   "source": [
    "phenotypes_lvs_pairs.head()"
   ]
  },
  {
   "cell_type": "markdown",
   "id": "aquatic-times",
   "metadata": {
    "papermill": {
     "duration": 0.032194,
     "end_time": "2021-07-16T16:30:47.397853",
     "exception": false,
     "start_time": "2021-07-16T16:30:47.365659",
     "status": "completed"
    },
    "tags": []
   },
   "source": [
    "## Run"
   ]
  },
  {
   "cell_type": "code",
   "execution_count": null,
   "id": "painted-character",
   "metadata": {
    "papermill": {
     "duration": 5963.213137,
     "end_time": "2021-07-16T18:10:10.643194",
     "exception": false,
     "start_time": "2021-07-16T16:30:47.430057",
     "status": "completed"
    },
    "tags": []
   },
   "outputs": [],
   "source": [
    "results = []\n",
    "\n",
    "pbar = tqdm(total=phenotypes_lvs_pairs.shape[0])\n",
    "\n",
    "for idx, row in phenotypes_lvs_pairs.iterrows():\n",
    "    phenotype_code = row[\"phenotype\"]\n",
    "    lv_code = row[\"lv\"]\n",
    "\n",
    "    pbar.set_description(f\"{phenotype_code} - {lv_code}\")\n",
    "\n",
    "    gls_model = GLSPhenoplier(\n",
    "        smultixcan_result_set_filepath=conf.PHENOMEXCAN[\n",
    "            \"SMULTIXCAN_EFO_PARTIAL_MASHR_ZSCORES_FILE\"\n",
    "        ]\n",
    "    )\n",
    "    gls_model.fit_named(lv_code, phenotype_code)\n",
    "    res = gls_model.results\n",
    "\n",
    "    results.append(\n",
    "        {\n",
    "            \"part_k\": row[\"phenotype_part_k\"],\n",
    "            \"cluster_id\": row[\"phenotype_cluster_id\"],\n",
    "            \"phenotype\": phenotype_code,\n",
    "            \"lv\": lv_code,\n",
    "            \"lv_set\": row[\"lv_set\"],\n",
    "            \"lv_with_pathway\": lv_code in well_aligned_lv_codes,\n",
    "            \"coef\": res.params.loc[\"lv\"],\n",
    "            \"pvalue\": res.pvalues_onesided.loc[\"lv\"],\n",
    "            \"pvalue_twosided\": res.pvalues.loc[\"lv\"],\n",
    "            \"summary\": gls_model.results_summary,\n",
    "        }\n",
    "    )\n",
    "\n",
    "    # save results every 10 models trained\n",
    "    if (idx % 10) == 0:\n",
    "        pd.DataFrame(results).to_pickle(OUTPUT_FILENAME)\n",
    "\n",
    "    pbar.update(1)\n",
    "\n",
    "pbar.close()"
   ]
  },
  {
   "cell_type": "code",
   "execution_count": null,
   "id": "combined-rider",
   "metadata": {
    "papermill": {
     "duration": 0.24493,
     "end_time": "2021-07-16T18:10:11.122993",
     "exception": false,
     "start_time": "2021-07-16T18:10:10.878063",
     "status": "completed"
    },
    "tags": []
   },
   "outputs": [],
   "source": [
    "results = pd.DataFrame(results)"
   ]
  },
  {
   "cell_type": "code",
   "execution_count": null,
   "id": "vocational-reply",
   "metadata": {
    "papermill": {
     "duration": 0.250523,
     "end_time": "2021-07-16T18:10:11.606040",
     "exception": false,
     "start_time": "2021-07-16T18:10:11.355517",
     "status": "completed"
    },
    "tags": []
   },
   "outputs": [],
   "source": [
    "results.shape"
   ]
  },
  {
   "cell_type": "code",
   "execution_count": null,
   "id": "dental-cleaner",
   "metadata": {
    "papermill": {
     "duration": 0.264991,
     "end_time": "2021-07-16T18:10:12.106747",
     "exception": false,
     "start_time": "2021-07-16T18:10:11.841756",
     "status": "completed"
    },
    "tags": []
   },
   "outputs": [],
   "source": [
    "results.head()"
   ]
  },
  {
   "cell_type": "code",
   "execution_count": null,
   "id": "typical-regard",
   "metadata": {
    "papermill": {
     "duration": 0.290812,
     "end_time": "2021-07-16T18:10:12.630691",
     "exception": false,
     "start_time": "2021-07-16T18:10:12.339879",
     "status": "completed"
    },
    "tags": []
   },
   "outputs": [],
   "source": [
    "results.sort_values(\"pvalue\").head(10)"
   ]
  },
  {
   "cell_type": "markdown",
   "id": "trying-warrior",
   "metadata": {
    "papermill": {
     "duration": 0.23001,
     "end_time": "2021-07-16T18:10:13.115426",
     "exception": false,
     "start_time": "2021-07-16T18:10:12.885416",
     "status": "completed"
    },
    "tags": []
   },
   "source": [
    "## Save"
   ]
  },
  {
   "cell_type": "code",
   "execution_count": null,
   "id": "several-technique",
   "metadata": {
    "papermill": {
     "duration": 0.360064,
     "end_time": "2021-07-16T18:10:13.705220",
     "exception": false,
     "start_time": "2021-07-16T18:10:13.345156",
     "status": "completed"
    },
    "tags": []
   },
   "outputs": [],
   "source": [
    "results.to_pickle(OUTPUT_FILENAME)"
   ]
  },
  {
   "cell_type": "code",
   "execution_count": null,
   "id": "interracial-commodity",
   "metadata": {
    "papermill": {
     "duration": 0.2305,
     "end_time": "2021-07-16T18:10:14.172394",
     "exception": false,
     "start_time": "2021-07-16T18:10:13.941894",
     "status": "completed"
    },
    "tags": []
   },
   "outputs": [],
   "source": []
  }
 ],
 "metadata": {
  "jupytext": {
   "cell_metadata_filter": "all,-execution,-papermill,-trusted",
   "formats": "ipynb,py//py:percent"
  },
  "kernelspec": {
   "display_name": "Python 3",
   "language": "python",
   "name": "python3"
  },
  "language_info": {
   "codemirror_mode": {
    "name": "ipython",
    "version": 3
   },
   "file_extension": ".py",
   "mimetype": "text/x-python",
   "name": "python",
   "nbconvert_exporter": "python",
   "pygments_lexer": "ipython3",
   "version": "3.8.8"
  },
  "papermill": {
   "default_parameters": {},
   "duration": 5974.699056,
   "end_time": "2021-07-16T18:10:15.624236",
   "environment_variables": {},
   "exception": null,
   "input_path": "08_gsa_gls/40-gls_on_lipids_lvs-phenomexcan.ipynb",
   "output_path": "08_gsa_gls/40-gls_on_lipids_lvs-phenomexcan.run.ipynb",
   "parameters": {},
   "start_time": "2021-07-16T16:30:40.925180",
   "version": "2.2.2"
  }
 },
 "nbformat": 4,
 "nbformat_minor": 5
}
