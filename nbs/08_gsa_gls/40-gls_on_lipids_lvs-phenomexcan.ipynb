{
 "cells": [
  {
   "cell_type": "markdown",
   "id": "adopted-buffalo",
   "metadata": {
    "papermill": {
     "duration": 0.061136,
     "end_time": "2021-07-17T14:49:33.547920",
     "exception": false,
     "start_time": "2021-07-17T14:49:33.486784",
     "status": "completed"
    },
    "tags": []
   },
   "source": [
    "# Description"
   ]
  },
  {
   "cell_type": "markdown",
   "id": "opponent-infrastructure",
   "metadata": {
    "papermill": {
     "duration": 0.026041,
     "end_time": "2021-07-17T14:49:33.600605",
     "exception": false,
     "start_time": "2021-07-17T14:49:33.574564",
     "status": "completed"
    },
    "tags": []
   },
   "source": [
    "This notebook is similar to `30` and `35`, but here I use the LVs that we found to be significantly enriched for the lipids CRISPR analysis, which might or might not coincide with the previously used LVs (those that discriminate clusters).\n",
    "The traits here are from PhenomeXcan."
   ]
  },
  {
   "cell_type": "markdown",
   "id": "peripheral-transition",
   "metadata": {
    "papermill": {
     "duration": 0.02613,
     "end_time": "2021-07-17T14:49:33.653071",
     "exception": false,
     "start_time": "2021-07-17T14:49:33.626941",
     "status": "completed"
    },
    "tags": []
   },
   "source": [
    "# Environment variables"
   ]
  },
  {
   "cell_type": "code",
   "execution_count": 1,
   "id": "fundamental-polls",
   "metadata": {
    "execution": {
     "iopub.execute_input": "2021-07-17T14:49:33.713021Z",
     "iopub.status.busy": "2021-07-17T14:49:33.712600Z",
     "iopub.status.idle": "2021-07-17T14:49:33.720566Z",
     "shell.execute_reply": "2021-07-17T14:49:33.720111Z"
    },
    "papermill": {
     "duration": 0.041091,
     "end_time": "2021-07-17T14:49:33.720671",
     "exception": false,
     "start_time": "2021-07-17T14:49:33.679580",
     "status": "completed"
    },
    "tags": []
   },
   "outputs": [],
   "source": [
    "%load_ext autoreload\n",
    "%autoreload 2"
   ]
  },
  {
   "cell_type": "code",
   "execution_count": 2,
   "id": "deluxe-terrorist",
   "metadata": {
    "execution": {
     "iopub.execute_input": "2021-07-17T14:49:33.780527Z",
     "iopub.status.busy": "2021-07-17T14:49:33.780130Z",
     "iopub.status.idle": "2021-07-17T14:49:33.791230Z",
     "shell.execute_reply": "2021-07-17T14:49:33.790848Z"
    },
    "papermill": {
     "duration": 0.042338,
     "end_time": "2021-07-17T14:49:33.791321",
     "exception": false,
     "start_time": "2021-07-17T14:49:33.748983",
     "status": "completed"
    },
    "tags": []
   },
   "outputs": [],
   "source": [
    "import conf"
   ]
  },
  {
   "cell_type": "code",
   "execution_count": 3,
   "id": "excellent-muscle",
   "metadata": {
    "execution": {
     "iopub.execute_input": "2021-07-17T14:49:33.847948Z",
     "iopub.status.busy": "2021-07-17T14:49:33.847582Z",
     "iopub.status.idle": "2021-07-17T14:49:33.858642Z",
     "shell.execute_reply": "2021-07-17T14:49:33.858281Z"
    },
    "papermill": {
     "duration": 0.040107,
     "end_time": "2021-07-17T14:49:33.858727",
     "exception": false,
     "start_time": "2021-07-17T14:49:33.818620",
     "status": "completed"
    },
    "tags": []
   },
   "outputs": [
    {
     "data": {
      "text/plain": [
       "3"
      ]
     },
     "metadata": {},
     "output_type": "display_data"
    }
   ],
   "source": [
    "N_JOBS = conf.GENERAL[\"N_JOBS\"]\n",
    "display(N_JOBS)"
   ]
  },
  {
   "cell_type": "code",
   "execution_count": 4,
   "id": "cognitive-letter",
   "metadata": {
    "execution": {
     "iopub.execute_input": "2021-07-17T14:49:33.918325Z",
     "iopub.status.busy": "2021-07-17T14:49:33.917912Z",
     "iopub.status.idle": "2021-07-17T14:49:33.925219Z",
     "shell.execute_reply": "2021-07-17T14:49:33.924899Z"
    },
    "papermill": {
     "duration": 0.039103,
     "end_time": "2021-07-17T14:49:33.925302",
     "exception": false,
     "start_time": "2021-07-17T14:49:33.886199",
     "status": "completed"
    },
    "tags": []
   },
   "outputs": [
    {
     "name": "stdout",
     "output_type": "stream",
     "text": [
      "env: MKL_NUM_THREADS=3\n",
      "env: OPEN_BLAS_NUM_THREADS=3\n",
      "env: NUMEXPR_NUM_THREADS=3\n",
      "env: OMP_NUM_THREADS=3\n"
     ]
    }
   ],
   "source": [
    "%env MKL_NUM_THREADS=$N_JOBS\n",
    "%env OPEN_BLAS_NUM_THREADS=$N_JOBS\n",
    "%env NUMEXPR_NUM_THREADS=$N_JOBS\n",
    "%env OMP_NUM_THREADS=$N_JOBS"
   ]
  },
  {
   "cell_type": "markdown",
   "id": "juvenile-carolina",
   "metadata": {
    "papermill": {
     "duration": 0.028484,
     "end_time": "2021-07-17T14:49:33.981108",
     "exception": false,
     "start_time": "2021-07-17T14:49:33.952624",
     "status": "completed"
    },
    "tags": []
   },
   "source": [
    "# Modules"
   ]
  },
  {
   "cell_type": "code",
   "execution_count": 5,
   "id": "proof-wrong",
   "metadata": {
    "execution": {
     "iopub.execute_input": "2021-07-17T14:49:34.041447Z",
     "iopub.status.busy": "2021-07-17T14:49:34.041088Z",
     "iopub.status.idle": "2021-07-17T14:49:34.819795Z",
     "shell.execute_reply": "2021-07-17T14:49:34.819399Z"
    },
    "papermill": {
     "duration": 0.809857,
     "end_time": "2021-07-17T14:49:34.819891",
     "exception": false,
     "start_time": "2021-07-17T14:49:34.010034",
     "status": "completed"
    },
    "tags": []
   },
   "outputs": [],
   "source": [
    "from pathlib import Path\n",
    "\n",
    "import pandas as pd\n",
    "from tqdm import tqdm\n",
    "\n",
    "from gls import GLSPhenoplier"
   ]
  },
  {
   "cell_type": "markdown",
   "id": "formal-gates",
   "metadata": {
    "papermill": {
     "duration": 0.028381,
     "end_time": "2021-07-17T14:49:34.877355",
     "exception": false,
     "start_time": "2021-07-17T14:49:34.848974",
     "status": "completed"
    },
    "tags": []
   },
   "source": [
    "# Settings"
   ]
  },
  {
   "cell_type": "code",
   "execution_count": 6,
   "id": "synthetic-journalist",
   "metadata": {
    "execution": {
     "iopub.execute_input": "2021-07-17T14:49:34.934511Z",
     "iopub.status.busy": "2021-07-17T14:49:34.934146Z",
     "iopub.status.idle": "2021-07-17T14:49:34.945271Z",
     "shell.execute_reply": "2021-07-17T14:49:34.944861Z"
    },
    "papermill": {
     "duration": 0.040769,
     "end_time": "2021-07-17T14:49:34.945350",
     "exception": false,
     "start_time": "2021-07-17T14:49:34.904581",
     "status": "completed"
    },
    "tags": []
   },
   "outputs": [],
   "source": [
    "N_TOP_TRAITS_FROM_LV = 20"
   ]
  },
  {
   "cell_type": "code",
   "execution_count": 7,
   "id": "fabulous-reality",
   "metadata": {
    "execution": {
     "iopub.execute_input": "2021-07-17T14:49:35.006805Z",
     "iopub.status.busy": "2021-07-17T14:49:35.006434Z",
     "iopub.status.idle": "2021-07-17T14:49:35.018325Z",
     "shell.execute_reply": "2021-07-17T14:49:35.017988Z"
    },
    "papermill": {
     "duration": 0.043145,
     "end_time": "2021-07-17T14:49:35.018434",
     "exception": false,
     "start_time": "2021-07-17T14:49:34.975289",
     "status": "completed"
    },
    "tags": []
   },
   "outputs": [
    {
     "data": {
      "text/plain": [
       "PosixPath('/home/miltondp/projects/labs/greenelab/phenoplier/base/results/gls')"
      ]
     },
     "metadata": {},
     "output_type": "display_data"
    }
   ],
   "source": [
    "OUTPUT_DIR = conf.RESULTS[\"GLS\"]\n",
    "display(OUTPUT_DIR)\n",
    "\n",
    "OUTPUT_DIR.mkdir(exist_ok=True, parents=True)"
   ]
  },
  {
   "cell_type": "code",
   "execution_count": 8,
   "id": "baking-beijing",
   "metadata": {
    "execution": {
     "iopub.execute_input": "2021-07-17T14:49:35.075874Z",
     "iopub.status.busy": "2021-07-17T14:49:35.075501Z",
     "iopub.status.idle": "2021-07-17T14:49:35.087236Z",
     "shell.execute_reply": "2021-07-17T14:49:35.086925Z"
    },
    "papermill": {
     "duration": 0.041465,
     "end_time": "2021-07-17T14:49:35.087317",
     "exception": false,
     "start_time": "2021-07-17T14:49:35.045852",
     "status": "completed"
    },
    "tags": []
   },
   "outputs": [
    {
     "data": {
      "text/plain": [
       "PosixPath('/home/miltondp/projects/labs/greenelab/phenoplier/base/results/gls/gls_phenotypes-crispr_lvs-phenomexcan.pkl')"
      ]
     },
     "metadata": {},
     "output_type": "display_data"
    }
   ],
   "source": [
    "OUTPUT_FILENAME = OUTPUT_DIR / \"gls_phenotypes-crispr_lvs-phenomexcan.pkl\"\n",
    "display(OUTPUT_FILENAME)"
   ]
  },
  {
   "cell_type": "markdown",
   "id": "willing-magnitude",
   "metadata": {
    "papermill": {
     "duration": 0.029711,
     "end_time": "2021-07-17T14:49:35.145923",
     "exception": false,
     "start_time": "2021-07-17T14:49:35.116212",
     "status": "completed"
    },
    "tags": []
   },
   "source": [
    "# Load data"
   ]
  },
  {
   "cell_type": "markdown",
   "id": "heated-controversy",
   "metadata": {
    "papermill": {
     "duration": 0.029232,
     "end_time": "2021-07-17T14:49:35.204450",
     "exception": false,
     "start_time": "2021-07-17T14:49:35.175218",
     "status": "completed"
    },
    "tags": []
   },
   "source": [
    "## PhenomeXcan (S-MultiXcan)"
   ]
  },
  {
   "cell_type": "code",
   "execution_count": 9,
   "id": "ecological-electric",
   "metadata": {
    "execution": {
     "iopub.execute_input": "2021-07-17T14:49:35.266660Z",
     "iopub.status.busy": "2021-07-17T14:49:35.266275Z",
     "iopub.status.idle": "2021-07-17T14:49:35.277235Z",
     "shell.execute_reply": "2021-07-17T14:49:35.276883Z"
    },
    "papermill": {
     "duration": 0.042747,
     "end_time": "2021-07-17T14:49:35.277322",
     "exception": false,
     "start_time": "2021-07-17T14:49:35.234575",
     "status": "completed"
    },
    "tags": []
   },
   "outputs": [],
   "source": [
    "INPUT_SUBSET = \"z_score_std\""
   ]
  },
  {
   "cell_type": "code",
   "execution_count": 10,
   "id": "expired-association",
   "metadata": {
    "execution": {
     "iopub.execute_input": "2021-07-17T14:49:35.337613Z",
     "iopub.status.busy": "2021-07-17T14:49:35.337192Z",
     "iopub.status.idle": "2021-07-17T14:49:35.348407Z",
     "shell.execute_reply": "2021-07-17T14:49:35.348020Z"
    },
    "papermill": {
     "duration": 0.043179,
     "end_time": "2021-07-17T14:49:35.348499",
     "exception": false,
     "start_time": "2021-07-17T14:49:35.305320",
     "status": "completed"
    },
    "tags": []
   },
   "outputs": [],
   "source": [
    "INPUT_STEM = \"projection-smultixcan-efo_partial-mashr-zscores\""
   ]
  },
  {
   "cell_type": "code",
   "execution_count": 11,
   "id": "accurate-neighbor",
   "metadata": {
    "execution": {
     "iopub.execute_input": "2021-07-17T14:49:35.408631Z",
     "iopub.status.busy": "2021-07-17T14:49:35.408253Z",
     "iopub.status.idle": "2021-07-17T14:49:35.419835Z",
     "shell.execute_reply": "2021-07-17T14:49:35.419516Z"
    },
    "papermill": {
     "duration": 0.041568,
     "end_time": "2021-07-17T14:49:35.419936",
     "exception": false,
     "start_time": "2021-07-17T14:49:35.378368",
     "status": "completed"
    },
    "tags": []
   },
   "outputs": [],
   "source": [
    "input_filepath = Path(\n",
    "    conf.RESULTS[\"DATA_TRANSFORMATIONS_DIR\"],\n",
    "    INPUT_SUBSET,\n",
    "    f\"{INPUT_SUBSET}-{INPUT_STEM}.pkl\",\n",
    ").resolve()"
   ]
  },
  {
   "cell_type": "code",
   "execution_count": 12,
   "id": "alive-advantage",
   "metadata": {
    "execution": {
     "iopub.execute_input": "2021-07-17T14:49:35.479578Z",
     "iopub.status.busy": "2021-07-17T14:49:35.479215Z",
     "iopub.status.idle": "2021-07-17T14:49:35.504681Z",
     "shell.execute_reply": "2021-07-17T14:49:35.504319Z"
    },
    "papermill": {
     "duration": 0.056772,
     "end_time": "2021-07-17T14:49:35.504786",
     "exception": false,
     "start_time": "2021-07-17T14:49:35.448014",
     "status": "completed"
    },
    "tags": []
   },
   "outputs": [],
   "source": [
    "phenomexcan_projection = pd.read_pickle(input_filepath)"
   ]
  },
  {
   "cell_type": "code",
   "execution_count": 13,
   "id": "express-antenna",
   "metadata": {
    "execution": {
     "iopub.execute_input": "2021-07-17T14:49:35.569377Z",
     "iopub.status.busy": "2021-07-17T14:49:35.568994Z",
     "iopub.status.idle": "2021-07-17T14:49:35.581441Z",
     "shell.execute_reply": "2021-07-17T14:49:35.581014Z"
    },
    "papermill": {
     "duration": 0.044188,
     "end_time": "2021-07-17T14:49:35.581524",
     "exception": false,
     "start_time": "2021-07-17T14:49:35.537336",
     "status": "completed"
    },
    "tags": []
   },
   "outputs": [
    {
     "data": {
      "text/plain": [
       "(3752, 987)"
      ]
     },
     "execution_count": 13,
     "metadata": {},
     "output_type": "execute_result"
    }
   ],
   "source": [
    "phenomexcan_projection.shape"
   ]
  },
  {
   "cell_type": "code",
   "execution_count": 14,
   "id": "overhead-character",
   "metadata": {
    "execution": {
     "iopub.execute_input": "2021-07-17T14:49:35.641983Z",
     "iopub.status.busy": "2021-07-17T14:49:35.641605Z",
     "iopub.status.idle": "2021-07-17T14:49:35.666725Z",
     "shell.execute_reply": "2021-07-17T14:49:35.666315Z"
    },
    "papermill": {
     "duration": 0.056984,
     "end_time": "2021-07-17T14:49:35.666821",
     "exception": false,
     "start_time": "2021-07-17T14:49:35.609837",
     "status": "completed"
    },
    "tags": []
   },
   "outputs": [
    {
     "data": {
      "text/html": [
       "<div>\n",
       "<style scoped>\n",
       "    .dataframe tbody tr th:only-of-type {\n",
       "        vertical-align: middle;\n",
       "    }\n",
       "\n",
       "    .dataframe tbody tr th {\n",
       "        vertical-align: top;\n",
       "    }\n",
       "\n",
       "    .dataframe thead th {\n",
       "        text-align: right;\n",
       "    }\n",
       "</style>\n",
       "<table border=\"1\" class=\"dataframe\">\n",
       "  <thead>\n",
       "    <tr style=\"text-align: right;\">\n",
       "      <th></th>\n",
       "      <th>LV1</th>\n",
       "      <th>LV2</th>\n",
       "      <th>LV3</th>\n",
       "      <th>LV4</th>\n",
       "      <th>LV5</th>\n",
       "      <th>LV6</th>\n",
       "      <th>LV7</th>\n",
       "      <th>LV8</th>\n",
       "      <th>LV9</th>\n",
       "      <th>LV10</th>\n",
       "      <th>...</th>\n",
       "      <th>LV978</th>\n",
       "      <th>LV979</th>\n",
       "      <th>LV980</th>\n",
       "      <th>LV981</th>\n",
       "      <th>LV982</th>\n",
       "      <th>LV983</th>\n",
       "      <th>LV984</th>\n",
       "      <th>LV985</th>\n",
       "      <th>LV986</th>\n",
       "      <th>LV987</th>\n",
       "    </tr>\n",
       "  </thead>\n",
       "  <tbody>\n",
       "    <tr>\n",
       "      <th>100001_raw-Food_weight</th>\n",
       "      <td>-0.695006</td>\n",
       "      <td>1.962565</td>\n",
       "      <td>0.057683</td>\n",
       "      <td>0.878731</td>\n",
       "      <td>-0.539977</td>\n",
       "      <td>1.481272</td>\n",
       "      <td>-0.396422</td>\n",
       "      <td>1.090180</td>\n",
       "      <td>0.759223</td>\n",
       "      <td>0.931395</td>\n",
       "      <td>...</td>\n",
       "      <td>1.129784</td>\n",
       "      <td>1.752343</td>\n",
       "      <td>-1.411403</td>\n",
       "      <td>2.823863</td>\n",
       "      <td>0.931116</td>\n",
       "      <td>-1.054519</td>\n",
       "      <td>0.432982</td>\n",
       "      <td>-0.633597</td>\n",
       "      <td>0.554279</td>\n",
       "      <td>-0.642479</td>\n",
       "    </tr>\n",
       "    <tr>\n",
       "      <th>100002_raw-Energy</th>\n",
       "      <td>-1.528127</td>\n",
       "      <td>-0.345309</td>\n",
       "      <td>-0.148953</td>\n",
       "      <td>-0.242060</td>\n",
       "      <td>0.373427</td>\n",
       "      <td>0.791092</td>\n",
       "      <td>0.263477</td>\n",
       "      <td>0.987702</td>\n",
       "      <td>0.354391</td>\n",
       "      <td>1.416059</td>\n",
       "      <td>...</td>\n",
       "      <td>0.224604</td>\n",
       "      <td>0.769882</td>\n",
       "      <td>-0.509482</td>\n",
       "      <td>0.091153</td>\n",
       "      <td>2.286789</td>\n",
       "      <td>-1.008256</td>\n",
       "      <td>-0.029764</td>\n",
       "      <td>1.737229</td>\n",
       "      <td>-0.272107</td>\n",
       "      <td>-0.526125</td>\n",
       "    </tr>\n",
       "    <tr>\n",
       "      <th>100003_raw-Protein</th>\n",
       "      <td>-0.704572</td>\n",
       "      <td>-1.011299</td>\n",
       "      <td>0.671420</td>\n",
       "      <td>0.143991</td>\n",
       "      <td>0.615212</td>\n",
       "      <td>0.874212</td>\n",
       "      <td>-0.040998</td>\n",
       "      <td>0.915170</td>\n",
       "      <td>0.254369</td>\n",
       "      <td>-0.084237</td>\n",
       "      <td>...</td>\n",
       "      <td>1.003019</td>\n",
       "      <td>1.044314</td>\n",
       "      <td>-2.376108</td>\n",
       "      <td>0.004778</td>\n",
       "      <td>0.053714</td>\n",
       "      <td>-0.892447</td>\n",
       "      <td>-0.183800</td>\n",
       "      <td>1.377991</td>\n",
       "      <td>-0.278794</td>\n",
       "      <td>-0.419733</td>\n",
       "    </tr>\n",
       "    <tr>\n",
       "      <th>100004_raw-Fat</th>\n",
       "      <td>-0.989832</td>\n",
       "      <td>-1.875490</td>\n",
       "      <td>0.261555</td>\n",
       "      <td>-1.420719</td>\n",
       "      <td>0.366238</td>\n",
       "      <td>1.167049</td>\n",
       "      <td>0.257387</td>\n",
       "      <td>0.717674</td>\n",
       "      <td>-0.997664</td>\n",
       "      <td>0.969825</td>\n",
       "      <td>...</td>\n",
       "      <td>0.585913</td>\n",
       "      <td>0.638314</td>\n",
       "      <td>0.119139</td>\n",
       "      <td>-0.140204</td>\n",
       "      <td>1.394326</td>\n",
       "      <td>-1.173402</td>\n",
       "      <td>0.555058</td>\n",
       "      <td>1.013982</td>\n",
       "      <td>-0.544506</td>\n",
       "      <td>-0.064061</td>\n",
       "    </tr>\n",
       "    <tr>\n",
       "      <th>100005_raw-Carbohydrate</th>\n",
       "      <td>-0.580143</td>\n",
       "      <td>0.243335</td>\n",
       "      <td>0.158966</td>\n",
       "      <td>-0.036558</td>\n",
       "      <td>0.068176</td>\n",
       "      <td>-0.202639</td>\n",
       "      <td>1.101281</td>\n",
       "      <td>0.675227</td>\n",
       "      <td>1.463432</td>\n",
       "      <td>1.010078</td>\n",
       "      <td>...</td>\n",
       "      <td>-0.249108</td>\n",
       "      <td>-0.026814</td>\n",
       "      <td>0.232713</td>\n",
       "      <td>0.323682</td>\n",
       "      <td>1.168642</td>\n",
       "      <td>-0.282935</td>\n",
       "      <td>0.653105</td>\n",
       "      <td>1.909526</td>\n",
       "      <td>0.199997</td>\n",
       "      <td>-1.656894</td>\n",
       "    </tr>\n",
       "  </tbody>\n",
       "</table>\n",
       "<p>5 rows × 987 columns</p>\n",
       "</div>"
      ],
      "text/plain": [
       "                              LV1       LV2       LV3       LV4       LV5  \\\n",
       "100001_raw-Food_weight  -0.695006  1.962565  0.057683  0.878731 -0.539977   \n",
       "100002_raw-Energy       -1.528127 -0.345309 -0.148953 -0.242060  0.373427   \n",
       "100003_raw-Protein      -0.704572 -1.011299  0.671420  0.143991  0.615212   \n",
       "100004_raw-Fat          -0.989832 -1.875490  0.261555 -1.420719  0.366238   \n",
       "100005_raw-Carbohydrate -0.580143  0.243335  0.158966 -0.036558  0.068176   \n",
       "\n",
       "                              LV6       LV7       LV8       LV9      LV10  \\\n",
       "100001_raw-Food_weight   1.481272 -0.396422  1.090180  0.759223  0.931395   \n",
       "100002_raw-Energy        0.791092  0.263477  0.987702  0.354391  1.416059   \n",
       "100003_raw-Protein       0.874212 -0.040998  0.915170  0.254369 -0.084237   \n",
       "100004_raw-Fat           1.167049  0.257387  0.717674 -0.997664  0.969825   \n",
       "100005_raw-Carbohydrate -0.202639  1.101281  0.675227  1.463432  1.010078   \n",
       "\n",
       "                         ...     LV978     LV979     LV980     LV981  \\\n",
       "100001_raw-Food_weight   ...  1.129784  1.752343 -1.411403  2.823863   \n",
       "100002_raw-Energy        ...  0.224604  0.769882 -0.509482  0.091153   \n",
       "100003_raw-Protein       ...  1.003019  1.044314 -2.376108  0.004778   \n",
       "100004_raw-Fat           ...  0.585913  0.638314  0.119139 -0.140204   \n",
       "100005_raw-Carbohydrate  ... -0.249108 -0.026814  0.232713  0.323682   \n",
       "\n",
       "                            LV982     LV983     LV984     LV985     LV986  \\\n",
       "100001_raw-Food_weight   0.931116 -1.054519  0.432982 -0.633597  0.554279   \n",
       "100002_raw-Energy        2.286789 -1.008256 -0.029764  1.737229 -0.272107   \n",
       "100003_raw-Protein       0.053714 -0.892447 -0.183800  1.377991 -0.278794   \n",
       "100004_raw-Fat           1.394326 -1.173402  0.555058  1.013982 -0.544506   \n",
       "100005_raw-Carbohydrate  1.168642 -0.282935  0.653105  1.909526  0.199997   \n",
       "\n",
       "                            LV987  \n",
       "100001_raw-Food_weight  -0.642479  \n",
       "100002_raw-Energy       -0.526125  \n",
       "100003_raw-Protein      -0.419733  \n",
       "100004_raw-Fat          -0.064061  \n",
       "100005_raw-Carbohydrate -1.656894  \n",
       "\n",
       "[5 rows x 987 columns]"
      ]
     },
     "execution_count": 14,
     "metadata": {},
     "output_type": "execute_result"
    }
   ],
   "source": [
    "phenomexcan_projection.head()"
   ]
  },
  {
   "cell_type": "markdown",
   "id": "ranging-starter",
   "metadata": {
    "papermill": {
     "duration": 0.030899,
     "end_time": "2021-07-17T14:49:35.726884",
     "exception": false,
     "start_time": "2021-07-17T14:49:35.695985",
     "status": "completed"
    },
    "tags": []
   },
   "source": [
    "## Clustering results"
   ]
  },
  {
   "cell_type": "code",
   "execution_count": 15,
   "id": "casual-lounge",
   "metadata": {
    "execution": {
     "iopub.execute_input": "2021-07-17T14:49:35.790668Z",
     "iopub.status.busy": "2021-07-17T14:49:35.790260Z",
     "iopub.status.idle": "2021-07-17T14:49:35.802361Z",
     "shell.execute_reply": "2021-07-17T14:49:35.801990Z"
    },
    "papermill": {
     "duration": 0.04487,
     "end_time": "2021-07-17T14:49:35.802446",
     "exception": false,
     "start_time": "2021-07-17T14:49:35.757576",
     "status": "completed"
    },
    "tags": []
   },
   "outputs": [
    {
     "data": {
      "text/plain": [
       "PosixPath('/home/miltondp/projects/labs/greenelab/phenoplier/base/results/clustering/consensus_clustering')"
      ]
     },
     "metadata": {},
     "output_type": "display_data"
    }
   ],
   "source": [
    "CONSENSUS_CLUSTERING_DIR = Path(\n",
    "    conf.RESULTS[\"CLUSTERING_DIR\"], \"consensus_clustering\"\n",
    ").resolve()\n",
    "\n",
    "display(CONSENSUS_CLUSTERING_DIR)"
   ]
  },
  {
   "cell_type": "code",
   "execution_count": 16,
   "id": "peripheral-helmet",
   "metadata": {
    "execution": {
     "iopub.execute_input": "2021-07-17T14:49:35.863866Z",
     "iopub.status.busy": "2021-07-17T14:49:35.863484Z",
     "iopub.status.idle": "2021-07-17T14:49:35.875415Z",
     "shell.execute_reply": "2021-07-17T14:49:35.875722Z"
    },
    "papermill": {
     "duration": 0.04452,
     "end_time": "2021-07-17T14:49:35.875839",
     "exception": false,
     "start_time": "2021-07-17T14:49:35.831319",
     "status": "completed"
    },
    "tags": []
   },
   "outputs": [
    {
     "data": {
      "text/plain": [
       "PosixPath('/home/miltondp/projects/labs/greenelab/phenoplier/base/results/clustering/consensus_clustering/best_partitions_by_k.pkl')"
      ]
     },
     "metadata": {},
     "output_type": "display_data"
    }
   ],
   "source": [
    "input_file = Path(CONSENSUS_CLUSTERING_DIR, \"best_partitions_by_k.pkl\").resolve()\n",
    "display(input_file)"
   ]
  },
  {
   "cell_type": "code",
   "execution_count": 17,
   "id": "frozen-skill",
   "metadata": {
    "execution": {
     "iopub.execute_input": "2021-07-17T14:49:35.938840Z",
     "iopub.status.busy": "2021-07-17T14:49:35.938471Z",
     "iopub.status.idle": "2021-07-17T14:49:35.950536Z",
     "shell.execute_reply": "2021-07-17T14:49:35.950101Z"
    },
    "papermill": {
     "duration": 0.045131,
     "end_time": "2021-07-17T14:49:35.950632",
     "exception": false,
     "start_time": "2021-07-17T14:49:35.905501",
     "status": "completed"
    },
    "tags": []
   },
   "outputs": [],
   "source": [
    "best_partitions = pd.read_pickle(input_file)"
   ]
  },
  {
   "cell_type": "code",
   "execution_count": 18,
   "id": "starting-bunch",
   "metadata": {
    "execution": {
     "iopub.execute_input": "2021-07-17T14:49:36.013245Z",
     "iopub.status.busy": "2021-07-17T14:49:36.012875Z",
     "iopub.status.idle": "2021-07-17T14:49:36.024931Z",
     "shell.execute_reply": "2021-07-17T14:49:36.024532Z"
    },
    "papermill": {
     "duration": 0.045304,
     "end_time": "2021-07-17T14:49:36.025025",
     "exception": false,
     "start_time": "2021-07-17T14:49:35.979721",
     "status": "completed"
    },
    "tags": []
   },
   "outputs": [
    {
     "data": {
      "text/plain": [
       "(59, 4)"
      ]
     },
     "execution_count": 18,
     "metadata": {},
     "output_type": "execute_result"
    }
   ],
   "source": [
    "best_partitions.shape"
   ]
  },
  {
   "cell_type": "code",
   "execution_count": 19,
   "id": "interested-stuart",
   "metadata": {
    "execution": {
     "iopub.execute_input": "2021-07-17T14:49:36.084792Z",
     "iopub.status.busy": "2021-07-17T14:49:36.084354Z",
     "iopub.status.idle": "2021-07-17T14:49:36.104763Z",
     "shell.execute_reply": "2021-07-17T14:49:36.104326Z"
    },
    "papermill": {
     "duration": 0.050995,
     "end_time": "2021-07-17T14:49:36.104860",
     "exception": false,
     "start_time": "2021-07-17T14:49:36.053865",
     "status": "completed"
    },
    "tags": []
   },
   "outputs": [
    {
     "data": {
      "text/html": [
       "<div>\n",
       "<style scoped>\n",
       "    .dataframe tbody tr th:only-of-type {\n",
       "        vertical-align: middle;\n",
       "    }\n",
       "\n",
       "    .dataframe tbody tr th {\n",
       "        vertical-align: top;\n",
       "    }\n",
       "\n",
       "    .dataframe thead th {\n",
       "        text-align: right;\n",
       "    }\n",
       "</style>\n",
       "<table border=\"1\" class=\"dataframe\">\n",
       "  <thead>\n",
       "    <tr style=\"text-align: right;\">\n",
       "      <th></th>\n",
       "      <th>method</th>\n",
       "      <th>partition</th>\n",
       "      <th>ari_median</th>\n",
       "      <th>selected</th>\n",
       "    </tr>\n",
       "    <tr>\n",
       "      <th>k</th>\n",
       "      <th></th>\n",
       "      <th></th>\n",
       "      <th></th>\n",
       "      <th></th>\n",
       "    </tr>\n",
       "  </thead>\n",
       "  <tbody>\n",
       "    <tr>\n",
       "      <th>14</th>\n",
       "      <td>scc_025</td>\n",
       "      <td>[0, 0, 0, 0, 0, 0, 0, 0, 0, 0, 0, 0, 0, 0, 0, ...</td>\n",
       "      <td>0.090117</td>\n",
       "      <td>True</td>\n",
       "    </tr>\n",
       "    <tr>\n",
       "      <th>22</th>\n",
       "      <td>scc_020</td>\n",
       "      <td>[13, 18, 18, 18, 18, 18, 18, 18, 18, 13, 18, 1...</td>\n",
       "      <td>0.090100</td>\n",
       "      <td>True</td>\n",
       "    </tr>\n",
       "    <tr>\n",
       "      <th>13</th>\n",
       "      <td>scc_025</td>\n",
       "      <td>[0, 0, 0, 0, 0, 0, 0, 0, 0, 0, 0, 0, 0, 0, 0, ...</td>\n",
       "      <td>0.089920</td>\n",
       "      <td>True</td>\n",
       "    </tr>\n",
       "    <tr>\n",
       "      <th>12</th>\n",
       "      <td>scc_025</td>\n",
       "      <td>[0, 0, 0, 0, 0, 0, 0, 0, 0, 0, 0, 0, 0, 0, 0, ...</td>\n",
       "      <td>0.089894</td>\n",
       "      <td>True</td>\n",
       "    </tr>\n",
       "    <tr>\n",
       "      <th>11</th>\n",
       "      <td>scc_025</td>\n",
       "      <td>[0, 0, 0, 0, 0, 0, 0, 0, 0, 0, 0, 0, 0, 0, 0, ...</td>\n",
       "      <td>0.089616</td>\n",
       "      <td>True</td>\n",
       "    </tr>\n",
       "  </tbody>\n",
       "</table>\n",
       "</div>"
      ],
      "text/plain": [
       "     method                                          partition  ari_median  \\\n",
       "k                                                                            \n",
       "14  scc_025  [0, 0, 0, 0, 0, 0, 0, 0, 0, 0, 0, 0, 0, 0, 0, ...    0.090117   \n",
       "22  scc_020  [13, 18, 18, 18, 18, 18, 18, 18, 18, 13, 18, 1...    0.090100   \n",
       "13  scc_025  [0, 0, 0, 0, 0, 0, 0, 0, 0, 0, 0, 0, 0, 0, 0, ...    0.089920   \n",
       "12  scc_025  [0, 0, 0, 0, 0, 0, 0, 0, 0, 0, 0, 0, 0, 0, 0, ...    0.089894   \n",
       "11  scc_025  [0, 0, 0, 0, 0, 0, 0, 0, 0, 0, 0, 0, 0, 0, 0, ...    0.089616   \n",
       "\n",
       "    selected  \n",
       "k             \n",
       "14      True  \n",
       "22      True  \n",
       "13      True  \n",
       "12      True  \n",
       "11      True  "
      ]
     },
     "execution_count": 19,
     "metadata": {},
     "output_type": "execute_result"
    }
   ],
   "source": [
    "best_partitions.head()"
   ]
  },
  {
   "cell_type": "markdown",
   "id": "piano-tribune",
   "metadata": {
    "papermill": {
     "duration": 0.031515,
     "end_time": "2021-07-17T14:49:36.166430",
     "exception": false,
     "start_time": "2021-07-17T14:49:36.134915",
     "status": "completed"
    },
    "tags": []
   },
   "source": [
    "## MultiPLIER summary"
   ]
  },
  {
   "cell_type": "code",
   "execution_count": 20,
   "id": "distributed-eclipse",
   "metadata": {
    "execution": {
     "iopub.execute_input": "2021-07-17T14:49:36.230428Z",
     "iopub.status.busy": "2021-07-17T14:49:36.229995Z",
     "iopub.status.idle": "2021-07-17T14:49:36.244803Z",
     "shell.execute_reply": "2021-07-17T14:49:36.244325Z"
    },
    "papermill": {
     "duration": 0.047178,
     "end_time": "2021-07-17T14:49:36.244908",
     "exception": false,
     "start_time": "2021-07-17T14:49:36.197730",
     "status": "completed"
    },
    "tags": []
   },
   "outputs": [],
   "source": [
    "multiplier_model_summary = pd.read_pickle(conf.MULTIPLIER[\"MODEL_SUMMARY_FILE\"])"
   ]
  },
  {
   "cell_type": "code",
   "execution_count": 21,
   "id": "surprised-sarah",
   "metadata": {
    "execution": {
     "iopub.execute_input": "2021-07-17T14:49:36.310869Z",
     "iopub.status.busy": "2021-07-17T14:49:36.310473Z",
     "iopub.status.idle": "2021-07-17T14:49:36.322432Z",
     "shell.execute_reply": "2021-07-17T14:49:36.322055Z"
    },
    "papermill": {
     "duration": 0.045285,
     "end_time": "2021-07-17T14:49:36.322517",
     "exception": false,
     "start_time": "2021-07-17T14:49:36.277232",
     "status": "completed"
    },
    "tags": []
   },
   "outputs": [
    {
     "data": {
      "text/plain": [
       "(2157, 5)"
      ]
     },
     "execution_count": 21,
     "metadata": {},
     "output_type": "execute_result"
    }
   ],
   "source": [
    "multiplier_model_summary.shape"
   ]
  },
  {
   "cell_type": "code",
   "execution_count": 22,
   "id": "smoking-novel",
   "metadata": {
    "execution": {
     "iopub.execute_input": "2021-07-17T14:49:36.387474Z",
     "iopub.status.busy": "2021-07-17T14:49:36.387100Z",
     "iopub.status.idle": "2021-07-17T14:49:36.402965Z",
     "shell.execute_reply": "2021-07-17T14:49:36.402560Z"
    },
    "papermill": {
     "duration": 0.049558,
     "end_time": "2021-07-17T14:49:36.403055",
     "exception": false,
     "start_time": "2021-07-17T14:49:36.353497",
     "status": "completed"
    },
    "tags": []
   },
   "outputs": [
    {
     "data": {
      "text/html": [
       "<div>\n",
       "<style scoped>\n",
       "    .dataframe tbody tr th:only-of-type {\n",
       "        vertical-align: middle;\n",
       "    }\n",
       "\n",
       "    .dataframe tbody tr th {\n",
       "        vertical-align: top;\n",
       "    }\n",
       "\n",
       "    .dataframe thead th {\n",
       "        text-align: right;\n",
       "    }\n",
       "</style>\n",
       "<table border=\"1\" class=\"dataframe\">\n",
       "  <thead>\n",
       "    <tr style=\"text-align: right;\">\n",
       "      <th></th>\n",
       "      <th>pathway</th>\n",
       "      <th>LV index</th>\n",
       "      <th>AUC</th>\n",
       "      <th>p-value</th>\n",
       "      <th>FDR</th>\n",
       "    </tr>\n",
       "  </thead>\n",
       "  <tbody>\n",
       "    <tr>\n",
       "      <th>1</th>\n",
       "      <td>KEGG_LYSINE_DEGRADATION</td>\n",
       "      <td>1</td>\n",
       "      <td>0.388059</td>\n",
       "      <td>0.866078</td>\n",
       "      <td>0.956005</td>\n",
       "    </tr>\n",
       "    <tr>\n",
       "      <th>2</th>\n",
       "      <td>REACTOME_MRNA_SPLICING</td>\n",
       "      <td>1</td>\n",
       "      <td>0.733057</td>\n",
       "      <td>0.000048</td>\n",
       "      <td>0.000582</td>\n",
       "    </tr>\n",
       "    <tr>\n",
       "      <th>3</th>\n",
       "      <td>MIPS_NOP56P_ASSOCIATED_PRE_RRNA_COMPLEX</td>\n",
       "      <td>1</td>\n",
       "      <td>0.680555</td>\n",
       "      <td>0.001628</td>\n",
       "      <td>0.011366</td>\n",
       "    </tr>\n",
       "    <tr>\n",
       "      <th>4</th>\n",
       "      <td>KEGG_DNA_REPLICATION</td>\n",
       "      <td>1</td>\n",
       "      <td>0.549473</td>\n",
       "      <td>0.312155</td>\n",
       "      <td>0.539951</td>\n",
       "    </tr>\n",
       "    <tr>\n",
       "      <th>5</th>\n",
       "      <td>PID_MYC_ACTIVPATHWAY</td>\n",
       "      <td>1</td>\n",
       "      <td>0.639303</td>\n",
       "      <td>0.021702</td>\n",
       "      <td>0.083739</td>\n",
       "    </tr>\n",
       "  </tbody>\n",
       "</table>\n",
       "</div>"
      ],
      "text/plain": [
       "                                   pathway LV index       AUC   p-value  \\\n",
       "1                  KEGG_LYSINE_DEGRADATION        1  0.388059  0.866078   \n",
       "2                   REACTOME_MRNA_SPLICING        1  0.733057  0.000048   \n",
       "3  MIPS_NOP56P_ASSOCIATED_PRE_RRNA_COMPLEX        1  0.680555  0.001628   \n",
       "4                     KEGG_DNA_REPLICATION        1  0.549473  0.312155   \n",
       "5                     PID_MYC_ACTIVPATHWAY        1  0.639303  0.021702   \n",
       "\n",
       "        FDR  \n",
       "1  0.956005  \n",
       "2  0.000582  \n",
       "3  0.011366  \n",
       "4  0.539951  \n",
       "5  0.083739  "
      ]
     },
     "execution_count": 22,
     "metadata": {},
     "output_type": "execute_result"
    }
   ],
   "source": [
    "multiplier_model_summary.head()"
   ]
  },
  {
   "cell_type": "code",
   "execution_count": 23,
   "id": "educational-procedure",
   "metadata": {
    "execution": {
     "iopub.execute_input": "2021-07-17T14:49:36.470027Z",
     "iopub.status.busy": "2021-07-17T14:49:36.469618Z",
     "iopub.status.idle": "2021-07-17T14:49:36.489023Z",
     "shell.execute_reply": "2021-07-17T14:49:36.489326Z"
    },
    "papermill": {
     "duration": 0.053649,
     "end_time": "2021-07-17T14:49:36.489432",
     "exception": false,
     "start_time": "2021-07-17T14:49:36.435783",
     "status": "completed"
    },
    "tags": []
   },
   "outputs": [
    {
     "data": {
      "text/plain": [
       "(469, 5)"
      ]
     },
     "metadata": {},
     "output_type": "display_data"
    },
    {
     "data": {
      "text/html": [
       "<div>\n",
       "<style scoped>\n",
       "    .dataframe tbody tr th:only-of-type {\n",
       "        vertical-align: middle;\n",
       "    }\n",
       "\n",
       "    .dataframe tbody tr th {\n",
       "        vertical-align: top;\n",
       "    }\n",
       "\n",
       "    .dataframe thead th {\n",
       "        text-align: right;\n",
       "    }\n",
       "</style>\n",
       "<table border=\"1\" class=\"dataframe\">\n",
       "  <thead>\n",
       "    <tr style=\"text-align: right;\">\n",
       "      <th></th>\n",
       "      <th>pathway</th>\n",
       "      <th>LV index</th>\n",
       "      <th>AUC</th>\n",
       "      <th>p-value</th>\n",
       "      <th>FDR</th>\n",
       "    </tr>\n",
       "  </thead>\n",
       "  <tbody>\n",
       "    <tr>\n",
       "      <th>2</th>\n",
       "      <td>REACTOME_MRNA_SPLICING</td>\n",
       "      <td>1</td>\n",
       "      <td>0.733057</td>\n",
       "      <td>4.772691e-05</td>\n",
       "      <td>5.816211e-04</td>\n",
       "    </tr>\n",
       "    <tr>\n",
       "      <th>3</th>\n",
       "      <td>MIPS_NOP56P_ASSOCIATED_PRE_RRNA_COMPLEX</td>\n",
       "      <td>1</td>\n",
       "      <td>0.680555</td>\n",
       "      <td>1.628217e-03</td>\n",
       "      <td>1.136590e-02</td>\n",
       "    </tr>\n",
       "    <tr>\n",
       "      <th>8</th>\n",
       "      <td>REACTOME_MITOTIC_G1_G1_S_PHASES</td>\n",
       "      <td>1</td>\n",
       "      <td>0.686170</td>\n",
       "      <td>2.517619e-04</td>\n",
       "      <td>2.392292e-03</td>\n",
       "    </tr>\n",
       "    <tr>\n",
       "      <th>9</th>\n",
       "      <td>IRIS_Monocyte-Day0</td>\n",
       "      <td>2</td>\n",
       "      <td>0.890036</td>\n",
       "      <td>4.315812e-25</td>\n",
       "      <td>1.329887e-22</td>\n",
       "    </tr>\n",
       "    <tr>\n",
       "      <th>10</th>\n",
       "      <td>DMAP_MONO2</td>\n",
       "      <td>2</td>\n",
       "      <td>0.904676</td>\n",
       "      <td>1.313970e-16</td>\n",
       "      <td>1.574574e-14</td>\n",
       "    </tr>\n",
       "  </tbody>\n",
       "</table>\n",
       "</div>"
      ],
      "text/plain": [
       "                                    pathway LV index       AUC       p-value  \\\n",
       "2                    REACTOME_MRNA_SPLICING        1  0.733057  4.772691e-05   \n",
       "3   MIPS_NOP56P_ASSOCIATED_PRE_RRNA_COMPLEX        1  0.680555  1.628217e-03   \n",
       "8           REACTOME_MITOTIC_G1_G1_S_PHASES        1  0.686170  2.517619e-04   \n",
       "9                        IRIS_Monocyte-Day0        2  0.890036  4.315812e-25   \n",
       "10                               DMAP_MONO2        2  0.904676  1.313970e-16   \n",
       "\n",
       "             FDR  \n",
       "2   5.816211e-04  \n",
       "3   1.136590e-02  \n",
       "8   2.392292e-03  \n",
       "9   1.329887e-22  \n",
       "10  1.574574e-14  "
      ]
     },
     "metadata": {},
     "output_type": "display_data"
    }
   ],
   "source": [
    "well_aligned_lvs = multiplier_model_summary[\n",
    "    (multiplier_model_summary[\"FDR\"] < 0.05) | (multiplier_model_summary[\"AUC\"] >= 0.75)\n",
    "]\n",
    "\n",
    "display(well_aligned_lvs.shape)\n",
    "display(well_aligned_lvs.head())"
   ]
  },
  {
   "cell_type": "code",
   "execution_count": 24,
   "id": "solved-sterling",
   "metadata": {
    "execution": {
     "iopub.execute_input": "2021-07-17T14:49:36.552415Z",
     "iopub.status.busy": "2021-07-17T14:49:36.552056Z",
     "iopub.status.idle": "2021-07-17T14:49:36.562790Z",
     "shell.execute_reply": "2021-07-17T14:49:36.563067Z"
    },
    "papermill": {
     "duration": 0.043408,
     "end_time": "2021-07-17T14:49:36.563186",
     "exception": false,
     "start_time": "2021-07-17T14:49:36.519778",
     "status": "completed"
    },
    "tags": []
   },
   "outputs": [],
   "source": [
    "well_aligned_lv_codes = set([f\"LV{lvi}\" for lvi in well_aligned_lvs[\"LV index\"]])"
   ]
  },
  {
   "cell_type": "code",
   "execution_count": 25,
   "id": "detailed-sacramento",
   "metadata": {
    "execution": {
     "iopub.execute_input": "2021-07-17T14:49:36.630369Z",
     "iopub.status.busy": "2021-07-17T14:49:36.629945Z",
     "iopub.status.idle": "2021-07-17T14:49:36.642187Z",
     "shell.execute_reply": "2021-07-17T14:49:36.642482Z"
    },
    "papermill": {
     "duration": 0.04746,
     "end_time": "2021-07-17T14:49:36.642585",
     "exception": false,
     "start_time": "2021-07-17T14:49:36.595125",
     "status": "completed"
    },
    "tags": []
   },
   "outputs": [
    {
     "data": {
      "text/plain": [
       "200"
      ]
     },
     "execution_count": 25,
     "metadata": {},
     "output_type": "execute_result"
    }
   ],
   "source": [
    "len(well_aligned_lv_codes)"
   ]
  },
  {
   "cell_type": "code",
   "execution_count": 26,
   "id": "incoming-vatican",
   "metadata": {
    "execution": {
     "iopub.execute_input": "2021-07-17T14:49:36.706833Z",
     "iopub.status.busy": "2021-07-17T14:49:36.706466Z",
     "iopub.status.idle": "2021-07-17T14:49:36.718248Z",
     "shell.execute_reply": "2021-07-17T14:49:36.718534Z"
    },
    "papermill": {
     "duration": 0.046072,
     "end_time": "2021-07-17T14:49:36.718646",
     "exception": false,
     "start_time": "2021-07-17T14:49:36.672574",
     "status": "completed"
    },
    "tags": []
   },
   "outputs": [
    {
     "data": {
      "text/plain": [
       "['LV675', 'LV49', 'LV176', 'LV913', 'LV599']"
      ]
     },
     "execution_count": 26,
     "metadata": {},
     "output_type": "execute_result"
    }
   ],
   "source": [
    "list(well_aligned_lv_codes)[:5]"
   ]
  },
  {
   "cell_type": "markdown",
   "id": "specified-mailman",
   "metadata": {
    "papermill": {
     "duration": 0.029741,
     "end_time": "2021-07-17T14:49:36.779529",
     "exception": false,
     "start_time": "2021-07-17T14:49:36.749788",
     "status": "completed"
    },
    "tags": []
   },
   "source": [
    "# Select LVs from CRISPR analysis"
   ]
  },
  {
   "cell_type": "code",
   "execution_count": 27,
   "id": "grateful-alert",
   "metadata": {
    "execution": {
     "iopub.execute_input": "2021-07-17T14:49:36.841626Z",
     "iopub.status.busy": "2021-07-17T14:49:36.841236Z",
     "iopub.status.idle": "2021-07-17T14:49:36.858576Z",
     "shell.execute_reply": "2021-07-17T14:49:36.858247Z"
    },
    "papermill": {
     "duration": 0.049341,
     "end_time": "2021-07-17T14:49:36.858667",
     "exception": false,
     "start_time": "2021-07-17T14:49:36.809326",
     "status": "completed"
    },
    "tags": []
   },
   "outputs": [],
   "source": [
    "# FIXME: there will be a specific folder for crispr analysis in the future, that should be replaced here\n",
    "deg_enrich = pd.read_csv(\n",
    "    Path(\n",
    "        conf.RESULTS[\"BASE_DIR\"],\n",
    "        \"crispr_analyses\",\n",
    "        \"fgsea-hi_conf-all_lvs.tsv\",\n",
    "    ).resolve(),\n",
    "    sep=\"\\t\",\n",
    ")"
   ]
  },
  {
   "cell_type": "code",
   "execution_count": 28,
   "id": "stuck-quest",
   "metadata": {
    "execution": {
     "iopub.execute_input": "2021-07-17T14:49:36.921293Z",
     "iopub.status.busy": "2021-07-17T14:49:36.920912Z",
     "iopub.status.idle": "2021-07-17T14:49:36.932861Z",
     "shell.execute_reply": "2021-07-17T14:49:36.932512Z"
    },
    "papermill": {
     "duration": 0.043873,
     "end_time": "2021-07-17T14:49:36.932956",
     "exception": false,
     "start_time": "2021-07-17T14:49:36.889083",
     "status": "completed"
    },
    "tags": []
   },
   "outputs": [
    {
     "data": {
      "text/plain": [
       "(1974, 11)"
      ]
     },
     "execution_count": 28,
     "metadata": {},
     "output_type": "execute_result"
    }
   ],
   "source": [
    "deg_enrich.shape"
   ]
  },
  {
   "cell_type": "code",
   "execution_count": 29,
   "id": "headed-solid",
   "metadata": {
    "execution": {
     "iopub.execute_input": "2021-07-17T14:49:36.996760Z",
     "iopub.status.busy": "2021-07-17T14:49:36.996347Z",
     "iopub.status.idle": "2021-07-17T14:49:37.014175Z",
     "shell.execute_reply": "2021-07-17T14:49:37.013871Z"
    },
    "papermill": {
     "duration": 0.050424,
     "end_time": "2021-07-17T14:49:37.014260",
     "exception": false,
     "start_time": "2021-07-17T14:49:36.963836",
     "status": "completed"
    },
    "tags": []
   },
   "outputs": [
    {
     "data": {
      "text/html": [
       "<div>\n",
       "<style scoped>\n",
       "    .dataframe tbody tr th:only-of-type {\n",
       "        vertical-align: middle;\n",
       "    }\n",
       "\n",
       "    .dataframe tbody tr th {\n",
       "        vertical-align: top;\n",
       "    }\n",
       "\n",
       "    .dataframe thead th {\n",
       "        text-align: right;\n",
       "    }\n",
       "</style>\n",
       "<table border=\"1\" class=\"dataframe\">\n",
       "  <thead>\n",
       "    <tr style=\"text-align: right;\">\n",
       "      <th></th>\n",
       "      <th>pathway</th>\n",
       "      <th>pval</th>\n",
       "      <th>padj</th>\n",
       "      <th>log2err</th>\n",
       "      <th>ES</th>\n",
       "      <th>NES</th>\n",
       "      <th>size</th>\n",
       "      <th>leadingEdge</th>\n",
       "      <th>lv</th>\n",
       "      <th>rep_idx</th>\n",
       "      <th>fdr</th>\n",
       "    </tr>\n",
       "  </thead>\n",
       "  <tbody>\n",
       "    <tr>\n",
       "      <th>0</th>\n",
       "      <td>gene_set_decrease</td>\n",
       "      <td>0.116883</td>\n",
       "      <td>0.233766</td>\n",
       "      <td>0.125640</td>\n",
       "      <td>0.909509</td>\n",
       "      <td>1.237006</td>\n",
       "      <td>5</td>\n",
       "      <td>PCYT2, UBE2J2, FBXW7</td>\n",
       "      <td>LV1</td>\n",
       "      <td>8</td>\n",
       "      <td>0.967285</td>\n",
       "    </tr>\n",
       "    <tr>\n",
       "      <th>1</th>\n",
       "      <td>gene_set_increase</td>\n",
       "      <td>0.285714</td>\n",
       "      <td>0.285714</td>\n",
       "      <td>0.072180</td>\n",
       "      <td>0.840253</td>\n",
       "      <td>1.258282</td>\n",
       "      <td>3</td>\n",
       "      <td>ACACA, MBTPS1</td>\n",
       "      <td>LV1</td>\n",
       "      <td>2</td>\n",
       "      <td>0.967285</td>\n",
       "    </tr>\n",
       "    <tr>\n",
       "      <th>2</th>\n",
       "      <td>gene_set_decrease</td>\n",
       "      <td>0.741259</td>\n",
       "      <td>0.741259</td>\n",
       "      <td>0.026956</td>\n",
       "      <td>0.751964</td>\n",
       "      <td>1.005845</td>\n",
       "      <td>5</td>\n",
       "      <td>TCF7L2, UBE2J2, PTEN</td>\n",
       "      <td>LV10</td>\n",
       "      <td>10</td>\n",
       "      <td>0.967285</td>\n",
       "    </tr>\n",
       "    <tr>\n",
       "      <th>3</th>\n",
       "      <td>gene_set_increase</td>\n",
       "      <td>0.427572</td>\n",
       "      <td>0.720280</td>\n",
       "      <td>0.052805</td>\n",
       "      <td>0.814140</td>\n",
       "      <td>1.320263</td>\n",
       "      <td>3</td>\n",
       "      <td>MBTPS1, DGAT2</td>\n",
       "      <td>LV10</td>\n",
       "      <td>4</td>\n",
       "      <td>0.967285</td>\n",
       "    </tr>\n",
       "    <tr>\n",
       "      <th>4</th>\n",
       "      <td>gene_set_decrease</td>\n",
       "      <td>0.908092</td>\n",
       "      <td>0.908092</td>\n",
       "      <td>0.014514</td>\n",
       "      <td>0.540400</td>\n",
       "      <td>0.778719</td>\n",
       "      <td>5</td>\n",
       "      <td>PTEN, TCF7L2</td>\n",
       "      <td>LV100</td>\n",
       "      <td>1</td>\n",
       "      <td>0.974250</td>\n",
       "    </tr>\n",
       "  </tbody>\n",
       "</table>\n",
       "</div>"
      ],
      "text/plain": [
       "             pathway      pval      padj   log2err        ES       NES  size  \\\n",
       "0  gene_set_decrease  0.116883  0.233766  0.125640  0.909509  1.237006     5   \n",
       "1  gene_set_increase  0.285714  0.285714  0.072180  0.840253  1.258282     3   \n",
       "2  gene_set_decrease  0.741259  0.741259  0.026956  0.751964  1.005845     5   \n",
       "3  gene_set_increase  0.427572  0.720280  0.052805  0.814140  1.320263     3   \n",
       "4  gene_set_decrease  0.908092  0.908092  0.014514  0.540400  0.778719     5   \n",
       "\n",
       "            leadingEdge     lv  rep_idx       fdr  \n",
       "0  PCYT2, UBE2J2, FBXW7    LV1        8  0.967285  \n",
       "1         ACACA, MBTPS1    LV1        2  0.967285  \n",
       "2  TCF7L2, UBE2J2, PTEN   LV10       10  0.967285  \n",
       "3         MBTPS1, DGAT2   LV10        4  0.967285  \n",
       "4          PTEN, TCF7L2  LV100        1  0.974250  "
      ]
     },
     "execution_count": 29,
     "metadata": {},
     "output_type": "execute_result"
    }
   ],
   "source": [
    "deg_enrich.head()"
   ]
  },
  {
   "cell_type": "code",
   "execution_count": 30,
   "id": "endangered-occasions",
   "metadata": {
    "execution": {
     "iopub.execute_input": "2021-07-17T14:49:37.080995Z",
     "iopub.status.busy": "2021-07-17T14:49:37.080523Z",
     "iopub.status.idle": "2021-07-17T14:49:37.091147Z",
     "shell.execute_reply": "2021-07-17T14:49:37.091425Z"
    },
    "papermill": {
     "duration": 0.046208,
     "end_time": "2021-07-17T14:49:37.091529",
     "exception": false,
     "start_time": "2021-07-17T14:49:37.045321",
     "status": "completed"
    },
    "tags": []
   },
   "outputs": [],
   "source": [
    "# deg_enrich_max_idx = deg_enrich.groupby([\"lv\", \"pathway\"])[\"pval\"].idxmax()"
   ]
  },
  {
   "cell_type": "code",
   "execution_count": 31,
   "id": "unlike-solomon",
   "metadata": {
    "execution": {
     "iopub.execute_input": "2021-07-17T14:49:37.180525Z",
     "iopub.status.busy": "2021-07-17T14:49:37.180137Z",
     "iopub.status.idle": "2021-07-17T14:49:37.191341Z",
     "shell.execute_reply": "2021-07-17T14:49:37.191001Z"
    },
    "papermill": {
     "duration": 0.049924,
     "end_time": "2021-07-17T14:49:37.191436",
     "exception": false,
     "start_time": "2021-07-17T14:49:37.141512",
     "status": "completed"
    },
    "tags": []
   },
   "outputs": [],
   "source": [
    "# deg_enrich = deg_enrich.loc[deg_enrich_max_idx].reset_index(drop=True)\n",
    "# display(deg_enrich.shape)\n",
    "# display(deg_enrich.head())"
   ]
  },
  {
   "cell_type": "markdown",
   "id": "improved-basis",
   "metadata": {
    "papermill": {
     "duration": 0.035794,
     "end_time": "2021-07-17T14:49:37.259743",
     "exception": false,
     "start_time": "2021-07-17T14:49:37.223949",
     "status": "completed"
    },
    "tags": []
   },
   "source": [
    "## Lipids-increasing gene sets"
   ]
  },
  {
   "cell_type": "code",
   "execution_count": 32,
   "id": "familiar-telescope",
   "metadata": {
    "execution": {
     "iopub.execute_input": "2021-07-17T14:49:37.328254Z",
     "iopub.status.busy": "2021-07-17T14:49:37.327838Z",
     "iopub.status.idle": "2021-07-17T14:49:37.339648Z",
     "shell.execute_reply": "2021-07-17T14:49:37.339290Z"
    },
    "papermill": {
     "duration": 0.04823,
     "end_time": "2021-07-17T14:49:37.339735",
     "exception": false,
     "start_time": "2021-07-17T14:49:37.291505",
     "status": "completed"
    },
    "tags": []
   },
   "outputs": [],
   "source": [
    "deg_increase = deg_enrich[\n",
    "    deg_enrich[\"pathway\"].isin((\"gene_set_increase\",)) & (deg_enrich[\"pval\"] < 0.01)\n",
    "].sort_values(\"pval\", ascending=True)"
   ]
  },
  {
   "cell_type": "code",
   "execution_count": 33,
   "id": "acting-diagram",
   "metadata": {
    "execution": {
     "iopub.execute_input": "2021-07-17T14:49:37.408279Z",
     "iopub.status.busy": "2021-07-17T14:49:37.407891Z",
     "iopub.status.idle": "2021-07-17T14:49:37.419002Z",
     "shell.execute_reply": "2021-07-17T14:49:37.418619Z"
    },
    "papermill": {
     "duration": 0.046621,
     "end_time": "2021-07-17T14:49:37.419089",
     "exception": false,
     "start_time": "2021-07-17T14:49:37.372468",
     "status": "completed"
    },
    "tags": []
   },
   "outputs": [
    {
     "data": {
      "text/plain": [
       "(7, 11)"
      ]
     },
     "execution_count": 33,
     "metadata": {},
     "output_type": "execute_result"
    }
   ],
   "source": [
    "deg_increase.shape"
   ]
  },
  {
   "cell_type": "code",
   "execution_count": 34,
   "id": "cutting-latest",
   "metadata": {
    "execution": {
     "iopub.execute_input": "2021-07-17T14:49:37.488426Z",
     "iopub.status.busy": "2021-07-17T14:49:37.488013Z",
     "iopub.status.idle": "2021-07-17T14:49:37.506312Z",
     "shell.execute_reply": "2021-07-17T14:49:37.505927Z"
    },
    "papermill": {
     "duration": 0.054478,
     "end_time": "2021-07-17T14:49:37.506397",
     "exception": false,
     "start_time": "2021-07-17T14:49:37.451919",
     "status": "completed"
    },
    "tags": []
   },
   "outputs": [
    {
     "data": {
      "text/html": [
       "<div>\n",
       "<style scoped>\n",
       "    .dataframe tbody tr th:only-of-type {\n",
       "        vertical-align: middle;\n",
       "    }\n",
       "\n",
       "    .dataframe tbody tr th {\n",
       "        vertical-align: top;\n",
       "    }\n",
       "\n",
       "    .dataframe thead th {\n",
       "        text-align: right;\n",
       "    }\n",
       "</style>\n",
       "<table border=\"1\" class=\"dataframe\">\n",
       "  <thead>\n",
       "    <tr style=\"text-align: right;\">\n",
       "      <th></th>\n",
       "      <th>pathway</th>\n",
       "      <th>pval</th>\n",
       "      <th>padj</th>\n",
       "      <th>log2err</th>\n",
       "      <th>ES</th>\n",
       "      <th>NES</th>\n",
       "      <th>size</th>\n",
       "      <th>leadingEdge</th>\n",
       "      <th>lv</th>\n",
       "      <th>rep_idx</th>\n",
       "      <th>fdr</th>\n",
       "    </tr>\n",
       "  </thead>\n",
       "  <tbody>\n",
       "    <tr>\n",
       "      <th>327</th>\n",
       "      <td>gene_set_increase</td>\n",
       "      <td>0.003533</td>\n",
       "      <td>0.007067</td>\n",
       "      <td>0.431708</td>\n",
       "      <td>0.998221</td>\n",
       "      <td>1.582398</td>\n",
       "      <td>3</td>\n",
       "      <td>DGAT2, ACACA</td>\n",
       "      <td>LV246</td>\n",
       "      <td>6</td>\n",
       "      <td>0.967285</td>\n",
       "    </tr>\n",
       "    <tr>\n",
       "      <th>1341</th>\n",
       "      <td>gene_set_increase</td>\n",
       "      <td>0.004573</td>\n",
       "      <td>0.009147</td>\n",
       "      <td>0.407018</td>\n",
       "      <td>0.998666</td>\n",
       "      <td>1.495780</td>\n",
       "      <td>3</td>\n",
       "      <td>ACACA, DGAT2</td>\n",
       "      <td>LV702</td>\n",
       "      <td>9</td>\n",
       "      <td>0.967285</td>\n",
       "    </tr>\n",
       "    <tr>\n",
       "      <th>1129</th>\n",
       "      <td>gene_set_increase</td>\n",
       "      <td>0.005837</td>\n",
       "      <td>0.011675</td>\n",
       "      <td>0.407018</td>\n",
       "      <td>0.996739</td>\n",
       "      <td>1.510660</td>\n",
       "      <td>3</td>\n",
       "      <td>ACACA, DGAT2</td>\n",
       "      <td>LV607</td>\n",
       "      <td>10</td>\n",
       "      <td>0.967285</td>\n",
       "    </tr>\n",
       "    <tr>\n",
       "      <th>1757</th>\n",
       "      <td>gene_set_increase</td>\n",
       "      <td>0.006730</td>\n",
       "      <td>0.013459</td>\n",
       "      <td>0.407018</td>\n",
       "      <td>0.997480</td>\n",
       "      <td>1.545604</td>\n",
       "      <td>3</td>\n",
       "      <td>ACACA, DGAT2</td>\n",
       "      <td>LV890</td>\n",
       "      <td>10</td>\n",
       "      <td>0.967285</td>\n",
       "    </tr>\n",
       "    <tr>\n",
       "      <th>1423</th>\n",
       "      <td>gene_set_increase</td>\n",
       "      <td>0.007847</td>\n",
       "      <td>0.015693</td>\n",
       "      <td>0.380730</td>\n",
       "      <td>0.990514</td>\n",
       "      <td>1.474472</td>\n",
       "      <td>3</td>\n",
       "      <td>MBTPS1, DGAT2</td>\n",
       "      <td>LV74</td>\n",
       "      <td>6</td>\n",
       "      <td>0.967285</td>\n",
       "    </tr>\n",
       "  </tbody>\n",
       "</table>\n",
       "</div>"
      ],
      "text/plain": [
       "                pathway      pval      padj   log2err        ES       NES  \\\n",
       "327   gene_set_increase  0.003533  0.007067  0.431708  0.998221  1.582398   \n",
       "1341  gene_set_increase  0.004573  0.009147  0.407018  0.998666  1.495780   \n",
       "1129  gene_set_increase  0.005837  0.011675  0.407018  0.996739  1.510660   \n",
       "1757  gene_set_increase  0.006730  0.013459  0.407018  0.997480  1.545604   \n",
       "1423  gene_set_increase  0.007847  0.015693  0.380730  0.990514  1.474472   \n",
       "\n",
       "      size    leadingEdge     lv  rep_idx       fdr  \n",
       "327      3   DGAT2, ACACA  LV246        6  0.967285  \n",
       "1341     3   ACACA, DGAT2  LV702        9  0.967285  \n",
       "1129     3   ACACA, DGAT2  LV607       10  0.967285  \n",
       "1757     3   ACACA, DGAT2  LV890       10  0.967285  \n",
       "1423     3  MBTPS1, DGAT2   LV74        6  0.967285  "
      ]
     },
     "execution_count": 34,
     "metadata": {},
     "output_type": "execute_result"
    }
   ],
   "source": [
    "deg_increase.head()"
   ]
  },
  {
   "cell_type": "code",
   "execution_count": 35,
   "id": "demographic-directory",
   "metadata": {
    "execution": {
     "iopub.execute_input": "2021-07-17T14:49:37.575307Z",
     "iopub.status.busy": "2021-07-17T14:49:37.574941Z",
     "iopub.status.idle": "2021-07-17T14:49:37.586292Z",
     "shell.execute_reply": "2021-07-17T14:49:37.585939Z"
    },
    "papermill": {
     "duration": 0.047498,
     "end_time": "2021-07-17T14:49:37.586375",
     "exception": false,
     "start_time": "2021-07-17T14:49:37.538877",
     "status": "completed"
    },
    "tags": []
   },
   "outputs": [],
   "source": [
    "lvs_increase = deg_increase[\"lv\"].unique()"
   ]
  },
  {
   "cell_type": "code",
   "execution_count": 36,
   "id": "extraordinary-assessment",
   "metadata": {
    "execution": {
     "iopub.execute_input": "2021-07-17T14:49:37.654986Z",
     "iopub.status.busy": "2021-07-17T14:49:37.654633Z",
     "iopub.status.idle": "2021-07-17T14:49:37.666293Z",
     "shell.execute_reply": "2021-07-17T14:49:37.665934Z"
    },
    "papermill": {
     "duration": 0.047693,
     "end_time": "2021-07-17T14:49:37.666387",
     "exception": false,
     "start_time": "2021-07-17T14:49:37.618694",
     "status": "completed"
    },
    "tags": []
   },
   "outputs": [
    {
     "data": {
      "text/plain": [
       "(7,)"
      ]
     },
     "execution_count": 36,
     "metadata": {},
     "output_type": "execute_result"
    }
   ],
   "source": [
    "lvs_increase.shape"
   ]
  },
  {
   "cell_type": "code",
   "execution_count": 37,
   "id": "limited-affect",
   "metadata": {
    "execution": {
     "iopub.execute_input": "2021-07-17T14:49:37.736924Z",
     "iopub.status.busy": "2021-07-17T14:49:37.736441Z",
     "iopub.status.idle": "2021-07-17T14:49:37.748197Z",
     "shell.execute_reply": "2021-07-17T14:49:37.747832Z"
    },
    "papermill": {
     "duration": 0.049378,
     "end_time": "2021-07-17T14:49:37.748282",
     "exception": false,
     "start_time": "2021-07-17T14:49:37.698904",
     "status": "completed"
    },
    "tags": []
   },
   "outputs": [
    {
     "data": {
      "text/plain": [
       "array(['LV246', 'LV702', 'LV607', 'LV890', 'LV74', 'LV865', 'LV841'],\n",
       "      dtype=object)"
      ]
     },
     "execution_count": 37,
     "metadata": {},
     "output_type": "execute_result"
    }
   ],
   "source": [
    "lvs_increase"
   ]
  },
  {
   "cell_type": "markdown",
   "id": "apart-liberia",
   "metadata": {
    "papermill": {
     "duration": 0.032806,
     "end_time": "2021-07-17T14:49:37.814518",
     "exception": false,
     "start_time": "2021-07-17T14:49:37.781712",
     "status": "completed"
    },
    "tags": []
   },
   "source": [
    "## Lipids-decreasing gene sets"
   ]
  },
  {
   "cell_type": "code",
   "execution_count": 38,
   "id": "tight-settlement",
   "metadata": {
    "execution": {
     "iopub.execute_input": "2021-07-17T14:49:37.881246Z",
     "iopub.status.busy": "2021-07-17T14:49:37.880873Z",
     "iopub.status.idle": "2021-07-17T14:49:37.891966Z",
     "shell.execute_reply": "2021-07-17T14:49:37.892250Z"
    },
    "papermill": {
     "duration": 0.045743,
     "end_time": "2021-07-17T14:49:37.892357",
     "exception": false,
     "start_time": "2021-07-17T14:49:37.846614",
     "status": "completed"
    },
    "tags": []
   },
   "outputs": [],
   "source": [
    "deg_decrease = deg_enrich[\n",
    "    deg_enrich[\"pathway\"].isin((\"gene_set_decrease\",)) & (deg_enrich[\"pval\"] < 0.01)\n",
    "].sort_values(\"pval\", ascending=True)"
   ]
  },
  {
   "cell_type": "code",
   "execution_count": 39,
   "id": "cordless-volunteer",
   "metadata": {
    "execution": {
     "iopub.execute_input": "2021-07-17T14:49:37.958373Z",
     "iopub.status.busy": "2021-07-17T14:49:37.958000Z",
     "iopub.status.idle": "2021-07-17T14:49:37.969312Z",
     "shell.execute_reply": "2021-07-17T14:49:37.969591Z"
    },
    "papermill": {
     "duration": 0.045494,
     "end_time": "2021-07-17T14:49:37.969695",
     "exception": false,
     "start_time": "2021-07-17T14:49:37.924201",
     "status": "completed"
    },
    "tags": []
   },
   "outputs": [
    {
     "data": {
      "text/plain": [
       "(8, 11)"
      ]
     },
     "execution_count": 39,
     "metadata": {},
     "output_type": "execute_result"
    }
   ],
   "source": [
    "deg_decrease.shape"
   ]
  },
  {
   "cell_type": "code",
   "execution_count": 40,
   "id": "protective-advance",
   "metadata": {
    "execution": {
     "iopub.execute_input": "2021-07-17T14:49:38.041075Z",
     "iopub.status.busy": "2021-07-17T14:49:38.040600Z",
     "iopub.status.idle": "2021-07-17T14:49:38.058986Z",
     "shell.execute_reply": "2021-07-17T14:49:38.058650Z"
    },
    "papermill": {
     "duration": 0.055564,
     "end_time": "2021-07-17T14:49:38.059072",
     "exception": false,
     "start_time": "2021-07-17T14:49:38.003508",
     "status": "completed"
    },
    "tags": []
   },
   "outputs": [
    {
     "data": {
      "text/html": [
       "<div>\n",
       "<style scoped>\n",
       "    .dataframe tbody tr th:only-of-type {\n",
       "        vertical-align: middle;\n",
       "    }\n",
       "\n",
       "    .dataframe tbody tr th {\n",
       "        vertical-align: top;\n",
       "    }\n",
       "\n",
       "    .dataframe thead th {\n",
       "        text-align: right;\n",
       "    }\n",
       "</style>\n",
       "<table border=\"1\" class=\"dataframe\">\n",
       "  <thead>\n",
       "    <tr style=\"text-align: right;\">\n",
       "      <th></th>\n",
       "      <th>pathway</th>\n",
       "      <th>pval</th>\n",
       "      <th>padj</th>\n",
       "      <th>log2err</th>\n",
       "      <th>ES</th>\n",
       "      <th>NES</th>\n",
       "      <th>size</th>\n",
       "      <th>leadingEdge</th>\n",
       "      <th>lv</th>\n",
       "      <th>rep_idx</th>\n",
       "      <th>fdr</th>\n",
       "    </tr>\n",
       "  </thead>\n",
       "  <tbody>\n",
       "    <tr>\n",
       "      <th>936</th>\n",
       "      <td>gene_set_decrease</td>\n",
       "      <td>0.000554</td>\n",
       "      <td>0.001108</td>\n",
       "      <td>0.477271</td>\n",
       "      <td>0.999703</td>\n",
       "      <td>1.388986</td>\n",
       "      <td>5</td>\n",
       "      <td>FBXW7, TCF7L2</td>\n",
       "      <td>LV520</td>\n",
       "      <td>6</td>\n",
       "      <td>0.967285</td>\n",
       "    </tr>\n",
       "    <tr>\n",
       "      <th>1560</th>\n",
       "      <td>gene_set_decrease</td>\n",
       "      <td>0.002201</td>\n",
       "      <td>0.004403</td>\n",
       "      <td>0.431708</td>\n",
       "      <td>0.997776</td>\n",
       "      <td>1.359600</td>\n",
       "      <td>5</td>\n",
       "      <td>UBE2J2, TCF7L2</td>\n",
       "      <td>LV801</td>\n",
       "      <td>6</td>\n",
       "      <td>0.967285</td>\n",
       "    </tr>\n",
       "    <tr>\n",
       "      <th>918</th>\n",
       "      <td>gene_set_decrease</td>\n",
       "      <td>0.002460</td>\n",
       "      <td>0.004921</td>\n",
       "      <td>0.431708</td>\n",
       "      <td>0.997331</td>\n",
       "      <td>1.382906</td>\n",
       "      <td>5</td>\n",
       "      <td>FBXW7, TCF7L2</td>\n",
       "      <td>LV512</td>\n",
       "      <td>2</td>\n",
       "      <td>0.967285</td>\n",
       "    </tr>\n",
       "    <tr>\n",
       "      <th>1140</th>\n",
       "      <td>gene_set_decrease</td>\n",
       "      <td>0.003570</td>\n",
       "      <td>0.007141</td>\n",
       "      <td>0.431708</td>\n",
       "      <td>0.999299</td>\n",
       "      <td>1.400503</td>\n",
       "      <td>5</td>\n",
       "      <td>PTEN, FBXW7</td>\n",
       "      <td>LV612</td>\n",
       "      <td>3</td>\n",
       "      <td>0.967285</td>\n",
       "    </tr>\n",
       "    <tr>\n",
       "      <th>690</th>\n",
       "      <td>gene_set_decrease</td>\n",
       "      <td>0.004053</td>\n",
       "      <td>0.008105</td>\n",
       "      <td>0.407018</td>\n",
       "      <td>0.996738</td>\n",
       "      <td>1.348694</td>\n",
       "      <td>5</td>\n",
       "      <td>PCYT2, TCF7L2</td>\n",
       "      <td>LV41</td>\n",
       "      <td>4</td>\n",
       "      <td>0.967285</td>\n",
       "    </tr>\n",
       "  </tbody>\n",
       "</table>\n",
       "</div>"
      ],
      "text/plain": [
       "                pathway      pval      padj   log2err        ES       NES  \\\n",
       "936   gene_set_decrease  0.000554  0.001108  0.477271  0.999703  1.388986   \n",
       "1560  gene_set_decrease  0.002201  0.004403  0.431708  0.997776  1.359600   \n",
       "918   gene_set_decrease  0.002460  0.004921  0.431708  0.997331  1.382906   \n",
       "1140  gene_set_decrease  0.003570  0.007141  0.431708  0.999299  1.400503   \n",
       "690   gene_set_decrease  0.004053  0.008105  0.407018  0.996738  1.348694   \n",
       "\n",
       "      size     leadingEdge     lv  rep_idx       fdr  \n",
       "936      5   FBXW7, TCF7L2  LV520        6  0.967285  \n",
       "1560     5  UBE2J2, TCF7L2  LV801        6  0.967285  \n",
       "918      5   FBXW7, TCF7L2  LV512        2  0.967285  \n",
       "1140     5     PTEN, FBXW7  LV612        3  0.967285  \n",
       "690      5   PCYT2, TCF7L2   LV41        4  0.967285  "
      ]
     },
     "execution_count": 40,
     "metadata": {},
     "output_type": "execute_result"
    }
   ],
   "source": [
    "deg_decrease.head()"
   ]
  },
  {
   "cell_type": "code",
   "execution_count": 41,
   "id": "swedish-pension",
   "metadata": {
    "execution": {
     "iopub.execute_input": "2021-07-17T14:49:38.125544Z",
     "iopub.status.busy": "2021-07-17T14:49:38.125156Z",
     "iopub.status.idle": "2021-07-17T14:49:38.137552Z",
     "shell.execute_reply": "2021-07-17T14:49:38.137846Z"
    },
    "papermill": {
     "duration": 0.04642,
     "end_time": "2021-07-17T14:49:38.137956",
     "exception": false,
     "start_time": "2021-07-17T14:49:38.091536",
     "status": "completed"
    },
    "tags": []
   },
   "outputs": [],
   "source": [
    "lvs_decrease = deg_decrease[\"lv\"].unique()"
   ]
  },
  {
   "cell_type": "code",
   "execution_count": 42,
   "id": "considered-attachment",
   "metadata": {
    "execution": {
     "iopub.execute_input": "2021-07-17T14:49:38.206622Z",
     "iopub.status.busy": "2021-07-17T14:49:38.206249Z",
     "iopub.status.idle": "2021-07-17T14:49:38.217589Z",
     "shell.execute_reply": "2021-07-17T14:49:38.217210Z"
    },
    "papermill": {
     "duration": 0.046246,
     "end_time": "2021-07-17T14:49:38.217688",
     "exception": false,
     "start_time": "2021-07-17T14:49:38.171442",
     "status": "completed"
    },
    "tags": []
   },
   "outputs": [
    {
     "data": {
      "text/plain": [
       "(8,)"
      ]
     },
     "execution_count": 42,
     "metadata": {},
     "output_type": "execute_result"
    }
   ],
   "source": [
    "lvs_decrease.shape"
   ]
  },
  {
   "cell_type": "code",
   "execution_count": 43,
   "id": "coated-focus",
   "metadata": {
    "execution": {
     "iopub.execute_input": "2021-07-17T14:49:38.291709Z",
     "iopub.status.busy": "2021-07-17T14:49:38.291357Z",
     "iopub.status.idle": "2021-07-17T14:49:38.303285Z",
     "shell.execute_reply": "2021-07-17T14:49:38.302876Z"
    },
    "papermill": {
     "duration": 0.048833,
     "end_time": "2021-07-17T14:49:38.303375",
     "exception": false,
     "start_time": "2021-07-17T14:49:38.254542",
     "status": "completed"
    },
    "tags": []
   },
   "outputs": [
    {
     "data": {
      "text/plain": [
       "array(['LV520', 'LV801', 'LV512', 'LV612', 'LV41', 'LV838', 'LV302',\n",
       "       'LV959'], dtype=object)"
      ]
     },
     "execution_count": 43,
     "metadata": {},
     "output_type": "execute_result"
    }
   ],
   "source": [
    "lvs_decrease"
   ]
  },
  {
   "cell_type": "markdown",
   "id": "posted-moses",
   "metadata": {
    "papermill": {
     "duration": 0.031704,
     "end_time": "2021-07-17T14:49:38.369260",
     "exception": false,
     "start_time": "2021-07-17T14:49:38.337556",
     "status": "completed"
    },
    "tags": []
   },
   "source": [
    "## Merge into one dataframe"
   ]
  },
  {
   "cell_type": "code",
   "execution_count": 44,
   "id": "pending-transsexual",
   "metadata": {
    "execution": {
     "iopub.execute_input": "2021-07-17T14:49:38.437350Z",
     "iopub.status.busy": "2021-07-17T14:49:38.436971Z",
     "iopub.status.idle": "2021-07-17T14:49:38.449156Z",
     "shell.execute_reply": "2021-07-17T14:49:38.448834Z"
    },
    "papermill": {
     "duration": 0.04689,
     "end_time": "2021-07-17T14:49:38.449246",
     "exception": false,
     "start_time": "2021-07-17T14:49:38.402356",
     "status": "completed"
    },
    "tags": []
   },
   "outputs": [],
   "source": [
    "_tmp0 = pd.DataFrame({\"lv\": lvs_increase, \"lv_set\": \"lipids-increasing\"})\n",
    "\n",
    "_tmp1 = pd.DataFrame({\"lv\": lvs_decrease, \"lv_set\": \"lipids-decreasing\"})"
   ]
  },
  {
   "cell_type": "code",
   "execution_count": 45,
   "id": "noticed-helping",
   "metadata": {
    "execution": {
     "iopub.execute_input": "2021-07-17T14:49:38.517728Z",
     "iopub.status.busy": "2021-07-17T14:49:38.517352Z",
     "iopub.status.idle": "2021-07-17T14:49:38.529226Z",
     "shell.execute_reply": "2021-07-17T14:49:38.528826Z"
    },
    "papermill": {
     "duration": 0.046806,
     "end_time": "2021-07-17T14:49:38.529312",
     "exception": false,
     "start_time": "2021-07-17T14:49:38.482506",
     "status": "completed"
    },
    "tags": []
   },
   "outputs": [],
   "source": [
    "gls_selected_lvs = pd.concat([_tmp0, _tmp1], ignore_index=True)"
   ]
  },
  {
   "cell_type": "code",
   "execution_count": 46,
   "id": "raising-structure",
   "metadata": {
    "execution": {
     "iopub.execute_input": "2021-07-17T14:49:38.596294Z",
     "iopub.status.busy": "2021-07-17T14:49:38.595916Z",
     "iopub.status.idle": "2021-07-17T14:49:38.608719Z",
     "shell.execute_reply": "2021-07-17T14:49:38.608323Z"
    },
    "papermill": {
     "duration": 0.046844,
     "end_time": "2021-07-17T14:49:38.608819",
     "exception": false,
     "start_time": "2021-07-17T14:49:38.561975",
     "status": "completed"
    },
    "tags": []
   },
   "outputs": [
    {
     "data": {
      "text/plain": [
       "(15, 2)"
      ]
     },
     "execution_count": 46,
     "metadata": {},
     "output_type": "execute_result"
    }
   ],
   "source": [
    "gls_selected_lvs.shape"
   ]
  },
  {
   "cell_type": "code",
   "execution_count": 47,
   "id": "arabic-monkey",
   "metadata": {
    "execution": {
     "iopub.execute_input": "2021-07-17T14:49:38.676531Z",
     "iopub.status.busy": "2021-07-17T14:49:38.676100Z",
     "iopub.status.idle": "2021-07-17T14:49:38.690821Z",
     "shell.execute_reply": "2021-07-17T14:49:38.690441Z"
    },
    "papermill": {
     "duration": 0.049607,
     "end_time": "2021-07-17T14:49:38.690913",
     "exception": false,
     "start_time": "2021-07-17T14:49:38.641306",
     "status": "completed"
    },
    "tags": []
   },
   "outputs": [
    {
     "data": {
      "text/html": [
       "<div>\n",
       "<style scoped>\n",
       "    .dataframe tbody tr th:only-of-type {\n",
       "        vertical-align: middle;\n",
       "    }\n",
       "\n",
       "    .dataframe tbody tr th {\n",
       "        vertical-align: top;\n",
       "    }\n",
       "\n",
       "    .dataframe thead th {\n",
       "        text-align: right;\n",
       "    }\n",
       "</style>\n",
       "<table border=\"1\" class=\"dataframe\">\n",
       "  <thead>\n",
       "    <tr style=\"text-align: right;\">\n",
       "      <th></th>\n",
       "      <th>lv</th>\n",
       "      <th>lv_set</th>\n",
       "    </tr>\n",
       "  </thead>\n",
       "  <tbody>\n",
       "    <tr>\n",
       "      <th>0</th>\n",
       "      <td>LV246</td>\n",
       "      <td>lipids-increasing</td>\n",
       "    </tr>\n",
       "    <tr>\n",
       "      <th>1</th>\n",
       "      <td>LV702</td>\n",
       "      <td>lipids-increasing</td>\n",
       "    </tr>\n",
       "    <tr>\n",
       "      <th>2</th>\n",
       "      <td>LV607</td>\n",
       "      <td>lipids-increasing</td>\n",
       "    </tr>\n",
       "    <tr>\n",
       "      <th>3</th>\n",
       "      <td>LV890</td>\n",
       "      <td>lipids-increasing</td>\n",
       "    </tr>\n",
       "    <tr>\n",
       "      <th>4</th>\n",
       "      <td>LV74</td>\n",
       "      <td>lipids-increasing</td>\n",
       "    </tr>\n",
       "  </tbody>\n",
       "</table>\n",
       "</div>"
      ],
      "text/plain": [
       "      lv             lv_set\n",
       "0  LV246  lipids-increasing\n",
       "1  LV702  lipids-increasing\n",
       "2  LV607  lipids-increasing\n",
       "3  LV890  lipids-increasing\n",
       "4   LV74  lipids-increasing"
      ]
     },
     "execution_count": 47,
     "metadata": {},
     "output_type": "execute_result"
    }
   ],
   "source": [
    "gls_selected_lvs.head()"
   ]
  },
  {
   "cell_type": "markdown",
   "id": "exotic-recording",
   "metadata": {
    "papermill": {
     "duration": 0.031968,
     "end_time": "2021-07-17T14:49:38.756274",
     "exception": false,
     "start_time": "2021-07-17T14:49:38.724306",
     "status": "completed"
    },
    "tags": []
   },
   "source": [
    "# Select traits from specific partition/cluster"
   ]
  },
  {
   "cell_type": "markdown",
   "id": "approved-syria",
   "metadata": {
    "papermill": {
     "duration": 0.03172,
     "end_time": "2021-07-17T14:49:38.820218",
     "exception": false,
     "start_time": "2021-07-17T14:49:38.788498",
     "status": "completed"
    },
    "tags": []
   },
   "source": [
    "For this run on the LVs related to the lipids CRISPR analysis, I'm only interested in the main clusters of the cardiovascular sub-branch."
   ]
  },
  {
   "cell_type": "code",
   "execution_count": 48,
   "id": "psychological-buddy",
   "metadata": {
    "execution": {
     "iopub.execute_input": "2021-07-17T14:49:38.887346Z",
     "iopub.status.busy": "2021-07-17T14:49:38.886969Z",
     "iopub.status.idle": "2021-07-17T14:49:38.897671Z",
     "shell.execute_reply": "2021-07-17T14:49:38.897967Z"
    },
    "papermill": {
     "duration": 0.045708,
     "end_time": "2021-07-17T14:49:38.898068",
     "exception": false,
     "start_time": "2021-07-17T14:49:38.852360",
     "status": "completed"
    },
    "tags": []
   },
   "outputs": [],
   "source": [
    "# PHENOTYPES_CONFIG = [\n",
    "#     # cardiovascular\n",
    "#     (29, 14),\n",
    "#     (29, 16),\n",
    "#     (29, 11),\n",
    "#     (29, 21),\n",
    "#     (29, 17),\n",
    "# ]"
   ]
  },
  {
   "cell_type": "markdown",
   "id": "competent-department",
   "metadata": {
    "papermill": {
     "duration": 0.035781,
     "end_time": "2021-07-17T14:49:38.967631",
     "exception": false,
     "start_time": "2021-07-17T14:49:38.931850",
     "status": "completed"
    },
    "tags": []
   },
   "source": [
    "# GLSPhenoplier"
   ]
  },
  {
   "cell_type": "markdown",
   "id": "legislative-plaintiff",
   "metadata": {
    "papermill": {
     "duration": 0.032374,
     "end_time": "2021-07-17T14:49:39.033658",
     "exception": false,
     "start_time": "2021-07-17T14:49:39.001284",
     "status": "completed"
    },
    "tags": []
   },
   "source": [
    "## Get list of phenotypes/lvs pairs"
   ]
  },
  {
   "cell_type": "code",
   "execution_count": 49,
   "id": "outdoor-vocabulary",
   "metadata": {
    "execution": {
     "iopub.execute_input": "2021-07-17T14:49:39.102613Z",
     "iopub.status.busy": "2021-07-17T14:49:39.102244Z",
     "iopub.status.idle": "2021-07-17T14:49:39.128050Z",
     "shell.execute_reply": "2021-07-17T14:49:39.127667Z"
    },
    "papermill": {
     "duration": 0.061964,
     "end_time": "2021-07-17T14:49:39.128134",
     "exception": false,
     "start_time": "2021-07-17T14:49:39.066170",
     "status": "completed"
    },
    "tags": []
   },
   "outputs": [],
   "source": [
    "phenotypes_lvs_pairs = []\n",
    "\n",
    "# for each LV, I take the top `N_TOP_TRAITS_FROM_LV` traits in eMERGE\n",
    "for idx, row in gls_selected_lvs.iterrows():\n",
    "    lv_name = row[\"lv\"]\n",
    "    lv_set = row[\"lv_set\"]\n",
    "\n",
    "    lv_traits = phenomexcan_projection[lv_name]\n",
    "    lv_traits = lv_traits[lv_traits > 0.0]\n",
    "    lv_traits = lv_traits.sort_values(ascending=False).head(N_TOP_TRAITS_FROM_LV)\n",
    "\n",
    "    for phenotype_code in set(lv_traits.index.tolist()):\n",
    "        phenotypes_lvs_pairs.append(\n",
    "            {\n",
    "                \"phenotype\": phenotype_code,\n",
    "                \"lv\": lv_name,\n",
    "                \"lv_set\": row[\"lv_set\"],\n",
    "            }\n",
    "        )\n",
    "\n",
    "phenotypes_lvs_pairs = pd.DataFrame(phenotypes_lvs_pairs).drop_duplicates()"
   ]
  },
  {
   "cell_type": "code",
   "execution_count": 50,
   "id": "distributed-radical",
   "metadata": {
    "execution": {
     "iopub.execute_input": "2021-07-17T14:49:39.200676Z",
     "iopub.status.busy": "2021-07-17T14:49:39.200308Z",
     "iopub.status.idle": "2021-07-17T14:49:39.212543Z",
     "shell.execute_reply": "2021-07-17T14:49:39.212949Z"
    },
    "papermill": {
     "duration": 0.050427,
     "end_time": "2021-07-17T14:49:39.213051",
     "exception": false,
     "start_time": "2021-07-17T14:49:39.162624",
     "status": "completed"
    },
    "tags": []
   },
   "outputs": [],
   "source": [
    "phenotypes_lvs_pairs = phenotypes_lvs_pairs.sort_values(\"phenotype\").reset_index(\n",
    "    drop=True\n",
    ")"
   ]
  },
  {
   "cell_type": "code",
   "execution_count": 51,
   "id": "opposite-constitutional",
   "metadata": {
    "execution": {
     "iopub.execute_input": "2021-07-17T14:49:39.289471Z",
     "iopub.status.busy": "2021-07-17T14:49:39.289095Z",
     "iopub.status.idle": "2021-07-17T14:49:39.300299Z",
     "shell.execute_reply": "2021-07-17T14:49:39.300596Z"
    },
    "papermill": {
     "duration": 0.049884,
     "end_time": "2021-07-17T14:49:39.300721",
     "exception": false,
     "start_time": "2021-07-17T14:49:39.250837",
     "status": "completed"
    },
    "tags": []
   },
   "outputs": [
    {
     "data": {
      "text/plain": [
       "(300, 3)"
      ]
     },
     "execution_count": 51,
     "metadata": {},
     "output_type": "execute_result"
    }
   ],
   "source": [
    "phenotypes_lvs_pairs.shape"
   ]
  },
  {
   "cell_type": "code",
   "execution_count": 52,
   "id": "previous-sleeping",
   "metadata": {
    "execution": {
     "iopub.execute_input": "2021-07-17T14:49:39.371404Z",
     "iopub.status.busy": "2021-07-17T14:49:39.370992Z",
     "iopub.status.idle": "2021-07-17T14:49:39.386296Z",
     "shell.execute_reply": "2021-07-17T14:49:39.385856Z"
    },
    "papermill": {
     "duration": 0.050688,
     "end_time": "2021-07-17T14:49:39.386390",
     "exception": false,
     "start_time": "2021-07-17T14:49:39.335702",
     "status": "completed"
    },
    "tags": []
   },
   "outputs": [
    {
     "data": {
      "text/html": [
       "<div>\n",
       "<style scoped>\n",
       "    .dataframe tbody tr th:only-of-type {\n",
       "        vertical-align: middle;\n",
       "    }\n",
       "\n",
       "    .dataframe tbody tr th {\n",
       "        vertical-align: top;\n",
       "    }\n",
       "\n",
       "    .dataframe thead th {\n",
       "        text-align: right;\n",
       "    }\n",
       "</style>\n",
       "<table border=\"1\" class=\"dataframe\">\n",
       "  <thead>\n",
       "    <tr style=\"text-align: right;\">\n",
       "      <th></th>\n",
       "      <th>phenotype</th>\n",
       "      <th>lv</th>\n",
       "      <th>lv_set</th>\n",
       "    </tr>\n",
       "  </thead>\n",
       "  <tbody>\n",
       "    <tr>\n",
       "      <th>0</th>\n",
       "      <td>100007_raw-Polyunsaturated_fat</td>\n",
       "      <td>LV890</td>\n",
       "      <td>lipids-increasing</td>\n",
       "    </tr>\n",
       "    <tr>\n",
       "      <th>1</th>\n",
       "      <td>100360-Decaffeinated_coffee</td>\n",
       "      <td>LV520</td>\n",
       "      <td>lipids-decreasing</td>\n",
       "    </tr>\n",
       "    <tr>\n",
       "      <th>2</th>\n",
       "      <td>102280-Milk_chocolate_intake</td>\n",
       "      <td>LV702</td>\n",
       "      <td>lipids-increasing</td>\n",
       "    </tr>\n",
       "    <tr>\n",
       "      <th>3</th>\n",
       "      <td>102_raw-Pulse_rate_automated_reading</td>\n",
       "      <td>LV246</td>\n",
       "      <td>lipids-increasing</td>\n",
       "    </tr>\n",
       "    <tr>\n",
       "      <th>4</th>\n",
       "      <td>102_raw-Pulse_rate_automated_reading</td>\n",
       "      <td>LV801</td>\n",
       "      <td>lipids-decreasing</td>\n",
       "    </tr>\n",
       "  </tbody>\n",
       "</table>\n",
       "</div>"
      ],
      "text/plain": [
       "                              phenotype     lv             lv_set\n",
       "0        100007_raw-Polyunsaturated_fat  LV890  lipids-increasing\n",
       "1           100360-Decaffeinated_coffee  LV520  lipids-decreasing\n",
       "2          102280-Milk_chocolate_intake  LV702  lipids-increasing\n",
       "3  102_raw-Pulse_rate_automated_reading  LV246  lipids-increasing\n",
       "4  102_raw-Pulse_rate_automated_reading  LV801  lipids-decreasing"
      ]
     },
     "execution_count": 52,
     "metadata": {},
     "output_type": "execute_result"
    }
   ],
   "source": [
    "phenotypes_lvs_pairs.head()"
   ]
  },
  {
   "cell_type": "markdown",
   "id": "occasional-lesbian",
   "metadata": {
    "papermill": {
     "duration": 0.03299,
     "end_time": "2021-07-17T14:49:39.455284",
     "exception": false,
     "start_time": "2021-07-17T14:49:39.422294",
     "status": "completed"
    },
    "tags": []
   },
   "source": [
    "## Run"
   ]
  },
  {
   "cell_type": "code",
   "execution_count": 53,
   "id": "empty-familiar",
   "metadata": {
    "execution": {
     "iopub.execute_input": "2021-07-17T14:49:39.526674Z",
     "iopub.status.busy": "2021-07-17T14:49:39.526279Z",
     "iopub.status.idle": "2021-07-17T15:36:51.284985Z",
     "shell.execute_reply": "2021-07-17T15:36:51.284162Z"
    },
    "papermill": {
     "duration": 2831.796613,
     "end_time": "2021-07-17T15:36:51.285066",
     "exception": false,
     "start_time": "2021-07-17T14:49:39.488453",
     "status": "completed"
    },
    "tags": []
   },
   "outputs": [
    {
     "name": "stderr",
     "output_type": "stream",
     "text": [
      "renal colic - LV865: 100%|██████████| 300/300 [47:11<00:00,  9.44s/it]\n"
     ]
    }
   ],
   "source": [
    "results = []\n",
    "\n",
    "pbar = tqdm(total=phenotypes_lvs_pairs.shape[0])\n",
    "\n",
    "for idx, row in phenotypes_lvs_pairs.iterrows():\n",
    "    phenotype_code = row[\"phenotype\"]\n",
    "    lv_code = row[\"lv\"]\n",
    "\n",
    "    pbar.set_description(f\"{phenotype_code} - {lv_code}\")\n",
    "\n",
    "    gls_model = GLSPhenoplier(\n",
    "        smultixcan_result_set_filepath=conf.PHENOMEXCAN[\n",
    "            \"SMULTIXCAN_EFO_PARTIAL_MASHR_ZSCORES_FILE\"\n",
    "        ]\n",
    "    )\n",
    "    gls_model.fit_named(lv_code, phenotype_code)\n",
    "    res = gls_model.results\n",
    "\n",
    "    results.append(\n",
    "        {\n",
    "            \"phenotype\": phenotype_code,\n",
    "            \"lv\": lv_code,\n",
    "            \"lv_set\": row[\"lv_set\"],\n",
    "            \"lv_with_pathway\": lv_code in well_aligned_lv_codes,\n",
    "            \"coef\": res.params.loc[\"lv\"],\n",
    "            \"pvalue\": res.pvalues_onesided.loc[\"lv\"],\n",
    "            \"pvalue_twosided\": res.pvalues.loc[\"lv\"],\n",
    "            \"summary\": gls_model.results_summary,\n",
    "        }\n",
    "    )\n",
    "\n",
    "    # save results every 10 models trained\n",
    "    if (idx % 10) == 0:\n",
    "        pd.DataFrame(results).to_pickle(OUTPUT_FILENAME)\n",
    "\n",
    "    pbar.update(1)\n",
    "\n",
    "pbar.close()"
   ]
  },
  {
   "cell_type": "code",
   "execution_count": 54,
   "id": "bottom-illness",
   "metadata": {
    "execution": {
     "iopub.execute_input": "2021-07-17T15:36:51.568766Z",
     "iopub.status.busy": "2021-07-17T15:36:51.568368Z",
     "iopub.status.idle": "2021-07-17T15:36:51.580759Z",
     "shell.execute_reply": "2021-07-17T15:36:51.581044Z"
    },
    "papermill": {
     "duration": 0.147779,
     "end_time": "2021-07-17T15:36:51.581153",
     "exception": false,
     "start_time": "2021-07-17T15:36:51.433374",
     "status": "completed"
    },
    "tags": []
   },
   "outputs": [],
   "source": [
    "results = pd.DataFrame(results)"
   ]
  },
  {
   "cell_type": "code",
   "execution_count": 55,
   "id": "capital-bracelet",
   "metadata": {
    "execution": {
     "iopub.execute_input": "2021-07-17T15:36:51.840329Z",
     "iopub.status.busy": "2021-07-17T15:36:51.839974Z",
     "iopub.status.idle": "2021-07-17T15:36:51.851708Z",
     "shell.execute_reply": "2021-07-17T15:36:51.851343Z"
    },
    "papermill": {
     "duration": 0.14174,
     "end_time": "2021-07-17T15:36:51.851791",
     "exception": false,
     "start_time": "2021-07-17T15:36:51.710051",
     "status": "completed"
    },
    "tags": []
   },
   "outputs": [
    {
     "data": {
      "text/plain": [
       "(300, 8)"
      ]
     },
     "execution_count": 55,
     "metadata": {},
     "output_type": "execute_result"
    }
   ],
   "source": [
    "results.shape"
   ]
  },
  {
   "cell_type": "code",
   "execution_count": 56,
   "id": "lovely-canadian",
   "metadata": {
    "execution": {
     "iopub.execute_input": "2021-07-17T15:36:52.110794Z",
     "iopub.status.busy": "2021-07-17T15:36:52.110417Z",
     "iopub.status.idle": "2021-07-17T15:36:52.141739Z",
     "shell.execute_reply": "2021-07-17T15:36:52.141434Z"
    },
    "papermill": {
     "duration": 0.16162,
     "end_time": "2021-07-17T15:36:52.141822",
     "exception": false,
     "start_time": "2021-07-17T15:36:51.980202",
     "status": "completed"
    },
    "tags": []
   },
   "outputs": [
    {
     "data": {
      "text/html": [
       "<div>\n",
       "<style scoped>\n",
       "    .dataframe tbody tr th:only-of-type {\n",
       "        vertical-align: middle;\n",
       "    }\n",
       "\n",
       "    .dataframe tbody tr th {\n",
       "        vertical-align: top;\n",
       "    }\n",
       "\n",
       "    .dataframe thead th {\n",
       "        text-align: right;\n",
       "    }\n",
       "</style>\n",
       "<table border=\"1\" class=\"dataframe\">\n",
       "  <thead>\n",
       "    <tr style=\"text-align: right;\">\n",
       "      <th></th>\n",
       "      <th>phenotype</th>\n",
       "      <th>lv</th>\n",
       "      <th>lv_set</th>\n",
       "      <th>lv_with_pathway</th>\n",
       "      <th>coef</th>\n",
       "      <th>pvalue</th>\n",
       "      <th>pvalue_twosided</th>\n",
       "      <th>summary</th>\n",
       "    </tr>\n",
       "  </thead>\n",
       "  <tbody>\n",
       "    <tr>\n",
       "      <th>0</th>\n",
       "      <td>100007_raw-Polyunsaturated_fat</td>\n",
       "      <td>LV890</td>\n",
       "      <td>lipids-increasing</td>\n",
       "      <td>False</td>\n",
       "      <td>0.044519</td>\n",
       "      <td>0.000228</td>\n",
       "      <td>0.000455</td>\n",
       "      <td>GLS Regression Res...</td>\n",
       "    </tr>\n",
       "    <tr>\n",
       "      <th>1</th>\n",
       "      <td>100360-Decaffeinated_coffee</td>\n",
       "      <td>LV520</td>\n",
       "      <td>lipids-decreasing</td>\n",
       "      <td>False</td>\n",
       "      <td>0.041107</td>\n",
       "      <td>0.000391</td>\n",
       "      <td>0.000782</td>\n",
       "      <td>GLS Regression Res...</td>\n",
       "    </tr>\n",
       "    <tr>\n",
       "      <th>2</th>\n",
       "      <td>102280-Milk_chocolate_intake</td>\n",
       "      <td>LV702</td>\n",
       "      <td>lipids-increasing</td>\n",
       "      <td>False</td>\n",
       "      <td>0.043164</td>\n",
       "      <td>0.000335</td>\n",
       "      <td>0.000670</td>\n",
       "      <td>GLS Regression Res...</td>\n",
       "    </tr>\n",
       "    <tr>\n",
       "      <th>3</th>\n",
       "      <td>102_raw-Pulse_rate_automated_reading</td>\n",
       "      <td>LV246</td>\n",
       "      <td>lipids-increasing</td>\n",
       "      <td>True</td>\n",
       "      <td>0.037216</td>\n",
       "      <td>0.001377</td>\n",
       "      <td>0.002754</td>\n",
       "      <td>GLS Regression Res...</td>\n",
       "    </tr>\n",
       "    <tr>\n",
       "      <th>4</th>\n",
       "      <td>102_raw-Pulse_rate_automated_reading</td>\n",
       "      <td>LV801</td>\n",
       "      <td>lipids-decreasing</td>\n",
       "      <td>False</td>\n",
       "      <td>0.048699</td>\n",
       "      <td>0.000066</td>\n",
       "      <td>0.000131</td>\n",
       "      <td>GLS Regression Res...</td>\n",
       "    </tr>\n",
       "  </tbody>\n",
       "</table>\n",
       "</div>"
      ],
      "text/plain": [
       "                              phenotype     lv             lv_set  \\\n",
       "0        100007_raw-Polyunsaturated_fat  LV890  lipids-increasing   \n",
       "1           100360-Decaffeinated_coffee  LV520  lipids-decreasing   \n",
       "2          102280-Milk_chocolate_intake  LV702  lipids-increasing   \n",
       "3  102_raw-Pulse_rate_automated_reading  LV246  lipids-increasing   \n",
       "4  102_raw-Pulse_rate_automated_reading  LV801  lipids-decreasing   \n",
       "\n",
       "   lv_with_pathway      coef    pvalue  pvalue_twosided  \\\n",
       "0            False  0.044519  0.000228         0.000455   \n",
       "1            False  0.041107  0.000391         0.000782   \n",
       "2            False  0.043164  0.000335         0.000670   \n",
       "3             True  0.037216  0.001377         0.002754   \n",
       "4            False  0.048699  0.000066         0.000131   \n",
       "\n",
       "                                             summary  \n",
       "0                              GLS Regression Res...  \n",
       "1                              GLS Regression Res...  \n",
       "2                              GLS Regression Res...  \n",
       "3                              GLS Regression Res...  \n",
       "4                              GLS Regression Res...  "
      ]
     },
     "execution_count": 56,
     "metadata": {},
     "output_type": "execute_result"
    }
   ],
   "source": [
    "results.head()"
   ]
  },
  {
   "cell_type": "code",
   "execution_count": 57,
   "id": "racial-distribution",
   "metadata": {
    "execution": {
     "iopub.execute_input": "2021-07-17T15:36:52.400878Z",
     "iopub.status.busy": "2021-07-17T15:36:52.400457Z",
     "iopub.status.idle": "2021-07-17T15:36:52.449013Z",
     "shell.execute_reply": "2021-07-17T15:36:52.448631Z"
    },
    "papermill": {
     "duration": 0.178724,
     "end_time": "2021-07-17T15:36:52.449097",
     "exception": false,
     "start_time": "2021-07-17T15:36:52.270373",
     "status": "completed"
    },
    "tags": []
   },
   "outputs": [
    {
     "data": {
      "text/html": [
       "<div>\n",
       "<style scoped>\n",
       "    .dataframe tbody tr th:only-of-type {\n",
       "        vertical-align: middle;\n",
       "    }\n",
       "\n",
       "    .dataframe tbody tr th {\n",
       "        vertical-align: top;\n",
       "    }\n",
       "\n",
       "    .dataframe thead th {\n",
       "        text-align: right;\n",
       "    }\n",
       "</style>\n",
       "<table border=\"1\" class=\"dataframe\">\n",
       "  <thead>\n",
       "    <tr style=\"text-align: right;\">\n",
       "      <th></th>\n",
       "      <th>phenotype</th>\n",
       "      <th>lv</th>\n",
       "      <th>lv_set</th>\n",
       "      <th>lv_with_pathway</th>\n",
       "      <th>coef</th>\n",
       "      <th>pvalue</th>\n",
       "      <th>pvalue_twosided</th>\n",
       "      <th>summary</th>\n",
       "    </tr>\n",
       "  </thead>\n",
       "  <tbody>\n",
       "    <tr>\n",
       "      <th>156</th>\n",
       "      <td>23108_raw-Impedance_of_leg_left</td>\n",
       "      <td>LV841</td>\n",
       "      <td>lipids-increasing</td>\n",
       "      <td>False</td>\n",
       "      <td>0.111498</td>\n",
       "      <td>3.384759e-19</td>\n",
       "      <td>6.769517e-19</td>\n",
       "      <td>GLS Regression Res...</td>\n",
       "    </tr>\n",
       "    <tr>\n",
       "      <th>207</th>\n",
       "      <td>50_raw-Standing_height</td>\n",
       "      <td>LV841</td>\n",
       "      <td>lipids-increasing</td>\n",
       "      <td>False</td>\n",
       "      <td>0.109778</td>\n",
       "      <td>1.940273e-18</td>\n",
       "      <td>3.880546e-18</td>\n",
       "      <td>GLS Regression Res...</td>\n",
       "    </tr>\n",
       "    <tr>\n",
       "      <th>63</th>\n",
       "      <td>20015_raw-Sitting_height</td>\n",
       "      <td>LV841</td>\n",
       "      <td>lipids-increasing</td>\n",
       "      <td>False</td>\n",
       "      <td>0.104691</td>\n",
       "      <td>9.201681e-17</td>\n",
       "      <td>1.840336e-16</td>\n",
       "      <td>GLS Regression Res...</td>\n",
       "    </tr>\n",
       "    <tr>\n",
       "      <th>153</th>\n",
       "      <td>23101_raw-Whole_body_fatfree_mass</td>\n",
       "      <td>LV841</td>\n",
       "      <td>lipids-increasing</td>\n",
       "      <td>False</td>\n",
       "      <td>0.104054</td>\n",
       "      <td>1.422409e-16</td>\n",
       "      <td>2.844818e-16</td>\n",
       "      <td>GLS Regression Res...</td>\n",
       "    </tr>\n",
       "    <tr>\n",
       "      <th>157</th>\n",
       "      <td>23113_raw-Leg_fatfree_mass_right</td>\n",
       "      <td>LV841</td>\n",
       "      <td>lipids-increasing</td>\n",
       "      <td>False</td>\n",
       "      <td>0.104337</td>\n",
       "      <td>1.747263e-16</td>\n",
       "      <td>3.494525e-16</td>\n",
       "      <td>GLS Regression Res...</td>\n",
       "    </tr>\n",
       "    <tr>\n",
       "      <th>159</th>\n",
       "      <td>23117_raw-Leg_fatfree_mass_left</td>\n",
       "      <td>LV841</td>\n",
       "      <td>lipids-increasing</td>\n",
       "      <td>False</td>\n",
       "      <td>0.104339</td>\n",
       "      <td>1.783712e-16</td>\n",
       "      <td>3.567423e-16</td>\n",
       "      <td>GLS Regression Res...</td>\n",
       "    </tr>\n",
       "    <tr>\n",
       "      <th>164</th>\n",
       "      <td>23129_raw-Trunk_fatfree_mass</td>\n",
       "      <td>LV841</td>\n",
       "      <td>lipids-increasing</td>\n",
       "      <td>False</td>\n",
       "      <td>0.103358</td>\n",
       "      <td>1.839193e-16</td>\n",
       "      <td>3.678386e-16</td>\n",
       "      <td>GLS Regression Res...</td>\n",
       "    </tr>\n",
       "    <tr>\n",
       "      <th>165</th>\n",
       "      <td>23130_raw-Trunk_predicted_mass</td>\n",
       "      <td>LV841</td>\n",
       "      <td>lipids-increasing</td>\n",
       "      <td>False</td>\n",
       "      <td>0.103278</td>\n",
       "      <td>1.914489e-16</td>\n",
       "      <td>3.828978e-16</td>\n",
       "      <td>GLS Regression Res...</td>\n",
       "    </tr>\n",
       "    <tr>\n",
       "      <th>158</th>\n",
       "      <td>23114_raw-Leg_predicted_mass_right</td>\n",
       "      <td>LV841</td>\n",
       "      <td>lipids-increasing</td>\n",
       "      <td>False</td>\n",
       "      <td>0.104124</td>\n",
       "      <td>2.005663e-16</td>\n",
       "      <td>4.011327e-16</td>\n",
       "      <td>GLS Regression Res...</td>\n",
       "    </tr>\n",
       "    <tr>\n",
       "      <th>160</th>\n",
       "      <td>23118_raw-Leg_predicted_mass_left</td>\n",
       "      <td>LV841</td>\n",
       "      <td>lipids-increasing</td>\n",
       "      <td>False</td>\n",
       "      <td>0.104156</td>\n",
       "      <td>2.016841e-16</td>\n",
       "      <td>4.033682e-16</td>\n",
       "      <td>GLS Regression Res...</td>\n",
       "    </tr>\n",
       "  </tbody>\n",
       "</table>\n",
       "</div>"
      ],
      "text/plain": [
       "                              phenotype     lv             lv_set  \\\n",
       "156     23108_raw-Impedance_of_leg_left  LV841  lipids-increasing   \n",
       "207              50_raw-Standing_height  LV841  lipids-increasing   \n",
       "63             20015_raw-Sitting_height  LV841  lipids-increasing   \n",
       "153   23101_raw-Whole_body_fatfree_mass  LV841  lipids-increasing   \n",
       "157    23113_raw-Leg_fatfree_mass_right  LV841  lipids-increasing   \n",
       "159     23117_raw-Leg_fatfree_mass_left  LV841  lipids-increasing   \n",
       "164        23129_raw-Trunk_fatfree_mass  LV841  lipids-increasing   \n",
       "165      23130_raw-Trunk_predicted_mass  LV841  lipids-increasing   \n",
       "158  23114_raw-Leg_predicted_mass_right  LV841  lipids-increasing   \n",
       "160   23118_raw-Leg_predicted_mass_left  LV841  lipids-increasing   \n",
       "\n",
       "     lv_with_pathway      coef        pvalue  pvalue_twosided  \\\n",
       "156            False  0.111498  3.384759e-19     6.769517e-19   \n",
       "207            False  0.109778  1.940273e-18     3.880546e-18   \n",
       "63             False  0.104691  9.201681e-17     1.840336e-16   \n",
       "153            False  0.104054  1.422409e-16     2.844818e-16   \n",
       "157            False  0.104337  1.747263e-16     3.494525e-16   \n",
       "159            False  0.104339  1.783712e-16     3.567423e-16   \n",
       "164            False  0.103358  1.839193e-16     3.678386e-16   \n",
       "165            False  0.103278  1.914489e-16     3.828978e-16   \n",
       "158            False  0.104124  2.005663e-16     4.011327e-16   \n",
       "160            False  0.104156  2.016841e-16     4.033682e-16   \n",
       "\n",
       "                                               summary  \n",
       "156                              GLS Regression Res...  \n",
       "207                              GLS Regression Res...  \n",
       "63                               GLS Regression Res...  \n",
       "153                              GLS Regression Res...  \n",
       "157                              GLS Regression Res...  \n",
       "159                              GLS Regression Res...  \n",
       "164                              GLS Regression Res...  \n",
       "165                              GLS Regression Res...  \n",
       "158                              GLS Regression Res...  \n",
       "160                              GLS Regression Res...  "
      ]
     },
     "execution_count": 57,
     "metadata": {},
     "output_type": "execute_result"
    }
   ],
   "source": [
    "results.sort_values(\"pvalue\").head(10)"
   ]
  },
  {
   "cell_type": "markdown",
   "id": "dressed-validation",
   "metadata": {
    "papermill": {
     "duration": 0.128234,
     "end_time": "2021-07-17T15:36:52.705219",
     "exception": false,
     "start_time": "2021-07-17T15:36:52.576985",
     "status": "completed"
    },
    "tags": []
   },
   "source": [
    "## Save"
   ]
  },
  {
   "cell_type": "code",
   "execution_count": 58,
   "id": "fuzzy-workplace",
   "metadata": {
    "execution": {
     "iopub.execute_input": "2021-07-17T15:36:52.963416Z",
     "iopub.status.busy": "2021-07-17T15:36:52.963023Z",
     "iopub.status.idle": "2021-07-17T15:36:53.019809Z",
     "shell.execute_reply": "2021-07-17T15:36:53.019459Z"
    },
    "papermill": {
     "duration": 0.18612,
     "end_time": "2021-07-17T15:36:53.019906",
     "exception": false,
     "start_time": "2021-07-17T15:36:52.833786",
     "status": "completed"
    },
    "tags": []
   },
   "outputs": [],
   "source": [
    "results.to_pickle(OUTPUT_FILENAME)"
   ]
  },
  {
   "cell_type": "code",
   "execution_count": null,
   "id": "accurate-hughes",
   "metadata": {
    "papermill": {
     "duration": 0.127689,
     "end_time": "2021-07-17T15:36:53.278240",
     "exception": false,
     "start_time": "2021-07-17T15:36:53.150551",
     "status": "completed"
    },
    "tags": []
   },
   "outputs": [],
   "source": []
  }
 ],
 "metadata": {
  "jupytext": {
   "cell_metadata_filter": "all,-execution,-papermill,-trusted",
   "formats": "ipynb,py//py:percent"
  },
  "kernelspec": {
   "display_name": "Python 3",
   "language": "python",
   "name": "python3"
  },
  "language_info": {
   "codemirror_mode": {
    "name": "ipython",
    "version": 3
   },
   "file_extension": ".py",
   "mimetype": "text/x-python",
   "name": "python",
   "nbconvert_exporter": "python",
   "pygments_lexer": "ipython3",
   "version": "3.8.8"
  },
  "papermill": {
   "default_parameters": {},
   "duration": 2841.314535,
   "end_time": "2021-07-17T15:36:53.812583",
   "environment_variables": {},
   "exception": null,
   "input_path": "08_gsa_gls/40-gls_on_lipids_lvs-phenomexcan.ipynb",
   "output_path": "08_gsa_gls/40-gls_on_lipids_lvs-phenomexcan.run.ipynb",
   "parameters": {},
   "start_time": "2021-07-17T14:49:32.498048",
   "version": "2.2.2"
  }
 },
 "nbformat": 4,
 "nbformat_minor": 5
}
