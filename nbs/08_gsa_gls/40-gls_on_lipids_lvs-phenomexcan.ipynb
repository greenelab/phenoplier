{
 "cells": [
  {
   "cell_type": "markdown",
   "id": "adopted-buffalo",
   "metadata": {
    "papermill": {
     "duration": 0.060441,
     "end_time": "2021-07-16T16:30:41.969792",
     "exception": false,
     "start_time": "2021-07-16T16:30:41.909351",
     "status": "completed"
    },
    "tags": []
   },
   "source": [
    "# Description"
   ]
  },
  {
   "cell_type": "markdown",
   "id": "opponent-infrastructure",
   "metadata": {
    "papermill": {
     "duration": 0.022865,
     "end_time": "2021-07-16T16:30:42.016009",
     "exception": false,
     "start_time": "2021-07-16T16:30:41.993144",
     "status": "completed"
    },
    "tags": []
   },
   "source": [
    "This notebook is similar to `30` and `35`, but here I use the LVs that we found to be significantly enriched for the lipids CRISPR analysis, which might or might not coincide with the previously used LVs (those that discriminate clusters).\n",
    "The traits here are from PhenomeXcan."
   ]
  },
  {
   "cell_type": "markdown",
   "id": "peripheral-transition",
   "metadata": {
    "papermill": {
     "duration": 0.023089,
     "end_time": "2021-07-16T16:30:42.061819",
     "exception": false,
     "start_time": "2021-07-16T16:30:42.038730",
     "status": "completed"
    },
    "tags": []
   },
   "source": [
    "# Environment variables"
   ]
  },
  {
   "cell_type": "code",
   "execution_count": 1,
   "id": "fundamental-polls",
   "metadata": {
    "execution": {
     "iopub.execute_input": "2021-07-16T16:30:42.113127Z",
     "iopub.status.busy": "2021-07-16T16:30:42.112756Z",
     "iopub.status.idle": "2021-07-16T16:30:42.120162Z",
     "shell.execute_reply": "2021-07-16T16:30:42.119732Z"
    },
    "papermill": {
     "duration": 0.035627,
     "end_time": "2021-07-16T16:30:42.120257",
     "exception": false,
     "start_time": "2021-07-16T16:30:42.084630",
     "status": "completed"
    },
    "tags": []
   },
   "outputs": [],
   "source": [
    "%load_ext autoreload\n",
    "%autoreload 2"
   ]
  },
  {
   "cell_type": "code",
   "execution_count": 2,
   "id": "deluxe-terrorist",
   "metadata": {
    "execution": {
     "iopub.execute_input": "2021-07-16T16:30:42.172260Z",
     "iopub.status.busy": "2021-07-16T16:30:42.171899Z",
     "iopub.status.idle": "2021-07-16T16:30:42.182719Z",
     "shell.execute_reply": "2021-07-16T16:30:42.183005Z"
    },
    "papermill": {
     "duration": 0.037586,
     "end_time": "2021-07-16T16:30:42.183115",
     "exception": false,
     "start_time": "2021-07-16T16:30:42.145529",
     "status": "completed"
    },
    "tags": []
   },
   "outputs": [],
   "source": [
    "import conf"
   ]
  },
  {
   "cell_type": "code",
   "execution_count": 3,
   "id": "excellent-muscle",
   "metadata": {
    "execution": {
     "iopub.execute_input": "2021-07-16T16:30:42.233409Z",
     "iopub.status.busy": "2021-07-16T16:30:42.233028Z",
     "iopub.status.idle": "2021-07-16T16:30:42.243222Z",
     "shell.execute_reply": "2021-07-16T16:30:42.242849Z"
    },
    "papermill": {
     "duration": 0.035654,
     "end_time": "2021-07-16T16:30:42.243305",
     "exception": false,
     "start_time": "2021-07-16T16:30:42.207651",
     "status": "completed"
    },
    "tags": []
   },
   "outputs": [
    {
     "data": {
      "text/plain": [
       "3"
      ]
     },
     "metadata": {},
     "output_type": "display_data"
    }
   ],
   "source": [
    "N_JOBS = conf.GENERAL[\"N_JOBS\"]\n",
    "display(N_JOBS)"
   ]
  },
  {
   "cell_type": "code",
   "execution_count": 4,
   "id": "cognitive-letter",
   "metadata": {
    "execution": {
     "iopub.execute_input": "2021-07-16T16:30:42.295142Z",
     "iopub.status.busy": "2021-07-16T16:30:42.294787Z",
     "iopub.status.idle": "2021-07-16T16:30:42.301559Z",
     "shell.execute_reply": "2021-07-16T16:30:42.301257Z"
    },
    "papermill": {
     "duration": 0.034147,
     "end_time": "2021-07-16T16:30:42.301648",
     "exception": false,
     "start_time": "2021-07-16T16:30:42.267501",
     "status": "completed"
    },
    "tags": []
   },
   "outputs": [
    {
     "name": "stdout",
     "output_type": "stream",
     "text": [
      "env: MKL_NUM_THREADS=3\n",
      "env: OPEN_BLAS_NUM_THREADS=3\n",
      "env: NUMEXPR_NUM_THREADS=3\n",
      "env: OMP_NUM_THREADS=3\n"
     ]
    }
   ],
   "source": [
    "%env MKL_NUM_THREADS=$N_JOBS\n",
    "%env OPEN_BLAS_NUM_THREADS=$N_JOBS\n",
    "%env NUMEXPR_NUM_THREADS=$N_JOBS\n",
    "%env OMP_NUM_THREADS=$N_JOBS"
   ]
  },
  {
   "cell_type": "markdown",
   "id": "juvenile-carolina",
   "metadata": {
    "papermill": {
     "duration": 0.023666,
     "end_time": "2021-07-16T16:30:42.349421",
     "exception": false,
     "start_time": "2021-07-16T16:30:42.325755",
     "status": "completed"
    },
    "tags": []
   },
   "source": [
    "# Modules"
   ]
  },
  {
   "cell_type": "code",
   "execution_count": 5,
   "id": "proof-wrong",
   "metadata": {
    "execution": {
     "iopub.execute_input": "2021-07-16T16:30:42.399066Z",
     "iopub.status.busy": "2021-07-16T16:30:42.398711Z",
     "iopub.status.idle": "2021-07-16T16:30:43.159048Z",
     "shell.execute_reply": "2021-07-16T16:30:43.158318Z"
    },
    "papermill": {
     "duration": 0.786189,
     "end_time": "2021-07-16T16:30:43.159155",
     "exception": false,
     "start_time": "2021-07-16T16:30:42.372966",
     "status": "completed"
    },
    "tags": []
   },
   "outputs": [],
   "source": [
    "from pathlib import Path\n",
    "\n",
    "import pandas as pd\n",
    "from tqdm import tqdm\n",
    "\n",
    "from gls import GLSPhenoplier"
   ]
  },
  {
   "cell_type": "markdown",
   "id": "formal-gates",
   "metadata": {
    "papermill": {
     "duration": 0.023583,
     "end_time": "2021-07-16T16:30:43.210400",
     "exception": false,
     "start_time": "2021-07-16T16:30:43.186817",
     "status": "completed"
    },
    "tags": []
   },
   "source": [
    "# Settings"
   ]
  },
  {
   "cell_type": "code",
   "execution_count": 6,
   "id": "synthetic-journalist",
   "metadata": {
    "papermill": {
     "duration": 0.03843,
     "end_time": "2021-07-14T04:11:23.213725",
     "exception": false,
     "start_time": "2021-07-14T04:11:23.175295",
     "status": "completed"
    },
    "tags": []
   },
   "outputs": [],
   "source": [
    "N_TOP_TRAITS_FROM_LV = 20"
   ]
  },
  {
   "cell_type": "code",
   "execution_count": 6,
   "id": "fabulous-reality",
   "metadata": {
    "execution": {
     "iopub.execute_input": "2021-07-16T16:30:43.260931Z",
     "iopub.status.busy": "2021-07-16T16:30:43.260516Z",
     "iopub.status.idle": "2021-07-16T16:30:43.272218Z",
     "shell.execute_reply": "2021-07-16T16:30:43.271913Z"
    },
    "papermill": {
     "duration": 0.038466,
     "end_time": "2021-07-16T16:30:43.272306",
     "exception": false,
     "start_time": "2021-07-16T16:30:43.233840",
     "status": "completed"
    },
    "tags": []
   },
   "outputs": [
    {
     "data": {
      "text/plain": [
       "PosixPath('/home/miltondp/projects/labs/greenelab/phenoplier/base/results/gls')"
      ]
     },
     "metadata": {},
     "output_type": "display_data"
    }
   ],
   "source": [
    "OUTPUT_DIR = conf.RESULTS[\"GLS\"]\n",
    "display(OUTPUT_DIR)\n",
    "\n",
    "OUTPUT_DIR.mkdir(exist_ok=True, parents=True)"
   ]
  },
  {
   "cell_type": "code",
   "execution_count": 7,
   "id": "baking-beijing",
   "metadata": {
    "execution": {
     "iopub.execute_input": "2021-07-16T16:30:43.324817Z",
     "iopub.status.busy": "2021-07-16T16:30:43.324400Z",
     "iopub.status.idle": "2021-07-16T16:30:43.335690Z",
     "shell.execute_reply": "2021-07-16T16:30:43.335986Z"
    },
    "papermill": {
     "duration": 0.037897,
     "end_time": "2021-07-16T16:30:43.336092",
     "exception": false,
     "start_time": "2021-07-16T16:30:43.298195",
     "status": "completed"
    },
    "tags": []
   },
   "outputs": [
    {
     "data": {
      "text/plain": [
       "PosixPath('/home/miltondp/projects/labs/greenelab/phenoplier/base/results/gls/gls_phenotypes-crispr_lvs-phenomexcan.pkl')"
      ]
     },
     "metadata": {},
     "output_type": "display_data"
    }
   ],
   "source": [
    "OUTPUT_FILENAME = OUTPUT_DIR / \"gls_phenotypes-crispr_lvs-phenomexcan.pkl\"\n",
    "display(OUTPUT_FILENAME)"
   ]
  },
  {
   "cell_type": "markdown",
   "id": "willing-magnitude",
   "metadata": {
    "papermill": {
     "duration": 0.024284,
     "end_time": "2021-07-16T16:30:43.384778",
     "exception": false,
     "start_time": "2021-07-16T16:30:43.360494",
     "status": "completed"
    },
    "tags": []
   },
   "source": [
    "# Load data"
   ]
  },
  {
   "cell_type": "markdown",
   "id": "heated-controversy",
   "metadata": {
    "papermill": {
     "duration": 0.024045,
     "end_time": "2021-07-16T16:30:43.433201",
     "exception": false,
     "start_time": "2021-07-16T16:30:43.409156",
     "status": "completed"
    },
    "tags": []
   },
   "source": [
    "## PhenomeXcan (S-MultiXcan)"
   ]
  },
  {
   "cell_type": "code",
   "execution_count": 8,
   "id": "ecological-electric",
   "metadata": {
    "execution": {
     "iopub.execute_input": "2021-07-16T16:30:43.484231Z",
     "iopub.status.busy": "2021-07-16T16:30:43.483873Z",
     "iopub.status.idle": "2021-07-16T16:30:43.494862Z",
     "shell.execute_reply": "2021-07-16T16:30:43.494526Z"
    },
    "papermill": {
     "duration": 0.037716,
     "end_time": "2021-07-16T16:30:43.494947",
     "exception": false,
     "start_time": "2021-07-16T16:30:43.457231",
     "status": "completed"
    },
    "tags": []
   },
   "outputs": [],
   "source": [
    "INPUT_SUBSET = \"z_score_std\""
   ]
  },
  {
   "cell_type": "code",
   "execution_count": 9,
   "id": "expired-association",
   "metadata": {
    "execution": {
     "iopub.execute_input": "2021-07-16T16:30:43.547297Z",
     "iopub.status.busy": "2021-07-16T16:30:43.546924Z",
     "iopub.status.idle": "2021-07-16T16:30:43.557550Z",
     "shell.execute_reply": "2021-07-16T16:30:43.557158Z"
    },
    "papermill": {
     "duration": 0.037743,
     "end_time": "2021-07-16T16:30:43.557635",
     "exception": false,
     "start_time": "2021-07-16T16:30:43.519892",
     "status": "completed"
    },
    "tags": []
   },
   "outputs": [],
   "source": [
    "INPUT_STEM = \"projection-smultixcan-efo_partial-mashr-zscores\""
   ]
  },
  {
   "cell_type": "code",
   "execution_count": 10,
   "id": "accurate-neighbor",
   "metadata": {
    "execution": {
     "iopub.execute_input": "2021-07-16T16:30:43.610653Z",
     "iopub.status.busy": "2021-07-16T16:30:43.610294Z",
     "iopub.status.idle": "2021-07-16T16:30:43.621117Z",
     "shell.execute_reply": "2021-07-16T16:30:43.620723Z"
    },
    "papermill": {
     "duration": 0.037787,
     "end_time": "2021-07-16T16:30:43.621197",
     "exception": false,
     "start_time": "2021-07-16T16:30:43.583410",
     "status": "completed"
    },
    "tags": []
   },
   "outputs": [],
   "source": [
    "input_filepath = Path(\n",
    "    conf.RESULTS[\"DATA_TRANSFORMATIONS_DIR\"],\n",
    "    INPUT_SUBSET,\n",
    "    f\"{INPUT_SUBSET}-{INPUT_STEM}.pkl\",\n",
    ").resolve()"
   ]
  },
  {
   "cell_type": "code",
   "execution_count": 11,
   "id": "alive-advantage",
   "metadata": {
    "execution": {
     "iopub.execute_input": "2021-07-16T16:30:43.672652Z",
     "iopub.status.busy": "2021-07-16T16:30:43.672294Z",
     "iopub.status.idle": "2021-07-16T16:30:43.696586Z",
     "shell.execute_reply": "2021-07-16T16:30:43.696192Z"
    },
    "papermill": {
     "duration": 0.05094,
     "end_time": "2021-07-16T16:30:43.696683",
     "exception": false,
     "start_time": "2021-07-16T16:30:43.645743",
     "status": "completed"
    },
    "tags": []
   },
   "outputs": [],
   "source": [
    "phenomexcan_projection = pd.read_pickle(input_filepath)"
   ]
  },
  {
   "cell_type": "code",
   "execution_count": 12,
   "id": "express-antenna",
   "metadata": {
    "execution": {
     "iopub.execute_input": "2021-07-16T16:30:43.756199Z",
     "iopub.status.busy": "2021-07-16T16:30:43.755787Z",
     "iopub.status.idle": "2021-07-16T16:30:43.768419Z",
     "shell.execute_reply": "2021-07-16T16:30:43.767997Z"
    },
    "papermill": {
     "duration": 0.044016,
     "end_time": "2021-07-16T16:30:43.768515",
     "exception": false,
     "start_time": "2021-07-16T16:30:43.724499",
     "status": "completed"
    },
    "tags": []
   },
   "outputs": [
    {
     "data": {
      "text/plain": [
       "(3752, 987)"
      ]
     },
     "execution_count": 12,
     "metadata": {},
     "output_type": "execute_result"
    }
   ],
   "source": [
    "phenomexcan_projection.shape"
   ]
  },
  {
   "cell_type": "code",
   "execution_count": 13,
   "id": "overhead-character",
   "metadata": {
    "execution": {
     "iopub.execute_input": "2021-07-16T16:30:43.824653Z",
     "iopub.status.busy": "2021-07-16T16:30:43.824295Z",
     "iopub.status.idle": "2021-07-16T16:30:43.847878Z",
     "shell.execute_reply": "2021-07-16T16:30:43.847502Z"
    },
    "papermill": {
     "duration": 0.050437,
     "end_time": "2021-07-16T16:30:43.847965",
     "exception": false,
     "start_time": "2021-07-16T16:30:43.797528",
     "status": "completed"
    },
    "tags": []
   },
   "outputs": [
    {
     "data": {
      "text/html": [
       "<div>\n",
       "<style scoped>\n",
       "    .dataframe tbody tr th:only-of-type {\n",
       "        vertical-align: middle;\n",
       "    }\n",
       "\n",
       "    .dataframe tbody tr th {\n",
       "        vertical-align: top;\n",
       "    }\n",
       "\n",
       "    .dataframe thead th {\n",
       "        text-align: right;\n",
       "    }\n",
       "</style>\n",
       "<table border=\"1\" class=\"dataframe\">\n",
       "  <thead>\n",
       "    <tr style=\"text-align: right;\">\n",
       "      <th></th>\n",
       "      <th>LV1</th>\n",
       "      <th>LV2</th>\n",
       "      <th>LV3</th>\n",
       "      <th>LV4</th>\n",
       "      <th>LV5</th>\n",
       "      <th>LV6</th>\n",
       "      <th>LV7</th>\n",
       "      <th>LV8</th>\n",
       "      <th>LV9</th>\n",
       "      <th>LV10</th>\n",
       "      <th>...</th>\n",
       "      <th>LV978</th>\n",
       "      <th>LV979</th>\n",
       "      <th>LV980</th>\n",
       "      <th>LV981</th>\n",
       "      <th>LV982</th>\n",
       "      <th>LV983</th>\n",
       "      <th>LV984</th>\n",
       "      <th>LV985</th>\n",
       "      <th>LV986</th>\n",
       "      <th>LV987</th>\n",
       "    </tr>\n",
       "  </thead>\n",
       "  <tbody>\n",
       "    <tr>\n",
       "      <th>100001_raw-Food_weight</th>\n",
       "      <td>-0.695006</td>\n",
       "      <td>1.962565</td>\n",
       "      <td>0.057683</td>\n",
       "      <td>0.878731</td>\n",
       "      <td>-0.539977</td>\n",
       "      <td>1.481272</td>\n",
       "      <td>-0.396422</td>\n",
       "      <td>1.090180</td>\n",
       "      <td>0.759223</td>\n",
       "      <td>0.931395</td>\n",
       "      <td>...</td>\n",
       "      <td>1.129784</td>\n",
       "      <td>1.752343</td>\n",
       "      <td>-1.411403</td>\n",
       "      <td>2.823863</td>\n",
       "      <td>0.931116</td>\n",
       "      <td>-1.054519</td>\n",
       "      <td>0.432982</td>\n",
       "      <td>-0.633597</td>\n",
       "      <td>0.554279</td>\n",
       "      <td>-0.642479</td>\n",
       "    </tr>\n",
       "    <tr>\n",
       "      <th>100002_raw-Energy</th>\n",
       "      <td>-1.528127</td>\n",
       "      <td>-0.345309</td>\n",
       "      <td>-0.148953</td>\n",
       "      <td>-0.242060</td>\n",
       "      <td>0.373427</td>\n",
       "      <td>0.791092</td>\n",
       "      <td>0.263477</td>\n",
       "      <td>0.987702</td>\n",
       "      <td>0.354391</td>\n",
       "      <td>1.416059</td>\n",
       "      <td>...</td>\n",
       "      <td>0.224604</td>\n",
       "      <td>0.769882</td>\n",
       "      <td>-0.509482</td>\n",
       "      <td>0.091153</td>\n",
       "      <td>2.286789</td>\n",
       "      <td>-1.008256</td>\n",
       "      <td>-0.029764</td>\n",
       "      <td>1.737229</td>\n",
       "      <td>-0.272107</td>\n",
       "      <td>-0.526125</td>\n",
       "    </tr>\n",
       "    <tr>\n",
       "      <th>100003_raw-Protein</th>\n",
       "      <td>-0.704572</td>\n",
       "      <td>-1.011299</td>\n",
       "      <td>0.671420</td>\n",
       "      <td>0.143991</td>\n",
       "      <td>0.615212</td>\n",
       "      <td>0.874212</td>\n",
       "      <td>-0.040998</td>\n",
       "      <td>0.915170</td>\n",
       "      <td>0.254369</td>\n",
       "      <td>-0.084237</td>\n",
       "      <td>...</td>\n",
       "      <td>1.003019</td>\n",
       "      <td>1.044314</td>\n",
       "      <td>-2.376108</td>\n",
       "      <td>0.004778</td>\n",
       "      <td>0.053714</td>\n",
       "      <td>-0.892447</td>\n",
       "      <td>-0.183800</td>\n",
       "      <td>1.377991</td>\n",
       "      <td>-0.278794</td>\n",
       "      <td>-0.419733</td>\n",
       "    </tr>\n",
       "    <tr>\n",
       "      <th>100004_raw-Fat</th>\n",
       "      <td>-0.989832</td>\n",
       "      <td>-1.875490</td>\n",
       "      <td>0.261555</td>\n",
       "      <td>-1.420719</td>\n",
       "      <td>0.366238</td>\n",
       "      <td>1.167049</td>\n",
       "      <td>0.257387</td>\n",
       "      <td>0.717674</td>\n",
       "      <td>-0.997664</td>\n",
       "      <td>0.969825</td>\n",
       "      <td>...</td>\n",
       "      <td>0.585913</td>\n",
       "      <td>0.638314</td>\n",
       "      <td>0.119139</td>\n",
       "      <td>-0.140204</td>\n",
       "      <td>1.394326</td>\n",
       "      <td>-1.173402</td>\n",
       "      <td>0.555058</td>\n",
       "      <td>1.013982</td>\n",
       "      <td>-0.544506</td>\n",
       "      <td>-0.064061</td>\n",
       "    </tr>\n",
       "    <tr>\n",
       "      <th>100005_raw-Carbohydrate</th>\n",
       "      <td>-0.580143</td>\n",
       "      <td>0.243335</td>\n",
       "      <td>0.158966</td>\n",
       "      <td>-0.036558</td>\n",
       "      <td>0.068176</td>\n",
       "      <td>-0.202639</td>\n",
       "      <td>1.101281</td>\n",
       "      <td>0.675227</td>\n",
       "      <td>1.463432</td>\n",
       "      <td>1.010078</td>\n",
       "      <td>...</td>\n",
       "      <td>-0.249108</td>\n",
       "      <td>-0.026814</td>\n",
       "      <td>0.232713</td>\n",
       "      <td>0.323682</td>\n",
       "      <td>1.168642</td>\n",
       "      <td>-0.282935</td>\n",
       "      <td>0.653105</td>\n",
       "      <td>1.909526</td>\n",
       "      <td>0.199997</td>\n",
       "      <td>-1.656894</td>\n",
       "    </tr>\n",
       "  </tbody>\n",
       "</table>\n",
       "<p>5 rows × 987 columns</p>\n",
       "</div>"
      ],
      "text/plain": [
       "                              LV1       LV2       LV3       LV4       LV5  \\\n",
       "100001_raw-Food_weight  -0.695006  1.962565  0.057683  0.878731 -0.539977   \n",
       "100002_raw-Energy       -1.528127 -0.345309 -0.148953 -0.242060  0.373427   \n",
       "100003_raw-Protein      -0.704572 -1.011299  0.671420  0.143991  0.615212   \n",
       "100004_raw-Fat          -0.989832 -1.875490  0.261555 -1.420719  0.366238   \n",
       "100005_raw-Carbohydrate -0.580143  0.243335  0.158966 -0.036558  0.068176   \n",
       "\n",
       "                              LV6       LV7       LV8       LV9      LV10  \\\n",
       "100001_raw-Food_weight   1.481272 -0.396422  1.090180  0.759223  0.931395   \n",
       "100002_raw-Energy        0.791092  0.263477  0.987702  0.354391  1.416059   \n",
       "100003_raw-Protein       0.874212 -0.040998  0.915170  0.254369 -0.084237   \n",
       "100004_raw-Fat           1.167049  0.257387  0.717674 -0.997664  0.969825   \n",
       "100005_raw-Carbohydrate -0.202639  1.101281  0.675227  1.463432  1.010078   \n",
       "\n",
       "                         ...     LV978     LV979     LV980     LV981  \\\n",
       "100001_raw-Food_weight   ...  1.129784  1.752343 -1.411403  2.823863   \n",
       "100002_raw-Energy        ...  0.224604  0.769882 -0.509482  0.091153   \n",
       "100003_raw-Protein       ...  1.003019  1.044314 -2.376108  0.004778   \n",
       "100004_raw-Fat           ...  0.585913  0.638314  0.119139 -0.140204   \n",
       "100005_raw-Carbohydrate  ... -0.249108 -0.026814  0.232713  0.323682   \n",
       "\n",
       "                            LV982     LV983     LV984     LV985     LV986  \\\n",
       "100001_raw-Food_weight   0.931116 -1.054519  0.432982 -0.633597  0.554279   \n",
       "100002_raw-Energy        2.286789 -1.008256 -0.029764  1.737229 -0.272107   \n",
       "100003_raw-Protein       0.053714 -0.892447 -0.183800  1.377991 -0.278794   \n",
       "100004_raw-Fat           1.394326 -1.173402  0.555058  1.013982 -0.544506   \n",
       "100005_raw-Carbohydrate  1.168642 -0.282935  0.653105  1.909526  0.199997   \n",
       "\n",
       "                            LV987  \n",
       "100001_raw-Food_weight  -0.642479  \n",
       "100002_raw-Energy       -0.526125  \n",
       "100003_raw-Protein      -0.419733  \n",
       "100004_raw-Fat          -0.064061  \n",
       "100005_raw-Carbohydrate -1.656894  \n",
       "\n",
       "[5 rows x 987 columns]"
      ]
     },
     "execution_count": 13,
     "metadata": {},
     "output_type": "execute_result"
    }
   ],
   "source": [
    "phenomexcan_projection.head()"
   ]
  },
  {
   "cell_type": "markdown",
   "id": "ranging-starter",
   "metadata": {
    "papermill": {
     "duration": 0.025161,
     "end_time": "2021-07-16T16:30:43.899637",
     "exception": false,
     "start_time": "2021-07-16T16:30:43.874476",
     "status": "completed"
    },
    "tags": []
   },
   "source": [
    "## Clustering results"
   ]
  },
  {
   "cell_type": "code",
   "execution_count": 14,
   "id": "casual-lounge",
   "metadata": {
    "execution": {
     "iopub.execute_input": "2021-07-16T16:30:43.952982Z",
     "iopub.status.busy": "2021-07-16T16:30:43.952544Z",
     "iopub.status.idle": "2021-07-16T16:30:43.964221Z",
     "shell.execute_reply": "2021-07-16T16:30:43.963793Z"
    },
    "papermill": {
     "duration": 0.039565,
     "end_time": "2021-07-16T16:30:43.964307",
     "exception": false,
     "start_time": "2021-07-16T16:30:43.924742",
     "status": "completed"
    },
    "tags": []
   },
   "outputs": [
    {
     "data": {
      "text/plain": [
       "PosixPath('/home/miltondp/projects/labs/greenelab/phenoplier/base/results/clustering/consensus_clustering')"
      ]
     },
     "metadata": {},
     "output_type": "display_data"
    }
   ],
   "source": [
    "CONSENSUS_CLUSTERING_DIR = Path(\n",
    "    conf.RESULTS[\"CLUSTERING_DIR\"], \"consensus_clustering\"\n",
    ").resolve()\n",
    "\n",
    "display(CONSENSUS_CLUSTERING_DIR)"
   ]
  },
  {
   "cell_type": "code",
   "execution_count": 15,
   "id": "peripheral-helmet",
   "metadata": {
    "execution": {
     "iopub.execute_input": "2021-07-16T16:30:44.019768Z",
     "iopub.status.busy": "2021-07-16T16:30:44.019410Z",
     "iopub.status.idle": "2021-07-16T16:30:44.031010Z",
     "shell.execute_reply": "2021-07-16T16:30:44.030634Z"
    },
    "papermill": {
     "duration": 0.039734,
     "end_time": "2021-07-16T16:30:44.031096",
     "exception": false,
     "start_time": "2021-07-16T16:30:43.991362",
     "status": "completed"
    },
    "tags": []
   },
   "outputs": [
    {
     "data": {
      "text/plain": [
       "PosixPath('/home/miltondp/projects/labs/greenelab/phenoplier/base/results/clustering/consensus_clustering/best_partitions_by_k.pkl')"
      ]
     },
     "metadata": {},
     "output_type": "display_data"
    }
   ],
   "source": [
    "input_file = Path(CONSENSUS_CLUSTERING_DIR, \"best_partitions_by_k.pkl\").resolve()\n",
    "display(input_file)"
   ]
  },
  {
   "cell_type": "code",
   "execution_count": 16,
   "id": "frozen-skill",
   "metadata": {
    "execution": {
     "iopub.execute_input": "2021-07-16T16:30:44.086105Z",
     "iopub.status.busy": "2021-07-16T16:30:44.085733Z",
     "iopub.status.idle": "2021-07-16T16:30:44.097888Z",
     "shell.execute_reply": "2021-07-16T16:30:44.097506Z"
    },
    "papermill": {
     "duration": 0.040508,
     "end_time": "2021-07-16T16:30:44.097976",
     "exception": false,
     "start_time": "2021-07-16T16:30:44.057468",
     "status": "completed"
    },
    "tags": []
   },
   "outputs": [],
   "source": [
    "best_partitions = pd.read_pickle(input_file)"
   ]
  },
  {
   "cell_type": "code",
   "execution_count": 17,
   "id": "starting-bunch",
   "metadata": {
    "execution": {
     "iopub.execute_input": "2021-07-16T16:30:44.154314Z",
     "iopub.status.busy": "2021-07-16T16:30:44.153919Z",
     "iopub.status.idle": "2021-07-16T16:30:44.165999Z",
     "shell.execute_reply": "2021-07-16T16:30:44.165604Z"
    },
    "papermill": {
     "duration": 0.041342,
     "end_time": "2021-07-16T16:30:44.166090",
     "exception": false,
     "start_time": "2021-07-16T16:30:44.124748",
     "status": "completed"
    },
    "tags": []
   },
   "outputs": [
    {
     "data": {
      "text/plain": [
       "(59, 4)"
      ]
     },
     "execution_count": 17,
     "metadata": {},
     "output_type": "execute_result"
    }
   ],
   "source": [
    "best_partitions.shape"
   ]
  },
  {
   "cell_type": "code",
   "execution_count": 18,
   "id": "interested-stuart",
   "metadata": {
    "execution": {
     "iopub.execute_input": "2021-07-16T16:30:44.222717Z",
     "iopub.status.busy": "2021-07-16T16:30:44.222318Z",
     "iopub.status.idle": "2021-07-16T16:30:44.242099Z",
     "shell.execute_reply": "2021-07-16T16:30:44.241724Z"
    },
    "papermill": {
     "duration": 0.048228,
     "end_time": "2021-07-16T16:30:44.242184",
     "exception": false,
     "start_time": "2021-07-16T16:30:44.193956",
     "status": "completed"
    },
    "tags": []
   },
   "outputs": [
    {
     "data": {
      "text/html": [
       "<div>\n",
       "<style scoped>\n",
       "    .dataframe tbody tr th:only-of-type {\n",
       "        vertical-align: middle;\n",
       "    }\n",
       "\n",
       "    .dataframe tbody tr th {\n",
       "        vertical-align: top;\n",
       "    }\n",
       "\n",
       "    .dataframe thead th {\n",
       "        text-align: right;\n",
       "    }\n",
       "</style>\n",
       "<table border=\"1\" class=\"dataframe\">\n",
       "  <thead>\n",
       "    <tr style=\"text-align: right;\">\n",
       "      <th></th>\n",
       "      <th>method</th>\n",
       "      <th>partition</th>\n",
       "      <th>ari_median</th>\n",
       "      <th>selected</th>\n",
       "    </tr>\n",
       "    <tr>\n",
       "      <th>k</th>\n",
       "      <th></th>\n",
       "      <th></th>\n",
       "      <th></th>\n",
       "      <th></th>\n",
       "    </tr>\n",
       "  </thead>\n",
       "  <tbody>\n",
       "    <tr>\n",
       "      <th>14</th>\n",
       "      <td>scc_025</td>\n",
       "      <td>[0, 0, 0, 0, 0, 0, 0, 0, 0, 0, 0, 0, 0, 0, 0, ...</td>\n",
       "      <td>0.090117</td>\n",
       "      <td>True</td>\n",
       "    </tr>\n",
       "    <tr>\n",
       "      <th>22</th>\n",
       "      <td>scc_020</td>\n",
       "      <td>[13, 18, 18, 18, 18, 18, 18, 18, 18, 13, 18, 1...</td>\n",
       "      <td>0.090100</td>\n",
       "      <td>True</td>\n",
       "    </tr>\n",
       "    <tr>\n",
       "      <th>13</th>\n",
       "      <td>scc_025</td>\n",
       "      <td>[0, 0, 0, 0, 0, 0, 0, 0, 0, 0, 0, 0, 0, 0, 0, ...</td>\n",
       "      <td>0.089920</td>\n",
       "      <td>True</td>\n",
       "    </tr>\n",
       "    <tr>\n",
       "      <th>12</th>\n",
       "      <td>scc_025</td>\n",
       "      <td>[0, 0, 0, 0, 0, 0, 0, 0, 0, 0, 0, 0, 0, 0, 0, ...</td>\n",
       "      <td>0.089894</td>\n",
       "      <td>True</td>\n",
       "    </tr>\n",
       "    <tr>\n",
       "      <th>11</th>\n",
       "      <td>scc_025</td>\n",
       "      <td>[0, 0, 0, 0, 0, 0, 0, 0, 0, 0, 0, 0, 0, 0, 0, ...</td>\n",
       "      <td>0.089616</td>\n",
       "      <td>True</td>\n",
       "    </tr>\n",
       "  </tbody>\n",
       "</table>\n",
       "</div>"
      ],
      "text/plain": [
       "     method                                          partition  ari_median  \\\n",
       "k                                                                            \n",
       "14  scc_025  [0, 0, 0, 0, 0, 0, 0, 0, 0, 0, 0, 0, 0, 0, 0, ...    0.090117   \n",
       "22  scc_020  [13, 18, 18, 18, 18, 18, 18, 18, 18, 13, 18, 1...    0.090100   \n",
       "13  scc_025  [0, 0, 0, 0, 0, 0, 0, 0, 0, 0, 0, 0, 0, 0, 0, ...    0.089920   \n",
       "12  scc_025  [0, 0, 0, 0, 0, 0, 0, 0, 0, 0, 0, 0, 0, 0, 0, ...    0.089894   \n",
       "11  scc_025  [0, 0, 0, 0, 0, 0, 0, 0, 0, 0, 0, 0, 0, 0, 0, ...    0.089616   \n",
       "\n",
       "    selected  \n",
       "k             \n",
       "14      True  \n",
       "22      True  \n",
       "13      True  \n",
       "12      True  \n",
       "11      True  "
      ]
     },
     "execution_count": 18,
     "metadata": {},
     "output_type": "execute_result"
    }
   ],
   "source": [
    "best_partitions.head()"
   ]
  },
  {
   "cell_type": "markdown",
   "id": "piano-tribune",
   "metadata": {
    "papermill": {
     "duration": 0.026304,
     "end_time": "2021-07-16T16:30:44.295745",
     "exception": false,
     "start_time": "2021-07-16T16:30:44.269441",
     "status": "completed"
    },
    "tags": []
   },
   "source": [
    "## MultiPLIER summary"
   ]
  },
  {
   "cell_type": "code",
   "execution_count": 19,
   "id": "distributed-eclipse",
   "metadata": {
    "execution": {
     "iopub.execute_input": "2021-07-16T16:30:44.350776Z",
     "iopub.status.busy": "2021-07-16T16:30:44.350418Z",
     "iopub.status.idle": "2021-07-16T16:30:44.362587Z",
     "shell.execute_reply": "2021-07-16T16:30:44.362225Z"
    },
    "papermill": {
     "duration": 0.040858,
     "end_time": "2021-07-16T16:30:44.362669",
     "exception": false,
     "start_time": "2021-07-16T16:30:44.321811",
     "status": "completed"
    },
    "tags": []
   },
   "outputs": [],
   "source": [
    "multiplier_model_summary = pd.read_pickle(conf.MULTIPLIER[\"MODEL_SUMMARY_FILE\"])"
   ]
  },
  {
   "cell_type": "code",
   "execution_count": 20,
   "id": "surprised-sarah",
   "metadata": {
    "execution": {
     "iopub.execute_input": "2021-07-16T16:30:44.418104Z",
     "iopub.status.busy": "2021-07-16T16:30:44.417697Z",
     "iopub.status.idle": "2021-07-16T16:30:44.428946Z",
     "shell.execute_reply": "2021-07-16T16:30:44.429232Z"
    },
    "papermill": {
     "duration": 0.040008,
     "end_time": "2021-07-16T16:30:44.429335",
     "exception": false,
     "start_time": "2021-07-16T16:30:44.389327",
     "status": "completed"
    },
    "tags": []
   },
   "outputs": [
    {
     "data": {
      "text/plain": [
       "(2157, 5)"
      ]
     },
     "execution_count": 20,
     "metadata": {},
     "output_type": "execute_result"
    }
   ],
   "source": [
    "multiplier_model_summary.shape"
   ]
  },
  {
   "cell_type": "code",
   "execution_count": 21,
   "id": "smoking-novel",
   "metadata": {
    "execution": {
     "iopub.execute_input": "2021-07-16T16:30:44.486164Z",
     "iopub.status.busy": "2021-07-16T16:30:44.485805Z",
     "iopub.status.idle": "2021-07-16T16:30:44.501214Z",
     "shell.execute_reply": "2021-07-16T16:30:44.500864Z"
    },
    "papermill": {
     "duration": 0.044544,
     "end_time": "2021-07-16T16:30:44.501295",
     "exception": false,
     "start_time": "2021-07-16T16:30:44.456751",
     "status": "completed"
    },
    "tags": []
   },
   "outputs": [
    {
     "data": {
      "text/html": [
       "<div>\n",
       "<style scoped>\n",
       "    .dataframe tbody tr th:only-of-type {\n",
       "        vertical-align: middle;\n",
       "    }\n",
       "\n",
       "    .dataframe tbody tr th {\n",
       "        vertical-align: top;\n",
       "    }\n",
       "\n",
       "    .dataframe thead th {\n",
       "        text-align: right;\n",
       "    }\n",
       "</style>\n",
       "<table border=\"1\" class=\"dataframe\">\n",
       "  <thead>\n",
       "    <tr style=\"text-align: right;\">\n",
       "      <th></th>\n",
       "      <th>pathway</th>\n",
       "      <th>LV index</th>\n",
       "      <th>AUC</th>\n",
       "      <th>p-value</th>\n",
       "      <th>FDR</th>\n",
       "    </tr>\n",
       "  </thead>\n",
       "  <tbody>\n",
       "    <tr>\n",
       "      <th>1</th>\n",
       "      <td>KEGG_LYSINE_DEGRADATION</td>\n",
       "      <td>1</td>\n",
       "      <td>0.388059</td>\n",
       "      <td>0.866078</td>\n",
       "      <td>0.956005</td>\n",
       "    </tr>\n",
       "    <tr>\n",
       "      <th>2</th>\n",
       "      <td>REACTOME_MRNA_SPLICING</td>\n",
       "      <td>1</td>\n",
       "      <td>0.733057</td>\n",
       "      <td>0.000048</td>\n",
       "      <td>0.000582</td>\n",
       "    </tr>\n",
       "    <tr>\n",
       "      <th>3</th>\n",
       "      <td>MIPS_NOP56P_ASSOCIATED_PRE_RRNA_COMPLEX</td>\n",
       "      <td>1</td>\n",
       "      <td>0.680555</td>\n",
       "      <td>0.001628</td>\n",
       "      <td>0.011366</td>\n",
       "    </tr>\n",
       "    <tr>\n",
       "      <th>4</th>\n",
       "      <td>KEGG_DNA_REPLICATION</td>\n",
       "      <td>1</td>\n",
       "      <td>0.549473</td>\n",
       "      <td>0.312155</td>\n",
       "      <td>0.539951</td>\n",
       "    </tr>\n",
       "    <tr>\n",
       "      <th>5</th>\n",
       "      <td>PID_MYC_ACTIVPATHWAY</td>\n",
       "      <td>1</td>\n",
       "      <td>0.639303</td>\n",
       "      <td>0.021702</td>\n",
       "      <td>0.083739</td>\n",
       "    </tr>\n",
       "  </tbody>\n",
       "</table>\n",
       "</div>"
      ],
      "text/plain": [
       "                                   pathway LV index       AUC   p-value  \\\n",
       "1                  KEGG_LYSINE_DEGRADATION        1  0.388059  0.866078   \n",
       "2                   REACTOME_MRNA_SPLICING        1  0.733057  0.000048   \n",
       "3  MIPS_NOP56P_ASSOCIATED_PRE_RRNA_COMPLEX        1  0.680555  0.001628   \n",
       "4                     KEGG_DNA_REPLICATION        1  0.549473  0.312155   \n",
       "5                     PID_MYC_ACTIVPATHWAY        1  0.639303  0.021702   \n",
       "\n",
       "        FDR  \n",
       "1  0.956005  \n",
       "2  0.000582  \n",
       "3  0.011366  \n",
       "4  0.539951  \n",
       "5  0.083739  "
      ]
     },
     "execution_count": 21,
     "metadata": {},
     "output_type": "execute_result"
    }
   ],
   "source": [
    "multiplier_model_summary.head()"
   ]
  },
  {
   "cell_type": "code",
   "execution_count": 22,
   "id": "educational-procedure",
   "metadata": {
    "execution": {
     "iopub.execute_input": "2021-07-16T16:30:44.557733Z",
     "iopub.status.busy": "2021-07-16T16:30:44.557364Z",
     "iopub.status.idle": "2021-07-16T16:30:44.577021Z",
     "shell.execute_reply": "2021-07-16T16:30:44.577308Z"
    },
    "papermill": {
     "duration": 0.049092,
     "end_time": "2021-07-16T16:30:44.577410",
     "exception": false,
     "start_time": "2021-07-16T16:30:44.528318",
     "status": "completed"
    },
    "tags": []
   },
   "outputs": [
    {
     "data": {
      "text/plain": [
       "(469, 5)"
      ]
     },
     "metadata": {},
     "output_type": "display_data"
    },
    {
     "data": {
      "text/html": [
       "<div>\n",
       "<style scoped>\n",
       "    .dataframe tbody tr th:only-of-type {\n",
       "        vertical-align: middle;\n",
       "    }\n",
       "\n",
       "    .dataframe tbody tr th {\n",
       "        vertical-align: top;\n",
       "    }\n",
       "\n",
       "    .dataframe thead th {\n",
       "        text-align: right;\n",
       "    }\n",
       "</style>\n",
       "<table border=\"1\" class=\"dataframe\">\n",
       "  <thead>\n",
       "    <tr style=\"text-align: right;\">\n",
       "      <th></th>\n",
       "      <th>pathway</th>\n",
       "      <th>LV index</th>\n",
       "      <th>AUC</th>\n",
       "      <th>p-value</th>\n",
       "      <th>FDR</th>\n",
       "    </tr>\n",
       "  </thead>\n",
       "  <tbody>\n",
       "    <tr>\n",
       "      <th>2</th>\n",
       "      <td>REACTOME_MRNA_SPLICING</td>\n",
       "      <td>1</td>\n",
       "      <td>0.733057</td>\n",
       "      <td>4.772691e-05</td>\n",
       "      <td>5.816211e-04</td>\n",
       "    </tr>\n",
       "    <tr>\n",
       "      <th>3</th>\n",
       "      <td>MIPS_NOP56P_ASSOCIATED_PRE_RRNA_COMPLEX</td>\n",
       "      <td>1</td>\n",
       "      <td>0.680555</td>\n",
       "      <td>1.628217e-03</td>\n",
       "      <td>1.136590e-02</td>\n",
       "    </tr>\n",
       "    <tr>\n",
       "      <th>8</th>\n",
       "      <td>REACTOME_MITOTIC_G1_G1_S_PHASES</td>\n",
       "      <td>1</td>\n",
       "      <td>0.686170</td>\n",
       "      <td>2.517619e-04</td>\n",
       "      <td>2.392292e-03</td>\n",
       "    </tr>\n",
       "    <tr>\n",
       "      <th>9</th>\n",
       "      <td>IRIS_Monocyte-Day0</td>\n",
       "      <td>2</td>\n",
       "      <td>0.890036</td>\n",
       "      <td>4.315812e-25</td>\n",
       "      <td>1.329887e-22</td>\n",
       "    </tr>\n",
       "    <tr>\n",
       "      <th>10</th>\n",
       "      <td>DMAP_MONO2</td>\n",
       "      <td>2</td>\n",
       "      <td>0.904676</td>\n",
       "      <td>1.313970e-16</td>\n",
       "      <td>1.574574e-14</td>\n",
       "    </tr>\n",
       "  </tbody>\n",
       "</table>\n",
       "</div>"
      ],
      "text/plain": [
       "                                    pathway LV index       AUC       p-value  \\\n",
       "2                    REACTOME_MRNA_SPLICING        1  0.733057  4.772691e-05   \n",
       "3   MIPS_NOP56P_ASSOCIATED_PRE_RRNA_COMPLEX        1  0.680555  1.628217e-03   \n",
       "8           REACTOME_MITOTIC_G1_G1_S_PHASES        1  0.686170  2.517619e-04   \n",
       "9                        IRIS_Monocyte-Day0        2  0.890036  4.315812e-25   \n",
       "10                               DMAP_MONO2        2  0.904676  1.313970e-16   \n",
       "\n",
       "             FDR  \n",
       "2   5.816211e-04  \n",
       "3   1.136590e-02  \n",
       "8   2.392292e-03  \n",
       "9   1.329887e-22  \n",
       "10  1.574574e-14  "
      ]
     },
     "metadata": {},
     "output_type": "display_data"
    }
   ],
   "source": [
    "well_aligned_lvs = multiplier_model_summary[\n",
    "    (multiplier_model_summary[\"FDR\"] < 0.05) | (multiplier_model_summary[\"AUC\"] >= 0.75)\n",
    "]\n",
    "\n",
    "display(well_aligned_lvs.shape)\n",
    "display(well_aligned_lvs.head())"
   ]
  },
  {
   "cell_type": "code",
   "execution_count": 23,
   "id": "solved-sterling",
   "metadata": {
    "execution": {
     "iopub.execute_input": "2021-07-16T16:30:44.635161Z",
     "iopub.status.busy": "2021-07-16T16:30:44.634803Z",
     "iopub.status.idle": "2021-07-16T16:30:44.645512Z",
     "shell.execute_reply": "2021-07-16T16:30:44.645198Z"
    },
    "papermill": {
     "duration": 0.040796,
     "end_time": "2021-07-16T16:30:44.645652",
     "exception": false,
     "start_time": "2021-07-16T16:30:44.604856",
     "status": "completed"
    },
    "tags": []
   },
   "outputs": [],
   "source": [
    "well_aligned_lv_codes = set([f\"LV{lvi}\" for lvi in well_aligned_lvs[\"LV index\"]])"
   ]
  },
  {
   "cell_type": "code",
   "execution_count": 24,
   "id": "detailed-sacramento",
   "metadata": {
    "execution": {
     "iopub.execute_input": "2021-07-16T16:30:44.703082Z",
     "iopub.status.busy": "2021-07-16T16:30:44.702726Z",
     "iopub.status.idle": "2021-07-16T16:30:44.714313Z",
     "shell.execute_reply": "2021-07-16T16:30:44.713952Z"
    },
    "papermill": {
     "duration": 0.040852,
     "end_time": "2021-07-16T16:30:44.714397",
     "exception": false,
     "start_time": "2021-07-16T16:30:44.673545",
     "status": "completed"
    },
    "tags": []
   },
   "outputs": [
    {
     "data": {
      "text/plain": [
       "200"
      ]
     },
     "execution_count": 24,
     "metadata": {},
     "output_type": "execute_result"
    }
   ],
   "source": [
    "len(well_aligned_lv_codes)"
   ]
  },
  {
   "cell_type": "code",
   "execution_count": 25,
   "id": "incoming-vatican",
   "metadata": {
    "execution": {
     "iopub.execute_input": "2021-07-16T16:30:44.778399Z",
     "iopub.status.busy": "2021-07-16T16:30:44.778035Z",
     "iopub.status.idle": "2021-07-16T16:30:44.789279Z",
     "shell.execute_reply": "2021-07-16T16:30:44.789565Z"
    },
    "papermill": {
     "duration": 0.044445,
     "end_time": "2021-07-16T16:30:44.789677",
     "exception": false,
     "start_time": "2021-07-16T16:30:44.745232",
     "status": "completed"
    },
    "tags": []
   },
   "outputs": [
    {
     "data": {
      "text/plain": [
       "['LV935', 'LV516', 'LV598', 'LV606', 'LV136']"
      ]
     },
     "execution_count": 25,
     "metadata": {},
     "output_type": "execute_result"
    }
   ],
   "source": [
    "list(well_aligned_lv_codes)[:5]"
   ]
  },
  {
   "cell_type": "markdown",
   "id": "specified-mailman",
   "metadata": {
    "papermill": {
     "duration": 0.02753,
     "end_time": "2021-07-16T16:30:44.847926",
     "exception": false,
     "start_time": "2021-07-16T16:30:44.820396",
     "status": "completed"
    },
    "tags": []
   },
   "source": [
    "# Select LVs from CRISPR analysis"
   ]
  },
  {
   "cell_type": "code",
   "execution_count": 26,
   "id": "grateful-alert",
   "metadata": {
    "execution": {
     "iopub.execute_input": "2021-07-16T16:30:44.906090Z",
     "iopub.status.busy": "2021-07-16T16:30:44.905715Z",
     "iopub.status.idle": "2021-07-16T16:30:44.922139Z",
     "shell.execute_reply": "2021-07-16T16:30:44.921832Z"
    },
    "papermill": {
     "duration": 0.046659,
     "end_time": "2021-07-16T16:30:44.922227",
     "exception": false,
     "start_time": "2021-07-16T16:30:44.875568",
     "status": "completed"
    },
    "tags": []
   },
   "outputs": [],
   "source": [
    "# FIXME: there will be a specific folder for crispr analysis in the future, that should be replaced here\n",
    "deg_enrich = pd.read_csv(\n",
    "    Path(\n",
    "        conf.RESULTS[\"BASE_DIR\"],\n",
    "        \"crispr_analyses\",\n",
    "        \"fgsea-hi_conf-all_lvs.tsv\",\n",
    "    ).resolve(),\n",
    "    sep=\"\\t\",\n",
    ")"
   ]
  },
  {
   "cell_type": "code",
   "execution_count": 27,
   "id": "stuck-quest",
   "metadata": {
    "execution": {
     "iopub.execute_input": "2021-07-16T16:30:44.981190Z",
     "iopub.status.busy": "2021-07-16T16:30:44.980837Z",
     "iopub.status.idle": "2021-07-16T16:30:44.992472Z",
     "shell.execute_reply": "2021-07-16T16:30:44.992113Z"
    },
    "papermill": {
     "duration": 0.041762,
     "end_time": "2021-07-16T16:30:44.992555",
     "exception": false,
     "start_time": "2021-07-16T16:30:44.950793",
     "status": "completed"
    },
    "tags": []
   },
   "outputs": [
    {
     "data": {
      "text/plain": [
       "(1974, 11)"
      ]
     },
     "execution_count": 27,
     "metadata": {},
     "output_type": "execute_result"
    }
   ],
   "source": [
    "deg_enrich.shape"
   ]
  },
  {
   "cell_type": "code",
   "execution_count": 28,
   "id": "headed-solid",
   "metadata": {
    "execution": {
     "iopub.execute_input": "2021-07-16T16:30:45.051921Z",
     "iopub.status.busy": "2021-07-16T16:30:45.051566Z",
     "iopub.status.idle": "2021-07-16T16:30:45.068932Z",
     "shell.execute_reply": "2021-07-16T16:30:45.068538Z"
    },
    "papermill": {
     "duration": 0.047725,
     "end_time": "2021-07-16T16:30:45.069017",
     "exception": false,
     "start_time": "2021-07-16T16:30:45.021292",
     "status": "completed"
    },
    "tags": []
   },
   "outputs": [
    {
     "data": {
      "text/html": [
       "<div>\n",
       "<style scoped>\n",
       "    .dataframe tbody tr th:only-of-type {\n",
       "        vertical-align: middle;\n",
       "    }\n",
       "\n",
       "    .dataframe tbody tr th {\n",
       "        vertical-align: top;\n",
       "    }\n",
       "\n",
       "    .dataframe thead th {\n",
       "        text-align: right;\n",
       "    }\n",
       "</style>\n",
       "<table border=\"1\" class=\"dataframe\">\n",
       "  <thead>\n",
       "    <tr style=\"text-align: right;\">\n",
       "      <th></th>\n",
       "      <th>pathway</th>\n",
       "      <th>pval</th>\n",
       "      <th>padj</th>\n",
       "      <th>log2err</th>\n",
       "      <th>ES</th>\n",
       "      <th>NES</th>\n",
       "      <th>size</th>\n",
       "      <th>leadingEdge</th>\n",
       "      <th>lv</th>\n",
       "      <th>rep_idx</th>\n",
       "      <th>fdr</th>\n",
       "    </tr>\n",
       "  </thead>\n",
       "  <tbody>\n",
       "    <tr>\n",
       "      <th>0</th>\n",
       "      <td>gene_set_decrease</td>\n",
       "      <td>0.116883</td>\n",
       "      <td>0.233766</td>\n",
       "      <td>0.125640</td>\n",
       "      <td>0.909509</td>\n",
       "      <td>1.237006</td>\n",
       "      <td>5</td>\n",
       "      <td>PCYT2, UBE2J2, FBXW7</td>\n",
       "      <td>LV1</td>\n",
       "      <td>8</td>\n",
       "      <td>0.967285</td>\n",
       "    </tr>\n",
       "    <tr>\n",
       "      <th>1</th>\n",
       "      <td>gene_set_increase</td>\n",
       "      <td>0.285714</td>\n",
       "      <td>0.285714</td>\n",
       "      <td>0.072180</td>\n",
       "      <td>0.840253</td>\n",
       "      <td>1.258282</td>\n",
       "      <td>3</td>\n",
       "      <td>ACACA, MBTPS1</td>\n",
       "      <td>LV1</td>\n",
       "      <td>2</td>\n",
       "      <td>0.967285</td>\n",
       "    </tr>\n",
       "    <tr>\n",
       "      <th>2</th>\n",
       "      <td>gene_set_decrease</td>\n",
       "      <td>0.741259</td>\n",
       "      <td>0.741259</td>\n",
       "      <td>0.026956</td>\n",
       "      <td>0.751964</td>\n",
       "      <td>1.005845</td>\n",
       "      <td>5</td>\n",
       "      <td>TCF7L2, UBE2J2, PTEN</td>\n",
       "      <td>LV10</td>\n",
       "      <td>10</td>\n",
       "      <td>0.967285</td>\n",
       "    </tr>\n",
       "    <tr>\n",
       "      <th>3</th>\n",
       "      <td>gene_set_increase</td>\n",
       "      <td>0.427572</td>\n",
       "      <td>0.720280</td>\n",
       "      <td>0.052805</td>\n",
       "      <td>0.814140</td>\n",
       "      <td>1.320263</td>\n",
       "      <td>3</td>\n",
       "      <td>MBTPS1, DGAT2</td>\n",
       "      <td>LV10</td>\n",
       "      <td>4</td>\n",
       "      <td>0.967285</td>\n",
       "    </tr>\n",
       "    <tr>\n",
       "      <th>4</th>\n",
       "      <td>gene_set_decrease</td>\n",
       "      <td>0.908092</td>\n",
       "      <td>0.908092</td>\n",
       "      <td>0.014514</td>\n",
       "      <td>0.540400</td>\n",
       "      <td>0.778719</td>\n",
       "      <td>5</td>\n",
       "      <td>PTEN, TCF7L2</td>\n",
       "      <td>LV100</td>\n",
       "      <td>1</td>\n",
       "      <td>0.974250</td>\n",
       "    </tr>\n",
       "  </tbody>\n",
       "</table>\n",
       "</div>"
      ],
      "text/plain": [
       "             pathway      pval      padj   log2err        ES       NES  size  \\\n",
       "0  gene_set_decrease  0.116883  0.233766  0.125640  0.909509  1.237006     5   \n",
       "1  gene_set_increase  0.285714  0.285714  0.072180  0.840253  1.258282     3   \n",
       "2  gene_set_decrease  0.741259  0.741259  0.026956  0.751964  1.005845     5   \n",
       "3  gene_set_increase  0.427572  0.720280  0.052805  0.814140  1.320263     3   \n",
       "4  gene_set_decrease  0.908092  0.908092  0.014514  0.540400  0.778719     5   \n",
       "\n",
       "            leadingEdge     lv  rep_idx       fdr  \n",
       "0  PCYT2, UBE2J2, FBXW7    LV1        8  0.967285  \n",
       "1         ACACA, MBTPS1    LV1        2  0.967285  \n",
       "2  TCF7L2, UBE2J2, PTEN   LV10       10  0.967285  \n",
       "3         MBTPS1, DGAT2   LV10        4  0.967285  \n",
       "4          PTEN, TCF7L2  LV100        1  0.974250  "
      ]
     },
     "execution_count": 28,
     "metadata": {},
     "output_type": "execute_result"
    }
   ],
   "source": [
    "deg_enrich.head()"
   ]
  },
  {
   "cell_type": "code",
   "execution_count": 29,
   "id": "endangered-occasions",
   "metadata": {
    "execution": {
     "iopub.execute_input": "2021-07-16T16:30:45.129427Z",
     "iopub.status.busy": "2021-07-16T16:30:45.129065Z",
     "iopub.status.idle": "2021-07-16T16:30:45.139581Z",
     "shell.execute_reply": "2021-07-16T16:30:45.139229Z"
    },
    "papermill": {
     "duration": 0.040965,
     "end_time": "2021-07-16T16:30:45.139661",
     "exception": false,
     "start_time": "2021-07-16T16:30:45.098696",
     "status": "completed"
    },
    "tags": []
   },
   "outputs": [],
   "source": [
    "# deg_enrich_max_idx = deg_enrich.groupby([\"lv\", \"pathway\"])[\"pval\"].idxmax()"
   ]
  },
  {
   "cell_type": "code",
   "execution_count": 30,
   "id": "unlike-solomon",
   "metadata": {
    "execution": {
     "iopub.execute_input": "2021-07-16T16:30:45.201189Z",
     "iopub.status.busy": "2021-07-16T16:30:45.200766Z",
     "iopub.status.idle": "2021-07-16T16:30:45.211528Z",
     "shell.execute_reply": "2021-07-16T16:30:45.211163Z"
    },
    "papermill": {
     "duration": 0.041767,
     "end_time": "2021-07-16T16:30:45.211614",
     "exception": false,
     "start_time": "2021-07-16T16:30:45.169847",
     "status": "completed"
    },
    "tags": []
   },
   "outputs": [],
   "source": [
    "# deg_enrich = deg_enrich.loc[deg_enrich_max_idx].reset_index(drop=True)\n",
    "# display(deg_enrich.shape)\n",
    "# display(deg_enrich.head())"
   ]
  },
  {
   "cell_type": "markdown",
   "id": "improved-basis",
   "metadata": {
    "papermill": {
     "duration": 0.047718,
     "end_time": "2021-07-16T16:30:45.288142",
     "exception": false,
     "start_time": "2021-07-16T16:30:45.240424",
     "status": "completed"
    },
    "tags": []
   },
   "source": [
    "## Lipids-increasing gene sets"
   ]
  },
  {
   "cell_type": "code",
   "execution_count": 31,
   "id": "familiar-telescope",
   "metadata": {
    "execution": {
     "iopub.execute_input": "2021-07-16T16:30:45.354294Z",
     "iopub.status.busy": "2021-07-16T16:30:45.353924Z",
     "iopub.status.idle": "2021-07-16T16:30:45.365962Z",
     "shell.execute_reply": "2021-07-16T16:30:45.365602Z"
    },
    "papermill": {
     "duration": 0.04348,
     "end_time": "2021-07-16T16:30:45.366048",
     "exception": false,
     "start_time": "2021-07-16T16:30:45.322568",
     "status": "completed"
    },
    "tags": []
   },
   "outputs": [],
   "source": [
    "deg_increase = deg_enrich[\n",
    "    deg_enrich[\"pathway\"].isin((\"gene_set_increase\",)) & (deg_enrich[\"pval\"] < 0.01)\n",
    "].sort_values(\"pval\", ascending=True)"
   ]
  },
  {
   "cell_type": "code",
   "execution_count": 32,
   "id": "acting-diagram",
   "metadata": {
    "execution": {
     "iopub.execute_input": "2021-07-16T16:30:45.426457Z",
     "iopub.status.busy": "2021-07-16T16:30:45.426084Z",
     "iopub.status.idle": "2021-07-16T16:30:45.437178Z",
     "shell.execute_reply": "2021-07-16T16:30:45.437469Z"
    },
    "papermill": {
     "duration": 0.04236,
     "end_time": "2021-07-16T16:30:45.437570",
     "exception": false,
     "start_time": "2021-07-16T16:30:45.395210",
     "status": "completed"
    },
    "tags": []
   },
   "outputs": [
    {
     "data": {
      "text/plain": [
       "(7, 11)"
      ]
     },
     "execution_count": 32,
     "metadata": {},
     "output_type": "execute_result"
    }
   ],
   "source": [
    "deg_increase.shape"
   ]
  },
  {
   "cell_type": "code",
   "execution_count": 33,
   "id": "cutting-latest",
   "metadata": {
    "execution": {
     "iopub.execute_input": "2021-07-16T16:30:45.499039Z",
     "iopub.status.busy": "2021-07-16T16:30:45.498670Z",
     "iopub.status.idle": "2021-07-16T16:30:45.516176Z",
     "shell.execute_reply": "2021-07-16T16:30:45.515813Z"
    },
    "papermill": {
     "duration": 0.049106,
     "end_time": "2021-07-16T16:30:45.516262",
     "exception": false,
     "start_time": "2021-07-16T16:30:45.467156",
     "status": "completed"
    },
    "tags": []
   },
   "outputs": [
    {
     "data": {
      "text/html": [
       "<div>\n",
       "<style scoped>\n",
       "    .dataframe tbody tr th:only-of-type {\n",
       "        vertical-align: middle;\n",
       "    }\n",
       "\n",
       "    .dataframe tbody tr th {\n",
       "        vertical-align: top;\n",
       "    }\n",
       "\n",
       "    .dataframe thead th {\n",
       "        text-align: right;\n",
       "    }\n",
       "</style>\n",
       "<table border=\"1\" class=\"dataframe\">\n",
       "  <thead>\n",
       "    <tr style=\"text-align: right;\">\n",
       "      <th></th>\n",
       "      <th>pathway</th>\n",
       "      <th>pval</th>\n",
       "      <th>padj</th>\n",
       "      <th>log2err</th>\n",
       "      <th>ES</th>\n",
       "      <th>NES</th>\n",
       "      <th>size</th>\n",
       "      <th>leadingEdge</th>\n",
       "      <th>lv</th>\n",
       "      <th>rep_idx</th>\n",
       "      <th>fdr</th>\n",
       "    </tr>\n",
       "  </thead>\n",
       "  <tbody>\n",
       "    <tr>\n",
       "      <th>327</th>\n",
       "      <td>gene_set_increase</td>\n",
       "      <td>0.003533</td>\n",
       "      <td>0.007067</td>\n",
       "      <td>0.431708</td>\n",
       "      <td>0.998221</td>\n",
       "      <td>1.582398</td>\n",
       "      <td>3</td>\n",
       "      <td>DGAT2, ACACA</td>\n",
       "      <td>LV246</td>\n",
       "      <td>6</td>\n",
       "      <td>0.967285</td>\n",
       "    </tr>\n",
       "    <tr>\n",
       "      <th>1341</th>\n",
       "      <td>gene_set_increase</td>\n",
       "      <td>0.004573</td>\n",
       "      <td>0.009147</td>\n",
       "      <td>0.407018</td>\n",
       "      <td>0.998666</td>\n",
       "      <td>1.495780</td>\n",
       "      <td>3</td>\n",
       "      <td>ACACA, DGAT2</td>\n",
       "      <td>LV702</td>\n",
       "      <td>9</td>\n",
       "      <td>0.967285</td>\n",
       "    </tr>\n",
       "    <tr>\n",
       "      <th>1129</th>\n",
       "      <td>gene_set_increase</td>\n",
       "      <td>0.005837</td>\n",
       "      <td>0.011675</td>\n",
       "      <td>0.407018</td>\n",
       "      <td>0.996739</td>\n",
       "      <td>1.510660</td>\n",
       "      <td>3</td>\n",
       "      <td>ACACA, DGAT2</td>\n",
       "      <td>LV607</td>\n",
       "      <td>10</td>\n",
       "      <td>0.967285</td>\n",
       "    </tr>\n",
       "    <tr>\n",
       "      <th>1757</th>\n",
       "      <td>gene_set_increase</td>\n",
       "      <td>0.006730</td>\n",
       "      <td>0.013459</td>\n",
       "      <td>0.407018</td>\n",
       "      <td>0.997480</td>\n",
       "      <td>1.545604</td>\n",
       "      <td>3</td>\n",
       "      <td>ACACA, DGAT2</td>\n",
       "      <td>LV890</td>\n",
       "      <td>10</td>\n",
       "      <td>0.967285</td>\n",
       "    </tr>\n",
       "    <tr>\n",
       "      <th>1423</th>\n",
       "      <td>gene_set_increase</td>\n",
       "      <td>0.007847</td>\n",
       "      <td>0.015693</td>\n",
       "      <td>0.380730</td>\n",
       "      <td>0.990514</td>\n",
       "      <td>1.474472</td>\n",
       "      <td>3</td>\n",
       "      <td>MBTPS1, DGAT2</td>\n",
       "      <td>LV74</td>\n",
       "      <td>6</td>\n",
       "      <td>0.967285</td>\n",
       "    </tr>\n",
       "  </tbody>\n",
       "</table>\n",
       "</div>"
      ],
      "text/plain": [
       "                pathway      pval      padj   log2err        ES       NES  \\\n",
       "327   gene_set_increase  0.003533  0.007067  0.431708  0.998221  1.582398   \n",
       "1341  gene_set_increase  0.004573  0.009147  0.407018  0.998666  1.495780   \n",
       "1129  gene_set_increase  0.005837  0.011675  0.407018  0.996739  1.510660   \n",
       "1757  gene_set_increase  0.006730  0.013459  0.407018  0.997480  1.545604   \n",
       "1423  gene_set_increase  0.007847  0.015693  0.380730  0.990514  1.474472   \n",
       "\n",
       "      size    leadingEdge     lv  rep_idx       fdr  \n",
       "327      3   DGAT2, ACACA  LV246        6  0.967285  \n",
       "1341     3   ACACA, DGAT2  LV702        9  0.967285  \n",
       "1129     3   ACACA, DGAT2  LV607       10  0.967285  \n",
       "1757     3   ACACA, DGAT2  LV890       10  0.967285  \n",
       "1423     3  MBTPS1, DGAT2   LV74        6  0.967285  "
      ]
     },
     "execution_count": 33,
     "metadata": {},
     "output_type": "execute_result"
    }
   ],
   "source": [
    "deg_increase.head()"
   ]
  },
  {
   "cell_type": "code",
   "execution_count": 34,
   "id": "demographic-directory",
   "metadata": {
    "execution": {
     "iopub.execute_input": "2021-07-16T16:30:45.578785Z",
     "iopub.status.busy": "2021-07-16T16:30:45.578415Z",
     "iopub.status.idle": "2021-07-16T16:30:45.589410Z",
     "shell.execute_reply": "2021-07-16T16:30:45.589036Z"
    },
    "papermill": {
     "duration": 0.042624,
     "end_time": "2021-07-16T16:30:45.589496",
     "exception": false,
     "start_time": "2021-07-16T16:30:45.546872",
     "status": "completed"
    },
    "tags": []
   },
   "outputs": [],
   "source": [
    "lvs_increase = deg_increase[\"lv\"].unique()"
   ]
  },
  {
   "cell_type": "code",
   "execution_count": 35,
   "id": "extraordinary-assessment",
   "metadata": {
    "execution": {
     "iopub.execute_input": "2021-07-16T16:30:45.651158Z",
     "iopub.status.busy": "2021-07-16T16:30:45.650790Z",
     "iopub.status.idle": "2021-07-16T16:30:45.662622Z",
     "shell.execute_reply": "2021-07-16T16:30:45.662256Z"
    },
    "papermill": {
     "duration": 0.043527,
     "end_time": "2021-07-16T16:30:45.662705",
     "exception": false,
     "start_time": "2021-07-16T16:30:45.619178",
     "status": "completed"
    },
    "tags": []
   },
   "outputs": [
    {
     "data": {
      "text/plain": [
       "(7,)"
      ]
     },
     "execution_count": 35,
     "metadata": {},
     "output_type": "execute_result"
    }
   ],
   "source": [
    "lvs_increase.shape"
   ]
  },
  {
   "cell_type": "code",
   "execution_count": 36,
   "id": "limited-affect",
   "metadata": {
    "execution": {
     "iopub.execute_input": "2021-07-16T16:30:45.724814Z",
     "iopub.status.busy": "2021-07-16T16:30:45.724406Z",
     "iopub.status.idle": "2021-07-16T16:30:45.736284Z",
     "shell.execute_reply": "2021-07-16T16:30:45.735934Z"
    },
    "papermill": {
     "duration": 0.043525,
     "end_time": "2021-07-16T16:30:45.736394",
     "exception": false,
     "start_time": "2021-07-16T16:30:45.692869",
     "status": "completed"
    },
    "tags": []
   },
   "outputs": [
    {
     "data": {
      "text/plain": [
       "array(['LV246', 'LV702', 'LV607', 'LV890', 'LV74', 'LV865', 'LV841'],\n",
       "      dtype=object)"
      ]
     },
     "execution_count": 36,
     "metadata": {},
     "output_type": "execute_result"
    }
   ],
   "source": [
    "lvs_increase"
   ]
  },
  {
   "cell_type": "markdown",
   "id": "apart-liberia",
   "metadata": {
    "papermill": {
     "duration": 0.030306,
     "end_time": "2021-07-16T16:30:45.803640",
     "exception": false,
     "start_time": "2021-07-16T16:30:45.773334",
     "status": "completed"
    },
    "tags": []
   },
   "source": [
    "## Lipids-decreasing gene sets"
   ]
  },
  {
   "cell_type": "code",
   "execution_count": 37,
   "id": "tight-settlement",
   "metadata": {
    "execution": {
     "iopub.execute_input": "2021-07-16T16:30:45.866453Z",
     "iopub.status.busy": "2021-07-16T16:30:45.866094Z",
     "iopub.status.idle": "2021-07-16T16:30:45.877954Z",
     "shell.execute_reply": "2021-07-16T16:30:45.877584Z"
    },
    "papermill": {
     "duration": 0.04467,
     "end_time": "2021-07-16T16:30:45.878038",
     "exception": false,
     "start_time": "2021-07-16T16:30:45.833368",
     "status": "completed"
    },
    "tags": []
   },
   "outputs": [],
   "source": [
    "deg_decrease = deg_enrich[\n",
    "    deg_enrich[\"pathway\"].isin((\"gene_set_decrease\",)) & (deg_enrich[\"pval\"] < 0.01)\n",
    "].sort_values(\"pval\", ascending=True)"
   ]
  },
  {
   "cell_type": "code",
   "execution_count": 38,
   "id": "cordless-volunteer",
   "metadata": {
    "execution": {
     "iopub.execute_input": "2021-07-16T16:30:45.940511Z",
     "iopub.status.busy": "2021-07-16T16:30:45.940153Z",
     "iopub.status.idle": "2021-07-16T16:30:45.951987Z",
     "shell.execute_reply": "2021-07-16T16:30:45.951616Z"
    },
    "papermill": {
     "duration": 0.043955,
     "end_time": "2021-07-16T16:30:45.952072",
     "exception": false,
     "start_time": "2021-07-16T16:30:45.908117",
     "status": "completed"
    },
    "tags": []
   },
   "outputs": [
    {
     "data": {
      "text/plain": [
       "(8, 11)"
      ]
     },
     "execution_count": 38,
     "metadata": {},
     "output_type": "execute_result"
    }
   ],
   "source": [
    "deg_decrease.shape"
   ]
  },
  {
   "cell_type": "code",
   "execution_count": 39,
   "id": "protective-advance",
   "metadata": {
    "execution": {
     "iopub.execute_input": "2021-07-16T16:30:46.016395Z",
     "iopub.status.busy": "2021-07-16T16:30:46.016042Z",
     "iopub.status.idle": "2021-07-16T16:30:46.033456Z",
     "shell.execute_reply": "2021-07-16T16:30:46.033082Z"
    },
    "papermill": {
     "duration": 0.050064,
     "end_time": "2021-07-16T16:30:46.033543",
     "exception": false,
     "start_time": "2021-07-16T16:30:45.983479",
     "status": "completed"
    },
    "tags": []
   },
   "outputs": [
    {
     "data": {
      "text/html": [
       "<div>\n",
       "<style scoped>\n",
       "    .dataframe tbody tr th:only-of-type {\n",
       "        vertical-align: middle;\n",
       "    }\n",
       "\n",
       "    .dataframe tbody tr th {\n",
       "        vertical-align: top;\n",
       "    }\n",
       "\n",
       "    .dataframe thead th {\n",
       "        text-align: right;\n",
       "    }\n",
       "</style>\n",
       "<table border=\"1\" class=\"dataframe\">\n",
       "  <thead>\n",
       "    <tr style=\"text-align: right;\">\n",
       "      <th></th>\n",
       "      <th>pathway</th>\n",
       "      <th>pval</th>\n",
       "      <th>padj</th>\n",
       "      <th>log2err</th>\n",
       "      <th>ES</th>\n",
       "      <th>NES</th>\n",
       "      <th>size</th>\n",
       "      <th>leadingEdge</th>\n",
       "      <th>lv</th>\n",
       "      <th>rep_idx</th>\n",
       "      <th>fdr</th>\n",
       "    </tr>\n",
       "  </thead>\n",
       "  <tbody>\n",
       "    <tr>\n",
       "      <th>936</th>\n",
       "      <td>gene_set_decrease</td>\n",
       "      <td>0.000554</td>\n",
       "      <td>0.001108</td>\n",
       "      <td>0.477271</td>\n",
       "      <td>0.999703</td>\n",
       "      <td>1.388986</td>\n",
       "      <td>5</td>\n",
       "      <td>FBXW7, TCF7L2</td>\n",
       "      <td>LV520</td>\n",
       "      <td>6</td>\n",
       "      <td>0.967285</td>\n",
       "    </tr>\n",
       "    <tr>\n",
       "      <th>1560</th>\n",
       "      <td>gene_set_decrease</td>\n",
       "      <td>0.002201</td>\n",
       "      <td>0.004403</td>\n",
       "      <td>0.431708</td>\n",
       "      <td>0.997776</td>\n",
       "      <td>1.359600</td>\n",
       "      <td>5</td>\n",
       "      <td>UBE2J2, TCF7L2</td>\n",
       "      <td>LV801</td>\n",
       "      <td>6</td>\n",
       "      <td>0.967285</td>\n",
       "    </tr>\n",
       "    <tr>\n",
       "      <th>918</th>\n",
       "      <td>gene_set_decrease</td>\n",
       "      <td>0.002460</td>\n",
       "      <td>0.004921</td>\n",
       "      <td>0.431708</td>\n",
       "      <td>0.997331</td>\n",
       "      <td>1.382906</td>\n",
       "      <td>5</td>\n",
       "      <td>FBXW7, TCF7L2</td>\n",
       "      <td>LV512</td>\n",
       "      <td>2</td>\n",
       "      <td>0.967285</td>\n",
       "    </tr>\n",
       "    <tr>\n",
       "      <th>1140</th>\n",
       "      <td>gene_set_decrease</td>\n",
       "      <td>0.003570</td>\n",
       "      <td>0.007141</td>\n",
       "      <td>0.431708</td>\n",
       "      <td>0.999299</td>\n",
       "      <td>1.400503</td>\n",
       "      <td>5</td>\n",
       "      <td>PTEN, FBXW7</td>\n",
       "      <td>LV612</td>\n",
       "      <td>3</td>\n",
       "      <td>0.967285</td>\n",
       "    </tr>\n",
       "    <tr>\n",
       "      <th>690</th>\n",
       "      <td>gene_set_decrease</td>\n",
       "      <td>0.004053</td>\n",
       "      <td>0.008105</td>\n",
       "      <td>0.407018</td>\n",
       "      <td>0.996738</td>\n",
       "      <td>1.348694</td>\n",
       "      <td>5</td>\n",
       "      <td>PCYT2, TCF7L2</td>\n",
       "      <td>LV41</td>\n",
       "      <td>4</td>\n",
       "      <td>0.967285</td>\n",
       "    </tr>\n",
       "  </tbody>\n",
       "</table>\n",
       "</div>"
      ],
      "text/plain": [
       "                pathway      pval      padj   log2err        ES       NES  \\\n",
       "936   gene_set_decrease  0.000554  0.001108  0.477271  0.999703  1.388986   \n",
       "1560  gene_set_decrease  0.002201  0.004403  0.431708  0.997776  1.359600   \n",
       "918   gene_set_decrease  0.002460  0.004921  0.431708  0.997331  1.382906   \n",
       "1140  gene_set_decrease  0.003570  0.007141  0.431708  0.999299  1.400503   \n",
       "690   gene_set_decrease  0.004053  0.008105  0.407018  0.996738  1.348694   \n",
       "\n",
       "      size     leadingEdge     lv  rep_idx       fdr  \n",
       "936      5   FBXW7, TCF7L2  LV520        6  0.967285  \n",
       "1560     5  UBE2J2, TCF7L2  LV801        6  0.967285  \n",
       "918      5   FBXW7, TCF7L2  LV512        2  0.967285  \n",
       "1140     5     PTEN, FBXW7  LV612        3  0.967285  \n",
       "690      5   PCYT2, TCF7L2   LV41        4  0.967285  "
      ]
     },
     "execution_count": 39,
     "metadata": {},
     "output_type": "execute_result"
    }
   ],
   "source": [
    "deg_decrease.head()"
   ]
  },
  {
   "cell_type": "code",
   "execution_count": 40,
   "id": "swedish-pension",
   "metadata": {
    "execution": {
     "iopub.execute_input": "2021-07-16T16:30:46.097268Z",
     "iopub.status.busy": "2021-07-16T16:30:46.096911Z",
     "iopub.status.idle": "2021-07-16T16:30:46.108098Z",
     "shell.execute_reply": "2021-07-16T16:30:46.107723Z"
    },
    "papermill": {
     "duration": 0.043614,
     "end_time": "2021-07-16T16:30:46.108186",
     "exception": false,
     "start_time": "2021-07-16T16:30:46.064572",
     "status": "completed"
    },
    "tags": []
   },
   "outputs": [],
   "source": [
    "lvs_decrease = deg_decrease[\"lv\"].unique()"
   ]
  },
  {
   "cell_type": "code",
   "execution_count": 41,
   "id": "considered-attachment",
   "metadata": {
    "execution": {
     "iopub.execute_input": "2021-07-16T16:30:46.175168Z",
     "iopub.status.busy": "2021-07-16T16:30:46.174772Z",
     "iopub.status.idle": "2021-07-16T16:30:46.186666Z",
     "shell.execute_reply": "2021-07-16T16:30:46.186271Z"
    },
    "papermill": {
     "duration": 0.046693,
     "end_time": "2021-07-16T16:30:46.186757",
     "exception": false,
     "start_time": "2021-07-16T16:30:46.140064",
     "status": "completed"
    },
    "tags": []
   },
   "outputs": [
    {
     "data": {
      "text/plain": [
       "(8,)"
      ]
     },
     "execution_count": 41,
     "metadata": {},
     "output_type": "execute_result"
    }
   ],
   "source": [
    "lvs_decrease.shape"
   ]
  },
  {
   "cell_type": "code",
   "execution_count": 42,
   "id": "coated-focus",
   "metadata": {
    "execution": {
     "iopub.execute_input": "2021-07-16T16:30:46.253713Z",
     "iopub.status.busy": "2021-07-16T16:30:46.253355Z",
     "iopub.status.idle": "2021-07-16T16:30:46.264294Z",
     "shell.execute_reply": "2021-07-16T16:30:46.264570Z"
    },
    "papermill": {
     "duration": 0.044392,
     "end_time": "2021-07-16T16:30:46.264676",
     "exception": false,
     "start_time": "2021-07-16T16:30:46.220284",
     "status": "completed"
    },
    "tags": []
   },
   "outputs": [
    {
     "data": {
      "text/plain": [
       "array(['LV520', 'LV801', 'LV512', 'LV612', 'LV41', 'LV838', 'LV302',\n",
       "       'LV959'], dtype=object)"
      ]
     },
     "execution_count": 42,
     "metadata": {},
     "output_type": "execute_result"
    }
   ],
   "source": [
    "lvs_decrease"
   ]
  },
  {
   "cell_type": "markdown",
   "id": "posted-moses",
   "metadata": {
    "papermill": {
     "duration": 0.030808,
     "end_time": "2021-07-16T16:30:46.326821",
     "exception": false,
     "start_time": "2021-07-16T16:30:46.296013",
     "status": "completed"
    },
    "tags": []
   },
   "source": [
    "## Merge into one dataframe"
   ]
  },
  {
   "cell_type": "code",
   "execution_count": 43,
   "id": "pending-transsexual",
   "metadata": {
    "execution": {
     "iopub.execute_input": "2021-07-16T16:30:46.391410Z",
     "iopub.status.busy": "2021-07-16T16:30:46.391045Z",
     "iopub.status.idle": "2021-07-16T16:30:46.402538Z",
     "shell.execute_reply": "2021-07-16T16:30:46.402178Z"
    },
    "papermill": {
     "duration": 0.044951,
     "end_time": "2021-07-16T16:30:46.402620",
     "exception": false,
     "start_time": "2021-07-16T16:30:46.357669",
     "status": "completed"
    },
    "tags": []
   },
   "outputs": [],
   "source": [
    "_tmp0 = pd.DataFrame({\"lv\": lvs_increase, \"lv_set\": \"lipids-increasing\"})\n",
    "\n",
    "_tmp1 = pd.DataFrame({\"lv\": lvs_decrease, \"lv_set\": \"lipids-decreasing\"})"
   ]
  },
  {
   "cell_type": "code",
   "execution_count": 44,
   "id": "noticed-helping",
   "metadata": {
    "execution": {
     "iopub.execute_input": "2021-07-16T16:30:46.467780Z",
     "iopub.status.busy": "2021-07-16T16:30:46.467315Z",
     "iopub.status.idle": "2021-07-16T16:30:46.478495Z",
     "shell.execute_reply": "2021-07-16T16:30:46.478115Z"
    },
    "papermill": {
     "duration": 0.04479,
     "end_time": "2021-07-16T16:30:46.478581",
     "exception": false,
     "start_time": "2021-07-16T16:30:46.433791",
     "status": "completed"
    },
    "tags": []
   },
   "outputs": [],
   "source": [
    "gls_selected_lvs = pd.concat([_tmp0, _tmp1], ignore_index=True)"
   ]
  },
  {
   "cell_type": "code",
   "execution_count": 45,
   "id": "raising-structure",
   "metadata": {
    "execution": {
     "iopub.execute_input": "2021-07-16T16:30:46.544162Z",
     "iopub.status.busy": "2021-07-16T16:30:46.543800Z",
     "iopub.status.idle": "2021-07-16T16:30:46.555560Z",
     "shell.execute_reply": "2021-07-16T16:30:46.555198Z"
    },
    "papermill": {
     "duration": 0.045385,
     "end_time": "2021-07-16T16:30:46.555644",
     "exception": false,
     "start_time": "2021-07-16T16:30:46.510259",
     "status": "completed"
    },
    "tags": []
   },
   "outputs": [
    {
     "data": {
      "text/plain": [
       "(15, 2)"
      ]
     },
     "execution_count": 45,
     "metadata": {},
     "output_type": "execute_result"
    }
   ],
   "source": [
    "gls_selected_lvs.shape"
   ]
  },
  {
   "cell_type": "code",
   "execution_count": 46,
   "id": "arabic-monkey",
   "metadata": {
    "execution": {
     "iopub.execute_input": "2021-07-16T16:30:46.621704Z",
     "iopub.status.busy": "2021-07-16T16:30:46.621326Z",
     "iopub.status.idle": "2021-07-16T16:30:46.634823Z",
     "shell.execute_reply": "2021-07-16T16:30:46.635124Z"
    },
    "papermill": {
     "duration": 0.047438,
     "end_time": "2021-07-16T16:30:46.635230",
     "exception": false,
     "start_time": "2021-07-16T16:30:46.587792",
     "status": "completed"
    },
    "tags": []
   },
   "outputs": [
    {
     "data": {
      "text/html": [
       "<div>\n",
       "<style scoped>\n",
       "    .dataframe tbody tr th:only-of-type {\n",
       "        vertical-align: middle;\n",
       "    }\n",
       "\n",
       "    .dataframe tbody tr th {\n",
       "        vertical-align: top;\n",
       "    }\n",
       "\n",
       "    .dataframe thead th {\n",
       "        text-align: right;\n",
       "    }\n",
       "</style>\n",
       "<table border=\"1\" class=\"dataframe\">\n",
       "  <thead>\n",
       "    <tr style=\"text-align: right;\">\n",
       "      <th></th>\n",
       "      <th>lv</th>\n",
       "      <th>lv_set</th>\n",
       "    </tr>\n",
       "  </thead>\n",
       "  <tbody>\n",
       "    <tr>\n",
       "      <th>0</th>\n",
       "      <td>LV246</td>\n",
       "      <td>lipids-increasing</td>\n",
       "    </tr>\n",
       "    <tr>\n",
       "      <th>1</th>\n",
       "      <td>LV702</td>\n",
       "      <td>lipids-increasing</td>\n",
       "    </tr>\n",
       "    <tr>\n",
       "      <th>2</th>\n",
       "      <td>LV607</td>\n",
       "      <td>lipids-increasing</td>\n",
       "    </tr>\n",
       "    <tr>\n",
       "      <th>3</th>\n",
       "      <td>LV890</td>\n",
       "      <td>lipids-increasing</td>\n",
       "    </tr>\n",
       "    <tr>\n",
       "      <th>4</th>\n",
       "      <td>LV74</td>\n",
       "      <td>lipids-increasing</td>\n",
       "    </tr>\n",
       "  </tbody>\n",
       "</table>\n",
       "</div>"
      ],
      "text/plain": [
       "      lv             lv_set\n",
       "0  LV246  lipids-increasing\n",
       "1  LV702  lipids-increasing\n",
       "2  LV607  lipids-increasing\n",
       "3  LV890  lipids-increasing\n",
       "4   LV74  lipids-increasing"
      ]
     },
     "execution_count": 46,
     "metadata": {},
     "output_type": "execute_result"
    }
   ],
   "source": [
    "gls_selected_lvs.head()"
   ]
  },
  {
   "cell_type": "markdown",
   "id": "exotic-recording",
   "metadata": {
    "papermill": {
     "duration": 0.031835,
     "end_time": "2021-07-16T16:30:46.700103",
     "exception": false,
     "start_time": "2021-07-16T16:30:46.668268",
     "status": "completed"
    },
    "tags": []
   },
   "source": [
    "# Select traits from specific partition/cluster"
   ]
  },
  {
   "cell_type": "markdown",
   "id": "approved-syria",
   "metadata": {
    "papermill": {
     "duration": 0.035079,
     "end_time": "2021-07-16T16:30:46.767156",
     "exception": false,
     "start_time": "2021-07-16T16:30:46.732077",
     "status": "completed"
    },
    "tags": []
   },
   "source": [
    "For this run on the LVs related to the lipids CRISPR analysis, I'm only interested in the main clusters of the cardiovascular sub-branch."
   ]
  },
  {
   "cell_type": "code",
   "execution_count": 47,
   "id": "psychological-buddy",
   "metadata": {
    "execution": {
     "iopub.execute_input": "2021-07-16T16:30:46.833556Z",
     "iopub.status.busy": "2021-07-16T16:30:46.833184Z",
     "iopub.status.idle": "2021-07-16T16:30:46.843657Z",
     "shell.execute_reply": "2021-07-16T16:30:46.843970Z"
    },
    "papermill": {
     "duration": 0.044729,
     "end_time": "2021-07-16T16:30:46.844073",
     "exception": false,
     "start_time": "2021-07-16T16:30:46.799344",
     "status": "completed"
    },
    "tags": []
   },
   "outputs": [],
   "source": [
    "# PHENOTYPES_CONFIG = [\n",
    "#     # cardiovascular\n",
    "#     (29, 14),\n",
    "#     (29, 16),\n",
    "#     (29, 11),\n",
    "#     (29, 21),\n",
    "#     (29, 17),\n",
    "# ]"
   ]
  },
  {
   "cell_type": "markdown",
   "id": "competent-department",
   "metadata": {
    "papermill": {
     "duration": 0.031662,
     "end_time": "2021-07-16T16:30:46.908269",
     "exception": false,
     "start_time": "2021-07-16T16:30:46.876607",
     "status": "completed"
    },
    "tags": []
   },
   "source": [
    "# GLSPhenoplier"
   ]
  },
  {
   "cell_type": "markdown",
   "id": "legislative-plaintiff",
   "metadata": {
    "papermill": {
     "duration": 0.031601,
     "end_time": "2021-07-14T04:11:28.388049",
     "exception": false,
     "start_time": "2021-07-14T04:11:28.356448",
     "status": "completed"
    },
    "tags": []
   },
   "source": [
    "## Get list of phenotypes/lvs pairs"
   ]
  },
  {
   "cell_type": "code",
   "execution_count": 45,
   "id": "outdoor-vocabulary",
   "metadata": {
    "papermill": {
     "duration": 0.146742,
     "end_time": "2021-07-14T04:11:28.566966",
     "exception": false,
     "start_time": "2021-07-14T04:11:28.420224",
     "status": "completed"
    },
    "tags": []
   },
   "outputs": [],
   "source": [
    "phenotypes_lvs_pairs = []\n",
    "\n",
    "# for each LV, I take the top `N_TOP_TRAITS_FROM_LV` traits in eMERGE\n",
    "for idx, row in gls_selected_lvs.iterrows():\n",
    "    lv_name = row[\"lv\"]\n",
    "    lv_set = row[\"lv_set\"]\n",
    "\n",
    "    lv_traits = phenomexcan_projection.loc[lv_name]\n",
    "    lv_traits = lv_traits[lv_traits > 0.0]\n",
    "    lv_traits = lv_traits.sort_values(ascending=False).head(N_TOP_TRAITS_FROM_LV)\n",
    "\n",
    "    for phenotype_code in set(lv_traits.index.tolist()):\n",
    "        phenotypes_lvs_pairs.append(\n",
    "            {\n",
    "                \"phenotype\": phenotype_code,\n",
    "                \"lv\": lv_name,\n",
    "                \"lv_set\": row[\"lv_set\"],\n",
    "            }\n",
    "        )\n",
    "\n",
    "phenotypes_lvs_pairs = pd.DataFrame(phenotypes_lvs_pairs).drop_duplicates()"
   ]
  },
  {
   "cell_type": "code",
   "execution_count": 46,
   "id": "distributed-radical",
   "metadata": {
    "papermill": {
     "duration": 0.048035,
     "end_time": "2021-07-14T04:11:28.647583",
     "exception": false,
     "start_time": "2021-07-14T04:11:28.599548",
     "status": "completed"
    },
    "tags": []
   },
   "outputs": [],
   "source": [
    "phenotypes_lvs_pairs = phenotypes_lvs_pairs.sort_values(\"phenotype\").reset_index(\n",
    "    drop=True\n",
    ")"
   ]
  },
  {
   "cell_type": "code",
   "execution_count": 47,
   "id": "opposite-constitutional",
   "metadata": {
    "papermill": {
     "duration": 0.045613,
     "end_time": "2021-07-14T04:11:28.725888",
     "exception": false,
     "start_time": "2021-07-14T04:11:28.680275",
     "status": "completed"
    },
    "tags": []
   },
   "outputs": [
    {
     "data": {
      "text/plain": [
       "(300, 3)"
      ]
     },
     "execution_count": 47,
     "metadata": {},
     "output_type": "execute_result"
    }
   ],
   "source": [
    "phenotypes_lvs_pairs.shape"
   ]
  },
  {
   "cell_type": "code",
   "execution_count": 48,
   "id": "previous-sleeping",
   "metadata": {
    "papermill": {
     "duration": 0.048407,
     "end_time": "2021-07-14T04:11:28.806485",
     "exception": false,
     "start_time": "2021-07-14T04:11:28.758078",
     "status": "completed"
    },
    "tags": []
   },
   "outputs": [
    {
     "data": {
      "text/html": [
       "<div>\n",
       "<style scoped>\n",
       "    .dataframe tbody tr th:only-of-type {\n",
       "        vertical-align: middle;\n",
       "    }\n",
       "\n",
       "    .dataframe tbody tr th {\n",
       "        vertical-align: top;\n",
       "    }\n",
       "\n",
       "    .dataframe thead th {\n",
       "        text-align: right;\n",
       "    }\n",
       "</style>\n",
       "<table border=\"1\" class=\"dataframe\">\n",
       "  <thead>\n",
       "    <tr style=\"text-align: right;\">\n",
       "      <th></th>\n",
       "      <th>phenotype</th>\n",
       "      <th>lv</th>\n",
       "      <th>lv_set</th>\n",
       "    </tr>\n",
       "  </thead>\n",
       "  <tbody>\n",
       "    <tr>\n",
       "      <th>0</th>\n",
       "      <td>008</td>\n",
       "      <td>LV74</td>\n",
       "      <td>lipids-increasing</td>\n",
       "    </tr>\n",
       "    <tr>\n",
       "      <th>1</th>\n",
       "      <td>008.5</td>\n",
       "      <td>LV959</td>\n",
       "      <td>lipids-decreasing</td>\n",
       "    </tr>\n",
       "    <tr>\n",
       "      <th>2</th>\n",
       "      <td>038</td>\n",
       "      <td>LV612</td>\n",
       "      <td>lipids-decreasing</td>\n",
       "    </tr>\n",
       "    <tr>\n",
       "      <th>3</th>\n",
       "      <td>053</td>\n",
       "      <td>LV841</td>\n",
       "      <td>lipids-increasing</td>\n",
       "    </tr>\n",
       "    <tr>\n",
       "      <th>4</th>\n",
       "      <td>070</td>\n",
       "      <td>LV838</td>\n",
       "      <td>lipids-decreasing</td>\n",
       "    </tr>\n",
       "  </tbody>\n",
       "</table>\n",
       "</div>"
      ],
      "text/plain": [
       "  phenotype     lv             lv_set\n",
       "0       008   LV74  lipids-increasing\n",
       "1     008.5  LV959  lipids-decreasing\n",
       "2       038  LV612  lipids-decreasing\n",
       "3       053  LV841  lipids-increasing\n",
       "4       070  LV838  lipids-decreasing"
      ]
     },
     "execution_count": 48,
     "metadata": {},
     "output_type": "execute_result"
    }
   ],
   "source": [
    "phenotypes_lvs_pairs.head()"
   ]
  },
  {
   "cell_type": "markdown",
   "id": "occasional-lesbian",
   "metadata": {
    "papermill": {
     "duration": 0.032194,
     "end_time": "2021-07-16T16:30:47.397853",
     "exception": false,
     "start_time": "2021-07-16T16:30:47.365659",
     "status": "completed"
    },
    "tags": []
   },
   "source": [
    "## Run"
   ]
  },
  {
   "cell_type": "code",
   "execution_count": 52,
   "id": "empty-familiar",
   "metadata": {
    "execution": {
     "iopub.execute_input": "2021-07-16T16:30:47.467095Z",
     "iopub.status.busy": "2021-07-16T16:30:47.466702Z",
     "iopub.status.idle": "2021-07-16T18:10:10.643096Z",
     "shell.execute_reply": "2021-07-16T18:10:10.642754Z"
    },
    "papermill": {
     "duration": 5963.213137,
     "end_time": "2021-07-16T18:10:10.643194",
     "exception": false,
     "start_time": "2021-07-16T16:30:47.430057",
     "status": "completed"
    },
    "tags": []
   },
   "outputs": [
    {
     "name": "stderr",
     "output_type": "stream",
     "text": [
      "schizophrenia - LV959: 100%|██████████| 630/630 [1:39:23<00:00,  9.47s/it]\n"
     ]
    }
   ],
   "source": [
    "results = []\n",
    "\n",
    "pbar = tqdm(total=phenotypes_lvs_pairs.shape[0])\n",
    "\n",
    "for idx, row in phenotypes_lvs_pairs.iterrows():\n",
    "    phenotype_code = row[\"phenotype\"]\n",
    "    lv_code = row[\"lv\"]\n",
    "\n",
    "    pbar.set_description(f\"{phenotype_code} - {lv_code}\")\n",
    "\n",
    "    gls_model = GLSPhenoplier(\n",
    "        smultixcan_result_set_filepath=conf.PHENOMEXCAN[\n",
    "            \"SMULTIXCAN_EFO_PARTIAL_MASHR_ZSCORES_FILE\"\n",
    "        ]\n",
    "    )\n",
    "    gls_model.fit_named(lv_code, phenotype_code)\n",
    "    res = gls_model.results\n",
    "\n",
    "    results.append(\n",
    "        {\n",
    "            \"part_k\": row[\"phenotype_part_k\"],\n",
    "            \"cluster_id\": row[\"phenotype_cluster_id\"],\n",
    "            \"phenotype\": phenotype_code,\n",
    "            \"lv\": lv_code,\n",
    "            \"lv_set\": row[\"lv_set\"],\n",
    "            \"lv_with_pathway\": lv_code in well_aligned_lv_codes,\n",
    "            \"coef\": res.params.loc[\"lv\"],\n",
    "            \"pvalue\": res.pvalues_onesided.loc[\"lv\"],\n",
    "            \"pvalue_twosided\": res.pvalues.loc[\"lv\"],\n",
    "            \"summary\": gls_model.results_summary,\n",
    "        }\n",
    "    )\n",
    "\n",
    "    # save results every 10 models trained\n",
    "    if (idx % 10) == 0:\n",
    "        pd.DataFrame(results).to_pickle(OUTPUT_FILENAME)\n",
    "\n",
    "    pbar.update(1)\n",
    "\n",
    "pbar.close()"
   ]
  },
  {
   "cell_type": "code",
   "execution_count": 53,
   "id": "bottom-illness",
   "metadata": {
    "execution": {
     "iopub.execute_input": "2021-07-16T18:10:11.110604Z",
     "iopub.status.busy": "2021-07-16T18:10:11.110245Z",
     "iopub.status.idle": "2021-07-16T18:10:11.122599Z",
     "shell.execute_reply": "2021-07-16T18:10:11.122881Z"
    },
    "papermill": {
     "duration": 0.24493,
     "end_time": "2021-07-16T18:10:11.122993",
     "exception": false,
     "start_time": "2021-07-16T18:10:10.878063",
     "status": "completed"
    },
    "tags": []
   },
   "outputs": [],
   "source": [
    "results = pd.DataFrame(results)"
   ]
  },
  {
   "cell_type": "code",
   "execution_count": 54,
   "id": "capital-bracelet",
   "metadata": {
    "execution": {
     "iopub.execute_input": "2021-07-16T18:10:11.592811Z",
     "iopub.status.busy": "2021-07-16T18:10:11.592384Z",
     "iopub.status.idle": "2021-07-16T18:10:11.605944Z",
     "shell.execute_reply": "2021-07-16T18:10:11.605563Z"
    },
    "papermill": {
     "duration": 0.250523,
     "end_time": "2021-07-16T18:10:11.606040",
     "exception": false,
     "start_time": "2021-07-16T18:10:11.355517",
     "status": "completed"
    },
    "tags": []
   },
   "outputs": [
    {
     "data": {
      "text/plain": [
       "(630, 10)"
      ]
     },
     "execution_count": 54,
     "metadata": {},
     "output_type": "execute_result"
    }
   ],
   "source": [
    "results.shape"
   ]
  },
  {
   "cell_type": "code",
   "execution_count": 55,
   "id": "lovely-canadian",
   "metadata": {
    "execution": {
     "iopub.execute_input": "2021-07-16T18:10:12.074540Z",
     "iopub.status.busy": "2021-07-16T18:10:12.074163Z",
     "iopub.status.idle": "2021-07-16T18:10:12.106662Z",
     "shell.execute_reply": "2021-07-16T18:10:12.106301Z"
    },
    "papermill": {
     "duration": 0.264991,
     "end_time": "2021-07-16T18:10:12.106747",
     "exception": false,
     "start_time": "2021-07-16T18:10:11.841756",
     "status": "completed"
    },
    "tags": []
   },
   "outputs": [
    {
     "data": {
      "text/html": [
       "<div>\n",
       "<style scoped>\n",
       "    .dataframe tbody tr th:only-of-type {\n",
       "        vertical-align: middle;\n",
       "    }\n",
       "\n",
       "    .dataframe tbody tr th {\n",
       "        vertical-align: top;\n",
       "    }\n",
       "\n",
       "    .dataframe thead th {\n",
       "        text-align: right;\n",
       "    }\n",
       "</style>\n",
       "<table border=\"1\" class=\"dataframe\">\n",
       "  <thead>\n",
       "    <tr style=\"text-align: right;\">\n",
       "      <th></th>\n",
       "      <th>part_k</th>\n",
       "      <th>cluster_id</th>\n",
       "      <th>phenotype</th>\n",
       "      <th>lv</th>\n",
       "      <th>lv_set</th>\n",
       "      <th>lv_with_pathway</th>\n",
       "      <th>coef</th>\n",
       "      <th>pvalue</th>\n",
       "      <th>pvalue_twosided</th>\n",
       "      <th>summary</th>\n",
       "    </tr>\n",
       "  </thead>\n",
       "  <tbody>\n",
       "    <tr>\n",
       "      <th>0</th>\n",
       "      <td>29</td>\n",
       "      <td>17</td>\n",
       "      <td>20003_1140861958-Treatmentmedication_code_simv...</td>\n",
       "      <td>LV246</td>\n",
       "      <td>lipids-increasing</td>\n",
       "      <td>True</td>\n",
       "      <td>0.036054</td>\n",
       "      <td>0.001882</td>\n",
       "      <td>0.003763</td>\n",
       "      <td>GLS Regression Res...</td>\n",
       "    </tr>\n",
       "    <tr>\n",
       "      <th>1</th>\n",
       "      <td>29</td>\n",
       "      <td>17</td>\n",
       "      <td>20003_1140861958-Treatmentmedication_code_simv...</td>\n",
       "      <td>LV302</td>\n",
       "      <td>lipids-decreasing</td>\n",
       "      <td>False</td>\n",
       "      <td>-0.006249</td>\n",
       "      <td>0.699373</td>\n",
       "      <td>0.601253</td>\n",
       "      <td>GLS Regression Res...</td>\n",
       "    </tr>\n",
       "    <tr>\n",
       "      <th>2</th>\n",
       "      <td>29</td>\n",
       "      <td>17</td>\n",
       "      <td>20003_1140861958-Treatmentmedication_code_simv...</td>\n",
       "      <td>LV41</td>\n",
       "      <td>lipids-decreasing</td>\n",
       "      <td>False</td>\n",
       "      <td>-0.019236</td>\n",
       "      <td>0.942844</td>\n",
       "      <td>0.114313</td>\n",
       "      <td>GLS Regression Res...</td>\n",
       "    </tr>\n",
       "    <tr>\n",
       "      <th>3</th>\n",
       "      <td>29</td>\n",
       "      <td>17</td>\n",
       "      <td>20003_1140861958-Treatmentmedication_code_simv...</td>\n",
       "      <td>LV512</td>\n",
       "      <td>lipids-decreasing</td>\n",
       "      <td>False</td>\n",
       "      <td>-0.022410</td>\n",
       "      <td>0.965432</td>\n",
       "      <td>0.069135</td>\n",
       "      <td>GLS Regression Res...</td>\n",
       "    </tr>\n",
       "    <tr>\n",
       "      <th>4</th>\n",
       "      <td>29</td>\n",
       "      <td>17</td>\n",
       "      <td>20003_1140861958-Treatmentmedication_code_simv...</td>\n",
       "      <td>LV520</td>\n",
       "      <td>lipids-decreasing</td>\n",
       "      <td>False</td>\n",
       "      <td>-0.011205</td>\n",
       "      <td>0.822209</td>\n",
       "      <td>0.355583</td>\n",
       "      <td>GLS Regression Res...</td>\n",
       "    </tr>\n",
       "  </tbody>\n",
       "</table>\n",
       "</div>"
      ],
      "text/plain": [
       "   part_k  cluster_id                                          phenotype  \\\n",
       "0      29          17  20003_1140861958-Treatmentmedication_code_simv...   \n",
       "1      29          17  20003_1140861958-Treatmentmedication_code_simv...   \n",
       "2      29          17  20003_1140861958-Treatmentmedication_code_simv...   \n",
       "3      29          17  20003_1140861958-Treatmentmedication_code_simv...   \n",
       "4      29          17  20003_1140861958-Treatmentmedication_code_simv...   \n",
       "\n",
       "      lv             lv_set  lv_with_pathway      coef    pvalue  \\\n",
       "0  LV246  lipids-increasing             True  0.036054  0.001882   \n",
       "1  LV302  lipids-decreasing            False -0.006249  0.699373   \n",
       "2   LV41  lipids-decreasing            False -0.019236  0.942844   \n",
       "3  LV512  lipids-decreasing            False -0.022410  0.965432   \n",
       "4  LV520  lipids-decreasing            False -0.011205  0.822209   \n",
       "\n",
       "   pvalue_twosided                                            summary  \n",
       "0         0.003763                              GLS Regression Res...  \n",
       "1         0.601253                              GLS Regression Res...  \n",
       "2         0.114313                              GLS Regression Res...  \n",
       "3         0.069135                              GLS Regression Res...  \n",
       "4         0.355583                              GLS Regression Res...  "
      ]
     },
     "execution_count": 55,
     "metadata": {},
     "output_type": "execute_result"
    }
   ],
   "source": [
    "results.head()"
   ]
  },
  {
   "cell_type": "code",
   "execution_count": 56,
   "id": "racial-distribution",
   "metadata": {
    "execution": {
     "iopub.execute_input": "2021-07-16T18:10:12.575209Z",
     "iopub.status.busy": "2021-07-16T18:10:12.574751Z",
     "iopub.status.idle": "2021-07-16T18:10:12.630303Z",
     "shell.execute_reply": "2021-07-16T18:10:12.630581Z"
    },
    "papermill": {
     "duration": 0.290812,
     "end_time": "2021-07-16T18:10:12.630691",
     "exception": false,
     "start_time": "2021-07-16T18:10:12.339879",
     "status": "completed"
    },
    "tags": []
   },
   "outputs": [
    {
     "data": {
      "text/html": [
       "<div>\n",
       "<style scoped>\n",
       "    .dataframe tbody tr th:only-of-type {\n",
       "        vertical-align: middle;\n",
       "    }\n",
       "\n",
       "    .dataframe tbody tr th {\n",
       "        vertical-align: top;\n",
       "    }\n",
       "\n",
       "    .dataframe thead th {\n",
       "        text-align: right;\n",
       "    }\n",
       "</style>\n",
       "<table border=\"1\" class=\"dataframe\">\n",
       "  <thead>\n",
       "    <tr style=\"text-align: right;\">\n",
       "      <th></th>\n",
       "      <th>part_k</th>\n",
       "      <th>cluster_id</th>\n",
       "      <th>phenotype</th>\n",
       "      <th>lv</th>\n",
       "      <th>lv_set</th>\n",
       "      <th>lv_with_pathway</th>\n",
       "      <th>coef</th>\n",
       "      <th>pvalue</th>\n",
       "      <th>pvalue_twosided</th>\n",
       "      <th>summary</th>\n",
       "    </tr>\n",
       "  </thead>\n",
       "  <tbody>\n",
       "    <tr>\n",
       "      <th>315</th>\n",
       "      <td>29</td>\n",
       "      <td>16</td>\n",
       "      <td>MAGNETIC_CH2.DB.ratio</td>\n",
       "      <td>LV246</td>\n",
       "      <td>lipids-increasing</td>\n",
       "      <td>True</td>\n",
       "      <td>0.095366</td>\n",
       "      <td>2.183932e-14</td>\n",
       "      <td>4.367864e-14</td>\n",
       "      <td>GLS Regression Res...</td>\n",
       "    </tr>\n",
       "    <tr>\n",
       "      <th>56</th>\n",
       "      <td>29</td>\n",
       "      <td>17</td>\n",
       "      <td>4080_raw-Systolic_blood_pressure_automated_rea...</td>\n",
       "      <td>LV841</td>\n",
       "      <td>lipids-increasing</td>\n",
       "      <td>False</td>\n",
       "      <td>0.073574</td>\n",
       "      <td>4.761307e-09</td>\n",
       "      <td>9.522613e-09</td>\n",
       "      <td>GLS Regression Res...</td>\n",
       "    </tr>\n",
       "    <tr>\n",
       "      <th>540</th>\n",
       "      <td>29</td>\n",
       "      <td>17</td>\n",
       "      <td>hypercholesterolemia</td>\n",
       "      <td>LV246</td>\n",
       "      <td>lipids-increasing</td>\n",
       "      <td>True</td>\n",
       "      <td>0.066665</td>\n",
       "      <td>3.672563e-08</td>\n",
       "      <td>7.345126e-08</td>\n",
       "      <td>GLS Regression Res...</td>\n",
       "    </tr>\n",
       "    <tr>\n",
       "      <th>386</th>\n",
       "      <td>29</td>\n",
       "      <td>21</td>\n",
       "      <td>SSGAC_Education_Years_Pooled</td>\n",
       "      <td>LV841</td>\n",
       "      <td>lipids-increasing</td>\n",
       "      <td>False</td>\n",
       "      <td>0.064990</td>\n",
       "      <td>2.026168e-07</td>\n",
       "      <td>4.052336e-07</td>\n",
       "      <td>GLS Regression Res...</td>\n",
       "    </tr>\n",
       "    <tr>\n",
       "      <th>41</th>\n",
       "      <td>29</td>\n",
       "      <td>17</td>\n",
       "      <td>4079_raw-Diastolic_blood_pressure_automated_re...</td>\n",
       "      <td>LV841</td>\n",
       "      <td>lipids-increasing</td>\n",
       "      <td>False</td>\n",
       "      <td>0.065557</td>\n",
       "      <td>2.425709e-07</td>\n",
       "      <td>4.851419e-07</td>\n",
       "      <td>GLS Regression Res...</td>\n",
       "    </tr>\n",
       "    <tr>\n",
       "      <th>566</th>\n",
       "      <td>29</td>\n",
       "      <td>17</td>\n",
       "      <td>hypertension</td>\n",
       "      <td>LV841</td>\n",
       "      <td>lipids-increasing</td>\n",
       "      <td>False</td>\n",
       "      <td>0.063261</td>\n",
       "      <td>5.396993e-07</td>\n",
       "      <td>1.079399e-06</td>\n",
       "      <td>GLS Regression Res...</td>\n",
       "    </tr>\n",
       "    <tr>\n",
       "      <th>101</th>\n",
       "      <td>29</td>\n",
       "      <td>17</td>\n",
       "      <td>6150_4-Vascularheart_problems_diagnosed_by_doc...</td>\n",
       "      <td>LV841</td>\n",
       "      <td>lipids-increasing</td>\n",
       "      <td>False</td>\n",
       "      <td>0.063301</td>\n",
       "      <td>5.528978e-07</td>\n",
       "      <td>1.105796e-06</td>\n",
       "      <td>GLS Regression Res...</td>\n",
       "    </tr>\n",
       "    <tr>\n",
       "      <th>266</th>\n",
       "      <td>29</td>\n",
       "      <td>14</td>\n",
       "      <td>I9_IHD-Ischaemic_heart_disease_wide_definition</td>\n",
       "      <td>LV841</td>\n",
       "      <td>lipids-increasing</td>\n",
       "      <td>False</td>\n",
       "      <td>0.057050</td>\n",
       "      <td>3.704921e-06</td>\n",
       "      <td>7.409842e-06</td>\n",
       "      <td>GLS Regression Res...</td>\n",
       "    </tr>\n",
       "    <tr>\n",
       "      <th>86</th>\n",
       "      <td>29</td>\n",
       "      <td>17</td>\n",
       "      <td>6150_100-Vascularheart_problems_diagnosed_by_d...</td>\n",
       "      <td>LV841</td>\n",
       "      <td>lipids-increasing</td>\n",
       "      <td>False</td>\n",
       "      <td>0.058297</td>\n",
       "      <td>3.989881e-06</td>\n",
       "      <td>7.979761e-06</td>\n",
       "      <td>GLS Regression Res...</td>\n",
       "    </tr>\n",
       "    <tr>\n",
       "      <th>531</th>\n",
       "      <td>29</td>\n",
       "      <td>11</td>\n",
       "      <td>fasting blood insulin measurement</td>\n",
       "      <td>LV612</td>\n",
       "      <td>lipids-decreasing</td>\n",
       "      <td>True</td>\n",
       "      <td>0.056333</td>\n",
       "      <td>5.754859e-06</td>\n",
       "      <td>1.150972e-05</td>\n",
       "      <td>GLS Regression Res...</td>\n",
       "    </tr>\n",
       "  </tbody>\n",
       "</table>\n",
       "</div>"
      ],
      "text/plain": [
       "     part_k  cluster_id                                          phenotype  \\\n",
       "315      29          16                              MAGNETIC_CH2.DB.ratio   \n",
       "56       29          17  4080_raw-Systolic_blood_pressure_automated_rea...   \n",
       "540      29          17                               hypercholesterolemia   \n",
       "386      29          21                       SSGAC_Education_Years_Pooled   \n",
       "41       29          17  4079_raw-Diastolic_blood_pressure_automated_re...   \n",
       "566      29          17                                       hypertension   \n",
       "101      29          17  6150_4-Vascularheart_problems_diagnosed_by_doc...   \n",
       "266      29          14     I9_IHD-Ischaemic_heart_disease_wide_definition   \n",
       "86       29          17  6150_100-Vascularheart_problems_diagnosed_by_d...   \n",
       "531      29          11                  fasting blood insulin measurement   \n",
       "\n",
       "        lv             lv_set  lv_with_pathway      coef        pvalue  \\\n",
       "315  LV246  lipids-increasing             True  0.095366  2.183932e-14   \n",
       "56   LV841  lipids-increasing            False  0.073574  4.761307e-09   \n",
       "540  LV246  lipids-increasing             True  0.066665  3.672563e-08   \n",
       "386  LV841  lipids-increasing            False  0.064990  2.026168e-07   \n",
       "41   LV841  lipids-increasing            False  0.065557  2.425709e-07   \n",
       "566  LV841  lipids-increasing            False  0.063261  5.396993e-07   \n",
       "101  LV841  lipids-increasing            False  0.063301  5.528978e-07   \n",
       "266  LV841  lipids-increasing            False  0.057050  3.704921e-06   \n",
       "86   LV841  lipids-increasing            False  0.058297  3.989881e-06   \n",
       "531  LV612  lipids-decreasing             True  0.056333  5.754859e-06   \n",
       "\n",
       "     pvalue_twosided                                            summary  \n",
       "315     4.367864e-14                              GLS Regression Res...  \n",
       "56      9.522613e-09                              GLS Regression Res...  \n",
       "540     7.345126e-08                              GLS Regression Res...  \n",
       "386     4.052336e-07                              GLS Regression Res...  \n",
       "41      4.851419e-07                              GLS Regression Res...  \n",
       "566     1.079399e-06                              GLS Regression Res...  \n",
       "101     1.105796e-06                              GLS Regression Res...  \n",
       "266     7.409842e-06                              GLS Regression Res...  \n",
       "86      7.979761e-06                              GLS Regression Res...  \n",
       "531     1.150972e-05                              GLS Regression Res...  "
      ]
     },
     "execution_count": 56,
     "metadata": {},
     "output_type": "execute_result"
    }
   ],
   "source": [
    "results.sort_values(\"pvalue\").head(10)"
   ]
  },
  {
   "cell_type": "markdown",
   "id": "dressed-validation",
   "metadata": {
    "papermill": {
     "duration": 0.23001,
     "end_time": "2021-07-16T18:10:13.115426",
     "exception": false,
     "start_time": "2021-07-16T18:10:12.885416",
     "status": "completed"
    },
    "tags": []
   },
   "source": [
    "## Save"
   ]
  },
  {
   "cell_type": "code",
   "execution_count": 57,
   "id": "fuzzy-workplace",
   "metadata": {
    "execution": {
     "iopub.execute_input": "2021-07-16T18:10:13.578340Z",
     "iopub.status.busy": "2021-07-16T18:10:13.577620Z",
     "iopub.status.idle": "2021-07-16T18:10:13.704709Z",
     "shell.execute_reply": "2021-07-16T18:10:13.705089Z"
    },
    "papermill": {
     "duration": 0.360064,
     "end_time": "2021-07-16T18:10:13.705220",
     "exception": false,
     "start_time": "2021-07-16T18:10:13.345156",
     "status": "completed"
    },
    "tags": []
   },
   "outputs": [],
   "source": [
    "results.to_pickle(OUTPUT_FILENAME)"
   ]
  },
  {
   "cell_type": "code",
   "execution_count": null,
   "id": "accurate-hughes",
   "metadata": {
    "papermill": {
     "duration": 0.2305,
     "end_time": "2021-07-16T18:10:14.172394",
     "exception": false,
     "start_time": "2021-07-16T18:10:13.941894",
     "status": "completed"
    },
    "tags": []
   },
   "outputs": [],
   "source": []
  }
 ],
 "metadata": {
  "jupytext": {
   "cell_metadata_filter": "all,-execution,-papermill,-trusted",
   "formats": "ipynb,py//py:percent"
  },
  "kernelspec": {
   "display_name": "Python 3",
   "language": "python",
   "name": "python3"
  },
  "language_info": {
   "codemirror_mode": {
    "name": "ipython",
    "version": 3
   },
   "file_extension": ".py",
   "mimetype": "text/x-python",
   "name": "python",
   "nbconvert_exporter": "python",
   "pygments_lexer": "ipython3",
   "version": "3.8.8"
  },
  "papermill": {
   "default_parameters": {},
   "duration": 5974.699056,
   "end_time": "2021-07-16T18:10:15.624236",
   "environment_variables": {},
   "exception": null,
   "input_path": "08_gsa_gls/40-gls_on_lipids_lvs-phenomexcan.ipynb",
   "output_path": "08_gsa_gls/40-gls_on_lipids_lvs-phenomexcan.run.ipynb",
   "parameters": {},
   "start_time": "2021-07-16T16:30:40.925180",
   "version": "2.2.2"
  }
 },
 "nbformat": 4,
 "nbformat_minor": 5
}
