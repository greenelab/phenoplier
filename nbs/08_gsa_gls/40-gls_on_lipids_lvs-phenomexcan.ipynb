{
 "cells": [
  {
   "cell_type": "markdown",
   "id": "fiscal-waterproof",
   "metadata": {
    "papermill": {
     "duration": 0.022374,
     "end_time": "2021-03-10T00:10:54.143712",
     "exception": false,
     "start_time": "2021-03-10T00:10:54.121338",
     "status": "completed"
    },
    "tags": []
   },
   "source": [
    "# Environment variables"
   ]
  },
  {
   "cell_type": "code",
   "execution_count": null,
   "id": "starting-effect",
   "metadata": {
    "tags": []
   },
   "outputs": [],
   "source": [
    "%load_ext autoreload\n",
    "%autoreload 2"
   ]
  },
  {
   "cell_type": "code",
   "execution_count": null,
   "id": "appreciated-courage",
   "metadata": {
    "tags": []
   },
   "outputs": [],
   "source": [
    "import conf"
   ]
  },
  {
   "cell_type": "code",
   "execution_count": null,
   "id": "requested-chapel",
   "metadata": {
    "papermill": {
     "duration": 0.038647,
     "end_time": "2021-03-10T00:10:54.205009",
     "exception": false,
     "start_time": "2021-03-10T00:10:54.166362",
     "status": "completed"
    },
    "tags": []
   },
   "outputs": [],
   "source": [
    "N_JOBS = conf.GENERAL[\"N_JOBS\"]\n",
    "display(N_JOBS)"
   ]
  },
  {
   "cell_type": "code",
   "execution_count": null,
   "id": "loving-liverpool",
   "metadata": {
    "papermill": {
     "duration": 0.029926,
     "end_time": "2021-03-10T00:10:54.259533",
     "exception": false,
     "start_time": "2021-03-10T00:10:54.229607",
     "status": "completed"
    },
    "tags": []
   },
   "outputs": [],
   "source": [
    "%env MKL_NUM_THREADS=$N_JOBS\n",
    "%env OPEN_BLAS_NUM_THREADS=$N_JOBS\n",
    "%env NUMEXPR_NUM_THREADS=$N_JOBS\n",
    "%env OMP_NUM_THREADS=$N_JOBS"
   ]
  },
  {
   "cell_type": "markdown",
   "id": "central-funds",
   "metadata": {
    "tags": []
   },
   "source": [
    "# Modules"
   ]
  },
  {
   "cell_type": "code",
   "execution_count": null,
   "id": "intended-restriction",
   "metadata": {
    "tags": []
   },
   "outputs": [],
   "source": [
    "from pathlib import Path\n",
    "\n",
    "import pandas as pd\n",
    "from tqdm import tqdm\n",
    "\n",
    "from gls import GLSPhenoplier"
   ]
  },
  {
   "cell_type": "markdown",
   "id": "included-compact",
   "metadata": {
    "tags": []
   },
   "source": [
    "# Settings"
   ]
  },
  {
   "cell_type": "code",
   "execution_count": null,
   "id": "developed-saskatchewan",
   "metadata": {
    "tags": []
   },
   "outputs": [],
   "source": [
    "OUTPUT_DIR = conf.RESULTS[\"GLS\"]\n",
    "display(OUTPUT_DIR)\n",
    "\n",
    "OUTPUT_DIR.mkdir(exist_ok=True, parents=True)"
   ]
  },
  {
   "cell_type": "markdown",
   "id": "permanent-cathedral",
   "metadata": {
    "tags": []
   },
   "source": [
    "# Load data"
   ]
  },
  {
   "cell_type": "markdown",
   "id": "adolescent-cabinet",
   "metadata": {
    "tags": []
   },
   "source": [
    "## PhenomeXcan (S-MultiXcan)"
   ]
  },
  {
   "cell_type": "code",
   "execution_count": null,
   "id": "driven-sacrifice",
   "metadata": {
    "tags": []
   },
   "outputs": [],
   "source": [
    "INPUT_SUBSET = \"z_score_std\""
   ]
  },
  {
   "cell_type": "code",
   "execution_count": null,
   "id": "functional-constraint",
   "metadata": {
    "tags": []
   },
   "outputs": [],
   "source": [
    "INPUT_STEM = \"projection-smultixcan-efo_partial-mashr-zscores\""
   ]
  },
  {
   "cell_type": "code",
   "execution_count": null,
   "id": "opened-prayer",
   "metadata": {
    "tags": []
   },
   "outputs": [],
   "source": [
    "input_filepath = Path(\n",
    "    conf.RESULTS[\"DATA_TRANSFORMATIONS_DIR\"],\n",
    "    INPUT_SUBSET,\n",
    "    f\"{INPUT_SUBSET}-{INPUT_STEM}.pkl\",\n",
    ").resolve()"
   ]
  },
  {
   "cell_type": "code",
   "execution_count": null,
   "id": "underlying-information",
   "metadata": {
    "tags": []
   },
   "outputs": [],
   "source": [
    "data = pd.read_pickle(input_filepath)"
   ]
  },
  {
   "cell_type": "code",
   "execution_count": null,
   "id": "civic-large",
   "metadata": {
    "tags": []
   },
   "outputs": [],
   "source": [
    "data.shape"
   ]
  },
  {
   "cell_type": "code",
   "execution_count": null,
   "id": "following-curve",
   "metadata": {
    "tags": []
   },
   "outputs": [],
   "source": [
    "data.head()"
   ]
  },
  {
   "cell_type": "markdown",
   "id": "obvious-operation",
   "metadata": {
    "tags": []
   },
   "source": [
    "## Clustering results"
   ]
  },
  {
   "cell_type": "code",
   "execution_count": null,
   "id": "greater-potter",
   "metadata": {
    "tags": []
   },
   "outputs": [],
   "source": [
    "CONSENSUS_CLUSTERING_DIR = Path(\n",
    "    conf.RESULTS[\"CLUSTERING_DIR\"], \"consensus_clustering\"\n",
    ").resolve()\n",
    "\n",
    "display(CONSENSUS_CLUSTERING_DIR)"
   ]
  },
  {
   "cell_type": "code",
   "execution_count": null,
   "id": "standing-point",
   "metadata": {
    "tags": []
   },
   "outputs": [],
   "source": [
    "input_file = Path(CONSENSUS_CLUSTERING_DIR, \"best_partitions_by_k.pkl\").resolve()\n",
    "display(input_file)"
   ]
  },
  {
   "cell_type": "code",
   "execution_count": null,
   "id": "difficult-zambia",
   "metadata": {
    "tags": []
   },
   "outputs": [],
   "source": [
    "best_partitions = pd.read_pickle(input_file)"
   ]
  },
  {
   "cell_type": "code",
   "execution_count": null,
   "id": "settled-spring",
   "metadata": {
    "tags": []
   },
   "outputs": [],
   "source": [
    "best_partitions.shape"
   ]
  },
  {
   "cell_type": "code",
   "execution_count": null,
   "id": "administrative-ladder",
   "metadata": {
    "tags": []
   },
   "outputs": [],
   "source": [
    "best_partitions.head()"
   ]
  },
  {
   "cell_type": "markdown",
   "id": "cordless-pursuit",
   "metadata": {
    "tags": []
   },
   "source": [
    "## MultiPLIER summary"
   ]
  },
  {
   "cell_type": "code",
   "execution_count": null,
   "id": "danish-murder",
   "metadata": {
    "tags": []
   },
   "outputs": [],
   "source": [
    "multiplier_model_summary = pd.read_pickle(conf.MULTIPLIER[\"MODEL_SUMMARY_FILE\"])"
   ]
  },
  {
   "cell_type": "code",
   "execution_count": null,
   "id": "capable-discovery",
   "metadata": {
    "tags": []
   },
   "outputs": [],
   "source": [
    "multiplier_model_summary.shape"
   ]
  },
  {
   "cell_type": "code",
   "execution_count": null,
   "id": "tough-holiday",
   "metadata": {
    "tags": []
   },
   "outputs": [],
   "source": [
    "multiplier_model_summary.head()"
   ]
  },
  {
   "cell_type": "code",
   "execution_count": null,
   "id": "labeled-dominican",
   "metadata": {
    "tags": []
   },
   "outputs": [],
   "source": [
    "well_aligned_lvs = multiplier_model_summary[\n",
    "    (multiplier_model_summary[\"FDR\"] < 0.05) | (multiplier_model_summary[\"AUC\"] >= 0.75)\n",
    "]\n",
    "\n",
    "display(well_aligned_lvs.shape)\n",
    "display(well_aligned_lvs.head())"
   ]
  },
  {
   "cell_type": "code",
   "execution_count": null,
   "id": "familiar-graham",
   "metadata": {
    "tags": []
   },
   "outputs": [],
   "source": [
    "well_aligned_lv_codes = set([f\"LV{lvi}\" for lvi in well_aligned_lvs[\"LV index\"]])"
   ]
  },
  {
   "cell_type": "code",
   "execution_count": null,
   "id": "wicked-collins",
   "metadata": {
    "tags": []
   },
   "outputs": [],
   "source": [
    "len(well_aligned_lv_codes)"
   ]
  },
  {
   "cell_type": "code",
   "execution_count": null,
   "id": "official-journal",
   "metadata": {
    "tags": []
   },
   "outputs": [],
   "source": [
    "list(well_aligned_lv_codes)[:5]"
   ]
  },
  {
   "cell_type": "markdown",
   "id": "small-ivory",
   "metadata": {
    "papermill": {
     "duration": 0.029008,
     "end_time": "2021-05-15T23:04:28.961476",
     "exception": false,
     "start_time": "2021-05-15T23:04:28.932468",
     "status": "completed"
    },
    "tags": []
   },
   "source": [
    "# Select LVs from CRISPR analysis"
   ]
  },
  {
   "cell_type": "code",
   "execution_count": null,
   "id": "external-neighbor",
   "metadata": {
    "papermill": {
     "duration": 0.044785,
     "end_time": "2021-05-15T23:04:29.035681",
     "exception": false,
     "start_time": "2021-05-15T23:04:28.990896",
     "status": "completed"
    },
    "tags": []
   },
   "outputs": [],
   "source": [
    "# FIXME hardcoded\n",
    "deg_enrich = pd.read_csv(\n",
    "    Path(\n",
    "        conf.RESULTS[\"BASE_DIR\"],\n",
    "        \"crispr_analyses\",\n",
    "        \"fgsea-all_lvs.tsv\",\n",
    "    ).resolve(),\n",
    "    sep=\"\\t\",\n",
    ")"
   ]
  },
  {
   "cell_type": "code",
   "execution_count": null,
   "id": "interim-spirit",
   "metadata": {},
   "outputs": [],
   "source": [
    "deg_enrich.shape"
   ]
  },
  {
   "cell_type": "code",
   "execution_count": null,
   "id": "hearing-aircraft",
   "metadata": {},
   "outputs": [],
   "source": [
    "deg_enrich.head()"
   ]
  },
  {
   "cell_type": "code",
   "execution_count": null,
   "id": "alternate-florence",
   "metadata": {},
   "outputs": [],
   "source": [
    "deg_enrich_max_idx = deg_enrich.groupby([\"lv\", \"pathway\"])[\"padj\"].idxmax()"
   ]
  },
  {
   "cell_type": "code",
   "execution_count": null,
   "id": "sophisticated-wilson",
   "metadata": {},
   "outputs": [],
   "source": [
    "deg_enrich = deg_enrich.loc[deg_enrich_max_idx].reset_index(drop=True)\n",
    "display(deg_enrich.shape)\n",
    "display(deg_enrich.head())"
   ]
  },
  {
   "cell_type": "markdown",
   "id": "homeless-dispatch",
   "metadata": {},
   "source": [
    "## Lipids-increasing gene sets"
   ]
  },
  {
   "cell_type": "code",
   "execution_count": null,
   "id": "scientific-millennium",
   "metadata": {},
   "outputs": [],
   "source": [
    "deg_increase = deg_enrich[\n",
    "    deg_enrich[\"pathway\"].isin((\"gene_set_increase\",)) & (deg_enrich[\"padj\"] < 0.05)\n",
    "].sort_values(\"padj\", ascending=True)"
   ]
  },
  {
   "cell_type": "code",
   "execution_count": null,
   "id": "irish-renewal",
   "metadata": {},
   "outputs": [],
   "source": [
    "deg_increase.shape"
   ]
  },
  {
   "cell_type": "code",
   "execution_count": null,
   "id": "continued-contrary",
   "metadata": {},
   "outputs": [],
   "source": [
    "deg_increase.head()"
   ]
  },
  {
   "cell_type": "code",
   "execution_count": null,
   "id": "cheap-genre",
   "metadata": {},
   "outputs": [],
   "source": [
    "lvs_increase = deg_increase[\"lv\"].unique()"
   ]
  },
  {
   "cell_type": "code",
   "execution_count": null,
   "id": "federal-cattle",
   "metadata": {},
   "outputs": [],
   "source": [
    "lvs_increase.shape"
   ]
  },
  {
   "cell_type": "code",
   "execution_count": null,
   "id": "cordless-ceiling",
   "metadata": {},
   "outputs": [],
   "source": [
    "lvs_increase"
   ]
  },
  {
   "cell_type": "markdown",
   "id": "united-uncertainty",
   "metadata": {},
   "source": [
    "## Lipids-decreasing gene sets"
   ]
  },
  {
   "cell_type": "code",
   "execution_count": null,
   "id": "weird-shareware",
   "metadata": {},
   "outputs": [],
   "source": [
    "deg_decrease = deg_enrich[\n",
    "    deg_enrich[\"pathway\"].isin((\"gene_set_decrease\",)) & (deg_enrich[\"padj\"] < 0.05)\n",
    "].sort_values(\"padj\", ascending=True)"
   ]
  },
  {
   "cell_type": "code",
   "execution_count": null,
   "id": "coated-writer",
   "metadata": {},
   "outputs": [],
   "source": [
    "deg_decrease.shape"
   ]
  },
  {
   "cell_type": "code",
   "execution_count": null,
   "id": "spanish-nebraska",
   "metadata": {},
   "outputs": [],
   "source": [
    "deg_decrease.head()"
   ]
  },
  {
   "cell_type": "code",
   "execution_count": null,
   "id": "dressed-deployment",
   "metadata": {},
   "outputs": [],
   "source": [
    "lvs_decrease = deg_decrease[\"lv\"].unique()"
   ]
  },
  {
   "cell_type": "code",
   "execution_count": null,
   "id": "indonesian-garden",
   "metadata": {},
   "outputs": [],
   "source": [
    "lvs_decrease.shape"
   ]
  },
  {
   "cell_type": "code",
   "execution_count": null,
   "id": "upper-forwarding",
   "metadata": {},
   "outputs": [],
   "source": [
    "lvs_decrease"
   ]
  },
  {
   "cell_type": "markdown",
   "id": "tough-peoples",
   "metadata": {},
   "source": [
    "## Merge final"
   ]
  },
  {
   "cell_type": "code",
   "execution_count": null,
   "id": "worldwide-folder",
   "metadata": {
    "papermill": {
     "duration": 0.043104,
     "end_time": "2021-05-15T23:04:29.189354",
     "exception": false,
     "start_time": "2021-05-15T23:04:29.146250",
     "status": "completed"
    },
    "tags": []
   },
   "outputs": [],
   "source": [
    "_tmp0 = pd.DataFrame({\"lv\": lvs_increase, \"lv_set\": \"lipids-increasing\"})\n",
    "\n",
    "_tmp1 = pd.DataFrame({\"lv\": lvs_decrease, \"lv_set\": \"lipids-decreasing\"})"
   ]
  },
  {
   "cell_type": "code",
   "execution_count": null,
   "id": "functional-logic",
   "metadata": {},
   "outputs": [],
   "source": [
    "gls_selected_lvs = pd.concat([_tmp0, _tmp1], ignore_index=True)"
   ]
  },
  {
   "cell_type": "code",
   "execution_count": null,
   "id": "polar-wrong",
   "metadata": {},
   "outputs": [],
   "source": [
    "gls_selected_lvs.shape"
   ]
  },
  {
   "cell_type": "code",
   "execution_count": null,
   "id": "technical-listening",
   "metadata": {},
   "outputs": [],
   "source": [
    "gls_selected_lvs.head()"
   ]
  },
  {
   "cell_type": "markdown",
   "id": "spanish-boards",
   "metadata": {
    "tags": []
   },
   "source": [
    "# Select traits from specific partition/cluster"
   ]
  },
  {
   "cell_type": "code",
   "execution_count": null,
   "id": "unavailable-sight",
   "metadata": {
    "tags": []
   },
   "outputs": [],
   "source": [
    "PHENOTYPES_CONFIG = [\n",
    "    # cardiovascular\n",
    "    (29, 14),\n",
    "    (29, 16),\n",
    "    (29, 11),\n",
    "    (29, 21),\n",
    "    (29, 17),\n",
    "]"
   ]
  },
  {
   "cell_type": "markdown",
   "id": "rough-aviation",
   "metadata": {
    "tags": []
   },
   "source": [
    "# GLSPhenoplier"
   ]
  },
  {
   "cell_type": "markdown",
   "id": "planned-trauma",
   "metadata": {
    "tags": []
   },
   "source": [
    "## Get list of phenotypes/lvs pairs"
   ]
  },
  {
   "cell_type": "code",
   "execution_count": null,
   "id": "sharing-providence",
   "metadata": {
    "tags": []
   },
   "outputs": [],
   "source": [
    "phenotypes_lvs_pairs = []\n",
    "\n",
    "for part_k, cluster_id in PHENOTYPES_CONFIG:\n",
    "    part = best_partitions.loc[part_k, \"partition\"]\n",
    "\n",
    "    # get traits\n",
    "    cluster_traits = data.index[part == cluster_id]\n",
    "\n",
    "    #     # get extra lvs\n",
    "    #     lv_list = _get_lvs_data(part_k, cluster_id)\n",
    "\n",
    "    #     for extra_part_k, extra_cluster_id in extra_for_lvs:\n",
    "    #         extra_lv_list = _get_lvs_data(part_k, cluster_id)\n",
    "    #         lv_list.extend(extra_lv_list)\n",
    "\n",
    "    for phenotype_code in cluster_traits:\n",
    "        for idx, lv_row in gls_selected_lvs.iterrows():\n",
    "            phenotypes_lvs_pairs.append(\n",
    "                {\n",
    "                    \"phenotype_part_k\": part_k,\n",
    "                    \"phenotype_cluster_id\": cluster_id,\n",
    "                    \"phenotype\": phenotype_code,\n",
    "                    \"lv\": lv_row[\"lv\"],\n",
    "                    \"lv_set\": lv_row[\"lv_set\"],\n",
    "                }\n",
    "            )\n",
    "\n",
    "phenotypes_lvs_pairs = pd.DataFrame(phenotypes_lvs_pairs).drop_duplicates()"
   ]
  },
  {
   "cell_type": "code",
   "execution_count": null,
   "id": "geological-fountain",
   "metadata": {
    "tags": []
   },
   "outputs": [],
   "source": [
    "phenotypes_lvs_pairs = phenotypes_lvs_pairs.sort_values(\n",
    "    [\"phenotype\", \"lv\"]\n",
    ").reset_index(drop=True)"
   ]
  },
  {
   "cell_type": "code",
   "execution_count": null,
   "id": "trying-actor",
   "metadata": {
    "tags": []
   },
   "outputs": [],
   "source": [
    "phenotypes_lvs_pairs.shape"
   ]
  },
  {
   "cell_type": "code",
   "execution_count": null,
   "id": "united-clothing",
   "metadata": {
    "tags": []
   },
   "outputs": [],
   "source": [
    "phenotypes_lvs_pairs.head()"
   ]
  },
  {
   "cell_type": "markdown",
   "id": "gross-casting",
   "metadata": {
    "tags": []
   },
   "source": [
    "## Run"
   ]
  },
  {
   "cell_type": "code",
   "execution_count": null,
   "id": "structured-burke",
   "metadata": {
    "tags": []
   },
   "outputs": [],
   "source": [
    "output_file = OUTPUT_DIR / \"gls_phenotypes-crispr_lvs.pkl\"\n",
    "display(output_file)"
   ]
  },
  {
   "cell_type": "code",
   "execution_count": null,
   "id": "robust-grant",
   "metadata": {
    "tags": []
   },
   "outputs": [],
   "source": [
    "results = []\n",
    "\n",
    "pbar = tqdm(total=phenotypes_lvs_pairs.shape[0])\n",
    "\n",
    "for idx, row in phenotypes_lvs_pairs.iterrows():\n",
    "    phenotype_code = row[\"phenotype\"]\n",
    "    lv_code = row[\"lv\"]\n",
    "\n",
    "    pbar.set_description(f\"{phenotype_code} - {lv_code}\")\n",
    "\n",
    "    gls_model = GLSPhenoplier(\n",
    "        smultixcan_result_set_filepath=conf.PHENOMEXCAN[\n",
    "            \"SMULTIXCAN_EFO_PARTIAL_MASHR_ZSCORES_FILE\"\n",
    "        ]\n",
    "    )\n",
    "    gls_model.fit_named(lv_code, phenotype_code)\n",
    "    res = gls_model.results\n",
    "\n",
    "    results.append(\n",
    "        {\n",
    "            \"part_k\": row[\"phenotype_part_k\"],\n",
    "            \"cluster_id\": row[\"phenotype_cluster_id\"],\n",
    "            \"phenotype\": phenotype_code,\n",
    "            \"lv\": lv_code,\n",
    "            \"lv_set\": row[\"lv_set\"],\n",
    "            \"lv_with_pathway\": lv_code in well_aligned_lv_codes,\n",
    "            \"coef\": res.params.loc[\"lv\"],\n",
    "            \"pvalue\": res.pvalues.loc[\"lv\"],\n",
    "            \"summary\": gls_model.results_summary,\n",
    "        }\n",
    "    )\n",
    "\n",
    "    if (idx % 10) == 0:\n",
    "        pd.DataFrame(results).to_pickle(output_file)\n",
    "\n",
    "    pbar.update(1)\n",
    "\n",
    "pbar.close()"
   ]
  },
  {
   "cell_type": "code",
   "execution_count": null,
   "id": "narrow-hydrogen",
   "metadata": {
    "tags": []
   },
   "outputs": [],
   "source": [
    "results = pd.DataFrame(results)"
   ]
  },
  {
   "cell_type": "code",
   "execution_count": null,
   "id": "handy-feeling",
   "metadata": {
    "tags": []
   },
   "outputs": [],
   "source": [
    "results.shape"
   ]
  },
  {
   "cell_type": "code",
   "execution_count": null,
   "id": "premium-amplifier",
   "metadata": {
    "tags": []
   },
   "outputs": [],
   "source": [
    "results.head()"
   ]
  },
  {
   "cell_type": "code",
   "execution_count": null,
   "id": "spatial-baltimore",
   "metadata": {
    "tags": []
   },
   "outputs": [],
   "source": [
    "results.sort_values(\"pvalue\").head(10)"
   ]
  },
  {
   "cell_type": "markdown",
   "id": "affected-mileage",
   "metadata": {
    "tags": []
   },
   "source": [
    "## Save"
   ]
  },
  {
   "cell_type": "code",
   "execution_count": null,
   "id": "sporting-puppy",
   "metadata": {
    "tags": []
   },
   "outputs": [],
   "source": [
    "results.to_pickle(output_file)"
   ]
  },
  {
   "cell_type": "code",
   "execution_count": null,
   "id": "religious-boring",
   "metadata": {
    "tags": []
   },
   "outputs": [],
   "source": []
  }
 ],
 "metadata": {
  "jupytext": {
   "cell_metadata_filter": "all,-execution,-papermill,-trusted",
   "formats": "ipynb,py//py:percent"
  },
  "kernelspec": {
   "display_name": "Python 3",
   "language": "python",
   "name": "python3"
  },
  "language_info": {
   "codemirror_mode": {
    "name": "ipython",
    "version": 3
   },
   "file_extension": ".py",
   "mimetype": "text/x-python",
   "name": "python",
   "nbconvert_exporter": "python",
   "pygments_lexer": "ipython3",
   "version": "3.8.8"
  }
 },
 "nbformat": 4,
 "nbformat_minor": 5
}
