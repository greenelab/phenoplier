{
 "cells": [
  {
   "cell_type": "markdown",
   "id": "institutional-therapy",
   "metadata": {},
   "source": [
    "# Description"
   ]
  },
  {
   "cell_type": "markdown",
   "id": "positive-ferry",
   "metadata": {},
   "source": [
    "This notebook computes the covariance inside each LD block"
   ]
  },
  {
   "cell_type": "markdown",
   "id": "inclusive-instruction",
   "metadata": {},
   "source": [
    "# Modules"
   ]
  },
  {
   "cell_type": "code",
   "execution_count": null,
   "id": "sitting-gauge",
   "metadata": {
    "papermill": {
     "duration": 0.047722,
     "end_time": "2021-03-08T16:37:51.496059",
     "exception": false,
     "start_time": "2021-03-08T16:37:51.448337",
     "status": "completed"
    },
    "tags": []
   },
   "outputs": [],
   "source": [
    "%load_ext autoreload\n",
    "%autoreload 2"
   ]
  },
  {
   "cell_type": "code",
   "execution_count": null,
   "id": "owned-edmonton",
   "metadata": {},
   "outputs": [],
   "source": [
    "import numpy as np\n",
    "import pandas as pd\n",
    "from tqdm import tqdm\n",
    "\n",
    "# import rpy2.robjects as ro\n",
    "# from rpy2.robjects import pandas2ri\n",
    "# from rpy2.robjects.conversion import localconverter\n",
    "\n",
    "import conf"
   ]
  },
  {
   "cell_type": "markdown",
   "id": "supposed-butter",
   "metadata": {},
   "source": [
    "# Load data"
   ]
  },
  {
   "cell_type": "markdown",
   "id": "employed-craft",
   "metadata": {},
   "source": [
    "## SNPs per LD block data"
   ]
  },
  {
   "cell_type": "code",
   "execution_count": null,
   "id": "controlled-worthy",
   "metadata": {},
   "outputs": [],
   "source": [
    "input_file = conf.PHENOMEXCAN[\"LD_BLOCKS\"][\"BASE_DIR\"] / \"mashr_snps_ld_blocks.pkl\"\n",
    "display(input_file)"
   ]
  },
  {
   "cell_type": "code",
   "execution_count": null,
   "id": "native-connection",
   "metadata": {},
   "outputs": [],
   "source": [
    "variants_ld_block_df = pd.read_pickle(input_file)"
   ]
  },
  {
   "cell_type": "code",
   "execution_count": null,
   "id": "armed-astrology",
   "metadata": {},
   "outputs": [],
   "source": [
    "variants_ld_block_df.shape"
   ]
  },
  {
   "cell_type": "code",
   "execution_count": null,
   "id": "instant-dispute",
   "metadata": {},
   "outputs": [],
   "source": [
    "variants_ld_block_df.head()"
   ]
  },
  {
   "cell_type": "markdown",
   "id": "double-differential",
   "metadata": {},
   "source": [
    "## 1000G variants metadata"
   ]
  },
  {
   "cell_type": "code",
   "execution_count": null,
   "id": "silent-teddy",
   "metadata": {},
   "outputs": [],
   "source": [
    "input_file = (\n",
    "    conf.PHENOMEXCAN[\"LD_BLOCKS\"][\"1000G_GENOTYPE_DIR\"] / \"variant_metadata.parquet\"\n",
    ")\n",
    "display(input_file)"
   ]
  },
  {
   "cell_type": "code",
   "execution_count": null,
   "id": "together-confusion",
   "metadata": {},
   "outputs": [],
   "source": [
    "variants_metadata = pd.read_parquet(input_file, columns=[\"id\"])"
   ]
  },
  {
   "cell_type": "code",
   "execution_count": null,
   "id": "relevant-terror",
   "metadata": {},
   "outputs": [],
   "source": [
    "variants_metadata.shape"
   ]
  },
  {
   "cell_type": "code",
   "execution_count": null,
   "id": "extreme-sheep",
   "metadata": {},
   "outputs": [],
   "source": [
    "variants_metadata.head()"
   ]
  },
  {
   "cell_type": "code",
   "execution_count": null,
   "id": "differential-apparel",
   "metadata": {},
   "outputs": [],
   "source": [
    "variants_ids_with_genotype = set(variants_metadata[\"id\"])"
   ]
  },
  {
   "cell_type": "code",
   "execution_count": null,
   "id": "foster-segment",
   "metadata": {},
   "outputs": [],
   "source": [
    "len(variants_ids_with_genotype)"
   ]
  },
  {
   "cell_type": "code",
   "execution_count": null,
   "id": "prescription-device",
   "metadata": {},
   "outputs": [],
   "source": [
    "list(variants_ids_with_genotype)[:10]"
   ]
  },
  {
   "cell_type": "code",
   "execution_count": null,
   "id": "electric-reynolds",
   "metadata": {},
   "outputs": [],
   "source": [
    "del variants_metadata"
   ]
  },
  {
   "cell_type": "markdown",
   "id": "treated-shoulder",
   "metadata": {},
   "source": [
    "# Compute covariance for each LD block"
   ]
  },
  {
   "cell_type": "code",
   "execution_count": null,
   "id": "practical-touch",
   "metadata": {},
   "outputs": [],
   "source": [
    "def compute_snps_cov(snps_df):\n",
    "    assert snps_df[\"chr\"].unique().shape[0]\n",
    "    chromosome = snps_df[\"chr\"].unique()[0]\n",
    "\n",
    "    # keep variants only present in genotype\n",
    "    snps_ids = list(set(snps_df.index).intersection(variants_ids_with_genotype))\n",
    "\n",
    "    chromosome_file = (\n",
    "        conf.PHENOMEXCAN[\"LD_BLOCKS\"][\"1000G_GENOTYPE_DIR\"]\n",
    "        / f\"chr{chromosome}.variants.parquet\"\n",
    "    )\n",
    "    snps_genotypes = pd.read_parquet(chromosome_file, columns=snps_ids)\n",
    "\n",
    "    return snps_genotypes.cov()"
   ]
  },
  {
   "cell_type": "code",
   "execution_count": null,
   "id": "smoking-package",
   "metadata": {},
   "outputs": [],
   "source": [
    "output_file = conf.PHENOMEXCAN[\"LD_BLOCKS\"][\"BASE_DIR\"] / \"mashr_snps_ld_blocks_cov.h5\"\n",
    "display(output_file)"
   ]
  },
  {
   "cell_type": "code",
   "execution_count": null,
   "id": "independent-sessions",
   "metadata": {},
   "outputs": [],
   "source": [
    "with pd.HDFStore(output_file, mode=\"w\", complevel=4) as store:\n",
    "    pbar = tqdm(\n",
    "        variants_ld_block_df.groupby(\"ld_block\"),\n",
    "        ncols=100,\n",
    "        total=variants_ld_block_df[\"ld_block\"].unique().shape[0],\n",
    "    )\n",
    "\n",
    "    store[\"metadata\"] = variants_ld_block_df\n",
    "\n",
    "    for grp_name, grp_data in pbar:\n",
    "        pbar.set_description(f\"{grp_name} {grp_data.shape}\")\n",
    "        snps_cov = compute_snps_cov(grp_data).astype(np.float32)\n",
    "        assert not snps_cov.isna().any().any()\n",
    "        store[grp_name] = snps_cov"
   ]
  },
  {
   "cell_type": "markdown",
   "id": "enabling-vietnam",
   "metadata": {},
   "source": [
    "# Testing"
   ]
  },
  {
   "cell_type": "code",
   "execution_count": null,
   "id": "authorized-there",
   "metadata": {},
   "outputs": [],
   "source": [
    "_tmp = variants_ld_block_df[variants_ld_block_df[\"ld_block\"] == \"chr10_10\"]"
   ]
  },
  {
   "cell_type": "code",
   "execution_count": null,
   "id": "neither-savannah",
   "metadata": {},
   "outputs": [],
   "source": [
    "_tmp.shape"
   ]
  },
  {
   "cell_type": "code",
   "execution_count": null,
   "id": "humanitarian-scheme",
   "metadata": {},
   "outputs": [],
   "source": [
    "n_expected = len(set(_tmp.index).intersection(variants_ids_with_genotype))\n",
    "display(n_expected)"
   ]
  },
  {
   "cell_type": "code",
   "execution_count": null,
   "id": "finished-project",
   "metadata": {},
   "outputs": [],
   "source": [
    "with pd.HDFStore(output_file, mode=\"r\") as store:\n",
    "    df = store[\"chr10_10\"]\n",
    "    assert df.shape == (n_expected, n_expected)\n",
    "    assert not df.isna().any().any()"
   ]
  },
  {
   "cell_type": "code",
   "execution_count": null,
   "id": "entitled-chase",
   "metadata": {},
   "outputs": [],
   "source": []
  }
 ],
 "metadata": {
  "jupytext": {
   "cell_metadata_filter": "all,-execution,-papermill,-trusted",
   "formats": "ipynb,py//py:percent"
  },
  "kernelspec": {
   "display_name": "Python 3",
   "language": "python",
   "name": "python3"
  },
  "language_info": {
   "codemirror_mode": {
    "name": "ipython",
    "version": 3
   },
   "file_extension": ".py",
   "mimetype": "text/x-python",
   "name": "python",
   "nbconvert_exporter": "python",
   "pygments_lexer": "ipython3",
   "version": "3.8.8"
  }
 },
 "nbformat": 4,
 "nbformat_minor": 5
}
