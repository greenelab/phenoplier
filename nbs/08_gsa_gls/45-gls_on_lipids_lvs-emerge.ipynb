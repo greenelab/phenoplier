{
 "cells": [
  {
   "cell_type": "markdown",
   "id": "accessible-sandwich",
   "metadata": {
    "papermill": {
     "duration": 0.024911,
     "end_time": "2021-07-14T21:50:38.085743",
     "exception": false,
     "start_time": "2021-07-14T21:50:38.060832",
     "status": "completed"
    },
    "tags": []
   },
   "source": [
    "# Description"
   ]
  },
  {
   "cell_type": "markdown",
   "id": "vital-albuquerque",
   "metadata": {
    "papermill": {
     "duration": 0.02044,
     "end_time": "2021-07-14T21:50:38.126707",
     "exception": false,
     "start_time": "2021-07-14T21:50:38.106267",
     "status": "completed"
    },
    "tags": []
   },
   "source": [
    "This notebook is similar to `40` (using LVs that we found to be significantly enriched for the lipids CRISPR analysis), but traits here are from eMERGE."
   ]
  },
  {
   "cell_type": "markdown",
   "id": "answering-microwave",
   "metadata": {
    "papermill": {
     "duration": 0.020778,
     "end_time": "2021-07-14T21:50:38.167919",
     "exception": false,
     "start_time": "2021-07-14T21:50:38.147141",
     "status": "completed"
    },
    "tags": []
   },
   "source": [
    "# Environment variables"
   ]
  },
  {
   "cell_type": "code",
   "execution_count": 1,
   "id": "appointed-links",
   "metadata": {
    "execution": {
     "iopub.execute_input": "2021-07-14T21:50:38.214947Z",
     "iopub.status.busy": "2021-07-14T21:50:38.214571Z",
     "iopub.status.idle": "2021-07-14T21:50:38.222186Z",
     "shell.execute_reply": "2021-07-14T21:50:38.222483Z"
    },
    "papermill": {
     "duration": 0.034124,
     "end_time": "2021-07-14T21:50:38.222639",
     "exception": false,
     "start_time": "2021-07-14T21:50:38.188515",
     "status": "completed"
    },
    "tags": []
   },
   "outputs": [],
   "source": [
    "%load_ext autoreload\n",
    "%autoreload 2"
   ]
  },
  {
   "cell_type": "code",
   "execution_count": 2,
   "id": "answering-maple",
   "metadata": {
    "execution": {
     "iopub.execute_input": "2021-07-14T21:50:38.267411Z",
     "iopub.status.busy": "2021-07-14T21:50:38.267048Z",
     "iopub.status.idle": "2021-07-14T21:50:38.277299Z",
     "shell.execute_reply": "2021-07-14T21:50:38.276577Z"
    },
    "papermill": {
     "duration": 0.033524,
     "end_time": "2021-07-14T21:50:38.277388",
     "exception": false,
     "start_time": "2021-07-14T21:50:38.243864",
     "status": "completed"
    },
    "tags": []
   },
   "outputs": [],
   "source": [
    "import conf"
   ]
  },
  {
   "cell_type": "code",
   "execution_count": 3,
   "id": "academic-banks",
   "metadata": {
    "execution": {
     "iopub.execute_input": "2021-07-14T21:50:38.322347Z",
     "iopub.status.busy": "2021-07-14T21:50:38.321961Z",
     "iopub.status.idle": "2021-07-14T21:50:38.332497Z",
     "shell.execute_reply": "2021-07-14T21:50:38.332128Z"
    },
    "papermill": {
     "duration": 0.033631,
     "end_time": "2021-07-14T21:50:38.332581",
     "exception": false,
     "start_time": "2021-07-14T21:50:38.298950",
     "status": "completed"
    },
    "tags": []
   },
   "outputs": [
    {
     "data": {
      "text/plain": [
       "3"
      ]
     },
     "metadata": {},
     "output_type": "display_data"
    }
   ],
   "source": [
    "N_JOBS = conf.GENERAL[\"N_JOBS\"]\n",
    "display(N_JOBS)"
   ]
  },
  {
   "cell_type": "code",
   "execution_count": 4,
   "id": "hispanic-triumph",
   "metadata": {
    "execution": {
     "iopub.execute_input": "2021-07-14T21:50:38.379378Z",
     "iopub.status.busy": "2021-07-14T21:50:38.379022Z",
     "iopub.status.idle": "2021-07-14T21:50:38.385825Z",
     "shell.execute_reply": "2021-07-14T21:50:38.385459Z"
    },
    "papermill": {
     "duration": 0.031602,
     "end_time": "2021-07-14T21:50:38.385909",
     "exception": false,
     "start_time": "2021-07-14T21:50:38.354307",
     "status": "completed"
    },
    "tags": []
   },
   "outputs": [
    {
     "name": "stdout",
     "output_type": "stream",
     "text": [
      "env: MKL_NUM_THREADS=3\n",
      "env: OPEN_BLAS_NUM_THREADS=3\n",
      "env: NUMEXPR_NUM_THREADS=3\n",
      "env: OMP_NUM_THREADS=3\n"
     ]
    }
   ],
   "source": [
    "%env MKL_NUM_THREADS=$N_JOBS\n",
    "%env OPEN_BLAS_NUM_THREADS=$N_JOBS\n",
    "%env NUMEXPR_NUM_THREADS=$N_JOBS\n",
    "%env OMP_NUM_THREADS=$N_JOBS"
   ]
  },
  {
   "cell_type": "markdown",
   "id": "serial-reducing",
   "metadata": {
    "papermill": {
     "duration": 0.022538,
     "end_time": "2021-07-14T21:50:38.430664",
     "exception": false,
     "start_time": "2021-07-14T21:50:38.408126",
     "status": "completed"
    },
    "tags": []
   },
   "source": [
    "# Modules"
   ]
  },
  {
   "cell_type": "code",
   "execution_count": 5,
   "id": "supreme-display",
   "metadata": {
    "execution": {
     "iopub.execute_input": "2021-07-14T21:50:38.481121Z",
     "iopub.status.busy": "2021-07-14T21:50:38.480679Z",
     "iopub.status.idle": "2021-07-14T21:50:39.228591Z",
     "shell.execute_reply": "2021-07-14T21:50:39.228920Z"
    },
    "papermill": {
     "duration": 0.773157,
     "end_time": "2021-07-14T21:50:39.229038",
     "exception": false,
     "start_time": "2021-07-14T21:50:38.455881",
     "status": "completed"
    },
    "tags": []
   },
   "outputs": [],
   "source": [
    "from pathlib import Path\n",
    "\n",
    "import pandas as pd\n",
    "from tqdm import tqdm\n",
    "\n",
    "from gls import GLSPhenoplier"
   ]
  },
  {
   "cell_type": "markdown",
   "id": "premier-sampling",
   "metadata": {
    "papermill": {
     "duration": 0.021477,
     "end_time": "2021-07-14T21:50:39.274238",
     "exception": false,
     "start_time": "2021-07-14T21:50:39.252761",
     "status": "completed"
    },
    "tags": []
   },
   "source": [
    "# Settings"
   ]
  },
  {
   "cell_type": "code",
   "execution_count": 6,
   "id": "monetary-pasta",
   "metadata": {
    "execution": {
     "iopub.execute_input": "2021-07-14T21:50:39.320792Z",
     "iopub.status.busy": "2021-07-14T21:50:39.320384Z",
     "iopub.status.idle": "2021-07-14T21:50:39.331739Z",
     "shell.execute_reply": "2021-07-14T21:50:39.332038Z"
    },
    "papermill": {
     "duration": 0.035856,
     "end_time": "2021-07-14T21:50:39.332142",
     "exception": false,
     "start_time": "2021-07-14T21:50:39.296286",
     "status": "completed"
    },
    "tags": []
   },
   "outputs": [
    {
     "data": {
      "text/plain": [
       "PosixPath('/home/miltondp/projects/labs/greenelab/phenoplier/base/results/gls')"
      ]
     },
     "metadata": {},
     "output_type": "display_data"
    }
   ],
   "source": [
    "OUTPUT_DIR = conf.RESULTS[\"GLS\"]\n",
    "display(OUTPUT_DIR)\n",
    "\n",
    "OUTPUT_DIR.mkdir(exist_ok=True, parents=True)"
   ]
  },
  {
   "cell_type": "code",
   "execution_count": 7,
   "id": "polished-psychiatry",
   "metadata": {
    "execution": {
     "iopub.execute_input": "2021-07-14T21:50:39.378141Z",
     "iopub.status.busy": "2021-07-14T21:50:39.377776Z",
     "iopub.status.idle": "2021-07-14T21:50:39.389150Z",
     "shell.execute_reply": "2021-07-14T21:50:39.388793Z"
    },
    "papermill": {
     "duration": 0.035207,
     "end_time": "2021-07-14T21:50:39.389231",
     "exception": false,
     "start_time": "2021-07-14T21:50:39.354024",
     "status": "completed"
    },
    "tags": []
   },
   "outputs": [
    {
     "data": {
      "text/plain": [
       "PosixPath('/home/miltondp/projects/labs/greenelab/phenoplier/base/results/gls/gls_phenotypes-crispr_lvs-emerge.pkl')"
      ]
     },
     "metadata": {},
     "output_type": "display_data"
    }
   ],
   "source": [
    "OUTPUT_FILENAME = OUTPUT_DIR / \"gls_phenotypes-crispr_lvs-emerge.pkl\"\n",
    "display(OUTPUT_FILENAME)"
   ]
  },
  {
   "cell_type": "markdown",
   "id": "later-negative",
   "metadata": {
    "papermill": {
     "duration": 0.02321,
     "end_time": "2021-07-14T21:50:39.434496",
     "exception": false,
     "start_time": "2021-07-14T21:50:39.411286",
     "status": "completed"
    },
    "tags": []
   },
   "source": [
    "# Load data"
   ]
  },
  {
   "cell_type": "markdown",
   "id": "responsible-liverpool",
   "metadata": {
    "papermill": {
     "duration": 0.022124,
     "end_time": "2021-07-14T21:50:39.482021",
     "exception": false,
     "start_time": "2021-07-14T21:50:39.459897",
     "status": "completed"
    },
    "tags": []
   },
   "source": [
    "## MultiPLIER summary"
   ]
  },
  {
   "cell_type": "code",
   "execution_count": 8,
   "id": "statutory-lounge",
   "metadata": {
    "execution": {
     "iopub.execute_input": "2021-07-14T21:50:39.528909Z",
     "iopub.status.busy": "2021-07-14T21:50:39.528490Z",
     "iopub.status.idle": "2021-07-14T21:50:39.540798Z",
     "shell.execute_reply": "2021-07-14T21:50:39.541099Z"
    },
    "papermill": {
     "duration": 0.037322,
     "end_time": "2021-07-14T21:50:39.541210",
     "exception": false,
     "start_time": "2021-07-14T21:50:39.503888",
     "status": "completed"
    },
    "tags": []
   },
   "outputs": [],
   "source": [
    "multiplier_model_summary = pd.read_pickle(conf.MULTIPLIER[\"MODEL_SUMMARY_FILE\"])"
   ]
  },
  {
   "cell_type": "code",
   "execution_count": 9,
   "id": "reliable-sample",
   "metadata": {
    "execution": {
     "iopub.execute_input": "2021-07-14T21:50:39.588882Z",
     "iopub.status.busy": "2021-07-14T21:50:39.588471Z",
     "iopub.status.idle": "2021-07-14T21:50:39.599854Z",
     "shell.execute_reply": "2021-07-14T21:50:39.599473Z"
    },
    "papermill": {
     "duration": 0.036137,
     "end_time": "2021-07-14T21:50:39.599941",
     "exception": false,
     "start_time": "2021-07-14T21:50:39.563804",
     "status": "completed"
    },
    "tags": []
   },
   "outputs": [
    {
     "data": {
      "text/plain": [
       "(2157, 5)"
      ]
     },
     "execution_count": 9,
     "metadata": {},
     "output_type": "execute_result"
    }
   ],
   "source": [
    "multiplier_model_summary.shape"
   ]
  },
  {
   "cell_type": "code",
   "execution_count": 10,
   "id": "dominant-bathroom",
   "metadata": {
    "execution": {
     "iopub.execute_input": "2021-07-14T21:50:39.647481Z",
     "iopub.status.busy": "2021-07-14T21:50:39.647111Z",
     "iopub.status.idle": "2021-07-14T21:50:39.663811Z",
     "shell.execute_reply": "2021-07-14T21:50:39.663408Z"
    },
    "papermill": {
     "duration": 0.041193,
     "end_time": "2021-07-14T21:50:39.663899",
     "exception": false,
     "start_time": "2021-07-14T21:50:39.622706",
     "status": "completed"
    },
    "tags": []
   },
   "outputs": [
    {
     "data": {
      "text/html": [
       "<div>\n",
       "<style scoped>\n",
       "    .dataframe tbody tr th:only-of-type {\n",
       "        vertical-align: middle;\n",
       "    }\n",
       "\n",
       "    .dataframe tbody tr th {\n",
       "        vertical-align: top;\n",
       "    }\n",
       "\n",
       "    .dataframe thead th {\n",
       "        text-align: right;\n",
       "    }\n",
       "</style>\n",
       "<table border=\"1\" class=\"dataframe\">\n",
       "  <thead>\n",
       "    <tr style=\"text-align: right;\">\n",
       "      <th></th>\n",
       "      <th>pathway</th>\n",
       "      <th>LV index</th>\n",
       "      <th>AUC</th>\n",
       "      <th>p-value</th>\n",
       "      <th>FDR</th>\n",
       "    </tr>\n",
       "  </thead>\n",
       "  <tbody>\n",
       "    <tr>\n",
       "      <th>1</th>\n",
       "      <td>KEGG_LYSINE_DEGRADATION</td>\n",
       "      <td>1</td>\n",
       "      <td>0.388059</td>\n",
       "      <td>0.866078</td>\n",
       "      <td>0.956005</td>\n",
       "    </tr>\n",
       "    <tr>\n",
       "      <th>2</th>\n",
       "      <td>REACTOME_MRNA_SPLICING</td>\n",
       "      <td>1</td>\n",
       "      <td>0.733057</td>\n",
       "      <td>0.000048</td>\n",
       "      <td>0.000582</td>\n",
       "    </tr>\n",
       "    <tr>\n",
       "      <th>3</th>\n",
       "      <td>MIPS_NOP56P_ASSOCIATED_PRE_RRNA_COMPLEX</td>\n",
       "      <td>1</td>\n",
       "      <td>0.680555</td>\n",
       "      <td>0.001628</td>\n",
       "      <td>0.011366</td>\n",
       "    </tr>\n",
       "    <tr>\n",
       "      <th>4</th>\n",
       "      <td>KEGG_DNA_REPLICATION</td>\n",
       "      <td>1</td>\n",
       "      <td>0.549473</td>\n",
       "      <td>0.312155</td>\n",
       "      <td>0.539951</td>\n",
       "    </tr>\n",
       "    <tr>\n",
       "      <th>5</th>\n",
       "      <td>PID_MYC_ACTIVPATHWAY</td>\n",
       "      <td>1</td>\n",
       "      <td>0.639303</td>\n",
       "      <td>0.021702</td>\n",
       "      <td>0.083739</td>\n",
       "    </tr>\n",
       "  </tbody>\n",
       "</table>\n",
       "</div>"
      ],
      "text/plain": [
       "                                   pathway LV index       AUC   p-value  \\\n",
       "1                  KEGG_LYSINE_DEGRADATION        1  0.388059  0.866078   \n",
       "2                   REACTOME_MRNA_SPLICING        1  0.733057  0.000048   \n",
       "3  MIPS_NOP56P_ASSOCIATED_PRE_RRNA_COMPLEX        1  0.680555  0.001628   \n",
       "4                     KEGG_DNA_REPLICATION        1  0.549473  0.312155   \n",
       "5                     PID_MYC_ACTIVPATHWAY        1  0.639303  0.021702   \n",
       "\n",
       "        FDR  \n",
       "1  0.956005  \n",
       "2  0.000582  \n",
       "3  0.011366  \n",
       "4  0.539951  \n",
       "5  0.083739  "
      ]
     },
     "execution_count": 10,
     "metadata": {},
     "output_type": "execute_result"
    }
   ],
   "source": [
    "multiplier_model_summary.head()"
   ]
  },
  {
   "cell_type": "code",
   "execution_count": 11,
   "id": "rational-capability",
   "metadata": {
    "execution": {
     "iopub.execute_input": "2021-07-14T21:50:39.711282Z",
     "iopub.status.busy": "2021-07-14T21:50:39.710926Z",
     "iopub.status.idle": "2021-07-14T21:50:39.730541Z",
     "shell.execute_reply": "2021-07-14T21:50:39.730206Z"
    },
    "papermill": {
     "duration": 0.043933,
     "end_time": "2021-07-14T21:50:39.730627",
     "exception": false,
     "start_time": "2021-07-14T21:50:39.686694",
     "status": "completed"
    },
    "tags": []
   },
   "outputs": [
    {
     "data": {
      "text/plain": [
       "(469, 5)"
      ]
     },
     "metadata": {},
     "output_type": "display_data"
    },
    {
     "data": {
      "text/html": [
       "<div>\n",
       "<style scoped>\n",
       "    .dataframe tbody tr th:only-of-type {\n",
       "        vertical-align: middle;\n",
       "    }\n",
       "\n",
       "    .dataframe tbody tr th {\n",
       "        vertical-align: top;\n",
       "    }\n",
       "\n",
       "    .dataframe thead th {\n",
       "        text-align: right;\n",
       "    }\n",
       "</style>\n",
       "<table border=\"1\" class=\"dataframe\">\n",
       "  <thead>\n",
       "    <tr style=\"text-align: right;\">\n",
       "      <th></th>\n",
       "      <th>pathway</th>\n",
       "      <th>LV index</th>\n",
       "      <th>AUC</th>\n",
       "      <th>p-value</th>\n",
       "      <th>FDR</th>\n",
       "    </tr>\n",
       "  </thead>\n",
       "  <tbody>\n",
       "    <tr>\n",
       "      <th>2</th>\n",
       "      <td>REACTOME_MRNA_SPLICING</td>\n",
       "      <td>1</td>\n",
       "      <td>0.733057</td>\n",
       "      <td>4.772691e-05</td>\n",
       "      <td>5.816211e-04</td>\n",
       "    </tr>\n",
       "    <tr>\n",
       "      <th>3</th>\n",
       "      <td>MIPS_NOP56P_ASSOCIATED_PRE_RRNA_COMPLEX</td>\n",
       "      <td>1</td>\n",
       "      <td>0.680555</td>\n",
       "      <td>1.628217e-03</td>\n",
       "      <td>1.136590e-02</td>\n",
       "    </tr>\n",
       "    <tr>\n",
       "      <th>8</th>\n",
       "      <td>REACTOME_MITOTIC_G1_G1_S_PHASES</td>\n",
       "      <td>1</td>\n",
       "      <td>0.686170</td>\n",
       "      <td>2.517619e-04</td>\n",
       "      <td>2.392292e-03</td>\n",
       "    </tr>\n",
       "    <tr>\n",
       "      <th>9</th>\n",
       "      <td>IRIS_Monocyte-Day0</td>\n",
       "      <td>2</td>\n",
       "      <td>0.890036</td>\n",
       "      <td>4.315812e-25</td>\n",
       "      <td>1.329887e-22</td>\n",
       "    </tr>\n",
       "    <tr>\n",
       "      <th>10</th>\n",
       "      <td>DMAP_MONO2</td>\n",
       "      <td>2</td>\n",
       "      <td>0.904676</td>\n",
       "      <td>1.313970e-16</td>\n",
       "      <td>1.574574e-14</td>\n",
       "    </tr>\n",
       "  </tbody>\n",
       "</table>\n",
       "</div>"
      ],
      "text/plain": [
       "                                    pathway LV index       AUC       p-value  \\\n",
       "2                    REACTOME_MRNA_SPLICING        1  0.733057  4.772691e-05   \n",
       "3   MIPS_NOP56P_ASSOCIATED_PRE_RRNA_COMPLEX        1  0.680555  1.628217e-03   \n",
       "8           REACTOME_MITOTIC_G1_G1_S_PHASES        1  0.686170  2.517619e-04   \n",
       "9                        IRIS_Monocyte-Day0        2  0.890036  4.315812e-25   \n",
       "10                               DMAP_MONO2        2  0.904676  1.313970e-16   \n",
       "\n",
       "             FDR  \n",
       "2   5.816211e-04  \n",
       "3   1.136590e-02  \n",
       "8   2.392292e-03  \n",
       "9   1.329887e-22  \n",
       "10  1.574574e-14  "
      ]
     },
     "metadata": {},
     "output_type": "display_data"
    }
   ],
   "source": [
    "well_aligned_lvs = multiplier_model_summary[\n",
    "    (multiplier_model_summary[\"FDR\"] < 0.05) | (multiplier_model_summary[\"AUC\"] >= 0.75)\n",
    "]\n",
    "\n",
    "display(well_aligned_lvs.shape)\n",
    "display(well_aligned_lvs.head())"
   ]
  },
  {
   "cell_type": "code",
   "execution_count": 12,
   "id": "racial-building",
   "metadata": {
    "execution": {
     "iopub.execute_input": "2021-07-14T21:50:39.779617Z",
     "iopub.status.busy": "2021-07-14T21:50:39.779260Z",
     "iopub.status.idle": "2021-07-14T21:50:39.790177Z",
     "shell.execute_reply": "2021-07-14T21:50:39.789805Z"
    },
    "papermill": {
     "duration": 0.036043,
     "end_time": "2021-07-14T21:50:39.790261",
     "exception": false,
     "start_time": "2021-07-14T21:50:39.754218",
     "status": "completed"
    },
    "tags": []
   },
   "outputs": [],
   "source": [
    "well_aligned_lv_codes = set([f\"LV{lvi}\" for lvi in well_aligned_lvs[\"LV index\"]])"
   ]
  },
  {
   "cell_type": "code",
   "execution_count": 13,
   "id": "thousand-cardiff",
   "metadata": {
    "execution": {
     "iopub.execute_input": "2021-07-14T21:50:39.839386Z",
     "iopub.status.busy": "2021-07-14T21:50:39.839015Z",
     "iopub.status.idle": "2021-07-14T21:50:39.850429Z",
     "shell.execute_reply": "2021-07-14T21:50:39.850059Z"
    },
    "papermill": {
     "duration": 0.036646,
     "end_time": "2021-07-14T21:50:39.850515",
     "exception": false,
     "start_time": "2021-07-14T21:50:39.813869",
     "status": "completed"
    },
    "tags": []
   },
   "outputs": [
    {
     "data": {
      "text/plain": [
       "200"
      ]
     },
     "execution_count": 13,
     "metadata": {},
     "output_type": "execute_result"
    }
   ],
   "source": [
    "len(well_aligned_lv_codes)"
   ]
  },
  {
   "cell_type": "code",
   "execution_count": 14,
   "id": "compatible-evans",
   "metadata": {
    "execution": {
     "iopub.execute_input": "2021-07-14T21:50:39.899864Z",
     "iopub.status.busy": "2021-07-14T21:50:39.899497Z",
     "iopub.status.idle": "2021-07-14T21:50:39.910966Z",
     "shell.execute_reply": "2021-07-14T21:50:39.910606Z"
    },
    "papermill": {
     "duration": 0.036731,
     "end_time": "2021-07-14T21:50:39.911049",
     "exception": false,
     "start_time": "2021-07-14T21:50:39.874318",
     "status": "completed"
    },
    "tags": []
   },
   "outputs": [
    {
     "data": {
      "text/plain": [
       "['LV84', 'LV154', 'LV10', 'LV234', 'LV805']"
      ]
     },
     "execution_count": 14,
     "metadata": {},
     "output_type": "execute_result"
    }
   ],
   "source": [
    "list(well_aligned_lv_codes)[:5]"
   ]
  },
  {
   "cell_type": "markdown",
   "id": "insured-northwest",
   "metadata": {
    "papermill": {
     "duration": 0.022502,
     "end_time": "2021-07-14T21:50:39.956861",
     "exception": false,
     "start_time": "2021-07-14T21:50:39.934359",
     "status": "completed"
    },
    "tags": []
   },
   "source": [
    "## eMERGE traits info"
   ]
  },
  {
   "cell_type": "code",
   "execution_count": 15,
   "id": "acoustic-edgar",
   "metadata": {
    "execution": {
     "iopub.execute_input": "2021-07-14T21:50:40.005119Z",
     "iopub.status.busy": "2021-07-14T21:50:40.004684Z",
     "iopub.status.idle": "2021-07-14T21:50:40.016190Z",
     "shell.execute_reply": "2021-07-14T21:50:40.016482Z"
    },
    "papermill": {
     "duration": 0.037087,
     "end_time": "2021-07-14T21:50:40.016583",
     "exception": false,
     "start_time": "2021-07-14T21:50:39.979496",
     "status": "completed"
    },
    "tags": []
   },
   "outputs": [
    {
     "data": {
      "text/plain": [
       "PosixPath('/home/miltondp/projects/labs/greenelab/phenoplier/base/data/emerge/eMERGE_III_PMBB_GSA_v2_2020_phecode_AFR_EUR_cc50_counts_w_dictionary.txt')"
      ]
     },
     "metadata": {},
     "output_type": "display_data"
    }
   ],
   "source": [
    "# FIXME: in the future, there will be a specific entry in config for the eMERGE directory that should be replaced here\n",
    "input_filepath = Path(\n",
    "    conf.DATA_DIR,\n",
    "    \"emerge\",\n",
    "    \"eMERGE_III_PMBB_GSA_v2_2020_phecode_AFR_EUR_cc50_counts_w_dictionary.txt\",\n",
    ").resolve()\n",
    "display(input_filepath)"
   ]
  },
  {
   "cell_type": "code",
   "execution_count": 16,
   "id": "italian-antique",
   "metadata": {
    "execution": {
     "iopub.execute_input": "2021-07-14T21:50:40.066384Z",
     "iopub.status.busy": "2021-07-14T21:50:40.065978Z",
     "iopub.status.idle": "2021-07-14T21:50:40.078235Z",
     "shell.execute_reply": "2021-07-14T21:50:40.078517Z"
    },
    "papermill": {
     "duration": 0.038563,
     "end_time": "2021-07-14T21:50:40.078624",
     "exception": false,
     "start_time": "2021-07-14T21:50:40.040061",
     "status": "completed"
    },
    "tags": []
   },
   "outputs": [],
   "source": [
    "emerge_traits_df = pd.read_csv(\n",
    "    input_filepath,\n",
    "    sep=\"\\t\",\n",
    "    dtype={\"phecode\": str},\n",
    "    usecols=[\"phecode\", \"phenotype\", \"category\"],\n",
    ")"
   ]
  },
  {
   "cell_type": "code",
   "execution_count": 17,
   "id": "timely-order",
   "metadata": {
    "execution": {
     "iopub.execute_input": "2021-07-14T21:50:40.128570Z",
     "iopub.status.busy": "2021-07-14T21:50:40.128192Z",
     "iopub.status.idle": "2021-07-14T21:50:40.139337Z",
     "shell.execute_reply": "2021-07-14T21:50:40.138957Z"
    },
    "papermill": {
     "duration": 0.037023,
     "end_time": "2021-07-14T21:50:40.139423",
     "exception": false,
     "start_time": "2021-07-14T21:50:40.102400",
     "status": "completed"
    },
    "tags": []
   },
   "outputs": [],
   "source": [
    "emerge_traits_df = emerge_traits_df.rename(\n",
    "    columns={\n",
    "        \"phenotype\": \"phecode_phenotype\",\n",
    "        \"category\": \"phecode_category\",\n",
    "    }\n",
    ")"
   ]
  },
  {
   "cell_type": "code",
   "execution_count": 18,
   "id": "hazardous-equilibrium",
   "metadata": {
    "execution": {
     "iopub.execute_input": "2021-07-14T21:50:40.189709Z",
     "iopub.status.busy": "2021-07-14T21:50:40.189341Z",
     "iopub.status.idle": "2021-07-14T21:50:40.200966Z",
     "shell.execute_reply": "2021-07-14T21:50:40.200539Z"
    },
    "papermill": {
     "duration": 0.037199,
     "end_time": "2021-07-14T21:50:40.201050",
     "exception": false,
     "start_time": "2021-07-14T21:50:40.163851",
     "status": "completed"
    },
    "tags": []
   },
   "outputs": [
    {
     "data": {
      "text/plain": [
       "(309, 3)"
      ]
     },
     "execution_count": 18,
     "metadata": {},
     "output_type": "execute_result"
    }
   ],
   "source": [
    "emerge_traits_df.shape"
   ]
  },
  {
   "cell_type": "code",
   "execution_count": 19,
   "id": "minus-termination",
   "metadata": {
    "execution": {
     "iopub.execute_input": "2021-07-14T21:50:40.250406Z",
     "iopub.status.busy": "2021-07-14T21:50:40.250019Z",
     "iopub.status.idle": "2021-07-14T21:50:40.265662Z",
     "shell.execute_reply": "2021-07-14T21:50:40.265282Z"
    },
    "papermill": {
     "duration": 0.041188,
     "end_time": "2021-07-14T21:50:40.265747",
     "exception": false,
     "start_time": "2021-07-14T21:50:40.224559",
     "status": "completed"
    },
    "tags": []
   },
   "outputs": [
    {
     "data": {
      "text/html": [
       "<div>\n",
       "<style scoped>\n",
       "    .dataframe tbody tr th:only-of-type {\n",
       "        vertical-align: middle;\n",
       "    }\n",
       "\n",
       "    .dataframe tbody tr th {\n",
       "        vertical-align: top;\n",
       "    }\n",
       "\n",
       "    .dataframe thead th {\n",
       "        text-align: right;\n",
       "    }\n",
       "</style>\n",
       "<table border=\"1\" class=\"dataframe\">\n",
       "  <thead>\n",
       "    <tr style=\"text-align: right;\">\n",
       "      <th></th>\n",
       "      <th>phecode</th>\n",
       "      <th>phecode_phenotype</th>\n",
       "      <th>phecode_category</th>\n",
       "    </tr>\n",
       "  </thead>\n",
       "  <tbody>\n",
       "    <tr>\n",
       "      <th>0</th>\n",
       "      <td>008</td>\n",
       "      <td>Intestinal infection</td>\n",
       "      <td>infectious diseases</td>\n",
       "    </tr>\n",
       "    <tr>\n",
       "      <th>1</th>\n",
       "      <td>008.5</td>\n",
       "      <td>Bacterial enteritis</td>\n",
       "      <td>infectious diseases</td>\n",
       "    </tr>\n",
       "    <tr>\n",
       "      <th>2</th>\n",
       "      <td>008.52</td>\n",
       "      <td>Intestinal infection due to C. difficile</td>\n",
       "      <td>infectious diseases</td>\n",
       "    </tr>\n",
       "    <tr>\n",
       "      <th>3</th>\n",
       "      <td>038</td>\n",
       "      <td>Septicemia</td>\n",
       "      <td>infectious diseases</td>\n",
       "    </tr>\n",
       "    <tr>\n",
       "      <th>4</th>\n",
       "      <td>038.3</td>\n",
       "      <td>Bacteremia</td>\n",
       "      <td>infectious diseases</td>\n",
       "    </tr>\n",
       "  </tbody>\n",
       "</table>\n",
       "</div>"
      ],
      "text/plain": [
       "  phecode                         phecode_phenotype     phecode_category\n",
       "0     008                      Intestinal infection  infectious diseases\n",
       "1   008.5                       Bacterial enteritis  infectious diseases\n",
       "2  008.52  Intestinal infection due to C. difficile  infectious diseases\n",
       "3     038                                Septicemia  infectious diseases\n",
       "4   038.3                                Bacteremia  infectious diseases"
      ]
     },
     "execution_count": 19,
     "metadata": {},
     "output_type": "execute_result"
    }
   ],
   "source": [
    "emerge_traits_df.head()"
   ]
  },
  {
   "cell_type": "markdown",
   "id": "ordinary-architecture",
   "metadata": {
    "papermill": {
     "duration": 0.023431,
     "end_time": "2021-07-14T21:50:40.313714",
     "exception": false,
     "start_time": "2021-07-14T21:50:40.290283",
     "status": "completed"
    },
    "tags": []
   },
   "source": [
    "## eMERGE (S-MultiXcan)"
   ]
  },
  {
   "cell_type": "code",
   "execution_count": 20,
   "id": "employed-utility",
   "metadata": {
    "execution": {
     "iopub.execute_input": "2021-07-14T21:50:40.363619Z",
     "iopub.status.busy": "2021-07-14T21:50:40.363244Z",
     "iopub.status.idle": "2021-07-14T21:50:40.375085Z",
     "shell.execute_reply": "2021-07-14T21:50:40.374730Z"
    },
    "papermill": {
     "duration": 0.037866,
     "end_time": "2021-07-14T21:50:40.375166",
     "exception": false,
     "start_time": "2021-07-14T21:50:40.337300",
     "status": "completed"
    },
    "tags": []
   },
   "outputs": [
    {
     "data": {
      "text/plain": [
       "PosixPath('/home/miltondp/projects/labs/greenelab/phenoplier/base/data/emerge/gene_assoc/emerge-smultixcan-mashr-zscores.pkl')"
      ]
     },
     "metadata": {},
     "output_type": "display_data"
    }
   ],
   "source": [
    "# FIXME: in the future, there will be a specific entry in config for the eMERGE directory that should be replaced here\n",
    "emerge_smultixcan_zscores_filepath = Path(\n",
    "    conf.DATA_DIR,\n",
    "    \"emerge\",\n",
    "    \"gene_assoc\",\n",
    "    \"emerge-smultixcan-mashr-zscores.pkl\",\n",
    ").resolve()\n",
    "\n",
    "display(emerge_smultixcan_zscores_filepath)"
   ]
  },
  {
   "cell_type": "code",
   "execution_count": 21,
   "id": "precious-georgia",
   "metadata": {
    "execution": {
     "iopub.execute_input": "2021-07-14T21:50:40.425439Z",
     "iopub.status.busy": "2021-07-14T21:50:40.425088Z",
     "iopub.status.idle": "2021-07-14T21:50:40.465550Z",
     "shell.execute_reply": "2021-07-14T21:50:40.465146Z"
    },
    "papermill": {
     "duration": 0.066474,
     "end_time": "2021-07-14T21:50:40.465657",
     "exception": false,
     "start_time": "2021-07-14T21:50:40.399183",
     "status": "completed"
    },
    "tags": []
   },
   "outputs": [],
   "source": [
    "_tmp = pd.read_pickle(emerge_smultixcan_zscores_filepath)"
   ]
  },
  {
   "cell_type": "code",
   "execution_count": 22,
   "id": "divided-radiation",
   "metadata": {
    "execution": {
     "iopub.execute_input": "2021-07-14T21:50:40.522695Z",
     "iopub.status.busy": "2021-07-14T21:50:40.522298Z",
     "iopub.status.idle": "2021-07-14T21:50:40.534169Z",
     "shell.execute_reply": "2021-07-14T21:50:40.534495Z"
    },
    "papermill": {
     "duration": 0.039906,
     "end_time": "2021-07-14T21:50:40.534607",
     "exception": false,
     "start_time": "2021-07-14T21:50:40.494701",
     "status": "completed"
    },
    "tags": []
   },
   "outputs": [
    {
     "data": {
      "text/plain": [
       "(22198, 309)"
      ]
     },
     "execution_count": 22,
     "metadata": {},
     "output_type": "execute_result"
    }
   ],
   "source": [
    "_tmp.shape"
   ]
  },
  {
   "cell_type": "code",
   "execution_count": 23,
   "id": "thirty-distance",
   "metadata": {
    "execution": {
     "iopub.execute_input": "2021-07-14T21:50:40.589399Z",
     "iopub.status.busy": "2021-07-14T21:50:40.589033Z",
     "iopub.status.idle": "2021-07-14T21:50:40.612263Z",
     "shell.execute_reply": "2021-07-14T21:50:40.611891Z"
    },
    "papermill": {
     "duration": 0.050211,
     "end_time": "2021-07-14T21:50:40.612351",
     "exception": false,
     "start_time": "2021-07-14T21:50:40.562140",
     "status": "completed"
    },
    "tags": []
   },
   "outputs": [
    {
     "data": {
      "text/html": [
       "<div>\n",
       "<style scoped>\n",
       "    .dataframe tbody tr th:only-of-type {\n",
       "        vertical-align: middle;\n",
       "    }\n",
       "\n",
       "    .dataframe tbody tr th {\n",
       "        vertical-align: top;\n",
       "    }\n",
       "\n",
       "    .dataframe thead th {\n",
       "        text-align: right;\n",
       "    }\n",
       "</style>\n",
       "<table border=\"1\" class=\"dataframe\">\n",
       "  <thead>\n",
       "    <tr style=\"text-align: right;\">\n",
       "      <th></th>\n",
       "      <th>292.3</th>\n",
       "      <th>079</th>\n",
       "      <th>741</th>\n",
       "      <th>418.1</th>\n",
       "      <th>280</th>\n",
       "      <th>747</th>\n",
       "      <th>591</th>\n",
       "      <th>426.21</th>\n",
       "      <th>244</th>\n",
       "      <th>070.3</th>\n",
       "      <th>...</th>\n",
       "      <th>427</th>\n",
       "      <th>585.4</th>\n",
       "      <th>345</th>\n",
       "      <th>366.2</th>\n",
       "      <th>420.2</th>\n",
       "      <th>195</th>\n",
       "      <th>250.2</th>\n",
       "      <th>250.1</th>\n",
       "      <th>371</th>\n",
       "      <th>562</th>\n",
       "    </tr>\n",
       "    <tr>\n",
       "      <th>gene_name</th>\n",
       "      <th></th>\n",
       "      <th></th>\n",
       "      <th></th>\n",
       "      <th></th>\n",
       "      <th></th>\n",
       "      <th></th>\n",
       "      <th></th>\n",
       "      <th></th>\n",
       "      <th></th>\n",
       "      <th></th>\n",
       "      <th></th>\n",
       "      <th></th>\n",
       "      <th></th>\n",
       "      <th></th>\n",
       "      <th></th>\n",
       "      <th></th>\n",
       "      <th></th>\n",
       "      <th></th>\n",
       "      <th></th>\n",
       "      <th></th>\n",
       "      <th></th>\n",
       "    </tr>\n",
       "  </thead>\n",
       "  <tbody>\n",
       "    <tr>\n",
       "      <th>ENSG00000000419</th>\n",
       "      <td>1.043436</td>\n",
       "      <td>1.134028</td>\n",
       "      <td>1.595979</td>\n",
       "      <td>0.399451</td>\n",
       "      <td>0.725100</td>\n",
       "      <td>1.655468</td>\n",
       "      <td>1.803598</td>\n",
       "      <td>0.125250</td>\n",
       "      <td>1.053218</td>\n",
       "      <td>0.922592</td>\n",
       "      <td>...</td>\n",
       "      <td>0.364789</td>\n",
       "      <td>0.453873</td>\n",
       "      <td>0.759558</td>\n",
       "      <td>1.173671</td>\n",
       "      <td>0.298944</td>\n",
       "      <td>1.029646</td>\n",
       "      <td>0.826238</td>\n",
       "      <td>0.685711</td>\n",
       "      <td>2.069701</td>\n",
       "      <td>1.544766</td>\n",
       "    </tr>\n",
       "    <tr>\n",
       "      <th>ENSG00000000457</th>\n",
       "      <td>1.236752</td>\n",
       "      <td>0.119837</td>\n",
       "      <td>0.224120</td>\n",
       "      <td>0.200610</td>\n",
       "      <td>1.304190</td>\n",
       "      <td>0.541478</td>\n",
       "      <td>0.646474</td>\n",
       "      <td>0.493759</td>\n",
       "      <td>0.189680</td>\n",
       "      <td>1.563273</td>\n",
       "      <td>...</td>\n",
       "      <td>1.519500</td>\n",
       "      <td>0.201290</td>\n",
       "      <td>1.020996</td>\n",
       "      <td>0.592006</td>\n",
       "      <td>0.632661</td>\n",
       "      <td>0.995453</td>\n",
       "      <td>0.069362</td>\n",
       "      <td>0.460979</td>\n",
       "      <td>0.217046</td>\n",
       "      <td>1.350475</td>\n",
       "    </tr>\n",
       "    <tr>\n",
       "      <th>ENSG00000000460</th>\n",
       "      <td>0.497108</td>\n",
       "      <td>0.005690</td>\n",
       "      <td>0.317710</td>\n",
       "      <td>0.184918</td>\n",
       "      <td>1.136574</td>\n",
       "      <td>1.708245</td>\n",
       "      <td>0.288962</td>\n",
       "      <td>1.070026</td>\n",
       "      <td>0.403510</td>\n",
       "      <td>1.106321</td>\n",
       "      <td>...</td>\n",
       "      <td>0.678253</td>\n",
       "      <td>1.166204</td>\n",
       "      <td>1.138126</td>\n",
       "      <td>0.608565</td>\n",
       "      <td>0.449551</td>\n",
       "      <td>0.096689</td>\n",
       "      <td>0.887467</td>\n",
       "      <td>0.143815</td>\n",
       "      <td>0.236647</td>\n",
       "      <td>1.048859</td>\n",
       "    </tr>\n",
       "    <tr>\n",
       "      <th>ENSG00000000938</th>\n",
       "      <td>0.374442</td>\n",
       "      <td>1.099899</td>\n",
       "      <td>1.975795</td>\n",
       "      <td>0.107667</td>\n",
       "      <td>0.903520</td>\n",
       "      <td>0.673819</td>\n",
       "      <td>0.855749</td>\n",
       "      <td>0.499088</td>\n",
       "      <td>0.375406</td>\n",
       "      <td>0.815757</td>\n",
       "      <td>...</td>\n",
       "      <td>1.585687</td>\n",
       "      <td>0.584143</td>\n",
       "      <td>0.751384</td>\n",
       "      <td>2.758230</td>\n",
       "      <td>0.572712</td>\n",
       "      <td>0.141023</td>\n",
       "      <td>1.437022</td>\n",
       "      <td>0.288943</td>\n",
       "      <td>0.665727</td>\n",
       "      <td>1.225229</td>\n",
       "    </tr>\n",
       "    <tr>\n",
       "      <th>ENSG00000000971</th>\n",
       "      <td>1.108762</td>\n",
       "      <td>1.133163</td>\n",
       "      <td>0.227188</td>\n",
       "      <td>0.222948</td>\n",
       "      <td>0.072709</td>\n",
       "      <td>0.256124</td>\n",
       "      <td>0.540911</td>\n",
       "      <td>0.606947</td>\n",
       "      <td>0.229133</td>\n",
       "      <td>1.557433</td>\n",
       "      <td>...</td>\n",
       "      <td>2.349373</td>\n",
       "      <td>1.122458</td>\n",
       "      <td>0.155346</td>\n",
       "      <td>0.990123</td>\n",
       "      <td>0.326914</td>\n",
       "      <td>1.100210</td>\n",
       "      <td>1.099537</td>\n",
       "      <td>2.511358</td>\n",
       "      <td>0.950262</td>\n",
       "      <td>1.467305</td>\n",
       "    </tr>\n",
       "  </tbody>\n",
       "</table>\n",
       "<p>5 rows × 309 columns</p>\n",
       "</div>"
      ],
      "text/plain": [
       "                    292.3       079       741     418.1       280       747  \\\n",
       "gene_name                                                                     \n",
       "ENSG00000000419  1.043436  1.134028  1.595979  0.399451  0.725100  1.655468   \n",
       "ENSG00000000457  1.236752  0.119837  0.224120  0.200610  1.304190  0.541478   \n",
       "ENSG00000000460  0.497108  0.005690  0.317710  0.184918  1.136574  1.708245   \n",
       "ENSG00000000938  0.374442  1.099899  1.975795  0.107667  0.903520  0.673819   \n",
       "ENSG00000000971  1.108762  1.133163  0.227188  0.222948  0.072709  0.256124   \n",
       "\n",
       "                      591    426.21       244     070.3  ...       427  \\\n",
       "gene_name                                                ...             \n",
       "ENSG00000000419  1.803598  0.125250  1.053218  0.922592  ...  0.364789   \n",
       "ENSG00000000457  0.646474  0.493759  0.189680  1.563273  ...  1.519500   \n",
       "ENSG00000000460  0.288962  1.070026  0.403510  1.106321  ...  0.678253   \n",
       "ENSG00000000938  0.855749  0.499088  0.375406  0.815757  ...  1.585687   \n",
       "ENSG00000000971  0.540911  0.606947  0.229133  1.557433  ...  2.349373   \n",
       "\n",
       "                    585.4       345     366.2     420.2       195     250.2  \\\n",
       "gene_name                                                                     \n",
       "ENSG00000000419  0.453873  0.759558  1.173671  0.298944  1.029646  0.826238   \n",
       "ENSG00000000457  0.201290  1.020996  0.592006  0.632661  0.995453  0.069362   \n",
       "ENSG00000000460  1.166204  1.138126  0.608565  0.449551  0.096689  0.887467   \n",
       "ENSG00000000938  0.584143  0.751384  2.758230  0.572712  0.141023  1.437022   \n",
       "ENSG00000000971  1.122458  0.155346  0.990123  0.326914  1.100210  1.099537   \n",
       "\n",
       "                    250.1       371       562  \n",
       "gene_name                                      \n",
       "ENSG00000000419  0.685711  2.069701  1.544766  \n",
       "ENSG00000000457  0.460979  0.217046  1.350475  \n",
       "ENSG00000000460  0.143815  0.236647  1.048859  \n",
       "ENSG00000000938  0.288943  0.665727  1.225229  \n",
       "ENSG00000000971  2.511358  0.950262  1.467305  \n",
       "\n",
       "[5 rows x 309 columns]"
      ]
     },
     "execution_count": 23,
     "metadata": {},
     "output_type": "execute_result"
    }
   ],
   "source": [
    "_tmp.head()"
   ]
  },
  {
   "cell_type": "markdown",
   "id": "boring-printing",
   "metadata": {
    "papermill": {
     "duration": 0.025213,
     "end_time": "2021-07-14T21:50:40.663131",
     "exception": false,
     "start_time": "2021-07-14T21:50:40.637918",
     "status": "completed"
    },
    "tags": []
   },
   "source": [
    "## GLS results on PhenomeXcan"
   ]
  },
  {
   "cell_type": "code",
   "execution_count": 24,
   "id": "initial-numbers",
   "metadata": {
    "execution": {
     "iopub.execute_input": "2021-07-14T21:50:40.714096Z",
     "iopub.status.busy": "2021-07-14T21:50:40.713739Z",
     "iopub.status.idle": "2021-07-14T21:50:40.725137Z",
     "shell.execute_reply": "2021-07-14T21:50:40.724745Z"
    },
    "papermill": {
     "duration": 0.037984,
     "end_time": "2021-07-14T21:50:40.725224",
     "exception": false,
     "start_time": "2021-07-14T21:50:40.687240",
     "status": "completed"
    },
    "tags": []
   },
   "outputs": [
    {
     "data": {
      "text/plain": [
       "PosixPath('/home/miltondp/projects/labs/greenelab/phenoplier/base/results/gls/gls_phenotypes-crispr_lvs-phenomexcan.pkl')"
      ]
     },
     "metadata": {},
     "output_type": "display_data"
    }
   ],
   "source": [
    "input_filepath = conf.RESULTS[\"GLS\"] / \"gls_phenotypes-crispr_lvs-phenomexcan.pkl\"\n",
    "display(input_filepath)"
   ]
  },
  {
   "cell_type": "code",
   "execution_count": 25,
   "id": "demographic-delivery",
   "metadata": {
    "execution": {
     "iopub.execute_input": "2021-07-14T21:50:40.777566Z",
     "iopub.status.busy": "2021-07-14T21:50:40.777197Z",
     "iopub.status.idle": "2021-07-14T21:50:41.847976Z",
     "shell.execute_reply": "2021-07-14T21:50:41.847577Z"
    },
    "papermill": {
     "duration": 1.097987,
     "end_time": "2021-07-14T21:50:41.848089",
     "exception": false,
     "start_time": "2021-07-14T21:50:40.750102",
     "status": "completed"
    },
    "tags": []
   },
   "outputs": [],
   "source": [
    "gls_phenomexcan_crispr = pd.read_pickle(input_filepath)"
   ]
  },
  {
   "cell_type": "code",
   "execution_count": 26,
   "id": "scheduled-taxation",
   "metadata": {
    "execution": {
     "iopub.execute_input": "2021-07-14T21:50:41.910953Z",
     "iopub.status.busy": "2021-07-14T21:50:41.910593Z",
     "iopub.status.idle": "2021-07-14T21:50:41.922138Z",
     "shell.execute_reply": "2021-07-14T21:50:41.922421Z"
    },
    "papermill": {
     "duration": 0.04191,
     "end_time": "2021-07-14T21:50:41.922529",
     "exception": false,
     "start_time": "2021-07-14T21:50:41.880619",
     "status": "completed"
    },
    "tags": []
   },
   "outputs": [
    {
     "data": {
      "text/plain": [
       "(2142, 10)"
      ]
     },
     "execution_count": 26,
     "metadata": {},
     "output_type": "execute_result"
    }
   ],
   "source": [
    "gls_phenomexcan_crispr.shape"
   ]
  },
  {
   "cell_type": "code",
   "execution_count": 27,
   "id": "recorded-thesis",
   "metadata": {
    "execution": {
     "iopub.execute_input": "2021-07-14T21:50:41.976516Z",
     "iopub.status.busy": "2021-07-14T21:50:41.976161Z",
     "iopub.status.idle": "2021-07-14T21:50:42.004461Z",
     "shell.execute_reply": "2021-07-14T21:50:42.004764Z"
    },
    "papermill": {
     "duration": 0.055805,
     "end_time": "2021-07-14T21:50:42.004867",
     "exception": false,
     "start_time": "2021-07-14T21:50:41.949062",
     "status": "completed"
    },
    "tags": []
   },
   "outputs": [
    {
     "data": {
      "text/html": [
       "<div>\n",
       "<style scoped>\n",
       "    .dataframe tbody tr th:only-of-type {\n",
       "        vertical-align: middle;\n",
       "    }\n",
       "\n",
       "    .dataframe tbody tr th {\n",
       "        vertical-align: top;\n",
       "    }\n",
       "\n",
       "    .dataframe thead th {\n",
       "        text-align: right;\n",
       "    }\n",
       "</style>\n",
       "<table border=\"1\" class=\"dataframe\">\n",
       "  <thead>\n",
       "    <tr style=\"text-align: right;\">\n",
       "      <th></th>\n",
       "      <th>part_k</th>\n",
       "      <th>cluster_id</th>\n",
       "      <th>phenotype</th>\n",
       "      <th>lv</th>\n",
       "      <th>lv_set</th>\n",
       "      <th>lv_with_pathway</th>\n",
       "      <th>coef</th>\n",
       "      <th>pvalue</th>\n",
       "      <th>pvalue_twosided</th>\n",
       "      <th>summary</th>\n",
       "    </tr>\n",
       "  </thead>\n",
       "  <tbody>\n",
       "    <tr>\n",
       "      <th>0</th>\n",
       "      <td>29</td>\n",
       "      <td>17</td>\n",
       "      <td>20003_1140861958-Treatmentmedication_code_simv...</td>\n",
       "      <td>LV120</td>\n",
       "      <td>lipids-increasing</td>\n",
       "      <td>False</td>\n",
       "      <td>0.011685</td>\n",
       "      <td>0.172618</td>\n",
       "      <td>0.345237</td>\n",
       "      <td>GLS Regression Res...</td>\n",
       "    </tr>\n",
       "    <tr>\n",
       "      <th>1</th>\n",
       "      <td>29</td>\n",
       "      <td>17</td>\n",
       "      <td>20003_1140861958-Treatmentmedication_code_simv...</td>\n",
       "      <td>LV122</td>\n",
       "      <td>lipids-increasing</td>\n",
       "      <td>False</td>\n",
       "      <td>-0.004370</td>\n",
       "      <td>0.638170</td>\n",
       "      <td>0.723659</td>\n",
       "      <td>GLS Regression Res...</td>\n",
       "    </tr>\n",
       "    <tr>\n",
       "      <th>2</th>\n",
       "      <td>29</td>\n",
       "      <td>17</td>\n",
       "      <td>20003_1140861958-Treatmentmedication_code_simv...</td>\n",
       "      <td>LV131</td>\n",
       "      <td>lipids-decreasing</td>\n",
       "      <td>False</td>\n",
       "      <td>-0.000511</td>\n",
       "      <td>0.516590</td>\n",
       "      <td>0.966819</td>\n",
       "      <td>GLS Regression Res...</td>\n",
       "    </tr>\n",
       "    <tr>\n",
       "      <th>3</th>\n",
       "      <td>29</td>\n",
       "      <td>17</td>\n",
       "      <td>20003_1140861958-Treatmentmedication_code_simv...</td>\n",
       "      <td>LV157</td>\n",
       "      <td>lipids-decreasing</td>\n",
       "      <td>False</td>\n",
       "      <td>0.010968</td>\n",
       "      <td>0.176044</td>\n",
       "      <td>0.352087</td>\n",
       "      <td>GLS Regression Res...</td>\n",
       "    </tr>\n",
       "    <tr>\n",
       "      <th>4</th>\n",
       "      <td>29</td>\n",
       "      <td>17</td>\n",
       "      <td>20003_1140861958-Treatmentmedication_code_simv...</td>\n",
       "      <td>LV199</td>\n",
       "      <td>lipids-decreasing</td>\n",
       "      <td>False</td>\n",
       "      <td>-0.009505</td>\n",
       "      <td>0.782400</td>\n",
       "      <td>0.435201</td>\n",
       "      <td>GLS Regression Res...</td>\n",
       "    </tr>\n",
       "  </tbody>\n",
       "</table>\n",
       "</div>"
      ],
      "text/plain": [
       "   part_k  cluster_id                                          phenotype  \\\n",
       "0      29          17  20003_1140861958-Treatmentmedication_code_simv...   \n",
       "1      29          17  20003_1140861958-Treatmentmedication_code_simv...   \n",
       "2      29          17  20003_1140861958-Treatmentmedication_code_simv...   \n",
       "3      29          17  20003_1140861958-Treatmentmedication_code_simv...   \n",
       "4      29          17  20003_1140861958-Treatmentmedication_code_simv...   \n",
       "\n",
       "      lv             lv_set  lv_with_pathway      coef    pvalue  \\\n",
       "0  LV120  lipids-increasing            False  0.011685  0.172618   \n",
       "1  LV122  lipids-increasing            False -0.004370  0.638170   \n",
       "2  LV131  lipids-decreasing            False -0.000511  0.516590   \n",
       "3  LV157  lipids-decreasing            False  0.010968  0.176044   \n",
       "4  LV199  lipids-decreasing            False -0.009505  0.782400   \n",
       "\n",
       "   pvalue_twosided                                            summary  \n",
       "0         0.345237                              GLS Regression Res...  \n",
       "1         0.723659                              GLS Regression Res...  \n",
       "2         0.966819                              GLS Regression Res...  \n",
       "3         0.352087                              GLS Regression Res...  \n",
       "4         0.435201                              GLS Regression Res...  "
      ]
     },
     "execution_count": 27,
     "metadata": {},
     "output_type": "execute_result"
    }
   ],
   "source": [
    "gls_phenomexcan_crispr.head()"
   ]
  },
  {
   "cell_type": "markdown",
   "id": "located-tactics",
   "metadata": {
    "papermill": {
     "duration": 0.024914,
     "end_time": "2021-07-14T21:50:42.055162",
     "exception": false,
     "start_time": "2021-07-14T21:50:42.030248",
     "status": "completed"
    },
    "tags": []
   },
   "source": [
    "# Select LV from previous GLS run on PhenomeXcan"
   ]
  },
  {
   "cell_type": "markdown",
   "id": "olive-coffee",
   "metadata": {
    "papermill": {
     "duration": 0.024877,
     "end_time": "2021-07-14T21:50:42.105701",
     "exception": false,
     "start_time": "2021-07-14T21:50:42.080824",
     "status": "completed"
    },
    "tags": []
   },
   "source": [
    "This selectes the LVs enriched for the lipids CRISPR anaysis."
   ]
  },
  {
   "cell_type": "code",
   "execution_count": 28,
   "id": "mobile-hearts",
   "metadata": {
    "execution": {
     "iopub.execute_input": "2021-07-14T21:50:42.158800Z",
     "iopub.status.busy": "2021-07-14T21:50:42.158433Z",
     "iopub.status.idle": "2021-07-14T21:50:42.171173Z",
     "shell.execute_reply": "2021-07-14T21:50:42.170801Z"
    },
    "papermill": {
     "duration": 0.040465,
     "end_time": "2021-07-14T21:50:42.171260",
     "exception": false,
     "start_time": "2021-07-14T21:50:42.130795",
     "status": "completed"
    },
    "tags": []
   },
   "outputs": [],
   "source": [
    "gls_phenomexcan_lvs = (\n",
    "    gls_phenomexcan_crispr[[\"lv\", \"lv_set\"]].drop_duplicates().reset_index(drop=True)\n",
    ")"
   ]
  },
  {
   "cell_type": "code",
   "execution_count": 29,
   "id": "played-skiing",
   "metadata": {
    "execution": {
     "iopub.execute_input": "2021-07-14T21:50:42.224722Z",
     "iopub.status.busy": "2021-07-14T21:50:42.224345Z",
     "iopub.status.idle": "2021-07-14T21:50:42.235874Z",
     "shell.execute_reply": "2021-07-14T21:50:42.235516Z"
    },
    "papermill": {
     "duration": 0.038778,
     "end_time": "2021-07-14T21:50:42.235956",
     "exception": false,
     "start_time": "2021-07-14T21:50:42.197178",
     "status": "completed"
    },
    "tags": []
   },
   "outputs": [
    {
     "data": {
      "text/plain": [
       "(51, 2)"
      ]
     },
     "execution_count": 29,
     "metadata": {},
     "output_type": "execute_result"
    }
   ],
   "source": [
    "gls_phenomexcan_lvs.shape"
   ]
  },
  {
   "cell_type": "code",
   "execution_count": 30,
   "id": "educational-lending",
   "metadata": {
    "execution": {
     "iopub.execute_input": "2021-07-14T21:50:42.315036Z",
     "iopub.status.busy": "2021-07-14T21:50:42.314582Z",
     "iopub.status.idle": "2021-07-14T21:50:42.330847Z",
     "shell.execute_reply": "2021-07-14T21:50:42.330387Z"
    },
    "papermill": {
     "duration": 0.063018,
     "end_time": "2021-07-14T21:50:42.330949",
     "exception": false,
     "start_time": "2021-07-14T21:50:42.267931",
     "status": "completed"
    },
    "tags": []
   },
   "outputs": [
    {
     "data": {
      "text/html": [
       "<div>\n",
       "<style scoped>\n",
       "    .dataframe tbody tr th:only-of-type {\n",
       "        vertical-align: middle;\n",
       "    }\n",
       "\n",
       "    .dataframe tbody tr th {\n",
       "        vertical-align: top;\n",
       "    }\n",
       "\n",
       "    .dataframe thead th {\n",
       "        text-align: right;\n",
       "    }\n",
       "</style>\n",
       "<table border=\"1\" class=\"dataframe\">\n",
       "  <thead>\n",
       "    <tr style=\"text-align: right;\">\n",
       "      <th></th>\n",
       "      <th>lv</th>\n",
       "      <th>lv_set</th>\n",
       "    </tr>\n",
       "  </thead>\n",
       "  <tbody>\n",
       "    <tr>\n",
       "      <th>0</th>\n",
       "      <td>LV120</td>\n",
       "      <td>lipids-increasing</td>\n",
       "    </tr>\n",
       "    <tr>\n",
       "      <th>1</th>\n",
       "      <td>LV122</td>\n",
       "      <td>lipids-increasing</td>\n",
       "    </tr>\n",
       "    <tr>\n",
       "      <th>2</th>\n",
       "      <td>LV131</td>\n",
       "      <td>lipids-decreasing</td>\n",
       "    </tr>\n",
       "    <tr>\n",
       "      <th>3</th>\n",
       "      <td>LV157</td>\n",
       "      <td>lipids-decreasing</td>\n",
       "    </tr>\n",
       "    <tr>\n",
       "      <th>4</th>\n",
       "      <td>LV199</td>\n",
       "      <td>lipids-decreasing</td>\n",
       "    </tr>\n",
       "  </tbody>\n",
       "</table>\n",
       "</div>"
      ],
      "text/plain": [
       "      lv             lv_set\n",
       "0  LV120  lipids-increasing\n",
       "1  LV122  lipids-increasing\n",
       "2  LV131  lipids-decreasing\n",
       "3  LV157  lipids-decreasing\n",
       "4  LV199  lipids-decreasing"
      ]
     },
     "execution_count": 30,
     "metadata": {},
     "output_type": "execute_result"
    }
   ],
   "source": [
    "gls_phenomexcan_lvs.head()"
   ]
  },
  {
   "cell_type": "markdown",
   "id": "alone-beverage",
   "metadata": {
    "papermill": {
     "duration": 0.025264,
     "end_time": "2021-07-14T21:50:42.388792",
     "exception": false,
     "start_time": "2021-07-14T21:50:42.363528",
     "status": "completed"
    },
    "tags": []
   },
   "source": [
    "# Select relevant traits from eMERGE"
   ]
  },
  {
   "cell_type": "markdown",
   "id": "conditional-singles",
   "metadata": {
    "papermill": {
     "duration": 0.026109,
     "end_time": "2021-07-14T21:50:42.440224",
     "exception": false,
     "start_time": "2021-07-14T21:50:42.414115",
     "status": "completed"
    },
    "tags": []
   },
   "source": [
    "Here we don't have partitions/cluters as with PhenomeXcan. So for this analysis (LVs related to lipids), I select relevant categories of traits from eMERGE (we have a \"category\" column for this results)."
   ]
  },
  {
   "cell_type": "code",
   "execution_count": 31,
   "id": "demanding-accordance",
   "metadata": {
    "execution": {
     "iopub.execute_input": "2021-07-14T21:50:42.499870Z",
     "iopub.status.busy": "2021-07-14T21:50:42.499506Z",
     "iopub.status.idle": "2021-07-14T21:50:42.511374Z",
     "shell.execute_reply": "2021-07-14T21:50:42.510991Z"
    },
    "papermill": {
     "duration": 0.041213,
     "end_time": "2021-07-14T21:50:42.511462",
     "exception": false,
     "start_time": "2021-07-14T21:50:42.470249",
     "status": "completed"
    },
    "tags": []
   },
   "outputs": [
    {
     "data": {
      "text/plain": [
       "array(['infectious diseases', 'neoplasms', 'endocrine/metabolic',\n",
       "       'hematopoietic', 'mental disorders', 'neurological',\n",
       "       'sense organs', 'circulatory system', 'respiratory', 'digestive',\n",
       "       'genitourinary', 'dermatologic', 'musculoskeletal',\n",
       "       'congenital anomalies'], dtype=object)"
      ]
     },
     "execution_count": 31,
     "metadata": {},
     "output_type": "execute_result"
    }
   ],
   "source": [
    "emerge_traits_df[\"phecode_category\"].unique()"
   ]
  },
  {
   "cell_type": "code",
   "execution_count": 32,
   "id": "undefined-tongue",
   "metadata": {
    "execution": {
     "iopub.execute_input": "2021-07-14T21:50:42.568871Z",
     "iopub.status.busy": "2021-07-14T21:50:42.568463Z",
     "iopub.status.idle": "2021-07-14T21:50:42.579622Z",
     "shell.execute_reply": "2021-07-14T21:50:42.579306Z"
    },
    "papermill": {
     "duration": 0.039968,
     "end_time": "2021-07-14T21:50:42.579714",
     "exception": false,
     "start_time": "2021-07-14T21:50:42.539746",
     "status": "completed"
    },
    "tags": []
   },
   "outputs": [],
   "source": [
    "gls_traits = emerge_traits_df[\n",
    "    emerge_traits_df[\"phecode_category\"].isin(\n",
    "        [\n",
    "            \"circulatory system\",\n",
    "            \"endocrine/metabolic\",\n",
    "        ]\n",
    "    )\n",
    "][\"phecode\"].unique()"
   ]
  },
  {
   "cell_type": "code",
   "execution_count": 33,
   "id": "together-episode",
   "metadata": {
    "execution": {
     "iopub.execute_input": "2021-07-14T21:50:42.634541Z",
     "iopub.status.busy": "2021-07-14T21:50:42.634184Z",
     "iopub.status.idle": "2021-07-14T21:50:42.645375Z",
     "shell.execute_reply": "2021-07-14T21:50:42.645652Z"
    },
    "papermill": {
     "duration": 0.039845,
     "end_time": "2021-07-14T21:50:42.645757",
     "exception": false,
     "start_time": "2021-07-14T21:50:42.605912",
     "status": "completed"
    },
    "tags": []
   },
   "outputs": [
    {
     "data": {
      "text/plain": [
       "(128,)"
      ]
     },
     "execution_count": 33,
     "metadata": {},
     "output_type": "execute_result"
    }
   ],
   "source": [
    "gls_traits.shape"
   ]
  },
  {
   "cell_type": "code",
   "execution_count": 34,
   "id": "dedicated-vancouver",
   "metadata": {
    "execution": {
     "iopub.execute_input": "2021-07-14T21:50:42.700794Z",
     "iopub.status.busy": "2021-07-14T21:50:42.700368Z",
     "iopub.status.idle": "2021-07-14T21:50:42.712097Z",
     "shell.execute_reply": "2021-07-14T21:50:42.711724Z"
    },
    "papermill": {
     "duration": 0.039741,
     "end_time": "2021-07-14T21:50:42.712182",
     "exception": false,
     "start_time": "2021-07-14T21:50:42.672441",
     "status": "completed"
    },
    "tags": []
   },
   "outputs": [
    {
     "data": {
      "text/plain": [
       "array(['241', '241.1', '241.2', '244', '244.2', '244.4', '249', '250',\n",
       "       '250.1', '250.2', '250.22', '250.24', '250.4', '250.41', '250.6',\n",
       "       '260', '260.2', '261', '261.4', '269', '270', '272', '272.1',\n",
       "       '272.11', '272.13', '274', '274.1', '274.11', '275', '275.3',\n",
       "       '275.5', '275.53', '276', '276.1', '276.12', '276.13', '276.14',\n",
       "       '276.4', '276.41', '276.5', '276.6', '277.7', '278', '278.1',\n",
       "       '278.11', '279', '394', '394.2', '394.7', '395', '395.1', '395.2',\n",
       "       '401', '401.1', '401.2', '401.21', '401.22', '411', '411.1',\n",
       "       '411.2', '411.3', '411.4', '411.8', '414', '415', '415.1',\n",
       "       '415.11', '415.2', '415.21', '416', '418', '418.1', '420', '420.2',\n",
       "       '420.3', '425', '425.1', '425.2', '426', '426.2', '426.21',\n",
       "       '426.24', '426.3', '426.31', '426.32', '427', '427.1', '427.11',\n",
       "       '427.12', '427.2', '427.21', '427.22', '427.4', '427.5', '427.6',\n",
       "       '427.8', '427.9', '428', '428.1', '428.2', '428.3', '428.4', '429',\n",
       "       '429.1', '429.2', '429.3', '433', '433.1', '433.2', '433.21',\n",
       "       '433.3', '433.31', '433.6', '440', '440.2', '440.22', '442.1',\n",
       "       '442.11', '443', '443.9', '444', '452', '452.2', '454', '455',\n",
       "       '456', '458', '458.9'], dtype=object)"
      ]
     },
     "execution_count": 34,
     "metadata": {},
     "output_type": "execute_result"
    }
   ],
   "source": [
    "gls_traits"
   ]
  },
  {
   "cell_type": "markdown",
   "id": "instant-bennett",
   "metadata": {
    "papermill": {
     "duration": 0.026184,
     "end_time": "2021-07-14T21:50:42.765733",
     "exception": false,
     "start_time": "2021-07-14T21:50:42.739549",
     "status": "completed"
    },
    "tags": []
   },
   "source": [
    "# GLSPhenoplier"
   ]
  },
  {
   "cell_type": "markdown",
   "id": "preceding-wallpaper",
   "metadata": {
    "papermill": {
     "duration": 0.025858,
     "end_time": "2021-07-14T21:50:42.818090",
     "exception": false,
     "start_time": "2021-07-14T21:50:42.792232",
     "status": "completed"
    },
    "tags": []
   },
   "source": [
    "## Get list of phenotypes/lvs pairs"
   ]
  },
  {
   "cell_type": "code",
   "execution_count": 35,
   "id": "wrong-pasta",
   "metadata": {
    "execution": {
     "iopub.execute_input": "2021-07-14T21:50:42.873559Z",
     "iopub.status.busy": "2021-07-14T21:50:42.873176Z",
     "iopub.status.idle": "2021-07-14T21:50:42.925073Z",
     "shell.execute_reply": "2021-07-14T21:50:42.924625Z"
    },
    "papermill": {
     "duration": 0.081054,
     "end_time": "2021-07-14T21:50:42.925158",
     "exception": false,
     "start_time": "2021-07-14T21:50:42.844104",
     "status": "completed"
    },
    "tags": []
   },
   "outputs": [],
   "source": [
    "phenotypes_lvs_pairs = []\n",
    "\n",
    "for idx, lv_row in gls_phenomexcan_lvs.iterrows():\n",
    "    for phenotype_code in gls_traits:\n",
    "        phenotypes_lvs_pairs.append(\n",
    "            {\n",
    "                \"phenotype\": phenotype_code,\n",
    "                \"lv\": lv_row[\"lv\"],\n",
    "                \"lv_set\": lv_row[\"lv_set\"],\n",
    "            }\n",
    "        )\n",
    "\n",
    "phenotypes_lvs_pairs = pd.DataFrame(phenotypes_lvs_pairs).drop_duplicates()"
   ]
  },
  {
   "cell_type": "code",
   "execution_count": 36,
   "id": "extended-wallpaper",
   "metadata": {
    "execution": {
     "iopub.execute_input": "2021-07-14T21:50:42.980816Z",
     "iopub.status.busy": "2021-07-14T21:50:42.980388Z",
     "iopub.status.idle": "2021-07-14T21:50:42.993869Z",
     "shell.execute_reply": "2021-07-14T21:50:42.993499Z"
    },
    "papermill": {
     "duration": 0.042466,
     "end_time": "2021-07-14T21:50:42.993956",
     "exception": false,
     "start_time": "2021-07-14T21:50:42.951490",
     "status": "completed"
    },
    "tags": []
   },
   "outputs": [],
   "source": [
    "phenotypes_lvs_pairs = phenotypes_lvs_pairs.sort_values(\"phenotype\").reset_index(\n",
    "    drop=True\n",
    ")"
   ]
  },
  {
   "cell_type": "code",
   "execution_count": 37,
   "id": "behind-minister",
   "metadata": {
    "execution": {
     "iopub.execute_input": "2021-07-14T21:50:43.049623Z",
     "iopub.status.busy": "2021-07-14T21:50:43.049250Z",
     "iopub.status.idle": "2021-07-14T21:50:43.060833Z",
     "shell.execute_reply": "2021-07-14T21:50:43.060422Z"
    },
    "papermill": {
     "duration": 0.039962,
     "end_time": "2021-07-14T21:50:43.060919",
     "exception": false,
     "start_time": "2021-07-14T21:50:43.020957",
     "status": "completed"
    },
    "tags": []
   },
   "outputs": [
    {
     "data": {
      "text/plain": [
       "(6528, 3)"
      ]
     },
     "execution_count": 37,
     "metadata": {},
     "output_type": "execute_result"
    }
   ],
   "source": [
    "phenotypes_lvs_pairs.shape"
   ]
  },
  {
   "cell_type": "code",
   "execution_count": 38,
   "id": "opponent-sense",
   "metadata": {
    "execution": {
     "iopub.execute_input": "2021-07-14T21:50:43.116543Z",
     "iopub.status.busy": "2021-07-14T21:50:43.116158Z",
     "iopub.status.idle": "2021-07-14T21:50:43.129970Z",
     "shell.execute_reply": "2021-07-14T21:50:43.130248Z"
    },
    "papermill": {
     "duration": 0.042645,
     "end_time": "2021-07-14T21:50:43.130355",
     "exception": false,
     "start_time": "2021-07-14T21:50:43.087710",
     "status": "completed"
    },
    "tags": []
   },
   "outputs": [
    {
     "data": {
      "text/html": [
       "<div>\n",
       "<style scoped>\n",
       "    .dataframe tbody tr th:only-of-type {\n",
       "        vertical-align: middle;\n",
       "    }\n",
       "\n",
       "    .dataframe tbody tr th {\n",
       "        vertical-align: top;\n",
       "    }\n",
       "\n",
       "    .dataframe thead th {\n",
       "        text-align: right;\n",
       "    }\n",
       "</style>\n",
       "<table border=\"1\" class=\"dataframe\">\n",
       "  <thead>\n",
       "    <tr style=\"text-align: right;\">\n",
       "      <th></th>\n",
       "      <th>phenotype</th>\n",
       "      <th>lv</th>\n",
       "      <th>lv_set</th>\n",
       "    </tr>\n",
       "  </thead>\n",
       "  <tbody>\n",
       "    <tr>\n",
       "      <th>0</th>\n",
       "      <td>241</td>\n",
       "      <td>LV120</td>\n",
       "      <td>lipids-increasing</td>\n",
       "    </tr>\n",
       "    <tr>\n",
       "      <th>1</th>\n",
       "      <td>241</td>\n",
       "      <td>LV783</td>\n",
       "      <td>lipids-decreasing</td>\n",
       "    </tr>\n",
       "    <tr>\n",
       "      <th>2</th>\n",
       "      <td>241</td>\n",
       "      <td>LV621</td>\n",
       "      <td>lipids-increasing</td>\n",
       "    </tr>\n",
       "    <tr>\n",
       "      <th>3</th>\n",
       "      <td>241</td>\n",
       "      <td>LV494</td>\n",
       "      <td>lipids-increasing</td>\n",
       "    </tr>\n",
       "    <tr>\n",
       "      <th>4</th>\n",
       "      <td>241</td>\n",
       "      <td>LV246</td>\n",
       "      <td>lipids-increasing</td>\n",
       "    </tr>\n",
       "  </tbody>\n",
       "</table>\n",
       "</div>"
      ],
      "text/plain": [
       "  phenotype     lv             lv_set\n",
       "0       241  LV120  lipids-increasing\n",
       "1       241  LV783  lipids-decreasing\n",
       "2       241  LV621  lipids-increasing\n",
       "3       241  LV494  lipids-increasing\n",
       "4       241  LV246  lipids-increasing"
      ]
     },
     "execution_count": 38,
     "metadata": {},
     "output_type": "execute_result"
    }
   ],
   "source": [
    "phenotypes_lvs_pairs.head()"
   ]
  },
  {
   "cell_type": "markdown",
   "id": "protected-fellow",
   "metadata": {
    "papermill": {
     "duration": 0.026489,
     "end_time": "2021-07-14T21:50:43.183819",
     "exception": false,
     "start_time": "2021-07-14T21:50:43.157330",
     "status": "completed"
    },
    "tags": []
   },
   "source": [
    "## Run"
   ]
  },
  {
   "cell_type": "code",
   "execution_count": 39,
   "id": "everyday-nirvana",
   "metadata": {
    "execution": {
     "iopub.execute_input": "2021-07-14T21:50:43.240401Z",
     "iopub.status.busy": "2021-07-14T21:50:43.240019Z",
     "iopub.status.idle": "2021-07-15T14:43:25.095212Z",
     "shell.execute_reply": "2021-07-15T14:43:25.094298Z"
    },
    "papermill": {
     "duration": 60761.885468,
     "end_time": "2021-07-15T14:43:25.095307",
     "exception": false,
     "start_time": "2021-07-14T21:50:43.209839",
     "status": "completed"
    },
    "tags": []
   },
   "outputs": [
    {
     "name": "stderr",
     "output_type": "stream",
     "text": [
      "458.9 - LV99: 100%|██████████| 6528/6528 [16:52:39<00:00,  9.31s/it]\n"
     ]
    }
   ],
   "source": [
    "results = []\n",
    "\n",
    "pbar = tqdm(total=phenotypes_lvs_pairs.shape[0])\n",
    "\n",
    "for idx, row in phenotypes_lvs_pairs.iterrows():\n",
    "    phenotype_code = row[\"phenotype\"]\n",
    "    lv_code = row[\"lv\"]\n",
    "\n",
    "    pbar.set_description(f\"{phenotype_code} - {lv_code}\")\n",
    "\n",
    "    gls_model = GLSPhenoplier(\n",
    "        smultixcan_result_set_filepath=emerge_smultixcan_zscores_filepath\n",
    "    )\n",
    "    gls_model.fit_named(lv_code, phenotype_code)\n",
    "    res = gls_model.results\n",
    "\n",
    "    results.append(\n",
    "        {\n",
    "            \"phenotype\": phenotype_code,\n",
    "            \"lv\": lv_code,\n",
    "            \"lv_set\": row[\"lv_set\"],\n",
    "            \"lv_with_pathway\": lv_code in well_aligned_lv_codes,\n",
    "            \"coef\": res.params.loc[\"lv\"],\n",
    "            \"pvalue\": res.pvalues_onesided.loc[\"lv\"],\n",
    "            \"pvalue_twosided\": res.pvalues.loc[\"lv\"],\n",
    "            \"summary\": gls_model.results_summary,\n",
    "        }\n",
    "    )\n",
    "\n",
    "    # save results every 10 models trained\n",
    "    if (idx % 10) == 0:\n",
    "        pd.DataFrame(results).to_pickle(OUTPUT_FILENAME)\n",
    "\n",
    "    pbar.update(1)\n",
    "\n",
    "pbar.close()"
   ]
  },
  {
   "cell_type": "code",
   "execution_count": 40,
   "id": "falling-kitty",
   "metadata": {
    "execution": {
     "iopub.execute_input": "2021-07-15T14:43:29.166100Z",
     "iopub.status.busy": "2021-07-15T14:43:29.165670Z",
     "iopub.status.idle": "2021-07-15T14:43:29.193466Z",
     "shell.execute_reply": "2021-07-15T14:43:29.193083Z"
    },
    "papermill": {
     "duration": 2.055276,
     "end_time": "2021-07-15T14:43:29.193575",
     "exception": false,
     "start_time": "2021-07-15T14:43:27.138299",
     "status": "completed"
    },
    "tags": []
   },
   "outputs": [],
   "source": [
    "results = pd.DataFrame(results)"
   ]
  },
  {
   "cell_type": "code",
   "execution_count": 41,
   "id": "green-publisher",
   "metadata": {
    "execution": {
     "iopub.execute_input": "2021-07-15T14:43:33.261363Z",
     "iopub.status.busy": "2021-07-15T14:43:33.260956Z",
     "iopub.status.idle": "2021-07-15T14:43:33.273745Z",
     "shell.execute_reply": "2021-07-15T14:43:33.273317Z"
    },
    "papermill": {
     "duration": 2.0455,
     "end_time": "2021-07-15T14:43:33.273838",
     "exception": false,
     "start_time": "2021-07-15T14:43:31.228338",
     "status": "completed"
    },
    "tags": []
   },
   "outputs": [
    {
     "data": {
      "text/plain": [
       "(6528, 8)"
      ]
     },
     "execution_count": 41,
     "metadata": {},
     "output_type": "execute_result"
    }
   ],
   "source": [
    "results.shape"
   ]
  },
  {
   "cell_type": "code",
   "execution_count": 42,
   "id": "champion-hollow",
   "metadata": {
    "execution": {
     "iopub.execute_input": "2021-07-15T14:43:37.463444Z",
     "iopub.status.busy": "2021-07-15T14:43:37.463021Z",
     "iopub.status.idle": "2021-07-15T14:43:37.499563Z",
     "shell.execute_reply": "2021-07-15T14:43:37.499844Z"
    },
    "papermill": {
     "duration": 2.058426,
     "end_time": "2021-07-15T14:43:37.499955",
     "exception": false,
     "start_time": "2021-07-15T14:43:35.441529",
     "status": "completed"
    },
    "tags": []
   },
   "outputs": [
    {
     "data": {
      "text/html": [
       "<div>\n",
       "<style scoped>\n",
       "    .dataframe tbody tr th:only-of-type {\n",
       "        vertical-align: middle;\n",
       "    }\n",
       "\n",
       "    .dataframe tbody tr th {\n",
       "        vertical-align: top;\n",
       "    }\n",
       "\n",
       "    .dataframe thead th {\n",
       "        text-align: right;\n",
       "    }\n",
       "</style>\n",
       "<table border=\"1\" class=\"dataframe\">\n",
       "  <thead>\n",
       "    <tr style=\"text-align: right;\">\n",
       "      <th></th>\n",
       "      <th>phenotype</th>\n",
       "      <th>lv</th>\n",
       "      <th>lv_set</th>\n",
       "      <th>lv_with_pathway</th>\n",
       "      <th>coef</th>\n",
       "      <th>pvalue</th>\n",
       "      <th>pvalue_twosided</th>\n",
       "      <th>summary</th>\n",
       "    </tr>\n",
       "  </thead>\n",
       "  <tbody>\n",
       "    <tr>\n",
       "      <th>0</th>\n",
       "      <td>241</td>\n",
       "      <td>LV120</td>\n",
       "      <td>lipids-increasing</td>\n",
       "      <td>False</td>\n",
       "      <td>0.021088</td>\n",
       "      <td>0.045483</td>\n",
       "      <td>0.090966</td>\n",
       "      <td>GLS Regression Res...</td>\n",
       "    </tr>\n",
       "    <tr>\n",
       "      <th>1</th>\n",
       "      <td>241</td>\n",
       "      <td>LV783</td>\n",
       "      <td>lipids-decreasing</td>\n",
       "      <td>False</td>\n",
       "      <td>-0.022565</td>\n",
       "      <td>0.963477</td>\n",
       "      <td>0.073047</td>\n",
       "      <td>GLS Regression Res...</td>\n",
       "    </tr>\n",
       "    <tr>\n",
       "      <th>2</th>\n",
       "      <td>241</td>\n",
       "      <td>LV621</td>\n",
       "      <td>lipids-increasing</td>\n",
       "      <td>False</td>\n",
       "      <td>-0.017751</td>\n",
       "      <td>0.916641</td>\n",
       "      <td>0.166719</td>\n",
       "      <td>GLS Regression Res...</td>\n",
       "    </tr>\n",
       "    <tr>\n",
       "      <th>3</th>\n",
       "      <td>241</td>\n",
       "      <td>LV494</td>\n",
       "      <td>lipids-increasing</td>\n",
       "      <td>False</td>\n",
       "      <td>0.027091</td>\n",
       "      <td>0.014735</td>\n",
       "      <td>0.029469</td>\n",
       "      <td>GLS Regression Res...</td>\n",
       "    </tr>\n",
       "    <tr>\n",
       "      <th>4</th>\n",
       "      <td>241</td>\n",
       "      <td>LV246</td>\n",
       "      <td>lipids-increasing</td>\n",
       "      <td>True</td>\n",
       "      <td>0.004652</td>\n",
       "      <td>0.355387</td>\n",
       "      <td>0.710773</td>\n",
       "      <td>GLS Regression Res...</td>\n",
       "    </tr>\n",
       "  </tbody>\n",
       "</table>\n",
       "</div>"
      ],
      "text/plain": [
       "  phenotype     lv             lv_set  lv_with_pathway      coef    pvalue  \\\n",
       "0       241  LV120  lipids-increasing            False  0.021088  0.045483   \n",
       "1       241  LV783  lipids-decreasing            False -0.022565  0.963477   \n",
       "2       241  LV621  lipids-increasing            False -0.017751  0.916641   \n",
       "3       241  LV494  lipids-increasing            False  0.027091  0.014735   \n",
       "4       241  LV246  lipids-increasing             True  0.004652  0.355387   \n",
       "\n",
       "   pvalue_twosided                                            summary  \n",
       "0         0.090966                              GLS Regression Res...  \n",
       "1         0.073047                              GLS Regression Res...  \n",
       "2         0.166719                              GLS Regression Res...  \n",
       "3         0.029469                              GLS Regression Res...  \n",
       "4         0.710773                              GLS Regression Res...  "
      ]
     },
     "execution_count": 42,
     "metadata": {},
     "output_type": "execute_result"
    }
   ],
   "source": [
    "results.head()"
   ]
  },
  {
   "cell_type": "code",
   "execution_count": 43,
   "id": "distinguished-physiology",
   "metadata": {
    "execution": {
     "iopub.execute_input": "2021-07-15T14:43:41.591617Z",
     "iopub.status.busy": "2021-07-15T14:43:41.591207Z",
     "iopub.status.idle": "2021-07-15T14:43:41.646629Z",
     "shell.execute_reply": "2021-07-15T14:43:41.646237Z"
    },
    "papermill": {
     "duration": 2.102895,
     "end_time": "2021-07-15T14:43:41.646721",
     "exception": false,
     "start_time": "2021-07-15T14:43:39.543826",
     "status": "completed"
    },
    "tags": []
   },
   "outputs": [
    {
     "data": {
      "text/html": [
       "<div>\n",
       "<style scoped>\n",
       "    .dataframe tbody tr th:only-of-type {\n",
       "        vertical-align: middle;\n",
       "    }\n",
       "\n",
       "    .dataframe tbody tr th {\n",
       "        vertical-align: top;\n",
       "    }\n",
       "\n",
       "    .dataframe thead th {\n",
       "        text-align: right;\n",
       "    }\n",
       "</style>\n",
       "<table border=\"1\" class=\"dataframe\">\n",
       "  <thead>\n",
       "    <tr style=\"text-align: right;\">\n",
       "      <th></th>\n",
       "      <th>phenotype</th>\n",
       "      <th>lv</th>\n",
       "      <th>lv_set</th>\n",
       "      <th>lv_with_pathway</th>\n",
       "      <th>coef</th>\n",
       "      <th>pvalue</th>\n",
       "      <th>pvalue_twosided</th>\n",
       "      <th>summary</th>\n",
       "    </tr>\n",
       "  </thead>\n",
       "  <tbody>\n",
       "    <tr>\n",
       "      <th>1947</th>\n",
       "      <td>276.41</td>\n",
       "      <td>LV246</td>\n",
       "      <td>lipids-increasing</td>\n",
       "      <td>True</td>\n",
       "      <td>0.054395</td>\n",
       "      <td>0.000008</td>\n",
       "      <td>0.000016</td>\n",
       "      <td>GLS Regression Res...</td>\n",
       "    </tr>\n",
       "    <tr>\n",
       "      <th>3008</th>\n",
       "      <td>411.1</td>\n",
       "      <td>LV157</td>\n",
       "      <td>lipids-decreasing</td>\n",
       "      <td>False</td>\n",
       "      <td>0.050759</td>\n",
       "      <td>0.000010</td>\n",
       "      <td>0.000021</td>\n",
       "      <td>GLS Regression Res...</td>\n",
       "    </tr>\n",
       "    <tr>\n",
       "      <th>1903</th>\n",
       "      <td>276.4</td>\n",
       "      <td>LV246</td>\n",
       "      <td>lipids-increasing</td>\n",
       "      <td>True</td>\n",
       "      <td>0.053259</td>\n",
       "      <td>0.000012</td>\n",
       "      <td>0.000024</td>\n",
       "      <td>GLS Regression Res...</td>\n",
       "    </tr>\n",
       "    <tr>\n",
       "      <th>4123</th>\n",
       "      <td>426.21</td>\n",
       "      <td>LV199</td>\n",
       "      <td>lipids-decreasing</td>\n",
       "      <td>False</td>\n",
       "      <td>0.048702</td>\n",
       "      <td>0.000039</td>\n",
       "      <td>0.000079</td>\n",
       "      <td>GLS Regression Res...</td>\n",
       "    </tr>\n",
       "    <tr>\n",
       "      <th>2653</th>\n",
       "      <td>401</td>\n",
       "      <td>LV157</td>\n",
       "      <td>lipids-decreasing</td>\n",
       "      <td>False</td>\n",
       "      <td>0.046407</td>\n",
       "      <td>0.000059</td>\n",
       "      <td>0.000118</td>\n",
       "      <td>GLS Regression Res...</td>\n",
       "    </tr>\n",
       "    <tr>\n",
       "      <th>2561</th>\n",
       "      <td>395.1</td>\n",
       "      <td>LV621</td>\n",
       "      <td>lipids-increasing</td>\n",
       "      <td>False</td>\n",
       "      <td>0.048892</td>\n",
       "      <td>0.000065</td>\n",
       "      <td>0.000131</td>\n",
       "      <td>GLS Regression Res...</td>\n",
       "    </tr>\n",
       "    <tr>\n",
       "      <th>530</th>\n",
       "      <td>250.22</td>\n",
       "      <td>LV415</td>\n",
       "      <td>lipids-increasing</td>\n",
       "      <td>False</td>\n",
       "      <td>0.046220</td>\n",
       "      <td>0.000081</td>\n",
       "      <td>0.000162</td>\n",
       "      <td>GLS Regression Res...</td>\n",
       "    </tr>\n",
       "    <tr>\n",
       "      <th>1519</th>\n",
       "      <td>275.3</td>\n",
       "      <td>LV678</td>\n",
       "      <td>lipids-decreasing</td>\n",
       "      <td>True</td>\n",
       "      <td>0.045819</td>\n",
       "      <td>0.000084</td>\n",
       "      <td>0.000168</td>\n",
       "      <td>GLS Regression Res...</td>\n",
       "    </tr>\n",
       "    <tr>\n",
       "      <th>2733</th>\n",
       "      <td>401.1</td>\n",
       "      <td>LV157</td>\n",
       "      <td>lipids-decreasing</td>\n",
       "      <td>False</td>\n",
       "      <td>0.045354</td>\n",
       "      <td>0.000086</td>\n",
       "      <td>0.000172</td>\n",
       "      <td>GLS Regression Res...</td>\n",
       "    </tr>\n",
       "    <tr>\n",
       "      <th>5351</th>\n",
       "      <td>429.2</td>\n",
       "      <td>LV469</td>\n",
       "      <td>lipids-decreasing</td>\n",
       "      <td>False</td>\n",
       "      <td>0.044753</td>\n",
       "      <td>0.000089</td>\n",
       "      <td>0.000179</td>\n",
       "      <td>GLS Regression Res...</td>\n",
       "    </tr>\n",
       "  </tbody>\n",
       "</table>\n",
       "</div>"
      ],
      "text/plain": [
       "     phenotype     lv             lv_set  lv_with_pathway      coef    pvalue  \\\n",
       "1947    276.41  LV246  lipids-increasing             True  0.054395  0.000008   \n",
       "3008     411.1  LV157  lipids-decreasing            False  0.050759  0.000010   \n",
       "1903     276.4  LV246  lipids-increasing             True  0.053259  0.000012   \n",
       "4123    426.21  LV199  lipids-decreasing            False  0.048702  0.000039   \n",
       "2653       401  LV157  lipids-decreasing            False  0.046407  0.000059   \n",
       "2561     395.1  LV621  lipids-increasing            False  0.048892  0.000065   \n",
       "530     250.22  LV415  lipids-increasing            False  0.046220  0.000081   \n",
       "1519     275.3  LV678  lipids-decreasing             True  0.045819  0.000084   \n",
       "2733     401.1  LV157  lipids-decreasing            False  0.045354  0.000086   \n",
       "5351     429.2  LV469  lipids-decreasing            False  0.044753  0.000089   \n",
       "\n",
       "      pvalue_twosided                                            summary  \n",
       "1947         0.000016                              GLS Regression Res...  \n",
       "3008         0.000021                              GLS Regression Res...  \n",
       "1903         0.000024                              GLS Regression Res...  \n",
       "4123         0.000079                              GLS Regression Res...  \n",
       "2653         0.000118                              GLS Regression Res...  \n",
       "2561         0.000131                              GLS Regression Res...  \n",
       "530          0.000162                              GLS Regression Res...  \n",
       "1519         0.000168                              GLS Regression Res...  \n",
       "2733         0.000172                              GLS Regression Res...  \n",
       "5351         0.000179                              GLS Regression Res...  "
      ]
     },
     "execution_count": 43,
     "metadata": {},
     "output_type": "execute_result"
    }
   ],
   "source": [
    "results.sort_values(\"pvalue\").head(10)"
   ]
  },
  {
   "cell_type": "markdown",
   "id": "opened-evening",
   "metadata": {
    "papermill": {
     "duration": 2.062499,
     "end_time": "2021-07-15T14:43:45.769091",
     "exception": false,
     "start_time": "2021-07-15T14:43:43.706592",
     "status": "completed"
    },
    "tags": []
   },
   "source": [
    "## Save"
   ]
  },
  {
   "cell_type": "code",
   "execution_count": 44,
   "id": "impossible-control",
   "metadata": {
    "execution": {
     "iopub.execute_input": "2021-07-15T14:43:49.979374Z",
     "iopub.status.busy": "2021-07-15T14:43:49.978962Z",
     "iopub.status.idle": "2021-07-15T14:43:51.979275Z",
     "shell.execute_reply": "2021-07-15T14:43:51.977976Z"
    },
    "papermill": {
     "duration": 4.041088,
     "end_time": "2021-07-15T14:43:51.979607",
     "exception": false,
     "start_time": "2021-07-15T14:43:47.938519",
     "status": "completed"
    },
    "tags": []
   },
   "outputs": [],
   "source": [
    "results.to_pickle(OUTPUT_FILENAME)"
   ]
  },
  {
   "cell_type": "code",
   "execution_count": null,
   "id": "introductory-colleague",
   "metadata": {
    "papermill": {
     "duration": 2.030273,
     "end_time": "2021-07-15T14:43:56.096586",
     "exception": false,
     "start_time": "2021-07-15T14:43:54.066313",
     "status": "completed"
    },
    "tags": []
   },
   "outputs": [],
   "source": []
  }
 ],
 "metadata": {
  "jupytext": {
   "cell_metadata_filter": "all,-execution,-papermill,-trusted",
   "formats": "ipynb,py//py:percent"
  },
  "kernelspec": {
   "display_name": "Python 3",
   "language": "python",
   "name": "python3"
  },
  "language_info": {
   "codemirror_mode": {
    "name": "ipython",
    "version": 3
   },
   "file_extension": ".py",
   "mimetype": "text/x-python",
   "name": "python",
   "nbconvert_exporter": "python",
   "pygments_lexer": "ipython3",
   "version": "3.8.8"
  },
  "papermill": {
   "default_parameters": {},
   "duration": 60803.674925,
   "end_time": "2021-07-15T14:44:00.755256",
   "environment_variables": {},
   "exception": null,
   "input_path": "08_gsa_gls/45-gls_on_lipids_lvs-emerge.ipynb",
   "output_path": "08_gsa_gls/45-gls_on_lipids_lvs-emerge.run.ipynb",
   "parameters": {},
   "start_time": "2021-07-14T21:50:37.080331",
   "version": "2.2.2"
  }
 },
 "nbformat": 4,
 "nbformat_minor": 5
}
