{
 "cells": [
  {
   "cell_type": "markdown",
   "id": "headed-cleaners",
   "metadata": {
    "papermill": {
     "duration": 0.022408,
     "end_time": "2021-07-16T18:10:19.729248",
     "exception": false,
     "start_time": "2021-07-16T18:10:19.706840",
     "status": "completed"
    },
    "tags": []
   },
   "source": [
    "# Description"
   ]
  },
  {
   "cell_type": "markdown",
   "id": "intense-remainder",
   "metadata": {
    "papermill": {
     "duration": 0.019142,
     "end_time": "2021-07-16T18:10:19.768890",
     "exception": false,
     "start_time": "2021-07-16T18:10:19.749748",
     "status": "completed"
    },
    "tags": []
   },
   "source": [
    "This notebook is similar to `40` (using LVs that we found to be significantly enriched for the lipids CRISPR analysis), but traits here are from eMERGE."
   ]
  },
  {
   "cell_type": "markdown",
   "id": "nearby-formation",
   "metadata": {
    "papermill": {
     "duration": 0.018506,
     "end_time": "2021-07-16T18:10:19.806149",
     "exception": false,
     "start_time": "2021-07-16T18:10:19.787643",
     "status": "completed"
    },
    "tags": []
   },
   "source": [
    "# Environment variables"
   ]
  },
  {
   "cell_type": "code",
   "execution_count": 1,
   "id": "developing-nepal",
   "metadata": {
    "papermill": {
     "duration": 0.03192,
     "end_time": "2021-07-16T18:10:19.856850",
     "exception": false,
     "start_time": "2021-07-16T18:10:19.824930",
     "status": "completed"
    },
    "tags": []
   },
   "outputs": [],
   "source": [
    "%load_ext autoreload\n",
    "%autoreload 2"
   ]
  },
  {
   "cell_type": "code",
   "execution_count": 2,
   "id": "auburn-bennett",
   "metadata": {
    "papermill": {
     "duration": 0.030794,
     "end_time": "2021-07-16T18:10:19.906955",
     "exception": false,
     "start_time": "2021-07-16T18:10:19.876161",
     "status": "completed"
    },
    "tags": []
   },
   "outputs": [],
   "source": [
    "import conf"
   ]
  },
  {
   "cell_type": "code",
   "execution_count": 3,
   "id": "impossible-movement",
   "metadata": {
    "papermill": {
     "duration": 0.032864,
     "end_time": "2021-07-16T18:10:19.960575",
     "exception": false,
     "start_time": "2021-07-16T18:10:19.927711",
     "status": "completed"
    },
    "tags": []
   },
   "outputs": [
    {
     "data": {
      "text/plain": [
       "4"
      ]
     },
     "metadata": {},
     "output_type": "display_data"
    }
   ],
   "source": [
    "N_JOBS = conf.GENERAL[\"N_JOBS\"]\n",
    "display(N_JOBS)"
   ]
  },
  {
   "cell_type": "code",
   "execution_count": 4,
   "id": "neural-american",
   "metadata": {
    "papermill": {
     "duration": 0.029533,
     "end_time": "2021-07-16T18:10:20.010436",
     "exception": false,
     "start_time": "2021-07-16T18:10:19.980903",
     "status": "completed"
    },
    "tags": []
   },
   "outputs": [
    {
     "name": "stdout",
     "output_type": "stream",
     "text": [
      "env: MKL_NUM_THREADS=4\n",
      "env: OPEN_BLAS_NUM_THREADS=4\n",
      "env: NUMEXPR_NUM_THREADS=4\n",
      "env: OMP_NUM_THREADS=4\n"
     ]
    }
   ],
   "source": [
    "%env MKL_NUM_THREADS=$N_JOBS\n",
    "%env OPEN_BLAS_NUM_THREADS=$N_JOBS\n",
    "%env NUMEXPR_NUM_THREADS=$N_JOBS\n",
    "%env OMP_NUM_THREADS=$N_JOBS"
   ]
  },
  {
   "cell_type": "markdown",
   "id": "falling-police",
   "metadata": {
    "papermill": {
     "duration": 0.01978,
     "end_time": "2021-07-16T18:10:20.050899",
     "exception": false,
     "start_time": "2021-07-16T18:10:20.031119",
     "status": "completed"
    },
    "tags": []
   },
   "source": [
    "# Modules"
   ]
  },
  {
   "cell_type": "code",
   "execution_count": 5,
   "id": "future-america",
   "metadata": {
    "papermill": {
     "duration": 0.780348,
     "end_time": "2021-07-16T18:10:20.851285",
     "exception": false,
     "start_time": "2021-07-16T18:10:20.070937",
     "status": "completed"
    },
    "tags": []
   },
   "outputs": [],
   "source": [
    "from pathlib import Path\n",
    "\n",
    "import pandas as pd\n",
    "from tqdm import tqdm\n",
    "\n",
    "from gls import GLSPhenoplier"
   ]
  },
  {
   "cell_type": "markdown",
   "id": "processed-smooth",
   "metadata": {
    "papermill": {
     "duration": 0.020484,
     "end_time": "2021-07-16T18:10:20.893908",
     "exception": false,
     "start_time": "2021-07-16T18:10:20.873424",
     "status": "completed"
    },
    "tags": []
   },
   "source": [
    "# Settings"
   ]
  },
  {
   "cell_type": "code",
   "execution_count": 6,
   "id": "municipal-principle",
   "metadata": {
    "papermill": {
     "duration": 0.03843,
     "end_time": "2021-07-14T04:11:23.213725",
     "exception": false,
     "start_time": "2021-07-14T04:11:23.175295",
     "status": "completed"
    },
    "tags": []
   },
   "outputs": [],
   "source": [
    "N_TOP_TRAITS_FROM_LV = 20"
   ]
  },
  {
   "cell_type": "code",
   "execution_count": 7,
   "id": "established-somewhere",
   "metadata": {
    "papermill": {
     "duration": 0.034782,
     "end_time": "2021-07-16T18:10:20.948156",
     "exception": false,
     "start_time": "2021-07-16T18:10:20.913374",
     "status": "completed"
    },
    "tags": []
   },
   "outputs": [
    {
     "data": {
      "text/plain": [
       "PosixPath('/home/miltondp/projects/labs/greenelab/phenoplier/bases_data/base_orig/results/gls')"
      ]
     },
     "metadata": {},
     "output_type": "display_data"
    }
   ],
   "source": [
    "OUTPUT_DIR = conf.RESULTS[\"GLS\"]\n",
    "display(OUTPUT_DIR)\n",
    "\n",
    "OUTPUT_DIR.mkdir(exist_ok=True, parents=True)"
   ]
  },
  {
   "cell_type": "code",
   "execution_count": 8,
   "id": "realistic-string",
   "metadata": {
    "papermill": {
     "duration": 0.033196,
     "end_time": "2021-07-16T18:10:21.004171",
     "exception": false,
     "start_time": "2021-07-16T18:10:20.970975",
     "status": "completed"
    },
    "tags": []
   },
   "outputs": [
    {
     "data": {
      "text/plain": [
       "PosixPath('/home/miltondp/projects/labs/greenelab/phenoplier/bases_data/base_orig/results/gls/gls_phenotypes-crispr_lvs-emerge.pkl')"
      ]
     },
     "metadata": {},
     "output_type": "display_data"
    }
   ],
   "source": [
    "OUTPUT_FILENAME = OUTPUT_DIR / \"gls_phenotypes-crispr_lvs-emerge.pkl\"\n",
    "display(OUTPUT_FILENAME)"
   ]
  },
  {
   "cell_type": "markdown",
   "id": "minimal-equipment",
   "metadata": {
    "papermill": {
     "duration": 0.02061,
     "end_time": "2021-07-16T18:10:21.046238",
     "exception": false,
     "start_time": "2021-07-16T18:10:21.025628",
     "status": "completed"
    },
    "tags": []
   },
   "source": [
    "# Load data"
   ]
  },
  {
   "cell_type": "markdown",
   "id": "played-repeat",
   "metadata": {
    "papermill": {
     "duration": 0.020052,
     "end_time": "2021-07-16T18:10:21.086935",
     "exception": false,
     "start_time": "2021-07-16T18:10:21.066883",
     "status": "completed"
    },
    "tags": []
   },
   "source": [
    "## MultiPLIER summary"
   ]
  },
  {
   "cell_type": "code",
   "execution_count": 9,
   "id": "durable-playing",
   "metadata": {
    "papermill": {
     "duration": 0.034384,
     "end_time": "2021-07-16T18:10:21.141968",
     "exception": false,
     "start_time": "2021-07-16T18:10:21.107584",
     "status": "completed"
    },
    "tags": []
   },
   "outputs": [],
   "source": [
    "multiplier_model_summary = pd.read_pickle(conf.MULTIPLIER[\"MODEL_SUMMARY_FILE\"])"
   ]
  },
  {
   "cell_type": "code",
   "execution_count": 10,
   "id": "addressed-beverage",
   "metadata": {
    "papermill": {
     "duration": 0.033864,
     "end_time": "2021-07-16T18:10:21.196922",
     "exception": false,
     "start_time": "2021-07-16T18:10:21.163058",
     "status": "completed"
    },
    "tags": []
   },
   "outputs": [
    {
     "data": {
      "text/plain": [
       "(2157, 5)"
      ]
     },
     "execution_count": 10,
     "metadata": {},
     "output_type": "execute_result"
    }
   ],
   "source": [
    "multiplier_model_summary.shape"
   ]
  },
  {
   "cell_type": "code",
   "execution_count": 11,
   "id": "processed-huntington",
   "metadata": {
    "papermill": {
     "duration": 0.038687,
     "end_time": "2021-07-16T18:10:21.256480",
     "exception": false,
     "start_time": "2021-07-16T18:10:21.217793",
     "status": "completed"
    },
    "tags": []
   },
   "outputs": [
    {
     "data": {
      "text/html": [
       "<div>\n",
       "<style scoped>\n",
       "    .dataframe tbody tr th:only-of-type {\n",
       "        vertical-align: middle;\n",
       "    }\n",
       "\n",
       "    .dataframe tbody tr th {\n",
       "        vertical-align: top;\n",
       "    }\n",
       "\n",
       "    .dataframe thead th {\n",
       "        text-align: right;\n",
       "    }\n",
       "</style>\n",
       "<table border=\"1\" class=\"dataframe\">\n",
       "  <thead>\n",
       "    <tr style=\"text-align: right;\">\n",
       "      <th></th>\n",
       "      <th>pathway</th>\n",
       "      <th>LV index</th>\n",
       "      <th>AUC</th>\n",
       "      <th>p-value</th>\n",
       "      <th>FDR</th>\n",
       "    </tr>\n",
       "  </thead>\n",
       "  <tbody>\n",
       "    <tr>\n",
       "      <th>1</th>\n",
       "      <td>KEGG_LYSINE_DEGRADATION</td>\n",
       "      <td>1</td>\n",
       "      <td>0.388059</td>\n",
       "      <td>0.866078</td>\n",
       "      <td>0.956005</td>\n",
       "    </tr>\n",
       "    <tr>\n",
       "      <th>2</th>\n",
       "      <td>REACTOME_MRNA_SPLICING</td>\n",
       "      <td>1</td>\n",
       "      <td>0.733057</td>\n",
       "      <td>0.000048</td>\n",
       "      <td>0.000582</td>\n",
       "    </tr>\n",
       "    <tr>\n",
       "      <th>3</th>\n",
       "      <td>MIPS_NOP56P_ASSOCIATED_PRE_RRNA_COMPLEX</td>\n",
       "      <td>1</td>\n",
       "      <td>0.680555</td>\n",
       "      <td>0.001628</td>\n",
       "      <td>0.011366</td>\n",
       "    </tr>\n",
       "    <tr>\n",
       "      <th>4</th>\n",
       "      <td>KEGG_DNA_REPLICATION</td>\n",
       "      <td>1</td>\n",
       "      <td>0.549473</td>\n",
       "      <td>0.312155</td>\n",
       "      <td>0.539951</td>\n",
       "    </tr>\n",
       "    <tr>\n",
       "      <th>5</th>\n",
       "      <td>PID_MYC_ACTIVPATHWAY</td>\n",
       "      <td>1</td>\n",
       "      <td>0.639303</td>\n",
       "      <td>0.021702</td>\n",
       "      <td>0.083739</td>\n",
       "    </tr>\n",
       "  </tbody>\n",
       "</table>\n",
       "</div>"
      ],
      "text/plain": [
       "                                   pathway LV index       AUC   p-value  \\\n",
       "1                  KEGG_LYSINE_DEGRADATION        1  0.388059  0.866078   \n",
       "2                   REACTOME_MRNA_SPLICING        1  0.733057  0.000048   \n",
       "3  MIPS_NOP56P_ASSOCIATED_PRE_RRNA_COMPLEX        1  0.680555  0.001628   \n",
       "4                     KEGG_DNA_REPLICATION        1  0.549473  0.312155   \n",
       "5                     PID_MYC_ACTIVPATHWAY        1  0.639303  0.021702   \n",
       "\n",
       "        FDR  \n",
       "1  0.956005  \n",
       "2  0.000582  \n",
       "3  0.011366  \n",
       "4  0.539951  \n",
       "5  0.083739  "
      ]
     },
     "execution_count": 11,
     "metadata": {},
     "output_type": "execute_result"
    }
   ],
   "source": [
    "multiplier_model_summary.head()"
   ]
  },
  {
   "cell_type": "code",
   "execution_count": 12,
   "id": "ranking-jackson",
   "metadata": {
    "papermill": {
     "duration": 0.042332,
     "end_time": "2021-07-16T18:10:21.320123",
     "exception": false,
     "start_time": "2021-07-16T18:10:21.277791",
     "status": "completed"
    },
    "tags": []
   },
   "outputs": [
    {
     "data": {
      "text/plain": [
       "(469, 5)"
      ]
     },
     "metadata": {},
     "output_type": "display_data"
    },
    {
     "data": {
      "text/html": [
       "<div>\n",
       "<style scoped>\n",
       "    .dataframe tbody tr th:only-of-type {\n",
       "        vertical-align: middle;\n",
       "    }\n",
       "\n",
       "    .dataframe tbody tr th {\n",
       "        vertical-align: top;\n",
       "    }\n",
       "\n",
       "    .dataframe thead th {\n",
       "        text-align: right;\n",
       "    }\n",
       "</style>\n",
       "<table border=\"1\" class=\"dataframe\">\n",
       "  <thead>\n",
       "    <tr style=\"text-align: right;\">\n",
       "      <th></th>\n",
       "      <th>pathway</th>\n",
       "      <th>LV index</th>\n",
       "      <th>AUC</th>\n",
       "      <th>p-value</th>\n",
       "      <th>FDR</th>\n",
       "    </tr>\n",
       "  </thead>\n",
       "  <tbody>\n",
       "    <tr>\n",
       "      <th>2</th>\n",
       "      <td>REACTOME_MRNA_SPLICING</td>\n",
       "      <td>1</td>\n",
       "      <td>0.733057</td>\n",
       "      <td>4.772691e-05</td>\n",
       "      <td>5.816211e-04</td>\n",
       "    </tr>\n",
       "    <tr>\n",
       "      <th>3</th>\n",
       "      <td>MIPS_NOP56P_ASSOCIATED_PRE_RRNA_COMPLEX</td>\n",
       "      <td>1</td>\n",
       "      <td>0.680555</td>\n",
       "      <td>1.628217e-03</td>\n",
       "      <td>1.136590e-02</td>\n",
       "    </tr>\n",
       "    <tr>\n",
       "      <th>8</th>\n",
       "      <td>REACTOME_MITOTIC_G1_G1_S_PHASES</td>\n",
       "      <td>1</td>\n",
       "      <td>0.686170</td>\n",
       "      <td>2.517619e-04</td>\n",
       "      <td>2.392292e-03</td>\n",
       "    </tr>\n",
       "    <tr>\n",
       "      <th>9</th>\n",
       "      <td>IRIS_Monocyte-Day0</td>\n",
       "      <td>2</td>\n",
       "      <td>0.890036</td>\n",
       "      <td>4.315812e-25</td>\n",
       "      <td>1.329887e-22</td>\n",
       "    </tr>\n",
       "    <tr>\n",
       "      <th>10</th>\n",
       "      <td>DMAP_MONO2</td>\n",
       "      <td>2</td>\n",
       "      <td>0.904676</td>\n",
       "      <td>1.313970e-16</td>\n",
       "      <td>1.574574e-14</td>\n",
       "    </tr>\n",
       "  </tbody>\n",
       "</table>\n",
       "</div>"
      ],
      "text/plain": [
       "                                    pathway LV index       AUC       p-value  \\\n",
       "2                    REACTOME_MRNA_SPLICING        1  0.733057  4.772691e-05   \n",
       "3   MIPS_NOP56P_ASSOCIATED_PRE_RRNA_COMPLEX        1  0.680555  1.628217e-03   \n",
       "8           REACTOME_MITOTIC_G1_G1_S_PHASES        1  0.686170  2.517619e-04   \n",
       "9                        IRIS_Monocyte-Day0        2  0.890036  4.315812e-25   \n",
       "10                               DMAP_MONO2        2  0.904676  1.313970e-16   \n",
       "\n",
       "             FDR  \n",
       "2   5.816211e-04  \n",
       "3   1.136590e-02  \n",
       "8   2.392292e-03  \n",
       "9   1.329887e-22  \n",
       "10  1.574574e-14  "
      ]
     },
     "metadata": {},
     "output_type": "display_data"
    }
   ],
   "source": [
    "well_aligned_lvs = multiplier_model_summary[\n",
    "    (multiplier_model_summary[\"FDR\"] < 0.05) | (multiplier_model_summary[\"AUC\"] >= 0.75)\n",
    "]\n",
    "\n",
    "display(well_aligned_lvs.shape)\n",
    "display(well_aligned_lvs.head())"
   ]
  },
  {
   "cell_type": "code",
   "execution_count": 13,
   "id": "incomplete-hello",
   "metadata": {
    "papermill": {
     "duration": 0.034639,
     "end_time": "2021-07-16T18:10:21.376749",
     "exception": false,
     "start_time": "2021-07-16T18:10:21.342110",
     "status": "completed"
    },
    "tags": []
   },
   "outputs": [],
   "source": [
    "well_aligned_lv_codes = set([f\"LV{lvi}\" for lvi in well_aligned_lvs[\"LV index\"]])"
   ]
  },
  {
   "cell_type": "code",
   "execution_count": 14,
   "id": "ignored-visitor",
   "metadata": {
    "papermill": {
     "duration": 0.03498,
     "end_time": "2021-07-16T18:10:21.433417",
     "exception": false,
     "start_time": "2021-07-16T18:10:21.398437",
     "status": "completed"
    },
    "tags": []
   },
   "outputs": [
    {
     "data": {
      "text/plain": [
       "200"
      ]
     },
     "execution_count": 14,
     "metadata": {},
     "output_type": "execute_result"
    }
   ],
   "source": [
    "len(well_aligned_lv_codes)"
   ]
  },
  {
   "cell_type": "code",
   "execution_count": 15,
   "id": "synthetic-frost",
   "metadata": {
    "papermill": {
     "duration": 0.035442,
     "end_time": "2021-07-16T18:10:21.491041",
     "exception": false,
     "start_time": "2021-07-16T18:10:21.455599",
     "status": "completed"
    },
    "tags": []
   },
   "outputs": [
    {
     "data": {
      "text/plain": [
       "['LV649', 'LV57', 'LV937', 'LV249', 'LV11']"
      ]
     },
     "execution_count": 15,
     "metadata": {},
     "output_type": "execute_result"
    }
   ],
   "source": [
    "list(well_aligned_lv_codes)[:5]"
   ]
  },
  {
   "cell_type": "markdown",
   "id": "clear-individual",
   "metadata": {
    "papermill": {
     "duration": 0.021574,
     "end_time": "2021-07-16T18:10:21.534508",
     "exception": false,
     "start_time": "2021-07-16T18:10:21.512934",
     "status": "completed"
    },
    "tags": []
   },
   "source": [
    "## eMERGE traits info"
   ]
  },
  {
   "cell_type": "code",
   "execution_count": 16,
   "id": "earlier-mountain",
   "metadata": {
    "papermill": {
     "duration": 0.035427,
     "end_time": "2021-07-16T18:10:21.591461",
     "exception": false,
     "start_time": "2021-07-16T18:10:21.556034",
     "status": "completed"
    },
    "tags": []
   },
   "outputs": [
    {
     "data": {
      "text/plain": [
       "PosixPath('/home/miltondp/projects/labs/greenelab/phenoplier/bases_data/base_orig/data/emerge/eMERGE_III_PMBB_GSA_v2_2020_phecode_AFR_EUR_cc50_counts_w_dictionary.txt')"
      ]
     },
     "metadata": {},
     "output_type": "display_data"
    }
   ],
   "source": [
    "# FIXME: in the future, there will be a specific entry in config for the eMERGE directory that should be replaced here\n",
    "input_filepath = Path(\n",
    "    conf.DATA_DIR,\n",
    "    \"emerge\",\n",
    "    \"eMERGE_III_PMBB_GSA_v2_2020_phecode_AFR_EUR_cc50_counts_w_dictionary.txt\",\n",
    ").resolve()\n",
    "display(input_filepath)"
   ]
  },
  {
   "cell_type": "code",
   "execution_count": 17,
   "id": "polyphonic-lambda",
   "metadata": {
    "papermill": {
     "duration": 0.04104,
     "end_time": "2021-07-16T18:10:21.657991",
     "exception": false,
     "start_time": "2021-07-16T18:10:21.616951",
     "status": "completed"
    },
    "tags": []
   },
   "outputs": [],
   "source": [
    "emerge_traits_df = pd.read_csv(\n",
    "    input_filepath,\n",
    "    sep=\"\\t\",\n",
    "    dtype={\"phecode\": str},\n",
    "    usecols=[\"phecode\", \"phenotype\", \"category\"],\n",
    ")"
   ]
  },
  {
   "cell_type": "code",
   "execution_count": 18,
   "id": "living-surveillance",
   "metadata": {
    "papermill": {
     "duration": 0.035273,
     "end_time": "2021-07-16T18:10:21.718645",
     "exception": false,
     "start_time": "2021-07-16T18:10:21.683372",
     "status": "completed"
    },
    "tags": []
   },
   "outputs": [],
   "source": [
    "emerge_traits_df = emerge_traits_df.rename(\n",
    "    columns={\n",
    "        \"phenotype\": \"phecode_phenotype\",\n",
    "        \"category\": \"phecode_category\",\n",
    "    }\n",
    ")"
   ]
  },
  {
   "cell_type": "code",
   "execution_count": 19,
   "id": "delayed-boxing",
   "metadata": {
    "papermill": {
     "duration": 0.03608,
     "end_time": "2021-07-16T18:10:21.777613",
     "exception": false,
     "start_time": "2021-07-16T18:10:21.741533",
     "status": "completed"
    },
    "tags": []
   },
   "outputs": [
    {
     "data": {
      "text/plain": [
       "(309, 3)"
      ]
     },
     "execution_count": 19,
     "metadata": {},
     "output_type": "execute_result"
    }
   ],
   "source": [
    "emerge_traits_df.shape"
   ]
  },
  {
   "cell_type": "code",
   "execution_count": 20,
   "id": "extreme-watch",
   "metadata": {
    "papermill": {
     "duration": 0.038558,
     "end_time": "2021-07-16T18:10:21.838719",
     "exception": false,
     "start_time": "2021-07-16T18:10:21.800161",
     "status": "completed"
    },
    "tags": []
   },
   "outputs": [
    {
     "data": {
      "text/html": [
       "<div>\n",
       "<style scoped>\n",
       "    .dataframe tbody tr th:only-of-type {\n",
       "        vertical-align: middle;\n",
       "    }\n",
       "\n",
       "    .dataframe tbody tr th {\n",
       "        vertical-align: top;\n",
       "    }\n",
       "\n",
       "    .dataframe thead th {\n",
       "        text-align: right;\n",
       "    }\n",
       "</style>\n",
       "<table border=\"1\" class=\"dataframe\">\n",
       "  <thead>\n",
       "    <tr style=\"text-align: right;\">\n",
       "      <th></th>\n",
       "      <th>phecode</th>\n",
       "      <th>phecode_phenotype</th>\n",
       "      <th>phecode_category</th>\n",
       "    </tr>\n",
       "  </thead>\n",
       "  <tbody>\n",
       "    <tr>\n",
       "      <th>0</th>\n",
       "      <td>008</td>\n",
       "      <td>Intestinal infection</td>\n",
       "      <td>infectious diseases</td>\n",
       "    </tr>\n",
       "    <tr>\n",
       "      <th>1</th>\n",
       "      <td>008.5</td>\n",
       "      <td>Bacterial enteritis</td>\n",
       "      <td>infectious diseases</td>\n",
       "    </tr>\n",
       "    <tr>\n",
       "      <th>2</th>\n",
       "      <td>008.52</td>\n",
       "      <td>Intestinal infection due to C. difficile</td>\n",
       "      <td>infectious diseases</td>\n",
       "    </tr>\n",
       "    <tr>\n",
       "      <th>3</th>\n",
       "      <td>038</td>\n",
       "      <td>Septicemia</td>\n",
       "      <td>infectious diseases</td>\n",
       "    </tr>\n",
       "    <tr>\n",
       "      <th>4</th>\n",
       "      <td>038.3</td>\n",
       "      <td>Bacteremia</td>\n",
       "      <td>infectious diseases</td>\n",
       "    </tr>\n",
       "  </tbody>\n",
       "</table>\n",
       "</div>"
      ],
      "text/plain": [
       "  phecode                         phecode_phenotype     phecode_category\n",
       "0     008                      Intestinal infection  infectious diseases\n",
       "1   008.5                       Bacterial enteritis  infectious diseases\n",
       "2  008.52  Intestinal infection due to C. difficile  infectious diseases\n",
       "3     038                                Septicemia  infectious diseases\n",
       "4   038.3                                Bacteremia  infectious diseases"
      ]
     },
     "execution_count": 20,
     "metadata": {},
     "output_type": "execute_result"
    }
   ],
   "source": [
    "emerge_traits_df.head()"
   ]
  },
  {
   "cell_type": "markdown",
   "id": "loose-armstrong",
   "metadata": {},
   "source": [
    "## eMERGE (S-MultiXcan)"
   ]
  },
  {
   "cell_type": "code",
   "execution_count": null,
   "id": "frozen-thermal",
   "metadata": {},
   "outputs": [],
   "source": [
    "# FIXME: in the future, there will be a specific entry in config for the eMERGE directory that should be replaced here\n",
    "emerge_smultixcan_zscores_filepath = Path(\n",
    "    conf.DATA_DIR,\n",
    "    \"emerge\",\n",
    "    \"gene_assoc\",\n",
    "    \"emerge-smultixcan-mashr-zscores.pkl\",\n",
    ").resolve()\n",
    "\n",
    "display(emerge_smultixcan_zscores_filepath)"
   ]
  },
  {
   "cell_type": "code",
   "execution_count": null,
   "id": "extraordinary-profession",
   "metadata": {},
   "outputs": [],
   "source": [
    "_tmp = pd.read_pickle(emerge_smultixcan_zscores_filepath)"
   ]
  },
  {
   "cell_type": "code",
   "execution_count": null,
   "id": "younger-kenya",
   "metadata": {},
   "outputs": [],
   "source": [
    "_tmp.shape"
   ]
  },
  {
   "cell_type": "code",
   "execution_count": null,
   "id": "certified-reset",
   "metadata": {},
   "outputs": [],
   "source": [
    "_tmp.head()"
   ]
  },
  {
   "cell_type": "markdown",
   "id": "commercial-memphis",
   "metadata": {
    "papermill": {
     "duration": 0.027239,
     "end_time": "2021-07-14T04:11:24.267531",
     "exception": false,
     "start_time": "2021-07-14T04:11:24.240292",
     "status": "completed"
    },
    "tags": []
   },
   "source": [
    "## eMERGE (S-MultiXcan) projection"
   ]
  },
  {
   "cell_type": "code",
   "execution_count": 25,
   "id": "artificial-protest",
   "metadata": {
    "papermill": {
     "duration": 0.042012,
     "end_time": "2021-07-14T04:11:24.337101",
     "exception": false,
     "start_time": "2021-07-14T04:11:24.295089",
     "status": "completed"
    },
    "tags": []
   },
   "outputs": [
    {
     "data": {
      "text/plain": [
       "PosixPath('/home/miltondp/projects/labs/greenelab/phenoplier/bases_data/base_orig/results/projections/projection-emerge-smultixcan-mashr-zscores.pkl')"
      ]
     },
     "metadata": {},
     "output_type": "display_data"
    }
   ],
   "source": [
    "input_filepath = Path(\n",
    "    conf.RESULTS[\"PROJECTIONS_DIR\"],\n",
    "    \"projection-emerge-smultixcan-mashr-zscores.pkl\",\n",
    ").resolve()\n",
    "display(input_filepath)"
   ]
  },
  {
   "cell_type": "code",
   "execution_count": 26,
   "id": "defined-photograph",
   "metadata": {
    "papermill": {
     "duration": 0.042544,
     "end_time": "2021-07-14T04:11:24.408936",
     "exception": false,
     "start_time": "2021-07-14T04:11:24.366392",
     "status": "completed"
    },
    "tags": []
   },
   "outputs": [],
   "source": [
    "emerge_projection = pd.read_pickle(input_filepath)"
   ]
  },
  {
   "cell_type": "code",
   "execution_count": 27,
   "id": "earned-voltage",
   "metadata": {
    "papermill": {
     "duration": 0.042038,
     "end_time": "2021-07-14T04:11:24.481101",
     "exception": false,
     "start_time": "2021-07-14T04:11:24.439063",
     "status": "completed"
    },
    "tags": []
   },
   "outputs": [
    {
     "data": {
      "text/plain": [
       "(987, 309)"
      ]
     },
     "execution_count": 27,
     "metadata": {},
     "output_type": "execute_result"
    }
   ],
   "source": [
    "emerge_projection.shape"
   ]
  },
  {
   "cell_type": "code",
   "execution_count": 28,
   "id": "stone-fundamental",
   "metadata": {
    "papermill": {
     "duration": 0.053094,
     "end_time": "2021-07-14T04:11:24.563779",
     "exception": false,
     "start_time": "2021-07-14T04:11:24.510685",
     "status": "completed"
    },
    "tags": []
   },
   "outputs": [
    {
     "data": {
      "text/html": [
       "<div>\n",
       "<style scoped>\n",
       "    .dataframe tbody tr th:only-of-type {\n",
       "        vertical-align: middle;\n",
       "    }\n",
       "\n",
       "    .dataframe tbody tr th {\n",
       "        vertical-align: top;\n",
       "    }\n",
       "\n",
       "    .dataframe thead th {\n",
       "        text-align: right;\n",
       "    }\n",
       "</style>\n",
       "<table border=\"1\" class=\"dataframe\">\n",
       "  <thead>\n",
       "    <tr style=\"text-align: right;\">\n",
       "      <th></th>\n",
       "      <th>292.3</th>\n",
       "      <th>079</th>\n",
       "      <th>741</th>\n",
       "      <th>418.1</th>\n",
       "      <th>280</th>\n",
       "      <th>747</th>\n",
       "      <th>591</th>\n",
       "      <th>426.21</th>\n",
       "      <th>244</th>\n",
       "      <th>070.3</th>\n",
       "      <th>...</th>\n",
       "      <th>427</th>\n",
       "      <th>585.4</th>\n",
       "      <th>345</th>\n",
       "      <th>366.2</th>\n",
       "      <th>420.2</th>\n",
       "      <th>195</th>\n",
       "      <th>250.2</th>\n",
       "      <th>250.1</th>\n",
       "      <th>371</th>\n",
       "      <th>562</th>\n",
       "    </tr>\n",
       "  </thead>\n",
       "  <tbody>\n",
       "    <tr>\n",
       "      <th>LV1</th>\n",
       "      <td>0.055748</td>\n",
       "      <td>-0.019274</td>\n",
       "      <td>0.024491</td>\n",
       "      <td>0.012926</td>\n",
       "      <td>-0.026501</td>\n",
       "      <td>-0.043919</td>\n",
       "      <td>0.025264</td>\n",
       "      <td>-0.053251</td>\n",
       "      <td>0.043269</td>\n",
       "      <td>0.002465</td>\n",
       "      <td>...</td>\n",
       "      <td>-0.031739</td>\n",
       "      <td>0.014192</td>\n",
       "      <td>0.008710</td>\n",
       "      <td>-0.024261</td>\n",
       "      <td>-0.004780</td>\n",
       "      <td>0.057256</td>\n",
       "      <td>0.059702</td>\n",
       "      <td>0.036648</td>\n",
       "      <td>-0.022040</td>\n",
       "      <td>0.034427</td>\n",
       "    </tr>\n",
       "    <tr>\n",
       "      <th>LV2</th>\n",
       "      <td>-0.045630</td>\n",
       "      <td>-0.008570</td>\n",
       "      <td>0.040969</td>\n",
       "      <td>-0.016198</td>\n",
       "      <td>-0.032321</td>\n",
       "      <td>-0.017629</td>\n",
       "      <td>0.009238</td>\n",
       "      <td>-0.011634</td>\n",
       "      <td>-0.005854</td>\n",
       "      <td>0.033497</td>\n",
       "      <td>...</td>\n",
       "      <td>0.019678</td>\n",
       "      <td>0.040569</td>\n",
       "      <td>-0.009344</td>\n",
       "      <td>-0.012921</td>\n",
       "      <td>-0.055292</td>\n",
       "      <td>0.003193</td>\n",
       "      <td>0.013844</td>\n",
       "      <td>0.008327</td>\n",
       "      <td>0.004302</td>\n",
       "      <td>0.035154</td>\n",
       "    </tr>\n",
       "    <tr>\n",
       "      <th>LV3</th>\n",
       "      <td>0.025341</td>\n",
       "      <td>-0.059962</td>\n",
       "      <td>-0.027354</td>\n",
       "      <td>-0.033864</td>\n",
       "      <td>0.009571</td>\n",
       "      <td>0.023318</td>\n",
       "      <td>-0.003872</td>\n",
       "      <td>0.001095</td>\n",
       "      <td>0.028179</td>\n",
       "      <td>0.003639</td>\n",
       "      <td>...</td>\n",
       "      <td>0.041022</td>\n",
       "      <td>-0.036422</td>\n",
       "      <td>0.006088</td>\n",
       "      <td>-0.041302</td>\n",
       "      <td>0.017492</td>\n",
       "      <td>-0.039591</td>\n",
       "      <td>-0.000801</td>\n",
       "      <td>0.009127</td>\n",
       "      <td>0.045741</td>\n",
       "      <td>0.004434</td>\n",
       "    </tr>\n",
       "    <tr>\n",
       "      <th>LV4</th>\n",
       "      <td>-0.039736</td>\n",
       "      <td>0.013238</td>\n",
       "      <td>-0.002819</td>\n",
       "      <td>0.029253</td>\n",
       "      <td>-0.029388</td>\n",
       "      <td>-0.003176</td>\n",
       "      <td>0.037212</td>\n",
       "      <td>-0.022370</td>\n",
       "      <td>0.003168</td>\n",
       "      <td>0.039998</td>\n",
       "      <td>...</td>\n",
       "      <td>-0.029197</td>\n",
       "      <td>0.078351</td>\n",
       "      <td>0.044476</td>\n",
       "      <td>-0.027300</td>\n",
       "      <td>0.005332</td>\n",
       "      <td>0.028581</td>\n",
       "      <td>0.004288</td>\n",
       "      <td>0.015797</td>\n",
       "      <td>-0.074106</td>\n",
       "      <td>-0.020936</td>\n",
       "    </tr>\n",
       "    <tr>\n",
       "      <th>LV5</th>\n",
       "      <td>-0.012250</td>\n",
       "      <td>-0.002846</td>\n",
       "      <td>-0.025161</td>\n",
       "      <td>0.013880</td>\n",
       "      <td>0.009457</td>\n",
       "      <td>0.024885</td>\n",
       "      <td>0.001274</td>\n",
       "      <td>0.064774</td>\n",
       "      <td>0.039294</td>\n",
       "      <td>-0.000256</td>\n",
       "      <td>...</td>\n",
       "      <td>0.032792</td>\n",
       "      <td>-0.035128</td>\n",
       "      <td>-0.011787</td>\n",
       "      <td>-0.006511</td>\n",
       "      <td>-0.035433</td>\n",
       "      <td>-0.008735</td>\n",
       "      <td>-0.011139</td>\n",
       "      <td>-0.036651</td>\n",
       "      <td>0.003044</td>\n",
       "      <td>0.006505</td>\n",
       "    </tr>\n",
       "  </tbody>\n",
       "</table>\n",
       "<p>5 rows × 309 columns</p>\n",
       "</div>"
      ],
      "text/plain": [
       "        292.3       079       741     418.1       280       747       591  \\\n",
       "LV1  0.055748 -0.019274  0.024491  0.012926 -0.026501 -0.043919  0.025264   \n",
       "LV2 -0.045630 -0.008570  0.040969 -0.016198 -0.032321 -0.017629  0.009238   \n",
       "LV3  0.025341 -0.059962 -0.027354 -0.033864  0.009571  0.023318 -0.003872   \n",
       "LV4 -0.039736  0.013238 -0.002819  0.029253 -0.029388 -0.003176  0.037212   \n",
       "LV5 -0.012250 -0.002846 -0.025161  0.013880  0.009457  0.024885  0.001274   \n",
       "\n",
       "       426.21       244     070.3  ...       427     585.4       345  \\\n",
       "LV1 -0.053251  0.043269  0.002465  ... -0.031739  0.014192  0.008710   \n",
       "LV2 -0.011634 -0.005854  0.033497  ...  0.019678  0.040569 -0.009344   \n",
       "LV3  0.001095  0.028179  0.003639  ...  0.041022 -0.036422  0.006088   \n",
       "LV4 -0.022370  0.003168  0.039998  ... -0.029197  0.078351  0.044476   \n",
       "LV5  0.064774  0.039294 -0.000256  ...  0.032792 -0.035128 -0.011787   \n",
       "\n",
       "        366.2     420.2       195     250.2     250.1       371       562  \n",
       "LV1 -0.024261 -0.004780  0.057256  0.059702  0.036648 -0.022040  0.034427  \n",
       "LV2 -0.012921 -0.055292  0.003193  0.013844  0.008327  0.004302  0.035154  \n",
       "LV3 -0.041302  0.017492 -0.039591 -0.000801  0.009127  0.045741  0.004434  \n",
       "LV4 -0.027300  0.005332  0.028581  0.004288  0.015797 -0.074106 -0.020936  \n",
       "LV5 -0.006511 -0.035433 -0.008735 -0.011139 -0.036651  0.003044  0.006505  \n",
       "\n",
       "[5 rows x 309 columns]"
      ]
     },
     "execution_count": 28,
     "metadata": {},
     "output_type": "execute_result"
    }
   ],
   "source": [
    "emerge_projection.head()"
   ]
  },
  {
   "cell_type": "markdown",
   "id": "twenty-cosmetic",
   "metadata": {
    "papermill": {
     "duration": 0.023738,
     "end_time": "2021-07-16T18:10:22.217286",
     "exception": false,
     "start_time": "2021-07-16T18:10:22.193548",
     "status": "completed"
    },
    "tags": []
   },
   "source": [
    "## GLS results on PhenomeXcan"
   ]
  },
  {
   "cell_type": "code",
   "execution_count": 29,
   "id": "global-importance",
   "metadata": {
    "papermill": {
     "duration": 0.037521,
     "end_time": "2021-07-16T18:10:22.278538",
     "exception": false,
     "start_time": "2021-07-16T18:10:22.241017",
     "status": "completed"
    },
    "tags": []
   },
   "outputs": [
    {
     "data": {
      "text/plain": [
       "PosixPath('/home/miltondp/projects/labs/greenelab/phenoplier/bases_data/base_orig/results/gls/gls_phenotypes-crispr_lvs-phenomexcan.pkl')"
      ]
     },
     "metadata": {},
     "output_type": "display_data"
    }
   ],
   "source": [
    "input_filepath = conf.RESULTS[\"GLS\"] / \"gls_phenotypes-crispr_lvs-phenomexcan.pkl\"\n",
    "display(input_filepath)"
   ]
  },
  {
   "cell_type": "code",
   "execution_count": 30,
   "id": "editorial-beach",
   "metadata": {
    "papermill": {
     "duration": 0.378614,
     "end_time": "2021-07-16T18:10:22.681343",
     "exception": false,
     "start_time": "2021-07-16T18:10:22.302729",
     "status": "completed"
    },
    "tags": []
   },
   "outputs": [],
   "source": [
    "gls_phenomexcan_crispr = pd.read_pickle(input_filepath)"
   ]
  },
  {
   "cell_type": "code",
   "execution_count": 31,
   "id": "lined-huntington",
   "metadata": {
    "papermill": {
     "duration": 0.040728,
     "end_time": "2021-07-16T18:10:22.753786",
     "exception": false,
     "start_time": "2021-07-16T18:10:22.713058",
     "status": "completed"
    },
    "tags": []
   },
   "outputs": [
    {
     "data": {
      "text/plain": [
       "(630, 10)"
      ]
     },
     "execution_count": 31,
     "metadata": {},
     "output_type": "execute_result"
    }
   ],
   "source": [
    "gls_phenomexcan_crispr.shape"
   ]
  },
  {
   "cell_type": "code",
   "execution_count": 32,
   "id": "impaired-interim",
   "metadata": {
    "papermill": {
     "duration": 0.055954,
     "end_time": "2021-07-16T18:10:22.836992",
     "exception": false,
     "start_time": "2021-07-16T18:10:22.781038",
     "status": "completed"
    },
    "tags": []
   },
   "outputs": [
    {
     "data": {
      "text/html": [
       "<div>\n",
       "<style scoped>\n",
       "    .dataframe tbody tr th:only-of-type {\n",
       "        vertical-align: middle;\n",
       "    }\n",
       "\n",
       "    .dataframe tbody tr th {\n",
       "        vertical-align: top;\n",
       "    }\n",
       "\n",
       "    .dataframe thead th {\n",
       "        text-align: right;\n",
       "    }\n",
       "</style>\n",
       "<table border=\"1\" class=\"dataframe\">\n",
       "  <thead>\n",
       "    <tr style=\"text-align: right;\">\n",
       "      <th></th>\n",
       "      <th>part_k</th>\n",
       "      <th>cluster_id</th>\n",
       "      <th>phenotype</th>\n",
       "      <th>lv</th>\n",
       "      <th>lv_set</th>\n",
       "      <th>lv_with_pathway</th>\n",
       "      <th>coef</th>\n",
       "      <th>pvalue</th>\n",
       "      <th>pvalue_twosided</th>\n",
       "      <th>summary</th>\n",
       "    </tr>\n",
       "  </thead>\n",
       "  <tbody>\n",
       "    <tr>\n",
       "      <th>0</th>\n",
       "      <td>29</td>\n",
       "      <td>17</td>\n",
       "      <td>20003_1140861958-Treatmentmedication_code_simv...</td>\n",
       "      <td>LV246</td>\n",
       "      <td>lipids-increasing</td>\n",
       "      <td>True</td>\n",
       "      <td>0.036054</td>\n",
       "      <td>0.001882</td>\n",
       "      <td>0.003763</td>\n",
       "      <td>GLS Regression Res...</td>\n",
       "    </tr>\n",
       "    <tr>\n",
       "      <th>1</th>\n",
       "      <td>29</td>\n",
       "      <td>17</td>\n",
       "      <td>20003_1140861958-Treatmentmedication_code_simv...</td>\n",
       "      <td>LV302</td>\n",
       "      <td>lipids-decreasing</td>\n",
       "      <td>False</td>\n",
       "      <td>-0.006249</td>\n",
       "      <td>0.699373</td>\n",
       "      <td>0.601253</td>\n",
       "      <td>GLS Regression Res...</td>\n",
       "    </tr>\n",
       "    <tr>\n",
       "      <th>2</th>\n",
       "      <td>29</td>\n",
       "      <td>17</td>\n",
       "      <td>20003_1140861958-Treatmentmedication_code_simv...</td>\n",
       "      <td>LV41</td>\n",
       "      <td>lipids-decreasing</td>\n",
       "      <td>False</td>\n",
       "      <td>-0.019236</td>\n",
       "      <td>0.942844</td>\n",
       "      <td>0.114313</td>\n",
       "      <td>GLS Regression Res...</td>\n",
       "    </tr>\n",
       "    <tr>\n",
       "      <th>3</th>\n",
       "      <td>29</td>\n",
       "      <td>17</td>\n",
       "      <td>20003_1140861958-Treatmentmedication_code_simv...</td>\n",
       "      <td>LV512</td>\n",
       "      <td>lipids-decreasing</td>\n",
       "      <td>False</td>\n",
       "      <td>-0.022410</td>\n",
       "      <td>0.965432</td>\n",
       "      <td>0.069135</td>\n",
       "      <td>GLS Regression Res...</td>\n",
       "    </tr>\n",
       "    <tr>\n",
       "      <th>4</th>\n",
       "      <td>29</td>\n",
       "      <td>17</td>\n",
       "      <td>20003_1140861958-Treatmentmedication_code_simv...</td>\n",
       "      <td>LV520</td>\n",
       "      <td>lipids-decreasing</td>\n",
       "      <td>False</td>\n",
       "      <td>-0.011205</td>\n",
       "      <td>0.822209</td>\n",
       "      <td>0.355583</td>\n",
       "      <td>GLS Regression Res...</td>\n",
       "    </tr>\n",
       "  </tbody>\n",
       "</table>\n",
       "</div>"
      ],
      "text/plain": [
       "   part_k  cluster_id                                          phenotype  \\\n",
       "0      29          17  20003_1140861958-Treatmentmedication_code_simv...   \n",
       "1      29          17  20003_1140861958-Treatmentmedication_code_simv...   \n",
       "2      29          17  20003_1140861958-Treatmentmedication_code_simv...   \n",
       "3      29          17  20003_1140861958-Treatmentmedication_code_simv...   \n",
       "4      29          17  20003_1140861958-Treatmentmedication_code_simv...   \n",
       "\n",
       "      lv             lv_set  lv_with_pathway      coef    pvalue  \\\n",
       "0  LV246  lipids-increasing             True  0.036054  0.001882   \n",
       "1  LV302  lipids-decreasing            False -0.006249  0.699373   \n",
       "2   LV41  lipids-decreasing            False -0.019236  0.942844   \n",
       "3  LV512  lipids-decreasing            False -0.022410  0.965432   \n",
       "4  LV520  lipids-decreasing            False -0.011205  0.822209   \n",
       "\n",
       "   pvalue_twosided                                            summary  \n",
       "0         0.003763                              GLS Regression Res...  \n",
       "1         0.601253                              GLS Regression Res...  \n",
       "2         0.114313                              GLS Regression Res...  \n",
       "3         0.069135                              GLS Regression Res...  \n",
       "4         0.355583                              GLS Regression Res...  "
      ]
     },
     "execution_count": 32,
     "metadata": {},
     "output_type": "execute_result"
    }
   ],
   "source": [
    "gls_phenomexcan_crispr.head()"
   ]
  },
  {
   "cell_type": "markdown",
   "id": "actual-selection",
   "metadata": {
    "papermill": {
     "duration": 0.024439,
     "end_time": "2021-07-16T18:10:22.886768",
     "exception": false,
     "start_time": "2021-07-16T18:10:22.862329",
     "status": "completed"
    },
    "tags": []
   },
   "source": [
    "# Select LV from previous GLS run on PhenomeXcan"
   ]
  },
  {
   "cell_type": "markdown",
   "id": "built-constraint",
   "metadata": {
    "papermill": {
     "duration": 0.024693,
     "end_time": "2021-07-16T18:10:22.936057",
     "exception": false,
     "start_time": "2021-07-16T18:10:22.911364",
     "status": "completed"
    },
    "tags": []
   },
   "source": [
    "This selectes the LVs enriched for the lipids CRISPR anaysis."
   ]
  },
  {
   "cell_type": "code",
   "execution_count": 33,
   "id": "charged-lounge",
   "metadata": {
    "papermill": {
     "duration": 0.039227,
     "end_time": "2021-07-16T18:10:23.000760",
     "exception": false,
     "start_time": "2021-07-16T18:10:22.961533",
     "status": "completed"
    },
    "tags": []
   },
   "outputs": [],
   "source": [
    "gls_phenomexcan_lvs = (\n",
    "    gls_phenomexcan_crispr[[\"lv\", \"lv_set\"]].drop_duplicates().reset_index(drop=True)\n",
    ")"
   ]
  },
  {
   "cell_type": "code",
   "execution_count": 34,
   "id": "liked-transsexual",
   "metadata": {
    "papermill": {
     "duration": 0.038412,
     "end_time": "2021-07-16T18:10:23.064654",
     "exception": false,
     "start_time": "2021-07-16T18:10:23.026242",
     "status": "completed"
    },
    "tags": []
   },
   "outputs": [
    {
     "data": {
      "text/plain": [
       "(15, 2)"
      ]
     },
     "execution_count": 34,
     "metadata": {},
     "output_type": "execute_result"
    }
   ],
   "source": [
    "gls_phenomexcan_lvs.shape"
   ]
  },
  {
   "cell_type": "code",
   "execution_count": 35,
   "id": "featured-snake",
   "metadata": {
    "papermill": {
     "duration": 0.040988,
     "end_time": "2021-07-16T18:10:23.131928",
     "exception": false,
     "start_time": "2021-07-16T18:10:23.090940",
     "status": "completed"
    },
    "tags": []
   },
   "outputs": [
    {
     "data": {
      "text/html": [
       "<div>\n",
       "<style scoped>\n",
       "    .dataframe tbody tr th:only-of-type {\n",
       "        vertical-align: middle;\n",
       "    }\n",
       "\n",
       "    .dataframe tbody tr th {\n",
       "        vertical-align: top;\n",
       "    }\n",
       "\n",
       "    .dataframe thead th {\n",
       "        text-align: right;\n",
       "    }\n",
       "</style>\n",
       "<table border=\"1\" class=\"dataframe\">\n",
       "  <thead>\n",
       "    <tr style=\"text-align: right;\">\n",
       "      <th></th>\n",
       "      <th>lv</th>\n",
       "      <th>lv_set</th>\n",
       "    </tr>\n",
       "  </thead>\n",
       "  <tbody>\n",
       "    <tr>\n",
       "      <th>0</th>\n",
       "      <td>LV246</td>\n",
       "      <td>lipids-increasing</td>\n",
       "    </tr>\n",
       "    <tr>\n",
       "      <th>1</th>\n",
       "      <td>LV302</td>\n",
       "      <td>lipids-decreasing</td>\n",
       "    </tr>\n",
       "    <tr>\n",
       "      <th>2</th>\n",
       "      <td>LV41</td>\n",
       "      <td>lipids-decreasing</td>\n",
       "    </tr>\n",
       "    <tr>\n",
       "      <th>3</th>\n",
       "      <td>LV512</td>\n",
       "      <td>lipids-decreasing</td>\n",
       "    </tr>\n",
       "    <tr>\n",
       "      <th>4</th>\n",
       "      <td>LV520</td>\n",
       "      <td>lipids-decreasing</td>\n",
       "    </tr>\n",
       "  </tbody>\n",
       "</table>\n",
       "</div>"
      ],
      "text/plain": [
       "      lv             lv_set\n",
       "0  LV246  lipids-increasing\n",
       "1  LV302  lipids-decreasing\n",
       "2   LV41  lipids-decreasing\n",
       "3  LV512  lipids-decreasing\n",
       "4  LV520  lipids-decreasing"
      ]
     },
     "execution_count": 35,
     "metadata": {},
     "output_type": "execute_result"
    }
   ],
   "source": [
    "gls_phenomexcan_lvs.head()"
   ]
  },
  {
   "cell_type": "markdown",
   "id": "chubby-satellite",
   "metadata": {
    "papermill": {
     "duration": 0.025203,
     "end_time": "2021-07-16T18:10:23.183624",
     "exception": false,
     "start_time": "2021-07-16T18:10:23.158421",
     "status": "completed"
    },
    "tags": []
   },
   "source": [
    "# Select relevant traits from eMERGE"
   ]
  },
  {
   "cell_type": "markdown",
   "id": "victorian-translation",
   "metadata": {
    "papermill": {
     "duration": 0.024964,
     "end_time": "2021-07-16T18:10:23.233747",
     "exception": false,
     "start_time": "2021-07-16T18:10:23.208783",
     "status": "completed"
    },
    "tags": []
   },
   "source": [
    "~Here we don't have partitions/cluters as with PhenomeXcan. So for this analysis (LVs related to lipids), I select relevant categories of traits from eMERGE (we have a \"category\" column for this results).~"
   ]
  },
  {
   "cell_type": "code",
   "execution_count": 49,
   "id": "beginning-assumption",
   "metadata": {
    "papermill": {
     "duration": 0.039294,
     "end_time": "2021-07-16T18:10:23.298039",
     "exception": false,
     "start_time": "2021-07-16T18:10:23.258745",
     "status": "completed"
    },
    "tags": []
   },
   "outputs": [],
   "source": [
    "# emerge_traits_df[\"phecode_category\"].unique()"
   ]
  },
  {
   "cell_type": "code",
   "execution_count": 37,
   "id": "earned-examination",
   "metadata": {
    "papermill": {
     "duration": 0.039161,
     "end_time": "2021-07-16T18:10:23.362903",
     "exception": false,
     "start_time": "2021-07-16T18:10:23.323742",
     "status": "completed"
    },
    "tags": []
   },
   "outputs": [],
   "source": [
    "# gls_traits = emerge_traits_df[\n",
    "#     emerge_traits_df[\"phecode_category\"].isin(\n",
    "#         [\n",
    "#             \"circulatory system\",\n",
    "#             \"endocrine/metabolic\",\n",
    "#             \"neurological\",\n",
    "#             \"mental disorders\",\n",
    "#         ]\n",
    "#     )\n",
    "# ][\"phecode\"].unique()"
   ]
  },
  {
   "cell_type": "code",
   "execution_count": 38,
   "id": "blank-spelling",
   "metadata": {
    "papermill": {
     "duration": 0.038722,
     "end_time": "2021-07-16T18:10:23.427635",
     "exception": false,
     "start_time": "2021-07-16T18:10:23.388913",
     "status": "completed"
    },
    "tags": []
   },
   "outputs": [],
   "source": [
    "# gls_traits.shape"
   ]
  },
  {
   "cell_type": "code",
   "execution_count": 39,
   "id": "agricultural-hudson",
   "metadata": {
    "papermill": {
     "duration": 0.039349,
     "end_time": "2021-07-16T18:10:23.493955",
     "exception": false,
     "start_time": "2021-07-16T18:10:23.454606",
     "status": "completed"
    },
    "tags": []
   },
   "outputs": [],
   "source": [
    "# gls_traits"
   ]
  },
  {
   "cell_type": "markdown",
   "id": "hybrid-delivery",
   "metadata": {
    "papermill": {
     "duration": 0.026216,
     "end_time": "2021-07-16T18:10:23.547507",
     "exception": false,
     "start_time": "2021-07-16T18:10:23.521291",
     "status": "completed"
    },
    "tags": []
   },
   "source": [
    "# GLSPhenoplier"
   ]
  },
  {
   "cell_type": "markdown",
   "id": "divided-killing",
   "metadata": {
    "papermill": {
     "duration": 0.031601,
     "end_time": "2021-07-14T04:11:28.388049",
     "exception": false,
     "start_time": "2021-07-14T04:11:28.356448",
     "status": "completed"
    },
    "tags": []
   },
   "source": [
    "## Get list of phenotypes/lvs pairs"
   ]
  },
  {
   "cell_type": "code",
   "execution_count": 45,
   "id": "nutritional-runner",
   "metadata": {
    "papermill": {
     "duration": 0.146742,
     "end_time": "2021-07-14T04:11:28.566966",
     "exception": false,
     "start_time": "2021-07-14T04:11:28.420224",
     "status": "completed"
    },
    "tags": []
   },
   "outputs": [],
   "source": [
    "phenotypes_lvs_pairs = []\n",
    "\n",
    "# for each LV, I take the top `N_TOP_TRAITS_FROM_LV` traits in eMERGE\n",
    "for idx, row in gls_phenomexcan_lvs.iterrows():\n",
    "    lv_name = row[\"lv\"]\n",
    "    lv_set = row[\"lv_set\"]\n",
    "\n",
    "    lv_traits = emerge_projection.loc[lv_name]\n",
    "    lv_traits = lv_traits[lv_traits > 0.0]\n",
    "    lv_traits = lv_traits.sort_values(ascending=False).head(N_TOP_TRAITS_FROM_LV)\n",
    "\n",
    "    for phenotype_code in set(lv_traits.index.tolist()):\n",
    "        phenotypes_lvs_pairs.append(\n",
    "            {\n",
    "                \"phenotype\": phenotype_code,\n",
    "                \"lv\": lv_name,\n",
    "                \"lv_set\": row[\"lv_set\"],\n",
    "            }\n",
    "        )\n",
    "\n",
    "phenotypes_lvs_pairs = pd.DataFrame(phenotypes_lvs_pairs).drop_duplicates()"
   ]
  },
  {
   "cell_type": "code",
   "execution_count": 46,
   "id": "fresh-bidder",
   "metadata": {
    "papermill": {
     "duration": 0.048035,
     "end_time": "2021-07-14T04:11:28.647583",
     "exception": false,
     "start_time": "2021-07-14T04:11:28.599548",
     "status": "completed"
    },
    "tags": []
   },
   "outputs": [],
   "source": [
    "phenotypes_lvs_pairs = phenotypes_lvs_pairs.sort_values(\"phenotype\").reset_index(\n",
    "    drop=True\n",
    ")"
   ]
  },
  {
   "cell_type": "code",
   "execution_count": 47,
   "id": "strategic-junction",
   "metadata": {
    "papermill": {
     "duration": 0.045613,
     "end_time": "2021-07-14T04:11:28.725888",
     "exception": false,
     "start_time": "2021-07-14T04:11:28.680275",
     "status": "completed"
    },
    "tags": []
   },
   "outputs": [
    {
     "data": {
      "text/plain": [
       "(300, 3)"
      ]
     },
     "execution_count": 47,
     "metadata": {},
     "output_type": "execute_result"
    }
   ],
   "source": [
    "phenotypes_lvs_pairs.shape"
   ]
  },
  {
   "cell_type": "code",
   "execution_count": 48,
   "id": "failing-moisture",
   "metadata": {
    "papermill": {
     "duration": 0.048407,
     "end_time": "2021-07-14T04:11:28.806485",
     "exception": false,
     "start_time": "2021-07-14T04:11:28.758078",
     "status": "completed"
    },
    "tags": []
   },
   "outputs": [
    {
     "data": {
      "text/html": [
       "<div>\n",
       "<style scoped>\n",
       "    .dataframe tbody tr th:only-of-type {\n",
       "        vertical-align: middle;\n",
       "    }\n",
       "\n",
       "    .dataframe tbody tr th {\n",
       "        vertical-align: top;\n",
       "    }\n",
       "\n",
       "    .dataframe thead th {\n",
       "        text-align: right;\n",
       "    }\n",
       "</style>\n",
       "<table border=\"1\" class=\"dataframe\">\n",
       "  <thead>\n",
       "    <tr style=\"text-align: right;\">\n",
       "      <th></th>\n",
       "      <th>phenotype</th>\n",
       "      <th>lv</th>\n",
       "      <th>lv_set</th>\n",
       "    </tr>\n",
       "  </thead>\n",
       "  <tbody>\n",
       "    <tr>\n",
       "      <th>0</th>\n",
       "      <td>008</td>\n",
       "      <td>LV74</td>\n",
       "      <td>lipids-increasing</td>\n",
       "    </tr>\n",
       "    <tr>\n",
       "      <th>1</th>\n",
       "      <td>008.5</td>\n",
       "      <td>LV959</td>\n",
       "      <td>lipids-decreasing</td>\n",
       "    </tr>\n",
       "    <tr>\n",
       "      <th>2</th>\n",
       "      <td>038</td>\n",
       "      <td>LV612</td>\n",
       "      <td>lipids-decreasing</td>\n",
       "    </tr>\n",
       "    <tr>\n",
       "      <th>3</th>\n",
       "      <td>053</td>\n",
       "      <td>LV841</td>\n",
       "      <td>lipids-increasing</td>\n",
       "    </tr>\n",
       "    <tr>\n",
       "      <th>4</th>\n",
       "      <td>070</td>\n",
       "      <td>LV838</td>\n",
       "      <td>lipids-decreasing</td>\n",
       "    </tr>\n",
       "  </tbody>\n",
       "</table>\n",
       "</div>"
      ],
      "text/plain": [
       "  phenotype     lv             lv_set\n",
       "0       008   LV74  lipids-increasing\n",
       "1     008.5  LV959  lipids-decreasing\n",
       "2       038  LV612  lipids-decreasing\n",
       "3       053  LV841  lipids-increasing\n",
       "4       070  LV838  lipids-decreasing"
      ]
     },
     "execution_count": 48,
     "metadata": {},
     "output_type": "execute_result"
    }
   ],
   "source": [
    "phenotypes_lvs_pairs.head()"
   ]
  },
  {
   "cell_type": "markdown",
   "id": "expired-atmosphere",
   "metadata": {
    "papermill": {
     "duration": 0.027337,
     "end_time": "2021-07-16T18:10:23.969931",
     "exception": false,
     "start_time": "2021-07-16T18:10:23.942594",
     "status": "completed"
    },
    "tags": []
   },
   "source": [
    "## Run"
   ]
  },
  {
   "cell_type": "code",
   "execution_count": 39,
   "id": "outside-terminology",
   "metadata": {
    "execution": {
     "iopub.execute_input": "2021-07-16T18:10:24.027012Z",
     "iopub.status.busy": "2021-07-16T18:10:24.026636Z",
     "iopub.status.idle": "2021-07-16T23:36:55.970688Z",
     "shell.execute_reply": "2021-07-16T23:36:55.969853Z"
    },
    "papermill": {
     "duration": 19591.974484,
     "end_time": "2021-07-16T23:36:55.970781",
     "exception": false,
     "start_time": "2021-07-16T18:10:23.996297",
     "status": "completed"
    },
    "tags": []
   },
   "outputs": [
    {
     "name": "stderr",
     "output_type": "stream",
     "text": [
      "458.9 - LV959: 100%|██████████| 2100/2100 [5:26:31<00:00,  9.33s/it]\n"
     ]
    }
   ],
   "source": [
    "results = []\n",
    "\n",
    "pbar = tqdm(total=phenotypes_lvs_pairs.shape[0])\n",
    "\n",
    "for idx, row in phenotypes_lvs_pairs.iterrows():\n",
    "    phenotype_code = row[\"phenotype\"]\n",
    "    lv_code = row[\"lv\"]\n",
    "\n",
    "    pbar.set_description(f\"{phenotype_code} - {lv_code}\")\n",
    "\n",
    "    gls_model = GLSPhenoplier(\n",
    "        smultixcan_result_set_filepath=emerge_smultixcan_zscores_filepath\n",
    "    )\n",
    "    gls_model.fit_named(lv_code, phenotype_code)\n",
    "    res = gls_model.results\n",
    "\n",
    "    results.append(\n",
    "        {\n",
    "            \"phenotype\": phenotype_code,\n",
    "            \"lv\": lv_code,\n",
    "            \"lv_set\": row[\"lv_set\"],\n",
    "            \"lv_with_pathway\": lv_code in well_aligned_lv_codes,\n",
    "            \"coef\": res.params.loc[\"lv\"],\n",
    "            \"pvalue\": res.pvalues_onesided.loc[\"lv\"],\n",
    "            \"pvalue_twosided\": res.pvalues.loc[\"lv\"],\n",
    "            \"summary\": gls_model.results_summary,\n",
    "        }\n",
    "    )\n",
    "\n",
    "    # save results every 10 models trained\n",
    "    if (idx % 10) == 0:\n",
    "        pd.DataFrame(results).to_pickle(OUTPUT_FILENAME)\n",
    "\n",
    "    pbar.update(1)\n",
    "\n",
    "pbar.close()"
   ]
  },
  {
   "cell_type": "code",
   "execution_count": 40,
   "id": "acting-discharge",
   "metadata": {
    "execution": {
     "iopub.execute_input": "2021-07-16T23:36:57.359105Z",
     "iopub.status.busy": "2021-07-16T23:36:57.358716Z",
     "iopub.status.idle": "2021-07-16T23:36:57.375957Z",
     "shell.execute_reply": "2021-07-16T23:36:57.375529Z"
    },
    "papermill": {
     "duration": 0.716288,
     "end_time": "2021-07-16T23:36:57.376057",
     "exception": false,
     "start_time": "2021-07-16T23:36:56.659769",
     "status": "completed"
    },
    "tags": []
   },
   "outputs": [],
   "source": [
    "results = pd.DataFrame(results)"
   ]
  },
  {
   "cell_type": "code",
   "execution_count": 41,
   "id": "executive-tournament",
   "metadata": {
    "execution": {
     "iopub.execute_input": "2021-07-16T23:36:58.768218Z",
     "iopub.status.busy": "2021-07-16T23:36:58.767854Z",
     "iopub.status.idle": "2021-07-16T23:36:58.779404Z",
     "shell.execute_reply": "2021-07-16T23:36:58.779069Z"
    },
    "papermill": {
     "duration": 0.709565,
     "end_time": "2021-07-16T23:36:58.779493",
     "exception": false,
     "start_time": "2021-07-16T23:36:58.069928",
     "status": "completed"
    },
    "tags": []
   },
   "outputs": [
    {
     "data": {
      "text/plain": [
       "(2100, 8)"
      ]
     },
     "execution_count": 41,
     "metadata": {},
     "output_type": "execute_result"
    }
   ],
   "source": [
    "results.shape"
   ]
  },
  {
   "cell_type": "code",
   "execution_count": 42,
   "id": "sound-paragraph",
   "metadata": {
    "execution": {
     "iopub.execute_input": "2021-07-16T23:37:00.166370Z",
     "iopub.status.busy": "2021-07-16T23:37:00.166006Z",
     "iopub.status.idle": "2021-07-16T23:37:00.198937Z",
     "shell.execute_reply": "2021-07-16T23:37:00.198599Z"
    },
    "papermill": {
     "duration": 0.729133,
     "end_time": "2021-07-16T23:37:00.199023",
     "exception": false,
     "start_time": "2021-07-16T23:36:59.469890",
     "status": "completed"
    },
    "tags": []
   },
   "outputs": [
    {
     "data": {
      "text/html": [
       "<div>\n",
       "<style scoped>\n",
       "    .dataframe tbody tr th:only-of-type {\n",
       "        vertical-align: middle;\n",
       "    }\n",
       "\n",
       "    .dataframe tbody tr th {\n",
       "        vertical-align: top;\n",
       "    }\n",
       "\n",
       "    .dataframe thead th {\n",
       "        text-align: right;\n",
       "    }\n",
       "</style>\n",
       "<table border=\"1\" class=\"dataframe\">\n",
       "  <thead>\n",
       "    <tr style=\"text-align: right;\">\n",
       "      <th></th>\n",
       "      <th>phenotype</th>\n",
       "      <th>lv</th>\n",
       "      <th>lv_set</th>\n",
       "      <th>lv_with_pathway</th>\n",
       "      <th>coef</th>\n",
       "      <th>pvalue</th>\n",
       "      <th>pvalue_twosided</th>\n",
       "      <th>summary</th>\n",
       "    </tr>\n",
       "  </thead>\n",
       "  <tbody>\n",
       "    <tr>\n",
       "      <th>0</th>\n",
       "      <td>241</td>\n",
       "      <td>LV246</td>\n",
       "      <td>lipids-increasing</td>\n",
       "      <td>True</td>\n",
       "      <td>0.004652</td>\n",
       "      <td>0.355387</td>\n",
       "      <td>0.710773</td>\n",
       "      <td>GLS Regression Res...</td>\n",
       "    </tr>\n",
       "    <tr>\n",
       "      <th>1</th>\n",
       "      <td>241</td>\n",
       "      <td>LV302</td>\n",
       "      <td>lipids-decreasing</td>\n",
       "      <td>False</td>\n",
       "      <td>0.002508</td>\n",
       "      <td>0.417611</td>\n",
       "      <td>0.835222</td>\n",
       "      <td>GLS Regression Res...</td>\n",
       "    </tr>\n",
       "    <tr>\n",
       "      <th>2</th>\n",
       "      <td>241</td>\n",
       "      <td>LV512</td>\n",
       "      <td>lipids-decreasing</td>\n",
       "      <td>False</td>\n",
       "      <td>-0.014417</td>\n",
       "      <td>0.876977</td>\n",
       "      <td>0.246046</td>\n",
       "      <td>GLS Regression Res...</td>\n",
       "    </tr>\n",
       "    <tr>\n",
       "      <th>3</th>\n",
       "      <td>241</td>\n",
       "      <td>LV865</td>\n",
       "      <td>lipids-increasing</td>\n",
       "      <td>True</td>\n",
       "      <td>0.011181</td>\n",
       "      <td>0.184413</td>\n",
       "      <td>0.368827</td>\n",
       "      <td>GLS Regression Res...</td>\n",
       "    </tr>\n",
       "    <tr>\n",
       "      <th>4</th>\n",
       "      <td>241</td>\n",
       "      <td>LV890</td>\n",
       "      <td>lipids-increasing</td>\n",
       "      <td>False</td>\n",
       "      <td>0.026705</td>\n",
       "      <td>0.016937</td>\n",
       "      <td>0.033874</td>\n",
       "      <td>GLS Regression Res...</td>\n",
       "    </tr>\n",
       "  </tbody>\n",
       "</table>\n",
       "</div>"
      ],
      "text/plain": [
       "  phenotype     lv             lv_set  lv_with_pathway      coef    pvalue  \\\n",
       "0       241  LV246  lipids-increasing             True  0.004652  0.355387   \n",
       "1       241  LV302  lipids-decreasing            False  0.002508  0.417611   \n",
       "2       241  LV512  lipids-decreasing            False -0.014417  0.876977   \n",
       "3       241  LV865  lipids-increasing             True  0.011181  0.184413   \n",
       "4       241  LV890  lipids-increasing            False  0.026705  0.016937   \n",
       "\n",
       "   pvalue_twosided                                            summary  \n",
       "0         0.710773                              GLS Regression Res...  \n",
       "1         0.835222                              GLS Regression Res...  \n",
       "2         0.246046                              GLS Regression Res...  \n",
       "3         0.368827                              GLS Regression Res...  \n",
       "4         0.033874                              GLS Regression Res...  "
      ]
     },
     "execution_count": 42,
     "metadata": {},
     "output_type": "execute_result"
    }
   ],
   "source": [
    "results.head()"
   ]
  },
  {
   "cell_type": "code",
   "execution_count": 43,
   "id": "political-killer",
   "metadata": {
    "execution": {
     "iopub.execute_input": "2021-07-16T23:37:01.642599Z",
     "iopub.status.busy": "2021-07-16T23:37:01.642231Z",
     "iopub.status.idle": "2021-07-16T23:37:01.692113Z",
     "shell.execute_reply": "2021-07-16T23:37:01.692472Z"
    },
    "papermill": {
     "duration": 0.748334,
     "end_time": "2021-07-16T23:37:01.692599",
     "exception": false,
     "start_time": "2021-07-16T23:37:00.944265",
     "status": "completed"
    },
    "tags": []
   },
   "outputs": [
    {
     "data": {
      "text/html": [
       "<div>\n",
       "<style scoped>\n",
       "    .dataframe tbody tr th:only-of-type {\n",
       "        vertical-align: middle;\n",
       "    }\n",
       "\n",
       "    .dataframe tbody tr th {\n",
       "        vertical-align: top;\n",
       "    }\n",
       "\n",
       "    .dataframe thead th {\n",
       "        text-align: right;\n",
       "    }\n",
       "</style>\n",
       "<table border=\"1\" class=\"dataframe\">\n",
       "  <thead>\n",
       "    <tr style=\"text-align: right;\">\n",
       "      <th></th>\n",
       "      <th>phenotype</th>\n",
       "      <th>lv</th>\n",
       "      <th>lv_set</th>\n",
       "      <th>lv_with_pathway</th>\n",
       "      <th>coef</th>\n",
       "      <th>pvalue</th>\n",
       "      <th>pvalue_twosided</th>\n",
       "      <th>summary</th>\n",
       "    </tr>\n",
       "  </thead>\n",
       "  <tbody>\n",
       "    <tr>\n",
       "      <th>579</th>\n",
       "      <td>276.41</td>\n",
       "      <td>LV246</td>\n",
       "      <td>lipids-increasing</td>\n",
       "      <td>True</td>\n",
       "      <td>0.054395</td>\n",
       "      <td>0.000008</td>\n",
       "      <td>0.000016</td>\n",
       "      <td>GLS Regression Res...</td>\n",
       "    </tr>\n",
       "    <tr>\n",
       "      <th>567</th>\n",
       "      <td>276.4</td>\n",
       "      <td>LV246</td>\n",
       "      <td>lipids-increasing</td>\n",
       "      <td>True</td>\n",
       "      <td>0.053259</td>\n",
       "      <td>0.000012</td>\n",
       "      <td>0.000024</td>\n",
       "      <td>GLS Regression Res...</td>\n",
       "    </tr>\n",
       "    <tr>\n",
       "      <th>1543</th>\n",
       "      <td>427.21</td>\n",
       "      <td>LV512</td>\n",
       "      <td>lipids-decreasing</td>\n",
       "      <td>False</td>\n",
       "      <td>0.051893</td>\n",
       "      <td>0.000012</td>\n",
       "      <td>0.000025</td>\n",
       "      <td>GLS Regression Res...</td>\n",
       "    </tr>\n",
       "    <tr>\n",
       "      <th>1528</th>\n",
       "      <td>427.2</td>\n",
       "      <td>LV512</td>\n",
       "      <td>lipids-decreasing</td>\n",
       "      <td>False</td>\n",
       "      <td>0.050576</td>\n",
       "      <td>0.000019</td>\n",
       "      <td>0.000038</td>\n",
       "      <td>GLS Regression Res...</td>\n",
       "    </tr>\n",
       "    <tr>\n",
       "      <th>1588</th>\n",
       "      <td>427.5</td>\n",
       "      <td>LV512</td>\n",
       "      <td>lipids-decreasing</td>\n",
       "      <td>False</td>\n",
       "      <td>0.050703</td>\n",
       "      <td>0.000023</td>\n",
       "      <td>0.000047</td>\n",
       "      <td>GLS Regression Res...</td>\n",
       "    </tr>\n",
       "    <tr>\n",
       "      <th>656</th>\n",
       "      <td>278.1</td>\n",
       "      <td>LV702</td>\n",
       "      <td>lipids-increasing</td>\n",
       "      <td>False</td>\n",
       "      <td>0.046992</td>\n",
       "      <td>0.000107</td>\n",
       "      <td>0.000214</td>\n",
       "      <td>GLS Regression Res...</td>\n",
       "    </tr>\n",
       "    <tr>\n",
       "      <th>1728</th>\n",
       "      <td>429.1</td>\n",
       "      <td>LV838</td>\n",
       "      <td>lipids-decreasing</td>\n",
       "      <td>True</td>\n",
       "      <td>0.045425</td>\n",
       "      <td>0.000112</td>\n",
       "      <td>0.000223</td>\n",
       "      <td>GLS Regression Res...</td>\n",
       "    </tr>\n",
       "    <tr>\n",
       "      <th>1640</th>\n",
       "      <td>428</td>\n",
       "      <td>LV865</td>\n",
       "      <td>lipids-increasing</td>\n",
       "      <td>True</td>\n",
       "      <td>0.045718</td>\n",
       "      <td>0.000120</td>\n",
       "      <td>0.000239</td>\n",
       "      <td>GLS Regression Res...</td>\n",
       "    </tr>\n",
       "    <tr>\n",
       "      <th>1671</th>\n",
       "      <td>428.2</td>\n",
       "      <td>LV512</td>\n",
       "      <td>lipids-decreasing</td>\n",
       "      <td>False</td>\n",
       "      <td>0.044195</td>\n",
       "      <td>0.000195</td>\n",
       "      <td>0.000389</td>\n",
       "      <td>GLS Regression Res...</td>\n",
       "    </tr>\n",
       "    <tr>\n",
       "      <th>30</th>\n",
       "      <td>241.2</td>\n",
       "      <td>LV959</td>\n",
       "      <td>lipids-decreasing</td>\n",
       "      <td>False</td>\n",
       "      <td>0.043105</td>\n",
       "      <td>0.000315</td>\n",
       "      <td>0.000631</td>\n",
       "      <td>GLS Regression Res...</td>\n",
       "    </tr>\n",
       "  </tbody>\n",
       "</table>\n",
       "</div>"
      ],
      "text/plain": [
       "     phenotype     lv             lv_set  lv_with_pathway      coef    pvalue  \\\n",
       "579     276.41  LV246  lipids-increasing             True  0.054395  0.000008   \n",
       "567      276.4  LV246  lipids-increasing             True  0.053259  0.000012   \n",
       "1543    427.21  LV512  lipids-decreasing            False  0.051893  0.000012   \n",
       "1528     427.2  LV512  lipids-decreasing            False  0.050576  0.000019   \n",
       "1588     427.5  LV512  lipids-decreasing            False  0.050703  0.000023   \n",
       "656      278.1  LV702  lipids-increasing            False  0.046992  0.000107   \n",
       "1728     429.1  LV838  lipids-decreasing             True  0.045425  0.000112   \n",
       "1640       428  LV865  lipids-increasing             True  0.045718  0.000120   \n",
       "1671     428.2  LV512  lipids-decreasing            False  0.044195  0.000195   \n",
       "30       241.2  LV959  lipids-decreasing            False  0.043105  0.000315   \n",
       "\n",
       "      pvalue_twosided                                            summary  \n",
       "579          0.000016                              GLS Regression Res...  \n",
       "567          0.000024                              GLS Regression Res...  \n",
       "1543         0.000025                              GLS Regression Res...  \n",
       "1528         0.000038                              GLS Regression Res...  \n",
       "1588         0.000047                              GLS Regression Res...  \n",
       "656          0.000214                              GLS Regression Res...  \n",
       "1728         0.000223                              GLS Regression Res...  \n",
       "1640         0.000239                              GLS Regression Res...  \n",
       "1671         0.000389                              GLS Regression Res...  \n",
       "30           0.000631                              GLS Regression Res...  "
      ]
     },
     "execution_count": 43,
     "metadata": {},
     "output_type": "execute_result"
    }
   ],
   "source": [
    "results.sort_values(\"pvalue\").head(10)"
   ]
  },
  {
   "cell_type": "markdown",
   "id": "together-nancy",
   "metadata": {
    "papermill": {
     "duration": 0.687932,
     "end_time": "2021-07-16T23:37:03.072254",
     "exception": false,
     "start_time": "2021-07-16T23:37:02.384322",
     "status": "completed"
    },
    "tags": []
   },
   "source": [
    "## Save"
   ]
  },
  {
   "cell_type": "code",
   "execution_count": 44,
   "id": "eight-sigma",
   "metadata": {
    "execution": {
     "iopub.execute_input": "2021-07-16T23:37:04.452197Z",
     "iopub.status.busy": "2021-07-16T23:37:04.451834Z",
     "iopub.status.idle": "2021-07-16T23:37:04.974084Z",
     "shell.execute_reply": "2021-07-16T23:37:04.972537Z"
    },
    "papermill": {
     "duration": 1.210377,
     "end_time": "2021-07-16T23:37:04.974410",
     "exception": false,
     "start_time": "2021-07-16T23:37:03.764033",
     "status": "completed"
    },
    "tags": []
   },
   "outputs": [],
   "source": [
    "results.to_pickle(OUTPUT_FILENAME)"
   ]
  },
  {
   "cell_type": "code",
   "execution_count": null,
   "id": "announced-leather",
   "metadata": {
    "papermill": {
     "duration": 0.692087,
     "end_time": "2021-07-16T23:37:06.380655",
     "exception": false,
     "start_time": "2021-07-16T23:37:05.688568",
     "status": "completed"
    },
    "tags": []
   },
   "outputs": [],
   "source": []
  }
 ],
 "metadata": {
  "jupytext": {
   "cell_metadata_filter": "all,-execution,-papermill,-trusted",
   "formats": "ipynb,py//py:percent"
  },
  "kernelspec": {
   "display_name": "Python 3",
   "language": "python",
   "name": "python3"
  },
  "language_info": {
   "codemirror_mode": {
    "name": "ipython",
    "version": 3
   },
   "file_extension": ".py",
   "mimetype": "text/x-python",
   "name": "python",
   "nbconvert_exporter": "python",
   "pygments_lexer": "ipython3",
   "version": "3.8.8"
  },
  "papermill": {
   "default_parameters": {},
   "duration": 19609.982369,
   "end_time": "2021-07-16T23:37:08.709705",
   "environment_variables": {},
   "exception": null,
   "input_path": "08_gsa_gls/45-gls_on_lipids_lvs-emerge.ipynb",
   "output_path": "08_gsa_gls/45-gls_on_lipids_lvs-emerge.run.ipynb",
   "parameters": {},
   "start_time": "2021-07-16T18:10:18.727336",
   "version": "2.2.2"
  }
 },
 "nbformat": 4,
 "nbformat_minor": 5
}
