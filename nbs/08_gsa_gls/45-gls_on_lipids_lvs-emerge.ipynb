{
 "cells": [
  {
   "cell_type": "markdown",
   "id": "meaningful-techno",
   "metadata": {
    "papermill": {
     "duration": 0.022374,
     "end_time": "2021-03-10T00:10:54.143712",
     "exception": false,
     "start_time": "2021-03-10T00:10:54.121338",
     "status": "completed"
    },
    "tags": []
   },
   "source": [
    "# Description"
   ]
  },
  {
   "cell_type": "markdown",
   "id": "accomplished-colleague",
   "metadata": {
    "papermill": {
     "duration": 0.022374,
     "end_time": "2021-03-10T00:10:54.143712",
     "exception": false,
     "start_time": "2021-03-10T00:10:54.121338",
     "status": "completed"
    },
    "tags": []
   },
   "source": [
    "This notebook is similar to `40` (using LVs that we found to be significantly enriched for the lipids CRISPR analysis), but traits here are from eMERGE."
   ]
  },
  {
   "cell_type": "markdown",
   "id": "preliminary-accident",
   "metadata": {
    "papermill": {
     "duration": 0.058854,
     "end_time": "2021-05-17T10:17:32.167653",
     "exception": false,
     "start_time": "2021-05-17T10:17:32.108799",
     "status": "completed"
    },
    "tags": []
   },
   "source": [
    "# Environment variables"
   ]
  },
  {
   "cell_type": "code",
   "execution_count": 1,
   "id": "handed-federation",
   "metadata": {
    "execution": {
     "iopub.execute_input": "2021-05-17T10:17:32.220302Z",
     "iopub.status.busy": "2021-05-17T10:17:32.219897Z",
     "iopub.status.idle": "2021-05-17T10:17:32.227344Z",
     "shell.execute_reply": "2021-05-17T10:17:32.227650Z"
    },
    "papermill": {
     "duration": 0.03799,
     "end_time": "2021-05-17T10:17:32.227821",
     "exception": false,
     "start_time": "2021-05-17T10:17:32.189831",
     "status": "completed"
    },
    "tags": []
   },
   "outputs": [],
   "source": [
    "%load_ext autoreload\n",
    "%autoreload 2"
   ]
  },
  {
   "cell_type": "code",
   "execution_count": 2,
   "id": "looking-range",
   "metadata": {
    "execution": {
     "iopub.execute_input": "2021-05-17T10:17:32.275139Z",
     "iopub.status.busy": "2021-05-17T10:17:32.274775Z",
     "iopub.status.idle": "2021-05-17T10:17:32.284539Z",
     "shell.execute_reply": "2021-05-17T10:17:32.284158Z"
    },
    "papermill": {
     "duration": 0.03317,
     "end_time": "2021-05-17T10:17:32.284623",
     "exception": false,
     "start_time": "2021-05-17T10:17:32.251453",
     "status": "completed"
    },
    "tags": []
   },
   "outputs": [],
   "source": [
    "import conf"
   ]
  },
  {
   "cell_type": "code",
   "execution_count": 3,
   "id": "czech-undergraduate",
   "metadata": {
    "execution": {
     "iopub.execute_input": "2021-05-17T10:17:32.330270Z",
     "iopub.status.busy": "2021-05-17T10:17:32.329888Z",
     "iopub.status.idle": "2021-05-17T10:17:32.340487Z",
     "shell.execute_reply": "2021-05-17T10:17:32.340173Z"
    },
    "papermill": {
     "duration": 0.034008,
     "end_time": "2021-05-17T10:17:32.340569",
     "exception": false,
     "start_time": "2021-05-17T10:17:32.306561",
     "status": "completed"
    },
    "tags": []
   },
   "outputs": [
    {
     "data": {
      "text/plain": [
       "3"
      ]
     },
     "metadata": {},
     "output_type": "display_data"
    }
   ],
   "source": [
    "N_JOBS = conf.GENERAL[\"N_JOBS\"]\n",
    "display(N_JOBS)"
   ]
  },
  {
   "cell_type": "code",
   "execution_count": 4,
   "id": "japanese-oakland",
   "metadata": {
    "execution": {
     "iopub.execute_input": "2021-05-17T10:17:32.387775Z",
     "iopub.status.busy": "2021-05-17T10:17:32.387408Z",
     "iopub.status.idle": "2021-05-17T10:17:32.394317Z",
     "shell.execute_reply": "2021-05-17T10:17:32.393900Z"
    },
    "papermill": {
     "duration": 0.031655,
     "end_time": "2021-05-17T10:17:32.394414",
     "exception": false,
     "start_time": "2021-05-17T10:17:32.362759",
     "status": "completed"
    },
    "tags": []
   },
   "outputs": [
    {
     "name": "stdout",
     "output_type": "stream",
     "text": [
      "env: MKL_NUM_THREADS=3\n",
      "env: OPEN_BLAS_NUM_THREADS=3\n",
      "env: NUMEXPR_NUM_THREADS=3\n",
      "env: OMP_NUM_THREADS=3\n"
     ]
    }
   ],
   "source": [
    "%env MKL_NUM_THREADS=$N_JOBS\n",
    "%env OPEN_BLAS_NUM_THREADS=$N_JOBS\n",
    "%env NUMEXPR_NUM_THREADS=$N_JOBS\n",
    "%env OMP_NUM_THREADS=$N_JOBS"
   ]
  },
  {
   "cell_type": "markdown",
   "id": "transsexual-massachusetts",
   "metadata": {
    "papermill": {
     "duration": 0.021175,
     "end_time": "2021-05-17T10:17:32.437642",
     "exception": false,
     "start_time": "2021-05-17T10:17:32.416467",
     "status": "completed"
    },
    "tags": []
   },
   "source": [
    "# Modules"
   ]
  },
  {
   "cell_type": "code",
   "execution_count": 5,
   "id": "lucky-rainbow",
   "metadata": {
    "execution": {
     "iopub.execute_input": "2021-05-17T10:17:32.483095Z",
     "iopub.status.busy": "2021-05-17T10:17:32.482738Z",
     "iopub.status.idle": "2021-05-17T10:17:33.235040Z",
     "shell.execute_reply": "2021-05-17T10:17:33.234576Z"
    },
    "papermill": {
     "duration": 0.776061,
     "end_time": "2021-05-17T10:17:33.235143",
     "exception": false,
     "start_time": "2021-05-17T10:17:32.459082",
     "status": "completed"
    },
    "tags": []
   },
   "outputs": [],
   "source": [
    "from pathlib import Path\n",
    "\n",
    "import pandas as pd\n",
    "from tqdm import tqdm\n",
    "\n",
    "from gls import GLSPhenoplier"
   ]
  },
  {
   "cell_type": "markdown",
   "id": "brief-there",
   "metadata": {
    "papermill": {
     "duration": 0.02183,
     "end_time": "2021-05-17T10:17:33.282524",
     "exception": false,
     "start_time": "2021-05-17T10:17:33.260694",
     "status": "completed"
    },
    "tags": []
   },
   "source": [
    "# Settings"
   ]
  },
  {
   "cell_type": "code",
   "execution_count": 6,
   "id": "international-waterproof",
   "metadata": {
    "execution": {
     "iopub.execute_input": "2021-05-17T10:17:33.327611Z",
     "iopub.status.busy": "2021-05-17T10:17:33.327247Z",
     "iopub.status.idle": "2021-05-17T10:17:33.338651Z",
     "shell.execute_reply": "2021-05-17T10:17:33.338933Z"
    },
    "papermill": {
     "duration": 0.035372,
     "end_time": "2021-05-17T10:17:33.339040",
     "exception": false,
     "start_time": "2021-05-17T10:17:33.303668",
     "status": "completed"
    },
    "tags": []
   },
   "outputs": [
    {
     "data": {
      "text/plain": [
       "PosixPath('/home/miltondp/projects/labs/greenelab/phenoplier/base/results/gls')"
      ]
     },
     "metadata": {},
     "output_type": "display_data"
    }
   ],
   "source": [
    "OUTPUT_DIR = conf.RESULTS[\"GLS\"]\n",
    "display(OUTPUT_DIR)\n",
    "\n",
    "OUTPUT_DIR.mkdir(exist_ok=True, parents=True)"
   ]
  },
  {
   "cell_type": "markdown",
   "id": "statutory-making",
   "metadata": {
    "papermill": {
     "duration": 0.021933,
     "end_time": "2021-05-17T10:17:33.383491",
     "exception": false,
     "start_time": "2021-05-17T10:17:33.361558",
     "status": "completed"
    },
    "tags": []
   },
   "source": [
    "# Load data"
   ]
  },
  {
   "cell_type": "markdown",
   "id": "pleased-antique",
   "metadata": {
    "papermill": {
     "duration": 0.022126,
     "end_time": "2021-05-17T10:17:33.812654",
     "exception": false,
     "start_time": "2021-05-17T10:17:33.790528",
     "status": "completed"
    },
    "tags": []
   },
   "source": [
    "## MultiPLIER summary"
   ]
  },
  {
   "cell_type": "code",
   "execution_count": 13,
   "id": "painful-battery",
   "metadata": {
    "execution": {
     "iopub.execute_input": "2021-05-17T10:17:33.859195Z",
     "iopub.status.busy": "2021-05-17T10:17:33.858832Z",
     "iopub.status.idle": "2021-05-17T10:17:33.870614Z",
     "shell.execute_reply": "2021-05-17T10:17:33.870243Z"
    },
    "papermill": {
     "duration": 0.036097,
     "end_time": "2021-05-17T10:17:33.870698",
     "exception": false,
     "start_time": "2021-05-17T10:17:33.834601",
     "status": "completed"
    },
    "tags": []
   },
   "outputs": [],
   "source": [
    "multiplier_model_summary = pd.read_pickle(conf.MULTIPLIER[\"MODEL_SUMMARY_FILE\"])"
   ]
  },
  {
   "cell_type": "code",
   "execution_count": 14,
   "id": "naval-bloom",
   "metadata": {
    "execution": {
     "iopub.execute_input": "2021-05-17T10:17:33.919174Z",
     "iopub.status.busy": "2021-05-17T10:17:33.918811Z",
     "iopub.status.idle": "2021-05-17T10:17:33.930211Z",
     "shell.execute_reply": "2021-05-17T10:17:33.929828Z"
    },
    "papermill": {
     "duration": 0.036418,
     "end_time": "2021-05-17T10:17:33.930299",
     "exception": false,
     "start_time": "2021-05-17T10:17:33.893881",
     "status": "completed"
    },
    "tags": []
   },
   "outputs": [
    {
     "data": {
      "text/plain": [
       "(2157, 5)"
      ]
     },
     "execution_count": 14,
     "metadata": {},
     "output_type": "execute_result"
    }
   ],
   "source": [
    "multiplier_model_summary.shape"
   ]
  },
  {
   "cell_type": "code",
   "execution_count": 15,
   "id": "weekly-fabric",
   "metadata": {
    "execution": {
     "iopub.execute_input": "2021-05-17T10:17:33.978954Z",
     "iopub.status.busy": "2021-05-17T10:17:33.978594Z",
     "iopub.status.idle": "2021-05-17T10:17:33.994125Z",
     "shell.execute_reply": "2021-05-17T10:17:33.994417Z"
    },
    "papermill": {
     "duration": 0.040553,
     "end_time": "2021-05-17T10:17:33.994519",
     "exception": false,
     "start_time": "2021-05-17T10:17:33.953966",
     "status": "completed"
    },
    "tags": []
   },
   "outputs": [
    {
     "data": {
      "text/html": [
       "<div>\n",
       "<style scoped>\n",
       "    .dataframe tbody tr th:only-of-type {\n",
       "        vertical-align: middle;\n",
       "    }\n",
       "\n",
       "    .dataframe tbody tr th {\n",
       "        vertical-align: top;\n",
       "    }\n",
       "\n",
       "    .dataframe thead th {\n",
       "        text-align: right;\n",
       "    }\n",
       "</style>\n",
       "<table border=\"1\" class=\"dataframe\">\n",
       "  <thead>\n",
       "    <tr style=\"text-align: right;\">\n",
       "      <th></th>\n",
       "      <th>pathway</th>\n",
       "      <th>LV index</th>\n",
       "      <th>AUC</th>\n",
       "      <th>p-value</th>\n",
       "      <th>FDR</th>\n",
       "    </tr>\n",
       "  </thead>\n",
       "  <tbody>\n",
       "    <tr>\n",
       "      <th>1</th>\n",
       "      <td>KEGG_LYSINE_DEGRADATION</td>\n",
       "      <td>1</td>\n",
       "      <td>0.388059</td>\n",
       "      <td>0.866078</td>\n",
       "      <td>0.956005</td>\n",
       "    </tr>\n",
       "    <tr>\n",
       "      <th>2</th>\n",
       "      <td>REACTOME_MRNA_SPLICING</td>\n",
       "      <td>1</td>\n",
       "      <td>0.733057</td>\n",
       "      <td>0.000048</td>\n",
       "      <td>0.000582</td>\n",
       "    </tr>\n",
       "    <tr>\n",
       "      <th>3</th>\n",
       "      <td>MIPS_NOP56P_ASSOCIATED_PRE_RRNA_COMPLEX</td>\n",
       "      <td>1</td>\n",
       "      <td>0.680555</td>\n",
       "      <td>0.001628</td>\n",
       "      <td>0.011366</td>\n",
       "    </tr>\n",
       "    <tr>\n",
       "      <th>4</th>\n",
       "      <td>KEGG_DNA_REPLICATION</td>\n",
       "      <td>1</td>\n",
       "      <td>0.549473</td>\n",
       "      <td>0.312155</td>\n",
       "      <td>0.539951</td>\n",
       "    </tr>\n",
       "    <tr>\n",
       "      <th>5</th>\n",
       "      <td>PID_MYC_ACTIVPATHWAY</td>\n",
       "      <td>1</td>\n",
       "      <td>0.639303</td>\n",
       "      <td>0.021702</td>\n",
       "      <td>0.083739</td>\n",
       "    </tr>\n",
       "  </tbody>\n",
       "</table>\n",
       "</div>"
      ],
      "text/plain": [
       "                                   pathway LV index       AUC   p-value  \\\n",
       "1                  KEGG_LYSINE_DEGRADATION        1  0.388059  0.866078   \n",
       "2                   REACTOME_MRNA_SPLICING        1  0.733057  0.000048   \n",
       "3  MIPS_NOP56P_ASSOCIATED_PRE_RRNA_COMPLEX        1  0.680555  0.001628   \n",
       "4                     KEGG_DNA_REPLICATION        1  0.549473  0.312155   \n",
       "5                     PID_MYC_ACTIVPATHWAY        1  0.639303  0.021702   \n",
       "\n",
       "        FDR  \n",
       "1  0.956005  \n",
       "2  0.000582  \n",
       "3  0.011366  \n",
       "4  0.539951  \n",
       "5  0.083739  "
      ]
     },
     "execution_count": 15,
     "metadata": {},
     "output_type": "execute_result"
    }
   ],
   "source": [
    "multiplier_model_summary.head()"
   ]
  },
  {
   "cell_type": "code",
   "execution_count": 16,
   "id": "opposite-guess",
   "metadata": {
    "execution": {
     "iopub.execute_input": "2021-05-17T10:17:34.044006Z",
     "iopub.status.busy": "2021-05-17T10:17:34.043641Z",
     "iopub.status.idle": "2021-05-17T10:17:34.062554Z",
     "shell.execute_reply": "2021-05-17T10:17:34.062834Z"
    },
    "papermill": {
     "duration": 0.044741,
     "end_time": "2021-05-17T10:17:34.062940",
     "exception": false,
     "start_time": "2021-05-17T10:17:34.018199",
     "status": "completed"
    },
    "tags": []
   },
   "outputs": [
    {
     "data": {
      "text/plain": [
       "(469, 5)"
      ]
     },
     "metadata": {},
     "output_type": "display_data"
    },
    {
     "data": {
      "text/html": [
       "<div>\n",
       "<style scoped>\n",
       "    .dataframe tbody tr th:only-of-type {\n",
       "        vertical-align: middle;\n",
       "    }\n",
       "\n",
       "    .dataframe tbody tr th {\n",
       "        vertical-align: top;\n",
       "    }\n",
       "\n",
       "    .dataframe thead th {\n",
       "        text-align: right;\n",
       "    }\n",
       "</style>\n",
       "<table border=\"1\" class=\"dataframe\">\n",
       "  <thead>\n",
       "    <tr style=\"text-align: right;\">\n",
       "      <th></th>\n",
       "      <th>pathway</th>\n",
       "      <th>LV index</th>\n",
       "      <th>AUC</th>\n",
       "      <th>p-value</th>\n",
       "      <th>FDR</th>\n",
       "    </tr>\n",
       "  </thead>\n",
       "  <tbody>\n",
       "    <tr>\n",
       "      <th>2</th>\n",
       "      <td>REACTOME_MRNA_SPLICING</td>\n",
       "      <td>1</td>\n",
       "      <td>0.733057</td>\n",
       "      <td>4.772691e-05</td>\n",
       "      <td>5.816211e-04</td>\n",
       "    </tr>\n",
       "    <tr>\n",
       "      <th>3</th>\n",
       "      <td>MIPS_NOP56P_ASSOCIATED_PRE_RRNA_COMPLEX</td>\n",
       "      <td>1</td>\n",
       "      <td>0.680555</td>\n",
       "      <td>1.628217e-03</td>\n",
       "      <td>1.136590e-02</td>\n",
       "    </tr>\n",
       "    <tr>\n",
       "      <th>8</th>\n",
       "      <td>REACTOME_MITOTIC_G1_G1_S_PHASES</td>\n",
       "      <td>1</td>\n",
       "      <td>0.686170</td>\n",
       "      <td>2.517619e-04</td>\n",
       "      <td>2.392292e-03</td>\n",
       "    </tr>\n",
       "    <tr>\n",
       "      <th>9</th>\n",
       "      <td>IRIS_Monocyte-Day0</td>\n",
       "      <td>2</td>\n",
       "      <td>0.890036</td>\n",
       "      <td>4.315812e-25</td>\n",
       "      <td>1.329887e-22</td>\n",
       "    </tr>\n",
       "    <tr>\n",
       "      <th>10</th>\n",
       "      <td>DMAP_MONO2</td>\n",
       "      <td>2</td>\n",
       "      <td>0.904676</td>\n",
       "      <td>1.313970e-16</td>\n",
       "      <td>1.574574e-14</td>\n",
       "    </tr>\n",
       "  </tbody>\n",
       "</table>\n",
       "</div>"
      ],
      "text/plain": [
       "                                    pathway LV index       AUC       p-value  \\\n",
       "2                    REACTOME_MRNA_SPLICING        1  0.733057  4.772691e-05   \n",
       "3   MIPS_NOP56P_ASSOCIATED_PRE_RRNA_COMPLEX        1  0.680555  1.628217e-03   \n",
       "8           REACTOME_MITOTIC_G1_G1_S_PHASES        1  0.686170  2.517619e-04   \n",
       "9                        IRIS_Monocyte-Day0        2  0.890036  4.315812e-25   \n",
       "10                               DMAP_MONO2        2  0.904676  1.313970e-16   \n",
       "\n",
       "             FDR  \n",
       "2   5.816211e-04  \n",
       "3   1.136590e-02  \n",
       "8   2.392292e-03  \n",
       "9   1.329887e-22  \n",
       "10  1.574574e-14  "
      ]
     },
     "metadata": {},
     "output_type": "display_data"
    }
   ],
   "source": [
    "well_aligned_lvs = multiplier_model_summary[\n",
    "    (multiplier_model_summary[\"FDR\"] < 0.05) | (multiplier_model_summary[\"AUC\"] >= 0.75)\n",
    "]\n",
    "\n",
    "display(well_aligned_lvs.shape)\n",
    "display(well_aligned_lvs.head())"
   ]
  },
  {
   "cell_type": "code",
   "execution_count": 17,
   "id": "catholic-involvement",
   "metadata": {
    "execution": {
     "iopub.execute_input": "2021-05-17T10:17:34.113154Z",
     "iopub.status.busy": "2021-05-17T10:17:34.112789Z",
     "iopub.status.idle": "2021-05-17T10:17:34.123705Z",
     "shell.execute_reply": "2021-05-17T10:17:34.123324Z"
    },
    "papermill": {
     "duration": 0.036898,
     "end_time": "2021-05-17T10:17:34.123791",
     "exception": false,
     "start_time": "2021-05-17T10:17:34.086893",
     "status": "completed"
    },
    "tags": []
   },
   "outputs": [],
   "source": [
    "well_aligned_lv_codes = set([f\"LV{lvi}\" for lvi in well_aligned_lvs[\"LV index\"]])"
   ]
  },
  {
   "cell_type": "code",
   "execution_count": 18,
   "id": "boolean-tuition",
   "metadata": {
    "execution": {
     "iopub.execute_input": "2021-05-17T10:17:34.174556Z",
     "iopub.status.busy": "2021-05-17T10:17:34.174199Z",
     "iopub.status.idle": "2021-05-17T10:17:34.185282Z",
     "shell.execute_reply": "2021-05-17T10:17:34.184898Z"
    },
    "papermill": {
     "duration": 0.037598,
     "end_time": "2021-05-17T10:17:34.185369",
     "exception": false,
     "start_time": "2021-05-17T10:17:34.147771",
     "status": "completed"
    },
    "tags": []
   },
   "outputs": [
    {
     "data": {
      "text/plain": [
       "200"
      ]
     },
     "execution_count": 18,
     "metadata": {},
     "output_type": "execute_result"
    }
   ],
   "source": [
    "len(well_aligned_lv_codes)"
   ]
  },
  {
   "cell_type": "code",
   "execution_count": 19,
   "id": "broad-rating",
   "metadata": {
    "execution": {
     "iopub.execute_input": "2021-05-17T10:17:34.242759Z",
     "iopub.status.busy": "2021-05-17T10:17:34.242376Z",
     "iopub.status.idle": "2021-05-17T10:17:34.254318Z",
     "shell.execute_reply": "2021-05-17T10:17:34.253985Z"
    },
    "papermill": {
     "duration": 0.040811,
     "end_time": "2021-05-17T10:17:34.254412",
     "exception": false,
     "start_time": "2021-05-17T10:17:34.213601",
     "status": "completed"
    },
    "tags": []
   },
   "outputs": [
    {
     "data": {
      "text/plain": [
       "['LV517', 'LV69', 'LV376', 'LV26', 'LV606']"
      ]
     },
     "execution_count": 19,
     "metadata": {},
     "output_type": "execute_result"
    }
   ],
   "source": [
    "list(well_aligned_lv_codes)[:5]"
   ]
  },
  {
   "cell_type": "markdown",
   "id": "hydraulic-familiar",
   "metadata": {
    "papermill": {
     "duration": 0.023592,
     "end_time": "2021-05-17T10:17:34.302903",
     "exception": false,
     "start_time": "2021-05-17T10:17:34.279311",
     "status": "completed"
    },
    "tags": []
   },
   "source": [
    "## eMERGE traits info"
   ]
  },
  {
   "cell_type": "code",
   "execution_count": 20,
   "id": "indian-sword",
   "metadata": {
    "execution": {
     "iopub.execute_input": "2021-05-17T10:17:34.353720Z",
     "iopub.status.busy": "2021-05-17T10:17:34.353340Z",
     "iopub.status.idle": "2021-05-17T10:17:34.365165Z",
     "shell.execute_reply": "2021-05-17T10:17:34.364788Z"
    },
    "papermill": {
     "duration": 0.038455,
     "end_time": "2021-05-17T10:17:34.365252",
     "exception": false,
     "start_time": "2021-05-17T10:17:34.326797",
     "status": "completed"
    },
    "tags": []
   },
   "outputs": [
    {
     "data": {
      "text/plain": [
       "PosixPath('/home/miltondp/projects/labs/greenelab/phenoplier/base/data/emerge/eMERGE_III_PMBB_GSA_v2_2020_phecode_AFR_EUR_cc50_counts_w_dictionary.txt')"
      ]
     },
     "metadata": {},
     "output_type": "display_data"
    }
   ],
   "source": [
    "# FIXME: in the future, there will be a specific entry in config for the eMERGE directory that should be replaced here\n",
    "input_filepath = Path(\n",
    "    conf.DATA_DIR,\n",
    "    \"emerge\",\n",
    "    \"eMERGE_III_PMBB_GSA_v2_2020_phecode_AFR_EUR_cc50_counts_w_dictionary.txt\",\n",
    ").resolve()\n",
    "display(input_filepath)"
   ]
  },
  {
   "cell_type": "code",
   "execution_count": 21,
   "id": "genuine-thunder",
   "metadata": {
    "execution": {
     "iopub.execute_input": "2021-05-17T10:17:34.417998Z",
     "iopub.status.busy": "2021-05-17T10:17:34.417635Z",
     "iopub.status.idle": "2021-05-17T10:17:34.432342Z",
     "shell.execute_reply": "2021-05-17T10:17:34.431296Z"
    },
    "papermill": {
     "duration": 0.041858,
     "end_time": "2021-05-17T10:17:34.432569",
     "exception": false,
     "start_time": "2021-05-17T10:17:34.390711",
     "status": "completed"
    },
    "tags": []
   },
   "outputs": [],
   "source": [
    "emerge_traits_df = pd.read_csv(\n",
    "    input_filepath,\n",
    "    sep=\"\\t\",\n",
    "    dtype={\"phecode\": str},\n",
    "    usecols=[\"phecode\", \"phenotype\", \"category\"],\n",
    ")"
   ]
  },
  {
   "cell_type": "code",
   "execution_count": 22,
   "id": "partial-listing",
   "metadata": {
    "execution": {
     "iopub.execute_input": "2021-05-17T10:17:34.505531Z",
     "iopub.status.busy": "2021-05-17T10:17:34.505143Z",
     "iopub.status.idle": "2021-05-17T10:17:34.516457Z",
     "shell.execute_reply": "2021-05-17T10:17:34.516080Z"
    },
    "papermill": {
     "duration": 0.037982,
     "end_time": "2021-05-17T10:17:34.516542",
     "exception": false,
     "start_time": "2021-05-17T10:17:34.478560",
     "status": "completed"
    },
    "tags": []
   },
   "outputs": [],
   "source": [
    "emerge_traits_df = emerge_traits_df.rename(\n",
    "    columns={\n",
    "        \"phenotype\": \"phecode_phenotype\",\n",
    "        \"category\": \"phecode_category\",\n",
    "    }\n",
    ")"
   ]
  },
  {
   "cell_type": "code",
   "execution_count": 23,
   "id": "enormous-former",
   "metadata": {
    "execution": {
     "iopub.execute_input": "2021-05-17T10:17:34.567427Z",
     "iopub.status.busy": "2021-05-17T10:17:34.567065Z",
     "iopub.status.idle": "2021-05-17T10:17:34.578637Z",
     "shell.execute_reply": "2021-05-17T10:17:34.578267Z"
    },
    "papermill": {
     "duration": 0.03767,
     "end_time": "2021-05-17T10:17:34.578722",
     "exception": false,
     "start_time": "2021-05-17T10:17:34.541052",
     "status": "completed"
    },
    "tags": []
   },
   "outputs": [
    {
     "data": {
      "text/plain": [
       "(309, 3)"
      ]
     },
     "execution_count": 23,
     "metadata": {},
     "output_type": "execute_result"
    }
   ],
   "source": [
    "emerge_traits_df.shape"
   ]
  },
  {
   "cell_type": "code",
   "execution_count": 24,
   "id": "offshore-india",
   "metadata": {
    "execution": {
     "iopub.execute_input": "2021-05-17T10:17:34.630153Z",
     "iopub.status.busy": "2021-05-17T10:17:34.629793Z",
     "iopub.status.idle": "2021-05-17T10:17:34.643739Z",
     "shell.execute_reply": "2021-05-17T10:17:34.643350Z"
    },
    "papermill": {
     "duration": 0.04072,
     "end_time": "2021-05-17T10:17:34.643825",
     "exception": false,
     "start_time": "2021-05-17T10:17:34.603105",
     "status": "completed"
    },
    "tags": []
   },
   "outputs": [
    {
     "data": {
      "text/html": [
       "<div>\n",
       "<style scoped>\n",
       "    .dataframe tbody tr th:only-of-type {\n",
       "        vertical-align: middle;\n",
       "    }\n",
       "\n",
       "    .dataframe tbody tr th {\n",
       "        vertical-align: top;\n",
       "    }\n",
       "\n",
       "    .dataframe thead th {\n",
       "        text-align: right;\n",
       "    }\n",
       "</style>\n",
       "<table border=\"1\" class=\"dataframe\">\n",
       "  <thead>\n",
       "    <tr style=\"text-align: right;\">\n",
       "      <th></th>\n",
       "      <th>phecode</th>\n",
       "      <th>phecode_phenotype</th>\n",
       "      <th>phecode_category</th>\n",
       "    </tr>\n",
       "  </thead>\n",
       "  <tbody>\n",
       "    <tr>\n",
       "      <th>0</th>\n",
       "      <td>008</td>\n",
       "      <td>Intestinal infection</td>\n",
       "      <td>infectious diseases</td>\n",
       "    </tr>\n",
       "    <tr>\n",
       "      <th>1</th>\n",
       "      <td>008.5</td>\n",
       "      <td>Bacterial enteritis</td>\n",
       "      <td>infectious diseases</td>\n",
       "    </tr>\n",
       "    <tr>\n",
       "      <th>2</th>\n",
       "      <td>008.52</td>\n",
       "      <td>Intestinal infection due to C. difficile</td>\n",
       "      <td>infectious diseases</td>\n",
       "    </tr>\n",
       "    <tr>\n",
       "      <th>3</th>\n",
       "      <td>038</td>\n",
       "      <td>Septicemia</td>\n",
       "      <td>infectious diseases</td>\n",
       "    </tr>\n",
       "    <tr>\n",
       "      <th>4</th>\n",
       "      <td>038.3</td>\n",
       "      <td>Bacteremia</td>\n",
       "      <td>infectious diseases</td>\n",
       "    </tr>\n",
       "  </tbody>\n",
       "</table>\n",
       "</div>"
      ],
      "text/plain": [
       "  phecode                         phecode_phenotype     phecode_category\n",
       "0     008                      Intestinal infection  infectious diseases\n",
       "1   008.5                       Bacterial enteritis  infectious diseases\n",
       "2  008.52  Intestinal infection due to C. difficile  infectious diseases\n",
       "3     038                                Septicemia  infectious diseases\n",
       "4   038.3                                Bacteremia  infectious diseases"
      ]
     },
     "execution_count": 24,
     "metadata": {},
     "output_type": "execute_result"
    }
   ],
   "source": [
    "emerge_traits_df.head()"
   ]
  },
  {
   "cell_type": "markdown",
   "id": "existing-shell",
   "metadata": {
    "papermill": {
     "duration": 0.02452,
     "end_time": "2021-05-17T10:17:34.693587",
     "exception": false,
     "start_time": "2021-05-17T10:17:34.669067",
     "status": "completed"
    },
    "tags": []
   },
   "source": [
    "## eMERGE (S-MultiXcan)"
   ]
  },
  {
   "cell_type": "code",
   "execution_count": 25,
   "id": "ultimate-ballet",
   "metadata": {
    "execution": {
     "iopub.execute_input": "2021-05-17T10:17:34.745144Z",
     "iopub.status.busy": "2021-05-17T10:17:34.744764Z",
     "iopub.status.idle": "2021-05-17T10:17:34.756346Z",
     "shell.execute_reply": "2021-05-17T10:17:34.755973Z"
    },
    "papermill": {
     "duration": 0.038404,
     "end_time": "2021-05-17T10:17:34.756430",
     "exception": false,
     "start_time": "2021-05-17T10:17:34.718026",
     "status": "completed"
    },
    "tags": []
   },
   "outputs": [
    {
     "data": {
      "text/plain": [
       "PosixPath('/home/miltondp/projects/labs/greenelab/phenoplier/base/data/emerge/gene_assoc/emerge-smultixcan-mashr-zscores.pkl')"
      ]
     },
     "metadata": {},
     "output_type": "display_data"
    }
   ],
   "source": [
    "# FIXME: in the future, there will be a specific entry in config for the eMERGE directory that should be replaced here\n",
    "emerge_smultixcan_zscores_filepath = Path(\n",
    "    conf.DATA_DIR,\n",
    "    \"emerge\",\n",
    "    \"gene_assoc\",\n",
    "    \"emerge-smultixcan-mashr-zscores.pkl\",\n",
    ").resolve()\n",
    "\n",
    "display(emerge_smultixcan_zscores_filepath)"
   ]
  },
  {
   "cell_type": "code",
   "execution_count": 26,
   "id": "hydraulic-combine",
   "metadata": {
    "execution": {
     "iopub.execute_input": "2021-05-17T10:17:34.809075Z",
     "iopub.status.busy": "2021-05-17T10:17:34.808635Z",
     "iopub.status.idle": "2021-05-17T10:17:34.845011Z",
     "shell.execute_reply": "2021-05-17T10:17:34.844617Z"
    },
    "papermill": {
     "duration": 0.063317,
     "end_time": "2021-05-17T10:17:34.845116",
     "exception": false,
     "start_time": "2021-05-17T10:17:34.781799",
     "status": "completed"
    },
    "tags": []
   },
   "outputs": [],
   "source": [
    "_tmp = pd.read_pickle(emerge_smultixcan_zscores_filepath)"
   ]
  },
  {
   "cell_type": "code",
   "execution_count": 27,
   "id": "integral-cannon",
   "metadata": {
    "execution": {
     "iopub.execute_input": "2021-05-17T10:17:34.902599Z",
     "iopub.status.busy": "2021-05-17T10:17:34.902220Z",
     "iopub.status.idle": "2021-05-17T10:17:34.913894Z",
     "shell.execute_reply": "2021-05-17T10:17:34.913570Z"
    },
    "papermill": {
     "duration": 0.039288,
     "end_time": "2021-05-17T10:17:34.913986",
     "exception": false,
     "start_time": "2021-05-17T10:17:34.874698",
     "status": "completed"
    },
    "tags": []
   },
   "outputs": [
    {
     "data": {
      "text/plain": [
       "(22198, 309)"
      ]
     },
     "execution_count": 27,
     "metadata": {},
     "output_type": "execute_result"
    }
   ],
   "source": [
    "_tmp.shape"
   ]
  },
  {
   "cell_type": "code",
   "execution_count": 28,
   "id": "wound-keeping",
   "metadata": {
    "execution": {
     "iopub.execute_input": "2021-05-17T10:17:34.968055Z",
     "iopub.status.busy": "2021-05-17T10:17:34.967699Z",
     "iopub.status.idle": "2021-05-17T10:17:34.990381Z",
     "shell.execute_reply": "2021-05-17T10:17:34.990037Z"
    },
    "papermill": {
     "duration": 0.050181,
     "end_time": "2021-05-17T10:17:34.990469",
     "exception": false,
     "start_time": "2021-05-17T10:17:34.940288",
     "status": "completed"
    },
    "tags": []
   },
   "outputs": [
    {
     "data": {
      "text/html": [
       "<div>\n",
       "<style scoped>\n",
       "    .dataframe tbody tr th:only-of-type {\n",
       "        vertical-align: middle;\n",
       "    }\n",
       "\n",
       "    .dataframe tbody tr th {\n",
       "        vertical-align: top;\n",
       "    }\n",
       "\n",
       "    .dataframe thead th {\n",
       "        text-align: right;\n",
       "    }\n",
       "</style>\n",
       "<table border=\"1\" class=\"dataframe\">\n",
       "  <thead>\n",
       "    <tr style=\"text-align: right;\">\n",
       "      <th></th>\n",
       "      <th>292.3</th>\n",
       "      <th>079</th>\n",
       "      <th>741</th>\n",
       "      <th>418.1</th>\n",
       "      <th>280</th>\n",
       "      <th>747</th>\n",
       "      <th>591</th>\n",
       "      <th>426.21</th>\n",
       "      <th>244</th>\n",
       "      <th>070.3</th>\n",
       "      <th>...</th>\n",
       "      <th>427</th>\n",
       "      <th>585.4</th>\n",
       "      <th>345</th>\n",
       "      <th>366.2</th>\n",
       "      <th>420.2</th>\n",
       "      <th>195</th>\n",
       "      <th>250.2</th>\n",
       "      <th>250.1</th>\n",
       "      <th>371</th>\n",
       "      <th>562</th>\n",
       "    </tr>\n",
       "    <tr>\n",
       "      <th>gene_name</th>\n",
       "      <th></th>\n",
       "      <th></th>\n",
       "      <th></th>\n",
       "      <th></th>\n",
       "      <th></th>\n",
       "      <th></th>\n",
       "      <th></th>\n",
       "      <th></th>\n",
       "      <th></th>\n",
       "      <th></th>\n",
       "      <th></th>\n",
       "      <th></th>\n",
       "      <th></th>\n",
       "      <th></th>\n",
       "      <th></th>\n",
       "      <th></th>\n",
       "      <th></th>\n",
       "      <th></th>\n",
       "      <th></th>\n",
       "      <th></th>\n",
       "      <th></th>\n",
       "    </tr>\n",
       "  </thead>\n",
       "  <tbody>\n",
       "    <tr>\n",
       "      <th>ENSG00000000419</th>\n",
       "      <td>1.043436</td>\n",
       "      <td>1.134028</td>\n",
       "      <td>1.595979</td>\n",
       "      <td>0.399451</td>\n",
       "      <td>0.725100</td>\n",
       "      <td>1.655468</td>\n",
       "      <td>1.803598</td>\n",
       "      <td>0.125250</td>\n",
       "      <td>1.053218</td>\n",
       "      <td>0.922592</td>\n",
       "      <td>...</td>\n",
       "      <td>0.364789</td>\n",
       "      <td>0.453873</td>\n",
       "      <td>0.759558</td>\n",
       "      <td>1.173671</td>\n",
       "      <td>0.298944</td>\n",
       "      <td>1.029646</td>\n",
       "      <td>0.826238</td>\n",
       "      <td>0.685711</td>\n",
       "      <td>2.069701</td>\n",
       "      <td>1.544766</td>\n",
       "    </tr>\n",
       "    <tr>\n",
       "      <th>ENSG00000000457</th>\n",
       "      <td>1.236752</td>\n",
       "      <td>0.119837</td>\n",
       "      <td>0.224120</td>\n",
       "      <td>0.200610</td>\n",
       "      <td>1.304190</td>\n",
       "      <td>0.541478</td>\n",
       "      <td>0.646474</td>\n",
       "      <td>0.493759</td>\n",
       "      <td>0.189680</td>\n",
       "      <td>1.563273</td>\n",
       "      <td>...</td>\n",
       "      <td>1.519500</td>\n",
       "      <td>0.201290</td>\n",
       "      <td>1.020996</td>\n",
       "      <td>0.592006</td>\n",
       "      <td>0.632661</td>\n",
       "      <td>0.995453</td>\n",
       "      <td>0.069362</td>\n",
       "      <td>0.460979</td>\n",
       "      <td>0.217046</td>\n",
       "      <td>1.350475</td>\n",
       "    </tr>\n",
       "    <tr>\n",
       "      <th>ENSG00000000460</th>\n",
       "      <td>0.497108</td>\n",
       "      <td>0.005690</td>\n",
       "      <td>0.317710</td>\n",
       "      <td>0.184918</td>\n",
       "      <td>1.136574</td>\n",
       "      <td>1.708245</td>\n",
       "      <td>0.288962</td>\n",
       "      <td>1.070026</td>\n",
       "      <td>0.403510</td>\n",
       "      <td>1.106321</td>\n",
       "      <td>...</td>\n",
       "      <td>0.678253</td>\n",
       "      <td>1.166204</td>\n",
       "      <td>1.138126</td>\n",
       "      <td>0.608565</td>\n",
       "      <td>0.449551</td>\n",
       "      <td>0.096689</td>\n",
       "      <td>0.887467</td>\n",
       "      <td>0.143815</td>\n",
       "      <td>0.236647</td>\n",
       "      <td>1.048859</td>\n",
       "    </tr>\n",
       "    <tr>\n",
       "      <th>ENSG00000000938</th>\n",
       "      <td>0.374442</td>\n",
       "      <td>1.099899</td>\n",
       "      <td>1.975795</td>\n",
       "      <td>0.107667</td>\n",
       "      <td>0.903520</td>\n",
       "      <td>0.673819</td>\n",
       "      <td>0.855749</td>\n",
       "      <td>0.499088</td>\n",
       "      <td>0.375406</td>\n",
       "      <td>0.815757</td>\n",
       "      <td>...</td>\n",
       "      <td>1.585687</td>\n",
       "      <td>0.584143</td>\n",
       "      <td>0.751384</td>\n",
       "      <td>2.758230</td>\n",
       "      <td>0.572712</td>\n",
       "      <td>0.141023</td>\n",
       "      <td>1.437022</td>\n",
       "      <td>0.288943</td>\n",
       "      <td>0.665727</td>\n",
       "      <td>1.225229</td>\n",
       "    </tr>\n",
       "    <tr>\n",
       "      <th>ENSG00000000971</th>\n",
       "      <td>1.108762</td>\n",
       "      <td>1.133163</td>\n",
       "      <td>0.227188</td>\n",
       "      <td>0.222948</td>\n",
       "      <td>0.072709</td>\n",
       "      <td>0.256124</td>\n",
       "      <td>0.540911</td>\n",
       "      <td>0.606947</td>\n",
       "      <td>0.229133</td>\n",
       "      <td>1.557433</td>\n",
       "      <td>...</td>\n",
       "      <td>2.349373</td>\n",
       "      <td>1.122458</td>\n",
       "      <td>0.155346</td>\n",
       "      <td>0.990123</td>\n",
       "      <td>0.326914</td>\n",
       "      <td>1.100210</td>\n",
       "      <td>1.099537</td>\n",
       "      <td>2.511358</td>\n",
       "      <td>0.950262</td>\n",
       "      <td>1.467305</td>\n",
       "    </tr>\n",
       "  </tbody>\n",
       "</table>\n",
       "<p>5 rows × 309 columns</p>\n",
       "</div>"
      ],
      "text/plain": [
       "                    292.3       079       741     418.1       280       747  \\\n",
       "gene_name                                                                     \n",
       "ENSG00000000419  1.043436  1.134028  1.595979  0.399451  0.725100  1.655468   \n",
       "ENSG00000000457  1.236752  0.119837  0.224120  0.200610  1.304190  0.541478   \n",
       "ENSG00000000460  0.497108  0.005690  0.317710  0.184918  1.136574  1.708245   \n",
       "ENSG00000000938  0.374442  1.099899  1.975795  0.107667  0.903520  0.673819   \n",
       "ENSG00000000971  1.108762  1.133163  0.227188  0.222948  0.072709  0.256124   \n",
       "\n",
       "                      591    426.21       244     070.3  ...       427  \\\n",
       "gene_name                                                ...             \n",
       "ENSG00000000419  1.803598  0.125250  1.053218  0.922592  ...  0.364789   \n",
       "ENSG00000000457  0.646474  0.493759  0.189680  1.563273  ...  1.519500   \n",
       "ENSG00000000460  0.288962  1.070026  0.403510  1.106321  ...  0.678253   \n",
       "ENSG00000000938  0.855749  0.499088  0.375406  0.815757  ...  1.585687   \n",
       "ENSG00000000971  0.540911  0.606947  0.229133  1.557433  ...  2.349373   \n",
       "\n",
       "                    585.4       345     366.2     420.2       195     250.2  \\\n",
       "gene_name                                                                     \n",
       "ENSG00000000419  0.453873  0.759558  1.173671  0.298944  1.029646  0.826238   \n",
       "ENSG00000000457  0.201290  1.020996  0.592006  0.632661  0.995453  0.069362   \n",
       "ENSG00000000460  1.166204  1.138126  0.608565  0.449551  0.096689  0.887467   \n",
       "ENSG00000000938  0.584143  0.751384  2.758230  0.572712  0.141023  1.437022   \n",
       "ENSG00000000971  1.122458  0.155346  0.990123  0.326914  1.100210  1.099537   \n",
       "\n",
       "                    250.1       371       562  \n",
       "gene_name                                      \n",
       "ENSG00000000419  0.685711  2.069701  1.544766  \n",
       "ENSG00000000457  0.460979  0.217046  1.350475  \n",
       "ENSG00000000460  0.143815  0.236647  1.048859  \n",
       "ENSG00000000938  0.288943  0.665727  1.225229  \n",
       "ENSG00000000971  2.511358  0.950262  1.467305  \n",
       "\n",
       "[5 rows x 309 columns]"
      ]
     },
     "execution_count": 28,
     "metadata": {},
     "output_type": "execute_result"
    }
   ],
   "source": [
    "_tmp.head()"
   ]
  },
  {
   "cell_type": "markdown",
   "id": "published-tribe",
   "metadata": {
    "papermill": {
     "duration": 0.025459,
     "end_time": "2021-05-17T10:17:35.043191",
     "exception": false,
     "start_time": "2021-05-17T10:17:35.017732",
     "status": "completed"
    },
    "tags": []
   },
   "source": [
    "## GLS results on PhenomeXcan"
   ]
  },
  {
   "cell_type": "code",
   "execution_count": 29,
   "id": "selective-producer",
   "metadata": {
    "execution": {
     "iopub.execute_input": "2021-05-17T10:17:35.096547Z",
     "iopub.status.busy": "2021-05-17T10:17:35.096187Z",
     "iopub.status.idle": "2021-05-17T10:17:35.107595Z",
     "shell.execute_reply": "2021-05-17T10:17:35.107235Z"
    },
    "papermill": {
     "duration": 0.039217,
     "end_time": "2021-05-17T10:17:35.107678",
     "exception": false,
     "start_time": "2021-05-17T10:17:35.068461",
     "status": "completed"
    },
    "tags": []
   },
   "outputs": [
    {
     "data": {
      "text/plain": [
       "PosixPath('/home/miltondp/projects/labs/greenelab/phenoplier/base/results/gls/gls_phenotypes-crispr_lvs.pkl')"
      ]
     },
     "metadata": {},
     "output_type": "display_data"
    }
   ],
   "source": [
    "input_filepath = conf.RESULTS[\"GLS\"] / \"gls_phenotypes-crispr_lvs.pkl\"\n",
    "display(input_filepath)"
   ]
  },
  {
   "cell_type": "code",
   "execution_count": 30,
   "id": "cognitive-dancing",
   "metadata": {
    "execution": {
     "iopub.execute_input": "2021-05-17T10:17:35.162595Z",
     "iopub.status.busy": "2021-05-17T10:17:35.162221Z",
     "iopub.status.idle": "2021-05-17T10:17:36.230434Z",
     "shell.execute_reply": "2021-05-17T10:17:36.229931Z"
    },
    "papermill": {
     "duration": 1.096317,
     "end_time": "2021-05-17T10:17:36.230545",
     "exception": false,
     "start_time": "2021-05-17T10:17:35.134228",
     "status": "completed"
    },
    "tags": []
   },
   "outputs": [],
   "source": [
    "gls_phenomexcan_crispr = pd.read_pickle(input_filepath)"
   ]
  },
  {
   "cell_type": "code",
   "execution_count": 31,
   "id": "unlikely-collapse",
   "metadata": {
    "execution": {
     "iopub.execute_input": "2021-05-17T10:17:36.295853Z",
     "iopub.status.busy": "2021-05-17T10:17:36.295494Z",
     "iopub.status.idle": "2021-05-17T10:17:36.306436Z",
     "shell.execute_reply": "2021-05-17T10:17:36.306723Z"
    },
    "papermill": {
     "duration": 0.04175,
     "end_time": "2021-05-17T10:17:36.306830",
     "exception": false,
     "start_time": "2021-05-17T10:17:36.265080",
     "status": "completed"
    },
    "tags": []
   },
   "outputs": [
    {
     "data": {
      "text/plain": [
       "(2142, 9)"
      ]
     },
     "execution_count": 31,
     "metadata": {},
     "output_type": "execute_result"
    }
   ],
   "source": [
    "gls_phenomexcan_crispr.shape"
   ]
  },
  {
   "cell_type": "code",
   "execution_count": 32,
   "id": "prompt-williams",
   "metadata": {
    "execution": {
     "iopub.execute_input": "2021-05-17T10:17:36.364433Z",
     "iopub.status.busy": "2021-05-17T10:17:36.364082Z",
     "iopub.status.idle": "2021-05-17T10:17:36.393027Z",
     "shell.execute_reply": "2021-05-17T10:17:36.392643Z"
    },
    "papermill": {
     "duration": 0.05815,
     "end_time": "2021-05-17T10:17:36.393113",
     "exception": false,
     "start_time": "2021-05-17T10:17:36.334963",
     "status": "completed"
    },
    "tags": []
   },
   "outputs": [
    {
     "data": {
      "text/html": [
       "<div>\n",
       "<style scoped>\n",
       "    .dataframe tbody tr th:only-of-type {\n",
       "        vertical-align: middle;\n",
       "    }\n",
       "\n",
       "    .dataframe tbody tr th {\n",
       "        vertical-align: top;\n",
       "    }\n",
       "\n",
       "    .dataframe thead th {\n",
       "        text-align: right;\n",
       "    }\n",
       "</style>\n",
       "<table border=\"1\" class=\"dataframe\">\n",
       "  <thead>\n",
       "    <tr style=\"text-align: right;\">\n",
       "      <th></th>\n",
       "      <th>part_k</th>\n",
       "      <th>cluster_id</th>\n",
       "      <th>phenotype</th>\n",
       "      <th>lv</th>\n",
       "      <th>lv_set</th>\n",
       "      <th>lv_with_pathway</th>\n",
       "      <th>coef</th>\n",
       "      <th>pvalue</th>\n",
       "      <th>summary</th>\n",
       "    </tr>\n",
       "  </thead>\n",
       "  <tbody>\n",
       "    <tr>\n",
       "      <th>0</th>\n",
       "      <td>29</td>\n",
       "      <td>17</td>\n",
       "      <td>20003_1140861958-Treatmentmedication_code_simv...</td>\n",
       "      <td>LV120</td>\n",
       "      <td>lipids-increasing</td>\n",
       "      <td>False</td>\n",
       "      <td>0.011685</td>\n",
       "      <td>0.345237</td>\n",
       "      <td>GLS Regression Res...</td>\n",
       "    </tr>\n",
       "    <tr>\n",
       "      <th>1</th>\n",
       "      <td>29</td>\n",
       "      <td>17</td>\n",
       "      <td>20003_1140861958-Treatmentmedication_code_simv...</td>\n",
       "      <td>LV122</td>\n",
       "      <td>lipids-increasing</td>\n",
       "      <td>False</td>\n",
       "      <td>-0.004370</td>\n",
       "      <td>0.723659</td>\n",
       "      <td>GLS Regression Res...</td>\n",
       "    </tr>\n",
       "    <tr>\n",
       "      <th>2</th>\n",
       "      <td>29</td>\n",
       "      <td>17</td>\n",
       "      <td>20003_1140861958-Treatmentmedication_code_simv...</td>\n",
       "      <td>LV131</td>\n",
       "      <td>lipids-decreasing</td>\n",
       "      <td>False</td>\n",
       "      <td>-0.000511</td>\n",
       "      <td>0.966819</td>\n",
       "      <td>GLS Regression Res...</td>\n",
       "    </tr>\n",
       "    <tr>\n",
       "      <th>3</th>\n",
       "      <td>29</td>\n",
       "      <td>17</td>\n",
       "      <td>20003_1140861958-Treatmentmedication_code_simv...</td>\n",
       "      <td>LV157</td>\n",
       "      <td>lipids-decreasing</td>\n",
       "      <td>False</td>\n",
       "      <td>0.010968</td>\n",
       "      <td>0.352087</td>\n",
       "      <td>GLS Regression Res...</td>\n",
       "    </tr>\n",
       "    <tr>\n",
       "      <th>4</th>\n",
       "      <td>29</td>\n",
       "      <td>17</td>\n",
       "      <td>20003_1140861958-Treatmentmedication_code_simv...</td>\n",
       "      <td>LV199</td>\n",
       "      <td>lipids-decreasing</td>\n",
       "      <td>False</td>\n",
       "      <td>-0.009505</td>\n",
       "      <td>0.435201</td>\n",
       "      <td>GLS Regression Res...</td>\n",
       "    </tr>\n",
       "  </tbody>\n",
       "</table>\n",
       "</div>"
      ],
      "text/plain": [
       "   part_k  cluster_id                                          phenotype  \\\n",
       "0      29          17  20003_1140861958-Treatmentmedication_code_simv...   \n",
       "1      29          17  20003_1140861958-Treatmentmedication_code_simv...   \n",
       "2      29          17  20003_1140861958-Treatmentmedication_code_simv...   \n",
       "3      29          17  20003_1140861958-Treatmentmedication_code_simv...   \n",
       "4      29          17  20003_1140861958-Treatmentmedication_code_simv...   \n",
       "\n",
       "      lv             lv_set  lv_with_pathway      coef    pvalue  \\\n",
       "0  LV120  lipids-increasing            False  0.011685  0.345237   \n",
       "1  LV122  lipids-increasing            False -0.004370  0.723659   \n",
       "2  LV131  lipids-decreasing            False -0.000511  0.966819   \n",
       "3  LV157  lipids-decreasing            False  0.010968  0.352087   \n",
       "4  LV199  lipids-decreasing            False -0.009505  0.435201   \n",
       "\n",
       "                                             summary  \n",
       "0                              GLS Regression Res...  \n",
       "1                              GLS Regression Res...  \n",
       "2                              GLS Regression Res...  \n",
       "3                              GLS Regression Res...  \n",
       "4                              GLS Regression Res...  "
      ]
     },
     "execution_count": 32,
     "metadata": {},
     "output_type": "execute_result"
    }
   ],
   "source": [
    "gls_phenomexcan_crispr.head()"
   ]
  },
  {
   "cell_type": "markdown",
   "id": "starting-discretion",
   "metadata": {
    "papermill": {
     "duration": 0.026863,
     "end_time": "2021-05-17T10:17:36.793385",
     "exception": false,
     "start_time": "2021-05-17T10:17:36.766522",
     "status": "completed"
    },
    "tags": []
   },
   "source": [
    "# Select LV from previous GLS run on PhenomeXcan"
   ]
  },
  {
   "cell_type": "markdown",
   "id": "divided-smith",
   "metadata": {
    "papermill": {
     "duration": 0.026863,
     "end_time": "2021-05-17T10:17:36.793385",
     "exception": false,
     "start_time": "2021-05-17T10:17:36.766522",
     "status": "completed"
    },
    "tags": []
   },
   "source": [
    "This selectes the LVs enriched for the lipids CRISPR anaysis."
   ]
  },
  {
   "cell_type": "code",
   "execution_count": 37,
   "id": "based-outside",
   "metadata": {
    "execution": {
     "iopub.execute_input": "2021-05-17T10:17:36.850124Z",
     "iopub.status.busy": "2021-05-17T10:17:36.849751Z",
     "iopub.status.idle": "2021-05-17T10:17:36.861984Z",
     "shell.execute_reply": "2021-05-17T10:17:36.861599Z"
    },
    "papermill": {
     "duration": 0.041661,
     "end_time": "2021-05-17T10:17:36.862070",
     "exception": false,
     "start_time": "2021-05-17T10:17:36.820409",
     "status": "completed"
    },
    "tags": []
   },
   "outputs": [],
   "source": [
    "gls_phenomexcan_lvs = (\n",
    "    gls_phenomexcan_crispr[[\"lv\", \"lv_set\"]].drop_duplicates().reset_index(drop=True)\n",
    ")"
   ]
  },
  {
   "cell_type": "code",
   "execution_count": 38,
   "id": "recreational-moisture",
   "metadata": {
    "execution": {
     "iopub.execute_input": "2021-05-17T10:17:36.920660Z",
     "iopub.status.busy": "2021-05-17T10:17:36.920299Z",
     "iopub.status.idle": "2021-05-17T10:17:36.931187Z",
     "shell.execute_reply": "2021-05-17T10:17:36.931479Z"
    },
    "papermill": {
     "duration": 0.041039,
     "end_time": "2021-05-17T10:17:36.931588",
     "exception": false,
     "start_time": "2021-05-17T10:17:36.890549",
     "status": "completed"
    },
    "tags": []
   },
   "outputs": [
    {
     "data": {
      "text/plain": [
       "(51, 2)"
      ]
     },
     "execution_count": 38,
     "metadata": {},
     "output_type": "execute_result"
    }
   ],
   "source": [
    "gls_phenomexcan_lvs.shape"
   ]
  },
  {
   "cell_type": "code",
   "execution_count": 39,
   "id": "final-disease",
   "metadata": {
    "execution": {
     "iopub.execute_input": "2021-05-17T10:17:36.991101Z",
     "iopub.status.busy": "2021-05-17T10:17:36.990737Z",
     "iopub.status.idle": "2021-05-17T10:17:37.004079Z",
     "shell.execute_reply": "2021-05-17T10:17:37.003704Z"
    },
    "papermill": {
     "duration": 0.043102,
     "end_time": "2021-05-17T10:17:37.004164",
     "exception": false,
     "start_time": "2021-05-17T10:17:36.961062",
     "status": "completed"
    },
    "tags": []
   },
   "outputs": [
    {
     "data": {
      "text/html": [
       "<div>\n",
       "<style scoped>\n",
       "    .dataframe tbody tr th:only-of-type {\n",
       "        vertical-align: middle;\n",
       "    }\n",
       "\n",
       "    .dataframe tbody tr th {\n",
       "        vertical-align: top;\n",
       "    }\n",
       "\n",
       "    .dataframe thead th {\n",
       "        text-align: right;\n",
       "    }\n",
       "</style>\n",
       "<table border=\"1\" class=\"dataframe\">\n",
       "  <thead>\n",
       "    <tr style=\"text-align: right;\">\n",
       "      <th></th>\n",
       "      <th>lv</th>\n",
       "      <th>lv_set</th>\n",
       "    </tr>\n",
       "  </thead>\n",
       "  <tbody>\n",
       "    <tr>\n",
       "      <th>0</th>\n",
       "      <td>LV120</td>\n",
       "      <td>lipids-increasing</td>\n",
       "    </tr>\n",
       "    <tr>\n",
       "      <th>1</th>\n",
       "      <td>LV122</td>\n",
       "      <td>lipids-increasing</td>\n",
       "    </tr>\n",
       "    <tr>\n",
       "      <th>2</th>\n",
       "      <td>LV131</td>\n",
       "      <td>lipids-decreasing</td>\n",
       "    </tr>\n",
       "    <tr>\n",
       "      <th>3</th>\n",
       "      <td>LV157</td>\n",
       "      <td>lipids-decreasing</td>\n",
       "    </tr>\n",
       "    <tr>\n",
       "      <th>4</th>\n",
       "      <td>LV199</td>\n",
       "      <td>lipids-decreasing</td>\n",
       "    </tr>\n",
       "  </tbody>\n",
       "</table>\n",
       "</div>"
      ],
      "text/plain": [
       "      lv             lv_set\n",
       "0  LV120  lipids-increasing\n",
       "1  LV122  lipids-increasing\n",
       "2  LV131  lipids-decreasing\n",
       "3  LV157  lipids-decreasing\n",
       "4  LV199  lipids-decreasing"
      ]
     },
     "execution_count": 39,
     "metadata": {},
     "output_type": "execute_result"
    }
   ],
   "source": [
    "gls_phenomexcan_lvs.head()"
   ]
  },
  {
   "cell_type": "markdown",
   "id": "valued-appearance",
   "metadata": {
    "papermill": {
     "duration": 0.026908,
     "end_time": "2021-05-17T10:17:37.059822",
     "exception": false,
     "start_time": "2021-05-17T10:17:37.032914",
     "status": "completed"
    },
    "tags": []
   },
   "source": [
    "# Select relevant traits from eMERGE"
   ]
  },
  {
   "cell_type": "markdown",
   "id": "early-pattern",
   "metadata": {
    "papermill": {
     "duration": 0.026908,
     "end_time": "2021-05-17T10:17:37.059822",
     "exception": false,
     "start_time": "2021-05-17T10:17:37.032914",
     "status": "completed"
    },
    "tags": []
   },
   "source": [
    "Here we don't have partitions/cluters as with PhenomeXcan. So for this analysis (LVs related to lipids), I select relevant categories of traits from eMERGE (we have a \"category\" column for this results)."
   ]
  },
  {
   "cell_type": "code",
   "execution_count": 40,
   "id": "considered-error",
   "metadata": {
    "execution": {
     "iopub.execute_input": "2021-05-17T10:17:37.116738Z",
     "iopub.status.busy": "2021-05-17T10:17:37.116342Z",
     "iopub.status.idle": "2021-05-17T10:17:37.127988Z",
     "shell.execute_reply": "2021-05-17T10:17:37.127615Z"
    },
    "papermill": {
     "duration": 0.041446,
     "end_time": "2021-05-17T10:17:37.128073",
     "exception": false,
     "start_time": "2021-05-17T10:17:37.086627",
     "status": "completed"
    },
    "tags": []
   },
   "outputs": [
    {
     "data": {
      "text/plain": [
       "array(['infectious diseases', 'neoplasms', 'endocrine/metabolic',\n",
       "       'hematopoietic', 'mental disorders', 'neurological',\n",
       "       'sense organs', 'circulatory system', 'respiratory', 'digestive',\n",
       "       'genitourinary', 'dermatologic', 'musculoskeletal',\n",
       "       'congenital anomalies'], dtype=object)"
      ]
     },
     "execution_count": 40,
     "metadata": {},
     "output_type": "execute_result"
    }
   ],
   "source": [
    "emerge_traits_df[\"phecode_category\"].unique()"
   ]
  },
  {
   "cell_type": "code",
   "execution_count": 41,
   "id": "legal-exercise",
   "metadata": {
    "execution": {
     "iopub.execute_input": "2021-05-17T10:17:37.187510Z",
     "iopub.status.busy": "2021-05-17T10:17:37.187150Z",
     "iopub.status.idle": "2021-05-17T10:17:37.197998Z",
     "shell.execute_reply": "2021-05-17T10:17:37.197617Z"
    },
    "papermill": {
     "duration": 0.041221,
     "end_time": "2021-05-17T10:17:37.198083",
     "exception": false,
     "start_time": "2021-05-17T10:17:37.156862",
     "status": "completed"
    },
    "tags": []
   },
   "outputs": [],
   "source": [
    "gls_traits = emerge_traits_df[\n",
    "    emerge_traits_df[\"phecode_category\"].isin(\n",
    "        [\n",
    "            \"circulatory system\",\n",
    "            \"endocrine/metabolic\",\n",
    "        ]\n",
    "    )\n",
    "][\"phecode\"].unique()"
   ]
  },
  {
   "cell_type": "code",
   "execution_count": 42,
   "id": "occupied-horse",
   "metadata": {
    "execution": {
     "iopub.execute_input": "2021-05-17T10:17:37.262331Z",
     "iopub.status.busy": "2021-05-17T10:17:37.261971Z",
     "iopub.status.idle": "2021-05-17T10:17:37.273332Z",
     "shell.execute_reply": "2021-05-17T10:17:37.272955Z"
    },
    "papermill": {
     "duration": 0.042799,
     "end_time": "2021-05-17T10:17:37.273420",
     "exception": false,
     "start_time": "2021-05-17T10:17:37.230621",
     "status": "completed"
    },
    "tags": []
   },
   "outputs": [
    {
     "data": {
      "text/plain": [
       "(128,)"
      ]
     },
     "execution_count": 42,
     "metadata": {},
     "output_type": "execute_result"
    }
   ],
   "source": [
    "gls_traits.shape"
   ]
  },
  {
   "cell_type": "code",
   "execution_count": 43,
   "id": "sacred-hours",
   "metadata": {
    "execution": {
     "iopub.execute_input": "2021-05-17T10:17:37.332176Z",
     "iopub.status.busy": "2021-05-17T10:17:37.331811Z",
     "iopub.status.idle": "2021-05-17T10:17:37.343360Z",
     "shell.execute_reply": "2021-05-17T10:17:37.342973Z"
    },
    "papermill": {
     "duration": 0.041549,
     "end_time": "2021-05-17T10:17:37.343447",
     "exception": false,
     "start_time": "2021-05-17T10:17:37.301898",
     "status": "completed"
    },
    "tags": []
   },
   "outputs": [
    {
     "data": {
      "text/plain": [
       "array(['241', '241.1', '241.2', '244', '244.2', '244.4', '249', '250',\n",
       "       '250.1', '250.2', '250.22', '250.24', '250.4', '250.41', '250.6',\n",
       "       '260', '260.2', '261', '261.4', '269', '270', '272', '272.1',\n",
       "       '272.11', '272.13', '274', '274.1', '274.11', '275', '275.3',\n",
       "       '275.5', '275.53', '276', '276.1', '276.12', '276.13', '276.14',\n",
       "       '276.4', '276.41', '276.5', '276.6', '277.7', '278', '278.1',\n",
       "       '278.11', '279', '394', '394.2', '394.7', '395', '395.1', '395.2',\n",
       "       '401', '401.1', '401.2', '401.21', '401.22', '411', '411.1',\n",
       "       '411.2', '411.3', '411.4', '411.8', '414', '415', '415.1',\n",
       "       '415.11', '415.2', '415.21', '416', '418', '418.1', '420', '420.2',\n",
       "       '420.3', '425', '425.1', '425.2', '426', '426.2', '426.21',\n",
       "       '426.24', '426.3', '426.31', '426.32', '427', '427.1', '427.11',\n",
       "       '427.12', '427.2', '427.21', '427.22', '427.4', '427.5', '427.6',\n",
       "       '427.8', '427.9', '428', '428.1', '428.2', '428.3', '428.4', '429',\n",
       "       '429.1', '429.2', '429.3', '433', '433.1', '433.2', '433.21',\n",
       "       '433.3', '433.31', '433.6', '440', '440.2', '440.22', '442.1',\n",
       "       '442.11', '443', '443.9', '444', '452', '452.2', '454', '455',\n",
       "       '456', '458', '458.9'], dtype=object)"
      ]
     },
     "execution_count": 43,
     "metadata": {},
     "output_type": "execute_result"
    }
   ],
   "source": [
    "gls_traits"
   ]
  },
  {
   "cell_type": "markdown",
   "id": "grave-sheriff",
   "metadata": {
    "papermill": {
     "duration": 0.027973,
     "end_time": "2021-05-17T10:17:37.401604",
     "exception": false,
     "start_time": "2021-05-17T10:17:37.373631",
     "status": "completed"
    },
    "tags": []
   },
   "source": [
    "# GLSPhenoplier"
   ]
  },
  {
   "cell_type": "markdown",
   "id": "regular-greensboro",
   "metadata": {
    "papermill": {
     "duration": 0.027468,
     "end_time": "2021-05-17T10:17:37.456966",
     "exception": false,
     "start_time": "2021-05-17T10:17:37.429498",
     "status": "completed"
    },
    "tags": []
   },
   "source": [
    "## Get list of phenotypes/lvs pairs"
   ]
  },
  {
   "cell_type": "code",
   "execution_count": 44,
   "id": "favorite-dubai",
   "metadata": {
    "execution": {
     "iopub.execute_input": "2021-05-17T10:17:37.516080Z",
     "iopub.status.busy": "2021-05-17T10:17:37.515711Z",
     "iopub.status.idle": "2021-05-17T10:17:37.564199Z",
     "shell.execute_reply": "2021-05-17T10:17:37.563821Z"
    },
    "papermill": {
     "duration": 0.079359,
     "end_time": "2021-05-17T10:17:37.564284",
     "exception": false,
     "start_time": "2021-05-17T10:17:37.484925",
     "status": "completed"
    },
    "tags": []
   },
   "outputs": [],
   "source": [
    "phenotypes_lvs_pairs = []\n",
    "\n",
    "for idx, lv_row in gls_phenomexcan_lvs.iterrows():\n",
    "    for phenotype_code in gls_traits:\n",
    "        phenotypes_lvs_pairs.append(\n",
    "            {\n",
    "                \"phenotype\": phenotype_code,\n",
    "                \"lv\": lv_row[\"lv\"],\n",
    "                \"lv_set\": lv_row[\"lv_set\"],\n",
    "            }\n",
    "        )\n",
    "\n",
    "phenotypes_lvs_pairs = pd.DataFrame(phenotypes_lvs_pairs).drop_duplicates()"
   ]
  },
  {
   "cell_type": "code",
   "execution_count": 45,
   "id": "protected-tragedy",
   "metadata": {
    "execution": {
     "iopub.execute_input": "2021-05-17T10:17:37.622942Z",
     "iopub.status.busy": "2021-05-17T10:17:37.622569Z",
     "iopub.status.idle": "2021-05-17T10:17:37.636152Z",
     "shell.execute_reply": "2021-05-17T10:17:37.635789Z"
    },
    "papermill": {
     "duration": 0.043779,
     "end_time": "2021-05-17T10:17:37.636232",
     "exception": false,
     "start_time": "2021-05-17T10:17:37.592453",
     "status": "completed"
    },
    "tags": []
   },
   "outputs": [],
   "source": [
    "phenotypes_lvs_pairs = phenotypes_lvs_pairs.sort_values(\"phenotype\").reset_index(\n",
    "    drop=True\n",
    ")"
   ]
  },
  {
   "cell_type": "code",
   "execution_count": 46,
   "id": "running-resort",
   "metadata": {
    "execution": {
     "iopub.execute_input": "2021-05-17T10:17:37.695337Z",
     "iopub.status.busy": "2021-05-17T10:17:37.694972Z",
     "iopub.status.idle": "2021-05-17T10:17:37.706504Z",
     "shell.execute_reply": "2021-05-17T10:17:37.706128Z"
    },
    "papermill": {
     "duration": 0.042007,
     "end_time": "2021-05-17T10:17:37.706589",
     "exception": false,
     "start_time": "2021-05-17T10:17:37.664582",
     "status": "completed"
    },
    "tags": []
   },
   "outputs": [
    {
     "data": {
      "text/plain": [
       "(6528, 3)"
      ]
     },
     "execution_count": 46,
     "metadata": {},
     "output_type": "execute_result"
    }
   ],
   "source": [
    "phenotypes_lvs_pairs.shape"
   ]
  },
  {
   "cell_type": "code",
   "execution_count": 47,
   "id": "frozen-lottery",
   "metadata": {
    "execution": {
     "iopub.execute_input": "2021-05-17T10:17:37.766516Z",
     "iopub.status.busy": "2021-05-17T10:17:37.766147Z",
     "iopub.status.idle": "2021-05-17T10:17:37.780064Z",
     "shell.execute_reply": "2021-05-17T10:17:37.779699Z"
    },
    "papermill": {
     "duration": 0.04473,
     "end_time": "2021-05-17T10:17:37.780146",
     "exception": false,
     "start_time": "2021-05-17T10:17:37.735416",
     "status": "completed"
    },
    "tags": []
   },
   "outputs": [
    {
     "data": {
      "text/html": [
       "<div>\n",
       "<style scoped>\n",
       "    .dataframe tbody tr th:only-of-type {\n",
       "        vertical-align: middle;\n",
       "    }\n",
       "\n",
       "    .dataframe tbody tr th {\n",
       "        vertical-align: top;\n",
       "    }\n",
       "\n",
       "    .dataframe thead th {\n",
       "        text-align: right;\n",
       "    }\n",
       "</style>\n",
       "<table border=\"1\" class=\"dataframe\">\n",
       "  <thead>\n",
       "    <tr style=\"text-align: right;\">\n",
       "      <th></th>\n",
       "      <th>phenotype</th>\n",
       "      <th>lv</th>\n",
       "      <th>lv_set</th>\n",
       "    </tr>\n",
       "  </thead>\n",
       "  <tbody>\n",
       "    <tr>\n",
       "      <th>0</th>\n",
       "      <td>241</td>\n",
       "      <td>LV120</td>\n",
       "      <td>lipids-increasing</td>\n",
       "    </tr>\n",
       "    <tr>\n",
       "      <th>1</th>\n",
       "      <td>241</td>\n",
       "      <td>LV783</td>\n",
       "      <td>lipids-decreasing</td>\n",
       "    </tr>\n",
       "    <tr>\n",
       "      <th>2</th>\n",
       "      <td>241</td>\n",
       "      <td>LV621</td>\n",
       "      <td>lipids-increasing</td>\n",
       "    </tr>\n",
       "    <tr>\n",
       "      <th>3</th>\n",
       "      <td>241</td>\n",
       "      <td>LV494</td>\n",
       "      <td>lipids-increasing</td>\n",
       "    </tr>\n",
       "    <tr>\n",
       "      <th>4</th>\n",
       "      <td>241</td>\n",
       "      <td>LV246</td>\n",
       "      <td>lipids-increasing</td>\n",
       "    </tr>\n",
       "  </tbody>\n",
       "</table>\n",
       "</div>"
      ],
      "text/plain": [
       "  phenotype     lv             lv_set\n",
       "0       241  LV120  lipids-increasing\n",
       "1       241  LV783  lipids-decreasing\n",
       "2       241  LV621  lipids-increasing\n",
       "3       241  LV494  lipids-increasing\n",
       "4       241  LV246  lipids-increasing"
      ]
     },
     "execution_count": 47,
     "metadata": {},
     "output_type": "execute_result"
    }
   ],
   "source": [
    "phenotypes_lvs_pairs.head()"
   ]
  },
  {
   "cell_type": "markdown",
   "id": "simplified-session",
   "metadata": {
    "papermill": {
     "duration": 0.028585,
     "end_time": "2021-05-17T10:17:37.837729",
     "exception": false,
     "start_time": "2021-05-17T10:17:37.809144",
     "status": "completed"
    },
    "tags": []
   },
   "source": [
    "## Run"
   ]
  },
  {
   "cell_type": "code",
   "execution_count": 48,
   "id": "incorrect-credits",
   "metadata": {
    "execution": {
     "iopub.execute_input": "2021-05-17T10:17:37.897377Z",
     "iopub.status.busy": "2021-05-17T10:17:37.896998Z",
     "iopub.status.idle": "2021-05-17T10:17:37.908329Z",
     "shell.execute_reply": "2021-05-17T10:17:37.907955Z"
    },
    "papermill": {
     "duration": 0.041976,
     "end_time": "2021-05-17T10:17:37.908413",
     "exception": false,
     "start_time": "2021-05-17T10:17:37.866437",
     "status": "completed"
    },
    "tags": []
   },
   "outputs": [
    {
     "data": {
      "text/plain": [
       "PosixPath('/home/miltondp/projects/labs/greenelab/phenoplier/base/results/gls/gls_phenotypes-emerge-crispr_lvs.pkl')"
      ]
     },
     "metadata": {},
     "output_type": "display_data"
    }
   ],
   "source": [
    "output_file = OUTPUT_DIR / \"gls_phenotypes-emerge-crispr_lvs.pkl\"\n",
    "display(output_file)"
   ]
  },
  {
   "cell_type": "code",
   "execution_count": 49,
   "id": "floating-ladder",
   "metadata": {
    "execution": {
     "iopub.execute_input": "2021-05-17T10:17:37.973087Z",
     "iopub.status.busy": "2021-05-17T10:17:37.972663Z",
     "iopub.status.idle": "2021-05-18T03:52:03.022755Z",
     "shell.execute_reply": "2021-05-18T03:52:03.021841Z"
    },
    "papermill": {
     "duration": 63265.083367,
     "end_time": "2021-05-18T03:52:03.022850",
     "exception": false,
     "start_time": "2021-05-17T10:17:37.939483",
     "status": "completed"
    },
    "tags": []
   },
   "outputs": [
    {
     "name": "stderr",
     "output_type": "stream",
     "text": [
      "458.9 - LV99: 100%|██████████| 6528/6528 [17:34:22<00:00,  9.69s/it]\n"
     ]
    }
   ],
   "source": [
    "results = []\n",
    "\n",
    "pbar = tqdm(total=phenotypes_lvs_pairs.shape[0])\n",
    "\n",
    "for idx, row in phenotypes_lvs_pairs.iterrows():\n",
    "    phenotype_code = row[\"phenotype\"]\n",
    "    lv_code = row[\"lv\"]\n",
    "\n",
    "    pbar.set_description(f\"{phenotype_code} - {lv_code}\")\n",
    "\n",
    "    gls_model = GLSPhenoplier(\n",
    "        smultixcan_result_set_filepath=emerge_smultixcan_zscores_filepath\n",
    "    )\n",
    "    gls_model.fit_named(lv_code, phenotype_code)\n",
    "    res = gls_model.results\n",
    "\n",
    "    results.append(\n",
    "        {\n",
    "            \"phenotype\": phenotype_code,\n",
    "            \"lv\": lv_code,\n",
    "            \"lv_set\": row[\"lv_set\"],\n",
    "            \"lv_with_pathway\": lv_code in well_aligned_lv_codes,\n",
    "            \"coef\": res.params.loc[\"lv\"],\n",
    "            \"pvalue\": res.pvalues.loc[\"lv\"],\n",
    "            \"summary\": gls_model.results_summary,\n",
    "        }\n",
    "    )\n",
    "\n",
    "    # save results every 10 models trained\n",
    "    if (idx % 10) == 0:\n",
    "        pd.DataFrame(results).to_pickle(output_file)\n",
    "\n",
    "    pbar.update(1)\n",
    "\n",
    "pbar.close()"
   ]
  },
  {
   "cell_type": "code",
   "execution_count": 50,
   "id": "sustainable-intake",
   "metadata": {
    "execution": {
     "iopub.execute_input": "2021-05-18T03:52:07.171649Z",
     "iopub.status.busy": "2021-05-18T03:52:07.171236Z",
     "iopub.status.idle": "2021-05-18T03:52:07.197606Z",
     "shell.execute_reply": "2021-05-18T03:52:07.197126Z"
    },
    "papermill": {
     "duration": 2.097784,
     "end_time": "2021-05-18T03:52:07.197714",
     "exception": false,
     "start_time": "2021-05-18T03:52:05.099930",
     "status": "completed"
    },
    "tags": []
   },
   "outputs": [],
   "source": [
    "results = pd.DataFrame(results)"
   ]
  },
  {
   "cell_type": "code",
   "execution_count": 51,
   "id": "color-survivor",
   "metadata": {
    "execution": {
     "iopub.execute_input": "2021-05-18T03:52:11.428944Z",
     "iopub.status.busy": "2021-05-18T03:52:11.428474Z",
     "iopub.status.idle": "2021-05-18T03:52:11.441730Z",
     "shell.execute_reply": "2021-05-18T03:52:11.441301Z"
    },
    "papermill": {
     "duration": 2.074979,
     "end_time": "2021-05-18T03:52:11.441827",
     "exception": false,
     "start_time": "2021-05-18T03:52:09.366848",
     "status": "completed"
    },
    "tags": []
   },
   "outputs": [
    {
     "data": {
      "text/plain": [
       "(6528, 7)"
      ]
     },
     "execution_count": 51,
     "metadata": {},
     "output_type": "execute_result"
    }
   ],
   "source": [
    "results.shape"
   ]
  },
  {
   "cell_type": "code",
   "execution_count": 52,
   "id": "employed-russian",
   "metadata": {
    "execution": {
     "iopub.execute_input": "2021-05-18T03:52:15.599481Z",
     "iopub.status.busy": "2021-05-18T03:52:15.599050Z",
     "iopub.status.idle": "2021-05-18T03:52:15.635308Z",
     "shell.execute_reply": "2021-05-18T03:52:15.634930Z"
    },
    "papermill": {
     "duration": 2.119036,
     "end_time": "2021-05-18T03:52:15.635397",
     "exception": false,
     "start_time": "2021-05-18T03:52:13.516361",
     "status": "completed"
    },
    "tags": []
   },
   "outputs": [
    {
     "data": {
      "text/html": [
       "<div>\n",
       "<style scoped>\n",
       "    .dataframe tbody tr th:only-of-type {\n",
       "        vertical-align: middle;\n",
       "    }\n",
       "\n",
       "    .dataframe tbody tr th {\n",
       "        vertical-align: top;\n",
       "    }\n",
       "\n",
       "    .dataframe thead th {\n",
       "        text-align: right;\n",
       "    }\n",
       "</style>\n",
       "<table border=\"1\" class=\"dataframe\">\n",
       "  <thead>\n",
       "    <tr style=\"text-align: right;\">\n",
       "      <th></th>\n",
       "      <th>phenotype</th>\n",
       "      <th>lv</th>\n",
       "      <th>lv_set</th>\n",
       "      <th>lv_with_pathway</th>\n",
       "      <th>coef</th>\n",
       "      <th>pvalue</th>\n",
       "      <th>summary</th>\n",
       "    </tr>\n",
       "  </thead>\n",
       "  <tbody>\n",
       "    <tr>\n",
       "      <th>0</th>\n",
       "      <td>241</td>\n",
       "      <td>LV120</td>\n",
       "      <td>lipids-increasing</td>\n",
       "      <td>False</td>\n",
       "      <td>0.021088</td>\n",
       "      <td>0.090966</td>\n",
       "      <td>GLS Regression Res...</td>\n",
       "    </tr>\n",
       "    <tr>\n",
       "      <th>1</th>\n",
       "      <td>241</td>\n",
       "      <td>LV783</td>\n",
       "      <td>lipids-decreasing</td>\n",
       "      <td>False</td>\n",
       "      <td>-0.022565</td>\n",
       "      <td>0.073047</td>\n",
       "      <td>GLS Regression Res...</td>\n",
       "    </tr>\n",
       "    <tr>\n",
       "      <th>2</th>\n",
       "      <td>241</td>\n",
       "      <td>LV621</td>\n",
       "      <td>lipids-increasing</td>\n",
       "      <td>False</td>\n",
       "      <td>-0.017751</td>\n",
       "      <td>0.166719</td>\n",
       "      <td>GLS Regression Res...</td>\n",
       "    </tr>\n",
       "    <tr>\n",
       "      <th>3</th>\n",
       "      <td>241</td>\n",
       "      <td>LV494</td>\n",
       "      <td>lipids-increasing</td>\n",
       "      <td>False</td>\n",
       "      <td>0.027091</td>\n",
       "      <td>0.029469</td>\n",
       "      <td>GLS Regression Res...</td>\n",
       "    </tr>\n",
       "    <tr>\n",
       "      <th>4</th>\n",
       "      <td>241</td>\n",
       "      <td>LV246</td>\n",
       "      <td>lipids-increasing</td>\n",
       "      <td>True</td>\n",
       "      <td>0.004652</td>\n",
       "      <td>0.710773</td>\n",
       "      <td>GLS Regression Res...</td>\n",
       "    </tr>\n",
       "  </tbody>\n",
       "</table>\n",
       "</div>"
      ],
      "text/plain": [
       "  phenotype     lv             lv_set  lv_with_pathway      coef    pvalue  \\\n",
       "0       241  LV120  lipids-increasing            False  0.021088  0.090966   \n",
       "1       241  LV783  lipids-decreasing            False -0.022565  0.073047   \n",
       "2       241  LV621  lipids-increasing            False -0.017751  0.166719   \n",
       "3       241  LV494  lipids-increasing            False  0.027091  0.029469   \n",
       "4       241  LV246  lipids-increasing             True  0.004652  0.710773   \n",
       "\n",
       "                                             summary  \n",
       "0                              GLS Regression Res...  \n",
       "1                              GLS Regression Res...  \n",
       "2                              GLS Regression Res...  \n",
       "3                              GLS Regression Res...  \n",
       "4                              GLS Regression Res...  "
      ]
     },
     "execution_count": 52,
     "metadata": {},
     "output_type": "execute_result"
    }
   ],
   "source": [
    "results.head()"
   ]
  },
  {
   "cell_type": "code",
   "execution_count": 53,
   "id": "better-harvard",
   "metadata": {
    "execution": {
     "iopub.execute_input": "2021-05-18T03:52:19.925909Z",
     "iopub.status.busy": "2021-05-18T03:52:19.925478Z",
     "iopub.status.idle": "2021-05-18T03:52:19.978960Z",
     "shell.execute_reply": "2021-05-18T03:52:19.978608Z"
    },
    "papermill": {
     "duration": 2.257984,
     "end_time": "2021-05-18T03:52:19.979042",
     "exception": false,
     "start_time": "2021-05-18T03:52:17.721058",
     "status": "completed"
    },
    "tags": []
   },
   "outputs": [
    {
     "data": {
      "text/html": [
       "<div>\n",
       "<style scoped>\n",
       "    .dataframe tbody tr th:only-of-type {\n",
       "        vertical-align: middle;\n",
       "    }\n",
       "\n",
       "    .dataframe tbody tr th {\n",
       "        vertical-align: top;\n",
       "    }\n",
       "\n",
       "    .dataframe thead th {\n",
       "        text-align: right;\n",
       "    }\n",
       "</style>\n",
       "<table border=\"1\" class=\"dataframe\">\n",
       "  <thead>\n",
       "    <tr style=\"text-align: right;\">\n",
       "      <th></th>\n",
       "      <th>phenotype</th>\n",
       "      <th>lv</th>\n",
       "      <th>lv_set</th>\n",
       "      <th>lv_with_pathway</th>\n",
       "      <th>coef</th>\n",
       "      <th>pvalue</th>\n",
       "      <th>summary</th>\n",
       "    </tr>\n",
       "  </thead>\n",
       "  <tbody>\n",
       "    <tr>\n",
       "      <th>1947</th>\n",
       "      <td>276.41</td>\n",
       "      <td>LV246</td>\n",
       "      <td>lipids-increasing</td>\n",
       "      <td>True</td>\n",
       "      <td>0.054395</td>\n",
       "      <td>0.000016</td>\n",
       "      <td>GLS Regression Res...</td>\n",
       "    </tr>\n",
       "    <tr>\n",
       "      <th>3008</th>\n",
       "      <td>411.1</td>\n",
       "      <td>LV157</td>\n",
       "      <td>lipids-decreasing</td>\n",
       "      <td>False</td>\n",
       "      <td>0.050759</td>\n",
       "      <td>0.000021</td>\n",
       "      <td>GLS Regression Res...</td>\n",
       "    </tr>\n",
       "    <tr>\n",
       "      <th>1903</th>\n",
       "      <td>276.4</td>\n",
       "      <td>LV246</td>\n",
       "      <td>lipids-increasing</td>\n",
       "      <td>True</td>\n",
       "      <td>0.053259</td>\n",
       "      <td>0.000024</td>\n",
       "      <td>GLS Regression Res...</td>\n",
       "    </tr>\n",
       "    <tr>\n",
       "      <th>4123</th>\n",
       "      <td>426.21</td>\n",
       "      <td>LV199</td>\n",
       "      <td>lipids-decreasing</td>\n",
       "      <td>False</td>\n",
       "      <td>0.048702</td>\n",
       "      <td>0.000079</td>\n",
       "      <td>GLS Regression Res...</td>\n",
       "    </tr>\n",
       "    <tr>\n",
       "      <th>2653</th>\n",
       "      <td>401</td>\n",
       "      <td>LV157</td>\n",
       "      <td>lipids-decreasing</td>\n",
       "      <td>False</td>\n",
       "      <td>0.046407</td>\n",
       "      <td>0.000118</td>\n",
       "      <td>GLS Regression Res...</td>\n",
       "    </tr>\n",
       "    <tr>\n",
       "      <th>2561</th>\n",
       "      <td>395.1</td>\n",
       "      <td>LV621</td>\n",
       "      <td>lipids-increasing</td>\n",
       "      <td>False</td>\n",
       "      <td>0.048892</td>\n",
       "      <td>0.000131</td>\n",
       "      <td>GLS Regression Res...</td>\n",
       "    </tr>\n",
       "    <tr>\n",
       "      <th>530</th>\n",
       "      <td>250.22</td>\n",
       "      <td>LV415</td>\n",
       "      <td>lipids-increasing</td>\n",
       "      <td>False</td>\n",
       "      <td>0.046220</td>\n",
       "      <td>0.000162</td>\n",
       "      <td>GLS Regression Res...</td>\n",
       "    </tr>\n",
       "    <tr>\n",
       "      <th>1519</th>\n",
       "      <td>275.3</td>\n",
       "      <td>LV678</td>\n",
       "      <td>lipids-decreasing</td>\n",
       "      <td>True</td>\n",
       "      <td>0.045819</td>\n",
       "      <td>0.000168</td>\n",
       "      <td>GLS Regression Res...</td>\n",
       "    </tr>\n",
       "    <tr>\n",
       "      <th>2733</th>\n",
       "      <td>401.1</td>\n",
       "      <td>LV157</td>\n",
       "      <td>lipids-decreasing</td>\n",
       "      <td>False</td>\n",
       "      <td>0.045354</td>\n",
       "      <td>0.000172</td>\n",
       "      <td>GLS Regression Res...</td>\n",
       "    </tr>\n",
       "    <tr>\n",
       "      <th>5351</th>\n",
       "      <td>429.2</td>\n",
       "      <td>LV469</td>\n",
       "      <td>lipids-decreasing</td>\n",
       "      <td>False</td>\n",
       "      <td>0.044753</td>\n",
       "      <td>0.000179</td>\n",
       "      <td>GLS Regression Res...</td>\n",
       "    </tr>\n",
       "  </tbody>\n",
       "</table>\n",
       "</div>"
      ],
      "text/plain": [
       "     phenotype     lv             lv_set  lv_with_pathway      coef    pvalue  \\\n",
       "1947    276.41  LV246  lipids-increasing             True  0.054395  0.000016   \n",
       "3008     411.1  LV157  lipids-decreasing            False  0.050759  0.000021   \n",
       "1903     276.4  LV246  lipids-increasing             True  0.053259  0.000024   \n",
       "4123    426.21  LV199  lipids-decreasing            False  0.048702  0.000079   \n",
       "2653       401  LV157  lipids-decreasing            False  0.046407  0.000118   \n",
       "2561     395.1  LV621  lipids-increasing            False  0.048892  0.000131   \n",
       "530     250.22  LV415  lipids-increasing            False  0.046220  0.000162   \n",
       "1519     275.3  LV678  lipids-decreasing             True  0.045819  0.000168   \n",
       "2733     401.1  LV157  lipids-decreasing            False  0.045354  0.000172   \n",
       "5351     429.2  LV469  lipids-decreasing            False  0.044753  0.000179   \n",
       "\n",
       "                                                summary  \n",
       "1947                              GLS Regression Res...  \n",
       "3008                              GLS Regression Res...  \n",
       "1903                              GLS Regression Res...  \n",
       "4123                              GLS Regression Res...  \n",
       "2653                              GLS Regression Res...  \n",
       "2561                              GLS Regression Res...  \n",
       "530                               GLS Regression Res...  \n",
       "1519                              GLS Regression Res...  \n",
       "2733                              GLS Regression Res...  \n",
       "5351                              GLS Regression Res...  "
      ]
     },
     "execution_count": 53,
     "metadata": {},
     "output_type": "execute_result"
    }
   ],
   "source": [
    "results.sort_values(\"pvalue\").head(10)"
   ]
  },
  {
   "cell_type": "markdown",
   "id": "arabic-afghanistan",
   "metadata": {
    "papermill": {
     "duration": 2.054177,
     "end_time": "2021-05-18T03:52:24.118828",
     "exception": false,
     "start_time": "2021-05-18T03:52:22.064651",
     "status": "completed"
    },
    "tags": []
   },
   "source": [
    "## Save"
   ]
  },
  {
   "cell_type": "code",
   "execution_count": 54,
   "id": "governmental-citation",
   "metadata": {
    "execution": {
     "iopub.execute_input": "2021-05-18T03:52:28.252060Z",
     "iopub.status.busy": "2021-05-18T03:52:28.251630Z",
     "iopub.status.idle": "2021-05-18T03:52:30.185946Z",
     "shell.execute_reply": "2021-05-18T03:52:30.184656Z"
    },
    "papermill": {
     "duration": 3.99227,
     "end_time": "2021-05-18T03:52:30.186282",
     "exception": false,
     "start_time": "2021-05-18T03:52:26.194012",
     "status": "completed"
    },
    "tags": []
   },
   "outputs": [],
   "source": [
    "results.to_pickle(output_file)"
   ]
  },
  {
   "cell_type": "code",
   "execution_count": null,
   "id": "stuffed-herald",
   "metadata": {
    "papermill": {
     "duration": 2.059614,
     "end_time": "2021-05-18T03:52:34.305879",
     "exception": false,
     "start_time": "2021-05-18T03:52:32.246265",
     "status": "completed"
    },
    "tags": []
   },
   "outputs": [],
   "source": []
  }
 ],
 "metadata": {
  "jupytext": {
   "cell_metadata_filter": "all,-execution,-papermill,-trusted",
   "formats": "ipynb,py//py:percent"
  },
  "kernelspec": {
   "display_name": "Python 3",
   "language": "python",
   "name": "python3"
  },
  "language_info": {
   "codemirror_mode": {
    "name": "ipython",
    "version": 3
   },
   "file_extension": ".py",
   "mimetype": "text/x-python",
   "name": "python",
   "nbconvert_exporter": "python",
   "pygments_lexer": "ipython3",
   "version": "3.8.8"
  },
  "papermill": {
   "default_parameters": {},
   "duration": 63308.16845,
   "end_time": "2021-05-18T03:52:39.292387",
   "environment_variables": {},
   "exception": null,
   "input_path": "08_gsa_gls/45-gls_on_lipids_lvs-emerge.ipynb",
   "output_path": "08_gsa_gls/45-gls_on_lipids_lvs-emerge.run.ipynb",
   "parameters": {},
   "start_time": "2021-05-17T10:17:31.123937",
   "version": "2.2.2"
  }
 },
 "nbformat": 4,
 "nbformat_minor": 5
}
