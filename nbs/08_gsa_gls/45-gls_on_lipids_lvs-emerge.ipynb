{
 "cells": [
  {
   "cell_type": "markdown",
   "id": "desperate-tension",
   "metadata": {
    "papermill": {
     "duration": 0.022408,
     "end_time": "2021-07-16T18:10:19.729248",
     "exception": false,
     "start_time": "2021-07-16T18:10:19.706840",
     "status": "completed"
    },
    "tags": []
   },
   "source": [
    "# Description"
   ]
  },
  {
   "cell_type": "markdown",
   "id": "instrumental-backing",
   "metadata": {
    "papermill": {
     "duration": 0.019142,
     "end_time": "2021-07-16T18:10:19.768890",
     "exception": false,
     "start_time": "2021-07-16T18:10:19.749748",
     "status": "completed"
    },
    "tags": []
   },
   "source": [
    "This notebook is similar to `40` (using LVs that we found to be significantly enriched for the lipids CRISPR analysis), but traits here are from eMERGE."
   ]
  },
  {
   "cell_type": "markdown",
   "id": "burning-veteran",
   "metadata": {
    "papermill": {
     "duration": 0.018506,
     "end_time": "2021-07-16T18:10:19.806149",
     "exception": false,
     "start_time": "2021-07-16T18:10:19.787643",
     "status": "completed"
    },
    "tags": []
   },
   "source": [
    "# Environment variables"
   ]
  },
  {
   "cell_type": "code",
   "execution_count": 1,
   "id": "helpful-squad",
   "metadata": {
    "execution": {
     "iopub.execute_input": "2021-07-16T18:10:19.849713Z",
     "iopub.status.busy": "2021-07-16T18:10:19.849336Z",
     "iopub.status.idle": "2021-07-16T18:10:19.856760Z",
     "shell.execute_reply": "2021-07-16T18:10:19.856349Z"
    },
    "papermill": {
     "duration": 0.03192,
     "end_time": "2021-07-16T18:10:19.856850",
     "exception": false,
     "start_time": "2021-07-16T18:10:19.824930",
     "status": "completed"
    },
    "tags": []
   },
   "outputs": [],
   "source": [
    "%load_ext autoreload\n",
    "%autoreload 2"
   ]
  },
  {
   "cell_type": "code",
   "execution_count": 2,
   "id": "finished-friendship",
   "metadata": {
    "execution": {
     "iopub.execute_input": "2021-07-16T18:10:19.897447Z",
     "iopub.status.busy": "2021-07-16T18:10:19.897092Z",
     "iopub.status.idle": "2021-07-16T18:10:19.906871Z",
     "shell.execute_reply": "2021-07-16T18:10:19.906493Z"
    },
    "papermill": {
     "duration": 0.030794,
     "end_time": "2021-07-16T18:10:19.906955",
     "exception": false,
     "start_time": "2021-07-16T18:10:19.876161",
     "status": "completed"
    },
    "tags": []
   },
   "outputs": [],
   "source": [
    "import conf"
   ]
  },
  {
   "cell_type": "code",
   "execution_count": 3,
   "id": "wound-consumption",
   "metadata": {
    "execution": {
     "iopub.execute_input": "2021-07-16T18:10:19.950669Z",
     "iopub.status.busy": "2021-07-16T18:10:19.950306Z",
     "iopub.status.idle": "2021-07-16T18:10:19.960492Z",
     "shell.execute_reply": "2021-07-16T18:10:19.960121Z"
    },
    "papermill": {
     "duration": 0.032864,
     "end_time": "2021-07-16T18:10:19.960575",
     "exception": false,
     "start_time": "2021-07-16T18:10:19.927711",
     "status": "completed"
    },
    "tags": []
   },
   "outputs": [
    {
     "data": {
      "text/plain": [
       "3"
      ]
     },
     "metadata": {},
     "output_type": "display_data"
    }
   ],
   "source": [
    "N_JOBS = conf.GENERAL[\"N_JOBS\"]\n",
    "display(N_JOBS)"
   ]
  },
  {
   "cell_type": "code",
   "execution_count": 4,
   "id": "incoming-comment",
   "metadata": {
    "execution": {
     "iopub.execute_input": "2021-07-16T18:10:20.003974Z",
     "iopub.status.busy": "2021-07-16T18:10:20.003557Z",
     "iopub.status.idle": "2021-07-16T18:10:20.010354Z",
     "shell.execute_reply": "2021-07-16T18:10:20.009988Z"
    },
    "papermill": {
     "duration": 0.029533,
     "end_time": "2021-07-16T18:10:20.010436",
     "exception": false,
     "start_time": "2021-07-16T18:10:19.980903",
     "status": "completed"
    },
    "tags": []
   },
   "outputs": [
    {
     "name": "stdout",
     "output_type": "stream",
     "text": [
      "env: MKL_NUM_THREADS=3\n",
      "env: OPEN_BLAS_NUM_THREADS=3\n",
      "env: NUMEXPR_NUM_THREADS=3\n",
      "env: OMP_NUM_THREADS=3\n"
     ]
    }
   ],
   "source": [
    "%env MKL_NUM_THREADS=$N_JOBS\n",
    "%env OPEN_BLAS_NUM_THREADS=$N_JOBS\n",
    "%env NUMEXPR_NUM_THREADS=$N_JOBS\n",
    "%env OMP_NUM_THREADS=$N_JOBS"
   ]
  },
  {
   "cell_type": "markdown",
   "id": "planned-michigan",
   "metadata": {
    "papermill": {
     "duration": 0.01978,
     "end_time": "2021-07-16T18:10:20.050899",
     "exception": false,
     "start_time": "2021-07-16T18:10:20.031119",
     "status": "completed"
    },
    "tags": []
   },
   "source": [
    "# Modules"
   ]
  },
  {
   "cell_type": "code",
   "execution_count": 5,
   "id": "adolescent-student",
   "metadata": {
    "execution": {
     "iopub.execute_input": "2021-07-16T18:10:20.093614Z",
     "iopub.status.busy": "2021-07-16T18:10:20.093199Z",
     "iopub.status.idle": "2021-07-16T18:10:20.851191Z",
     "shell.execute_reply": "2021-07-16T18:10:20.850801Z"
    },
    "papermill": {
     "duration": 0.780348,
     "end_time": "2021-07-16T18:10:20.851285",
     "exception": false,
     "start_time": "2021-07-16T18:10:20.070937",
     "status": "completed"
    },
    "tags": []
   },
   "outputs": [],
   "source": [
    "from pathlib import Path\n",
    "\n",
    "import pandas as pd\n",
    "from tqdm import tqdm\n",
    "\n",
    "from gls import GLSPhenoplier"
   ]
  },
  {
   "cell_type": "markdown",
   "id": "administrative-prince",
   "metadata": {
    "papermill": {
     "duration": 0.020484,
     "end_time": "2021-07-16T18:10:20.893908",
     "exception": false,
     "start_time": "2021-07-16T18:10:20.873424",
     "status": "completed"
    },
    "tags": []
   },
   "source": [
    "# Settings"
   ]
  },
  {
   "cell_type": "code",
   "execution_count": 6,
   "id": "intensive-carry",
   "metadata": {
    "execution": {
     "iopub.execute_input": "2021-07-16T18:10:20.936335Z",
     "iopub.status.busy": "2021-07-16T18:10:20.935947Z",
     "iopub.status.idle": "2021-07-16T18:10:20.948067Z",
     "shell.execute_reply": "2021-07-16T18:10:20.947697Z"
    },
    "papermill": {
     "duration": 0.034782,
     "end_time": "2021-07-16T18:10:20.948156",
     "exception": false,
     "start_time": "2021-07-16T18:10:20.913374",
     "status": "completed"
    },
    "tags": []
   },
   "outputs": [
    {
     "data": {
      "text/plain": [
       "PosixPath('/home/miltondp/projects/labs/greenelab/phenoplier/base/results/gls')"
      ]
     },
     "metadata": {},
     "output_type": "display_data"
    }
   ],
   "source": [
    "OUTPUT_DIR = conf.RESULTS[\"GLS\"]\n",
    "display(OUTPUT_DIR)\n",
    "\n",
    "OUTPUT_DIR.mkdir(exist_ok=True, parents=True)"
   ]
  },
  {
   "cell_type": "code",
   "execution_count": 7,
   "id": "identical-stage",
   "metadata": {
    "execution": {
     "iopub.execute_input": "2021-07-16T18:10:20.993440Z",
     "iopub.status.busy": "2021-07-16T18:10:20.993087Z",
     "iopub.status.idle": "2021-07-16T18:10:21.004088Z",
     "shell.execute_reply": "2021-07-16T18:10:21.003717Z"
    },
    "papermill": {
     "duration": 0.033196,
     "end_time": "2021-07-16T18:10:21.004171",
     "exception": false,
     "start_time": "2021-07-16T18:10:20.970975",
     "status": "completed"
    },
    "tags": []
   },
   "outputs": [
    {
     "data": {
      "text/plain": [
       "PosixPath('/home/miltondp/projects/labs/greenelab/phenoplier/base/results/gls/gls_phenotypes-crispr_lvs-emerge.pkl')"
      ]
     },
     "metadata": {},
     "output_type": "display_data"
    }
   ],
   "source": [
    "OUTPUT_FILENAME = OUTPUT_DIR / \"gls_phenotypes-crispr_lvs-emerge.pkl\"\n",
    "display(OUTPUT_FILENAME)"
   ]
  },
  {
   "cell_type": "markdown",
   "id": "diverse-watch",
   "metadata": {
    "papermill": {
     "duration": 0.02061,
     "end_time": "2021-07-16T18:10:21.046238",
     "exception": false,
     "start_time": "2021-07-16T18:10:21.025628",
     "status": "completed"
    },
    "tags": []
   },
   "source": [
    "# Load data"
   ]
  },
  {
   "cell_type": "markdown",
   "id": "touched-cliff",
   "metadata": {
    "papermill": {
     "duration": 0.020052,
     "end_time": "2021-07-16T18:10:21.086935",
     "exception": false,
     "start_time": "2021-07-16T18:10:21.066883",
     "status": "completed"
    },
    "tags": []
   },
   "source": [
    "## MultiPLIER summary"
   ]
  },
  {
   "cell_type": "code",
   "execution_count": 8,
   "id": "stock-oasis",
   "metadata": {
    "execution": {
     "iopub.execute_input": "2021-07-16T18:10:21.130372Z",
     "iopub.status.busy": "2021-07-16T18:10:21.130016Z",
     "iopub.status.idle": "2021-07-16T18:10:21.141883Z",
     "shell.execute_reply": "2021-07-16T18:10:21.141505Z"
    },
    "papermill": {
     "duration": 0.034384,
     "end_time": "2021-07-16T18:10:21.141968",
     "exception": false,
     "start_time": "2021-07-16T18:10:21.107584",
     "status": "completed"
    },
    "tags": []
   },
   "outputs": [],
   "source": [
    "multiplier_model_summary = pd.read_pickle(conf.MULTIPLIER[\"MODEL_SUMMARY_FILE\"])"
   ]
  },
  {
   "cell_type": "code",
   "execution_count": 9,
   "id": "intense-receiver",
   "metadata": {
    "execution": {
     "iopub.execute_input": "2021-07-16T18:10:21.185999Z",
     "iopub.status.busy": "2021-07-16T18:10:21.185644Z",
     "iopub.status.idle": "2021-07-16T18:10:21.196839Z",
     "shell.execute_reply": "2021-07-16T18:10:21.196465Z"
    },
    "papermill": {
     "duration": 0.033864,
     "end_time": "2021-07-16T18:10:21.196922",
     "exception": false,
     "start_time": "2021-07-16T18:10:21.163058",
     "status": "completed"
    },
    "tags": []
   },
   "outputs": [
    {
     "data": {
      "text/plain": [
       "(2157, 5)"
      ]
     },
     "execution_count": 9,
     "metadata": {},
     "output_type": "execute_result"
    }
   ],
   "source": [
    "multiplier_model_summary.shape"
   ]
  },
  {
   "cell_type": "code",
   "execution_count": 10,
   "id": "norwegian-builder",
   "metadata": {
    "execution": {
     "iopub.execute_input": "2021-07-16T18:10:21.240680Z",
     "iopub.status.busy": "2021-07-16T18:10:21.240324Z",
     "iopub.status.idle": "2021-07-16T18:10:21.256397Z",
     "shell.execute_reply": "2021-07-16T18:10:21.256059Z"
    },
    "papermill": {
     "duration": 0.038687,
     "end_time": "2021-07-16T18:10:21.256480",
     "exception": false,
     "start_time": "2021-07-16T18:10:21.217793",
     "status": "completed"
    },
    "tags": []
   },
   "outputs": [
    {
     "data": {
      "text/html": [
       "<div>\n",
       "<style scoped>\n",
       "    .dataframe tbody tr th:only-of-type {\n",
       "        vertical-align: middle;\n",
       "    }\n",
       "\n",
       "    .dataframe tbody tr th {\n",
       "        vertical-align: top;\n",
       "    }\n",
       "\n",
       "    .dataframe thead th {\n",
       "        text-align: right;\n",
       "    }\n",
       "</style>\n",
       "<table border=\"1\" class=\"dataframe\">\n",
       "  <thead>\n",
       "    <tr style=\"text-align: right;\">\n",
       "      <th></th>\n",
       "      <th>pathway</th>\n",
       "      <th>LV index</th>\n",
       "      <th>AUC</th>\n",
       "      <th>p-value</th>\n",
       "      <th>FDR</th>\n",
       "    </tr>\n",
       "  </thead>\n",
       "  <tbody>\n",
       "    <tr>\n",
       "      <th>1</th>\n",
       "      <td>KEGG_LYSINE_DEGRADATION</td>\n",
       "      <td>1</td>\n",
       "      <td>0.388059</td>\n",
       "      <td>0.866078</td>\n",
       "      <td>0.956005</td>\n",
       "    </tr>\n",
       "    <tr>\n",
       "      <th>2</th>\n",
       "      <td>REACTOME_MRNA_SPLICING</td>\n",
       "      <td>1</td>\n",
       "      <td>0.733057</td>\n",
       "      <td>0.000048</td>\n",
       "      <td>0.000582</td>\n",
       "    </tr>\n",
       "    <tr>\n",
       "      <th>3</th>\n",
       "      <td>MIPS_NOP56P_ASSOCIATED_PRE_RRNA_COMPLEX</td>\n",
       "      <td>1</td>\n",
       "      <td>0.680555</td>\n",
       "      <td>0.001628</td>\n",
       "      <td>0.011366</td>\n",
       "    </tr>\n",
       "    <tr>\n",
       "      <th>4</th>\n",
       "      <td>KEGG_DNA_REPLICATION</td>\n",
       "      <td>1</td>\n",
       "      <td>0.549473</td>\n",
       "      <td>0.312155</td>\n",
       "      <td>0.539951</td>\n",
       "    </tr>\n",
       "    <tr>\n",
       "      <th>5</th>\n",
       "      <td>PID_MYC_ACTIVPATHWAY</td>\n",
       "      <td>1</td>\n",
       "      <td>0.639303</td>\n",
       "      <td>0.021702</td>\n",
       "      <td>0.083739</td>\n",
       "    </tr>\n",
       "  </tbody>\n",
       "</table>\n",
       "</div>"
      ],
      "text/plain": [
       "                                   pathway LV index       AUC   p-value  \\\n",
       "1                  KEGG_LYSINE_DEGRADATION        1  0.388059  0.866078   \n",
       "2                   REACTOME_MRNA_SPLICING        1  0.733057  0.000048   \n",
       "3  MIPS_NOP56P_ASSOCIATED_PRE_RRNA_COMPLEX        1  0.680555  0.001628   \n",
       "4                     KEGG_DNA_REPLICATION        1  0.549473  0.312155   \n",
       "5                     PID_MYC_ACTIVPATHWAY        1  0.639303  0.021702   \n",
       "\n",
       "        FDR  \n",
       "1  0.956005  \n",
       "2  0.000582  \n",
       "3  0.011366  \n",
       "4  0.539951  \n",
       "5  0.083739  "
      ]
     },
     "execution_count": 10,
     "metadata": {},
     "output_type": "execute_result"
    }
   ],
   "source": [
    "multiplier_model_summary.head()"
   ]
  },
  {
   "cell_type": "code",
   "execution_count": 11,
   "id": "british-thong",
   "metadata": {
    "execution": {
     "iopub.execute_input": "2021-07-16T18:10:21.301291Z",
     "iopub.status.busy": "2021-07-16T18:10:21.300923Z",
     "iopub.status.idle": "2021-07-16T18:10:21.320040Z",
     "shell.execute_reply": "2021-07-16T18:10:21.319669Z"
    },
    "papermill": {
     "duration": 0.042332,
     "end_time": "2021-07-16T18:10:21.320123",
     "exception": false,
     "start_time": "2021-07-16T18:10:21.277791",
     "status": "completed"
    },
    "tags": []
   },
   "outputs": [
    {
     "data": {
      "text/plain": [
       "(469, 5)"
      ]
     },
     "metadata": {},
     "output_type": "display_data"
    },
    {
     "data": {
      "text/html": [
       "<div>\n",
       "<style scoped>\n",
       "    .dataframe tbody tr th:only-of-type {\n",
       "        vertical-align: middle;\n",
       "    }\n",
       "\n",
       "    .dataframe tbody tr th {\n",
       "        vertical-align: top;\n",
       "    }\n",
       "\n",
       "    .dataframe thead th {\n",
       "        text-align: right;\n",
       "    }\n",
       "</style>\n",
       "<table border=\"1\" class=\"dataframe\">\n",
       "  <thead>\n",
       "    <tr style=\"text-align: right;\">\n",
       "      <th></th>\n",
       "      <th>pathway</th>\n",
       "      <th>LV index</th>\n",
       "      <th>AUC</th>\n",
       "      <th>p-value</th>\n",
       "      <th>FDR</th>\n",
       "    </tr>\n",
       "  </thead>\n",
       "  <tbody>\n",
       "    <tr>\n",
       "      <th>2</th>\n",
       "      <td>REACTOME_MRNA_SPLICING</td>\n",
       "      <td>1</td>\n",
       "      <td>0.733057</td>\n",
       "      <td>4.772691e-05</td>\n",
       "      <td>5.816211e-04</td>\n",
       "    </tr>\n",
       "    <tr>\n",
       "      <th>3</th>\n",
       "      <td>MIPS_NOP56P_ASSOCIATED_PRE_RRNA_COMPLEX</td>\n",
       "      <td>1</td>\n",
       "      <td>0.680555</td>\n",
       "      <td>1.628217e-03</td>\n",
       "      <td>1.136590e-02</td>\n",
       "    </tr>\n",
       "    <tr>\n",
       "      <th>8</th>\n",
       "      <td>REACTOME_MITOTIC_G1_G1_S_PHASES</td>\n",
       "      <td>1</td>\n",
       "      <td>0.686170</td>\n",
       "      <td>2.517619e-04</td>\n",
       "      <td>2.392292e-03</td>\n",
       "    </tr>\n",
       "    <tr>\n",
       "      <th>9</th>\n",
       "      <td>IRIS_Monocyte-Day0</td>\n",
       "      <td>2</td>\n",
       "      <td>0.890036</td>\n",
       "      <td>4.315812e-25</td>\n",
       "      <td>1.329887e-22</td>\n",
       "    </tr>\n",
       "    <tr>\n",
       "      <th>10</th>\n",
       "      <td>DMAP_MONO2</td>\n",
       "      <td>2</td>\n",
       "      <td>0.904676</td>\n",
       "      <td>1.313970e-16</td>\n",
       "      <td>1.574574e-14</td>\n",
       "    </tr>\n",
       "  </tbody>\n",
       "</table>\n",
       "</div>"
      ],
      "text/plain": [
       "                                    pathway LV index       AUC       p-value  \\\n",
       "2                    REACTOME_MRNA_SPLICING        1  0.733057  4.772691e-05   \n",
       "3   MIPS_NOP56P_ASSOCIATED_PRE_RRNA_COMPLEX        1  0.680555  1.628217e-03   \n",
       "8           REACTOME_MITOTIC_G1_G1_S_PHASES        1  0.686170  2.517619e-04   \n",
       "9                        IRIS_Monocyte-Day0        2  0.890036  4.315812e-25   \n",
       "10                               DMAP_MONO2        2  0.904676  1.313970e-16   \n",
       "\n",
       "             FDR  \n",
       "2   5.816211e-04  \n",
       "3   1.136590e-02  \n",
       "8   2.392292e-03  \n",
       "9   1.329887e-22  \n",
       "10  1.574574e-14  "
      ]
     },
     "metadata": {},
     "output_type": "display_data"
    }
   ],
   "source": [
    "well_aligned_lvs = multiplier_model_summary[\n",
    "    (multiplier_model_summary[\"FDR\"] < 0.05) | (multiplier_model_summary[\"AUC\"] >= 0.75)\n",
    "]\n",
    "\n",
    "display(well_aligned_lvs.shape)\n",
    "display(well_aligned_lvs.head())"
   ]
  },
  {
   "cell_type": "code",
   "execution_count": 12,
   "id": "spectacular-power",
   "metadata": {
    "execution": {
     "iopub.execute_input": "2021-07-16T18:10:21.366225Z",
     "iopub.status.busy": "2021-07-16T18:10:21.365858Z",
     "iopub.status.idle": "2021-07-16T18:10:21.376628Z",
     "shell.execute_reply": "2021-07-16T18:10:21.376252Z"
    },
    "papermill": {
     "duration": 0.034639,
     "end_time": "2021-07-16T18:10:21.376749",
     "exception": false,
     "start_time": "2021-07-16T18:10:21.342110",
     "status": "completed"
    },
    "tags": []
   },
   "outputs": [],
   "source": [
    "well_aligned_lv_codes = set([f\"LV{lvi}\" for lvi in well_aligned_lvs[\"LV index\"]])"
   ]
  },
  {
   "cell_type": "code",
   "execution_count": 13,
   "id": "controlling-player",
   "metadata": {
    "execution": {
     "iopub.execute_input": "2021-07-16T18:10:21.422383Z",
     "iopub.status.busy": "2021-07-16T18:10:21.422020Z",
     "iopub.status.idle": "2021-07-16T18:10:21.433335Z",
     "shell.execute_reply": "2021-07-16T18:10:21.432967Z"
    },
    "papermill": {
     "duration": 0.03498,
     "end_time": "2021-07-16T18:10:21.433417",
     "exception": false,
     "start_time": "2021-07-16T18:10:21.398437",
     "status": "completed"
    },
    "tags": []
   },
   "outputs": [
    {
     "data": {
      "text/plain": [
       "200"
      ]
     },
     "execution_count": 13,
     "metadata": {},
     "output_type": "execute_result"
    }
   ],
   "source": [
    "len(well_aligned_lv_codes)"
   ]
  },
  {
   "cell_type": "code",
   "execution_count": 14,
   "id": "twelve-junction",
   "metadata": {
    "execution": {
     "iopub.execute_input": "2021-07-16T18:10:21.479812Z",
     "iopub.status.busy": "2021-07-16T18:10:21.479463Z",
     "iopub.status.idle": "2021-07-16T18:10:21.490962Z",
     "shell.execute_reply": "2021-07-16T18:10:21.490615Z"
    },
    "papermill": {
     "duration": 0.035442,
     "end_time": "2021-07-16T18:10:21.491041",
     "exception": false,
     "start_time": "2021-07-16T18:10:21.455599",
     "status": "completed"
    },
    "tags": []
   },
   "outputs": [
    {
     "data": {
      "text/plain": [
       "['LV123', 'LV310', 'LV931', 'LV735', 'LV39']"
      ]
     },
     "execution_count": 14,
     "metadata": {},
     "output_type": "execute_result"
    }
   ],
   "source": [
    "list(well_aligned_lv_codes)[:5]"
   ]
  },
  {
   "cell_type": "markdown",
   "id": "caring-locking",
   "metadata": {
    "papermill": {
     "duration": 0.021574,
     "end_time": "2021-07-16T18:10:21.534508",
     "exception": false,
     "start_time": "2021-07-16T18:10:21.512934",
     "status": "completed"
    },
    "tags": []
   },
   "source": [
    "## eMERGE traits info"
   ]
  },
  {
   "cell_type": "code",
   "execution_count": 15,
   "id": "adverse-gentleman",
   "metadata": {
    "execution": {
     "iopub.execute_input": "2021-07-16T18:10:21.580345Z",
     "iopub.status.busy": "2021-07-16T18:10:21.579989Z",
     "iopub.status.idle": "2021-07-16T18:10:21.591381Z",
     "shell.execute_reply": "2021-07-16T18:10:21.591000Z"
    },
    "papermill": {
     "duration": 0.035427,
     "end_time": "2021-07-16T18:10:21.591461",
     "exception": false,
     "start_time": "2021-07-16T18:10:21.556034",
     "status": "completed"
    },
    "tags": []
   },
   "outputs": [
    {
     "data": {
      "text/plain": [
       "PosixPath('/home/miltondp/projects/labs/greenelab/phenoplier/base/data/emerge/eMERGE_III_PMBB_GSA_v2_2020_phecode_AFR_EUR_cc50_counts_w_dictionary.txt')"
      ]
     },
     "metadata": {},
     "output_type": "display_data"
    }
   ],
   "source": [
    "# FIXME: in the future, there will be a specific entry in config for the eMERGE directory that should be replaced here\n",
    "input_filepath = Path(\n",
    "    conf.DATA_DIR,\n",
    "    \"emerge\",\n",
    "    \"eMERGE_III_PMBB_GSA_v2_2020_phecode_AFR_EUR_cc50_counts_w_dictionary.txt\",\n",
    ").resolve()\n",
    "display(input_filepath)"
   ]
  },
  {
   "cell_type": "code",
   "execution_count": 16,
   "id": "hazardous-unknown",
   "metadata": {
    "execution": {
     "iopub.execute_input": "2021-07-16T18:10:21.645259Z",
     "iopub.status.busy": "2021-07-16T18:10:21.644877Z",
     "iopub.status.idle": "2021-07-16T18:10:21.657896Z",
     "shell.execute_reply": "2021-07-16T18:10:21.657560Z"
    },
    "papermill": {
     "duration": 0.04104,
     "end_time": "2021-07-16T18:10:21.657991",
     "exception": false,
     "start_time": "2021-07-16T18:10:21.616951",
     "status": "completed"
    },
    "tags": []
   },
   "outputs": [],
   "source": [
    "emerge_traits_df = pd.read_csv(\n",
    "    input_filepath,\n",
    "    sep=\"\\t\",\n",
    "    dtype={\"phecode\": str},\n",
    "    usecols=[\"phecode\", \"phenotype\", \"category\"],\n",
    ")"
   ]
  },
  {
   "cell_type": "code",
   "execution_count": 17,
   "id": "million-makeup",
   "metadata": {
    "execution": {
     "iopub.execute_input": "2021-07-16T18:10:21.708026Z",
     "iopub.status.busy": "2021-07-16T18:10:21.707666Z",
     "iopub.status.idle": "2021-07-16T18:10:21.718240Z",
     "shell.execute_reply": "2021-07-16T18:10:21.718542Z"
    },
    "papermill": {
     "duration": 0.035273,
     "end_time": "2021-07-16T18:10:21.718645",
     "exception": false,
     "start_time": "2021-07-16T18:10:21.683372",
     "status": "completed"
    },
    "tags": []
   },
   "outputs": [],
   "source": [
    "emerge_traits_df = emerge_traits_df.rename(\n",
    "    columns={\n",
    "        \"phenotype\": \"phecode_phenotype\",\n",
    "        \"category\": \"phecode_category\",\n",
    "    }\n",
    ")"
   ]
  },
  {
   "cell_type": "code",
   "execution_count": 18,
   "id": "elementary-buddy",
   "metadata": {
    "execution": {
     "iopub.execute_input": "2021-07-16T18:10:21.766804Z",
     "iopub.status.busy": "2021-07-16T18:10:21.766448Z",
     "iopub.status.idle": "2021-07-16T18:10:21.777531Z",
     "shell.execute_reply": "2021-07-16T18:10:21.777171Z"
    },
    "papermill": {
     "duration": 0.03608,
     "end_time": "2021-07-16T18:10:21.777613",
     "exception": false,
     "start_time": "2021-07-16T18:10:21.741533",
     "status": "completed"
    },
    "tags": []
   },
   "outputs": [
    {
     "data": {
      "text/plain": [
       "(309, 3)"
      ]
     },
     "execution_count": 18,
     "metadata": {},
     "output_type": "execute_result"
    }
   ],
   "source": [
    "emerge_traits_df.shape"
   ]
  },
  {
   "cell_type": "code",
   "execution_count": 19,
   "id": "killing-influence",
   "metadata": {
    "execution": {
     "iopub.execute_input": "2021-07-16T18:10:21.825157Z",
     "iopub.status.busy": "2021-07-16T18:10:21.824796Z",
     "iopub.status.idle": "2021-07-16T18:10:21.838350Z",
     "shell.execute_reply": "2021-07-16T18:10:21.838619Z"
    },
    "papermill": {
     "duration": 0.038558,
     "end_time": "2021-07-16T18:10:21.838719",
     "exception": false,
     "start_time": "2021-07-16T18:10:21.800161",
     "status": "completed"
    },
    "tags": []
   },
   "outputs": [
    {
     "data": {
      "text/html": [
       "<div>\n",
       "<style scoped>\n",
       "    .dataframe tbody tr th:only-of-type {\n",
       "        vertical-align: middle;\n",
       "    }\n",
       "\n",
       "    .dataframe tbody tr th {\n",
       "        vertical-align: top;\n",
       "    }\n",
       "\n",
       "    .dataframe thead th {\n",
       "        text-align: right;\n",
       "    }\n",
       "</style>\n",
       "<table border=\"1\" class=\"dataframe\">\n",
       "  <thead>\n",
       "    <tr style=\"text-align: right;\">\n",
       "      <th></th>\n",
       "      <th>phecode</th>\n",
       "      <th>phecode_phenotype</th>\n",
       "      <th>phecode_category</th>\n",
       "    </tr>\n",
       "  </thead>\n",
       "  <tbody>\n",
       "    <tr>\n",
       "      <th>0</th>\n",
       "      <td>008</td>\n",
       "      <td>Intestinal infection</td>\n",
       "      <td>infectious diseases</td>\n",
       "    </tr>\n",
       "    <tr>\n",
       "      <th>1</th>\n",
       "      <td>008.5</td>\n",
       "      <td>Bacterial enteritis</td>\n",
       "      <td>infectious diseases</td>\n",
       "    </tr>\n",
       "    <tr>\n",
       "      <th>2</th>\n",
       "      <td>008.52</td>\n",
       "      <td>Intestinal infection due to C. difficile</td>\n",
       "      <td>infectious diseases</td>\n",
       "    </tr>\n",
       "    <tr>\n",
       "      <th>3</th>\n",
       "      <td>038</td>\n",
       "      <td>Septicemia</td>\n",
       "      <td>infectious diseases</td>\n",
       "    </tr>\n",
       "    <tr>\n",
       "      <th>4</th>\n",
       "      <td>038.3</td>\n",
       "      <td>Bacteremia</td>\n",
       "      <td>infectious diseases</td>\n",
       "    </tr>\n",
       "  </tbody>\n",
       "</table>\n",
       "</div>"
      ],
      "text/plain": [
       "  phecode                         phecode_phenotype     phecode_category\n",
       "0     008                      Intestinal infection  infectious diseases\n",
       "1   008.5                       Bacterial enteritis  infectious diseases\n",
       "2  008.52  Intestinal infection due to C. difficile  infectious diseases\n",
       "3     038                                Septicemia  infectious diseases\n",
       "4   038.3                                Bacteremia  infectious diseases"
      ]
     },
     "execution_count": 19,
     "metadata": {},
     "output_type": "execute_result"
    }
   ],
   "source": [
    "emerge_traits_df.head()"
   ]
  },
  {
   "cell_type": "markdown",
   "id": "developmental-gasoline",
   "metadata": {
    "papermill": {
     "duration": 0.022734,
     "end_time": "2021-07-16T18:10:21.884619",
     "exception": false,
     "start_time": "2021-07-16T18:10:21.861885",
     "status": "completed"
    },
    "tags": []
   },
   "source": [
    "## eMERGE (S-MultiXcan)"
   ]
  },
  {
   "cell_type": "code",
   "execution_count": 20,
   "id": "breathing-chicago",
   "metadata": {
    "execution": {
     "iopub.execute_input": "2021-07-16T18:10:21.932888Z",
     "iopub.status.busy": "2021-07-16T18:10:21.932479Z",
     "iopub.status.idle": "2021-07-16T18:10:21.944305Z",
     "shell.execute_reply": "2021-07-16T18:10:21.944611Z"
    },
    "papermill": {
     "duration": 0.037595,
     "end_time": "2021-07-16T18:10:21.944735",
     "exception": false,
     "start_time": "2021-07-16T18:10:21.907140",
     "status": "completed"
    },
    "tags": []
   },
   "outputs": [
    {
     "data": {
      "text/plain": [
       "PosixPath('/home/miltondp/projects/labs/greenelab/phenoplier/base/data/emerge/gene_assoc/emerge-smultixcan-mashr-zscores.pkl')"
      ]
     },
     "metadata": {},
     "output_type": "display_data"
    }
   ],
   "source": [
    "# FIXME: in the future, there will be a specific entry in config for the eMERGE directory that should be replaced here\n",
    "emerge_smultixcan_zscores_filepath = Path(\n",
    "    conf.DATA_DIR,\n",
    "    \"emerge\",\n",
    "    \"gene_assoc\",\n",
    "    \"emerge-smultixcan-mashr-zscores.pkl\",\n",
    ").resolve()\n",
    "\n",
    "display(emerge_smultixcan_zscores_filepath)"
   ]
  },
  {
   "cell_type": "code",
   "execution_count": 21,
   "id": "blocked-reason",
   "metadata": {
    "execution": {
     "iopub.execute_input": "2021-07-16T18:10:21.994513Z",
     "iopub.status.busy": "2021-07-16T18:10:21.994160Z",
     "iopub.status.idle": "2021-07-16T18:10:22.030673Z",
     "shell.execute_reply": "2021-07-16T18:10:22.030303Z"
    },
    "papermill": {
     "duration": 0.06182,
     "end_time": "2021-07-16T18:10:22.030776",
     "exception": false,
     "start_time": "2021-07-16T18:10:21.968956",
     "status": "completed"
    },
    "tags": []
   },
   "outputs": [],
   "source": [
    "_tmp = pd.read_pickle(emerge_smultixcan_zscores_filepath)"
   ]
  },
  {
   "cell_type": "code",
   "execution_count": 22,
   "id": "married-incident",
   "metadata": {
    "execution": {
     "iopub.execute_input": "2021-07-16T18:10:22.085356Z",
     "iopub.status.busy": "2021-07-16T18:10:22.084998Z",
     "iopub.status.idle": "2021-07-16T18:10:22.095998Z",
     "shell.execute_reply": "2021-07-16T18:10:22.095661Z"
    },
    "papermill": {
     "duration": 0.03718,
     "end_time": "2021-07-16T18:10:22.096079",
     "exception": false,
     "start_time": "2021-07-16T18:10:22.058899",
     "status": "completed"
    },
    "tags": []
   },
   "outputs": [
    {
     "data": {
      "text/plain": [
       "(22198, 309)"
      ]
     },
     "execution_count": 22,
     "metadata": {},
     "output_type": "execute_result"
    }
   ],
   "source": [
    "_tmp.shape"
   ]
  },
  {
   "cell_type": "code",
   "execution_count": 23,
   "id": "stylish-genetics",
   "metadata": {
    "execution": {
     "iopub.execute_input": "2021-07-16T18:10:22.146102Z",
     "iopub.status.busy": "2021-07-16T18:10:22.145739Z",
     "iopub.status.idle": "2021-07-16T18:10:22.168620Z",
     "shell.execute_reply": "2021-07-16T18:10:22.168255Z"
    },
    "papermill": {
     "duration": 0.048887,
     "end_time": "2021-07-16T18:10:22.168715",
     "exception": false,
     "start_time": "2021-07-16T18:10:22.119828",
     "status": "completed"
    },
    "tags": []
   },
   "outputs": [
    {
     "data": {
      "text/html": [
       "<div>\n",
       "<style scoped>\n",
       "    .dataframe tbody tr th:only-of-type {\n",
       "        vertical-align: middle;\n",
       "    }\n",
       "\n",
       "    .dataframe tbody tr th {\n",
       "        vertical-align: top;\n",
       "    }\n",
       "\n",
       "    .dataframe thead th {\n",
       "        text-align: right;\n",
       "    }\n",
       "</style>\n",
       "<table border=\"1\" class=\"dataframe\">\n",
       "  <thead>\n",
       "    <tr style=\"text-align: right;\">\n",
       "      <th></th>\n",
       "      <th>292.3</th>\n",
       "      <th>079</th>\n",
       "      <th>741</th>\n",
       "      <th>418.1</th>\n",
       "      <th>280</th>\n",
       "      <th>747</th>\n",
       "      <th>591</th>\n",
       "      <th>426.21</th>\n",
       "      <th>244</th>\n",
       "      <th>070.3</th>\n",
       "      <th>...</th>\n",
       "      <th>427</th>\n",
       "      <th>585.4</th>\n",
       "      <th>345</th>\n",
       "      <th>366.2</th>\n",
       "      <th>420.2</th>\n",
       "      <th>195</th>\n",
       "      <th>250.2</th>\n",
       "      <th>250.1</th>\n",
       "      <th>371</th>\n",
       "      <th>562</th>\n",
       "    </tr>\n",
       "    <tr>\n",
       "      <th>gene_name</th>\n",
       "      <th></th>\n",
       "      <th></th>\n",
       "      <th></th>\n",
       "      <th></th>\n",
       "      <th></th>\n",
       "      <th></th>\n",
       "      <th></th>\n",
       "      <th></th>\n",
       "      <th></th>\n",
       "      <th></th>\n",
       "      <th></th>\n",
       "      <th></th>\n",
       "      <th></th>\n",
       "      <th></th>\n",
       "      <th></th>\n",
       "      <th></th>\n",
       "      <th></th>\n",
       "      <th></th>\n",
       "      <th></th>\n",
       "      <th></th>\n",
       "      <th></th>\n",
       "    </tr>\n",
       "  </thead>\n",
       "  <tbody>\n",
       "    <tr>\n",
       "      <th>ENSG00000000419</th>\n",
       "      <td>1.043436</td>\n",
       "      <td>1.134028</td>\n",
       "      <td>1.595979</td>\n",
       "      <td>0.399451</td>\n",
       "      <td>0.725100</td>\n",
       "      <td>1.655468</td>\n",
       "      <td>1.803598</td>\n",
       "      <td>0.125250</td>\n",
       "      <td>1.053218</td>\n",
       "      <td>0.922592</td>\n",
       "      <td>...</td>\n",
       "      <td>0.364789</td>\n",
       "      <td>0.453873</td>\n",
       "      <td>0.759558</td>\n",
       "      <td>1.173671</td>\n",
       "      <td>0.298944</td>\n",
       "      <td>1.029646</td>\n",
       "      <td>0.826238</td>\n",
       "      <td>0.685711</td>\n",
       "      <td>2.069701</td>\n",
       "      <td>1.544766</td>\n",
       "    </tr>\n",
       "    <tr>\n",
       "      <th>ENSG00000000457</th>\n",
       "      <td>1.236752</td>\n",
       "      <td>0.119837</td>\n",
       "      <td>0.224120</td>\n",
       "      <td>0.200610</td>\n",
       "      <td>1.304190</td>\n",
       "      <td>0.541478</td>\n",
       "      <td>0.646474</td>\n",
       "      <td>0.493759</td>\n",
       "      <td>0.189680</td>\n",
       "      <td>1.563273</td>\n",
       "      <td>...</td>\n",
       "      <td>1.519500</td>\n",
       "      <td>0.201290</td>\n",
       "      <td>1.020996</td>\n",
       "      <td>0.592006</td>\n",
       "      <td>0.632661</td>\n",
       "      <td>0.995453</td>\n",
       "      <td>0.069362</td>\n",
       "      <td>0.460979</td>\n",
       "      <td>0.217046</td>\n",
       "      <td>1.350475</td>\n",
       "    </tr>\n",
       "    <tr>\n",
       "      <th>ENSG00000000460</th>\n",
       "      <td>0.497108</td>\n",
       "      <td>0.005690</td>\n",
       "      <td>0.317710</td>\n",
       "      <td>0.184918</td>\n",
       "      <td>1.136574</td>\n",
       "      <td>1.708245</td>\n",
       "      <td>0.288962</td>\n",
       "      <td>1.070026</td>\n",
       "      <td>0.403510</td>\n",
       "      <td>1.106321</td>\n",
       "      <td>...</td>\n",
       "      <td>0.678253</td>\n",
       "      <td>1.166204</td>\n",
       "      <td>1.138126</td>\n",
       "      <td>0.608565</td>\n",
       "      <td>0.449551</td>\n",
       "      <td>0.096689</td>\n",
       "      <td>0.887467</td>\n",
       "      <td>0.143815</td>\n",
       "      <td>0.236647</td>\n",
       "      <td>1.048859</td>\n",
       "    </tr>\n",
       "    <tr>\n",
       "      <th>ENSG00000000938</th>\n",
       "      <td>0.374442</td>\n",
       "      <td>1.099899</td>\n",
       "      <td>1.975795</td>\n",
       "      <td>0.107667</td>\n",
       "      <td>0.903520</td>\n",
       "      <td>0.673819</td>\n",
       "      <td>0.855749</td>\n",
       "      <td>0.499088</td>\n",
       "      <td>0.375406</td>\n",
       "      <td>0.815757</td>\n",
       "      <td>...</td>\n",
       "      <td>1.585687</td>\n",
       "      <td>0.584143</td>\n",
       "      <td>0.751384</td>\n",
       "      <td>2.758230</td>\n",
       "      <td>0.572712</td>\n",
       "      <td>0.141023</td>\n",
       "      <td>1.437022</td>\n",
       "      <td>0.288943</td>\n",
       "      <td>0.665727</td>\n",
       "      <td>1.225229</td>\n",
       "    </tr>\n",
       "    <tr>\n",
       "      <th>ENSG00000000971</th>\n",
       "      <td>1.108762</td>\n",
       "      <td>1.133163</td>\n",
       "      <td>0.227188</td>\n",
       "      <td>0.222948</td>\n",
       "      <td>0.072709</td>\n",
       "      <td>0.256124</td>\n",
       "      <td>0.540911</td>\n",
       "      <td>0.606947</td>\n",
       "      <td>0.229133</td>\n",
       "      <td>1.557433</td>\n",
       "      <td>...</td>\n",
       "      <td>2.349373</td>\n",
       "      <td>1.122458</td>\n",
       "      <td>0.155346</td>\n",
       "      <td>0.990123</td>\n",
       "      <td>0.326914</td>\n",
       "      <td>1.100210</td>\n",
       "      <td>1.099537</td>\n",
       "      <td>2.511358</td>\n",
       "      <td>0.950262</td>\n",
       "      <td>1.467305</td>\n",
       "    </tr>\n",
       "  </tbody>\n",
       "</table>\n",
       "<p>5 rows × 309 columns</p>\n",
       "</div>"
      ],
      "text/plain": [
       "                    292.3       079       741     418.1       280       747  \\\n",
       "gene_name                                                                     \n",
       "ENSG00000000419  1.043436  1.134028  1.595979  0.399451  0.725100  1.655468   \n",
       "ENSG00000000457  1.236752  0.119837  0.224120  0.200610  1.304190  0.541478   \n",
       "ENSG00000000460  0.497108  0.005690  0.317710  0.184918  1.136574  1.708245   \n",
       "ENSG00000000938  0.374442  1.099899  1.975795  0.107667  0.903520  0.673819   \n",
       "ENSG00000000971  1.108762  1.133163  0.227188  0.222948  0.072709  0.256124   \n",
       "\n",
       "                      591    426.21       244     070.3  ...       427  \\\n",
       "gene_name                                                ...             \n",
       "ENSG00000000419  1.803598  0.125250  1.053218  0.922592  ...  0.364789   \n",
       "ENSG00000000457  0.646474  0.493759  0.189680  1.563273  ...  1.519500   \n",
       "ENSG00000000460  0.288962  1.070026  0.403510  1.106321  ...  0.678253   \n",
       "ENSG00000000938  0.855749  0.499088  0.375406  0.815757  ...  1.585687   \n",
       "ENSG00000000971  0.540911  0.606947  0.229133  1.557433  ...  2.349373   \n",
       "\n",
       "                    585.4       345     366.2     420.2       195     250.2  \\\n",
       "gene_name                                                                     \n",
       "ENSG00000000419  0.453873  0.759558  1.173671  0.298944  1.029646  0.826238   \n",
       "ENSG00000000457  0.201290  1.020996  0.592006  0.632661  0.995453  0.069362   \n",
       "ENSG00000000460  1.166204  1.138126  0.608565  0.449551  0.096689  0.887467   \n",
       "ENSG00000000938  0.584143  0.751384  2.758230  0.572712  0.141023  1.437022   \n",
       "ENSG00000000971  1.122458  0.155346  0.990123  0.326914  1.100210  1.099537   \n",
       "\n",
       "                    250.1       371       562  \n",
       "gene_name                                      \n",
       "ENSG00000000419  0.685711  2.069701  1.544766  \n",
       "ENSG00000000457  0.460979  0.217046  1.350475  \n",
       "ENSG00000000460  0.143815  0.236647  1.048859  \n",
       "ENSG00000000938  0.288943  0.665727  1.225229  \n",
       "ENSG00000000971  2.511358  0.950262  1.467305  \n",
       "\n",
       "[5 rows x 309 columns]"
      ]
     },
     "execution_count": 23,
     "metadata": {},
     "output_type": "execute_result"
    }
   ],
   "source": [
    "_tmp.head()"
   ]
  },
  {
   "cell_type": "markdown",
   "id": "wound-sullivan",
   "metadata": {
    "papermill": {
     "duration": 0.023738,
     "end_time": "2021-07-16T18:10:22.217286",
     "exception": false,
     "start_time": "2021-07-16T18:10:22.193548",
     "status": "completed"
    },
    "tags": []
   },
   "source": [
    "## GLS results on PhenomeXcan"
   ]
  },
  {
   "cell_type": "code",
   "execution_count": 24,
   "id": "canadian-large",
   "metadata": {
    "execution": {
     "iopub.execute_input": "2021-07-16T18:10:22.267221Z",
     "iopub.status.busy": "2021-07-16T18:10:22.266867Z",
     "iopub.status.idle": "2021-07-16T18:10:22.278457Z",
     "shell.execute_reply": "2021-07-16T18:10:22.278063Z"
    },
    "papermill": {
     "duration": 0.037521,
     "end_time": "2021-07-16T18:10:22.278538",
     "exception": false,
     "start_time": "2021-07-16T18:10:22.241017",
     "status": "completed"
    },
    "tags": []
   },
   "outputs": [
    {
     "data": {
      "text/plain": [
       "PosixPath('/home/miltondp/projects/labs/greenelab/phenoplier/base/results/gls/gls_phenotypes-crispr_lvs-phenomexcan.pkl')"
      ]
     },
     "metadata": {},
     "output_type": "display_data"
    }
   ],
   "source": [
    "input_filepath = conf.RESULTS[\"GLS\"] / \"gls_phenotypes-crispr_lvs-phenomexcan.pkl\"\n",
    "display(input_filepath)"
   ]
  },
  {
   "cell_type": "code",
   "execution_count": 25,
   "id": "young-mechanism",
   "metadata": {
    "execution": {
     "iopub.execute_input": "2021-07-16T18:10:22.329052Z",
     "iopub.status.busy": "2021-07-16T18:10:22.328655Z",
     "iopub.status.idle": "2021-07-16T18:10:22.681234Z",
     "shell.execute_reply": "2021-07-16T18:10:22.680747Z"
    },
    "papermill": {
     "duration": 0.378614,
     "end_time": "2021-07-16T18:10:22.681343",
     "exception": false,
     "start_time": "2021-07-16T18:10:22.302729",
     "status": "completed"
    },
    "tags": []
   },
   "outputs": [],
   "source": [
    "gls_phenomexcan_crispr = pd.read_pickle(input_filepath)"
   ]
  },
  {
   "cell_type": "code",
   "execution_count": 26,
   "id": "skilled-click",
   "metadata": {
    "execution": {
     "iopub.execute_input": "2021-07-16T18:10:22.742463Z",
     "iopub.status.busy": "2021-07-16T18:10:22.742092Z",
     "iopub.status.idle": "2021-07-16T18:10:22.753696Z",
     "shell.execute_reply": "2021-07-16T18:10:22.753376Z"
    },
    "papermill": {
     "duration": 0.040728,
     "end_time": "2021-07-16T18:10:22.753786",
     "exception": false,
     "start_time": "2021-07-16T18:10:22.713058",
     "status": "completed"
    },
    "tags": []
   },
   "outputs": [
    {
     "data": {
      "text/plain": [
       "(630, 10)"
      ]
     },
     "execution_count": 26,
     "metadata": {},
     "output_type": "execute_result"
    }
   ],
   "source": [
    "gls_phenomexcan_crispr.shape"
   ]
  },
  {
   "cell_type": "code",
   "execution_count": 27,
   "id": "exterior-government",
   "metadata": {
    "execution": {
     "iopub.execute_input": "2021-07-16T18:10:22.808656Z",
     "iopub.status.busy": "2021-07-16T18:10:22.808304Z",
     "iopub.status.idle": "2021-07-16T18:10:22.836909Z",
     "shell.execute_reply": "2021-07-16T18:10:22.836479Z"
    },
    "papermill": {
     "duration": 0.055954,
     "end_time": "2021-07-16T18:10:22.836992",
     "exception": false,
     "start_time": "2021-07-16T18:10:22.781038",
     "status": "completed"
    },
    "tags": []
   },
   "outputs": [
    {
     "data": {
      "text/html": [
       "<div>\n",
       "<style scoped>\n",
       "    .dataframe tbody tr th:only-of-type {\n",
       "        vertical-align: middle;\n",
       "    }\n",
       "\n",
       "    .dataframe tbody tr th {\n",
       "        vertical-align: top;\n",
       "    }\n",
       "\n",
       "    .dataframe thead th {\n",
       "        text-align: right;\n",
       "    }\n",
       "</style>\n",
       "<table border=\"1\" class=\"dataframe\">\n",
       "  <thead>\n",
       "    <tr style=\"text-align: right;\">\n",
       "      <th></th>\n",
       "      <th>part_k</th>\n",
       "      <th>cluster_id</th>\n",
       "      <th>phenotype</th>\n",
       "      <th>lv</th>\n",
       "      <th>lv_set</th>\n",
       "      <th>lv_with_pathway</th>\n",
       "      <th>coef</th>\n",
       "      <th>pvalue</th>\n",
       "      <th>pvalue_twosided</th>\n",
       "      <th>summary</th>\n",
       "    </tr>\n",
       "  </thead>\n",
       "  <tbody>\n",
       "    <tr>\n",
       "      <th>0</th>\n",
       "      <td>29</td>\n",
       "      <td>17</td>\n",
       "      <td>20003_1140861958-Treatmentmedication_code_simv...</td>\n",
       "      <td>LV246</td>\n",
       "      <td>lipids-increasing</td>\n",
       "      <td>True</td>\n",
       "      <td>0.036054</td>\n",
       "      <td>0.001882</td>\n",
       "      <td>0.003763</td>\n",
       "      <td>GLS Regression Res...</td>\n",
       "    </tr>\n",
       "    <tr>\n",
       "      <th>1</th>\n",
       "      <td>29</td>\n",
       "      <td>17</td>\n",
       "      <td>20003_1140861958-Treatmentmedication_code_simv...</td>\n",
       "      <td>LV302</td>\n",
       "      <td>lipids-decreasing</td>\n",
       "      <td>False</td>\n",
       "      <td>-0.006249</td>\n",
       "      <td>0.699373</td>\n",
       "      <td>0.601253</td>\n",
       "      <td>GLS Regression Res...</td>\n",
       "    </tr>\n",
       "    <tr>\n",
       "      <th>2</th>\n",
       "      <td>29</td>\n",
       "      <td>17</td>\n",
       "      <td>20003_1140861958-Treatmentmedication_code_simv...</td>\n",
       "      <td>LV41</td>\n",
       "      <td>lipids-decreasing</td>\n",
       "      <td>False</td>\n",
       "      <td>-0.019236</td>\n",
       "      <td>0.942844</td>\n",
       "      <td>0.114313</td>\n",
       "      <td>GLS Regression Res...</td>\n",
       "    </tr>\n",
       "    <tr>\n",
       "      <th>3</th>\n",
       "      <td>29</td>\n",
       "      <td>17</td>\n",
       "      <td>20003_1140861958-Treatmentmedication_code_simv...</td>\n",
       "      <td>LV512</td>\n",
       "      <td>lipids-decreasing</td>\n",
       "      <td>False</td>\n",
       "      <td>-0.022410</td>\n",
       "      <td>0.965432</td>\n",
       "      <td>0.069135</td>\n",
       "      <td>GLS Regression Res...</td>\n",
       "    </tr>\n",
       "    <tr>\n",
       "      <th>4</th>\n",
       "      <td>29</td>\n",
       "      <td>17</td>\n",
       "      <td>20003_1140861958-Treatmentmedication_code_simv...</td>\n",
       "      <td>LV520</td>\n",
       "      <td>lipids-decreasing</td>\n",
       "      <td>False</td>\n",
       "      <td>-0.011205</td>\n",
       "      <td>0.822209</td>\n",
       "      <td>0.355583</td>\n",
       "      <td>GLS Regression Res...</td>\n",
       "    </tr>\n",
       "  </tbody>\n",
       "</table>\n",
       "</div>"
      ],
      "text/plain": [
       "   part_k  cluster_id                                          phenotype  \\\n",
       "0      29          17  20003_1140861958-Treatmentmedication_code_simv...   \n",
       "1      29          17  20003_1140861958-Treatmentmedication_code_simv...   \n",
       "2      29          17  20003_1140861958-Treatmentmedication_code_simv...   \n",
       "3      29          17  20003_1140861958-Treatmentmedication_code_simv...   \n",
       "4      29          17  20003_1140861958-Treatmentmedication_code_simv...   \n",
       "\n",
       "      lv             lv_set  lv_with_pathway      coef    pvalue  \\\n",
       "0  LV246  lipids-increasing             True  0.036054  0.001882   \n",
       "1  LV302  lipids-decreasing            False -0.006249  0.699373   \n",
       "2   LV41  lipids-decreasing            False -0.019236  0.942844   \n",
       "3  LV512  lipids-decreasing            False -0.022410  0.965432   \n",
       "4  LV520  lipids-decreasing            False -0.011205  0.822209   \n",
       "\n",
       "   pvalue_twosided                                            summary  \n",
       "0         0.003763                              GLS Regression Res...  \n",
       "1         0.601253                              GLS Regression Res...  \n",
       "2         0.114313                              GLS Regression Res...  \n",
       "3         0.069135                              GLS Regression Res...  \n",
       "4         0.355583                              GLS Regression Res...  "
      ]
     },
     "execution_count": 27,
     "metadata": {},
     "output_type": "execute_result"
    }
   ],
   "source": [
    "gls_phenomexcan_crispr.head()"
   ]
  },
  {
   "cell_type": "markdown",
   "id": "elegant-wrong",
   "metadata": {
    "papermill": {
     "duration": 0.024439,
     "end_time": "2021-07-16T18:10:22.886768",
     "exception": false,
     "start_time": "2021-07-16T18:10:22.862329",
     "status": "completed"
    },
    "tags": []
   },
   "source": [
    "# Select LV from previous GLS run on PhenomeXcan"
   ]
  },
  {
   "cell_type": "markdown",
   "id": "graphic-context",
   "metadata": {
    "papermill": {
     "duration": 0.024693,
     "end_time": "2021-07-16T18:10:22.936057",
     "exception": false,
     "start_time": "2021-07-16T18:10:22.911364",
     "status": "completed"
    },
    "tags": []
   },
   "source": [
    "This selectes the LVs enriched for the lipids CRISPR anaysis."
   ]
  },
  {
   "cell_type": "code",
   "execution_count": 28,
   "id": "rapid-adrian",
   "metadata": {
    "execution": {
     "iopub.execute_input": "2021-07-16T18:10:22.988974Z",
     "iopub.status.busy": "2021-07-16T18:10:22.988575Z",
     "iopub.status.idle": "2021-07-16T18:10:23.000639Z",
     "shell.execute_reply": "2021-07-16T18:10:23.000263Z"
    },
    "papermill": {
     "duration": 0.039227,
     "end_time": "2021-07-16T18:10:23.000760",
     "exception": false,
     "start_time": "2021-07-16T18:10:22.961533",
     "status": "completed"
    },
    "tags": []
   },
   "outputs": [],
   "source": [
    "gls_phenomexcan_lvs = (\n",
    "    gls_phenomexcan_crispr[[\"lv\", \"lv_set\"]].drop_duplicates().reset_index(drop=True)\n",
    ")"
   ]
  },
  {
   "cell_type": "code",
   "execution_count": 29,
   "id": "fixed-bible",
   "metadata": {
    "execution": {
     "iopub.execute_input": "2021-07-16T18:10:23.053528Z",
     "iopub.status.busy": "2021-07-16T18:10:23.053161Z",
     "iopub.status.idle": "2021-07-16T18:10:23.064572Z",
     "shell.execute_reply": "2021-07-16T18:10:23.064206Z"
    },
    "papermill": {
     "duration": 0.038412,
     "end_time": "2021-07-16T18:10:23.064654",
     "exception": false,
     "start_time": "2021-07-16T18:10:23.026242",
     "status": "completed"
    },
    "tags": []
   },
   "outputs": [
    {
     "data": {
      "text/plain": [
       "(15, 2)"
      ]
     },
     "execution_count": 29,
     "metadata": {},
     "output_type": "execute_result"
    }
   ],
   "source": [
    "gls_phenomexcan_lvs.shape"
   ]
  },
  {
   "cell_type": "code",
   "execution_count": 30,
   "id": "unsigned-columbia",
   "metadata": {
    "execution": {
     "iopub.execute_input": "2021-07-16T18:10:23.118776Z",
     "iopub.status.busy": "2021-07-16T18:10:23.118426Z",
     "iopub.status.idle": "2021-07-16T18:10:23.131846Z",
     "shell.execute_reply": "2021-07-16T18:10:23.131485Z"
    },
    "papermill": {
     "duration": 0.040988,
     "end_time": "2021-07-16T18:10:23.131928",
     "exception": false,
     "start_time": "2021-07-16T18:10:23.090940",
     "status": "completed"
    },
    "tags": []
   },
   "outputs": [
    {
     "data": {
      "text/html": [
       "<div>\n",
       "<style scoped>\n",
       "    .dataframe tbody tr th:only-of-type {\n",
       "        vertical-align: middle;\n",
       "    }\n",
       "\n",
       "    .dataframe tbody tr th {\n",
       "        vertical-align: top;\n",
       "    }\n",
       "\n",
       "    .dataframe thead th {\n",
       "        text-align: right;\n",
       "    }\n",
       "</style>\n",
       "<table border=\"1\" class=\"dataframe\">\n",
       "  <thead>\n",
       "    <tr style=\"text-align: right;\">\n",
       "      <th></th>\n",
       "      <th>lv</th>\n",
       "      <th>lv_set</th>\n",
       "    </tr>\n",
       "  </thead>\n",
       "  <tbody>\n",
       "    <tr>\n",
       "      <th>0</th>\n",
       "      <td>LV246</td>\n",
       "      <td>lipids-increasing</td>\n",
       "    </tr>\n",
       "    <tr>\n",
       "      <th>1</th>\n",
       "      <td>LV302</td>\n",
       "      <td>lipids-decreasing</td>\n",
       "    </tr>\n",
       "    <tr>\n",
       "      <th>2</th>\n",
       "      <td>LV41</td>\n",
       "      <td>lipids-decreasing</td>\n",
       "    </tr>\n",
       "    <tr>\n",
       "      <th>3</th>\n",
       "      <td>LV512</td>\n",
       "      <td>lipids-decreasing</td>\n",
       "    </tr>\n",
       "    <tr>\n",
       "      <th>4</th>\n",
       "      <td>LV520</td>\n",
       "      <td>lipids-decreasing</td>\n",
       "    </tr>\n",
       "  </tbody>\n",
       "</table>\n",
       "</div>"
      ],
      "text/plain": [
       "      lv             lv_set\n",
       "0  LV246  lipids-increasing\n",
       "1  LV302  lipids-decreasing\n",
       "2   LV41  lipids-decreasing\n",
       "3  LV512  lipids-decreasing\n",
       "4  LV520  lipids-decreasing"
      ]
     },
     "execution_count": 30,
     "metadata": {},
     "output_type": "execute_result"
    }
   ],
   "source": [
    "gls_phenomexcan_lvs.head()"
   ]
  },
  {
   "cell_type": "markdown",
   "id": "apart-strategy",
   "metadata": {
    "papermill": {
     "duration": 0.025203,
     "end_time": "2021-07-16T18:10:23.183624",
     "exception": false,
     "start_time": "2021-07-16T18:10:23.158421",
     "status": "completed"
    },
    "tags": []
   },
   "source": [
    "# Select relevant traits from eMERGE"
   ]
  },
  {
   "cell_type": "markdown",
   "id": "forty-rabbit",
   "metadata": {
    "papermill": {
     "duration": 0.024964,
     "end_time": "2021-07-16T18:10:23.233747",
     "exception": false,
     "start_time": "2021-07-16T18:10:23.208783",
     "status": "completed"
    },
    "tags": []
   },
   "source": [
    "Here we don't have partitions/cluters as with PhenomeXcan. So for this analysis (LVs related to lipids), I select relevant categories of traits from eMERGE (we have a \"category\" column for this results)."
   ]
  },
  {
   "cell_type": "code",
   "execution_count": 31,
   "id": "amended-disaster",
   "metadata": {
    "execution": {
     "iopub.execute_input": "2021-07-16T18:10:23.286626Z",
     "iopub.status.busy": "2021-07-16T18:10:23.286273Z",
     "iopub.status.idle": "2021-07-16T18:10:23.297651Z",
     "shell.execute_reply": "2021-07-16T18:10:23.297939Z"
    },
    "papermill": {
     "duration": 0.039294,
     "end_time": "2021-07-16T18:10:23.298039",
     "exception": false,
     "start_time": "2021-07-16T18:10:23.258745",
     "status": "completed"
    },
    "tags": []
   },
   "outputs": [
    {
     "data": {
      "text/plain": [
       "array(['infectious diseases', 'neoplasms', 'endocrine/metabolic',\n",
       "       'hematopoietic', 'mental disorders', 'neurological',\n",
       "       'sense organs', 'circulatory system', 'respiratory', 'digestive',\n",
       "       'genitourinary', 'dermatologic', 'musculoskeletal',\n",
       "       'congenital anomalies'], dtype=object)"
      ]
     },
     "execution_count": 31,
     "metadata": {},
     "output_type": "execute_result"
    }
   ],
   "source": [
    "emerge_traits_df[\"phecode_category\"].unique()"
   ]
  },
  {
   "cell_type": "code",
   "execution_count": 32,
   "id": "reflected-newsletter",
   "metadata": {
    "execution": {
     "iopub.execute_input": "2021-07-16T18:10:23.351855Z",
     "iopub.status.busy": "2021-07-16T18:10:23.351480Z",
     "iopub.status.idle": "2021-07-16T18:10:23.362821Z",
     "shell.execute_reply": "2021-07-16T18:10:23.362456Z"
    },
    "papermill": {
     "duration": 0.039161,
     "end_time": "2021-07-16T18:10:23.362903",
     "exception": false,
     "start_time": "2021-07-16T18:10:23.323742",
     "status": "completed"
    },
    "tags": []
   },
   "outputs": [],
   "source": [
    "gls_traits = emerge_traits_df[\n",
    "    emerge_traits_df[\"phecode_category\"].isin(\n",
    "        [\n",
    "            \"circulatory system\",\n",
    "            \"endocrine/metabolic\",\n",
    "            \"neurological\",\n",
    "            \"mental disorders\",\n",
    "        ]\n",
    "    )\n",
    "][\"phecode\"].unique()"
   ]
  },
  {
   "cell_type": "code",
   "execution_count": 33,
   "id": "previous-health",
   "metadata": {
    "execution": {
     "iopub.execute_input": "2021-07-16T18:10:23.416774Z",
     "iopub.status.busy": "2021-07-16T18:10:23.416368Z",
     "iopub.status.idle": "2021-07-16T18:10:23.427553Z",
     "shell.execute_reply": "2021-07-16T18:10:23.427185Z"
    },
    "papermill": {
     "duration": 0.038722,
     "end_time": "2021-07-16T18:10:23.427635",
     "exception": false,
     "start_time": "2021-07-16T18:10:23.388913",
     "status": "completed"
    },
    "tags": []
   },
   "outputs": [
    {
     "data": {
      "text/plain": [
       "(140,)"
      ]
     },
     "execution_count": 33,
     "metadata": {},
     "output_type": "execute_result"
    }
   ],
   "source": [
    "gls_traits.shape"
   ]
  },
  {
   "cell_type": "code",
   "execution_count": 34,
   "id": "three-thousand",
   "metadata": {
    "execution": {
     "iopub.execute_input": "2021-07-16T18:10:23.482736Z",
     "iopub.status.busy": "2021-07-16T18:10:23.482385Z",
     "iopub.status.idle": "2021-07-16T18:10:23.493873Z",
     "shell.execute_reply": "2021-07-16T18:10:23.493504Z"
    },
    "papermill": {
     "duration": 0.039349,
     "end_time": "2021-07-16T18:10:23.493955",
     "exception": false,
     "start_time": "2021-07-16T18:10:23.454606",
     "status": "completed"
    },
    "tags": []
   },
   "outputs": [
    {
     "data": {
      "text/plain": [
       "array(['241', '241.1', '241.2', '244', '244.2', '244.4', '249', '250',\n",
       "       '250.1', '250.2', '250.22', '250.24', '250.4', '250.41', '250.6',\n",
       "       '260', '260.2', '261', '261.4', '269', '270', '272', '272.1',\n",
       "       '272.11', '272.13', '274', '274.1', '274.11', '275', '275.3',\n",
       "       '275.5', '275.53', '276', '276.1', '276.12', '276.13', '276.14',\n",
       "       '276.4', '276.41', '276.5', '276.6', '277.7', '278', '278.1',\n",
       "       '278.11', '279', '292', '292.3', '292.4', '327', '327.3', '327.32',\n",
       "       '327.4', '327.7', '340', '345', '350.2', '356', '394', '394.2',\n",
       "       '394.7', '395', '395.1', '395.2', '401', '401.1', '401.2',\n",
       "       '401.21', '401.22', '411', '411.1', '411.2', '411.3', '411.4',\n",
       "       '411.8', '414', '415', '415.1', '415.11', '415.2', '415.21', '416',\n",
       "       '418', '418.1', '420', '420.2', '420.3', '425', '425.1', '425.2',\n",
       "       '426', '426.2', '426.21', '426.24', '426.3', '426.31', '426.32',\n",
       "       '427', '427.1', '427.11', '427.12', '427.2', '427.21', '427.22',\n",
       "       '427.4', '427.5', '427.6', '427.8', '427.9', '428', '428.1',\n",
       "       '428.2', '428.3', '428.4', '429', '429.1', '429.2', '429.3', '433',\n",
       "       '433.1', '433.2', '433.21', '433.3', '433.31', '433.6', '440',\n",
       "       '440.2', '440.22', '442.1', '442.11', '443', '443.9', '444', '452',\n",
       "       '452.2', '454', '455', '456', '458', '458.9'], dtype=object)"
      ]
     },
     "execution_count": 34,
     "metadata": {},
     "output_type": "execute_result"
    }
   ],
   "source": [
    "gls_traits"
   ]
  },
  {
   "cell_type": "markdown",
   "id": "creative-pencil",
   "metadata": {
    "papermill": {
     "duration": 0.026216,
     "end_time": "2021-07-16T18:10:23.547507",
     "exception": false,
     "start_time": "2021-07-16T18:10:23.521291",
     "status": "completed"
    },
    "tags": []
   },
   "source": [
    "# GLSPhenoplier"
   ]
  },
  {
   "cell_type": "markdown",
   "id": "published-universal",
   "metadata": {
    "papermill": {
     "duration": 0.025973,
     "end_time": "2021-07-16T18:10:23.599609",
     "exception": false,
     "start_time": "2021-07-16T18:10:23.573636",
     "status": "completed"
    },
    "tags": []
   },
   "source": [
    "## Get list of phenotypes/lvs pairs"
   ]
  },
  {
   "cell_type": "code",
   "execution_count": 35,
   "id": "balanced-surveillance",
   "metadata": {
    "execution": {
     "iopub.execute_input": "2021-07-16T18:10:23.683192Z",
     "iopub.status.busy": "2021-07-16T18:10:23.682787Z",
     "iopub.status.idle": "2021-07-16T18:10:23.709765Z",
     "shell.execute_reply": "2021-07-16T18:10:23.710076Z"
    },
    "papermill": {
     "duration": 0.06254,
     "end_time": "2021-07-16T18:10:23.710189",
     "exception": false,
     "start_time": "2021-07-16T18:10:23.647649",
     "status": "completed"
    },
    "tags": []
   },
   "outputs": [],
   "source": [
    "phenotypes_lvs_pairs = []\n",
    "\n",
    "for idx, lv_row in gls_phenomexcan_lvs.iterrows():\n",
    "    for phenotype_code in gls_traits:\n",
    "        phenotypes_lvs_pairs.append(\n",
    "            {\n",
    "                \"phenotype\": phenotype_code,\n",
    "                \"lv\": lv_row[\"lv\"],\n",
    "                \"lv_set\": lv_row[\"lv_set\"],\n",
    "            }\n",
    "        )\n",
    "\n",
    "phenotypes_lvs_pairs = pd.DataFrame(phenotypes_lvs_pairs).drop_duplicates()"
   ]
  },
  {
   "cell_type": "code",
   "execution_count": 36,
   "id": "korean-organization",
   "metadata": {
    "execution": {
     "iopub.execute_input": "2021-07-16T18:10:23.767028Z",
     "iopub.status.busy": "2021-07-16T18:10:23.766672Z",
     "iopub.status.idle": "2021-07-16T18:10:23.778185Z",
     "shell.execute_reply": "2021-07-16T18:10:23.777820Z"
    },
    "papermill": {
     "duration": 0.039913,
     "end_time": "2021-07-16T18:10:23.778269",
     "exception": false,
     "start_time": "2021-07-16T18:10:23.738356",
     "status": "completed"
    },
    "tags": []
   },
   "outputs": [],
   "source": [
    "phenotypes_lvs_pairs = phenotypes_lvs_pairs.sort_values(\"phenotype\").reset_index(\n",
    "    drop=True\n",
    ")"
   ]
  },
  {
   "cell_type": "code",
   "execution_count": 37,
   "id": "olympic-third",
   "metadata": {
    "execution": {
     "iopub.execute_input": "2021-07-16T18:10:23.834017Z",
     "iopub.status.busy": "2021-07-16T18:10:23.833660Z",
     "iopub.status.idle": "2021-07-16T18:10:23.844897Z",
     "shell.execute_reply": "2021-07-16T18:10:23.844475Z"
    },
    "papermill": {
     "duration": 0.039956,
     "end_time": "2021-07-16T18:10:23.844977",
     "exception": false,
     "start_time": "2021-07-16T18:10:23.805021",
     "status": "completed"
    },
    "tags": []
   },
   "outputs": [
    {
     "data": {
      "text/plain": [
       "(2100, 3)"
      ]
     },
     "execution_count": 37,
     "metadata": {},
     "output_type": "execute_result"
    }
   ],
   "source": [
    "phenotypes_lvs_pairs.shape"
   ]
  },
  {
   "cell_type": "code",
   "execution_count": 38,
   "id": "ecological-movie",
   "metadata": {
    "execution": {
     "iopub.execute_input": "2021-07-16T18:10:23.901293Z",
     "iopub.status.busy": "2021-07-16T18:10:23.900933Z",
     "iopub.status.idle": "2021-07-16T18:10:23.914901Z",
     "shell.execute_reply": "2021-07-16T18:10:23.914541Z"
    },
    "papermill": {
     "duration": 0.042633,
     "end_time": "2021-07-16T18:10:23.914982",
     "exception": false,
     "start_time": "2021-07-16T18:10:23.872349",
     "status": "completed"
    },
    "tags": []
   },
   "outputs": [
    {
     "data": {
      "text/html": [
       "<div>\n",
       "<style scoped>\n",
       "    .dataframe tbody tr th:only-of-type {\n",
       "        vertical-align: middle;\n",
       "    }\n",
       "\n",
       "    .dataframe tbody tr th {\n",
       "        vertical-align: top;\n",
       "    }\n",
       "\n",
       "    .dataframe thead th {\n",
       "        text-align: right;\n",
       "    }\n",
       "</style>\n",
       "<table border=\"1\" class=\"dataframe\">\n",
       "  <thead>\n",
       "    <tr style=\"text-align: right;\">\n",
       "      <th></th>\n",
       "      <th>phenotype</th>\n",
       "      <th>lv</th>\n",
       "      <th>lv_set</th>\n",
       "    </tr>\n",
       "  </thead>\n",
       "  <tbody>\n",
       "    <tr>\n",
       "      <th>0</th>\n",
       "      <td>241</td>\n",
       "      <td>LV246</td>\n",
       "      <td>lipids-increasing</td>\n",
       "    </tr>\n",
       "    <tr>\n",
       "      <th>1</th>\n",
       "      <td>241</td>\n",
       "      <td>LV302</td>\n",
       "      <td>lipids-decreasing</td>\n",
       "    </tr>\n",
       "    <tr>\n",
       "      <th>2</th>\n",
       "      <td>241</td>\n",
       "      <td>LV512</td>\n",
       "      <td>lipids-decreasing</td>\n",
       "    </tr>\n",
       "    <tr>\n",
       "      <th>3</th>\n",
       "      <td>241</td>\n",
       "      <td>LV865</td>\n",
       "      <td>lipids-increasing</td>\n",
       "    </tr>\n",
       "    <tr>\n",
       "      <th>4</th>\n",
       "      <td>241</td>\n",
       "      <td>LV890</td>\n",
       "      <td>lipids-increasing</td>\n",
       "    </tr>\n",
       "  </tbody>\n",
       "</table>\n",
       "</div>"
      ],
      "text/plain": [
       "  phenotype     lv             lv_set\n",
       "0       241  LV246  lipids-increasing\n",
       "1       241  LV302  lipids-decreasing\n",
       "2       241  LV512  lipids-decreasing\n",
       "3       241  LV865  lipids-increasing\n",
       "4       241  LV890  lipids-increasing"
      ]
     },
     "execution_count": 38,
     "metadata": {},
     "output_type": "execute_result"
    }
   ],
   "source": [
    "phenotypes_lvs_pairs.head()"
   ]
  },
  {
   "cell_type": "markdown",
   "id": "frank-chess",
   "metadata": {
    "papermill": {
     "duration": 0.027337,
     "end_time": "2021-07-16T18:10:23.969931",
     "exception": false,
     "start_time": "2021-07-16T18:10:23.942594",
     "status": "completed"
    },
    "tags": []
   },
   "source": [
    "## Run"
   ]
  },
  {
   "cell_type": "code",
   "execution_count": 39,
   "id": "intellectual-democracy",
   "metadata": {
    "execution": {
     "iopub.execute_input": "2021-07-16T18:10:24.027012Z",
     "iopub.status.busy": "2021-07-16T18:10:24.026636Z",
     "iopub.status.idle": "2021-07-16T23:36:55.970688Z",
     "shell.execute_reply": "2021-07-16T23:36:55.969853Z"
    },
    "papermill": {
     "duration": 19591.974484,
     "end_time": "2021-07-16T23:36:55.970781",
     "exception": false,
     "start_time": "2021-07-16T18:10:23.996297",
     "status": "completed"
    },
    "tags": []
   },
   "outputs": [
    {
     "name": "stderr",
     "output_type": "stream",
     "text": [
      "458.9 - LV959: 100%|██████████| 2100/2100 [5:26:31<00:00,  9.33s/it]\n"
     ]
    }
   ],
   "source": [
    "results = []\n",
    "\n",
    "pbar = tqdm(total=phenotypes_lvs_pairs.shape[0])\n",
    "\n",
    "for idx, row in phenotypes_lvs_pairs.iterrows():\n",
    "    phenotype_code = row[\"phenotype\"]\n",
    "    lv_code = row[\"lv\"]\n",
    "\n",
    "    pbar.set_description(f\"{phenotype_code} - {lv_code}\")\n",
    "\n",
    "    gls_model = GLSPhenoplier(\n",
    "        smultixcan_result_set_filepath=emerge_smultixcan_zscores_filepath\n",
    "    )\n",
    "    gls_model.fit_named(lv_code, phenotype_code)\n",
    "    res = gls_model.results\n",
    "\n",
    "    results.append(\n",
    "        {\n",
    "            \"phenotype\": phenotype_code,\n",
    "            \"lv\": lv_code,\n",
    "            \"lv_set\": row[\"lv_set\"],\n",
    "            \"lv_with_pathway\": lv_code in well_aligned_lv_codes,\n",
    "            \"coef\": res.params.loc[\"lv\"],\n",
    "            \"pvalue\": res.pvalues_onesided.loc[\"lv\"],\n",
    "            \"pvalue_twosided\": res.pvalues.loc[\"lv\"],\n",
    "            \"summary\": gls_model.results_summary,\n",
    "        }\n",
    "    )\n",
    "\n",
    "    # save results every 10 models trained\n",
    "    if (idx % 10) == 0:\n",
    "        pd.DataFrame(results).to_pickle(OUTPUT_FILENAME)\n",
    "\n",
    "    pbar.update(1)\n",
    "\n",
    "pbar.close()"
   ]
  },
  {
   "cell_type": "code",
   "execution_count": 40,
   "id": "destroyed-offer",
   "metadata": {
    "execution": {
     "iopub.execute_input": "2021-07-16T23:36:57.359105Z",
     "iopub.status.busy": "2021-07-16T23:36:57.358716Z",
     "iopub.status.idle": "2021-07-16T23:36:57.375957Z",
     "shell.execute_reply": "2021-07-16T23:36:57.375529Z"
    },
    "papermill": {
     "duration": 0.716288,
     "end_time": "2021-07-16T23:36:57.376057",
     "exception": false,
     "start_time": "2021-07-16T23:36:56.659769",
     "status": "completed"
    },
    "tags": []
   },
   "outputs": [],
   "source": [
    "results = pd.DataFrame(results)"
   ]
  },
  {
   "cell_type": "code",
   "execution_count": 41,
   "id": "light-airport",
   "metadata": {
    "execution": {
     "iopub.execute_input": "2021-07-16T23:36:58.768218Z",
     "iopub.status.busy": "2021-07-16T23:36:58.767854Z",
     "iopub.status.idle": "2021-07-16T23:36:58.779404Z",
     "shell.execute_reply": "2021-07-16T23:36:58.779069Z"
    },
    "papermill": {
     "duration": 0.709565,
     "end_time": "2021-07-16T23:36:58.779493",
     "exception": false,
     "start_time": "2021-07-16T23:36:58.069928",
     "status": "completed"
    },
    "tags": []
   },
   "outputs": [
    {
     "data": {
      "text/plain": [
       "(2100, 8)"
      ]
     },
     "execution_count": 41,
     "metadata": {},
     "output_type": "execute_result"
    }
   ],
   "source": [
    "results.shape"
   ]
  },
  {
   "cell_type": "code",
   "execution_count": 42,
   "id": "broke-collect",
   "metadata": {
    "execution": {
     "iopub.execute_input": "2021-07-16T23:37:00.166370Z",
     "iopub.status.busy": "2021-07-16T23:37:00.166006Z",
     "iopub.status.idle": "2021-07-16T23:37:00.198937Z",
     "shell.execute_reply": "2021-07-16T23:37:00.198599Z"
    },
    "papermill": {
     "duration": 0.729133,
     "end_time": "2021-07-16T23:37:00.199023",
     "exception": false,
     "start_time": "2021-07-16T23:36:59.469890",
     "status": "completed"
    },
    "tags": []
   },
   "outputs": [
    {
     "data": {
      "text/html": [
       "<div>\n",
       "<style scoped>\n",
       "    .dataframe tbody tr th:only-of-type {\n",
       "        vertical-align: middle;\n",
       "    }\n",
       "\n",
       "    .dataframe tbody tr th {\n",
       "        vertical-align: top;\n",
       "    }\n",
       "\n",
       "    .dataframe thead th {\n",
       "        text-align: right;\n",
       "    }\n",
       "</style>\n",
       "<table border=\"1\" class=\"dataframe\">\n",
       "  <thead>\n",
       "    <tr style=\"text-align: right;\">\n",
       "      <th></th>\n",
       "      <th>phenotype</th>\n",
       "      <th>lv</th>\n",
       "      <th>lv_set</th>\n",
       "      <th>lv_with_pathway</th>\n",
       "      <th>coef</th>\n",
       "      <th>pvalue</th>\n",
       "      <th>pvalue_twosided</th>\n",
       "      <th>summary</th>\n",
       "    </tr>\n",
       "  </thead>\n",
       "  <tbody>\n",
       "    <tr>\n",
       "      <th>0</th>\n",
       "      <td>241</td>\n",
       "      <td>LV246</td>\n",
       "      <td>lipids-increasing</td>\n",
       "      <td>True</td>\n",
       "      <td>0.004652</td>\n",
       "      <td>0.355387</td>\n",
       "      <td>0.710773</td>\n",
       "      <td>GLS Regression Res...</td>\n",
       "    </tr>\n",
       "    <tr>\n",
       "      <th>1</th>\n",
       "      <td>241</td>\n",
       "      <td>LV302</td>\n",
       "      <td>lipids-decreasing</td>\n",
       "      <td>False</td>\n",
       "      <td>0.002508</td>\n",
       "      <td>0.417611</td>\n",
       "      <td>0.835222</td>\n",
       "      <td>GLS Regression Res...</td>\n",
       "    </tr>\n",
       "    <tr>\n",
       "      <th>2</th>\n",
       "      <td>241</td>\n",
       "      <td>LV512</td>\n",
       "      <td>lipids-decreasing</td>\n",
       "      <td>False</td>\n",
       "      <td>-0.014417</td>\n",
       "      <td>0.876977</td>\n",
       "      <td>0.246046</td>\n",
       "      <td>GLS Regression Res...</td>\n",
       "    </tr>\n",
       "    <tr>\n",
       "      <th>3</th>\n",
       "      <td>241</td>\n",
       "      <td>LV865</td>\n",
       "      <td>lipids-increasing</td>\n",
       "      <td>True</td>\n",
       "      <td>0.011181</td>\n",
       "      <td>0.184413</td>\n",
       "      <td>0.368827</td>\n",
       "      <td>GLS Regression Res...</td>\n",
       "    </tr>\n",
       "    <tr>\n",
       "      <th>4</th>\n",
       "      <td>241</td>\n",
       "      <td>LV890</td>\n",
       "      <td>lipids-increasing</td>\n",
       "      <td>False</td>\n",
       "      <td>0.026705</td>\n",
       "      <td>0.016937</td>\n",
       "      <td>0.033874</td>\n",
       "      <td>GLS Regression Res...</td>\n",
       "    </tr>\n",
       "  </tbody>\n",
       "</table>\n",
       "</div>"
      ],
      "text/plain": [
       "  phenotype     lv             lv_set  lv_with_pathway      coef    pvalue  \\\n",
       "0       241  LV246  lipids-increasing             True  0.004652  0.355387   \n",
       "1       241  LV302  lipids-decreasing            False  0.002508  0.417611   \n",
       "2       241  LV512  lipids-decreasing            False -0.014417  0.876977   \n",
       "3       241  LV865  lipids-increasing             True  0.011181  0.184413   \n",
       "4       241  LV890  lipids-increasing            False  0.026705  0.016937   \n",
       "\n",
       "   pvalue_twosided                                            summary  \n",
       "0         0.710773                              GLS Regression Res...  \n",
       "1         0.835222                              GLS Regression Res...  \n",
       "2         0.246046                              GLS Regression Res...  \n",
       "3         0.368827                              GLS Regression Res...  \n",
       "4         0.033874                              GLS Regression Res...  "
      ]
     },
     "execution_count": 42,
     "metadata": {},
     "output_type": "execute_result"
    }
   ],
   "source": [
    "results.head()"
   ]
  },
  {
   "cell_type": "code",
   "execution_count": 43,
   "id": "vanilla-kinase",
   "metadata": {
    "execution": {
     "iopub.execute_input": "2021-07-16T23:37:01.642599Z",
     "iopub.status.busy": "2021-07-16T23:37:01.642231Z",
     "iopub.status.idle": "2021-07-16T23:37:01.692113Z",
     "shell.execute_reply": "2021-07-16T23:37:01.692472Z"
    },
    "papermill": {
     "duration": 0.748334,
     "end_time": "2021-07-16T23:37:01.692599",
     "exception": false,
     "start_time": "2021-07-16T23:37:00.944265",
     "status": "completed"
    },
    "tags": []
   },
   "outputs": [
    {
     "data": {
      "text/html": [
       "<div>\n",
       "<style scoped>\n",
       "    .dataframe tbody tr th:only-of-type {\n",
       "        vertical-align: middle;\n",
       "    }\n",
       "\n",
       "    .dataframe tbody tr th {\n",
       "        vertical-align: top;\n",
       "    }\n",
       "\n",
       "    .dataframe thead th {\n",
       "        text-align: right;\n",
       "    }\n",
       "</style>\n",
       "<table border=\"1\" class=\"dataframe\">\n",
       "  <thead>\n",
       "    <tr style=\"text-align: right;\">\n",
       "      <th></th>\n",
       "      <th>phenotype</th>\n",
       "      <th>lv</th>\n",
       "      <th>lv_set</th>\n",
       "      <th>lv_with_pathway</th>\n",
       "      <th>coef</th>\n",
       "      <th>pvalue</th>\n",
       "      <th>pvalue_twosided</th>\n",
       "      <th>summary</th>\n",
       "    </tr>\n",
       "  </thead>\n",
       "  <tbody>\n",
       "    <tr>\n",
       "      <th>579</th>\n",
       "      <td>276.41</td>\n",
       "      <td>LV246</td>\n",
       "      <td>lipids-increasing</td>\n",
       "      <td>True</td>\n",
       "      <td>0.054395</td>\n",
       "      <td>0.000008</td>\n",
       "      <td>0.000016</td>\n",
       "      <td>GLS Regression Res...</td>\n",
       "    </tr>\n",
       "    <tr>\n",
       "      <th>567</th>\n",
       "      <td>276.4</td>\n",
       "      <td>LV246</td>\n",
       "      <td>lipids-increasing</td>\n",
       "      <td>True</td>\n",
       "      <td>0.053259</td>\n",
       "      <td>0.000012</td>\n",
       "      <td>0.000024</td>\n",
       "      <td>GLS Regression Res...</td>\n",
       "    </tr>\n",
       "    <tr>\n",
       "      <th>1543</th>\n",
       "      <td>427.21</td>\n",
       "      <td>LV512</td>\n",
       "      <td>lipids-decreasing</td>\n",
       "      <td>False</td>\n",
       "      <td>0.051893</td>\n",
       "      <td>0.000012</td>\n",
       "      <td>0.000025</td>\n",
       "      <td>GLS Regression Res...</td>\n",
       "    </tr>\n",
       "    <tr>\n",
       "      <th>1528</th>\n",
       "      <td>427.2</td>\n",
       "      <td>LV512</td>\n",
       "      <td>lipids-decreasing</td>\n",
       "      <td>False</td>\n",
       "      <td>0.050576</td>\n",
       "      <td>0.000019</td>\n",
       "      <td>0.000038</td>\n",
       "      <td>GLS Regression Res...</td>\n",
       "    </tr>\n",
       "    <tr>\n",
       "      <th>1588</th>\n",
       "      <td>427.5</td>\n",
       "      <td>LV512</td>\n",
       "      <td>lipids-decreasing</td>\n",
       "      <td>False</td>\n",
       "      <td>0.050703</td>\n",
       "      <td>0.000023</td>\n",
       "      <td>0.000047</td>\n",
       "      <td>GLS Regression Res...</td>\n",
       "    </tr>\n",
       "    <tr>\n",
       "      <th>656</th>\n",
       "      <td>278.1</td>\n",
       "      <td>LV702</td>\n",
       "      <td>lipids-increasing</td>\n",
       "      <td>False</td>\n",
       "      <td>0.046992</td>\n",
       "      <td>0.000107</td>\n",
       "      <td>0.000214</td>\n",
       "      <td>GLS Regression Res...</td>\n",
       "    </tr>\n",
       "    <tr>\n",
       "      <th>1728</th>\n",
       "      <td>429.1</td>\n",
       "      <td>LV838</td>\n",
       "      <td>lipids-decreasing</td>\n",
       "      <td>True</td>\n",
       "      <td>0.045425</td>\n",
       "      <td>0.000112</td>\n",
       "      <td>0.000223</td>\n",
       "      <td>GLS Regression Res...</td>\n",
       "    </tr>\n",
       "    <tr>\n",
       "      <th>1640</th>\n",
       "      <td>428</td>\n",
       "      <td>LV865</td>\n",
       "      <td>lipids-increasing</td>\n",
       "      <td>True</td>\n",
       "      <td>0.045718</td>\n",
       "      <td>0.000120</td>\n",
       "      <td>0.000239</td>\n",
       "      <td>GLS Regression Res...</td>\n",
       "    </tr>\n",
       "    <tr>\n",
       "      <th>1671</th>\n",
       "      <td>428.2</td>\n",
       "      <td>LV512</td>\n",
       "      <td>lipids-decreasing</td>\n",
       "      <td>False</td>\n",
       "      <td>0.044195</td>\n",
       "      <td>0.000195</td>\n",
       "      <td>0.000389</td>\n",
       "      <td>GLS Regression Res...</td>\n",
       "    </tr>\n",
       "    <tr>\n",
       "      <th>30</th>\n",
       "      <td>241.2</td>\n",
       "      <td>LV959</td>\n",
       "      <td>lipids-decreasing</td>\n",
       "      <td>False</td>\n",
       "      <td>0.043105</td>\n",
       "      <td>0.000315</td>\n",
       "      <td>0.000631</td>\n",
       "      <td>GLS Regression Res...</td>\n",
       "    </tr>\n",
       "  </tbody>\n",
       "</table>\n",
       "</div>"
      ],
      "text/plain": [
       "     phenotype     lv             lv_set  lv_with_pathway      coef    pvalue  \\\n",
       "579     276.41  LV246  lipids-increasing             True  0.054395  0.000008   \n",
       "567      276.4  LV246  lipids-increasing             True  0.053259  0.000012   \n",
       "1543    427.21  LV512  lipids-decreasing            False  0.051893  0.000012   \n",
       "1528     427.2  LV512  lipids-decreasing            False  0.050576  0.000019   \n",
       "1588     427.5  LV512  lipids-decreasing            False  0.050703  0.000023   \n",
       "656      278.1  LV702  lipids-increasing            False  0.046992  0.000107   \n",
       "1728     429.1  LV838  lipids-decreasing             True  0.045425  0.000112   \n",
       "1640       428  LV865  lipids-increasing             True  0.045718  0.000120   \n",
       "1671     428.2  LV512  lipids-decreasing            False  0.044195  0.000195   \n",
       "30       241.2  LV959  lipids-decreasing            False  0.043105  0.000315   \n",
       "\n",
       "      pvalue_twosided                                            summary  \n",
       "579          0.000016                              GLS Regression Res...  \n",
       "567          0.000024                              GLS Regression Res...  \n",
       "1543         0.000025                              GLS Regression Res...  \n",
       "1528         0.000038                              GLS Regression Res...  \n",
       "1588         0.000047                              GLS Regression Res...  \n",
       "656          0.000214                              GLS Regression Res...  \n",
       "1728         0.000223                              GLS Regression Res...  \n",
       "1640         0.000239                              GLS Regression Res...  \n",
       "1671         0.000389                              GLS Regression Res...  \n",
       "30           0.000631                              GLS Regression Res...  "
      ]
     },
     "execution_count": 43,
     "metadata": {},
     "output_type": "execute_result"
    }
   ],
   "source": [
    "results.sort_values(\"pvalue\").head(10)"
   ]
  },
  {
   "cell_type": "markdown",
   "id": "broad-member",
   "metadata": {
    "papermill": {
     "duration": 0.687932,
     "end_time": "2021-07-16T23:37:03.072254",
     "exception": false,
     "start_time": "2021-07-16T23:37:02.384322",
     "status": "completed"
    },
    "tags": []
   },
   "source": [
    "## Save"
   ]
  },
  {
   "cell_type": "code",
   "execution_count": 44,
   "id": "impressed-access",
   "metadata": {
    "execution": {
     "iopub.execute_input": "2021-07-16T23:37:04.452197Z",
     "iopub.status.busy": "2021-07-16T23:37:04.451834Z",
     "iopub.status.idle": "2021-07-16T23:37:04.974084Z",
     "shell.execute_reply": "2021-07-16T23:37:04.972537Z"
    },
    "papermill": {
     "duration": 1.210377,
     "end_time": "2021-07-16T23:37:04.974410",
     "exception": false,
     "start_time": "2021-07-16T23:37:03.764033",
     "status": "completed"
    },
    "tags": []
   },
   "outputs": [],
   "source": [
    "results.to_pickle(OUTPUT_FILENAME)"
   ]
  },
  {
   "cell_type": "code",
   "execution_count": null,
   "id": "architectural-recipient",
   "metadata": {
    "papermill": {
     "duration": 0.692087,
     "end_time": "2021-07-16T23:37:06.380655",
     "exception": false,
     "start_time": "2021-07-16T23:37:05.688568",
     "status": "completed"
    },
    "tags": []
   },
   "outputs": [],
   "source": []
  }
 ],
 "metadata": {
  "jupytext": {
   "cell_metadata_filter": "all,-execution,-papermill,-trusted",
   "formats": "ipynb,py//py:percent"
  },
  "kernelspec": {
   "display_name": "Python 3",
   "language": "python",
   "name": "python3"
  },
  "language_info": {
   "codemirror_mode": {
    "name": "ipython",
    "version": 3
   },
   "file_extension": ".py",
   "mimetype": "text/x-python",
   "name": "python",
   "nbconvert_exporter": "python",
   "pygments_lexer": "ipython3",
   "version": "3.8.8"
  },
  "papermill": {
   "default_parameters": {},
   "duration": 19609.982369,
   "end_time": "2021-07-16T23:37:08.709705",
   "environment_variables": {},
   "exception": null,
   "input_path": "08_gsa_gls/45-gls_on_lipids_lvs-emerge.ipynb",
   "output_path": "08_gsa_gls/45-gls_on_lipids_lvs-emerge.run.ipynb",
   "parameters": {},
   "start_time": "2021-07-16T18:10:18.727336",
   "version": "2.2.2"
  }
 },
 "nbformat": 4,
 "nbformat_minor": 5
}
