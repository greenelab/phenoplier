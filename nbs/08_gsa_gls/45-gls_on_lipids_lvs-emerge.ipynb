{
 "cells": [
  {
   "cell_type": "markdown",
   "id": "posted-reception",
   "metadata": {
    "papermill": {
     "duration": 0.022374,
     "end_time": "2021-03-10T00:10:54.143712",
     "exception": false,
     "start_time": "2021-03-10T00:10:54.121338",
     "status": "completed"
    },
    "tags": []
   },
   "source": [
    "# Environment variables"
   ]
  },
  {
   "cell_type": "code",
   "execution_count": null,
   "id": "yellow-mineral",
   "metadata": {
    "tags": []
   },
   "outputs": [],
   "source": [
    "%load_ext autoreload\n",
    "%autoreload 2"
   ]
  },
  {
   "cell_type": "code",
   "execution_count": null,
   "id": "bizarre-arcade",
   "metadata": {
    "tags": []
   },
   "outputs": [],
   "source": [
    "import conf"
   ]
  },
  {
   "cell_type": "code",
   "execution_count": null,
   "id": "chicken-reception",
   "metadata": {
    "papermill": {
     "duration": 0.038647,
     "end_time": "2021-03-10T00:10:54.205009",
     "exception": false,
     "start_time": "2021-03-10T00:10:54.166362",
     "status": "completed"
    },
    "tags": []
   },
   "outputs": [],
   "source": [
    "N_JOBS = conf.GENERAL[\"N_JOBS\"]\n",
    "display(N_JOBS)"
   ]
  },
  {
   "cell_type": "code",
   "execution_count": null,
   "id": "hydraulic-excess",
   "metadata": {
    "papermill": {
     "duration": 0.029926,
     "end_time": "2021-03-10T00:10:54.259533",
     "exception": false,
     "start_time": "2021-03-10T00:10:54.229607",
     "status": "completed"
    },
    "tags": []
   },
   "outputs": [],
   "source": [
    "%env MKL_NUM_THREADS=$N_JOBS\n",
    "%env OPEN_BLAS_NUM_THREADS=$N_JOBS\n",
    "%env NUMEXPR_NUM_THREADS=$N_JOBS\n",
    "%env OMP_NUM_THREADS=$N_JOBS"
   ]
  },
  {
   "cell_type": "markdown",
   "id": "third-shark",
   "metadata": {
    "tags": []
   },
   "source": [
    "# Modules"
   ]
  },
  {
   "cell_type": "code",
   "execution_count": null,
   "id": "three-kelly",
   "metadata": {
    "tags": []
   },
   "outputs": [],
   "source": [
    "from pathlib import Path\n",
    "\n",
    "import pandas as pd\n",
    "from tqdm import tqdm\n",
    "\n",
    "from gls import GLSPhenoplier"
   ]
  },
  {
   "cell_type": "markdown",
   "id": "independent-croatia",
   "metadata": {
    "tags": []
   },
   "source": [
    "# Settings"
   ]
  },
  {
   "cell_type": "code",
   "execution_count": null,
   "id": "mineral-short",
   "metadata": {
    "tags": []
   },
   "outputs": [],
   "source": [
    "OUTPUT_DIR = conf.RESULTS[\"GLS\"]\n",
    "display(OUTPUT_DIR)\n",
    "\n",
    "OUTPUT_DIR.mkdir(exist_ok=True, parents=True)"
   ]
  },
  {
   "cell_type": "markdown",
   "id": "broad-shame",
   "metadata": {
    "tags": []
   },
   "source": [
    "# Load data"
   ]
  },
  {
   "cell_type": "markdown",
   "id": "musical-strength",
   "metadata": {
    "tags": []
   },
   "source": [
    "## PhenomeXcan (S-MultiXcan)"
   ]
  },
  {
   "cell_type": "code",
   "execution_count": null,
   "id": "ambient-somalia",
   "metadata": {
    "tags": []
   },
   "outputs": [],
   "source": [
    "# INPUT_SUBSET = \"z_score_std\""
   ]
  },
  {
   "cell_type": "code",
   "execution_count": null,
   "id": "detected-theta",
   "metadata": {
    "tags": []
   },
   "outputs": [],
   "source": [
    "# INPUT_STEM = \"projection-smultixcan-efo_partial-mashr-zscores\""
   ]
  },
  {
   "cell_type": "code",
   "execution_count": null,
   "id": "vanilla-albuquerque",
   "metadata": {
    "tags": []
   },
   "outputs": [],
   "source": [
    "# input_filepath = Path(\n",
    "#     conf.RESULTS[\"DATA_TRANSFORMATIONS_DIR\"],\n",
    "#     INPUT_SUBSET,\n",
    "#     f\"{INPUT_SUBSET}-{INPUT_STEM}.pkl\",\n",
    "# ).resolve()"
   ]
  },
  {
   "cell_type": "code",
   "execution_count": null,
   "id": "exterior-freeware",
   "metadata": {
    "tags": []
   },
   "outputs": [],
   "source": [
    "# data = pd.read_pickle(input_filepath)"
   ]
  },
  {
   "cell_type": "code",
   "execution_count": null,
   "id": "marked-reference",
   "metadata": {
    "tags": []
   },
   "outputs": [],
   "source": [
    "# data.shape"
   ]
  },
  {
   "cell_type": "code",
   "execution_count": null,
   "id": "italian-arrival",
   "metadata": {
    "tags": []
   },
   "outputs": [],
   "source": [
    "# data.head()"
   ]
  },
  {
   "cell_type": "markdown",
   "id": "acquired-harvest",
   "metadata": {
    "tags": []
   },
   "source": [
    "## MultiPLIER summary"
   ]
  },
  {
   "cell_type": "code",
   "execution_count": null,
   "id": "faced-cancellation",
   "metadata": {
    "tags": []
   },
   "outputs": [],
   "source": [
    "multiplier_model_summary = pd.read_pickle(conf.MULTIPLIER[\"MODEL_SUMMARY_FILE\"])"
   ]
  },
  {
   "cell_type": "code",
   "execution_count": null,
   "id": "arbitrary-treat",
   "metadata": {
    "tags": []
   },
   "outputs": [],
   "source": [
    "multiplier_model_summary.shape"
   ]
  },
  {
   "cell_type": "code",
   "execution_count": null,
   "id": "developed-daughter",
   "metadata": {
    "tags": []
   },
   "outputs": [],
   "source": [
    "multiplier_model_summary.head()"
   ]
  },
  {
   "cell_type": "code",
   "execution_count": null,
   "id": "silver-popularity",
   "metadata": {
    "tags": []
   },
   "outputs": [],
   "source": [
    "well_aligned_lvs = multiplier_model_summary[\n",
    "    (multiplier_model_summary[\"FDR\"] < 0.05) | (multiplier_model_summary[\"AUC\"] >= 0.75)\n",
    "]\n",
    "\n",
    "display(well_aligned_lvs.shape)\n",
    "display(well_aligned_lvs.head())"
   ]
  },
  {
   "cell_type": "code",
   "execution_count": null,
   "id": "killing-terminal",
   "metadata": {
    "tags": []
   },
   "outputs": [],
   "source": [
    "well_aligned_lv_codes = set([f\"LV{lvi}\" for lvi in well_aligned_lvs[\"LV index\"]])"
   ]
  },
  {
   "cell_type": "code",
   "execution_count": null,
   "id": "viral-contract",
   "metadata": {
    "tags": []
   },
   "outputs": [],
   "source": [
    "len(well_aligned_lv_codes)"
   ]
  },
  {
   "cell_type": "code",
   "execution_count": null,
   "id": "outstanding-shipping",
   "metadata": {
    "tags": []
   },
   "outputs": [],
   "source": [
    "list(well_aligned_lv_codes)[:5]"
   ]
  },
  {
   "cell_type": "markdown",
   "id": "noted-celtic",
   "metadata": {
    "papermill": {
     "duration": 0.0224,
     "end_time": "2021-05-15T23:04:25.464376",
     "exception": false,
     "start_time": "2021-05-15T23:04:25.441976",
     "status": "completed"
    },
    "tags": []
   },
   "source": [
    "## eMERGE traits info"
   ]
  },
  {
   "cell_type": "code",
   "execution_count": null,
   "id": "prescribed-interstate",
   "metadata": {
    "papermill": {
     "duration": 0.03666,
     "end_time": "2021-05-15T23:04:25.523677",
     "exception": false,
     "start_time": "2021-05-15T23:04:25.487017",
     "status": "completed"
    },
    "tags": []
   },
   "outputs": [],
   "source": [
    "# FIXME: hardcoded\n",
    "input_filepath = Path(\n",
    "    \"/home/miltondp/projects/labs/greenelab/phenoplier/base/data/emerge\",\n",
    "    \"eMERGE_III_PMBB_GSA_v2_2020_phecode_AFR_EUR_cc50_counts_w_dictionary.txt\",\n",
    ").resolve()\n",
    "display(input_filepath)"
   ]
  },
  {
   "cell_type": "code",
   "execution_count": null,
   "id": "christian-mitchell",
   "metadata": {
    "papermill": {
     "duration": 0.037592,
     "end_time": "2021-05-15T23:04:25.585054",
     "exception": false,
     "start_time": "2021-05-15T23:04:25.547462",
     "status": "completed"
    },
    "tags": []
   },
   "outputs": [],
   "source": [
    "emerge_traits_df = pd.read_csv(\n",
    "    input_filepath,\n",
    "    sep=\"\\t\",\n",
    "    dtype={\"phecode\": str},\n",
    "    usecols=[\"phecode\", \"phenotype\", \"category\"],\n",
    ")"
   ]
  },
  {
   "cell_type": "code",
   "execution_count": null,
   "id": "federal-limit",
   "metadata": {
    "papermill": {
     "duration": 0.036179,
     "end_time": "2021-05-15T23:04:25.644390",
     "exception": false,
     "start_time": "2021-05-15T23:04:25.608211",
     "status": "completed"
    },
    "tags": []
   },
   "outputs": [],
   "source": [
    "emerge_traits_df = emerge_traits_df.rename(\n",
    "    columns={\n",
    "        \"phenotype\": \"phecode_phenotype\",\n",
    "        \"category\": \"phecode_category\",\n",
    "    }\n",
    ")"
   ]
  },
  {
   "cell_type": "code",
   "execution_count": null,
   "id": "vietnamese-return",
   "metadata": {
    "papermill": {
     "duration": 0.036038,
     "end_time": "2021-05-15T23:04:25.703795",
     "exception": false,
     "start_time": "2021-05-15T23:04:25.667757",
     "status": "completed"
    },
    "tags": []
   },
   "outputs": [],
   "source": [
    "emerge_traits_df.shape"
   ]
  },
  {
   "cell_type": "code",
   "execution_count": null,
   "id": "confident-maximum",
   "metadata": {
    "papermill": {
     "duration": 0.043493,
     "end_time": "2021-05-15T23:04:25.774738",
     "exception": false,
     "start_time": "2021-05-15T23:04:25.731245",
     "status": "completed"
    },
    "tags": []
   },
   "outputs": [],
   "source": [
    "emerge_traits_df.head()"
   ]
  },
  {
   "cell_type": "markdown",
   "id": "constitutional-reverse",
   "metadata": {
    "papermill": {
     "duration": 0.024874,
     "end_time": "2021-05-15T23:04:26.511645",
     "exception": false,
     "start_time": "2021-05-15T23:04:26.486771",
     "status": "completed"
    },
    "tags": []
   },
   "source": [
    "## eMERGE (S-MultiXcan)"
   ]
  },
  {
   "cell_type": "code",
   "execution_count": null,
   "id": "continental-calculation",
   "metadata": {
    "papermill": {
     "duration": 0.039259,
     "end_time": "2021-05-15T23:04:26.576798",
     "exception": false,
     "start_time": "2021-05-15T23:04:26.537539",
     "status": "completed"
    },
    "tags": []
   },
   "outputs": [],
   "source": [
    "# FIXME: path hardcoded\n",
    "emerge_smultixcan_zscores_filepath = Path(\n",
    "    \"/home/miltondp/projects/labs/greenelab/phenoplier/base/data/emerge/gene_assoc/emerge-smultixcan-mashr-zscores.pkl\"\n",
    ").resolve()\n",
    "\n",
    "display(emerge_smultixcan_zscores_filepath)"
   ]
  },
  {
   "cell_type": "code",
   "execution_count": null,
   "id": "blind-clinic",
   "metadata": {
    "papermill": {
     "duration": 0.064092,
     "end_time": "2021-05-15T23:04:26.666450",
     "exception": false,
     "start_time": "2021-05-15T23:04:26.602358",
     "status": "completed"
    },
    "tags": []
   },
   "outputs": [],
   "source": [
    "_tmp = pd.read_pickle(emerge_smultixcan_zscores_filepath)"
   ]
  },
  {
   "cell_type": "code",
   "execution_count": null,
   "id": "innovative-publisher",
   "metadata": {
    "papermill": {
     "duration": 0.043273,
     "end_time": "2021-05-15T23:04:26.740676",
     "exception": false,
     "start_time": "2021-05-15T23:04:26.697403",
     "status": "completed"
    },
    "tags": []
   },
   "outputs": [],
   "source": [
    "_tmp.shape"
   ]
  },
  {
   "cell_type": "code",
   "execution_count": null,
   "id": "treated-rubber",
   "metadata": {
    "papermill": {
     "duration": 0.051066,
     "end_time": "2021-05-15T23:04:26.820257",
     "exception": false,
     "start_time": "2021-05-15T23:04:26.769191",
     "status": "completed"
    },
    "tags": []
   },
   "outputs": [],
   "source": [
    "_tmp.head()"
   ]
  },
  {
   "cell_type": "markdown",
   "id": "forty-sewing",
   "metadata": {
    "papermill": {
     "duration": 0.026125,
     "end_time": "2021-05-15T23:04:26.873450",
     "exception": false,
     "start_time": "2021-05-15T23:04:26.847325",
     "status": "completed"
    },
    "tags": []
   },
   "source": [
    "## GLS results on PhenomeXcan"
   ]
  },
  {
   "cell_type": "code",
   "execution_count": null,
   "id": "aggressive-plane",
   "metadata": {
    "papermill": {
     "duration": 0.039608,
     "end_time": "2021-05-15T23:04:26.939154",
     "exception": false,
     "start_time": "2021-05-15T23:04:26.899546",
     "status": "completed"
    },
    "tags": []
   },
   "outputs": [],
   "source": [
    "input_filepath = conf.RESULTS[\"GLS\"] / \"gls_phenotypes-crispr_lvs.pkl\"\n",
    "display(input_filepath)"
   ]
  },
  {
   "cell_type": "code",
   "execution_count": null,
   "id": "ancient-trigger",
   "metadata": {
    "papermill": {
     "duration": 1.183227,
     "end_time": "2021-05-15T23:04:28.149269",
     "exception": false,
     "start_time": "2021-05-15T23:04:26.966042",
     "status": "completed"
    },
    "tags": []
   },
   "outputs": [],
   "source": [
    "gls_phenomexcan_crispr = pd.read_pickle(input_filepath)"
   ]
  },
  {
   "cell_type": "code",
   "execution_count": null,
   "id": "dental-personal",
   "metadata": {
    "papermill": {
     "duration": 0.041796,
     "end_time": "2021-05-15T23:04:28.225903",
     "exception": false,
     "start_time": "2021-05-15T23:04:28.184107",
     "status": "completed"
    },
    "tags": []
   },
   "outputs": [],
   "source": [
    "gls_phenomexcan_crispr.shape"
   ]
  },
  {
   "cell_type": "code",
   "execution_count": null,
   "id": "chubby-patio",
   "metadata": {
    "papermill": {
     "duration": 0.058869,
     "end_time": "2021-05-15T23:04:28.311700",
     "exception": false,
     "start_time": "2021-05-15T23:04:28.252831",
     "status": "completed"
    },
    "tags": []
   },
   "outputs": [],
   "source": [
    "gls_phenomexcan_crispr.head()"
   ]
  },
  {
   "cell_type": "markdown",
   "id": "wired-owner",
   "metadata": {
    "papermill": {
     "duration": 0.026125,
     "end_time": "2021-05-15T23:04:26.873450",
     "exception": false,
     "start_time": "2021-05-15T23:04:26.847325",
     "status": "completed"
    },
    "tags": []
   },
   "source": [
    "## GLS results on eMERGE"
   ]
  },
  {
   "cell_type": "code",
   "execution_count": null,
   "id": "underlying-landing",
   "metadata": {
    "papermill": {
     "duration": 0.039608,
     "end_time": "2021-05-15T23:04:26.939154",
     "exception": false,
     "start_time": "2021-05-15T23:04:26.899546",
     "status": "completed"
    },
    "tags": []
   },
   "outputs": [],
   "source": [
    "# input_filepath = conf.RESULTS[\"GLS\"] / \"gls_phenotypes-emerge.pkl\"\n",
    "# display(input_filepath)"
   ]
  },
  {
   "cell_type": "code",
   "execution_count": null,
   "id": "plain-junior",
   "metadata": {
    "papermill": {
     "duration": 1.183227,
     "end_time": "2021-05-15T23:04:28.149269",
     "exception": false,
     "start_time": "2021-05-15T23:04:26.966042",
     "status": "completed"
    },
    "tags": []
   },
   "outputs": [],
   "source": [
    "# gls_emerge = pd.read_pickle(input_filepath)"
   ]
  },
  {
   "cell_type": "code",
   "execution_count": null,
   "id": "utility-championship",
   "metadata": {
    "papermill": {
     "duration": 0.041796,
     "end_time": "2021-05-15T23:04:28.225903",
     "exception": false,
     "start_time": "2021-05-15T23:04:28.184107",
     "status": "completed"
    },
    "tags": []
   },
   "outputs": [],
   "source": [
    "# gls_emerge.shape"
   ]
  },
  {
   "cell_type": "code",
   "execution_count": null,
   "id": "inside-cursor",
   "metadata": {
    "papermill": {
     "duration": 0.058869,
     "end_time": "2021-05-15T23:04:28.311700",
     "exception": false,
     "start_time": "2021-05-15T23:04:28.252831",
     "status": "completed"
    },
    "tags": []
   },
   "outputs": [],
   "source": [
    "# gls_emerge.head()"
   ]
  },
  {
   "cell_type": "markdown",
   "id": "according-sitting",
   "metadata": {
    "papermill": {
     "duration": 0.029008,
     "end_time": "2021-05-15T23:04:28.961476",
     "exception": false,
     "start_time": "2021-05-15T23:04:28.932468",
     "status": "completed"
    },
    "tags": []
   },
   "source": [
    "# Select LV from previous GLS run on PhenomeXcan"
   ]
  },
  {
   "cell_type": "code",
   "execution_count": null,
   "id": "cathedral-digit",
   "metadata": {
    "papermill": {
     "duration": 0.044785,
     "end_time": "2021-05-15T23:04:29.035681",
     "exception": false,
     "start_time": "2021-05-15T23:04:28.990896",
     "status": "completed"
    },
    "tags": []
   },
   "outputs": [],
   "source": [
    "gls_phenomexcan_lvs = (\n",
    "    gls_phenomexcan_crispr[[\"lv\", \"lv_set\"]].drop_duplicates().reset_index(drop=True)\n",
    ")"
   ]
  },
  {
   "cell_type": "code",
   "execution_count": null,
   "id": "weekly-cream",
   "metadata": {
    "papermill": {
     "duration": 0.042676,
     "end_time": "2021-05-15T23:04:29.116204",
     "exception": false,
     "start_time": "2021-05-15T23:04:29.073528",
     "status": "completed"
    },
    "tags": []
   },
   "outputs": [],
   "source": [
    "gls_phenomexcan_lvs.shape"
   ]
  },
  {
   "cell_type": "code",
   "execution_count": null,
   "id": "gross-trash",
   "metadata": {
    "papermill": {
     "duration": 0.043104,
     "end_time": "2021-05-15T23:04:29.189354",
     "exception": false,
     "start_time": "2021-05-15T23:04:29.146250",
     "status": "completed"
    },
    "tags": []
   },
   "outputs": [],
   "source": [
    "gls_phenomexcan_lvs.head()"
   ]
  },
  {
   "cell_type": "markdown",
   "id": "conditional-passport",
   "metadata": {
    "tags": []
   },
   "source": [
    "# Select traits from previous GLS run on eMERGE"
   ]
  },
  {
   "cell_type": "code",
   "execution_count": null,
   "id": "concerned-beach",
   "metadata": {},
   "outputs": [],
   "source": [
    "emerge_traits_df[\"phecode_category\"].unique()"
   ]
  },
  {
   "cell_type": "code",
   "execution_count": null,
   "id": "written-devices",
   "metadata": {},
   "outputs": [],
   "source": [
    "gls_traits = emerge_traits_df[\n",
    "    emerge_traits_df[\"phecode_category\"].isin(\n",
    "        [\n",
    "            #     \"hematopoietic\",\n",
    "            \"circulatory system\",\n",
    "            \"endocrine/metabolic\",\n",
    "        ]\n",
    "    )\n",
    "][\"phecode\"].unique()"
   ]
  },
  {
   "cell_type": "code",
   "execution_count": null,
   "id": "french-bread",
   "metadata": {},
   "outputs": [],
   "source": [
    "gls_traits.shape"
   ]
  },
  {
   "cell_type": "code",
   "execution_count": null,
   "id": "involved-seeker",
   "metadata": {},
   "outputs": [],
   "source": [
    "gls_traits"
   ]
  },
  {
   "cell_type": "markdown",
   "id": "looking-fireplace",
   "metadata": {
    "tags": []
   },
   "source": [
    "# GLSPhenoplier"
   ]
  },
  {
   "cell_type": "markdown",
   "id": "enabling-dealing",
   "metadata": {
    "papermill": {
     "duration": 0.030073,
     "end_time": "2021-05-15T23:04:29.903473",
     "exception": false,
     "start_time": "2021-05-15T23:04:29.873400",
     "status": "completed"
    },
    "tags": []
   },
   "source": [
    "## Get list of phenotypes/lvs pairs"
   ]
  },
  {
   "cell_type": "code",
   "execution_count": null,
   "id": "civil-smile",
   "metadata": {
    "papermill": {
     "duration": 0.455922,
     "end_time": "2021-05-15T23:04:30.390243",
     "exception": false,
     "start_time": "2021-05-15T23:04:29.934321",
     "status": "completed"
    },
    "tags": []
   },
   "outputs": [],
   "source": [
    "phenotypes_lvs_pairs = []\n",
    "\n",
    "for idx, lv_row in gls_phenomexcan_lvs.iterrows():\n",
    "    for phenotype_code in gls_traits:\n",
    "        phenotypes_lvs_pairs.append(\n",
    "            {\n",
    "                \"phenotype\": phenotype_code,\n",
    "                \"lv\": lv_row[\"lv\"],\n",
    "                \"lv_set\": lv_row[\"lv_set\"],\n",
    "            }\n",
    "        )\n",
    "\n",
    "phenotypes_lvs_pairs = pd.DataFrame(phenotypes_lvs_pairs).drop_duplicates()"
   ]
  },
  {
   "cell_type": "code",
   "execution_count": null,
   "id": "ahead-novelty",
   "metadata": {
    "papermill": {
     "duration": 0.046872,
     "end_time": "2021-05-15T23:04:30.469027",
     "exception": false,
     "start_time": "2021-05-15T23:04:30.422155",
     "status": "completed"
    },
    "tags": []
   },
   "outputs": [],
   "source": [
    "phenotypes_lvs_pairs = phenotypes_lvs_pairs.sort_values(\"phenotype\").reset_index(\n",
    "    drop=True\n",
    ")"
   ]
  },
  {
   "cell_type": "code",
   "execution_count": null,
   "id": "ranging-somerset",
   "metadata": {
    "papermill": {
     "duration": 0.04423,
     "end_time": "2021-05-15T23:04:30.544312",
     "exception": false,
     "start_time": "2021-05-15T23:04:30.500082",
     "status": "completed"
    },
    "tags": []
   },
   "outputs": [],
   "source": [
    "phenotypes_lvs_pairs.shape"
   ]
  },
  {
   "cell_type": "code",
   "execution_count": null,
   "id": "moderate-constitutional",
   "metadata": {
    "papermill": {
     "duration": 0.046519,
     "end_time": "2021-05-15T23:04:30.621944",
     "exception": false,
     "start_time": "2021-05-15T23:04:30.575425",
     "status": "completed"
    },
    "tags": []
   },
   "outputs": [],
   "source": [
    "phenotypes_lvs_pairs.head()"
   ]
  },
  {
   "cell_type": "markdown",
   "id": "noble-rapid",
   "metadata": {
    "tags": []
   },
   "source": [
    "## Run"
   ]
  },
  {
   "cell_type": "code",
   "execution_count": null,
   "id": "valid-machine",
   "metadata": {
    "tags": []
   },
   "outputs": [],
   "source": [
    "output_file = OUTPUT_DIR / \"gls_phenotypes-emerge-crispr_lvs.pkl\"\n",
    "display(output_file)"
   ]
  },
  {
   "cell_type": "code",
   "execution_count": null,
   "id": "informative-invention",
   "metadata": {},
   "outputs": [],
   "source": [
    "results = []\n",
    "\n",
    "pbar = tqdm(total=phenotypes_lvs_pairs.shape[0])\n",
    "\n",
    "for idx, row in phenotypes_lvs_pairs.iterrows():\n",
    "    phenotype_code = row[\"phenotype\"]\n",
    "    lv_code = row[\"lv\"]\n",
    "\n",
    "    pbar.set_description(f\"{phenotype_code} - {lv_code}\")\n",
    "\n",
    "    gls_model = GLSPhenoplier(\n",
    "        smultixcan_result_set_filepath=emerge_smultixcan_zscores_filepath\n",
    "    )\n",
    "    gls_model.fit_named(lv_code, phenotype_code)\n",
    "    res = gls_model.results\n",
    "\n",
    "    results.append(\n",
    "        {\n",
    "            \"phenotype\": phenotype_code,\n",
    "            \"lv\": lv_code,\n",
    "            \"lv_set\": row[\"lv_set\"],\n",
    "            \"lv_with_pathway\": lv_code in well_aligned_lv_codes,\n",
    "            \"coef\": res.params.loc[\"lv\"],\n",
    "            \"pvalue\": res.pvalues.loc[\"lv\"],\n",
    "            \"summary\": gls_model.results_summary,\n",
    "        }\n",
    "    )\n",
    "\n",
    "    if (idx % 10) == 0:\n",
    "        pd.DataFrame(results).to_pickle(output_file)\n",
    "\n",
    "    pbar.update(1)\n",
    "\n",
    "pbar.close()"
   ]
  },
  {
   "cell_type": "code",
   "execution_count": null,
   "id": "driven-movement",
   "metadata": {
    "tags": []
   },
   "outputs": [],
   "source": [
    "results = pd.DataFrame(results)"
   ]
  },
  {
   "cell_type": "code",
   "execution_count": null,
   "id": "suffering-jimmy",
   "metadata": {
    "tags": []
   },
   "outputs": [],
   "source": [
    "results.shape"
   ]
  },
  {
   "cell_type": "code",
   "execution_count": null,
   "id": "sufficient-maple",
   "metadata": {
    "tags": []
   },
   "outputs": [],
   "source": [
    "results.head()"
   ]
  },
  {
   "cell_type": "code",
   "execution_count": null,
   "id": "cognitive-macro",
   "metadata": {
    "tags": []
   },
   "outputs": [],
   "source": [
    "results.sort_values(\"pvalue\").head(10)"
   ]
  },
  {
   "cell_type": "markdown",
   "id": "moved-greenhouse",
   "metadata": {
    "tags": []
   },
   "source": [
    "## Save"
   ]
  },
  {
   "cell_type": "code",
   "execution_count": null,
   "id": "acquired-population",
   "metadata": {
    "tags": []
   },
   "outputs": [],
   "source": [
    "results.to_pickle(output_file)"
   ]
  },
  {
   "cell_type": "code",
   "execution_count": null,
   "id": "indian-morocco",
   "metadata": {
    "tags": []
   },
   "outputs": [],
   "source": []
  }
 ],
 "metadata": {
  "jupytext": {
   "cell_metadata_filter": "all,-execution,-papermill,-trusted",
   "formats": "ipynb,py//py:percent"
  },
  "kernelspec": {
   "display_name": "Python 3",
   "language": "python",
   "name": "python3"
  },
  "language_info": {
   "codemirror_mode": {
    "name": "ipython",
    "version": 3
   },
   "file_extension": ".py",
   "mimetype": "text/x-python",
   "name": "python",
   "nbconvert_exporter": "python",
   "pygments_lexer": "ipython3",
   "version": "3.8.8"
  }
 },
 "nbformat": 4,
 "nbformat_minor": 5
}
