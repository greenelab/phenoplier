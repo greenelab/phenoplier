{
 "cells": [
  {
   "cell_type": "markdown",
   "id": "headed-cleaners",
   "metadata": {
    "papermill": {
     "duration": 0.058079,
     "end_time": "2021-07-17T15:36:57.272584",
     "exception": false,
     "start_time": "2021-07-17T15:36:57.214505",
     "status": "completed"
    },
    "tags": []
   },
   "source": [
    "# Description"
   ]
  },
  {
   "cell_type": "markdown",
   "id": "intense-remainder",
   "metadata": {
    "papermill": {
     "duration": 0.019935,
     "end_time": "2021-07-17T15:36:57.313664",
     "exception": false,
     "start_time": "2021-07-17T15:36:57.293729",
     "status": "completed"
    },
    "tags": []
   },
   "source": [
    "This notebook is similar to `40` (using LVs that we found to be significantly enriched for the lipids CRISPR analysis), but traits here are from eMERGE."
   ]
  },
  {
   "cell_type": "markdown",
   "id": "nearby-formation",
   "metadata": {
    "papermill": {
     "duration": 0.019947,
     "end_time": "2021-07-17T15:36:57.353512",
     "exception": false,
     "start_time": "2021-07-17T15:36:57.333565",
     "status": "completed"
    },
    "tags": []
   },
   "source": [
    "# Environment variables"
   ]
  },
  {
   "cell_type": "code",
   "execution_count": 1,
   "id": "developing-nepal",
   "metadata": {
    "execution": {
     "iopub.execute_input": "2021-07-17T15:36:57.399783Z",
     "iopub.status.busy": "2021-07-17T15:36:57.399354Z",
     "iopub.status.idle": "2021-07-17T15:36:57.407161Z",
     "shell.execute_reply": "2021-07-17T15:36:57.406730Z"
    },
    "papermill": {
     "duration": 0.033645,
     "end_time": "2021-07-17T15:36:57.407257",
     "exception": false,
     "start_time": "2021-07-17T15:36:57.373612",
     "status": "completed"
    },
    "tags": []
   },
   "outputs": [],
   "source": [
    "%load_ext autoreload\n",
    "%autoreload 2"
   ]
  },
  {
   "cell_type": "code",
   "execution_count": 2,
   "id": "auburn-bennett",
   "metadata": {
    "execution": {
     "iopub.execute_input": "2021-07-17T15:36:57.451825Z",
     "iopub.status.busy": "2021-07-17T15:36:57.451454Z",
     "iopub.status.idle": "2021-07-17T15:36:57.461363Z",
     "shell.execute_reply": "2021-07-17T15:36:57.460971Z"
    },
    "papermill": {
     "duration": 0.033239,
     "end_time": "2021-07-17T15:36:57.461451",
     "exception": false,
     "start_time": "2021-07-17T15:36:57.428212",
     "status": "completed"
    },
    "tags": []
   },
   "outputs": [],
   "source": [
    "import conf"
   ]
  },
  {
   "cell_type": "code",
   "execution_count": 3,
   "id": "impossible-movement",
   "metadata": {
    "execution": {
     "iopub.execute_input": "2021-07-17T15:36:57.506616Z",
     "iopub.status.busy": "2021-07-17T15:36:57.506255Z",
     "iopub.status.idle": "2021-07-17T15:36:57.516757Z",
     "shell.execute_reply": "2021-07-17T15:36:57.516351Z"
    },
    "papermill": {
     "duration": 0.034057,
     "end_time": "2021-07-17T15:36:57.516842",
     "exception": false,
     "start_time": "2021-07-17T15:36:57.482785",
     "status": "completed"
    },
    "tags": []
   },
   "outputs": [
    {
     "data": {
      "text/plain": [
       "3"
      ]
     },
     "metadata": {},
     "output_type": "display_data"
    }
   ],
   "source": [
    "N_JOBS = conf.GENERAL[\"N_JOBS\"]\n",
    "display(N_JOBS)"
   ]
  },
  {
   "cell_type": "code",
   "execution_count": 4,
   "id": "neural-american",
   "metadata": {
    "execution": {
     "iopub.execute_input": "2021-07-17T15:36:57.563242Z",
     "iopub.status.busy": "2021-07-17T15:36:57.562886Z",
     "iopub.status.idle": "2021-07-17T15:36:57.569160Z",
     "shell.execute_reply": "2021-07-17T15:36:57.569448Z"
    },
    "papermill": {
     "duration": 0.031167,
     "end_time": "2021-07-17T15:36:57.569551",
     "exception": false,
     "start_time": "2021-07-17T15:36:57.538384",
     "status": "completed"
    },
    "tags": []
   },
   "outputs": [
    {
     "name": "stdout",
     "output_type": "stream",
     "text": [
      "env: MKL_NUM_THREADS=3\n",
      "env: OPEN_BLAS_NUM_THREADS=3\n",
      "env: NUMEXPR_NUM_THREADS=3\n",
      "env: OMP_NUM_THREADS=3\n"
     ]
    }
   ],
   "source": [
    "%env MKL_NUM_THREADS=$N_JOBS\n",
    "%env OPEN_BLAS_NUM_THREADS=$N_JOBS\n",
    "%env NUMEXPR_NUM_THREADS=$N_JOBS\n",
    "%env OMP_NUM_THREADS=$N_JOBS"
   ]
  },
  {
   "cell_type": "markdown",
   "id": "falling-police",
   "metadata": {
    "papermill": {
     "duration": 0.020982,
     "end_time": "2021-07-17T15:36:57.611993",
     "exception": false,
     "start_time": "2021-07-17T15:36:57.591011",
     "status": "completed"
    },
    "tags": []
   },
   "source": [
    "# Modules"
   ]
  },
  {
   "cell_type": "code",
   "execution_count": 5,
   "id": "future-america",
   "metadata": {
    "execution": {
     "iopub.execute_input": "2021-07-17T15:36:57.657075Z",
     "iopub.status.busy": "2021-07-17T15:36:57.656653Z",
     "iopub.status.idle": "2021-07-17T15:36:58.410086Z",
     "shell.execute_reply": "2021-07-17T15:36:58.410407Z"
    },
    "papermill": {
     "duration": 0.777729,
     "end_time": "2021-07-17T15:36:58.410531",
     "exception": false,
     "start_time": "2021-07-17T15:36:57.632802",
     "status": "completed"
    },
    "tags": []
   },
   "outputs": [],
   "source": [
    "from pathlib import Path\n",
    "\n",
    "import pandas as pd\n",
    "from tqdm import tqdm\n",
    "\n",
    "from gls import GLSPhenoplier"
   ]
  },
  {
   "cell_type": "markdown",
   "id": "processed-smooth",
   "metadata": {
    "papermill": {
     "duration": 0.022309,
     "end_time": "2021-07-17T15:36:58.455897",
     "exception": false,
     "start_time": "2021-07-17T15:36:58.433588",
     "status": "completed"
    },
    "tags": []
   },
   "source": [
    "# Settings"
   ]
  },
  {
   "cell_type": "code",
   "execution_count": 6,
   "id": "municipal-principle",
   "metadata": {
    "execution": {
     "iopub.execute_input": "2021-07-17T15:36:58.500872Z",
     "iopub.status.busy": "2021-07-17T15:36:58.500457Z",
     "iopub.status.idle": "2021-07-17T15:36:58.511163Z",
     "shell.execute_reply": "2021-07-17T15:36:58.510785Z"
    },
    "papermill": {
     "duration": 0.033965,
     "end_time": "2021-07-17T15:36:58.511250",
     "exception": false,
     "start_time": "2021-07-17T15:36:58.477285",
     "status": "completed"
    },
    "tags": []
   },
   "outputs": [],
   "source": [
    "N_TOP_TRAITS_FROM_LV = 20"
   ]
  },
  {
   "cell_type": "code",
   "execution_count": 7,
   "id": "established-somewhere",
   "metadata": {
    "execution": {
     "iopub.execute_input": "2021-07-17T15:36:58.557867Z",
     "iopub.status.busy": "2021-07-17T15:36:58.557495Z",
     "iopub.status.idle": "2021-07-17T15:36:58.569430Z",
     "shell.execute_reply": "2021-07-17T15:36:58.569108Z"
    },
    "papermill": {
     "duration": 0.035901,
     "end_time": "2021-07-17T15:36:58.569516",
     "exception": false,
     "start_time": "2021-07-17T15:36:58.533615",
     "status": "completed"
    },
    "tags": []
   },
   "outputs": [
    {
     "data": {
      "text/plain": [
       "PosixPath('/home/miltondp/projects/labs/greenelab/phenoplier/base/results/gls')"
      ]
     },
     "metadata": {},
     "output_type": "display_data"
    }
   ],
   "source": [
    "OUTPUT_DIR = conf.RESULTS[\"GLS\"]\n",
    "display(OUTPUT_DIR)\n",
    "\n",
    "OUTPUT_DIR.mkdir(exist_ok=True, parents=True)"
   ]
  },
  {
   "cell_type": "code",
   "execution_count": 8,
   "id": "realistic-string",
   "metadata": {
    "execution": {
     "iopub.execute_input": "2021-07-17T15:36:58.615524Z",
     "iopub.status.busy": "2021-07-17T15:36:58.615160Z",
     "iopub.status.idle": "2021-07-17T15:36:58.626776Z",
     "shell.execute_reply": "2021-07-17T15:36:58.626457Z"
    },
    "papermill": {
     "duration": 0.035568,
     "end_time": "2021-07-17T15:36:58.626860",
     "exception": false,
     "start_time": "2021-07-17T15:36:58.591292",
     "status": "completed"
    },
    "tags": []
   },
   "outputs": [
    {
     "data": {
      "text/plain": [
       "PosixPath('/home/miltondp/projects/labs/greenelab/phenoplier/base/results/gls/gls_phenotypes-crispr_lvs-emerge.pkl')"
      ]
     },
     "metadata": {},
     "output_type": "display_data"
    }
   ],
   "source": [
    "OUTPUT_FILENAME = OUTPUT_DIR / \"gls_phenotypes-crispr_lvs-emerge.pkl\"\n",
    "display(OUTPUT_FILENAME)"
   ]
  },
  {
   "cell_type": "markdown",
   "id": "minimal-equipment",
   "metadata": {
    "papermill": {
     "duration": 0.022846,
     "end_time": "2021-07-17T15:36:58.672226",
     "exception": false,
     "start_time": "2021-07-17T15:36:58.649380",
     "status": "completed"
    },
    "tags": []
   },
   "source": [
    "# Load data"
   ]
  },
  {
   "cell_type": "markdown",
   "id": "played-repeat",
   "metadata": {
    "papermill": {
     "duration": 0.020926,
     "end_time": "2021-07-17T15:36:58.714764",
     "exception": false,
     "start_time": "2021-07-17T15:36:58.693838",
     "status": "completed"
    },
    "tags": []
   },
   "source": [
    "## MultiPLIER summary"
   ]
  },
  {
   "cell_type": "code",
   "execution_count": 9,
   "id": "durable-playing",
   "metadata": {
    "execution": {
     "iopub.execute_input": "2021-07-17T15:36:58.760144Z",
     "iopub.status.busy": "2021-07-17T15:36:58.759784Z",
     "iopub.status.idle": "2021-07-17T15:36:58.772018Z",
     "shell.execute_reply": "2021-07-17T15:36:58.771637Z"
    },
    "papermill": {
     "duration": 0.036043,
     "end_time": "2021-07-17T15:36:58.772106",
     "exception": false,
     "start_time": "2021-07-17T15:36:58.736063",
     "status": "completed"
    },
    "tags": []
   },
   "outputs": [],
   "source": [
    "multiplier_model_summary = pd.read_pickle(conf.MULTIPLIER[\"MODEL_SUMMARY_FILE\"])"
   ]
  },
  {
   "cell_type": "code",
   "execution_count": 10,
   "id": "addressed-beverage",
   "metadata": {
    "execution": {
     "iopub.execute_input": "2021-07-17T15:36:58.818312Z",
     "iopub.status.busy": "2021-07-17T15:36:58.817942Z",
     "iopub.status.idle": "2021-07-17T15:36:58.829925Z",
     "shell.execute_reply": "2021-07-17T15:36:58.829560Z"
    },
    "papermill": {
     "duration": 0.035811,
     "end_time": "2021-07-17T15:36:58.830008",
     "exception": false,
     "start_time": "2021-07-17T15:36:58.794197",
     "status": "completed"
    },
    "tags": []
   },
   "outputs": [
    {
     "data": {
      "text/plain": [
       "(2157, 5)"
      ]
     },
     "execution_count": 10,
     "metadata": {},
     "output_type": "execute_result"
    }
   ],
   "source": [
    "multiplier_model_summary.shape"
   ]
  },
  {
   "cell_type": "code",
   "execution_count": 11,
   "id": "processed-huntington",
   "metadata": {
    "execution": {
     "iopub.execute_input": "2021-07-17T15:36:58.876648Z",
     "iopub.status.busy": "2021-07-17T15:36:58.876268Z",
     "iopub.status.idle": "2021-07-17T15:36:58.892956Z",
     "shell.execute_reply": "2021-07-17T15:36:58.892594Z"
    },
    "papermill": {
     "duration": 0.040834,
     "end_time": "2021-07-17T15:36:58.893047",
     "exception": false,
     "start_time": "2021-07-17T15:36:58.852213",
     "status": "completed"
    },
    "tags": []
   },
   "outputs": [
    {
     "data": {
      "text/html": [
       "<div>\n",
       "<style scoped>\n",
       "    .dataframe tbody tr th:only-of-type {\n",
       "        vertical-align: middle;\n",
       "    }\n",
       "\n",
       "    .dataframe tbody tr th {\n",
       "        vertical-align: top;\n",
       "    }\n",
       "\n",
       "    .dataframe thead th {\n",
       "        text-align: right;\n",
       "    }\n",
       "</style>\n",
       "<table border=\"1\" class=\"dataframe\">\n",
       "  <thead>\n",
       "    <tr style=\"text-align: right;\">\n",
       "      <th></th>\n",
       "      <th>pathway</th>\n",
       "      <th>LV index</th>\n",
       "      <th>AUC</th>\n",
       "      <th>p-value</th>\n",
       "      <th>FDR</th>\n",
       "    </tr>\n",
       "  </thead>\n",
       "  <tbody>\n",
       "    <tr>\n",
       "      <th>1</th>\n",
       "      <td>KEGG_LYSINE_DEGRADATION</td>\n",
       "      <td>1</td>\n",
       "      <td>0.388059</td>\n",
       "      <td>0.866078</td>\n",
       "      <td>0.956005</td>\n",
       "    </tr>\n",
       "    <tr>\n",
       "      <th>2</th>\n",
       "      <td>REACTOME_MRNA_SPLICING</td>\n",
       "      <td>1</td>\n",
       "      <td>0.733057</td>\n",
       "      <td>0.000048</td>\n",
       "      <td>0.000582</td>\n",
       "    </tr>\n",
       "    <tr>\n",
       "      <th>3</th>\n",
       "      <td>MIPS_NOP56P_ASSOCIATED_PRE_RRNA_COMPLEX</td>\n",
       "      <td>1</td>\n",
       "      <td>0.680555</td>\n",
       "      <td>0.001628</td>\n",
       "      <td>0.011366</td>\n",
       "    </tr>\n",
       "    <tr>\n",
       "      <th>4</th>\n",
       "      <td>KEGG_DNA_REPLICATION</td>\n",
       "      <td>1</td>\n",
       "      <td>0.549473</td>\n",
       "      <td>0.312155</td>\n",
       "      <td>0.539951</td>\n",
       "    </tr>\n",
       "    <tr>\n",
       "      <th>5</th>\n",
       "      <td>PID_MYC_ACTIVPATHWAY</td>\n",
       "      <td>1</td>\n",
       "      <td>0.639303</td>\n",
       "      <td>0.021702</td>\n",
       "      <td>0.083739</td>\n",
       "    </tr>\n",
       "  </tbody>\n",
       "</table>\n",
       "</div>"
      ],
      "text/plain": [
       "                                   pathway LV index       AUC   p-value  \\\n",
       "1                  KEGG_LYSINE_DEGRADATION        1  0.388059  0.866078   \n",
       "2                   REACTOME_MRNA_SPLICING        1  0.733057  0.000048   \n",
       "3  MIPS_NOP56P_ASSOCIATED_PRE_RRNA_COMPLEX        1  0.680555  0.001628   \n",
       "4                     KEGG_DNA_REPLICATION        1  0.549473  0.312155   \n",
       "5                     PID_MYC_ACTIVPATHWAY        1  0.639303  0.021702   \n",
       "\n",
       "        FDR  \n",
       "1  0.956005  \n",
       "2  0.000582  \n",
       "3  0.011366  \n",
       "4  0.539951  \n",
       "5  0.083739  "
      ]
     },
     "execution_count": 11,
     "metadata": {},
     "output_type": "execute_result"
    }
   ],
   "source": [
    "multiplier_model_summary.head()"
   ]
  },
  {
   "cell_type": "code",
   "execution_count": 12,
   "id": "ranking-jackson",
   "metadata": {
    "execution": {
     "iopub.execute_input": "2021-07-17T15:36:58.941535Z",
     "iopub.status.busy": "2021-07-17T15:36:58.941175Z",
     "iopub.status.idle": "2021-07-17T15:36:58.961286Z",
     "shell.execute_reply": "2021-07-17T15:36:58.960897Z"
    },
    "papermill": {
     "duration": 0.04502,
     "end_time": "2021-07-17T15:36:58.961376",
     "exception": false,
     "start_time": "2021-07-17T15:36:58.916356",
     "status": "completed"
    },
    "tags": []
   },
   "outputs": [
    {
     "data": {
      "text/plain": [
       "(469, 5)"
      ]
     },
     "metadata": {},
     "output_type": "display_data"
    },
    {
     "data": {
      "text/html": [
       "<div>\n",
       "<style scoped>\n",
       "    .dataframe tbody tr th:only-of-type {\n",
       "        vertical-align: middle;\n",
       "    }\n",
       "\n",
       "    .dataframe tbody tr th {\n",
       "        vertical-align: top;\n",
       "    }\n",
       "\n",
       "    .dataframe thead th {\n",
       "        text-align: right;\n",
       "    }\n",
       "</style>\n",
       "<table border=\"1\" class=\"dataframe\">\n",
       "  <thead>\n",
       "    <tr style=\"text-align: right;\">\n",
       "      <th></th>\n",
       "      <th>pathway</th>\n",
       "      <th>LV index</th>\n",
       "      <th>AUC</th>\n",
       "      <th>p-value</th>\n",
       "      <th>FDR</th>\n",
       "    </tr>\n",
       "  </thead>\n",
       "  <tbody>\n",
       "    <tr>\n",
       "      <th>2</th>\n",
       "      <td>REACTOME_MRNA_SPLICING</td>\n",
       "      <td>1</td>\n",
       "      <td>0.733057</td>\n",
       "      <td>4.772691e-05</td>\n",
       "      <td>5.816211e-04</td>\n",
       "    </tr>\n",
       "    <tr>\n",
       "      <th>3</th>\n",
       "      <td>MIPS_NOP56P_ASSOCIATED_PRE_RRNA_COMPLEX</td>\n",
       "      <td>1</td>\n",
       "      <td>0.680555</td>\n",
       "      <td>1.628217e-03</td>\n",
       "      <td>1.136590e-02</td>\n",
       "    </tr>\n",
       "    <tr>\n",
       "      <th>8</th>\n",
       "      <td>REACTOME_MITOTIC_G1_G1_S_PHASES</td>\n",
       "      <td>1</td>\n",
       "      <td>0.686170</td>\n",
       "      <td>2.517619e-04</td>\n",
       "      <td>2.392292e-03</td>\n",
       "    </tr>\n",
       "    <tr>\n",
       "      <th>9</th>\n",
       "      <td>IRIS_Monocyte-Day0</td>\n",
       "      <td>2</td>\n",
       "      <td>0.890036</td>\n",
       "      <td>4.315812e-25</td>\n",
       "      <td>1.329887e-22</td>\n",
       "    </tr>\n",
       "    <tr>\n",
       "      <th>10</th>\n",
       "      <td>DMAP_MONO2</td>\n",
       "      <td>2</td>\n",
       "      <td>0.904676</td>\n",
       "      <td>1.313970e-16</td>\n",
       "      <td>1.574574e-14</td>\n",
       "    </tr>\n",
       "  </tbody>\n",
       "</table>\n",
       "</div>"
      ],
      "text/plain": [
       "                                    pathway LV index       AUC       p-value  \\\n",
       "2                    REACTOME_MRNA_SPLICING        1  0.733057  4.772691e-05   \n",
       "3   MIPS_NOP56P_ASSOCIATED_PRE_RRNA_COMPLEX        1  0.680555  1.628217e-03   \n",
       "8           REACTOME_MITOTIC_G1_G1_S_PHASES        1  0.686170  2.517619e-04   \n",
       "9                        IRIS_Monocyte-Day0        2  0.890036  4.315812e-25   \n",
       "10                               DMAP_MONO2        2  0.904676  1.313970e-16   \n",
       "\n",
       "             FDR  \n",
       "2   5.816211e-04  \n",
       "3   1.136590e-02  \n",
       "8   2.392292e-03  \n",
       "9   1.329887e-22  \n",
       "10  1.574574e-14  "
      ]
     },
     "metadata": {},
     "output_type": "display_data"
    }
   ],
   "source": [
    "well_aligned_lvs = multiplier_model_summary[\n",
    "    (multiplier_model_summary[\"FDR\"] < 0.05) | (multiplier_model_summary[\"AUC\"] >= 0.75)\n",
    "]\n",
    "\n",
    "display(well_aligned_lvs.shape)\n",
    "display(well_aligned_lvs.head())"
   ]
  },
  {
   "cell_type": "code",
   "execution_count": 13,
   "id": "incomplete-hello",
   "metadata": {
    "execution": {
     "iopub.execute_input": "2021-07-17T15:36:59.010527Z",
     "iopub.status.busy": "2021-07-17T15:36:59.010144Z",
     "iopub.status.idle": "2021-07-17T15:36:59.021275Z",
     "shell.execute_reply": "2021-07-17T15:36:59.020944Z"
    },
    "papermill": {
     "duration": 0.036331,
     "end_time": "2021-07-17T15:36:59.021362",
     "exception": false,
     "start_time": "2021-07-17T15:36:58.985031",
     "status": "completed"
    },
    "tags": []
   },
   "outputs": [],
   "source": [
    "well_aligned_lv_codes = set([f\"LV{lvi}\" for lvi in well_aligned_lvs[\"LV index\"]])"
   ]
  },
  {
   "cell_type": "code",
   "execution_count": 14,
   "id": "ignored-visitor",
   "metadata": {
    "execution": {
     "iopub.execute_input": "2021-07-17T15:36:59.069647Z",
     "iopub.status.busy": "2021-07-17T15:36:59.069280Z",
     "iopub.status.idle": "2021-07-17T15:36:59.081184Z",
     "shell.execute_reply": "2021-07-17T15:36:59.080817Z"
    },
    "papermill": {
     "duration": 0.03697,
     "end_time": "2021-07-17T15:36:59.081268",
     "exception": false,
     "start_time": "2021-07-17T15:36:59.044298",
     "status": "completed"
    },
    "tags": []
   },
   "outputs": [
    {
     "data": {
      "text/plain": [
       "200"
      ]
     },
     "execution_count": 14,
     "metadata": {},
     "output_type": "execute_result"
    }
   ],
   "source": [
    "len(well_aligned_lv_codes)"
   ]
  },
  {
   "cell_type": "code",
   "execution_count": 15,
   "id": "synthetic-frost",
   "metadata": {
    "execution": {
     "iopub.execute_input": "2021-07-17T15:36:59.130345Z",
     "iopub.status.busy": "2021-07-17T15:36:59.129975Z",
     "iopub.status.idle": "2021-07-17T15:36:59.141502Z",
     "shell.execute_reply": "2021-07-17T15:36:59.141797Z"
    },
    "papermill": {
     "duration": 0.037023,
     "end_time": "2021-07-17T15:36:59.141900",
     "exception": false,
     "start_time": "2021-07-17T15:36:59.104877",
     "status": "completed"
    },
    "tags": []
   },
   "outputs": [
    {
     "data": {
      "text/plain": [
       "['LV42', 'LV707', 'LV34', 'LV898', 'LV735']"
      ]
     },
     "execution_count": 15,
     "metadata": {},
     "output_type": "execute_result"
    }
   ],
   "source": [
    "list(well_aligned_lv_codes)[:5]"
   ]
  },
  {
   "cell_type": "markdown",
   "id": "clear-individual",
   "metadata": {
    "papermill": {
     "duration": 0.023109,
     "end_time": "2021-07-17T15:36:59.188536",
     "exception": false,
     "start_time": "2021-07-17T15:36:59.165427",
     "status": "completed"
    },
    "tags": []
   },
   "source": [
    "## eMERGE traits info"
   ]
  },
  {
   "cell_type": "code",
   "execution_count": 16,
   "id": "earlier-mountain",
   "metadata": {
    "execution": {
     "iopub.execute_input": "2021-07-17T15:36:59.237173Z",
     "iopub.status.busy": "2021-07-17T15:36:59.236801Z",
     "iopub.status.idle": "2021-07-17T15:36:59.248605Z",
     "shell.execute_reply": "2021-07-17T15:36:59.248227Z"
    },
    "papermill": {
     "duration": 0.03705,
     "end_time": "2021-07-17T15:36:59.248700",
     "exception": false,
     "start_time": "2021-07-17T15:36:59.211650",
     "status": "completed"
    },
    "tags": []
   },
   "outputs": [
    {
     "data": {
      "text/plain": [
       "PosixPath('/home/miltondp/projects/labs/greenelab/phenoplier/base/data/emerge/eMERGE_III_PMBB_GSA_v2_2020_phecode_AFR_EUR_cc50_counts_w_dictionary.txt')"
      ]
     },
     "metadata": {},
     "output_type": "display_data"
    }
   ],
   "source": [
    "# FIXME: in the future, there will be a specific entry in config for the eMERGE directory that should be replaced here\n",
    "input_filepath = Path(\n",
    "    conf.DATA_DIR,\n",
    "    \"emerge\",\n",
    "    \"eMERGE_III_PMBB_GSA_v2_2020_phecode_AFR_EUR_cc50_counts_w_dictionary.txt\",\n",
    ").resolve()\n",
    "display(input_filepath)"
   ]
  },
  {
   "cell_type": "code",
   "execution_count": 17,
   "id": "polyphonic-lambda",
   "metadata": {
    "execution": {
     "iopub.execute_input": "2021-07-17T15:36:59.299072Z",
     "iopub.status.busy": "2021-07-17T15:36:59.298710Z",
     "iopub.status.idle": "2021-07-17T15:36:59.311608Z",
     "shell.execute_reply": "2021-07-17T15:36:59.311233Z"
    },
    "papermill": {
     "duration": 0.039293,
     "end_time": "2021-07-17T15:36:59.311694",
     "exception": false,
     "start_time": "2021-07-17T15:36:59.272401",
     "status": "completed"
    },
    "tags": []
   },
   "outputs": [],
   "source": [
    "emerge_traits_df = pd.read_csv(\n",
    "    input_filepath,\n",
    "    sep=\"\\t\",\n",
    "    dtype={\"phecode\": str},\n",
    "    usecols=[\"phecode\", \"phenotype\", \"category\"],\n",
    ")"
   ]
  },
  {
   "cell_type": "code",
   "execution_count": 18,
   "id": "living-surveillance",
   "metadata": {
    "execution": {
     "iopub.execute_input": "2021-07-17T15:36:59.363039Z",
     "iopub.status.busy": "2021-07-17T15:36:59.362679Z",
     "iopub.status.idle": "2021-07-17T15:36:59.373872Z",
     "shell.execute_reply": "2021-07-17T15:36:59.373504Z"
    },
    "papermill": {
     "duration": 0.037276,
     "end_time": "2021-07-17T15:36:59.373958",
     "exception": false,
     "start_time": "2021-07-17T15:36:59.336682",
     "status": "completed"
    },
    "tags": []
   },
   "outputs": [],
   "source": [
    "emerge_traits_df = emerge_traits_df.rename(\n",
    "    columns={\n",
    "        \"phenotype\": \"phecode_phenotype\",\n",
    "        \"category\": \"phecode_category\",\n",
    "    }\n",
    ")"
   ]
  },
  {
   "cell_type": "code",
   "execution_count": 19,
   "id": "delayed-boxing",
   "metadata": {
    "execution": {
     "iopub.execute_input": "2021-07-17T15:36:59.424322Z",
     "iopub.status.busy": "2021-07-17T15:36:59.423964Z",
     "iopub.status.idle": "2021-07-17T15:36:59.435487Z",
     "shell.execute_reply": "2021-07-17T15:36:59.435115Z"
    },
    "papermill": {
     "duration": 0.037672,
     "end_time": "2021-07-17T15:36:59.435573",
     "exception": false,
     "start_time": "2021-07-17T15:36:59.397901",
     "status": "completed"
    },
    "tags": []
   },
   "outputs": [
    {
     "data": {
      "text/plain": [
       "(309, 3)"
      ]
     },
     "execution_count": 19,
     "metadata": {},
     "output_type": "execute_result"
    }
   ],
   "source": [
    "emerge_traits_df.shape"
   ]
  },
  {
   "cell_type": "code",
   "execution_count": 20,
   "id": "extreme-watch",
   "metadata": {
    "execution": {
     "iopub.execute_input": "2021-07-17T15:36:59.487054Z",
     "iopub.status.busy": "2021-07-17T15:36:59.486613Z",
     "iopub.status.idle": "2021-07-17T15:36:59.501497Z",
     "shell.execute_reply": "2021-07-17T15:36:59.501118Z"
    },
    "papermill": {
     "duration": 0.041227,
     "end_time": "2021-07-17T15:36:59.501582",
     "exception": false,
     "start_time": "2021-07-17T15:36:59.460355",
     "status": "completed"
    },
    "tags": []
   },
   "outputs": [
    {
     "data": {
      "text/html": [
       "<div>\n",
       "<style scoped>\n",
       "    .dataframe tbody tr th:only-of-type {\n",
       "        vertical-align: middle;\n",
       "    }\n",
       "\n",
       "    .dataframe tbody tr th {\n",
       "        vertical-align: top;\n",
       "    }\n",
       "\n",
       "    .dataframe thead th {\n",
       "        text-align: right;\n",
       "    }\n",
       "</style>\n",
       "<table border=\"1\" class=\"dataframe\">\n",
       "  <thead>\n",
       "    <tr style=\"text-align: right;\">\n",
       "      <th></th>\n",
       "      <th>phecode</th>\n",
       "      <th>phecode_phenotype</th>\n",
       "      <th>phecode_category</th>\n",
       "    </tr>\n",
       "  </thead>\n",
       "  <tbody>\n",
       "    <tr>\n",
       "      <th>0</th>\n",
       "      <td>008</td>\n",
       "      <td>Intestinal infection</td>\n",
       "      <td>infectious diseases</td>\n",
       "    </tr>\n",
       "    <tr>\n",
       "      <th>1</th>\n",
       "      <td>008.5</td>\n",
       "      <td>Bacterial enteritis</td>\n",
       "      <td>infectious diseases</td>\n",
       "    </tr>\n",
       "    <tr>\n",
       "      <th>2</th>\n",
       "      <td>008.52</td>\n",
       "      <td>Intestinal infection due to C. difficile</td>\n",
       "      <td>infectious diseases</td>\n",
       "    </tr>\n",
       "    <tr>\n",
       "      <th>3</th>\n",
       "      <td>038</td>\n",
       "      <td>Septicemia</td>\n",
       "      <td>infectious diseases</td>\n",
       "    </tr>\n",
       "    <tr>\n",
       "      <th>4</th>\n",
       "      <td>038.3</td>\n",
       "      <td>Bacteremia</td>\n",
       "      <td>infectious diseases</td>\n",
       "    </tr>\n",
       "  </tbody>\n",
       "</table>\n",
       "</div>"
      ],
      "text/plain": [
       "  phecode                         phecode_phenotype     phecode_category\n",
       "0     008                      Intestinal infection  infectious diseases\n",
       "1   008.5                       Bacterial enteritis  infectious diseases\n",
       "2  008.52  Intestinal infection due to C. difficile  infectious diseases\n",
       "3     038                                Septicemia  infectious diseases\n",
       "4   038.3                                Bacteremia  infectious diseases"
      ]
     },
     "execution_count": 20,
     "metadata": {},
     "output_type": "execute_result"
    }
   ],
   "source": [
    "emerge_traits_df.head()"
   ]
  },
  {
   "cell_type": "markdown",
   "id": "loose-armstrong",
   "metadata": {
    "papermill": {
     "duration": 0.024045,
     "end_time": "2021-07-17T15:36:59.550521",
     "exception": false,
     "start_time": "2021-07-17T15:36:59.526476",
     "status": "completed"
    },
    "tags": []
   },
   "source": [
    "## eMERGE (S-MultiXcan)"
   ]
  },
  {
   "cell_type": "code",
   "execution_count": 21,
   "id": "frozen-thermal",
   "metadata": {
    "execution": {
     "iopub.execute_input": "2021-07-17T15:36:59.601460Z",
     "iopub.status.busy": "2021-07-17T15:36:59.601086Z",
     "iopub.status.idle": "2021-07-17T15:36:59.612865Z",
     "shell.execute_reply": "2021-07-17T15:36:59.612442Z"
    },
    "papermill": {
     "duration": 0.038513,
     "end_time": "2021-07-17T15:36:59.612949",
     "exception": false,
     "start_time": "2021-07-17T15:36:59.574436",
     "status": "completed"
    },
    "tags": []
   },
   "outputs": [
    {
     "data": {
      "text/plain": [
       "PosixPath('/home/miltondp/projects/labs/greenelab/phenoplier/base/data/emerge/gene_assoc/emerge-smultixcan-mashr-zscores.pkl')"
      ]
     },
     "metadata": {},
     "output_type": "display_data"
    }
   ],
   "source": [
    "# FIXME: in the future, there will be a specific entry in config for the eMERGE directory that should be replaced here\n",
    "emerge_smultixcan_zscores_filepath = Path(\n",
    "    conf.DATA_DIR,\n",
    "    \"emerge\",\n",
    "    \"gene_assoc\",\n",
    "    \"emerge-smultixcan-mashr-zscores.pkl\",\n",
    ").resolve()\n",
    "\n",
    "display(emerge_smultixcan_zscores_filepath)"
   ]
  },
  {
   "cell_type": "code",
   "execution_count": 22,
   "id": "extraordinary-profession",
   "metadata": {
    "execution": {
     "iopub.execute_input": "2021-07-17T15:36:59.665132Z",
     "iopub.status.busy": "2021-07-17T15:36:59.664755Z",
     "iopub.status.idle": "2021-07-17T15:36:59.702848Z",
     "shell.execute_reply": "2021-07-17T15:36:59.703203Z"
    },
    "papermill": {
     "duration": 0.065671,
     "end_time": "2021-07-17T15:36:59.703338",
     "exception": false,
     "start_time": "2021-07-17T15:36:59.637667",
     "status": "completed"
    },
    "tags": []
   },
   "outputs": [],
   "source": [
    "_tmp = pd.read_pickle(emerge_smultixcan_zscores_filepath)"
   ]
  },
  {
   "cell_type": "code",
   "execution_count": 23,
   "id": "younger-kenya",
   "metadata": {
    "execution": {
     "iopub.execute_input": "2021-07-17T15:36:59.761597Z",
     "iopub.status.busy": "2021-07-17T15:36:59.761243Z",
     "iopub.status.idle": "2021-07-17T15:36:59.772474Z",
     "shell.execute_reply": "2021-07-17T15:36:59.772099Z"
    },
    "papermill": {
     "duration": 0.038253,
     "end_time": "2021-07-17T15:36:59.772559",
     "exception": false,
     "start_time": "2021-07-17T15:36:59.734306",
     "status": "completed"
    },
    "tags": []
   },
   "outputs": [
    {
     "data": {
      "text/plain": [
       "(22198, 309)"
      ]
     },
     "execution_count": 23,
     "metadata": {},
     "output_type": "execute_result"
    }
   ],
   "source": [
    "_tmp.shape"
   ]
  },
  {
   "cell_type": "code",
   "execution_count": 24,
   "id": "certified-reset",
   "metadata": {
    "execution": {
     "iopub.execute_input": "2021-07-17T15:36:59.824973Z",
     "iopub.status.busy": "2021-07-17T15:36:59.824541Z",
     "iopub.status.idle": "2021-07-17T15:36:59.847630Z",
     "shell.execute_reply": "2021-07-17T15:36:59.847255Z"
    },
    "papermill": {
     "duration": 0.050007,
     "end_time": "2021-07-17T15:36:59.847717",
     "exception": false,
     "start_time": "2021-07-17T15:36:59.797710",
     "status": "completed"
    },
    "tags": []
   },
   "outputs": [
    {
     "data": {
      "text/html": [
       "<div>\n",
       "<style scoped>\n",
       "    .dataframe tbody tr th:only-of-type {\n",
       "        vertical-align: middle;\n",
       "    }\n",
       "\n",
       "    .dataframe tbody tr th {\n",
       "        vertical-align: top;\n",
       "    }\n",
       "\n",
       "    .dataframe thead th {\n",
       "        text-align: right;\n",
       "    }\n",
       "</style>\n",
       "<table border=\"1\" class=\"dataframe\">\n",
       "  <thead>\n",
       "    <tr style=\"text-align: right;\">\n",
       "      <th></th>\n",
       "      <th>292.3</th>\n",
       "      <th>079</th>\n",
       "      <th>741</th>\n",
       "      <th>418.1</th>\n",
       "      <th>280</th>\n",
       "      <th>747</th>\n",
       "      <th>591</th>\n",
       "      <th>426.21</th>\n",
       "      <th>244</th>\n",
       "      <th>070.3</th>\n",
       "      <th>...</th>\n",
       "      <th>427</th>\n",
       "      <th>585.4</th>\n",
       "      <th>345</th>\n",
       "      <th>366.2</th>\n",
       "      <th>420.2</th>\n",
       "      <th>195</th>\n",
       "      <th>250.2</th>\n",
       "      <th>250.1</th>\n",
       "      <th>371</th>\n",
       "      <th>562</th>\n",
       "    </tr>\n",
       "    <tr>\n",
       "      <th>gene_name</th>\n",
       "      <th></th>\n",
       "      <th></th>\n",
       "      <th></th>\n",
       "      <th></th>\n",
       "      <th></th>\n",
       "      <th></th>\n",
       "      <th></th>\n",
       "      <th></th>\n",
       "      <th></th>\n",
       "      <th></th>\n",
       "      <th></th>\n",
       "      <th></th>\n",
       "      <th></th>\n",
       "      <th></th>\n",
       "      <th></th>\n",
       "      <th></th>\n",
       "      <th></th>\n",
       "      <th></th>\n",
       "      <th></th>\n",
       "      <th></th>\n",
       "      <th></th>\n",
       "    </tr>\n",
       "  </thead>\n",
       "  <tbody>\n",
       "    <tr>\n",
       "      <th>ENSG00000000419</th>\n",
       "      <td>1.043436</td>\n",
       "      <td>1.134028</td>\n",
       "      <td>1.595979</td>\n",
       "      <td>0.399451</td>\n",
       "      <td>0.725100</td>\n",
       "      <td>1.655468</td>\n",
       "      <td>1.803598</td>\n",
       "      <td>0.125250</td>\n",
       "      <td>1.053218</td>\n",
       "      <td>0.922592</td>\n",
       "      <td>...</td>\n",
       "      <td>0.364789</td>\n",
       "      <td>0.453873</td>\n",
       "      <td>0.759558</td>\n",
       "      <td>1.173671</td>\n",
       "      <td>0.298944</td>\n",
       "      <td>1.029646</td>\n",
       "      <td>0.826238</td>\n",
       "      <td>0.685711</td>\n",
       "      <td>2.069701</td>\n",
       "      <td>1.544766</td>\n",
       "    </tr>\n",
       "    <tr>\n",
       "      <th>ENSG00000000457</th>\n",
       "      <td>1.236752</td>\n",
       "      <td>0.119837</td>\n",
       "      <td>0.224120</td>\n",
       "      <td>0.200610</td>\n",
       "      <td>1.304190</td>\n",
       "      <td>0.541478</td>\n",
       "      <td>0.646474</td>\n",
       "      <td>0.493759</td>\n",
       "      <td>0.189680</td>\n",
       "      <td>1.563273</td>\n",
       "      <td>...</td>\n",
       "      <td>1.519500</td>\n",
       "      <td>0.201290</td>\n",
       "      <td>1.020996</td>\n",
       "      <td>0.592006</td>\n",
       "      <td>0.632661</td>\n",
       "      <td>0.995453</td>\n",
       "      <td>0.069362</td>\n",
       "      <td>0.460979</td>\n",
       "      <td>0.217046</td>\n",
       "      <td>1.350475</td>\n",
       "    </tr>\n",
       "    <tr>\n",
       "      <th>ENSG00000000460</th>\n",
       "      <td>0.497108</td>\n",
       "      <td>0.005690</td>\n",
       "      <td>0.317710</td>\n",
       "      <td>0.184918</td>\n",
       "      <td>1.136574</td>\n",
       "      <td>1.708245</td>\n",
       "      <td>0.288962</td>\n",
       "      <td>1.070026</td>\n",
       "      <td>0.403510</td>\n",
       "      <td>1.106321</td>\n",
       "      <td>...</td>\n",
       "      <td>0.678253</td>\n",
       "      <td>1.166204</td>\n",
       "      <td>1.138126</td>\n",
       "      <td>0.608565</td>\n",
       "      <td>0.449551</td>\n",
       "      <td>0.096689</td>\n",
       "      <td>0.887467</td>\n",
       "      <td>0.143815</td>\n",
       "      <td>0.236647</td>\n",
       "      <td>1.048859</td>\n",
       "    </tr>\n",
       "    <tr>\n",
       "      <th>ENSG00000000938</th>\n",
       "      <td>0.374442</td>\n",
       "      <td>1.099899</td>\n",
       "      <td>1.975795</td>\n",
       "      <td>0.107667</td>\n",
       "      <td>0.903520</td>\n",
       "      <td>0.673819</td>\n",
       "      <td>0.855749</td>\n",
       "      <td>0.499088</td>\n",
       "      <td>0.375406</td>\n",
       "      <td>0.815757</td>\n",
       "      <td>...</td>\n",
       "      <td>1.585687</td>\n",
       "      <td>0.584143</td>\n",
       "      <td>0.751384</td>\n",
       "      <td>2.758230</td>\n",
       "      <td>0.572712</td>\n",
       "      <td>0.141023</td>\n",
       "      <td>1.437022</td>\n",
       "      <td>0.288943</td>\n",
       "      <td>0.665727</td>\n",
       "      <td>1.225229</td>\n",
       "    </tr>\n",
       "    <tr>\n",
       "      <th>ENSG00000000971</th>\n",
       "      <td>1.108762</td>\n",
       "      <td>1.133163</td>\n",
       "      <td>0.227188</td>\n",
       "      <td>0.222948</td>\n",
       "      <td>0.072709</td>\n",
       "      <td>0.256124</td>\n",
       "      <td>0.540911</td>\n",
       "      <td>0.606947</td>\n",
       "      <td>0.229133</td>\n",
       "      <td>1.557433</td>\n",
       "      <td>...</td>\n",
       "      <td>2.349373</td>\n",
       "      <td>1.122458</td>\n",
       "      <td>0.155346</td>\n",
       "      <td>0.990123</td>\n",
       "      <td>0.326914</td>\n",
       "      <td>1.100210</td>\n",
       "      <td>1.099537</td>\n",
       "      <td>2.511358</td>\n",
       "      <td>0.950262</td>\n",
       "      <td>1.467305</td>\n",
       "    </tr>\n",
       "  </tbody>\n",
       "</table>\n",
       "<p>5 rows × 309 columns</p>\n",
       "</div>"
      ],
      "text/plain": [
       "                    292.3       079       741     418.1       280       747  \\\n",
       "gene_name                                                                     \n",
       "ENSG00000000419  1.043436  1.134028  1.595979  0.399451  0.725100  1.655468   \n",
       "ENSG00000000457  1.236752  0.119837  0.224120  0.200610  1.304190  0.541478   \n",
       "ENSG00000000460  0.497108  0.005690  0.317710  0.184918  1.136574  1.708245   \n",
       "ENSG00000000938  0.374442  1.099899  1.975795  0.107667  0.903520  0.673819   \n",
       "ENSG00000000971  1.108762  1.133163  0.227188  0.222948  0.072709  0.256124   \n",
       "\n",
       "                      591    426.21       244     070.3  ...       427  \\\n",
       "gene_name                                                ...             \n",
       "ENSG00000000419  1.803598  0.125250  1.053218  0.922592  ...  0.364789   \n",
       "ENSG00000000457  0.646474  0.493759  0.189680  1.563273  ...  1.519500   \n",
       "ENSG00000000460  0.288962  1.070026  0.403510  1.106321  ...  0.678253   \n",
       "ENSG00000000938  0.855749  0.499088  0.375406  0.815757  ...  1.585687   \n",
       "ENSG00000000971  0.540911  0.606947  0.229133  1.557433  ...  2.349373   \n",
       "\n",
       "                    585.4       345     366.2     420.2       195     250.2  \\\n",
       "gene_name                                                                     \n",
       "ENSG00000000419  0.453873  0.759558  1.173671  0.298944  1.029646  0.826238   \n",
       "ENSG00000000457  0.201290  1.020996  0.592006  0.632661  0.995453  0.069362   \n",
       "ENSG00000000460  1.166204  1.138126  0.608565  0.449551  0.096689  0.887467   \n",
       "ENSG00000000938  0.584143  0.751384  2.758230  0.572712  0.141023  1.437022   \n",
       "ENSG00000000971  1.122458  0.155346  0.990123  0.326914  1.100210  1.099537   \n",
       "\n",
       "                    250.1       371       562  \n",
       "gene_name                                      \n",
       "ENSG00000000419  0.685711  2.069701  1.544766  \n",
       "ENSG00000000457  0.460979  0.217046  1.350475  \n",
       "ENSG00000000460  0.143815  0.236647  1.048859  \n",
       "ENSG00000000938  0.288943  0.665727  1.225229  \n",
       "ENSG00000000971  2.511358  0.950262  1.467305  \n",
       "\n",
       "[5 rows x 309 columns]"
      ]
     },
     "execution_count": 24,
     "metadata": {},
     "output_type": "execute_result"
    }
   ],
   "source": [
    "_tmp.head()"
   ]
  },
  {
   "cell_type": "markdown",
   "id": "commercial-memphis",
   "metadata": {
    "papermill": {
     "duration": 0.025271,
     "end_time": "2021-07-17T15:36:59.903268",
     "exception": false,
     "start_time": "2021-07-17T15:36:59.877997",
     "status": "completed"
    },
    "tags": []
   },
   "source": [
    "## eMERGE (S-MultiXcan) projection"
   ]
  },
  {
   "cell_type": "code",
   "execution_count": 25,
   "id": "artificial-protest",
   "metadata": {
    "execution": {
     "iopub.execute_input": "2021-07-17T15:36:59.955534Z",
     "iopub.status.busy": "2021-07-17T15:36:59.955178Z",
     "iopub.status.idle": "2021-07-17T15:36:59.966930Z",
     "shell.execute_reply": "2021-07-17T15:36:59.966557Z"
    },
    "papermill": {
     "duration": 0.039005,
     "end_time": "2021-07-17T15:36:59.967015",
     "exception": false,
     "start_time": "2021-07-17T15:36:59.928010",
     "status": "completed"
    },
    "tags": []
   },
   "outputs": [
    {
     "data": {
      "text/plain": [
       "PosixPath('/home/miltondp/projects/labs/greenelab/phenoplier/base/results/projections/projection-emerge-smultixcan-mashr-zscores.pkl')"
      ]
     },
     "metadata": {},
     "output_type": "display_data"
    }
   ],
   "source": [
    "input_filepath = Path(\n",
    "    conf.RESULTS[\"PROJECTIONS_DIR\"],\n",
    "    \"projection-emerge-smultixcan-mashr-zscores.pkl\",\n",
    ").resolve()\n",
    "display(input_filepath)"
   ]
  },
  {
   "cell_type": "code",
   "execution_count": 26,
   "id": "defined-photograph",
   "metadata": {
    "execution": {
     "iopub.execute_input": "2021-07-17T15:37:00.022239Z",
     "iopub.status.busy": "2021-07-17T15:37:00.021884Z",
     "iopub.status.idle": "2021-07-17T15:37:00.034730Z",
     "shell.execute_reply": "2021-07-17T15:37:00.034335Z"
    },
    "papermill": {
     "duration": 0.04125,
     "end_time": "2021-07-17T15:37:00.034819",
     "exception": false,
     "start_time": "2021-07-17T15:36:59.993569",
     "status": "completed"
    },
    "tags": []
   },
   "outputs": [],
   "source": [
    "emerge_projection = pd.read_pickle(input_filepath)"
   ]
  },
  {
   "cell_type": "code",
   "execution_count": 27,
   "id": "earned-voltage",
   "metadata": {
    "execution": {
     "iopub.execute_input": "2021-07-17T15:37:00.088693Z",
     "iopub.status.busy": "2021-07-17T15:37:00.088337Z",
     "iopub.status.idle": "2021-07-17T15:37:00.099978Z",
     "shell.execute_reply": "2021-07-17T15:37:00.099609Z"
    },
    "papermill": {
     "duration": 0.038927,
     "end_time": "2021-07-17T15:37:00.100064",
     "exception": false,
     "start_time": "2021-07-17T15:37:00.061137",
     "status": "completed"
    },
    "tags": []
   },
   "outputs": [
    {
     "data": {
      "text/plain": [
       "(987, 309)"
      ]
     },
     "execution_count": 27,
     "metadata": {},
     "output_type": "execute_result"
    }
   ],
   "source": [
    "emerge_projection.shape"
   ]
  },
  {
   "cell_type": "code",
   "execution_count": 28,
   "id": "stone-fundamental",
   "metadata": {
    "execution": {
     "iopub.execute_input": "2021-07-17T15:37:00.154525Z",
     "iopub.status.busy": "2021-07-17T15:37:00.154168Z",
     "iopub.status.idle": "2021-07-17T15:37:00.176505Z",
     "shell.execute_reply": "2021-07-17T15:37:00.176138Z"
    },
    "papermill": {
     "duration": 0.050269,
     "end_time": "2021-07-17T15:37:00.176591",
     "exception": false,
     "start_time": "2021-07-17T15:37:00.126322",
     "status": "completed"
    },
    "tags": []
   },
   "outputs": [
    {
     "data": {
      "text/html": [
       "<div>\n",
       "<style scoped>\n",
       "    .dataframe tbody tr th:only-of-type {\n",
       "        vertical-align: middle;\n",
       "    }\n",
       "\n",
       "    .dataframe tbody tr th {\n",
       "        vertical-align: top;\n",
       "    }\n",
       "\n",
       "    .dataframe thead th {\n",
       "        text-align: right;\n",
       "    }\n",
       "</style>\n",
       "<table border=\"1\" class=\"dataframe\">\n",
       "  <thead>\n",
       "    <tr style=\"text-align: right;\">\n",
       "      <th></th>\n",
       "      <th>292.3</th>\n",
       "      <th>079</th>\n",
       "      <th>741</th>\n",
       "      <th>418.1</th>\n",
       "      <th>280</th>\n",
       "      <th>747</th>\n",
       "      <th>591</th>\n",
       "      <th>426.21</th>\n",
       "      <th>244</th>\n",
       "      <th>070.3</th>\n",
       "      <th>...</th>\n",
       "      <th>427</th>\n",
       "      <th>585.4</th>\n",
       "      <th>345</th>\n",
       "      <th>366.2</th>\n",
       "      <th>420.2</th>\n",
       "      <th>195</th>\n",
       "      <th>250.2</th>\n",
       "      <th>250.1</th>\n",
       "      <th>371</th>\n",
       "      <th>562</th>\n",
       "    </tr>\n",
       "  </thead>\n",
       "  <tbody>\n",
       "    <tr>\n",
       "      <th>LV1</th>\n",
       "      <td>0.055748</td>\n",
       "      <td>-0.019274</td>\n",
       "      <td>0.024491</td>\n",
       "      <td>0.012926</td>\n",
       "      <td>-0.026501</td>\n",
       "      <td>-0.043919</td>\n",
       "      <td>0.025264</td>\n",
       "      <td>-0.053251</td>\n",
       "      <td>0.043269</td>\n",
       "      <td>0.002465</td>\n",
       "      <td>...</td>\n",
       "      <td>-0.031739</td>\n",
       "      <td>0.014192</td>\n",
       "      <td>0.008710</td>\n",
       "      <td>-0.024261</td>\n",
       "      <td>-0.004780</td>\n",
       "      <td>0.057256</td>\n",
       "      <td>0.059702</td>\n",
       "      <td>0.036648</td>\n",
       "      <td>-0.022040</td>\n",
       "      <td>0.034427</td>\n",
       "    </tr>\n",
       "    <tr>\n",
       "      <th>LV2</th>\n",
       "      <td>-0.045630</td>\n",
       "      <td>-0.008570</td>\n",
       "      <td>0.040969</td>\n",
       "      <td>-0.016198</td>\n",
       "      <td>-0.032321</td>\n",
       "      <td>-0.017629</td>\n",
       "      <td>0.009238</td>\n",
       "      <td>-0.011634</td>\n",
       "      <td>-0.005854</td>\n",
       "      <td>0.033497</td>\n",
       "      <td>...</td>\n",
       "      <td>0.019678</td>\n",
       "      <td>0.040569</td>\n",
       "      <td>-0.009344</td>\n",
       "      <td>-0.012921</td>\n",
       "      <td>-0.055292</td>\n",
       "      <td>0.003193</td>\n",
       "      <td>0.013844</td>\n",
       "      <td>0.008327</td>\n",
       "      <td>0.004302</td>\n",
       "      <td>0.035154</td>\n",
       "    </tr>\n",
       "    <tr>\n",
       "      <th>LV3</th>\n",
       "      <td>0.025341</td>\n",
       "      <td>-0.059962</td>\n",
       "      <td>-0.027354</td>\n",
       "      <td>-0.033864</td>\n",
       "      <td>0.009571</td>\n",
       "      <td>0.023318</td>\n",
       "      <td>-0.003872</td>\n",
       "      <td>0.001095</td>\n",
       "      <td>0.028179</td>\n",
       "      <td>0.003639</td>\n",
       "      <td>...</td>\n",
       "      <td>0.041022</td>\n",
       "      <td>-0.036422</td>\n",
       "      <td>0.006088</td>\n",
       "      <td>-0.041302</td>\n",
       "      <td>0.017492</td>\n",
       "      <td>-0.039591</td>\n",
       "      <td>-0.000801</td>\n",
       "      <td>0.009127</td>\n",
       "      <td>0.045741</td>\n",
       "      <td>0.004434</td>\n",
       "    </tr>\n",
       "    <tr>\n",
       "      <th>LV4</th>\n",
       "      <td>-0.039736</td>\n",
       "      <td>0.013238</td>\n",
       "      <td>-0.002819</td>\n",
       "      <td>0.029253</td>\n",
       "      <td>-0.029388</td>\n",
       "      <td>-0.003176</td>\n",
       "      <td>0.037212</td>\n",
       "      <td>-0.022370</td>\n",
       "      <td>0.003168</td>\n",
       "      <td>0.039998</td>\n",
       "      <td>...</td>\n",
       "      <td>-0.029197</td>\n",
       "      <td>0.078351</td>\n",
       "      <td>0.044476</td>\n",
       "      <td>-0.027300</td>\n",
       "      <td>0.005332</td>\n",
       "      <td>0.028581</td>\n",
       "      <td>0.004288</td>\n",
       "      <td>0.015797</td>\n",
       "      <td>-0.074106</td>\n",
       "      <td>-0.020936</td>\n",
       "    </tr>\n",
       "    <tr>\n",
       "      <th>LV5</th>\n",
       "      <td>-0.012250</td>\n",
       "      <td>-0.002846</td>\n",
       "      <td>-0.025161</td>\n",
       "      <td>0.013880</td>\n",
       "      <td>0.009457</td>\n",
       "      <td>0.024885</td>\n",
       "      <td>0.001274</td>\n",
       "      <td>0.064774</td>\n",
       "      <td>0.039294</td>\n",
       "      <td>-0.000256</td>\n",
       "      <td>...</td>\n",
       "      <td>0.032792</td>\n",
       "      <td>-0.035128</td>\n",
       "      <td>-0.011787</td>\n",
       "      <td>-0.006511</td>\n",
       "      <td>-0.035433</td>\n",
       "      <td>-0.008735</td>\n",
       "      <td>-0.011139</td>\n",
       "      <td>-0.036651</td>\n",
       "      <td>0.003044</td>\n",
       "      <td>0.006505</td>\n",
       "    </tr>\n",
       "  </tbody>\n",
       "</table>\n",
       "<p>5 rows × 309 columns</p>\n",
       "</div>"
      ],
      "text/plain": [
       "        292.3       079       741     418.1       280       747       591  \\\n",
       "LV1  0.055748 -0.019274  0.024491  0.012926 -0.026501 -0.043919  0.025264   \n",
       "LV2 -0.045630 -0.008570  0.040969 -0.016198 -0.032321 -0.017629  0.009238   \n",
       "LV3  0.025341 -0.059962 -0.027354 -0.033864  0.009571  0.023318 -0.003872   \n",
       "LV4 -0.039736  0.013238 -0.002819  0.029253 -0.029388 -0.003176  0.037212   \n",
       "LV5 -0.012250 -0.002846 -0.025161  0.013880  0.009457  0.024885  0.001274   \n",
       "\n",
       "       426.21       244     070.3  ...       427     585.4       345  \\\n",
       "LV1 -0.053251  0.043269  0.002465  ... -0.031739  0.014192  0.008710   \n",
       "LV2 -0.011634 -0.005854  0.033497  ...  0.019678  0.040569 -0.009344   \n",
       "LV3  0.001095  0.028179  0.003639  ...  0.041022 -0.036422  0.006088   \n",
       "LV4 -0.022370  0.003168  0.039998  ... -0.029197  0.078351  0.044476   \n",
       "LV5  0.064774  0.039294 -0.000256  ...  0.032792 -0.035128 -0.011787   \n",
       "\n",
       "        366.2     420.2       195     250.2     250.1       371       562  \n",
       "LV1 -0.024261 -0.004780  0.057256  0.059702  0.036648 -0.022040  0.034427  \n",
       "LV2 -0.012921 -0.055292  0.003193  0.013844  0.008327  0.004302  0.035154  \n",
       "LV3 -0.041302  0.017492 -0.039591 -0.000801  0.009127  0.045741  0.004434  \n",
       "LV4 -0.027300  0.005332  0.028581  0.004288  0.015797 -0.074106 -0.020936  \n",
       "LV5 -0.006511 -0.035433 -0.008735 -0.011139 -0.036651  0.003044  0.006505  \n",
       "\n",
       "[5 rows x 309 columns]"
      ]
     },
     "execution_count": 28,
     "metadata": {},
     "output_type": "execute_result"
    }
   ],
   "source": [
    "emerge_projection.head()"
   ]
  },
  {
   "cell_type": "markdown",
   "id": "twenty-cosmetic",
   "metadata": {
    "papermill": {
     "duration": 0.026155,
     "end_time": "2021-07-17T15:37:00.229630",
     "exception": false,
     "start_time": "2021-07-17T15:37:00.203475",
     "status": "completed"
    },
    "tags": []
   },
   "source": [
    "## GLS results on PhenomeXcan"
   ]
  },
  {
   "cell_type": "code",
   "execution_count": 29,
   "id": "global-importance",
   "metadata": {
    "execution": {
     "iopub.execute_input": "2021-07-17T15:37:00.284100Z",
     "iopub.status.busy": "2021-07-17T15:37:00.283732Z",
     "iopub.status.idle": "2021-07-17T15:37:00.295644Z",
     "shell.execute_reply": "2021-07-17T15:37:00.295289Z"
    },
    "papermill": {
     "duration": 0.040255,
     "end_time": "2021-07-17T15:37:00.295727",
     "exception": false,
     "start_time": "2021-07-17T15:37:00.255472",
     "status": "completed"
    },
    "tags": []
   },
   "outputs": [
    {
     "data": {
      "text/plain": [
       "PosixPath('/home/miltondp/projects/labs/greenelab/phenoplier/base/results/gls/gls_phenotypes-crispr_lvs-phenomexcan.pkl')"
      ]
     },
     "metadata": {},
     "output_type": "display_data"
    }
   ],
   "source": [
    "input_filepath = conf.RESULTS[\"GLS\"] / \"gls_phenotypes-crispr_lvs-phenomexcan.pkl\"\n",
    "display(input_filepath)"
   ]
  },
  {
   "cell_type": "code",
   "execution_count": 30,
   "id": "editorial-beach",
   "metadata": {
    "execution": {
     "iopub.execute_input": "2021-07-17T15:37:00.351325Z",
     "iopub.status.busy": "2021-07-17T15:37:00.350956Z",
     "iopub.status.idle": "2021-07-17T15:37:00.509896Z",
     "shell.execute_reply": "2021-07-17T15:37:00.509488Z"
    },
    "papermill": {
     "duration": 0.18767,
     "end_time": "2021-07-17T15:37:00.510006",
     "exception": false,
     "start_time": "2021-07-17T15:37:00.322336",
     "status": "completed"
    },
    "tags": []
   },
   "outputs": [],
   "source": [
    "gls_phenomexcan_crispr = pd.read_pickle(input_filepath)"
   ]
  },
  {
   "cell_type": "code",
   "execution_count": 31,
   "id": "lined-huntington",
   "metadata": {
    "execution": {
     "iopub.execute_input": "2021-07-17T15:37:00.574239Z",
     "iopub.status.busy": "2021-07-17T15:37:00.573881Z",
     "iopub.status.idle": "2021-07-17T15:37:00.585447Z",
     "shell.execute_reply": "2021-07-17T15:37:00.585074Z"
    },
    "papermill": {
     "duration": 0.041721,
     "end_time": "2021-07-17T15:37:00.585535",
     "exception": false,
     "start_time": "2021-07-17T15:37:00.543814",
     "status": "completed"
    },
    "tags": []
   },
   "outputs": [
    {
     "data": {
      "text/plain": [
       "(300, 8)"
      ]
     },
     "execution_count": 31,
     "metadata": {},
     "output_type": "execute_result"
    }
   ],
   "source": [
    "gls_phenomexcan_crispr.shape"
   ]
  },
  {
   "cell_type": "code",
   "execution_count": 32,
   "id": "impaired-interim",
   "metadata": {
    "execution": {
     "iopub.execute_input": "2021-07-17T15:37:00.642864Z",
     "iopub.status.busy": "2021-07-17T15:37:00.642510Z",
     "iopub.status.idle": "2021-07-17T15:37:00.671978Z",
     "shell.execute_reply": "2021-07-17T15:37:00.672288Z"
    },
    "papermill": {
     "duration": 0.059044,
     "end_time": "2021-07-17T15:37:00.672407",
     "exception": false,
     "start_time": "2021-07-17T15:37:00.613363",
     "status": "completed"
    },
    "tags": []
   },
   "outputs": [
    {
     "data": {
      "text/html": [
       "<div>\n",
       "<style scoped>\n",
       "    .dataframe tbody tr th:only-of-type {\n",
       "        vertical-align: middle;\n",
       "    }\n",
       "\n",
       "    .dataframe tbody tr th {\n",
       "        vertical-align: top;\n",
       "    }\n",
       "\n",
       "    .dataframe thead th {\n",
       "        text-align: right;\n",
       "    }\n",
       "</style>\n",
       "<table border=\"1\" class=\"dataframe\">\n",
       "  <thead>\n",
       "    <tr style=\"text-align: right;\">\n",
       "      <th></th>\n",
       "      <th>phenotype</th>\n",
       "      <th>lv</th>\n",
       "      <th>lv_set</th>\n",
       "      <th>lv_with_pathway</th>\n",
       "      <th>coef</th>\n",
       "      <th>pvalue</th>\n",
       "      <th>pvalue_twosided</th>\n",
       "      <th>summary</th>\n",
       "    </tr>\n",
       "  </thead>\n",
       "  <tbody>\n",
       "    <tr>\n",
       "      <th>0</th>\n",
       "      <td>100007_raw-Polyunsaturated_fat</td>\n",
       "      <td>LV890</td>\n",
       "      <td>lipids-increasing</td>\n",
       "      <td>False</td>\n",
       "      <td>0.044519</td>\n",
       "      <td>0.000228</td>\n",
       "      <td>0.000455</td>\n",
       "      <td>GLS Regression Res...</td>\n",
       "    </tr>\n",
       "    <tr>\n",
       "      <th>1</th>\n",
       "      <td>100360-Decaffeinated_coffee</td>\n",
       "      <td>LV520</td>\n",
       "      <td>lipids-decreasing</td>\n",
       "      <td>False</td>\n",
       "      <td>0.041107</td>\n",
       "      <td>0.000391</td>\n",
       "      <td>0.000782</td>\n",
       "      <td>GLS Regression Res...</td>\n",
       "    </tr>\n",
       "    <tr>\n",
       "      <th>2</th>\n",
       "      <td>102280-Milk_chocolate_intake</td>\n",
       "      <td>LV702</td>\n",
       "      <td>lipids-increasing</td>\n",
       "      <td>False</td>\n",
       "      <td>0.043164</td>\n",
       "      <td>0.000335</td>\n",
       "      <td>0.000670</td>\n",
       "      <td>GLS Regression Res...</td>\n",
       "    </tr>\n",
       "    <tr>\n",
       "      <th>3</th>\n",
       "      <td>102_raw-Pulse_rate_automated_reading</td>\n",
       "      <td>LV246</td>\n",
       "      <td>lipids-increasing</td>\n",
       "      <td>True</td>\n",
       "      <td>0.037216</td>\n",
       "      <td>0.001377</td>\n",
       "      <td>0.002754</td>\n",
       "      <td>GLS Regression Res...</td>\n",
       "    </tr>\n",
       "    <tr>\n",
       "      <th>4</th>\n",
       "      <td>102_raw-Pulse_rate_automated_reading</td>\n",
       "      <td>LV801</td>\n",
       "      <td>lipids-decreasing</td>\n",
       "      <td>False</td>\n",
       "      <td>0.048699</td>\n",
       "      <td>0.000066</td>\n",
       "      <td>0.000131</td>\n",
       "      <td>GLS Regression Res...</td>\n",
       "    </tr>\n",
       "  </tbody>\n",
       "</table>\n",
       "</div>"
      ],
      "text/plain": [
       "                              phenotype     lv             lv_set  \\\n",
       "0        100007_raw-Polyunsaturated_fat  LV890  lipids-increasing   \n",
       "1           100360-Decaffeinated_coffee  LV520  lipids-decreasing   \n",
       "2          102280-Milk_chocolate_intake  LV702  lipids-increasing   \n",
       "3  102_raw-Pulse_rate_automated_reading  LV246  lipids-increasing   \n",
       "4  102_raw-Pulse_rate_automated_reading  LV801  lipids-decreasing   \n",
       "\n",
       "   lv_with_pathway      coef    pvalue  pvalue_twosided  \\\n",
       "0            False  0.044519  0.000228         0.000455   \n",
       "1            False  0.041107  0.000391         0.000782   \n",
       "2            False  0.043164  0.000335         0.000670   \n",
       "3             True  0.037216  0.001377         0.002754   \n",
       "4            False  0.048699  0.000066         0.000131   \n",
       "\n",
       "                                             summary  \n",
       "0                              GLS Regression Res...  \n",
       "1                              GLS Regression Res...  \n",
       "2                              GLS Regression Res...  \n",
       "3                              GLS Regression Res...  \n",
       "4                              GLS Regression Res...  "
      ]
     },
     "execution_count": 32,
     "metadata": {},
     "output_type": "execute_result"
    }
   ],
   "source": [
    "gls_phenomexcan_crispr.head()"
   ]
  },
  {
   "cell_type": "markdown",
   "id": "actual-selection",
   "metadata": {
    "papermill": {
     "duration": 0.027048,
     "end_time": "2021-07-17T15:37:00.730646",
     "exception": false,
     "start_time": "2021-07-17T15:37:00.703598",
     "status": "completed"
    },
    "tags": []
   },
   "source": [
    "# Select LV from previous GLS run on PhenomeXcan"
   ]
  },
  {
   "cell_type": "markdown",
   "id": "built-constraint",
   "metadata": {
    "papermill": {
     "duration": 0.026533,
     "end_time": "2021-07-17T15:37:00.784673",
     "exception": false,
     "start_time": "2021-07-17T15:37:00.758140",
     "status": "completed"
    },
    "tags": []
   },
   "source": [
    "This selectes the LVs enriched for the lipids CRISPR anaysis."
   ]
  },
  {
   "cell_type": "code",
   "execution_count": 33,
   "id": "charged-lounge",
   "metadata": {
    "execution": {
     "iopub.execute_input": "2021-07-17T15:37:00.865341Z",
     "iopub.status.busy": "2021-07-17T15:37:00.864945Z",
     "iopub.status.idle": "2021-07-17T15:37:00.878237Z",
     "shell.execute_reply": "2021-07-17T15:37:00.877900Z"
    },
    "papermill": {
     "duration": 0.048383,
     "end_time": "2021-07-17T15:37:00.878333",
     "exception": false,
     "start_time": "2021-07-17T15:37:00.829950",
     "status": "completed"
    },
    "tags": []
   },
   "outputs": [],
   "source": [
    "gls_phenomexcan_lvs = (\n",
    "    gls_phenomexcan_crispr[[\"lv\", \"lv_set\"]].drop_duplicates().reset_index(drop=True)\n",
    ")"
   ]
  },
  {
   "cell_type": "code",
   "execution_count": 34,
   "id": "liked-transsexual",
   "metadata": {
    "execution": {
     "iopub.execute_input": "2021-07-17T15:37:00.937184Z",
     "iopub.status.busy": "2021-07-17T15:37:00.936827Z",
     "iopub.status.idle": "2021-07-17T15:37:00.948026Z",
     "shell.execute_reply": "2021-07-17T15:37:00.948305Z"
    },
    "papermill": {
     "duration": 0.04093,
     "end_time": "2021-07-17T15:37:00.948412",
     "exception": false,
     "start_time": "2021-07-17T15:37:00.907482",
     "status": "completed"
    },
    "tags": []
   },
   "outputs": [
    {
     "data": {
      "text/plain": [
       "(15, 2)"
      ]
     },
     "execution_count": 34,
     "metadata": {},
     "output_type": "execute_result"
    }
   ],
   "source": [
    "gls_phenomexcan_lvs.shape"
   ]
  },
  {
   "cell_type": "code",
   "execution_count": 35,
   "id": "featured-snake",
   "metadata": {
    "execution": {
     "iopub.execute_input": "2021-07-17T15:37:01.006992Z",
     "iopub.status.busy": "2021-07-17T15:37:01.006634Z",
     "iopub.status.idle": "2021-07-17T15:37:01.020443Z",
     "shell.execute_reply": "2021-07-17T15:37:01.020121Z"
    },
    "papermill": {
     "duration": 0.04361,
     "end_time": "2021-07-17T15:37:01.020530",
     "exception": false,
     "start_time": "2021-07-17T15:37:00.976920",
     "status": "completed"
    },
    "tags": []
   },
   "outputs": [
    {
     "data": {
      "text/html": [
       "<div>\n",
       "<style scoped>\n",
       "    .dataframe tbody tr th:only-of-type {\n",
       "        vertical-align: middle;\n",
       "    }\n",
       "\n",
       "    .dataframe tbody tr th {\n",
       "        vertical-align: top;\n",
       "    }\n",
       "\n",
       "    .dataframe thead th {\n",
       "        text-align: right;\n",
       "    }\n",
       "</style>\n",
       "<table border=\"1\" class=\"dataframe\">\n",
       "  <thead>\n",
       "    <tr style=\"text-align: right;\">\n",
       "      <th></th>\n",
       "      <th>lv</th>\n",
       "      <th>lv_set</th>\n",
       "    </tr>\n",
       "  </thead>\n",
       "  <tbody>\n",
       "    <tr>\n",
       "      <th>0</th>\n",
       "      <td>LV890</td>\n",
       "      <td>lipids-increasing</td>\n",
       "    </tr>\n",
       "    <tr>\n",
       "      <th>1</th>\n",
       "      <td>LV520</td>\n",
       "      <td>lipids-decreasing</td>\n",
       "    </tr>\n",
       "    <tr>\n",
       "      <th>2</th>\n",
       "      <td>LV702</td>\n",
       "      <td>lipids-increasing</td>\n",
       "    </tr>\n",
       "    <tr>\n",
       "      <th>3</th>\n",
       "      <td>LV246</td>\n",
       "      <td>lipids-increasing</td>\n",
       "    </tr>\n",
       "    <tr>\n",
       "      <th>4</th>\n",
       "      <td>LV801</td>\n",
       "      <td>lipids-decreasing</td>\n",
       "    </tr>\n",
       "  </tbody>\n",
       "</table>\n",
       "</div>"
      ],
      "text/plain": [
       "      lv             lv_set\n",
       "0  LV890  lipids-increasing\n",
       "1  LV520  lipids-decreasing\n",
       "2  LV702  lipids-increasing\n",
       "3  LV246  lipids-increasing\n",
       "4  LV801  lipids-decreasing"
      ]
     },
     "execution_count": 35,
     "metadata": {},
     "output_type": "execute_result"
    }
   ],
   "source": [
    "gls_phenomexcan_lvs.head()"
   ]
  },
  {
   "cell_type": "markdown",
   "id": "chubby-satellite",
   "metadata": {
    "papermill": {
     "duration": 0.027905,
     "end_time": "2021-07-17T15:37:01.078000",
     "exception": false,
     "start_time": "2021-07-17T15:37:01.050095",
     "status": "completed"
    },
    "tags": []
   },
   "source": [
    "# Select relevant traits from eMERGE"
   ]
  },
  {
   "cell_type": "markdown",
   "id": "victorian-translation",
   "metadata": {
    "papermill": {
     "duration": 0.027329,
     "end_time": "2021-07-17T15:37:01.133139",
     "exception": false,
     "start_time": "2021-07-17T15:37:01.105810",
     "status": "completed"
    },
    "tags": []
   },
   "source": [
    "~Here we don't have partitions/cluters as with PhenomeXcan. So for this analysis (LVs related to lipids), I select relevant categories of traits from eMERGE (we have a \"category\" column for this results).~"
   ]
  },
  {
   "cell_type": "code",
   "execution_count": 36,
   "id": "beginning-assumption",
   "metadata": {
    "execution": {
     "iopub.execute_input": "2021-07-17T15:37:01.191550Z",
     "iopub.status.busy": "2021-07-17T15:37:01.191127Z",
     "iopub.status.idle": "2021-07-17T15:37:01.202442Z",
     "shell.execute_reply": "2021-07-17T15:37:01.202062Z"
    },
    "papermill": {
     "duration": 0.041628,
     "end_time": "2021-07-17T15:37:01.202530",
     "exception": false,
     "start_time": "2021-07-17T15:37:01.160902",
     "status": "completed"
    },
    "tags": []
   },
   "outputs": [],
   "source": [
    "# emerge_traits_df[\"phecode_category\"].unique()"
   ]
  },
  {
   "cell_type": "code",
   "execution_count": 37,
   "id": "earned-examination",
   "metadata": {
    "execution": {
     "iopub.execute_input": "2021-07-17T15:37:01.260853Z",
     "iopub.status.busy": "2021-07-17T15:37:01.260427Z",
     "iopub.status.idle": "2021-07-17T15:37:01.271138Z",
     "shell.execute_reply": "2021-07-17T15:37:01.270762Z"
    },
    "papermill": {
     "duration": 0.040572,
     "end_time": "2021-07-17T15:37:01.271225",
     "exception": false,
     "start_time": "2021-07-17T15:37:01.230653",
     "status": "completed"
    },
    "tags": []
   },
   "outputs": [],
   "source": [
    "# gls_traits = emerge_traits_df[\n",
    "#     emerge_traits_df[\"phecode_category\"].isin(\n",
    "#         [\n",
    "#             \"circulatory system\",\n",
    "#             \"endocrine/metabolic\",\n",
    "#             \"neurological\",\n",
    "#             \"mental disorders\",\n",
    "#         ]\n",
    "#     )\n",
    "# ][\"phecode\"].unique()"
   ]
  },
  {
   "cell_type": "code",
   "execution_count": 38,
   "id": "blank-spelling",
   "metadata": {
    "execution": {
     "iopub.execute_input": "2021-07-17T15:37:01.330152Z",
     "iopub.status.busy": "2021-07-17T15:37:01.329795Z",
     "iopub.status.idle": "2021-07-17T15:37:01.340642Z",
     "shell.execute_reply": "2021-07-17T15:37:01.340263Z"
    },
    "papermill": {
     "duration": 0.040915,
     "end_time": "2021-07-17T15:37:01.340740",
     "exception": false,
     "start_time": "2021-07-17T15:37:01.299825",
     "status": "completed"
    },
    "tags": []
   },
   "outputs": [],
   "source": [
    "# gls_traits.shape"
   ]
  },
  {
   "cell_type": "code",
   "execution_count": 39,
   "id": "agricultural-hudson",
   "metadata": {
    "execution": {
     "iopub.execute_input": "2021-07-17T15:37:01.399705Z",
     "iopub.status.busy": "2021-07-17T15:37:01.399330Z",
     "iopub.status.idle": "2021-07-17T15:37:01.410542Z",
     "shell.execute_reply": "2021-07-17T15:37:01.410170Z"
    },
    "papermill": {
     "duration": 0.041671,
     "end_time": "2021-07-17T15:37:01.410628",
     "exception": false,
     "start_time": "2021-07-17T15:37:01.368957",
     "status": "completed"
    },
    "tags": []
   },
   "outputs": [],
   "source": [
    "# gls_traits"
   ]
  },
  {
   "cell_type": "markdown",
   "id": "hybrid-delivery",
   "metadata": {
    "papermill": {
     "duration": 0.027938,
     "end_time": "2021-07-17T15:37:01.466404",
     "exception": false,
     "start_time": "2021-07-17T15:37:01.438466",
     "status": "completed"
    },
    "tags": []
   },
   "source": [
    "# GLSPhenoplier"
   ]
  },
  {
   "cell_type": "markdown",
   "id": "divided-killing",
   "metadata": {
    "papermill": {
     "duration": 0.027346,
     "end_time": "2021-07-17T15:37:01.521498",
     "exception": false,
     "start_time": "2021-07-17T15:37:01.494152",
     "status": "completed"
    },
    "tags": []
   },
   "source": [
    "## Get list of phenotypes/lvs pairs"
   ]
  },
  {
   "cell_type": "code",
   "execution_count": 40,
   "id": "nutritional-runner",
   "metadata": {
    "execution": {
     "iopub.execute_input": "2021-07-17T15:37:01.580924Z",
     "iopub.status.busy": "2021-07-17T15:37:01.580501Z",
     "iopub.status.idle": "2021-07-17T15:37:01.604526Z",
     "shell.execute_reply": "2021-07-17T15:37:01.604140Z"
    },
    "papermill": {
     "duration": 0.05551,
     "end_time": "2021-07-17T15:37:01.604616",
     "exception": false,
     "start_time": "2021-07-17T15:37:01.549106",
     "status": "completed"
    },
    "tags": []
   },
   "outputs": [],
   "source": [
    "phenotypes_lvs_pairs = []\n",
    "\n",
    "# for each LV, I take the top `N_TOP_TRAITS_FROM_LV` traits in eMERGE\n",
    "for idx, row in gls_phenomexcan_lvs.iterrows():\n",
    "    lv_name = row[\"lv\"]\n",
    "    lv_set = row[\"lv_set\"]\n",
    "\n",
    "    lv_traits = emerge_projection.loc[lv_name]\n",
    "    lv_traits = lv_traits[lv_traits > 0.0]\n",
    "    lv_traits = lv_traits.sort_values(ascending=False).head(N_TOP_TRAITS_FROM_LV)\n",
    "\n",
    "    for phenotype_code in set(lv_traits.index.tolist()):\n",
    "        phenotypes_lvs_pairs.append(\n",
    "            {\n",
    "                \"phenotype\": phenotype_code,\n",
    "                \"lv\": lv_name,\n",
    "                \"lv_set\": row[\"lv_set\"],\n",
    "            }\n",
    "        )\n",
    "\n",
    "phenotypes_lvs_pairs = pd.DataFrame(phenotypes_lvs_pairs).drop_duplicates()"
   ]
  },
  {
   "cell_type": "code",
   "execution_count": 41,
   "id": "fresh-bidder",
   "metadata": {
    "execution": {
     "iopub.execute_input": "2021-07-17T15:37:01.663770Z",
     "iopub.status.busy": "2021-07-17T15:37:01.663414Z",
     "iopub.status.idle": "2021-07-17T15:37:01.675278Z",
     "shell.execute_reply": "2021-07-17T15:37:01.675605Z"
    },
    "papermill": {
     "duration": 0.042615,
     "end_time": "2021-07-17T15:37:01.675730",
     "exception": false,
     "start_time": "2021-07-17T15:37:01.633115",
     "status": "completed"
    },
    "tags": []
   },
   "outputs": [],
   "source": [
    "phenotypes_lvs_pairs = phenotypes_lvs_pairs.sort_values(\"phenotype\").reset_index(\n",
    "    drop=True\n",
    ")"
   ]
  },
  {
   "cell_type": "code",
   "execution_count": 42,
   "id": "strategic-junction",
   "metadata": {
    "execution": {
     "iopub.execute_input": "2021-07-17T15:37:01.738148Z",
     "iopub.status.busy": "2021-07-17T15:37:01.737747Z",
     "iopub.status.idle": "2021-07-17T15:37:01.749573Z",
     "shell.execute_reply": "2021-07-17T15:37:01.749254Z"
    },
    "papermill": {
     "duration": 0.042051,
     "end_time": "2021-07-17T15:37:01.749659",
     "exception": false,
     "start_time": "2021-07-17T15:37:01.707608",
     "status": "completed"
    },
    "tags": []
   },
   "outputs": [
    {
     "data": {
      "text/plain": [
       "(300, 3)"
      ]
     },
     "execution_count": 42,
     "metadata": {},
     "output_type": "execute_result"
    }
   ],
   "source": [
    "phenotypes_lvs_pairs.shape"
   ]
  },
  {
   "cell_type": "code",
   "execution_count": 43,
   "id": "failing-moisture",
   "metadata": {
    "execution": {
     "iopub.execute_input": "2021-07-17T15:37:01.809254Z",
     "iopub.status.busy": "2021-07-17T15:37:01.808907Z",
     "iopub.status.idle": "2021-07-17T15:37:01.824077Z",
     "shell.execute_reply": "2021-07-17T15:37:01.823699Z"
    },
    "papermill": {
     "duration": 0.046019,
     "end_time": "2021-07-17T15:37:01.824164",
     "exception": false,
     "start_time": "2021-07-17T15:37:01.778145",
     "status": "completed"
    },
    "tags": []
   },
   "outputs": [
    {
     "data": {
      "text/html": [
       "<div>\n",
       "<style scoped>\n",
       "    .dataframe tbody tr th:only-of-type {\n",
       "        vertical-align: middle;\n",
       "    }\n",
       "\n",
       "    .dataframe tbody tr th {\n",
       "        vertical-align: top;\n",
       "    }\n",
       "\n",
       "    .dataframe thead th {\n",
       "        text-align: right;\n",
       "    }\n",
       "</style>\n",
       "<table border=\"1\" class=\"dataframe\">\n",
       "  <thead>\n",
       "    <tr style=\"text-align: right;\">\n",
       "      <th></th>\n",
       "      <th>phenotype</th>\n",
       "      <th>lv</th>\n",
       "      <th>lv_set</th>\n",
       "    </tr>\n",
       "  </thead>\n",
       "  <tbody>\n",
       "    <tr>\n",
       "      <th>0</th>\n",
       "      <td>008</td>\n",
       "      <td>LV74</td>\n",
       "      <td>lipids-increasing</td>\n",
       "    </tr>\n",
       "    <tr>\n",
       "      <th>1</th>\n",
       "      <td>008.5</td>\n",
       "      <td>LV959</td>\n",
       "      <td>lipids-decreasing</td>\n",
       "    </tr>\n",
       "    <tr>\n",
       "      <th>2</th>\n",
       "      <td>038</td>\n",
       "      <td>LV612</td>\n",
       "      <td>lipids-decreasing</td>\n",
       "    </tr>\n",
       "    <tr>\n",
       "      <th>3</th>\n",
       "      <td>053</td>\n",
       "      <td>LV841</td>\n",
       "      <td>lipids-increasing</td>\n",
       "    </tr>\n",
       "    <tr>\n",
       "      <th>4</th>\n",
       "      <td>070</td>\n",
       "      <td>LV838</td>\n",
       "      <td>lipids-decreasing</td>\n",
       "    </tr>\n",
       "  </tbody>\n",
       "</table>\n",
       "</div>"
      ],
      "text/plain": [
       "  phenotype     lv             lv_set\n",
       "0       008   LV74  lipids-increasing\n",
       "1     008.5  LV959  lipids-decreasing\n",
       "2       038  LV612  lipids-decreasing\n",
       "3       053  LV841  lipids-increasing\n",
       "4       070  LV838  lipids-decreasing"
      ]
     },
     "execution_count": 43,
     "metadata": {},
     "output_type": "execute_result"
    }
   ],
   "source": [
    "phenotypes_lvs_pairs.head()"
   ]
  },
  {
   "cell_type": "markdown",
   "id": "expired-atmosphere",
   "metadata": {
    "papermill": {
     "duration": 0.028394,
     "end_time": "2021-07-17T15:37:01.882480",
     "exception": false,
     "start_time": "2021-07-17T15:37:01.854086",
     "status": "completed"
    },
    "tags": []
   },
   "source": [
    "## Run"
   ]
  },
  {
   "cell_type": "code",
   "execution_count": 44,
   "id": "outside-terminology",
   "metadata": {
    "execution": {
     "iopub.execute_input": "2021-07-17T15:37:01.943251Z",
     "iopub.status.busy": "2021-07-17T15:37:01.942865Z",
     "iopub.status.idle": "2021-07-17T16:23:15.615892Z",
     "shell.execute_reply": "2021-07-17T16:23:15.615113Z"
    },
    "papermill": {
     "duration": 2773.705258,
     "end_time": "2021-07-17T16:23:15.615974",
     "exception": false,
     "start_time": "2021-07-17T15:37:01.910716",
     "status": "completed"
    },
    "tags": []
   },
   "outputs": [
    {
     "name": "stderr",
     "output_type": "stream",
     "text": [
      "747.11 - LV41: 100%|██████████| 300/300 [46:13<00:00,  9.25s/it]\n"
     ]
    }
   ],
   "source": [
    "results = []\n",
    "\n",
    "pbar = tqdm(total=phenotypes_lvs_pairs.shape[0])\n",
    "\n",
    "for idx, row in phenotypes_lvs_pairs.iterrows():\n",
    "    phenotype_code = row[\"phenotype\"]\n",
    "    lv_code = row[\"lv\"]\n",
    "\n",
    "    pbar.set_description(f\"{phenotype_code} - {lv_code}\")\n",
    "\n",
    "    gls_model = GLSPhenoplier(\n",
    "        smultixcan_result_set_filepath=emerge_smultixcan_zscores_filepath\n",
    "    )\n",
    "    gls_model.fit_named(lv_code, phenotype_code)\n",
    "    res = gls_model.results\n",
    "\n",
    "    results.append(\n",
    "        {\n",
    "            \"phenotype\": phenotype_code,\n",
    "            \"lv\": lv_code,\n",
    "            \"lv_set\": row[\"lv_set\"],\n",
    "            \"lv_with_pathway\": lv_code in well_aligned_lv_codes,\n",
    "            \"coef\": res.params.loc[\"lv\"],\n",
    "            \"pvalue\": res.pvalues_onesided.loc[\"lv\"],\n",
    "            \"pvalue_twosided\": res.pvalues.loc[\"lv\"],\n",
    "            \"summary\": gls_model.results_summary,\n",
    "        }\n",
    "    )\n",
    "\n",
    "    # save results every 10 models trained\n",
    "    if (idx % 10) == 0:\n",
    "        pd.DataFrame(results).to_pickle(OUTPUT_FILENAME)\n",
    "\n",
    "    pbar.update(1)\n",
    "\n",
    "pbar.close()"
   ]
  },
  {
   "cell_type": "code",
   "execution_count": 45,
   "id": "acting-discharge",
   "metadata": {
    "execution": {
     "iopub.execute_input": "2021-07-17T16:23:15.864869Z",
     "iopub.status.busy": "2021-07-17T16:23:15.864470Z",
     "iopub.status.idle": "2021-07-17T16:23:15.876348Z",
     "shell.execute_reply": "2021-07-17T16:23:15.876645Z"
    },
    "papermill": {
     "duration": 0.138752,
     "end_time": "2021-07-17T16:23:15.876758",
     "exception": false,
     "start_time": "2021-07-17T16:23:15.738006",
     "status": "completed"
    },
    "tags": []
   },
   "outputs": [],
   "source": [
    "results = pd.DataFrame(results)"
   ]
  },
  {
   "cell_type": "code",
   "execution_count": 46,
   "id": "executive-tournament",
   "metadata": {
    "execution": {
     "iopub.execute_input": "2021-07-17T16:23:16.124770Z",
     "iopub.status.busy": "2021-07-17T16:23:16.124323Z",
     "iopub.status.idle": "2021-07-17T16:23:16.136176Z",
     "shell.execute_reply": "2021-07-17T16:23:16.135805Z"
    },
    "papermill": {
     "duration": 0.135133,
     "end_time": "2021-07-17T16:23:16.136261",
     "exception": false,
     "start_time": "2021-07-17T16:23:16.001128",
     "status": "completed"
    },
    "tags": []
   },
   "outputs": [
    {
     "data": {
      "text/plain": [
       "(300, 8)"
      ]
     },
     "execution_count": 46,
     "metadata": {},
     "output_type": "execute_result"
    }
   ],
   "source": [
    "results.shape"
   ]
  },
  {
   "cell_type": "code",
   "execution_count": 47,
   "id": "sound-paragraph",
   "metadata": {
    "execution": {
     "iopub.execute_input": "2021-07-17T16:23:16.384227Z",
     "iopub.status.busy": "2021-07-17T16:23:16.383857Z",
     "iopub.status.idle": "2021-07-17T16:23:16.415814Z",
     "shell.execute_reply": "2021-07-17T16:23:16.415427Z"
    },
    "papermill": {
     "duration": 0.156694,
     "end_time": "2021-07-17T16:23:16.415906",
     "exception": false,
     "start_time": "2021-07-17T16:23:16.259212",
     "status": "completed"
    },
    "tags": []
   },
   "outputs": [
    {
     "data": {
      "text/html": [
       "<div>\n",
       "<style scoped>\n",
       "    .dataframe tbody tr th:only-of-type {\n",
       "        vertical-align: middle;\n",
       "    }\n",
       "\n",
       "    .dataframe tbody tr th {\n",
       "        vertical-align: top;\n",
       "    }\n",
       "\n",
       "    .dataframe thead th {\n",
       "        text-align: right;\n",
       "    }\n",
       "</style>\n",
       "<table border=\"1\" class=\"dataframe\">\n",
       "  <thead>\n",
       "    <tr style=\"text-align: right;\">\n",
       "      <th></th>\n",
       "      <th>phenotype</th>\n",
       "      <th>lv</th>\n",
       "      <th>lv_set</th>\n",
       "      <th>lv_with_pathway</th>\n",
       "      <th>coef</th>\n",
       "      <th>pvalue</th>\n",
       "      <th>pvalue_twosided</th>\n",
       "      <th>summary</th>\n",
       "    </tr>\n",
       "  </thead>\n",
       "  <tbody>\n",
       "    <tr>\n",
       "      <th>0</th>\n",
       "      <td>008</td>\n",
       "      <td>LV74</td>\n",
       "      <td>lipids-increasing</td>\n",
       "      <td>True</td>\n",
       "      <td>0.019816</td>\n",
       "      <td>0.056707</td>\n",
       "      <td>0.113414</td>\n",
       "      <td>GLS Regression Res...</td>\n",
       "    </tr>\n",
       "    <tr>\n",
       "      <th>1</th>\n",
       "      <td>008.5</td>\n",
       "      <td>LV959</td>\n",
       "      <td>lipids-decreasing</td>\n",
       "      <td>False</td>\n",
       "      <td>0.026731</td>\n",
       "      <td>0.016509</td>\n",
       "      <td>0.033018</td>\n",
       "      <td>GLS Regression Res...</td>\n",
       "    </tr>\n",
       "    <tr>\n",
       "      <th>2</th>\n",
       "      <td>038</td>\n",
       "      <td>LV612</td>\n",
       "      <td>lipids-decreasing</td>\n",
       "      <td>True</td>\n",
       "      <td>0.028221</td>\n",
       "      <td>0.013968</td>\n",
       "      <td>0.027937</td>\n",
       "      <td>GLS Regression Res...</td>\n",
       "    </tr>\n",
       "    <tr>\n",
       "      <th>3</th>\n",
       "      <td>053</td>\n",
       "      <td>LV841</td>\n",
       "      <td>lipids-increasing</td>\n",
       "      <td>False</td>\n",
       "      <td>0.019209</td>\n",
       "      <td>0.064738</td>\n",
       "      <td>0.129477</td>\n",
       "      <td>GLS Regression Res...</td>\n",
       "    </tr>\n",
       "    <tr>\n",
       "      <th>4</th>\n",
       "      <td>070</td>\n",
       "      <td>LV838</td>\n",
       "      <td>lipids-decreasing</td>\n",
       "      <td>True</td>\n",
       "      <td>0.016759</td>\n",
       "      <td>0.087191</td>\n",
       "      <td>0.174381</td>\n",
       "      <td>GLS Regression Res...</td>\n",
       "    </tr>\n",
       "  </tbody>\n",
       "</table>\n",
       "</div>"
      ],
      "text/plain": [
       "  phenotype     lv             lv_set  lv_with_pathway      coef    pvalue  \\\n",
       "0       008   LV74  lipids-increasing             True  0.019816  0.056707   \n",
       "1     008.5  LV959  lipids-decreasing            False  0.026731  0.016509   \n",
       "2       038  LV612  lipids-decreasing             True  0.028221  0.013968   \n",
       "3       053  LV841  lipids-increasing            False  0.019209  0.064738   \n",
       "4       070  LV838  lipids-decreasing             True  0.016759  0.087191   \n",
       "\n",
       "   pvalue_twosided                                            summary  \n",
       "0         0.113414                              GLS Regression Res...  \n",
       "1         0.033018                              GLS Regression Res...  \n",
       "2         0.027937                              GLS Regression Res...  \n",
       "3         0.129477                              GLS Regression Res...  \n",
       "4         0.174381                              GLS Regression Res...  "
      ]
     },
     "execution_count": 47,
     "metadata": {},
     "output_type": "execute_result"
    }
   ],
   "source": [
    "results.head()"
   ]
  },
  {
   "cell_type": "code",
   "execution_count": 48,
   "id": "political-killer",
   "metadata": {
    "execution": {
     "iopub.execute_input": "2021-07-17T16:23:16.665423Z",
     "iopub.status.busy": "2021-07-17T16:23:16.665068Z",
     "iopub.status.idle": "2021-07-17T16:23:16.713421Z",
     "shell.execute_reply": "2021-07-17T16:23:16.713043Z"
    },
    "papermill": {
     "duration": 0.17222,
     "end_time": "2021-07-17T16:23:16.713504",
     "exception": false,
     "start_time": "2021-07-17T16:23:16.541284",
     "status": "completed"
    },
    "tags": []
   },
   "outputs": [
    {
     "data": {
      "text/html": [
       "<div>\n",
       "<style scoped>\n",
       "    .dataframe tbody tr th:only-of-type {\n",
       "        vertical-align: middle;\n",
       "    }\n",
       "\n",
       "    .dataframe tbody tr th {\n",
       "        vertical-align: top;\n",
       "    }\n",
       "\n",
       "    .dataframe thead th {\n",
       "        text-align: right;\n",
       "    }\n",
       "</style>\n",
       "<table border=\"1\" class=\"dataframe\">\n",
       "  <thead>\n",
       "    <tr style=\"text-align: right;\">\n",
       "      <th></th>\n",
       "      <th>phenotype</th>\n",
       "      <th>lv</th>\n",
       "      <th>lv_set</th>\n",
       "      <th>lv_with_pathway</th>\n",
       "      <th>coef</th>\n",
       "      <th>pvalue</th>\n",
       "      <th>pvalue_twosided</th>\n",
       "      <th>summary</th>\n",
       "    </tr>\n",
       "  </thead>\n",
       "  <tbody>\n",
       "    <tr>\n",
       "      <th>46</th>\n",
       "      <td>276.41</td>\n",
       "      <td>LV246</td>\n",
       "      <td>lipids-increasing</td>\n",
       "      <td>True</td>\n",
       "      <td>0.054395</td>\n",
       "      <td>0.000008</td>\n",
       "      <td>0.000016</td>\n",
       "      <td>GLS Regression Res...</td>\n",
       "    </tr>\n",
       "    <tr>\n",
       "      <th>45</th>\n",
       "      <td>276.4</td>\n",
       "      <td>LV246</td>\n",
       "      <td>lipids-increasing</td>\n",
       "      <td>True</td>\n",
       "      <td>0.053259</td>\n",
       "      <td>0.000012</td>\n",
       "      <td>0.000024</td>\n",
       "      <td>GLS Regression Res...</td>\n",
       "    </tr>\n",
       "    <tr>\n",
       "      <th>141</th>\n",
       "      <td>427.21</td>\n",
       "      <td>LV512</td>\n",
       "      <td>lipids-decreasing</td>\n",
       "      <td>False</td>\n",
       "      <td>0.051893</td>\n",
       "      <td>0.000012</td>\n",
       "      <td>0.000025</td>\n",
       "      <td>GLS Regression Res...</td>\n",
       "    </tr>\n",
       "    <tr>\n",
       "      <th>139</th>\n",
       "      <td>427.2</td>\n",
       "      <td>LV512</td>\n",
       "      <td>lipids-decreasing</td>\n",
       "      <td>False</td>\n",
       "      <td>0.050576</td>\n",
       "      <td>0.000019</td>\n",
       "      <td>0.000038</td>\n",
       "      <td>GLS Regression Res...</td>\n",
       "    </tr>\n",
       "    <tr>\n",
       "      <th>146</th>\n",
       "      <td>427.5</td>\n",
       "      <td>LV512</td>\n",
       "      <td>lipids-decreasing</td>\n",
       "      <td>False</td>\n",
       "      <td>0.050703</td>\n",
       "      <td>0.000023</td>\n",
       "      <td>0.000047</td>\n",
       "      <td>GLS Regression Res...</td>\n",
       "    </tr>\n",
       "    <tr>\n",
       "      <th>51</th>\n",
       "      <td>278.1</td>\n",
       "      <td>LV702</td>\n",
       "      <td>lipids-increasing</td>\n",
       "      <td>False</td>\n",
       "      <td>0.046992</td>\n",
       "      <td>0.000107</td>\n",
       "      <td>0.000214</td>\n",
       "      <td>GLS Regression Res...</td>\n",
       "    </tr>\n",
       "    <tr>\n",
       "      <th>162</th>\n",
       "      <td>429.1</td>\n",
       "      <td>LV838</td>\n",
       "      <td>lipids-decreasing</td>\n",
       "      <td>True</td>\n",
       "      <td>0.045425</td>\n",
       "      <td>0.000112</td>\n",
       "      <td>0.000223</td>\n",
       "      <td>GLS Regression Res...</td>\n",
       "    </tr>\n",
       "    <tr>\n",
       "      <th>291</th>\n",
       "      <td>743.11</td>\n",
       "      <td>LV702</td>\n",
       "      <td>lipids-increasing</td>\n",
       "      <td>False</td>\n",
       "      <td>0.044913</td>\n",
       "      <td>0.000189</td>\n",
       "      <td>0.000378</td>\n",
       "      <td>GLS Regression Res...</td>\n",
       "    </tr>\n",
       "    <tr>\n",
       "      <th>154</th>\n",
       "      <td>428.2</td>\n",
       "      <td>LV512</td>\n",
       "      <td>lipids-decreasing</td>\n",
       "      <td>False</td>\n",
       "      <td>0.044195</td>\n",
       "      <td>0.000195</td>\n",
       "      <td>0.000389</td>\n",
       "      <td>GLS Regression Res...</td>\n",
       "    </tr>\n",
       "    <tr>\n",
       "      <th>257</th>\n",
       "      <td>694</td>\n",
       "      <td>LV959</td>\n",
       "      <td>lipids-decreasing</td>\n",
       "      <td>False</td>\n",
       "      <td>0.042986</td>\n",
       "      <td>0.000298</td>\n",
       "      <td>0.000595</td>\n",
       "      <td>GLS Regression Res...</td>\n",
       "    </tr>\n",
       "  </tbody>\n",
       "</table>\n",
       "</div>"
      ],
      "text/plain": [
       "    phenotype     lv             lv_set  lv_with_pathway      coef    pvalue  \\\n",
       "46     276.41  LV246  lipids-increasing             True  0.054395  0.000008   \n",
       "45      276.4  LV246  lipids-increasing             True  0.053259  0.000012   \n",
       "141    427.21  LV512  lipids-decreasing            False  0.051893  0.000012   \n",
       "139     427.2  LV512  lipids-decreasing            False  0.050576  0.000019   \n",
       "146     427.5  LV512  lipids-decreasing            False  0.050703  0.000023   \n",
       "51      278.1  LV702  lipids-increasing            False  0.046992  0.000107   \n",
       "162     429.1  LV838  lipids-decreasing             True  0.045425  0.000112   \n",
       "291    743.11  LV702  lipids-increasing            False  0.044913  0.000189   \n",
       "154     428.2  LV512  lipids-decreasing            False  0.044195  0.000195   \n",
       "257       694  LV959  lipids-decreasing            False  0.042986  0.000298   \n",
       "\n",
       "     pvalue_twosided                                            summary  \n",
       "46          0.000016                              GLS Regression Res...  \n",
       "45          0.000024                              GLS Regression Res...  \n",
       "141         0.000025                              GLS Regression Res...  \n",
       "139         0.000038                              GLS Regression Res...  \n",
       "146         0.000047                              GLS Regression Res...  \n",
       "51          0.000214                              GLS Regression Res...  \n",
       "162         0.000223                              GLS Regression Res...  \n",
       "291         0.000378                              GLS Regression Res...  \n",
       "154         0.000389                              GLS Regression Res...  \n",
       "257         0.000595                              GLS Regression Res...  "
      ]
     },
     "execution_count": 48,
     "metadata": {},
     "output_type": "execute_result"
    }
   ],
   "source": [
    "results.sort_values(\"pvalue\").head(10)"
   ]
  },
  {
   "cell_type": "markdown",
   "id": "together-nancy",
   "metadata": {
    "papermill": {
     "duration": 0.129624,
     "end_time": "2021-07-17T16:23:16.987893",
     "exception": false,
     "start_time": "2021-07-17T16:23:16.858269",
     "status": "completed"
    },
    "tags": []
   },
   "source": [
    "## Save"
   ]
  },
  {
   "cell_type": "code",
   "execution_count": 49,
   "id": "eight-sigma",
   "metadata": {
    "execution": {
     "iopub.execute_input": "2021-07-17T16:23:17.246478Z",
     "iopub.status.busy": "2021-07-17T16:23:17.246119Z",
     "iopub.status.idle": "2021-07-17T16:23:17.299531Z",
     "shell.execute_reply": "2021-07-17T16:23:17.299178Z"
    },
    "papermill": {
     "duration": 0.180078,
     "end_time": "2021-07-17T16:23:17.299632",
     "exception": false,
     "start_time": "2021-07-17T16:23:17.119554",
     "status": "completed"
    },
    "tags": []
   },
   "outputs": [],
   "source": [
    "results.to_pickle(OUTPUT_FILENAME)"
   ]
  },
  {
   "cell_type": "code",
   "execution_count": null,
   "id": "announced-leather",
   "metadata": {
    "papermill": {
     "duration": 0.123785,
     "end_time": "2021-07-17T16:23:17.548789",
     "exception": false,
     "start_time": "2021-07-17T16:23:17.425004",
     "status": "completed"
    },
    "tags": []
   },
   "outputs": [],
   "source": []
  }
 ],
 "metadata": {
  "jupytext": {
   "cell_metadata_filter": "all,-execution,-papermill,-trusted",
   "formats": "ipynb,py//py:percent"
  },
  "kernelspec": {
   "display_name": "Python 3",
   "language": "python",
   "name": "python3"
  },
  "language_info": {
   "codemirror_mode": {
    "name": "ipython",
    "version": 3
   },
   "file_extension": ".py",
   "mimetype": "text/x-python",
   "name": "python",
   "nbconvert_exporter": "python",
   "pygments_lexer": "ipython3",
   "version": "3.8.8"
  },
  "papermill": {
   "default_parameters": {},
   "duration": 2782.891651,
   "end_time": "2021-07-17T16:23:19.131551",
   "environment_variables": {},
   "exception": null,
   "input_path": "08_gsa_gls/45-gls_on_lipids_lvs-emerge.ipynb",
   "output_path": "08_gsa_gls/45-gls_on_lipids_lvs-emerge.run.ipynb",
   "parameters": {},
   "start_time": "2021-07-17T15:36:56.239900",
   "version": "2.2.2"
  }
 },
 "nbformat": 4,
 "nbformat_minor": 5
}
