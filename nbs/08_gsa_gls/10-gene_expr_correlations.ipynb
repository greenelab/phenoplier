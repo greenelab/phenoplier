{
 "cells": [
  {
   "cell_type": "markdown",
   "id": "english-mineral",
   "metadata": {},
   "source": [
    "# Description"
   ]
  },
  {
   "cell_type": "markdown",
   "id": "muslim-movement",
   "metadata": {},
   "source": [
    "This notebook computes predicted expression correlations between all genes in the MultiPLIER models."
   ]
  },
  {
   "cell_type": "markdown",
   "id": "british-advance",
   "metadata": {},
   "source": [
    "# Modules"
   ]
  },
  {
   "cell_type": "code",
   "execution_count": null,
   "id": "neutral-surprise",
   "metadata": {
    "papermill": {
     "duration": 0.047722,
     "end_time": "2021-03-08T16:37:51.496059",
     "exception": false,
     "start_time": "2021-03-08T16:37:51.448337",
     "status": "completed"
    },
    "tags": []
   },
   "outputs": [],
   "source": [
    "%load_ext autoreload\n",
    "%autoreload 2"
   ]
  },
  {
   "cell_type": "code",
   "execution_count": null,
   "id": "premium-spank",
   "metadata": {},
   "outputs": [],
   "source": [
    "import numpy as np\n",
    "import pandas as pd\n",
    "from tqdm import tqdm\n",
    "\n",
    "import conf\n",
    "from entity import Gene"
   ]
  },
  {
   "cell_type": "markdown",
   "id": "imperial-store",
   "metadata": {},
   "source": [
    "# Load data"
   ]
  },
  {
   "cell_type": "markdown",
   "id": "electoral-algebra",
   "metadata": {},
   "source": [
    "## SNPs covariance"
   ]
  },
  {
   "cell_type": "code",
   "execution_count": null,
   "id": "false-mexico",
   "metadata": {},
   "outputs": [],
   "source": [
    "snps_covar_file = conf.PHENOMEXCAN[\"LD_BLOCKS\"][\"BASE_DIR\"] / \"mashr_snps_chr_blocks_cov.h5\"\n",
    "display(snps_covar_file)"
   ]
  },
  {
   "cell_type": "code",
   "execution_count": null,
   "id": "worldwide-snake",
   "metadata": {},
   "outputs": [],
   "source": [
    "with pd.HDFStore(snps_covar_file, mode=\"r\") as store:\n",
    "    snps_covar_metadata = store[\"metadata\"].drop_duplicates(subset=[\"varID\"]).set_index(\"varID\")\n",
    "    assert snps_covar_metadata.index.is_unique"
   ]
  },
  {
   "cell_type": "code",
   "execution_count": null,
   "id": "tested-inspector",
   "metadata": {},
   "outputs": [],
   "source": [
    "snps_covar_metadata.shape"
   ]
  },
  {
   "cell_type": "code",
   "execution_count": null,
   "id": "confirmed-diploma",
   "metadata": {},
   "outputs": [],
   "source": [
    "snps_covar_metadata.head()"
   ]
  },
  {
   "cell_type": "markdown",
   "id": "frequent-divorce",
   "metadata": {},
   "source": [
    "## MultiPLIER Z"
   ]
  },
  {
   "cell_type": "code",
   "execution_count": null,
   "id": "incomplete-enemy",
   "metadata": {},
   "outputs": [],
   "source": [
    "multiplier_z_genes = pd.read_pickle(conf.MULTIPLIER[\"MODEL_Z_MATRIX_FILE\"]).index.tolist()"
   ]
  },
  {
   "cell_type": "code",
   "execution_count": null,
   "id": "efficient-saint",
   "metadata": {},
   "outputs": [],
   "source": [
    "len(multiplier_z_genes)"
   ]
  },
  {
   "cell_type": "code",
   "execution_count": null,
   "id": "ambient-bernard",
   "metadata": {},
   "outputs": [],
   "source": [
    "multiplier_z_genes[:10]"
   ]
  },
  {
   "cell_type": "markdown",
   "id": "historical-football",
   "metadata": {},
   "source": [
    "## Get gene objects"
   ]
  },
  {
   "cell_type": "code",
   "execution_count": null,
   "id": "rubber-miniature",
   "metadata": {},
   "outputs": [],
   "source": [
    "multiplier_gene_obj = {\n",
    "    gene_name: Gene(name=gene_name)\n",
    "    for gene_name in multiplier_z_genes\n",
    "    if gene_name in Gene.GENE_NAME_TO_ID_MAP\n",
    "}"
   ]
  },
  {
   "cell_type": "code",
   "execution_count": null,
   "id": "reliable-jewelry",
   "metadata": {},
   "outputs": [],
   "source": [
    "len(multiplier_gene_obj)"
   ]
  },
  {
   "cell_type": "code",
   "execution_count": null,
   "id": "australian-projection",
   "metadata": {},
   "outputs": [],
   "source": [
    "multiplier_gene_obj[\"GAS6\"].ensembl_id"
   ]
  },
  {
   "cell_type": "code",
   "execution_count": null,
   "id": "gross-location",
   "metadata": {},
   "outputs": [],
   "source": [
    "_gene_obj = list(multiplier_gene_obj.values())\n",
    "\n",
    "genes_info = pd.DataFrame({\n",
    "    \"name\": [g.name for g in _gene_obj],\n",
    "    \"id\": [g.ensembl_id for g in _gene_obj],\n",
    "    \"chr\": [g.chromosome for g in _gene_obj],\n",
    "})"
   ]
  },
  {
   "cell_type": "code",
   "execution_count": null,
   "id": "soviet-workshop",
   "metadata": {},
   "outputs": [],
   "source": [
    "genes_info.shape"
   ]
  },
  {
   "cell_type": "code",
   "execution_count": null,
   "id": "signed-encounter",
   "metadata": {},
   "outputs": [],
   "source": [
    "genes_info.head()"
   ]
  },
  {
   "cell_type": "markdown",
   "id": "mighty-interface",
   "metadata": {},
   "source": [
    "## Get tissues names"
   ]
  },
  {
   "cell_type": "code",
   "execution_count": null,
   "id": "raising-premiere",
   "metadata": {},
   "outputs": [],
   "source": [
    "db_files = list(conf.PHENOMEXCAN[\"PREDICTION_MODELS\"][\"MASHR\"].glob(\"*.db\"))"
   ]
  },
  {
   "cell_type": "code",
   "execution_count": null,
   "id": "greatest-robinson",
   "metadata": {},
   "outputs": [],
   "source": [
    "assert len(db_files) == 49"
   ]
  },
  {
   "cell_type": "code",
   "execution_count": null,
   "id": "sporting-cookbook",
   "metadata": {},
   "outputs": [],
   "source": [
    "tissues = [str(f).split(\"mashr_\")[1].split(\".db\")[0] for f in db_files]"
   ]
  },
  {
   "cell_type": "code",
   "execution_count": null,
   "id": "unknown-heart",
   "metadata": {},
   "outputs": [],
   "source": [
    "tissues[:5]"
   ]
  },
  {
   "cell_type": "markdown",
   "id": "union-native",
   "metadata": {},
   "source": [
    "# Test: compute correlation in one chromosome"
   ]
  },
  {
   "cell_type": "code",
   "execution_count": null,
   "id": "numerical-ballot",
   "metadata": {},
   "outputs": [],
   "source": [
    "genes_chr = genes_info[genes_info[\"chr\"] == \"1\"]"
   ]
  },
  {
   "cell_type": "code",
   "execution_count": null,
   "id": "renewable-joshua",
   "metadata": {},
   "outputs": [],
   "source": [
    "genes_chr.shape"
   ]
  },
  {
   "cell_type": "code",
   "execution_count": null,
   "id": "centered-haiti",
   "metadata": {},
   "outputs": [],
   "source": [
    "genes_chr.head()"
   ]
  },
  {
   "cell_type": "code",
   "execution_count": null,
   "id": "under-clarity",
   "metadata": {},
   "outputs": [],
   "source": [
    "gene_chr_objs = [Gene(ensembl_id=gene_id) for gene_id in genes_chr[\"id\"]]"
   ]
  },
  {
   "cell_type": "code",
   "execution_count": null,
   "id": "accredited-foundation",
   "metadata": {},
   "outputs": [],
   "source": [
    "len(gene_chr_objs)"
   ]
  },
  {
   "cell_type": "code",
   "execution_count": null,
   "id": "recorded-spread",
   "metadata": {},
   "outputs": [],
   "source": [
    "gene_chr_objs[0].name,gene_chr_objs[1].name"
   ]
  },
  {
   "cell_type": "code",
   "execution_count": null,
   "id": "respective-profit",
   "metadata": {},
   "outputs": [],
   "source": [
    "tissues[0]"
   ]
  },
  {
   "cell_type": "code",
   "execution_count": null,
   "id": "sustainable-there",
   "metadata": {},
   "outputs": [],
   "source": [
    "Gene(\"ENSG00000134686\").get_pred_expression_variance(tissues[0])"
   ]
  },
  {
   "cell_type": "code",
   "execution_count": null,
   "id": "cooked-strike",
   "metadata": {},
   "outputs": [],
   "source": [
    "Gene(\"ENSG00000163221\").get_pred_expression_variance(tissues[0])"
   ]
  },
  {
   "cell_type": "code",
   "execution_count": null,
   "id": "lined-solution",
   "metadata": {},
   "outputs": [],
   "source": [
    "gene_corrs = []\n",
    "\n",
    "n = len(gene_chr_objs)\n",
    "n_comb = int(n * (n - 1) / 2.0)\n",
    "display(n_comb)\n",
    "pbar = tqdm(ncols=100, total=n_comb)\n",
    "\n",
    "i = 0\n",
    "for gene_idx1 in range(0, len(gene_chr_objs) - 1):\n",
    "    gene_obj1 = gene_chr_objs[gene_idx1]\n",
    "    \n",
    "    for gene_idx2 in range(gene_idx1 + 1, len(gene_chr_objs)):\n",
    "        gene_obj2 = gene_chr_objs[gene_idx2]\n",
    "        \n",
    "        try:\n",
    "            gene_corrs.append(gene_obj1.get_expression_correlation(gene_obj2, tissues[0]))\n",
    "#             i = i + 1\n",
    "            pbar.update(1)\n",
    "        except TypeError:\n",
    "            print((gene_obj1.ensembl_id, gene_obj2.ensembl_id))\n",
    "\n",
    "pbar.close()"
   ]
  },
  {
   "cell_type": "code",
   "execution_count": null,
   "id": "verbal-apollo",
   "metadata": {},
   "outputs": [],
   "source": []
  }
 ],
 "metadata": {
  "jupytext": {
   "cell_metadata_filter": "all,-execution,-papermill,-trusted",
   "formats": "ipynb,py//py:percent"
  },
  "kernelspec": {
   "display_name": "Python 3",
   "language": "python",
   "name": "python3"
  },
  "language_info": {
   "codemirror_mode": {
    "name": "ipython",
    "version": 3
   },
   "file_extension": ".py",
   "mimetype": "text/x-python",
   "name": "python",
   "nbconvert_exporter": "python",
   "pygments_lexer": "ipython3",
   "version": "3.8.8"
  }
 },
 "nbformat": 4,
 "nbformat_minor": 5
}
