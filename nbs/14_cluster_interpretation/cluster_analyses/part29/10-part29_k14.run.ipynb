version https://git-lfs.github.com/spec/v1
oid sha256:f9d6a60d8d43fa0bab7f25e4b23379c0e399494ac1fc9b42863b4e4e3795f8ab
size 3660912
