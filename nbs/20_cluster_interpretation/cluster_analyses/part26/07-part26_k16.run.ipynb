version https://git-lfs.github.com/spec/v1
oid sha256:f6e6ec13272574bfcbbd12f18c157df631e3df4615c48a5c3ebf0e4c1153fca5
size 3872930
