version https://git-lfs.github.com/spec/v1
oid sha256:fcf78c68a76c9925245fc47acaa594733cb09ad53c2de5fd4c0fe7b34ab6bee3
size 1826355
