version https://git-lfs.github.com/spec/v1
oid sha256:adf273ac3cc87b02f89315f4a58bc42dc784c34fc04ca70f7eef2d7cffcd44a9
size 3262015
