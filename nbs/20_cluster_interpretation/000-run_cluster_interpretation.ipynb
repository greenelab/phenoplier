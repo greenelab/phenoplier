{
 "cells": [
  {
   "cell_type": "markdown",
   "metadata": {
    "papermill": {
     "duration": 0.033675,
     "end_time": "2021-05-11T18:57:34.044223",
     "exception": false,
     "start_time": "2021-05-11T18:57:34.010548",
     "status": "completed"
    },
    "tags": []
   },
   "source": [
    "# Description"
   ]
  },
  {
   "cell_type": "markdown",
   "metadata": {
    "papermill": {
     "duration": 0.010573,
     "end_time": "2021-05-11T18:57:34.070338",
     "exception": false,
     "start_time": "2021-05-11T18:57:34.059765",
     "status": "completed"
    },
    "tags": []
   },
   "source": [
    "This notebook reads clustering results taking the top 4 partitions with more clusters, and analyzes each cluster providing a list of latent variables (LV) that are driving that cluster. For example, for the hypertension traits, it might find an LV with genes expressed in cardiomyocytes or other potentially related cell types.\n",
    "\n",
    "It uses the `papermill` API to run the notebook `interpret_cluster.run.ipynb` (which serves as a template) for each cluster. Results are saved in folder `cluster_analyses`."
   ]
  },
  {
   "cell_type": "markdown",
   "metadata": {
    "papermill": {
     "duration": 0.007194,
     "end_time": "2021-05-11T18:57:34.085109",
     "exception": false,
     "start_time": "2021-05-11T18:57:34.077915",
     "status": "completed"
    },
    "tags": []
   },
   "source": [
    "# Settings"
   ]
  },
  {
   "cell_type": "code",
   "execution_count": 1,
   "metadata": {
    "execution": {
     "iopub.execute_input": "2021-05-11T18:57:34.104971Z",
     "iopub.status.busy": "2021-05-11T18:57:34.104554Z",
     "iopub.status.idle": "2021-05-11T18:57:34.106737Z",
     "shell.execute_reply": "2021-05-11T18:57:34.106348Z"
    },
    "papermill": {
     "duration": 0.014437,
     "end_time": "2021-05-11T18:57:34.106820",
     "exception": false,
     "start_time": "2021-05-11T18:57:34.092383",
     "status": "completed"
    },
    "tags": []
   },
   "outputs": [],
   "source": [
    "TOP_N_PARTITIONS = 5"
   ]
  },
  {
   "cell_type": "markdown",
   "metadata": {
    "papermill": {
     "duration": 0.007026,
     "end_time": "2021-05-11T18:57:34.121160",
     "exception": false,
     "start_time": "2021-05-11T18:57:34.114134",
     "status": "completed"
    },
    "tags": []
   },
   "source": [
    "# Modules loading"
   ]
  },
  {
   "cell_type": "code",
   "execution_count": 2,
   "metadata": {
    "execution": {
     "iopub.execute_input": "2021-05-11T18:57:34.138555Z",
     "iopub.status.busy": "2021-05-11T18:57:34.138201Z",
     "iopub.status.idle": "2021-05-11T18:57:34.145956Z",
     "shell.execute_reply": "2021-05-11T18:57:34.145601Z"
    },
    "papermill": {
     "duration": 0.017659,
     "end_time": "2021-05-11T18:57:34.146041",
     "exception": false,
     "start_time": "2021-05-11T18:57:34.128382",
     "status": "completed"
    },
    "tags": []
   },
   "outputs": [],
   "source": [
    "%load_ext autoreload\n",
    "%autoreload 2"
   ]
  },
  {
   "cell_type": "code",
   "execution_count": 3,
   "metadata": {
    "execution": {
     "iopub.execute_input": "2021-05-11T18:57:34.164492Z",
     "iopub.status.busy": "2021-05-11T18:57:34.164114Z",
     "iopub.status.idle": "2021-05-11T18:57:34.493629Z",
     "shell.execute_reply": "2021-05-11T18:57:34.493961Z"
    },
    "papermill": {
     "duration": 0.339915,
     "end_time": "2021-05-11T18:57:34.494079",
     "exception": false,
     "start_time": "2021-05-11T18:57:34.154164",
     "status": "completed"
    },
    "tags": []
   },
   "outputs": [],
   "source": [
    "import os\n",
    "import shutil\n",
    "from multiprocessing import Pool\n",
    "import subprocess\n",
    "from pathlib import Path\n",
    "from concurrent.futures import ProcessPoolExecutor, as_completed\n",
    "\n",
    "import pandas as pd\n",
    "import papermill as pm\n",
    "\n",
    "import conf"
   ]
  },
  {
   "cell_type": "markdown",
   "metadata": {
    "papermill": {
     "duration": 0.007909,
     "end_time": "2021-05-11T18:57:34.510587",
     "exception": false,
     "start_time": "2021-05-11T18:57:34.502678",
     "status": "completed"
    },
    "tags": []
   },
   "source": [
    "# Load best partitions"
   ]
  },
  {
   "cell_type": "code",
   "execution_count": 4,
   "metadata": {
    "execution": {
     "iopub.execute_input": "2021-05-11T18:57:34.528431Z",
     "iopub.status.busy": "2021-05-11T18:57:34.528078Z",
     "iopub.status.idle": "2021-05-11T18:57:34.541281Z",
     "shell.execute_reply": "2021-05-11T18:57:34.540919Z"
    },
    "papermill": {
     "duration": 0.023125,
     "end_time": "2021-05-11T18:57:34.541362",
     "exception": false,
     "start_time": "2021-05-11T18:57:34.518237",
     "status": "completed"
    },
    "tags": []
   },
   "outputs": [
    {
     "data": {
      "text/plain": [
       "PosixPath('/home/miltondp/projects/labs/greenelab/phenoplier/base/results/clustering/consensus_clustering')"
      ]
     },
     "metadata": {},
     "output_type": "display_data"
    }
   ],
   "source": [
    "CONSENSUS_CLUSTERING_DIR = Path(\n",
    "    conf.RESULTS[\"CLUSTERING_DIR\"], \"consensus_clustering\"\n",
    ").resolve()\n",
    "\n",
    "display(CONSENSUS_CLUSTERING_DIR)"
   ]
  },
  {
   "cell_type": "code",
   "execution_count": 5,
   "metadata": {
    "execution": {
     "iopub.execute_input": "2021-05-11T18:57:34.559399Z",
     "iopub.status.busy": "2021-05-11T18:57:34.559039Z",
     "iopub.status.idle": "2021-05-11T18:57:34.568171Z",
     "shell.execute_reply": "2021-05-11T18:57:34.567820Z"
    },
    "papermill": {
     "duration": 0.018841,
     "end_time": "2021-05-11T18:57:34.568253",
     "exception": false,
     "start_time": "2021-05-11T18:57:34.549412",
     "status": "completed"
    },
    "tags": []
   },
   "outputs": [
    {
     "data": {
      "text/plain": [
       "PosixPath('/home/miltondp/projects/labs/greenelab/phenoplier/base/results/clustering/consensus_clustering/best_partitions_by_k.pkl')"
      ]
     },
     "metadata": {},
     "output_type": "display_data"
    }
   ],
   "source": [
    "input_file = Path(CONSENSUS_CLUSTERING_DIR, \"best_partitions_by_k.pkl\").resolve()\n",
    "display(input_file)"
   ]
  },
  {
   "cell_type": "code",
   "execution_count": 6,
   "metadata": {
    "execution": {
     "iopub.execute_input": "2021-05-11T18:57:34.586796Z",
     "iopub.status.busy": "2021-05-11T18:57:34.586446Z",
     "iopub.status.idle": "2021-05-11T18:57:34.596288Z",
     "shell.execute_reply": "2021-05-11T18:57:34.595971Z"
    },
    "papermill": {
     "duration": 0.019894,
     "end_time": "2021-05-11T18:57:34.596371",
     "exception": false,
     "start_time": "2021-05-11T18:57:34.576477",
     "status": "completed"
    },
    "tags": []
   },
   "outputs": [],
   "source": [
    "best_partitions = pd.read_pickle(input_file)"
   ]
  },
  {
   "cell_type": "code",
   "execution_count": 7,
   "metadata": {
    "execution": {
     "iopub.execute_input": "2021-05-11T18:57:34.615122Z",
     "iopub.status.busy": "2021-05-11T18:57:34.614752Z",
     "iopub.status.idle": "2021-05-11T18:57:34.623311Z",
     "shell.execute_reply": "2021-05-11T18:57:34.622940Z"
    },
    "papermill": {
     "duration": 0.018712,
     "end_time": "2021-05-11T18:57:34.623394",
     "exception": false,
     "start_time": "2021-05-11T18:57:34.604682",
     "status": "completed"
    },
    "tags": []
   },
   "outputs": [],
   "source": [
    "assert best_partitions.index.is_unique"
   ]
  },
  {
   "cell_type": "code",
   "execution_count": 8,
   "metadata": {
    "execution": {
     "iopub.execute_input": "2021-05-11T18:57:34.641952Z",
     "iopub.status.busy": "2021-05-11T18:57:34.641583Z",
     "iopub.status.idle": "2021-05-11T18:57:34.652235Z",
     "shell.execute_reply": "2021-05-11T18:57:34.651925Z"
    },
    "papermill": {
     "duration": 0.020578,
     "end_time": "2021-05-11T18:57:34.652319",
     "exception": false,
     "start_time": "2021-05-11T18:57:34.631741",
     "status": "completed"
    },
    "tags": []
   },
   "outputs": [
    {
     "data": {
      "text/plain": [
       "(59, 4)"
      ]
     },
     "execution_count": 8,
     "metadata": {},
     "output_type": "execute_result"
    }
   ],
   "source": [
    "best_partitions.shape"
   ]
  },
  {
   "cell_type": "code",
   "execution_count": 9,
   "metadata": {
    "execution": {
     "iopub.execute_input": "2021-05-11T18:57:34.671073Z",
     "iopub.status.busy": "2021-05-11T18:57:34.670704Z",
     "iopub.status.idle": "2021-05-11T18:57:34.689465Z",
     "shell.execute_reply": "2021-05-11T18:57:34.689156Z"
    },
    "papermill": {
     "duration": 0.028866,
     "end_time": "2021-05-11T18:57:34.689553",
     "exception": false,
     "start_time": "2021-05-11T18:57:34.660687",
     "status": "completed"
    },
    "tags": []
   },
   "outputs": [
    {
     "data": {
      "text/html": [
       "<div>\n",
       "<style scoped>\n",
       "    .dataframe tbody tr th:only-of-type {\n",
       "        vertical-align: middle;\n",
       "    }\n",
       "\n",
       "    .dataframe tbody tr th {\n",
       "        vertical-align: top;\n",
       "    }\n",
       "\n",
       "    .dataframe thead th {\n",
       "        text-align: right;\n",
       "    }\n",
       "</style>\n",
       "<table border=\"1\" class=\"dataframe\">\n",
       "  <thead>\n",
       "    <tr style=\"text-align: right;\">\n",
       "      <th></th>\n",
       "      <th>method</th>\n",
       "      <th>partition</th>\n",
       "      <th>ari_median</th>\n",
       "      <th>selected</th>\n",
       "    </tr>\n",
       "    <tr>\n",
       "      <th>k</th>\n",
       "      <th></th>\n",
       "      <th></th>\n",
       "      <th></th>\n",
       "      <th></th>\n",
       "    </tr>\n",
       "  </thead>\n",
       "  <tbody>\n",
       "    <tr>\n",
       "      <th>14</th>\n",
       "      <td>scc_025</td>\n",
       "      <td>[0, 0, 0, 0, 0, 0, 0, 0, 0, 0, 0, 0, 0, 0, 0, ...</td>\n",
       "      <td>0.090117</td>\n",
       "      <td>True</td>\n",
       "    </tr>\n",
       "    <tr>\n",
       "      <th>22</th>\n",
       "      <td>scc_020</td>\n",
       "      <td>[13, 18, 18, 18, 18, 18, 18, 18, 18, 13, 18, 1...</td>\n",
       "      <td>0.090100</td>\n",
       "      <td>True</td>\n",
       "    </tr>\n",
       "    <tr>\n",
       "      <th>13</th>\n",
       "      <td>scc_025</td>\n",
       "      <td>[0, 0, 0, 0, 0, 0, 0, 0, 0, 0, 0, 0, 0, 0, 0, ...</td>\n",
       "      <td>0.089920</td>\n",
       "      <td>True</td>\n",
       "    </tr>\n",
       "    <tr>\n",
       "      <th>12</th>\n",
       "      <td>scc_025</td>\n",
       "      <td>[0, 0, 0, 0, 0, 0, 0, 0, 0, 0, 0, 0, 0, 0, 0, ...</td>\n",
       "      <td>0.089894</td>\n",
       "      <td>True</td>\n",
       "    </tr>\n",
       "    <tr>\n",
       "      <th>11</th>\n",
       "      <td>scc_025</td>\n",
       "      <td>[0, 0, 0, 0, 0, 0, 0, 0, 0, 0, 0, 0, 0, 0, 0, ...</td>\n",
       "      <td>0.089616</td>\n",
       "      <td>True</td>\n",
       "    </tr>\n",
       "  </tbody>\n",
       "</table>\n",
       "</div>"
      ],
      "text/plain": [
       "     method                                          partition  ari_median  \\\n",
       "k                                                                            \n",
       "14  scc_025  [0, 0, 0, 0, 0, 0, 0, 0, 0, 0, 0, 0, 0, 0, 0, ...    0.090117   \n",
       "22  scc_020  [13, 18, 18, 18, 18, 18, 18, 18, 18, 13, 18, 1...    0.090100   \n",
       "13  scc_025  [0, 0, 0, 0, 0, 0, 0, 0, 0, 0, 0, 0, 0, 0, 0, ...    0.089920   \n",
       "12  scc_025  [0, 0, 0, 0, 0, 0, 0, 0, 0, 0, 0, 0, 0, 0, 0, ...    0.089894   \n",
       "11  scc_025  [0, 0, 0, 0, 0, 0, 0, 0, 0, 0, 0, 0, 0, 0, 0, ...    0.089616   \n",
       "\n",
       "    selected  \n",
       "k             \n",
       "14      True  \n",
       "22      True  \n",
       "13      True  \n",
       "12      True  \n",
       "11      True  "
      ]
     },
     "execution_count": 9,
     "metadata": {},
     "output_type": "execute_result"
    }
   ],
   "source": [
    "best_partitions.head()"
   ]
  },
  {
   "cell_type": "markdown",
   "metadata": {
    "papermill": {
     "duration": 0.00844,
     "end_time": "2021-05-11T18:57:34.706771",
     "exception": false,
     "start_time": "2021-05-11T18:57:34.698331",
     "status": "completed"
    },
    "tags": []
   },
   "source": [
    "# Select top k partitions"
   ]
  },
  {
   "cell_type": "code",
   "execution_count": 10,
   "metadata": {
    "execution": {
     "iopub.execute_input": "2021-05-11T18:57:34.726184Z",
     "iopub.status.busy": "2021-05-11T18:57:34.725832Z",
     "iopub.status.idle": "2021-05-11T18:57:34.735548Z",
     "shell.execute_reply": "2021-05-11T18:57:34.735216Z"
    },
    "papermill": {
     "duration": 0.020277,
     "end_time": "2021-05-11T18:57:34.735629",
     "exception": false,
     "start_time": "2021-05-11T18:57:34.715352",
     "status": "completed"
    },
    "tags": []
   },
   "outputs": [
    {
     "data": {
      "text/plain": [
       "Int64Index([29, 26, 25, 22, 16], dtype='int64', name='k')"
      ]
     },
     "metadata": {},
     "output_type": "display_data"
    }
   ],
   "source": [
    "# I take the top TOP_N_PARTITIONS partitions (according to their number of clusters).\n",
    "# These are the partitions that will be analyzed in the manuscript.\n",
    "selected_partition_ks = best_partitions[best_partitions[\"selected\"]].index.sort_values(\n",
    "    ascending=False\n",
    ")[:TOP_N_PARTITIONS]\n",
    "\n",
    "display(selected_partition_ks)"
   ]
  },
  {
   "cell_type": "markdown",
   "metadata": {
    "papermill": {
     "duration": 0.008511,
     "end_time": "2021-05-11T18:57:34.752896",
     "exception": false,
     "start_time": "2021-05-11T18:57:34.744385",
     "status": "completed"
    },
    "tags": []
   },
   "source": [
    "# Run interpretation"
   ]
  },
  {
   "cell_type": "code",
   "execution_count": 11,
   "metadata": {
    "execution": {
     "iopub.execute_input": "2021-05-11T18:57:34.772379Z",
     "iopub.status.busy": "2021-05-11T18:57:34.772023Z",
     "iopub.status.idle": "2021-05-11T18:57:34.781196Z",
     "shell.execute_reply": "2021-05-11T18:57:34.780833Z"
    },
    "papermill": {
     "duration": 0.019902,
     "end_time": "2021-05-11T18:57:34.781277",
     "exception": false,
     "start_time": "2021-05-11T18:57:34.761375",
     "status": "completed"
    },
    "tags": []
   },
   "outputs": [
    {
     "data": {
      "text/plain": [
       "PosixPath('/home/miltondp/projects/labs/greenelab/phenoplier/nbs/20_cluster_interpretation/cluster_analyses')"
      ]
     },
     "metadata": {},
     "output_type": "display_data"
    }
   ],
   "source": [
    "CLUSTER_ANALYSIS_OUTPUT_DIR = Path(\n",
    "    conf.RESULTS[\"CLUSTERING_INTERPRETATION\"][\"CLUSTERS_STATS\"],\n",
    "    \"cluster_analyses\",\n",
    ").resolve()\n",
    "display(CLUSTER_ANALYSIS_OUTPUT_DIR)"
   ]
  },
  {
   "cell_type": "code",
   "execution_count": 12,
   "metadata": {
    "execution": {
     "iopub.execute_input": "2021-05-11T18:57:34.801388Z",
     "iopub.status.busy": "2021-05-11T18:57:34.801011Z",
     "iopub.status.idle": "2021-05-11T18:57:34.849429Z",
     "shell.execute_reply": "2021-05-11T18:57:34.849745Z"
    },
    "papermill": {
     "duration": 0.059605,
     "end_time": "2021-05-11T18:57:34.849860",
     "exception": false,
     "start_time": "2021-05-11T18:57:34.790255",
     "status": "completed"
    },
    "tags": []
   },
   "outputs": [],
   "source": [
    "# first delete all ipynb files in output directory\n",
    "for f in CLUSTER_ANALYSIS_OUTPUT_DIR.rglob(\"*.ipynb\"):\n",
    "    f.unlink()"
   ]
  },
  {
   "cell_type": "code",
   "execution_count": 13,
   "metadata": {
    "execution": {
     "iopub.execute_input": "2021-05-11T18:57:34.871370Z",
     "iopub.status.busy": "2021-05-11T18:57:34.870984Z",
     "iopub.status.idle": "2021-05-11T18:57:34.879887Z",
     "shell.execute_reply": "2021-05-11T18:57:34.879499Z"
    },
    "papermill": {
     "duration": 0.02016,
     "end_time": "2021-05-11T18:57:34.879972",
     "exception": false,
     "start_time": "2021-05-11T18:57:34.859812",
     "status": "completed"
    },
    "tags": []
   },
   "outputs": [],
   "source": [
    "CLUSTER_ANALYSIS_OUTPUT_DIR.mkdir(exist_ok=True)"
   ]
  },
  {
   "cell_type": "code",
   "execution_count": 14,
   "metadata": {
    "execution": {
     "iopub.execute_input": "2021-05-11T18:57:34.902065Z",
     "iopub.status.busy": "2021-05-11T18:57:34.901670Z",
     "iopub.status.idle": "2021-05-11T18:57:34.910790Z",
     "shell.execute_reply": "2021-05-11T18:57:34.910396Z"
    },
    "papermill": {
     "duration": 0.021486,
     "end_time": "2021-05-11T18:57:34.910876",
     "exception": false,
     "start_time": "2021-05-11T18:57:34.889390",
     "status": "completed"
    },
    "tags": []
   },
   "outputs": [],
   "source": [
    "def run_notebook(input_nb, output_nb, parameters, environment):\n",
    "    options = []\n",
    "    for k, v in parameters.items():\n",
    "        options.append(\"-p\")\n",
    "        options.append(str(k))\n",
    "        options.append(str(v))\n",
    "\n",
    "    cmdlist = (\n",
    "        [\"papermill\"]\n",
    "        + [\n",
    "            f\"'{input_nb}'\",\n",
    "            f\"'{output_nb}'\",\n",
    "        ]\n",
    "        + options\n",
    "    )\n",
    "    cmdlist = \" \".join(cmdlist)\n",
    "\n",
    "    res = subprocess.run(\n",
    "        cmdlist,\n",
    "        shell=True,\n",
    "        stdout=subprocess.PIPE,\n",
    "        stderr=subprocess.STDOUT,\n",
    "        env=environment,\n",
    "        text=True,\n",
    "    )\n",
    "    return cmdlist, res"
   ]
  },
  {
   "cell_type": "code",
   "execution_count": 15,
   "metadata": {
    "execution": {
     "iopub.execute_input": "2021-05-11T18:57:34.934793Z",
     "iopub.status.busy": "2021-05-11T18:57:34.934391Z",
     "iopub.status.idle": "2021-05-11T21:42:45.110576Z",
     "shell.execute_reply": "2021-05-11T21:42:45.110082Z"
    },
    "papermill": {
     "duration": 9910.190381,
     "end_time": "2021-05-11T21:42:45.110682",
     "exception": false,
     "start_time": "2021-05-11T18:57:34.920301",
     "status": "completed"
    },
    "tags": []
   },
   "outputs": [
    {
     "name": "stdout",
     "output_type": "stream",
     "text": [
      "Partition k:29\n"
     ]
    },
    {
     "name": "stdout",
     "output_type": "stream",
     "text": [
      "  Cluster: 28\n"
     ]
    },
    {
     "name": "stdout",
     "output_type": "stream",
     "text": [
      "  Cluster: 25\n"
     ]
    },
    {
     "name": "stdout",
     "output_type": "stream",
     "text": [
      "  Cluster: 27\n"
     ]
    },
    {
     "name": "stdout",
     "output_type": "stream",
     "text": [
      "  Cluster: 20\n"
     ]
    },
    {
     "name": "stdout",
     "output_type": "stream",
     "text": [
      "  Cluster: 19\n"
     ]
    },
    {
     "name": "stdout",
     "output_type": "stream",
     "text": [
      "  Cluster: 22\n"
     ]
    },
    {
     "name": "stdout",
     "output_type": "stream",
     "text": [
      "  Cluster: 17\n"
     ]
    },
    {
     "name": "stdout",
     "output_type": "stream",
     "text": [
      "  Cluster: 18\n"
     ]
    },
    {
     "name": "stdout",
     "output_type": "stream",
     "text": [
      "  Cluster: 15\n"
     ]
    },
    {
     "name": "stdout",
     "output_type": "stream",
     "text": [
      "  Cluster: 13\n"
     ]
    },
    {
     "name": "stdout",
     "output_type": "stream",
     "text": [
      "  Cluster: 14\n"
     ]
    },
    {
     "name": "stdout",
     "output_type": "stream",
     "text": [
      "  Cluster: 9\n"
     ]
    },
    {
     "name": "stdout",
     "output_type": "stream",
     "text": [
      "  Cluster: 10\n"
     ]
    },
    {
     "name": "stdout",
     "output_type": "stream",
     "text": [
      "  Cluster: 6\n"
     ]
    },
    {
     "name": "stdout",
     "output_type": "stream",
     "text": [
      "  Cluster: 21\n"
     ]
    },
    {
     "name": "stdout",
     "output_type": "stream",
     "text": [
      "  Cluster: 16\n"
     ]
    },
    {
     "name": "stdout",
     "output_type": "stream",
     "text": [
      "  Cluster: 11\n"
     ]
    },
    {
     "name": "stdout",
     "output_type": "stream",
     "text": [
      "  Cluster: 4\n"
     ]
    },
    {
     "name": "stdout",
     "output_type": "stream",
     "text": [
      "  Cluster: 1\n"
     ]
    },
    {
     "name": "stdout",
     "output_type": "stream",
     "text": [
      "  Cluster: 12\n"
     ]
    },
    {
     "name": "stdout",
     "output_type": "stream",
     "text": [
      "  Cluster: 2\n"
     ]
    },
    {
     "name": "stdout",
     "output_type": "stream",
     "text": [
      "  Cluster: 3\n"
     ]
    },
    {
     "name": "stdout",
     "output_type": "stream",
     "text": [
      "  Cluster: 5\n"
     ]
    },
    {
     "name": "stdout",
     "output_type": "stream",
     "text": [
      "  Cluster: 24\n"
     ]
    },
    {
     "name": "stdout",
     "output_type": "stream",
     "text": [
      "  Cluster: 7\n"
     ]
    },
    {
     "name": "stdout",
     "output_type": "stream",
     "text": [
      "  Cluster: 8\n"
     ]
    },
    {
     "name": "stdout",
     "output_type": "stream",
     "text": [
      "  Cluster: 26\n"
     ]
    },
    {
     "name": "stdout",
     "output_type": "stream",
     "text": [
      "  Cluster: 23\n"
     ]
    },
    {
     "name": "stdout",
     "output_type": "stream",
     "text": [
      "Partition k:26\n"
     ]
    },
    {
     "name": "stdout",
     "output_type": "stream",
     "text": [
      "  Cluster: 25\n"
     ]
    },
    {
     "name": "stdout",
     "output_type": "stream",
     "text": [
      "  Cluster: 24\n"
     ]
    },
    {
     "name": "stdout",
     "output_type": "stream",
     "text": [
      "  Cluster: 18\n"
     ]
    },
    {
     "name": "stdout",
     "output_type": "stream",
     "text": [
      "  Cluster: 17\n"
     ]
    },
    {
     "name": "stdout",
     "output_type": "stream",
     "text": [
      "  Cluster: 13\n"
     ]
    },
    {
     "name": "stdout",
     "output_type": "stream",
     "text": [
      "  Cluster: 21\n"
     ]
    },
    {
     "name": "stdout",
     "output_type": "stream",
     "text": [
      "  Cluster: 14\n"
     ]
    },
    {
     "name": "stdout",
     "output_type": "stream",
     "text": [
      "  Cluster: 16\n"
     ]
    },
    {
     "name": "stdout",
     "output_type": "stream",
     "text": [
      "  Cluster: 12\n"
     ]
    },
    {
     "name": "stdout",
     "output_type": "stream",
     "text": [
      "  Cluster: 15\n"
     ]
    },
    {
     "name": "stdout",
     "output_type": "stream",
     "text": [
      "  Cluster: 19\n"
     ]
    },
    {
     "name": "stdout",
     "output_type": "stream",
     "text": [
      "  Cluster: 6\n"
     ]
    },
    {
     "name": "stdout",
     "output_type": "stream",
     "text": [
      "  Cluster: 11\n"
     ]
    },
    {
     "name": "stdout",
     "output_type": "stream",
     "text": [
      "  Cluster: 5\n"
     ]
    },
    {
     "name": "stdout",
     "output_type": "stream",
     "text": [
      "  Cluster: 7\n"
     ]
    },
    {
     "name": "stdout",
     "output_type": "stream",
     "text": [
      "  Cluster: 10\n"
     ]
    },
    {
     "name": "stdout",
     "output_type": "stream",
     "text": [
      "  Cluster: 4\n"
     ]
    },
    {
     "name": "stdout",
     "output_type": "stream",
     "text": [
      "  Cluster: 1\n"
     ]
    },
    {
     "name": "stdout",
     "output_type": "stream",
     "text": [
      "  Cluster: 3\n"
     ]
    },
    {
     "name": "stdout",
     "output_type": "stream",
     "text": [
      "  Cluster: 2\n"
     ]
    },
    {
     "name": "stdout",
     "output_type": "stream",
     "text": [
      "  Cluster: 20\n"
     ]
    },
    {
     "name": "stdout",
     "output_type": "stream",
     "text": [
      "  Cluster: 9\n"
     ]
    },
    {
     "name": "stdout",
     "output_type": "stream",
     "text": [
      "  Cluster: 8\n"
     ]
    },
    {
     "name": "stdout",
     "output_type": "stream",
     "text": [
      "  Cluster: 23\n"
     ]
    },
    {
     "name": "stdout",
     "output_type": "stream",
     "text": [
      "  Cluster: 22\n"
     ]
    },
    {
     "name": "stdout",
     "output_type": "stream",
     "text": [
      "Partition k:25\n"
     ]
    },
    {
     "name": "stdout",
     "output_type": "stream",
     "text": [
      "  Cluster: 24\n"
     ]
    },
    {
     "name": "stdout",
     "output_type": "stream",
     "text": [
      "  Cluster: 23\n"
     ]
    },
    {
     "name": "stdout",
     "output_type": "stream",
     "text": [
      "  Cluster: 17\n"
     ]
    },
    {
     "name": "stdout",
     "output_type": "stream",
     "text": [
      "  Cluster: 19\n"
     ]
    },
    {
     "name": "stdout",
     "output_type": "stream",
     "text": [
      "  Cluster: 13\n"
     ]
    },
    {
     "name": "stdout",
     "output_type": "stream",
     "text": [
      "  Cluster: 21\n"
     ]
    },
    {
     "name": "stdout",
     "output_type": "stream",
     "text": [
      "  Cluster: 14\n"
     ]
    },
    {
     "name": "stdout",
     "output_type": "stream",
     "text": [
      "  Cluster: 15\n"
     ]
    },
    {
     "name": "stdout",
     "output_type": "stream",
     "text": [
      "  Cluster: 11\n"
     ]
    },
    {
     "name": "stdout",
     "output_type": "stream",
     "text": [
      "  Cluster: 16\n"
     ]
    },
    {
     "name": "stdout",
     "output_type": "stream",
     "text": [
      "  Cluster: 10\n"
     ]
    },
    {
     "name": "stdout",
     "output_type": "stream",
     "text": [
      "  Cluster: 8\n"
     ]
    },
    {
     "name": "stdout",
     "output_type": "stream",
     "text": [
      "  Cluster: 12\n"
     ]
    },
    {
     "name": "stdout",
     "output_type": "stream",
     "text": [
      "  Cluster: 5\n"
     ]
    },
    {
     "name": "stdout",
     "output_type": "stream",
     "text": [
      "  Cluster: 6\n"
     ]
    },
    {
     "name": "stdout",
     "output_type": "stream",
     "text": [
      "  Cluster: 9\n"
     ]
    },
    {
     "name": "stdout",
     "output_type": "stream",
     "text": [
      "  Cluster: 2\n"
     ]
    },
    {
     "name": "stdout",
     "output_type": "stream",
     "text": [
      "  Cluster: 4\n"
     ]
    },
    {
     "name": "stdout",
     "output_type": "stream",
     "text": [
      "  Cluster: 18\n"
     ]
    },
    {
     "name": "stdout",
     "output_type": "stream",
     "text": [
      "  Cluster: 1\n"
     ]
    },
    {
     "name": "stdout",
     "output_type": "stream",
     "text": [
      "  Cluster: 3\n"
     ]
    },
    {
     "name": "stdout",
     "output_type": "stream",
     "text": [
      "  Cluster: 20\n"
     ]
    },
    {
     "name": "stdout",
     "output_type": "stream",
     "text": [
      "  Cluster: 7\n"
     ]
    },
    {
     "name": "stdout",
     "output_type": "stream",
     "text": [
      "  Cluster: 22\n"
     ]
    },
    {
     "name": "stdout",
     "output_type": "stream",
     "text": [
      "Partition k:22\n"
     ]
    },
    {
     "name": "stdout",
     "output_type": "stream",
     "text": [
      "  Cluster: 0\n"
     ]
    },
    {
     "name": "stdout",
     "output_type": "stream",
     "text": [
      "  Cluster: 19\n"
     ]
    },
    {
     "name": "stdout",
     "output_type": "stream",
     "text": [
      "  Cluster: 20\n"
     ]
    },
    {
     "name": "stdout",
     "output_type": "stream",
     "text": [
      "  Cluster: 18\n"
     ]
    },
    {
     "name": "stdout",
     "output_type": "stream",
     "text": [
      "  Cluster: 9\n"
     ]
    },
    {
     "name": "stdout",
     "output_type": "stream",
     "text": [
      "  Cluster: 15\n"
     ]
    },
    {
     "name": "stdout",
     "output_type": "stream",
     "text": [
      "  Cluster: 16\n"
     ]
    },
    {
     "name": "stdout",
     "output_type": "stream",
     "text": [
      "  Cluster: 14\n"
     ]
    },
    {
     "name": "stdout",
     "output_type": "stream",
     "text": [
      "  Cluster: 8\n"
     ]
    },
    {
     "name": "stdout",
     "output_type": "stream",
     "text": [
      "  Cluster: 17\n"
     ]
    },
    {
     "name": "stdout",
     "output_type": "stream",
     "text": [
      "  Cluster: 12\n"
     ]
    },
    {
     "name": "stdout",
     "output_type": "stream",
     "text": [
      "  Cluster: 10\n"
     ]
    },
    {
     "name": "stdout",
     "output_type": "stream",
     "text": [
      "  Cluster: 5\n"
     ]
    },
    {
     "name": "stdout",
     "output_type": "stream",
     "text": [
      "  Cluster: 7\n"
     ]
    },
    {
     "name": "stdout",
     "output_type": "stream",
     "text": [
      "  Cluster: 6\n"
     ]
    },
    {
     "name": "stdout",
     "output_type": "stream",
     "text": [
      "  Cluster: 1\n"
     ]
    },
    {
     "name": "stdout",
     "output_type": "stream",
     "text": [
      "  Cluster: 11\n"
     ]
    },
    {
     "name": "stdout",
     "output_type": "stream",
     "text": [
      "  Cluster: 3\n"
     ]
    },
    {
     "name": "stdout",
     "output_type": "stream",
     "text": [
      "  Cluster: 4\n"
     ]
    },
    {
     "name": "stdout",
     "output_type": "stream",
     "text": [
      "  Cluster: 2\n"
     ]
    },
    {
     "name": "stdout",
     "output_type": "stream",
     "text": [
      "  Cluster: 21\n"
     ]
    },
    {
     "name": "stdout",
     "output_type": "stream",
     "text": [
      "Partition k:16\n"
     ]
    },
    {
     "name": "stdout",
     "output_type": "stream",
     "text": [
      "  Cluster: 15\n"
     ]
    },
    {
     "name": "stdout",
     "output_type": "stream",
     "text": [
      "  Cluster: 10\n"
     ]
    },
    {
     "name": "stdout",
     "output_type": "stream",
     "text": [
      "  Cluster: 9\n"
     ]
    },
    {
     "name": "stdout",
     "output_type": "stream",
     "text": [
      "  Cluster: 12\n"
     ]
    },
    {
     "name": "stdout",
     "output_type": "stream",
     "text": [
      "  Cluster: 2\n"
     ]
    },
    {
     "name": "stdout",
     "output_type": "stream",
     "text": [
      "  Cluster: 1\n"
     ]
    },
    {
     "name": "stdout",
     "output_type": "stream",
     "text": [
      "  Cluster: 6\n"
     ]
    },
    {
     "name": "stdout",
     "output_type": "stream",
     "text": [
      "  Cluster: 4\n"
     ]
    },
    {
     "name": "stdout",
     "output_type": "stream",
     "text": [
      "  Cluster: 14\n"
     ]
    },
    {
     "name": "stdout",
     "output_type": "stream",
     "text": [
      "  Cluster: 8\n"
     ]
    },
    {
     "name": "stdout",
     "output_type": "stream",
     "text": [
      "  Cluster: 13\n"
     ]
    },
    {
     "name": "stdout",
     "output_type": "stream",
     "text": [
      "  Cluster: 5\n"
     ]
    },
    {
     "name": "stdout",
     "output_type": "stream",
     "text": [
      "  Cluster: 11\n"
     ]
    },
    {
     "name": "stdout",
     "output_type": "stream",
     "text": [
      "  Cluster: 3\n"
     ]
    },
    {
     "name": "stdout",
     "output_type": "stream",
     "text": [
      "  Cluster: 7\n"
     ]
    }
   ],
   "source": [
    "tasks = {}\n",
    "\n",
    "with Pool(conf.GENERAL[\"N_JOBS\"]) as pool:\n",
    "    for part_k in selected_partition_ks:\n",
    "        print(f\"Partition k:{part_k}\", flush=True)\n",
    "\n",
    "        output_folder = Path(CLUSTER_ANALYSIS_OUTPUT_DIR, f\"part{part_k}\").resolve()\n",
    "        shutil.rmtree(output_folder, ignore_errors=True)\n",
    "        output_folder.mkdir()\n",
    "\n",
    "        part = best_partitions.loc[part_k, \"partition\"]\n",
    "        part_clusters = pd.Series(part).value_counts()\n",
    "\n",
    "        # always skip the biggest cluster in each partition\n",
    "        for c_size_idx, c in enumerate(part_clusters.index[1:]):\n",
    "            print(f\"  Cluster: {c}\", flush=True)\n",
    "\n",
    "            input_nb = Path(\n",
    "                conf.RESULTS[\"CLUSTERING_INTERPRETATION\"][\"CLUSTERS_STATS\"],\n",
    "                \"interpret_cluster.run.ipynb\",\n",
    "            ).resolve()\n",
    "\n",
    "            output_nb = Path(\n",
    "                output_folder, f\"{c_size_idx:02}-part{part_k}_k{c}.run.ipynb\"\n",
    "            ).resolve()\n",
    "\n",
    "            parameters = dict(PARTITION_K=part_k, PARTITION_CLUSTER_ID=c)\n",
    "\n",
    "            res = pool.apply_async(\n",
    "                run_notebook,\n",
    "                (\n",
    "                    input_nb,\n",
    "                    output_nb,\n",
    "                    parameters,\n",
    "                    {k: v for k, v in os.environ.items()},\n",
    "                ),\n",
    "            )\n",
    "            tasks[f\"{part_k}_k{c}\"] = res\n",
    "\n",
    "    pool.close()\n",
    "\n",
    "    # show errors, if any\n",
    "    for k, t in tasks.items():\n",
    "        t.wait()\n",
    "\n",
    "        cmd, out = t.get()\n",
    "        if out.returncode != 0:\n",
    "            display(k)\n",
    "            print(cmd)\n",
    "            print(out.stdout)\n",
    "\n",
    "            pool.terminate()\n",
    "            break"
   ]
  },
  {
   "cell_type": "code",
   "execution_count": null,
   "metadata": {
    "papermill": {
     "duration": 0.028469,
     "end_time": "2021-05-11T21:42:45.173602",
     "exception": false,
     "start_time": "2021-05-11T21:42:45.145133",
     "status": "completed"
    },
    "tags": []
   },
   "outputs": [],
   "source": []
  }
 ],
 "metadata": {
  "jupytext": {
   "cell_metadata_filter": "all,-execution,-papermill,-trusted",
   "formats": "ipynb,py//py:percent"
  },
  "kernelspec": {
   "display_name": "Python 3",
   "language": "python",
   "name": "python3"
  },
  "language_info": {
   "codemirror_mode": {
    "name": "ipython",
    "version": 3
   },
   "file_extension": ".py",
   "mimetype": "text/x-python",
   "name": "python",
   "nbconvert_exporter": "python",
   "pygments_lexer": "ipython3",
   "version": "3.8.8"
  },
  "papermill": {
   "default_parameters": {},
   "duration": 9912.477697,
   "end_time": "2021-05-11T21:42:45.506813",
   "environment_variables": {},
   "exception": null,
   "input_path": "20_cluster_interpretation/000-run_cluster_interpretation.ipynb",
   "output_path": "20_cluster_interpretation/000-run_cluster_interpretation.run.ipynb",
   "parameters": {},
   "start_time": "2021-05-11T18:57:33.029116",
   "version": "2.2.2"
  },
  "toc-autonumbering": true
 },
 "nbformat": 4,
 "nbformat_minor": 4
}
