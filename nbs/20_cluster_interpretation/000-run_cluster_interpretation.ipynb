{
 "cells": [
  {
   "cell_type": "markdown",
   "metadata": {},
   "source": [
    "# Description"
   ]
  },
  {
   "cell_type": "markdown",
   "metadata": {},
   "source": [
    "TODO: this notebook analyze all clusters from the selected partitions"
   ]
  },
  {
   "cell_type": "markdown",
   "metadata": {},
   "source": [
    "# Modules loading"
   ]
  },
  {
   "cell_type": "code",
   "execution_count": null,
   "metadata": {},
   "outputs": [],
   "source": [
    "%load_ext autoreload\n",
    "%autoreload 2"
   ]
  },
  {
   "cell_type": "code",
   "execution_count": null,
   "metadata": {},
   "outputs": [],
   "source": [
    "# import re\n",
    "import shutil\n",
    "import subprocess\n",
    "from pathlib import Path\n",
    "from concurrent.futures import ProcessPoolExecutor, as_completed\n",
    "\n",
    "# import numpy as np\n",
    "import pandas as pd\n",
    "import papermill as pm\n",
    "# import matplotlib.pyplot as plt\n",
    "# import seaborn as sns\n",
    "# from IPython.display import HTML\n",
    "\n",
    "# from clustering.methods import ClusterInterpreter\n",
    "# from data.recount2 import LVAnalysis\n",
    "# from data.cache import read_data\n",
    "# from utils import generate_result_set_name\n",
    "import conf"
   ]
  },
  {
   "cell_type": "markdown",
   "metadata": {},
   "source": [
    "# Settings"
   ]
  },
  {
   "cell_type": "code",
   "execution_count": null,
   "metadata": {
    "tags": [
     "parameters"
    ]
   },
   "outputs": [],
   "source": [
    "# select which partitions' clusters will be analyzed\n",
    "PARTITION_Ks = [45, 41, 38, 28]"
   ]
  },
  {
   "cell_type": "markdown",
   "metadata": {},
   "source": [
    "# Load best partitions"
   ]
  },
  {
   "cell_type": "code",
   "execution_count": null,
   "metadata": {},
   "outputs": [],
   "source": [
    "# output dir for this notebook\n",
    "CONSENSUS_CLUSTERING_DIR = Path(\n",
    "    conf.RESULTS[\"CLUSTERING_DIR\"], \"consensus_clustering\"\n",
    ").resolve()\n",
    "\n",
    "display(CONSENSUS_CLUSTERING_DIR)"
   ]
  },
  {
   "cell_type": "code",
   "execution_count": null,
   "metadata": {},
   "outputs": [],
   "source": [
    "input_file = Path(CONSENSUS_CLUSTERING_DIR, \"best_partitions_by_k.pkl\").resolve()\n",
    "display(input_file)"
   ]
  },
  {
   "cell_type": "code",
   "execution_count": null,
   "metadata": {},
   "outputs": [],
   "source": [
    "best_partitions = pd.read_pickle(input_file)"
   ]
  },
  {
   "cell_type": "code",
   "execution_count": null,
   "metadata": {},
   "outputs": [],
   "source": [
    "assert best_partitions.index.is_unique"
   ]
  },
  {
   "cell_type": "code",
   "execution_count": null,
   "metadata": {},
   "outputs": [],
   "source": [
    "best_partitions.shape"
   ]
  },
  {
   "cell_type": "code",
   "execution_count": null,
   "metadata": {},
   "outputs": [],
   "source": [
    "best_partitions.head()"
   ]
  },
  {
   "cell_type": "markdown",
   "metadata": {},
   "source": [
    "# Select top k partitions"
   ]
  },
  {
   "cell_type": "code",
   "execution_count": null,
   "metadata": {},
   "outputs": [],
   "source": [
    "# I take the top 4 partitions (according to their number of clusters)\n",
    "selected_partition_ks = best_partitions[\n",
    "    best_partitions[\"selected\"]\n",
    "].index.sort_values(ascending=False)[:4]\n",
    "display(selected_partition_ks)"
   ]
  },
  {
   "cell_type": "markdown",
   "metadata": {},
   "source": [
    "# Run interpretation"
   ]
  },
  {
   "cell_type": "code",
   "execution_count": null,
   "metadata": {},
   "outputs": [],
   "source": [
    "CLUSTER_ANALYSIS_OUTPUT_DIR = Path(\n",
    "    conf.RESULTS[\"CLUSTERING_INTERPRETATION_OUTPUT_DIR\"],\n",
    "    \"cluster_analyses\",\n",
    ").resolve()\n",
    "display(CLUSTER_ANALYSIS_OUTPUT_DIR)"
   ]
  },
  {
   "cell_type": "code",
   "execution_count": null,
   "metadata": {},
   "outputs": [],
   "source": [
    "CLUSTER_ANALYSIS_OUTPUT_DIR.mkdir(exist_ok=True)"
   ]
  },
  {
   "cell_type": "code",
   "execution_count": null,
   "metadata": {},
   "outputs": [],
   "source": [
    "def run_notebook(input_nb, output_nb, parameters):\n",
    "    pm.execute_notebook(\n",
    "        input_nb,\n",
    "        output_nb,\n",
    "        progress_bar=False,\n",
    "        parameters=parameters,\n",
    "    )\n",
    "    \n",
    "#     subprocess.run(\n",
    "#         [\n",
    "#             \"jupyter\",\n",
    "#             \"nbconvert\",\n",
    "#             output_nb,\n",
    "#             \"--to=html\",\n",
    "#         ],\n",
    "#         check=True,\n",
    "#     )\n",
    "    \n",
    "#     output_nb.unlink()"
   ]
  },
  {
   "cell_type": "code",
   "execution_count": null,
   "metadata": {},
   "outputs": [],
   "source": [
    "for part_k in selected_partition_ks:\n",
    "    print(f\"Partition k:{part_k}\", flush=True)\n",
    "    \n",
    "    output_folder = Path(\n",
    "        CLUSTER_ANALYSIS_OUTPUT_DIR,\n",
    "        f\"part{part_k}\"\n",
    "    ).resolve()\n",
    "    shutil.rmtree(output_folder, ignore_errors=True)\n",
    "    output_folder.mkdir()\n",
    "    \n",
    "    part = best_partitions.loc[part_k, \"partition\"]\n",
    "    part_clusters = pd.Series(part).value_counts()\n",
    "    \n",
    "    # always skip the biggest cluster in each partition\n",
    "    for c_size_idx, c in enumerate(part_clusters.index[1:]):\n",
    "        print(f\"  Cluster: {c}\", flush=True)\n",
    "        \n",
    "        input_nb = Path(conf.RESULTS[\"CLUSTERING_INTERPRETATION_OUTPUT_DIR\"], \"interpret_cluster.out.ipynb\").resolve()\n",
    "        output_nb = Path(output_folder, f\"{c_size_idx:02}-part{part_k}_k{c}.ipynb\").resolve()\n",
    "        parameters = dict(PARTITION_K=part_k, PARTITION_CLUSTER_ID=c)\n",
    "        \n",
    "        run_notebook(input_nb, output_nb, parameters)"
   ]
  },
  {
   "cell_type": "code",
   "execution_count": null,
   "metadata": {},
   "outputs": [],
   "source": []
  }
 ],
 "metadata": {
  "jupytext": {
   "cell_metadata_filter": "all,-execution,-papermill,-trusted",
   "formats": "ipynb,py//py:percent"
  },
  "kernelspec": {
   "display_name": "Python 3",
   "language": "python",
   "name": "python3"
  },
  "language_info": {
   "codemirror_mode": {
    "name": "ipython",
    "version": 3
   },
   "file_extension": ".py",
   "mimetype": "text/x-python",
   "name": "python",
   "nbconvert_exporter": "python",
   "pygments_lexer": "ipython3",
   "version": "3.8.6"
  },
  "toc-autonumbering": true
 },
 "nbformat": 4,
 "nbformat_minor": 4
}
