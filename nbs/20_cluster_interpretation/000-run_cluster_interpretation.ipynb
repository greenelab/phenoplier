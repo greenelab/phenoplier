{
 "cells": [
  {
   "cell_type": "markdown",
   "metadata": {
    "papermill": {
     "duration": 0.032874,
     "end_time": "2021-02-27T05:07:32.255098",
     "exception": false,
     "start_time": "2021-02-27T05:07:32.222224",
     "status": "completed"
    },
    "tags": []
   },
   "source": [
    "# Description"
   ]
  },
  {
   "cell_type": "markdown",
   "metadata": {
    "papermill": {
     "duration": 0.009202,
     "end_time": "2021-02-27T05:07:32.278735",
     "exception": false,
     "start_time": "2021-02-27T05:07:32.269533",
     "status": "completed"
    },
    "tags": []
   },
   "source": [
    "This notebook reads clustering results taking the top 4 partitions with more clusters, and analyzes each cluster providing a list of latent variables (LV) that are driving that cluster. For example, for the hypertension traits, it might find an LV with genes expressed in cardiomyocytes or other potentially related cell types.\n",
    "\n",
    "It uses the `papermill` API to run the notebook `interpret_cluster.run.ipynb` (which serves as a template) for each cluster. Results are saved in folder `cluster_analyses`."
   ]
  },
  {
   "cell_type": "markdown",
   "metadata": {
    "papermill": {
     "duration": 0.007019,
     "end_time": "2021-02-27T05:07:32.293295",
     "exception": false,
     "start_time": "2021-02-27T05:07:32.286276",
     "status": "completed"
    },
    "tags": []
   },
   "source": [
    "# Modules loading"
   ]
  },
  {
   "cell_type": "code",
   "execution_count": 1,
   "metadata": {
    "execution": {
     "iopub.execute_input": "2021-02-27T05:07:32.310986Z",
     "iopub.status.busy": "2021-02-27T05:07:32.310593Z",
     "iopub.status.idle": "2021-02-27T05:07:32.318774Z",
     "shell.execute_reply": "2021-02-27T05:07:32.318259Z"
    },
    "papermill": {
     "duration": 0.018604,
     "end_time": "2021-02-27T05:07:32.318904",
     "exception": false,
     "start_time": "2021-02-27T05:07:32.300300",
     "status": "completed"
    },
    "tags": []
   },
   "outputs": [],
   "source": [
    "%load_ext autoreload\n",
    "%autoreload 2"
   ]
  },
  {
   "cell_type": "code",
   "execution_count": 2,
   "metadata": {
    "execution": {
     "iopub.execute_input": "2021-02-27T05:07:32.337283Z",
     "iopub.status.busy": "2021-02-27T05:07:32.336902Z",
     "iopub.status.idle": "2021-02-27T05:07:32.647006Z",
     "shell.execute_reply": "2021-02-27T05:07:32.646642Z"
    },
    "papermill": {
     "duration": 0.320727,
     "end_time": "2021-02-27T05:07:32.647115",
     "exception": false,
     "start_time": "2021-02-27T05:07:32.326388",
     "status": "completed"
    },
    "tags": []
   },
   "outputs": [],
   "source": [
    "import shutil\n",
    "import subprocess\n",
    "from pathlib import Path\n",
    "from concurrent.futures import ProcessPoolExecutor, as_completed\n",
    "\n",
    "import pandas as pd\n",
    "import papermill as pm\n",
    "\n",
    "import conf"
   ]
  },
  {
   "cell_type": "markdown",
   "metadata": {
    "papermill": {
     "duration": 0.007168,
     "end_time": "2021-02-27T05:07:32.704573",
     "exception": false,
     "start_time": "2021-02-27T05:07:32.697405",
     "status": "completed"
    },
    "tags": []
   },
   "source": [
    "# Load best partitions"
   ]
  },
  {
   "cell_type": "code",
   "execution_count": 4,
   "metadata": {
    "execution": {
     "iopub.execute_input": "2021-02-27T05:07:32.721458Z",
     "iopub.status.busy": "2021-02-27T05:07:32.721087Z",
     "iopub.status.idle": "2021-02-27T05:07:32.734371Z",
     "shell.execute_reply": "2021-02-27T05:07:32.734689Z"
    },
    "papermill": {
     "duration": 0.022916,
     "end_time": "2021-02-27T05:07:32.734797",
     "exception": false,
     "start_time": "2021-02-27T05:07:32.711881",
     "status": "completed"
    },
    "tags": []
   },
   "outputs": [
    {
     "data": {
      "text/plain": [
       "PosixPath('/home/miltondp/projects/labs/greenelab/phenoplier/base3/results/clustering/consensus_clustering')"
      ]
     },
     "metadata": {},
     "output_type": "display_data"
    }
   ],
   "source": [
    "CONSENSUS_CLUSTERING_DIR = Path(\n",
    "    conf.RESULTS[\"CLUSTERING_DIR\"], \"consensus_clustering\"\n",
    ").resolve()\n",
    "\n",
    "display(CONSENSUS_CLUSTERING_DIR)"
   ]
  },
  {
   "cell_type": "code",
   "execution_count": 5,
   "metadata": {
    "execution": {
     "iopub.execute_input": "2021-02-27T05:07:32.752191Z",
     "iopub.status.busy": "2021-02-27T05:07:32.751829Z",
     "iopub.status.idle": "2021-02-27T05:07:32.761333Z",
     "shell.execute_reply": "2021-02-27T05:07:32.761006Z"
    },
    "papermill": {
     "duration": 0.01894,
     "end_time": "2021-02-27T05:07:32.761424",
     "exception": false,
     "start_time": "2021-02-27T05:07:32.742484",
     "status": "completed"
    },
    "tags": []
   },
   "outputs": [
    {
     "data": {
      "text/plain": [
       "PosixPath('/home/miltondp/projects/labs/greenelab/phenoplier/base3/results/clustering/consensus_clustering/best_partitions_by_k.pkl')"
      ]
     },
     "metadata": {},
     "output_type": "display_data"
    }
   ],
   "source": [
    "input_file = Path(CONSENSUS_CLUSTERING_DIR, \"best_partitions_by_k.pkl\").resolve()\n",
    "display(input_file)"
   ]
  },
  {
   "cell_type": "code",
   "execution_count": 6,
   "metadata": {
    "execution": {
     "iopub.execute_input": "2021-02-27T05:07:32.779526Z",
     "iopub.status.busy": "2021-02-27T05:07:32.779146Z",
     "iopub.status.idle": "2021-02-27T05:07:32.794229Z",
     "shell.execute_reply": "2021-02-27T05:07:32.792623Z"
    },
    "papermill": {
     "duration": 0.025306,
     "end_time": "2021-02-27T05:07:32.794584",
     "exception": false,
     "start_time": "2021-02-27T05:07:32.769278",
     "status": "completed"
    },
    "tags": []
   },
   "outputs": [],
   "source": [
    "best_partitions = pd.read_pickle(input_file)"
   ]
  },
  {
   "cell_type": "code",
   "execution_count": 7,
   "metadata": {
    "execution": {
     "iopub.execute_input": "2021-02-27T05:07:32.851821Z",
     "iopub.status.busy": "2021-02-27T05:07:32.844187Z",
     "iopub.status.idle": "2021-02-27T05:07:32.853920Z",
     "shell.execute_reply": "2021-02-27T05:07:32.853526Z"
    },
    "papermill": {
     "duration": 0.027566,
     "end_time": "2021-02-27T05:07:32.854029",
     "exception": false,
     "start_time": "2021-02-27T05:07:32.826463",
     "status": "completed"
    },
    "tags": []
   },
   "outputs": [],
   "source": [
    "assert best_partitions.index.is_unique"
   ]
  },
  {
   "cell_type": "code",
   "execution_count": 8,
   "metadata": {
    "execution": {
     "iopub.execute_input": "2021-02-27T05:07:32.873923Z",
     "iopub.status.busy": "2021-02-27T05:07:32.873521Z",
     "iopub.status.idle": "2021-02-27T05:07:32.883705Z",
     "shell.execute_reply": "2021-02-27T05:07:32.883292Z"
    },
    "papermill": {
     "duration": 0.020545,
     "end_time": "2021-02-27T05:07:32.883803",
     "exception": false,
     "start_time": "2021-02-27T05:07:32.863258",
     "status": "completed"
    },
    "tags": []
   },
   "outputs": [
    {
     "data": {
      "text/plain": [
       "(59, 4)"
      ]
     },
     "execution_count": 8,
     "metadata": {},
     "output_type": "execute_result"
    }
   ],
   "source": [
    "best_partitions.shape"
   ]
  },
  {
   "cell_type": "code",
   "execution_count": 9,
   "metadata": {
    "execution": {
     "iopub.execute_input": "2021-02-27T05:07:32.903602Z",
     "iopub.status.busy": "2021-02-27T05:07:32.903195Z",
     "iopub.status.idle": "2021-02-27T05:07:32.924002Z",
     "shell.execute_reply": "2021-02-27T05:07:32.923666Z"
    },
    "papermill": {
     "duration": 0.031456,
     "end_time": "2021-02-27T05:07:32.924103",
     "exception": false,
     "start_time": "2021-02-27T05:07:32.892647",
     "status": "completed"
    },
    "tags": []
   },
   "outputs": [
    {
     "data": {
      "text/html": [
       "<div>\n",
       "<style scoped>\n",
       "    .dataframe tbody tr th:only-of-type {\n",
       "        vertical-align: middle;\n",
       "    }\n",
       "\n",
       "    .dataframe tbody tr th {\n",
       "        vertical-align: top;\n",
       "    }\n",
       "\n",
       "    .dataframe thead th {\n",
       "        text-align: right;\n",
       "    }\n",
       "</style>\n",
       "<table border=\"1\" class=\"dataframe\">\n",
       "  <thead>\n",
       "    <tr style=\"text-align: right;\">\n",
       "      <th></th>\n",
       "      <th>method</th>\n",
       "      <th>partition</th>\n",
       "      <th>ami_mean</th>\n",
       "      <th>selected</th>\n",
       "    </tr>\n",
       "    <tr>\n",
       "      <th>k</th>\n",
       "      <th></th>\n",
       "      <th></th>\n",
       "      <th></th>\n",
       "      <th></th>\n",
       "    </tr>\n",
       "  </thead>\n",
       "  <tbody>\n",
       "    <tr>\n",
       "      <th>11</th>\n",
       "      <td>scc_020</td>\n",
       "      <td>[0, 0, 0, 0, 0, 0, 0, 0, 0, 0, 0, 0, 0, 0, 0, ...</td>\n",
       "      <td>0.301839</td>\n",
       "      <td>True</td>\n",
       "    </tr>\n",
       "    <tr>\n",
       "      <th>10</th>\n",
       "      <td>scc_020</td>\n",
       "      <td>[0, 0, 0, 0, 0, 0, 0, 0, 0, 0, 0, 0, 0, 0, 0, ...</td>\n",
       "      <td>0.301738</td>\n",
       "      <td>True</td>\n",
       "    </tr>\n",
       "    <tr>\n",
       "      <th>9</th>\n",
       "      <td>scc_020</td>\n",
       "      <td>[0, 0, 0, 0, 0, 0, 0, 0, 0, 0, 0, 0, 0, 0, 0, ...</td>\n",
       "      <td>0.301301</td>\n",
       "      <td>True</td>\n",
       "    </tr>\n",
       "    <tr>\n",
       "      <th>4</th>\n",
       "      <td>eac_complete_coassoc_matrix</td>\n",
       "      <td>[0, 0, 0, 0, 0, 0, 0, 0, 0, 0, 0, 0, 0, 0, 0, ...</td>\n",
       "      <td>0.300385</td>\n",
       "      <td>True</td>\n",
       "    </tr>\n",
       "    <tr>\n",
       "      <th>8</th>\n",
       "      <td>scc_020</td>\n",
       "      <td>[0, 0, 0, 0, 0, 0, 0, 0, 0, 0, 0, 0, 0, 0, 0, ...</td>\n",
       "      <td>0.300171</td>\n",
       "      <td>True</td>\n",
       "    </tr>\n",
       "  </tbody>\n",
       "</table>\n",
       "</div>"
      ],
      "text/plain": [
       "                         method  \\\n",
       "k                                 \n",
       "11                      scc_020   \n",
       "10                      scc_020   \n",
       "9                       scc_020   \n",
       "4   eac_complete_coassoc_matrix   \n",
       "8                       scc_020   \n",
       "\n",
       "                                            partition  ami_mean  selected  \n",
       "k                                                                          \n",
       "11  [0, 0, 0, 0, 0, 0, 0, 0, 0, 0, 0, 0, 0, 0, 0, ...  0.301839      True  \n",
       "10  [0, 0, 0, 0, 0, 0, 0, 0, 0, 0, 0, 0, 0, 0, 0, ...  0.301738      True  \n",
       "9   [0, 0, 0, 0, 0, 0, 0, 0, 0, 0, 0, 0, 0, 0, 0, ...  0.301301      True  \n",
       "4   [0, 0, 0, 0, 0, 0, 0, 0, 0, 0, 0, 0, 0, 0, 0, ...  0.300385      True  \n",
       "8   [0, 0, 0, 0, 0, 0, 0, 0, 0, 0, 0, 0, 0, 0, 0, ...  0.300171      True  "
      ]
     },
     "execution_count": 9,
     "metadata": {},
     "output_type": "execute_result"
    }
   ],
   "source": [
    "best_partitions.head()"
   ]
  },
  {
   "cell_type": "markdown",
   "metadata": {
    "papermill": {
     "duration": 0.00888,
     "end_time": "2021-02-27T05:07:32.942203",
     "exception": false,
     "start_time": "2021-02-27T05:07:32.933323",
     "status": "completed"
    },
    "tags": []
   },
   "source": [
    "# Select top k partitions"
   ]
  },
  {
   "cell_type": "code",
   "execution_count": 10,
   "metadata": {
    "execution": {
     "iopub.execute_input": "2021-02-27T05:07:32.962335Z",
     "iopub.status.busy": "2021-02-27T05:07:32.961964Z",
     "iopub.status.idle": "2021-02-27T05:07:32.972197Z",
     "shell.execute_reply": "2021-02-27T05:07:32.971817Z"
    },
    "papermill": {
     "duration": 0.020991,
     "end_time": "2021-02-27T05:07:32.972294",
     "exception": false,
     "start_time": "2021-02-27T05:07:32.951303",
     "status": "completed"
    },
    "tags": []
   },
   "outputs": [
    {
     "data": {
      "text/plain": [
       "Int64Index([45, 41, 38, 28], dtype='int64', name='k')"
      ]
     },
     "metadata": {},
     "output_type": "display_data"
    }
   ],
   "source": [
    "# I take the top 4 partitions (according to their number of clusters).\n",
    "# These are the partitions that will be analyzed in the manuscript.\n",
    "selected_partition_ks = best_partitions[best_partitions[\"selected\"]].index.sort_values(\n",
    "    ascending=False\n",
    ")[:4]\n",
    "display(selected_partition_ks)"
   ]
  },
  {
   "cell_type": "markdown",
   "metadata": {
    "papermill": {
     "duration": 0.008648,
     "end_time": "2021-02-27T05:07:32.989835",
     "exception": false,
     "start_time": "2021-02-27T05:07:32.981187",
     "status": "completed"
    },
    "tags": []
   },
   "source": [
    "# Run interpretation"
   ]
  },
  {
   "cell_type": "code",
   "execution_count": 11,
   "metadata": {
    "execution": {
     "iopub.execute_input": "2021-02-27T05:07:33.009586Z",
     "iopub.status.busy": "2021-02-27T05:07:33.009218Z",
     "iopub.status.idle": "2021-02-27T05:07:33.018349Z",
     "shell.execute_reply": "2021-02-27T05:07:33.018634Z"
    },
    "papermill": {
     "duration": 0.020182,
     "end_time": "2021-02-27T05:07:33.018744",
     "exception": false,
     "start_time": "2021-02-27T05:07:32.998562",
     "status": "completed"
    },
    "tags": []
   },
   "outputs": [
    {
     "data": {
      "text/plain": [
       "PosixPath('/home/miltondp/projects/labs/greenelab/phenoplier/nbs/20_cluster_interpretation/cluster_analyses')"
      ]
     },
     "metadata": {},
     "output_type": "display_data"
    }
   ],
   "source": [
    "CLUSTER_ANALYSIS_OUTPUT_DIR = Path(\n",
    "    conf.RESULTS[\"CLUSTERING_INTERPRETATION_OUTPUT_DIR\"],\n",
    "    \"cluster_analyses\",\n",
    ").resolve()\n",
    "display(CLUSTER_ANALYSIS_OUTPUT_DIR)"
   ]
  },
  {
   "cell_type": "code",
   "execution_count": 12,
   "metadata": {
    "execution": {
     "iopub.execute_input": "2021-02-27T05:07:33.038400Z",
     "iopub.status.busy": "2021-02-27T05:07:33.038023Z",
     "iopub.status.idle": "2021-02-27T05:07:33.046454Z",
     "shell.execute_reply": "2021-02-27T05:07:33.046755Z"
    },
    "papermill": {
     "duration": 0.019338,
     "end_time": "2021-02-27T05:07:33.046862",
     "exception": false,
     "start_time": "2021-02-27T05:07:33.027524",
     "status": "completed"
    },
    "tags": []
   },
   "outputs": [],
   "source": [
    "CLUSTER_ANALYSIS_OUTPUT_DIR.mkdir(exist_ok=True)"
   ]
  },
  {
   "cell_type": "code",
   "execution_count": 13,
   "metadata": {
    "execution": {
     "iopub.execute_input": "2021-02-27T05:07:33.067915Z",
     "iopub.status.busy": "2021-02-27T05:07:33.067499Z",
     "iopub.status.idle": "2021-02-27T05:07:33.076383Z",
     "shell.execute_reply": "2021-02-27T05:07:33.076699Z"
    },
    "papermill": {
     "duration": 0.020905,
     "end_time": "2021-02-27T05:07:33.076821",
     "exception": false,
     "start_time": "2021-02-27T05:07:33.055916",
     "status": "completed"
    },
    "tags": []
   },
   "outputs": [],
   "source": [
    "def run_notebook(input_nb, output_nb, parameters):\n",
    "    pm.execute_notebook(\n",
    "        input_nb,\n",
    "        output_nb,\n",
    "        progress_bar=False,\n",
    "        parameters=parameters,\n",
    "    )"
   ]
  },
  {
   "cell_type": "code",
   "execution_count": 14,
   "metadata": {
    "execution": {
     "iopub.execute_input": "2021-02-27T05:07:33.099153Z",
     "iopub.status.busy": "2021-02-27T05:07:33.098779Z",
     "iopub.status.idle": "2021-02-27T10:16:25.971304Z",
     "shell.execute_reply": "2021-02-27T10:16:25.971588Z"
    },
    "papermill": {
     "duration": 18532.885345,
     "end_time": "2021-02-27T10:16:25.971704",
     "exception": false,
     "start_time": "2021-02-27T05:07:33.086359",
     "status": "completed"
    },
    "tags": []
   },
   "outputs": [
    {
     "name": "stdout",
     "output_type": "stream",
     "text": [
      "Partition k:45\n",
      "  Cluster: 0\n",
      "  Cluster: 38\n",
      "  Cluster: 35\n",
      "  Cluster: 39\n",
      "  Cluster: 25\n",
      "  Cluster: 36\n",
      "  Cluster: 30\n",
      "  Cluster: 29\n",
      "  Cluster: 27\n",
      "  Cluster: 42\n",
      "  Cluster: 34\n",
      "  Cluster: 41\n",
      "  Cluster: 24\n",
      "  Cluster: 23\n",
      "  Cluster: 31\n",
      "  Cluster: 21\n",
      "  Cluster: 20\n",
      "  Cluster: 32\n",
      "  Cluster: 12\n",
      "  Cluster: 8\n",
      "  Cluster: 43\n",
      "  Cluster: 15\n",
      "  Cluster: 14\n",
      "  Cluster: 9\n",
      "  Cluster: 7\n",
      "  Cluster: 19\n",
      "  Cluster: 17\n",
      "  Cluster: 1\n",
      "  Cluster: 6\n",
      "  Cluster: 16\n",
      "  Cluster: 26\n",
      "  Cluster: 13\n",
      "  Cluster: 11\n",
      "  Cluster: 5\n",
      "  Cluster: 40\n",
      "  Cluster: 4\n",
      "  Cluster: 2\n",
      "  Cluster: 3\n",
      "  Cluster: 33\n",
      "  Cluster: 10\n",
      "  Cluster: 22\n",
      "  Cluster: 37\n",
      "  Cluster: 28\n",
      "  Cluster: 44\n",
      "Partition k:41\n",
      "  Cluster: 35\n",
      "  Cluster: 38\n",
      "  Cluster: 36\n",
      "  Cluster: 37\n",
      "  Cluster: 32\n",
      "  Cluster: 34\n",
      "  Cluster: 28\n",
      "  Cluster: 39\n",
      "  Cluster: 25\n",
      "  Cluster: 33\n",
      "  Cluster: 26\n",
      "  Cluster: 20\n",
      "  Cluster: 23\n",
      "  Cluster: 24\n",
      "  Cluster: 17\n",
      "  Cluster: 22\n",
      "  Cluster: 19\n",
      "  Cluster: 12\n",
      "  Cluster: 16\n",
      "  Cluster: 29\n",
      "  Cluster: 21\n",
      "  Cluster: 10\n",
      "  Cluster: 9\n",
      "  Cluster: 7\n",
      "  Cluster: 11\n",
      "  Cluster: 8\n",
      "  Cluster: 14\n",
      "  Cluster: 6\n",
      "  Cluster: 13\n",
      "  Cluster: 18\n",
      "  Cluster: 4\n",
      "  Cluster: 30\n",
      "  Cluster: 5\n",
      "  Cluster: 1\n",
      "  Cluster: 3\n",
      "  Cluster: 15\n",
      "  Cluster: 2\n",
      "  Cluster: 31\n",
      "  Cluster: 27\n",
      "  Cluster: 40\n",
      "Partition k:38\n",
      "  Cluster: 0\n",
      "  Cluster: 36\n",
      "  Cluster: 32\n",
      "  Cluster: 31\n",
      "  Cluster: 28\n",
      "  Cluster: 33\n",
      "  Cluster: 27\n",
      "  Cluster: 30\n",
      "  Cluster: 24\n",
      "  Cluster: 21\n",
      "  Cluster: 22\n",
      "  Cluster: 17\n",
      "  Cluster: 25\n",
      "  Cluster: 18\n",
      "  Cluster: 16\n",
      "  Cluster: 13\n",
      "  Cluster: 19\n",
      "  Cluster: 14\n",
      "  Cluster: 11\n",
      "  Cluster: 7\n",
      "  Cluster: 26\n",
      "  Cluster: 15\n",
      "  Cluster: 5\n",
      "  Cluster: 12\n",
      "  Cluster: 4\n",
      "  Cluster: 9\n",
      "  Cluster: 10\n",
      "  Cluster: 2\n",
      "  Cluster: 3\n",
      "  Cluster: 6\n",
      "  Cluster: 20\n",
      "  Cluster: 29\n",
      "  Cluster: 1\n",
      "  Cluster: 8\n",
      "  Cluster: 34\n",
      "  Cluster: 23\n",
      "  Cluster: 37\n",
      "Partition k:28\n",
      "  Cluster: 23\n",
      "  Cluster: 24\n",
      "  Cluster: 22\n",
      "  Cluster: 27\n",
      "  Cluster: 17\n",
      "  Cluster: 21\n",
      "  Cluster: 26\n",
      "  Cluster: 10\n",
      "  Cluster: 3\n",
      "  Cluster: 4\n",
      "  Cluster: 20\n",
      "  Cluster: 16\n",
      "  Cluster: 6\n",
      "  Cluster: 12\n",
      "  Cluster: 13\n",
      "  Cluster: 1\n",
      "  Cluster: 15\n",
      "  Cluster: 7\n",
      "  Cluster: 5\n",
      "  Cluster: 14\n",
      "  Cluster: 8\n",
      "  Cluster: 11\n",
      "  Cluster: 9\n",
      "  Cluster: 2\n",
      "  Cluster: 25\n",
      "  Cluster: 18\n",
      "  Cluster: 19\n"
     ]
    }
   ],
   "source": [
    "for part_k in selected_partition_ks:\n",
    "    print(f\"Partition k:{part_k}\", flush=True)\n",
    "\n",
    "    output_folder = Path(CLUSTER_ANALYSIS_OUTPUT_DIR, f\"part{part_k}\").resolve()\n",
    "    shutil.rmtree(output_folder, ignore_errors=True)\n",
    "    output_folder.mkdir()\n",
    "\n",
    "    part = best_partitions.loc[part_k, \"partition\"]\n",
    "    part_clusters = pd.Series(part).value_counts()\n",
    "\n",
    "    # always skip the biggest cluster in each partition\n",
    "    for c_size_idx, c in enumerate(part_clusters.index[1:]):\n",
    "        print(f\"  Cluster: {c}\", flush=True)\n",
    "\n",
    "        input_nb = Path(\n",
    "            conf.RESULTS[\"CLUSTERING_INTERPRETATION_OUTPUT_DIR\"],\n",
    "            \"interpret_cluster.run.ipynb\",\n",
    "        ).resolve()\n",
    "\n",
    "        output_nb = Path(\n",
    "            output_folder, f\"{c_size_idx:02}-part{part_k}_k{c}.ipynb\"\n",
    "        ).resolve()\n",
    "\n",
    "        parameters = dict(PARTITION_K=part_k, PARTITION_CLUSTER_ID=c)\n",
    "\n",
    "        run_notebook(input_nb, output_nb, parameters)"
   ]
  },
  {
   "cell_type": "code",
   "execution_count": null,
   "metadata": {
    "papermill": {
     "duration": 0.032239,
     "end_time": "2021-02-27T10:16:26.038080",
     "exception": false,
     "start_time": "2021-02-27T10:16:26.005841",
     "status": "completed"
    },
    "tags": []
   },
   "outputs": [],
   "source": []
  }
 ],
 "metadata": {
  "jupytext": {
   "cell_metadata_filter": "all,-execution,-papermill,-trusted",
   "formats": "ipynb,py//py:percent"
  },
  "kernelspec": {
   "display_name": "Python 3",
   "language": "python",
   "name": "python3"
  },
  "language_info": {
   "codemirror_mode": {
    "name": "ipython",
    "version": 3
   },
   "file_extension": ".py",
   "mimetype": "text/x-python",
   "name": "python",
   "nbconvert_exporter": "python",
   "pygments_lexer": "ipython3",
   "version": "3.8.8"
  },
  "papermill": {
   "default_parameters": {},
   "duration": 18534.935658,
   "end_time": "2021-02-27T10:16:26.375993",
   "environment_variables": {},
   "exception": null,
   "input_path": "20_cluster_interpretation/000-run_cluster_interpretation.ipynb",
   "output_path": "20_cluster_interpretation/000-run_cluster_interpretation.run.ipynb",
   "parameters": {},
   "start_time": "2021-02-27T05:07:31.440335",
   "version": "2.2.2"
  },
  "toc-autonumbering": true
 },
 "nbformat": 4,
 "nbformat_minor": 4
}
