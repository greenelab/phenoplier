{
 "cells": [
  {
   "cell_type": "markdown",
   "metadata": {
    "papermill": {
     "duration": 0.010355,
     "end_time": "2021-03-12T16:40:24.268118",
     "exception": false,
     "start_time": "2021-03-12T16:40:24.257763",
     "status": "completed"
    },
    "tags": []
   },
   "source": [
    "# Description"
   ]
  },
  {
   "cell_type": "markdown",
   "metadata": {
    "papermill": {
     "duration": 0.00758,
     "end_time": "2021-03-12T16:40:24.282389",
     "exception": false,
     "start_time": "2021-03-12T16:40:24.274809",
     "status": "completed"
    },
    "tags": []
   },
   "source": [
    "This notebook reads clustering results taking the top 4 partitions with more clusters, and analyzes each cluster providing a list of latent variables (LV) that are driving that cluster. For example, for the hypertension traits, it might find an LV with genes expressed in cardiomyocytes or other potentially related cell types.\n",
    "\n",
    "It uses the `papermill` API to run the notebook `interpret_cluster.run.ipynb` (which serves as a template) for each cluster. Results are saved in folder `cluster_analyses`."
   ]
  },
  {
   "cell_type": "markdown",
   "metadata": {
    "papermill": {
     "duration": 0.00665,
     "end_time": "2021-03-12T16:40:24.295636",
     "exception": false,
     "start_time": "2021-03-12T16:40:24.288986",
     "status": "completed"
    },
    "tags": []
   },
   "source": [
    "# Modules loading"
   ]
  },
  {
   "cell_type": "code",
   "execution_count": 1,
   "metadata": {
    "execution": {
     "iopub.execute_input": "2021-03-12T16:40:24.314230Z",
     "iopub.status.busy": "2021-03-12T16:40:24.313864Z",
     "iopub.status.idle": "2021-03-12T16:40:24.321334Z",
     "shell.execute_reply": "2021-03-12T16:40:24.320914Z"
    },
    "papermill": {
     "duration": 0.019196,
     "end_time": "2021-03-12T16:40:24.321422",
     "exception": false,
     "start_time": "2021-03-12T16:40:24.302226",
     "status": "completed"
    },
    "tags": []
   },
   "outputs": [],
   "source": [
    "%load_ext autoreload\n",
    "%autoreload 2"
   ]
  },
  {
   "cell_type": "code",
   "execution_count": 2,
   "metadata": {
    "execution": {
     "iopub.execute_input": "2021-03-12T16:40:24.337330Z",
     "iopub.status.busy": "2021-03-12T16:40:24.336969Z",
     "iopub.status.idle": "2021-03-12T16:40:24.645176Z",
     "shell.execute_reply": "2021-03-12T16:40:24.644748Z"
    },
    "papermill": {
     "duration": 0.317121,
     "end_time": "2021-03-12T16:40:24.645271",
     "exception": false,
     "start_time": "2021-03-12T16:40:24.328150",
     "status": "completed"
    },
    "tags": []
   },
   "outputs": [],
   "source": [
    "import os\n",
    "import shutil\n",
    "from multiprocessing import Pool\n",
    "import subprocess\n",
    "from pathlib import Path\n",
    "from concurrent.futures import ProcessPoolExecutor, as_completed\n",
    "\n",
    "import pandas as pd\n",
    "import papermill as pm\n",
    "\n",
    "import conf"
   ]
  },
  {
   "cell_type": "markdown",
   "metadata": {
    "papermill": {
     "duration": 0.006819,
     "end_time": "2021-03-12T16:40:24.659562",
     "exception": false,
     "start_time": "2021-03-12T16:40:24.652743",
     "status": "completed"
    },
    "tags": []
   },
   "source": [
    "# Load best partitions"
   ]
  },
  {
   "cell_type": "code",
   "execution_count": 3,
   "metadata": {
    "execution": {
     "iopub.execute_input": "2021-03-12T16:40:24.675651Z",
     "iopub.status.busy": "2021-03-12T16:40:24.675269Z",
     "iopub.status.idle": "2021-03-12T16:40:24.688629Z",
     "shell.execute_reply": "2021-03-12T16:40:24.688253Z"
    },
    "papermill": {
     "duration": 0.022327,
     "end_time": "2021-03-12T16:40:24.688718",
     "exception": false,
     "start_time": "2021-03-12T16:40:24.666391",
     "status": "completed"
    },
    "tags": []
   },
   "outputs": [
    {
     "data": {
      "text/plain": [
       "PosixPath('/home/miltondp/projects/labs/greenelab/phenoplier/base/results/clustering/consensus_clustering')"
      ]
     },
     "metadata": {},
     "output_type": "display_data"
    }
   ],
   "source": [
    "CONSENSUS_CLUSTERING_DIR = Path(\n",
    "    conf.RESULTS[\"CLUSTERING_DIR\"], \"consensus_clustering\"\n",
    ").resolve()\n",
    "\n",
    "display(CONSENSUS_CLUSTERING_DIR)"
   ]
  },
  {
   "cell_type": "code",
   "execution_count": 4,
   "metadata": {
    "execution": {
     "iopub.execute_input": "2021-03-12T16:40:24.705244Z",
     "iopub.status.busy": "2021-03-12T16:40:24.704862Z",
     "iopub.status.idle": "2021-03-12T16:40:24.714374Z",
     "shell.execute_reply": "2021-03-12T16:40:24.714003Z"
    },
    "papermill": {
     "duration": 0.01851,
     "end_time": "2021-03-12T16:40:24.714458",
     "exception": false,
     "start_time": "2021-03-12T16:40:24.695948",
     "status": "completed"
    },
    "tags": []
   },
   "outputs": [
    {
     "data": {
      "text/plain": [
       "PosixPath('/home/miltondp/projects/labs/greenelab/phenoplier/base/results/clustering/consensus_clustering/best_partitions_by_k.pkl')"
      ]
     },
     "metadata": {},
     "output_type": "display_data"
    }
   ],
   "source": [
    "input_file = Path(CONSENSUS_CLUSTERING_DIR, \"best_partitions_by_k.pkl\").resolve()\n",
    "display(input_file)"
   ]
  },
  {
   "cell_type": "code",
   "execution_count": 5,
   "metadata": {
    "execution": {
     "iopub.execute_input": "2021-03-12T16:40:24.731747Z",
     "iopub.status.busy": "2021-03-12T16:40:24.731372Z",
     "iopub.status.idle": "2021-03-12T16:40:24.741676Z",
     "shell.execute_reply": "2021-03-12T16:40:24.741331Z"
    },
    "papermill": {
     "duration": 0.019745,
     "end_time": "2021-03-12T16:40:24.741766",
     "exception": false,
     "start_time": "2021-03-12T16:40:24.722021",
     "status": "completed"
    },
    "tags": []
   },
   "outputs": [],
   "source": [
    "best_partitions = pd.read_pickle(input_file)"
   ]
  },
  {
   "cell_type": "code",
   "execution_count": 6,
   "metadata": {
    "execution": {
     "iopub.execute_input": "2021-03-12T16:40:24.758930Z",
     "iopub.status.busy": "2021-03-12T16:40:24.758555Z",
     "iopub.status.idle": "2021-03-12T16:40:24.766813Z",
     "shell.execute_reply": "2021-03-12T16:40:24.767118Z"
    },
    "papermill": {
     "duration": 0.01793,
     "end_time": "2021-03-12T16:40:24.767220",
     "exception": false,
     "start_time": "2021-03-12T16:40:24.749290",
     "status": "completed"
    },
    "tags": []
   },
   "outputs": [],
   "source": [
    "assert best_partitions.index.is_unique"
   ]
  },
  {
   "cell_type": "code",
   "execution_count": 7,
   "metadata": {
    "execution": {
     "iopub.execute_input": "2021-03-12T16:40:24.784183Z",
     "iopub.status.busy": "2021-03-12T16:40:24.783808Z",
     "iopub.status.idle": "2021-03-12T16:40:24.793028Z",
     "shell.execute_reply": "2021-03-12T16:40:24.792673Z"
    },
    "papermill": {
     "duration": 0.018417,
     "end_time": "2021-03-12T16:40:24.793110",
     "exception": false,
     "start_time": "2021-03-12T16:40:24.774693",
     "status": "completed"
    },
    "tags": []
   },
   "outputs": [
    {
     "data": {
      "text/plain": [
       "(59, 4)"
      ]
     },
     "execution_count": 7,
     "metadata": {},
     "output_type": "execute_result"
    }
   ],
   "source": [
    "best_partitions.shape"
   ]
  },
  {
   "cell_type": "code",
   "execution_count": 8,
   "metadata": {
    "execution": {
     "iopub.execute_input": "2021-03-12T16:40:24.810437Z",
     "iopub.status.busy": "2021-03-12T16:40:24.810080Z",
     "iopub.status.idle": "2021-03-12T16:40:24.828243Z",
     "shell.execute_reply": "2021-03-12T16:40:24.828531Z"
    },
    "papermill": {
     "duration": 0.027914,
     "end_time": "2021-03-12T16:40:24.828637",
     "exception": false,
     "start_time": "2021-03-12T16:40:24.800723",
     "status": "completed"
    },
    "tags": []
   },
   "outputs": [
    {
     "data": {
      "text/html": [
       "<div>\n",
       "<style scoped>\n",
       "    .dataframe tbody tr th:only-of-type {\n",
       "        vertical-align: middle;\n",
       "    }\n",
       "\n",
       "    .dataframe tbody tr th {\n",
       "        vertical-align: top;\n",
       "    }\n",
       "\n",
       "    .dataframe thead th {\n",
       "        text-align: right;\n",
       "    }\n",
       "</style>\n",
       "<table border=\"1\" class=\"dataframe\">\n",
       "  <thead>\n",
       "    <tr style=\"text-align: right;\">\n",
       "      <th></th>\n",
       "      <th>method</th>\n",
       "      <th>partition</th>\n",
       "      <th>ari_median</th>\n",
       "      <th>selected</th>\n",
       "    </tr>\n",
       "    <tr>\n",
       "      <th>k</th>\n",
       "      <th></th>\n",
       "      <th></th>\n",
       "      <th></th>\n",
       "      <th></th>\n",
       "    </tr>\n",
       "  </thead>\n",
       "  <tbody>\n",
       "    <tr>\n",
       "      <th>11</th>\n",
       "      <td>scc_025</td>\n",
       "      <td>[0, 0, 0, 0, 0, 0, 0, 0, 0, 0, 0, 0, 0, 0, 0, ...</td>\n",
       "      <td>0.090231</td>\n",
       "      <td>True</td>\n",
       "    </tr>\n",
       "    <tr>\n",
       "      <th>13</th>\n",
       "      <td>scc_025</td>\n",
       "      <td>[2, 2, 2, 2, 2, 2, 2, 2, 2, 2, 2, 2, 2, 2, 2, ...</td>\n",
       "      <td>0.090222</td>\n",
       "      <td>True</td>\n",
       "    </tr>\n",
       "    <tr>\n",
       "      <th>14</th>\n",
       "      <td>scc_025</td>\n",
       "      <td>[0, 0, 0, 0, 0, 0, 0, 0, 0, 0, 0, 0, 0, 0, 0, ...</td>\n",
       "      <td>0.090138</td>\n",
       "      <td>True</td>\n",
       "    </tr>\n",
       "    <tr>\n",
       "      <th>22</th>\n",
       "      <td>scc_020</td>\n",
       "      <td>[1, 19, 19, 19, 19, 19, 19, 19, 19, 1, 19, 19,...</td>\n",
       "      <td>0.090117</td>\n",
       "      <td>True</td>\n",
       "    </tr>\n",
       "    <tr>\n",
       "      <th>12</th>\n",
       "      <td>scc_025</td>\n",
       "      <td>[10, 10, 10, 10, 10, 10, 10, 10, 10, 10, 10, 1...</td>\n",
       "      <td>0.089742</td>\n",
       "      <td>True</td>\n",
       "    </tr>\n",
       "  </tbody>\n",
       "</table>\n",
       "</div>"
      ],
      "text/plain": [
       "     method                                          partition  ari_median  \\\n",
       "k                                                                            \n",
       "11  scc_025  [0, 0, 0, 0, 0, 0, 0, 0, 0, 0, 0, 0, 0, 0, 0, ...    0.090231   \n",
       "13  scc_025  [2, 2, 2, 2, 2, 2, 2, 2, 2, 2, 2, 2, 2, 2, 2, ...    0.090222   \n",
       "14  scc_025  [0, 0, 0, 0, 0, 0, 0, 0, 0, 0, 0, 0, 0, 0, 0, ...    0.090138   \n",
       "22  scc_020  [1, 19, 19, 19, 19, 19, 19, 19, 19, 1, 19, 19,...    0.090117   \n",
       "12  scc_025  [10, 10, 10, 10, 10, 10, 10, 10, 10, 10, 10, 1...    0.089742   \n",
       "\n",
       "    selected  \n",
       "k             \n",
       "11      True  \n",
       "13      True  \n",
       "14      True  \n",
       "22      True  \n",
       "12      True  "
      ]
     },
     "execution_count": 8,
     "metadata": {},
     "output_type": "execute_result"
    }
   ],
   "source": [
    "best_partitions.head()"
   ]
  },
  {
   "cell_type": "markdown",
   "metadata": {
    "papermill": {
     "duration": 0.007674,
     "end_time": "2021-03-12T16:40:24.844279",
     "exception": false,
     "start_time": "2021-03-12T16:40:24.836605",
     "status": "completed"
    },
    "tags": []
   },
   "source": [
    "# Select top k partitions"
   ]
  },
  {
   "cell_type": "code",
   "execution_count": 9,
   "metadata": {
    "execution": {
     "iopub.execute_input": "2021-03-12T16:40:24.861929Z",
     "iopub.status.busy": "2021-03-12T16:40:24.861516Z",
     "iopub.status.idle": "2021-03-12T16:40:24.871400Z",
     "shell.execute_reply": "2021-03-12T16:40:24.871057Z"
    },
    "papermill": {
     "duration": 0.019734,
     "end_time": "2021-03-12T16:40:24.871494",
     "exception": false,
     "start_time": "2021-03-12T16:40:24.851760",
     "status": "completed"
    },
    "tags": []
   },
   "outputs": [
    {
     "data": {
      "text/plain": [
       "Int64Index([26, 25, 22, 16], dtype='int64', name='k')"
      ]
     },
     "metadata": {},
     "output_type": "display_data"
    }
   ],
   "source": [
    "# I take the top 4 partitions (according to their number of clusters).\n",
    "# These are the partitions that will be analyzed in the manuscript.\n",
    "selected_partition_ks = best_partitions[best_partitions[\"selected\"]].index.sort_values(\n",
    "    ascending=False\n",
    ")[:4]\n",
    "display(selected_partition_ks)"
   ]
  },
  {
   "cell_type": "markdown",
   "metadata": {
    "papermill": {
     "duration": 0.009547,
     "end_time": "2021-03-12T16:40:24.890354",
     "exception": false,
     "start_time": "2021-03-12T16:40:24.880807",
     "status": "completed"
    },
    "tags": []
   },
   "source": [
    "# Run interpretation"
   ]
  },
  {
   "cell_type": "code",
   "execution_count": 10,
   "metadata": {
    "execution": {
     "iopub.execute_input": "2021-03-12T16:40:24.909861Z",
     "iopub.status.busy": "2021-03-12T16:40:24.909468Z",
     "iopub.status.idle": "2021-03-12T16:40:24.918980Z",
     "shell.execute_reply": "2021-03-12T16:40:24.919283Z"
    },
    "papermill": {
     "duration": 0.020325,
     "end_time": "2021-03-12T16:40:24.919394",
     "exception": false,
     "start_time": "2021-03-12T16:40:24.899069",
     "status": "completed"
    },
    "tags": []
   },
   "outputs": [
    {
     "data": {
      "text/plain": [
       "PosixPath('/home/miltondp/projects/labs/greenelab/phenoplier/nbs/20_cluster_interpretation/cluster_analyses')"
      ]
     },
     "metadata": {},
     "output_type": "display_data"
    }
   ],
   "source": [
    "CLUSTER_ANALYSIS_OUTPUT_DIR = Path(\n",
    "    conf.RESULTS[\"CLUSTERING_INTERPRETATION\"][\"CLUSTERS_STATS\"],\n",
    "    \"cluster_analyses\",\n",
    ").resolve()\n",
    "display(CLUSTER_ANALYSIS_OUTPUT_DIR)"
   ]
  },
  {
   "cell_type": "code",
   "execution_count": 11,
   "metadata": {
    "execution": {
     "iopub.execute_input": "2021-03-12T16:40:24.939229Z",
     "iopub.status.busy": "2021-03-12T16:40:24.938831Z",
     "iopub.status.idle": "2021-03-12T16:40:24.947832Z",
     "shell.execute_reply": "2021-03-12T16:40:24.947498Z"
    },
    "papermill": {
     "duration": 0.019759,
     "end_time": "2021-03-12T16:40:24.947925",
     "exception": false,
     "start_time": "2021-03-12T16:40:24.928166",
     "status": "completed"
    },
    "tags": []
   },
   "outputs": [],
   "source": [
    "CLUSTER_ANALYSIS_OUTPUT_DIR.mkdir(exist_ok=True)"
   ]
  },
  {
   "cell_type": "code",
   "execution_count": 12,
   "metadata": {
    "execution": {
     "iopub.execute_input": "2021-03-12T16:40:24.969231Z",
     "iopub.status.busy": "2021-03-12T16:40:24.968816Z",
     "iopub.status.idle": "2021-03-12T16:40:24.978182Z",
     "shell.execute_reply": "2021-03-12T16:40:24.977771Z"
    },
    "papermill": {
     "duration": 0.021549,
     "end_time": "2021-03-12T16:40:24.978271",
     "exception": false,
     "start_time": "2021-03-12T16:40:24.956722",
     "status": "completed"
    },
    "tags": []
   },
   "outputs": [],
   "source": [
    "def run_notebook(input_nb, output_nb, parameters, environment):\n",
    "    options = []\n",
    "    for k, v in parameters.items():\n",
    "        options.append(\"-p\")\n",
    "        options.append(str(k))\n",
    "        options.append(str(v))\n",
    "\n",
    "    cmdlist = (\n",
    "        [\"papermill\"]\n",
    "        + [\n",
    "            f\"'{input_nb}'\",\n",
    "            f\"'{output_nb}'\",\n",
    "        ]\n",
    "        + options\n",
    "    )\n",
    "    cmdlist = \" \".join(cmdlist)\n",
    "\n",
    "    res = subprocess.run(\n",
    "        cmdlist,\n",
    "        shell=True,\n",
    "        stdout=subprocess.PIPE,\n",
    "        stderr=subprocess.STDOUT,\n",
    "        env=environment,\n",
    "        text=True,\n",
    "    )\n",
    "    return cmdlist, res"
   ]
  },
  {
   "cell_type": "code",
   "execution_count": 13,
   "metadata": {
    "execution": {
     "iopub.execute_input": "2021-03-12T16:40:25.000904Z",
     "iopub.status.busy": "2021-03-12T16:40:25.000478Z",
     "iopub.status.idle": "2021-03-12T18:44:33.775269Z",
     "shell.execute_reply": "2021-03-12T18:44:33.774756Z"
    },
    "papermill": {
     "duration": 7448.788379,
     "end_time": "2021-03-12T18:44:33.775379",
     "exception": false,
     "start_time": "2021-03-12T16:40:24.987000",
     "status": "completed"
    },
    "tags": []
   },
   "outputs": [
    {
     "name": "stdout",
     "output_type": "stream",
     "text": [
      "Partition k:26\n"
     ]
    },
    {
     "name": "stdout",
     "output_type": "stream",
     "text": [
      "  Cluster: 0\n"
     ]
    },
    {
     "name": "stdout",
     "output_type": "stream",
     "text": [
      "  Cluster: 25\n"
     ]
    },
    {
     "name": "stdout",
     "output_type": "stream",
     "text": [
      "  Cluster: 23\n"
     ]
    },
    {
     "name": "stdout",
     "output_type": "stream",
     "text": [
      "  Cluster: 17\n"
     ]
    },
    {
     "name": "stdout",
     "output_type": "stream",
     "text": [
      "  Cluster: 19\n"
     ]
    },
    {
     "name": "stdout",
     "output_type": "stream",
     "text": [
      "  Cluster: 15\n"
     ]
    },
    {
     "name": "stdout",
     "output_type": "stream",
     "text": [
      "  Cluster: 18\n"
     ]
    },
    {
     "name": "stdout",
     "output_type": "stream",
     "text": [
      "  Cluster: 14\n"
     ]
    },
    {
     "name": "stdout",
     "output_type": "stream",
     "text": [
      "  Cluster: 12\n"
     ]
    },
    {
     "name": "stdout",
     "output_type": "stream",
     "text": [
      "  Cluster: 21\n"
     ]
    },
    {
     "name": "stdout",
     "output_type": "stream",
     "text": [
      "  Cluster: 20\n"
     ]
    },
    {
     "name": "stdout",
     "output_type": "stream",
     "text": [
      "  Cluster: 10\n"
     ]
    },
    {
     "name": "stdout",
     "output_type": "stream",
     "text": [
      "  Cluster: 11\n"
     ]
    },
    {
     "name": "stdout",
     "output_type": "stream",
     "text": [
      "  Cluster: 5\n"
     ]
    },
    {
     "name": "stdout",
     "output_type": "stream",
     "text": [
      "  Cluster: 8\n"
     ]
    },
    {
     "name": "stdout",
     "output_type": "stream",
     "text": [
      "  Cluster: 13\n"
     ]
    },
    {
     "name": "stdout",
     "output_type": "stream",
     "text": [
      "  Cluster: 1\n"
     ]
    },
    {
     "name": "stdout",
     "output_type": "stream",
     "text": [
      "  Cluster: 3\n"
     ]
    },
    {
     "name": "stdout",
     "output_type": "stream",
     "text": [
      "  Cluster: 4\n"
     ]
    },
    {
     "name": "stdout",
     "output_type": "stream",
     "text": [
      "  Cluster: 6\n"
     ]
    },
    {
     "name": "stdout",
     "output_type": "stream",
     "text": [
      "  Cluster: 22\n"
     ]
    },
    {
     "name": "stdout",
     "output_type": "stream",
     "text": [
      "  Cluster: 16\n"
     ]
    },
    {
     "name": "stdout",
     "output_type": "stream",
     "text": [
      "  Cluster: 7\n"
     ]
    },
    {
     "name": "stdout",
     "output_type": "stream",
     "text": [
      "  Cluster: 9\n"
     ]
    },
    {
     "name": "stdout",
     "output_type": "stream",
     "text": [
      "  Cluster: 24\n"
     ]
    },
    {
     "name": "stdout",
     "output_type": "stream",
     "text": [
      "Partition k:25\n"
     ]
    },
    {
     "name": "stdout",
     "output_type": "stream",
     "text": [
      "  Cluster: 22\n"
     ]
    },
    {
     "name": "stdout",
     "output_type": "stream",
     "text": [
      "  Cluster: 23\n"
     ]
    },
    {
     "name": "stdout",
     "output_type": "stream",
     "text": [
      "  Cluster: 18\n"
     ]
    },
    {
     "name": "stdout",
     "output_type": "stream",
     "text": [
      "  Cluster: 17\n"
     ]
    },
    {
     "name": "stdout",
     "output_type": "stream",
     "text": [
      "  Cluster: 11\n"
     ]
    },
    {
     "name": "stdout",
     "output_type": "stream",
     "text": [
      "  Cluster: 19\n"
     ]
    },
    {
     "name": "stdout",
     "output_type": "stream",
     "text": [
      "  Cluster: 13\n"
     ]
    },
    {
     "name": "stdout",
     "output_type": "stream",
     "text": [
      "  Cluster: 16\n"
     ]
    },
    {
     "name": "stdout",
     "output_type": "stream",
     "text": [
      "  Cluster: 14\n"
     ]
    },
    {
     "name": "stdout",
     "output_type": "stream",
     "text": [
      "  Cluster: 15\n"
     ]
    },
    {
     "name": "stdout",
     "output_type": "stream",
     "text": [
      "  Cluster: 9\n"
     ]
    },
    {
     "name": "stdout",
     "output_type": "stream",
     "text": [
      "  Cluster: 8\n"
     ]
    },
    {
     "name": "stdout",
     "output_type": "stream",
     "text": [
      "  Cluster: 10\n"
     ]
    },
    {
     "name": "stdout",
     "output_type": "stream",
     "text": [
      "  Cluster: 4\n"
     ]
    },
    {
     "name": "stdout",
     "output_type": "stream",
     "text": [
      "  Cluster: 6\n"
     ]
    },
    {
     "name": "stdout",
     "output_type": "stream",
     "text": [
      "  Cluster: 12\n"
     ]
    },
    {
     "name": "stdout",
     "output_type": "stream",
     "text": [
      "  Cluster: 2\n"
     ]
    },
    {
     "name": "stdout",
     "output_type": "stream",
     "text": [
      "  Cluster: 1\n"
     ]
    },
    {
     "name": "stdout",
     "output_type": "stream",
     "text": [
      "  Cluster: 3\n"
     ]
    },
    {
     "name": "stdout",
     "output_type": "stream",
     "text": [
      "  Cluster: 5\n"
     ]
    },
    {
     "name": "stdout",
     "output_type": "stream",
     "text": [
      "  Cluster: 21\n"
     ]
    },
    {
     "name": "stdout",
     "output_type": "stream",
     "text": [
      "  Cluster: 24\n"
     ]
    },
    {
     "name": "stdout",
     "output_type": "stream",
     "text": [
      "  Cluster: 7\n"
     ]
    },
    {
     "name": "stdout",
     "output_type": "stream",
     "text": [
      "  Cluster: 20\n"
     ]
    },
    {
     "name": "stdout",
     "output_type": "stream",
     "text": [
      "Partition k:22\n"
     ]
    },
    {
     "name": "stdout",
     "output_type": "stream",
     "text": [
      "  Cluster: 20\n"
     ]
    },
    {
     "name": "stdout",
     "output_type": "stream",
     "text": [
      "  Cluster: 17\n"
     ]
    },
    {
     "name": "stdout",
     "output_type": "stream",
     "text": [
      "  Cluster: 18\n"
     ]
    },
    {
     "name": "stdout",
     "output_type": "stream",
     "text": [
      "  Cluster: 15\n"
     ]
    },
    {
     "name": "stdout",
     "output_type": "stream",
     "text": [
      "  Cluster: 19\n"
     ]
    },
    {
     "name": "stdout",
     "output_type": "stream",
     "text": [
      "  Cluster: 9\n"
     ]
    },
    {
     "name": "stdout",
     "output_type": "stream",
     "text": [
      "  Cluster: 14\n"
     ]
    },
    {
     "name": "stdout",
     "output_type": "stream",
     "text": [
      "  Cluster: 0\n"
     ]
    },
    {
     "name": "stdout",
     "output_type": "stream",
     "text": [
      "  Cluster: 13\n"
     ]
    },
    {
     "name": "stdout",
     "output_type": "stream",
     "text": [
      "  Cluster: 16\n"
     ]
    },
    {
     "name": "stdout",
     "output_type": "stream",
     "text": [
      "  Cluster: 11\n"
     ]
    },
    {
     "name": "stdout",
     "output_type": "stream",
     "text": [
      "  Cluster: 10\n"
     ]
    },
    {
     "name": "stdout",
     "output_type": "stream",
     "text": [
      "  Cluster: 7\n"
     ]
    },
    {
     "name": "stdout",
     "output_type": "stream",
     "text": [
      "  Cluster: 8\n"
     ]
    },
    {
     "name": "stdout",
     "output_type": "stream",
     "text": [
      "  Cluster: 6\n"
     ]
    },
    {
     "name": "stdout",
     "output_type": "stream",
     "text": [
      "  Cluster: 12\n"
     ]
    },
    {
     "name": "stdout",
     "output_type": "stream",
     "text": [
      "  Cluster: 2\n"
     ]
    },
    {
     "name": "stdout",
     "output_type": "stream",
     "text": [
      "  Cluster: 3\n"
     ]
    },
    {
     "name": "stdout",
     "output_type": "stream",
     "text": [
      "  Cluster: 5\n"
     ]
    },
    {
     "name": "stdout",
     "output_type": "stream",
     "text": [
      "  Cluster: 4\n"
     ]
    },
    {
     "name": "stdout",
     "output_type": "stream",
     "text": [
      "  Cluster: 21\n"
     ]
    },
    {
     "name": "stdout",
     "output_type": "stream",
     "text": [
      "Partition k:16\n"
     ]
    },
    {
     "name": "stdout",
     "output_type": "stream",
     "text": [
      "  Cluster: 14\n"
     ]
    },
    {
     "name": "stdout",
     "output_type": "stream",
     "text": [
      "  Cluster: 11\n"
     ]
    },
    {
     "name": "stdout",
     "output_type": "stream",
     "text": [
      "  Cluster: 10\n"
     ]
    },
    {
     "name": "stdout",
     "output_type": "stream",
     "text": [
      "  Cluster: 12\n"
     ]
    },
    {
     "name": "stdout",
     "output_type": "stream",
     "text": [
      "  Cluster: 1\n"
     ]
    },
    {
     "name": "stdout",
     "output_type": "stream",
     "text": [
      "  Cluster: 2\n"
     ]
    },
    {
     "name": "stdout",
     "output_type": "stream",
     "text": [
      "  Cluster: 8\n"
     ]
    },
    {
     "name": "stdout",
     "output_type": "stream",
     "text": [
      "  Cluster: 6\n"
     ]
    },
    {
     "name": "stdout",
     "output_type": "stream",
     "text": [
      "  Cluster: 9\n"
     ]
    },
    {
     "name": "stdout",
     "output_type": "stream",
     "text": [
      "  Cluster: 7\n"
     ]
    },
    {
     "name": "stdout",
     "output_type": "stream",
     "text": [
      "  Cluster: 13\n"
     ]
    },
    {
     "name": "stdout",
     "output_type": "stream",
     "text": [
      "  Cluster: 5\n"
     ]
    },
    {
     "name": "stdout",
     "output_type": "stream",
     "text": [
      "  Cluster: 15\n"
     ]
    },
    {
     "name": "stdout",
     "output_type": "stream",
     "text": [
      "  Cluster: 3\n"
     ]
    },
    {
     "name": "stdout",
     "output_type": "stream",
     "text": [
      "  Cluster: 4\n"
     ]
    }
   ],
   "source": [
    "tasks = {}\n",
    "\n",
    "with Pool(conf.GENERAL[\"N_JOBS\"]) as pool:\n",
    "    for part_k in selected_partition_ks:\n",
    "        print(f\"Partition k:{part_k}\", flush=True)\n",
    "\n",
    "        output_folder = Path(CLUSTER_ANALYSIS_OUTPUT_DIR, f\"part{part_k}\").resolve()\n",
    "        shutil.rmtree(output_folder, ignore_errors=True)\n",
    "        output_folder.mkdir()\n",
    "\n",
    "        part = best_partitions.loc[part_k, \"partition\"]\n",
    "        part_clusters = pd.Series(part).value_counts()\n",
    "\n",
    "        # always skip the biggest cluster in each partition\n",
    "        for c_size_idx, c in enumerate(part_clusters.index[1:]):\n",
    "            print(f\"  Cluster: {c}\", flush=True)\n",
    "\n",
    "            input_nb = Path(\n",
    "                conf.RESULTS[\"CLUSTERING_INTERPRETATION\"][\"CLUSTERS_STATS\"],\n",
    "                \"interpret_cluster.run.ipynb\",\n",
    "            ).resolve()\n",
    "\n",
    "            output_nb = Path(\n",
    "                output_folder, f\"{c_size_idx:02}-part{part_k}_k{c}.run.ipynb\"\n",
    "            ).resolve()\n",
    "\n",
    "            parameters = dict(PARTITION_K=part_k, PARTITION_CLUSTER_ID=c)\n",
    "\n",
    "            res = pool.apply_async(\n",
    "                run_notebook,\n",
    "                (\n",
    "                    input_nb,\n",
    "                    output_nb,\n",
    "                    parameters,\n",
    "                    {k: v for k, v in os.environ.items()},\n",
    "                ),\n",
    "            )\n",
    "            tasks[f\"{part_k}_k{c}\"] = res\n",
    "\n",
    "    pool.close()\n",
    "\n",
    "    # show errors, if any\n",
    "    for k, t in tasks.items():\n",
    "        t.wait()\n",
    "\n",
    "        cmd, out = t.get()\n",
    "        if out.returncode != 0:\n",
    "            display(k)\n",
    "            print(cmd)\n",
    "            print(out.stdout)\n",
    "\n",
    "            pool.terminate()\n",
    "            break"
   ]
  },
  {
   "cell_type": "code",
   "execution_count": null,
   "metadata": {
    "papermill": {
     "duration": 0.025146,
     "end_time": "2021-03-12T18:44:33.829520",
     "exception": false,
     "start_time": "2021-03-12T18:44:33.804374",
     "status": "completed"
    },
    "tags": []
   },
   "outputs": [],
   "source": []
  }
 ],
 "metadata": {
  "jupytext": {
   "cell_metadata_filter": "all,-execution,-papermill,-trusted",
   "formats": "ipynb,py//py:percent"
  },
  "kernelspec": {
   "display_name": "Python 3",
   "language": "python",
   "name": "python3"
  },
  "language_info": {
   "codemirror_mode": {
    "name": "ipython",
    "version": 3
   },
   "file_extension": ".py",
   "mimetype": "text/x-python",
   "name": "python",
   "nbconvert_exporter": "python",
   "pygments_lexer": "ipython3",
   "version": "3.8.8"
  },
  "papermill": {
   "default_parameters": {},
   "duration": 7450.875679,
   "end_time": "2021-03-12T18:44:34.158076",
   "environment_variables": {},
   "exception": null,
   "input_path": "20_cluster_interpretation/000-run_cluster_interpretation.ipynb",
   "output_path": "20_cluster_interpretation/000-run_cluster_interpretation.run.ipynb",
   "parameters": {},
   "start_time": "2021-03-12T16:40:23.282397",
   "version": "2.2.2"
  },
  "toc-autonumbering": true
 },
 "nbformat": 4,
 "nbformat_minor": 4
}
