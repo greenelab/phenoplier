{
 "cells": [
  {
   "cell_type": "markdown",
   "metadata": {
    "papermill": {
     "duration": 0.009566,
     "end_time": "2021-03-11T20:22:48.339970",
     "exception": false,
     "start_time": "2021-03-11T20:22:48.330404",
     "status": "completed"
    },
    "tags": []
   },
   "source": [
    "# Description"
   ]
  },
  {
   "cell_type": "markdown",
   "metadata": {
    "papermill": {
     "duration": 0.005602,
     "end_time": "2021-03-11T20:22:48.351493",
     "exception": false,
     "start_time": "2021-03-11T20:22:48.345891",
     "status": "completed"
    },
    "tags": []
   },
   "source": [
    "This notebook reads clustering results taking the top 4 partitions with more clusters, and analyzes each cluster providing a list of latent variables (LV) that are driving that cluster. For example, for the hypertension traits, it might find an LV with genes expressed in cardiomyocytes or other potentially related cell types.\n",
    "\n",
    "It uses the `papermill` API to run the notebook `interpret_cluster.run.ipynb` (which serves as a template) for each cluster. Results are saved in folder `cluster_analyses`."
   ]
  },
  {
   "cell_type": "markdown",
   "metadata": {
    "papermill": {
     "duration": 0.005435,
     "end_time": "2021-03-11T20:22:48.362563",
     "exception": false,
     "start_time": "2021-03-11T20:22:48.357128",
     "status": "completed"
    },
    "tags": []
   },
   "source": [
    "# Modules loading"
   ]
  },
  {
   "cell_type": "code",
   "execution_count": 1,
   "metadata": {
    "execution": {
     "iopub.execute_input": "2021-03-11T20:22:48.379308Z",
     "iopub.status.busy": "2021-03-11T20:22:48.378936Z",
     "iopub.status.idle": "2021-03-11T20:22:48.386255Z",
     "shell.execute_reply": "2021-03-11T20:22:48.385896Z"
    },
    "papermill": {
     "duration": 0.018262,
     "end_time": "2021-03-11T20:22:48.386347",
     "exception": false,
     "start_time": "2021-03-11T20:22:48.368085",
     "status": "completed"
    },
    "tags": []
   },
   "outputs": [],
   "source": [
    "%load_ext autoreload\n",
    "%autoreload 2"
   ]
  },
  {
   "cell_type": "code",
   "execution_count": 2,
   "metadata": {
    "execution": {
     "iopub.execute_input": "2021-03-11T20:22:48.402037Z",
     "iopub.status.busy": "2021-03-11T20:22:48.401675Z",
     "iopub.status.idle": "2021-03-11T20:22:48.713613Z",
     "shell.execute_reply": "2021-03-11T20:22:48.713258Z"
    },
    "papermill": {
     "duration": 0.320203,
     "end_time": "2021-03-11T20:22:48.713711",
     "exception": false,
     "start_time": "2021-03-11T20:22:48.393508",
     "status": "completed"
    },
    "tags": []
   },
   "outputs": [],
   "source": [
    "import os\n",
    "import shutil\n",
    "from multiprocessing import Pool\n",
    "import subprocess\n",
    "from pathlib import Path\n",
    "from concurrent.futures import ProcessPoolExecutor, as_completed\n",
    "\n",
    "import pandas as pd\n",
    "import papermill as pm\n",
    "\n",
    "import conf"
   ]
  },
  {
   "cell_type": "markdown",
   "metadata": {
    "papermill": {
     "duration": 0.006133,
     "end_time": "2021-03-11T20:22:48.726602",
     "exception": false,
     "start_time": "2021-03-11T20:22:48.720469",
     "status": "completed"
    },
    "tags": []
   },
   "source": [
    "# Load best partitions"
   ]
  },
  {
   "cell_type": "code",
   "execution_count": 3,
   "metadata": {
    "execution": {
     "iopub.execute_input": "2021-03-11T20:22:48.741185Z",
     "iopub.status.busy": "2021-03-11T20:22:48.740795Z",
     "iopub.status.idle": "2021-03-11T20:22:48.754483Z",
     "shell.execute_reply": "2021-03-11T20:22:48.754109Z"
    },
    "papermill": {
     "duration": 0.021894,
     "end_time": "2021-03-11T20:22:48.754569",
     "exception": false,
     "start_time": "2021-03-11T20:22:48.732675",
     "status": "completed"
    },
    "tags": []
   },
   "outputs": [
    {
     "data": {
      "text/plain": [
       "PosixPath('/home/miltondp/projects/labs/greenelab/phenoplier/base/results/clustering/consensus_clustering')"
      ]
     },
     "metadata": {},
     "output_type": "display_data"
    }
   ],
   "source": [
    "CONSENSUS_CLUSTERING_DIR = Path(\n",
    "    conf.RESULTS[\"CLUSTERING_DIR\"], \"consensus_clustering\"\n",
    ").resolve()\n",
    "\n",
    "display(CONSENSUS_CLUSTERING_DIR)"
   ]
  },
  {
   "cell_type": "code",
   "execution_count": 4,
   "metadata": {
    "execution": {
     "iopub.execute_input": "2021-03-11T20:22:48.769867Z",
     "iopub.status.busy": "2021-03-11T20:22:48.769498Z",
     "iopub.status.idle": "2021-03-11T20:22:48.778772Z",
     "shell.execute_reply": "2021-03-11T20:22:48.778463Z"
    },
    "papermill": {
     "duration": 0.017517,
     "end_time": "2021-03-11T20:22:48.778860",
     "exception": false,
     "start_time": "2021-03-11T20:22:48.761343",
     "status": "completed"
    },
    "tags": []
   },
   "outputs": [
    {
     "data": {
      "text/plain": [
       "PosixPath('/home/miltondp/projects/labs/greenelab/phenoplier/base/results/clustering/consensus_clustering/best_partitions_by_k.pkl')"
      ]
     },
     "metadata": {},
     "output_type": "display_data"
    }
   ],
   "source": [
    "input_file = Path(CONSENSUS_CLUSTERING_DIR, \"best_partitions_by_k.pkl\").resolve()\n",
    "display(input_file)"
   ]
  },
  {
   "cell_type": "code",
   "execution_count": 5,
   "metadata": {
    "execution": {
     "iopub.execute_input": "2021-03-11T20:22:48.794813Z",
     "iopub.status.busy": "2021-03-11T20:22:48.794436Z",
     "iopub.status.idle": "2021-03-11T20:22:48.804845Z",
     "shell.execute_reply": "2021-03-11T20:22:48.804467Z"
    },
    "papermill": {
     "duration": 0.019221,
     "end_time": "2021-03-11T20:22:48.804934",
     "exception": false,
     "start_time": "2021-03-11T20:22:48.785713",
     "status": "completed"
    },
    "tags": []
   },
   "outputs": [],
   "source": [
    "best_partitions = pd.read_pickle(input_file)"
   ]
  },
  {
   "cell_type": "code",
   "execution_count": 6,
   "metadata": {
    "execution": {
     "iopub.execute_input": "2021-03-11T20:22:48.821546Z",
     "iopub.status.busy": "2021-03-11T20:22:48.821153Z",
     "iopub.status.idle": "2021-03-11T20:22:48.829941Z",
     "shell.execute_reply": "2021-03-11T20:22:48.829551Z"
    },
    "papermill": {
     "duration": 0.017921,
     "end_time": "2021-03-11T20:22:48.830029",
     "exception": false,
     "start_time": "2021-03-11T20:22:48.812108",
     "status": "completed"
    },
    "tags": []
   },
   "outputs": [],
   "source": [
    "assert best_partitions.index.is_unique"
   ]
  },
  {
   "cell_type": "code",
   "execution_count": 7,
   "metadata": {
    "execution": {
     "iopub.execute_input": "2021-03-11T20:22:48.846602Z",
     "iopub.status.busy": "2021-03-11T20:22:48.846213Z",
     "iopub.status.idle": "2021-03-11T20:22:48.855874Z",
     "shell.execute_reply": "2021-03-11T20:22:48.855478Z"
    },
    "papermill": {
     "duration": 0.018625,
     "end_time": "2021-03-11T20:22:48.855963",
     "exception": false,
     "start_time": "2021-03-11T20:22:48.837338",
     "status": "completed"
    },
    "tags": []
   },
   "outputs": [
    {
     "data": {
      "text/plain": [
       "(59, 4)"
      ]
     },
     "execution_count": 7,
     "metadata": {},
     "output_type": "execute_result"
    }
   ],
   "source": [
    "best_partitions.shape"
   ]
  },
  {
   "cell_type": "code",
   "execution_count": 8,
   "metadata": {
    "execution": {
     "iopub.execute_input": "2021-03-11T20:22:48.873087Z",
     "iopub.status.busy": "2021-03-11T20:22:48.872697Z",
     "iopub.status.idle": "2021-03-11T20:22:48.891545Z",
     "shell.execute_reply": "2021-03-11T20:22:48.891220Z"
    },
    "papermill": {
     "duration": 0.028138,
     "end_time": "2021-03-11T20:22:48.891636",
     "exception": false,
     "start_time": "2021-03-11T20:22:48.863498",
     "status": "completed"
    },
    "tags": []
   },
   "outputs": [
    {
     "data": {
      "text/html": [
       "<div>\n",
       "<style scoped>\n",
       "    .dataframe tbody tr th:only-of-type {\n",
       "        vertical-align: middle;\n",
       "    }\n",
       "\n",
       "    .dataframe tbody tr th {\n",
       "        vertical-align: top;\n",
       "    }\n",
       "\n",
       "    .dataframe thead th {\n",
       "        text-align: right;\n",
       "    }\n",
       "</style>\n",
       "<table border=\"1\" class=\"dataframe\">\n",
       "  <thead>\n",
       "    <tr style=\"text-align: right;\">\n",
       "      <th></th>\n",
       "      <th>method</th>\n",
       "      <th>partition</th>\n",
       "      <th>ari_median</th>\n",
       "      <th>selected</th>\n",
       "    </tr>\n",
       "    <tr>\n",
       "      <th>k</th>\n",
       "      <th></th>\n",
       "      <th></th>\n",
       "      <th></th>\n",
       "      <th></th>\n",
       "    </tr>\n",
       "  </thead>\n",
       "  <tbody>\n",
       "    <tr>\n",
       "      <th>11</th>\n",
       "      <td>scc_025</td>\n",
       "      <td>[0, 0, 0, 0, 0, 0, 0, 0, 0, 0, 0, 0, 0, 0, 0, ...</td>\n",
       "      <td>0.090231</td>\n",
       "      <td>True</td>\n",
       "    </tr>\n",
       "    <tr>\n",
       "      <th>13</th>\n",
       "      <td>scc_025</td>\n",
       "      <td>[2, 2, 2, 2, 2, 2, 2, 2, 2, 2, 2, 2, 2, 2, 2, ...</td>\n",
       "      <td>0.090222</td>\n",
       "      <td>True</td>\n",
       "    </tr>\n",
       "    <tr>\n",
       "      <th>14</th>\n",
       "      <td>scc_025</td>\n",
       "      <td>[0, 0, 0, 0, 0, 0, 0, 0, 0, 0, 0, 0, 0, 0, 0, ...</td>\n",
       "      <td>0.090138</td>\n",
       "      <td>True</td>\n",
       "    </tr>\n",
       "    <tr>\n",
       "      <th>22</th>\n",
       "      <td>scc_020</td>\n",
       "      <td>[1, 19, 19, 19, 19, 19, 19, 19, 19, 1, 19, 19,...</td>\n",
       "      <td>0.090117</td>\n",
       "      <td>True</td>\n",
       "    </tr>\n",
       "    <tr>\n",
       "      <th>12</th>\n",
       "      <td>scc_025</td>\n",
       "      <td>[10, 10, 10, 10, 10, 10, 10, 10, 10, 10, 10, 1...</td>\n",
       "      <td>0.089742</td>\n",
       "      <td>True</td>\n",
       "    </tr>\n",
       "  </tbody>\n",
       "</table>\n",
       "</div>"
      ],
      "text/plain": [
       "     method                                          partition  ari_median  \\\n",
       "k                                                                            \n",
       "11  scc_025  [0, 0, 0, 0, 0, 0, 0, 0, 0, 0, 0, 0, 0, 0, 0, ...    0.090231   \n",
       "13  scc_025  [2, 2, 2, 2, 2, 2, 2, 2, 2, 2, 2, 2, 2, 2, 2, ...    0.090222   \n",
       "14  scc_025  [0, 0, 0, 0, 0, 0, 0, 0, 0, 0, 0, 0, 0, 0, 0, ...    0.090138   \n",
       "22  scc_020  [1, 19, 19, 19, 19, 19, 19, 19, 19, 1, 19, 19,...    0.090117   \n",
       "12  scc_025  [10, 10, 10, 10, 10, 10, 10, 10, 10, 10, 10, 1...    0.089742   \n",
       "\n",
       "    selected  \n",
       "k             \n",
       "11      True  \n",
       "13      True  \n",
       "14      True  \n",
       "22      True  \n",
       "12      True  "
      ]
     },
     "execution_count": 8,
     "metadata": {},
     "output_type": "execute_result"
    }
   ],
   "source": [
    "best_partitions.head()"
   ]
  },
  {
   "cell_type": "markdown",
   "metadata": {
    "papermill": {
     "duration": 0.007601,
     "end_time": "2021-03-11T20:22:48.907104",
     "exception": false,
     "start_time": "2021-03-11T20:22:48.899503",
     "status": "completed"
    },
    "tags": []
   },
   "source": [
    "# Select top k partitions"
   ]
  },
  {
   "cell_type": "code",
   "execution_count": 9,
   "metadata": {
    "execution": {
     "iopub.execute_input": "2021-03-11T20:22:48.925052Z",
     "iopub.status.busy": "2021-03-11T20:22:48.924625Z",
     "iopub.status.idle": "2021-03-11T20:22:48.934266Z",
     "shell.execute_reply": "2021-03-11T20:22:48.934541Z"
    },
    "papermill": {
     "duration": 0.019851,
     "end_time": "2021-03-11T20:22:48.934645",
     "exception": false,
     "start_time": "2021-03-11T20:22:48.914794",
     "status": "completed"
    },
    "tags": []
   },
   "outputs": [
    {
     "data": {
      "text/plain": [
       "Int64Index([26, 25, 22, 16], dtype='int64', name='k')"
      ]
     },
     "metadata": {},
     "output_type": "display_data"
    }
   ],
   "source": [
    "# I take the top 4 partitions (according to their number of clusters).\n",
    "# These are the partitions that will be analyzed in the manuscript.\n",
    "selected_partition_ks = best_partitions[best_partitions[\"selected\"]].index.sort_values(\n",
    "    ascending=False\n",
    ")[:4]\n",
    "display(selected_partition_ks)"
   ]
  },
  {
   "cell_type": "markdown",
   "metadata": {
    "papermill": {
     "duration": 0.007345,
     "end_time": "2021-03-11T20:22:48.949534",
     "exception": false,
     "start_time": "2021-03-11T20:22:48.942189",
     "status": "completed"
    },
    "tags": []
   },
   "source": [
    "# Run interpretation"
   ]
  },
  {
   "cell_type": "code",
   "execution_count": 10,
   "metadata": {
    "execution": {
     "iopub.execute_input": "2021-03-11T20:22:48.967048Z",
     "iopub.status.busy": "2021-03-11T20:22:48.966686Z",
     "iopub.status.idle": "2021-03-11T20:22:48.975904Z",
     "shell.execute_reply": "2021-03-11T20:22:48.975542Z"
    },
    "papermill": {
     "duration": 0.018977,
     "end_time": "2021-03-11T20:22:48.975989",
     "exception": false,
     "start_time": "2021-03-11T20:22:48.957012",
     "status": "completed"
    },
    "tags": []
   },
   "outputs": [
    {
     "data": {
      "text/plain": [
       "PosixPath('/home/miltondp/projects/labs/greenelab/phenoplier/nbs/20_cluster_interpretation/cluster_analyses')"
      ]
     },
     "metadata": {},
     "output_type": "display_data"
    }
   ],
   "source": [
    "CLUSTER_ANALYSIS_OUTPUT_DIR = Path(\n",
    "    conf.RESULTS[\"CLUSTERING_INTERPRETATION\"][\"CLUSTERS_STATS\"],\n",
    "    \"cluster_analyses\",\n",
    ").resolve()\n",
    "display(CLUSTER_ANALYSIS_OUTPUT_DIR)"
   ]
  },
  {
   "cell_type": "code",
   "execution_count": 11,
   "metadata": {
    "execution": {
     "iopub.execute_input": "2021-03-11T20:22:48.994030Z",
     "iopub.status.busy": "2021-03-11T20:22:48.993665Z",
     "iopub.status.idle": "2021-03-11T20:22:49.001827Z",
     "shell.execute_reply": "2021-03-11T20:22:49.002108Z"
    },
    "papermill": {
     "duration": 0.018224,
     "end_time": "2021-03-11T20:22:49.002212",
     "exception": false,
     "start_time": "2021-03-11T20:22:48.983988",
     "status": "completed"
    },
    "tags": []
   },
   "outputs": [],
   "source": [
    "CLUSTER_ANALYSIS_OUTPUT_DIR.mkdir(exist_ok=True)"
   ]
  },
  {
   "cell_type": "code",
   "execution_count": 12,
   "metadata": {
    "execution": {
     "iopub.execute_input": "2021-03-11T20:22:49.022690Z",
     "iopub.status.busy": "2021-03-11T20:22:49.022273Z",
     "iopub.status.idle": "2021-03-11T20:22:49.031571Z",
     "shell.execute_reply": "2021-03-11T20:22:49.031166Z"
    },
    "papermill": {
     "duration": 0.021412,
     "end_time": "2021-03-11T20:22:49.031663",
     "exception": false,
     "start_time": "2021-03-11T20:22:49.010251",
     "status": "completed"
    },
    "tags": []
   },
   "outputs": [],
   "source": [
    "def run_notebook(input_nb, output_nb, parameters, environment):\n",
    "    options = []\n",
    "    for k, v in parameters.items():\n",
    "        options.append(\"-p\")\n",
    "        options.append(str(k))\n",
    "        options.append(str(v))\n",
    "\n",
    "    cmdlist = (\n",
    "        [\"papermill\"]\n",
    "        + [\n",
    "            f\"'{input_nb}'\",\n",
    "            f\"'{output_nb}'\",\n",
    "        ]\n",
    "        + options\n",
    "    )\n",
    "    cmdlist = \" \".join(cmdlist)\n",
    "\n",
    "    res = subprocess.run(\n",
    "        cmdlist,\n",
    "        shell=True,\n",
    "        stdout=subprocess.PIPE,\n",
    "        stderr=subprocess.STDOUT,\n",
    "        env=environment,\n",
    "        text=True,\n",
    "    )\n",
    "    return cmdlist, res"
   ]
  },
  {
   "cell_type": "code",
   "execution_count": 13,
   "metadata": {
    "execution": {
     "iopub.execute_input": "2021-03-11T20:22:49.054472Z",
     "iopub.status.busy": "2021-03-11T20:22:49.054047Z",
     "iopub.status.idle": "2021-03-11T21:24:30.446077Z",
     "shell.execute_reply": "2021-03-11T21:24:30.445581Z"
    },
    "papermill": {
     "duration": 3701.405682,
     "end_time": "2021-03-11T21:24:30.446188",
     "exception": false,
     "start_time": "2021-03-11T20:22:49.040506",
     "status": "completed"
    },
    "tags": []
   },
   "outputs": [
    {
     "name": "stdout",
     "output_type": "stream",
     "text": [
      "Partition k:26\n",
      "  Cluster: 0\n",
      "  Cluster: 25\n",
      "  Cluster: 23\n",
      "  Cluster: 17\n",
      "  Cluster: 19\n",
      "  Cluster: 15\n",
      "  Cluster: 18\n",
      "  Cluster: 14\n",
      "  Cluster: 12\n",
      "  Cluster: 21\n",
      "  Cluster: 20\n",
      "  Cluster: 10\n",
      "  Cluster: 11\n",
      "  Cluster: 5\n",
      "  Cluster: 8\n",
      "  Cluster: 13\n",
      "  Cluster: 1\n",
      "  Cluster: 3\n",
      "  Cluster: 4\n",
      "  Cluster: 6\n",
      "  Cluster: 22\n",
      "  Cluster: 16\n",
      "  Cluster: 7\n",
      "  Cluster: 9\n",
      "  Cluster: 24\n",
      "Partition k:25\n",
      "  Cluster: 22\n",
      "  Cluster: 23\n",
      "  Cluster: 18\n",
      "  Cluster: 17\n",
      "  Cluster: 11\n",
      "  Cluster: 19\n",
      "  Cluster: 13\n",
      "  Cluster: 16\n",
      "  Cluster: 14\n",
      "  Cluster: 15\n",
      "  Cluster: 9\n",
      "  Cluster: 8\n",
      "  Cluster: 10\n",
      "  Cluster: 4\n",
      "  Cluster: 6\n",
      "  Cluster: 12\n",
      "  Cluster: 2\n",
      "  Cluster: 1\n",
      "  Cluster: 3\n",
      "  Cluster: 5\n",
      "  Cluster: 21\n",
      "  Cluster: 24\n",
      "  Cluster: 7\n",
      "  Cluster: 20\n",
      "Partition k:22\n",
      "  Cluster: 20\n",
      "  Cluster: 17\n",
      "  Cluster: 18\n",
      "  Cluster: 15\n",
      "  Cluster: 19\n",
      "  Cluster: 9\n",
      "  Cluster: 14\n",
      "  Cluster: 0\n",
      "  Cluster: 13\n",
      "  Cluster: 16\n",
      "  Cluster: 11\n",
      "  Cluster: 10\n",
      "  Cluster: 7\n",
      "  Cluster: 8\n",
      "  Cluster: 6\n",
      "  Cluster: 12\n",
      "  Cluster: 2\n",
      "  Cluster: 3\n",
      "  Cluster: 5\n",
      "  Cluster: 4\n",
      "  Cluster: 21\n",
      "Partition k:16\n",
      "  Cluster: 14\n",
      "  Cluster: 11\n",
      "  Cluster: 10\n",
      "  Cluster: 12\n",
      "  Cluster: 1\n",
      "  Cluster: 2\n",
      "  Cluster: 8\n",
      "  Cluster: 6\n",
      "  Cluster: 9\n",
      "  Cluster: 7\n",
      "  Cluster: 13\n",
      "  Cluster: 5\n",
      "  Cluster: 15\n",
      "  Cluster: 3\n",
      "  Cluster: 4\n"
     ]
    }
   ],
   "source": [
    "tasks = {}\n",
    "\n",
    "with Pool(conf.GENERAL[\"N_JOBS\"]) as pool:\n",
    "    for part_k in selected_partition_ks:\n",
    "        print(f\"Partition k:{part_k}\", flush=True)\n",
    "\n",
    "        output_folder = Path(CLUSTER_ANALYSIS_OUTPUT_DIR, f\"part{part_k}\").resolve()\n",
    "        shutil.rmtree(output_folder, ignore_errors=True)\n",
    "        output_folder.mkdir()\n",
    "\n",
    "        part = best_partitions.loc[part_k, \"partition\"]\n",
    "        part_clusters = pd.Series(part).value_counts()\n",
    "\n",
    "        # always skip the biggest cluster in each partition\n",
    "        for c_size_idx, c in enumerate(part_clusters.index[1:]):\n",
    "            print(f\"  Cluster: {c}\", flush=True)\n",
    "\n",
    "            input_nb = Path(\n",
    "                conf.RESULTS[\"CLUSTERING_INTERPRETATION\"][\"CLUSTERS_STATS\"],\n",
    "                \"interpret_cluster.run.ipynb\",\n",
    "            ).resolve()\n",
    "\n",
    "            output_nb = Path(\n",
    "                output_folder, f\"{c_size_idx:02}-part{part_k}_k{c}.run.ipynb\"\n",
    "            ).resolve()\n",
    "\n",
    "            parameters = dict(PARTITION_K=part_k, PARTITION_CLUSTER_ID=c)\n",
    "\n",
    "            res = pool.apply_async(\n",
    "                run_notebook,\n",
    "                (\n",
    "                    input_nb,\n",
    "                    output_nb,\n",
    "                    parameters,\n",
    "                    {k: v for k, v in os.environ.items()},\n",
    "                ),\n",
    "            )\n",
    "            tasks[f\"{part_k}_k{c}\"] = res\n",
    "\n",
    "    pool.close()\n",
    "\n",
    "    # show errors, if any\n",
    "    for k, t in tasks.items():\n",
    "        t.wait()\n",
    "\n",
    "        cmd, out = t.get()\n",
    "        if out.returncode != 0:\n",
    "            display(k)\n",
    "            print(cmd)\n",
    "            print(out.stdout)\n",
    "\n",
    "            pool.terminate()\n",
    "            break"
   ]
  },
  {
   "cell_type": "code",
   "execution_count": null,
   "metadata": {
    "papermill": {
     "duration": 0.024258,
     "end_time": "2021-03-11T21:24:30.498660",
     "exception": false,
     "start_time": "2021-03-11T21:24:30.474402",
     "status": "completed"
    },
    "tags": []
   },
   "outputs": [],
   "source": []
  }
 ],
 "metadata": {
  "jupytext": {
   "cell_metadata_filter": "all,-execution,-papermill,-trusted",
   "formats": "ipynb,py//py:percent"
  },
  "kernelspec": {
   "display_name": "Python 3",
   "language": "python",
   "name": "python3"
  },
  "language_info": {
   "codemirror_mode": {
    "name": "ipython",
    "version": 3
   },
   "file_extension": ".py",
   "mimetype": "text/x-python",
   "name": "python",
   "nbconvert_exporter": "python",
   "pygments_lexer": "ipython3",
   "version": "3.8.8"
  },
  "papermill": {
   "default_parameters": {},
   "duration": 3703.469971,
   "end_time": "2021-03-11T21:24:30.826804",
   "environment_variables": {},
   "exception": null,
   "input_path": "20_cluster_interpretation/000-run_cluster_interpretation.ipynb",
   "output_path": "20_cluster_interpretation/000-run_cluster_interpretation.run.ipynb",
   "parameters": {},
   "start_time": "2021-03-11T20:22:47.356833",
   "version": "2.2.2"
  },
  "toc-autonumbering": true
 },
 "nbformat": 4,
 "nbformat_minor": 4
}
