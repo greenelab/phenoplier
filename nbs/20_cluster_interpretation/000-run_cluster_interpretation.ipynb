{
 "cells": [
  {
   "cell_type": "markdown",
   "metadata": {
    "papermill": {
     "duration": 0.032874,
     "end_time": "2021-02-27T05:07:32.255098",
     "exception": false,
     "start_time": "2021-02-27T05:07:32.222224",
     "status": "completed"
    },
    "tags": []
   },
   "source": [
    "# Description"
   ]
  },
  {
   "cell_type": "markdown",
   "metadata": {
    "papermill": {
     "duration": 0.009202,
     "end_time": "2021-02-27T05:07:32.278735",
     "exception": false,
     "start_time": "2021-02-27T05:07:32.269533",
     "status": "completed"
    },
    "tags": []
   },
   "source": [
    "This notebook reads clustering results taking the top 4 partitions with more clusters, and analyzes each cluster providing a list of latent variables (LV) that are driving that cluster. For example, for the hypertension traits, it might find an LV with genes expressed in cardiomyocytes or other potentially related cell types.\n",
    "\n",
    "It uses the `papermill` API to run the notebook `interpret_cluster.run.ipynb` (which serves as a template) for each cluster. Results are saved in folder `cluster_analyses`."
   ]
  },
  {
   "cell_type": "markdown",
   "metadata": {
    "papermill": {
     "duration": 0.007019,
     "end_time": "2021-02-27T05:07:32.293295",
     "exception": false,
     "start_time": "2021-02-27T05:07:32.286276",
     "status": "completed"
    },
    "tags": []
   },
   "source": [
    "# Modules loading"
   ]
  },
  {
   "cell_type": "code",
   "execution_count": null,
   "metadata": {
    "papermill": {
     "duration": 0.018604,
     "end_time": "2021-02-27T05:07:32.318904",
     "exception": false,
     "start_time": "2021-02-27T05:07:32.300300",
     "status": "completed"
    },
    "tags": []
   },
   "outputs": [],
   "source": [
    "%load_ext autoreload\n",
    "%autoreload 2"
   ]
  },
  {
   "cell_type": "code",
   "execution_count": null,
   "metadata": {
    "papermill": {
     "duration": 0.320727,
     "end_time": "2021-02-27T05:07:32.647115",
     "exception": false,
     "start_time": "2021-02-27T05:07:32.326388",
     "status": "completed"
    },
    "tags": []
   },
   "outputs": [],
   "source": [
    "import os\n",
    "import shutil\n",
    "from multiprocessing import Pool\n",
    "import subprocess\n",
    "from pathlib import Path\n",
    "from concurrent.futures import ProcessPoolExecutor, as_completed\n",
    "\n",
    "import pandas as pd\n",
    "import papermill as pm\n",
    "\n",
    "import conf"
   ]
  },
  {
   "cell_type": "markdown",
   "metadata": {
    "papermill": {
     "duration": 0.007168,
     "end_time": "2021-02-27T05:07:32.704573",
     "exception": false,
     "start_time": "2021-02-27T05:07:32.697405",
     "status": "completed"
    },
    "tags": []
   },
   "source": [
    "# Load best partitions"
   ]
  },
  {
   "cell_type": "code",
   "execution_count": null,
   "metadata": {
    "papermill": {
     "duration": 0.022916,
     "end_time": "2021-02-27T05:07:32.734797",
     "exception": false,
     "start_time": "2021-02-27T05:07:32.711881",
     "status": "completed"
    },
    "tags": []
   },
   "outputs": [],
   "source": [
    "CONSENSUS_CLUSTERING_DIR = Path(\n",
    "    conf.RESULTS[\"CLUSTERING_DIR\"], \"consensus_clustering\"\n",
    ").resolve()\n",
    "\n",
    "display(CONSENSUS_CLUSTERING_DIR)"
   ]
  },
  {
   "cell_type": "code",
   "execution_count": null,
   "metadata": {
    "papermill": {
     "duration": 0.01894,
     "end_time": "2021-02-27T05:07:32.761424",
     "exception": false,
     "start_time": "2021-02-27T05:07:32.742484",
     "status": "completed"
    },
    "tags": []
   },
   "outputs": [],
   "source": [
    "input_file = Path(CONSENSUS_CLUSTERING_DIR, \"best_partitions_by_k.pkl\").resolve()\n",
    "display(input_file)"
   ]
  },
  {
   "cell_type": "code",
   "execution_count": null,
   "metadata": {
    "papermill": {
     "duration": 0.025306,
     "end_time": "2021-02-27T05:07:32.794584",
     "exception": false,
     "start_time": "2021-02-27T05:07:32.769278",
     "status": "completed"
    },
    "tags": []
   },
   "outputs": [],
   "source": [
    "best_partitions = pd.read_pickle(input_file)"
   ]
  },
  {
   "cell_type": "code",
   "execution_count": null,
   "metadata": {
    "papermill": {
     "duration": 0.027566,
     "end_time": "2021-02-27T05:07:32.854029",
     "exception": false,
     "start_time": "2021-02-27T05:07:32.826463",
     "status": "completed"
    },
    "tags": []
   },
   "outputs": [],
   "source": [
    "assert best_partitions.index.is_unique"
   ]
  },
  {
   "cell_type": "code",
   "execution_count": null,
   "metadata": {
    "papermill": {
     "duration": 0.020545,
     "end_time": "2021-02-27T05:07:32.883803",
     "exception": false,
     "start_time": "2021-02-27T05:07:32.863258",
     "status": "completed"
    },
    "tags": []
   },
   "outputs": [],
   "source": [
    "best_partitions.shape"
   ]
  },
  {
   "cell_type": "code",
   "execution_count": null,
   "metadata": {
    "papermill": {
     "duration": 0.031456,
     "end_time": "2021-02-27T05:07:32.924103",
     "exception": false,
     "start_time": "2021-02-27T05:07:32.892647",
     "status": "completed"
    },
    "tags": []
   },
   "outputs": [],
   "source": [
    "best_partitions.head()"
   ]
  },
  {
   "cell_type": "markdown",
   "metadata": {
    "papermill": {
     "duration": 0.00888,
     "end_time": "2021-02-27T05:07:32.942203",
     "exception": false,
     "start_time": "2021-02-27T05:07:32.933323",
     "status": "completed"
    },
    "tags": []
   },
   "source": [
    "# Select top k partitions"
   ]
  },
  {
   "cell_type": "code",
   "execution_count": null,
   "metadata": {
    "papermill": {
     "duration": 0.020991,
     "end_time": "2021-02-27T05:07:32.972294",
     "exception": false,
     "start_time": "2021-02-27T05:07:32.951303",
     "status": "completed"
    },
    "tags": []
   },
   "outputs": [],
   "source": [
    "# I take the top 4 partitions (according to their number of clusters).\n",
    "# These are the partitions that will be analyzed in the manuscript.\n",
    "selected_partition_ks = best_partitions[best_partitions[\"selected\"]].index.sort_values(\n",
    "    ascending=False\n",
    ")[:4]\n",
    "display(selected_partition_ks)"
   ]
  },
  {
   "cell_type": "markdown",
   "metadata": {
    "papermill": {
     "duration": 0.008648,
     "end_time": "2021-02-27T05:07:32.989835",
     "exception": false,
     "start_time": "2021-02-27T05:07:32.981187",
     "status": "completed"
    },
    "tags": []
   },
   "source": [
    "# Run interpretation"
   ]
  },
  {
   "cell_type": "code",
   "execution_count": null,
   "metadata": {
    "papermill": {
     "duration": 0.020182,
     "end_time": "2021-02-27T05:07:33.018744",
     "exception": false,
     "start_time": "2021-02-27T05:07:32.998562",
     "status": "completed"
    },
    "tags": []
   },
   "outputs": [],
   "source": [
    "CLUSTER_ANALYSIS_OUTPUT_DIR = Path(\n",
    "    conf.RESULTS[\"CLUSTERING_INTERPRETATION\"][\"CLUSTERS_STATS\"],\n",
    "    \"cluster_analyses\",\n",
    ").resolve()\n",
    "display(CLUSTER_ANALYSIS_OUTPUT_DIR)"
   ]
  },
  {
   "cell_type": "code",
   "execution_count": null,
   "metadata": {
    "papermill": {
     "duration": 0.019338,
     "end_time": "2021-02-27T05:07:33.046862",
     "exception": false,
     "start_time": "2021-02-27T05:07:33.027524",
     "status": "completed"
    },
    "tags": []
   },
   "outputs": [],
   "source": [
    "CLUSTER_ANALYSIS_OUTPUT_DIR.mkdir(exist_ok=True)"
   ]
  },
  {
   "cell_type": "code",
   "execution_count": null,
   "metadata": {
    "papermill": {
     "duration": 0.020905,
     "end_time": "2021-02-27T05:07:33.076821",
     "exception": false,
     "start_time": "2021-02-27T05:07:33.055916",
     "status": "completed"
    },
    "tags": []
   },
   "outputs": [],
   "source": [
    "def run_notebook(input_nb, output_nb, parameters, environment):\n",
    "    options = []\n",
    "    for k, v in parameters.items():\n",
    "        options.append(\"-p\")\n",
    "        options.append(str(k))\n",
    "        options.append(str(v))\n",
    "\n",
    "    cmdlist = (\n",
    "        [\"papermill\"]\n",
    "        + [\n",
    "            f\"'{input_nb}'\",\n",
    "            f\"'{output_nb}'\",\n",
    "        ]\n",
    "        + options\n",
    "    )\n",
    "    cmdlist = \" \".join(cmdlist)\n",
    "\n",
    "    res = subprocess.run(\n",
    "        cmdlist,\n",
    "        shell=True,\n",
    "        stdout=subprocess.PIPE,\n",
    "        stderr=subprocess.STDOUT,\n",
    "        env=environment,\n",
    "        text=True,\n",
    "    )\n",
    "    return cmdlist, res"
   ]
  },
  {
   "cell_type": "code",
   "execution_count": null,
   "metadata": {
    "papermill": {
     "duration": 18532.885345,
     "end_time": "2021-02-27T10:16:25.971704",
     "exception": false,
     "start_time": "2021-02-27T05:07:33.086359",
     "status": "completed"
    },
    "tags": []
   },
   "outputs": [],
   "source": [
    "tasks = {}\n",
    "\n",
    "with Pool(conf.GENERAL[\"N_JOBS\"]) as pool:\n",
    "    for part_k in selected_partition_ks:\n",
    "        print(f\"Partition k:{part_k}\", flush=True)\n",
    "\n",
    "        output_folder = Path(CLUSTER_ANALYSIS_OUTPUT_DIR, f\"part{part_k}\").resolve()\n",
    "        shutil.rmtree(output_folder, ignore_errors=True)\n",
    "        output_folder.mkdir()\n",
    "\n",
    "        part = best_partitions.loc[part_k, \"partition\"]\n",
    "        part_clusters = pd.Series(part).value_counts()\n",
    "\n",
    "        # always skip the biggest cluster in each partition\n",
    "        for c_size_idx, c in enumerate(part_clusters.index[1:]):\n",
    "            print(f\"  Cluster: {c}\", flush=True)\n",
    "\n",
    "            input_nb = Path(\n",
    "                conf.RESULTS[\"CLUSTERING_INTERPRETATION\"][\"CLUSTERS_STATS\"],\n",
    "                \"interpret_cluster.run.ipynb\",\n",
    "            ).resolve()\n",
    "\n",
    "            output_nb = Path(\n",
    "                output_folder, f\"{c_size_idx:02}-part{part_k}_k{c}.ipynb\"\n",
    "            ).resolve()\n",
    "\n",
    "            parameters = dict(PARTITION_K=part_k, PARTITION_CLUSTER_ID=c)\n",
    "\n",
    "            res = pool.apply_async(\n",
    "                run_notebook,\n",
    "                (\n",
    "                    input_nb,\n",
    "                    output_nb,\n",
    "                    parameters,\n",
    "                    {k: v for k, v in os.environ.items()},\n",
    "                ),\n",
    "            )\n",
    "            tasks[f\"{part_k}_k{c}\"] = res\n",
    "\n",
    "    pool.close()\n",
    "\n",
    "    # show errors, if any\n",
    "    for k, t in tasks.items():\n",
    "        t.wait()\n",
    "\n",
    "        cmd, out = t.get()\n",
    "        if out.returncode != 0:\n",
    "            display(k)\n",
    "            print(cmd)\n",
    "            print(out.stdout)\n",
    "\n",
    "            pool.terminate()\n",
    "            break"
   ]
  },
  {
   "cell_type": "code",
   "execution_count": null,
   "metadata": {},
   "outputs": [],
   "source": []
  }
 ],
 "metadata": {
  "jupytext": {
   "cell_metadata_filter": "all,-execution,-papermill,-trusted",
   "formats": "ipynb,py//py:percent"
  },
  "kernelspec": {
   "display_name": "Python 3",
   "language": "python",
   "name": "python3"
  },
  "language_info": {
   "codemirror_mode": {
    "name": "ipython",
    "version": 3
   },
   "file_extension": ".py",
   "mimetype": "text/x-python",
   "name": "python",
   "nbconvert_exporter": "python",
   "pygments_lexer": "ipython3",
   "version": "3.8.8"
  },
  "papermill": {
   "default_parameters": {},
   "duration": 18534.935658,
   "end_time": "2021-02-27T10:16:26.375993",
   "environment_variables": {},
   "exception": null,
   "input_path": "20_cluster_interpretation/000-run_cluster_interpretation.ipynb",
   "output_path": "20_cluster_interpretation/000-run_cluster_interpretation.run.ipynb",
   "parameters": {},
   "start_time": "2021-02-27T05:07:31.440335",
   "version": "2.2.2"
  },
  "toc-autonumbering": true
 },
 "nbformat": 4,
 "nbformat_minor": 4
}
