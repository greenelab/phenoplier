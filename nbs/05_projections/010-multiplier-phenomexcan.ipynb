{
 "cells": [
  {
   "cell_type": "markdown",
   "metadata": {
    "papermill": {
     "duration": 0.012236,
     "end_time": "2020-12-11T20:14:35.703942",
     "exception": false,
     "start_time": "2020-12-11T20:14:35.691706",
     "status": "completed"
    },
    "tags": []
   },
   "source": [
    "# Description"
   ]
  },
  {
   "cell_type": "markdown",
   "metadata": {
    "papermill": {
     "duration": 0.01028,
     "end_time": "2020-12-11T20:14:35.724793",
     "exception": false,
     "start_time": "2020-12-11T20:14:35.714513",
     "status": "completed"
    },
    "tags": []
   },
   "source": [
    "For this projection, this notebook takes **ALL non-zero gene loadings** from each latent variable (LV) in the MultiPLIER model."
   ]
  },
  {
   "cell_type": "markdown",
   "metadata": {
    "papermill": {
     "duration": 0.011233,
     "end_time": "2020-12-11T20:14:35.746265",
     "exception": false,
     "start_time": "2020-12-11T20:14:35.735032",
     "status": "completed"
    },
    "tags": []
   },
   "source": [
    "# Modules loading"
   ]
  },
  {
   "cell_type": "code",
   "execution_count": 1,
   "metadata": {
    "execution": {
     "iopub.execute_input": "2020-12-11T20:14:35.771024Z",
     "iopub.status.busy": "2020-12-11T20:14:35.770613Z",
     "iopub.status.idle": "2020-12-11T20:14:35.778516Z",
     "shell.execute_reply": "2020-12-11T20:14:35.778088Z"
    },
    "papermill": {
     "duration": 0.021981,
     "end_time": "2020-12-11T20:14:35.778647",
     "exception": false,
     "start_time": "2020-12-11T20:14:35.756666",
     "status": "completed"
    },
    "tags": []
   },
   "outputs": [],
   "source": [
    "%load_ext autoreload\n",
    "%autoreload 2"
   ]
  },
  {
   "cell_type": "code",
   "execution_count": 2,
   "metadata": {
    "execution": {
     "iopub.execute_input": "2020-12-11T20:14:35.802836Z",
     "iopub.status.busy": "2020-12-11T20:14:35.802442Z",
     "iopub.status.idle": "2020-12-11T20:14:36.086863Z",
     "shell.execute_reply": "2020-12-11T20:14:36.086212Z"
    },
    "papermill": {
     "duration": 0.297222,
     "end_time": "2020-12-11T20:14:36.087015",
     "exception": false,
     "start_time": "2020-12-11T20:14:35.789793",
     "status": "completed"
    },
    "tags": []
   },
   "outputs": [],
   "source": [
    "from pathlib import Path\n",
    "import pickle\n",
    "\n",
    "import numpy as np\n",
    "import pandas as pd\n",
    "\n",
    "import conf\n",
    "from data.cache import read_data"
   ]
  },
  {
   "cell_type": "markdown",
   "metadata": {
    "papermill": {
     "duration": 0.018339,
     "end_time": "2020-12-11T20:14:36.124493",
     "exception": false,
     "start_time": "2020-12-11T20:14:36.106154",
     "status": "completed"
    },
    "tags": []
   },
   "source": [
    "# Settings"
   ]
  },
  {
   "cell_type": "code",
   "execution_count": 3,
   "metadata": {
    "execution": {
     "iopub.execute_input": "2020-12-11T20:14:36.150729Z",
     "iopub.status.busy": "2020-12-11T20:14:36.150358Z",
     "iopub.status.idle": "2020-12-11T20:14:36.162653Z",
     "shell.execute_reply": "2020-12-11T20:14:36.162275Z"
    },
    "papermill": {
     "duration": 0.025769,
     "end_time": "2020-12-11T20:14:36.162744",
     "exception": false,
     "start_time": "2020-12-11T20:14:36.136975",
     "status": "completed"
    },
    "tags": []
   },
   "outputs": [
    {
     "data": {
      "text/plain": [
       "PosixPath('/home/miltondp/projects/labs/greenelab/phenoplier/base/results/projections')"
      ]
     },
     "metadata": {},
     "output_type": "display_data"
    }
   ],
   "source": [
    "RESULTS_PROJ_OUTPUT_DIR = Path(\n",
    "    conf.RESULTS['PROJECTIONS_DIR']\n",
    ")\n",
    "\n",
    "RESULTS_PROJ_OUTPUT_DIR.mkdir(parents=True, exist_ok=True)\n",
    "\n",
    "display(RESULTS_PROJ_OUTPUT_DIR)"
   ]
  },
  {
   "cell_type": "markdown",
   "metadata": {
    "papermill": {
     "duration": 0.010915,
     "end_time": "2020-12-11T20:14:36.185218",
     "exception": false,
     "start_time": "2020-12-11T20:14:36.174303",
     "status": "completed"
    },
    "tags": []
   },
   "source": [
    "# Read gene mappings"
   ]
  },
  {
   "cell_type": "code",
   "execution_count": 4,
   "metadata": {
    "execution": {
     "iopub.execute_input": "2020-12-11T20:14:36.209601Z",
     "iopub.status.busy": "2020-12-11T20:14:36.209237Z",
     "iopub.status.idle": "2020-12-11T20:14:36.246352Z",
     "shell.execute_reply": "2020-12-11T20:14:36.245940Z"
    },
    "papermill": {
     "duration": 0.050299,
     "end_time": "2020-12-11T20:14:36.246450",
     "exception": false,
     "start_time": "2020-12-11T20:14:36.196151",
     "status": "completed"
    },
    "tags": []
   },
   "outputs": [],
   "source": [
    "GENE_ID_TO_NAME_MAP = read_data(conf.PHENOMEXCAN[\"GENE_MAP_ID_TO_NAME\"])\n",
    "GENE_NAME_TO_ID_MAP = read_data(conf.PHENOMEXCAN[\"GENE_MAP_NAME_TO_ID\"])"
   ]
  },
  {
   "cell_type": "markdown",
   "metadata": {
    "papermill": {
     "duration": 0.011497,
     "end_time": "2020-12-11T20:14:36.270117",
     "exception": false,
     "start_time": "2020-12-11T20:14:36.258620",
     "status": "completed"
    },
    "tags": []
   },
   "source": [
    "# Load PhenomeXcan data (S-MultiXcan)"
   ]
  },
  {
   "cell_type": "code",
   "execution_count": 5,
   "metadata": {
    "execution": {
     "iopub.execute_input": "2020-12-11T20:14:36.294422Z",
     "iopub.status.busy": "2020-12-11T20:14:36.294061Z",
     "iopub.status.idle": "2020-12-11T20:14:36.302366Z",
     "shell.execute_reply": "2020-12-11T20:14:36.302005Z"
    },
    "papermill": {
     "duration": 0.021511,
     "end_time": "2020-12-11T20:14:36.302451",
     "exception": false,
     "start_time": "2020-12-11T20:14:36.280940",
     "status": "completed"
    },
    "tags": []
   },
   "outputs": [
    {
     "data": {
      "text/plain": [
       "PosixPath('/home/miltondp/projects/labs/greenelab/phenoplier/base/data/phenomexcan/gene_assoc/smultixcan-mashr-zscores.pkl')"
      ]
     },
     "metadata": {},
     "output_type": "display_data"
    }
   ],
   "source": [
    "smultixcan_results_filename = conf.PHENOMEXCAN[\"SMULTIXCAN_MASHR_ZSCORES_FILE\"]\n",
    "\n",
    "display(smultixcan_results_filename)"
   ]
  },
  {
   "cell_type": "code",
   "execution_count": 6,
   "metadata": {
    "execution": {
     "iopub.execute_input": "2020-12-11T20:14:36.327712Z",
     "iopub.status.busy": "2020-12-11T20:14:36.327322Z",
     "iopub.status.idle": "2020-12-11T20:14:36.335316Z",
     "shell.execute_reply": "2020-12-11T20:14:36.334942Z"
    },
    "papermill": {
     "duration": 0.021438,
     "end_time": "2020-12-11T20:14:36.335405",
     "exception": false,
     "start_time": "2020-12-11T20:14:36.313967",
     "status": "completed"
    },
    "tags": []
   },
   "outputs": [
    {
     "data": {
      "text/plain": [
       "'smultixcan-mashr-zscores'"
      ]
     },
     "metadata": {},
     "output_type": "display_data"
    }
   ],
   "source": [
    "results_filename_stem = smultixcan_results_filename.stem\n",
    "display(results_filename_stem)"
   ]
  },
  {
   "cell_type": "code",
   "execution_count": 7,
   "metadata": {
    "execution": {
     "iopub.execute_input": "2020-12-11T20:14:36.361544Z",
     "iopub.status.busy": "2020-12-11T20:14:36.361173Z",
     "iopub.status.idle": "2020-12-11T20:14:39.551975Z",
     "shell.execute_reply": "2020-12-11T20:14:39.550681Z"
    },
    "papermill": {
     "duration": 3.204958,
     "end_time": "2020-12-11T20:14:39.552338",
     "exception": false,
     "start_time": "2020-12-11T20:14:36.347380",
     "status": "completed"
    },
    "tags": []
   },
   "outputs": [],
   "source": [
    "smultixcan_results = pd.read_pickle(smultixcan_results_filename)"
   ]
  },
  {
   "cell_type": "code",
   "execution_count": 8,
   "metadata": {
    "execution": {
     "iopub.execute_input": "2020-12-11T20:14:39.610028Z",
     "iopub.status.busy": "2020-12-11T20:14:39.609665Z",
     "iopub.status.idle": "2020-12-11T20:14:39.617782Z",
     "shell.execute_reply": "2020-12-11T20:14:39.617411Z"
    },
    "papermill": {
     "duration": 0.025563,
     "end_time": "2020-12-11T20:14:39.617872",
     "exception": false,
     "start_time": "2020-12-11T20:14:39.592309",
     "status": "completed"
    },
    "tags": []
   },
   "outputs": [
    {
     "data": {
      "text/plain": [
       "(22515, 4091)"
      ]
     },
     "execution_count": 8,
     "metadata": {},
     "output_type": "execute_result"
    }
   ],
   "source": [
    "smultixcan_results.shape"
   ]
  },
  {
   "cell_type": "code",
   "execution_count": 9,
   "metadata": {
    "execution": {
     "iopub.execute_input": "2020-12-11T20:14:39.644468Z",
     "iopub.status.busy": "2020-12-11T20:14:39.644090Z",
     "iopub.status.idle": "2020-12-11T20:14:39.666787Z",
     "shell.execute_reply": "2020-12-11T20:14:39.666451Z"
    },
    "papermill": {
     "duration": 0.036748,
     "end_time": "2020-12-11T20:14:39.666881",
     "exception": false,
     "start_time": "2020-12-11T20:14:39.630133",
     "status": "completed"
    },
    "tags": []
   },
   "outputs": [
    {
     "data": {
      "text/html": [
       "<div>\n",
       "<style scoped>\n",
       "    .dataframe tbody tr th:only-of-type {\n",
       "        vertical-align: middle;\n",
       "    }\n",
       "\n",
       "    .dataframe tbody tr th {\n",
       "        vertical-align: top;\n",
       "    }\n",
       "\n",
       "    .dataframe thead th {\n",
       "        text-align: right;\n",
       "    }\n",
       "</style>\n",
       "<table border=\"1\" class=\"dataframe\">\n",
       "  <thead>\n",
       "    <tr style=\"text-align: right;\">\n",
       "      <th></th>\n",
       "      <th>20096_1-Size_of_red_wine_glass_drunk_small_125ml</th>\n",
       "      <th>2345-Ever_had_bowel_cancer_screening</th>\n",
       "      <th>N49-Diagnoses_main_ICD10_N49_Inflammatory_disorders_of_male_genital_organs_not_elsewhere_classified</th>\n",
       "      <th>100011_raw-Iron</th>\n",
       "      <th>5221-Index_of_best_refractometry_result_right</th>\n",
       "      <th>20003_1141150624-Treatmentmedication_code_zomig_25mg_tablet</th>\n",
       "      <th>S69-Diagnoses_main_ICD10_S69_Other_and_unspecified_injuries_of_wrist_and_hand</th>\n",
       "      <th>20024_1136-Job_code_deduced_Information_and_communication_technology_managers</th>\n",
       "      <th>20002_1385-Noncancer_illness_code_selfreported_allergy_or_anaphylactic_reaction_to_food</th>\n",
       "      <th>G6_SLEEPAPNO-Sleep_apnoea</th>\n",
       "      <th>...</th>\n",
       "      <th>Astle_et_al_2016_Sum_basophil_neutrophil_counts</th>\n",
       "      <th>RA_OKADA_TRANS_ETHNIC</th>\n",
       "      <th>pgc.scz2</th>\n",
       "      <th>PGC_ADHD_EUR_2017</th>\n",
       "      <th>MAGIC_FastingGlucose</th>\n",
       "      <th>Astle_et_al_2016_Red_blood_cell_count</th>\n",
       "      <th>SSGAC_Depressive_Symptoms</th>\n",
       "      <th>BCAC_ER_positive_BreastCancer_EUR</th>\n",
       "      <th>IBD.EUR.Inflammatory_Bowel_Disease</th>\n",
       "      <th>Astle_et_al_2016_High_light_scatter_reticulocyte_count</th>\n",
       "    </tr>\n",
       "    <tr>\n",
       "      <th>gene_name</th>\n",
       "      <th></th>\n",
       "      <th></th>\n",
       "      <th></th>\n",
       "      <th></th>\n",
       "      <th></th>\n",
       "      <th></th>\n",
       "      <th></th>\n",
       "      <th></th>\n",
       "      <th></th>\n",
       "      <th></th>\n",
       "      <th></th>\n",
       "      <th></th>\n",
       "      <th></th>\n",
       "      <th></th>\n",
       "      <th></th>\n",
       "      <th></th>\n",
       "      <th></th>\n",
       "      <th></th>\n",
       "      <th></th>\n",
       "      <th></th>\n",
       "      <th></th>\n",
       "    </tr>\n",
       "  </thead>\n",
       "  <tbody>\n",
       "    <tr>\n",
       "      <th>ENSG00000000419</th>\n",
       "      <td>0.169468</td>\n",
       "      <td>0.102558</td>\n",
       "      <td>0.239545</td>\n",
       "      <td>0.887758</td>\n",
       "      <td>1.313448</td>\n",
       "      <td>1.472148</td>\n",
       "      <td>0.726160</td>\n",
       "      <td>1.516367</td>\n",
       "      <td>1.299771</td>\n",
       "      <td>1.068093</td>\n",
       "      <td>...</td>\n",
       "      <td>0.813014</td>\n",
       "      <td>0.275993</td>\n",
       "      <td>0.510834</td>\n",
       "      <td>0.024717</td>\n",
       "      <td>0.430951</td>\n",
       "      <td>0.824314</td>\n",
       "      <td>0.367414</td>\n",
       "      <td>1.377624</td>\n",
       "      <td>0.738444</td>\n",
       "      <td>0.298259</td>\n",
       "    </tr>\n",
       "    <tr>\n",
       "      <th>ENSG00000000457</th>\n",
       "      <td>1.358856</td>\n",
       "      <td>1.846875</td>\n",
       "      <td>0.139324</td>\n",
       "      <td>0.129530</td>\n",
       "      <td>0.757757</td>\n",
       "      <td>1.103979</td>\n",
       "      <td>0.612418</td>\n",
       "      <td>1.822327</td>\n",
       "      <td>2.035372</td>\n",
       "      <td>1.008058</td>\n",
       "      <td>...</td>\n",
       "      <td>1.441795</td>\n",
       "      <td>0.654791</td>\n",
       "      <td>2.545653</td>\n",
       "      <td>1.202984</td>\n",
       "      <td>0.514244</td>\n",
       "      <td>0.237223</td>\n",
       "      <td>0.414171</td>\n",
       "      <td>0.101731</td>\n",
       "      <td>1.012735</td>\n",
       "      <td>0.945167</td>\n",
       "    </tr>\n",
       "    <tr>\n",
       "      <th>ENSG00000000460</th>\n",
       "      <td>0.151008</td>\n",
       "      <td>1.173202</td>\n",
       "      <td>1.179426</td>\n",
       "      <td>0.571656</td>\n",
       "      <td>0.098771</td>\n",
       "      <td>0.221072</td>\n",
       "      <td>0.276415</td>\n",
       "      <td>0.461381</td>\n",
       "      <td>0.855502</td>\n",
       "      <td>0.201876</td>\n",
       "      <td>...</td>\n",
       "      <td>0.668962</td>\n",
       "      <td>0.300040</td>\n",
       "      <td>0.541782</td>\n",
       "      <td>1.033308</td>\n",
       "      <td>0.482261</td>\n",
       "      <td>0.695624</td>\n",
       "      <td>0.336480</td>\n",
       "      <td>0.083316</td>\n",
       "      <td>3.493196</td>\n",
       "      <td>0.991948</td>\n",
       "    </tr>\n",
       "    <tr>\n",
       "      <th>ENSG00000000938</th>\n",
       "      <td>1.302722</td>\n",
       "      <td>0.841524</td>\n",
       "      <td>1.578926</td>\n",
       "      <td>0.721340</td>\n",
       "      <td>0.139314</td>\n",
       "      <td>4.387016</td>\n",
       "      <td>0.125959</td>\n",
       "      <td>1.247123</td>\n",
       "      <td>0.215124</td>\n",
       "      <td>0.892083</td>\n",
       "      <td>...</td>\n",
       "      <td>0.126657</td>\n",
       "      <td>0.048048</td>\n",
       "      <td>1.886356</td>\n",
       "      <td>0.540496</td>\n",
       "      <td>0.127524</td>\n",
       "      <td>1.494501</td>\n",
       "      <td>0.056432</td>\n",
       "      <td>1.704863</td>\n",
       "      <td>1.351619</td>\n",
       "      <td>1.027297</td>\n",
       "    </tr>\n",
       "    <tr>\n",
       "      <th>ENSG00000000971</th>\n",
       "      <td>1.338813</td>\n",
       "      <td>0.262339</td>\n",
       "      <td>0.689379</td>\n",
       "      <td>1.702019</td>\n",
       "      <td>0.325859</td>\n",
       "      <td>0.063161</td>\n",
       "      <td>1.141126</td>\n",
       "      <td>0.882682</td>\n",
       "      <td>0.035533</td>\n",
       "      <td>1.810191</td>\n",
       "      <td>...</td>\n",
       "      <td>0.858497</td>\n",
       "      <td>1.675562</td>\n",
       "      <td>2.319072</td>\n",
       "      <td>1.598721</td>\n",
       "      <td>0.162958</td>\n",
       "      <td>0.005703</td>\n",
       "      <td>3.004544</td>\n",
       "      <td>0.803669</td>\n",
       "      <td>0.444266</td>\n",
       "      <td>0.165671</td>\n",
       "    </tr>\n",
       "  </tbody>\n",
       "</table>\n",
       "<p>5 rows × 4091 columns</p>\n",
       "</div>"
      ],
      "text/plain": [
       "                 20096_1-Size_of_red_wine_glass_drunk_small_125ml  \\\n",
       "gene_name                                                           \n",
       "ENSG00000000419                                          0.169468   \n",
       "ENSG00000000457                                          1.358856   \n",
       "ENSG00000000460                                          0.151008   \n",
       "ENSG00000000938                                          1.302722   \n",
       "ENSG00000000971                                          1.338813   \n",
       "\n",
       "                 2345-Ever_had_bowel_cancer_screening  \\\n",
       "gene_name                                               \n",
       "ENSG00000000419                              0.102558   \n",
       "ENSG00000000457                              1.846875   \n",
       "ENSG00000000460                              1.173202   \n",
       "ENSG00000000938                              0.841524   \n",
       "ENSG00000000971                              0.262339   \n",
       "\n",
       "                 N49-Diagnoses_main_ICD10_N49_Inflammatory_disorders_of_male_genital_organs_not_elsewhere_classified  \\\n",
       "gene_name                                                                                                              \n",
       "ENSG00000000419                                           0.239545                                                     \n",
       "ENSG00000000457                                           0.139324                                                     \n",
       "ENSG00000000460                                           1.179426                                                     \n",
       "ENSG00000000938                                           1.578926                                                     \n",
       "ENSG00000000971                                           0.689379                                                     \n",
       "\n",
       "                 100011_raw-Iron  \\\n",
       "gene_name                          \n",
       "ENSG00000000419         0.887758   \n",
       "ENSG00000000457         0.129530   \n",
       "ENSG00000000460         0.571656   \n",
       "ENSG00000000938         0.721340   \n",
       "ENSG00000000971         1.702019   \n",
       "\n",
       "                 5221-Index_of_best_refractometry_result_right  \\\n",
       "gene_name                                                        \n",
       "ENSG00000000419                                       1.313448   \n",
       "ENSG00000000457                                       0.757757   \n",
       "ENSG00000000460                                       0.098771   \n",
       "ENSG00000000938                                       0.139314   \n",
       "ENSG00000000971                                       0.325859   \n",
       "\n",
       "                 20003_1141150624-Treatmentmedication_code_zomig_25mg_tablet  \\\n",
       "gene_name                                                                      \n",
       "ENSG00000000419                                           1.472148             \n",
       "ENSG00000000457                                           1.103979             \n",
       "ENSG00000000460                                           0.221072             \n",
       "ENSG00000000938                                           4.387016             \n",
       "ENSG00000000971                                           0.063161             \n",
       "\n",
       "                 S69-Diagnoses_main_ICD10_S69_Other_and_unspecified_injuries_of_wrist_and_hand  \\\n",
       "gene_name                                                                                        \n",
       "ENSG00000000419                                           0.726160                               \n",
       "ENSG00000000457                                           0.612418                               \n",
       "ENSG00000000460                                           0.276415                               \n",
       "ENSG00000000938                                           0.125959                               \n",
       "ENSG00000000971                                           1.141126                               \n",
       "\n",
       "                 20024_1136-Job_code_deduced_Information_and_communication_technology_managers  \\\n",
       "gene_name                                                                                        \n",
       "ENSG00000000419                                           1.516367                               \n",
       "ENSG00000000457                                           1.822327                               \n",
       "ENSG00000000460                                           0.461381                               \n",
       "ENSG00000000938                                           1.247123                               \n",
       "ENSG00000000971                                           0.882682                               \n",
       "\n",
       "                 20002_1385-Noncancer_illness_code_selfreported_allergy_or_anaphylactic_reaction_to_food  \\\n",
       "gene_name                                                                                                  \n",
       "ENSG00000000419                                           1.299771                                         \n",
       "ENSG00000000457                                           2.035372                                         \n",
       "ENSG00000000460                                           0.855502                                         \n",
       "ENSG00000000938                                           0.215124                                         \n",
       "ENSG00000000971                                           0.035533                                         \n",
       "\n",
       "                 G6_SLEEPAPNO-Sleep_apnoea  ...  \\\n",
       "gene_name                                   ...   \n",
       "ENSG00000000419                   1.068093  ...   \n",
       "ENSG00000000457                   1.008058  ...   \n",
       "ENSG00000000460                   0.201876  ...   \n",
       "ENSG00000000938                   0.892083  ...   \n",
       "ENSG00000000971                   1.810191  ...   \n",
       "\n",
       "                 Astle_et_al_2016_Sum_basophil_neutrophil_counts  \\\n",
       "gene_name                                                          \n",
       "ENSG00000000419                                         0.813014   \n",
       "ENSG00000000457                                         1.441795   \n",
       "ENSG00000000460                                         0.668962   \n",
       "ENSG00000000938                                         0.126657   \n",
       "ENSG00000000971                                         0.858497   \n",
       "\n",
       "                 RA_OKADA_TRANS_ETHNIC  pgc.scz2  PGC_ADHD_EUR_2017  \\\n",
       "gene_name                                                             \n",
       "ENSG00000000419               0.275993  0.510834           0.024717   \n",
       "ENSG00000000457               0.654791  2.545653           1.202984   \n",
       "ENSG00000000460               0.300040  0.541782           1.033308   \n",
       "ENSG00000000938               0.048048  1.886356           0.540496   \n",
       "ENSG00000000971               1.675562  2.319072           1.598721   \n",
       "\n",
       "                 MAGIC_FastingGlucose  Astle_et_al_2016_Red_blood_cell_count  \\\n",
       "gene_name                                                                      \n",
       "ENSG00000000419              0.430951                               0.824314   \n",
       "ENSG00000000457              0.514244                               0.237223   \n",
       "ENSG00000000460              0.482261                               0.695624   \n",
       "ENSG00000000938              0.127524                               1.494501   \n",
       "ENSG00000000971              0.162958                               0.005703   \n",
       "\n",
       "                 SSGAC_Depressive_Symptoms  BCAC_ER_positive_BreastCancer_EUR  \\\n",
       "gene_name                                                                       \n",
       "ENSG00000000419                   0.367414                           1.377624   \n",
       "ENSG00000000457                   0.414171                           0.101731   \n",
       "ENSG00000000460                   0.336480                           0.083316   \n",
       "ENSG00000000938                   0.056432                           1.704863   \n",
       "ENSG00000000971                   3.004544                           0.803669   \n",
       "\n",
       "                 IBD.EUR.Inflammatory_Bowel_Disease  \\\n",
       "gene_name                                             \n",
       "ENSG00000000419                            0.738444   \n",
       "ENSG00000000457                            1.012735   \n",
       "ENSG00000000460                            3.493196   \n",
       "ENSG00000000938                            1.351619   \n",
       "ENSG00000000971                            0.444266   \n",
       "\n",
       "                 Astle_et_al_2016_High_light_scatter_reticulocyte_count  \n",
       "gene_name                                                                \n",
       "ENSG00000000419                                           0.298259       \n",
       "ENSG00000000457                                           0.945167       \n",
       "ENSG00000000460                                           0.991948       \n",
       "ENSG00000000938                                           1.027297       \n",
       "ENSG00000000971                                           0.165671       \n",
       "\n",
       "[5 rows x 4091 columns]"
      ]
     },
     "execution_count": 9,
     "metadata": {},
     "output_type": "execute_result"
    }
   ],
   "source": [
    "smultixcan_results.head()"
   ]
  },
  {
   "cell_type": "markdown",
   "metadata": {
    "papermill": {
     "duration": 0.012846,
     "end_time": "2020-12-11T20:14:39.693058",
     "exception": false,
     "start_time": "2020-12-11T20:14:39.680212",
     "status": "completed"
    },
    "tags": []
   },
   "source": [
    "## Gene IDs to Gene names"
   ]
  },
  {
   "cell_type": "code",
   "execution_count": 10,
   "metadata": {
    "execution": {
     "iopub.execute_input": "2020-12-11T20:14:39.720669Z",
     "iopub.status.busy": "2020-12-11T20:14:39.720283Z",
     "iopub.status.idle": "2020-12-11T20:14:40.068970Z",
     "shell.execute_reply": "2020-12-11T20:14:40.068487Z"
    },
    "papermill": {
     "duration": 0.363321,
     "end_time": "2020-12-11T20:14:40.069084",
     "exception": false,
     "start_time": "2020-12-11T20:14:39.705763",
     "status": "completed"
    },
    "tags": []
   },
   "outputs": [],
   "source": [
    "smultixcan_results = smultixcan_results.rename(index=GENE_ID_TO_NAME_MAP)"
   ]
  },
  {
   "cell_type": "code",
   "execution_count": 11,
   "metadata": {
    "execution": {
     "iopub.execute_input": "2020-12-11T20:14:40.103585Z",
     "iopub.status.busy": "2020-12-11T20:14:40.103194Z",
     "iopub.status.idle": "2020-12-11T20:14:40.111342Z",
     "shell.execute_reply": "2020-12-11T20:14:40.110999Z"
    },
    "papermill": {
     "duration": 0.025159,
     "end_time": "2020-12-11T20:14:40.111439",
     "exception": false,
     "start_time": "2020-12-11T20:14:40.086280",
     "status": "completed"
    },
    "tags": []
   },
   "outputs": [
    {
     "data": {
      "text/plain": [
       "(22515, 4091)"
      ]
     },
     "execution_count": 11,
     "metadata": {},
     "output_type": "execute_result"
    }
   ],
   "source": [
    "smultixcan_results.shape"
   ]
  },
  {
   "cell_type": "code",
   "execution_count": 12,
   "metadata": {
    "execution": {
     "iopub.execute_input": "2020-12-11T20:14:40.141955Z",
     "iopub.status.busy": "2020-12-11T20:14:40.141547Z",
     "iopub.status.idle": "2020-12-11T20:14:40.163099Z",
     "shell.execute_reply": "2020-12-11T20:14:40.162771Z"
    },
    "papermill": {
     "duration": 0.037808,
     "end_time": "2020-12-11T20:14:40.163197",
     "exception": false,
     "start_time": "2020-12-11T20:14:40.125389",
     "status": "completed"
    },
    "tags": []
   },
   "outputs": [
    {
     "data": {
      "text/html": [
       "<div>\n",
       "<style scoped>\n",
       "    .dataframe tbody tr th:only-of-type {\n",
       "        vertical-align: middle;\n",
       "    }\n",
       "\n",
       "    .dataframe tbody tr th {\n",
       "        vertical-align: top;\n",
       "    }\n",
       "\n",
       "    .dataframe thead th {\n",
       "        text-align: right;\n",
       "    }\n",
       "</style>\n",
       "<table border=\"1\" class=\"dataframe\">\n",
       "  <thead>\n",
       "    <tr style=\"text-align: right;\">\n",
       "      <th></th>\n",
       "      <th>20096_1-Size_of_red_wine_glass_drunk_small_125ml</th>\n",
       "      <th>2345-Ever_had_bowel_cancer_screening</th>\n",
       "      <th>N49-Diagnoses_main_ICD10_N49_Inflammatory_disorders_of_male_genital_organs_not_elsewhere_classified</th>\n",
       "      <th>100011_raw-Iron</th>\n",
       "      <th>5221-Index_of_best_refractometry_result_right</th>\n",
       "      <th>20003_1141150624-Treatmentmedication_code_zomig_25mg_tablet</th>\n",
       "      <th>S69-Diagnoses_main_ICD10_S69_Other_and_unspecified_injuries_of_wrist_and_hand</th>\n",
       "      <th>20024_1136-Job_code_deduced_Information_and_communication_technology_managers</th>\n",
       "      <th>20002_1385-Noncancer_illness_code_selfreported_allergy_or_anaphylactic_reaction_to_food</th>\n",
       "      <th>G6_SLEEPAPNO-Sleep_apnoea</th>\n",
       "      <th>...</th>\n",
       "      <th>Astle_et_al_2016_Sum_basophil_neutrophil_counts</th>\n",
       "      <th>RA_OKADA_TRANS_ETHNIC</th>\n",
       "      <th>pgc.scz2</th>\n",
       "      <th>PGC_ADHD_EUR_2017</th>\n",
       "      <th>MAGIC_FastingGlucose</th>\n",
       "      <th>Astle_et_al_2016_Red_blood_cell_count</th>\n",
       "      <th>SSGAC_Depressive_Symptoms</th>\n",
       "      <th>BCAC_ER_positive_BreastCancer_EUR</th>\n",
       "      <th>IBD.EUR.Inflammatory_Bowel_Disease</th>\n",
       "      <th>Astle_et_al_2016_High_light_scatter_reticulocyte_count</th>\n",
       "    </tr>\n",
       "    <tr>\n",
       "      <th>gene_name</th>\n",
       "      <th></th>\n",
       "      <th></th>\n",
       "      <th></th>\n",
       "      <th></th>\n",
       "      <th></th>\n",
       "      <th></th>\n",
       "      <th></th>\n",
       "      <th></th>\n",
       "      <th></th>\n",
       "      <th></th>\n",
       "      <th></th>\n",
       "      <th></th>\n",
       "      <th></th>\n",
       "      <th></th>\n",
       "      <th></th>\n",
       "      <th></th>\n",
       "      <th></th>\n",
       "      <th></th>\n",
       "      <th></th>\n",
       "      <th></th>\n",
       "      <th></th>\n",
       "    </tr>\n",
       "  </thead>\n",
       "  <tbody>\n",
       "    <tr>\n",
       "      <th>DPM1</th>\n",
       "      <td>0.169468</td>\n",
       "      <td>0.102558</td>\n",
       "      <td>0.239545</td>\n",
       "      <td>0.887758</td>\n",
       "      <td>1.313448</td>\n",
       "      <td>1.472148</td>\n",
       "      <td>0.726160</td>\n",
       "      <td>1.516367</td>\n",
       "      <td>1.299771</td>\n",
       "      <td>1.068093</td>\n",
       "      <td>...</td>\n",
       "      <td>0.813014</td>\n",
       "      <td>0.275993</td>\n",
       "      <td>0.510834</td>\n",
       "      <td>0.024717</td>\n",
       "      <td>0.430951</td>\n",
       "      <td>0.824314</td>\n",
       "      <td>0.367414</td>\n",
       "      <td>1.377624</td>\n",
       "      <td>0.738444</td>\n",
       "      <td>0.298259</td>\n",
       "    </tr>\n",
       "    <tr>\n",
       "      <th>SCYL3</th>\n",
       "      <td>1.358856</td>\n",
       "      <td>1.846875</td>\n",
       "      <td>0.139324</td>\n",
       "      <td>0.129530</td>\n",
       "      <td>0.757757</td>\n",
       "      <td>1.103979</td>\n",
       "      <td>0.612418</td>\n",
       "      <td>1.822327</td>\n",
       "      <td>2.035372</td>\n",
       "      <td>1.008058</td>\n",
       "      <td>...</td>\n",
       "      <td>1.441795</td>\n",
       "      <td>0.654791</td>\n",
       "      <td>2.545653</td>\n",
       "      <td>1.202984</td>\n",
       "      <td>0.514244</td>\n",
       "      <td>0.237223</td>\n",
       "      <td>0.414171</td>\n",
       "      <td>0.101731</td>\n",
       "      <td>1.012735</td>\n",
       "      <td>0.945167</td>\n",
       "    </tr>\n",
       "    <tr>\n",
       "      <th>C1orf112</th>\n",
       "      <td>0.151008</td>\n",
       "      <td>1.173202</td>\n",
       "      <td>1.179426</td>\n",
       "      <td>0.571656</td>\n",
       "      <td>0.098771</td>\n",
       "      <td>0.221072</td>\n",
       "      <td>0.276415</td>\n",
       "      <td>0.461381</td>\n",
       "      <td>0.855502</td>\n",
       "      <td>0.201876</td>\n",
       "      <td>...</td>\n",
       "      <td>0.668962</td>\n",
       "      <td>0.300040</td>\n",
       "      <td>0.541782</td>\n",
       "      <td>1.033308</td>\n",
       "      <td>0.482261</td>\n",
       "      <td>0.695624</td>\n",
       "      <td>0.336480</td>\n",
       "      <td>0.083316</td>\n",
       "      <td>3.493196</td>\n",
       "      <td>0.991948</td>\n",
       "    </tr>\n",
       "    <tr>\n",
       "      <th>FGR</th>\n",
       "      <td>1.302722</td>\n",
       "      <td>0.841524</td>\n",
       "      <td>1.578926</td>\n",
       "      <td>0.721340</td>\n",
       "      <td>0.139314</td>\n",
       "      <td>4.387016</td>\n",
       "      <td>0.125959</td>\n",
       "      <td>1.247123</td>\n",
       "      <td>0.215124</td>\n",
       "      <td>0.892083</td>\n",
       "      <td>...</td>\n",
       "      <td>0.126657</td>\n",
       "      <td>0.048048</td>\n",
       "      <td>1.886356</td>\n",
       "      <td>0.540496</td>\n",
       "      <td>0.127524</td>\n",
       "      <td>1.494501</td>\n",
       "      <td>0.056432</td>\n",
       "      <td>1.704863</td>\n",
       "      <td>1.351619</td>\n",
       "      <td>1.027297</td>\n",
       "    </tr>\n",
       "    <tr>\n",
       "      <th>CFH</th>\n",
       "      <td>1.338813</td>\n",
       "      <td>0.262339</td>\n",
       "      <td>0.689379</td>\n",
       "      <td>1.702019</td>\n",
       "      <td>0.325859</td>\n",
       "      <td>0.063161</td>\n",
       "      <td>1.141126</td>\n",
       "      <td>0.882682</td>\n",
       "      <td>0.035533</td>\n",
       "      <td>1.810191</td>\n",
       "      <td>...</td>\n",
       "      <td>0.858497</td>\n",
       "      <td>1.675562</td>\n",
       "      <td>2.319072</td>\n",
       "      <td>1.598721</td>\n",
       "      <td>0.162958</td>\n",
       "      <td>0.005703</td>\n",
       "      <td>3.004544</td>\n",
       "      <td>0.803669</td>\n",
       "      <td>0.444266</td>\n",
       "      <td>0.165671</td>\n",
       "    </tr>\n",
       "  </tbody>\n",
       "</table>\n",
       "<p>5 rows × 4091 columns</p>\n",
       "</div>"
      ],
      "text/plain": [
       "           20096_1-Size_of_red_wine_glass_drunk_small_125ml  \\\n",
       "gene_name                                                     \n",
       "DPM1                                               0.169468   \n",
       "SCYL3                                              1.358856   \n",
       "C1orf112                                           0.151008   \n",
       "FGR                                                1.302722   \n",
       "CFH                                                1.338813   \n",
       "\n",
       "           2345-Ever_had_bowel_cancer_screening  \\\n",
       "gene_name                                         \n",
       "DPM1                                   0.102558   \n",
       "SCYL3                                  1.846875   \n",
       "C1orf112                               1.173202   \n",
       "FGR                                    0.841524   \n",
       "CFH                                    0.262339   \n",
       "\n",
       "           N49-Diagnoses_main_ICD10_N49_Inflammatory_disorders_of_male_genital_organs_not_elsewhere_classified  \\\n",
       "gene_name                                                                                                        \n",
       "DPM1                                                0.239545                                                     \n",
       "SCYL3                                               0.139324                                                     \n",
       "C1orf112                                            1.179426                                                     \n",
       "FGR                                                 1.578926                                                     \n",
       "CFH                                                 0.689379                                                     \n",
       "\n",
       "           100011_raw-Iron  5221-Index_of_best_refractometry_result_right  \\\n",
       "gene_name                                                                   \n",
       "DPM1              0.887758                                       1.313448   \n",
       "SCYL3             0.129530                                       0.757757   \n",
       "C1orf112          0.571656                                       0.098771   \n",
       "FGR               0.721340                                       0.139314   \n",
       "CFH               1.702019                                       0.325859   \n",
       "\n",
       "           20003_1141150624-Treatmentmedication_code_zomig_25mg_tablet  \\\n",
       "gene_name                                                                \n",
       "DPM1                                                1.472148             \n",
       "SCYL3                                               1.103979             \n",
       "C1orf112                                            0.221072             \n",
       "FGR                                                 4.387016             \n",
       "CFH                                                 0.063161             \n",
       "\n",
       "           S69-Diagnoses_main_ICD10_S69_Other_and_unspecified_injuries_of_wrist_and_hand  \\\n",
       "gene_name                                                                                  \n",
       "DPM1                                                0.726160                               \n",
       "SCYL3                                               0.612418                               \n",
       "C1orf112                                            0.276415                               \n",
       "FGR                                                 0.125959                               \n",
       "CFH                                                 1.141126                               \n",
       "\n",
       "           20024_1136-Job_code_deduced_Information_and_communication_technology_managers  \\\n",
       "gene_name                                                                                  \n",
       "DPM1                                                1.516367                               \n",
       "SCYL3                                               1.822327                               \n",
       "C1orf112                                            0.461381                               \n",
       "FGR                                                 1.247123                               \n",
       "CFH                                                 0.882682                               \n",
       "\n",
       "           20002_1385-Noncancer_illness_code_selfreported_allergy_or_anaphylactic_reaction_to_food  \\\n",
       "gene_name                                                                                            \n",
       "DPM1                                                1.299771                                         \n",
       "SCYL3                                               2.035372                                         \n",
       "C1orf112                                            0.855502                                         \n",
       "FGR                                                 0.215124                                         \n",
       "CFH                                                 0.035533                                         \n",
       "\n",
       "           G6_SLEEPAPNO-Sleep_apnoea  ...  \\\n",
       "gene_name                             ...   \n",
       "DPM1                        1.068093  ...   \n",
       "SCYL3                       1.008058  ...   \n",
       "C1orf112                    0.201876  ...   \n",
       "FGR                         0.892083  ...   \n",
       "CFH                         1.810191  ...   \n",
       "\n",
       "           Astle_et_al_2016_Sum_basophil_neutrophil_counts  \\\n",
       "gene_name                                                    \n",
       "DPM1                                              0.813014   \n",
       "SCYL3                                             1.441795   \n",
       "C1orf112                                          0.668962   \n",
       "FGR                                               0.126657   \n",
       "CFH                                               0.858497   \n",
       "\n",
       "           RA_OKADA_TRANS_ETHNIC  pgc.scz2  PGC_ADHD_EUR_2017  \\\n",
       "gene_name                                                       \n",
       "DPM1                    0.275993  0.510834           0.024717   \n",
       "SCYL3                   0.654791  2.545653           1.202984   \n",
       "C1orf112                0.300040  0.541782           1.033308   \n",
       "FGR                     0.048048  1.886356           0.540496   \n",
       "CFH                     1.675562  2.319072           1.598721   \n",
       "\n",
       "           MAGIC_FastingGlucose  Astle_et_al_2016_Red_blood_cell_count  \\\n",
       "gene_name                                                                \n",
       "DPM1                   0.430951                               0.824314   \n",
       "SCYL3                  0.514244                               0.237223   \n",
       "C1orf112               0.482261                               0.695624   \n",
       "FGR                    0.127524                               1.494501   \n",
       "CFH                    0.162958                               0.005703   \n",
       "\n",
       "           SSGAC_Depressive_Symptoms  BCAC_ER_positive_BreastCancer_EUR  \\\n",
       "gene_name                                                                 \n",
       "DPM1                        0.367414                           1.377624   \n",
       "SCYL3                       0.414171                           0.101731   \n",
       "C1orf112                    0.336480                           0.083316   \n",
       "FGR                         0.056432                           1.704863   \n",
       "CFH                         3.004544                           0.803669   \n",
       "\n",
       "           IBD.EUR.Inflammatory_Bowel_Disease  \\\n",
       "gene_name                                       \n",
       "DPM1                                 0.738444   \n",
       "SCYL3                                1.012735   \n",
       "C1orf112                             3.493196   \n",
       "FGR                                  1.351619   \n",
       "CFH                                  0.444266   \n",
       "\n",
       "           Astle_et_al_2016_High_light_scatter_reticulocyte_count  \n",
       "gene_name                                                          \n",
       "DPM1                                                0.298259       \n",
       "SCYL3                                               0.945167       \n",
       "C1orf112                                            0.991948       \n",
       "FGR                                                 1.027297       \n",
       "CFH                                                 0.165671       \n",
       "\n",
       "[5 rows x 4091 columns]"
      ]
     },
     "execution_count": 12,
     "metadata": {},
     "output_type": "execute_result"
    }
   ],
   "source": [
    "smultixcan_results.head()"
   ]
  },
  {
   "cell_type": "markdown",
   "metadata": {
    "papermill": {
     "duration": 0.013698,
     "end_time": "2020-12-11T20:14:40.191604",
     "exception": false,
     "start_time": "2020-12-11T20:14:40.177906",
     "status": "completed"
    },
    "tags": []
   },
   "source": [
    "## Remove duplicated gene entries"
   ]
  },
  {
   "cell_type": "code",
   "execution_count": 13,
   "metadata": {
    "execution": {
     "iopub.execute_input": "2020-12-11T20:14:40.220921Z",
     "iopub.status.busy": "2020-12-11T20:14:40.220499Z",
     "iopub.status.idle": "2020-12-11T20:14:40.231478Z",
     "shell.execute_reply": "2020-12-11T20:14:40.231102Z"
    },
    "papermill": {
     "duration": 0.026447,
     "end_time": "2020-12-11T20:14:40.231569",
     "exception": false,
     "start_time": "2020-12-11T20:14:40.205122",
     "status": "completed"
    },
    "tags": []
   },
   "outputs": [
    {
     "data": {
      "text/plain": [
       "Index(['SPATA13', 'LINC01422', 'LINC00484', 'MAL2', 'GOLGA8M', 'LINC01115',\n",
       "       'LYNX1'],\n",
       "      dtype='object', name='gene_name')"
      ]
     },
     "execution_count": 13,
     "metadata": {},
     "output_type": "execute_result"
    }
   ],
   "source": [
    "smultixcan_results.index[smultixcan_results.index.duplicated(keep='first')]"
   ]
  },
  {
   "cell_type": "code",
   "execution_count": 14,
   "metadata": {
    "execution": {
     "iopub.execute_input": "2020-12-11T20:14:40.262004Z",
     "iopub.status.busy": "2020-12-11T20:14:40.261638Z",
     "iopub.status.idle": "2020-12-11T20:14:40.678666Z",
     "shell.execute_reply": "2020-12-11T20:14:40.678182Z"
    },
    "papermill": {
     "duration": 0.433325,
     "end_time": "2020-12-11T20:14:40.678778",
     "exception": false,
     "start_time": "2020-12-11T20:14:40.245453",
     "status": "completed"
    },
    "tags": []
   },
   "outputs": [],
   "source": [
    "smultixcan_results = smultixcan_results.loc[~smultixcan_results.index.duplicated(keep='first')]"
   ]
  },
  {
   "cell_type": "code",
   "execution_count": 15,
   "metadata": {
    "execution": {
     "iopub.execute_input": "2020-12-11T20:14:40.715114Z",
     "iopub.status.busy": "2020-12-11T20:14:40.714739Z",
     "iopub.status.idle": "2020-12-11T20:14:40.722807Z",
     "shell.execute_reply": "2020-12-11T20:14:40.722453Z"
    },
    "papermill": {
     "duration": 0.026498,
     "end_time": "2020-12-11T20:14:40.722900",
     "exception": false,
     "start_time": "2020-12-11T20:14:40.696402",
     "status": "completed"
    },
    "tags": []
   },
   "outputs": [
    {
     "data": {
      "text/plain": [
       "(22508, 4091)"
      ]
     },
     "execution_count": 15,
     "metadata": {},
     "output_type": "execute_result"
    }
   ],
   "source": [
    "smultixcan_results.shape"
   ]
  },
  {
   "cell_type": "markdown",
   "metadata": {
    "papermill": {
     "duration": 0.013811,
     "end_time": "2020-12-11T20:14:40.750934",
     "exception": false,
     "start_time": "2020-12-11T20:14:40.737123",
     "status": "completed"
    },
    "tags": []
   },
   "source": [
    "## Remove NaN values"
   ]
  },
  {
   "cell_type": "markdown",
   "metadata": {
    "papermill": {
     "duration": 0.01352,
     "end_time": "2020-12-11T20:14:40.779475",
     "exception": false,
     "start_time": "2020-12-11T20:14:40.765955",
     "status": "completed"
    },
    "tags": []
   },
   "source": [
    "**TODO**: it might be better to try to impute this values"
   ]
  },
  {
   "cell_type": "code",
   "execution_count": 16,
   "metadata": {
    "execution": {
     "iopub.execute_input": "2020-12-11T20:14:40.809421Z",
     "iopub.status.busy": "2020-12-11T20:14:40.809030Z",
     "iopub.status.idle": "2020-12-11T20:14:41.384484Z",
     "shell.execute_reply": "2020-12-11T20:14:41.384126Z"
    },
    "papermill": {
     "duration": 0.591332,
     "end_time": "2020-12-11T20:14:41.384591",
     "exception": false,
     "start_time": "2020-12-11T20:14:40.793259",
     "status": "completed"
    },
    "tags": []
   },
   "outputs": [],
   "source": [
    "smultixcan_results = smultixcan_results.dropna(how='any')"
   ]
  },
  {
   "cell_type": "code",
   "execution_count": 17,
   "metadata": {
    "execution": {
     "iopub.execute_input": "2020-12-11T20:14:41.417118Z",
     "iopub.status.busy": "2020-12-11T20:14:41.416734Z",
     "iopub.status.idle": "2020-12-11T20:14:41.424764Z",
     "shell.execute_reply": "2020-12-11T20:14:41.424387Z"
    },
    "papermill": {
     "duration": 0.024689,
     "end_time": "2020-12-11T20:14:41.424853",
     "exception": false,
     "start_time": "2020-12-11T20:14:41.400164",
     "status": "completed"
    },
    "tags": []
   },
   "outputs": [
    {
     "data": {
      "text/plain": [
       "(22145, 4091)"
      ]
     },
     "execution_count": 17,
     "metadata": {},
     "output_type": "execute_result"
    }
   ],
   "source": [
    "smultixcan_results.shape"
   ]
  },
  {
   "cell_type": "markdown",
   "metadata": {
    "papermill": {
     "duration": 0.014189,
     "end_time": "2020-12-11T20:14:41.453568",
     "exception": false,
     "start_time": "2020-12-11T20:14:41.439379",
     "status": "completed"
    },
    "tags": []
   },
   "source": [
    "# Project S-MultiXcan data into MultiPLIER latent space"
   ]
  },
  {
   "cell_type": "code",
   "execution_count": 18,
   "metadata": {
    "execution": {
     "iopub.execute_input": "2020-12-11T20:14:41.484163Z",
     "iopub.status.busy": "2020-12-11T20:14:41.483799Z",
     "iopub.status.idle": "2020-12-11T20:14:41.496143Z",
     "shell.execute_reply": "2020-12-11T20:14:41.495766Z"
    },
    "papermill": {
     "duration": 0.028271,
     "end_time": "2020-12-11T20:14:41.496232",
     "exception": false,
     "start_time": "2020-12-11T20:14:41.467961",
     "status": "completed"
    },
    "tags": []
   },
   "outputs": [],
   "source": [
    "from multiplier import MultiplierProjection"
   ]
  },
  {
   "cell_type": "code",
   "execution_count": 19,
   "metadata": {
    "execution": {
     "iopub.execute_input": "2020-12-11T20:14:41.527205Z",
     "iopub.status.busy": "2020-12-11T20:14:41.526845Z",
     "iopub.status.idle": "2020-12-11T20:14:41.533874Z",
     "shell.execute_reply": "2020-12-11T20:14:41.533501Z"
    },
    "papermill": {
     "duration": 0.023353,
     "end_time": "2020-12-11T20:14:41.533964",
     "exception": false,
     "start_time": "2020-12-11T20:14:41.510611",
     "status": "completed"
    },
    "tags": []
   },
   "outputs": [],
   "source": [
    "mproj = MultiplierProjection()"
   ]
  },
  {
   "cell_type": "code",
   "execution_count": 20,
   "metadata": {
    "execution": {
     "iopub.execute_input": "2020-12-11T20:14:41.566310Z",
     "iopub.status.busy": "2020-12-11T20:14:41.565950Z",
     "iopub.status.idle": "2020-12-11T20:14:46.209650Z",
     "shell.execute_reply": "2020-12-11T20:14:46.209967Z"
    },
    "papermill": {
     "duration": 4.661228,
     "end_time": "2020-12-11T20:14:46.210082",
     "exception": false,
     "start_time": "2020-12-11T20:14:41.548854",
     "status": "completed"
    },
    "tags": []
   },
   "outputs": [],
   "source": [
    "smultixcan_into_multiplier = mproj.transform(smultixcan_results)"
   ]
  },
  {
   "cell_type": "code",
   "execution_count": 21,
   "metadata": {
    "execution": {
     "iopub.execute_input": "2020-12-11T20:14:46.242977Z",
     "iopub.status.busy": "2020-12-11T20:14:46.242597Z",
     "iopub.status.idle": "2020-12-11T20:14:46.249714Z",
     "shell.execute_reply": "2020-12-11T20:14:46.250083Z"
    },
    "papermill": {
     "duration": 0.024727,
     "end_time": "2020-12-11T20:14:46.250193",
     "exception": false,
     "start_time": "2020-12-11T20:14:46.225466",
     "status": "completed"
    },
    "tags": []
   },
   "outputs": [
    {
     "data": {
      "text/plain": [
       "(987, 4091)"
      ]
     },
     "execution_count": 21,
     "metadata": {},
     "output_type": "execute_result"
    }
   ],
   "source": [
    "smultixcan_into_multiplier.shape"
   ]
  },
  {
   "cell_type": "code",
   "execution_count": 22,
   "metadata": {
    "execution": {
     "iopub.execute_input": "2020-12-11T20:14:46.283560Z",
     "iopub.status.busy": "2020-12-11T20:14:46.283157Z",
     "iopub.status.idle": "2020-12-11T20:14:46.303891Z",
     "shell.execute_reply": "2020-12-11T20:14:46.303514Z"
    },
    "papermill": {
     "duration": 0.038282,
     "end_time": "2020-12-11T20:14:46.303982",
     "exception": false,
     "start_time": "2020-12-11T20:14:46.265700",
     "status": "completed"
    },
    "tags": []
   },
   "outputs": [
    {
     "data": {
      "text/html": [
       "<div>\n",
       "<style scoped>\n",
       "    .dataframe tbody tr th:only-of-type {\n",
       "        vertical-align: middle;\n",
       "    }\n",
       "\n",
       "    .dataframe tbody tr th {\n",
       "        vertical-align: top;\n",
       "    }\n",
       "\n",
       "    .dataframe thead th {\n",
       "        text-align: right;\n",
       "    }\n",
       "</style>\n",
       "<table border=\"1\" class=\"dataframe\">\n",
       "  <thead>\n",
       "    <tr style=\"text-align: right;\">\n",
       "      <th></th>\n",
       "      <th>20096_1-Size_of_red_wine_glass_drunk_small_125ml</th>\n",
       "      <th>2345-Ever_had_bowel_cancer_screening</th>\n",
       "      <th>N49-Diagnoses_main_ICD10_N49_Inflammatory_disorders_of_male_genital_organs_not_elsewhere_classified</th>\n",
       "      <th>100011_raw-Iron</th>\n",
       "      <th>5221-Index_of_best_refractometry_result_right</th>\n",
       "      <th>20003_1141150624-Treatmentmedication_code_zomig_25mg_tablet</th>\n",
       "      <th>S69-Diagnoses_main_ICD10_S69_Other_and_unspecified_injuries_of_wrist_and_hand</th>\n",
       "      <th>20024_1136-Job_code_deduced_Information_and_communication_technology_managers</th>\n",
       "      <th>20002_1385-Noncancer_illness_code_selfreported_allergy_or_anaphylactic_reaction_to_food</th>\n",
       "      <th>G6_SLEEPAPNO-Sleep_apnoea</th>\n",
       "      <th>...</th>\n",
       "      <th>Astle_et_al_2016_Sum_basophil_neutrophil_counts</th>\n",
       "      <th>RA_OKADA_TRANS_ETHNIC</th>\n",
       "      <th>pgc.scz2</th>\n",
       "      <th>PGC_ADHD_EUR_2017</th>\n",
       "      <th>MAGIC_FastingGlucose</th>\n",
       "      <th>Astle_et_al_2016_Red_blood_cell_count</th>\n",
       "      <th>SSGAC_Depressive_Symptoms</th>\n",
       "      <th>BCAC_ER_positive_BreastCancer_EUR</th>\n",
       "      <th>IBD.EUR.Inflammatory_Bowel_Disease</th>\n",
       "      <th>Astle_et_al_2016_High_light_scatter_reticulocyte_count</th>\n",
       "    </tr>\n",
       "  </thead>\n",
       "  <tbody>\n",
       "    <tr>\n",
       "      <th>LV1</th>\n",
       "      <td>-0.026255</td>\n",
       "      <td>0.006045</td>\n",
       "      <td>0.007276</td>\n",
       "      <td>-0.029740</td>\n",
       "      <td>-0.001949</td>\n",
       "      <td>0.009288</td>\n",
       "      <td>0.006488</td>\n",
       "      <td>0.003354</td>\n",
       "      <td>-0.021751</td>\n",
       "      <td>-0.039159</td>\n",
       "      <td>...</td>\n",
       "      <td>0.036648</td>\n",
       "      <td>0.094062</td>\n",
       "      <td>0.047505</td>\n",
       "      <td>-0.035089</td>\n",
       "      <td>-0.036600</td>\n",
       "      <td>0.185595</td>\n",
       "      <td>-0.031841</td>\n",
       "      <td>-0.011883</td>\n",
       "      <td>0.033163</td>\n",
       "      <td>0.061374</td>\n",
       "    </tr>\n",
       "    <tr>\n",
       "      <th>LV2</th>\n",
       "      <td>-0.006253</td>\n",
       "      <td>-0.023996</td>\n",
       "      <td>0.037932</td>\n",
       "      <td>-0.000018</td>\n",
       "      <td>-0.016128</td>\n",
       "      <td>-0.033736</td>\n",
       "      <td>-0.017215</td>\n",
       "      <td>-0.004558</td>\n",
       "      <td>0.079234</td>\n",
       "      <td>-0.040277</td>\n",
       "      <td>...</td>\n",
       "      <td>0.085747</td>\n",
       "      <td>-0.064254</td>\n",
       "      <td>0.022124</td>\n",
       "      <td>-0.008441</td>\n",
       "      <td>-0.049594</td>\n",
       "      <td>0.074838</td>\n",
       "      <td>-0.057865</td>\n",
       "      <td>-0.007585</td>\n",
       "      <td>0.003580</td>\n",
       "      <td>-0.025216</td>\n",
       "    </tr>\n",
       "    <tr>\n",
       "      <th>LV3</th>\n",
       "      <td>-0.002729</td>\n",
       "      <td>0.051637</td>\n",
       "      <td>-0.013182</td>\n",
       "      <td>-0.001663</td>\n",
       "      <td>0.035221</td>\n",
       "      <td>-0.016019</td>\n",
       "      <td>0.000484</td>\n",
       "      <td>-0.046965</td>\n",
       "      <td>-0.000498</td>\n",
       "      <td>-0.041794</td>\n",
       "      <td>...</td>\n",
       "      <td>0.068618</td>\n",
       "      <td>-0.034395</td>\n",
       "      <td>0.145881</td>\n",
       "      <td>0.031539</td>\n",
       "      <td>-0.031740</td>\n",
       "      <td>0.015501</td>\n",
       "      <td>-0.028148</td>\n",
       "      <td>-0.048226</td>\n",
       "      <td>0.030093</td>\n",
       "      <td>-0.026938</td>\n",
       "    </tr>\n",
       "    <tr>\n",
       "      <th>LV4</th>\n",
       "      <td>0.042319</td>\n",
       "      <td>-0.023236</td>\n",
       "      <td>0.063016</td>\n",
       "      <td>-0.002628</td>\n",
       "      <td>-0.046487</td>\n",
       "      <td>0.018004</td>\n",
       "      <td>-0.029841</td>\n",
       "      <td>-0.023949</td>\n",
       "      <td>-0.026485</td>\n",
       "      <td>0.022759</td>\n",
       "      <td>...</td>\n",
       "      <td>-0.070986</td>\n",
       "      <td>-0.028960</td>\n",
       "      <td>0.015369</td>\n",
       "      <td>0.051671</td>\n",
       "      <td>0.014078</td>\n",
       "      <td>-0.147863</td>\n",
       "      <td>0.034195</td>\n",
       "      <td>0.068829</td>\n",
       "      <td>-0.023213</td>\n",
       "      <td>-0.089619</td>\n",
       "    </tr>\n",
       "    <tr>\n",
       "      <th>LV5</th>\n",
       "      <td>-0.025975</td>\n",
       "      <td>0.002167</td>\n",
       "      <td>-0.022646</td>\n",
       "      <td>0.004559</td>\n",
       "      <td>0.004649</td>\n",
       "      <td>0.028440</td>\n",
       "      <td>-0.024379</td>\n",
       "      <td>-0.028536</td>\n",
       "      <td>0.019263</td>\n",
       "      <td>-0.026291</td>\n",
       "      <td>...</td>\n",
       "      <td>0.008842</td>\n",
       "      <td>-0.000932</td>\n",
       "      <td>0.004195</td>\n",
       "      <td>0.029759</td>\n",
       "      <td>-0.043760</td>\n",
       "      <td>0.057031</td>\n",
       "      <td>-0.002836</td>\n",
       "      <td>-0.046215</td>\n",
       "      <td>0.099309</td>\n",
       "      <td>0.075663</td>\n",
       "    </tr>\n",
       "  </tbody>\n",
       "</table>\n",
       "<p>5 rows × 4091 columns</p>\n",
       "</div>"
      ],
      "text/plain": [
       "     20096_1-Size_of_red_wine_glass_drunk_small_125ml  \\\n",
       "LV1                                         -0.026255   \n",
       "LV2                                         -0.006253   \n",
       "LV3                                         -0.002729   \n",
       "LV4                                          0.042319   \n",
       "LV5                                         -0.025975   \n",
       "\n",
       "     2345-Ever_had_bowel_cancer_screening  \\\n",
       "LV1                              0.006045   \n",
       "LV2                             -0.023996   \n",
       "LV3                              0.051637   \n",
       "LV4                             -0.023236   \n",
       "LV5                              0.002167   \n",
       "\n",
       "     N49-Diagnoses_main_ICD10_N49_Inflammatory_disorders_of_male_genital_organs_not_elsewhere_classified  \\\n",
       "LV1                                           0.007276                                                     \n",
       "LV2                                           0.037932                                                     \n",
       "LV3                                          -0.013182                                                     \n",
       "LV4                                           0.063016                                                     \n",
       "LV5                                          -0.022646                                                     \n",
       "\n",
       "     100011_raw-Iron  5221-Index_of_best_refractometry_result_right  \\\n",
       "LV1        -0.029740                                      -0.001949   \n",
       "LV2        -0.000018                                      -0.016128   \n",
       "LV3        -0.001663                                       0.035221   \n",
       "LV4        -0.002628                                      -0.046487   \n",
       "LV5         0.004559                                       0.004649   \n",
       "\n",
       "     20003_1141150624-Treatmentmedication_code_zomig_25mg_tablet  \\\n",
       "LV1                                           0.009288             \n",
       "LV2                                          -0.033736             \n",
       "LV3                                          -0.016019             \n",
       "LV4                                           0.018004             \n",
       "LV5                                           0.028440             \n",
       "\n",
       "     S69-Diagnoses_main_ICD10_S69_Other_and_unspecified_injuries_of_wrist_and_hand  \\\n",
       "LV1                                           0.006488                               \n",
       "LV2                                          -0.017215                               \n",
       "LV3                                           0.000484                               \n",
       "LV4                                          -0.029841                               \n",
       "LV5                                          -0.024379                               \n",
       "\n",
       "     20024_1136-Job_code_deduced_Information_and_communication_technology_managers  \\\n",
       "LV1                                           0.003354                               \n",
       "LV2                                          -0.004558                               \n",
       "LV3                                          -0.046965                               \n",
       "LV4                                          -0.023949                               \n",
       "LV5                                          -0.028536                               \n",
       "\n",
       "     20002_1385-Noncancer_illness_code_selfreported_allergy_or_anaphylactic_reaction_to_food  \\\n",
       "LV1                                          -0.021751                                         \n",
       "LV2                                           0.079234                                         \n",
       "LV3                                          -0.000498                                         \n",
       "LV4                                          -0.026485                                         \n",
       "LV5                                           0.019263                                         \n",
       "\n",
       "     G6_SLEEPAPNO-Sleep_apnoea  ...  \\\n",
       "LV1                  -0.039159  ...   \n",
       "LV2                  -0.040277  ...   \n",
       "LV3                  -0.041794  ...   \n",
       "LV4                   0.022759  ...   \n",
       "LV5                  -0.026291  ...   \n",
       "\n",
       "     Astle_et_al_2016_Sum_basophil_neutrophil_counts  RA_OKADA_TRANS_ETHNIC  \\\n",
       "LV1                                         0.036648               0.094062   \n",
       "LV2                                         0.085747              -0.064254   \n",
       "LV3                                         0.068618              -0.034395   \n",
       "LV4                                        -0.070986              -0.028960   \n",
       "LV5                                         0.008842              -0.000932   \n",
       "\n",
       "     pgc.scz2  PGC_ADHD_EUR_2017  MAGIC_FastingGlucose  \\\n",
       "LV1  0.047505          -0.035089             -0.036600   \n",
       "LV2  0.022124          -0.008441             -0.049594   \n",
       "LV3  0.145881           0.031539             -0.031740   \n",
       "LV4  0.015369           0.051671              0.014078   \n",
       "LV5  0.004195           0.029759             -0.043760   \n",
       "\n",
       "     Astle_et_al_2016_Red_blood_cell_count  SSGAC_Depressive_Symptoms  \\\n",
       "LV1                               0.185595                  -0.031841   \n",
       "LV2                               0.074838                  -0.057865   \n",
       "LV3                               0.015501                  -0.028148   \n",
       "LV4                              -0.147863                   0.034195   \n",
       "LV5                               0.057031                  -0.002836   \n",
       "\n",
       "     BCAC_ER_positive_BreastCancer_EUR  IBD.EUR.Inflammatory_Bowel_Disease  \\\n",
       "LV1                          -0.011883                            0.033163   \n",
       "LV2                          -0.007585                            0.003580   \n",
       "LV3                          -0.048226                            0.030093   \n",
       "LV4                           0.068829                           -0.023213   \n",
       "LV5                          -0.046215                            0.099309   \n",
       "\n",
       "     Astle_et_al_2016_High_light_scatter_reticulocyte_count  \n",
       "LV1                                           0.061374       \n",
       "LV2                                          -0.025216       \n",
       "LV3                                          -0.026938       \n",
       "LV4                                          -0.089619       \n",
       "LV5                                           0.075663       \n",
       "\n",
       "[5 rows x 4091 columns]"
      ]
     },
     "execution_count": 22,
     "metadata": {},
     "output_type": "execute_result"
    }
   ],
   "source": [
    "smultixcan_into_multiplier.head()"
   ]
  },
  {
   "cell_type": "markdown",
   "metadata": {
    "papermill": {
     "duration": 0.015054,
     "end_time": "2020-12-11T20:14:46.334546",
     "exception": false,
     "start_time": "2020-12-11T20:14:46.319492",
     "status": "completed"
    },
    "tags": []
   },
   "source": [
    "# Quick analysis"
   ]
  },
  {
   "cell_type": "code",
   "execution_count": 23,
   "metadata": {
    "execution": {
     "iopub.execute_input": "2020-12-11T20:14:46.366885Z",
     "iopub.status.busy": "2020-12-11T20:14:46.366521Z",
     "iopub.status.idle": "2020-12-11T20:14:46.376449Z",
     "shell.execute_reply": "2020-12-11T20:14:46.376077Z"
    },
    "papermill": {
     "duration": 0.027054,
     "end_time": "2020-12-11T20:14:46.376539",
     "exception": false,
     "start_time": "2020-12-11T20:14:46.349485",
     "status": "completed"
    },
    "tags": []
   },
   "outputs": [
    {
     "data": {
      "text/plain": [
       "30000_raw-White_blood_cell_leukocyte_count           0.347896\n",
       "30130_raw-Monocyte_count                             0.317362\n",
       "50_raw-Standing_height                               0.305480\n",
       "30100_raw-Mean_platelet_thrombocyte_volume           0.300201\n",
       "30180_raw-Lymphocyte_percentage                      0.299121\n",
       "Astle_et_al_2016_White_blood_cell_count              0.292459\n",
       "Astle_et_al_2016_Monocyte_count                      0.291476\n",
       "30140_raw-Neutrophill_count                          0.291155\n",
       "Astle_et_al_2016_Myeloid_white_cell_count            0.283702\n",
       "Astle_et_al_2016_Granulocyte_count                   0.265380\n",
       "30200_raw-Neutrophill_percentage                     0.265349\n",
       "Astle_et_al_2016_Sum_neutrophil_eosinophil_counts    0.264932\n",
       "Astle_et_al_2016_Sum_basophil_neutrophil_counts      0.259895\n",
       "Astle_et_al_2016_Neutrophil_count                    0.258384\n",
       "30150-Eosinophill_count                              0.252839\n",
       "30090_raw-Platelet_crit                              0.233135\n",
       "30080_raw-Platelet_count                             0.231489\n",
       "30110_raw-Platelet_distribution_width                0.224630\n",
       "30030_raw-Haematocrit_percentage                     0.221294\n",
       "30210_raw-Eosinophill_percentage                     0.221285\n",
       "Name: LV603, dtype: float64"
      ]
     },
     "execution_count": 23,
     "metadata": {},
     "output_type": "execute_result"
    }
   ],
   "source": [
    "(\n",
    "    smultixcan_into_multiplier.loc['LV603']\n",
    "    .sort_values(ascending=False)\n",
    "    .head(20)\n",
    ")"
   ]
  },
  {
   "cell_type": "code",
   "execution_count": 24,
   "metadata": {
    "execution": {
     "iopub.execute_input": "2020-12-11T20:14:46.409784Z",
     "iopub.status.busy": "2020-12-11T20:14:46.409421Z",
     "iopub.status.idle": "2020-12-11T20:14:46.419190Z",
     "shell.execute_reply": "2020-12-11T20:14:46.418818Z"
    },
    "papermill": {
     "duration": 0.027063,
     "end_time": "2020-12-11T20:14:46.419280",
     "exception": false,
     "start_time": "2020-12-11T20:14:46.392217",
     "status": "completed"
    },
    "tags": []
   },
   "outputs": [
    {
     "data": {
      "text/plain": [
       "5132_raw-3mm_strong_meridian_right                                0.270901\n",
       "5134_raw-6mm_strong_meridian_left                                 0.252899\n",
       "5099_raw-3mm_weak_meridian_right                                  0.249057\n",
       "5133_raw-6mm_strong_meridian_right                                0.240017\n",
       "5098_raw-6mm_weak_meridian_right                                  0.237263\n",
       "5096_raw-3mm_weak_meridian_left                                   0.234509\n",
       "5097_raw-6mm_weak_meridian_left                                   0.231357\n",
       "5135_raw-3mm_strong_meridian_left                                 0.228634\n",
       "CARDIoGRAM_C4D_CAD_ADDITIVE                                       0.223093\n",
       "I25-Diagnoses_main_ICD10_I25_Chronic_ischaemic_heart_disease      0.175861\n",
       "I9_CORATHER-Coronary_atherosclerosis                              0.175774\n",
       "I9_IHD-Ischaemic_heart_disease_wide_definition                    0.174624\n",
       "4079_raw-Diastolic_blood_pressure_automated_reading               0.173653\n",
       "I9_MI_STRICT-Myocardial_infarction_strict                         0.130762\n",
       "I9_MI-Myocardial_infarction                                       0.130762\n",
       "I21-Diagnoses_main_ICD10_I21_Acute_myocardial_infarction          0.121962\n",
       "1757-Facial_ageing                                                0.119445\n",
       "5257_raw-Corneal_resistance_factor_right                          0.118846\n",
       "5255_raw-Intraocular_pressure_Goldmanncorrelated_right            0.118222\n",
       "6150_1-Vascularheart_problems_diagnosed_by_doctor_Heart_attack    0.115942\n",
       "Name: LV136, dtype: float64"
      ]
     },
     "execution_count": 24,
     "metadata": {},
     "output_type": "execute_result"
    }
   ],
   "source": [
    "(\n",
    "    smultixcan_into_multiplier.loc['LV136']\n",
    "    .sort_values(ascending=False)\n",
    "    .head(20)\n",
    ")"
   ]
  },
  {
   "cell_type": "markdown",
   "metadata": {
    "papermill": {
     "duration": 0.015368,
     "end_time": "2020-12-11T20:14:46.450452",
     "exception": false,
     "start_time": "2020-12-11T20:14:46.435084",
     "status": "completed"
    },
    "tags": []
   },
   "source": [
    "# Save"
   ]
  },
  {
   "cell_type": "code",
   "execution_count": 25,
   "metadata": {
    "execution": {
     "iopub.execute_input": "2020-12-11T20:14:46.483862Z",
     "iopub.status.busy": "2020-12-11T20:14:46.483503Z",
     "iopub.status.idle": "2020-12-11T20:14:46.491781Z",
     "shell.execute_reply": "2020-12-11T20:14:46.491411Z"
    },
    "papermill": {
     "duration": 0.025881,
     "end_time": "2020-12-11T20:14:46.491870",
     "exception": false,
     "start_time": "2020-12-11T20:14:46.465989",
     "status": "completed"
    },
    "tags": []
   },
   "outputs": [
    {
     "data": {
      "text/plain": [
       "PosixPath('/home/miltondp/projects/labs/greenelab/phenoplier/base/results/projections/projection-smultixcan-mashr-zscores.pkl')"
      ]
     },
     "metadata": {},
     "output_type": "display_data"
    }
   ],
   "source": [
    "output_file = Path(\n",
    "    RESULTS_PROJ_OUTPUT_DIR,\n",
    "    f'projection-{results_filename_stem}.pkl'\n",
    ").resolve()\n",
    "\n",
    "display(output_file)"
   ]
  },
  {
   "cell_type": "code",
   "execution_count": 26,
   "metadata": {
    "execution": {
     "iopub.execute_input": "2020-12-11T20:14:46.525826Z",
     "iopub.status.busy": "2020-12-11T20:14:46.525466Z",
     "iopub.status.idle": "2020-12-11T20:14:46.675024Z",
     "shell.execute_reply": "2020-12-11T20:14:46.673460Z"
    },
    "papermill": {
     "duration": 0.167471,
     "end_time": "2020-12-11T20:14:46.675370",
     "exception": false,
     "start_time": "2020-12-11T20:14:46.507899",
     "status": "completed"
    },
    "tags": []
   },
   "outputs": [],
   "source": [
    "smultixcan_into_multiplier.to_pickle(output_file)"
   ]
  },
  {
   "cell_type": "code",
   "execution_count": null,
   "metadata": {
    "papermill": {
     "duration": 0.01715,
     "end_time": "2020-12-11T20:14:46.739012",
     "exception": false,
     "start_time": "2020-12-11T20:14:46.721862",
     "status": "completed"
    },
    "tags": []
   },
   "outputs": [],
   "source": []
  }
 ],
 "metadata": {
  "kernelspec": {
   "display_name": "Python 3",
   "language": "python",
   "name": "python3"
  },
  "language_info": {
   "codemirror_mode": {
    "name": "ipython",
    "version": 3
   },
   "file_extension": ".py",
   "mimetype": "text/x-python",
   "name": "python",
   "nbconvert_exporter": "python",
   "pygments_lexer": "ipython3",
   "version": "3.8.6"
  },
  "papermill": {
   "default_parameters": {},
   "duration": 12.194306,
   "end_time": "2020-12-11T20:14:47.061970",
   "environment_variables": {},
   "exception": null,
   "input_path": "05_projections/010-multiplier-phenomexcan.ipynb",
   "output_path": "05_projections/010-multiplier-phenomexcan.run.ipynb",
   "parameters": {},
   "start_time": "2020-12-11T20:14:34.867664",
   "version": "2.2.2"
  },
  "toc-autonumbering": true
 },
 "nbformat": 4,
 "nbformat_minor": 4
}