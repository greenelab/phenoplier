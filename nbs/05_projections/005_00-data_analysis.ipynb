{
 "cells": [
  {
   "cell_type": "markdown",
   "metadata": {
    "papermill": {
     "duration": 0.069069,
     "end_time": "2021-03-08T19:22:36.567262",
     "exception": false,
     "start_time": "2021-03-08T19:22:36.498193",
     "status": "completed"
    },
    "tags": []
   },
   "source": [
    "# Description"
   ]
  },
  {
   "cell_type": "markdown",
   "metadata": {
    "papermill": {
     "duration": 0.031766,
     "end_time": "2021-03-08T19:22:36.631170",
     "exception": false,
     "start_time": "2021-03-08T19:22:36.599404",
     "status": "completed"
    },
    "tags": []
   },
   "source": [
    "This notebook analyses the \"high polygenicity\" problem in our TWAS results from PhenomeXcan and explores ways to fix it. That is, some traits such as \"height\", are highly polygenic (many genes are correlated with it), and this is a problem for our downstream analysis where these traits (anthropometric ones in particular) are everywhere.\n",
    "\n",
    "Some approaches to try to fix this issue are explored, such as standardizing by GWAS sample size."
   ]
  },
  {
   "cell_type": "markdown",
   "metadata": {
    "papermill": {
     "duration": 0.034198,
     "end_time": "2021-03-08T19:22:36.697348",
     "exception": false,
     "start_time": "2021-03-08T19:22:36.663150",
     "status": "completed"
    },
    "tags": []
   },
   "source": [
    "# Modules loading"
   ]
  },
  {
   "cell_type": "code",
   "execution_count": 1,
   "metadata": {
    "execution": {
     "iopub.execute_input": "2021-03-08T19:22:36.765804Z",
     "iopub.status.busy": "2021-03-08T19:22:36.765426Z",
     "iopub.status.idle": "2021-03-08T19:22:36.773570Z",
     "shell.execute_reply": "2021-03-08T19:22:36.773126Z"
    },
    "papermill": {
     "duration": 0.043429,
     "end_time": "2021-03-08T19:22:36.773694",
     "exception": false,
     "start_time": "2021-03-08T19:22:36.730265",
     "status": "completed"
    },
    "tags": []
   },
   "outputs": [],
   "source": [
    "%load_ext autoreload\n",
    "%autoreload 2"
   ]
  },
  {
   "cell_type": "code",
   "execution_count": 2,
   "metadata": {
    "execution": {
     "iopub.execute_input": "2021-03-08T19:22:36.841105Z",
     "iopub.status.busy": "2021-03-08T19:22:36.840721Z",
     "iopub.status.idle": "2021-03-08T19:22:37.581898Z",
     "shell.execute_reply": "2021-03-08T19:22:37.582285Z"
    },
    "papermill": {
     "duration": 0.776127,
     "end_time": "2021-03-08T19:22:37.582427",
     "exception": false,
     "start_time": "2021-03-08T19:22:36.806300",
     "status": "completed"
    },
    "tags": []
   },
   "outputs": [],
   "source": [
    "from pathlib import Path\n",
    "\n",
    "from IPython.display import display\n",
    "import numpy as np\n",
    "import pandas as pd\n",
    "import matplotlib.pyplot as plt\n",
    "import seaborn as sns\n",
    "\n",
    "import conf\n",
    "from entity import Gene, Trait\n",
    "from data.cache import read_data\n",
    "from multiplier import MultiplierProjection"
   ]
  },
  {
   "cell_type": "markdown",
   "metadata": {
    "papermill": {
     "duration": 0.033503,
     "end_time": "2021-03-08T19:22:37.657449",
     "exception": false,
     "start_time": "2021-03-08T19:22:37.623946",
     "status": "completed"
    },
    "tags": []
   },
   "source": [
    "# Settings"
   ]
  },
  {
   "cell_type": "markdown",
   "metadata": {
    "papermill": {
     "duration": 0.032891,
     "end_time": "2021-03-08T19:22:37.724609",
     "exception": false,
     "start_time": "2021-03-08T19:22:37.691718",
     "status": "completed"
    },
    "tags": []
   },
   "source": [
    "# Load PhenomeXcan data (S-MultiXcan)"
   ]
  },
  {
   "cell_type": "code",
   "execution_count": 3,
   "metadata": {
    "execution": {
     "iopub.execute_input": "2021-03-08T19:22:37.792239Z",
     "iopub.status.busy": "2021-03-08T19:22:37.791862Z",
     "iopub.status.idle": "2021-03-08T19:22:37.803229Z",
     "shell.execute_reply": "2021-03-08T19:22:37.803530Z"
    },
    "papermill": {
     "duration": 0.046577,
     "end_time": "2021-03-08T19:22:37.803639",
     "exception": false,
     "start_time": "2021-03-08T19:22:37.757062",
     "status": "completed"
    },
    "tags": []
   },
   "outputs": [
    {
     "data": {
      "text/plain": [
       "PosixPath('/home/miltondp/projects/labs/greenelab/phenoplier/base/data/phenomexcan/gene_assoc/smultixcan-efo_partial-mashr-zscores.pkl')"
      ]
     },
     "metadata": {},
     "output_type": "display_data"
    }
   ],
   "source": [
    "smultixcan_results_filename = conf.PHENOMEXCAN[\n",
    "    \"SMULTIXCAN_EFO_PARTIAL_MASHR_ZSCORES_FILE\"\n",
    "]\n",
    "\n",
    "display(smultixcan_results_filename)"
   ]
  },
  {
   "cell_type": "code",
   "execution_count": 4,
   "metadata": {
    "execution": {
     "iopub.execute_input": "2021-03-08T19:22:37.870776Z",
     "iopub.status.busy": "2021-03-08T19:22:37.870404Z",
     "iopub.status.idle": "2021-03-08T19:22:37.880968Z",
     "shell.execute_reply": "2021-03-08T19:22:37.880603Z"
    },
    "papermill": {
     "duration": 0.044878,
     "end_time": "2021-03-08T19:22:37.881054",
     "exception": false,
     "start_time": "2021-03-08T19:22:37.836176",
     "status": "completed"
    },
    "tags": []
   },
   "outputs": [
    {
     "data": {
      "text/plain": [
       "'smultixcan-efo_partial-mashr-zscores'"
      ]
     },
     "metadata": {},
     "output_type": "display_data"
    }
   ],
   "source": [
    "results_filename_stem = smultixcan_results_filename.stem\n",
    "display(results_filename_stem)"
   ]
  },
  {
   "cell_type": "code",
   "execution_count": 5,
   "metadata": {
    "execution": {
     "iopub.execute_input": "2021-03-08T19:22:37.948370Z",
     "iopub.status.busy": "2021-03-08T19:22:37.948012Z",
     "iopub.status.idle": "2021-03-08T19:22:38.209988Z",
     "shell.execute_reply": "2021-03-08T19:22:38.209608Z"
    },
    "papermill": {
     "duration": 0.296248,
     "end_time": "2021-03-08T19:22:38.210087",
     "exception": false,
     "start_time": "2021-03-08T19:22:37.913839",
     "status": "completed"
    },
    "tags": []
   },
   "outputs": [],
   "source": [
    "smultixcan_results = pd.read_pickle(smultixcan_results_filename)"
   ]
  },
  {
   "cell_type": "code",
   "execution_count": 6,
   "metadata": {
    "execution": {
     "iopub.execute_input": "2021-03-08T19:22:38.281385Z",
     "iopub.status.busy": "2021-03-08T19:22:38.281025Z",
     "iopub.status.idle": "2021-03-08T19:22:38.291398Z",
     "shell.execute_reply": "2021-03-08T19:22:38.291022Z"
    },
    "papermill": {
     "duration": 0.045574,
     "end_time": "2021-03-08T19:22:38.291486",
     "exception": false,
     "start_time": "2021-03-08T19:22:38.245912",
     "status": "completed"
    },
    "tags": []
   },
   "outputs": [
    {
     "data": {
      "text/plain": [
       "(22515, 3752)"
      ]
     },
     "execution_count": 6,
     "metadata": {},
     "output_type": "execute_result"
    }
   ],
   "source": [
    "smultixcan_results.shape"
   ]
  },
  {
   "cell_type": "code",
   "execution_count": 7,
   "metadata": {
    "execution": {
     "iopub.execute_input": "2021-03-08T19:22:38.359616Z",
     "iopub.status.busy": "2021-03-08T19:22:38.359256Z",
     "iopub.status.idle": "2021-03-08T19:22:38.382543Z",
     "shell.execute_reply": "2021-03-08T19:22:38.382827Z"
    },
    "papermill": {
     "duration": 0.058444,
     "end_time": "2021-03-08T19:22:38.382936",
     "exception": false,
     "start_time": "2021-03-08T19:22:38.324492",
     "status": "completed"
    },
    "tags": []
   },
   "outputs": [
    {
     "data": {
      "text/html": [
       "<div>\n",
       "<style scoped>\n",
       "    .dataframe tbody tr th:only-of-type {\n",
       "        vertical-align: middle;\n",
       "    }\n",
       "\n",
       "    .dataframe tbody tr th {\n",
       "        vertical-align: top;\n",
       "    }\n",
       "\n",
       "    .dataframe thead th {\n",
       "        text-align: right;\n",
       "    }\n",
       "</style>\n",
       "<table border=\"1\" class=\"dataframe\">\n",
       "  <thead>\n",
       "    <tr style=\"text-align: right;\">\n",
       "      <th></th>\n",
       "      <th>100001_raw-Food_weight</th>\n",
       "      <th>100002_raw-Energy</th>\n",
       "      <th>100003_raw-Protein</th>\n",
       "      <th>100004_raw-Fat</th>\n",
       "      <th>100005_raw-Carbohydrate</th>\n",
       "      <th>100006_raw-Saturated_fat</th>\n",
       "      <th>100007_raw-Polyunsaturated_fat</th>\n",
       "      <th>100008_raw-Total_sugars</th>\n",
       "      <th>100009_raw-Englyst_dietary_fibre</th>\n",
       "      <th>100010-Portion_size</th>\n",
       "      <th>...</th>\n",
       "      <th>visual impairment</th>\n",
       "      <th>vitiligo</th>\n",
       "      <th>vitreous body disease</th>\n",
       "      <th>vocal cord polyp</th>\n",
       "      <th>voice disorders</th>\n",
       "      <th>wellbeing measurement AND family relationship</th>\n",
       "      <th>wheezing</th>\n",
       "      <th>whooping cough</th>\n",
       "      <th>worry measurement</th>\n",
       "      <th>wrist fracture</th>\n",
       "    </tr>\n",
       "    <tr>\n",
       "      <th>gene_name</th>\n",
       "      <th></th>\n",
       "      <th></th>\n",
       "      <th></th>\n",
       "      <th></th>\n",
       "      <th></th>\n",
       "      <th></th>\n",
       "      <th></th>\n",
       "      <th></th>\n",
       "      <th></th>\n",
       "      <th></th>\n",
       "      <th></th>\n",
       "      <th></th>\n",
       "      <th></th>\n",
       "      <th></th>\n",
       "      <th></th>\n",
       "      <th></th>\n",
       "      <th></th>\n",
       "      <th></th>\n",
       "      <th></th>\n",
       "      <th></th>\n",
       "      <th></th>\n",
       "    </tr>\n",
       "  </thead>\n",
       "  <tbody>\n",
       "    <tr>\n",
       "      <th>ENSG00000000419</th>\n",
       "      <td>1.145442</td>\n",
       "      <td>0.724557</td>\n",
       "      <td>0.090876</td>\n",
       "      <td>0.298165</td>\n",
       "      <td>1.134347</td>\n",
       "      <td>1.371138</td>\n",
       "      <td>0.065718</td>\n",
       "      <td>0.794317</td>\n",
       "      <td>0.600342</td>\n",
       "      <td>0.317652</td>\n",
       "      <td>...</td>\n",
       "      <td>0.360518</td>\n",
       "      <td>1.351624</td>\n",
       "      <td>1.157695</td>\n",
       "      <td>0.835289</td>\n",
       "      <td>1.173072</td>\n",
       "      <td>1.337280</td>\n",
       "      <td>1.743822</td>\n",
       "      <td>1.017226</td>\n",
       "      <td>1.512184</td>\n",
       "      <td>0.972241</td>\n",
       "    </tr>\n",
       "    <tr>\n",
       "      <th>ENSG00000000457</th>\n",
       "      <td>0.618066</td>\n",
       "      <td>1.028131</td>\n",
       "      <td>2.218420</td>\n",
       "      <td>0.762584</td>\n",
       "      <td>0.934418</td>\n",
       "      <td>0.192993</td>\n",
       "      <td>1.080230</td>\n",
       "      <td>0.765997</td>\n",
       "      <td>0.375898</td>\n",
       "      <td>0.678731</td>\n",
       "      <td>...</td>\n",
       "      <td>2.134504</td>\n",
       "      <td>0.127830</td>\n",
       "      <td>0.534690</td>\n",
       "      <td>0.120516</td>\n",
       "      <td>0.517464</td>\n",
       "      <td>2.545363</td>\n",
       "      <td>0.673331</td>\n",
       "      <td>2.003092</td>\n",
       "      <td>0.344000</td>\n",
       "      <td>2.033122</td>\n",
       "    </tr>\n",
       "    <tr>\n",
       "      <th>ENSG00000000460</th>\n",
       "      <td>0.515724</td>\n",
       "      <td>0.403596</td>\n",
       "      <td>1.251359</td>\n",
       "      <td>0.433091</td>\n",
       "      <td>0.413466</td>\n",
       "      <td>0.246261</td>\n",
       "      <td>1.236151</td>\n",
       "      <td>0.827430</td>\n",
       "      <td>0.571985</td>\n",
       "      <td>0.782174</td>\n",
       "      <td>...</td>\n",
       "      <td>1.768905</td>\n",
       "      <td>0.992408</td>\n",
       "      <td>0.548215</td>\n",
       "      <td>0.412341</td>\n",
       "      <td>1.499415</td>\n",
       "      <td>1.366780</td>\n",
       "      <td>0.443318</td>\n",
       "      <td>0.417630</td>\n",
       "      <td>0.225934</td>\n",
       "      <td>1.613246</td>\n",
       "    </tr>\n",
       "    <tr>\n",
       "      <th>ENSG00000000938</th>\n",
       "      <td>0.280781</td>\n",
       "      <td>0.253910</td>\n",
       "      <td>0.879148</td>\n",
       "      <td>0.352705</td>\n",
       "      <td>0.051846</td>\n",
       "      <td>0.184212</td>\n",
       "      <td>0.148566</td>\n",
       "      <td>0.009989</td>\n",
       "      <td>0.363751</td>\n",
       "      <td>0.374514</td>\n",
       "      <td>...</td>\n",
       "      <td>0.656552</td>\n",
       "      <td>2.046041</td>\n",
       "      <td>2.746832</td>\n",
       "      <td>0.108211</td>\n",
       "      <td>1.008258</td>\n",
       "      <td>0.755695</td>\n",
       "      <td>0.896228</td>\n",
       "      <td>0.875047</td>\n",
       "      <td>0.476405</td>\n",
       "      <td>1.693057</td>\n",
       "    </tr>\n",
       "    <tr>\n",
       "      <th>ENSG00000000971</th>\n",
       "      <td>0.548127</td>\n",
       "      <td>0.389877</td>\n",
       "      <td>0.723469</td>\n",
       "      <td>1.167250</td>\n",
       "      <td>0.315952</td>\n",
       "      <td>0.324939</td>\n",
       "      <td>1.613932</td>\n",
       "      <td>0.311432</td>\n",
       "      <td>0.333548</td>\n",
       "      <td>1.807243</td>\n",
       "      <td>...</td>\n",
       "      <td>0.260482</td>\n",
       "      <td>0.646204</td>\n",
       "      <td>1.080240</td>\n",
       "      <td>0.678330</td>\n",
       "      <td>1.465358</td>\n",
       "      <td>0.307672</td>\n",
       "      <td>0.118376</td>\n",
       "      <td>1.419812</td>\n",
       "      <td>0.000002</td>\n",
       "      <td>1.040737</td>\n",
       "    </tr>\n",
       "  </tbody>\n",
       "</table>\n",
       "<p>5 rows × 3752 columns</p>\n",
       "</div>"
      ],
      "text/plain": [
       "                 100001_raw-Food_weight  100002_raw-Energy  \\\n",
       "gene_name                                                    \n",
       "ENSG00000000419                1.145442           0.724557   \n",
       "ENSG00000000457                0.618066           1.028131   \n",
       "ENSG00000000460                0.515724           0.403596   \n",
       "ENSG00000000938                0.280781           0.253910   \n",
       "ENSG00000000971                0.548127           0.389877   \n",
       "\n",
       "                 100003_raw-Protein  100004_raw-Fat  100005_raw-Carbohydrate  \\\n",
       "gene_name                                                                      \n",
       "ENSG00000000419            0.090876        0.298165                 1.134347   \n",
       "ENSG00000000457            2.218420        0.762584                 0.934418   \n",
       "ENSG00000000460            1.251359        0.433091                 0.413466   \n",
       "ENSG00000000938            0.879148        0.352705                 0.051846   \n",
       "ENSG00000000971            0.723469        1.167250                 0.315952   \n",
       "\n",
       "                 100006_raw-Saturated_fat  100007_raw-Polyunsaturated_fat  \\\n",
       "gene_name                                                                   \n",
       "ENSG00000000419                  1.371138                        0.065718   \n",
       "ENSG00000000457                  0.192993                        1.080230   \n",
       "ENSG00000000460                  0.246261                        1.236151   \n",
       "ENSG00000000938                  0.184212                        0.148566   \n",
       "ENSG00000000971                  0.324939                        1.613932   \n",
       "\n",
       "                 100008_raw-Total_sugars  100009_raw-Englyst_dietary_fibre  \\\n",
       "gene_name                                                                    \n",
       "ENSG00000000419                 0.794317                          0.600342   \n",
       "ENSG00000000457                 0.765997                          0.375898   \n",
       "ENSG00000000460                 0.827430                          0.571985   \n",
       "ENSG00000000938                 0.009989                          0.363751   \n",
       "ENSG00000000971                 0.311432                          0.333548   \n",
       "\n",
       "                 100010-Portion_size  ...  visual impairment  vitiligo  \\\n",
       "gene_name                             ...                                \n",
       "ENSG00000000419             0.317652  ...           0.360518  1.351624   \n",
       "ENSG00000000457             0.678731  ...           2.134504  0.127830   \n",
       "ENSG00000000460             0.782174  ...           1.768905  0.992408   \n",
       "ENSG00000000938             0.374514  ...           0.656552  2.046041   \n",
       "ENSG00000000971             1.807243  ...           0.260482  0.646204   \n",
       "\n",
       "                 vitreous body disease  vocal cord polyp  voice disorders  \\\n",
       "gene_name                                                                   \n",
       "ENSG00000000419               1.157695          0.835289         1.173072   \n",
       "ENSG00000000457               0.534690          0.120516         0.517464   \n",
       "ENSG00000000460               0.548215          0.412341         1.499415   \n",
       "ENSG00000000938               2.746832          0.108211         1.008258   \n",
       "ENSG00000000971               1.080240          0.678330         1.465358   \n",
       "\n",
       "                 wellbeing measurement AND family relationship  wheezing  \\\n",
       "gene_name                                                                  \n",
       "ENSG00000000419                                       1.337280  1.743822   \n",
       "ENSG00000000457                                       2.545363  0.673331   \n",
       "ENSG00000000460                                       1.366780  0.443318   \n",
       "ENSG00000000938                                       0.755695  0.896228   \n",
       "ENSG00000000971                                       0.307672  0.118376   \n",
       "\n",
       "                 whooping cough  worry measurement  wrist fracture  \n",
       "gene_name                                                           \n",
       "ENSG00000000419        1.017226           1.512184        0.972241  \n",
       "ENSG00000000457        2.003092           0.344000        2.033122  \n",
       "ENSG00000000460        0.417630           0.225934        1.613246  \n",
       "ENSG00000000938        0.875047           0.476405        1.693057  \n",
       "ENSG00000000971        1.419812           0.000002        1.040737  \n",
       "\n",
       "[5 rows x 3752 columns]"
      ]
     },
     "execution_count": 7,
     "metadata": {},
     "output_type": "execute_result"
    }
   ],
   "source": [
    "smultixcan_results.head()"
   ]
  },
  {
   "cell_type": "code",
   "execution_count": 8,
   "metadata": {
    "execution": {
     "iopub.execute_input": "2021-03-08T19:22:38.453383Z",
     "iopub.status.busy": "2021-03-08T19:22:38.453018Z",
     "iopub.status.idle": "2021-03-08T19:22:43.056583Z",
     "shell.execute_reply": "2021-03-08T19:22:43.056219Z"
    },
    "papermill": {
     "duration": 4.639068,
     "end_time": "2021-03-08T19:22:43.056672",
     "exception": false,
     "start_time": "2021-03-08T19:22:38.417604",
     "status": "completed"
    },
    "tags": []
   },
   "outputs": [
    {
     "data": {
      "text/plain": [
       "count             84476280.0\n",
       "mean      0.8638967105401182\n",
       "std       0.7355093768129249\n",
       "min                      0.0\n",
       "25%      0.33519032841499646\n",
       "50%       0.7165349117038435\n",
       "75%       1.2250506784524884\n",
       "max       52.732309168781974\n",
       "dtype: object"
      ]
     },
     "execution_count": 8,
     "metadata": {},
     "output_type": "execute_result"
    }
   ],
   "source": [
    "pd.Series(smultixcan_results.values.flatten()).describe().apply(str)"
   ]
  },
  {
   "cell_type": "markdown",
   "metadata": {
    "papermill": {
     "duration": 0.033256,
     "end_time": "2021-03-08T19:22:43.123917",
     "exception": false,
     "start_time": "2021-03-08T19:22:43.090661",
     "status": "completed"
    },
    "tags": []
   },
   "source": [
    "## Convert gene IDs to Gene names"
   ]
  },
  {
   "cell_type": "code",
   "execution_count": 9,
   "metadata": {
    "execution": {
     "iopub.execute_input": "2021-03-08T19:22:43.193365Z",
     "iopub.status.busy": "2021-03-08T19:22:43.193006Z",
     "iopub.status.idle": "2021-03-08T19:22:43.340262Z",
     "shell.execute_reply": "2021-03-08T19:22:43.340578Z"
    },
    "papermill": {
     "duration": 0.183485,
     "end_time": "2021-03-08T19:22:43.340704",
     "exception": false,
     "start_time": "2021-03-08T19:22:43.157219",
     "status": "completed"
    },
    "tags": []
   },
   "outputs": [],
   "source": [
    "smultixcan_results = smultixcan_results.rename(index=Gene.GENE_ID_TO_NAME_MAP)"
   ]
  },
  {
   "cell_type": "code",
   "execution_count": 10,
   "metadata": {
    "execution": {
     "iopub.execute_input": "2021-03-08T19:22:43.413289Z",
     "iopub.status.busy": "2021-03-08T19:22:43.412883Z",
     "iopub.status.idle": "2021-03-08T19:22:43.423495Z",
     "shell.execute_reply": "2021-03-08T19:22:43.423131Z"
    },
    "papermill": {
     "duration": 0.046944,
     "end_time": "2021-03-08T19:22:43.423583",
     "exception": false,
     "start_time": "2021-03-08T19:22:43.376639",
     "status": "completed"
    },
    "tags": []
   },
   "outputs": [
    {
     "data": {
      "text/plain": [
       "(22515, 3752)"
      ]
     },
     "execution_count": 10,
     "metadata": {},
     "output_type": "execute_result"
    }
   ],
   "source": [
    "smultixcan_results.shape"
   ]
  },
  {
   "cell_type": "code",
   "execution_count": 11,
   "metadata": {
    "execution": {
     "iopub.execute_input": "2021-03-08T19:22:43.494991Z",
     "iopub.status.busy": "2021-03-08T19:22:43.494632Z",
     "iopub.status.idle": "2021-03-08T19:22:43.516724Z",
     "shell.execute_reply": "2021-03-08T19:22:43.516392Z"
    },
    "papermill": {
     "duration": 0.058688,
     "end_time": "2021-03-08T19:22:43.516816",
     "exception": false,
     "start_time": "2021-03-08T19:22:43.458128",
     "status": "completed"
    },
    "tags": []
   },
   "outputs": [
    {
     "data": {
      "text/html": [
       "<div>\n",
       "<style scoped>\n",
       "    .dataframe tbody tr th:only-of-type {\n",
       "        vertical-align: middle;\n",
       "    }\n",
       "\n",
       "    .dataframe tbody tr th {\n",
       "        vertical-align: top;\n",
       "    }\n",
       "\n",
       "    .dataframe thead th {\n",
       "        text-align: right;\n",
       "    }\n",
       "</style>\n",
       "<table border=\"1\" class=\"dataframe\">\n",
       "  <thead>\n",
       "    <tr style=\"text-align: right;\">\n",
       "      <th></th>\n",
       "      <th>100001_raw-Food_weight</th>\n",
       "      <th>100002_raw-Energy</th>\n",
       "      <th>100003_raw-Protein</th>\n",
       "      <th>100004_raw-Fat</th>\n",
       "      <th>100005_raw-Carbohydrate</th>\n",
       "      <th>100006_raw-Saturated_fat</th>\n",
       "      <th>100007_raw-Polyunsaturated_fat</th>\n",
       "      <th>100008_raw-Total_sugars</th>\n",
       "      <th>100009_raw-Englyst_dietary_fibre</th>\n",
       "      <th>100010-Portion_size</th>\n",
       "      <th>...</th>\n",
       "      <th>visual impairment</th>\n",
       "      <th>vitiligo</th>\n",
       "      <th>vitreous body disease</th>\n",
       "      <th>vocal cord polyp</th>\n",
       "      <th>voice disorders</th>\n",
       "      <th>wellbeing measurement AND family relationship</th>\n",
       "      <th>wheezing</th>\n",
       "      <th>whooping cough</th>\n",
       "      <th>worry measurement</th>\n",
       "      <th>wrist fracture</th>\n",
       "    </tr>\n",
       "    <tr>\n",
       "      <th>gene_name</th>\n",
       "      <th></th>\n",
       "      <th></th>\n",
       "      <th></th>\n",
       "      <th></th>\n",
       "      <th></th>\n",
       "      <th></th>\n",
       "      <th></th>\n",
       "      <th></th>\n",
       "      <th></th>\n",
       "      <th></th>\n",
       "      <th></th>\n",
       "      <th></th>\n",
       "      <th></th>\n",
       "      <th></th>\n",
       "      <th></th>\n",
       "      <th></th>\n",
       "      <th></th>\n",
       "      <th></th>\n",
       "      <th></th>\n",
       "      <th></th>\n",
       "      <th></th>\n",
       "    </tr>\n",
       "  </thead>\n",
       "  <tbody>\n",
       "    <tr>\n",
       "      <th>DPM1</th>\n",
       "      <td>1.145442</td>\n",
       "      <td>0.724557</td>\n",
       "      <td>0.090876</td>\n",
       "      <td>0.298165</td>\n",
       "      <td>1.134347</td>\n",
       "      <td>1.371138</td>\n",
       "      <td>0.065718</td>\n",
       "      <td>0.794317</td>\n",
       "      <td>0.600342</td>\n",
       "      <td>0.317652</td>\n",
       "      <td>...</td>\n",
       "      <td>0.360518</td>\n",
       "      <td>1.351624</td>\n",
       "      <td>1.157695</td>\n",
       "      <td>0.835289</td>\n",
       "      <td>1.173072</td>\n",
       "      <td>1.337280</td>\n",
       "      <td>1.743822</td>\n",
       "      <td>1.017226</td>\n",
       "      <td>1.512184</td>\n",
       "      <td>0.972241</td>\n",
       "    </tr>\n",
       "    <tr>\n",
       "      <th>SCYL3</th>\n",
       "      <td>0.618066</td>\n",
       "      <td>1.028131</td>\n",
       "      <td>2.218420</td>\n",
       "      <td>0.762584</td>\n",
       "      <td>0.934418</td>\n",
       "      <td>0.192993</td>\n",
       "      <td>1.080230</td>\n",
       "      <td>0.765997</td>\n",
       "      <td>0.375898</td>\n",
       "      <td>0.678731</td>\n",
       "      <td>...</td>\n",
       "      <td>2.134504</td>\n",
       "      <td>0.127830</td>\n",
       "      <td>0.534690</td>\n",
       "      <td>0.120516</td>\n",
       "      <td>0.517464</td>\n",
       "      <td>2.545363</td>\n",
       "      <td>0.673331</td>\n",
       "      <td>2.003092</td>\n",
       "      <td>0.344000</td>\n",
       "      <td>2.033122</td>\n",
       "    </tr>\n",
       "    <tr>\n",
       "      <th>C1orf112</th>\n",
       "      <td>0.515724</td>\n",
       "      <td>0.403596</td>\n",
       "      <td>1.251359</td>\n",
       "      <td>0.433091</td>\n",
       "      <td>0.413466</td>\n",
       "      <td>0.246261</td>\n",
       "      <td>1.236151</td>\n",
       "      <td>0.827430</td>\n",
       "      <td>0.571985</td>\n",
       "      <td>0.782174</td>\n",
       "      <td>...</td>\n",
       "      <td>1.768905</td>\n",
       "      <td>0.992408</td>\n",
       "      <td>0.548215</td>\n",
       "      <td>0.412341</td>\n",
       "      <td>1.499415</td>\n",
       "      <td>1.366780</td>\n",
       "      <td>0.443318</td>\n",
       "      <td>0.417630</td>\n",
       "      <td>0.225934</td>\n",
       "      <td>1.613246</td>\n",
       "    </tr>\n",
       "    <tr>\n",
       "      <th>FGR</th>\n",
       "      <td>0.280781</td>\n",
       "      <td>0.253910</td>\n",
       "      <td>0.879148</td>\n",
       "      <td>0.352705</td>\n",
       "      <td>0.051846</td>\n",
       "      <td>0.184212</td>\n",
       "      <td>0.148566</td>\n",
       "      <td>0.009989</td>\n",
       "      <td>0.363751</td>\n",
       "      <td>0.374514</td>\n",
       "      <td>...</td>\n",
       "      <td>0.656552</td>\n",
       "      <td>2.046041</td>\n",
       "      <td>2.746832</td>\n",
       "      <td>0.108211</td>\n",
       "      <td>1.008258</td>\n",
       "      <td>0.755695</td>\n",
       "      <td>0.896228</td>\n",
       "      <td>0.875047</td>\n",
       "      <td>0.476405</td>\n",
       "      <td>1.693057</td>\n",
       "    </tr>\n",
       "    <tr>\n",
       "      <th>CFH</th>\n",
       "      <td>0.548127</td>\n",
       "      <td>0.389877</td>\n",
       "      <td>0.723469</td>\n",
       "      <td>1.167250</td>\n",
       "      <td>0.315952</td>\n",
       "      <td>0.324939</td>\n",
       "      <td>1.613932</td>\n",
       "      <td>0.311432</td>\n",
       "      <td>0.333548</td>\n",
       "      <td>1.807243</td>\n",
       "      <td>...</td>\n",
       "      <td>0.260482</td>\n",
       "      <td>0.646204</td>\n",
       "      <td>1.080240</td>\n",
       "      <td>0.678330</td>\n",
       "      <td>1.465358</td>\n",
       "      <td>0.307672</td>\n",
       "      <td>0.118376</td>\n",
       "      <td>1.419812</td>\n",
       "      <td>0.000002</td>\n",
       "      <td>1.040737</td>\n",
       "    </tr>\n",
       "  </tbody>\n",
       "</table>\n",
       "<p>5 rows × 3752 columns</p>\n",
       "</div>"
      ],
      "text/plain": [
       "           100001_raw-Food_weight  100002_raw-Energy  100003_raw-Protein  \\\n",
       "gene_name                                                                  \n",
       "DPM1                     1.145442           0.724557            0.090876   \n",
       "SCYL3                    0.618066           1.028131            2.218420   \n",
       "C1orf112                 0.515724           0.403596            1.251359   \n",
       "FGR                      0.280781           0.253910            0.879148   \n",
       "CFH                      0.548127           0.389877            0.723469   \n",
       "\n",
       "           100004_raw-Fat  100005_raw-Carbohydrate  100006_raw-Saturated_fat  \\\n",
       "gene_name                                                                      \n",
       "DPM1             0.298165                 1.134347                  1.371138   \n",
       "SCYL3            0.762584                 0.934418                  0.192993   \n",
       "C1orf112         0.433091                 0.413466                  0.246261   \n",
       "FGR              0.352705                 0.051846                  0.184212   \n",
       "CFH              1.167250                 0.315952                  0.324939   \n",
       "\n",
       "           100007_raw-Polyunsaturated_fat  100008_raw-Total_sugars  \\\n",
       "gene_name                                                            \n",
       "DPM1                             0.065718                 0.794317   \n",
       "SCYL3                            1.080230                 0.765997   \n",
       "C1orf112                         1.236151                 0.827430   \n",
       "FGR                              0.148566                 0.009989   \n",
       "CFH                              1.613932                 0.311432   \n",
       "\n",
       "           100009_raw-Englyst_dietary_fibre  100010-Portion_size  ...  \\\n",
       "gene_name                                                         ...   \n",
       "DPM1                               0.600342             0.317652  ...   \n",
       "SCYL3                              0.375898             0.678731  ...   \n",
       "C1orf112                           0.571985             0.782174  ...   \n",
       "FGR                                0.363751             0.374514  ...   \n",
       "CFH                                0.333548             1.807243  ...   \n",
       "\n",
       "           visual impairment  vitiligo  vitreous body disease  \\\n",
       "gene_name                                                       \n",
       "DPM1                0.360518  1.351624               1.157695   \n",
       "SCYL3               2.134504  0.127830               0.534690   \n",
       "C1orf112            1.768905  0.992408               0.548215   \n",
       "FGR                 0.656552  2.046041               2.746832   \n",
       "CFH                 0.260482  0.646204               1.080240   \n",
       "\n",
       "           vocal cord polyp  voice disorders  \\\n",
       "gene_name                                      \n",
       "DPM1               0.835289         1.173072   \n",
       "SCYL3              0.120516         0.517464   \n",
       "C1orf112           0.412341         1.499415   \n",
       "FGR                0.108211         1.008258   \n",
       "CFH                0.678330         1.465358   \n",
       "\n",
       "           wellbeing measurement AND family relationship  wheezing  \\\n",
       "gene_name                                                            \n",
       "DPM1                                            1.337280  1.743822   \n",
       "SCYL3                                           2.545363  0.673331   \n",
       "C1orf112                                        1.366780  0.443318   \n",
       "FGR                                             0.755695  0.896228   \n",
       "CFH                                             0.307672  0.118376   \n",
       "\n",
       "           whooping cough  worry measurement  wrist fracture  \n",
       "gene_name                                                     \n",
       "DPM1             1.017226           1.512184        0.972241  \n",
       "SCYL3            2.003092           0.344000        2.033122  \n",
       "C1orf112         0.417630           0.225934        1.613246  \n",
       "FGR              0.875047           0.476405        1.693057  \n",
       "CFH              1.419812           0.000002        1.040737  \n",
       "\n",
       "[5 rows x 3752 columns]"
      ]
     },
     "execution_count": 11,
     "metadata": {},
     "output_type": "execute_result"
    }
   ],
   "source": [
    "smultixcan_results.head()"
   ]
  },
  {
   "cell_type": "markdown",
   "metadata": {
    "papermill": {
     "duration": 0.034482,
     "end_time": "2021-03-08T19:22:43.586557",
     "exception": false,
     "start_time": "2021-03-08T19:22:43.552075",
     "status": "completed"
    },
    "tags": []
   },
   "source": [
    "## Remove duplicated gene entries"
   ]
  },
  {
   "cell_type": "code",
   "execution_count": 12,
   "metadata": {
    "execution": {
     "iopub.execute_input": "2021-03-08T19:22:43.656925Z",
     "iopub.status.busy": "2021-03-08T19:22:43.656476Z",
     "iopub.status.idle": "2021-03-08T19:22:43.670006Z",
     "shell.execute_reply": "2021-03-08T19:22:43.669629Z"
    },
    "papermill": {
     "duration": 0.049595,
     "end_time": "2021-03-08T19:22:43.670097",
     "exception": false,
     "start_time": "2021-03-08T19:22:43.620502",
     "status": "completed"
    },
    "tags": []
   },
   "outputs": [
    {
     "data": {
      "text/plain": [
       "Index(['SPATA13', 'LINC01422', 'LINC00484', 'MAL2', 'GOLGA8M', 'LINC01115',\n",
       "       'LYNX1'],\n",
       "      dtype='object', name='gene_name')"
      ]
     },
     "execution_count": 12,
     "metadata": {},
     "output_type": "execute_result"
    }
   ],
   "source": [
    "smultixcan_results.index[smultixcan_results.index.duplicated(keep=\"first\")]"
   ]
  },
  {
   "cell_type": "code",
   "execution_count": 13,
   "metadata": {
    "execution": {
     "iopub.execute_input": "2021-03-08T19:22:43.745038Z",
     "iopub.status.busy": "2021-03-08T19:22:43.744620Z",
     "iopub.status.idle": "2021-03-08T19:22:43.889552Z",
     "shell.execute_reply": "2021-03-08T19:22:43.889206Z"
    },
    "papermill": {
     "duration": 0.183212,
     "end_time": "2021-03-08T19:22:43.889645",
     "exception": false,
     "start_time": "2021-03-08T19:22:43.706433",
     "status": "completed"
    },
    "tags": []
   },
   "outputs": [],
   "source": [
    "smultixcan_results = smultixcan_results.loc[\n",
    "    ~smultixcan_results.index.duplicated(keep=\"first\")\n",
    "]"
   ]
  },
  {
   "cell_type": "code",
   "execution_count": 14,
   "metadata": {
    "execution": {
     "iopub.execute_input": "2021-03-08T19:22:43.962431Z",
     "iopub.status.busy": "2021-03-08T19:22:43.962070Z",
     "iopub.status.idle": "2021-03-08T19:22:43.972258Z",
     "shell.execute_reply": "2021-03-08T19:22:43.971886Z"
    },
    "papermill": {
     "duration": 0.046934,
     "end_time": "2021-03-08T19:22:43.972346",
     "exception": false,
     "start_time": "2021-03-08T19:22:43.925412",
     "status": "completed"
    },
    "tags": []
   },
   "outputs": [
    {
     "data": {
      "text/plain": [
       "(22508, 3752)"
      ]
     },
     "execution_count": 14,
     "metadata": {},
     "output_type": "execute_result"
    }
   ],
   "source": [
    "smultixcan_results.shape"
   ]
  },
  {
   "cell_type": "markdown",
   "metadata": {
    "papermill": {
     "duration": 0.03459,
     "end_time": "2021-03-08T19:22:44.042203",
     "exception": false,
     "start_time": "2021-03-08T19:22:44.007613",
     "status": "completed"
    },
    "tags": []
   },
   "source": [
    "## Some checks"
   ]
  },
  {
   "cell_type": "code",
   "execution_count": 15,
   "metadata": {
    "execution": {
     "iopub.execute_input": "2021-03-08T19:22:44.114265Z",
     "iopub.status.busy": "2021-03-08T19:22:44.113901Z",
     "iopub.status.idle": "2021-03-08T19:22:44.413625Z",
     "shell.execute_reply": "2021-03-08T19:22:44.413247Z"
    },
    "papermill": {
     "duration": 0.337355,
     "end_time": "2021-03-08T19:22:44.413723",
     "exception": false,
     "start_time": "2021-03-08T19:22:44.076368",
     "status": "completed"
    },
    "tags": []
   },
   "outputs": [],
   "source": [
    "# the data should have no NaN values\n",
    "assert smultixcan_results.shape == smultixcan_results.dropna(how=\"any\").shape"
   ]
  },
  {
   "cell_type": "markdown",
   "metadata": {
    "papermill": {
     "duration": 0.034138,
     "end_time": "2021-03-08T19:22:44.483741",
     "exception": false,
     "start_time": "2021-03-08T19:22:44.449603",
     "status": "completed"
    },
    "tags": []
   },
   "source": [
    "# Project original S-MultiXcan into MultiPLIER latent space"
   ]
  },
  {
   "cell_type": "code",
   "execution_count": 16,
   "metadata": {
    "execution": {
     "iopub.execute_input": "2021-03-08T19:22:44.555201Z",
     "iopub.status.busy": "2021-03-08T19:22:44.554840Z",
     "iopub.status.idle": "2021-03-08T19:22:44.563955Z",
     "shell.execute_reply": "2021-03-08T19:22:44.564240Z"
    },
    "papermill": {
     "duration": 0.04634,
     "end_time": "2021-03-08T19:22:44.564350",
     "exception": false,
     "start_time": "2021-03-08T19:22:44.518010",
     "status": "completed"
    },
    "tags": []
   },
   "outputs": [],
   "source": [
    "mproj = MultiplierProjection()"
   ]
  },
  {
   "cell_type": "code",
   "execution_count": 17,
   "metadata": {
    "execution": {
     "iopub.execute_input": "2021-03-08T19:22:44.637642Z",
     "iopub.status.busy": "2021-03-08T19:22:44.637269Z",
     "iopub.status.idle": "2021-03-08T19:22:47.427417Z",
     "shell.execute_reply": "2021-03-08T19:22:47.427730Z"
    },
    "papermill": {
     "duration": 2.827749,
     "end_time": "2021-03-08T19:22:47.427843",
     "exception": false,
     "start_time": "2021-03-08T19:22:44.600094",
     "status": "completed"
    },
    "tags": []
   },
   "outputs": [],
   "source": [
    "smultixcan_into_multiplier = mproj.transform(smultixcan_results)"
   ]
  },
  {
   "cell_type": "code",
   "execution_count": 18,
   "metadata": {
    "execution": {
     "iopub.execute_input": "2021-03-08T19:22:47.506516Z",
     "iopub.status.busy": "2021-03-08T19:22:47.506157Z",
     "iopub.status.idle": "2021-03-08T19:22:47.516658Z",
     "shell.execute_reply": "2021-03-08T19:22:47.516284Z"
    },
    "papermill": {
     "duration": 0.051024,
     "end_time": "2021-03-08T19:22:47.516782",
     "exception": false,
     "start_time": "2021-03-08T19:22:47.465758",
     "status": "completed"
    },
    "tags": []
   },
   "outputs": [
    {
     "data": {
      "text/plain": [
       "(987, 3752)"
      ]
     },
     "execution_count": 18,
     "metadata": {},
     "output_type": "execute_result"
    }
   ],
   "source": [
    "smultixcan_into_multiplier.shape"
   ]
  },
  {
   "cell_type": "code",
   "execution_count": 19,
   "metadata": {
    "execution": {
     "iopub.execute_input": "2021-03-08T19:22:47.590617Z",
     "iopub.status.busy": "2021-03-08T19:22:47.590256Z",
     "iopub.status.idle": "2021-03-08T19:22:47.612125Z",
     "shell.execute_reply": "2021-03-08T19:22:47.611757Z"
    },
    "papermill": {
     "duration": 0.059812,
     "end_time": "2021-03-08T19:22:47.612212",
     "exception": false,
     "start_time": "2021-03-08T19:22:47.552400",
     "status": "completed"
    },
    "tags": []
   },
   "outputs": [
    {
     "data": {
      "text/html": [
       "<div>\n",
       "<style scoped>\n",
       "    .dataframe tbody tr th:only-of-type {\n",
       "        vertical-align: middle;\n",
       "    }\n",
       "\n",
       "    .dataframe tbody tr th {\n",
       "        vertical-align: top;\n",
       "    }\n",
       "\n",
       "    .dataframe thead th {\n",
       "        text-align: right;\n",
       "    }\n",
       "</style>\n",
       "<table border=\"1\" class=\"dataframe\">\n",
       "  <thead>\n",
       "    <tr style=\"text-align: right;\">\n",
       "      <th></th>\n",
       "      <th>100001_raw-Food_weight</th>\n",
       "      <th>100002_raw-Energy</th>\n",
       "      <th>100003_raw-Protein</th>\n",
       "      <th>100004_raw-Fat</th>\n",
       "      <th>100005_raw-Carbohydrate</th>\n",
       "      <th>100006_raw-Saturated_fat</th>\n",
       "      <th>100007_raw-Polyunsaturated_fat</th>\n",
       "      <th>100008_raw-Total_sugars</th>\n",
       "      <th>100009_raw-Englyst_dietary_fibre</th>\n",
       "      <th>100010-Portion_size</th>\n",
       "      <th>...</th>\n",
       "      <th>visual impairment</th>\n",
       "      <th>vitiligo</th>\n",
       "      <th>vitreous body disease</th>\n",
       "      <th>vocal cord polyp</th>\n",
       "      <th>voice disorders</th>\n",
       "      <th>wellbeing measurement AND family relationship</th>\n",
       "      <th>wheezing</th>\n",
       "      <th>whooping cough</th>\n",
       "      <th>worry measurement</th>\n",
       "      <th>wrist fracture</th>\n",
       "    </tr>\n",
       "  </thead>\n",
       "  <tbody>\n",
       "    <tr>\n",
       "      <th>LV1</th>\n",
       "      <td>-0.018529</td>\n",
       "      <td>-0.043848</td>\n",
       "      <td>-0.021517</td>\n",
       "      <td>-0.030494</td>\n",
       "      <td>-0.017478</td>\n",
       "      <td>-0.012389</td>\n",
       "      <td>-0.018080</td>\n",
       "      <td>-0.008115</td>\n",
       "      <td>-0.049653</td>\n",
       "      <td>-0.033758</td>\n",
       "      <td>...</td>\n",
       "      <td>-0.006722</td>\n",
       "      <td>-0.003278</td>\n",
       "      <td>-0.010568</td>\n",
       "      <td>-0.005974</td>\n",
       "      <td>0.001363</td>\n",
       "      <td>-0.013469</td>\n",
       "      <td>-0.005827</td>\n",
       "      <td>0.004966</td>\n",
       "      <td>0.045035</td>\n",
       "      <td>0.040176</td>\n",
       "    </tr>\n",
       "    <tr>\n",
       "      <th>LV2</th>\n",
       "      <td>0.052884</td>\n",
       "      <td>-0.012038</td>\n",
       "      <td>-0.028537</td>\n",
       "      <td>-0.052565</td>\n",
       "      <td>0.003748</td>\n",
       "      <td>-0.054685</td>\n",
       "      <td>-0.032014</td>\n",
       "      <td>0.009900</td>\n",
       "      <td>-0.030171</td>\n",
       "      <td>0.006873</td>\n",
       "      <td>...</td>\n",
       "      <td>-0.030605</td>\n",
       "      <td>-0.033658</td>\n",
       "      <td>0.018575</td>\n",
       "      <td>0.004952</td>\n",
       "      <td>-0.013827</td>\n",
       "      <td>0.052846</td>\n",
       "      <td>0.034227</td>\n",
       "      <td>-0.032056</td>\n",
       "      <td>-0.013700</td>\n",
       "      <td>0.022791</td>\n",
       "    </tr>\n",
       "    <tr>\n",
       "      <th>LV3</th>\n",
       "      <td>-0.003728</td>\n",
       "      <td>-0.011876</td>\n",
       "      <td>0.009331</td>\n",
       "      <td>0.000325</td>\n",
       "      <td>-0.003800</td>\n",
       "      <td>-0.000113</td>\n",
       "      <td>-0.001198</td>\n",
       "      <td>-0.013454</td>\n",
       "      <td>-0.024918</td>\n",
       "      <td>-0.020363</td>\n",
       "      <td>...</td>\n",
       "      <td>-0.000163</td>\n",
       "      <td>-0.022459</td>\n",
       "      <td>-0.019675</td>\n",
       "      <td>-0.045772</td>\n",
       "      <td>0.006908</td>\n",
       "      <td>0.007226</td>\n",
       "      <td>0.047864</td>\n",
       "      <td>0.030882</td>\n",
       "      <td>0.088102</td>\n",
       "      <td>0.021724</td>\n",
       "    </tr>\n",
       "    <tr>\n",
       "      <th>LV4</th>\n",
       "      <td>0.028337</td>\n",
       "      <td>-0.006139</td>\n",
       "      <td>0.007777</td>\n",
       "      <td>-0.039561</td>\n",
       "      <td>-0.000932</td>\n",
       "      <td>-0.039758</td>\n",
       "      <td>-0.043279</td>\n",
       "      <td>0.007249</td>\n",
       "      <td>-0.002642</td>\n",
       "      <td>-0.003982</td>\n",
       "      <td>...</td>\n",
       "      <td>-0.018550</td>\n",
       "      <td>0.010721</td>\n",
       "      <td>-0.043519</td>\n",
       "      <td>-0.030809</td>\n",
       "      <td>-0.037809</td>\n",
       "      <td>0.043944</td>\n",
       "      <td>0.025969</td>\n",
       "      <td>-0.047666</td>\n",
       "      <td>-0.006620</td>\n",
       "      <td>0.054820</td>\n",
       "    </tr>\n",
       "    <tr>\n",
       "      <th>LV5</th>\n",
       "      <td>-0.015548</td>\n",
       "      <td>0.006967</td>\n",
       "      <td>0.012694</td>\n",
       "      <td>0.006179</td>\n",
       "      <td>-0.000663</td>\n",
       "      <td>0.032299</td>\n",
       "      <td>-0.028889</td>\n",
       "      <td>-0.002338</td>\n",
       "      <td>0.029388</td>\n",
       "      <td>0.008235</td>\n",
       "      <td>...</td>\n",
       "      <td>0.023042</td>\n",
       "      <td>-0.023190</td>\n",
       "      <td>0.010424</td>\n",
       "      <td>-0.007029</td>\n",
       "      <td>0.010276</td>\n",
       "      <td>-0.015197</td>\n",
       "      <td>-0.019299</td>\n",
       "      <td>-0.007524</td>\n",
       "      <td>-0.026164</td>\n",
       "      <td>0.049784</td>\n",
       "    </tr>\n",
       "  </tbody>\n",
       "</table>\n",
       "<p>5 rows × 3752 columns</p>\n",
       "</div>"
      ],
      "text/plain": [
       "     100001_raw-Food_weight  100002_raw-Energy  100003_raw-Protein  \\\n",
       "LV1               -0.018529          -0.043848           -0.021517   \n",
       "LV2                0.052884          -0.012038           -0.028537   \n",
       "LV3               -0.003728          -0.011876            0.009331   \n",
       "LV4                0.028337          -0.006139            0.007777   \n",
       "LV5               -0.015548           0.006967            0.012694   \n",
       "\n",
       "     100004_raw-Fat  100005_raw-Carbohydrate  100006_raw-Saturated_fat  \\\n",
       "LV1       -0.030494                -0.017478                 -0.012389   \n",
       "LV2       -0.052565                 0.003748                 -0.054685   \n",
       "LV3        0.000325                -0.003800                 -0.000113   \n",
       "LV4       -0.039561                -0.000932                 -0.039758   \n",
       "LV5        0.006179                -0.000663                  0.032299   \n",
       "\n",
       "     100007_raw-Polyunsaturated_fat  100008_raw-Total_sugars  \\\n",
       "LV1                       -0.018080                -0.008115   \n",
       "LV2                       -0.032014                 0.009900   \n",
       "LV3                       -0.001198                -0.013454   \n",
       "LV4                       -0.043279                 0.007249   \n",
       "LV5                       -0.028889                -0.002338   \n",
       "\n",
       "     100009_raw-Englyst_dietary_fibre  100010-Portion_size  ...  \\\n",
       "LV1                         -0.049653            -0.033758  ...   \n",
       "LV2                         -0.030171             0.006873  ...   \n",
       "LV3                         -0.024918            -0.020363  ...   \n",
       "LV4                         -0.002642            -0.003982  ...   \n",
       "LV5                          0.029388             0.008235  ...   \n",
       "\n",
       "     visual impairment  vitiligo  vitreous body disease  vocal cord polyp  \\\n",
       "LV1          -0.006722 -0.003278              -0.010568         -0.005974   \n",
       "LV2          -0.030605 -0.033658               0.018575          0.004952   \n",
       "LV3          -0.000163 -0.022459              -0.019675         -0.045772   \n",
       "LV4          -0.018550  0.010721              -0.043519         -0.030809   \n",
       "LV5           0.023042 -0.023190               0.010424         -0.007029   \n",
       "\n",
       "     voice disorders  wellbeing measurement AND family relationship  wheezing  \\\n",
       "LV1         0.001363                                      -0.013469 -0.005827   \n",
       "LV2        -0.013827                                       0.052846  0.034227   \n",
       "LV3         0.006908                                       0.007226  0.047864   \n",
       "LV4        -0.037809                                       0.043944  0.025969   \n",
       "LV5         0.010276                                      -0.015197 -0.019299   \n",
       "\n",
       "     whooping cough  worry measurement  wrist fracture  \n",
       "LV1        0.004966           0.045035        0.040176  \n",
       "LV2       -0.032056          -0.013700        0.022791  \n",
       "LV3        0.030882           0.088102        0.021724  \n",
       "LV4       -0.047666          -0.006620        0.054820  \n",
       "LV5       -0.007524          -0.026164        0.049784  \n",
       "\n",
       "[5 rows x 3752 columns]"
      ]
     },
     "execution_count": 19,
     "metadata": {},
     "output_type": "execute_result"
    }
   ],
   "source": [
    "smultixcan_into_multiplier.head()"
   ]
  },
  {
   "cell_type": "markdown",
   "metadata": {
    "papermill": {
     "duration": 0.035576,
     "end_time": "2021-03-08T19:22:47.684040",
     "exception": false,
     "start_time": "2021-03-08T19:22:47.648464",
     "status": "completed"
    },
    "tags": []
   },
   "source": [
    "## Quick analysis"
   ]
  },
  {
   "cell_type": "markdown",
   "metadata": {
    "papermill": {
     "duration": 0.037154,
     "end_time": "2021-03-08T19:22:47.759366",
     "exception": false,
     "start_time": "2021-03-08T19:22:47.722212",
     "status": "completed"
    },
    "tags": []
   },
   "source": [
    "List top traits associated to some LVs when the original data is projected."
   ]
  },
  {
   "cell_type": "code",
   "execution_count": 20,
   "metadata": {
    "execution": {
     "iopub.execute_input": "2021-03-08T19:22:47.858428Z",
     "iopub.status.busy": "2021-03-08T19:22:47.858032Z",
     "iopub.status.idle": "2021-03-08T19:22:47.869935Z",
     "shell.execute_reply": "2021-03-08T19:22:47.870226Z"
    },
    "papermill": {
     "duration": 0.055916,
     "end_time": "2021-03-08T19:22:47.870341",
     "exception": false,
     "start_time": "2021-03-08T19:22:47.814425",
     "status": "completed"
    },
    "tags": []
   },
   "outputs": [
    {
     "data": {
      "text/plain": [
       "30000_raw-White_blood_cell_leukocyte_count    0.339285\n",
       "30130_raw-Monocyte_count                      0.309447\n",
       "50_raw-Standing_height                        0.298543\n",
       "30100_raw-Mean_platelet_thrombocyte_volume    0.293013\n",
       "30180_raw-Lymphocyte_percentage               0.291032\n",
       "30140_raw-Neutrophill_count                   0.283304\n",
       "body height                                   0.264087\n",
       "30200_raw-Neutrophill_percentage              0.258095\n",
       "leukocyte count                               0.255670\n",
       "30150-Eosinophill_count                       0.246918\n",
       "myeloid white cell count                      0.240056\n",
       "monocyte count                                0.239372\n",
       "granulocyte count                             0.227016\n",
       "sum of neutrophil and eosinophil counts       0.226620\n",
       "30090_raw-Platelet_crit                       0.226562\n",
       "30080_raw-Platelet_count                      0.225581\n",
       "sum of basophil and neutrophil counts         0.221290\n",
       "neutrophil count                              0.219480\n",
       "30110_raw-Platelet_distribution_width         0.218891\n",
       "30030_raw-Haematocrit_percentage              0.215982\n",
       "Name: LV603, dtype: float64"
      ]
     },
     "execution_count": 20,
     "metadata": {},
     "output_type": "execute_result"
    }
   ],
   "source": [
    "smultixcan_into_multiplier.loc[\"LV603\"].sort_values(ascending=False).head(20)"
   ]
  },
  {
   "cell_type": "code",
   "execution_count": 21,
   "metadata": {
    "execution": {
     "iopub.execute_input": "2021-03-08T19:22:47.946033Z",
     "iopub.status.busy": "2021-03-08T19:22:47.945672Z",
     "iopub.status.idle": "2021-03-08T19:22:47.957302Z",
     "shell.execute_reply": "2021-03-08T19:22:47.957576Z"
    },
    "papermill": {
     "duration": 0.05098,
     "end_time": "2021-03-08T19:22:47.957682",
     "exception": false,
     "start_time": "2021-03-08T19:22:47.906702",
     "status": "completed"
    },
    "tags": []
   },
   "outputs": [
    {
     "data": {
      "text/plain": [
       "5132_raw-3mm_strong_meridian_right                        0.267583\n",
       "5134_raw-6mm_strong_meridian_left                         0.250203\n",
       "5099_raw-3mm_weak_meridian_right                          0.246634\n",
       "coronary artery disease                                   0.242014\n",
       "5133_raw-6mm_strong_meridian_right                        0.237800\n",
       "5098_raw-6mm_weak_meridian_right                          0.234193\n",
       "5096_raw-3mm_weak_meridian_left                           0.231896\n",
       "5097_raw-6mm_weak_meridian_left                           0.228752\n",
       "5135_raw-3mm_strong_meridian_left                         0.225642\n",
       "I9_CORATHER-Coronary_atherosclerosis                      0.173063\n",
       "I9_IHD-Ischaemic_heart_disease_wide_definition            0.172855\n",
       "4079_raw-Diastolic_blood_pressure_automated_reading       0.172370\n",
       "hearing loss                                              0.146664\n",
       "I9_MI-Myocardial_infarction                               0.129660\n",
       "I9_MI_STRICT-Myocardial_infarction_strict                 0.129660\n",
       "reticulocyte count                                        0.128146\n",
       "acute myocardial infarction                               0.120571\n",
       "1757-Facial_ageing                                        0.117122\n",
       "5257_raw-Corneal_resistance_factor_right                  0.116967\n",
       "5255_raw-Intraocular_pressure_Goldmanncorrelated_right    0.116852\n",
       "Name: LV136, dtype: float64"
      ]
     },
     "execution_count": 21,
     "metadata": {},
     "output_type": "execute_result"
    }
   ],
   "source": [
    "smultixcan_into_multiplier.loc[\"LV136\"].sort_values(ascending=False).head(20)"
   ]
  },
  {
   "cell_type": "code",
   "execution_count": 22,
   "metadata": {
    "execution": {
     "iopub.execute_input": "2021-03-08T19:22:48.033963Z",
     "iopub.status.busy": "2021-03-08T19:22:48.033601Z",
     "iopub.status.idle": "2021-03-08T19:22:48.045763Z",
     "shell.execute_reply": "2021-03-08T19:22:48.045386Z"
    },
    "papermill": {
     "duration": 0.050974,
     "end_time": "2021-03-08T19:22:48.045851",
     "exception": false,
     "start_time": "2021-03-08T19:22:47.994877",
     "status": "completed"
    },
    "tags": []
   },
   "outputs": [
    {
     "data": {
      "text/plain": [
       "celiac disease                                                0.648623\n",
       "rheumatoid arthritis                                          0.590315\n",
       "K11_COELIAC-Coeliac_disease                                   0.506841\n",
       "malabsorption syndrome                                        0.474485\n",
       "30000_raw-White_blood_cell_leukocyte_count                    0.342640\n",
       "30110_raw-Platelet_distribution_width                         0.318122\n",
       "systemic lupus erythematosus                                  0.310763\n",
       "30140_raw-Neutrophill_count                                   0.305687\n",
       "leukocyte count                                               0.305495\n",
       "30270_raw-Mean_sphered_cell_volume                            0.272869\n",
       "2986-Started_insulin_within_one_year_diagnosis_of_diabetes    0.271690\n",
       "psoriasis                                                     0.268846\n",
       "30260_raw-Mean_reticulocyte_volume                            0.266955\n",
       "6144_3-Never_eat_eggs_dairy_wheat_sugar_Wheat_products        0.260068\n",
       "lymphocyte count                                              0.259858\n",
       "hypothyroidism AND myxedema                                   0.256423\n",
       "30100_raw-Mean_platelet_thrombocyte_volume                    0.250788\n",
       "hyperthyroidism AND thyrotoxicosis                            0.247307\n",
       "30020_raw-Haemoglobin_concentration                           0.243895\n",
       "monocyte count                                                0.243272\n",
       "Name: LV844, dtype: float64"
      ]
     },
     "execution_count": 22,
     "metadata": {},
     "output_type": "execute_result"
    }
   ],
   "source": [
    "smultixcan_into_multiplier.loc[\"LV844\"].sort_values(ascending=False).head(20)"
   ]
  },
  {
   "cell_type": "markdown",
   "metadata": {
    "papermill": {
     "duration": 0.036764,
     "end_time": "2021-03-08T19:22:48.120055",
     "exception": false,
     "start_time": "2021-03-08T19:22:48.083291",
     "status": "completed"
    },
    "tags": []
   },
   "source": [
    "# Select traits"
   ]
  },
  {
   "cell_type": "markdown",
   "metadata": {
    "papermill": {
     "duration": 0.036185,
     "end_time": "2021-03-08T19:22:48.192994",
     "exception": false,
     "start_time": "2021-03-08T19:22:48.156809",
     "status": "completed"
    },
    "tags": []
   },
   "source": [
    "## Get sample size for all traits"
   ]
  },
  {
   "cell_type": "markdown",
   "metadata": {
    "papermill": {
     "duration": 0.036446,
     "end_time": "2021-03-08T19:22:48.266516",
     "exception": false,
     "start_time": "2021-03-08T19:22:48.230070",
     "status": "completed"
    },
    "tags": []
   },
   "source": [
    "Since some PhenomeXcan traits were previously combined into EFO terms, here I need to compute the sample size for meta-analyzed traits (cases were several PhenomeXcan's traits mapped to the same EFO term)."
   ]
  },
  {
   "cell_type": "code",
   "execution_count": 23,
   "metadata": {
    "execution": {
     "iopub.execute_input": "2021-03-08T19:22:48.343222Z",
     "iopub.status.busy": "2021-03-08T19:22:48.342852Z",
     "iopub.status.idle": "2021-03-08T19:22:50.116016Z",
     "shell.execute_reply": "2021-03-08T19:22:50.115632Z"
    },
    "papermill": {
     "duration": 1.813022,
     "end_time": "2021-03-08T19:22:50.116104",
     "exception": false,
     "start_time": "2021-03-08T19:22:48.303082",
     "status": "completed"
    },
    "tags": []
   },
   "outputs": [],
   "source": [
    "df_dicts = []\n",
    "\n",
    "for trait_name in smultixcan_results.columns:\n",
    "    if Trait.is_efo_label(trait_name):\n",
    "        # if it is an EFO label, then sum sample sizes of mapped PhenomeXcan\n",
    "        # traits.\n",
    "        traits_list = Trait.get_traits_from_efo(trait_name)\n",
    "\n",
    "        n_list = [t.n for t in traits_list]\n",
    "        n_cases_list = [t.n_cases for t in traits_list]\n",
    "        n_controls_list = [t.n_controls for t in traits_list]\n",
    "\n",
    "        trait_info = {\n",
    "            \"trait\": trait_name,\n",
    "            \"n\": sum(n_list),\n",
    "            \"n_cases\": sum(n_cases_list),\n",
    "            \"n_controls\": sum(n_controls_list),\n",
    "        }\n",
    "    else:\n",
    "        t = Trait.get_trait(full_code=trait_name)\n",
    "        trait_info = {\n",
    "            \"trait\": trait_name,\n",
    "            \"n\": t.n,\n",
    "            \"n_cases\": t.n_cases,\n",
    "            \"n_controls\": t.n_controls,\n",
    "        }\n",
    "\n",
    "    df_dicts.append(trait_info)"
   ]
  },
  {
   "cell_type": "code",
   "execution_count": 24,
   "metadata": {
    "execution": {
     "iopub.execute_input": "2021-03-08T19:22:50.192312Z",
     "iopub.status.busy": "2021-03-08T19:22:50.191938Z",
     "iopub.status.idle": "2021-03-08T19:22:50.202658Z",
     "shell.execute_reply": "2021-03-08T19:22:50.202302Z"
    },
    "papermill": {
     "duration": 0.049713,
     "end_time": "2021-03-08T19:22:50.202744",
     "exception": false,
     "start_time": "2021-03-08T19:22:50.153031",
     "status": "completed"
    },
    "tags": []
   },
   "outputs": [
    {
     "data": {
      "text/plain": [
       "3752"
      ]
     },
     "metadata": {},
     "output_type": "display_data"
    }
   ],
   "source": [
    "_tmp = len(df_dicts)\n",
    "display(_tmp)\n",
    "assert _tmp == smultixcan_results.shape[1]"
   ]
  },
  {
   "cell_type": "code",
   "execution_count": 25,
   "metadata": {
    "execution": {
     "iopub.execute_input": "2021-03-08T19:22:50.279147Z",
     "iopub.status.busy": "2021-03-08T19:22:50.278786Z",
     "iopub.status.idle": "2021-03-08T19:22:50.293188Z",
     "shell.execute_reply": "2021-03-08T19:22:50.292796Z"
    },
    "papermill": {
     "duration": 0.053452,
     "end_time": "2021-03-08T19:22:50.293280",
     "exception": false,
     "start_time": "2021-03-08T19:22:50.239828",
     "status": "completed"
    },
    "tags": []
   },
   "outputs": [],
   "source": [
    "traits_sample_size_df = pd.DataFrame(df_dicts).set_index(\"trait\")"
   ]
  },
  {
   "cell_type": "code",
   "execution_count": 26,
   "metadata": {
    "execution": {
     "iopub.execute_input": "2021-03-08T19:22:50.371872Z",
     "iopub.status.busy": "2021-03-08T19:22:50.371509Z",
     "iopub.status.idle": "2021-03-08T19:22:50.381286Z",
     "shell.execute_reply": "2021-03-08T19:22:50.380916Z"
    },
    "papermill": {
     "duration": 0.049482,
     "end_time": "2021-03-08T19:22:50.381375",
     "exception": false,
     "start_time": "2021-03-08T19:22:50.331893",
     "status": "completed"
    },
    "tags": []
   },
   "outputs": [],
   "source": [
    "assert traits_sample_size_df.index.is_unique"
   ]
  },
  {
   "cell_type": "code",
   "execution_count": 27,
   "metadata": {
    "execution": {
     "iopub.execute_input": "2021-03-08T19:22:50.457835Z",
     "iopub.status.busy": "2021-03-08T19:22:50.457464Z",
     "iopub.status.idle": "2021-03-08T19:22:50.468241Z",
     "shell.execute_reply": "2021-03-08T19:22:50.467927Z"
    },
    "papermill": {
     "duration": 0.049575,
     "end_time": "2021-03-08T19:22:50.468330",
     "exception": false,
     "start_time": "2021-03-08T19:22:50.418755",
     "status": "completed"
    },
    "tags": []
   },
   "outputs": [
    {
     "data": {
      "text/plain": [
       "(3752, 3)"
      ]
     },
     "execution_count": 27,
     "metadata": {},
     "output_type": "execute_result"
    }
   ],
   "source": [
    "traits_sample_size_df.shape"
   ]
  },
  {
   "cell_type": "code",
   "execution_count": 28,
   "metadata": {
    "execution": {
     "iopub.execute_input": "2021-03-08T19:22:50.544775Z",
     "iopub.status.busy": "2021-03-08T19:22:50.544365Z",
     "iopub.status.idle": "2021-03-08T19:22:50.557519Z",
     "shell.execute_reply": "2021-03-08T19:22:50.557144Z"
    },
    "papermill": {
     "duration": 0.052095,
     "end_time": "2021-03-08T19:22:50.557609",
     "exception": false,
     "start_time": "2021-03-08T19:22:50.505514",
     "status": "completed"
    },
    "tags": []
   },
   "outputs": [
    {
     "data": {
      "text/html": [
       "<div>\n",
       "<style scoped>\n",
       "    .dataframe tbody tr th:only-of-type {\n",
       "        vertical-align: middle;\n",
       "    }\n",
       "\n",
       "    .dataframe tbody tr th {\n",
       "        vertical-align: top;\n",
       "    }\n",
       "\n",
       "    .dataframe thead th {\n",
       "        text-align: right;\n",
       "    }\n",
       "</style>\n",
       "<table border=\"1\" class=\"dataframe\">\n",
       "  <thead>\n",
       "    <tr style=\"text-align: right;\">\n",
       "      <th></th>\n",
       "      <th>n</th>\n",
       "      <th>n_cases</th>\n",
       "      <th>n_controls</th>\n",
       "    </tr>\n",
       "    <tr>\n",
       "      <th>trait</th>\n",
       "      <th></th>\n",
       "      <th></th>\n",
       "      <th></th>\n",
       "    </tr>\n",
       "  </thead>\n",
       "  <tbody>\n",
       "    <tr>\n",
       "      <th>100001_raw-Food_weight</th>\n",
       "      <td>51453</td>\n",
       "      <td>NaN</td>\n",
       "      <td>NaN</td>\n",
       "    </tr>\n",
       "    <tr>\n",
       "      <th>100002_raw-Energy</th>\n",
       "      <td>51453</td>\n",
       "      <td>NaN</td>\n",
       "      <td>NaN</td>\n",
       "    </tr>\n",
       "    <tr>\n",
       "      <th>100003_raw-Protein</th>\n",
       "      <td>51453</td>\n",
       "      <td>NaN</td>\n",
       "      <td>NaN</td>\n",
       "    </tr>\n",
       "    <tr>\n",
       "      <th>100004_raw-Fat</th>\n",
       "      <td>51453</td>\n",
       "      <td>NaN</td>\n",
       "      <td>NaN</td>\n",
       "    </tr>\n",
       "    <tr>\n",
       "      <th>100005_raw-Carbohydrate</th>\n",
       "      <td>51453</td>\n",
       "      <td>NaN</td>\n",
       "      <td>NaN</td>\n",
       "    </tr>\n",
       "  </tbody>\n",
       "</table>\n",
       "</div>"
      ],
      "text/plain": [
       "                             n  n_cases  n_controls\n",
       "trait                                              \n",
       "100001_raw-Food_weight   51453      NaN         NaN\n",
       "100002_raw-Energy        51453      NaN         NaN\n",
       "100003_raw-Protein       51453      NaN         NaN\n",
       "100004_raw-Fat           51453      NaN         NaN\n",
       "100005_raw-Carbohydrate  51453      NaN         NaN"
      ]
     },
     "execution_count": 28,
     "metadata": {},
     "output_type": "execute_result"
    }
   ],
   "source": [
    "traits_sample_size_df.head()"
   ]
  },
  {
   "cell_type": "code",
   "execution_count": 29,
   "metadata": {
    "execution": {
     "iopub.execute_input": "2021-03-08T19:22:50.638112Z",
     "iopub.status.busy": "2021-03-08T19:22:50.637732Z",
     "iopub.status.idle": "2021-03-08T19:22:50.649105Z",
     "shell.execute_reply": "2021-03-08T19:22:50.648710Z"
    },
    "papermill": {
     "duration": 0.052319,
     "end_time": "2021-03-08T19:22:50.649199",
     "exception": false,
     "start_time": "2021-03-08T19:22:50.596880",
     "status": "completed"
    },
    "tags": []
   },
   "outputs": [],
   "source": [
    "# some testing\n",
    "_tmp = traits_sample_size_df.loc[\"100001_raw-Food_weight\"]\n",
    "assert _tmp.n == 51453\n",
    "assert pd.isnull(_tmp.n_cases)\n",
    "assert pd.isnull(_tmp.n_controls)\n",
    "\n",
    "_tmp = traits_sample_size_df.loc[\"estrogen-receptor negative breast cancer\"]\n",
    "assert _tmp.n == 120000\n",
    "assert _tmp.n_cases == 31000\n",
    "assert _tmp.n_controls == 89000\n",
    "\n",
    "_tmp = traits_sample_size_df.loc[\"eosinophil count\"]\n",
    "assert _tmp.n == 173480\n",
    "assert pd.isnull(_tmp.n_cases)\n",
    "assert pd.isnull(_tmp.n_controls)\n",
    "\n",
    "_tmp = traits_sample_size_df.loc[\"injury\"]\n",
    "assert _tmp.n == 3250693\n",
    "assert _tmp.n_cases == 4939\n",
    "assert _tmp.n_controls == 3245754\n",
    "\n",
    "_tmp = traits_sample_size_df.loc[\"asthma\"]\n",
    "assert _tmp.n == 814122\n",
    "assert _tmp.n_cases == 55344\n",
    "assert _tmp.n_controls == 758778"
   ]
  },
  {
   "cell_type": "markdown",
   "metadata": {
    "papermill": {
     "duration": 0.037959,
     "end_time": "2021-03-08T19:22:50.725600",
     "exception": false,
     "start_time": "2021-03-08T19:22:50.687641",
     "status": "completed"
    },
    "tags": []
   },
   "source": [
    "## Select representative traits"
   ]
  },
  {
   "cell_type": "markdown",
   "metadata": {
    "papermill": {
     "duration": 0.037753,
     "end_time": "2021-03-08T19:22:50.803266",
     "exception": false,
     "start_time": "2021-03-08T19:22:50.765513",
     "status": "completed"
    },
    "tags": []
   },
   "source": [
    "Here I select some representative traits for downstream analyses in this notebook. The idea is to pick some traits with different sample sizes, and then see what happens before and after a standardization approach."
   ]
  },
  {
   "cell_type": "code",
   "execution_count": 30,
   "metadata": {
    "execution": {
     "iopub.execute_input": "2021-03-08T19:22:50.879783Z",
     "iopub.status.busy": "2021-03-08T19:22:50.879422Z",
     "iopub.status.idle": "2021-03-08T19:22:50.895648Z",
     "shell.execute_reply": "2021-03-08T19:22:50.895936Z"
    },
    "papermill": {
     "duration": 0.055693,
     "end_time": "2021-03-08T19:22:50.896049",
     "exception": false,
     "start_time": "2021-03-08T19:22:50.840356",
     "status": "completed"
    },
    "tags": []
   },
   "outputs": [
    {
     "data": {
      "text/html": [
       "<div>\n",
       "<style scoped>\n",
       "    .dataframe tbody tr th:only-of-type {\n",
       "        vertical-align: middle;\n",
       "    }\n",
       "\n",
       "    .dataframe tbody tr th {\n",
       "        vertical-align: top;\n",
       "    }\n",
       "\n",
       "    .dataframe thead th {\n",
       "        text-align: right;\n",
       "    }\n",
       "</style>\n",
       "<table border=\"1\" class=\"dataframe\">\n",
       "  <thead>\n",
       "    <tr style=\"text-align: right;\">\n",
       "      <th></th>\n",
       "      <th>n</th>\n",
       "      <th>n_cases</th>\n",
       "      <th>n_controls</th>\n",
       "    </tr>\n",
       "    <tr>\n",
       "      <th>trait</th>\n",
       "      <th></th>\n",
       "      <th></th>\n",
       "      <th></th>\n",
       "    </tr>\n",
       "  </thead>\n",
       "  <tbody>\n",
       "    <tr>\n",
       "      <th>22174-Recent_medication_for_bronchiectasis</th>\n",
       "      <td>819</td>\n",
       "      <td>410.0</td>\n",
       "      <td>409.0</td>\n",
       "    </tr>\n",
       "    <tr>\n",
       "      <th>41218_2-History_of_psychiatric_care_on_admission_One_or_more_previous_psychiatric_episodes_with_another_Health_Care_Provider</th>\n",
       "      <td>835</td>\n",
       "      <td>135.0</td>\n",
       "      <td>700.0</td>\n",
       "    </tr>\n",
       "    <tr>\n",
       "      <th>20504-Ongoing_addiction_or_dependence_to_overthecounter_medication</th>\n",
       "      <td>977</td>\n",
       "      <td>420.0</td>\n",
       "      <td>557.0</td>\n",
       "    </tr>\n",
       "    <tr>\n",
       "      <th>22169-Recent_medication_for_chronic_bronchitis</th>\n",
       "      <td>1048</td>\n",
       "      <td>219.0</td>\n",
       "      <td>829.0</td>\n",
       "    </tr>\n",
       "    <tr>\n",
       "      <th>22170-Recent_medication_for_COPD_Chronic_Obstructive_Pulmonary_Disease</th>\n",
       "      <td>1357</td>\n",
       "      <td>991.0</td>\n",
       "      <td>366.0</td>\n",
       "    </tr>\n",
       "    <tr>\n",
       "      <th>...</th>\n",
       "      <td>...</td>\n",
       "      <td>...</td>\n",
       "      <td>...</td>\n",
       "    </tr>\n",
       "    <tr>\n",
       "      <th>skin disease</th>\n",
       "      <td>2167164</td>\n",
       "      <td>5935.0</td>\n",
       "      <td>2161229.0</td>\n",
       "    </tr>\n",
       "    <tr>\n",
       "      <th>checkup</th>\n",
       "      <td>2528358</td>\n",
       "      <td>13708.0</td>\n",
       "      <td>2514650.0</td>\n",
       "    </tr>\n",
       "    <tr>\n",
       "      <th>encounter with health service</th>\n",
       "      <td>2528358</td>\n",
       "      <td>9480.0</td>\n",
       "      <td>2518878.0</td>\n",
       "    </tr>\n",
       "    <tr>\n",
       "      <th>pregnancy disorder</th>\n",
       "      <td>2889552</td>\n",
       "      <td>6738.0</td>\n",
       "      <td>2882814.0</td>\n",
       "    </tr>\n",
       "    <tr>\n",
       "      <th>injury</th>\n",
       "      <td>3250693</td>\n",
       "      <td>4939.0</td>\n",
       "      <td>3245754.0</td>\n",
       "    </tr>\n",
       "  </tbody>\n",
       "</table>\n",
       "<p>3188 rows × 3 columns</p>\n",
       "</div>"
      ],
      "text/plain": [
       "                                                          n  n_cases  \\\n",
       "trait                                                                  \n",
       "22174-Recent_medication_for_bronchiectasis              819    410.0   \n",
       "41218_2-History_of_psychiatric_care_on_admissio...      835    135.0   \n",
       "20504-Ongoing_addiction_or_dependence_to_overth...      977    420.0   \n",
       "22169-Recent_medication_for_chronic_bronchitis         1048    219.0   \n",
       "22170-Recent_medication_for_COPD_Chronic_Obstru...     1357    991.0   \n",
       "...                                                     ...      ...   \n",
       "skin disease                                        2167164   5935.0   \n",
       "checkup                                             2528358  13708.0   \n",
       "encounter with health service                       2528358   9480.0   \n",
       "pregnancy disorder                                  2889552   6738.0   \n",
       "injury                                              3250693   4939.0   \n",
       "\n",
       "                                                    n_controls  \n",
       "trait                                                           \n",
       "22174-Recent_medication_for_bronchiectasis               409.0  \n",
       "41218_2-History_of_psychiatric_care_on_admissio...       700.0  \n",
       "20504-Ongoing_addiction_or_dependence_to_overth...       557.0  \n",
       "22169-Recent_medication_for_chronic_bronchitis           829.0  \n",
       "22170-Recent_medication_for_COPD_Chronic_Obstru...       366.0  \n",
       "...                                                        ...  \n",
       "skin disease                                         2161229.0  \n",
       "checkup                                              2514650.0  \n",
       "encounter with health service                        2518878.0  \n",
       "pregnancy disorder                                   2882814.0  \n",
       "injury                                               3245754.0  \n",
       "\n",
       "[3188 rows x 3 columns]"
      ]
     },
     "execution_count": 30,
     "metadata": {},
     "output_type": "execute_result"
    }
   ],
   "source": [
    "traits_sample_size_df.sort_values(\"n\").dropna()"
   ]
  },
  {
   "cell_type": "code",
   "execution_count": 31,
   "metadata": {
    "execution": {
     "iopub.execute_input": "2021-03-08T19:22:50.976900Z",
     "iopub.status.busy": "2021-03-08T19:22:50.976467Z",
     "iopub.status.idle": "2021-03-08T19:22:50.993130Z",
     "shell.execute_reply": "2021-03-08T19:22:50.993433Z"
    },
    "papermill": {
     "duration": 0.057566,
     "end_time": "2021-03-08T19:22:50.993542",
     "exception": false,
     "start_time": "2021-03-08T19:22:50.935976",
     "status": "completed"
    },
    "tags": []
   },
   "outputs": [
    {
     "data": {
      "text/html": [
       "<div>\n",
       "<style scoped>\n",
       "    .dataframe tbody tr th:only-of-type {\n",
       "        vertical-align: middle;\n",
       "    }\n",
       "\n",
       "    .dataframe tbody tr th {\n",
       "        vertical-align: top;\n",
       "    }\n",
       "\n",
       "    .dataframe thead th {\n",
       "        text-align: right;\n",
       "    }\n",
       "</style>\n",
       "<table border=\"1\" class=\"dataframe\">\n",
       "  <thead>\n",
       "    <tr style=\"text-align: right;\">\n",
       "      <th></th>\n",
       "      <th>n</th>\n",
       "      <th>n_cases</th>\n",
       "      <th>n_controls</th>\n",
       "    </tr>\n",
       "    <tr>\n",
       "      <th>trait</th>\n",
       "      <th></th>\n",
       "      <th></th>\n",
       "      <th></th>\n",
       "    </tr>\n",
       "  </thead>\n",
       "  <tbody>\n",
       "    <tr>\n",
       "      <th>abnormal foot morphology</th>\n",
       "      <td>361194</td>\n",
       "      <td>100.0</td>\n",
       "      <td>361094.0</td>\n",
       "    </tr>\n",
       "    <tr>\n",
       "      <th>22617_8124-Job_SOC_coding_Energy_plant_operatives</th>\n",
       "      <td>91149</td>\n",
       "      <td>101.0</td>\n",
       "      <td>91048.0</td>\n",
       "    </tr>\n",
       "    <tr>\n",
       "      <th>20003_1140879762-Treatmentmedication_code_celiprolol</th>\n",
       "      <td>361141</td>\n",
       "      <td>101.0</td>\n",
       "      <td>361040.0</td>\n",
       "    </tr>\n",
       "    <tr>\n",
       "      <th>22617_3213-Job_SOC_coding_Paramedics</th>\n",
       "      <td>91149</td>\n",
       "      <td>101.0</td>\n",
       "      <td>91048.0</td>\n",
       "    </tr>\n",
       "    <tr>\n",
       "      <th>bacterial sexually transmitted disease</th>\n",
       "      <td>361194</td>\n",
       "      <td>101.0</td>\n",
       "      <td>361093.0</td>\n",
       "    </tr>\n",
       "    <tr>\n",
       "      <th>...</th>\n",
       "      <td>...</td>\n",
       "      <td>...</td>\n",
       "      <td>...</td>\n",
       "    </tr>\n",
       "    <tr>\n",
       "      <th>2207-Wears_glasses_or_contact_lenses</th>\n",
       "      <td>360677</td>\n",
       "      <td>321768.0</td>\n",
       "      <td>38909.0</td>\n",
       "    </tr>\n",
       "    <tr>\n",
       "      <th>670_1-Type_of_accommodation_lived_in_A_house_or_bungalow</th>\n",
       "      <td>360088</td>\n",
       "      <td>326854.0</td>\n",
       "      <td>33234.0</td>\n",
       "    </tr>\n",
       "    <tr>\n",
       "      <th>2129-Answered_sexual_history_questions</th>\n",
       "      <td>361015</td>\n",
       "      <td>331404.0</td>\n",
       "      <td>29611.0</td>\n",
       "    </tr>\n",
       "    <tr>\n",
       "      <th>20117_2-Alcohol_drinker_status_Current</th>\n",
       "      <td>360726</td>\n",
       "      <td>336919.0</td>\n",
       "      <td>23807.0</td>\n",
       "    </tr>\n",
       "    <tr>\n",
       "      <th>6146_100-Attendancedisabilitymobility_allowance_None_of_the_above</th>\n",
       "      <td>358597</td>\n",
       "      <td>337879.0</td>\n",
       "      <td>20718.0</td>\n",
       "    </tr>\n",
       "  </tbody>\n",
       "</table>\n",
       "<p>3188 rows × 3 columns</p>\n",
       "</div>"
      ],
      "text/plain": [
       "                                                         n   n_cases  \\\n",
       "trait                                                                  \n",
       "abnormal foot morphology                            361194     100.0   \n",
       "22617_8124-Job_SOC_coding_Energy_plant_operatives    91149     101.0   \n",
       "20003_1140879762-Treatmentmedication_code_celip...  361141     101.0   \n",
       "22617_3213-Job_SOC_coding_Paramedics                 91149     101.0   \n",
       "bacterial sexually transmitted disease              361194     101.0   \n",
       "...                                                    ...       ...   \n",
       "2207-Wears_glasses_or_contact_lenses                360677  321768.0   \n",
       "670_1-Type_of_accommodation_lived_in_A_house_or...  360088  326854.0   \n",
       "2129-Answered_sexual_history_questions              361015  331404.0   \n",
       "20117_2-Alcohol_drinker_status_Current              360726  336919.0   \n",
       "6146_100-Attendancedisabilitymobility_allowance...  358597  337879.0   \n",
       "\n",
       "                                                    n_controls  \n",
       "trait                                                           \n",
       "abnormal foot morphology                              361094.0  \n",
       "22617_8124-Job_SOC_coding_Energy_plant_operatives      91048.0  \n",
       "20003_1140879762-Treatmentmedication_code_celip...    361040.0  \n",
       "22617_3213-Job_SOC_coding_Paramedics                   91048.0  \n",
       "bacterial sexually transmitted disease                361093.0  \n",
       "...                                                        ...  \n",
       "2207-Wears_glasses_or_contact_lenses                   38909.0  \n",
       "670_1-Type_of_accommodation_lived_in_A_house_or...     33234.0  \n",
       "2129-Answered_sexual_history_questions                 29611.0  \n",
       "20117_2-Alcohol_drinker_status_Current                 23807.0  \n",
       "6146_100-Attendancedisabilitymobility_allowance...     20718.0  \n",
       "\n",
       "[3188 rows x 3 columns]"
      ]
     },
     "execution_count": 31,
     "metadata": {},
     "output_type": "execute_result"
    }
   ],
   "source": [
    "traits_sample_size_df.sort_values(\"n_cases\").dropna()"
   ]
  },
  {
   "cell_type": "code",
   "execution_count": 32,
   "metadata": {
    "execution": {
     "iopub.execute_input": "2021-03-08T19:22:51.073832Z",
     "iopub.status.busy": "2021-03-08T19:22:51.073465Z",
     "iopub.status.idle": "2021-03-08T19:22:51.082993Z",
     "shell.execute_reply": "2021-03-08T19:22:51.082626Z"
    },
    "papermill": {
     "duration": 0.049777,
     "end_time": "2021-03-08T19:22:51.083080",
     "exception": false,
     "start_time": "2021-03-08T19:22:51.033303",
     "status": "completed"
    },
    "tags": []
   },
   "outputs": [],
   "source": [
    "traits_list = [\n",
    "    \"body height\",  # continuous, large n\n",
    "    \"asthma\",  # binary, large n and n_cases (meta-analyzed)\n",
    "    \"22174-Recent_medication_for_bronchiectasis\",  # lowest n\n",
    "    \"abnormal foot morphology\",  # lowest n_cases\n",
    "]"
   ]
  },
  {
   "cell_type": "markdown",
   "metadata": {
    "papermill": {
     "duration": 0.038272,
     "end_time": "2021-03-08T19:22:51.161064",
     "exception": false,
     "start_time": "2021-03-08T19:22:51.122792",
     "status": "completed"
    },
    "tags": []
   },
   "source": [
    "# Functions"
   ]
  },
  {
   "cell_type": "code",
   "execution_count": 33,
   "metadata": {
    "execution": {
     "iopub.execute_input": "2021-03-08T19:22:51.241372Z",
     "iopub.status.busy": "2021-03-08T19:22:51.240975Z",
     "iopub.status.idle": "2021-03-08T19:22:51.250720Z",
     "shell.execute_reply": "2021-03-08T19:22:51.250353Z"
    },
    "papermill": {
     "duration": 0.051199,
     "end_time": "2021-03-08T19:22:51.250807",
     "exception": false,
     "start_time": "2021-03-08T19:22:51.199608",
     "status": "completed"
    },
    "tags": []
   },
   "outputs": [],
   "source": [
    "def get_n(trait_name, simple=True):\n",
    "    \"\"\"\n",
    "    Given a trait name, it returns either the `sqrt(n)`, that is the total sample size (when simple=True),\n",
    "    or `(t.n_cases / t.n_controls) * np.sqrt(t.n)` (when simple=False).\n",
    "    \"\"\"\n",
    "    t = traits_sample_size_df.loc[trait_name]\n",
    "    if simple:\n",
    "        return np.sqrt(t.n)\n",
    "\n",
    "    if not pd.isnull(t.n_cases) and not pd.isnull(t.n_controls):\n",
    "        return (t.n_cases / t.n_controls) * np.sqrt(t.n)\n",
    "    else:\n",
    "        return np.sqrt(t.n)"
   ]
  },
  {
   "cell_type": "code",
   "execution_count": 34,
   "metadata": {
    "execution": {
     "iopub.execute_input": "2021-03-08T19:22:51.331038Z",
     "iopub.status.busy": "2021-03-08T19:22:51.330652Z",
     "iopub.status.idle": "2021-03-08T19:22:51.340630Z",
     "shell.execute_reply": "2021-03-08T19:22:51.340260Z"
    },
    "papermill": {
     "duration": 0.051434,
     "end_time": "2021-03-08T19:22:51.340751",
     "exception": false,
     "start_time": "2021-03-08T19:22:51.289317",
     "status": "completed"
    },
    "tags": []
   },
   "outputs": [],
   "source": [
    "def show_hist(trait_names, data):\n",
    "    \"\"\"\n",
    "    Shows a density plot (KDE) for a trait given a data version.\n",
    "    \"\"\"\n",
    "    _df = (\n",
    "        data[trait_names]\n",
    "        .stack()\n",
    "        .reset_index()\n",
    "        .rename(columns={\"level_1\": \"trait\", 0: \"z-score\"})\n",
    "    )\n",
    "    return sns.displot(_df, x=\"z-score\", hue=\"trait\", rug=False, kind=\"kde\")"
   ]
  },
  {
   "cell_type": "markdown",
   "metadata": {
    "papermill": {
     "duration": 0.039538,
     "end_time": "2021-03-08T19:22:51.420055",
     "exception": false,
     "start_time": "2021-03-08T19:22:51.380517",
     "status": "completed"
    },
    "tags": []
   },
   "source": [
    "# Approach \\#1: Standardize by GWAS sample size"
   ]
  },
  {
   "cell_type": "markdown",
   "metadata": {
    "papermill": {
     "duration": 0.038677,
     "end_time": "2021-03-08T19:22:51.497326",
     "exception": false,
     "start_time": "2021-03-08T19:22:51.458649",
     "status": "completed"
    },
    "tags": []
   },
   "source": [
    "For each trait (column), divide by $sqrt(n)$, where $n$ is the sample size in the GWAS for the trait."
   ]
  },
  {
   "cell_type": "markdown",
   "metadata": {
    "papermill": {
     "duration": 0.038154,
     "end_time": "2021-03-08T19:22:51.574020",
     "exception": false,
     "start_time": "2021-03-08T19:22:51.535866",
     "status": "completed"
    },
    "tags": []
   },
   "source": [
    "## Standardize"
   ]
  },
  {
   "cell_type": "code",
   "execution_count": 35,
   "metadata": {
    "execution": {
     "iopub.execute_input": "2021-03-08T19:22:51.653908Z",
     "iopub.status.busy": "2021-03-08T19:22:51.653535Z",
     "iopub.status.idle": "2021-03-08T19:22:53.658660Z",
     "shell.execute_reply": "2021-03-08T19:22:53.658173Z"
    },
    "papermill": {
     "duration": 2.046002,
     "end_time": "2021-03-08T19:22:53.658772",
     "exception": false,
     "start_time": "2021-03-08T19:22:51.612770",
     "status": "completed"
    },
    "tags": []
   },
   "outputs": [],
   "source": [
    "_tmp = smultixcan_results.apply(lambda x: x / get_n(x.name, simple=True))"
   ]
  },
  {
   "cell_type": "code",
   "execution_count": 36,
   "metadata": {
    "execution": {
     "iopub.execute_input": "2021-03-08T19:22:53.745887Z",
     "iopub.status.busy": "2021-03-08T19:22:53.745475Z",
     "iopub.status.idle": "2021-03-08T19:22:53.757362Z",
     "shell.execute_reply": "2021-03-08T19:22:53.757004Z"
    },
    "papermill": {
     "duration": 0.053848,
     "end_time": "2021-03-08T19:22:53.757471",
     "exception": false,
     "start_time": "2021-03-08T19:22:53.703623",
     "status": "completed"
    },
    "tags": []
   },
   "outputs": [
    {
     "data": {
      "text/plain": [
       "(22508, 3752)"
      ]
     },
     "execution_count": 36,
     "metadata": {},
     "output_type": "execute_result"
    }
   ],
   "source": [
    "_tmp.shape"
   ]
  },
  {
   "cell_type": "code",
   "execution_count": 37,
   "metadata": {
    "execution": {
     "iopub.execute_input": "2021-03-08T19:22:53.840351Z",
     "iopub.status.busy": "2021-03-08T19:22:53.839990Z",
     "iopub.status.idle": "2021-03-08T19:22:53.849478Z",
     "shell.execute_reply": "2021-03-08T19:22:53.849150Z"
    },
    "papermill": {
     "duration": 0.05091,
     "end_time": "2021-03-08T19:22:53.849568",
     "exception": false,
     "start_time": "2021-03-08T19:22:53.798658",
     "status": "completed"
    },
    "tags": []
   },
   "outputs": [],
   "source": [
    "assert _tmp.shape == smultixcan_results.shape"
   ]
  },
  {
   "cell_type": "code",
   "execution_count": 38,
   "metadata": {
    "execution": {
     "iopub.execute_input": "2021-03-08T19:22:53.930735Z",
     "iopub.status.busy": "2021-03-08T19:22:53.930370Z",
     "iopub.status.idle": "2021-03-08T19:22:53.952472Z",
     "shell.execute_reply": "2021-03-08T19:22:53.952098Z"
    },
    "papermill": {
     "duration": 0.063391,
     "end_time": "2021-03-08T19:22:53.952559",
     "exception": false,
     "start_time": "2021-03-08T19:22:53.889168",
     "status": "completed"
    },
    "tags": []
   },
   "outputs": [
    {
     "data": {
      "text/html": [
       "<div>\n",
       "<style scoped>\n",
       "    .dataframe tbody tr th:only-of-type {\n",
       "        vertical-align: middle;\n",
       "    }\n",
       "\n",
       "    .dataframe tbody tr th {\n",
       "        vertical-align: top;\n",
       "    }\n",
       "\n",
       "    .dataframe thead th {\n",
       "        text-align: right;\n",
       "    }\n",
       "</style>\n",
       "<table border=\"1\" class=\"dataframe\">\n",
       "  <thead>\n",
       "    <tr style=\"text-align: right;\">\n",
       "      <th></th>\n",
       "      <th>100001_raw-Food_weight</th>\n",
       "      <th>100002_raw-Energy</th>\n",
       "      <th>100003_raw-Protein</th>\n",
       "      <th>100004_raw-Fat</th>\n",
       "      <th>100005_raw-Carbohydrate</th>\n",
       "      <th>100006_raw-Saturated_fat</th>\n",
       "      <th>100007_raw-Polyunsaturated_fat</th>\n",
       "      <th>100008_raw-Total_sugars</th>\n",
       "      <th>100009_raw-Englyst_dietary_fibre</th>\n",
       "      <th>100010-Portion_size</th>\n",
       "      <th>...</th>\n",
       "      <th>visual impairment</th>\n",
       "      <th>vitiligo</th>\n",
       "      <th>vitreous body disease</th>\n",
       "      <th>vocal cord polyp</th>\n",
       "      <th>voice disorders</th>\n",
       "      <th>wellbeing measurement AND family relationship</th>\n",
       "      <th>wheezing</th>\n",
       "      <th>whooping cough</th>\n",
       "      <th>worry measurement</th>\n",
       "      <th>wrist fracture</th>\n",
       "    </tr>\n",
       "    <tr>\n",
       "      <th>gene_name</th>\n",
       "      <th></th>\n",
       "      <th></th>\n",
       "      <th></th>\n",
       "      <th></th>\n",
       "      <th></th>\n",
       "      <th></th>\n",
       "      <th></th>\n",
       "      <th></th>\n",
       "      <th></th>\n",
       "      <th></th>\n",
       "      <th></th>\n",
       "      <th></th>\n",
       "      <th></th>\n",
       "      <th></th>\n",
       "      <th></th>\n",
       "      <th></th>\n",
       "      <th></th>\n",
       "      <th></th>\n",
       "      <th></th>\n",
       "      <th></th>\n",
       "      <th></th>\n",
       "    </tr>\n",
       "  </thead>\n",
       "  <tbody>\n",
       "    <tr>\n",
       "      <th>DPM1</th>\n",
       "      <td>0.005050</td>\n",
       "      <td>0.003194</td>\n",
       "      <td>0.000401</td>\n",
       "      <td>0.001314</td>\n",
       "      <td>0.005001</td>\n",
       "      <td>0.006045</td>\n",
       "      <td>0.000290</td>\n",
       "      <td>0.003502</td>\n",
       "      <td>0.002647</td>\n",
       "      <td>0.001401</td>\n",
       "      <td>...</td>\n",
       "      <td>0.000600</td>\n",
       "      <td>0.002249</td>\n",
       "      <td>0.001926</td>\n",
       "      <td>0.001390</td>\n",
       "      <td>0.001952</td>\n",
       "      <td>0.003880</td>\n",
       "      <td>0.002929</td>\n",
       "      <td>0.001693</td>\n",
       "      <td>2.568834e-03</td>\n",
       "      <td>0.000934</td>\n",
       "    </tr>\n",
       "    <tr>\n",
       "      <th>SCYL3</th>\n",
       "      <td>0.002725</td>\n",
       "      <td>0.004533</td>\n",
       "      <td>0.009780</td>\n",
       "      <td>0.003362</td>\n",
       "      <td>0.004119</td>\n",
       "      <td>0.000851</td>\n",
       "      <td>0.004762</td>\n",
       "      <td>0.003377</td>\n",
       "      <td>0.001657</td>\n",
       "      <td>0.002993</td>\n",
       "      <td>...</td>\n",
       "      <td>0.003552</td>\n",
       "      <td>0.000213</td>\n",
       "      <td>0.000890</td>\n",
       "      <td>0.000201</td>\n",
       "      <td>0.000861</td>\n",
       "      <td>0.007384</td>\n",
       "      <td>0.001131</td>\n",
       "      <td>0.003333</td>\n",
       "      <td>5.843724e-04</td>\n",
       "      <td>0.001953</td>\n",
       "    </tr>\n",
       "    <tr>\n",
       "      <th>C1orf112</th>\n",
       "      <td>0.002274</td>\n",
       "      <td>0.001779</td>\n",
       "      <td>0.005517</td>\n",
       "      <td>0.001909</td>\n",
       "      <td>0.001823</td>\n",
       "      <td>0.001086</td>\n",
       "      <td>0.005450</td>\n",
       "      <td>0.003648</td>\n",
       "      <td>0.002522</td>\n",
       "      <td>0.003449</td>\n",
       "      <td>...</td>\n",
       "      <td>0.002943</td>\n",
       "      <td>0.001651</td>\n",
       "      <td>0.000912</td>\n",
       "      <td>0.000686</td>\n",
       "      <td>0.002495</td>\n",
       "      <td>0.003965</td>\n",
       "      <td>0.000745</td>\n",
       "      <td>0.000695</td>\n",
       "      <td>3.838072e-04</td>\n",
       "      <td>0.001550</td>\n",
       "    </tr>\n",
       "    <tr>\n",
       "      <th>FGR</th>\n",
       "      <td>0.001238</td>\n",
       "      <td>0.001119</td>\n",
       "      <td>0.003876</td>\n",
       "      <td>0.001555</td>\n",
       "      <td>0.000229</td>\n",
       "      <td>0.000812</td>\n",
       "      <td>0.000655</td>\n",
       "      <td>0.000044</td>\n",
       "      <td>0.001604</td>\n",
       "      <td>0.001651</td>\n",
       "      <td>...</td>\n",
       "      <td>0.001092</td>\n",
       "      <td>0.003405</td>\n",
       "      <td>0.004570</td>\n",
       "      <td>0.000180</td>\n",
       "      <td>0.001678</td>\n",
       "      <td>0.002192</td>\n",
       "      <td>0.001505</td>\n",
       "      <td>0.001456</td>\n",
       "      <td>8.092970e-04</td>\n",
       "      <td>0.001627</td>\n",
       "    </tr>\n",
       "    <tr>\n",
       "      <th>CFH</th>\n",
       "      <td>0.002416</td>\n",
       "      <td>0.001719</td>\n",
       "      <td>0.003189</td>\n",
       "      <td>0.005146</td>\n",
       "      <td>0.001393</td>\n",
       "      <td>0.001433</td>\n",
       "      <td>0.007115</td>\n",
       "      <td>0.001373</td>\n",
       "      <td>0.001470</td>\n",
       "      <td>0.007969</td>\n",
       "      <td>...</td>\n",
       "      <td>0.000433</td>\n",
       "      <td>0.001075</td>\n",
       "      <td>0.001797</td>\n",
       "      <td>0.001129</td>\n",
       "      <td>0.002438</td>\n",
       "      <td>0.000893</td>\n",
       "      <td>0.000199</td>\n",
       "      <td>0.002363</td>\n",
       "      <td>3.656034e-09</td>\n",
       "      <td>0.001000</td>\n",
       "    </tr>\n",
       "  </tbody>\n",
       "</table>\n",
       "<p>5 rows × 3752 columns</p>\n",
       "</div>"
      ],
      "text/plain": [
       "           100001_raw-Food_weight  100002_raw-Energy  100003_raw-Protein  \\\n",
       "gene_name                                                                  \n",
       "DPM1                     0.005050           0.003194            0.000401   \n",
       "SCYL3                    0.002725           0.004533            0.009780   \n",
       "C1orf112                 0.002274           0.001779            0.005517   \n",
       "FGR                      0.001238           0.001119            0.003876   \n",
       "CFH                      0.002416           0.001719            0.003189   \n",
       "\n",
       "           100004_raw-Fat  100005_raw-Carbohydrate  100006_raw-Saturated_fat  \\\n",
       "gene_name                                                                      \n",
       "DPM1             0.001314                 0.005001                  0.006045   \n",
       "SCYL3            0.003362                 0.004119                  0.000851   \n",
       "C1orf112         0.001909                 0.001823                  0.001086   \n",
       "FGR              0.001555                 0.000229                  0.000812   \n",
       "CFH              0.005146                 0.001393                  0.001433   \n",
       "\n",
       "           100007_raw-Polyunsaturated_fat  100008_raw-Total_sugars  \\\n",
       "gene_name                                                            \n",
       "DPM1                             0.000290                 0.003502   \n",
       "SCYL3                            0.004762                 0.003377   \n",
       "C1orf112                         0.005450                 0.003648   \n",
       "FGR                              0.000655                 0.000044   \n",
       "CFH                              0.007115                 0.001373   \n",
       "\n",
       "           100009_raw-Englyst_dietary_fibre  100010-Portion_size  ...  \\\n",
       "gene_name                                                         ...   \n",
       "DPM1                               0.002647             0.001401  ...   \n",
       "SCYL3                              0.001657             0.002993  ...   \n",
       "C1orf112                           0.002522             0.003449  ...   \n",
       "FGR                                0.001604             0.001651  ...   \n",
       "CFH                                0.001470             0.007969  ...   \n",
       "\n",
       "           visual impairment  vitiligo  vitreous body disease  \\\n",
       "gene_name                                                       \n",
       "DPM1                0.000600  0.002249               0.001926   \n",
       "SCYL3               0.003552  0.000213               0.000890   \n",
       "C1orf112            0.002943  0.001651               0.000912   \n",
       "FGR                 0.001092  0.003405               0.004570   \n",
       "CFH                 0.000433  0.001075               0.001797   \n",
       "\n",
       "           vocal cord polyp  voice disorders  \\\n",
       "gene_name                                      \n",
       "DPM1               0.001390         0.001952   \n",
       "SCYL3              0.000201         0.000861   \n",
       "C1orf112           0.000686         0.002495   \n",
       "FGR                0.000180         0.001678   \n",
       "CFH                0.001129         0.002438   \n",
       "\n",
       "           wellbeing measurement AND family relationship  wheezing  \\\n",
       "gene_name                                                            \n",
       "DPM1                                            0.003880  0.002929   \n",
       "SCYL3                                           0.007384  0.001131   \n",
       "C1orf112                                        0.003965  0.000745   \n",
       "FGR                                             0.002192  0.001505   \n",
       "CFH                                             0.000893  0.000199   \n",
       "\n",
       "           whooping cough  worry measurement  wrist fracture  \n",
       "gene_name                                                     \n",
       "DPM1             0.001693       2.568834e-03        0.000934  \n",
       "SCYL3            0.003333       5.843724e-04        0.001953  \n",
       "C1orf112         0.000695       3.838072e-04        0.001550  \n",
       "FGR              0.001456       8.092970e-04        0.001627  \n",
       "CFH              0.002363       3.656034e-09        0.001000  \n",
       "\n",
       "[5 rows x 3752 columns]"
      ]
     },
     "execution_count": 38,
     "metadata": {},
     "output_type": "execute_result"
    }
   ],
   "source": [
    "_tmp.head()"
   ]
  },
  {
   "cell_type": "code",
   "execution_count": 39,
   "metadata": {
    "execution": {
     "iopub.execute_input": "2021-03-08T19:22:54.034577Z",
     "iopub.status.busy": "2021-03-08T19:22:54.034196Z",
     "iopub.status.idle": "2021-03-08T19:22:54.044514Z",
     "shell.execute_reply": "2021-03-08T19:22:54.044201Z"
    },
    "papermill": {
     "duration": 0.052249,
     "end_time": "2021-03-08T19:22:54.044608",
     "exception": false,
     "start_time": "2021-03-08T19:22:53.992359",
     "status": "completed"
    },
    "tags": []
   },
   "outputs": [],
   "source": [
    "# some testing\n",
    "_trait = \"100001_raw-Food_weight\"\n",
    "_gene = \"DPM1\"\n",
    "assert _tmp.loc[_gene, _trait] == smultixcan_results.loc[_gene, _trait] / np.sqrt(51453)\n",
    "\n",
    "_trait = \"asthma\"\n",
    "_gene = \"C1orf112\"\n",
    "assert _tmp.loc[_gene, _trait] == smultixcan_results.loc[_gene, _trait] / np.sqrt(\n",
    "    814122\n",
    ")"
   ]
  },
  {
   "cell_type": "code",
   "execution_count": 40,
   "metadata": {
    "execution": {
     "iopub.execute_input": "2021-03-08T19:22:54.127744Z",
     "iopub.status.busy": "2021-03-08T19:22:54.127382Z",
     "iopub.status.idle": "2021-03-08T19:22:54.137198Z",
     "shell.execute_reply": "2021-03-08T19:22:54.136829Z"
    },
    "papermill": {
     "duration": 0.051708,
     "end_time": "2021-03-08T19:22:54.137284",
     "exception": false,
     "start_time": "2021-03-08T19:22:54.085576",
     "status": "completed"
    },
    "tags": []
   },
   "outputs": [],
   "source": [
    "smultixcan_results_std = _tmp"
   ]
  },
  {
   "cell_type": "markdown",
   "metadata": {
    "papermill": {
     "duration": 0.039881,
     "end_time": "2021-03-08T19:22:54.217472",
     "exception": false,
     "start_time": "2021-03-08T19:22:54.177591",
     "status": "completed"
    },
    "tags": []
   },
   "source": [
    "## Analyze distributions"
   ]
  },
  {
   "cell_type": "code",
   "execution_count": 41,
   "metadata": {
    "execution": {
     "iopub.execute_input": "2021-03-08T19:22:54.299787Z",
     "iopub.status.busy": "2021-03-08T19:22:54.299411Z",
     "iopub.status.idle": "2021-03-08T19:22:54.986987Z",
     "shell.execute_reply": "2021-03-08T19:22:54.986619Z"
    },
    "papermill": {
     "duration": 0.730084,
     "end_time": "2021-03-08T19:22:54.987075",
     "exception": false,
     "start_time": "2021-03-08T19:22:54.256991",
     "status": "completed"
    },
    "tags": []
   },
   "outputs": [
    {
     "data": {
      "text/plain": [
       "Text(0.5, 1.0, 'Original distribution')"
      ]
     },
     "execution_count": 41,
     "metadata": {},
     "output_type": "execute_result"
    },
    {
     "data": {
      "image/png": "[encoded data removed]",
      "text/plain": [
       "<Figure size 622.625x360 with 1 Axes>"
      ]
     },
     "metadata": {
      "needs_background": "light"
     },
     "output_type": "display_data"
    }
   ],
   "source": [
    "fg = show_hist(traits_list, data=smultixcan_results)\n",
    "ax = fg.axes[0, 0]\n",
    "ax.set_xlim(-1, 10)\n",
    "ax.set_title(\"Original distribution\")"
   ]
  },
  {
   "cell_type": "markdown",
   "metadata": {
    "papermill": {
     "duration": 0.040891,
     "end_time": "2021-03-08T19:22:55.069173",
     "exception": false,
     "start_time": "2021-03-08T19:22:55.028282",
     "status": "completed"
    },
    "tags": []
   },
   "source": [
    "In the original distribution, `body height` has a very long tail, and it has larger values on average than the rest.\n",
    "`asthma` is behind `body height`, and the other two traits (with very low sample size) are, as expected, closer to zero."
   ]
  },
  {
   "cell_type": "code",
   "execution_count": 42,
   "metadata": {
    "execution": {
     "iopub.execute_input": "2021-03-08T19:22:55.153478Z",
     "iopub.status.busy": "2021-03-08T19:22:55.153101Z",
     "iopub.status.idle": "2021-03-08T19:22:55.985042Z",
     "shell.execute_reply": "2021-03-08T19:22:55.984617Z"
    },
    "papermill": {
     "duration": 0.875437,
     "end_time": "2021-03-08T19:22:55.985132",
     "exception": false,
     "start_time": "2021-03-08T19:22:55.109695",
     "status": "completed"
    },
    "tags": []
   },
   "outputs": [
    {
     "data": {
      "text/plain": [
       "Text(0.5, 1.0, 'Standardized by $sqrt(n)$')"
      ]
     },
     "execution_count": 42,
     "metadata": {},
     "output_type": "execute_result"
    },
    {
     "data": {
      "image/png": "[encoded data removed]",
      "text/plain": [
       "<Figure size 622.625x360 with 1 Axes>"
      ]
     },
     "metadata": {
      "needs_background": "light"
     },
     "output_type": "display_data"
    }
   ],
   "source": [
    "fg = show_hist(traits_list, data=smultixcan_results_std)\n",
    "ax = fg.axes[0, 0]\n",
    "ax.set_xlim(-0.001, 0.025)\n",
    "ax.set_title(\"Standardized by $sqrt(n)$\")"
   ]
  },
  {
   "cell_type": "markdown",
   "metadata": {
    "papermill": {
     "duration": 0.041228,
     "end_time": "2021-03-08T19:22:56.068056",
     "exception": false,
     "start_time": "2021-03-08T19:22:56.026828",
     "status": "completed"
    },
    "tags": []
   },
   "source": [
    "This standardization approach make `asthma` closer to one of the low-sample-sized traits, height is still \"highly polygenic\", and the weirdest thing is that very low sample size trait `recent medication...` has now very large values compared with the others.\n",
    "\n",
    "This won't work."
   ]
  },
  {
   "cell_type": "markdown",
   "metadata": {
    "papermill": {
     "duration": 0.041393,
     "end_time": "2021-03-08T19:22:56.151079",
     "exception": false,
     "start_time": "2021-03-08T19:22:56.109686",
     "status": "completed"
    },
    "tags": []
   },
   "source": [
    "## Projection"
   ]
  },
  {
   "cell_type": "markdown",
   "metadata": {
    "papermill": {
     "duration": 0.041334,
     "end_time": "2021-03-08T19:22:56.234469",
     "exception": false,
     "start_time": "2021-03-08T19:22:56.193135",
     "status": "completed"
    },
    "tags": []
   },
   "source": [
    "Here I use the standardized data and project it into the latent space, and I see what happens with well-known LVs: LV603 (related to neutrophils and white blood cells) and LV136 (cardiovascular traits and keratometry measurements)."
   ]
  },
  {
   "cell_type": "code",
   "execution_count": 43,
   "metadata": {
    "execution": {
     "iopub.execute_input": "2021-03-08T19:22:56.320745Z",
     "iopub.status.busy": "2021-03-08T19:22:56.320339Z",
     "iopub.status.idle": "2021-03-08T19:22:56.330047Z",
     "shell.execute_reply": "2021-03-08T19:22:56.329676Z"
    },
    "papermill": {
     "duration": 0.053751,
     "end_time": "2021-03-08T19:22:56.330135",
     "exception": false,
     "start_time": "2021-03-08T19:22:56.276384",
     "status": "completed"
    },
    "tags": []
   },
   "outputs": [],
   "source": [
    "mproj = MultiplierProjection()"
   ]
  },
  {
   "cell_type": "code",
   "execution_count": 44,
   "metadata": {
    "execution": {
     "iopub.execute_input": "2021-03-08T19:22:56.416371Z",
     "iopub.status.busy": "2021-03-08T19:22:56.416012Z",
     "iopub.status.idle": "2021-03-08T19:22:59.185520Z",
     "shell.execute_reply": "2021-03-08T19:22:59.185838Z"
    },
    "papermill": {
     "duration": 2.814291,
     "end_time": "2021-03-08T19:22:59.185953",
     "exception": false,
     "start_time": "2021-03-08T19:22:56.371662",
     "status": "completed"
    },
    "tags": []
   },
   "outputs": [],
   "source": [
    "smultixcan_into_multiplier = mproj.transform(smultixcan_results_std)"
   ]
  },
  {
   "cell_type": "code",
   "execution_count": 45,
   "metadata": {
    "execution": {
     "iopub.execute_input": "2021-03-08T19:22:59.277910Z",
     "iopub.status.busy": "2021-03-08T19:22:59.277535Z",
     "iopub.status.idle": "2021-03-08T19:22:59.288268Z",
     "shell.execute_reply": "2021-03-08T19:22:59.287890Z"
    },
    "papermill": {
     "duration": 0.057038,
     "end_time": "2021-03-08T19:22:59.288357",
     "exception": false,
     "start_time": "2021-03-08T19:22:59.231319",
     "status": "completed"
    },
    "tags": []
   },
   "outputs": [
    {
     "data": {
      "text/plain": [
       "(987, 3752)"
      ]
     },
     "execution_count": 45,
     "metadata": {},
     "output_type": "execute_result"
    }
   ],
   "source": [
    "smultixcan_into_multiplier.shape"
   ]
  },
  {
   "cell_type": "code",
   "execution_count": 46,
   "metadata": {
    "execution": {
     "iopub.execute_input": "2021-03-08T19:22:59.375443Z",
     "iopub.status.busy": "2021-03-08T19:22:59.375023Z",
     "iopub.status.idle": "2021-03-08T19:22:59.397396Z",
     "shell.execute_reply": "2021-03-08T19:22:59.397016Z"
    },
    "papermill": {
     "duration": 0.066292,
     "end_time": "2021-03-08T19:22:59.397488",
     "exception": false,
     "start_time": "2021-03-08T19:22:59.331196",
     "status": "completed"
    },
    "tags": []
   },
   "outputs": [
    {
     "data": {
      "text/html": [
       "<div>\n",
       "<style scoped>\n",
       "    .dataframe tbody tr th:only-of-type {\n",
       "        vertical-align: middle;\n",
       "    }\n",
       "\n",
       "    .dataframe tbody tr th {\n",
       "        vertical-align: top;\n",
       "    }\n",
       "\n",
       "    .dataframe thead th {\n",
       "        text-align: right;\n",
       "    }\n",
       "</style>\n",
       "<table border=\"1\" class=\"dataframe\">\n",
       "  <thead>\n",
       "    <tr style=\"text-align: right;\">\n",
       "      <th></th>\n",
       "      <th>100001_raw-Food_weight</th>\n",
       "      <th>100002_raw-Energy</th>\n",
       "      <th>100003_raw-Protein</th>\n",
       "      <th>100004_raw-Fat</th>\n",
       "      <th>100005_raw-Carbohydrate</th>\n",
       "      <th>100006_raw-Saturated_fat</th>\n",
       "      <th>100007_raw-Polyunsaturated_fat</th>\n",
       "      <th>100008_raw-Total_sugars</th>\n",
       "      <th>100009_raw-Englyst_dietary_fibre</th>\n",
       "      <th>100010-Portion_size</th>\n",
       "      <th>...</th>\n",
       "      <th>visual impairment</th>\n",
       "      <th>vitiligo</th>\n",
       "      <th>vitreous body disease</th>\n",
       "      <th>vocal cord polyp</th>\n",
       "      <th>voice disorders</th>\n",
       "      <th>wellbeing measurement AND family relationship</th>\n",
       "      <th>wheezing</th>\n",
       "      <th>whooping cough</th>\n",
       "      <th>worry measurement</th>\n",
       "      <th>wrist fracture</th>\n",
       "    </tr>\n",
       "  </thead>\n",
       "  <tbody>\n",
       "    <tr>\n",
       "      <th>LV1</th>\n",
       "      <td>0.000205</td>\n",
       "      <td>-0.020544</td>\n",
       "      <td>0.003031</td>\n",
       "      <td>-0.005271</td>\n",
       "      <td>0.003419</td>\n",
       "      <td>0.012647</td>\n",
       "      <td>0.006661</td>\n",
       "      <td>0.007055</td>\n",
       "      <td>-0.020779</td>\n",
       "      <td>-0.009888</td>\n",
       "      <td>...</td>\n",
       "      <td>-0.017031</td>\n",
       "      <td>-0.016621</td>\n",
       "      <td>-0.017459</td>\n",
       "      <td>-0.018140</td>\n",
       "      <td>-0.011245</td>\n",
       "      <td>-0.007523</td>\n",
       "      <td>-0.012872</td>\n",
       "      <td>-0.014282</td>\n",
       "      <td>0.000321</td>\n",
       "      <td>-0.013952</td>\n",
       "    </tr>\n",
       "    <tr>\n",
       "      <th>LV2</th>\n",
       "      <td>0.064111</td>\n",
       "      <td>0.013636</td>\n",
       "      <td>-0.006404</td>\n",
       "      <td>-0.022587</td>\n",
       "      <td>0.027137</td>\n",
       "      <td>-0.023493</td>\n",
       "      <td>-0.007186</td>\n",
       "      <td>0.033194</td>\n",
       "      <td>-0.002331</td>\n",
       "      <td>0.024981</td>\n",
       "      <td>...</td>\n",
       "      <td>-0.024857</td>\n",
       "      <td>-0.025876</td>\n",
       "      <td>-0.009527</td>\n",
       "      <td>-0.013400</td>\n",
       "      <td>-0.019821</td>\n",
       "      <td>0.030961</td>\n",
       "      <td>-0.001649</td>\n",
       "      <td>-0.026390</td>\n",
       "      <td>-0.017323</td>\n",
       "      <td>-0.017033</td>\n",
       "    </tr>\n",
       "    <tr>\n",
       "      <th>LV3</th>\n",
       "      <td>0.030777</td>\n",
       "      <td>0.027502</td>\n",
       "      <td>0.045722</td>\n",
       "      <td>0.035934</td>\n",
       "      <td>0.033606</td>\n",
       "      <td>0.034044</td>\n",
       "      <td>0.031549</td>\n",
       "      <td>0.025054</td>\n",
       "      <td>0.009962</td>\n",
       "      <td>0.016061</td>\n",
       "      <td>...</td>\n",
       "      <td>-0.020529</td>\n",
       "      <td>-0.029994</td>\n",
       "      <td>-0.027335</td>\n",
       "      <td>-0.037370</td>\n",
       "      <td>-0.018280</td>\n",
       "      <td>0.009186</td>\n",
       "      <td>-0.001381</td>\n",
       "      <td>-0.012048</td>\n",
       "      <td>0.010488</td>\n",
       "      <td>-0.029618</td>\n",
       "    </tr>\n",
       "    <tr>\n",
       "      <th>LV4</th>\n",
       "      <td>0.028846</td>\n",
       "      <td>0.001286</td>\n",
       "      <td>0.007168</td>\n",
       "      <td>-0.026319</td>\n",
       "      <td>0.007073</td>\n",
       "      <td>-0.026489</td>\n",
       "      <td>-0.032254</td>\n",
       "      <td>0.016995</td>\n",
       "      <td>0.006577</td>\n",
       "      <td>0.000971</td>\n",
       "      <td>...</td>\n",
       "      <td>-0.012688</td>\n",
       "      <td>-0.003925</td>\n",
       "      <td>-0.021440</td>\n",
       "      <td>-0.016101</td>\n",
       "      <td>-0.019641</td>\n",
       "      <td>0.027819</td>\n",
       "      <td>0.001020</td>\n",
       "      <td>-0.021898</td>\n",
       "      <td>-0.010898</td>\n",
       "      <td>-0.001542</td>\n",
       "    </tr>\n",
       "    <tr>\n",
       "      <th>LV5</th>\n",
       "      <td>-0.000309</td>\n",
       "      <td>0.022682</td>\n",
       "      <td>0.027556</td>\n",
       "      <td>0.022262</td>\n",
       "      <td>0.015454</td>\n",
       "      <td>0.044702</td>\n",
       "      <td>-0.008850</td>\n",
       "      <td>0.013707</td>\n",
       "      <td>0.043701</td>\n",
       "      <td>0.021219</td>\n",
       "      <td>...</td>\n",
       "      <td>-0.003040</td>\n",
       "      <td>-0.019058</td>\n",
       "      <td>-0.007593</td>\n",
       "      <td>-0.013539</td>\n",
       "      <td>-0.006958</td>\n",
       "      <td>-0.007479</td>\n",
       "      <td>-0.019330</td>\n",
       "      <td>-0.013012</td>\n",
       "      <td>-0.020364</td>\n",
       "      <td>-0.008273</td>\n",
       "    </tr>\n",
       "  </tbody>\n",
       "</table>\n",
       "<p>5 rows × 3752 columns</p>\n",
       "</div>"
      ],
      "text/plain": [
       "     100001_raw-Food_weight  100002_raw-Energy  100003_raw-Protein  \\\n",
       "LV1                0.000205          -0.020544            0.003031   \n",
       "LV2                0.064111           0.013636           -0.006404   \n",
       "LV3                0.030777           0.027502            0.045722   \n",
       "LV4                0.028846           0.001286            0.007168   \n",
       "LV5               -0.000309           0.022682            0.027556   \n",
       "\n",
       "     100004_raw-Fat  100005_raw-Carbohydrate  100006_raw-Saturated_fat  \\\n",
       "LV1       -0.005271                 0.003419                  0.012647   \n",
       "LV2       -0.022587                 0.027137                 -0.023493   \n",
       "LV3        0.035934                 0.033606                  0.034044   \n",
       "LV4       -0.026319                 0.007073                 -0.026489   \n",
       "LV5        0.022262                 0.015454                  0.044702   \n",
       "\n",
       "     100007_raw-Polyunsaturated_fat  100008_raw-Total_sugars  \\\n",
       "LV1                        0.006661                 0.007055   \n",
       "LV2                       -0.007186                 0.033194   \n",
       "LV3                        0.031549                 0.025054   \n",
       "LV4                       -0.032254                 0.016995   \n",
       "LV5                       -0.008850                 0.013707   \n",
       "\n",
       "     100009_raw-Englyst_dietary_fibre  100010-Portion_size  ...  \\\n",
       "LV1                         -0.020779            -0.009888  ...   \n",
       "LV2                         -0.002331             0.024981  ...   \n",
       "LV3                          0.009962             0.016061  ...   \n",
       "LV4                          0.006577             0.000971  ...   \n",
       "LV5                          0.043701             0.021219  ...   \n",
       "\n",
       "     visual impairment  vitiligo  vitreous body disease  vocal cord polyp  \\\n",
       "LV1          -0.017031 -0.016621              -0.017459         -0.018140   \n",
       "LV2          -0.024857 -0.025876              -0.009527         -0.013400   \n",
       "LV3          -0.020529 -0.029994              -0.027335         -0.037370   \n",
       "LV4          -0.012688 -0.003925              -0.021440         -0.016101   \n",
       "LV5          -0.003040 -0.019058              -0.007593         -0.013539   \n",
       "\n",
       "     voice disorders  wellbeing measurement AND family relationship  wheezing  \\\n",
       "LV1        -0.011245                                      -0.007523 -0.012872   \n",
       "LV2        -0.019821                                       0.030961 -0.001649   \n",
       "LV3        -0.018280                                       0.009186 -0.001381   \n",
       "LV4        -0.019641                                       0.027819  0.001020   \n",
       "LV5        -0.006958                                      -0.007479 -0.019330   \n",
       "\n",
       "     whooping cough  worry measurement  wrist fracture  \n",
       "LV1       -0.014282           0.000321       -0.013952  \n",
       "LV2       -0.026390          -0.017323       -0.017033  \n",
       "LV3       -0.012048           0.010488       -0.029618  \n",
       "LV4       -0.021898          -0.010898       -0.001542  \n",
       "LV5       -0.013012          -0.020364       -0.008273  \n",
       "\n",
       "[5 rows x 3752 columns]"
      ]
     },
     "execution_count": 46,
     "metadata": {},
     "output_type": "execute_result"
    }
   ],
   "source": [
    "smultixcan_into_multiplier.head()"
   ]
  },
  {
   "cell_type": "code",
   "execution_count": 47,
   "metadata": {
    "execution": {
     "iopub.execute_input": "2021-03-08T19:22:59.485092Z",
     "iopub.status.busy": "2021-03-08T19:22:59.484663Z",
     "iopub.status.idle": "2021-03-08T19:22:59.496885Z",
     "shell.execute_reply": "2021-03-08T19:22:59.496474Z"
    },
    "papermill": {
     "duration": 0.056341,
     "end_time": "2021-03-08T19:22:59.496975",
     "exception": false,
     "start_time": "2021-03-08T19:22:59.440634",
     "status": "completed"
    },
    "tags": []
   },
   "outputs": [
    {
     "data": {
      "text/plain": [
       "22169-Recent_medication_for_chronic_bronchitis                                                                                  0.758426\n",
       "41218_2-History_of_psychiatric_care_on_admission_One_or_more_previous_psychiatric_episodes_with_another_Health_Care_Provider    0.586444\n",
       "22174-Recent_medication_for_bronchiectasis                                                                                      0.583021\n",
       "20432-Ongoing_behavioural_or_miscellanous_addiction                                                                             0.529347\n",
       "41218_1-History_of_psychiatric_care_on_admission_One_or_more_previous_psychiatric_episodes_with_this_Health_Care_Provider       0.523809\n",
       "22170-Recent_medication_for_COPD_Chronic_Obstructive_Pulmonary_Disease                                                          0.495239\n",
       "20114_1-Illnesses_of_adopted_siblings_Heart_disease                                                                             0.459041\n",
       "20504-Ongoing_addiction_or_dependence_to_overthecounter_medication                                                              0.417803\n",
       "20112_4-Illnesses_of_adopted_father_Bowel_cancer                                                                                0.411598\n",
       "20112_6-Illnesses_of_adopted_father_Chronic_bronchitisemphysema                                                                 0.398679\n",
       "20114_8-Illnesses_of_adopted_siblings_High_blood_pressure                                                                       0.384562\n",
       "41220_3-Anaesthetics_administered_post_delivery_Spinal_anaesthetic                                                              0.381081\n",
       "20114_12-Illnesses_of_adopted_siblings_Severe_depression                                                                        0.366357\n",
       "20112_101-Illnesses_of_adopted_father_None_of_the_above_group_2                                                                 0.366100\n",
       "20113_101-Illnesses_of_adopted_mother_None_of_the_above_group_2                                                                 0.359022\n",
       "41219_2-Anaesthetics_administered_during_delivery_Epidural_or_caudal_anaesthetic                                                0.348718\n",
       "20112_10-Illnesses_of_adopted_father_Alzheimers_diseasedementia                                                                 0.338604\n",
       "20415-Ongoing_addiction_to_alcohol                                                                                              0.330810\n",
       "41220_2-Anaesthetics_administered_post_delivery_Epidural_or_caudal_anaesthetic                                                  0.329177\n",
       "20482-Number_of_times_selfharmed                                                                                                0.320076\n",
       "Name: LV603, dtype: float64"
      ]
     },
     "metadata": {},
     "output_type": "display_data"
    }
   ],
   "source": [
    "_tmp = smultixcan_into_multiplier.loc[\"LV603\"].sort_values(ascending=False).head(20)\n",
    "display(_tmp)"
   ]
  },
  {
   "cell_type": "code",
   "execution_count": 48,
   "metadata": {
    "execution": {
     "iopub.execute_input": "2021-03-08T19:22:59.586354Z",
     "iopub.status.busy": "2021-03-08T19:22:59.585994Z",
     "iopub.status.idle": "2021-03-08T19:22:59.597530Z",
     "shell.execute_reply": "2021-03-08T19:22:59.597157Z"
    },
    "papermill": {
     "duration": 0.056394,
     "end_time": "2021-03-08T19:22:59.597618",
     "exception": false,
     "start_time": "2021-03-08T19:22:59.541224",
     "status": "completed"
    },
    "tags": []
   },
   "outputs": [
    {
     "data": {
      "text/plain": [
       "n             1048.0\n",
       "n_cases        219.0\n",
       "n_controls     829.0\n",
       "Name: 22169-Recent_medication_for_chronic_bronchitis, dtype: float64"
      ]
     },
     "execution_count": 48,
     "metadata": {},
     "output_type": "execute_result"
    }
   ],
   "source": [
    "traits_sample_size_df.loc[_tmp.index[0]]"
   ]
  },
  {
   "cell_type": "code",
   "execution_count": 49,
   "metadata": {
    "execution": {
     "iopub.execute_input": "2021-03-08T19:22:59.687172Z",
     "iopub.status.busy": "2021-03-08T19:22:59.686809Z",
     "iopub.status.idle": "2021-03-08T19:22:59.699672Z",
     "shell.execute_reply": "2021-03-08T19:22:59.699304Z"
    },
    "papermill": {
     "duration": 0.057929,
     "end_time": "2021-03-08T19:22:59.699759",
     "exception": false,
     "start_time": "2021-03-08T19:22:59.641830",
     "status": "completed"
    },
    "tags": []
   },
   "outputs": [
    {
     "data": {
      "text/plain": [
       "41218_2-History_of_psychiatric_care_on_admission_One_or_more_previous_psychiatric_episodes_with_another_Health_Care_Provider    0.519451\n",
       "41220_3-Anaesthetics_administered_post_delivery_Spinal_anaesthetic                                                              0.462763\n",
       "22169-Recent_medication_for_chronic_bronchitis                                                                                  0.437080\n",
       "20432-Ongoing_behavioural_or_miscellanous_addiction                                                                             0.407840\n",
       "22170-Recent_medication_for_COPD_Chronic_Obstructive_Pulmonary_Disease                                                          0.313396\n",
       "5959-Previously_smoked_cigarettes_on_mostall_days                                                                               0.306376\n",
       "41218_1-History_of_psychiatric_care_on_admission_One_or_more_previous_psychiatric_episodes_with_this_Health_Care_Provider       0.300521\n",
       "20113_3-Illnesses_of_adopted_mother_Lung_cancer                                                                                 0.300440\n",
       "41219_1-Anaesthetics_administered_during_delivery_General_anaesthetic                                                           0.299338\n",
       "20114_1-Illnesses_of_adopted_siblings_Heart_disease                                                                             0.279478\n",
       "20113_10-Illnesses_of_adopted_mother_Alzheimers_diseasedementia                                                                 0.262135\n",
       "20114_8-Illnesses_of_adopted_siblings_High_blood_pressure                                                                       0.257174\n",
       "20504-Ongoing_addiction_or_dependence_to_overthecounter_medication                                                              0.236137\n",
       "20112_2-Illnesses_of_adopted_father_Stroke                                                                                      0.232673\n",
       "20114_9-Illnesses_of_adopted_siblings_Diabetes                                                                                  0.221116\n",
       "40001_I259-Underlying_primary_cause_of_death_ICD10_I259_Chronic_ischaemic_heart_disease_unspecified                             0.216558\n",
       "4700_raw-Age_cataract_diagnosed                                                                                                 0.215728\n",
       "41220_1-Anaesthetics_administered_post_delivery_General_anaesthetic                                                             0.214106\n",
       "41220_2-Anaesthetics_administered_post_delivery_Epidural_or_caudal_anaesthetic                                                  0.213666\n",
       "20113_1-Illnesses_of_adopted_mother_Heart_disease                                                                               0.200798\n",
       "Name: LV136, dtype: float64"
      ]
     },
     "metadata": {},
     "output_type": "display_data"
    }
   ],
   "source": [
    "_tmp = smultixcan_into_multiplier.loc[\"LV136\"].sort_values(ascending=False).head(20)\n",
    "display(_tmp)"
   ]
  },
  {
   "cell_type": "code",
   "execution_count": 50,
   "metadata": {
    "execution": {
     "iopub.execute_input": "2021-03-08T19:22:59.791240Z",
     "iopub.status.busy": "2021-03-08T19:22:59.790865Z",
     "iopub.status.idle": "2021-03-08T19:22:59.802389Z",
     "shell.execute_reply": "2021-03-08T19:22:59.802673Z"
    },
    "papermill": {
     "duration": 0.059674,
     "end_time": "2021-03-08T19:22:59.802784",
     "exception": false,
     "start_time": "2021-03-08T19:22:59.743110",
     "status": "completed"
    },
    "tags": []
   },
   "outputs": [
    {
     "data": {
      "text/plain": [
       "n             835.0\n",
       "n_cases       135.0\n",
       "n_controls    700.0\n",
       "Name: 41218_2-History_of_psychiatric_care_on_admission_One_or_more_previous_psychiatric_episodes_with_another_Health_Care_Provider, dtype: float64"
      ]
     },
     "execution_count": 50,
     "metadata": {},
     "output_type": "execute_result"
    }
   ],
   "source": [
    "traits_sample_size_df.loc[_tmp.index[0]]"
   ]
  },
  {
   "cell_type": "markdown",
   "metadata": {
    "papermill": {
     "duration": 0.043451,
     "end_time": "2021-03-08T19:22:59.891665",
     "exception": false,
     "start_time": "2021-03-08T19:22:59.848214",
     "status": "completed"
    },
    "tags": []
   },
   "source": [
    "**Conclusion:** as anticipated, this standardization approach breaks expected relationships, and makes low sample size traits to be at the top, presenting random associations."
   ]
  },
  {
   "cell_type": "markdown",
   "metadata": {
    "papermill": {
     "duration": 0.043922,
     "end_time": "2021-03-08T19:22:59.979531",
     "exception": false,
     "start_time": "2021-03-08T19:22:59.935609",
     "status": "completed"
    },
    "tags": []
   },
   "source": [
    "# Approach \\#2: Standardize by GWAS sample size considering n_cases and n_controls"
   ]
  },
  {
   "cell_type": "markdown",
   "metadata": {
    "papermill": {
     "duration": 0.043395,
     "end_time": "2021-03-08T19:23:00.067774",
     "exception": false,
     "start_time": "2021-03-08T19:23:00.024379",
     "status": "completed"
    },
    "tags": []
   },
   "source": [
    "Here I take into account the ratio `n_cases / n_controls` (in binary traits) in the standardization, by doing: `(n_cases / n_controls) * sqrt(n)`"
   ]
  },
  {
   "cell_type": "markdown",
   "metadata": {
    "papermill": {
     "duration": 0.043088,
     "end_time": "2021-03-08T19:23:00.154531",
     "exception": false,
     "start_time": "2021-03-08T19:23:00.111443",
     "status": "completed"
    },
    "tags": []
   },
   "source": [
    "## Standardize"
   ]
  },
  {
   "cell_type": "code",
   "execution_count": 51,
   "metadata": {
    "execution": {
     "iopub.execute_input": "2021-03-08T19:23:00.243697Z",
     "iopub.status.busy": "2021-03-08T19:23:00.243320Z",
     "iopub.status.idle": "2021-03-08T19:23:02.420033Z",
     "shell.execute_reply": "2021-03-08T19:23:02.419546Z"
    },
    "papermill": {
     "duration": 2.222301,
     "end_time": "2021-03-08T19:23:02.420143",
     "exception": false,
     "start_time": "2021-03-08T19:23:00.197842",
     "status": "completed"
    },
    "tags": []
   },
   "outputs": [],
   "source": [
    "_tmp = smultixcan_results.apply(lambda x: x / get_n(x.name, simple=False))"
   ]
  },
  {
   "cell_type": "code",
   "execution_count": 52,
   "metadata": {
    "execution": {
     "iopub.execute_input": "2021-03-08T19:23:02.515408Z",
     "iopub.status.busy": "2021-03-08T19:23:02.515049Z",
     "iopub.status.idle": "2021-03-08T19:23:02.525349Z",
     "shell.execute_reply": "2021-03-08T19:23:02.525009Z"
    },
    "papermill": {
     "duration": 0.055877,
     "end_time": "2021-03-08T19:23:02.525437",
     "exception": false,
     "start_time": "2021-03-08T19:23:02.469560",
     "status": "completed"
    },
    "tags": []
   },
   "outputs": [
    {
     "data": {
      "text/plain": [
       "(22508, 3752)"
      ]
     },
     "execution_count": 52,
     "metadata": {},
     "output_type": "execute_result"
    }
   ],
   "source": [
    "_tmp.shape"
   ]
  },
  {
   "cell_type": "code",
   "execution_count": 53,
   "metadata": {
    "execution": {
     "iopub.execute_input": "2021-03-08T19:23:02.615518Z",
     "iopub.status.busy": "2021-03-08T19:23:02.615153Z",
     "iopub.status.idle": "2021-03-08T19:23:02.624586Z",
     "shell.execute_reply": "2021-03-08T19:23:02.624255Z"
    },
    "papermill": {
     "duration": 0.05533,
     "end_time": "2021-03-08T19:23:02.624676",
     "exception": false,
     "start_time": "2021-03-08T19:23:02.569346",
     "status": "completed"
    },
    "tags": []
   },
   "outputs": [],
   "source": [
    "assert _tmp.shape == smultixcan_results.shape"
   ]
  },
  {
   "cell_type": "code",
   "execution_count": 54,
   "metadata": {
    "execution": {
     "iopub.execute_input": "2021-03-08T19:23:02.714524Z",
     "iopub.status.busy": "2021-03-08T19:23:02.714165Z",
     "iopub.status.idle": "2021-03-08T19:23:02.736307Z",
     "shell.execute_reply": "2021-03-08T19:23:02.735991Z"
    },
    "papermill": {
     "duration": 0.067573,
     "end_time": "2021-03-08T19:23:02.736395",
     "exception": false,
     "start_time": "2021-03-08T19:23:02.668822",
     "status": "completed"
    },
    "tags": []
   },
   "outputs": [
    {
     "data": {
      "text/html": [
       "<div>\n",
       "<style scoped>\n",
       "    .dataframe tbody tr th:only-of-type {\n",
       "        vertical-align: middle;\n",
       "    }\n",
       "\n",
       "    .dataframe tbody tr th {\n",
       "        vertical-align: top;\n",
       "    }\n",
       "\n",
       "    .dataframe thead th {\n",
       "        text-align: right;\n",
       "    }\n",
       "</style>\n",
       "<table border=\"1\" class=\"dataframe\">\n",
       "  <thead>\n",
       "    <tr style=\"text-align: right;\">\n",
       "      <th></th>\n",
       "      <th>100001_raw-Food_weight</th>\n",
       "      <th>100002_raw-Energy</th>\n",
       "      <th>100003_raw-Protein</th>\n",
       "      <th>100004_raw-Fat</th>\n",
       "      <th>100005_raw-Carbohydrate</th>\n",
       "      <th>100006_raw-Saturated_fat</th>\n",
       "      <th>100007_raw-Polyunsaturated_fat</th>\n",
       "      <th>100008_raw-Total_sugars</th>\n",
       "      <th>100009_raw-Englyst_dietary_fibre</th>\n",
       "      <th>100010-Portion_size</th>\n",
       "      <th>...</th>\n",
       "      <th>visual impairment</th>\n",
       "      <th>vitiligo</th>\n",
       "      <th>vitreous body disease</th>\n",
       "      <th>vocal cord polyp</th>\n",
       "      <th>voice disorders</th>\n",
       "      <th>wellbeing measurement AND family relationship</th>\n",
       "      <th>wheezing</th>\n",
       "      <th>whooping cough</th>\n",
       "      <th>worry measurement</th>\n",
       "      <th>wrist fracture</th>\n",
       "    </tr>\n",
       "    <tr>\n",
       "      <th>gene_name</th>\n",
       "      <th></th>\n",
       "      <th></th>\n",
       "      <th></th>\n",
       "      <th></th>\n",
       "      <th></th>\n",
       "      <th></th>\n",
       "      <th></th>\n",
       "      <th></th>\n",
       "      <th></th>\n",
       "      <th></th>\n",
       "      <th></th>\n",
       "      <th></th>\n",
       "      <th></th>\n",
       "      <th></th>\n",
       "      <th></th>\n",
       "      <th></th>\n",
       "      <th></th>\n",
       "      <th></th>\n",
       "      <th></th>\n",
       "      <th></th>\n",
       "      <th></th>\n",
       "    </tr>\n",
       "  </thead>\n",
       "  <tbody>\n",
       "    <tr>\n",
       "      <th>DPM1</th>\n",
       "      <td>0.005050</td>\n",
       "      <td>0.003194</td>\n",
       "      <td>0.000401</td>\n",
       "      <td>0.001314</td>\n",
       "      <td>0.005001</td>\n",
       "      <td>0.006045</td>\n",
       "      <td>0.000290</td>\n",
       "      <td>0.003502</td>\n",
       "      <td>0.002647</td>\n",
       "      <td>0.001401</td>\n",
       "      <td>...</td>\n",
       "      <td>0.386309</td>\n",
       "      <td>7.733548</td>\n",
       "      <td>1.551127</td>\n",
       "      <td>3.258136</td>\n",
       "      <td>1.245852</td>\n",
       "      <td>0.003880</td>\n",
       "      <td>0.011135</td>\n",
       "      <td>1.500278</td>\n",
       "      <td>2.816021e-03</td>\n",
       "      <td>0.298476</td>\n",
       "    </tr>\n",
       "    <tr>\n",
       "      <th>SCYL3</th>\n",
       "      <td>0.002725</td>\n",
       "      <td>0.004533</td>\n",
       "      <td>0.009780</td>\n",
       "      <td>0.003362</td>\n",
       "      <td>0.004119</td>\n",
       "      <td>0.000851</td>\n",
       "      <td>0.004762</td>\n",
       "      <td>0.003377</td>\n",
       "      <td>0.001657</td>\n",
       "      <td>0.002993</td>\n",
       "      <td>...</td>\n",
       "      <td>2.287206</td>\n",
       "      <td>0.731404</td>\n",
       "      <td>0.716400</td>\n",
       "      <td>0.470086</td>\n",
       "      <td>0.549569</td>\n",
       "      <td>0.007384</td>\n",
       "      <td>0.004300</td>\n",
       "      <td>2.954303</td>\n",
       "      <td>6.406038e-04</td>\n",
       "      <td>0.624165</td>\n",
       "    </tr>\n",
       "    <tr>\n",
       "      <th>C1orf112</th>\n",
       "      <td>0.002274</td>\n",
       "      <td>0.001779</td>\n",
       "      <td>0.005517</td>\n",
       "      <td>0.001909</td>\n",
       "      <td>0.001823</td>\n",
       "      <td>0.001086</td>\n",
       "      <td>0.005450</td>\n",
       "      <td>0.003648</td>\n",
       "      <td>0.002522</td>\n",
       "      <td>0.003449</td>\n",
       "      <td>...</td>\n",
       "      <td>1.895452</td>\n",
       "      <td>5.678230</td>\n",
       "      <td>0.734521</td>\n",
       "      <td>1.608380</td>\n",
       "      <td>1.592443</td>\n",
       "      <td>0.003965</td>\n",
       "      <td>0.002831</td>\n",
       "      <td>0.615950</td>\n",
       "      <td>4.207391e-04</td>\n",
       "      <td>0.495264</td>\n",
       "    </tr>\n",
       "    <tr>\n",
       "      <th>FGR</th>\n",
       "      <td>0.001238</td>\n",
       "      <td>0.001119</td>\n",
       "      <td>0.003876</td>\n",
       "      <td>0.001555</td>\n",
       "      <td>0.000229</td>\n",
       "      <td>0.000812</td>\n",
       "      <td>0.000655</td>\n",
       "      <td>0.000044</td>\n",
       "      <td>0.001604</td>\n",
       "      <td>0.001651</td>\n",
       "      <td>...</td>\n",
       "      <td>0.703521</td>\n",
       "      <td>11.706773</td>\n",
       "      <td>3.680319</td>\n",
       "      <td>0.422090</td>\n",
       "      <td>1.070813</td>\n",
       "      <td>0.002192</td>\n",
       "      <td>0.005723</td>\n",
       "      <td>1.290582</td>\n",
       "      <td>8.871718e-04</td>\n",
       "      <td>0.519766</td>\n",
       "    </tr>\n",
       "    <tr>\n",
       "      <th>CFH</th>\n",
       "      <td>0.002416</td>\n",
       "      <td>0.001719</td>\n",
       "      <td>0.003189</td>\n",
       "      <td>0.005146</td>\n",
       "      <td>0.001393</td>\n",
       "      <td>0.001433</td>\n",
       "      <td>0.007115</td>\n",
       "      <td>0.001373</td>\n",
       "      <td>0.001470</td>\n",
       "      <td>0.007969</td>\n",
       "      <td>...</td>\n",
       "      <td>0.279117</td>\n",
       "      <td>3.697363</td>\n",
       "      <td>1.447349</td>\n",
       "      <td>2.645899</td>\n",
       "      <td>1.556273</td>\n",
       "      <td>0.000893</td>\n",
       "      <td>0.000756</td>\n",
       "      <td>2.094041</td>\n",
       "      <td>4.007837e-09</td>\n",
       "      <td>0.319505</td>\n",
       "    </tr>\n",
       "  </tbody>\n",
       "</table>\n",
       "<p>5 rows × 3752 columns</p>\n",
       "</div>"
      ],
      "text/plain": [
       "           100001_raw-Food_weight  100002_raw-Energy  100003_raw-Protein  \\\n",
       "gene_name                                                                  \n",
       "DPM1                     0.005050           0.003194            0.000401   \n",
       "SCYL3                    0.002725           0.004533            0.009780   \n",
       "C1orf112                 0.002274           0.001779            0.005517   \n",
       "FGR                      0.001238           0.001119            0.003876   \n",
       "CFH                      0.002416           0.001719            0.003189   \n",
       "\n",
       "           100004_raw-Fat  100005_raw-Carbohydrate  100006_raw-Saturated_fat  \\\n",
       "gene_name                                                                      \n",
       "DPM1             0.001314                 0.005001                  0.006045   \n",
       "SCYL3            0.003362                 0.004119                  0.000851   \n",
       "C1orf112         0.001909                 0.001823                  0.001086   \n",
       "FGR              0.001555                 0.000229                  0.000812   \n",
       "CFH              0.005146                 0.001393                  0.001433   \n",
       "\n",
       "           100007_raw-Polyunsaturated_fat  100008_raw-Total_sugars  \\\n",
       "gene_name                                                            \n",
       "DPM1                             0.000290                 0.003502   \n",
       "SCYL3                            0.004762                 0.003377   \n",
       "C1orf112                         0.005450                 0.003648   \n",
       "FGR                              0.000655                 0.000044   \n",
       "CFH                              0.007115                 0.001373   \n",
       "\n",
       "           100009_raw-Englyst_dietary_fibre  100010-Portion_size  ...  \\\n",
       "gene_name                                                         ...   \n",
       "DPM1                               0.002647             0.001401  ...   \n",
       "SCYL3                              0.001657             0.002993  ...   \n",
       "C1orf112                           0.002522             0.003449  ...   \n",
       "FGR                                0.001604             0.001651  ...   \n",
       "CFH                                0.001470             0.007969  ...   \n",
       "\n",
       "           visual impairment   vitiligo  vitreous body disease  \\\n",
       "gene_name                                                        \n",
       "DPM1                0.386309   7.733548               1.551127   \n",
       "SCYL3               2.287206   0.731404               0.716400   \n",
       "C1orf112            1.895452   5.678230               0.734521   \n",
       "FGR                 0.703521  11.706773               3.680319   \n",
       "CFH                 0.279117   3.697363               1.447349   \n",
       "\n",
       "           vocal cord polyp  voice disorders  \\\n",
       "gene_name                                      \n",
       "DPM1               3.258136         1.245852   \n",
       "SCYL3              0.470086         0.549569   \n",
       "C1orf112           1.608380         1.592443   \n",
       "FGR                0.422090         1.070813   \n",
       "CFH                2.645899         1.556273   \n",
       "\n",
       "           wellbeing measurement AND family relationship  wheezing  \\\n",
       "gene_name                                                            \n",
       "DPM1                                            0.003880  0.011135   \n",
       "SCYL3                                           0.007384  0.004300   \n",
       "C1orf112                                        0.003965  0.002831   \n",
       "FGR                                             0.002192  0.005723   \n",
       "CFH                                             0.000893  0.000756   \n",
       "\n",
       "           whooping cough  worry measurement  wrist fracture  \n",
       "gene_name                                                     \n",
       "DPM1             1.500278       2.816021e-03        0.298476  \n",
       "SCYL3            2.954303       6.406038e-04        0.624165  \n",
       "C1orf112         0.615950       4.207391e-04        0.495264  \n",
       "FGR              1.290582       8.871718e-04        0.519766  \n",
       "CFH              2.094041       4.007837e-09        0.319505  \n",
       "\n",
       "[5 rows x 3752 columns]"
      ]
     },
     "execution_count": 54,
     "metadata": {},
     "output_type": "execute_result"
    }
   ],
   "source": [
    "_tmp.head()"
   ]
  },
  {
   "cell_type": "code",
   "execution_count": 55,
   "metadata": {
    "execution": {
     "iopub.execute_input": "2021-03-08T19:23:02.831362Z",
     "iopub.status.busy": "2021-03-08T19:23:02.830992Z",
     "iopub.status.idle": "2021-03-08T19:23:02.841580Z",
     "shell.execute_reply": "2021-03-08T19:23:02.841917Z"
    },
    "papermill": {
     "duration": 0.05988,
     "end_time": "2021-03-08T19:23:02.842040",
     "exception": false,
     "start_time": "2021-03-08T19:23:02.782160",
     "status": "completed"
    },
    "tags": []
   },
   "outputs": [],
   "source": [
    "# some testing\n",
    "_trait = \"100001_raw-Food_weight\"\n",
    "_gene = \"DPM1\"\n",
    "assert _tmp.loc[_gene, _trait] == smultixcan_results.loc[_gene, _trait] / np.sqrt(51453)\n",
    "\n",
    "_trait = \"estrogen-receptor negative breast cancer\"\n",
    "_gene = \"CFH\"\n",
    "assert _tmp.loc[_gene, _trait] == smultixcan_results.loc[_gene, _trait] / (\n",
    "    (31000 / 89000) * np.sqrt(120000)\n",
    ")\n",
    "\n",
    "_trait = \"asthma\"\n",
    "_gene = \"C1orf112\"\n",
    "assert _tmp.loc[_gene, _trait] == smultixcan_results.loc[_gene, _trait] / (\n",
    "    (55344 / 758778) * np.sqrt(814122)\n",
    ")"
   ]
  },
  {
   "cell_type": "code",
   "execution_count": 56,
   "metadata": {
    "execution": {
     "iopub.execute_input": "2021-03-08T19:23:02.934681Z",
     "iopub.status.busy": "2021-03-08T19:23:02.934323Z",
     "iopub.status.idle": "2021-03-08T19:23:02.944078Z",
     "shell.execute_reply": "2021-03-08T19:23:02.943709Z"
    },
    "papermill": {
     "duration": 0.056107,
     "end_time": "2021-03-08T19:23:02.944167",
     "exception": false,
     "start_time": "2021-03-08T19:23:02.888060",
     "status": "completed"
    },
    "tags": []
   },
   "outputs": [],
   "source": [
    "smultixcan_results_std = _tmp"
   ]
  },
  {
   "cell_type": "markdown",
   "metadata": {
    "papermill": {
     "duration": 0.044204,
     "end_time": "2021-03-08T19:23:03.033286",
     "exception": false,
     "start_time": "2021-03-08T19:23:02.989082",
     "status": "completed"
    },
    "tags": []
   },
   "source": [
    "## Analyze distributions"
   ]
  },
  {
   "cell_type": "code",
   "execution_count": 57,
   "metadata": {
    "execution": {
     "iopub.execute_input": "2021-03-08T19:23:03.125135Z",
     "iopub.status.busy": "2021-03-08T19:23:03.124713Z",
     "iopub.status.idle": "2021-03-08T19:23:03.790792Z",
     "shell.execute_reply": "2021-03-08T19:23:03.790341Z"
    },
    "papermill": {
     "duration": 0.713339,
     "end_time": "2021-03-08T19:23:03.790886",
     "exception": false,
     "start_time": "2021-03-08T19:23:03.077547",
     "status": "completed"
    },
    "tags": []
   },
   "outputs": [
    {
     "data": {
      "text/plain": [
       "Text(0.5, 1.0, 'Original distribution')"
      ]
     },
     "execution_count": 57,
     "metadata": {},
     "output_type": "execute_result"
    },
    {
     "data": {
      "image/png": "[encoded data removed]",
      "text/plain": [
       "<Figure size 622.625x360 with 1 Axes>"
      ]
     },
     "metadata": {
      "needs_background": "light"
     },
     "output_type": "display_data"
    }
   ],
   "source": [
    "fg = show_hist(traits_list, data=smultixcan_results)\n",
    "ax = fg.axes[0, 0]\n",
    "ax.set_xlim(-1, 10)\n",
    "ax.set_title(\"Original distribution\")"
   ]
  },
  {
   "cell_type": "code",
   "execution_count": 58,
   "metadata": {
    "execution": {
     "iopub.execute_input": "2021-03-08T19:23:03.886091Z",
     "iopub.status.busy": "2021-03-08T19:23:03.885728Z",
     "iopub.status.idle": "2021-03-08T19:23:04.571565Z",
     "shell.execute_reply": "2021-03-08T19:23:04.571190Z"
    },
    "papermill": {
     "duration": 0.73401,
     "end_time": "2021-03-08T19:23:04.571653",
     "exception": false,
     "start_time": "2021-03-08T19:23:03.837643",
     "status": "completed"
    },
    "tags": []
   },
   "outputs": [
    {
     "data": {
      "text/plain": [
       "Text(0.5, 1.0, 'Standardized by $(n\\\\_cases / n\\\\_controls) * sqrt(n)$')"
      ]
     },
     "execution_count": 58,
     "metadata": {},
     "output_type": "execute_result"
    },
    {
     "data": {
      "image/png": "[encoded data removed]",
      "text/plain": [
       "<Figure size 622.625x360 with 1 Axes>"
      ]
     },
     "metadata": {
      "needs_background": "light"
     },
     "output_type": "display_data"
    }
   ],
   "source": [
    "fg = show_hist(traits_list, data=smultixcan_results_std)\n",
    "ax = fg.axes[0, 0]\n",
    "ax.set_xlim(-0.01, 0.10)\n",
    "ax.set_ylim(0, 9)\n",
    "ax.set_title(\"Standardized by $(n\\_cases / n\\_controls) * sqrt(n)$\")"
   ]
  },
  {
   "cell_type": "markdown",
   "metadata": {
    "papermill": {
     "duration": 0.046179,
     "end_time": "2021-03-08T19:23:04.664977",
     "exception": false,
     "start_time": "2021-03-08T19:23:04.618798",
     "status": "completed"
    },
    "tags": []
   },
   "source": [
    "Here `asthma` is now more to the right compared with `height`, but the low sample size traits have now too large values."
   ]
  },
  {
   "cell_type": "markdown",
   "metadata": {
    "papermill": {
     "duration": 0.046006,
     "end_time": "2021-03-08T19:23:04.757104",
     "exception": false,
     "start_time": "2021-03-08T19:23:04.711098",
     "status": "completed"
    },
    "tags": []
   },
   "source": [
    "## Projection"
   ]
  },
  {
   "cell_type": "code",
   "execution_count": 59,
   "metadata": {
    "execution": {
     "iopub.execute_input": "2021-03-08T19:23:04.855968Z",
     "iopub.status.busy": "2021-03-08T19:23:04.855608Z",
     "iopub.status.idle": "2021-03-08T19:23:04.864796Z",
     "shell.execute_reply": "2021-03-08T19:23:04.865074Z"
    },
    "papermill": {
     "duration": 0.05926,
     "end_time": "2021-03-08T19:23:04.865184",
     "exception": false,
     "start_time": "2021-03-08T19:23:04.805924",
     "status": "completed"
    },
    "tags": []
   },
   "outputs": [],
   "source": [
    "mproj = MultiplierProjection()"
   ]
  },
  {
   "cell_type": "code",
   "execution_count": 60,
   "metadata": {
    "execution": {
     "iopub.execute_input": "2021-03-08T19:23:04.961893Z",
     "iopub.status.busy": "2021-03-08T19:23:04.961514Z",
     "iopub.status.idle": "2021-03-08T19:23:07.716193Z",
     "shell.execute_reply": "2021-03-08T19:23:07.716766Z"
    },
    "papermill": {
     "duration": 2.804705,
     "end_time": "2021-03-08T19:23:07.716888",
     "exception": false,
     "start_time": "2021-03-08T19:23:04.912183",
     "status": "completed"
    },
    "tags": []
   },
   "outputs": [],
   "source": [
    "smultixcan_into_multiplier = mproj.transform(smultixcan_results_std)"
   ]
  },
  {
   "cell_type": "code",
   "execution_count": 61,
   "metadata": {
    "execution": {
     "iopub.execute_input": "2021-03-08T19:23:07.821165Z",
     "iopub.status.busy": "2021-03-08T19:23:07.820802Z",
     "iopub.status.idle": "2021-03-08T19:23:07.831598Z",
     "shell.execute_reply": "2021-03-08T19:23:07.831260Z"
    },
    "papermill": {
     "duration": 0.064361,
     "end_time": "2021-03-08T19:23:07.831697",
     "exception": false,
     "start_time": "2021-03-08T19:23:07.767336",
     "status": "completed"
    },
    "tags": []
   },
   "outputs": [
    {
     "data": {
      "text/plain": [
       "(987, 3752)"
      ]
     },
     "execution_count": 61,
     "metadata": {},
     "output_type": "execute_result"
    }
   ],
   "source": [
    "smultixcan_into_multiplier.shape"
   ]
  },
  {
   "cell_type": "code",
   "execution_count": 62,
   "metadata": {
    "execution": {
     "iopub.execute_input": "2021-03-08T19:23:07.933306Z",
     "iopub.status.busy": "2021-03-08T19:23:07.932943Z",
     "iopub.status.idle": "2021-03-08T19:23:07.954880Z",
     "shell.execute_reply": "2021-03-08T19:23:07.954528Z"
    },
    "papermill": {
     "duration": 0.07248,
     "end_time": "2021-03-08T19:23:07.954965",
     "exception": false,
     "start_time": "2021-03-08T19:23:07.882485",
     "status": "completed"
    },
    "tags": []
   },
   "outputs": [
    {
     "data": {
      "text/html": [
       "<div>\n",
       "<style scoped>\n",
       "    .dataframe tbody tr th:only-of-type {\n",
       "        vertical-align: middle;\n",
       "    }\n",
       "\n",
       "    .dataframe tbody tr th {\n",
       "        vertical-align: top;\n",
       "    }\n",
       "\n",
       "    .dataframe thead th {\n",
       "        text-align: right;\n",
       "    }\n",
       "</style>\n",
       "<table border=\"1\" class=\"dataframe\">\n",
       "  <thead>\n",
       "    <tr style=\"text-align: right;\">\n",
       "      <th></th>\n",
       "      <th>100001_raw-Food_weight</th>\n",
       "      <th>100002_raw-Energy</th>\n",
       "      <th>100003_raw-Protein</th>\n",
       "      <th>100004_raw-Fat</th>\n",
       "      <th>100005_raw-Carbohydrate</th>\n",
       "      <th>100006_raw-Saturated_fat</th>\n",
       "      <th>100007_raw-Polyunsaturated_fat</th>\n",
       "      <th>100008_raw-Total_sugars</th>\n",
       "      <th>100009_raw-Englyst_dietary_fibre</th>\n",
       "      <th>100010-Portion_size</th>\n",
       "      <th>...</th>\n",
       "      <th>visual impairment</th>\n",
       "      <th>vitiligo</th>\n",
       "      <th>vitreous body disease</th>\n",
       "      <th>vocal cord polyp</th>\n",
       "      <th>voice disorders</th>\n",
       "      <th>wellbeing measurement AND family relationship</th>\n",
       "      <th>wheezing</th>\n",
       "      <th>whooping cough</th>\n",
       "      <th>worry measurement</th>\n",
       "      <th>wrist fracture</th>\n",
       "    </tr>\n",
       "  </thead>\n",
       "  <tbody>\n",
       "    <tr>\n",
       "      <th>LV1</th>\n",
       "      <td>-0.028208</td>\n",
       "      <td>-0.028251</td>\n",
       "      <td>-0.028207</td>\n",
       "      <td>-0.028219</td>\n",
       "      <td>-0.028198</td>\n",
       "      <td>-0.028178</td>\n",
       "      <td>-0.028194</td>\n",
       "      <td>-0.028194</td>\n",
       "      <td>-0.028250</td>\n",
       "      <td>-0.028224</td>\n",
       "      <td>...</td>\n",
       "      <td>0.000383</td>\n",
       "      <td>0.120043</td>\n",
       "      <td>0.007720</td>\n",
       "      <td>0.069319</td>\n",
       "      <td>0.006375</td>\n",
       "      <td>-0.028223</td>\n",
       "      <td>-0.028081</td>\n",
       "      <td>0.014211</td>\n",
       "      <td>-0.028200</td>\n",
       "      <td>-0.013370</td>\n",
       "    </tr>\n",
       "    <tr>\n",
       "      <th>LV2</th>\n",
       "      <td>-0.026612</td>\n",
       "      <td>-0.026715</td>\n",
       "      <td>-0.026751</td>\n",
       "      <td>-0.026787</td>\n",
       "      <td>-0.026687</td>\n",
       "      <td>-0.026790</td>\n",
       "      <td>-0.026753</td>\n",
       "      <td>-0.026672</td>\n",
       "      <td>-0.026738</td>\n",
       "      <td>-0.026683</td>\n",
       "      <td>...</td>\n",
       "      <td>-0.013696</td>\n",
       "      <td>0.045199</td>\n",
       "      <td>0.015364</td>\n",
       "      <td>0.080350</td>\n",
       "      <td>-0.007553</td>\n",
       "      <td>-0.026674</td>\n",
       "      <td>-0.026546</td>\n",
       "      <td>-0.010310</td>\n",
       "      <td>-0.026775</td>\n",
       "      <td>-0.014442</td>\n",
       "    </tr>\n",
       "    <tr>\n",
       "      <th>LV3</th>\n",
       "      <td>-0.039764</td>\n",
       "      <td>-0.039770</td>\n",
       "      <td>-0.039732</td>\n",
       "      <td>-0.039752</td>\n",
       "      <td>-0.039756</td>\n",
       "      <td>-0.039758</td>\n",
       "      <td>-0.039755</td>\n",
       "      <td>-0.039774</td>\n",
       "      <td>-0.039805</td>\n",
       "      <td>-0.039796</td>\n",
       "      <td>...</td>\n",
       "      <td>0.006445</td>\n",
       "      <td>0.131781</td>\n",
       "      <td>0.006001</td>\n",
       "      <td>0.039494</td>\n",
       "      <td>0.009288</td>\n",
       "      <td>-0.039812</td>\n",
       "      <td>-0.039520</td>\n",
       "      <td>0.040328</td>\n",
       "      <td>-0.039794</td>\n",
       "      <td>-0.022999</td>\n",
       "    </tr>\n",
       "    <tr>\n",
       "      <th>LV4</th>\n",
       "      <td>-0.013979</td>\n",
       "      <td>-0.014041</td>\n",
       "      <td>-0.014031</td>\n",
       "      <td>-0.014104</td>\n",
       "      <td>-0.014028</td>\n",
       "      <td>-0.014100</td>\n",
       "      <td>-0.014124</td>\n",
       "      <td>-0.014010</td>\n",
       "      <td>-0.014034</td>\n",
       "      <td>-0.014049</td>\n",
       "      <td>...</td>\n",
       "      <td>-0.006200</td>\n",
       "      <td>0.085562</td>\n",
       "      <td>-0.019263</td>\n",
       "      <td>-0.003323</td>\n",
       "      <td>-0.015987</td>\n",
       "      <td>-0.013992</td>\n",
       "      <td>-0.013938</td>\n",
       "      <td>-0.020137</td>\n",
       "      <td>-0.014073</td>\n",
       "      <td>-0.002200</td>\n",
       "    </tr>\n",
       "    <tr>\n",
       "      <th>LV5</th>\n",
       "      <td>-0.021814</td>\n",
       "      <td>-0.021761</td>\n",
       "      <td>-0.021746</td>\n",
       "      <td>-0.021764</td>\n",
       "      <td>-0.021779</td>\n",
       "      <td>-0.021713</td>\n",
       "      <td>-0.021833</td>\n",
       "      <td>-0.021785</td>\n",
       "      <td>-0.021718</td>\n",
       "      <td>-0.021769</td>\n",
       "      <td>...</td>\n",
       "      <td>0.013245</td>\n",
       "      <td>0.048502</td>\n",
       "      <td>0.015323</td>\n",
       "      <td>0.055829</td>\n",
       "      <td>0.007987</td>\n",
       "      <td>-0.021831</td>\n",
       "      <td>-0.021814</td>\n",
       "      <td>0.007725</td>\n",
       "      <td>-0.021862</td>\n",
       "      <td>-0.008218</td>\n",
       "    </tr>\n",
       "  </tbody>\n",
       "</table>\n",
       "<p>5 rows × 3752 columns</p>\n",
       "</div>"
      ],
      "text/plain": [
       "     100001_raw-Food_weight  100002_raw-Energy  100003_raw-Protein  \\\n",
       "LV1               -0.028208          -0.028251           -0.028207   \n",
       "LV2               -0.026612          -0.026715           -0.026751   \n",
       "LV3               -0.039764          -0.039770           -0.039732   \n",
       "LV4               -0.013979          -0.014041           -0.014031   \n",
       "LV5               -0.021814          -0.021761           -0.021746   \n",
       "\n",
       "     100004_raw-Fat  100005_raw-Carbohydrate  100006_raw-Saturated_fat  \\\n",
       "LV1       -0.028219                -0.028198                 -0.028178   \n",
       "LV2       -0.026787                -0.026687                 -0.026790   \n",
       "LV3       -0.039752                -0.039756                 -0.039758   \n",
       "LV4       -0.014104                -0.014028                 -0.014100   \n",
       "LV5       -0.021764                -0.021779                 -0.021713   \n",
       "\n",
       "     100007_raw-Polyunsaturated_fat  100008_raw-Total_sugars  \\\n",
       "LV1                       -0.028194                -0.028194   \n",
       "LV2                       -0.026753                -0.026672   \n",
       "LV3                       -0.039755                -0.039774   \n",
       "LV4                       -0.014124                -0.014010   \n",
       "LV5                       -0.021833                -0.021785   \n",
       "\n",
       "     100009_raw-Englyst_dietary_fibre  100010-Portion_size  ...  \\\n",
       "LV1                         -0.028250            -0.028224  ...   \n",
       "LV2                         -0.026738            -0.026683  ...   \n",
       "LV3                         -0.039805            -0.039796  ...   \n",
       "LV4                         -0.014034            -0.014049  ...   \n",
       "LV5                         -0.021718            -0.021769  ...   \n",
       "\n",
       "     visual impairment  vitiligo  vitreous body disease  vocal cord polyp  \\\n",
       "LV1           0.000383  0.120043               0.007720          0.069319   \n",
       "LV2          -0.013696  0.045199               0.015364          0.080350   \n",
       "LV3           0.006445  0.131781               0.006001          0.039494   \n",
       "LV4          -0.006200  0.085562              -0.019263         -0.003323   \n",
       "LV5           0.013245  0.048502               0.015323          0.055829   \n",
       "\n",
       "     voice disorders  wellbeing measurement AND family relationship  wheezing  \\\n",
       "LV1         0.006375                                      -0.028223 -0.028081   \n",
       "LV2        -0.007553                                      -0.026674 -0.026546   \n",
       "LV3         0.009288                                      -0.039812 -0.039520   \n",
       "LV4        -0.015987                                      -0.013992 -0.013938   \n",
       "LV5         0.007987                                      -0.021831 -0.021814   \n",
       "\n",
       "     whooping cough  worry measurement  wrist fracture  \n",
       "LV1        0.014211          -0.028200       -0.013370  \n",
       "LV2       -0.010310          -0.026775       -0.014442  \n",
       "LV3        0.040328          -0.039794       -0.022999  \n",
       "LV4       -0.020137          -0.014073       -0.002200  \n",
       "LV5        0.007725          -0.021862       -0.008218  \n",
       "\n",
       "[5 rows x 3752 columns]"
      ]
     },
     "execution_count": 62,
     "metadata": {},
     "output_type": "execute_result"
    }
   ],
   "source": [
    "smultixcan_into_multiplier.head()"
   ]
  },
  {
   "cell_type": "code",
   "execution_count": 63,
   "metadata": {
    "execution": {
     "iopub.execute_input": "2021-03-08T19:23:08.052607Z",
     "iopub.status.busy": "2021-03-08T19:23:08.052232Z",
     "iopub.status.idle": "2021-03-08T19:23:08.064424Z",
     "shell.execute_reply": "2021-03-08T19:23:08.064048Z"
    },
    "papermill": {
     "duration": 0.061986,
     "end_time": "2021-03-08T19:23:08.064514",
     "exception": false,
     "start_time": "2021-03-08T19:23:08.002528",
     "status": "completed"
    },
    "tags": []
   },
   "outputs": [
    {
     "data": {
      "text/plain": [
       "D3_BLOODNAS-Other_and_unspecified_diseases_of_blood_and_bloodforming_organs                           0.281144\n",
       "D63-Diagnoses_main_ICD10_D63_Anaemia_in_chronic_diseases_classified_elsewhere                         0.273394\n",
       "20003_1140866804-Treatmentmedication_code_inderal_10mg_tablet                                         0.271277\n",
       "H7_CORNULCER-Corneal_ulcer                                                                            0.264494\n",
       "20003_1140922714-Treatmentmedication_code_dorzolamide                                                 0.264443\n",
       "nervous system injury                                                                                 0.257529\n",
       "20003_1140888512-Treatmentmedication_code_amiloride                                                   0.254875\n",
       "crush injury                                                                                          0.251924\n",
       "C_SECONDARY_RESPIRATORY_DIGESTIVE-Secondary_malignant_neoplasm_of_respiratory_and_digestive_organs    0.250315\n",
       "M13_SPONDYLINFLAMNAS-Other_specifiedunspecified_inflammatory_spondylopathies                          0.248618\n",
       "F05-Diagnoses_main_ICD10_F05_Delirium_not_induced_by_alcohol_and_other_psychoactive_substances        0.244070\n",
       "20003_1141172838-Treatmentmedication_code_depakote_250mg_ec_tablet                                    0.240514\n",
       "20003_1140870488-Treatmentmedication_code_forceval_capsule                                            0.238376\n",
       "abnormality of male internal genitalia                                                                0.236238\n",
       "myasthenia gravis                                                                                     0.233680\n",
       "M13_FLEXION-Flexion_deformity                                                                         0.231254\n",
       "H7_CONJUNAS-Other_specified_and_unspecified_disorders_of_conjunctiva                                  0.227038\n",
       "Z29-Diagnoses_main_ICD10_Z29_Need_for_other_prophylactic_measures                                     0.226876\n",
       "viral meningitis                                                                                      0.226077\n",
       "hypothyroidism                                                                                        0.224507\n",
       "Name: LV603, dtype: float64"
      ]
     },
     "metadata": {},
     "output_type": "display_data"
    }
   ],
   "source": [
    "_tmp = smultixcan_into_multiplier.loc[\"LV603\"].sort_values(ascending=False).head(20)\n",
    "display(_tmp)"
   ]
  },
  {
   "cell_type": "code",
   "execution_count": 64,
   "metadata": {
    "execution": {
     "iopub.execute_input": "2021-03-08T19:23:08.164821Z",
     "iopub.status.busy": "2021-03-08T19:23:08.164408Z",
     "iopub.status.idle": "2021-03-08T19:23:08.174998Z",
     "shell.execute_reply": "2021-03-08T19:23:08.175280Z"
    },
    "papermill": {
     "duration": 0.061396,
     "end_time": "2021-03-08T19:23:08.175390",
     "exception": false,
     "start_time": "2021-03-08T19:23:08.113994",
     "status": "completed"
    },
    "tags": []
   },
   "outputs": [
    {
     "data": {
      "text/plain": [
       "n             361194.0\n",
       "n_cases          123.0\n",
       "n_controls    361071.0\n",
       "Name: D3_BLOODNAS-Other_and_unspecified_diseases_of_blood_and_bloodforming_organs, dtype: float64"
      ]
     },
     "execution_count": 64,
     "metadata": {},
     "output_type": "execute_result"
    }
   ],
   "source": [
    "traits_sample_size_df.loc[_tmp.index[0]]"
   ]
  },
  {
   "cell_type": "code",
   "execution_count": 65,
   "metadata": {
    "execution": {
     "iopub.execute_input": "2021-03-08T19:23:08.291643Z",
     "iopub.status.busy": "2021-03-08T19:23:08.291195Z",
     "iopub.status.idle": "2021-03-08T19:23:08.304941Z",
     "shell.execute_reply": "2021-03-08T19:23:08.305283Z"
    },
    "papermill": {
     "duration": 0.081526,
     "end_time": "2021-03-08T19:23:08.305412",
     "exception": false,
     "start_time": "2021-03-08T19:23:08.223886",
     "status": "completed"
    },
    "tags": []
   },
   "outputs": [
    {
     "data": {
      "text/plain": [
       "20003_2038460068-Treatmentmedication_code_phenobarbitone                                              0.276007\n",
       "20003_1140879798-Treatmentmedication_code_terazosin                                                   0.257145\n",
       "abnormality of male internal genitalia                                                                0.234924\n",
       "20003_1140877826-Treatmentmedication_code_sodium_bicarbonate                                          0.227962\n",
       "41248_7001-Destinations_on_discharge_from_hospital_recoded_Nursing_residential_care_group_home_NHS    0.217427\n",
       "20003_1140878172-Treatmentmedication_code_tears_naturale_eye_drops                                    0.210637\n",
       "sexual dysfunction                                                                                    0.204175\n",
       "viral meningitis                                                                                      0.198256\n",
       "RHEUMA_CHRYSTAL-Chrystal_arthropathies_rheuma_endpoint                                                0.197832\n",
       "optic neuritis                                                                                        0.192156\n",
       "rare genetic developmental defect during embryogenesis                                                0.183053\n",
       "20003_1140928004-Treatmentmedication_code_zimovane_ls_375mg_tablet                                    0.179847\n",
       "20003_1140880956-Treatmentmedication_code_fentanyl                                                    0.177363\n",
       "M93-Diagnoses_main_ICD10_M93_Other_osteochondropathies                                                0.176750\n",
       "20003_1140865394-Treatmentmedication_code_hyoscine_butylbromide                                       0.175633\n",
       "20003_1140861202-Treatmentmedication_code_istin_5mg_tablet                                            0.170033\n",
       "essential tremor                                                                                      0.169733\n",
       "F5_ALCOHOLAC-Acute_alcohol_intoxication                                                               0.165451\n",
       "20003_1141187230-Treatmentmedication_code_care_cetirizine_hayfever_relief_10mg_tablet                 0.165290\n",
       "20003_1140872492-Treatmentmedication_code_nicotine_product                                            0.157628\n",
       "Name: LV136, dtype: float64"
      ]
     },
     "metadata": {},
     "output_type": "display_data"
    }
   ],
   "source": [
    "_tmp = smultixcan_into_multiplier.loc[\"LV136\"].sort_values(ascending=False).head(20)\n",
    "display(_tmp)"
   ]
  },
  {
   "cell_type": "code",
   "execution_count": 66,
   "metadata": {
    "execution": {
     "iopub.execute_input": "2021-03-08T19:23:08.410707Z",
     "iopub.status.busy": "2021-03-08T19:23:08.410261Z",
     "iopub.status.idle": "2021-03-08T19:23:08.421882Z",
     "shell.execute_reply": "2021-03-08T19:23:08.421511Z"
    },
    "papermill": {
     "duration": 0.062111,
     "end_time": "2021-03-08T19:23:08.421972",
     "exception": false,
     "start_time": "2021-03-08T19:23:08.359861",
     "status": "completed"
    },
    "tags": []
   },
   "outputs": [
    {
     "data": {
      "text/plain": [
       "n             361141.0\n",
       "n_cases          105.0\n",
       "n_controls    361036.0\n",
       "Name: 20003_2038460068-Treatmentmedication_code_phenobarbitone, dtype: float64"
      ]
     },
     "execution_count": 66,
     "metadata": {},
     "output_type": "execute_result"
    }
   ],
   "source": [
    "traits_sample_size_df.loc[_tmp.index[0]]"
   ]
  },
  {
   "cell_type": "markdown",
   "metadata": {
    "papermill": {
     "duration": 0.048129,
     "end_time": "2021-03-08T19:23:08.519818",
     "exception": false,
     "start_time": "2021-03-08T19:23:08.471689",
     "status": "completed"
    },
    "tags": []
   },
   "source": [
    "**Conclusion:** this approach doesn't work either."
   ]
  },
  {
   "cell_type": "markdown",
   "metadata": {
    "papermill": {
     "duration": 0.047885,
     "end_time": "2021-03-08T19:23:08.616572",
     "exception": false,
     "start_time": "2021-03-08T19:23:08.568687",
     "status": "completed"
    },
    "tags": []
   },
   "source": [
    "# Approach \\#3: Standardize by sum of z-scores"
   ]
  },
  {
   "cell_type": "markdown",
   "metadata": {
    "papermill": {
     "duration": 0.048297,
     "end_time": "2021-03-08T19:23:08.713126",
     "exception": false,
     "start_time": "2021-03-08T19:23:08.664829",
     "status": "completed"
    },
    "tags": []
   },
   "source": [
    "Here I divide all z-scores for a trait by `sum(z)` (sum of z-scores). The idea is that highly polygenic traits would be more penalized, which is what we want."
   ]
  },
  {
   "cell_type": "markdown",
   "metadata": {
    "papermill": {
     "duration": 0.051357,
     "end_time": "2021-03-08T19:23:08.812840",
     "exception": false,
     "start_time": "2021-03-08T19:23:08.761483",
     "status": "completed"
    },
    "tags": []
   },
   "source": [
    "## Standardize"
   ]
  },
  {
   "cell_type": "code",
   "execution_count": 67,
   "metadata": {
    "execution": {
     "iopub.execute_input": "2021-03-08T19:23:08.914401Z",
     "iopub.status.busy": "2021-03-08T19:23:08.914040Z",
     "iopub.status.idle": "2021-03-08T19:23:10.996583Z",
     "shell.execute_reply": "2021-03-08T19:23:10.996143Z"
    },
    "papermill": {
     "duration": 2.134174,
     "end_time": "2021-03-08T19:23:10.996700",
     "exception": false,
     "start_time": "2021-03-08T19:23:08.862526",
     "status": "completed"
    },
    "tags": []
   },
   "outputs": [],
   "source": [
    "_tmp = smultixcan_results.apply(lambda x: x / x.sum())"
   ]
  },
  {
   "cell_type": "code",
   "execution_count": 68,
   "metadata": {
    "execution": {
     "iopub.execute_input": "2021-03-08T19:23:11.103064Z",
     "iopub.status.busy": "2021-03-08T19:23:11.102701Z",
     "iopub.status.idle": "2021-03-08T19:23:11.113360Z",
     "shell.execute_reply": "2021-03-08T19:23:11.112984Z"
    },
    "papermill": {
     "duration": 0.061973,
     "end_time": "2021-03-08T19:23:11.113448",
     "exception": false,
     "start_time": "2021-03-08T19:23:11.051475",
     "status": "completed"
    },
    "tags": []
   },
   "outputs": [
    {
     "data": {
      "text/plain": [
       "(22508, 3752)"
      ]
     },
     "execution_count": 68,
     "metadata": {},
     "output_type": "execute_result"
    }
   ],
   "source": [
    "_tmp.shape"
   ]
  },
  {
   "cell_type": "code",
   "execution_count": 69,
   "metadata": {
    "execution": {
     "iopub.execute_input": "2021-03-08T19:23:11.214223Z",
     "iopub.status.busy": "2021-03-08T19:23:11.213860Z",
     "iopub.status.idle": "2021-03-08T19:23:11.223369Z",
     "shell.execute_reply": "2021-03-08T19:23:11.223067Z"
    },
    "papermill": {
     "duration": 0.060653,
     "end_time": "2021-03-08T19:23:11.223459",
     "exception": false,
     "start_time": "2021-03-08T19:23:11.162806",
     "status": "completed"
    },
    "tags": []
   },
   "outputs": [],
   "source": [
    "assert _tmp.shape == smultixcan_results.shape"
   ]
  },
  {
   "cell_type": "code",
   "execution_count": 70,
   "metadata": {
    "execution": {
     "iopub.execute_input": "2021-03-08T19:23:11.324096Z",
     "iopub.status.busy": "2021-03-08T19:23:11.323735Z",
     "iopub.status.idle": "2021-03-08T19:23:11.346295Z",
     "shell.execute_reply": "2021-03-08T19:23:11.345926Z"
    },
    "papermill": {
     "duration": 0.073535,
     "end_time": "2021-03-08T19:23:11.346384",
     "exception": false,
     "start_time": "2021-03-08T19:23:11.272849",
     "status": "completed"
    },
    "tags": []
   },
   "outputs": [
    {
     "data": {
      "text/html": [
       "<div>\n",
       "<style scoped>\n",
       "    .dataframe tbody tr th:only-of-type {\n",
       "        vertical-align: middle;\n",
       "    }\n",
       "\n",
       "    .dataframe tbody tr th {\n",
       "        vertical-align: top;\n",
       "    }\n",
       "\n",
       "    .dataframe thead th {\n",
       "        text-align: right;\n",
       "    }\n",
       "</style>\n",
       "<table border=\"1\" class=\"dataframe\">\n",
       "  <thead>\n",
       "    <tr style=\"text-align: right;\">\n",
       "      <th></th>\n",
       "      <th>100001_raw-Food_weight</th>\n",
       "      <th>100002_raw-Energy</th>\n",
       "      <th>100003_raw-Protein</th>\n",
       "      <th>100004_raw-Fat</th>\n",
       "      <th>100005_raw-Carbohydrate</th>\n",
       "      <th>100006_raw-Saturated_fat</th>\n",
       "      <th>100007_raw-Polyunsaturated_fat</th>\n",
       "      <th>100008_raw-Total_sugars</th>\n",
       "      <th>100009_raw-Englyst_dietary_fibre</th>\n",
       "      <th>100010-Portion_size</th>\n",
       "      <th>...</th>\n",
       "      <th>visual impairment</th>\n",
       "      <th>vitiligo</th>\n",
       "      <th>vitreous body disease</th>\n",
       "      <th>vocal cord polyp</th>\n",
       "      <th>voice disorders</th>\n",
       "      <th>wellbeing measurement AND family relationship</th>\n",
       "      <th>wheezing</th>\n",
       "      <th>whooping cough</th>\n",
       "      <th>worry measurement</th>\n",
       "      <th>wrist fracture</th>\n",
       "    </tr>\n",
       "    <tr>\n",
       "      <th>gene_name</th>\n",
       "      <th></th>\n",
       "      <th></th>\n",
       "      <th></th>\n",
       "      <th></th>\n",
       "      <th></th>\n",
       "      <th></th>\n",
       "      <th></th>\n",
       "      <th></th>\n",
       "      <th></th>\n",
       "      <th></th>\n",
       "      <th></th>\n",
       "      <th></th>\n",
       "      <th></th>\n",
       "      <th></th>\n",
       "      <th></th>\n",
       "      <th></th>\n",
       "      <th></th>\n",
       "      <th></th>\n",
       "      <th></th>\n",
       "      <th></th>\n",
       "      <th></th>\n",
       "    </tr>\n",
       "  </thead>\n",
       "  <tbody>\n",
       "    <tr>\n",
       "      <th>DPM1</th>\n",
       "      <td>0.000060</td>\n",
       "      <td>0.000039</td>\n",
       "      <td>0.000005</td>\n",
       "      <td>0.000016</td>\n",
       "      <td>0.000061</td>\n",
       "      <td>0.000075</td>\n",
       "      <td>0.000004</td>\n",
       "      <td>4.254814e-05</td>\n",
       "      <td>0.000031</td>\n",
       "      <td>0.000017</td>\n",
       "      <td>...</td>\n",
       "      <td>0.000020</td>\n",
       "      <td>0.000075</td>\n",
       "      <td>0.000064</td>\n",
       "      <td>0.000047</td>\n",
       "      <td>0.000066</td>\n",
       "      <td>0.000066</td>\n",
       "      <td>0.000069</td>\n",
       "      <td>0.000058</td>\n",
       "      <td>6.250232e-05</td>\n",
       "      <td>0.000034</td>\n",
       "    </tr>\n",
       "    <tr>\n",
       "      <th>SCYL3</th>\n",
       "      <td>0.000033</td>\n",
       "      <td>0.000055</td>\n",
       "      <td>0.000119</td>\n",
       "      <td>0.000041</td>\n",
       "      <td>0.000050</td>\n",
       "      <td>0.000011</td>\n",
       "      <td>0.000059</td>\n",
       "      <td>4.103114e-05</td>\n",
       "      <td>0.000020</td>\n",
       "      <td>0.000036</td>\n",
       "      <td>...</td>\n",
       "      <td>0.000118</td>\n",
       "      <td>0.000007</td>\n",
       "      <td>0.000030</td>\n",
       "      <td>0.000007</td>\n",
       "      <td>0.000029</td>\n",
       "      <td>0.000126</td>\n",
       "      <td>0.000027</td>\n",
       "      <td>0.000114</td>\n",
       "      <td>1.421837e-05</td>\n",
       "      <td>0.000070</td>\n",
       "    </tr>\n",
       "    <tr>\n",
       "      <th>C1orf112</th>\n",
       "      <td>0.000027</td>\n",
       "      <td>0.000022</td>\n",
       "      <td>0.000067</td>\n",
       "      <td>0.000023</td>\n",
       "      <td>0.000022</td>\n",
       "      <td>0.000014</td>\n",
       "      <td>0.000067</td>\n",
       "      <td>4.432186e-05</td>\n",
       "      <td>0.000030</td>\n",
       "      <td>0.000041</td>\n",
       "      <td>...</td>\n",
       "      <td>0.000098</td>\n",
       "      <td>0.000055</td>\n",
       "      <td>0.000030</td>\n",
       "      <td>0.000023</td>\n",
       "      <td>0.000084</td>\n",
       "      <td>0.000068</td>\n",
       "      <td>0.000018</td>\n",
       "      <td>0.000024</td>\n",
       "      <td>9.338414e-06</td>\n",
       "      <td>0.000056</td>\n",
       "    </tr>\n",
       "    <tr>\n",
       "      <th>FGR</th>\n",
       "      <td>0.000015</td>\n",
       "      <td>0.000014</td>\n",
       "      <td>0.000047</td>\n",
       "      <td>0.000019</td>\n",
       "      <td>0.000003</td>\n",
       "      <td>0.000010</td>\n",
       "      <td>0.000008</td>\n",
       "      <td>5.350929e-07</td>\n",
       "      <td>0.000019</td>\n",
       "      <td>0.000020</td>\n",
       "      <td>...</td>\n",
       "      <td>0.000036</td>\n",
       "      <td>0.000114</td>\n",
       "      <td>0.000152</td>\n",
       "      <td>0.000006</td>\n",
       "      <td>0.000057</td>\n",
       "      <td>0.000038</td>\n",
       "      <td>0.000035</td>\n",
       "      <td>0.000050</td>\n",
       "      <td>1.969101e-05</td>\n",
       "      <td>0.000058</td>\n",
       "    </tr>\n",
       "    <tr>\n",
       "      <th>CFH</th>\n",
       "      <td>0.000029</td>\n",
       "      <td>0.000021</td>\n",
       "      <td>0.000039</td>\n",
       "      <td>0.000063</td>\n",
       "      <td>0.000017</td>\n",
       "      <td>0.000018</td>\n",
       "      <td>0.000088</td>\n",
       "      <td>1.668206e-05</td>\n",
       "      <td>0.000017</td>\n",
       "      <td>0.000095</td>\n",
       "      <td>...</td>\n",
       "      <td>0.000014</td>\n",
       "      <td>0.000036</td>\n",
       "      <td>0.000060</td>\n",
       "      <td>0.000038</td>\n",
       "      <td>0.000083</td>\n",
       "      <td>0.000015</td>\n",
       "      <td>0.000005</td>\n",
       "      <td>0.000081</td>\n",
       "      <td>8.895497e-11</td>\n",
       "      <td>0.000036</td>\n",
       "    </tr>\n",
       "  </tbody>\n",
       "</table>\n",
       "<p>5 rows × 3752 columns</p>\n",
       "</div>"
      ],
      "text/plain": [
       "           100001_raw-Food_weight  100002_raw-Energy  100003_raw-Protein  \\\n",
       "gene_name                                                                  \n",
       "DPM1                     0.000060           0.000039            0.000005   \n",
       "SCYL3                    0.000033           0.000055            0.000119   \n",
       "C1orf112                 0.000027           0.000022            0.000067   \n",
       "FGR                      0.000015           0.000014            0.000047   \n",
       "CFH                      0.000029           0.000021            0.000039   \n",
       "\n",
       "           100004_raw-Fat  100005_raw-Carbohydrate  100006_raw-Saturated_fat  \\\n",
       "gene_name                                                                      \n",
       "DPM1             0.000016                 0.000061                  0.000075   \n",
       "SCYL3            0.000041                 0.000050                  0.000011   \n",
       "C1orf112         0.000023                 0.000022                  0.000014   \n",
       "FGR              0.000019                 0.000003                  0.000010   \n",
       "CFH              0.000063                 0.000017                  0.000018   \n",
       "\n",
       "           100007_raw-Polyunsaturated_fat  100008_raw-Total_sugars  \\\n",
       "gene_name                                                            \n",
       "DPM1                             0.000004             4.254814e-05   \n",
       "SCYL3                            0.000059             4.103114e-05   \n",
       "C1orf112                         0.000067             4.432186e-05   \n",
       "FGR                              0.000008             5.350929e-07   \n",
       "CFH                              0.000088             1.668206e-05   \n",
       "\n",
       "           100009_raw-Englyst_dietary_fibre  100010-Portion_size  ...  \\\n",
       "gene_name                                                         ...   \n",
       "DPM1                               0.000031             0.000017  ...   \n",
       "SCYL3                              0.000020             0.000036  ...   \n",
       "C1orf112                           0.000030             0.000041  ...   \n",
       "FGR                                0.000019             0.000020  ...   \n",
       "CFH                                0.000017             0.000095  ...   \n",
       "\n",
       "           visual impairment  vitiligo  vitreous body disease  \\\n",
       "gene_name                                                       \n",
       "DPM1                0.000020  0.000075               0.000064   \n",
       "SCYL3               0.000118  0.000007               0.000030   \n",
       "C1orf112            0.000098  0.000055               0.000030   \n",
       "FGR                 0.000036  0.000114               0.000152   \n",
       "CFH                 0.000014  0.000036               0.000060   \n",
       "\n",
       "           vocal cord polyp  voice disorders  \\\n",
       "gene_name                                      \n",
       "DPM1               0.000047         0.000066   \n",
       "SCYL3              0.000007         0.000029   \n",
       "C1orf112           0.000023         0.000084   \n",
       "FGR                0.000006         0.000057   \n",
       "CFH                0.000038         0.000083   \n",
       "\n",
       "           wellbeing measurement AND family relationship  wheezing  \\\n",
       "gene_name                                                            \n",
       "DPM1                                            0.000066  0.000069   \n",
       "SCYL3                                           0.000126  0.000027   \n",
       "C1orf112                                        0.000068  0.000018   \n",
       "FGR                                             0.000038  0.000035   \n",
       "CFH                                             0.000015  0.000005   \n",
       "\n",
       "           whooping cough  worry measurement  wrist fracture  \n",
       "gene_name                                                     \n",
       "DPM1             0.000058       6.250232e-05        0.000034  \n",
       "SCYL3            0.000114       1.421837e-05        0.000070  \n",
       "C1orf112         0.000024       9.338414e-06        0.000056  \n",
       "FGR              0.000050       1.969101e-05        0.000058  \n",
       "CFH              0.000081       8.895497e-11        0.000036  \n",
       "\n",
       "[5 rows x 3752 columns]"
      ]
     },
     "execution_count": 70,
     "metadata": {},
     "output_type": "execute_result"
    }
   ],
   "source": [
    "_tmp.head()"
   ]
  },
  {
   "cell_type": "code",
   "execution_count": 71,
   "metadata": {
    "execution": {
     "iopub.execute_input": "2021-03-08T19:23:11.450434Z",
     "iopub.status.busy": "2021-03-08T19:23:11.450066Z",
     "iopub.status.idle": "2021-03-08T19:23:11.460234Z",
     "shell.execute_reply": "2021-03-08T19:23:11.459848Z"
    },
    "papermill": {
     "duration": 0.062589,
     "end_time": "2021-03-08T19:23:11.460363",
     "exception": false,
     "start_time": "2021-03-08T19:23:11.397774",
     "status": "completed"
    },
    "tags": []
   },
   "outputs": [],
   "source": [
    "# some testing\n",
    "_trait = \"body height\"\n",
    "_gene = \"SCYL3\"\n",
    "assert (\n",
    "    _tmp.loc[_gene, _trait]\n",
    "    == smultixcan_results.loc[_gene, _trait] / smultixcan_results[_trait].sum()\n",
    ")"
   ]
  },
  {
   "cell_type": "code",
   "execution_count": 72,
   "metadata": {
    "execution": {
     "iopub.execute_input": "2021-03-08T19:23:11.563014Z",
     "iopub.status.busy": "2021-03-08T19:23:11.562621Z",
     "iopub.status.idle": "2021-03-08T19:23:11.571838Z",
     "shell.execute_reply": "2021-03-08T19:23:11.572125Z"
    },
    "papermill": {
     "duration": 0.060951,
     "end_time": "2021-03-08T19:23:11.572238",
     "exception": false,
     "start_time": "2021-03-08T19:23:11.511287",
     "status": "completed"
    },
    "tags": []
   },
   "outputs": [],
   "source": [
    "smultixcan_results_std = _tmp"
   ]
  },
  {
   "cell_type": "markdown",
   "metadata": {
    "papermill": {
     "duration": 0.049428,
     "end_time": "2021-03-08T19:23:11.672133",
     "exception": false,
     "start_time": "2021-03-08T19:23:11.622705",
     "status": "completed"
    },
    "tags": []
   },
   "source": [
    "## Analyze distributions"
   ]
  },
  {
   "cell_type": "code",
   "execution_count": 73,
   "metadata": {
    "execution": {
     "iopub.execute_input": "2021-03-08T19:23:11.773770Z",
     "iopub.status.busy": "2021-03-08T19:23:11.773405Z",
     "iopub.status.idle": "2021-03-08T19:23:12.444577Z",
     "shell.execute_reply": "2021-03-08T19:23:12.444200Z"
    },
    "papermill": {
     "duration": 0.722811,
     "end_time": "2021-03-08T19:23:12.444665",
     "exception": false,
     "start_time": "2021-03-08T19:23:11.721854",
     "status": "completed"
    },
    "tags": []
   },
   "outputs": [
    {
     "data": {
      "text/plain": [
       "Text(0.5, 1.0, 'Original distribution')"
      ]
     },
     "execution_count": 73,
     "metadata": {},
     "output_type": "execute_result"
    },
    {
     "data": {
      "image/png": "[encoded data removed]",
      "text/plain": [
       "<Figure size 622.625x360 with 1 Axes>"
      ]
     },
     "metadata": {
      "needs_background": "light"
     },
     "output_type": "display_data"
    }
   ],
   "source": [
    "fg = show_hist(traits_list, data=smultixcan_results)\n",
    "ax = fg.axes[0, 0]\n",
    "ax.set_xlim(-1, 10)\n",
    "ax.set_title(\"Original distribution\")"
   ]
  },
  {
   "cell_type": "code",
   "execution_count": 74,
   "metadata": {
    "execution": {
     "iopub.execute_input": "2021-03-08T19:23:12.553724Z",
     "iopub.status.busy": "2021-03-08T19:23:12.553350Z",
     "iopub.status.idle": "2021-03-08T19:23:12.874493Z",
     "shell.execute_reply": "2021-03-08T19:23:12.874116Z"
    },
    "papermill": {
     "duration": 0.374538,
     "end_time": "2021-03-08T19:23:12.874582",
     "exception": false,
     "start_time": "2021-03-08T19:23:12.500044",
     "status": "completed"
    },
    "tags": []
   },
   "outputs": [
    {
     "name": "stderr",
     "output_type": "stream",
     "text": [
      "/mnt/software/miniconda3/envs/phenoplier/lib/python3.8/site-packages/seaborn/distributions.py:305: UserWarning: Dataset has 0 variance; skipping density estimate.\n",
      "  warnings.warn(msg, UserWarning)\n",
      "/mnt/software/miniconda3/envs/phenoplier/lib/python3.8/site-packages/seaborn/distributions.py:305: UserWarning: Dataset has 0 variance; skipping density estimate.\n",
      "  warnings.warn(msg, UserWarning)\n",
      "/mnt/software/miniconda3/envs/phenoplier/lib/python3.8/site-packages/seaborn/distributions.py:305: UserWarning: Dataset has 0 variance; skipping density estimate.\n",
      "  warnings.warn(msg, UserWarning)\n",
      "/mnt/software/miniconda3/envs/phenoplier/lib/python3.8/site-packages/seaborn/distributions.py:305: UserWarning: Dataset has 0 variance; skipping density estimate.\n",
      "  warnings.warn(msg, UserWarning)\n"
     ]
    },
    {
     "data": {
      "text/plain": [
       "Text(0.5, 1.0, 'Standardized by $sum(zscores)$')"
      ]
     },
     "execution_count": 74,
     "metadata": {},
     "output_type": "execute_result"
    },
    {
     "data": {
      "image/png": "[encoded data removed]",
      "text/plain": [
       "<Figure size 622.625x360 with 1 Axes>"
      ]
     },
     "metadata": {
      "needs_background": "light"
     },
     "output_type": "display_data"
    }
   ],
   "source": [
    "fg = show_hist(traits_list, data=smultixcan_results_std)\n",
    "ax = fg.axes[0, 0]\n",
    "ax.set_xlim(-0.00005, 0.0003)\n",
    "ax.set_title(\"Standardized by $sum(zscores)$\")"
   ]
  },
  {
   "cell_type": "markdown",
   "metadata": {
    "papermill": {
     "duration": 0.052659,
     "end_time": "2021-03-08T19:23:12.980428",
     "exception": false,
     "start_time": "2021-03-08T19:23:12.927769",
     "status": "completed"
    },
    "tags": []
   },
   "source": [
    "Now the distribution makes more sense to me: `asthma` is slightly more towards the right than `height`, and the low sample size traits are at the leftmost."
   ]
  },
  {
   "cell_type": "markdown",
   "metadata": {
    "papermill": {
     "duration": 0.051265,
     "end_time": "2021-03-08T19:23:13.083323",
     "exception": false,
     "start_time": "2021-03-08T19:23:13.032058",
     "status": "completed"
    },
    "tags": []
   },
   "source": [
    "## Projection"
   ]
  },
  {
   "cell_type": "code",
   "execution_count": 75,
   "metadata": {
    "execution": {
     "iopub.execute_input": "2021-03-08T19:23:13.189400Z",
     "iopub.status.busy": "2021-03-08T19:23:13.189037Z",
     "iopub.status.idle": "2021-03-08T19:23:13.198782Z",
     "shell.execute_reply": "2021-03-08T19:23:13.199067Z"
    },
    "papermill": {
     "duration": 0.063742,
     "end_time": "2021-03-08T19:23:13.199176",
     "exception": false,
     "start_time": "2021-03-08T19:23:13.135434",
     "status": "completed"
    },
    "tags": []
   },
   "outputs": [],
   "source": [
    "mproj = MultiplierProjection()"
   ]
  },
  {
   "cell_type": "code",
   "execution_count": 76,
   "metadata": {
    "execution": {
     "iopub.execute_input": "2021-03-08T19:23:13.305921Z",
     "iopub.status.busy": "2021-03-08T19:23:13.305560Z",
     "iopub.status.idle": "2021-03-08T19:23:16.231108Z",
     "shell.execute_reply": "2021-03-08T19:23:16.231417Z"
    },
    "papermill": {
     "duration": 2.9802,
     "end_time": "2021-03-08T19:23:16.231529",
     "exception": false,
     "start_time": "2021-03-08T19:23:13.251329",
     "status": "completed"
    },
    "tags": []
   },
   "outputs": [],
   "source": [
    "smultixcan_into_multiplier = mproj.transform(smultixcan_results_std)"
   ]
  },
  {
   "cell_type": "code",
   "execution_count": 77,
   "metadata": {
    "execution": {
     "iopub.execute_input": "2021-03-08T19:23:16.342955Z",
     "iopub.status.busy": "2021-03-08T19:23:16.342591Z",
     "iopub.status.idle": "2021-03-08T19:23:16.353094Z",
     "shell.execute_reply": "2021-03-08T19:23:16.352779Z"
    },
    "papermill": {
     "duration": 0.065776,
     "end_time": "2021-03-08T19:23:16.353180",
     "exception": false,
     "start_time": "2021-03-08T19:23:16.287404",
     "status": "completed"
    },
    "tags": []
   },
   "outputs": [
    {
     "data": {
      "text/plain": [
       "(987, 3752)"
      ]
     },
     "execution_count": 77,
     "metadata": {},
     "output_type": "execute_result"
    }
   ],
   "source": [
    "smultixcan_into_multiplier.shape"
   ]
  },
  {
   "cell_type": "code",
   "execution_count": 78,
   "metadata": {
    "execution": {
     "iopub.execute_input": "2021-03-08T19:23:16.461392Z",
     "iopub.status.busy": "2021-03-08T19:23:16.461018Z",
     "iopub.status.idle": "2021-03-08T19:23:16.482646Z",
     "shell.execute_reply": "2021-03-08T19:23:16.482274Z"
    },
    "papermill": {
     "duration": 0.076158,
     "end_time": "2021-03-08T19:23:16.482734",
     "exception": false,
     "start_time": "2021-03-08T19:23:16.406576",
     "status": "completed"
    },
    "tags": []
   },
   "outputs": [
    {
     "data": {
      "text/html": [
       "<div>\n",
       "<style scoped>\n",
       "    .dataframe tbody tr th:only-of-type {\n",
       "        vertical-align: middle;\n",
       "    }\n",
       "\n",
       "    .dataframe tbody tr th {\n",
       "        vertical-align: top;\n",
       "    }\n",
       "\n",
       "    .dataframe thead th {\n",
       "        text-align: right;\n",
       "    }\n",
       "</style>\n",
       "<table border=\"1\" class=\"dataframe\">\n",
       "  <thead>\n",
       "    <tr style=\"text-align: right;\">\n",
       "      <th></th>\n",
       "      <th>100001_raw-Food_weight</th>\n",
       "      <th>100002_raw-Energy</th>\n",
       "      <th>100003_raw-Protein</th>\n",
       "      <th>100004_raw-Fat</th>\n",
       "      <th>100005_raw-Carbohydrate</th>\n",
       "      <th>100006_raw-Saturated_fat</th>\n",
       "      <th>100007_raw-Polyunsaturated_fat</th>\n",
       "      <th>100008_raw-Total_sugars</th>\n",
       "      <th>100009_raw-Englyst_dietary_fibre</th>\n",
       "      <th>100010-Portion_size</th>\n",
       "      <th>...</th>\n",
       "      <th>visual impairment</th>\n",
       "      <th>vitiligo</th>\n",
       "      <th>vitreous body disease</th>\n",
       "      <th>vocal cord polyp</th>\n",
       "      <th>voice disorders</th>\n",
       "      <th>wellbeing measurement AND family relationship</th>\n",
       "      <th>wheezing</th>\n",
       "      <th>whooping cough</th>\n",
       "      <th>worry measurement</th>\n",
       "      <th>wrist fracture</th>\n",
       "    </tr>\n",
       "  </thead>\n",
       "  <tbody>\n",
       "    <tr>\n",
       "      <th>LV1</th>\n",
       "      <td>-0.021292</td>\n",
       "      <td>-0.046815</td>\n",
       "      <td>-0.021585</td>\n",
       "      <td>-0.030324</td>\n",
       "      <td>-0.017773</td>\n",
       "      <td>-0.007844</td>\n",
       "      <td>-0.015529</td>\n",
       "      <td>-0.011609</td>\n",
       "      <td>-0.051342</td>\n",
       "      <td>-0.036813</td>\n",
       "      <td>...</td>\n",
       "      <td>-0.001614</td>\n",
       "      <td>0.002102</td>\n",
       "      <td>-0.005318</td>\n",
       "      <td>-0.003041</td>\n",
       "      <td>0.012873</td>\n",
       "      <td>-0.015951</td>\n",
       "      <td>-0.018904</td>\n",
       "      <td>0.009576</td>\n",
       "      <td>0.019755</td>\n",
       "      <td>0.010027</td>\n",
       "    </tr>\n",
       "    <tr>\n",
       "      <th>LV2</th>\n",
       "      <td>0.056061</td>\n",
       "      <td>-0.009864</td>\n",
       "      <td>-0.028888</td>\n",
       "      <td>-0.053573</td>\n",
       "      <td>0.006951</td>\n",
       "      <td>-0.054597</td>\n",
       "      <td>-0.030748</td>\n",
       "      <td>0.014519</td>\n",
       "      <td>-0.026933</td>\n",
       "      <td>0.009024</td>\n",
       "      <td>...</td>\n",
       "      <td>-0.029614</td>\n",
       "      <td>-0.033636</td>\n",
       "      <td>0.020768</td>\n",
       "      <td>0.010656</td>\n",
       "      <td>-0.013305</td>\n",
       "      <td>0.050738</td>\n",
       "      <td>0.012085</td>\n",
       "      <td>-0.032372</td>\n",
       "      <td>-0.024540</td>\n",
       "      <td>-0.002616</td>\n",
       "    </tr>\n",
       "    <tr>\n",
       "      <th>LV3</th>\n",
       "      <td>0.001650</td>\n",
       "      <td>-0.004262</td>\n",
       "      <td>0.019211</td>\n",
       "      <td>0.007484</td>\n",
       "      <td>0.004548</td>\n",
       "      <td>0.006548</td>\n",
       "      <td>0.006741</td>\n",
       "      <td>-0.005634</td>\n",
       "      <td>-0.022129</td>\n",
       "      <td>-0.017256</td>\n",
       "      <td>...</td>\n",
       "      <td>0.010539</td>\n",
       "      <td>-0.019591</td>\n",
       "      <td>-0.013391</td>\n",
       "      <td>-0.044369</td>\n",
       "      <td>0.020142</td>\n",
       "      <td>0.006052</td>\n",
       "      <td>0.020869</td>\n",
       "      <td>0.043931</td>\n",
       "      <td>0.058049</td>\n",
       "      <td>-0.013144</td>\n",
       "    </tr>\n",
       "    <tr>\n",
       "      <th>LV4</th>\n",
       "      <td>0.026265</td>\n",
       "      <td>-0.007235</td>\n",
       "      <td>0.004304</td>\n",
       "      <td>-0.042464</td>\n",
       "      <td>-0.001093</td>\n",
       "      <td>-0.041208</td>\n",
       "      <td>-0.051179</td>\n",
       "      <td>0.009060</td>\n",
       "      <td>-0.003999</td>\n",
       "      <td>-0.005874</td>\n",
       "      <td>...</td>\n",
       "      <td>-0.018162</td>\n",
       "      <td>0.012136</td>\n",
       "      <td>-0.046232</td>\n",
       "      <td>-0.030949</td>\n",
       "      <td>-0.040147</td>\n",
       "      <td>0.044545</td>\n",
       "      <td>0.009865</td>\n",
       "      <td>-0.049828</td>\n",
       "      <td>-0.013725</td>\n",
       "      <td>0.024988</td>\n",
       "    </tr>\n",
       "    <tr>\n",
       "      <th>LV5</th>\n",
       "      <td>-0.015616</td>\n",
       "      <td>0.010799</td>\n",
       "      <td>0.017792</td>\n",
       "      <td>0.010591</td>\n",
       "      <td>0.001972</td>\n",
       "      <td>0.040024</td>\n",
       "      <td>-0.027612</td>\n",
       "      <td>-0.001540</td>\n",
       "      <td>0.033072</td>\n",
       "      <td>0.009477</td>\n",
       "      <td>...</td>\n",
       "      <td>0.030632</td>\n",
       "      <td>-0.023253</td>\n",
       "      <td>0.015853</td>\n",
       "      <td>-0.002222</td>\n",
       "      <td>0.019385</td>\n",
       "      <td>-0.015501</td>\n",
       "      <td>-0.031477</td>\n",
       "      <td>-0.002554</td>\n",
       "      <td>-0.032620</td>\n",
       "      <td>0.017731</td>\n",
       "    </tr>\n",
       "  </tbody>\n",
       "</table>\n",
       "<p>5 rows × 3752 columns</p>\n",
       "</div>"
      ],
      "text/plain": [
       "     100001_raw-Food_weight  100002_raw-Energy  100003_raw-Protein  \\\n",
       "LV1               -0.021292          -0.046815           -0.021585   \n",
       "LV2                0.056061          -0.009864           -0.028888   \n",
       "LV3                0.001650          -0.004262            0.019211   \n",
       "LV4                0.026265          -0.007235            0.004304   \n",
       "LV5               -0.015616           0.010799            0.017792   \n",
       "\n",
       "     100004_raw-Fat  100005_raw-Carbohydrate  100006_raw-Saturated_fat  \\\n",
       "LV1       -0.030324                -0.017773                 -0.007844   \n",
       "LV2       -0.053573                 0.006951                 -0.054597   \n",
       "LV3        0.007484                 0.004548                  0.006548   \n",
       "LV4       -0.042464                -0.001093                 -0.041208   \n",
       "LV5        0.010591                 0.001972                  0.040024   \n",
       "\n",
       "     100007_raw-Polyunsaturated_fat  100008_raw-Total_sugars  \\\n",
       "LV1                       -0.015529                -0.011609   \n",
       "LV2                       -0.030748                 0.014519   \n",
       "LV3                        0.006741                -0.005634   \n",
       "LV4                       -0.051179                 0.009060   \n",
       "LV5                       -0.027612                -0.001540   \n",
       "\n",
       "     100009_raw-Englyst_dietary_fibre  100010-Portion_size  ...  \\\n",
       "LV1                         -0.051342            -0.036813  ...   \n",
       "LV2                         -0.026933             0.009024  ...   \n",
       "LV3                         -0.022129            -0.017256  ...   \n",
       "LV4                         -0.003999            -0.005874  ...   \n",
       "LV5                          0.033072             0.009477  ...   \n",
       "\n",
       "     visual impairment  vitiligo  vitreous body disease  vocal cord polyp  \\\n",
       "LV1          -0.001614  0.002102              -0.005318         -0.003041   \n",
       "LV2          -0.029614 -0.033636               0.020768          0.010656   \n",
       "LV3           0.010539 -0.019591              -0.013391         -0.044369   \n",
       "LV4          -0.018162  0.012136              -0.046232         -0.030949   \n",
       "LV5           0.030632 -0.023253               0.015853         -0.002222   \n",
       "\n",
       "     voice disorders  wellbeing measurement AND family relationship  wheezing  \\\n",
       "LV1         0.012873                                      -0.015951 -0.018904   \n",
       "LV2        -0.013305                                       0.050738  0.012085   \n",
       "LV3         0.020142                                       0.006052  0.020869   \n",
       "LV4        -0.040147                                       0.044545  0.009865   \n",
       "LV5         0.019385                                      -0.015501 -0.031477   \n",
       "\n",
       "     whooping cough  worry measurement  wrist fracture  \n",
       "LV1        0.009576           0.019755        0.010027  \n",
       "LV2       -0.032372          -0.024540       -0.002616  \n",
       "LV3        0.043931           0.058049       -0.013144  \n",
       "LV4       -0.049828          -0.013725        0.024988  \n",
       "LV5       -0.002554          -0.032620        0.017731  \n",
       "\n",
       "[5 rows x 3752 columns]"
      ]
     },
     "execution_count": 78,
     "metadata": {},
     "output_type": "execute_result"
    }
   ],
   "source": [
    "smultixcan_into_multiplier.head()"
   ]
  },
  {
   "cell_type": "code",
   "execution_count": 79,
   "metadata": {
    "execution": {
     "iopub.execute_input": "2021-03-08T19:23:16.590493Z",
     "iopub.status.busy": "2021-03-08T19:23:16.590082Z",
     "iopub.status.idle": "2021-03-08T19:23:16.602561Z",
     "shell.execute_reply": "2021-03-08T19:23:16.602187Z"
    },
    "papermill": {
     "duration": 0.066941,
     "end_time": "2021-03-08T19:23:16.602651",
     "exception": false,
     "start_time": "2021-03-08T19:23:16.535710",
     "status": "completed"
    },
    "tags": []
   },
   "outputs": [
    {
     "data": {
      "text/plain": [
       "30220_raw-Basophill_percentage                                   0.181608\n",
       "30130_raw-Monocyte_count                                         0.158166\n",
       "30000_raw-White_blood_cell_leukocyte_count                       0.146061\n",
       "myeloid white cell count                                         0.133998\n",
       "leukocyte count                                                  0.131486\n",
       "sum of neutrophil and eosinophil counts                          0.128405\n",
       "granulocyte count                                                0.128316\n",
       "sum of basophil and neutrophil counts                            0.126586\n",
       "neutrophil count                                                 0.125868\n",
       "30160-Basophill_count                                            0.122953\n",
       "30180_raw-Lymphocyte_percentage                                  0.119818\n",
       "30140_raw-Neutrophill_count                                      0.113055\n",
       "monocyte count                                                   0.113054\n",
       "20003_1140875420-Treatmentmedication_code_baclofen               0.111199\n",
       "30200_raw-Neutrophill_percentage                                 0.106398\n",
       "30190_raw-Monocyte_percentage                                    0.095853\n",
       "30120_raw-Lymphocyte_count                                       0.089833\n",
       "M13_DORSOPATHYOTH-Other_dorsopathies_not_elsewhere_classified    0.081227\n",
       "AB1_VIRAL_CNS-Viral_infections_of_the_central_nervous_system     0.080479\n",
       "20022_raw-Birth_weight                                           0.080032\n",
       "Name: LV603, dtype: float64"
      ]
     },
     "metadata": {},
     "output_type": "display_data"
    }
   ],
   "source": [
    "_tmp = smultixcan_into_multiplier.loc[\"LV603\"].sort_values(ascending=False).head(20)\n",
    "display(_tmp)"
   ]
  },
  {
   "cell_type": "code",
   "execution_count": 80,
   "metadata": {
    "execution": {
     "iopub.execute_input": "2021-03-08T19:23:16.711739Z",
     "iopub.status.busy": "2021-03-08T19:23:16.711379Z",
     "iopub.status.idle": "2021-03-08T19:23:16.722826Z",
     "shell.execute_reply": "2021-03-08T19:23:16.722462Z"
    },
    "papermill": {
     "duration": 0.066561,
     "end_time": "2021-03-08T19:23:16.722914",
     "exception": false,
     "start_time": "2021-03-08T19:23:16.656353",
     "status": "completed"
    },
    "tags": []
   },
   "outputs": [
    {
     "data": {
      "text/plain": [
       "n             349861.0\n",
       "n_cases            NaN\n",
       "n_controls         NaN\n",
       "Name: 30220_raw-Basophill_percentage, dtype: float64"
      ]
     },
     "execution_count": 80,
     "metadata": {},
     "output_type": "execute_result"
    }
   ],
   "source": [
    "traits_sample_size_df.loc[_tmp.index[0]]"
   ]
  },
  {
   "cell_type": "code",
   "execution_count": 81,
   "metadata": {
    "execution": {
     "iopub.execute_input": "2021-03-08T19:23:16.831330Z",
     "iopub.status.busy": "2021-03-08T19:23:16.830900Z",
     "iopub.status.idle": "2021-03-08T19:23:16.845526Z",
     "shell.execute_reply": "2021-03-08T19:23:16.845178Z"
    },
    "papermill": {
     "duration": 0.069528,
     "end_time": "2021-03-08T19:23:16.845622",
     "exception": false,
     "start_time": "2021-03-08T19:23:16.776094",
     "status": "completed"
    },
    "tags": []
   },
   "outputs": [
    {
     "data": {
      "text/plain": [
       "coronary artery disease                                           0.210545\n",
       "5132_raw-3mm_strong_meridian_right                                0.179597\n",
       "5134_raw-6mm_strong_meridian_left                                 0.167916\n",
       "5099_raw-3mm_weak_meridian_right                                  0.161459\n",
       "5133_raw-6mm_strong_meridian_right                                0.160688\n",
       "5098_raw-6mm_weak_meridian_right                                  0.157502\n",
       "I9_CORATHER-Coronary_atherosclerosis                              0.154131\n",
       "5097_raw-6mm_weak_meridian_left                                   0.150595\n",
       "5096_raw-3mm_weak_meridian_left                                   0.150400\n",
       "5135_raw-3mm_strong_meridian_left                                 0.149901\n",
       "I9_IHD-Ischaemic_heart_disease_wide_definition                    0.148814\n",
       "I9_MI_STRICT-Myocardial_infarction_strict                         0.125965\n",
       "I9_MI-Myocardial_infarction                                       0.125965\n",
       "acute myocardial infarction                                       0.119488\n",
       "6150_1-Vascularheart_problems_diagnosed_by_doctor_Heart_attack    0.110447\n",
       "1508_4-Coffee_type_Other_type_of_coffee                           0.107850\n",
       "20079_4-Dayofweek_questionnaire_completion_requested_Thursday     0.107839\n",
       "6072_1-OCT_measured_left_Measurable                               0.105302\n",
       "20089_461-Type_of_meals_eaten_Takeaway_meals                      0.105030\n",
       "CAMPYLOENTERITIS-Campylobacter_enteritis                          0.102211\n",
       "Name: LV136, dtype: float64"
      ]
     },
     "metadata": {},
     "output_type": "display_data"
    }
   ],
   "source": [
    "_tmp = smultixcan_into_multiplier.loc[\"LV136\"].sort_values(ascending=False).head(20)\n",
    "display(_tmp)"
   ]
  },
  {
   "cell_type": "code",
   "execution_count": 82,
   "metadata": {
    "execution": {
     "iopub.execute_input": "2021-03-08T19:23:16.956857Z",
     "iopub.status.busy": "2021-03-08T19:23:16.956416Z",
     "iopub.status.idle": "2021-03-08T19:23:16.967922Z",
     "shell.execute_reply": "2021-03-08T19:23:16.967545Z"
    },
    "papermill": {
     "duration": 0.068034,
     "end_time": "2021-03-08T19:23:16.968010",
     "exception": false,
     "start_time": "2021-03-08T19:23:16.899976",
     "status": "completed"
    },
    "tags": []
   },
   "outputs": [
    {
     "data": {
      "text/plain": [
       "n             545499.0\n",
       "n_cases        73570.0\n",
       "n_controls    471929.0\n",
       "Name: coronary artery disease, dtype: float64"
      ]
     },
     "execution_count": 82,
     "metadata": {},
     "output_type": "execute_result"
    }
   ],
   "source": [
    "traits_sample_size_df.loc[_tmp.index[0]]"
   ]
  },
  {
   "cell_type": "code",
   "execution_count": 83,
   "metadata": {
    "execution": {
     "iopub.execute_input": "2021-03-08T19:23:17.077208Z",
     "iopub.status.busy": "2021-03-08T19:23:17.076841Z",
     "iopub.status.idle": "2021-03-08T19:23:17.088957Z",
     "shell.execute_reply": "2021-03-08T19:23:17.088535Z"
    },
    "papermill": {
     "duration": 0.067089,
     "end_time": "2021-03-08T19:23:17.089045",
     "exception": false,
     "start_time": "2021-03-08T19:23:17.021956",
     "status": "completed"
    },
    "tags": []
   },
   "outputs": [
    {
     "data": {
      "text/plain": [
       "celiac disease                                                                                  0.714810\n",
       "rheumatoid arthritis                                                                            0.600279\n",
       "K11_COELIAC-Coeliac_disease                                                                     0.600040\n",
       "malabsorption syndrome                                                                          0.570880\n",
       "2986-Started_insulin_within_one_year_diagnosis_of_diabetes                                      0.350327\n",
       "6144_3-Never_eat_eggs_dairy_wheat_sugar_Wheat_products                                          0.338204\n",
       "systemic lupus erythematosus                                                                    0.327493\n",
       "hyperthyroidism AND thyrotoxicosis                                                              0.309382\n",
       "20003_1140883066-Treatmentmedication_code_insulin_product                                       0.289095\n",
       "psoriasis                                                                                       0.284361\n",
       "2976_raw-Age_diabetes_diagnosed                                                                 0.282864\n",
       "hypothyroidism AND myxedema                                                                     0.248533\n",
       "leukocyte count                                                                                 0.242229\n",
       "30000_raw-White_blood_cell_leukocyte_count                                                      0.229804\n",
       "6153_3-Medication_for_cholesterol_blood_pressure_diabetes_or_take_exogenous_hormones_Insulin    0.224296\n",
       "20003_1141191044-Treatmentmedication_code_levothyroxine_sodium                                  0.220401\n",
       "E4_DM1-Type_1_diabetes                                                                          0.210884\n",
       "6177_3-Medication_for_cholesterol_blood_pressure_or_diabetes_Insulin                            0.209958\n",
       "lymphocyte count                                                                                0.206800\n",
       "type i diabetes mellitus                                                                        0.206408\n",
       "Name: LV844, dtype: float64"
      ]
     },
     "metadata": {},
     "output_type": "display_data"
    }
   ],
   "source": [
    "_tmp = smultixcan_into_multiplier.loc[\"LV844\"].sort_values(ascending=False).head(20)\n",
    "display(_tmp)"
   ]
  },
  {
   "cell_type": "code",
   "execution_count": 84,
   "metadata": {
    "execution": {
     "iopub.execute_input": "2021-03-08T19:23:17.200740Z",
     "iopub.status.busy": "2021-03-08T19:23:17.200341Z",
     "iopub.status.idle": "2021-03-08T19:23:17.211959Z",
     "shell.execute_reply": "2021-03-08T19:23:17.211588Z"
    },
    "papermill": {
     "duration": 0.068741,
     "end_time": "2021-03-08T19:23:17.212047",
     "exception": false,
     "start_time": "2021-03-08T19:23:17.143306",
     "status": "completed"
    },
    "tags": []
   },
   "outputs": [
    {
     "data": {
      "text/plain": [
       "n             361141.0\n",
       "n_cases         1587.0\n",
       "n_controls    359554.0\n",
       "Name: celiac disease, dtype: float64"
      ]
     },
     "execution_count": 84,
     "metadata": {},
     "output_type": "execute_result"
    }
   ],
   "source": [
    "traits_sample_size_df.loc[_tmp.index[0]]"
   ]
  },
  {
   "cell_type": "markdown",
   "metadata": {
    "papermill": {
     "duration": 0.053722,
     "end_time": "2021-03-08T19:23:17.321101",
     "exception": false,
     "start_time": "2021-03-08T19:23:17.267379",
     "status": "completed"
    },
    "tags": []
   },
   "source": [
    "**Conclusion:** trait associations with known LVs are preserved with this approach."
   ]
  },
  {
   "cell_type": "markdown",
   "metadata": {
    "papermill": {
     "duration": 0.054322,
     "end_time": "2021-03-08T19:23:17.428905",
     "exception": false,
     "start_time": "2021-03-08T19:23:17.374583",
     "status": "completed"
    },
    "tags": []
   },
   "source": [
    "# Conclusion"
   ]
  },
  {
   "cell_type": "markdown",
   "metadata": {
    "papermill": {
     "duration": 0.054031,
     "end_time": "2021-03-08T19:23:17.536519",
     "exception": false,
     "start_time": "2021-03-08T19:23:17.482488",
     "status": "completed"
    },
    "tags": []
   },
   "source": [
    "We select the last approach (Approach \\#3) for downstream analyses."
   ]
  },
  {
   "cell_type": "code",
   "execution_count": null,
   "metadata": {
    "papermill": {
     "duration": 0.053357,
     "end_time": "2021-03-08T19:23:17.643494",
     "exception": false,
     "start_time": "2021-03-08T19:23:17.590137",
     "status": "completed"
    },
    "tags": []
   },
   "outputs": [],
   "source": []
  }
 ],
 "metadata": {
  "jupytext": {
   "cell_metadata_filter": "all,-execution,-papermill,-trusted",
   "formats": "ipynb,py//py:percent"
  },
  "kernelspec": {
   "display_name": "Python 3",
   "language": "python",
   "name": "python3"
  },
  "language_info": {
   "codemirror_mode": {
    "name": "ipython",
    "version": 3
   },
   "file_extension": ".py",
   "mimetype": "text/x-python",
   "name": "python",
   "nbconvert_exporter": "python",
   "pygments_lexer": "ipython3",
   "version": "3.8.6"
  },
  "papermill": {
   "default_parameters": {},
   "duration": 43.265973,
   "end_time": "2021-03-08T19:23:18.956787",
   "environment_variables": {},
   "exception": null,
   "input_path": "05_projections/005_00-data_analysis.ipynb",
   "output_path": "05_projections/005_00-data_analysis.run.ipynb",
   "parameters": {},
   "start_time": "2021-03-08T19:22:35.690814",
   "version": "2.2.2"
  },
  "toc-autonumbering": true
 },
 "nbformat": 4,
 "nbformat_minor": 4
}
