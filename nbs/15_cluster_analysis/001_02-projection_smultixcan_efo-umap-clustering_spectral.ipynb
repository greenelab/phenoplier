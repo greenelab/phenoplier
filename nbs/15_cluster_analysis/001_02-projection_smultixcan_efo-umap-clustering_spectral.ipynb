{
 "cells": [
  {
   "cell_type": "markdown",
   "metadata": {
    "papermill": {
     "duration": 0.053854,
     "end_time": "2020-12-02T21:47:45.286086",
     "exception": false,
     "start_time": "2020-12-02T21:47:45.232232",
     "status": "completed"
    },
    "tags": []
   },
   "source": [
    "# Description"
   ]
  },
  {
   "cell_type": "markdown",
   "metadata": {
    "papermill": {
     "duration": 0.017814,
     "end_time": "2020-12-02T21:47:45.323082",
     "exception": false,
     "start_time": "2020-12-02T21:47:45.305268",
     "status": "completed"
    },
    "tags": []
   },
   "source": [
    "Runs spectral clustering on the umap version of the data."
   ]
  },
  {
   "cell_type": "markdown",
   "metadata": {
    "papermill": {
     "duration": 0.01763,
     "end_time": "2020-12-02T21:47:45.358197",
     "exception": false,
     "start_time": "2020-12-02T21:47:45.340567",
     "status": "completed"
    },
    "tags": []
   },
   "source": [
    "# Environment variables"
   ]
  },
  {
   "cell_type": "code",
   "execution_count": 1,
   "metadata": {
    "execution": {
     "iopub.execute_input": "2020-12-02T21:47:45.396904Z",
     "iopub.status.busy": "2020-12-02T21:47:45.396451Z",
     "iopub.status.idle": "2020-12-02T21:47:45.406969Z",
     "shell.execute_reply": "2020-12-02T21:47:45.407280Z"
    },
    "papermill": {
     "duration": 0.031617,
     "end_time": "2020-12-02T21:47:45.407466",
     "exception": false,
     "start_time": "2020-12-02T21:47:45.375849",
     "status": "completed"
    },
    "tags": []
   },
   "outputs": [
    {
     "data": {
      "text/plain": [
       "3"
      ]
     },
     "metadata": {},
     "output_type": "display_data"
    }
   ],
   "source": [
    "from IPython.display import display\n",
    "\n",
    "import conf\n",
    "\n",
    "N_JOBS = conf.GENERAL['N_JOBS']\n",
    "display(N_JOBS)"
   ]
  },
  {
   "cell_type": "code",
   "execution_count": 2,
   "metadata": {
    "execution": {
     "iopub.execute_input": "2020-12-02T21:47:45.449097Z",
     "iopub.status.busy": "2020-12-02T21:47:45.448702Z",
     "iopub.status.idle": "2020-12-02T21:47:45.451210Z",
     "shell.execute_reply": "2020-12-02T21:47:45.450828Z"
    },
    "papermill": {
     "duration": 0.024947,
     "end_time": "2020-12-02T21:47:45.451298",
     "exception": false,
     "start_time": "2020-12-02T21:47:45.426351",
     "status": "completed"
    },
    "tags": []
   },
   "outputs": [
    {
     "name": "stdout",
     "output_type": "stream",
     "text": [
      "env: MKL_NUM_THREADS=3\n",
      "env: OPEN_BLAS_NUM_THREADS=3\n",
      "env: NUMEXPR_NUM_THREADS=3\n",
      "env: OMP_NUM_THREADS=3\n"
     ]
    }
   ],
   "source": [
    "%env MKL_NUM_THREADS=$N_JOBS\n",
    "%env OPEN_BLAS_NUM_THREADS=$N_JOBS\n",
    "%env NUMEXPR_NUM_THREADS=$N_JOBS\n",
    "%env OMP_NUM_THREADS=$N_JOBS"
   ]
  },
  {
   "cell_type": "markdown",
   "metadata": {
    "papermill": {
     "duration": 0.019795,
     "end_time": "2020-12-02T21:47:45.490104",
     "exception": false,
     "start_time": "2020-12-02T21:47:45.470309",
     "status": "completed"
    },
    "tags": []
   },
   "source": [
    "# Modules loading"
   ]
  },
  {
   "cell_type": "code",
   "execution_count": 3,
   "metadata": {
    "execution": {
     "iopub.execute_input": "2020-12-02T21:47:45.531379Z",
     "iopub.status.busy": "2020-12-02T21:47:45.530997Z",
     "iopub.status.idle": "2020-12-02T21:47:45.539134Z",
     "shell.execute_reply": "2020-12-02T21:47:45.538748Z"
    },
    "papermill": {
     "duration": 0.029549,
     "end_time": "2020-12-02T21:47:45.539223",
     "exception": false,
     "start_time": "2020-12-02T21:47:45.509674",
     "status": "completed"
    },
    "tags": []
   },
   "outputs": [],
   "source": [
    "%load_ext autoreload\n",
    "%autoreload 2"
   ]
  },
  {
   "cell_type": "code",
   "execution_count": 4,
   "metadata": {
    "execution": {
     "iopub.execute_input": "2020-12-02T21:47:45.579239Z",
     "iopub.status.busy": "2020-12-02T21:47:45.578875Z",
     "iopub.status.idle": "2020-12-02T21:47:47.170961Z",
     "shell.execute_reply": "2020-12-02T21:47:47.171301Z"
    },
    "papermill": {
     "duration": 1.613247,
     "end_time": "2020-12-02T21:47:47.171428",
     "exception": false,
     "start_time": "2020-12-02T21:47:45.558181",
     "status": "completed"
    },
    "tags": []
   },
   "outputs": [],
   "source": [
    "from pathlib import Path\n",
    "\n",
    "import numpy as np\n",
    "import pandas as pd\n",
    "import umap\n",
    "import matplotlib.pyplot as plt\n",
    "import seaborn as sns\n",
    "\n",
    "from utils import generate_result_set_name"
   ]
  },
  {
   "cell_type": "markdown",
   "metadata": {
    "papermill": {
     "duration": 0.018844,
     "end_time": "2020-12-02T21:47:47.211338",
     "exception": false,
     "start_time": "2020-12-02T21:47:47.192494",
     "status": "completed"
    },
    "tags": []
   },
   "source": [
    "# Settings"
   ]
  },
  {
   "cell_type": "code",
   "execution_count": 5,
   "metadata": {
    "execution": {
     "iopub.execute_input": "2020-12-02T21:47:47.251283Z",
     "iopub.status.busy": "2020-12-02T21:47:47.250898Z",
     "iopub.status.idle": "2020-12-02T21:47:47.262357Z",
     "shell.execute_reply": "2020-12-02T21:47:47.262643Z"
    },
    "papermill": {
     "duration": 0.032903,
     "end_time": "2020-12-02T21:47:47.262755",
     "exception": false,
     "start_time": "2020-12-02T21:47:47.229852",
     "status": "completed"
    },
    "tags": []
   },
   "outputs": [],
   "source": [
    "INITIAL_RANDOM_STATE = 50000"
   ]
  },
  {
   "cell_type": "markdown",
   "metadata": {
    "papermill": {
     "duration": 0.018441,
     "end_time": "2020-12-02T21:47:47.299949",
     "exception": false,
     "start_time": "2020-12-02T21:47:47.281508",
     "status": "completed"
    },
    "tags": []
   },
   "source": [
    "## Input data"
   ]
  },
  {
   "cell_type": "code",
   "execution_count": 6,
   "metadata": {
    "execution": {
     "iopub.execute_input": "2020-12-02T21:47:47.339469Z",
     "iopub.status.busy": "2020-12-02T21:47:47.339095Z",
     "iopub.status.idle": "2020-12-02T21:47:47.351063Z",
     "shell.execute_reply": "2020-12-02T21:47:47.350682Z"
    },
    "papermill": {
     "duration": 0.032809,
     "end_time": "2020-12-02T21:47:47.351152",
     "exception": false,
     "start_time": "2020-12-02T21:47:47.318343",
     "status": "completed"
    },
    "tags": []
   },
   "outputs": [],
   "source": [
    "INPUT_SUBSET = 'umap'"
   ]
  },
  {
   "cell_type": "code",
   "execution_count": 7,
   "metadata": {
    "execution": {
     "iopub.execute_input": "2020-12-02T21:47:47.391927Z",
     "iopub.status.busy": "2020-12-02T21:47:47.391553Z",
     "iopub.status.idle": "2020-12-02T21:47:47.403391Z",
     "shell.execute_reply": "2020-12-02T21:47:47.403001Z"
    },
    "papermill": {
     "duration": 0.032961,
     "end_time": "2020-12-02T21:47:47.403479",
     "exception": false,
     "start_time": "2020-12-02T21:47:47.370518",
     "status": "completed"
    },
    "tags": []
   },
   "outputs": [],
   "source": [
    "INPUT_STEM = 'z_score_std-projection-smultixcan-efo_partial-mashr-zscores'"
   ]
  },
  {
   "cell_type": "code",
   "execution_count": 8,
   "metadata": {
    "execution": {
     "iopub.execute_input": "2020-12-02T21:47:47.444384Z",
     "iopub.status.busy": "2020-12-02T21:47:47.443989Z",
     "iopub.status.idle": "2020-12-02T21:47:47.455797Z",
     "shell.execute_reply": "2020-12-02T21:47:47.455472Z"
    },
    "papermill": {
     "duration": 0.032874,
     "end_time": "2020-12-02T21:47:47.455892",
     "exception": false,
     "start_time": "2020-12-02T21:47:47.423018",
     "status": "completed"
    },
    "tags": []
   },
   "outputs": [],
   "source": [
    "DR_OPTIONS = {\n",
    "    'n_components': 50,\n",
    "    'metric': 'euclidean',\n",
    "    'n_neighbors': 15,\n",
    "    'random_state': 0,\n",
    "}"
   ]
  },
  {
   "cell_type": "code",
   "execution_count": 9,
   "metadata": {
    "execution": {
     "iopub.execute_input": "2020-12-02T21:47:47.497889Z",
     "iopub.status.busy": "2020-12-02T21:47:47.497472Z",
     "iopub.status.idle": "2020-12-02T21:47:47.511871Z",
     "shell.execute_reply": "2020-12-02T21:47:47.512179Z"
    },
    "papermill": {
     "duration": 0.036983,
     "end_time": "2020-12-02T21:47:47.512291",
     "exception": false,
     "start_time": "2020-12-02T21:47:47.475308",
     "status": "completed"
    },
    "tags": []
   },
   "outputs": [
    {
     "data": {
      "text/plain": [
       "PosixPath('/home/miltondp/projects/labs/greenelab/phenoplier/base/results/data_transformations/umap/umap-z_score_std-projection-smultixcan-efo_partial-mashr-zscores-metric_euclidean-n_components_50-n_neighbors_15-random_state_0.pkl')"
      ]
     },
     "metadata": {},
     "output_type": "display_data"
    },
    {
     "data": {
      "text/plain": [
       "'umap-z_score_std-projection-smultixcan-efo_partial-mashr-zscores-metric_euclidean-n_components_50-n_neighbors_15-random_state_0'"
      ]
     },
     "metadata": {},
     "output_type": "display_data"
    }
   ],
   "source": [
    "input_filepath = Path(\n",
    "    conf.RESULTS[\"DATA_TRANSFORMATIONS_DIR\"],\n",
    "    INPUT_SUBSET,\n",
    "    generate_result_set_name(\n",
    "        DR_OPTIONS,\n",
    "        prefix=f'{INPUT_SUBSET}-{INPUT_STEM}-',\n",
    "        suffix='.pkl'\n",
    "    )\n",
    ").resolve()\n",
    "display(input_filepath)\n",
    "\n",
    "assert input_filepath.exists(), 'Input file does not exist'\n",
    "\n",
    "input_filepath_stem = input_filepath.stem\n",
    "display(input_filepath_stem)"
   ]
  },
  {
   "cell_type": "markdown",
   "metadata": {
    "papermill": {
     "duration": 0.019013,
     "end_time": "2020-12-02T21:47:47.551759",
     "exception": false,
     "start_time": "2020-12-02T21:47:47.532746",
     "status": "completed"
    },
    "tags": []
   },
   "source": [
    "## Clustering"
   ]
  },
  {
   "cell_type": "code",
   "execution_count": 10,
   "metadata": {
    "execution": {
     "iopub.execute_input": "2020-12-02T21:47:47.592473Z",
     "iopub.status.busy": "2020-12-02T21:47:47.592111Z",
     "iopub.status.idle": "2020-12-02T21:47:47.609692Z",
     "shell.execute_reply": "2020-12-02T21:47:47.609984Z"
    },
    "papermill": {
     "duration": 0.039294,
     "end_time": "2020-12-02T21:47:47.610098",
     "exception": false,
     "start_time": "2020-12-02T21:47:47.570804",
     "status": "completed"
    },
    "tags": []
   },
   "outputs": [],
   "source": [
    "from sklearn.cluster import SpectralClustering"
   ]
  },
  {
   "cell_type": "code",
   "execution_count": 11,
   "metadata": {
    "execution": {
     "iopub.execute_input": "2020-12-02T21:47:47.653038Z",
     "iopub.status.busy": "2020-12-02T21:47:47.652631Z",
     "iopub.status.idle": "2020-12-02T21:47:47.664215Z",
     "shell.execute_reply": "2020-12-02T21:47:47.663861Z"
    },
    "papermill": {
     "duration": 0.033947,
     "end_time": "2020-12-02T21:47:47.664302",
     "exception": false,
     "start_time": "2020-12-02T21:47:47.630355",
     "status": "completed"
    },
    "tags": []
   },
   "outputs": [],
   "source": [
    "CLUSTERING_ATTRIBUTES_TO_SAVE = ['n_clusters']"
   ]
  },
  {
   "cell_type": "code",
   "execution_count": 12,
   "metadata": {
    "execution": {
     "iopub.execute_input": "2020-12-02T21:47:47.706594Z",
     "iopub.status.busy": "2020-12-02T21:47:47.706223Z",
     "iopub.status.idle": "2020-12-02T21:47:47.718864Z",
     "shell.execute_reply": "2020-12-02T21:47:47.718486Z"
    },
    "papermill": {
     "duration": 0.034627,
     "end_time": "2020-12-02T21:47:47.718952",
     "exception": false,
     "start_time": "2020-12-02T21:47:47.684325",
     "status": "completed"
    },
    "tags": []
   },
   "outputs": [
    {
     "data": {
      "text/plain": [
       "{'K_MIN': 2,\n",
       " 'K_MAX': 60,\n",
       " 'N_REPS_PER_K': 5,\n",
       " 'KMEANS_N_INIT': 10,\n",
       " 'N_NEIGHBORS': None,\n",
       " 'AFFINITY': 'rbf'}"
      ]
     },
     "metadata": {},
     "output_type": "display_data"
    }
   ],
   "source": [
    "CLUSTERING_OPTIONS = {}\n",
    "\n",
    "CLUSTERING_OPTIONS['K_MIN'] = 2\n",
    "CLUSTERING_OPTIONS['K_MAX'] = 60 # sqrt(3749)\n",
    "CLUSTERING_OPTIONS['N_REPS_PER_K'] = 5\n",
    "CLUSTERING_OPTIONS['KMEANS_N_INIT'] = 10\n",
    "CLUSTERING_OPTIONS['N_NEIGHBORS'] = None\n",
    "CLUSTERING_OPTIONS['AFFINITY'] = 'rbf' # nearest neighbors does not work well with umap\n",
    "\n",
    "display(CLUSTERING_OPTIONS)"
   ]
  },
  {
   "cell_type": "code",
   "execution_count": 13,
   "metadata": {
    "execution": {
     "iopub.execute_input": "2020-12-02T21:47:47.762037Z",
     "iopub.status.busy": "2020-12-02T21:47:47.761667Z",
     "iopub.status.idle": "2020-12-02T21:47:47.774469Z",
     "shell.execute_reply": "2020-12-02T21:47:47.774084Z"
    },
    "papermill": {
     "duration": 0.035661,
     "end_time": "2020-12-02T21:47:47.774558",
     "exception": false,
     "start_time": "2020-12-02T21:47:47.738897",
     "status": "completed"
    },
    "tags": []
   },
   "outputs": [],
   "source": [
    "CLUSTERERS = {}\n",
    "\n",
    "idx = 0\n",
    "random_state = INITIAL_RANDOM_STATE\n",
    "\n",
    "for k in range(CLUSTERING_OPTIONS['K_MIN'], CLUSTERING_OPTIONS['K_MAX']+1):\n",
    "    for i in range(CLUSTERING_OPTIONS['N_REPS_PER_K']):\n",
    "        clus = SpectralClustering(\n",
    "                n_clusters=k,\n",
    "                n_init=CLUSTERING_OPTIONS['KMEANS_N_INIT'],\n",
    "                affinity=CLUSTERING_OPTIONS['AFFINITY'],\n",
    "                n_neighbors=CLUSTERING_OPTIONS['N_NEIGHBORS'],\n",
    "                random_state=random_state,\n",
    "            )\n",
    "        \n",
    "        method_name = type(clus).__name__\n",
    "        CLUSTERERS[f'{method_name} #{idx}'] = clus\n",
    "        \n",
    "        random_state = random_state + 1\n",
    "        idx = idx + 1"
   ]
  },
  {
   "cell_type": "code",
   "execution_count": 14,
   "metadata": {
    "execution": {
     "iopub.execute_input": "2020-12-02T21:47:47.817591Z",
     "iopub.status.busy": "2020-12-02T21:47:47.817216Z",
     "iopub.status.idle": "2020-12-02T21:47:47.829876Z",
     "shell.execute_reply": "2020-12-02T21:47:47.829500Z"
    },
    "papermill": {
     "duration": 0.034866,
     "end_time": "2020-12-02T21:47:47.829976",
     "exception": false,
     "start_time": "2020-12-02T21:47:47.795110",
     "status": "completed"
    },
    "tags": []
   },
   "outputs": [
    {
     "data": {
      "text/plain": [
       "295"
      ]
     },
     "metadata": {},
     "output_type": "display_data"
    }
   ],
   "source": [
    "display(len(CLUSTERERS))"
   ]
  },
  {
   "cell_type": "code",
   "execution_count": 15,
   "metadata": {
    "execution": {
     "iopub.execute_input": "2020-12-02T21:47:47.873720Z",
     "iopub.status.busy": "2020-12-02T21:47:47.873343Z",
     "iopub.status.idle": "2020-12-02T21:47:47.888189Z",
     "shell.execute_reply": "2020-12-02T21:47:47.888474Z"
    },
    "papermill": {
     "duration": 0.037685,
     "end_time": "2020-12-02T21:47:47.888582",
     "exception": false,
     "start_time": "2020-12-02T21:47:47.850897",
     "status": "completed"
    },
    "tags": []
   },
   "outputs": [
    {
     "data": {
      "text/plain": [
       "('SpectralClustering #0',\n",
       " SpectralClustering(n_clusters=2, n_neighbors=None, random_state=50000))"
      ]
     },
     "metadata": {},
     "output_type": "display_data"
    },
    {
     "data": {
      "text/plain": [
       "('SpectralClustering #1',\n",
       " SpectralClustering(n_clusters=2, n_neighbors=None, random_state=50001))"
      ]
     },
     "metadata": {},
     "output_type": "display_data"
    }
   ],
   "source": [
    "_iter = iter(CLUSTERERS.items())\n",
    "display(next(_iter))\n",
    "display(next(_iter))"
   ]
  },
  {
   "cell_type": "code",
   "execution_count": 16,
   "metadata": {
    "execution": {
     "iopub.execute_input": "2020-12-02T21:47:47.933385Z",
     "iopub.status.busy": "2020-12-02T21:47:47.933022Z",
     "iopub.status.idle": "2020-12-02T21:47:47.945237Z",
     "shell.execute_reply": "2020-12-02T21:47:47.944913Z"
    },
    "papermill": {
     "duration": 0.035137,
     "end_time": "2020-12-02T21:47:47.945325",
     "exception": false,
     "start_time": "2020-12-02T21:47:47.910188",
     "status": "completed"
    },
    "tags": []
   },
   "outputs": [
    {
     "data": {
      "text/plain": [
       "'SpectralClustering'"
      ]
     },
     "metadata": {},
     "output_type": "display_data"
    }
   ],
   "source": [
    "clustering_method_name = method_name\n",
    "display(clustering_method_name)"
   ]
  },
  {
   "cell_type": "markdown",
   "metadata": {
    "papermill": {
     "duration": 0.020518,
     "end_time": "2020-12-02T21:47:47.987286",
     "exception": false,
     "start_time": "2020-12-02T21:47:47.966768",
     "status": "completed"
    },
    "tags": []
   },
   "source": [
    "## Output directory"
   ]
  },
  {
   "cell_type": "code",
   "execution_count": 17,
   "metadata": {
    "execution": {
     "iopub.execute_input": "2020-12-02T21:47:48.030934Z",
     "iopub.status.busy": "2020-12-02T21:47:48.030564Z",
     "iopub.status.idle": "2020-12-02T21:47:48.042990Z",
     "shell.execute_reply": "2020-12-02T21:47:48.042615Z"
    },
    "papermill": {
     "duration": 0.035431,
     "end_time": "2020-12-02T21:47:48.043077",
     "exception": false,
     "start_time": "2020-12-02T21:47:48.007646",
     "status": "completed"
    },
    "tags": []
   },
   "outputs": [
    {
     "data": {
      "text/plain": [
       "PosixPath('/home/miltondp/projects/labs/greenelab/phenoplier/base/results/clustering/runs/umap-z_score_std-projection-smultixcan-efo_partial-mashr-zscores')"
      ]
     },
     "metadata": {},
     "output_type": "display_data"
    }
   ],
   "source": [
    "# output dir for this notebook\n",
    "RESULTS_DIR = Path(\n",
    "    conf.RESULTS[\"CLUSTERING_RUNS_DIR\"],\n",
    "    f'{INPUT_SUBSET}-{INPUT_STEM}',\n",
    ").resolve()\n",
    "RESULTS_DIR.mkdir(parents=True, exist_ok=True)\n",
    "\n",
    "display(RESULTS_DIR)"
   ]
  },
  {
   "cell_type": "markdown",
   "metadata": {
    "papermill": {
     "duration": 0.020924,
     "end_time": "2020-12-02T21:47:48.085917",
     "exception": false,
     "start_time": "2020-12-02T21:47:48.064993",
     "status": "completed"
    },
    "tags": []
   },
   "source": [
    "# Load input file"
   ]
  },
  {
   "cell_type": "code",
   "execution_count": 18,
   "metadata": {
    "execution": {
     "iopub.execute_input": "2020-12-02T21:47:48.129993Z",
     "iopub.status.busy": "2020-12-02T21:47:48.129620Z",
     "iopub.status.idle": "2020-12-02T21:47:48.142826Z",
     "shell.execute_reply": "2020-12-02T21:47:48.142437Z"
    },
    "papermill": {
     "duration": 0.036154,
     "end_time": "2020-12-02T21:47:48.142916",
     "exception": false,
     "start_time": "2020-12-02T21:47:48.106762",
     "status": "completed"
    },
    "tags": []
   },
   "outputs": [],
   "source": [
    "data = pd.read_pickle(input_filepath)"
   ]
  },
  {
   "cell_type": "code",
   "execution_count": 19,
   "metadata": {
    "execution": {
     "iopub.execute_input": "2020-12-02T21:47:48.189018Z",
     "iopub.status.busy": "2020-12-02T21:47:48.188592Z",
     "iopub.status.idle": "2020-12-02T21:47:48.201467Z",
     "shell.execute_reply": "2020-12-02T21:47:48.201048Z"
    },
    "papermill": {
     "duration": 0.036472,
     "end_time": "2020-12-02T21:47:48.201556",
     "exception": false,
     "start_time": "2020-12-02T21:47:48.165084",
     "status": "completed"
    },
    "tags": []
   },
   "outputs": [
    {
     "data": {
      "text/plain": [
       "(3749, 50)"
      ]
     },
     "execution_count": 19,
     "metadata": {},
     "output_type": "execute_result"
    }
   ],
   "source": [
    "data.shape"
   ]
  },
  {
   "cell_type": "code",
   "execution_count": 20,
   "metadata": {
    "execution": {
     "iopub.execute_input": "2020-12-02T21:47:48.247462Z",
     "iopub.status.busy": "2020-12-02T21:47:48.247102Z",
     "iopub.status.idle": "2020-12-02T21:47:48.272191Z",
     "shell.execute_reply": "2020-12-02T21:47:48.271819Z"
    },
    "papermill": {
     "duration": 0.048883,
     "end_time": "2020-12-02T21:47:48.272279",
     "exception": false,
     "start_time": "2020-12-02T21:47:48.223396",
     "status": "completed"
    },
    "tags": []
   },
   "outputs": [
    {
     "data": {
      "text/html": [
       "<div>\n",
       "<style scoped>\n",
       "    .dataframe tbody tr th:only-of-type {\n",
       "        vertical-align: middle;\n",
       "    }\n",
       "\n",
       "    .dataframe tbody tr th {\n",
       "        vertical-align: top;\n",
       "    }\n",
       "\n",
       "    .dataframe thead th {\n",
       "        text-align: right;\n",
       "    }\n",
       "</style>\n",
       "<table border=\"1\" class=\"dataframe\">\n",
       "  <thead>\n",
       "    <tr style=\"text-align: right;\">\n",
       "      <th></th>\n",
       "      <th>UMAP1</th>\n",
       "      <th>UMAP2</th>\n",
       "      <th>UMAP3</th>\n",
       "      <th>UMAP4</th>\n",
       "      <th>UMAP5</th>\n",
       "      <th>UMAP6</th>\n",
       "      <th>UMAP7</th>\n",
       "      <th>UMAP8</th>\n",
       "      <th>UMAP9</th>\n",
       "      <th>UMAP10</th>\n",
       "      <th>...</th>\n",
       "      <th>UMAP41</th>\n",
       "      <th>UMAP42</th>\n",
       "      <th>UMAP43</th>\n",
       "      <th>UMAP44</th>\n",
       "      <th>UMAP45</th>\n",
       "      <th>UMAP46</th>\n",
       "      <th>UMAP47</th>\n",
       "      <th>UMAP48</th>\n",
       "      <th>UMAP49</th>\n",
       "      <th>UMAP50</th>\n",
       "    </tr>\n",
       "  </thead>\n",
       "  <tbody>\n",
       "    <tr>\n",
       "      <th>100001_raw-Food_weight</th>\n",
       "      <td>11.531590</td>\n",
       "      <td>10.773390</td>\n",
       "      <td>10.551500</td>\n",
       "      <td>5.689103</td>\n",
       "      <td>12.646474</td>\n",
       "      <td>8.795625</td>\n",
       "      <td>2.365859</td>\n",
       "      <td>-3.382425</td>\n",
       "      <td>1.458605</td>\n",
       "      <td>14.236823</td>\n",
       "      <td>...</td>\n",
       "      <td>2.214731</td>\n",
       "      <td>9.304909</td>\n",
       "      <td>3.359118</td>\n",
       "      <td>5.211676</td>\n",
       "      <td>1.265622</td>\n",
       "      <td>2.058685</td>\n",
       "      <td>1.291174</td>\n",
       "      <td>1.565621</td>\n",
       "      <td>7.317275</td>\n",
       "      <td>9.037535</td>\n",
       "    </tr>\n",
       "    <tr>\n",
       "      <th>100002_raw-Energy</th>\n",
       "      <td>11.554761</td>\n",
       "      <td>10.753816</td>\n",
       "      <td>10.548004</td>\n",
       "      <td>5.710800</td>\n",
       "      <td>12.674987</td>\n",
       "      <td>8.787647</td>\n",
       "      <td>2.379787</td>\n",
       "      <td>-3.339913</td>\n",
       "      <td>1.442655</td>\n",
       "      <td>14.196218</td>\n",
       "      <td>...</td>\n",
       "      <td>2.237087</td>\n",
       "      <td>9.270699</td>\n",
       "      <td>3.383440</td>\n",
       "      <td>5.185328</td>\n",
       "      <td>1.257113</td>\n",
       "      <td>2.057439</td>\n",
       "      <td>1.290686</td>\n",
       "      <td>1.557209</td>\n",
       "      <td>7.297037</td>\n",
       "      <td>9.009866</td>\n",
       "    </tr>\n",
       "    <tr>\n",
       "      <th>100003_raw-Protein</th>\n",
       "      <td>11.519615</td>\n",
       "      <td>10.786408</td>\n",
       "      <td>10.540249</td>\n",
       "      <td>5.687959</td>\n",
       "      <td>12.628188</td>\n",
       "      <td>8.789925</td>\n",
       "      <td>2.368370</td>\n",
       "      <td>-3.390937</td>\n",
       "      <td>1.464806</td>\n",
       "      <td>14.233623</td>\n",
       "      <td>...</td>\n",
       "      <td>2.216162</td>\n",
       "      <td>9.314158</td>\n",
       "      <td>3.350708</td>\n",
       "      <td>5.226166</td>\n",
       "      <td>1.267382</td>\n",
       "      <td>2.051692</td>\n",
       "      <td>1.305047</td>\n",
       "      <td>1.558942</td>\n",
       "      <td>7.307035</td>\n",
       "      <td>9.042575</td>\n",
       "    </tr>\n",
       "    <tr>\n",
       "      <th>100004_raw-Fat</th>\n",
       "      <td>11.515584</td>\n",
       "      <td>10.756584</td>\n",
       "      <td>10.570711</td>\n",
       "      <td>5.697041</td>\n",
       "      <td>12.661936</td>\n",
       "      <td>8.787330</td>\n",
       "      <td>2.396913</td>\n",
       "      <td>-3.351611</td>\n",
       "      <td>1.435632</td>\n",
       "      <td>14.221588</td>\n",
       "      <td>...</td>\n",
       "      <td>2.214707</td>\n",
       "      <td>9.273252</td>\n",
       "      <td>3.383349</td>\n",
       "      <td>5.220068</td>\n",
       "      <td>1.270067</td>\n",
       "      <td>2.065669</td>\n",
       "      <td>1.281447</td>\n",
       "      <td>1.578588</td>\n",
       "      <td>7.332527</td>\n",
       "      <td>9.005523</td>\n",
       "    </tr>\n",
       "    <tr>\n",
       "      <th>100005_raw-Carbohydrate</th>\n",
       "      <td>11.528723</td>\n",
       "      <td>10.762026</td>\n",
       "      <td>10.566773</td>\n",
       "      <td>5.698555</td>\n",
       "      <td>12.671127</td>\n",
       "      <td>8.791903</td>\n",
       "      <td>2.394764</td>\n",
       "      <td>-3.354370</td>\n",
       "      <td>1.442259</td>\n",
       "      <td>14.226301</td>\n",
       "      <td>...</td>\n",
       "      <td>2.216362</td>\n",
       "      <td>9.275563</td>\n",
       "      <td>3.383139</td>\n",
       "      <td>5.216354</td>\n",
       "      <td>1.269187</td>\n",
       "      <td>2.063429</td>\n",
       "      <td>1.280020</td>\n",
       "      <td>1.577227</td>\n",
       "      <td>7.335059</td>\n",
       "      <td>9.009464</td>\n",
       "    </tr>\n",
       "  </tbody>\n",
       "</table>\n",
       "<p>5 rows × 50 columns</p>\n",
       "</div>"
      ],
      "text/plain": [
       "                             UMAP1      UMAP2      UMAP3     UMAP4      UMAP5  \\\n",
       "100001_raw-Food_weight   11.531590  10.773390  10.551500  5.689103  12.646474   \n",
       "100002_raw-Energy        11.554761  10.753816  10.548004  5.710800  12.674987   \n",
       "100003_raw-Protein       11.519615  10.786408  10.540249  5.687959  12.628188   \n",
       "100004_raw-Fat           11.515584  10.756584  10.570711  5.697041  12.661936   \n",
       "100005_raw-Carbohydrate  11.528723  10.762026  10.566773  5.698555  12.671127   \n",
       "\n",
       "                            UMAP6     UMAP7     UMAP8     UMAP9     UMAP10  \\\n",
       "100001_raw-Food_weight   8.795625  2.365859 -3.382425  1.458605  14.236823   \n",
       "100002_raw-Energy        8.787647  2.379787 -3.339913  1.442655  14.196218   \n",
       "100003_raw-Protein       8.789925  2.368370 -3.390937  1.464806  14.233623   \n",
       "100004_raw-Fat           8.787330  2.396913 -3.351611  1.435632  14.221588   \n",
       "100005_raw-Carbohydrate  8.791903  2.394764 -3.354370  1.442259  14.226301   \n",
       "\n",
       "                         ...    UMAP41    UMAP42    UMAP43    UMAP44  \\\n",
       "100001_raw-Food_weight   ...  2.214731  9.304909  3.359118  5.211676   \n",
       "100002_raw-Energy        ...  2.237087  9.270699  3.383440  5.185328   \n",
       "100003_raw-Protein       ...  2.216162  9.314158  3.350708  5.226166   \n",
       "100004_raw-Fat           ...  2.214707  9.273252  3.383349  5.220068   \n",
       "100005_raw-Carbohydrate  ...  2.216362  9.275563  3.383139  5.216354   \n",
       "\n",
       "                           UMAP45    UMAP46    UMAP47    UMAP48    UMAP49  \\\n",
       "100001_raw-Food_weight   1.265622  2.058685  1.291174  1.565621  7.317275   \n",
       "100002_raw-Energy        1.257113  2.057439  1.290686  1.557209  7.297037   \n",
       "100003_raw-Protein       1.267382  2.051692  1.305047  1.558942  7.307035   \n",
       "100004_raw-Fat           1.270067  2.065669  1.281447  1.578588  7.332527   \n",
       "100005_raw-Carbohydrate  1.269187  2.063429  1.280020  1.577227  7.335059   \n",
       "\n",
       "                           UMAP50  \n",
       "100001_raw-Food_weight   9.037535  \n",
       "100002_raw-Energy        9.009866  \n",
       "100003_raw-Protein       9.042575  \n",
       "100004_raw-Fat           9.005523  \n",
       "100005_raw-Carbohydrate  9.009464  \n",
       "\n",
       "[5 rows x 50 columns]"
      ]
     },
     "execution_count": 20,
     "metadata": {},
     "output_type": "execute_result"
    }
   ],
   "source": [
    "data.head()"
   ]
  },
  {
   "cell_type": "code",
   "execution_count": 21,
   "metadata": {
    "execution": {
     "iopub.execute_input": "2020-12-02T21:47:48.318444Z",
     "iopub.status.busy": "2020-12-02T21:47:48.318075Z",
     "iopub.status.idle": "2020-12-02T21:47:48.330475Z",
     "shell.execute_reply": "2020-12-02T21:47:48.330760Z"
    },
    "papermill": {
     "duration": 0.036781,
     "end_time": "2020-12-02T21:47:48.330869",
     "exception": false,
     "start_time": "2020-12-02T21:47:48.294088",
     "status": "completed"
    },
    "tags": []
   },
   "outputs": [],
   "source": [
    "assert not data.isna().any().any()"
   ]
  },
  {
   "cell_type": "markdown",
   "metadata": {
    "papermill": {
     "duration": 0.021327,
     "end_time": "2020-12-02T21:47:48.374437",
     "exception": false,
     "start_time": "2020-12-02T21:47:48.353110",
     "status": "completed"
    },
    "tags": []
   },
   "source": [
    "# Clustering"
   ]
  },
  {
   "cell_type": "markdown",
   "metadata": {
    "papermill": {
     "duration": 0.021954,
     "end_time": "2020-12-02T21:47:48.417747",
     "exception": false,
     "start_time": "2020-12-02T21:47:48.395793",
     "status": "completed"
    },
    "tags": []
   },
   "source": [
    "## Generate ensemble"
   ]
  },
  {
   "cell_type": "code",
   "execution_count": 22,
   "metadata": {
    "execution": {
     "iopub.execute_input": "2020-12-02T21:47:48.463347Z",
     "iopub.status.busy": "2020-12-02T21:47:48.462985Z",
     "iopub.status.idle": "2020-12-02T21:47:48.476965Z",
     "shell.execute_reply": "2020-12-02T21:47:48.477247Z"
    },
    "papermill": {
     "duration": 0.038137,
     "end_time": "2020-12-02T21:47:48.477355",
     "exception": false,
     "start_time": "2020-12-02T21:47:48.439218",
     "status": "completed"
    },
    "tags": []
   },
   "outputs": [],
   "source": [
    "from clustering.ensemble import generate_ensemble"
   ]
  },
  {
   "cell_type": "code",
   "execution_count": 23,
   "metadata": {
    "execution": {
     "iopub.execute_input": "2020-12-02T21:47:48.526382Z",
     "iopub.status.busy": "2020-12-02T21:47:48.526015Z",
     "iopub.status.idle": "2020-12-02T22:00:54.762760Z",
     "shell.execute_reply": "2020-12-02T22:00:54.761973Z"
    },
    "papermill": {
     "duration": 786.262319,
     "end_time": "2020-12-02T22:00:54.762844",
     "exception": false,
     "start_time": "2020-12-02T21:47:48.500525",
     "status": "completed"
    },
    "tags": []
   },
   "outputs": [
    {
     "name": "stderr",
     "output_type": "stream",
     "text": [
      "100%|██████████| 295/295 [13:06<00:00,  2.66s/it]\n"
     ]
    }
   ],
   "source": [
    "ensemble = generate_ensemble(\n",
    "    data,\n",
    "    CLUSTERERS,\n",
    "    attributes=CLUSTERING_ATTRIBUTES_TO_SAVE,\n",
    ")"
   ]
  },
  {
   "cell_type": "code",
   "execution_count": 24,
   "metadata": {
    "execution": {
     "iopub.execute_input": "2020-12-02T22:00:54.906381Z",
     "iopub.status.busy": "2020-12-02T22:00:54.906012Z",
     "iopub.status.idle": "2020-12-02T22:00:54.918702Z",
     "shell.execute_reply": "2020-12-02T22:00:54.918338Z"
    },
    "papermill": {
     "duration": 0.08616,
     "end_time": "2020-12-02T22:00:54.918787",
     "exception": false,
     "start_time": "2020-12-02T22:00:54.832627",
     "status": "completed"
    },
    "tags": []
   },
   "outputs": [
    {
     "data": {
      "text/plain": [
       "(295, 3)"
      ]
     },
     "execution_count": 24,
     "metadata": {},
     "output_type": "execute_result"
    }
   ],
   "source": [
    "# the number should be close to 295 (the number of partitions generated by k-means/spectral clustering)\n",
    "ensemble.shape"
   ]
  },
  {
   "cell_type": "code",
   "execution_count": 25,
   "metadata": {
    "execution": {
     "iopub.execute_input": "2020-12-02T22:00:55.087149Z",
     "iopub.status.busy": "2020-12-02T22:00:55.086787Z",
     "iopub.status.idle": "2020-12-02T22:00:55.106749Z",
     "shell.execute_reply": "2020-12-02T22:00:55.106397Z"
    },
    "papermill": {
     "duration": 0.092234,
     "end_time": "2020-12-02T22:00:55.106830",
     "exception": false,
     "start_time": "2020-12-02T22:00:55.014596",
     "status": "completed"
    },
    "tags": []
   },
   "outputs": [
    {
     "data": {
      "text/html": [
       "<div>\n",
       "<style scoped>\n",
       "    .dataframe tbody tr th:only-of-type {\n",
       "        vertical-align: middle;\n",
       "    }\n",
       "\n",
       "    .dataframe tbody tr th {\n",
       "        vertical-align: top;\n",
       "    }\n",
       "\n",
       "    .dataframe thead th {\n",
       "        text-align: right;\n",
       "    }\n",
       "</style>\n",
       "<table border=\"1\" class=\"dataframe\">\n",
       "  <thead>\n",
       "    <tr style=\"text-align: right;\">\n",
       "      <th></th>\n",
       "      <th>clusterer_params</th>\n",
       "      <th>partition</th>\n",
       "      <th>n_clusters</th>\n",
       "    </tr>\n",
       "    <tr>\n",
       "      <th>clusterer_id</th>\n",
       "      <th></th>\n",
       "      <th></th>\n",
       "      <th></th>\n",
       "    </tr>\n",
       "  </thead>\n",
       "  <tbody>\n",
       "    <tr>\n",
       "      <th>SpectralClustering #0</th>\n",
       "      <td>{'affinity': 'rbf', 'assign_labels': 'kmeans',...</td>\n",
       "      <td>[0.0, 0.0, 0.0, 0.0, 0.0, 0.0, 0.0, 0.0, 0.0, ...</td>\n",
       "      <td>2</td>\n",
       "    </tr>\n",
       "    <tr>\n",
       "      <th>SpectralClustering #1</th>\n",
       "      <td>{'affinity': 'rbf', 'assign_labels': 'kmeans',...</td>\n",
       "      <td>[0.0, 0.0, 0.0, 0.0, 0.0, 0.0, 0.0, 0.0, 0.0, ...</td>\n",
       "      <td>2</td>\n",
       "    </tr>\n",
       "    <tr>\n",
       "      <th>SpectralClustering #2</th>\n",
       "      <td>{'affinity': 'rbf', 'assign_labels': 'kmeans',...</td>\n",
       "      <td>[0.0, 0.0, 0.0, 0.0, 0.0, 0.0, 0.0, 0.0, 0.0, ...</td>\n",
       "      <td>2</td>\n",
       "    </tr>\n",
       "    <tr>\n",
       "      <th>SpectralClustering #3</th>\n",
       "      <td>{'affinity': 'rbf', 'assign_labels': 'kmeans',...</td>\n",
       "      <td>[0.0, 0.0, 0.0, 0.0, 0.0, 0.0, 0.0, 0.0, 0.0, ...</td>\n",
       "      <td>2</td>\n",
       "    </tr>\n",
       "    <tr>\n",
       "      <th>SpectralClustering #4</th>\n",
       "      <td>{'affinity': 'rbf', 'assign_labels': 'kmeans',...</td>\n",
       "      <td>[0.0, 0.0, 0.0, 0.0, 0.0, 0.0, 0.0, 0.0, 0.0, ...</td>\n",
       "      <td>2</td>\n",
       "    </tr>\n",
       "  </tbody>\n",
       "</table>\n",
       "</div>"
      ],
      "text/plain": [
       "                                                        clusterer_params  \\\n",
       "clusterer_id                                                               \n",
       "SpectralClustering #0  {'affinity': 'rbf', 'assign_labels': 'kmeans',...   \n",
       "SpectralClustering #1  {'affinity': 'rbf', 'assign_labels': 'kmeans',...   \n",
       "SpectralClustering #2  {'affinity': 'rbf', 'assign_labels': 'kmeans',...   \n",
       "SpectralClustering #3  {'affinity': 'rbf', 'assign_labels': 'kmeans',...   \n",
       "SpectralClustering #4  {'affinity': 'rbf', 'assign_labels': 'kmeans',...   \n",
       "\n",
       "                                                               partition  \\\n",
       "clusterer_id                                                               \n",
       "SpectralClustering #0  [0.0, 0.0, 0.0, 0.0, 0.0, 0.0, 0.0, 0.0, 0.0, ...   \n",
       "SpectralClustering #1  [0.0, 0.0, 0.0, 0.0, 0.0, 0.0, 0.0, 0.0, 0.0, ...   \n",
       "SpectralClustering #2  [0.0, 0.0, 0.0, 0.0, 0.0, 0.0, 0.0, 0.0, 0.0, ...   \n",
       "SpectralClustering #3  [0.0, 0.0, 0.0, 0.0, 0.0, 0.0, 0.0, 0.0, 0.0, ...   \n",
       "SpectralClustering #4  [0.0, 0.0, 0.0, 0.0, 0.0, 0.0, 0.0, 0.0, 0.0, ...   \n",
       "\n",
       "                       n_clusters  \n",
       "clusterer_id                       \n",
       "SpectralClustering #0           2  \n",
       "SpectralClustering #1           2  \n",
       "SpectralClustering #2           2  \n",
       "SpectralClustering #3           2  \n",
       "SpectralClustering #4           2  "
      ]
     },
     "execution_count": 25,
     "metadata": {},
     "output_type": "execute_result"
    }
   ],
   "source": [
    "ensemble.head()"
   ]
  },
  {
   "cell_type": "code",
   "execution_count": 26,
   "metadata": {
    "execution": {
     "iopub.execute_input": "2020-12-02T22:00:55.250236Z",
     "iopub.status.busy": "2020-12-02T22:00:55.249876Z",
     "iopub.status.idle": "2020-12-02T22:00:55.263616Z",
     "shell.execute_reply": "2020-12-02T22:00:55.263239Z"
    },
    "papermill": {
     "duration": 0.086274,
     "end_time": "2020-12-02T22:00:55.263705",
     "exception": false,
     "start_time": "2020-12-02T22:00:55.177431",
     "status": "completed"
    },
    "tags": []
   },
   "outputs": [
    {
     "data": {
      "text/plain": [
       "60    5\n",
       "16    5\n",
       "28    5\n",
       "27    5\n",
       "26    5\n",
       "Name: n_clusters, dtype: int64"
      ]
     },
     "execution_count": 26,
     "metadata": {},
     "output_type": "execute_result"
    }
   ],
   "source": [
    "ensemble['n_clusters'].value_counts().head()"
   ]
  },
  {
   "cell_type": "code",
   "execution_count": 27,
   "metadata": {
    "execution": {
     "iopub.execute_input": "2020-12-02T22:00:55.406877Z",
     "iopub.status.busy": "2020-12-02T22:00:55.406514Z",
     "iopub.status.idle": "2020-12-02T22:00:55.421329Z",
     "shell.execute_reply": "2020-12-02T22:00:55.420935Z"
    },
    "papermill": {
     "duration": 0.086904,
     "end_time": "2020-12-02T22:00:55.421418",
     "exception": false,
     "start_time": "2020-12-02T22:00:55.334514",
     "status": "completed"
    },
    "tags": []
   },
   "outputs": [
    {
     "data": {
      "text/plain": [
       "count    295.000000\n",
       "mean      31.000000\n",
       "std       17.058323\n",
       "min        2.000000\n",
       "25%       16.000000\n",
       "50%       31.000000\n",
       "75%       46.000000\n",
       "max       60.000000\n",
       "Name: n_clusters, dtype: float64"
      ]
     },
     "metadata": {},
     "output_type": "display_data"
    }
   ],
   "source": [
    "ensemble_stats = ensemble['n_clusters'].describe()\n",
    "display(ensemble_stats)"
   ]
  },
  {
   "cell_type": "markdown",
   "metadata": {
    "papermill": {
     "duration": 0.070422,
     "end_time": "2020-12-02T22:00:55.561798",
     "exception": false,
     "start_time": "2020-12-02T22:00:55.491376",
     "status": "completed"
    },
    "tags": []
   },
   "source": [
    "## Testing"
   ]
  },
  {
   "cell_type": "code",
   "execution_count": 28,
   "metadata": {
    "execution": {
     "iopub.execute_input": "2020-12-02T22:00:55.707192Z",
     "iopub.status.busy": "2020-12-02T22:00:55.706826Z",
     "iopub.status.idle": "2020-12-02T22:00:55.718311Z",
     "shell.execute_reply": "2020-12-02T22:00:55.718598Z"
    },
    "papermill": {
     "duration": 0.087008,
     "end_time": "2020-12-02T22:00:55.718710",
     "exception": false,
     "start_time": "2020-12-02T22:00:55.631702",
     "status": "completed"
    },
    "tags": []
   },
   "outputs": [],
   "source": [
    "assert ensemble_stats['min'] > 1"
   ]
  },
  {
   "cell_type": "code",
   "execution_count": 29,
   "metadata": {
    "execution": {
     "iopub.execute_input": "2020-12-02T22:00:55.863489Z",
     "iopub.status.busy": "2020-12-02T22:00:55.863126Z",
     "iopub.status.idle": "2020-12-02T22:00:55.875239Z",
     "shell.execute_reply": "2020-12-02T22:00:55.874856Z"
    },
    "papermill": {
     "duration": 0.085194,
     "end_time": "2020-12-02T22:00:55.875328",
     "exception": false,
     "start_time": "2020-12-02T22:00:55.790134",
     "status": "completed"
    },
    "tags": []
   },
   "outputs": [],
   "source": [
    "assert not ensemble['n_clusters'].isna().any()"
   ]
  },
  {
   "cell_type": "code",
   "execution_count": 30,
   "metadata": {
    "execution": {
     "iopub.execute_input": "2020-12-02T22:00:56.020538Z",
     "iopub.status.busy": "2020-12-02T22:00:56.020174Z",
     "iopub.status.idle": "2020-12-02T22:00:56.032120Z",
     "shell.execute_reply": "2020-12-02T22:00:56.031756Z"
    },
    "papermill": {
     "duration": 0.084767,
     "end_time": "2020-12-02T22:00:56.032205",
     "exception": false,
     "start_time": "2020-12-02T22:00:55.947438",
     "status": "completed"
    },
    "tags": []
   },
   "outputs": [],
   "source": [
    "assert ensemble.shape[0] == len(CLUSTERERS)"
   ]
  },
  {
   "cell_type": "code",
   "execution_count": 31,
   "metadata": {
    "execution": {
     "iopub.execute_input": "2020-12-02T22:00:56.175876Z",
     "iopub.status.busy": "2020-12-02T22:00:56.175507Z",
     "iopub.status.idle": "2020-12-02T22:00:56.205375Z",
     "shell.execute_reply": "2020-12-02T22:00:56.204999Z"
    },
    "papermill": {
     "duration": 0.102963,
     "end_time": "2020-12-02T22:00:56.205462",
     "exception": false,
     "start_time": "2020-12-02T22:00:56.102499",
     "status": "completed"
    },
    "tags": []
   },
   "outputs": [],
   "source": [
    "# all partitions have the right size\n",
    "assert np.all([\n",
    "    part['partition'].shape[0] == data.shape[0]\n",
    "    for idx, part in ensemble.iterrows()\n",
    "])"
   ]
  },
  {
   "cell_type": "code",
   "execution_count": 32,
   "metadata": {
    "execution": {
     "iopub.execute_input": "2020-12-02T22:00:56.349086Z",
     "iopub.status.busy": "2020-12-02T22:00:56.348664Z",
     "iopub.status.idle": "2020-12-02T22:00:56.381756Z",
     "shell.execute_reply": "2020-12-02T22:00:56.381430Z"
    },
    "papermill": {
     "duration": 0.105519,
     "end_time": "2020-12-02T22:00:56.381843",
     "exception": false,
     "start_time": "2020-12-02T22:00:56.276324",
     "status": "completed"
    },
    "tags": []
   },
   "outputs": [],
   "source": [
    "# no partition has negative clusters (noisy points)\n",
    "assert not np.any([\n",
    "    (part['partition'] < 0).any()\n",
    "    for idx, part in ensemble.iterrows()\n",
    "])"
   ]
  },
  {
   "cell_type": "markdown",
   "metadata": {
    "papermill": {
     "duration": 0.069816,
     "end_time": "2020-12-02T22:00:56.522300",
     "exception": false,
     "start_time": "2020-12-02T22:00:56.452484",
     "status": "completed"
    },
    "tags": []
   },
   "source": [
    "## Save"
   ]
  },
  {
   "cell_type": "code",
   "execution_count": 33,
   "metadata": {
    "execution": {
     "iopub.execute_input": "2020-12-02T22:00:56.667180Z",
     "iopub.status.busy": "2020-12-02T22:00:56.666801Z",
     "iopub.status.idle": "2020-12-02T22:00:56.679707Z",
     "shell.execute_reply": "2020-12-02T22:00:56.679321Z"
    },
    "papermill": {
     "duration": 0.08759,
     "end_time": "2020-12-02T22:00:56.679799",
     "exception": false,
     "start_time": "2020-12-02T22:00:56.592209",
     "status": "completed"
    },
    "tags": []
   },
   "outputs": [
    {
     "data": {
      "text/plain": [
       "PosixPath('/home/miltondp/projects/labs/greenelab/phenoplier/base/results/clustering/runs/umap-z_score_std-projection-smultixcan-efo_partial-mashr-zscores/SpectralClustering-AFFINITY_rbf-KMEANS_N_INIT_10-K_MAX_60-K_MIN_2-N_NEIGHBORS_None-N_REPS_PER_K_5.pkl')"
      ]
     },
     "metadata": {},
     "output_type": "display_data"
    }
   ],
   "source": [
    "output_filename = Path(\n",
    "    RESULTS_DIR,\n",
    "    generate_result_set_name(\n",
    "        CLUSTERING_OPTIONS,\n",
    "        prefix=f'{clustering_method_name}-',\n",
    "        suffix='.pkl',\n",
    "    )\n",
    ").resolve()\n",
    "display(output_filename)"
   ]
  },
  {
   "cell_type": "code",
   "execution_count": 34,
   "metadata": {
    "execution": {
     "iopub.execute_input": "2020-12-02T22:00:56.824882Z",
     "iopub.status.busy": "2020-12-02T22:00:56.824455Z",
     "iopub.status.idle": "2020-12-02T22:00:56.842702Z",
     "shell.execute_reply": "2020-12-02T22:00:56.843001Z"
    },
    "papermill": {
     "duration": 0.091781,
     "end_time": "2020-12-02T22:00:56.843115",
     "exception": false,
     "start_time": "2020-12-02T22:00:56.751334",
     "status": "completed"
    },
    "tags": []
   },
   "outputs": [],
   "source": [
    "ensemble.to_pickle(output_filename)"
   ]
  },
  {
   "cell_type": "markdown",
   "metadata": {
    "papermill": {
     "duration": 0.070318,
     "end_time": "2020-12-02T22:00:56.985893",
     "exception": false,
     "start_time": "2020-12-02T22:00:56.915575",
     "status": "completed"
    },
    "tags": []
   },
   "source": [
    "# Stability"
   ]
  },
  {
   "cell_type": "markdown",
   "metadata": {
    "papermill": {
     "duration": 0.07092,
     "end_time": "2020-12-02T22:00:57.126992",
     "exception": false,
     "start_time": "2020-12-02T22:00:57.056072",
     "status": "completed"
    },
    "tags": []
   },
   "source": [
    "## Group ensemble by n_clusters"
   ]
  },
  {
   "cell_type": "code",
   "execution_count": 35,
   "metadata": {
    "execution": {
     "iopub.execute_input": "2020-12-02T22:00:57.271785Z",
     "iopub.status.busy": "2020-12-02T22:00:57.271420Z",
     "iopub.status.idle": "2020-12-02T22:00:57.297475Z",
     "shell.execute_reply": "2020-12-02T22:00:57.297092Z"
    },
    "papermill": {
     "duration": 0.099557,
     "end_time": "2020-12-02T22:00:57.297576",
     "exception": false,
     "start_time": "2020-12-02T22:00:57.198019",
     "status": "completed"
    },
    "tags": []
   },
   "outputs": [],
   "source": [
    "parts = ensemble.groupby('n_clusters').apply(lambda x: np.concatenate(x['partition'].apply(lambda x: x.reshape(1, -1)), axis=0))"
   ]
  },
  {
   "cell_type": "code",
   "execution_count": 36,
   "metadata": {
    "execution": {
     "iopub.execute_input": "2020-12-02T22:00:57.443658Z",
     "iopub.status.busy": "2020-12-02T22:00:57.443298Z",
     "iopub.status.idle": "2020-12-02T22:00:57.467328Z",
     "shell.execute_reply": "2020-12-02T22:00:57.466923Z"
    },
    "papermill": {
     "duration": 0.097636,
     "end_time": "2020-12-02T22:00:57.467416",
     "exception": false,
     "start_time": "2020-12-02T22:00:57.369780",
     "status": "completed"
    },
    "tags": []
   },
   "outputs": [
    {
     "data": {
      "text/plain": [
       "n_clusters\n",
       "2    [[0.0, 0.0, 0.0, 0.0, 0.0, 0.0, 0.0, 0.0, 0.0,...\n",
       "3    [[0.0, 0.0, 0.0, 0.0, 0.0, 0.0, 0.0, 0.0, 0.0,...\n",
       "4    [[0.0, 0.0, 0.0, 0.0, 0.0, 0.0, 0.0, 0.0, 0.0,...\n",
       "5    [[0.0, 0.0, 0.0, 0.0, 0.0, 0.0, 0.0, 0.0, 0.0,...\n",
       "6    [[0.0, 0.0, 0.0, 0.0, 0.0, 0.0, 0.0, 0.0, 0.0,...\n",
       "dtype: object"
      ]
     },
     "execution_count": 36,
     "metadata": {},
     "output_type": "execute_result"
    }
   ],
   "source": [
    "parts.head()"
   ]
  },
  {
   "cell_type": "code",
   "execution_count": 37,
   "metadata": {
    "execution": {
     "iopub.execute_input": "2020-12-02T22:00:57.612806Z",
     "iopub.status.busy": "2020-12-02T22:00:57.612384Z",
     "iopub.status.idle": "2020-12-02T22:00:57.624920Z",
     "shell.execute_reply": "2020-12-02T22:00:57.624497Z"
    },
    "papermill": {
     "duration": 0.085621,
     "end_time": "2020-12-02T22:00:57.625003",
     "exception": false,
     "start_time": "2020-12-02T22:00:57.539382",
     "status": "completed"
    },
    "tags": []
   },
   "outputs": [],
   "source": [
    "assert np.all([\n",
    "    parts.loc[k].shape == (CLUSTERING_OPTIONS['N_REPS_PER_K'], data.shape[0])\n",
    "    for k in parts.index\n",
    "])"
   ]
  },
  {
   "cell_type": "markdown",
   "metadata": {
    "papermill": {
     "duration": 0.070766,
     "end_time": "2020-12-02T22:00:57.769070",
     "exception": false,
     "start_time": "2020-12-02T22:00:57.698304",
     "status": "completed"
    },
    "tags": []
   },
   "source": [
    "## Compute stability"
   ]
  },
  {
   "cell_type": "code",
   "execution_count": 38,
   "metadata": {
    "execution": {
     "iopub.execute_input": "2020-12-02T22:00:57.914689Z",
     "iopub.status.busy": "2020-12-02T22:00:57.914309Z",
     "iopub.status.idle": "2020-12-02T22:00:57.926516Z",
     "shell.execute_reply": "2020-12-02T22:00:57.926129Z"
    },
    "papermill": {
     "duration": 0.086882,
     "end_time": "2020-12-02T22:00:57.926604",
     "exception": false,
     "start_time": "2020-12-02T22:00:57.839722",
     "status": "completed"
    },
    "tags": []
   },
   "outputs": [],
   "source": [
    "from sklearn.metrics import adjusted_rand_score as ari\n",
    "from scipy.spatial.distance import squareform, pdist"
   ]
  },
  {
   "cell_type": "code",
   "execution_count": 39,
   "metadata": {
    "execution": {
     "iopub.execute_input": "2020-12-02T22:00:58.071203Z",
     "iopub.status.busy": "2020-12-02T22:00:58.070838Z",
     "iopub.status.idle": "2020-12-02T22:00:58.671558Z",
     "shell.execute_reply": "2020-12-02T22:00:58.671157Z"
    },
    "papermill": {
     "duration": 0.673624,
     "end_time": "2020-12-02T22:00:58.671674",
     "exception": false,
     "start_time": "2020-12-02T22:00:57.998050",
     "status": "completed"
    },
    "tags": []
   },
   "outputs": [],
   "source": [
    "parts_ari = pd.Series(\n",
    "    {k: pdist(parts.loc[k], metric=ari) for k in parts.index},\n",
    "    name='k'\n",
    ")"
   ]
  },
  {
   "cell_type": "code",
   "execution_count": 40,
   "metadata": {
    "execution": {
     "iopub.execute_input": "2020-12-02T22:00:58.816529Z",
     "iopub.status.busy": "2020-12-02T22:00:58.816160Z",
     "iopub.status.idle": "2020-12-02T22:00:58.830541Z",
     "shell.execute_reply": "2020-12-02T22:00:58.830162Z"
    },
    "papermill": {
     "duration": 0.087605,
     "end_time": "2020-12-02T22:00:58.830626",
     "exception": false,
     "start_time": "2020-12-02T22:00:58.743021",
     "status": "completed"
    },
    "tags": []
   },
   "outputs": [
    {
     "data": {
      "text/plain": [
       "16    1.000000\n",
       "7     1.000000\n",
       "15    1.000000\n",
       "13    1.000000\n",
       "11    1.000000\n",
       "9     1.000000\n",
       "18    1.000000\n",
       "6     1.000000\n",
       "4     1.000000\n",
       "17    0.999555\n",
       "14    0.998906\n",
       "19    0.975933\n",
       "3     0.729150\n",
       "12    0.727007\n",
       "20    0.695768\n",
       "Name: k, dtype: float64"
      ]
     },
     "metadata": {},
     "output_type": "display_data"
    }
   ],
   "source": [
    "parts_ari_stability = parts_ari.apply(lambda x: x.mean())\n",
    "display(parts_ari_stability.sort_values(ascending=False).head(15))"
   ]
  },
  {
   "cell_type": "code",
   "execution_count": 41,
   "metadata": {
    "execution": {
     "iopub.execute_input": "2020-12-02T22:00:58.978670Z",
     "iopub.status.busy": "2020-12-02T22:00:58.978308Z",
     "iopub.status.idle": "2020-12-02T22:00:58.991023Z",
     "shell.execute_reply": "2020-12-02T22:00:58.991334Z"
    },
    "papermill": {
     "duration": 0.087909,
     "end_time": "2020-12-02T22:00:58.991443",
     "exception": false,
     "start_time": "2020-12-02T22:00:58.903534",
     "status": "completed"
    },
    "tags": []
   },
   "outputs": [],
   "source": [
    "parts_ari_df = pd.DataFrame.from_records(parts_ari.tolist()).set_index(parts_ari.index.copy())"
   ]
  },
  {
   "cell_type": "code",
   "execution_count": 42,
   "metadata": {
    "execution": {
     "iopub.execute_input": "2020-12-02T22:00:59.137823Z",
     "iopub.status.busy": "2020-12-02T22:00:59.137449Z",
     "iopub.status.idle": "2020-12-02T22:00:59.150284Z",
     "shell.execute_reply": "2020-12-02T22:00:59.149919Z"
    },
    "papermill": {
     "duration": 0.086253,
     "end_time": "2020-12-02T22:00:59.150370",
     "exception": false,
     "start_time": "2020-12-02T22:00:59.064117",
     "status": "completed"
    },
    "tags": []
   },
   "outputs": [
    {
     "data": {
      "text/plain": [
       "(59, 10)"
      ]
     },
     "execution_count": 42,
     "metadata": {},
     "output_type": "execute_result"
    }
   ],
   "source": [
    "parts_ari_df.shape"
   ]
  },
  {
   "cell_type": "code",
   "execution_count": 43,
   "metadata": {
    "execution": {
     "iopub.execute_input": "2020-12-02T22:00:59.297135Z",
     "iopub.status.busy": "2020-12-02T22:00:59.296746Z",
     "iopub.status.idle": "2020-12-02T22:00:59.308766Z",
     "shell.execute_reply": "2020-12-02T22:00:59.308341Z"
    },
    "papermill": {
     "duration": 0.086208,
     "end_time": "2020-12-02T22:00:59.308880",
     "exception": false,
     "start_time": "2020-12-02T22:00:59.222672",
     "status": "completed"
    },
    "tags": []
   },
   "outputs": [],
   "source": [
    "assert int( (CLUSTERING_OPTIONS['N_REPS_PER_K'] * (CLUSTERING_OPTIONS['N_REPS_PER_K'] - 1) ) / 2) == parts_ari_df.shape[1]"
   ]
  },
  {
   "cell_type": "code",
   "execution_count": 44,
   "metadata": {
    "execution": {
     "iopub.execute_input": "2020-12-02T22:00:59.453912Z",
     "iopub.status.busy": "2020-12-02T22:00:59.453496Z",
     "iopub.status.idle": "2020-12-02T22:00:59.472098Z",
     "shell.execute_reply": "2020-12-02T22:00:59.471719Z"
    },
    "papermill": {
     "duration": 0.092194,
     "end_time": "2020-12-02T22:00:59.472186",
     "exception": false,
     "start_time": "2020-12-02T22:00:59.379992",
     "status": "completed"
    },
    "tags": []
   },
   "outputs": [
    {
     "data": {
      "text/html": [
       "<div>\n",
       "<style scoped>\n",
       "    .dataframe tbody tr th:only-of-type {\n",
       "        vertical-align: middle;\n",
       "    }\n",
       "\n",
       "    .dataframe tbody tr th {\n",
       "        vertical-align: top;\n",
       "    }\n",
       "\n",
       "    .dataframe thead th {\n",
       "        text-align: right;\n",
       "    }\n",
       "</style>\n",
       "<table border=\"1\" class=\"dataframe\">\n",
       "  <thead>\n",
       "    <tr style=\"text-align: right;\">\n",
       "      <th></th>\n",
       "      <th>0</th>\n",
       "      <th>1</th>\n",
       "      <th>2</th>\n",
       "      <th>3</th>\n",
       "      <th>4</th>\n",
       "      <th>5</th>\n",
       "      <th>6</th>\n",
       "      <th>7</th>\n",
       "      <th>8</th>\n",
       "      <th>9</th>\n",
       "    </tr>\n",
       "  </thead>\n",
       "  <tbody>\n",
       "    <tr>\n",
       "      <th>2</th>\n",
       "      <td>0.568279</td>\n",
       "      <td>1.000000</td>\n",
       "      <td>-0.002555</td>\n",
       "      <td>1.0</td>\n",
       "      <td>0.568279</td>\n",
       "      <td>0.747383</td>\n",
       "      <td>0.568279</td>\n",
       "      <td>-0.002555</td>\n",
       "      <td>1.000000</td>\n",
       "      <td>-0.002555</td>\n",
       "    </tr>\n",
       "    <tr>\n",
       "      <th>3</th>\n",
       "      <td>1.000000</td>\n",
       "      <td>0.322875</td>\n",
       "      <td>1.000000</td>\n",
       "      <td>1.0</td>\n",
       "      <td>0.322875</td>\n",
       "      <td>1.000000</td>\n",
       "      <td>1.000000</td>\n",
       "      <td>0.322875</td>\n",
       "      <td>0.322875</td>\n",
       "      <td>1.000000</td>\n",
       "    </tr>\n",
       "    <tr>\n",
       "      <th>4</th>\n",
       "      <td>1.000000</td>\n",
       "      <td>1.000000</td>\n",
       "      <td>1.000000</td>\n",
       "      <td>1.0</td>\n",
       "      <td>1.000000</td>\n",
       "      <td>1.000000</td>\n",
       "      <td>1.000000</td>\n",
       "      <td>1.000000</td>\n",
       "      <td>1.000000</td>\n",
       "      <td>1.000000</td>\n",
       "    </tr>\n",
       "    <tr>\n",
       "      <th>5</th>\n",
       "      <td>1.000000</td>\n",
       "      <td>1.000000</td>\n",
       "      <td>0.113593</td>\n",
       "      <td>1.0</td>\n",
       "      <td>1.000000</td>\n",
       "      <td>0.113593</td>\n",
       "      <td>1.000000</td>\n",
       "      <td>0.113593</td>\n",
       "      <td>1.000000</td>\n",
       "      <td>0.113593</td>\n",
       "    </tr>\n",
       "    <tr>\n",
       "      <th>6</th>\n",
       "      <td>1.000000</td>\n",
       "      <td>1.000000</td>\n",
       "      <td>1.000000</td>\n",
       "      <td>1.0</td>\n",
       "      <td>1.000000</td>\n",
       "      <td>1.000000</td>\n",
       "      <td>1.000000</td>\n",
       "      <td>1.000000</td>\n",
       "      <td>1.000000</td>\n",
       "      <td>1.000000</td>\n",
       "    </tr>\n",
       "  </tbody>\n",
       "</table>\n",
       "</div>"
      ],
      "text/plain": [
       "          0         1         2    3         4         5         6         7  \\\n",
       "2  0.568279  1.000000 -0.002555  1.0  0.568279  0.747383  0.568279 -0.002555   \n",
       "3  1.000000  0.322875  1.000000  1.0  0.322875  1.000000  1.000000  0.322875   \n",
       "4  1.000000  1.000000  1.000000  1.0  1.000000  1.000000  1.000000  1.000000   \n",
       "5  1.000000  1.000000  0.113593  1.0  1.000000  0.113593  1.000000  0.113593   \n",
       "6  1.000000  1.000000  1.000000  1.0  1.000000  1.000000  1.000000  1.000000   \n",
       "\n",
       "          8         9  \n",
       "2  1.000000 -0.002555  \n",
       "3  0.322875  1.000000  \n",
       "4  1.000000  1.000000  \n",
       "5  1.000000  0.113593  \n",
       "6  1.000000  1.000000  "
      ]
     },
     "execution_count": 44,
     "metadata": {},
     "output_type": "execute_result"
    }
   ],
   "source": [
    "parts_ari_df.head()"
   ]
  },
  {
   "cell_type": "markdown",
   "metadata": {
    "papermill": {
     "duration": 0.070819,
     "end_time": "2020-12-02T22:00:59.615699",
     "exception": false,
     "start_time": "2020-12-02T22:00:59.544880",
     "status": "completed"
    },
    "tags": []
   },
   "source": [
    "## Save"
   ]
  },
  {
   "cell_type": "code",
   "execution_count": 45,
   "metadata": {
    "execution": {
     "iopub.execute_input": "2020-12-02T22:00:59.767131Z",
     "iopub.status.busy": "2020-12-02T22:00:59.766762Z",
     "iopub.status.idle": "2020-12-02T22:00:59.779853Z",
     "shell.execute_reply": "2020-12-02T22:00:59.779488Z"
    },
    "papermill": {
     "duration": 0.089826,
     "end_time": "2020-12-02T22:00:59.779937",
     "exception": false,
     "start_time": "2020-12-02T22:00:59.690111",
     "status": "completed"
    },
    "tags": []
   },
   "outputs": [
    {
     "data": {
      "text/plain": [
       "PosixPath('/home/miltondp/projects/labs/greenelab/phenoplier/base/results/clustering/runs/umap-z_score_std-projection-smultixcan-efo_partial-mashr-zscores/SpectralClustering-stability-AFFINITY_rbf-KMEANS_N_INIT_10-K_MAX_60-K_MIN_2-N_NEIGHBORS_None-N_REPS_PER_K_5.pkl')"
      ]
     },
     "metadata": {},
     "output_type": "display_data"
    }
   ],
   "source": [
    "output_filename = Path(\n",
    "    RESULTS_DIR,\n",
    "    generate_result_set_name(\n",
    "        CLUSTERING_OPTIONS,\n",
    "        prefix=f'{clustering_method_name}-stability-',\n",
    "        suffix='.pkl',\n",
    "    )\n",
    ").resolve()\n",
    "display(output_filename)"
   ]
  },
  {
   "cell_type": "code",
   "execution_count": 46,
   "metadata": {
    "execution": {
     "iopub.execute_input": "2020-12-02T22:00:59.928616Z",
     "iopub.status.busy": "2020-12-02T22:00:59.928256Z",
     "iopub.status.idle": "2020-12-02T22:00:59.940589Z",
     "shell.execute_reply": "2020-12-02T22:00:59.940210Z"
    },
    "papermill": {
     "duration": 0.088262,
     "end_time": "2020-12-02T22:00:59.940677",
     "exception": false,
     "start_time": "2020-12-02T22:00:59.852415",
     "status": "completed"
    },
    "tags": []
   },
   "outputs": [],
   "source": [
    "parts_ari_df.to_pickle(output_filename)"
   ]
  },
  {
   "cell_type": "markdown",
   "metadata": {
    "papermill": {
     "duration": 0.071719,
     "end_time": "2020-12-02T22:01:00.086321",
     "exception": false,
     "start_time": "2020-12-02T22:01:00.014602",
     "status": "completed"
    },
    "tags": []
   },
   "source": [
    "## Stability plot"
   ]
  },
  {
   "cell_type": "code",
   "execution_count": 47,
   "metadata": {
    "execution": {
     "iopub.execute_input": "2020-12-02T22:01:00.233632Z",
     "iopub.status.busy": "2020-12-02T22:01:00.233262Z",
     "iopub.status.idle": "2020-12-02T22:01:00.247107Z",
     "shell.execute_reply": "2020-12-02T22:01:00.246731Z"
    },
    "papermill": {
     "duration": 0.089332,
     "end_time": "2020-12-02T22:01:00.247195",
     "exception": false,
     "start_time": "2020-12-02T22:01:00.157863",
     "status": "completed"
    },
    "tags": []
   },
   "outputs": [],
   "source": [
    "parts_ari_df_plot = parts_ari_df.stack().reset_index().rename(columns={'level_0': 'k', 'level_1': 'idx', 0: 'ari'})"
   ]
  },
  {
   "cell_type": "code",
   "execution_count": 48,
   "metadata": {
    "execution": {
     "iopub.execute_input": "2020-12-02T22:01:00.395422Z",
     "iopub.status.busy": "2020-12-02T22:01:00.395062Z",
     "iopub.status.idle": "2020-12-02T22:01:00.408301Z",
     "shell.execute_reply": "2020-12-02T22:01:00.408603Z"
    },
    "papermill": {
     "duration": 0.08874,
     "end_time": "2020-12-02T22:01:00.408746",
     "exception": false,
     "start_time": "2020-12-02T22:01:00.320006",
     "status": "completed"
    },
    "tags": []
   },
   "outputs": [
    {
     "data": {
      "text/plain": [
       "k        int64\n",
       "idx      int64\n",
       "ari    float64\n",
       "dtype: object"
      ]
     },
     "execution_count": 48,
     "metadata": {},
     "output_type": "execute_result"
    }
   ],
   "source": [
    "parts_ari_df_plot.dtypes"
   ]
  },
  {
   "cell_type": "code",
   "execution_count": 49,
   "metadata": {
    "execution": {
     "iopub.execute_input": "2020-12-02T22:01:00.556930Z",
     "iopub.status.busy": "2020-12-02T22:01:00.556502Z",
     "iopub.status.idle": "2020-12-02T22:01:00.571794Z",
     "shell.execute_reply": "2020-12-02T22:01:00.571418Z"
    },
    "papermill": {
     "duration": 0.090084,
     "end_time": "2020-12-02T22:01:00.571884",
     "exception": false,
     "start_time": "2020-12-02T22:01:00.481800",
     "status": "completed"
    },
    "tags": []
   },
   "outputs": [
    {
     "data": {
      "text/html": [
       "<div>\n",
       "<style scoped>\n",
       "    .dataframe tbody tr th:only-of-type {\n",
       "        vertical-align: middle;\n",
       "    }\n",
       "\n",
       "    .dataframe tbody tr th {\n",
       "        vertical-align: top;\n",
       "    }\n",
       "\n",
       "    .dataframe thead th {\n",
       "        text-align: right;\n",
       "    }\n",
       "</style>\n",
       "<table border=\"1\" class=\"dataframe\">\n",
       "  <thead>\n",
       "    <tr style=\"text-align: right;\">\n",
       "      <th></th>\n",
       "      <th>k</th>\n",
       "      <th>idx</th>\n",
       "      <th>ari</th>\n",
       "    </tr>\n",
       "  </thead>\n",
       "  <tbody>\n",
       "    <tr>\n",
       "      <th>0</th>\n",
       "      <td>2</td>\n",
       "      <td>0</td>\n",
       "      <td>0.568279</td>\n",
       "    </tr>\n",
       "    <tr>\n",
       "      <th>1</th>\n",
       "      <td>2</td>\n",
       "      <td>1</td>\n",
       "      <td>1.000000</td>\n",
       "    </tr>\n",
       "    <tr>\n",
       "      <th>2</th>\n",
       "      <td>2</td>\n",
       "      <td>2</td>\n",
       "      <td>-0.002555</td>\n",
       "    </tr>\n",
       "    <tr>\n",
       "      <th>3</th>\n",
       "      <td>2</td>\n",
       "      <td>3</td>\n",
       "      <td>1.000000</td>\n",
       "    </tr>\n",
       "    <tr>\n",
       "      <th>4</th>\n",
       "      <td>2</td>\n",
       "      <td>4</td>\n",
       "      <td>0.568279</td>\n",
       "    </tr>\n",
       "  </tbody>\n",
       "</table>\n",
       "</div>"
      ],
      "text/plain": [
       "   k  idx       ari\n",
       "0  2    0  0.568279\n",
       "1  2    1  1.000000\n",
       "2  2    2 -0.002555\n",
       "3  2    3  1.000000\n",
       "4  2    4  0.568279"
      ]
     },
     "execution_count": 49,
     "metadata": {},
     "output_type": "execute_result"
    }
   ],
   "source": [
    "parts_ari_df_plot.head()"
   ]
  },
  {
   "cell_type": "code",
   "execution_count": 50,
   "metadata": {
    "execution": {
     "iopub.execute_input": "2020-12-02T22:01:00.724411Z",
     "iopub.status.busy": "2020-12-02T22:01:00.724032Z",
     "iopub.status.idle": "2020-12-02T22:01:03.602671Z",
     "shell.execute_reply": "2020-12-02T22:01:03.602970Z"
    },
    "papermill": {
     "duration": 2.957284,
     "end_time": "2020-12-02T22:01:03.603077",
     "exception": false,
     "start_time": "2020-12-02T22:01:00.645793",
     "status": "completed"
    },
    "tags": []
   },
   "outputs": [
    {
     "data": {
      "image/png": "[encoded data removed]",
      "text/plain": [
       "<Figure size 864x432 with 1 Axes>"
      ]
     },
     "metadata": {},
     "output_type": "display_data"
    }
   ],
   "source": [
    "# with sns.axes_style('whitegrid', {'grid.linestyle': '--'}):\n",
    "with sns.plotting_context('talk', font_scale=0.75), sns.axes_style('whitegrid', {'grid.linestyle': '--'}):\n",
    "    fig = plt.figure(figsize=(12, 6))\n",
    "    ax = sns.pointplot(data=parts_ari_df_plot, x='k', y='ari')\n",
    "    ax.set_ylabel('Averange ARI')\n",
    "    ax.set_xlabel('Number of clusters ($k$)')\n",
    "    ax.set_xticklabels(ax.get_xticklabels(), rotation=45)\n",
    "#     ax.set_ylim(0.0, 1.0)\n",
    "#     ax.set_xlim(CLUSTERING_OPTIONS['K_MIN'], CLUSTERING_OPTIONS['K_MAX'])\n",
    "    plt.grid(True)\n",
    "    plt.tight_layout()"
   ]
  },
  {
   "cell_type": "code",
   "execution_count": null,
   "metadata": {
    "papermill": {
     "duration": 0.076538,
     "end_time": "2020-12-02T22:01:03.756225",
     "exception": false,
     "start_time": "2020-12-02T22:01:03.679687",
     "status": "completed"
    },
    "tags": []
   },
   "outputs": [],
   "source": []
  }
 ],
 "metadata": {
  "jupytext": {
   "formats": "ipynb,py//py:percent"
  },
  "kernelspec": {
   "display_name": "Python 3",
   "language": "python",
   "name": "python3"
  },
  "language_info": {
   "codemirror_mode": {
    "name": "ipython",
    "version": 3
   },
   "file_extension": ".py",
   "mimetype": "text/x-python",
   "name": "python",
   "nbconvert_exporter": "python",
   "pygments_lexer": "ipython3",
   "version": "3.8.6"
  },
  "papermill": {
   "default_parameters": {},
   "duration": 799.904397,
   "end_time": "2020-12-02T22:01:04.338478",
   "environment_variables": {},
   "exception": null,
   "input_path": "15_cluster_analysis/001_02-projection_smultixcan_efo-umap-clustering_spectral.ipynb",
   "output_path": "15_cluster_analysis/001_02-projection_smultixcan_efo-umap-clustering_spectral.run.ipynb",
   "parameters": {},
   "start_time": "2020-12-02T21:47:44.434081",
   "version": "2.2.2"
  },
  "toc-autonumbering": true,
  "toc-showcode": false,
  "toc-showmarkdowntxt": false,
  "toc-showtags": false
 },
 "nbformat": 4,
 "nbformat_minor": 4
}
