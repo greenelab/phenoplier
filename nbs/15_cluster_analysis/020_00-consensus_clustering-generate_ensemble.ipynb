{
 "cells": [
  {
   "cell_type": "markdown",
   "metadata": {
    "papermill": {
     "duration": 0.046422,
     "end_time": "2020-12-04T19:11:05.972007",
     "exception": false,
     "start_time": "2020-12-04T19:11:05.925585",
     "status": "completed"
    },
    "tags": []
   },
   "source": [
    "# Description"
   ]
  },
  {
   "cell_type": "markdown",
   "metadata": {
    "papermill": {
     "duration": 0.013498,
     "end_time": "2020-12-04T19:11:06.001425",
     "exception": false,
     "start_time": "2020-12-04T19:11:05.987927",
     "status": "completed"
    },
    "tags": []
   },
   "source": [
    "TODO"
   ]
  },
  {
   "cell_type": "markdown",
   "metadata": {
    "papermill": {
     "duration": 0.01261,
     "end_time": "2020-12-04T19:11:06.026871",
     "exception": false,
     "start_time": "2020-12-04T19:11:06.014261",
     "status": "completed"
    },
    "tags": []
   },
   "source": [
    "# Environment variables"
   ]
  },
  {
   "cell_type": "code",
   "execution_count": 1,
   "metadata": {
    "execution": {
     "iopub.execute_input": "2020-12-04T19:11:06.055914Z",
     "iopub.status.busy": "2020-12-04T19:11:06.055527Z",
     "iopub.status.idle": "2020-12-04T19:11:06.066372Z",
     "shell.execute_reply": "2020-12-04T19:11:06.065940Z"
    },
    "papermill": {
     "duration": 0.026973,
     "end_time": "2020-12-04T19:11:06.066494",
     "exception": false,
     "start_time": "2020-12-04T19:11:06.039521",
     "status": "completed"
    },
    "tags": []
   },
   "outputs": [
    {
     "data": {
      "text/plain": [
       "3"
      ]
     },
     "metadata": {},
     "output_type": "display_data"
    }
   ],
   "source": [
    "from IPython.display import display\n",
    "\n",
    "import conf\n",
    "\n",
    "N_JOBS = conf.GENERAL[\"N_JOBS\"]\n",
    "display(N_JOBS)"
   ]
  },
  {
   "cell_type": "code",
   "execution_count": 2,
   "metadata": {
    "execution": {
     "iopub.execute_input": "2020-12-04T19:11:06.098115Z",
     "iopub.status.busy": "2020-12-04T19:11:06.097747Z",
     "iopub.status.idle": "2020-12-04T19:11:06.099939Z",
     "shell.execute_reply": "2020-12-04T19:11:06.099564Z"
    },
    "papermill": {
     "duration": 0.019624,
     "end_time": "2020-12-04T19:11:06.100027",
     "exception": false,
     "start_time": "2020-12-04T19:11:06.080403",
     "status": "completed"
    },
    "tags": []
   },
   "outputs": [
    {
     "name": "stdout",
     "output_type": "stream",
     "text": [
      "env: MKL_NUM_THREADS=3\n",
      "env: OPEN_BLAS_NUM_THREADS=3\n",
      "env: NUMEXPR_NUM_THREADS=3\n",
      "env: OMP_NUM_THREADS=3\n"
     ]
    }
   ],
   "source": [
    "%env MKL_NUM_THREADS=$N_JOBS\n",
    "%env OPEN_BLAS_NUM_THREADS=$N_JOBS\n",
    "%env NUMEXPR_NUM_THREADS=$N_JOBS\n",
    "%env OMP_NUM_THREADS=$N_JOBS"
   ]
  },
  {
   "cell_type": "markdown",
   "metadata": {
    "papermill": {
     "duration": 0.014595,
     "end_time": "2020-12-04T19:11:06.128906",
     "exception": false,
     "start_time": "2020-12-04T19:11:06.114311",
     "status": "completed"
    },
    "tags": []
   },
   "source": [
    "# Modules loading"
   ]
  },
  {
   "cell_type": "code",
   "execution_count": 3,
   "metadata": {
    "execution": {
     "iopub.execute_input": "2020-12-04T19:11:06.159366Z",
     "iopub.status.busy": "2020-12-04T19:11:06.158992Z",
     "iopub.status.idle": "2020-12-04T19:11:06.166728Z",
     "shell.execute_reply": "2020-12-04T19:11:06.166368Z"
    },
    "papermill": {
     "duration": 0.024329,
     "end_time": "2020-12-04T19:11:06.166814",
     "exception": false,
     "start_time": "2020-12-04T19:11:06.142485",
     "status": "completed"
    },
    "tags": []
   },
   "outputs": [],
   "source": [
    "%load_ext autoreload\n",
    "%autoreload 2"
   ]
  },
  {
   "cell_type": "code",
   "execution_count": 4,
   "metadata": {
    "execution": {
     "iopub.execute_input": "2020-12-04T19:11:06.196724Z",
     "iopub.status.busy": "2020-12-04T19:11:06.196330Z",
     "iopub.status.idle": "2020-12-04T19:11:06.756566Z",
     "shell.execute_reply": "2020-12-04T19:11:06.756954Z"
    },
    "papermill": {
     "duration": 0.576633,
     "end_time": "2020-12-04T19:11:06.757106",
     "exception": false,
     "start_time": "2020-12-04T19:11:06.180473",
     "status": "completed"
    },
    "tags": []
   },
   "outputs": [],
   "source": [
    "from pathlib import Path\n",
    "\n",
    "import numpy as np\n",
    "import pandas as pd\n",
    "\n",
    "# from sklearn.cluster import SpectralClustering\n",
    "# import umap\n",
    "import matplotlib.pyplot as plt\n",
    "import seaborn as sns\n",
    "\n",
    "from utils import generate_result_set_name"
   ]
  },
  {
   "cell_type": "markdown",
   "metadata": {
    "papermill": {
     "duration": 0.016598,
     "end_time": "2020-12-04T19:11:06.791136",
     "exception": false,
     "start_time": "2020-12-04T19:11:06.774538",
     "status": "completed"
    },
    "tags": []
   },
   "source": [
    "# Settings"
   ]
  },
  {
   "cell_type": "code",
   "execution_count": 5,
   "metadata": {
    "execution": {
     "iopub.execute_input": "2020-12-04T19:11:06.822877Z",
     "iopub.status.busy": "2020-12-04T19:11:06.822520Z",
     "iopub.status.idle": "2020-12-04T19:11:06.832611Z",
     "shell.execute_reply": "2020-12-04T19:11:06.832254Z"
    },
    "papermill": {
     "duration": 0.026353,
     "end_time": "2020-12-04T19:11:06.832709",
     "exception": false,
     "start_time": "2020-12-04T19:11:06.806356",
     "status": "completed"
    },
    "tags": []
   },
   "outputs": [],
   "source": [
    "RANDOM_GENERATOR = np.random.default_rng(12345)"
   ]
  },
  {
   "cell_type": "markdown",
   "metadata": {
    "papermill": {
     "duration": 0.013677,
     "end_time": "2020-12-04T19:11:06.860604",
     "exception": false,
     "start_time": "2020-12-04T19:11:06.846927",
     "status": "completed"
    },
    "tags": []
   },
   "source": [
    "## Ensemble size"
   ]
  },
  {
   "cell_type": "code",
   "execution_count": 6,
   "metadata": {
    "execution": {
     "iopub.execute_input": "2020-12-04T19:11:06.889574Z",
     "iopub.status.busy": "2020-12-04T19:11:06.889207Z",
     "iopub.status.idle": "2020-12-04T19:11:06.898996Z",
     "shell.execute_reply": "2020-12-04T19:11:06.898614Z"
    },
    "papermill": {
     "duration": 0.025145,
     "end_time": "2020-12-04T19:11:06.899085",
     "exception": false,
     "start_time": "2020-12-04T19:11:06.873940",
     "status": "completed"
    },
    "tags": []
   },
   "outputs": [],
   "source": [
    "EXPECTED_ENSEMBLE_SIZE = 295\n",
    "\n",
    "MIN_ENSEMBLE_SIZE = 290\n",
    "MAX_ENSEMBLE_SIZE = 300"
   ]
  },
  {
   "cell_type": "markdown",
   "metadata": {
    "papermill": {
     "duration": 0.013399,
     "end_time": "2020-12-04T19:11:06.926241",
     "exception": false,
     "start_time": "2020-12-04T19:11:06.912842",
     "status": "completed"
    },
    "tags": []
   },
   "source": [
    "## Data subsets included"
   ]
  },
  {
   "cell_type": "code",
   "execution_count": 7,
   "metadata": {
    "execution": {
     "iopub.execute_input": "2020-12-04T19:11:06.955429Z",
     "iopub.status.busy": "2020-12-04T19:11:06.955067Z",
     "iopub.status.idle": "2020-12-04T19:11:06.964649Z",
     "shell.execute_reply": "2020-12-04T19:11:06.964280Z"
    },
    "papermill": {
     "duration": 0.02521,
     "end_time": "2020-12-04T19:11:06.964786",
     "exception": false,
     "start_time": "2020-12-04T19:11:06.939576",
     "status": "completed"
    },
    "tags": []
   },
   "outputs": [],
   "source": [
    "# DATA_SUBSETS = [\n",
    "#     'z_score_std',\n",
    "#     'pca',\n",
    "#     'umap'\n",
    "# ]"
   ]
  },
  {
   "cell_type": "markdown",
   "metadata": {
    "papermill": {
     "duration": 0.013249,
     "end_time": "2020-12-04T19:11:06.991555",
     "exception": false,
     "start_time": "2020-12-04T19:11:06.978306",
     "status": "completed"
    },
    "tags": []
   },
   "source": [
    "## Algorithms included"
   ]
  },
  {
   "cell_type": "code",
   "execution_count": 8,
   "metadata": {
    "execution": {
     "iopub.execute_input": "2020-12-04T19:11:07.021794Z",
     "iopub.status.busy": "2020-12-04T19:11:07.021421Z",
     "iopub.status.idle": "2020-12-04T19:11:07.030883Z",
     "shell.execute_reply": "2020-12-04T19:11:07.030517Z"
    },
    "papermill": {
     "duration": 0.025766,
     "end_time": "2020-12-04T19:11:07.030984",
     "exception": false,
     "start_time": "2020-12-04T19:11:07.005218",
     "status": "completed"
    },
    "tags": []
   },
   "outputs": [],
   "source": [
    "# ALGORITHMS = [\n",
    "#     'KMeans',\n",
    "#     COMPLETE\n",
    "# ]"
   ]
  },
  {
   "cell_type": "markdown",
   "metadata": {
    "papermill": {
     "duration": 0.01399,
     "end_time": "2020-12-04T19:11:07.059229",
     "exception": false,
     "start_time": "2020-12-04T19:11:07.045239",
     "status": "completed"
    },
    "tags": []
   },
   "source": [
    "## Input data"
   ]
  },
  {
   "cell_type": "code",
   "execution_count": 9,
   "metadata": {
    "execution": {
     "iopub.execute_input": "2020-12-04T19:11:07.089372Z",
     "iopub.status.busy": "2020-12-04T19:11:07.088999Z",
     "iopub.status.idle": "2020-12-04T19:11:07.098296Z",
     "shell.execute_reply": "2020-12-04T19:11:07.097917Z"
    },
    "papermill": {
     "duration": 0.025069,
     "end_time": "2020-12-04T19:11:07.098384",
     "exception": false,
     "start_time": "2020-12-04T19:11:07.073315",
     "status": "completed"
    },
    "tags": []
   },
   "outputs": [],
   "source": [
    "# DATA_SUBSET = 'z_score_std'\n",
    "\n",
    "# INPUT_DIR = Path(\n",
    "#     conf.RESULTS[\"DATA_TRANSFORMATIONS_DIR\"],\n",
    "#     DATA_SUBSET,\n",
    "# ).resolve()\n",
    "# display(INPUT_DIR)"
   ]
  },
  {
   "cell_type": "code",
   "execution_count": 10,
   "metadata": {
    "execution": {
     "iopub.execute_input": "2020-12-04T19:11:07.129954Z",
     "iopub.status.busy": "2020-12-04T19:11:07.129570Z",
     "iopub.status.idle": "2020-12-04T19:11:07.139450Z",
     "shell.execute_reply": "2020-12-04T19:11:07.139119Z"
    },
    "papermill": {
     "duration": 0.027319,
     "end_time": "2020-12-04T19:11:07.139548",
     "exception": false,
     "start_time": "2020-12-04T19:11:07.112229",
     "status": "completed"
    },
    "tags": []
   },
   "outputs": [],
   "source": [
    "# INPUT_STEM = 'projection-smultixcan-efo_partial-mashr-zscores'"
   ]
  },
  {
   "cell_type": "code",
   "execution_count": 11,
   "metadata": {
    "execution": {
     "iopub.execute_input": "2020-12-04T19:11:07.172032Z",
     "iopub.status.busy": "2020-12-04T19:11:07.171670Z",
     "iopub.status.idle": "2020-12-04T19:11:07.180957Z",
     "shell.execute_reply": "2020-12-04T19:11:07.181288Z"
    },
    "papermill": {
     "duration": 0.02651,
     "end_time": "2020-12-04T19:11:07.181402",
     "exception": false,
     "start_time": "2020-12-04T19:11:07.154892",
     "status": "completed"
    },
    "tags": []
   },
   "outputs": [],
   "source": [
    "# INPUT_FILEPATH = Path(\n",
    "#     INPUT_DIR,\n",
    "#     generate_result_set_name(\n",
    "#         {},\n",
    "#         prefix=f'{DATA_SUBSET}-{INPUT_STEM}',\n",
    "#         suffix='.pkl'\n",
    "#     )\n",
    "# ).resolve()\n",
    "# display(INPUT_FILEPATH)\n",
    "\n",
    "# assert INPUT_FILEPATH.exists(), 'Input file does not exist'"
   ]
  },
  {
   "cell_type": "markdown",
   "metadata": {
    "papermill": {
     "duration": 0.01436,
     "end_time": "2020-12-04T19:11:07.210655",
     "exception": false,
     "start_time": "2020-12-04T19:11:07.196295",
     "status": "completed"
    },
    "tags": []
   },
   "source": [
    "## Consensus clustering"
   ]
  },
  {
   "cell_type": "code",
   "execution_count": 12,
   "metadata": {
    "execution": {
     "iopub.execute_input": "2020-12-04T19:11:07.240424Z",
     "iopub.status.busy": "2020-12-04T19:11:07.240064Z",
     "iopub.status.idle": "2020-12-04T19:11:07.249214Z",
     "shell.execute_reply": "2020-12-04T19:11:07.249512Z"
    },
    "papermill": {
     "duration": 0.025253,
     "end_time": "2020-12-04T19:11:07.249621",
     "exception": false,
     "start_time": "2020-12-04T19:11:07.224368",
     "status": "completed"
    },
    "tags": []
   },
   "outputs": [],
   "source": [
    "# ALL_RUNS_OPTIONS = {}\n",
    "\n",
    "# ALL_RUNS_OPTIONS['K_MIN'] = 2\n",
    "# ALL_RUNS_OPTIONS['K_MAX'] = 25\n",
    "# ALL_RUNS_OPTIONS['N_REPS_PER_K'] = 100\n",
    "# ALL_RUNS_OPTIONS['KMEANS_N_INIT'] = 1\n",
    "# ALL_RUNS_OPTIONS['AFFINITY'] = 'nearest_neighbors'\n",
    "# ALL_RUNS_OPTIONS['N_JOBS'] = N_JOBS\n",
    "\n",
    "# display(ALL_RUNS_OPTIONS)"
   ]
  },
  {
   "cell_type": "code",
   "execution_count": 13,
   "metadata": {
    "execution": {
     "iopub.execute_input": "2020-12-04T19:11:07.280008Z",
     "iopub.status.busy": "2020-12-04T19:11:07.279647Z",
     "iopub.status.idle": "2020-12-04T19:11:07.290216Z",
     "shell.execute_reply": "2020-12-04T19:11:07.289843Z"
    },
    "papermill": {
     "duration": 0.026492,
     "end_time": "2020-12-04T19:11:07.290307",
     "exception": false,
     "start_time": "2020-12-04T19:11:07.263815",
     "status": "completed"
    },
    "tags": []
   },
   "outputs": [
    {
     "data": {
      "text/plain": [
       "PosixPath('/home/miltondp/projects/labs/greenelab/phenoplier/base/results/clustering/consensus_clustering')"
      ]
     },
     "metadata": {},
     "output_type": "display_data"
    }
   ],
   "source": [
    "# output dir for this notebook\n",
    "RESULTS_DIR = Path(conf.RESULTS[\"CLUSTERING_DIR\"], \"consensus_clustering\").resolve()\n",
    "RESULTS_DIR.mkdir(parents=True, exist_ok=True)\n",
    "\n",
    "display(RESULTS_DIR)"
   ]
  },
  {
   "cell_type": "markdown",
   "metadata": {
    "papermill": {
     "duration": 0.0146,
     "end_time": "2020-12-04T19:11:07.319700",
     "exception": false,
     "start_time": "2020-12-04T19:11:07.305100",
     "status": "completed"
    },
    "tags": []
   },
   "source": [
    "# Get ensemble"
   ]
  },
  {
   "cell_type": "markdown",
   "metadata": {
    "papermill": {
     "duration": 0.014324,
     "end_time": "2020-12-04T19:11:07.348367",
     "exception": false,
     "start_time": "2020-12-04T19:11:07.334043",
     "status": "completed"
    },
    "tags": []
   },
   "source": [
    "## Load partition files"
   ]
  },
  {
   "cell_type": "code",
   "execution_count": 14,
   "metadata": {
    "execution": {
     "iopub.execute_input": "2020-12-04T19:11:07.379538Z",
     "iopub.status.busy": "2020-12-04T19:11:07.379174Z",
     "iopub.status.idle": "2020-12-04T19:11:07.389608Z",
     "shell.execute_reply": "2020-12-04T19:11:07.389313Z"
    },
    "papermill": {
     "duration": 0.026972,
     "end_time": "2020-12-04T19:11:07.389696",
     "exception": false,
     "start_time": "2020-12-04T19:11:07.362724",
     "status": "completed"
    },
    "tags": []
   },
   "outputs": [
    {
     "data": {
      "text/plain": [
       "PosixPath('/home/miltondp/projects/labs/greenelab/phenoplier/base/results/clustering/runs')"
      ]
     },
     "metadata": {},
     "output_type": "display_data"
    }
   ],
   "source": [
    "input_dir = Path(\n",
    "    conf.RESULTS[\"CLUSTERING_RUNS_DIR\"],\n",
    ").resolve()\n",
    "display(input_dir)"
   ]
  },
  {
   "cell_type": "code",
   "execution_count": 15,
   "metadata": {
    "execution": {
     "iopub.execute_input": "2020-12-04T19:11:07.421822Z",
     "iopub.status.busy": "2020-12-04T19:11:07.421448Z",
     "iopub.status.idle": "2020-12-04T19:11:07.431671Z",
     "shell.execute_reply": "2020-12-04T19:11:07.431345Z"
    },
    "papermill": {
     "duration": 0.027369,
     "end_time": "2020-12-04T19:11:07.431762",
     "exception": false,
     "start_time": "2020-12-04T19:11:07.404393",
     "status": "completed"
    },
    "tags": []
   },
   "outputs": [],
   "source": [
    "included_pkl_files = []\n",
    "\n",
    "for pkl_file in input_dir.rglob(\"*.pkl\"):\n",
    "    pkl_file_str = str(pkl_file)\n",
    "\n",
    "    if \"-stability-\" in pkl_file_str:\n",
    "        continue\n",
    "\n",
    "    included_pkl_files.append(pkl_file)"
   ]
  },
  {
   "cell_type": "code",
   "execution_count": 16,
   "metadata": {
    "execution": {
     "iopub.execute_input": "2020-12-04T19:11:07.464466Z",
     "iopub.status.busy": "2020-12-04T19:11:07.464107Z",
     "iopub.status.idle": "2020-12-04T19:11:07.474271Z",
     "shell.execute_reply": "2020-12-04T19:11:07.474557Z"
    },
    "papermill": {
     "duration": 0.027422,
     "end_time": "2020-12-04T19:11:07.474668",
     "exception": false,
     "start_time": "2020-12-04T19:11:07.447246",
     "status": "completed"
    },
    "tags": []
   },
   "outputs": [
    {
     "data": {
      "text/plain": [
       "16"
      ]
     },
     "metadata": {},
     "output_type": "display_data"
    }
   ],
   "source": [
    "display(len(included_pkl_files))\n",
    "# 5 algorithms, 3 dataset versions + 1 extra run of spectral clustering with rbf in umap\n",
    "assert len(included_pkl_files) == (5 * 3) + 1"
   ]
  },
  {
   "cell_type": "markdown",
   "metadata": {
    "papermill": {
     "duration": 0.015115,
     "end_time": "2020-12-04T19:11:07.505274",
     "exception": false,
     "start_time": "2020-12-04T19:11:07.490159",
     "status": "completed"
    },
    "tags": []
   },
   "source": [
    "## Combine partition files to get final ensemble"
   ]
  },
  {
   "cell_type": "code",
   "execution_count": 17,
   "metadata": {
    "execution": {
     "iopub.execute_input": "2020-12-04T19:11:07.537087Z",
     "iopub.status.busy": "2020-12-04T19:11:07.536675Z",
     "iopub.status.idle": "2020-12-04T19:11:07.546319Z",
     "shell.execute_reply": "2020-12-04T19:11:07.545962Z"
    },
    "papermill": {
     "duration": 0.02644,
     "end_time": "2020-12-04T19:11:07.546405",
     "exception": false,
     "start_time": "2020-12-04T19:11:07.519965",
     "status": "completed"
    },
    "tags": []
   },
   "outputs": [],
   "source": [
    "n_partitions = 0"
   ]
  },
  {
   "cell_type": "code",
   "execution_count": 18,
   "metadata": {
    "execution": {
     "iopub.execute_input": "2020-12-04T19:11:07.578540Z",
     "iopub.status.busy": "2020-12-04T19:11:07.578185Z",
     "iopub.status.idle": "2020-12-04T19:11:07.587378Z",
     "shell.execute_reply": "2020-12-04T19:11:07.587661Z"
    },
    "papermill": {
     "duration": 0.026565,
     "end_time": "2020-12-04T19:11:07.587774",
     "exception": false,
     "start_time": "2020-12-04T19:11:07.561209",
     "status": "completed"
    },
    "tags": []
   },
   "outputs": [],
   "source": [
    "ensembles_list = []"
   ]
  },
  {
   "cell_type": "code",
   "execution_count": 19,
   "metadata": {
    "execution": {
     "iopub.execute_input": "2020-12-04T19:11:07.622356Z",
     "iopub.status.busy": "2020-12-04T19:11:07.621976Z",
     "iopub.status.idle": "2020-12-04T19:11:07.768072Z",
     "shell.execute_reply": "2020-12-04T19:11:07.767598Z"
    },
    "papermill": {
     "duration": 0.165073,
     "end_time": "2020-12-04T19:11:07.768183",
     "exception": false,
     "start_time": "2020-12-04T19:11:07.603110",
     "status": "completed"
    },
    "tags": []
   },
   "outputs": [
    {
     "name": "stdout",
     "output_type": "stream",
     "text": [
      "More partitions than expected in umap-z_score_std-projection-smultixcan-efo_partial-mashr-zscores/DBSCAN.pkl\n",
      "Less partitions than expected in z_score_std-projection-smultixcan-efo_partial-mashr-zscores/DBSCAN.pkl\n",
      "Less partitions than expected in pca-z_score_std-projection-smultixcan-efo_partial-mashr-zscores/DBSCAN.pkl\n"
     ]
    }
   ],
   "source": [
    "for ens_file in included_pkl_files:\n",
    "    ens = pd.read_pickle(ens_file)\n",
    "    #     ens_by_k = ens.groupby('n_clusters').apply(\n",
    "    #         lambda x: np.concatenate(x['partition'].apply(lambda x: x.reshape(1, -1)), axis=0)\n",
    "    #     )\n",
    "    short_file_path = Path(*ens_file.parts[-2:])\n",
    "\n",
    "    if ens.shape[0] < MIN_ENSEMBLE_SIZE:\n",
    "        print(f\"Less partitions than expected in {short_file_path}\")\n",
    "\n",
    "        ens = ens.sample(\n",
    "            n=EXPECTED_ENSEMBLE_SIZE,\n",
    "            replace=True,\n",
    "            random_state=RANDOM_GENERATOR.bit_generator,\n",
    "        )\n",
    "        assert ens.shape[0] == EXPECTED_ENSEMBLE_SIZE\n",
    "\n",
    "    elif ens.shape[0] > MAX_ENSEMBLE_SIZE:\n",
    "        print(f\"More partitions than expected in {short_file_path}\")\n",
    "\n",
    "        ens = ens.sample(\n",
    "            n=EXPECTED_ENSEMBLE_SIZE, random_state=RANDOM_GENERATOR.bit_generator\n",
    "        )\n",
    "        assert ens.shape[0] == EXPECTED_ENSEMBLE_SIZE\n",
    "\n",
    "    ens_full_format = np.concatenate(\n",
    "        ens[\"partition\"].apply(lambda x: x.reshape(1, -1)), axis=0\n",
    "    )\n",
    "\n",
    "    # check ensemble size\n",
    "    #     n_parts = ensemble_full_format.shape[0]\n",
    "    #     if n_parts > MAX_ENSEMBLE_SIZE:\n",
    "\n",
    "    n_partitions += ens_full_format.shape[0]\n",
    "\n",
    "    ensembles_list.append(ens_full_format)"
   ]
  },
  {
   "cell_type": "code",
   "execution_count": 20,
   "metadata": {
    "execution": {
     "iopub.execute_input": "2020-12-04T19:11:07.805205Z",
     "iopub.status.busy": "2020-12-04T19:11:07.804824Z",
     "iopub.status.idle": "2020-12-04T19:11:07.815528Z",
     "shell.execute_reply": "2020-12-04T19:11:07.815142Z"
    },
    "papermill": {
     "duration": 0.029031,
     "end_time": "2020-12-04T19:11:07.815621",
     "exception": false,
     "start_time": "2020-12-04T19:11:07.786590",
     "status": "completed"
    },
    "tags": []
   },
   "outputs": [
    {
     "data": {
      "text/plain": [
       "16"
      ]
     },
     "metadata": {},
     "output_type": "display_data"
    }
   ],
   "source": [
    "display(len(ensembles_list))\n",
    "assert len(ensembles_list) == len(included_pkl_files)"
   ]
  },
  {
   "cell_type": "code",
   "execution_count": 21,
   "metadata": {
    "execution": {
     "iopub.execute_input": "2020-12-04T19:11:07.851206Z",
     "iopub.status.busy": "2020-12-04T19:11:07.850849Z",
     "iopub.status.idle": "2020-12-04T19:11:07.861771Z",
     "shell.execute_reply": "2020-12-04T19:11:07.861399Z"
    },
    "papermill": {
     "duration": 0.029523,
     "end_time": "2020-12-04T19:11:07.861861",
     "exception": false,
     "start_time": "2020-12-04T19:11:07.832338",
     "status": "completed"
    },
    "tags": []
   },
   "outputs": [
    {
     "data": {
      "text/plain": [
       "3749"
      ]
     },
     "metadata": {},
     "output_type": "display_data"
    }
   ],
   "source": [
    "n_data_objects = ensembles_list[0].shape[1]\n",
    "display(n_data_objects)"
   ]
  },
  {
   "cell_type": "code",
   "execution_count": 22,
   "metadata": {
    "execution": {
     "iopub.execute_input": "2020-12-04T19:11:07.896166Z",
     "iopub.status.busy": "2020-12-04T19:11:07.895808Z",
     "iopub.status.idle": "2020-12-04T19:11:07.906247Z",
     "shell.execute_reply": "2020-12-04T19:11:07.905879Z"
    },
    "papermill": {
     "duration": 0.028121,
     "end_time": "2020-12-04T19:11:07.906334",
     "exception": false,
     "start_time": "2020-12-04T19:11:07.878213",
     "status": "completed"
    },
    "tags": []
   },
   "outputs": [
    {
     "data": {
      "text/plain": [
       "4723"
      ]
     },
     "metadata": {},
     "output_type": "display_data"
    }
   ],
   "source": [
    "display(n_partitions)"
   ]
  },
  {
   "cell_type": "code",
   "execution_count": 23,
   "metadata": {
    "execution": {
     "iopub.execute_input": "2020-12-04T19:11:07.942133Z",
     "iopub.status.busy": "2020-12-04T19:11:07.941775Z",
     "iopub.status.idle": "2020-12-04T19:11:08.178895Z",
     "shell.execute_reply": "2020-12-04T19:11:08.179221Z"
    },
    "papermill": {
     "duration": 0.256397,
     "end_time": "2020-12-04T19:11:08.179345",
     "exception": false,
     "start_time": "2020-12-04T19:11:07.922948",
     "status": "completed"
    },
    "tags": []
   },
   "outputs": [],
   "source": [
    "full_ensemble = ensembles_list[0]\n",
    "for ens in ensembles_list[1:]:\n",
    "    full_ensemble = np.concatenate((full_ensemble, ens), axis=0)"
   ]
  },
  {
   "cell_type": "code",
   "execution_count": 24,
   "metadata": {
    "execution": {
     "iopub.execute_input": "2020-12-04T19:11:08.216403Z",
     "iopub.status.busy": "2020-12-04T19:11:08.216043Z",
     "iopub.status.idle": "2020-12-04T19:11:08.226495Z",
     "shell.execute_reply": "2020-12-04T19:11:08.226174Z"
    },
    "papermill": {
     "duration": 0.029678,
     "end_time": "2020-12-04T19:11:08.226584",
     "exception": false,
     "start_time": "2020-12-04T19:11:08.196906",
     "status": "completed"
    },
    "tags": []
   },
   "outputs": [
    {
     "data": {
      "text/plain": [
       "(4723, 3749)"
      ]
     },
     "metadata": {},
     "output_type": "display_data"
    }
   ],
   "source": [
    "display(full_ensemble.shape)\n",
    "assert full_ensemble.shape == (n_partitions, n_data_objects)"
   ]
  },
  {
   "cell_type": "markdown",
   "metadata": {
    "papermill": {
     "duration": 0.016499,
     "end_time": "2020-12-04T19:11:08.260041",
     "exception": false,
     "start_time": "2020-12-04T19:11:08.243542",
     "status": "completed"
    },
    "tags": []
   },
   "source": [
    "## Save"
   ]
  },
  {
   "cell_type": "code",
   "execution_count": 25,
   "metadata": {
    "execution": {
     "iopub.execute_input": "2020-12-04T19:11:08.294561Z",
     "iopub.status.busy": "2020-12-04T19:11:08.294203Z",
     "iopub.status.idle": "2020-12-04T19:11:08.305207Z",
     "shell.execute_reply": "2020-12-04T19:11:08.304831Z"
    },
    "papermill": {
     "duration": 0.029261,
     "end_time": "2020-12-04T19:11:08.305298",
     "exception": false,
     "start_time": "2020-12-04T19:11:08.276037",
     "status": "completed"
    },
    "tags": []
   },
   "outputs": [
    {
     "data": {
      "text/plain": [
       "PosixPath('/home/miltondp/projects/labs/greenelab/phenoplier/base/results/clustering/consensus_clustering/ensemble.npy')"
      ]
     },
     "metadata": {},
     "output_type": "display_data"
    }
   ],
   "source": [
    "output_file = Path(RESULTS_DIR, \"ensemble.npy\").resolve()\n",
    "display(output_file)"
   ]
  },
  {
   "cell_type": "code",
   "execution_count": 26,
   "metadata": {
    "execution": {
     "iopub.execute_input": "2020-12-04T19:11:08.342283Z",
     "iopub.status.busy": "2020-12-04T19:11:08.341922Z",
     "iopub.status.idle": "2020-12-04T19:11:08.352991Z",
     "shell.execute_reply": "2020-12-04T19:11:08.352574Z"
    },
    "papermill": {
     "duration": 0.030471,
     "end_time": "2020-12-04T19:11:08.353081",
     "exception": false,
     "start_time": "2020-12-04T19:11:08.322610",
     "status": "completed"
    },
    "tags": []
   },
   "outputs": [
    {
     "data": {
      "text/plain": [
       "array([[0., 0., 0., ..., 0., 0., 0.],\n",
       "       [0., 0., 0., ..., 0., 0., 0.],\n",
       "       [0., 0., 0., ..., 0., 0., 0.],\n",
       "       ...,\n",
       "       [0., 0., 0., ..., 0., 0., 0.],\n",
       "       [0., 0., 0., ..., 0., 0., 0.],\n",
       "       [0., 0., 0., ..., 0., 0., 0.]])"
      ]
     },
     "execution_count": 26,
     "metadata": {},
     "output_type": "execute_result"
    }
   ],
   "source": [
    "full_ensemble"
   ]
  },
  {
   "cell_type": "code",
   "execution_count": 27,
   "metadata": {
    "execution": {
     "iopub.execute_input": "2020-12-04T19:11:08.389784Z",
     "iopub.status.busy": "2020-12-04T19:11:08.389431Z",
     "iopub.status.idle": "2020-12-04T19:11:08.464503Z",
     "shell.execute_reply": "2020-12-04T19:11:08.464161Z"
    },
    "papermill": {
     "duration": 0.094293,
     "end_time": "2020-12-04T19:11:08.464603",
     "exception": false,
     "start_time": "2020-12-04T19:11:08.370310",
     "status": "completed"
    },
    "tags": []
   },
   "outputs": [],
   "source": [
    "np.save(output_file, full_ensemble)"
   ]
  },
  {
   "cell_type": "markdown",
   "metadata": {
    "papermill": {
     "duration": 0.017146,
     "end_time": "2020-12-04T19:11:08.500021",
     "exception": false,
     "start_time": "2020-12-04T19:11:08.482875",
     "status": "completed"
    },
    "tags": []
   },
   "source": [
    "# Get coassociation matrix from ensemble"
   ]
  },
  {
   "cell_type": "code",
   "execution_count": 28,
   "metadata": {
    "execution": {
     "iopub.execute_input": "2020-12-04T19:11:08.535767Z",
     "iopub.status.busy": "2020-12-04T19:11:08.535411Z",
     "iopub.status.idle": "2020-12-04T19:11:08.669183Z",
     "shell.execute_reply": "2020-12-04T19:11:08.668819Z"
    },
    "papermill": {
     "duration": 0.152649,
     "end_time": "2020-12-04T19:11:08.669270",
     "exception": false,
     "start_time": "2020-12-04T19:11:08.516621",
     "status": "completed"
    },
    "tags": []
   },
   "outputs": [],
   "source": [
    "from clustering.ensemble import get_ensemble_distance_matrix"
   ]
  },
  {
   "cell_type": "code",
   "execution_count": 29,
   "metadata": {
    "execution": {
     "iopub.execute_input": "2020-12-04T19:11:08.705446Z",
     "iopub.status.busy": "2020-12-04T19:11:08.705085Z",
     "iopub.status.idle": "2020-12-04T19:26:10.891918Z",
     "shell.execute_reply": "2020-12-04T19:26:10.891429Z"
    },
    "papermill": {
     "duration": 902.205653,
     "end_time": "2020-12-04T19:26:10.892030",
     "exception": false,
     "start_time": "2020-12-04T19:11:08.686377",
     "status": "completed"
    },
    "tags": []
   },
   "outputs": [],
   "source": [
    "ensemble_coassoc_matrix = get_ensemble_distance_matrix(\n",
    "    full_ensemble,\n",
    "    n_jobs=conf.GENERAL[\"N_JOBS\"],\n",
    ")"
   ]
  },
  {
   "cell_type": "code",
   "execution_count": 30,
   "metadata": {
    "execution": {
     "iopub.execute_input": "2020-12-04T19:26:11.833708Z",
     "iopub.status.busy": "2020-12-04T19:26:11.832139Z",
     "iopub.status.idle": "2020-12-04T19:26:11.869469Z",
     "shell.execute_reply": "2020-12-04T19:26:11.868678Z"
    },
    "papermill": {
     "duration": 0.955856,
     "end_time": "2020-12-04T19:26:11.869645",
     "exception": false,
     "start_time": "2020-12-04T19:26:10.913789",
     "status": "completed"
    },
    "tags": []
   },
   "outputs": [
    {
     "data": {
      "text/plain": [
       "(3749, 3749)"
      ]
     },
     "execution_count": 30,
     "metadata": {},
     "output_type": "execute_result"
    }
   ],
   "source": [
    "ensemble_coassoc_matrix.shape"
   ]
  },
  {
   "cell_type": "code",
   "execution_count": 31,
   "metadata": {
    "execution": {
     "iopub.execute_input": "2020-12-04T19:26:11.910233Z",
     "iopub.status.busy": "2020-12-04T19:26:11.909878Z",
     "iopub.status.idle": "2020-12-04T19:26:11.922017Z",
     "shell.execute_reply": "2020-12-04T19:26:11.921635Z"
    },
    "papermill": {
     "duration": 0.03171,
     "end_time": "2020-12-04T19:26:11.922108",
     "exception": false,
     "start_time": "2020-12-04T19:26:11.890398",
     "status": "completed"
    },
    "tags": []
   },
   "outputs": [
    {
     "data": {
      "text/plain": [
       "array([[0.        , 0.04691148, 0.04563787, ..., 0.64168966, 0.67601713,\n",
       "        0.68860115],\n",
       "       [0.04691148, 0.        , 0.02101465, ..., 0.64147739, 0.67665953,\n",
       "        0.68647845],\n",
       "       [0.04563787, 0.02101465, 0.        , ..., 0.64084059, 0.6745182 ,\n",
       "        0.68414349],\n",
       "       ...,\n",
       "       [0.64168966, 0.64147739, 0.64084059, ..., 0.        , 0.57219137,\n",
       "        0.68177006],\n",
       "       [0.67601713, 0.67665953, 0.6745182 , ..., 0.57219137, 0.        ,\n",
       "        0.63498505],\n",
       "       [0.68860115, 0.68647845, 0.68414349, ..., 0.68177006, 0.63498505,\n",
       "        0.        ]])"
      ]
     },
     "execution_count": 31,
     "metadata": {},
     "output_type": "execute_result"
    }
   ],
   "source": [
    "ensemble_coassoc_matrix"
   ]
  },
  {
   "cell_type": "markdown",
   "metadata": {
    "papermill": {
     "duration": 0.017374,
     "end_time": "2020-12-04T19:26:11.957721",
     "exception": false,
     "start_time": "2020-12-04T19:26:11.940347",
     "status": "completed"
    },
    "tags": []
   },
   "source": [
    "## Save"
   ]
  },
  {
   "cell_type": "code",
   "execution_count": 32,
   "metadata": {
    "execution": {
     "iopub.execute_input": "2020-12-04T19:26:11.995638Z",
     "iopub.status.busy": "2020-12-04T19:26:11.995274Z",
     "iopub.status.idle": "2020-12-04T19:26:12.006805Z",
     "shell.execute_reply": "2020-12-04T19:26:12.006467Z"
    },
    "papermill": {
     "duration": 0.031667,
     "end_time": "2020-12-04T19:26:12.006893",
     "exception": false,
     "start_time": "2020-12-04T19:26:11.975226",
     "status": "completed"
    },
    "tags": []
   },
   "outputs": [
    {
     "data": {
      "text/plain": [
       "PosixPath('/home/miltondp/projects/labs/greenelab/phenoplier/base/results/clustering/consensus_clustering/ensemble_coassoc_matrix.npy')"
      ]
     },
     "metadata": {},
     "output_type": "display_data"
    }
   ],
   "source": [
    "output_file = Path(RESULTS_DIR, \"ensemble_coassoc_matrix.npy\").resolve()\n",
    "display(output_file)"
   ]
  },
  {
   "cell_type": "code",
   "execution_count": 33,
   "metadata": {
    "execution": {
     "iopub.execute_input": "2020-12-04T19:26:12.045035Z",
     "iopub.status.busy": "2020-12-04T19:26:12.044636Z",
     "iopub.status.idle": "2020-12-04T19:26:12.107172Z",
     "shell.execute_reply": "2020-12-04T19:26:12.106799Z"
    },
    "papermill": {
     "duration": 0.082496,
     "end_time": "2020-12-04T19:26:12.107274",
     "exception": false,
     "start_time": "2020-12-04T19:26:12.024778",
     "status": "completed"
    },
    "tags": []
   },
   "outputs": [],
   "source": [
    "np.save(output_file, ensemble_coassoc_matrix)"
   ]
  },
  {
   "cell_type": "code",
   "execution_count": null,
   "metadata": {
    "papermill": {
     "duration": 0.018754,
     "end_time": "2020-12-04T19:26:12.146014",
     "exception": false,
     "start_time": "2020-12-04T19:26:12.127260",
     "status": "completed"
    },
    "tags": []
   },
   "outputs": [],
   "source": []
  }
 ],
 "metadata": {
  "jupytext": {
   "formats": "ipynb,py//py:percent"
  },
  "kernelspec": {
   "display_name": "Python 3",
   "language": "python",
   "name": "python3"
  },
  "language_info": {
   "codemirror_mode": {
    "name": "ipython",
    "version": 3
   },
   "file_extension": ".py",
   "mimetype": "text/x-python",
   "name": "python",
   "nbconvert_exporter": "python",
   "pygments_lexer": "ipython3",
   "version": "3.8.6"
  },
  "papermill": {
   "default_parameters": {},
   "duration": 908.353854,
   "end_time": "2020-12-04T19:26:13.487439",
   "environment_variables": {},
   "exception": null,
   "input_path": "15_cluster_analysis/020_00-consensus_clustering-generate_ensemble.ipynb",
   "output_path": "15_cluster_analysis/020_00-consensus_clustering-generate_ensemble.run.ipynb",
   "parameters": {},
   "start_time": "2020-12-04T19:11:05.133585",
   "version": "2.2.2"
  },
  "toc-autonumbering": true,
  "toc-showcode": false,
  "toc-showmarkdowntxt": false,
  "toc-showtags": false
 },
 "nbformat": 4,
 "nbformat_minor": 4
}
