{
 "cells": [
  {
   "cell_type": "markdown",
   "metadata": {
    "papermill": {
     "duration": 0.027958,
     "end_time": "2020-12-02T16:52:23.816602",
     "exception": false,
     "start_time": "2020-12-02T16:52:23.788644",
     "status": "completed"
    },
    "tags": []
   },
   "source": [
    "# Description"
   ]
  },
  {
   "cell_type": "markdown",
   "metadata": {
    "papermill": {
     "duration": 0.017652,
     "end_time": "2020-12-02T16:52:23.852232",
     "exception": false,
     "start_time": "2020-12-02T16:52:23.834580",
     "status": "completed"
    },
    "tags": []
   },
   "source": [
    "Runs gaussian mixture model on the umap version of the data."
   ]
  },
  {
   "cell_type": "markdown",
   "metadata": {
    "papermill": {
     "duration": 0.017282,
     "end_time": "2020-12-02T16:52:23.887127",
     "exception": false,
     "start_time": "2020-12-02T16:52:23.869845",
     "status": "completed"
    },
    "tags": []
   },
   "source": [
    "# Environment variables"
   ]
  },
  {
   "cell_type": "code",
   "execution_count": 1,
   "metadata": {
    "execution": {
     "iopub.execute_input": "2020-12-02T16:52:23.925761Z",
     "iopub.status.busy": "2020-12-02T16:52:23.925382Z",
     "iopub.status.idle": "2020-12-02T16:52:23.935769Z",
     "shell.execute_reply": "2020-12-02T16:52:23.935332Z"
    },
    "papermill": {
     "duration": 0.031233,
     "end_time": "2020-12-02T16:52:23.935889",
     "exception": false,
     "start_time": "2020-12-02T16:52:23.904656",
     "status": "completed"
    },
    "tags": []
   },
   "outputs": [
    {
     "data": {
      "text/plain": [
       "3"
      ]
     },
     "metadata": {},
     "output_type": "display_data"
    }
   ],
   "source": [
    "from IPython.display import display\n",
    "\n",
    "import conf\n",
    "\n",
    "N_JOBS = conf.GENERAL['N_JOBS']\n",
    "display(N_JOBS)"
   ]
  },
  {
   "cell_type": "code",
   "execution_count": 2,
   "metadata": {
    "execution": {
     "iopub.execute_input": "2020-12-02T16:52:23.977166Z",
     "iopub.status.busy": "2020-12-02T16:52:23.976680Z",
     "iopub.status.idle": "2020-12-02T16:52:23.979280Z",
     "shell.execute_reply": "2020-12-02T16:52:23.978895Z"
    },
    "papermill": {
     "duration": 0.02484,
     "end_time": "2020-12-02T16:52:23.979365",
     "exception": false,
     "start_time": "2020-12-02T16:52:23.954525",
     "status": "completed"
    },
    "tags": []
   },
   "outputs": [
    {
     "name": "stdout",
     "output_type": "stream",
     "text": [
      "env: MKL_NUM_THREADS=3\n",
      "env: OPEN_BLAS_NUM_THREADS=3\n",
      "env: NUMEXPR_NUM_THREADS=3\n",
      "env: OMP_NUM_THREADS=3\n"
     ]
    }
   ],
   "source": [
    "%env MKL_NUM_THREADS=$N_JOBS\n",
    "%env OPEN_BLAS_NUM_THREADS=$N_JOBS\n",
    "%env NUMEXPR_NUM_THREADS=$N_JOBS\n",
    "%env OMP_NUM_THREADS=$N_JOBS"
   ]
  },
  {
   "cell_type": "markdown",
   "metadata": {
    "papermill": {
     "duration": 0.018246,
     "end_time": "2020-12-02T16:52:24.016462",
     "exception": false,
     "start_time": "2020-12-02T16:52:23.998216",
     "status": "completed"
    },
    "tags": []
   },
   "source": [
    "# Modules loading"
   ]
  },
  {
   "cell_type": "code",
   "execution_count": 3,
   "metadata": {
    "execution": {
     "iopub.execute_input": "2020-12-02T16:52:24.055564Z",
     "iopub.status.busy": "2020-12-02T16:52:24.055194Z",
     "iopub.status.idle": "2020-12-02T16:52:24.062762Z",
     "shell.execute_reply": "2020-12-02T16:52:24.062441Z"
    },
    "papermill": {
     "duration": 0.028318,
     "end_time": "2020-12-02T16:52:24.062849",
     "exception": false,
     "start_time": "2020-12-02T16:52:24.034531",
     "status": "completed"
    },
    "tags": []
   },
   "outputs": [],
   "source": [
    "%load_ext autoreload\n",
    "%autoreload 2"
   ]
  },
  {
   "cell_type": "code",
   "execution_count": 4,
   "metadata": {
    "execution": {
     "iopub.execute_input": "2020-12-02T16:52:24.102417Z",
     "iopub.status.busy": "2020-12-02T16:52:24.102043Z",
     "iopub.status.idle": "2020-12-02T16:52:25.689981Z",
     "shell.execute_reply": "2020-12-02T16:52:25.689594Z"
    },
    "papermill": {
     "duration": 1.608536,
     "end_time": "2020-12-02T16:52:25.690085",
     "exception": false,
     "start_time": "2020-12-02T16:52:24.081549",
     "status": "completed"
    },
    "tags": []
   },
   "outputs": [],
   "source": [
    "from pathlib import Path\n",
    "\n",
    "import numpy as np\n",
    "import pandas as pd\n",
    "import umap\n",
    "import matplotlib.pyplot as plt\n",
    "import seaborn as sns\n",
    "\n",
    "from utils import generate_result_set_name"
   ]
  },
  {
   "cell_type": "markdown",
   "metadata": {
    "papermill": {
     "duration": 0.018292,
     "end_time": "2020-12-02T16:52:25.729097",
     "exception": false,
     "start_time": "2020-12-02T16:52:25.710805",
     "status": "completed"
    },
    "tags": []
   },
   "source": [
    "# Settings"
   ]
  },
  {
   "cell_type": "code",
   "execution_count": 5,
   "metadata": {
    "execution": {
     "iopub.execute_input": "2020-12-02T16:52:25.767402Z",
     "iopub.status.busy": "2020-12-02T16:52:25.767038Z",
     "iopub.status.idle": "2020-12-02T16:52:25.778551Z",
     "shell.execute_reply": "2020-12-02T16:52:25.778839Z"
    },
    "papermill": {
     "duration": 0.032019,
     "end_time": "2020-12-02T16:52:25.778951",
     "exception": false,
     "start_time": "2020-12-02T16:52:25.746932",
     "status": "completed"
    },
    "tags": []
   },
   "outputs": [],
   "source": [
    "INITIAL_RANDOM_STATE = 80000"
   ]
  },
  {
   "cell_type": "markdown",
   "metadata": {
    "papermill": {
     "duration": 0.020386,
     "end_time": "2020-12-02T16:52:25.818553",
     "exception": false,
     "start_time": "2020-12-02T16:52:25.798167",
     "status": "completed"
    },
    "tags": []
   },
   "source": [
    "## Input data"
   ]
  },
  {
   "cell_type": "code",
   "execution_count": 6,
   "metadata": {
    "execution": {
     "iopub.execute_input": "2020-12-02T16:52:25.857766Z",
     "iopub.status.busy": "2020-12-02T16:52:25.857390Z",
     "iopub.status.idle": "2020-12-02T16:52:25.869151Z",
     "shell.execute_reply": "2020-12-02T16:52:25.868767Z"
    },
    "papermill": {
     "duration": 0.032183,
     "end_time": "2020-12-02T16:52:25.869240",
     "exception": false,
     "start_time": "2020-12-02T16:52:25.837057",
     "status": "completed"
    },
    "tags": []
   },
   "outputs": [],
   "source": [
    "INPUT_SUBSET = 'umap'"
   ]
  },
  {
   "cell_type": "code",
   "execution_count": 7,
   "metadata": {
    "execution": {
     "iopub.execute_input": "2020-12-02T16:52:25.908804Z",
     "iopub.status.busy": "2020-12-02T16:52:25.908397Z",
     "iopub.status.idle": "2020-12-02T16:52:25.920160Z",
     "shell.execute_reply": "2020-12-02T16:52:25.919776Z"
    },
    "papermill": {
     "duration": 0.032292,
     "end_time": "2020-12-02T16:52:25.920249",
     "exception": false,
     "start_time": "2020-12-02T16:52:25.887957",
     "status": "completed"
    },
    "tags": []
   },
   "outputs": [],
   "source": [
    "INPUT_STEM = 'z_score_std-projection-smultixcan-efo_partial-mashr-zscores'"
   ]
  },
  {
   "cell_type": "code",
   "execution_count": 8,
   "metadata": {
    "execution": {
     "iopub.execute_input": "2020-12-02T16:52:25.961071Z",
     "iopub.status.busy": "2020-12-02T16:52:25.960657Z",
     "iopub.status.idle": "2020-12-02T16:52:25.972447Z",
     "shell.execute_reply": "2020-12-02T16:52:25.972051Z"
    },
    "papermill": {
     "duration": 0.03286,
     "end_time": "2020-12-02T16:52:25.972536",
     "exception": false,
     "start_time": "2020-12-02T16:52:25.939676",
     "status": "completed"
    },
    "tags": []
   },
   "outputs": [],
   "source": [
    "DR_OPTIONS = {\n",
    "    'n_components': 50,\n",
    "    'metric': 'euclidean',\n",
    "    'n_neighbors': 15,\n",
    "    'random_state': 0,\n",
    "}"
   ]
  },
  {
   "cell_type": "code",
   "execution_count": 9,
   "metadata": {
    "execution": {
     "iopub.execute_input": "2020-12-02T16:52:26.013753Z",
     "iopub.status.busy": "2020-12-02T16:52:26.013370Z",
     "iopub.status.idle": "2020-12-02T16:52:26.027111Z",
     "shell.execute_reply": "2020-12-02T16:52:26.026731Z"
    },
    "papermill": {
     "duration": 0.03511,
     "end_time": "2020-12-02T16:52:26.027199",
     "exception": false,
     "start_time": "2020-12-02T16:52:25.992089",
     "status": "completed"
    },
    "tags": []
   },
   "outputs": [
    {
     "data": {
      "text/plain": [
       "PosixPath('/home/miltondp/projects/labs/greenelab/phenoplier/base/results/data_transformations/umap/umap-z_score_std-projection-smultixcan-efo_partial-mashr-zscores-metric_euclidean-n_components_50-n_neighbors_15-random_state_0.pkl')"
      ]
     },
     "metadata": {},
     "output_type": "display_data"
    },
    {
     "data": {
      "text/plain": [
       "'umap-z_score_std-projection-smultixcan-efo_partial-mashr-zscores-metric_euclidean-n_components_50-n_neighbors_15-random_state_0'"
      ]
     },
     "metadata": {},
     "output_type": "display_data"
    }
   ],
   "source": [
    "input_filepath = Path(\n",
    "    conf.RESULTS[\"DATA_TRANSFORMATIONS_DIR\"],\n",
    "    INPUT_SUBSET,\n",
    "    generate_result_set_name(\n",
    "        DR_OPTIONS,\n",
    "        prefix=f'{INPUT_SUBSET}-{INPUT_STEM}-',\n",
    "        suffix='.pkl'\n",
    "    )\n",
    ").resolve()\n",
    "display(input_filepath)\n",
    "\n",
    "assert input_filepath.exists(), 'Input file does not exist'\n",
    "\n",
    "input_filepath_stem = input_filepath.stem\n",
    "display(input_filepath_stem)"
   ]
  },
  {
   "cell_type": "markdown",
   "metadata": {
    "papermill": {
     "duration": 0.018877,
     "end_time": "2020-12-02T16:52:26.065859",
     "exception": false,
     "start_time": "2020-12-02T16:52:26.046982",
     "status": "completed"
    },
    "tags": []
   },
   "source": [
    "## Clustering"
   ]
  },
  {
   "cell_type": "code",
   "execution_count": 10,
   "metadata": {
    "execution": {
     "iopub.execute_input": "2020-12-02T16:52:26.106267Z",
     "iopub.status.busy": "2020-12-02T16:52:26.105905Z",
     "iopub.status.idle": "2020-12-02T16:52:26.124857Z",
     "shell.execute_reply": "2020-12-02T16:52:26.124514Z"
    },
    "papermill": {
     "duration": 0.040341,
     "end_time": "2020-12-02T16:52:26.124952",
     "exception": false,
     "start_time": "2020-12-02T16:52:26.084611",
     "status": "completed"
    },
    "tags": []
   },
   "outputs": [],
   "source": [
    "from sklearn.mixture import GaussianMixture"
   ]
  },
  {
   "cell_type": "code",
   "execution_count": 11,
   "metadata": {
    "execution": {
     "iopub.execute_input": "2020-12-02T16:52:26.167368Z",
     "iopub.status.busy": "2020-12-02T16:52:26.167002Z",
     "iopub.status.idle": "2020-12-02T16:52:26.178481Z",
     "shell.execute_reply": "2020-12-02T16:52:26.178777Z"
    },
    "papermill": {
     "duration": 0.033843,
     "end_time": "2020-12-02T16:52:26.178892",
     "exception": false,
     "start_time": "2020-12-02T16:52:26.145049",
     "status": "completed"
    },
    "tags": []
   },
   "outputs": [],
   "source": [
    "CLUSTERING_ATTRIBUTES_TO_SAVE = ['n_clusters']"
   ]
  },
  {
   "cell_type": "code",
   "execution_count": 12,
   "metadata": {
    "execution": {
     "iopub.execute_input": "2020-12-02T16:52:26.221526Z",
     "iopub.status.busy": "2020-12-02T16:52:26.221149Z",
     "iopub.status.idle": "2020-12-02T16:52:26.234356Z",
     "shell.execute_reply": "2020-12-02T16:52:26.233972Z"
    },
    "papermill": {
     "duration": 0.034859,
     "end_time": "2020-12-02T16:52:26.234445",
     "exception": false,
     "start_time": "2020-12-02T16:52:26.199586",
     "status": "completed"
    },
    "tags": []
   },
   "outputs": [
    {
     "data": {
      "text/plain": [
       "{'K_MIN': 2,\n",
       " 'K_MAX': 60,\n",
       " 'N_REPS_PER_K': 5,\n",
       " 'N_INIT': 10,\n",
       " 'COVARIANCE_TYPE': 'full'}"
      ]
     },
     "metadata": {},
     "output_type": "display_data"
    }
   ],
   "source": [
    "CLUSTERING_OPTIONS = {}\n",
    "\n",
    "CLUSTERING_OPTIONS['K_MIN'] = 2\n",
    "CLUSTERING_OPTIONS['K_MAX'] = 60 # sqrt(3749)\n",
    "CLUSTERING_OPTIONS['N_REPS_PER_K'] = 5\n",
    "CLUSTERING_OPTIONS['N_INIT'] = 10\n",
    "CLUSTERING_OPTIONS['COVARIANCE_TYPE'] = 'full'\n",
    "\n",
    "display(CLUSTERING_OPTIONS)"
   ]
  },
  {
   "cell_type": "code",
   "execution_count": 13,
   "metadata": {
    "execution": {
     "iopub.execute_input": "2020-12-02T16:52:26.277408Z",
     "iopub.status.busy": "2020-12-02T16:52:26.277023Z",
     "iopub.status.idle": "2020-12-02T16:52:26.290267Z",
     "shell.execute_reply": "2020-12-02T16:52:26.289885Z"
    },
    "papermill": {
     "duration": 0.035585,
     "end_time": "2020-12-02T16:52:26.290357",
     "exception": false,
     "start_time": "2020-12-02T16:52:26.254772",
     "status": "completed"
    },
    "tags": []
   },
   "outputs": [],
   "source": [
    "CLUSTERERS = {}\n",
    "\n",
    "idx = 0\n",
    "random_state = INITIAL_RANDOM_STATE\n",
    "\n",
    "for k in range(CLUSTERING_OPTIONS['K_MIN'], CLUSTERING_OPTIONS['K_MAX']+1):\n",
    "    for i in range(CLUSTERING_OPTIONS['N_REPS_PER_K']):\n",
    "        clus = GaussianMixture(\n",
    "                n_components=k,\n",
    "                n_init=CLUSTERING_OPTIONS['N_INIT'],\n",
    "                covariance_type=CLUSTERING_OPTIONS['COVARIANCE_TYPE'],\n",
    "                random_state=random_state,\n",
    "            )\n",
    "        \n",
    "        method_name = type(clus).__name__\n",
    "        CLUSTERERS[f'{method_name} #{idx}'] = clus\n",
    "        \n",
    "        random_state = random_state + 1\n",
    "        idx = idx + 1"
   ]
  },
  {
   "cell_type": "code",
   "execution_count": 14,
   "metadata": {
    "execution": {
     "iopub.execute_input": "2020-12-02T16:52:26.332389Z",
     "iopub.status.busy": "2020-12-02T16:52:26.331984Z",
     "iopub.status.idle": "2020-12-02T16:52:26.344670Z",
     "shell.execute_reply": "2020-12-02T16:52:26.344360Z"
    },
    "papermill": {
     "duration": 0.034584,
     "end_time": "2020-12-02T16:52:26.344796",
     "exception": false,
     "start_time": "2020-12-02T16:52:26.310212",
     "status": "completed"
    },
    "tags": []
   },
   "outputs": [
    {
     "data": {
      "text/plain": [
       "295"
      ]
     },
     "metadata": {},
     "output_type": "display_data"
    }
   ],
   "source": [
    "display(len(CLUSTERERS))"
   ]
  },
  {
   "cell_type": "code",
   "execution_count": 15,
   "metadata": {
    "execution": {
     "iopub.execute_input": "2020-12-02T16:52:26.387979Z",
     "iopub.status.busy": "2020-12-02T16:52:26.387603Z",
     "iopub.status.idle": "2020-12-02T16:52:26.402211Z",
     "shell.execute_reply": "2020-12-02T16:52:26.401854Z"
    },
    "papermill": {
     "duration": 0.037027,
     "end_time": "2020-12-02T16:52:26.402302",
     "exception": false,
     "start_time": "2020-12-02T16:52:26.365275",
     "status": "completed"
    },
    "tags": []
   },
   "outputs": [
    {
     "data": {
      "text/plain": [
       "('GaussianMixture #0',\n",
       " GaussianMixture(n_components=2, n_init=10, random_state=80000))"
      ]
     },
     "metadata": {},
     "output_type": "display_data"
    },
    {
     "data": {
      "text/plain": [
       "('GaussianMixture #1',\n",
       " GaussianMixture(n_components=2, n_init=10, random_state=80001))"
      ]
     },
     "metadata": {},
     "output_type": "display_data"
    }
   ],
   "source": [
    "_iter = iter(CLUSTERERS.items())\n",
    "display(next(_iter))\n",
    "display(next(_iter))"
   ]
  },
  {
   "cell_type": "code",
   "execution_count": 16,
   "metadata": {
    "execution": {
     "iopub.execute_input": "2020-12-02T16:52:26.447047Z",
     "iopub.status.busy": "2020-12-02T16:52:26.446674Z",
     "iopub.status.idle": "2020-12-02T16:52:26.459919Z",
     "shell.execute_reply": "2020-12-02T16:52:26.459527Z"
    },
    "papermill": {
     "duration": 0.036233,
     "end_time": "2020-12-02T16:52:26.460010",
     "exception": false,
     "start_time": "2020-12-02T16:52:26.423777",
     "status": "completed"
    },
    "tags": []
   },
   "outputs": [
    {
     "data": {
      "text/plain": [
       "'GaussianMixture'"
      ]
     },
     "metadata": {},
     "output_type": "display_data"
    }
   ],
   "source": [
    "clustering_method_name = method_name\n",
    "display(clustering_method_name)"
   ]
  },
  {
   "cell_type": "markdown",
   "metadata": {
    "papermill": {
     "duration": 0.020877,
     "end_time": "2020-12-02T16:52:26.502904",
     "exception": false,
     "start_time": "2020-12-02T16:52:26.482027",
     "status": "completed"
    },
    "tags": []
   },
   "source": [
    "## Output directory"
   ]
  },
  {
   "cell_type": "code",
   "execution_count": 17,
   "metadata": {
    "execution": {
     "iopub.execute_input": "2020-12-02T16:52:26.546673Z",
     "iopub.status.busy": "2020-12-02T16:52:26.546307Z",
     "iopub.status.idle": "2020-12-02T16:52:26.559153Z",
     "shell.execute_reply": "2020-12-02T16:52:26.558775Z"
    },
    "papermill": {
     "duration": 0.035691,
     "end_time": "2020-12-02T16:52:26.559241",
     "exception": false,
     "start_time": "2020-12-02T16:52:26.523550",
     "status": "completed"
    },
    "tags": []
   },
   "outputs": [
    {
     "data": {
      "text/plain": [
       "PosixPath('/home/miltondp/projects/labs/greenelab/phenoplier/base/results/clustering/runs/umap-z_score_std-projection-smultixcan-efo_partial-mashr-zscores')"
      ]
     },
     "metadata": {},
     "output_type": "display_data"
    }
   ],
   "source": [
    "# output dir for this notebook\n",
    "RESULTS_DIR = Path(\n",
    "    conf.RESULTS[\"CLUSTERING_RUNS_DIR\"],\n",
    "    f'{INPUT_SUBSET}-{INPUT_STEM}',\n",
    ").resolve()\n",
    "RESULTS_DIR.mkdir(parents=True, exist_ok=True)\n",
    "\n",
    "display(RESULTS_DIR)"
   ]
  },
  {
   "cell_type": "markdown",
   "metadata": {
    "papermill": {
     "duration": 0.020811,
     "end_time": "2020-12-02T16:52:26.601012",
     "exception": false,
     "start_time": "2020-12-02T16:52:26.580201",
     "status": "completed"
    },
    "tags": []
   },
   "source": [
    "# Load input file"
   ]
  },
  {
   "cell_type": "code",
   "execution_count": 18,
   "metadata": {
    "execution": {
     "iopub.execute_input": "2020-12-02T16:52:26.644400Z",
     "iopub.status.busy": "2020-12-02T16:52:26.644051Z",
     "iopub.status.idle": "2020-12-02T16:52:26.658305Z",
     "shell.execute_reply": "2020-12-02T16:52:26.657917Z"
    },
    "papermill": {
     "duration": 0.036953,
     "end_time": "2020-12-02T16:52:26.658392",
     "exception": false,
     "start_time": "2020-12-02T16:52:26.621439",
     "status": "completed"
    },
    "tags": []
   },
   "outputs": [],
   "source": [
    "data = pd.read_pickle(input_filepath)"
   ]
  },
  {
   "cell_type": "code",
   "execution_count": 19,
   "metadata": {
    "execution": {
     "iopub.execute_input": "2020-12-02T16:52:26.703053Z",
     "iopub.status.busy": "2020-12-02T16:52:26.702689Z",
     "iopub.status.idle": "2020-12-02T16:52:26.714927Z",
     "shell.execute_reply": "2020-12-02T16:52:26.715210Z"
    },
    "papermill": {
     "duration": 0.035818,
     "end_time": "2020-12-02T16:52:26.715333",
     "exception": false,
     "start_time": "2020-12-02T16:52:26.679515",
     "status": "completed"
    },
    "tags": []
   },
   "outputs": [
    {
     "data": {
      "text/plain": [
       "(3749, 50)"
      ]
     },
     "execution_count": 19,
     "metadata": {},
     "output_type": "execute_result"
    }
   ],
   "source": [
    "data.shape"
   ]
  },
  {
   "cell_type": "code",
   "execution_count": 20,
   "metadata": {
    "execution": {
     "iopub.execute_input": "2020-12-02T16:52:26.760529Z",
     "iopub.status.busy": "2020-12-02T16:52:26.760160Z",
     "iopub.status.idle": "2020-12-02T16:52:26.785375Z",
     "shell.execute_reply": "2020-12-02T16:52:26.785050Z"
    },
    "papermill": {
     "duration": 0.048714,
     "end_time": "2020-12-02T16:52:26.785464",
     "exception": false,
     "start_time": "2020-12-02T16:52:26.736750",
     "status": "completed"
    },
    "tags": []
   },
   "outputs": [
    {
     "data": {
      "text/html": [
       "<div>\n",
       "<style scoped>\n",
       "    .dataframe tbody tr th:only-of-type {\n",
       "        vertical-align: middle;\n",
       "    }\n",
       "\n",
       "    .dataframe tbody tr th {\n",
       "        vertical-align: top;\n",
       "    }\n",
       "\n",
       "    .dataframe thead th {\n",
       "        text-align: right;\n",
       "    }\n",
       "</style>\n",
       "<table border=\"1\" class=\"dataframe\">\n",
       "  <thead>\n",
       "    <tr style=\"text-align: right;\">\n",
       "      <th></th>\n",
       "      <th>UMAP1</th>\n",
       "      <th>UMAP2</th>\n",
       "      <th>UMAP3</th>\n",
       "      <th>UMAP4</th>\n",
       "      <th>UMAP5</th>\n",
       "      <th>UMAP6</th>\n",
       "      <th>UMAP7</th>\n",
       "      <th>UMAP8</th>\n",
       "      <th>UMAP9</th>\n",
       "      <th>UMAP10</th>\n",
       "      <th>...</th>\n",
       "      <th>UMAP41</th>\n",
       "      <th>UMAP42</th>\n",
       "      <th>UMAP43</th>\n",
       "      <th>UMAP44</th>\n",
       "      <th>UMAP45</th>\n",
       "      <th>UMAP46</th>\n",
       "      <th>UMAP47</th>\n",
       "      <th>UMAP48</th>\n",
       "      <th>UMAP49</th>\n",
       "      <th>UMAP50</th>\n",
       "    </tr>\n",
       "  </thead>\n",
       "  <tbody>\n",
       "    <tr>\n",
       "      <th>100001_raw-Food_weight</th>\n",
       "      <td>11.531590</td>\n",
       "      <td>10.773390</td>\n",
       "      <td>10.551500</td>\n",
       "      <td>5.689103</td>\n",
       "      <td>12.646474</td>\n",
       "      <td>8.795625</td>\n",
       "      <td>2.365859</td>\n",
       "      <td>-3.382425</td>\n",
       "      <td>1.458605</td>\n",
       "      <td>14.236823</td>\n",
       "      <td>...</td>\n",
       "      <td>2.214731</td>\n",
       "      <td>9.304909</td>\n",
       "      <td>3.359118</td>\n",
       "      <td>5.211676</td>\n",
       "      <td>1.265622</td>\n",
       "      <td>2.058685</td>\n",
       "      <td>1.291174</td>\n",
       "      <td>1.565621</td>\n",
       "      <td>7.317275</td>\n",
       "      <td>9.037535</td>\n",
       "    </tr>\n",
       "    <tr>\n",
       "      <th>100002_raw-Energy</th>\n",
       "      <td>11.554761</td>\n",
       "      <td>10.753816</td>\n",
       "      <td>10.548004</td>\n",
       "      <td>5.710800</td>\n",
       "      <td>12.674987</td>\n",
       "      <td>8.787647</td>\n",
       "      <td>2.379787</td>\n",
       "      <td>-3.339913</td>\n",
       "      <td>1.442655</td>\n",
       "      <td>14.196218</td>\n",
       "      <td>...</td>\n",
       "      <td>2.237087</td>\n",
       "      <td>9.270699</td>\n",
       "      <td>3.383440</td>\n",
       "      <td>5.185328</td>\n",
       "      <td>1.257113</td>\n",
       "      <td>2.057439</td>\n",
       "      <td>1.290686</td>\n",
       "      <td>1.557209</td>\n",
       "      <td>7.297037</td>\n",
       "      <td>9.009866</td>\n",
       "    </tr>\n",
       "    <tr>\n",
       "      <th>100003_raw-Protein</th>\n",
       "      <td>11.519615</td>\n",
       "      <td>10.786408</td>\n",
       "      <td>10.540249</td>\n",
       "      <td>5.687959</td>\n",
       "      <td>12.628188</td>\n",
       "      <td>8.789925</td>\n",
       "      <td>2.368370</td>\n",
       "      <td>-3.390937</td>\n",
       "      <td>1.464806</td>\n",
       "      <td>14.233623</td>\n",
       "      <td>...</td>\n",
       "      <td>2.216162</td>\n",
       "      <td>9.314158</td>\n",
       "      <td>3.350708</td>\n",
       "      <td>5.226166</td>\n",
       "      <td>1.267382</td>\n",
       "      <td>2.051692</td>\n",
       "      <td>1.305047</td>\n",
       "      <td>1.558942</td>\n",
       "      <td>7.307035</td>\n",
       "      <td>9.042575</td>\n",
       "    </tr>\n",
       "    <tr>\n",
       "      <th>100004_raw-Fat</th>\n",
       "      <td>11.515584</td>\n",
       "      <td>10.756584</td>\n",
       "      <td>10.570711</td>\n",
       "      <td>5.697041</td>\n",
       "      <td>12.661936</td>\n",
       "      <td>8.787330</td>\n",
       "      <td>2.396913</td>\n",
       "      <td>-3.351611</td>\n",
       "      <td>1.435632</td>\n",
       "      <td>14.221588</td>\n",
       "      <td>...</td>\n",
       "      <td>2.214707</td>\n",
       "      <td>9.273252</td>\n",
       "      <td>3.383349</td>\n",
       "      <td>5.220068</td>\n",
       "      <td>1.270067</td>\n",
       "      <td>2.065669</td>\n",
       "      <td>1.281447</td>\n",
       "      <td>1.578588</td>\n",
       "      <td>7.332527</td>\n",
       "      <td>9.005523</td>\n",
       "    </tr>\n",
       "    <tr>\n",
       "      <th>100005_raw-Carbohydrate</th>\n",
       "      <td>11.528723</td>\n",
       "      <td>10.762026</td>\n",
       "      <td>10.566773</td>\n",
       "      <td>5.698555</td>\n",
       "      <td>12.671127</td>\n",
       "      <td>8.791903</td>\n",
       "      <td>2.394764</td>\n",
       "      <td>-3.354370</td>\n",
       "      <td>1.442259</td>\n",
       "      <td>14.226301</td>\n",
       "      <td>...</td>\n",
       "      <td>2.216362</td>\n",
       "      <td>9.275563</td>\n",
       "      <td>3.383139</td>\n",
       "      <td>5.216354</td>\n",
       "      <td>1.269187</td>\n",
       "      <td>2.063429</td>\n",
       "      <td>1.280020</td>\n",
       "      <td>1.577227</td>\n",
       "      <td>7.335059</td>\n",
       "      <td>9.009464</td>\n",
       "    </tr>\n",
       "  </tbody>\n",
       "</table>\n",
       "<p>5 rows × 50 columns</p>\n",
       "</div>"
      ],
      "text/plain": [
       "                             UMAP1      UMAP2      UMAP3     UMAP4      UMAP5  \\\n",
       "100001_raw-Food_weight   11.531590  10.773390  10.551500  5.689103  12.646474   \n",
       "100002_raw-Energy        11.554761  10.753816  10.548004  5.710800  12.674987   \n",
       "100003_raw-Protein       11.519615  10.786408  10.540249  5.687959  12.628188   \n",
       "100004_raw-Fat           11.515584  10.756584  10.570711  5.697041  12.661936   \n",
       "100005_raw-Carbohydrate  11.528723  10.762026  10.566773  5.698555  12.671127   \n",
       "\n",
       "                            UMAP6     UMAP7     UMAP8     UMAP9     UMAP10  \\\n",
       "100001_raw-Food_weight   8.795625  2.365859 -3.382425  1.458605  14.236823   \n",
       "100002_raw-Energy        8.787647  2.379787 -3.339913  1.442655  14.196218   \n",
       "100003_raw-Protein       8.789925  2.368370 -3.390937  1.464806  14.233623   \n",
       "100004_raw-Fat           8.787330  2.396913 -3.351611  1.435632  14.221588   \n",
       "100005_raw-Carbohydrate  8.791903  2.394764 -3.354370  1.442259  14.226301   \n",
       "\n",
       "                         ...    UMAP41    UMAP42    UMAP43    UMAP44  \\\n",
       "100001_raw-Food_weight   ...  2.214731  9.304909  3.359118  5.211676   \n",
       "100002_raw-Energy        ...  2.237087  9.270699  3.383440  5.185328   \n",
       "100003_raw-Protein       ...  2.216162  9.314158  3.350708  5.226166   \n",
       "100004_raw-Fat           ...  2.214707  9.273252  3.383349  5.220068   \n",
       "100005_raw-Carbohydrate  ...  2.216362  9.275563  3.383139  5.216354   \n",
       "\n",
       "                           UMAP45    UMAP46    UMAP47    UMAP48    UMAP49  \\\n",
       "100001_raw-Food_weight   1.265622  2.058685  1.291174  1.565621  7.317275   \n",
       "100002_raw-Energy        1.257113  2.057439  1.290686  1.557209  7.297037   \n",
       "100003_raw-Protein       1.267382  2.051692  1.305047  1.558942  7.307035   \n",
       "100004_raw-Fat           1.270067  2.065669  1.281447  1.578588  7.332527   \n",
       "100005_raw-Carbohydrate  1.269187  2.063429  1.280020  1.577227  7.335059   \n",
       "\n",
       "                           UMAP50  \n",
       "100001_raw-Food_weight   9.037535  \n",
       "100002_raw-Energy        9.009866  \n",
       "100003_raw-Protein       9.042575  \n",
       "100004_raw-Fat           9.005523  \n",
       "100005_raw-Carbohydrate  9.009464  \n",
       "\n",
       "[5 rows x 50 columns]"
      ]
     },
     "execution_count": 20,
     "metadata": {},
     "output_type": "execute_result"
    }
   ],
   "source": [
    "data.head()"
   ]
  },
  {
   "cell_type": "code",
   "execution_count": 21,
   "metadata": {
    "execution": {
     "iopub.execute_input": "2020-12-02T16:52:26.833409Z",
     "iopub.status.busy": "2020-12-02T16:52:26.832992Z",
     "iopub.status.idle": "2020-12-02T16:52:26.845605Z",
     "shell.execute_reply": "2020-12-02T16:52:26.845910Z"
    },
    "papermill": {
     "duration": 0.038357,
     "end_time": "2020-12-02T16:52:26.846029",
     "exception": false,
     "start_time": "2020-12-02T16:52:26.807672",
     "status": "completed"
    },
    "tags": []
   },
   "outputs": [],
   "source": [
    "assert not data.isna().any().any()"
   ]
  },
  {
   "cell_type": "markdown",
   "metadata": {
    "papermill": {
     "duration": 0.021142,
     "end_time": "2020-12-02T16:52:26.890492",
     "exception": false,
     "start_time": "2020-12-02T16:52:26.869350",
     "status": "completed"
    },
    "tags": []
   },
   "source": [
    "# Clustering"
   ]
  },
  {
   "cell_type": "markdown",
   "metadata": {
    "papermill": {
     "duration": 0.021082,
     "end_time": "2020-12-02T16:52:26.933180",
     "exception": false,
     "start_time": "2020-12-02T16:52:26.912098",
     "status": "completed"
    },
    "tags": []
   },
   "source": [
    "## Generate ensemble"
   ]
  },
  {
   "cell_type": "code",
   "execution_count": 22,
   "metadata": {
    "execution": {
     "iopub.execute_input": "2020-12-02T16:52:26.978115Z",
     "iopub.status.busy": "2020-12-02T16:52:26.977757Z",
     "iopub.status.idle": "2020-12-02T16:52:26.992208Z",
     "shell.execute_reply": "2020-12-02T16:52:26.991799Z"
    },
    "papermill": {
     "duration": 0.037908,
     "end_time": "2020-12-02T16:52:26.992298",
     "exception": false,
     "start_time": "2020-12-02T16:52:26.954390",
     "status": "completed"
    },
    "tags": []
   },
   "outputs": [],
   "source": [
    "from clustering.ensemble import generate_ensemble"
   ]
  },
  {
   "cell_type": "code",
   "execution_count": 23,
   "metadata": {
    "execution": {
     "iopub.execute_input": "2020-12-02T16:52:27.037888Z",
     "iopub.status.busy": "2020-12-02T16:52:27.037512Z",
     "iopub.status.idle": "2020-12-02T17:42:45.018745Z",
     "shell.execute_reply": "2020-12-02T17:42:45.017964Z"
    },
    "papermill": {
     "duration": 3018.004788,
     "end_time": "2020-12-02T17:42:45.018829",
     "exception": false,
     "start_time": "2020-12-02T16:52:27.014041",
     "status": "completed"
    },
    "tags": []
   },
   "outputs": [
    {
     "name": "stderr",
     "output_type": "stream",
     "text": [
      "100%|██████████| 295/295 [50:17<00:00, 10.23s/it]\n"
     ]
    }
   ],
   "source": [
    "ensemble = generate_ensemble(\n",
    "    data,\n",
    "    CLUSTERERS,\n",
    "    attributes=CLUSTERING_ATTRIBUTES_TO_SAVE,\n",
    ")"
   ]
  },
  {
   "cell_type": "code",
   "execution_count": 24,
   "metadata": {
    "execution": {
     "iopub.execute_input": "2020-12-02T17:42:45.157308Z",
     "iopub.status.busy": "2020-12-02T17:42:45.156948Z",
     "iopub.status.idle": "2020-12-02T17:42:45.169899Z",
     "shell.execute_reply": "2020-12-02T17:42:45.169576Z"
    },
    "papermill": {
     "duration": 0.083356,
     "end_time": "2020-12-02T17:42:45.169989",
     "exception": false,
     "start_time": "2020-12-02T17:42:45.086633",
     "status": "completed"
    },
    "tags": []
   },
   "outputs": [
    {
     "data": {
      "text/plain": [
       "(295, 3)"
      ]
     },
     "execution_count": 24,
     "metadata": {},
     "output_type": "execute_result"
    }
   ],
   "source": [
    "# the number should be close to 295 (the number of partitions generated by k-means/spectral clustering)\n",
    "ensemble.shape"
   ]
  },
  {
   "cell_type": "code",
   "execution_count": 25,
   "metadata": {
    "execution": {
     "iopub.execute_input": "2020-12-02T17:42:45.311050Z",
     "iopub.status.busy": "2020-12-02T17:42:45.310691Z",
     "iopub.status.idle": "2020-12-02T17:42:45.330369Z",
     "shell.execute_reply": "2020-12-02T17:42:45.330645Z"
    },
    "papermill": {
     "duration": 0.09153,
     "end_time": "2020-12-02T17:42:45.330754",
     "exception": false,
     "start_time": "2020-12-02T17:42:45.239224",
     "status": "completed"
    },
    "tags": []
   },
   "outputs": [
    {
     "data": {
      "text/html": [
       "<div>\n",
       "<style scoped>\n",
       "    .dataframe tbody tr th:only-of-type {\n",
       "        vertical-align: middle;\n",
       "    }\n",
       "\n",
       "    .dataframe tbody tr th {\n",
       "        vertical-align: top;\n",
       "    }\n",
       "\n",
       "    .dataframe thead th {\n",
       "        text-align: right;\n",
       "    }\n",
       "</style>\n",
       "<table border=\"1\" class=\"dataframe\">\n",
       "  <thead>\n",
       "    <tr style=\"text-align: right;\">\n",
       "      <th></th>\n",
       "      <th>clusterer_params</th>\n",
       "      <th>partition</th>\n",
       "      <th>n_clusters</th>\n",
       "    </tr>\n",
       "    <tr>\n",
       "      <th>clusterer_id</th>\n",
       "      <th></th>\n",
       "      <th></th>\n",
       "      <th></th>\n",
       "    </tr>\n",
       "  </thead>\n",
       "  <tbody>\n",
       "    <tr>\n",
       "      <th>GaussianMixture #0</th>\n",
       "      <td>{'covariance_type': 'full', 'init_params': 'km...</td>\n",
       "      <td>[0.0, 0.0, 0.0, 0.0, 0.0, 0.0, 0.0, 0.0, 0.0, ...</td>\n",
       "      <td>2</td>\n",
       "    </tr>\n",
       "    <tr>\n",
       "      <th>GaussianMixture #1</th>\n",
       "      <td>{'covariance_type': 'full', 'init_params': 'km...</td>\n",
       "      <td>[0.0, 0.0, 0.0, 0.0, 0.0, 0.0, 0.0, 0.0, 0.0, ...</td>\n",
       "      <td>2</td>\n",
       "    </tr>\n",
       "    <tr>\n",
       "      <th>GaussianMixture #2</th>\n",
       "      <td>{'covariance_type': 'full', 'init_params': 'km...</td>\n",
       "      <td>[1.0, 1.0, 1.0, 1.0, 1.0, 1.0, 1.0, 1.0, 1.0, ...</td>\n",
       "      <td>2</td>\n",
       "    </tr>\n",
       "    <tr>\n",
       "      <th>GaussianMixture #3</th>\n",
       "      <td>{'covariance_type': 'full', 'init_params': 'km...</td>\n",
       "      <td>[0.0, 0.0, 0.0, 0.0, 0.0, 0.0, 0.0, 0.0, 0.0, ...</td>\n",
       "      <td>2</td>\n",
       "    </tr>\n",
       "    <tr>\n",
       "      <th>GaussianMixture #4</th>\n",
       "      <td>{'covariance_type': 'full', 'init_params': 'km...</td>\n",
       "      <td>[0.0, 0.0, 0.0, 0.0, 0.0, 0.0, 0.0, 0.0, 0.0, ...</td>\n",
       "      <td>2</td>\n",
       "    </tr>\n",
       "  </tbody>\n",
       "</table>\n",
       "</div>"
      ],
      "text/plain": [
       "                                                     clusterer_params  \\\n",
       "clusterer_id                                                            \n",
       "GaussianMixture #0  {'covariance_type': 'full', 'init_params': 'km...   \n",
       "GaussianMixture #1  {'covariance_type': 'full', 'init_params': 'km...   \n",
       "GaussianMixture #2  {'covariance_type': 'full', 'init_params': 'km...   \n",
       "GaussianMixture #3  {'covariance_type': 'full', 'init_params': 'km...   \n",
       "GaussianMixture #4  {'covariance_type': 'full', 'init_params': 'km...   \n",
       "\n",
       "                                                            partition  \\\n",
       "clusterer_id                                                            \n",
       "GaussianMixture #0  [0.0, 0.0, 0.0, 0.0, 0.0, 0.0, 0.0, 0.0, 0.0, ...   \n",
       "GaussianMixture #1  [0.0, 0.0, 0.0, 0.0, 0.0, 0.0, 0.0, 0.0, 0.0, ...   \n",
       "GaussianMixture #2  [1.0, 1.0, 1.0, 1.0, 1.0, 1.0, 1.0, 1.0, 1.0, ...   \n",
       "GaussianMixture #3  [0.0, 0.0, 0.0, 0.0, 0.0, 0.0, 0.0, 0.0, 0.0, ...   \n",
       "GaussianMixture #4  [0.0, 0.0, 0.0, 0.0, 0.0, 0.0, 0.0, 0.0, 0.0, ...   \n",
       "\n",
       "                    n_clusters  \n",
       "clusterer_id                    \n",
       "GaussianMixture #0           2  \n",
       "GaussianMixture #1           2  \n",
       "GaussianMixture #2           2  \n",
       "GaussianMixture #3           2  \n",
       "GaussianMixture #4           2  "
      ]
     },
     "execution_count": 25,
     "metadata": {},
     "output_type": "execute_result"
    }
   ],
   "source": [
    "ensemble.head()"
   ]
  },
  {
   "cell_type": "code",
   "execution_count": 26,
   "metadata": {
    "execution": {
     "iopub.execute_input": "2020-12-02T17:42:45.470508Z",
     "iopub.status.busy": "2020-12-02T17:42:45.470147Z",
     "iopub.status.idle": "2020-12-02T17:42:45.483294Z",
     "shell.execute_reply": "2020-12-02T17:42:45.483655Z"
    },
    "papermill": {
     "duration": 0.083812,
     "end_time": "2020-12-02T17:42:45.483765",
     "exception": false,
     "start_time": "2020-12-02T17:42:45.399953",
     "status": "completed"
    },
    "tags": []
   },
   "outputs": [
    {
     "data": {
      "text/plain": [
       "60    5\n",
       "16    5\n",
       "28    5\n",
       "27    5\n",
       "26    5\n",
       "Name: n_clusters, dtype: int64"
      ]
     },
     "execution_count": 26,
     "metadata": {},
     "output_type": "execute_result"
    }
   ],
   "source": [
    "ensemble['n_clusters'].value_counts().head()"
   ]
  },
  {
   "cell_type": "code",
   "execution_count": 27,
   "metadata": {
    "execution": {
     "iopub.execute_input": "2020-12-02T17:42:45.623096Z",
     "iopub.status.busy": "2020-12-02T17:42:45.622734Z",
     "iopub.status.idle": "2020-12-02T17:42:45.637498Z",
     "shell.execute_reply": "2020-12-02T17:42:45.637167Z"
    },
    "papermill": {
     "duration": 0.085768,
     "end_time": "2020-12-02T17:42:45.637586",
     "exception": false,
     "start_time": "2020-12-02T17:42:45.551818",
     "status": "completed"
    },
    "tags": []
   },
   "outputs": [
    {
     "data": {
      "text/plain": [
       "count    295.000000\n",
       "mean      31.000000\n",
       "std       17.058323\n",
       "min        2.000000\n",
       "25%       16.000000\n",
       "50%       31.000000\n",
       "75%       46.000000\n",
       "max       60.000000\n",
       "Name: n_clusters, dtype: float64"
      ]
     },
     "metadata": {},
     "output_type": "display_data"
    }
   ],
   "source": [
    "ensemble_stats = ensemble['n_clusters'].describe()\n",
    "display(ensemble_stats)"
   ]
  },
  {
   "cell_type": "markdown",
   "metadata": {
    "papermill": {
     "duration": 0.068029,
     "end_time": "2020-12-02T17:42:45.774931",
     "exception": false,
     "start_time": "2020-12-02T17:42:45.706902",
     "status": "completed"
    },
    "tags": []
   },
   "source": [
    "## Testing"
   ]
  },
  {
   "cell_type": "code",
   "execution_count": 28,
   "metadata": {
    "execution": {
     "iopub.execute_input": "2020-12-02T17:42:45.942307Z",
     "iopub.status.busy": "2020-12-02T17:42:45.941933Z",
     "iopub.status.idle": "2020-12-02T17:42:45.953810Z",
     "shell.execute_reply": "2020-12-02T17:42:45.953471Z"
    },
    "papermill": {
     "duration": 0.090963,
     "end_time": "2020-12-02T17:42:45.953899",
     "exception": false,
     "start_time": "2020-12-02T17:42:45.862936",
     "status": "completed"
    },
    "tags": []
   },
   "outputs": [],
   "source": [
    "assert ensemble_stats['min'] > 1"
   ]
  },
  {
   "cell_type": "code",
   "execution_count": 29,
   "metadata": {
    "execution": {
     "iopub.execute_input": "2020-12-02T17:42:46.095242Z",
     "iopub.status.busy": "2020-12-02T17:42:46.094877Z",
     "iopub.status.idle": "2020-12-02T17:42:46.106985Z",
     "shell.execute_reply": "2020-12-02T17:42:46.106583Z"
    },
    "papermill": {
     "duration": 0.083582,
     "end_time": "2020-12-02T17:42:46.107074",
     "exception": false,
     "start_time": "2020-12-02T17:42:46.023492",
     "status": "completed"
    },
    "tags": []
   },
   "outputs": [],
   "source": [
    "assert not ensemble['n_clusters'].isna().any()"
   ]
  },
  {
   "cell_type": "code",
   "execution_count": 30,
   "metadata": {
    "execution": {
     "iopub.execute_input": "2020-12-02T17:42:46.251027Z",
     "iopub.status.busy": "2020-12-02T17:42:46.250666Z",
     "iopub.status.idle": "2020-12-02T17:42:46.262456Z",
     "shell.execute_reply": "2020-12-02T17:42:46.262086Z"
    },
    "papermill": {
     "duration": 0.083859,
     "end_time": "2020-12-02T17:42:46.262551",
     "exception": false,
     "start_time": "2020-12-02T17:42:46.178692",
     "status": "completed"
    },
    "tags": []
   },
   "outputs": [],
   "source": [
    "assert ensemble.shape[0] == len(CLUSTERERS)"
   ]
  },
  {
   "cell_type": "code",
   "execution_count": 31,
   "metadata": {
    "execution": {
     "iopub.execute_input": "2020-12-02T17:42:46.405294Z",
     "iopub.status.busy": "2020-12-02T17:42:46.404924Z",
     "iopub.status.idle": "2020-12-02T17:42:46.434023Z",
     "shell.execute_reply": "2020-12-02T17:42:46.433622Z"
    },
    "papermill": {
     "duration": 0.100831,
     "end_time": "2020-12-02T17:42:46.434113",
     "exception": false,
     "start_time": "2020-12-02T17:42:46.333282",
     "status": "completed"
    },
    "tags": []
   },
   "outputs": [],
   "source": [
    "# all partitions have the right size\n",
    "assert np.all([\n",
    "    part['partition'].shape[0] == data.shape[0]\n",
    "    for idx, part in ensemble.iterrows()\n",
    "])"
   ]
  },
  {
   "cell_type": "code",
   "execution_count": 32,
   "metadata": {
    "execution": {
     "iopub.execute_input": "2020-12-02T17:42:46.576740Z",
     "iopub.status.busy": "2020-12-02T17:42:46.576327Z",
     "iopub.status.idle": "2020-12-02T17:42:46.609060Z",
     "shell.execute_reply": "2020-12-02T17:42:46.608604Z"
    },
    "papermill": {
     "duration": 0.104514,
     "end_time": "2020-12-02T17:42:46.609152",
     "exception": false,
     "start_time": "2020-12-02T17:42:46.504638",
     "status": "completed"
    },
    "tags": []
   },
   "outputs": [],
   "source": [
    "# no partition has negative clusters (noisy points)\n",
    "assert not np.any([\n",
    "    (part['partition'] < 0).any()\n",
    "    for idx, part in ensemble.iterrows()\n",
    "])"
   ]
  },
  {
   "cell_type": "markdown",
   "metadata": {
    "papermill": {
     "duration": 0.068169,
     "end_time": "2020-12-02T17:42:46.747387",
     "exception": false,
     "start_time": "2020-12-02T17:42:46.679218",
     "status": "completed"
    },
    "tags": []
   },
   "source": [
    "## Save"
   ]
  },
  {
   "cell_type": "code",
   "execution_count": 33,
   "metadata": {
    "execution": {
     "iopub.execute_input": "2020-12-02T17:42:46.891900Z",
     "iopub.status.busy": "2020-12-02T17:42:46.891535Z",
     "iopub.status.idle": "2020-12-02T17:42:46.904771Z",
     "shell.execute_reply": "2020-12-02T17:42:46.904378Z"
    },
    "papermill": {
     "duration": 0.088373,
     "end_time": "2020-12-02T17:42:46.904862",
     "exception": false,
     "start_time": "2020-12-02T17:42:46.816489",
     "status": "completed"
    },
    "tags": []
   },
   "outputs": [
    {
     "data": {
      "text/plain": [
       "PosixPath('/home/miltondp/projects/labs/greenelab/phenoplier/base/results/clustering/runs/umap-z_score_std-projection-smultixcan-efo_partial-mashr-zscores/GaussianMixture-COVARIANCE_TYPE_full-K_MAX_60-K_MIN_2-N_INIT_10-N_REPS_PER_K_5.pkl')"
      ]
     },
     "metadata": {},
     "output_type": "display_data"
    }
   ],
   "source": [
    "output_filename = Path(\n",
    "    RESULTS_DIR,\n",
    "    generate_result_set_name(\n",
    "        CLUSTERING_OPTIONS,\n",
    "        prefix=f'{clustering_method_name}-',\n",
    "        suffix='.pkl',\n",
    "    )\n",
    ").resolve()\n",
    "display(output_filename)"
   ]
  },
  {
   "cell_type": "code",
   "execution_count": 34,
   "metadata": {
    "execution": {
     "iopub.execute_input": "2020-12-02T17:42:47.049879Z",
     "iopub.status.busy": "2020-12-02T17:42:47.049515Z",
     "iopub.status.idle": "2020-12-02T17:42:47.070836Z",
     "shell.execute_reply": "2020-12-02T17:42:47.071155Z"
    },
    "papermill": {
     "duration": 0.095494,
     "end_time": "2020-12-02T17:42:47.071275",
     "exception": false,
     "start_time": "2020-12-02T17:42:46.975781",
     "status": "completed"
    },
    "tags": []
   },
   "outputs": [],
   "source": [
    "ensemble.to_pickle(output_filename)"
   ]
  },
  {
   "cell_type": "markdown",
   "metadata": {
    "papermill": {
     "duration": 0.069206,
     "end_time": "2020-12-02T17:42:47.212244",
     "exception": false,
     "start_time": "2020-12-02T17:42:47.143038",
     "status": "completed"
    },
    "tags": []
   },
   "source": [
    "# Stability"
   ]
  },
  {
   "cell_type": "markdown",
   "metadata": {
    "papermill": {
     "duration": 0.070092,
     "end_time": "2020-12-02T17:42:47.352054",
     "exception": false,
     "start_time": "2020-12-02T17:42:47.281962",
     "status": "completed"
    },
    "tags": []
   },
   "source": [
    "## Group ensemble by n_clusters"
   ]
  },
  {
   "cell_type": "code",
   "execution_count": 35,
   "metadata": {
    "execution": {
     "iopub.execute_input": "2020-12-02T17:42:47.496950Z",
     "iopub.status.busy": "2020-12-02T17:42:47.496536Z",
     "iopub.status.idle": "2020-12-02T17:42:47.525333Z",
     "shell.execute_reply": "2020-12-02T17:42:47.525021Z"
    },
    "papermill": {
     "duration": 0.102152,
     "end_time": "2020-12-02T17:42:47.525423",
     "exception": false,
     "start_time": "2020-12-02T17:42:47.423271",
     "status": "completed"
    },
    "tags": []
   },
   "outputs": [],
   "source": [
    "parts = ensemble.groupby('n_clusters').apply(lambda x: np.concatenate(x['partition'].apply(lambda x: x.reshape(1, -1)), axis=0))"
   ]
  },
  {
   "cell_type": "code",
   "execution_count": 36,
   "metadata": {
    "execution": {
     "iopub.execute_input": "2020-12-02T17:42:47.668501Z",
     "iopub.status.busy": "2020-12-02T17:42:47.668135Z",
     "iopub.status.idle": "2020-12-02T17:42:47.691891Z",
     "shell.execute_reply": "2020-12-02T17:42:47.691532Z"
    },
    "papermill": {
     "duration": 0.096042,
     "end_time": "2020-12-02T17:42:47.691975",
     "exception": false,
     "start_time": "2020-12-02T17:42:47.595933",
     "status": "completed"
    },
    "tags": []
   },
   "outputs": [
    {
     "data": {
      "text/plain": [
       "n_clusters\n",
       "2    [[0.0, 0.0, 0.0, 0.0, 0.0, 0.0, 0.0, 0.0, 0.0,...\n",
       "3    [[1.0, 1.0, 1.0, 1.0, 1.0, 1.0, 1.0, 1.0, 1.0,...\n",
       "4    [[3.0, 3.0, 3.0, 3.0, 3.0, 3.0, 3.0, 3.0, 3.0,...\n",
       "5    [[0.0, 0.0, 0.0, 0.0, 0.0, 0.0, 0.0, 0.0, 0.0,...\n",
       "6    [[5.0, 5.0, 5.0, 5.0, 5.0, 5.0, 5.0, 5.0, 5.0,...\n",
       "dtype: object"
      ]
     },
     "execution_count": 36,
     "metadata": {},
     "output_type": "execute_result"
    }
   ],
   "source": [
    "parts.head()"
   ]
  },
  {
   "cell_type": "code",
   "execution_count": 37,
   "metadata": {
    "execution": {
     "iopub.execute_input": "2020-12-02T17:42:47.835104Z",
     "iopub.status.busy": "2020-12-02T17:42:47.834735Z",
     "iopub.status.idle": "2020-12-02T17:42:47.847260Z",
     "shell.execute_reply": "2020-12-02T17:42:47.846879Z"
    },
    "papermill": {
     "duration": 0.085423,
     "end_time": "2020-12-02T17:42:47.847347",
     "exception": false,
     "start_time": "2020-12-02T17:42:47.761924",
     "status": "completed"
    },
    "tags": []
   },
   "outputs": [],
   "source": [
    "assert np.all([\n",
    "    parts.loc[k].shape == (CLUSTERING_OPTIONS['N_REPS_PER_K'], data.shape[0])\n",
    "    for k in parts.index\n",
    "])"
   ]
  },
  {
   "cell_type": "markdown",
   "metadata": {
    "papermill": {
     "duration": 0.070475,
     "end_time": "2020-12-02T17:42:47.991924",
     "exception": false,
     "start_time": "2020-12-02T17:42:47.921449",
     "status": "completed"
    },
    "tags": []
   },
   "source": [
    "## Compute stability"
   ]
  },
  {
   "cell_type": "code",
   "execution_count": 38,
   "metadata": {
    "execution": {
     "iopub.execute_input": "2020-12-02T17:42:48.135918Z",
     "iopub.status.busy": "2020-12-02T17:42:48.135549Z",
     "iopub.status.idle": "2020-12-02T17:42:48.147620Z",
     "shell.execute_reply": "2020-12-02T17:42:48.147235Z"
    },
    "papermill": {
     "duration": 0.084984,
     "end_time": "2020-12-02T17:42:48.147709",
     "exception": false,
     "start_time": "2020-12-02T17:42:48.062725",
     "status": "completed"
    },
    "tags": []
   },
   "outputs": [],
   "source": [
    "from sklearn.metrics import adjusted_rand_score as ari\n",
    "from scipy.spatial.distance import squareform, pdist"
   ]
  },
  {
   "cell_type": "code",
   "execution_count": 39,
   "metadata": {
    "execution": {
     "iopub.execute_input": "2020-12-02T17:42:48.293082Z",
     "iopub.status.busy": "2020-12-02T17:42:48.292635Z",
     "iopub.status.idle": "2020-12-02T17:42:48.995148Z",
     "shell.execute_reply": "2020-12-02T17:42:48.994761Z"
    },
    "papermill": {
     "duration": 0.776181,
     "end_time": "2020-12-02T17:42:48.995236",
     "exception": false,
     "start_time": "2020-12-02T17:42:48.219055",
     "status": "completed"
    },
    "tags": []
   },
   "outputs": [],
   "source": [
    "parts_ari = pd.Series(\n",
    "    {k: pdist(parts.loc[k], metric=ari) for k in parts.index},\n",
    "    name='k'\n",
    ")"
   ]
  },
  {
   "cell_type": "code",
   "execution_count": 40,
   "metadata": {
    "execution": {
     "iopub.execute_input": "2020-12-02T17:42:49.139783Z",
     "iopub.status.busy": "2020-12-02T17:42:49.139418Z",
     "iopub.status.idle": "2020-12-02T17:42:49.153457Z",
     "shell.execute_reply": "2020-12-02T17:42:49.153138Z"
    },
    "papermill": {
     "duration": 0.087149,
     "end_time": "2020-12-02T17:42:49.153545",
     "exception": false,
     "start_time": "2020-12-02T17:42:49.066396",
     "status": "completed"
    },
    "tags": []
   },
   "outputs": [
    {
     "data": {
      "text/plain": [
       "2     1.000000\n",
       "3     1.000000\n",
       "4     0.675581\n",
       "9     0.504749\n",
       "57    0.496233\n",
       "58    0.491369\n",
       "49    0.487037\n",
       "56    0.483208\n",
       "53    0.479402\n",
       "60    0.463773\n",
       "46    0.460922\n",
       "24    0.460238\n",
       "52    0.459956\n",
       "59    0.459476\n",
       "48    0.455282\n",
       "Name: k, dtype: float64"
      ]
     },
     "metadata": {},
     "output_type": "display_data"
    }
   ],
   "source": [
    "parts_ari_stability = parts_ari.apply(lambda x: x.mean())\n",
    "display(parts_ari_stability.sort_values(ascending=False).head(15))"
   ]
  },
  {
   "cell_type": "code",
   "execution_count": 41,
   "metadata": {
    "execution": {
     "iopub.execute_input": "2020-12-02T17:42:49.297607Z",
     "iopub.status.busy": "2020-12-02T17:42:49.297238Z",
     "iopub.status.idle": "2020-12-02T17:42:49.310471Z",
     "shell.execute_reply": "2020-12-02T17:42:49.310771Z"
    },
    "papermill": {
     "duration": 0.086713,
     "end_time": "2020-12-02T17:42:49.310884",
     "exception": false,
     "start_time": "2020-12-02T17:42:49.224171",
     "status": "completed"
    },
    "tags": []
   },
   "outputs": [],
   "source": [
    "parts_ari_df = pd.DataFrame.from_records(parts_ari.tolist()).set_index(parts_ari.index.copy())"
   ]
  },
  {
   "cell_type": "code",
   "execution_count": 42,
   "metadata": {
    "execution": {
     "iopub.execute_input": "2020-12-02T17:42:49.457056Z",
     "iopub.status.busy": "2020-12-02T17:42:49.456611Z",
     "iopub.status.idle": "2020-12-02T17:42:49.469155Z",
     "shell.execute_reply": "2020-12-02T17:42:49.469455Z"
    },
    "papermill": {
     "duration": 0.085308,
     "end_time": "2020-12-02T17:42:49.469567",
     "exception": false,
     "start_time": "2020-12-02T17:42:49.384259",
     "status": "completed"
    },
    "tags": []
   },
   "outputs": [
    {
     "data": {
      "text/plain": [
       "(59, 10)"
      ]
     },
     "execution_count": 42,
     "metadata": {},
     "output_type": "execute_result"
    }
   ],
   "source": [
    "parts_ari_df.shape"
   ]
  },
  {
   "cell_type": "code",
   "execution_count": 43,
   "metadata": {
    "execution": {
     "iopub.execute_input": "2020-12-02T17:42:49.617447Z",
     "iopub.status.busy": "2020-12-02T17:42:49.617079Z",
     "iopub.status.idle": "2020-12-02T17:42:49.629081Z",
     "shell.execute_reply": "2020-12-02T17:42:49.628652Z"
    },
    "papermill": {
     "duration": 0.086193,
     "end_time": "2020-12-02T17:42:49.629172",
     "exception": false,
     "start_time": "2020-12-02T17:42:49.542979",
     "status": "completed"
    },
    "tags": []
   },
   "outputs": [],
   "source": [
    "assert int( (CLUSTERING_OPTIONS['N_REPS_PER_K'] * (CLUSTERING_OPTIONS['N_REPS_PER_K'] - 1) ) / 2) == parts_ari_df.shape[1]"
   ]
  },
  {
   "cell_type": "code",
   "execution_count": 44,
   "metadata": {
    "execution": {
     "iopub.execute_input": "2020-12-02T17:42:49.775311Z",
     "iopub.status.busy": "2020-12-02T17:42:49.774938Z",
     "iopub.status.idle": "2020-12-02T17:42:49.793164Z",
     "shell.execute_reply": "2020-12-02T17:42:49.792790Z"
    },
    "papermill": {
     "duration": 0.091127,
     "end_time": "2020-12-02T17:42:49.793252",
     "exception": false,
     "start_time": "2020-12-02T17:42:49.702125",
     "status": "completed"
    },
    "tags": []
   },
   "outputs": [
    {
     "data": {
      "text/html": [
       "<div>\n",
       "<style scoped>\n",
       "    .dataframe tbody tr th:only-of-type {\n",
       "        vertical-align: middle;\n",
       "    }\n",
       "\n",
       "    .dataframe tbody tr th {\n",
       "        vertical-align: top;\n",
       "    }\n",
       "\n",
       "    .dataframe thead th {\n",
       "        text-align: right;\n",
       "    }\n",
       "</style>\n",
       "<table border=\"1\" class=\"dataframe\">\n",
       "  <thead>\n",
       "    <tr style=\"text-align: right;\">\n",
       "      <th></th>\n",
       "      <th>0</th>\n",
       "      <th>1</th>\n",
       "      <th>2</th>\n",
       "      <th>3</th>\n",
       "      <th>4</th>\n",
       "      <th>5</th>\n",
       "      <th>6</th>\n",
       "      <th>7</th>\n",
       "      <th>8</th>\n",
       "      <th>9</th>\n",
       "    </tr>\n",
       "  </thead>\n",
       "  <tbody>\n",
       "    <tr>\n",
       "      <th>2</th>\n",
       "      <td>1.000000</td>\n",
       "      <td>1.000000</td>\n",
       "      <td>1.000000</td>\n",
       "      <td>1.000000</td>\n",
       "      <td>1.000000</td>\n",
       "      <td>1.000000</td>\n",
       "      <td>1.000000</td>\n",
       "      <td>1.000000</td>\n",
       "      <td>1.000000</td>\n",
       "      <td>1.000000</td>\n",
       "    </tr>\n",
       "    <tr>\n",
       "      <th>3</th>\n",
       "      <td>1.000000</td>\n",
       "      <td>1.000000</td>\n",
       "      <td>1.000000</td>\n",
       "      <td>1.000000</td>\n",
       "      <td>1.000000</td>\n",
       "      <td>1.000000</td>\n",
       "      <td>1.000000</td>\n",
       "      <td>1.000000</td>\n",
       "      <td>1.000000</td>\n",
       "      <td>1.000000</td>\n",
       "    </tr>\n",
       "    <tr>\n",
       "      <th>4</th>\n",
       "      <td>0.917962</td>\n",
       "      <td>0.481133</td>\n",
       "      <td>0.481133</td>\n",
       "      <td>0.481133</td>\n",
       "      <td>0.464816</td>\n",
       "      <td>0.464816</td>\n",
       "      <td>0.464816</td>\n",
       "      <td>1.000000</td>\n",
       "      <td>1.000000</td>\n",
       "      <td>1.000000</td>\n",
       "    </tr>\n",
       "    <tr>\n",
       "      <th>5</th>\n",
       "      <td>0.360144</td>\n",
       "      <td>0.338065</td>\n",
       "      <td>0.393219</td>\n",
       "      <td>0.774634</td>\n",
       "      <td>0.623512</td>\n",
       "      <td>0.444259</td>\n",
       "      <td>0.416145</td>\n",
       "      <td>0.351447</td>\n",
       "      <td>0.379220</td>\n",
       "      <td>0.427831</td>\n",
       "    </tr>\n",
       "    <tr>\n",
       "      <th>6</th>\n",
       "      <td>0.410096</td>\n",
       "      <td>0.341536</td>\n",
       "      <td>0.410132</td>\n",
       "      <td>0.277000</td>\n",
       "      <td>0.201221</td>\n",
       "      <td>0.369117</td>\n",
       "      <td>0.328628</td>\n",
       "      <td>0.206127</td>\n",
       "      <td>0.389345</td>\n",
       "      <td>0.315021</td>\n",
       "    </tr>\n",
       "  </tbody>\n",
       "</table>\n",
       "</div>"
      ],
      "text/plain": [
       "          0         1         2         3         4         5         6  \\\n",
       "2  1.000000  1.000000  1.000000  1.000000  1.000000  1.000000  1.000000   \n",
       "3  1.000000  1.000000  1.000000  1.000000  1.000000  1.000000  1.000000   \n",
       "4  0.917962  0.481133  0.481133  0.481133  0.464816  0.464816  0.464816   \n",
       "5  0.360144  0.338065  0.393219  0.774634  0.623512  0.444259  0.416145   \n",
       "6  0.410096  0.341536  0.410132  0.277000  0.201221  0.369117  0.328628   \n",
       "\n",
       "          7         8         9  \n",
       "2  1.000000  1.000000  1.000000  \n",
       "3  1.000000  1.000000  1.000000  \n",
       "4  1.000000  1.000000  1.000000  \n",
       "5  0.351447  0.379220  0.427831  \n",
       "6  0.206127  0.389345  0.315021  "
      ]
     },
     "execution_count": 44,
     "metadata": {},
     "output_type": "execute_result"
    }
   ],
   "source": [
    "parts_ari_df.head()"
   ]
  },
  {
   "cell_type": "markdown",
   "metadata": {
    "papermill": {
     "duration": 0.074565,
     "end_time": "2020-12-02T17:42:49.940325",
     "exception": false,
     "start_time": "2020-12-02T17:42:49.865760",
     "status": "completed"
    },
    "tags": []
   },
   "source": [
    "## Save"
   ]
  },
  {
   "cell_type": "code",
   "execution_count": 45,
   "metadata": {
    "execution": {
     "iopub.execute_input": "2020-12-02T17:42:50.086269Z",
     "iopub.status.busy": "2020-12-02T17:42:50.085900Z",
     "iopub.status.idle": "2020-12-02T17:42:50.098632Z",
     "shell.execute_reply": "2020-12-02T17:42:50.098945Z"
    },
    "papermill": {
     "duration": 0.087322,
     "end_time": "2020-12-02T17:42:50.099052",
     "exception": false,
     "start_time": "2020-12-02T17:42:50.011730",
     "status": "completed"
    },
    "tags": []
   },
   "outputs": [
    {
     "data": {
      "text/plain": [
       "PosixPath('/home/miltondp/projects/labs/greenelab/phenoplier/base/results/clustering/runs/umap-z_score_std-projection-smultixcan-efo_partial-mashr-zscores/GaussianMixture-stability-COVARIANCE_TYPE_full-K_MAX_60-K_MIN_2-N_INIT_10-N_REPS_PER_K_5.pkl')"
      ]
     },
     "metadata": {},
     "output_type": "display_data"
    }
   ],
   "source": [
    "output_filename = Path(\n",
    "    RESULTS_DIR,\n",
    "    generate_result_set_name(\n",
    "        CLUSTERING_OPTIONS,\n",
    "        prefix=f'{clustering_method_name}-stability-',\n",
    "        suffix='.pkl',\n",
    "    )\n",
    ").resolve()\n",
    "display(output_filename)"
   ]
  },
  {
   "cell_type": "code",
   "execution_count": 46,
   "metadata": {
    "execution": {
     "iopub.execute_input": "2020-12-02T17:42:50.243888Z",
     "iopub.status.busy": "2020-12-02T17:42:50.243511Z",
     "iopub.status.idle": "2020-12-02T17:42:50.256158Z",
     "shell.execute_reply": "2020-12-02T17:42:50.255755Z"
    },
    "papermill": {
     "duration": 0.085821,
     "end_time": "2020-12-02T17:42:50.256271",
     "exception": false,
     "start_time": "2020-12-02T17:42:50.170450",
     "status": "completed"
    },
    "tags": []
   },
   "outputs": [],
   "source": [
    "parts_ari_df.to_pickle(output_filename)"
   ]
  },
  {
   "cell_type": "markdown",
   "metadata": {
    "papermill": {
     "duration": 0.071862,
     "end_time": "2020-12-02T17:42:50.400311",
     "exception": false,
     "start_time": "2020-12-02T17:42:50.328449",
     "status": "completed"
    },
    "tags": []
   },
   "source": [
    "## Stability plot"
   ]
  },
  {
   "cell_type": "code",
   "execution_count": 47,
   "metadata": {
    "execution": {
     "iopub.execute_input": "2020-12-02T17:42:50.546751Z",
     "iopub.status.busy": "2020-12-02T17:42:50.546388Z",
     "iopub.status.idle": "2020-12-02T17:42:50.560112Z",
     "shell.execute_reply": "2020-12-02T17:42:50.559728Z"
    },
    "papermill": {
     "duration": 0.087971,
     "end_time": "2020-12-02T17:42:50.560200",
     "exception": false,
     "start_time": "2020-12-02T17:42:50.472229",
     "status": "completed"
    },
    "tags": []
   },
   "outputs": [],
   "source": [
    "parts_ari_df_plot = parts_ari_df.stack().reset_index().rename(columns={'level_0': 'k', 'level_1': 'idx', 0: 'ari'})"
   ]
  },
  {
   "cell_type": "code",
   "execution_count": 48,
   "metadata": {
    "execution": {
     "iopub.execute_input": "2020-12-02T17:42:50.705850Z",
     "iopub.status.busy": "2020-12-02T17:42:50.705480Z",
     "iopub.status.idle": "2020-12-02T17:42:50.719151Z",
     "shell.execute_reply": "2020-12-02T17:42:50.718765Z"
    },
    "papermill": {
     "duration": 0.087384,
     "end_time": "2020-12-02T17:42:50.719239",
     "exception": false,
     "start_time": "2020-12-02T17:42:50.631855",
     "status": "completed"
    },
    "tags": []
   },
   "outputs": [
    {
     "data": {
      "text/plain": [
       "k        int64\n",
       "idx      int64\n",
       "ari    float64\n",
       "dtype: object"
      ]
     },
     "execution_count": 48,
     "metadata": {},
     "output_type": "execute_result"
    }
   ],
   "source": [
    "parts_ari_df_plot.dtypes"
   ]
  },
  {
   "cell_type": "code",
   "execution_count": 49,
   "metadata": {
    "execution": {
     "iopub.execute_input": "2020-12-02T17:42:50.866368Z",
     "iopub.status.busy": "2020-12-02T17:42:50.865983Z",
     "iopub.status.idle": "2020-12-02T17:42:50.882091Z",
     "shell.execute_reply": "2020-12-02T17:42:50.882441Z"
    },
    "papermill": {
     "duration": 0.091015,
     "end_time": "2020-12-02T17:42:50.882560",
     "exception": false,
     "start_time": "2020-12-02T17:42:50.791545",
     "status": "completed"
    },
    "tags": []
   },
   "outputs": [
    {
     "data": {
      "text/html": [
       "<div>\n",
       "<style scoped>\n",
       "    .dataframe tbody tr th:only-of-type {\n",
       "        vertical-align: middle;\n",
       "    }\n",
       "\n",
       "    .dataframe tbody tr th {\n",
       "        vertical-align: top;\n",
       "    }\n",
       "\n",
       "    .dataframe thead th {\n",
       "        text-align: right;\n",
       "    }\n",
       "</style>\n",
       "<table border=\"1\" class=\"dataframe\">\n",
       "  <thead>\n",
       "    <tr style=\"text-align: right;\">\n",
       "      <th></th>\n",
       "      <th>k</th>\n",
       "      <th>idx</th>\n",
       "      <th>ari</th>\n",
       "    </tr>\n",
       "  </thead>\n",
       "  <tbody>\n",
       "    <tr>\n",
       "      <th>0</th>\n",
       "      <td>2</td>\n",
       "      <td>0</td>\n",
       "      <td>1.0</td>\n",
       "    </tr>\n",
       "    <tr>\n",
       "      <th>1</th>\n",
       "      <td>2</td>\n",
       "      <td>1</td>\n",
       "      <td>1.0</td>\n",
       "    </tr>\n",
       "    <tr>\n",
       "      <th>2</th>\n",
       "      <td>2</td>\n",
       "      <td>2</td>\n",
       "      <td>1.0</td>\n",
       "    </tr>\n",
       "    <tr>\n",
       "      <th>3</th>\n",
       "      <td>2</td>\n",
       "      <td>3</td>\n",
       "      <td>1.0</td>\n",
       "    </tr>\n",
       "    <tr>\n",
       "      <th>4</th>\n",
       "      <td>2</td>\n",
       "      <td>4</td>\n",
       "      <td>1.0</td>\n",
       "    </tr>\n",
       "  </tbody>\n",
       "</table>\n",
       "</div>"
      ],
      "text/plain": [
       "   k  idx  ari\n",
       "0  2    0  1.0\n",
       "1  2    1  1.0\n",
       "2  2    2  1.0\n",
       "3  2    3  1.0\n",
       "4  2    4  1.0"
      ]
     },
     "execution_count": 49,
     "metadata": {},
     "output_type": "execute_result"
    }
   ],
   "source": [
    "parts_ari_df_plot.head()"
   ]
  },
  {
   "cell_type": "code",
   "execution_count": 50,
   "metadata": {
    "execution": {
     "iopub.execute_input": "2020-12-02T17:42:51.034713Z",
     "iopub.status.busy": "2020-12-02T17:42:51.034331Z",
     "iopub.status.idle": "2020-12-02T17:42:53.931970Z",
     "shell.execute_reply": "2020-12-02T17:42:53.931582Z"
    },
    "papermill": {
     "duration": 2.974325,
     "end_time": "2020-12-02T17:42:53.932062",
     "exception": false,
     "start_time": "2020-12-02T17:42:50.957737",
     "status": "completed"
    },
    "tags": []
   },
   "outputs": [
    {
     "data": {
      "image/png": "[encoded data removed]",
      "text/plain": [
       "<Figure size 864x432 with 1 Axes>"
      ]
     },
     "metadata": {},
     "output_type": "display_data"
    }
   ],
   "source": [
    "# with sns.axes_style('whitegrid', {'grid.linestyle': '--'}):\n",
    "with sns.plotting_context('talk', font_scale=0.75), sns.axes_style('whitegrid', {'grid.linestyle': '--'}):\n",
    "    fig = plt.figure(figsize=(12, 6))\n",
    "    ax = sns.pointplot(data=parts_ari_df_plot, x='k', y='ari')\n",
    "    ax.set_ylabel('Averange ARI')\n",
    "    ax.set_xlabel('Number of clusters ($k$)')\n",
    "    ax.set_xticklabels(ax.get_xticklabels(), rotation=45)\n",
    "#     ax.set_ylim(0.0, 1.0)\n",
    "#     ax.set_xlim(CLUSTERING_OPTIONS['K_MIN'], CLUSTERING_OPTIONS['K_MAX'])\n",
    "    plt.grid(True)\n",
    "    plt.tight_layout()"
   ]
  },
  {
   "cell_type": "code",
   "execution_count": null,
   "metadata": {
    "papermill": {
     "duration": 0.073868,
     "end_time": "2020-12-02T17:42:54.081639",
     "exception": false,
     "start_time": "2020-12-02T17:42:54.007771",
     "status": "completed"
    },
    "tags": []
   },
   "outputs": [],
   "source": []
  }
 ],
 "metadata": {
  "jupytext": {
   "formats": "ipynb,py//py:percent"
  },
  "kernelspec": {
   "display_name": "Python 3",
   "language": "python",
   "name": "python3"
  },
  "language_info": {
   "codemirror_mode": {
    "name": "ipython",
    "version": 3
   },
   "file_extension": ".py",
   "mimetype": "text/x-python",
   "name": "python",
   "nbconvert_exporter": "python",
   "pygments_lexer": "ipython3",
   "version": "3.8.6"
  },
  "papermill": {
   "default_parameters": {},
   "duration": 3031.665745,
   "end_time": "2020-12-02T17:42:54.663030",
   "environment_variables": {},
   "exception": null,
   "input_path": "15_cluster_analysis/004_02-projection_smultixcan_efo-umap-clustering_gmm.ipynb",
   "output_path": "15_cluster_analysis/004_02-projection_smultixcan_efo-umap-clustering_gmm.run.ipynb",
   "parameters": {},
   "start_time": "2020-12-02T16:52:22.997285",
   "version": "2.2.2"
  },
  "toc-autonumbering": true,
  "toc-showcode": false,
  "toc-showmarkdowntxt": false,
  "toc-showtags": false
 },
 "nbformat": 4,
 "nbformat_minor": 4
}
