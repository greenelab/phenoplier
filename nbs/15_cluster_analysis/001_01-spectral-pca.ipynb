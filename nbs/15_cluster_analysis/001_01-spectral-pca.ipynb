{
 "cells": [
  {
   "cell_type": "markdown",
   "metadata": {
    "papermill": {
     "duration": 0.029484,
     "end_time": "2021-01-12T07:33:13.931630",
     "exception": false,
     "start_time": "2021-01-12T07:33:13.902146",
     "status": "completed"
    },
    "tags": []
   },
   "source": [
    "# Description"
   ]
  },
  {
   "cell_type": "markdown",
   "metadata": {
    "papermill": {
     "duration": 0.022848,
     "end_time": "2021-01-12T07:33:13.977642",
     "exception": false,
     "start_time": "2021-01-12T07:33:13.954794",
     "status": "completed"
    },
    "tags": []
   },
   "source": [
    "Runs spectral clustering on the pca version of the data."
   ]
  },
  {
   "cell_type": "markdown",
   "metadata": {
    "papermill": {
     "duration": 0.023032,
     "end_time": "2021-01-12T07:33:14.023506",
     "exception": false,
     "start_time": "2021-01-12T07:33:14.000474",
     "status": "completed"
    },
    "tags": []
   },
   "source": [
    "# Environment variables"
   ]
  },
  {
   "cell_type": "code",
   "execution_count": 1,
   "metadata": {
    "execution": {
     "iopub.execute_input": "2021-01-12T07:33:14.073543Z",
     "iopub.status.busy": "2021-01-12T07:33:14.073094Z",
     "iopub.status.idle": "2021-01-12T07:33:14.084636Z",
     "shell.execute_reply": "2021-01-12T07:33:14.084184Z"
    },
    "papermill": {
     "duration": 0.038372,
     "end_time": "2021-01-12T07:33:14.084791",
     "exception": false,
     "start_time": "2021-01-12T07:33:14.046419",
     "status": "completed"
    },
    "tags": []
   },
   "outputs": [
    {
     "data": {
      "text/plain": [
       "3"
      ]
     },
     "metadata": {},
     "output_type": "display_data"
    }
   ],
   "source": [
    "from IPython.display import display\n",
    "\n",
    "import conf\n",
    "\n",
    "N_JOBS = conf.GENERAL[\"N_JOBS\"]\n",
    "display(N_JOBS)"
   ]
  },
  {
   "cell_type": "code",
   "execution_count": 2,
   "metadata": {
    "execution": {
     "iopub.execute_input": "2021-01-12T07:33:14.138349Z",
     "iopub.status.busy": "2021-01-12T07:33:14.137906Z",
     "iopub.status.idle": "2021-01-12T07:33:14.140559Z",
     "shell.execute_reply": "2021-01-12T07:33:14.140174Z"
    },
    "papermill": {
     "duration": 0.031129,
     "end_time": "2021-01-12T07:33:14.140647",
     "exception": false,
     "start_time": "2021-01-12T07:33:14.109518",
     "status": "completed"
    },
    "tags": []
   },
   "outputs": [
    {
     "name": "stdout",
     "output_type": "stream",
     "text": [
      "env: MKL_NUM_THREADS=3\n",
      "env: OPEN_BLAS_NUM_THREADS=3\n",
      "env: NUMEXPR_NUM_THREADS=3\n",
      "env: OMP_NUM_THREADS=3\n"
     ]
    }
   ],
   "source": [
    "%env MKL_NUM_THREADS=$N_JOBS\n",
    "%env OPEN_BLAS_NUM_THREADS=$N_JOBS\n",
    "%env NUMEXPR_NUM_THREADS=$N_JOBS\n",
    "%env OMP_NUM_THREADS=$N_JOBS"
   ]
  },
  {
   "cell_type": "markdown",
   "metadata": {
    "papermill": {
     "duration": 0.023952,
     "end_time": "2021-01-12T07:33:14.188869",
     "exception": false,
     "start_time": "2021-01-12T07:33:14.164917",
     "status": "completed"
    },
    "tags": []
   },
   "source": [
    "# Modules loading"
   ]
  },
  {
   "cell_type": "code",
   "execution_count": 3,
   "metadata": {
    "execution": {
     "iopub.execute_input": "2021-01-12T07:33:14.239668Z",
     "iopub.status.busy": "2021-01-12T07:33:14.239281Z",
     "iopub.status.idle": "2021-01-12T07:33:14.246686Z",
     "shell.execute_reply": "2021-01-12T07:33:14.246983Z"
    },
    "papermill": {
     "duration": 0.034267,
     "end_time": "2021-01-12T07:33:14.247087",
     "exception": false,
     "start_time": "2021-01-12T07:33:14.212820",
     "status": "completed"
    },
    "tags": []
   },
   "outputs": [],
   "source": [
    "%load_ext autoreload\n",
    "%autoreload 2"
   ]
  },
  {
   "cell_type": "code",
   "execution_count": 4,
   "metadata": {
    "execution": {
     "iopub.execute_input": "2021-01-12T07:33:14.298745Z",
     "iopub.status.busy": "2021-01-12T07:33:14.298374Z",
     "iopub.status.idle": "2021-01-12T07:33:14.859344Z",
     "shell.execute_reply": "2021-01-12T07:33:14.858835Z"
    },
    "papermill": {
     "duration": 0.587972,
     "end_time": "2021-01-12T07:33:14.859454",
     "exception": false,
     "start_time": "2021-01-12T07:33:14.271482",
     "status": "completed"
    },
    "tags": []
   },
   "outputs": [],
   "source": [
    "from pathlib import Path\n",
    "\n",
    "import numpy as np\n",
    "import pandas as pd\n",
    "import matplotlib.pyplot as plt\n",
    "import seaborn as sns\n",
    "\n",
    "from utils import generate_result_set_name"
   ]
  },
  {
   "cell_type": "markdown",
   "metadata": {
    "papermill": {
     "duration": 0.025033,
     "end_time": "2021-01-12T07:33:14.914780",
     "exception": false,
     "start_time": "2021-01-12T07:33:14.889747",
     "status": "completed"
    },
    "tags": []
   },
   "source": [
    "# Settings"
   ]
  },
  {
   "cell_type": "code",
   "execution_count": 5,
   "metadata": {
    "execution": {
     "iopub.execute_input": "2021-01-12T07:33:14.965439Z",
     "iopub.status.busy": "2021-01-12T07:33:14.965067Z",
     "iopub.status.idle": "2021-01-12T07:33:14.974396Z",
     "shell.execute_reply": "2021-01-12T07:33:14.974698Z"
    },
    "papermill": {
     "duration": 0.036463,
     "end_time": "2021-01-12T07:33:14.974819",
     "exception": false,
     "start_time": "2021-01-12T07:33:14.938356",
     "status": "completed"
    },
    "tags": []
   },
   "outputs": [],
   "source": [
    "INITIAL_RANDOM_STATE = 40000"
   ]
  },
  {
   "cell_type": "markdown",
   "metadata": {
    "papermill": {
     "duration": 0.023087,
     "end_time": "2021-01-12T07:33:15.021692",
     "exception": false,
     "start_time": "2021-01-12T07:33:14.998605",
     "status": "completed"
    },
    "tags": []
   },
   "source": [
    "## Input data"
   ]
  },
  {
   "cell_type": "code",
   "execution_count": 6,
   "metadata": {
    "execution": {
     "iopub.execute_input": "2021-01-12T07:33:15.070587Z",
     "iopub.status.busy": "2021-01-12T07:33:15.070193Z",
     "iopub.status.idle": "2021-01-12T07:33:15.079763Z",
     "shell.execute_reply": "2021-01-12T07:33:15.079381Z"
    },
    "papermill": {
     "duration": 0.035033,
     "end_time": "2021-01-12T07:33:15.079852",
     "exception": false,
     "start_time": "2021-01-12T07:33:15.044819",
     "status": "completed"
    },
    "tags": []
   },
   "outputs": [],
   "source": [
    "INPUT_SUBSET = \"pca\""
   ]
  },
  {
   "cell_type": "code",
   "execution_count": 7,
   "metadata": {
    "execution": {
     "iopub.execute_input": "2021-01-12T07:33:15.129715Z",
     "iopub.status.busy": "2021-01-12T07:33:15.129338Z",
     "iopub.status.idle": "2021-01-12T07:33:15.138746Z",
     "shell.execute_reply": "2021-01-12T07:33:15.138371Z"
    },
    "papermill": {
     "duration": 0.035131,
     "end_time": "2021-01-12T07:33:15.138833",
     "exception": false,
     "start_time": "2021-01-12T07:33:15.103702",
     "status": "completed"
    },
    "tags": []
   },
   "outputs": [],
   "source": [
    "INPUT_STEM = \"z_score_std-projection-smultixcan-efo_partial-mashr-zscores\""
   ]
  },
  {
   "cell_type": "code",
   "execution_count": 8,
   "metadata": {
    "execution": {
     "iopub.execute_input": "2021-01-12T07:33:15.188204Z",
     "iopub.status.busy": "2021-01-12T07:33:15.187841Z",
     "iopub.status.idle": "2021-01-12T07:33:15.197367Z",
     "shell.execute_reply": "2021-01-12T07:33:15.196995Z"
    },
    "papermill": {
     "duration": 0.035202,
     "end_time": "2021-01-12T07:33:15.197455",
     "exception": false,
     "start_time": "2021-01-12T07:33:15.162253",
     "status": "completed"
    },
    "tags": []
   },
   "outputs": [],
   "source": [
    "DR_OPTIONS = {\n",
    "    \"n_components\": 50,\n",
    "    \"svd_solver\": \"full\",\n",
    "    \"random_state\": 0,\n",
    "}"
   ]
  },
  {
   "cell_type": "code",
   "execution_count": 9,
   "metadata": {
    "execution": {
     "iopub.execute_input": "2021-01-12T07:33:15.247874Z",
     "iopub.status.busy": "2021-01-12T07:33:15.247506Z",
     "iopub.status.idle": "2021-01-12T07:33:15.259412Z",
     "shell.execute_reply": "2021-01-12T07:33:15.259024Z"
    },
    "papermill": {
     "duration": 0.038248,
     "end_time": "2021-01-12T07:33:15.259501",
     "exception": false,
     "start_time": "2021-01-12T07:33:15.221253",
     "status": "completed"
    },
    "tags": []
   },
   "outputs": [
    {
     "data": {
      "text/plain": [
       "PosixPath('/home/miltondp/projects/labs/greenelab/phenoplier/base3/results/data_transformations/pca/pca-z_score_std-projection-smultixcan-efo_partial-mashr-zscores-n_components_50-random_state_0-svd_solver_full.pkl')"
      ]
     },
     "metadata": {},
     "output_type": "display_data"
    },
    {
     "data": {
      "text/plain": [
       "'pca-z_score_std-projection-smultixcan-efo_partial-mashr-zscores-n_components_50-random_state_0-svd_solver_full'"
      ]
     },
     "metadata": {},
     "output_type": "display_data"
    }
   ],
   "source": [
    "input_filepath = Path(\n",
    "    conf.RESULTS[\"DATA_TRANSFORMATIONS_DIR\"],\n",
    "    INPUT_SUBSET,\n",
    "    generate_result_set_name(\n",
    "        DR_OPTIONS, prefix=f\"{INPUT_SUBSET}-{INPUT_STEM}-\", suffix=\".pkl\"\n",
    "    ),\n",
    ").resolve()\n",
    "display(input_filepath)\n",
    "\n",
    "assert input_filepath.exists(), \"Input file does not exist\"\n",
    "\n",
    "input_filepath_stem = input_filepath.stem\n",
    "display(input_filepath_stem)"
   ]
  },
  {
   "cell_type": "markdown",
   "metadata": {
    "papermill": {
     "duration": 0.023908,
     "end_time": "2021-01-12T07:33:15.308594",
     "exception": false,
     "start_time": "2021-01-12T07:33:15.284686",
     "status": "completed"
    },
    "tags": []
   },
   "source": [
    "## Clustering"
   ]
  },
  {
   "cell_type": "code",
   "execution_count": 10,
   "metadata": {
    "execution": {
     "iopub.execute_input": "2021-01-12T07:33:15.360548Z",
     "iopub.status.busy": "2021-01-12T07:33:15.360179Z",
     "iopub.status.idle": "2021-01-12T07:33:15.491856Z",
     "shell.execute_reply": "2021-01-12T07:33:15.491496Z"
    },
    "papermill": {
     "duration": 0.158585,
     "end_time": "2021-01-12T07:33:15.491946",
     "exception": false,
     "start_time": "2021-01-12T07:33:15.333361",
     "status": "completed"
    },
    "tags": []
   },
   "outputs": [],
   "source": [
    "from sklearn.cluster import SpectralClustering"
   ]
  },
  {
   "cell_type": "code",
   "execution_count": 11,
   "metadata": {
    "execution": {
     "iopub.execute_input": "2021-01-12T07:33:15.543708Z",
     "iopub.status.busy": "2021-01-12T07:33:15.543344Z",
     "iopub.status.idle": "2021-01-12T07:33:15.553475Z",
     "shell.execute_reply": "2021-01-12T07:33:15.553764Z"
    },
    "papermill": {
     "duration": 0.037145,
     "end_time": "2021-01-12T07:33:15.553874",
     "exception": false,
     "start_time": "2021-01-12T07:33:15.516729",
     "status": "completed"
    },
    "tags": []
   },
   "outputs": [],
   "source": [
    "CLUSTERING_ATTRIBUTES_TO_SAVE = [\"n_clusters\"]"
   ]
  },
  {
   "cell_type": "code",
   "execution_count": 12,
   "metadata": {
    "execution": {
     "iopub.execute_input": "2021-01-12T07:33:15.605371Z",
     "iopub.status.busy": "2021-01-12T07:33:15.604977Z",
     "iopub.status.idle": "2021-01-12T07:33:15.616654Z",
     "shell.execute_reply": "2021-01-12T07:33:15.616274Z"
    },
    "papermill": {
     "duration": 0.038258,
     "end_time": "2021-01-12T07:33:15.616779",
     "exception": false,
     "start_time": "2021-01-12T07:33:15.578521",
     "status": "completed"
    },
    "tags": []
   },
   "outputs": [
    {
     "data": {
      "text/plain": [
       "{'K_MIN': 2,\n",
       " 'K_MAX': 60,\n",
       " 'N_REPS_PER_K': 5,\n",
       " 'KMEANS_N_INIT': 10,\n",
       " 'GAMMA': 1e-10,\n",
       " 'AFFINITY': 'rbf'}"
      ]
     },
     "metadata": {},
     "output_type": "display_data"
    }
   ],
   "source": [
    "CLUSTERING_OPTIONS = {}\n",
    "\n",
    "CLUSTERING_OPTIONS[\"K_MIN\"] = 2\n",
    "CLUSTERING_OPTIONS[\"K_MAX\"] = 60  # sqrt(3749)\n",
    "CLUSTERING_OPTIONS[\"N_REPS_PER_K\"] = 5\n",
    "CLUSTERING_OPTIONS[\"KMEANS_N_INIT\"] = 10\n",
    "CLUSTERING_OPTIONS[\"GAMMA\"] = 1.0e-10\n",
    "CLUSTERING_OPTIONS[\"AFFINITY\"] = \"rbf\"\n",
    "\n",
    "display(CLUSTERING_OPTIONS)"
   ]
  },
  {
   "cell_type": "code",
   "execution_count": 13,
   "metadata": {
    "execution": {
     "iopub.execute_input": "2021-01-12T07:33:15.669115Z",
     "iopub.status.busy": "2021-01-12T07:33:15.668686Z",
     "iopub.status.idle": "2021-01-12T07:33:15.680573Z",
     "shell.execute_reply": "2021-01-12T07:33:15.680197Z"
    },
    "papermill": {
     "duration": 0.039516,
     "end_time": "2021-01-12T07:33:15.680660",
     "exception": false,
     "start_time": "2021-01-12T07:33:15.641144",
     "status": "completed"
    },
    "tags": []
   },
   "outputs": [],
   "source": [
    "CLUSTERERS = {}\n",
    "\n",
    "idx = 0\n",
    "random_state = INITIAL_RANDOM_STATE\n",
    "\n",
    "for k in range(CLUSTERING_OPTIONS[\"K_MIN\"], CLUSTERING_OPTIONS[\"K_MAX\"] + 1):\n",
    "    for i in range(CLUSTERING_OPTIONS[\"N_REPS_PER_K\"]):\n",
    "        clus = SpectralClustering(\n",
    "            eigen_solver=\"arpack\",\n",
    "            n_clusters=k,\n",
    "            n_init=CLUSTERING_OPTIONS[\"KMEANS_N_INIT\"],\n",
    "            affinity=CLUSTERING_OPTIONS[\"AFFINITY\"],\n",
    "            gamma=CLUSTERING_OPTIONS[\"GAMMA\"],\n",
    "            random_state=random_state,\n",
    "        )\n",
    "\n",
    "        method_name = type(clus).__name__\n",
    "        CLUSTERERS[f\"{method_name} #{idx}\"] = clus\n",
    "\n",
    "        random_state = random_state + 1\n",
    "        idx = idx + 1"
   ]
  },
  {
   "cell_type": "code",
   "execution_count": 14,
   "metadata": {
    "execution": {
     "iopub.execute_input": "2021-01-12T07:33:15.733454Z",
     "iopub.status.busy": "2021-01-12T07:33:15.733066Z",
     "iopub.status.idle": "2021-01-12T07:33:15.744885Z",
     "shell.execute_reply": "2021-01-12T07:33:15.744507Z"
    },
    "papermill": {
     "duration": 0.038778,
     "end_time": "2021-01-12T07:33:15.744974",
     "exception": false,
     "start_time": "2021-01-12T07:33:15.706196",
     "status": "completed"
    },
    "tags": []
   },
   "outputs": [
    {
     "data": {
      "text/plain": [
       "295"
      ]
     },
     "metadata": {},
     "output_type": "display_data"
    }
   ],
   "source": [
    "display(len(CLUSTERERS))"
   ]
  },
  {
   "cell_type": "code",
   "execution_count": 15,
   "metadata": {
    "execution": {
     "iopub.execute_input": "2021-01-12T07:33:15.799863Z",
     "iopub.status.busy": "2021-01-12T07:33:15.799476Z",
     "iopub.status.idle": "2021-01-12T07:33:15.813152Z",
     "shell.execute_reply": "2021-01-12T07:33:15.812778Z"
    },
    "papermill": {
     "duration": 0.04234,
     "end_time": "2021-01-12T07:33:15.813240",
     "exception": false,
     "start_time": "2021-01-12T07:33:15.770900",
     "status": "completed"
    },
    "tags": []
   },
   "outputs": [
    {
     "data": {
      "text/plain": [
       "('SpectralClustering #0',\n",
       " SpectralClustering(eigen_solver='arpack', gamma=1e-10, n_clusters=2,\n",
       "                    random_state=40000))"
      ]
     },
     "metadata": {},
     "output_type": "display_data"
    },
    {
     "data": {
      "text/plain": [
       "('SpectralClustering #1',\n",
       " SpectralClustering(eigen_solver='arpack', gamma=1e-10, n_clusters=2,\n",
       "                    random_state=40001))"
      ]
     },
     "metadata": {},
     "output_type": "display_data"
    }
   ],
   "source": [
    "_iter = iter(CLUSTERERS.items())\n",
    "display(next(_iter))\n",
    "display(next(_iter))"
   ]
  },
  {
   "cell_type": "code",
   "execution_count": 16,
   "metadata": {
    "execution": {
     "iopub.execute_input": "2021-01-12T07:33:15.866365Z",
     "iopub.status.busy": "2021-01-12T07:33:15.865965Z",
     "iopub.status.idle": "2021-01-12T07:33:15.877128Z",
     "shell.execute_reply": "2021-01-12T07:33:15.877436Z"
    },
    "papermill": {
     "duration": 0.03894,
     "end_time": "2021-01-12T07:33:15.877544",
     "exception": false,
     "start_time": "2021-01-12T07:33:15.838604",
     "status": "completed"
    },
    "tags": []
   },
   "outputs": [
    {
     "data": {
      "text/plain": [
       "'SpectralClustering'"
      ]
     },
     "metadata": {},
     "output_type": "display_data"
    }
   ],
   "source": [
    "clustering_method_name = method_name\n",
    "display(clustering_method_name)"
   ]
  },
  {
   "cell_type": "markdown",
   "metadata": {
    "papermill": {
     "duration": 0.025268,
     "end_time": "2021-01-12T07:33:15.929232",
     "exception": false,
     "start_time": "2021-01-12T07:33:15.903964",
     "status": "completed"
    },
    "tags": []
   },
   "source": [
    "## Output directory"
   ]
  },
  {
   "cell_type": "code",
   "execution_count": 17,
   "metadata": {
    "execution": {
     "iopub.execute_input": "2021-01-12T07:33:15.982279Z",
     "iopub.status.busy": "2021-01-12T07:33:15.981896Z",
     "iopub.status.idle": "2021-01-12T07:33:15.993404Z",
     "shell.execute_reply": "2021-01-12T07:33:15.993023Z"
    },
    "papermill": {
     "duration": 0.039104,
     "end_time": "2021-01-12T07:33:15.993493",
     "exception": false,
     "start_time": "2021-01-12T07:33:15.954389",
     "status": "completed"
    },
    "tags": []
   },
   "outputs": [
    {
     "data": {
      "text/plain": [
       "PosixPath('/home/miltondp/projects/labs/greenelab/phenoplier/base3/results/clustering/runs/pca-z_score_std-projection-smultixcan-efo_partial-mashr-zscores')"
      ]
     },
     "metadata": {},
     "output_type": "display_data"
    }
   ],
   "source": [
    "# output dir for this notebook\n",
    "RESULTS_DIR = Path(\n",
    "    conf.RESULTS[\"CLUSTERING_RUNS_DIR\"],\n",
    "    f\"{INPUT_SUBSET}-{INPUT_STEM}\",\n",
    ").resolve()\n",
    "RESULTS_DIR.mkdir(parents=True, exist_ok=True)\n",
    "\n",
    "display(RESULTS_DIR)"
   ]
  },
  {
   "cell_type": "markdown",
   "metadata": {
    "papermill": {
     "duration": 0.025141,
     "end_time": "2021-01-12T07:33:16.044550",
     "exception": false,
     "start_time": "2021-01-12T07:33:16.019409",
     "status": "completed"
    },
    "tags": []
   },
   "source": [
    "# Load input file"
   ]
  },
  {
   "cell_type": "code",
   "execution_count": 18,
   "metadata": {
    "execution": {
     "iopub.execute_input": "2021-01-12T07:33:16.097712Z",
     "iopub.status.busy": "2021-01-12T07:33:16.097344Z",
     "iopub.status.idle": "2021-01-12T07:33:16.109746Z",
     "shell.execute_reply": "2021-01-12T07:33:16.109416Z"
    },
    "papermill": {
     "duration": 0.040204,
     "end_time": "2021-01-12T07:33:16.109840",
     "exception": false,
     "start_time": "2021-01-12T07:33:16.069636",
     "status": "completed"
    },
    "tags": []
   },
   "outputs": [],
   "source": [
    "data = pd.read_pickle(input_filepath)"
   ]
  },
  {
   "cell_type": "code",
   "execution_count": 19,
   "metadata": {
    "execution": {
     "iopub.execute_input": "2021-01-12T07:33:16.165893Z",
     "iopub.status.busy": "2021-01-12T07:33:16.165526Z",
     "iopub.status.idle": "2021-01-12T07:33:16.176559Z",
     "shell.execute_reply": "2021-01-12T07:33:16.176892Z"
    },
    "papermill": {
     "duration": 0.039801,
     "end_time": "2021-01-12T07:33:16.176997",
     "exception": false,
     "start_time": "2021-01-12T07:33:16.137196",
     "status": "completed"
    },
    "tags": []
   },
   "outputs": [
    {
     "data": {
      "text/plain": [
       "(3749, 50)"
      ]
     },
     "execution_count": 19,
     "metadata": {},
     "output_type": "execute_result"
    }
   ],
   "source": [
    "data.shape"
   ]
  },
  {
   "cell_type": "code",
   "execution_count": 20,
   "metadata": {
    "execution": {
     "iopub.execute_input": "2021-01-12T07:33:16.231997Z",
     "iopub.status.busy": "2021-01-12T07:33:16.231643Z",
     "iopub.status.idle": "2021-01-12T07:33:16.256308Z",
     "shell.execute_reply": "2021-01-12T07:33:16.255980Z"
    },
    "papermill": {
     "duration": 0.053336,
     "end_time": "2021-01-12T07:33:16.256398",
     "exception": false,
     "start_time": "2021-01-12T07:33:16.203062",
     "status": "completed"
    },
    "tags": []
   },
   "outputs": [
    {
     "data": {
      "text/html": [
       "<div>\n",
       "<style scoped>\n",
       "    .dataframe tbody tr th:only-of-type {\n",
       "        vertical-align: middle;\n",
       "    }\n",
       "\n",
       "    .dataframe tbody tr th {\n",
       "        vertical-align: top;\n",
       "    }\n",
       "\n",
       "    .dataframe thead th {\n",
       "        text-align: right;\n",
       "    }\n",
       "</style>\n",
       "<table border=\"1\" class=\"dataframe\">\n",
       "  <thead>\n",
       "    <tr style=\"text-align: right;\">\n",
       "      <th></th>\n",
       "      <th>PCA1</th>\n",
       "      <th>PCA2</th>\n",
       "      <th>PCA3</th>\n",
       "      <th>PCA4</th>\n",
       "      <th>PCA5</th>\n",
       "      <th>PCA6</th>\n",
       "      <th>PCA7</th>\n",
       "      <th>PCA8</th>\n",
       "      <th>PCA9</th>\n",
       "      <th>PCA10</th>\n",
       "      <th>...</th>\n",
       "      <th>PCA41</th>\n",
       "      <th>PCA42</th>\n",
       "      <th>PCA43</th>\n",
       "      <th>PCA44</th>\n",
       "      <th>PCA45</th>\n",
       "      <th>PCA46</th>\n",
       "      <th>PCA47</th>\n",
       "      <th>PCA48</th>\n",
       "      <th>PCA49</th>\n",
       "      <th>PCA50</th>\n",
       "    </tr>\n",
       "  </thead>\n",
       "  <tbody>\n",
       "    <tr>\n",
       "      <th>100001_raw-Food_weight</th>\n",
       "      <td>-0.547515</td>\n",
       "      <td>-0.007250</td>\n",
       "      <td>0.245361</td>\n",
       "      <td>0.132424</td>\n",
       "      <td>1.201447</td>\n",
       "      <td>-0.113158</td>\n",
       "      <td>0.048859</td>\n",
       "      <td>1.031679</td>\n",
       "      <td>0.711208</td>\n",
       "      <td>0.126100</td>\n",
       "      <td>...</td>\n",
       "      <td>0.113685</td>\n",
       "      <td>-0.109753</td>\n",
       "      <td>0.178202</td>\n",
       "      <td>-0.487868</td>\n",
       "      <td>1.805920</td>\n",
       "      <td>-0.342611</td>\n",
       "      <td>-0.663712</td>\n",
       "      <td>-1.313987</td>\n",
       "      <td>-1.481707</td>\n",
       "      <td>0.396410</td>\n",
       "    </tr>\n",
       "    <tr>\n",
       "      <th>100002_raw-Energy</th>\n",
       "      <td>-1.570593</td>\n",
       "      <td>-0.618992</td>\n",
       "      <td>-1.223395</td>\n",
       "      <td>1.627321</td>\n",
       "      <td>-0.563860</td>\n",
       "      <td>0.224922</td>\n",
       "      <td>-1.500327</td>\n",
       "      <td>2.045633</td>\n",
       "      <td>-1.665998</td>\n",
       "      <td>-0.180432</td>\n",
       "      <td>...</td>\n",
       "      <td>0.697880</td>\n",
       "      <td>1.412676</td>\n",
       "      <td>2.103988</td>\n",
       "      <td>0.385625</td>\n",
       "      <td>2.386495</td>\n",
       "      <td>-2.939998</td>\n",
       "      <td>-0.978275</td>\n",
       "      <td>-1.893307</td>\n",
       "      <td>-0.259497</td>\n",
       "      <td>0.423264</td>\n",
       "    </tr>\n",
       "    <tr>\n",
       "      <th>100003_raw-Protein</th>\n",
       "      <td>-0.601212</td>\n",
       "      <td>-0.948824</td>\n",
       "      <td>-1.022209</td>\n",
       "      <td>2.438433</td>\n",
       "      <td>-2.062235</td>\n",
       "      <td>0.356202</td>\n",
       "      <td>-1.538038</td>\n",
       "      <td>2.314675</td>\n",
       "      <td>-1.108991</td>\n",
       "      <td>0.318034</td>\n",
       "      <td>...</td>\n",
       "      <td>0.171992</td>\n",
       "      <td>1.351979</td>\n",
       "      <td>0.054404</td>\n",
       "      <td>-0.725132</td>\n",
       "      <td>2.226520</td>\n",
       "      <td>-3.481674</td>\n",
       "      <td>-0.445294</td>\n",
       "      <td>-0.477452</td>\n",
       "      <td>0.237157</td>\n",
       "      <td>1.440867</td>\n",
       "    </tr>\n",
       "    <tr>\n",
       "      <th>100004_raw-Fat</th>\n",
       "      <td>-1.648214</td>\n",
       "      <td>-0.342042</td>\n",
       "      <td>-0.270189</td>\n",
       "      <td>1.683268</td>\n",
       "      <td>-1.222401</td>\n",
       "      <td>0.018349</td>\n",
       "      <td>-0.032824</td>\n",
       "      <td>1.671161</td>\n",
       "      <td>-0.908965</td>\n",
       "      <td>0.224100</td>\n",
       "      <td>...</td>\n",
       "      <td>-0.358812</td>\n",
       "      <td>0.696836</td>\n",
       "      <td>1.072624</td>\n",
       "      <td>0.627951</td>\n",
       "      <td>1.802000</td>\n",
       "      <td>0.174704</td>\n",
       "      <td>0.826319</td>\n",
       "      <td>-0.826992</td>\n",
       "      <td>0.596113</td>\n",
       "      <td>0.620050</td>\n",
       "    </tr>\n",
       "    <tr>\n",
       "      <th>100005_raw-Carbohydrate</th>\n",
       "      <td>-1.867586</td>\n",
       "      <td>-0.006412</td>\n",
       "      <td>-0.303220</td>\n",
       "      <td>0.770958</td>\n",
       "      <td>-0.116822</td>\n",
       "      <td>0.460946</td>\n",
       "      <td>-2.407732</td>\n",
       "      <td>1.534273</td>\n",
       "      <td>-1.930577</td>\n",
       "      <td>0.064621</td>\n",
       "      <td>...</td>\n",
       "      <td>1.332852</td>\n",
       "      <td>1.978032</td>\n",
       "      <td>2.158456</td>\n",
       "      <td>0.831123</td>\n",
       "      <td>1.093202</td>\n",
       "      <td>-3.539033</td>\n",
       "      <td>-0.831862</td>\n",
       "      <td>-0.842298</td>\n",
       "      <td>-0.723072</td>\n",
       "      <td>0.359438</td>\n",
       "    </tr>\n",
       "  </tbody>\n",
       "</table>\n",
       "<p>5 rows × 50 columns</p>\n",
       "</div>"
      ],
      "text/plain": [
       "                             PCA1      PCA2      PCA3      PCA4      PCA5  \\\n",
       "100001_raw-Food_weight  -0.547515 -0.007250  0.245361  0.132424  1.201447   \n",
       "100002_raw-Energy       -1.570593 -0.618992 -1.223395  1.627321 -0.563860   \n",
       "100003_raw-Protein      -0.601212 -0.948824 -1.022209  2.438433 -2.062235   \n",
       "100004_raw-Fat          -1.648214 -0.342042 -0.270189  1.683268 -1.222401   \n",
       "100005_raw-Carbohydrate -1.867586 -0.006412 -0.303220  0.770958 -0.116822   \n",
       "\n",
       "                             PCA6      PCA7      PCA8      PCA9     PCA10  \\\n",
       "100001_raw-Food_weight  -0.113158  0.048859  1.031679  0.711208  0.126100   \n",
       "100002_raw-Energy        0.224922 -1.500327  2.045633 -1.665998 -0.180432   \n",
       "100003_raw-Protein       0.356202 -1.538038  2.314675 -1.108991  0.318034   \n",
       "100004_raw-Fat           0.018349 -0.032824  1.671161 -0.908965  0.224100   \n",
       "100005_raw-Carbohydrate  0.460946 -2.407732  1.534273 -1.930577  0.064621   \n",
       "\n",
       "                         ...     PCA41     PCA42     PCA43     PCA44  \\\n",
       "100001_raw-Food_weight   ...  0.113685 -0.109753  0.178202 -0.487868   \n",
       "100002_raw-Energy        ...  0.697880  1.412676  2.103988  0.385625   \n",
       "100003_raw-Protein       ...  0.171992  1.351979  0.054404 -0.725132   \n",
       "100004_raw-Fat           ... -0.358812  0.696836  1.072624  0.627951   \n",
       "100005_raw-Carbohydrate  ...  1.332852  1.978032  2.158456  0.831123   \n",
       "\n",
       "                            PCA45     PCA46     PCA47     PCA48     PCA49  \\\n",
       "100001_raw-Food_weight   1.805920 -0.342611 -0.663712 -1.313987 -1.481707   \n",
       "100002_raw-Energy        2.386495 -2.939998 -0.978275 -1.893307 -0.259497   \n",
       "100003_raw-Protein       2.226520 -3.481674 -0.445294 -0.477452  0.237157   \n",
       "100004_raw-Fat           1.802000  0.174704  0.826319 -0.826992  0.596113   \n",
       "100005_raw-Carbohydrate  1.093202 -3.539033 -0.831862 -0.842298 -0.723072   \n",
       "\n",
       "                            PCA50  \n",
       "100001_raw-Food_weight   0.396410  \n",
       "100002_raw-Energy        0.423264  \n",
       "100003_raw-Protein       1.440867  \n",
       "100004_raw-Fat           0.620050  \n",
       "100005_raw-Carbohydrate  0.359438  \n",
       "\n",
       "[5 rows x 50 columns]"
      ]
     },
     "execution_count": 20,
     "metadata": {},
     "output_type": "execute_result"
    }
   ],
   "source": [
    "data.head()"
   ]
  },
  {
   "cell_type": "code",
   "execution_count": 21,
   "metadata": {
    "execution": {
     "iopub.execute_input": "2021-01-12T07:33:16.313441Z",
     "iopub.status.busy": "2021-01-12T07:33:16.313016Z",
     "iopub.status.idle": "2021-01-12T07:33:16.324604Z",
     "shell.execute_reply": "2021-01-12T07:33:16.324060Z"
    },
    "papermill": {
     "duration": 0.040804,
     "end_time": "2021-01-12T07:33:16.324719",
     "exception": false,
     "start_time": "2021-01-12T07:33:16.283915",
     "status": "completed"
    },
    "tags": []
   },
   "outputs": [],
   "source": [
    "assert not data.isna().any().any()"
   ]
  },
  {
   "cell_type": "markdown",
   "metadata": {
    "papermill": {
     "duration": 0.026687,
     "end_time": "2021-01-12T07:33:16.378698",
     "exception": false,
     "start_time": "2021-01-12T07:33:16.352011",
     "status": "completed"
    },
    "tags": []
   },
   "source": [
    "# Clustering"
   ]
  },
  {
   "cell_type": "markdown",
   "metadata": {
    "papermill": {
     "duration": 0.026371,
     "end_time": "2021-01-12T07:33:16.432192",
     "exception": false,
     "start_time": "2021-01-12T07:33:16.405821",
     "status": "completed"
    },
    "tags": []
   },
   "source": [
    "## Generate ensemble"
   ]
  },
  {
   "cell_type": "code",
   "execution_count": 22,
   "metadata": {
    "execution": {
     "iopub.execute_input": "2021-01-12T07:33:16.487301Z",
     "iopub.status.busy": "2021-01-12T07:33:16.486934Z",
     "iopub.status.idle": "2021-01-12T07:33:16.500242Z",
     "shell.execute_reply": "2021-01-12T07:33:16.499916Z"
    },
    "papermill": {
     "duration": 0.041966,
     "end_time": "2021-01-12T07:33:16.500330",
     "exception": false,
     "start_time": "2021-01-12T07:33:16.458364",
     "status": "completed"
    },
    "tags": []
   },
   "outputs": [],
   "source": [
    "from clustering.ensembles.utils import generate_ensemble"
   ]
  },
  {
   "cell_type": "code",
   "execution_count": 23,
   "metadata": {
    "execution": {
     "iopub.execute_input": "2021-01-12T07:33:16.555817Z",
     "iopub.status.busy": "2021-01-12T07:33:16.555453Z",
     "iopub.status.idle": "2021-01-12T07:51:32.512884Z",
     "shell.execute_reply": "2021-01-12T07:51:32.512036Z"
    },
    "papermill": {
     "duration": 1095.985807,
     "end_time": "2021-01-12T07:51:32.512974",
     "exception": false,
     "start_time": "2021-01-12T07:33:16.527167",
     "status": "completed"
    },
    "tags": []
   },
   "outputs": [
    {
     "name": "stderr",
     "output_type": "stream",
     "text": [
      "100%|██████████| 295/295 [18:15<00:00,  3.71s/it]\n"
     ]
    }
   ],
   "source": [
    "ensemble = generate_ensemble(\n",
    "    data,\n",
    "    CLUSTERERS,\n",
    "    attributes=CLUSTERING_ATTRIBUTES_TO_SAVE,\n",
    ")"
   ]
  },
  {
   "cell_type": "code",
   "execution_count": 24,
   "metadata": {
    "execution": {
     "iopub.execute_input": "2021-01-12T07:51:32.663965Z",
     "iopub.status.busy": "2021-01-12T07:51:32.663599Z",
     "iopub.status.idle": "2021-01-12T07:51:32.676004Z",
     "shell.execute_reply": "2021-01-12T07:51:32.675608Z"
    },
    "papermill": {
     "duration": 0.087978,
     "end_time": "2021-01-12T07:51:32.676090",
     "exception": false,
     "start_time": "2021-01-12T07:51:32.588112",
     "status": "completed"
    },
    "tags": []
   },
   "outputs": [
    {
     "data": {
      "text/plain": [
       "(295, 3)"
      ]
     },
     "execution_count": 24,
     "metadata": {},
     "output_type": "execute_result"
    }
   ],
   "source": [
    "# the number should be close to 295 (the number of partitions generated by k-means/spectral clustering)\n",
    "ensemble.shape"
   ]
  },
  {
   "cell_type": "code",
   "execution_count": 25,
   "metadata": {
    "execution": {
     "iopub.execute_input": "2021-01-12T07:51:32.825509Z",
     "iopub.status.busy": "2021-01-12T07:51:32.825133Z",
     "iopub.status.idle": "2021-01-12T07:51:32.843887Z",
     "shell.execute_reply": "2021-01-12T07:51:32.843508Z"
    },
    "papermill": {
     "duration": 0.094746,
     "end_time": "2021-01-12T07:51:32.843976",
     "exception": false,
     "start_time": "2021-01-12T07:51:32.749230",
     "status": "completed"
    },
    "tags": []
   },
   "outputs": [
    {
     "data": {
      "text/html": [
       "<div>\n",
       "<style scoped>\n",
       "    .dataframe tbody tr th:only-of-type {\n",
       "        vertical-align: middle;\n",
       "    }\n",
       "\n",
       "    .dataframe tbody tr th {\n",
       "        vertical-align: top;\n",
       "    }\n",
       "\n",
       "    .dataframe thead th {\n",
       "        text-align: right;\n",
       "    }\n",
       "</style>\n",
       "<table border=\"1\" class=\"dataframe\">\n",
       "  <thead>\n",
       "    <tr style=\"text-align: right;\">\n",
       "      <th></th>\n",
       "      <th>clusterer_params</th>\n",
       "      <th>partition</th>\n",
       "      <th>n_clusters</th>\n",
       "    </tr>\n",
       "    <tr>\n",
       "      <th>clusterer_id</th>\n",
       "      <th></th>\n",
       "      <th></th>\n",
       "      <th></th>\n",
       "    </tr>\n",
       "  </thead>\n",
       "  <tbody>\n",
       "    <tr>\n",
       "      <th>SpectralClustering #0</th>\n",
       "      <td>{'affinity': 'rbf', 'assign_labels': 'kmeans',...</td>\n",
       "      <td>[0.0, 0.0, 0.0, 0.0, 0.0, 0.0, 0.0, 0.0, 0.0, ...</td>\n",
       "      <td>2</td>\n",
       "    </tr>\n",
       "    <tr>\n",
       "      <th>SpectralClustering #1</th>\n",
       "      <td>{'affinity': 'rbf', 'assign_labels': 'kmeans',...</td>\n",
       "      <td>[0.0, 0.0, 0.0, 0.0, 0.0, 0.0, 0.0, 0.0, 0.0, ...</td>\n",
       "      <td>2</td>\n",
       "    </tr>\n",
       "    <tr>\n",
       "      <th>SpectralClustering #2</th>\n",
       "      <td>{'affinity': 'rbf', 'assign_labels': 'kmeans',...</td>\n",
       "      <td>[0.0, 0.0, 0.0, 0.0, 0.0, 0.0, 0.0, 0.0, 0.0, ...</td>\n",
       "      <td>2</td>\n",
       "    </tr>\n",
       "    <tr>\n",
       "      <th>SpectralClustering #3</th>\n",
       "      <td>{'affinity': 'rbf', 'assign_labels': 'kmeans',...</td>\n",
       "      <td>[0.0, 0.0, 0.0, 0.0, 0.0, 0.0, 0.0, 0.0, 0.0, ...</td>\n",
       "      <td>2</td>\n",
       "    </tr>\n",
       "    <tr>\n",
       "      <th>SpectralClustering #4</th>\n",
       "      <td>{'affinity': 'rbf', 'assign_labels': 'kmeans',...</td>\n",
       "      <td>[0.0, 0.0, 0.0, 0.0, 0.0, 0.0, 0.0, 0.0, 0.0, ...</td>\n",
       "      <td>2</td>\n",
       "    </tr>\n",
       "  </tbody>\n",
       "</table>\n",
       "</div>"
      ],
      "text/plain": [
       "                                                        clusterer_params  \\\n",
       "clusterer_id                                                               \n",
       "SpectralClustering #0  {'affinity': 'rbf', 'assign_labels': 'kmeans',...   \n",
       "SpectralClustering #1  {'affinity': 'rbf', 'assign_labels': 'kmeans',...   \n",
       "SpectralClustering #2  {'affinity': 'rbf', 'assign_labels': 'kmeans',...   \n",
       "SpectralClustering #3  {'affinity': 'rbf', 'assign_labels': 'kmeans',...   \n",
       "SpectralClustering #4  {'affinity': 'rbf', 'assign_labels': 'kmeans',...   \n",
       "\n",
       "                                                               partition  \\\n",
       "clusterer_id                                                               \n",
       "SpectralClustering #0  [0.0, 0.0, 0.0, 0.0, 0.0, 0.0, 0.0, 0.0, 0.0, ...   \n",
       "SpectralClustering #1  [0.0, 0.0, 0.0, 0.0, 0.0, 0.0, 0.0, 0.0, 0.0, ...   \n",
       "SpectralClustering #2  [0.0, 0.0, 0.0, 0.0, 0.0, 0.0, 0.0, 0.0, 0.0, ...   \n",
       "SpectralClustering #3  [0.0, 0.0, 0.0, 0.0, 0.0, 0.0, 0.0, 0.0, 0.0, ...   \n",
       "SpectralClustering #4  [0.0, 0.0, 0.0, 0.0, 0.0, 0.0, 0.0, 0.0, 0.0, ...   \n",
       "\n",
       "                       n_clusters  \n",
       "clusterer_id                       \n",
       "SpectralClustering #0           2  \n",
       "SpectralClustering #1           2  \n",
       "SpectralClustering #2           2  \n",
       "SpectralClustering #3           2  \n",
       "SpectralClustering #4           2  "
      ]
     },
     "execution_count": 25,
     "metadata": {},
     "output_type": "execute_result"
    }
   ],
   "source": [
    "ensemble.head()"
   ]
  },
  {
   "cell_type": "code",
   "execution_count": 26,
   "metadata": {
    "execution": {
     "iopub.execute_input": "2021-01-12T07:51:32.993814Z",
     "iopub.status.busy": "2021-01-12T07:51:32.993444Z",
     "iopub.status.idle": "2021-01-12T07:51:33.006215Z",
     "shell.execute_reply": "2021-01-12T07:51:33.005834Z"
    },
    "papermill": {
     "duration": 0.088479,
     "end_time": "2021-01-12T07:51:33.006303",
     "exception": false,
     "start_time": "2021-01-12T07:51:32.917824",
     "status": "completed"
    },
    "tags": []
   },
   "outputs": [
    {
     "data": {
      "text/plain": [
       "60    5\n",
       "16    5\n",
       "28    5\n",
       "27    5\n",
       "26    5\n",
       "Name: n_clusters, dtype: int64"
      ]
     },
     "execution_count": 26,
     "metadata": {},
     "output_type": "execute_result"
    }
   ],
   "source": [
    "ensemble[\"n_clusters\"].value_counts().head()"
   ]
  },
  {
   "cell_type": "code",
   "execution_count": 27,
   "metadata": {
    "execution": {
     "iopub.execute_input": "2021-01-12T07:51:33.156320Z",
     "iopub.status.busy": "2021-01-12T07:51:33.155942Z",
     "iopub.status.idle": "2021-01-12T07:51:33.169227Z",
     "shell.execute_reply": "2021-01-12T07:51:33.169527Z"
    },
    "papermill": {
     "duration": 0.089849,
     "end_time": "2021-01-12T07:51:33.169635",
     "exception": false,
     "start_time": "2021-01-12T07:51:33.079786",
     "status": "completed"
    },
    "tags": []
   },
   "outputs": [
    {
     "data": {
      "text/plain": [
       "count    295.000000\n",
       "mean      31.000000\n",
       "std       17.058323\n",
       "min        2.000000\n",
       "25%       16.000000\n",
       "50%       31.000000\n",
       "75%       46.000000\n",
       "max       60.000000\n",
       "Name: n_clusters, dtype: float64"
      ]
     },
     "metadata": {},
     "output_type": "display_data"
    }
   ],
   "source": [
    "ensemble_stats = ensemble[\"n_clusters\"].describe()\n",
    "display(ensemble_stats)"
   ]
  },
  {
   "cell_type": "markdown",
   "metadata": {
    "papermill": {
     "duration": 0.072532,
     "end_time": "2021-01-12T07:51:33.316217",
     "exception": false,
     "start_time": "2021-01-12T07:51:33.243685",
     "status": "completed"
    },
    "tags": []
   },
   "source": [
    "## Testing"
   ]
  },
  {
   "cell_type": "code",
   "execution_count": 28,
   "metadata": {
    "execution": {
     "iopub.execute_input": "2021-01-12T07:51:33.465638Z",
     "iopub.status.busy": "2021-01-12T07:51:33.465259Z",
     "iopub.status.idle": "2021-01-12T07:51:33.476222Z",
     "shell.execute_reply": "2021-01-12T07:51:33.475838Z"
    },
    "papermill": {
     "duration": 0.087033,
     "end_time": "2021-01-12T07:51:33.476310",
     "exception": false,
     "start_time": "2021-01-12T07:51:33.389277",
     "status": "completed"
    },
    "tags": []
   },
   "outputs": [],
   "source": [
    "assert ensemble_stats[\"min\"] > 1"
   ]
  },
  {
   "cell_type": "code",
   "execution_count": 29,
   "metadata": {
    "execution": {
     "iopub.execute_input": "2021-01-12T07:51:33.627947Z",
     "iopub.status.busy": "2021-01-12T07:51:33.627581Z",
     "iopub.status.idle": "2021-01-12T07:51:33.637920Z",
     "shell.execute_reply": "2021-01-12T07:51:33.638197Z"
    },
    "papermill": {
     "duration": 0.087893,
     "end_time": "2021-01-12T07:51:33.638307",
     "exception": false,
     "start_time": "2021-01-12T07:51:33.550414",
     "status": "completed"
    },
    "tags": []
   },
   "outputs": [],
   "source": [
    "assert not ensemble[\"n_clusters\"].isna().any()"
   ]
  },
  {
   "cell_type": "code",
   "execution_count": 30,
   "metadata": {
    "execution": {
     "iopub.execute_input": "2021-01-12T07:51:33.788001Z",
     "iopub.status.busy": "2021-01-12T07:51:33.787637Z",
     "iopub.status.idle": "2021-01-12T07:51:33.798188Z",
     "shell.execute_reply": "2021-01-12T07:51:33.797860Z"
    },
    "papermill": {
     "duration": 0.085958,
     "end_time": "2021-01-12T07:51:33.798276",
     "exception": false,
     "start_time": "2021-01-12T07:51:33.712318",
     "status": "completed"
    },
    "tags": []
   },
   "outputs": [],
   "source": [
    "assert ensemble.shape[0] == len(CLUSTERERS)"
   ]
  },
  {
   "cell_type": "code",
   "execution_count": 31,
   "metadata": {
    "execution": {
     "iopub.execute_input": "2021-01-12T07:51:33.949882Z",
     "iopub.status.busy": "2021-01-12T07:51:33.949510Z",
     "iopub.status.idle": "2021-01-12T07:51:33.977285Z",
     "shell.execute_reply": "2021-01-12T07:51:33.976908Z"
    },
    "papermill": {
     "duration": 0.103845,
     "end_time": "2021-01-12T07:51:33.977372",
     "exception": false,
     "start_time": "2021-01-12T07:51:33.873527",
     "status": "completed"
    },
    "tags": []
   },
   "outputs": [],
   "source": [
    "# all partitions have the right size\n",
    "assert np.all(\n",
    "    [part[\"partition\"].shape[0] == data.shape[0] for idx, part in ensemble.iterrows()]\n",
    ")"
   ]
  },
  {
   "cell_type": "code",
   "execution_count": 32,
   "metadata": {
    "execution": {
     "iopub.execute_input": "2021-01-12T07:51:34.126657Z",
     "iopub.status.busy": "2021-01-12T07:51:34.126281Z",
     "iopub.status.idle": "2021-01-12T07:51:34.156957Z",
     "shell.execute_reply": "2021-01-12T07:51:34.157237Z"
    },
    "papermill": {
     "duration": 0.106507,
     "end_time": "2021-01-12T07:51:34.157346",
     "exception": false,
     "start_time": "2021-01-12T07:51:34.050839",
     "status": "completed"
    },
    "tags": []
   },
   "outputs": [],
   "source": [
    "# no partition has negative clusters (noisy points)\n",
    "assert not np.any([(part[\"partition\"] < 0).any() for idx, part in ensemble.iterrows()])"
   ]
  },
  {
   "cell_type": "markdown",
   "metadata": {
    "papermill": {
     "duration": 0.0736,
     "end_time": "2021-01-12T07:51:34.305261",
     "exception": false,
     "start_time": "2021-01-12T07:51:34.231661",
     "status": "completed"
    },
    "tags": []
   },
   "source": [
    "## Add clustering quality measures"
   ]
  },
  {
   "cell_type": "code",
   "execution_count": 33,
   "metadata": {
    "execution": {
     "iopub.execute_input": "2021-01-12T07:51:34.455909Z",
     "iopub.status.busy": "2021-01-12T07:51:34.455545Z",
     "iopub.status.idle": "2021-01-12T07:51:34.466078Z",
     "shell.execute_reply": "2021-01-12T07:51:34.465702Z"
    },
    "papermill": {
     "duration": 0.086722,
     "end_time": "2021-01-12T07:51:34.466167",
     "exception": false,
     "start_time": "2021-01-12T07:51:34.379445",
     "status": "completed"
    },
    "tags": []
   },
   "outputs": [],
   "source": [
    "from sklearn.metrics import calinski_harabasz_score"
   ]
  },
  {
   "cell_type": "code",
   "execution_count": 34,
   "metadata": {
    "execution": {
     "iopub.execute_input": "2021-01-12T07:51:34.617433Z",
     "iopub.status.busy": "2021-01-12T07:51:34.617057Z",
     "iopub.status.idle": "2021-01-12T07:51:35.603529Z",
     "shell.execute_reply": "2021-01-12T07:51:35.603175Z"
    },
    "papermill": {
     "duration": 1.063473,
     "end_time": "2021-01-12T07:51:35.603617",
     "exception": false,
     "start_time": "2021-01-12T07:51:34.540144",
     "status": "completed"
    },
    "tags": []
   },
   "outputs": [],
   "source": [
    "ensemble = ensemble.assign(\n",
    "    ch_score=ensemble[\"partition\"].apply(lambda x: calinski_harabasz_score(data, x))\n",
    ")"
   ]
  },
  {
   "cell_type": "code",
   "execution_count": 35,
   "metadata": {
    "execution": {
     "iopub.execute_input": "2021-01-12T07:51:35.757411Z",
     "iopub.status.busy": "2021-01-12T07:51:35.757047Z",
     "iopub.status.idle": "2021-01-12T07:51:35.768405Z",
     "shell.execute_reply": "2021-01-12T07:51:35.768039Z"
    },
    "papermill": {
     "duration": 0.089688,
     "end_time": "2021-01-12T07:51:35.768490",
     "exception": false,
     "start_time": "2021-01-12T07:51:35.678802",
     "status": "completed"
    },
    "tags": []
   },
   "outputs": [
    {
     "data": {
      "text/plain": [
       "(295, 4)"
      ]
     },
     "execution_count": 35,
     "metadata": {},
     "output_type": "execute_result"
    }
   ],
   "source": [
    "ensemble.shape"
   ]
  },
  {
   "cell_type": "code",
   "execution_count": 36,
   "metadata": {
    "execution": {
     "iopub.execute_input": "2021-01-12T07:51:35.921668Z",
     "iopub.status.busy": "2021-01-12T07:51:35.921295Z",
     "iopub.status.idle": "2021-01-12T07:51:35.940608Z",
     "shell.execute_reply": "2021-01-12T07:51:35.940279Z"
    },
    "papermill": {
     "duration": 0.096721,
     "end_time": "2021-01-12T07:51:35.940716",
     "exception": false,
     "start_time": "2021-01-12T07:51:35.843995",
     "status": "completed"
    },
    "tags": []
   },
   "outputs": [
    {
     "data": {
      "text/html": [
       "<div>\n",
       "<style scoped>\n",
       "    .dataframe tbody tr th:only-of-type {\n",
       "        vertical-align: middle;\n",
       "    }\n",
       "\n",
       "    .dataframe tbody tr th {\n",
       "        vertical-align: top;\n",
       "    }\n",
       "\n",
       "    .dataframe thead th {\n",
       "        text-align: right;\n",
       "    }\n",
       "</style>\n",
       "<table border=\"1\" class=\"dataframe\">\n",
       "  <thead>\n",
       "    <tr style=\"text-align: right;\">\n",
       "      <th></th>\n",
       "      <th>clusterer_params</th>\n",
       "      <th>partition</th>\n",
       "      <th>n_clusters</th>\n",
       "      <th>ch_score</th>\n",
       "    </tr>\n",
       "    <tr>\n",
       "      <th>clusterer_id</th>\n",
       "      <th></th>\n",
       "      <th></th>\n",
       "      <th></th>\n",
       "      <th></th>\n",
       "    </tr>\n",
       "  </thead>\n",
       "  <tbody>\n",
       "    <tr>\n",
       "      <th>SpectralClustering #0</th>\n",
       "      <td>{'affinity': 'rbf', 'assign_labels': 'kmeans',...</td>\n",
       "      <td>[0.0, 0.0, 0.0, 0.0, 0.0, 0.0, 0.0, 0.0, 0.0, ...</td>\n",
       "      <td>2</td>\n",
       "      <td>920.96025</td>\n",
       "    </tr>\n",
       "    <tr>\n",
       "      <th>SpectralClustering #1</th>\n",
       "      <td>{'affinity': 'rbf', 'assign_labels': 'kmeans',...</td>\n",
       "      <td>[0.0, 0.0, 0.0, 0.0, 0.0, 0.0, 0.0, 0.0, 0.0, ...</td>\n",
       "      <td>2</td>\n",
       "      <td>920.96025</td>\n",
       "    </tr>\n",
       "    <tr>\n",
       "      <th>SpectralClustering #2</th>\n",
       "      <td>{'affinity': 'rbf', 'assign_labels': 'kmeans',...</td>\n",
       "      <td>[0.0, 0.0, 0.0, 0.0, 0.0, 0.0, 0.0, 0.0, 0.0, ...</td>\n",
       "      <td>2</td>\n",
       "      <td>920.96025</td>\n",
       "    </tr>\n",
       "    <tr>\n",
       "      <th>SpectralClustering #3</th>\n",
       "      <td>{'affinity': 'rbf', 'assign_labels': 'kmeans',...</td>\n",
       "      <td>[0.0, 0.0, 0.0, 0.0, 0.0, 0.0, 0.0, 0.0, 0.0, ...</td>\n",
       "      <td>2</td>\n",
       "      <td>920.96025</td>\n",
       "    </tr>\n",
       "    <tr>\n",
       "      <th>SpectralClustering #4</th>\n",
       "      <td>{'affinity': 'rbf', 'assign_labels': 'kmeans',...</td>\n",
       "      <td>[0.0, 0.0, 0.0, 0.0, 0.0, 0.0, 0.0, 0.0, 0.0, ...</td>\n",
       "      <td>2</td>\n",
       "      <td>920.96025</td>\n",
       "    </tr>\n",
       "  </tbody>\n",
       "</table>\n",
       "</div>"
      ],
      "text/plain": [
       "                                                        clusterer_params  \\\n",
       "clusterer_id                                                               \n",
       "SpectralClustering #0  {'affinity': 'rbf', 'assign_labels': 'kmeans',...   \n",
       "SpectralClustering #1  {'affinity': 'rbf', 'assign_labels': 'kmeans',...   \n",
       "SpectralClustering #2  {'affinity': 'rbf', 'assign_labels': 'kmeans',...   \n",
       "SpectralClustering #3  {'affinity': 'rbf', 'assign_labels': 'kmeans',...   \n",
       "SpectralClustering #4  {'affinity': 'rbf', 'assign_labels': 'kmeans',...   \n",
       "\n",
       "                                                               partition  \\\n",
       "clusterer_id                                                               \n",
       "SpectralClustering #0  [0.0, 0.0, 0.0, 0.0, 0.0, 0.0, 0.0, 0.0, 0.0, ...   \n",
       "SpectralClustering #1  [0.0, 0.0, 0.0, 0.0, 0.0, 0.0, 0.0, 0.0, 0.0, ...   \n",
       "SpectralClustering #2  [0.0, 0.0, 0.0, 0.0, 0.0, 0.0, 0.0, 0.0, 0.0, ...   \n",
       "SpectralClustering #3  [0.0, 0.0, 0.0, 0.0, 0.0, 0.0, 0.0, 0.0, 0.0, ...   \n",
       "SpectralClustering #4  [0.0, 0.0, 0.0, 0.0, 0.0, 0.0, 0.0, 0.0, 0.0, ...   \n",
       "\n",
       "                       n_clusters   ch_score  \n",
       "clusterer_id                                  \n",
       "SpectralClustering #0           2  920.96025  \n",
       "SpectralClustering #1           2  920.96025  \n",
       "SpectralClustering #2           2  920.96025  \n",
       "SpectralClustering #3           2  920.96025  \n",
       "SpectralClustering #4           2  920.96025  "
      ]
     },
     "execution_count": 36,
     "metadata": {},
     "output_type": "execute_result"
    }
   ],
   "source": [
    "ensemble.head()"
   ]
  },
  {
   "cell_type": "markdown",
   "metadata": {
    "papermill": {
     "duration": 0.074398,
     "end_time": "2021-01-12T07:51:36.091429",
     "exception": false,
     "start_time": "2021-01-12T07:51:36.017031",
     "status": "completed"
    },
    "tags": []
   },
   "source": [
    "## Save"
   ]
  },
  {
   "cell_type": "code",
   "execution_count": 37,
   "metadata": {
    "execution": {
     "iopub.execute_input": "2021-01-12T07:51:36.243305Z",
     "iopub.status.busy": "2021-01-12T07:51:36.242932Z",
     "iopub.status.idle": "2021-01-12T07:51:36.254933Z",
     "shell.execute_reply": "2021-01-12T07:51:36.254551Z"
    },
    "papermill": {
     "duration": 0.088953,
     "end_time": "2021-01-12T07:51:36.255022",
     "exception": false,
     "start_time": "2021-01-12T07:51:36.166069",
     "status": "completed"
    },
    "tags": []
   },
   "outputs": [
    {
     "data": {
      "text/plain": [
       "PosixPath('/home/miltondp/projects/labs/greenelab/phenoplier/base3/results/clustering/runs/pca-z_score_std-projection-smultixcan-efo_partial-mashr-zscores/SpectralClustering-AFFINITY_rbf-GAMMA_1e_10-KMEANS_N_INIT_10-K_MAX_60-K_MIN_2-N_REPS_PER_K_5.pkl')"
      ]
     },
     "metadata": {},
     "output_type": "display_data"
    }
   ],
   "source": [
    "output_filename = Path(\n",
    "    RESULTS_DIR,\n",
    "    generate_result_set_name(\n",
    "        CLUSTERING_OPTIONS,\n",
    "        prefix=f\"{clustering_method_name}-\",\n",
    "        suffix=\".pkl\",\n",
    "    ),\n",
    ").resolve()\n",
    "display(output_filename)"
   ]
  },
  {
   "cell_type": "code",
   "execution_count": 38,
   "metadata": {
    "execution": {
     "iopub.execute_input": "2021-01-12T07:51:36.409974Z",
     "iopub.status.busy": "2021-01-12T07:51:36.409607Z",
     "iopub.status.idle": "2021-01-12T07:51:36.428610Z",
     "shell.execute_reply": "2021-01-12T07:51:36.428262Z"
    },
    "papermill": {
     "duration": 0.097164,
     "end_time": "2021-01-12T07:51:36.428707",
     "exception": false,
     "start_time": "2021-01-12T07:51:36.331543",
     "status": "completed"
    },
    "tags": []
   },
   "outputs": [],
   "source": [
    "ensemble.to_pickle(output_filename)"
   ]
  },
  {
   "cell_type": "markdown",
   "metadata": {
    "papermill": {
     "duration": 0.075713,
     "end_time": "2021-01-12T07:51:36.581706",
     "exception": false,
     "start_time": "2021-01-12T07:51:36.505993",
     "status": "completed"
    },
    "tags": []
   },
   "source": [
    "# Cluster quality"
   ]
  },
  {
   "cell_type": "code",
   "execution_count": 39,
   "metadata": {
    "execution": {
     "iopub.execute_input": "2021-01-12T07:51:36.734229Z",
     "iopub.status.busy": "2021-01-12T07:51:36.733862Z",
     "iopub.status.idle": "2021-01-12T07:51:36.750186Z",
     "shell.execute_reply": "2021-01-12T07:51:36.749806Z"
    },
    "papermill": {
     "duration": 0.093835,
     "end_time": "2021-01-12T07:51:36.750273",
     "exception": false,
     "start_time": "2021-01-12T07:51:36.656438",
     "status": "completed"
    },
    "tags": []
   },
   "outputs": [
    {
     "data": {
      "text/html": [
       "<div>\n",
       "<style scoped>\n",
       "    .dataframe tbody tr th:only-of-type {\n",
       "        vertical-align: middle;\n",
       "    }\n",
       "\n",
       "    .dataframe tbody tr th {\n",
       "        vertical-align: top;\n",
       "    }\n",
       "\n",
       "    .dataframe thead th {\n",
       "        text-align: right;\n",
       "    }\n",
       "</style>\n",
       "<table border=\"1\" class=\"dataframe\">\n",
       "  <thead>\n",
       "    <tr style=\"text-align: right;\">\n",
       "      <th></th>\n",
       "      <th>ch_score</th>\n",
       "    </tr>\n",
       "    <tr>\n",
       "      <th>n_clusters</th>\n",
       "      <th></th>\n",
       "    </tr>\n",
       "  </thead>\n",
       "  <tbody>\n",
       "    <tr>\n",
       "      <th>2</th>\n",
       "      <td>920.960250</td>\n",
       "    </tr>\n",
       "    <tr>\n",
       "      <th>3</th>\n",
       "      <td>604.789202</td>\n",
       "    </tr>\n",
       "    <tr>\n",
       "      <th>4</th>\n",
       "      <td>459.578265</td>\n",
       "    </tr>\n",
       "    <tr>\n",
       "      <th>5</th>\n",
       "      <td>396.946994</td>\n",
       "    </tr>\n",
       "    <tr>\n",
       "      <th>6</th>\n",
       "      <td>407.139155</td>\n",
       "    </tr>\n",
       "    <tr>\n",
       "      <th>7</th>\n",
       "      <td>371.662008</td>\n",
       "    </tr>\n",
       "    <tr>\n",
       "      <th>8</th>\n",
       "      <td>352.054703</td>\n",
       "    </tr>\n",
       "    <tr>\n",
       "      <th>9</th>\n",
       "      <td>325.067041</td>\n",
       "    </tr>\n",
       "    <tr>\n",
       "      <th>10</th>\n",
       "      <td>304.605720</td>\n",
       "    </tr>\n",
       "    <tr>\n",
       "      <th>11</th>\n",
       "      <td>295.541804</td>\n",
       "    </tr>\n",
       "    <tr>\n",
       "      <th>12</th>\n",
       "      <td>282.549234</td>\n",
       "    </tr>\n",
       "    <tr>\n",
       "      <th>13</th>\n",
       "      <td>271.852486</td>\n",
       "    </tr>\n",
       "    <tr>\n",
       "      <th>14</th>\n",
       "      <td>270.280013</td>\n",
       "    </tr>\n",
       "    <tr>\n",
       "      <th>15</th>\n",
       "      <td>257.463618</td>\n",
       "    </tr>\n",
       "    <tr>\n",
       "      <th>16</th>\n",
       "      <td>249.714857</td>\n",
       "    </tr>\n",
       "    <tr>\n",
       "      <th>17</th>\n",
       "      <td>247.625736</td>\n",
       "    </tr>\n",
       "    <tr>\n",
       "      <th>18</th>\n",
       "      <td>232.958659</td>\n",
       "    </tr>\n",
       "    <tr>\n",
       "      <th>19</th>\n",
       "      <td>237.173739</td>\n",
       "    </tr>\n",
       "    <tr>\n",
       "      <th>20</th>\n",
       "      <td>226.802461</td>\n",
       "    </tr>\n",
       "    <tr>\n",
       "      <th>21</th>\n",
       "      <td>222.567917</td>\n",
       "    </tr>\n",
       "    <tr>\n",
       "      <th>22</th>\n",
       "      <td>215.301463</td>\n",
       "    </tr>\n",
       "    <tr>\n",
       "      <th>23</th>\n",
       "      <td>206.847955</td>\n",
       "    </tr>\n",
       "    <tr>\n",
       "      <th>24</th>\n",
       "      <td>207.283149</td>\n",
       "    </tr>\n",
       "    <tr>\n",
       "      <th>25</th>\n",
       "      <td>201.354500</td>\n",
       "    </tr>\n",
       "    <tr>\n",
       "      <th>26</th>\n",
       "      <td>195.957501</td>\n",
       "    </tr>\n",
       "    <tr>\n",
       "      <th>27</th>\n",
       "      <td>188.492444</td>\n",
       "    </tr>\n",
       "    <tr>\n",
       "      <th>28</th>\n",
       "      <td>193.258862</td>\n",
       "    </tr>\n",
       "    <tr>\n",
       "      <th>29</th>\n",
       "      <td>183.730302</td>\n",
       "    </tr>\n",
       "    <tr>\n",
       "      <th>30</th>\n",
       "      <td>181.617702</td>\n",
       "    </tr>\n",
       "    <tr>\n",
       "      <th>31</th>\n",
       "      <td>179.663913</td>\n",
       "    </tr>\n",
       "    <tr>\n",
       "      <th>32</th>\n",
       "      <td>176.457303</td>\n",
       "    </tr>\n",
       "    <tr>\n",
       "      <th>33</th>\n",
       "      <td>172.499317</td>\n",
       "    </tr>\n",
       "    <tr>\n",
       "      <th>34</th>\n",
       "      <td>166.866086</td>\n",
       "    </tr>\n",
       "    <tr>\n",
       "      <th>35</th>\n",
       "      <td>167.657968</td>\n",
       "    </tr>\n",
       "    <tr>\n",
       "      <th>36</th>\n",
       "      <td>161.905160</td>\n",
       "    </tr>\n",
       "    <tr>\n",
       "      <th>37</th>\n",
       "      <td>161.325049</td>\n",
       "    </tr>\n",
       "    <tr>\n",
       "      <th>38</th>\n",
       "      <td>159.417256</td>\n",
       "    </tr>\n",
       "    <tr>\n",
       "      <th>39</th>\n",
       "      <td>155.449942</td>\n",
       "    </tr>\n",
       "    <tr>\n",
       "      <th>40</th>\n",
       "      <td>151.848131</td>\n",
       "    </tr>\n",
       "    <tr>\n",
       "      <th>41</th>\n",
       "      <td>150.775615</td>\n",
       "    </tr>\n",
       "    <tr>\n",
       "      <th>42</th>\n",
       "      <td>149.228143</td>\n",
       "    </tr>\n",
       "    <tr>\n",
       "      <th>43</th>\n",
       "      <td>146.015894</td>\n",
       "    </tr>\n",
       "    <tr>\n",
       "      <th>44</th>\n",
       "      <td>141.804670</td>\n",
       "    </tr>\n",
       "    <tr>\n",
       "      <th>45</th>\n",
       "      <td>142.059488</td>\n",
       "    </tr>\n",
       "    <tr>\n",
       "      <th>46</th>\n",
       "      <td>140.436193</td>\n",
       "    </tr>\n",
       "    <tr>\n",
       "      <th>47</th>\n",
       "      <td>137.984663</td>\n",
       "    </tr>\n",
       "    <tr>\n",
       "      <th>48</th>\n",
       "      <td>136.414162</td>\n",
       "    </tr>\n",
       "    <tr>\n",
       "      <th>49</th>\n",
       "      <td>134.184211</td>\n",
       "    </tr>\n",
       "    <tr>\n",
       "      <th>50</th>\n",
       "      <td>133.377222</td>\n",
       "    </tr>\n",
       "    <tr>\n",
       "      <th>51</th>\n",
       "      <td>132.718729</td>\n",
       "    </tr>\n",
       "    <tr>\n",
       "      <th>52</th>\n",
       "      <td>129.653855</td>\n",
       "    </tr>\n",
       "    <tr>\n",
       "      <th>53</th>\n",
       "      <td>127.102720</td>\n",
       "    </tr>\n",
       "    <tr>\n",
       "      <th>54</th>\n",
       "      <td>123.158570</td>\n",
       "    </tr>\n",
       "    <tr>\n",
       "      <th>55</th>\n",
       "      <td>122.259316</td>\n",
       "    </tr>\n",
       "    <tr>\n",
       "      <th>56</th>\n",
       "      <td>119.631773</td>\n",
       "    </tr>\n",
       "    <tr>\n",
       "      <th>57</th>\n",
       "      <td>118.399176</td>\n",
       "    </tr>\n",
       "    <tr>\n",
       "      <th>58</th>\n",
       "      <td>116.489179</td>\n",
       "    </tr>\n",
       "    <tr>\n",
       "      <th>59</th>\n",
       "      <td>112.629982</td>\n",
       "    </tr>\n",
       "    <tr>\n",
       "      <th>60</th>\n",
       "      <td>111.638735</td>\n",
       "    </tr>\n",
       "  </tbody>\n",
       "</table>\n",
       "</div>"
      ],
      "text/plain": [
       "              ch_score\n",
       "n_clusters            \n",
       "2           920.960250\n",
       "3           604.789202\n",
       "4           459.578265\n",
       "5           396.946994\n",
       "6           407.139155\n",
       "7           371.662008\n",
       "8           352.054703\n",
       "9           325.067041\n",
       "10          304.605720\n",
       "11          295.541804\n",
       "12          282.549234\n",
       "13          271.852486\n",
       "14          270.280013\n",
       "15          257.463618\n",
       "16          249.714857\n",
       "17          247.625736\n",
       "18          232.958659\n",
       "19          237.173739\n",
       "20          226.802461\n",
       "21          222.567917\n",
       "22          215.301463\n",
       "23          206.847955\n",
       "24          207.283149\n",
       "25          201.354500\n",
       "26          195.957501\n",
       "27          188.492444\n",
       "28          193.258862\n",
       "29          183.730302\n",
       "30          181.617702\n",
       "31          179.663913\n",
       "32          176.457303\n",
       "33          172.499317\n",
       "34          166.866086\n",
       "35          167.657968\n",
       "36          161.905160\n",
       "37          161.325049\n",
       "38          159.417256\n",
       "39          155.449942\n",
       "40          151.848131\n",
       "41          150.775615\n",
       "42          149.228143\n",
       "43          146.015894\n",
       "44          141.804670\n",
       "45          142.059488\n",
       "46          140.436193\n",
       "47          137.984663\n",
       "48          136.414162\n",
       "49          134.184211\n",
       "50          133.377222\n",
       "51          132.718729\n",
       "52          129.653855\n",
       "53          127.102720\n",
       "54          123.158570\n",
       "55          122.259316\n",
       "56          119.631773\n",
       "57          118.399176\n",
       "58          116.489179\n",
       "59          112.629982\n",
       "60          111.638735"
      ]
     },
     "metadata": {},
     "output_type": "display_data"
    }
   ],
   "source": [
    "with pd.option_context(\"display.max_rows\", None, \"display.max_columns\", None):\n",
    "    _df = ensemble.groupby([\"n_clusters\"]).mean()\n",
    "    display(_df)"
   ]
  },
  {
   "cell_type": "code",
   "execution_count": 40,
   "metadata": {
    "execution": {
     "iopub.execute_input": "2021-01-12T07:51:36.905621Z",
     "iopub.status.busy": "2021-01-12T07:51:36.905232Z",
     "iopub.status.idle": "2021-01-12T07:51:39.783141Z",
     "shell.execute_reply": "2021-01-12T07:51:39.782829Z"
    },
    "papermill": {
     "duration": 2.956476,
     "end_time": "2021-01-12T07:51:39.783232",
     "exception": false,
     "start_time": "2021-01-12T07:51:36.826756",
     "status": "completed"
    },
    "tags": []
   },
   "outputs": [
    {
     "data": {
      "image/png": "[encoded data removed]",
      "text/plain": [
       "<Figure size 1008x432 with 1 Axes>"
      ]
     },
     "metadata": {},
     "output_type": "display_data"
    }
   ],
   "source": [
    "with sns.plotting_context(\"talk\", font_scale=0.75), sns.axes_style(\n",
    "    \"whitegrid\", {\"grid.linestyle\": \"--\"}\n",
    "):\n",
    "    fig = plt.figure(figsize=(14, 6))\n",
    "    ax = sns.pointplot(data=ensemble, x=\"n_clusters\", y=\"ch_score\")\n",
    "    ax.set_ylabel(\"Calinski-Harabasz index\")\n",
    "    ax.set_xlabel(\"Number of clusters ($k$)\")\n",
    "    ax.set_xticklabels(ax.get_xticklabels(), rotation=45)\n",
    "    plt.grid(True)\n",
    "    plt.tight_layout()"
   ]
  },
  {
   "cell_type": "markdown",
   "metadata": {
    "papermill": {
     "duration": 0.076254,
     "end_time": "2021-01-12T07:51:39.936650",
     "exception": false,
     "start_time": "2021-01-12T07:51:39.860396",
     "status": "completed"
    },
    "tags": []
   },
   "source": [
    "# Stability"
   ]
  },
  {
   "cell_type": "markdown",
   "metadata": {
    "papermill": {
     "duration": 0.076827,
     "end_time": "2021-01-12T07:51:40.090481",
     "exception": false,
     "start_time": "2021-01-12T07:51:40.013654",
     "status": "completed"
    },
    "tags": []
   },
   "source": [
    "## Group ensemble by n_clusters"
   ]
  },
  {
   "cell_type": "code",
   "execution_count": 41,
   "metadata": {
    "execution": {
     "iopub.execute_input": "2021-01-12T07:51:40.246274Z",
     "iopub.status.busy": "2021-01-12T07:51:40.245901Z",
     "iopub.status.idle": "2021-01-12T07:51:40.270719Z",
     "shell.execute_reply": "2021-01-12T07:51:40.270330Z"
    },
    "papermill": {
     "duration": 0.104131,
     "end_time": "2021-01-12T07:51:40.270809",
     "exception": false,
     "start_time": "2021-01-12T07:51:40.166678",
     "status": "completed"
    },
    "tags": []
   },
   "outputs": [],
   "source": [
    "parts = ensemble.groupby(\"n_clusters\").apply(\n",
    "    lambda x: np.concatenate(x[\"partition\"].apply(lambda x: x.reshape(1, -1)), axis=0)\n",
    ")"
   ]
  },
  {
   "cell_type": "code",
   "execution_count": 42,
   "metadata": {
    "execution": {
     "iopub.execute_input": "2021-01-12T07:51:40.426810Z",
     "iopub.status.busy": "2021-01-12T07:51:40.426452Z",
     "iopub.status.idle": "2021-01-12T07:51:40.449347Z",
     "shell.execute_reply": "2021-01-12T07:51:40.448963Z"
    },
    "papermill": {
     "duration": 0.102433,
     "end_time": "2021-01-12T07:51:40.449436",
     "exception": false,
     "start_time": "2021-01-12T07:51:40.347003",
     "status": "completed"
    },
    "tags": []
   },
   "outputs": [
    {
     "data": {
      "text/plain": [
       "n_clusters\n",
       "2    [[0.0, 0.0, 0.0, 0.0, 0.0, 0.0, 0.0, 0.0, 0.0,...\n",
       "3    [[0.0, 0.0, 0.0, 0.0, 0.0, 0.0, 0.0, 0.0, 0.0,...\n",
       "4    [[3.0, 3.0, 3.0, 3.0, 3.0, 3.0, 3.0, 3.0, 3.0,...\n",
       "5    [[1.0, 1.0, 1.0, 1.0, 1.0, 1.0, 1.0, 1.0, 1.0,...\n",
       "6    [[0.0, 0.0, 0.0, 0.0, 0.0, 0.0, 0.0, 0.0, 0.0,...\n",
       "dtype: object"
      ]
     },
     "execution_count": 42,
     "metadata": {},
     "output_type": "execute_result"
    }
   ],
   "source": [
    "parts.head()"
   ]
  },
  {
   "cell_type": "code",
   "execution_count": 43,
   "metadata": {
    "execution": {
     "iopub.execute_input": "2021-01-12T07:51:40.607848Z",
     "iopub.status.busy": "2021-01-12T07:51:40.607481Z",
     "iopub.status.idle": "2021-01-12T07:51:40.618711Z",
     "shell.execute_reply": "2021-01-12T07:51:40.618351Z"
    },
    "papermill": {
     "duration": 0.09174,
     "end_time": "2021-01-12T07:51:40.618794",
     "exception": false,
     "start_time": "2021-01-12T07:51:40.527054",
     "status": "completed"
    },
    "tags": []
   },
   "outputs": [],
   "source": [
    "assert np.all(\n",
    "    [\n",
    "        parts.loc[k].shape == (CLUSTERING_OPTIONS[\"N_REPS_PER_K\"], data.shape[0])\n",
    "        for k in parts.index\n",
    "    ]\n",
    ")"
   ]
  },
  {
   "cell_type": "markdown",
   "metadata": {
    "papermill": {
     "duration": 0.07659,
     "end_time": "2021-01-12T07:51:40.772224",
     "exception": false,
     "start_time": "2021-01-12T07:51:40.695634",
     "status": "completed"
    },
    "tags": []
   },
   "source": [
    "## Compute stability"
   ]
  },
  {
   "cell_type": "code",
   "execution_count": 44,
   "metadata": {
    "execution": {
     "iopub.execute_input": "2021-01-12T07:51:40.929485Z",
     "iopub.status.busy": "2021-01-12T07:51:40.929118Z",
     "iopub.status.idle": "2021-01-12T07:51:40.940058Z",
     "shell.execute_reply": "2021-01-12T07:51:40.939713Z"
    },
    "papermill": {
     "duration": 0.090273,
     "end_time": "2021-01-12T07:51:40.940147",
     "exception": false,
     "start_time": "2021-01-12T07:51:40.849874",
     "status": "completed"
    },
    "tags": []
   },
   "outputs": [],
   "source": [
    "from sklearn.metrics import adjusted_rand_score as ari\n",
    "from scipy.spatial.distance import pdist"
   ]
  },
  {
   "cell_type": "code",
   "execution_count": 45,
   "metadata": {
    "execution": {
     "iopub.execute_input": "2021-01-12T07:51:41.097037Z",
     "iopub.status.busy": "2021-01-12T07:51:41.096603Z",
     "iopub.status.idle": "2021-01-12T07:51:41.772483Z",
     "shell.execute_reply": "2021-01-12T07:51:41.771964Z"
    },
    "papermill": {
     "duration": 0.755267,
     "end_time": "2021-01-12T07:51:41.772601",
     "exception": false,
     "start_time": "2021-01-12T07:51:41.017334",
     "status": "completed"
    },
    "tags": []
   },
   "outputs": [],
   "source": [
    "parts_ari = pd.Series(\n",
    "    {k: pdist(parts.loc[k], metric=ari) for k in parts.index}, name=\"k\"\n",
    ")"
   ]
  },
  {
   "cell_type": "code",
   "execution_count": 46,
   "metadata": {
    "execution": {
     "iopub.execute_input": "2021-01-12T07:51:41.941443Z",
     "iopub.status.busy": "2021-01-12T07:51:41.941062Z",
     "iopub.status.idle": "2021-01-12T07:51:41.953939Z",
     "shell.execute_reply": "2021-01-12T07:51:41.953561Z"
    },
    "papermill": {
     "duration": 0.092528,
     "end_time": "2021-01-12T07:51:41.954028",
     "exception": false,
     "start_time": "2021-01-12T07:51:41.861500",
     "status": "completed"
    },
    "tags": []
   },
   "outputs": [
    {
     "data": {
      "text/plain": [
       "2     1.000000\n",
       "6     1.000000\n",
       "7     1.000000\n",
       "9     1.000000\n",
       "3     1.000000\n",
       "8     0.999021\n",
       "5     0.997417\n",
       "4     0.996075\n",
       "10    0.995356\n",
       "11    0.982856\n",
       "12    0.978386\n",
       "13    0.966005\n",
       "14    0.923741\n",
       "15    0.681853\n",
       "19    0.561031\n",
       "Name: k, dtype: float64"
      ]
     },
     "metadata": {},
     "output_type": "display_data"
    }
   ],
   "source": [
    "parts_ari_stability = parts_ari.apply(lambda x: x.mean())\n",
    "display(parts_ari_stability.sort_values(ascending=False).head(15))"
   ]
  },
  {
   "cell_type": "code",
   "execution_count": 47,
   "metadata": {
    "execution": {
     "iopub.execute_input": "2021-01-12T07:51:42.113512Z",
     "iopub.status.busy": "2021-01-12T07:51:42.113144Z",
     "iopub.status.idle": "2021-01-12T07:51:42.124899Z",
     "shell.execute_reply": "2021-01-12T07:51:42.124484Z"
    },
    "papermill": {
     "duration": 0.093191,
     "end_time": "2021-01-12T07:51:42.124999",
     "exception": false,
     "start_time": "2021-01-12T07:51:42.031808",
     "status": "completed"
    },
    "tags": []
   },
   "outputs": [],
   "source": [
    "parts_ari_df = pd.DataFrame.from_records(parts_ari.tolist()).set_index(\n",
    "    parts_ari.index.copy()\n",
    ")"
   ]
  },
  {
   "cell_type": "code",
   "execution_count": 48,
   "metadata": {
    "execution": {
     "iopub.execute_input": "2021-01-12T07:51:42.284797Z",
     "iopub.status.busy": "2021-01-12T07:51:42.284327Z",
     "iopub.status.idle": "2021-01-12T07:51:42.296388Z",
     "shell.execute_reply": "2021-01-12T07:51:42.296012Z"
    },
    "papermill": {
     "duration": 0.092289,
     "end_time": "2021-01-12T07:51:42.296476",
     "exception": false,
     "start_time": "2021-01-12T07:51:42.204187",
     "status": "completed"
    },
    "tags": []
   },
   "outputs": [
    {
     "data": {
      "text/plain": [
       "(59, 10)"
      ]
     },
     "execution_count": 48,
     "metadata": {},
     "output_type": "execute_result"
    }
   ],
   "source": [
    "parts_ari_df.shape"
   ]
  },
  {
   "cell_type": "code",
   "execution_count": 49,
   "metadata": {
    "execution": {
     "iopub.execute_input": "2021-01-12T07:51:42.456275Z",
     "iopub.status.busy": "2021-01-12T07:51:42.455906Z",
     "iopub.status.idle": "2021-01-12T07:51:42.466820Z",
     "shell.execute_reply": "2021-01-12T07:51:42.466438Z"
    },
    "papermill": {
     "duration": 0.09222,
     "end_time": "2021-01-12T07:51:42.466908",
     "exception": false,
     "start_time": "2021-01-12T07:51:42.374688",
     "status": "completed"
    },
    "tags": []
   },
   "outputs": [],
   "source": [
    "assert (\n",
    "    int(\n",
    "        (CLUSTERING_OPTIONS[\"N_REPS_PER_K\"] * (CLUSTERING_OPTIONS[\"N_REPS_PER_K\"] - 1))\n",
    "        / 2\n",
    "    )\n",
    "    == parts_ari_df.shape[1]\n",
    ")"
   ]
  },
  {
   "cell_type": "code",
   "execution_count": 50,
   "metadata": {
    "execution": {
     "iopub.execute_input": "2021-01-12T07:51:42.627506Z",
     "iopub.status.busy": "2021-01-12T07:51:42.627139Z",
     "iopub.status.idle": "2021-01-12T07:51:42.644774Z",
     "shell.execute_reply": "2021-01-12T07:51:42.644362Z"
    },
    "papermill": {
     "duration": 0.099201,
     "end_time": "2021-01-12T07:51:42.644862",
     "exception": false,
     "start_time": "2021-01-12T07:51:42.545661",
     "status": "completed"
    },
    "tags": []
   },
   "outputs": [
    {
     "data": {
      "text/html": [
       "<div>\n",
       "<style scoped>\n",
       "    .dataframe tbody tr th:only-of-type {\n",
       "        vertical-align: middle;\n",
       "    }\n",
       "\n",
       "    .dataframe tbody tr th {\n",
       "        vertical-align: top;\n",
       "    }\n",
       "\n",
       "    .dataframe thead th {\n",
       "        text-align: right;\n",
       "    }\n",
       "</style>\n",
       "<table border=\"1\" class=\"dataframe\">\n",
       "  <thead>\n",
       "    <tr style=\"text-align: right;\">\n",
       "      <th></th>\n",
       "      <th>0</th>\n",
       "      <th>1</th>\n",
       "      <th>2</th>\n",
       "      <th>3</th>\n",
       "      <th>4</th>\n",
       "      <th>5</th>\n",
       "      <th>6</th>\n",
       "      <th>7</th>\n",
       "      <th>8</th>\n",
       "      <th>9</th>\n",
       "    </tr>\n",
       "  </thead>\n",
       "  <tbody>\n",
       "    <tr>\n",
       "      <th>2</th>\n",
       "      <td>1.000000</td>\n",
       "      <td>1.000000</td>\n",
       "      <td>1.000000</td>\n",
       "      <td>1.000000</td>\n",
       "      <td>1.0</td>\n",
       "      <td>1.000000</td>\n",
       "      <td>1.0</td>\n",
       "      <td>1.000000</td>\n",
       "      <td>1.0</td>\n",
       "      <td>1.000000</td>\n",
       "    </tr>\n",
       "    <tr>\n",
       "      <th>3</th>\n",
       "      <td>1.000000</td>\n",
       "      <td>1.000000</td>\n",
       "      <td>1.000000</td>\n",
       "      <td>1.000000</td>\n",
       "      <td>1.0</td>\n",
       "      <td>1.000000</td>\n",
       "      <td>1.0</td>\n",
       "      <td>1.000000</td>\n",
       "      <td>1.0</td>\n",
       "      <td>1.000000</td>\n",
       "    </tr>\n",
       "    <tr>\n",
       "      <th>4</th>\n",
       "      <td>0.993459</td>\n",
       "      <td>0.993459</td>\n",
       "      <td>1.000000</td>\n",
       "      <td>0.993459</td>\n",
       "      <td>1.0</td>\n",
       "      <td>0.993459</td>\n",
       "      <td>1.0</td>\n",
       "      <td>0.993459</td>\n",
       "      <td>1.0</td>\n",
       "      <td>0.993459</td>\n",
       "    </tr>\n",
       "    <tr>\n",
       "      <th>5</th>\n",
       "      <td>1.000000</td>\n",
       "      <td>1.000000</td>\n",
       "      <td>0.993543</td>\n",
       "      <td>1.000000</td>\n",
       "      <td>1.0</td>\n",
       "      <td>0.993543</td>\n",
       "      <td>1.0</td>\n",
       "      <td>0.993543</td>\n",
       "      <td>1.0</td>\n",
       "      <td>0.993543</td>\n",
       "    </tr>\n",
       "    <tr>\n",
       "      <th>6</th>\n",
       "      <td>1.000000</td>\n",
       "      <td>1.000000</td>\n",
       "      <td>1.000000</td>\n",
       "      <td>1.000000</td>\n",
       "      <td>1.0</td>\n",
       "      <td>1.000000</td>\n",
       "      <td>1.0</td>\n",
       "      <td>1.000000</td>\n",
       "      <td>1.0</td>\n",
       "      <td>1.000000</td>\n",
       "    </tr>\n",
       "  </tbody>\n",
       "</table>\n",
       "</div>"
      ],
      "text/plain": [
       "          0         1         2         3    4         5    6         7    8  \\\n",
       "2  1.000000  1.000000  1.000000  1.000000  1.0  1.000000  1.0  1.000000  1.0   \n",
       "3  1.000000  1.000000  1.000000  1.000000  1.0  1.000000  1.0  1.000000  1.0   \n",
       "4  0.993459  0.993459  1.000000  0.993459  1.0  0.993459  1.0  0.993459  1.0   \n",
       "5  1.000000  1.000000  0.993543  1.000000  1.0  0.993543  1.0  0.993543  1.0   \n",
       "6  1.000000  1.000000  1.000000  1.000000  1.0  1.000000  1.0  1.000000  1.0   \n",
       "\n",
       "          9  \n",
       "2  1.000000  \n",
       "3  1.000000  \n",
       "4  0.993459  \n",
       "5  0.993543  \n",
       "6  1.000000  "
      ]
     },
     "execution_count": 50,
     "metadata": {},
     "output_type": "execute_result"
    }
   ],
   "source": [
    "parts_ari_df.head()"
   ]
  },
  {
   "cell_type": "markdown",
   "metadata": {
    "papermill": {
     "duration": 0.077566,
     "end_time": "2021-01-12T07:51:42.801374",
     "exception": false,
     "start_time": "2021-01-12T07:51:42.723808",
     "status": "completed"
    },
    "tags": []
   },
   "source": [
    "## Save"
   ]
  },
  {
   "cell_type": "code",
   "execution_count": 51,
   "metadata": {
    "execution": {
     "iopub.execute_input": "2021-01-12T07:51:42.958974Z",
     "iopub.status.busy": "2021-01-12T07:51:42.958606Z",
     "iopub.status.idle": "2021-01-12T07:51:42.970429Z",
     "shell.execute_reply": "2021-01-12T07:51:42.970063Z"
    },
    "papermill": {
     "duration": 0.09153,
     "end_time": "2021-01-12T07:51:42.970514",
     "exception": false,
     "start_time": "2021-01-12T07:51:42.878984",
     "status": "completed"
    },
    "tags": []
   },
   "outputs": [
    {
     "data": {
      "text/plain": [
       "PosixPath('/home/miltondp/projects/labs/greenelab/phenoplier/base3/results/clustering/runs/pca-z_score_std-projection-smultixcan-efo_partial-mashr-zscores/SpectralClustering-stability-AFFINITY_rbf-GAMMA_1e_10-KMEANS_N_INIT_10-K_MAX_60-K_MIN_2-N_REPS_PER_K_5.pkl')"
      ]
     },
     "metadata": {},
     "output_type": "display_data"
    }
   ],
   "source": [
    "output_filename = Path(\n",
    "    RESULTS_DIR,\n",
    "    generate_result_set_name(\n",
    "        CLUSTERING_OPTIONS,\n",
    "        prefix=f\"{clustering_method_name}-stability-\",\n",
    "        suffix=\".pkl\",\n",
    "    ),\n",
    ").resolve()\n",
    "display(output_filename)"
   ]
  },
  {
   "cell_type": "code",
   "execution_count": 52,
   "metadata": {
    "execution": {
     "iopub.execute_input": "2021-01-12T07:51:43.153387Z",
     "iopub.status.busy": "2021-01-12T07:51:43.152950Z",
     "iopub.status.idle": "2021-01-12T07:51:43.163980Z",
     "shell.execute_reply": "2021-01-12T07:51:43.163596Z"
    },
    "papermill": {
     "duration": 0.095899,
     "end_time": "2021-01-12T07:51:43.164068",
     "exception": false,
     "start_time": "2021-01-12T07:51:43.068169",
     "status": "completed"
    },
    "tags": []
   },
   "outputs": [],
   "source": [
    "parts_ari_df.to_pickle(output_filename)"
   ]
  },
  {
   "cell_type": "markdown",
   "metadata": {
    "papermill": {
     "duration": 0.080029,
     "end_time": "2021-01-12T07:51:43.327202",
     "exception": false,
     "start_time": "2021-01-12T07:51:43.247173",
     "status": "completed"
    },
    "tags": []
   },
   "source": [
    "## Stability plot"
   ]
  },
  {
   "cell_type": "code",
   "execution_count": 53,
   "metadata": {
    "execution": {
     "iopub.execute_input": "2021-01-12T07:51:43.488802Z",
     "iopub.status.busy": "2021-01-12T07:51:43.488384Z",
     "iopub.status.idle": "2021-01-12T07:51:43.501131Z",
     "shell.execute_reply": "2021-01-12T07:51:43.500805Z"
    },
    "papermill": {
     "duration": 0.094685,
     "end_time": "2021-01-12T07:51:43.501219",
     "exception": false,
     "start_time": "2021-01-12T07:51:43.406534",
     "status": "completed"
    },
    "tags": []
   },
   "outputs": [],
   "source": [
    "parts_ari_df_plot = (\n",
    "    parts_ari_df.stack()\n",
    "    .reset_index()\n",
    "    .rename(columns={\"level_0\": \"k\", \"level_1\": \"idx\", 0: \"ari\"})\n",
    ")"
   ]
  },
  {
   "cell_type": "code",
   "execution_count": 54,
   "metadata": {
    "execution": {
     "iopub.execute_input": "2021-01-12T07:51:43.661756Z",
     "iopub.status.busy": "2021-01-12T07:51:43.661329Z",
     "iopub.status.idle": "2021-01-12T07:51:43.674188Z",
     "shell.execute_reply": "2021-01-12T07:51:43.673812Z"
    },
    "papermill": {
     "duration": 0.094636,
     "end_time": "2021-01-12T07:51:43.674277",
     "exception": false,
     "start_time": "2021-01-12T07:51:43.579641",
     "status": "completed"
    },
    "tags": []
   },
   "outputs": [
    {
     "data": {
      "text/plain": [
       "k        int64\n",
       "idx      int64\n",
       "ari    float64\n",
       "dtype: object"
      ]
     },
     "execution_count": 54,
     "metadata": {},
     "output_type": "execute_result"
    }
   ],
   "source": [
    "parts_ari_df_plot.dtypes"
   ]
  },
  {
   "cell_type": "code",
   "execution_count": 55,
   "metadata": {
    "execution": {
     "iopub.execute_input": "2021-01-12T07:51:43.834483Z",
     "iopub.status.busy": "2021-01-12T07:51:43.834110Z",
     "iopub.status.idle": "2021-01-12T07:51:43.848525Z",
     "shell.execute_reply": "2021-01-12T07:51:43.848150Z"
    },
    "papermill": {
     "duration": 0.09478,
     "end_time": "2021-01-12T07:51:43.848612",
     "exception": false,
     "start_time": "2021-01-12T07:51:43.753832",
     "status": "completed"
    },
    "tags": []
   },
   "outputs": [
    {
     "data": {
      "text/html": [
       "<div>\n",
       "<style scoped>\n",
       "    .dataframe tbody tr th:only-of-type {\n",
       "        vertical-align: middle;\n",
       "    }\n",
       "\n",
       "    .dataframe tbody tr th {\n",
       "        vertical-align: top;\n",
       "    }\n",
       "\n",
       "    .dataframe thead th {\n",
       "        text-align: right;\n",
       "    }\n",
       "</style>\n",
       "<table border=\"1\" class=\"dataframe\">\n",
       "  <thead>\n",
       "    <tr style=\"text-align: right;\">\n",
       "      <th></th>\n",
       "      <th>k</th>\n",
       "      <th>idx</th>\n",
       "      <th>ari</th>\n",
       "    </tr>\n",
       "  </thead>\n",
       "  <tbody>\n",
       "    <tr>\n",
       "      <th>0</th>\n",
       "      <td>2</td>\n",
       "      <td>0</td>\n",
       "      <td>1.0</td>\n",
       "    </tr>\n",
       "    <tr>\n",
       "      <th>1</th>\n",
       "      <td>2</td>\n",
       "      <td>1</td>\n",
       "      <td>1.0</td>\n",
       "    </tr>\n",
       "    <tr>\n",
       "      <th>2</th>\n",
       "      <td>2</td>\n",
       "      <td>2</td>\n",
       "      <td>1.0</td>\n",
       "    </tr>\n",
       "    <tr>\n",
       "      <th>3</th>\n",
       "      <td>2</td>\n",
       "      <td>3</td>\n",
       "      <td>1.0</td>\n",
       "    </tr>\n",
       "    <tr>\n",
       "      <th>4</th>\n",
       "      <td>2</td>\n",
       "      <td>4</td>\n",
       "      <td>1.0</td>\n",
       "    </tr>\n",
       "  </tbody>\n",
       "</table>\n",
       "</div>"
      ],
      "text/plain": [
       "   k  idx  ari\n",
       "0  2    0  1.0\n",
       "1  2    1  1.0\n",
       "2  2    2  1.0\n",
       "3  2    3  1.0\n",
       "4  2    4  1.0"
      ]
     },
     "execution_count": 55,
     "metadata": {},
     "output_type": "execute_result"
    }
   ],
   "source": [
    "parts_ari_df_plot.head()"
   ]
  },
  {
   "cell_type": "code",
   "execution_count": 56,
   "metadata": {
    "execution": {
     "iopub.execute_input": "2021-01-12T07:51:44.012965Z",
     "iopub.status.busy": "2021-01-12T07:51:44.012540Z",
     "iopub.status.idle": "2021-01-12T07:51:46.596527Z",
     "shell.execute_reply": "2021-01-12T07:51:46.596140Z"
    },
    "papermill": {
     "duration": 2.667134,
     "end_time": "2021-01-12T07:51:46.596617",
     "exception": false,
     "start_time": "2021-01-12T07:51:43.929483",
     "status": "completed"
    },
    "tags": []
   },
   "outputs": [
    {
     "data": {
      "image/png": "[encoded data removed]",
      "text/plain": [
       "<Figure size 1008x432 with 1 Axes>"
      ]
     },
     "metadata": {},
     "output_type": "display_data"
    }
   ],
   "source": [
    "# with sns.axes_style('whitegrid', {'grid.linestyle': '--'}):\n",
    "with sns.plotting_context(\"talk\", font_scale=0.75), sns.axes_style(\n",
    "    \"whitegrid\", {\"grid.linestyle\": \"--\"}\n",
    "):\n",
    "    fig = plt.figure(figsize=(14, 6))\n",
    "    ax = sns.pointplot(data=parts_ari_df_plot, x=\"k\", y=\"ari\")\n",
    "    ax.set_ylabel(\"Averange ARI\")\n",
    "    ax.set_xlabel(\"Number of clusters ($k$)\")\n",
    "    ax.set_xticklabels(ax.get_xticklabels(), rotation=45)\n",
    "    #     ax.set_ylim(0.0, 1.0)\n",
    "    #     ax.set_xlim(CLUSTERING_OPTIONS['K_MIN'], CLUSTERING_OPTIONS['K_MAX'])\n",
    "    plt.grid(True)\n",
    "    plt.tight_layout()"
   ]
  },
  {
   "cell_type": "code",
   "execution_count": null,
   "metadata": {
    "papermill": {
     "duration": 0.079871,
     "end_time": "2021-01-12T07:51:46.918578",
     "exception": false,
     "start_time": "2021-01-12T07:51:46.838707",
     "status": "completed"
    },
    "tags": []
   },
   "outputs": [],
   "source": []
  }
 ],
 "metadata": {
  "jupytext": {
   "cell_metadata_filter": "all,-execution,-papermill",
   "formats": "ipynb,py//py:percent"
  },
  "kernelspec": {
   "display_name": "Python 3",
   "language": "python",
   "name": "python3"
  },
  "language_info": {
   "codemirror_mode": {
    "name": "ipython",
    "version": 3
   },
   "file_extension": ".py",
   "mimetype": "text/x-python",
   "name": "python",
   "nbconvert_exporter": "python",
   "pygments_lexer": "ipython3",
   "version": "3.8.6"
  },
  "papermill": {
   "default_parameters": {},
   "duration": 1114.283888,
   "end_time": "2021-01-12T07:51:47.405648",
   "environment_variables": {},
   "exception": null,
   "input_path": "15_cluster_analysis/001_01-spectral-pca.ipynb",
   "output_path": "15_cluster_analysis/001_01-spectral-pca.run.ipynb",
   "parameters": {},
   "start_time": "2021-01-12T07:33:13.121760",
   "version": "2.2.2"
  },
  "toc-autonumbering": true,
  "toc-showcode": false,
  "toc-showmarkdowntxt": false,
  "toc-showtags": false
 },
 "nbformat": 4,
 "nbformat_minor": 4
}
