{
 "cells": [
  {
   "cell_type": "markdown",
   "metadata": {
    "papermill": {
     "duration": 0.026281,
     "end_time": "2021-01-12T07:11:08.846559",
     "exception": false,
     "start_time": "2021-01-12T07:11:08.820278",
     "status": "completed"
    },
    "tags": []
   },
   "source": [
    "# Description"
   ]
  },
  {
   "cell_type": "markdown",
   "metadata": {
    "papermill": {
     "duration": 0.022182,
     "end_time": "2021-01-12T07:11:08.891342",
     "exception": false,
     "start_time": "2021-01-12T07:11:08.869160",
     "status": "completed"
    },
    "tags": []
   },
   "source": [
    "Runs k-means on the umap version of the data."
   ]
  },
  {
   "cell_type": "markdown",
   "metadata": {
    "papermill": {
     "duration": 0.022214,
     "end_time": "2021-01-12T07:11:08.936451",
     "exception": false,
     "start_time": "2021-01-12T07:11:08.914237",
     "status": "completed"
    },
    "tags": []
   },
   "source": [
    "# Environment variables"
   ]
  },
  {
   "cell_type": "code",
   "execution_count": 1,
   "metadata": {
    "execution": {
     "iopub.execute_input": "2021-01-12T07:11:08.984617Z",
     "iopub.status.busy": "2021-01-12T07:11:08.984230Z",
     "iopub.status.idle": "2021-01-12T07:11:08.994890Z",
     "shell.execute_reply": "2021-01-12T07:11:08.994466Z"
    },
    "papermill": {
     "duration": 0.036072,
     "end_time": "2021-01-12T07:11:08.995011",
     "exception": false,
     "start_time": "2021-01-12T07:11:08.958939",
     "status": "completed"
    },
    "tags": []
   },
   "outputs": [
    {
     "data": {
      "text/plain": [
       "3"
      ]
     },
     "metadata": {},
     "output_type": "display_data"
    }
   ],
   "source": [
    "from IPython.display import display\n",
    "\n",
    "import conf\n",
    "\n",
    "N_JOBS = conf.GENERAL[\"N_JOBS\"]\n",
    "display(N_JOBS)"
   ]
  },
  {
   "cell_type": "code",
   "execution_count": 2,
   "metadata": {
    "execution": {
     "iopub.execute_input": "2021-01-12T07:11:09.046158Z",
     "iopub.status.busy": "2021-01-12T07:11:09.045707Z",
     "iopub.status.idle": "2021-01-12T07:11:09.048037Z",
     "shell.execute_reply": "2021-01-12T07:11:09.047706Z"
    },
    "papermill": {
     "duration": 0.029594,
     "end_time": "2021-01-12T07:11:09.048126",
     "exception": false,
     "start_time": "2021-01-12T07:11:09.018532",
     "status": "completed"
    },
    "tags": []
   },
   "outputs": [
    {
     "name": "stdout",
     "output_type": "stream",
     "text": [
      "env: MKL_NUM_THREADS=3\n",
      "env: OPEN_BLAS_NUM_THREADS=3\n",
      "env: NUMEXPR_NUM_THREADS=3\n",
      "env: OMP_NUM_THREADS=3\n"
     ]
    }
   ],
   "source": [
    "%env MKL_NUM_THREADS=$N_JOBS\n",
    "%env OPEN_BLAS_NUM_THREADS=$N_JOBS\n",
    "%env NUMEXPR_NUM_THREADS=$N_JOBS\n",
    "%env OMP_NUM_THREADS=$N_JOBS"
   ]
  },
  {
   "cell_type": "markdown",
   "metadata": {
    "papermill": {
     "duration": 0.022808,
     "end_time": "2021-01-12T07:11:09.095231",
     "exception": false,
     "start_time": "2021-01-12T07:11:09.072423",
     "status": "completed"
    },
    "tags": []
   },
   "source": [
    "# Modules loading"
   ]
  },
  {
   "cell_type": "code",
   "execution_count": 3,
   "metadata": {
    "execution": {
     "iopub.execute_input": "2021-01-12T07:11:09.144698Z",
     "iopub.status.busy": "2021-01-12T07:11:09.144283Z",
     "iopub.status.idle": "2021-01-12T07:11:09.152307Z",
     "shell.execute_reply": "2021-01-12T07:11:09.151981Z"
    },
    "papermill": {
     "duration": 0.034261,
     "end_time": "2021-01-12T07:11:09.152395",
     "exception": false,
     "start_time": "2021-01-12T07:11:09.118134",
     "status": "completed"
    },
    "tags": []
   },
   "outputs": [],
   "source": [
    "%load_ext autoreload\n",
    "%autoreload 2"
   ]
  },
  {
   "cell_type": "code",
   "execution_count": 4,
   "metadata": {
    "execution": {
     "iopub.execute_input": "2021-01-12T07:11:09.202207Z",
     "iopub.status.busy": "2021-01-12T07:11:09.201842Z",
     "iopub.status.idle": "2021-01-12T07:11:09.765401Z",
     "shell.execute_reply": "2021-01-12T07:11:09.764937Z"
    },
    "papermill": {
     "duration": 0.589018,
     "end_time": "2021-01-12T07:11:09.765513",
     "exception": false,
     "start_time": "2021-01-12T07:11:09.176495",
     "status": "completed"
    },
    "tags": []
   },
   "outputs": [],
   "source": [
    "from pathlib import Path\n",
    "\n",
    "import numpy as np\n",
    "import pandas as pd\n",
    "import matplotlib.pyplot as plt\n",
    "import seaborn as sns\n",
    "\n",
    "from utils import generate_result_set_name"
   ]
  },
  {
   "cell_type": "markdown",
   "metadata": {
    "papermill": {
     "duration": 0.025168,
     "end_time": "2021-01-12T07:11:09.820855",
     "exception": false,
     "start_time": "2021-01-12T07:11:09.795687",
     "status": "completed"
    },
    "tags": []
   },
   "source": [
    "# Settings"
   ]
  },
  {
   "cell_type": "code",
   "execution_count": 5,
   "metadata": {
    "execution": {
     "iopub.execute_input": "2021-01-12T07:11:09.870167Z",
     "iopub.status.busy": "2021-01-12T07:11:09.869768Z",
     "iopub.status.idle": "2021-01-12T07:11:09.880451Z",
     "shell.execute_reply": "2021-01-12T07:11:09.880063Z"
    },
    "papermill": {
     "duration": 0.036479,
     "end_time": "2021-01-12T07:11:09.880547",
     "exception": false,
     "start_time": "2021-01-12T07:11:09.844068",
     "status": "completed"
    },
    "tags": []
   },
   "outputs": [],
   "source": [
    "INITIAL_RANDOM_STATE = 20000"
   ]
  },
  {
   "cell_type": "markdown",
   "metadata": {
    "papermill": {
     "duration": 0.022691,
     "end_time": "2021-01-12T07:11:09.926945",
     "exception": false,
     "start_time": "2021-01-12T07:11:09.904254",
     "status": "completed"
    },
    "tags": []
   },
   "source": [
    "## Input data"
   ]
  },
  {
   "cell_type": "code",
   "execution_count": 6,
   "metadata": {
    "execution": {
     "iopub.execute_input": "2021-01-12T07:11:09.975289Z",
     "iopub.status.busy": "2021-01-12T07:11:09.974929Z",
     "iopub.status.idle": "2021-01-12T07:11:09.984639Z",
     "shell.execute_reply": "2021-01-12T07:11:09.984251Z"
    },
    "papermill": {
     "duration": 0.034899,
     "end_time": "2021-01-12T07:11:09.984774",
     "exception": false,
     "start_time": "2021-01-12T07:11:09.949875",
     "status": "completed"
    },
    "tags": []
   },
   "outputs": [],
   "source": [
    "INPUT_SUBSET = \"umap\""
   ]
  },
  {
   "cell_type": "code",
   "execution_count": 7,
   "metadata": {
    "execution": {
     "iopub.execute_input": "2021-01-12T07:11:10.033086Z",
     "iopub.status.busy": "2021-01-12T07:11:10.032710Z",
     "iopub.status.idle": "2021-01-12T07:11:10.042413Z",
     "shell.execute_reply": "2021-01-12T07:11:10.042036Z"
    },
    "papermill": {
     "duration": 0.03481,
     "end_time": "2021-01-12T07:11:10.042501",
     "exception": false,
     "start_time": "2021-01-12T07:11:10.007691",
     "status": "completed"
    },
    "tags": []
   },
   "outputs": [],
   "source": [
    "INPUT_STEM = \"z_score_std-projection-smultixcan-efo_partial-mashr-zscores\""
   ]
  },
  {
   "cell_type": "code",
   "execution_count": 8,
   "metadata": {
    "execution": {
     "iopub.execute_input": "2021-01-12T07:11:10.091859Z",
     "iopub.status.busy": "2021-01-12T07:11:10.091491Z",
     "iopub.status.idle": "2021-01-12T07:11:10.101073Z",
     "shell.execute_reply": "2021-01-12T07:11:10.100695Z"
    },
    "papermill": {
     "duration": 0.035056,
     "end_time": "2021-01-12T07:11:10.101160",
     "exception": false,
     "start_time": "2021-01-12T07:11:10.066104",
     "status": "completed"
    },
    "tags": []
   },
   "outputs": [],
   "source": [
    "DR_OPTIONS = {\n",
    "    \"n_components\": 50,\n",
    "    \"metric\": \"euclidean\",\n",
    "    \"n_neighbors\": 15,\n",
    "    \"random_state\": 0,\n",
    "}"
   ]
  },
  {
   "cell_type": "code",
   "execution_count": 9,
   "metadata": {
    "execution": {
     "iopub.execute_input": "2021-01-12T07:11:10.150787Z",
     "iopub.status.busy": "2021-01-12T07:11:10.150413Z",
     "iopub.status.idle": "2021-01-12T07:11:10.162364Z",
     "shell.execute_reply": "2021-01-12T07:11:10.161972Z"
    },
    "papermill": {
     "duration": 0.037732,
     "end_time": "2021-01-12T07:11:10.162453",
     "exception": false,
     "start_time": "2021-01-12T07:11:10.124721",
     "status": "completed"
    },
    "tags": []
   },
   "outputs": [
    {
     "data": {
      "text/plain": [
       "PosixPath('/home/miltondp/projects/labs/greenelab/phenoplier/base3/results/data_transformations/umap/umap-z_score_std-projection-smultixcan-efo_partial-mashr-zscores-metric_euclidean-n_components_50-n_neighbors_15-random_state_0.pkl')"
      ]
     },
     "metadata": {},
     "output_type": "display_data"
    },
    {
     "data": {
      "text/plain": [
       "'umap-z_score_std-projection-smultixcan-efo_partial-mashr-zscores-metric_euclidean-n_components_50-n_neighbors_15-random_state_0'"
      ]
     },
     "metadata": {},
     "output_type": "display_data"
    }
   ],
   "source": [
    "input_filepath = Path(\n",
    "    conf.RESULTS[\"DATA_TRANSFORMATIONS_DIR\"],\n",
    "    INPUT_SUBSET,\n",
    "    generate_result_set_name(\n",
    "        DR_OPTIONS, prefix=f\"{INPUT_SUBSET}-{INPUT_STEM}-\", suffix=\".pkl\"\n",
    "    ),\n",
    ").resolve()\n",
    "display(input_filepath)\n",
    "\n",
    "assert input_filepath.exists(), \"Input file does not exist\"\n",
    "\n",
    "input_filepath_stem = input_filepath.stem\n",
    "display(input_filepath_stem)"
   ]
  },
  {
   "cell_type": "markdown",
   "metadata": {
    "papermill": {
     "duration": 0.023601,
     "end_time": "2021-01-12T07:11:10.210536",
     "exception": false,
     "start_time": "2021-01-12T07:11:10.186935",
     "status": "completed"
    },
    "tags": []
   },
   "source": [
    "## Clustering"
   ]
  },
  {
   "cell_type": "code",
   "execution_count": 10,
   "metadata": {
    "execution": {
     "iopub.execute_input": "2021-01-12T07:11:10.260860Z",
     "iopub.status.busy": "2021-01-12T07:11:10.260406Z",
     "iopub.status.idle": "2021-01-12T07:11:10.390735Z",
     "shell.execute_reply": "2021-01-12T07:11:10.390374Z"
    },
    "papermill": {
     "duration": 0.156595,
     "end_time": "2021-01-12T07:11:10.390832",
     "exception": false,
     "start_time": "2021-01-12T07:11:10.234237",
     "status": "completed"
    },
    "tags": []
   },
   "outputs": [],
   "source": [
    "from sklearn.cluster import KMeans"
   ]
  },
  {
   "cell_type": "code",
   "execution_count": 11,
   "metadata": {
    "execution": {
     "iopub.execute_input": "2021-01-12T07:11:10.441340Z",
     "iopub.status.busy": "2021-01-12T07:11:10.440974Z",
     "iopub.status.idle": "2021-01-12T07:11:10.452019Z",
     "shell.execute_reply": "2021-01-12T07:11:10.451639Z"
    },
    "papermill": {
     "duration": 0.03677,
     "end_time": "2021-01-12T07:11:10.452108",
     "exception": false,
     "start_time": "2021-01-12T07:11:10.415338",
     "status": "completed"
    },
    "tags": []
   },
   "outputs": [],
   "source": [
    "CLUSTERING_ATTRIBUTES_TO_SAVE = [\"n_clusters\"]"
   ]
  },
  {
   "cell_type": "code",
   "execution_count": 12,
   "metadata": {
    "execution": {
     "iopub.execute_input": "2021-01-12T07:11:10.502404Z",
     "iopub.status.busy": "2021-01-12T07:11:10.502034Z",
     "iopub.status.idle": "2021-01-12T07:11:10.513762Z",
     "shell.execute_reply": "2021-01-12T07:11:10.513395Z"
    },
    "papermill": {
     "duration": 0.037831,
     "end_time": "2021-01-12T07:11:10.513847",
     "exception": false,
     "start_time": "2021-01-12T07:11:10.476016",
     "status": "completed"
    },
    "tags": []
   },
   "outputs": [
    {
     "data": {
      "text/plain": [
       "{'K_MIN': 2, 'K_MAX': 60, 'N_REPS_PER_K': 5, 'KMEANS_N_INIT': 10}"
      ]
     },
     "metadata": {},
     "output_type": "display_data"
    }
   ],
   "source": [
    "CLUSTERING_OPTIONS = {}\n",
    "\n",
    "CLUSTERING_OPTIONS[\"K_MIN\"] = 2\n",
    "CLUSTERING_OPTIONS[\"K_MAX\"] = 60  # sqrt(3749)\n",
    "CLUSTERING_OPTIONS[\"N_REPS_PER_K\"] = 5\n",
    "CLUSTERING_OPTIONS[\"KMEANS_N_INIT\"] = 10\n",
    "\n",
    "display(CLUSTERING_OPTIONS)"
   ]
  },
  {
   "cell_type": "code",
   "execution_count": 13,
   "metadata": {
    "execution": {
     "iopub.execute_input": "2021-01-12T07:11:10.564904Z",
     "iopub.status.busy": "2021-01-12T07:11:10.564479Z",
     "iopub.status.idle": "2021-01-12T07:11:10.576632Z",
     "shell.execute_reply": "2021-01-12T07:11:10.576248Z"
    },
    "papermill": {
     "duration": 0.039019,
     "end_time": "2021-01-12T07:11:10.576745",
     "exception": false,
     "start_time": "2021-01-12T07:11:10.537726",
     "status": "completed"
    },
    "tags": []
   },
   "outputs": [],
   "source": [
    "CLUSTERERS = {}\n",
    "\n",
    "idx = 0\n",
    "random_state = INITIAL_RANDOM_STATE\n",
    "\n",
    "for k in range(CLUSTERING_OPTIONS[\"K_MIN\"], CLUSTERING_OPTIONS[\"K_MAX\"] + 1):\n",
    "    for i in range(CLUSTERING_OPTIONS[\"N_REPS_PER_K\"]):\n",
    "        clus = KMeans(\n",
    "            n_clusters=k,\n",
    "            n_init=CLUSTERING_OPTIONS[\"KMEANS_N_INIT\"],\n",
    "            random_state=random_state,\n",
    "        )\n",
    "\n",
    "        method_name = type(clus).__name__\n",
    "        CLUSTERERS[f\"{method_name} #{idx}\"] = clus\n",
    "\n",
    "        random_state = random_state + 1\n",
    "        idx = idx + 1"
   ]
  },
  {
   "cell_type": "code",
   "execution_count": 14,
   "metadata": {
    "execution": {
     "iopub.execute_input": "2021-01-12T07:11:10.627108Z",
     "iopub.status.busy": "2021-01-12T07:11:10.626746Z",
     "iopub.status.idle": "2021-01-12T07:11:10.638430Z",
     "shell.execute_reply": "2021-01-12T07:11:10.638054Z"
    },
    "papermill": {
     "duration": 0.037653,
     "end_time": "2021-01-12T07:11:10.638519",
     "exception": false,
     "start_time": "2021-01-12T07:11:10.600866",
     "status": "completed"
    },
    "tags": []
   },
   "outputs": [
    {
     "data": {
      "text/plain": [
       "295"
      ]
     },
     "metadata": {},
     "output_type": "display_data"
    }
   ],
   "source": [
    "display(len(CLUSTERERS))"
   ]
  },
  {
   "cell_type": "code",
   "execution_count": 15,
   "metadata": {
    "execution": {
     "iopub.execute_input": "2021-01-12T07:11:10.689557Z",
     "iopub.status.busy": "2021-01-12T07:11:10.689181Z",
     "iopub.status.idle": "2021-01-12T07:11:10.702421Z",
     "shell.execute_reply": "2021-01-12T07:11:10.702046Z"
    },
    "papermill": {
     "duration": 0.039512,
     "end_time": "2021-01-12T07:11:10.702509",
     "exception": false,
     "start_time": "2021-01-12T07:11:10.662997",
     "status": "completed"
    },
    "tags": []
   },
   "outputs": [
    {
     "data": {
      "text/plain": [
       "('KMeans #0', KMeans(n_clusters=2, random_state=20000))"
      ]
     },
     "metadata": {},
     "output_type": "display_data"
    },
    {
     "data": {
      "text/plain": [
       "('KMeans #1', KMeans(n_clusters=2, random_state=20001))"
      ]
     },
     "metadata": {},
     "output_type": "display_data"
    }
   ],
   "source": [
    "_iter = iter(CLUSTERERS.items())\n",
    "display(next(_iter))\n",
    "display(next(_iter))"
   ]
  },
  {
   "cell_type": "code",
   "execution_count": 16,
   "metadata": {
    "execution": {
     "iopub.execute_input": "2021-01-12T07:11:10.753754Z",
     "iopub.status.busy": "2021-01-12T07:11:10.753394Z",
     "iopub.status.idle": "2021-01-12T07:11:10.764892Z",
     "shell.execute_reply": "2021-01-12T07:11:10.764511Z"
    },
    "papermill": {
     "duration": 0.038056,
     "end_time": "2021-01-12T07:11:10.764982",
     "exception": false,
     "start_time": "2021-01-12T07:11:10.726926",
     "status": "completed"
    },
    "tags": []
   },
   "outputs": [
    {
     "data": {
      "text/plain": [
       "'KMeans'"
      ]
     },
     "metadata": {},
     "output_type": "display_data"
    }
   ],
   "source": [
    "clustering_method_name = method_name\n",
    "display(clustering_method_name)"
   ]
  },
  {
   "cell_type": "markdown",
   "metadata": {
    "papermill": {
     "duration": 0.02415,
     "end_time": "2021-01-12T07:11:10.814144",
     "exception": false,
     "start_time": "2021-01-12T07:11:10.789994",
     "status": "completed"
    },
    "tags": []
   },
   "source": [
    "## Output directory"
   ]
  },
  {
   "cell_type": "code",
   "execution_count": 17,
   "metadata": {
    "execution": {
     "iopub.execute_input": "2021-01-12T07:11:10.866436Z",
     "iopub.status.busy": "2021-01-12T07:11:10.866064Z",
     "iopub.status.idle": "2021-01-12T07:11:10.877485Z",
     "shell.execute_reply": "2021-01-12T07:11:10.877769Z"
    },
    "papermill": {
     "duration": 0.039497,
     "end_time": "2021-01-12T07:11:10.877880",
     "exception": false,
     "start_time": "2021-01-12T07:11:10.838383",
     "status": "completed"
    },
    "tags": []
   },
   "outputs": [
    {
     "data": {
      "text/plain": [
       "PosixPath('/home/miltondp/projects/labs/greenelab/phenoplier/base3/results/clustering/runs/umap-z_score_std-projection-smultixcan-efo_partial-mashr-zscores')"
      ]
     },
     "metadata": {},
     "output_type": "display_data"
    }
   ],
   "source": [
    "# output dir for this notebook\n",
    "RESULTS_DIR = Path(\n",
    "    conf.RESULTS[\"CLUSTERING_RUNS_DIR\"],\n",
    "    f\"{INPUT_SUBSET}-{INPUT_STEM}\",\n",
    ").resolve()\n",
    "RESULTS_DIR.mkdir(parents=True, exist_ok=True)\n",
    "\n",
    "display(RESULTS_DIR)"
   ]
  },
  {
   "cell_type": "markdown",
   "metadata": {
    "papermill": {
     "duration": 0.025383,
     "end_time": "2021-01-12T07:11:10.929606",
     "exception": false,
     "start_time": "2021-01-12T07:11:10.904223",
     "status": "completed"
    },
    "tags": []
   },
   "source": [
    "# Load input file"
   ]
  },
  {
   "cell_type": "code",
   "execution_count": 18,
   "metadata": {
    "execution": {
     "iopub.execute_input": "2021-01-12T07:11:10.983054Z",
     "iopub.status.busy": "2021-01-12T07:11:10.982689Z",
     "iopub.status.idle": "2021-01-12T07:11:10.994733Z",
     "shell.execute_reply": "2021-01-12T07:11:10.995012Z"
    },
    "papermill": {
     "duration": 0.039951,
     "end_time": "2021-01-12T07:11:10.995123",
     "exception": false,
     "start_time": "2021-01-12T07:11:10.955172",
     "status": "completed"
    },
    "tags": []
   },
   "outputs": [],
   "source": [
    "data = pd.read_pickle(input_filepath)"
   ]
  },
  {
   "cell_type": "code",
   "execution_count": 19,
   "metadata": {
    "execution": {
     "iopub.execute_input": "2021-01-12T07:11:11.048019Z",
     "iopub.status.busy": "2021-01-12T07:11:11.047647Z",
     "iopub.status.idle": "2021-01-12T07:11:11.059224Z",
     "shell.execute_reply": "2021-01-12T07:11:11.059507Z"
    },
    "papermill": {
     "duration": 0.039301,
     "end_time": "2021-01-12T07:11:11.059616",
     "exception": false,
     "start_time": "2021-01-12T07:11:11.020315",
     "status": "completed"
    },
    "tags": []
   },
   "outputs": [
    {
     "data": {
      "text/plain": [
       "(3749, 50)"
      ]
     },
     "execution_count": 19,
     "metadata": {},
     "output_type": "execute_result"
    }
   ],
   "source": [
    "data.shape"
   ]
  },
  {
   "cell_type": "code",
   "execution_count": 20,
   "metadata": {
    "execution": {
     "iopub.execute_input": "2021-01-12T07:11:11.112830Z",
     "iopub.status.busy": "2021-01-12T07:11:11.112400Z",
     "iopub.status.idle": "2021-01-12T07:11:11.136278Z",
     "shell.execute_reply": "2021-01-12T07:11:11.135908Z"
    },
    "papermill": {
     "duration": 0.051193,
     "end_time": "2021-01-12T07:11:11.136366",
     "exception": false,
     "start_time": "2021-01-12T07:11:11.085173",
     "status": "completed"
    },
    "tags": []
   },
   "outputs": [
    {
     "data": {
      "text/html": [
       "<div>\n",
       "<style scoped>\n",
       "    .dataframe tbody tr th:only-of-type {\n",
       "        vertical-align: middle;\n",
       "    }\n",
       "\n",
       "    .dataframe tbody tr th {\n",
       "        vertical-align: top;\n",
       "    }\n",
       "\n",
       "    .dataframe thead th {\n",
       "        text-align: right;\n",
       "    }\n",
       "</style>\n",
       "<table border=\"1\" class=\"dataframe\">\n",
       "  <thead>\n",
       "    <tr style=\"text-align: right;\">\n",
       "      <th></th>\n",
       "      <th>UMAP1</th>\n",
       "      <th>UMAP2</th>\n",
       "      <th>UMAP3</th>\n",
       "      <th>UMAP4</th>\n",
       "      <th>UMAP5</th>\n",
       "      <th>UMAP6</th>\n",
       "      <th>UMAP7</th>\n",
       "      <th>UMAP8</th>\n",
       "      <th>UMAP9</th>\n",
       "      <th>UMAP10</th>\n",
       "      <th>...</th>\n",
       "      <th>UMAP41</th>\n",
       "      <th>UMAP42</th>\n",
       "      <th>UMAP43</th>\n",
       "      <th>UMAP44</th>\n",
       "      <th>UMAP45</th>\n",
       "      <th>UMAP46</th>\n",
       "      <th>UMAP47</th>\n",
       "      <th>UMAP48</th>\n",
       "      <th>UMAP49</th>\n",
       "      <th>UMAP50</th>\n",
       "    </tr>\n",
       "  </thead>\n",
       "  <tbody>\n",
       "    <tr>\n",
       "      <th>100001_raw-Food_weight</th>\n",
       "      <td>11.531590</td>\n",
       "      <td>10.773390</td>\n",
       "      <td>10.551500</td>\n",
       "      <td>5.689103</td>\n",
       "      <td>12.646474</td>\n",
       "      <td>8.795625</td>\n",
       "      <td>2.365859</td>\n",
       "      <td>-3.382425</td>\n",
       "      <td>1.458605</td>\n",
       "      <td>14.236823</td>\n",
       "      <td>...</td>\n",
       "      <td>2.214731</td>\n",
       "      <td>9.304909</td>\n",
       "      <td>3.359118</td>\n",
       "      <td>5.211676</td>\n",
       "      <td>1.265622</td>\n",
       "      <td>2.058685</td>\n",
       "      <td>1.291174</td>\n",
       "      <td>1.565621</td>\n",
       "      <td>7.317275</td>\n",
       "      <td>9.037535</td>\n",
       "    </tr>\n",
       "    <tr>\n",
       "      <th>100002_raw-Energy</th>\n",
       "      <td>11.554761</td>\n",
       "      <td>10.753816</td>\n",
       "      <td>10.548004</td>\n",
       "      <td>5.710800</td>\n",
       "      <td>12.674987</td>\n",
       "      <td>8.787647</td>\n",
       "      <td>2.379787</td>\n",
       "      <td>-3.339913</td>\n",
       "      <td>1.442655</td>\n",
       "      <td>14.196218</td>\n",
       "      <td>...</td>\n",
       "      <td>2.237087</td>\n",
       "      <td>9.270699</td>\n",
       "      <td>3.383440</td>\n",
       "      <td>5.185328</td>\n",
       "      <td>1.257113</td>\n",
       "      <td>2.057439</td>\n",
       "      <td>1.290686</td>\n",
       "      <td>1.557209</td>\n",
       "      <td>7.297037</td>\n",
       "      <td>9.009866</td>\n",
       "    </tr>\n",
       "    <tr>\n",
       "      <th>100003_raw-Protein</th>\n",
       "      <td>11.519615</td>\n",
       "      <td>10.786408</td>\n",
       "      <td>10.540249</td>\n",
       "      <td>5.687959</td>\n",
       "      <td>12.628188</td>\n",
       "      <td>8.789925</td>\n",
       "      <td>2.368370</td>\n",
       "      <td>-3.390937</td>\n",
       "      <td>1.464806</td>\n",
       "      <td>14.233623</td>\n",
       "      <td>...</td>\n",
       "      <td>2.216162</td>\n",
       "      <td>9.314158</td>\n",
       "      <td>3.350708</td>\n",
       "      <td>5.226166</td>\n",
       "      <td>1.267382</td>\n",
       "      <td>2.051692</td>\n",
       "      <td>1.305047</td>\n",
       "      <td>1.558942</td>\n",
       "      <td>7.307035</td>\n",
       "      <td>9.042575</td>\n",
       "    </tr>\n",
       "    <tr>\n",
       "      <th>100004_raw-Fat</th>\n",
       "      <td>11.515584</td>\n",
       "      <td>10.756584</td>\n",
       "      <td>10.570711</td>\n",
       "      <td>5.697041</td>\n",
       "      <td>12.661936</td>\n",
       "      <td>8.787330</td>\n",
       "      <td>2.396913</td>\n",
       "      <td>-3.351611</td>\n",
       "      <td>1.435632</td>\n",
       "      <td>14.221588</td>\n",
       "      <td>...</td>\n",
       "      <td>2.214707</td>\n",
       "      <td>9.273252</td>\n",
       "      <td>3.383349</td>\n",
       "      <td>5.220068</td>\n",
       "      <td>1.270067</td>\n",
       "      <td>2.065669</td>\n",
       "      <td>1.281447</td>\n",
       "      <td>1.578588</td>\n",
       "      <td>7.332527</td>\n",
       "      <td>9.005523</td>\n",
       "    </tr>\n",
       "    <tr>\n",
       "      <th>100005_raw-Carbohydrate</th>\n",
       "      <td>11.528723</td>\n",
       "      <td>10.762026</td>\n",
       "      <td>10.566773</td>\n",
       "      <td>5.698555</td>\n",
       "      <td>12.671127</td>\n",
       "      <td>8.791903</td>\n",
       "      <td>2.394764</td>\n",
       "      <td>-3.354370</td>\n",
       "      <td>1.442259</td>\n",
       "      <td>14.226301</td>\n",
       "      <td>...</td>\n",
       "      <td>2.216362</td>\n",
       "      <td>9.275563</td>\n",
       "      <td>3.383139</td>\n",
       "      <td>5.216354</td>\n",
       "      <td>1.269187</td>\n",
       "      <td>2.063429</td>\n",
       "      <td>1.280020</td>\n",
       "      <td>1.577227</td>\n",
       "      <td>7.335059</td>\n",
       "      <td>9.009464</td>\n",
       "    </tr>\n",
       "  </tbody>\n",
       "</table>\n",
       "<p>5 rows × 50 columns</p>\n",
       "</div>"
      ],
      "text/plain": [
       "                             UMAP1      UMAP2      UMAP3     UMAP4      UMAP5  \\\n",
       "100001_raw-Food_weight   11.531590  10.773390  10.551500  5.689103  12.646474   \n",
       "100002_raw-Energy        11.554761  10.753816  10.548004  5.710800  12.674987   \n",
       "100003_raw-Protein       11.519615  10.786408  10.540249  5.687959  12.628188   \n",
       "100004_raw-Fat           11.515584  10.756584  10.570711  5.697041  12.661936   \n",
       "100005_raw-Carbohydrate  11.528723  10.762026  10.566773  5.698555  12.671127   \n",
       "\n",
       "                            UMAP6     UMAP7     UMAP8     UMAP9     UMAP10  \\\n",
       "100001_raw-Food_weight   8.795625  2.365859 -3.382425  1.458605  14.236823   \n",
       "100002_raw-Energy        8.787647  2.379787 -3.339913  1.442655  14.196218   \n",
       "100003_raw-Protein       8.789925  2.368370 -3.390937  1.464806  14.233623   \n",
       "100004_raw-Fat           8.787330  2.396913 -3.351611  1.435632  14.221588   \n",
       "100005_raw-Carbohydrate  8.791903  2.394764 -3.354370  1.442259  14.226301   \n",
       "\n",
       "                         ...    UMAP41    UMAP42    UMAP43    UMAP44  \\\n",
       "100001_raw-Food_weight   ...  2.214731  9.304909  3.359118  5.211676   \n",
       "100002_raw-Energy        ...  2.237087  9.270699  3.383440  5.185328   \n",
       "100003_raw-Protein       ...  2.216162  9.314158  3.350708  5.226166   \n",
       "100004_raw-Fat           ...  2.214707  9.273252  3.383349  5.220068   \n",
       "100005_raw-Carbohydrate  ...  2.216362  9.275563  3.383139  5.216354   \n",
       "\n",
       "                           UMAP45    UMAP46    UMAP47    UMAP48    UMAP49  \\\n",
       "100001_raw-Food_weight   1.265622  2.058685  1.291174  1.565621  7.317275   \n",
       "100002_raw-Energy        1.257113  2.057439  1.290686  1.557209  7.297037   \n",
       "100003_raw-Protein       1.267382  2.051692  1.305047  1.558942  7.307035   \n",
       "100004_raw-Fat           1.270067  2.065669  1.281447  1.578588  7.332527   \n",
       "100005_raw-Carbohydrate  1.269187  2.063429  1.280020  1.577227  7.335059   \n",
       "\n",
       "                           UMAP50  \n",
       "100001_raw-Food_weight   9.037535  \n",
       "100002_raw-Energy        9.009866  \n",
       "100003_raw-Protein       9.042575  \n",
       "100004_raw-Fat           9.005523  \n",
       "100005_raw-Carbohydrate  9.009464  \n",
       "\n",
       "[5 rows x 50 columns]"
      ]
     },
     "execution_count": 20,
     "metadata": {},
     "output_type": "execute_result"
    }
   ],
   "source": [
    "data.head()"
   ]
  },
  {
   "cell_type": "code",
   "execution_count": 21,
   "metadata": {
    "execution": {
     "iopub.execute_input": "2021-01-12T07:11:11.190920Z",
     "iopub.status.busy": "2021-01-12T07:11:11.190541Z",
     "iopub.status.idle": "2021-01-12T07:11:11.201556Z",
     "shell.execute_reply": "2021-01-12T07:11:11.201844Z"
    },
    "papermill": {
     "duration": 0.039396,
     "end_time": "2021-01-12T07:11:11.201960",
     "exception": false,
     "start_time": "2021-01-12T07:11:11.162564",
     "status": "completed"
    },
    "tags": []
   },
   "outputs": [],
   "source": [
    "assert not data.isna().any().any()"
   ]
  },
  {
   "cell_type": "markdown",
   "metadata": {
    "papermill": {
     "duration": 0.026673,
     "end_time": "2021-01-12T07:11:11.254757",
     "exception": false,
     "start_time": "2021-01-12T07:11:11.228084",
     "status": "completed"
    },
    "tags": []
   },
   "source": [
    "# Clustering"
   ]
  },
  {
   "cell_type": "markdown",
   "metadata": {
    "papermill": {
     "duration": 0.025109,
     "end_time": "2021-01-12T07:11:11.305621",
     "exception": false,
     "start_time": "2021-01-12T07:11:11.280512",
     "status": "completed"
    },
    "tags": []
   },
   "source": [
    "## Generate ensemble"
   ]
  },
  {
   "cell_type": "code",
   "execution_count": 22,
   "metadata": {
    "execution": {
     "iopub.execute_input": "2021-01-12T07:11:11.359253Z",
     "iopub.status.busy": "2021-01-12T07:11:11.358876Z",
     "iopub.status.idle": "2021-01-12T07:11:11.372436Z",
     "shell.execute_reply": "2021-01-12T07:11:11.372037Z"
    },
    "papermill": {
     "duration": 0.041447,
     "end_time": "2021-01-12T07:11:11.372527",
     "exception": false,
     "start_time": "2021-01-12T07:11:11.331080",
     "status": "completed"
    },
    "tags": []
   },
   "outputs": [],
   "source": [
    "from clustering.ensemble import generate_ensemble"
   ]
  },
  {
   "cell_type": "code",
   "execution_count": 23,
   "metadata": {
    "execution": {
     "iopub.execute_input": "2021-01-12T07:11:11.427603Z",
     "iopub.status.busy": "2021-01-12T07:11:11.427238Z",
     "iopub.status.idle": "2021-01-12T07:17:24.312845Z",
     "shell.execute_reply": "2021-01-12T07:17:24.312429Z"
    },
    "papermill": {
     "duration": 372.91385,
     "end_time": "2021-01-12T07:17:24.312937",
     "exception": false,
     "start_time": "2021-01-12T07:11:11.399087",
     "status": "completed"
    },
    "tags": []
   },
   "outputs": [
    {
     "name": "stderr",
     "output_type": "stream",
     "text": [
      "\r",
      "  0%|          | 0/295 [00:00<?, ?it/s]"
     ]
    },
    {
     "name": "stderr",
     "output_type": "stream",
     "text": [
      "\r",
      "  0%|          | 1/295 [00:00<00:36,  7.99it/s]"
     ]
    },
    {
     "name": "stderr",
     "output_type": "stream",
     "text": [
      "\r",
      "  1%|▏         | 4/295 [00:00<00:28, 10.07it/s]"
     ]
    },
    {
     "name": "stderr",
     "output_type": "stream",
     "text": [
      "\r",
      "  2%|▏         | 6/295 [00:00<00:25, 11.55it/s]"
     ]
    },
    {
     "name": "stderr",
     "output_type": "stream",
     "text": [
      "\r",
      "  3%|▎         | 8/295 [00:00<00:22, 12.59it/s]"
     ]
    },
    {
     "name": "stderr",
     "output_type": "stream",
     "text": [
      "\r",
      "  3%|▎         | 10/295 [00:01<00:45,  6.31it/s]"
     ]
    },
    {
     "name": "stderr",
     "output_type": "stream",
     "text": [
      "\r",
      "  4%|▍         | 12/295 [00:01<00:41,  6.80it/s]"
     ]
    },
    {
     "name": "stderr",
     "output_type": "stream",
     "text": [
      "\r",
      "  5%|▍         | 14/295 [00:01<00:44,  6.29it/s]"
     ]
    },
    {
     "name": "stderr",
     "output_type": "stream",
     "text": [
      "\r",
      "  5%|▌         | 15/295 [00:01<00:42,  6.58it/s]"
     ]
    },
    {
     "name": "stderr",
     "output_type": "stream",
     "text": [
      "\r",
      "  5%|▌         | 16/295 [00:02<01:14,  3.73it/s]"
     ]
    },
    {
     "name": "stderr",
     "output_type": "stream",
     "text": [
      "\r",
      "  6%|▌         | 17/295 [00:02<01:33,  2.98it/s]"
     ]
    },
    {
     "name": "stderr",
     "output_type": "stream",
     "text": [
      "\r",
      "  6%|▌         | 18/295 [00:03<01:20,  3.45it/s]"
     ]
    },
    {
     "name": "stderr",
     "output_type": "stream",
     "text": [
      "\r",
      "  6%|▋         | 19/295 [00:03<01:21,  3.39it/s]"
     ]
    },
    {
     "name": "stderr",
     "output_type": "stream",
     "text": [
      "\r",
      "  7%|▋         | 20/295 [00:03<01:08,  4.02it/s]"
     ]
    },
    {
     "name": "stderr",
     "output_type": "stream",
     "text": [
      "\r",
      "  7%|▋         | 21/295 [00:04<01:29,  3.08it/s]"
     ]
    },
    {
     "name": "stderr",
     "output_type": "stream",
     "text": [
      "\r",
      "  7%|▋         | 22/295 [00:04<01:16,  3.59it/s]"
     ]
    },
    {
     "name": "stderr",
     "output_type": "stream",
     "text": [
      "\r",
      "  8%|▊         | 23/295 [00:04<01:15,  3.59it/s]"
     ]
    },
    {
     "name": "stderr",
     "output_type": "stream",
     "text": [
      "\r",
      "  8%|▊         | 24/295 [00:05<01:51,  2.44it/s]"
     ]
    },
    {
     "name": "stderr",
     "output_type": "stream",
     "text": [
      "\r",
      "  8%|▊         | 25/295 [00:05<01:32,  2.93it/s]"
     ]
    },
    {
     "name": "stderr",
     "output_type": "stream",
     "text": [
      "\r",
      "  9%|▉         | 26/295 [00:05<01:34,  2.85it/s]"
     ]
    },
    {
     "name": "stderr",
     "output_type": "stream",
     "text": [
      "\r",
      "  9%|▉         | 27/295 [00:06<01:43,  2.59it/s]"
     ]
    },
    {
     "name": "stderr",
     "output_type": "stream",
     "text": [
      "\r",
      "  9%|▉         | 28/295 [00:06<01:36,  2.76it/s]"
     ]
    },
    {
     "name": "stderr",
     "output_type": "stream",
     "text": [
      "\r",
      " 10%|▉         | 29/295 [00:06<01:40,  2.64it/s]"
     ]
    },
    {
     "name": "stderr",
     "output_type": "stream",
     "text": [
      "\r",
      " 10%|█         | 30/295 [00:07<01:41,  2.61it/s]"
     ]
    },
    {
     "name": "stderr",
     "output_type": "stream",
     "text": [
      "\r",
      " 11%|█         | 31/295 [00:07<01:54,  2.30it/s]"
     ]
    },
    {
     "name": "stderr",
     "output_type": "stream",
     "text": [
      "\r",
      " 11%|█         | 32/295 [00:08<01:51,  2.37it/s]"
     ]
    },
    {
     "name": "stderr",
     "output_type": "stream",
     "text": [
      "\r",
      " 11%|█         | 33/295 [00:09<02:18,  1.90it/s]"
     ]
    },
    {
     "name": "stderr",
     "output_type": "stream",
     "text": [
      "\r",
      " 12%|█▏        | 34/295 [00:09<02:13,  1.96it/s]"
     ]
    },
    {
     "name": "stderr",
     "output_type": "stream",
     "text": [
      "\r",
      " 12%|█▏        | 35/295 [00:10<02:08,  2.02it/s]"
     ]
    },
    {
     "name": "stderr",
     "output_type": "stream",
     "text": [
      "\r",
      " 12%|█▏        | 36/295 [00:10<01:57,  2.21it/s]"
     ]
    },
    {
     "name": "stderr",
     "output_type": "stream",
     "text": [
      "\r",
      " 13%|█▎        | 37/295 [00:11<02:09,  1.99it/s]"
     ]
    },
    {
     "name": "stderr",
     "output_type": "stream",
     "text": [
      "\r",
      " 13%|█▎        | 38/295 [00:11<02:14,  1.92it/s]"
     ]
    },
    {
     "name": "stderr",
     "output_type": "stream",
     "text": [
      "\r",
      " 13%|█▎        | 39/295 [00:11<02:05,  2.04it/s]"
     ]
    },
    {
     "name": "stderr",
     "output_type": "stream",
     "text": [
      "\r",
      " 14%|█▎        | 40/295 [00:12<01:53,  2.24it/s]"
     ]
    },
    {
     "name": "stderr",
     "output_type": "stream",
     "text": [
      "\r",
      " 14%|█▍        | 41/295 [00:12<01:51,  2.28it/s]"
     ]
    },
    {
     "name": "stderr",
     "output_type": "stream",
     "text": [
      "\r",
      " 14%|█▍        | 42/295 [00:13<02:12,  1.90it/s]"
     ]
    },
    {
     "name": "stderr",
     "output_type": "stream",
     "text": [
      "\r",
      " 15%|█▍        | 43/295 [00:13<02:01,  2.07it/s]"
     ]
    },
    {
     "name": "stderr",
     "output_type": "stream",
     "text": [
      "\r",
      " 15%|█▍        | 44/295 [00:14<01:52,  2.23it/s]"
     ]
    },
    {
     "name": "stderr",
     "output_type": "stream",
     "text": [
      "\r",
      " 15%|█▌        | 45/295 [00:15<02:20,  1.78it/s]"
     ]
    },
    {
     "name": "stderr",
     "output_type": "stream",
     "text": [
      "\r",
      " 16%|█▌        | 46/295 [00:15<02:13,  1.87it/s]"
     ]
    },
    {
     "name": "stderr",
     "output_type": "stream",
     "text": [
      "\r",
      " 16%|█▌        | 47/295 [00:15<02:01,  2.05it/s]"
     ]
    },
    {
     "name": "stderr",
     "output_type": "stream",
     "text": [
      "\r",
      " 16%|█▋        | 48/295 [00:16<02:22,  1.74it/s]"
     ]
    },
    {
     "name": "stderr",
     "output_type": "stream",
     "text": [
      "\r",
      " 17%|█▋        | 49/295 [00:17<02:05,  1.96it/s]"
     ]
    },
    {
     "name": "stderr",
     "output_type": "stream",
     "text": [
      "\r",
      " 17%|█▋        | 50/295 [00:17<02:12,  1.84it/s]"
     ]
    },
    {
     "name": "stderr",
     "output_type": "stream",
     "text": [
      "\r",
      " 17%|█▋        | 51/295 [00:18<02:16,  1.79it/s]"
     ]
    },
    {
     "name": "stderr",
     "output_type": "stream",
     "text": [
      "\r",
      " 18%|█▊        | 52/295 [00:18<02:24,  1.69it/s]"
     ]
    },
    {
     "name": "stderr",
     "output_type": "stream",
     "text": [
      "\r",
      " 18%|█▊        | 53/295 [00:19<02:35,  1.56it/s]"
     ]
    },
    {
     "name": "stderr",
     "output_type": "stream",
     "text": [
      "\r",
      " 18%|█▊        | 54/295 [00:20<03:02,  1.32it/s]"
     ]
    },
    {
     "name": "stderr",
     "output_type": "stream",
     "text": [
      "\r",
      " 19%|█▊        | 55/295 [00:21<02:58,  1.34it/s]"
     ]
    },
    {
     "name": "stderr",
     "output_type": "stream",
     "text": [
      "\r",
      " 19%|█▉        | 56/295 [00:22<03:13,  1.24it/s]"
     ]
    },
    {
     "name": "stderr",
     "output_type": "stream",
     "text": [
      "\r",
      " 19%|█▉        | 57/295 [00:23<03:32,  1.12it/s]"
     ]
    },
    {
     "name": "stderr",
     "output_type": "stream",
     "text": [
      "\r",
      " 20%|█▉        | 58/295 [00:24<03:47,  1.04it/s]"
     ]
    },
    {
     "name": "stderr",
     "output_type": "stream",
     "text": [
      "\r",
      " 20%|██        | 59/295 [00:25<03:53,  1.01it/s]"
     ]
    },
    {
     "name": "stderr",
     "output_type": "stream",
     "text": [
      "\r",
      " 20%|██        | 60/295 [00:26<03:43,  1.05it/s]"
     ]
    },
    {
     "name": "stderr",
     "output_type": "stream",
     "text": [
      "\r",
      " 21%|██        | 61/295 [00:27<03:47,  1.03it/s]"
     ]
    },
    {
     "name": "stderr",
     "output_type": "stream",
     "text": [
      "\r",
      " 21%|██        | 62/295 [00:28<03:51,  1.01it/s]"
     ]
    },
    {
     "name": "stderr",
     "output_type": "stream",
     "text": [
      "\r",
      " 21%|██▏       | 63/295 [00:29<03:57,  1.02s/it]"
     ]
    },
    {
     "name": "stderr",
     "output_type": "stream",
     "text": [
      "\r",
      " 22%|██▏       | 64/295 [00:30<03:45,  1.02it/s]"
     ]
    },
    {
     "name": "stderr",
     "output_type": "stream",
     "text": [
      "\r",
      " 22%|██▏       | 65/295 [00:31<03:49,  1.00it/s]"
     ]
    },
    {
     "name": "stderr",
     "output_type": "stream",
     "text": [
      "\r",
      " 22%|██▏       | 66/295 [00:32<03:52,  1.01s/it]"
     ]
    },
    {
     "name": "stderr",
     "output_type": "stream",
     "text": [
      "\r",
      " 23%|██▎       | 67/295 [00:33<03:56,  1.04s/it]"
     ]
    },
    {
     "name": "stderr",
     "output_type": "stream",
     "text": [
      "\r",
      " 23%|██▎       | 68/295 [00:34<04:01,  1.06s/it]"
     ]
    },
    {
     "name": "stderr",
     "output_type": "stream",
     "text": [
      "\r",
      " 23%|██▎       | 69/295 [00:35<04:02,  1.07s/it]"
     ]
    },
    {
     "name": "stderr",
     "output_type": "stream",
     "text": [
      "\r",
      " 24%|██▎       | 70/295 [00:37<04:01,  1.07s/it]"
     ]
    },
    {
     "name": "stderr",
     "output_type": "stream",
     "text": [
      "\r",
      " 24%|██▍       | 71/295 [00:38<04:04,  1.09s/it]"
     ]
    },
    {
     "name": "stderr",
     "output_type": "stream",
     "text": [
      "\r",
      " 24%|██▍       | 72/295 [00:39<04:04,  1.10s/it]"
     ]
    },
    {
     "name": "stderr",
     "output_type": "stream",
     "text": [
      "\r",
      " 25%|██▍       | 73/295 [00:40<04:00,  1.08s/it]"
     ]
    },
    {
     "name": "stderr",
     "output_type": "stream",
     "text": [
      "\r",
      " 25%|██▌       | 74/295 [00:41<04:01,  1.09s/it]"
     ]
    },
    {
     "name": "stderr",
     "output_type": "stream",
     "text": [
      "\r",
      " 25%|██▌       | 75/295 [00:42<03:58,  1.09s/it]"
     ]
    },
    {
     "name": "stderr",
     "output_type": "stream",
     "text": [
      "\r",
      " 26%|██▌       | 76/295 [00:43<03:56,  1.08s/it]"
     ]
    },
    {
     "name": "stderr",
     "output_type": "stream",
     "text": [
      "\r",
      " 26%|██▌       | 77/295 [00:44<03:55,  1.08s/it]"
     ]
    },
    {
     "name": "stderr",
     "output_type": "stream",
     "text": [
      "\r",
      " 26%|██▋       | 78/295 [00:45<03:53,  1.08s/it]"
     ]
    },
    {
     "name": "stderr",
     "output_type": "stream",
     "text": [
      "\r",
      " 27%|██▋       | 79/295 [00:46<03:45,  1.05s/it]"
     ]
    },
    {
     "name": "stderr",
     "output_type": "stream",
     "text": [
      "\r",
      " 27%|██▋       | 80/295 [00:47<03:46,  1.05s/it]"
     ]
    },
    {
     "name": "stderr",
     "output_type": "stream",
     "text": [
      "\r",
      " 27%|██▋       | 81/295 [00:48<03:50,  1.08s/it]"
     ]
    },
    {
     "name": "stderr",
     "output_type": "stream",
     "text": [
      "\r",
      " 28%|██▊       | 82/295 [00:50<03:52,  1.09s/it]"
     ]
    },
    {
     "name": "stderr",
     "output_type": "stream",
     "text": [
      "\r",
      " 28%|██▊       | 83/295 [00:51<03:53,  1.10s/it]"
     ]
    },
    {
     "name": "stderr",
     "output_type": "stream",
     "text": [
      "\r",
      " 28%|██▊       | 84/295 [00:52<03:52,  1.10s/it]"
     ]
    },
    {
     "name": "stderr",
     "output_type": "stream",
     "text": [
      "\r",
      " 29%|██▉       | 85/295 [00:53<03:52,  1.11s/it]"
     ]
    },
    {
     "name": "stderr",
     "output_type": "stream",
     "text": [
      "\r",
      " 29%|██▉       | 86/295 [00:54<03:49,  1.10s/it]"
     ]
    },
    {
     "name": "stderr",
     "output_type": "stream",
     "text": [
      "\r",
      " 29%|██▉       | 87/295 [00:55<03:52,  1.12s/it]"
     ]
    },
    {
     "name": "stderr",
     "output_type": "stream",
     "text": [
      "\r",
      " 30%|██▉       | 88/295 [00:56<03:47,  1.10s/it]"
     ]
    },
    {
     "name": "stderr",
     "output_type": "stream",
     "text": [
      "\r",
      " 30%|███       | 89/295 [00:57<03:49,  1.11s/it]"
     ]
    },
    {
     "name": "stderr",
     "output_type": "stream",
     "text": [
      "\r",
      " 31%|███       | 90/295 [00:58<03:46,  1.10s/it]"
     ]
    },
    {
     "name": "stderr",
     "output_type": "stream",
     "text": [
      "\r",
      " 31%|███       | 91/295 [01:00<03:45,  1.11s/it]"
     ]
    },
    {
     "name": "stderr",
     "output_type": "stream",
     "text": [
      "\r",
      " 31%|███       | 92/295 [01:01<03:42,  1.10s/it]"
     ]
    },
    {
     "name": "stderr",
     "output_type": "stream",
     "text": [
      "\r",
      " 32%|███▏      | 93/295 [01:02<03:41,  1.10s/it]"
     ]
    },
    {
     "name": "stderr",
     "output_type": "stream",
     "text": [
      "\r",
      " 32%|███▏      | 94/295 [01:03<03:43,  1.11s/it]"
     ]
    },
    {
     "name": "stderr",
     "output_type": "stream",
     "text": [
      "\r",
      " 32%|███▏      | 95/295 [01:04<03:44,  1.12s/it]"
     ]
    },
    {
     "name": "stderr",
     "output_type": "stream",
     "text": [
      "\r",
      " 33%|███▎      | 96/295 [01:05<03:56,  1.19s/it]"
     ]
    },
    {
     "name": "stderr",
     "output_type": "stream",
     "text": [
      "\r",
      " 33%|███▎      | 97/295 [01:07<04:03,  1.23s/it]"
     ]
    },
    {
     "name": "stderr",
     "output_type": "stream",
     "text": [
      "\r",
      " 33%|███▎      | 98/295 [01:08<04:11,  1.27s/it]"
     ]
    },
    {
     "name": "stderr",
     "output_type": "stream",
     "text": [
      "\r",
      " 34%|███▎      | 99/295 [01:09<04:13,  1.29s/it]"
     ]
    },
    {
     "name": "stderr",
     "output_type": "stream",
     "text": [
      "\r",
      " 34%|███▍      | 100/295 [01:11<04:13,  1.30s/it]"
     ]
    },
    {
     "name": "stderr",
     "output_type": "stream",
     "text": [
      "\r",
      " 34%|███▍      | 101/295 [01:12<04:16,  1.32s/it]"
     ]
    },
    {
     "name": "stderr",
     "output_type": "stream",
     "text": [
      "\r",
      " 35%|███▍      | 102/295 [01:13<04:19,  1.35s/it]"
     ]
    },
    {
     "name": "stderr",
     "output_type": "stream",
     "text": [
      "\r",
      " 35%|███▍      | 103/295 [01:15<04:19,  1.35s/it]"
     ]
    },
    {
     "name": "stderr",
     "output_type": "stream",
     "text": [
      "\r",
      " 35%|███▌      | 104/295 [01:16<04:15,  1.34s/it]"
     ]
    },
    {
     "name": "stderr",
     "output_type": "stream",
     "text": [
      "\r",
      " 36%|███▌      | 105/295 [01:17<04:15,  1.34s/it]"
     ]
    },
    {
     "name": "stderr",
     "output_type": "stream",
     "text": [
      "\r",
      " 36%|███▌      | 106/295 [01:19<04:16,  1.35s/it]"
     ]
    },
    {
     "name": "stderr",
     "output_type": "stream",
     "text": [
      "\r",
      " 36%|███▋      | 107/295 [01:20<04:15,  1.36s/it]"
     ]
    },
    {
     "name": "stderr",
     "output_type": "stream",
     "text": [
      "\r",
      " 37%|███▋      | 108/295 [01:22<04:13,  1.36s/it]"
     ]
    },
    {
     "name": "stderr",
     "output_type": "stream",
     "text": [
      "\r",
      " 37%|███▋      | 109/295 [01:23<04:14,  1.37s/it]"
     ]
    },
    {
     "name": "stderr",
     "output_type": "stream",
     "text": [
      "\r",
      " 37%|███▋      | 110/295 [01:24<04:11,  1.36s/it]"
     ]
    },
    {
     "name": "stderr",
     "output_type": "stream",
     "text": [
      "\r",
      " 38%|███▊      | 111/295 [01:26<04:10,  1.36s/it]"
     ]
    },
    {
     "name": "stderr",
     "output_type": "stream",
     "text": [
      "\r",
      " 38%|███▊      | 112/295 [01:27<04:09,  1.36s/it]"
     ]
    },
    {
     "name": "stderr",
     "output_type": "stream",
     "text": [
      "\r",
      " 38%|███▊      | 113/295 [01:28<04:10,  1.38s/it]"
     ]
    },
    {
     "name": "stderr",
     "output_type": "stream",
     "text": [
      "\r",
      " 39%|███▊      | 114/295 [01:30<04:10,  1.38s/it]"
     ]
    },
    {
     "name": "stderr",
     "output_type": "stream",
     "text": [
      "\r",
      " 39%|███▉      | 115/295 [01:31<04:08,  1.38s/it]"
     ]
    },
    {
     "name": "stderr",
     "output_type": "stream",
     "text": [
      "\r",
      " 39%|███▉      | 116/295 [01:33<04:09,  1.39s/it]"
     ]
    },
    {
     "name": "stderr",
     "output_type": "stream",
     "text": [
      "\r",
      " 40%|███▉      | 117/295 [01:34<04:06,  1.38s/it]"
     ]
    },
    {
     "name": "stderr",
     "output_type": "stream",
     "text": [
      "\r",
      " 40%|████      | 118/295 [01:35<04:06,  1.39s/it]"
     ]
    },
    {
     "name": "stderr",
     "output_type": "stream",
     "text": [
      "\r",
      " 40%|████      | 119/295 [01:37<04:06,  1.40s/it]"
     ]
    },
    {
     "name": "stderr",
     "output_type": "stream",
     "text": [
      "\r",
      " 41%|████      | 120/295 [01:38<04:04,  1.40s/it]"
     ]
    },
    {
     "name": "stderr",
     "output_type": "stream",
     "text": [
      "\r",
      " 41%|████      | 121/295 [01:40<04:00,  1.38s/it]"
     ]
    },
    {
     "name": "stderr",
     "output_type": "stream",
     "text": [
      "\r",
      " 41%|████▏     | 122/295 [01:41<03:57,  1.37s/it]"
     ]
    },
    {
     "name": "stderr",
     "output_type": "stream",
     "text": [
      "\r",
      " 42%|████▏     | 123/295 [01:42<03:56,  1.38s/it]"
     ]
    },
    {
     "name": "stderr",
     "output_type": "stream",
     "text": [
      "\r",
      " 42%|████▏     | 124/295 [01:44<03:54,  1.37s/it]"
     ]
    },
    {
     "name": "stderr",
     "output_type": "stream",
     "text": [
      "\r",
      " 42%|████▏     | 125/295 [01:45<03:51,  1.36s/it]"
     ]
    },
    {
     "name": "stderr",
     "output_type": "stream",
     "text": [
      "\r",
      " 43%|████▎     | 126/295 [01:46<03:55,  1.39s/it]"
     ]
    },
    {
     "name": "stderr",
     "output_type": "stream",
     "text": [
      "\r",
      " 43%|████▎     | 127/295 [01:48<03:53,  1.39s/it]"
     ]
    },
    {
     "name": "stderr",
     "output_type": "stream",
     "text": [
      "\r",
      " 43%|████▎     | 128/295 [01:49<03:52,  1.39s/it]"
     ]
    },
    {
     "name": "stderr",
     "output_type": "stream",
     "text": [
      "\r",
      " 44%|████▎     | 129/295 [01:51<03:52,  1.40s/it]"
     ]
    },
    {
     "name": "stderr",
     "output_type": "stream",
     "text": [
      "\r",
      " 44%|████▍     | 130/295 [01:52<03:51,  1.40s/it]"
     ]
    },
    {
     "name": "stderr",
     "output_type": "stream",
     "text": [
      "\r",
      " 44%|████▍     | 131/295 [01:54<03:54,  1.43s/it]"
     ]
    },
    {
     "name": "stderr",
     "output_type": "stream",
     "text": [
      "\r",
      " 45%|████▍     | 132/295 [01:55<03:51,  1.42s/it]"
     ]
    },
    {
     "name": "stderr",
     "output_type": "stream",
     "text": [
      "\r",
      " 45%|████▌     | 133/295 [01:56<03:49,  1.42s/it]"
     ]
    },
    {
     "name": "stderr",
     "output_type": "stream",
     "text": [
      "\r",
      " 45%|████▌     | 134/295 [01:58<03:47,  1.42s/it]"
     ]
    },
    {
     "name": "stderr",
     "output_type": "stream",
     "text": [
      "\r",
      " 46%|████▌     | 135/295 [01:59<03:46,  1.41s/it]"
     ]
    },
    {
     "name": "stderr",
     "output_type": "stream",
     "text": [
      "\r",
      " 46%|████▌     | 136/295 [02:01<03:44,  1.41s/it]"
     ]
    },
    {
     "name": "stderr",
     "output_type": "stream",
     "text": [
      "\r",
      " 46%|████▋     | 137/295 [02:02<03:44,  1.42s/it]"
     ]
    },
    {
     "name": "stderr",
     "output_type": "stream",
     "text": [
      "\r",
      " 47%|████▋     | 138/295 [02:04<03:44,  1.43s/it]"
     ]
    },
    {
     "name": "stderr",
     "output_type": "stream",
     "text": [
      "\r",
      " 47%|████▋     | 139/295 [02:05<03:43,  1.43s/it]"
     ]
    },
    {
     "name": "stderr",
     "output_type": "stream",
     "text": [
      "\r",
      " 47%|████▋     | 140/295 [02:06<03:41,  1.43s/it]"
     ]
    },
    {
     "name": "stderr",
     "output_type": "stream",
     "text": [
      "\r",
      " 48%|████▊     | 141/295 [02:08<03:40,  1.43s/it]"
     ]
    },
    {
     "name": "stderr",
     "output_type": "stream",
     "text": [
      "\r",
      " 48%|████▊     | 142/295 [02:09<03:40,  1.44s/it]"
     ]
    },
    {
     "name": "stderr",
     "output_type": "stream",
     "text": [
      "\r",
      " 48%|████▊     | 143/295 [02:11<03:40,  1.45s/it]"
     ]
    },
    {
     "name": "stderr",
     "output_type": "stream",
     "text": [
      "\r",
      " 49%|████▉     | 144/295 [02:12<03:37,  1.44s/it]"
     ]
    },
    {
     "name": "stderr",
     "output_type": "stream",
     "text": [
      "\r",
      " 49%|████▉     | 145/295 [02:14<03:36,  1.44s/it]"
     ]
    },
    {
     "name": "stderr",
     "output_type": "stream",
     "text": [
      "\r",
      " 49%|████▉     | 146/295 [02:15<03:33,  1.43s/it]"
     ]
    },
    {
     "name": "stderr",
     "output_type": "stream",
     "text": [
      "\r",
      " 50%|████▉     | 147/295 [02:17<03:35,  1.45s/it]"
     ]
    },
    {
     "name": "stderr",
     "output_type": "stream",
     "text": [
      "\r",
      " 50%|█████     | 148/295 [02:18<03:34,  1.46s/it]"
     ]
    },
    {
     "name": "stderr",
     "output_type": "stream",
     "text": [
      "\r",
      " 51%|█████     | 149/295 [02:19<03:34,  1.47s/it]"
     ]
    },
    {
     "name": "stderr",
     "output_type": "stream",
     "text": [
      "\r",
      " 51%|█████     | 150/295 [02:21<03:31,  1.46s/it]"
     ]
    },
    {
     "name": "stderr",
     "output_type": "stream",
     "text": [
      "\r",
      " 51%|█████     | 151/295 [02:22<03:29,  1.45s/it]"
     ]
    },
    {
     "name": "stderr",
     "output_type": "stream",
     "text": [
      "\r",
      " 52%|█████▏    | 152/295 [02:24<03:27,  1.45s/it]"
     ]
    },
    {
     "name": "stderr",
     "output_type": "stream",
     "text": [
      "\r",
      " 52%|█████▏    | 153/295 [02:25<03:25,  1.45s/it]"
     ]
    },
    {
     "name": "stderr",
     "output_type": "stream",
     "text": [
      "\r",
      " 52%|█████▏    | 154/295 [02:27<03:24,  1.45s/it]"
     ]
    },
    {
     "name": "stderr",
     "output_type": "stream",
     "text": [
      "\r",
      " 53%|█████▎    | 155/295 [02:28<03:22,  1.45s/it]"
     ]
    },
    {
     "name": "stderr",
     "output_type": "stream",
     "text": [
      "\r",
      " 53%|█████▎    | 156/295 [02:30<03:23,  1.46s/it]"
     ]
    },
    {
     "name": "stderr",
     "output_type": "stream",
     "text": [
      "\r",
      " 53%|█████▎    | 157/295 [02:31<03:21,  1.46s/it]"
     ]
    },
    {
     "name": "stderr",
     "output_type": "stream",
     "text": [
      "\r",
      " 54%|█████▎    | 158/295 [02:33<03:22,  1.48s/it]"
     ]
    },
    {
     "name": "stderr",
     "output_type": "stream",
     "text": [
      "\r",
      " 54%|█████▍    | 159/295 [02:34<03:20,  1.47s/it]"
     ]
    },
    {
     "name": "stderr",
     "output_type": "stream",
     "text": [
      "\r",
      " 54%|█████▍    | 160/295 [02:36<03:19,  1.47s/it]"
     ]
    },
    {
     "name": "stderr",
     "output_type": "stream",
     "text": [
      "\r",
      " 55%|█████▍    | 161/295 [02:37<03:16,  1.47s/it]"
     ]
    },
    {
     "name": "stderr",
     "output_type": "stream",
     "text": [
      "\r",
      " 55%|█████▍    | 162/295 [02:38<03:15,  1.47s/it]"
     ]
    },
    {
     "name": "stderr",
     "output_type": "stream",
     "text": [
      "\r",
      " 55%|█████▌    | 163/295 [02:40<03:13,  1.47s/it]"
     ]
    },
    {
     "name": "stderr",
     "output_type": "stream",
     "text": [
      "\r",
      " 56%|█████▌    | 164/295 [02:41<03:12,  1.47s/it]"
     ]
    },
    {
     "name": "stderr",
     "output_type": "stream",
     "text": [
      "\r",
      " 56%|█████▌    | 165/295 [02:43<03:11,  1.47s/it]"
     ]
    },
    {
     "name": "stderr",
     "output_type": "stream",
     "text": [
      "\r",
      " 56%|█████▋    | 166/295 [02:44<03:09,  1.47s/it]"
     ]
    },
    {
     "name": "stderr",
     "output_type": "stream",
     "text": [
      "\r",
      " 57%|█████▋    | 167/295 [02:46<03:07,  1.47s/it]"
     ]
    },
    {
     "name": "stderr",
     "output_type": "stream",
     "text": [
      "\r",
      " 57%|█████▋    | 168/295 [02:47<03:05,  1.46s/it]"
     ]
    },
    {
     "name": "stderr",
     "output_type": "stream",
     "text": [
      "\r",
      " 57%|█████▋    | 169/295 [02:49<03:04,  1.46s/it]"
     ]
    },
    {
     "name": "stderr",
     "output_type": "stream",
     "text": [
      "\r",
      " 58%|█████▊    | 170/295 [02:50<03:03,  1.47s/it]"
     ]
    },
    {
     "name": "stderr",
     "output_type": "stream",
     "text": [
      "\r",
      " 58%|█████▊    | 171/295 [02:52<03:02,  1.47s/it]"
     ]
    },
    {
     "name": "stderr",
     "output_type": "stream",
     "text": [
      "\r",
      " 58%|█████▊    | 172/295 [02:53<03:00,  1.47s/it]"
     ]
    },
    {
     "name": "stderr",
     "output_type": "stream",
     "text": [
      "\r",
      " 59%|█████▊    | 173/295 [02:55<02:59,  1.47s/it]"
     ]
    },
    {
     "name": "stderr",
     "output_type": "stream",
     "text": [
      "\r",
      " 59%|█████▉    | 174/295 [02:56<02:57,  1.47s/it]"
     ]
    },
    {
     "name": "stderr",
     "output_type": "stream",
     "text": [
      "\r",
      " 59%|█████▉    | 175/295 [02:58<02:56,  1.47s/it]"
     ]
    },
    {
     "name": "stderr",
     "output_type": "stream",
     "text": [
      "\r",
      " 60%|█████▉    | 176/295 [02:59<02:58,  1.50s/it]"
     ]
    },
    {
     "name": "stderr",
     "output_type": "stream",
     "text": [
      "\r",
      " 60%|██████    | 177/295 [03:01<02:55,  1.49s/it]"
     ]
    },
    {
     "name": "stderr",
     "output_type": "stream",
     "text": [
      "\r",
      " 60%|██████    | 178/295 [03:02<02:55,  1.50s/it]"
     ]
    },
    {
     "name": "stderr",
     "output_type": "stream",
     "text": [
      "\r",
      " 61%|██████    | 179/295 [03:04<02:53,  1.50s/it]"
     ]
    },
    {
     "name": "stderr",
     "output_type": "stream",
     "text": [
      "\r",
      " 61%|██████    | 180/295 [03:05<02:51,  1.49s/it]"
     ]
    },
    {
     "name": "stderr",
     "output_type": "stream",
     "text": [
      "\r",
      " 61%|██████▏   | 181/295 [03:07<02:50,  1.50s/it]"
     ]
    },
    {
     "name": "stderr",
     "output_type": "stream",
     "text": [
      "\r",
      " 62%|██████▏   | 182/295 [03:08<02:49,  1.50s/it]"
     ]
    },
    {
     "name": "stderr",
     "output_type": "stream",
     "text": [
      "\r",
      " 62%|██████▏   | 183/295 [03:10<02:50,  1.52s/it]"
     ]
    },
    {
     "name": "stderr",
     "output_type": "stream",
     "text": [
      "\r",
      " 62%|██████▏   | 184/295 [03:11<02:46,  1.50s/it]"
     ]
    },
    {
     "name": "stderr",
     "output_type": "stream",
     "text": [
      "\r",
      " 63%|██████▎   | 185/295 [03:13<02:45,  1.50s/it]"
     ]
    },
    {
     "name": "stderr",
     "output_type": "stream",
     "text": [
      "\r",
      " 63%|██████▎   | 186/295 [03:14<02:44,  1.51s/it]"
     ]
    },
    {
     "name": "stderr",
     "output_type": "stream",
     "text": [
      "\r",
      " 63%|██████▎   | 187/295 [03:16<02:41,  1.50s/it]"
     ]
    },
    {
     "name": "stderr",
     "output_type": "stream",
     "text": [
      "\r",
      " 64%|██████▎   | 188/295 [03:17<02:41,  1.51s/it]"
     ]
    },
    {
     "name": "stderr",
     "output_type": "stream",
     "text": [
      "\r",
      " 64%|██████▍   | 189/295 [03:19<02:39,  1.51s/it]"
     ]
    },
    {
     "name": "stderr",
     "output_type": "stream",
     "text": [
      "\r",
      " 64%|██████▍   | 190/295 [03:20<02:39,  1.52s/it]"
     ]
    },
    {
     "name": "stderr",
     "output_type": "stream",
     "text": [
      "\r",
      " 65%|██████▍   | 191/295 [03:22<02:37,  1.51s/it]"
     ]
    },
    {
     "name": "stderr",
     "output_type": "stream",
     "text": [
      "\r",
      " 65%|██████▌   | 192/295 [03:23<02:36,  1.52s/it]"
     ]
    },
    {
     "name": "stderr",
     "output_type": "stream",
     "text": [
      "\r",
      " 65%|██████▌   | 193/295 [03:25<02:35,  1.52s/it]"
     ]
    },
    {
     "name": "stderr",
     "output_type": "stream",
     "text": [
      "\r",
      " 66%|██████▌   | 194/295 [03:26<02:34,  1.53s/it]"
     ]
    },
    {
     "name": "stderr",
     "output_type": "stream",
     "text": [
      "\r",
      " 66%|██████▌   | 195/295 [03:28<02:33,  1.53s/it]"
     ]
    },
    {
     "name": "stderr",
     "output_type": "stream",
     "text": [
      "\r",
      " 66%|██████▋   | 196/295 [03:29<02:31,  1.53s/it]"
     ]
    },
    {
     "name": "stderr",
     "output_type": "stream",
     "text": [
      "\r",
      " 67%|██████▋   | 197/295 [03:31<02:29,  1.53s/it]"
     ]
    },
    {
     "name": "stderr",
     "output_type": "stream",
     "text": [
      "\r",
      " 67%|██████▋   | 198/295 [03:32<02:29,  1.54s/it]"
     ]
    },
    {
     "name": "stderr",
     "output_type": "stream",
     "text": [
      "\r",
      " 67%|██████▋   | 199/295 [03:34<02:27,  1.53s/it]"
     ]
    },
    {
     "name": "stderr",
     "output_type": "stream",
     "text": [
      "\r",
      " 68%|██████▊   | 200/295 [03:36<02:26,  1.54s/it]"
     ]
    },
    {
     "name": "stderr",
     "output_type": "stream",
     "text": [
      "\r",
      " 68%|██████▊   | 201/295 [03:37<02:25,  1.55s/it]"
     ]
    },
    {
     "name": "stderr",
     "output_type": "stream",
     "text": [
      "\r",
      " 68%|██████▊   | 202/295 [03:39<02:23,  1.55s/it]"
     ]
    },
    {
     "name": "stderr",
     "output_type": "stream",
     "text": [
      "\r",
      " 69%|██████▉   | 203/295 [03:40<02:22,  1.54s/it]"
     ]
    },
    {
     "name": "stderr",
     "output_type": "stream",
     "text": [
      "\r",
      " 69%|██████▉   | 204/295 [03:42<02:22,  1.56s/it]"
     ]
    },
    {
     "name": "stderr",
     "output_type": "stream",
     "text": [
      "\r",
      " 69%|██████▉   | 205/295 [03:43<02:19,  1.55s/it]"
     ]
    },
    {
     "name": "stderr",
     "output_type": "stream",
     "text": [
      "\r",
      " 70%|██████▉   | 206/295 [03:45<02:17,  1.55s/it]"
     ]
    },
    {
     "name": "stderr",
     "output_type": "stream",
     "text": [
      "\r",
      " 70%|███████   | 207/295 [03:46<02:15,  1.54s/it]"
     ]
    },
    {
     "name": "stderr",
     "output_type": "stream",
     "text": [
      "\r",
      " 71%|███████   | 208/295 [03:48<02:14,  1.55s/it]"
     ]
    },
    {
     "name": "stderr",
     "output_type": "stream",
     "text": [
      "\r",
      " 71%|███████   | 209/295 [03:50<02:13,  1.55s/it]"
     ]
    },
    {
     "name": "stderr",
     "output_type": "stream",
     "text": [
      "\r",
      " 71%|███████   | 210/295 [03:51<02:11,  1.55s/it]"
     ]
    },
    {
     "name": "stderr",
     "output_type": "stream",
     "text": [
      "\r",
      " 72%|███████▏  | 211/295 [03:53<02:11,  1.56s/it]"
     ]
    },
    {
     "name": "stderr",
     "output_type": "stream",
     "text": [
      "\r",
      " 72%|███████▏  | 212/295 [03:54<02:09,  1.56s/it]"
     ]
    },
    {
     "name": "stderr",
     "output_type": "stream",
     "text": [
      "\r",
      " 72%|███████▏  | 213/295 [03:56<02:09,  1.58s/it]"
     ]
    },
    {
     "name": "stderr",
     "output_type": "stream",
     "text": [
      "\r",
      " 73%|███████▎  | 214/295 [03:57<02:07,  1.57s/it]"
     ]
    },
    {
     "name": "stderr",
     "output_type": "stream",
     "text": [
      "\r",
      " 73%|███████▎  | 215/295 [03:59<02:04,  1.56s/it]"
     ]
    },
    {
     "name": "stderr",
     "output_type": "stream",
     "text": [
      "\r",
      " 73%|███████▎  | 216/295 [04:01<02:04,  1.58s/it]"
     ]
    },
    {
     "name": "stderr",
     "output_type": "stream",
     "text": [
      "\r",
      " 74%|███████▎  | 217/295 [04:02<02:02,  1.57s/it]"
     ]
    },
    {
     "name": "stderr",
     "output_type": "stream",
     "text": [
      "\r",
      " 74%|███████▍  | 218/295 [04:04<02:00,  1.57s/it]"
     ]
    },
    {
     "name": "stderr",
     "output_type": "stream",
     "text": [
      "\r",
      " 74%|███████▍  | 219/295 [04:05<01:59,  1.57s/it]"
     ]
    },
    {
     "name": "stderr",
     "output_type": "stream",
     "text": [
      "\r",
      " 75%|███████▍  | 220/295 [04:07<01:58,  1.58s/it]"
     ]
    },
    {
     "name": "stderr",
     "output_type": "stream",
     "text": [
      "\r",
      " 75%|███████▍  | 221/295 [04:09<01:58,  1.60s/it]"
     ]
    },
    {
     "name": "stderr",
     "output_type": "stream",
     "text": [
      "\r",
      " 75%|███████▌  | 222/295 [04:10<01:56,  1.60s/it]"
     ]
    },
    {
     "name": "stderr",
     "output_type": "stream",
     "text": [
      "\r",
      " 76%|███████▌  | 223/295 [04:12<01:54,  1.58s/it]"
     ]
    },
    {
     "name": "stderr",
     "output_type": "stream",
     "text": [
      "\r",
      " 76%|███████▌  | 224/295 [04:13<01:52,  1.58s/it]"
     ]
    },
    {
     "name": "stderr",
     "output_type": "stream",
     "text": [
      "\r",
      " 76%|███████▋  | 225/295 [04:15<01:50,  1.58s/it]"
     ]
    },
    {
     "name": "stderr",
     "output_type": "stream",
     "text": [
      "\r",
      " 77%|███████▋  | 226/295 [04:16<01:50,  1.60s/it]"
     ]
    },
    {
     "name": "stderr",
     "output_type": "stream",
     "text": [
      "\r",
      " 77%|███████▋  | 227/295 [04:18<01:48,  1.60s/it]"
     ]
    },
    {
     "name": "stderr",
     "output_type": "stream",
     "text": [
      "\r",
      " 77%|███████▋  | 228/295 [04:20<01:46,  1.59s/it]"
     ]
    },
    {
     "name": "stderr",
     "output_type": "stream",
     "text": [
      "\r",
      " 78%|███████▊  | 229/295 [04:21<01:45,  1.60s/it]"
     ]
    },
    {
     "name": "stderr",
     "output_type": "stream",
     "text": [
      "\r",
      " 78%|███████▊  | 230/295 [04:23<01:44,  1.61s/it]"
     ]
    },
    {
     "name": "stderr",
     "output_type": "stream",
     "text": [
      "\r",
      " 78%|███████▊  | 231/295 [04:25<01:44,  1.63s/it]"
     ]
    },
    {
     "name": "stderr",
     "output_type": "stream",
     "text": [
      "\r",
      " 79%|███████▊  | 232/295 [04:26<01:42,  1.62s/it]"
     ]
    },
    {
     "name": "stderr",
     "output_type": "stream",
     "text": [
      "\r",
      " 79%|███████▉  | 233/295 [04:28<01:40,  1.62s/it]"
     ]
    },
    {
     "name": "stderr",
     "output_type": "stream",
     "text": [
      "\r",
      " 79%|███████▉  | 234/295 [04:29<01:39,  1.64s/it]"
     ]
    },
    {
     "name": "stderr",
     "output_type": "stream",
     "text": [
      "\r",
      " 80%|███████▉  | 235/295 [04:31<01:37,  1.63s/it]"
     ]
    },
    {
     "name": "stderr",
     "output_type": "stream",
     "text": [
      "\r",
      " 80%|████████  | 236/295 [04:33<01:35,  1.63s/it]"
     ]
    },
    {
     "name": "stderr",
     "output_type": "stream",
     "text": [
      "\r",
      " 80%|████████  | 237/295 [04:34<01:34,  1.63s/it]"
     ]
    },
    {
     "name": "stderr",
     "output_type": "stream",
     "text": [
      "\r",
      " 81%|████████  | 238/295 [04:36<01:33,  1.63s/it]"
     ]
    },
    {
     "name": "stderr",
     "output_type": "stream",
     "text": [
      "\r",
      " 81%|████████  | 239/295 [04:37<01:27,  1.57s/it]"
     ]
    },
    {
     "name": "stderr",
     "output_type": "stream",
     "text": [
      "\r",
      " 81%|████████▏ | 240/295 [04:39<01:27,  1.60s/it]"
     ]
    },
    {
     "name": "stderr",
     "output_type": "stream",
     "text": [
      "\r",
      " 82%|████████▏ | 241/295 [04:41<01:27,  1.62s/it]"
     ]
    },
    {
     "name": "stderr",
     "output_type": "stream",
     "text": [
      "\r",
      " 82%|████████▏ | 242/295 [04:42<01:26,  1.63s/it]"
     ]
    },
    {
     "name": "stderr",
     "output_type": "stream",
     "text": [
      "\r",
      " 82%|████████▏ | 243/295 [04:44<01:25,  1.64s/it]"
     ]
    },
    {
     "name": "stderr",
     "output_type": "stream",
     "text": [
      "\r",
      " 83%|████████▎ | 244/295 [04:46<01:23,  1.63s/it]"
     ]
    },
    {
     "name": "stderr",
     "output_type": "stream",
     "text": [
      "\r",
      " 83%|████████▎ | 245/295 [04:47<01:21,  1.63s/it]"
     ]
    },
    {
     "name": "stderr",
     "output_type": "stream",
     "text": [
      "\r",
      " 83%|████████▎ | 246/295 [04:49<01:20,  1.64s/it]"
     ]
    },
    {
     "name": "stderr",
     "output_type": "stream",
     "text": [
      "\r",
      " 84%|████████▎ | 247/295 [04:51<01:19,  1.66s/it]"
     ]
    },
    {
     "name": "stderr",
     "output_type": "stream",
     "text": [
      "\r",
      " 84%|████████▍ | 248/295 [04:52<01:19,  1.68s/it]"
     ]
    },
    {
     "name": "stderr",
     "output_type": "stream",
     "text": [
      "\r",
      " 84%|████████▍ | 249/295 [04:54<01:17,  1.68s/it]"
     ]
    },
    {
     "name": "stderr",
     "output_type": "stream",
     "text": [
      "\r",
      " 85%|████████▍ | 250/295 [04:56<01:15,  1.67s/it]"
     ]
    },
    {
     "name": "stderr",
     "output_type": "stream",
     "text": [
      "\r",
      " 85%|████████▌ | 251/295 [04:57<01:13,  1.67s/it]"
     ]
    },
    {
     "name": "stderr",
     "output_type": "stream",
     "text": [
      "\r",
      " 85%|████████▌ | 252/295 [04:59<01:11,  1.67s/it]"
     ]
    },
    {
     "name": "stderr",
     "output_type": "stream",
     "text": [
      "\r",
      " 86%|████████▌ | 253/295 [05:01<01:10,  1.68s/it]"
     ]
    },
    {
     "name": "stderr",
     "output_type": "stream",
     "text": [
      "\r",
      " 86%|████████▌ | 254/295 [05:02<01:08,  1.67s/it]"
     ]
    },
    {
     "name": "stderr",
     "output_type": "stream",
     "text": [
      "\r",
      " 86%|████████▋ | 255/295 [05:04<01:07,  1.68s/it]"
     ]
    },
    {
     "name": "stderr",
     "output_type": "stream",
     "text": [
      "\r",
      " 87%|████████▋ | 256/295 [05:06<01:05,  1.67s/it]"
     ]
    },
    {
     "name": "stderr",
     "output_type": "stream",
     "text": [
      "\r",
      " 87%|████████▋ | 257/295 [05:07<01:03,  1.68s/it]"
     ]
    },
    {
     "name": "stderr",
     "output_type": "stream",
     "text": [
      "\r",
      " 87%|████████▋ | 258/295 [05:09<01:02,  1.68s/it]"
     ]
    },
    {
     "name": "stderr",
     "output_type": "stream",
     "text": [
      "\r",
      " 88%|████████▊ | 259/295 [05:11<01:00,  1.69s/it]"
     ]
    },
    {
     "name": "stderr",
     "output_type": "stream",
     "text": [
      "\r",
      " 88%|████████▊ | 260/295 [05:13<00:59,  1.69s/it]"
     ]
    },
    {
     "name": "stderr",
     "output_type": "stream",
     "text": [
      "\r",
      " 88%|████████▊ | 261/295 [05:14<00:56,  1.67s/it]"
     ]
    },
    {
     "name": "stderr",
     "output_type": "stream",
     "text": [
      "\r",
      " 89%|████████▉ | 262/295 [05:16<00:54,  1.66s/it]"
     ]
    },
    {
     "name": "stderr",
     "output_type": "stream",
     "text": [
      "\r",
      " 89%|████████▉ | 263/295 [05:17<00:52,  1.65s/it]"
     ]
    },
    {
     "name": "stderr",
     "output_type": "stream",
     "text": [
      "\r",
      " 89%|████████▉ | 264/295 [05:19<00:51,  1.65s/it]"
     ]
    },
    {
     "name": "stderr",
     "output_type": "stream",
     "text": [
      "\r",
      " 90%|████████▉ | 265/295 [05:21<00:49,  1.66s/it]"
     ]
    },
    {
     "name": "stderr",
     "output_type": "stream",
     "text": [
      "\r",
      " 90%|█████████ | 266/295 [05:22<00:48,  1.67s/it]"
     ]
    },
    {
     "name": "stderr",
     "output_type": "stream",
     "text": [
      "\r",
      " 91%|█████████ | 267/295 [05:24<00:47,  1.68s/it]"
     ]
    },
    {
     "name": "stderr",
     "output_type": "stream",
     "text": [
      "\r",
      " 91%|█████████ | 268/295 [05:26<00:45,  1.69s/it]"
     ]
    },
    {
     "name": "stderr",
     "output_type": "stream",
     "text": [
      "\r",
      " 91%|█████████ | 269/295 [05:28<00:43,  1.69s/it]"
     ]
    },
    {
     "name": "stderr",
     "output_type": "stream",
     "text": [
      "\r",
      " 92%|█████████▏| 270/295 [05:29<00:42,  1.71s/it]"
     ]
    },
    {
     "name": "stderr",
     "output_type": "stream",
     "text": [
      "\r",
      " 92%|█████████▏| 271/295 [05:31<00:41,  1.71s/it]"
     ]
    },
    {
     "name": "stderr",
     "output_type": "stream",
     "text": [
      "\r",
      " 92%|█████████▏| 272/295 [05:33<00:39,  1.71s/it]"
     ]
    },
    {
     "name": "stderr",
     "output_type": "stream",
     "text": [
      "\r",
      " 93%|█████████▎| 273/295 [05:34<00:37,  1.70s/it]"
     ]
    },
    {
     "name": "stderr",
     "output_type": "stream",
     "text": [
      "\r",
      " 93%|█████████▎| 274/295 [05:36<00:35,  1.71s/it]"
     ]
    },
    {
     "name": "stderr",
     "output_type": "stream",
     "text": [
      "\r",
      " 93%|█████████▎| 275/295 [05:38<00:33,  1.70s/it]"
     ]
    },
    {
     "name": "stderr",
     "output_type": "stream",
     "text": [
      "\r",
      " 94%|█████████▎| 276/295 [05:40<00:32,  1.69s/it]"
     ]
    },
    {
     "name": "stderr",
     "output_type": "stream",
     "text": [
      "\r",
      " 94%|█████████▍| 277/295 [05:41<00:30,  1.71s/it]"
     ]
    },
    {
     "name": "stderr",
     "output_type": "stream",
     "text": [
      "\r",
      " 94%|█████████▍| 278/295 [05:43<00:28,  1.70s/it]"
     ]
    },
    {
     "name": "stderr",
     "output_type": "stream",
     "text": [
      "\r",
      " 95%|█████████▍| 279/295 [05:45<00:27,  1.70s/it]"
     ]
    },
    {
     "name": "stderr",
     "output_type": "stream",
     "text": [
      "\r",
      " 95%|█████████▍| 280/295 [05:46<00:25,  1.70s/it]"
     ]
    },
    {
     "name": "stderr",
     "output_type": "stream",
     "text": [
      "\r",
      " 95%|█████████▌| 281/295 [05:48<00:23,  1.70s/it]"
     ]
    },
    {
     "name": "stderr",
     "output_type": "stream",
     "text": [
      "\r",
      " 96%|█████████▌| 282/295 [05:50<00:22,  1.71s/it]"
     ]
    },
    {
     "name": "stderr",
     "output_type": "stream",
     "text": [
      "\r",
      " 96%|█████████▌| 283/295 [05:51<00:20,  1.72s/it]"
     ]
    },
    {
     "name": "stderr",
     "output_type": "stream",
     "text": [
      "\r",
      " 96%|█████████▋| 284/295 [05:53<00:18,  1.73s/it]"
     ]
    },
    {
     "name": "stderr",
     "output_type": "stream",
     "text": [
      "\r",
      " 97%|█████████▋| 285/295 [05:55<00:17,  1.73s/it]"
     ]
    },
    {
     "name": "stderr",
     "output_type": "stream",
     "text": [
      "\r",
      " 97%|█████████▋| 286/295 [05:57<00:15,  1.72s/it]"
     ]
    },
    {
     "name": "stderr",
     "output_type": "stream",
     "text": [
      "\r",
      " 97%|█████████▋| 287/295 [05:58<00:13,  1.73s/it]"
     ]
    },
    {
     "name": "stderr",
     "output_type": "stream",
     "text": [
      "\r",
      " 98%|█████████▊| 288/295 [06:00<00:12,  1.72s/it]"
     ]
    },
    {
     "name": "stderr",
     "output_type": "stream",
     "text": [
      "\r",
      " 98%|█████████▊| 289/295 [06:02<00:10,  1.72s/it]"
     ]
    },
    {
     "name": "stderr",
     "output_type": "stream",
     "text": [
      "\r",
      " 98%|█████████▊| 290/295 [06:04<00:08,  1.73s/it]"
     ]
    },
    {
     "name": "stderr",
     "output_type": "stream",
     "text": [
      "\r",
      " 99%|█████████▊| 291/295 [06:05<00:06,  1.74s/it]"
     ]
    },
    {
     "name": "stderr",
     "output_type": "stream",
     "text": [
      "\r",
      " 99%|█████████▉| 292/295 [06:07<00:05,  1.74s/it]"
     ]
    },
    {
     "name": "stderr",
     "output_type": "stream",
     "text": [
      "\r",
      " 99%|█████████▉| 293/295 [06:09<00:03,  1.73s/it]"
     ]
    },
    {
     "name": "stderr",
     "output_type": "stream",
     "text": [
      "\r",
      "100%|█████████▉| 294/295 [06:11<00:01,  1.74s/it]"
     ]
    },
    {
     "name": "stderr",
     "output_type": "stream",
     "text": [
      "\r",
      "100%|██████████| 295/295 [06:12<00:00,  1.75s/it]"
     ]
    },
    {
     "name": "stderr",
     "output_type": "stream",
     "text": [
      "\r",
      "100%|██████████| 295/295 [06:12<00:00,  1.26s/it]"
     ]
    },
    {
     "name": "stderr",
     "output_type": "stream",
     "text": [
      "\n"
     ]
    }
   ],
   "source": [
    "ensemble = generate_ensemble(\n",
    "    data,\n",
    "    CLUSTERERS,\n",
    "    attributes=CLUSTERING_ATTRIBUTES_TO_SAVE,\n",
    ")"
   ]
  },
  {
   "cell_type": "code",
   "execution_count": 24,
   "metadata": {
    "execution": {
     "iopub.execute_input": "2021-01-12T07:17:24.457531Z",
     "iopub.status.busy": "2021-01-12T07:17:24.457103Z",
     "iopub.status.idle": "2021-01-12T07:17:24.469106Z",
     "shell.execute_reply": "2021-01-12T07:17:24.468699Z"
    },
    "papermill": {
     "duration": 0.084752,
     "end_time": "2021-01-12T07:17:24.469196",
     "exception": false,
     "start_time": "2021-01-12T07:17:24.384444",
     "status": "completed"
    },
    "tags": []
   },
   "outputs": [
    {
     "data": {
      "text/plain": [
       "(295, 3)"
      ]
     },
     "execution_count": 24,
     "metadata": {},
     "output_type": "execute_result"
    }
   ],
   "source": [
    "# the number should be close to 295 (the number of partitions generated by k-means/spectral clustering)\n",
    "ensemble.shape"
   ]
  },
  {
   "cell_type": "code",
   "execution_count": 25,
   "metadata": {
    "execution": {
     "iopub.execute_input": "2021-01-12T07:17:24.614234Z",
     "iopub.status.busy": "2021-01-12T07:17:24.613837Z",
     "iopub.status.idle": "2021-01-12T07:17:24.632683Z",
     "shell.execute_reply": "2021-01-12T07:17:24.632309Z"
    },
    "papermill": {
     "duration": 0.092239,
     "end_time": "2021-01-12T07:17:24.632828",
     "exception": false,
     "start_time": "2021-01-12T07:17:24.540589",
     "status": "completed"
    },
    "tags": []
   },
   "outputs": [
    {
     "data": {
      "text/html": [
       "<div>\n",
       "<style scoped>\n",
       "    .dataframe tbody tr th:only-of-type {\n",
       "        vertical-align: middle;\n",
       "    }\n",
       "\n",
       "    .dataframe tbody tr th {\n",
       "        vertical-align: top;\n",
       "    }\n",
       "\n",
       "    .dataframe thead th {\n",
       "        text-align: right;\n",
       "    }\n",
       "</style>\n",
       "<table border=\"1\" class=\"dataframe\">\n",
       "  <thead>\n",
       "    <tr style=\"text-align: right;\">\n",
       "      <th></th>\n",
       "      <th>clusterer_params</th>\n",
       "      <th>partition</th>\n",
       "      <th>n_clusters</th>\n",
       "    </tr>\n",
       "    <tr>\n",
       "      <th>clusterer_id</th>\n",
       "      <th></th>\n",
       "      <th></th>\n",
       "      <th></th>\n",
       "    </tr>\n",
       "  </thead>\n",
       "  <tbody>\n",
       "    <tr>\n",
       "      <th>KMeans #0</th>\n",
       "      <td>{'algorithm': 'auto', 'copy_x': True, 'init': ...</td>\n",
       "      <td>[0.0, 0.0, 0.0, 0.0, 0.0, 0.0, 0.0, 0.0, 0.0, ...</td>\n",
       "      <td>2</td>\n",
       "    </tr>\n",
       "    <tr>\n",
       "      <th>KMeans #1</th>\n",
       "      <td>{'algorithm': 'auto', 'copy_x': True, 'init': ...</td>\n",
       "      <td>[0.0, 0.0, 0.0, 0.0, 0.0, 0.0, 0.0, 0.0, 0.0, ...</td>\n",
       "      <td>2</td>\n",
       "    </tr>\n",
       "    <tr>\n",
       "      <th>KMeans #2</th>\n",
       "      <td>{'algorithm': 'auto', 'copy_x': True, 'init': ...</td>\n",
       "      <td>[0.0, 0.0, 0.0, 0.0, 0.0, 0.0, 0.0, 0.0, 0.0, ...</td>\n",
       "      <td>2</td>\n",
       "    </tr>\n",
       "    <tr>\n",
       "      <th>KMeans #3</th>\n",
       "      <td>{'algorithm': 'auto', 'copy_x': True, 'init': ...</td>\n",
       "      <td>[0.0, 0.0, 0.0, 0.0, 0.0, 0.0, 0.0, 0.0, 0.0, ...</td>\n",
       "      <td>2</td>\n",
       "    </tr>\n",
       "    <tr>\n",
       "      <th>KMeans #4</th>\n",
       "      <td>{'algorithm': 'auto', 'copy_x': True, 'init': ...</td>\n",
       "      <td>[0.0, 0.0, 0.0, 0.0, 0.0, 0.0, 0.0, 0.0, 0.0, ...</td>\n",
       "      <td>2</td>\n",
       "    </tr>\n",
       "  </tbody>\n",
       "</table>\n",
       "</div>"
      ],
      "text/plain": [
       "                                               clusterer_params  \\\n",
       "clusterer_id                                                      \n",
       "KMeans #0     {'algorithm': 'auto', 'copy_x': True, 'init': ...   \n",
       "KMeans #1     {'algorithm': 'auto', 'copy_x': True, 'init': ...   \n",
       "KMeans #2     {'algorithm': 'auto', 'copy_x': True, 'init': ...   \n",
       "KMeans #3     {'algorithm': 'auto', 'copy_x': True, 'init': ...   \n",
       "KMeans #4     {'algorithm': 'auto', 'copy_x': True, 'init': ...   \n",
       "\n",
       "                                                      partition  n_clusters  \n",
       "clusterer_id                                                                 \n",
       "KMeans #0     [0.0, 0.0, 0.0, 0.0, 0.0, 0.0, 0.0, 0.0, 0.0, ...           2  \n",
       "KMeans #1     [0.0, 0.0, 0.0, 0.0, 0.0, 0.0, 0.0, 0.0, 0.0, ...           2  \n",
       "KMeans #2     [0.0, 0.0, 0.0, 0.0, 0.0, 0.0, 0.0, 0.0, 0.0, ...           2  \n",
       "KMeans #3     [0.0, 0.0, 0.0, 0.0, 0.0, 0.0, 0.0, 0.0, 0.0, ...           2  \n",
       "KMeans #4     [0.0, 0.0, 0.0, 0.0, 0.0, 0.0, 0.0, 0.0, 0.0, ...           2  "
      ]
     },
     "execution_count": 25,
     "metadata": {},
     "output_type": "execute_result"
    }
   ],
   "source": [
    "ensemble.head()"
   ]
  },
  {
   "cell_type": "code",
   "execution_count": 26,
   "metadata": {
    "execution": {
     "iopub.execute_input": "2021-01-12T07:17:24.778736Z",
     "iopub.status.busy": "2021-01-12T07:17:24.778371Z",
     "iopub.status.idle": "2021-01-12T07:17:24.790891Z",
     "shell.execute_reply": "2021-01-12T07:17:24.791205Z"
    },
    "papermill": {
     "duration": 0.086308,
     "end_time": "2021-01-12T07:17:24.791314",
     "exception": false,
     "start_time": "2021-01-12T07:17:24.705006",
     "status": "completed"
    },
    "tags": []
   },
   "outputs": [
    {
     "data": {
      "text/plain": [
       "60    5\n",
       "16    5\n",
       "28    5\n",
       "27    5\n",
       "26    5\n",
       "Name: n_clusters, dtype: int64"
      ]
     },
     "execution_count": 26,
     "metadata": {},
     "output_type": "execute_result"
    }
   ],
   "source": [
    "ensemble[\"n_clusters\"].value_counts().head()"
   ]
  },
  {
   "cell_type": "code",
   "execution_count": 27,
   "metadata": {
    "execution": {
     "iopub.execute_input": "2021-01-12T07:17:24.936224Z",
     "iopub.status.busy": "2021-01-12T07:17:24.935857Z",
     "iopub.status.idle": "2021-01-12T07:17:24.949729Z",
     "shell.execute_reply": "2021-01-12T07:17:24.949354Z"
    },
    "papermill": {
     "duration": 0.086674,
     "end_time": "2021-01-12T07:17:24.949819",
     "exception": false,
     "start_time": "2021-01-12T07:17:24.863145",
     "status": "completed"
    },
    "tags": []
   },
   "outputs": [
    {
     "data": {
      "text/plain": [
       "count    295.000000\n",
       "mean      31.000000\n",
       "std       17.058323\n",
       "min        2.000000\n",
       "25%       16.000000\n",
       "50%       31.000000\n",
       "75%       46.000000\n",
       "max       60.000000\n",
       "Name: n_clusters, dtype: float64"
      ]
     },
     "metadata": {},
     "output_type": "display_data"
    }
   ],
   "source": [
    "ensemble_stats = ensemble[\"n_clusters\"].describe()\n",
    "display(ensemble_stats)"
   ]
  },
  {
   "cell_type": "markdown",
   "metadata": {
    "papermill": {
     "duration": 0.070797,
     "end_time": "2021-01-12T07:17:25.092010",
     "exception": false,
     "start_time": "2021-01-12T07:17:25.021213",
     "status": "completed"
    },
    "tags": []
   },
   "source": [
    "## Testing"
   ]
  },
  {
   "cell_type": "code",
   "execution_count": 28,
   "metadata": {
    "execution": {
     "iopub.execute_input": "2021-01-12T07:17:25.236923Z",
     "iopub.status.busy": "2021-01-12T07:17:25.236478Z",
     "iopub.status.idle": "2021-01-12T07:17:25.247479Z",
     "shell.execute_reply": "2021-01-12T07:17:25.247098Z"
    },
    "papermill": {
     "duration": 0.084157,
     "end_time": "2021-01-12T07:17:25.247569",
     "exception": false,
     "start_time": "2021-01-12T07:17:25.163412",
     "status": "completed"
    },
    "tags": []
   },
   "outputs": [],
   "source": [
    "assert ensemble_stats[\"min\"] > 1"
   ]
  },
  {
   "cell_type": "code",
   "execution_count": 29,
   "metadata": {
    "execution": {
     "iopub.execute_input": "2021-01-12T07:17:25.393409Z",
     "iopub.status.busy": "2021-01-12T07:17:25.393034Z",
     "iopub.status.idle": "2021-01-12T07:17:25.404211Z",
     "shell.execute_reply": "2021-01-12T07:17:25.403837Z"
    },
    "papermill": {
     "duration": 0.084264,
     "end_time": "2021-01-12T07:17:25.404298",
     "exception": false,
     "start_time": "2021-01-12T07:17:25.320034",
     "status": "completed"
    },
    "tags": []
   },
   "outputs": [],
   "source": [
    "assert not ensemble[\"n_clusters\"].isna().any()"
   ]
  },
  {
   "cell_type": "code",
   "execution_count": 30,
   "metadata": {
    "execution": {
     "iopub.execute_input": "2021-01-12T07:17:25.548898Z",
     "iopub.status.busy": "2021-01-12T07:17:25.548482Z",
     "iopub.status.idle": "2021-01-12T07:17:25.559986Z",
     "shell.execute_reply": "2021-01-12T07:17:25.559602Z"
    },
    "papermill": {
     "duration": 0.084787,
     "end_time": "2021-01-12T07:17:25.560076",
     "exception": false,
     "start_time": "2021-01-12T07:17:25.475289",
     "status": "completed"
    },
    "tags": []
   },
   "outputs": [],
   "source": [
    "assert ensemble.shape[0] == len(CLUSTERERS)"
   ]
  },
  {
   "cell_type": "code",
   "execution_count": 31,
   "metadata": {
    "execution": {
     "iopub.execute_input": "2021-01-12T07:17:25.705642Z",
     "iopub.status.busy": "2021-01-12T07:17:25.705257Z",
     "iopub.status.idle": "2021-01-12T07:17:25.733478Z",
     "shell.execute_reply": "2021-01-12T07:17:25.733099Z"
    },
    "papermill": {
     "duration": 0.102149,
     "end_time": "2021-01-12T07:17:25.733567",
     "exception": false,
     "start_time": "2021-01-12T07:17:25.631418",
     "status": "completed"
    },
    "tags": []
   },
   "outputs": [],
   "source": [
    "# all partitions have the right size\n",
    "assert np.all(\n",
    "    [part[\"partition\"].shape[0] == data.shape[0] for idx, part in ensemble.iterrows()]\n",
    ")"
   ]
  },
  {
   "cell_type": "code",
   "execution_count": 32,
   "metadata": {
    "execution": {
     "iopub.execute_input": "2021-01-12T07:17:25.879699Z",
     "iopub.status.busy": "2021-01-12T07:17:25.879335Z",
     "iopub.status.idle": "2021-01-12T07:17:25.910813Z",
     "shell.execute_reply": "2021-01-12T07:17:25.910433Z"
    },
    "papermill": {
     "duration": 0.105659,
     "end_time": "2021-01-12T07:17:25.910902",
     "exception": false,
     "start_time": "2021-01-12T07:17:25.805243",
     "status": "completed"
    },
    "tags": []
   },
   "outputs": [],
   "source": [
    "# no partition has negative clusters (noisy points)\n",
    "assert not np.any([(part[\"partition\"] < 0).any() for idx, part in ensemble.iterrows()])"
   ]
  },
  {
   "cell_type": "markdown",
   "metadata": {
    "papermill": {
     "duration": 0.070758,
     "end_time": "2021-01-12T07:17:26.053693",
     "exception": false,
     "start_time": "2021-01-12T07:17:25.982935",
     "status": "completed"
    },
    "tags": []
   },
   "source": [
    "## Add clustering quality measures"
   ]
  },
  {
   "cell_type": "code",
   "execution_count": 33,
   "metadata": {
    "execution": {
     "iopub.execute_input": "2021-01-12T07:17:26.199784Z",
     "iopub.status.busy": "2021-01-12T07:17:26.199420Z",
     "iopub.status.idle": "2021-01-12T07:17:26.210328Z",
     "shell.execute_reply": "2021-01-12T07:17:26.209967Z"
    },
    "papermill": {
     "duration": 0.085172,
     "end_time": "2021-01-12T07:17:26.210411",
     "exception": false,
     "start_time": "2021-01-12T07:17:26.125239",
     "status": "completed"
    },
    "tags": []
   },
   "outputs": [],
   "source": [
    "from sklearn.metrics import calinski_harabasz_score"
   ]
  },
  {
   "cell_type": "code",
   "execution_count": 34,
   "metadata": {
    "execution": {
     "iopub.execute_input": "2021-01-12T07:17:26.356687Z",
     "iopub.status.busy": "2021-01-12T07:17:26.356302Z",
     "iopub.status.idle": "2021-01-12T07:17:27.300307Z",
     "shell.execute_reply": "2021-01-12T07:17:27.299927Z"
    },
    "papermill": {
     "duration": 1.01841,
     "end_time": "2021-01-12T07:17:27.300395",
     "exception": false,
     "start_time": "2021-01-12T07:17:26.281985",
     "status": "completed"
    },
    "tags": []
   },
   "outputs": [],
   "source": [
    "ensemble = ensemble.assign(\n",
    "    ch_score=ensemble[\"partition\"].apply(lambda x: calinski_harabasz_score(data, x))\n",
    ")"
   ]
  },
  {
   "cell_type": "code",
   "execution_count": 35,
   "metadata": {
    "execution": {
     "iopub.execute_input": "2021-01-12T07:17:27.446707Z",
     "iopub.status.busy": "2021-01-12T07:17:27.446339Z",
     "iopub.status.idle": "2021-01-12T07:17:27.457772Z",
     "shell.execute_reply": "2021-01-12T07:17:27.457415Z"
    },
    "papermill": {
     "duration": 0.084807,
     "end_time": "2021-01-12T07:17:27.457873",
     "exception": false,
     "start_time": "2021-01-12T07:17:27.373066",
     "status": "completed"
    },
    "tags": []
   },
   "outputs": [
    {
     "data": {
      "text/plain": [
       "(295, 4)"
      ]
     },
     "execution_count": 35,
     "metadata": {},
     "output_type": "execute_result"
    }
   ],
   "source": [
    "ensemble.shape"
   ]
  },
  {
   "cell_type": "code",
   "execution_count": 36,
   "metadata": {
    "execution": {
     "iopub.execute_input": "2021-01-12T07:17:27.604383Z",
     "iopub.status.busy": "2021-01-12T07:17:27.604010Z",
     "iopub.status.idle": "2021-01-12T07:17:27.623534Z",
     "shell.execute_reply": "2021-01-12T07:17:27.623160Z"
    },
    "papermill": {
     "duration": 0.093491,
     "end_time": "2021-01-12T07:17:27.623623",
     "exception": false,
     "start_time": "2021-01-12T07:17:27.530132",
     "status": "completed"
    },
    "tags": []
   },
   "outputs": [
    {
     "data": {
      "text/html": [
       "<div>\n",
       "<style scoped>\n",
       "    .dataframe tbody tr th:only-of-type {\n",
       "        vertical-align: middle;\n",
       "    }\n",
       "\n",
       "    .dataframe tbody tr th {\n",
       "        vertical-align: top;\n",
       "    }\n",
       "\n",
       "    .dataframe thead th {\n",
       "        text-align: right;\n",
       "    }\n",
       "</style>\n",
       "<table border=\"1\" class=\"dataframe\">\n",
       "  <thead>\n",
       "    <tr style=\"text-align: right;\">\n",
       "      <th></th>\n",
       "      <th>clusterer_params</th>\n",
       "      <th>partition</th>\n",
       "      <th>n_clusters</th>\n",
       "      <th>ch_score</th>\n",
       "    </tr>\n",
       "    <tr>\n",
       "      <th>clusterer_id</th>\n",
       "      <th></th>\n",
       "      <th></th>\n",
       "      <th></th>\n",
       "      <th></th>\n",
       "    </tr>\n",
       "  </thead>\n",
       "  <tbody>\n",
       "    <tr>\n",
       "      <th>KMeans #0</th>\n",
       "      <td>{'algorithm': 'auto', 'copy_x': True, 'init': ...</td>\n",
       "      <td>[0.0, 0.0, 0.0, 0.0, 0.0, 0.0, 0.0, 0.0, 0.0, ...</td>\n",
       "      <td>2</td>\n",
       "      <td>4641.627826</td>\n",
       "    </tr>\n",
       "    <tr>\n",
       "      <th>KMeans #1</th>\n",
       "      <td>{'algorithm': 'auto', 'copy_x': True, 'init': ...</td>\n",
       "      <td>[0.0, 0.0, 0.0, 0.0, 0.0, 0.0, 0.0, 0.0, 0.0, ...</td>\n",
       "      <td>2</td>\n",
       "      <td>4641.627826</td>\n",
       "    </tr>\n",
       "    <tr>\n",
       "      <th>KMeans #2</th>\n",
       "      <td>{'algorithm': 'auto', 'copy_x': True, 'init': ...</td>\n",
       "      <td>[0.0, 0.0, 0.0, 0.0, 0.0, 0.0, 0.0, 0.0, 0.0, ...</td>\n",
       "      <td>2</td>\n",
       "      <td>4641.627826</td>\n",
       "    </tr>\n",
       "    <tr>\n",
       "      <th>KMeans #3</th>\n",
       "      <td>{'algorithm': 'auto', 'copy_x': True, 'init': ...</td>\n",
       "      <td>[0.0, 0.0, 0.0, 0.0, 0.0, 0.0, 0.0, 0.0, 0.0, ...</td>\n",
       "      <td>2</td>\n",
       "      <td>4641.627826</td>\n",
       "    </tr>\n",
       "    <tr>\n",
       "      <th>KMeans #4</th>\n",
       "      <td>{'algorithm': 'auto', 'copy_x': True, 'init': ...</td>\n",
       "      <td>[0.0, 0.0, 0.0, 0.0, 0.0, 0.0, 0.0, 0.0, 0.0, ...</td>\n",
       "      <td>2</td>\n",
       "      <td>4641.627826</td>\n",
       "    </tr>\n",
       "  </tbody>\n",
       "</table>\n",
       "</div>"
      ],
      "text/plain": [
       "                                               clusterer_params  \\\n",
       "clusterer_id                                                      \n",
       "KMeans #0     {'algorithm': 'auto', 'copy_x': True, 'init': ...   \n",
       "KMeans #1     {'algorithm': 'auto', 'copy_x': True, 'init': ...   \n",
       "KMeans #2     {'algorithm': 'auto', 'copy_x': True, 'init': ...   \n",
       "KMeans #3     {'algorithm': 'auto', 'copy_x': True, 'init': ...   \n",
       "KMeans #4     {'algorithm': 'auto', 'copy_x': True, 'init': ...   \n",
       "\n",
       "                                                      partition  n_clusters  \\\n",
       "clusterer_id                                                                  \n",
       "KMeans #0     [0.0, 0.0, 0.0, 0.0, 0.0, 0.0, 0.0, 0.0, 0.0, ...           2   \n",
       "KMeans #1     [0.0, 0.0, 0.0, 0.0, 0.0, 0.0, 0.0, 0.0, 0.0, ...           2   \n",
       "KMeans #2     [0.0, 0.0, 0.0, 0.0, 0.0, 0.0, 0.0, 0.0, 0.0, ...           2   \n",
       "KMeans #3     [0.0, 0.0, 0.0, 0.0, 0.0, 0.0, 0.0, 0.0, 0.0, ...           2   \n",
       "KMeans #4     [0.0, 0.0, 0.0, 0.0, 0.0, 0.0, 0.0, 0.0, 0.0, ...           2   \n",
       "\n",
       "                 ch_score  \n",
       "clusterer_id               \n",
       "KMeans #0     4641.627826  \n",
       "KMeans #1     4641.627826  \n",
       "KMeans #2     4641.627826  \n",
       "KMeans #3     4641.627826  \n",
       "KMeans #4     4641.627826  "
      ]
     },
     "execution_count": 36,
     "metadata": {},
     "output_type": "execute_result"
    }
   ],
   "source": [
    "ensemble.head()"
   ]
  },
  {
   "cell_type": "markdown",
   "metadata": {
    "papermill": {
     "duration": 0.072244,
     "end_time": "2021-01-12T07:17:27.769204",
     "exception": false,
     "start_time": "2021-01-12T07:17:27.696960",
     "status": "completed"
    },
    "tags": []
   },
   "source": [
    "## Save"
   ]
  },
  {
   "cell_type": "code",
   "execution_count": 37,
   "metadata": {
    "execution": {
     "iopub.execute_input": "2021-01-12T07:17:27.916959Z",
     "iopub.status.busy": "2021-01-12T07:17:27.916509Z",
     "iopub.status.idle": "2021-01-12T07:17:27.928414Z",
     "shell.execute_reply": "2021-01-12T07:17:27.928048Z"
    },
    "papermill": {
     "duration": 0.087466,
     "end_time": "2021-01-12T07:17:27.928501",
     "exception": false,
     "start_time": "2021-01-12T07:17:27.841035",
     "status": "completed"
    },
    "tags": []
   },
   "outputs": [
    {
     "data": {
      "text/plain": [
       "PosixPath('/home/miltondp/projects/labs/greenelab/phenoplier/base3/results/clustering/runs/umap-z_score_std-projection-smultixcan-efo_partial-mashr-zscores/KMeans-KMEANS_N_INIT_10-K_MAX_60-K_MIN_2-N_REPS_PER_K_5.pkl')"
      ]
     },
     "metadata": {},
     "output_type": "display_data"
    }
   ],
   "source": [
    "output_filename = Path(\n",
    "    RESULTS_DIR,\n",
    "    generate_result_set_name(\n",
    "        CLUSTERING_OPTIONS,\n",
    "        prefix=f\"{clustering_method_name}-\",\n",
    "        suffix=\".pkl\",\n",
    "    ),\n",
    ").resolve()\n",
    "display(output_filename)"
   ]
  },
  {
   "cell_type": "code",
   "execution_count": 38,
   "metadata": {
    "execution": {
     "iopub.execute_input": "2021-01-12T07:17:28.077321Z",
     "iopub.status.busy": "2021-01-12T07:17:28.076954Z",
     "iopub.status.idle": "2021-01-12T07:17:28.098401Z",
     "shell.execute_reply": "2021-01-12T07:17:28.098706Z"
    },
    "papermill": {
     "duration": 0.097817,
     "end_time": "2021-01-12T07:17:28.098827",
     "exception": false,
     "start_time": "2021-01-12T07:17:28.001010",
     "status": "completed"
    },
    "tags": []
   },
   "outputs": [],
   "source": [
    "ensemble.to_pickle(output_filename)"
   ]
  },
  {
   "cell_type": "markdown",
   "metadata": {
    "papermill": {
     "duration": 0.071694,
     "end_time": "2021-01-12T07:17:28.244270",
     "exception": false,
     "start_time": "2021-01-12T07:17:28.172576",
     "status": "completed"
    },
    "tags": []
   },
   "source": [
    "# Cluster quality"
   ]
  },
  {
   "cell_type": "code",
   "execution_count": 39,
   "metadata": {
    "execution": {
     "iopub.execute_input": "2021-01-12T07:17:28.394962Z",
     "iopub.status.busy": "2021-01-12T07:17:28.394575Z",
     "iopub.status.idle": "2021-01-12T07:17:28.410329Z",
     "shell.execute_reply": "2021-01-12T07:17:28.410613Z"
    },
    "papermill": {
     "duration": 0.092425,
     "end_time": "2021-01-12T07:17:28.410724",
     "exception": false,
     "start_time": "2021-01-12T07:17:28.318299",
     "status": "completed"
    },
    "tags": []
   },
   "outputs": [
    {
     "data": {
      "text/html": [
       "<div>\n",
       "<style scoped>\n",
       "    .dataframe tbody tr th:only-of-type {\n",
       "        vertical-align: middle;\n",
       "    }\n",
       "\n",
       "    .dataframe tbody tr th {\n",
       "        vertical-align: top;\n",
       "    }\n",
       "\n",
       "    .dataframe thead th {\n",
       "        text-align: right;\n",
       "    }\n",
       "</style>\n",
       "<table border=\"1\" class=\"dataframe\">\n",
       "  <thead>\n",
       "    <tr style=\"text-align: right;\">\n",
       "      <th></th>\n",
       "      <th>ch_score</th>\n",
       "    </tr>\n",
       "    <tr>\n",
       "      <th>n_clusters</th>\n",
       "      <th></th>\n",
       "    </tr>\n",
       "  </thead>\n",
       "  <tbody>\n",
       "    <tr>\n",
       "      <th>2</th>\n",
       "      <td>4641.627826</td>\n",
       "    </tr>\n",
       "    <tr>\n",
       "      <th>3</th>\n",
       "      <td>3572.731943</td>\n",
       "    </tr>\n",
       "    <tr>\n",
       "      <th>4</th>\n",
       "      <td>2867.380460</td>\n",
       "    </tr>\n",
       "    <tr>\n",
       "      <th>5</th>\n",
       "      <td>2336.908511</td>\n",
       "    </tr>\n",
       "    <tr>\n",
       "      <th>6</th>\n",
       "      <td>2029.893175</td>\n",
       "    </tr>\n",
       "    <tr>\n",
       "      <th>7</th>\n",
       "      <td>1833.296008</td>\n",
       "    </tr>\n",
       "    <tr>\n",
       "      <th>8</th>\n",
       "      <td>1647.655485</td>\n",
       "    </tr>\n",
       "    <tr>\n",
       "      <th>9</th>\n",
       "      <td>1508.570532</td>\n",
       "    </tr>\n",
       "    <tr>\n",
       "      <th>10</th>\n",
       "      <td>1397.682758</td>\n",
       "    </tr>\n",
       "    <tr>\n",
       "      <th>11</th>\n",
       "      <td>1305.421906</td>\n",
       "    </tr>\n",
       "    <tr>\n",
       "      <th>12</th>\n",
       "      <td>1230.556412</td>\n",
       "    </tr>\n",
       "    <tr>\n",
       "      <th>13</th>\n",
       "      <td>1166.802034</td>\n",
       "    </tr>\n",
       "    <tr>\n",
       "      <th>14</th>\n",
       "      <td>1105.194360</td>\n",
       "    </tr>\n",
       "    <tr>\n",
       "      <th>15</th>\n",
       "      <td>1055.944321</td>\n",
       "    </tr>\n",
       "    <tr>\n",
       "      <th>16</th>\n",
       "      <td>1012.824755</td>\n",
       "    </tr>\n",
       "    <tr>\n",
       "      <th>17</th>\n",
       "      <td>972.498687</td>\n",
       "    </tr>\n",
       "    <tr>\n",
       "      <th>18</th>\n",
       "      <td>940.629783</td>\n",
       "    </tr>\n",
       "    <tr>\n",
       "      <th>19</th>\n",
       "      <td>903.543722</td>\n",
       "    </tr>\n",
       "    <tr>\n",
       "      <th>20</th>\n",
       "      <td>876.668313</td>\n",
       "    </tr>\n",
       "    <tr>\n",
       "      <th>21</th>\n",
       "      <td>847.779434</td>\n",
       "    </tr>\n",
       "    <tr>\n",
       "      <th>22</th>\n",
       "      <td>821.472994</td>\n",
       "    </tr>\n",
       "    <tr>\n",
       "      <th>23</th>\n",
       "      <td>798.633056</td>\n",
       "    </tr>\n",
       "    <tr>\n",
       "      <th>24</th>\n",
       "      <td>772.728244</td>\n",
       "    </tr>\n",
       "    <tr>\n",
       "      <th>25</th>\n",
       "      <td>754.655304</td>\n",
       "    </tr>\n",
       "    <tr>\n",
       "      <th>26</th>\n",
       "      <td>730.742642</td>\n",
       "    </tr>\n",
       "    <tr>\n",
       "      <th>27</th>\n",
       "      <td>716.686182</td>\n",
       "    </tr>\n",
       "    <tr>\n",
       "      <th>28</th>\n",
       "      <td>699.250838</td>\n",
       "    </tr>\n",
       "    <tr>\n",
       "      <th>29</th>\n",
       "      <td>682.012538</td>\n",
       "    </tr>\n",
       "    <tr>\n",
       "      <th>30</th>\n",
       "      <td>668.873679</td>\n",
       "    </tr>\n",
       "    <tr>\n",
       "      <th>31</th>\n",
       "      <td>652.921461</td>\n",
       "    </tr>\n",
       "    <tr>\n",
       "      <th>32</th>\n",
       "      <td>640.914008</td>\n",
       "    </tr>\n",
       "    <tr>\n",
       "      <th>33</th>\n",
       "      <td>629.293493</td>\n",
       "    </tr>\n",
       "    <tr>\n",
       "      <th>34</th>\n",
       "      <td>619.483894</td>\n",
       "    </tr>\n",
       "    <tr>\n",
       "      <th>35</th>\n",
       "      <td>610.221825</td>\n",
       "    </tr>\n",
       "    <tr>\n",
       "      <th>36</th>\n",
       "      <td>597.801919</td>\n",
       "    </tr>\n",
       "    <tr>\n",
       "      <th>37</th>\n",
       "      <td>586.736763</td>\n",
       "    </tr>\n",
       "    <tr>\n",
       "      <th>38</th>\n",
       "      <td>580.499440</td>\n",
       "    </tr>\n",
       "    <tr>\n",
       "      <th>39</th>\n",
       "      <td>568.027540</td>\n",
       "    </tr>\n",
       "    <tr>\n",
       "      <th>40</th>\n",
       "      <td>559.798938</td>\n",
       "    </tr>\n",
       "    <tr>\n",
       "      <th>41</th>\n",
       "      <td>553.374981</td>\n",
       "    </tr>\n",
       "    <tr>\n",
       "      <th>42</th>\n",
       "      <td>544.513884</td>\n",
       "    </tr>\n",
       "    <tr>\n",
       "      <th>43</th>\n",
       "      <td>536.664371</td>\n",
       "    </tr>\n",
       "    <tr>\n",
       "      <th>44</th>\n",
       "      <td>532.529135</td>\n",
       "    </tr>\n",
       "    <tr>\n",
       "      <th>45</th>\n",
       "      <td>523.848167</td>\n",
       "    </tr>\n",
       "    <tr>\n",
       "      <th>46</th>\n",
       "      <td>516.676564</td>\n",
       "    </tr>\n",
       "    <tr>\n",
       "      <th>47</th>\n",
       "      <td>511.762250</td>\n",
       "    </tr>\n",
       "    <tr>\n",
       "      <th>48</th>\n",
       "      <td>504.131843</td>\n",
       "    </tr>\n",
       "    <tr>\n",
       "      <th>49</th>\n",
       "      <td>499.809123</td>\n",
       "    </tr>\n",
       "    <tr>\n",
       "      <th>50</th>\n",
       "      <td>494.891364</td>\n",
       "    </tr>\n",
       "    <tr>\n",
       "      <th>51</th>\n",
       "      <td>487.388630</td>\n",
       "    </tr>\n",
       "    <tr>\n",
       "      <th>52</th>\n",
       "      <td>483.317041</td>\n",
       "    </tr>\n",
       "    <tr>\n",
       "      <th>53</th>\n",
       "      <td>477.652243</td>\n",
       "    </tr>\n",
       "    <tr>\n",
       "      <th>54</th>\n",
       "      <td>473.667299</td>\n",
       "    </tr>\n",
       "    <tr>\n",
       "      <th>55</th>\n",
       "      <td>467.926862</td>\n",
       "    </tr>\n",
       "    <tr>\n",
       "      <th>56</th>\n",
       "      <td>463.791689</td>\n",
       "    </tr>\n",
       "    <tr>\n",
       "      <th>57</th>\n",
       "      <td>457.858752</td>\n",
       "    </tr>\n",
       "    <tr>\n",
       "      <th>58</th>\n",
       "      <td>455.496473</td>\n",
       "    </tr>\n",
       "    <tr>\n",
       "      <th>59</th>\n",
       "      <td>451.430843</td>\n",
       "    </tr>\n",
       "    <tr>\n",
       "      <th>60</th>\n",
       "      <td>446.004933</td>\n",
       "    </tr>\n",
       "  </tbody>\n",
       "</table>\n",
       "</div>"
      ],
      "text/plain": [
       "               ch_score\n",
       "n_clusters             \n",
       "2           4641.627826\n",
       "3           3572.731943\n",
       "4           2867.380460\n",
       "5           2336.908511\n",
       "6           2029.893175\n",
       "7           1833.296008\n",
       "8           1647.655485\n",
       "9           1508.570532\n",
       "10          1397.682758\n",
       "11          1305.421906\n",
       "12          1230.556412\n",
       "13          1166.802034\n",
       "14          1105.194360\n",
       "15          1055.944321\n",
       "16          1012.824755\n",
       "17           972.498687\n",
       "18           940.629783\n",
       "19           903.543722\n",
       "20           876.668313\n",
       "21           847.779434\n",
       "22           821.472994\n",
       "23           798.633056\n",
       "24           772.728244\n",
       "25           754.655304\n",
       "26           730.742642\n",
       "27           716.686182\n",
       "28           699.250838\n",
       "29           682.012538\n",
       "30           668.873679\n",
       "31           652.921461\n",
       "32           640.914008\n",
       "33           629.293493\n",
       "34           619.483894\n",
       "35           610.221825\n",
       "36           597.801919\n",
       "37           586.736763\n",
       "38           580.499440\n",
       "39           568.027540\n",
       "40           559.798938\n",
       "41           553.374981\n",
       "42           544.513884\n",
       "43           536.664371\n",
       "44           532.529135\n",
       "45           523.848167\n",
       "46           516.676564\n",
       "47           511.762250\n",
       "48           504.131843\n",
       "49           499.809123\n",
       "50           494.891364\n",
       "51           487.388630\n",
       "52           483.317041\n",
       "53           477.652243\n",
       "54           473.667299\n",
       "55           467.926862\n",
       "56           463.791689\n",
       "57           457.858752\n",
       "58           455.496473\n",
       "59           451.430843\n",
       "60           446.004933"
      ]
     },
     "metadata": {},
     "output_type": "display_data"
    }
   ],
   "source": [
    "with pd.option_context(\"display.max_rows\", None, \"display.max_columns\", None):\n",
    "    _df = ensemble.groupby([\"n_clusters\"]).mean()\n",
    "    display(_df)"
   ]
  },
  {
   "cell_type": "code",
   "execution_count": 40,
   "metadata": {
    "execution": {
     "iopub.execute_input": "2021-01-12T07:17:28.562193Z",
     "iopub.status.busy": "2021-01-12T07:17:28.561820Z",
     "iopub.status.idle": "2021-01-12T07:17:31.407876Z",
     "shell.execute_reply": "2021-01-12T07:17:31.408180Z"
    },
    "papermill": {
     "duration": 2.92409,
     "end_time": "2021-01-12T07:17:31.408289",
     "exception": false,
     "start_time": "2021-01-12T07:17:28.484199",
     "status": "completed"
    },
    "tags": []
   },
   "outputs": [
    {
     "data": {
      "image/png": "[encoded data removed]",
      "text/plain": [
       "<Figure size 1008x432 with 1 Axes>"
      ]
     },
     "metadata": {},
     "output_type": "display_data"
    }
   ],
   "source": [
    "with sns.plotting_context(\"talk\", font_scale=0.75), sns.axes_style(\n",
    "    \"whitegrid\", {\"grid.linestyle\": \"--\"}\n",
    "):\n",
    "    fig = plt.figure(figsize=(14, 6))\n",
    "    ax = sns.pointplot(data=ensemble, x=\"n_clusters\", y=\"ch_score\")\n",
    "    ax.set_ylabel(\"Calinski-Harabasz index\")\n",
    "    ax.set_xlabel(\"Number of clusters ($k$)\")\n",
    "    ax.set_xticklabels(ax.get_xticklabels(), rotation=45)\n",
    "    plt.grid(True)\n",
    "    plt.tight_layout()"
   ]
  },
  {
   "cell_type": "markdown",
   "metadata": {
    "papermill": {
     "duration": 0.074576,
     "end_time": "2021-01-12T07:17:31.557359",
     "exception": false,
     "start_time": "2021-01-12T07:17:31.482783",
     "status": "completed"
    },
    "tags": []
   },
   "source": [
    "# Stability"
   ]
  },
  {
   "cell_type": "markdown",
   "metadata": {
    "papermill": {
     "duration": 0.074464,
     "end_time": "2021-01-12T07:17:31.705738",
     "exception": false,
     "start_time": "2021-01-12T07:17:31.631274",
     "status": "completed"
    },
    "tags": []
   },
   "source": [
    "## Group ensemble by n_clusters"
   ]
  },
  {
   "cell_type": "code",
   "execution_count": 41,
   "metadata": {
    "execution": {
     "iopub.execute_input": "2021-01-12T07:17:31.859827Z",
     "iopub.status.busy": "2021-01-12T07:17:31.859443Z",
     "iopub.status.idle": "2021-01-12T07:17:31.887020Z",
     "shell.execute_reply": "2021-01-12T07:17:31.886534Z"
    },
    "papermill": {
     "duration": 0.105797,
     "end_time": "2021-01-12T07:17:31.887108",
     "exception": false,
     "start_time": "2021-01-12T07:17:31.781311",
     "status": "completed"
    },
    "tags": []
   },
   "outputs": [],
   "source": [
    "parts = ensemble.groupby(\"n_clusters\").apply(\n",
    "    lambda x: np.concatenate(x[\"partition\"].apply(lambda x: x.reshape(1, -1)), axis=0)\n",
    ")"
   ]
  },
  {
   "cell_type": "code",
   "execution_count": 42,
   "metadata": {
    "execution": {
     "iopub.execute_input": "2021-01-12T07:17:32.039014Z",
     "iopub.status.busy": "2021-01-12T07:17:32.038613Z",
     "iopub.status.idle": "2021-01-12T07:17:32.061899Z",
     "shell.execute_reply": "2021-01-12T07:17:32.061520Z"
    },
    "papermill": {
     "duration": 0.100305,
     "end_time": "2021-01-12T07:17:32.061989",
     "exception": false,
     "start_time": "2021-01-12T07:17:31.961684",
     "status": "completed"
    },
    "tags": []
   },
   "outputs": [
    {
     "data": {
      "text/plain": [
       "n_clusters\n",
       "2    [[0.0, 0.0, 0.0, 0.0, 0.0, 0.0, 0.0, 0.0, 0.0,...\n",
       "3    [[0.0, 0.0, 0.0, 0.0, 0.0, 0.0, 0.0, 0.0, 0.0,...\n",
       "4    [[0.0, 0.0, 0.0, 0.0, 0.0, 0.0, 0.0, 0.0, 0.0,...\n",
       "5    [[0.0, 0.0, 0.0, 0.0, 0.0, 0.0, 0.0, 0.0, 0.0,...\n",
       "6    [[1.0, 1.0, 1.0, 1.0, 1.0, 1.0, 1.0, 1.0, 1.0,...\n",
       "dtype: object"
      ]
     },
     "execution_count": 42,
     "metadata": {},
     "output_type": "execute_result"
    }
   ],
   "source": [
    "parts.head()"
   ]
  },
  {
   "cell_type": "code",
   "execution_count": 43,
   "metadata": {
    "execution": {
     "iopub.execute_input": "2021-01-12T07:17:32.215217Z",
     "iopub.status.busy": "2021-01-12T07:17:32.214851Z",
     "iopub.status.idle": "2021-01-12T07:17:32.226309Z",
     "shell.execute_reply": "2021-01-12T07:17:32.225928Z"
    },
    "papermill": {
     "duration": 0.08883,
     "end_time": "2021-01-12T07:17:32.226400",
     "exception": false,
     "start_time": "2021-01-12T07:17:32.137570",
     "status": "completed"
    },
    "tags": []
   },
   "outputs": [],
   "source": [
    "assert np.all(\n",
    "    [\n",
    "        parts.loc[k].shape == (CLUSTERING_OPTIONS[\"N_REPS_PER_K\"], data.shape[0])\n",
    "        for k in parts.index\n",
    "    ]\n",
    ")"
   ]
  },
  {
   "cell_type": "markdown",
   "metadata": {
    "papermill": {
     "duration": 0.075089,
     "end_time": "2021-01-12T07:17:32.376057",
     "exception": false,
     "start_time": "2021-01-12T07:17:32.300968",
     "status": "completed"
    },
    "tags": []
   },
   "source": [
    "## Compute stability"
   ]
  },
  {
   "cell_type": "code",
   "execution_count": 44,
   "metadata": {
    "execution": {
     "iopub.execute_input": "2021-01-12T07:17:32.527506Z",
     "iopub.status.busy": "2021-01-12T07:17:32.527142Z",
     "iopub.status.idle": "2021-01-12T07:17:32.537597Z",
     "shell.execute_reply": "2021-01-12T07:17:32.537891Z"
    },
    "papermill": {
     "duration": 0.087461,
     "end_time": "2021-01-12T07:17:32.537998",
     "exception": false,
     "start_time": "2021-01-12T07:17:32.450537",
     "status": "completed"
    },
    "tags": []
   },
   "outputs": [],
   "source": [
    "from sklearn.metrics import adjusted_rand_score as ari\n",
    "from scipy.spatial.distance import pdist"
   ]
  },
  {
   "cell_type": "code",
   "execution_count": 45,
   "metadata": {
    "execution": {
     "iopub.execute_input": "2021-01-12T07:17:32.690423Z",
     "iopub.status.busy": "2021-01-12T07:17:32.690055Z",
     "iopub.status.idle": "2021-01-12T07:17:33.375983Z",
     "shell.execute_reply": "2021-01-12T07:17:33.375612Z"
    },
    "papermill": {
     "duration": 0.763043,
     "end_time": "2021-01-12T07:17:33.376067",
     "exception": false,
     "start_time": "2021-01-12T07:17:32.613024",
     "status": "completed"
    },
    "tags": []
   },
   "outputs": [],
   "source": [
    "parts_ari = pd.Series(\n",
    "    {k: pdist(parts.loc[k], metric=ari) for k in parts.index}, name=\"k\"\n",
    ")"
   ]
  },
  {
   "cell_type": "code",
   "execution_count": 46,
   "metadata": {
    "execution": {
     "iopub.execute_input": "2021-01-12T07:17:33.527900Z",
     "iopub.status.busy": "2021-01-12T07:17:33.527520Z",
     "iopub.status.idle": "2021-01-12T07:17:33.540553Z",
     "shell.execute_reply": "2021-01-12T07:17:33.540178Z"
    },
    "papermill": {
     "duration": 0.090311,
     "end_time": "2021-01-12T07:17:33.540655",
     "exception": false,
     "start_time": "2021-01-12T07:17:33.450344",
     "status": "completed"
    },
    "tags": []
   },
   "outputs": [
    {
     "data": {
      "text/plain": [
       "2     1.000000\n",
       "3     1.000000\n",
       "4     1.000000\n",
       "9     0.712817\n",
       "13    0.627578\n",
       "8     0.626027\n",
       "10    0.620225\n",
       "5     0.592991\n",
       "23    0.556429\n",
       "12    0.542345\n",
       "18    0.531337\n",
       "11    0.520030\n",
       "21    0.518118\n",
       "59    0.515677\n",
       "24    0.511090\n",
       "Name: k, dtype: float64"
      ]
     },
     "metadata": {},
     "output_type": "display_data"
    }
   ],
   "source": [
    "parts_ari_stability = parts_ari.apply(lambda x: x.mean())\n",
    "display(parts_ari_stability.sort_values(ascending=False).head(15))"
   ]
  },
  {
   "cell_type": "code",
   "execution_count": 47,
   "metadata": {
    "execution": {
     "iopub.execute_input": "2021-01-12T07:17:33.695047Z",
     "iopub.status.busy": "2021-01-12T07:17:33.694665Z",
     "iopub.status.idle": "2021-01-12T07:17:33.707080Z",
     "shell.execute_reply": "2021-01-12T07:17:33.706734Z"
    },
    "papermill": {
     "duration": 0.090306,
     "end_time": "2021-01-12T07:17:33.707170",
     "exception": false,
     "start_time": "2021-01-12T07:17:33.616864",
     "status": "completed"
    },
    "tags": []
   },
   "outputs": [],
   "source": [
    "parts_ari_df = pd.DataFrame.from_records(parts_ari.tolist()).set_index(\n",
    "    parts_ari.index.copy()\n",
    ")"
   ]
  },
  {
   "cell_type": "code",
   "execution_count": 48,
   "metadata": {
    "execution": {
     "iopub.execute_input": "2021-01-12T07:17:33.862185Z",
     "iopub.status.busy": "2021-01-12T07:17:33.861826Z",
     "iopub.status.idle": "2021-01-12T07:17:33.874504Z",
     "shell.execute_reply": "2021-01-12T07:17:33.873979Z"
    },
    "papermill": {
     "duration": 0.091119,
     "end_time": "2021-01-12T07:17:33.874592",
     "exception": false,
     "start_time": "2021-01-12T07:17:33.783473",
     "status": "completed"
    },
    "tags": []
   },
   "outputs": [
    {
     "data": {
      "text/plain": [
       "(59, 10)"
      ]
     },
     "execution_count": 48,
     "metadata": {},
     "output_type": "execute_result"
    }
   ],
   "source": [
    "parts_ari_df.shape"
   ]
  },
  {
   "cell_type": "code",
   "execution_count": 49,
   "metadata": {
    "execution": {
     "iopub.execute_input": "2021-01-12T07:17:34.028097Z",
     "iopub.status.busy": "2021-01-12T07:17:34.027714Z",
     "iopub.status.idle": "2021-01-12T07:17:34.038682Z",
     "shell.execute_reply": "2021-01-12T07:17:34.038301Z"
    },
    "papermill": {
     "duration": 0.089032,
     "end_time": "2021-01-12T07:17:34.038772",
     "exception": false,
     "start_time": "2021-01-12T07:17:33.949740",
     "status": "completed"
    },
    "tags": []
   },
   "outputs": [],
   "source": [
    "assert (\n",
    "    int(\n",
    "        (CLUSTERING_OPTIONS[\"N_REPS_PER_K\"] * (CLUSTERING_OPTIONS[\"N_REPS_PER_K\"] - 1))\n",
    "        / 2\n",
    "    )\n",
    "    == parts_ari_df.shape[1]\n",
    ")"
   ]
  },
  {
   "cell_type": "code",
   "execution_count": 50,
   "metadata": {
    "execution": {
     "iopub.execute_input": "2021-01-12T07:17:34.193025Z",
     "iopub.status.busy": "2021-01-12T07:17:34.192624Z",
     "iopub.status.idle": "2021-01-12T07:17:34.209628Z",
     "shell.execute_reply": "2021-01-12T07:17:34.209253Z"
    },
    "papermill": {
     "duration": 0.094703,
     "end_time": "2021-01-12T07:17:34.209717",
     "exception": false,
     "start_time": "2021-01-12T07:17:34.115014",
     "status": "completed"
    },
    "tags": []
   },
   "outputs": [
    {
     "data": {
      "text/html": [
       "<div>\n",
       "<style scoped>\n",
       "    .dataframe tbody tr th:only-of-type {\n",
       "        vertical-align: middle;\n",
       "    }\n",
       "\n",
       "    .dataframe tbody tr th {\n",
       "        vertical-align: top;\n",
       "    }\n",
       "\n",
       "    .dataframe thead th {\n",
       "        text-align: right;\n",
       "    }\n",
       "</style>\n",
       "<table border=\"1\" class=\"dataframe\">\n",
       "  <thead>\n",
       "    <tr style=\"text-align: right;\">\n",
       "      <th></th>\n",
       "      <th>0</th>\n",
       "      <th>1</th>\n",
       "      <th>2</th>\n",
       "      <th>3</th>\n",
       "      <th>4</th>\n",
       "      <th>5</th>\n",
       "      <th>6</th>\n",
       "      <th>7</th>\n",
       "      <th>8</th>\n",
       "      <th>9</th>\n",
       "    </tr>\n",
       "  </thead>\n",
       "  <tbody>\n",
       "    <tr>\n",
       "      <th>2</th>\n",
       "      <td>1.000000</td>\n",
       "      <td>1.000000</td>\n",
       "      <td>1.000000</td>\n",
       "      <td>1.000000</td>\n",
       "      <td>1.000000</td>\n",
       "      <td>1.000000</td>\n",
       "      <td>1.000000</td>\n",
       "      <td>1.000000</td>\n",
       "      <td>1.000000</td>\n",
       "      <td>1.000000</td>\n",
       "    </tr>\n",
       "    <tr>\n",
       "      <th>3</th>\n",
       "      <td>1.000000</td>\n",
       "      <td>1.000000</td>\n",
       "      <td>1.000000</td>\n",
       "      <td>1.000000</td>\n",
       "      <td>1.000000</td>\n",
       "      <td>1.000000</td>\n",
       "      <td>1.000000</td>\n",
       "      <td>1.000000</td>\n",
       "      <td>1.000000</td>\n",
       "      <td>1.000000</td>\n",
       "    </tr>\n",
       "    <tr>\n",
       "      <th>4</th>\n",
       "      <td>1.000000</td>\n",
       "      <td>1.000000</td>\n",
       "      <td>1.000000</td>\n",
       "      <td>1.000000</td>\n",
       "      <td>1.000000</td>\n",
       "      <td>1.000000</td>\n",
       "      <td>1.000000</td>\n",
       "      <td>1.000000</td>\n",
       "      <td>1.000000</td>\n",
       "      <td>1.000000</td>\n",
       "    </tr>\n",
       "    <tr>\n",
       "      <th>5</th>\n",
       "      <td>0.270753</td>\n",
       "      <td>1.000000</td>\n",
       "      <td>0.594495</td>\n",
       "      <td>1.000000</td>\n",
       "      <td>0.270753</td>\n",
       "      <td>0.334166</td>\n",
       "      <td>0.270753</td>\n",
       "      <td>0.594495</td>\n",
       "      <td>1.000000</td>\n",
       "      <td>0.594495</td>\n",
       "    </tr>\n",
       "    <tr>\n",
       "      <th>6</th>\n",
       "      <td>0.252984</td>\n",
       "      <td>0.273092</td>\n",
       "      <td>0.250034</td>\n",
       "      <td>0.425033</td>\n",
       "      <td>0.257348</td>\n",
       "      <td>0.303169</td>\n",
       "      <td>0.530985</td>\n",
       "      <td>0.635131</td>\n",
       "      <td>0.229331</td>\n",
       "      <td>0.226609</td>\n",
       "    </tr>\n",
       "  </tbody>\n",
       "</table>\n",
       "</div>"
      ],
      "text/plain": [
       "          0         1         2         3         4         5         6  \\\n",
       "2  1.000000  1.000000  1.000000  1.000000  1.000000  1.000000  1.000000   \n",
       "3  1.000000  1.000000  1.000000  1.000000  1.000000  1.000000  1.000000   \n",
       "4  1.000000  1.000000  1.000000  1.000000  1.000000  1.000000  1.000000   \n",
       "5  0.270753  1.000000  0.594495  1.000000  0.270753  0.334166  0.270753   \n",
       "6  0.252984  0.273092  0.250034  0.425033  0.257348  0.303169  0.530985   \n",
       "\n",
       "          7         8         9  \n",
       "2  1.000000  1.000000  1.000000  \n",
       "3  1.000000  1.000000  1.000000  \n",
       "4  1.000000  1.000000  1.000000  \n",
       "5  0.594495  1.000000  0.594495  \n",
       "6  0.635131  0.229331  0.226609  "
      ]
     },
     "execution_count": 50,
     "metadata": {},
     "output_type": "execute_result"
    }
   ],
   "source": [
    "parts_ari_df.head()"
   ]
  },
  {
   "cell_type": "markdown",
   "metadata": {
    "papermill": {
     "duration": 0.076662,
     "end_time": "2021-01-12T07:17:34.362429",
     "exception": false,
     "start_time": "2021-01-12T07:17:34.285767",
     "status": "completed"
    },
    "tags": []
   },
   "source": [
    "## Save"
   ]
  },
  {
   "cell_type": "code",
   "execution_count": 51,
   "metadata": {
    "execution": {
     "iopub.execute_input": "2021-01-12T07:17:34.516581Z",
     "iopub.status.busy": "2021-01-12T07:17:34.516219Z",
     "iopub.status.idle": "2021-01-12T07:17:34.528125Z",
     "shell.execute_reply": "2021-01-12T07:17:34.527755Z"
    },
    "papermill": {
     "duration": 0.090627,
     "end_time": "2021-01-12T07:17:34.528214",
     "exception": false,
     "start_time": "2021-01-12T07:17:34.437587",
     "status": "completed"
    },
    "tags": []
   },
   "outputs": [
    {
     "data": {
      "text/plain": [
       "PosixPath('/home/miltondp/projects/labs/greenelab/phenoplier/base3/results/clustering/runs/umap-z_score_std-projection-smultixcan-efo_partial-mashr-zscores/KMeans-stability-KMEANS_N_INIT_10-K_MAX_60-K_MIN_2-N_REPS_PER_K_5.pkl')"
      ]
     },
     "metadata": {},
     "output_type": "display_data"
    }
   ],
   "source": [
    "output_filename = Path(\n",
    "    RESULTS_DIR,\n",
    "    generate_result_set_name(\n",
    "        CLUSTERING_OPTIONS,\n",
    "        prefix=f\"{clustering_method_name}-stability-\",\n",
    "        suffix=\".pkl\",\n",
    "    ),\n",
    ").resolve()\n",
    "display(output_filename)"
   ]
  },
  {
   "cell_type": "code",
   "execution_count": 52,
   "metadata": {
    "execution": {
     "iopub.execute_input": "2021-01-12T07:17:34.682902Z",
     "iopub.status.busy": "2021-01-12T07:17:34.682539Z",
     "iopub.status.idle": "2021-01-12T07:17:34.693567Z",
     "shell.execute_reply": "2021-01-12T07:17:34.693264Z"
    },
    "papermill": {
     "duration": 0.089569,
     "end_time": "2021-01-12T07:17:34.693656",
     "exception": false,
     "start_time": "2021-01-12T07:17:34.604087",
     "status": "completed"
    },
    "tags": []
   },
   "outputs": [],
   "source": [
    "parts_ari_df.to_pickle(output_filename)"
   ]
  },
  {
   "cell_type": "markdown",
   "metadata": {
    "papermill": {
     "duration": 0.07478,
     "end_time": "2021-01-12T07:17:34.844194",
     "exception": false,
     "start_time": "2021-01-12T07:17:34.769414",
     "status": "completed"
    },
    "tags": []
   },
   "source": [
    "## Stability plot"
   ]
  },
  {
   "cell_type": "code",
   "execution_count": 53,
   "metadata": {
    "execution": {
     "iopub.execute_input": "2021-01-12T07:17:34.996571Z",
     "iopub.status.busy": "2021-01-12T07:17:34.996204Z",
     "iopub.status.idle": "2021-01-12T07:17:35.008725Z",
     "shell.execute_reply": "2021-01-12T07:17:35.008320Z"
    },
    "papermill": {
     "duration": 0.089638,
     "end_time": "2021-01-12T07:17:35.008852",
     "exception": false,
     "start_time": "2021-01-12T07:17:34.919214",
     "status": "completed"
    },
    "tags": []
   },
   "outputs": [],
   "source": [
    "parts_ari_df_plot = (\n",
    "    parts_ari_df.stack()\n",
    "    .reset_index()\n",
    "    .rename(columns={\"level_0\": \"k\", \"level_1\": \"idx\", 0: \"ari\"})\n",
    ")"
   ]
  },
  {
   "cell_type": "code",
   "execution_count": 54,
   "metadata": {
    "execution": {
     "iopub.execute_input": "2021-01-12T07:17:35.162226Z",
     "iopub.status.busy": "2021-01-12T07:17:35.161859Z",
     "iopub.status.idle": "2021-01-12T07:17:35.174552Z",
     "shell.execute_reply": "2021-01-12T07:17:35.174179Z"
    },
    "papermill": {
     "duration": 0.089972,
     "end_time": "2021-01-12T07:17:35.174640",
     "exception": false,
     "start_time": "2021-01-12T07:17:35.084668",
     "status": "completed"
    },
    "tags": []
   },
   "outputs": [
    {
     "data": {
      "text/plain": [
       "k        int64\n",
       "idx      int64\n",
       "ari    float64\n",
       "dtype: object"
      ]
     },
     "execution_count": 54,
     "metadata": {},
     "output_type": "execute_result"
    }
   ],
   "source": [
    "parts_ari_df_plot.dtypes"
   ]
  },
  {
   "cell_type": "code",
   "execution_count": 55,
   "metadata": {
    "execution": {
     "iopub.execute_input": "2021-01-12T07:17:35.327859Z",
     "iopub.status.busy": "2021-01-12T07:17:35.327499Z",
     "iopub.status.idle": "2021-01-12T07:17:35.341384Z",
     "shell.execute_reply": "2021-01-12T07:17:35.341008Z"
    },
    "papermill": {
     "duration": 0.091772,
     "end_time": "2021-01-12T07:17:35.341472",
     "exception": false,
     "start_time": "2021-01-12T07:17:35.249700",
     "status": "completed"
    },
    "tags": []
   },
   "outputs": [
    {
     "data": {
      "text/html": [
       "<div>\n",
       "<style scoped>\n",
       "    .dataframe tbody tr th:only-of-type {\n",
       "        vertical-align: middle;\n",
       "    }\n",
       "\n",
       "    .dataframe tbody tr th {\n",
       "        vertical-align: top;\n",
       "    }\n",
       "\n",
       "    .dataframe thead th {\n",
       "        text-align: right;\n",
       "    }\n",
       "</style>\n",
       "<table border=\"1\" class=\"dataframe\">\n",
       "  <thead>\n",
       "    <tr style=\"text-align: right;\">\n",
       "      <th></th>\n",
       "      <th>k</th>\n",
       "      <th>idx</th>\n",
       "      <th>ari</th>\n",
       "    </tr>\n",
       "  </thead>\n",
       "  <tbody>\n",
       "    <tr>\n",
       "      <th>0</th>\n",
       "      <td>2</td>\n",
       "      <td>0</td>\n",
       "      <td>1.0</td>\n",
       "    </tr>\n",
       "    <tr>\n",
       "      <th>1</th>\n",
       "      <td>2</td>\n",
       "      <td>1</td>\n",
       "      <td>1.0</td>\n",
       "    </tr>\n",
       "    <tr>\n",
       "      <th>2</th>\n",
       "      <td>2</td>\n",
       "      <td>2</td>\n",
       "      <td>1.0</td>\n",
       "    </tr>\n",
       "    <tr>\n",
       "      <th>3</th>\n",
       "      <td>2</td>\n",
       "      <td>3</td>\n",
       "      <td>1.0</td>\n",
       "    </tr>\n",
       "    <tr>\n",
       "      <th>4</th>\n",
       "      <td>2</td>\n",
       "      <td>4</td>\n",
       "      <td>1.0</td>\n",
       "    </tr>\n",
       "  </tbody>\n",
       "</table>\n",
       "</div>"
      ],
      "text/plain": [
       "   k  idx  ari\n",
       "0  2    0  1.0\n",
       "1  2    1  1.0\n",
       "2  2    2  1.0\n",
       "3  2    3  1.0\n",
       "4  2    4  1.0"
      ]
     },
     "execution_count": 55,
     "metadata": {},
     "output_type": "execute_result"
    }
   ],
   "source": [
    "parts_ari_df_plot.head()"
   ]
  },
  {
   "cell_type": "code",
   "execution_count": 56,
   "metadata": {
    "execution": {
     "iopub.execute_input": "2021-01-12T07:17:35.496943Z",
     "iopub.status.busy": "2021-01-12T07:17:35.496484Z",
     "iopub.status.idle": "2021-01-12T07:17:38.121074Z",
     "shell.execute_reply": "2021-01-12T07:17:38.120676Z"
    },
    "papermill": {
     "duration": 2.703166,
     "end_time": "2021-01-12T07:17:38.121167",
     "exception": false,
     "start_time": "2021-01-12T07:17:35.418001",
     "status": "completed"
    },
    "tags": []
   },
   "outputs": [
    {
     "data": {
      "image/png": "[encoded data removed]",
      "text/plain": [
       "<Figure size 1008x432 with 1 Axes>"
      ]
     },
     "metadata": {},
     "output_type": "display_data"
    }
   ],
   "source": [
    "# with sns.axes_style('whitegrid', {'grid.linestyle': '--'}):\n",
    "with sns.plotting_context(\"talk\", font_scale=0.75), sns.axes_style(\n",
    "    \"whitegrid\", {\"grid.linestyle\": \"--\"}\n",
    "):\n",
    "    fig = plt.figure(figsize=(14, 6))\n",
    "    ax = sns.pointplot(data=parts_ari_df_plot, x=\"k\", y=\"ari\")\n",
    "    ax.set_ylabel(\"Averange ARI\")\n",
    "    ax.set_xlabel(\"Number of clusters ($k$)\")\n",
    "    ax.set_xticklabels(ax.get_xticklabels(), rotation=45)\n",
    "    #     ax.set_ylim(0.0, 1.0)\n",
    "    #     ax.set_xlim(CLUSTERING_OPTIONS['K_MIN'], CLUSTERING_OPTIONS['K_MAX'])\n",
    "    plt.grid(True)\n",
    "    plt.tight_layout()"
   ]
  },
  {
   "cell_type": "code",
   "execution_count": null,
   "metadata": {
    "papermill": {
     "duration": 0.076815,
     "end_time": "2021-01-12T07:17:38.276006",
     "exception": false,
     "start_time": "2021-01-12T07:17:38.199191",
     "status": "completed"
    },
    "tags": []
   },
   "outputs": [],
   "source": []
  }
 ],
 "metadata": {
  "jupytext": {
   "cell_metadata_filter": "all,-execution,-papermill",
   "formats": "ipynb,py//py:percent"
  },
  "kernelspec": {
   "display_name": "Python 3",
   "language": "python",
   "name": "python3"
  },
  "language_info": {
   "codemirror_mode": {
    "name": "ipython",
    "version": 3
   },
   "file_extension": ".py",
   "mimetype": "text/x-python",
   "name": "python",
   "nbconvert_exporter": "python",
   "pygments_lexer": "ipython3",
   "version": "3.8.6"
  },
  "papermill": {
   "default_parameters": {},
   "duration": 390.743029,
   "end_time": "2021-01-12T07:17:38.760771",
   "environment_variables": {},
   "exception": null,
   "input_path": "15_cluster_analysis/000_02-kmeans-umap.ipynb",
   "output_path": "15_cluster_analysis/000_02-kmeans-umap.run.ipynb",
   "parameters": {},
   "start_time": "2021-01-12T07:11:08.017742",
   "version": "2.2.2"
  },
  "toc-autonumbering": true,
  "toc-showcode": false,
  "toc-showmarkdowntxt": false,
  "toc-showtags": false
 },
 "nbformat": 4,
 "nbformat_minor": 4
}
