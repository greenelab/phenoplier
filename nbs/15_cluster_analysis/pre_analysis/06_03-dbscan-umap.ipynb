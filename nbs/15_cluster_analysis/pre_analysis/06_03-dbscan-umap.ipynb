{
 "cells": [
  {
   "cell_type": "markdown",
   "metadata": {
    "papermill": {
     "duration": 0.028095,
     "end_time": "2021-02-22T21:55:20.729616",
     "exception": false,
     "start_time": "2021-02-22T21:55:20.701521",
     "status": "completed"
    },
    "tags": []
   },
   "source": [
    "# Description"
   ]
  },
  {
   "cell_type": "markdown",
   "metadata": {
    "papermill": {
     "duration": 0.026662,
     "end_time": "2021-01-12T05:47:00.740412",
     "exception": false,
     "start_time": "2021-01-12T05:47:00.713750",
     "status": "completed"
    },
    "tags": []
   },
   "source": [
    "This notebook runs some pre-analyses using DBSCAN to explore the best set of parameters (`min_samples` and `eps`) to cluster `umap` data version."
   ]
  },
  {
   "cell_type": "markdown",
   "metadata": {
    "papermill": {
     "duration": 0.016021,
     "end_time": "2021-02-22T21:55:20.793707",
     "exception": false,
     "start_time": "2021-02-22T21:55:20.777686",
     "status": "completed"
    },
    "tags": []
   },
   "source": [
    "# Environment variables"
   ]
  },
  {
   "cell_type": "code",
   "execution_count": 1,
   "metadata": {
    "papermill": {
     "duration": 0.029754,
     "end_time": "2021-02-22T21:55:20.839379",
     "exception": false,
     "start_time": "2021-02-22T21:55:20.809625",
     "status": "completed"
    },
    "tags": []
   },
   "outputs": [
    {
     "data": {
      "text/plain": [
       "4"
      ]
     },
     "metadata": {},
     "output_type": "display_data"
    }
   ],
   "source": [
    "from IPython.display import display\n",
    "\n",
    "import conf\n",
    "\n",
    "N_JOBS = conf.GENERAL[\"N_JOBS\"]\n",
    "display(N_JOBS)"
   ]
  },
  {
   "cell_type": "code",
   "execution_count": 2,
   "metadata": {
    "papermill": {
     "duration": 0.023522,
     "end_time": "2021-02-22T21:55:20.879328",
     "exception": false,
     "start_time": "2021-02-22T21:55:20.855806",
     "status": "completed"
    },
    "tags": []
   },
   "outputs": [
    {
     "name": "stdout",
     "output_type": "stream",
     "text": [
      "env: MKL_NUM_THREADS=4\n",
      "env: OPEN_BLAS_NUM_THREADS=4\n",
      "env: NUMEXPR_NUM_THREADS=4\n",
      "env: OMP_NUM_THREADS=4\n"
     ]
    }
   ],
   "source": [
    "%env MKL_NUM_THREADS=$N_JOBS\n",
    "%env OPEN_BLAS_NUM_THREADS=$N_JOBS\n",
    "%env NUMEXPR_NUM_THREADS=$N_JOBS\n",
    "%env OMP_NUM_THREADS=$N_JOBS"
   ]
  },
  {
   "cell_type": "markdown",
   "metadata": {
    "papermill": {
     "duration": 0.017922,
     "end_time": "2021-02-22T21:55:20.913989",
     "exception": false,
     "start_time": "2021-02-22T21:55:20.896067",
     "status": "completed"
    },
    "tags": []
   },
   "source": [
    "# Modules loading"
   ]
  },
  {
   "cell_type": "code",
   "execution_count": 3,
   "metadata": {
    "papermill": {
     "duration": 0.027294,
     "end_time": "2021-02-22T21:55:20.958822",
     "exception": false,
     "start_time": "2021-02-22T21:55:20.931528",
     "status": "completed"
    },
    "tags": []
   },
   "outputs": [],
   "source": [
    "%load_ext autoreload\n",
    "%autoreload 2"
   ]
  },
  {
   "cell_type": "code",
   "execution_count": 4,
   "metadata": {
    "papermill": {
     "duration": 0.695284,
     "end_time": "2021-02-22T21:55:21.671323",
     "exception": false,
     "start_time": "2021-02-22T21:55:20.976039",
     "status": "completed"
    },
    "tags": []
   },
   "outputs": [],
   "source": [
    "from pathlib import Path\n",
    "\n",
    "import numpy as np\n",
    "import pandas as pd\n",
    "from sklearn.neighbors import NearestNeighbors\n",
    "from sklearn.metrics import pairwise_distances\n",
    "from sklearn.cluster import DBSCAN\n",
    "from sklearn.metrics import (\n",
    "    silhouette_score,\n",
    "    calinski_harabasz_score,\n",
    "    davies_bouldin_score,\n",
    ")\n",
    "import matplotlib.pyplot as plt\n",
    "import seaborn as sns\n",
    "\n",
    "from utils import generate_result_set_name\n",
    "from clustering.ensembles.utils import generate_ensemble"
   ]
  },
  {
   "cell_type": "markdown",
   "metadata": {
    "papermill": {
     "duration": 0.01632,
     "end_time": "2021-02-22T21:55:21.704381",
     "exception": false,
     "start_time": "2021-02-22T21:55:21.688061",
     "status": "completed"
    },
    "tags": []
   },
   "source": [
    "# Global settings"
   ]
  },
  {
   "cell_type": "code",
   "execution_count": 5,
   "metadata": {
    "papermill": {
     "duration": 0.029934,
     "end_time": "2021-02-22T21:55:21.750478",
     "exception": false,
     "start_time": "2021-02-22T21:55:21.720544",
     "status": "completed"
    },
    "tags": []
   },
   "outputs": [],
   "source": [
    "np.random.seed(0)"
   ]
  },
  {
   "cell_type": "code",
   "execution_count": 6,
   "metadata": {
    "papermill": {
     "duration": 0.029195,
     "end_time": "2021-02-22T21:55:21.796537",
     "exception": false,
     "start_time": "2021-02-22T21:55:21.767342",
     "status": "completed"
    },
    "tags": []
   },
   "outputs": [],
   "source": [
    "CLUSTERING_ATTRIBUTES_TO_SAVE = [\"n_clusters\"]"
   ]
  },
  {
   "cell_type": "markdown",
   "metadata": {
    "papermill": {
     "duration": 0.016051,
     "end_time": "2021-02-22T21:55:21.829097",
     "exception": false,
     "start_time": "2021-02-22T21:55:21.813046",
     "status": "completed"
    },
    "tags": []
   },
   "source": [
    "# Data version: umap"
   ]
  },
  {
   "cell_type": "code",
   "execution_count": 7,
   "metadata": {
    "papermill": {
     "duration": 0.038219,
     "end_time": "2021-01-12T06:27:23.313397",
     "exception": false,
     "start_time": "2021-01-12T06:27:23.275178",
     "status": "completed"
    },
    "tags": []
   },
   "outputs": [],
   "source": [
    "INPUT_SUBSET = \"umap\""
   ]
  },
  {
   "cell_type": "code",
   "execution_count": 8,
   "metadata": {
    "papermill": {
     "duration": 0.038481,
     "end_time": "2021-01-12T06:27:23.377024",
     "exception": false,
     "start_time": "2021-01-12T06:27:23.338543",
     "status": "completed"
    },
    "tags": []
   },
   "outputs": [],
   "source": [
    "INPUT_STEM = \"z_score_std-projection-smultixcan-efo_partial-mashr-zscores\""
   ]
  },
  {
   "cell_type": "code",
   "execution_count": 9,
   "metadata": {
    "papermill": {
     "duration": 0.038926,
     "end_time": "2021-01-12T06:27:23.440818",
     "exception": false,
     "start_time": "2021-01-12T06:27:23.401892",
     "status": "completed"
    },
    "tags": []
   },
   "outputs": [],
   "source": [
    "DR_OPTIONS = {\n",
    "    \"n_components\": 50,\n",
    "    \"metric\": \"euclidean\",\n",
    "    \"n_neighbors\": 15,\n",
    "    \"random_state\": 0,\n",
    "}"
   ]
  },
  {
   "cell_type": "code",
   "execution_count": 10,
   "metadata": {
    "papermill": {
     "duration": 0.041987,
     "end_time": "2021-01-12T06:27:23.507608",
     "exception": false,
     "start_time": "2021-01-12T06:27:23.465621",
     "status": "completed"
    },
    "tags": []
   },
   "outputs": [
    {
     "data": {
      "text/plain": [
       "PosixPath('/home/miltondp/projects/labs/greenelab/phenoplier/base/results/data_transformations/umap/umap-z_score_std-projection-smultixcan-efo_partial-mashr-zscores-metric_euclidean-n_components_50-n_neighbors_15-random_state_0.pkl')"
      ]
     },
     "metadata": {},
     "output_type": "display_data"
    },
    {
     "data": {
      "text/plain": [
       "'umap-z_score_std-projection-smultixcan-efo_partial-mashr-zscores-metric_euclidean-n_components_50-n_neighbors_15-random_state_0'"
      ]
     },
     "metadata": {},
     "output_type": "display_data"
    }
   ],
   "source": [
    "input_filepath = Path(\n",
    "    conf.RESULTS[\"DATA_TRANSFORMATIONS_DIR\"],\n",
    "    INPUT_SUBSET,\n",
    "    generate_result_set_name(\n",
    "        DR_OPTIONS, prefix=f\"{INPUT_SUBSET}-{INPUT_STEM}-\", suffix=\".pkl\"\n",
    "    ),\n",
    ").resolve()\n",
    "display(input_filepath)\n",
    "\n",
    "assert input_filepath.exists(), \"Input file does not exist\"\n",
    "\n",
    "input_filepath_stem = input_filepath.stem\n",
    "display(input_filepath_stem)"
   ]
  },
  {
   "cell_type": "code",
   "execution_count": 11,
   "metadata": {
    "papermill": {
     "duration": 0.042238,
     "end_time": "2021-01-12T06:27:23.576403",
     "exception": false,
     "start_time": "2021-01-12T06:27:23.534165",
     "status": "completed"
    },
    "tags": []
   },
   "outputs": [],
   "source": [
    "data = pd.read_pickle(input_filepath)"
   ]
  },
  {
   "cell_type": "code",
   "execution_count": 12,
   "metadata": {
    "papermill": {
     "duration": 0.03988,
     "end_time": "2021-01-12T06:27:23.642455",
     "exception": false,
     "start_time": "2021-01-12T06:27:23.602575",
     "status": "completed"
    },
    "tags": []
   },
   "outputs": [
    {
     "data": {
      "text/plain": [
       "(3752, 50)"
      ]
     },
     "execution_count": 12,
     "metadata": {},
     "output_type": "execute_result"
    }
   ],
   "source": [
    "data.shape"
   ]
  },
  {
   "cell_type": "code",
   "execution_count": 13,
   "metadata": {
    "papermill": {
     "duration": 0.053148,
     "end_time": "2021-01-12T06:27:23.722512",
     "exception": false,
     "start_time": "2021-01-12T06:27:23.669364",
     "status": "completed"
    },
    "tags": []
   },
   "outputs": [
    {
     "data": {
      "text/html": [
       "<div>\n",
       "<style scoped>\n",
       "    .dataframe tbody tr th:only-of-type {\n",
       "        vertical-align: middle;\n",
       "    }\n",
       "\n",
       "    .dataframe tbody tr th {\n",
       "        vertical-align: top;\n",
       "    }\n",
       "\n",
       "    .dataframe thead th {\n",
       "        text-align: right;\n",
       "    }\n",
       "</style>\n",
       "<table border=\"1\" class=\"dataframe\">\n",
       "  <thead>\n",
       "    <tr style=\"text-align: right;\">\n",
       "      <th></th>\n",
       "      <th>UMAP1</th>\n",
       "      <th>UMAP2</th>\n",
       "      <th>UMAP3</th>\n",
       "      <th>UMAP4</th>\n",
       "      <th>UMAP5</th>\n",
       "      <th>UMAP6</th>\n",
       "      <th>UMAP7</th>\n",
       "      <th>UMAP8</th>\n",
       "      <th>UMAP9</th>\n",
       "      <th>UMAP10</th>\n",
       "      <th>...</th>\n",
       "      <th>UMAP41</th>\n",
       "      <th>UMAP42</th>\n",
       "      <th>UMAP43</th>\n",
       "      <th>UMAP44</th>\n",
       "      <th>UMAP45</th>\n",
       "      <th>UMAP46</th>\n",
       "      <th>UMAP47</th>\n",
       "      <th>UMAP48</th>\n",
       "      <th>UMAP49</th>\n",
       "      <th>UMAP50</th>\n",
       "    </tr>\n",
       "  </thead>\n",
       "  <tbody>\n",
       "    <tr>\n",
       "      <th>100001_raw-Food_weight</th>\n",
       "      <td>9.587280</td>\n",
       "      <td>8.050184</td>\n",
       "      <td>9.340894</td>\n",
       "      <td>8.884522</td>\n",
       "      <td>4.562011</td>\n",
       "      <td>9.261327</td>\n",
       "      <td>9.078164</td>\n",
       "      <td>8.009141</td>\n",
       "      <td>9.288872</td>\n",
       "      <td>9.827831</td>\n",
       "      <td>...</td>\n",
       "      <td>9.753575</td>\n",
       "      <td>0.440851</td>\n",
       "      <td>-0.077164</td>\n",
       "      <td>-0.184829</td>\n",
       "      <td>9.345852</td>\n",
       "      <td>0.622542</td>\n",
       "      <td>-0.051136</td>\n",
       "      <td>4.266558</td>\n",
       "      <td>8.047482</td>\n",
       "      <td>-0.317385</td>\n",
       "    </tr>\n",
       "    <tr>\n",
       "      <th>100002_raw-Energy</th>\n",
       "      <td>9.910512</td>\n",
       "      <td>8.372274</td>\n",
       "      <td>9.605316</td>\n",
       "      <td>9.808598</td>\n",
       "      <td>4.641970</td>\n",
       "      <td>9.360196</td>\n",
       "      <td>8.848985</td>\n",
       "      <td>7.768594</td>\n",
       "      <td>9.231921</td>\n",
       "      <td>9.328465</td>\n",
       "      <td>...</td>\n",
       "      <td>9.647689</td>\n",
       "      <td>0.581584</td>\n",
       "      <td>0.547930</td>\n",
       "      <td>0.600128</td>\n",
       "      <td>8.976416</td>\n",
       "      <td>1.249645</td>\n",
       "      <td>0.234843</td>\n",
       "      <td>4.636343</td>\n",
       "      <td>7.173085</td>\n",
       "      <td>0.137119</td>\n",
       "    </tr>\n",
       "    <tr>\n",
       "      <th>100003_raw-Protein</th>\n",
       "      <td>9.923088</td>\n",
       "      <td>8.380640</td>\n",
       "      <td>9.609899</td>\n",
       "      <td>9.836457</td>\n",
       "      <td>4.647365</td>\n",
       "      <td>9.366775</td>\n",
       "      <td>8.835996</td>\n",
       "      <td>7.767549</td>\n",
       "      <td>9.230281</td>\n",
       "      <td>9.314386</td>\n",
       "      <td>...</td>\n",
       "      <td>9.642637</td>\n",
       "      <td>0.580362</td>\n",
       "      <td>0.565898</td>\n",
       "      <td>0.621073</td>\n",
       "      <td>8.967297</td>\n",
       "      <td>1.271435</td>\n",
       "      <td>0.243960</td>\n",
       "      <td>4.648671</td>\n",
       "      <td>7.149967</td>\n",
       "      <td>0.148192</td>\n",
       "    </tr>\n",
       "    <tr>\n",
       "      <th>100004_raw-Fat</th>\n",
       "      <td>9.898531</td>\n",
       "      <td>8.375697</td>\n",
       "      <td>9.600443</td>\n",
       "      <td>9.785713</td>\n",
       "      <td>4.639249</td>\n",
       "      <td>9.360721</td>\n",
       "      <td>8.886237</td>\n",
       "      <td>7.783376</td>\n",
       "      <td>9.237095</td>\n",
       "      <td>9.345434</td>\n",
       "      <td>...</td>\n",
       "      <td>9.648270</td>\n",
       "      <td>0.573073</td>\n",
       "      <td>0.521042</td>\n",
       "      <td>0.576926</td>\n",
       "      <td>8.979161</td>\n",
       "      <td>1.227988</td>\n",
       "      <td>0.231848</td>\n",
       "      <td>4.622777</td>\n",
       "      <td>7.205517</td>\n",
       "      <td>0.147385</td>\n",
       "    </tr>\n",
       "    <tr>\n",
       "      <th>100005_raw-Carbohydrate</th>\n",
       "      <td>9.895807</td>\n",
       "      <td>8.376662</td>\n",
       "      <td>9.605841</td>\n",
       "      <td>9.791338</td>\n",
       "      <td>4.636903</td>\n",
       "      <td>9.352356</td>\n",
       "      <td>8.867312</td>\n",
       "      <td>7.774787</td>\n",
       "      <td>9.233479</td>\n",
       "      <td>9.344456</td>\n",
       "      <td>...</td>\n",
       "      <td>9.652949</td>\n",
       "      <td>0.575161</td>\n",
       "      <td>0.529565</td>\n",
       "      <td>0.579919</td>\n",
       "      <td>8.988125</td>\n",
       "      <td>1.231771</td>\n",
       "      <td>0.226778</td>\n",
       "      <td>4.624360</td>\n",
       "      <td>7.194818</td>\n",
       "      <td>0.123104</td>\n",
       "    </tr>\n",
       "  </tbody>\n",
       "</table>\n",
       "<p>5 rows × 50 columns</p>\n",
       "</div>"
      ],
      "text/plain": [
       "                            UMAP1     UMAP2     UMAP3     UMAP4     UMAP5  \\\n",
       "100001_raw-Food_weight   9.587280  8.050184  9.340894  8.884522  4.562011   \n",
       "100002_raw-Energy        9.910512  8.372274  9.605316  9.808598  4.641970   \n",
       "100003_raw-Protein       9.923088  8.380640  9.609899  9.836457  4.647365   \n",
       "100004_raw-Fat           9.898531  8.375697  9.600443  9.785713  4.639249   \n",
       "100005_raw-Carbohydrate  9.895807  8.376662  9.605841  9.791338  4.636903   \n",
       "\n",
       "                            UMAP6     UMAP7     UMAP8     UMAP9    UMAP10  \\\n",
       "100001_raw-Food_weight   9.261327  9.078164  8.009141  9.288872  9.827831   \n",
       "100002_raw-Energy        9.360196  8.848985  7.768594  9.231921  9.328465   \n",
       "100003_raw-Protein       9.366775  8.835996  7.767549  9.230281  9.314386   \n",
       "100004_raw-Fat           9.360721  8.886237  7.783376  9.237095  9.345434   \n",
       "100005_raw-Carbohydrate  9.352356  8.867312  7.774787  9.233479  9.344456   \n",
       "\n",
       "                         ...    UMAP41    UMAP42    UMAP43    UMAP44  \\\n",
       "100001_raw-Food_weight   ...  9.753575  0.440851 -0.077164 -0.184829   \n",
       "100002_raw-Energy        ...  9.647689  0.581584  0.547930  0.600128   \n",
       "100003_raw-Protein       ...  9.642637  0.580362  0.565898  0.621073   \n",
       "100004_raw-Fat           ...  9.648270  0.573073  0.521042  0.576926   \n",
       "100005_raw-Carbohydrate  ...  9.652949  0.575161  0.529565  0.579919   \n",
       "\n",
       "                           UMAP45    UMAP46    UMAP47    UMAP48    UMAP49  \\\n",
       "100001_raw-Food_weight   9.345852  0.622542 -0.051136  4.266558  8.047482   \n",
       "100002_raw-Energy        8.976416  1.249645  0.234843  4.636343  7.173085   \n",
       "100003_raw-Protein       8.967297  1.271435  0.243960  4.648671  7.149967   \n",
       "100004_raw-Fat           8.979161  1.227988  0.231848  4.622777  7.205517   \n",
       "100005_raw-Carbohydrate  8.988125  1.231771  0.226778  4.624360  7.194818   \n",
       "\n",
       "                           UMAP50  \n",
       "100001_raw-Food_weight  -0.317385  \n",
       "100002_raw-Energy        0.137119  \n",
       "100003_raw-Protein       0.148192  \n",
       "100004_raw-Fat           0.147385  \n",
       "100005_raw-Carbohydrate  0.123104  \n",
       "\n",
       "[5 rows x 50 columns]"
      ]
     },
     "execution_count": 13,
     "metadata": {},
     "output_type": "execute_result"
    }
   ],
   "source": [
    "data.head()"
   ]
  },
  {
   "cell_type": "markdown",
   "metadata": {
    "papermill": {
     "duration": 0.017975,
     "end_time": "2021-02-22T21:55:22.354121",
     "exception": false,
     "start_time": "2021-02-22T21:55:22.336146",
     "status": "completed"
    },
    "tags": []
   },
   "source": [
    "## Tests different k values (k-NN)"
   ]
  },
  {
   "cell_type": "code",
   "execution_count": 14,
   "metadata": {
    "papermill": {
     "duration": 0.030484,
     "end_time": "2021-02-22T21:55:22.402572",
     "exception": false,
     "start_time": "2021-02-22T21:55:22.372088",
     "status": "completed"
    },
    "tags": []
   },
   "outputs": [],
   "source": [
    "k_values = np.arange(2, 125 + 1, 1)\n",
    "k_values_to_explore = (2, 5, 10, 15, 20, 30, 40, 50, 75, 100, 125)"
   ]
  },
  {
   "cell_type": "code",
   "execution_count": 15,
   "metadata": {
    "papermill": {
     "duration": 131.651938,
     "end_time": "2021-02-22T21:57:34.072436",
     "exception": false,
     "start_time": "2021-02-22T21:55:22.420498",
     "status": "completed"
    },
    "tags": []
   },
   "outputs": [],
   "source": [
    "results = {}\n",
    "\n",
    "for k in k_values_to_explore:\n",
    "    nbrs = NearestNeighbors(n_neighbors=k, n_jobs=N_JOBS).fit(data)\n",
    "    distances, indices = nbrs.kneighbors(data)\n",
    "    results[k] = (distances, indices)"
   ]
  },
  {
   "cell_type": "code",
   "execution_count": 16,
   "metadata": {
    "papermill": {
     "duration": 0.03075,
     "end_time": "2021-02-22T21:57:34.121840",
     "exception": false,
     "start_time": "2021-02-22T21:57:34.091090",
     "status": "completed"
    },
    "tags": []
   },
   "outputs": [],
   "source": [
    "eps_range_per_k = {\n",
    "    k: (0.23, 0.80)\n",
    "    if k < 5\n",
    "    else (0.30, 0.80)\n",
    "    if k < 10\n",
    "    else (0.40, 2.50)\n",
    "    if k < 20\n",
    "    else (0.40, 7.00)\n",
    "    if k < 50\n",
    "    else (0.50, 10.00)\n",
    "    for k in k_values\n",
    "}\n",
    "\n",
    "eps_range_per_k_to_explore = {k: eps_range_per_k[k] for k in k_values_to_explore}"
   ]
  },
  {
   "cell_type": "code",
   "execution_count": 17,
   "metadata": {
    "papermill": {
     "duration": 1.089847,
     "end_time": "2021-02-22T21:57:35.230326",
     "exception": false,
     "start_time": "2021-02-22T21:57:34.140479",
     "status": "completed"
    },
    "tags": []
   },
   "outputs": [
    {
     "data": {
      "image/png": "[encoded data removed]",
      "text/plain": [
       "<Figure size 432x288 with 1 Axes>"
      ]
     },
     "metadata": {},
     "output_type": "display_data"
    },
    {
     "data": {
      "image/png": "[encoded data removed]",
      "text/plain": [
       "<Figure size 432x288 with 1 Axes>"
      ]
     },
     "metadata": {},
     "output_type": "display_data"
    },
    {
     "data": {
      "image/png": "[encoded data removed]",
      "text/plain": [
       "<Figure size 432x288 with 1 Axes>"
      ]
     },
     "metadata": {},
     "output_type": "display_data"
    },
    {
     "data": {
      "image/png": "[encoded data removed]",
      "text/plain": [
       "<Figure size 432x288 with 1 Axes>"
      ]
     },
     "metadata": {},
     "output_type": "display_data"
    },
    {
     "data": {
      "image/png": "[encoded data removed]",
      "text/plain": [
       "<Figure size 432x288 with 1 Axes>"
      ]
     },
     "metadata": {},
     "output_type": "display_data"
    },
    {
     "data": {
      "image/png": "[encoded data removed]",
      "text/plain": [
       "<Figure size 432x288 with 1 Axes>"
      ]
     },
     "metadata": {},
     "output_type": "display_data"
    },
    {
     "data": {
      "image/png": "[encoded data removed]",
      "text/plain": [
       "<Figure size 432x288 with 1 Axes>"
      ]
     },
     "metadata": {},
     "output_type": "display_data"
    },
    {
     "data": {
      "image/png": "[encoded data removed]",
      "text/plain": [
       "<Figure size 432x288 with 1 Axes>"
      ]
     },
     "metadata": {},
     "output_type": "display_data"
    },
    {
     "data": {
      "image/png": "[encoded data removed]",
      "text/plain": [
       "<Figure size 432x288 with 1 Axes>"
      ]
     },
     "metadata": {},
     "output_type": "display_data"
    },
    {
     "data": {
      "image/png": "[encoded data removed]",
      "text/plain": [
       "<Figure size 432x288 with 1 Axes>"
      ]
     },
     "metadata": {},
     "output_type": "display_data"
    },
    {
     "data": {
      "image/png": "[encoded data removed]",
      "text/plain": [
       "<Figure size 432x288 with 1 Axes>"
      ]
     },
     "metadata": {},
     "output_type": "display_data"
    }
   ],
   "source": [
    "for k, (distances, indices) in results.items():\n",
    "    d = distances[:, 1:].mean(axis=1)\n",
    "    d = np.sort(d)\n",
    "\n",
    "    fig, ax = plt.subplots()\n",
    "    plt.plot(d)\n",
    "\n",
    "    r = eps_range_per_k_to_explore[k]\n",
    "    plt.hlines(r[0], 0, data.shape[0], color=\"red\")\n",
    "    plt.hlines(r[1], 0, data.shape[0], color=\"red\")\n",
    "\n",
    "    plt.xlim((3000, data.shape[0]))\n",
    "    plt.title(f\"k={k}\")\n",
    "    display(fig)\n",
    "\n",
    "    plt.close(fig)"
   ]
  },
  {
   "cell_type": "markdown",
   "metadata": {
    "papermill": {
     "duration": 0.02933,
     "end_time": "2021-01-12T05:47:09.754029",
     "exception": false,
     "start_time": "2021-01-12T05:47:09.724699",
     "status": "completed"
    },
    "tags": []
   },
   "source": [
    "# Extended test"
   ]
  },
  {
   "cell_type": "markdown",
   "metadata": {
    "papermill": {
     "duration": 0.021683,
     "end_time": "2021-02-22T21:57:35.317862",
     "exception": false,
     "start_time": "2021-02-22T21:57:35.296179",
     "status": "completed"
    },
    "tags": []
   },
   "source": [
    "## Generate clusterers"
   ]
  },
  {
   "cell_type": "code",
   "execution_count": 18,
   "metadata": {
    "papermill": {
     "duration": 0.041244,
     "end_time": "2021-02-22T21:57:35.380810",
     "exception": false,
     "start_time": "2021-02-22T21:57:35.339566",
     "status": "completed"
    },
    "tags": []
   },
   "outputs": [
    {
     "data": {
      "text/plain": [
       "{'K_RANGE': (2, 5, 10, 15, 20, 30, 40, 50, 75, 100, 125),\n",
       " 'EPS_RANGE_PER_K': {2: (0.23, 0.8),\n",
       "  5: (0.3, 0.8),\n",
       "  10: (0.4, 2.5),\n",
       "  15: (0.4, 2.5),\n",
       "  20: (0.4, 7.0),\n",
       "  30: (0.4, 7.0),\n",
       "  40: (0.4, 7.0),\n",
       "  50: (0.5, 10.0),\n",
       "  75: (0.5, 10.0),\n",
       "  100: (0.5, 10.0),\n",
       "  125: (0.5, 10.0)},\n",
       " 'EPS_STEP': 33,\n",
       " 'METRIC': 'euclidean'}"
      ]
     },
     "metadata": {},
     "output_type": "display_data"
    }
   ],
   "source": [
    "CLUSTERING_OPTIONS = {}\n",
    "\n",
    "# K_RANGE is the min_samples parameter in DBSCAN (sklearn)\n",
    "CLUSTERING_OPTIONS[\"K_RANGE\"] = k_values_to_explore\n",
    "CLUSTERING_OPTIONS[\"EPS_RANGE_PER_K\"] = eps_range_per_k_to_explore\n",
    "CLUSTERING_OPTIONS[\"EPS_STEP\"] = 33\n",
    "CLUSTERING_OPTIONS[\"METRIC\"] = \"euclidean\"\n",
    "\n",
    "display(CLUSTERING_OPTIONS)"
   ]
  },
  {
   "cell_type": "code",
   "execution_count": 19,
   "metadata": {
    "papermill": {
     "duration": 0.050684,
     "end_time": "2021-02-22T21:57:35.453852",
     "exception": false,
     "start_time": "2021-02-22T21:57:35.403168",
     "status": "completed"
    },
    "tags": []
   },
   "outputs": [],
   "source": [
    "CLUSTERERS = {}\n",
    "\n",
    "idx = 0\n",
    "\n",
    "for k in CLUSTERING_OPTIONS[\"K_RANGE\"]:\n",
    "    eps_range = CLUSTERING_OPTIONS[\"EPS_RANGE_PER_K\"][k]\n",
    "    eps_values = np.linspace(eps_range[0], eps_range[1], CLUSTERING_OPTIONS[\"EPS_STEP\"])\n",
    "\n",
    "    for eps in eps_values:\n",
    "        clus = DBSCAN(min_samples=k, eps=eps, metric=\"precomputed\", n_jobs=N_JOBS)\n",
    "\n",
    "        method_name = type(clus).__name__\n",
    "        CLUSTERERS[f\"{method_name} #{idx}\"] = clus\n",
    "\n",
    "        idx = idx + 1"
   ]
  },
  {
   "cell_type": "code",
   "execution_count": 20,
   "metadata": {
    "papermill": {
     "duration": 0.035905,
     "end_time": "2021-02-22T21:57:35.513112",
     "exception": false,
     "start_time": "2021-02-22T21:57:35.477207",
     "status": "completed"
    },
    "tags": []
   },
   "outputs": [
    {
     "data": {
      "text/plain": [
       "363"
      ]
     },
     "metadata": {},
     "output_type": "display_data"
    }
   ],
   "source": [
    "display(len(CLUSTERERS))"
   ]
  },
  {
   "cell_type": "code",
   "execution_count": 21,
   "metadata": {
    "papermill": {
     "duration": 0.03807,
     "end_time": "2021-02-22T21:57:35.574087",
     "exception": false,
     "start_time": "2021-02-22T21:57:35.536017",
     "status": "completed"
    },
    "tags": []
   },
   "outputs": [
    {
     "data": {
      "text/plain": [
       "('DBSCAN #0', DBSCAN(eps=0.23, metric='precomputed', min_samples=2, n_jobs=4))"
      ]
     },
     "metadata": {},
     "output_type": "display_data"
    },
    {
     "data": {
      "text/plain": [
       "('DBSCAN #1',\n",
       " DBSCAN(eps=0.24781250000000002, metric='precomputed', min_samples=2, n_jobs=4))"
      ]
     },
     "metadata": {},
     "output_type": "display_data"
    }
   ],
   "source": [
    "_iter = iter(CLUSTERERS.items())\n",
    "display(next(_iter))\n",
    "display(next(_iter))"
   ]
  },
  {
   "cell_type": "code",
   "execution_count": 22,
   "metadata": {
    "papermill": {
     "duration": 0.036801,
     "end_time": "2021-02-22T21:57:35.634204",
     "exception": false,
     "start_time": "2021-02-22T21:57:35.597403",
     "status": "completed"
    },
    "tags": []
   },
   "outputs": [
    {
     "data": {
      "text/plain": [
       "'DBSCAN'"
      ]
     },
     "metadata": {},
     "output_type": "display_data"
    }
   ],
   "source": [
    "clustering_method_name = method_name\n",
    "display(clustering_method_name)"
   ]
  },
  {
   "cell_type": "markdown",
   "metadata": {
    "papermill": {
     "duration": 0.023034,
     "end_time": "2021-02-22T21:57:35.680981",
     "exception": false,
     "start_time": "2021-02-22T21:57:35.657947",
     "status": "completed"
    },
    "tags": []
   },
   "source": [
    "## Generate ensemble"
   ]
  },
  {
   "cell_type": "code",
   "execution_count": 23,
   "metadata": {
    "papermill": {
     "duration": 0.341327,
     "end_time": "2021-02-22T21:57:36.045378",
     "exception": false,
     "start_time": "2021-02-22T21:57:35.704051",
     "status": "completed"
    },
    "tags": []
   },
   "outputs": [],
   "source": [
    "data_dist = pairwise_distances(data, metric=CLUSTERING_OPTIONS[\"METRIC\"])"
   ]
  },
  {
   "cell_type": "code",
   "execution_count": 24,
   "metadata": {
    "papermill": {
     "duration": 0.036518,
     "end_time": "2021-02-22T21:57:36.105469",
     "exception": false,
     "start_time": "2021-02-22T21:57:36.068951",
     "status": "completed"
    },
    "tags": []
   },
   "outputs": [
    {
     "data": {
      "text/plain": [
       "(3752, 3752)"
      ]
     },
     "execution_count": 24,
     "metadata": {},
     "output_type": "execute_result"
    }
   ],
   "source": [
    "data_dist.shape"
   ]
  },
  {
   "cell_type": "code",
   "execution_count": 25,
   "metadata": {
    "papermill": {
     "duration": 0.631616,
     "end_time": "2021-02-22T21:57:36.761546",
     "exception": false,
     "start_time": "2021-02-22T21:57:36.129930",
     "status": "completed"
    },
    "tags": []
   },
   "outputs": [
    {
     "data": {
      "text/plain": [
       "count            14077504.0\n",
       "mean      3.086747407913208\n",
       "std      1.5393855571746826\n",
       "min                     0.0\n",
       "25%        2.05721515417099\n",
       "50%       3.083280563354492\n",
       "75%      3.9437204003334045\n",
       "max      15.400805473327637\n",
       "dtype: object"
      ]
     },
     "execution_count": 25,
     "metadata": {},
     "output_type": "execute_result"
    }
   ],
   "source": [
    "pd.Series(data_dist.flatten()).describe().apply(str)"
   ]
  },
  {
   "cell_type": "code",
   "execution_count": 26,
   "metadata": {
    "papermill": {
     "duration": 770.589301,
     "end_time": "2021-02-22T22:10:27.375649",
     "exception": false,
     "start_time": "2021-02-22T21:57:36.786348",
     "status": "completed"
    },
    "tags": []
   },
   "outputs": [
    {
     "name": "stderr",
     "output_type": "stream",
     "text": [
      "100%|██████████| 363/363 [00:51<00:00,  7.07it/s]\n"
     ]
    }
   ],
   "source": [
    "ensemble = generate_ensemble(\n",
    "    data_dist,\n",
    "    CLUSTERERS,\n",
    "    attributes=CLUSTERING_ATTRIBUTES_TO_SAVE,\n",
    ")"
   ]
  },
  {
   "cell_type": "code",
   "execution_count": 27,
   "metadata": {
    "papermill": {
     "duration": 0.650077,
     "end_time": "2021-02-22T22:10:28.660869",
     "exception": false,
     "start_time": "2021-02-22T22:10:28.010792",
     "status": "completed"
    },
    "tags": []
   },
   "outputs": [
    {
     "data": {
      "text/plain": [
       "(209, 3)"
      ]
     },
     "execution_count": 27,
     "metadata": {},
     "output_type": "execute_result"
    }
   ],
   "source": [
    "ensemble.shape"
   ]
  },
  {
   "cell_type": "code",
   "execution_count": 28,
   "metadata": {
    "papermill": {
     "duration": 0.659468,
     "end_time": "2021-02-22T22:10:29.954258",
     "exception": false,
     "start_time": "2021-02-22T22:10:29.294790",
     "status": "completed"
    },
    "tags": []
   },
   "outputs": [
    {
     "data": {
      "text/html": [
       "<div>\n",
       "<style scoped>\n",
       "    .dataframe tbody tr th:only-of-type {\n",
       "        vertical-align: middle;\n",
       "    }\n",
       "\n",
       "    .dataframe tbody tr th {\n",
       "        vertical-align: top;\n",
       "    }\n",
       "\n",
       "    .dataframe thead th {\n",
       "        text-align: right;\n",
       "    }\n",
       "</style>\n",
       "<table border=\"1\" class=\"dataframe\">\n",
       "  <thead>\n",
       "    <tr style=\"text-align: right;\">\n",
       "      <th></th>\n",
       "      <th>clusterer_params</th>\n",
       "      <th>partition</th>\n",
       "      <th>n_clusters</th>\n",
       "    </tr>\n",
       "    <tr>\n",
       "      <th>clusterer_id</th>\n",
       "      <th></th>\n",
       "      <th></th>\n",
       "      <th></th>\n",
       "    </tr>\n",
       "  </thead>\n",
       "  <tbody>\n",
       "    <tr>\n",
       "      <th>DBSCAN #0</th>\n",
       "      <td>{'algorithm': 'auto', 'eps': 0.23, 'leaf_size'...</td>\n",
       "      <td>[0.0, 1.0, 1.0, 1.0, 1.0, 1.0, 1.0, 1.0, 1.0, ...</td>\n",
       "      <td>317</td>\n",
       "    </tr>\n",
       "    <tr>\n",
       "      <th>DBSCAN #1</th>\n",
       "      <td>{'algorithm': 'auto', 'eps': 0.247812500000000...</td>\n",
       "      <td>[0.0, 1.0, 1.0, 1.0, 1.0, 1.0, 1.0, 1.0, 1.0, ...</td>\n",
       "      <td>301</td>\n",
       "    </tr>\n",
       "    <tr>\n",
       "      <th>DBSCAN #2</th>\n",
       "      <td>{'algorithm': 'auto', 'eps': 0.265625, 'leaf_s...</td>\n",
       "      <td>[0.0, 1.0, 1.0, 1.0, 1.0, 1.0, 1.0, 1.0, 1.0, ...</td>\n",
       "      <td>272</td>\n",
       "    </tr>\n",
       "    <tr>\n",
       "      <th>DBSCAN #3</th>\n",
       "      <td>{'algorithm': 'auto', 'eps': 0.2834375, 'leaf_...</td>\n",
       "      <td>[0.0, 1.0, 1.0, 1.0, 1.0, 1.0, 1.0, 1.0, 1.0, ...</td>\n",
       "      <td>257</td>\n",
       "    </tr>\n",
       "    <tr>\n",
       "      <th>DBSCAN #4</th>\n",
       "      <td>{'algorithm': 'auto', 'eps': 0.30125, 'leaf_si...</td>\n",
       "      <td>[0.0, 1.0, 1.0, 1.0, 1.0, 1.0, 1.0, 1.0, 1.0, ...</td>\n",
       "      <td>226</td>\n",
       "    </tr>\n",
       "  </tbody>\n",
       "</table>\n",
       "</div>"
      ],
      "text/plain": [
       "                                               clusterer_params  \\\n",
       "clusterer_id                                                      \n",
       "DBSCAN #0     {'algorithm': 'auto', 'eps': 0.23, 'leaf_size'...   \n",
       "DBSCAN #1     {'algorithm': 'auto', 'eps': 0.247812500000000...   \n",
       "DBSCAN #2     {'algorithm': 'auto', 'eps': 0.265625, 'leaf_s...   \n",
       "DBSCAN #3     {'algorithm': 'auto', 'eps': 0.2834375, 'leaf_...   \n",
       "DBSCAN #4     {'algorithm': 'auto', 'eps': 0.30125, 'leaf_si...   \n",
       "\n",
       "                                                      partition  n_clusters  \n",
       "clusterer_id                                                                 \n",
       "DBSCAN #0     [0.0, 1.0, 1.0, 1.0, 1.0, 1.0, 1.0, 1.0, 1.0, ...         317  \n",
       "DBSCAN #1     [0.0, 1.0, 1.0, 1.0, 1.0, 1.0, 1.0, 1.0, 1.0, ...         301  \n",
       "DBSCAN #2     [0.0, 1.0, 1.0, 1.0, 1.0, 1.0, 1.0, 1.0, 1.0, ...         272  \n",
       "DBSCAN #3     [0.0, 1.0, 1.0, 1.0, 1.0, 1.0, 1.0, 1.0, 1.0, ...         257  \n",
       "DBSCAN #4     [0.0, 1.0, 1.0, 1.0, 1.0, 1.0, 1.0, 1.0, 1.0, ...         226  "
      ]
     },
     "execution_count": 28,
     "metadata": {},
     "output_type": "execute_result"
    }
   ],
   "source": [
    "ensemble.head()"
   ]
  },
  {
   "cell_type": "code",
   "execution_count": 30,
   "metadata": {
    "papermill": {
     "duration": 0.651086,
     "end_time": "2021-02-22T22:10:31.271220",
     "exception": false,
     "start_time": "2021-02-22T22:10:30.620134",
     "status": "completed"
    },
    "tags": []
   },
   "outputs": [
    {
     "data": {
      "text/plain": [
       "2      95\n",
       "3      18\n",
       "4      15\n",
       "17      8\n",
       "16      7\n",
       "6       7\n",
       "22      6\n",
       "5       4\n",
       "21      4\n",
       "7       3\n",
       "31      3\n",
       "37      2\n",
       "23      2\n",
       "32      2\n",
       "33      2\n",
       "36      2\n",
       "26      2\n",
       "40      2\n",
       "24      2\n",
       "20      1\n",
       "18      1\n",
       "272     1\n",
       "10      1\n",
       "45      1\n",
       "226     1\n",
       "30      1\n",
       "25      1\n",
       "27      1\n",
       "29      1\n",
       "189     1\n",
       "301     1\n",
       "47      1\n",
       "54      1\n",
       "60      1\n",
       "317     1\n",
       "64      1\n",
       "76      1\n",
       "93      1\n",
       "110     1\n",
       "125     1\n",
       "154     1\n",
       "257     1\n",
       "Name: n_clusters, dtype: int64"
      ]
     },
     "metadata": {},
     "output_type": "display_data"
    }
   ],
   "source": [
    "_tmp = ensemble[\"n_clusters\"].value_counts()\n",
    "display(_tmp)\n",
    "assert _tmp.index[0] == 2\n",
    "assert _tmp.loc[2] == 95"
   ]
  },
  {
   "cell_type": "code",
   "execution_count": 31,
   "metadata": {
    "papermill": {
     "duration": 0.651853,
     "end_time": "2021-02-22T22:10:32.561154",
     "exception": false,
     "start_time": "2021-02-22T22:10:31.909301",
     "status": "completed"
    },
    "tags": []
   },
   "outputs": [
    {
     "data": {
      "text/plain": [
       "count    209.000000\n",
       "mean      19.114833\n",
       "std       46.793390\n",
       "min        2.000000\n",
       "25%        2.000000\n",
       "50%        3.000000\n",
       "75%       17.000000\n",
       "max      317.000000\n",
       "Name: n_clusters, dtype: float64"
      ]
     },
     "metadata": {},
     "output_type": "display_data"
    }
   ],
   "source": [
    "ensemble_stats = ensemble[\"n_clusters\"].describe()\n",
    "display(ensemble_stats)"
   ]
  },
  {
   "cell_type": "code",
   "execution_count": 32,
   "metadata": {},
   "outputs": [],
   "source": [
    "# number of noisy points\n",
    "_tmp = ensemble.copy()\n",
    "_tmp = _tmp.assign(n_noisy=ensemble[\"partition\"].apply(lambda x: np.isnan(x).sum()))"
   ]
  },
  {
   "cell_type": "code",
   "execution_count": 34,
   "metadata": {},
   "outputs": [
    {
     "data": {
      "text/plain": [
       "count     209.000000\n",
       "mean      114.100478\n",
       "std       230.839239\n",
       "min         1.000000\n",
       "25%        20.000000\n",
       "50%        34.000000\n",
       "75%        93.000000\n",
       "max      2104.000000\n",
       "Name: n_noisy, dtype: float64"
      ]
     },
     "metadata": {},
     "output_type": "display_data"
    }
   ],
   "source": [
    "_tmp_stats = _tmp[\"n_noisy\"].describe()\n",
    "display(_tmp_stats)\n",
    "assert _tmp_stats[\"min\"] >= 1\n",
    "assert _tmp_stats[\"max\"] < 2105\n",
    "assert 110 < _tmp_stats[\"mean\"] < 120"
   ]
  },
  {
   "cell_type": "markdown",
   "metadata": {
    "papermill": {
     "duration": 0.104421,
     "end_time": "2021-01-12T06:06:40.654326",
     "exception": false,
     "start_time": "2021-01-12T06:06:40.549905",
     "status": "completed"
    },
    "tags": []
   },
   "source": [
    "## Testing"
   ]
  },
  {
   "cell_type": "code",
   "execution_count": 35,
   "metadata": {
    "papermill": {
     "duration": 0.11885,
     "end_time": "2021-01-12T06:06:40.877289",
     "exception": false,
     "start_time": "2021-01-12T06:06:40.758439",
     "status": "completed"
    },
    "tags": []
   },
   "outputs": [],
   "source": [
    "assert ensemble_stats[\"min\"] > 1"
   ]
  },
  {
   "cell_type": "code",
   "execution_count": 36,
   "metadata": {
    "papermill": {
     "duration": 0.117335,
     "end_time": "2021-01-12T06:06:41.097361",
     "exception": false,
     "start_time": "2021-01-12T06:06:40.980026",
     "status": "completed"
    },
    "tags": []
   },
   "outputs": [],
   "source": [
    "assert not ensemble[\"n_clusters\"].isna().any()"
   ]
  },
  {
   "cell_type": "code",
   "execution_count": 37,
   "metadata": {
    "papermill": {
     "duration": 0.143563,
     "end_time": "2021-01-12T06:06:41.565509",
     "exception": false,
     "start_time": "2021-01-12T06:06:41.421946",
     "status": "completed"
    },
    "tags": []
   },
   "outputs": [],
   "source": [
    "# all partitions have the right size\n",
    "assert np.all(\n",
    "    [part[\"partition\"].shape[0] == data.shape[0] for idx, part in ensemble.iterrows()]\n",
    ")"
   ]
  },
  {
   "cell_type": "markdown",
   "metadata": {
    "papermill": {
     "duration": 0.104,
     "end_time": "2021-01-12T06:06:42.281191",
     "exception": false,
     "start_time": "2021-01-12T06:06:42.177191",
     "status": "completed"
    },
    "tags": []
   },
   "source": [
    "## Add clustering quality measures"
   ]
  },
  {
   "cell_type": "code",
   "execution_count": 38,
   "metadata": {},
   "outputs": [],
   "source": [
    "def _remove_nans(data, part):\n",
    "    not_nan_idx = ~np.isnan(part)\n",
    "    return data.iloc[not_nan_idx], part[not_nan_idx]\n",
    "\n",
    "\n",
    "def _apply_func(func, data, part):\n",
    "    no_nan_data, no_nan_part = _remove_nans(data, part)\n",
    "    return func(no_nan_data, no_nan_part)"
   ]
  },
  {
   "cell_type": "code",
   "execution_count": 39,
   "metadata": {
    "papermill": {
     "duration": 16.588641,
     "end_time": "2021-01-12T06:06:58.974804",
     "exception": false,
     "start_time": "2021-01-12T06:06:42.386163",
     "status": "completed"
    },
    "tags": []
   },
   "outputs": [],
   "source": [
    "ensemble = ensemble.assign(\n",
    "    si_score=ensemble[\"partition\"].apply(\n",
    "        lambda x: _apply_func(silhouette_score, data, x)\n",
    "    ),\n",
    "    ch_score=ensemble[\"partition\"].apply(\n",
    "        lambda x: _apply_func(calinski_harabasz_score, data, x)\n",
    "    ),\n",
    "    db_score=ensemble[\"partition\"].apply(\n",
    "        lambda x: _apply_func(davies_bouldin_score, data, x)\n",
    "    ),\n",
    ")"
   ]
  },
  {
   "cell_type": "code",
   "execution_count": 40,
   "metadata": {
    "papermill": {
     "duration": 0.118879,
     "end_time": "2021-01-12T06:06:59.207646",
     "exception": false,
     "start_time": "2021-01-12T06:06:59.088767",
     "status": "completed"
    },
    "tags": []
   },
   "outputs": [
    {
     "data": {
      "text/plain": [
       "(209, 6)"
      ]
     },
     "execution_count": 40,
     "metadata": {},
     "output_type": "execute_result"
    }
   ],
   "source": [
    "ensemble.shape"
   ]
  },
  {
   "cell_type": "code",
   "execution_count": 41,
   "metadata": {
    "papermill": {
     "duration": 0.127873,
     "end_time": "2021-01-12T06:06:59.441201",
     "exception": false,
     "start_time": "2021-01-12T06:06:59.313328",
     "status": "completed"
    },
    "tags": []
   },
   "outputs": [
    {
     "data": {
      "text/html": [
       "<div>\n",
       "<style scoped>\n",
       "    .dataframe tbody tr th:only-of-type {\n",
       "        vertical-align: middle;\n",
       "    }\n",
       "\n",
       "    .dataframe tbody tr th {\n",
       "        vertical-align: top;\n",
       "    }\n",
       "\n",
       "    .dataframe thead th {\n",
       "        text-align: right;\n",
       "    }\n",
       "</style>\n",
       "<table border=\"1\" class=\"dataframe\">\n",
       "  <thead>\n",
       "    <tr style=\"text-align: right;\">\n",
       "      <th></th>\n",
       "      <th>clusterer_params</th>\n",
       "      <th>partition</th>\n",
       "      <th>n_clusters</th>\n",
       "      <th>si_score</th>\n",
       "      <th>ch_score</th>\n",
       "      <th>db_score</th>\n",
       "    </tr>\n",
       "    <tr>\n",
       "      <th>clusterer_id</th>\n",
       "      <th></th>\n",
       "      <th></th>\n",
       "      <th></th>\n",
       "      <th></th>\n",
       "      <th></th>\n",
       "      <th></th>\n",
       "    </tr>\n",
       "  </thead>\n",
       "  <tbody>\n",
       "    <tr>\n",
       "      <th>DBSCAN #0</th>\n",
       "      <td>{'algorithm': 'auto', 'eps': 0.23, 'leaf_size'...</td>\n",
       "      <td>[0.0, 1.0, 1.0, 1.0, 1.0, 1.0, 1.0, 1.0, 1.0, ...</td>\n",
       "      <td>317</td>\n",
       "      <td>-0.264103</td>\n",
       "      <td>15.603481</td>\n",
       "      <td>1.063393</td>\n",
       "    </tr>\n",
       "    <tr>\n",
       "      <th>DBSCAN #1</th>\n",
       "      <td>{'algorithm': 'auto', 'eps': 0.247812500000000...</td>\n",
       "      <td>[0.0, 1.0, 1.0, 1.0, 1.0, 1.0, 1.0, 1.0, 1.0, ...</td>\n",
       "      <td>301</td>\n",
       "      <td>-0.310631</td>\n",
       "      <td>7.521820</td>\n",
       "      <td>1.219808</td>\n",
       "    </tr>\n",
       "    <tr>\n",
       "      <th>DBSCAN #2</th>\n",
       "      <td>{'algorithm': 'auto', 'eps': 0.265625, 'leaf_s...</td>\n",
       "      <td>[0.0, 1.0, 1.0, 1.0, 1.0, 1.0, 1.0, 1.0, 1.0, ...</td>\n",
       "      <td>272</td>\n",
       "      <td>-0.370136</td>\n",
       "      <td>7.085862</td>\n",
       "      <td>1.249468</td>\n",
       "    </tr>\n",
       "    <tr>\n",
       "      <th>DBSCAN #3</th>\n",
       "      <td>{'algorithm': 'auto', 'eps': 0.2834375, 'leaf_...</td>\n",
       "      <td>[0.0, 1.0, 1.0, 1.0, 1.0, 1.0, 1.0, 1.0, 1.0, ...</td>\n",
       "      <td>257</td>\n",
       "      <td>-0.397438</td>\n",
       "      <td>7.349832</td>\n",
       "      <td>1.232750</td>\n",
       "    </tr>\n",
       "    <tr>\n",
       "      <th>DBSCAN #4</th>\n",
       "      <td>{'algorithm': 'auto', 'eps': 0.30125, 'leaf_si...</td>\n",
       "      <td>[0.0, 1.0, 1.0, 1.0, 1.0, 1.0, 1.0, 1.0, 1.0, ...</td>\n",
       "      <td>226</td>\n",
       "      <td>-0.427738</td>\n",
       "      <td>7.855357</td>\n",
       "      <td>1.253311</td>\n",
       "    </tr>\n",
       "  </tbody>\n",
       "</table>\n",
       "</div>"
      ],
      "text/plain": [
       "                                               clusterer_params  \\\n",
       "clusterer_id                                                      \n",
       "DBSCAN #0     {'algorithm': 'auto', 'eps': 0.23, 'leaf_size'...   \n",
       "DBSCAN #1     {'algorithm': 'auto', 'eps': 0.247812500000000...   \n",
       "DBSCAN #2     {'algorithm': 'auto', 'eps': 0.265625, 'leaf_s...   \n",
       "DBSCAN #3     {'algorithm': 'auto', 'eps': 0.2834375, 'leaf_...   \n",
       "DBSCAN #4     {'algorithm': 'auto', 'eps': 0.30125, 'leaf_si...   \n",
       "\n",
       "                                                      partition  n_clusters  \\\n",
       "clusterer_id                                                                  \n",
       "DBSCAN #0     [0.0, 1.0, 1.0, 1.0, 1.0, 1.0, 1.0, 1.0, 1.0, ...         317   \n",
       "DBSCAN #1     [0.0, 1.0, 1.0, 1.0, 1.0, 1.0, 1.0, 1.0, 1.0, ...         301   \n",
       "DBSCAN #2     [0.0, 1.0, 1.0, 1.0, 1.0, 1.0, 1.0, 1.0, 1.0, ...         272   \n",
       "DBSCAN #3     [0.0, 1.0, 1.0, 1.0, 1.0, 1.0, 1.0, 1.0, 1.0, ...         257   \n",
       "DBSCAN #4     [0.0, 1.0, 1.0, 1.0, 1.0, 1.0, 1.0, 1.0, 1.0, ...         226   \n",
       "\n",
       "              si_score   ch_score  db_score  \n",
       "clusterer_id                                 \n",
       "DBSCAN #0    -0.264103  15.603481  1.063393  \n",
       "DBSCAN #1    -0.310631   7.521820  1.219808  \n",
       "DBSCAN #2    -0.370136   7.085862  1.249468  \n",
       "DBSCAN #3    -0.397438   7.349832  1.232750  \n",
       "DBSCAN #4    -0.427738   7.855357  1.253311  "
      ]
     },
     "execution_count": 41,
     "metadata": {},
     "output_type": "execute_result"
    }
   ],
   "source": [
    "ensemble.head()"
   ]
  },
  {
   "cell_type": "markdown",
   "metadata": {
    "papermill": {
     "duration": 0.105163,
     "end_time": "2021-01-12T06:06:59.651068",
     "exception": false,
     "start_time": "2021-01-12T06:06:59.545905",
     "status": "completed"
    },
    "tags": []
   },
   "source": [
    "# Cluster quality"
   ]
  },
  {
   "cell_type": "code",
   "execution_count": 42,
   "metadata": {
    "papermill": {
     "duration": 0.167666,
     "end_time": "2021-01-13T20:19:38.966509",
     "exception": false,
     "start_time": "2021-01-13T20:19:38.798843",
     "status": "completed"
    },
    "tags": []
   },
   "outputs": [
    {
     "data": {
      "text/html": [
       "<div>\n",
       "<style scoped>\n",
       "    .dataframe tbody tr th:only-of-type {\n",
       "        vertical-align: middle;\n",
       "    }\n",
       "\n",
       "    .dataframe tbody tr th {\n",
       "        vertical-align: top;\n",
       "    }\n",
       "\n",
       "    .dataframe thead th {\n",
       "        text-align: right;\n",
       "    }\n",
       "</style>\n",
       "<table border=\"1\" class=\"dataframe\">\n",
       "  <thead>\n",
       "    <tr style=\"text-align: right;\">\n",
       "      <th></th>\n",
       "      <th>si_score</th>\n",
       "      <th>ch_score</th>\n",
       "      <th>db_score</th>\n",
       "    </tr>\n",
       "    <tr>\n",
       "      <th>n_clusters</th>\n",
       "      <th></th>\n",
       "      <th></th>\n",
       "      <th></th>\n",
       "    </tr>\n",
       "  </thead>\n",
       "  <tbody>\n",
       "    <tr>\n",
       "      <th>2</th>\n",
       "      <td>0.591376</td>\n",
       "      <td>445.398871</td>\n",
       "      <td>0.360929</td>\n",
       "    </tr>\n",
       "    <tr>\n",
       "      <th>3</th>\n",
       "      <td>0.422144</td>\n",
       "      <td>283.448233</td>\n",
       "      <td>0.515578</td>\n",
       "    </tr>\n",
       "    <tr>\n",
       "      <th>4</th>\n",
       "      <td>-0.020071</td>\n",
       "      <td>273.928295</td>\n",
       "      <td>0.779726</td>\n",
       "    </tr>\n",
       "    <tr>\n",
       "      <th>5</th>\n",
       "      <td>-0.155168</td>\n",
       "      <td>152.557401</td>\n",
       "      <td>0.938486</td>\n",
       "    </tr>\n",
       "    <tr>\n",
       "      <th>6</th>\n",
       "      <td>-0.274450</td>\n",
       "      <td>122.265991</td>\n",
       "      <td>1.297242</td>\n",
       "    </tr>\n",
       "    <tr>\n",
       "      <th>7</th>\n",
       "      <td>-0.024478</td>\n",
       "      <td>649.842085</td>\n",
       "      <td>1.083391</td>\n",
       "    </tr>\n",
       "    <tr>\n",
       "      <th>10</th>\n",
       "      <td>-0.357169</td>\n",
       "      <td>76.074582</td>\n",
       "      <td>2.827169</td>\n",
       "    </tr>\n",
       "    <tr>\n",
       "      <th>16</th>\n",
       "      <td>-0.306313</td>\n",
       "      <td>69.567497</td>\n",
       "      <td>0.822597</td>\n",
       "    </tr>\n",
       "    <tr>\n",
       "      <th>17</th>\n",
       "      <td>-0.327810</td>\n",
       "      <td>65.626853</td>\n",
       "      <td>0.865484</td>\n",
       "    </tr>\n",
       "    <tr>\n",
       "      <th>18</th>\n",
       "      <td>-0.339870</td>\n",
       "      <td>62.073353</td>\n",
       "      <td>0.880604</td>\n",
       "    </tr>\n",
       "    <tr>\n",
       "      <th>20</th>\n",
       "      <td>-0.387742</td>\n",
       "      <td>55.892601</td>\n",
       "      <td>1.090954</td>\n",
       "    </tr>\n",
       "    <tr>\n",
       "      <th>21</th>\n",
       "      <td>-0.413931</td>\n",
       "      <td>53.652015</td>\n",
       "      <td>1.022221</td>\n",
       "    </tr>\n",
       "    <tr>\n",
       "      <th>22</th>\n",
       "      <td>-0.418089</td>\n",
       "      <td>51.197478</td>\n",
       "      <td>1.279588</td>\n",
       "    </tr>\n",
       "    <tr>\n",
       "      <th>23</th>\n",
       "      <td>-0.389597</td>\n",
       "      <td>49.483638</td>\n",
       "      <td>0.856640</td>\n",
       "    </tr>\n",
       "    <tr>\n",
       "      <th>24</th>\n",
       "      <td>-0.444938</td>\n",
       "      <td>47.107194</td>\n",
       "      <td>1.511642</td>\n",
       "    </tr>\n",
       "    <tr>\n",
       "      <th>25</th>\n",
       "      <td>-0.406864</td>\n",
       "      <td>45.601506</td>\n",
       "      <td>0.873715</td>\n",
       "    </tr>\n",
       "    <tr>\n",
       "      <th>26</th>\n",
       "      <td>-0.450552</td>\n",
       "      <td>43.373197</td>\n",
       "      <td>1.774363</td>\n",
       "    </tr>\n",
       "    <tr>\n",
       "      <th>27</th>\n",
       "      <td>-0.420391</td>\n",
       "      <td>42.463772</td>\n",
       "      <td>0.879634</td>\n",
       "    </tr>\n",
       "    <tr>\n",
       "      <th>29</th>\n",
       "      <td>-0.437730</td>\n",
       "      <td>39.622038</td>\n",
       "      <td>0.933368</td>\n",
       "    </tr>\n",
       "    <tr>\n",
       "      <th>30</th>\n",
       "      <td>-0.437652</td>\n",
       "      <td>38.666459</td>\n",
       "      <td>0.923876</td>\n",
       "    </tr>\n",
       "    <tr>\n",
       "      <th>31</th>\n",
       "      <td>-0.437765</td>\n",
       "      <td>37.597125</td>\n",
       "      <td>0.918303</td>\n",
       "    </tr>\n",
       "    <tr>\n",
       "      <th>32</th>\n",
       "      <td>-0.438068</td>\n",
       "      <td>36.428403</td>\n",
       "      <td>0.963881</td>\n",
       "    </tr>\n",
       "    <tr>\n",
       "      <th>33</th>\n",
       "      <td>-0.436671</td>\n",
       "      <td>35.430887</td>\n",
       "      <td>1.289825</td>\n",
       "    </tr>\n",
       "    <tr>\n",
       "      <th>36</th>\n",
       "      <td>-0.477186</td>\n",
       "      <td>32.225682</td>\n",
       "      <td>1.569572</td>\n",
       "    </tr>\n",
       "    <tr>\n",
       "      <th>37</th>\n",
       "      <td>-0.465372</td>\n",
       "      <td>31.842040</td>\n",
       "      <td>1.101171</td>\n",
       "    </tr>\n",
       "    <tr>\n",
       "      <th>40</th>\n",
       "      <td>-0.472089</td>\n",
       "      <td>30.292784</td>\n",
       "      <td>1.277133</td>\n",
       "    </tr>\n",
       "    <tr>\n",
       "      <th>45</th>\n",
       "      <td>-0.514409</td>\n",
       "      <td>26.880428</td>\n",
       "      <td>1.111478</td>\n",
       "    </tr>\n",
       "    <tr>\n",
       "      <th>47</th>\n",
       "      <td>-0.514800</td>\n",
       "      <td>25.961146</td>\n",
       "      <td>1.102071</td>\n",
       "    </tr>\n",
       "    <tr>\n",
       "      <th>54</th>\n",
       "      <td>-0.530698</td>\n",
       "      <td>22.934499</td>\n",
       "      <td>1.103526</td>\n",
       "    </tr>\n",
       "    <tr>\n",
       "      <th>60</th>\n",
       "      <td>-0.523064</td>\n",
       "      <td>20.921242</td>\n",
       "      <td>1.272943</td>\n",
       "    </tr>\n",
       "    <tr>\n",
       "      <th>64</th>\n",
       "      <td>-0.534929</td>\n",
       "      <td>19.685274</td>\n",
       "      <td>1.275515</td>\n",
       "    </tr>\n",
       "    <tr>\n",
       "      <th>76</th>\n",
       "      <td>-0.538715</td>\n",
       "      <td>17.039779</td>\n",
       "      <td>1.255033</td>\n",
       "    </tr>\n",
       "    <tr>\n",
       "      <th>93</th>\n",
       "      <td>-0.535544</td>\n",
       "      <td>14.493007</td>\n",
       "      <td>1.320720</td>\n",
       "    </tr>\n",
       "    <tr>\n",
       "      <th>110</th>\n",
       "      <td>-0.526516</td>\n",
       "      <td>12.516103</td>\n",
       "      <td>1.323034</td>\n",
       "    </tr>\n",
       "    <tr>\n",
       "      <th>125</th>\n",
       "      <td>-0.519229</td>\n",
       "      <td>11.333895</td>\n",
       "      <td>1.305336</td>\n",
       "    </tr>\n",
       "    <tr>\n",
       "      <th>154</th>\n",
       "      <td>-0.498470</td>\n",
       "      <td>9.966564</td>\n",
       "      <td>1.277959</td>\n",
       "    </tr>\n",
       "    <tr>\n",
       "      <th>189</th>\n",
       "      <td>-0.469045</td>\n",
       "      <td>8.753967</td>\n",
       "      <td>1.274956</td>\n",
       "    </tr>\n",
       "    <tr>\n",
       "      <th>226</th>\n",
       "      <td>-0.427738</td>\n",
       "      <td>7.855357</td>\n",
       "      <td>1.253311</td>\n",
       "    </tr>\n",
       "    <tr>\n",
       "      <th>257</th>\n",
       "      <td>-0.397438</td>\n",
       "      <td>7.349832</td>\n",
       "      <td>1.232750</td>\n",
       "    </tr>\n",
       "    <tr>\n",
       "      <th>272</th>\n",
       "      <td>-0.370136</td>\n",
       "      <td>7.085862</td>\n",
       "      <td>1.249468</td>\n",
       "    </tr>\n",
       "    <tr>\n",
       "      <th>301</th>\n",
       "      <td>-0.310631</td>\n",
       "      <td>7.521820</td>\n",
       "      <td>1.219808</td>\n",
       "    </tr>\n",
       "    <tr>\n",
       "      <th>317</th>\n",
       "      <td>-0.264103</td>\n",
       "      <td>15.603481</td>\n",
       "      <td>1.063393</td>\n",
       "    </tr>\n",
       "  </tbody>\n",
       "</table>\n",
       "</div>"
      ],
      "text/plain": [
       "            si_score    ch_score  db_score\n",
       "n_clusters                                \n",
       "2           0.591376  445.398871  0.360929\n",
       "3           0.422144  283.448233  0.515578\n",
       "4          -0.020071  273.928295  0.779726\n",
       "5          -0.155168  152.557401  0.938486\n",
       "6          -0.274450  122.265991  1.297242\n",
       "7          -0.024478  649.842085  1.083391\n",
       "10         -0.357169   76.074582  2.827169\n",
       "16         -0.306313   69.567497  0.822597\n",
       "17         -0.327810   65.626853  0.865484\n",
       "18         -0.339870   62.073353  0.880604\n",
       "20         -0.387742   55.892601  1.090954\n",
       "21         -0.413931   53.652015  1.022221\n",
       "22         -0.418089   51.197478  1.279588\n",
       "23         -0.389597   49.483638  0.856640\n",
       "24         -0.444938   47.107194  1.511642\n",
       "25         -0.406864   45.601506  0.873715\n",
       "26         -0.450552   43.373197  1.774363\n",
       "27         -0.420391   42.463772  0.879634\n",
       "29         -0.437730   39.622038  0.933368\n",
       "30         -0.437652   38.666459  0.923876\n",
       "31         -0.437765   37.597125  0.918303\n",
       "32         -0.438068   36.428403  0.963881\n",
       "33         -0.436671   35.430887  1.289825\n",
       "36         -0.477186   32.225682  1.569572\n",
       "37         -0.465372   31.842040  1.101171\n",
       "40         -0.472089   30.292784  1.277133\n",
       "45         -0.514409   26.880428  1.111478\n",
       "47         -0.514800   25.961146  1.102071\n",
       "54         -0.530698   22.934499  1.103526\n",
       "60         -0.523064   20.921242  1.272943\n",
       "64         -0.534929   19.685274  1.275515\n",
       "76         -0.538715   17.039779  1.255033\n",
       "93         -0.535544   14.493007  1.320720\n",
       "110        -0.526516   12.516103  1.323034\n",
       "125        -0.519229   11.333895  1.305336\n",
       "154        -0.498470    9.966564  1.277959\n",
       "189        -0.469045    8.753967  1.274956\n",
       "226        -0.427738    7.855357  1.253311\n",
       "257        -0.397438    7.349832  1.232750\n",
       "272        -0.370136    7.085862  1.249468\n",
       "301        -0.310631    7.521820  1.219808\n",
       "317        -0.264103   15.603481  1.063393"
      ]
     },
     "metadata": {},
     "output_type": "display_data"
    }
   ],
   "source": [
    "with pd.option_context(\"display.max_rows\", None, \"display.max_columns\", None):\n",
    "    _df = ensemble.groupby([\"n_clusters\"]).mean()\n",
    "    display(_df)"
   ]
  },
  {
   "cell_type": "code",
   "execution_count": 43,
   "metadata": {
    "papermill": {
     "duration": 3.289568,
     "end_time": "2021-01-13T20:19:42.398808",
     "exception": false,
     "start_time": "2021-01-13T20:19:39.109240",
     "status": "completed"
    },
    "tags": []
   },
   "outputs": [
    {
     "data": {
      "image/png": "[encoded data removed]",
      "text/plain": [
       "<Figure size 1008x432 with 1 Axes>"
      ]
     },
     "metadata": {},
     "output_type": "display_data"
    }
   ],
   "source": [
    "with sns.plotting_context(\"talk\", font_scale=0.75), sns.axes_style(\n",
    "    \"whitegrid\", {\"grid.linestyle\": \"--\"}\n",
    "):\n",
    "    fig = plt.figure(figsize=(14, 6))\n",
    "    ax = sns.pointplot(data=ensemble, x=\"n_clusters\", y=\"si_score\")\n",
    "    ax.set_ylabel(\"Silhouette index\\n(higher is better)\")\n",
    "    ax.set_xlabel(\"Number of clusters ($k$)\")\n",
    "    ax.set_xticklabels(ax.get_xticklabels(), rotation=45)\n",
    "    plt.grid(True)\n",
    "    plt.tight_layout()"
   ]
  },
  {
   "cell_type": "code",
   "execution_count": 44,
   "metadata": {
    "papermill": {
     "duration": 2.916221,
     "end_time": "2021-01-13T20:19:45.462716",
     "exception": false,
     "start_time": "2021-01-13T20:19:42.546495",
     "status": "completed"
    },
    "tags": []
   },
   "outputs": [
    {
     "data": {
      "image/png": "[encoded data removed]",
      "text/plain": [
       "<Figure size 1008x432 with 1 Axes>"
      ]
     },
     "metadata": {},
     "output_type": "display_data"
    }
   ],
   "source": [
    "with sns.plotting_context(\"talk\", font_scale=0.75), sns.axes_style(\n",
    "    \"whitegrid\", {\"grid.linestyle\": \"--\"}\n",
    "):\n",
    "    fig = plt.figure(figsize=(14, 6))\n",
    "    ax = sns.pointplot(data=ensemble, x=\"n_clusters\", y=\"ch_score\")\n",
    "    ax.set_ylabel(\"Calinski-Harabasz index\\n(higher is better)\")\n",
    "    ax.set_xlabel(\"Number of clusters ($k$)\")\n",
    "    ax.set_xticklabels(ax.get_xticklabels(), rotation=45)\n",
    "    plt.grid(True)\n",
    "    plt.tight_layout()"
   ]
  },
  {
   "cell_type": "code",
   "execution_count": 45,
   "metadata": {
    "papermill": {
     "duration": 2.958361,
     "end_time": "2021-01-13T20:19:48.567680",
     "exception": false,
     "start_time": "2021-01-13T20:19:45.609319",
     "status": "completed"
    },
    "tags": []
   },
   "outputs": [
    {
     "data": {
      "image/png": "[encoded data removed]",
      "text/plain": [
       "<Figure size 1008x432 with 1 Axes>"
      ]
     },
     "metadata": {},
     "output_type": "display_data"
    }
   ],
   "source": [
    "with sns.plotting_context(\"talk\", font_scale=0.75), sns.axes_style(\n",
    "    \"whitegrid\", {\"grid.linestyle\": \"--\"}\n",
    "):\n",
    "    fig = plt.figure(figsize=(14, 6))\n",
    "    ax = sns.pointplot(data=ensemble, x=\"n_clusters\", y=\"db_score\")\n",
    "    ax.set_ylabel(\"Davies-Bouldin index\\n(lower is better)\")\n",
    "    ax.set_xlabel(\"Number of clusters ($k$)\")\n",
    "    ax.set_xticklabels(ax.get_xticklabels(), rotation=45)\n",
    "    plt.grid(True)\n",
    "    plt.tight_layout()"
   ]
  },
  {
   "cell_type": "markdown",
   "metadata": {},
   "source": [
    "# Conclusions"
   ]
  },
  {
   "cell_type": "markdown",
   "metadata": {},
   "source": [
    "The values explored above for `k_values` and `eps_range_per_k` are the one that will be used for DBSCAN in this data version."
   ]
  },
  {
   "cell_type": "code",
   "execution_count": null,
   "metadata": {},
   "outputs": [],
   "source": []
  }
 ],
 "metadata": {
  "jupytext": {
   "cell_metadata_filter": "all,-execution,-papermill,-trusted",
   "formats": "ipynb,py//py:percent"
  },
  "kernelspec": {
   "display_name": "Python 3",
   "language": "python",
   "name": "python3"
  },
  "language_info": {
   "codemirror_mode": {
    "name": "ipython",
    "version": 3
   },
   "file_extension": ".py",
   "mimetype": "text/x-python",
   "name": "python",
   "nbconvert_exporter": "python",
   "pygments_lexer": "ipython3",
   "version": "3.8.8"
  },
  "papermill": {
   "default_parameters": {},
   "duration": 927.5516,
   "end_time": "2021-02-22T22:10:47.465120",
   "environment_variables": {},
   "exception": null,
   "input_path": "15_cluster_analysis/002_00-dbscan-z_score_std.ipynb",
   "output_path": "15_cluster_analysis/002_00-dbscan-z_score_std.run.ipynb",
   "parameters": {},
   "start_time": "2021-02-22T21:55:19.913520",
   "version": "2.2.2"
  },
  "toc-autonumbering": true,
  "toc-showcode": false,
  "toc-showmarkdowntxt": false,
  "toc-showtags": false
 },
 "nbformat": 4,
 "nbformat_minor": 4
}
