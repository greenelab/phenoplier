{
 "cells": [
  {
   "cell_type": "markdown",
   "metadata": {
    "papermill": {
     "duration": 0.064725,
     "end_time": "2021-01-12T06:07:14.623003",
     "exception": false,
     "start_time": "2021-01-12T06:07:14.558278",
     "status": "completed"
    },
    "tags": []
   },
   "source": [
    "# Description"
   ]
  },
  {
   "cell_type": "markdown",
   "metadata": {
    "papermill": {
     "duration": 0.026806,
     "end_time": "2021-01-12T06:07:14.676325",
     "exception": false,
     "start_time": "2021-01-12T06:07:14.649519",
     "status": "completed"
    },
    "tags": []
   },
   "source": [
    "This notebook runs some pre-analyses using spectral clustering to explore the best set of parameters to cluster `pca` data version."
   ]
  },
  {
   "cell_type": "markdown",
   "metadata": {
    "papermill": {
     "duration": 0.026731,
     "end_time": "2021-01-12T06:07:14.729991",
     "exception": false,
     "start_time": "2021-01-12T06:07:14.703260",
     "status": "completed"
    },
    "tags": []
   },
   "source": [
    "# Environment variables"
   ]
  },
  {
   "cell_type": "code",
   "execution_count": 1,
   "metadata": {
    "execution": {
     "iopub.execute_input": "2021-01-12T06:07:14.786544Z",
     "iopub.status.busy": "2021-01-12T06:07:14.786157Z",
     "iopub.status.idle": "2021-01-12T06:07:14.796796Z",
     "shell.execute_reply": "2021-01-12T06:07:14.796306Z"
    },
    "papermill": {
     "duration": 0.040122,
     "end_time": "2021-01-12T06:07:14.796927",
     "exception": false,
     "start_time": "2021-01-12T06:07:14.756805",
     "status": "completed"
    },
    "tags": []
   },
   "outputs": [
    {
     "data": {
      "text/plain": [
       "3"
      ]
     },
     "metadata": {},
     "output_type": "display_data"
    }
   ],
   "source": [
    "from IPython.display import display\n",
    "\n",
    "import conf\n",
    "\n",
    "N_JOBS = conf.GENERAL[\"N_JOBS\"]\n",
    "display(N_JOBS)"
   ]
  },
  {
   "cell_type": "code",
   "execution_count": 2,
   "metadata": {
    "execution": {
     "iopub.execute_input": "2021-01-12T06:07:14.855483Z",
     "iopub.status.busy": "2021-01-12T06:07:14.855059Z",
     "iopub.status.idle": "2021-01-12T06:07:14.857504Z",
     "shell.execute_reply": "2021-01-12T06:07:14.857191Z"
    },
    "papermill": {
     "duration": 0.033432,
     "end_time": "2021-01-12T06:07:14.857596",
     "exception": false,
     "start_time": "2021-01-12T06:07:14.824164",
     "status": "completed"
    },
    "tags": []
   },
   "outputs": [
    {
     "name": "stdout",
     "output_type": "stream",
     "text": [
      "env: MKL_NUM_THREADS=3\n",
      "env: OPEN_BLAS_NUM_THREADS=3\n",
      "env: NUMEXPR_NUM_THREADS=3\n",
      "env: OMP_NUM_THREADS=3\n"
     ]
    }
   ],
   "source": [
    "%env MKL_NUM_THREADS=$N_JOBS\n",
    "%env OPEN_BLAS_NUM_THREADS=$N_JOBS\n",
    "%env NUMEXPR_NUM_THREADS=$N_JOBS\n",
    "%env OMP_NUM_THREADS=$N_JOBS"
   ]
  },
  {
   "cell_type": "markdown",
   "metadata": {
    "papermill": {
     "duration": 0.027044,
     "end_time": "2021-01-12T06:07:14.912563",
     "exception": false,
     "start_time": "2021-01-12T06:07:14.885519",
     "status": "completed"
    },
    "tags": []
   },
   "source": [
    "# Modules loading"
   ]
  },
  {
   "cell_type": "code",
   "execution_count": 3,
   "metadata": {
    "execution": {
     "iopub.execute_input": "2021-01-12T06:07:14.970258Z",
     "iopub.status.busy": "2021-01-12T06:07:14.969881Z",
     "iopub.status.idle": "2021-01-12T06:07:14.976986Z",
     "shell.execute_reply": "2021-01-12T06:07:14.977283Z"
    },
    "papermill": {
     "duration": 0.037675,
     "end_time": "2021-01-12T06:07:14.977390",
     "exception": false,
     "start_time": "2021-01-12T06:07:14.939715",
     "status": "completed"
    },
    "tags": []
   },
   "outputs": [],
   "source": [
    "%load_ext autoreload\n",
    "%autoreload 2"
   ]
  },
  {
   "cell_type": "code",
   "execution_count": 4,
   "metadata": {
    "execution": {
     "iopub.execute_input": "2021-01-12T06:07:15.034101Z",
     "iopub.status.busy": "2021-01-12T06:07:15.033717Z",
     "iopub.status.idle": "2021-01-12T06:07:16.613463Z",
     "shell.execute_reply": "2021-01-12T06:07:16.613812Z"
    },
    "papermill": {
     "duration": 1.609524,
     "end_time": "2021-01-12T06:07:16.613934",
     "exception": false,
     "start_time": "2021-01-12T06:07:15.004410",
     "status": "completed"
    },
    "tags": []
   },
   "outputs": [],
   "source": [
    "from pathlib import Path\n",
    "import warnings\n",
    "\n",
    "import numpy as np\n",
    "import pandas as pd\n",
    "import matplotlib.pyplot as plt\n",
    "import seaborn as sns\n",
    "\n",
    "from utils import generate_result_set_name"
   ]
  },
  {
   "cell_type": "markdown",
   "metadata": {
    "papermill": {
     "duration": 0.026772,
     "end_time": "2021-01-12T06:07:16.669777",
     "exception": false,
     "start_time": "2021-01-12T06:07:16.643005",
     "status": "completed"
    },
    "tags": []
   },
   "source": [
    "# Settings"
   ]
  },
  {
   "cell_type": "code",
   "execution_count": 5,
   "metadata": {
    "execution": {
     "iopub.execute_input": "2021-01-12T06:07:16.726452Z",
     "iopub.status.busy": "2021-01-12T06:07:16.726086Z",
     "iopub.status.idle": "2021-01-12T06:07:16.737939Z",
     "shell.execute_reply": "2021-01-12T06:07:16.738217Z"
    },
    "papermill": {
     "duration": 0.041408,
     "end_time": "2021-01-12T06:07:16.738327",
     "exception": false,
     "start_time": "2021-01-12T06:07:16.696919",
     "status": "completed"
    },
    "tags": []
   },
   "outputs": [],
   "source": [
    "INITIAL_RANDOM_STATE = 40000"
   ]
  },
  {
   "cell_type": "markdown",
   "metadata": {
    "papermill": {
     "duration": 0.026498,
     "end_time": "2021-01-12T06:07:16.791657",
     "exception": false,
     "start_time": "2021-01-12T06:07:16.765159",
     "status": "completed"
    },
    "tags": []
   },
   "source": [
    "# PCA"
   ]
  },
  {
   "cell_type": "code",
   "execution_count": 6,
   "metadata": {
    "execution": {
     "iopub.execute_input": "2021-01-12T06:07:16.847281Z",
     "iopub.status.busy": "2021-01-12T06:07:16.846912Z",
     "iopub.status.idle": "2021-01-12T06:07:16.858785Z",
     "shell.execute_reply": "2021-01-12T06:07:16.858404Z"
    },
    "papermill": {
     "duration": 0.040801,
     "end_time": "2021-01-12T06:07:16.858870",
     "exception": false,
     "start_time": "2021-01-12T06:07:16.818069",
     "status": "completed"
    },
    "tags": []
   },
   "outputs": [],
   "source": [
    "INPUT_SUBSET = \"pca\""
   ]
  },
  {
   "cell_type": "code",
   "execution_count": 7,
   "metadata": {
    "execution": {
     "iopub.execute_input": "2021-01-12T06:07:16.915099Z",
     "iopub.status.busy": "2021-01-12T06:07:16.914736Z",
     "iopub.status.idle": "2021-01-12T06:07:16.926707Z",
     "shell.execute_reply": "2021-01-12T06:07:16.926324Z"
    },
    "papermill": {
     "duration": 0.040965,
     "end_time": "2021-01-12T06:07:16.926796",
     "exception": false,
     "start_time": "2021-01-12T06:07:16.885831",
     "status": "completed"
    },
    "tags": []
   },
   "outputs": [],
   "source": [
    "INPUT_STEM = \"z_score_std-projection-smultixcan-efo_partial-mashr-zscores\""
   ]
  },
  {
   "cell_type": "code",
   "execution_count": 8,
   "metadata": {
    "execution": {
     "iopub.execute_input": "2021-01-12T06:07:16.983718Z",
     "iopub.status.busy": "2021-01-12T06:07:16.983352Z",
     "iopub.status.idle": "2021-01-12T06:07:16.995108Z",
     "shell.execute_reply": "2021-01-12T06:07:16.994734Z"
    },
    "papermill": {
     "duration": 0.041194,
     "end_time": "2021-01-12T06:07:16.995196",
     "exception": false,
     "start_time": "2021-01-12T06:07:16.954002",
     "status": "completed"
    },
    "tags": []
   },
   "outputs": [],
   "source": [
    "DR_OPTIONS = {\n",
    "    \"n_components\": 50,\n",
    "    \"svd_solver\": \"full\",\n",
    "    \"random_state\": 0,\n",
    "}"
   ]
  },
  {
   "cell_type": "code",
   "execution_count": 9,
   "metadata": {
    "execution": {
     "iopub.execute_input": "2021-01-12T06:07:17.052382Z",
     "iopub.status.busy": "2021-01-12T06:07:17.052011Z",
     "iopub.status.idle": "2021-01-12T06:07:17.065741Z",
     "shell.execute_reply": "2021-01-12T06:07:17.065423Z"
    },
    "papermill": {
     "duration": 0.043214,
     "end_time": "2021-01-12T06:07:17.065829",
     "exception": false,
     "start_time": "2021-01-12T06:07:17.022615",
     "status": "completed"
    },
    "tags": []
   },
   "outputs": [
    {
     "data": {
      "text/plain": [
       "PosixPath('/home/miltondp/projects/labs/greenelab/phenoplier/base3/results/data_transformations/pca/pca-z_score_std-projection-smultixcan-efo_partial-mashr-zscores-n_components_50-random_state_0-svd_solver_full.pkl')"
      ]
     },
     "metadata": {},
     "output_type": "display_data"
    },
    {
     "data": {
      "text/plain": [
       "'pca-z_score_std-projection-smultixcan-efo_partial-mashr-zscores-n_components_50-random_state_0-svd_solver_full'"
      ]
     },
     "metadata": {},
     "output_type": "display_data"
    }
   ],
   "source": [
    "input_filepath = Path(\n",
    "    conf.RESULTS[\"DATA_TRANSFORMATIONS_DIR\"],\n",
    "    INPUT_SUBSET,\n",
    "    generate_result_set_name(\n",
    "        DR_OPTIONS, prefix=f\"{INPUT_SUBSET}-{INPUT_STEM}-\", suffix=\".pkl\"\n",
    "    ),\n",
    ").resolve()\n",
    "display(input_filepath)\n",
    "\n",
    "assert input_filepath.exists(), \"Input file does not exist\"\n",
    "\n",
    "input_filepath_stem = input_filepath.stem\n",
    "display(input_filepath_stem)"
   ]
  },
  {
   "cell_type": "code",
   "execution_count": 10,
   "metadata": {
    "execution": {
     "iopub.execute_input": "2021-01-12T06:07:17.123074Z",
     "iopub.status.busy": "2021-01-12T06:07:17.122706Z",
     "iopub.status.idle": "2021-01-12T06:07:17.135846Z",
     "shell.execute_reply": "2021-01-12T06:07:17.136137Z"
    },
    "papermill": {
     "duration": 0.042854,
     "end_time": "2021-01-12T06:07:17.136249",
     "exception": false,
     "start_time": "2021-01-12T06:07:17.093395",
     "status": "completed"
    },
    "tags": []
   },
   "outputs": [],
   "source": [
    "data = pd.read_pickle(input_filepath)"
   ]
  },
  {
   "cell_type": "code",
   "execution_count": 11,
   "metadata": {
    "execution": {
     "iopub.execute_input": "2021-01-12T06:07:17.194093Z",
     "iopub.status.busy": "2021-01-12T06:07:17.193728Z",
     "iopub.status.idle": "2021-01-12T06:07:17.206465Z",
     "shell.execute_reply": "2021-01-12T06:07:17.206132Z"
    },
    "papermill": {
     "duration": 0.042776,
     "end_time": "2021-01-12T06:07:17.206556",
     "exception": false,
     "start_time": "2021-01-12T06:07:17.163780",
     "status": "completed"
    },
    "tags": []
   },
   "outputs": [
    {
     "data": {
      "text/plain": [
       "(3749, 50)"
      ]
     },
     "execution_count": 11,
     "metadata": {},
     "output_type": "execute_result"
    }
   ],
   "source": [
    "data.shape"
   ]
  },
  {
   "cell_type": "code",
   "execution_count": 12,
   "metadata": {
    "execution": {
     "iopub.execute_input": "2021-01-12T06:07:17.265688Z",
     "iopub.status.busy": "2021-01-12T06:07:17.265323Z",
     "iopub.status.idle": "2021-01-12T06:07:17.290856Z",
     "shell.execute_reply": "2021-01-12T06:07:17.290476Z"
    },
    "papermill": {
     "duration": 0.055385,
     "end_time": "2021-01-12T06:07:17.290948",
     "exception": false,
     "start_time": "2021-01-12T06:07:17.235563",
     "status": "completed"
    },
    "tags": []
   },
   "outputs": [
    {
     "data": {
      "text/html": [
       "<div>\n",
       "<style scoped>\n",
       "    .dataframe tbody tr th:only-of-type {\n",
       "        vertical-align: middle;\n",
       "    }\n",
       "\n",
       "    .dataframe tbody tr th {\n",
       "        vertical-align: top;\n",
       "    }\n",
       "\n",
       "    .dataframe thead th {\n",
       "        text-align: right;\n",
       "    }\n",
       "</style>\n",
       "<table border=\"1\" class=\"dataframe\">\n",
       "  <thead>\n",
       "    <tr style=\"text-align: right;\">\n",
       "      <th></th>\n",
       "      <th>PCA1</th>\n",
       "      <th>PCA2</th>\n",
       "      <th>PCA3</th>\n",
       "      <th>PCA4</th>\n",
       "      <th>PCA5</th>\n",
       "      <th>PCA6</th>\n",
       "      <th>PCA7</th>\n",
       "      <th>PCA8</th>\n",
       "      <th>PCA9</th>\n",
       "      <th>PCA10</th>\n",
       "      <th>...</th>\n",
       "      <th>PCA41</th>\n",
       "      <th>PCA42</th>\n",
       "      <th>PCA43</th>\n",
       "      <th>PCA44</th>\n",
       "      <th>PCA45</th>\n",
       "      <th>PCA46</th>\n",
       "      <th>PCA47</th>\n",
       "      <th>PCA48</th>\n",
       "      <th>PCA49</th>\n",
       "      <th>PCA50</th>\n",
       "    </tr>\n",
       "  </thead>\n",
       "  <tbody>\n",
       "    <tr>\n",
       "      <th>100001_raw-Food_weight</th>\n",
       "      <td>-0.547515</td>\n",
       "      <td>-0.007250</td>\n",
       "      <td>0.245361</td>\n",
       "      <td>0.132424</td>\n",
       "      <td>1.201447</td>\n",
       "      <td>-0.113158</td>\n",
       "      <td>0.048859</td>\n",
       "      <td>1.031679</td>\n",
       "      <td>0.711208</td>\n",
       "      <td>0.126100</td>\n",
       "      <td>...</td>\n",
       "      <td>0.113685</td>\n",
       "      <td>-0.109753</td>\n",
       "      <td>0.178202</td>\n",
       "      <td>-0.487868</td>\n",
       "      <td>1.805920</td>\n",
       "      <td>-0.342611</td>\n",
       "      <td>-0.663712</td>\n",
       "      <td>-1.313987</td>\n",
       "      <td>-1.481707</td>\n",
       "      <td>0.396410</td>\n",
       "    </tr>\n",
       "    <tr>\n",
       "      <th>100002_raw-Energy</th>\n",
       "      <td>-1.570593</td>\n",
       "      <td>-0.618992</td>\n",
       "      <td>-1.223395</td>\n",
       "      <td>1.627321</td>\n",
       "      <td>-0.563860</td>\n",
       "      <td>0.224922</td>\n",
       "      <td>-1.500327</td>\n",
       "      <td>2.045633</td>\n",
       "      <td>-1.665998</td>\n",
       "      <td>-0.180432</td>\n",
       "      <td>...</td>\n",
       "      <td>0.697880</td>\n",
       "      <td>1.412676</td>\n",
       "      <td>2.103988</td>\n",
       "      <td>0.385625</td>\n",
       "      <td>2.386495</td>\n",
       "      <td>-2.939998</td>\n",
       "      <td>-0.978275</td>\n",
       "      <td>-1.893307</td>\n",
       "      <td>-0.259497</td>\n",
       "      <td>0.423264</td>\n",
       "    </tr>\n",
       "    <tr>\n",
       "      <th>100003_raw-Protein</th>\n",
       "      <td>-0.601212</td>\n",
       "      <td>-0.948824</td>\n",
       "      <td>-1.022209</td>\n",
       "      <td>2.438433</td>\n",
       "      <td>-2.062235</td>\n",
       "      <td>0.356202</td>\n",
       "      <td>-1.538038</td>\n",
       "      <td>2.314675</td>\n",
       "      <td>-1.108991</td>\n",
       "      <td>0.318034</td>\n",
       "      <td>...</td>\n",
       "      <td>0.171992</td>\n",
       "      <td>1.351979</td>\n",
       "      <td>0.054404</td>\n",
       "      <td>-0.725132</td>\n",
       "      <td>2.226520</td>\n",
       "      <td>-3.481674</td>\n",
       "      <td>-0.445294</td>\n",
       "      <td>-0.477452</td>\n",
       "      <td>0.237157</td>\n",
       "      <td>1.440867</td>\n",
       "    </tr>\n",
       "    <tr>\n",
       "      <th>100004_raw-Fat</th>\n",
       "      <td>-1.648214</td>\n",
       "      <td>-0.342042</td>\n",
       "      <td>-0.270189</td>\n",
       "      <td>1.683268</td>\n",
       "      <td>-1.222401</td>\n",
       "      <td>0.018349</td>\n",
       "      <td>-0.032824</td>\n",
       "      <td>1.671161</td>\n",
       "      <td>-0.908965</td>\n",
       "      <td>0.224100</td>\n",
       "      <td>...</td>\n",
       "      <td>-0.358812</td>\n",
       "      <td>0.696836</td>\n",
       "      <td>1.072624</td>\n",
       "      <td>0.627951</td>\n",
       "      <td>1.802000</td>\n",
       "      <td>0.174704</td>\n",
       "      <td>0.826319</td>\n",
       "      <td>-0.826992</td>\n",
       "      <td>0.596113</td>\n",
       "      <td>0.620050</td>\n",
       "    </tr>\n",
       "    <tr>\n",
       "      <th>100005_raw-Carbohydrate</th>\n",
       "      <td>-1.867586</td>\n",
       "      <td>-0.006412</td>\n",
       "      <td>-0.303220</td>\n",
       "      <td>0.770958</td>\n",
       "      <td>-0.116822</td>\n",
       "      <td>0.460946</td>\n",
       "      <td>-2.407732</td>\n",
       "      <td>1.534273</td>\n",
       "      <td>-1.930577</td>\n",
       "      <td>0.064621</td>\n",
       "      <td>...</td>\n",
       "      <td>1.332852</td>\n",
       "      <td>1.978032</td>\n",
       "      <td>2.158456</td>\n",
       "      <td>0.831123</td>\n",
       "      <td>1.093202</td>\n",
       "      <td>-3.539033</td>\n",
       "      <td>-0.831862</td>\n",
       "      <td>-0.842298</td>\n",
       "      <td>-0.723072</td>\n",
       "      <td>0.359438</td>\n",
       "    </tr>\n",
       "  </tbody>\n",
       "</table>\n",
       "<p>5 rows × 50 columns</p>\n",
       "</div>"
      ],
      "text/plain": [
       "                             PCA1      PCA2      PCA3      PCA4      PCA5  \\\n",
       "100001_raw-Food_weight  -0.547515 -0.007250  0.245361  0.132424  1.201447   \n",
       "100002_raw-Energy       -1.570593 -0.618992 -1.223395  1.627321 -0.563860   \n",
       "100003_raw-Protein      -0.601212 -0.948824 -1.022209  2.438433 -2.062235   \n",
       "100004_raw-Fat          -1.648214 -0.342042 -0.270189  1.683268 -1.222401   \n",
       "100005_raw-Carbohydrate -1.867586 -0.006412 -0.303220  0.770958 -0.116822   \n",
       "\n",
       "                             PCA6      PCA7      PCA8      PCA9     PCA10  \\\n",
       "100001_raw-Food_weight  -0.113158  0.048859  1.031679  0.711208  0.126100   \n",
       "100002_raw-Energy        0.224922 -1.500327  2.045633 -1.665998 -0.180432   \n",
       "100003_raw-Protein       0.356202 -1.538038  2.314675 -1.108991  0.318034   \n",
       "100004_raw-Fat           0.018349 -0.032824  1.671161 -0.908965  0.224100   \n",
       "100005_raw-Carbohydrate  0.460946 -2.407732  1.534273 -1.930577  0.064621   \n",
       "\n",
       "                         ...     PCA41     PCA42     PCA43     PCA44  \\\n",
       "100001_raw-Food_weight   ...  0.113685 -0.109753  0.178202 -0.487868   \n",
       "100002_raw-Energy        ...  0.697880  1.412676  2.103988  0.385625   \n",
       "100003_raw-Protein       ...  0.171992  1.351979  0.054404 -0.725132   \n",
       "100004_raw-Fat           ... -0.358812  0.696836  1.072624  0.627951   \n",
       "100005_raw-Carbohydrate  ...  1.332852  1.978032  2.158456  0.831123   \n",
       "\n",
       "                            PCA45     PCA46     PCA47     PCA48     PCA49  \\\n",
       "100001_raw-Food_weight   1.805920 -0.342611 -0.663712 -1.313987 -1.481707   \n",
       "100002_raw-Energy        2.386495 -2.939998 -0.978275 -1.893307 -0.259497   \n",
       "100003_raw-Protein       2.226520 -3.481674 -0.445294 -0.477452  0.237157   \n",
       "100004_raw-Fat           1.802000  0.174704  0.826319 -0.826992  0.596113   \n",
       "100005_raw-Carbohydrate  1.093202 -3.539033 -0.831862 -0.842298 -0.723072   \n",
       "\n",
       "                            PCA50  \n",
       "100001_raw-Food_weight   0.396410  \n",
       "100002_raw-Energy        0.423264  \n",
       "100003_raw-Protein       1.440867  \n",
       "100004_raw-Fat           0.620050  \n",
       "100005_raw-Carbohydrate  0.359438  \n",
       "\n",
       "[5 rows x 50 columns]"
      ]
     },
     "execution_count": 12,
     "metadata": {},
     "output_type": "execute_result"
    }
   ],
   "source": [
    "data.head()"
   ]
  },
  {
   "cell_type": "markdown",
   "metadata": {
    "papermill": {
     "duration": 0.027519,
     "end_time": "2021-01-12T06:07:17.346783",
     "exception": false,
     "start_time": "2021-01-12T06:07:17.319264",
     "status": "completed"
    },
    "tags": []
   },
   "source": [
    "# Clustering"
   ]
  },
  {
   "cell_type": "code",
   "execution_count": 13,
   "metadata": {
    "execution": {
     "iopub.execute_input": "2021-01-12T06:07:17.404877Z",
     "iopub.status.busy": "2021-01-12T06:07:17.404432Z",
     "iopub.status.idle": "2021-01-12T06:07:17.422582Z",
     "shell.execute_reply": "2021-01-12T06:07:17.422204Z"
    },
    "papermill": {
     "duration": 0.048132,
     "end_time": "2021-01-12T06:07:17.422672",
     "exception": false,
     "start_time": "2021-01-12T06:07:17.374540",
     "status": "completed"
    },
    "tags": []
   },
   "outputs": [],
   "source": [
    "from sklearn.cluster import SpectralClustering\n",
    "from sklearn.metrics import silhouette_score, calinski_harabasz_score"
   ]
  },
  {
   "cell_type": "markdown",
   "metadata": {
    "papermill": {
     "duration": 0.027739,
     "end_time": "2021-01-12T06:07:17.479047",
     "exception": false,
     "start_time": "2021-01-12T06:07:17.451308",
     "status": "completed"
    },
    "tags": []
   },
   "source": [
    "## `gamma` parameter"
   ]
  },
  {
   "cell_type": "markdown",
   "metadata": {
    "papermill": {
     "duration": 0.027403,
     "end_time": "2021-01-12T06:07:17.534207",
     "exception": false,
     "start_time": "2021-01-12T06:07:17.506804",
     "status": "completed"
    },
    "tags": []
   },
   "source": [
    "### Using default value (`gamma=1.0`)"
   ]
  },
  {
   "cell_type": "code",
   "execution_count": 14,
   "metadata": {
    "execution": {
     "iopub.execute_input": "2021-01-12T06:07:17.591889Z",
     "iopub.status.busy": "2021-01-12T06:07:17.591496Z",
     "iopub.status.idle": "2021-01-12T06:07:19.821540Z",
     "shell.execute_reply": "2021-01-12T06:07:19.821840Z"
    },
    "papermill": {
     "duration": 2.260514,
     "end_time": "2021-01-12T06:07:19.821958",
     "exception": false,
     "start_time": "2021-01-12T06:07:17.561444",
     "status": "completed"
    },
    "tags": []
   },
   "outputs": [
    {
     "name": "stderr",
     "output_type": "stream",
     "text": [
      "/mnt/software/miniconda3/envs/phenoplier/lib/python3.8/site-packages/sklearn/manifold/_spectral_embedding.py:236: UserWarning: Graph is not fully connected, spectral embedding may not work as expected.\n",
      "  warnings.warn(\"Graph is not fully connected, spectral embedding\"\n"
     ]
    }
   ],
   "source": [
    "with warnings.catch_warnings():\n",
    "    warnings.filterwarnings(\"always\")\n",
    "\n",
    "    clus = SpectralClustering(\n",
    "        eigen_solver=\"arpack\",\n",
    "        eigen_tol=1e-3,\n",
    "        n_clusters=2,\n",
    "        n_init=1,\n",
    "        affinity=\"rbf\",\n",
    "        gamma=1.00,\n",
    "        random_state=INITIAL_RANDOM_STATE,\n",
    "    )\n",
    "\n",
    "    part = clus.fit_predict(data)"
   ]
  },
  {
   "cell_type": "code",
   "execution_count": 15,
   "metadata": {
    "execution": {
     "iopub.execute_input": "2021-01-12T06:07:19.882440Z",
     "iopub.status.busy": "2021-01-12T06:07:19.882075Z",
     "iopub.status.idle": "2021-01-12T06:07:19.896008Z",
     "shell.execute_reply": "2021-01-12T06:07:19.895629Z"
    },
    "papermill": {
     "duration": 0.044766,
     "end_time": "2021-01-12T06:07:19.896098",
     "exception": false,
     "start_time": "2021-01-12T06:07:19.851332",
     "status": "completed"
    },
    "tags": []
   },
   "outputs": [
    {
     "data": {
      "text/plain": [
       "0    3748\n",
       "1       1\n",
       "dtype: int64"
      ]
     },
     "execution_count": 15,
     "metadata": {},
     "output_type": "execute_result"
    }
   ],
   "source": [
    "# show number of clusters and their size\n",
    "pd.Series(part).value_counts()"
   ]
  },
  {
   "cell_type": "markdown",
   "metadata": {
    "papermill": {
     "duration": 0.029027,
     "end_time": "2021-01-12T06:07:19.954556",
     "exception": false,
     "start_time": "2021-01-12T06:07:19.925529",
     "status": "completed"
    },
    "tags": []
   },
   "source": [
    "For default values of `gamma` (`1.0`), the algorithm takes a lot of time to converge (here I used `eigen_tol=1e-03` to force convergence)."
   ]
  },
  {
   "cell_type": "markdown",
   "metadata": {
    "papermill": {
     "duration": 0.027971,
     "end_time": "2021-01-12T06:07:20.011336",
     "exception": false,
     "start_time": "2021-01-12T06:07:19.983365",
     "status": "completed"
    },
    "tags": []
   },
   "source": [
    "### Using `gamma=0.01`"
   ]
  },
  {
   "cell_type": "code",
   "execution_count": 16,
   "metadata": {
    "execution": {
     "iopub.execute_input": "2021-01-12T06:07:20.070765Z",
     "iopub.status.busy": "2021-01-12T06:07:20.070378Z",
     "iopub.status.idle": "2021-01-12T06:07:21.414790Z",
     "shell.execute_reply": "2021-01-12T06:07:21.414261Z"
    },
    "papermill": {
     "duration": 1.375493,
     "end_time": "2021-01-12T06:07:21.414887",
     "exception": false,
     "start_time": "2021-01-12T06:07:20.039394",
     "status": "completed"
    },
    "tags": []
   },
   "outputs": [],
   "source": [
    "with warnings.catch_warnings():\n",
    "    warnings.filterwarnings(\"always\")\n",
    "\n",
    "    clus = SpectralClustering(\n",
    "        eigen_solver=\"arpack\",\n",
    "        eigen_tol=1e-3,\n",
    "        n_clusters=2,\n",
    "        n_init=1,\n",
    "        affinity=\"rbf\",\n",
    "        gamma=0.01,\n",
    "        random_state=INITIAL_RANDOM_STATE,\n",
    "    )\n",
    "\n",
    "    part = clus.fit_predict(data)"
   ]
  },
  {
   "cell_type": "code",
   "execution_count": 17,
   "metadata": {
    "execution": {
     "iopub.execute_input": "2021-01-12T06:07:21.474790Z",
     "iopub.status.busy": "2021-01-12T06:07:21.474422Z",
     "iopub.status.idle": "2021-01-12T06:07:21.489212Z",
     "shell.execute_reply": "2021-01-12T06:07:21.488830Z"
    },
    "papermill": {
     "duration": 0.04555,
     "end_time": "2021-01-12T06:07:21.489302",
     "exception": false,
     "start_time": "2021-01-12T06:07:21.443752",
     "status": "completed"
    },
    "tags": []
   },
   "outputs": [
    {
     "data": {
      "text/plain": [
       "0    3748\n",
       "1       1\n",
       "dtype: int64"
      ]
     },
     "execution_count": 17,
     "metadata": {},
     "output_type": "execute_result"
    }
   ],
   "source": [
    "# show number of clusters and their size\n",
    "pd.Series(part).value_counts()"
   ]
  },
  {
   "cell_type": "markdown",
   "metadata": {
    "papermill": {
     "duration": 0.028204,
     "end_time": "2021-01-12T06:07:21.546908",
     "exception": false,
     "start_time": "2021-01-12T06:07:21.518704",
     "status": "completed"
    },
    "tags": []
   },
   "source": [
    "For values around `gamma=0.01` the algorithm takes a lot of time to converge (here I used `eigen_tol=1e-03` to force convergence)."
   ]
  },
  {
   "cell_type": "markdown",
   "metadata": {
    "papermill": {
     "duration": 0.02824,
     "end_time": "2021-01-12T06:07:21.603496",
     "exception": false,
     "start_time": "2021-01-12T06:07:21.575256",
     "status": "completed"
    },
    "tags": []
   },
   "source": [
    "### Using `gamma=0.001`"
   ]
  },
  {
   "cell_type": "code",
   "execution_count": 18,
   "metadata": {
    "execution": {
     "iopub.execute_input": "2021-01-12T06:07:21.664303Z",
     "iopub.status.busy": "2021-01-12T06:07:21.663915Z",
     "iopub.status.idle": "2021-01-12T06:07:22.867713Z",
     "shell.execute_reply": "2021-01-12T06:07:22.868035Z"
    },
    "papermill": {
     "duration": 1.235862,
     "end_time": "2021-01-12T06:07:22.868148",
     "exception": false,
     "start_time": "2021-01-12T06:07:21.632286",
     "status": "completed"
    },
    "tags": []
   },
   "outputs": [],
   "source": [
    "with warnings.catch_warnings():\n",
    "    warnings.filterwarnings(\"always\")\n",
    "\n",
    "    clus = SpectralClustering(\n",
    "        eigen_solver=\"arpack\",\n",
    "        #         eigen_tol=1e-3,\n",
    "        n_clusters=2,\n",
    "        n_init=1,\n",
    "        affinity=\"rbf\",\n",
    "        gamma=0.001,\n",
    "        random_state=INITIAL_RANDOM_STATE,\n",
    "    )\n",
    "\n",
    "    part = clus.fit_predict(data)"
   ]
  },
  {
   "cell_type": "code",
   "execution_count": 19,
   "metadata": {
    "execution": {
     "iopub.execute_input": "2021-01-12T06:07:22.933493Z",
     "iopub.status.busy": "2021-01-12T06:07:22.933124Z",
     "iopub.status.idle": "2021-01-12T06:07:22.946800Z",
     "shell.execute_reply": "2021-01-12T06:07:22.946482Z"
    },
    "papermill": {
     "duration": 0.044919,
     "end_time": "2021-01-12T06:07:22.946895",
     "exception": false,
     "start_time": "2021-01-12T06:07:22.901976",
     "status": "completed"
    },
    "tags": []
   },
   "outputs": [
    {
     "data": {
      "text/plain": [
       "0    3747\n",
       "1       2\n",
       "dtype: int64"
      ]
     },
     "execution_count": 19,
     "metadata": {},
     "output_type": "execute_result"
    }
   ],
   "source": [
    "# show number of clusters and their size\n",
    "pd.Series(part).value_counts()"
   ]
  },
  {
   "cell_type": "code",
   "execution_count": 20,
   "metadata": {
    "execution": {
     "iopub.execute_input": "2021-01-12T06:07:23.010117Z",
     "iopub.status.busy": "2021-01-12T06:07:23.009751Z",
     "iopub.status.idle": "2021-01-12T06:07:23.234446Z",
     "shell.execute_reply": "2021-01-12T06:07:23.234742Z"
    },
    "papermill": {
     "duration": 0.257308,
     "end_time": "2021-01-12T06:07:23.234849",
     "exception": false,
     "start_time": "2021-01-12T06:07:22.977541",
     "status": "completed"
    },
    "tags": []
   },
   "outputs": [
    {
     "data": {
      "text/plain": [
       "0.8344842879459312"
      ]
     },
     "execution_count": 20,
     "metadata": {},
     "output_type": "execute_result"
    }
   ],
   "source": [
    "# From sklearn website:\n",
    "# The best value is 1 and the worst value is -1. Values near 0 indicate overlapping clusters.\n",
    "# Negative values generally indicate that a sample has been assigned to the wrong cluster,\n",
    "# as a different cluster is more similar\n",
    "silhouette_score(data, part)"
   ]
  },
  {
   "cell_type": "code",
   "execution_count": 21,
   "metadata": {
    "execution": {
     "iopub.execute_input": "2021-01-12T06:07:23.295862Z",
     "iopub.status.busy": "2021-01-12T06:07:23.295494Z",
     "iopub.status.idle": "2021-01-12T06:07:23.312197Z",
     "shell.execute_reply": "2021-01-12T06:07:23.311815Z"
    },
    "papermill": {
     "duration": 0.047697,
     "end_time": "2021-01-12T06:07:23.312287",
     "exception": false,
     "start_time": "2021-01-12T06:07:23.264590",
     "status": "completed"
    },
    "tags": []
   },
   "outputs": [
    {
     "data": {
      "text/plain": [
       "83.0506773913528"
      ]
     },
     "execution_count": 21,
     "metadata": {},
     "output_type": "execute_result"
    }
   ],
   "source": [
    "# From sklearn website:\n",
    "# The score is defined as ratio between the within-cluster dispersion and the between-cluster dispersion. Higher is better.\n",
    "calinski_harabasz_score(data, part)"
   ]
  },
  {
   "cell_type": "markdown",
   "metadata": {
    "papermill": {
     "duration": 0.028595,
     "end_time": "2021-01-12T06:07:23.370183",
     "exception": false,
     "start_time": "2021-01-12T06:07:23.341588",
     "status": "completed"
    },
    "tags": []
   },
   "source": [
    "For values around `gamma=0.001` now the algorithm converges. This suggests smaller values should be explored for this parameter."
   ]
  },
  {
   "cell_type": "markdown",
   "metadata": {
    "papermill": {
     "duration": 0.028554,
     "end_time": "2021-01-12T06:07:23.427470",
     "exception": false,
     "start_time": "2021-01-12T06:07:23.398916",
     "status": "completed"
    },
    "tags": []
   },
   "source": [
    "## Extended test"
   ]
  },
  {
   "cell_type": "markdown",
   "metadata": {},
   "source": [
    "Here I run some test across several `k` and `gamma` values; then I check how results perform with different clustering quality measures."
   ]
  },
  {
   "cell_type": "code",
   "execution_count": 22,
   "metadata": {
    "execution": {
     "iopub.execute_input": "2021-01-12T06:07:23.488966Z",
     "iopub.status.busy": "2021-01-12T06:07:23.488513Z",
     "iopub.status.idle": "2021-01-12T06:07:23.502260Z",
     "shell.execute_reply": "2021-01-12T06:07:23.501883Z"
    },
    "papermill": {
     "duration": 0.045993,
     "end_time": "2021-01-12T06:07:23.502348",
     "exception": false,
     "start_time": "2021-01-12T06:07:23.456355",
     "status": "completed"
    },
    "tags": []
   },
   "outputs": [
    {
     "data": {
      "text/plain": [
       "{'K_RANGE': [2, 4, 6, 8, 10, 20, 30, 40, 50, 60],\n",
       " 'N_REPS_PER_K': 5,\n",
       " 'KMEANS_N_INIT': 10,\n",
       " 'GAMMAS': [0.001, 1e-05, 1e-10, 1e-15, 1e-17, 1e-20, 1e-30, 1e-40, 1e-50],\n",
       " 'AFFINITY': 'rbf'}"
      ]
     },
     "metadata": {},
     "output_type": "display_data"
    }
   ],
   "source": [
    "CLUSTERING_OPTIONS = {}\n",
    "\n",
    "CLUSTERING_OPTIONS[\"K_RANGE\"] = [2, 4, 6, 8, 10, 20, 30, 40, 50, 60]\n",
    "CLUSTERING_OPTIONS[\"N_REPS_PER_K\"] = 5\n",
    "CLUSTERING_OPTIONS[\"KMEANS_N_INIT\"] = 10\n",
    "CLUSTERING_OPTIONS[\"GAMMAS\"] = [\n",
    "    1e-03,\n",
    "    #     1e-04,\n",
    "    #     1e-05,\n",
    "    1e-05,\n",
    "    #     1e-06,\n",
    "    #     1e-07,\n",
    "    #     1e-08,\n",
    "    #     1e-09,\n",
    "    1e-10,\n",
    "    #     1e-11,\n",
    "    #     1e-12,\n",
    "    #     1e-13,\n",
    "    #     1e-14,\n",
    "    1e-15,\n",
    "    1e-17,\n",
    "    1e-20,\n",
    "    1e-30,\n",
    "    1e-40,\n",
    "    1e-50,\n",
    "]\n",
    "CLUSTERING_OPTIONS[\"AFFINITY\"] = \"rbf\"\n",
    "\n",
    "display(CLUSTERING_OPTIONS)"
   ]
  },
  {
   "cell_type": "code",
   "execution_count": 23,
   "metadata": {
    "execution": {
     "iopub.execute_input": "2021-01-12T06:07:23.564853Z",
     "iopub.status.busy": "2021-01-12T06:07:23.564429Z",
     "iopub.status.idle": "2021-01-12T06:07:23.578499Z",
     "shell.execute_reply": "2021-01-12T06:07:23.578126Z"
    },
    "papermill": {
     "duration": 0.046481,
     "end_time": "2021-01-12T06:07:23.578588",
     "exception": false,
     "start_time": "2021-01-12T06:07:23.532107",
     "status": "completed"
    },
    "tags": []
   },
   "outputs": [],
   "source": [
    "CLUSTERERS = {}\n",
    "\n",
    "idx = 0\n",
    "random_state = INITIAL_RANDOM_STATE\n",
    "\n",
    "for k in CLUSTERING_OPTIONS[\"K_RANGE\"]:\n",
    "    for gamma_value in CLUSTERING_OPTIONS[\"GAMMAS\"]:\n",
    "        for i in range(CLUSTERING_OPTIONS[\"N_REPS_PER_K\"]):\n",
    "            clus = SpectralClustering(\n",
    "                eigen_solver=\"arpack\",\n",
    "                n_clusters=k,\n",
    "                n_init=CLUSTERING_OPTIONS[\"KMEANS_N_INIT\"],\n",
    "                affinity=CLUSTERING_OPTIONS[\"AFFINITY\"],\n",
    "                gamma=gamma_value,\n",
    "                random_state=random_state,\n",
    "            )\n",
    "\n",
    "            method_name = type(clus).__name__\n",
    "            CLUSTERERS[f\"{method_name} #{idx}\"] = clus\n",
    "\n",
    "            random_state = random_state + 1\n",
    "            idx = idx + 1"
   ]
  },
  {
   "cell_type": "code",
   "execution_count": 24,
   "metadata": {
    "execution": {
     "iopub.execute_input": "2021-01-12T06:07:23.640317Z",
     "iopub.status.busy": "2021-01-12T06:07:23.639951Z",
     "iopub.status.idle": "2021-01-12T06:07:23.652950Z",
     "shell.execute_reply": "2021-01-12T06:07:23.652534Z"
    },
    "papermill": {
     "duration": 0.044879,
     "end_time": "2021-01-12T06:07:23.653040",
     "exception": false,
     "start_time": "2021-01-12T06:07:23.608161",
     "status": "completed"
    },
    "tags": []
   },
   "outputs": [
    {
     "data": {
      "text/plain": [
       "450"
      ]
     },
     "metadata": {},
     "output_type": "display_data"
    }
   ],
   "source": [
    "display(len(CLUSTERERS))"
   ]
  },
  {
   "cell_type": "code",
   "execution_count": 25,
   "metadata": {
    "execution": {
     "iopub.execute_input": "2021-01-12T06:07:23.734071Z",
     "iopub.status.busy": "2021-01-12T06:07:23.733603Z",
     "iopub.status.idle": "2021-01-12T06:07:23.751026Z",
     "shell.execute_reply": "2021-01-12T06:07:23.750555Z"
    },
    "papermill": {
     "duration": 0.068028,
     "end_time": "2021-01-12T06:07:23.751136",
     "exception": false,
     "start_time": "2021-01-12T06:07:23.683108",
     "status": "completed"
    },
    "tags": []
   },
   "outputs": [
    {
     "data": {
      "text/plain": [
       "('SpectralClustering #0',\n",
       " SpectralClustering(eigen_solver='arpack', gamma=0.001, n_clusters=2,\n",
       "                    random_state=40000))"
      ]
     },
     "metadata": {},
     "output_type": "display_data"
    },
    {
     "data": {
      "text/plain": [
       "('SpectralClustering #1',\n",
       " SpectralClustering(eigen_solver='arpack', gamma=0.001, n_clusters=2,\n",
       "                    random_state=40001))"
      ]
     },
     "metadata": {},
     "output_type": "display_data"
    }
   ],
   "source": [
    "_iter = iter(CLUSTERERS.items())\n",
    "display(next(_iter))\n",
    "display(next(_iter))"
   ]
  },
  {
   "cell_type": "code",
   "execution_count": 26,
   "metadata": {
    "execution": {
     "iopub.execute_input": "2021-01-12T06:07:23.818153Z",
     "iopub.status.busy": "2021-01-12T06:07:23.817772Z",
     "iopub.status.idle": "2021-01-12T06:07:23.830546Z",
     "shell.execute_reply": "2021-01-12T06:07:23.830170Z"
    },
    "papermill": {
     "duration": 0.044496,
     "end_time": "2021-01-12T06:07:23.830636",
     "exception": false,
     "start_time": "2021-01-12T06:07:23.786140",
     "status": "completed"
    },
    "tags": []
   },
   "outputs": [
    {
     "data": {
      "text/plain": [
       "'SpectralClustering'"
      ]
     },
     "metadata": {},
     "output_type": "display_data"
    }
   ],
   "source": [
    "clustering_method_name = method_name\n",
    "display(clustering_method_name)"
   ]
  },
  {
   "cell_type": "markdown",
   "metadata": {
    "papermill": {
     "duration": 0.02983,
     "end_time": "2021-01-12T06:07:23.891045",
     "exception": false,
     "start_time": "2021-01-12T06:07:23.861215",
     "status": "completed"
    },
    "tags": []
   },
   "source": [
    "## Generate ensemble"
   ]
  },
  {
   "cell_type": "code",
   "execution_count": 27,
   "metadata": {
    "execution": {
     "iopub.execute_input": "2021-01-12T06:07:23.954217Z",
     "iopub.status.busy": "2021-01-12T06:07:23.953851Z",
     "iopub.status.idle": "2021-01-12T06:07:23.968550Z",
     "shell.execute_reply": "2021-01-12T06:07:23.968224Z"
    },
    "papermill": {
     "duration": 0.047499,
     "end_time": "2021-01-12T06:07:23.968639",
     "exception": false,
     "start_time": "2021-01-12T06:07:23.921140",
     "status": "completed"
    },
    "tags": []
   },
   "outputs": [],
   "source": [
    "import tempfile\n",
    "from clustering.ensembles.utils import generate_ensemble"
   ]
  },
  {
   "cell_type": "code",
   "execution_count": 28,
   "metadata": {
    "execution": {
     "iopub.execute_input": "2021-01-12T06:07:24.032615Z",
     "iopub.status.busy": "2021-01-12T06:07:24.032245Z",
     "iopub.status.idle": "2021-01-12T06:07:24.044851Z",
     "shell.execute_reply": "2021-01-12T06:07:24.044410Z"
    },
    "papermill": {
     "duration": 0.045154,
     "end_time": "2021-01-12T06:07:24.044939",
     "exception": false,
     "start_time": "2021-01-12T06:07:23.999785",
     "status": "completed"
    },
    "tags": []
   },
   "outputs": [],
   "source": [
    "# generate a temporary folder where to store the ensemble and avoid computing it again\n",
    "ensemble_folder = Path(\n",
    "    tempfile.gettempdir(),\n",
    "    \"pre_cluster_analysis\",\n",
    "    clustering_method_name,\n",
    ").resolve()\n",
    "ensemble_folder.mkdir(parents=True, exist_ok=True)"
   ]
  },
  {
   "cell_type": "code",
   "execution_count": 29,
   "metadata": {
    "execution": {
     "iopub.execute_input": "2021-01-12T06:07:24.108087Z",
     "iopub.status.busy": "2021-01-12T06:07:24.107713Z",
     "iopub.status.idle": "2021-01-12T06:07:24.120914Z",
     "shell.execute_reply": "2021-01-12T06:07:24.120540Z"
    },
    "papermill": {
     "duration": 0.045408,
     "end_time": "2021-01-12T06:07:24.121005",
     "exception": false,
     "start_time": "2021-01-12T06:07:24.075597",
     "status": "completed"
    },
    "tags": []
   },
   "outputs": [
    {
     "data": {
      "text/plain": [
       "PosixPath('/tmp/pre_cluster_analysis/SpectralClustering/ensemble-pca-AFFINITY_rbf-GAMMAS_0001_1e_05_1e_10_1e_15_1e_17_1e_20_1e_30_1e_40_1e_50-KMEANS_N_INIT_10-K_RANGE_2_4_6_8_10_20_30_40_50_60-N_REPS_PER_K_5.pkl')"
      ]
     },
     "metadata": {},
     "output_type": "display_data"
    }
   ],
   "source": [
    "ensemble_file = Path(\n",
    "    ensemble_folder,\n",
    "    generate_result_set_name(\n",
    "        CLUSTERING_OPTIONS, prefix=f\"ensemble-{INPUT_SUBSET}-\", suffix=\".pkl\"\n",
    "    ),\n",
    ")\n",
    "display(ensemble_file)"
   ]
  },
  {
   "cell_type": "code",
   "execution_count": 30,
   "metadata": {
    "execution": {
     "iopub.execute_input": "2021-01-12T06:07:24.184525Z",
     "iopub.status.busy": "2021-01-12T06:07:24.184157Z",
     "iopub.status.idle": "2021-01-12T06:27:01.832507Z",
     "shell.execute_reply": "2021-01-12T06:27:01.832100Z"
    },
    "papermill": {
     "duration": 1177.680674,
     "end_time": "2021-01-12T06:27:01.832604",
     "exception": false,
     "start_time": "2021-01-12T06:07:24.151930",
     "status": "completed"
    },
    "tags": []
   },
   "outputs": [
    {
     "name": "stderr",
     "output_type": "stream",
     "text": [
      "100%|██████████| 450/450 [19:37<00:00,  2.62s/it]\n"
     ]
    }
   ],
   "source": [
    "if ensemble_file.exists():\n",
    "    display(\"Ensemble file exists\")\n",
    "    ensemble = pd.read_pickle(ensemble_file)\n",
    "else:\n",
    "    ensemble = generate_ensemble(\n",
    "        data,\n",
    "        CLUSTERERS,\n",
    "        attributes=[\"n_clusters\", \"gamma\"],\n",
    "    )\n",
    "\n",
    "    ensemble.to_pickle(ensemble_file)"
   ]
  },
  {
   "cell_type": "code",
   "execution_count": 31,
   "metadata": {
    "execution": {
     "iopub.execute_input": "2021-01-12T06:27:02.037527Z",
     "iopub.status.busy": "2021-01-12T06:27:02.037164Z",
     "iopub.status.idle": "2021-01-12T06:27:02.050851Z",
     "shell.execute_reply": "2021-01-12T06:27:02.050489Z"
    },
    "papermill": {
     "duration": 0.116324,
     "end_time": "2021-01-12T06:27:02.050940",
     "exception": false,
     "start_time": "2021-01-12T06:27:01.934616",
     "status": "completed"
    },
    "tags": []
   },
   "outputs": [
    {
     "data": {
      "text/plain": [
       "(450, 4)"
      ]
     },
     "execution_count": 31,
     "metadata": {},
     "output_type": "execute_result"
    }
   ],
   "source": [
    "ensemble.shape"
   ]
  },
  {
   "cell_type": "code",
   "execution_count": 32,
   "metadata": {
    "execution": {
     "iopub.execute_input": "2021-01-12T06:27:02.255153Z",
     "iopub.status.busy": "2021-01-12T06:27:02.254782Z",
     "iopub.status.idle": "2021-01-12T06:27:02.274942Z",
     "shell.execute_reply": "2021-01-12T06:27:02.275253Z"
    },
    "papermill": {
     "duration": 0.123429,
     "end_time": "2021-01-12T06:27:02.275361",
     "exception": false,
     "start_time": "2021-01-12T06:27:02.151932",
     "status": "completed"
    },
    "tags": []
   },
   "outputs": [
    {
     "data": {
      "text/html": [
       "<div>\n",
       "<style scoped>\n",
       "    .dataframe tbody tr th:only-of-type {\n",
       "        vertical-align: middle;\n",
       "    }\n",
       "\n",
       "    .dataframe tbody tr th {\n",
       "        vertical-align: top;\n",
       "    }\n",
       "\n",
       "    .dataframe thead th {\n",
       "        text-align: right;\n",
       "    }\n",
       "</style>\n",
       "<table border=\"1\" class=\"dataframe\">\n",
       "  <thead>\n",
       "    <tr style=\"text-align: right;\">\n",
       "      <th></th>\n",
       "      <th>clusterer_params</th>\n",
       "      <th>partition</th>\n",
       "      <th>n_clusters</th>\n",
       "      <th>gamma</th>\n",
       "    </tr>\n",
       "    <tr>\n",
       "      <th>clusterer_id</th>\n",
       "      <th></th>\n",
       "      <th></th>\n",
       "      <th></th>\n",
       "      <th></th>\n",
       "    </tr>\n",
       "  </thead>\n",
       "  <tbody>\n",
       "    <tr>\n",
       "      <th>SpectralClustering #0</th>\n",
       "      <td>{'affinity': 'rbf', 'assign_labels': 'kmeans',...</td>\n",
       "      <td>[0.0, 0.0, 0.0, 0.0, 0.0, 0.0, 0.0, 0.0, 0.0, ...</td>\n",
       "      <td>2</td>\n",
       "      <td>0.001</td>\n",
       "    </tr>\n",
       "    <tr>\n",
       "      <th>SpectralClustering #1</th>\n",
       "      <td>{'affinity': 'rbf', 'assign_labels': 'kmeans',...</td>\n",
       "      <td>[0.0, 0.0, 0.0, 0.0, 0.0, 0.0, 0.0, 0.0, 0.0, ...</td>\n",
       "      <td>2</td>\n",
       "      <td>0.001</td>\n",
       "    </tr>\n",
       "    <tr>\n",
       "      <th>SpectralClustering #2</th>\n",
       "      <td>{'affinity': 'rbf', 'assign_labels': 'kmeans',...</td>\n",
       "      <td>[0.0, 0.0, 0.0, 0.0, 0.0, 0.0, 0.0, 0.0, 0.0, ...</td>\n",
       "      <td>2</td>\n",
       "      <td>0.001</td>\n",
       "    </tr>\n",
       "    <tr>\n",
       "      <th>SpectralClustering #3</th>\n",
       "      <td>{'affinity': 'rbf', 'assign_labels': 'kmeans',...</td>\n",
       "      <td>[0.0, 0.0, 0.0, 0.0, 0.0, 0.0, 0.0, 0.0, 0.0, ...</td>\n",
       "      <td>2</td>\n",
       "      <td>0.001</td>\n",
       "    </tr>\n",
       "    <tr>\n",
       "      <th>SpectralClustering #4</th>\n",
       "      <td>{'affinity': 'rbf', 'assign_labels': 'kmeans',...</td>\n",
       "      <td>[0.0, 0.0, 0.0, 0.0, 0.0, 0.0, 0.0, 0.0, 0.0, ...</td>\n",
       "      <td>2</td>\n",
       "      <td>0.001</td>\n",
       "    </tr>\n",
       "  </tbody>\n",
       "</table>\n",
       "</div>"
      ],
      "text/plain": [
       "                                                        clusterer_params  \\\n",
       "clusterer_id                                                               \n",
       "SpectralClustering #0  {'affinity': 'rbf', 'assign_labels': 'kmeans',...   \n",
       "SpectralClustering #1  {'affinity': 'rbf', 'assign_labels': 'kmeans',...   \n",
       "SpectralClustering #2  {'affinity': 'rbf', 'assign_labels': 'kmeans',...   \n",
       "SpectralClustering #3  {'affinity': 'rbf', 'assign_labels': 'kmeans',...   \n",
       "SpectralClustering #4  {'affinity': 'rbf', 'assign_labels': 'kmeans',...   \n",
       "\n",
       "                                                               partition  \\\n",
       "clusterer_id                                                               \n",
       "SpectralClustering #0  [0.0, 0.0, 0.0, 0.0, 0.0, 0.0, 0.0, 0.0, 0.0, ...   \n",
       "SpectralClustering #1  [0.0, 0.0, 0.0, 0.0, 0.0, 0.0, 0.0, 0.0, 0.0, ...   \n",
       "SpectralClustering #2  [0.0, 0.0, 0.0, 0.0, 0.0, 0.0, 0.0, 0.0, 0.0, ...   \n",
       "SpectralClustering #3  [0.0, 0.0, 0.0, 0.0, 0.0, 0.0, 0.0, 0.0, 0.0, ...   \n",
       "SpectralClustering #4  [0.0, 0.0, 0.0, 0.0, 0.0, 0.0, 0.0, 0.0, 0.0, ...   \n",
       "\n",
       "                       n_clusters  gamma  \n",
       "clusterer_id                              \n",
       "SpectralClustering #0           2  0.001  \n",
       "SpectralClustering #1           2  0.001  \n",
       "SpectralClustering #2           2  0.001  \n",
       "SpectralClustering #3           2  0.001  \n",
       "SpectralClustering #4           2  0.001  "
      ]
     },
     "execution_count": 32,
     "metadata": {},
     "output_type": "execute_result"
    }
   ],
   "source": [
    "ensemble.head()"
   ]
  },
  {
   "cell_type": "code",
   "execution_count": 33,
   "metadata": {
    "execution": {
     "iopub.execute_input": "2021-01-12T06:27:02.480122Z",
     "iopub.status.busy": "2021-01-12T06:27:02.479760Z",
     "iopub.status.idle": "2021-01-12T06:27:02.492357Z",
     "shell.execute_reply": "2021-01-12T06:27:02.492019Z"
    },
    "papermill": {
     "duration": 0.116064,
     "end_time": "2021-01-12T06:27:02.492445",
     "exception": false,
     "start_time": "2021-01-12T06:27:02.376381",
     "status": "completed"
    },
    "tags": []
   },
   "outputs": [],
   "source": [
    "ensemble[\"gamma\"] = ensemble[\"gamma\"].apply(lambda x: f\"{x:.1e}\")"
   ]
  },
  {
   "cell_type": "code",
   "execution_count": 34,
   "metadata": {
    "execution": {
     "iopub.execute_input": "2021-01-12T06:27:02.697506Z",
     "iopub.status.busy": "2021-01-12T06:27:02.697145Z",
     "iopub.status.idle": "2021-01-12T06:27:02.710895Z",
     "shell.execute_reply": "2021-01-12T06:27:02.710519Z"
    },
    "papermill": {
     "duration": 0.117736,
     "end_time": "2021-01-12T06:27:02.710985",
     "exception": false,
     "start_time": "2021-01-12T06:27:02.593249",
     "status": "completed"
    },
    "tags": []
   },
   "outputs": [
    {
     "data": {
      "text/plain": [
       "60    45\n",
       "50    45\n",
       "40    45\n",
       "30    45\n",
       "20    45\n",
       "10    45\n",
       "8     45\n",
       "6     45\n",
       "4     45\n",
       "2     45\n",
       "Name: n_clusters, dtype: int64"
      ]
     },
     "execution_count": 34,
     "metadata": {},
     "output_type": "execute_result"
    }
   ],
   "source": [
    "ensemble[\"n_clusters\"].value_counts()"
   ]
  },
  {
   "cell_type": "code",
   "execution_count": 35,
   "metadata": {
    "execution": {
     "iopub.execute_input": "2021-01-12T06:27:02.918577Z",
     "iopub.status.busy": "2021-01-12T06:27:02.918213Z",
     "iopub.status.idle": "2021-01-12T06:27:02.930894Z",
     "shell.execute_reply": "2021-01-12T06:27:02.930512Z"
    },
    "papermill": {
     "duration": 0.11715,
     "end_time": "2021-01-12T06:27:02.930984",
     "exception": false,
     "start_time": "2021-01-12T06:27:02.813834",
     "status": "completed"
    },
    "tags": []
   },
   "outputs": [],
   "source": [
    "_tmp = ensemble[\"n_clusters\"].value_counts().unique()\n",
    "assert _tmp.shape[0] == 1\n",
    "assert _tmp[0] == int(\n",
    "    CLUSTERING_OPTIONS[\"N_REPS_PER_K\"] * len(CLUSTERING_OPTIONS[\"GAMMAS\"])\n",
    ")"
   ]
  },
  {
   "cell_type": "code",
   "execution_count": 36,
   "metadata": {
    "execution": {
     "iopub.execute_input": "2021-01-12T06:27:03.136742Z",
     "iopub.status.busy": "2021-01-12T06:27:03.136328Z",
     "iopub.status.idle": "2021-01-12T06:27:03.151331Z",
     "shell.execute_reply": "2021-01-12T06:27:03.150961Z"
    },
    "papermill": {
     "duration": 0.119287,
     "end_time": "2021-01-12T06:27:03.151420",
     "exception": false,
     "start_time": "2021-01-12T06:27:03.032133",
     "status": "completed"
    },
    "tags": []
   },
   "outputs": [
    {
     "data": {
      "text/plain": [
       "count    450.000000\n",
       "mean      23.000000\n",
       "std       19.846291\n",
       "min        2.000000\n",
       "25%        6.000000\n",
       "50%       15.000000\n",
       "75%       40.000000\n",
       "max       60.000000\n",
       "Name: n_clusters, dtype: float64"
      ]
     },
     "metadata": {},
     "output_type": "display_data"
    }
   ],
   "source": [
    "ensemble_stats = ensemble[\"n_clusters\"].describe()\n",
    "display(ensemble_stats)"
   ]
  },
  {
   "cell_type": "markdown",
   "metadata": {
    "papermill": {
     "duration": 0.102392,
     "end_time": "2021-01-12T06:27:03.355874",
     "exception": false,
     "start_time": "2021-01-12T06:27:03.253482",
     "status": "completed"
    },
    "tags": []
   },
   "source": [
    "### Testing"
   ]
  },
  {
   "cell_type": "code",
   "execution_count": 37,
   "metadata": {
    "execution": {
     "iopub.execute_input": "2021-01-12T06:27:03.561171Z",
     "iopub.status.busy": "2021-01-12T06:27:03.560810Z",
     "iopub.status.idle": "2021-01-12T06:27:03.572727Z",
     "shell.execute_reply": "2021-01-12T06:27:03.572342Z"
    },
    "papermill": {
     "duration": 0.115772,
     "end_time": "2021-01-12T06:27:03.572843",
     "exception": false,
     "start_time": "2021-01-12T06:27:03.457071",
     "status": "completed"
    },
    "tags": []
   },
   "outputs": [],
   "source": [
    "assert ensemble_stats[\"min\"] > 1"
   ]
  },
  {
   "cell_type": "code",
   "execution_count": 38,
   "metadata": {
    "execution": {
     "iopub.execute_input": "2021-01-12T06:27:03.799318Z",
     "iopub.status.busy": "2021-01-12T06:27:03.798862Z",
     "iopub.status.idle": "2021-01-12T06:27:03.812847Z",
     "shell.execute_reply": "2021-01-12T06:27:03.813191Z"
    },
    "papermill": {
     "duration": 0.138879,
     "end_time": "2021-01-12T06:27:03.813323",
     "exception": false,
     "start_time": "2021-01-12T06:27:03.674444",
     "status": "completed"
    },
    "tags": []
   },
   "outputs": [],
   "source": [
    "assert not ensemble[\"n_clusters\"].isna().any()"
   ]
  },
  {
   "cell_type": "code",
   "execution_count": 39,
   "metadata": {
    "execution": {
     "iopub.execute_input": "2021-01-12T06:27:04.027752Z",
     "iopub.status.busy": "2021-01-12T06:27:04.027391Z",
     "iopub.status.idle": "2021-01-12T06:27:04.041881Z",
     "shell.execute_reply": "2021-01-12T06:27:04.041031Z"
    },
    "papermill": {
     "duration": 0.118801,
     "end_time": "2021-01-12T06:27:04.042122",
     "exception": false,
     "start_time": "2021-01-12T06:27:03.923321",
     "status": "completed"
    },
    "tags": []
   },
   "outputs": [],
   "source": [
    "assert ensemble.shape[0] == len(CLUSTERERS)"
   ]
  },
  {
   "cell_type": "code",
   "execution_count": 40,
   "metadata": {
    "execution": {
     "iopub.execute_input": "2021-01-12T06:27:04.279221Z",
     "iopub.status.busy": "2021-01-12T06:27:04.278840Z",
     "iopub.status.idle": "2021-01-12T06:27:04.317407Z",
     "shell.execute_reply": "2021-01-12T06:27:04.317016Z"
    },
    "papermill": {
     "duration": 0.143971,
     "end_time": "2021-01-12T06:27:04.317499",
     "exception": false,
     "start_time": "2021-01-12T06:27:04.173528",
     "status": "completed"
    },
    "tags": []
   },
   "outputs": [],
   "source": [
    "# all partitions have the right size\n",
    "assert np.all(\n",
    "    [part[\"partition\"].shape[0] == data.shape[0] for idx, part in ensemble.iterrows()]\n",
    ")"
   ]
  },
  {
   "cell_type": "code",
   "execution_count": 41,
   "metadata": {
    "execution": {
     "iopub.execute_input": "2021-01-12T06:27:04.526153Z",
     "iopub.status.busy": "2021-01-12T06:27:04.525789Z",
     "iopub.status.idle": "2021-01-12T06:27:04.569196Z",
     "shell.execute_reply": "2021-01-12T06:27:04.568825Z"
    },
    "papermill": {
     "duration": 0.148431,
     "end_time": "2021-01-12T06:27:04.569283",
     "exception": false,
     "start_time": "2021-01-12T06:27:04.420852",
     "status": "completed"
    },
    "tags": []
   },
   "outputs": [],
   "source": [
    "# no partition has negative clusters (noisy points)\n",
    "assert not np.any([(part[\"partition\"] < 0).any() for idx, part in ensemble.iterrows()])"
   ]
  },
  {
   "cell_type": "code",
   "execution_count": 42,
   "metadata": {
    "execution": {
     "iopub.execute_input": "2021-01-12T06:27:04.776469Z",
     "iopub.status.busy": "2021-01-12T06:27:04.776106Z",
     "iopub.status.idle": "2021-01-12T06:27:04.819937Z",
     "shell.execute_reply": "2021-01-12T06:27:04.819572Z"
    },
    "papermill": {
     "duration": 0.14832,
     "end_time": "2021-01-12T06:27:04.820025",
     "exception": false,
     "start_time": "2021-01-12T06:27:04.671705",
     "status": "completed"
    },
    "tags": []
   },
   "outputs": [
    {
     "data": {
      "text/plain": [
       "clusterer_id\n",
       "SpectralClustering #0       2\n",
       "SpectralClustering #1       2\n",
       "SpectralClustering #2       2\n",
       "SpectralClustering #3       2\n",
       "SpectralClustering #4       2\n",
       "                           ..\n",
       "SpectralClustering #445    60\n",
       "SpectralClustering #446    60\n",
       "SpectralClustering #447    60\n",
       "SpectralClustering #448    60\n",
       "SpectralClustering #449    60\n",
       "Name: partition, Length: 450, dtype: int64"
      ]
     },
     "metadata": {},
     "output_type": "display_data"
    }
   ],
   "source": [
    "# check that the number of clusters in the partitions are the expected ones\n",
    "_real_k_values = ensemble[\"partition\"].apply(lambda x: np.unique(x).shape[0])\n",
    "display(_real_k_values)\n",
    "assert np.all(ensemble[\"n_clusters\"].values == _real_k_values.values)"
   ]
  },
  {
   "cell_type": "markdown",
   "metadata": {
    "papermill": {
     "duration": 0.102325,
     "end_time": "2021-01-12T06:27:05.025512",
     "exception": false,
     "start_time": "2021-01-12T06:27:04.923187",
     "status": "completed"
    },
    "tags": []
   },
   "source": [
    "### Add clustering quality measures"
   ]
  },
  {
   "cell_type": "code",
   "execution_count": 43,
   "metadata": {
    "execution": {
     "iopub.execute_input": "2021-01-12T06:27:05.234446Z",
     "iopub.status.busy": "2021-01-12T06:27:05.234080Z",
     "iopub.status.idle": "2021-01-12T06:27:06.590682Z",
     "shell.execute_reply": "2021-01-12T06:27:06.590367Z"
    },
    "papermill": {
     "duration": 1.462012,
     "end_time": "2021-01-12T06:27:06.590768",
     "exception": false,
     "start_time": "2021-01-12T06:27:05.128756",
     "status": "completed"
    },
    "tags": []
   },
   "outputs": [],
   "source": [
    "ensemble = ensemble.assign(\n",
    "    ch_score=ensemble[\"partition\"].apply(lambda x: calinski_harabasz_score(data, x))\n",
    ")"
   ]
  },
  {
   "cell_type": "code",
   "execution_count": 44,
   "metadata": {
    "execution": {
     "iopub.execute_input": "2021-01-12T06:27:06.797388Z",
     "iopub.status.busy": "2021-01-12T06:27:06.797018Z",
     "iopub.status.idle": "2021-01-12T06:27:06.810105Z",
     "shell.execute_reply": "2021-01-12T06:27:06.809729Z"
    },
    "papermill": {
     "duration": 0.117361,
     "end_time": "2021-01-12T06:27:06.810195",
     "exception": false,
     "start_time": "2021-01-12T06:27:06.692834",
     "status": "completed"
    },
    "tags": []
   },
   "outputs": [
    {
     "data": {
      "text/plain": [
       "(450, 5)"
      ]
     },
     "execution_count": 44,
     "metadata": {},
     "output_type": "execute_result"
    }
   ],
   "source": [
    "ensemble.shape"
   ]
  },
  {
   "cell_type": "code",
   "execution_count": 45,
   "metadata": {
    "execution": {
     "iopub.execute_input": "2021-01-12T06:27:07.017500Z",
     "iopub.status.busy": "2021-01-12T06:27:07.017140Z",
     "iopub.status.idle": "2021-01-12T06:27:07.038291Z",
     "shell.execute_reply": "2021-01-12T06:27:07.037919Z"
    },
    "papermill": {
     "duration": 0.125876,
     "end_time": "2021-01-12T06:27:07.038381",
     "exception": false,
     "start_time": "2021-01-12T06:27:06.912505",
     "status": "completed"
    },
    "tags": []
   },
   "outputs": [
    {
     "data": {
      "text/html": [
       "<div>\n",
       "<style scoped>\n",
       "    .dataframe tbody tr th:only-of-type {\n",
       "        vertical-align: middle;\n",
       "    }\n",
       "\n",
       "    .dataframe tbody tr th {\n",
       "        vertical-align: top;\n",
       "    }\n",
       "\n",
       "    .dataframe thead th {\n",
       "        text-align: right;\n",
       "    }\n",
       "</style>\n",
       "<table border=\"1\" class=\"dataframe\">\n",
       "  <thead>\n",
       "    <tr style=\"text-align: right;\">\n",
       "      <th></th>\n",
       "      <th>clusterer_params</th>\n",
       "      <th>partition</th>\n",
       "      <th>n_clusters</th>\n",
       "      <th>gamma</th>\n",
       "      <th>ch_score</th>\n",
       "    </tr>\n",
       "    <tr>\n",
       "      <th>clusterer_id</th>\n",
       "      <th></th>\n",
       "      <th></th>\n",
       "      <th></th>\n",
       "      <th></th>\n",
       "      <th></th>\n",
       "    </tr>\n",
       "  </thead>\n",
       "  <tbody>\n",
       "    <tr>\n",
       "      <th>SpectralClustering #0</th>\n",
       "      <td>{'affinity': 'rbf', 'assign_labels': 'kmeans',...</td>\n",
       "      <td>[0.0, 0.0, 0.0, 0.0, 0.0, 0.0, 0.0, 0.0, 0.0, ...</td>\n",
       "      <td>2</td>\n",
       "      <td>1.0e-03</td>\n",
       "      <td>83.050677</td>\n",
       "    </tr>\n",
       "    <tr>\n",
       "      <th>SpectralClustering #1</th>\n",
       "      <td>{'affinity': 'rbf', 'assign_labels': 'kmeans',...</td>\n",
       "      <td>[0.0, 0.0, 0.0, 0.0, 0.0, 0.0, 0.0, 0.0, 0.0, ...</td>\n",
       "      <td>2</td>\n",
       "      <td>1.0e-03</td>\n",
       "      <td>83.050677</td>\n",
       "    </tr>\n",
       "    <tr>\n",
       "      <th>SpectralClustering #2</th>\n",
       "      <td>{'affinity': 'rbf', 'assign_labels': 'kmeans',...</td>\n",
       "      <td>[0.0, 0.0, 0.0, 0.0, 0.0, 0.0, 0.0, 0.0, 0.0, ...</td>\n",
       "      <td>2</td>\n",
       "      <td>1.0e-03</td>\n",
       "      <td>83.050677</td>\n",
       "    </tr>\n",
       "    <tr>\n",
       "      <th>SpectralClustering #3</th>\n",
       "      <td>{'affinity': 'rbf', 'assign_labels': 'kmeans',...</td>\n",
       "      <td>[0.0, 0.0, 0.0, 0.0, 0.0, 0.0, 0.0, 0.0, 0.0, ...</td>\n",
       "      <td>2</td>\n",
       "      <td>1.0e-03</td>\n",
       "      <td>83.050677</td>\n",
       "    </tr>\n",
       "    <tr>\n",
       "      <th>SpectralClustering #4</th>\n",
       "      <td>{'affinity': 'rbf', 'assign_labels': 'kmeans',...</td>\n",
       "      <td>[0.0, 0.0, 0.0, 0.0, 0.0, 0.0, 0.0, 0.0, 0.0, ...</td>\n",
       "      <td>2</td>\n",
       "      <td>1.0e-03</td>\n",
       "      <td>83.050677</td>\n",
       "    </tr>\n",
       "  </tbody>\n",
       "</table>\n",
       "</div>"
      ],
      "text/plain": [
       "                                                        clusterer_params  \\\n",
       "clusterer_id                                                               \n",
       "SpectralClustering #0  {'affinity': 'rbf', 'assign_labels': 'kmeans',...   \n",
       "SpectralClustering #1  {'affinity': 'rbf', 'assign_labels': 'kmeans',...   \n",
       "SpectralClustering #2  {'affinity': 'rbf', 'assign_labels': 'kmeans',...   \n",
       "SpectralClustering #3  {'affinity': 'rbf', 'assign_labels': 'kmeans',...   \n",
       "SpectralClustering #4  {'affinity': 'rbf', 'assign_labels': 'kmeans',...   \n",
       "\n",
       "                                                               partition  \\\n",
       "clusterer_id                                                               \n",
       "SpectralClustering #0  [0.0, 0.0, 0.0, 0.0, 0.0, 0.0, 0.0, 0.0, 0.0, ...   \n",
       "SpectralClustering #1  [0.0, 0.0, 0.0, 0.0, 0.0, 0.0, 0.0, 0.0, 0.0, ...   \n",
       "SpectralClustering #2  [0.0, 0.0, 0.0, 0.0, 0.0, 0.0, 0.0, 0.0, 0.0, ...   \n",
       "SpectralClustering #3  [0.0, 0.0, 0.0, 0.0, 0.0, 0.0, 0.0, 0.0, 0.0, ...   \n",
       "SpectralClustering #4  [0.0, 0.0, 0.0, 0.0, 0.0, 0.0, 0.0, 0.0, 0.0, ...   \n",
       "\n",
       "                       n_clusters    gamma   ch_score  \n",
       "clusterer_id                                           \n",
       "SpectralClustering #0           2  1.0e-03  83.050677  \n",
       "SpectralClustering #1           2  1.0e-03  83.050677  \n",
       "SpectralClustering #2           2  1.0e-03  83.050677  \n",
       "SpectralClustering #3           2  1.0e-03  83.050677  \n",
       "SpectralClustering #4           2  1.0e-03  83.050677  "
      ]
     },
     "execution_count": 45,
     "metadata": {},
     "output_type": "execute_result"
    }
   ],
   "source": [
    "ensemble.head()"
   ]
  },
  {
   "cell_type": "markdown",
   "metadata": {
    "papermill": {
     "duration": 0.102818,
     "end_time": "2021-01-12T06:27:07.244644",
     "exception": false,
     "start_time": "2021-01-12T06:27:07.141826",
     "status": "completed"
    },
    "tags": []
   },
   "source": [
    "# Cluster quality"
   ]
  },
  {
   "cell_type": "code",
   "execution_count": 46,
   "metadata": {
    "execution": {
     "iopub.execute_input": "2021-01-12T06:27:07.453154Z",
     "iopub.status.busy": "2021-01-12T06:27:07.452792Z",
     "iopub.status.idle": "2021-01-12T06:27:07.473379Z",
     "shell.execute_reply": "2021-01-12T06:27:07.472994Z"
    },
    "papermill": {
     "duration": 0.12555,
     "end_time": "2021-01-12T06:27:07.473470",
     "exception": false,
     "start_time": "2021-01-12T06:27:07.347920",
     "status": "completed"
    },
    "tags": []
   },
   "outputs": [
    {
     "data": {
      "text/html": [
       "<div>\n",
       "<style scoped>\n",
       "    .dataframe tbody tr th:only-of-type {\n",
       "        vertical-align: middle;\n",
       "    }\n",
       "\n",
       "    .dataframe tbody tr th {\n",
       "        vertical-align: top;\n",
       "    }\n",
       "\n",
       "    .dataframe thead th {\n",
       "        text-align: right;\n",
       "    }\n",
       "</style>\n",
       "<table border=\"1\" class=\"dataframe\">\n",
       "  <thead>\n",
       "    <tr style=\"text-align: right;\">\n",
       "      <th></th>\n",
       "      <th></th>\n",
       "      <th>ch_score</th>\n",
       "    </tr>\n",
       "    <tr>\n",
       "      <th>n_clusters</th>\n",
       "      <th>gamma</th>\n",
       "      <th></th>\n",
       "    </tr>\n",
       "  </thead>\n",
       "  <tbody>\n",
       "    <tr>\n",
       "      <th rowspan=\"9\" valign=\"top\">2</th>\n",
       "      <th>1.0e-03</th>\n",
       "      <td>83.050677</td>\n",
       "    </tr>\n",
       "    <tr>\n",
       "      <th>1.0e-05</th>\n",
       "      <td>920.960250</td>\n",
       "    </tr>\n",
       "    <tr>\n",
       "      <th>1.0e-10</th>\n",
       "      <td>920.960250</td>\n",
       "    </tr>\n",
       "    <tr>\n",
       "      <th>1.0e-15</th>\n",
       "      <td>920.712849</td>\n",
       "    </tr>\n",
       "    <tr>\n",
       "      <th>1.0e-17</th>\n",
       "      <td>0.696771</td>\n",
       "    </tr>\n",
       "    <tr>\n",
       "      <th>1.0e-20</th>\n",
       "      <td>0.769604</td>\n",
       "    </tr>\n",
       "    <tr>\n",
       "      <th>1.0e-30</th>\n",
       "      <td>0.566860</td>\n",
       "    </tr>\n",
       "    <tr>\n",
       "      <th>1.0e-40</th>\n",
       "      <td>1.379595</td>\n",
       "    </tr>\n",
       "    <tr>\n",
       "      <th>1.0e-50</th>\n",
       "      <td>2.155884</td>\n",
       "    </tr>\n",
       "    <tr>\n",
       "      <th rowspan=\"9\" valign=\"top\">4</th>\n",
       "      <th>1.0e-03</th>\n",
       "      <td>104.013981</td>\n",
       "    </tr>\n",
       "    <tr>\n",
       "      <th>1.0e-05</th>\n",
       "      <td>440.625985</td>\n",
       "    </tr>\n",
       "    <tr>\n",
       "      <th>1.0e-10</th>\n",
       "      <td>459.829090</td>\n",
       "    </tr>\n",
       "    <tr>\n",
       "      <th>1.0e-15</th>\n",
       "      <td>460.093578</td>\n",
       "    </tr>\n",
       "    <tr>\n",
       "      <th>1.0e-17</th>\n",
       "      <td>1.255593</td>\n",
       "    </tr>\n",
       "    <tr>\n",
       "      <th>1.0e-20</th>\n",
       "      <td>1.204769</td>\n",
       "    </tr>\n",
       "    <tr>\n",
       "      <th>1.0e-30</th>\n",
       "      <td>0.770666</td>\n",
       "    </tr>\n",
       "    <tr>\n",
       "      <th>1.0e-40</th>\n",
       "      <td>1.028757</td>\n",
       "    </tr>\n",
       "    <tr>\n",
       "      <th>1.0e-50</th>\n",
       "      <td>1.278531</td>\n",
       "    </tr>\n",
       "    <tr>\n",
       "      <th rowspan=\"9\" valign=\"top\">6</th>\n",
       "      <th>1.0e-03</th>\n",
       "      <td>98.307777</td>\n",
       "    </tr>\n",
       "    <tr>\n",
       "      <th>1.0e-05</th>\n",
       "      <td>407.262596</td>\n",
       "    </tr>\n",
       "    <tr>\n",
       "      <th>1.0e-10</th>\n",
       "      <td>407.139155</td>\n",
       "    </tr>\n",
       "    <tr>\n",
       "      <th>1.0e-15</th>\n",
       "      <td>403.352012</td>\n",
       "    </tr>\n",
       "    <tr>\n",
       "      <th>1.0e-17</th>\n",
       "      <td>3.938523</td>\n",
       "    </tr>\n",
       "    <tr>\n",
       "      <th>1.0e-20</th>\n",
       "      <td>1.382317</td>\n",
       "    </tr>\n",
       "    <tr>\n",
       "      <th>1.0e-30</th>\n",
       "      <td>0.709304</td>\n",
       "    </tr>\n",
       "    <tr>\n",
       "      <th>1.0e-40</th>\n",
       "      <td>1.148510</td>\n",
       "    </tr>\n",
       "    <tr>\n",
       "      <th>1.0e-50</th>\n",
       "      <td>0.595956</td>\n",
       "    </tr>\n",
       "    <tr>\n",
       "      <th rowspan=\"9\" valign=\"top\">8</th>\n",
       "      <th>1.0e-03</th>\n",
       "      <td>86.619457</td>\n",
       "    </tr>\n",
       "    <tr>\n",
       "      <th>1.0e-05</th>\n",
       "      <td>352.426508</td>\n",
       "    </tr>\n",
       "    <tr>\n",
       "      <th>1.0e-10</th>\n",
       "      <td>352.288219</td>\n",
       "    </tr>\n",
       "    <tr>\n",
       "      <th>1.0e-15</th>\n",
       "      <td>351.101374</td>\n",
       "    </tr>\n",
       "    <tr>\n",
       "      <th>1.0e-17</th>\n",
       "      <td>1.536417</td>\n",
       "    </tr>\n",
       "    <tr>\n",
       "      <th>1.0e-20</th>\n",
       "      <td>0.775072</td>\n",
       "    </tr>\n",
       "    <tr>\n",
       "      <th>1.0e-30</th>\n",
       "      <td>1.415835</td>\n",
       "    </tr>\n",
       "    <tr>\n",
       "      <th>1.0e-40</th>\n",
       "      <td>0.991826</td>\n",
       "    </tr>\n",
       "    <tr>\n",
       "      <th>1.0e-50</th>\n",
       "      <td>1.811312</td>\n",
       "    </tr>\n",
       "    <tr>\n",
       "      <th rowspan=\"9\" valign=\"top\">10</th>\n",
       "      <th>1.0e-03</th>\n",
       "      <td>79.213966</td>\n",
       "    </tr>\n",
       "    <tr>\n",
       "      <th>1.0e-05</th>\n",
       "      <td>305.235778</td>\n",
       "    </tr>\n",
       "    <tr>\n",
       "      <th>1.0e-10</th>\n",
       "      <td>303.906036</td>\n",
       "    </tr>\n",
       "    <tr>\n",
       "      <th>1.0e-15</th>\n",
       "      <td>303.308943</td>\n",
       "    </tr>\n",
       "    <tr>\n",
       "      <th>1.0e-17</th>\n",
       "      <td>3.129922</td>\n",
       "    </tr>\n",
       "    <tr>\n",
       "      <th>1.0e-20</th>\n",
       "      <td>0.710854</td>\n",
       "    </tr>\n",
       "    <tr>\n",
       "      <th>1.0e-30</th>\n",
       "      <td>0.776999</td>\n",
       "    </tr>\n",
       "    <tr>\n",
       "      <th>1.0e-40</th>\n",
       "      <td>1.117309</td>\n",
       "    </tr>\n",
       "    <tr>\n",
       "      <th>1.0e-50</th>\n",
       "      <td>0.792008</td>\n",
       "    </tr>\n",
       "    <tr>\n",
       "      <th rowspan=\"9\" valign=\"top\">20</th>\n",
       "      <th>1.0e-03</th>\n",
       "      <td>85.953734</td>\n",
       "    </tr>\n",
       "    <tr>\n",
       "      <th>1.0e-05</th>\n",
       "      <td>226.120341</td>\n",
       "    </tr>\n",
       "    <tr>\n",
       "      <th>1.0e-10</th>\n",
       "      <td>226.418508</td>\n",
       "    </tr>\n",
       "    <tr>\n",
       "      <th>1.0e-15</th>\n",
       "      <td>220.505347</td>\n",
       "    </tr>\n",
       "    <tr>\n",
       "      <th>1.0e-17</th>\n",
       "      <td>2.316251</td>\n",
       "    </tr>\n",
       "    <tr>\n",
       "      <th>1.0e-20</th>\n",
       "      <td>1.050538</td>\n",
       "    </tr>\n",
       "    <tr>\n",
       "      <th>1.0e-30</th>\n",
       "      <td>1.095656</td>\n",
       "    </tr>\n",
       "    <tr>\n",
       "      <th>1.0e-40</th>\n",
       "      <td>1.136374</td>\n",
       "    </tr>\n",
       "    <tr>\n",
       "      <th>1.0e-50</th>\n",
       "      <td>1.354302</td>\n",
       "    </tr>\n",
       "    <tr>\n",
       "      <th rowspan=\"9\" valign=\"top\">30</th>\n",
       "      <th>1.0e-03</th>\n",
       "      <td>97.878303</td>\n",
       "    </tr>\n",
       "    <tr>\n",
       "      <th>1.0e-05</th>\n",
       "      <td>185.839688</td>\n",
       "    </tr>\n",
       "    <tr>\n",
       "      <th>1.0e-10</th>\n",
       "      <td>180.005955</td>\n",
       "    </tr>\n",
       "    <tr>\n",
       "      <th>1.0e-15</th>\n",
       "      <td>167.187336</td>\n",
       "    </tr>\n",
       "    <tr>\n",
       "      <th>1.0e-17</th>\n",
       "      <td>1.764371</td>\n",
       "    </tr>\n",
       "    <tr>\n",
       "      <th>1.0e-20</th>\n",
       "      <td>0.947018</td>\n",
       "    </tr>\n",
       "    <tr>\n",
       "      <th>1.0e-30</th>\n",
       "      <td>1.316543</td>\n",
       "    </tr>\n",
       "    <tr>\n",
       "      <th>1.0e-40</th>\n",
       "      <td>1.091501</td>\n",
       "    </tr>\n",
       "    <tr>\n",
       "      <th>1.0e-50</th>\n",
       "      <td>1.239932</td>\n",
       "    </tr>\n",
       "    <tr>\n",
       "      <th rowspan=\"9\" valign=\"top\">40</th>\n",
       "      <th>1.0e-03</th>\n",
       "      <td>89.353104</td>\n",
       "    </tr>\n",
       "    <tr>\n",
       "      <th>1.0e-05</th>\n",
       "      <td>154.992139</td>\n",
       "    </tr>\n",
       "    <tr>\n",
       "      <th>1.0e-10</th>\n",
       "      <td>155.467888</td>\n",
       "    </tr>\n",
       "    <tr>\n",
       "      <th>1.0e-15</th>\n",
       "      <td>136.323625</td>\n",
       "    </tr>\n",
       "    <tr>\n",
       "      <th>1.0e-17</th>\n",
       "      <td>1.800659</td>\n",
       "    </tr>\n",
       "    <tr>\n",
       "      <th>1.0e-20</th>\n",
       "      <td>1.127432</td>\n",
       "    </tr>\n",
       "    <tr>\n",
       "      <th>1.0e-30</th>\n",
       "      <td>1.339679</td>\n",
       "    </tr>\n",
       "    <tr>\n",
       "      <th>1.0e-40</th>\n",
       "      <td>0.984259</td>\n",
       "    </tr>\n",
       "    <tr>\n",
       "      <th>1.0e-50</th>\n",
       "      <td>1.291544</td>\n",
       "    </tr>\n",
       "    <tr>\n",
       "      <th rowspan=\"9\" valign=\"top\">50</th>\n",
       "      <th>1.0e-03</th>\n",
       "      <td>87.490018</td>\n",
       "    </tr>\n",
       "    <tr>\n",
       "      <th>1.0e-05</th>\n",
       "      <td>134.991487</td>\n",
       "    </tr>\n",
       "    <tr>\n",
       "      <th>1.0e-10</th>\n",
       "      <td>135.096376</td>\n",
       "    </tr>\n",
       "    <tr>\n",
       "      <th>1.0e-15</th>\n",
       "      <td>114.408248</td>\n",
       "    </tr>\n",
       "    <tr>\n",
       "      <th>1.0e-17</th>\n",
       "      <td>1.827527</td>\n",
       "    </tr>\n",
       "    <tr>\n",
       "      <th>1.0e-20</th>\n",
       "      <td>1.105509</td>\n",
       "    </tr>\n",
       "    <tr>\n",
       "      <th>1.0e-30</th>\n",
       "      <td>1.317762</td>\n",
       "    </tr>\n",
       "    <tr>\n",
       "      <th>1.0e-40</th>\n",
       "      <td>1.241946</td>\n",
       "    </tr>\n",
       "    <tr>\n",
       "      <th>1.0e-50</th>\n",
       "      <td>1.146558</td>\n",
       "    </tr>\n",
       "    <tr>\n",
       "      <th rowspan=\"9\" valign=\"top\">60</th>\n",
       "      <th>1.0e-03</th>\n",
       "      <td>87.985274</td>\n",
       "    </tr>\n",
       "    <tr>\n",
       "      <th>1.0e-05</th>\n",
       "      <td>113.389752</td>\n",
       "    </tr>\n",
       "    <tr>\n",
       "      <th>1.0e-10</th>\n",
       "      <td>113.425645</td>\n",
       "    </tr>\n",
       "    <tr>\n",
       "      <th>1.0e-15</th>\n",
       "      <td>94.265890</td>\n",
       "    </tr>\n",
       "    <tr>\n",
       "      <th>1.0e-17</th>\n",
       "      <td>1.790338</td>\n",
       "    </tr>\n",
       "    <tr>\n",
       "      <th>1.0e-20</th>\n",
       "      <td>1.048279</td>\n",
       "    </tr>\n",
       "    <tr>\n",
       "      <th>1.0e-30</th>\n",
       "      <td>1.216626</td>\n",
       "    </tr>\n",
       "    <tr>\n",
       "      <th>1.0e-40</th>\n",
       "      <td>0.853725</td>\n",
       "    </tr>\n",
       "    <tr>\n",
       "      <th>1.0e-50</th>\n",
       "      <td>1.035743</td>\n",
       "    </tr>\n",
       "  </tbody>\n",
       "</table>\n",
       "</div>"
      ],
      "text/plain": [
       "                      ch_score\n",
       "n_clusters gamma              \n",
       "2          1.0e-03   83.050677\n",
       "           1.0e-05  920.960250\n",
       "           1.0e-10  920.960250\n",
       "           1.0e-15  920.712849\n",
       "           1.0e-17    0.696771\n",
       "           1.0e-20    0.769604\n",
       "           1.0e-30    0.566860\n",
       "           1.0e-40    1.379595\n",
       "           1.0e-50    2.155884\n",
       "4          1.0e-03  104.013981\n",
       "           1.0e-05  440.625985\n",
       "           1.0e-10  459.829090\n",
       "           1.0e-15  460.093578\n",
       "           1.0e-17    1.255593\n",
       "           1.0e-20    1.204769\n",
       "           1.0e-30    0.770666\n",
       "           1.0e-40    1.028757\n",
       "           1.0e-50    1.278531\n",
       "6          1.0e-03   98.307777\n",
       "           1.0e-05  407.262596\n",
       "           1.0e-10  407.139155\n",
       "           1.0e-15  403.352012\n",
       "           1.0e-17    3.938523\n",
       "           1.0e-20    1.382317\n",
       "           1.0e-30    0.709304\n",
       "           1.0e-40    1.148510\n",
       "           1.0e-50    0.595956\n",
       "8          1.0e-03   86.619457\n",
       "           1.0e-05  352.426508\n",
       "           1.0e-10  352.288219\n",
       "           1.0e-15  351.101374\n",
       "           1.0e-17    1.536417\n",
       "           1.0e-20    0.775072\n",
       "           1.0e-30    1.415835\n",
       "           1.0e-40    0.991826\n",
       "           1.0e-50    1.811312\n",
       "10         1.0e-03   79.213966\n",
       "           1.0e-05  305.235778\n",
       "           1.0e-10  303.906036\n",
       "           1.0e-15  303.308943\n",
       "           1.0e-17    3.129922\n",
       "           1.0e-20    0.710854\n",
       "           1.0e-30    0.776999\n",
       "           1.0e-40    1.117309\n",
       "           1.0e-50    0.792008\n",
       "20         1.0e-03   85.953734\n",
       "           1.0e-05  226.120341\n",
       "           1.0e-10  226.418508\n",
       "           1.0e-15  220.505347\n",
       "           1.0e-17    2.316251\n",
       "           1.0e-20    1.050538\n",
       "           1.0e-30    1.095656\n",
       "           1.0e-40    1.136374\n",
       "           1.0e-50    1.354302\n",
       "30         1.0e-03   97.878303\n",
       "           1.0e-05  185.839688\n",
       "           1.0e-10  180.005955\n",
       "           1.0e-15  167.187336\n",
       "           1.0e-17    1.764371\n",
       "           1.0e-20    0.947018\n",
       "           1.0e-30    1.316543\n",
       "           1.0e-40    1.091501\n",
       "           1.0e-50    1.239932\n",
       "40         1.0e-03   89.353104\n",
       "           1.0e-05  154.992139\n",
       "           1.0e-10  155.467888\n",
       "           1.0e-15  136.323625\n",
       "           1.0e-17    1.800659\n",
       "           1.0e-20    1.127432\n",
       "           1.0e-30    1.339679\n",
       "           1.0e-40    0.984259\n",
       "           1.0e-50    1.291544\n",
       "50         1.0e-03   87.490018\n",
       "           1.0e-05  134.991487\n",
       "           1.0e-10  135.096376\n",
       "           1.0e-15  114.408248\n",
       "           1.0e-17    1.827527\n",
       "           1.0e-20    1.105509\n",
       "           1.0e-30    1.317762\n",
       "           1.0e-40    1.241946\n",
       "           1.0e-50    1.146558\n",
       "60         1.0e-03   87.985274\n",
       "           1.0e-05  113.389752\n",
       "           1.0e-10  113.425645\n",
       "           1.0e-15   94.265890\n",
       "           1.0e-17    1.790338\n",
       "           1.0e-20    1.048279\n",
       "           1.0e-30    1.216626\n",
       "           1.0e-40    0.853725\n",
       "           1.0e-50    1.035743"
      ]
     },
     "metadata": {},
     "output_type": "display_data"
    }
   ],
   "source": [
    "with pd.option_context(\"display.max_rows\", None, \"display.max_columns\", None):\n",
    "    _df = ensemble.groupby([\"n_clusters\", \"gamma\"]).mean()\n",
    "    display(_df)"
   ]
  },
  {
   "cell_type": "code",
   "execution_count": 47,
   "metadata": {
    "execution": {
     "iopub.execute_input": "2021-01-12T06:27:07.684984Z",
     "iopub.status.busy": "2021-01-12T06:27:07.684563Z",
     "iopub.status.idle": "2021-01-12T06:27:10.092987Z",
     "shell.execute_reply": "2021-01-12T06:27:10.093281Z"
    },
    "papermill": {
     "duration": 2.515192,
     "end_time": "2021-01-12T06:27:10.093395",
     "exception": false,
     "start_time": "2021-01-12T06:27:07.578203",
     "status": "completed"
    },
    "tags": []
   },
   "outputs": [
    {
     "data": {
      "image/png": "[encoded data removed]",
      "text/plain": [
       "<Figure size 1008x432 with 1 Axes>"
      ]
     },
     "metadata": {},
     "output_type": "display_data"
    }
   ],
   "source": [
    "# with sns.axes_style('whitegrid', {'grid.linestyle': '--'}):\n",
    "with sns.plotting_context(\"talk\", font_scale=0.75), sns.axes_style(\n",
    "    \"whitegrid\", {\"grid.linestyle\": \"--\"}\n",
    "):\n",
    "    fig = plt.figure(figsize=(14, 6))\n",
    "    ax = sns.pointplot(data=ensemble, x=\"n_clusters\", y=\"ch_score\", hue=\"gamma\")\n",
    "    ax.set_ylabel(\"Calinski-Harabasz index\")\n",
    "    ax.set_xlabel(\"Number of clusters ($k$)\")\n",
    "    ax.set_xticklabels(ax.get_xticklabels(), rotation=45)\n",
    "    #     ax.set_ylim(0.0, 1.0)\n",
    "    #     ax.set_xlim(CLUSTERING_OPTIONS['K_MIN'], CLUSTERING_OPTIONS['K_MAX'])\n",
    "    plt.grid(True)\n",
    "    plt.tight_layout()"
   ]
  },
  {
   "cell_type": "markdown",
   "metadata": {
    "papermill": {
     "duration": 0.104615,
     "end_time": "2021-01-12T06:27:10.303316",
     "exception": false,
     "start_time": "2021-01-12T06:27:10.198701",
     "status": "completed"
    },
    "tags": []
   },
   "source": [
    "# Stability"
   ]
  },
  {
   "cell_type": "markdown",
   "metadata": {
    "papermill": {
     "duration": 0.104281,
     "end_time": "2021-01-12T06:27:10.512735",
     "exception": false,
     "start_time": "2021-01-12T06:27:10.408454",
     "status": "completed"
    },
    "tags": []
   },
   "source": [
    "## Group ensemble by n_clusters"
   ]
  },
  {
   "cell_type": "code",
   "execution_count": 48,
   "metadata": {
    "execution": {
     "iopub.execute_input": "2021-01-12T06:27:10.722158Z",
     "iopub.status.busy": "2021-01-12T06:27:10.721784Z",
     "iopub.status.idle": "2021-01-12T06:27:10.754760Z",
     "shell.execute_reply": "2021-01-12T06:27:10.755037Z"
    },
    "papermill": {
     "duration": 0.139327,
     "end_time": "2021-01-12T06:27:10.755149",
     "exception": false,
     "start_time": "2021-01-12T06:27:10.615822",
     "status": "completed"
    },
    "tags": []
   },
   "outputs": [],
   "source": [
    "parts = ensemble.groupby([\"gamma\", \"n_clusters\"]).apply(\n",
    "    lambda x: np.concatenate(x[\"partition\"].apply(lambda x: x.reshape(1, -1)), axis=0)\n",
    ")"
   ]
  },
  {
   "cell_type": "code",
   "execution_count": 49,
   "metadata": {
    "execution": {
     "iopub.execute_input": "2021-01-12T06:27:10.965887Z",
     "iopub.status.busy": "2021-01-12T06:27:10.965526Z",
     "iopub.status.idle": "2021-01-12T06:27:10.978624Z",
     "shell.execute_reply": "2021-01-12T06:27:10.978249Z"
    },
    "papermill": {
     "duration": 0.119439,
     "end_time": "2021-01-12T06:27:10.978713",
     "exception": false,
     "start_time": "2021-01-12T06:27:10.859274",
     "status": "completed"
    },
    "tags": []
   },
   "outputs": [
    {
     "data": {
      "text/plain": [
       "(90,)"
      ]
     },
     "execution_count": 49,
     "metadata": {},
     "output_type": "execute_result"
    }
   ],
   "source": [
    "parts.shape"
   ]
  },
  {
   "cell_type": "code",
   "execution_count": 50,
   "metadata": {
    "execution": {
     "iopub.execute_input": "2021-01-12T06:27:11.190298Z",
     "iopub.status.busy": "2021-01-12T06:27:11.189922Z",
     "iopub.status.idle": "2021-01-12T06:27:11.214617Z",
     "shell.execute_reply": "2021-01-12T06:27:11.214242Z"
    },
    "papermill": {
     "duration": 0.131907,
     "end_time": "2021-01-12T06:27:11.214708",
     "exception": false,
     "start_time": "2021-01-12T06:27:11.082801",
     "status": "completed"
    },
    "tags": []
   },
   "outputs": [
    {
     "data": {
      "text/plain": [
       "gamma    n_clusters\n",
       "1.0e-03  2             [[0.0, 0.0, 0.0, 0.0, 0.0, 0.0, 0.0, 0.0, 0.0,...\n",
       "         4             [[0.0, 0.0, 0.0, 0.0, 0.0, 0.0, 0.0, 0.0, 0.0,...\n",
       "         6             [[0.0, 0.0, 0.0, 0.0, 0.0, 0.0, 0.0, 0.0, 0.0,...\n",
       "         8             [[0.0, 0.0, 0.0, 0.0, 0.0, 0.0, 0.0, 0.0, 0.0,...\n",
       "         10            [[0.0, 0.0, 0.0, 0.0, 0.0, 0.0, 0.0, 0.0, 0.0,...\n",
       "dtype: object"
      ]
     },
     "execution_count": 50,
     "metadata": {},
     "output_type": "execute_result"
    }
   ],
   "source": [
    "parts.head()"
   ]
  },
  {
   "cell_type": "code",
   "execution_count": 51,
   "metadata": {
    "execution": {
     "iopub.execute_input": "2021-01-12T06:27:11.429001Z",
     "iopub.status.busy": "2021-01-12T06:27:11.428593Z",
     "iopub.status.idle": "2021-01-12T06:27:11.441637Z",
     "shell.execute_reply": "2021-01-12T06:27:11.441316Z"
    },
    "papermill": {
     "duration": 0.12063,
     "end_time": "2021-01-12T06:27:11.441725",
     "exception": false,
     "start_time": "2021-01-12T06:27:11.321095",
     "status": "completed"
    },
    "tags": []
   },
   "outputs": [
    {
     "data": {
      "text/plain": [
       "(5, 3749)"
      ]
     },
     "execution_count": 51,
     "metadata": {},
     "output_type": "execute_result"
    }
   ],
   "source": [
    "parts.iloc[0].shape"
   ]
  },
  {
   "cell_type": "code",
   "execution_count": 52,
   "metadata": {
    "execution": {
     "iopub.execute_input": "2021-01-12T06:27:11.657402Z",
     "iopub.status.busy": "2021-01-12T06:27:11.657039Z",
     "iopub.status.idle": "2021-01-12T06:27:11.672908Z",
     "shell.execute_reply": "2021-01-12T06:27:11.672519Z"
    },
    "papermill": {
     "duration": 0.124638,
     "end_time": "2021-01-12T06:27:11.672999",
     "exception": false,
     "start_time": "2021-01-12T06:27:11.548361",
     "status": "completed"
    },
    "tags": []
   },
   "outputs": [],
   "source": [
    "assert np.all(\n",
    "    [\n",
    "        parts.loc[k].shape == (int(CLUSTERING_OPTIONS[\"N_REPS_PER_K\"]), data.shape[0])\n",
    "        for k in parts.index\n",
    "    ]\n",
    ")"
   ]
  },
  {
   "cell_type": "markdown",
   "metadata": {
    "papermill": {
     "duration": 0.105385,
     "end_time": "2021-01-12T06:27:11.884355",
     "exception": false,
     "start_time": "2021-01-12T06:27:11.778970",
     "status": "completed"
    },
    "tags": []
   },
   "source": [
    "## Compute stability"
   ]
  },
  {
   "cell_type": "code",
   "execution_count": 53,
   "metadata": {
    "execution": {
     "iopub.execute_input": "2021-01-12T06:27:12.099144Z",
     "iopub.status.busy": "2021-01-12T06:27:12.098767Z",
     "iopub.status.idle": "2021-01-12T06:27:12.111031Z",
     "shell.execute_reply": "2021-01-12T06:27:12.110702Z"
    },
    "papermill": {
     "duration": 0.120516,
     "end_time": "2021-01-12T06:27:12.111117",
     "exception": false,
     "start_time": "2021-01-12T06:27:11.990601",
     "status": "completed"
    },
    "tags": []
   },
   "outputs": [],
   "source": [
    "from sklearn.metrics import adjusted_rand_score as ari\n",
    "from scipy.spatial.distance import pdist"
   ]
  },
  {
   "cell_type": "code",
   "execution_count": 54,
   "metadata": {
    "execution": {
     "iopub.execute_input": "2021-01-12T06:27:12.327554Z",
     "iopub.status.busy": "2021-01-12T06:27:12.327174Z",
     "iopub.status.idle": "2021-01-12T06:27:13.219438Z",
     "shell.execute_reply": "2021-01-12T06:27:13.219063Z"
    },
    "papermill": {
     "duration": 1.001861,
     "end_time": "2021-01-12T06:27:13.219527",
     "exception": false,
     "start_time": "2021-01-12T06:27:12.217666",
     "status": "completed"
    },
    "tags": []
   },
   "outputs": [],
   "source": [
    "parts_ari = pd.Series(\n",
    "    {k: pdist(parts.loc[k], metric=ari) for k in parts.index}, name=\"n_clusters\"\n",
    ")"
   ]
  },
  {
   "cell_type": "code",
   "execution_count": 55,
   "metadata": {
    "execution": {
     "iopub.execute_input": "2021-01-12T06:27:13.436241Z",
     "iopub.status.busy": "2021-01-12T06:27:13.435865Z",
     "iopub.status.idle": "2021-01-12T06:27:13.450809Z",
     "shell.execute_reply": "2021-01-12T06:27:13.450444Z"
    },
    "papermill": {
     "duration": 0.123789,
     "end_time": "2021-01-12T06:27:13.450897",
     "exception": false,
     "start_time": "2021-01-12T06:27:13.327108",
     "status": "completed"
    },
    "tags": []
   },
   "outputs": [
    {
     "data": {
      "text/plain": [
       "1.0e-03  2     1.000000\n",
       "         10    1.000000\n",
       "1.0e-10  8     1.000000\n",
       "         6     1.000000\n",
       "         2     1.000000\n",
       "1.0e-05  6     1.000000\n",
       "         2     1.000000\n",
       "         8     1.000000\n",
       "1.0e-03  8     1.000000\n",
       "         4     1.000000\n",
       "         6     1.000000\n",
       "1.0e-10  4     0.997383\n",
       "1.0e-05  4     0.997230\n",
       "1.0e-15  2     0.996823\n",
       "1.0e-05  10    0.990633\n",
       "Name: n_clusters, dtype: float64"
      ]
     },
     "metadata": {},
     "output_type": "display_data"
    }
   ],
   "source": [
    "parts_ari_stability = parts_ari.apply(lambda x: x.mean())\n",
    "display(parts_ari_stability.sort_values(ascending=False).head(15))"
   ]
  },
  {
   "cell_type": "code",
   "execution_count": 56,
   "metadata": {
    "execution": {
     "iopub.execute_input": "2021-01-12T06:27:13.665634Z",
     "iopub.status.busy": "2021-01-12T06:27:13.665258Z",
     "iopub.status.idle": "2021-01-12T06:27:13.679676Z",
     "shell.execute_reply": "2021-01-12T06:27:13.679367Z"
    },
    "papermill": {
     "duration": 0.12264,
     "end_time": "2021-01-12T06:27:13.679769",
     "exception": false,
     "start_time": "2021-01-12T06:27:13.557129",
     "status": "completed"
    },
    "tags": []
   },
   "outputs": [],
   "source": [
    "parts_ari_df = pd.DataFrame.from_records(parts_ari.tolist()).set_index(\n",
    "    parts_ari.index.copy()\n",
    ")\n",
    "parts_ari_df.index.rename([\"gamma\", \"n_clusters\"], inplace=True)"
   ]
  },
  {
   "cell_type": "code",
   "execution_count": 57,
   "metadata": {
    "execution": {
     "iopub.execute_input": "2021-01-12T06:27:13.894714Z",
     "iopub.status.busy": "2021-01-12T06:27:13.894341Z",
     "iopub.status.idle": "2021-01-12T06:27:13.907346Z",
     "shell.execute_reply": "2021-01-12T06:27:13.906969Z"
    },
    "papermill": {
     "duration": 0.122537,
     "end_time": "2021-01-12T06:27:13.907435",
     "exception": false,
     "start_time": "2021-01-12T06:27:13.784898",
     "status": "completed"
    },
    "tags": []
   },
   "outputs": [
    {
     "data": {
      "text/plain": [
       "(90, 10)"
      ]
     },
     "execution_count": 57,
     "metadata": {},
     "output_type": "execute_result"
    }
   ],
   "source": [
    "parts_ari_df.shape"
   ]
  },
  {
   "cell_type": "code",
   "execution_count": 58,
   "metadata": {
    "execution": {
     "iopub.execute_input": "2021-01-12T06:27:14.125812Z",
     "iopub.status.busy": "2021-01-12T06:27:14.125448Z",
     "iopub.status.idle": "2021-01-12T06:27:14.137509Z",
     "shell.execute_reply": "2021-01-12T06:27:14.137126Z"
    },
    "papermill": {
     "duration": 0.121667,
     "end_time": "2021-01-12T06:27:14.137596",
     "exception": false,
     "start_time": "2021-01-12T06:27:14.015929",
     "status": "completed"
    },
    "tags": []
   },
   "outputs": [],
   "source": [
    "_n_total_parts = int(\n",
    "    CLUSTERING_OPTIONS[\"N_REPS_PER_K\"]\n",
    ")  # * len(CLUSTERING_OPTIONS[\"GAMMAS\"]))\n",
    "\n",
    "assert int(_n_total_parts * (_n_total_parts - 1) / 2) == parts_ari_df.shape[1]"
   ]
  },
  {
   "cell_type": "code",
   "execution_count": 59,
   "metadata": {
    "execution": {
     "iopub.execute_input": "2021-01-12T06:27:14.353348Z",
     "iopub.status.busy": "2021-01-12T06:27:14.352973Z",
     "iopub.status.idle": "2021-01-12T06:27:14.372959Z",
     "shell.execute_reply": "2021-01-12T06:27:14.372548Z"
    },
    "papermill": {
     "duration": 0.129486,
     "end_time": "2021-01-12T06:27:14.373050",
     "exception": false,
     "start_time": "2021-01-12T06:27:14.243564",
     "status": "completed"
    },
    "tags": []
   },
   "outputs": [
    {
     "data": {
      "text/html": [
       "<div>\n",
       "<style scoped>\n",
       "    .dataframe tbody tr th:only-of-type {\n",
       "        vertical-align: middle;\n",
       "    }\n",
       "\n",
       "    .dataframe tbody tr th {\n",
       "        vertical-align: top;\n",
       "    }\n",
       "\n",
       "    .dataframe thead th {\n",
       "        text-align: right;\n",
       "    }\n",
       "</style>\n",
       "<table border=\"1\" class=\"dataframe\">\n",
       "  <thead>\n",
       "    <tr style=\"text-align: right;\">\n",
       "      <th></th>\n",
       "      <th></th>\n",
       "      <th>0</th>\n",
       "      <th>1</th>\n",
       "      <th>2</th>\n",
       "      <th>3</th>\n",
       "      <th>4</th>\n",
       "      <th>5</th>\n",
       "      <th>6</th>\n",
       "      <th>7</th>\n",
       "      <th>8</th>\n",
       "      <th>9</th>\n",
       "    </tr>\n",
       "    <tr>\n",
       "      <th>gamma</th>\n",
       "      <th>n_clusters</th>\n",
       "      <th></th>\n",
       "      <th></th>\n",
       "      <th></th>\n",
       "      <th></th>\n",
       "      <th></th>\n",
       "      <th></th>\n",
       "      <th></th>\n",
       "      <th></th>\n",
       "      <th></th>\n",
       "      <th></th>\n",
       "    </tr>\n",
       "  </thead>\n",
       "  <tbody>\n",
       "    <tr>\n",
       "      <th rowspan=\"5\" valign=\"top\">1.0e-03</th>\n",
       "      <th>2</th>\n",
       "      <td>1.0</td>\n",
       "      <td>1.0</td>\n",
       "      <td>1.0</td>\n",
       "      <td>1.0</td>\n",
       "      <td>1.0</td>\n",
       "      <td>1.0</td>\n",
       "      <td>1.0</td>\n",
       "      <td>1.0</td>\n",
       "      <td>1.0</td>\n",
       "      <td>1.0</td>\n",
       "    </tr>\n",
       "    <tr>\n",
       "      <th>4</th>\n",
       "      <td>1.0</td>\n",
       "      <td>1.0</td>\n",
       "      <td>1.0</td>\n",
       "      <td>1.0</td>\n",
       "      <td>1.0</td>\n",
       "      <td>1.0</td>\n",
       "      <td>1.0</td>\n",
       "      <td>1.0</td>\n",
       "      <td>1.0</td>\n",
       "      <td>1.0</td>\n",
       "    </tr>\n",
       "    <tr>\n",
       "      <th>6</th>\n",
       "      <td>1.0</td>\n",
       "      <td>1.0</td>\n",
       "      <td>1.0</td>\n",
       "      <td>1.0</td>\n",
       "      <td>1.0</td>\n",
       "      <td>1.0</td>\n",
       "      <td>1.0</td>\n",
       "      <td>1.0</td>\n",
       "      <td>1.0</td>\n",
       "      <td>1.0</td>\n",
       "    </tr>\n",
       "    <tr>\n",
       "      <th>8</th>\n",
       "      <td>1.0</td>\n",
       "      <td>1.0</td>\n",
       "      <td>1.0</td>\n",
       "      <td>1.0</td>\n",
       "      <td>1.0</td>\n",
       "      <td>1.0</td>\n",
       "      <td>1.0</td>\n",
       "      <td>1.0</td>\n",
       "      <td>1.0</td>\n",
       "      <td>1.0</td>\n",
       "    </tr>\n",
       "    <tr>\n",
       "      <th>10</th>\n",
       "      <td>1.0</td>\n",
       "      <td>1.0</td>\n",
       "      <td>1.0</td>\n",
       "      <td>1.0</td>\n",
       "      <td>1.0</td>\n",
       "      <td>1.0</td>\n",
       "      <td>1.0</td>\n",
       "      <td>1.0</td>\n",
       "      <td>1.0</td>\n",
       "      <td>1.0</td>\n",
       "    </tr>\n",
       "  </tbody>\n",
       "</table>\n",
       "</div>"
      ],
      "text/plain": [
       "                      0    1    2    3    4    5    6    7    8    9\n",
       "gamma   n_clusters                                                  \n",
       "1.0e-03 2           1.0  1.0  1.0  1.0  1.0  1.0  1.0  1.0  1.0  1.0\n",
       "        4           1.0  1.0  1.0  1.0  1.0  1.0  1.0  1.0  1.0  1.0\n",
       "        6           1.0  1.0  1.0  1.0  1.0  1.0  1.0  1.0  1.0  1.0\n",
       "        8           1.0  1.0  1.0  1.0  1.0  1.0  1.0  1.0  1.0  1.0\n",
       "        10          1.0  1.0  1.0  1.0  1.0  1.0  1.0  1.0  1.0  1.0"
      ]
     },
     "execution_count": 59,
     "metadata": {},
     "output_type": "execute_result"
    }
   ],
   "source": [
    "parts_ari_df.head()"
   ]
  },
  {
   "cell_type": "markdown",
   "metadata": {
    "papermill": {
     "duration": 0.108108,
     "end_time": "2021-01-12T06:27:14.589620",
     "exception": false,
     "start_time": "2021-01-12T06:27:14.481512",
     "status": "completed"
    },
    "tags": []
   },
   "source": [
    "## Stability plot"
   ]
  },
  {
   "cell_type": "code",
   "execution_count": 60,
   "metadata": {
    "execution": {
     "iopub.execute_input": "2021-01-12T06:27:14.806712Z",
     "iopub.status.busy": "2021-01-12T06:27:14.806346Z",
     "iopub.status.idle": "2021-01-12T06:27:14.820581Z",
     "shell.execute_reply": "2021-01-12T06:27:14.820207Z"
    },
    "papermill": {
     "duration": 0.124747,
     "end_time": "2021-01-12T06:27:14.820670",
     "exception": false,
     "start_time": "2021-01-12T06:27:14.695923",
     "status": "completed"
    },
    "tags": []
   },
   "outputs": [],
   "source": [
    "parts_ari_df_plot = (\n",
    "    parts_ari_df.stack().reset_index().rename(columns={\"level_2\": \"idx\", 0: \"ari\"})\n",
    ")"
   ]
  },
  {
   "cell_type": "code",
   "execution_count": 61,
   "metadata": {
    "execution": {
     "iopub.execute_input": "2021-01-12T06:27:15.035119Z",
     "iopub.status.busy": "2021-01-12T06:27:15.034754Z",
     "iopub.status.idle": "2021-01-12T06:27:15.047681Z",
     "shell.execute_reply": "2021-01-12T06:27:15.047957Z"
    },
    "papermill": {
     "duration": 0.121181,
     "end_time": "2021-01-12T06:27:15.048064",
     "exception": false,
     "start_time": "2021-01-12T06:27:14.926883",
     "status": "completed"
    },
    "tags": []
   },
   "outputs": [
    {
     "data": {
      "text/plain": [
       "gamma          object\n",
       "n_clusters      int64\n",
       "idx             int64\n",
       "ari           float64\n",
       "dtype: object"
      ]
     },
     "execution_count": 61,
     "metadata": {},
     "output_type": "execute_result"
    }
   ],
   "source": [
    "parts_ari_df_plot.dtypes"
   ]
  },
  {
   "cell_type": "code",
   "execution_count": 62,
   "metadata": {
    "execution": {
     "iopub.execute_input": "2021-01-12T06:27:15.263846Z",
     "iopub.status.busy": "2021-01-12T06:27:15.263471Z",
     "iopub.status.idle": "2021-01-12T06:27:15.279740Z",
     "shell.execute_reply": "2021-01-12T06:27:15.279369Z"
    },
    "papermill": {
     "duration": 0.126341,
     "end_time": "2021-01-12T06:27:15.279831",
     "exception": false,
     "start_time": "2021-01-12T06:27:15.153490",
     "status": "completed"
    },
    "tags": []
   },
   "outputs": [
    {
     "data": {
      "text/html": [
       "<div>\n",
       "<style scoped>\n",
       "    .dataframe tbody tr th:only-of-type {\n",
       "        vertical-align: middle;\n",
       "    }\n",
       "\n",
       "    .dataframe tbody tr th {\n",
       "        vertical-align: top;\n",
       "    }\n",
       "\n",
       "    .dataframe thead th {\n",
       "        text-align: right;\n",
       "    }\n",
       "</style>\n",
       "<table border=\"1\" class=\"dataframe\">\n",
       "  <thead>\n",
       "    <tr style=\"text-align: right;\">\n",
       "      <th></th>\n",
       "      <th>gamma</th>\n",
       "      <th>n_clusters</th>\n",
       "      <th>idx</th>\n",
       "      <th>ari</th>\n",
       "    </tr>\n",
       "  </thead>\n",
       "  <tbody>\n",
       "    <tr>\n",
       "      <th>0</th>\n",
       "      <td>1.0e-03</td>\n",
       "      <td>2</td>\n",
       "      <td>0</td>\n",
       "      <td>1.0</td>\n",
       "    </tr>\n",
       "    <tr>\n",
       "      <th>1</th>\n",
       "      <td>1.0e-03</td>\n",
       "      <td>2</td>\n",
       "      <td>1</td>\n",
       "      <td>1.0</td>\n",
       "    </tr>\n",
       "    <tr>\n",
       "      <th>2</th>\n",
       "      <td>1.0e-03</td>\n",
       "      <td>2</td>\n",
       "      <td>2</td>\n",
       "      <td>1.0</td>\n",
       "    </tr>\n",
       "    <tr>\n",
       "      <th>3</th>\n",
       "      <td>1.0e-03</td>\n",
       "      <td>2</td>\n",
       "      <td>3</td>\n",
       "      <td>1.0</td>\n",
       "    </tr>\n",
       "    <tr>\n",
       "      <th>4</th>\n",
       "      <td>1.0e-03</td>\n",
       "      <td>2</td>\n",
       "      <td>4</td>\n",
       "      <td>1.0</td>\n",
       "    </tr>\n",
       "  </tbody>\n",
       "</table>\n",
       "</div>"
      ],
      "text/plain": [
       "     gamma  n_clusters  idx  ari\n",
       "0  1.0e-03           2    0  1.0\n",
       "1  1.0e-03           2    1  1.0\n",
       "2  1.0e-03           2    2  1.0\n",
       "3  1.0e-03           2    3  1.0\n",
       "4  1.0e-03           2    4  1.0"
      ]
     },
     "execution_count": 62,
     "metadata": {},
     "output_type": "execute_result"
    }
   ],
   "source": [
    "parts_ari_df_plot.head()"
   ]
  },
  {
   "cell_type": "code",
   "execution_count": 63,
   "metadata": {
    "execution": {
     "iopub.execute_input": "2021-01-12T06:27:15.496066Z",
     "iopub.status.busy": "2021-01-12T06:27:15.495690Z",
     "iopub.status.idle": "2021-01-12T06:27:15.519315Z",
     "shell.execute_reply": "2021-01-12T06:27:15.518932Z"
    },
    "papermill": {
     "duration": 0.132476,
     "end_time": "2021-01-12T06:27:15.519423",
     "exception": false,
     "start_time": "2021-01-12T06:27:15.386947",
     "status": "completed"
    },
    "tags": []
   },
   "outputs": [
    {
     "data": {
      "text/html": [
       "<div>\n",
       "<style scoped>\n",
       "    .dataframe tbody tr th:only-of-type {\n",
       "        vertical-align: middle;\n",
       "    }\n",
       "\n",
       "    .dataframe tbody tr th {\n",
       "        vertical-align: top;\n",
       "    }\n",
       "\n",
       "    .dataframe thead th {\n",
       "        text-align: right;\n",
       "    }\n",
       "</style>\n",
       "<table border=\"1\" class=\"dataframe\">\n",
       "  <thead>\n",
       "    <tr style=\"text-align: right;\">\n",
       "      <th></th>\n",
       "      <th></th>\n",
       "      <th>idx</th>\n",
       "      <th>ari</th>\n",
       "    </tr>\n",
       "    <tr>\n",
       "      <th>n_clusters</th>\n",
       "      <th>gamma</th>\n",
       "      <th></th>\n",
       "      <th></th>\n",
       "    </tr>\n",
       "  </thead>\n",
       "  <tbody>\n",
       "    <tr>\n",
       "      <th rowspan=\"9\" valign=\"top\">2</th>\n",
       "      <th>1.0e-03</th>\n",
       "      <td>4.5</td>\n",
       "      <td>1.000000</td>\n",
       "    </tr>\n",
       "    <tr>\n",
       "      <th>1.0e-05</th>\n",
       "      <td>4.5</td>\n",
       "      <td>1.000000</td>\n",
       "    </tr>\n",
       "    <tr>\n",
       "      <th>1.0e-10</th>\n",
       "      <td>4.5</td>\n",
       "      <td>1.000000</td>\n",
       "    </tr>\n",
       "    <tr>\n",
       "      <th>1.0e-15</th>\n",
       "      <td>4.5</td>\n",
       "      <td>0.996823</td>\n",
       "    </tr>\n",
       "    <tr>\n",
       "      <th>1.0e-17</th>\n",
       "      <td>4.5</td>\n",
       "      <td>-0.001536</td>\n",
       "    </tr>\n",
       "    <tr>\n",
       "      <th>1.0e-20</th>\n",
       "      <td>4.5</td>\n",
       "      <td>0.000975</td>\n",
       "    </tr>\n",
       "    <tr>\n",
       "      <th>1.0e-30</th>\n",
       "      <td>4.5</td>\n",
       "      <td>-0.000739</td>\n",
       "    </tr>\n",
       "    <tr>\n",
       "      <th>1.0e-40</th>\n",
       "      <td>4.5</td>\n",
       "      <td>0.007904</td>\n",
       "    </tr>\n",
       "    <tr>\n",
       "      <th>1.0e-50</th>\n",
       "      <td>4.5</td>\n",
       "      <td>0.003361</td>\n",
       "    </tr>\n",
       "    <tr>\n",
       "      <th rowspan=\"9\" valign=\"top\">4</th>\n",
       "      <th>1.0e-03</th>\n",
       "      <td>4.5</td>\n",
       "      <td>1.000000</td>\n",
       "    </tr>\n",
       "    <tr>\n",
       "      <th>1.0e-05</th>\n",
       "      <td>4.5</td>\n",
       "      <td>0.997230</td>\n",
       "    </tr>\n",
       "    <tr>\n",
       "      <th>1.0e-10</th>\n",
       "      <td>4.5</td>\n",
       "      <td>0.997383</td>\n",
       "    </tr>\n",
       "    <tr>\n",
       "      <th>1.0e-15</th>\n",
       "      <td>4.5</td>\n",
       "      <td>0.967827</td>\n",
       "    </tr>\n",
       "    <tr>\n",
       "      <th>1.0e-17</th>\n",
       "      <td>4.5</td>\n",
       "      <td>0.002210</td>\n",
       "    </tr>\n",
       "    <tr>\n",
       "      <th>1.0e-20</th>\n",
       "      <td>4.5</td>\n",
       "      <td>0.002405</td>\n",
       "    </tr>\n",
       "    <tr>\n",
       "      <th>1.0e-30</th>\n",
       "      <td>4.5</td>\n",
       "      <td>0.002085</td>\n",
       "    </tr>\n",
       "    <tr>\n",
       "      <th>1.0e-40</th>\n",
       "      <td>4.5</td>\n",
       "      <td>-0.000608</td>\n",
       "    </tr>\n",
       "    <tr>\n",
       "      <th>1.0e-50</th>\n",
       "      <td>4.5</td>\n",
       "      <td>-0.003069</td>\n",
       "    </tr>\n",
       "    <tr>\n",
       "      <th rowspan=\"9\" valign=\"top\">6</th>\n",
       "      <th>1.0e-03</th>\n",
       "      <td>4.5</td>\n",
       "      <td>1.000000</td>\n",
       "    </tr>\n",
       "    <tr>\n",
       "      <th>1.0e-05</th>\n",
       "      <td>4.5</td>\n",
       "      <td>1.000000</td>\n",
       "    </tr>\n",
       "    <tr>\n",
       "      <th>1.0e-10</th>\n",
       "      <td>4.5</td>\n",
       "      <td>1.000000</td>\n",
       "    </tr>\n",
       "    <tr>\n",
       "      <th>1.0e-15</th>\n",
       "      <td>4.5</td>\n",
       "      <td>0.912974</td>\n",
       "    </tr>\n",
       "    <tr>\n",
       "      <th>1.0e-17</th>\n",
       "      <td>4.5</td>\n",
       "      <td>-0.000844</td>\n",
       "    </tr>\n",
       "    <tr>\n",
       "      <th>1.0e-20</th>\n",
       "      <td>4.5</td>\n",
       "      <td>0.007494</td>\n",
       "    </tr>\n",
       "    <tr>\n",
       "      <th>1.0e-30</th>\n",
       "      <td>4.5</td>\n",
       "      <td>0.004192</td>\n",
       "    </tr>\n",
       "    <tr>\n",
       "      <th>1.0e-40</th>\n",
       "      <td>4.5</td>\n",
       "      <td>-0.003611</td>\n",
       "    </tr>\n",
       "    <tr>\n",
       "      <th>1.0e-50</th>\n",
       "      <td>4.5</td>\n",
       "      <td>-0.002141</td>\n",
       "    </tr>\n",
       "    <tr>\n",
       "      <th rowspan=\"9\" valign=\"top\">8</th>\n",
       "      <th>1.0e-03</th>\n",
       "      <td>4.5</td>\n",
       "      <td>1.000000</td>\n",
       "    </tr>\n",
       "    <tr>\n",
       "      <th>1.0e-05</th>\n",
       "      <td>4.5</td>\n",
       "      <td>1.000000</td>\n",
       "    </tr>\n",
       "    <tr>\n",
       "      <th>1.0e-10</th>\n",
       "      <td>4.5</td>\n",
       "      <td>1.000000</td>\n",
       "    </tr>\n",
       "    <tr>\n",
       "      <th>1.0e-15</th>\n",
       "      <td>4.5</td>\n",
       "      <td>0.931346</td>\n",
       "    </tr>\n",
       "    <tr>\n",
       "      <th>1.0e-17</th>\n",
       "      <td>4.5</td>\n",
       "      <td>0.006473</td>\n",
       "    </tr>\n",
       "    <tr>\n",
       "      <th>1.0e-20</th>\n",
       "      <td>4.5</td>\n",
       "      <td>-0.001073</td>\n",
       "    </tr>\n",
       "    <tr>\n",
       "      <th>1.0e-30</th>\n",
       "      <td>4.5</td>\n",
       "      <td>-0.002034</td>\n",
       "    </tr>\n",
       "    <tr>\n",
       "      <th>1.0e-40</th>\n",
       "      <td>4.5</td>\n",
       "      <td>0.000525</td>\n",
       "    </tr>\n",
       "    <tr>\n",
       "      <th>1.0e-50</th>\n",
       "      <td>4.5</td>\n",
       "      <td>0.008244</td>\n",
       "    </tr>\n",
       "    <tr>\n",
       "      <th rowspan=\"9\" valign=\"top\">10</th>\n",
       "      <th>1.0e-03</th>\n",
       "      <td>4.5</td>\n",
       "      <td>1.000000</td>\n",
       "    </tr>\n",
       "    <tr>\n",
       "      <th>1.0e-05</th>\n",
       "      <td>4.5</td>\n",
       "      <td>0.990633</td>\n",
       "    </tr>\n",
       "    <tr>\n",
       "      <th>1.0e-10</th>\n",
       "      <td>4.5</td>\n",
       "      <td>0.990155</td>\n",
       "    </tr>\n",
       "    <tr>\n",
       "      <th>1.0e-15</th>\n",
       "      <td>4.5</td>\n",
       "      <td>0.804388</td>\n",
       "    </tr>\n",
       "    <tr>\n",
       "      <th>1.0e-17</th>\n",
       "      <td>4.5</td>\n",
       "      <td>0.006414</td>\n",
       "    </tr>\n",
       "    <tr>\n",
       "      <th>1.0e-20</th>\n",
       "      <td>4.5</td>\n",
       "      <td>-0.002171</td>\n",
       "    </tr>\n",
       "    <tr>\n",
       "      <th>1.0e-30</th>\n",
       "      <td>4.5</td>\n",
       "      <td>0.003226</td>\n",
       "    </tr>\n",
       "    <tr>\n",
       "      <th>1.0e-40</th>\n",
       "      <td>4.5</td>\n",
       "      <td>0.008120</td>\n",
       "    </tr>\n",
       "    <tr>\n",
       "      <th>1.0e-50</th>\n",
       "      <td>4.5</td>\n",
       "      <td>0.002680</td>\n",
       "    </tr>\n",
       "    <tr>\n",
       "      <th rowspan=\"9\" valign=\"top\">20</th>\n",
       "      <th>1.0e-03</th>\n",
       "      <td>4.5</td>\n",
       "      <td>0.972892</td>\n",
       "    </tr>\n",
       "    <tr>\n",
       "      <th>1.0e-05</th>\n",
       "      <td>4.5</td>\n",
       "      <td>0.499832</td>\n",
       "    </tr>\n",
       "    <tr>\n",
       "      <th>1.0e-10</th>\n",
       "      <td>4.5</td>\n",
       "      <td>0.638118</td>\n",
       "    </tr>\n",
       "    <tr>\n",
       "      <th>1.0e-15</th>\n",
       "      <td>4.5</td>\n",
       "      <td>0.123910</td>\n",
       "    </tr>\n",
       "    <tr>\n",
       "      <th>1.0e-17</th>\n",
       "      <td>4.5</td>\n",
       "      <td>0.005072</td>\n",
       "    </tr>\n",
       "    <tr>\n",
       "      <th>1.0e-20</th>\n",
       "      <td>4.5</td>\n",
       "      <td>-0.000224</td>\n",
       "    </tr>\n",
       "    <tr>\n",
       "      <th>1.0e-30</th>\n",
       "      <td>4.5</td>\n",
       "      <td>0.006978</td>\n",
       "    </tr>\n",
       "    <tr>\n",
       "      <th>1.0e-40</th>\n",
       "      <td>4.5</td>\n",
       "      <td>-0.003408</td>\n",
       "    </tr>\n",
       "    <tr>\n",
       "      <th>1.0e-50</th>\n",
       "      <td>4.5</td>\n",
       "      <td>0.002813</td>\n",
       "    </tr>\n",
       "    <tr>\n",
       "      <th rowspan=\"9\" valign=\"top\">30</th>\n",
       "      <th>1.0e-03</th>\n",
       "      <td>4.5</td>\n",
       "      <td>0.971791</td>\n",
       "    </tr>\n",
       "    <tr>\n",
       "      <th>1.0e-05</th>\n",
       "      <td>4.5</td>\n",
       "      <td>0.316773</td>\n",
       "    </tr>\n",
       "    <tr>\n",
       "      <th>1.0e-10</th>\n",
       "      <td>4.5</td>\n",
       "      <td>0.280382</td>\n",
       "    </tr>\n",
       "    <tr>\n",
       "      <th>1.0e-15</th>\n",
       "      <td>4.5</td>\n",
       "      <td>0.054671</td>\n",
       "    </tr>\n",
       "    <tr>\n",
       "      <th>1.0e-17</th>\n",
       "      <td>4.5</td>\n",
       "      <td>0.003145</td>\n",
       "    </tr>\n",
       "    <tr>\n",
       "      <th>1.0e-20</th>\n",
       "      <td>4.5</td>\n",
       "      <td>0.000601</td>\n",
       "    </tr>\n",
       "    <tr>\n",
       "      <th>1.0e-30</th>\n",
       "      <td>4.5</td>\n",
       "      <td>0.001525</td>\n",
       "    </tr>\n",
       "    <tr>\n",
       "      <th>1.0e-40</th>\n",
       "      <td>4.5</td>\n",
       "      <td>0.003000</td>\n",
       "    </tr>\n",
       "    <tr>\n",
       "      <th>1.0e-50</th>\n",
       "      <td>4.5</td>\n",
       "      <td>0.009797</td>\n",
       "    </tr>\n",
       "    <tr>\n",
       "      <th rowspan=\"9\" valign=\"top\">40</th>\n",
       "      <th>1.0e-03</th>\n",
       "      <td>4.5</td>\n",
       "      <td>0.980744</td>\n",
       "    </tr>\n",
       "    <tr>\n",
       "      <th>1.0e-05</th>\n",
       "      <td>4.5</td>\n",
       "      <td>0.182454</td>\n",
       "    </tr>\n",
       "    <tr>\n",
       "      <th>1.0e-10</th>\n",
       "      <td>4.5</td>\n",
       "      <td>0.171947</td>\n",
       "    </tr>\n",
       "    <tr>\n",
       "      <th>1.0e-15</th>\n",
       "      <td>4.5</td>\n",
       "      <td>0.044524</td>\n",
       "    </tr>\n",
       "    <tr>\n",
       "      <th>1.0e-17</th>\n",
       "      <td>4.5</td>\n",
       "      <td>0.002408</td>\n",
       "    </tr>\n",
       "    <tr>\n",
       "      <th>1.0e-20</th>\n",
       "      <td>4.5</td>\n",
       "      <td>-0.003788</td>\n",
       "    </tr>\n",
       "    <tr>\n",
       "      <th>1.0e-30</th>\n",
       "      <td>4.5</td>\n",
       "      <td>0.001295</td>\n",
       "    </tr>\n",
       "    <tr>\n",
       "      <th>1.0e-40</th>\n",
       "      <td>4.5</td>\n",
       "      <td>0.000734</td>\n",
       "    </tr>\n",
       "    <tr>\n",
       "      <th>1.0e-50</th>\n",
       "      <td>4.5</td>\n",
       "      <td>0.002676</td>\n",
       "    </tr>\n",
       "    <tr>\n",
       "      <th rowspan=\"9\" valign=\"top\">50</th>\n",
       "      <th>1.0e-03</th>\n",
       "      <td>4.5</td>\n",
       "      <td>0.631445</td>\n",
       "    </tr>\n",
       "    <tr>\n",
       "      <th>1.0e-05</th>\n",
       "      <td>4.5</td>\n",
       "      <td>0.139879</td>\n",
       "    </tr>\n",
       "    <tr>\n",
       "      <th>1.0e-10</th>\n",
       "      <td>4.5</td>\n",
       "      <td>0.123279</td>\n",
       "    </tr>\n",
       "    <tr>\n",
       "      <th>1.0e-15</th>\n",
       "      <td>4.5</td>\n",
       "      <td>0.039099</td>\n",
       "    </tr>\n",
       "    <tr>\n",
       "      <th>1.0e-17</th>\n",
       "      <td>4.5</td>\n",
       "      <td>0.002170</td>\n",
       "    </tr>\n",
       "    <tr>\n",
       "      <th>1.0e-20</th>\n",
       "      <td>4.5</td>\n",
       "      <td>0.006595</td>\n",
       "    </tr>\n",
       "    <tr>\n",
       "      <th>1.0e-30</th>\n",
       "      <td>4.5</td>\n",
       "      <td>-0.001275</td>\n",
       "    </tr>\n",
       "    <tr>\n",
       "      <th>1.0e-40</th>\n",
       "      <td>4.5</td>\n",
       "      <td>0.002134</td>\n",
       "    </tr>\n",
       "    <tr>\n",
       "      <th>1.0e-50</th>\n",
       "      <td>4.5</td>\n",
       "      <td>0.003881</td>\n",
       "    </tr>\n",
       "    <tr>\n",
       "      <th rowspan=\"9\" valign=\"top\">60</th>\n",
       "      <th>1.0e-03</th>\n",
       "      <td>4.5</td>\n",
       "      <td>0.090087</td>\n",
       "    </tr>\n",
       "    <tr>\n",
       "      <th>1.0e-05</th>\n",
       "      <td>4.5</td>\n",
       "      <td>0.120703</td>\n",
       "    </tr>\n",
       "    <tr>\n",
       "      <th>1.0e-10</th>\n",
       "      <td>4.5</td>\n",
       "      <td>0.126477</td>\n",
       "    </tr>\n",
       "    <tr>\n",
       "      <th>1.0e-15</th>\n",
       "      <td>4.5</td>\n",
       "      <td>0.037412</td>\n",
       "    </tr>\n",
       "    <tr>\n",
       "      <th>1.0e-17</th>\n",
       "      <td>4.5</td>\n",
       "      <td>0.008318</td>\n",
       "    </tr>\n",
       "    <tr>\n",
       "      <th>1.0e-20</th>\n",
       "      <td>4.5</td>\n",
       "      <td>0.006606</td>\n",
       "    </tr>\n",
       "    <tr>\n",
       "      <th>1.0e-30</th>\n",
       "      <td>4.5</td>\n",
       "      <td>-0.000967</td>\n",
       "    </tr>\n",
       "    <tr>\n",
       "      <th>1.0e-40</th>\n",
       "      <td>4.5</td>\n",
       "      <td>0.001881</td>\n",
       "    </tr>\n",
       "    <tr>\n",
       "      <th>1.0e-50</th>\n",
       "      <td>4.5</td>\n",
       "      <td>0.005270</td>\n",
       "    </tr>\n",
       "  </tbody>\n",
       "</table>\n",
       "</div>"
      ],
      "text/plain": [
       "                    idx       ari\n",
       "n_clusters gamma                 \n",
       "2          1.0e-03  4.5  1.000000\n",
       "           1.0e-05  4.5  1.000000\n",
       "           1.0e-10  4.5  1.000000\n",
       "           1.0e-15  4.5  0.996823\n",
       "           1.0e-17  4.5 -0.001536\n",
       "           1.0e-20  4.5  0.000975\n",
       "           1.0e-30  4.5 -0.000739\n",
       "           1.0e-40  4.5  0.007904\n",
       "           1.0e-50  4.5  0.003361\n",
       "4          1.0e-03  4.5  1.000000\n",
       "           1.0e-05  4.5  0.997230\n",
       "           1.0e-10  4.5  0.997383\n",
       "           1.0e-15  4.5  0.967827\n",
       "           1.0e-17  4.5  0.002210\n",
       "           1.0e-20  4.5  0.002405\n",
       "           1.0e-30  4.5  0.002085\n",
       "           1.0e-40  4.5 -0.000608\n",
       "           1.0e-50  4.5 -0.003069\n",
       "6          1.0e-03  4.5  1.000000\n",
       "           1.0e-05  4.5  1.000000\n",
       "           1.0e-10  4.5  1.000000\n",
       "           1.0e-15  4.5  0.912974\n",
       "           1.0e-17  4.5 -0.000844\n",
       "           1.0e-20  4.5  0.007494\n",
       "           1.0e-30  4.5  0.004192\n",
       "           1.0e-40  4.5 -0.003611\n",
       "           1.0e-50  4.5 -0.002141\n",
       "8          1.0e-03  4.5  1.000000\n",
       "           1.0e-05  4.5  1.000000\n",
       "           1.0e-10  4.5  1.000000\n",
       "           1.0e-15  4.5  0.931346\n",
       "           1.0e-17  4.5  0.006473\n",
       "           1.0e-20  4.5 -0.001073\n",
       "           1.0e-30  4.5 -0.002034\n",
       "           1.0e-40  4.5  0.000525\n",
       "           1.0e-50  4.5  0.008244\n",
       "10         1.0e-03  4.5  1.000000\n",
       "           1.0e-05  4.5  0.990633\n",
       "           1.0e-10  4.5  0.990155\n",
       "           1.0e-15  4.5  0.804388\n",
       "           1.0e-17  4.5  0.006414\n",
       "           1.0e-20  4.5 -0.002171\n",
       "           1.0e-30  4.5  0.003226\n",
       "           1.0e-40  4.5  0.008120\n",
       "           1.0e-50  4.5  0.002680\n",
       "20         1.0e-03  4.5  0.972892\n",
       "           1.0e-05  4.5  0.499832\n",
       "           1.0e-10  4.5  0.638118\n",
       "           1.0e-15  4.5  0.123910\n",
       "           1.0e-17  4.5  0.005072\n",
       "           1.0e-20  4.5 -0.000224\n",
       "           1.0e-30  4.5  0.006978\n",
       "           1.0e-40  4.5 -0.003408\n",
       "           1.0e-50  4.5  0.002813\n",
       "30         1.0e-03  4.5  0.971791\n",
       "           1.0e-05  4.5  0.316773\n",
       "           1.0e-10  4.5  0.280382\n",
       "           1.0e-15  4.5  0.054671\n",
       "           1.0e-17  4.5  0.003145\n",
       "           1.0e-20  4.5  0.000601\n",
       "           1.0e-30  4.5  0.001525\n",
       "           1.0e-40  4.5  0.003000\n",
       "           1.0e-50  4.5  0.009797\n",
       "40         1.0e-03  4.5  0.980744\n",
       "           1.0e-05  4.5  0.182454\n",
       "           1.0e-10  4.5  0.171947\n",
       "           1.0e-15  4.5  0.044524\n",
       "           1.0e-17  4.5  0.002408\n",
       "           1.0e-20  4.5 -0.003788\n",
       "           1.0e-30  4.5  0.001295\n",
       "           1.0e-40  4.5  0.000734\n",
       "           1.0e-50  4.5  0.002676\n",
       "50         1.0e-03  4.5  0.631445\n",
       "           1.0e-05  4.5  0.139879\n",
       "           1.0e-10  4.5  0.123279\n",
       "           1.0e-15  4.5  0.039099\n",
       "           1.0e-17  4.5  0.002170\n",
       "           1.0e-20  4.5  0.006595\n",
       "           1.0e-30  4.5 -0.001275\n",
       "           1.0e-40  4.5  0.002134\n",
       "           1.0e-50  4.5  0.003881\n",
       "60         1.0e-03  4.5  0.090087\n",
       "           1.0e-05  4.5  0.120703\n",
       "           1.0e-10  4.5  0.126477\n",
       "           1.0e-15  4.5  0.037412\n",
       "           1.0e-17  4.5  0.008318\n",
       "           1.0e-20  4.5  0.006606\n",
       "           1.0e-30  4.5 -0.000967\n",
       "           1.0e-40  4.5  0.001881\n",
       "           1.0e-50  4.5  0.005270"
      ]
     },
     "metadata": {},
     "output_type": "display_data"
    }
   ],
   "source": [
    "with pd.option_context(\"display.max_rows\", None, \"display.max_columns\", None):\n",
    "    _df = parts_ari_df_plot.groupby([\"n_clusters\", \"gamma\"]).mean()\n",
    "    display(_df)"
   ]
  },
  {
   "cell_type": "code",
   "execution_count": 64,
   "metadata": {
    "execution": {
     "iopub.execute_input": "2021-01-12T06:27:15.736457Z",
     "iopub.status.busy": "2021-01-12T06:27:15.736076Z",
     "iopub.status.idle": "2021-01-12T06:27:17.898666Z",
     "shell.execute_reply": "2021-01-12T06:27:17.898364Z"
    },
    "papermill": {
     "duration": 2.272274,
     "end_time": "2021-01-12T06:27:17.898758",
     "exception": false,
     "start_time": "2021-01-12T06:27:15.626484",
     "status": "completed"
    },
    "tags": []
   },
   "outputs": [
    {
     "data": {
      "image/png": "[encoded data removed]",
      "text/plain": [
       "<Figure size 1008x432 with 1 Axes>"
      ]
     },
     "metadata": {},
     "output_type": "display_data"
    }
   ],
   "source": [
    "with sns.plotting_context(\"talk\", font_scale=0.75), sns.axes_style(\n",
    "    \"whitegrid\", {\"grid.linestyle\": \"--\"}\n",
    "):\n",
    "    fig = plt.figure(figsize=(14, 6))\n",
    "    ax = sns.pointplot(data=parts_ari_df_plot, x=\"n_clusters\", y=\"ari\", hue=\"gamma\")\n",
    "    ax.set_ylabel(\"Averange ARI\")\n",
    "    ax.set_xlabel(\"Number of clusters ($k$)\")\n",
    "    ax.set_xticklabels(ax.get_xticklabels(), rotation=45)\n",
    "    plt.grid(True)\n",
    "    plt.tight_layout()"
   ]
  },
  {
   "cell_type": "markdown",
   "metadata": {
    "papermill": {
     "duration": 0.108547,
     "end_time": "2021-01-12T06:27:18.117288",
     "exception": false,
     "start_time": "2021-01-12T06:27:18.008741",
     "status": "completed"
    },
    "tags": []
   },
   "source": [
    "**CONCLUSION:** We choose `1e-10` as the `gamma` parameter for this data version."
   ]
  },
  {
   "cell_type": "code",
   "execution_count": null,
   "metadata": {
    "papermill": {
     "duration": 0.111346,
     "end_time": "2021-01-12T06:27:18.338341",
     "exception": false,
     "start_time": "2021-01-12T06:27:18.226995",
     "status": "completed"
    },
    "tags": []
   },
   "outputs": [],
   "source": []
  }
 ],
 "metadata": {
  "jupytext": {
   "cell_metadata_filter": "all,-execution,-papermill",
   "formats": "ipynb,py//py:percent"
  },
  "kernelspec": {
   "display_name": "Python 3",
   "language": "python",
   "name": "python3"
  },
  "language_info": {
   "codemirror_mode": {
    "name": "ipython",
    "version": 3
   },
   "file_extension": ".py",
   "mimetype": "text/x-python",
   "name": "python",
   "nbconvert_exporter": "python",
   "pygments_lexer": "ipython3",
   "version": "3.8.6"
  },
  "papermill": {
   "default_parameters": {},
   "duration": 1205.191339,
   "end_time": "2021-01-12T06:27:18.954542",
   "environment_variables": {},
   "exception": null,
   "input_path": "15_cluster_analysis/pre_analysis/05_02-spectral_clustering-pca.ipynb",
   "output_path": "15_cluster_analysis/pre_analysis/05_02-spectral_clustering-pca.run.ipynb",
   "parameters": {},
   "start_time": "2021-01-12T06:07:13.763203",
   "version": "2.2.2"
  },
  "toc-autonumbering": true,
  "toc-showcode": false,
  "toc-showmarkdowntxt": false,
  "toc-showtags": false
 },
 "nbformat": 4,
 "nbformat_minor": 4
}
