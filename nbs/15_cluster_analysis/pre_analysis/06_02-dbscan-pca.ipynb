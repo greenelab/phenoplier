{
 "cells": [
  {
   "cell_type": "markdown",
   "metadata": {
    "papermill": {
     "duration": 0.019781,
     "end_time": "2021-03-09T22:37:02.413017",
     "exception": false,
     "start_time": "2021-03-09T22:37:02.393236",
     "status": "completed"
    },
    "tags": []
   },
   "source": [
    "# Description"
   ]
  },
  {
   "cell_type": "markdown",
   "metadata": {
    "papermill": {
     "duration": 0.015113,
     "end_time": "2021-03-09T22:37:02.443466",
     "exception": false,
     "start_time": "2021-03-09T22:37:02.428353",
     "status": "completed"
    },
    "tags": []
   },
   "source": [
    "This notebook runs some pre-analyses using DBSCAN to explore the best set of parameters (`min_samples` and `eps`) to cluster `pca` data version."
   ]
  },
  {
   "cell_type": "markdown",
   "metadata": {
    "papermill": {
     "duration": 0.014971,
     "end_time": "2021-03-09T22:37:02.473455",
     "exception": false,
     "start_time": "2021-03-09T22:37:02.458484",
     "status": "completed"
    },
    "tags": []
   },
   "source": [
    "# Environment variables"
   ]
  },
  {
   "cell_type": "code",
   "execution_count": 1,
   "metadata": {
    "execution": {
     "iopub.execute_input": "2021-03-09T22:37:02.509272Z",
     "iopub.status.busy": "2021-03-09T22:37:02.508889Z",
     "iopub.status.idle": "2021-03-09T22:37:02.519616Z",
     "shell.execute_reply": "2021-03-09T22:37:02.519192Z"
    },
    "papermill": {
     "duration": 0.031235,
     "end_time": "2021-03-09T22:37:02.519708",
     "exception": false,
     "start_time": "2021-03-09T22:37:02.488473",
     "status": "completed"
    },
    "tags": []
   },
   "outputs": [
    {
     "data": {
      "text/plain": [
       "2"
      ]
     },
     "metadata": {},
     "output_type": "display_data"
    }
   ],
   "source": [
    "from IPython.display import display\n",
    "\n",
    "import conf\n",
    "\n",
    "N_JOBS = conf.GENERAL[\"N_JOBS\"]\n",
    "display(N_JOBS)"
   ]
  },
  {
   "cell_type": "code",
   "execution_count": 2,
   "metadata": {
    "execution": {
     "iopub.execute_input": "2021-03-09T22:37:02.557695Z",
     "iopub.status.busy": "2021-03-09T22:37:02.557147Z",
     "iopub.status.idle": "2021-03-09T22:37:02.559484Z",
     "shell.execute_reply": "2021-03-09T22:37:02.559782Z"
    },
    "papermill": {
     "duration": 0.023005,
     "end_time": "2021-03-09T22:37:02.559883",
     "exception": false,
     "start_time": "2021-03-09T22:37:02.536878",
     "status": "completed"
    },
    "tags": []
   },
   "outputs": [
    {
     "name": "stdout",
     "output_type": "stream",
     "text": [
      "env: MKL_NUM_THREADS=2\n",
      "env: OPEN_BLAS_NUM_THREADS=2\n",
      "env: NUMEXPR_NUM_THREADS=2\n",
      "env: OMP_NUM_THREADS=2\n"
     ]
    }
   ],
   "source": [
    "%env MKL_NUM_THREADS=$N_JOBS\n",
    "%env OPEN_BLAS_NUM_THREADS=$N_JOBS\n",
    "%env NUMEXPR_NUM_THREADS=$N_JOBS\n",
    "%env OMP_NUM_THREADS=$N_JOBS"
   ]
  },
  {
   "cell_type": "markdown",
   "metadata": {
    "papermill": {
     "duration": 0.015704,
     "end_time": "2021-03-09T22:37:02.592189",
     "exception": false,
     "start_time": "2021-03-09T22:37:02.576485",
     "status": "completed"
    },
    "tags": []
   },
   "source": [
    "# Modules loading"
   ]
  },
  {
   "cell_type": "code",
   "execution_count": 3,
   "metadata": {
    "execution": {
     "iopub.execute_input": "2021-03-09T22:37:02.626983Z",
     "iopub.status.busy": "2021-03-09T22:37:02.626613Z",
     "iopub.status.idle": "2021-03-09T22:37:02.633387Z",
     "shell.execute_reply": "2021-03-09T22:37:02.633675Z"
    },
    "papermill": {
     "duration": 0.025767,
     "end_time": "2021-03-09T22:37:02.633776",
     "exception": false,
     "start_time": "2021-03-09T22:37:02.608009",
     "status": "completed"
    },
    "tags": []
   },
   "outputs": [],
   "source": [
    "%load_ext autoreload\n",
    "%autoreload 2"
   ]
  },
  {
   "cell_type": "code",
   "execution_count": 4,
   "metadata": {
    "execution": {
     "iopub.execute_input": "2021-03-09T22:37:02.668527Z",
     "iopub.status.busy": "2021-03-09T22:37:02.668152Z",
     "iopub.status.idle": "2021-03-09T22:37:03.373815Z",
     "shell.execute_reply": "2021-03-09T22:37:03.373494Z"
    },
    "papermill": {
     "duration": 0.724131,
     "end_time": "2021-03-09T22:37:03.373900",
     "exception": false,
     "start_time": "2021-03-09T22:37:02.649769",
     "status": "completed"
    },
    "tags": []
   },
   "outputs": [],
   "source": [
    "from pathlib import Path\n",
    "\n",
    "import numpy as np\n",
    "import pandas as pd\n",
    "from sklearn.neighbors import NearestNeighbors\n",
    "from sklearn.metrics import pairwise_distances\n",
    "from sklearn.cluster import DBSCAN\n",
    "from sklearn.metrics import (\n",
    "    silhouette_score,\n",
    "    calinski_harabasz_score,\n",
    "    davies_bouldin_score,\n",
    ")\n",
    "import matplotlib.pyplot as plt\n",
    "import seaborn as sns\n",
    "\n",
    "from utils import generate_result_set_name\n",
    "from clustering.ensembles.utils import generate_ensemble"
   ]
  },
  {
   "cell_type": "markdown",
   "metadata": {
    "papermill": {
     "duration": 0.015829,
     "end_time": "2021-03-09T22:37:03.405891",
     "exception": false,
     "start_time": "2021-03-09T22:37:03.390062",
     "status": "completed"
    },
    "tags": []
   },
   "source": [
    "# Global settings"
   ]
  },
  {
   "cell_type": "code",
   "execution_count": 5,
   "metadata": {
    "execution": {
     "iopub.execute_input": "2021-03-09T22:37:03.441633Z",
     "iopub.status.busy": "2021-03-09T22:37:03.441276Z",
     "iopub.status.idle": "2021-03-09T22:37:03.451939Z",
     "shell.execute_reply": "2021-03-09T22:37:03.451551Z"
    },
    "papermill": {
     "duration": 0.029835,
     "end_time": "2021-03-09T22:37:03.452022",
     "exception": false,
     "start_time": "2021-03-09T22:37:03.422187",
     "status": "completed"
    },
    "tags": []
   },
   "outputs": [],
   "source": [
    "np.random.seed(0)"
   ]
  },
  {
   "cell_type": "code",
   "execution_count": 6,
   "metadata": {
    "execution": {
     "iopub.execute_input": "2021-03-09T22:37:03.487477Z",
     "iopub.status.busy": "2021-03-09T22:37:03.487121Z",
     "iopub.status.idle": "2021-03-09T22:37:03.497359Z",
     "shell.execute_reply": "2021-03-09T22:37:03.496984Z"
    },
    "papermill": {
     "duration": 0.028787,
     "end_time": "2021-03-09T22:37:03.497444",
     "exception": false,
     "start_time": "2021-03-09T22:37:03.468657",
     "status": "completed"
    },
    "tags": []
   },
   "outputs": [],
   "source": [
    "CLUSTERING_ATTRIBUTES_TO_SAVE = [\"n_clusters\"]"
   ]
  },
  {
   "cell_type": "markdown",
   "metadata": {
    "papermill": {
     "duration": 0.016576,
     "end_time": "2021-03-09T22:37:03.530897",
     "exception": false,
     "start_time": "2021-03-09T22:37:03.514321",
     "status": "completed"
    },
    "tags": []
   },
   "source": [
    "# Data version: pca"
   ]
  },
  {
   "cell_type": "code",
   "execution_count": 7,
   "metadata": {
    "execution": {
     "iopub.execute_input": "2021-03-09T22:37:03.566344Z",
     "iopub.status.busy": "2021-03-09T22:37:03.565987Z",
     "iopub.status.idle": "2021-03-09T22:37:03.576097Z",
     "shell.execute_reply": "2021-03-09T22:37:03.575787Z"
    },
    "papermill": {
     "duration": 0.029095,
     "end_time": "2021-03-09T22:37:03.576180",
     "exception": false,
     "start_time": "2021-03-09T22:37:03.547085",
     "status": "completed"
    },
    "tags": []
   },
   "outputs": [],
   "source": [
    "INPUT_SUBSET = \"pca\""
   ]
  },
  {
   "cell_type": "code",
   "execution_count": 8,
   "metadata": {
    "execution": {
     "iopub.execute_input": "2021-03-09T22:37:03.611610Z",
     "iopub.status.busy": "2021-03-09T22:37:03.611256Z",
     "iopub.status.idle": "2021-03-09T22:37:03.621116Z",
     "shell.execute_reply": "2021-03-09T22:37:03.621408Z"
    },
    "papermill": {
     "duration": 0.028881,
     "end_time": "2021-03-09T22:37:03.621512",
     "exception": false,
     "start_time": "2021-03-09T22:37:03.592631",
     "status": "completed"
    },
    "tags": []
   },
   "outputs": [],
   "source": [
    "INPUT_STEM = \"z_score_std-projection-smultixcan-efo_partial-mashr-zscores\""
   ]
  },
  {
   "cell_type": "code",
   "execution_count": 9,
   "metadata": {
    "execution": {
     "iopub.execute_input": "2021-03-09T22:37:03.657875Z",
     "iopub.status.busy": "2021-03-09T22:37:03.657509Z",
     "iopub.status.idle": "2021-03-09T22:37:03.667676Z",
     "shell.execute_reply": "2021-03-09T22:37:03.667376Z"
    },
    "papermill": {
     "duration": 0.029385,
     "end_time": "2021-03-09T22:37:03.667762",
     "exception": false,
     "start_time": "2021-03-09T22:37:03.638377",
     "status": "completed"
    },
    "tags": []
   },
   "outputs": [],
   "source": [
    "DR_OPTIONS = {\n",
    "    \"n_components\": 50,\n",
    "    \"svd_solver\": \"full\",\n",
    "    \"random_state\": 0,\n",
    "}"
   ]
  },
  {
   "cell_type": "code",
   "execution_count": 10,
   "metadata": {
    "execution": {
     "iopub.execute_input": "2021-03-09T22:37:03.704725Z",
     "iopub.status.busy": "2021-03-09T22:37:03.704316Z",
     "iopub.status.idle": "2021-03-09T22:37:03.716638Z",
     "shell.execute_reply": "2021-03-09T22:37:03.716269Z"
    },
    "papermill": {
     "duration": 0.031903,
     "end_time": "2021-03-09T22:37:03.716759",
     "exception": false,
     "start_time": "2021-03-09T22:37:03.684856",
     "status": "completed"
    },
    "tags": []
   },
   "outputs": [
    {
     "data": {
      "text/plain": [
       "PosixPath('/home/miltondp/projects/labs/greenelab/phenoplier/base/results/data_transformations/pca/pca-z_score_std-projection-smultixcan-efo_partial-mashr-zscores-n_components_50-random_state_0-svd_solver_full.pkl')"
      ]
     },
     "metadata": {},
     "output_type": "display_data"
    },
    {
     "data": {
      "text/plain": [
       "'pca-z_score_std-projection-smultixcan-efo_partial-mashr-zscores-n_components_50-random_state_0-svd_solver_full'"
      ]
     },
     "metadata": {},
     "output_type": "display_data"
    }
   ],
   "source": [
    "input_filepath = Path(\n",
    "    conf.RESULTS[\"DATA_TRANSFORMATIONS_DIR\"],\n",
    "    INPUT_SUBSET,\n",
    "    generate_result_set_name(\n",
    "        DR_OPTIONS, prefix=f\"{INPUT_SUBSET}-{INPUT_STEM}-\", suffix=\".pkl\"\n",
    "    ),\n",
    ").resolve()\n",
    "display(input_filepath)\n",
    "\n",
    "assert input_filepath.exists(), \"Input file does not exist\"\n",
    "\n",
    "input_filepath_stem = input_filepath.stem\n",
    "display(input_filepath_stem)"
   ]
  },
  {
   "cell_type": "code",
   "execution_count": 11,
   "metadata": {
    "execution": {
     "iopub.execute_input": "2021-03-09T22:37:03.753476Z",
     "iopub.status.busy": "2021-03-09T22:37:03.753121Z",
     "iopub.status.idle": "2021-03-09T22:37:03.765182Z",
     "shell.execute_reply": "2021-03-09T22:37:03.764851Z"
    },
    "papermill": {
     "duration": 0.031062,
     "end_time": "2021-03-09T22:37:03.765271",
     "exception": false,
     "start_time": "2021-03-09T22:37:03.734209",
     "status": "completed"
    },
    "tags": []
   },
   "outputs": [],
   "source": [
    "data = pd.read_pickle(input_filepath)"
   ]
  },
  {
   "cell_type": "code",
   "execution_count": 12,
   "metadata": {
    "execution": {
     "iopub.execute_input": "2021-03-09T22:37:03.803036Z",
     "iopub.status.busy": "2021-03-09T22:37:03.802668Z",
     "iopub.status.idle": "2021-03-09T22:37:03.813766Z",
     "shell.execute_reply": "2021-03-09T22:37:03.813427Z"
    },
    "papermill": {
     "duration": 0.030736,
     "end_time": "2021-03-09T22:37:03.813849",
     "exception": false,
     "start_time": "2021-03-09T22:37:03.783113",
     "status": "completed"
    },
    "tags": []
   },
   "outputs": [
    {
     "data": {
      "text/plain": [
       "(3752, 50)"
      ]
     },
     "execution_count": 12,
     "metadata": {},
     "output_type": "execute_result"
    }
   ],
   "source": [
    "data.shape"
   ]
  },
  {
   "cell_type": "code",
   "execution_count": 13,
   "metadata": {
    "execution": {
     "iopub.execute_input": "2021-03-09T22:37:03.851207Z",
     "iopub.status.busy": "2021-03-09T22:37:03.850856Z",
     "iopub.status.idle": "2021-03-09T22:37:03.873449Z",
     "shell.execute_reply": "2021-03-09T22:37:03.873077Z"
    },
    "papermill": {
     "duration": 0.041744,
     "end_time": "2021-03-09T22:37:03.873534",
     "exception": false,
     "start_time": "2021-03-09T22:37:03.831790",
     "status": "completed"
    },
    "tags": []
   },
   "outputs": [
    {
     "data": {
      "text/html": [
       "<div>\n",
       "<style scoped>\n",
       "    .dataframe tbody tr th:only-of-type {\n",
       "        vertical-align: middle;\n",
       "    }\n",
       "\n",
       "    .dataframe tbody tr th {\n",
       "        vertical-align: top;\n",
       "    }\n",
       "\n",
       "    .dataframe thead th {\n",
       "        text-align: right;\n",
       "    }\n",
       "</style>\n",
       "<table border=\"1\" class=\"dataframe\">\n",
       "  <thead>\n",
       "    <tr style=\"text-align: right;\">\n",
       "      <th></th>\n",
       "      <th>PCA1</th>\n",
       "      <th>PCA2</th>\n",
       "      <th>PCA3</th>\n",
       "      <th>PCA4</th>\n",
       "      <th>PCA5</th>\n",
       "      <th>PCA6</th>\n",
       "      <th>PCA7</th>\n",
       "      <th>PCA8</th>\n",
       "      <th>PCA9</th>\n",
       "      <th>PCA10</th>\n",
       "      <th>...</th>\n",
       "      <th>PCA41</th>\n",
       "      <th>PCA42</th>\n",
       "      <th>PCA43</th>\n",
       "      <th>PCA44</th>\n",
       "      <th>PCA45</th>\n",
       "      <th>PCA46</th>\n",
       "      <th>PCA47</th>\n",
       "      <th>PCA48</th>\n",
       "      <th>PCA49</th>\n",
       "      <th>PCA50</th>\n",
       "    </tr>\n",
       "  </thead>\n",
       "  <tbody>\n",
       "    <tr>\n",
       "      <th>100001_raw-Food_weight</th>\n",
       "      <td>0.805216</td>\n",
       "      <td>-0.865390</td>\n",
       "      <td>0.699480</td>\n",
       "      <td>-0.065976</td>\n",
       "      <td>0.999617</td>\n",
       "      <td>-0.418645</td>\n",
       "      <td>1.993288</td>\n",
       "      <td>-0.346875</td>\n",
       "      <td>-1.522978</td>\n",
       "      <td>-2.382791</td>\n",
       "      <td>...</td>\n",
       "      <td>0.777932</td>\n",
       "      <td>0.507896</td>\n",
       "      <td>0.693668</td>\n",
       "      <td>1.024260</td>\n",
       "      <td>0.189606</td>\n",
       "      <td>-1.661826</td>\n",
       "      <td>0.281234</td>\n",
       "      <td>-0.096792</td>\n",
       "      <td>-0.339508</td>\n",
       "      <td>0.041431</td>\n",
       "    </tr>\n",
       "    <tr>\n",
       "      <th>100002_raw-Energy</th>\n",
       "      <td>0.588507</td>\n",
       "      <td>-1.491772</td>\n",
       "      <td>1.756340</td>\n",
       "      <td>-3.593295</td>\n",
       "      <td>2.100607</td>\n",
       "      <td>0.364910</td>\n",
       "      <td>1.254815</td>\n",
       "      <td>2.028484</td>\n",
       "      <td>-0.357607</td>\n",
       "      <td>-4.832726</td>\n",
       "      <td>...</td>\n",
       "      <td>-0.780215</td>\n",
       "      <td>-2.285033</td>\n",
       "      <td>-0.607663</td>\n",
       "      <td>-2.727018</td>\n",
       "      <td>1.711667</td>\n",
       "      <td>-0.535025</td>\n",
       "      <td>2.342068</td>\n",
       "      <td>0.197519</td>\n",
       "      <td>1.636996</td>\n",
       "      <td>-1.114410</td>\n",
       "    </tr>\n",
       "    <tr>\n",
       "      <th>100003_raw-Protein</th>\n",
       "      <td>1.910160</td>\n",
       "      <td>-1.873687</td>\n",
       "      <td>1.876677</td>\n",
       "      <td>-3.832557</td>\n",
       "      <td>1.240704</td>\n",
       "      <td>2.941375</td>\n",
       "      <td>2.293978</td>\n",
       "      <td>0.802473</td>\n",
       "      <td>0.665380</td>\n",
       "      <td>-4.375319</td>\n",
       "      <td>...</td>\n",
       "      <td>-0.547161</td>\n",
       "      <td>0.514721</td>\n",
       "      <td>0.034145</td>\n",
       "      <td>-0.423218</td>\n",
       "      <td>-0.324825</td>\n",
       "      <td>-0.000958</td>\n",
       "      <td>0.294579</td>\n",
       "      <td>1.186937</td>\n",
       "      <td>0.226722</td>\n",
       "      <td>0.169931</td>\n",
       "    </tr>\n",
       "    <tr>\n",
       "      <th>100004_raw-Fat</th>\n",
       "      <td>0.750799</td>\n",
       "      <td>-0.294733</td>\n",
       "      <td>1.317710</td>\n",
       "      <td>-1.346081</td>\n",
       "      <td>2.006403</td>\n",
       "      <td>0.533509</td>\n",
       "      <td>-0.752916</td>\n",
       "      <td>0.937515</td>\n",
       "      <td>-0.572191</td>\n",
       "      <td>-2.451612</td>\n",
       "      <td>...</td>\n",
       "      <td>0.060359</td>\n",
       "      <td>-0.878309</td>\n",
       "      <td>-0.774943</td>\n",
       "      <td>-1.914890</td>\n",
       "      <td>2.559763</td>\n",
       "      <td>1.547267</td>\n",
       "      <td>1.851110</td>\n",
       "      <td>-0.310431</td>\n",
       "      <td>3.495624</td>\n",
       "      <td>-1.595785</td>\n",
       "    </tr>\n",
       "    <tr>\n",
       "      <th>100005_raw-Carbohydrate</th>\n",
       "      <td>-0.530044</td>\n",
       "      <td>-0.007398</td>\n",
       "      <td>0.611418</td>\n",
       "      <td>-3.604094</td>\n",
       "      <td>2.227872</td>\n",
       "      <td>0.051271</td>\n",
       "      <td>0.001135</td>\n",
       "      <td>2.303819</td>\n",
       "      <td>-0.387759</td>\n",
       "      <td>-5.686184</td>\n",
       "      <td>...</td>\n",
       "      <td>-1.110273</td>\n",
       "      <td>-3.032541</td>\n",
       "      <td>-1.223873</td>\n",
       "      <td>-0.945626</td>\n",
       "      <td>2.150276</td>\n",
       "      <td>-1.798716</td>\n",
       "      <td>2.526678</td>\n",
       "      <td>0.716987</td>\n",
       "      <td>0.300972</td>\n",
       "      <td>-0.893854</td>\n",
       "    </tr>\n",
       "  </tbody>\n",
       "</table>\n",
       "<p>5 rows × 50 columns</p>\n",
       "</div>"
      ],
      "text/plain": [
       "                             PCA1      PCA2      PCA3      PCA4      PCA5  \\\n",
       "100001_raw-Food_weight   0.805216 -0.865390  0.699480 -0.065976  0.999617   \n",
       "100002_raw-Energy        0.588507 -1.491772  1.756340 -3.593295  2.100607   \n",
       "100003_raw-Protein       1.910160 -1.873687  1.876677 -3.832557  1.240704   \n",
       "100004_raw-Fat           0.750799 -0.294733  1.317710 -1.346081  2.006403   \n",
       "100005_raw-Carbohydrate -0.530044 -0.007398  0.611418 -3.604094  2.227872   \n",
       "\n",
       "                             PCA6      PCA7      PCA8      PCA9     PCA10  \\\n",
       "100001_raw-Food_weight  -0.418645  1.993288 -0.346875 -1.522978 -2.382791   \n",
       "100002_raw-Energy        0.364910  1.254815  2.028484 -0.357607 -4.832726   \n",
       "100003_raw-Protein       2.941375  2.293978  0.802473  0.665380 -4.375319   \n",
       "100004_raw-Fat           0.533509 -0.752916  0.937515 -0.572191 -2.451612   \n",
       "100005_raw-Carbohydrate  0.051271  0.001135  2.303819 -0.387759 -5.686184   \n",
       "\n",
       "                         ...     PCA41     PCA42     PCA43     PCA44  \\\n",
       "100001_raw-Food_weight   ...  0.777932  0.507896  0.693668  1.024260   \n",
       "100002_raw-Energy        ... -0.780215 -2.285033 -0.607663 -2.727018   \n",
       "100003_raw-Protein       ... -0.547161  0.514721  0.034145 -0.423218   \n",
       "100004_raw-Fat           ...  0.060359 -0.878309 -0.774943 -1.914890   \n",
       "100005_raw-Carbohydrate  ... -1.110273 -3.032541 -1.223873 -0.945626   \n",
       "\n",
       "                            PCA45     PCA46     PCA47     PCA48     PCA49  \\\n",
       "100001_raw-Food_weight   0.189606 -1.661826  0.281234 -0.096792 -0.339508   \n",
       "100002_raw-Energy        1.711667 -0.535025  2.342068  0.197519  1.636996   \n",
       "100003_raw-Protein      -0.324825 -0.000958  0.294579  1.186937  0.226722   \n",
       "100004_raw-Fat           2.559763  1.547267  1.851110 -0.310431  3.495624   \n",
       "100005_raw-Carbohydrate  2.150276 -1.798716  2.526678  0.716987  0.300972   \n",
       "\n",
       "                            PCA50  \n",
       "100001_raw-Food_weight   0.041431  \n",
       "100002_raw-Energy       -1.114410  \n",
       "100003_raw-Protein       0.169931  \n",
       "100004_raw-Fat          -1.595785  \n",
       "100005_raw-Carbohydrate -0.893854  \n",
       "\n",
       "[5 rows x 50 columns]"
      ]
     },
     "execution_count": 13,
     "metadata": {},
     "output_type": "execute_result"
    }
   ],
   "source": [
    "data.head()"
   ]
  },
  {
   "cell_type": "markdown",
   "metadata": {
    "papermill": {
     "duration": 0.01785,
     "end_time": "2021-03-09T22:37:03.909749",
     "exception": false,
     "start_time": "2021-03-09T22:37:03.891899",
     "status": "completed"
    },
    "tags": []
   },
   "source": [
    "## Tests different k values (k-NN)"
   ]
  },
  {
   "cell_type": "code",
   "execution_count": 14,
   "metadata": {
    "execution": {
     "iopub.execute_input": "2021-03-09T22:37:03.947517Z",
     "iopub.status.busy": "2021-03-09T22:37:03.947153Z",
     "iopub.status.idle": "2021-03-09T22:37:03.957455Z",
     "shell.execute_reply": "2021-03-09T22:37:03.957088Z"
    },
    "papermill": {
     "duration": 0.03046,
     "end_time": "2021-03-09T22:37:03.957539",
     "exception": false,
     "start_time": "2021-03-09T22:37:03.927079",
     "status": "completed"
    },
    "tags": []
   },
   "outputs": [],
   "source": [
    "# `k_values` is the full range of k for kNN, whereas `k_values_to_explore` is a\n",
    "# subset that will be explored in this notebook. If the analysis works, then\n",
    "# `k_values` and `eps_range_per_k` below are copied to the notebook that will\n",
    "# produce the final DBSCAN runs (`../002_[...]-dbscan-....ipynb`)\n",
    "k_values = np.arange(2, 125 + 1, 1)\n",
    "k_values_to_explore = (2, 5, 10, 15, 20, 30, 40, 50, 75, 100, 125)"
   ]
  },
  {
   "cell_type": "code",
   "execution_count": 15,
   "metadata": {
    "execution": {
     "iopub.execute_input": "2021-03-09T22:37:03.996520Z",
     "iopub.status.busy": "2021-03-09T22:37:03.996159Z",
     "iopub.status.idle": "2021-03-09T22:37:11.044600Z",
     "shell.execute_reply": "2021-03-09T22:37:11.044270Z"
    },
    "papermill": {
     "duration": 7.068989,
     "end_time": "2021-03-09T22:37:11.044687",
     "exception": false,
     "start_time": "2021-03-09T22:37:03.975698",
     "status": "completed"
    },
    "tags": []
   },
   "outputs": [],
   "source": [
    "results = {}\n",
    "\n",
    "for k in k_values_to_explore:\n",
    "    nbrs = NearestNeighbors(n_neighbors=k, n_jobs=N_JOBS).fit(data)\n",
    "    distances, indices = nbrs.kneighbors(data)\n",
    "    results[k] = (distances, indices)"
   ]
  },
  {
   "cell_type": "code",
   "execution_count": 16,
   "metadata": {
    "execution": {
     "iopub.execute_input": "2021-03-09T22:37:11.083316Z",
     "iopub.status.busy": "2021-03-09T22:37:11.082951Z",
     "iopub.status.idle": "2021-03-09T22:37:11.093490Z",
     "shell.execute_reply": "2021-03-09T22:37:11.093124Z"
    },
    "papermill": {
     "duration": 0.030859,
     "end_time": "2021-03-09T22:37:11.093574",
     "exception": false,
     "start_time": "2021-03-09T22:37:11.062715",
     "status": "completed"
    },
    "tags": []
   },
   "outputs": [],
   "source": [
    "eps_range_per_k = {\n",
    "    k: (10, 20)\n",
    "    if k < 5\n",
    "    else (11, 25)\n",
    "    if k < 10\n",
    "    else (12, 30)\n",
    "    if k < 15\n",
    "    else (13, 35)\n",
    "    if k < 20\n",
    "    else (14, 40)\n",
    "    for k in k_values\n",
    "}\n",
    "\n",
    "eps_range_per_k_to_explore = {k: eps_range_per_k[k] for k in k_values_to_explore}"
   ]
  },
  {
   "cell_type": "code",
   "execution_count": 17,
   "metadata": {
    "execution": {
     "iopub.execute_input": "2021-03-09T22:37:11.132738Z",
     "iopub.status.busy": "2021-03-09T22:37:11.132340Z",
     "iopub.status.idle": "2021-03-09T22:37:12.123907Z",
     "shell.execute_reply": "2021-03-09T22:37:12.123538Z"
    },
    "papermill": {
     "duration": 1.012324,
     "end_time": "2021-03-09T22:37:12.123991",
     "exception": false,
     "start_time": "2021-03-09T22:37:11.111667",
     "status": "completed"
    },
    "tags": []
   },
   "outputs": [
    {
     "data": {
      "image/png": "[encoded data removed]",
      "text/plain": [
       "<Figure size 432x288 with 1 Axes>"
      ]
     },
     "metadata": {},
     "output_type": "display_data"
    },
    {
     "data": {
      "image/png": "[encoded data removed]",
      "text/plain": [
       "<Figure size 432x288 with 1 Axes>"
      ]
     },
     "metadata": {},
     "output_type": "display_data"
    },
    {
     "data": {
      "image/png": "[encoded data removed]",
      "text/plain": [
       "<Figure size 432x288 with 1 Axes>"
      ]
     },
     "metadata": {},
     "output_type": "display_data"
    },
    {
     "data": {
      "image/png": "[encoded data removed]",
      "text/plain": [
       "<Figure size 432x288 with 1 Axes>"
      ]
     },
     "metadata": {},
     "output_type": "display_data"
    },
    {
     "data": {
      "image/png": "[encoded data removed]",
      "text/plain": [
       "<Figure size 432x288 with 1 Axes>"
      ]
     },
     "metadata": {},
     "output_type": "display_data"
    },
    {
     "data": {
      "image/png": "[encoded data removed]",
      "text/plain": [
       "<Figure size 432x288 with 1 Axes>"
      ]
     },
     "metadata": {},
     "output_type": "display_data"
    },
    {
     "data": {
      "image/png": "[encoded data removed]",
      "text/plain": [
       "<Figure size 432x288 with 1 Axes>"
      ]
     },
     "metadata": {},
     "output_type": "display_data"
    },
    {
     "data": {
      "image/png": "[encoded data removed]",
      "text/plain": [
       "<Figure size 432x288 with 1 Axes>"
      ]
     },
     "metadata": {},
     "output_type": "display_data"
    },
    {
     "data": {
      "image/png": "[encoded data removed]",
      "text/plain": [
       "<Figure size 432x288 with 1 Axes>"
      ]
     },
     "metadata": {},
     "output_type": "display_data"
    },
    {
     "data": {
      "image/png": "[encoded data removed]",
      "text/plain": [
       "<Figure size 432x288 with 1 Axes>"
      ]
     },
     "metadata": {},
     "output_type": "display_data"
    },
    {
     "data": {
      "image/png": "[encoded data removed]",
      "text/plain": [
       "<Figure size 432x288 with 1 Axes>"
      ]
     },
     "metadata": {},
     "output_type": "display_data"
    }
   ],
   "source": [
    "for k, (distances, indices) in results.items():\n",
    "    d = distances[:, 1:].mean(axis=1)\n",
    "    d = np.sort(d)\n",
    "\n",
    "    fig, ax = plt.subplots()\n",
    "    plt.plot(d)\n",
    "\n",
    "    r = eps_range_per_k_to_explore[k]\n",
    "    plt.hlines(r[0], 0, data.shape[0], color=\"red\")\n",
    "    plt.hlines(r[1], 0, data.shape[0], color=\"red\")\n",
    "\n",
    "    plt.xlim((3000, data.shape[0]))\n",
    "    plt.title(f\"k={k}\")\n",
    "    display(fig)\n",
    "\n",
    "    plt.close(fig)"
   ]
  },
  {
   "cell_type": "markdown",
   "metadata": {
    "papermill": {
     "duration": 0.022066,
     "end_time": "2021-03-09T22:37:12.169127",
     "exception": false,
     "start_time": "2021-03-09T22:37:12.147061",
     "status": "completed"
    },
    "tags": []
   },
   "source": [
    "# Extended test"
   ]
  },
  {
   "cell_type": "markdown",
   "metadata": {
    "papermill": {
     "duration": 0.022121,
     "end_time": "2021-03-09T22:37:12.213444",
     "exception": false,
     "start_time": "2021-03-09T22:37:12.191323",
     "status": "completed"
    },
    "tags": []
   },
   "source": [
    "## Generate clusterers"
   ]
  },
  {
   "cell_type": "code",
   "execution_count": 18,
   "metadata": {
    "execution": {
     "iopub.execute_input": "2021-03-09T22:37:12.260762Z",
     "iopub.status.busy": "2021-03-09T22:37:12.260344Z",
     "iopub.status.idle": "2021-03-09T22:37:12.273511Z",
     "shell.execute_reply": "2021-03-09T22:37:12.273176Z"
    },
    "papermill": {
     "duration": 0.037839,
     "end_time": "2021-03-09T22:37:12.273600",
     "exception": false,
     "start_time": "2021-03-09T22:37:12.235761",
     "status": "completed"
    },
    "tags": []
   },
   "outputs": [
    {
     "data": {
      "text/plain": [
       "{'K_RANGE': (2, 5, 10, 15, 20, 30, 40, 50, 75, 100, 125),\n",
       " 'EPS_RANGE_PER_K': {2: (10, 20),\n",
       "  5: (11, 25),\n",
       "  10: (12, 30),\n",
       "  15: (13, 35),\n",
       "  20: (14, 40),\n",
       "  30: (14, 40),\n",
       "  40: (14, 40),\n",
       "  50: (14, 40),\n",
       "  75: (14, 40),\n",
       "  100: (14, 40),\n",
       "  125: (14, 40)},\n",
       " 'EPS_STEP': 33,\n",
       " 'METRIC': 'euclidean'}"
      ]
     },
     "metadata": {},
     "output_type": "display_data"
    }
   ],
   "source": [
    "CLUSTERING_OPTIONS = {}\n",
    "\n",
    "# K_RANGE is the min_samples parameter in DBSCAN (sklearn)\n",
    "CLUSTERING_OPTIONS[\"K_RANGE\"] = k_values_to_explore\n",
    "CLUSTERING_OPTIONS[\"EPS_RANGE_PER_K\"] = eps_range_per_k_to_explore\n",
    "CLUSTERING_OPTIONS[\"EPS_STEP\"] = 33\n",
    "CLUSTERING_OPTIONS[\"METRIC\"] = \"euclidean\"\n",
    "\n",
    "display(CLUSTERING_OPTIONS)"
   ]
  },
  {
   "cell_type": "code",
   "execution_count": 19,
   "metadata": {
    "execution": {
     "iopub.execute_input": "2021-03-09T22:37:12.323942Z",
     "iopub.status.busy": "2021-03-09T22:37:12.323577Z",
     "iopub.status.idle": "2021-03-09T22:37:12.335626Z",
     "shell.execute_reply": "2021-03-09T22:37:12.335253Z"
    },
    "papermill": {
     "duration": 0.038163,
     "end_time": "2021-03-09T22:37:12.335712",
     "exception": false,
     "start_time": "2021-03-09T22:37:12.297549",
     "status": "completed"
    },
    "tags": []
   },
   "outputs": [],
   "source": [
    "CLUSTERERS = {}\n",
    "\n",
    "idx = 0\n",
    "\n",
    "for k in CLUSTERING_OPTIONS[\"K_RANGE\"]:\n",
    "    eps_range = CLUSTERING_OPTIONS[\"EPS_RANGE_PER_K\"][k]\n",
    "    eps_values = np.linspace(eps_range[0], eps_range[1], CLUSTERING_OPTIONS[\"EPS_STEP\"])\n",
    "\n",
    "    for eps in eps_values:\n",
    "        clus = DBSCAN(min_samples=k, eps=eps, metric=\"precomputed\", n_jobs=N_JOBS)\n",
    "\n",
    "        method_name = type(clus).__name__\n",
    "        CLUSTERERS[f\"{method_name} #{idx}\"] = clus\n",
    "\n",
    "        idx = idx + 1"
   ]
  },
  {
   "cell_type": "code",
   "execution_count": 20,
   "metadata": {
    "execution": {
     "iopub.execute_input": "2021-03-09T22:37:12.385333Z",
     "iopub.status.busy": "2021-03-09T22:37:12.384977Z",
     "iopub.status.idle": "2021-03-09T22:37:12.396459Z",
     "shell.execute_reply": "2021-03-09T22:37:12.396071Z"
    },
    "papermill": {
     "duration": 0.037016,
     "end_time": "2021-03-09T22:37:12.396544",
     "exception": false,
     "start_time": "2021-03-09T22:37:12.359528",
     "status": "completed"
    },
    "tags": []
   },
   "outputs": [
    {
     "data": {
      "text/plain": [
       "363"
      ]
     },
     "metadata": {},
     "output_type": "display_data"
    }
   ],
   "source": [
    "display(len(CLUSTERERS))"
   ]
  },
  {
   "cell_type": "code",
   "execution_count": 21,
   "metadata": {
    "execution": {
     "iopub.execute_input": "2021-03-09T22:37:12.446085Z",
     "iopub.status.busy": "2021-03-09T22:37:12.445718Z",
     "iopub.status.idle": "2021-03-09T22:37:12.458871Z",
     "shell.execute_reply": "2021-03-09T22:37:12.458533Z"
    },
    "papermill": {
     "duration": 0.038492,
     "end_time": "2021-03-09T22:37:12.458956",
     "exception": false,
     "start_time": "2021-03-09T22:37:12.420464",
     "status": "completed"
    },
    "tags": []
   },
   "outputs": [
    {
     "data": {
      "text/plain": [
       "('DBSCAN #0', DBSCAN(eps=10.0, metric='precomputed', min_samples=2, n_jobs=2))"
      ]
     },
     "metadata": {},
     "output_type": "display_data"
    },
    {
     "data": {
      "text/plain": [
       "('DBSCAN #1',\n",
       " DBSCAN(eps=10.3125, metric='precomputed', min_samples=2, n_jobs=2))"
      ]
     },
     "metadata": {},
     "output_type": "display_data"
    }
   ],
   "source": [
    "_iter = iter(CLUSTERERS.items())\n",
    "display(next(_iter))\n",
    "display(next(_iter))"
   ]
  },
  {
   "cell_type": "code",
   "execution_count": 22,
   "metadata": {
    "execution": {
     "iopub.execute_input": "2021-03-09T22:37:12.508982Z",
     "iopub.status.busy": "2021-03-09T22:37:12.508572Z",
     "iopub.status.idle": "2021-03-09T22:37:12.519985Z",
     "shell.execute_reply": "2021-03-09T22:37:12.519636Z"
    },
    "papermill": {
     "duration": 0.037012,
     "end_time": "2021-03-09T22:37:12.520066",
     "exception": false,
     "start_time": "2021-03-09T22:37:12.483054",
     "status": "completed"
    },
    "tags": []
   },
   "outputs": [
    {
     "data": {
      "text/plain": [
       "'DBSCAN'"
      ]
     },
     "metadata": {},
     "output_type": "display_data"
    }
   ],
   "source": [
    "clustering_method_name = method_name\n",
    "display(clustering_method_name)"
   ]
  },
  {
   "cell_type": "markdown",
   "metadata": {
    "papermill": {
     "duration": 0.023756,
     "end_time": "2021-03-09T22:37:12.567237",
     "exception": false,
     "start_time": "2021-03-09T22:37:12.543481",
     "status": "completed"
    },
    "tags": []
   },
   "source": [
    "## Generate ensemble"
   ]
  },
  {
   "cell_type": "code",
   "execution_count": 23,
   "metadata": {
    "execution": {
     "iopub.execute_input": "2021-03-09T22:37:12.617067Z",
     "iopub.status.busy": "2021-03-09T22:37:12.616685Z",
     "iopub.status.idle": "2021-03-09T22:37:12.734303Z",
     "shell.execute_reply": "2021-03-09T22:37:12.733975Z"
    },
    "papermill": {
     "duration": 0.143717,
     "end_time": "2021-03-09T22:37:12.734390",
     "exception": false,
     "start_time": "2021-03-09T22:37:12.590673",
     "status": "completed"
    },
    "tags": []
   },
   "outputs": [],
   "source": [
    "data_dist = pairwise_distances(data, metric=CLUSTERING_OPTIONS[\"METRIC\"])"
   ]
  },
  {
   "cell_type": "code",
   "execution_count": 24,
   "metadata": {
    "execution": {
     "iopub.execute_input": "2021-03-09T22:37:12.784286Z",
     "iopub.status.busy": "2021-03-09T22:37:12.783931Z",
     "iopub.status.idle": "2021-03-09T22:37:12.795881Z",
     "shell.execute_reply": "2021-03-09T22:37:12.795521Z"
    },
    "papermill": {
     "duration": 0.037715,
     "end_time": "2021-03-09T22:37:12.795965",
     "exception": false,
     "start_time": "2021-03-09T22:37:12.758250",
     "status": "completed"
    },
    "tags": []
   },
   "outputs": [
    {
     "data": {
      "text/plain": [
       "(3752, 3752)"
      ]
     },
     "execution_count": 24,
     "metadata": {},
     "output_type": "execute_result"
    }
   ],
   "source": [
    "data_dist.shape"
   ]
  },
  {
   "cell_type": "code",
   "execution_count": 25,
   "metadata": {
    "execution": {
     "iopub.execute_input": "2021-03-09T22:37:12.846859Z",
     "iopub.status.busy": "2021-03-09T22:37:12.846489Z",
     "iopub.status.idle": "2021-03-09T22:37:13.429840Z",
     "shell.execute_reply": "2021-03-09T22:37:13.430146Z"
    },
    "papermill": {
     "duration": 0.610225,
     "end_time": "2021-03-09T22:37:13.430261",
     "exception": false,
     "start_time": "2021-03-09T22:37:12.820036",
     "status": "completed"
    },
    "tags": []
   },
   "outputs": [
    {
     "data": {
      "text/plain": [
       "count            14077504.0\n",
       "mean     17.024782042246752\n",
       "std       6.762137212106086\n",
       "min                     0.0\n",
       "25%      13.389339109103538\n",
       "50%      15.000767361972102\n",
       "75%       17.54736953003761\n",
       "max       74.26751471437031\n",
       "dtype: object"
      ]
     },
     "execution_count": 25,
     "metadata": {},
     "output_type": "execute_result"
    }
   ],
   "source": [
    "pd.Series(data_dist.flatten()).describe().apply(str)"
   ]
  },
  {
   "cell_type": "code",
   "execution_count": 26,
   "metadata": {
    "execution": {
     "iopub.execute_input": "2021-03-09T22:37:13.482301Z",
     "iopub.status.busy": "2021-03-09T22:37:13.481948Z",
     "iopub.status.idle": "2021-03-09T22:38:23.301956Z",
     "shell.execute_reply": "2021-03-09T22:38:23.302266Z"
    },
    "papermill": {
     "duration": 69.84692,
     "end_time": "2021-03-09T22:38:23.302381",
     "exception": false,
     "start_time": "2021-03-09T22:37:13.455461",
     "status": "completed"
    },
    "tags": []
   },
   "outputs": [
    {
     "name": "stderr",
     "output_type": "stream",
     "text": [
      "100%|██████████| 363/363 [01:09<00:00,  5.20it/s]\n"
     ]
    }
   ],
   "source": [
    "ensemble = generate_ensemble(\n",
    "    data_dist,\n",
    "    CLUSTERERS,\n",
    "    attributes=CLUSTERING_ATTRIBUTES_TO_SAVE,\n",
    ")"
   ]
  },
  {
   "cell_type": "code",
   "execution_count": 27,
   "metadata": {
    "execution": {
     "iopub.execute_input": "2021-03-09T22:38:23.469104Z",
     "iopub.status.busy": "2021-03-09T22:38:23.468672Z",
     "iopub.status.idle": "2021-03-09T22:38:23.479796Z",
     "shell.execute_reply": "2021-03-09T22:38:23.479431Z"
    },
    "papermill": {
     "duration": 0.094787,
     "end_time": "2021-03-09T22:38:23.479881",
     "exception": false,
     "start_time": "2021-03-09T22:38:23.385094",
     "status": "completed"
    },
    "tags": []
   },
   "outputs": [
    {
     "data": {
      "text/plain": [
       "(111, 3)"
      ]
     },
     "execution_count": 27,
     "metadata": {},
     "output_type": "execute_result"
    }
   ],
   "source": [
    "ensemble.shape"
   ]
  },
  {
   "cell_type": "code",
   "execution_count": 28,
   "metadata": {
    "execution": {
     "iopub.execute_input": "2021-03-09T22:38:23.645408Z",
     "iopub.status.busy": "2021-03-09T22:38:23.644960Z",
     "iopub.status.idle": "2021-03-09T22:38:23.663164Z",
     "shell.execute_reply": "2021-03-09T22:38:23.662798Z"
    },
    "papermill": {
     "duration": 0.1024,
     "end_time": "2021-03-09T22:38:23.663249",
     "exception": false,
     "start_time": "2021-03-09T22:38:23.560849",
     "status": "completed"
    },
    "tags": []
   },
   "outputs": [
    {
     "data": {
      "text/html": [
       "<div>\n",
       "<style scoped>\n",
       "    .dataframe tbody tr th:only-of-type {\n",
       "        vertical-align: middle;\n",
       "    }\n",
       "\n",
       "    .dataframe tbody tr th {\n",
       "        vertical-align: top;\n",
       "    }\n",
       "\n",
       "    .dataframe thead th {\n",
       "        text-align: right;\n",
       "    }\n",
       "</style>\n",
       "<table border=\"1\" class=\"dataframe\">\n",
       "  <thead>\n",
       "    <tr style=\"text-align: right;\">\n",
       "      <th></th>\n",
       "      <th>clusterer_params</th>\n",
       "      <th>partition</th>\n",
       "      <th>n_clusters</th>\n",
       "    </tr>\n",
       "    <tr>\n",
       "      <th>clusterer_id</th>\n",
       "      <th></th>\n",
       "      <th></th>\n",
       "      <th></th>\n",
       "    </tr>\n",
       "  </thead>\n",
       "  <tbody>\n",
       "    <tr>\n",
       "      <th>DBSCAN #0</th>\n",
       "      <td>{'algorithm': 'auto', 'eps': 10.0, 'leaf_size'...</td>\n",
       "      <td>[nan, 0.0, 0.0, 0.0, 0.0, 0.0, nan, 0.0, 0.0, ...</td>\n",
       "      <td>333</td>\n",
       "    </tr>\n",
       "    <tr>\n",
       "      <th>DBSCAN #1</th>\n",
       "      <td>{'algorithm': 'auto', 'eps': 10.3125, 'leaf_si...</td>\n",
       "      <td>[nan, 0.0, 0.0, 0.0, 0.0, 0.0, nan, 0.0, 0.0, ...</td>\n",
       "      <td>275</td>\n",
       "    </tr>\n",
       "    <tr>\n",
       "      <th>DBSCAN #2</th>\n",
       "      <td>{'algorithm': 'auto', 'eps': 10.625, 'leaf_siz...</td>\n",
       "      <td>[0.0, 0.0, 0.0, 0.0, 0.0, 0.0, nan, 0.0, 0.0, ...</td>\n",
       "      <td>221</td>\n",
       "    </tr>\n",
       "    <tr>\n",
       "      <th>DBSCAN #3</th>\n",
       "      <td>{'algorithm': 'auto', 'eps': 10.9375, 'leaf_si...</td>\n",
       "      <td>[0.0, 0.0, 0.0, 0.0, 0.0, 0.0, nan, 0.0, 0.0, ...</td>\n",
       "      <td>173</td>\n",
       "    </tr>\n",
       "    <tr>\n",
       "      <th>DBSCAN #4</th>\n",
       "      <td>{'algorithm': 'auto', 'eps': 11.25, 'leaf_size...</td>\n",
       "      <td>[0.0, 0.0, 0.0, 0.0, 0.0, 0.0, 0.0, 0.0, 0.0, ...</td>\n",
       "      <td>135</td>\n",
       "    </tr>\n",
       "  </tbody>\n",
       "</table>\n",
       "</div>"
      ],
      "text/plain": [
       "                                               clusterer_params  \\\n",
       "clusterer_id                                                      \n",
       "DBSCAN #0     {'algorithm': 'auto', 'eps': 10.0, 'leaf_size'...   \n",
       "DBSCAN #1     {'algorithm': 'auto', 'eps': 10.3125, 'leaf_si...   \n",
       "DBSCAN #2     {'algorithm': 'auto', 'eps': 10.625, 'leaf_siz...   \n",
       "DBSCAN #3     {'algorithm': 'auto', 'eps': 10.9375, 'leaf_si...   \n",
       "DBSCAN #4     {'algorithm': 'auto', 'eps': 11.25, 'leaf_size...   \n",
       "\n",
       "                                                      partition  n_clusters  \n",
       "clusterer_id                                                                 \n",
       "DBSCAN #0     [nan, 0.0, 0.0, 0.0, 0.0, 0.0, nan, 0.0, 0.0, ...         333  \n",
       "DBSCAN #1     [nan, 0.0, 0.0, 0.0, 0.0, 0.0, nan, 0.0, 0.0, ...         275  \n",
       "DBSCAN #2     [0.0, 0.0, 0.0, 0.0, 0.0, 0.0, nan, 0.0, 0.0, ...         221  \n",
       "DBSCAN #3     [0.0, 0.0, 0.0, 0.0, 0.0, 0.0, nan, 0.0, 0.0, ...         173  \n",
       "DBSCAN #4     [0.0, 0.0, 0.0, 0.0, 0.0, 0.0, 0.0, 0.0, 0.0, ...         135  "
      ]
     },
     "execution_count": 28,
     "metadata": {},
     "output_type": "execute_result"
    }
   ],
   "source": [
    "ensemble.head()"
   ]
  },
  {
   "cell_type": "code",
   "execution_count": 29,
   "metadata": {
    "execution": {
     "iopub.execute_input": "2021-03-09T22:38:23.829495Z",
     "iopub.status.busy": "2021-03-09T22:38:23.829139Z",
     "iopub.status.idle": "2021-03-09T22:38:23.841477Z",
     "shell.execute_reply": "2021-03-09T22:38:23.841099Z"
    },
    "papermill": {
     "duration": 0.096441,
     "end_time": "2021-03-09T22:38:23.841562",
     "exception": false,
     "start_time": "2021-03-09T22:38:23.745121",
     "status": "completed"
    },
    "tags": []
   },
   "outputs": [
    {
     "data": {
      "text/plain": [
       "3      22\n",
       "2      21\n",
       "5       9\n",
       "6       8\n",
       "7       8\n",
       "16      4\n",
       "14      3\n",
       "17      3\n",
       "9       3\n",
       "35      2\n",
       "34      2\n",
       "4       2\n",
       "20      1\n",
       "13      1\n",
       "8       1\n",
       "15      1\n",
       "135     1\n",
       "18      1\n",
       "275     1\n",
       "26      1\n",
       "22      1\n",
       "105     1\n",
       "25      1\n",
       "45      1\n",
       "29      1\n",
       "33      1\n",
       "40      1\n",
       "42      1\n",
       "173     1\n",
       "19      1\n",
       "55      1\n",
       "69      1\n",
       "333     1\n",
       "86      1\n",
       "221     1\n",
       "23      1\n",
       "Name: n_clusters, dtype: int64"
      ]
     },
     "metadata": {},
     "output_type": "display_data"
    }
   ],
   "source": [
    "_tmp = ensemble[\"n_clusters\"].value_counts()\n",
    "display(_tmp)\n",
    "assert _tmp.index[0] == 3\n",
    "assert _tmp.loc[3] == 22"
   ]
  },
  {
   "cell_type": "code",
   "execution_count": 30,
   "metadata": {
    "execution": {
     "iopub.execute_input": "2021-03-09T22:38:24.007314Z",
     "iopub.status.busy": "2021-03-09T22:38:24.006957Z",
     "iopub.status.idle": "2021-03-09T22:38:24.020249Z",
     "shell.execute_reply": "2021-03-09T22:38:24.019883Z"
    },
    "papermill": {
     "duration": 0.096681,
     "end_time": "2021-03-09T22:38:24.020334",
     "exception": false,
     "start_time": "2021-03-09T22:38:23.923653",
     "status": "completed"
    },
    "tags": []
   },
   "outputs": [
    {
     "data": {
      "text/plain": [
       "count    111.000000\n",
       "mean      21.774775\n",
       "std       50.178352\n",
       "min        2.000000\n",
       "25%        3.000000\n",
       "50%        6.000000\n",
       "75%       16.500000\n",
       "max      333.000000\n",
       "Name: n_clusters, dtype: float64"
      ]
     },
     "metadata": {},
     "output_type": "display_data"
    }
   ],
   "source": [
    "ensemble_stats = ensemble[\"n_clusters\"].describe()\n",
    "display(ensemble_stats)"
   ]
  },
  {
   "cell_type": "code",
   "execution_count": 31,
   "metadata": {
    "execution": {
     "iopub.execute_input": "2021-03-09T22:38:24.186186Z",
     "iopub.status.busy": "2021-03-09T22:38:24.185821Z",
     "iopub.status.idle": "2021-03-09T22:38:24.198322Z",
     "shell.execute_reply": "2021-03-09T22:38:24.197949Z"
    },
    "papermill": {
     "duration": 0.096681,
     "end_time": "2021-03-09T22:38:24.198406",
     "exception": false,
     "start_time": "2021-03-09T22:38:24.101725",
     "status": "completed"
    },
    "tags": []
   },
   "outputs": [],
   "source": [
    "# number of noisy points\n",
    "_tmp = ensemble.copy()\n",
    "_tmp = _tmp.assign(n_noisy=ensemble[\"partition\"].apply(lambda x: np.isnan(x).sum()))"
   ]
  },
  {
   "cell_type": "code",
   "execution_count": 32,
   "metadata": {
    "execution": {
     "iopub.execute_input": "2021-03-09T22:38:24.365252Z",
     "iopub.status.busy": "2021-03-09T22:38:24.364897Z",
     "iopub.status.idle": "2021-03-09T22:38:24.378173Z",
     "shell.execute_reply": "2021-03-09T22:38:24.377814Z"
    },
    "papermill": {
     "duration": 0.097906,
     "end_time": "2021-03-09T22:38:24.378257",
     "exception": false,
     "start_time": "2021-03-09T22:38:24.280351",
     "status": "completed"
    },
    "tags": []
   },
   "outputs": [
    {
     "data": {
      "text/plain": [
       "count    111.000000\n",
       "mean      92.711712\n",
       "std      105.142880\n",
       "min        8.000000\n",
       "25%       26.000000\n",
       "50%       55.000000\n",
       "75%      111.500000\n",
       "max      586.000000\n",
       "Name: n_noisy, dtype: float64"
      ]
     },
     "metadata": {},
     "output_type": "display_data"
    }
   ],
   "source": [
    "_tmp_stats = _tmp[\"n_noisy\"].describe()\n",
    "display(_tmp_stats)\n",
    "assert _tmp_stats[\"min\"] > 5\n",
    "assert _tmp_stats[\"max\"] < 600\n",
    "assert 90 < _tmp_stats[\"mean\"] < 95"
   ]
  },
  {
   "cell_type": "markdown",
   "metadata": {
    "papermill": {
     "duration": 0.081759,
     "end_time": "2021-03-09T22:38:24.543129",
     "exception": false,
     "start_time": "2021-03-09T22:38:24.461370",
     "status": "completed"
    },
    "tags": []
   },
   "source": [
    "## Testing"
   ]
  },
  {
   "cell_type": "code",
   "execution_count": 33,
   "metadata": {
    "execution": {
     "iopub.execute_input": "2021-03-09T22:38:24.710068Z",
     "iopub.status.busy": "2021-03-09T22:38:24.709715Z",
     "iopub.status.idle": "2021-03-09T22:38:24.720036Z",
     "shell.execute_reply": "2021-03-09T22:38:24.719668Z"
    },
    "papermill": {
     "duration": 0.095101,
     "end_time": "2021-03-09T22:38:24.720121",
     "exception": false,
     "start_time": "2021-03-09T22:38:24.625020",
     "status": "completed"
    },
    "tags": []
   },
   "outputs": [],
   "source": [
    "assert ensemble_stats[\"min\"] > 1"
   ]
  },
  {
   "cell_type": "code",
   "execution_count": 34,
   "metadata": {
    "execution": {
     "iopub.execute_input": "2021-03-09T22:38:24.906645Z",
     "iopub.status.busy": "2021-03-09T22:38:24.906193Z",
     "iopub.status.idle": "2021-03-09T22:38:24.918456Z",
     "shell.execute_reply": "2021-03-09T22:38:24.918788Z"
    },
    "papermill": {
     "duration": 0.117299,
     "end_time": "2021-03-09T22:38:24.918911",
     "exception": false,
     "start_time": "2021-03-09T22:38:24.801612",
     "status": "completed"
    },
    "tags": []
   },
   "outputs": [],
   "source": [
    "assert not ensemble[\"n_clusters\"].isna().any()"
   ]
  },
  {
   "cell_type": "code",
   "execution_count": 35,
   "metadata": {
    "execution": {
     "iopub.execute_input": "2021-03-09T22:38:25.093059Z",
     "iopub.status.busy": "2021-03-09T22:38:25.092568Z",
     "iopub.status.idle": "2021-03-09T22:38:25.109568Z",
     "shell.execute_reply": "2021-03-09T22:38:25.109244Z"
    },
    "papermill": {
     "duration": 0.101264,
     "end_time": "2021-03-09T22:38:25.109656",
     "exception": false,
     "start_time": "2021-03-09T22:38:25.008392",
     "status": "completed"
    },
    "tags": []
   },
   "outputs": [],
   "source": [
    "# all partitions have the right size\n",
    "assert np.all(\n",
    "    [part[\"partition\"].shape[0] == data.shape[0] for idx, part in ensemble.iterrows()]\n",
    ")"
   ]
  },
  {
   "cell_type": "markdown",
   "metadata": {
    "papermill": {
     "duration": 0.082736,
     "end_time": "2021-03-09T22:38:25.277060",
     "exception": false,
     "start_time": "2021-03-09T22:38:25.194324",
     "status": "completed"
    },
    "tags": []
   },
   "source": [
    "## Add clustering quality measures"
   ]
  },
  {
   "cell_type": "code",
   "execution_count": 36,
   "metadata": {
    "execution": {
     "iopub.execute_input": "2021-03-09T22:38:25.447471Z",
     "iopub.status.busy": "2021-03-09T22:38:25.447103Z",
     "iopub.status.idle": "2021-03-09T22:38:25.457804Z",
     "shell.execute_reply": "2021-03-09T22:38:25.457432Z"
    },
    "papermill": {
     "duration": 0.096958,
     "end_time": "2021-03-09T22:38:25.457890",
     "exception": false,
     "start_time": "2021-03-09T22:38:25.360932",
     "status": "completed"
    },
    "tags": []
   },
   "outputs": [],
   "source": [
    "def _remove_nans(data, part):\n",
    "    not_nan_idx = ~np.isnan(part)\n",
    "    return data.iloc[not_nan_idx], part[not_nan_idx]\n",
    "\n",
    "\n",
    "def _apply_func(func, data, part):\n",
    "    no_nan_data, no_nan_part = _remove_nans(data, part)\n",
    "    return func(no_nan_data, no_nan_part)"
   ]
  },
  {
   "cell_type": "code",
   "execution_count": 37,
   "metadata": {
    "execution": {
     "iopub.execute_input": "2021-03-09T22:38:25.626514Z",
     "iopub.status.busy": "2021-03-09T22:38:25.626152Z",
     "iopub.status.idle": "2021-03-09T22:38:44.383010Z",
     "shell.execute_reply": "2021-03-09T22:38:44.382626Z"
    },
    "papermill": {
     "duration": 18.842193,
     "end_time": "2021-03-09T22:38:44.383097",
     "exception": false,
     "start_time": "2021-03-09T22:38:25.540904",
     "status": "completed"
    },
    "tags": []
   },
   "outputs": [],
   "source": [
    "ensemble = ensemble.assign(\n",
    "    si_score=ensemble[\"partition\"].apply(\n",
    "        lambda x: _apply_func(silhouette_score, data, x)\n",
    "    ),\n",
    "    ch_score=ensemble[\"partition\"].apply(\n",
    "        lambda x: _apply_func(calinski_harabasz_score, data, x)\n",
    "    ),\n",
    "    db_score=ensemble[\"partition\"].apply(\n",
    "        lambda x: _apply_func(davies_bouldin_score, data, x)\n",
    "    ),\n",
    ")"
   ]
  },
  {
   "cell_type": "code",
   "execution_count": 38,
   "metadata": {
    "execution": {
     "iopub.execute_input": "2021-03-09T22:38:44.554864Z",
     "iopub.status.busy": "2021-03-09T22:38:44.554510Z",
     "iopub.status.idle": "2021-03-09T22:38:44.565835Z",
     "shell.execute_reply": "2021-03-09T22:38:44.565520Z"
    },
    "papermill": {
     "duration": 0.096569,
     "end_time": "2021-03-09T22:38:44.565920",
     "exception": false,
     "start_time": "2021-03-09T22:38:44.469351",
     "status": "completed"
    },
    "tags": []
   },
   "outputs": [
    {
     "data": {
      "text/plain": [
       "(111, 6)"
      ]
     },
     "execution_count": 38,
     "metadata": {},
     "output_type": "execute_result"
    }
   ],
   "source": [
    "ensemble.shape"
   ]
  },
  {
   "cell_type": "code",
   "execution_count": 39,
   "metadata": {
    "execution": {
     "iopub.execute_input": "2021-03-09T22:38:44.738011Z",
     "iopub.status.busy": "2021-03-09T22:38:44.737659Z",
     "iopub.status.idle": "2021-03-09T22:38:44.756332Z",
     "shell.execute_reply": "2021-03-09T22:38:44.756617Z"
    },
    "papermill": {
     "duration": 0.104737,
     "end_time": "2021-03-09T22:38:44.756751",
     "exception": false,
     "start_time": "2021-03-09T22:38:44.652014",
     "status": "completed"
    },
    "tags": []
   },
   "outputs": [
    {
     "data": {
      "text/html": [
       "<div>\n",
       "<style scoped>\n",
       "    .dataframe tbody tr th:only-of-type {\n",
       "        vertical-align: middle;\n",
       "    }\n",
       "\n",
       "    .dataframe tbody tr th {\n",
       "        vertical-align: top;\n",
       "    }\n",
       "\n",
       "    .dataframe thead th {\n",
       "        text-align: right;\n",
       "    }\n",
       "</style>\n",
       "<table border=\"1\" class=\"dataframe\">\n",
       "  <thead>\n",
       "    <tr style=\"text-align: right;\">\n",
       "      <th></th>\n",
       "      <th>clusterer_params</th>\n",
       "      <th>partition</th>\n",
       "      <th>n_clusters</th>\n",
       "      <th>si_score</th>\n",
       "      <th>ch_score</th>\n",
       "      <th>db_score</th>\n",
       "    </tr>\n",
       "    <tr>\n",
       "      <th>clusterer_id</th>\n",
       "      <th></th>\n",
       "      <th></th>\n",
       "      <th></th>\n",
       "      <th></th>\n",
       "      <th></th>\n",
       "      <th></th>\n",
       "    </tr>\n",
       "  </thead>\n",
       "  <tbody>\n",
       "    <tr>\n",
       "      <th>DBSCAN #0</th>\n",
       "      <td>{'algorithm': 'auto', 'eps': 10.0, 'leaf_size'...</td>\n",
       "      <td>[nan, 0.0, 0.0, 0.0, 0.0, 0.0, nan, 0.0, 0.0, ...</td>\n",
       "      <td>333</td>\n",
       "      <td>0.089548</td>\n",
       "      <td>10.283978</td>\n",
       "      <td>0.897203</td>\n",
       "    </tr>\n",
       "    <tr>\n",
       "      <th>DBSCAN #1</th>\n",
       "      <td>{'algorithm': 'auto', 'eps': 10.3125, 'leaf_si...</td>\n",
       "      <td>[nan, 0.0, 0.0, 0.0, 0.0, 0.0, nan, 0.0, 0.0, ...</td>\n",
       "      <td>275</td>\n",
       "      <td>0.056570</td>\n",
       "      <td>10.762233</td>\n",
       "      <td>0.889088</td>\n",
       "    </tr>\n",
       "    <tr>\n",
       "      <th>DBSCAN #2</th>\n",
       "      <td>{'algorithm': 'auto', 'eps': 10.625, 'leaf_siz...</td>\n",
       "      <td>[0.0, 0.0, 0.0, 0.0, 0.0, 0.0, nan, 0.0, 0.0, ...</td>\n",
       "      <td>221</td>\n",
       "      <td>0.034014</td>\n",
       "      <td>11.826229</td>\n",
       "      <td>0.871643</td>\n",
       "    </tr>\n",
       "    <tr>\n",
       "      <th>DBSCAN #3</th>\n",
       "      <td>{'algorithm': 'auto', 'eps': 10.9375, 'leaf_si...</td>\n",
       "      <td>[0.0, 0.0, 0.0, 0.0, 0.0, 0.0, nan, 0.0, 0.0, ...</td>\n",
       "      <td>173</td>\n",
       "      <td>0.029440</td>\n",
       "      <td>13.902646</td>\n",
       "      <td>0.826430</td>\n",
       "    </tr>\n",
       "    <tr>\n",
       "      <th>DBSCAN #4</th>\n",
       "      <td>{'algorithm': 'auto', 'eps': 11.25, 'leaf_size...</td>\n",
       "      <td>[0.0, 0.0, 0.0, 0.0, 0.0, 0.0, 0.0, 0.0, 0.0, ...</td>\n",
       "      <td>135</td>\n",
       "      <td>0.031377</td>\n",
       "      <td>15.678458</td>\n",
       "      <td>0.790754</td>\n",
       "    </tr>\n",
       "  </tbody>\n",
       "</table>\n",
       "</div>"
      ],
      "text/plain": [
       "                                               clusterer_params  \\\n",
       "clusterer_id                                                      \n",
       "DBSCAN #0     {'algorithm': 'auto', 'eps': 10.0, 'leaf_size'...   \n",
       "DBSCAN #1     {'algorithm': 'auto', 'eps': 10.3125, 'leaf_si...   \n",
       "DBSCAN #2     {'algorithm': 'auto', 'eps': 10.625, 'leaf_siz...   \n",
       "DBSCAN #3     {'algorithm': 'auto', 'eps': 10.9375, 'leaf_si...   \n",
       "DBSCAN #4     {'algorithm': 'auto', 'eps': 11.25, 'leaf_size...   \n",
       "\n",
       "                                                      partition  n_clusters  \\\n",
       "clusterer_id                                                                  \n",
       "DBSCAN #0     [nan, 0.0, 0.0, 0.0, 0.0, 0.0, nan, 0.0, 0.0, ...         333   \n",
       "DBSCAN #1     [nan, 0.0, 0.0, 0.0, 0.0, 0.0, nan, 0.0, 0.0, ...         275   \n",
       "DBSCAN #2     [0.0, 0.0, 0.0, 0.0, 0.0, 0.0, nan, 0.0, 0.0, ...         221   \n",
       "DBSCAN #3     [0.0, 0.0, 0.0, 0.0, 0.0, 0.0, nan, 0.0, 0.0, ...         173   \n",
       "DBSCAN #4     [0.0, 0.0, 0.0, 0.0, 0.0, 0.0, 0.0, 0.0, 0.0, ...         135   \n",
       "\n",
       "              si_score   ch_score  db_score  \n",
       "clusterer_id                                 \n",
       "DBSCAN #0     0.089548  10.283978  0.897203  \n",
       "DBSCAN #1     0.056570  10.762233  0.889088  \n",
       "DBSCAN #2     0.034014  11.826229  0.871643  \n",
       "DBSCAN #3     0.029440  13.902646  0.826430  \n",
       "DBSCAN #4     0.031377  15.678458  0.790754  "
      ]
     },
     "execution_count": 39,
     "metadata": {},
     "output_type": "execute_result"
    }
   ],
   "source": [
    "ensemble.head()"
   ]
  },
  {
   "cell_type": "markdown",
   "metadata": {
    "papermill": {
     "duration": 0.083448,
     "end_time": "2021-03-09T22:38:44.923242",
     "exception": false,
     "start_time": "2021-03-09T22:38:44.839794",
     "status": "completed"
    },
    "tags": []
   },
   "source": [
    "# Cluster quality"
   ]
  },
  {
   "cell_type": "code",
   "execution_count": 40,
   "metadata": {
    "execution": {
     "iopub.execute_input": "2021-03-09T22:38:45.094256Z",
     "iopub.status.busy": "2021-03-09T22:38:45.093768Z",
     "iopub.status.idle": "2021-03-09T22:38:45.111004Z",
     "shell.execute_reply": "2021-03-09T22:38:45.110623Z"
    },
    "papermill": {
     "duration": 0.1038,
     "end_time": "2021-03-09T22:38:45.111093",
     "exception": false,
     "start_time": "2021-03-09T22:38:45.007293",
     "status": "completed"
    },
    "tags": []
   },
   "outputs": [
    {
     "data": {
      "text/html": [
       "<div>\n",
       "<style scoped>\n",
       "    .dataframe tbody tr th:only-of-type {\n",
       "        vertical-align: middle;\n",
       "    }\n",
       "\n",
       "    .dataframe tbody tr th {\n",
       "        vertical-align: top;\n",
       "    }\n",
       "\n",
       "    .dataframe thead th {\n",
       "        text-align: right;\n",
       "    }\n",
       "</style>\n",
       "<table border=\"1\" class=\"dataframe\">\n",
       "  <thead>\n",
       "    <tr style=\"text-align: right;\">\n",
       "      <th></th>\n",
       "      <th>si_score</th>\n",
       "      <th>ch_score</th>\n",
       "      <th>db_score</th>\n",
       "    </tr>\n",
       "    <tr>\n",
       "      <th>n_clusters</th>\n",
       "      <th></th>\n",
       "      <th></th>\n",
       "      <th></th>\n",
       "    </tr>\n",
       "  </thead>\n",
       "  <tbody>\n",
       "    <tr>\n",
       "      <th>2</th>\n",
       "      <td>0.574761</td>\n",
       "      <td>135.274982</td>\n",
       "      <td>0.642492</td>\n",
       "    </tr>\n",
       "    <tr>\n",
       "      <th>3</th>\n",
       "      <td>0.555237</td>\n",
       "      <td>136.316817</td>\n",
       "      <td>0.611921</td>\n",
       "    </tr>\n",
       "    <tr>\n",
       "      <th>4</th>\n",
       "      <td>0.407810</td>\n",
       "      <td>109.354172</td>\n",
       "      <td>0.690375</td>\n",
       "    </tr>\n",
       "    <tr>\n",
       "      <th>5</th>\n",
       "      <td>0.537684</td>\n",
       "      <td>79.622414</td>\n",
       "      <td>0.534207</td>\n",
       "    </tr>\n",
       "    <tr>\n",
       "      <th>6</th>\n",
       "      <td>0.515307</td>\n",
       "      <td>73.285827</td>\n",
       "      <td>0.527142</td>\n",
       "    </tr>\n",
       "    <tr>\n",
       "      <th>7</th>\n",
       "      <td>0.487367</td>\n",
       "      <td>94.770382</td>\n",
       "      <td>0.680738</td>\n",
       "    </tr>\n",
       "    <tr>\n",
       "      <th>8</th>\n",
       "      <td>0.480435</td>\n",
       "      <td>81.774679</td>\n",
       "      <td>0.666639</td>\n",
       "    </tr>\n",
       "    <tr>\n",
       "      <th>9</th>\n",
       "      <td>0.320912</td>\n",
       "      <td>79.965049</td>\n",
       "      <td>0.693480</td>\n",
       "    </tr>\n",
       "    <tr>\n",
       "      <th>13</th>\n",
       "      <td>0.250632</td>\n",
       "      <td>64.905234</td>\n",
       "      <td>0.630862</td>\n",
       "    </tr>\n",
       "    <tr>\n",
       "      <th>14</th>\n",
       "      <td>0.535987</td>\n",
       "      <td>47.413561</td>\n",
       "      <td>0.546747</td>\n",
       "    </tr>\n",
       "    <tr>\n",
       "      <th>15</th>\n",
       "      <td>0.470024</td>\n",
       "      <td>46.359614</td>\n",
       "      <td>0.547556</td>\n",
       "    </tr>\n",
       "    <tr>\n",
       "      <th>16</th>\n",
       "      <td>0.414918</td>\n",
       "      <td>49.896250</td>\n",
       "      <td>0.581903</td>\n",
       "    </tr>\n",
       "    <tr>\n",
       "      <th>17</th>\n",
       "      <td>0.291852</td>\n",
       "      <td>57.555551</td>\n",
       "      <td>0.726739</td>\n",
       "    </tr>\n",
       "    <tr>\n",
       "      <th>18</th>\n",
       "      <td>0.342767</td>\n",
       "      <td>56.374838</td>\n",
       "      <td>0.596074</td>\n",
       "    </tr>\n",
       "    <tr>\n",
       "      <th>19</th>\n",
       "      <td>0.325158</td>\n",
       "      <td>53.777178</td>\n",
       "      <td>0.590874</td>\n",
       "    </tr>\n",
       "    <tr>\n",
       "      <th>20</th>\n",
       "      <td>0.308645</td>\n",
       "      <td>51.616858</td>\n",
       "      <td>0.591946</td>\n",
       "    </tr>\n",
       "    <tr>\n",
       "      <th>22</th>\n",
       "      <td>0.309682</td>\n",
       "      <td>47.610924</td>\n",
       "      <td>0.588923</td>\n",
       "    </tr>\n",
       "    <tr>\n",
       "      <th>23</th>\n",
       "      <td>0.309459</td>\n",
       "      <td>46.129708</td>\n",
       "      <td>0.586542</td>\n",
       "    </tr>\n",
       "    <tr>\n",
       "      <th>25</th>\n",
       "      <td>0.270667</td>\n",
       "      <td>44.990932</td>\n",
       "      <td>0.596169</td>\n",
       "    </tr>\n",
       "    <tr>\n",
       "      <th>26</th>\n",
       "      <td>0.270505</td>\n",
       "      <td>43.501005</td>\n",
       "      <td>0.610923</td>\n",
       "    </tr>\n",
       "    <tr>\n",
       "      <th>29</th>\n",
       "      <td>0.219570</td>\n",
       "      <td>39.346392</td>\n",
       "      <td>0.608009</td>\n",
       "    </tr>\n",
       "    <tr>\n",
       "      <th>33</th>\n",
       "      <td>0.220012</td>\n",
       "      <td>35.371214</td>\n",
       "      <td>0.652741</td>\n",
       "    </tr>\n",
       "    <tr>\n",
       "      <th>34</th>\n",
       "      <td>0.212955</td>\n",
       "      <td>33.251600</td>\n",
       "      <td>0.647306</td>\n",
       "    </tr>\n",
       "    <tr>\n",
       "      <th>35</th>\n",
       "      <td>0.208456</td>\n",
       "      <td>32.808546</td>\n",
       "      <td>0.646331</td>\n",
       "    </tr>\n",
       "    <tr>\n",
       "      <th>40</th>\n",
       "      <td>0.156238</td>\n",
       "      <td>30.570243</td>\n",
       "      <td>0.661599</td>\n",
       "    </tr>\n",
       "    <tr>\n",
       "      <th>42</th>\n",
       "      <td>0.149658</td>\n",
       "      <td>30.954478</td>\n",
       "      <td>0.672767</td>\n",
       "    </tr>\n",
       "    <tr>\n",
       "      <th>45</th>\n",
       "      <td>0.119984</td>\n",
       "      <td>29.232977</td>\n",
       "      <td>0.690314</td>\n",
       "    </tr>\n",
       "    <tr>\n",
       "      <th>55</th>\n",
       "      <td>0.073242</td>\n",
       "      <td>25.092470</td>\n",
       "      <td>0.716544</td>\n",
       "    </tr>\n",
       "    <tr>\n",
       "      <th>69</th>\n",
       "      <td>0.058884</td>\n",
       "      <td>22.481126</td>\n",
       "      <td>0.694940</td>\n",
       "    </tr>\n",
       "    <tr>\n",
       "      <th>86</th>\n",
       "      <td>0.047220</td>\n",
       "      <td>20.387089</td>\n",
       "      <td>0.731040</td>\n",
       "    </tr>\n",
       "    <tr>\n",
       "      <th>105</th>\n",
       "      <td>0.033947</td>\n",
       "      <td>17.766777</td>\n",
       "      <td>0.753276</td>\n",
       "    </tr>\n",
       "    <tr>\n",
       "      <th>135</th>\n",
       "      <td>0.031377</td>\n",
       "      <td>15.678458</td>\n",
       "      <td>0.790754</td>\n",
       "    </tr>\n",
       "    <tr>\n",
       "      <th>173</th>\n",
       "      <td>0.029440</td>\n",
       "      <td>13.902646</td>\n",
       "      <td>0.826430</td>\n",
       "    </tr>\n",
       "    <tr>\n",
       "      <th>221</th>\n",
       "      <td>0.034014</td>\n",
       "      <td>11.826229</td>\n",
       "      <td>0.871643</td>\n",
       "    </tr>\n",
       "    <tr>\n",
       "      <th>275</th>\n",
       "      <td>0.056570</td>\n",
       "      <td>10.762233</td>\n",
       "      <td>0.889088</td>\n",
       "    </tr>\n",
       "    <tr>\n",
       "      <th>333</th>\n",
       "      <td>0.089548</td>\n",
       "      <td>10.283978</td>\n",
       "      <td>0.897203</td>\n",
       "    </tr>\n",
       "  </tbody>\n",
       "</table>\n",
       "</div>"
      ],
      "text/plain": [
       "            si_score    ch_score  db_score\n",
       "n_clusters                                \n",
       "2           0.574761  135.274982  0.642492\n",
       "3           0.555237  136.316817  0.611921\n",
       "4           0.407810  109.354172  0.690375\n",
       "5           0.537684   79.622414  0.534207\n",
       "6           0.515307   73.285827  0.527142\n",
       "7           0.487367   94.770382  0.680738\n",
       "8           0.480435   81.774679  0.666639\n",
       "9           0.320912   79.965049  0.693480\n",
       "13          0.250632   64.905234  0.630862\n",
       "14          0.535987   47.413561  0.546747\n",
       "15          0.470024   46.359614  0.547556\n",
       "16          0.414918   49.896250  0.581903\n",
       "17          0.291852   57.555551  0.726739\n",
       "18          0.342767   56.374838  0.596074\n",
       "19          0.325158   53.777178  0.590874\n",
       "20          0.308645   51.616858  0.591946\n",
       "22          0.309682   47.610924  0.588923\n",
       "23          0.309459   46.129708  0.586542\n",
       "25          0.270667   44.990932  0.596169\n",
       "26          0.270505   43.501005  0.610923\n",
       "29          0.219570   39.346392  0.608009\n",
       "33          0.220012   35.371214  0.652741\n",
       "34          0.212955   33.251600  0.647306\n",
       "35          0.208456   32.808546  0.646331\n",
       "40          0.156238   30.570243  0.661599\n",
       "42          0.149658   30.954478  0.672767\n",
       "45          0.119984   29.232977  0.690314\n",
       "55          0.073242   25.092470  0.716544\n",
       "69          0.058884   22.481126  0.694940\n",
       "86          0.047220   20.387089  0.731040\n",
       "105         0.033947   17.766777  0.753276\n",
       "135         0.031377   15.678458  0.790754\n",
       "173         0.029440   13.902646  0.826430\n",
       "221         0.034014   11.826229  0.871643\n",
       "275         0.056570   10.762233  0.889088\n",
       "333         0.089548   10.283978  0.897203"
      ]
     },
     "metadata": {},
     "output_type": "display_data"
    }
   ],
   "source": [
    "with pd.option_context(\"display.max_rows\", None, \"display.max_columns\", None):\n",
    "    _df = ensemble.groupby([\"n_clusters\"]).mean()\n",
    "    display(_df)"
   ]
  },
  {
   "cell_type": "code",
   "execution_count": 41,
   "metadata": {
    "execution": {
     "iopub.execute_input": "2021-03-09T22:38:45.282955Z",
     "iopub.status.busy": "2021-03-09T22:38:45.282583Z",
     "iopub.status.idle": "2021-03-09T22:38:46.169873Z",
     "shell.execute_reply": "2021-03-09T22:38:46.170218Z"
    },
    "papermill": {
     "duration": 0.974184,
     "end_time": "2021-03-09T22:38:46.170321",
     "exception": false,
     "start_time": "2021-03-09T22:38:45.196137",
     "status": "completed"
    },
    "tags": []
   },
   "outputs": [
    {
     "data": {
      "image/png": "[encoded data removed]",
      "text/plain": [
       "<Figure size 1008x432 with 1 Axes>"
      ]
     },
     "metadata": {},
     "output_type": "display_data"
    }
   ],
   "source": [
    "with sns.plotting_context(\"talk\", font_scale=0.75), sns.axes_style(\n",
    "    \"whitegrid\", {\"grid.linestyle\": \"--\"}\n",
    "):\n",
    "    fig = plt.figure(figsize=(14, 6))\n",
    "    ax = sns.pointplot(data=ensemble, x=\"n_clusters\", y=\"si_score\")\n",
    "    ax.set_ylabel(\"Silhouette index\\n(higher is better)\")\n",
    "    ax.set_xlabel(\"Number of clusters ($k$)\")\n",
    "    ax.set_xticklabels(ax.get_xticklabels(), rotation=45)\n",
    "    plt.grid(True)\n",
    "    plt.tight_layout()"
   ]
  },
  {
   "cell_type": "code",
   "execution_count": 42,
   "metadata": {
    "execution": {
     "iopub.execute_input": "2021-03-09T22:38:46.345357Z",
     "iopub.status.busy": "2021-03-09T22:38:46.344997Z",
     "iopub.status.idle": "2021-03-09T22:38:46.893048Z",
     "shell.execute_reply": "2021-03-09T22:38:46.892671Z"
    },
    "papermill": {
     "duration": 0.636592,
     "end_time": "2021-03-09T22:38:46.893131",
     "exception": false,
     "start_time": "2021-03-09T22:38:46.256539",
     "status": "completed"
    },
    "tags": []
   },
   "outputs": [
    {
     "data": {
      "image/png": "[encoded data removed]",
      "text/plain": [
       "<Figure size 1008x432 with 1 Axes>"
      ]
     },
     "metadata": {},
     "output_type": "display_data"
    }
   ],
   "source": [
    "with sns.plotting_context(\"talk\", font_scale=0.75), sns.axes_style(\n",
    "    \"whitegrid\", {\"grid.linestyle\": \"--\"}\n",
    "):\n",
    "    fig = plt.figure(figsize=(14, 6))\n",
    "    ax = sns.pointplot(data=ensemble, x=\"n_clusters\", y=\"ch_score\")\n",
    "    ax.set_ylabel(\"Calinski-Harabasz index\\n(higher is better)\")\n",
    "    ax.set_xlabel(\"Number of clusters ($k$)\")\n",
    "    ax.set_xticklabels(ax.get_xticklabels(), rotation=45)\n",
    "    plt.grid(True)\n",
    "    plt.tight_layout()"
   ]
  },
  {
   "cell_type": "code",
   "execution_count": 43,
   "metadata": {
    "execution": {
     "iopub.execute_input": "2021-03-09T22:38:47.072070Z",
     "iopub.status.busy": "2021-03-09T22:38:47.071695Z",
     "iopub.status.idle": "2021-03-09T22:38:47.645319Z",
     "shell.execute_reply": "2021-03-09T22:38:47.645614Z"
    },
    "papermill": {
     "duration": 0.663974,
     "end_time": "2021-03-09T22:38:47.645716",
     "exception": false,
     "start_time": "2021-03-09T22:38:46.981742",
     "status": "completed"
    },
    "tags": []
   },
   "outputs": [
    {
     "data": {
      "image/png": "[encoded data removed]",
      "text/plain": [
       "<Figure size 1008x432 with 1 Axes>"
      ]
     },
     "metadata": {},
     "output_type": "display_data"
    }
   ],
   "source": [
    "with sns.plotting_context(\"talk\", font_scale=0.75), sns.axes_style(\n",
    "    \"whitegrid\", {\"grid.linestyle\": \"--\"}\n",
    "):\n",
    "    fig = plt.figure(figsize=(14, 6))\n",
    "    ax = sns.pointplot(data=ensemble, x=\"n_clusters\", y=\"db_score\")\n",
    "    ax.set_ylabel(\"Davies-Bouldin index\\n(lower is better)\")\n",
    "    ax.set_xlabel(\"Number of clusters ($k$)\")\n",
    "    ax.set_xticklabels(ax.get_xticklabels(), rotation=45)\n",
    "    plt.grid(True)\n",
    "    plt.tight_layout()"
   ]
  },
  {
   "cell_type": "markdown",
   "metadata": {
    "papermill": {
     "duration": 0.088963,
     "end_time": "2021-03-09T22:38:47.824386",
     "exception": false,
     "start_time": "2021-03-09T22:38:47.735423",
     "status": "completed"
    },
    "tags": []
   },
   "source": [
    "# Conclusions"
   ]
  },
  {
   "cell_type": "markdown",
   "metadata": {
    "papermill": {
     "duration": 0.088771,
     "end_time": "2021-03-09T22:38:48.002642",
     "exception": false,
     "start_time": "2021-03-09T22:38:47.913871",
     "status": "completed"
    },
    "tags": []
   },
   "source": [
    "The values explored above for `k_values` and `eps_range_per_k` are the one that will be used for DBSCAN in this data version."
   ]
  },
  {
   "cell_type": "code",
   "execution_count": null,
   "metadata": {
    "papermill": {
     "duration": 0.089192,
     "end_time": "2021-03-09T22:38:48.180171",
     "exception": false,
     "start_time": "2021-03-09T22:38:48.090979",
     "status": "completed"
    },
    "tags": []
   },
   "outputs": [],
   "source": []
  }
 ],
 "metadata": {
  "jupytext": {
   "cell_metadata_filter": "all,-execution,-papermill,-trusted",
   "formats": "ipynb,py//py:percent"
  },
  "kernelspec": {
   "display_name": "Python 3",
   "language": "python",
   "name": "python3"
  },
  "language_info": {
   "codemirror_mode": {
    "name": "ipython",
    "version": 3
   },
   "file_extension": ".py",
   "mimetype": "text/x-python",
   "name": "python",
   "nbconvert_exporter": "python",
   "pygments_lexer": "ipython3",
   "version": "3.8.8"
  },
  "papermill": {
   "default_parameters": {},
   "duration": 108.240547,
   "end_time": "2021-03-09T22:38:49.657400",
   "environment_variables": {},
   "exception": null,
   "input_path": "15_cluster_analysis/pre_analysis/06_02-dbscan-pca.ipynb",
   "output_path": "15_cluster_analysis/pre_analysis/06_02-dbscan-pca.run.ipynb",
   "parameters": {},
   "start_time": "2021-03-09T22:37:01.416853",
   "version": "2.2.2"
  },
  "toc-autonumbering": true,
  "toc-showcode": false,
  "toc-showmarkdowntxt": false,
  "toc-showtags": false
 },
 "nbformat": 4,
 "nbformat_minor": 4
}
