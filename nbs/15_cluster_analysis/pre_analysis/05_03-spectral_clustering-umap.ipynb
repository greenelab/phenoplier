{
 "cells": [
  {
   "cell_type": "markdown",
   "metadata": {
    "papermill": {
     "duration": 0.052944,
     "end_time": "2021-01-12T00:04:33.707431",
     "exception": false,
     "start_time": "2021-01-12T00:04:33.654487",
     "status": "completed"
    },
    "tags": []
   },
   "source": [
    "# Description"
   ]
  },
  {
   "cell_type": "markdown",
   "metadata": {
    "papermill": {
     "duration": 0.022863,
     "end_time": "2021-01-12T00:04:33.753408",
     "exception": false,
     "start_time": "2021-01-12T00:04:33.730545",
     "status": "completed"
    },
    "tags": []
   },
   "source": [
    "This notebook runs some pre-analyses using spectral clustering to explore the best set of parameters to cluster `umap` data version."
   ]
  },
  {
   "cell_type": "markdown",
   "metadata": {
    "papermill": {
     "duration": 0.022769,
     "end_time": "2021-01-12T00:04:33.799103",
     "exception": false,
     "start_time": "2021-01-12T00:04:33.776334",
     "status": "completed"
    },
    "tags": []
   },
   "source": [
    "# Environment variables"
   ]
  },
  {
   "cell_type": "code",
   "execution_count": 1,
   "metadata": {
    "papermill": {
     "duration": 0.038732,
     "end_time": "2021-01-12T00:04:33.860899",
     "exception": false,
     "start_time": "2021-01-12T00:04:33.822167",
     "status": "completed"
    },
    "tags": []
   },
   "outputs": [
    {
     "data": {
      "text/plain": [
       "2"
      ]
     },
     "metadata": {},
     "output_type": "display_data"
    }
   ],
   "source": [
    "from IPython.display import display\n",
    "\n",
    "import conf\n",
    "\n",
    "N_JOBS = conf.GENERAL[\"N_JOBS\"]\n",
    "display(N_JOBS)"
   ]
  },
  {
   "cell_type": "code",
   "execution_count": 2,
   "metadata": {
    "papermill": {
     "duration": 0.031465,
     "end_time": "2021-01-12T00:04:33.917404",
     "exception": false,
     "start_time": "2021-01-12T00:04:33.885939",
     "status": "completed"
    },
    "tags": []
   },
   "outputs": [
    {
     "name": "stdout",
     "output_type": "stream",
     "text": [
      "env: MKL_NUM_THREADS=2\n",
      "env: OPEN_BLAS_NUM_THREADS=2\n",
      "env: NUMEXPR_NUM_THREADS=2\n",
      "env: OMP_NUM_THREADS=2\n"
     ]
    }
   ],
   "source": [
    "%env MKL_NUM_THREADS=$N_JOBS\n",
    "%env OPEN_BLAS_NUM_THREADS=$N_JOBS\n",
    "%env NUMEXPR_NUM_THREADS=$N_JOBS\n",
    "%env OMP_NUM_THREADS=$N_JOBS"
   ]
  },
  {
   "cell_type": "markdown",
   "metadata": {
    "papermill": {
     "duration": 0.023292,
     "end_time": "2021-01-12T00:04:33.965641",
     "exception": false,
     "start_time": "2021-01-12T00:04:33.942349",
     "status": "completed"
    },
    "tags": []
   },
   "source": [
    "# Modules loading"
   ]
  },
  {
   "cell_type": "code",
   "execution_count": 3,
   "metadata": {
    "papermill": {
     "duration": 0.03464,
     "end_time": "2021-01-12T00:04:34.024242",
     "exception": false,
     "start_time": "2021-01-12T00:04:33.989602",
     "status": "completed"
    },
    "tags": []
   },
   "outputs": [],
   "source": [
    "%load_ext autoreload\n",
    "%autoreload 2"
   ]
  },
  {
   "cell_type": "code",
   "execution_count": 4,
   "metadata": {
    "papermill": {
     "duration": 1.615119,
     "end_time": "2021-01-12T00:04:35.663863",
     "exception": false,
     "start_time": "2021-01-12T00:04:34.048744",
     "status": "completed"
    },
    "tags": []
   },
   "outputs": [],
   "source": [
    "from pathlib import Path\n",
    "import warnings\n",
    "\n",
    "import numpy as np\n",
    "import pandas as pd\n",
    "import umap\n",
    "import matplotlib.pyplot as plt\n",
    "import seaborn as sns\n",
    "\n",
    "from utils import generate_result_set_name"
   ]
  },
  {
   "cell_type": "markdown",
   "metadata": {
    "papermill": {
     "duration": 0.023427,
     "end_time": "2021-01-12T00:04:35.713732",
     "exception": false,
     "start_time": "2021-01-12T00:04:35.690305",
     "status": "completed"
    },
    "tags": []
   },
   "source": [
    "# Settings"
   ]
  },
  {
   "cell_type": "code",
   "execution_count": 5,
   "metadata": {
    "papermill": {
     "duration": 0.038397,
     "end_time": "2021-01-12T00:04:35.775963",
     "exception": false,
     "start_time": "2021-01-12T00:04:35.737566",
     "status": "completed"
    },
    "tags": []
   },
   "outputs": [],
   "source": [
    "INITIAL_RANDOM_STATE = 50000"
   ]
  },
  {
   "cell_type": "markdown",
   "metadata": {
    "papermill": {
     "duration": 0.024401,
     "end_time": "2021-01-12T00:04:35.824421",
     "exception": false,
     "start_time": "2021-01-12T00:04:35.800020",
     "status": "completed"
    },
    "tags": []
   },
   "source": [
    "# UMAP"
   ]
  },
  {
   "cell_type": "code",
   "execution_count": 6,
   "metadata": {
    "papermill": {
     "duration": 0.038068,
     "end_time": "2021-01-12T00:04:35.886508",
     "exception": false,
     "start_time": "2021-01-12T00:04:35.848440",
     "status": "completed"
    },
    "tags": []
   },
   "outputs": [],
   "source": [
    "INPUT_SUBSET = \"umap\""
   ]
  },
  {
   "cell_type": "code",
   "execution_count": 7,
   "metadata": {
    "papermill": {
     "duration": 0.038324,
     "end_time": "2021-01-12T00:04:35.949920",
     "exception": false,
     "start_time": "2021-01-12T00:04:35.911596",
     "status": "completed"
    },
    "tags": []
   },
   "outputs": [],
   "source": [
    "INPUT_STEM = \"z_score_std-projection-smultixcan-efo_partial-mashr-zscores\""
   ]
  },
  {
   "cell_type": "code",
   "execution_count": 8,
   "metadata": {
    "papermill": {
     "duration": 0.038191,
     "end_time": "2021-01-12T00:04:36.012854",
     "exception": false,
     "start_time": "2021-01-12T00:04:35.974663",
     "status": "completed"
    },
    "tags": []
   },
   "outputs": [],
   "source": [
    "DR_OPTIONS = {\n",
    "    \"n_components\": 50,\n",
    "    \"metric\": \"euclidean\",\n",
    "    \"n_neighbors\": 15,\n",
    "    \"random_state\": 0,\n",
    "}"
   ]
  },
  {
   "cell_type": "code",
   "execution_count": 9,
   "metadata": {
    "papermill": {
     "duration": 0.040801,
     "end_time": "2021-01-12T00:04:36.078417",
     "exception": false,
     "start_time": "2021-01-12T00:04:36.037616",
     "status": "completed"
    },
    "tags": []
   },
   "outputs": [
    {
     "data": {
      "text/plain": [
       "PosixPath('/media/miltondp/Elements1/projects/phenoplier/results/data_transformations/umap/umap-z_score_std-projection-smultixcan-efo_partial-mashr-zscores-metric_euclidean-n_components_50-n_neighbors_15-random_state_0.pkl')"
      ]
     },
     "metadata": {},
     "output_type": "display_data"
    },
    {
     "data": {
      "text/plain": [
       "'umap-z_score_std-projection-smultixcan-efo_partial-mashr-zscores-metric_euclidean-n_components_50-n_neighbors_15-random_state_0'"
      ]
     },
     "metadata": {},
     "output_type": "display_data"
    }
   ],
   "source": [
    "input_filepath = Path(\n",
    "    conf.RESULTS[\"DATA_TRANSFORMATIONS_DIR\"],\n",
    "    INPUT_SUBSET,\n",
    "    generate_result_set_name(\n",
    "        DR_OPTIONS, prefix=f\"{INPUT_SUBSET}-{INPUT_STEM}-\", suffix=\".pkl\"\n",
    "    ),\n",
    ").resolve()\n",
    "display(input_filepath)\n",
    "\n",
    "assert input_filepath.exists(), \"Input file does not exist\"\n",
    "\n",
    "input_filepath_stem = input_filepath.stem\n",
    "display(input_filepath_stem)"
   ]
  },
  {
   "cell_type": "code",
   "execution_count": 10,
   "metadata": {
    "papermill": {
     "duration": 0.040623,
     "end_time": "2021-01-12T00:04:36.144146",
     "exception": false,
     "start_time": "2021-01-12T00:04:36.103523",
     "status": "completed"
    },
    "tags": []
   },
   "outputs": [],
   "source": [
    "data = pd.read_pickle(input_filepath)"
   ]
  },
  {
   "cell_type": "code",
   "execution_count": 11,
   "metadata": {
    "papermill": {
     "duration": 0.039943,
     "end_time": "2021-01-12T00:04:36.209634",
     "exception": false,
     "start_time": "2021-01-12T00:04:36.169691",
     "status": "completed"
    },
    "tags": []
   },
   "outputs": [
    {
     "data": {
      "text/plain": [
       "(3749, 50)"
      ]
     },
     "execution_count": 11,
     "metadata": {},
     "output_type": "execute_result"
    }
   ],
   "source": [
    "data.shape"
   ]
  },
  {
   "cell_type": "code",
   "execution_count": 12,
   "metadata": {
    "papermill": {
     "duration": 0.052514,
     "end_time": "2021-01-12T00:04:36.287771",
     "exception": false,
     "start_time": "2021-01-12T00:04:36.235257",
     "status": "completed"
    },
    "tags": []
   },
   "outputs": [
    {
     "data": {
      "text/html": [
       "<div>\n",
       "<style scoped>\n",
       "    .dataframe tbody tr th:only-of-type {\n",
       "        vertical-align: middle;\n",
       "    }\n",
       "\n",
       "    .dataframe tbody tr th {\n",
       "        vertical-align: top;\n",
       "    }\n",
       "\n",
       "    .dataframe thead th {\n",
       "        text-align: right;\n",
       "    }\n",
       "</style>\n",
       "<table border=\"1\" class=\"dataframe\">\n",
       "  <thead>\n",
       "    <tr style=\"text-align: right;\">\n",
       "      <th></th>\n",
       "      <th>UMAP1</th>\n",
       "      <th>UMAP2</th>\n",
       "      <th>UMAP3</th>\n",
       "      <th>UMAP4</th>\n",
       "      <th>UMAP5</th>\n",
       "      <th>UMAP6</th>\n",
       "      <th>UMAP7</th>\n",
       "      <th>UMAP8</th>\n",
       "      <th>UMAP9</th>\n",
       "      <th>UMAP10</th>\n",
       "      <th>...</th>\n",
       "      <th>UMAP41</th>\n",
       "      <th>UMAP42</th>\n",
       "      <th>UMAP43</th>\n",
       "      <th>UMAP44</th>\n",
       "      <th>UMAP45</th>\n",
       "      <th>UMAP46</th>\n",
       "      <th>UMAP47</th>\n",
       "      <th>UMAP48</th>\n",
       "      <th>UMAP49</th>\n",
       "      <th>UMAP50</th>\n",
       "    </tr>\n",
       "  </thead>\n",
       "  <tbody>\n",
       "    <tr>\n",
       "      <th>100001_raw-Food_weight</th>\n",
       "      <td>11.531590</td>\n",
       "      <td>10.773390</td>\n",
       "      <td>10.551500</td>\n",
       "      <td>5.689103</td>\n",
       "      <td>12.646474</td>\n",
       "      <td>8.795625</td>\n",
       "      <td>2.365859</td>\n",
       "      <td>-3.382425</td>\n",
       "      <td>1.458605</td>\n",
       "      <td>14.236823</td>\n",
       "      <td>...</td>\n",
       "      <td>2.214731</td>\n",
       "      <td>9.304909</td>\n",
       "      <td>3.359118</td>\n",
       "      <td>5.211676</td>\n",
       "      <td>1.265622</td>\n",
       "      <td>2.058685</td>\n",
       "      <td>1.291174</td>\n",
       "      <td>1.565621</td>\n",
       "      <td>7.317275</td>\n",
       "      <td>9.037535</td>\n",
       "    </tr>\n",
       "    <tr>\n",
       "      <th>100002_raw-Energy</th>\n",
       "      <td>11.554761</td>\n",
       "      <td>10.753816</td>\n",
       "      <td>10.548004</td>\n",
       "      <td>5.710800</td>\n",
       "      <td>12.674987</td>\n",
       "      <td>8.787647</td>\n",
       "      <td>2.379787</td>\n",
       "      <td>-3.339913</td>\n",
       "      <td>1.442655</td>\n",
       "      <td>14.196218</td>\n",
       "      <td>...</td>\n",
       "      <td>2.237087</td>\n",
       "      <td>9.270699</td>\n",
       "      <td>3.383440</td>\n",
       "      <td>5.185328</td>\n",
       "      <td>1.257113</td>\n",
       "      <td>2.057439</td>\n",
       "      <td>1.290686</td>\n",
       "      <td>1.557209</td>\n",
       "      <td>7.297037</td>\n",
       "      <td>9.009866</td>\n",
       "    </tr>\n",
       "    <tr>\n",
       "      <th>100003_raw-Protein</th>\n",
       "      <td>11.519615</td>\n",
       "      <td>10.786408</td>\n",
       "      <td>10.540249</td>\n",
       "      <td>5.687959</td>\n",
       "      <td>12.628188</td>\n",
       "      <td>8.789925</td>\n",
       "      <td>2.368370</td>\n",
       "      <td>-3.390937</td>\n",
       "      <td>1.464806</td>\n",
       "      <td>14.233623</td>\n",
       "      <td>...</td>\n",
       "      <td>2.216162</td>\n",
       "      <td>9.314158</td>\n",
       "      <td>3.350708</td>\n",
       "      <td>5.226166</td>\n",
       "      <td>1.267382</td>\n",
       "      <td>2.051692</td>\n",
       "      <td>1.305047</td>\n",
       "      <td>1.558942</td>\n",
       "      <td>7.307035</td>\n",
       "      <td>9.042575</td>\n",
       "    </tr>\n",
       "    <tr>\n",
       "      <th>100004_raw-Fat</th>\n",
       "      <td>11.515584</td>\n",
       "      <td>10.756584</td>\n",
       "      <td>10.570711</td>\n",
       "      <td>5.697041</td>\n",
       "      <td>12.661936</td>\n",
       "      <td>8.787330</td>\n",
       "      <td>2.396913</td>\n",
       "      <td>-3.351611</td>\n",
       "      <td>1.435632</td>\n",
       "      <td>14.221588</td>\n",
       "      <td>...</td>\n",
       "      <td>2.214707</td>\n",
       "      <td>9.273252</td>\n",
       "      <td>3.383349</td>\n",
       "      <td>5.220068</td>\n",
       "      <td>1.270067</td>\n",
       "      <td>2.065669</td>\n",
       "      <td>1.281447</td>\n",
       "      <td>1.578588</td>\n",
       "      <td>7.332527</td>\n",
       "      <td>9.005523</td>\n",
       "    </tr>\n",
       "    <tr>\n",
       "      <th>100005_raw-Carbohydrate</th>\n",
       "      <td>11.528723</td>\n",
       "      <td>10.762026</td>\n",
       "      <td>10.566773</td>\n",
       "      <td>5.698555</td>\n",
       "      <td>12.671127</td>\n",
       "      <td>8.791903</td>\n",
       "      <td>2.394764</td>\n",
       "      <td>-3.354370</td>\n",
       "      <td>1.442259</td>\n",
       "      <td>14.226301</td>\n",
       "      <td>...</td>\n",
       "      <td>2.216362</td>\n",
       "      <td>9.275563</td>\n",
       "      <td>3.383139</td>\n",
       "      <td>5.216354</td>\n",
       "      <td>1.269187</td>\n",
       "      <td>2.063429</td>\n",
       "      <td>1.280020</td>\n",
       "      <td>1.577227</td>\n",
       "      <td>7.335059</td>\n",
       "      <td>9.009464</td>\n",
       "    </tr>\n",
       "  </tbody>\n",
       "</table>\n",
       "<p>5 rows × 50 columns</p>\n",
       "</div>"
      ],
      "text/plain": [
       "                             UMAP1      UMAP2      UMAP3     UMAP4      UMAP5  \\\n",
       "100001_raw-Food_weight   11.531590  10.773390  10.551500  5.689103  12.646474   \n",
       "100002_raw-Energy        11.554761  10.753816  10.548004  5.710800  12.674987   \n",
       "100003_raw-Protein       11.519615  10.786408  10.540249  5.687959  12.628188   \n",
       "100004_raw-Fat           11.515584  10.756584  10.570711  5.697041  12.661936   \n",
       "100005_raw-Carbohydrate  11.528723  10.762026  10.566773  5.698555  12.671127   \n",
       "\n",
       "                            UMAP6     UMAP7     UMAP8     UMAP9     UMAP10  \\\n",
       "100001_raw-Food_weight   8.795625  2.365859 -3.382425  1.458605  14.236823   \n",
       "100002_raw-Energy        8.787647  2.379787 -3.339913  1.442655  14.196218   \n",
       "100003_raw-Protein       8.789925  2.368370 -3.390937  1.464806  14.233623   \n",
       "100004_raw-Fat           8.787330  2.396913 -3.351611  1.435632  14.221588   \n",
       "100005_raw-Carbohydrate  8.791903  2.394764 -3.354370  1.442259  14.226301   \n",
       "\n",
       "                         ...    UMAP41    UMAP42    UMAP43    UMAP44  \\\n",
       "100001_raw-Food_weight   ...  2.214731  9.304909  3.359118  5.211676   \n",
       "100002_raw-Energy        ...  2.237087  9.270699  3.383440  5.185328   \n",
       "100003_raw-Protein       ...  2.216162  9.314158  3.350708  5.226166   \n",
       "100004_raw-Fat           ...  2.214707  9.273252  3.383349  5.220068   \n",
       "100005_raw-Carbohydrate  ...  2.216362  9.275563  3.383139  5.216354   \n",
       "\n",
       "                           UMAP45    UMAP46    UMAP47    UMAP48    UMAP49  \\\n",
       "100001_raw-Food_weight   1.265622  2.058685  1.291174  1.565621  7.317275   \n",
       "100002_raw-Energy        1.257113  2.057439  1.290686  1.557209  7.297037   \n",
       "100003_raw-Protein       1.267382  2.051692  1.305047  1.558942  7.307035   \n",
       "100004_raw-Fat           1.270067  2.065669  1.281447  1.578588  7.332527   \n",
       "100005_raw-Carbohydrate  1.269187  2.063429  1.280020  1.577227  7.335059   \n",
       "\n",
       "                           UMAP50  \n",
       "100001_raw-Food_weight   9.037535  \n",
       "100002_raw-Energy        9.009866  \n",
       "100003_raw-Protein       9.042575  \n",
       "100004_raw-Fat           9.005523  \n",
       "100005_raw-Carbohydrate  9.009464  \n",
       "\n",
       "[5 rows x 50 columns]"
      ]
     },
     "execution_count": 12,
     "metadata": {},
     "output_type": "execute_result"
    }
   ],
   "source": [
    "data.head()"
   ]
  },
  {
   "cell_type": "markdown",
   "metadata": {
    "papermill": {
     "duration": 0.025926,
     "end_time": "2021-01-12T00:04:36.340024",
     "exception": false,
     "start_time": "2021-01-12T00:04:36.314098",
     "status": "completed"
    },
    "tags": []
   },
   "source": [
    "# Clustering"
   ]
  },
  {
   "cell_type": "code",
   "execution_count": 13,
   "metadata": {
    "papermill": {
     "duration": 0.046381,
     "end_time": "2021-01-12T00:04:36.412221",
     "exception": false,
     "start_time": "2021-01-12T00:04:36.365840",
     "status": "completed"
    },
    "tags": []
   },
   "outputs": [],
   "source": [
    "from sklearn.cluster import SpectralClustering\n",
    "from sklearn.metrics import silhouette_score, calinski_harabasz_score"
   ]
  },
  {
   "cell_type": "markdown",
   "metadata": {
    "papermill": {
     "duration": 0.025284,
     "end_time": "2021-01-12T00:04:36.463893",
     "exception": false,
     "start_time": "2021-01-12T00:04:36.438609",
     "status": "completed"
    },
    "tags": []
   },
   "source": [
    "## `gamma` parameter"
   ]
  },
  {
   "cell_type": "markdown",
   "metadata": {
    "papermill": {
     "duration": 0.024931,
     "end_time": "2021-01-12T00:04:36.514186",
     "exception": false,
     "start_time": "2021-01-12T00:04:36.489255",
     "status": "completed"
    },
    "tags": []
   },
   "source": [
    "### Using default value (`gamma=1.0`)"
   ]
  },
  {
   "cell_type": "code",
   "execution_count": 14,
   "metadata": {
    "papermill": {
     "duration": 1.616624,
     "end_time": "2021-01-12T00:04:38.156454",
     "exception": false,
     "start_time": "2021-01-12T00:04:36.539830",
     "status": "completed"
    },
    "tags": []
   },
   "outputs": [],
   "source": [
    "with warnings.catch_warnings():\n",
    "    warnings.filterwarnings(\"always\")\n",
    "\n",
    "    clus = SpectralClustering(\n",
    "        eigen_solver=\"arpack\",\n",
    "        #         eigen_tol=1e-3,\n",
    "        n_clusters=2,\n",
    "        n_init=1,\n",
    "        affinity=\"rbf\",\n",
    "        gamma=1.00,\n",
    "        random_state=INITIAL_RANDOM_STATE,\n",
    "    )\n",
    "\n",
    "    part = clus.fit_predict(data)"
   ]
  },
  {
   "cell_type": "code",
   "execution_count": 15,
   "metadata": {
    "papermill": {
     "duration": 0.042681,
     "end_time": "2021-01-12T00:04:38.228316",
     "exception": false,
     "start_time": "2021-01-12T00:04:38.185635",
     "status": "completed"
    },
    "tags": []
   },
   "outputs": [
    {
     "data": {
      "text/plain": [
       "0    3741\n",
       "1       8\n",
       "dtype: int64"
      ]
     },
     "execution_count": 15,
     "metadata": {},
     "output_type": "execute_result"
    }
   ],
   "source": [
    "# show number of clusters and their size\n",
    "pd.Series(part).value_counts()"
   ]
  },
  {
   "cell_type": "code",
   "execution_count": 16,
   "metadata": {
    "papermill": {
     "duration": 0.228941,
     "end_time": "2021-01-12T00:04:38.483713",
     "exception": false,
     "start_time": "2021-01-12T00:04:38.254772",
     "status": "completed"
    },
    "tags": []
   },
   "outputs": [
    {
     "data": {
      "text/plain": [
       "0.8465178"
      ]
     },
     "execution_count": 16,
     "metadata": {},
     "output_type": "execute_result"
    }
   ],
   "source": [
    "# From sklearn website:\n",
    "# The best value is 1 and the worst value is -1. Values near 0 indicate overlapping clusters.\n",
    "# Negative values generally indicate that a sample has been assigned to the wrong cluster,\n",
    "# as a different cluster is more similar\n",
    "silhouette_score(data, part)"
   ]
  },
  {
   "cell_type": "code",
   "execution_count": 17,
   "metadata": {
    "papermill": {
     "duration": 0.043642,
     "end_time": "2021-01-12T00:04:38.553657",
     "exception": false,
     "start_time": "2021-01-12T00:04:38.510015",
     "status": "completed"
    },
    "tags": []
   },
   "outputs": [
    {
     "data": {
      "text/plain": [
       "374.93011416107225"
      ]
     },
     "execution_count": 17,
     "metadata": {},
     "output_type": "execute_result"
    }
   ],
   "source": [
    "# From sklearn website:\n",
    "# The score is defined as ratio between the within-cluster dispersion and the between-cluster dispersion\n",
    "calinski_harabasz_score(data, part)"
   ]
  },
  {
   "cell_type": "markdown",
   "metadata": {
    "papermill": {
     "duration": 0.025853,
     "end_time": "2021-01-12T00:04:38.606274",
     "exception": false,
     "start_time": "2021-01-12T00:04:38.580421",
     "status": "completed"
    },
    "tags": []
   },
   "source": [
    "For default values of `gamma` (`1.0`), the algorithm works fine with this data version."
   ]
  },
  {
   "cell_type": "markdown",
   "metadata": {
    "papermill": {
     "duration": 0.026027,
     "end_time": "2021-01-12T00:04:38.658334",
     "exception": false,
     "start_time": "2021-01-12T00:04:38.632307",
     "status": "completed"
    },
    "tags": []
   },
   "source": [
    "### Using `gamma>1.0` (larger than default value)"
   ]
  },
  {
   "cell_type": "code",
   "execution_count": 18,
   "metadata": {
    "papermill": {
     "duration": 2.737268,
     "end_time": "2021-01-12T00:04:41.421677",
     "exception": false,
     "start_time": "2021-01-12T00:04:38.684409",
     "status": "completed"
    },
    "tags": []
   },
   "outputs": [],
   "source": [
    "with warnings.catch_warnings():\n",
    "    warnings.filterwarnings(\"always\")\n",
    "\n",
    "    clus = SpectralClustering(\n",
    "        eigen_solver=\"arpack\",\n",
    "        #         eigen_tol=1e-4,\n",
    "        n_clusters=2,\n",
    "        n_init=1,\n",
    "        affinity=\"rbf\",\n",
    "        gamma=2.50,\n",
    "        random_state=INITIAL_RANDOM_STATE,\n",
    "    )\n",
    "\n",
    "    part = clus.fit_predict(data)"
   ]
  },
  {
   "cell_type": "code",
   "execution_count": 19,
   "metadata": {
    "papermill": {
     "duration": 0.042521,
     "end_time": "2021-01-12T00:04:41.491767",
     "exception": false,
     "start_time": "2021-01-12T00:04:41.449246",
     "status": "completed"
    },
    "tags": []
   },
   "outputs": [
    {
     "data": {
      "text/plain": [
       "0    3743\n",
       "1       6\n",
       "dtype: int64"
      ]
     },
     "execution_count": 19,
     "metadata": {},
     "output_type": "execute_result"
    }
   ],
   "source": [
    "# show number of clusters and their size\n",
    "pd.Series(part).value_counts()"
   ]
  },
  {
   "cell_type": "code",
   "execution_count": 20,
   "metadata": {
    "papermill": {
     "duration": 0.228676,
     "end_time": "2021-01-12T00:04:41.747749",
     "exception": false,
     "start_time": "2021-01-12T00:04:41.519073",
     "status": "completed"
    },
    "tags": []
   },
   "outputs": [
    {
     "data": {
      "text/plain": [
       "0.34538513"
      ]
     },
     "execution_count": 20,
     "metadata": {},
     "output_type": "execute_result"
    }
   ],
   "source": [
    "# From sklearn website:\n",
    "# The best value is 1 and the worst value is -1. Values near 0 indicate overlapping clusters.\n",
    "# Negative values generally indicate that a sample has been assigned to the wrong cluster,\n",
    "# as a different cluster is more similar\n",
    "silhouette_score(data, part)"
   ]
  },
  {
   "cell_type": "code",
   "execution_count": 21,
   "metadata": {
    "papermill": {
     "duration": 0.044231,
     "end_time": "2021-01-12T00:04:41.819307",
     "exception": false,
     "start_time": "2021-01-12T00:04:41.775076",
     "status": "completed"
    },
    "tags": []
   },
   "outputs": [
    {
     "data": {
      "text/plain": [
       "9.366943594833044"
      ]
     },
     "execution_count": 21,
     "metadata": {},
     "output_type": "execute_result"
    }
   ],
   "source": [
    "# From sklearn website:\n",
    "# The score is defined as ratio between the within-cluster dispersion and the between-cluster dispersion\n",
    "calinski_harabasz_score(data, part)"
   ]
  },
  {
   "cell_type": "markdown",
   "metadata": {
    "papermill": {
     "duration": 0.02723,
     "end_time": "2021-01-12T00:04:41.874245",
     "exception": false,
     "start_time": "2021-01-12T00:04:41.847015",
     "status": "completed"
    },
    "tags": []
   },
   "source": [
    "For `gamma` values largen than the default (`1.0`), quality measures go down."
   ]
  },
  {
   "cell_type": "markdown",
   "metadata": {
    "papermill": {
     "duration": 0.026676,
     "end_time": "2021-01-12T00:04:41.927614",
     "exception": false,
     "start_time": "2021-01-12T00:04:41.900938",
     "status": "completed"
    },
    "tags": []
   },
   "source": [
    "### Using `gamma<1.0` (smaller than default value)"
   ]
  },
  {
   "cell_type": "code",
   "execution_count": 22,
   "metadata": {
    "papermill": {
     "duration": 1.086427,
     "end_time": "2021-01-12T00:04:43.040608",
     "exception": false,
     "start_time": "2021-01-12T00:04:41.954181",
     "status": "completed"
    },
    "tags": []
   },
   "outputs": [],
   "source": [
    "with warnings.catch_warnings():\n",
    "    warnings.filterwarnings(\"always\")\n",
    "\n",
    "    clus = SpectralClustering(\n",
    "        eigen_solver=\"arpack\",\n",
    "        #         eigen_tol=1e-3,\n",
    "        n_clusters=2,\n",
    "        n_init=1,\n",
    "        affinity=\"rbf\",\n",
    "        gamma=0.01,\n",
    "        random_state=INITIAL_RANDOM_STATE,\n",
    "    )\n",
    "\n",
    "    part = clus.fit_predict(data)"
   ]
  },
  {
   "cell_type": "code",
   "execution_count": 23,
   "metadata": {
    "papermill": {
     "duration": 0.046241,
     "end_time": "2021-01-12T00:04:43.119866",
     "exception": false,
     "start_time": "2021-01-12T00:04:43.073625",
     "status": "completed"
    },
    "tags": []
   },
   "outputs": [
    {
     "data": {
      "text/plain": [
       "0    3688\n",
       "1      61\n",
       "dtype: int64"
      ]
     },
     "execution_count": 23,
     "metadata": {},
     "output_type": "execute_result"
    }
   ],
   "source": [
    "# show number of clusters and their size\n",
    "pd.Series(part).value_counts()"
   ]
  },
  {
   "cell_type": "code",
   "execution_count": 24,
   "metadata": {
    "papermill": {
     "duration": 0.228396,
     "end_time": "2021-01-12T00:04:43.375812",
     "exception": false,
     "start_time": "2021-01-12T00:04:43.147416",
     "status": "completed"
    },
    "tags": []
   },
   "outputs": [
    {
     "data": {
      "text/plain": [
       "0.8607793"
      ]
     },
     "execution_count": 24,
     "metadata": {},
     "output_type": "execute_result"
    }
   ],
   "source": [
    "# From sklearn website:\n",
    "# The best value is 1 and the worst value is -1. Values near 0 indicate overlapping clusters.\n",
    "# Negative values generally indicate that a sample has been assigned to the wrong cluster,\n",
    "# as a different cluster is more similar\n",
    "silhouette_score(data, part)"
   ]
  },
  {
   "cell_type": "code",
   "execution_count": 25,
   "metadata": {
    "papermill": {
     "duration": 0.044802,
     "end_time": "2021-01-12T00:04:43.447838",
     "exception": false,
     "start_time": "2021-01-12T00:04:43.403036",
     "status": "completed"
    },
    "tags": []
   },
   "outputs": [
    {
     "data": {
      "text/plain": [
       "4641.627826464735"
      ]
     },
     "execution_count": 25,
     "metadata": {},
     "output_type": "execute_result"
    }
   ],
   "source": [
    "# From sklearn website:\n",
    "# The score is defined as ratio between the within-cluster dispersion and the between-cluster dispersion\n",
    "calinski_harabasz_score(data, part)"
   ]
  },
  {
   "cell_type": "markdown",
   "metadata": {
    "papermill": {
     "duration": 0.027475,
     "end_time": "2021-01-12T00:04:43.504174",
     "exception": false,
     "start_time": "2021-01-12T00:04:43.476699",
     "status": "completed"
    },
    "tags": []
   },
   "source": [
    "For `gamma` values around `0.01`, clustering quality measures improve. I will explore more around these values."
   ]
  },
  {
   "cell_type": "markdown",
   "metadata": {
    "papermill": {
     "duration": 0.027509,
     "end_time": "2021-01-12T00:04:43.558990",
     "exception": false,
     "start_time": "2021-01-12T00:04:43.531481",
     "status": "completed"
    },
    "tags": []
   },
   "source": [
    "## Extended test"
   ]
  },
  {
   "cell_type": "code",
   "execution_count": 26,
   "metadata": {
    "papermill": {
     "duration": 0.04454,
     "end_time": "2021-01-12T00:04:43.631125",
     "exception": false,
     "start_time": "2021-01-12T00:04:43.586585",
     "status": "completed"
    },
    "tags": []
   },
   "outputs": [
    {
     "data": {
      "text/plain": [
       "{'K_RANGE': [2, 4, 6, 8, 10, 20, 30, 40, 50, 60],\n",
       " 'N_REPS_PER_K': 5,\n",
       " 'KMEANS_N_INIT': 10,\n",
       " 'GAMMAS': [1.0, 0.01, 1e-05, 1e-10, 1e-15, 1e-20, 1e-50],\n",
       " 'AFFINITY': 'rbf'}"
      ]
     },
     "metadata": {},
     "output_type": "display_data"
    }
   ],
   "source": [
    "CLUSTERING_OPTIONS = {}\n",
    "\n",
    "CLUSTERING_OPTIONS[\"K_RANGE\"] = [2, 4, 6, 8, 10, 20, 30, 40, 50, 60]\n",
    "CLUSTERING_OPTIONS[\"N_REPS_PER_K\"] = 5\n",
    "CLUSTERING_OPTIONS[\"KMEANS_N_INIT\"] = 10\n",
    "CLUSTERING_OPTIONS[\"GAMMAS\"] = [\n",
    "    1.00,\n",
    "    1e-02,\n",
    "    #     1e-04,\n",
    "    #     1e-05,\n",
    "    1e-05,\n",
    "    #     1e-06,\n",
    "    #     1e-07,\n",
    "    #     1e-08,\n",
    "    #     1e-09,\n",
    "    1e-10,\n",
    "    #     1e-11,\n",
    "    #     1e-12,\n",
    "    #     1e-13,\n",
    "    #     1e-14,\n",
    "    1e-15,\n",
    "    #     1e-17,\n",
    "    1e-20,\n",
    "    #     1e-30,\n",
    "    #     1e-40,\n",
    "    1e-50,\n",
    "]\n",
    "CLUSTERING_OPTIONS[\"AFFINITY\"] = \"rbf\"\n",
    "\n",
    "display(CLUSTERING_OPTIONS)"
   ]
  },
  {
   "cell_type": "code",
   "execution_count": 27,
   "metadata": {
    "papermill": {
     "duration": 0.067258,
     "end_time": "2021-01-12T00:04:43.727102",
     "exception": false,
     "start_time": "2021-01-12T00:04:43.659844",
     "status": "completed"
    },
    "tags": []
   },
   "outputs": [],
   "source": [
    "CLUSTERERS = {}\n",
    "\n",
    "idx = 0\n",
    "random_state = INITIAL_RANDOM_STATE\n",
    "\n",
    "for k in CLUSTERING_OPTIONS[\"K_RANGE\"]:\n",
    "    for gamma_value in CLUSTERING_OPTIONS[\"GAMMAS\"]:\n",
    "        for i in range(CLUSTERING_OPTIONS[\"N_REPS_PER_K\"]):\n",
    "            clus = SpectralClustering(\n",
    "                eigen_solver=\"arpack\",\n",
    "                n_clusters=k,\n",
    "                n_init=CLUSTERING_OPTIONS[\"KMEANS_N_INIT\"],\n",
    "                affinity=CLUSTERING_OPTIONS[\"AFFINITY\"],\n",
    "                gamma=gamma_value,\n",
    "                random_state=random_state,\n",
    "            )\n",
    "\n",
    "            method_name = type(clus).__name__\n",
    "            CLUSTERERS[f\"{method_name} #{idx}\"] = clus\n",
    "\n",
    "            random_state = random_state + 1\n",
    "            idx = idx + 1"
   ]
  },
  {
   "cell_type": "code",
   "execution_count": 28,
   "metadata": {
    "papermill": {
     "duration": 0.043223,
     "end_time": "2021-01-12T00:04:43.806644",
     "exception": false,
     "start_time": "2021-01-12T00:04:43.763421",
     "status": "completed"
    },
    "tags": []
   },
   "outputs": [
    {
     "data": {
      "text/plain": [
       "350"
      ]
     },
     "metadata": {},
     "output_type": "display_data"
    }
   ],
   "source": [
    "display(len(CLUSTERERS))"
   ]
  },
  {
   "cell_type": "code",
   "execution_count": 29,
   "metadata": {
    "papermill": {
     "duration": 0.045847,
     "end_time": "2021-01-12T00:04:43.881655",
     "exception": false,
     "start_time": "2021-01-12T00:04:43.835808",
     "status": "completed"
    },
    "tags": []
   },
   "outputs": [
    {
     "data": {
      "text/plain": [
       "('SpectralClustering #0',\n",
       " SpectralClustering(eigen_solver='arpack', n_clusters=2, random_state=50000))"
      ]
     },
     "metadata": {},
     "output_type": "display_data"
    },
    {
     "data": {
      "text/plain": [
       "('SpectralClustering #1',\n",
       " SpectralClustering(eigen_solver='arpack', n_clusters=2, random_state=50001))"
      ]
     },
     "metadata": {},
     "output_type": "display_data"
    }
   ],
   "source": [
    "_iter = iter(CLUSTERERS.items())\n",
    "display(next(_iter))\n",
    "display(next(_iter))"
   ]
  },
  {
   "cell_type": "code",
   "execution_count": 30,
   "metadata": {
    "papermill": {
     "duration": 0.044003,
     "end_time": "2021-01-12T00:04:43.955232",
     "exception": false,
     "start_time": "2021-01-12T00:04:43.911229",
     "status": "completed"
    },
    "tags": []
   },
   "outputs": [
    {
     "data": {
      "text/plain": [
       "'SpectralClustering'"
      ]
     },
     "metadata": {},
     "output_type": "display_data"
    }
   ],
   "source": [
    "clustering_method_name = method_name\n",
    "display(clustering_method_name)"
   ]
  },
  {
   "cell_type": "markdown",
   "metadata": {
    "papermill": {
     "duration": 0.028723,
     "end_time": "2021-01-12T00:04:44.013942",
     "exception": false,
     "start_time": "2021-01-12T00:04:43.985219",
     "status": "completed"
    },
    "tags": []
   },
   "source": [
    "## Generate ensemble"
   ]
  },
  {
   "cell_type": "code",
   "execution_count": 31,
   "metadata": {
    "papermill": {
     "duration": 0.046624,
     "end_time": "2021-01-12T00:04:44.092115",
     "exception": false,
     "start_time": "2021-01-12T00:04:44.045491",
     "status": "completed"
    },
    "tags": []
   },
   "outputs": [],
   "source": [
    "import tempfile\n",
    "from clustering.ensemble import generate_ensemble"
   ]
  },
  {
   "cell_type": "code",
   "execution_count": 32,
   "metadata": {
    "papermill": {
     "duration": 0.044297,
     "end_time": "2021-01-12T00:04:44.166073",
     "exception": false,
     "start_time": "2021-01-12T00:04:44.121776",
     "status": "completed"
    },
    "tags": []
   },
   "outputs": [],
   "source": [
    "# generate a temporary folder where to store the ensemble and avoid computing it again\n",
    "ensemble_folder = Path(\n",
    "    tempfile.gettempdir(),\n",
    "    f\"pre_cluster_analysis\",\n",
    "    clustering_method_name,\n",
    ").resolve()\n",
    "ensemble_folder.mkdir(parents=True, exist_ok=True)"
   ]
  },
  {
   "cell_type": "code",
   "execution_count": 33,
   "metadata": {
    "papermill": {
     "duration": 0.044588,
     "end_time": "2021-01-12T00:04:44.240454",
     "exception": false,
     "start_time": "2021-01-12T00:04:44.195866",
     "status": "completed"
    },
    "tags": []
   },
   "outputs": [
    {
     "data": {
      "text/plain": [
       "PosixPath('/tmp/pre_cluster_analysis/SpectralClustering/ensemble-umap-AFFINITY_rbf-GAMMAS_10_001_1e_05_1e_10_1e_15_1e_20_1e_50-KMEANS_N_INIT_10-K_RANGE_2_4_6_8_10_20_30_40_50_60-N_REPS_PER_K_5.pkl')"
      ]
     },
     "metadata": {},
     "output_type": "display_data"
    }
   ],
   "source": [
    "ensemble_file = Path(\n",
    "    ensemble_folder,\n",
    "    generate_result_set_name(\n",
    "        CLUSTERING_OPTIONS, prefix=f\"ensemble-{INPUT_SUBSET}-\", suffix=\".pkl\"\n",
    "    ),\n",
    ")\n",
    "display(ensemble_file)"
   ]
  },
  {
   "cell_type": "code",
   "execution_count": 34,
   "metadata": {
    "papermill": {
     "duration": 907.691788,
     "end_time": "2021-01-12T00:19:51.962294",
     "exception": false,
     "start_time": "2021-01-12T00:04:44.270506",
     "status": "completed"
    },
    "tags": []
   },
   "outputs": [
    {
     "name": "stderr",
     "output_type": "stream",
     "text": [
      "100%|██████████| 350/350 [15:35<00:00,  2.67s/it]\n"
     ]
    }
   ],
   "source": [
    "if ensemble_file.exists():\n",
    "    display(f\"Ensemble file exists\")\n",
    "    ensemble = pd.read_pickle(ensemble_file)\n",
    "else:\n",
    "    ensemble = generate_ensemble(\n",
    "        data,\n",
    "        CLUSTERERS,\n",
    "        attributes=[\"n_clusters\", \"gamma\"],\n",
    "    )\n",
    "\n",
    "    ensemble.to_pickle(ensemble_file)"
   ]
  },
  {
   "cell_type": "code",
   "execution_count": 35,
   "metadata": {
    "papermill": {
     "duration": 0.099107,
     "end_time": "2021-01-12T00:19:52.149770",
     "exception": false,
     "start_time": "2021-01-12T00:19:52.050663",
     "status": "completed"
    },
    "tags": []
   },
   "outputs": [
    {
     "data": {
      "text/plain": [
       "(350, 4)"
      ]
     },
     "execution_count": 35,
     "metadata": {},
     "output_type": "execute_result"
    }
   ],
   "source": [
    "ensemble.shape"
   ]
  },
  {
   "cell_type": "code",
   "execution_count": 36,
   "metadata": {
    "papermill": {
     "duration": 0.107519,
     "end_time": "2021-01-12T00:19:52.342025",
     "exception": false,
     "start_time": "2021-01-12T00:19:52.234506",
     "status": "completed"
    },
    "tags": []
   },
   "outputs": [
    {
     "data": {
      "text/html": [
       "<div>\n",
       "<style scoped>\n",
       "    .dataframe tbody tr th:only-of-type {\n",
       "        vertical-align: middle;\n",
       "    }\n",
       "\n",
       "    .dataframe tbody tr th {\n",
       "        vertical-align: top;\n",
       "    }\n",
       "\n",
       "    .dataframe thead th {\n",
       "        text-align: right;\n",
       "    }\n",
       "</style>\n",
       "<table border=\"1\" class=\"dataframe\">\n",
       "  <thead>\n",
       "    <tr style=\"text-align: right;\">\n",
       "      <th></th>\n",
       "      <th>clusterer_params</th>\n",
       "      <th>partition</th>\n",
       "      <th>n_clusters</th>\n",
       "      <th>gamma</th>\n",
       "    </tr>\n",
       "    <tr>\n",
       "      <th>clusterer_id</th>\n",
       "      <th></th>\n",
       "      <th></th>\n",
       "      <th></th>\n",
       "      <th></th>\n",
       "    </tr>\n",
       "  </thead>\n",
       "  <tbody>\n",
       "    <tr>\n",
       "      <th>SpectralClustering #0</th>\n",
       "      <td>{'affinity': 'rbf', 'assign_labels': 'kmeans',...</td>\n",
       "      <td>[0.0, 0.0, 0.0, 0.0, 0.0, 0.0, 0.0, 0.0, 0.0, ...</td>\n",
       "      <td>2</td>\n",
       "      <td>1.0</td>\n",
       "    </tr>\n",
       "    <tr>\n",
       "      <th>SpectralClustering #1</th>\n",
       "      <td>{'affinity': 'rbf', 'assign_labels': 'kmeans',...</td>\n",
       "      <td>[0.0, 0.0, 0.0, 0.0, 0.0, 0.0, 0.0, 0.0, 0.0, ...</td>\n",
       "      <td>2</td>\n",
       "      <td>1.0</td>\n",
       "    </tr>\n",
       "    <tr>\n",
       "      <th>SpectralClustering #2</th>\n",
       "      <td>{'affinity': 'rbf', 'assign_labels': 'kmeans',...</td>\n",
       "      <td>[0.0, 0.0, 0.0, 0.0, 0.0, 0.0, 0.0, 0.0, 0.0, ...</td>\n",
       "      <td>2</td>\n",
       "      <td>1.0</td>\n",
       "    </tr>\n",
       "    <tr>\n",
       "      <th>SpectralClustering #3</th>\n",
       "      <td>{'affinity': 'rbf', 'assign_labels': 'kmeans',...</td>\n",
       "      <td>[0.0, 0.0, 0.0, 0.0, 0.0, 0.0, 0.0, 0.0, 0.0, ...</td>\n",
       "      <td>2</td>\n",
       "      <td>1.0</td>\n",
       "    </tr>\n",
       "    <tr>\n",
       "      <th>SpectralClustering #4</th>\n",
       "      <td>{'affinity': 'rbf', 'assign_labels': 'kmeans',...</td>\n",
       "      <td>[0.0, 0.0, 0.0, 0.0, 0.0, 0.0, 0.0, 0.0, 0.0, ...</td>\n",
       "      <td>2</td>\n",
       "      <td>1.0</td>\n",
       "    </tr>\n",
       "  </tbody>\n",
       "</table>\n",
       "</div>"
      ],
      "text/plain": [
       "                                                        clusterer_params  \\\n",
       "clusterer_id                                                               \n",
       "SpectralClustering #0  {'affinity': 'rbf', 'assign_labels': 'kmeans',...   \n",
       "SpectralClustering #1  {'affinity': 'rbf', 'assign_labels': 'kmeans',...   \n",
       "SpectralClustering #2  {'affinity': 'rbf', 'assign_labels': 'kmeans',...   \n",
       "SpectralClustering #3  {'affinity': 'rbf', 'assign_labels': 'kmeans',...   \n",
       "SpectralClustering #4  {'affinity': 'rbf', 'assign_labels': 'kmeans',...   \n",
       "\n",
       "                                                               partition  \\\n",
       "clusterer_id                                                               \n",
       "SpectralClustering #0  [0.0, 0.0, 0.0, 0.0, 0.0, 0.0, 0.0, 0.0, 0.0, ...   \n",
       "SpectralClustering #1  [0.0, 0.0, 0.0, 0.0, 0.0, 0.0, 0.0, 0.0, 0.0, ...   \n",
       "SpectralClustering #2  [0.0, 0.0, 0.0, 0.0, 0.0, 0.0, 0.0, 0.0, 0.0, ...   \n",
       "SpectralClustering #3  [0.0, 0.0, 0.0, 0.0, 0.0, 0.0, 0.0, 0.0, 0.0, ...   \n",
       "SpectralClustering #4  [0.0, 0.0, 0.0, 0.0, 0.0, 0.0, 0.0, 0.0, 0.0, ...   \n",
       "\n",
       "                       n_clusters  gamma  \n",
       "clusterer_id                              \n",
       "SpectralClustering #0           2    1.0  \n",
       "SpectralClustering #1           2    1.0  \n",
       "SpectralClustering #2           2    1.0  \n",
       "SpectralClustering #3           2    1.0  \n",
       "SpectralClustering #4           2    1.0  "
      ]
     },
     "execution_count": 36,
     "metadata": {},
     "output_type": "execute_result"
    }
   ],
   "source": [
    "ensemble.head()"
   ]
  },
  {
   "cell_type": "code",
   "execution_count": 37,
   "metadata": {
    "papermill": {
     "duration": 0.099877,
     "end_time": "2021-01-12T00:19:52.526522",
     "exception": false,
     "start_time": "2021-01-12T00:19:52.426645",
     "status": "completed"
    },
    "tags": []
   },
   "outputs": [],
   "source": [
    "ensemble[\"gamma\"] = ensemble[\"gamma\"].apply(lambda x: f\"{x:.1e}\")"
   ]
  },
  {
   "cell_type": "code",
   "execution_count": 38,
   "metadata": {
    "papermill": {
     "duration": 0.103496,
     "end_time": "2021-01-12T00:19:52.714478",
     "exception": false,
     "start_time": "2021-01-12T00:19:52.610982",
     "status": "completed"
    },
    "tags": []
   },
   "outputs": [
    {
     "data": {
      "text/plain": [
       "60    35\n",
       "50    35\n",
       "40    35\n",
       "30    35\n",
       "20    35\n",
       "10    35\n",
       "8     35\n",
       "6     35\n",
       "4     35\n",
       "2     35\n",
       "Name: n_clusters, dtype: int64"
      ]
     },
     "execution_count": 38,
     "metadata": {},
     "output_type": "execute_result"
    }
   ],
   "source": [
    "ensemble[\"n_clusters\"].value_counts()"
   ]
  },
  {
   "cell_type": "code",
   "execution_count": 39,
   "metadata": {
    "papermill": {
     "duration": 0.099175,
     "end_time": "2021-01-12T00:19:52.899569",
     "exception": false,
     "start_time": "2021-01-12T00:19:52.800394",
     "status": "completed"
    },
    "tags": []
   },
   "outputs": [],
   "source": [
    "_tmp = ensemble[\"n_clusters\"].value_counts().unique()\n",
    "assert _tmp.shape[0] == 1\n",
    "assert _tmp[0] == int(\n",
    "    CLUSTERING_OPTIONS[\"N_REPS_PER_K\"] * len(CLUSTERING_OPTIONS[\"GAMMAS\"])\n",
    ")"
   ]
  },
  {
   "cell_type": "code",
   "execution_count": 40,
   "metadata": {
    "papermill": {
     "duration": 0.103594,
     "end_time": "2021-01-12T00:19:53.087459",
     "exception": false,
     "start_time": "2021-01-12T00:19:52.983865",
     "status": "completed"
    },
    "tags": []
   },
   "outputs": [
    {
     "data": {
      "text/plain": [
       "count    350.000000\n",
       "mean      23.000000\n",
       "std       19.852609\n",
       "min        2.000000\n",
       "25%        6.000000\n",
       "50%       15.000000\n",
       "75%       40.000000\n",
       "max       60.000000\n",
       "Name: n_clusters, dtype: float64"
      ]
     },
     "metadata": {},
     "output_type": "display_data"
    }
   ],
   "source": [
    "ensemble_stats = ensemble[\"n_clusters\"].describe()\n",
    "display(ensemble_stats)"
   ]
  },
  {
   "cell_type": "markdown",
   "metadata": {
    "papermill": {
     "duration": 0.085376,
     "end_time": "2021-01-12T00:19:53.258528",
     "exception": false,
     "start_time": "2021-01-12T00:19:53.173152",
     "status": "completed"
    },
    "tags": []
   },
   "source": [
    "### Testing"
   ]
  },
  {
   "cell_type": "code",
   "execution_count": 41,
   "metadata": {
    "papermill": {
     "duration": 0.099805,
     "end_time": "2021-01-12T00:19:53.443507",
     "exception": false,
     "start_time": "2021-01-12T00:19:53.343702",
     "status": "completed"
    },
    "tags": []
   },
   "outputs": [],
   "source": [
    "assert ensemble_stats[\"min\"] > 1"
   ]
  },
  {
   "cell_type": "code",
   "execution_count": 42,
   "metadata": {
    "papermill": {
     "duration": 0.101876,
     "end_time": "2021-01-12T00:19:53.631463",
     "exception": false,
     "start_time": "2021-01-12T00:19:53.529587",
     "status": "completed"
    },
    "tags": []
   },
   "outputs": [],
   "source": [
    "assert not ensemble[\"n_clusters\"].isna().any()"
   ]
  },
  {
   "cell_type": "code",
   "execution_count": 43,
   "metadata": {
    "papermill": {
     "duration": 0.100506,
     "end_time": "2021-01-12T00:19:53.821413",
     "exception": false,
     "start_time": "2021-01-12T00:19:53.720907",
     "status": "completed"
    },
    "tags": []
   },
   "outputs": [],
   "source": [
    "assert ensemble.shape[0] == len(CLUSTERERS)"
   ]
  },
  {
   "cell_type": "code",
   "execution_count": 44,
   "metadata": {
    "papermill": {
     "duration": 0.122488,
     "end_time": "2021-01-12T00:19:54.030014",
     "exception": false,
     "start_time": "2021-01-12T00:19:53.907526",
     "status": "completed"
    },
    "tags": []
   },
   "outputs": [],
   "source": [
    "# all partitions have the right size\n",
    "assert np.all(\n",
    "    [part[\"partition\"].shape[0] == data.shape[0] for idx, part in ensemble.iterrows()]\n",
    ")"
   ]
  },
  {
   "cell_type": "code",
   "execution_count": 45,
   "metadata": {
    "papermill": {
     "duration": 0.125627,
     "end_time": "2021-01-12T00:19:54.241730",
     "exception": false,
     "start_time": "2021-01-12T00:19:54.116103",
     "status": "completed"
    },
    "tags": []
   },
   "outputs": [],
   "source": [
    "# no partition has negative clusters (noisy points)\n",
    "assert not np.any([(part[\"partition\"] < 0).any() for idx, part in ensemble.iterrows()])"
   ]
  },
  {
   "cell_type": "code",
   "execution_count": 46,
   "metadata": {
    "papermill": {
     "duration": 0.131934,
     "end_time": "2021-01-12T00:19:54.460396",
     "exception": false,
     "start_time": "2021-01-12T00:19:54.328462",
     "status": "completed"
    },
    "tags": []
   },
   "outputs": [
    {
     "data": {
      "text/plain": [
       "clusterer_id\n",
       "SpectralClustering #0       2\n",
       "SpectralClustering #1       2\n",
       "SpectralClustering #2       2\n",
       "SpectralClustering #3       2\n",
       "SpectralClustering #4       2\n",
       "                           ..\n",
       "SpectralClustering #345    60\n",
       "SpectralClustering #346    60\n",
       "SpectralClustering #347    60\n",
       "SpectralClustering #348    60\n",
       "SpectralClustering #349    60\n",
       "Name: partition, Length: 350, dtype: int64"
      ]
     },
     "metadata": {},
     "output_type": "display_data"
    }
   ],
   "source": [
    "# check that the number of clusters in the partitions are the expected ones\n",
    "_real_k_values = ensemble[\"partition\"].apply(lambda x: np.unique(x).shape[0])\n",
    "display(_real_k_values)\n",
    "assert np.all(ensemble[\"n_clusters\"].values == _real_k_values.values)"
   ]
  },
  {
   "cell_type": "markdown",
   "metadata": {
    "papermill": {
     "duration": 0.085352,
     "end_time": "2021-01-12T00:19:54.632439",
     "exception": false,
     "start_time": "2021-01-12T00:19:54.547087",
     "status": "completed"
    },
    "tags": []
   },
   "source": [
    "### Add clustering quality measures"
   ]
  },
  {
   "cell_type": "code",
   "execution_count": 47,
   "metadata": {
    "papermill": {
     "duration": 1.096819,
     "end_time": "2021-01-12T00:19:55.818125",
     "exception": false,
     "start_time": "2021-01-12T00:19:54.721306",
     "status": "completed"
    },
    "tags": []
   },
   "outputs": [],
   "source": [
    "ensemble = ensemble.assign(\n",
    "    ch_score=ensemble[\"partition\"].apply(lambda x: calinski_harabasz_score(data, x))\n",
    ")"
   ]
  },
  {
   "cell_type": "code",
   "execution_count": 48,
   "metadata": {
    "papermill": {
     "duration": 0.100981,
     "end_time": "2021-01-12T00:19:56.005177",
     "exception": false,
     "start_time": "2021-01-12T00:19:55.904196",
     "status": "completed"
    },
    "tags": []
   },
   "outputs": [
    {
     "data": {
      "text/plain": [
       "(350, 5)"
      ]
     },
     "execution_count": 48,
     "metadata": {},
     "output_type": "execute_result"
    }
   ],
   "source": [
    "ensemble.shape"
   ]
  },
  {
   "cell_type": "code",
   "execution_count": 49,
   "metadata": {
    "papermill": {
     "duration": 0.114944,
     "end_time": "2021-01-12T00:19:56.224253",
     "exception": false,
     "start_time": "2021-01-12T00:19:56.109309",
     "status": "completed"
    },
    "tags": []
   },
   "outputs": [
    {
     "data": {
      "text/html": [
       "<div>\n",
       "<style scoped>\n",
       "    .dataframe tbody tr th:only-of-type {\n",
       "        vertical-align: middle;\n",
       "    }\n",
       "\n",
       "    .dataframe tbody tr th {\n",
       "        vertical-align: top;\n",
       "    }\n",
       "\n",
       "    .dataframe thead th {\n",
       "        text-align: right;\n",
       "    }\n",
       "</style>\n",
       "<table border=\"1\" class=\"dataframe\">\n",
       "  <thead>\n",
       "    <tr style=\"text-align: right;\">\n",
       "      <th></th>\n",
       "      <th>clusterer_params</th>\n",
       "      <th>partition</th>\n",
       "      <th>n_clusters</th>\n",
       "      <th>gamma</th>\n",
       "      <th>ch_score</th>\n",
       "    </tr>\n",
       "    <tr>\n",
       "      <th>clusterer_id</th>\n",
       "      <th></th>\n",
       "      <th></th>\n",
       "      <th></th>\n",
       "      <th></th>\n",
       "      <th></th>\n",
       "    </tr>\n",
       "  </thead>\n",
       "  <tbody>\n",
       "    <tr>\n",
       "      <th>SpectralClustering #0</th>\n",
       "      <td>{'affinity': 'rbf', 'assign_labels': 'kmeans',...</td>\n",
       "      <td>[0.0, 0.0, 0.0, 0.0, 0.0, 0.0, 0.0, 0.0, 0.0, ...</td>\n",
       "      <td>2</td>\n",
       "      <td>1.0e+00</td>\n",
       "      <td>374.930114</td>\n",
       "    </tr>\n",
       "    <tr>\n",
       "      <th>SpectralClustering #1</th>\n",
       "      <td>{'affinity': 'rbf', 'assign_labels': 'kmeans',...</td>\n",
       "      <td>[0.0, 0.0, 0.0, 0.0, 0.0, 0.0, 0.0, 0.0, 0.0, ...</td>\n",
       "      <td>2</td>\n",
       "      <td>1.0e+00</td>\n",
       "      <td>719.462482</td>\n",
       "    </tr>\n",
       "    <tr>\n",
       "      <th>SpectralClustering #2</th>\n",
       "      <td>{'affinity': 'rbf', 'assign_labels': 'kmeans',...</td>\n",
       "      <td>[0.0, 0.0, 0.0, 0.0, 0.0, 0.0, 0.0, 0.0, 0.0, ...</td>\n",
       "      <td>2</td>\n",
       "      <td>1.0e+00</td>\n",
       "      <td>374.930114</td>\n",
       "    </tr>\n",
       "    <tr>\n",
       "      <th>SpectralClustering #3</th>\n",
       "      <td>{'affinity': 'rbf', 'assign_labels': 'kmeans',...</td>\n",
       "      <td>[0.0, 0.0, 0.0, 0.0, 0.0, 0.0, 0.0, 0.0, 0.0, ...</td>\n",
       "      <td>2</td>\n",
       "      <td>1.0e+00</td>\n",
       "      <td>413.556449</td>\n",
       "    </tr>\n",
       "    <tr>\n",
       "      <th>SpectralClustering #4</th>\n",
       "      <td>{'affinity': 'rbf', 'assign_labels': 'kmeans',...</td>\n",
       "      <td>[0.0, 0.0, 0.0, 0.0, 0.0, 0.0, 0.0, 0.0, 0.0, ...</td>\n",
       "      <td>2</td>\n",
       "      <td>1.0e+00</td>\n",
       "      <td>719.462482</td>\n",
       "    </tr>\n",
       "  </tbody>\n",
       "</table>\n",
       "</div>"
      ],
      "text/plain": [
       "                                                        clusterer_params  \\\n",
       "clusterer_id                                                               \n",
       "SpectralClustering #0  {'affinity': 'rbf', 'assign_labels': 'kmeans',...   \n",
       "SpectralClustering #1  {'affinity': 'rbf', 'assign_labels': 'kmeans',...   \n",
       "SpectralClustering #2  {'affinity': 'rbf', 'assign_labels': 'kmeans',...   \n",
       "SpectralClustering #3  {'affinity': 'rbf', 'assign_labels': 'kmeans',...   \n",
       "SpectralClustering #4  {'affinity': 'rbf', 'assign_labels': 'kmeans',...   \n",
       "\n",
       "                                                               partition  \\\n",
       "clusterer_id                                                               \n",
       "SpectralClustering #0  [0.0, 0.0, 0.0, 0.0, 0.0, 0.0, 0.0, 0.0, 0.0, ...   \n",
       "SpectralClustering #1  [0.0, 0.0, 0.0, 0.0, 0.0, 0.0, 0.0, 0.0, 0.0, ...   \n",
       "SpectralClustering #2  [0.0, 0.0, 0.0, 0.0, 0.0, 0.0, 0.0, 0.0, 0.0, ...   \n",
       "SpectralClustering #3  [0.0, 0.0, 0.0, 0.0, 0.0, 0.0, 0.0, 0.0, 0.0, ...   \n",
       "SpectralClustering #4  [0.0, 0.0, 0.0, 0.0, 0.0, 0.0, 0.0, 0.0, 0.0, ...   \n",
       "\n",
       "                       n_clusters    gamma    ch_score  \n",
       "clusterer_id                                            \n",
       "SpectralClustering #0           2  1.0e+00  374.930114  \n",
       "SpectralClustering #1           2  1.0e+00  719.462482  \n",
       "SpectralClustering #2           2  1.0e+00  374.930114  \n",
       "SpectralClustering #3           2  1.0e+00  413.556449  \n",
       "SpectralClustering #4           2  1.0e+00  719.462482  "
      ]
     },
     "execution_count": 49,
     "metadata": {},
     "output_type": "execute_result"
    }
   ],
   "source": [
    "ensemble.head()"
   ]
  },
  {
   "cell_type": "markdown",
   "metadata": {
    "papermill": {
     "duration": 0.088371,
     "end_time": "2021-01-12T00:19:56.399103",
     "exception": false,
     "start_time": "2021-01-12T00:19:56.310732",
     "status": "completed"
    },
    "tags": []
   },
   "source": [
    "# Cluster quality"
   ]
  },
  {
   "cell_type": "code",
   "execution_count": 50,
   "metadata": {
    "papermill": {
     "duration": 0.110802,
     "end_time": "2021-01-12T00:19:56.597167",
     "exception": false,
     "start_time": "2021-01-12T00:19:56.486365",
     "status": "completed"
    },
    "tags": []
   },
   "outputs": [
    {
     "data": {
      "text/html": [
       "<div>\n",
       "<style scoped>\n",
       "    .dataframe tbody tr th:only-of-type {\n",
       "        vertical-align: middle;\n",
       "    }\n",
       "\n",
       "    .dataframe tbody tr th {\n",
       "        vertical-align: top;\n",
       "    }\n",
       "\n",
       "    .dataframe thead th {\n",
       "        text-align: right;\n",
       "    }\n",
       "</style>\n",
       "<table border=\"1\" class=\"dataframe\">\n",
       "  <thead>\n",
       "    <tr style=\"text-align: right;\">\n",
       "      <th></th>\n",
       "      <th></th>\n",
       "      <th>ch_score</th>\n",
       "    </tr>\n",
       "    <tr>\n",
       "      <th>n_clusters</th>\n",
       "      <th>gamma</th>\n",
       "      <th></th>\n",
       "    </tr>\n",
       "  </thead>\n",
       "  <tbody>\n",
       "    <tr>\n",
       "      <th rowspan=\"7\" valign=\"top\">2</th>\n",
       "      <th>1.0e+00</th>\n",
       "      <td>520.468328</td>\n",
       "    </tr>\n",
       "    <tr>\n",
       "      <th>1.0e-02</th>\n",
       "      <td>4641.627826</td>\n",
       "    </tr>\n",
       "    <tr>\n",
       "      <th>1.0e-05</th>\n",
       "      <td>4641.627826</td>\n",
       "    </tr>\n",
       "    <tr>\n",
       "      <th>1.0e-10</th>\n",
       "      <td>4641.627826</td>\n",
       "    </tr>\n",
       "    <tr>\n",
       "      <th>1.0e-15</th>\n",
       "      <td>2994.856767</td>\n",
       "    </tr>\n",
       "    <tr>\n",
       "      <th>1.0e-20</th>\n",
       "      <td>1.555651</td>\n",
       "    </tr>\n",
       "    <tr>\n",
       "      <th>1.0e-50</th>\n",
       "      <td>0.628387</td>\n",
       "    </tr>\n",
       "    <tr>\n",
       "      <th rowspan=\"7\" valign=\"top\">4</th>\n",
       "      <th>1.0e+00</th>\n",
       "      <td>1692.619885</td>\n",
       "    </tr>\n",
       "    <tr>\n",
       "      <th>1.0e-02</th>\n",
       "      <td>2227.943399</td>\n",
       "    </tr>\n",
       "    <tr>\n",
       "      <th>1.0e-05</th>\n",
       "      <td>2778.678882</td>\n",
       "    </tr>\n",
       "    <tr>\n",
       "      <th>1.0e-10</th>\n",
       "      <td>2778.678882</td>\n",
       "    </tr>\n",
       "    <tr>\n",
       "      <th>1.0e-15</th>\n",
       "      <td>1182.736970</td>\n",
       "    </tr>\n",
       "    <tr>\n",
       "      <th>1.0e-20</th>\n",
       "      <td>1.055209</td>\n",
       "    </tr>\n",
       "    <tr>\n",
       "      <th>1.0e-50</th>\n",
       "      <td>0.632861</td>\n",
       "    </tr>\n",
       "    <tr>\n",
       "      <th rowspan=\"7\" valign=\"top\">6</th>\n",
       "      <th>1.0e+00</th>\n",
       "      <td>1630.354090</td>\n",
       "    </tr>\n",
       "    <tr>\n",
       "      <th>1.0e-02</th>\n",
       "      <td>2011.776339</td>\n",
       "    </tr>\n",
       "    <tr>\n",
       "      <th>1.0e-05</th>\n",
       "      <td>1922.578744</td>\n",
       "    </tr>\n",
       "    <tr>\n",
       "      <th>1.0e-10</th>\n",
       "      <td>1922.733430</td>\n",
       "    </tr>\n",
       "    <tr>\n",
       "      <th>1.0e-15</th>\n",
       "      <td>722.046031</td>\n",
       "    </tr>\n",
       "    <tr>\n",
       "      <th>1.0e-20</th>\n",
       "      <td>1.084908</td>\n",
       "    </tr>\n",
       "    <tr>\n",
       "      <th>1.0e-50</th>\n",
       "      <td>1.070153</td>\n",
       "    </tr>\n",
       "    <tr>\n",
       "      <th rowspan=\"7\" valign=\"top\">8</th>\n",
       "      <th>1.0e+00</th>\n",
       "      <td>818.554458</td>\n",
       "    </tr>\n",
       "    <tr>\n",
       "      <th>1.0e-02</th>\n",
       "      <td>1543.156782</td>\n",
       "    </tr>\n",
       "    <tr>\n",
       "      <th>1.0e-05</th>\n",
       "      <td>1530.975222</td>\n",
       "    </tr>\n",
       "    <tr>\n",
       "      <th>1.0e-10</th>\n",
       "      <td>1531.434401</td>\n",
       "    </tr>\n",
       "    <tr>\n",
       "      <th>1.0e-15</th>\n",
       "      <td>456.436194</td>\n",
       "    </tr>\n",
       "    <tr>\n",
       "      <th>1.0e-20</th>\n",
       "      <td>1.764852</td>\n",
       "    </tr>\n",
       "    <tr>\n",
       "      <th>1.0e-50</th>\n",
       "      <td>1.217972</td>\n",
       "    </tr>\n",
       "    <tr>\n",
       "      <th rowspan=\"7\" valign=\"top\">10</th>\n",
       "      <th>1.0e+00</th>\n",
       "      <td>667.395783</td>\n",
       "    </tr>\n",
       "    <tr>\n",
       "      <th>1.0e-02</th>\n",
       "      <td>1292.913866</td>\n",
       "    </tr>\n",
       "    <tr>\n",
       "      <th>1.0e-05</th>\n",
       "      <td>1297.368697</td>\n",
       "    </tr>\n",
       "    <tr>\n",
       "      <th>1.0e-10</th>\n",
       "      <td>1296.897498</td>\n",
       "    </tr>\n",
       "    <tr>\n",
       "      <th>1.0e-15</th>\n",
       "      <td>382.779232</td>\n",
       "    </tr>\n",
       "    <tr>\n",
       "      <th>1.0e-20</th>\n",
       "      <td>0.763062</td>\n",
       "    </tr>\n",
       "    <tr>\n",
       "      <th>1.0e-50</th>\n",
       "      <td>0.801060</td>\n",
       "    </tr>\n",
       "    <tr>\n",
       "      <th rowspan=\"7\" valign=\"top\">20</th>\n",
       "      <th>1.0e+00</th>\n",
       "      <td>728.463140</td>\n",
       "    </tr>\n",
       "    <tr>\n",
       "      <th>1.0e-02</th>\n",
       "      <td>807.562423</td>\n",
       "    </tr>\n",
       "    <tr>\n",
       "      <th>1.0e-05</th>\n",
       "      <td>768.778176</td>\n",
       "    </tr>\n",
       "    <tr>\n",
       "      <th>1.0e-10</th>\n",
       "      <td>778.627643</td>\n",
       "    </tr>\n",
       "    <tr>\n",
       "      <th>1.0e-15</th>\n",
       "      <td>167.374472</td>\n",
       "    </tr>\n",
       "    <tr>\n",
       "      <th>1.0e-20</th>\n",
       "      <td>1.200387</td>\n",
       "    </tr>\n",
       "    <tr>\n",
       "      <th>1.0e-50</th>\n",
       "      <td>1.392189</td>\n",
       "    </tr>\n",
       "    <tr>\n",
       "      <th rowspan=\"7\" valign=\"top\">30</th>\n",
       "      <th>1.0e+00</th>\n",
       "      <td>523.341831</td>\n",
       "    </tr>\n",
       "    <tr>\n",
       "      <th>1.0e-02</th>\n",
       "      <td>578.244071</td>\n",
       "    </tr>\n",
       "    <tr>\n",
       "      <th>1.0e-05</th>\n",
       "      <td>560.700000</td>\n",
       "    </tr>\n",
       "    <tr>\n",
       "      <th>1.0e-10</th>\n",
       "      <td>561.506454</td>\n",
       "    </tr>\n",
       "    <tr>\n",
       "      <th>1.0e-15</th>\n",
       "      <td>97.653737</td>\n",
       "    </tr>\n",
       "    <tr>\n",
       "      <th>1.0e-20</th>\n",
       "      <td>1.342675</td>\n",
       "    </tr>\n",
       "    <tr>\n",
       "      <th>1.0e-50</th>\n",
       "      <td>1.818769</td>\n",
       "    </tr>\n",
       "    <tr>\n",
       "      <th rowspan=\"7\" valign=\"top\">40</th>\n",
       "      <th>1.0e+00</th>\n",
       "      <td>441.616721</td>\n",
       "    </tr>\n",
       "    <tr>\n",
       "      <th>1.0e-02</th>\n",
       "      <td>485.230015</td>\n",
       "    </tr>\n",
       "    <tr>\n",
       "      <th>1.0e-05</th>\n",
       "      <td>456.805211</td>\n",
       "    </tr>\n",
       "    <tr>\n",
       "      <th>1.0e-10</th>\n",
       "      <td>458.255161</td>\n",
       "    </tr>\n",
       "    <tr>\n",
       "      <th>1.0e-15</th>\n",
       "      <td>66.848734</td>\n",
       "    </tr>\n",
       "    <tr>\n",
       "      <th>1.0e-20</th>\n",
       "      <td>1.291377</td>\n",
       "    </tr>\n",
       "    <tr>\n",
       "      <th>1.0e-50</th>\n",
       "      <td>0.878637</td>\n",
       "    </tr>\n",
       "    <tr>\n",
       "      <th rowspan=\"7\" valign=\"top\">50</th>\n",
       "      <th>1.0e+00</th>\n",
       "      <td>383.221918</td>\n",
       "    </tr>\n",
       "    <tr>\n",
       "      <th>1.0e-02</th>\n",
       "      <td>420.712090</td>\n",
       "    </tr>\n",
       "    <tr>\n",
       "      <th>1.0e-05</th>\n",
       "      <td>369.503630</td>\n",
       "    </tr>\n",
       "    <tr>\n",
       "      <th>1.0e-10</th>\n",
       "      <td>366.940741</td>\n",
       "    </tr>\n",
       "    <tr>\n",
       "      <th>1.0e-15</th>\n",
       "      <td>56.150233</td>\n",
       "    </tr>\n",
       "    <tr>\n",
       "      <th>1.0e-20</th>\n",
       "      <td>1.189223</td>\n",
       "    </tr>\n",
       "    <tr>\n",
       "      <th>1.0e-50</th>\n",
       "      <td>0.936638</td>\n",
       "    </tr>\n",
       "    <tr>\n",
       "      <th rowspan=\"7\" valign=\"top\">60</th>\n",
       "      <th>1.0e+00</th>\n",
       "      <td>344.417659</td>\n",
       "    </tr>\n",
       "    <tr>\n",
       "      <th>1.0e-02</th>\n",
       "      <td>391.942961</td>\n",
       "    </tr>\n",
       "    <tr>\n",
       "      <th>1.0e-05</th>\n",
       "      <td>304.840675</td>\n",
       "    </tr>\n",
       "    <tr>\n",
       "      <th>1.0e-10</th>\n",
       "      <td>301.631004</td>\n",
       "    </tr>\n",
       "    <tr>\n",
       "      <th>1.0e-15</th>\n",
       "      <td>48.024535</td>\n",
       "    </tr>\n",
       "    <tr>\n",
       "      <th>1.0e-20</th>\n",
       "      <td>1.308316</td>\n",
       "    </tr>\n",
       "    <tr>\n",
       "      <th>1.0e-50</th>\n",
       "      <td>1.448018</td>\n",
       "    </tr>\n",
       "  </tbody>\n",
       "</table>\n",
       "</div>"
      ],
      "text/plain": [
       "                       ch_score\n",
       "n_clusters gamma               \n",
       "2          1.0e+00   520.468328\n",
       "           1.0e-02  4641.627826\n",
       "           1.0e-05  4641.627826\n",
       "           1.0e-10  4641.627826\n",
       "           1.0e-15  2994.856767\n",
       "           1.0e-20     1.555651\n",
       "           1.0e-50     0.628387\n",
       "4          1.0e+00  1692.619885\n",
       "           1.0e-02  2227.943399\n",
       "           1.0e-05  2778.678882\n",
       "           1.0e-10  2778.678882\n",
       "           1.0e-15  1182.736970\n",
       "           1.0e-20     1.055209\n",
       "           1.0e-50     0.632861\n",
       "6          1.0e+00  1630.354090\n",
       "           1.0e-02  2011.776339\n",
       "           1.0e-05  1922.578744\n",
       "           1.0e-10  1922.733430\n",
       "           1.0e-15   722.046031\n",
       "           1.0e-20     1.084908\n",
       "           1.0e-50     1.070153\n",
       "8          1.0e+00   818.554458\n",
       "           1.0e-02  1543.156782\n",
       "           1.0e-05  1530.975222\n",
       "           1.0e-10  1531.434401\n",
       "           1.0e-15   456.436194\n",
       "           1.0e-20     1.764852\n",
       "           1.0e-50     1.217972\n",
       "10         1.0e+00   667.395783\n",
       "           1.0e-02  1292.913866\n",
       "           1.0e-05  1297.368697\n",
       "           1.0e-10  1296.897498\n",
       "           1.0e-15   382.779232\n",
       "           1.0e-20     0.763062\n",
       "           1.0e-50     0.801060\n",
       "20         1.0e+00   728.463140\n",
       "           1.0e-02   807.562423\n",
       "           1.0e-05   768.778176\n",
       "           1.0e-10   778.627643\n",
       "           1.0e-15   167.374472\n",
       "           1.0e-20     1.200387\n",
       "           1.0e-50     1.392189\n",
       "30         1.0e+00   523.341831\n",
       "           1.0e-02   578.244071\n",
       "           1.0e-05   560.700000\n",
       "           1.0e-10   561.506454\n",
       "           1.0e-15    97.653737\n",
       "           1.0e-20     1.342675\n",
       "           1.0e-50     1.818769\n",
       "40         1.0e+00   441.616721\n",
       "           1.0e-02   485.230015\n",
       "           1.0e-05   456.805211\n",
       "           1.0e-10   458.255161\n",
       "           1.0e-15    66.848734\n",
       "           1.0e-20     1.291377\n",
       "           1.0e-50     0.878637\n",
       "50         1.0e+00   383.221918\n",
       "           1.0e-02   420.712090\n",
       "           1.0e-05   369.503630\n",
       "           1.0e-10   366.940741\n",
       "           1.0e-15    56.150233\n",
       "           1.0e-20     1.189223\n",
       "           1.0e-50     0.936638\n",
       "60         1.0e+00   344.417659\n",
       "           1.0e-02   391.942961\n",
       "           1.0e-05   304.840675\n",
       "           1.0e-10   301.631004\n",
       "           1.0e-15    48.024535\n",
       "           1.0e-20     1.308316\n",
       "           1.0e-50     1.448018"
      ]
     },
     "metadata": {},
     "output_type": "display_data"
    }
   ],
   "source": [
    "with pd.option_context(\"display.max_rows\", None, \"display.max_columns\", None):\n",
    "    _df = ensemble.groupby([\"n_clusters\", \"gamma\"]).mean()\n",
    "    display(_df)"
   ]
  },
  {
   "cell_type": "code",
   "execution_count": 51,
   "metadata": {
    "papermill": {
     "duration": 2.027809,
     "end_time": "2021-01-12T00:19:58.715577",
     "exception": false,
     "start_time": "2021-01-12T00:19:56.687768",
     "status": "completed"
    },
    "tags": []
   },
   "outputs": [
    {
     "data": {
      "image/png": "[encoded data removed]",
      "text/plain": [
       "<Figure size 1008x432 with 1 Axes>"
      ]
     },
     "metadata": {},
     "output_type": "display_data"
    }
   ],
   "source": [
    "# with sns.axes_style('whitegrid', {'grid.linestyle': '--'}):\n",
    "with sns.plotting_context(\"talk\", font_scale=0.75), sns.axes_style(\n",
    "    \"whitegrid\", {\"grid.linestyle\": \"--\"}\n",
    "):\n",
    "    fig = plt.figure(figsize=(14, 6))\n",
    "    ax = sns.pointplot(data=ensemble, x=\"n_clusters\", y=\"ch_score\", hue=\"gamma\")\n",
    "    ax.set_ylabel(\"Calinski-Harabasz index\")\n",
    "    ax.set_xlabel(\"Number of clusters ($k$)\")\n",
    "    ax.set_xticklabels(ax.get_xticklabels(), rotation=45)\n",
    "    #     ax.set_ylim(0.0, 1.0)\n",
    "    #     ax.set_xlim(CLUSTERING_OPTIONS['K_MIN'], CLUSTERING_OPTIONS['K_MAX'])\n",
    "    plt.grid(True)\n",
    "    plt.tight_layout()"
   ]
  },
  {
   "cell_type": "markdown",
   "metadata": {
    "papermill": {
     "duration": 0.087769,
     "end_time": "2021-01-12T00:19:58.891850",
     "exception": false,
     "start_time": "2021-01-12T00:19:58.804081",
     "status": "completed"
    },
    "tags": []
   },
   "source": [
    "# Stability"
   ]
  },
  {
   "cell_type": "markdown",
   "metadata": {
    "papermill": {
     "duration": 0.088306,
     "end_time": "2021-01-12T00:19:59.068850",
     "exception": false,
     "start_time": "2021-01-12T00:19:58.980544",
     "status": "completed"
    },
    "tags": []
   },
   "source": [
    "## Group ensemble by n_clusters"
   ]
  },
  {
   "cell_type": "code",
   "execution_count": 52,
   "metadata": {
    "papermill": {
     "duration": 0.120897,
     "end_time": "2021-01-12T00:19:59.277665",
     "exception": false,
     "start_time": "2021-01-12T00:19:59.156768",
     "status": "completed"
    },
    "tags": []
   },
   "outputs": [],
   "source": [
    "parts = ensemble.groupby([\"gamma\", \"n_clusters\"]).apply(\n",
    "    lambda x: np.concatenate(x[\"partition\"].apply(lambda x: x.reshape(1, -1)), axis=0)\n",
    ")"
   ]
  },
  {
   "cell_type": "code",
   "execution_count": 53,
   "metadata": {
    "papermill": {
     "duration": 0.104455,
     "end_time": "2021-01-12T00:19:59.471746",
     "exception": false,
     "start_time": "2021-01-12T00:19:59.367291",
     "status": "completed"
    },
    "tags": []
   },
   "outputs": [
    {
     "data": {
      "text/plain": [
       "(70,)"
      ]
     },
     "execution_count": 53,
     "metadata": {},
     "output_type": "execute_result"
    }
   ],
   "source": [
    "parts.shape"
   ]
  },
  {
   "cell_type": "code",
   "execution_count": 54,
   "metadata": {
    "papermill": {
     "duration": 0.115795,
     "end_time": "2021-01-12T00:19:59.681541",
     "exception": false,
     "start_time": "2021-01-12T00:19:59.565746",
     "status": "completed"
    },
    "tags": []
   },
   "outputs": [
    {
     "data": {
      "text/plain": [
       "gamma    n_clusters\n",
       "1.0e+00  2             [[0.0, 0.0, 0.0, 0.0, 0.0, 0.0, 0.0, 0.0, 0.0,...\n",
       "         4             [[0.0, 0.0, 0.0, 0.0, 0.0, 0.0, 0.0, 0.0, 0.0,...\n",
       "         6             [[0.0, 0.0, 0.0, 0.0, 0.0, 0.0, 0.0, 0.0, 0.0,...\n",
       "         8             [[4.0, 4.0, 4.0, 4.0, 4.0, 4.0, 4.0, 4.0, 4.0,...\n",
       "         10            [[7.0, 7.0, 7.0, 7.0, 7.0, 7.0, 7.0, 7.0, 7.0,...\n",
       "dtype: object"
      ]
     },
     "execution_count": 54,
     "metadata": {},
     "output_type": "execute_result"
    }
   ],
   "source": [
    "parts.head()"
   ]
  },
  {
   "cell_type": "code",
   "execution_count": 55,
   "metadata": {
    "papermill": {
     "duration": 0.104258,
     "end_time": "2021-01-12T00:19:59.879528",
     "exception": false,
     "start_time": "2021-01-12T00:19:59.775270",
     "status": "completed"
    },
    "tags": []
   },
   "outputs": [
    {
     "data": {
      "text/plain": [
       "(5, 3749)"
      ]
     },
     "execution_count": 55,
     "metadata": {},
     "output_type": "execute_result"
    }
   ],
   "source": [
    "parts.iloc[0].shape"
   ]
  },
  {
   "cell_type": "code",
   "execution_count": 56,
   "metadata": {
    "papermill": {
     "duration": 0.109069,
     "end_time": "2021-01-12T00:20:00.079662",
     "exception": false,
     "start_time": "2021-01-12T00:19:59.970593",
     "status": "completed"
    },
    "tags": []
   },
   "outputs": [],
   "source": [
    "assert np.all(\n",
    "    [\n",
    "        parts.loc[k].shape == (int(CLUSTERING_OPTIONS[\"N_REPS_PER_K\"]), data.shape[0])\n",
    "        for k in parts.index\n",
    "    ]\n",
    ")"
   ]
  },
  {
   "cell_type": "markdown",
   "metadata": {
    "papermill": {
     "duration": 0.089751,
     "end_time": "2021-01-12T00:20:00.258578",
     "exception": false,
     "start_time": "2021-01-12T00:20:00.168827",
     "status": "completed"
    },
    "tags": []
   },
   "source": [
    "## Compute stability"
   ]
  },
  {
   "cell_type": "code",
   "execution_count": 57,
   "metadata": {
    "papermill": {
     "duration": 0.104883,
     "end_time": "2021-01-12T00:20:00.453379",
     "exception": false,
     "start_time": "2021-01-12T00:20:00.348496",
     "status": "completed"
    },
    "tags": []
   },
   "outputs": [],
   "source": [
    "from sklearn.metrics import adjusted_rand_score as ari\n",
    "from scipy.spatial.distance import squareform, pdist"
   ]
  },
  {
   "cell_type": "code",
   "execution_count": 58,
   "metadata": {
    "papermill": {
     "duration": 0.814847,
     "end_time": "2021-01-12T00:20:01.357558",
     "exception": false,
     "start_time": "2021-01-12T00:20:00.542711",
     "status": "completed"
    },
    "tags": []
   },
   "outputs": [],
   "source": [
    "parts_ari = pd.Series(\n",
    "    {k: pdist(parts.loc[k], metric=ari) for k in parts.index}, name=\"n_clusters\"\n",
    ")"
   ]
  },
  {
   "cell_type": "code",
   "execution_count": 59,
   "metadata": {
    "papermill": {
     "duration": 0.107081,
     "end_time": "2021-01-12T00:20:01.554649",
     "exception": false,
     "start_time": "2021-01-12T00:20:01.447568",
     "status": "completed"
    },
    "tags": []
   },
   "outputs": [
    {
     "data": {
      "text/plain": [
       "1.0e-05  2     1.000000\n",
       "1.0e-10  4     1.000000\n",
       "         2     1.000000\n",
       "1.0e-05  4     1.000000\n",
       "1.0e-02  2     1.000000\n",
       "         4     0.997812\n",
       "1.0e-05  10    0.990555\n",
       "         6     0.982140\n",
       "1.0e-10  6     0.978015\n",
       "1.0e-02  8     0.975395\n",
       "1.0e-10  8     0.975297\n",
       "         10    0.972600\n",
       "1.0e-02  6     0.953305\n",
       "         10    0.902924\n",
       "1.0e-05  8     0.893820\n",
       "Name: n_clusters, dtype: float64"
      ]
     },
     "metadata": {},
     "output_type": "display_data"
    }
   ],
   "source": [
    "parts_ari_stability = parts_ari.apply(lambda x: x.mean())\n",
    "display(parts_ari_stability.sort_values(ascending=False).head(15))"
   ]
  },
  {
   "cell_type": "code",
   "execution_count": 60,
   "metadata": {
    "papermill": {
     "duration": 0.109223,
     "end_time": "2021-01-12T00:20:01.754200",
     "exception": false,
     "start_time": "2021-01-12T00:20:01.644977",
     "status": "completed"
    },
    "tags": []
   },
   "outputs": [],
   "source": [
    "parts_ari_df = pd.DataFrame.from_records(parts_ari.tolist()).set_index(\n",
    "    parts_ari.index.copy()\n",
    ")\n",
    "parts_ari_df.index.rename([\"gamma\", \"n_clusters\"], inplace=True)"
   ]
  },
  {
   "cell_type": "code",
   "execution_count": 61,
   "metadata": {
    "papermill": {
     "duration": 0.1048,
     "end_time": "2021-01-12T00:20:01.950062",
     "exception": false,
     "start_time": "2021-01-12T00:20:01.845262",
     "status": "completed"
    },
    "tags": []
   },
   "outputs": [
    {
     "data": {
      "text/plain": [
       "(70, 10)"
      ]
     },
     "execution_count": 61,
     "metadata": {},
     "output_type": "execute_result"
    }
   ],
   "source": [
    "parts_ari_df.shape"
   ]
  },
  {
   "cell_type": "code",
   "execution_count": 62,
   "metadata": {
    "papermill": {
     "duration": 0.105519,
     "end_time": "2021-01-12T00:20:02.146997",
     "exception": false,
     "start_time": "2021-01-12T00:20:02.041478",
     "status": "completed"
    },
    "tags": []
   },
   "outputs": [],
   "source": [
    "_n_total_parts = int(\n",
    "    CLUSTERING_OPTIONS[\"N_REPS_PER_K\"]\n",
    ")  # * len(CLUSTERING_OPTIONS[\"GAMMAS\"]))\n",
    "\n",
    "assert int(_n_total_parts * (_n_total_parts - 1) / 2) == parts_ari_df.shape[1]"
   ]
  },
  {
   "cell_type": "code",
   "execution_count": 63,
   "metadata": {
    "papermill": {
     "duration": 0.113408,
     "end_time": "2021-01-12T00:20:02.352913",
     "exception": false,
     "start_time": "2021-01-12T00:20:02.239505",
     "status": "completed"
    },
    "tags": []
   },
   "outputs": [
    {
     "data": {
      "text/html": [
       "<div>\n",
       "<style scoped>\n",
       "    .dataframe tbody tr th:only-of-type {\n",
       "        vertical-align: middle;\n",
       "    }\n",
       "\n",
       "    .dataframe tbody tr th {\n",
       "        vertical-align: top;\n",
       "    }\n",
       "\n",
       "    .dataframe thead th {\n",
       "        text-align: right;\n",
       "    }\n",
       "</style>\n",
       "<table border=\"1\" class=\"dataframe\">\n",
       "  <thead>\n",
       "    <tr style=\"text-align: right;\">\n",
       "      <th></th>\n",
       "      <th></th>\n",
       "      <th>0</th>\n",
       "      <th>1</th>\n",
       "      <th>2</th>\n",
       "      <th>3</th>\n",
       "      <th>4</th>\n",
       "      <th>5</th>\n",
       "      <th>6</th>\n",
       "      <th>7</th>\n",
       "      <th>8</th>\n",
       "      <th>9</th>\n",
       "    </tr>\n",
       "    <tr>\n",
       "      <th>gamma</th>\n",
       "      <th>n_clusters</th>\n",
       "      <th></th>\n",
       "      <th></th>\n",
       "      <th></th>\n",
       "      <th></th>\n",
       "      <th></th>\n",
       "      <th></th>\n",
       "      <th></th>\n",
       "      <th></th>\n",
       "      <th></th>\n",
       "      <th></th>\n",
       "    </tr>\n",
       "  </thead>\n",
       "  <tbody>\n",
       "    <tr>\n",
       "      <th rowspan=\"5\" valign=\"top\">1.0e+00</th>\n",
       "      <th>2</th>\n",
       "      <td>0.568279</td>\n",
       "      <td>1.000000</td>\n",
       "      <td>-0.002555</td>\n",
       "      <td>0.568279</td>\n",
       "      <td>0.568279</td>\n",
       "      <td>0.747383</td>\n",
       "      <td>1.000000</td>\n",
       "      <td>-0.002555</td>\n",
       "      <td>0.568279</td>\n",
       "      <td>0.747383</td>\n",
       "    </tr>\n",
       "    <tr>\n",
       "      <th>4</th>\n",
       "      <td>0.084488</td>\n",
       "      <td>0.084488</td>\n",
       "      <td>0.084488</td>\n",
       "      <td>0.084488</td>\n",
       "      <td>1.000000</td>\n",
       "      <td>1.000000</td>\n",
       "      <td>1.000000</td>\n",
       "      <td>1.000000</td>\n",
       "      <td>1.000000</td>\n",
       "      <td>1.000000</td>\n",
       "    </tr>\n",
       "    <tr>\n",
       "      <th>6</th>\n",
       "      <td>1.000000</td>\n",
       "      <td>0.950307</td>\n",
       "      <td>1.000000</td>\n",
       "      <td>0.276607</td>\n",
       "      <td>0.950307</td>\n",
       "      <td>1.000000</td>\n",
       "      <td>0.276607</td>\n",
       "      <td>0.950307</td>\n",
       "      <td>0.329811</td>\n",
       "      <td>0.276607</td>\n",
       "    </tr>\n",
       "    <tr>\n",
       "      <th>8</th>\n",
       "      <td>0.363849</td>\n",
       "      <td>1.000000</td>\n",
       "      <td>1.000000</td>\n",
       "      <td>1.000000</td>\n",
       "      <td>0.363849</td>\n",
       "      <td>0.363849</td>\n",
       "      <td>0.363849</td>\n",
       "      <td>1.000000</td>\n",
       "      <td>1.000000</td>\n",
       "      <td>1.000000</td>\n",
       "    </tr>\n",
       "    <tr>\n",
       "      <th>10</th>\n",
       "      <td>0.456522</td>\n",
       "      <td>0.456522</td>\n",
       "      <td>0.456522</td>\n",
       "      <td>0.456522</td>\n",
       "      <td>1.000000</td>\n",
       "      <td>1.000000</td>\n",
       "      <td>1.000000</td>\n",
       "      <td>1.000000</td>\n",
       "      <td>1.000000</td>\n",
       "      <td>1.000000</td>\n",
       "    </tr>\n",
       "  </tbody>\n",
       "</table>\n",
       "</div>"
      ],
      "text/plain": [
       "                           0         1         2         3         4  \\\n",
       "gamma   n_clusters                                                     \n",
       "1.0e+00 2           0.568279  1.000000 -0.002555  0.568279  0.568279   \n",
       "        4           0.084488  0.084488  0.084488  0.084488  1.000000   \n",
       "        6           1.000000  0.950307  1.000000  0.276607  0.950307   \n",
       "        8           0.363849  1.000000  1.000000  1.000000  0.363849   \n",
       "        10          0.456522  0.456522  0.456522  0.456522  1.000000   \n",
       "\n",
       "                           5         6         7         8         9  \n",
       "gamma   n_clusters                                                    \n",
       "1.0e+00 2           0.747383  1.000000 -0.002555  0.568279  0.747383  \n",
       "        4           1.000000  1.000000  1.000000  1.000000  1.000000  \n",
       "        6           1.000000  0.276607  0.950307  0.329811  0.276607  \n",
       "        8           0.363849  0.363849  1.000000  1.000000  1.000000  \n",
       "        10          1.000000  1.000000  1.000000  1.000000  1.000000  "
      ]
     },
     "execution_count": 63,
     "metadata": {},
     "output_type": "execute_result"
    }
   ],
   "source": [
    "parts_ari_df.head()"
   ]
  },
  {
   "cell_type": "markdown",
   "metadata": {
    "papermill": {
     "duration": 0.090799,
     "end_time": "2021-01-12T00:20:02.536649",
     "exception": false,
     "start_time": "2021-01-12T00:20:02.445850",
     "status": "completed"
    },
    "tags": []
   },
   "source": [
    "## Stability plot"
   ]
  },
  {
   "cell_type": "code",
   "execution_count": 64,
   "metadata": {
    "papermill": {
     "duration": 0.110347,
     "end_time": "2021-01-12T00:20:02.740384",
     "exception": false,
     "start_time": "2021-01-12T00:20:02.630037",
     "status": "completed"
    },
    "tags": []
   },
   "outputs": [],
   "source": [
    "parts_ari_df_plot = (\n",
    "    parts_ari_df.stack().reset_index().rename(columns={\"level_2\": \"idx\", 0: \"ari\"})\n",
    ")"
   ]
  },
  {
   "cell_type": "code",
   "execution_count": 65,
   "metadata": {
    "papermill": {
     "duration": 0.107085,
     "end_time": "2021-01-12T00:20:02.939879",
     "exception": false,
     "start_time": "2021-01-12T00:20:02.832794",
     "status": "completed"
    },
    "tags": []
   },
   "outputs": [
    {
     "data": {
      "text/plain": [
       "gamma          object\n",
       "n_clusters      int64\n",
       "idx             int64\n",
       "ari           float64\n",
       "dtype: object"
      ]
     },
     "execution_count": 65,
     "metadata": {},
     "output_type": "execute_result"
    }
   ],
   "source": [
    "parts_ari_df_plot.dtypes"
   ]
  },
  {
   "cell_type": "code",
   "execution_count": 66,
   "metadata": {
    "papermill": {
     "duration": 0.109848,
     "end_time": "2021-01-12T00:20:03.140989",
     "exception": false,
     "start_time": "2021-01-12T00:20:03.031141",
     "status": "completed"
    },
    "tags": []
   },
   "outputs": [
    {
     "data": {
      "text/html": [
       "<div>\n",
       "<style scoped>\n",
       "    .dataframe tbody tr th:only-of-type {\n",
       "        vertical-align: middle;\n",
       "    }\n",
       "\n",
       "    .dataframe tbody tr th {\n",
       "        vertical-align: top;\n",
       "    }\n",
       "\n",
       "    .dataframe thead th {\n",
       "        text-align: right;\n",
       "    }\n",
       "</style>\n",
       "<table border=\"1\" class=\"dataframe\">\n",
       "  <thead>\n",
       "    <tr style=\"text-align: right;\">\n",
       "      <th></th>\n",
       "      <th>gamma</th>\n",
       "      <th>n_clusters</th>\n",
       "      <th>idx</th>\n",
       "      <th>ari</th>\n",
       "    </tr>\n",
       "  </thead>\n",
       "  <tbody>\n",
       "    <tr>\n",
       "      <th>0</th>\n",
       "      <td>1.0e+00</td>\n",
       "      <td>2</td>\n",
       "      <td>0</td>\n",
       "      <td>0.568279</td>\n",
       "    </tr>\n",
       "    <tr>\n",
       "      <th>1</th>\n",
       "      <td>1.0e+00</td>\n",
       "      <td>2</td>\n",
       "      <td>1</td>\n",
       "      <td>1.000000</td>\n",
       "    </tr>\n",
       "    <tr>\n",
       "      <th>2</th>\n",
       "      <td>1.0e+00</td>\n",
       "      <td>2</td>\n",
       "      <td>2</td>\n",
       "      <td>-0.002555</td>\n",
       "    </tr>\n",
       "    <tr>\n",
       "      <th>3</th>\n",
       "      <td>1.0e+00</td>\n",
       "      <td>2</td>\n",
       "      <td>3</td>\n",
       "      <td>0.568279</td>\n",
       "    </tr>\n",
       "    <tr>\n",
       "      <th>4</th>\n",
       "      <td>1.0e+00</td>\n",
       "      <td>2</td>\n",
       "      <td>4</td>\n",
       "      <td>0.568279</td>\n",
       "    </tr>\n",
       "  </tbody>\n",
       "</table>\n",
       "</div>"
      ],
      "text/plain": [
       "     gamma  n_clusters  idx       ari\n",
       "0  1.0e+00           2    0  0.568279\n",
       "1  1.0e+00           2    1  1.000000\n",
       "2  1.0e+00           2    2 -0.002555\n",
       "3  1.0e+00           2    3  0.568279\n",
       "4  1.0e+00           2    4  0.568279"
      ]
     },
     "execution_count": 66,
     "metadata": {},
     "output_type": "execute_result"
    }
   ],
   "source": [
    "parts_ari_df_plot.head()"
   ]
  },
  {
   "cell_type": "code",
   "execution_count": 67,
   "metadata": {
    "papermill": {
     "duration": 0.119229,
     "end_time": "2021-01-12T00:20:03.352928",
     "exception": false,
     "start_time": "2021-01-12T00:20:03.233699",
     "status": "completed"
    },
    "tags": []
   },
   "outputs": [
    {
     "data": {
      "text/html": [
       "<div>\n",
       "<style scoped>\n",
       "    .dataframe tbody tr th:only-of-type {\n",
       "        vertical-align: middle;\n",
       "    }\n",
       "\n",
       "    .dataframe tbody tr th {\n",
       "        vertical-align: top;\n",
       "    }\n",
       "\n",
       "    .dataframe thead th {\n",
       "        text-align: right;\n",
       "    }\n",
       "</style>\n",
       "<table border=\"1\" class=\"dataframe\">\n",
       "  <thead>\n",
       "    <tr style=\"text-align: right;\">\n",
       "      <th></th>\n",
       "      <th></th>\n",
       "      <th>idx</th>\n",
       "      <th>ari</th>\n",
       "    </tr>\n",
       "    <tr>\n",
       "      <th>n_clusters</th>\n",
       "      <th>gamma</th>\n",
       "      <th></th>\n",
       "      <th></th>\n",
       "    </tr>\n",
       "  </thead>\n",
       "  <tbody>\n",
       "    <tr>\n",
       "      <th rowspan=\"7\" valign=\"top\">2</th>\n",
       "      <th>1.0e+00</th>\n",
       "      <td>4.5</td>\n",
       "      <td>0.576277</td>\n",
       "    </tr>\n",
       "    <tr>\n",
       "      <th>1.0e-02</th>\n",
       "      <td>4.5</td>\n",
       "      <td>1.000000</td>\n",
       "    </tr>\n",
       "    <tr>\n",
       "      <th>1.0e-05</th>\n",
       "      <td>4.5</td>\n",
       "      <td>1.000000</td>\n",
       "    </tr>\n",
       "    <tr>\n",
       "      <th>1.0e-10</th>\n",
       "      <td>4.5</td>\n",
       "      <td>1.000000</td>\n",
       "    </tr>\n",
       "    <tr>\n",
       "      <th>1.0e-15</th>\n",
       "      <td>4.5</td>\n",
       "      <td>0.547453</td>\n",
       "    </tr>\n",
       "    <tr>\n",
       "      <th>1.0e-20</th>\n",
       "      <td>4.5</td>\n",
       "      <td>-0.002760</td>\n",
       "    </tr>\n",
       "    <tr>\n",
       "      <th>1.0e-50</th>\n",
       "      <td>4.5</td>\n",
       "      <td>-0.000102</td>\n",
       "    </tr>\n",
       "    <tr>\n",
       "      <th rowspan=\"7\" valign=\"top\">4</th>\n",
       "      <th>1.0e+00</th>\n",
       "      <td>4.5</td>\n",
       "      <td>0.633795</td>\n",
       "    </tr>\n",
       "    <tr>\n",
       "      <th>1.0e-02</th>\n",
       "      <td>4.5</td>\n",
       "      <td>0.997812</td>\n",
       "    </tr>\n",
       "    <tr>\n",
       "      <th>1.0e-05</th>\n",
       "      <td>4.5</td>\n",
       "      <td>1.000000</td>\n",
       "    </tr>\n",
       "    <tr>\n",
       "      <th>1.0e-10</th>\n",
       "      <td>4.5</td>\n",
       "      <td>1.000000</td>\n",
       "    </tr>\n",
       "    <tr>\n",
       "      <th>1.0e-15</th>\n",
       "      <td>4.5</td>\n",
       "      <td>0.201221</td>\n",
       "    </tr>\n",
       "    <tr>\n",
       "      <th>1.0e-20</th>\n",
       "      <td>4.5</td>\n",
       "      <td>-0.001906</td>\n",
       "    </tr>\n",
       "    <tr>\n",
       "      <th>1.0e-50</th>\n",
       "      <td>4.5</td>\n",
       "      <td>0.002897</td>\n",
       "    </tr>\n",
       "    <tr>\n",
       "      <th rowspan=\"7\" valign=\"top\">6</th>\n",
       "      <th>1.0e+00</th>\n",
       "      <td>4.5</td>\n",
       "      <td>0.701055</td>\n",
       "    </tr>\n",
       "    <tr>\n",
       "      <th>1.0e-02</th>\n",
       "      <td>4.5</td>\n",
       "      <td>0.953305</td>\n",
       "    </tr>\n",
       "    <tr>\n",
       "      <th>1.0e-05</th>\n",
       "      <td>4.5</td>\n",
       "      <td>0.982140</td>\n",
       "    </tr>\n",
       "    <tr>\n",
       "      <th>1.0e-10</th>\n",
       "      <td>4.5</td>\n",
       "      <td>0.978015</td>\n",
       "    </tr>\n",
       "    <tr>\n",
       "      <th>1.0e-15</th>\n",
       "      <td>4.5</td>\n",
       "      <td>0.292945</td>\n",
       "    </tr>\n",
       "    <tr>\n",
       "      <th>1.0e-20</th>\n",
       "      <td>4.5</td>\n",
       "      <td>-0.009426</td>\n",
       "    </tr>\n",
       "    <tr>\n",
       "      <th>1.0e-50</th>\n",
       "      <td>4.5</td>\n",
       "      <td>-0.000724</td>\n",
       "    </tr>\n",
       "    <tr>\n",
       "      <th rowspan=\"7\" valign=\"top\">8</th>\n",
       "      <th>1.0e+00</th>\n",
       "      <td>4.5</td>\n",
       "      <td>0.745540</td>\n",
       "    </tr>\n",
       "    <tr>\n",
       "      <th>1.0e-02</th>\n",
       "      <td>4.5</td>\n",
       "      <td>0.975395</td>\n",
       "    </tr>\n",
       "    <tr>\n",
       "      <th>1.0e-05</th>\n",
       "      <td>4.5</td>\n",
       "      <td>0.893820</td>\n",
       "    </tr>\n",
       "    <tr>\n",
       "      <th>1.0e-10</th>\n",
       "      <td>4.5</td>\n",
       "      <td>0.975297</td>\n",
       "    </tr>\n",
       "    <tr>\n",
       "      <th>1.0e-15</th>\n",
       "      <td>4.5</td>\n",
       "      <td>0.119196</td>\n",
       "    </tr>\n",
       "    <tr>\n",
       "      <th>1.0e-20</th>\n",
       "      <td>4.5</td>\n",
       "      <td>0.004663</td>\n",
       "    </tr>\n",
       "    <tr>\n",
       "      <th>1.0e-50</th>\n",
       "      <td>4.5</td>\n",
       "      <td>0.001004</td>\n",
       "    </tr>\n",
       "    <tr>\n",
       "      <th rowspan=\"7\" valign=\"top\">10</th>\n",
       "      <th>1.0e+00</th>\n",
       "      <td>4.5</td>\n",
       "      <td>0.782609</td>\n",
       "    </tr>\n",
       "    <tr>\n",
       "      <th>1.0e-02</th>\n",
       "      <td>4.5</td>\n",
       "      <td>0.902924</td>\n",
       "    </tr>\n",
       "    <tr>\n",
       "      <th>1.0e-05</th>\n",
       "      <td>4.5</td>\n",
       "      <td>0.990555</td>\n",
       "    </tr>\n",
       "    <tr>\n",
       "      <th>1.0e-10</th>\n",
       "      <td>4.5</td>\n",
       "      <td>0.972600</td>\n",
       "    </tr>\n",
       "    <tr>\n",
       "      <th>1.0e-15</th>\n",
       "      <td>4.5</td>\n",
       "      <td>0.058729</td>\n",
       "    </tr>\n",
       "    <tr>\n",
       "      <th>1.0e-20</th>\n",
       "      <td>4.5</td>\n",
       "      <td>0.003144</td>\n",
       "    </tr>\n",
       "    <tr>\n",
       "      <th>1.0e-50</th>\n",
       "      <td>4.5</td>\n",
       "      <td>-0.002020</td>\n",
       "    </tr>\n",
       "    <tr>\n",
       "      <th rowspan=\"7\" valign=\"top\">20</th>\n",
       "      <th>1.0e+00</th>\n",
       "      <td>4.5</td>\n",
       "      <td>0.680336</td>\n",
       "    </tr>\n",
       "    <tr>\n",
       "      <th>1.0e-02</th>\n",
       "      <td>4.5</td>\n",
       "      <td>0.449127</td>\n",
       "    </tr>\n",
       "    <tr>\n",
       "      <th>1.0e-05</th>\n",
       "      <td>4.5</td>\n",
       "      <td>0.469361</td>\n",
       "    </tr>\n",
       "    <tr>\n",
       "      <th>1.0e-10</th>\n",
       "      <td>4.5</td>\n",
       "      <td>0.487603</td>\n",
       "    </tr>\n",
       "    <tr>\n",
       "      <th>1.0e-15</th>\n",
       "      <td>4.5</td>\n",
       "      <td>0.033423</td>\n",
       "    </tr>\n",
       "    <tr>\n",
       "      <th>1.0e-20</th>\n",
       "      <td>4.5</td>\n",
       "      <td>-0.000611</td>\n",
       "    </tr>\n",
       "    <tr>\n",
       "      <th>1.0e-50</th>\n",
       "      <td>4.5</td>\n",
       "      <td>0.003713</td>\n",
       "    </tr>\n",
       "    <tr>\n",
       "      <th rowspan=\"7\" valign=\"top\">30</th>\n",
       "      <th>1.0e+00</th>\n",
       "      <td>4.5</td>\n",
       "      <td>0.543545</td>\n",
       "    </tr>\n",
       "    <tr>\n",
       "      <th>1.0e-02</th>\n",
       "      <td>4.5</td>\n",
       "      <td>0.414316</td>\n",
       "    </tr>\n",
       "    <tr>\n",
       "      <th>1.0e-05</th>\n",
       "      <td>4.5</td>\n",
       "      <td>0.414023</td>\n",
       "    </tr>\n",
       "    <tr>\n",
       "      <th>1.0e-10</th>\n",
       "      <td>4.5</td>\n",
       "      <td>0.428845</td>\n",
       "    </tr>\n",
       "    <tr>\n",
       "      <th>1.0e-15</th>\n",
       "      <td>4.5</td>\n",
       "      <td>0.028122</td>\n",
       "    </tr>\n",
       "    <tr>\n",
       "      <th>1.0e-20</th>\n",
       "      <td>4.5</td>\n",
       "      <td>-0.004444</td>\n",
       "    </tr>\n",
       "    <tr>\n",
       "      <th>1.0e-50</th>\n",
       "      <td>4.5</td>\n",
       "      <td>0.001640</td>\n",
       "    </tr>\n",
       "    <tr>\n",
       "      <th rowspan=\"7\" valign=\"top\">40</th>\n",
       "      <th>1.0e+00</th>\n",
       "      <td>4.5</td>\n",
       "      <td>0.317496</td>\n",
       "    </tr>\n",
       "    <tr>\n",
       "      <th>1.0e-02</th>\n",
       "      <td>4.5</td>\n",
       "      <td>0.352824</td>\n",
       "    </tr>\n",
       "    <tr>\n",
       "      <th>1.0e-05</th>\n",
       "      <td>4.5</td>\n",
       "      <td>0.418918</td>\n",
       "    </tr>\n",
       "    <tr>\n",
       "      <th>1.0e-10</th>\n",
       "      <td>4.5</td>\n",
       "      <td>0.442051</td>\n",
       "    </tr>\n",
       "    <tr>\n",
       "      <th>1.0e-15</th>\n",
       "      <td>4.5</td>\n",
       "      <td>0.020216</td>\n",
       "    </tr>\n",
       "    <tr>\n",
       "      <th>1.0e-20</th>\n",
       "      <td>4.5</td>\n",
       "      <td>0.000900</td>\n",
       "    </tr>\n",
       "    <tr>\n",
       "      <th>1.0e-50</th>\n",
       "      <td>4.5</td>\n",
       "      <td>0.003986</td>\n",
       "    </tr>\n",
       "    <tr>\n",
       "      <th rowspan=\"7\" valign=\"top\">50</th>\n",
       "      <th>1.0e+00</th>\n",
       "      <td>4.5</td>\n",
       "      <td>0.270891</td>\n",
       "    </tr>\n",
       "    <tr>\n",
       "      <th>1.0e-02</th>\n",
       "      <td>4.5</td>\n",
       "      <td>0.369428</td>\n",
       "    </tr>\n",
       "    <tr>\n",
       "      <th>1.0e-05</th>\n",
       "      <td>4.5</td>\n",
       "      <td>0.434168</td>\n",
       "    </tr>\n",
       "    <tr>\n",
       "      <th>1.0e-10</th>\n",
       "      <td>4.5</td>\n",
       "      <td>0.439126</td>\n",
       "    </tr>\n",
       "    <tr>\n",
       "      <th>1.0e-15</th>\n",
       "      <td>4.5</td>\n",
       "      <td>0.031185</td>\n",
       "    </tr>\n",
       "    <tr>\n",
       "      <th>1.0e-20</th>\n",
       "      <td>4.5</td>\n",
       "      <td>-0.001707</td>\n",
       "    </tr>\n",
       "    <tr>\n",
       "      <th>1.0e-50</th>\n",
       "      <td>4.5</td>\n",
       "      <td>0.000761</td>\n",
       "    </tr>\n",
       "    <tr>\n",
       "      <th rowspan=\"7\" valign=\"top\">60</th>\n",
       "      <th>1.0e+00</th>\n",
       "      <td>4.5</td>\n",
       "      <td>0.324365</td>\n",
       "    </tr>\n",
       "    <tr>\n",
       "      <th>1.0e-02</th>\n",
       "      <td>4.5</td>\n",
       "      <td>0.438559</td>\n",
       "    </tr>\n",
       "    <tr>\n",
       "      <th>1.0e-05</th>\n",
       "      <td>4.5</td>\n",
       "      <td>0.441505</td>\n",
       "    </tr>\n",
       "    <tr>\n",
       "      <th>1.0e-10</th>\n",
       "      <td>4.5</td>\n",
       "      <td>0.407314</td>\n",
       "    </tr>\n",
       "    <tr>\n",
       "      <th>1.0e-15</th>\n",
       "      <td>4.5</td>\n",
       "      <td>0.017788</td>\n",
       "    </tr>\n",
       "    <tr>\n",
       "      <th>1.0e-20</th>\n",
       "      <td>4.5</td>\n",
       "      <td>0.007636</td>\n",
       "    </tr>\n",
       "    <tr>\n",
       "      <th>1.0e-50</th>\n",
       "      <td>4.5</td>\n",
       "      <td>-0.001571</td>\n",
       "    </tr>\n",
       "  </tbody>\n",
       "</table>\n",
       "</div>"
      ],
      "text/plain": [
       "                    idx       ari\n",
       "n_clusters gamma                 \n",
       "2          1.0e+00  4.5  0.576277\n",
       "           1.0e-02  4.5  1.000000\n",
       "           1.0e-05  4.5  1.000000\n",
       "           1.0e-10  4.5  1.000000\n",
       "           1.0e-15  4.5  0.547453\n",
       "           1.0e-20  4.5 -0.002760\n",
       "           1.0e-50  4.5 -0.000102\n",
       "4          1.0e+00  4.5  0.633795\n",
       "           1.0e-02  4.5  0.997812\n",
       "           1.0e-05  4.5  1.000000\n",
       "           1.0e-10  4.5  1.000000\n",
       "           1.0e-15  4.5  0.201221\n",
       "           1.0e-20  4.5 -0.001906\n",
       "           1.0e-50  4.5  0.002897\n",
       "6          1.0e+00  4.5  0.701055\n",
       "           1.0e-02  4.5  0.953305\n",
       "           1.0e-05  4.5  0.982140\n",
       "           1.0e-10  4.5  0.978015\n",
       "           1.0e-15  4.5  0.292945\n",
       "           1.0e-20  4.5 -0.009426\n",
       "           1.0e-50  4.5 -0.000724\n",
       "8          1.0e+00  4.5  0.745540\n",
       "           1.0e-02  4.5  0.975395\n",
       "           1.0e-05  4.5  0.893820\n",
       "           1.0e-10  4.5  0.975297\n",
       "           1.0e-15  4.5  0.119196\n",
       "           1.0e-20  4.5  0.004663\n",
       "           1.0e-50  4.5  0.001004\n",
       "10         1.0e+00  4.5  0.782609\n",
       "           1.0e-02  4.5  0.902924\n",
       "           1.0e-05  4.5  0.990555\n",
       "           1.0e-10  4.5  0.972600\n",
       "           1.0e-15  4.5  0.058729\n",
       "           1.0e-20  4.5  0.003144\n",
       "           1.0e-50  4.5 -0.002020\n",
       "20         1.0e+00  4.5  0.680336\n",
       "           1.0e-02  4.5  0.449127\n",
       "           1.0e-05  4.5  0.469361\n",
       "           1.0e-10  4.5  0.487603\n",
       "           1.0e-15  4.5  0.033423\n",
       "           1.0e-20  4.5 -0.000611\n",
       "           1.0e-50  4.5  0.003713\n",
       "30         1.0e+00  4.5  0.543545\n",
       "           1.0e-02  4.5  0.414316\n",
       "           1.0e-05  4.5  0.414023\n",
       "           1.0e-10  4.5  0.428845\n",
       "           1.0e-15  4.5  0.028122\n",
       "           1.0e-20  4.5 -0.004444\n",
       "           1.0e-50  4.5  0.001640\n",
       "40         1.0e+00  4.5  0.317496\n",
       "           1.0e-02  4.5  0.352824\n",
       "           1.0e-05  4.5  0.418918\n",
       "           1.0e-10  4.5  0.442051\n",
       "           1.0e-15  4.5  0.020216\n",
       "           1.0e-20  4.5  0.000900\n",
       "           1.0e-50  4.5  0.003986\n",
       "50         1.0e+00  4.5  0.270891\n",
       "           1.0e-02  4.5  0.369428\n",
       "           1.0e-05  4.5  0.434168\n",
       "           1.0e-10  4.5  0.439126\n",
       "           1.0e-15  4.5  0.031185\n",
       "           1.0e-20  4.5 -0.001707\n",
       "           1.0e-50  4.5  0.000761\n",
       "60         1.0e+00  4.5  0.324365\n",
       "           1.0e-02  4.5  0.438559\n",
       "           1.0e-05  4.5  0.441505\n",
       "           1.0e-10  4.5  0.407314\n",
       "           1.0e-15  4.5  0.017788\n",
       "           1.0e-20  4.5  0.007636\n",
       "           1.0e-50  4.5 -0.001571"
      ]
     },
     "metadata": {},
     "output_type": "display_data"
    }
   ],
   "source": [
    "with pd.option_context(\"display.max_rows\", None, \"display.max_columns\", None):\n",
    "    _df = parts_ari_df_plot.groupby([\"n_clusters\", \"gamma\"]).mean()\n",
    "    display(_df)"
   ]
  },
  {
   "cell_type": "code",
   "execution_count": 68,
   "metadata": {
    "papermill": {
     "duration": 1.768158,
     "end_time": "2021-01-12T00:20:05.214160",
     "exception": false,
     "start_time": "2021-01-12T00:20:03.446002",
     "status": "completed"
    },
    "tags": []
   },
   "outputs": [
    {
     "data": {
      "image/png": "[encoded data removed]",
      "text/plain": [
       "<Figure size 1008x432 with 1 Axes>"
      ]
     },
     "metadata": {},
     "output_type": "display_data"
    }
   ],
   "source": [
    "with sns.plotting_context(\"talk\", font_scale=0.75), sns.axes_style(\n",
    "    \"whitegrid\", {\"grid.linestyle\": \"--\"}\n",
    "):\n",
    "    fig = plt.figure(figsize=(14, 6))\n",
    "    ax = sns.pointplot(data=parts_ari_df_plot, x=\"n_clusters\", y=\"ari\", hue=\"gamma\")\n",
    "    ax.set_ylabel(\"Averange ARI\")\n",
    "    ax.set_xlabel(\"Number of clusters ($k$)\")\n",
    "    ax.set_xticklabels(ax.get_xticklabels(), rotation=45)\n",
    "    plt.grid(True)\n",
    "    plt.tight_layout()"
   ]
  },
  {
   "cell_type": "markdown",
   "metadata": {
    "papermill": {
     "duration": 0.109608,
     "end_time": "2021-01-11T23:44:32.950016",
     "exception": false,
     "start_time": "2021-01-11T23:44:32.840408",
     "status": "completed"
    },
    "tags": []
   },
   "source": [
    "**CONCLUSION:** We choose `1e-10` as the `gamma` parameter for this data version."
   ]
  },
  {
   "cell_type": "code",
   "execution_count": null,
   "metadata": {
    "papermill": {
     "duration": 0.094465,
     "end_time": "2021-01-12T00:20:05.403244",
     "exception": false,
     "start_time": "2021-01-12T00:20:05.308779",
     "status": "completed"
    },
    "tags": []
   },
   "outputs": [],
   "source": []
  }
 ],
 "metadata": {
  "jupytext": {
   "cell_metadata_filter": "all,-execution,-papermill",
   "formats": "ipynb,py//py:percent"
  },
  "kernelspec": {
   "display_name": "Python 3",
   "language": "python",
   "name": "python3"
  },
  "language_info": {
   "codemirror_mode": {
    "name": "ipython",
    "version": 3
   },
   "file_extension": ".py",
   "mimetype": "text/x-python",
   "name": "python",
   "nbconvert_exporter": "python",
   "pygments_lexer": "ipython3",
   "version": "3.8.6"
  },
  "papermill": {
   "default_parameters": {},
   "duration": 933.142008,
   "end_time": "2021-01-12T00:20:06.004658",
   "environment_variables": {},
   "exception": null,
   "input_path": "15_cluster_analysis/pre_analysis/05_03-spectral_clustering-umap.ipynb",
   "output_path": "15_cluster_analysis/pre_analysis/05_03-spectral_clustering-umap.run.ipynb",
   "parameters": {},
   "start_time": "2021-01-12T00:04:32.862650",
   "version": "2.2.2"
  },
  "toc-autonumbering": true,
  "toc-showcode": false,
  "toc-showmarkdowntxt": false,
  "toc-showtags": false
 },
 "nbformat": 4,
 "nbformat_minor": 4
}
