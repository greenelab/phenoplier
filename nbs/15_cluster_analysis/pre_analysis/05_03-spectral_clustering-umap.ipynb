{
 "cells": [
  {
   "cell_type": "markdown",
   "metadata": {
    "papermill": {
     "duration": 0.029271,
     "end_time": "2021-03-09T18:27:08.586460",
     "exception": false,
     "start_time": "2021-03-09T18:27:08.557189",
     "status": "completed"
    },
    "tags": []
   },
   "source": [
    "# Description"
   ]
  },
  {
   "cell_type": "markdown",
   "metadata": {
    "papermill": {
     "duration": 0.024919,
     "end_time": "2021-03-09T18:27:08.638346",
     "exception": false,
     "start_time": "2021-03-09T18:27:08.613427",
     "status": "completed"
    },
    "tags": []
   },
   "source": [
    "This notebook runs some pre-analyses using spectral clustering to explore the best set of parameters to cluster `umap` data version."
   ]
  },
  {
   "cell_type": "markdown",
   "metadata": {
    "papermill": {
     "duration": 0.024812,
     "end_time": "2021-03-09T18:27:08.687947",
     "exception": false,
     "start_time": "2021-03-09T18:27:08.663135",
     "status": "completed"
    },
    "tags": []
   },
   "source": [
    "# Environment variables"
   ]
  },
  {
   "cell_type": "code",
   "execution_count": 1,
   "metadata": {
    "execution": {
     "iopub.execute_input": "2021-03-09T18:27:08.743263Z",
     "iopub.status.busy": "2021-03-09T18:27:08.742886Z",
     "iopub.status.idle": "2021-03-09T18:27:08.753134Z",
     "shell.execute_reply": "2021-03-09T18:27:08.752671Z"
    },
    "papermill": {
     "duration": 0.040538,
     "end_time": "2021-03-09T18:27:08.753223",
     "exception": false,
     "start_time": "2021-03-09T18:27:08.712685",
     "status": "completed"
    },
    "tags": []
   },
   "outputs": [
    {
     "data": {
      "text/plain": [
       "2"
      ]
     },
     "metadata": {},
     "output_type": "display_data"
    }
   ],
   "source": [
    "from IPython.display import display\n",
    "\n",
    "import conf\n",
    "\n",
    "N_JOBS = conf.GENERAL[\"N_JOBS\"]\n",
    "display(N_JOBS)"
   ]
  },
  {
   "cell_type": "code",
   "execution_count": 2,
   "metadata": {
    "execution": {
     "iopub.execute_input": "2021-03-09T18:27:08.810301Z",
     "iopub.status.busy": "2021-03-09T18:27:08.809881Z",
     "iopub.status.idle": "2021-03-09T18:27:08.812289Z",
     "shell.execute_reply": "2021-03-09T18:27:08.811969Z"
    },
    "papermill": {
     "duration": 0.032497,
     "end_time": "2021-03-09T18:27:08.812372",
     "exception": false,
     "start_time": "2021-03-09T18:27:08.779875",
     "status": "completed"
    },
    "tags": []
   },
   "outputs": [
    {
     "name": "stdout",
     "output_type": "stream",
     "text": [
      "env: MKL_NUM_THREADS=2\n",
      "env: OPEN_BLAS_NUM_THREADS=2\n",
      "env: NUMEXPR_NUM_THREADS=2\n",
      "env: OMP_NUM_THREADS=2\n"
     ]
    }
   ],
   "source": [
    "%env MKL_NUM_THREADS=$N_JOBS\n",
    "%env OPEN_BLAS_NUM_THREADS=$N_JOBS\n",
    "%env NUMEXPR_NUM_THREADS=$N_JOBS\n",
    "%env OMP_NUM_THREADS=$N_JOBS"
   ]
  },
  {
   "cell_type": "markdown",
   "metadata": {
    "papermill": {
     "duration": 0.025665,
     "end_time": "2021-03-09T18:27:08.864126",
     "exception": false,
     "start_time": "2021-03-09T18:27:08.838461",
     "status": "completed"
    },
    "tags": []
   },
   "source": [
    "# Modules loading"
   ]
  },
  {
   "cell_type": "code",
   "execution_count": 3,
   "metadata": {
    "execution": {
     "iopub.execute_input": "2021-03-09T18:27:08.917969Z",
     "iopub.status.busy": "2021-03-09T18:27:08.917605Z",
     "iopub.status.idle": "2021-03-09T18:27:08.924964Z",
     "shell.execute_reply": "2021-03-09T18:27:08.924541Z"
    },
    "papermill": {
     "duration": 0.035472,
     "end_time": "2021-03-09T18:27:08.925048",
     "exception": false,
     "start_time": "2021-03-09T18:27:08.889576",
     "status": "completed"
    },
    "tags": []
   },
   "outputs": [],
   "source": [
    "%load_ext autoreload\n",
    "%autoreload 2"
   ]
  },
  {
   "cell_type": "code",
   "execution_count": 4,
   "metadata": {
    "execution": {
     "iopub.execute_input": "2021-03-09T18:27:08.979203Z",
     "iopub.status.busy": "2021-03-09T18:27:08.978827Z",
     "iopub.status.idle": "2021-03-09T18:27:09.551088Z",
     "shell.execute_reply": "2021-03-09T18:27:09.551451Z"
    },
    "papermill": {
     "duration": 0.600379,
     "end_time": "2021-03-09T18:27:09.551583",
     "exception": false,
     "start_time": "2021-03-09T18:27:08.951204",
     "status": "completed"
    },
    "tags": []
   },
   "outputs": [],
   "source": [
    "from pathlib import Path\n",
    "import warnings\n",
    "\n",
    "import numpy as np\n",
    "import pandas as pd\n",
    "import matplotlib.pyplot as plt\n",
    "import seaborn as sns\n",
    "\n",
    "from utils import generate_result_set_name"
   ]
  },
  {
   "cell_type": "markdown",
   "metadata": {
    "papermill": {
     "duration": 0.027927,
     "end_time": "2021-03-09T18:27:09.610142",
     "exception": false,
     "start_time": "2021-03-09T18:27:09.582215",
     "status": "completed"
    },
    "tags": []
   },
   "source": [
    "# Settings"
   ]
  },
  {
   "cell_type": "code",
   "execution_count": 5,
   "metadata": {
    "execution": {
     "iopub.execute_input": "2021-03-09T18:27:09.665683Z",
     "iopub.status.busy": "2021-03-09T18:27:09.665322Z",
     "iopub.status.idle": "2021-03-09T18:27:09.674589Z",
     "shell.execute_reply": "2021-03-09T18:27:09.674227Z"
    },
    "papermill": {
     "duration": 0.037337,
     "end_time": "2021-03-09T18:27:09.674671",
     "exception": false,
     "start_time": "2021-03-09T18:27:09.637334",
     "status": "completed"
    },
    "tags": []
   },
   "outputs": [],
   "source": [
    "INITIAL_RANDOM_STATE = 50000"
   ]
  },
  {
   "cell_type": "markdown",
   "metadata": {
    "papermill": {
     "duration": 0.025292,
     "end_time": "2021-03-09T18:27:09.725750",
     "exception": false,
     "start_time": "2021-03-09T18:27:09.700458",
     "status": "completed"
    },
    "tags": []
   },
   "source": [
    "# UMAP"
   ]
  },
  {
   "cell_type": "code",
   "execution_count": 6,
   "metadata": {
    "execution": {
     "iopub.execute_input": "2021-03-09T18:27:09.779902Z",
     "iopub.status.busy": "2021-03-09T18:27:09.779535Z",
     "iopub.status.idle": "2021-03-09T18:27:09.788832Z",
     "shell.execute_reply": "2021-03-09T18:27:09.788389Z"
    },
    "papermill": {
     "duration": 0.037299,
     "end_time": "2021-03-09T18:27:09.788913",
     "exception": false,
     "start_time": "2021-03-09T18:27:09.751614",
     "status": "completed"
    },
    "tags": []
   },
   "outputs": [],
   "source": [
    "INPUT_SUBSET = \"umap\""
   ]
  },
  {
   "cell_type": "code",
   "execution_count": 7,
   "metadata": {
    "execution": {
     "iopub.execute_input": "2021-03-09T18:27:09.842987Z",
     "iopub.status.busy": "2021-03-09T18:27:09.842616Z",
     "iopub.status.idle": "2021-03-09T18:27:09.852078Z",
     "shell.execute_reply": "2021-03-09T18:27:09.851664Z"
    },
    "papermill": {
     "duration": 0.037358,
     "end_time": "2021-03-09T18:27:09.852162",
     "exception": false,
     "start_time": "2021-03-09T18:27:09.814804",
     "status": "completed"
    },
    "tags": []
   },
   "outputs": [],
   "source": [
    "INPUT_STEM = \"z_score_std-projection-smultixcan-efo_partial-mashr-zscores\""
   ]
  },
  {
   "cell_type": "code",
   "execution_count": 8,
   "metadata": {
    "execution": {
     "iopub.execute_input": "2021-03-09T18:27:09.907788Z",
     "iopub.status.busy": "2021-03-09T18:27:09.907427Z",
     "iopub.status.idle": "2021-03-09T18:27:09.916475Z",
     "shell.execute_reply": "2021-03-09T18:27:09.916797Z"
    },
    "papermill": {
     "duration": 0.037796,
     "end_time": "2021-03-09T18:27:09.916900",
     "exception": false,
     "start_time": "2021-03-09T18:27:09.879104",
     "status": "completed"
    },
    "tags": []
   },
   "outputs": [],
   "source": [
    "DR_OPTIONS = {\n",
    "    \"n_components\": 50,\n",
    "    \"metric\": \"euclidean\",\n",
    "    \"n_neighbors\": 15,\n",
    "    \"random_state\": 0,\n",
    "}"
   ]
  },
  {
   "cell_type": "code",
   "execution_count": 9,
   "metadata": {
    "execution": {
     "iopub.execute_input": "2021-03-09T18:27:09.971698Z",
     "iopub.status.busy": "2021-03-09T18:27:09.971335Z",
     "iopub.status.idle": "2021-03-09T18:27:09.982579Z",
     "shell.execute_reply": "2021-03-09T18:27:09.982213Z"
    },
    "papermill": {
     "duration": 0.039564,
     "end_time": "2021-03-09T18:27:09.982663",
     "exception": false,
     "start_time": "2021-03-09T18:27:09.943099",
     "status": "completed"
    },
    "tags": []
   },
   "outputs": [
    {
     "data": {
      "text/plain": [
       "PosixPath('/home/miltondp/projects/labs/greenelab/phenoplier/base/results/data_transformations/umap/umap-z_score_std-projection-smultixcan-efo_partial-mashr-zscores-metric_euclidean-n_components_50-n_neighbors_15-random_state_0.pkl')"
      ]
     },
     "metadata": {},
     "output_type": "display_data"
    },
    {
     "data": {
      "text/plain": [
       "'umap-z_score_std-projection-smultixcan-efo_partial-mashr-zscores-metric_euclidean-n_components_50-n_neighbors_15-random_state_0'"
      ]
     },
     "metadata": {},
     "output_type": "display_data"
    }
   ],
   "source": [
    "input_filepath = Path(\n",
    "    conf.RESULTS[\"DATA_TRANSFORMATIONS_DIR\"],\n",
    "    INPUT_SUBSET,\n",
    "    generate_result_set_name(\n",
    "        DR_OPTIONS, prefix=f\"{INPUT_SUBSET}-{INPUT_STEM}-\", suffix=\".pkl\"\n",
    "    ),\n",
    ").resolve()\n",
    "display(input_filepath)\n",
    "\n",
    "assert input_filepath.exists(), \"Input file does not exist\"\n",
    "\n",
    "input_filepath_stem = input_filepath.stem\n",
    "display(input_filepath_stem)"
   ]
  },
  {
   "cell_type": "code",
   "execution_count": 10,
   "metadata": {
    "execution": {
     "iopub.execute_input": "2021-03-09T18:27:10.038180Z",
     "iopub.status.busy": "2021-03-09T18:27:10.037813Z",
     "iopub.status.idle": "2021-03-09T18:27:10.048135Z",
     "shell.execute_reply": "2021-03-09T18:27:10.048431Z"
    },
    "papermill": {
     "duration": 0.039303,
     "end_time": "2021-03-09T18:27:10.048534",
     "exception": false,
     "start_time": "2021-03-09T18:27:10.009231",
     "status": "completed"
    },
    "tags": []
   },
   "outputs": [],
   "source": [
    "data = pd.read_pickle(input_filepath)"
   ]
  },
  {
   "cell_type": "code",
   "execution_count": 11,
   "metadata": {
    "execution": {
     "iopub.execute_input": "2021-03-09T18:27:10.104792Z",
     "iopub.status.busy": "2021-03-09T18:27:10.104375Z",
     "iopub.status.idle": "2021-03-09T18:27:10.114389Z",
     "shell.execute_reply": "2021-03-09T18:27:10.114072Z"
    },
    "papermill": {
     "duration": 0.038516,
     "end_time": "2021-03-09T18:27:10.114474",
     "exception": false,
     "start_time": "2021-03-09T18:27:10.075958",
     "status": "completed"
    },
    "tags": []
   },
   "outputs": [
    {
     "data": {
      "text/plain": [
       "(3752, 50)"
      ]
     },
     "execution_count": 11,
     "metadata": {},
     "output_type": "execute_result"
    }
   ],
   "source": [
    "data.shape"
   ]
  },
  {
   "cell_type": "code",
   "execution_count": 12,
   "metadata": {
    "execution": {
     "iopub.execute_input": "2021-03-09T18:27:10.171044Z",
     "iopub.status.busy": "2021-03-09T18:27:10.170680Z",
     "iopub.status.idle": "2021-03-09T18:27:10.193275Z",
     "shell.execute_reply": "2021-03-09T18:27:10.192887Z"
    },
    "papermill": {
     "duration": 0.051097,
     "end_time": "2021-03-09T18:27:10.193358",
     "exception": false,
     "start_time": "2021-03-09T18:27:10.142261",
     "status": "completed"
    },
    "tags": []
   },
   "outputs": [
    {
     "data": {
      "text/html": [
       "<div>\n",
       "<style scoped>\n",
       "    .dataframe tbody tr th:only-of-type {\n",
       "        vertical-align: middle;\n",
       "    }\n",
       "\n",
       "    .dataframe tbody tr th {\n",
       "        vertical-align: top;\n",
       "    }\n",
       "\n",
       "    .dataframe thead th {\n",
       "        text-align: right;\n",
       "    }\n",
       "</style>\n",
       "<table border=\"1\" class=\"dataframe\">\n",
       "  <thead>\n",
       "    <tr style=\"text-align: right;\">\n",
       "      <th></th>\n",
       "      <th>UMAP1</th>\n",
       "      <th>UMAP2</th>\n",
       "      <th>UMAP3</th>\n",
       "      <th>UMAP4</th>\n",
       "      <th>UMAP5</th>\n",
       "      <th>UMAP6</th>\n",
       "      <th>UMAP7</th>\n",
       "      <th>UMAP8</th>\n",
       "      <th>UMAP9</th>\n",
       "      <th>UMAP10</th>\n",
       "      <th>...</th>\n",
       "      <th>UMAP41</th>\n",
       "      <th>UMAP42</th>\n",
       "      <th>UMAP43</th>\n",
       "      <th>UMAP44</th>\n",
       "      <th>UMAP45</th>\n",
       "      <th>UMAP46</th>\n",
       "      <th>UMAP47</th>\n",
       "      <th>UMAP48</th>\n",
       "      <th>UMAP49</th>\n",
       "      <th>UMAP50</th>\n",
       "    </tr>\n",
       "  </thead>\n",
       "  <tbody>\n",
       "    <tr>\n",
       "      <th>100001_raw-Food_weight</th>\n",
       "      <td>9.587280</td>\n",
       "      <td>8.050184</td>\n",
       "      <td>9.340894</td>\n",
       "      <td>8.884522</td>\n",
       "      <td>4.562011</td>\n",
       "      <td>9.261327</td>\n",
       "      <td>9.078164</td>\n",
       "      <td>8.009141</td>\n",
       "      <td>9.288872</td>\n",
       "      <td>9.827831</td>\n",
       "      <td>...</td>\n",
       "      <td>9.753575</td>\n",
       "      <td>0.440851</td>\n",
       "      <td>-0.077164</td>\n",
       "      <td>-0.184829</td>\n",
       "      <td>9.345852</td>\n",
       "      <td>0.622542</td>\n",
       "      <td>-0.051136</td>\n",
       "      <td>4.266558</td>\n",
       "      <td>8.047482</td>\n",
       "      <td>-0.317385</td>\n",
       "    </tr>\n",
       "    <tr>\n",
       "      <th>100002_raw-Energy</th>\n",
       "      <td>9.910512</td>\n",
       "      <td>8.372274</td>\n",
       "      <td>9.605316</td>\n",
       "      <td>9.808598</td>\n",
       "      <td>4.641970</td>\n",
       "      <td>9.360196</td>\n",
       "      <td>8.848985</td>\n",
       "      <td>7.768594</td>\n",
       "      <td>9.231921</td>\n",
       "      <td>9.328465</td>\n",
       "      <td>...</td>\n",
       "      <td>9.647689</td>\n",
       "      <td>0.581584</td>\n",
       "      <td>0.547930</td>\n",
       "      <td>0.600128</td>\n",
       "      <td>8.976416</td>\n",
       "      <td>1.249645</td>\n",
       "      <td>0.234843</td>\n",
       "      <td>4.636343</td>\n",
       "      <td>7.173085</td>\n",
       "      <td>0.137119</td>\n",
       "    </tr>\n",
       "    <tr>\n",
       "      <th>100003_raw-Protein</th>\n",
       "      <td>9.923088</td>\n",
       "      <td>8.380640</td>\n",
       "      <td>9.609899</td>\n",
       "      <td>9.836457</td>\n",
       "      <td>4.647365</td>\n",
       "      <td>9.366775</td>\n",
       "      <td>8.835996</td>\n",
       "      <td>7.767549</td>\n",
       "      <td>9.230281</td>\n",
       "      <td>9.314386</td>\n",
       "      <td>...</td>\n",
       "      <td>9.642637</td>\n",
       "      <td>0.580362</td>\n",
       "      <td>0.565898</td>\n",
       "      <td>0.621073</td>\n",
       "      <td>8.967297</td>\n",
       "      <td>1.271435</td>\n",
       "      <td>0.243960</td>\n",
       "      <td>4.648671</td>\n",
       "      <td>7.149967</td>\n",
       "      <td>0.148192</td>\n",
       "    </tr>\n",
       "    <tr>\n",
       "      <th>100004_raw-Fat</th>\n",
       "      <td>9.898531</td>\n",
       "      <td>8.375697</td>\n",
       "      <td>9.600443</td>\n",
       "      <td>9.785713</td>\n",
       "      <td>4.639249</td>\n",
       "      <td>9.360721</td>\n",
       "      <td>8.886237</td>\n",
       "      <td>7.783376</td>\n",
       "      <td>9.237095</td>\n",
       "      <td>9.345434</td>\n",
       "      <td>...</td>\n",
       "      <td>9.648270</td>\n",
       "      <td>0.573073</td>\n",
       "      <td>0.521042</td>\n",
       "      <td>0.576926</td>\n",
       "      <td>8.979161</td>\n",
       "      <td>1.227988</td>\n",
       "      <td>0.231848</td>\n",
       "      <td>4.622777</td>\n",
       "      <td>7.205517</td>\n",
       "      <td>0.147385</td>\n",
       "    </tr>\n",
       "    <tr>\n",
       "      <th>100005_raw-Carbohydrate</th>\n",
       "      <td>9.895807</td>\n",
       "      <td>8.376662</td>\n",
       "      <td>9.605841</td>\n",
       "      <td>9.791338</td>\n",
       "      <td>4.636903</td>\n",
       "      <td>9.352356</td>\n",
       "      <td>8.867312</td>\n",
       "      <td>7.774787</td>\n",
       "      <td>9.233479</td>\n",
       "      <td>9.344456</td>\n",
       "      <td>...</td>\n",
       "      <td>9.652949</td>\n",
       "      <td>0.575161</td>\n",
       "      <td>0.529565</td>\n",
       "      <td>0.579919</td>\n",
       "      <td>8.988125</td>\n",
       "      <td>1.231771</td>\n",
       "      <td>0.226778</td>\n",
       "      <td>4.624360</td>\n",
       "      <td>7.194818</td>\n",
       "      <td>0.123104</td>\n",
       "    </tr>\n",
       "  </tbody>\n",
       "</table>\n",
       "<p>5 rows × 50 columns</p>\n",
       "</div>"
      ],
      "text/plain": [
       "                            UMAP1     UMAP2     UMAP3     UMAP4     UMAP5  \\\n",
       "100001_raw-Food_weight   9.587280  8.050184  9.340894  8.884522  4.562011   \n",
       "100002_raw-Energy        9.910512  8.372274  9.605316  9.808598  4.641970   \n",
       "100003_raw-Protein       9.923088  8.380640  9.609899  9.836457  4.647365   \n",
       "100004_raw-Fat           9.898531  8.375697  9.600443  9.785713  4.639249   \n",
       "100005_raw-Carbohydrate  9.895807  8.376662  9.605841  9.791338  4.636903   \n",
       "\n",
       "                            UMAP6     UMAP7     UMAP8     UMAP9    UMAP10  \\\n",
       "100001_raw-Food_weight   9.261327  9.078164  8.009141  9.288872  9.827831   \n",
       "100002_raw-Energy        9.360196  8.848985  7.768594  9.231921  9.328465   \n",
       "100003_raw-Protein       9.366775  8.835996  7.767549  9.230281  9.314386   \n",
       "100004_raw-Fat           9.360721  8.886237  7.783376  9.237095  9.345434   \n",
       "100005_raw-Carbohydrate  9.352356  8.867312  7.774787  9.233479  9.344456   \n",
       "\n",
       "                         ...    UMAP41    UMAP42    UMAP43    UMAP44  \\\n",
       "100001_raw-Food_weight   ...  9.753575  0.440851 -0.077164 -0.184829   \n",
       "100002_raw-Energy        ...  9.647689  0.581584  0.547930  0.600128   \n",
       "100003_raw-Protein       ...  9.642637  0.580362  0.565898  0.621073   \n",
       "100004_raw-Fat           ...  9.648270  0.573073  0.521042  0.576926   \n",
       "100005_raw-Carbohydrate  ...  9.652949  0.575161  0.529565  0.579919   \n",
       "\n",
       "                           UMAP45    UMAP46    UMAP47    UMAP48    UMAP49  \\\n",
       "100001_raw-Food_weight   9.345852  0.622542 -0.051136  4.266558  8.047482   \n",
       "100002_raw-Energy        8.976416  1.249645  0.234843  4.636343  7.173085   \n",
       "100003_raw-Protein       8.967297  1.271435  0.243960  4.648671  7.149967   \n",
       "100004_raw-Fat           8.979161  1.227988  0.231848  4.622777  7.205517   \n",
       "100005_raw-Carbohydrate  8.988125  1.231771  0.226778  4.624360  7.194818   \n",
       "\n",
       "                           UMAP50  \n",
       "100001_raw-Food_weight  -0.317385  \n",
       "100002_raw-Energy        0.137119  \n",
       "100003_raw-Protein       0.148192  \n",
       "100004_raw-Fat           0.147385  \n",
       "100005_raw-Carbohydrate  0.123104  \n",
       "\n",
       "[5 rows x 50 columns]"
      ]
     },
     "execution_count": 12,
     "metadata": {},
     "output_type": "execute_result"
    }
   ],
   "source": [
    "data.head()"
   ]
  },
  {
   "cell_type": "markdown",
   "metadata": {
    "papermill": {
     "duration": 0.027091,
     "end_time": "2021-03-09T18:27:10.248368",
     "exception": false,
     "start_time": "2021-03-09T18:27:10.221277",
     "status": "completed"
    },
    "tags": []
   },
   "source": [
    "# Clustering"
   ]
  },
  {
   "cell_type": "code",
   "execution_count": 13,
   "metadata": {
    "execution": {
     "iopub.execute_input": "2021-03-09T18:27:10.304670Z",
     "iopub.status.busy": "2021-03-09T18:27:10.304308Z",
     "iopub.status.idle": "2021-03-09T18:27:10.429509Z",
     "shell.execute_reply": "2021-03-09T18:27:10.429146Z"
    },
    "papermill": {
     "duration": 0.154484,
     "end_time": "2021-03-09T18:27:10.429590",
     "exception": false,
     "start_time": "2021-03-09T18:27:10.275106",
     "status": "completed"
    },
    "tags": []
   },
   "outputs": [],
   "source": [
    "from sklearn.cluster import SpectralClustering\n",
    "\n",
    "from clustering.utils import compute_performance"
   ]
  },
  {
   "cell_type": "markdown",
   "metadata": {
    "papermill": {
     "duration": 0.02683,
     "end_time": "2021-03-09T18:27:10.484528",
     "exception": false,
     "start_time": "2021-03-09T18:27:10.457698",
     "status": "completed"
    },
    "tags": []
   },
   "source": [
    "## `gamma` parameter"
   ]
  },
  {
   "cell_type": "markdown",
   "metadata": {
    "papermill": {
     "duration": 0.027111,
     "end_time": "2021-03-09T18:27:10.538546",
     "exception": false,
     "start_time": "2021-03-09T18:27:10.511435",
     "status": "completed"
    },
    "tags": []
   },
   "source": [
    "### Using default value (`gamma=1.0`)"
   ]
  },
  {
   "cell_type": "code",
   "execution_count": 14,
   "metadata": {
    "execution": {
     "iopub.execute_input": "2021-03-09T18:27:10.595282Z",
     "iopub.status.busy": "2021-03-09T18:27:10.594894Z",
     "iopub.status.idle": "2021-03-09T18:27:11.762325Z",
     "shell.execute_reply": "2021-03-09T18:27:11.761950Z"
    },
    "papermill": {
     "duration": 1.19711,
     "end_time": "2021-03-09T18:27:11.762430",
     "exception": false,
     "start_time": "2021-03-09T18:27:10.565320",
     "status": "completed"
    },
    "tags": []
   },
   "outputs": [],
   "source": [
    "with warnings.catch_warnings():\n",
    "    warnings.filterwarnings(\"always\")\n",
    "\n",
    "    clus = SpectralClustering(\n",
    "        eigen_solver=\"arpack\",\n",
    "        eigen_tol=1e-3,\n",
    "        n_clusters=2,\n",
    "        n_init=1,\n",
    "        affinity=\"rbf\",\n",
    "        gamma=1.00,\n",
    "        random_state=INITIAL_RANDOM_STATE,\n",
    "    )\n",
    "\n",
    "    part = clus.fit_predict(data)"
   ]
  },
  {
   "cell_type": "code",
   "execution_count": 15,
   "metadata": {
    "execution": {
     "iopub.execute_input": "2021-03-09T18:27:11.825506Z",
     "iopub.status.busy": "2021-03-09T18:27:11.825135Z",
     "iopub.status.idle": "2021-03-09T18:27:11.838825Z",
     "shell.execute_reply": "2021-03-09T18:27:11.838483Z"
    },
    "papermill": {
     "duration": 0.04404,
     "end_time": "2021-03-09T18:27:11.838908",
     "exception": false,
     "start_time": "2021-03-09T18:27:11.794868",
     "status": "completed"
    },
    "tags": []
   },
   "outputs": [
    {
     "data": {
      "text/plain": [
       "0    3744\n",
       "1       8\n",
       "dtype: int64"
      ]
     },
     "metadata": {},
     "output_type": "display_data"
    }
   ],
   "source": [
    "# show number of clusters and their size\n",
    "_tmp = pd.Series(part).value_counts()\n",
    "display(_tmp)\n",
    "assert _tmp.shape[0] == 2\n",
    "assert _tmp.loc[1] == 8"
   ]
  },
  {
   "cell_type": "code",
   "execution_count": 16,
   "metadata": {
    "execution": {
     "iopub.execute_input": "2021-03-09T18:27:11.896595Z",
     "iopub.status.busy": "2021-03-09T18:27:11.896235Z",
     "iopub.status.idle": "2021-03-09T18:27:12.068591Z",
     "shell.execute_reply": "2021-03-09T18:27:12.068268Z"
    },
    "papermill": {
     "duration": 0.20228,
     "end_time": "2021-03-09T18:27:12.068674",
     "exception": false,
     "start_time": "2021-03-09T18:27:11.866394",
     "status": "completed"
    },
    "tags": []
   },
   "outputs": [
    {
     "data": {
      "text/plain": [
       "'Silhouette (higher is better): 0.205'"
      ]
     },
     "metadata": {},
     "output_type": "display_data"
    },
    {
     "data": {
      "text/plain": [
       "'Calinski-Harabasz (higher is better): 13.462'"
      ]
     },
     "metadata": {},
     "output_type": "display_data"
    },
    {
     "data": {
      "text/plain": [
       "'Davies-Bouldin (lower is better): 0.740'"
      ]
     },
     "metadata": {},
     "output_type": "display_data"
    }
   ],
   "source": [
    "# show some clustering performance measures to assess the quality of the partition\n",
    "_tmp = compute_performance(data, part)\n",
    "assert 0.20 < _tmp[\"si\"] < 0.25\n",
    "assert 10.0 < _tmp[\"ch\"] < 15.00\n",
    "assert 0.70 < _tmp[\"db\"] < 0.80"
   ]
  },
  {
   "cell_type": "markdown",
   "metadata": {
    "papermill": {
     "duration": 0.029526,
     "end_time": "2021-03-09T18:27:12.128142",
     "exception": false,
     "start_time": "2021-03-09T18:27:12.098616",
     "status": "completed"
    },
    "tags": []
   },
   "source": [
    "For default values of `gamma` (`1.0`), the algorithm takes a lot of time to converge (here I used `eigen_tol=1e-03` to force convergence)."
   ]
  },
  {
   "cell_type": "markdown",
   "metadata": {
    "papermill": {
     "duration": 0.028025,
     "end_time": "2021-03-09T18:27:12.185340",
     "exception": false,
     "start_time": "2021-03-09T18:27:12.157315",
     "status": "completed"
    },
    "tags": []
   },
   "source": [
    "### Using `gamma>1.0` (larger than default value)"
   ]
  },
  {
   "cell_type": "code",
   "execution_count": 17,
   "metadata": {
    "execution": {
     "iopub.execute_input": "2021-03-09T18:27:12.246130Z",
     "iopub.status.busy": "2021-03-09T18:27:12.245764Z",
     "iopub.status.idle": "2021-03-09T18:27:13.719611Z",
     "shell.execute_reply": "2021-03-09T18:27:13.719194Z"
    },
    "papermill": {
     "duration": 1.506201,
     "end_time": "2021-03-09T18:27:13.719716",
     "exception": false,
     "start_time": "2021-03-09T18:27:12.213515",
     "status": "completed"
    },
    "tags": []
   },
   "outputs": [],
   "source": [
    "with warnings.catch_warnings():\n",
    "    warnings.filterwarnings(\"always\")\n",
    "\n",
    "    clus = SpectralClustering(\n",
    "        eigen_solver=\"arpack\",\n",
    "        eigen_tol=1e-3,\n",
    "        n_clusters=2,\n",
    "        n_init=1,\n",
    "        affinity=\"rbf\",\n",
    "        gamma=2.50,\n",
    "        random_state=INITIAL_RANDOM_STATE,\n",
    "    )\n",
    "\n",
    "    part = clus.fit_predict(data)"
   ]
  },
  {
   "cell_type": "code",
   "execution_count": 18,
   "metadata": {
    "execution": {
     "iopub.execute_input": "2021-03-09T18:27:13.784658Z",
     "iopub.status.busy": "2021-03-09T18:27:13.784292Z",
     "iopub.status.idle": "2021-03-09T18:27:13.796518Z",
     "shell.execute_reply": "2021-03-09T18:27:13.796210Z"
    },
    "papermill": {
     "duration": 0.043583,
     "end_time": "2021-03-09T18:27:13.796606",
     "exception": false,
     "start_time": "2021-03-09T18:27:13.753023",
     "status": "completed"
    },
    "tags": []
   },
   "outputs": [
    {
     "data": {
      "text/plain": [
       "0    3738\n",
       "1      14\n",
       "dtype: int64"
      ]
     },
     "metadata": {},
     "output_type": "display_data"
    }
   ],
   "source": [
    "# show number of clusters and their size\n",
    "_tmp = pd.Series(part).value_counts()\n",
    "display(_tmp)\n",
    "assert _tmp.shape[0] == 2\n",
    "assert _tmp.loc[1] == 14"
   ]
  },
  {
   "cell_type": "code",
   "execution_count": 19,
   "metadata": {
    "execution": {
     "iopub.execute_input": "2021-03-09T18:27:13.857111Z",
     "iopub.status.busy": "2021-03-09T18:27:13.856687Z",
     "iopub.status.idle": "2021-03-09T18:27:14.023825Z",
     "shell.execute_reply": "2021-03-09T18:27:14.023447Z"
    },
    "papermill": {
     "duration": 0.19824,
     "end_time": "2021-03-09T18:27:14.023908",
     "exception": false,
     "start_time": "2021-03-09T18:27:13.825668",
     "status": "completed"
    },
    "tags": []
   },
   "outputs": [
    {
     "data": {
      "text/plain": [
       "'Silhouette (higher is better): 0.022'"
      ]
     },
     "metadata": {},
     "output_type": "display_data"
    },
    {
     "data": {
      "text/plain": [
       "'Calinski-Harabasz (higher is better): 12.053'"
      ]
     },
     "metadata": {},
     "output_type": "display_data"
    },
    {
     "data": {
      "text/plain": [
       "'Davies-Bouldin (lower is better): 1.050'"
      ]
     },
     "metadata": {},
     "output_type": "display_data"
    }
   ],
   "source": [
    "# show some clustering performance measures to assess the quality of the partition\n",
    "_tmp = compute_performance(data, part)\n",
    "assert 0.01 < _tmp[\"si\"] < 0.03\n",
    "assert 10.0 < _tmp[\"ch\"] < 13.00\n",
    "assert 1.00 < _tmp[\"db\"] < 1.10"
   ]
  },
  {
   "cell_type": "markdown",
   "metadata": {
    "papermill": {
     "duration": 0.029796,
     "end_time": "2021-03-09T18:27:14.084148",
     "exception": false,
     "start_time": "2021-03-09T18:27:14.054352",
     "status": "completed"
    },
    "tags": []
   },
   "source": [
    "For default values of `gamma` (`1.0`), the algorithm takes a lot of time to converge (here I used `eigen_tol=1e-03` to force convergence).\n",
    "\n",
    "Also, all quality measures go down."
   ]
  },
  {
   "cell_type": "markdown",
   "metadata": {
    "papermill": {
     "duration": 0.029126,
     "end_time": "2021-03-09T18:27:14.142702",
     "exception": false,
     "start_time": "2021-03-09T18:27:14.113576",
     "status": "completed"
    },
    "tags": []
   },
   "source": [
    "### Using `gamma==0.1`"
   ]
  },
  {
   "cell_type": "code",
   "execution_count": 20,
   "metadata": {
    "execution": {
     "iopub.execute_input": "2021-03-09T18:27:14.203397Z",
     "iopub.status.busy": "2021-03-09T18:27:14.203038Z",
     "iopub.status.idle": "2021-03-09T18:27:15.357073Z",
     "shell.execute_reply": "2021-03-09T18:27:15.356393Z"
    },
    "papermill": {
     "duration": 1.185917,
     "end_time": "2021-03-09T18:27:15.357183",
     "exception": false,
     "start_time": "2021-03-09T18:27:14.171266",
     "status": "completed"
    },
    "tags": []
   },
   "outputs": [],
   "source": [
    "with warnings.catch_warnings():\n",
    "    warnings.filterwarnings(\"always\")\n",
    "\n",
    "    clus = SpectralClustering(\n",
    "        eigen_solver=\"arpack\",\n",
    "        #         eigen_tol=1e-3,\n",
    "        n_clusters=2,\n",
    "        n_init=1,\n",
    "        affinity=\"rbf\",\n",
    "        gamma=0.1,\n",
    "        random_state=INITIAL_RANDOM_STATE,\n",
    "    )\n",
    "\n",
    "    part = clus.fit_predict(data)"
   ]
  },
  {
   "cell_type": "code",
   "execution_count": 21,
   "metadata": {
    "execution": {
     "iopub.execute_input": "2021-03-09T18:27:15.423700Z",
     "iopub.status.busy": "2021-03-09T18:27:15.423330Z",
     "iopub.status.idle": "2021-03-09T18:27:15.435633Z",
     "shell.execute_reply": "2021-03-09T18:27:15.435239Z"
    },
    "papermill": {
     "duration": 0.044432,
     "end_time": "2021-03-09T18:27:15.435725",
     "exception": false,
     "start_time": "2021-03-09T18:27:15.391293",
     "status": "completed"
    },
    "tags": []
   },
   "outputs": [
    {
     "data": {
      "text/plain": [
       "0    3744\n",
       "1       8\n",
       "dtype: int64"
      ]
     },
     "metadata": {},
     "output_type": "display_data"
    }
   ],
   "source": [
    "# show number of clusters and their size\n",
    "_tmp = pd.Series(part).value_counts()\n",
    "display(_tmp)\n",
    "assert _tmp.shape[0] == 2\n",
    "assert _tmp.loc[1] == 8"
   ]
  },
  {
   "cell_type": "code",
   "execution_count": 22,
   "metadata": {
    "execution": {
     "iopub.execute_input": "2021-03-09T18:27:15.497269Z",
     "iopub.status.busy": "2021-03-09T18:27:15.496896Z",
     "iopub.status.idle": "2021-03-09T18:27:15.668278Z",
     "shell.execute_reply": "2021-03-09T18:27:15.668569Z"
    },
    "papermill": {
     "duration": 0.203436,
     "end_time": "2021-03-09T18:27:15.668679",
     "exception": false,
     "start_time": "2021-03-09T18:27:15.465243",
     "status": "completed"
    },
    "tags": []
   },
   "outputs": [
    {
     "data": {
      "text/plain": [
       "'Silhouette (higher is better): 0.761'"
      ]
     },
     "metadata": {},
     "output_type": "display_data"
    },
    {
     "data": {
      "text/plain": [
       "'Calinski-Harabasz (higher is better): 220.724'"
      ]
     },
     "metadata": {},
     "output_type": "display_data"
    },
    {
     "data": {
      "text/plain": [
       "'Davies-Bouldin (lower is better): 0.181'"
      ]
     },
     "metadata": {},
     "output_type": "display_data"
    }
   ],
   "source": [
    "# show some clustering performance measures to assess the quality of the partition\n",
    "_tmp = compute_performance(data, part)\n",
    "assert 0.70 < _tmp[\"si\"] < 0.80\n",
    "assert 215.0 < _tmp[\"ch\"] < 225.00\n",
    "assert 0.15 < _tmp[\"db\"] < 0.20"
   ]
  },
  {
   "cell_type": "markdown",
   "metadata": {
    "papermill": {
     "duration": 0.03066,
     "end_time": "2021-03-09T18:27:15.730774",
     "exception": false,
     "start_time": "2021-03-09T18:27:15.700114",
     "status": "completed"
    },
    "tags": []
   },
   "source": [
    "For `gamma` values around `0.1`, clustering quality measures improve. I will explore more around these values."
   ]
  },
  {
   "cell_type": "markdown",
   "metadata": {
    "papermill": {
     "duration": 0.030078,
     "end_time": "2021-03-09T18:27:15.791328",
     "exception": false,
     "start_time": "2021-03-09T18:27:15.761250",
     "status": "completed"
    },
    "tags": []
   },
   "source": [
    "### Using `gamma==0.01`"
   ]
  },
  {
   "cell_type": "code",
   "execution_count": 23,
   "metadata": {
    "execution": {
     "iopub.execute_input": "2021-03-09T18:27:15.854372Z",
     "iopub.status.busy": "2021-03-09T18:27:15.854013Z",
     "iopub.status.idle": "2021-03-09T18:27:17.010683Z",
     "shell.execute_reply": "2021-03-09T18:27:17.010297Z"
    },
    "papermill": {
     "duration": 1.189632,
     "end_time": "2021-03-09T18:27:17.010793",
     "exception": false,
     "start_time": "2021-03-09T18:27:15.821161",
     "status": "completed"
    },
    "tags": []
   },
   "outputs": [],
   "source": [
    "with warnings.catch_warnings():\n",
    "    warnings.filterwarnings(\"always\")\n",
    "\n",
    "    clus = SpectralClustering(\n",
    "        eigen_solver=\"arpack\",\n",
    "        #         eigen_tol=1e-3,\n",
    "        n_clusters=2,\n",
    "        n_init=1,\n",
    "        affinity=\"rbf\",\n",
    "        gamma=0.01,\n",
    "        random_state=INITIAL_RANDOM_STATE,\n",
    "    )\n",
    "\n",
    "    part = clus.fit_predict(data)"
   ]
  },
  {
   "cell_type": "code",
   "execution_count": 24,
   "metadata": {
    "execution": {
     "iopub.execute_input": "2021-03-09T18:27:17.079715Z",
     "iopub.status.busy": "2021-03-09T18:27:17.079347Z",
     "iopub.status.idle": "2021-03-09T18:27:17.092116Z",
     "shell.execute_reply": "2021-03-09T18:27:17.091767Z"
    },
    "papermill": {
     "duration": 0.045989,
     "end_time": "2021-03-09T18:27:17.092202",
     "exception": false,
     "start_time": "2021-03-09T18:27:17.046213",
     "status": "completed"
    },
    "tags": []
   },
   "outputs": [
    {
     "data": {
      "text/plain": [
       "1    1926\n",
       "0    1826\n",
       "dtype: int64"
      ]
     },
     "metadata": {},
     "output_type": "display_data"
    }
   ],
   "source": [
    "# show number of clusters and their size\n",
    "_tmp = pd.Series(part).value_counts()\n",
    "display(_tmp)\n",
    "assert _tmp.shape[0] == 2\n",
    "assert _tmp.loc[1] > 1000"
   ]
  },
  {
   "cell_type": "code",
   "execution_count": 25,
   "metadata": {
    "execution": {
     "iopub.execute_input": "2021-03-09T18:27:17.156338Z",
     "iopub.status.busy": "2021-03-09T18:27:17.155977Z",
     "iopub.status.idle": "2021-03-09T18:27:17.321306Z",
     "shell.execute_reply": "2021-03-09T18:27:17.320926Z"
    },
    "papermill": {
     "duration": 0.198384,
     "end_time": "2021-03-09T18:27:17.321391",
     "exception": false,
     "start_time": "2021-03-09T18:27:17.123007",
     "status": "completed"
    },
    "tags": []
   },
   "outputs": [
    {
     "data": {
      "text/plain": [
       "'Silhouette (higher is better): 0.356'"
      ]
     },
     "metadata": {},
     "output_type": "display_data"
    },
    {
     "data": {
      "text/plain": [
       "'Calinski-Harabasz (higher is better): 1802.399'"
      ]
     },
     "metadata": {},
     "output_type": "display_data"
    },
    {
     "data": {
      "text/plain": [
       "'Davies-Bouldin (lower is better): 1.242'"
      ]
     },
     "metadata": {},
     "output_type": "display_data"
    }
   ],
   "source": [
    "# show some clustering performance measures to assess the quality of the partition\n",
    "_tmp = compute_performance(data, part)\n",
    "assert 0.30 < _tmp[\"si\"] < 0.40\n",
    "assert 1800.0 < _tmp[\"ch\"] < 1810.00\n",
    "assert 1.20 < _tmp[\"db\"] < 1.30"
   ]
  },
  {
   "cell_type": "markdown",
   "metadata": {
    "papermill": {
     "duration": 0.031648,
     "end_time": "2021-03-09T18:27:17.385594",
     "exception": false,
     "start_time": "2021-03-09T18:27:17.353946",
     "status": "completed"
    },
    "tags": []
   },
   "source": [
    "For `gamma` values around `0.01`, some clustering quality measures improve a lot. I will explore more around these values."
   ]
  },
  {
   "cell_type": "markdown",
   "metadata": {
    "papermill": {
     "duration": 0.035714,
     "end_time": "2021-03-09T18:27:17.471196",
     "exception": false,
     "start_time": "2021-03-09T18:27:17.435482",
     "status": "completed"
    },
    "tags": []
   },
   "source": [
    "## Extended test"
   ]
  },
  {
   "cell_type": "markdown",
   "metadata": {
    "papermill": {
     "duration": 0.03049,
     "end_time": "2021-03-09T18:27:17.532315",
     "exception": false,
     "start_time": "2021-03-09T18:27:17.501825",
     "status": "completed"
    },
    "tags": []
   },
   "source": [
    "Here I run some test across several `k` and `gamma` values; then I check how results perform with different clustering quality measures."
   ]
  },
  {
   "cell_type": "code",
   "execution_count": 26,
   "metadata": {
    "execution": {
     "iopub.execute_input": "2021-03-09T18:27:17.598119Z",
     "iopub.status.busy": "2021-03-09T18:27:17.597753Z",
     "iopub.status.idle": "2021-03-09T18:27:17.609137Z",
     "shell.execute_reply": "2021-03-09T18:27:17.608774Z"
    },
    "papermill": {
     "duration": 0.046063,
     "end_time": "2021-03-09T18:27:17.609219",
     "exception": false,
     "start_time": "2021-03-09T18:27:17.563156",
     "status": "completed"
    },
    "tags": []
   },
   "outputs": [
    {
     "data": {
      "text/plain": [
       "{'K_RANGE': [2, 4, 6, 8, 10, 20, 30, 40, 50, 60],\n",
       " 'N_REPS_PER_K': 5,\n",
       " 'KMEANS_N_INIT': 10,\n",
       " 'GAMMAS': [1.0, 0.1, 0.01, 0.001, 1e-05, 1e-10, 1e-15, 1e-20, 1e-50],\n",
       " 'AFFINITY': 'rbf'}"
      ]
     },
     "metadata": {},
     "output_type": "display_data"
    }
   ],
   "source": [
    "CLUSTERING_OPTIONS = {}\n",
    "\n",
    "CLUSTERING_OPTIONS[\"K_RANGE\"] = [2, 4, 6, 8, 10, 20, 30, 40, 50, 60]\n",
    "CLUSTERING_OPTIONS[\"N_REPS_PER_K\"] = 5\n",
    "CLUSTERING_OPTIONS[\"KMEANS_N_INIT\"] = 10\n",
    "CLUSTERING_OPTIONS[\"GAMMAS\"] = [\n",
    "    1.00,\n",
    "    1e-01,\n",
    "    1e-02,\n",
    "    1e-03,\n",
    "    #     1e-04,\n",
    "    #     1e-05,\n",
    "    1e-05,\n",
    "    #     1e-06,\n",
    "    #     1e-07,\n",
    "    #     1e-08,\n",
    "    #     1e-09,\n",
    "    1e-10,\n",
    "    #     1e-11,\n",
    "    #     1e-12,\n",
    "    #     1e-13,\n",
    "    #     1e-14,\n",
    "    1e-15,\n",
    "    #     1e-17,\n",
    "    1e-20,\n",
    "    #     1e-30,\n",
    "    #     1e-40,\n",
    "    1e-50,\n",
    "]\n",
    "CLUSTERING_OPTIONS[\"AFFINITY\"] = \"rbf\"\n",
    "\n",
    "display(CLUSTERING_OPTIONS)"
   ]
  },
  {
   "cell_type": "code",
   "execution_count": 27,
   "metadata": {
    "execution": {
     "iopub.execute_input": "2021-03-09T18:27:17.678962Z",
     "iopub.status.busy": "2021-03-09T18:27:17.678575Z",
     "iopub.status.idle": "2021-03-09T18:27:17.690264Z",
     "shell.execute_reply": "2021-03-09T18:27:17.690545Z"
    },
    "papermill": {
     "duration": 0.047896,
     "end_time": "2021-03-09T18:27:17.690651",
     "exception": false,
     "start_time": "2021-03-09T18:27:17.642755",
     "status": "completed"
    },
    "tags": []
   },
   "outputs": [],
   "source": [
    "CLUSTERERS = {}\n",
    "\n",
    "idx = 0\n",
    "random_state = INITIAL_RANDOM_STATE\n",
    "\n",
    "for k in CLUSTERING_OPTIONS[\"K_RANGE\"]:\n",
    "    for gamma_value in CLUSTERING_OPTIONS[\"GAMMAS\"]:\n",
    "        for i in range(CLUSTERING_OPTIONS[\"N_REPS_PER_K\"]):\n",
    "            clus = SpectralClustering(\n",
    "                eigen_solver=\"arpack\",\n",
    "                n_clusters=k,\n",
    "                n_init=CLUSTERING_OPTIONS[\"KMEANS_N_INIT\"],\n",
    "                affinity=CLUSTERING_OPTIONS[\"AFFINITY\"],\n",
    "                gamma=gamma_value,\n",
    "                random_state=random_state,\n",
    "            )\n",
    "\n",
    "            method_name = type(clus).__name__\n",
    "            CLUSTERERS[f\"{method_name} #{idx}\"] = clus\n",
    "\n",
    "            random_state = random_state + 1\n",
    "            idx = idx + 1"
   ]
  },
  {
   "cell_type": "code",
   "execution_count": 28,
   "metadata": {
    "execution": {
     "iopub.execute_input": "2021-03-09T18:27:17.757505Z",
     "iopub.status.busy": "2021-03-09T18:27:17.757150Z",
     "iopub.status.idle": "2021-03-09T18:27:17.768327Z",
     "shell.execute_reply": "2021-03-09T18:27:17.767959Z"
    },
    "papermill": {
     "duration": 0.045091,
     "end_time": "2021-03-09T18:27:17.768422",
     "exception": false,
     "start_time": "2021-03-09T18:27:17.723331",
     "status": "completed"
    },
    "tags": []
   },
   "outputs": [
    {
     "data": {
      "text/plain": [
       "450"
      ]
     },
     "metadata": {},
     "output_type": "display_data"
    }
   ],
   "source": [
    "display(len(CLUSTERERS))"
   ]
  },
  {
   "cell_type": "code",
   "execution_count": 29,
   "metadata": {
    "execution": {
     "iopub.execute_input": "2021-03-09T18:27:17.836592Z",
     "iopub.status.busy": "2021-03-09T18:27:17.836237Z",
     "iopub.status.idle": "2021-03-09T18:27:17.848760Z",
     "shell.execute_reply": "2021-03-09T18:27:17.848338Z"
    },
    "papermill": {
     "duration": 0.046826,
     "end_time": "2021-03-09T18:27:17.848846",
     "exception": false,
     "start_time": "2021-03-09T18:27:17.802020",
     "status": "completed"
    },
    "tags": []
   },
   "outputs": [
    {
     "data": {
      "text/plain": [
       "('SpectralClustering #0',\n",
       " SpectralClustering(eigen_solver='arpack', n_clusters=2, random_state=50000))"
      ]
     },
     "metadata": {},
     "output_type": "display_data"
    },
    {
     "data": {
      "text/plain": [
       "('SpectralClustering #1',\n",
       " SpectralClustering(eigen_solver='arpack', n_clusters=2, random_state=50001))"
      ]
     },
     "metadata": {},
     "output_type": "display_data"
    }
   ],
   "source": [
    "_iter = iter(CLUSTERERS.items())\n",
    "display(next(_iter))\n",
    "display(next(_iter))"
   ]
  },
  {
   "cell_type": "code",
   "execution_count": 30,
   "metadata": {
    "execution": {
     "iopub.execute_input": "2021-03-09T18:27:17.917420Z",
     "iopub.status.busy": "2021-03-09T18:27:17.917059Z",
     "iopub.status.idle": "2021-03-09T18:27:17.928122Z",
     "shell.execute_reply": "2021-03-09T18:27:17.927753Z"
    },
    "papermill": {
     "duration": 0.046036,
     "end_time": "2021-03-09T18:27:17.928206",
     "exception": false,
     "start_time": "2021-03-09T18:27:17.882170",
     "status": "completed"
    },
    "tags": []
   },
   "outputs": [
    {
     "data": {
      "text/plain": [
       "'SpectralClustering'"
      ]
     },
     "metadata": {},
     "output_type": "display_data"
    }
   ],
   "source": [
    "clustering_method_name = method_name\n",
    "display(clustering_method_name)"
   ]
  },
  {
   "cell_type": "markdown",
   "metadata": {
    "papermill": {
     "duration": 0.032698,
     "end_time": "2021-03-09T18:27:17.994118",
     "exception": false,
     "start_time": "2021-03-09T18:27:17.961420",
     "status": "completed"
    },
    "tags": []
   },
   "source": [
    "## Generate ensemble"
   ]
  },
  {
   "cell_type": "code",
   "execution_count": 31,
   "metadata": {
    "execution": {
     "iopub.execute_input": "2021-03-09T18:27:18.061466Z",
     "iopub.status.busy": "2021-03-09T18:27:18.061104Z",
     "iopub.status.idle": "2021-03-09T18:27:18.074036Z",
     "shell.execute_reply": "2021-03-09T18:27:18.073646Z"
    },
    "papermill": {
     "duration": 0.047569,
     "end_time": "2021-03-09T18:27:18.074124",
     "exception": false,
     "start_time": "2021-03-09T18:27:18.026555",
     "status": "completed"
    },
    "tags": []
   },
   "outputs": [],
   "source": [
    "import tempfile\n",
    "from clustering.ensembles.utils import generate_ensemble"
   ]
  },
  {
   "cell_type": "code",
   "execution_count": 34,
   "metadata": {
    "execution": {
     "iopub.execute_input": "2021-03-09T18:27:18.303070Z",
     "iopub.status.busy": "2021-03-09T18:27:18.302710Z",
     "iopub.status.idle": "2021-03-09T18:27:18.319237Z",
     "shell.execute_reply": "2021-03-09T18:27:18.318919Z"
    },
    "papermill": {
     "duration": 0.051652,
     "end_time": "2021-03-09T18:27:18.319327",
     "exception": false,
     "start_time": "2021-03-09T18:27:18.267675",
     "status": "completed"
    },
    "tags": []
   },
   "outputs": [
    {
     "data": {
      "text/plain": [
       "'Ensemble file exists'"
      ]
     },
     "metadata": {},
     "output_type": "display_data"
    }
   ],
   "source": [
    "ensemble = generate_ensemble(\n",
    "    data,\n",
    "    CLUSTERERS,\n",
    "    attributes=[\"n_clusters\", \"gamma\"],\n",
    ")"
   ]
  },
  {
   "cell_type": "code",
   "execution_count": 35,
   "metadata": {
    "execution": {
     "iopub.execute_input": "2021-03-09T18:27:18.388845Z",
     "iopub.status.busy": "2021-03-09T18:27:18.388438Z",
     "iopub.status.idle": "2021-03-09T18:27:18.399329Z",
     "shell.execute_reply": "2021-03-09T18:27:18.398989Z"
    },
    "papermill": {
     "duration": 0.046265,
     "end_time": "2021-03-09T18:27:18.399412",
     "exception": false,
     "start_time": "2021-03-09T18:27:18.353147",
     "status": "completed"
    },
    "tags": []
   },
   "outputs": [
    {
     "data": {
      "text/plain": [
       "(450, 4)"
      ]
     },
     "execution_count": 35,
     "metadata": {},
     "output_type": "execute_result"
    }
   ],
   "source": [
    "ensemble.shape"
   ]
  },
  {
   "cell_type": "code",
   "execution_count": 36,
   "metadata": {
    "execution": {
     "iopub.execute_input": "2021-03-09T18:27:18.469442Z",
     "iopub.status.busy": "2021-03-09T18:27:18.469080Z",
     "iopub.status.idle": "2021-03-09T18:27:18.487382Z",
     "shell.execute_reply": "2021-03-09T18:27:18.487015Z"
    },
    "papermill": {
     "duration": 0.053978,
     "end_time": "2021-03-09T18:27:18.487467",
     "exception": false,
     "start_time": "2021-03-09T18:27:18.433489",
     "status": "completed"
    },
    "tags": []
   },
   "outputs": [
    {
     "data": {
      "text/html": [
       "<div>\n",
       "<style scoped>\n",
       "    .dataframe tbody tr th:only-of-type {\n",
       "        vertical-align: middle;\n",
       "    }\n",
       "\n",
       "    .dataframe tbody tr th {\n",
       "        vertical-align: top;\n",
       "    }\n",
       "\n",
       "    .dataframe thead th {\n",
       "        text-align: right;\n",
       "    }\n",
       "</style>\n",
       "<table border=\"1\" class=\"dataframe\">\n",
       "  <thead>\n",
       "    <tr style=\"text-align: right;\">\n",
       "      <th></th>\n",
       "      <th>clusterer_params</th>\n",
       "      <th>partition</th>\n",
       "      <th>n_clusters</th>\n",
       "      <th>gamma</th>\n",
       "    </tr>\n",
       "    <tr>\n",
       "      <th>clusterer_id</th>\n",
       "      <th></th>\n",
       "      <th></th>\n",
       "      <th></th>\n",
       "      <th></th>\n",
       "    </tr>\n",
       "  </thead>\n",
       "  <tbody>\n",
       "    <tr>\n",
       "      <th>SpectralClustering #0</th>\n",
       "      <td>{'affinity': 'rbf', 'assign_labels': 'kmeans',...</td>\n",
       "      <td>[0.0, 0.0, 0.0, 0.0, 0.0, 0.0, 0.0, 0.0, 0.0, ...</td>\n",
       "      <td>2</td>\n",
       "      <td>1.0</td>\n",
       "    </tr>\n",
       "    <tr>\n",
       "      <th>SpectralClustering #1</th>\n",
       "      <td>{'affinity': 'rbf', 'assign_labels': 'kmeans',...</td>\n",
       "      <td>[0.0, 0.0, 0.0, 0.0, 0.0, 0.0, 0.0, 0.0, 0.0, ...</td>\n",
       "      <td>2</td>\n",
       "      <td>1.0</td>\n",
       "    </tr>\n",
       "    <tr>\n",
       "      <th>SpectralClustering #2</th>\n",
       "      <td>{'affinity': 'rbf', 'assign_labels': 'kmeans',...</td>\n",
       "      <td>[0.0, 0.0, 0.0, 0.0, 0.0, 0.0, 0.0, 0.0, 0.0, ...</td>\n",
       "      <td>2</td>\n",
       "      <td>1.0</td>\n",
       "    </tr>\n",
       "    <tr>\n",
       "      <th>SpectralClustering #3</th>\n",
       "      <td>{'affinity': 'rbf', 'assign_labels': 'kmeans',...</td>\n",
       "      <td>[0.0, 0.0, 0.0, 0.0, 0.0, 0.0, 0.0, 0.0, 0.0, ...</td>\n",
       "      <td>2</td>\n",
       "      <td>1.0</td>\n",
       "    </tr>\n",
       "    <tr>\n",
       "      <th>SpectralClustering #4</th>\n",
       "      <td>{'affinity': 'rbf', 'assign_labels': 'kmeans',...</td>\n",
       "      <td>[0.0, 0.0, 0.0, 0.0, 0.0, 0.0, 0.0, 0.0, 0.0, ...</td>\n",
       "      <td>2</td>\n",
       "      <td>1.0</td>\n",
       "    </tr>\n",
       "  </tbody>\n",
       "</table>\n",
       "</div>"
      ],
      "text/plain": [
       "                                                        clusterer_params  \\\n",
       "clusterer_id                                                               \n",
       "SpectralClustering #0  {'affinity': 'rbf', 'assign_labels': 'kmeans',...   \n",
       "SpectralClustering #1  {'affinity': 'rbf', 'assign_labels': 'kmeans',...   \n",
       "SpectralClustering #2  {'affinity': 'rbf', 'assign_labels': 'kmeans',...   \n",
       "SpectralClustering #3  {'affinity': 'rbf', 'assign_labels': 'kmeans',...   \n",
       "SpectralClustering #4  {'affinity': 'rbf', 'assign_labels': 'kmeans',...   \n",
       "\n",
       "                                                               partition  \\\n",
       "clusterer_id                                                               \n",
       "SpectralClustering #0  [0.0, 0.0, 0.0, 0.0, 0.0, 0.0, 0.0, 0.0, 0.0, ...   \n",
       "SpectralClustering #1  [0.0, 0.0, 0.0, 0.0, 0.0, 0.0, 0.0, 0.0, 0.0, ...   \n",
       "SpectralClustering #2  [0.0, 0.0, 0.0, 0.0, 0.0, 0.0, 0.0, 0.0, 0.0, ...   \n",
       "SpectralClustering #3  [0.0, 0.0, 0.0, 0.0, 0.0, 0.0, 0.0, 0.0, 0.0, ...   \n",
       "SpectralClustering #4  [0.0, 0.0, 0.0, 0.0, 0.0, 0.0, 0.0, 0.0, 0.0, ...   \n",
       "\n",
       "                       n_clusters  gamma  \n",
       "clusterer_id                              \n",
       "SpectralClustering #0           2    1.0  \n",
       "SpectralClustering #1           2    1.0  \n",
       "SpectralClustering #2           2    1.0  \n",
       "SpectralClustering #3           2    1.0  \n",
       "SpectralClustering #4           2    1.0  "
      ]
     },
     "execution_count": 36,
     "metadata": {},
     "output_type": "execute_result"
    }
   ],
   "source": [
    "ensemble.head()"
   ]
  },
  {
   "cell_type": "code",
   "execution_count": 37,
   "metadata": {
    "execution": {
     "iopub.execute_input": "2021-03-09T18:27:18.559186Z",
     "iopub.status.busy": "2021-03-09T18:27:18.558824Z",
     "iopub.status.idle": "2021-03-09T18:27:18.569832Z",
     "shell.execute_reply": "2021-03-09T18:27:18.569531Z"
    },
    "papermill": {
     "duration": 0.047485,
     "end_time": "2021-03-09T18:27:18.569918",
     "exception": false,
     "start_time": "2021-03-09T18:27:18.522433",
     "status": "completed"
    },
    "tags": []
   },
   "outputs": [],
   "source": [
    "ensemble[\"gamma\"] = ensemble[\"gamma\"].apply(lambda x: f\"{x:.1e}\")"
   ]
  },
  {
   "cell_type": "code",
   "execution_count": 38,
   "metadata": {
    "execution": {
     "iopub.execute_input": "2021-03-09T18:27:18.643109Z",
     "iopub.status.busy": "2021-03-09T18:27:18.642728Z",
     "iopub.status.idle": "2021-03-09T18:27:18.655228Z",
     "shell.execute_reply": "2021-03-09T18:27:18.654837Z"
    },
    "papermill": {
     "duration": 0.050413,
     "end_time": "2021-03-09T18:27:18.655318",
     "exception": false,
     "start_time": "2021-03-09T18:27:18.604905",
     "status": "completed"
    },
    "tags": []
   },
   "outputs": [
    {
     "data": {
      "text/plain": [
       "60    45\n",
       "50    45\n",
       "40    45\n",
       "30    45\n",
       "20    45\n",
       "10    45\n",
       "8     45\n",
       "6     45\n",
       "4     45\n",
       "2     45\n",
       "Name: n_clusters, dtype: int64"
      ]
     },
     "execution_count": 38,
     "metadata": {},
     "output_type": "execute_result"
    }
   ],
   "source": [
    "ensemble[\"n_clusters\"].value_counts()"
   ]
  },
  {
   "cell_type": "code",
   "execution_count": 39,
   "metadata": {
    "execution": {
     "iopub.execute_input": "2021-03-09T18:27:18.727748Z",
     "iopub.status.busy": "2021-03-09T18:27:18.727366Z",
     "iopub.status.idle": "2021-03-09T18:27:18.738646Z",
     "shell.execute_reply": "2021-03-09T18:27:18.738267Z"
    },
    "papermill": {
     "duration": 0.047946,
     "end_time": "2021-03-09T18:27:18.738728",
     "exception": false,
     "start_time": "2021-03-09T18:27:18.690782",
     "status": "completed"
    },
    "tags": []
   },
   "outputs": [],
   "source": [
    "_tmp = ensemble[\"n_clusters\"].value_counts().unique()\n",
    "assert _tmp.shape[0] == 1\n",
    "assert _tmp[0] == int(\n",
    "    CLUSTERING_OPTIONS[\"N_REPS_PER_K\"] * len(CLUSTERING_OPTIONS[\"GAMMAS\"])\n",
    ")"
   ]
  },
  {
   "cell_type": "code",
   "execution_count": 40,
   "metadata": {
    "execution": {
     "iopub.execute_input": "2021-03-09T18:27:18.811017Z",
     "iopub.status.busy": "2021-03-09T18:27:18.810653Z",
     "iopub.status.idle": "2021-03-09T18:27:18.823808Z",
     "shell.execute_reply": "2021-03-09T18:27:18.823439Z"
    },
    "papermill": {
     "duration": 0.050347,
     "end_time": "2021-03-09T18:27:18.823892",
     "exception": false,
     "start_time": "2021-03-09T18:27:18.773545",
     "status": "completed"
    },
    "tags": []
   },
   "outputs": [
    {
     "data": {
      "text/plain": [
       "count    450.000000\n",
       "mean      23.000000\n",
       "std       19.846291\n",
       "min        2.000000\n",
       "25%        6.000000\n",
       "50%       15.000000\n",
       "75%       40.000000\n",
       "max       60.000000\n",
       "Name: n_clusters, dtype: float64"
      ]
     },
     "metadata": {},
     "output_type": "display_data"
    }
   ],
   "source": [
    "ensemble_stats = ensemble[\"n_clusters\"].describe()\n",
    "display(ensemble_stats)"
   ]
  },
  {
   "cell_type": "markdown",
   "metadata": {
    "papermill": {
     "duration": 0.034228,
     "end_time": "2021-03-09T18:27:18.893986",
     "exception": false,
     "start_time": "2021-03-09T18:27:18.859758",
     "status": "completed"
    },
    "tags": []
   },
   "source": [
    "## Testing"
   ]
  },
  {
   "cell_type": "code",
   "execution_count": 41,
   "metadata": {
    "execution": {
     "iopub.execute_input": "2021-03-09T18:27:18.966405Z",
     "iopub.status.busy": "2021-03-09T18:27:18.966007Z",
     "iopub.status.idle": "2021-03-09T18:27:18.976311Z",
     "shell.execute_reply": "2021-03-09T18:27:18.975945Z"
    },
    "papermill": {
     "duration": 0.047537,
     "end_time": "2021-03-09T18:27:18.976394",
     "exception": false,
     "start_time": "2021-03-09T18:27:18.928857",
     "status": "completed"
    },
    "tags": []
   },
   "outputs": [],
   "source": [
    "assert ensemble_stats[\"min\"] > 1"
   ]
  },
  {
   "cell_type": "code",
   "execution_count": 42,
   "metadata": {
    "execution": {
     "iopub.execute_input": "2021-03-09T18:27:19.048539Z",
     "iopub.status.busy": "2021-03-09T18:27:19.048179Z",
     "iopub.status.idle": "2021-03-09T18:27:19.058210Z",
     "shell.execute_reply": "2021-03-09T18:27:19.058485Z"
    },
    "papermill": {
     "duration": 0.047342,
     "end_time": "2021-03-09T18:27:19.058589",
     "exception": false,
     "start_time": "2021-03-09T18:27:19.011247",
     "status": "completed"
    },
    "tags": []
   },
   "outputs": [],
   "source": [
    "assert not ensemble[\"n_clusters\"].isna().any()"
   ]
  },
  {
   "cell_type": "code",
   "execution_count": 43,
   "metadata": {
    "execution": {
     "iopub.execute_input": "2021-03-09T18:27:19.130762Z",
     "iopub.status.busy": "2021-03-09T18:27:19.130406Z",
     "iopub.status.idle": "2021-03-09T18:27:19.140470Z",
     "shell.execute_reply": "2021-03-09T18:27:19.140164Z"
    },
    "papermill": {
     "duration": 0.047327,
     "end_time": "2021-03-09T18:27:19.140556",
     "exception": false,
     "start_time": "2021-03-09T18:27:19.093229",
     "status": "completed"
    },
    "tags": []
   },
   "outputs": [],
   "source": [
    "assert ensemble.shape[0] == len(CLUSTERERS)"
   ]
  },
  {
   "cell_type": "code",
   "execution_count": 44,
   "metadata": {
    "execution": {
     "iopub.execute_input": "2021-03-09T18:27:19.212935Z",
     "iopub.status.busy": "2021-03-09T18:27:19.212539Z",
     "iopub.status.idle": "2021-03-09T18:27:19.249224Z",
     "shell.execute_reply": "2021-03-09T18:27:19.248864Z"
    },
    "papermill": {
     "duration": 0.073595,
     "end_time": "2021-03-09T18:27:19.249305",
     "exception": false,
     "start_time": "2021-03-09T18:27:19.175710",
     "status": "completed"
    },
    "tags": []
   },
   "outputs": [],
   "source": [
    "# all partitions have the right size\n",
    "assert np.all(\n",
    "    [part[\"partition\"].shape[0] == data.shape[0] for idx, part in ensemble.iterrows()]\n",
    ")"
   ]
  },
  {
   "cell_type": "code",
   "execution_count": 45,
   "metadata": {
    "execution": {
     "iopub.execute_input": "2021-03-09T18:27:19.321782Z",
     "iopub.status.busy": "2021-03-09T18:27:19.321407Z",
     "iopub.status.idle": "2021-03-09T18:27:19.446764Z",
     "shell.execute_reply": "2021-03-09T18:27:19.446390Z"
    },
    "papermill": {
     "duration": 0.162902,
     "end_time": "2021-03-09T18:27:19.446848",
     "exception": false,
     "start_time": "2021-03-09T18:27:19.283946",
     "status": "completed"
    },
    "tags": []
   },
   "outputs": [],
   "source": [
    "# no partition has negative clusters (noisy points)\n",
    "assert not np.any([(part[\"partition\"] < 0).any() for idx, part in ensemble.iterrows()])\n",
    "assert not np.any(\n",
    "    [pd.Series(part[\"partition\"]).isna().any() for idx, part in ensemble.iterrows()]\n",
    ")"
   ]
  },
  {
   "cell_type": "code",
   "execution_count": 46,
   "metadata": {
    "execution": {
     "iopub.execute_input": "2021-03-09T18:27:19.520160Z",
     "iopub.status.busy": "2021-03-09T18:27:19.519787Z",
     "iopub.status.idle": "2021-03-09T18:27:19.565316Z",
     "shell.execute_reply": "2021-03-09T18:27:19.564944Z"
    },
    "papermill": {
     "duration": 0.083226,
     "end_time": "2021-03-09T18:27:19.565400",
     "exception": false,
     "start_time": "2021-03-09T18:27:19.482174",
     "status": "completed"
    },
    "tags": []
   },
   "outputs": [
    {
     "data": {
      "text/plain": [
       "clusterer_id\n",
       "SpectralClustering #0       2\n",
       "SpectralClustering #1       2\n",
       "SpectralClustering #2       2\n",
       "SpectralClustering #3       2\n",
       "SpectralClustering #4       2\n",
       "                           ..\n",
       "SpectralClustering #445    60\n",
       "SpectralClustering #446    60\n",
       "SpectralClustering #447    60\n",
       "SpectralClustering #448    60\n",
       "SpectralClustering #449    60\n",
       "Name: partition, Length: 450, dtype: int64"
      ]
     },
     "metadata": {},
     "output_type": "display_data"
    }
   ],
   "source": [
    "# check that the number of clusters in the partitions are the expected ones\n",
    "_real_k_values = ensemble[\"partition\"].apply(lambda x: np.unique(x).shape[0])\n",
    "display(_real_k_values)\n",
    "assert np.all(ensemble[\"n_clusters\"].values == _real_k_values.values)"
   ]
  },
  {
   "cell_type": "markdown",
   "metadata": {
    "papermill": {
     "duration": 0.035815,
     "end_time": "2021-03-09T18:27:19.636357",
     "exception": false,
     "start_time": "2021-03-09T18:27:19.600542",
     "status": "completed"
    },
    "tags": []
   },
   "source": [
    "## Add clustering quality measures"
   ]
  },
  {
   "cell_type": "code",
   "execution_count": 47,
   "metadata": {
    "execution": {
     "iopub.execute_input": "2021-03-09T18:27:19.711526Z",
     "iopub.status.busy": "2021-03-09T18:27:19.711164Z",
     "iopub.status.idle": "2021-03-09T18:27:19.721015Z",
     "shell.execute_reply": "2021-03-09T18:27:19.721296Z"
    },
    "papermill": {
     "duration": 0.047722,
     "end_time": "2021-03-09T18:27:19.721402",
     "exception": false,
     "start_time": "2021-03-09T18:27:19.673680",
     "status": "completed"
    },
    "tags": []
   },
   "outputs": [],
   "source": [
    "from sklearn.metrics import (\n",
    "    silhouette_score,\n",
    "    calinski_harabasz_score,\n",
    "    davies_bouldin_score,\n",
    ")"
   ]
  },
  {
   "cell_type": "code",
   "execution_count": 48,
   "metadata": {
    "execution": {
     "iopub.execute_input": "2021-03-09T18:27:19.794734Z",
     "iopub.status.busy": "2021-03-09T18:27:19.794361Z",
     "iopub.status.idle": "2021-03-09T18:28:28.271607Z",
     "shell.execute_reply": "2021-03-09T18:28:28.271041Z"
    },
    "papermill": {
     "duration": 68.514932,
     "end_time": "2021-03-09T18:28:28.271696",
     "exception": false,
     "start_time": "2021-03-09T18:27:19.756764",
     "status": "completed"
    },
    "tags": []
   },
   "outputs": [],
   "source": [
    "ensemble = ensemble.assign(\n",
    "    si_score=ensemble[\"partition\"].apply(lambda x: silhouette_score(data, x)),\n",
    "    ch_score=ensemble[\"partition\"].apply(lambda x: calinski_harabasz_score(data, x)),\n",
    "    db_score=ensemble[\"partition\"].apply(lambda x: davies_bouldin_score(data, x)),\n",
    ")"
   ]
  },
  {
   "cell_type": "code",
   "execution_count": 49,
   "metadata": {
    "execution": {
     "iopub.execute_input": "2021-03-09T18:28:28.345617Z",
     "iopub.status.busy": "2021-03-09T18:28:28.345251Z",
     "iopub.status.idle": "2021-03-09T18:28:28.356451Z",
     "shell.execute_reply": "2021-03-09T18:28:28.356084Z"
    },
    "papermill": {
     "duration": 0.048853,
     "end_time": "2021-03-09T18:28:28.356534",
     "exception": false,
     "start_time": "2021-03-09T18:28:28.307681",
     "status": "completed"
    },
    "tags": []
   },
   "outputs": [
    {
     "data": {
      "text/plain": [
       "(450, 7)"
      ]
     },
     "execution_count": 49,
     "metadata": {},
     "output_type": "execute_result"
    }
   ],
   "source": [
    "ensemble.shape"
   ]
  },
  {
   "cell_type": "code",
   "execution_count": 50,
   "metadata": {
    "execution": {
     "iopub.execute_input": "2021-03-09T18:28:28.430105Z",
     "iopub.status.busy": "2021-03-09T18:28:28.429744Z",
     "iopub.status.idle": "2021-03-09T18:28:28.449532Z",
     "shell.execute_reply": "2021-03-09T18:28:28.449166Z"
    },
    "papermill": {
     "duration": 0.057601,
     "end_time": "2021-03-09T18:28:28.449615",
     "exception": false,
     "start_time": "2021-03-09T18:28:28.392014",
     "status": "completed"
    },
    "tags": []
   },
   "outputs": [
    {
     "data": {
      "text/html": [
       "<div>\n",
       "<style scoped>\n",
       "    .dataframe tbody tr th:only-of-type {\n",
       "        vertical-align: middle;\n",
       "    }\n",
       "\n",
       "    .dataframe tbody tr th {\n",
       "        vertical-align: top;\n",
       "    }\n",
       "\n",
       "    .dataframe thead th {\n",
       "        text-align: right;\n",
       "    }\n",
       "</style>\n",
       "<table border=\"1\" class=\"dataframe\">\n",
       "  <thead>\n",
       "    <tr style=\"text-align: right;\">\n",
       "      <th></th>\n",
       "      <th>clusterer_params</th>\n",
       "      <th>partition</th>\n",
       "      <th>n_clusters</th>\n",
       "      <th>gamma</th>\n",
       "      <th>si_score</th>\n",
       "      <th>ch_score</th>\n",
       "      <th>db_score</th>\n",
       "    </tr>\n",
       "    <tr>\n",
       "      <th>clusterer_id</th>\n",
       "      <th></th>\n",
       "      <th></th>\n",
       "      <th></th>\n",
       "      <th></th>\n",
       "      <th></th>\n",
       "      <th></th>\n",
       "      <th></th>\n",
       "    </tr>\n",
       "  </thead>\n",
       "  <tbody>\n",
       "    <tr>\n",
       "      <th>SpectralClustering #0</th>\n",
       "      <td>{'affinity': 'rbf', 'assign_labels': 'kmeans',...</td>\n",
       "      <td>[0.0, 0.0, 0.0, 0.0, 0.0, 0.0, 0.0, 0.0, 0.0, ...</td>\n",
       "      <td>2</td>\n",
       "      <td>1.0e+00</td>\n",
       "      <td>0.760892</td>\n",
       "      <td>220.723951</td>\n",
       "      <td>0.180785</td>\n",
       "    </tr>\n",
       "    <tr>\n",
       "      <th>SpectralClustering #1</th>\n",
       "      <td>{'affinity': 'rbf', 'assign_labels': 'kmeans',...</td>\n",
       "      <td>[0.0, 0.0, 0.0, 0.0, 0.0, 0.0, 0.0, 0.0, 0.0, ...</td>\n",
       "      <td>2</td>\n",
       "      <td>1.0e+00</td>\n",
       "      <td>0.760892</td>\n",
       "      <td>220.723951</td>\n",
       "      <td>0.180785</td>\n",
       "    </tr>\n",
       "    <tr>\n",
       "      <th>SpectralClustering #2</th>\n",
       "      <td>{'affinity': 'rbf', 'assign_labels': 'kmeans',...</td>\n",
       "      <td>[0.0, 0.0, 0.0, 0.0, 0.0, 0.0, 0.0, 0.0, 0.0, ...</td>\n",
       "      <td>2</td>\n",
       "      <td>1.0e+00</td>\n",
       "      <td>0.760892</td>\n",
       "      <td>220.723951</td>\n",
       "      <td>0.180785</td>\n",
       "    </tr>\n",
       "    <tr>\n",
       "      <th>SpectralClustering #3</th>\n",
       "      <td>{'affinity': 'rbf', 'assign_labels': 'kmeans',...</td>\n",
       "      <td>[0.0, 0.0, 0.0, 0.0, 0.0, 0.0, 0.0, 0.0, 0.0, ...</td>\n",
       "      <td>2</td>\n",
       "      <td>1.0e+00</td>\n",
       "      <td>0.642472</td>\n",
       "      <td>137.751690</td>\n",
       "      <td>0.281444</td>\n",
       "    </tr>\n",
       "    <tr>\n",
       "      <th>SpectralClustering #4</th>\n",
       "      <td>{'affinity': 'rbf', 'assign_labels': 'kmeans',...</td>\n",
       "      <td>[0.0, 0.0, 0.0, 0.0, 0.0, 0.0, 0.0, 0.0, 0.0, ...</td>\n",
       "      <td>2</td>\n",
       "      <td>1.0e+00</td>\n",
       "      <td>0.760892</td>\n",
       "      <td>220.723951</td>\n",
       "      <td>0.180785</td>\n",
       "    </tr>\n",
       "  </tbody>\n",
       "</table>\n",
       "</div>"
      ],
      "text/plain": [
       "                                                        clusterer_params  \\\n",
       "clusterer_id                                                               \n",
       "SpectralClustering #0  {'affinity': 'rbf', 'assign_labels': 'kmeans',...   \n",
       "SpectralClustering #1  {'affinity': 'rbf', 'assign_labels': 'kmeans',...   \n",
       "SpectralClustering #2  {'affinity': 'rbf', 'assign_labels': 'kmeans',...   \n",
       "SpectralClustering #3  {'affinity': 'rbf', 'assign_labels': 'kmeans',...   \n",
       "SpectralClustering #4  {'affinity': 'rbf', 'assign_labels': 'kmeans',...   \n",
       "\n",
       "                                                               partition  \\\n",
       "clusterer_id                                                               \n",
       "SpectralClustering #0  [0.0, 0.0, 0.0, 0.0, 0.0, 0.0, 0.0, 0.0, 0.0, ...   \n",
       "SpectralClustering #1  [0.0, 0.0, 0.0, 0.0, 0.0, 0.0, 0.0, 0.0, 0.0, ...   \n",
       "SpectralClustering #2  [0.0, 0.0, 0.0, 0.0, 0.0, 0.0, 0.0, 0.0, 0.0, ...   \n",
       "SpectralClustering #3  [0.0, 0.0, 0.0, 0.0, 0.0, 0.0, 0.0, 0.0, 0.0, ...   \n",
       "SpectralClustering #4  [0.0, 0.0, 0.0, 0.0, 0.0, 0.0, 0.0, 0.0, 0.0, ...   \n",
       "\n",
       "                       n_clusters    gamma  si_score    ch_score  db_score  \n",
       "clusterer_id                                                                \n",
       "SpectralClustering #0           2  1.0e+00  0.760892  220.723951  0.180785  \n",
       "SpectralClustering #1           2  1.0e+00  0.760892  220.723951  0.180785  \n",
       "SpectralClustering #2           2  1.0e+00  0.760892  220.723951  0.180785  \n",
       "SpectralClustering #3           2  1.0e+00  0.642472  137.751690  0.281444  \n",
       "SpectralClustering #4           2  1.0e+00  0.760892  220.723951  0.180785  "
      ]
     },
     "execution_count": 50,
     "metadata": {},
     "output_type": "execute_result"
    }
   ],
   "source": [
    "ensemble.head()"
   ]
  },
  {
   "cell_type": "markdown",
   "metadata": {
    "papermill": {
     "duration": 0.0352,
     "end_time": "2021-03-09T18:28:28.521451",
     "exception": false,
     "start_time": "2021-03-09T18:28:28.486251",
     "status": "completed"
    },
    "tags": []
   },
   "source": [
    "# Cluster quality"
   ]
  },
  {
   "cell_type": "code",
   "execution_count": 51,
   "metadata": {
    "execution": {
     "iopub.execute_input": "2021-03-09T18:28:28.594599Z",
     "iopub.status.busy": "2021-03-09T18:28:28.594238Z",
     "iopub.status.idle": "2021-03-09T18:28:28.616103Z",
     "shell.execute_reply": "2021-03-09T18:28:28.615720Z"
    },
    "papermill": {
     "duration": 0.059752,
     "end_time": "2021-03-09T18:28:28.616185",
     "exception": false,
     "start_time": "2021-03-09T18:28:28.556433",
     "status": "completed"
    },
    "tags": []
   },
   "outputs": [
    {
     "data": {
      "text/html": [
       "<div>\n",
       "<style scoped>\n",
       "    .dataframe tbody tr th:only-of-type {\n",
       "        vertical-align: middle;\n",
       "    }\n",
       "\n",
       "    .dataframe tbody tr th {\n",
       "        vertical-align: top;\n",
       "    }\n",
       "\n",
       "    .dataframe thead th {\n",
       "        text-align: right;\n",
       "    }\n",
       "</style>\n",
       "<table border=\"1\" class=\"dataframe\">\n",
       "  <thead>\n",
       "    <tr style=\"text-align: right;\">\n",
       "      <th></th>\n",
       "      <th></th>\n",
       "      <th>si_score</th>\n",
       "      <th>ch_score</th>\n",
       "      <th>db_score</th>\n",
       "    </tr>\n",
       "    <tr>\n",
       "      <th>n_clusters</th>\n",
       "      <th>gamma</th>\n",
       "      <th></th>\n",
       "      <th></th>\n",
       "      <th></th>\n",
       "    </tr>\n",
       "  </thead>\n",
       "  <tbody>\n",
       "    <tr>\n",
       "      <th rowspan=\"9\" valign=\"top\">2</th>\n",
       "      <th>1.0e+00</th>\n",
       "      <td>0.737208</td>\n",
       "      <td>204.129499</td>\n",
       "      <td>0.200917</td>\n",
       "    </tr>\n",
       "    <tr>\n",
       "      <th>1.0e-01</th>\n",
       "      <td>0.760892</td>\n",
       "      <td>220.723951</td>\n",
       "      <td>0.180785</td>\n",
       "    </tr>\n",
       "    <tr>\n",
       "      <th>1.0e-02</th>\n",
       "      <td>0.355970</td>\n",
       "      <td>1802.139767</td>\n",
       "      <td>1.242860</td>\n",
       "    </tr>\n",
       "    <tr>\n",
       "      <th>1.0e-03</th>\n",
       "      <td>0.355432</td>\n",
       "      <td>1799.298165</td>\n",
       "      <td>1.244803</td>\n",
       "    </tr>\n",
       "    <tr>\n",
       "      <th>1.0e-05</th>\n",
       "      <td>0.355273</td>\n",
       "      <td>1798.797039</td>\n",
       "      <td>1.244884</td>\n",
       "    </tr>\n",
       "    <tr>\n",
       "      <th>1.0e-10</th>\n",
       "      <td>0.355252</td>\n",
       "      <td>1798.728715</td>\n",
       "      <td>1.244897</td>\n",
       "    </tr>\n",
       "    <tr>\n",
       "      <th>1.0e-15</th>\n",
       "      <td>0.295295</td>\n",
       "      <td>1370.804365</td>\n",
       "      <td>1.442880</td>\n",
       "    </tr>\n",
       "    <tr>\n",
       "      <th>1.0e-20</th>\n",
       "      <td>-0.003585</td>\n",
       "      <td>8.492178</td>\n",
       "      <td>5.583933</td>\n",
       "    </tr>\n",
       "    <tr>\n",
       "      <th>1.0e-50</th>\n",
       "      <td>0.033921</td>\n",
       "      <td>7.557833</td>\n",
       "      <td>7.311003</td>\n",
       "    </tr>\n",
       "    <tr>\n",
       "      <th rowspan=\"9\" valign=\"top\">4</th>\n",
       "      <th>1.0e+00</th>\n",
       "      <td>0.380782</td>\n",
       "      <td>236.332514</td>\n",
       "      <td>0.684431</td>\n",
       "    </tr>\n",
       "    <tr>\n",
       "      <th>1.0e-01</th>\n",
       "      <td>0.592782</td>\n",
       "      <td>288.784209</td>\n",
       "      <td>0.292268</td>\n",
       "    </tr>\n",
       "    <tr>\n",
       "      <th>1.0e-02</th>\n",
       "      <td>0.403670</td>\n",
       "      <td>1837.196352</td>\n",
       "      <td>0.780045</td>\n",
       "    </tr>\n",
       "    <tr>\n",
       "      <th>1.0e-03</th>\n",
       "      <td>0.403886</td>\n",
       "      <td>1838.512027</td>\n",
       "      <td>0.779507</td>\n",
       "    </tr>\n",
       "    <tr>\n",
       "      <th>1.0e-05</th>\n",
       "      <td>0.403960</td>\n",
       "      <td>1838.906287</td>\n",
       "      <td>0.779419</td>\n",
       "    </tr>\n",
       "    <tr>\n",
       "      <th>1.0e-10</th>\n",
       "      <td>0.403948</td>\n",
       "      <td>1839.383598</td>\n",
       "      <td>0.779452</td>\n",
       "    </tr>\n",
       "    <tr>\n",
       "      <th>1.0e-15</th>\n",
       "      <td>0.150354</td>\n",
       "      <td>668.704738</td>\n",
       "      <td>3.592202</td>\n",
       "    </tr>\n",
       "    <tr>\n",
       "      <th>1.0e-20</th>\n",
       "      <td>-0.132109</td>\n",
       "      <td>3.552747</td>\n",
       "      <td>10.267282</td>\n",
       "    </tr>\n",
       "    <tr>\n",
       "      <th>1.0e-50</th>\n",
       "      <td>-0.140442</td>\n",
       "      <td>3.604253</td>\n",
       "      <td>12.124735</td>\n",
       "    </tr>\n",
       "    <tr>\n",
       "      <th rowspan=\"9\" valign=\"top\">6</th>\n",
       "      <th>1.0e+00</th>\n",
       "      <td>0.309967</td>\n",
       "      <td>654.458253</td>\n",
       "      <td>0.722936</td>\n",
       "    </tr>\n",
       "    <tr>\n",
       "      <th>1.0e-01</th>\n",
       "      <td>0.414453</td>\n",
       "      <td>1617.238043</td>\n",
       "      <td>0.547346</td>\n",
       "    </tr>\n",
       "    <tr>\n",
       "      <th>1.0e-02</th>\n",
       "      <td>0.414201</td>\n",
       "      <td>1618.080894</td>\n",
       "      <td>0.548320</td>\n",
       "    </tr>\n",
       "    <tr>\n",
       "      <th>1.0e-03</th>\n",
       "      <td>0.414316</td>\n",
       "      <td>1619.050251</td>\n",
       "      <td>0.547391</td>\n",
       "    </tr>\n",
       "    <tr>\n",
       "      <th>1.0e-05</th>\n",
       "      <td>0.414290</td>\n",
       "      <td>1619.019054</td>\n",
       "      <td>0.547496</td>\n",
       "    </tr>\n",
       "    <tr>\n",
       "      <th>1.0e-10</th>\n",
       "      <td>0.414291</td>\n",
       "      <td>1618.888341</td>\n",
       "      <td>0.547480</td>\n",
       "    </tr>\n",
       "    <tr>\n",
       "      <th>1.0e-15</th>\n",
       "      <td>0.002891</td>\n",
       "      <td>347.091734</td>\n",
       "      <td>4.272685</td>\n",
       "    </tr>\n",
       "    <tr>\n",
       "      <th>1.0e-20</th>\n",
       "      <td>-0.258445</td>\n",
       "      <td>4.538158</td>\n",
       "      <td>8.387075</td>\n",
       "    </tr>\n",
       "    <tr>\n",
       "      <th>1.0e-50</th>\n",
       "      <td>-0.252697</td>\n",
       "      <td>4.101857</td>\n",
       "      <td>9.259601</td>\n",
       "    </tr>\n",
       "    <tr>\n",
       "      <th rowspan=\"9\" valign=\"top\">8</th>\n",
       "      <th>1.0e+00</th>\n",
       "      <td>0.360253</td>\n",
       "      <td>1519.622234</td>\n",
       "      <td>0.724993</td>\n",
       "    </tr>\n",
       "    <tr>\n",
       "      <th>1.0e-01</th>\n",
       "      <td>0.405399</td>\n",
       "      <td>2394.645154</td>\n",
       "      <td>0.591619</td>\n",
       "    </tr>\n",
       "    <tr>\n",
       "      <th>1.0e-02</th>\n",
       "      <td>0.317558</td>\n",
       "      <td>1715.082777</td>\n",
       "      <td>0.925498</td>\n",
       "    </tr>\n",
       "    <tr>\n",
       "      <th>1.0e-03</th>\n",
       "      <td>0.323471</td>\n",
       "      <td>1704.770835</td>\n",
       "      <td>0.871630</td>\n",
       "    </tr>\n",
       "    <tr>\n",
       "      <th>1.0e-05</th>\n",
       "      <td>0.322992</td>\n",
       "      <td>1694.431081</td>\n",
       "      <td>0.871746</td>\n",
       "    </tr>\n",
       "    <tr>\n",
       "      <th>1.0e-10</th>\n",
       "      <td>0.322858</td>\n",
       "      <td>1694.130462</td>\n",
       "      <td>0.872624</td>\n",
       "    </tr>\n",
       "    <tr>\n",
       "      <th>1.0e-15</th>\n",
       "      <td>-0.065555</td>\n",
       "      <td>298.860606</td>\n",
       "      <td>4.735972</td>\n",
       "    </tr>\n",
       "    <tr>\n",
       "      <th>1.0e-20</th>\n",
       "      <td>-0.262420</td>\n",
       "      <td>3.632985</td>\n",
       "      <td>8.081872</td>\n",
       "    </tr>\n",
       "    <tr>\n",
       "      <th>1.0e-50</th>\n",
       "      <td>-0.299957</td>\n",
       "      <td>3.768735</td>\n",
       "      <td>8.777887</td>\n",
       "    </tr>\n",
       "    <tr>\n",
       "      <th rowspan=\"9\" valign=\"top\">10</th>\n",
       "      <th>1.0e+00</th>\n",
       "      <td>0.386720</td>\n",
       "      <td>2134.915902</td>\n",
       "      <td>0.615309</td>\n",
       "    </tr>\n",
       "    <tr>\n",
       "      <th>1.0e-01</th>\n",
       "      <td>0.358440</td>\n",
       "      <td>2437.956089</td>\n",
       "      <td>0.699226</td>\n",
       "    </tr>\n",
       "    <tr>\n",
       "      <th>1.0e-02</th>\n",
       "      <td>0.352622</td>\n",
       "      <td>2348.184254</td>\n",
       "      <td>0.682433</td>\n",
       "    </tr>\n",
       "    <tr>\n",
       "      <th>1.0e-03</th>\n",
       "      <td>0.314438</td>\n",
       "      <td>2021.944674</td>\n",
       "      <td>0.762487</td>\n",
       "    </tr>\n",
       "    <tr>\n",
       "      <th>1.0e-05</th>\n",
       "      <td>0.276087</td>\n",
       "      <td>1793.807638</td>\n",
       "      <td>0.923043</td>\n",
       "    </tr>\n",
       "    <tr>\n",
       "      <th>1.0e-10</th>\n",
       "      <td>0.265376</td>\n",
       "      <td>1737.989389</td>\n",
       "      <td>0.978456</td>\n",
       "    </tr>\n",
       "    <tr>\n",
       "      <th>1.0e-15</th>\n",
       "      <td>-0.102864</td>\n",
       "      <td>238.870062</td>\n",
       "      <td>6.036939</td>\n",
       "    </tr>\n",
       "    <tr>\n",
       "      <th>1.0e-20</th>\n",
       "      <td>-0.403800</td>\n",
       "      <td>3.635720</td>\n",
       "      <td>11.347886</td>\n",
       "    </tr>\n",
       "    <tr>\n",
       "      <th>1.0e-50</th>\n",
       "      <td>-0.298386</td>\n",
       "      <td>3.377175</td>\n",
       "      <td>10.487996</td>\n",
       "    </tr>\n",
       "    <tr>\n",
       "      <th rowspan=\"9\" valign=\"top\">20</th>\n",
       "      <th>1.0e+00</th>\n",
       "      <td>0.358755</td>\n",
       "      <td>2385.805168</td>\n",
       "      <td>0.667338</td>\n",
       "    </tr>\n",
       "    <tr>\n",
       "      <th>1.0e-01</th>\n",
       "      <td>0.300602</td>\n",
       "      <td>1905.445946</td>\n",
       "      <td>0.815706</td>\n",
       "    </tr>\n",
       "    <tr>\n",
       "      <th>1.0e-02</th>\n",
       "      <td>0.269410</td>\n",
       "      <td>1774.805988</td>\n",
       "      <td>0.869132</td>\n",
       "    </tr>\n",
       "    <tr>\n",
       "      <th>1.0e-03</th>\n",
       "      <td>0.259895</td>\n",
       "      <td>1807.009872</td>\n",
       "      <td>0.987256</td>\n",
       "    </tr>\n",
       "    <tr>\n",
       "      <th>1.0e-05</th>\n",
       "      <td>0.269236</td>\n",
       "      <td>1794.941653</td>\n",
       "      <td>1.011296</td>\n",
       "    </tr>\n",
       "    <tr>\n",
       "      <th>1.0e-10</th>\n",
       "      <td>0.259188</td>\n",
       "      <td>1777.307309</td>\n",
       "      <td>1.006639</td>\n",
       "    </tr>\n",
       "    <tr>\n",
       "      <th>1.0e-15</th>\n",
       "      <td>-0.280934</td>\n",
       "      <td>111.578643</td>\n",
       "      <td>7.041359</td>\n",
       "    </tr>\n",
       "    <tr>\n",
       "      <th>1.0e-20</th>\n",
       "      <td>-0.494335</td>\n",
       "      <td>2.654543</td>\n",
       "      <td>9.811520</td>\n",
       "    </tr>\n",
       "    <tr>\n",
       "      <th>1.0e-50</th>\n",
       "      <td>-0.493106</td>\n",
       "      <td>2.297930</td>\n",
       "      <td>9.408050</td>\n",
       "    </tr>\n",
       "    <tr>\n",
       "      <th rowspan=\"9\" valign=\"top\">30</th>\n",
       "      <th>1.0e+00</th>\n",
       "      <td>0.331762</td>\n",
       "      <td>2346.354222</td>\n",
       "      <td>0.745231</td>\n",
       "    </tr>\n",
       "    <tr>\n",
       "      <th>1.0e-01</th>\n",
       "      <td>0.279018</td>\n",
       "      <td>1898.930652</td>\n",
       "      <td>0.959470</td>\n",
       "    </tr>\n",
       "    <tr>\n",
       "      <th>1.0e-02</th>\n",
       "      <td>0.259548</td>\n",
       "      <td>1521.900735</td>\n",
       "      <td>1.030722</td>\n",
       "    </tr>\n",
       "    <tr>\n",
       "      <th>1.0e-03</th>\n",
       "      <td>0.250242</td>\n",
       "      <td>1470.995193</td>\n",
       "      <td>1.041829</td>\n",
       "    </tr>\n",
       "    <tr>\n",
       "      <th>1.0e-05</th>\n",
       "      <td>0.249042</td>\n",
       "      <td>1475.199272</td>\n",
       "      <td>0.999475</td>\n",
       "    </tr>\n",
       "    <tr>\n",
       "      <th>1.0e-10</th>\n",
       "      <td>0.248728</td>\n",
       "      <td>1443.151605</td>\n",
       "      <td>1.016645</td>\n",
       "    </tr>\n",
       "    <tr>\n",
       "      <th>1.0e-15</th>\n",
       "      <td>-0.331779</td>\n",
       "      <td>72.438774</td>\n",
       "      <td>6.976948</td>\n",
       "    </tr>\n",
       "    <tr>\n",
       "      <th>1.0e-20</th>\n",
       "      <td>-0.585442</td>\n",
       "      <td>3.262004</td>\n",
       "      <td>9.946241</td>\n",
       "    </tr>\n",
       "    <tr>\n",
       "      <th>1.0e-50</th>\n",
       "      <td>-0.594790</td>\n",
       "      <td>2.085268</td>\n",
       "      <td>9.374759</td>\n",
       "    </tr>\n",
       "    <tr>\n",
       "      <th rowspan=\"9\" valign=\"top\">40</th>\n",
       "      <th>1.0e+00</th>\n",
       "      <td>0.323718</td>\n",
       "      <td>2069.164791</td>\n",
       "      <td>0.727407</td>\n",
       "    </tr>\n",
       "    <tr>\n",
       "      <th>1.0e-01</th>\n",
       "      <td>0.283146</td>\n",
       "      <td>1783.261466</td>\n",
       "      <td>0.895995</td>\n",
       "    </tr>\n",
       "    <tr>\n",
       "      <th>1.0e-02</th>\n",
       "      <td>0.262163</td>\n",
       "      <td>1457.406960</td>\n",
       "      <td>1.132600</td>\n",
       "    </tr>\n",
       "    <tr>\n",
       "      <th>1.0e-03</th>\n",
       "      <td>0.258422</td>\n",
       "      <td>1227.402037</td>\n",
       "      <td>1.384333</td>\n",
       "    </tr>\n",
       "    <tr>\n",
       "      <th>1.0e-05</th>\n",
       "      <td>0.243850</td>\n",
       "      <td>1136.979308</td>\n",
       "      <td>0.885598</td>\n",
       "    </tr>\n",
       "    <tr>\n",
       "      <th>1.0e-10</th>\n",
       "      <td>0.239151</td>\n",
       "      <td>1135.378822</td>\n",
       "      <td>1.116398</td>\n",
       "    </tr>\n",
       "    <tr>\n",
       "      <th>1.0e-15</th>\n",
       "      <td>-0.532449</td>\n",
       "      <td>42.089852</td>\n",
       "      <td>6.937359</td>\n",
       "    </tr>\n",
       "    <tr>\n",
       "      <th>1.0e-20</th>\n",
       "      <td>-0.631351</td>\n",
       "      <td>1.719154</td>\n",
       "      <td>9.452124</td>\n",
       "    </tr>\n",
       "    <tr>\n",
       "      <th>1.0e-50</th>\n",
       "      <td>-0.655213</td>\n",
       "      <td>2.040446</td>\n",
       "      <td>9.133605</td>\n",
       "    </tr>\n",
       "    <tr>\n",
       "      <th rowspan=\"9\" valign=\"top\">50</th>\n",
       "      <th>1.0e+00</th>\n",
       "      <td>0.307431</td>\n",
       "      <td>1985.728605</td>\n",
       "      <td>0.809585</td>\n",
       "    </tr>\n",
       "    <tr>\n",
       "      <th>1.0e-01</th>\n",
       "      <td>0.260506</td>\n",
       "      <td>1569.296011</td>\n",
       "      <td>0.949668</td>\n",
       "    </tr>\n",
       "    <tr>\n",
       "      <th>1.0e-02</th>\n",
       "      <td>0.251839</td>\n",
       "      <td>1111.434706</td>\n",
       "      <td>1.554574</td>\n",
       "    </tr>\n",
       "    <tr>\n",
       "      <th>1.0e-03</th>\n",
       "      <td>0.249972</td>\n",
       "      <td>958.807542</td>\n",
       "      <td>1.819342</td>\n",
       "    </tr>\n",
       "    <tr>\n",
       "      <th>1.0e-05</th>\n",
       "      <td>0.237934</td>\n",
       "      <td>948.699981</td>\n",
       "      <td>0.835972</td>\n",
       "    </tr>\n",
       "    <tr>\n",
       "      <th>1.0e-10</th>\n",
       "      <td>0.236224</td>\n",
       "      <td>876.531233</td>\n",
       "      <td>1.098317</td>\n",
       "    </tr>\n",
       "    <tr>\n",
       "      <th>1.0e-15</th>\n",
       "      <td>-0.619956</td>\n",
       "      <td>36.953972</td>\n",
       "      <td>6.234698</td>\n",
       "    </tr>\n",
       "    <tr>\n",
       "      <th>1.0e-20</th>\n",
       "      <td>-0.696385</td>\n",
       "      <td>1.794044</td>\n",
       "      <td>7.537058</td>\n",
       "    </tr>\n",
       "    <tr>\n",
       "      <th>1.0e-50</th>\n",
       "      <td>-0.697575</td>\n",
       "      <td>1.641694</td>\n",
       "      <td>7.553406</td>\n",
       "    </tr>\n",
       "    <tr>\n",
       "      <th rowspan=\"9\" valign=\"top\">60</th>\n",
       "      <th>1.0e+00</th>\n",
       "      <td>0.297399</td>\n",
       "      <td>1887.962927</td>\n",
       "      <td>0.867175</td>\n",
       "    </tr>\n",
       "    <tr>\n",
       "      <th>1.0e-01</th>\n",
       "      <td>0.241951</td>\n",
       "      <td>1481.097680</td>\n",
       "      <td>1.021180</td>\n",
       "    </tr>\n",
       "    <tr>\n",
       "      <th>1.0e-02</th>\n",
       "      <td>0.246676</td>\n",
       "      <td>931.883188</td>\n",
       "      <td>1.664770</td>\n",
       "    </tr>\n",
       "    <tr>\n",
       "      <th>1.0e-03</th>\n",
       "      <td>0.244575</td>\n",
       "      <td>823.105873</td>\n",
       "      <td>2.108324</td>\n",
       "    </tr>\n",
       "    <tr>\n",
       "      <th>1.0e-05</th>\n",
       "      <td>0.245354</td>\n",
       "      <td>791.732359</td>\n",
       "      <td>0.716302</td>\n",
       "    </tr>\n",
       "    <tr>\n",
       "      <th>1.0e-10</th>\n",
       "      <td>0.240749</td>\n",
       "      <td>721.757374</td>\n",
       "      <td>0.897516</td>\n",
       "    </tr>\n",
       "    <tr>\n",
       "      <th>1.0e-15</th>\n",
       "      <td>-0.630131</td>\n",
       "      <td>32.214808</td>\n",
       "      <td>6.372075</td>\n",
       "    </tr>\n",
       "    <tr>\n",
       "      <th>1.0e-20</th>\n",
       "      <td>-0.733466</td>\n",
       "      <td>1.970477</td>\n",
       "      <td>7.141392</td>\n",
       "    </tr>\n",
       "    <tr>\n",
       "      <th>1.0e-50</th>\n",
       "      <td>-0.723355</td>\n",
       "      <td>1.886101</td>\n",
       "      <td>7.094603</td>\n",
       "    </tr>\n",
       "  </tbody>\n",
       "</table>\n",
       "</div>"
      ],
      "text/plain": [
       "                    si_score     ch_score   db_score\n",
       "n_clusters gamma                                    \n",
       "2          1.0e+00  0.737208   204.129499   0.200917\n",
       "           1.0e-01  0.760892   220.723951   0.180785\n",
       "           1.0e-02  0.355970  1802.139767   1.242860\n",
       "           1.0e-03  0.355432  1799.298165   1.244803\n",
       "           1.0e-05  0.355273  1798.797039   1.244884\n",
       "           1.0e-10  0.355252  1798.728715   1.244897\n",
       "           1.0e-15  0.295295  1370.804365   1.442880\n",
       "           1.0e-20 -0.003585     8.492178   5.583933\n",
       "           1.0e-50  0.033921     7.557833   7.311003\n",
       "4          1.0e+00  0.380782   236.332514   0.684431\n",
       "           1.0e-01  0.592782   288.784209   0.292268\n",
       "           1.0e-02  0.403670  1837.196352   0.780045\n",
       "           1.0e-03  0.403886  1838.512027   0.779507\n",
       "           1.0e-05  0.403960  1838.906287   0.779419\n",
       "           1.0e-10  0.403948  1839.383598   0.779452\n",
       "           1.0e-15  0.150354   668.704738   3.592202\n",
       "           1.0e-20 -0.132109     3.552747  10.267282\n",
       "           1.0e-50 -0.140442     3.604253  12.124735\n",
       "6          1.0e+00  0.309967   654.458253   0.722936\n",
       "           1.0e-01  0.414453  1617.238043   0.547346\n",
       "           1.0e-02  0.414201  1618.080894   0.548320\n",
       "           1.0e-03  0.414316  1619.050251   0.547391\n",
       "           1.0e-05  0.414290  1619.019054   0.547496\n",
       "           1.0e-10  0.414291  1618.888341   0.547480\n",
       "           1.0e-15  0.002891   347.091734   4.272685\n",
       "           1.0e-20 -0.258445     4.538158   8.387075\n",
       "           1.0e-50 -0.252697     4.101857   9.259601\n",
       "8          1.0e+00  0.360253  1519.622234   0.724993\n",
       "           1.0e-01  0.405399  2394.645154   0.591619\n",
       "           1.0e-02  0.317558  1715.082777   0.925498\n",
       "           1.0e-03  0.323471  1704.770835   0.871630\n",
       "           1.0e-05  0.322992  1694.431081   0.871746\n",
       "           1.0e-10  0.322858  1694.130462   0.872624\n",
       "           1.0e-15 -0.065555   298.860606   4.735972\n",
       "           1.0e-20 -0.262420     3.632985   8.081872\n",
       "           1.0e-50 -0.299957     3.768735   8.777887\n",
       "10         1.0e+00  0.386720  2134.915902   0.615309\n",
       "           1.0e-01  0.358440  2437.956089   0.699226\n",
       "           1.0e-02  0.352622  2348.184254   0.682433\n",
       "           1.0e-03  0.314438  2021.944674   0.762487\n",
       "           1.0e-05  0.276087  1793.807638   0.923043\n",
       "           1.0e-10  0.265376  1737.989389   0.978456\n",
       "           1.0e-15 -0.102864   238.870062   6.036939\n",
       "           1.0e-20 -0.403800     3.635720  11.347886\n",
       "           1.0e-50 -0.298386     3.377175  10.487996\n",
       "20         1.0e+00  0.358755  2385.805168   0.667338\n",
       "           1.0e-01  0.300602  1905.445946   0.815706\n",
       "           1.0e-02  0.269410  1774.805988   0.869132\n",
       "           1.0e-03  0.259895  1807.009872   0.987256\n",
       "           1.0e-05  0.269236  1794.941653   1.011296\n",
       "           1.0e-10  0.259188  1777.307309   1.006639\n",
       "           1.0e-15 -0.280934   111.578643   7.041359\n",
       "           1.0e-20 -0.494335     2.654543   9.811520\n",
       "           1.0e-50 -0.493106     2.297930   9.408050\n",
       "30         1.0e+00  0.331762  2346.354222   0.745231\n",
       "           1.0e-01  0.279018  1898.930652   0.959470\n",
       "           1.0e-02  0.259548  1521.900735   1.030722\n",
       "           1.0e-03  0.250242  1470.995193   1.041829\n",
       "           1.0e-05  0.249042  1475.199272   0.999475\n",
       "           1.0e-10  0.248728  1443.151605   1.016645\n",
       "           1.0e-15 -0.331779    72.438774   6.976948\n",
       "           1.0e-20 -0.585442     3.262004   9.946241\n",
       "           1.0e-50 -0.594790     2.085268   9.374759\n",
       "40         1.0e+00  0.323718  2069.164791   0.727407\n",
       "           1.0e-01  0.283146  1783.261466   0.895995\n",
       "           1.0e-02  0.262163  1457.406960   1.132600\n",
       "           1.0e-03  0.258422  1227.402037   1.384333\n",
       "           1.0e-05  0.243850  1136.979308   0.885598\n",
       "           1.0e-10  0.239151  1135.378822   1.116398\n",
       "           1.0e-15 -0.532449    42.089852   6.937359\n",
       "           1.0e-20 -0.631351     1.719154   9.452124\n",
       "           1.0e-50 -0.655213     2.040446   9.133605\n",
       "50         1.0e+00  0.307431  1985.728605   0.809585\n",
       "           1.0e-01  0.260506  1569.296011   0.949668\n",
       "           1.0e-02  0.251839  1111.434706   1.554574\n",
       "           1.0e-03  0.249972   958.807542   1.819342\n",
       "           1.0e-05  0.237934   948.699981   0.835972\n",
       "           1.0e-10  0.236224   876.531233   1.098317\n",
       "           1.0e-15 -0.619956    36.953972   6.234698\n",
       "           1.0e-20 -0.696385     1.794044   7.537058\n",
       "           1.0e-50 -0.697575     1.641694   7.553406\n",
       "60         1.0e+00  0.297399  1887.962927   0.867175\n",
       "           1.0e-01  0.241951  1481.097680   1.021180\n",
       "           1.0e-02  0.246676   931.883188   1.664770\n",
       "           1.0e-03  0.244575   823.105873   2.108324\n",
       "           1.0e-05  0.245354   791.732359   0.716302\n",
       "           1.0e-10  0.240749   721.757374   0.897516\n",
       "           1.0e-15 -0.630131    32.214808   6.372075\n",
       "           1.0e-20 -0.733466     1.970477   7.141392\n",
       "           1.0e-50 -0.723355     1.886101   7.094603"
      ]
     },
     "metadata": {},
     "output_type": "display_data"
    }
   ],
   "source": [
    "with pd.option_context(\"display.max_rows\", None, \"display.max_columns\", None):\n",
    "    _df = ensemble.groupby([\"n_clusters\", \"gamma\"]).mean()\n",
    "    display(_df)"
   ]
  },
  {
   "cell_type": "code",
   "execution_count": 52,
   "metadata": {
    "execution": {
     "iopub.execute_input": "2021-03-09T18:28:28.693529Z",
     "iopub.status.busy": "2021-03-09T18:28:28.693153Z",
     "iopub.status.idle": "2021-03-09T18:28:31.149788Z",
     "shell.execute_reply": "2021-03-09T18:28:31.150085Z"
    },
    "papermill": {
     "duration": 2.496669,
     "end_time": "2021-03-09T18:28:31.150188",
     "exception": false,
     "start_time": "2021-03-09T18:28:28.653519",
     "status": "completed"
    },
    "tags": []
   },
   "outputs": [
    {
     "data": {
      "image/png": "[encoded data removed]",
      "text/plain": [
       "<Figure size 1008x432 with 1 Axes>"
      ]
     },
     "metadata": {},
     "output_type": "display_data"
    }
   ],
   "source": [
    "with sns.plotting_context(\"talk\", font_scale=0.75), sns.axes_style(\n",
    "    \"whitegrid\", {\"grid.linestyle\": \"--\"}\n",
    "):\n",
    "    fig = plt.figure(figsize=(14, 6))\n",
    "    ax = sns.pointplot(data=ensemble, x=\"n_clusters\", y=\"si_score\", hue=\"gamma\")\n",
    "    ax.set_ylabel(\"Silhouette index\\n(higher is better)\")\n",
    "    ax.set_xlabel(\"Number of clusters ($k$)\")\n",
    "    ax.set_xticklabels(ax.get_xticklabels(), rotation=45)\n",
    "    plt.grid(True)\n",
    "    plt.tight_layout()"
   ]
  },
  {
   "cell_type": "code",
   "execution_count": 53,
   "metadata": {
    "execution": {
     "iopub.execute_input": "2021-03-09T18:28:31.232329Z",
     "iopub.status.busy": "2021-03-09T18:28:31.231965Z",
     "iopub.status.idle": "2021-03-09T18:28:33.420309Z",
     "shell.execute_reply": "2021-03-09T18:28:33.420009Z"
    },
    "papermill": {
     "duration": 2.2304,
     "end_time": "2021-03-09T18:28:33.420394",
     "exception": false,
     "start_time": "2021-03-09T18:28:31.189994",
     "status": "completed"
    },
    "tags": []
   },
   "outputs": [
    {
     "data": {
      "image/png": "[encoded data removed]",
      "text/plain": [
       "<Figure size 1008x432 with 1 Axes>"
      ]
     },
     "metadata": {},
     "output_type": "display_data"
    }
   ],
   "source": [
    "with sns.plotting_context(\"talk\", font_scale=0.75), sns.axes_style(\n",
    "    \"whitegrid\", {\"grid.linestyle\": \"--\"}\n",
    "):\n",
    "    fig = plt.figure(figsize=(14, 6))\n",
    "    ax = sns.pointplot(data=ensemble, x=\"n_clusters\", y=\"ch_score\", hue=\"gamma\")\n",
    "    ax.set_ylabel(\"Calinski-Harabasz index\\n(higher is better)\")\n",
    "    ax.set_xlabel(\"Number of clusters ($k$)\")\n",
    "    ax.set_xticklabels(ax.get_xticklabels(), rotation=45)\n",
    "    plt.grid(True)\n",
    "    plt.tight_layout()"
   ]
  },
  {
   "cell_type": "code",
   "execution_count": 54,
   "metadata": {
    "execution": {
     "iopub.execute_input": "2021-03-09T18:28:33.508680Z",
     "iopub.status.busy": "2021-03-09T18:28:33.508287Z",
     "iopub.status.idle": "2021-03-09T18:28:35.778245Z",
     "shell.execute_reply": "2021-03-09T18:28:35.778540Z"
    },
    "papermill": {
     "duration": 2.315043,
     "end_time": "2021-03-09T18:28:35.778641",
     "exception": false,
     "start_time": "2021-03-09T18:28:33.463598",
     "status": "completed"
    },
    "tags": []
   },
   "outputs": [
    {
     "data": {
      "image/png": "[encoded data removed]",
      "text/plain": [
       "<Figure size 1008x432 with 1 Axes>"
      ]
     },
     "metadata": {},
     "output_type": "display_data"
    }
   ],
   "source": [
    "with sns.plotting_context(\"talk\", font_scale=0.75), sns.axes_style(\n",
    "    \"whitegrid\", {\"grid.linestyle\": \"--\"}\n",
    "):\n",
    "    fig = plt.figure(figsize=(14, 6))\n",
    "    ax = sns.pointplot(data=ensemble, x=\"n_clusters\", y=\"db_score\", hue=\"gamma\")\n",
    "    ax.set_ylabel(\"Davies-Bouldin index\\n(lower is better)\")\n",
    "    ax.set_xlabel(\"Number of clusters ($k$)\")\n",
    "    ax.set_xticklabels(ax.get_xticklabels(), rotation=45)\n",
    "    plt.grid(True)\n",
    "    plt.tight_layout()"
   ]
  },
  {
   "cell_type": "markdown",
   "metadata": {
    "papermill": {
     "duration": 0.043603,
     "end_time": "2021-03-09T18:28:35.866122",
     "exception": false,
     "start_time": "2021-03-09T18:28:35.822519",
     "status": "completed"
    },
    "tags": []
   },
   "source": [
    "# Stability"
   ]
  },
  {
   "cell_type": "markdown",
   "metadata": {
    "papermill": {
     "duration": 0.04609,
     "end_time": "2021-03-09T18:28:35.955638",
     "exception": false,
     "start_time": "2021-03-09T18:28:35.909548",
     "status": "completed"
    },
    "tags": []
   },
   "source": [
    "## Group ensemble by n_clusters"
   ]
  },
  {
   "cell_type": "code",
   "execution_count": 55,
   "metadata": {
    "execution": {
     "iopub.execute_input": "2021-03-09T18:28:36.046723Z",
     "iopub.status.busy": "2021-03-09T18:28:36.046352Z",
     "iopub.status.idle": "2021-03-09T18:28:36.077552Z",
     "shell.execute_reply": "2021-03-09T18:28:36.077181Z"
    },
    "papermill": {
     "duration": 0.077414,
     "end_time": "2021-03-09T18:28:36.077635",
     "exception": false,
     "start_time": "2021-03-09T18:28:36.000221",
     "status": "completed"
    },
    "tags": []
   },
   "outputs": [],
   "source": [
    "parts = ensemble.groupby([\"gamma\", \"n_clusters\"]).apply(\n",
    "    lambda x: np.concatenate(x[\"partition\"].apply(lambda x: x.reshape(1, -1)), axis=0)\n",
    ")"
   ]
  },
  {
   "cell_type": "code",
   "execution_count": 56,
   "metadata": {
    "execution": {
     "iopub.execute_input": "2021-03-09T18:28:36.168037Z",
     "iopub.status.busy": "2021-03-09T18:28:36.167665Z",
     "iopub.status.idle": "2021-03-09T18:28:36.178455Z",
     "shell.execute_reply": "2021-03-09T18:28:36.178733Z"
    },
    "papermill": {
     "duration": 0.057399,
     "end_time": "2021-03-09T18:28:36.178835",
     "exception": false,
     "start_time": "2021-03-09T18:28:36.121436",
     "status": "completed"
    },
    "tags": []
   },
   "outputs": [
    {
     "data": {
      "text/plain": [
       "(90,)"
      ]
     },
     "execution_count": 56,
     "metadata": {},
     "output_type": "execute_result"
    }
   ],
   "source": [
    "parts.shape"
   ]
  },
  {
   "cell_type": "code",
   "execution_count": 57,
   "metadata": {
    "execution": {
     "iopub.execute_input": "2021-03-09T18:28:36.268221Z",
     "iopub.status.busy": "2021-03-09T18:28:36.267863Z",
     "iopub.status.idle": "2021-03-09T18:28:36.290291Z",
     "shell.execute_reply": "2021-03-09T18:28:36.289933Z"
    },
    "papermill": {
     "duration": 0.068227,
     "end_time": "2021-03-09T18:28:36.290372",
     "exception": false,
     "start_time": "2021-03-09T18:28:36.222145",
     "status": "completed"
    },
    "tags": []
   },
   "outputs": [
    {
     "data": {
      "text/plain": [
       "gamma    n_clusters\n",
       "1.0e+00  2             [[0.0, 0.0, 0.0, 0.0, 0.0, 0.0, 0.0, 0.0, 0.0,...\n",
       "         4             [[0.0, 0.0, 0.0, 0.0, 0.0, 0.0, 0.0, 0.0, 0.0,...\n",
       "         6             [[5.0, 5.0, 5.0, 5.0, 5.0, 5.0, 5.0, 5.0, 5.0,...\n",
       "         8             [[0.0, 6.0, 6.0, 6.0, 6.0, 6.0, 6.0, 6.0, 6.0,...\n",
       "         10            [[4.0, 6.0, 6.0, 6.0, 6.0, 6.0, 6.0, 6.0, 6.0,...\n",
       "dtype: object"
      ]
     },
     "execution_count": 57,
     "metadata": {},
     "output_type": "execute_result"
    }
   ],
   "source": [
    "parts.head()"
   ]
  },
  {
   "cell_type": "code",
   "execution_count": 58,
   "metadata": {
    "execution": {
     "iopub.execute_input": "2021-03-09T18:28:36.380238Z",
     "iopub.status.busy": "2021-03-09T18:28:36.379881Z",
     "iopub.status.idle": "2021-03-09T18:28:36.391094Z",
     "shell.execute_reply": "2021-03-09T18:28:36.390730Z"
    },
    "papermill": {
     "duration": 0.057101,
     "end_time": "2021-03-09T18:28:36.391178",
     "exception": false,
     "start_time": "2021-03-09T18:28:36.334077",
     "status": "completed"
    },
    "tags": []
   },
   "outputs": [
    {
     "data": {
      "text/plain": [
       "(5, 3752)"
      ]
     },
     "execution_count": 58,
     "metadata": {},
     "output_type": "execute_result"
    }
   ],
   "source": [
    "parts.iloc[0].shape"
   ]
  },
  {
   "cell_type": "code",
   "execution_count": 59,
   "metadata": {
    "execution": {
     "iopub.execute_input": "2021-03-09T18:28:36.482392Z",
     "iopub.status.busy": "2021-03-09T18:28:36.482034Z",
     "iopub.status.idle": "2021-03-09T18:28:36.496188Z",
     "shell.execute_reply": "2021-03-09T18:28:36.495816Z"
    },
    "papermill": {
     "duration": 0.060906,
     "end_time": "2021-03-09T18:28:36.496273",
     "exception": false,
     "start_time": "2021-03-09T18:28:36.435367",
     "status": "completed"
    },
    "tags": []
   },
   "outputs": [],
   "source": [
    "assert np.all(\n",
    "    [\n",
    "        parts.loc[k].shape == (int(CLUSTERING_OPTIONS[\"N_REPS_PER_K\"]), data.shape[0])\n",
    "        for k in parts.index\n",
    "    ]\n",
    ")"
   ]
  },
  {
   "cell_type": "markdown",
   "metadata": {
    "papermill": {
     "duration": 0.04361,
     "end_time": "2021-03-09T18:28:36.584100",
     "exception": false,
     "start_time": "2021-03-09T18:28:36.540490",
     "status": "completed"
    },
    "tags": []
   },
   "source": [
    "## Compute stability"
   ]
  },
  {
   "cell_type": "code",
   "execution_count": 60,
   "metadata": {
    "execution": {
     "iopub.execute_input": "2021-03-09T18:28:36.676298Z",
     "iopub.status.busy": "2021-03-09T18:28:36.675944Z",
     "iopub.status.idle": "2021-03-09T18:28:36.686468Z",
     "shell.execute_reply": "2021-03-09T18:28:36.686079Z"
    },
    "papermill": {
     "duration": 0.057896,
     "end_time": "2021-03-09T18:28:36.686552",
     "exception": false,
     "start_time": "2021-03-09T18:28:36.628656",
     "status": "completed"
    },
    "tags": []
   },
   "outputs": [],
   "source": [
    "from sklearn.metrics import adjusted_rand_score as ari\n",
    "from scipy.spatial.distance import pdist"
   ]
  },
  {
   "cell_type": "code",
   "execution_count": 61,
   "metadata": {
    "execution": {
     "iopub.execute_input": "2021-03-09T18:28:36.777533Z",
     "iopub.status.busy": "2021-03-09T18:28:36.777168Z",
     "iopub.status.idle": "2021-03-09T18:28:37.641581Z",
     "shell.execute_reply": "2021-03-09T18:28:37.641200Z"
    },
    "papermill": {
     "duration": 0.910834,
     "end_time": "2021-03-09T18:28:37.641666",
     "exception": false,
     "start_time": "2021-03-09T18:28:36.730832",
     "status": "completed"
    },
    "tags": []
   },
   "outputs": [],
   "source": [
    "parts_ari = pd.Series(\n",
    "    {k: pdist(parts.loc[k], metric=ari) for k in parts.index}, name=\"n_clusters\"\n",
    ")"
   ]
  },
  {
   "cell_type": "code",
   "execution_count": 62,
   "metadata": {
    "execution": {
     "iopub.execute_input": "2021-03-09T18:28:37.733380Z",
     "iopub.status.busy": "2021-03-09T18:28:37.733022Z",
     "iopub.status.idle": "2021-03-09T18:28:37.745525Z",
     "shell.execute_reply": "2021-03-09T18:28:37.745824Z"
    },
    "papermill": {
     "duration": 0.059322,
     "end_time": "2021-03-09T18:28:37.745927",
     "exception": false,
     "start_time": "2021-03-09T18:28:37.686605",
     "status": "completed"
    },
    "tags": []
   },
   "outputs": [
    {
     "data": {
      "text/plain": [
       "1.0e-02  4    1.000000\n",
       "1.0e-01  2    1.000000\n",
       "1.0e-05  8    1.000000\n",
       "1.0e-10  6    1.000000\n",
       "1.0e-01  4    1.000000\n",
       "1.0e-03  2    1.000000\n",
       "         8    0.999651\n",
       "1.0e-02  2    0.999574\n",
       "1.0e-10  2    0.999147\n",
       "1.0e-05  2    0.998721\n",
       "1.0e-10  8    0.998590\n",
       "1.0e-03  6    0.997581\n",
       "1.0e-05  6    0.995750\n",
       "1.0e-02  8    0.995729\n",
       "1.0e-03  4    0.993542\n",
       "Name: n_clusters, dtype: float64"
      ]
     },
     "metadata": {},
     "output_type": "display_data"
    }
   ],
   "source": [
    "parts_ari_stability = parts_ari.apply(lambda x: x.mean())\n",
    "display(parts_ari_stability.sort_values(ascending=False).head(15))"
   ]
  },
  {
   "cell_type": "code",
   "execution_count": 63,
   "metadata": {
    "execution": {
     "iopub.execute_input": "2021-03-09T18:28:37.838344Z",
     "iopub.status.busy": "2021-03-09T18:28:37.837963Z",
     "iopub.status.idle": "2021-03-09T18:28:37.850613Z",
     "shell.execute_reply": "2021-03-09T18:28:37.850232Z"
    },
    "papermill": {
     "duration": 0.060081,
     "end_time": "2021-03-09T18:28:37.850698",
     "exception": false,
     "start_time": "2021-03-09T18:28:37.790617",
     "status": "completed"
    },
    "tags": []
   },
   "outputs": [],
   "source": [
    "parts_ari_df = pd.DataFrame.from_records(parts_ari.tolist()).set_index(\n",
    "    parts_ari.index.copy()\n",
    ")\n",
    "parts_ari_df.index.rename([\"gamma\", \"n_clusters\"], inplace=True)"
   ]
  },
  {
   "cell_type": "code",
   "execution_count": 64,
   "metadata": {
    "execution": {
     "iopub.execute_input": "2021-03-09T18:28:37.944056Z",
     "iopub.status.busy": "2021-03-09T18:28:37.943648Z",
     "iopub.status.idle": "2021-03-09T18:28:37.955978Z",
     "shell.execute_reply": "2021-03-09T18:28:37.955635Z"
    },
    "papermill": {
     "duration": 0.060616,
     "end_time": "2021-03-09T18:28:37.956069",
     "exception": false,
     "start_time": "2021-03-09T18:28:37.895453",
     "status": "completed"
    },
    "tags": []
   },
   "outputs": [
    {
     "data": {
      "text/plain": [
       "(90, 10)"
      ]
     },
     "execution_count": 64,
     "metadata": {},
     "output_type": "execute_result"
    }
   ],
   "source": [
    "parts_ari_df.shape"
   ]
  },
  {
   "cell_type": "code",
   "execution_count": 65,
   "metadata": {
    "execution": {
     "iopub.execute_input": "2021-03-09T18:28:38.049915Z",
     "iopub.status.busy": "2021-03-09T18:28:38.049536Z",
     "iopub.status.idle": "2021-03-09T18:28:38.059998Z",
     "shell.execute_reply": "2021-03-09T18:28:38.059624Z"
    },
    "papermill": {
     "duration": 0.057461,
     "end_time": "2021-03-09T18:28:38.060083",
     "exception": false,
     "start_time": "2021-03-09T18:28:38.002622",
     "status": "completed"
    },
    "tags": []
   },
   "outputs": [],
   "source": [
    "_n_total_parts = int(\n",
    "    CLUSTERING_OPTIONS[\"N_REPS_PER_K\"]\n",
    ")  # * len(CLUSTERING_OPTIONS[\"GAMMAS\"]))\n",
    "\n",
    "assert int(_n_total_parts * (_n_total_parts - 1) / 2) == parts_ari_df.shape[1]"
   ]
  },
  {
   "cell_type": "code",
   "execution_count": 66,
   "metadata": {
    "execution": {
     "iopub.execute_input": "2021-03-09T18:28:38.153459Z",
     "iopub.status.busy": "2021-03-09T18:28:38.153116Z",
     "iopub.status.idle": "2021-03-09T18:28:38.171881Z",
     "shell.execute_reply": "2021-03-09T18:28:38.171550Z"
    },
    "papermill": {
     "duration": 0.067085,
     "end_time": "2021-03-09T18:28:38.171969",
     "exception": false,
     "start_time": "2021-03-09T18:28:38.104884",
     "status": "completed"
    },
    "tags": []
   },
   "outputs": [
    {
     "data": {
      "text/html": [
       "<div>\n",
       "<style scoped>\n",
       "    .dataframe tbody tr th:only-of-type {\n",
       "        vertical-align: middle;\n",
       "    }\n",
       "\n",
       "    .dataframe tbody tr th {\n",
       "        vertical-align: top;\n",
       "    }\n",
       "\n",
       "    .dataframe thead th {\n",
       "        text-align: right;\n",
       "    }\n",
       "</style>\n",
       "<table border=\"1\" class=\"dataframe\">\n",
       "  <thead>\n",
       "    <tr style=\"text-align: right;\">\n",
       "      <th></th>\n",
       "      <th></th>\n",
       "      <th>0</th>\n",
       "      <th>1</th>\n",
       "      <th>2</th>\n",
       "      <th>3</th>\n",
       "      <th>4</th>\n",
       "      <th>5</th>\n",
       "      <th>6</th>\n",
       "      <th>7</th>\n",
       "      <th>8</th>\n",
       "      <th>9</th>\n",
       "    </tr>\n",
       "    <tr>\n",
       "      <th>gamma</th>\n",
       "      <th>n_clusters</th>\n",
       "      <th></th>\n",
       "      <th></th>\n",
       "      <th></th>\n",
       "      <th></th>\n",
       "      <th></th>\n",
       "      <th></th>\n",
       "      <th></th>\n",
       "      <th></th>\n",
       "      <th></th>\n",
       "      <th></th>\n",
       "    </tr>\n",
       "  </thead>\n",
       "  <tbody>\n",
       "    <tr>\n",
       "      <th rowspan=\"5\" valign=\"top\">1.0e+00</th>\n",
       "      <th>2</th>\n",
       "      <td>1.000000</td>\n",
       "      <td>1.000000</td>\n",
       "      <td>-0.002553</td>\n",
       "      <td>1.000000</td>\n",
       "      <td>1.000000</td>\n",
       "      <td>-0.002553</td>\n",
       "      <td>1.000000</td>\n",
       "      <td>-0.002553</td>\n",
       "      <td>1.000000</td>\n",
       "      <td>-0.002553</td>\n",
       "    </tr>\n",
       "    <tr>\n",
       "      <th>4</th>\n",
       "      <td>1.000000</td>\n",
       "      <td>0.943176</td>\n",
       "      <td>0.943176</td>\n",
       "      <td>0.880462</td>\n",
       "      <td>0.943176</td>\n",
       "      <td>0.943176</td>\n",
       "      <td>0.880462</td>\n",
       "      <td>1.000000</td>\n",
       "      <td>0.943176</td>\n",
       "      <td>0.943176</td>\n",
       "    </tr>\n",
       "    <tr>\n",
       "      <th>6</th>\n",
       "      <td>0.205895</td>\n",
       "      <td>0.037030</td>\n",
       "      <td>0.210272</td>\n",
       "      <td>0.988538</td>\n",
       "      <td>0.211135</td>\n",
       "      <td>0.989574</td>\n",
       "      <td>0.205426</td>\n",
       "      <td>0.211135</td>\n",
       "      <td>0.036907</td>\n",
       "      <td>0.209798</td>\n",
       "    </tr>\n",
       "    <tr>\n",
       "      <th>8</th>\n",
       "      <td>0.767037</td>\n",
       "      <td>0.327605</td>\n",
       "      <td>0.768014</td>\n",
       "      <td>0.605952</td>\n",
       "      <td>0.363211</td>\n",
       "      <td>0.998537</td>\n",
       "      <td>0.645096</td>\n",
       "      <td>0.363016</td>\n",
       "      <td>0.625943</td>\n",
       "      <td>0.644873</td>\n",
       "    </tr>\n",
       "    <tr>\n",
       "      <th>10</th>\n",
       "      <td>0.987851</td>\n",
       "      <td>0.785262</td>\n",
       "      <td>0.988594</td>\n",
       "      <td>0.987851</td>\n",
       "      <td>0.779218</td>\n",
       "      <td>0.999255</td>\n",
       "      <td>1.000000</td>\n",
       "      <td>0.779393</td>\n",
       "      <td>0.779218</td>\n",
       "      <td>0.999255</td>\n",
       "    </tr>\n",
       "  </tbody>\n",
       "</table>\n",
       "</div>"
      ],
      "text/plain": [
       "                           0         1         2         3         4  \\\n",
       "gamma   n_clusters                                                     \n",
       "1.0e+00 2           1.000000  1.000000 -0.002553  1.000000  1.000000   \n",
       "        4           1.000000  0.943176  0.943176  0.880462  0.943176   \n",
       "        6           0.205895  0.037030  0.210272  0.988538  0.211135   \n",
       "        8           0.767037  0.327605  0.768014  0.605952  0.363211   \n",
       "        10          0.987851  0.785262  0.988594  0.987851  0.779218   \n",
       "\n",
       "                           5         6         7         8         9  \n",
       "gamma   n_clusters                                                    \n",
       "1.0e+00 2          -0.002553  1.000000 -0.002553  1.000000 -0.002553  \n",
       "        4           0.943176  0.880462  1.000000  0.943176  0.943176  \n",
       "        6           0.989574  0.205426  0.211135  0.036907  0.209798  \n",
       "        8           0.998537  0.645096  0.363016  0.625943  0.644873  \n",
       "        10          0.999255  1.000000  0.779393  0.779218  0.999255  "
      ]
     },
     "execution_count": 66,
     "metadata": {},
     "output_type": "execute_result"
    }
   ],
   "source": [
    "parts_ari_df.head()"
   ]
  },
  {
   "cell_type": "markdown",
   "metadata": {
    "papermill": {
     "duration": 0.044478,
     "end_time": "2021-03-09T18:28:38.262630",
     "exception": false,
     "start_time": "2021-03-09T18:28:38.218152",
     "status": "completed"
    },
    "tags": []
   },
   "source": [
    "## Stability plot"
   ]
  },
  {
   "cell_type": "code",
   "execution_count": 67,
   "metadata": {
    "execution": {
     "iopub.execute_input": "2021-03-09T18:28:38.354475Z",
     "iopub.status.busy": "2021-03-09T18:28:38.354116Z",
     "iopub.status.idle": "2021-03-09T18:28:38.366497Z",
     "shell.execute_reply": "2021-03-09T18:28:38.366119Z"
    },
    "papermill": {
     "duration": 0.059396,
     "end_time": "2021-03-09T18:28:38.366582",
     "exception": false,
     "start_time": "2021-03-09T18:28:38.307186",
     "status": "completed"
    },
    "tags": []
   },
   "outputs": [],
   "source": [
    "parts_ari_df_plot = (\n",
    "    parts_ari_df.stack().reset_index().rename(columns={\"level_2\": \"idx\", 0: \"ari\"})\n",
    ")"
   ]
  },
  {
   "cell_type": "code",
   "execution_count": 68,
   "metadata": {
    "execution": {
     "iopub.execute_input": "2021-03-09T18:28:38.461372Z",
     "iopub.status.busy": "2021-03-09T18:28:38.461006Z",
     "iopub.status.idle": "2021-03-09T18:28:38.473093Z",
     "shell.execute_reply": "2021-03-09T18:28:38.472720Z"
    },
    "papermill": {
     "duration": 0.060114,
     "end_time": "2021-03-09T18:28:38.473174",
     "exception": false,
     "start_time": "2021-03-09T18:28:38.413060",
     "status": "completed"
    },
    "tags": []
   },
   "outputs": [
    {
     "data": {
      "text/plain": [
       "gamma          object\n",
       "n_clusters      int64\n",
       "idx             int64\n",
       "ari           float64\n",
       "dtype: object"
      ]
     },
     "execution_count": 68,
     "metadata": {},
     "output_type": "execute_result"
    }
   ],
   "source": [
    "parts_ari_df_plot.dtypes"
   ]
  },
  {
   "cell_type": "code",
   "execution_count": 69,
   "metadata": {
    "execution": {
     "iopub.execute_input": "2021-03-09T18:28:38.569498Z",
     "iopub.status.busy": "2021-03-09T18:28:38.569143Z",
     "iopub.status.idle": "2021-03-09T18:28:38.583041Z",
     "shell.execute_reply": "2021-03-09T18:28:38.582704Z"
    },
    "papermill": {
     "duration": 0.064045,
     "end_time": "2021-03-09T18:28:38.583123",
     "exception": false,
     "start_time": "2021-03-09T18:28:38.519078",
     "status": "completed"
    },
    "tags": []
   },
   "outputs": [
    {
     "data": {
      "text/html": [
       "<div>\n",
       "<style scoped>\n",
       "    .dataframe tbody tr th:only-of-type {\n",
       "        vertical-align: middle;\n",
       "    }\n",
       "\n",
       "    .dataframe tbody tr th {\n",
       "        vertical-align: top;\n",
       "    }\n",
       "\n",
       "    .dataframe thead th {\n",
       "        text-align: right;\n",
       "    }\n",
       "</style>\n",
       "<table border=\"1\" class=\"dataframe\">\n",
       "  <thead>\n",
       "    <tr style=\"text-align: right;\">\n",
       "      <th></th>\n",
       "      <th>gamma</th>\n",
       "      <th>n_clusters</th>\n",
       "      <th>idx</th>\n",
       "      <th>ari</th>\n",
       "    </tr>\n",
       "  </thead>\n",
       "  <tbody>\n",
       "    <tr>\n",
       "      <th>0</th>\n",
       "      <td>1.0e+00</td>\n",
       "      <td>2</td>\n",
       "      <td>0</td>\n",
       "      <td>1.000000</td>\n",
       "    </tr>\n",
       "    <tr>\n",
       "      <th>1</th>\n",
       "      <td>1.0e+00</td>\n",
       "      <td>2</td>\n",
       "      <td>1</td>\n",
       "      <td>1.000000</td>\n",
       "    </tr>\n",
       "    <tr>\n",
       "      <th>2</th>\n",
       "      <td>1.0e+00</td>\n",
       "      <td>2</td>\n",
       "      <td>2</td>\n",
       "      <td>-0.002553</td>\n",
       "    </tr>\n",
       "    <tr>\n",
       "      <th>3</th>\n",
       "      <td>1.0e+00</td>\n",
       "      <td>2</td>\n",
       "      <td>3</td>\n",
       "      <td>1.000000</td>\n",
       "    </tr>\n",
       "    <tr>\n",
       "      <th>4</th>\n",
       "      <td>1.0e+00</td>\n",
       "      <td>2</td>\n",
       "      <td>4</td>\n",
       "      <td>1.000000</td>\n",
       "    </tr>\n",
       "  </tbody>\n",
       "</table>\n",
       "</div>"
      ],
      "text/plain": [
       "     gamma  n_clusters  idx       ari\n",
       "0  1.0e+00           2    0  1.000000\n",
       "1  1.0e+00           2    1  1.000000\n",
       "2  1.0e+00           2    2 -0.002553\n",
       "3  1.0e+00           2    3  1.000000\n",
       "4  1.0e+00           2    4  1.000000"
      ]
     },
     "execution_count": 69,
     "metadata": {},
     "output_type": "execute_result"
    }
   ],
   "source": [
    "parts_ari_df_plot.head()"
   ]
  },
  {
   "cell_type": "code",
   "execution_count": 70,
   "metadata": {
    "execution": {
     "iopub.execute_input": "2021-03-09T18:28:38.679052Z",
     "iopub.status.busy": "2021-03-09T18:28:38.678695Z",
     "iopub.status.idle": "2021-03-09T18:28:38.699592Z",
     "shell.execute_reply": "2021-03-09T18:28:38.699255Z"
    },
    "papermill": {
     "duration": 0.070181,
     "end_time": "2021-03-09T18:28:38.699676",
     "exception": false,
     "start_time": "2021-03-09T18:28:38.629495",
     "status": "completed"
    },
    "tags": []
   },
   "outputs": [
    {
     "data": {
      "text/html": [
       "<div>\n",
       "<style scoped>\n",
       "    .dataframe tbody tr th:only-of-type {\n",
       "        vertical-align: middle;\n",
       "    }\n",
       "\n",
       "    .dataframe tbody tr th {\n",
       "        vertical-align: top;\n",
       "    }\n",
       "\n",
       "    .dataframe thead th {\n",
       "        text-align: right;\n",
       "    }\n",
       "</style>\n",
       "<table border=\"1\" class=\"dataframe\">\n",
       "  <thead>\n",
       "    <tr style=\"text-align: right;\">\n",
       "      <th></th>\n",
       "      <th></th>\n",
       "      <th>idx</th>\n",
       "      <th>ari</th>\n",
       "    </tr>\n",
       "    <tr>\n",
       "      <th>n_clusters</th>\n",
       "      <th>gamma</th>\n",
       "      <th></th>\n",
       "      <th></th>\n",
       "    </tr>\n",
       "  </thead>\n",
       "  <tbody>\n",
       "    <tr>\n",
       "      <th rowspan=\"9\" valign=\"top\">2</th>\n",
       "      <th>1.0e+00</th>\n",
       "      <td>4.5</td>\n",
       "      <td>0.598979</td>\n",
       "    </tr>\n",
       "    <tr>\n",
       "      <th>1.0e-01</th>\n",
       "      <td>4.5</td>\n",
       "      <td>1.000000</td>\n",
       "    </tr>\n",
       "    <tr>\n",
       "      <th>1.0e-02</th>\n",
       "      <td>4.5</td>\n",
       "      <td>0.999574</td>\n",
       "    </tr>\n",
       "    <tr>\n",
       "      <th>1.0e-03</th>\n",
       "      <td>4.5</td>\n",
       "      <td>1.000000</td>\n",
       "    </tr>\n",
       "    <tr>\n",
       "      <th>1.0e-05</th>\n",
       "      <td>4.5</td>\n",
       "      <td>0.998721</td>\n",
       "    </tr>\n",
       "    <tr>\n",
       "      <th>1.0e-10</th>\n",
       "      <td>4.5</td>\n",
       "      <td>0.999147</td>\n",
       "    </tr>\n",
       "    <tr>\n",
       "      <th>1.0e-15</th>\n",
       "      <td>4.5</td>\n",
       "      <td>0.476849</td>\n",
       "    </tr>\n",
       "    <tr>\n",
       "      <th>1.0e-20</th>\n",
       "      <td>4.5</td>\n",
       "      <td>-0.001848</td>\n",
       "    </tr>\n",
       "    <tr>\n",
       "      <th>1.0e-50</th>\n",
       "      <td>4.5</td>\n",
       "      <td>-0.000742</td>\n",
       "    </tr>\n",
       "    <tr>\n",
       "      <th rowspan=\"9\" valign=\"top\">4</th>\n",
       "      <th>1.0e+00</th>\n",
       "      <td>4.5</td>\n",
       "      <td>0.941998</td>\n",
       "    </tr>\n",
       "    <tr>\n",
       "      <th>1.0e-01</th>\n",
       "      <td>4.5</td>\n",
       "      <td>1.000000</td>\n",
       "    </tr>\n",
       "    <tr>\n",
       "      <th>1.0e-02</th>\n",
       "      <td>4.5</td>\n",
       "      <td>1.000000</td>\n",
       "    </tr>\n",
       "    <tr>\n",
       "      <th>1.0e-03</th>\n",
       "      <td>4.5</td>\n",
       "      <td>0.993542</td>\n",
       "    </tr>\n",
       "    <tr>\n",
       "      <th>1.0e-05</th>\n",
       "      <td>4.5</td>\n",
       "      <td>0.983088</td>\n",
       "    </tr>\n",
       "    <tr>\n",
       "      <th>1.0e-10</th>\n",
       "      <td>4.5</td>\n",
       "      <td>0.975570</td>\n",
       "    </tr>\n",
       "    <tr>\n",
       "      <th>1.0e-15</th>\n",
       "      <td>4.5</td>\n",
       "      <td>0.306471</td>\n",
       "    </tr>\n",
       "    <tr>\n",
       "      <th>1.0e-20</th>\n",
       "      <td>4.5</td>\n",
       "      <td>-0.000222</td>\n",
       "    </tr>\n",
       "    <tr>\n",
       "      <th>1.0e-50</th>\n",
       "      <td>4.5</td>\n",
       "      <td>0.005633</td>\n",
       "    </tr>\n",
       "    <tr>\n",
       "      <th rowspan=\"9\" valign=\"top\">6</th>\n",
       "      <th>1.0e+00</th>\n",
       "      <td>4.5</td>\n",
       "      <td>0.330571</td>\n",
       "    </tr>\n",
       "    <tr>\n",
       "      <th>1.0e-01</th>\n",
       "      <td>4.5</td>\n",
       "      <td>0.945920</td>\n",
       "    </tr>\n",
       "    <tr>\n",
       "      <th>1.0e-02</th>\n",
       "      <td>4.5</td>\n",
       "      <td>0.979481</td>\n",
       "    </tr>\n",
       "    <tr>\n",
       "      <th>1.0e-03</th>\n",
       "      <td>4.5</td>\n",
       "      <td>0.997581</td>\n",
       "    </tr>\n",
       "    <tr>\n",
       "      <th>1.0e-05</th>\n",
       "      <td>4.5</td>\n",
       "      <td>0.995750</td>\n",
       "    </tr>\n",
       "    <tr>\n",
       "      <th>1.0e-10</th>\n",
       "      <td>4.5</td>\n",
       "      <td>1.000000</td>\n",
       "    </tr>\n",
       "    <tr>\n",
       "      <th>1.0e-15</th>\n",
       "      <td>4.5</td>\n",
       "      <td>0.241371</td>\n",
       "    </tr>\n",
       "    <tr>\n",
       "      <th>1.0e-20</th>\n",
       "      <td>4.5</td>\n",
       "      <td>0.002722</td>\n",
       "    </tr>\n",
       "    <tr>\n",
       "      <th>1.0e-50</th>\n",
       "      <td>4.5</td>\n",
       "      <td>0.007581</td>\n",
       "    </tr>\n",
       "    <tr>\n",
       "      <th rowspan=\"9\" valign=\"top\">8</th>\n",
       "      <th>1.0e+00</th>\n",
       "      <td>4.5</td>\n",
       "      <td>0.610928</td>\n",
       "    </tr>\n",
       "    <tr>\n",
       "      <th>1.0e-01</th>\n",
       "      <td>4.5</td>\n",
       "      <td>0.973618</td>\n",
       "    </tr>\n",
       "    <tr>\n",
       "      <th>1.0e-02</th>\n",
       "      <td>4.5</td>\n",
       "      <td>0.995729</td>\n",
       "    </tr>\n",
       "    <tr>\n",
       "      <th>1.0e-03</th>\n",
       "      <td>4.5</td>\n",
       "      <td>0.999651</td>\n",
       "    </tr>\n",
       "    <tr>\n",
       "      <th>1.0e-05</th>\n",
       "      <td>4.5</td>\n",
       "      <td>1.000000</td>\n",
       "    </tr>\n",
       "    <tr>\n",
       "      <th>1.0e-10</th>\n",
       "      <td>4.5</td>\n",
       "      <td>0.998590</td>\n",
       "    </tr>\n",
       "    <tr>\n",
       "      <th>1.0e-15</th>\n",
       "      <td>4.5</td>\n",
       "      <td>0.211176</td>\n",
       "    </tr>\n",
       "    <tr>\n",
       "      <th>1.0e-20</th>\n",
       "      <td>4.5</td>\n",
       "      <td>0.003329</td>\n",
       "    </tr>\n",
       "    <tr>\n",
       "      <th>1.0e-50</th>\n",
       "      <td>4.5</td>\n",
       "      <td>-0.000862</td>\n",
       "    </tr>\n",
       "    <tr>\n",
       "      <th rowspan=\"9\" valign=\"top\">10</th>\n",
       "      <th>1.0e+00</th>\n",
       "      <td>4.5</td>\n",
       "      <td>0.908590</td>\n",
       "    </tr>\n",
       "    <tr>\n",
       "      <th>1.0e-01</th>\n",
       "      <td>4.5</td>\n",
       "      <td>0.979824</td>\n",
       "    </tr>\n",
       "    <tr>\n",
       "      <th>1.0e-02</th>\n",
       "      <td>4.5</td>\n",
       "      <td>0.983728</td>\n",
       "    </tr>\n",
       "    <tr>\n",
       "      <th>1.0e-03</th>\n",
       "      <td>4.5</td>\n",
       "      <td>0.876920</td>\n",
       "    </tr>\n",
       "    <tr>\n",
       "      <th>1.0e-05</th>\n",
       "      <td>4.5</td>\n",
       "      <td>0.885715</td>\n",
       "    </tr>\n",
       "    <tr>\n",
       "      <th>1.0e-10</th>\n",
       "      <td>4.5</td>\n",
       "      <td>0.985148</td>\n",
       "    </tr>\n",
       "    <tr>\n",
       "      <th>1.0e-15</th>\n",
       "      <td>4.5</td>\n",
       "      <td>0.218076</td>\n",
       "    </tr>\n",
       "    <tr>\n",
       "      <th>1.0e-20</th>\n",
       "      <td>4.5</td>\n",
       "      <td>-0.000272</td>\n",
       "    </tr>\n",
       "    <tr>\n",
       "      <th>1.0e-50</th>\n",
       "      <td>4.5</td>\n",
       "      <td>0.002074</td>\n",
       "    </tr>\n",
       "    <tr>\n",
       "      <th rowspan=\"9\" valign=\"top\">20</th>\n",
       "      <th>1.0e+00</th>\n",
       "      <td>4.5</td>\n",
       "      <td>0.991550</td>\n",
       "    </tr>\n",
       "    <tr>\n",
       "      <th>1.0e-01</th>\n",
       "      <td>4.5</td>\n",
       "      <td>0.864392</td>\n",
       "    </tr>\n",
       "    <tr>\n",
       "      <th>1.0e-02</th>\n",
       "      <td>4.5</td>\n",
       "      <td>0.737274</td>\n",
       "    </tr>\n",
       "    <tr>\n",
       "      <th>1.0e-03</th>\n",
       "      <td>4.5</td>\n",
       "      <td>0.877688</td>\n",
       "    </tr>\n",
       "    <tr>\n",
       "      <th>1.0e-05</th>\n",
       "      <td>4.5</td>\n",
       "      <td>0.812753</td>\n",
       "    </tr>\n",
       "    <tr>\n",
       "      <th>1.0e-10</th>\n",
       "      <td>4.5</td>\n",
       "      <td>0.833580</td>\n",
       "    </tr>\n",
       "    <tr>\n",
       "      <th>1.0e-15</th>\n",
       "      <td>4.5</td>\n",
       "      <td>0.180379</td>\n",
       "    </tr>\n",
       "    <tr>\n",
       "      <th>1.0e-20</th>\n",
       "      <td>4.5</td>\n",
       "      <td>0.001049</td>\n",
       "    </tr>\n",
       "    <tr>\n",
       "      <th>1.0e-50</th>\n",
       "      <td>4.5</td>\n",
       "      <td>-0.007294</td>\n",
       "    </tr>\n",
       "    <tr>\n",
       "      <th rowspan=\"9\" valign=\"top\">30</th>\n",
       "      <th>1.0e+00</th>\n",
       "      <td>4.5</td>\n",
       "      <td>0.988657</td>\n",
       "    </tr>\n",
       "    <tr>\n",
       "      <th>1.0e-01</th>\n",
       "      <td>4.5</td>\n",
       "      <td>0.797207</td>\n",
       "    </tr>\n",
       "    <tr>\n",
       "      <th>1.0e-02</th>\n",
       "      <td>4.5</td>\n",
       "      <td>0.761040</td>\n",
       "    </tr>\n",
       "    <tr>\n",
       "      <th>1.0e-03</th>\n",
       "      <td>4.5</td>\n",
       "      <td>0.758884</td>\n",
       "    </tr>\n",
       "    <tr>\n",
       "      <th>1.0e-05</th>\n",
       "      <td>4.5</td>\n",
       "      <td>0.773429</td>\n",
       "    </tr>\n",
       "    <tr>\n",
       "      <th>1.0e-10</th>\n",
       "      <td>4.5</td>\n",
       "      <td>0.771107</td>\n",
       "    </tr>\n",
       "    <tr>\n",
       "      <th>1.0e-15</th>\n",
       "      <td>4.5</td>\n",
       "      <td>0.186106</td>\n",
       "    </tr>\n",
       "    <tr>\n",
       "      <th>1.0e-20</th>\n",
       "      <td>4.5</td>\n",
       "      <td>0.001765</td>\n",
       "    </tr>\n",
       "    <tr>\n",
       "      <th>1.0e-50</th>\n",
       "      <td>4.5</td>\n",
       "      <td>0.001274</td>\n",
       "    </tr>\n",
       "    <tr>\n",
       "      <th rowspan=\"9\" valign=\"top\">40</th>\n",
       "      <th>1.0e+00</th>\n",
       "      <td>4.5</td>\n",
       "      <td>0.727106</td>\n",
       "    </tr>\n",
       "    <tr>\n",
       "      <th>1.0e-01</th>\n",
       "      <td>4.5</td>\n",
       "      <td>0.733349</td>\n",
       "    </tr>\n",
       "    <tr>\n",
       "      <th>1.0e-02</th>\n",
       "      <td>4.5</td>\n",
       "      <td>0.723044</td>\n",
       "    </tr>\n",
       "    <tr>\n",
       "      <th>1.0e-03</th>\n",
       "      <td>4.5</td>\n",
       "      <td>0.721083</td>\n",
       "    </tr>\n",
       "    <tr>\n",
       "      <th>1.0e-05</th>\n",
       "      <td>4.5</td>\n",
       "      <td>0.768981</td>\n",
       "    </tr>\n",
       "    <tr>\n",
       "      <th>1.0e-10</th>\n",
       "      <td>4.5</td>\n",
       "      <td>0.728810</td>\n",
       "    </tr>\n",
       "    <tr>\n",
       "      <th>1.0e-15</th>\n",
       "      <td>4.5</td>\n",
       "      <td>0.113212</td>\n",
       "    </tr>\n",
       "    <tr>\n",
       "      <th>1.0e-20</th>\n",
       "      <td>4.5</td>\n",
       "      <td>0.002067</td>\n",
       "    </tr>\n",
       "    <tr>\n",
       "      <th>1.0e-50</th>\n",
       "      <td>4.5</td>\n",
       "      <td>0.000274</td>\n",
       "    </tr>\n",
       "    <tr>\n",
       "      <th rowspan=\"9\" valign=\"top\">50</th>\n",
       "      <th>1.0e+00</th>\n",
       "      <td>4.5</td>\n",
       "      <td>0.732695</td>\n",
       "    </tr>\n",
       "    <tr>\n",
       "      <th>1.0e-01</th>\n",
       "      <td>4.5</td>\n",
       "      <td>0.690632</td>\n",
       "    </tr>\n",
       "    <tr>\n",
       "      <th>1.0e-02</th>\n",
       "      <td>4.5</td>\n",
       "      <td>0.644430</td>\n",
       "    </tr>\n",
       "    <tr>\n",
       "      <th>1.0e-03</th>\n",
       "      <td>4.5</td>\n",
       "      <td>0.730778</td>\n",
       "    </tr>\n",
       "    <tr>\n",
       "      <th>1.0e-05</th>\n",
       "      <td>4.5</td>\n",
       "      <td>0.757627</td>\n",
       "    </tr>\n",
       "    <tr>\n",
       "      <th>1.0e-10</th>\n",
       "      <td>4.5</td>\n",
       "      <td>0.757236</td>\n",
       "    </tr>\n",
       "    <tr>\n",
       "      <th>1.0e-15</th>\n",
       "      <td>4.5</td>\n",
       "      <td>0.135947</td>\n",
       "    </tr>\n",
       "    <tr>\n",
       "      <th>1.0e-20</th>\n",
       "      <td>4.5</td>\n",
       "      <td>0.007621</td>\n",
       "    </tr>\n",
       "    <tr>\n",
       "      <th>1.0e-50</th>\n",
       "      <td>4.5</td>\n",
       "      <td>-0.000234</td>\n",
       "    </tr>\n",
       "    <tr>\n",
       "      <th rowspan=\"9\" valign=\"top\">60</th>\n",
       "      <th>1.0e+00</th>\n",
       "      <td>4.5</td>\n",
       "      <td>0.752237</td>\n",
       "    </tr>\n",
       "    <tr>\n",
       "      <th>1.0e-01</th>\n",
       "      <td>4.5</td>\n",
       "      <td>0.632544</td>\n",
       "    </tr>\n",
       "    <tr>\n",
       "      <th>1.0e-02</th>\n",
       "      <td>4.5</td>\n",
       "      <td>0.724925</td>\n",
       "    </tr>\n",
       "    <tr>\n",
       "      <th>1.0e-03</th>\n",
       "      <td>4.5</td>\n",
       "      <td>0.755408</td>\n",
       "    </tr>\n",
       "    <tr>\n",
       "      <th>1.0e-05</th>\n",
       "      <td>4.5</td>\n",
       "      <td>0.774084</td>\n",
       "    </tr>\n",
       "    <tr>\n",
       "      <th>1.0e-10</th>\n",
       "      <td>4.5</td>\n",
       "      <td>0.714725</td>\n",
       "    </tr>\n",
       "    <tr>\n",
       "      <th>1.0e-15</th>\n",
       "      <td>4.5</td>\n",
       "      <td>0.169836</td>\n",
       "    </tr>\n",
       "    <tr>\n",
       "      <th>1.0e-20</th>\n",
       "      <td>4.5</td>\n",
       "      <td>0.006333</td>\n",
       "    </tr>\n",
       "    <tr>\n",
       "      <th>1.0e-50</th>\n",
       "      <td>4.5</td>\n",
       "      <td>-0.000381</td>\n",
       "    </tr>\n",
       "  </tbody>\n",
       "</table>\n",
       "</div>"
      ],
      "text/plain": [
       "                    idx       ari\n",
       "n_clusters gamma                 \n",
       "2          1.0e+00  4.5  0.598979\n",
       "           1.0e-01  4.5  1.000000\n",
       "           1.0e-02  4.5  0.999574\n",
       "           1.0e-03  4.5  1.000000\n",
       "           1.0e-05  4.5  0.998721\n",
       "           1.0e-10  4.5  0.999147\n",
       "           1.0e-15  4.5  0.476849\n",
       "           1.0e-20  4.5 -0.001848\n",
       "           1.0e-50  4.5 -0.000742\n",
       "4          1.0e+00  4.5  0.941998\n",
       "           1.0e-01  4.5  1.000000\n",
       "           1.0e-02  4.5  1.000000\n",
       "           1.0e-03  4.5  0.993542\n",
       "           1.0e-05  4.5  0.983088\n",
       "           1.0e-10  4.5  0.975570\n",
       "           1.0e-15  4.5  0.306471\n",
       "           1.0e-20  4.5 -0.000222\n",
       "           1.0e-50  4.5  0.005633\n",
       "6          1.0e+00  4.5  0.330571\n",
       "           1.0e-01  4.5  0.945920\n",
       "           1.0e-02  4.5  0.979481\n",
       "           1.0e-03  4.5  0.997581\n",
       "           1.0e-05  4.5  0.995750\n",
       "           1.0e-10  4.5  1.000000\n",
       "           1.0e-15  4.5  0.241371\n",
       "           1.0e-20  4.5  0.002722\n",
       "           1.0e-50  4.5  0.007581\n",
       "8          1.0e+00  4.5  0.610928\n",
       "           1.0e-01  4.5  0.973618\n",
       "           1.0e-02  4.5  0.995729\n",
       "           1.0e-03  4.5  0.999651\n",
       "           1.0e-05  4.5  1.000000\n",
       "           1.0e-10  4.5  0.998590\n",
       "           1.0e-15  4.5  0.211176\n",
       "           1.0e-20  4.5  0.003329\n",
       "           1.0e-50  4.5 -0.000862\n",
       "10         1.0e+00  4.5  0.908590\n",
       "           1.0e-01  4.5  0.979824\n",
       "           1.0e-02  4.5  0.983728\n",
       "           1.0e-03  4.5  0.876920\n",
       "           1.0e-05  4.5  0.885715\n",
       "           1.0e-10  4.5  0.985148\n",
       "           1.0e-15  4.5  0.218076\n",
       "           1.0e-20  4.5 -0.000272\n",
       "           1.0e-50  4.5  0.002074\n",
       "20         1.0e+00  4.5  0.991550\n",
       "           1.0e-01  4.5  0.864392\n",
       "           1.0e-02  4.5  0.737274\n",
       "           1.0e-03  4.5  0.877688\n",
       "           1.0e-05  4.5  0.812753\n",
       "           1.0e-10  4.5  0.833580\n",
       "           1.0e-15  4.5  0.180379\n",
       "           1.0e-20  4.5  0.001049\n",
       "           1.0e-50  4.5 -0.007294\n",
       "30         1.0e+00  4.5  0.988657\n",
       "           1.0e-01  4.5  0.797207\n",
       "           1.0e-02  4.5  0.761040\n",
       "           1.0e-03  4.5  0.758884\n",
       "           1.0e-05  4.5  0.773429\n",
       "           1.0e-10  4.5  0.771107\n",
       "           1.0e-15  4.5  0.186106\n",
       "           1.0e-20  4.5  0.001765\n",
       "           1.0e-50  4.5  0.001274\n",
       "40         1.0e+00  4.5  0.727106\n",
       "           1.0e-01  4.5  0.733349\n",
       "           1.0e-02  4.5  0.723044\n",
       "           1.0e-03  4.5  0.721083\n",
       "           1.0e-05  4.5  0.768981\n",
       "           1.0e-10  4.5  0.728810\n",
       "           1.0e-15  4.5  0.113212\n",
       "           1.0e-20  4.5  0.002067\n",
       "           1.0e-50  4.5  0.000274\n",
       "50         1.0e+00  4.5  0.732695\n",
       "           1.0e-01  4.5  0.690632\n",
       "           1.0e-02  4.5  0.644430\n",
       "           1.0e-03  4.5  0.730778\n",
       "           1.0e-05  4.5  0.757627\n",
       "           1.0e-10  4.5  0.757236\n",
       "           1.0e-15  4.5  0.135947\n",
       "           1.0e-20  4.5  0.007621\n",
       "           1.0e-50  4.5 -0.000234\n",
       "60         1.0e+00  4.5  0.752237\n",
       "           1.0e-01  4.5  0.632544\n",
       "           1.0e-02  4.5  0.724925\n",
       "           1.0e-03  4.5  0.755408\n",
       "           1.0e-05  4.5  0.774084\n",
       "           1.0e-10  4.5  0.714725\n",
       "           1.0e-15  4.5  0.169836\n",
       "           1.0e-20  4.5  0.006333\n",
       "           1.0e-50  4.5 -0.000381"
      ]
     },
     "metadata": {},
     "output_type": "display_data"
    }
   ],
   "source": [
    "with pd.option_context(\"display.max_rows\", None, \"display.max_columns\", None):\n",
    "    _df = parts_ari_df_plot.groupby([\"n_clusters\", \"gamma\"]).mean()\n",
    "    display(_df)"
   ]
  },
  {
   "cell_type": "code",
   "execution_count": 71,
   "metadata": {
    "execution": {
     "iopub.execute_input": "2021-03-09T18:28:38.796881Z",
     "iopub.status.busy": "2021-03-09T18:28:38.796461Z",
     "iopub.status.idle": "2021-03-09T18:28:40.962372Z",
     "shell.execute_reply": "2021-03-09T18:28:40.961660Z"
    },
    "papermill": {
     "duration": 2.215161,
     "end_time": "2021-03-09T18:28:40.962463",
     "exception": false,
     "start_time": "2021-03-09T18:28:38.747302",
     "status": "completed"
    },
    "tags": []
   },
   "outputs": [
    {
     "data": {
      "image/png": "[encoded data removed]",
      "text/plain": [
       "<Figure size 1008x432 with 1 Axes>"
      ]
     },
     "metadata": {},
     "output_type": "display_data"
    }
   ],
   "source": [
    "with sns.plotting_context(\"talk\", font_scale=0.75), sns.axes_style(\n",
    "    \"whitegrid\", {\"grid.linestyle\": \"--\"}\n",
    "):\n",
    "    fig = plt.figure(figsize=(14, 6))\n",
    "    ax = sns.pointplot(data=parts_ari_df_plot, x=\"n_clusters\", y=\"ari\", hue=\"gamma\")\n",
    "    ax.set_ylabel(\"Averange ARI\")\n",
    "    ax.set_xlabel(\"Number of clusters ($k$)\")\n",
    "    ax.set_xticklabels(ax.get_xticklabels(), rotation=45)\n",
    "    plt.grid(True)\n",
    "    plt.tight_layout()"
   ]
  },
  {
   "cell_type": "markdown",
   "metadata": {
    "papermill": {
     "duration": 0.04841,
     "end_time": "2021-03-09T18:28:41.060962",
     "exception": false,
     "start_time": "2021-03-09T18:28:41.012552",
     "status": "completed"
    },
    "tags": []
   },
   "source": [
    "# Conclusions"
   ]
  },
  {
   "cell_type": "markdown",
   "metadata": {
    "papermill": {
     "duration": 0.048954,
     "end_time": "2021-03-09T18:28:41.158838",
     "exception": false,
     "start_time": "2021-03-09T18:28:41.109884",
     "status": "completed"
    },
    "tags": []
   },
   "source": [
    "**UPDATE** We choose `1e-10` as the `gamma` parameter for this data version."
   ]
  },
  {
   "cell_type": "code",
   "execution_count": null,
   "metadata": {
    "papermill": {
     "duration": 0.049019,
     "end_time": "2021-03-09T18:28:41.257111",
     "exception": false,
     "start_time": "2021-03-09T18:28:41.208092",
     "status": "completed"
    },
    "tags": []
   },
   "outputs": [],
   "source": []
  }
 ],
 "metadata": {
  "jupytext": {
   "cell_metadata_filter": "all,-execution,-papermill,-trusted",
   "formats": "ipynb,py//py:percent"
  },
  "kernelspec": {
   "display_name": "Python 3",
   "language": "python",
   "name": "python3"
  },
  "language_info": {
   "codemirror_mode": {
    "name": "ipython",
    "version": 3
   },
   "file_extension": ".py",
   "mimetype": "text/x-python",
   "name": "python",
   "nbconvert_exporter": "python",
   "pygments_lexer": "ipython3",
   "version": "3.8.8"
  },
  "papermill": {
   "default_parameters": {},
   "duration": 94.146644,
   "end_time": "2021-03-09T18:28:41.711861",
   "environment_variables": {},
   "exception": null,
   "input_path": "15_cluster_analysis/pre_analysis/05_03-spectral_clustering-umap.ipynb",
   "output_path": "15_cluster_analysis/pre_analysis/05_03-spectral_clustering-umap.run.ipynb",
   "parameters": {},
   "start_time": "2021-03-09T18:27:07.565217",
   "version": "2.2.2"
  },
  "toc-autonumbering": true,
  "toc-showcode": false,
  "toc-showmarkdowntxt": false,
  "toc-showtags": false
 },
 "nbformat": 4,
 "nbformat_minor": 4
}
