{
 "cells": [
  {
   "cell_type": "markdown",
   "metadata": {
    "papermill": {
     "duration": 0.028063,
     "end_time": "2021-01-12T06:27:21.129621",
     "exception": false,
     "start_time": "2021-01-12T06:27:21.101558",
     "status": "completed"
    },
    "tags": []
   },
   "source": [
    "# Description"
   ]
  },
  {
   "cell_type": "markdown",
   "metadata": {
    "papermill": {
     "duration": 0.023498,
     "end_time": "2021-01-12T06:27:21.176353",
     "exception": false,
     "start_time": "2021-01-12T06:27:21.152855",
     "status": "completed"
    },
    "tags": []
   },
   "source": [
    "This notebook runs some pre-analyses using spectral clustering to explore the best set of parameters to cluster `umap` data version."
   ]
  },
  {
   "cell_type": "markdown",
   "metadata": {
    "papermill": {
     "duration": 0.02368,
     "end_time": "2021-01-12T06:27:21.223291",
     "exception": false,
     "start_time": "2021-01-12T06:27:21.199611",
     "status": "completed"
    },
    "tags": []
   },
   "source": [
    "# Environment variables"
   ]
  },
  {
   "cell_type": "code",
   "execution_count": 1,
   "metadata": {
    "execution": {
     "iopub.execute_input": "2021-01-12T06:27:21.274041Z",
     "iopub.status.busy": "2021-01-12T06:27:21.273624Z",
     "iopub.status.idle": "2021-01-12T06:27:21.284809Z",
     "shell.execute_reply": "2021-01-12T06:27:21.284319Z"
    },
    "papermill": {
     "duration": 0.037982,
     "end_time": "2021-01-12T06:27:21.284935",
     "exception": false,
     "start_time": "2021-01-12T06:27:21.246953",
     "status": "completed"
    },
    "tags": []
   },
   "outputs": [
    {
     "data": {
      "text/plain": [
       "3"
      ]
     },
     "metadata": {},
     "output_type": "display_data"
    }
   ],
   "source": [
    "from IPython.display import display\n",
    "\n",
    "import conf\n",
    "\n",
    "N_JOBS = conf.GENERAL[\"N_JOBS\"]\n",
    "display(N_JOBS)"
   ]
  },
  {
   "cell_type": "code",
   "execution_count": 2,
   "metadata": {
    "execution": {
     "iopub.execute_input": "2021-01-12T06:27:21.339256Z",
     "iopub.status.busy": "2021-01-12T06:27:21.338823Z",
     "iopub.status.idle": "2021-01-12T06:27:21.341263Z",
     "shell.execute_reply": "2021-01-12T06:27:21.340936Z"
    },
    "papermill": {
     "duration": 0.031192,
     "end_time": "2021-01-12T06:27:21.341352",
     "exception": false,
     "start_time": "2021-01-12T06:27:21.310160",
     "status": "completed"
    },
    "tags": []
   },
   "outputs": [
    {
     "name": "stdout",
     "output_type": "stream",
     "text": [
      "env: MKL_NUM_THREADS=3\n",
      "env: OPEN_BLAS_NUM_THREADS=3\n",
      "env: NUMEXPR_NUM_THREADS=3\n",
      "env: OMP_NUM_THREADS=3\n"
     ]
    }
   ],
   "source": [
    "%env MKL_NUM_THREADS=$N_JOBS\n",
    "%env OPEN_BLAS_NUM_THREADS=$N_JOBS\n",
    "%env NUMEXPR_NUM_THREADS=$N_JOBS\n",
    "%env OMP_NUM_THREADS=$N_JOBS"
   ]
  },
  {
   "cell_type": "markdown",
   "metadata": {
    "papermill": {
     "duration": 0.023802,
     "end_time": "2021-01-12T06:27:21.389671",
     "exception": false,
     "start_time": "2021-01-12T06:27:21.365869",
     "status": "completed"
    },
    "tags": []
   },
   "source": [
    "# Modules loading"
   ]
  },
  {
   "cell_type": "code",
   "execution_count": 3,
   "metadata": {
    "execution": {
     "iopub.execute_input": "2021-01-12T06:27:21.440917Z",
     "iopub.status.busy": "2021-01-12T06:27:21.440462Z",
     "iopub.status.idle": "2021-01-12T06:27:21.448426Z",
     "shell.execute_reply": "2021-01-12T06:27:21.448086Z"
    },
    "papermill": {
     "duration": 0.034863,
     "end_time": "2021-01-12T06:27:21.448515",
     "exception": false,
     "start_time": "2021-01-12T06:27:21.413652",
     "status": "completed"
    },
    "tags": []
   },
   "outputs": [],
   "source": [
    "%load_ext autoreload\n",
    "%autoreload 2"
   ]
  },
  {
   "cell_type": "code",
   "execution_count": 4,
   "metadata": {
    "execution": {
     "iopub.execute_input": "2021-01-12T06:27:21.499917Z",
     "iopub.status.busy": "2021-01-12T06:27:21.499503Z",
     "iopub.status.idle": "2021-01-12T06:27:23.086315Z",
     "shell.execute_reply": "2021-01-12T06:27:23.085957Z"
    },
    "papermill": {
     "duration": 1.613277,
     "end_time": "2021-01-12T06:27:23.086417",
     "exception": false,
     "start_time": "2021-01-12T06:27:21.473140",
     "status": "completed"
    },
    "tags": []
   },
   "outputs": [],
   "source": [
    "from pathlib import Path\n",
    "import warnings\n",
    "\n",
    "import numpy as np\n",
    "import pandas as pd\n",
    "import umap\n",
    "import matplotlib.pyplot as plt\n",
    "import seaborn as sns\n",
    "\n",
    "from utils import generate_result_set_name"
   ]
  },
  {
   "cell_type": "markdown",
   "metadata": {
    "papermill": {
     "duration": 0.024338,
     "end_time": "2021-01-12T06:27:23.137816",
     "exception": false,
     "start_time": "2021-01-12T06:27:23.113478",
     "status": "completed"
    },
    "tags": []
   },
   "source": [
    "# Settings"
   ]
  },
  {
   "cell_type": "code",
   "execution_count": 5,
   "metadata": {
    "execution": {
     "iopub.execute_input": "2021-01-12T06:27:23.189436Z",
     "iopub.status.busy": "2021-01-12T06:27:23.189055Z",
     "iopub.status.idle": "2021-01-12T06:27:23.200955Z",
     "shell.execute_reply": "2021-01-12T06:27:23.200546Z"
    },
    "papermill": {
     "duration": 0.038687,
     "end_time": "2021-01-12T06:27:23.201041",
     "exception": false,
     "start_time": "2021-01-12T06:27:23.162354",
     "status": "completed"
    },
    "tags": []
   },
   "outputs": [],
   "source": [
    "INITIAL_RANDOM_STATE = 50000"
   ]
  },
  {
   "cell_type": "markdown",
   "metadata": {
    "papermill": {
     "duration": 0.024511,
     "end_time": "2021-01-12T06:27:23.250714",
     "exception": false,
     "start_time": "2021-01-12T06:27:23.226203",
     "status": "completed"
    },
    "tags": []
   },
   "source": [
    "# UMAP"
   ]
  },
  {
   "cell_type": "code",
   "execution_count": 6,
   "metadata": {
    "execution": {
     "iopub.execute_input": "2021-01-12T06:27:23.302107Z",
     "iopub.status.busy": "2021-01-12T06:27:23.301741Z",
     "iopub.status.idle": "2021-01-12T06:27:23.312978Z",
     "shell.execute_reply": "2021-01-12T06:27:23.313286Z"
    },
    "papermill": {
     "duration": 0.038219,
     "end_time": "2021-01-12T06:27:23.313397",
     "exception": false,
     "start_time": "2021-01-12T06:27:23.275178",
     "status": "completed"
    },
    "tags": []
   },
   "outputs": [],
   "source": [
    "INPUT_SUBSET = \"umap\""
   ]
  },
  {
   "cell_type": "code",
   "execution_count": 7,
   "metadata": {
    "execution": {
     "iopub.execute_input": "2021-01-12T06:27:23.365331Z",
     "iopub.status.busy": "2021-01-12T06:27:23.364953Z",
     "iopub.status.idle": "2021-01-12T06:27:23.376936Z",
     "shell.execute_reply": "2021-01-12T06:27:23.376498Z"
    },
    "papermill": {
     "duration": 0.038481,
     "end_time": "2021-01-12T06:27:23.377024",
     "exception": false,
     "start_time": "2021-01-12T06:27:23.338543",
     "status": "completed"
    },
    "tags": []
   },
   "outputs": [],
   "source": [
    "INPUT_STEM = \"z_score_std-projection-smultixcan-efo_partial-mashr-zscores\""
   ]
  },
  {
   "cell_type": "code",
   "execution_count": 8,
   "metadata": {
    "execution": {
     "iopub.execute_input": "2021-01-12T06:27:23.429082Z",
     "iopub.status.busy": "2021-01-12T06:27:23.428663Z",
     "iopub.status.idle": "2021-01-12T06:27:23.440670Z",
     "shell.execute_reply": "2021-01-12T06:27:23.440284Z"
    },
    "papermill": {
     "duration": 0.038926,
     "end_time": "2021-01-12T06:27:23.440818",
     "exception": false,
     "start_time": "2021-01-12T06:27:23.401892",
     "status": "completed"
    },
    "tags": []
   },
   "outputs": [],
   "source": [
    "DR_OPTIONS = {\n",
    "    \"n_components\": 50,\n",
    "    \"metric\": \"euclidean\",\n",
    "    \"n_neighbors\": 15,\n",
    "    \"random_state\": 0,\n",
    "}"
   ]
  },
  {
   "cell_type": "code",
   "execution_count": 9,
   "metadata": {
    "execution": {
     "iopub.execute_input": "2021-01-12T06:27:23.493873Z",
     "iopub.status.busy": "2021-01-12T06:27:23.493487Z",
     "iopub.status.idle": "2021-01-12T06:27:23.507515Z",
     "shell.execute_reply": "2021-01-12T06:27:23.507122Z"
    },
    "papermill": {
     "duration": 0.041987,
     "end_time": "2021-01-12T06:27:23.507608",
     "exception": false,
     "start_time": "2021-01-12T06:27:23.465621",
     "status": "completed"
    },
    "tags": []
   },
   "outputs": [
    {
     "data": {
      "text/plain": [
       "PosixPath('/home/miltondp/projects/labs/greenelab/phenoplier/base3/results/data_transformations/umap/umap-z_score_std-projection-smultixcan-efo_partial-mashr-zscores-metric_euclidean-n_components_50-n_neighbors_15-random_state_0.pkl')"
      ]
     },
     "metadata": {},
     "output_type": "display_data"
    },
    {
     "data": {
      "text/plain": [
       "'umap-z_score_std-projection-smultixcan-efo_partial-mashr-zscores-metric_euclidean-n_components_50-n_neighbors_15-random_state_0'"
      ]
     },
     "metadata": {},
     "output_type": "display_data"
    }
   ],
   "source": [
    "input_filepath = Path(\n",
    "    conf.RESULTS[\"DATA_TRANSFORMATIONS_DIR\"],\n",
    "    INPUT_SUBSET,\n",
    "    generate_result_set_name(\n",
    "        DR_OPTIONS, prefix=f\"{INPUT_SUBSET}-{INPUT_STEM}-\", suffix=\".pkl\"\n",
    "    ),\n",
    ").resolve()\n",
    "display(input_filepath)\n",
    "\n",
    "assert input_filepath.exists(), \"Input file does not exist\"\n",
    "\n",
    "input_filepath_stem = input_filepath.stem\n",
    "display(input_filepath_stem)"
   ]
  },
  {
   "cell_type": "code",
   "execution_count": 10,
   "metadata": {
    "execution": {
     "iopub.execute_input": "2021-01-12T06:27:23.563148Z",
     "iopub.status.busy": "2021-01-12T06:27:23.562782Z",
     "iopub.status.idle": "2021-01-12T06:27:23.576310Z",
     "shell.execute_reply": "2021-01-12T06:27:23.575961Z"
    },
    "papermill": {
     "duration": 0.042238,
     "end_time": "2021-01-12T06:27:23.576403",
     "exception": false,
     "start_time": "2021-01-12T06:27:23.534165",
     "status": "completed"
    },
    "tags": []
   },
   "outputs": [],
   "source": [
    "data = pd.read_pickle(input_filepath)"
   ]
  },
  {
   "cell_type": "code",
   "execution_count": 11,
   "metadata": {
    "execution": {
     "iopub.execute_input": "2021-01-12T06:27:23.630349Z",
     "iopub.status.busy": "2021-01-12T06:27:23.629981Z",
     "iopub.status.idle": "2021-01-12T06:27:23.642366Z",
     "shell.execute_reply": "2021-01-12T06:27:23.641988Z"
    },
    "papermill": {
     "duration": 0.03988,
     "end_time": "2021-01-12T06:27:23.642455",
     "exception": false,
     "start_time": "2021-01-12T06:27:23.602575",
     "status": "completed"
    },
    "tags": []
   },
   "outputs": [
    {
     "data": {
      "text/plain": [
       "(3749, 50)"
      ]
     },
     "execution_count": 11,
     "metadata": {},
     "output_type": "execute_result"
    }
   ],
   "source": [
    "data.shape"
   ]
  },
  {
   "cell_type": "code",
   "execution_count": 12,
   "metadata": {
    "execution": {
     "iopub.execute_input": "2021-01-12T06:27:23.697570Z",
     "iopub.status.busy": "2021-01-12T06:27:23.697201Z",
     "iopub.status.idle": "2021-01-12T06:27:23.722418Z",
     "shell.execute_reply": "2021-01-12T06:27:23.722062Z"
    },
    "papermill": {
     "duration": 0.053148,
     "end_time": "2021-01-12T06:27:23.722512",
     "exception": false,
     "start_time": "2021-01-12T06:27:23.669364",
     "status": "completed"
    },
    "tags": []
   },
   "outputs": [
    {
     "data": {
      "text/html": [
       "<div>\n",
       "<style scoped>\n",
       "    .dataframe tbody tr th:only-of-type {\n",
       "        vertical-align: middle;\n",
       "    }\n",
       "\n",
       "    .dataframe tbody tr th {\n",
       "        vertical-align: top;\n",
       "    }\n",
       "\n",
       "    .dataframe thead th {\n",
       "        text-align: right;\n",
       "    }\n",
       "</style>\n",
       "<table border=\"1\" class=\"dataframe\">\n",
       "  <thead>\n",
       "    <tr style=\"text-align: right;\">\n",
       "      <th></th>\n",
       "      <th>UMAP1</th>\n",
       "      <th>UMAP2</th>\n",
       "      <th>UMAP3</th>\n",
       "      <th>UMAP4</th>\n",
       "      <th>UMAP5</th>\n",
       "      <th>UMAP6</th>\n",
       "      <th>UMAP7</th>\n",
       "      <th>UMAP8</th>\n",
       "      <th>UMAP9</th>\n",
       "      <th>UMAP10</th>\n",
       "      <th>...</th>\n",
       "      <th>UMAP41</th>\n",
       "      <th>UMAP42</th>\n",
       "      <th>UMAP43</th>\n",
       "      <th>UMAP44</th>\n",
       "      <th>UMAP45</th>\n",
       "      <th>UMAP46</th>\n",
       "      <th>UMAP47</th>\n",
       "      <th>UMAP48</th>\n",
       "      <th>UMAP49</th>\n",
       "      <th>UMAP50</th>\n",
       "    </tr>\n",
       "  </thead>\n",
       "  <tbody>\n",
       "    <tr>\n",
       "      <th>100001_raw-Food_weight</th>\n",
       "      <td>11.531590</td>\n",
       "      <td>10.773390</td>\n",
       "      <td>10.551500</td>\n",
       "      <td>5.689103</td>\n",
       "      <td>12.646474</td>\n",
       "      <td>8.795625</td>\n",
       "      <td>2.365859</td>\n",
       "      <td>-3.382425</td>\n",
       "      <td>1.458605</td>\n",
       "      <td>14.236823</td>\n",
       "      <td>...</td>\n",
       "      <td>2.214731</td>\n",
       "      <td>9.304909</td>\n",
       "      <td>3.359118</td>\n",
       "      <td>5.211676</td>\n",
       "      <td>1.265622</td>\n",
       "      <td>2.058685</td>\n",
       "      <td>1.291174</td>\n",
       "      <td>1.565621</td>\n",
       "      <td>7.317275</td>\n",
       "      <td>9.037535</td>\n",
       "    </tr>\n",
       "    <tr>\n",
       "      <th>100002_raw-Energy</th>\n",
       "      <td>11.554761</td>\n",
       "      <td>10.753816</td>\n",
       "      <td>10.548004</td>\n",
       "      <td>5.710800</td>\n",
       "      <td>12.674987</td>\n",
       "      <td>8.787647</td>\n",
       "      <td>2.379787</td>\n",
       "      <td>-3.339913</td>\n",
       "      <td>1.442655</td>\n",
       "      <td>14.196218</td>\n",
       "      <td>...</td>\n",
       "      <td>2.237087</td>\n",
       "      <td>9.270699</td>\n",
       "      <td>3.383440</td>\n",
       "      <td>5.185328</td>\n",
       "      <td>1.257113</td>\n",
       "      <td>2.057439</td>\n",
       "      <td>1.290686</td>\n",
       "      <td>1.557209</td>\n",
       "      <td>7.297037</td>\n",
       "      <td>9.009866</td>\n",
       "    </tr>\n",
       "    <tr>\n",
       "      <th>100003_raw-Protein</th>\n",
       "      <td>11.519615</td>\n",
       "      <td>10.786408</td>\n",
       "      <td>10.540249</td>\n",
       "      <td>5.687959</td>\n",
       "      <td>12.628188</td>\n",
       "      <td>8.789925</td>\n",
       "      <td>2.368370</td>\n",
       "      <td>-3.390937</td>\n",
       "      <td>1.464806</td>\n",
       "      <td>14.233623</td>\n",
       "      <td>...</td>\n",
       "      <td>2.216162</td>\n",
       "      <td>9.314158</td>\n",
       "      <td>3.350708</td>\n",
       "      <td>5.226166</td>\n",
       "      <td>1.267382</td>\n",
       "      <td>2.051692</td>\n",
       "      <td>1.305047</td>\n",
       "      <td>1.558942</td>\n",
       "      <td>7.307035</td>\n",
       "      <td>9.042575</td>\n",
       "    </tr>\n",
       "    <tr>\n",
       "      <th>100004_raw-Fat</th>\n",
       "      <td>11.515584</td>\n",
       "      <td>10.756584</td>\n",
       "      <td>10.570711</td>\n",
       "      <td>5.697041</td>\n",
       "      <td>12.661936</td>\n",
       "      <td>8.787330</td>\n",
       "      <td>2.396913</td>\n",
       "      <td>-3.351611</td>\n",
       "      <td>1.435632</td>\n",
       "      <td>14.221588</td>\n",
       "      <td>...</td>\n",
       "      <td>2.214707</td>\n",
       "      <td>9.273252</td>\n",
       "      <td>3.383349</td>\n",
       "      <td>5.220068</td>\n",
       "      <td>1.270067</td>\n",
       "      <td>2.065669</td>\n",
       "      <td>1.281447</td>\n",
       "      <td>1.578588</td>\n",
       "      <td>7.332527</td>\n",
       "      <td>9.005523</td>\n",
       "    </tr>\n",
       "    <tr>\n",
       "      <th>100005_raw-Carbohydrate</th>\n",
       "      <td>11.528723</td>\n",
       "      <td>10.762026</td>\n",
       "      <td>10.566773</td>\n",
       "      <td>5.698555</td>\n",
       "      <td>12.671127</td>\n",
       "      <td>8.791903</td>\n",
       "      <td>2.394764</td>\n",
       "      <td>-3.354370</td>\n",
       "      <td>1.442259</td>\n",
       "      <td>14.226301</td>\n",
       "      <td>...</td>\n",
       "      <td>2.216362</td>\n",
       "      <td>9.275563</td>\n",
       "      <td>3.383139</td>\n",
       "      <td>5.216354</td>\n",
       "      <td>1.269187</td>\n",
       "      <td>2.063429</td>\n",
       "      <td>1.280020</td>\n",
       "      <td>1.577227</td>\n",
       "      <td>7.335059</td>\n",
       "      <td>9.009464</td>\n",
       "    </tr>\n",
       "  </tbody>\n",
       "</table>\n",
       "<p>5 rows × 50 columns</p>\n",
       "</div>"
      ],
      "text/plain": [
       "                             UMAP1      UMAP2      UMAP3     UMAP4      UMAP5  \\\n",
       "100001_raw-Food_weight   11.531590  10.773390  10.551500  5.689103  12.646474   \n",
       "100002_raw-Energy        11.554761  10.753816  10.548004  5.710800  12.674987   \n",
       "100003_raw-Protein       11.519615  10.786408  10.540249  5.687959  12.628188   \n",
       "100004_raw-Fat           11.515584  10.756584  10.570711  5.697041  12.661936   \n",
       "100005_raw-Carbohydrate  11.528723  10.762026  10.566773  5.698555  12.671127   \n",
       "\n",
       "                            UMAP6     UMAP7     UMAP8     UMAP9     UMAP10  \\\n",
       "100001_raw-Food_weight   8.795625  2.365859 -3.382425  1.458605  14.236823   \n",
       "100002_raw-Energy        8.787647  2.379787 -3.339913  1.442655  14.196218   \n",
       "100003_raw-Protein       8.789925  2.368370 -3.390937  1.464806  14.233623   \n",
       "100004_raw-Fat           8.787330  2.396913 -3.351611  1.435632  14.221588   \n",
       "100005_raw-Carbohydrate  8.791903  2.394764 -3.354370  1.442259  14.226301   \n",
       "\n",
       "                         ...    UMAP41    UMAP42    UMAP43    UMAP44  \\\n",
       "100001_raw-Food_weight   ...  2.214731  9.304909  3.359118  5.211676   \n",
       "100002_raw-Energy        ...  2.237087  9.270699  3.383440  5.185328   \n",
       "100003_raw-Protein       ...  2.216162  9.314158  3.350708  5.226166   \n",
       "100004_raw-Fat           ...  2.214707  9.273252  3.383349  5.220068   \n",
       "100005_raw-Carbohydrate  ...  2.216362  9.275563  3.383139  5.216354   \n",
       "\n",
       "                           UMAP45    UMAP46    UMAP47    UMAP48    UMAP49  \\\n",
       "100001_raw-Food_weight   1.265622  2.058685  1.291174  1.565621  7.317275   \n",
       "100002_raw-Energy        1.257113  2.057439  1.290686  1.557209  7.297037   \n",
       "100003_raw-Protein       1.267382  2.051692  1.305047  1.558942  7.307035   \n",
       "100004_raw-Fat           1.270067  2.065669  1.281447  1.578588  7.332527   \n",
       "100005_raw-Carbohydrate  1.269187  2.063429  1.280020  1.577227  7.335059   \n",
       "\n",
       "                           UMAP50  \n",
       "100001_raw-Food_weight   9.037535  \n",
       "100002_raw-Energy        9.009866  \n",
       "100003_raw-Protein       9.042575  \n",
       "100004_raw-Fat           9.005523  \n",
       "100005_raw-Carbohydrate  9.009464  \n",
       "\n",
       "[5 rows x 50 columns]"
      ]
     },
     "execution_count": 12,
     "metadata": {},
     "output_type": "execute_result"
    }
   ],
   "source": [
    "data.head()"
   ]
  },
  {
   "cell_type": "markdown",
   "metadata": {
    "papermill": {
     "duration": 0.02576,
     "end_time": "2021-01-12T06:27:23.775539",
     "exception": false,
     "start_time": "2021-01-12T06:27:23.749779",
     "status": "completed"
    },
    "tags": []
   },
   "source": [
    "# Clustering"
   ]
  },
  {
   "cell_type": "code",
   "execution_count": 13,
   "metadata": {
    "execution": {
     "iopub.execute_input": "2021-01-12T06:27:23.829861Z",
     "iopub.status.busy": "2021-01-12T06:27:23.829489Z",
     "iopub.status.idle": "2021-01-12T06:27:23.847271Z",
     "shell.execute_reply": "2021-01-12T06:27:23.846960Z"
    },
    "papermill": {
     "duration": 0.045998,
     "end_time": "2021-01-12T06:27:23.847363",
     "exception": false,
     "start_time": "2021-01-12T06:27:23.801365",
     "status": "completed"
    },
    "tags": []
   },
   "outputs": [],
   "source": [
    "from sklearn.cluster import SpectralClustering\n",
    "from sklearn.metrics import silhouette_score, calinski_harabasz_score"
   ]
  },
  {
   "cell_type": "markdown",
   "metadata": {
    "papermill": {
     "duration": 0.025485,
     "end_time": "2021-01-12T06:27:23.899142",
     "exception": false,
     "start_time": "2021-01-12T06:27:23.873657",
     "status": "completed"
    },
    "tags": []
   },
   "source": [
    "## `gamma` parameter"
   ]
  },
  {
   "cell_type": "markdown",
   "metadata": {
    "papermill": {
     "duration": 0.025675,
     "end_time": "2021-01-12T06:27:23.950992",
     "exception": false,
     "start_time": "2021-01-12T06:27:23.925317",
     "status": "completed"
    },
    "tags": []
   },
   "source": [
    "### Using default value (`gamma=1.0`)"
   ]
  },
  {
   "cell_type": "code",
   "execution_count": 14,
   "metadata": {
    "execution": {
     "iopub.execute_input": "2021-01-12T06:27:24.006397Z",
     "iopub.status.busy": "2021-01-12T06:27:24.006021Z",
     "iopub.status.idle": "2021-01-12T06:27:25.656068Z",
     "shell.execute_reply": "2021-01-12T06:27:25.656369Z"
    },
    "papermill": {
     "duration": 1.6795,
     "end_time": "2021-01-12T06:27:25.656486",
     "exception": false,
     "start_time": "2021-01-12T06:27:23.976986",
     "status": "completed"
    },
    "tags": []
   },
   "outputs": [],
   "source": [
    "with warnings.catch_warnings():\n",
    "    warnings.filterwarnings(\"always\")\n",
    "\n",
    "    clus = SpectralClustering(\n",
    "        eigen_solver=\"arpack\",\n",
    "        #         eigen_tol=1e-3,\n",
    "        n_clusters=2,\n",
    "        n_init=1,\n",
    "        affinity=\"rbf\",\n",
    "        gamma=1.00,\n",
    "        random_state=INITIAL_RANDOM_STATE,\n",
    "    )\n",
    "\n",
    "    part = clus.fit_predict(data)"
   ]
  },
  {
   "cell_type": "code",
   "execution_count": 15,
   "metadata": {
    "execution": {
     "iopub.execute_input": "2021-01-12T06:27:25.710995Z",
     "iopub.status.busy": "2021-01-12T06:27:25.710627Z",
     "iopub.status.idle": "2021-01-12T06:27:25.724179Z",
     "shell.execute_reply": "2021-01-12T06:27:25.723808Z"
    },
    "papermill": {
     "duration": 0.041278,
     "end_time": "2021-01-12T06:27:25.724267",
     "exception": false,
     "start_time": "2021-01-12T06:27:25.682989",
     "status": "completed"
    },
    "tags": []
   },
   "outputs": [
    {
     "data": {
      "text/plain": [
       "0    3741\n",
       "1       8\n",
       "dtype: int64"
      ]
     },
     "execution_count": 15,
     "metadata": {},
     "output_type": "execute_result"
    }
   ],
   "source": [
    "# show number of clusters and their size\n",
    "pd.Series(part).value_counts()"
   ]
  },
  {
   "cell_type": "code",
   "execution_count": 16,
   "metadata": {
    "execution": {
     "iopub.execute_input": "2021-01-12T06:27:25.780029Z",
     "iopub.status.busy": "2021-01-12T06:27:25.779661Z",
     "iopub.status.idle": "2021-01-12T06:27:25.979554Z",
     "shell.execute_reply": "2021-01-12T06:27:25.979175Z"
    },
    "papermill": {
     "duration": 0.228846,
     "end_time": "2021-01-12T06:27:25.979645",
     "exception": false,
     "start_time": "2021-01-12T06:27:25.750799",
     "status": "completed"
    },
    "tags": []
   },
   "outputs": [
    {
     "data": {
      "text/plain": [
       "0.8465178"
      ]
     },
     "execution_count": 16,
     "metadata": {},
     "output_type": "execute_result"
    }
   ],
   "source": [
    "# From sklearn website:\n",
    "# The best value is 1 and the worst value is -1. Values near 0 indicate overlapping clusters.\n",
    "# Negative values generally indicate that a sample has been assigned to the wrong cluster,\n",
    "# as a different cluster is more similar\n",
    "silhouette_score(data, part)"
   ]
  },
  {
   "cell_type": "code",
   "execution_count": 17,
   "metadata": {
    "execution": {
     "iopub.execute_input": "2021-01-12T06:27:26.034377Z",
     "iopub.status.busy": "2021-01-12T06:27:26.034009Z",
     "iopub.status.idle": "2021-01-12T06:27:26.049165Z",
     "shell.execute_reply": "2021-01-12T06:27:26.048783Z"
    },
    "papermill": {
     "duration": 0.043367,
     "end_time": "2021-01-12T06:27:26.049255",
     "exception": false,
     "start_time": "2021-01-12T06:27:26.005888",
     "status": "completed"
    },
    "tags": []
   },
   "outputs": [
    {
     "data": {
      "text/plain": [
       "374.93011416107225"
      ]
     },
     "execution_count": 17,
     "metadata": {},
     "output_type": "execute_result"
    }
   ],
   "source": [
    "# From sklearn website:\n",
    "# The score is defined as ratio between the within-cluster dispersion and the between-cluster dispersion\n",
    "calinski_harabasz_score(data, part)"
   ]
  },
  {
   "cell_type": "markdown",
   "metadata": {
    "papermill": {
     "duration": 0.02627,
     "end_time": "2021-01-12T06:27:26.102849",
     "exception": false,
     "start_time": "2021-01-12T06:27:26.076579",
     "status": "completed"
    },
    "tags": []
   },
   "source": [
    "For default values of `gamma` (`1.0`), the algorithm works fine with this data version."
   ]
  },
  {
   "cell_type": "markdown",
   "metadata": {
    "papermill": {
     "duration": 0.026418,
     "end_time": "2021-01-12T06:27:26.155564",
     "exception": false,
     "start_time": "2021-01-12T06:27:26.129146",
     "status": "completed"
    },
    "tags": []
   },
   "source": [
    "### Using `gamma>1.0` (larger than default value)"
   ]
  },
  {
   "cell_type": "code",
   "execution_count": 18,
   "metadata": {
    "execution": {
     "iopub.execute_input": "2021-01-12T06:27:26.212185Z",
     "iopub.status.busy": "2021-01-12T06:27:26.211802Z",
     "iopub.status.idle": "2021-01-12T06:27:29.022147Z",
     "shell.execute_reply": "2021-01-12T06:27:29.018509Z"
    },
    "papermill": {
     "duration": 2.840032,
     "end_time": "2021-01-12T06:27:29.022244",
     "exception": false,
     "start_time": "2021-01-12T06:27:26.182212",
     "status": "completed"
    },
    "tags": []
   },
   "outputs": [],
   "source": [
    "with warnings.catch_warnings():\n",
    "    warnings.filterwarnings(\"always\")\n",
    "\n",
    "    clus = SpectralClustering(\n",
    "        eigen_solver=\"arpack\",\n",
    "        #         eigen_tol=1e-4,\n",
    "        n_clusters=2,\n",
    "        n_init=1,\n",
    "        affinity=\"rbf\",\n",
    "        gamma=2.50,\n",
    "        random_state=INITIAL_RANDOM_STATE,\n",
    "    )\n",
    "\n",
    "    part = clus.fit_predict(data)"
   ]
  },
  {
   "cell_type": "code",
   "execution_count": 19,
   "metadata": {
    "execution": {
     "iopub.execute_input": "2021-01-12T06:27:29.078655Z",
     "iopub.status.busy": "2021-01-12T06:27:29.078286Z",
     "iopub.status.idle": "2021-01-12T06:27:29.091356Z",
     "shell.execute_reply": "2021-01-12T06:27:29.091641Z"
    },
    "papermill": {
     "duration": 0.042154,
     "end_time": "2021-01-12T06:27:29.091751",
     "exception": false,
     "start_time": "2021-01-12T06:27:29.049597",
     "status": "completed"
    },
    "tags": []
   },
   "outputs": [
    {
     "data": {
      "text/plain": [
       "0    3743\n",
       "1       6\n",
       "dtype: int64"
      ]
     },
     "execution_count": 19,
     "metadata": {},
     "output_type": "execute_result"
    }
   ],
   "source": [
    "# show number of clusters and their size\n",
    "pd.Series(part).value_counts()"
   ]
  },
  {
   "cell_type": "code",
   "execution_count": 20,
   "metadata": {
    "execution": {
     "iopub.execute_input": "2021-01-12T06:27:29.148787Z",
     "iopub.status.busy": "2021-01-12T06:27:29.148354Z",
     "iopub.status.idle": "2021-01-12T06:27:29.348228Z",
     "shell.execute_reply": "2021-01-12T06:27:29.347846Z"
    },
    "papermill": {
     "duration": 0.228945,
     "end_time": "2021-01-12T06:27:29.348319",
     "exception": false,
     "start_time": "2021-01-12T06:27:29.119374",
     "status": "completed"
    },
    "tags": []
   },
   "outputs": [
    {
     "data": {
      "text/plain": [
       "0.34538513"
      ]
     },
     "execution_count": 20,
     "metadata": {},
     "output_type": "execute_result"
    }
   ],
   "source": [
    "# From sklearn website:\n",
    "# The best value is 1 and the worst value is -1. Values near 0 indicate overlapping clusters.\n",
    "# Negative values generally indicate that a sample has been assigned to the wrong cluster,\n",
    "# as a different cluster is more similar\n",
    "silhouette_score(data, part)"
   ]
  },
  {
   "cell_type": "code",
   "execution_count": 21,
   "metadata": {
    "execution": {
     "iopub.execute_input": "2021-01-12T06:27:29.405752Z",
     "iopub.status.busy": "2021-01-12T06:27:29.405369Z",
     "iopub.status.idle": "2021-01-12T06:27:29.420939Z",
     "shell.execute_reply": "2021-01-12T06:27:29.420549Z"
    },
    "papermill": {
     "duration": 0.044816,
     "end_time": "2021-01-12T06:27:29.421029",
     "exception": false,
     "start_time": "2021-01-12T06:27:29.376213",
     "status": "completed"
    },
    "tags": []
   },
   "outputs": [
    {
     "data": {
      "text/plain": [
       "9.366943594833044"
      ]
     },
     "execution_count": 21,
     "metadata": {},
     "output_type": "execute_result"
    }
   ],
   "source": [
    "# From sklearn website:\n",
    "# The score is defined as ratio between the within-cluster dispersion and the between-cluster dispersion\n",
    "calinski_harabasz_score(data, part)"
   ]
  },
  {
   "cell_type": "markdown",
   "metadata": {
    "papermill": {
     "duration": 0.027234,
     "end_time": "2021-01-12T06:27:29.476065",
     "exception": false,
     "start_time": "2021-01-12T06:27:29.448831",
     "status": "completed"
    },
    "tags": []
   },
   "source": [
    "For `gamma` values largen than the default (`1.0`), quality measures go down."
   ]
  },
  {
   "cell_type": "markdown",
   "metadata": {
    "papermill": {
     "duration": 0.027859,
     "end_time": "2021-01-12T06:27:29.531173",
     "exception": false,
     "start_time": "2021-01-12T06:27:29.503314",
     "status": "completed"
    },
    "tags": []
   },
   "source": [
    "### Using `gamma<1.0` (smaller than default value)"
   ]
  },
  {
   "cell_type": "code",
   "execution_count": 22,
   "metadata": {
    "execution": {
     "iopub.execute_input": "2021-01-12T06:27:29.588786Z",
     "iopub.status.busy": "2021-01-12T06:27:29.588352Z",
     "iopub.status.idle": "2021-01-12T06:27:30.719600Z",
     "shell.execute_reply": "2021-01-12T06:27:30.719919Z"
    },
    "papermill": {
     "duration": 1.161876,
     "end_time": "2021-01-12T06:27:30.720034",
     "exception": false,
     "start_time": "2021-01-12T06:27:29.558158",
     "status": "completed"
    },
    "tags": []
   },
   "outputs": [],
   "source": [
    "with warnings.catch_warnings():\n",
    "    warnings.filterwarnings(\"always\")\n",
    "\n",
    "    clus = SpectralClustering(\n",
    "        eigen_solver=\"arpack\",\n",
    "        #         eigen_tol=1e-3,\n",
    "        n_clusters=2,\n",
    "        n_init=1,\n",
    "        affinity=\"rbf\",\n",
    "        gamma=0.01,\n",
    "        random_state=INITIAL_RANDOM_STATE,\n",
    "    )\n",
    "\n",
    "    part = clus.fit_predict(data)"
   ]
  },
  {
   "cell_type": "code",
   "execution_count": 23,
   "metadata": {
    "execution": {
     "iopub.execute_input": "2021-01-12T06:27:30.780185Z",
     "iopub.status.busy": "2021-01-12T06:27:30.779805Z",
     "iopub.status.idle": "2021-01-12T06:27:30.793583Z",
     "shell.execute_reply": "2021-01-12T06:27:30.793188Z"
    },
    "papermill": {
     "duration": 0.043089,
     "end_time": "2021-01-12T06:27:30.793673",
     "exception": false,
     "start_time": "2021-01-12T06:27:30.750584",
     "status": "completed"
    },
    "tags": []
   },
   "outputs": [
    {
     "data": {
      "text/plain": [
       "0    3688\n",
       "1      61\n",
       "dtype: int64"
      ]
     },
     "execution_count": 23,
     "metadata": {},
     "output_type": "execute_result"
    }
   ],
   "source": [
    "# show number of clusters and their size\n",
    "pd.Series(part).value_counts()"
   ]
  },
  {
   "cell_type": "code",
   "execution_count": 24,
   "metadata": {
    "execution": {
     "iopub.execute_input": "2021-01-12T06:27:30.852163Z",
     "iopub.status.busy": "2021-01-12T06:27:30.851796Z",
     "iopub.status.idle": "2021-01-12T06:27:31.050939Z",
     "shell.execute_reply": "2021-01-12T06:27:31.050585Z"
    },
    "papermill": {
     "duration": 0.228761,
     "end_time": "2021-01-12T06:27:31.051024",
     "exception": false,
     "start_time": "2021-01-12T06:27:30.822263",
     "status": "completed"
    },
    "tags": []
   },
   "outputs": [
    {
     "data": {
      "text/plain": [
       "0.8607793"
      ]
     },
     "execution_count": 24,
     "metadata": {},
     "output_type": "execute_result"
    }
   ],
   "source": [
    "# From sklearn website:\n",
    "# The best value is 1 and the worst value is -1. Values near 0 indicate overlapping clusters.\n",
    "# Negative values generally indicate that a sample has been assigned to the wrong cluster,\n",
    "# as a different cluster is more similar\n",
    "silhouette_score(data, part)"
   ]
  },
  {
   "cell_type": "code",
   "execution_count": 25,
   "metadata": {
    "execution": {
     "iopub.execute_input": "2021-01-12T06:27:31.109170Z",
     "iopub.status.busy": "2021-01-12T06:27:31.108799Z",
     "iopub.status.idle": "2021-01-12T06:27:31.123962Z",
     "shell.execute_reply": "2021-01-12T06:27:31.123515Z"
    },
    "papermill": {
     "duration": 0.045312,
     "end_time": "2021-01-12T06:27:31.124053",
     "exception": false,
     "start_time": "2021-01-12T06:27:31.078741",
     "status": "completed"
    },
    "tags": []
   },
   "outputs": [
    {
     "data": {
      "text/plain": [
       "4641.627826464735"
      ]
     },
     "execution_count": 25,
     "metadata": {},
     "output_type": "execute_result"
    }
   ],
   "source": [
    "# From sklearn website:\n",
    "# The score is defined as ratio between the within-cluster dispersion and the between-cluster dispersion. Higher is better.\n",
    "calinski_harabasz_score(data, part)"
   ]
  },
  {
   "cell_type": "markdown",
   "metadata": {
    "papermill": {
     "duration": 0.028558,
     "end_time": "2021-01-12T06:27:31.182053",
     "exception": false,
     "start_time": "2021-01-12T06:27:31.153495",
     "status": "completed"
    },
    "tags": []
   },
   "source": [
    "For `gamma` values around `0.01`, clustering quality measures improve. I will explore more around these values."
   ]
  },
  {
   "cell_type": "markdown",
   "metadata": {
    "papermill": {
     "duration": 0.027782,
     "end_time": "2021-01-12T06:27:31.237724",
     "exception": false,
     "start_time": "2021-01-12T06:27:31.209942",
     "status": "completed"
    },
    "tags": []
   },
   "source": [
    "## Extended test"
   ]
  },
  {
   "cell_type": "markdown",
   "metadata": {},
   "source": [
    "Here I run some test across several `k` and `gamma` values; then I check how results perform with different clustering quality measures."
   ]
  },
  {
   "cell_type": "code",
   "execution_count": 26,
   "metadata": {
    "execution": {
     "iopub.execute_input": "2021-01-12T06:27:31.297462Z",
     "iopub.status.busy": "2021-01-12T06:27:31.297083Z",
     "iopub.status.idle": "2021-01-12T06:27:31.310031Z",
     "shell.execute_reply": "2021-01-12T06:27:31.309653Z"
    },
    "papermill": {
     "duration": 0.044486,
     "end_time": "2021-01-12T06:27:31.310120",
     "exception": false,
     "start_time": "2021-01-12T06:27:31.265634",
     "status": "completed"
    },
    "tags": []
   },
   "outputs": [
    {
     "data": {
      "text/plain": [
       "{'K_RANGE': [2, 4, 6, 8, 10, 20, 30, 40, 50, 60],\n",
       " 'N_REPS_PER_K': 5,\n",
       " 'KMEANS_N_INIT': 10,\n",
       " 'GAMMAS': [1.0, 0.01, 1e-05, 1e-10, 1e-15, 1e-20, 1e-50],\n",
       " 'AFFINITY': 'rbf'}"
      ]
     },
     "metadata": {},
     "output_type": "display_data"
    }
   ],
   "source": [
    "CLUSTERING_OPTIONS = {}\n",
    "\n",
    "CLUSTERING_OPTIONS[\"K_RANGE\"] = [2, 4, 6, 8, 10, 20, 30, 40, 50, 60]\n",
    "CLUSTERING_OPTIONS[\"N_REPS_PER_K\"] = 5\n",
    "CLUSTERING_OPTIONS[\"KMEANS_N_INIT\"] = 10\n",
    "CLUSTERING_OPTIONS[\"GAMMAS\"] = [\n",
    "    1.00,\n",
    "    1e-02,\n",
    "    #     1e-04,\n",
    "    #     1e-05,\n",
    "    1e-05,\n",
    "    #     1e-06,\n",
    "    #     1e-07,\n",
    "    #     1e-08,\n",
    "    #     1e-09,\n",
    "    1e-10,\n",
    "    #     1e-11,\n",
    "    #     1e-12,\n",
    "    #     1e-13,\n",
    "    #     1e-14,\n",
    "    1e-15,\n",
    "    #     1e-17,\n",
    "    1e-20,\n",
    "    #     1e-30,\n",
    "    #     1e-40,\n",
    "    1e-50,\n",
    "]\n",
    "CLUSTERING_OPTIONS[\"AFFINITY\"] = \"rbf\"\n",
    "\n",
    "display(CLUSTERING_OPTIONS)"
   ]
  },
  {
   "cell_type": "code",
   "execution_count": 27,
   "metadata": {
    "execution": {
     "iopub.execute_input": "2021-01-12T06:27:31.396022Z",
     "iopub.status.busy": "2021-01-12T06:27:31.395623Z",
     "iopub.status.idle": "2021-01-12T06:27:31.409454Z",
     "shell.execute_reply": "2021-01-12T06:27:31.409097Z"
    },
    "papermill": {
     "duration": 0.050888,
     "end_time": "2021-01-12T06:27:31.409551",
     "exception": false,
     "start_time": "2021-01-12T06:27:31.358663",
     "status": "completed"
    },
    "tags": []
   },
   "outputs": [],
   "source": [
    "CLUSTERERS = {}\n",
    "\n",
    "idx = 0\n",
    "random_state = INITIAL_RANDOM_STATE\n",
    "\n",
    "for k in CLUSTERING_OPTIONS[\"K_RANGE\"]:\n",
    "    for gamma_value in CLUSTERING_OPTIONS[\"GAMMAS\"]:\n",
    "        for i in range(CLUSTERING_OPTIONS[\"N_REPS_PER_K\"]):\n",
    "            clus = SpectralClustering(\n",
    "                eigen_solver=\"arpack\",\n",
    "                n_clusters=k,\n",
    "                n_init=CLUSTERING_OPTIONS[\"KMEANS_N_INIT\"],\n",
    "                affinity=CLUSTERING_OPTIONS[\"AFFINITY\"],\n",
    "                gamma=gamma_value,\n",
    "                random_state=random_state,\n",
    "            )\n",
    "\n",
    "            method_name = type(clus).__name__\n",
    "            CLUSTERERS[f\"{method_name} #{idx}\"] = clus\n",
    "\n",
    "            random_state = random_state + 1\n",
    "            idx = idx + 1"
   ]
  },
  {
   "cell_type": "code",
   "execution_count": 28,
   "metadata": {
    "execution": {
     "iopub.execute_input": "2021-01-12T06:27:31.470389Z",
     "iopub.status.busy": "2021-01-12T06:27:31.470024Z",
     "iopub.status.idle": "2021-01-12T06:27:31.482353Z",
     "shell.execute_reply": "2021-01-12T06:27:31.482007Z"
    },
    "papermill": {
     "duration": 0.043213,
     "end_time": "2021-01-12T06:27:31.482441",
     "exception": false,
     "start_time": "2021-01-12T06:27:31.439228",
     "status": "completed"
    },
    "tags": []
   },
   "outputs": [
    {
     "data": {
      "text/plain": [
       "350"
      ]
     },
     "metadata": {},
     "output_type": "display_data"
    }
   ],
   "source": [
    "display(len(CLUSTERERS))"
   ]
  },
  {
   "cell_type": "code",
   "execution_count": 29,
   "metadata": {
    "execution": {
     "iopub.execute_input": "2021-01-12T06:27:31.544896Z",
     "iopub.status.busy": "2021-01-12T06:27:31.544449Z",
     "iopub.status.idle": "2021-01-12T06:27:31.558892Z",
     "shell.execute_reply": "2021-01-12T06:27:31.558518Z"
    },
    "papermill": {
     "duration": 0.046533,
     "end_time": "2021-01-12T06:27:31.558981",
     "exception": false,
     "start_time": "2021-01-12T06:27:31.512448",
     "status": "completed"
    },
    "tags": []
   },
   "outputs": [
    {
     "data": {
      "text/plain": [
       "('SpectralClustering #0',\n",
       " SpectralClustering(eigen_solver='arpack', n_clusters=2, random_state=50000))"
      ]
     },
     "metadata": {},
     "output_type": "display_data"
    },
    {
     "data": {
      "text/plain": [
       "('SpectralClustering #1',\n",
       " SpectralClustering(eigen_solver='arpack', n_clusters=2, random_state=50001))"
      ]
     },
     "metadata": {},
     "output_type": "display_data"
    }
   ],
   "source": [
    "_iter = iter(CLUSTERERS.items())\n",
    "display(next(_iter))\n",
    "display(next(_iter))"
   ]
  },
  {
   "cell_type": "code",
   "execution_count": 30,
   "metadata": {
    "execution": {
     "iopub.execute_input": "2021-01-12T06:27:31.623851Z",
     "iopub.status.busy": "2021-01-12T06:27:31.623428Z",
     "iopub.status.idle": "2021-01-12T06:27:31.637177Z",
     "shell.execute_reply": "2021-01-12T06:27:31.636790Z"
    },
    "papermill": {
     "duration": 0.047007,
     "end_time": "2021-01-12T06:27:31.637269",
     "exception": false,
     "start_time": "2021-01-12T06:27:31.590262",
     "status": "completed"
    },
    "tags": []
   },
   "outputs": [
    {
     "data": {
      "text/plain": [
       "'SpectralClustering'"
      ]
     },
     "metadata": {},
     "output_type": "display_data"
    }
   ],
   "source": [
    "clustering_method_name = method_name\n",
    "display(clustering_method_name)"
   ]
  },
  {
   "cell_type": "markdown",
   "metadata": {
    "papermill": {
     "duration": 0.029743,
     "end_time": "2021-01-12T06:27:31.698410",
     "exception": false,
     "start_time": "2021-01-12T06:27:31.668667",
     "status": "completed"
    },
    "tags": []
   },
   "source": [
    "## Generate ensemble"
   ]
  },
  {
   "cell_type": "code",
   "execution_count": 31,
   "metadata": {
    "execution": {
     "iopub.execute_input": "2021-01-12T06:27:31.760611Z",
     "iopub.status.busy": "2021-01-12T06:27:31.760242Z",
     "iopub.status.idle": "2021-01-12T06:27:31.775590Z",
     "shell.execute_reply": "2021-01-12T06:27:31.775896Z"
    },
    "papermill": {
     "duration": 0.047927,
     "end_time": "2021-01-12T06:27:31.776008",
     "exception": false,
     "start_time": "2021-01-12T06:27:31.728081",
     "status": "completed"
    },
    "tags": []
   },
   "outputs": [],
   "source": [
    "import tempfile\n",
    "from clustering.ensemble import generate_ensemble"
   ]
  },
  {
   "cell_type": "code",
   "execution_count": 32,
   "metadata": {
    "execution": {
     "iopub.execute_input": "2021-01-12T06:27:31.838522Z",
     "iopub.status.busy": "2021-01-12T06:27:31.838132Z",
     "iopub.status.idle": "2021-01-12T06:27:31.850199Z",
     "shell.execute_reply": "2021-01-12T06:27:31.849861Z"
    },
    "papermill": {
     "duration": 0.044566,
     "end_time": "2021-01-12T06:27:31.850291",
     "exception": false,
     "start_time": "2021-01-12T06:27:31.805725",
     "status": "completed"
    },
    "tags": []
   },
   "outputs": [],
   "source": [
    "# generate a temporary folder where to store the ensemble and avoid computing it again\n",
    "ensemble_folder = Path(\n",
    "    tempfile.gettempdir(),\n",
    "    f\"pre_cluster_analysis\",\n",
    "    clustering_method_name,\n",
    ").resolve()\n",
    "ensemble_folder.mkdir(parents=True, exist_ok=True)"
   ]
  },
  {
   "cell_type": "code",
   "execution_count": 33,
   "metadata": {
    "execution": {
     "iopub.execute_input": "2021-01-12T06:27:31.912653Z",
     "iopub.status.busy": "2021-01-12T06:27:31.912278Z",
     "iopub.status.idle": "2021-01-12T06:27:31.925911Z",
     "shell.execute_reply": "2021-01-12T06:27:31.925529Z"
    },
    "papermill": {
     "duration": 0.045455,
     "end_time": "2021-01-12T06:27:31.926002",
     "exception": false,
     "start_time": "2021-01-12T06:27:31.880547",
     "status": "completed"
    },
    "tags": []
   },
   "outputs": [
    {
     "data": {
      "text/plain": [
       "PosixPath('/tmp/pre_cluster_analysis/SpectralClustering/ensemble-umap-AFFINITY_rbf-GAMMAS_10_001_1e_05_1e_10_1e_15_1e_20_1e_50-KMEANS_N_INIT_10-K_RANGE_2_4_6_8_10_20_30_40_50_60-N_REPS_PER_K_5.pkl')"
      ]
     },
     "metadata": {},
     "output_type": "display_data"
    }
   ],
   "source": [
    "ensemble_file = Path(\n",
    "    ensemble_folder,\n",
    "    generate_result_set_name(\n",
    "        CLUSTERING_OPTIONS, prefix=f\"ensemble-{INPUT_SUBSET}-\", suffix=\".pkl\"\n",
    "    ),\n",
    ")\n",
    "display(ensemble_file)"
   ]
  },
  {
   "cell_type": "code",
   "execution_count": 34,
   "metadata": {
    "execution": {
     "iopub.execute_input": "2021-01-12T06:27:31.989053Z",
     "iopub.status.busy": "2021-01-12T06:27:31.988609Z",
     "iopub.status.idle": "2021-01-12T06:42:31.329852Z",
     "shell.execute_reply": "2021-01-12T06:42:31.330176Z"
    },
    "papermill": {
     "duration": 899.374044,
     "end_time": "2021-01-12T06:42:31.330293",
     "exception": false,
     "start_time": "2021-01-12T06:27:31.956249",
     "status": "completed"
    },
    "tags": []
   },
   "outputs": [
    {
     "name": "stderr",
     "output_type": "stream",
     "text": [
      "100%|██████████| 350/350 [14:59<00:00,  2.57s/it]\n"
     ]
    }
   ],
   "source": [
    "if ensemble_file.exists():\n",
    "    display(f\"Ensemble file exists\")\n",
    "    ensemble = pd.read_pickle(ensemble_file)\n",
    "else:\n",
    "    ensemble = generate_ensemble(\n",
    "        data,\n",
    "        CLUSTERERS,\n",
    "        attributes=[\"n_clusters\", \"gamma\"],\n",
    "    )\n",
    "\n",
    "    ensemble.to_pickle(ensemble_file)"
   ]
  },
  {
   "cell_type": "code",
   "execution_count": 35,
   "metadata": {
    "execution": {
     "iopub.execute_input": "2021-01-12T06:42:31.505118Z",
     "iopub.status.busy": "2021-01-12T06:42:31.504740Z",
     "iopub.status.idle": "2021-01-12T06:42:31.517298Z",
     "shell.execute_reply": "2021-01-12T06:42:31.517596Z"
    },
    "papermill": {
     "duration": 0.099862,
     "end_time": "2021-01-12T06:42:31.517704",
     "exception": false,
     "start_time": "2021-01-12T06:42:31.417842",
     "status": "completed"
    },
    "tags": []
   },
   "outputs": [
    {
     "data": {
      "text/plain": [
       "(350, 4)"
      ]
     },
     "execution_count": 35,
     "metadata": {},
     "output_type": "execute_result"
    }
   ],
   "source": [
    "ensemble.shape"
   ]
  },
  {
   "cell_type": "code",
   "execution_count": 36,
   "metadata": {
    "execution": {
     "iopub.execute_input": "2021-01-12T06:42:31.689748Z",
     "iopub.status.busy": "2021-01-12T06:42:31.689385Z",
     "iopub.status.idle": "2021-01-12T06:42:31.709224Z",
     "shell.execute_reply": "2021-01-12T06:42:31.709506Z"
    },
    "papermill": {
     "duration": 0.106741,
     "end_time": "2021-01-12T06:42:31.709619",
     "exception": false,
     "start_time": "2021-01-12T06:42:31.602878",
     "status": "completed"
    },
    "tags": []
   },
   "outputs": [
    {
     "data": {
      "text/html": [
       "<div>\n",
       "<style scoped>\n",
       "    .dataframe tbody tr th:only-of-type {\n",
       "        vertical-align: middle;\n",
       "    }\n",
       "\n",
       "    .dataframe tbody tr th {\n",
       "        vertical-align: top;\n",
       "    }\n",
       "\n",
       "    .dataframe thead th {\n",
       "        text-align: right;\n",
       "    }\n",
       "</style>\n",
       "<table border=\"1\" class=\"dataframe\">\n",
       "  <thead>\n",
       "    <tr style=\"text-align: right;\">\n",
       "      <th></th>\n",
       "      <th>clusterer_params</th>\n",
       "      <th>partition</th>\n",
       "      <th>n_clusters</th>\n",
       "      <th>gamma</th>\n",
       "    </tr>\n",
       "    <tr>\n",
       "      <th>clusterer_id</th>\n",
       "      <th></th>\n",
       "      <th></th>\n",
       "      <th></th>\n",
       "      <th></th>\n",
       "    </tr>\n",
       "  </thead>\n",
       "  <tbody>\n",
       "    <tr>\n",
       "      <th>SpectralClustering #0</th>\n",
       "      <td>{'affinity': 'rbf', 'assign_labels': 'kmeans',...</td>\n",
       "      <td>[0.0, 0.0, 0.0, 0.0, 0.0, 0.0, 0.0, 0.0, 0.0, ...</td>\n",
       "      <td>2</td>\n",
       "      <td>1.0</td>\n",
       "    </tr>\n",
       "    <tr>\n",
       "      <th>SpectralClustering #1</th>\n",
       "      <td>{'affinity': 'rbf', 'assign_labels': 'kmeans',...</td>\n",
       "      <td>[0.0, 0.0, 0.0, 0.0, 0.0, 0.0, 0.0, 0.0, 0.0, ...</td>\n",
       "      <td>2</td>\n",
       "      <td>1.0</td>\n",
       "    </tr>\n",
       "    <tr>\n",
       "      <th>SpectralClustering #2</th>\n",
       "      <td>{'affinity': 'rbf', 'assign_labels': 'kmeans',...</td>\n",
       "      <td>[0.0, 0.0, 0.0, 0.0, 0.0, 0.0, 0.0, 0.0, 0.0, ...</td>\n",
       "      <td>2</td>\n",
       "      <td>1.0</td>\n",
       "    </tr>\n",
       "    <tr>\n",
       "      <th>SpectralClustering #3</th>\n",
       "      <td>{'affinity': 'rbf', 'assign_labels': 'kmeans',...</td>\n",
       "      <td>[0.0, 0.0, 0.0, 0.0, 0.0, 0.0, 0.0, 0.0, 0.0, ...</td>\n",
       "      <td>2</td>\n",
       "      <td>1.0</td>\n",
       "    </tr>\n",
       "    <tr>\n",
       "      <th>SpectralClustering #4</th>\n",
       "      <td>{'affinity': 'rbf', 'assign_labels': 'kmeans',...</td>\n",
       "      <td>[0.0, 0.0, 0.0, 0.0, 0.0, 0.0, 0.0, 0.0, 0.0, ...</td>\n",
       "      <td>2</td>\n",
       "      <td>1.0</td>\n",
       "    </tr>\n",
       "  </tbody>\n",
       "</table>\n",
       "</div>"
      ],
      "text/plain": [
       "                                                        clusterer_params  \\\n",
       "clusterer_id                                                               \n",
       "SpectralClustering #0  {'affinity': 'rbf', 'assign_labels': 'kmeans',...   \n",
       "SpectralClustering #1  {'affinity': 'rbf', 'assign_labels': 'kmeans',...   \n",
       "SpectralClustering #2  {'affinity': 'rbf', 'assign_labels': 'kmeans',...   \n",
       "SpectralClustering #3  {'affinity': 'rbf', 'assign_labels': 'kmeans',...   \n",
       "SpectralClustering #4  {'affinity': 'rbf', 'assign_labels': 'kmeans',...   \n",
       "\n",
       "                                                               partition  \\\n",
       "clusterer_id                                                               \n",
       "SpectralClustering #0  [0.0, 0.0, 0.0, 0.0, 0.0, 0.0, 0.0, 0.0, 0.0, ...   \n",
       "SpectralClustering #1  [0.0, 0.0, 0.0, 0.0, 0.0, 0.0, 0.0, 0.0, 0.0, ...   \n",
       "SpectralClustering #2  [0.0, 0.0, 0.0, 0.0, 0.0, 0.0, 0.0, 0.0, 0.0, ...   \n",
       "SpectralClustering #3  [0.0, 0.0, 0.0, 0.0, 0.0, 0.0, 0.0, 0.0, 0.0, ...   \n",
       "SpectralClustering #4  [0.0, 0.0, 0.0, 0.0, 0.0, 0.0, 0.0, 0.0, 0.0, ...   \n",
       "\n",
       "                       n_clusters  gamma  \n",
       "clusterer_id                              \n",
       "SpectralClustering #0           2    1.0  \n",
       "SpectralClustering #1           2    1.0  \n",
       "SpectralClustering #2           2    1.0  \n",
       "SpectralClustering #3           2    1.0  \n",
       "SpectralClustering #4           2    1.0  "
      ]
     },
     "execution_count": 36,
     "metadata": {},
     "output_type": "execute_result"
    }
   ],
   "source": [
    "ensemble.head()"
   ]
  },
  {
   "cell_type": "code",
   "execution_count": 37,
   "metadata": {
    "execution": {
     "iopub.execute_input": "2021-01-12T06:42:31.883976Z",
     "iopub.status.busy": "2021-01-12T06:42:31.883611Z",
     "iopub.status.idle": "2021-01-12T06:42:31.896504Z",
     "shell.execute_reply": "2021-01-12T06:42:31.896092Z"
    },
    "papermill": {
     "duration": 0.100818,
     "end_time": "2021-01-12T06:42:31.896597",
     "exception": false,
     "start_time": "2021-01-12T06:42:31.795779",
     "status": "completed"
    },
    "tags": []
   },
   "outputs": [],
   "source": [
    "ensemble[\"gamma\"] = ensemble[\"gamma\"].apply(lambda x: f\"{x:.1e}\")"
   ]
  },
  {
   "cell_type": "code",
   "execution_count": 38,
   "metadata": {
    "execution": {
     "iopub.execute_input": "2021-01-12T06:42:32.071886Z",
     "iopub.status.busy": "2021-01-12T06:42:32.071527Z",
     "iopub.status.idle": "2021-01-12T06:42:32.084947Z",
     "shell.execute_reply": "2021-01-12T06:42:32.084539Z"
    },
    "papermill": {
     "duration": 0.101702,
     "end_time": "2021-01-12T06:42:32.085037",
     "exception": false,
     "start_time": "2021-01-12T06:42:31.983335",
     "status": "completed"
    },
    "tags": []
   },
   "outputs": [
    {
     "data": {
      "text/plain": [
       "60    35\n",
       "50    35\n",
       "40    35\n",
       "30    35\n",
       "20    35\n",
       "10    35\n",
       "8     35\n",
       "6     35\n",
       "4     35\n",
       "2     35\n",
       "Name: n_clusters, dtype: int64"
      ]
     },
     "execution_count": 38,
     "metadata": {},
     "output_type": "execute_result"
    }
   ],
   "source": [
    "ensemble[\"n_clusters\"].value_counts()"
   ]
  },
  {
   "cell_type": "code",
   "execution_count": 39,
   "metadata": {
    "execution": {
     "iopub.execute_input": "2021-01-12T06:42:32.259045Z",
     "iopub.status.busy": "2021-01-12T06:42:32.258665Z",
     "iopub.status.idle": "2021-01-12T06:42:32.271658Z",
     "shell.execute_reply": "2021-01-12T06:42:32.271275Z"
    },
    "papermill": {
     "duration": 0.100494,
     "end_time": "2021-01-12T06:42:32.271749",
     "exception": false,
     "start_time": "2021-01-12T06:42:32.171255",
     "status": "completed"
    },
    "tags": []
   },
   "outputs": [],
   "source": [
    "_tmp = ensemble[\"n_clusters\"].value_counts().unique()\n",
    "assert _tmp.shape[0] == 1\n",
    "assert _tmp[0] == int(\n",
    "    CLUSTERING_OPTIONS[\"N_REPS_PER_K\"] * len(CLUSTERING_OPTIONS[\"GAMMAS\"])\n",
    ")"
   ]
  },
  {
   "cell_type": "code",
   "execution_count": 40,
   "metadata": {
    "execution": {
     "iopub.execute_input": "2021-01-12T06:42:32.445900Z",
     "iopub.status.busy": "2021-01-12T06:42:32.445549Z",
     "iopub.status.idle": "2021-01-12T06:42:32.461690Z",
     "shell.execute_reply": "2021-01-12T06:42:32.461966Z"
    },
    "papermill": {
     "duration": 0.10443,
     "end_time": "2021-01-12T06:42:32.462077",
     "exception": false,
     "start_time": "2021-01-12T06:42:32.357647",
     "status": "completed"
    },
    "tags": []
   },
   "outputs": [
    {
     "data": {
      "text/plain": [
       "count    350.000000\n",
       "mean      23.000000\n",
       "std       19.852609\n",
       "min        2.000000\n",
       "25%        6.000000\n",
       "50%       15.000000\n",
       "75%       40.000000\n",
       "max       60.000000\n",
       "Name: n_clusters, dtype: float64"
      ]
     },
     "metadata": {},
     "output_type": "display_data"
    }
   ],
   "source": [
    "ensemble_stats = ensemble[\"n_clusters\"].describe()\n",
    "display(ensemble_stats)"
   ]
  },
  {
   "cell_type": "markdown",
   "metadata": {
    "papermill": {
     "duration": 0.085843,
     "end_time": "2021-01-12T06:42:32.635181",
     "exception": false,
     "start_time": "2021-01-12T06:42:32.549338",
     "status": "completed"
    },
    "tags": []
   },
   "source": [
    "### Testing"
   ]
  },
  {
   "cell_type": "code",
   "execution_count": 41,
   "metadata": {
    "execution": {
     "iopub.execute_input": "2021-01-12T06:42:32.810276Z",
     "iopub.status.busy": "2021-01-12T06:42:32.809899Z",
     "iopub.status.idle": "2021-01-12T06:42:32.821388Z",
     "shell.execute_reply": "2021-01-12T06:42:32.821675Z"
    },
    "papermill": {
     "duration": 0.100931,
     "end_time": "2021-01-12T06:42:32.821787",
     "exception": false,
     "start_time": "2021-01-12T06:42:32.720856",
     "status": "completed"
    },
    "tags": []
   },
   "outputs": [],
   "source": [
    "assert ensemble_stats[\"min\"] > 1"
   ]
  },
  {
   "cell_type": "code",
   "execution_count": 42,
   "metadata": {
    "execution": {
     "iopub.execute_input": "2021-01-12T06:42:33.018916Z",
     "iopub.status.busy": "2021-01-12T06:42:33.018540Z",
     "iopub.status.idle": "2021-01-12T06:42:33.030353Z",
     "shell.execute_reply": "2021-01-12T06:42:33.030631Z"
    },
    "papermill": {
     "duration": 0.104272,
     "end_time": "2021-01-12T06:42:33.030741",
     "exception": false,
     "start_time": "2021-01-12T06:42:32.926469",
     "status": "completed"
    },
    "tags": []
   },
   "outputs": [],
   "source": [
    "assert not ensemble[\"n_clusters\"].isna().any()"
   ]
  },
  {
   "cell_type": "code",
   "execution_count": 43,
   "metadata": {
    "execution": {
     "iopub.execute_input": "2021-01-12T06:42:33.206878Z",
     "iopub.status.busy": "2021-01-12T06:42:33.206515Z",
     "iopub.status.idle": "2021-01-12T06:42:33.218341Z",
     "shell.execute_reply": "2021-01-12T06:42:33.217960Z"
    },
    "papermill": {
     "duration": 0.100651,
     "end_time": "2021-01-12T06:42:33.218430",
     "exception": false,
     "start_time": "2021-01-12T06:42:33.117779",
     "status": "completed"
    },
    "tags": []
   },
   "outputs": [],
   "source": [
    "assert ensemble.shape[0] == len(CLUSTERERS)"
   ]
  },
  {
   "cell_type": "code",
   "execution_count": 44,
   "metadata": {
    "execution": {
     "iopub.execute_input": "2021-01-12T06:42:33.395286Z",
     "iopub.status.busy": "2021-01-12T06:42:33.394909Z",
     "iopub.status.idle": "2021-01-12T06:42:33.427983Z",
     "shell.execute_reply": "2021-01-12T06:42:33.427673Z"
    },
    "papermill": {
     "duration": 0.121891,
     "end_time": "2021-01-12T06:42:33.428074",
     "exception": false,
     "start_time": "2021-01-12T06:42:33.306183",
     "status": "completed"
    },
    "tags": []
   },
   "outputs": [],
   "source": [
    "# all partitions have the right size\n",
    "assert np.all(\n",
    "    [part[\"partition\"].shape[0] == data.shape[0] for idx, part in ensemble.iterrows()]\n",
    ")"
   ]
  },
  {
   "cell_type": "code",
   "execution_count": 45,
   "metadata": {
    "execution": {
     "iopub.execute_input": "2021-01-12T06:42:33.603400Z",
     "iopub.status.busy": "2021-01-12T06:42:33.603035Z",
     "iopub.status.idle": "2021-01-12T06:42:33.639218Z",
     "shell.execute_reply": "2021-01-12T06:42:33.638836Z"
    },
    "papermill": {
     "duration": 0.124603,
     "end_time": "2021-01-12T06:42:33.639307",
     "exception": false,
     "start_time": "2021-01-12T06:42:33.514704",
     "status": "completed"
    },
    "tags": []
   },
   "outputs": [],
   "source": [
    "# no partition has negative clusters (noisy points)\n",
    "assert not np.any([(part[\"partition\"] < 0).any() for idx, part in ensemble.iterrows()])"
   ]
  },
  {
   "cell_type": "code",
   "execution_count": 46,
   "metadata": {
    "execution": {
     "iopub.execute_input": "2021-01-12T06:42:33.814684Z",
     "iopub.status.busy": "2021-01-12T06:42:33.814308Z",
     "iopub.status.idle": "2021-01-12T06:42:33.855100Z",
     "shell.execute_reply": "2021-01-12T06:42:33.854725Z"
    },
    "papermill": {
     "duration": 0.129812,
     "end_time": "2021-01-12T06:42:33.855189",
     "exception": false,
     "start_time": "2021-01-12T06:42:33.725377",
     "status": "completed"
    },
    "tags": []
   },
   "outputs": [
    {
     "data": {
      "text/plain": [
       "clusterer_id\n",
       "SpectralClustering #0       2\n",
       "SpectralClustering #1       2\n",
       "SpectralClustering #2       2\n",
       "SpectralClustering #3       2\n",
       "SpectralClustering #4       2\n",
       "                           ..\n",
       "SpectralClustering #345    60\n",
       "SpectralClustering #346    60\n",
       "SpectralClustering #347    60\n",
       "SpectralClustering #348    60\n",
       "SpectralClustering #349    60\n",
       "Name: partition, Length: 350, dtype: int64"
      ]
     },
     "metadata": {},
     "output_type": "display_data"
    }
   ],
   "source": [
    "# check that the number of clusters in the partitions are the expected ones\n",
    "_real_k_values = ensemble[\"partition\"].apply(lambda x: np.unique(x).shape[0])\n",
    "display(_real_k_values)\n",
    "assert np.all(ensemble[\"n_clusters\"].values == _real_k_values.values)"
   ]
  },
  {
   "cell_type": "markdown",
   "metadata": {
    "papermill": {
     "duration": 0.08606,
     "end_time": "2021-01-12T06:42:34.028392",
     "exception": false,
     "start_time": "2021-01-12T06:42:33.942332",
     "status": "completed"
    },
    "tags": []
   },
   "source": [
    "### Add clustering quality measures"
   ]
  },
  {
   "cell_type": "code",
   "execution_count": 47,
   "metadata": {
    "execution": {
     "iopub.execute_input": "2021-01-12T06:42:34.204585Z",
     "iopub.status.busy": "2021-01-12T06:42:34.204218Z",
     "iopub.status.idle": "2021-01-12T06:42:35.210083Z",
     "shell.execute_reply": "2021-01-12T06:42:35.209692Z"
    },
    "papermill": {
     "duration": 1.094883,
     "end_time": "2021-01-12T06:42:35.210173",
     "exception": false,
     "start_time": "2021-01-12T06:42:34.115290",
     "status": "completed"
    },
    "tags": []
   },
   "outputs": [],
   "source": [
    "ensemble = ensemble.assign(\n",
    "    ch_score=ensemble[\"partition\"].apply(lambda x: calinski_harabasz_score(data, x))\n",
    ")"
   ]
  },
  {
   "cell_type": "code",
   "execution_count": 48,
   "metadata": {
    "execution": {
     "iopub.execute_input": "2021-01-12T06:42:35.384892Z",
     "iopub.status.busy": "2021-01-12T06:42:35.384455Z",
     "iopub.status.idle": "2021-01-12T06:42:35.397356Z",
     "shell.execute_reply": "2021-01-12T06:42:35.396988Z"
    },
    "papermill": {
     "duration": 0.101513,
     "end_time": "2021-01-12T06:42:35.397442",
     "exception": false,
     "start_time": "2021-01-12T06:42:35.295929",
     "status": "completed"
    },
    "tags": []
   },
   "outputs": [
    {
     "data": {
      "text/plain": [
       "(350, 5)"
      ]
     },
     "execution_count": 48,
     "metadata": {},
     "output_type": "execute_result"
    }
   ],
   "source": [
    "ensemble.shape"
   ]
  },
  {
   "cell_type": "code",
   "execution_count": 49,
   "metadata": {
    "execution": {
     "iopub.execute_input": "2021-01-12T06:42:35.574826Z",
     "iopub.status.busy": "2021-01-12T06:42:35.574465Z",
     "iopub.status.idle": "2021-01-12T06:42:35.594701Z",
     "shell.execute_reply": "2021-01-12T06:42:35.594336Z"
    },
    "papermill": {
     "duration": 0.110232,
     "end_time": "2021-01-12T06:42:35.594788",
     "exception": false,
     "start_time": "2021-01-12T06:42:35.484556",
     "status": "completed"
    },
    "tags": []
   },
   "outputs": [
    {
     "data": {
      "text/html": [
       "<div>\n",
       "<style scoped>\n",
       "    .dataframe tbody tr th:only-of-type {\n",
       "        vertical-align: middle;\n",
       "    }\n",
       "\n",
       "    .dataframe tbody tr th {\n",
       "        vertical-align: top;\n",
       "    }\n",
       "\n",
       "    .dataframe thead th {\n",
       "        text-align: right;\n",
       "    }\n",
       "</style>\n",
       "<table border=\"1\" class=\"dataframe\">\n",
       "  <thead>\n",
       "    <tr style=\"text-align: right;\">\n",
       "      <th></th>\n",
       "      <th>clusterer_params</th>\n",
       "      <th>partition</th>\n",
       "      <th>n_clusters</th>\n",
       "      <th>gamma</th>\n",
       "      <th>ch_score</th>\n",
       "    </tr>\n",
       "    <tr>\n",
       "      <th>clusterer_id</th>\n",
       "      <th></th>\n",
       "      <th></th>\n",
       "      <th></th>\n",
       "      <th></th>\n",
       "      <th></th>\n",
       "    </tr>\n",
       "  </thead>\n",
       "  <tbody>\n",
       "    <tr>\n",
       "      <th>SpectralClustering #0</th>\n",
       "      <td>{'affinity': 'rbf', 'assign_labels': 'kmeans',...</td>\n",
       "      <td>[0.0, 0.0, 0.0, 0.0, 0.0, 0.0, 0.0, 0.0, 0.0, ...</td>\n",
       "      <td>2</td>\n",
       "      <td>1.0e+00</td>\n",
       "      <td>374.930114</td>\n",
       "    </tr>\n",
       "    <tr>\n",
       "      <th>SpectralClustering #1</th>\n",
       "      <td>{'affinity': 'rbf', 'assign_labels': 'kmeans',...</td>\n",
       "      <td>[0.0, 0.0, 0.0, 0.0, 0.0, 0.0, 0.0, 0.0, 0.0, ...</td>\n",
       "      <td>2</td>\n",
       "      <td>1.0e+00</td>\n",
       "      <td>719.462482</td>\n",
       "    </tr>\n",
       "    <tr>\n",
       "      <th>SpectralClustering #2</th>\n",
       "      <td>{'affinity': 'rbf', 'assign_labels': 'kmeans',...</td>\n",
       "      <td>[0.0, 0.0, 0.0, 0.0, 0.0, 0.0, 0.0, 0.0, 0.0, ...</td>\n",
       "      <td>2</td>\n",
       "      <td>1.0e+00</td>\n",
       "      <td>374.930114</td>\n",
       "    </tr>\n",
       "    <tr>\n",
       "      <th>SpectralClustering #3</th>\n",
       "      <td>{'affinity': 'rbf', 'assign_labels': 'kmeans',...</td>\n",
       "      <td>[0.0, 0.0, 0.0, 0.0, 0.0, 0.0, 0.0, 0.0, 0.0, ...</td>\n",
       "      <td>2</td>\n",
       "      <td>1.0e+00</td>\n",
       "      <td>413.556449</td>\n",
       "    </tr>\n",
       "    <tr>\n",
       "      <th>SpectralClustering #4</th>\n",
       "      <td>{'affinity': 'rbf', 'assign_labels': 'kmeans',...</td>\n",
       "      <td>[0.0, 0.0, 0.0, 0.0, 0.0, 0.0, 0.0, 0.0, 0.0, ...</td>\n",
       "      <td>2</td>\n",
       "      <td>1.0e+00</td>\n",
       "      <td>374.930114</td>\n",
       "    </tr>\n",
       "  </tbody>\n",
       "</table>\n",
       "</div>"
      ],
      "text/plain": [
       "                                                        clusterer_params  \\\n",
       "clusterer_id                                                               \n",
       "SpectralClustering #0  {'affinity': 'rbf', 'assign_labels': 'kmeans',...   \n",
       "SpectralClustering #1  {'affinity': 'rbf', 'assign_labels': 'kmeans',...   \n",
       "SpectralClustering #2  {'affinity': 'rbf', 'assign_labels': 'kmeans',...   \n",
       "SpectralClustering #3  {'affinity': 'rbf', 'assign_labels': 'kmeans',...   \n",
       "SpectralClustering #4  {'affinity': 'rbf', 'assign_labels': 'kmeans',...   \n",
       "\n",
       "                                                               partition  \\\n",
       "clusterer_id                                                               \n",
       "SpectralClustering #0  [0.0, 0.0, 0.0, 0.0, 0.0, 0.0, 0.0, 0.0, 0.0, ...   \n",
       "SpectralClustering #1  [0.0, 0.0, 0.0, 0.0, 0.0, 0.0, 0.0, 0.0, 0.0, ...   \n",
       "SpectralClustering #2  [0.0, 0.0, 0.0, 0.0, 0.0, 0.0, 0.0, 0.0, 0.0, ...   \n",
       "SpectralClustering #3  [0.0, 0.0, 0.0, 0.0, 0.0, 0.0, 0.0, 0.0, 0.0, ...   \n",
       "SpectralClustering #4  [0.0, 0.0, 0.0, 0.0, 0.0, 0.0, 0.0, 0.0, 0.0, ...   \n",
       "\n",
       "                       n_clusters    gamma    ch_score  \n",
       "clusterer_id                                            \n",
       "SpectralClustering #0           2  1.0e+00  374.930114  \n",
       "SpectralClustering #1           2  1.0e+00  719.462482  \n",
       "SpectralClustering #2           2  1.0e+00  374.930114  \n",
       "SpectralClustering #3           2  1.0e+00  413.556449  \n",
       "SpectralClustering #4           2  1.0e+00  374.930114  "
      ]
     },
     "execution_count": 49,
     "metadata": {},
     "output_type": "execute_result"
    }
   ],
   "source": [
    "ensemble.head()"
   ]
  },
  {
   "cell_type": "markdown",
   "metadata": {
    "papermill": {
     "duration": 0.088878,
     "end_time": "2021-01-12T06:42:35.771606",
     "exception": false,
     "start_time": "2021-01-12T06:42:35.682728",
     "status": "completed"
    },
    "tags": []
   },
   "source": [
    "# Cluster quality"
   ]
  },
  {
   "cell_type": "code",
   "execution_count": 50,
   "metadata": {
    "execution": {
     "iopub.execute_input": "2021-01-12T06:42:35.948762Z",
     "iopub.status.busy": "2021-01-12T06:42:35.948351Z",
     "iopub.status.idle": "2021-01-12T06:42:35.968218Z",
     "shell.execute_reply": "2021-01-12T06:42:35.967844Z"
    },
    "papermill": {
     "duration": 0.109476,
     "end_time": "2021-01-12T06:42:35.968308",
     "exception": false,
     "start_time": "2021-01-12T06:42:35.858832",
     "status": "completed"
    },
    "tags": []
   },
   "outputs": [
    {
     "data": {
      "text/html": [
       "<div>\n",
       "<style scoped>\n",
       "    .dataframe tbody tr th:only-of-type {\n",
       "        vertical-align: middle;\n",
       "    }\n",
       "\n",
       "    .dataframe tbody tr th {\n",
       "        vertical-align: top;\n",
       "    }\n",
       "\n",
       "    .dataframe thead th {\n",
       "        text-align: right;\n",
       "    }\n",
       "</style>\n",
       "<table border=\"1\" class=\"dataframe\">\n",
       "  <thead>\n",
       "    <tr style=\"text-align: right;\">\n",
       "      <th></th>\n",
       "      <th></th>\n",
       "      <th>ch_score</th>\n",
       "    </tr>\n",
       "    <tr>\n",
       "      <th>n_clusters</th>\n",
       "      <th>gamma</th>\n",
       "      <th></th>\n",
       "    </tr>\n",
       "  </thead>\n",
       "  <tbody>\n",
       "    <tr>\n",
       "      <th rowspan=\"7\" valign=\"top\">2</th>\n",
       "      <th>1.0e+00</th>\n",
       "      <td>451.561855</td>\n",
       "    </tr>\n",
       "    <tr>\n",
       "      <th>1.0e-02</th>\n",
       "      <td>4641.627826</td>\n",
       "    </tr>\n",
       "    <tr>\n",
       "      <th>1.0e-05</th>\n",
       "      <td>4641.627826</td>\n",
       "    </tr>\n",
       "    <tr>\n",
       "      <th>1.0e-10</th>\n",
       "      <td>4641.627826</td>\n",
       "    </tr>\n",
       "    <tr>\n",
       "      <th>1.0e-15</th>\n",
       "      <td>3885.895448</td>\n",
       "    </tr>\n",
       "    <tr>\n",
       "      <th>1.0e-20</th>\n",
       "      <td>2.096855</td>\n",
       "    </tr>\n",
       "    <tr>\n",
       "      <th>1.0e-50</th>\n",
       "      <td>1.859119</td>\n",
       "    </tr>\n",
       "    <tr>\n",
       "      <th rowspan=\"7\" valign=\"top\">4</th>\n",
       "      <th>1.0e+00</th>\n",
       "      <td>1692.619885</td>\n",
       "    </tr>\n",
       "    <tr>\n",
       "      <th>1.0e-02</th>\n",
       "      <td>2227.943399</td>\n",
       "    </tr>\n",
       "    <tr>\n",
       "      <th>1.0e-05</th>\n",
       "      <td>2778.678882</td>\n",
       "    </tr>\n",
       "    <tr>\n",
       "      <th>1.0e-10</th>\n",
       "      <td>2778.678882</td>\n",
       "    </tr>\n",
       "    <tr>\n",
       "      <th>1.0e-15</th>\n",
       "      <td>1272.631139</td>\n",
       "    </tr>\n",
       "    <tr>\n",
       "      <th>1.0e-20</th>\n",
       "      <td>0.716896</td>\n",
       "    </tr>\n",
       "    <tr>\n",
       "      <th>1.0e-50</th>\n",
       "      <td>1.356397</td>\n",
       "    </tr>\n",
       "    <tr>\n",
       "      <th rowspan=\"7\" valign=\"top\">6</th>\n",
       "      <th>1.0e+00</th>\n",
       "      <td>1752.754447</td>\n",
       "    </tr>\n",
       "    <tr>\n",
       "      <th>1.0e-02</th>\n",
       "      <td>2011.776339</td>\n",
       "    </tr>\n",
       "    <tr>\n",
       "      <th>1.0e-05</th>\n",
       "      <td>1922.578744</td>\n",
       "    </tr>\n",
       "    <tr>\n",
       "      <th>1.0e-10</th>\n",
       "      <td>1922.733430</td>\n",
       "    </tr>\n",
       "    <tr>\n",
       "      <th>1.0e-15</th>\n",
       "      <td>628.175106</td>\n",
       "    </tr>\n",
       "    <tr>\n",
       "      <th>1.0e-20</th>\n",
       "      <td>1.203606</td>\n",
       "    </tr>\n",
       "    <tr>\n",
       "      <th>1.0e-50</th>\n",
       "      <td>1.733398</td>\n",
       "    </tr>\n",
       "    <tr>\n",
       "      <th rowspan=\"7\" valign=\"top\">8</th>\n",
       "      <th>1.0e+00</th>\n",
       "      <td>659.090291</td>\n",
       "    </tr>\n",
       "    <tr>\n",
       "      <th>1.0e-02</th>\n",
       "      <td>1543.156782</td>\n",
       "    </tr>\n",
       "    <tr>\n",
       "      <th>1.0e-05</th>\n",
       "      <td>1530.975222</td>\n",
       "    </tr>\n",
       "    <tr>\n",
       "      <th>1.0e-10</th>\n",
       "      <td>1531.529012</td>\n",
       "    </tr>\n",
       "    <tr>\n",
       "      <th>1.0e-15</th>\n",
       "      <td>443.771670</td>\n",
       "    </tr>\n",
       "    <tr>\n",
       "      <th>1.0e-20</th>\n",
       "      <td>1.627796</td>\n",
       "    </tr>\n",
       "    <tr>\n",
       "      <th>1.0e-50</th>\n",
       "      <td>1.595965</td>\n",
       "    </tr>\n",
       "    <tr>\n",
       "      <th rowspan=\"7\" valign=\"top\">10</th>\n",
       "      <th>1.0e+00</th>\n",
       "      <td>547.284963</td>\n",
       "    </tr>\n",
       "    <tr>\n",
       "      <th>1.0e-02</th>\n",
       "      <td>1292.913866</td>\n",
       "    </tr>\n",
       "    <tr>\n",
       "      <th>1.0e-05</th>\n",
       "      <td>1297.368697</td>\n",
       "    </tr>\n",
       "    <tr>\n",
       "      <th>1.0e-10</th>\n",
       "      <td>1297.871898</td>\n",
       "    </tr>\n",
       "    <tr>\n",
       "      <th>1.0e-15</th>\n",
       "      <td>374.314738</td>\n",
       "    </tr>\n",
       "    <tr>\n",
       "      <th>1.0e-20</th>\n",
       "      <td>0.882354</td>\n",
       "    </tr>\n",
       "    <tr>\n",
       "      <th>1.0e-50</th>\n",
       "      <td>1.380046</td>\n",
       "    </tr>\n",
       "    <tr>\n",
       "      <th rowspan=\"7\" valign=\"top\">20</th>\n",
       "      <th>1.0e+00</th>\n",
       "      <td>728.463140</td>\n",
       "    </tr>\n",
       "    <tr>\n",
       "      <th>1.0e-02</th>\n",
       "      <td>807.562423</td>\n",
       "    </tr>\n",
       "    <tr>\n",
       "      <th>1.0e-05</th>\n",
       "      <td>768.778176</td>\n",
       "    </tr>\n",
       "    <tr>\n",
       "      <th>1.0e-10</th>\n",
       "      <td>777.722528</td>\n",
       "    </tr>\n",
       "    <tr>\n",
       "      <th>1.0e-15</th>\n",
       "      <td>147.423480</td>\n",
       "    </tr>\n",
       "    <tr>\n",
       "      <th>1.0e-20</th>\n",
       "      <td>1.201431</td>\n",
       "    </tr>\n",
       "    <tr>\n",
       "      <th>1.0e-50</th>\n",
       "      <td>1.609471</td>\n",
       "    </tr>\n",
       "    <tr>\n",
       "      <th rowspan=\"7\" valign=\"top\">30</th>\n",
       "      <th>1.0e+00</th>\n",
       "      <td>523.341831</td>\n",
       "    </tr>\n",
       "    <tr>\n",
       "      <th>1.0e-02</th>\n",
       "      <td>578.244071</td>\n",
       "    </tr>\n",
       "    <tr>\n",
       "      <th>1.0e-05</th>\n",
       "      <td>560.700000</td>\n",
       "    </tr>\n",
       "    <tr>\n",
       "      <th>1.0e-10</th>\n",
       "      <td>562.537906</td>\n",
       "    </tr>\n",
       "    <tr>\n",
       "      <th>1.0e-15</th>\n",
       "      <td>101.280102</td>\n",
       "    </tr>\n",
       "    <tr>\n",
       "      <th>1.0e-20</th>\n",
       "      <td>0.928312</td>\n",
       "    </tr>\n",
       "    <tr>\n",
       "      <th>1.0e-50</th>\n",
       "      <td>0.917599</td>\n",
       "    </tr>\n",
       "    <tr>\n",
       "      <th rowspan=\"7\" valign=\"top\">40</th>\n",
       "      <th>1.0e+00</th>\n",
       "      <td>441.616721</td>\n",
       "    </tr>\n",
       "    <tr>\n",
       "      <th>1.0e-02</th>\n",
       "      <td>485.230015</td>\n",
       "    </tr>\n",
       "    <tr>\n",
       "      <th>1.0e-05</th>\n",
       "      <td>456.805211</td>\n",
       "    </tr>\n",
       "    <tr>\n",
       "      <th>1.0e-10</th>\n",
       "      <td>452.919083</td>\n",
       "    </tr>\n",
       "    <tr>\n",
       "      <th>1.0e-15</th>\n",
       "      <td>73.308147</td>\n",
       "    </tr>\n",
       "    <tr>\n",
       "      <th>1.0e-20</th>\n",
       "      <td>1.508415</td>\n",
       "    </tr>\n",
       "    <tr>\n",
       "      <th>1.0e-50</th>\n",
       "      <td>1.026980</td>\n",
       "    </tr>\n",
       "    <tr>\n",
       "      <th rowspan=\"7\" valign=\"top\">50</th>\n",
       "      <th>1.0e+00</th>\n",
       "      <td>383.221918</td>\n",
       "    </tr>\n",
       "    <tr>\n",
       "      <th>1.0e-02</th>\n",
       "      <td>420.712090</td>\n",
       "    </tr>\n",
       "    <tr>\n",
       "      <th>1.0e-05</th>\n",
       "      <td>369.503630</td>\n",
       "    </tr>\n",
       "    <tr>\n",
       "      <th>1.0e-10</th>\n",
       "      <td>358.032117</td>\n",
       "    </tr>\n",
       "    <tr>\n",
       "      <th>1.0e-15</th>\n",
       "      <td>61.070809</td>\n",
       "    </tr>\n",
       "    <tr>\n",
       "      <th>1.0e-20</th>\n",
       "      <td>0.889372</td>\n",
       "    </tr>\n",
       "    <tr>\n",
       "      <th>1.0e-50</th>\n",
       "      <td>1.306022</td>\n",
       "    </tr>\n",
       "    <tr>\n",
       "      <th rowspan=\"7\" valign=\"top\">60</th>\n",
       "      <th>1.0e+00</th>\n",
       "      <td>344.417659</td>\n",
       "    </tr>\n",
       "    <tr>\n",
       "      <th>1.0e-02</th>\n",
       "      <td>391.942961</td>\n",
       "    </tr>\n",
       "    <tr>\n",
       "      <th>1.0e-05</th>\n",
       "      <td>301.813494</td>\n",
       "    </tr>\n",
       "    <tr>\n",
       "      <th>1.0e-10</th>\n",
       "      <td>293.537717</td>\n",
       "    </tr>\n",
       "    <tr>\n",
       "      <th>1.0e-15</th>\n",
       "      <td>25.947582</td>\n",
       "    </tr>\n",
       "    <tr>\n",
       "      <th>1.0e-20</th>\n",
       "      <td>1.590548</td>\n",
       "    </tr>\n",
       "    <tr>\n",
       "      <th>1.0e-50</th>\n",
       "      <td>1.834428</td>\n",
       "    </tr>\n",
       "  </tbody>\n",
       "</table>\n",
       "</div>"
      ],
      "text/plain": [
       "                       ch_score\n",
       "n_clusters gamma               \n",
       "2          1.0e+00   451.561855\n",
       "           1.0e-02  4641.627826\n",
       "           1.0e-05  4641.627826\n",
       "           1.0e-10  4641.627826\n",
       "           1.0e-15  3885.895448\n",
       "           1.0e-20     2.096855\n",
       "           1.0e-50     1.859119\n",
       "4          1.0e+00  1692.619885\n",
       "           1.0e-02  2227.943399\n",
       "           1.0e-05  2778.678882\n",
       "           1.0e-10  2778.678882\n",
       "           1.0e-15  1272.631139\n",
       "           1.0e-20     0.716896\n",
       "           1.0e-50     1.356397\n",
       "6          1.0e+00  1752.754447\n",
       "           1.0e-02  2011.776339\n",
       "           1.0e-05  1922.578744\n",
       "           1.0e-10  1922.733430\n",
       "           1.0e-15   628.175106\n",
       "           1.0e-20     1.203606\n",
       "           1.0e-50     1.733398\n",
       "8          1.0e+00   659.090291\n",
       "           1.0e-02  1543.156782\n",
       "           1.0e-05  1530.975222\n",
       "           1.0e-10  1531.529012\n",
       "           1.0e-15   443.771670\n",
       "           1.0e-20     1.627796\n",
       "           1.0e-50     1.595965\n",
       "10         1.0e+00   547.284963\n",
       "           1.0e-02  1292.913866\n",
       "           1.0e-05  1297.368697\n",
       "           1.0e-10  1297.871898\n",
       "           1.0e-15   374.314738\n",
       "           1.0e-20     0.882354\n",
       "           1.0e-50     1.380046\n",
       "20         1.0e+00   728.463140\n",
       "           1.0e-02   807.562423\n",
       "           1.0e-05   768.778176\n",
       "           1.0e-10   777.722528\n",
       "           1.0e-15   147.423480\n",
       "           1.0e-20     1.201431\n",
       "           1.0e-50     1.609471\n",
       "30         1.0e+00   523.341831\n",
       "           1.0e-02   578.244071\n",
       "           1.0e-05   560.700000\n",
       "           1.0e-10   562.537906\n",
       "           1.0e-15   101.280102\n",
       "           1.0e-20     0.928312\n",
       "           1.0e-50     0.917599\n",
       "40         1.0e+00   441.616721\n",
       "           1.0e-02   485.230015\n",
       "           1.0e-05   456.805211\n",
       "           1.0e-10   452.919083\n",
       "           1.0e-15    73.308147\n",
       "           1.0e-20     1.508415\n",
       "           1.0e-50     1.026980\n",
       "50         1.0e+00   383.221918\n",
       "           1.0e-02   420.712090\n",
       "           1.0e-05   369.503630\n",
       "           1.0e-10   358.032117\n",
       "           1.0e-15    61.070809\n",
       "           1.0e-20     0.889372\n",
       "           1.0e-50     1.306022\n",
       "60         1.0e+00   344.417659\n",
       "           1.0e-02   391.942961\n",
       "           1.0e-05   301.813494\n",
       "           1.0e-10   293.537717\n",
       "           1.0e-15    25.947582\n",
       "           1.0e-20     1.590548\n",
       "           1.0e-50     1.834428"
      ]
     },
     "metadata": {},
     "output_type": "display_data"
    }
   ],
   "source": [
    "with pd.option_context(\"display.max_rows\", None, \"display.max_columns\", None):\n",
    "    _df = ensemble.groupby([\"n_clusters\", \"gamma\"]).mean()\n",
    "    display(_df)"
   ]
  },
  {
   "cell_type": "code",
   "execution_count": 51,
   "metadata": {
    "execution": {
     "iopub.execute_input": "2021-01-12T06:42:36.149371Z",
     "iopub.status.busy": "2021-01-12T06:42:36.148955Z",
     "iopub.status.idle": "2021-01-12T06:42:38.063811Z",
     "shell.execute_reply": "2021-01-12T06:42:38.064113Z"
    },
    "papermill": {
     "duration": 2.006837,
     "end_time": "2021-01-12T06:42:38.064223",
     "exception": false,
     "start_time": "2021-01-12T06:42:36.057386",
     "status": "completed"
    },
    "tags": []
   },
   "outputs": [
    {
     "data": {
      "image/png": "[encoded data removed]",
      "text/plain": [
       "<Figure size 1008x432 with 1 Axes>"
      ]
     },
     "metadata": {},
     "output_type": "display_data"
    }
   ],
   "source": [
    "# with sns.axes_style('whitegrid', {'grid.linestyle': '--'}):\n",
    "with sns.plotting_context(\"talk\", font_scale=0.75), sns.axes_style(\n",
    "    \"whitegrid\", {\"grid.linestyle\": \"--\"}\n",
    "):\n",
    "    fig = plt.figure(figsize=(14, 6))\n",
    "    ax = sns.pointplot(data=ensemble, x=\"n_clusters\", y=\"ch_score\", hue=\"gamma\")\n",
    "    ax.set_ylabel(\"Calinski-Harabasz index\")\n",
    "    ax.set_xlabel(\"Number of clusters ($k$)\")\n",
    "    ax.set_xticklabels(ax.get_xticklabels(), rotation=45)\n",
    "    #     ax.set_ylim(0.0, 1.0)\n",
    "    #     ax.set_xlim(CLUSTERING_OPTIONS['K_MIN'], CLUSTERING_OPTIONS['K_MAX'])\n",
    "    plt.grid(True)\n",
    "    plt.tight_layout()"
   ]
  },
  {
   "cell_type": "markdown",
   "metadata": {
    "papermill": {
     "duration": 0.090042,
     "end_time": "2021-01-12T06:42:38.245007",
     "exception": false,
     "start_time": "2021-01-12T06:42:38.154965",
     "status": "completed"
    },
    "tags": []
   },
   "source": [
    "# Stability"
   ]
  },
  {
   "cell_type": "markdown",
   "metadata": {
    "papermill": {
     "duration": 0.09019,
     "end_time": "2021-01-12T06:42:38.424343",
     "exception": false,
     "start_time": "2021-01-12T06:42:38.334153",
     "status": "completed"
    },
    "tags": []
   },
   "source": [
    "## Group ensemble by n_clusters"
   ]
  },
  {
   "cell_type": "code",
   "execution_count": 52,
   "metadata": {
    "execution": {
     "iopub.execute_input": "2021-01-12T06:42:38.606773Z",
     "iopub.status.busy": "2021-01-12T06:42:38.606408Z",
     "iopub.status.idle": "2021-01-12T06:42:38.634736Z",
     "shell.execute_reply": "2021-01-12T06:42:38.635037Z"
    },
    "papermill": {
     "duration": 0.120996,
     "end_time": "2021-01-12T06:42:38.635147",
     "exception": false,
     "start_time": "2021-01-12T06:42:38.514151",
     "status": "completed"
    },
    "tags": []
   },
   "outputs": [],
   "source": [
    "parts = ensemble.groupby([\"gamma\", \"n_clusters\"]).apply(\n",
    "    lambda x: np.concatenate(x[\"partition\"].apply(lambda x: x.reshape(1, -1)), axis=0)\n",
    ")"
   ]
  },
  {
   "cell_type": "code",
   "execution_count": 53,
   "metadata": {
    "execution": {
     "iopub.execute_input": "2021-01-12T06:42:38.817026Z",
     "iopub.status.busy": "2021-01-12T06:42:38.816580Z",
     "iopub.status.idle": "2021-01-12T06:42:38.829388Z",
     "shell.execute_reply": "2021-01-12T06:42:38.829059Z"
    },
    "papermill": {
     "duration": 0.10524,
     "end_time": "2021-01-12T06:42:38.829476",
     "exception": false,
     "start_time": "2021-01-12T06:42:38.724236",
     "status": "completed"
    },
    "tags": []
   },
   "outputs": [
    {
     "data": {
      "text/plain": [
       "(70,)"
      ]
     },
     "execution_count": 53,
     "metadata": {},
     "output_type": "execute_result"
    }
   ],
   "source": [
    "parts.shape"
   ]
  },
  {
   "cell_type": "code",
   "execution_count": 54,
   "metadata": {
    "execution": {
     "iopub.execute_input": "2021-01-12T06:42:39.012908Z",
     "iopub.status.busy": "2021-01-12T06:42:39.012466Z",
     "iopub.status.idle": "2021-01-12T06:42:39.037219Z",
     "shell.execute_reply": "2021-01-12T06:42:39.036875Z"
    },
    "papermill": {
     "duration": 0.1162,
     "end_time": "2021-01-12T06:42:39.037306",
     "exception": false,
     "start_time": "2021-01-12T06:42:38.921106",
     "status": "completed"
    },
    "tags": []
   },
   "outputs": [
    {
     "data": {
      "text/plain": [
       "gamma    n_clusters\n",
       "1.0e+00  2             [[0.0, 0.0, 0.0, 0.0, 0.0, 0.0, 0.0, 0.0, 0.0,...\n",
       "         4             [[0.0, 0.0, 0.0, 0.0, 0.0, 0.0, 0.0, 0.0, 0.0,...\n",
       "         6             [[0.0, 0.0, 0.0, 0.0, 0.0, 0.0, 0.0, 0.0, 0.0,...\n",
       "         8             [[5.0, 5.0, 5.0, 5.0, 5.0, 5.0, 5.0, 5.0, 5.0,...\n",
       "         10            [[7.0, 7.0, 7.0, 7.0, 7.0, 7.0, 7.0, 7.0, 7.0,...\n",
       "dtype: object"
      ]
     },
     "execution_count": 54,
     "metadata": {},
     "output_type": "execute_result"
    }
   ],
   "source": [
    "parts.head()"
   ]
  },
  {
   "cell_type": "code",
   "execution_count": 55,
   "metadata": {
    "execution": {
     "iopub.execute_input": "2021-01-12T06:42:39.221002Z",
     "iopub.status.busy": "2021-01-12T06:42:39.220573Z",
     "iopub.status.idle": "2021-01-12T06:42:39.233201Z",
     "shell.execute_reply": "2021-01-12T06:42:39.232821Z"
    },
    "papermill": {
     "duration": 0.105062,
     "end_time": "2021-01-12T06:42:39.233290",
     "exception": false,
     "start_time": "2021-01-12T06:42:39.128228",
     "status": "completed"
    },
    "tags": []
   },
   "outputs": [
    {
     "data": {
      "text/plain": [
       "(5, 3749)"
      ]
     },
     "execution_count": 55,
     "metadata": {},
     "output_type": "execute_result"
    }
   ],
   "source": [
    "parts.iloc[0].shape"
   ]
  },
  {
   "cell_type": "code",
   "execution_count": 56,
   "metadata": {
    "execution": {
     "iopub.execute_input": "2021-01-12T06:42:39.418279Z",
     "iopub.status.busy": "2021-01-12T06:42:39.417910Z",
     "iopub.status.idle": "2021-01-12T06:42:39.432896Z",
     "shell.execute_reply": "2021-01-12T06:42:39.432452Z"
    },
    "papermill": {
     "duration": 0.108569,
     "end_time": "2021-01-12T06:42:39.432982",
     "exception": false,
     "start_time": "2021-01-12T06:42:39.324413",
     "status": "completed"
    },
    "tags": []
   },
   "outputs": [],
   "source": [
    "assert np.all(\n",
    "    [\n",
    "        parts.loc[k].shape == (int(CLUSTERING_OPTIONS[\"N_REPS_PER_K\"]), data.shape[0])\n",
    "        for k in parts.index\n",
    "    ]\n",
    ")"
   ]
  },
  {
   "cell_type": "markdown",
   "metadata": {
    "papermill": {
     "duration": 0.090933,
     "end_time": "2021-01-12T06:42:39.614674",
     "exception": false,
     "start_time": "2021-01-12T06:42:39.523741",
     "status": "completed"
    },
    "tags": []
   },
   "source": [
    "## Compute stability"
   ]
  },
  {
   "cell_type": "code",
   "execution_count": 57,
   "metadata": {
    "execution": {
     "iopub.execute_input": "2021-01-12T06:42:39.800295Z",
     "iopub.status.busy": "2021-01-12T06:42:39.799933Z",
     "iopub.status.idle": "2021-01-12T06:42:39.812001Z",
     "shell.execute_reply": "2021-01-12T06:42:39.811631Z"
    },
    "papermill": {
     "duration": 0.106248,
     "end_time": "2021-01-12T06:42:39.812090",
     "exception": false,
     "start_time": "2021-01-12T06:42:39.705842",
     "status": "completed"
    },
    "tags": []
   },
   "outputs": [],
   "source": [
    "from sklearn.metrics import adjusted_rand_score as ari\n",
    "from scipy.spatial.distance import squareform, pdist"
   ]
  },
  {
   "cell_type": "code",
   "execution_count": 58,
   "metadata": {
    "execution": {
     "iopub.execute_input": "2021-01-12T06:42:39.996178Z",
     "iopub.status.busy": "2021-01-12T06:42:39.995802Z",
     "iopub.status.idle": "2021-01-12T06:42:40.708867Z",
     "shell.execute_reply": "2021-01-12T06:42:40.708445Z"
    },
    "papermill": {
     "duration": 0.806393,
     "end_time": "2021-01-12T06:42:40.708954",
     "exception": false,
     "start_time": "2021-01-12T06:42:39.902561",
     "status": "completed"
    },
    "tags": []
   },
   "outputs": [],
   "source": [
    "parts_ari = pd.Series(\n",
    "    {k: pdist(parts.loc[k], metric=ari) for k in parts.index}, name=\"n_clusters\"\n",
    ")"
   ]
  },
  {
   "cell_type": "code",
   "execution_count": 59,
   "metadata": {
    "execution": {
     "iopub.execute_input": "2021-01-12T06:42:40.894418Z",
     "iopub.status.busy": "2021-01-12T06:42:40.894044Z",
     "iopub.status.idle": "2021-01-12T06:42:40.908479Z",
     "shell.execute_reply": "2021-01-12T06:42:40.908171Z"
    },
    "papermill": {
     "duration": 0.108019,
     "end_time": "2021-01-12T06:42:40.908568",
     "exception": false,
     "start_time": "2021-01-12T06:42:40.800549",
     "status": "completed"
    },
    "tags": []
   },
   "outputs": [
    {
     "data": {
      "text/plain": [
       "1.0e-05  2     1.000000\n",
       "1.0e-10  4     1.000000\n",
       "         2     1.000000\n",
       "1.0e-02  2     1.000000\n",
       "1.0e-05  4     1.000000\n",
       "1.0e-02  4     0.997812\n",
       "1.0e-05  10    0.990555\n",
       "1.0e-10  8     0.982375\n",
       "1.0e-05  6     0.982140\n",
       "1.0e-10  6     0.978015\n",
       "1.0e-02  8     0.975395\n",
       "         6     0.953305\n",
       "         10    0.902924\n",
       "1.0e-15  2     0.899899\n",
       "1.0e-05  8     0.893820\n",
       "Name: n_clusters, dtype: float64"
      ]
     },
     "metadata": {},
     "output_type": "display_data"
    }
   ],
   "source": [
    "parts_ari_stability = parts_ari.apply(lambda x: x.mean())\n",
    "display(parts_ari_stability.sort_values(ascending=False).head(15))"
   ]
  },
  {
   "cell_type": "code",
   "execution_count": 60,
   "metadata": {
    "execution": {
     "iopub.execute_input": "2021-01-12T06:42:41.093375Z",
     "iopub.status.busy": "2021-01-12T06:42:41.093006Z",
     "iopub.status.idle": "2021-01-12T06:42:41.106687Z",
     "shell.execute_reply": "2021-01-12T06:42:41.106307Z"
    },
    "papermill": {
     "duration": 0.107498,
     "end_time": "2021-01-12T06:42:41.106776",
     "exception": false,
     "start_time": "2021-01-12T06:42:40.999278",
     "status": "completed"
    },
    "tags": []
   },
   "outputs": [],
   "source": [
    "parts_ari_df = pd.DataFrame.from_records(parts_ari.tolist()).set_index(\n",
    "    parts_ari.index.copy()\n",
    ")\n",
    "parts_ari_df.index.rename([\"gamma\", \"n_clusters\"], inplace=True)"
   ]
  },
  {
   "cell_type": "code",
   "execution_count": 61,
   "metadata": {
    "execution": {
     "iopub.execute_input": "2021-01-12T06:42:41.291310Z",
     "iopub.status.busy": "2021-01-12T06:42:41.290884Z",
     "iopub.status.idle": "2021-01-12T06:42:41.303694Z",
     "shell.execute_reply": "2021-01-12T06:42:41.303340Z"
    },
    "papermill": {
     "duration": 0.106004,
     "end_time": "2021-01-12T06:42:41.303782",
     "exception": false,
     "start_time": "2021-01-12T06:42:41.197778",
     "status": "completed"
    },
    "tags": []
   },
   "outputs": [
    {
     "data": {
      "text/plain": [
       "(70, 10)"
      ]
     },
     "execution_count": 61,
     "metadata": {},
     "output_type": "execute_result"
    }
   ],
   "source": [
    "parts_ari_df.shape"
   ]
  },
  {
   "cell_type": "code",
   "execution_count": 62,
   "metadata": {
    "execution": {
     "iopub.execute_input": "2021-01-12T06:42:41.490986Z",
     "iopub.status.busy": "2021-01-12T06:42:41.490620Z",
     "iopub.status.idle": "2021-01-12T06:42:41.502615Z",
     "shell.execute_reply": "2021-01-12T06:42:41.502245Z"
    },
    "papermill": {
     "duration": 0.106656,
     "end_time": "2021-01-12T06:42:41.502702",
     "exception": false,
     "start_time": "2021-01-12T06:42:41.396046",
     "status": "completed"
    },
    "tags": []
   },
   "outputs": [],
   "source": [
    "_n_total_parts = int(\n",
    "    CLUSTERING_OPTIONS[\"N_REPS_PER_K\"]\n",
    ")  # * len(CLUSTERING_OPTIONS[\"GAMMAS\"]))\n",
    "\n",
    "assert int(_n_total_parts * (_n_total_parts - 1) / 2) == parts_ari_df.shape[1]"
   ]
  },
  {
   "cell_type": "code",
   "execution_count": 63,
   "metadata": {
    "execution": {
     "iopub.execute_input": "2021-01-12T06:42:41.689076Z",
     "iopub.status.busy": "2021-01-12T06:42:41.688677Z",
     "iopub.status.idle": "2021-01-12T06:42:41.707763Z",
     "shell.execute_reply": "2021-01-12T06:42:41.707393Z"
    },
    "papermill": {
     "duration": 0.113122,
     "end_time": "2021-01-12T06:42:41.707863",
     "exception": false,
     "start_time": "2021-01-12T06:42:41.594741",
     "status": "completed"
    },
    "tags": []
   },
   "outputs": [
    {
     "data": {
      "text/html": [
       "<div>\n",
       "<style scoped>\n",
       "    .dataframe tbody tr th:only-of-type {\n",
       "        vertical-align: middle;\n",
       "    }\n",
       "\n",
       "    .dataframe tbody tr th {\n",
       "        vertical-align: top;\n",
       "    }\n",
       "\n",
       "    .dataframe thead th {\n",
       "        text-align: right;\n",
       "    }\n",
       "</style>\n",
       "<table border=\"1\" class=\"dataframe\">\n",
       "  <thead>\n",
       "    <tr style=\"text-align: right;\">\n",
       "      <th></th>\n",
       "      <th></th>\n",
       "      <th>0</th>\n",
       "      <th>1</th>\n",
       "      <th>2</th>\n",
       "      <th>3</th>\n",
       "      <th>4</th>\n",
       "      <th>5</th>\n",
       "      <th>6</th>\n",
       "      <th>7</th>\n",
       "      <th>8</th>\n",
       "      <th>9</th>\n",
       "    </tr>\n",
       "    <tr>\n",
       "      <th>gamma</th>\n",
       "      <th>n_clusters</th>\n",
       "      <th></th>\n",
       "      <th></th>\n",
       "      <th></th>\n",
       "      <th></th>\n",
       "      <th></th>\n",
       "      <th></th>\n",
       "      <th></th>\n",
       "      <th></th>\n",
       "      <th></th>\n",
       "      <th></th>\n",
       "    </tr>\n",
       "  </thead>\n",
       "  <tbody>\n",
       "    <tr>\n",
       "      <th rowspan=\"5\" valign=\"top\">1.0e+00</th>\n",
       "      <th>2</th>\n",
       "      <td>0.568279</td>\n",
       "      <td>1.000000</td>\n",
       "      <td>-0.002555</td>\n",
       "      <td>1.000000</td>\n",
       "      <td>0.568279</td>\n",
       "      <td>0.747383</td>\n",
       "      <td>0.568279</td>\n",
       "      <td>-0.002555</td>\n",
       "      <td>1.000000</td>\n",
       "      <td>-0.002555</td>\n",
       "    </tr>\n",
       "    <tr>\n",
       "      <th>4</th>\n",
       "      <td>0.084488</td>\n",
       "      <td>0.084488</td>\n",
       "      <td>0.084488</td>\n",
       "      <td>0.084488</td>\n",
       "      <td>1.000000</td>\n",
       "      <td>1.000000</td>\n",
       "      <td>1.000000</td>\n",
       "      <td>1.000000</td>\n",
       "      <td>1.000000</td>\n",
       "      <td>1.000000</td>\n",
       "    </tr>\n",
       "    <tr>\n",
       "      <th>6</th>\n",
       "      <td>1.000000</td>\n",
       "      <td>1.000000</td>\n",
       "      <td>1.000000</td>\n",
       "      <td>0.276607</td>\n",
       "      <td>1.000000</td>\n",
       "      <td>1.000000</td>\n",
       "      <td>0.276607</td>\n",
       "      <td>1.000000</td>\n",
       "      <td>0.276607</td>\n",
       "      <td>0.276607</td>\n",
       "    </tr>\n",
       "    <tr>\n",
       "      <th>8</th>\n",
       "      <td>0.363849</td>\n",
       "      <td>1.000000</td>\n",
       "      <td>0.458020</td>\n",
       "      <td>0.363849</td>\n",
       "      <td>0.363849</td>\n",
       "      <td>0.912533</td>\n",
       "      <td>1.000000</td>\n",
       "      <td>0.458020</td>\n",
       "      <td>0.363849</td>\n",
       "      <td>0.912533</td>\n",
       "    </tr>\n",
       "    <tr>\n",
       "      <th>10</th>\n",
       "      <td>0.456522</td>\n",
       "      <td>0.456522</td>\n",
       "      <td>1.000000</td>\n",
       "      <td>0.456522</td>\n",
       "      <td>1.000000</td>\n",
       "      <td>0.456522</td>\n",
       "      <td>1.000000</td>\n",
       "      <td>0.456522</td>\n",
       "      <td>1.000000</td>\n",
       "      <td>0.456522</td>\n",
       "    </tr>\n",
       "  </tbody>\n",
       "</table>\n",
       "</div>"
      ],
      "text/plain": [
       "                           0         1         2         3         4  \\\n",
       "gamma   n_clusters                                                     \n",
       "1.0e+00 2           0.568279  1.000000 -0.002555  1.000000  0.568279   \n",
       "        4           0.084488  0.084488  0.084488  0.084488  1.000000   \n",
       "        6           1.000000  1.000000  1.000000  0.276607  1.000000   \n",
       "        8           0.363849  1.000000  0.458020  0.363849  0.363849   \n",
       "        10          0.456522  0.456522  1.000000  0.456522  1.000000   \n",
       "\n",
       "                           5         6         7         8         9  \n",
       "gamma   n_clusters                                                    \n",
       "1.0e+00 2           0.747383  0.568279 -0.002555  1.000000 -0.002555  \n",
       "        4           1.000000  1.000000  1.000000  1.000000  1.000000  \n",
       "        6           1.000000  0.276607  1.000000  0.276607  0.276607  \n",
       "        8           0.912533  1.000000  0.458020  0.363849  0.912533  \n",
       "        10          0.456522  1.000000  0.456522  1.000000  0.456522  "
      ]
     },
     "execution_count": 63,
     "metadata": {},
     "output_type": "execute_result"
    }
   ],
   "source": [
    "parts_ari_df.head()"
   ]
  },
  {
   "cell_type": "markdown",
   "metadata": {
    "papermill": {
     "duration": 0.091697,
     "end_time": "2021-01-12T06:42:41.932796",
     "exception": false,
     "start_time": "2021-01-12T06:42:41.841099",
     "status": "completed"
    },
    "tags": []
   },
   "source": [
    "## Stability plot"
   ]
  },
  {
   "cell_type": "code",
   "execution_count": 64,
   "metadata": {
    "execution": {
     "iopub.execute_input": "2021-01-12T06:42:42.120917Z",
     "iopub.status.busy": "2021-01-12T06:42:42.120512Z",
     "iopub.status.idle": "2021-01-12T06:42:42.134418Z",
     "shell.execute_reply": "2021-01-12T06:42:42.134700Z"
    },
    "papermill": {
     "duration": 0.109198,
     "end_time": "2021-01-12T06:42:42.134813",
     "exception": false,
     "start_time": "2021-01-12T06:42:42.025615",
     "status": "completed"
    },
    "tags": []
   },
   "outputs": [],
   "source": [
    "parts_ari_df_plot = (\n",
    "    parts_ari_df.stack().reset_index().rename(columns={\"level_2\": \"idx\", 0: \"ari\"})\n",
    ")"
   ]
  },
  {
   "cell_type": "code",
   "execution_count": 65,
   "metadata": {
    "execution": {
     "iopub.execute_input": "2021-01-12T06:42:42.322778Z",
     "iopub.status.busy": "2021-01-12T06:42:42.322313Z",
     "iopub.status.idle": "2021-01-12T06:42:42.335651Z",
     "shell.execute_reply": "2021-01-12T06:42:42.335955Z"
    },
    "papermill": {
     "duration": 0.108312,
     "end_time": "2021-01-12T06:42:42.336065",
     "exception": false,
     "start_time": "2021-01-12T06:42:42.227753",
     "status": "completed"
    },
    "tags": []
   },
   "outputs": [
    {
     "data": {
      "text/plain": [
       "gamma          object\n",
       "n_clusters      int64\n",
       "idx             int64\n",
       "ari           float64\n",
       "dtype: object"
      ]
     },
     "execution_count": 65,
     "metadata": {},
     "output_type": "execute_result"
    }
   ],
   "source": [
    "parts_ari_df_plot.dtypes"
   ]
  },
  {
   "cell_type": "code",
   "execution_count": 66,
   "metadata": {
    "execution": {
     "iopub.execute_input": "2021-01-12T06:42:42.524732Z",
     "iopub.status.busy": "2021-01-12T06:42:42.524334Z",
     "iopub.status.idle": "2021-01-12T06:42:42.540033Z",
     "shell.execute_reply": "2021-01-12T06:42:42.539675Z"
    },
    "papermill": {
     "duration": 0.111641,
     "end_time": "2021-01-12T06:42:42.540127",
     "exception": false,
     "start_time": "2021-01-12T06:42:42.428486",
     "status": "completed"
    },
    "tags": []
   },
   "outputs": [
    {
     "data": {
      "text/html": [
       "<div>\n",
       "<style scoped>\n",
       "    .dataframe tbody tr th:only-of-type {\n",
       "        vertical-align: middle;\n",
       "    }\n",
       "\n",
       "    .dataframe tbody tr th {\n",
       "        vertical-align: top;\n",
       "    }\n",
       "\n",
       "    .dataframe thead th {\n",
       "        text-align: right;\n",
       "    }\n",
       "</style>\n",
       "<table border=\"1\" class=\"dataframe\">\n",
       "  <thead>\n",
       "    <tr style=\"text-align: right;\">\n",
       "      <th></th>\n",
       "      <th>gamma</th>\n",
       "      <th>n_clusters</th>\n",
       "      <th>idx</th>\n",
       "      <th>ari</th>\n",
       "    </tr>\n",
       "  </thead>\n",
       "  <tbody>\n",
       "    <tr>\n",
       "      <th>0</th>\n",
       "      <td>1.0e+00</td>\n",
       "      <td>2</td>\n",
       "      <td>0</td>\n",
       "      <td>0.568279</td>\n",
       "    </tr>\n",
       "    <tr>\n",
       "      <th>1</th>\n",
       "      <td>1.0e+00</td>\n",
       "      <td>2</td>\n",
       "      <td>1</td>\n",
       "      <td>1.000000</td>\n",
       "    </tr>\n",
       "    <tr>\n",
       "      <th>2</th>\n",
       "      <td>1.0e+00</td>\n",
       "      <td>2</td>\n",
       "      <td>2</td>\n",
       "      <td>-0.002555</td>\n",
       "    </tr>\n",
       "    <tr>\n",
       "      <th>3</th>\n",
       "      <td>1.0e+00</td>\n",
       "      <td>2</td>\n",
       "      <td>3</td>\n",
       "      <td>1.000000</td>\n",
       "    </tr>\n",
       "    <tr>\n",
       "      <th>4</th>\n",
       "      <td>1.0e+00</td>\n",
       "      <td>2</td>\n",
       "      <td>4</td>\n",
       "      <td>0.568279</td>\n",
       "    </tr>\n",
       "  </tbody>\n",
       "</table>\n",
       "</div>"
      ],
      "text/plain": [
       "     gamma  n_clusters  idx       ari\n",
       "0  1.0e+00           2    0  0.568279\n",
       "1  1.0e+00           2    1  1.000000\n",
       "2  1.0e+00           2    2 -0.002555\n",
       "3  1.0e+00           2    3  1.000000\n",
       "4  1.0e+00           2    4  0.568279"
      ]
     },
     "execution_count": 66,
     "metadata": {},
     "output_type": "execute_result"
    }
   ],
   "source": [
    "parts_ari_df_plot.head()"
   ]
  },
  {
   "cell_type": "code",
   "execution_count": 67,
   "metadata": {
    "execution": {
     "iopub.execute_input": "2021-01-12T06:42:42.729794Z",
     "iopub.status.busy": "2021-01-12T06:42:42.729426Z",
     "iopub.status.idle": "2021-01-12T06:42:42.751054Z",
     "shell.execute_reply": "2021-01-12T06:42:42.750708Z"
    },
    "papermill": {
     "duration": 0.116875,
     "end_time": "2021-01-12T06:42:42.751144",
     "exception": false,
     "start_time": "2021-01-12T06:42:42.634269",
     "status": "completed"
    },
    "tags": []
   },
   "outputs": [
    {
     "data": {
      "text/html": [
       "<div>\n",
       "<style scoped>\n",
       "    .dataframe tbody tr th:only-of-type {\n",
       "        vertical-align: middle;\n",
       "    }\n",
       "\n",
       "    .dataframe tbody tr th {\n",
       "        vertical-align: top;\n",
       "    }\n",
       "\n",
       "    .dataframe thead th {\n",
       "        text-align: right;\n",
       "    }\n",
       "</style>\n",
       "<table border=\"1\" class=\"dataframe\">\n",
       "  <thead>\n",
       "    <tr style=\"text-align: right;\">\n",
       "      <th></th>\n",
       "      <th></th>\n",
       "      <th>idx</th>\n",
       "      <th>ari</th>\n",
       "    </tr>\n",
       "    <tr>\n",
       "      <th>n_clusters</th>\n",
       "      <th>gamma</th>\n",
       "      <th></th>\n",
       "      <th></th>\n",
       "    </tr>\n",
       "  </thead>\n",
       "  <tbody>\n",
       "    <tr>\n",
       "      <th rowspan=\"7\" valign=\"top\">2</th>\n",
       "      <th>1.0e+00</th>\n",
       "      <td>4.5</td>\n",
       "      <td>0.544456</td>\n",
       "    </tr>\n",
       "    <tr>\n",
       "      <th>1.0e-02</th>\n",
       "      <td>4.5</td>\n",
       "      <td>1.000000</td>\n",
       "    </tr>\n",
       "    <tr>\n",
       "      <th>1.0e-05</th>\n",
       "      <td>4.5</td>\n",
       "      <td>1.000000</td>\n",
       "    </tr>\n",
       "    <tr>\n",
       "      <th>1.0e-10</th>\n",
       "      <td>4.5</td>\n",
       "      <td>1.000000</td>\n",
       "    </tr>\n",
       "    <tr>\n",
       "      <th>1.0e-15</th>\n",
       "      <td>4.5</td>\n",
       "      <td>0.899899</td>\n",
       "    </tr>\n",
       "    <tr>\n",
       "      <th>1.0e-20</th>\n",
       "      <td>4.5</td>\n",
       "      <td>0.006633</td>\n",
       "    </tr>\n",
       "    <tr>\n",
       "      <th>1.0e-50</th>\n",
       "      <td>4.5</td>\n",
       "      <td>-0.000556</td>\n",
       "    </tr>\n",
       "    <tr>\n",
       "      <th rowspan=\"7\" valign=\"top\">4</th>\n",
       "      <th>1.0e+00</th>\n",
       "      <td>4.5</td>\n",
       "      <td>0.633795</td>\n",
       "    </tr>\n",
       "    <tr>\n",
       "      <th>1.0e-02</th>\n",
       "      <td>4.5</td>\n",
       "      <td>0.997812</td>\n",
       "    </tr>\n",
       "    <tr>\n",
       "      <th>1.0e-05</th>\n",
       "      <td>4.5</td>\n",
       "      <td>1.000000</td>\n",
       "    </tr>\n",
       "    <tr>\n",
       "      <th>1.0e-10</th>\n",
       "      <td>4.5</td>\n",
       "      <td>1.000000</td>\n",
       "    </tr>\n",
       "    <tr>\n",
       "      <th>1.0e-15</th>\n",
       "      <td>4.5</td>\n",
       "      <td>0.225563</td>\n",
       "    </tr>\n",
       "    <tr>\n",
       "      <th>1.0e-20</th>\n",
       "      <td>4.5</td>\n",
       "      <td>-0.002691</td>\n",
       "    </tr>\n",
       "    <tr>\n",
       "      <th>1.0e-50</th>\n",
       "      <td>4.5</td>\n",
       "      <td>0.002186</td>\n",
       "    </tr>\n",
       "    <tr>\n",
       "      <th rowspan=\"7\" valign=\"top\">6</th>\n",
       "      <th>1.0e+00</th>\n",
       "      <td>4.5</td>\n",
       "      <td>0.710643</td>\n",
       "    </tr>\n",
       "    <tr>\n",
       "      <th>1.0e-02</th>\n",
       "      <td>4.5</td>\n",
       "      <td>0.953305</td>\n",
       "    </tr>\n",
       "    <tr>\n",
       "      <th>1.0e-05</th>\n",
       "      <td>4.5</td>\n",
       "      <td>0.982140</td>\n",
       "    </tr>\n",
       "    <tr>\n",
       "      <th>1.0e-10</th>\n",
       "      <td>4.5</td>\n",
       "      <td>0.978015</td>\n",
       "    </tr>\n",
       "    <tr>\n",
       "      <th>1.0e-15</th>\n",
       "      <td>4.5</td>\n",
       "      <td>0.079089</td>\n",
       "    </tr>\n",
       "    <tr>\n",
       "      <th>1.0e-20</th>\n",
       "      <td>4.5</td>\n",
       "      <td>0.003209</td>\n",
       "    </tr>\n",
       "    <tr>\n",
       "      <th>1.0e-50</th>\n",
       "      <td>4.5</td>\n",
       "      <td>0.000573</td>\n",
       "    </tr>\n",
       "    <tr>\n",
       "      <th rowspan=\"7\" valign=\"top\">8</th>\n",
       "      <th>1.0e+00</th>\n",
       "      <td>4.5</td>\n",
       "      <td>0.619650</td>\n",
       "    </tr>\n",
       "    <tr>\n",
       "      <th>1.0e-02</th>\n",
       "      <td>4.5</td>\n",
       "      <td>0.975395</td>\n",
       "    </tr>\n",
       "    <tr>\n",
       "      <th>1.0e-05</th>\n",
       "      <td>4.5</td>\n",
       "      <td>0.893820</td>\n",
       "    </tr>\n",
       "    <tr>\n",
       "      <th>1.0e-10</th>\n",
       "      <td>4.5</td>\n",
       "      <td>0.982375</td>\n",
       "    </tr>\n",
       "    <tr>\n",
       "      <th>1.0e-15</th>\n",
       "      <td>4.5</td>\n",
       "      <td>0.083948</td>\n",
       "    </tr>\n",
       "    <tr>\n",
       "      <th>1.0e-20</th>\n",
       "      <td>4.5</td>\n",
       "      <td>-0.000365</td>\n",
       "    </tr>\n",
       "    <tr>\n",
       "      <th>1.0e-50</th>\n",
       "      <td>4.5</td>\n",
       "      <td>0.005254</td>\n",
       "    </tr>\n",
       "    <tr>\n",
       "      <th rowspan=\"7\" valign=\"top\">10</th>\n",
       "      <th>1.0e+00</th>\n",
       "      <td>4.5</td>\n",
       "      <td>0.673913</td>\n",
       "    </tr>\n",
       "    <tr>\n",
       "      <th>1.0e-02</th>\n",
       "      <td>4.5</td>\n",
       "      <td>0.902924</td>\n",
       "    </tr>\n",
       "    <tr>\n",
       "      <th>1.0e-05</th>\n",
       "      <td>4.5</td>\n",
       "      <td>0.990555</td>\n",
       "    </tr>\n",
       "    <tr>\n",
       "      <th>1.0e-10</th>\n",
       "      <td>4.5</td>\n",
       "      <td>0.876884</td>\n",
       "    </tr>\n",
       "    <tr>\n",
       "      <th>1.0e-15</th>\n",
       "      <td>4.5</td>\n",
       "      <td>0.044408</td>\n",
       "    </tr>\n",
       "    <tr>\n",
       "      <th>1.0e-20</th>\n",
       "      <td>4.5</td>\n",
       "      <td>0.000288</td>\n",
       "    </tr>\n",
       "    <tr>\n",
       "      <th>1.0e-50</th>\n",
       "      <td>4.5</td>\n",
       "      <td>-0.003058</td>\n",
       "    </tr>\n",
       "    <tr>\n",
       "      <th rowspan=\"7\" valign=\"top\">20</th>\n",
       "      <th>1.0e+00</th>\n",
       "      <td>4.5</td>\n",
       "      <td>0.680336</td>\n",
       "    </tr>\n",
       "    <tr>\n",
       "      <th>1.0e-02</th>\n",
       "      <td>4.5</td>\n",
       "      <td>0.449127</td>\n",
       "    </tr>\n",
       "    <tr>\n",
       "      <th>1.0e-05</th>\n",
       "      <td>4.5</td>\n",
       "      <td>0.469361</td>\n",
       "    </tr>\n",
       "    <tr>\n",
       "      <th>1.0e-10</th>\n",
       "      <td>4.5</td>\n",
       "      <td>0.537759</td>\n",
       "    </tr>\n",
       "    <tr>\n",
       "      <th>1.0e-15</th>\n",
       "      <td>4.5</td>\n",
       "      <td>0.030521</td>\n",
       "    </tr>\n",
       "    <tr>\n",
       "      <th>1.0e-20</th>\n",
       "      <td>4.5</td>\n",
       "      <td>-0.000262</td>\n",
       "    </tr>\n",
       "    <tr>\n",
       "      <th>1.0e-50</th>\n",
       "      <td>4.5</td>\n",
       "      <td>0.001159</td>\n",
       "    </tr>\n",
       "    <tr>\n",
       "      <th rowspan=\"7\" valign=\"top\">30</th>\n",
       "      <th>1.0e+00</th>\n",
       "      <td>4.5</td>\n",
       "      <td>0.543545</td>\n",
       "    </tr>\n",
       "    <tr>\n",
       "      <th>1.0e-02</th>\n",
       "      <td>4.5</td>\n",
       "      <td>0.414316</td>\n",
       "    </tr>\n",
       "    <tr>\n",
       "      <th>1.0e-05</th>\n",
       "      <td>4.5</td>\n",
       "      <td>0.414023</td>\n",
       "    </tr>\n",
       "    <tr>\n",
       "      <th>1.0e-10</th>\n",
       "      <td>4.5</td>\n",
       "      <td>0.447108</td>\n",
       "    </tr>\n",
       "    <tr>\n",
       "      <th>1.0e-15</th>\n",
       "      <td>4.5</td>\n",
       "      <td>0.018577</td>\n",
       "    </tr>\n",
       "    <tr>\n",
       "      <th>1.0e-20</th>\n",
       "      <td>4.5</td>\n",
       "      <td>-0.002560</td>\n",
       "    </tr>\n",
       "    <tr>\n",
       "      <th>1.0e-50</th>\n",
       "      <td>4.5</td>\n",
       "      <td>0.000134</td>\n",
       "    </tr>\n",
       "    <tr>\n",
       "      <th rowspan=\"7\" valign=\"top\">40</th>\n",
       "      <th>1.0e+00</th>\n",
       "      <td>4.5</td>\n",
       "      <td>0.317496</td>\n",
       "    </tr>\n",
       "    <tr>\n",
       "      <th>1.0e-02</th>\n",
       "      <td>4.5</td>\n",
       "      <td>0.352824</td>\n",
       "    </tr>\n",
       "    <tr>\n",
       "      <th>1.0e-05</th>\n",
       "      <td>4.5</td>\n",
       "      <td>0.418918</td>\n",
       "    </tr>\n",
       "    <tr>\n",
       "      <th>1.0e-10</th>\n",
       "      <td>4.5</td>\n",
       "      <td>0.397159</td>\n",
       "    </tr>\n",
       "    <tr>\n",
       "      <th>1.0e-15</th>\n",
       "      <td>4.5</td>\n",
       "      <td>0.020857</td>\n",
       "    </tr>\n",
       "    <tr>\n",
       "      <th>1.0e-20</th>\n",
       "      <td>4.5</td>\n",
       "      <td>-0.004211</td>\n",
       "    </tr>\n",
       "    <tr>\n",
       "      <th>1.0e-50</th>\n",
       "      <td>4.5</td>\n",
       "      <td>0.003881</td>\n",
       "    </tr>\n",
       "    <tr>\n",
       "      <th rowspan=\"7\" valign=\"top\">50</th>\n",
       "      <th>1.0e+00</th>\n",
       "      <td>4.5</td>\n",
       "      <td>0.270891</td>\n",
       "    </tr>\n",
       "    <tr>\n",
       "      <th>1.0e-02</th>\n",
       "      <td>4.5</td>\n",
       "      <td>0.369428</td>\n",
       "    </tr>\n",
       "    <tr>\n",
       "      <th>1.0e-05</th>\n",
       "      <td>4.5</td>\n",
       "      <td>0.434168</td>\n",
       "    </tr>\n",
       "    <tr>\n",
       "      <th>1.0e-10</th>\n",
       "      <td>4.5</td>\n",
       "      <td>0.412429</td>\n",
       "    </tr>\n",
       "    <tr>\n",
       "      <th>1.0e-15</th>\n",
       "      <td>4.5</td>\n",
       "      <td>0.029084</td>\n",
       "    </tr>\n",
       "    <tr>\n",
       "      <th>1.0e-20</th>\n",
       "      <td>4.5</td>\n",
       "      <td>0.005230</td>\n",
       "    </tr>\n",
       "    <tr>\n",
       "      <th>1.0e-50</th>\n",
       "      <td>4.5</td>\n",
       "      <td>0.003611</td>\n",
       "    </tr>\n",
       "    <tr>\n",
       "      <th rowspan=\"7\" valign=\"top\">60</th>\n",
       "      <th>1.0e+00</th>\n",
       "      <td>4.5</td>\n",
       "      <td>0.324365</td>\n",
       "    </tr>\n",
       "    <tr>\n",
       "      <th>1.0e-02</th>\n",
       "      <td>4.5</td>\n",
       "      <td>0.438559</td>\n",
       "    </tr>\n",
       "    <tr>\n",
       "      <th>1.0e-05</th>\n",
       "      <td>4.5</td>\n",
       "      <td>0.423509</td>\n",
       "    </tr>\n",
       "    <tr>\n",
       "      <th>1.0e-10</th>\n",
       "      <td>4.5</td>\n",
       "      <td>0.405138</td>\n",
       "    </tr>\n",
       "    <tr>\n",
       "      <th>1.0e-15</th>\n",
       "      <td>4.5</td>\n",
       "      <td>0.021986</td>\n",
       "    </tr>\n",
       "    <tr>\n",
       "      <th>1.0e-20</th>\n",
       "      <td>4.5</td>\n",
       "      <td>-0.000219</td>\n",
       "    </tr>\n",
       "    <tr>\n",
       "      <th>1.0e-50</th>\n",
       "      <td>4.5</td>\n",
       "      <td>-0.002835</td>\n",
       "    </tr>\n",
       "  </tbody>\n",
       "</table>\n",
       "</div>"
      ],
      "text/plain": [
       "                    idx       ari\n",
       "n_clusters gamma                 \n",
       "2          1.0e+00  4.5  0.544456\n",
       "           1.0e-02  4.5  1.000000\n",
       "           1.0e-05  4.5  1.000000\n",
       "           1.0e-10  4.5  1.000000\n",
       "           1.0e-15  4.5  0.899899\n",
       "           1.0e-20  4.5  0.006633\n",
       "           1.0e-50  4.5 -0.000556\n",
       "4          1.0e+00  4.5  0.633795\n",
       "           1.0e-02  4.5  0.997812\n",
       "           1.0e-05  4.5  1.000000\n",
       "           1.0e-10  4.5  1.000000\n",
       "           1.0e-15  4.5  0.225563\n",
       "           1.0e-20  4.5 -0.002691\n",
       "           1.0e-50  4.5  0.002186\n",
       "6          1.0e+00  4.5  0.710643\n",
       "           1.0e-02  4.5  0.953305\n",
       "           1.0e-05  4.5  0.982140\n",
       "           1.0e-10  4.5  0.978015\n",
       "           1.0e-15  4.5  0.079089\n",
       "           1.0e-20  4.5  0.003209\n",
       "           1.0e-50  4.5  0.000573\n",
       "8          1.0e+00  4.5  0.619650\n",
       "           1.0e-02  4.5  0.975395\n",
       "           1.0e-05  4.5  0.893820\n",
       "           1.0e-10  4.5  0.982375\n",
       "           1.0e-15  4.5  0.083948\n",
       "           1.0e-20  4.5 -0.000365\n",
       "           1.0e-50  4.5  0.005254\n",
       "10         1.0e+00  4.5  0.673913\n",
       "           1.0e-02  4.5  0.902924\n",
       "           1.0e-05  4.5  0.990555\n",
       "           1.0e-10  4.5  0.876884\n",
       "           1.0e-15  4.5  0.044408\n",
       "           1.0e-20  4.5  0.000288\n",
       "           1.0e-50  4.5 -0.003058\n",
       "20         1.0e+00  4.5  0.680336\n",
       "           1.0e-02  4.5  0.449127\n",
       "           1.0e-05  4.5  0.469361\n",
       "           1.0e-10  4.5  0.537759\n",
       "           1.0e-15  4.5  0.030521\n",
       "           1.0e-20  4.5 -0.000262\n",
       "           1.0e-50  4.5  0.001159\n",
       "30         1.0e+00  4.5  0.543545\n",
       "           1.0e-02  4.5  0.414316\n",
       "           1.0e-05  4.5  0.414023\n",
       "           1.0e-10  4.5  0.447108\n",
       "           1.0e-15  4.5  0.018577\n",
       "           1.0e-20  4.5 -0.002560\n",
       "           1.0e-50  4.5  0.000134\n",
       "40         1.0e+00  4.5  0.317496\n",
       "           1.0e-02  4.5  0.352824\n",
       "           1.0e-05  4.5  0.418918\n",
       "           1.0e-10  4.5  0.397159\n",
       "           1.0e-15  4.5  0.020857\n",
       "           1.0e-20  4.5 -0.004211\n",
       "           1.0e-50  4.5  0.003881\n",
       "50         1.0e+00  4.5  0.270891\n",
       "           1.0e-02  4.5  0.369428\n",
       "           1.0e-05  4.5  0.434168\n",
       "           1.0e-10  4.5  0.412429\n",
       "           1.0e-15  4.5  0.029084\n",
       "           1.0e-20  4.5  0.005230\n",
       "           1.0e-50  4.5  0.003611\n",
       "60         1.0e+00  4.5  0.324365\n",
       "           1.0e-02  4.5  0.438559\n",
       "           1.0e-05  4.5  0.423509\n",
       "           1.0e-10  4.5  0.405138\n",
       "           1.0e-15  4.5  0.021986\n",
       "           1.0e-20  4.5 -0.000219\n",
       "           1.0e-50  4.5 -0.002835"
      ]
     },
     "metadata": {},
     "output_type": "display_data"
    }
   ],
   "source": [
    "with pd.option_context(\"display.max_rows\", None, \"display.max_columns\", None):\n",
    "    _df = parts_ari_df_plot.groupby([\"n_clusters\", \"gamma\"]).mean()\n",
    "    display(_df)"
   ]
  },
  {
   "cell_type": "code",
   "execution_count": 68,
   "metadata": {
    "execution": {
     "iopub.execute_input": "2021-01-12T06:42:42.944469Z",
     "iopub.status.busy": "2021-01-12T06:42:42.944087Z",
     "iopub.status.idle": "2021-01-12T06:42:44.588686Z",
     "shell.execute_reply": "2021-01-12T06:42:44.589009Z"
    },
    "papermill": {
     "duration": 1.742256,
     "end_time": "2021-01-12T06:42:44.589122",
     "exception": false,
     "start_time": "2021-01-12T06:42:42.846866",
     "status": "completed"
    },
    "tags": []
   },
   "outputs": [
    {
     "data": {
      "image/png": "[encoded data removed]",
      "text/plain": [
       "<Figure size 1008x432 with 1 Axes>"
      ]
     },
     "metadata": {},
     "output_type": "display_data"
    }
   ],
   "source": [
    "with sns.plotting_context(\"talk\", font_scale=0.75), sns.axes_style(\n",
    "    \"whitegrid\", {\"grid.linestyle\": \"--\"}\n",
    "):\n",
    "    fig = plt.figure(figsize=(14, 6))\n",
    "    ax = sns.pointplot(data=parts_ari_df_plot, x=\"n_clusters\", y=\"ari\", hue=\"gamma\")\n",
    "    ax.set_ylabel(\"Averange ARI\")\n",
    "    ax.set_xlabel(\"Number of clusters ($k$)\")\n",
    "    ax.set_xticklabels(ax.get_xticklabels(), rotation=45)\n",
    "    plt.grid(True)\n",
    "    plt.tight_layout()"
   ]
  },
  {
   "cell_type": "markdown",
   "metadata": {
    "papermill": {
     "duration": 0.094783,
     "end_time": "2021-01-12T06:42:44.780069",
     "exception": false,
     "start_time": "2021-01-12T06:42:44.685286",
     "status": "completed"
    },
    "tags": []
   },
   "source": [
    "**CONCLUSION:** We choose `1e-10` as the `gamma` parameter for this data version."
   ]
  },
  {
   "cell_type": "code",
   "execution_count": null,
   "metadata": {
    "papermill": {
     "duration": 0.094139,
     "end_time": "2021-01-12T06:42:44.969401",
     "exception": false,
     "start_time": "2021-01-12T06:42:44.875262",
     "status": "completed"
    },
    "tags": []
   },
   "outputs": [],
   "source": []
  }
 ],
 "metadata": {
  "jupytext": {
   "cell_metadata_filter": "all,-execution,-papermill",
   "formats": "ipynb,py//py:percent"
  },
  "kernelspec": {
   "display_name": "Python 3",
   "language": "python",
   "name": "python3"
  },
  "language_info": {
   "codemirror_mode": {
    "name": "ipython",
    "version": 3
   },
   "file_extension": ".py",
   "mimetype": "text/x-python",
   "name": "python",
   "nbconvert_exporter": "python",
   "pygments_lexer": "ipython3",
   "version": "3.8.6"
  },
  "papermill": {
   "default_parameters": {},
   "duration": 925.26021,
   "end_time": "2021-01-12T06:42:45.570306",
   "environment_variables": {},
   "exception": null,
   "input_path": "15_cluster_analysis/pre_analysis/05_03-spectral_clustering-umap.ipynb",
   "output_path": "15_cluster_analysis/pre_analysis/05_03-spectral_clustering-umap.run.ipynb",
   "parameters": {},
   "start_time": "2021-01-12T06:27:20.310096",
   "version": "2.2.2"
  },
  "toc-autonumbering": true,
  "toc-showcode": false,
  "toc-showmarkdowntxt": false,
  "toc-showtags": false
 },
 "nbformat": 4,
 "nbformat_minor": 4
}
