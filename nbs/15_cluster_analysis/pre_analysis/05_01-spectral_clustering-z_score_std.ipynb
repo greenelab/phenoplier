{
 "cells": [
  {
   "cell_type": "markdown",
   "metadata": {
    "papermill": {
     "duration": 0.028656,
     "end_time": "2021-03-09T18:20:44.716478",
     "exception": false,
     "start_time": "2021-03-09T18:20:44.687822",
     "status": "completed"
    },
    "tags": []
   },
   "source": [
    "# Description"
   ]
  },
  {
   "cell_type": "markdown",
   "metadata": {
    "papermill": {
     "duration": 0.023439,
     "end_time": "2021-03-09T18:20:44.763594",
     "exception": false,
     "start_time": "2021-03-09T18:20:44.740155",
     "status": "completed"
    },
    "tags": []
   },
   "source": [
    "This notebook runs some pre-analyses using spectral clustering to explore the best set of parameters to cluster `z_score_std` data version."
   ]
  },
  {
   "cell_type": "markdown",
   "metadata": {
    "papermill": {
     "duration": 0.024002,
     "end_time": "2021-03-09T18:20:44.811498",
     "exception": false,
     "start_time": "2021-03-09T18:20:44.787496",
     "status": "completed"
    },
    "tags": []
   },
   "source": [
    "# Environment variables"
   ]
  },
  {
   "cell_type": "code",
   "execution_count": 1,
   "metadata": {
    "execution": {
     "iopub.execute_input": "2021-03-09T18:20:44.865669Z",
     "iopub.status.busy": "2021-03-09T18:20:44.865287Z",
     "iopub.status.idle": "2021-03-09T18:20:44.875766Z",
     "shell.execute_reply": "2021-03-09T18:20:44.875355Z"
    },
    "papermill": {
     "duration": 0.039715,
     "end_time": "2021-03-09T18:20:44.875855",
     "exception": false,
     "start_time": "2021-03-09T18:20:44.836140",
     "status": "completed"
    },
    "tags": []
   },
   "outputs": [
    {
     "data": {
      "text/plain": [
       "2"
      ]
     },
     "metadata": {},
     "output_type": "display_data"
    }
   ],
   "source": [
    "from IPython.display import display\n",
    "\n",
    "import conf\n",
    "\n",
    "N_JOBS = conf.GENERAL[\"N_JOBS\"]\n",
    "display(N_JOBS)"
   ]
  },
  {
   "cell_type": "code",
   "execution_count": 2,
   "metadata": {
    "execution": {
     "iopub.execute_input": "2021-03-09T18:20:44.931662Z",
     "iopub.status.busy": "2021-03-09T18:20:44.931267Z",
     "iopub.status.idle": "2021-03-09T18:20:44.933490Z",
     "shell.execute_reply": "2021-03-09T18:20:44.933195Z"
    },
    "papermill": {
     "duration": 0.03244,
     "end_time": "2021-03-09T18:20:44.933573",
     "exception": false,
     "start_time": "2021-03-09T18:20:44.901133",
     "status": "completed"
    },
    "tags": []
   },
   "outputs": [
    {
     "name": "stdout",
     "output_type": "stream",
     "text": [
      "env: MKL_NUM_THREADS=2\n",
      "env: OPEN_BLAS_NUM_THREADS=2\n",
      "env: NUMEXPR_NUM_THREADS=2\n",
      "env: OMP_NUM_THREADS=2\n"
     ]
    }
   ],
   "source": [
    "%env MKL_NUM_THREADS=$N_JOBS\n",
    "%env OPEN_BLAS_NUM_THREADS=$N_JOBS\n",
    "%env NUMEXPR_NUM_THREADS=$N_JOBS\n",
    "%env OMP_NUM_THREADS=$N_JOBS"
   ]
  },
  {
   "cell_type": "markdown",
   "metadata": {
    "papermill": {
     "duration": 0.024403,
     "end_time": "2021-03-09T18:20:44.983415",
     "exception": false,
     "start_time": "2021-03-09T18:20:44.959012",
     "status": "completed"
    },
    "tags": []
   },
   "source": [
    "# Modules loading"
   ]
  },
  {
   "cell_type": "code",
   "execution_count": 3,
   "metadata": {
    "execution": {
     "iopub.execute_input": "2021-03-09T18:20:45.036151Z",
     "iopub.status.busy": "2021-03-09T18:20:45.035790Z",
     "iopub.status.idle": "2021-03-09T18:20:45.043328Z",
     "shell.execute_reply": "2021-03-09T18:20:45.042952Z"
    },
    "papermill": {
     "duration": 0.035528,
     "end_time": "2021-03-09T18:20:45.043413",
     "exception": false,
     "start_time": "2021-03-09T18:20:45.007885",
     "status": "completed"
    },
    "tags": []
   },
   "outputs": [],
   "source": [
    "%load_ext autoreload\n",
    "%autoreload 2"
   ]
  },
  {
   "cell_type": "code",
   "execution_count": 4,
   "metadata": {
    "execution": {
     "iopub.execute_input": "2021-03-09T18:20:45.099858Z",
     "iopub.status.busy": "2021-03-09T18:20:45.099490Z",
     "iopub.status.idle": "2021-03-09T18:20:45.679683Z",
     "shell.execute_reply": "2021-03-09T18:20:45.679297Z"
    },
    "papermill": {
     "duration": 0.609059,
     "end_time": "2021-03-09T18:20:45.679791",
     "exception": false,
     "start_time": "2021-03-09T18:20:45.070732",
     "status": "completed"
    },
    "tags": []
   },
   "outputs": [],
   "source": [
    "from pathlib import Path\n",
    "import warnings\n",
    "\n",
    "import numpy as np\n",
    "import pandas as pd\n",
    "import matplotlib.pyplot as plt\n",
    "import seaborn as sns\n",
    "\n",
    "from utils import generate_result_set_name"
   ]
  },
  {
   "cell_type": "markdown",
   "metadata": {
    "papermill": {
     "duration": 0.025872,
     "end_time": "2021-03-09T18:20:45.735918",
     "exception": false,
     "start_time": "2021-03-09T18:20:45.710046",
     "status": "completed"
    },
    "tags": []
   },
   "source": [
    "# Settings"
   ]
  },
  {
   "cell_type": "code",
   "execution_count": 5,
   "metadata": {
    "execution": {
     "iopub.execute_input": "2021-03-09T18:20:45.788334Z",
     "iopub.status.busy": "2021-03-09T18:20:45.787978Z",
     "iopub.status.idle": "2021-03-09T18:20:45.797331Z",
     "shell.execute_reply": "2021-03-09T18:20:45.796974Z"
    },
    "papermill": {
     "duration": 0.036281,
     "end_time": "2021-03-09T18:20:45.797412",
     "exception": false,
     "start_time": "2021-03-09T18:20:45.761131",
     "status": "completed"
    },
    "tags": []
   },
   "outputs": [],
   "source": [
    "INITIAL_RANDOM_STATE = 30000"
   ]
  },
  {
   "cell_type": "markdown",
   "metadata": {
    "papermill": {
     "duration": 0.024703,
     "end_time": "2021-03-09T18:20:45.847398",
     "exception": false,
     "start_time": "2021-03-09T18:20:45.822695",
     "status": "completed"
    },
    "tags": []
   },
   "source": [
    "# Z-score standardized data"
   ]
  },
  {
   "cell_type": "code",
   "execution_count": 6,
   "metadata": {
    "execution": {
     "iopub.execute_input": "2021-03-09T18:20:45.899201Z",
     "iopub.status.busy": "2021-03-09T18:20:45.898844Z",
     "iopub.status.idle": "2021-03-09T18:20:45.908180Z",
     "shell.execute_reply": "2021-03-09T18:20:45.907821Z"
    },
    "papermill": {
     "duration": 0.036017,
     "end_time": "2021-03-09T18:20:45.908261",
     "exception": false,
     "start_time": "2021-03-09T18:20:45.872244",
     "status": "completed"
    },
    "tags": []
   },
   "outputs": [],
   "source": [
    "INPUT_SUBSET = \"z_score_std\""
   ]
  },
  {
   "cell_type": "code",
   "execution_count": 7,
   "metadata": {
    "execution": {
     "iopub.execute_input": "2021-03-09T18:20:45.961578Z",
     "iopub.status.busy": "2021-03-09T18:20:45.961211Z",
     "iopub.status.idle": "2021-03-09T18:20:45.969783Z",
     "shell.execute_reply": "2021-03-09T18:20:45.970075Z"
    },
    "papermill": {
     "duration": 0.035824,
     "end_time": "2021-03-09T18:20:45.970174",
     "exception": false,
     "start_time": "2021-03-09T18:20:45.934350",
     "status": "completed"
    },
    "tags": []
   },
   "outputs": [],
   "source": [
    "INPUT_STEM = \"projection-smultixcan-efo_partial-mashr-zscores\""
   ]
  },
  {
   "cell_type": "code",
   "execution_count": 8,
   "metadata": {
    "execution": {
     "iopub.execute_input": "2021-03-09T18:20:46.023320Z",
     "iopub.status.busy": "2021-03-09T18:20:46.022949Z",
     "iopub.status.idle": "2021-03-09T18:20:46.033996Z",
     "shell.execute_reply": "2021-03-09T18:20:46.033668Z"
    },
    "papermill": {
     "duration": 0.038771,
     "end_time": "2021-03-09T18:20:46.034083",
     "exception": false,
     "start_time": "2021-03-09T18:20:45.995312",
     "status": "completed"
    },
    "tags": []
   },
   "outputs": [
    {
     "data": {
      "text/plain": [
       "PosixPath('/home/miltondp/projects/labs/greenelab/phenoplier/base/results/data_transformations/z_score_std/z_score_std-projection-smultixcan-efo_partial-mashr-zscores.pkl')"
      ]
     },
     "metadata": {},
     "output_type": "display_data"
    },
    {
     "data": {
      "text/plain": [
       "'z_score_std-projection-smultixcan-efo_partial-mashr-zscores'"
      ]
     },
     "metadata": {},
     "output_type": "display_data"
    }
   ],
   "source": [
    "input_filepath = Path(\n",
    "    conf.RESULTS[\"DATA_TRANSFORMATIONS_DIR\"],\n",
    "    INPUT_SUBSET,\n",
    "    f\"{INPUT_SUBSET}-{INPUT_STEM}.pkl\",\n",
    ").resolve()\n",
    "display(input_filepath)\n",
    "\n",
    "assert input_filepath.exists(), \"Input file does not exist\"\n",
    "\n",
    "input_filepath_stem = input_filepath.stem\n",
    "display(input_filepath_stem)"
   ]
  },
  {
   "cell_type": "code",
   "execution_count": 9,
   "metadata": {
    "execution": {
     "iopub.execute_input": "2021-03-09T18:20:46.091504Z",
     "iopub.status.busy": "2021-03-09T18:20:46.091116Z",
     "iopub.status.idle": "2021-03-09T18:20:46.114908Z",
     "shell.execute_reply": "2021-03-09T18:20:46.115241Z"
    },
    "papermill": {
     "duration": 0.054497,
     "end_time": "2021-03-09T18:20:46.115365",
     "exception": false,
     "start_time": "2021-03-09T18:20:46.060868",
     "status": "completed"
    },
    "tags": []
   },
   "outputs": [],
   "source": [
    "data = pd.read_pickle(input_filepath)"
   ]
  },
  {
   "cell_type": "code",
   "execution_count": 10,
   "metadata": {
    "execution": {
     "iopub.execute_input": "2021-03-09T18:20:46.173345Z",
     "iopub.status.busy": "2021-03-09T18:20:46.172985Z",
     "iopub.status.idle": "2021-03-09T18:20:46.182836Z",
     "shell.execute_reply": "2021-03-09T18:20:46.182536Z"
    },
    "papermill": {
     "duration": 0.037791,
     "end_time": "2021-03-09T18:20:46.182921",
     "exception": false,
     "start_time": "2021-03-09T18:20:46.145130",
     "status": "completed"
    },
    "tags": []
   },
   "outputs": [
    {
     "data": {
      "text/plain": [
       "(3752, 987)"
      ]
     },
     "execution_count": 10,
     "metadata": {},
     "output_type": "execute_result"
    }
   ],
   "source": [
    "data.shape"
   ]
  },
  {
   "cell_type": "code",
   "execution_count": 11,
   "metadata": {
    "execution": {
     "iopub.execute_input": "2021-03-09T18:20:46.237415Z",
     "iopub.status.busy": "2021-03-09T18:20:46.237062Z",
     "iopub.status.idle": "2021-03-09T18:20:46.259219Z",
     "shell.execute_reply": "2021-03-09T18:20:46.258917Z"
    },
    "papermill": {
     "duration": 0.050185,
     "end_time": "2021-03-09T18:20:46.259304",
     "exception": false,
     "start_time": "2021-03-09T18:20:46.209119",
     "status": "completed"
    },
    "tags": []
   },
   "outputs": [
    {
     "data": {
      "text/html": [
       "<div>\n",
       "<style scoped>\n",
       "    .dataframe tbody tr th:only-of-type {\n",
       "        vertical-align: middle;\n",
       "    }\n",
       "\n",
       "    .dataframe tbody tr th {\n",
       "        vertical-align: top;\n",
       "    }\n",
       "\n",
       "    .dataframe thead th {\n",
       "        text-align: right;\n",
       "    }\n",
       "</style>\n",
       "<table border=\"1\" class=\"dataframe\">\n",
       "  <thead>\n",
       "    <tr style=\"text-align: right;\">\n",
       "      <th></th>\n",
       "      <th>LV1</th>\n",
       "      <th>LV2</th>\n",
       "      <th>LV3</th>\n",
       "      <th>LV4</th>\n",
       "      <th>LV5</th>\n",
       "      <th>LV6</th>\n",
       "      <th>LV7</th>\n",
       "      <th>LV8</th>\n",
       "      <th>LV9</th>\n",
       "      <th>LV10</th>\n",
       "      <th>...</th>\n",
       "      <th>LV978</th>\n",
       "      <th>LV979</th>\n",
       "      <th>LV980</th>\n",
       "      <th>LV981</th>\n",
       "      <th>LV982</th>\n",
       "      <th>LV983</th>\n",
       "      <th>LV984</th>\n",
       "      <th>LV985</th>\n",
       "      <th>LV986</th>\n",
       "      <th>LV987</th>\n",
       "    </tr>\n",
       "  </thead>\n",
       "  <tbody>\n",
       "    <tr>\n",
       "      <th>100001_raw-Food_weight</th>\n",
       "      <td>-0.695006</td>\n",
       "      <td>1.962565</td>\n",
       "      <td>0.057683</td>\n",
       "      <td>0.878731</td>\n",
       "      <td>-0.539977</td>\n",
       "      <td>1.481272</td>\n",
       "      <td>-0.396422</td>\n",
       "      <td>1.090180</td>\n",
       "      <td>0.759223</td>\n",
       "      <td>0.931395</td>\n",
       "      <td>...</td>\n",
       "      <td>1.129784</td>\n",
       "      <td>1.752343</td>\n",
       "      <td>-1.411403</td>\n",
       "      <td>2.823863</td>\n",
       "      <td>0.931116</td>\n",
       "      <td>-1.054519</td>\n",
       "      <td>0.432982</td>\n",
       "      <td>-0.633597</td>\n",
       "      <td>0.554279</td>\n",
       "      <td>-0.642479</td>\n",
       "    </tr>\n",
       "    <tr>\n",
       "      <th>100002_raw-Energy</th>\n",
       "      <td>-1.528127</td>\n",
       "      <td>-0.345309</td>\n",
       "      <td>-0.148953</td>\n",
       "      <td>-0.242060</td>\n",
       "      <td>0.373427</td>\n",
       "      <td>0.791092</td>\n",
       "      <td>0.263477</td>\n",
       "      <td>0.987702</td>\n",
       "      <td>0.354391</td>\n",
       "      <td>1.416059</td>\n",
       "      <td>...</td>\n",
       "      <td>0.224604</td>\n",
       "      <td>0.769882</td>\n",
       "      <td>-0.509482</td>\n",
       "      <td>0.091153</td>\n",
       "      <td>2.286789</td>\n",
       "      <td>-1.008256</td>\n",
       "      <td>-0.029764</td>\n",
       "      <td>1.737229</td>\n",
       "      <td>-0.272107</td>\n",
       "      <td>-0.526125</td>\n",
       "    </tr>\n",
       "    <tr>\n",
       "      <th>100003_raw-Protein</th>\n",
       "      <td>-0.704572</td>\n",
       "      <td>-1.011299</td>\n",
       "      <td>0.671420</td>\n",
       "      <td>0.143991</td>\n",
       "      <td>0.615212</td>\n",
       "      <td>0.874212</td>\n",
       "      <td>-0.040998</td>\n",
       "      <td>0.915170</td>\n",
       "      <td>0.254369</td>\n",
       "      <td>-0.084237</td>\n",
       "      <td>...</td>\n",
       "      <td>1.003019</td>\n",
       "      <td>1.044314</td>\n",
       "      <td>-2.376108</td>\n",
       "      <td>0.004778</td>\n",
       "      <td>0.053714</td>\n",
       "      <td>-0.892447</td>\n",
       "      <td>-0.183800</td>\n",
       "      <td>1.377991</td>\n",
       "      <td>-0.278794</td>\n",
       "      <td>-0.419733</td>\n",
       "    </tr>\n",
       "    <tr>\n",
       "      <th>100004_raw-Fat</th>\n",
       "      <td>-0.989832</td>\n",
       "      <td>-1.875490</td>\n",
       "      <td>0.261555</td>\n",
       "      <td>-1.420719</td>\n",
       "      <td>0.366238</td>\n",
       "      <td>1.167049</td>\n",
       "      <td>0.257387</td>\n",
       "      <td>0.717674</td>\n",
       "      <td>-0.997664</td>\n",
       "      <td>0.969825</td>\n",
       "      <td>...</td>\n",
       "      <td>0.585913</td>\n",
       "      <td>0.638314</td>\n",
       "      <td>0.119139</td>\n",
       "      <td>-0.140204</td>\n",
       "      <td>1.394326</td>\n",
       "      <td>-1.173402</td>\n",
       "      <td>0.555058</td>\n",
       "      <td>1.013982</td>\n",
       "      <td>-0.544506</td>\n",
       "      <td>-0.064061</td>\n",
       "    </tr>\n",
       "    <tr>\n",
       "      <th>100005_raw-Carbohydrate</th>\n",
       "      <td>-0.580143</td>\n",
       "      <td>0.243335</td>\n",
       "      <td>0.158966</td>\n",
       "      <td>-0.036558</td>\n",
       "      <td>0.068176</td>\n",
       "      <td>-0.202639</td>\n",
       "      <td>1.101281</td>\n",
       "      <td>0.675227</td>\n",
       "      <td>1.463432</td>\n",
       "      <td>1.010078</td>\n",
       "      <td>...</td>\n",
       "      <td>-0.249108</td>\n",
       "      <td>-0.026814</td>\n",
       "      <td>0.232713</td>\n",
       "      <td>0.323682</td>\n",
       "      <td>1.168642</td>\n",
       "      <td>-0.282935</td>\n",
       "      <td>0.653105</td>\n",
       "      <td>1.909526</td>\n",
       "      <td>0.199997</td>\n",
       "      <td>-1.656894</td>\n",
       "    </tr>\n",
       "  </tbody>\n",
       "</table>\n",
       "<p>5 rows × 987 columns</p>\n",
       "</div>"
      ],
      "text/plain": [
       "                              LV1       LV2       LV3       LV4       LV5  \\\n",
       "100001_raw-Food_weight  -0.695006  1.962565  0.057683  0.878731 -0.539977   \n",
       "100002_raw-Energy       -1.528127 -0.345309 -0.148953 -0.242060  0.373427   \n",
       "100003_raw-Protein      -0.704572 -1.011299  0.671420  0.143991  0.615212   \n",
       "100004_raw-Fat          -0.989832 -1.875490  0.261555 -1.420719  0.366238   \n",
       "100005_raw-Carbohydrate -0.580143  0.243335  0.158966 -0.036558  0.068176   \n",
       "\n",
       "                              LV6       LV7       LV8       LV9      LV10  \\\n",
       "100001_raw-Food_weight   1.481272 -0.396422  1.090180  0.759223  0.931395   \n",
       "100002_raw-Energy        0.791092  0.263477  0.987702  0.354391  1.416059   \n",
       "100003_raw-Protein       0.874212 -0.040998  0.915170  0.254369 -0.084237   \n",
       "100004_raw-Fat           1.167049  0.257387  0.717674 -0.997664  0.969825   \n",
       "100005_raw-Carbohydrate -0.202639  1.101281  0.675227  1.463432  1.010078   \n",
       "\n",
       "                         ...     LV978     LV979     LV980     LV981  \\\n",
       "100001_raw-Food_weight   ...  1.129784  1.752343 -1.411403  2.823863   \n",
       "100002_raw-Energy        ...  0.224604  0.769882 -0.509482  0.091153   \n",
       "100003_raw-Protein       ...  1.003019  1.044314 -2.376108  0.004778   \n",
       "100004_raw-Fat           ...  0.585913  0.638314  0.119139 -0.140204   \n",
       "100005_raw-Carbohydrate  ... -0.249108 -0.026814  0.232713  0.323682   \n",
       "\n",
       "                            LV982     LV983     LV984     LV985     LV986  \\\n",
       "100001_raw-Food_weight   0.931116 -1.054519  0.432982 -0.633597  0.554279   \n",
       "100002_raw-Energy        2.286789 -1.008256 -0.029764  1.737229 -0.272107   \n",
       "100003_raw-Protein       0.053714 -0.892447 -0.183800  1.377991 -0.278794   \n",
       "100004_raw-Fat           1.394326 -1.173402  0.555058  1.013982 -0.544506   \n",
       "100005_raw-Carbohydrate  1.168642 -0.282935  0.653105  1.909526  0.199997   \n",
       "\n",
       "                            LV987  \n",
       "100001_raw-Food_weight  -0.642479  \n",
       "100002_raw-Energy       -0.526125  \n",
       "100003_raw-Protein      -0.419733  \n",
       "100004_raw-Fat          -0.064061  \n",
       "100005_raw-Carbohydrate -1.656894  \n",
       "\n",
       "[5 rows x 987 columns]"
      ]
     },
     "execution_count": 11,
     "metadata": {},
     "output_type": "execute_result"
    }
   ],
   "source": [
    "data.head()"
   ]
  },
  {
   "cell_type": "markdown",
   "metadata": {
    "papermill": {
     "duration": 0.025914,
     "end_time": "2021-03-09T18:20:46.312611",
     "exception": false,
     "start_time": "2021-03-09T18:20:46.286697",
     "status": "completed"
    },
    "tags": []
   },
   "source": [
    "# Clustering"
   ]
  },
  {
   "cell_type": "code",
   "execution_count": 12,
   "metadata": {
    "execution": {
     "iopub.execute_input": "2021-03-09T18:20:46.367581Z",
     "iopub.status.busy": "2021-03-09T18:20:46.367224Z",
     "iopub.status.idle": "2021-03-09T18:20:46.491557Z",
     "shell.execute_reply": "2021-03-09T18:20:46.491177Z"
    },
    "papermill": {
     "duration": 0.152681,
     "end_time": "2021-03-09T18:20:46.491641",
     "exception": false,
     "start_time": "2021-03-09T18:20:46.338960",
     "status": "completed"
    },
    "tags": []
   },
   "outputs": [],
   "source": [
    "from sklearn.cluster import SpectralClustering\n",
    "\n",
    "from clustering.utils import compute_performance"
   ]
  },
  {
   "cell_type": "markdown",
   "metadata": {
    "papermill": {
     "duration": 0.026416,
     "end_time": "2021-03-09T18:20:46.544924",
     "exception": false,
     "start_time": "2021-03-09T18:20:46.518508",
     "status": "completed"
    },
    "tags": []
   },
   "source": [
    "## `gamma` parameter"
   ]
  },
  {
   "cell_type": "markdown",
   "metadata": {
    "papermill": {
     "duration": 0.025995,
     "end_time": "2021-03-09T18:20:46.596991",
     "exception": false,
     "start_time": "2021-03-09T18:20:46.570996",
     "status": "completed"
    },
    "tags": []
   },
   "source": [
    "### Using default value (`gamma=1.0`)"
   ]
  },
  {
   "cell_type": "code",
   "execution_count": 13,
   "metadata": {
    "execution": {
     "iopub.execute_input": "2021-03-09T18:20:46.653559Z",
     "iopub.status.busy": "2021-03-09T18:20:46.653183Z",
     "iopub.status.idle": "2021-03-09T18:21:47.230203Z",
     "shell.execute_reply": "2021-03-09T18:21:47.230511Z"
    },
    "papermill": {
     "duration": 60.607062,
     "end_time": "2021-03-09T18:21:47.230612",
     "exception": false,
     "start_time": "2021-03-09T18:20:46.623550",
     "status": "completed"
    },
    "tags": []
   },
   "outputs": [
    {
     "name": "stderr",
     "output_type": "stream",
     "text": [
      "/mnt/software/miniconda3/envs/phenoplier2/lib/python3.8/site-packages/sklearn/manifold/_spectral_embedding.py:236: UserWarning: Graph is not fully connected, spectral embedding may not work as expected.\n",
      "  warnings.warn(\"Graph is not fully connected, spectral embedding\"\n",
      "/mnt/software/miniconda3/envs/phenoplier2/lib/python3.8/site-packages/numpy/core/_methods.py:205: RuntimeWarning: overflow encountered in multiply\n",
      "  x = um.multiply(x, x, out=x)\n",
      "/mnt/software/miniconda3/envs/phenoplier2/lib/python3.8/site-packages/sklearn/utils/extmath.py:153: RuntimeWarning: overflow encountered in matmul\n",
      "  ret = a @ b\n",
      "/mnt/software/miniconda3/envs/phenoplier2/lib/python3.8/site-packages/sklearn/utils/extmath.py:153: RuntimeWarning: invalid value encountered in matmul\n",
      "  ret = a @ b\n",
      "/mnt/software/miniconda3/envs/phenoplier2/lib/python3.8/site-packages/sklearn/metrics/pairwise.py:311: RuntimeWarning: invalid value encountered in add\n",
      "  distances += XX\n",
      "/mnt/software/miniconda3/envs/phenoplier2/lib/python3.8/site-packages/sklearn/utils/extmath.py:153: RuntimeWarning: overflow encountered in matmul\n",
      "  ret = a @ b\n",
      "/mnt/software/miniconda3/envs/phenoplier2/lib/python3.8/site-packages/sklearn/metrics/pairwise.py:311: RuntimeWarning: invalid value encountered in add\n",
      "  distances += XX\n",
      "/mnt/software/miniconda3/envs/phenoplier2/lib/python3.8/site-packages/sklearn/utils/extmath.py:153: RuntimeWarning: overflow encountered in matmul\n",
      "  ret = a @ b\n",
      "/mnt/software/miniconda3/envs/phenoplier2/lib/python3.8/site-packages/sklearn/metrics/pairwise.py:311: RuntimeWarning: invalid value encountered in add\n",
      "  distances += XX\n",
      "/mnt/software/miniconda3/envs/phenoplier2/lib/python3.8/site-packages/sklearn/cluster/_kmeans.py:421: RuntimeWarning: overflow encountered in square\n",
      "  elkan_iter(X, sample_weight, centers, centers_new,\n",
      "/mnt/software/miniconda3/envs/phenoplier2/lib/python3.8/site-packages/sklearn/utils/extmath.py:153: RuntimeWarning: overflow encountered in matmul\n",
      "  ret = a @ b\n",
      "/mnt/software/miniconda3/envs/phenoplier2/lib/python3.8/site-packages/sklearn/metrics/pairwise.py:311: RuntimeWarning: invalid value encountered in add\n",
      "  distances += XX\n",
      "/mnt/software/miniconda3/envs/phenoplier2/lib/python3.8/site-packages/sklearn/cluster/_kmeans.py:296: ConvergenceWarning: Number of distinct clusters (1) found smaller than n_clusters (2). Possibly due to duplicate points in X.\n",
      "  est = KMeans(\n"
     ]
    }
   ],
   "source": [
    "with warnings.catch_warnings():\n",
    "    warnings.filterwarnings(\"always\")\n",
    "\n",
    "    clus = SpectralClustering(\n",
    "        eigen_solver=\"arpack\",\n",
    "        #         eigen_tol=1e-2,\n",
    "        n_clusters=2,\n",
    "        n_init=1,\n",
    "        affinity=\"rbf\",\n",
    "        gamma=1.00,\n",
    "        random_state=INITIAL_RANDOM_STATE,\n",
    "    )\n",
    "\n",
    "    part = clus.fit_predict(data)"
   ]
  },
  {
   "cell_type": "code",
   "execution_count": 14,
   "metadata": {
    "execution": {
     "iopub.execute_input": "2021-03-09T18:21:47.293213Z",
     "iopub.status.busy": "2021-03-09T18:21:47.292844Z",
     "iopub.status.idle": "2021-03-09T18:21:47.305351Z",
     "shell.execute_reply": "2021-03-09T18:21:47.305676Z"
    },
    "papermill": {
     "duration": 0.042525,
     "end_time": "2021-03-09T18:21:47.305795",
     "exception": false,
     "start_time": "2021-03-09T18:21:47.263270",
     "status": "completed"
    },
    "tags": []
   },
   "outputs": [
    {
     "data": {
      "text/plain": [
       "0    3752\n",
       "dtype: int64"
      ]
     },
     "metadata": {},
     "output_type": "display_data"
    }
   ],
   "source": [
    "# show number of clusters and their size\n",
    "_tmp = pd.Series(part).value_counts()\n",
    "display(_tmp)\n",
    "assert _tmp.shape[0] == 1"
   ]
  },
  {
   "cell_type": "markdown",
   "metadata": {
    "papermill": {
     "duration": 0.027574,
     "end_time": "2021-03-09T18:21:47.363163",
     "exception": false,
     "start_time": "2021-03-09T18:21:47.335589",
     "status": "completed"
    },
    "tags": []
   },
   "source": [
    "The algorithm does not work with the default `gamma=1.0`. Other values for this parameter should be explored."
   ]
  },
  {
   "cell_type": "markdown",
   "metadata": {
    "papermill": {
     "duration": 0.02734,
     "end_time": "2021-03-09T18:21:47.417626",
     "exception": false,
     "start_time": "2021-03-09T18:21:47.390286",
     "status": "completed"
    },
    "tags": []
   },
   "source": [
    "### Using `gamma=5.00`"
   ]
  },
  {
   "cell_type": "code",
   "execution_count": 15,
   "metadata": {
    "execution": {
     "iopub.execute_input": "2021-03-09T18:21:47.474755Z",
     "iopub.status.busy": "2021-03-09T18:21:47.474379Z",
     "iopub.status.idle": "2021-03-09T18:21:49.296460Z",
     "shell.execute_reply": "2021-03-09T18:21:49.296997Z"
    },
    "papermill": {
     "duration": 1.852236,
     "end_time": "2021-03-09T18:21:49.297119",
     "exception": false,
     "start_time": "2021-03-09T18:21:47.444883",
     "status": "completed"
    },
    "tags": []
   },
   "outputs": [
    {
     "name": "stderr",
     "output_type": "stream",
     "text": [
      "/mnt/software/miniconda3/envs/phenoplier2/lib/python3.8/site-packages/sklearn/manifold/_spectral_embedding.py:236: UserWarning: Graph is not fully connected, spectral embedding may not work as expected.\n",
      "  warnings.warn(\"Graph is not fully connected, spectral embedding\"\n",
      "/mnt/software/miniconda3/envs/phenoplier2/lib/python3.8/site-packages/numpy/core/_methods.py:205: RuntimeWarning: overflow encountered in multiply\n",
      "  x = um.multiply(x, x, out=x)\n",
      "/mnt/software/miniconda3/envs/phenoplier2/lib/python3.8/site-packages/sklearn/utils/extmath.py:153: RuntimeWarning: overflow encountered in matmul\n",
      "  ret = a @ b\n",
      "/mnt/software/miniconda3/envs/phenoplier2/lib/python3.8/site-packages/sklearn/metrics/pairwise.py:311: RuntimeWarning: invalid value encountered in add\n",
      "  distances += XX\n",
      "/mnt/software/miniconda3/envs/phenoplier2/lib/python3.8/site-packages/sklearn/utils/extmath.py:153: RuntimeWarning: overflow encountered in matmul\n",
      "  ret = a @ b\n",
      "/mnt/software/miniconda3/envs/phenoplier2/lib/python3.8/site-packages/sklearn/metrics/pairwise.py:311: RuntimeWarning: invalid value encountered in add\n",
      "  distances += XX\n",
      "/mnt/software/miniconda3/envs/phenoplier2/lib/python3.8/site-packages/sklearn/utils/extmath.py:153: RuntimeWarning: overflow encountered in matmul\n",
      "  ret = a @ b\n",
      "/mnt/software/miniconda3/envs/phenoplier2/lib/python3.8/site-packages/sklearn/metrics/pairwise.py:311: RuntimeWarning: invalid value encountered in add\n",
      "  distances += XX\n",
      "/mnt/software/miniconda3/envs/phenoplier2/lib/python3.8/site-packages/sklearn/cluster/_kmeans.py:421: RuntimeWarning: overflow encountered in square\n",
      "  elkan_iter(X, sample_weight, centers, centers_new,\n",
      "/mnt/software/miniconda3/envs/phenoplier2/lib/python3.8/site-packages/sklearn/utils/extmath.py:153: RuntimeWarning: overflow encountered in matmul\n",
      "  ret = a @ b\n",
      "/mnt/software/miniconda3/envs/phenoplier2/lib/python3.8/site-packages/sklearn/metrics/pairwise.py:311: RuntimeWarning: invalid value encountered in add\n",
      "  distances += XX\n",
      "/mnt/software/miniconda3/envs/phenoplier2/lib/python3.8/site-packages/sklearn/cluster/_kmeans.py:296: ConvergenceWarning: Number of distinct clusters (1) found smaller than n_clusters (2). Possibly due to duplicate points in X.\n",
      "  est = KMeans(\n"
     ]
    }
   ],
   "source": [
    "with warnings.catch_warnings():\n",
    "    warnings.filterwarnings(\"always\")\n",
    "\n",
    "    clus = SpectralClustering(\n",
    "        eigen_solver=\"arpack\",\n",
    "        #         eigen_tol=1e-2,\n",
    "        n_clusters=2,\n",
    "        n_init=1,\n",
    "        affinity=\"rbf\",\n",
    "        gamma=5.00,\n",
    "        random_state=INITIAL_RANDOM_STATE,\n",
    "    )\n",
    "\n",
    "    part = clus.fit_predict(data)"
   ]
  },
  {
   "cell_type": "code",
   "execution_count": 16,
   "metadata": {
    "execution": {
     "iopub.execute_input": "2021-03-09T18:21:49.363228Z",
     "iopub.status.busy": "2021-03-09T18:21:49.362859Z",
     "iopub.status.idle": "2021-03-09T18:21:49.375252Z",
     "shell.execute_reply": "2021-03-09T18:21:49.374883Z"
    },
    "papermill": {
     "duration": 0.04422,
     "end_time": "2021-03-09T18:21:49.375335",
     "exception": false,
     "start_time": "2021-03-09T18:21:49.331115",
     "status": "completed"
    },
    "tags": []
   },
   "outputs": [
    {
     "data": {
      "text/plain": [
       "0    3752\n",
       "dtype: int64"
      ]
     },
     "metadata": {},
     "output_type": "display_data"
    }
   ],
   "source": [
    "# show number of clusters and their size\n",
    "_tmp = pd.Series(part).value_counts()\n",
    "display(_tmp)\n",
    "assert _tmp.shape[0] == 1"
   ]
  },
  {
   "cell_type": "markdown",
   "metadata": {
    "papermill": {
     "duration": 0.028293,
     "end_time": "2021-03-09T18:21:49.431593",
     "exception": false,
     "start_time": "2021-03-09T18:21:49.403300",
     "status": "completed"
    },
    "tags": []
   },
   "source": [
    "The algorithm does not work either with `gamma>1.0`."
   ]
  },
  {
   "cell_type": "markdown",
   "metadata": {
    "papermill": {
     "duration": 0.027629,
     "end_time": "2021-03-09T18:21:49.486548",
     "exception": false,
     "start_time": "2021-03-09T18:21:49.458919",
     "status": "completed"
    },
    "tags": []
   },
   "source": [
    "### Using `gamma=0.01`"
   ]
  },
  {
   "cell_type": "code",
   "execution_count": 17,
   "metadata": {
    "execution": {
     "iopub.execute_input": "2021-03-09T18:21:49.544862Z",
     "iopub.status.busy": "2021-03-09T18:21:49.544459Z",
     "iopub.status.idle": "2021-03-09T18:21:51.355359Z",
     "shell.execute_reply": "2021-03-09T18:21:51.355750Z"
    },
    "papermill": {
     "duration": 1.842049,
     "end_time": "2021-03-09T18:21:51.355878",
     "exception": false,
     "start_time": "2021-03-09T18:21:49.513829",
     "status": "completed"
    },
    "tags": []
   },
   "outputs": [],
   "source": [
    "with warnings.catch_warnings():\n",
    "    warnings.filterwarnings(\"always\")\n",
    "\n",
    "    clus = SpectralClustering(\n",
    "        eigen_solver=\"arpack\",\n",
    "        eigen_tol=1e-3,\n",
    "        n_clusters=2,\n",
    "        n_init=1,\n",
    "        affinity=\"rbf\",\n",
    "        gamma=0.01,\n",
    "        random_state=INITIAL_RANDOM_STATE,\n",
    "    )\n",
    "\n",
    "    part = clus.fit_predict(data)"
   ]
  },
  {
   "cell_type": "code",
   "execution_count": 18,
   "metadata": {
    "execution": {
     "iopub.execute_input": "2021-03-09T18:21:51.420725Z",
     "iopub.status.busy": "2021-03-09T18:21:51.420332Z",
     "iopub.status.idle": "2021-03-09T18:21:51.432870Z",
     "shell.execute_reply": "2021-03-09T18:21:51.433152Z"
    },
    "papermill": {
     "duration": 0.044028,
     "end_time": "2021-03-09T18:21:51.433270",
     "exception": false,
     "start_time": "2021-03-09T18:21:51.389242",
     "status": "completed"
    },
    "tags": []
   },
   "outputs": [
    {
     "data": {
      "text/plain": [
       "0    3747\n",
       "1       5\n",
       "dtype: int64"
      ]
     },
     "metadata": {},
     "output_type": "display_data"
    }
   ],
   "source": [
    "# show number of clusters and their size\n",
    "_tmp = pd.Series(part).value_counts()\n",
    "display(_tmp)\n",
    "assert _tmp.shape[0] == 2\n",
    "assert 3 < _tmp.loc[1] < 10"
   ]
  },
  {
   "cell_type": "code",
   "execution_count": 19,
   "metadata": {
    "execution": {
     "iopub.execute_input": "2021-03-09T18:21:51.491541Z",
     "iopub.status.busy": "2021-03-09T18:21:51.491171Z",
     "iopub.status.idle": "2021-03-09T18:21:51.868044Z",
     "shell.execute_reply": "2021-03-09T18:21:51.867615Z"
    },
    "papermill": {
     "duration": 0.407249,
     "end_time": "2021-03-09T18:21:51.868148",
     "exception": false,
     "start_time": "2021-03-09T18:21:51.460899",
     "status": "completed"
    },
    "tags": []
   },
   "outputs": [
    {
     "data": {
      "text/plain": [
       "'Silhouette (higher is better): 0.305'"
      ]
     },
     "metadata": {},
     "output_type": "display_data"
    },
    {
     "data": {
      "text/plain": [
       "'Calinski-Harabasz (higher is better): 10.292'"
      ]
     },
     "metadata": {},
     "output_type": "display_data"
    },
    {
     "data": {
      "text/plain": [
       "'Davies-Bouldin (lower is better): 1.400'"
      ]
     },
     "metadata": {},
     "output_type": "display_data"
    }
   ],
   "source": [
    "# show some clustering performance measures to assess the quality of the partition\n",
    "_tmp = compute_performance(data, part)\n",
    "assert 0.30 < _tmp[\"si\"] < 0.31\n",
    "assert 10.0 < _tmp[\"ch\"] < 11.00\n",
    "assert 1.30 < _tmp[\"db\"] < 1.50"
   ]
  },
  {
   "cell_type": "markdown",
   "metadata": {
    "papermill": {
     "duration": 0.029204,
     "end_time": "2021-03-09T18:21:51.930662",
     "exception": false,
     "start_time": "2021-03-09T18:21:51.901458",
     "status": "completed"
    },
    "tags": []
   },
   "source": [
    "For values around `gamma=0.01` the algorithm takes a lot of time to converge (here I used `eigen_tol=1e-03` to force convergence)."
   ]
  },
  {
   "cell_type": "markdown",
   "metadata": {
    "papermill": {
     "duration": 0.028136,
     "end_time": "2021-03-09T18:21:51.988213",
     "exception": false,
     "start_time": "2021-03-09T18:21:51.960077",
     "status": "completed"
    },
    "tags": []
   },
   "source": [
    "### Using `gamma=0.001`"
   ]
  },
  {
   "cell_type": "code",
   "execution_count": 20,
   "metadata": {
    "execution": {
     "iopub.execute_input": "2021-03-09T18:21:52.047848Z",
     "iopub.status.busy": "2021-03-09T18:21:52.047475Z",
     "iopub.status.idle": "2021-03-09T18:21:53.451385Z",
     "shell.execute_reply": "2021-03-09T18:21:53.451742Z"
    },
    "papermill": {
     "duration": 1.435284,
     "end_time": "2021-03-09T18:21:53.451874",
     "exception": false,
     "start_time": "2021-03-09T18:21:52.016590",
     "status": "completed"
    },
    "tags": []
   },
   "outputs": [],
   "source": [
    "with warnings.catch_warnings():\n",
    "    warnings.filterwarnings(\"always\")\n",
    "\n",
    "    clus = SpectralClustering(\n",
    "        eigen_solver=\"arpack\",\n",
    "        #         eigen_tol=1e-3,\n",
    "        n_clusters=2,\n",
    "        n_init=1,\n",
    "        affinity=\"rbf\",\n",
    "        gamma=0.001,\n",
    "        random_state=INITIAL_RANDOM_STATE,\n",
    "    )\n",
    "\n",
    "    part = clus.fit_predict(data)"
   ]
  },
  {
   "cell_type": "code",
   "execution_count": 21,
   "metadata": {
    "execution": {
     "iopub.execute_input": "2021-03-09T18:21:53.517460Z",
     "iopub.status.busy": "2021-03-09T18:21:53.517095Z",
     "iopub.status.idle": "2021-03-09T18:21:53.529900Z",
     "shell.execute_reply": "2021-03-09T18:21:53.529545Z"
    },
    "papermill": {
     "duration": 0.0444,
     "end_time": "2021-03-09T18:21:53.529983",
     "exception": false,
     "start_time": "2021-03-09T18:21:53.485583",
     "status": "completed"
    },
    "tags": []
   },
   "outputs": [
    {
     "data": {
      "text/plain": [
       "0    3665\n",
       "1      87\n",
       "dtype: int64"
      ]
     },
     "metadata": {},
     "output_type": "display_data"
    }
   ],
   "source": [
    "# show number of clusters and their size\n",
    "_tmp = pd.Series(part).value_counts()\n",
    "display(_tmp)\n",
    "assert _tmp.shape[0] == 2\n",
    "assert 80 < _tmp.loc[1] < 90"
   ]
  },
  {
   "cell_type": "code",
   "execution_count": 22,
   "metadata": {
    "execution": {
     "iopub.execute_input": "2021-03-09T18:21:53.590682Z",
     "iopub.status.busy": "2021-03-09T18:21:53.590327Z",
     "iopub.status.idle": "2021-03-09T18:21:53.961105Z",
     "shell.execute_reply": "2021-03-09T18:21:53.961452Z"
    },
    "papermill": {
     "duration": 0.402551,
     "end_time": "2021-03-09T18:21:53.961579",
     "exception": false,
     "start_time": "2021-03-09T18:21:53.559028",
     "status": "completed"
    },
    "tags": []
   },
   "outputs": [
    {
     "data": {
      "text/plain": [
       "'Silhouette (higher is better): 0.151'"
      ]
     },
     "metadata": {},
     "output_type": "display_data"
    },
    {
     "data": {
      "text/plain": [
       "'Calinski-Harabasz (higher is better): 41.033'"
      ]
     },
     "metadata": {},
     "output_type": "display_data"
    },
    {
     "data": {
      "text/plain": [
       "'Davies-Bouldin (lower is better): 3.024'"
      ]
     },
     "metadata": {},
     "output_type": "display_data"
    }
   ],
   "source": [
    "# show some clustering performance measures to assess the quality of the partition\n",
    "_tmp = compute_performance(data, part)\n",
    "assert 0.10 < _tmp[\"si\"] < 0.16\n",
    "assert 40.0 < _tmp[\"ch\"] < 42.00\n",
    "assert 3.00 < _tmp[\"db\"] < 4.00"
   ]
  },
  {
   "cell_type": "markdown",
   "metadata": {
    "papermill": {
     "duration": 0.030354,
     "end_time": "2021-03-09T18:21:54.026572",
     "exception": false,
     "start_time": "2021-03-09T18:21:53.996218",
     "status": "completed"
    },
    "tags": []
   },
   "source": [
    "For values around `gamma=0.001` now the algorithm converges, although most of the performance measures are worse. This suggests smaller values should be explored for this parameter."
   ]
  },
  {
   "cell_type": "markdown",
   "metadata": {
    "papermill": {
     "duration": 0.029232,
     "end_time": "2021-03-09T18:21:54.085466",
     "exception": false,
     "start_time": "2021-03-09T18:21:54.056234",
     "status": "completed"
    },
    "tags": []
   },
   "source": [
    "## Extended test"
   ]
  },
  {
   "cell_type": "markdown",
   "metadata": {
    "papermill": {
     "duration": 0.029491,
     "end_time": "2021-03-09T18:21:54.144846",
     "exception": false,
     "start_time": "2021-03-09T18:21:54.115355",
     "status": "completed"
    },
    "tags": []
   },
   "source": [
    "Here I run some test across several `k` and `gamma` values; then I check how results perform with different clustering quality measures."
   ]
  },
  {
   "cell_type": "code",
   "execution_count": 23,
   "metadata": {
    "execution": {
     "iopub.execute_input": "2021-03-09T18:21:54.230572Z",
     "iopub.status.busy": "2021-03-09T18:21:54.230176Z",
     "iopub.status.idle": "2021-03-09T18:21:54.242112Z",
     "shell.execute_reply": "2021-03-09T18:21:54.241728Z"
    },
    "papermill": {
     "duration": 0.049295,
     "end_time": "2021-03-09T18:21:54.242200",
     "exception": false,
     "start_time": "2021-03-09T18:21:54.192905",
     "status": "completed"
    },
    "tags": []
   },
   "outputs": [
    {
     "data": {
      "text/plain": [
       "{'K_RANGE': [2, 4, 6, 8, 10, 20, 30, 40, 50, 60],\n",
       " 'N_REPS_PER_K': 5,\n",
       " 'KMEANS_N_INIT': 10,\n",
       " 'GAMMAS': [0.001, 1e-05, 1e-10, 1e-15, 1e-17, 1e-20, 1e-30, 1e-40, 1e-50],\n",
       " 'AFFINITY': 'rbf'}"
      ]
     },
     "metadata": {},
     "output_type": "display_data"
    }
   ],
   "source": [
    "CLUSTERING_OPTIONS = {}\n",
    "\n",
    "CLUSTERING_OPTIONS[\"K_RANGE\"] = [2, 4, 6, 8, 10, 20, 30, 40, 50, 60]\n",
    "CLUSTERING_OPTIONS[\"N_REPS_PER_K\"] = 5\n",
    "CLUSTERING_OPTIONS[\"KMEANS_N_INIT\"] = 10\n",
    "CLUSTERING_OPTIONS[\"GAMMAS\"] = [\n",
    "    1e-03,\n",
    "    #     1e-04,\n",
    "    #     1e-05,\n",
    "    1e-05,\n",
    "    #     1e-06,\n",
    "    #     1e-07,\n",
    "    #     1e-08,\n",
    "    #     1e-09,\n",
    "    1e-10,\n",
    "    #     1e-11,\n",
    "    #     1e-12,\n",
    "    #     1e-13,\n",
    "    #     1e-14,\n",
    "    1e-15,\n",
    "    1e-17,\n",
    "    1e-20,\n",
    "    1e-30,\n",
    "    1e-40,\n",
    "    1e-50,\n",
    "]\n",
    "CLUSTERING_OPTIONS[\"AFFINITY\"] = \"rbf\"\n",
    "\n",
    "display(CLUSTERING_OPTIONS)"
   ]
  },
  {
   "cell_type": "code",
   "execution_count": 24,
   "metadata": {
    "execution": {
     "iopub.execute_input": "2021-03-09T18:21:54.305599Z",
     "iopub.status.busy": "2021-03-09T18:21:54.305229Z",
     "iopub.status.idle": "2021-03-09T18:21:54.317461Z",
     "shell.execute_reply": "2021-03-09T18:21:54.317145Z"
    },
    "papermill": {
     "duration": 0.044884,
     "end_time": "2021-03-09T18:21:54.317545",
     "exception": false,
     "start_time": "2021-03-09T18:21:54.272661",
     "status": "completed"
    },
    "tags": []
   },
   "outputs": [],
   "source": [
    "CLUSTERERS = {}\n",
    "\n",
    "idx = 0\n",
    "random_state = INITIAL_RANDOM_STATE\n",
    "\n",
    "for k in CLUSTERING_OPTIONS[\"K_RANGE\"]:\n",
    "    for gamma_value in CLUSTERING_OPTIONS[\"GAMMAS\"]:\n",
    "        for i in range(CLUSTERING_OPTIONS[\"N_REPS_PER_K\"]):\n",
    "            clus = SpectralClustering(\n",
    "                eigen_solver=\"arpack\",\n",
    "                n_clusters=k,\n",
    "                n_init=CLUSTERING_OPTIONS[\"KMEANS_N_INIT\"],\n",
    "                affinity=CLUSTERING_OPTIONS[\"AFFINITY\"],\n",
    "                gamma=gamma_value,\n",
    "                random_state=random_state,\n",
    "            )\n",
    "\n",
    "            method_name = type(clus).__name__\n",
    "            CLUSTERERS[f\"{method_name} #{idx}\"] = clus\n",
    "\n",
    "            random_state = random_state + 1\n",
    "            idx = idx + 1"
   ]
  },
  {
   "cell_type": "code",
   "execution_count": 25,
   "metadata": {
    "execution": {
     "iopub.execute_input": "2021-03-09T18:21:54.383358Z",
     "iopub.status.busy": "2021-03-09T18:21:54.382987Z",
     "iopub.status.idle": "2021-03-09T18:21:54.393297Z",
     "shell.execute_reply": "2021-03-09T18:21:54.393576Z"
    },
    "papermill": {
     "duration": 0.043806,
     "end_time": "2021-03-09T18:21:54.393679",
     "exception": false,
     "start_time": "2021-03-09T18:21:54.349873",
     "status": "completed"
    },
    "tags": []
   },
   "outputs": [
    {
     "data": {
      "text/plain": [
       "450"
      ]
     },
     "metadata": {},
     "output_type": "display_data"
    }
   ],
   "source": [
    "display(len(CLUSTERERS))"
   ]
  },
  {
   "cell_type": "code",
   "execution_count": 26,
   "metadata": {
    "execution": {
     "iopub.execute_input": "2021-03-09T18:21:54.459042Z",
     "iopub.status.busy": "2021-03-09T18:21:54.458675Z",
     "iopub.status.idle": "2021-03-09T18:21:54.471405Z",
     "shell.execute_reply": "2021-03-09T18:21:54.471703Z"
    },
    "papermill": {
     "duration": 0.046458,
     "end_time": "2021-03-09T18:21:54.471805",
     "exception": false,
     "start_time": "2021-03-09T18:21:54.425347",
     "status": "completed"
    },
    "tags": []
   },
   "outputs": [
    {
     "data": {
      "text/plain": [
       "('SpectralClustering #0',\n",
       " SpectralClustering(eigen_solver='arpack', gamma=0.001, n_clusters=2,\n",
       "                    random_state=30000))"
      ]
     },
     "metadata": {},
     "output_type": "display_data"
    },
    {
     "data": {
      "text/plain": [
       "('SpectralClustering #1',\n",
       " SpectralClustering(eigen_solver='arpack', gamma=0.001, n_clusters=2,\n",
       "                    random_state=30001))"
      ]
     },
     "metadata": {},
     "output_type": "display_data"
    }
   ],
   "source": [
    "_iter = iter(CLUSTERERS.items())\n",
    "display(next(_iter))\n",
    "display(next(_iter))"
   ]
  },
  {
   "cell_type": "code",
   "execution_count": 27,
   "metadata": {
    "execution": {
     "iopub.execute_input": "2021-03-09T18:21:54.537440Z",
     "iopub.status.busy": "2021-03-09T18:21:54.537069Z",
     "iopub.status.idle": "2021-03-09T18:21:54.548136Z",
     "shell.execute_reply": "2021-03-09T18:21:54.547773Z"
    },
    "papermill": {
     "duration": 0.044162,
     "end_time": "2021-03-09T18:21:54.548220",
     "exception": false,
     "start_time": "2021-03-09T18:21:54.504058",
     "status": "completed"
    },
    "tags": []
   },
   "outputs": [
    {
     "data": {
      "text/plain": [
       "'SpectralClustering'"
      ]
     },
     "metadata": {},
     "output_type": "display_data"
    }
   ],
   "source": [
    "clustering_method_name = method_name\n",
    "display(clustering_method_name)"
   ]
  },
  {
   "cell_type": "markdown",
   "metadata": {
    "papermill": {
     "duration": 0.030321,
     "end_time": "2021-03-09T18:21:54.610220",
     "exception": false,
     "start_time": "2021-03-09T18:21:54.579899",
     "status": "completed"
    },
    "tags": []
   },
   "source": [
    "## Generate ensemble"
   ]
  },
  {
   "cell_type": "code",
   "execution_count": 28,
   "metadata": {
    "execution": {
     "iopub.execute_input": "2021-03-09T18:21:54.674463Z",
     "iopub.status.busy": "2021-03-09T18:21:54.674110Z",
     "iopub.status.idle": "2021-03-09T18:21:54.687083Z",
     "shell.execute_reply": "2021-03-09T18:21:54.686726Z"
    },
    "papermill": {
     "duration": 0.04577,
     "end_time": "2021-03-09T18:21:54.687166",
     "exception": false,
     "start_time": "2021-03-09T18:21:54.641396",
     "status": "completed"
    },
    "tags": []
   },
   "outputs": [],
   "source": [
    "import tempfile\n",
    "from clustering.ensembles.utils import generate_ensemble"
   ]
  },
  {
   "cell_type": "code",
   "execution_count": 31,
   "metadata": {
    "execution": {
     "iopub.execute_input": "2021-03-09T18:21:54.906685Z",
     "iopub.status.busy": "2021-03-09T18:21:54.906322Z",
     "iopub.status.idle": "2021-03-09T18:21:54.922418Z",
     "shell.execute_reply": "2021-03-09T18:21:54.922708Z"
    },
    "papermill": {
     "duration": 0.051157,
     "end_time": "2021-03-09T18:21:54.922818",
     "exception": false,
     "start_time": "2021-03-09T18:21:54.871661",
     "status": "completed"
    },
    "tags": []
   },
   "outputs": [
    {
     "data": {
      "text/plain": [
       "'Ensemble file exists'"
      ]
     },
     "metadata": {},
     "output_type": "display_data"
    }
   ],
   "source": [
    "ensemble = generate_ensemble(\n",
    "    data,\n",
    "    CLUSTERERS,\n",
    "    attributes=[\"n_clusters\", \"gamma\"],\n",
    ")"
   ]
  },
  {
   "cell_type": "code",
   "execution_count": 32,
   "metadata": {
    "execution": {
     "iopub.execute_input": "2021-03-09T18:21:54.991389Z",
     "iopub.status.busy": "2021-03-09T18:21:54.991024Z",
     "iopub.status.idle": "2021-03-09T18:21:55.002615Z",
     "shell.execute_reply": "2021-03-09T18:21:55.002235Z"
    },
    "papermill": {
     "duration": 0.045573,
     "end_time": "2021-03-09T18:21:55.002702",
     "exception": false,
     "start_time": "2021-03-09T18:21:54.957129",
     "status": "completed"
    },
    "tags": []
   },
   "outputs": [
    {
     "data": {
      "text/plain": [
       "(450, 4)"
      ]
     },
     "execution_count": 32,
     "metadata": {},
     "output_type": "execute_result"
    }
   ],
   "source": [
    "ensemble.shape"
   ]
  },
  {
   "cell_type": "code",
   "execution_count": 33,
   "metadata": {
    "execution": {
     "iopub.execute_input": "2021-03-09T18:21:55.068805Z",
     "iopub.status.busy": "2021-03-09T18:21:55.068391Z",
     "iopub.status.idle": "2021-03-09T18:21:55.086961Z",
     "shell.execute_reply": "2021-03-09T18:21:55.086586Z"
    },
    "papermill": {
     "duration": 0.052147,
     "end_time": "2021-03-09T18:21:55.087047",
     "exception": false,
     "start_time": "2021-03-09T18:21:55.034900",
     "status": "completed"
    },
    "tags": []
   },
   "outputs": [
    {
     "data": {
      "text/html": [
       "<div>\n",
       "<style scoped>\n",
       "    .dataframe tbody tr th:only-of-type {\n",
       "        vertical-align: middle;\n",
       "    }\n",
       "\n",
       "    .dataframe tbody tr th {\n",
       "        vertical-align: top;\n",
       "    }\n",
       "\n",
       "    .dataframe thead th {\n",
       "        text-align: right;\n",
       "    }\n",
       "</style>\n",
       "<table border=\"1\" class=\"dataframe\">\n",
       "  <thead>\n",
       "    <tr style=\"text-align: right;\">\n",
       "      <th></th>\n",
       "      <th>clusterer_params</th>\n",
       "      <th>partition</th>\n",
       "      <th>n_clusters</th>\n",
       "      <th>gamma</th>\n",
       "    </tr>\n",
       "    <tr>\n",
       "      <th>clusterer_id</th>\n",
       "      <th></th>\n",
       "      <th></th>\n",
       "      <th></th>\n",
       "      <th></th>\n",
       "    </tr>\n",
       "  </thead>\n",
       "  <tbody>\n",
       "    <tr>\n",
       "      <th>SpectralClustering #0</th>\n",
       "      <td>{'affinity': 'rbf', 'assign_labels': 'kmeans',...</td>\n",
       "      <td>[0.0, 0.0, 0.0, 0.0, 0.0, 0.0, 0.0, 0.0, 0.0, ...</td>\n",
       "      <td>2</td>\n",
       "      <td>0.001</td>\n",
       "    </tr>\n",
       "    <tr>\n",
       "      <th>SpectralClustering #1</th>\n",
       "      <td>{'affinity': 'rbf', 'assign_labels': 'kmeans',...</td>\n",
       "      <td>[0.0, 0.0, 0.0, 0.0, 0.0, 0.0, 0.0, 0.0, 0.0, ...</td>\n",
       "      <td>2</td>\n",
       "      <td>0.001</td>\n",
       "    </tr>\n",
       "    <tr>\n",
       "      <th>SpectralClustering #2</th>\n",
       "      <td>{'affinity': 'rbf', 'assign_labels': 'kmeans',...</td>\n",
       "      <td>[0.0, 0.0, 0.0, 0.0, 0.0, 0.0, 0.0, 0.0, 0.0, ...</td>\n",
       "      <td>2</td>\n",
       "      <td>0.001</td>\n",
       "    </tr>\n",
       "    <tr>\n",
       "      <th>SpectralClustering #3</th>\n",
       "      <td>{'affinity': 'rbf', 'assign_labels': 'kmeans',...</td>\n",
       "      <td>[0.0, 0.0, 0.0, 0.0, 0.0, 0.0, 0.0, 0.0, 0.0, ...</td>\n",
       "      <td>2</td>\n",
       "      <td>0.001</td>\n",
       "    </tr>\n",
       "    <tr>\n",
       "      <th>SpectralClustering #4</th>\n",
       "      <td>{'affinity': 'rbf', 'assign_labels': 'kmeans',...</td>\n",
       "      <td>[0.0, 0.0, 0.0, 0.0, 0.0, 0.0, 0.0, 0.0, 0.0, ...</td>\n",
       "      <td>2</td>\n",
       "      <td>0.001</td>\n",
       "    </tr>\n",
       "  </tbody>\n",
       "</table>\n",
       "</div>"
      ],
      "text/plain": [
       "                                                        clusterer_params  \\\n",
       "clusterer_id                                                               \n",
       "SpectralClustering #0  {'affinity': 'rbf', 'assign_labels': 'kmeans',...   \n",
       "SpectralClustering #1  {'affinity': 'rbf', 'assign_labels': 'kmeans',...   \n",
       "SpectralClustering #2  {'affinity': 'rbf', 'assign_labels': 'kmeans',...   \n",
       "SpectralClustering #3  {'affinity': 'rbf', 'assign_labels': 'kmeans',...   \n",
       "SpectralClustering #4  {'affinity': 'rbf', 'assign_labels': 'kmeans',...   \n",
       "\n",
       "                                                               partition  \\\n",
       "clusterer_id                                                               \n",
       "SpectralClustering #0  [0.0, 0.0, 0.0, 0.0, 0.0, 0.0, 0.0, 0.0, 0.0, ...   \n",
       "SpectralClustering #1  [0.0, 0.0, 0.0, 0.0, 0.0, 0.0, 0.0, 0.0, 0.0, ...   \n",
       "SpectralClustering #2  [0.0, 0.0, 0.0, 0.0, 0.0, 0.0, 0.0, 0.0, 0.0, ...   \n",
       "SpectralClustering #3  [0.0, 0.0, 0.0, 0.0, 0.0, 0.0, 0.0, 0.0, 0.0, ...   \n",
       "SpectralClustering #4  [0.0, 0.0, 0.0, 0.0, 0.0, 0.0, 0.0, 0.0, 0.0, ...   \n",
       "\n",
       "                       n_clusters  gamma  \n",
       "clusterer_id                              \n",
       "SpectralClustering #0           2  0.001  \n",
       "SpectralClustering #1           2  0.001  \n",
       "SpectralClustering #2           2  0.001  \n",
       "SpectralClustering #3           2  0.001  \n",
       "SpectralClustering #4           2  0.001  "
      ]
     },
     "execution_count": 33,
     "metadata": {},
     "output_type": "execute_result"
    }
   ],
   "source": [
    "ensemble.head()"
   ]
  },
  {
   "cell_type": "code",
   "execution_count": 34,
   "metadata": {
    "execution": {
     "iopub.execute_input": "2021-03-09T18:21:55.155921Z",
     "iopub.status.busy": "2021-03-09T18:21:55.155543Z",
     "iopub.status.idle": "2021-03-09T18:21:55.166823Z",
     "shell.execute_reply": "2021-03-09T18:21:55.166449Z"
    },
    "papermill": {
     "duration": 0.046242,
     "end_time": "2021-03-09T18:21:55.166908",
     "exception": false,
     "start_time": "2021-03-09T18:21:55.120666",
     "status": "completed"
    },
    "tags": []
   },
   "outputs": [],
   "source": [
    "ensemble[\"gamma\"] = ensemble[\"gamma\"].apply(lambda x: f\"{x:.1e}\")"
   ]
  },
  {
   "cell_type": "code",
   "execution_count": 35,
   "metadata": {
    "execution": {
     "iopub.execute_input": "2021-03-09T18:21:55.234589Z",
     "iopub.status.busy": "2021-03-09T18:21:55.234221Z",
     "iopub.status.idle": "2021-03-09T18:21:55.246393Z",
     "shell.execute_reply": "2021-03-09T18:21:55.246025Z"
    },
    "papermill": {
     "duration": 0.046469,
     "end_time": "2021-03-09T18:21:55.246477",
     "exception": false,
     "start_time": "2021-03-09T18:21:55.200008",
     "status": "completed"
    },
    "tags": []
   },
   "outputs": [
    {
     "data": {
      "text/plain": [
       "60    45\n",
       "50    45\n",
       "40    45\n",
       "30    45\n",
       "20    45\n",
       "10    45\n",
       "8     45\n",
       "6     45\n",
       "4     45\n",
       "2     45\n",
       "Name: n_clusters, dtype: int64"
      ]
     },
     "execution_count": 35,
     "metadata": {},
     "output_type": "execute_result"
    }
   ],
   "source": [
    "ensemble[\"n_clusters\"].value_counts()"
   ]
  },
  {
   "cell_type": "code",
   "execution_count": 36,
   "metadata": {
    "execution": {
     "iopub.execute_input": "2021-03-09T18:21:55.315051Z",
     "iopub.status.busy": "2021-03-09T18:21:55.314690Z",
     "iopub.status.idle": "2021-03-09T18:21:55.325667Z",
     "shell.execute_reply": "2021-03-09T18:21:55.325290Z"
    },
    "papermill": {
     "duration": 0.046077,
     "end_time": "2021-03-09T18:21:55.325752",
     "exception": false,
     "start_time": "2021-03-09T18:21:55.279675",
     "status": "completed"
    },
    "tags": []
   },
   "outputs": [],
   "source": [
    "_tmp = ensemble[\"n_clusters\"].value_counts().unique()\n",
    "assert _tmp.shape[0] == 1\n",
    "assert _tmp[0] == int(\n",
    "    CLUSTERING_OPTIONS[\"N_REPS_PER_K\"] * len(CLUSTERING_OPTIONS[\"GAMMAS\"])\n",
    ")"
   ]
  },
  {
   "cell_type": "code",
   "execution_count": 37,
   "metadata": {
    "execution": {
     "iopub.execute_input": "2021-03-09T18:21:55.396678Z",
     "iopub.status.busy": "2021-03-09T18:21:55.396313Z",
     "iopub.status.idle": "2021-03-09T18:21:55.409896Z",
     "shell.execute_reply": "2021-03-09T18:21:55.409518Z"
    },
    "papermill": {
     "duration": 0.049328,
     "end_time": "2021-03-09T18:21:55.409982",
     "exception": false,
     "start_time": "2021-03-09T18:21:55.360654",
     "status": "completed"
    },
    "tags": []
   },
   "outputs": [
    {
     "data": {
      "text/plain": [
       "count    450.000000\n",
       "mean      23.000000\n",
       "std       19.846291\n",
       "min        2.000000\n",
       "25%        6.000000\n",
       "50%       15.000000\n",
       "75%       40.000000\n",
       "max       60.000000\n",
       "Name: n_clusters, dtype: float64"
      ]
     },
     "metadata": {},
     "output_type": "display_data"
    }
   ],
   "source": [
    "ensemble_stats = ensemble[\"n_clusters\"].describe()\n",
    "display(ensemble_stats)"
   ]
  },
  {
   "cell_type": "markdown",
   "metadata": {
    "papermill": {
     "duration": 0.032751,
     "end_time": "2021-03-09T18:21:55.477373",
     "exception": false,
     "start_time": "2021-03-09T18:21:55.444622",
     "status": "completed"
    },
    "tags": []
   },
   "source": [
    "## Testing"
   ]
  },
  {
   "cell_type": "code",
   "execution_count": 38,
   "metadata": {
    "execution": {
     "iopub.execute_input": "2021-03-09T18:21:55.546371Z",
     "iopub.status.busy": "2021-03-09T18:21:55.546003Z",
     "iopub.status.idle": "2021-03-09T18:21:55.556734Z",
     "shell.execute_reply": "2021-03-09T18:21:55.556344Z"
    },
    "papermill": {
     "duration": 0.046361,
     "end_time": "2021-03-09T18:21:55.556844",
     "exception": false,
     "start_time": "2021-03-09T18:21:55.510483",
     "status": "completed"
    },
    "tags": []
   },
   "outputs": [],
   "source": [
    "assert ensemble_stats[\"min\"] > 1"
   ]
  },
  {
   "cell_type": "code",
   "execution_count": 39,
   "metadata": {
    "execution": {
     "iopub.execute_input": "2021-03-09T18:21:55.624906Z",
     "iopub.status.busy": "2021-03-09T18:21:55.624479Z",
     "iopub.status.idle": "2021-03-09T18:21:55.635104Z",
     "shell.execute_reply": "2021-03-09T18:21:55.634729Z"
    },
    "papermill": {
     "duration": 0.045445,
     "end_time": "2021-03-09T18:21:55.635190",
     "exception": false,
     "start_time": "2021-03-09T18:21:55.589745",
     "status": "completed"
    },
    "tags": []
   },
   "outputs": [],
   "source": [
    "assert not ensemble[\"n_clusters\"].isna().any()"
   ]
  },
  {
   "cell_type": "code",
   "execution_count": 40,
   "metadata": {
    "execution": {
     "iopub.execute_input": "2021-03-09T18:21:55.703307Z",
     "iopub.status.busy": "2021-03-09T18:21:55.702947Z",
     "iopub.status.idle": "2021-03-09T18:21:55.713128Z",
     "shell.execute_reply": "2021-03-09T18:21:55.712738Z"
    },
    "papermill": {
     "duration": 0.04488,
     "end_time": "2021-03-09T18:21:55.713210",
     "exception": false,
     "start_time": "2021-03-09T18:21:55.668330",
     "status": "completed"
    },
    "tags": []
   },
   "outputs": [],
   "source": [
    "assert ensemble.shape[0] == len(CLUSTERERS)"
   ]
  },
  {
   "cell_type": "code",
   "execution_count": 41,
   "metadata": {
    "execution": {
     "iopub.execute_input": "2021-03-09T18:21:55.781957Z",
     "iopub.status.busy": "2021-03-09T18:21:55.781582Z",
     "iopub.status.idle": "2021-03-09T18:21:55.820086Z",
     "shell.execute_reply": "2021-03-09T18:21:55.819714Z"
    },
    "papermill": {
     "duration": 0.07348,
     "end_time": "2021-03-09T18:21:55.820171",
     "exception": false,
     "start_time": "2021-03-09T18:21:55.746691",
     "status": "completed"
    },
    "tags": []
   },
   "outputs": [],
   "source": [
    "# all partitions have the right size\n",
    "assert np.all(\n",
    "    [part[\"partition\"].shape[0] == data.shape[0] for idx, part in ensemble.iterrows()]\n",
    ")"
   ]
  },
  {
   "cell_type": "code",
   "execution_count": 42,
   "metadata": {
    "execution": {
     "iopub.execute_input": "2021-03-09T18:21:55.890224Z",
     "iopub.status.busy": "2021-03-09T18:21:55.889849Z",
     "iopub.status.idle": "2021-03-09T18:21:56.015749Z",
     "shell.execute_reply": "2021-03-09T18:21:56.015385Z"
    },
    "papermill": {
     "duration": 0.162125,
     "end_time": "2021-03-09T18:21:56.015830",
     "exception": false,
     "start_time": "2021-03-09T18:21:55.853705",
     "status": "completed"
    },
    "tags": []
   },
   "outputs": [],
   "source": [
    "# no partition has negative clusters (noisy points)\n",
    "assert not np.any([(part[\"partition\"] < 0).any() for idx, part in ensemble.iterrows()])\n",
    "assert not np.any(\n",
    "    [pd.Series(part[\"partition\"]).isna().any() for idx, part in ensemble.iterrows()]\n",
    ")"
   ]
  },
  {
   "cell_type": "code",
   "execution_count": 43,
   "metadata": {
    "execution": {
     "iopub.execute_input": "2021-03-09T18:21:56.084516Z",
     "iopub.status.busy": "2021-03-09T18:21:56.084144Z",
     "iopub.status.idle": "2021-03-09T18:21:56.131851Z",
     "shell.execute_reply": "2021-03-09T18:21:56.131481Z"
    },
    "papermill": {
     "duration": 0.083142,
     "end_time": "2021-03-09T18:21:56.131935",
     "exception": false,
     "start_time": "2021-03-09T18:21:56.048793",
     "status": "completed"
    },
    "tags": []
   },
   "outputs": [
    {
     "data": {
      "text/plain": [
       "clusterer_id\n",
       "SpectralClustering #0       2\n",
       "SpectralClustering #1       2\n",
       "SpectralClustering #2       2\n",
       "SpectralClustering #3       2\n",
       "SpectralClustering #4       2\n",
       "                           ..\n",
       "SpectralClustering #445    60\n",
       "SpectralClustering #446    60\n",
       "SpectralClustering #447    60\n",
       "SpectralClustering #448    60\n",
       "SpectralClustering #449    60\n",
       "Name: partition, Length: 450, dtype: int64"
      ]
     },
     "metadata": {},
     "output_type": "display_data"
    }
   ],
   "source": [
    "# check that the number of clusters in the partitions are the expected ones\n",
    "_real_k_values = ensemble[\"partition\"].apply(lambda x: np.unique(x).shape[0])\n",
    "display(_real_k_values)\n",
    "assert np.all(ensemble[\"n_clusters\"].values == _real_k_values.values)"
   ]
  },
  {
   "cell_type": "markdown",
   "metadata": {
    "papermill": {
     "duration": 0.033334,
     "end_time": "2021-03-09T18:21:56.198641",
     "exception": false,
     "start_time": "2021-03-09T18:21:56.165307",
     "status": "completed"
    },
    "tags": []
   },
   "source": [
    "## Add clustering quality measures"
   ]
  },
  {
   "cell_type": "code",
   "execution_count": 44,
   "metadata": {
    "execution": {
     "iopub.execute_input": "2021-03-09T18:21:56.266772Z",
     "iopub.status.busy": "2021-03-09T18:21:56.266416Z",
     "iopub.status.idle": "2021-03-09T18:21:56.276643Z",
     "shell.execute_reply": "2021-03-09T18:21:56.276270Z"
    },
    "papermill": {
     "duration": 0.04544,
     "end_time": "2021-03-09T18:21:56.276801",
     "exception": false,
     "start_time": "2021-03-09T18:21:56.231361",
     "status": "completed"
    },
    "tags": []
   },
   "outputs": [],
   "source": [
    "from sklearn.metrics import (\n",
    "    silhouette_score,\n",
    "    calinski_harabasz_score,\n",
    "    davies_bouldin_score,\n",
    ")"
   ]
  },
  {
   "cell_type": "code",
   "execution_count": 45,
   "metadata": {
    "execution": {
     "iopub.execute_input": "2021-03-09T18:21:56.347763Z",
     "iopub.status.busy": "2021-03-09T18:21:56.347336Z",
     "iopub.status.idle": "2021-03-09T18:24:43.268739Z",
     "shell.execute_reply": "2021-03-09T18:24:43.268253Z"
    },
    "papermill": {
     "duration": 166.958717,
     "end_time": "2021-03-09T18:24:43.268845",
     "exception": false,
     "start_time": "2021-03-09T18:21:56.310128",
     "status": "completed"
    },
    "tags": []
   },
   "outputs": [],
   "source": [
    "ensemble = ensemble.assign(\n",
    "    si_score=ensemble[\"partition\"].apply(lambda x: silhouette_score(data, x)),\n",
    "    ch_score=ensemble[\"partition\"].apply(lambda x: calinski_harabasz_score(data, x)),\n",
    "    db_score=ensemble[\"partition\"].apply(lambda x: davies_bouldin_score(data, x)),\n",
    ")"
   ]
  },
  {
   "cell_type": "code",
   "execution_count": 46,
   "metadata": {
    "execution": {
     "iopub.execute_input": "2021-03-09T18:24:43.344502Z",
     "iopub.status.busy": "2021-03-09T18:24:43.344128Z",
     "iopub.status.idle": "2021-03-09T18:24:43.354900Z",
     "shell.execute_reply": "2021-03-09T18:24:43.355197Z"
    },
    "papermill": {
     "duration": 0.048304,
     "end_time": "2021-03-09T18:24:43.355300",
     "exception": false,
     "start_time": "2021-03-09T18:24:43.306996",
     "status": "completed"
    },
    "tags": []
   },
   "outputs": [
    {
     "data": {
      "text/plain": [
       "(450, 7)"
      ]
     },
     "execution_count": 46,
     "metadata": {},
     "output_type": "execute_result"
    }
   ],
   "source": [
    "ensemble.shape"
   ]
  },
  {
   "cell_type": "code",
   "execution_count": 47,
   "metadata": {
    "execution": {
     "iopub.execute_input": "2021-03-09T18:24:43.425399Z",
     "iopub.status.busy": "2021-03-09T18:24:43.424896Z",
     "iopub.status.idle": "2021-03-09T18:24:43.445006Z",
     "shell.execute_reply": "2021-03-09T18:24:43.444570Z"
    },
    "papermill": {
     "duration": 0.055726,
     "end_time": "2021-03-09T18:24:43.445091",
     "exception": false,
     "start_time": "2021-03-09T18:24:43.389365",
     "status": "completed"
    },
    "tags": []
   },
   "outputs": [
    {
     "data": {
      "text/html": [
       "<div>\n",
       "<style scoped>\n",
       "    .dataframe tbody tr th:only-of-type {\n",
       "        vertical-align: middle;\n",
       "    }\n",
       "\n",
       "    .dataframe tbody tr th {\n",
       "        vertical-align: top;\n",
       "    }\n",
       "\n",
       "    .dataframe thead th {\n",
       "        text-align: right;\n",
       "    }\n",
       "</style>\n",
       "<table border=\"1\" class=\"dataframe\">\n",
       "  <thead>\n",
       "    <tr style=\"text-align: right;\">\n",
       "      <th></th>\n",
       "      <th>clusterer_params</th>\n",
       "      <th>partition</th>\n",
       "      <th>n_clusters</th>\n",
       "      <th>gamma</th>\n",
       "      <th>si_score</th>\n",
       "      <th>ch_score</th>\n",
       "      <th>db_score</th>\n",
       "    </tr>\n",
       "    <tr>\n",
       "      <th>clusterer_id</th>\n",
       "      <th></th>\n",
       "      <th></th>\n",
       "      <th></th>\n",
       "      <th></th>\n",
       "      <th></th>\n",
       "      <th></th>\n",
       "      <th></th>\n",
       "    </tr>\n",
       "  </thead>\n",
       "  <tbody>\n",
       "    <tr>\n",
       "      <th>SpectralClustering #0</th>\n",
       "      <td>{'affinity': 'rbf', 'assign_labels': 'kmeans',...</td>\n",
       "      <td>[0.0, 0.0, 0.0, 0.0, 0.0, 0.0, 0.0, 0.0, 0.0, ...</td>\n",
       "      <td>2</td>\n",
       "      <td>1.0e-03</td>\n",
       "      <td>0.150591</td>\n",
       "      <td>41.033402</td>\n",
       "      <td>3.024181</td>\n",
       "    </tr>\n",
       "    <tr>\n",
       "      <th>SpectralClustering #1</th>\n",
       "      <td>{'affinity': 'rbf', 'assign_labels': 'kmeans',...</td>\n",
       "      <td>[0.0, 0.0, 0.0, 0.0, 0.0, 0.0, 0.0, 0.0, 0.0, ...</td>\n",
       "      <td>2</td>\n",
       "      <td>1.0e-03</td>\n",
       "      <td>0.150591</td>\n",
       "      <td>41.033402</td>\n",
       "      <td>3.024181</td>\n",
       "    </tr>\n",
       "    <tr>\n",
       "      <th>SpectralClustering #2</th>\n",
       "      <td>{'affinity': 'rbf', 'assign_labels': 'kmeans',...</td>\n",
       "      <td>[0.0, 0.0, 0.0, 0.0, 0.0, 0.0, 0.0, 0.0, 0.0, ...</td>\n",
       "      <td>2</td>\n",
       "      <td>1.0e-03</td>\n",
       "      <td>0.150591</td>\n",
       "      <td>41.033402</td>\n",
       "      <td>3.024181</td>\n",
       "    </tr>\n",
       "    <tr>\n",
       "      <th>SpectralClustering #3</th>\n",
       "      <td>{'affinity': 'rbf', 'assign_labels': 'kmeans',...</td>\n",
       "      <td>[0.0, 0.0, 0.0, 0.0, 0.0, 0.0, 0.0, 0.0, 0.0, ...</td>\n",
       "      <td>2</td>\n",
       "      <td>1.0e-03</td>\n",
       "      <td>0.150591</td>\n",
       "      <td>41.033402</td>\n",
       "      <td>3.024181</td>\n",
       "    </tr>\n",
       "    <tr>\n",
       "      <th>SpectralClustering #4</th>\n",
       "      <td>{'affinity': 'rbf', 'assign_labels': 'kmeans',...</td>\n",
       "      <td>[0.0, 0.0, 0.0, 0.0, 0.0, 0.0, 0.0, 0.0, 0.0, ...</td>\n",
       "      <td>2</td>\n",
       "      <td>1.0e-03</td>\n",
       "      <td>0.150591</td>\n",
       "      <td>41.033402</td>\n",
       "      <td>3.024181</td>\n",
       "    </tr>\n",
       "  </tbody>\n",
       "</table>\n",
       "</div>"
      ],
      "text/plain": [
       "                                                        clusterer_params  \\\n",
       "clusterer_id                                                               \n",
       "SpectralClustering #0  {'affinity': 'rbf', 'assign_labels': 'kmeans',...   \n",
       "SpectralClustering #1  {'affinity': 'rbf', 'assign_labels': 'kmeans',...   \n",
       "SpectralClustering #2  {'affinity': 'rbf', 'assign_labels': 'kmeans',...   \n",
       "SpectralClustering #3  {'affinity': 'rbf', 'assign_labels': 'kmeans',...   \n",
       "SpectralClustering #4  {'affinity': 'rbf', 'assign_labels': 'kmeans',...   \n",
       "\n",
       "                                                               partition  \\\n",
       "clusterer_id                                                               \n",
       "SpectralClustering #0  [0.0, 0.0, 0.0, 0.0, 0.0, 0.0, 0.0, 0.0, 0.0, ...   \n",
       "SpectralClustering #1  [0.0, 0.0, 0.0, 0.0, 0.0, 0.0, 0.0, 0.0, 0.0, ...   \n",
       "SpectralClustering #2  [0.0, 0.0, 0.0, 0.0, 0.0, 0.0, 0.0, 0.0, 0.0, ...   \n",
       "SpectralClustering #3  [0.0, 0.0, 0.0, 0.0, 0.0, 0.0, 0.0, 0.0, 0.0, ...   \n",
       "SpectralClustering #4  [0.0, 0.0, 0.0, 0.0, 0.0, 0.0, 0.0, 0.0, 0.0, ...   \n",
       "\n",
       "                       n_clusters    gamma  si_score   ch_score  db_score  \n",
       "clusterer_id                                                               \n",
       "SpectralClustering #0           2  1.0e-03  0.150591  41.033402  3.024181  \n",
       "SpectralClustering #1           2  1.0e-03  0.150591  41.033402  3.024181  \n",
       "SpectralClustering #2           2  1.0e-03  0.150591  41.033402  3.024181  \n",
       "SpectralClustering #3           2  1.0e-03  0.150591  41.033402  3.024181  \n",
       "SpectralClustering #4           2  1.0e-03  0.150591  41.033402  3.024181  "
      ]
     },
     "execution_count": 47,
     "metadata": {},
     "output_type": "execute_result"
    }
   ],
   "source": [
    "ensemble.head()"
   ]
  },
  {
   "cell_type": "markdown",
   "metadata": {
    "papermill": {
     "duration": 0.033795,
     "end_time": "2021-03-09T18:24:43.514092",
     "exception": false,
     "start_time": "2021-03-09T18:24:43.480297",
     "status": "completed"
    },
    "tags": []
   },
   "source": [
    "# Cluster quality"
   ]
  },
  {
   "cell_type": "code",
   "execution_count": 48,
   "metadata": {
    "execution": {
     "iopub.execute_input": "2021-03-09T18:24:43.584269Z",
     "iopub.status.busy": "2021-03-09T18:24:43.583909Z",
     "iopub.status.idle": "2021-03-09T18:24:43.605786Z",
     "shell.execute_reply": "2021-03-09T18:24:43.606060Z"
    },
    "papermill": {
     "duration": 0.058183,
     "end_time": "2021-03-09T18:24:43.606163",
     "exception": false,
     "start_time": "2021-03-09T18:24:43.547980",
     "status": "completed"
    },
    "tags": []
   },
   "outputs": [
    {
     "data": {
      "text/html": [
       "<div>\n",
       "<style scoped>\n",
       "    .dataframe tbody tr th:only-of-type {\n",
       "        vertical-align: middle;\n",
       "    }\n",
       "\n",
       "    .dataframe tbody tr th {\n",
       "        vertical-align: top;\n",
       "    }\n",
       "\n",
       "    .dataframe thead th {\n",
       "        text-align: right;\n",
       "    }\n",
       "</style>\n",
       "<table border=\"1\" class=\"dataframe\">\n",
       "  <thead>\n",
       "    <tr style=\"text-align: right;\">\n",
       "      <th></th>\n",
       "      <th></th>\n",
       "      <th>si_score</th>\n",
       "      <th>ch_score</th>\n",
       "      <th>db_score</th>\n",
       "    </tr>\n",
       "    <tr>\n",
       "      <th>n_clusters</th>\n",
       "      <th>gamma</th>\n",
       "      <th></th>\n",
       "      <th></th>\n",
       "      <th></th>\n",
       "    </tr>\n",
       "  </thead>\n",
       "  <tbody>\n",
       "    <tr>\n",
       "      <th rowspan=\"9\" valign=\"top\">2</th>\n",
       "      <th>1.0e-03</th>\n",
       "      <td>0.150591</td>\n",
       "      <td>41.033402</td>\n",
       "      <td>3.024181</td>\n",
       "    </tr>\n",
       "    <tr>\n",
       "      <th>1.0e-05</th>\n",
       "      <td>0.115500</td>\n",
       "      <td>48.835638</td>\n",
       "      <td>4.233984</td>\n",
       "    </tr>\n",
       "    <tr>\n",
       "      <th>1.0e-10</th>\n",
       "      <td>0.115500</td>\n",
       "      <td>48.835638</td>\n",
       "      <td>4.233984</td>\n",
       "    </tr>\n",
       "    <tr>\n",
       "      <th>1.0e-15</th>\n",
       "      <td>0.110206</td>\n",
       "      <td>48.621876</td>\n",
       "      <td>4.361577</td>\n",
       "    </tr>\n",
       "    <tr>\n",
       "      <th>1.0e-17</th>\n",
       "      <td>0.000374</td>\n",
       "      <td>1.022023</td>\n",
       "      <td>10.381917</td>\n",
       "    </tr>\n",
       "    <tr>\n",
       "      <th>1.0e-20</th>\n",
       "      <td>-0.001429</td>\n",
       "      <td>1.042379</td>\n",
       "      <td>17.918396</td>\n",
       "    </tr>\n",
       "    <tr>\n",
       "      <th>1.0e-30</th>\n",
       "      <td>0.002680</td>\n",
       "      <td>1.045981</td>\n",
       "      <td>20.169976</td>\n",
       "    </tr>\n",
       "    <tr>\n",
       "      <th>1.0e-40</th>\n",
       "      <td>0.008068</td>\n",
       "      <td>1.027829</td>\n",
       "      <td>6.679372</td>\n",
       "    </tr>\n",
       "    <tr>\n",
       "      <th>1.0e-50</th>\n",
       "      <td>0.004239</td>\n",
       "      <td>0.955074</td>\n",
       "      <td>11.985777</td>\n",
       "    </tr>\n",
       "    <tr>\n",
       "      <th rowspan=\"9\" valign=\"top\">4</th>\n",
       "      <th>1.0e-03</th>\n",
       "      <td>0.078817</td>\n",
       "      <td>20.727474</td>\n",
       "      <td>1.706998</td>\n",
       "    </tr>\n",
       "    <tr>\n",
       "      <th>1.0e-05</th>\n",
       "      <td>0.076045</td>\n",
       "      <td>26.753358</td>\n",
       "      <td>2.995443</td>\n",
       "    </tr>\n",
       "    <tr>\n",
       "      <th>1.0e-10</th>\n",
       "      <td>0.079387</td>\n",
       "      <td>26.813536</td>\n",
       "      <td>3.018086</td>\n",
       "    </tr>\n",
       "    <tr>\n",
       "      <th>1.0e-15</th>\n",
       "      <td>0.065600</td>\n",
       "      <td>26.915540</td>\n",
       "      <td>3.534388</td>\n",
       "    </tr>\n",
       "    <tr>\n",
       "      <th>1.0e-17</th>\n",
       "      <td>-0.013666</td>\n",
       "      <td>1.015691</td>\n",
       "      <td>20.245931</td>\n",
       "    </tr>\n",
       "    <tr>\n",
       "      <th>1.0e-20</th>\n",
       "      <td>-0.010200</td>\n",
       "      <td>1.029468</td>\n",
       "      <td>20.414273</td>\n",
       "    </tr>\n",
       "    <tr>\n",
       "      <th>1.0e-30</th>\n",
       "      <td>-0.013717</td>\n",
       "      <td>0.973200</td>\n",
       "      <td>18.315348</td>\n",
       "    </tr>\n",
       "    <tr>\n",
       "      <th>1.0e-40</th>\n",
       "      <td>-0.007470</td>\n",
       "      <td>1.007899</td>\n",
       "      <td>11.569401</td>\n",
       "    </tr>\n",
       "    <tr>\n",
       "      <th>1.0e-50</th>\n",
       "      <td>-0.011365</td>\n",
       "      <td>1.002579</td>\n",
       "      <td>19.808182</td>\n",
       "    </tr>\n",
       "    <tr>\n",
       "      <th rowspan=\"9\" valign=\"top\">6</th>\n",
       "      <th>1.0e-03</th>\n",
       "      <td>0.103986</td>\n",
       "      <td>13.017423</td>\n",
       "      <td>1.082495</td>\n",
       "    </tr>\n",
       "    <tr>\n",
       "      <th>1.0e-05</th>\n",
       "      <td>0.059819</td>\n",
       "      <td>21.267711</td>\n",
       "      <td>3.029618</td>\n",
       "    </tr>\n",
       "    <tr>\n",
       "      <th>1.0e-10</th>\n",
       "      <td>0.042455</td>\n",
       "      <td>21.200700</td>\n",
       "      <td>3.335703</td>\n",
       "    </tr>\n",
       "    <tr>\n",
       "      <th>1.0e-15</th>\n",
       "      <td>0.016983</td>\n",
       "      <td>21.529531</td>\n",
       "      <td>4.742925</td>\n",
       "    </tr>\n",
       "    <tr>\n",
       "      <th>1.0e-17</th>\n",
       "      <td>-0.030128</td>\n",
       "      <td>0.989083</td>\n",
       "      <td>22.733668</td>\n",
       "    </tr>\n",
       "    <tr>\n",
       "      <th>1.0e-20</th>\n",
       "      <td>-0.037293</td>\n",
       "      <td>0.982144</td>\n",
       "      <td>16.638146</td>\n",
       "    </tr>\n",
       "    <tr>\n",
       "      <th>1.0e-30</th>\n",
       "      <td>-0.011646</td>\n",
       "      <td>1.016130</td>\n",
       "      <td>15.926247</td>\n",
       "    </tr>\n",
       "    <tr>\n",
       "      <th>1.0e-40</th>\n",
       "      <td>-0.031208</td>\n",
       "      <td>0.985478</td>\n",
       "      <td>10.427630</td>\n",
       "    </tr>\n",
       "    <tr>\n",
       "      <th>1.0e-50</th>\n",
       "      <td>-0.016274</td>\n",
       "      <td>1.010549</td>\n",
       "      <td>18.181217</td>\n",
       "    </tr>\n",
       "    <tr>\n",
       "      <th rowspan=\"9\" valign=\"top\">8</th>\n",
       "      <th>1.0e-03</th>\n",
       "      <td>0.082819</td>\n",
       "      <td>12.333725</td>\n",
       "      <td>1.229475</td>\n",
       "    </tr>\n",
       "    <tr>\n",
       "      <th>1.0e-05</th>\n",
       "      <td>0.018254</td>\n",
       "      <td>19.081450</td>\n",
       "      <td>3.780601</td>\n",
       "    </tr>\n",
       "    <tr>\n",
       "      <th>1.0e-10</th>\n",
       "      <td>0.014179</td>\n",
       "      <td>18.705418</td>\n",
       "      <td>5.536760</td>\n",
       "    </tr>\n",
       "    <tr>\n",
       "      <th>1.0e-15</th>\n",
       "      <td>0.010458</td>\n",
       "      <td>18.428874</td>\n",
       "      <td>7.075794</td>\n",
       "    </tr>\n",
       "    <tr>\n",
       "      <th>1.0e-17</th>\n",
       "      <td>-0.025938</td>\n",
       "      <td>0.998824</td>\n",
       "      <td>18.110660</td>\n",
       "    </tr>\n",
       "    <tr>\n",
       "      <th>1.0e-20</th>\n",
       "      <td>-0.018591</td>\n",
       "      <td>1.018767</td>\n",
       "      <td>16.024628</td>\n",
       "    </tr>\n",
       "    <tr>\n",
       "      <th>1.0e-30</th>\n",
       "      <td>-0.017955</td>\n",
       "      <td>1.010126</td>\n",
       "      <td>18.808013</td>\n",
       "    </tr>\n",
       "    <tr>\n",
       "      <th>1.0e-40</th>\n",
       "      <td>-0.028988</td>\n",
       "      <td>0.997285</td>\n",
       "      <td>14.127973</td>\n",
       "    </tr>\n",
       "    <tr>\n",
       "      <th>1.0e-50</th>\n",
       "      <td>-0.019266</td>\n",
       "      <td>1.020520</td>\n",
       "      <td>16.033674</td>\n",
       "    </tr>\n",
       "    <tr>\n",
       "      <th rowspan=\"9\" valign=\"top\">10</th>\n",
       "      <th>1.0e-03</th>\n",
       "      <td>0.084417</td>\n",
       "      <td>11.535573</td>\n",
       "      <td>1.097601</td>\n",
       "    </tr>\n",
       "    <tr>\n",
       "      <th>1.0e-05</th>\n",
       "      <td>0.010778</td>\n",
       "      <td>17.026554</td>\n",
       "      <td>5.897892</td>\n",
       "    </tr>\n",
       "    <tr>\n",
       "      <th>1.0e-10</th>\n",
       "      <td>0.011103</td>\n",
       "      <td>17.020568</td>\n",
       "      <td>5.681249</td>\n",
       "    </tr>\n",
       "    <tr>\n",
       "      <th>1.0e-15</th>\n",
       "      <td>0.005791</td>\n",
       "      <td>15.609472</td>\n",
       "      <td>8.948770</td>\n",
       "    </tr>\n",
       "    <tr>\n",
       "      <th>1.0e-17</th>\n",
       "      <td>-0.019612</td>\n",
       "      <td>1.011058</td>\n",
       "      <td>12.277929</td>\n",
       "    </tr>\n",
       "    <tr>\n",
       "      <th>1.0e-20</th>\n",
       "      <td>-0.019378</td>\n",
       "      <td>0.992747</td>\n",
       "      <td>14.998366</td>\n",
       "    </tr>\n",
       "    <tr>\n",
       "      <th>1.0e-30</th>\n",
       "      <td>-0.025109</td>\n",
       "      <td>0.983961</td>\n",
       "      <td>12.283353</td>\n",
       "    </tr>\n",
       "    <tr>\n",
       "      <th>1.0e-40</th>\n",
       "      <td>-0.018929</td>\n",
       "      <td>1.025469</td>\n",
       "      <td>13.933775</td>\n",
       "    </tr>\n",
       "    <tr>\n",
       "      <th>1.0e-50</th>\n",
       "      <td>-0.026812</td>\n",
       "      <td>1.010606</td>\n",
       "      <td>15.584400</td>\n",
       "    </tr>\n",
       "    <tr>\n",
       "      <th rowspan=\"9\" valign=\"top\">20</th>\n",
       "      <th>1.0e-03</th>\n",
       "      <td>0.010572</td>\n",
       "      <td>10.163655</td>\n",
       "      <td>2.421446</td>\n",
       "    </tr>\n",
       "    <tr>\n",
       "      <th>1.0e-05</th>\n",
       "      <td>0.006207</td>\n",
       "      <td>11.549773</td>\n",
       "      <td>6.472166</td>\n",
       "    </tr>\n",
       "    <tr>\n",
       "      <th>1.0e-10</th>\n",
       "      <td>0.005902</td>\n",
       "      <td>11.355356</td>\n",
       "      <td>6.739568</td>\n",
       "    </tr>\n",
       "    <tr>\n",
       "      <th>1.0e-15</th>\n",
       "      <td>0.002759</td>\n",
       "      <td>10.172253</td>\n",
       "      <td>9.084643</td>\n",
       "    </tr>\n",
       "    <tr>\n",
       "      <th>1.0e-17</th>\n",
       "      <td>-0.049042</td>\n",
       "      <td>0.993380</td>\n",
       "      <td>9.678740</td>\n",
       "    </tr>\n",
       "    <tr>\n",
       "      <th>1.0e-20</th>\n",
       "      <td>-0.034869</td>\n",
       "      <td>1.009669</td>\n",
       "      <td>11.199800</td>\n",
       "    </tr>\n",
       "    <tr>\n",
       "      <th>1.0e-30</th>\n",
       "      <td>-0.029184</td>\n",
       "      <td>1.034429</td>\n",
       "      <td>11.058819</td>\n",
       "    </tr>\n",
       "    <tr>\n",
       "      <th>1.0e-40</th>\n",
       "      <td>-0.046406</td>\n",
       "      <td>0.989425</td>\n",
       "      <td>10.806898</td>\n",
       "    </tr>\n",
       "    <tr>\n",
       "      <th>1.0e-50</th>\n",
       "      <td>-0.072156</td>\n",
       "      <td>1.000276</td>\n",
       "      <td>9.492275</td>\n",
       "    </tr>\n",
       "    <tr>\n",
       "      <th rowspan=\"9\" valign=\"top\">30</th>\n",
       "      <th>1.0e-03</th>\n",
       "      <td>0.004226</td>\n",
       "      <td>8.552771</td>\n",
       "      <td>3.442563</td>\n",
       "    </tr>\n",
       "    <tr>\n",
       "      <th>1.0e-05</th>\n",
       "      <td>0.001795</td>\n",
       "      <td>8.979579</td>\n",
       "      <td>6.485192</td>\n",
       "    </tr>\n",
       "    <tr>\n",
       "      <th>1.0e-10</th>\n",
       "      <td>0.002774</td>\n",
       "      <td>9.024807</td>\n",
       "      <td>6.243959</td>\n",
       "    </tr>\n",
       "    <tr>\n",
       "      <th>1.0e-15</th>\n",
       "      <td>0.002125</td>\n",
       "      <td>7.602804</td>\n",
       "      <td>8.746604</td>\n",
       "    </tr>\n",
       "    <tr>\n",
       "      <th>1.0e-17</th>\n",
       "      <td>-0.086008</td>\n",
       "      <td>1.003078</td>\n",
       "      <td>8.372621</td>\n",
       "    </tr>\n",
       "    <tr>\n",
       "      <th>1.0e-20</th>\n",
       "      <td>-0.055240</td>\n",
       "      <td>1.033070</td>\n",
       "      <td>7.755411</td>\n",
       "    </tr>\n",
       "    <tr>\n",
       "      <th>1.0e-30</th>\n",
       "      <td>-0.053333</td>\n",
       "      <td>1.004962</td>\n",
       "      <td>9.189640</td>\n",
       "    </tr>\n",
       "    <tr>\n",
       "      <th>1.0e-40</th>\n",
       "      <td>-0.048905</td>\n",
       "      <td>0.996519</td>\n",
       "      <td>8.578253</td>\n",
       "    </tr>\n",
       "    <tr>\n",
       "      <th>1.0e-50</th>\n",
       "      <td>-0.055735</td>\n",
       "      <td>1.005768</td>\n",
       "      <td>7.293853</td>\n",
       "    </tr>\n",
       "    <tr>\n",
       "      <th rowspan=\"9\" valign=\"top\">40</th>\n",
       "      <th>1.0e-03</th>\n",
       "      <td>-0.000231</td>\n",
       "      <td>7.513210</td>\n",
       "      <td>3.816455</td>\n",
       "    </tr>\n",
       "    <tr>\n",
       "      <th>1.0e-05</th>\n",
       "      <td>0.001366</td>\n",
       "      <td>7.590853</td>\n",
       "      <td>6.202477</td>\n",
       "    </tr>\n",
       "    <tr>\n",
       "      <th>1.0e-10</th>\n",
       "      <td>0.002545</td>\n",
       "      <td>7.542828</td>\n",
       "      <td>6.192754</td>\n",
       "    </tr>\n",
       "    <tr>\n",
       "      <th>1.0e-15</th>\n",
       "      <td>0.000853</td>\n",
       "      <td>6.177065</td>\n",
       "      <td>8.462733</td>\n",
       "    </tr>\n",
       "    <tr>\n",
       "      <th>1.0e-17</th>\n",
       "      <td>-0.075862</td>\n",
       "      <td>1.015891</td>\n",
       "      <td>7.343740</td>\n",
       "    </tr>\n",
       "    <tr>\n",
       "      <th>1.0e-20</th>\n",
       "      <td>-0.048360</td>\n",
       "      <td>1.006736</td>\n",
       "      <td>7.465529</td>\n",
       "    </tr>\n",
       "    <tr>\n",
       "      <th>1.0e-30</th>\n",
       "      <td>-0.073960</td>\n",
       "      <td>1.009566</td>\n",
       "      <td>7.083315</td>\n",
       "    </tr>\n",
       "    <tr>\n",
       "      <th>1.0e-40</th>\n",
       "      <td>-0.065952</td>\n",
       "      <td>1.018906</td>\n",
       "      <td>7.248814</td>\n",
       "    </tr>\n",
       "    <tr>\n",
       "      <th>1.0e-50</th>\n",
       "      <td>-0.072116</td>\n",
       "      <td>1.018716</td>\n",
       "      <td>8.012020</td>\n",
       "    </tr>\n",
       "    <tr>\n",
       "      <th rowspan=\"9\" valign=\"top\">50</th>\n",
       "      <th>1.0e-03</th>\n",
       "      <td>-0.001141</td>\n",
       "      <td>6.636880</td>\n",
       "      <td>4.005213</td>\n",
       "    </tr>\n",
       "    <tr>\n",
       "      <th>1.0e-05</th>\n",
       "      <td>0.005228</td>\n",
       "      <td>6.677467</td>\n",
       "      <td>5.986572</td>\n",
       "    </tr>\n",
       "    <tr>\n",
       "      <th>1.0e-10</th>\n",
       "      <td>0.001216</td>\n",
       "      <td>6.746160</td>\n",
       "      <td>5.710713</td>\n",
       "    </tr>\n",
       "    <tr>\n",
       "      <th>1.0e-15</th>\n",
       "      <td>-0.016907</td>\n",
       "      <td>5.175139</td>\n",
       "      <td>8.118365</td>\n",
       "    </tr>\n",
       "    <tr>\n",
       "      <th>1.0e-17</th>\n",
       "      <td>-0.087778</td>\n",
       "      <td>1.012669</td>\n",
       "      <td>6.807868</td>\n",
       "    </tr>\n",
       "    <tr>\n",
       "      <th>1.0e-20</th>\n",
       "      <td>-0.052373</td>\n",
       "      <td>0.997842</td>\n",
       "      <td>7.321878</td>\n",
       "    </tr>\n",
       "    <tr>\n",
       "      <th>1.0e-30</th>\n",
       "      <td>-0.059068</td>\n",
       "      <td>1.009838</td>\n",
       "      <td>6.061294</td>\n",
       "    </tr>\n",
       "    <tr>\n",
       "      <th>1.0e-40</th>\n",
       "      <td>-0.068021</td>\n",
       "      <td>0.995281</td>\n",
       "      <td>7.163807</td>\n",
       "    </tr>\n",
       "    <tr>\n",
       "      <th>1.0e-50</th>\n",
       "      <td>-0.075389</td>\n",
       "      <td>1.011156</td>\n",
       "      <td>6.554819</td>\n",
       "    </tr>\n",
       "    <tr>\n",
       "      <th rowspan=\"9\" valign=\"top\">60</th>\n",
       "      <th>1.0e-03</th>\n",
       "      <td>0.002081</td>\n",
       "      <td>6.064527</td>\n",
       "      <td>3.865740</td>\n",
       "    </tr>\n",
       "    <tr>\n",
       "      <th>1.0e-05</th>\n",
       "      <td>0.003107</td>\n",
       "      <td>6.102765</td>\n",
       "      <td>5.342202</td>\n",
       "    </tr>\n",
       "    <tr>\n",
       "      <th>1.0e-10</th>\n",
       "      <td>0.003711</td>\n",
       "      <td>6.112597</td>\n",
       "      <td>5.307832</td>\n",
       "    </tr>\n",
       "    <tr>\n",
       "      <th>1.0e-15</th>\n",
       "      <td>-0.007051</td>\n",
       "      <td>4.566114</td>\n",
       "      <td>7.493384</td>\n",
       "    </tr>\n",
       "    <tr>\n",
       "      <th>1.0e-17</th>\n",
       "      <td>-0.096066</td>\n",
       "      <td>1.003643</td>\n",
       "      <td>6.883841</td>\n",
       "    </tr>\n",
       "    <tr>\n",
       "      <th>1.0e-20</th>\n",
       "      <td>-0.091638</td>\n",
       "      <td>1.001854</td>\n",
       "      <td>6.571099</td>\n",
       "    </tr>\n",
       "    <tr>\n",
       "      <th>1.0e-30</th>\n",
       "      <td>-0.114329</td>\n",
       "      <td>1.009539</td>\n",
       "      <td>6.433750</td>\n",
       "    </tr>\n",
       "    <tr>\n",
       "      <th>1.0e-40</th>\n",
       "      <td>-0.070125</td>\n",
       "      <td>1.004341</td>\n",
       "      <td>6.161479</td>\n",
       "    </tr>\n",
       "    <tr>\n",
       "      <th>1.0e-50</th>\n",
       "      <td>-0.078036</td>\n",
       "      <td>1.024168</td>\n",
       "      <td>6.153568</td>\n",
       "    </tr>\n",
       "  </tbody>\n",
       "</table>\n",
       "</div>"
      ],
      "text/plain": [
       "                    si_score   ch_score   db_score\n",
       "n_clusters gamma                                  \n",
       "2          1.0e-03  0.150591  41.033402   3.024181\n",
       "           1.0e-05  0.115500  48.835638   4.233984\n",
       "           1.0e-10  0.115500  48.835638   4.233984\n",
       "           1.0e-15  0.110206  48.621876   4.361577\n",
       "           1.0e-17  0.000374   1.022023  10.381917\n",
       "           1.0e-20 -0.001429   1.042379  17.918396\n",
       "           1.0e-30  0.002680   1.045981  20.169976\n",
       "           1.0e-40  0.008068   1.027829   6.679372\n",
       "           1.0e-50  0.004239   0.955074  11.985777\n",
       "4          1.0e-03  0.078817  20.727474   1.706998\n",
       "           1.0e-05  0.076045  26.753358   2.995443\n",
       "           1.0e-10  0.079387  26.813536   3.018086\n",
       "           1.0e-15  0.065600  26.915540   3.534388\n",
       "           1.0e-17 -0.013666   1.015691  20.245931\n",
       "           1.0e-20 -0.010200   1.029468  20.414273\n",
       "           1.0e-30 -0.013717   0.973200  18.315348\n",
       "           1.0e-40 -0.007470   1.007899  11.569401\n",
       "           1.0e-50 -0.011365   1.002579  19.808182\n",
       "6          1.0e-03  0.103986  13.017423   1.082495\n",
       "           1.0e-05  0.059819  21.267711   3.029618\n",
       "           1.0e-10  0.042455  21.200700   3.335703\n",
       "           1.0e-15  0.016983  21.529531   4.742925\n",
       "           1.0e-17 -0.030128   0.989083  22.733668\n",
       "           1.0e-20 -0.037293   0.982144  16.638146\n",
       "           1.0e-30 -0.011646   1.016130  15.926247\n",
       "           1.0e-40 -0.031208   0.985478  10.427630\n",
       "           1.0e-50 -0.016274   1.010549  18.181217\n",
       "8          1.0e-03  0.082819  12.333725   1.229475\n",
       "           1.0e-05  0.018254  19.081450   3.780601\n",
       "           1.0e-10  0.014179  18.705418   5.536760\n",
       "           1.0e-15  0.010458  18.428874   7.075794\n",
       "           1.0e-17 -0.025938   0.998824  18.110660\n",
       "           1.0e-20 -0.018591   1.018767  16.024628\n",
       "           1.0e-30 -0.017955   1.010126  18.808013\n",
       "           1.0e-40 -0.028988   0.997285  14.127973\n",
       "           1.0e-50 -0.019266   1.020520  16.033674\n",
       "10         1.0e-03  0.084417  11.535573   1.097601\n",
       "           1.0e-05  0.010778  17.026554   5.897892\n",
       "           1.0e-10  0.011103  17.020568   5.681249\n",
       "           1.0e-15  0.005791  15.609472   8.948770\n",
       "           1.0e-17 -0.019612   1.011058  12.277929\n",
       "           1.0e-20 -0.019378   0.992747  14.998366\n",
       "           1.0e-30 -0.025109   0.983961  12.283353\n",
       "           1.0e-40 -0.018929   1.025469  13.933775\n",
       "           1.0e-50 -0.026812   1.010606  15.584400\n",
       "20         1.0e-03  0.010572  10.163655   2.421446\n",
       "           1.0e-05  0.006207  11.549773   6.472166\n",
       "           1.0e-10  0.005902  11.355356   6.739568\n",
       "           1.0e-15  0.002759  10.172253   9.084643\n",
       "           1.0e-17 -0.049042   0.993380   9.678740\n",
       "           1.0e-20 -0.034869   1.009669  11.199800\n",
       "           1.0e-30 -0.029184   1.034429  11.058819\n",
       "           1.0e-40 -0.046406   0.989425  10.806898\n",
       "           1.0e-50 -0.072156   1.000276   9.492275\n",
       "30         1.0e-03  0.004226   8.552771   3.442563\n",
       "           1.0e-05  0.001795   8.979579   6.485192\n",
       "           1.0e-10  0.002774   9.024807   6.243959\n",
       "           1.0e-15  0.002125   7.602804   8.746604\n",
       "           1.0e-17 -0.086008   1.003078   8.372621\n",
       "           1.0e-20 -0.055240   1.033070   7.755411\n",
       "           1.0e-30 -0.053333   1.004962   9.189640\n",
       "           1.0e-40 -0.048905   0.996519   8.578253\n",
       "           1.0e-50 -0.055735   1.005768   7.293853\n",
       "40         1.0e-03 -0.000231   7.513210   3.816455\n",
       "           1.0e-05  0.001366   7.590853   6.202477\n",
       "           1.0e-10  0.002545   7.542828   6.192754\n",
       "           1.0e-15  0.000853   6.177065   8.462733\n",
       "           1.0e-17 -0.075862   1.015891   7.343740\n",
       "           1.0e-20 -0.048360   1.006736   7.465529\n",
       "           1.0e-30 -0.073960   1.009566   7.083315\n",
       "           1.0e-40 -0.065952   1.018906   7.248814\n",
       "           1.0e-50 -0.072116   1.018716   8.012020\n",
       "50         1.0e-03 -0.001141   6.636880   4.005213\n",
       "           1.0e-05  0.005228   6.677467   5.986572\n",
       "           1.0e-10  0.001216   6.746160   5.710713\n",
       "           1.0e-15 -0.016907   5.175139   8.118365\n",
       "           1.0e-17 -0.087778   1.012669   6.807868\n",
       "           1.0e-20 -0.052373   0.997842   7.321878\n",
       "           1.0e-30 -0.059068   1.009838   6.061294\n",
       "           1.0e-40 -0.068021   0.995281   7.163807\n",
       "           1.0e-50 -0.075389   1.011156   6.554819\n",
       "60         1.0e-03  0.002081   6.064527   3.865740\n",
       "           1.0e-05  0.003107   6.102765   5.342202\n",
       "           1.0e-10  0.003711   6.112597   5.307832\n",
       "           1.0e-15 -0.007051   4.566114   7.493384\n",
       "           1.0e-17 -0.096066   1.003643   6.883841\n",
       "           1.0e-20 -0.091638   1.001854   6.571099\n",
       "           1.0e-30 -0.114329   1.009539   6.433750\n",
       "           1.0e-40 -0.070125   1.004341   6.161479\n",
       "           1.0e-50 -0.078036   1.024168   6.153568"
      ]
     },
     "metadata": {},
     "output_type": "display_data"
    }
   ],
   "source": [
    "with pd.option_context(\"display.max_rows\", None, \"display.max_columns\", None):\n",
    "    _df = ensemble.groupby([\"n_clusters\", \"gamma\"]).mean()\n",
    "    display(_df)"
   ]
  },
  {
   "cell_type": "code",
   "execution_count": 49,
   "metadata": {
    "execution": {
     "iopub.execute_input": "2021-03-09T18:24:43.678884Z",
     "iopub.status.busy": "2021-03-09T18:24:43.678520Z",
     "iopub.status.idle": "2021-03-09T18:24:46.101376Z",
     "shell.execute_reply": "2021-03-09T18:24:46.101678Z"
    },
    "papermill": {
     "duration": 2.460563,
     "end_time": "2021-03-09T18:24:46.101781",
     "exception": false,
     "start_time": "2021-03-09T18:24:43.641218",
     "status": "completed"
    },
    "tags": []
   },
   "outputs": [
    {
     "data": {
      "image/png": "[encoded data removed]",
      "text/plain": [
       "<Figure size 1008x432 with 1 Axes>"
      ]
     },
     "metadata": {},
     "output_type": "display_data"
    }
   ],
   "source": [
    "with sns.plotting_context(\"talk\", font_scale=0.75), sns.axes_style(\n",
    "    \"whitegrid\", {\"grid.linestyle\": \"--\"}\n",
    "):\n",
    "    fig = plt.figure(figsize=(14, 6))\n",
    "    ax = sns.pointplot(data=ensemble, x=\"n_clusters\", y=\"si_score\", hue=\"gamma\")\n",
    "    ax.set_ylabel(\"Silhouette index\\n(higher is better)\")\n",
    "    ax.set_xlabel(\"Number of clusters ($k$)\")\n",
    "    ax.set_xticklabels(ax.get_xticklabels(), rotation=45)\n",
    "    plt.grid(True)\n",
    "    plt.tight_layout()"
   ]
  },
  {
   "cell_type": "code",
   "execution_count": 50,
   "metadata": {
    "execution": {
     "iopub.execute_input": "2021-03-09T18:24:46.180142Z",
     "iopub.status.busy": "2021-03-09T18:24:46.179774Z",
     "iopub.status.idle": "2021-03-09T18:24:48.151344Z",
     "shell.execute_reply": "2021-03-09T18:24:48.151627Z"
    },
    "papermill": {
     "duration": 2.01217,
     "end_time": "2021-03-09T18:24:48.151725",
     "exception": false,
     "start_time": "2021-03-09T18:24:46.139555",
     "status": "completed"
    },
    "tags": []
   },
   "outputs": [
    {
     "data": {
      "image/png": "[encoded data removed]",
      "text/plain": [
       "<Figure size 1008x432 with 1 Axes>"
      ]
     },
     "metadata": {},
     "output_type": "display_data"
    }
   ],
   "source": [
    "with sns.plotting_context(\"talk\", font_scale=0.75), sns.axes_style(\n",
    "    \"whitegrid\", {\"grid.linestyle\": \"--\"}\n",
    "):\n",
    "    fig = plt.figure(figsize=(14, 6))\n",
    "    ax = sns.pointplot(data=ensemble, x=\"n_clusters\", y=\"ch_score\", hue=\"gamma\")\n",
    "    ax.set_ylabel(\"Calinski-Harabasz index\\n(higher is better)\")\n",
    "    ax.set_xlabel(\"Number of clusters ($k$)\")\n",
    "    ax.set_xticklabels(ax.get_xticklabels(), rotation=45)\n",
    "    plt.grid(True)\n",
    "    plt.tight_layout()"
   ]
  },
  {
   "cell_type": "code",
   "execution_count": 51,
   "metadata": {
    "execution": {
     "iopub.execute_input": "2021-03-09T18:24:48.232687Z",
     "iopub.status.busy": "2021-03-09T18:24:48.232322Z",
     "iopub.status.idle": "2021-03-09T18:24:50.271325Z",
     "shell.execute_reply": "2021-03-09T18:24:50.271646Z"
    },
    "papermill": {
     "duration": 2.081179,
     "end_time": "2021-03-09T18:24:50.271747",
     "exception": false,
     "start_time": "2021-03-09T18:24:48.190568",
     "status": "completed"
    },
    "tags": []
   },
   "outputs": [
    {
     "data": {
      "image/png": "[encoded data removed]",
      "text/plain": [
       "<Figure size 1008x432 with 1 Axes>"
      ]
     },
     "metadata": {},
     "output_type": "display_data"
    }
   ],
   "source": [
    "with sns.plotting_context(\"talk\", font_scale=0.75), sns.axes_style(\n",
    "    \"whitegrid\", {\"grid.linestyle\": \"--\"}\n",
    "):\n",
    "    fig = plt.figure(figsize=(14, 6))\n",
    "    ax = sns.pointplot(data=ensemble, x=\"n_clusters\", y=\"db_score\", hue=\"gamma\")\n",
    "    ax.set_ylabel(\"Davies-Bouldin index\\n(lower is better)\")\n",
    "    ax.set_xlabel(\"Number of clusters ($k$)\")\n",
    "    ax.set_xticklabels(ax.get_xticklabels(), rotation=45)\n",
    "    plt.grid(True)\n",
    "    plt.tight_layout()"
   ]
  },
  {
   "cell_type": "markdown",
   "metadata": {
    "papermill": {
     "duration": 0.042583,
     "end_time": "2021-03-09T18:24:50.356276",
     "exception": false,
     "start_time": "2021-03-09T18:24:50.313693",
     "status": "completed"
    },
    "tags": []
   },
   "source": [
    "# Stability"
   ]
  },
  {
   "cell_type": "markdown",
   "metadata": {
    "papermill": {
     "duration": 0.041972,
     "end_time": "2021-03-09T18:24:50.439454",
     "exception": false,
     "start_time": "2021-03-09T18:24:50.397482",
     "status": "completed"
    },
    "tags": []
   },
   "source": [
    "## Group ensemble by n_clusters"
   ]
  },
  {
   "cell_type": "code",
   "execution_count": 52,
   "metadata": {
    "execution": {
     "iopub.execute_input": "2021-03-09T18:24:50.525917Z",
     "iopub.status.busy": "2021-03-09T18:24:50.525552Z",
     "iopub.status.idle": "2021-03-09T18:24:50.556381Z",
     "shell.execute_reply": "2021-03-09T18:24:50.556008Z"
    },
    "papermill": {
     "duration": 0.074815,
     "end_time": "2021-03-09T18:24:50.556464",
     "exception": false,
     "start_time": "2021-03-09T18:24:50.481649",
     "status": "completed"
    },
    "tags": []
   },
   "outputs": [],
   "source": [
    "parts = ensemble.groupby([\"gamma\", \"n_clusters\"]).apply(\n",
    "    lambda x: np.concatenate(x[\"partition\"].apply(lambda x: x.reshape(1, -1)), axis=0)\n",
    ")"
   ]
  },
  {
   "cell_type": "code",
   "execution_count": 53,
   "metadata": {
    "execution": {
     "iopub.execute_input": "2021-03-09T18:24:50.642619Z",
     "iopub.status.busy": "2021-03-09T18:24:50.642236Z",
     "iopub.status.idle": "2021-03-09T18:24:50.653841Z",
     "shell.execute_reply": "2021-03-09T18:24:50.653471Z"
    },
    "papermill": {
     "duration": 0.056119,
     "end_time": "2021-03-09T18:24:50.653925",
     "exception": false,
     "start_time": "2021-03-09T18:24:50.597806",
     "status": "completed"
    },
    "tags": []
   },
   "outputs": [
    {
     "data": {
      "text/plain": [
       "(90,)"
      ]
     },
     "execution_count": 53,
     "metadata": {},
     "output_type": "execute_result"
    }
   ],
   "source": [
    "parts.shape"
   ]
  },
  {
   "cell_type": "code",
   "execution_count": 54,
   "metadata": {
    "execution": {
     "iopub.execute_input": "2021-03-09T18:24:50.741347Z",
     "iopub.status.busy": "2021-03-09T18:24:50.740990Z",
     "iopub.status.idle": "2021-03-09T18:24:50.763165Z",
     "shell.execute_reply": "2021-03-09T18:24:50.762856Z"
    },
    "papermill": {
     "duration": 0.066445,
     "end_time": "2021-03-09T18:24:50.763247",
     "exception": false,
     "start_time": "2021-03-09T18:24:50.696802",
     "status": "completed"
    },
    "tags": []
   },
   "outputs": [
    {
     "data": {
      "text/plain": [
       "gamma    n_clusters\n",
       "1.0e-03  2             [[0.0, 0.0, 0.0, 0.0, 0.0, 0.0, 0.0, 0.0, 0.0,...\n",
       "         4             [[0.0, 0.0, 0.0, 0.0, 0.0, 0.0, 0.0, 0.0, 0.0,...\n",
       "         6             [[0.0, 0.0, 0.0, 0.0, 0.0, 0.0, 0.0, 0.0, 0.0,...\n",
       "         8             [[0.0, 0.0, 0.0, 0.0, 0.0, 0.0, 0.0, 0.0, 0.0,...\n",
       "         10            [[0.0, 0.0, 0.0, 0.0, 0.0, 0.0, 0.0, 0.0, 0.0,...\n",
       "dtype: object"
      ]
     },
     "execution_count": 54,
     "metadata": {},
     "output_type": "execute_result"
    }
   ],
   "source": [
    "parts.head()"
   ]
  },
  {
   "cell_type": "code",
   "execution_count": 55,
   "metadata": {
    "execution": {
     "iopub.execute_input": "2021-03-09T18:24:50.849515Z",
     "iopub.status.busy": "2021-03-09T18:24:50.849159Z",
     "iopub.status.idle": "2021-03-09T18:24:50.860402Z",
     "shell.execute_reply": "2021-03-09T18:24:50.860039Z"
    },
    "papermill": {
     "duration": 0.055423,
     "end_time": "2021-03-09T18:24:50.860484",
     "exception": false,
     "start_time": "2021-03-09T18:24:50.805061",
     "status": "completed"
    },
    "tags": []
   },
   "outputs": [
    {
     "data": {
      "text/plain": [
       "(5, 3752)"
      ]
     },
     "execution_count": 55,
     "metadata": {},
     "output_type": "execute_result"
    }
   ],
   "source": [
    "parts.iloc[0].shape"
   ]
  },
  {
   "cell_type": "code",
   "execution_count": 56,
   "metadata": {
    "execution": {
     "iopub.execute_input": "2021-03-09T18:24:50.948559Z",
     "iopub.status.busy": "2021-03-09T18:24:50.948199Z",
     "iopub.status.idle": "2021-03-09T18:24:50.962492Z",
     "shell.execute_reply": "2021-03-09T18:24:50.962123Z"
    },
    "papermill": {
     "duration": 0.059282,
     "end_time": "2021-03-09T18:24:50.962575",
     "exception": false,
     "start_time": "2021-03-09T18:24:50.903293",
     "status": "completed"
    },
    "tags": []
   },
   "outputs": [],
   "source": [
    "assert np.all(\n",
    "    [\n",
    "        parts.loc[k].shape == (int(CLUSTERING_OPTIONS[\"N_REPS_PER_K\"]), data.shape[0])\n",
    "        for k in parts.index\n",
    "    ]\n",
    ")"
   ]
  },
  {
   "cell_type": "markdown",
   "metadata": {
    "papermill": {
     "duration": 0.044105,
     "end_time": "2021-03-09T18:24:51.049720",
     "exception": false,
     "start_time": "2021-03-09T18:24:51.005615",
     "status": "completed"
    },
    "tags": []
   },
   "source": [
    "## Compute stability"
   ]
  },
  {
   "cell_type": "code",
   "execution_count": 57,
   "metadata": {
    "execution": {
     "iopub.execute_input": "2021-03-09T18:24:51.139064Z",
     "iopub.status.busy": "2021-03-09T18:24:51.138693Z",
     "iopub.status.idle": "2021-03-09T18:24:51.149268Z",
     "shell.execute_reply": "2021-03-09T18:24:51.148894Z"
    },
    "papermill": {
     "duration": 0.055914,
     "end_time": "2021-03-09T18:24:51.149354",
     "exception": false,
     "start_time": "2021-03-09T18:24:51.093440",
     "status": "completed"
    },
    "tags": []
   },
   "outputs": [],
   "source": [
    "from sklearn.metrics import adjusted_rand_score as ari\n",
    "from scipy.spatial.distance import pdist"
   ]
  },
  {
   "cell_type": "code",
   "execution_count": 58,
   "metadata": {
    "execution": {
     "iopub.execute_input": "2021-03-09T18:24:51.236462Z",
     "iopub.status.busy": "2021-03-09T18:24:51.236091Z",
     "iopub.status.idle": "2021-03-09T18:24:52.160516Z",
     "shell.execute_reply": "2021-03-09T18:24:52.160154Z"
    },
    "papermill": {
     "duration": 0.969014,
     "end_time": "2021-03-09T18:24:52.160597",
     "exception": false,
     "start_time": "2021-03-09T18:24:51.191583",
     "status": "completed"
    },
    "tags": []
   },
   "outputs": [],
   "source": [
    "parts_ari = pd.Series(\n",
    "    {k: pdist(parts.loc[k], metric=ari) for k in parts.index}, name=\"n_clusters\"\n",
    ")"
   ]
  },
  {
   "cell_type": "code",
   "execution_count": 59,
   "metadata": {
    "execution": {
     "iopub.execute_input": "2021-03-09T18:24:52.247237Z",
     "iopub.status.busy": "2021-03-09T18:24:52.246877Z",
     "iopub.status.idle": "2021-03-09T18:24:52.260490Z",
     "shell.execute_reply": "2021-03-09T18:24:52.260123Z"
    },
    "papermill": {
     "duration": 0.058098,
     "end_time": "2021-03-09T18:24:52.260574",
     "exception": false,
     "start_time": "2021-03-09T18:24:52.202476",
     "status": "completed"
    },
    "tags": []
   },
   "outputs": [
    {
     "data": {
      "text/plain": [
       "1.0e-03  2     1.000000\n",
       "1.0e-05  2     1.000000\n",
       "1.0e-03  6     1.000000\n",
       "         8     1.000000\n",
       "         10    1.000000\n",
       "1.0e-10  4     1.000000\n",
       "         2     1.000000\n",
       "1.0e-05  4     0.995818\n",
       "1.0e-10  6     0.986798\n",
       "1.0e-03  4     0.986266\n",
       "1.0e-05  8     0.966363\n",
       "1.0e-15  2     0.906711\n",
       "1.0e-05  6     0.787118\n",
       "1.0e-15  6     0.744010\n",
       "         4     0.695673\n",
       "Name: n_clusters, dtype: float64"
      ]
     },
     "metadata": {},
     "output_type": "display_data"
    }
   ],
   "source": [
    "parts_ari_stability = parts_ari.apply(lambda x: x.mean())\n",
    "display(parts_ari_stability.sort_values(ascending=False).head(15))"
   ]
  },
  {
   "cell_type": "code",
   "execution_count": 60,
   "metadata": {
    "execution": {
     "iopub.execute_input": "2021-03-09T18:24:52.350484Z",
     "iopub.status.busy": "2021-03-09T18:24:52.350125Z",
     "iopub.status.idle": "2021-03-09T18:24:52.361899Z",
     "shell.execute_reply": "2021-03-09T18:24:52.362180Z"
    },
    "papermill": {
     "duration": 0.057626,
     "end_time": "2021-03-09T18:24:52.362289",
     "exception": false,
     "start_time": "2021-03-09T18:24:52.304663",
     "status": "completed"
    },
    "tags": []
   },
   "outputs": [],
   "source": [
    "parts_ari_df = pd.DataFrame.from_records(parts_ari.tolist()).set_index(\n",
    "    parts_ari.index.copy()\n",
    ")\n",
    "parts_ari_df.index.rename([\"gamma\", \"n_clusters\"], inplace=True)"
   ]
  },
  {
   "cell_type": "code",
   "execution_count": 61,
   "metadata": {
    "execution": {
     "iopub.execute_input": "2021-03-09T18:24:52.451818Z",
     "iopub.status.busy": "2021-03-09T18:24:52.451456Z",
     "iopub.status.idle": "2021-03-09T18:24:52.462821Z",
     "shell.execute_reply": "2021-03-09T18:24:52.462444Z"
    },
    "papermill": {
     "duration": 0.056736,
     "end_time": "2021-03-09T18:24:52.462904",
     "exception": false,
     "start_time": "2021-03-09T18:24:52.406168",
     "status": "completed"
    },
    "tags": []
   },
   "outputs": [
    {
     "data": {
      "text/plain": [
       "(90, 10)"
      ]
     },
     "execution_count": 61,
     "metadata": {},
     "output_type": "execute_result"
    }
   ],
   "source": [
    "parts_ari_df.shape"
   ]
  },
  {
   "cell_type": "code",
   "execution_count": 62,
   "metadata": {
    "execution": {
     "iopub.execute_input": "2021-03-09T18:24:52.553540Z",
     "iopub.status.busy": "2021-03-09T18:24:52.553171Z",
     "iopub.status.idle": "2021-03-09T18:24:52.563951Z",
     "shell.execute_reply": "2021-03-09T18:24:52.563579Z"
    },
    "papermill": {
     "duration": 0.056573,
     "end_time": "2021-03-09T18:24:52.564036",
     "exception": false,
     "start_time": "2021-03-09T18:24:52.507463",
     "status": "completed"
    },
    "tags": []
   },
   "outputs": [],
   "source": [
    "_n_total_parts = int(\n",
    "    CLUSTERING_OPTIONS[\"N_REPS_PER_K\"]\n",
    ")  # * len(CLUSTERING_OPTIONS[\"GAMMAS\"]))\n",
    "\n",
    "assert int(_n_total_parts * (_n_total_parts - 1) / 2) == parts_ari_df.shape[1]"
   ]
  },
  {
   "cell_type": "code",
   "execution_count": 63,
   "metadata": {
    "execution": {
     "iopub.execute_input": "2021-03-09T18:24:52.652291Z",
     "iopub.status.busy": "2021-03-09T18:24:52.651930Z",
     "iopub.status.idle": "2021-03-09T18:24:52.669015Z",
     "shell.execute_reply": "2021-03-09T18:24:52.669287Z"
    },
    "papermill": {
     "duration": 0.062587,
     "end_time": "2021-03-09T18:24:52.669390",
     "exception": false,
     "start_time": "2021-03-09T18:24:52.606803",
     "status": "completed"
    },
    "tags": []
   },
   "outputs": [
    {
     "data": {
      "text/html": [
       "<div>\n",
       "<style scoped>\n",
       "    .dataframe tbody tr th:only-of-type {\n",
       "        vertical-align: middle;\n",
       "    }\n",
       "\n",
       "    .dataframe tbody tr th {\n",
       "        vertical-align: top;\n",
       "    }\n",
       "\n",
       "    .dataframe thead th {\n",
       "        text-align: right;\n",
       "    }\n",
       "</style>\n",
       "<table border=\"1\" class=\"dataframe\">\n",
       "  <thead>\n",
       "    <tr style=\"text-align: right;\">\n",
       "      <th></th>\n",
       "      <th></th>\n",
       "      <th>0</th>\n",
       "      <th>1</th>\n",
       "      <th>2</th>\n",
       "      <th>3</th>\n",
       "      <th>4</th>\n",
       "      <th>5</th>\n",
       "      <th>6</th>\n",
       "      <th>7</th>\n",
       "      <th>8</th>\n",
       "      <th>9</th>\n",
       "    </tr>\n",
       "    <tr>\n",
       "      <th>gamma</th>\n",
       "      <th>n_clusters</th>\n",
       "      <th></th>\n",
       "      <th></th>\n",
       "      <th></th>\n",
       "      <th></th>\n",
       "      <th></th>\n",
       "      <th></th>\n",
       "      <th></th>\n",
       "      <th></th>\n",
       "      <th></th>\n",
       "      <th></th>\n",
       "    </tr>\n",
       "  </thead>\n",
       "  <tbody>\n",
       "    <tr>\n",
       "      <th rowspan=\"5\" valign=\"top\">1.0e-03</th>\n",
       "      <th>2</th>\n",
       "      <td>1.000000</td>\n",
       "      <td>1.000000</td>\n",
       "      <td>1.000000</td>\n",
       "      <td>1.000000</td>\n",
       "      <td>1.0</td>\n",
       "      <td>1.0</td>\n",
       "      <td>1.0</td>\n",
       "      <td>1.0</td>\n",
       "      <td>1.0</td>\n",
       "      <td>1.0</td>\n",
       "    </tr>\n",
       "    <tr>\n",
       "      <th>4</th>\n",
       "      <td>0.965666</td>\n",
       "      <td>0.965666</td>\n",
       "      <td>0.965666</td>\n",
       "      <td>0.965666</td>\n",
       "      <td>1.0</td>\n",
       "      <td>1.0</td>\n",
       "      <td>1.0</td>\n",
       "      <td>1.0</td>\n",
       "      <td>1.0</td>\n",
       "      <td>1.0</td>\n",
       "    </tr>\n",
       "    <tr>\n",
       "      <th>6</th>\n",
       "      <td>1.000000</td>\n",
       "      <td>1.000000</td>\n",
       "      <td>1.000000</td>\n",
       "      <td>1.000000</td>\n",
       "      <td>1.0</td>\n",
       "      <td>1.0</td>\n",
       "      <td>1.0</td>\n",
       "      <td>1.0</td>\n",
       "      <td>1.0</td>\n",
       "      <td>1.0</td>\n",
       "    </tr>\n",
       "    <tr>\n",
       "      <th>8</th>\n",
       "      <td>1.000000</td>\n",
       "      <td>1.000000</td>\n",
       "      <td>1.000000</td>\n",
       "      <td>1.000000</td>\n",
       "      <td>1.0</td>\n",
       "      <td>1.0</td>\n",
       "      <td>1.0</td>\n",
       "      <td>1.0</td>\n",
       "      <td>1.0</td>\n",
       "      <td>1.0</td>\n",
       "    </tr>\n",
       "    <tr>\n",
       "      <th>10</th>\n",
       "      <td>1.000000</td>\n",
       "      <td>1.000000</td>\n",
       "      <td>1.000000</td>\n",
       "      <td>1.000000</td>\n",
       "      <td>1.0</td>\n",
       "      <td>1.0</td>\n",
       "      <td>1.0</td>\n",
       "      <td>1.0</td>\n",
       "      <td>1.0</td>\n",
       "      <td>1.0</td>\n",
       "    </tr>\n",
       "  </tbody>\n",
       "</table>\n",
       "</div>"
      ],
      "text/plain": [
       "                           0         1         2         3    4    5    6  \\\n",
       "gamma   n_clusters                                                          \n",
       "1.0e-03 2           1.000000  1.000000  1.000000  1.000000  1.0  1.0  1.0   \n",
       "        4           0.965666  0.965666  0.965666  0.965666  1.0  1.0  1.0   \n",
       "        6           1.000000  1.000000  1.000000  1.000000  1.0  1.0  1.0   \n",
       "        8           1.000000  1.000000  1.000000  1.000000  1.0  1.0  1.0   \n",
       "        10          1.000000  1.000000  1.000000  1.000000  1.0  1.0  1.0   \n",
       "\n",
       "                      7    8    9  \n",
       "gamma   n_clusters                 \n",
       "1.0e-03 2           1.0  1.0  1.0  \n",
       "        4           1.0  1.0  1.0  \n",
       "        6           1.0  1.0  1.0  \n",
       "        8           1.0  1.0  1.0  \n",
       "        10          1.0  1.0  1.0  "
      ]
     },
     "execution_count": 63,
     "metadata": {},
     "output_type": "execute_result"
    }
   ],
   "source": [
    "parts_ari_df.head()"
   ]
  },
  {
   "cell_type": "markdown",
   "metadata": {
    "papermill": {
     "duration": 0.0428,
     "end_time": "2021-03-09T18:24:52.755804",
     "exception": false,
     "start_time": "2021-03-09T18:24:52.713004",
     "status": "completed"
    },
    "tags": []
   },
   "source": [
    "## Stability plot"
   ]
  },
  {
   "cell_type": "code",
   "execution_count": 64,
   "metadata": {
    "execution": {
     "iopub.execute_input": "2021-03-09T18:24:52.844676Z",
     "iopub.status.busy": "2021-03-09T18:24:52.844311Z",
     "iopub.status.idle": "2021-03-09T18:24:52.856991Z",
     "shell.execute_reply": "2021-03-09T18:24:52.856574Z"
    },
    "papermill": {
     "duration": 0.058239,
     "end_time": "2021-03-09T18:24:52.857073",
     "exception": false,
     "start_time": "2021-03-09T18:24:52.798834",
     "status": "completed"
    },
    "tags": []
   },
   "outputs": [],
   "source": [
    "parts_ari_df_plot = (\n",
    "    parts_ari_df.stack().reset_index().rename(columns={\"level_2\": \"idx\", 0: \"ari\"})\n",
    ")"
   ]
  },
  {
   "cell_type": "code",
   "execution_count": 65,
   "metadata": {
    "execution": {
     "iopub.execute_input": "2021-03-09T18:24:52.946733Z",
     "iopub.status.busy": "2021-03-09T18:24:52.946380Z",
     "iopub.status.idle": "2021-03-09T18:24:52.958200Z",
     "shell.execute_reply": "2021-03-09T18:24:52.957820Z"
    },
    "papermill": {
     "duration": 0.057467,
     "end_time": "2021-03-09T18:24:52.958283",
     "exception": false,
     "start_time": "2021-03-09T18:24:52.900816",
     "status": "completed"
    },
    "tags": []
   },
   "outputs": [
    {
     "data": {
      "text/plain": [
       "gamma          object\n",
       "n_clusters      int64\n",
       "idx             int64\n",
       "ari           float64\n",
       "dtype: object"
      ]
     },
     "execution_count": 65,
     "metadata": {},
     "output_type": "execute_result"
    }
   ],
   "source": [
    "parts_ari_df_plot.dtypes"
   ]
  },
  {
   "cell_type": "code",
   "execution_count": 66,
   "metadata": {
    "execution": {
     "iopub.execute_input": "2021-03-09T18:24:53.049993Z",
     "iopub.status.busy": "2021-03-09T18:24:53.049578Z",
     "iopub.status.idle": "2021-03-09T18:24:53.065525Z",
     "shell.execute_reply": "2021-03-09T18:24:53.065199Z"
    },
    "papermill": {
     "duration": 0.062544,
     "end_time": "2021-03-09T18:24:53.065619",
     "exception": false,
     "start_time": "2021-03-09T18:24:53.003075",
     "status": "completed"
    },
    "tags": []
   },
   "outputs": [
    {
     "data": {
      "text/html": [
       "<div>\n",
       "<style scoped>\n",
       "    .dataframe tbody tr th:only-of-type {\n",
       "        vertical-align: middle;\n",
       "    }\n",
       "\n",
       "    .dataframe tbody tr th {\n",
       "        vertical-align: top;\n",
       "    }\n",
       "\n",
       "    .dataframe thead th {\n",
       "        text-align: right;\n",
       "    }\n",
       "</style>\n",
       "<table border=\"1\" class=\"dataframe\">\n",
       "  <thead>\n",
       "    <tr style=\"text-align: right;\">\n",
       "      <th></th>\n",
       "      <th>gamma</th>\n",
       "      <th>n_clusters</th>\n",
       "      <th>idx</th>\n",
       "      <th>ari</th>\n",
       "    </tr>\n",
       "  </thead>\n",
       "  <tbody>\n",
       "    <tr>\n",
       "      <th>0</th>\n",
       "      <td>1.0e-03</td>\n",
       "      <td>2</td>\n",
       "      <td>0</td>\n",
       "      <td>1.0</td>\n",
       "    </tr>\n",
       "    <tr>\n",
       "      <th>1</th>\n",
       "      <td>1.0e-03</td>\n",
       "      <td>2</td>\n",
       "      <td>1</td>\n",
       "      <td>1.0</td>\n",
       "    </tr>\n",
       "    <tr>\n",
       "      <th>2</th>\n",
       "      <td>1.0e-03</td>\n",
       "      <td>2</td>\n",
       "      <td>2</td>\n",
       "      <td>1.0</td>\n",
       "    </tr>\n",
       "    <tr>\n",
       "      <th>3</th>\n",
       "      <td>1.0e-03</td>\n",
       "      <td>2</td>\n",
       "      <td>3</td>\n",
       "      <td>1.0</td>\n",
       "    </tr>\n",
       "    <tr>\n",
       "      <th>4</th>\n",
       "      <td>1.0e-03</td>\n",
       "      <td>2</td>\n",
       "      <td>4</td>\n",
       "      <td>1.0</td>\n",
       "    </tr>\n",
       "  </tbody>\n",
       "</table>\n",
       "</div>"
      ],
      "text/plain": [
       "     gamma  n_clusters  idx  ari\n",
       "0  1.0e-03           2    0  1.0\n",
       "1  1.0e-03           2    1  1.0\n",
       "2  1.0e-03           2    2  1.0\n",
       "3  1.0e-03           2    3  1.0\n",
       "4  1.0e-03           2    4  1.0"
      ]
     },
     "execution_count": 66,
     "metadata": {},
     "output_type": "execute_result"
    }
   ],
   "source": [
    "parts_ari_df_plot.head()"
   ]
  },
  {
   "cell_type": "code",
   "execution_count": 67,
   "metadata": {
    "execution": {
     "iopub.execute_input": "2021-03-09T18:24:53.157736Z",
     "iopub.status.busy": "2021-03-09T18:24:53.157375Z",
     "iopub.status.idle": "2021-03-09T18:24:53.178520Z",
     "shell.execute_reply": "2021-03-09T18:24:53.178150Z"
    },
    "papermill": {
     "duration": 0.067526,
     "end_time": "2021-03-09T18:24:53.178605",
     "exception": false,
     "start_time": "2021-03-09T18:24:53.111079",
     "status": "completed"
    },
    "tags": []
   },
   "outputs": [
    {
     "data": {
      "text/html": [
       "<div>\n",
       "<style scoped>\n",
       "    .dataframe tbody tr th:only-of-type {\n",
       "        vertical-align: middle;\n",
       "    }\n",
       "\n",
       "    .dataframe tbody tr th {\n",
       "        vertical-align: top;\n",
       "    }\n",
       "\n",
       "    .dataframe thead th {\n",
       "        text-align: right;\n",
       "    }\n",
       "</style>\n",
       "<table border=\"1\" class=\"dataframe\">\n",
       "  <thead>\n",
       "    <tr style=\"text-align: right;\">\n",
       "      <th></th>\n",
       "      <th></th>\n",
       "      <th>idx</th>\n",
       "      <th>ari</th>\n",
       "    </tr>\n",
       "    <tr>\n",
       "      <th>n_clusters</th>\n",
       "      <th>gamma</th>\n",
       "      <th></th>\n",
       "      <th></th>\n",
       "    </tr>\n",
       "  </thead>\n",
       "  <tbody>\n",
       "    <tr>\n",
       "      <th rowspan=\"9\" valign=\"top\">2</th>\n",
       "      <th>1.0e-03</th>\n",
       "      <td>4.5</td>\n",
       "      <td>1.000000</td>\n",
       "    </tr>\n",
       "    <tr>\n",
       "      <th>1.0e-05</th>\n",
       "      <td>4.5</td>\n",
       "      <td>1.000000</td>\n",
       "    </tr>\n",
       "    <tr>\n",
       "      <th>1.0e-10</th>\n",
       "      <td>4.5</td>\n",
       "      <td>1.000000</td>\n",
       "    </tr>\n",
       "    <tr>\n",
       "      <th>1.0e-15</th>\n",
       "      <td>4.5</td>\n",
       "      <td>0.906711</td>\n",
       "    </tr>\n",
       "    <tr>\n",
       "      <th>1.0e-17</th>\n",
       "      <td>4.5</td>\n",
       "      <td>0.004001</td>\n",
       "    </tr>\n",
       "    <tr>\n",
       "      <th>1.0e-20</th>\n",
       "      <td>4.5</td>\n",
       "      <td>-0.001677</td>\n",
       "    </tr>\n",
       "    <tr>\n",
       "      <th>1.0e-30</th>\n",
       "      <td>4.5</td>\n",
       "      <td>0.001834</td>\n",
       "    </tr>\n",
       "    <tr>\n",
       "      <th>1.0e-40</th>\n",
       "      <td>4.5</td>\n",
       "      <td>0.013618</td>\n",
       "    </tr>\n",
       "    <tr>\n",
       "      <th>1.0e-50</th>\n",
       "      <td>4.5</td>\n",
       "      <td>-0.000584</td>\n",
       "    </tr>\n",
       "    <tr>\n",
       "      <th rowspan=\"9\" valign=\"top\">4</th>\n",
       "      <th>1.0e-03</th>\n",
       "      <td>4.5</td>\n",
       "      <td>0.986266</td>\n",
       "    </tr>\n",
       "    <tr>\n",
       "      <th>1.0e-05</th>\n",
       "      <td>4.5</td>\n",
       "      <td>0.995818</td>\n",
       "    </tr>\n",
       "    <tr>\n",
       "      <th>1.0e-10</th>\n",
       "      <td>4.5</td>\n",
       "      <td>1.000000</td>\n",
       "    </tr>\n",
       "    <tr>\n",
       "      <th>1.0e-15</th>\n",
       "      <td>4.5</td>\n",
       "      <td>0.695673</td>\n",
       "    </tr>\n",
       "    <tr>\n",
       "      <th>1.0e-17</th>\n",
       "      <td>4.5</td>\n",
       "      <td>-0.003829</td>\n",
       "    </tr>\n",
       "    <tr>\n",
       "      <th>1.0e-20</th>\n",
       "      <td>4.5</td>\n",
       "      <td>0.000769</td>\n",
       "    </tr>\n",
       "    <tr>\n",
       "      <th>1.0e-30</th>\n",
       "      <td>4.5</td>\n",
       "      <td>-0.003668</td>\n",
       "    </tr>\n",
       "    <tr>\n",
       "      <th>1.0e-40</th>\n",
       "      <td>4.5</td>\n",
       "      <td>-0.003335</td>\n",
       "    </tr>\n",
       "    <tr>\n",
       "      <th>1.0e-50</th>\n",
       "      <td>4.5</td>\n",
       "      <td>-0.001469</td>\n",
       "    </tr>\n",
       "    <tr>\n",
       "      <th rowspan=\"9\" valign=\"top\">6</th>\n",
       "      <th>1.0e-03</th>\n",
       "      <td>4.5</td>\n",
       "      <td>1.000000</td>\n",
       "    </tr>\n",
       "    <tr>\n",
       "      <th>1.0e-05</th>\n",
       "      <td>4.5</td>\n",
       "      <td>0.787118</td>\n",
       "    </tr>\n",
       "    <tr>\n",
       "      <th>1.0e-10</th>\n",
       "      <td>4.5</td>\n",
       "      <td>0.986798</td>\n",
       "    </tr>\n",
       "    <tr>\n",
       "      <th>1.0e-15</th>\n",
       "      <td>4.5</td>\n",
       "      <td>0.744010</td>\n",
       "    </tr>\n",
       "    <tr>\n",
       "      <th>1.0e-17</th>\n",
       "      <td>4.5</td>\n",
       "      <td>0.000145</td>\n",
       "    </tr>\n",
       "    <tr>\n",
       "      <th>1.0e-20</th>\n",
       "      <td>4.5</td>\n",
       "      <td>0.000834</td>\n",
       "    </tr>\n",
       "    <tr>\n",
       "      <th>1.0e-30</th>\n",
       "      <td>4.5</td>\n",
       "      <td>-0.002870</td>\n",
       "    </tr>\n",
       "    <tr>\n",
       "      <th>1.0e-40</th>\n",
       "      <td>4.5</td>\n",
       "      <td>-0.002116</td>\n",
       "    </tr>\n",
       "    <tr>\n",
       "      <th>1.0e-50</th>\n",
       "      <td>4.5</td>\n",
       "      <td>0.001750</td>\n",
       "    </tr>\n",
       "    <tr>\n",
       "      <th rowspan=\"9\" valign=\"top\">8</th>\n",
       "      <th>1.0e-03</th>\n",
       "      <td>4.5</td>\n",
       "      <td>1.000000</td>\n",
       "    </tr>\n",
       "    <tr>\n",
       "      <th>1.0e-05</th>\n",
       "      <td>4.5</td>\n",
       "      <td>0.966363</td>\n",
       "    </tr>\n",
       "    <tr>\n",
       "      <th>1.0e-10</th>\n",
       "      <td>4.5</td>\n",
       "      <td>0.580678</td>\n",
       "    </tr>\n",
       "    <tr>\n",
       "      <th>1.0e-15</th>\n",
       "      <td>4.5</td>\n",
       "      <td>0.285271</td>\n",
       "    </tr>\n",
       "    <tr>\n",
       "      <th>1.0e-17</th>\n",
       "      <td>4.5</td>\n",
       "      <td>0.004148</td>\n",
       "    </tr>\n",
       "    <tr>\n",
       "      <th>1.0e-20</th>\n",
       "      <td>4.5</td>\n",
       "      <td>-0.002328</td>\n",
       "    </tr>\n",
       "    <tr>\n",
       "      <th>1.0e-30</th>\n",
       "      <td>4.5</td>\n",
       "      <td>-0.001816</td>\n",
       "    </tr>\n",
       "    <tr>\n",
       "      <th>1.0e-40</th>\n",
       "      <td>4.5</td>\n",
       "      <td>-0.002650</td>\n",
       "    </tr>\n",
       "    <tr>\n",
       "      <th>1.0e-50</th>\n",
       "      <td>4.5</td>\n",
       "      <td>-0.000171</td>\n",
       "    </tr>\n",
       "    <tr>\n",
       "      <th rowspan=\"9\" valign=\"top\">10</th>\n",
       "      <th>1.0e-03</th>\n",
       "      <td>4.5</td>\n",
       "      <td>1.000000</td>\n",
       "    </tr>\n",
       "    <tr>\n",
       "      <th>1.0e-05</th>\n",
       "      <td>4.5</td>\n",
       "      <td>0.451481</td>\n",
       "    </tr>\n",
       "    <tr>\n",
       "      <th>1.0e-10</th>\n",
       "      <td>4.5</td>\n",
       "      <td>0.465165</td>\n",
       "    </tr>\n",
       "    <tr>\n",
       "      <th>1.0e-15</th>\n",
       "      <td>4.5</td>\n",
       "      <td>0.099150</td>\n",
       "    </tr>\n",
       "    <tr>\n",
       "      <th>1.0e-17</th>\n",
       "      <td>4.5</td>\n",
       "      <td>0.003599</td>\n",
       "    </tr>\n",
       "    <tr>\n",
       "      <th>1.0e-20</th>\n",
       "      <td>4.5</td>\n",
       "      <td>0.006737</td>\n",
       "    </tr>\n",
       "    <tr>\n",
       "      <th>1.0e-30</th>\n",
       "      <td>4.5</td>\n",
       "      <td>0.001878</td>\n",
       "    </tr>\n",
       "    <tr>\n",
       "      <th>1.0e-40</th>\n",
       "      <td>4.5</td>\n",
       "      <td>0.004808</td>\n",
       "    </tr>\n",
       "    <tr>\n",
       "      <th>1.0e-50</th>\n",
       "      <td>4.5</td>\n",
       "      <td>0.004643</td>\n",
       "    </tr>\n",
       "    <tr>\n",
       "      <th rowspan=\"9\" valign=\"top\">20</th>\n",
       "      <th>1.0e-03</th>\n",
       "      <td>4.5</td>\n",
       "      <td>0.506257</td>\n",
       "    </tr>\n",
       "    <tr>\n",
       "      <th>1.0e-05</th>\n",
       "      <td>4.5</td>\n",
       "      <td>0.341157</td>\n",
       "    </tr>\n",
       "    <tr>\n",
       "      <th>1.0e-10</th>\n",
       "      <td>4.5</td>\n",
       "      <td>0.291858</td>\n",
       "    </tr>\n",
       "    <tr>\n",
       "      <th>1.0e-15</th>\n",
       "      <td>4.5</td>\n",
       "      <td>0.045794</td>\n",
       "    </tr>\n",
       "    <tr>\n",
       "      <th>1.0e-17</th>\n",
       "      <td>4.5</td>\n",
       "      <td>0.005386</td>\n",
       "    </tr>\n",
       "    <tr>\n",
       "      <th>1.0e-20</th>\n",
       "      <td>4.5</td>\n",
       "      <td>-0.001409</td>\n",
       "    </tr>\n",
       "    <tr>\n",
       "      <th>1.0e-30</th>\n",
       "      <td>4.5</td>\n",
       "      <td>-0.000160</td>\n",
       "    </tr>\n",
       "    <tr>\n",
       "      <th>1.0e-40</th>\n",
       "      <td>4.5</td>\n",
       "      <td>-0.002656</td>\n",
       "    </tr>\n",
       "    <tr>\n",
       "      <th>1.0e-50</th>\n",
       "      <td>4.5</td>\n",
       "      <td>0.003205</td>\n",
       "    </tr>\n",
       "    <tr>\n",
       "      <th rowspan=\"9\" valign=\"top\">30</th>\n",
       "      <th>1.0e-03</th>\n",
       "      <td>4.5</td>\n",
       "      <td>0.277301</td>\n",
       "    </tr>\n",
       "    <tr>\n",
       "      <th>1.0e-05</th>\n",
       "      <td>4.5</td>\n",
       "      <td>0.174251</td>\n",
       "    </tr>\n",
       "    <tr>\n",
       "      <th>1.0e-10</th>\n",
       "      <td>4.5</td>\n",
       "      <td>0.179157</td>\n",
       "    </tr>\n",
       "    <tr>\n",
       "      <th>1.0e-15</th>\n",
       "      <td>4.5</td>\n",
       "      <td>0.036122</td>\n",
       "    </tr>\n",
       "    <tr>\n",
       "      <th>1.0e-17</th>\n",
       "      <td>4.5</td>\n",
       "      <td>-0.000306</td>\n",
       "    </tr>\n",
       "    <tr>\n",
       "      <th>1.0e-20</th>\n",
       "      <td>4.5</td>\n",
       "      <td>-0.005058</td>\n",
       "    </tr>\n",
       "    <tr>\n",
       "      <th>1.0e-30</th>\n",
       "      <td>4.5</td>\n",
       "      <td>0.002375</td>\n",
       "    </tr>\n",
       "    <tr>\n",
       "      <th>1.0e-40</th>\n",
       "      <td>4.5</td>\n",
       "      <td>-0.003397</td>\n",
       "    </tr>\n",
       "    <tr>\n",
       "      <th>1.0e-50</th>\n",
       "      <td>4.5</td>\n",
       "      <td>0.003594</td>\n",
       "    </tr>\n",
       "    <tr>\n",
       "      <th rowspan=\"9\" valign=\"top\">40</th>\n",
       "      <th>1.0e-03</th>\n",
       "      <td>4.5</td>\n",
       "      <td>0.248605</td>\n",
       "    </tr>\n",
       "    <tr>\n",
       "      <th>1.0e-05</th>\n",
       "      <td>4.5</td>\n",
       "      <td>0.097989</td>\n",
       "    </tr>\n",
       "    <tr>\n",
       "      <th>1.0e-10</th>\n",
       "      <td>4.5</td>\n",
       "      <td>0.104159</td>\n",
       "    </tr>\n",
       "    <tr>\n",
       "      <th>1.0e-15</th>\n",
       "      <td>4.5</td>\n",
       "      <td>0.028347</td>\n",
       "    </tr>\n",
       "    <tr>\n",
       "      <th>1.0e-17</th>\n",
       "      <td>4.5</td>\n",
       "      <td>-0.001616</td>\n",
       "    </tr>\n",
       "    <tr>\n",
       "      <th>1.0e-20</th>\n",
       "      <td>4.5</td>\n",
       "      <td>0.001702</td>\n",
       "    </tr>\n",
       "    <tr>\n",
       "      <th>1.0e-30</th>\n",
       "      <td>4.5</td>\n",
       "      <td>0.003421</td>\n",
       "    </tr>\n",
       "    <tr>\n",
       "      <th>1.0e-40</th>\n",
       "      <td>4.5</td>\n",
       "      <td>0.002916</td>\n",
       "    </tr>\n",
       "    <tr>\n",
       "      <th>1.0e-50</th>\n",
       "      <td>4.5</td>\n",
       "      <td>0.002522</td>\n",
       "    </tr>\n",
       "    <tr>\n",
       "      <th rowspan=\"9\" valign=\"top\">50</th>\n",
       "      <th>1.0e-03</th>\n",
       "      <td>4.5</td>\n",
       "      <td>0.137831</td>\n",
       "    </tr>\n",
       "    <tr>\n",
       "      <th>1.0e-05</th>\n",
       "      <td>4.5</td>\n",
       "      <td>0.085840</td>\n",
       "    </tr>\n",
       "    <tr>\n",
       "      <th>1.0e-10</th>\n",
       "      <td>4.5</td>\n",
       "      <td>0.081443</td>\n",
       "    </tr>\n",
       "    <tr>\n",
       "      <th>1.0e-15</th>\n",
       "      <td>4.5</td>\n",
       "      <td>0.024901</td>\n",
       "    </tr>\n",
       "    <tr>\n",
       "      <th>1.0e-17</th>\n",
       "      <td>4.5</td>\n",
       "      <td>0.003959</td>\n",
       "    </tr>\n",
       "    <tr>\n",
       "      <th>1.0e-20</th>\n",
       "      <td>4.5</td>\n",
       "      <td>0.001257</td>\n",
       "    </tr>\n",
       "    <tr>\n",
       "      <th>1.0e-30</th>\n",
       "      <td>4.5</td>\n",
       "      <td>0.010061</td>\n",
       "    </tr>\n",
       "    <tr>\n",
       "      <th>1.0e-40</th>\n",
       "      <td>4.5</td>\n",
       "      <td>0.001118</td>\n",
       "    </tr>\n",
       "    <tr>\n",
       "      <th>1.0e-50</th>\n",
       "      <td>4.5</td>\n",
       "      <td>0.001435</td>\n",
       "    </tr>\n",
       "    <tr>\n",
       "      <th rowspan=\"9\" valign=\"top\">60</th>\n",
       "      <th>1.0e-03</th>\n",
       "      <td>4.5</td>\n",
       "      <td>0.107163</td>\n",
       "    </tr>\n",
       "    <tr>\n",
       "      <th>1.0e-05</th>\n",
       "      <td>4.5</td>\n",
       "      <td>0.063997</td>\n",
       "    </tr>\n",
       "    <tr>\n",
       "      <th>1.0e-10</th>\n",
       "      <td>4.5</td>\n",
       "      <td>0.065680</td>\n",
       "    </tr>\n",
       "    <tr>\n",
       "      <th>1.0e-15</th>\n",
       "      <td>4.5</td>\n",
       "      <td>0.019289</td>\n",
       "    </tr>\n",
       "    <tr>\n",
       "      <th>1.0e-17</th>\n",
       "      <td>4.5</td>\n",
       "      <td>0.004780</td>\n",
       "    </tr>\n",
       "    <tr>\n",
       "      <th>1.0e-20</th>\n",
       "      <td>4.5</td>\n",
       "      <td>0.006185</td>\n",
       "    </tr>\n",
       "    <tr>\n",
       "      <th>1.0e-30</th>\n",
       "      <td>4.5</td>\n",
       "      <td>0.006208</td>\n",
       "    </tr>\n",
       "    <tr>\n",
       "      <th>1.0e-40</th>\n",
       "      <td>4.5</td>\n",
       "      <td>0.006095</td>\n",
       "    </tr>\n",
       "    <tr>\n",
       "      <th>1.0e-50</th>\n",
       "      <td>4.5</td>\n",
       "      <td>0.005996</td>\n",
       "    </tr>\n",
       "  </tbody>\n",
       "</table>\n",
       "</div>"
      ],
      "text/plain": [
       "                    idx       ari\n",
       "n_clusters gamma                 \n",
       "2          1.0e-03  4.5  1.000000\n",
       "           1.0e-05  4.5  1.000000\n",
       "           1.0e-10  4.5  1.000000\n",
       "           1.0e-15  4.5  0.906711\n",
       "           1.0e-17  4.5  0.004001\n",
       "           1.0e-20  4.5 -0.001677\n",
       "           1.0e-30  4.5  0.001834\n",
       "           1.0e-40  4.5  0.013618\n",
       "           1.0e-50  4.5 -0.000584\n",
       "4          1.0e-03  4.5  0.986266\n",
       "           1.0e-05  4.5  0.995818\n",
       "           1.0e-10  4.5  1.000000\n",
       "           1.0e-15  4.5  0.695673\n",
       "           1.0e-17  4.5 -0.003829\n",
       "           1.0e-20  4.5  0.000769\n",
       "           1.0e-30  4.5 -0.003668\n",
       "           1.0e-40  4.5 -0.003335\n",
       "           1.0e-50  4.5 -0.001469\n",
       "6          1.0e-03  4.5  1.000000\n",
       "           1.0e-05  4.5  0.787118\n",
       "           1.0e-10  4.5  0.986798\n",
       "           1.0e-15  4.5  0.744010\n",
       "           1.0e-17  4.5  0.000145\n",
       "           1.0e-20  4.5  0.000834\n",
       "           1.0e-30  4.5 -0.002870\n",
       "           1.0e-40  4.5 -0.002116\n",
       "           1.0e-50  4.5  0.001750\n",
       "8          1.0e-03  4.5  1.000000\n",
       "           1.0e-05  4.5  0.966363\n",
       "           1.0e-10  4.5  0.580678\n",
       "           1.0e-15  4.5  0.285271\n",
       "           1.0e-17  4.5  0.004148\n",
       "           1.0e-20  4.5 -0.002328\n",
       "           1.0e-30  4.5 -0.001816\n",
       "           1.0e-40  4.5 -0.002650\n",
       "           1.0e-50  4.5 -0.000171\n",
       "10         1.0e-03  4.5  1.000000\n",
       "           1.0e-05  4.5  0.451481\n",
       "           1.0e-10  4.5  0.465165\n",
       "           1.0e-15  4.5  0.099150\n",
       "           1.0e-17  4.5  0.003599\n",
       "           1.0e-20  4.5  0.006737\n",
       "           1.0e-30  4.5  0.001878\n",
       "           1.0e-40  4.5  0.004808\n",
       "           1.0e-50  4.5  0.004643\n",
       "20         1.0e-03  4.5  0.506257\n",
       "           1.0e-05  4.5  0.341157\n",
       "           1.0e-10  4.5  0.291858\n",
       "           1.0e-15  4.5  0.045794\n",
       "           1.0e-17  4.5  0.005386\n",
       "           1.0e-20  4.5 -0.001409\n",
       "           1.0e-30  4.5 -0.000160\n",
       "           1.0e-40  4.5 -0.002656\n",
       "           1.0e-50  4.5  0.003205\n",
       "30         1.0e-03  4.5  0.277301\n",
       "           1.0e-05  4.5  0.174251\n",
       "           1.0e-10  4.5  0.179157\n",
       "           1.0e-15  4.5  0.036122\n",
       "           1.0e-17  4.5 -0.000306\n",
       "           1.0e-20  4.5 -0.005058\n",
       "           1.0e-30  4.5  0.002375\n",
       "           1.0e-40  4.5 -0.003397\n",
       "           1.0e-50  4.5  0.003594\n",
       "40         1.0e-03  4.5  0.248605\n",
       "           1.0e-05  4.5  0.097989\n",
       "           1.0e-10  4.5  0.104159\n",
       "           1.0e-15  4.5  0.028347\n",
       "           1.0e-17  4.5 -0.001616\n",
       "           1.0e-20  4.5  0.001702\n",
       "           1.0e-30  4.5  0.003421\n",
       "           1.0e-40  4.5  0.002916\n",
       "           1.0e-50  4.5  0.002522\n",
       "50         1.0e-03  4.5  0.137831\n",
       "           1.0e-05  4.5  0.085840\n",
       "           1.0e-10  4.5  0.081443\n",
       "           1.0e-15  4.5  0.024901\n",
       "           1.0e-17  4.5  0.003959\n",
       "           1.0e-20  4.5  0.001257\n",
       "           1.0e-30  4.5  0.010061\n",
       "           1.0e-40  4.5  0.001118\n",
       "           1.0e-50  4.5  0.001435\n",
       "60         1.0e-03  4.5  0.107163\n",
       "           1.0e-05  4.5  0.063997\n",
       "           1.0e-10  4.5  0.065680\n",
       "           1.0e-15  4.5  0.019289\n",
       "           1.0e-17  4.5  0.004780\n",
       "           1.0e-20  4.5  0.006185\n",
       "           1.0e-30  4.5  0.006208\n",
       "           1.0e-40  4.5  0.006095\n",
       "           1.0e-50  4.5  0.005996"
      ]
     },
     "metadata": {},
     "output_type": "display_data"
    }
   ],
   "source": [
    "with pd.option_context(\"display.max_rows\", None, \"display.max_columns\", None):\n",
    "    _df = parts_ari_df_plot.groupby([\"n_clusters\", \"gamma\"]).mean()\n",
    "    display(_df)"
   ]
  },
  {
   "cell_type": "code",
   "execution_count": 68,
   "metadata": {
    "execution": {
     "iopub.execute_input": "2021-03-09T18:24:53.310185Z",
     "iopub.status.busy": "2021-03-09T18:24:53.309823Z",
     "iopub.status.idle": "2021-03-09T18:24:55.313995Z",
     "shell.execute_reply": "2021-03-09T18:24:55.314292Z"
    },
    "papermill": {
     "duration": 2.052084,
     "end_time": "2021-03-09T18:24:55.314393",
     "exception": false,
     "start_time": "2021-03-09T18:24:53.262309",
     "status": "completed"
    },
    "tags": []
   },
   "outputs": [
    {
     "data": {
      "image/png": "[encoded data removed]",
      "text/plain": [
       "<Figure size 1008x432 with 1 Axes>"
      ]
     },
     "metadata": {},
     "output_type": "display_data"
    }
   ],
   "source": [
    "with sns.plotting_context(\"talk\", font_scale=0.75), sns.axes_style(\n",
    "    \"whitegrid\", {\"grid.linestyle\": \"--\"}\n",
    "):\n",
    "    fig = plt.figure(figsize=(14, 6))\n",
    "    ax = sns.pointplot(data=parts_ari_df_plot, x=\"n_clusters\", y=\"ari\", hue=\"gamma\")\n",
    "    ax.set_ylabel(\"Averange ARI\")\n",
    "    ax.set_xlabel(\"Number of clusters ($k$)\")\n",
    "    ax.set_xticklabels(ax.get_xticklabels(), rotation=45)\n",
    "    plt.grid(True)\n",
    "    plt.tight_layout()"
   ]
  },
  {
   "cell_type": "markdown",
   "metadata": {
    "papermill": {
     "duration": 0.046508,
     "end_time": "2021-03-09T18:24:55.409592",
     "exception": false,
     "start_time": "2021-03-09T18:24:55.363084",
     "status": "completed"
    },
    "tags": []
   },
   "source": [
    "# Conclusions"
   ]
  },
  {
   "cell_type": "markdown",
   "metadata": {
    "papermill": {
     "duration": 0.046322,
     "end_time": "2021-03-09T18:24:55.502856",
     "exception": false,
     "start_time": "2021-03-09T18:24:55.456534",
     "status": "completed"
    },
    "tags": []
   },
   "source": [
    "**UPDATE** We choose `1e-10` as the `gamma` parameter for this data version."
   ]
  },
  {
   "cell_type": "code",
   "execution_count": null,
   "metadata": {
    "papermill": {
     "duration": 0.047149,
     "end_time": "2021-03-09T18:24:55.597119",
     "exception": false,
     "start_time": "2021-03-09T18:24:55.549970",
     "status": "completed"
    },
    "tags": []
   },
   "outputs": [],
   "source": []
  }
 ],
 "metadata": {
  "jupytext": {
   "cell_metadata_filter": "all,-execution,-papermill,-trusted",
   "formats": "ipynb,py//py:percent"
  },
  "kernelspec": {
   "display_name": "Python 3",
   "language": "python",
   "name": "python3"
  },
  "language_info": {
   "codemirror_mode": {
    "name": "ipython",
    "version": 3
   },
   "file_extension": ".py",
   "mimetype": "text/x-python",
   "name": "python",
   "nbconvert_exporter": "python",
   "pygments_lexer": "ipython3",
   "version": "3.8.8"
  },
  "papermill": {
   "default_parameters": {},
   "duration": 253.29969,
   "end_time": "2021-03-09T18:24:56.999968",
   "environment_variables": {},
   "exception": null,
   "input_path": "15_cluster_analysis/pre_analysis/05_01-spectral_clustering-z_score_std.ipynb",
   "output_path": "15_cluster_analysis/pre_analysis/05_01-spectral_clustering-z_score_std.run.ipynb",
   "parameters": {},
   "start_time": "2021-03-09T18:20:43.700278",
   "version": "2.2.2"
  },
  "toc-autonumbering": true,
  "toc-showcode": false,
  "toc-showmarkdowntxt": false,
  "toc-showtags": false
 },
 "nbformat": 4,
 "nbformat_minor": 4
}
