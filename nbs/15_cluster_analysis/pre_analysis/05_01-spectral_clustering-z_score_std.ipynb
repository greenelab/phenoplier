{
 "cells": [
  {
   "cell_type": "markdown",
   "metadata": {
    "papermill": {
     "duration": 0.031311,
     "end_time": "2021-01-12T05:47:00.687116",
     "exception": false,
     "start_time": "2021-01-12T05:47:00.655805",
     "status": "completed"
    },
    "tags": []
   },
   "source": [
    "# Description"
   ]
  },
  {
   "cell_type": "markdown",
   "metadata": {
    "papermill": {
     "duration": 0.026662,
     "end_time": "2021-01-12T05:47:00.740412",
     "exception": false,
     "start_time": "2021-01-12T05:47:00.713750",
     "status": "completed"
    },
    "tags": []
   },
   "source": [
    "This notebook runs some pre-analyses using spectral clustering to explore the best set of parameters to cluster `z_score_std` data version."
   ]
  },
  {
   "cell_type": "markdown",
   "metadata": {
    "papermill": {
     "duration": 0.026334,
     "end_time": "2021-01-12T05:47:00.793097",
     "exception": false,
     "start_time": "2021-01-12T05:47:00.766763",
     "status": "completed"
    },
    "tags": []
   },
   "source": [
    "# Environment variables"
   ]
  },
  {
   "cell_type": "code",
   "execution_count": 1,
   "metadata": {
    "execution": {
     "iopub.execute_input": "2021-01-12T05:47:00.850690Z",
     "iopub.status.busy": "2021-01-12T05:47:00.850307Z",
     "iopub.status.idle": "2021-01-12T05:47:00.860885Z",
     "shell.execute_reply": "2021-01-12T05:47:00.860417Z"
    },
    "papermill": {
     "duration": 0.040335,
     "end_time": "2021-01-12T05:47:00.861010",
     "exception": false,
     "start_time": "2021-01-12T05:47:00.820675",
     "status": "completed"
    },
    "tags": []
   },
   "outputs": [
    {
     "data": {
      "text/plain": [
       "3"
      ]
     },
     "metadata": {},
     "output_type": "display_data"
    }
   ],
   "source": [
    "from IPython.display import display\n",
    "\n",
    "import conf\n",
    "\n",
    "N_JOBS = conf.GENERAL[\"N_JOBS\"]\n",
    "display(N_JOBS)"
   ]
  },
  {
   "cell_type": "code",
   "execution_count": 2,
   "metadata": {
    "execution": {
     "iopub.execute_input": "2021-01-12T05:47:00.919891Z",
     "iopub.status.busy": "2021-01-12T05:47:00.919491Z",
     "iopub.status.idle": "2021-01-12T05:47:00.921982Z",
     "shell.execute_reply": "2021-01-12T05:47:00.921604Z"
    },
    "papermill": {
     "duration": 0.033656,
     "end_time": "2021-01-12T05:47:00.922071",
     "exception": false,
     "start_time": "2021-01-12T05:47:00.888415",
     "status": "completed"
    },
    "tags": []
   },
   "outputs": [
    {
     "name": "stdout",
     "output_type": "stream",
     "text": [
      "env: MKL_NUM_THREADS=3\n",
      "env: OPEN_BLAS_NUM_THREADS=3\n",
      "env: NUMEXPR_NUM_THREADS=3\n",
      "env: OMP_NUM_THREADS=3\n"
     ]
    }
   ],
   "source": [
    "%env MKL_NUM_THREADS=$N_JOBS\n",
    "%env OPEN_BLAS_NUM_THREADS=$N_JOBS\n",
    "%env NUMEXPR_NUM_THREADS=$N_JOBS\n",
    "%env OMP_NUM_THREADS=$N_JOBS"
   ]
  },
  {
   "cell_type": "markdown",
   "metadata": {
    "papermill": {
     "duration": 0.027147,
     "end_time": "2021-01-12T05:47:00.977122",
     "exception": false,
     "start_time": "2021-01-12T05:47:00.949975",
     "status": "completed"
    },
    "tags": []
   },
   "source": [
    "# Modules loading"
   ]
  },
  {
   "cell_type": "code",
   "execution_count": 3,
   "metadata": {
    "execution": {
     "iopub.execute_input": "2021-01-12T05:47:01.034540Z",
     "iopub.status.busy": "2021-01-12T05:47:01.034172Z",
     "iopub.status.idle": "2021-01-12T05:47:01.041919Z",
     "shell.execute_reply": "2021-01-12T05:47:01.041589Z"
    },
    "papermill": {
     "duration": 0.03766,
     "end_time": "2021-01-12T05:47:01.042007",
     "exception": false,
     "start_time": "2021-01-12T05:47:01.004347",
     "status": "completed"
    },
    "tags": []
   },
   "outputs": [],
   "source": [
    "%load_ext autoreload\n",
    "%autoreload 2"
   ]
  },
  {
   "cell_type": "code",
   "execution_count": 4,
   "metadata": {
    "execution": {
     "iopub.execute_input": "2021-01-12T05:47:01.100398Z",
     "iopub.status.busy": "2021-01-12T05:47:01.100030Z",
     "iopub.status.idle": "2021-01-12T05:47:02.714609Z",
     "shell.execute_reply": "2021-01-12T05:47:02.714937Z"
    },
    "papermill": {
     "duration": 1.644737,
     "end_time": "2021-01-12T05:47:02.715059",
     "exception": false,
     "start_time": "2021-01-12T05:47:01.070322",
     "status": "completed"
    },
    "tags": []
   },
   "outputs": [],
   "source": [
    "from pathlib import Path\n",
    "import warnings\n",
    "\n",
    "import numpy as np\n",
    "import pandas as pd\n",
    "import matplotlib.pyplot as plt\n",
    "import seaborn as sns\n",
    "\n",
    "from utils import generate_result_set_name"
   ]
  },
  {
   "cell_type": "markdown",
   "metadata": {
    "papermill": {
     "duration": 0.027398,
     "end_time": "2021-01-12T05:47:02.771858",
     "exception": false,
     "start_time": "2021-01-12T05:47:02.744460",
     "status": "completed"
    },
    "tags": []
   },
   "source": [
    "# Settings"
   ]
  },
  {
   "cell_type": "code",
   "execution_count": 5,
   "metadata": {
    "execution": {
     "iopub.execute_input": "2021-01-12T05:47:02.828520Z",
     "iopub.status.busy": "2021-01-12T05:47:02.828143Z",
     "iopub.status.idle": "2021-01-12T05:47:02.840096Z",
     "shell.execute_reply": "2021-01-12T05:47:02.839735Z"
    },
    "papermill": {
     "duration": 0.041495,
     "end_time": "2021-01-12T05:47:02.840180",
     "exception": false,
     "start_time": "2021-01-12T05:47:02.798685",
     "status": "completed"
    },
    "tags": []
   },
   "outputs": [],
   "source": [
    "INITIAL_RANDOM_STATE = 30000"
   ]
  },
  {
   "cell_type": "markdown",
   "metadata": {
    "papermill": {
     "duration": 0.027153,
     "end_time": "2021-01-12T05:47:02.895072",
     "exception": false,
     "start_time": "2021-01-12T05:47:02.867919",
     "status": "completed"
    },
    "tags": []
   },
   "source": [
    "# Z-score standardized data"
   ]
  },
  {
   "cell_type": "code",
   "execution_count": 6,
   "metadata": {
    "execution": {
     "iopub.execute_input": "2021-01-12T05:47:02.951973Z",
     "iopub.status.busy": "2021-01-12T05:47:02.951599Z",
     "iopub.status.idle": "2021-01-12T05:47:02.963428Z",
     "shell.execute_reply": "2021-01-12T05:47:02.963059Z"
    },
    "papermill": {
     "duration": 0.041151,
     "end_time": "2021-01-12T05:47:02.963516",
     "exception": false,
     "start_time": "2021-01-12T05:47:02.922365",
     "status": "completed"
    },
    "tags": []
   },
   "outputs": [],
   "source": [
    "INPUT_SUBSET = \"z_score_std\""
   ]
  },
  {
   "cell_type": "code",
   "execution_count": 7,
   "metadata": {
    "execution": {
     "iopub.execute_input": "2021-01-12T05:47:03.019879Z",
     "iopub.status.busy": "2021-01-12T05:47:03.019516Z",
     "iopub.status.idle": "2021-01-12T05:47:03.031389Z",
     "shell.execute_reply": "2021-01-12T05:47:03.031005Z"
    },
    "papermill": {
     "duration": 0.040915,
     "end_time": "2021-01-12T05:47:03.031478",
     "exception": false,
     "start_time": "2021-01-12T05:47:02.990563",
     "status": "completed"
    },
    "tags": []
   },
   "outputs": [],
   "source": [
    "INPUT_STEM = \"projection-smultixcan-efo_partial-mashr-zscores\""
   ]
  },
  {
   "cell_type": "code",
   "execution_count": 8,
   "metadata": {
    "execution": {
     "iopub.execute_input": "2021-01-12T05:47:03.090173Z",
     "iopub.status.busy": "2021-01-12T05:47:03.089798Z",
     "iopub.status.idle": "2021-01-12T05:47:03.103670Z",
     "shell.execute_reply": "2021-01-12T05:47:03.103276Z"
    },
    "papermill": {
     "duration": 0.044351,
     "end_time": "2021-01-12T05:47:03.103758",
     "exception": false,
     "start_time": "2021-01-12T05:47:03.059407",
     "status": "completed"
    },
    "tags": []
   },
   "outputs": [
    {
     "data": {
      "text/plain": [
       "PosixPath('/home/miltondp/projects/labs/greenelab/phenoplier/base3/results/data_transformations/z_score_std/z_score_std-projection-smultixcan-efo_partial-mashr-zscores.pkl')"
      ]
     },
     "metadata": {},
     "output_type": "display_data"
    },
    {
     "data": {
      "text/plain": [
       "'z_score_std-projection-smultixcan-efo_partial-mashr-zscores'"
      ]
     },
     "metadata": {},
     "output_type": "display_data"
    }
   ],
   "source": [
    "input_filepath = Path(\n",
    "    conf.RESULTS[\"DATA_TRANSFORMATIONS_DIR\"],\n",
    "    INPUT_SUBSET,\n",
    "    f\"{INPUT_SUBSET}-{INPUT_STEM}.pkl\",\n",
    ").resolve()\n",
    "display(input_filepath)\n",
    "\n",
    "assert input_filepath.exists(), \"Input file does not exist\"\n",
    "\n",
    "input_filepath_stem = input_filepath.stem\n",
    "display(input_filepath_stem)"
   ]
  },
  {
   "cell_type": "code",
   "execution_count": 9,
   "metadata": {
    "execution": {
     "iopub.execute_input": "2021-01-12T05:47:03.162305Z",
     "iopub.status.busy": "2021-01-12T05:47:03.161939Z",
     "iopub.status.idle": "2021-01-12T05:47:03.186709Z",
     "shell.execute_reply": "2021-01-12T05:47:03.187060Z"
    },
    "papermill": {
     "duration": 0.055102,
     "end_time": "2021-01-12T05:47:03.187182",
     "exception": false,
     "start_time": "2021-01-12T05:47:03.132080",
     "status": "completed"
    },
    "tags": []
   },
   "outputs": [],
   "source": [
    "data = pd.read_pickle(input_filepath)"
   ]
  },
  {
   "cell_type": "code",
   "execution_count": 10,
   "metadata": {
    "execution": {
     "iopub.execute_input": "2021-01-12T05:47:03.247077Z",
     "iopub.status.busy": "2021-01-12T05:47:03.246682Z",
     "iopub.status.idle": "2021-01-12T05:47:03.260942Z",
     "shell.execute_reply": "2021-01-12T05:47:03.261607Z"
    },
    "papermill": {
     "duration": 0.044636,
     "end_time": "2021-01-12T05:47:03.261731",
     "exception": false,
     "start_time": "2021-01-12T05:47:03.217095",
     "status": "completed"
    },
    "tags": []
   },
   "outputs": [
    {
     "data": {
      "text/plain": [
       "(3749, 987)"
      ]
     },
     "execution_count": 10,
     "metadata": {},
     "output_type": "execute_result"
    }
   ],
   "source": [
    "data.shape"
   ]
  },
  {
   "cell_type": "code",
   "execution_count": 11,
   "metadata": {
    "execution": {
     "iopub.execute_input": "2021-01-12T05:47:03.323395Z",
     "iopub.status.busy": "2021-01-12T05:47:03.323019Z",
     "iopub.status.idle": "2021-01-12T05:47:03.348229Z",
     "shell.execute_reply": "2021-01-12T05:47:03.347901Z"
    },
    "papermill": {
     "duration": 0.055393,
     "end_time": "2021-01-12T05:47:03.348319",
     "exception": false,
     "start_time": "2021-01-12T05:47:03.292926",
     "status": "completed"
    },
    "tags": []
   },
   "outputs": [
    {
     "data": {
      "text/html": [
       "<div>\n",
       "<style scoped>\n",
       "    .dataframe tbody tr th:only-of-type {\n",
       "        vertical-align: middle;\n",
       "    }\n",
       "\n",
       "    .dataframe tbody tr th {\n",
       "        vertical-align: top;\n",
       "    }\n",
       "\n",
       "    .dataframe thead th {\n",
       "        text-align: right;\n",
       "    }\n",
       "</style>\n",
       "<table border=\"1\" class=\"dataframe\">\n",
       "  <thead>\n",
       "    <tr style=\"text-align: right;\">\n",
       "      <th></th>\n",
       "      <th>LV1</th>\n",
       "      <th>LV2</th>\n",
       "      <th>LV3</th>\n",
       "      <th>LV4</th>\n",
       "      <th>LV5</th>\n",
       "      <th>LV6</th>\n",
       "      <th>LV7</th>\n",
       "      <th>LV8</th>\n",
       "      <th>LV9</th>\n",
       "      <th>LV10</th>\n",
       "      <th>...</th>\n",
       "      <th>LV978</th>\n",
       "      <th>LV979</th>\n",
       "      <th>LV980</th>\n",
       "      <th>LV981</th>\n",
       "      <th>LV982</th>\n",
       "      <th>LV983</th>\n",
       "      <th>LV984</th>\n",
       "      <th>LV985</th>\n",
       "      <th>LV986</th>\n",
       "      <th>LV987</th>\n",
       "    </tr>\n",
       "  </thead>\n",
       "  <tbody>\n",
       "    <tr>\n",
       "      <th>100001_raw-Food_weight</th>\n",
       "      <td>-0.553743</td>\n",
       "      <td>1.851060</td>\n",
       "      <td>-0.095721</td>\n",
       "      <td>0.931603</td>\n",
       "      <td>-0.515196</td>\n",
       "      <td>1.371264</td>\n",
       "      <td>-0.413165</td>\n",
       "      <td>0.729668</td>\n",
       "      <td>0.546338</td>\n",
       "      <td>0.901153</td>\n",
       "      <td>...</td>\n",
       "      <td>1.148776</td>\n",
       "      <td>1.649018</td>\n",
       "      <td>-1.375952</td>\n",
       "      <td>2.203063</td>\n",
       "      <td>0.810199</td>\n",
       "      <td>-0.987048</td>\n",
       "      <td>0.277710</td>\n",
       "      <td>-0.607613</td>\n",
       "      <td>0.572376</td>\n",
       "      <td>-0.660846</td>\n",
       "    </tr>\n",
       "    <tr>\n",
       "      <th>100002_raw-Energy</th>\n",
       "      <td>-1.313905</td>\n",
       "      <td>-0.421015</td>\n",
       "      <td>-0.310524</td>\n",
       "      <td>-0.201978</td>\n",
       "      <td>0.233028</td>\n",
       "      <td>0.693838</td>\n",
       "      <td>0.084129</td>\n",
       "      <td>0.572439</td>\n",
       "      <td>0.217866</td>\n",
       "      <td>1.296973</td>\n",
       "      <td>...</td>\n",
       "      <td>0.165430</td>\n",
       "      <td>0.799276</td>\n",
       "      <td>-0.361989</td>\n",
       "      <td>-0.008253</td>\n",
       "      <td>2.063780</td>\n",
       "      <td>-0.930765</td>\n",
       "      <td>-0.147007</td>\n",
       "      <td>1.601938</td>\n",
       "      <td>-0.273553</td>\n",
       "      <td>-0.560822</td>\n",
       "    </tr>\n",
       "    <tr>\n",
       "      <th>100003_raw-Protein</th>\n",
       "      <td>-0.645622</td>\n",
       "      <td>-0.997845</td>\n",
       "      <td>0.249039</td>\n",
       "      <td>0.256499</td>\n",
       "      <td>0.422357</td>\n",
       "      <td>0.829189</td>\n",
       "      <td>-0.169004</td>\n",
       "      <td>0.511550</td>\n",
       "      <td>0.002389</td>\n",
       "      <td>-0.057200</td>\n",
       "      <td>...</td>\n",
       "      <td>1.016791</td>\n",
       "      <td>1.019488</td>\n",
       "      <td>-2.148844</td>\n",
       "      <td>-0.065130</td>\n",
       "      <td>0.041052</td>\n",
       "      <td>-0.836118</td>\n",
       "      <td>-0.320571</td>\n",
       "      <td>1.325519</td>\n",
       "      <td>-0.341494</td>\n",
       "      <td>-0.495786</td>\n",
       "    </tr>\n",
       "    <tr>\n",
       "      <th>100004_raw-Fat</th>\n",
       "      <td>-0.913924</td>\n",
       "      <td>-1.837183</td>\n",
       "      <td>0.012095</td>\n",
       "      <td>-1.301315</td>\n",
       "      <td>0.205794</td>\n",
       "      <td>1.129114</td>\n",
       "      <td>0.019985</td>\n",
       "      <td>0.376660</td>\n",
       "      <td>-0.810272</td>\n",
       "      <td>0.843611</td>\n",
       "      <td>...</td>\n",
       "      <td>0.544266</td>\n",
       "      <td>0.576714</td>\n",
       "      <td>0.281731</td>\n",
       "      <td>-0.218963</td>\n",
       "      <td>1.258957</td>\n",
       "      <td>-1.131924</td>\n",
       "      <td>0.378545</td>\n",
       "      <td>0.842047</td>\n",
       "      <td>-0.622194</td>\n",
       "      <td>-0.160058</td>\n",
       "    </tr>\n",
       "    <tr>\n",
       "      <th>100005_raw-Carbohydrate</th>\n",
       "      <td>-0.523004</td>\n",
       "      <td>0.131379</td>\n",
       "      <td>-0.097802</td>\n",
       "      <td>-0.030526</td>\n",
       "      <td>-0.021500</td>\n",
       "      <td>-0.219116</td>\n",
       "      <td>0.668229</td>\n",
       "      <td>0.365700</td>\n",
       "      <td>1.102347</td>\n",
       "      <td>0.845625</td>\n",
       "      <td>...</td>\n",
       "      <td>-0.344740</td>\n",
       "      <td>0.079274</td>\n",
       "      <td>0.253427</td>\n",
       "      <td>0.236474</td>\n",
       "      <td>1.033895</td>\n",
       "      <td>-0.229105</td>\n",
       "      <td>0.364793</td>\n",
       "      <td>1.776714</td>\n",
       "      <td>0.190531</td>\n",
       "      <td>-1.459641</td>\n",
       "    </tr>\n",
       "  </tbody>\n",
       "</table>\n",
       "<p>5 rows × 987 columns</p>\n",
       "</div>"
      ],
      "text/plain": [
       "                              LV1       LV2       LV3       LV4       LV5  \\\n",
       "100001_raw-Food_weight  -0.553743  1.851060 -0.095721  0.931603 -0.515196   \n",
       "100002_raw-Energy       -1.313905 -0.421015 -0.310524 -0.201978  0.233028   \n",
       "100003_raw-Protein      -0.645622 -0.997845  0.249039  0.256499  0.422357   \n",
       "100004_raw-Fat          -0.913924 -1.837183  0.012095 -1.301315  0.205794   \n",
       "100005_raw-Carbohydrate -0.523004  0.131379 -0.097802 -0.030526 -0.021500   \n",
       "\n",
       "                              LV6       LV7       LV8       LV9      LV10  \\\n",
       "100001_raw-Food_weight   1.371264 -0.413165  0.729668  0.546338  0.901153   \n",
       "100002_raw-Energy        0.693838  0.084129  0.572439  0.217866  1.296973   \n",
       "100003_raw-Protein       0.829189 -0.169004  0.511550  0.002389 -0.057200   \n",
       "100004_raw-Fat           1.129114  0.019985  0.376660 -0.810272  0.843611   \n",
       "100005_raw-Carbohydrate -0.219116  0.668229  0.365700  1.102347  0.845625   \n",
       "\n",
       "                         ...     LV978     LV979     LV980     LV981  \\\n",
       "100001_raw-Food_weight   ...  1.148776  1.649018 -1.375952  2.203063   \n",
       "100002_raw-Energy        ...  0.165430  0.799276 -0.361989 -0.008253   \n",
       "100003_raw-Protein       ...  1.016791  1.019488 -2.148844 -0.065130   \n",
       "100004_raw-Fat           ...  0.544266  0.576714  0.281731 -0.218963   \n",
       "100005_raw-Carbohydrate  ... -0.344740  0.079274  0.253427  0.236474   \n",
       "\n",
       "                            LV982     LV983     LV984     LV985     LV986  \\\n",
       "100001_raw-Food_weight   0.810199 -0.987048  0.277710 -0.607613  0.572376   \n",
       "100002_raw-Energy        2.063780 -0.930765 -0.147007  1.601938 -0.273553   \n",
       "100003_raw-Protein       0.041052 -0.836118 -0.320571  1.325519 -0.341494   \n",
       "100004_raw-Fat           1.258957 -1.131924  0.378545  0.842047 -0.622194   \n",
       "100005_raw-Carbohydrate  1.033895 -0.229105  0.364793  1.776714  0.190531   \n",
       "\n",
       "                            LV987  \n",
       "100001_raw-Food_weight  -0.660846  \n",
       "100002_raw-Energy       -0.560822  \n",
       "100003_raw-Protein      -0.495786  \n",
       "100004_raw-Fat          -0.160058  \n",
       "100005_raw-Carbohydrate -1.459641  \n",
       "\n",
       "[5 rows x 987 columns]"
      ]
     },
     "execution_count": 11,
     "metadata": {},
     "output_type": "execute_result"
    }
   ],
   "source": [
    "data.head()"
   ]
  },
  {
   "cell_type": "markdown",
   "metadata": {
    "papermill": {
     "duration": 0.027991,
     "end_time": "2021-01-12T05:47:03.405691",
     "exception": false,
     "start_time": "2021-01-12T05:47:03.377700",
     "status": "completed"
    },
    "tags": []
   },
   "source": [
    "# Clustering"
   ]
  },
  {
   "cell_type": "code",
   "execution_count": 12,
   "metadata": {
    "execution": {
     "iopub.execute_input": "2021-01-12T05:47:03.463896Z",
     "iopub.status.busy": "2021-01-12T05:47:03.463527Z",
     "iopub.status.idle": "2021-01-12T05:47:03.481645Z",
     "shell.execute_reply": "2021-01-12T05:47:03.481248Z"
    },
    "papermill": {
     "duration": 0.047938,
     "end_time": "2021-01-12T05:47:03.481735",
     "exception": false,
     "start_time": "2021-01-12T05:47:03.433797",
     "status": "completed"
    },
    "tags": []
   },
   "outputs": [],
   "source": [
    "from sklearn.cluster import SpectralClustering\n",
    "from sklearn.metrics import silhouette_score, calinski_harabasz_score"
   ]
  },
  {
   "cell_type": "markdown",
   "metadata": {
    "papermill": {
     "duration": 0.028245,
     "end_time": "2021-01-12T05:47:03.539340",
     "exception": false,
     "start_time": "2021-01-12T05:47:03.511095",
     "status": "completed"
    },
    "tags": []
   },
   "source": [
    "## `gamma` parameter"
   ]
  },
  {
   "cell_type": "markdown",
   "metadata": {
    "papermill": {
     "duration": 0.027995,
     "end_time": "2021-01-12T05:47:03.595270",
     "exception": false,
     "start_time": "2021-01-12T05:47:03.567275",
     "status": "completed"
    },
    "tags": []
   },
   "source": [
    "### Using default value (`gamma=1.0`)"
   ]
  },
  {
   "cell_type": "code",
   "execution_count": 13,
   "metadata": {
    "execution": {
     "iopub.execute_input": "2021-01-12T05:47:03.654897Z",
     "iopub.status.busy": "2021-01-12T05:47:03.654511Z",
     "iopub.status.idle": "2021-01-12T05:47:05.238554Z",
     "shell.execute_reply": "2021-01-12T05:47:05.238867Z"
    },
    "papermill": {
     "duration": 1.615139,
     "end_time": "2021-01-12T05:47:05.238979",
     "exception": false,
     "start_time": "2021-01-12T05:47:03.623840",
     "status": "completed"
    },
    "tags": []
   },
   "outputs": [
    {
     "name": "stderr",
     "output_type": "stream",
     "text": [
      "/mnt/software/miniconda3/envs/phenoplier/lib/python3.8/site-packages/sklearn/manifold/_spectral_embedding.py:236: UserWarning: Graph is not fully connected, spectral embedding may not work as expected.\n",
      "  warnings.warn(\"Graph is not fully connected, spectral embedding\"\n",
      "/mnt/software/miniconda3/envs/phenoplier/lib/python3.8/site-packages/numpy/core/_methods.py:205: RuntimeWarning: overflow encountered in multiply\n",
      "  x = um.multiply(x, x, out=x)\n",
      "/mnt/software/miniconda3/envs/phenoplier/lib/python3.8/site-packages/sklearn/utils/extmath.py:153: RuntimeWarning: overflow encountered in matmul\n",
      "  ret = a @ b\n",
      "/mnt/software/miniconda3/envs/phenoplier/lib/python3.8/site-packages/sklearn/utils/extmath.py:153: RuntimeWarning: invalid value encountered in matmul\n",
      "  ret = a @ b\n",
      "/mnt/software/miniconda3/envs/phenoplier/lib/python3.8/site-packages/sklearn/metrics/pairwise.py:311: RuntimeWarning: invalid value encountered in add\n",
      "  distances += XX\n",
      "/mnt/software/miniconda3/envs/phenoplier/lib/python3.8/site-packages/sklearn/utils/extmath.py:153: RuntimeWarning: overflow encountered in matmul\n",
      "  ret = a @ b\n",
      "/mnt/software/miniconda3/envs/phenoplier/lib/python3.8/site-packages/sklearn/metrics/pairwise.py:311: RuntimeWarning: invalid value encountered in add\n",
      "  distances += XX\n",
      "/mnt/software/miniconda3/envs/phenoplier/lib/python3.8/site-packages/sklearn/utils/extmath.py:153: RuntimeWarning: overflow encountered in matmul\n",
      "  ret = a @ b\n",
      "/mnt/software/miniconda3/envs/phenoplier/lib/python3.8/site-packages/sklearn/metrics/pairwise.py:311: RuntimeWarning: invalid value encountered in add\n",
      "  distances += XX\n",
      "/mnt/software/miniconda3/envs/phenoplier/lib/python3.8/site-packages/sklearn/cluster/_kmeans.py:421: RuntimeWarning: overflow encountered in square\n",
      "  elkan_iter(X, sample_weight, centers, centers_new,\n",
      "/mnt/software/miniconda3/envs/phenoplier/lib/python3.8/site-packages/sklearn/utils/extmath.py:153: RuntimeWarning: overflow encountered in matmul\n",
      "  ret = a @ b\n",
      "/mnt/software/miniconda3/envs/phenoplier/lib/python3.8/site-packages/sklearn/metrics/pairwise.py:311: RuntimeWarning: invalid value encountered in add\n",
      "  distances += XX\n",
      "/mnt/software/miniconda3/envs/phenoplier/lib/python3.8/site-packages/sklearn/cluster/_kmeans.py:296: ConvergenceWarning: Number of distinct clusters (1) found smaller than n_clusters (2). Possibly due to duplicate points in X.\n",
      "  est = KMeans(\n"
     ]
    }
   ],
   "source": [
    "with warnings.catch_warnings():\n",
    "    warnings.filterwarnings(\"always\")\n",
    "\n",
    "    clus = SpectralClustering(\n",
    "        eigen_solver=\"arpack\",\n",
    "        #         eigen_tol=1e-2,\n",
    "        n_clusters=2,\n",
    "        n_init=1,\n",
    "        affinity=\"rbf\",\n",
    "        gamma=1.00,\n",
    "        random_state=INITIAL_RANDOM_STATE,\n",
    "    )\n",
    "\n",
    "    part = clus.fit_predict(data)"
   ]
  },
  {
   "cell_type": "code",
   "execution_count": 14,
   "metadata": {
    "execution": {
     "iopub.execute_input": "2021-01-12T05:47:05.302173Z",
     "iopub.status.busy": "2021-01-12T05:47:05.301801Z",
     "iopub.status.idle": "2021-01-12T05:47:05.315571Z",
     "shell.execute_reply": "2021-01-12T05:47:05.315177Z"
    },
    "papermill": {
     "duration": 0.045682,
     "end_time": "2021-01-12T05:47:05.315661",
     "exception": false,
     "start_time": "2021-01-12T05:47:05.269979",
     "status": "completed"
    },
    "tags": []
   },
   "outputs": [
    {
     "data": {
      "text/plain": [
       "0    3749\n",
       "dtype: int64"
      ]
     },
     "execution_count": 14,
     "metadata": {},
     "output_type": "execute_result"
    }
   ],
   "source": [
    "# show number of clusters and their size\n",
    "pd.Series(part).value_counts()"
   ]
  },
  {
   "cell_type": "markdown",
   "metadata": {
    "papermill": {
     "duration": 0.028709,
     "end_time": "2021-01-12T05:47:05.375287",
     "exception": false,
     "start_time": "2021-01-12T05:47:05.346578",
     "status": "completed"
    },
    "tags": []
   },
   "source": [
    "The algorithm does not work with the default `gamma=1.0`. Other values for this parameter should be explored."
   ]
  },
  {
   "cell_type": "markdown",
   "metadata": {
    "papermill": {
     "duration": 0.02828,
     "end_time": "2021-01-12T05:47:05.431970",
     "exception": false,
     "start_time": "2021-01-12T05:47:05.403690",
     "status": "completed"
    },
    "tags": []
   },
   "source": [
    "### Using `gamma=0.01`"
   ]
  },
  {
   "cell_type": "code",
   "execution_count": 15,
   "metadata": {
    "execution": {
     "iopub.execute_input": "2021-01-12T05:47:05.492027Z",
     "iopub.status.busy": "2021-01-12T05:47:05.491649Z",
     "iopub.status.idle": "2021-01-12T05:47:07.465581Z",
     "shell.execute_reply": "2021-01-12T05:47:07.465236Z"
    },
    "papermill": {
     "duration": 2.005423,
     "end_time": "2021-01-12T05:47:07.465674",
     "exception": false,
     "start_time": "2021-01-12T05:47:05.460251",
     "status": "completed"
    },
    "tags": []
   },
   "outputs": [],
   "source": [
    "with warnings.catch_warnings():\n",
    "    warnings.filterwarnings(\"always\")\n",
    "\n",
    "    clus = SpectralClustering(\n",
    "        eigen_solver=\"arpack\",\n",
    "        eigen_tol=1e-3,\n",
    "        n_clusters=2,\n",
    "        n_init=1,\n",
    "        affinity=\"rbf\",\n",
    "        gamma=0.01,\n",
    "        random_state=INITIAL_RANDOM_STATE,\n",
    "    )\n",
    "\n",
    "    part = clus.fit_predict(data)"
   ]
  },
  {
   "cell_type": "code",
   "execution_count": 16,
   "metadata": {
    "execution": {
     "iopub.execute_input": "2021-01-12T05:47:07.526322Z",
     "iopub.status.busy": "2021-01-12T05:47:07.525952Z",
     "iopub.status.idle": "2021-01-12T05:47:07.539613Z",
     "shell.execute_reply": "2021-01-12T05:47:07.539236Z"
    },
    "papermill": {
     "duration": 0.04468,
     "end_time": "2021-01-12T05:47:07.539702",
     "exception": false,
     "start_time": "2021-01-12T05:47:07.495022",
     "status": "completed"
    },
    "tags": []
   },
   "outputs": [
    {
     "data": {
      "text/plain": [
       "0    3748\n",
       "1       1\n",
       "dtype: int64"
      ]
     },
     "execution_count": 16,
     "metadata": {},
     "output_type": "execute_result"
    }
   ],
   "source": [
    "# show number of clusters and their size\n",
    "pd.Series(part).value_counts()"
   ]
  },
  {
   "cell_type": "markdown",
   "metadata": {
    "papermill": {
     "duration": 0.029141,
     "end_time": "2021-01-12T05:47:07.598683",
     "exception": false,
     "start_time": "2021-01-12T05:47:07.569542",
     "status": "completed"
    },
    "tags": []
   },
   "source": [
    "For values around `gamma=0.01` the algorithm takes a lot of time to converge (here I used `eigen_tol=1e-03` to force convergence)."
   ]
  },
  {
   "cell_type": "markdown",
   "metadata": {
    "papermill": {
     "duration": 0.028109,
     "end_time": "2021-01-12T05:47:07.655181",
     "exception": false,
     "start_time": "2021-01-12T05:47:07.627072",
     "status": "completed"
    },
    "tags": []
   },
   "source": [
    "### Using `gamma=0.001`"
   ]
  },
  {
   "cell_type": "code",
   "execution_count": 17,
   "metadata": {
    "execution": {
     "iopub.execute_input": "2021-01-12T05:47:07.715031Z",
     "iopub.status.busy": "2021-01-12T05:47:07.714649Z",
     "iopub.status.idle": "2021-01-12T05:47:09.053855Z",
     "shell.execute_reply": "2021-01-12T05:47:09.054296Z"
    },
    "papermill": {
     "duration": 1.371011,
     "end_time": "2021-01-12T05:47:09.054411",
     "exception": false,
     "start_time": "2021-01-12T05:47:07.683400",
     "status": "completed"
    },
    "tags": []
   },
   "outputs": [],
   "source": [
    "with warnings.catch_warnings():\n",
    "    warnings.filterwarnings(\"always\")\n",
    "\n",
    "    clus = SpectralClustering(\n",
    "        eigen_solver=\"arpack\",\n",
    "        #         eigen_tol=1e-3,\n",
    "        n_clusters=2,\n",
    "        n_init=1,\n",
    "        affinity=\"rbf\",\n",
    "        gamma=0.001,\n",
    "        random_state=INITIAL_RANDOM_STATE,\n",
    "    )\n",
    "\n",
    "    part = clus.fit_predict(data)"
   ]
  },
  {
   "cell_type": "code",
   "execution_count": 18,
   "metadata": {
    "execution": {
     "iopub.execute_input": "2021-01-12T05:47:09.115885Z",
     "iopub.status.busy": "2021-01-12T05:47:09.115518Z",
     "iopub.status.idle": "2021-01-12T05:47:09.129331Z",
     "shell.execute_reply": "2021-01-12T05:47:09.128952Z"
    },
    "papermill": {
     "duration": 0.044845,
     "end_time": "2021-01-12T05:47:09.129422",
     "exception": false,
     "start_time": "2021-01-12T05:47:09.084577",
     "status": "completed"
    },
    "tags": []
   },
   "outputs": [
    {
     "data": {
      "text/plain": [
       "0    3747\n",
       "1       2\n",
       "dtype: int64"
      ]
     },
     "execution_count": 18,
     "metadata": {},
     "output_type": "execute_result"
    }
   ],
   "source": [
    "# show number of clusters and their size\n",
    "pd.Series(part).value_counts()"
   ]
  },
  {
   "cell_type": "code",
   "execution_count": 19,
   "metadata": {
    "execution": {
     "iopub.execute_input": "2021-01-12T05:47:09.190351Z",
     "iopub.status.busy": "2021-01-12T05:47:09.189970Z",
     "iopub.status.idle": "2021-01-12T05:47:09.523228Z",
     "shell.execute_reply": "2021-01-12T05:47:09.522863Z"
    },
    "papermill": {
     "duration": 0.364275,
     "end_time": "2021-01-12T05:47:09.523315",
     "exception": false,
     "start_time": "2021-01-12T05:47:09.159040",
     "status": "completed"
    },
    "tags": []
   },
   "outputs": [
    {
     "data": {
      "text/plain": [
       "0.6144958831623549"
      ]
     },
     "execution_count": 19,
     "metadata": {},
     "output_type": "execute_result"
    }
   ],
   "source": [
    "# From sklearn website:\n",
    "# The best value is 1 and the worst value is -1. Values near 0 indicate overlapping clusters.\n",
    "# Negative values generally indicate that a sample has been assigned to the wrong cluster,\n",
    "# as a different cluster is more similar\n",
    "silhouette_score(data, part)"
   ]
  },
  {
   "cell_type": "code",
   "execution_count": 20,
   "metadata": {
    "execution": {
     "iopub.execute_input": "2021-01-12T05:47:09.588117Z",
     "iopub.status.busy": "2021-01-12T05:47:09.587753Z",
     "iopub.status.idle": "2021-01-12T05:47:09.632566Z",
     "shell.execute_reply": "2021-01-12T05:47:09.632187Z"
    },
    "papermill": {
     "duration": 0.076104,
     "end_time": "2021-01-12T05:47:09.632672",
     "exception": false,
     "start_time": "2021-01-12T05:47:09.556568",
     "status": "completed"
    },
    "tags": []
   },
   "outputs": [
    {
     "data": {
      "text/plain": [
       "22.767909596877978"
      ]
     },
     "execution_count": 20,
     "metadata": {},
     "output_type": "execute_result"
    }
   ],
   "source": [
    "# From sklearn website:\n",
    "# The score is defined as ratio between the within-cluster dispersion and the between-cluster dispersion. Higher is better.\n",
    "calinski_harabasz_score(data, part)"
   ]
  },
  {
   "cell_type": "markdown",
   "metadata": {
    "papermill": {
     "duration": 0.028947,
     "end_time": "2021-01-12T05:47:09.695474",
     "exception": false,
     "start_time": "2021-01-12T05:47:09.666527",
     "status": "completed"
    },
    "tags": []
   },
   "source": [
    "For values around `gamma=0.001` now the algorithm converges. This suggests smaller values should be explored for this parameter."
   ]
  },
  {
   "cell_type": "markdown",
   "metadata": {
    "papermill": {
     "duration": 0.02933,
     "end_time": "2021-01-12T05:47:09.754029",
     "exception": false,
     "start_time": "2021-01-12T05:47:09.724699",
     "status": "completed"
    },
    "tags": []
   },
   "source": [
    "## Extended test"
   ]
  },
  {
   "cell_type": "markdown",
   "metadata": {},
   "source": [
    "Here I run some test across several `k` and `gamma` values; then I check how results perform with different clustering quality measures."
   ]
  },
  {
   "cell_type": "code",
   "execution_count": 21,
   "metadata": {
    "execution": {
     "iopub.execute_input": "2021-01-12T05:47:09.816126Z",
     "iopub.status.busy": "2021-01-12T05:47:09.815754Z",
     "iopub.status.idle": "2021-01-12T05:47:09.829128Z",
     "shell.execute_reply": "2021-01-12T05:47:09.828733Z"
    },
    "papermill": {
     "duration": 0.045984,
     "end_time": "2021-01-12T05:47:09.829215",
     "exception": false,
     "start_time": "2021-01-12T05:47:09.783231",
     "status": "completed"
    },
    "tags": []
   },
   "outputs": [
    {
     "data": {
      "text/plain": [
       "{'K_RANGE': [2, 4, 6, 8, 10, 20, 30, 40, 50, 60],\n",
       " 'N_REPS_PER_K': 5,\n",
       " 'KMEANS_N_INIT': 10,\n",
       " 'GAMMAS': [0.001, 1e-05, 1e-10, 1e-15, 1e-17, 1e-20, 1e-30, 1e-40, 1e-50],\n",
       " 'AFFINITY': 'rbf'}"
      ]
     },
     "metadata": {},
     "output_type": "display_data"
    }
   ],
   "source": [
    "CLUSTERING_OPTIONS = {}\n",
    "\n",
    "CLUSTERING_OPTIONS[\"K_RANGE\"] = [2, 4, 6, 8, 10, 20, 30, 40, 50, 60]\n",
    "CLUSTERING_OPTIONS[\"N_REPS_PER_K\"] = 5\n",
    "CLUSTERING_OPTIONS[\"KMEANS_N_INIT\"] = 10\n",
    "CLUSTERING_OPTIONS[\"GAMMAS\"] = [\n",
    "    1e-03,\n",
    "    #     1e-04,\n",
    "    #     1e-05,\n",
    "    1e-05,\n",
    "    #     1e-06,\n",
    "    #     1e-07,\n",
    "    #     1e-08,\n",
    "    #     1e-09,\n",
    "    1e-10,\n",
    "    #     1e-11,\n",
    "    #     1e-12,\n",
    "    #     1e-13,\n",
    "    #     1e-14,\n",
    "    1e-15,\n",
    "    1e-17,\n",
    "    1e-20,\n",
    "    1e-30,\n",
    "    1e-40,\n",
    "    1e-50,\n",
    "]\n",
    "CLUSTERING_OPTIONS[\"AFFINITY\"] = \"rbf\"\n",
    "\n",
    "display(CLUSTERING_OPTIONS)"
   ]
  },
  {
   "cell_type": "code",
   "execution_count": 22,
   "metadata": {
    "execution": {
     "iopub.execute_input": "2021-01-12T05:47:09.893254Z",
     "iopub.status.busy": "2021-01-12T05:47:09.892878Z",
     "iopub.status.idle": "2021-01-12T05:47:09.906383Z",
     "shell.execute_reply": "2021-01-12T05:47:09.906681Z"
    },
    "papermill": {
     "duration": 0.047547,
     "end_time": "2021-01-12T05:47:09.906795",
     "exception": false,
     "start_time": "2021-01-12T05:47:09.859248",
     "status": "completed"
    },
    "tags": []
   },
   "outputs": [],
   "source": [
    "CLUSTERERS = {}\n",
    "\n",
    "idx = 0\n",
    "random_state = INITIAL_RANDOM_STATE\n",
    "\n",
    "for k in CLUSTERING_OPTIONS[\"K_RANGE\"]:\n",
    "    for gamma_value in CLUSTERING_OPTIONS[\"GAMMAS\"]:\n",
    "        for i in range(CLUSTERING_OPTIONS[\"N_REPS_PER_K\"]):\n",
    "            clus = SpectralClustering(\n",
    "                eigen_solver=\"arpack\",\n",
    "                n_clusters=k,\n",
    "                n_init=CLUSTERING_OPTIONS[\"KMEANS_N_INIT\"],\n",
    "                affinity=CLUSTERING_OPTIONS[\"AFFINITY\"],\n",
    "                gamma=gamma_value,\n",
    "                random_state=random_state,\n",
    "            )\n",
    "\n",
    "            method_name = type(clus).__name__\n",
    "            CLUSTERERS[f\"{method_name} #{idx}\"] = clus\n",
    "\n",
    "            random_state = random_state + 1\n",
    "            idx = idx + 1"
   ]
  },
  {
   "cell_type": "code",
   "execution_count": 23,
   "metadata": {
    "execution": {
     "iopub.execute_input": "2021-01-12T05:47:09.969594Z",
     "iopub.status.busy": "2021-01-12T05:47:09.969215Z",
     "iopub.status.idle": "2021-01-12T05:47:09.981233Z",
     "shell.execute_reply": "2021-01-12T05:47:09.981531Z"
    },
    "papermill": {
     "duration": 0.044037,
     "end_time": "2021-01-12T05:47:09.981636",
     "exception": false,
     "start_time": "2021-01-12T05:47:09.937599",
     "status": "completed"
    },
    "tags": []
   },
   "outputs": [
    {
     "data": {
      "text/plain": [
       "450"
      ]
     },
     "metadata": {},
     "output_type": "display_data"
    }
   ],
   "source": [
    "display(len(CLUSTERERS))"
   ]
  },
  {
   "cell_type": "code",
   "execution_count": 24,
   "metadata": {
    "execution": {
     "iopub.execute_input": "2021-01-12T05:47:10.043973Z",
     "iopub.status.busy": "2021-01-12T05:47:10.043606Z",
     "iopub.status.idle": "2021-01-12T05:47:10.058526Z",
     "shell.execute_reply": "2021-01-12T05:47:10.058155Z"
    },
    "papermill": {
     "duration": 0.04667,
     "end_time": "2021-01-12T05:47:10.058614",
     "exception": false,
     "start_time": "2021-01-12T05:47:10.011944",
     "status": "completed"
    },
    "tags": []
   },
   "outputs": [
    {
     "data": {
      "text/plain": [
       "('SpectralClustering #0',\n",
       " SpectralClustering(eigen_solver='arpack', gamma=0.001, n_clusters=2,\n",
       "                    random_state=30000))"
      ]
     },
     "metadata": {},
     "output_type": "display_data"
    },
    {
     "data": {
      "text/plain": [
       "('SpectralClustering #1',\n",
       " SpectralClustering(eigen_solver='arpack', gamma=0.001, n_clusters=2,\n",
       "                    random_state=30001))"
      ]
     },
     "metadata": {},
     "output_type": "display_data"
    }
   ],
   "source": [
    "_iter = iter(CLUSTERERS.items())\n",
    "display(next(_iter))\n",
    "display(next(_iter))"
   ]
  },
  {
   "cell_type": "code",
   "execution_count": 25,
   "metadata": {
    "execution": {
     "iopub.execute_input": "2021-01-12T05:47:10.141363Z",
     "iopub.status.busy": "2021-01-12T05:47:10.140892Z",
     "iopub.status.idle": "2021-01-12T05:47:10.155942Z",
     "shell.execute_reply": "2021-01-12T05:47:10.155478Z"
    },
    "papermill": {
     "duration": 0.0666,
     "end_time": "2021-01-12T05:47:10.156049",
     "exception": false,
     "start_time": "2021-01-12T05:47:10.089449",
     "status": "completed"
    },
    "tags": []
   },
   "outputs": [
    {
     "data": {
      "text/plain": [
       "'SpectralClustering'"
      ]
     },
     "metadata": {},
     "output_type": "display_data"
    }
   ],
   "source": [
    "clustering_method_name = method_name\n",
    "display(clustering_method_name)"
   ]
  },
  {
   "cell_type": "markdown",
   "metadata": {
    "papermill": {
     "duration": 0.030491,
     "end_time": "2021-01-12T05:47:10.224400",
     "exception": false,
     "start_time": "2021-01-12T05:47:10.193909",
     "status": "completed"
    },
    "tags": []
   },
   "source": [
    "## Generate ensemble"
   ]
  },
  {
   "cell_type": "code",
   "execution_count": 26,
   "metadata": {
    "execution": {
     "iopub.execute_input": "2021-01-12T05:47:10.289932Z",
     "iopub.status.busy": "2021-01-12T05:47:10.289544Z",
     "iopub.status.idle": "2021-01-12T05:47:10.305050Z",
     "shell.execute_reply": "2021-01-12T05:47:10.304725Z"
    },
    "papermill": {
     "duration": 0.050449,
     "end_time": "2021-01-12T05:47:10.305144",
     "exception": false,
     "start_time": "2021-01-12T05:47:10.254695",
     "status": "completed"
    },
    "tags": []
   },
   "outputs": [],
   "source": [
    "import tempfile\n",
    "from clustering.ensembles.utils import generate_ensemble"
   ]
  },
  {
   "cell_type": "code",
   "execution_count": 27,
   "metadata": {
    "execution": {
     "iopub.execute_input": "2021-01-12T05:47:10.369516Z",
     "iopub.status.busy": "2021-01-12T05:47:10.369144Z",
     "iopub.status.idle": "2021-01-12T05:47:10.381286Z",
     "shell.execute_reply": "2021-01-12T05:47:10.380899Z"
    },
    "papermill": {
     "duration": 0.044909,
     "end_time": "2021-01-12T05:47:10.381376",
     "exception": false,
     "start_time": "2021-01-12T05:47:10.336467",
     "status": "completed"
    },
    "tags": []
   },
   "outputs": [],
   "source": [
    "# generate a temporary folder where to store the ensemble and avoid computing it again\n",
    "ensemble_folder = Path(\n",
    "    tempfile.gettempdir(),\n",
    "    f\"pre_cluster_analysis\",\n",
    "    clustering_method_name,\n",
    ").resolve()\n",
    "ensemble_folder.mkdir(parents=True, exist_ok=True)"
   ]
  },
  {
   "cell_type": "code",
   "execution_count": 28,
   "metadata": {
    "execution": {
     "iopub.execute_input": "2021-01-12T05:47:10.445950Z",
     "iopub.status.busy": "2021-01-12T05:47:10.445570Z",
     "iopub.status.idle": "2021-01-12T05:47:10.458241Z",
     "shell.execute_reply": "2021-01-12T05:47:10.458520Z"
    },
    "papermill": {
     "duration": 0.046012,
     "end_time": "2021-01-12T05:47:10.458628",
     "exception": false,
     "start_time": "2021-01-12T05:47:10.412616",
     "status": "completed"
    },
    "tags": []
   },
   "outputs": [
    {
     "data": {
      "text/plain": [
       "PosixPath('/tmp/pre_cluster_analysis/SpectralClustering/ensemble-z_score_std-AFFINITY_rbf-GAMMAS_0001_1e_05_1e_10_1e_15_1e_17_1e_20_1e_30_1e_40_1e_50-KMEANS_N_INIT_10-K_RANGE_2_4_6_8_10_20_30_40_50_60-N_REPS_PER_K_5.pkl')"
      ]
     },
     "metadata": {},
     "output_type": "display_data"
    }
   ],
   "source": [
    "ensemble_file = Path(\n",
    "    ensemble_folder,\n",
    "    generate_result_set_name(\n",
    "        CLUSTERING_OPTIONS, prefix=f\"ensemble-{INPUT_SUBSET}-\", suffix=\".pkl\"\n",
    "    ),\n",
    ")\n",
    "display(ensemble_file)"
   ]
  },
  {
   "cell_type": "code",
   "execution_count": 29,
   "metadata": {
    "execution": {
     "iopub.execute_input": "2021-01-12T05:47:10.523640Z",
     "iopub.status.busy": "2021-01-12T05:47:10.523262Z",
     "iopub.status.idle": "2021-01-12T06:06:39.092603Z",
     "shell.execute_reply": "2021-01-12T06:06:39.092206Z"
    },
    "papermill": {
     "duration": 1168.60284,
     "end_time": "2021-01-12T06:06:39.092707",
     "exception": false,
     "start_time": "2021-01-12T05:47:10.489867",
     "status": "completed"
    },
    "tags": []
   },
   "outputs": [
    {
     "name": "stderr",
     "output_type": "stream",
     "text": [
      "100%|██████████| 450/450 [19:28<00:00,  2.60s/it]\n"
     ]
    }
   ],
   "source": [
    "if ensemble_file.exists():\n",
    "    display(f\"Ensemble file exists\")\n",
    "    ensemble = pd.read_pickle(ensemble_file)\n",
    "else:\n",
    "    ensemble = generate_ensemble(\n",
    "        data,\n",
    "        CLUSTERERS,\n",
    "        attributes=[\"n_clusters\", \"gamma\"],\n",
    "    )\n",
    "\n",
    "    ensemble.to_pickle(ensemble_file)"
   ]
  },
  {
   "cell_type": "code",
   "execution_count": 30,
   "metadata": {
    "execution": {
     "iopub.execute_input": "2021-01-12T06:06:39.306396Z",
     "iopub.status.busy": "2021-01-12T06:06:39.306025Z",
     "iopub.status.idle": "2021-01-12T06:06:39.319838Z",
     "shell.execute_reply": "2021-01-12T06:06:39.319465Z"
    },
    "papermill": {
     "duration": 0.118764,
     "end_time": "2021-01-12T06:06:39.319925",
     "exception": false,
     "start_time": "2021-01-12T06:06:39.201161",
     "status": "completed"
    },
    "tags": []
   },
   "outputs": [
    {
     "data": {
      "text/plain": [
       "(450, 4)"
      ]
     },
     "execution_count": 30,
     "metadata": {},
     "output_type": "execute_result"
    }
   ],
   "source": [
    "ensemble.shape"
   ]
  },
  {
   "cell_type": "code",
   "execution_count": 31,
   "metadata": {
    "execution": {
     "iopub.execute_input": "2021-01-12T06:06:39.529397Z",
     "iopub.status.busy": "2021-01-12T06:06:39.529037Z",
     "iopub.status.idle": "2021-01-12T06:06:39.549356Z",
     "shell.execute_reply": "2021-01-12T06:06:39.549647Z"
    },
    "papermill": {
     "duration": 0.125189,
     "end_time": "2021-01-12T06:06:39.549753",
     "exception": false,
     "start_time": "2021-01-12T06:06:39.424564",
     "status": "completed"
    },
    "tags": []
   },
   "outputs": [
    {
     "data": {
      "text/html": [
       "<div>\n",
       "<style scoped>\n",
       "    .dataframe tbody tr th:only-of-type {\n",
       "        vertical-align: middle;\n",
       "    }\n",
       "\n",
       "    .dataframe tbody tr th {\n",
       "        vertical-align: top;\n",
       "    }\n",
       "\n",
       "    .dataframe thead th {\n",
       "        text-align: right;\n",
       "    }\n",
       "</style>\n",
       "<table border=\"1\" class=\"dataframe\">\n",
       "  <thead>\n",
       "    <tr style=\"text-align: right;\">\n",
       "      <th></th>\n",
       "      <th>clusterer_params</th>\n",
       "      <th>partition</th>\n",
       "      <th>n_clusters</th>\n",
       "      <th>gamma</th>\n",
       "    </tr>\n",
       "    <tr>\n",
       "      <th>clusterer_id</th>\n",
       "      <th></th>\n",
       "      <th></th>\n",
       "      <th></th>\n",
       "      <th></th>\n",
       "    </tr>\n",
       "  </thead>\n",
       "  <tbody>\n",
       "    <tr>\n",
       "      <th>SpectralClustering #0</th>\n",
       "      <td>{'affinity': 'rbf', 'assign_labels': 'kmeans',...</td>\n",
       "      <td>[0.0, 0.0, 0.0, 0.0, 0.0, 0.0, 0.0, 0.0, 0.0, ...</td>\n",
       "      <td>2</td>\n",
       "      <td>0.001</td>\n",
       "    </tr>\n",
       "    <tr>\n",
       "      <th>SpectralClustering #1</th>\n",
       "      <td>{'affinity': 'rbf', 'assign_labels': 'kmeans',...</td>\n",
       "      <td>[0.0, 0.0, 0.0, 0.0, 0.0, 0.0, 0.0, 0.0, 0.0, ...</td>\n",
       "      <td>2</td>\n",
       "      <td>0.001</td>\n",
       "    </tr>\n",
       "    <tr>\n",
       "      <th>SpectralClustering #2</th>\n",
       "      <td>{'affinity': 'rbf', 'assign_labels': 'kmeans',...</td>\n",
       "      <td>[0.0, 0.0, 0.0, 0.0, 0.0, 0.0, 0.0, 0.0, 0.0, ...</td>\n",
       "      <td>2</td>\n",
       "      <td>0.001</td>\n",
       "    </tr>\n",
       "    <tr>\n",
       "      <th>SpectralClustering #3</th>\n",
       "      <td>{'affinity': 'rbf', 'assign_labels': 'kmeans',...</td>\n",
       "      <td>[0.0, 0.0, 0.0, 0.0, 0.0, 0.0, 0.0, 0.0, 0.0, ...</td>\n",
       "      <td>2</td>\n",
       "      <td>0.001</td>\n",
       "    </tr>\n",
       "    <tr>\n",
       "      <th>SpectralClustering #4</th>\n",
       "      <td>{'affinity': 'rbf', 'assign_labels': 'kmeans',...</td>\n",
       "      <td>[0.0, 0.0, 0.0, 0.0, 0.0, 0.0, 0.0, 0.0, 0.0, ...</td>\n",
       "      <td>2</td>\n",
       "      <td>0.001</td>\n",
       "    </tr>\n",
       "  </tbody>\n",
       "</table>\n",
       "</div>"
      ],
      "text/plain": [
       "                                                        clusterer_params  \\\n",
       "clusterer_id                                                               \n",
       "SpectralClustering #0  {'affinity': 'rbf', 'assign_labels': 'kmeans',...   \n",
       "SpectralClustering #1  {'affinity': 'rbf', 'assign_labels': 'kmeans',...   \n",
       "SpectralClustering #2  {'affinity': 'rbf', 'assign_labels': 'kmeans',...   \n",
       "SpectralClustering #3  {'affinity': 'rbf', 'assign_labels': 'kmeans',...   \n",
       "SpectralClustering #4  {'affinity': 'rbf', 'assign_labels': 'kmeans',...   \n",
       "\n",
       "                                                               partition  \\\n",
       "clusterer_id                                                               \n",
       "SpectralClustering #0  [0.0, 0.0, 0.0, 0.0, 0.0, 0.0, 0.0, 0.0, 0.0, ...   \n",
       "SpectralClustering #1  [0.0, 0.0, 0.0, 0.0, 0.0, 0.0, 0.0, 0.0, 0.0, ...   \n",
       "SpectralClustering #2  [0.0, 0.0, 0.0, 0.0, 0.0, 0.0, 0.0, 0.0, 0.0, ...   \n",
       "SpectralClustering #3  [0.0, 0.0, 0.0, 0.0, 0.0, 0.0, 0.0, 0.0, 0.0, ...   \n",
       "SpectralClustering #4  [0.0, 0.0, 0.0, 0.0, 0.0, 0.0, 0.0, 0.0, 0.0, ...   \n",
       "\n",
       "                       n_clusters  gamma  \n",
       "clusterer_id                              \n",
       "SpectralClustering #0           2  0.001  \n",
       "SpectralClustering #1           2  0.001  \n",
       "SpectralClustering #2           2  0.001  \n",
       "SpectralClustering #3           2  0.001  \n",
       "SpectralClustering #4           2  0.001  "
      ]
     },
     "execution_count": 31,
     "metadata": {},
     "output_type": "execute_result"
    }
   ],
   "source": [
    "ensemble.head()"
   ]
  },
  {
   "cell_type": "code",
   "execution_count": 32,
   "metadata": {
    "execution": {
     "iopub.execute_input": "2021-01-12T06:06:39.759655Z",
     "iopub.status.busy": "2021-01-12T06:06:39.759254Z",
     "iopub.status.idle": "2021-01-12T06:06:39.772642Z",
     "shell.execute_reply": "2021-01-12T06:06:39.772268Z"
    },
    "papermill": {
     "duration": 0.118827,
     "end_time": "2021-01-12T06:06:39.772734",
     "exception": false,
     "start_time": "2021-01-12T06:06:39.653907",
     "status": "completed"
    },
    "tags": []
   },
   "outputs": [],
   "source": [
    "ensemble[\"gamma\"] = ensemble[\"gamma\"].apply(lambda x: f\"{x:.1e}\")"
   ]
  },
  {
   "cell_type": "code",
   "execution_count": 33,
   "metadata": {
    "execution": {
     "iopub.execute_input": "2021-01-12T06:06:39.982734Z",
     "iopub.status.busy": "2021-01-12T06:06:39.982371Z",
     "iopub.status.idle": "2021-01-12T06:06:39.996063Z",
     "shell.execute_reply": "2021-01-12T06:06:39.995701Z"
    },
    "papermill": {
     "duration": 0.120293,
     "end_time": "2021-01-12T06:06:39.996162",
     "exception": false,
     "start_time": "2021-01-12T06:06:39.875869",
     "status": "completed"
    },
    "tags": []
   },
   "outputs": [
    {
     "data": {
      "text/plain": [
       "60    45\n",
       "50    45\n",
       "40    45\n",
       "30    45\n",
       "20    45\n",
       "10    45\n",
       "8     45\n",
       "6     45\n",
       "4     45\n",
       "2     45\n",
       "Name: n_clusters, dtype: int64"
      ]
     },
     "execution_count": 33,
     "metadata": {},
     "output_type": "execute_result"
    }
   ],
   "source": [
    "ensemble[\"n_clusters\"].value_counts()"
   ]
  },
  {
   "cell_type": "code",
   "execution_count": 34,
   "metadata": {
    "execution": {
     "iopub.execute_input": "2021-01-12T06:06:40.207947Z",
     "iopub.status.busy": "2021-01-12T06:06:40.207583Z",
     "iopub.status.idle": "2021-01-12T06:06:40.220615Z",
     "shell.execute_reply": "2021-01-12T06:06:40.220234Z"
    },
    "papermill": {
     "duration": 0.119158,
     "end_time": "2021-01-12T06:06:40.220735",
     "exception": false,
     "start_time": "2021-01-12T06:06:40.101577",
     "status": "completed"
    },
    "tags": []
   },
   "outputs": [],
   "source": [
    "_tmp = ensemble[\"n_clusters\"].value_counts().unique()\n",
    "assert _tmp.shape[0] == 1\n",
    "assert _tmp[0] == int(\n",
    "    CLUSTERING_OPTIONS[\"N_REPS_PER_K\"] * len(CLUSTERING_OPTIONS[\"GAMMAS\"])\n",
    ")"
   ]
  },
  {
   "cell_type": "code",
   "execution_count": 35,
   "metadata": {
    "execution": {
     "iopub.execute_input": "2021-01-12T06:06:40.432202Z",
     "iopub.status.busy": "2021-01-12T06:06:40.431841Z",
     "iopub.status.idle": "2021-01-12T06:06:40.446391Z",
     "shell.execute_reply": "2021-01-12T06:06:40.446680Z"
    },
    "papermill": {
     "duration": 0.121609,
     "end_time": "2021-01-12T06:06:40.446786",
     "exception": false,
     "start_time": "2021-01-12T06:06:40.325177",
     "status": "completed"
    },
    "tags": []
   },
   "outputs": [
    {
     "data": {
      "text/plain": [
       "count    450.000000\n",
       "mean      23.000000\n",
       "std       19.846291\n",
       "min        2.000000\n",
       "25%        6.000000\n",
       "50%       15.000000\n",
       "75%       40.000000\n",
       "max       60.000000\n",
       "Name: n_clusters, dtype: float64"
      ]
     },
     "metadata": {},
     "output_type": "display_data"
    }
   ],
   "source": [
    "ensemble_stats = ensemble[\"n_clusters\"].describe()\n",
    "display(ensemble_stats)"
   ]
  },
  {
   "cell_type": "markdown",
   "metadata": {
    "papermill": {
     "duration": 0.104421,
     "end_time": "2021-01-12T06:06:40.654326",
     "exception": false,
     "start_time": "2021-01-12T06:06:40.549905",
     "status": "completed"
    },
    "tags": []
   },
   "source": [
    "### Testing"
   ]
  },
  {
   "cell_type": "code",
   "execution_count": 36,
   "metadata": {
    "execution": {
     "iopub.execute_input": "2021-01-12T06:06:40.865429Z",
     "iopub.status.busy": "2021-01-12T06:06:40.865065Z",
     "iopub.status.idle": "2021-01-12T06:06:40.877205Z",
     "shell.execute_reply": "2021-01-12T06:06:40.876849Z"
    },
    "papermill": {
     "duration": 0.11885,
     "end_time": "2021-01-12T06:06:40.877289",
     "exception": false,
     "start_time": "2021-01-12T06:06:40.758439",
     "status": "completed"
    },
    "tags": []
   },
   "outputs": [],
   "source": [
    "assert ensemble_stats[\"min\"] > 1"
   ]
  },
  {
   "cell_type": "code",
   "execution_count": 37,
   "metadata": {
    "execution": {
     "iopub.execute_input": "2021-01-12T06:06:41.085301Z",
     "iopub.status.busy": "2021-01-12T06:06:41.084927Z",
     "iopub.status.idle": "2021-01-12T06:06:41.097276Z",
     "shell.execute_reply": "2021-01-12T06:06:41.096917Z"
    },
    "papermill": {
     "duration": 0.117335,
     "end_time": "2021-01-12T06:06:41.097361",
     "exception": false,
     "start_time": "2021-01-12T06:06:40.980026",
     "status": "completed"
    },
    "tags": []
   },
   "outputs": [],
   "source": [
    "assert not ensemble[\"n_clusters\"].isna().any()"
   ]
  },
  {
   "cell_type": "code",
   "execution_count": 38,
   "metadata": {
    "execution": {
     "iopub.execute_input": "2021-01-12T06:06:41.306858Z",
     "iopub.status.busy": "2021-01-12T06:06:41.306487Z",
     "iopub.status.idle": "2021-01-12T06:06:41.318125Z",
     "shell.execute_reply": "2021-01-12T06:06:41.318398Z"
    },
    "papermill": {
     "duration": 0.117639,
     "end_time": "2021-01-12T06:06:41.318506",
     "exception": false,
     "start_time": "2021-01-12T06:06:41.200867",
     "status": "completed"
    },
    "tags": []
   },
   "outputs": [],
   "source": [
    "assert ensemble.shape[0] == len(CLUSTERERS)"
   ]
  },
  {
   "cell_type": "code",
   "execution_count": 39,
   "metadata": {
    "execution": {
     "iopub.execute_input": "2021-01-12T06:06:41.527282Z",
     "iopub.status.busy": "2021-01-12T06:06:41.526918Z",
     "iopub.status.idle": "2021-01-12T06:06:41.565422Z",
     "shell.execute_reply": "2021-01-12T06:06:41.565043Z"
    },
    "papermill": {
     "duration": 0.143563,
     "end_time": "2021-01-12T06:06:41.565509",
     "exception": false,
     "start_time": "2021-01-12T06:06:41.421946",
     "status": "completed"
    },
    "tags": []
   },
   "outputs": [],
   "source": [
    "# all partitions have the right size\n",
    "assert np.all(\n",
    "    [part[\"partition\"].shape[0] == data.shape[0] for idx, part in ensemble.iterrows()]\n",
    ")"
   ]
  },
  {
   "cell_type": "code",
   "execution_count": 40,
   "metadata": {
    "execution": {
     "iopub.execute_input": "2021-01-12T06:06:41.775350Z",
     "iopub.status.busy": "2021-01-12T06:06:41.774991Z",
     "iopub.status.idle": "2021-01-12T06:06:41.818509Z",
     "shell.execute_reply": "2021-01-12T06:06:41.818789Z"
    },
    "papermill": {
     "duration": 0.149121,
     "end_time": "2021-01-12T06:06:41.818898",
     "exception": false,
     "start_time": "2021-01-12T06:06:41.669777",
     "status": "completed"
    },
    "tags": []
   },
   "outputs": [],
   "source": [
    "# no partition has negative clusters (noisy points)\n",
    "assert not np.any([(part[\"partition\"] < 0).any() for idx, part in ensemble.iterrows()])"
   ]
  },
  {
   "cell_type": "code",
   "execution_count": 41,
   "metadata": {
    "execution": {
     "iopub.execute_input": "2021-01-12T06:06:42.029350Z",
     "iopub.status.busy": "2021-01-12T06:06:42.028983Z",
     "iopub.status.idle": "2021-01-12T06:06:42.072971Z",
     "shell.execute_reply": "2021-01-12T06:06:42.072563Z"
    },
    "papermill": {
     "duration": 0.150198,
     "end_time": "2021-01-12T06:06:42.073058",
     "exception": false,
     "start_time": "2021-01-12T06:06:41.922860",
     "status": "completed"
    },
    "tags": []
   },
   "outputs": [
    {
     "data": {
      "text/plain": [
       "clusterer_id\n",
       "SpectralClustering #0       2\n",
       "SpectralClustering #1       2\n",
       "SpectralClustering #2       2\n",
       "SpectralClustering #3       2\n",
       "SpectralClustering #4       2\n",
       "                           ..\n",
       "SpectralClustering #445    60\n",
       "SpectralClustering #446    60\n",
       "SpectralClustering #447    60\n",
       "SpectralClustering #448    60\n",
       "SpectralClustering #449    60\n",
       "Name: partition, Length: 450, dtype: int64"
      ]
     },
     "metadata": {},
     "output_type": "display_data"
    }
   ],
   "source": [
    "# check that the number of clusters in the partitions are the expected ones\n",
    "_real_k_values = ensemble[\"partition\"].apply(lambda x: np.unique(x).shape[0])\n",
    "display(_real_k_values)\n",
    "assert np.all(ensemble[\"n_clusters\"].values == _real_k_values.values)"
   ]
  },
  {
   "cell_type": "markdown",
   "metadata": {
    "papermill": {
     "duration": 0.104,
     "end_time": "2021-01-12T06:06:42.281191",
     "exception": false,
     "start_time": "2021-01-12T06:06:42.177191",
     "status": "completed"
    },
    "tags": []
   },
   "source": [
    "### Add clustering quality measures"
   ]
  },
  {
   "cell_type": "code",
   "execution_count": 42,
   "metadata": {
    "execution": {
     "iopub.execute_input": "2021-01-12T06:06:42.493182Z",
     "iopub.status.busy": "2021-01-12T06:06:42.492798Z",
     "iopub.status.idle": "2021-01-12T06:06:58.974292Z",
     "shell.execute_reply": "2021-01-12T06:06:58.974665Z"
    },
    "papermill": {
     "duration": 16.588641,
     "end_time": "2021-01-12T06:06:58.974804",
     "exception": false,
     "start_time": "2021-01-12T06:06:42.386163",
     "status": "completed"
    },
    "tags": []
   },
   "outputs": [],
   "source": [
    "ensemble = ensemble.assign(\n",
    "    ch_score=ensemble[\"partition\"].apply(lambda x: calinski_harabasz_score(data, x))\n",
    ")"
   ]
  },
  {
   "cell_type": "code",
   "execution_count": 43,
   "metadata": {
    "execution": {
     "iopub.execute_input": "2021-01-12T06:06:59.195106Z",
     "iopub.status.busy": "2021-01-12T06:06:59.194744Z",
     "iopub.status.idle": "2021-01-12T06:06:59.207559Z",
     "shell.execute_reply": "2021-01-12T06:06:59.207187Z"
    },
    "papermill": {
     "duration": 0.118879,
     "end_time": "2021-01-12T06:06:59.207646",
     "exception": false,
     "start_time": "2021-01-12T06:06:59.088767",
     "status": "completed"
    },
    "tags": []
   },
   "outputs": [
    {
     "data": {
      "text/plain": [
       "(450, 5)"
      ]
     },
     "execution_count": 43,
     "metadata": {},
     "output_type": "execute_result"
    }
   ],
   "source": [
    "ensemble.shape"
   ]
  },
  {
   "cell_type": "code",
   "execution_count": 44,
   "metadata": {
    "execution": {
     "iopub.execute_input": "2021-01-12T06:06:59.420585Z",
     "iopub.status.busy": "2021-01-12T06:06:59.420216Z",
     "iopub.status.idle": "2021-01-12T06:06:59.441116Z",
     "shell.execute_reply": "2021-01-12T06:06:59.440701Z"
    },
    "papermill": {
     "duration": 0.127873,
     "end_time": "2021-01-12T06:06:59.441201",
     "exception": false,
     "start_time": "2021-01-12T06:06:59.313328",
     "status": "completed"
    },
    "tags": []
   },
   "outputs": [
    {
     "data": {
      "text/html": [
       "<div>\n",
       "<style scoped>\n",
       "    .dataframe tbody tr th:only-of-type {\n",
       "        vertical-align: middle;\n",
       "    }\n",
       "\n",
       "    .dataframe tbody tr th {\n",
       "        vertical-align: top;\n",
       "    }\n",
       "\n",
       "    .dataframe thead th {\n",
       "        text-align: right;\n",
       "    }\n",
       "</style>\n",
       "<table border=\"1\" class=\"dataframe\">\n",
       "  <thead>\n",
       "    <tr style=\"text-align: right;\">\n",
       "      <th></th>\n",
       "      <th>clusterer_params</th>\n",
       "      <th>partition</th>\n",
       "      <th>n_clusters</th>\n",
       "      <th>gamma</th>\n",
       "      <th>ch_score</th>\n",
       "    </tr>\n",
       "    <tr>\n",
       "      <th>clusterer_id</th>\n",
       "      <th></th>\n",
       "      <th></th>\n",
       "      <th></th>\n",
       "      <th></th>\n",
       "      <th></th>\n",
       "    </tr>\n",
       "  </thead>\n",
       "  <tbody>\n",
       "    <tr>\n",
       "      <th>SpectralClustering #0</th>\n",
       "      <td>{'affinity': 'rbf', 'assign_labels': 'kmeans',...</td>\n",
       "      <td>[0.0, 0.0, 0.0, 0.0, 0.0, 0.0, 0.0, 0.0, 0.0, ...</td>\n",
       "      <td>2</td>\n",
       "      <td>1.0e-03</td>\n",
       "      <td>22.76791</td>\n",
       "    </tr>\n",
       "    <tr>\n",
       "      <th>SpectralClustering #1</th>\n",
       "      <td>{'affinity': 'rbf', 'assign_labels': 'kmeans',...</td>\n",
       "      <td>[0.0, 0.0, 0.0, 0.0, 0.0, 0.0, 0.0, 0.0, 0.0, ...</td>\n",
       "      <td>2</td>\n",
       "      <td>1.0e-03</td>\n",
       "      <td>22.76791</td>\n",
       "    </tr>\n",
       "    <tr>\n",
       "      <th>SpectralClustering #2</th>\n",
       "      <td>{'affinity': 'rbf', 'assign_labels': 'kmeans',...</td>\n",
       "      <td>[0.0, 0.0, 0.0, 0.0, 0.0, 0.0, 0.0, 0.0, 0.0, ...</td>\n",
       "      <td>2</td>\n",
       "      <td>1.0e-03</td>\n",
       "      <td>22.76791</td>\n",
       "    </tr>\n",
       "    <tr>\n",
       "      <th>SpectralClustering #3</th>\n",
       "      <td>{'affinity': 'rbf', 'assign_labels': 'kmeans',...</td>\n",
       "      <td>[0.0, 0.0, 0.0, 0.0, 0.0, 0.0, 0.0, 0.0, 0.0, ...</td>\n",
       "      <td>2</td>\n",
       "      <td>1.0e-03</td>\n",
       "      <td>22.76791</td>\n",
       "    </tr>\n",
       "    <tr>\n",
       "      <th>SpectralClustering #4</th>\n",
       "      <td>{'affinity': 'rbf', 'assign_labels': 'kmeans',...</td>\n",
       "      <td>[0.0, 0.0, 0.0, 0.0, 0.0, 0.0, 0.0, 0.0, 0.0, ...</td>\n",
       "      <td>2</td>\n",
       "      <td>1.0e-03</td>\n",
       "      <td>22.76791</td>\n",
       "    </tr>\n",
       "  </tbody>\n",
       "</table>\n",
       "</div>"
      ],
      "text/plain": [
       "                                                        clusterer_params  \\\n",
       "clusterer_id                                                               \n",
       "SpectralClustering #0  {'affinity': 'rbf', 'assign_labels': 'kmeans',...   \n",
       "SpectralClustering #1  {'affinity': 'rbf', 'assign_labels': 'kmeans',...   \n",
       "SpectralClustering #2  {'affinity': 'rbf', 'assign_labels': 'kmeans',...   \n",
       "SpectralClustering #3  {'affinity': 'rbf', 'assign_labels': 'kmeans',...   \n",
       "SpectralClustering #4  {'affinity': 'rbf', 'assign_labels': 'kmeans',...   \n",
       "\n",
       "                                                               partition  \\\n",
       "clusterer_id                                                               \n",
       "SpectralClustering #0  [0.0, 0.0, 0.0, 0.0, 0.0, 0.0, 0.0, 0.0, 0.0, ...   \n",
       "SpectralClustering #1  [0.0, 0.0, 0.0, 0.0, 0.0, 0.0, 0.0, 0.0, 0.0, ...   \n",
       "SpectralClustering #2  [0.0, 0.0, 0.0, 0.0, 0.0, 0.0, 0.0, 0.0, 0.0, ...   \n",
       "SpectralClustering #3  [0.0, 0.0, 0.0, 0.0, 0.0, 0.0, 0.0, 0.0, 0.0, ...   \n",
       "SpectralClustering #4  [0.0, 0.0, 0.0, 0.0, 0.0, 0.0, 0.0, 0.0, 0.0, ...   \n",
       "\n",
       "                       n_clusters    gamma  ch_score  \n",
       "clusterer_id                                          \n",
       "SpectralClustering #0           2  1.0e-03  22.76791  \n",
       "SpectralClustering #1           2  1.0e-03  22.76791  \n",
       "SpectralClustering #2           2  1.0e-03  22.76791  \n",
       "SpectralClustering #3           2  1.0e-03  22.76791  \n",
       "SpectralClustering #4           2  1.0e-03  22.76791  "
      ]
     },
     "execution_count": 44,
     "metadata": {},
     "output_type": "execute_result"
    }
   ],
   "source": [
    "ensemble.head()"
   ]
  },
  {
   "cell_type": "markdown",
   "metadata": {
    "papermill": {
     "duration": 0.105163,
     "end_time": "2021-01-12T06:06:59.651068",
     "exception": false,
     "start_time": "2021-01-12T06:06:59.545905",
     "status": "completed"
    },
    "tags": []
   },
   "source": [
    "# Cluster quality"
   ]
  },
  {
   "cell_type": "code",
   "execution_count": 45,
   "metadata": {
    "execution": {
     "iopub.execute_input": "2021-01-12T06:06:59.872289Z",
     "iopub.status.busy": "2021-01-12T06:06:59.871922Z",
     "iopub.status.idle": "2021-01-12T06:06:59.892617Z",
     "shell.execute_reply": "2021-01-12T06:06:59.892283Z"
    },
    "papermill": {
     "duration": 0.130672,
     "end_time": "2021-01-12T06:06:59.892714",
     "exception": false,
     "start_time": "2021-01-12T06:06:59.762042",
     "status": "completed"
    },
    "tags": []
   },
   "outputs": [
    {
     "data": {
      "text/html": [
       "<div>\n",
       "<style scoped>\n",
       "    .dataframe tbody tr th:only-of-type {\n",
       "        vertical-align: middle;\n",
       "    }\n",
       "\n",
       "    .dataframe tbody tr th {\n",
       "        vertical-align: top;\n",
       "    }\n",
       "\n",
       "    .dataframe thead th {\n",
       "        text-align: right;\n",
       "    }\n",
       "</style>\n",
       "<table border=\"1\" class=\"dataframe\">\n",
       "  <thead>\n",
       "    <tr style=\"text-align: right;\">\n",
       "      <th></th>\n",
       "      <th></th>\n",
       "      <th>ch_score</th>\n",
       "    </tr>\n",
       "    <tr>\n",
       "      <th>n_clusters</th>\n",
       "      <th>gamma</th>\n",
       "      <th></th>\n",
       "    </tr>\n",
       "  </thead>\n",
       "  <tbody>\n",
       "    <tr>\n",
       "      <th rowspan=\"9\" valign=\"top\">2</th>\n",
       "      <th>1.0e-03</th>\n",
       "      <td>22.767910</td>\n",
       "    </tr>\n",
       "    <tr>\n",
       "      <th>1.0e-05</th>\n",
       "      <td>209.860914</td>\n",
       "    </tr>\n",
       "    <tr>\n",
       "      <th>1.0e-10</th>\n",
       "      <td>209.860914</td>\n",
       "    </tr>\n",
       "    <tr>\n",
       "      <th>1.0e-15</th>\n",
       "      <td>209.783893</td>\n",
       "    </tr>\n",
       "    <tr>\n",
       "      <th>1.0e-17</th>\n",
       "      <td>1.096791</td>\n",
       "    </tr>\n",
       "    <tr>\n",
       "      <th>1.0e-20</th>\n",
       "      <td>0.938792</td>\n",
       "    </tr>\n",
       "    <tr>\n",
       "      <th>1.0e-30</th>\n",
       "      <td>1.076975</td>\n",
       "    </tr>\n",
       "    <tr>\n",
       "      <th>1.0e-40</th>\n",
       "      <td>1.124642</td>\n",
       "    </tr>\n",
       "    <tr>\n",
       "      <th>1.0e-50</th>\n",
       "      <td>1.266566</td>\n",
       "    </tr>\n",
       "    <tr>\n",
       "      <th rowspan=\"9\" valign=\"top\">4</th>\n",
       "      <th>1.0e-03</th>\n",
       "      <td>21.450367</td>\n",
       "    </tr>\n",
       "    <tr>\n",
       "      <th>1.0e-05</th>\n",
       "      <td>94.256428</td>\n",
       "    </tr>\n",
       "    <tr>\n",
       "      <th>1.0e-10</th>\n",
       "      <td>97.555611</td>\n",
       "    </tr>\n",
       "    <tr>\n",
       "      <th>1.0e-15</th>\n",
       "      <td>96.760915</td>\n",
       "    </tr>\n",
       "    <tr>\n",
       "      <th>1.0e-17</th>\n",
       "      <td>1.496617</td>\n",
       "    </tr>\n",
       "    <tr>\n",
       "      <th>1.0e-20</th>\n",
       "      <td>1.107616</td>\n",
       "    </tr>\n",
       "    <tr>\n",
       "      <th>1.0e-30</th>\n",
       "      <td>0.995029</td>\n",
       "    </tr>\n",
       "    <tr>\n",
       "      <th>1.0e-40</th>\n",
       "      <td>1.041805</td>\n",
       "    </tr>\n",
       "    <tr>\n",
       "      <th>1.0e-50</th>\n",
       "      <td>1.096372</td>\n",
       "    </tr>\n",
       "    <tr>\n",
       "      <th rowspan=\"9\" valign=\"top\">6</th>\n",
       "      <th>1.0e-03</th>\n",
       "      <td>21.137810</td>\n",
       "    </tr>\n",
       "    <tr>\n",
       "      <th>1.0e-05</th>\n",
       "      <td>78.537956</td>\n",
       "    </tr>\n",
       "    <tr>\n",
       "      <th>1.0e-10</th>\n",
       "      <td>78.534441</td>\n",
       "    </tr>\n",
       "    <tr>\n",
       "      <th>1.0e-15</th>\n",
       "      <td>77.651414</td>\n",
       "    </tr>\n",
       "    <tr>\n",
       "      <th>1.0e-17</th>\n",
       "      <td>1.191033</td>\n",
       "    </tr>\n",
       "    <tr>\n",
       "      <th>1.0e-20</th>\n",
       "      <td>0.954386</td>\n",
       "    </tr>\n",
       "    <tr>\n",
       "      <th>1.0e-30</th>\n",
       "      <td>0.980996</td>\n",
       "    </tr>\n",
       "    <tr>\n",
       "      <th>1.0e-40</th>\n",
       "      <td>0.976958</td>\n",
       "    </tr>\n",
       "    <tr>\n",
       "      <th>1.0e-50</th>\n",
       "      <td>1.355085</td>\n",
       "    </tr>\n",
       "    <tr>\n",
       "      <th rowspan=\"9\" valign=\"top\">8</th>\n",
       "      <th>1.0e-03</th>\n",
       "      <td>18.498460</td>\n",
       "    </tr>\n",
       "    <tr>\n",
       "      <th>1.0e-05</th>\n",
       "      <td>64.154566</td>\n",
       "    </tr>\n",
       "    <tr>\n",
       "      <th>1.0e-10</th>\n",
       "      <td>64.136390</td>\n",
       "    </tr>\n",
       "    <tr>\n",
       "      <th>1.0e-15</th>\n",
       "      <td>63.938455</td>\n",
       "    </tr>\n",
       "    <tr>\n",
       "      <th>1.0e-17</th>\n",
       "      <td>1.484465</td>\n",
       "    </tr>\n",
       "    <tr>\n",
       "      <th>1.0e-20</th>\n",
       "      <td>0.931286</td>\n",
       "    </tr>\n",
       "    <tr>\n",
       "      <th>1.0e-30</th>\n",
       "      <td>1.417041</td>\n",
       "    </tr>\n",
       "    <tr>\n",
       "      <th>1.0e-40</th>\n",
       "      <td>0.933172</td>\n",
       "    </tr>\n",
       "    <tr>\n",
       "      <th>1.0e-50</th>\n",
       "      <td>0.922697</td>\n",
       "    </tr>\n",
       "    <tr>\n",
       "      <th rowspan=\"9\" valign=\"top\">10</th>\n",
       "      <th>1.0e-03</th>\n",
       "      <td>19.592955</td>\n",
       "    </tr>\n",
       "    <tr>\n",
       "      <th>1.0e-05</th>\n",
       "      <td>53.690013</td>\n",
       "    </tr>\n",
       "    <tr>\n",
       "      <th>1.0e-10</th>\n",
       "      <td>53.635724</td>\n",
       "    </tr>\n",
       "    <tr>\n",
       "      <th>1.0e-15</th>\n",
       "      <td>53.413078</td>\n",
       "    </tr>\n",
       "    <tr>\n",
       "      <th>1.0e-17</th>\n",
       "      <td>1.185060</td>\n",
       "    </tr>\n",
       "    <tr>\n",
       "      <th>1.0e-20</th>\n",
       "      <td>1.133346</td>\n",
       "    </tr>\n",
       "    <tr>\n",
       "      <th>1.0e-30</th>\n",
       "      <td>0.904290</td>\n",
       "    </tr>\n",
       "    <tr>\n",
       "      <th>1.0e-40</th>\n",
       "      <td>1.135910</td>\n",
       "    </tr>\n",
       "    <tr>\n",
       "      <th>1.0e-50</th>\n",
       "      <td>1.035553</td>\n",
       "    </tr>\n",
       "    <tr>\n",
       "      <th rowspan=\"9\" valign=\"top\">20</th>\n",
       "      <th>1.0e-03</th>\n",
       "      <td>16.776902</td>\n",
       "    </tr>\n",
       "    <tr>\n",
       "      <th>1.0e-05</th>\n",
       "      <td>33.473616</td>\n",
       "    </tr>\n",
       "    <tr>\n",
       "      <th>1.0e-10</th>\n",
       "      <td>33.600064</td>\n",
       "    </tr>\n",
       "    <tr>\n",
       "      <th>1.0e-15</th>\n",
       "      <td>32.838715</td>\n",
       "    </tr>\n",
       "    <tr>\n",
       "      <th>1.0e-17</th>\n",
       "      <td>1.272791</td>\n",
       "    </tr>\n",
       "    <tr>\n",
       "      <th>1.0e-20</th>\n",
       "      <td>0.987720</td>\n",
       "    </tr>\n",
       "    <tr>\n",
       "      <th>1.0e-30</th>\n",
       "      <td>1.031377</td>\n",
       "    </tr>\n",
       "    <tr>\n",
       "      <th>1.0e-40</th>\n",
       "      <td>1.002109</td>\n",
       "    </tr>\n",
       "    <tr>\n",
       "      <th>1.0e-50</th>\n",
       "      <td>0.990146</td>\n",
       "    </tr>\n",
       "    <tr>\n",
       "      <th rowspan=\"9\" valign=\"top\">30</th>\n",
       "      <th>1.0e-03</th>\n",
       "      <td>15.275871</td>\n",
       "    </tr>\n",
       "    <tr>\n",
       "      <th>1.0e-05</th>\n",
       "      <td>24.763580</td>\n",
       "    </tr>\n",
       "    <tr>\n",
       "      <th>1.0e-10</th>\n",
       "      <td>24.775096</td>\n",
       "    </tr>\n",
       "    <tr>\n",
       "      <th>1.0e-15</th>\n",
       "      <td>23.104899</td>\n",
       "    </tr>\n",
       "    <tr>\n",
       "      <th>1.0e-17</th>\n",
       "      <td>1.349291</td>\n",
       "    </tr>\n",
       "    <tr>\n",
       "      <th>1.0e-20</th>\n",
       "      <td>1.042256</td>\n",
       "    </tr>\n",
       "    <tr>\n",
       "      <th>1.0e-30</th>\n",
       "      <td>1.027032</td>\n",
       "    </tr>\n",
       "    <tr>\n",
       "      <th>1.0e-40</th>\n",
       "      <td>1.106742</td>\n",
       "    </tr>\n",
       "    <tr>\n",
       "      <th>1.0e-50</th>\n",
       "      <td>0.969330</td>\n",
       "    </tr>\n",
       "    <tr>\n",
       "      <th rowspan=\"9\" valign=\"top\">40</th>\n",
       "      <th>1.0e-03</th>\n",
       "      <td>14.505925</td>\n",
       "    </tr>\n",
       "    <tr>\n",
       "      <th>1.0e-05</th>\n",
       "      <td>20.022179</td>\n",
       "    </tr>\n",
       "    <tr>\n",
       "      <th>1.0e-10</th>\n",
       "      <td>19.738095</td>\n",
       "    </tr>\n",
       "    <tr>\n",
       "      <th>1.0e-15</th>\n",
       "      <td>18.193015</td>\n",
       "    </tr>\n",
       "    <tr>\n",
       "      <th>1.0e-17</th>\n",
       "      <td>1.209870</td>\n",
       "    </tr>\n",
       "    <tr>\n",
       "      <th>1.0e-20</th>\n",
       "      <td>0.946206</td>\n",
       "    </tr>\n",
       "    <tr>\n",
       "      <th>1.0e-30</th>\n",
       "      <td>0.943538</td>\n",
       "    </tr>\n",
       "    <tr>\n",
       "      <th>1.0e-40</th>\n",
       "      <td>0.947743</td>\n",
       "    </tr>\n",
       "    <tr>\n",
       "      <th>1.0e-50</th>\n",
       "      <td>0.968014</td>\n",
       "    </tr>\n",
       "    <tr>\n",
       "      <th rowspan=\"9\" valign=\"top\">50</th>\n",
       "      <th>1.0e-03</th>\n",
       "      <td>13.172299</td>\n",
       "    </tr>\n",
       "    <tr>\n",
       "      <th>1.0e-05</th>\n",
       "      <td>16.760280</td>\n",
       "    </tr>\n",
       "    <tr>\n",
       "      <th>1.0e-10</th>\n",
       "      <td>16.627235</td>\n",
       "    </tr>\n",
       "    <tr>\n",
       "      <th>1.0e-15</th>\n",
       "      <td>15.175624</td>\n",
       "    </tr>\n",
       "    <tr>\n",
       "      <th>1.0e-17</th>\n",
       "      <td>1.321981</td>\n",
       "    </tr>\n",
       "    <tr>\n",
       "      <th>1.0e-20</th>\n",
       "      <td>1.023456</td>\n",
       "    </tr>\n",
       "    <tr>\n",
       "      <th>1.0e-30</th>\n",
       "      <td>1.040681</td>\n",
       "    </tr>\n",
       "    <tr>\n",
       "      <th>1.0e-40</th>\n",
       "      <td>0.984202</td>\n",
       "    </tr>\n",
       "    <tr>\n",
       "      <th>1.0e-50</th>\n",
       "      <td>0.983618</td>\n",
       "    </tr>\n",
       "    <tr>\n",
       "      <th rowspan=\"9\" valign=\"top\">60</th>\n",
       "      <th>1.0e-03</th>\n",
       "      <td>12.253414</td>\n",
       "    </tr>\n",
       "    <tr>\n",
       "      <th>1.0e-05</th>\n",
       "      <td>14.695319</td>\n",
       "    </tr>\n",
       "    <tr>\n",
       "      <th>1.0e-10</th>\n",
       "      <td>14.771882</td>\n",
       "    </tr>\n",
       "    <tr>\n",
       "      <th>1.0e-15</th>\n",
       "      <td>12.691248</td>\n",
       "    </tr>\n",
       "    <tr>\n",
       "      <th>1.0e-17</th>\n",
       "      <td>1.216359</td>\n",
       "    </tr>\n",
       "    <tr>\n",
       "      <th>1.0e-20</th>\n",
       "      <td>0.972915</td>\n",
       "    </tr>\n",
       "    <tr>\n",
       "      <th>1.0e-30</th>\n",
       "      <td>1.015899</td>\n",
       "    </tr>\n",
       "    <tr>\n",
       "      <th>1.0e-40</th>\n",
       "      <td>1.028013</td>\n",
       "    </tr>\n",
       "    <tr>\n",
       "      <th>1.0e-50</th>\n",
       "      <td>1.112739</td>\n",
       "    </tr>\n",
       "  </tbody>\n",
       "</table>\n",
       "</div>"
      ],
      "text/plain": [
       "                      ch_score\n",
       "n_clusters gamma              \n",
       "2          1.0e-03   22.767910\n",
       "           1.0e-05  209.860914\n",
       "           1.0e-10  209.860914\n",
       "           1.0e-15  209.783893\n",
       "           1.0e-17    1.096791\n",
       "           1.0e-20    0.938792\n",
       "           1.0e-30    1.076975\n",
       "           1.0e-40    1.124642\n",
       "           1.0e-50    1.266566\n",
       "4          1.0e-03   21.450367\n",
       "           1.0e-05   94.256428\n",
       "           1.0e-10   97.555611\n",
       "           1.0e-15   96.760915\n",
       "           1.0e-17    1.496617\n",
       "           1.0e-20    1.107616\n",
       "           1.0e-30    0.995029\n",
       "           1.0e-40    1.041805\n",
       "           1.0e-50    1.096372\n",
       "6          1.0e-03   21.137810\n",
       "           1.0e-05   78.537956\n",
       "           1.0e-10   78.534441\n",
       "           1.0e-15   77.651414\n",
       "           1.0e-17    1.191033\n",
       "           1.0e-20    0.954386\n",
       "           1.0e-30    0.980996\n",
       "           1.0e-40    0.976958\n",
       "           1.0e-50    1.355085\n",
       "8          1.0e-03   18.498460\n",
       "           1.0e-05   64.154566\n",
       "           1.0e-10   64.136390\n",
       "           1.0e-15   63.938455\n",
       "           1.0e-17    1.484465\n",
       "           1.0e-20    0.931286\n",
       "           1.0e-30    1.417041\n",
       "           1.0e-40    0.933172\n",
       "           1.0e-50    0.922697\n",
       "10         1.0e-03   19.592955\n",
       "           1.0e-05   53.690013\n",
       "           1.0e-10   53.635724\n",
       "           1.0e-15   53.413078\n",
       "           1.0e-17    1.185060\n",
       "           1.0e-20    1.133346\n",
       "           1.0e-30    0.904290\n",
       "           1.0e-40    1.135910\n",
       "           1.0e-50    1.035553\n",
       "20         1.0e-03   16.776902\n",
       "           1.0e-05   33.473616\n",
       "           1.0e-10   33.600064\n",
       "           1.0e-15   32.838715\n",
       "           1.0e-17    1.272791\n",
       "           1.0e-20    0.987720\n",
       "           1.0e-30    1.031377\n",
       "           1.0e-40    1.002109\n",
       "           1.0e-50    0.990146\n",
       "30         1.0e-03   15.275871\n",
       "           1.0e-05   24.763580\n",
       "           1.0e-10   24.775096\n",
       "           1.0e-15   23.104899\n",
       "           1.0e-17    1.349291\n",
       "           1.0e-20    1.042256\n",
       "           1.0e-30    1.027032\n",
       "           1.0e-40    1.106742\n",
       "           1.0e-50    0.969330\n",
       "40         1.0e-03   14.505925\n",
       "           1.0e-05   20.022179\n",
       "           1.0e-10   19.738095\n",
       "           1.0e-15   18.193015\n",
       "           1.0e-17    1.209870\n",
       "           1.0e-20    0.946206\n",
       "           1.0e-30    0.943538\n",
       "           1.0e-40    0.947743\n",
       "           1.0e-50    0.968014\n",
       "50         1.0e-03   13.172299\n",
       "           1.0e-05   16.760280\n",
       "           1.0e-10   16.627235\n",
       "           1.0e-15   15.175624\n",
       "           1.0e-17    1.321981\n",
       "           1.0e-20    1.023456\n",
       "           1.0e-30    1.040681\n",
       "           1.0e-40    0.984202\n",
       "           1.0e-50    0.983618\n",
       "60         1.0e-03   12.253414\n",
       "           1.0e-05   14.695319\n",
       "           1.0e-10   14.771882\n",
       "           1.0e-15   12.691248\n",
       "           1.0e-17    1.216359\n",
       "           1.0e-20    0.972915\n",
       "           1.0e-30    1.015899\n",
       "           1.0e-40    1.028013\n",
       "           1.0e-50    1.112739"
      ]
     },
     "metadata": {},
     "output_type": "display_data"
    }
   ],
   "source": [
    "with pd.option_context(\"display.max_rows\", None, \"display.max_columns\", None):\n",
    "    _df = ensemble.groupby([\"n_clusters\", \"gamma\"]).mean()\n",
    "    display(_df)"
   ]
  },
  {
   "cell_type": "code",
   "execution_count": 46,
   "metadata": {
    "execution": {
     "iopub.execute_input": "2021-01-12T06:07:00.131286Z",
     "iopub.status.busy": "2021-01-12T06:07:00.130912Z",
     "iopub.status.idle": "2021-01-12T06:07:02.471512Z",
     "shell.execute_reply": "2021-01-12T06:07:02.471818Z"
    },
    "papermill": {
     "duration": 2.453689,
     "end_time": "2021-01-12T06:07:02.471926",
     "exception": false,
     "start_time": "2021-01-12T06:07:00.018237",
     "status": "completed"
    },
    "tags": []
   },
   "outputs": [
    {
     "data": {
      "image/png": "[encoded data removed]",
      "text/plain": [
       "<Figure size 1008x432 with 1 Axes>"
      ]
     },
     "metadata": {},
     "output_type": "display_data"
    }
   ],
   "source": [
    "# with sns.axes_style('whitegrid', {'grid.linestyle': '--'}):\n",
    "with sns.plotting_context(\"talk\", font_scale=0.75), sns.axes_style(\n",
    "    \"whitegrid\", {\"grid.linestyle\": \"--\"}\n",
    "):\n",
    "    fig = plt.figure(figsize=(14, 6))\n",
    "    ax = sns.pointplot(data=ensemble, x=\"n_clusters\", y=\"ch_score\", hue=\"gamma\")\n",
    "    ax.set_ylabel(\"Calinski-Harabasz index\")\n",
    "    ax.set_xlabel(\"Number of clusters ($k$)\")\n",
    "    ax.set_xticklabels(ax.get_xticklabels(), rotation=45)\n",
    "    #     ax.set_ylim(0.0, 1.0)\n",
    "    #     ax.set_xlim(CLUSTERING_OPTIONS['K_MIN'], CLUSTERING_OPTIONS['K_MAX'])\n",
    "    plt.grid(True)\n",
    "    plt.tight_layout()"
   ]
  },
  {
   "cell_type": "markdown",
   "metadata": {
    "papermill": {
     "duration": 0.108176,
     "end_time": "2021-01-12T06:07:02.687837",
     "exception": false,
     "start_time": "2021-01-12T06:07:02.579661",
     "status": "completed"
    },
    "tags": []
   },
   "source": [
    "# Stability"
   ]
  },
  {
   "cell_type": "markdown",
   "metadata": {
    "papermill": {
     "duration": 0.10841,
     "end_time": "2021-01-12T06:07:02.903283",
     "exception": false,
     "start_time": "2021-01-12T06:07:02.794873",
     "status": "completed"
    },
    "tags": []
   },
   "source": [
    "## Group ensemble by n_clusters"
   ]
  },
  {
   "cell_type": "code",
   "execution_count": 47,
   "metadata": {
    "execution": {
     "iopub.execute_input": "2021-01-12T06:07:03.122538Z",
     "iopub.status.busy": "2021-01-12T06:07:03.122175Z",
     "iopub.status.idle": "2021-01-12T06:07:03.155342Z",
     "shell.execute_reply": "2021-01-12T06:07:03.154962Z"
    },
    "papermill": {
     "duration": 0.143815,
     "end_time": "2021-01-12T06:07:03.155429",
     "exception": false,
     "start_time": "2021-01-12T06:07:03.011614",
     "status": "completed"
    },
    "tags": []
   },
   "outputs": [],
   "source": [
    "parts = ensemble.groupby([\"gamma\", \"n_clusters\"]).apply(\n",
    "    lambda x: np.concatenate(x[\"partition\"].apply(lambda x: x.reshape(1, -1)), axis=0)\n",
    ")"
   ]
  },
  {
   "cell_type": "code",
   "execution_count": 48,
   "metadata": {
    "execution": {
     "iopub.execute_input": "2021-01-12T06:07:03.373480Z",
     "iopub.status.busy": "2021-01-12T06:07:03.373102Z",
     "iopub.status.idle": "2021-01-12T06:07:03.386002Z",
     "shell.execute_reply": "2021-01-12T06:07:03.386278Z"
    },
    "papermill": {
     "duration": 0.123603,
     "end_time": "2021-01-12T06:07:03.386395",
     "exception": false,
     "start_time": "2021-01-12T06:07:03.262792",
     "status": "completed"
    },
    "tags": []
   },
   "outputs": [
    {
     "data": {
      "text/plain": [
       "(90,)"
      ]
     },
     "execution_count": 48,
     "metadata": {},
     "output_type": "execute_result"
    }
   ],
   "source": [
    "parts.shape"
   ]
  },
  {
   "cell_type": "code",
   "execution_count": 49,
   "metadata": {
    "execution": {
     "iopub.execute_input": "2021-01-12T06:07:03.603675Z",
     "iopub.status.busy": "2021-01-12T06:07:03.603307Z",
     "iopub.status.idle": "2021-01-12T06:07:03.627691Z",
     "shell.execute_reply": "2021-01-12T06:07:03.627309Z"
    },
    "papermill": {
     "duration": 0.133724,
     "end_time": "2021-01-12T06:07:03.627781",
     "exception": false,
     "start_time": "2021-01-12T06:07:03.494057",
     "status": "completed"
    },
    "tags": []
   },
   "outputs": [
    {
     "data": {
      "text/plain": [
       "gamma    n_clusters\n",
       "1.0e-03  2             [[0.0, 0.0, 0.0, 0.0, 0.0, 0.0, 0.0, 0.0, 0.0,...\n",
       "         4             [[0.0, 0.0, 0.0, 0.0, 0.0, 0.0, 0.0, 0.0, 0.0,...\n",
       "         6             [[0.0, 0.0, 0.0, 0.0, 0.0, 0.0, 0.0, 0.0, 0.0,...\n",
       "         8             [[0.0, 0.0, 0.0, 0.0, 0.0, 0.0, 0.0, 0.0, 0.0,...\n",
       "         10            [[0.0, 0.0, 0.0, 0.0, 0.0, 0.0, 0.0, 0.0, 0.0,...\n",
       "dtype: object"
      ]
     },
     "execution_count": 49,
     "metadata": {},
     "output_type": "execute_result"
    }
   ],
   "source": [
    "parts.head()"
   ]
  },
  {
   "cell_type": "code",
   "execution_count": 50,
   "metadata": {
    "execution": {
     "iopub.execute_input": "2021-01-12T06:07:03.845351Z",
     "iopub.status.busy": "2021-01-12T06:07:03.845002Z",
     "iopub.status.idle": "2021-01-12T06:07:03.858913Z",
     "shell.execute_reply": "2021-01-12T06:07:03.858596Z"
    },
    "papermill": {
     "duration": 0.123002,
     "end_time": "2021-01-12T06:07:03.859005",
     "exception": false,
     "start_time": "2021-01-12T06:07:03.736003",
     "status": "completed"
    },
    "tags": []
   },
   "outputs": [
    {
     "data": {
      "text/plain": [
       "(5, 3749)"
      ]
     },
     "execution_count": 50,
     "metadata": {},
     "output_type": "execute_result"
    }
   ],
   "source": [
    "parts.iloc[0].shape"
   ]
  },
  {
   "cell_type": "code",
   "execution_count": 51,
   "metadata": {
    "execution": {
     "iopub.execute_input": "2021-01-12T06:07:04.081064Z",
     "iopub.status.busy": "2021-01-12T06:07:04.080604Z",
     "iopub.status.idle": "2021-01-12T06:07:04.097445Z",
     "shell.execute_reply": "2021-01-12T06:07:04.097759Z"
    },
    "papermill": {
     "duration": 0.12999,
     "end_time": "2021-01-12T06:07:04.097871",
     "exception": false,
     "start_time": "2021-01-12T06:07:03.967881",
     "status": "completed"
    },
    "tags": []
   },
   "outputs": [],
   "source": [
    "assert np.all(\n",
    "    [\n",
    "        parts.loc[k].shape == (int(CLUSTERING_OPTIONS[\"N_REPS_PER_K\"]), data.shape[0])\n",
    "        for k in parts.index\n",
    "    ]\n",
    ")"
   ]
  },
  {
   "cell_type": "markdown",
   "metadata": {
    "papermill": {
     "duration": 0.110408,
     "end_time": "2021-01-12T06:07:04.323535",
     "exception": false,
     "start_time": "2021-01-12T06:07:04.213127",
     "status": "completed"
    },
    "tags": []
   },
   "source": [
    "## Compute stability"
   ]
  },
  {
   "cell_type": "code",
   "execution_count": 52,
   "metadata": {
    "execution": {
     "iopub.execute_input": "2021-01-12T06:07:04.544956Z",
     "iopub.status.busy": "2021-01-12T06:07:04.544535Z",
     "iopub.status.idle": "2021-01-12T06:07:04.556574Z",
     "shell.execute_reply": "2021-01-12T06:07:04.556262Z"
    },
    "papermill": {
     "duration": 0.123689,
     "end_time": "2021-01-12T06:07:04.556665",
     "exception": false,
     "start_time": "2021-01-12T06:07:04.432976",
     "status": "completed"
    },
    "tags": []
   },
   "outputs": [],
   "source": [
    "from sklearn.metrics import adjusted_rand_score as ari\n",
    "from scipy.spatial.distance import pdist"
   ]
  },
  {
   "cell_type": "code",
   "execution_count": 53,
   "metadata": {
    "execution": {
     "iopub.execute_input": "2021-01-12T06:07:04.781760Z",
     "iopub.status.busy": "2021-01-12T06:07:04.781391Z",
     "iopub.status.idle": "2021-01-12T06:07:05.659229Z",
     "shell.execute_reply": "2021-01-12T06:07:05.658839Z"
    },
    "papermill": {
     "duration": 0.990467,
     "end_time": "2021-01-12T06:07:05.659318",
     "exception": false,
     "start_time": "2021-01-12T06:07:04.668851",
     "status": "completed"
    },
    "tags": []
   },
   "outputs": [],
   "source": [
    "parts_ari = pd.Series(\n",
    "    {k: pdist(parts.loc[k], metric=ari) for k in parts.index}, name=\"n_clusters\"\n",
    ")"
   ]
  },
  {
   "cell_type": "code",
   "execution_count": 54,
   "metadata": {
    "execution": {
     "iopub.execute_input": "2021-01-12T06:07:05.880230Z",
     "iopub.status.busy": "2021-01-12T06:07:05.879869Z",
     "iopub.status.idle": "2021-01-12T06:07:05.894887Z",
     "shell.execute_reply": "2021-01-12T06:07:05.894515Z"
    },
    "papermill": {
     "duration": 0.126355,
     "end_time": "2021-01-12T06:07:05.894973",
     "exception": false,
     "start_time": "2021-01-12T06:07:05.768618",
     "status": "completed"
    },
    "tags": []
   },
   "outputs": [
    {
     "data": {
      "text/plain": [
       "1.0e-03  2     1.000000\n",
       "         40    1.000000\n",
       "1.0e-10  2     1.000000\n",
       "1.0e-05  8     1.000000\n",
       "         4     1.000000\n",
       "1.0e-10  6     1.000000\n",
       "1.0e-05  2     1.000000\n",
       "1.0e-10  4     1.000000\n",
       "1.0e-03  10    1.000000\n",
       "         4     1.000000\n",
       "         6     1.000000\n",
       "         8     1.000000\n",
       "1.0e-10  8     0.999297\n",
       "1.0e-15  2     0.996823\n",
       "1.0e-05  10    0.995167\n",
       "Name: n_clusters, dtype: float64"
      ]
     },
     "metadata": {},
     "output_type": "display_data"
    }
   ],
   "source": [
    "parts_ari_stability = parts_ari.apply(lambda x: x.mean())\n",
    "display(parts_ari_stability.sort_values(ascending=False).head(15))"
   ]
  },
  {
   "cell_type": "code",
   "execution_count": 55,
   "metadata": {
    "execution": {
     "iopub.execute_input": "2021-01-12T06:07:06.113706Z",
     "iopub.status.busy": "2021-01-12T06:07:06.113333Z",
     "iopub.status.idle": "2021-01-12T06:07:06.127378Z",
     "shell.execute_reply": "2021-01-12T06:07:06.126993Z"
    },
    "papermill": {
     "duration": 0.124208,
     "end_time": "2021-01-12T06:07:06.127465",
     "exception": false,
     "start_time": "2021-01-12T06:07:06.003257",
     "status": "completed"
    },
    "tags": []
   },
   "outputs": [],
   "source": [
    "parts_ari_df = pd.DataFrame.from_records(parts_ari.tolist()).set_index(\n",
    "    parts_ari.index.copy()\n",
    ")\n",
    "parts_ari_df.index.rename([\"gamma\", \"n_clusters\"], inplace=True)"
   ]
  },
  {
   "cell_type": "code",
   "execution_count": 56,
   "metadata": {
    "execution": {
     "iopub.execute_input": "2021-01-12T06:07:06.346448Z",
     "iopub.status.busy": "2021-01-12T06:07:06.346059Z",
     "iopub.status.idle": "2021-01-12T06:07:06.359249Z",
     "shell.execute_reply": "2021-01-12T06:07:06.358878Z"
    },
    "papermill": {
     "duration": 0.123262,
     "end_time": "2021-01-12T06:07:06.359337",
     "exception": false,
     "start_time": "2021-01-12T06:07:06.236075",
     "status": "completed"
    },
    "tags": []
   },
   "outputs": [
    {
     "data": {
      "text/plain": [
       "(90, 10)"
      ]
     },
     "execution_count": 56,
     "metadata": {},
     "output_type": "execute_result"
    }
   ],
   "source": [
    "parts_ari_df.shape"
   ]
  },
  {
   "cell_type": "code",
   "execution_count": 57,
   "metadata": {
    "execution": {
     "iopub.execute_input": "2021-01-12T06:07:06.578215Z",
     "iopub.status.busy": "2021-01-12T06:07:06.577851Z",
     "iopub.status.idle": "2021-01-12T06:07:06.589499Z",
     "shell.execute_reply": "2021-01-12T06:07:06.589794Z"
    },
    "papermill": {
     "duration": 0.122002,
     "end_time": "2021-01-12T06:07:06.589898",
     "exception": false,
     "start_time": "2021-01-12T06:07:06.467896",
     "status": "completed"
    },
    "tags": []
   },
   "outputs": [],
   "source": [
    "_n_total_parts = int(\n",
    "    CLUSTERING_OPTIONS[\"N_REPS_PER_K\"]\n",
    ")  # * len(CLUSTERING_OPTIONS[\"GAMMAS\"]))\n",
    "\n",
    "assert int(_n_total_parts * (_n_total_parts - 1) / 2) == parts_ari_df.shape[1]"
   ]
  },
  {
   "cell_type": "code",
   "execution_count": 58,
   "metadata": {
    "execution": {
     "iopub.execute_input": "2021-01-12T06:07:06.808775Z",
     "iopub.status.busy": "2021-01-12T06:07:06.808366Z",
     "iopub.status.idle": "2021-01-12T06:07:06.827689Z",
     "shell.execute_reply": "2021-01-12T06:07:06.827963Z"
    },
    "papermill": {
     "duration": 0.129633,
     "end_time": "2021-01-12T06:07:06.828071",
     "exception": false,
     "start_time": "2021-01-12T06:07:06.698438",
     "status": "completed"
    },
    "tags": []
   },
   "outputs": [
    {
     "data": {
      "text/html": [
       "<div>\n",
       "<style scoped>\n",
       "    .dataframe tbody tr th:only-of-type {\n",
       "        vertical-align: middle;\n",
       "    }\n",
       "\n",
       "    .dataframe tbody tr th {\n",
       "        vertical-align: top;\n",
       "    }\n",
       "\n",
       "    .dataframe thead th {\n",
       "        text-align: right;\n",
       "    }\n",
       "</style>\n",
       "<table border=\"1\" class=\"dataframe\">\n",
       "  <thead>\n",
       "    <tr style=\"text-align: right;\">\n",
       "      <th></th>\n",
       "      <th></th>\n",
       "      <th>0</th>\n",
       "      <th>1</th>\n",
       "      <th>2</th>\n",
       "      <th>3</th>\n",
       "      <th>4</th>\n",
       "      <th>5</th>\n",
       "      <th>6</th>\n",
       "      <th>7</th>\n",
       "      <th>8</th>\n",
       "      <th>9</th>\n",
       "    </tr>\n",
       "    <tr>\n",
       "      <th>gamma</th>\n",
       "      <th>n_clusters</th>\n",
       "      <th></th>\n",
       "      <th></th>\n",
       "      <th></th>\n",
       "      <th></th>\n",
       "      <th></th>\n",
       "      <th></th>\n",
       "      <th></th>\n",
       "      <th></th>\n",
       "      <th></th>\n",
       "      <th></th>\n",
       "    </tr>\n",
       "  </thead>\n",
       "  <tbody>\n",
       "    <tr>\n",
       "      <th rowspan=\"5\" valign=\"top\">1.0e-03</th>\n",
       "      <th>2</th>\n",
       "      <td>1.0</td>\n",
       "      <td>1.0</td>\n",
       "      <td>1.0</td>\n",
       "      <td>1.0</td>\n",
       "      <td>1.0</td>\n",
       "      <td>1.0</td>\n",
       "      <td>1.0</td>\n",
       "      <td>1.0</td>\n",
       "      <td>1.0</td>\n",
       "      <td>1.0</td>\n",
       "    </tr>\n",
       "    <tr>\n",
       "      <th>4</th>\n",
       "      <td>1.0</td>\n",
       "      <td>1.0</td>\n",
       "      <td>1.0</td>\n",
       "      <td>1.0</td>\n",
       "      <td>1.0</td>\n",
       "      <td>1.0</td>\n",
       "      <td>1.0</td>\n",
       "      <td>1.0</td>\n",
       "      <td>1.0</td>\n",
       "      <td>1.0</td>\n",
       "    </tr>\n",
       "    <tr>\n",
       "      <th>6</th>\n",
       "      <td>1.0</td>\n",
       "      <td>1.0</td>\n",
       "      <td>1.0</td>\n",
       "      <td>1.0</td>\n",
       "      <td>1.0</td>\n",
       "      <td>1.0</td>\n",
       "      <td>1.0</td>\n",
       "      <td>1.0</td>\n",
       "      <td>1.0</td>\n",
       "      <td>1.0</td>\n",
       "    </tr>\n",
       "    <tr>\n",
       "      <th>8</th>\n",
       "      <td>1.0</td>\n",
       "      <td>1.0</td>\n",
       "      <td>1.0</td>\n",
       "      <td>1.0</td>\n",
       "      <td>1.0</td>\n",
       "      <td>1.0</td>\n",
       "      <td>1.0</td>\n",
       "      <td>1.0</td>\n",
       "      <td>1.0</td>\n",
       "      <td>1.0</td>\n",
       "    </tr>\n",
       "    <tr>\n",
       "      <th>10</th>\n",
       "      <td>1.0</td>\n",
       "      <td>1.0</td>\n",
       "      <td>1.0</td>\n",
       "      <td>1.0</td>\n",
       "      <td>1.0</td>\n",
       "      <td>1.0</td>\n",
       "      <td>1.0</td>\n",
       "      <td>1.0</td>\n",
       "      <td>1.0</td>\n",
       "      <td>1.0</td>\n",
       "    </tr>\n",
       "  </tbody>\n",
       "</table>\n",
       "</div>"
      ],
      "text/plain": [
       "                      0    1    2    3    4    5    6    7    8    9\n",
       "gamma   n_clusters                                                  \n",
       "1.0e-03 2           1.0  1.0  1.0  1.0  1.0  1.0  1.0  1.0  1.0  1.0\n",
       "        4           1.0  1.0  1.0  1.0  1.0  1.0  1.0  1.0  1.0  1.0\n",
       "        6           1.0  1.0  1.0  1.0  1.0  1.0  1.0  1.0  1.0  1.0\n",
       "        8           1.0  1.0  1.0  1.0  1.0  1.0  1.0  1.0  1.0  1.0\n",
       "        10          1.0  1.0  1.0  1.0  1.0  1.0  1.0  1.0  1.0  1.0"
      ]
     },
     "execution_count": 58,
     "metadata": {},
     "output_type": "execute_result"
    }
   ],
   "source": [
    "parts_ari_df.head()"
   ]
  },
  {
   "cell_type": "markdown",
   "metadata": {
    "papermill": {
     "duration": 0.109155,
     "end_time": "2021-01-12T06:07:07.045717",
     "exception": false,
     "start_time": "2021-01-12T06:07:06.936562",
     "status": "completed"
    },
    "tags": []
   },
   "source": [
    "## Stability plot"
   ]
  },
  {
   "cell_type": "code",
   "execution_count": 59,
   "metadata": {
    "execution": {
     "iopub.execute_input": "2021-01-12T06:07:07.265097Z",
     "iopub.status.busy": "2021-01-12T06:07:07.264658Z",
     "iopub.status.idle": "2021-01-12T06:07:07.278742Z",
     "shell.execute_reply": "2021-01-12T06:07:07.278378Z"
    },
    "papermill": {
     "duration": 0.125146,
     "end_time": "2021-01-12T06:07:07.278825",
     "exception": false,
     "start_time": "2021-01-12T06:07:07.153679",
     "status": "completed"
    },
    "tags": []
   },
   "outputs": [],
   "source": [
    "parts_ari_df_plot = (\n",
    "    parts_ari_df.stack().reset_index().rename(columns={\"level_2\": \"idx\", 0: \"ari\"})\n",
    ")"
   ]
  },
  {
   "cell_type": "code",
   "execution_count": 60,
   "metadata": {
    "execution": {
     "iopub.execute_input": "2021-01-12T06:07:07.497909Z",
     "iopub.status.busy": "2021-01-12T06:07:07.497545Z",
     "iopub.status.idle": "2021-01-12T06:07:07.511108Z",
     "shell.execute_reply": "2021-01-12T06:07:07.510752Z"
    },
    "papermill": {
     "duration": 0.123966,
     "end_time": "2021-01-12T06:07:07.511191",
     "exception": false,
     "start_time": "2021-01-12T06:07:07.387225",
     "status": "completed"
    },
    "tags": []
   },
   "outputs": [
    {
     "data": {
      "text/plain": [
       "gamma          object\n",
       "n_clusters      int64\n",
       "idx             int64\n",
       "ari           float64\n",
       "dtype: object"
      ]
     },
     "execution_count": 60,
     "metadata": {},
     "output_type": "execute_result"
    }
   ],
   "source": [
    "parts_ari_df_plot.dtypes"
   ]
  },
  {
   "cell_type": "code",
   "execution_count": 61,
   "metadata": {
    "execution": {
     "iopub.execute_input": "2021-01-12T06:07:07.735074Z",
     "iopub.status.busy": "2021-01-12T06:07:07.734696Z",
     "iopub.status.idle": "2021-01-12T06:07:07.750429Z",
     "shell.execute_reply": "2021-01-12T06:07:07.750057Z"
    },
    "papermill": {
     "duration": 0.126405,
     "end_time": "2021-01-12T06:07:07.750517",
     "exception": false,
     "start_time": "2021-01-12T06:07:07.624112",
     "status": "completed"
    },
    "tags": []
   },
   "outputs": [
    {
     "data": {
      "text/html": [
       "<div>\n",
       "<style scoped>\n",
       "    .dataframe tbody tr th:only-of-type {\n",
       "        vertical-align: middle;\n",
       "    }\n",
       "\n",
       "    .dataframe tbody tr th {\n",
       "        vertical-align: top;\n",
       "    }\n",
       "\n",
       "    .dataframe thead th {\n",
       "        text-align: right;\n",
       "    }\n",
       "</style>\n",
       "<table border=\"1\" class=\"dataframe\">\n",
       "  <thead>\n",
       "    <tr style=\"text-align: right;\">\n",
       "      <th></th>\n",
       "      <th>gamma</th>\n",
       "      <th>n_clusters</th>\n",
       "      <th>idx</th>\n",
       "      <th>ari</th>\n",
       "    </tr>\n",
       "  </thead>\n",
       "  <tbody>\n",
       "    <tr>\n",
       "      <th>0</th>\n",
       "      <td>1.0e-03</td>\n",
       "      <td>2</td>\n",
       "      <td>0</td>\n",
       "      <td>1.0</td>\n",
       "    </tr>\n",
       "    <tr>\n",
       "      <th>1</th>\n",
       "      <td>1.0e-03</td>\n",
       "      <td>2</td>\n",
       "      <td>1</td>\n",
       "      <td>1.0</td>\n",
       "    </tr>\n",
       "    <tr>\n",
       "      <th>2</th>\n",
       "      <td>1.0e-03</td>\n",
       "      <td>2</td>\n",
       "      <td>2</td>\n",
       "      <td>1.0</td>\n",
       "    </tr>\n",
       "    <tr>\n",
       "      <th>3</th>\n",
       "      <td>1.0e-03</td>\n",
       "      <td>2</td>\n",
       "      <td>3</td>\n",
       "      <td>1.0</td>\n",
       "    </tr>\n",
       "    <tr>\n",
       "      <th>4</th>\n",
       "      <td>1.0e-03</td>\n",
       "      <td>2</td>\n",
       "      <td>4</td>\n",
       "      <td>1.0</td>\n",
       "    </tr>\n",
       "  </tbody>\n",
       "</table>\n",
       "</div>"
      ],
      "text/plain": [
       "     gamma  n_clusters  idx  ari\n",
       "0  1.0e-03           2    0  1.0\n",
       "1  1.0e-03           2    1  1.0\n",
       "2  1.0e-03           2    2  1.0\n",
       "3  1.0e-03           2    3  1.0\n",
       "4  1.0e-03           2    4  1.0"
      ]
     },
     "execution_count": 61,
     "metadata": {},
     "output_type": "execute_result"
    }
   ],
   "source": [
    "parts_ari_df_plot.head()"
   ]
  },
  {
   "cell_type": "code",
   "execution_count": 62,
   "metadata": {
    "execution": {
     "iopub.execute_input": "2021-01-12T06:07:07.971963Z",
     "iopub.status.busy": "2021-01-12T06:07:07.971598Z",
     "iopub.status.idle": "2021-01-12T06:07:07.994484Z",
     "shell.execute_reply": "2021-01-12T06:07:07.994113Z"
    },
    "papermill": {
     "duration": 0.135117,
     "end_time": "2021-01-12T06:07:07.994572",
     "exception": false,
     "start_time": "2021-01-12T06:07:07.859455",
     "status": "completed"
    },
    "tags": []
   },
   "outputs": [
    {
     "data": {
      "text/html": [
       "<div>\n",
       "<style scoped>\n",
       "    .dataframe tbody tr th:only-of-type {\n",
       "        vertical-align: middle;\n",
       "    }\n",
       "\n",
       "    .dataframe tbody tr th {\n",
       "        vertical-align: top;\n",
       "    }\n",
       "\n",
       "    .dataframe thead th {\n",
       "        text-align: right;\n",
       "    }\n",
       "</style>\n",
       "<table border=\"1\" class=\"dataframe\">\n",
       "  <thead>\n",
       "    <tr style=\"text-align: right;\">\n",
       "      <th></th>\n",
       "      <th></th>\n",
       "      <th>idx</th>\n",
       "      <th>ari</th>\n",
       "    </tr>\n",
       "    <tr>\n",
       "      <th>n_clusters</th>\n",
       "      <th>gamma</th>\n",
       "      <th></th>\n",
       "      <th></th>\n",
       "    </tr>\n",
       "  </thead>\n",
       "  <tbody>\n",
       "    <tr>\n",
       "      <th rowspan=\"9\" valign=\"top\">2</th>\n",
       "      <th>1.0e-03</th>\n",
       "      <td>4.5</td>\n",
       "      <td>1.000000</td>\n",
       "    </tr>\n",
       "    <tr>\n",
       "      <th>1.0e-05</th>\n",
       "      <td>4.5</td>\n",
       "      <td>1.000000</td>\n",
       "    </tr>\n",
       "    <tr>\n",
       "      <th>1.0e-10</th>\n",
       "      <td>4.5</td>\n",
       "      <td>1.000000</td>\n",
       "    </tr>\n",
       "    <tr>\n",
       "      <th>1.0e-15</th>\n",
       "      <td>4.5</td>\n",
       "      <td>0.996823</td>\n",
       "    </tr>\n",
       "    <tr>\n",
       "      <th>1.0e-17</th>\n",
       "      <td>4.5</td>\n",
       "      <td>-0.003473</td>\n",
       "    </tr>\n",
       "    <tr>\n",
       "      <th>1.0e-20</th>\n",
       "      <td>4.5</td>\n",
       "      <td>-0.000883</td>\n",
       "    </tr>\n",
       "    <tr>\n",
       "      <th>1.0e-30</th>\n",
       "      <td>4.5</td>\n",
       "      <td>-0.002913</td>\n",
       "    </tr>\n",
       "    <tr>\n",
       "      <th>1.0e-40</th>\n",
       "      <td>4.5</td>\n",
       "      <td>0.006222</td>\n",
       "    </tr>\n",
       "    <tr>\n",
       "      <th>1.0e-50</th>\n",
       "      <td>4.5</td>\n",
       "      <td>-0.000429</td>\n",
       "    </tr>\n",
       "    <tr>\n",
       "      <th rowspan=\"9\" valign=\"top\">4</th>\n",
       "      <th>1.0e-03</th>\n",
       "      <td>4.5</td>\n",
       "      <td>1.000000</td>\n",
       "    </tr>\n",
       "    <tr>\n",
       "      <th>1.0e-05</th>\n",
       "      <td>4.5</td>\n",
       "      <td>1.000000</td>\n",
       "    </tr>\n",
       "    <tr>\n",
       "      <th>1.0e-10</th>\n",
       "      <td>4.5</td>\n",
       "      <td>1.000000</td>\n",
       "    </tr>\n",
       "    <tr>\n",
       "      <th>1.0e-15</th>\n",
       "      <td>4.5</td>\n",
       "      <td>0.955537</td>\n",
       "    </tr>\n",
       "    <tr>\n",
       "      <th>1.0e-17</th>\n",
       "      <td>4.5</td>\n",
       "      <td>-0.006621</td>\n",
       "    </tr>\n",
       "    <tr>\n",
       "      <th>1.0e-20</th>\n",
       "      <td>4.5</td>\n",
       "      <td>0.001797</td>\n",
       "    </tr>\n",
       "    <tr>\n",
       "      <th>1.0e-30</th>\n",
       "      <td>4.5</td>\n",
       "      <td>0.001877</td>\n",
       "    </tr>\n",
       "    <tr>\n",
       "      <th>1.0e-40</th>\n",
       "      <td>4.5</td>\n",
       "      <td>0.010926</td>\n",
       "    </tr>\n",
       "    <tr>\n",
       "      <th>1.0e-50</th>\n",
       "      <td>4.5</td>\n",
       "      <td>0.005906</td>\n",
       "    </tr>\n",
       "    <tr>\n",
       "      <th rowspan=\"9\" valign=\"top\">6</th>\n",
       "      <th>1.0e-03</th>\n",
       "      <td>4.5</td>\n",
       "      <td>1.000000</td>\n",
       "    </tr>\n",
       "    <tr>\n",
       "      <th>1.0e-05</th>\n",
       "      <td>4.5</td>\n",
       "      <td>0.965708</td>\n",
       "    </tr>\n",
       "    <tr>\n",
       "      <th>1.0e-10</th>\n",
       "      <td>4.5</td>\n",
       "      <td>1.000000</td>\n",
       "    </tr>\n",
       "    <tr>\n",
       "      <th>1.0e-15</th>\n",
       "      <td>4.5</td>\n",
       "      <td>0.912725</td>\n",
       "    </tr>\n",
       "    <tr>\n",
       "      <th>1.0e-17</th>\n",
       "      <td>4.5</td>\n",
       "      <td>-0.005134</td>\n",
       "    </tr>\n",
       "    <tr>\n",
       "      <th>1.0e-20</th>\n",
       "      <td>4.5</td>\n",
       "      <td>0.000978</td>\n",
       "    </tr>\n",
       "    <tr>\n",
       "      <th>1.0e-30</th>\n",
       "      <td>4.5</td>\n",
       "      <td>0.003517</td>\n",
       "    </tr>\n",
       "    <tr>\n",
       "      <th>1.0e-40</th>\n",
       "      <td>4.5</td>\n",
       "      <td>0.001121</td>\n",
       "    </tr>\n",
       "    <tr>\n",
       "      <th>1.0e-50</th>\n",
       "      <td>4.5</td>\n",
       "      <td>0.005875</td>\n",
       "    </tr>\n",
       "    <tr>\n",
       "      <th rowspan=\"9\" valign=\"top\">8</th>\n",
       "      <th>1.0e-03</th>\n",
       "      <td>4.5</td>\n",
       "      <td>1.000000</td>\n",
       "    </tr>\n",
       "    <tr>\n",
       "      <th>1.0e-05</th>\n",
       "      <td>4.5</td>\n",
       "      <td>1.000000</td>\n",
       "    </tr>\n",
       "    <tr>\n",
       "      <th>1.0e-10</th>\n",
       "      <td>4.5</td>\n",
       "      <td>0.999297</td>\n",
       "    </tr>\n",
       "    <tr>\n",
       "      <th>1.0e-15</th>\n",
       "      <td>4.5</td>\n",
       "      <td>0.897819</td>\n",
       "    </tr>\n",
       "    <tr>\n",
       "      <th>1.0e-17</th>\n",
       "      <td>4.5</td>\n",
       "      <td>-0.004462</td>\n",
       "    </tr>\n",
       "    <tr>\n",
       "      <th>1.0e-20</th>\n",
       "      <td>4.5</td>\n",
       "      <td>-0.005396</td>\n",
       "    </tr>\n",
       "    <tr>\n",
       "      <th>1.0e-30</th>\n",
       "      <td>4.5</td>\n",
       "      <td>0.006540</td>\n",
       "    </tr>\n",
       "    <tr>\n",
       "      <th>1.0e-40</th>\n",
       "      <td>4.5</td>\n",
       "      <td>0.001856</td>\n",
       "    </tr>\n",
       "    <tr>\n",
       "      <th>1.0e-50</th>\n",
       "      <td>4.5</td>\n",
       "      <td>-0.001691</td>\n",
       "    </tr>\n",
       "    <tr>\n",
       "      <th rowspan=\"9\" valign=\"top\">10</th>\n",
       "      <th>1.0e-03</th>\n",
       "      <td>4.5</td>\n",
       "      <td>1.000000</td>\n",
       "    </tr>\n",
       "    <tr>\n",
       "      <th>1.0e-05</th>\n",
       "      <td>4.5</td>\n",
       "      <td>0.995167</td>\n",
       "    </tr>\n",
       "    <tr>\n",
       "      <th>1.0e-10</th>\n",
       "      <td>4.5</td>\n",
       "      <td>0.991779</td>\n",
       "    </tr>\n",
       "    <tr>\n",
       "      <th>1.0e-15</th>\n",
       "      <td>4.5</td>\n",
       "      <td>0.584365</td>\n",
       "    </tr>\n",
       "    <tr>\n",
       "      <th>1.0e-17</th>\n",
       "      <td>4.5</td>\n",
       "      <td>0.002402</td>\n",
       "    </tr>\n",
       "    <tr>\n",
       "      <th>1.0e-20</th>\n",
       "      <td>4.5</td>\n",
       "      <td>-0.003229</td>\n",
       "    </tr>\n",
       "    <tr>\n",
       "      <th>1.0e-30</th>\n",
       "      <td>4.5</td>\n",
       "      <td>0.003600</td>\n",
       "    </tr>\n",
       "    <tr>\n",
       "      <th>1.0e-40</th>\n",
       "      <td>4.5</td>\n",
       "      <td>0.002391</td>\n",
       "    </tr>\n",
       "    <tr>\n",
       "      <th>1.0e-50</th>\n",
       "      <td>4.5</td>\n",
       "      <td>-0.001431</td>\n",
       "    </tr>\n",
       "    <tr>\n",
       "      <th rowspan=\"9\" valign=\"top\">20</th>\n",
       "      <th>1.0e-03</th>\n",
       "      <td>4.5</td>\n",
       "      <td>0.879979</td>\n",
       "    </tr>\n",
       "    <tr>\n",
       "      <th>1.0e-05</th>\n",
       "      <td>4.5</td>\n",
       "      <td>0.593919</td>\n",
       "    </tr>\n",
       "    <tr>\n",
       "      <th>1.0e-10</th>\n",
       "      <td>4.5</td>\n",
       "      <td>0.466322</td>\n",
       "    </tr>\n",
       "    <tr>\n",
       "      <th>1.0e-15</th>\n",
       "      <td>4.5</td>\n",
       "      <td>0.097219</td>\n",
       "    </tr>\n",
       "    <tr>\n",
       "      <th>1.0e-17</th>\n",
       "      <td>4.5</td>\n",
       "      <td>-0.001667</td>\n",
       "    </tr>\n",
       "    <tr>\n",
       "      <th>1.0e-20</th>\n",
       "      <td>4.5</td>\n",
       "      <td>-0.001352</td>\n",
       "    </tr>\n",
       "    <tr>\n",
       "      <th>1.0e-30</th>\n",
       "      <td>4.5</td>\n",
       "      <td>0.000829</td>\n",
       "    </tr>\n",
       "    <tr>\n",
       "      <th>1.0e-40</th>\n",
       "      <td>4.5</td>\n",
       "      <td>-0.000408</td>\n",
       "    </tr>\n",
       "    <tr>\n",
       "      <th>1.0e-50</th>\n",
       "      <td>4.5</td>\n",
       "      <td>0.001220</td>\n",
       "    </tr>\n",
       "    <tr>\n",
       "      <th rowspan=\"9\" valign=\"top\">30</th>\n",
       "      <th>1.0e-03</th>\n",
       "      <td>4.5</td>\n",
       "      <td>0.977300</td>\n",
       "    </tr>\n",
       "    <tr>\n",
       "      <th>1.0e-05</th>\n",
       "      <td>4.5</td>\n",
       "      <td>0.270448</td>\n",
       "    </tr>\n",
       "    <tr>\n",
       "      <th>1.0e-10</th>\n",
       "      <td>4.5</td>\n",
       "      <td>0.331568</td>\n",
       "    </tr>\n",
       "    <tr>\n",
       "      <th>1.0e-15</th>\n",
       "      <td>4.5</td>\n",
       "      <td>0.037448</td>\n",
       "    </tr>\n",
       "    <tr>\n",
       "      <th>1.0e-17</th>\n",
       "      <td>4.5</td>\n",
       "      <td>0.004039</td>\n",
       "    </tr>\n",
       "    <tr>\n",
       "      <th>1.0e-20</th>\n",
       "      <td>4.5</td>\n",
       "      <td>-0.001232</td>\n",
       "    </tr>\n",
       "    <tr>\n",
       "      <th>1.0e-30</th>\n",
       "      <td>4.5</td>\n",
       "      <td>0.001966</td>\n",
       "    </tr>\n",
       "    <tr>\n",
       "      <th>1.0e-40</th>\n",
       "      <td>4.5</td>\n",
       "      <td>-0.004353</td>\n",
       "    </tr>\n",
       "    <tr>\n",
       "      <th>1.0e-50</th>\n",
       "      <td>4.5</td>\n",
       "      <td>0.003151</td>\n",
       "    </tr>\n",
       "    <tr>\n",
       "      <th rowspan=\"9\" valign=\"top\">40</th>\n",
       "      <th>1.0e-03</th>\n",
       "      <td>4.5</td>\n",
       "      <td>1.000000</td>\n",
       "    </tr>\n",
       "    <tr>\n",
       "      <th>1.0e-05</th>\n",
       "      <td>4.5</td>\n",
       "      <td>0.160639</td>\n",
       "    </tr>\n",
       "    <tr>\n",
       "      <th>1.0e-10</th>\n",
       "      <td>4.5</td>\n",
       "      <td>0.181697</td>\n",
       "    </tr>\n",
       "    <tr>\n",
       "      <th>1.0e-15</th>\n",
       "      <td>4.5</td>\n",
       "      <td>0.032380</td>\n",
       "    </tr>\n",
       "    <tr>\n",
       "      <th>1.0e-17</th>\n",
       "      <td>4.5</td>\n",
       "      <td>0.003382</td>\n",
       "    </tr>\n",
       "    <tr>\n",
       "      <th>1.0e-20</th>\n",
       "      <td>4.5</td>\n",
       "      <td>-0.001444</td>\n",
       "    </tr>\n",
       "    <tr>\n",
       "      <th>1.0e-30</th>\n",
       "      <td>4.5</td>\n",
       "      <td>0.000805</td>\n",
       "    </tr>\n",
       "    <tr>\n",
       "      <th>1.0e-40</th>\n",
       "      <td>4.5</td>\n",
       "      <td>0.004182</td>\n",
       "    </tr>\n",
       "    <tr>\n",
       "      <th>1.0e-50</th>\n",
       "      <td>4.5</td>\n",
       "      <td>-0.001834</td>\n",
       "    </tr>\n",
       "    <tr>\n",
       "      <th rowspan=\"9\" valign=\"top\">50</th>\n",
       "      <th>1.0e-03</th>\n",
       "      <td>4.5</td>\n",
       "      <td>0.961422</td>\n",
       "    </tr>\n",
       "    <tr>\n",
       "      <th>1.0e-05</th>\n",
       "      <td>4.5</td>\n",
       "      <td>0.124132</td>\n",
       "    </tr>\n",
       "    <tr>\n",
       "      <th>1.0e-10</th>\n",
       "      <td>4.5</td>\n",
       "      <td>0.114571</td>\n",
       "    </tr>\n",
       "    <tr>\n",
       "      <th>1.0e-15</th>\n",
       "      <td>4.5</td>\n",
       "      <td>0.029839</td>\n",
       "    </tr>\n",
       "    <tr>\n",
       "      <th>1.0e-17</th>\n",
       "      <td>4.5</td>\n",
       "      <td>-0.000022</td>\n",
       "    </tr>\n",
       "    <tr>\n",
       "      <th>1.0e-20</th>\n",
       "      <td>4.5</td>\n",
       "      <td>0.000376</td>\n",
       "    </tr>\n",
       "    <tr>\n",
       "      <th>1.0e-30</th>\n",
       "      <td>4.5</td>\n",
       "      <td>-0.000043</td>\n",
       "    </tr>\n",
       "    <tr>\n",
       "      <th>1.0e-40</th>\n",
       "      <td>4.5</td>\n",
       "      <td>0.006970</td>\n",
       "    </tr>\n",
       "    <tr>\n",
       "      <th>1.0e-50</th>\n",
       "      <td>4.5</td>\n",
       "      <td>0.002384</td>\n",
       "    </tr>\n",
       "    <tr>\n",
       "      <th rowspan=\"9\" valign=\"top\">60</th>\n",
       "      <th>1.0e-03</th>\n",
       "      <td>4.5</td>\n",
       "      <td>0.141450</td>\n",
       "    </tr>\n",
       "    <tr>\n",
       "      <th>1.0e-05</th>\n",
       "      <td>4.5</td>\n",
       "      <td>0.094678</td>\n",
       "    </tr>\n",
       "    <tr>\n",
       "      <th>1.0e-10</th>\n",
       "      <td>4.5</td>\n",
       "      <td>0.094576</td>\n",
       "    </tr>\n",
       "    <tr>\n",
       "      <th>1.0e-15</th>\n",
       "      <td>4.5</td>\n",
       "      <td>0.027717</td>\n",
       "    </tr>\n",
       "    <tr>\n",
       "      <th>1.0e-17</th>\n",
       "      <td>4.5</td>\n",
       "      <td>0.003246</td>\n",
       "    </tr>\n",
       "    <tr>\n",
       "      <th>1.0e-20</th>\n",
       "      <td>4.5</td>\n",
       "      <td>-0.002344</td>\n",
       "    </tr>\n",
       "    <tr>\n",
       "      <th>1.0e-30</th>\n",
       "      <td>4.5</td>\n",
       "      <td>0.002566</td>\n",
       "    </tr>\n",
       "    <tr>\n",
       "      <th>1.0e-40</th>\n",
       "      <td>4.5</td>\n",
       "      <td>-0.000865</td>\n",
       "    </tr>\n",
       "    <tr>\n",
       "      <th>1.0e-50</th>\n",
       "      <td>4.5</td>\n",
       "      <td>0.005663</td>\n",
       "    </tr>\n",
       "  </tbody>\n",
       "</table>\n",
       "</div>"
      ],
      "text/plain": [
       "                    idx       ari\n",
       "n_clusters gamma                 \n",
       "2          1.0e-03  4.5  1.000000\n",
       "           1.0e-05  4.5  1.000000\n",
       "           1.0e-10  4.5  1.000000\n",
       "           1.0e-15  4.5  0.996823\n",
       "           1.0e-17  4.5 -0.003473\n",
       "           1.0e-20  4.5 -0.000883\n",
       "           1.0e-30  4.5 -0.002913\n",
       "           1.0e-40  4.5  0.006222\n",
       "           1.0e-50  4.5 -0.000429\n",
       "4          1.0e-03  4.5  1.000000\n",
       "           1.0e-05  4.5  1.000000\n",
       "           1.0e-10  4.5  1.000000\n",
       "           1.0e-15  4.5  0.955537\n",
       "           1.0e-17  4.5 -0.006621\n",
       "           1.0e-20  4.5  0.001797\n",
       "           1.0e-30  4.5  0.001877\n",
       "           1.0e-40  4.5  0.010926\n",
       "           1.0e-50  4.5  0.005906\n",
       "6          1.0e-03  4.5  1.000000\n",
       "           1.0e-05  4.5  0.965708\n",
       "           1.0e-10  4.5  1.000000\n",
       "           1.0e-15  4.5  0.912725\n",
       "           1.0e-17  4.5 -0.005134\n",
       "           1.0e-20  4.5  0.000978\n",
       "           1.0e-30  4.5  0.003517\n",
       "           1.0e-40  4.5  0.001121\n",
       "           1.0e-50  4.5  0.005875\n",
       "8          1.0e-03  4.5  1.000000\n",
       "           1.0e-05  4.5  1.000000\n",
       "           1.0e-10  4.5  0.999297\n",
       "           1.0e-15  4.5  0.897819\n",
       "           1.0e-17  4.5 -0.004462\n",
       "           1.0e-20  4.5 -0.005396\n",
       "           1.0e-30  4.5  0.006540\n",
       "           1.0e-40  4.5  0.001856\n",
       "           1.0e-50  4.5 -0.001691\n",
       "10         1.0e-03  4.5  1.000000\n",
       "           1.0e-05  4.5  0.995167\n",
       "           1.0e-10  4.5  0.991779\n",
       "           1.0e-15  4.5  0.584365\n",
       "           1.0e-17  4.5  0.002402\n",
       "           1.0e-20  4.5 -0.003229\n",
       "           1.0e-30  4.5  0.003600\n",
       "           1.0e-40  4.5  0.002391\n",
       "           1.0e-50  4.5 -0.001431\n",
       "20         1.0e-03  4.5  0.879979\n",
       "           1.0e-05  4.5  0.593919\n",
       "           1.0e-10  4.5  0.466322\n",
       "           1.0e-15  4.5  0.097219\n",
       "           1.0e-17  4.5 -0.001667\n",
       "           1.0e-20  4.5 -0.001352\n",
       "           1.0e-30  4.5  0.000829\n",
       "           1.0e-40  4.5 -0.000408\n",
       "           1.0e-50  4.5  0.001220\n",
       "30         1.0e-03  4.5  0.977300\n",
       "           1.0e-05  4.5  0.270448\n",
       "           1.0e-10  4.5  0.331568\n",
       "           1.0e-15  4.5  0.037448\n",
       "           1.0e-17  4.5  0.004039\n",
       "           1.0e-20  4.5 -0.001232\n",
       "           1.0e-30  4.5  0.001966\n",
       "           1.0e-40  4.5 -0.004353\n",
       "           1.0e-50  4.5  0.003151\n",
       "40         1.0e-03  4.5  1.000000\n",
       "           1.0e-05  4.5  0.160639\n",
       "           1.0e-10  4.5  0.181697\n",
       "           1.0e-15  4.5  0.032380\n",
       "           1.0e-17  4.5  0.003382\n",
       "           1.0e-20  4.5 -0.001444\n",
       "           1.0e-30  4.5  0.000805\n",
       "           1.0e-40  4.5  0.004182\n",
       "           1.0e-50  4.5 -0.001834\n",
       "50         1.0e-03  4.5  0.961422\n",
       "           1.0e-05  4.5  0.124132\n",
       "           1.0e-10  4.5  0.114571\n",
       "           1.0e-15  4.5  0.029839\n",
       "           1.0e-17  4.5 -0.000022\n",
       "           1.0e-20  4.5  0.000376\n",
       "           1.0e-30  4.5 -0.000043\n",
       "           1.0e-40  4.5  0.006970\n",
       "           1.0e-50  4.5  0.002384\n",
       "60         1.0e-03  4.5  0.141450\n",
       "           1.0e-05  4.5  0.094678\n",
       "           1.0e-10  4.5  0.094576\n",
       "           1.0e-15  4.5  0.027717\n",
       "           1.0e-17  4.5  0.003246\n",
       "           1.0e-20  4.5 -0.002344\n",
       "           1.0e-30  4.5  0.002566\n",
       "           1.0e-40  4.5 -0.000865\n",
       "           1.0e-50  4.5  0.005663"
      ]
     },
     "metadata": {},
     "output_type": "display_data"
    }
   ],
   "source": [
    "with pd.option_context(\"display.max_rows\", None, \"display.max_columns\", None):\n",
    "    _df = parts_ari_df_plot.groupby([\"n_clusters\", \"gamma\"]).mean()\n",
    "    display(_df)"
   ]
  },
  {
   "cell_type": "code",
   "execution_count": 63,
   "metadata": {
    "execution": {
     "iopub.execute_input": "2021-01-12T06:07:08.215558Z",
     "iopub.status.busy": "2021-01-12T06:07:08.215191Z",
     "iopub.status.idle": "2021-01-12T06:07:10.381617Z",
     "shell.execute_reply": "2021-01-12T06:07:10.381919Z"
    },
    "papermill": {
     "duration": 2.278453,
     "end_time": "2021-01-12T06:07:10.382028",
     "exception": false,
     "start_time": "2021-01-12T06:07:08.103575",
     "status": "completed"
    },
    "tags": []
   },
   "outputs": [
    {
     "data": {
      "image/png": "[encoded data removed]",
      "text/plain": [
       "<Figure size 1008x432 with 1 Axes>"
      ]
     },
     "metadata": {},
     "output_type": "display_data"
    }
   ],
   "source": [
    "with sns.plotting_context(\"talk\", font_scale=0.75), sns.axes_style(\n",
    "    \"whitegrid\", {\"grid.linestyle\": \"--\"}\n",
    "):\n",
    "    fig = plt.figure(figsize=(14, 6))\n",
    "    ax = sns.pointplot(data=parts_ari_df_plot, x=\"n_clusters\", y=\"ari\", hue=\"gamma\")\n",
    "    ax.set_ylabel(\"Averange ARI\")\n",
    "    ax.set_xlabel(\"Number of clusters ($k$)\")\n",
    "    ax.set_xticklabels(ax.get_xticklabels(), rotation=45)\n",
    "    plt.grid(True)\n",
    "    plt.tight_layout()"
   ]
  },
  {
   "cell_type": "markdown",
   "metadata": {
    "papermill": {
     "duration": 0.110742,
     "end_time": "2021-01-12T06:07:10.604384",
     "exception": false,
     "start_time": "2021-01-12T06:07:10.493642",
     "status": "completed"
    },
    "tags": []
   },
   "source": [
    "**CONCLUSION:** We choose `1e-10` as the `gamma` parameter for this data version."
   ]
  },
  {
   "cell_type": "code",
   "execution_count": null,
   "metadata": {
    "papermill": {
     "duration": 0.109867,
     "end_time": "2021-01-12T06:07:10.824913",
     "exception": false,
     "start_time": "2021-01-12T06:07:10.715046",
     "status": "completed"
    },
    "tags": []
   },
   "outputs": [],
   "source": []
  }
 ],
 "metadata": {
  "jupytext": {
   "cell_metadata_filter": "all,-execution,-papermill",
   "formats": "ipynb,py//py:percent"
  },
  "kernelspec": {
   "display_name": "Python 3",
   "language": "python",
   "name": "python3"
  },
  "language_info": {
   "codemirror_mode": {
    "name": "ipython",
    "version": 3
   },
   "file_extension": ".py",
   "mimetype": "text/x-python",
   "name": "python",
   "nbconvert_exporter": "python",
   "pygments_lexer": "ipython3",
   "version": "3.8.6"
  },
  "papermill": {
   "default_parameters": {},
   "duration": 1212.529216,
   "end_time": "2021-01-12T06:07:12.395347",
   "environment_variables": {},
   "exception": null,
   "input_path": "15_cluster_analysis/pre_analysis/05_01-spectral_clustering-z_score_std.ipynb",
   "output_path": "15_cluster_analysis/pre_analysis/05_01-spectral_clustering-z_score_std.run.ipynb",
   "parameters": {},
   "start_time": "2021-01-12T05:46:59.866131",
   "version": "2.2.2"
  },
  "toc-autonumbering": true,
  "toc-showcode": false,
  "toc-showmarkdowntxt": false,
  "toc-showtags": false
 },
 "nbformat": 4,
 "nbformat_minor": 4
}
