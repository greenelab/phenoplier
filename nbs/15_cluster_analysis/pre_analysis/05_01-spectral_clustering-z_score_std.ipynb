{
 "cells": [
  {
   "cell_type": "markdown",
   "metadata": {
    "papermill": {
     "duration": 0.032048,
     "end_time": "2021-03-09T21:31:22.948661",
     "exception": false,
     "start_time": "2021-03-09T21:31:22.916613",
     "status": "completed"
    },
    "tags": []
   },
   "source": [
    "# Description"
   ]
  },
  {
   "cell_type": "markdown",
   "metadata": {
    "papermill": {
     "duration": 0.027945,
     "end_time": "2021-03-09T21:31:23.004853",
     "exception": false,
     "start_time": "2021-03-09T21:31:22.976908",
     "status": "completed"
    },
    "tags": []
   },
   "source": [
    "This notebook runs some pre-analyses using spectral clustering to explore the best set of parameters to cluster `z_score_std` data version."
   ]
  },
  {
   "cell_type": "markdown",
   "metadata": {
    "papermill": {
     "duration": 0.028007,
     "end_time": "2021-03-09T21:31:23.060432",
     "exception": false,
     "start_time": "2021-03-09T21:31:23.032425",
     "status": "completed"
    },
    "tags": []
   },
   "source": [
    "# Environment variables"
   ]
  },
  {
   "cell_type": "code",
   "execution_count": 1,
   "metadata": {
    "execution": {
     "iopub.execute_input": "2021-03-09T21:31:23.121657Z",
     "iopub.status.busy": "2021-03-09T21:31:23.121266Z",
     "iopub.status.idle": "2021-03-09T21:31:23.131784Z",
     "shell.execute_reply": "2021-03-09T21:31:23.132129Z"
    },
    "papermill": {
     "duration": 0.044125,
     "end_time": "2021-03-09T21:31:23.132280",
     "exception": false,
     "start_time": "2021-03-09T21:31:23.088155",
     "status": "completed"
    },
    "tags": []
   },
   "outputs": [
    {
     "data": {
      "text/plain": [
       "2"
      ]
     },
     "metadata": {},
     "output_type": "display_data"
    }
   ],
   "source": [
    "from IPython.display import display\n",
    "\n",
    "import conf\n",
    "\n",
    "N_JOBS = conf.GENERAL[\"N_JOBS\"]\n",
    "display(N_JOBS)"
   ]
  },
  {
   "cell_type": "code",
   "execution_count": 2,
   "metadata": {
    "execution": {
     "iopub.execute_input": "2021-03-09T21:31:23.193603Z",
     "iopub.status.busy": "2021-03-09T21:31:23.193205Z",
     "iopub.status.idle": "2021-03-09T21:31:23.195517Z",
     "shell.execute_reply": "2021-03-09T21:31:23.195197Z"
    },
    "papermill": {
     "duration": 0.034701,
     "end_time": "2021-03-09T21:31:23.195601",
     "exception": false,
     "start_time": "2021-03-09T21:31:23.160900",
     "status": "completed"
    },
    "tags": []
   },
   "outputs": [
    {
     "name": "stdout",
     "output_type": "stream",
     "text": [
      "env: MKL_NUM_THREADS=2\n",
      "env: OPEN_BLAS_NUM_THREADS=2\n",
      "env: NUMEXPR_NUM_THREADS=2\n",
      "env: OMP_NUM_THREADS=2\n"
     ]
    }
   ],
   "source": [
    "%env MKL_NUM_THREADS=$N_JOBS\n",
    "%env OPEN_BLAS_NUM_THREADS=$N_JOBS\n",
    "%env NUMEXPR_NUM_THREADS=$N_JOBS\n",
    "%env OMP_NUM_THREADS=$N_JOBS"
   ]
  },
  {
   "cell_type": "markdown",
   "metadata": {
    "papermill": {
     "duration": 0.028139,
     "end_time": "2021-03-09T21:31:23.252515",
     "exception": false,
     "start_time": "2021-03-09T21:31:23.224376",
     "status": "completed"
    },
    "tags": []
   },
   "source": [
    "# Modules loading"
   ]
  },
  {
   "cell_type": "code",
   "execution_count": 3,
   "metadata": {
    "execution": {
     "iopub.execute_input": "2021-03-09T21:31:23.311449Z",
     "iopub.status.busy": "2021-03-09T21:31:23.311086Z",
     "iopub.status.idle": "2021-03-09T21:31:23.318704Z",
     "shell.execute_reply": "2021-03-09T21:31:23.318348Z"
    },
    "papermill": {
     "duration": 0.038098,
     "end_time": "2021-03-09T21:31:23.318784",
     "exception": false,
     "start_time": "2021-03-09T21:31:23.280686",
     "status": "completed"
    },
    "tags": []
   },
   "outputs": [],
   "source": [
    "%load_ext autoreload\n",
    "%autoreload 2"
   ]
  },
  {
   "cell_type": "code",
   "execution_count": 4,
   "metadata": {
    "execution": {
     "iopub.execute_input": "2021-03-09T21:31:23.377577Z",
     "iopub.status.busy": "2021-03-09T21:31:23.377199Z",
     "iopub.status.idle": "2021-03-09T21:31:23.954160Z",
     "shell.execute_reply": "2021-03-09T21:31:23.954506Z"
    },
    "papermill": {
     "duration": 0.607801,
     "end_time": "2021-03-09T21:31:23.954631",
     "exception": false,
     "start_time": "2021-03-09T21:31:23.346830",
     "status": "completed"
    },
    "tags": []
   },
   "outputs": [],
   "source": [
    "from pathlib import Path\n",
    "import warnings\n",
    "\n",
    "import numpy as np\n",
    "import pandas as pd\n",
    "import matplotlib.pyplot as plt\n",
    "import seaborn as sns\n",
    "\n",
    "from utils import generate_result_set_name"
   ]
  },
  {
   "cell_type": "markdown",
   "metadata": {
    "papermill": {
     "duration": 0.028473,
     "end_time": "2021-03-09T21:31:24.016469",
     "exception": false,
     "start_time": "2021-03-09T21:31:23.987996",
     "status": "completed"
    },
    "tags": []
   },
   "source": [
    "# Settings"
   ]
  },
  {
   "cell_type": "code",
   "execution_count": 5,
   "metadata": {
    "execution": {
     "iopub.execute_input": "2021-03-09T21:31:24.075651Z",
     "iopub.status.busy": "2021-03-09T21:31:24.075286Z",
     "iopub.status.idle": "2021-03-09T21:31:24.084680Z",
     "shell.execute_reply": "2021-03-09T21:31:24.084303Z"
    },
    "papermill": {
     "duration": 0.040325,
     "end_time": "2021-03-09T21:31:24.084811",
     "exception": false,
     "start_time": "2021-03-09T21:31:24.044486",
     "status": "completed"
    },
    "tags": []
   },
   "outputs": [],
   "source": [
    "INITIAL_RANDOM_STATE = 30000"
   ]
  },
  {
   "cell_type": "markdown",
   "metadata": {
    "papermill": {
     "duration": 0.028407,
     "end_time": "2021-03-09T21:31:24.141433",
     "exception": false,
     "start_time": "2021-03-09T21:31:24.113026",
     "status": "completed"
    },
    "tags": []
   },
   "source": [
    "# Z-score standardized data"
   ]
  },
  {
   "cell_type": "code",
   "execution_count": 6,
   "metadata": {
    "execution": {
     "iopub.execute_input": "2021-03-09T21:31:24.200128Z",
     "iopub.status.busy": "2021-03-09T21:31:24.199767Z",
     "iopub.status.idle": "2021-03-09T21:31:24.209047Z",
     "shell.execute_reply": "2021-03-09T21:31:24.208634Z"
    },
    "papermill": {
     "duration": 0.03963,
     "end_time": "2021-03-09T21:31:24.209132",
     "exception": false,
     "start_time": "2021-03-09T21:31:24.169502",
     "status": "completed"
    },
    "tags": []
   },
   "outputs": [],
   "source": [
    "INPUT_SUBSET = \"z_score_std\""
   ]
  },
  {
   "cell_type": "code",
   "execution_count": 7,
   "metadata": {
    "execution": {
     "iopub.execute_input": "2021-03-09T21:31:24.269411Z",
     "iopub.status.busy": "2021-03-09T21:31:24.269040Z",
     "iopub.status.idle": "2021-03-09T21:31:24.278343Z",
     "shell.execute_reply": "2021-03-09T21:31:24.277965Z"
    },
    "papermill": {
     "duration": 0.040271,
     "end_time": "2021-03-09T21:31:24.278429",
     "exception": false,
     "start_time": "2021-03-09T21:31:24.238158",
     "status": "completed"
    },
    "tags": []
   },
   "outputs": [],
   "source": [
    "INPUT_STEM = \"projection-smultixcan-efo_partial-mashr-zscores\""
   ]
  },
  {
   "cell_type": "code",
   "execution_count": 8,
   "metadata": {
    "execution": {
     "iopub.execute_input": "2021-03-09T21:31:24.338126Z",
     "iopub.status.busy": "2021-03-09T21:31:24.337759Z",
     "iopub.status.idle": "2021-03-09T21:31:24.349076Z",
     "shell.execute_reply": "2021-03-09T21:31:24.348664Z"
    },
    "papermill": {
     "duration": 0.04211,
     "end_time": "2021-03-09T21:31:24.349160",
     "exception": false,
     "start_time": "2021-03-09T21:31:24.307050",
     "status": "completed"
    },
    "tags": []
   },
   "outputs": [
    {
     "data": {
      "text/plain": [
       "PosixPath('/home/miltondp/projects/labs/greenelab/phenoplier/base/results/data_transformations/z_score_std/z_score_std-projection-smultixcan-efo_partial-mashr-zscores.pkl')"
      ]
     },
     "metadata": {},
     "output_type": "display_data"
    },
    {
     "data": {
      "text/plain": [
       "'z_score_std-projection-smultixcan-efo_partial-mashr-zscores'"
      ]
     },
     "metadata": {},
     "output_type": "display_data"
    }
   ],
   "source": [
    "input_filepath = Path(\n",
    "    conf.RESULTS[\"DATA_TRANSFORMATIONS_DIR\"],\n",
    "    INPUT_SUBSET,\n",
    "    f\"{INPUT_SUBSET}-{INPUT_STEM}.pkl\",\n",
    ").resolve()\n",
    "display(input_filepath)\n",
    "\n",
    "assert input_filepath.exists(), \"Input file does not exist\"\n",
    "\n",
    "input_filepath_stem = input_filepath.stem\n",
    "display(input_filepath_stem)"
   ]
  },
  {
   "cell_type": "code",
   "execution_count": 9,
   "metadata": {
    "execution": {
     "iopub.execute_input": "2021-03-09T21:31:24.409465Z",
     "iopub.status.busy": "2021-03-09T21:31:24.409092Z",
     "iopub.status.idle": "2021-03-09T21:31:24.431565Z",
     "shell.execute_reply": "2021-03-09T21:31:24.431884Z"
    },
    "papermill": {
     "duration": 0.053928,
     "end_time": "2021-03-09T21:31:24.432002",
     "exception": false,
     "start_time": "2021-03-09T21:31:24.378074",
     "status": "completed"
    },
    "tags": []
   },
   "outputs": [],
   "source": [
    "data = pd.read_pickle(input_filepath)"
   ]
  },
  {
   "cell_type": "code",
   "execution_count": 10,
   "metadata": {
    "execution": {
     "iopub.execute_input": "2021-03-09T21:31:24.496375Z",
     "iopub.status.busy": "2021-03-09T21:31:24.495957Z",
     "iopub.status.idle": "2021-03-09T21:31:24.507300Z",
     "shell.execute_reply": "2021-03-09T21:31:24.507622Z"
    },
    "papermill": {
     "duration": 0.043087,
     "end_time": "2021-03-09T21:31:24.507741",
     "exception": false,
     "start_time": "2021-03-09T21:31:24.464654",
     "status": "completed"
    },
    "tags": []
   },
   "outputs": [
    {
     "data": {
      "text/plain": [
       "(3752, 987)"
      ]
     },
     "execution_count": 10,
     "metadata": {},
     "output_type": "execute_result"
    }
   ],
   "source": [
    "data.shape"
   ]
  },
  {
   "cell_type": "code",
   "execution_count": 11,
   "metadata": {
    "execution": {
     "iopub.execute_input": "2021-03-09T21:31:24.571705Z",
     "iopub.status.busy": "2021-03-09T21:31:24.571346Z",
     "iopub.status.idle": "2021-03-09T21:31:24.593463Z",
     "shell.execute_reply": "2021-03-09T21:31:24.593138Z"
    },
    "papermill": {
     "duration": 0.053349,
     "end_time": "2021-03-09T21:31:24.593549",
     "exception": false,
     "start_time": "2021-03-09T21:31:24.540200",
     "status": "completed"
    },
    "tags": []
   },
   "outputs": [
    {
     "data": {
      "text/html": [
       "<div>\n",
       "<style scoped>\n",
       "    .dataframe tbody tr th:only-of-type {\n",
       "        vertical-align: middle;\n",
       "    }\n",
       "\n",
       "    .dataframe tbody tr th {\n",
       "        vertical-align: top;\n",
       "    }\n",
       "\n",
       "    .dataframe thead th {\n",
       "        text-align: right;\n",
       "    }\n",
       "</style>\n",
       "<table border=\"1\" class=\"dataframe\">\n",
       "  <thead>\n",
       "    <tr style=\"text-align: right;\">\n",
       "      <th></th>\n",
       "      <th>LV1</th>\n",
       "      <th>LV2</th>\n",
       "      <th>LV3</th>\n",
       "      <th>LV4</th>\n",
       "      <th>LV5</th>\n",
       "      <th>LV6</th>\n",
       "      <th>LV7</th>\n",
       "      <th>LV8</th>\n",
       "      <th>LV9</th>\n",
       "      <th>LV10</th>\n",
       "      <th>...</th>\n",
       "      <th>LV978</th>\n",
       "      <th>LV979</th>\n",
       "      <th>LV980</th>\n",
       "      <th>LV981</th>\n",
       "      <th>LV982</th>\n",
       "      <th>LV983</th>\n",
       "      <th>LV984</th>\n",
       "      <th>LV985</th>\n",
       "      <th>LV986</th>\n",
       "      <th>LV987</th>\n",
       "    </tr>\n",
       "  </thead>\n",
       "  <tbody>\n",
       "    <tr>\n",
       "      <th>100001_raw-Food_weight</th>\n",
       "      <td>-0.695006</td>\n",
       "      <td>1.962565</td>\n",
       "      <td>0.057683</td>\n",
       "      <td>0.878731</td>\n",
       "      <td>-0.539977</td>\n",
       "      <td>1.481272</td>\n",
       "      <td>-0.396422</td>\n",
       "      <td>1.090180</td>\n",
       "      <td>0.759223</td>\n",
       "      <td>0.931395</td>\n",
       "      <td>...</td>\n",
       "      <td>1.129784</td>\n",
       "      <td>1.752343</td>\n",
       "      <td>-1.411403</td>\n",
       "      <td>2.823863</td>\n",
       "      <td>0.931116</td>\n",
       "      <td>-1.054519</td>\n",
       "      <td>0.432982</td>\n",
       "      <td>-0.633597</td>\n",
       "      <td>0.554279</td>\n",
       "      <td>-0.642479</td>\n",
       "    </tr>\n",
       "    <tr>\n",
       "      <th>100002_raw-Energy</th>\n",
       "      <td>-1.528127</td>\n",
       "      <td>-0.345309</td>\n",
       "      <td>-0.148953</td>\n",
       "      <td>-0.242060</td>\n",
       "      <td>0.373427</td>\n",
       "      <td>0.791092</td>\n",
       "      <td>0.263477</td>\n",
       "      <td>0.987702</td>\n",
       "      <td>0.354391</td>\n",
       "      <td>1.416059</td>\n",
       "      <td>...</td>\n",
       "      <td>0.224604</td>\n",
       "      <td>0.769882</td>\n",
       "      <td>-0.509482</td>\n",
       "      <td>0.091153</td>\n",
       "      <td>2.286789</td>\n",
       "      <td>-1.008256</td>\n",
       "      <td>-0.029764</td>\n",
       "      <td>1.737229</td>\n",
       "      <td>-0.272107</td>\n",
       "      <td>-0.526125</td>\n",
       "    </tr>\n",
       "    <tr>\n",
       "      <th>100003_raw-Protein</th>\n",
       "      <td>-0.704572</td>\n",
       "      <td>-1.011299</td>\n",
       "      <td>0.671420</td>\n",
       "      <td>0.143991</td>\n",
       "      <td>0.615212</td>\n",
       "      <td>0.874212</td>\n",
       "      <td>-0.040998</td>\n",
       "      <td>0.915170</td>\n",
       "      <td>0.254369</td>\n",
       "      <td>-0.084237</td>\n",
       "      <td>...</td>\n",
       "      <td>1.003019</td>\n",
       "      <td>1.044314</td>\n",
       "      <td>-2.376108</td>\n",
       "      <td>0.004778</td>\n",
       "      <td>0.053714</td>\n",
       "      <td>-0.892447</td>\n",
       "      <td>-0.183800</td>\n",
       "      <td>1.377991</td>\n",
       "      <td>-0.278794</td>\n",
       "      <td>-0.419733</td>\n",
       "    </tr>\n",
       "    <tr>\n",
       "      <th>100004_raw-Fat</th>\n",
       "      <td>-0.989832</td>\n",
       "      <td>-1.875490</td>\n",
       "      <td>0.261555</td>\n",
       "      <td>-1.420719</td>\n",
       "      <td>0.366238</td>\n",
       "      <td>1.167049</td>\n",
       "      <td>0.257387</td>\n",
       "      <td>0.717674</td>\n",
       "      <td>-0.997664</td>\n",
       "      <td>0.969825</td>\n",
       "      <td>...</td>\n",
       "      <td>0.585913</td>\n",
       "      <td>0.638314</td>\n",
       "      <td>0.119139</td>\n",
       "      <td>-0.140204</td>\n",
       "      <td>1.394326</td>\n",
       "      <td>-1.173402</td>\n",
       "      <td>0.555058</td>\n",
       "      <td>1.013982</td>\n",
       "      <td>-0.544506</td>\n",
       "      <td>-0.064061</td>\n",
       "    </tr>\n",
       "    <tr>\n",
       "      <th>100005_raw-Carbohydrate</th>\n",
       "      <td>-0.580143</td>\n",
       "      <td>0.243335</td>\n",
       "      <td>0.158966</td>\n",
       "      <td>-0.036558</td>\n",
       "      <td>0.068176</td>\n",
       "      <td>-0.202639</td>\n",
       "      <td>1.101281</td>\n",
       "      <td>0.675227</td>\n",
       "      <td>1.463432</td>\n",
       "      <td>1.010078</td>\n",
       "      <td>...</td>\n",
       "      <td>-0.249108</td>\n",
       "      <td>-0.026814</td>\n",
       "      <td>0.232713</td>\n",
       "      <td>0.323682</td>\n",
       "      <td>1.168642</td>\n",
       "      <td>-0.282935</td>\n",
       "      <td>0.653105</td>\n",
       "      <td>1.909526</td>\n",
       "      <td>0.199997</td>\n",
       "      <td>-1.656894</td>\n",
       "    </tr>\n",
       "  </tbody>\n",
       "</table>\n",
       "<p>5 rows × 987 columns</p>\n",
       "</div>"
      ],
      "text/plain": [
       "                              LV1       LV2       LV3       LV4       LV5  \\\n",
       "100001_raw-Food_weight  -0.695006  1.962565  0.057683  0.878731 -0.539977   \n",
       "100002_raw-Energy       -1.528127 -0.345309 -0.148953 -0.242060  0.373427   \n",
       "100003_raw-Protein      -0.704572 -1.011299  0.671420  0.143991  0.615212   \n",
       "100004_raw-Fat          -0.989832 -1.875490  0.261555 -1.420719  0.366238   \n",
       "100005_raw-Carbohydrate -0.580143  0.243335  0.158966 -0.036558  0.068176   \n",
       "\n",
       "                              LV6       LV7       LV8       LV9      LV10  \\\n",
       "100001_raw-Food_weight   1.481272 -0.396422  1.090180  0.759223  0.931395   \n",
       "100002_raw-Energy        0.791092  0.263477  0.987702  0.354391  1.416059   \n",
       "100003_raw-Protein       0.874212 -0.040998  0.915170  0.254369 -0.084237   \n",
       "100004_raw-Fat           1.167049  0.257387  0.717674 -0.997664  0.969825   \n",
       "100005_raw-Carbohydrate -0.202639  1.101281  0.675227  1.463432  1.010078   \n",
       "\n",
       "                         ...     LV978     LV979     LV980     LV981  \\\n",
       "100001_raw-Food_weight   ...  1.129784  1.752343 -1.411403  2.823863   \n",
       "100002_raw-Energy        ...  0.224604  0.769882 -0.509482  0.091153   \n",
       "100003_raw-Protein       ...  1.003019  1.044314 -2.376108  0.004778   \n",
       "100004_raw-Fat           ...  0.585913  0.638314  0.119139 -0.140204   \n",
       "100005_raw-Carbohydrate  ... -0.249108 -0.026814  0.232713  0.323682   \n",
       "\n",
       "                            LV982     LV983     LV984     LV985     LV986  \\\n",
       "100001_raw-Food_weight   0.931116 -1.054519  0.432982 -0.633597  0.554279   \n",
       "100002_raw-Energy        2.286789 -1.008256 -0.029764  1.737229 -0.272107   \n",
       "100003_raw-Protein       0.053714 -0.892447 -0.183800  1.377991 -0.278794   \n",
       "100004_raw-Fat           1.394326 -1.173402  0.555058  1.013982 -0.544506   \n",
       "100005_raw-Carbohydrate  1.168642 -0.282935  0.653105  1.909526  0.199997   \n",
       "\n",
       "                            LV987  \n",
       "100001_raw-Food_weight  -0.642479  \n",
       "100002_raw-Energy       -0.526125  \n",
       "100003_raw-Protein      -0.419733  \n",
       "100004_raw-Fat          -0.064061  \n",
       "100005_raw-Carbohydrate -1.656894  \n",
       "\n",
       "[5 rows x 987 columns]"
      ]
     },
     "execution_count": 11,
     "metadata": {},
     "output_type": "execute_result"
    }
   ],
   "source": [
    "data.head()"
   ]
  },
  {
   "cell_type": "markdown",
   "metadata": {
    "papermill": {
     "duration": 0.028879,
     "end_time": "2021-03-09T21:31:24.652365",
     "exception": false,
     "start_time": "2021-03-09T21:31:24.623486",
     "status": "completed"
    },
    "tags": []
   },
   "source": [
    "# Clustering"
   ]
  },
  {
   "cell_type": "code",
   "execution_count": 12,
   "metadata": {
    "execution": {
     "iopub.execute_input": "2021-03-09T21:31:24.712566Z",
     "iopub.status.busy": "2021-03-09T21:31:24.712172Z",
     "iopub.status.idle": "2021-03-09T21:31:24.837607Z",
     "shell.execute_reply": "2021-03-09T21:31:24.837221Z"
    },
    "papermill": {
     "duration": 0.156548,
     "end_time": "2021-03-09T21:31:24.837693",
     "exception": false,
     "start_time": "2021-03-09T21:31:24.681145",
     "status": "completed"
    },
    "tags": []
   },
   "outputs": [],
   "source": [
    "from sklearn.cluster import SpectralClustering\n",
    "\n",
    "from clustering.utils import compute_performance"
   ]
  },
  {
   "cell_type": "markdown",
   "metadata": {
    "papermill": {
     "duration": 0.029674,
     "end_time": "2021-03-09T21:31:24.897504",
     "exception": false,
     "start_time": "2021-03-09T21:31:24.867830",
     "status": "completed"
    },
    "tags": []
   },
   "source": [
    "## `gamma` parameter"
   ]
  },
  {
   "cell_type": "markdown",
   "metadata": {
    "papermill": {
     "duration": 0.029111,
     "end_time": "2021-03-09T21:31:24.956298",
     "exception": false,
     "start_time": "2021-03-09T21:31:24.927187",
     "status": "completed"
    },
    "tags": []
   },
   "source": [
    "### Using default value (`gamma=1.0`)"
   ]
  },
  {
   "cell_type": "code",
   "execution_count": 13,
   "metadata": {
    "execution": {
     "iopub.execute_input": "2021-03-09T21:31:25.018533Z",
     "iopub.status.busy": "2021-03-09T21:31:25.018161Z",
     "iopub.status.idle": "2021-03-09T21:32:25.339200Z",
     "shell.execute_reply": "2021-03-09T21:32:25.339509Z"
    },
    "papermill": {
     "duration": 60.353823,
     "end_time": "2021-03-09T21:32:25.339621",
     "exception": false,
     "start_time": "2021-03-09T21:31:24.985798",
     "status": "completed"
    },
    "tags": []
   },
   "outputs": [
    {
     "name": "stderr",
     "output_type": "stream",
     "text": [
      "/mnt/software/miniconda3/envs/phenoplier2/lib/python3.8/site-packages/sklearn/manifold/_spectral_embedding.py:236: UserWarning: Graph is not fully connected, spectral embedding may not work as expected.\n",
      "  warnings.warn(\"Graph is not fully connected, spectral embedding\"\n"
     ]
    },
    {
     "name": "stderr",
     "output_type": "stream",
     "text": [
      "/mnt/software/miniconda3/envs/phenoplier2/lib/python3.8/site-packages/numpy/core/_methods.py:205: RuntimeWarning: overflow encountered in multiply\n",
      "  x = um.multiply(x, x, out=x)\n",
      "/mnt/software/miniconda3/envs/phenoplier2/lib/python3.8/site-packages/sklearn/utils/extmath.py:153: RuntimeWarning: overflow encountered in matmul\n",
      "  ret = a @ b\n",
      "/mnt/software/miniconda3/envs/phenoplier2/lib/python3.8/site-packages/sklearn/utils/extmath.py:153: RuntimeWarning: invalid value encountered in matmul\n",
      "  ret = a @ b\n",
      "/mnt/software/miniconda3/envs/phenoplier2/lib/python3.8/site-packages/sklearn/metrics/pairwise.py:311: RuntimeWarning: invalid value encountered in add\n",
      "  distances += XX\n",
      "/mnt/software/miniconda3/envs/phenoplier2/lib/python3.8/site-packages/sklearn/utils/extmath.py:153: RuntimeWarning: overflow encountered in matmul\n",
      "  ret = a @ b\n",
      "/mnt/software/miniconda3/envs/phenoplier2/lib/python3.8/site-packages/sklearn/metrics/pairwise.py:311: RuntimeWarning: invalid value encountered in add\n",
      "  distances += XX\n",
      "/mnt/software/miniconda3/envs/phenoplier2/lib/python3.8/site-packages/sklearn/utils/extmath.py:153: RuntimeWarning: overflow encountered in matmul\n",
      "  ret = a @ b\n",
      "/mnt/software/miniconda3/envs/phenoplier2/lib/python3.8/site-packages/sklearn/metrics/pairwise.py:311: RuntimeWarning: invalid value encountered in add\n",
      "  distances += XX\n",
      "/mnt/software/miniconda3/envs/phenoplier2/lib/python3.8/site-packages/sklearn/cluster/_kmeans.py:421: RuntimeWarning: overflow encountered in square\n",
      "  elkan_iter(X, sample_weight, centers, centers_new,\n",
      "/mnt/software/miniconda3/envs/phenoplier2/lib/python3.8/site-packages/sklearn/utils/extmath.py:153: RuntimeWarning: overflow encountered in matmul\n",
      "  ret = a @ b\n",
      "/mnt/software/miniconda3/envs/phenoplier2/lib/python3.8/site-packages/sklearn/metrics/pairwise.py:311: RuntimeWarning: invalid value encountered in add\n",
      "  distances += XX\n",
      "/mnt/software/miniconda3/envs/phenoplier2/lib/python3.8/site-packages/sklearn/cluster/_kmeans.py:296: ConvergenceWarning: Number of distinct clusters (1) found smaller than n_clusters (2). Possibly due to duplicate points in X.\n",
      "  est = KMeans(\n"
     ]
    }
   ],
   "source": [
    "with warnings.catch_warnings():\n",
    "    warnings.filterwarnings(\"always\")\n",
    "\n",
    "    clus = SpectralClustering(\n",
    "        eigen_solver=\"arpack\",\n",
    "        #         eigen_tol=1e-2,\n",
    "        n_clusters=2,\n",
    "        n_init=1,\n",
    "        affinity=\"rbf\",\n",
    "        gamma=1.00,\n",
    "        random_state=INITIAL_RANDOM_STATE,\n",
    "    )\n",
    "\n",
    "    part = clus.fit_predict(data)"
   ]
  },
  {
   "cell_type": "code",
   "execution_count": 14,
   "metadata": {
    "execution": {
     "iopub.execute_input": "2021-03-09T21:32:25.403688Z",
     "iopub.status.busy": "2021-03-09T21:32:25.403314Z",
     "iopub.status.idle": "2021-03-09T21:32:25.415192Z",
     "shell.execute_reply": "2021-03-09T21:32:25.415494Z"
    },
    "papermill": {
     "duration": 0.044943,
     "end_time": "2021-03-09T21:32:25.415598",
     "exception": false,
     "start_time": "2021-03-09T21:32:25.370655",
     "status": "completed"
    },
    "tags": []
   },
   "outputs": [
    {
     "data": {
      "text/plain": [
       "0    3752\n",
       "dtype: int64"
      ]
     },
     "metadata": {},
     "output_type": "display_data"
    }
   ],
   "source": [
    "# show number of clusters and their size\n",
    "_tmp = pd.Series(part).value_counts()\n",
    "display(_tmp)\n",
    "assert _tmp.shape[0] == 1"
   ]
  },
  {
   "cell_type": "markdown",
   "metadata": {
    "papermill": {
     "duration": 0.030373,
     "end_time": "2021-03-09T21:32:25.477296",
     "exception": false,
     "start_time": "2021-03-09T21:32:25.446923",
     "status": "completed"
    },
    "tags": []
   },
   "source": [
    "The algorithm does not work with the default `gamma=1.0`. Other values for this parameter should be explored."
   ]
  },
  {
   "cell_type": "markdown",
   "metadata": {
    "papermill": {
     "duration": 0.02964,
     "end_time": "2021-03-09T21:32:25.537375",
     "exception": false,
     "start_time": "2021-03-09T21:32:25.507735",
     "status": "completed"
    },
    "tags": []
   },
   "source": [
    "### Using `gamma=5.00`"
   ]
  },
  {
   "cell_type": "code",
   "execution_count": 15,
   "metadata": {
    "execution": {
     "iopub.execute_input": "2021-03-09T21:32:25.600956Z",
     "iopub.status.busy": "2021-03-09T21:32:25.600473Z",
     "iopub.status.idle": "2021-03-09T21:32:27.438260Z",
     "shell.execute_reply": "2021-03-09T21:32:27.437909Z"
    },
    "papermill": {
     "duration": 1.870616,
     "end_time": "2021-03-09T21:32:27.438346",
     "exception": false,
     "start_time": "2021-03-09T21:32:25.567730",
     "status": "completed"
    },
    "tags": []
   },
   "outputs": [
    {
     "name": "stderr",
     "output_type": "stream",
     "text": [
      "/mnt/software/miniconda3/envs/phenoplier2/lib/python3.8/site-packages/sklearn/manifold/_spectral_embedding.py:236: UserWarning: Graph is not fully connected, spectral embedding may not work as expected.\n",
      "  warnings.warn(\"Graph is not fully connected, spectral embedding\"\n"
     ]
    },
    {
     "name": "stderr",
     "output_type": "stream",
     "text": [
      "/mnt/software/miniconda3/envs/phenoplier2/lib/python3.8/site-packages/numpy/core/_methods.py:205: RuntimeWarning: overflow encountered in multiply\n",
      "  x = um.multiply(x, x, out=x)\n",
      "/mnt/software/miniconda3/envs/phenoplier2/lib/python3.8/site-packages/sklearn/utils/extmath.py:153: RuntimeWarning: overflow encountered in matmul\n",
      "  ret = a @ b\n",
      "/mnt/software/miniconda3/envs/phenoplier2/lib/python3.8/site-packages/sklearn/metrics/pairwise.py:311: RuntimeWarning: invalid value encountered in add\n",
      "  distances += XX\n",
      "/mnt/software/miniconda3/envs/phenoplier2/lib/python3.8/site-packages/sklearn/utils/extmath.py:153: RuntimeWarning: overflow encountered in matmul\n",
      "  ret = a @ b\n",
      "/mnt/software/miniconda3/envs/phenoplier2/lib/python3.8/site-packages/sklearn/metrics/pairwise.py:311: RuntimeWarning: invalid value encountered in add\n",
      "  distances += XX\n",
      "/mnt/software/miniconda3/envs/phenoplier2/lib/python3.8/site-packages/sklearn/utils/extmath.py:153: RuntimeWarning: overflow encountered in matmul\n",
      "  ret = a @ b\n",
      "/mnt/software/miniconda3/envs/phenoplier2/lib/python3.8/site-packages/sklearn/metrics/pairwise.py:311: RuntimeWarning: invalid value encountered in add\n",
      "  distances += XX\n",
      "/mnt/software/miniconda3/envs/phenoplier2/lib/python3.8/site-packages/sklearn/cluster/_kmeans.py:421: RuntimeWarning: overflow encountered in square\n",
      "  elkan_iter(X, sample_weight, centers, centers_new,\n",
      "/mnt/software/miniconda3/envs/phenoplier2/lib/python3.8/site-packages/sklearn/utils/extmath.py:153: RuntimeWarning: overflow encountered in matmul\n",
      "  ret = a @ b\n",
      "/mnt/software/miniconda3/envs/phenoplier2/lib/python3.8/site-packages/sklearn/metrics/pairwise.py:311: RuntimeWarning: invalid value encountered in add\n",
      "  distances += XX\n",
      "/mnt/software/miniconda3/envs/phenoplier2/lib/python3.8/site-packages/sklearn/cluster/_kmeans.py:296: ConvergenceWarning: Number of distinct clusters (1) found smaller than n_clusters (2). Possibly due to duplicate points in X.\n",
      "  est = KMeans(\n"
     ]
    }
   ],
   "source": [
    "with warnings.catch_warnings():\n",
    "    warnings.filterwarnings(\"always\")\n",
    "\n",
    "    clus = SpectralClustering(\n",
    "        eigen_solver=\"arpack\",\n",
    "        #         eigen_tol=1e-2,\n",
    "        n_clusters=2,\n",
    "        n_init=1,\n",
    "        affinity=\"rbf\",\n",
    "        gamma=5.00,\n",
    "        random_state=INITIAL_RANDOM_STATE,\n",
    "    )\n",
    "\n",
    "    part = clus.fit_predict(data)"
   ]
  },
  {
   "cell_type": "code",
   "execution_count": 16,
   "metadata": {
    "execution": {
     "iopub.execute_input": "2021-03-09T21:32:27.504666Z",
     "iopub.status.busy": "2021-03-09T21:32:27.504266Z",
     "iopub.status.idle": "2021-03-09T21:32:27.516824Z",
     "shell.execute_reply": "2021-03-09T21:32:27.516406Z"
    },
    "papermill": {
     "duration": 0.045916,
     "end_time": "2021-03-09T21:32:27.516909",
     "exception": false,
     "start_time": "2021-03-09T21:32:27.470993",
     "status": "completed"
    },
    "tags": []
   },
   "outputs": [
    {
     "data": {
      "text/plain": [
       "0    3752\n",
       "dtype: int64"
      ]
     },
     "metadata": {},
     "output_type": "display_data"
    }
   ],
   "source": [
    "# show number of clusters and their size\n",
    "_tmp = pd.Series(part).value_counts()\n",
    "display(_tmp)\n",
    "assert _tmp.shape[0] == 1"
   ]
  },
  {
   "cell_type": "markdown",
   "metadata": {
    "papermill": {
     "duration": 0.030253,
     "end_time": "2021-03-09T21:32:27.578128",
     "exception": false,
     "start_time": "2021-03-09T21:32:27.547875",
     "status": "completed"
    },
    "tags": []
   },
   "source": [
    "The algorithm does not work either with `gamma>1.0`."
   ]
  },
  {
   "cell_type": "markdown",
   "metadata": {
    "papermill": {
     "duration": 0.029992,
     "end_time": "2021-03-09T21:32:27.638197",
     "exception": false,
     "start_time": "2021-03-09T21:32:27.608205",
     "status": "completed"
    },
    "tags": []
   },
   "source": [
    "### Using `gamma=0.01`"
   ]
  },
  {
   "cell_type": "code",
   "execution_count": 17,
   "metadata": {
    "execution": {
     "iopub.execute_input": "2021-03-09T21:32:27.701414Z",
     "iopub.status.busy": "2021-03-09T21:32:27.701027Z",
     "iopub.status.idle": "2021-03-09T21:32:29.516743Z",
     "shell.execute_reply": "2021-03-09T21:32:29.516328Z"
    },
    "papermill": {
     "duration": 1.848484,
     "end_time": "2021-03-09T21:32:29.516849",
     "exception": false,
     "start_time": "2021-03-09T21:32:27.668365",
     "status": "completed"
    },
    "tags": []
   },
   "outputs": [],
   "source": [
    "with warnings.catch_warnings():\n",
    "    warnings.filterwarnings(\"always\")\n",
    "\n",
    "    clus = SpectralClustering(\n",
    "        eigen_solver=\"arpack\",\n",
    "        eigen_tol=1e-3,\n",
    "        n_clusters=2,\n",
    "        n_init=1,\n",
    "        affinity=\"rbf\",\n",
    "        gamma=0.01,\n",
    "        random_state=INITIAL_RANDOM_STATE,\n",
    "    )\n",
    "\n",
    "    part = clus.fit_predict(data)"
   ]
  },
  {
   "cell_type": "code",
   "execution_count": 18,
   "metadata": {
    "execution": {
     "iopub.execute_input": "2021-03-09T21:32:29.596019Z",
     "iopub.status.busy": "2021-03-09T21:32:29.595659Z",
     "iopub.status.idle": "2021-03-09T21:32:29.608029Z",
     "shell.execute_reply": "2021-03-09T21:32:29.607659Z"
    },
    "papermill": {
     "duration": 0.045971,
     "end_time": "2021-03-09T21:32:29.608115",
     "exception": false,
     "start_time": "2021-03-09T21:32:29.562144",
     "status": "completed"
    },
    "tags": []
   },
   "outputs": [
    {
     "data": {
      "text/plain": [
       "0    3747\n",
       "1       5\n",
       "dtype: int64"
      ]
     },
     "metadata": {},
     "output_type": "display_data"
    }
   ],
   "source": [
    "# show number of clusters and their size\n",
    "_tmp = pd.Series(part).value_counts()\n",
    "display(_tmp)\n",
    "assert _tmp.shape[0] == 2\n",
    "assert 3 < _tmp.loc[1] < 10"
   ]
  },
  {
   "cell_type": "code",
   "execution_count": 19,
   "metadata": {
    "execution": {
     "iopub.execute_input": "2021-03-09T21:32:29.672136Z",
     "iopub.status.busy": "2021-03-09T21:32:29.671775Z",
     "iopub.status.idle": "2021-03-09T21:32:30.051192Z",
     "shell.execute_reply": "2021-03-09T21:32:30.050813Z"
    },
    "papermill": {
     "duration": 0.412404,
     "end_time": "2021-03-09T21:32:30.051301",
     "exception": false,
     "start_time": "2021-03-09T21:32:29.638897",
     "status": "completed"
    },
    "tags": []
   },
   "outputs": [
    {
     "data": {
      "text/plain": [
       "'Silhouette (higher is better): 0.305'"
      ]
     },
     "metadata": {},
     "output_type": "display_data"
    },
    {
     "data": {
      "text/plain": [
       "'Calinski-Harabasz (higher is better): 10.292'"
      ]
     },
     "metadata": {},
     "output_type": "display_data"
    },
    {
     "data": {
      "text/plain": [
       "'Davies-Bouldin (lower is better): 1.400'"
      ]
     },
     "metadata": {},
     "output_type": "display_data"
    }
   ],
   "source": [
    "# show some clustering performance measures to assess the quality of the partition\n",
    "_tmp = compute_performance(data, part)\n",
    "assert 0.30 < _tmp[\"si\"] < 0.31\n",
    "assert 10.0 < _tmp[\"ch\"] < 11.00\n",
    "assert 1.30 < _tmp[\"db\"] < 1.50"
   ]
  },
  {
   "cell_type": "markdown",
   "metadata": {
    "papermill": {
     "duration": 0.031795,
     "end_time": "2021-03-09T21:32:30.118466",
     "exception": false,
     "start_time": "2021-03-09T21:32:30.086671",
     "status": "completed"
    },
    "tags": []
   },
   "source": [
    "For values around `gamma=0.01` the algorithm takes a lot of time to converge (here I used `eigen_tol=1e-03` to force convergence)."
   ]
  },
  {
   "cell_type": "markdown",
   "metadata": {
    "papermill": {
     "duration": 0.030679,
     "end_time": "2021-03-09T21:32:30.180649",
     "exception": false,
     "start_time": "2021-03-09T21:32:30.149970",
     "status": "completed"
    },
    "tags": []
   },
   "source": [
    "### Using `gamma=0.001`"
   ]
  },
  {
   "cell_type": "code",
   "execution_count": 20,
   "metadata": {
    "execution": {
     "iopub.execute_input": "2021-03-09T21:32:30.245218Z",
     "iopub.status.busy": "2021-03-09T21:32:30.244848Z",
     "iopub.status.idle": "2021-03-09T21:32:31.641515Z",
     "shell.execute_reply": "2021-03-09T21:32:31.641043Z"
    },
    "papermill": {
     "duration": 1.430017,
     "end_time": "2021-03-09T21:32:31.641621",
     "exception": false,
     "start_time": "2021-03-09T21:32:30.211604",
     "status": "completed"
    },
    "tags": []
   },
   "outputs": [],
   "source": [
    "with warnings.catch_warnings():\n",
    "    warnings.filterwarnings(\"always\")\n",
    "\n",
    "    clus = SpectralClustering(\n",
    "        eigen_solver=\"arpack\",\n",
    "        #         eigen_tol=1e-3,\n",
    "        n_clusters=2,\n",
    "        n_init=1,\n",
    "        affinity=\"rbf\",\n",
    "        gamma=0.001,\n",
    "        random_state=INITIAL_RANDOM_STATE,\n",
    "    )\n",
    "\n",
    "    part = clus.fit_predict(data)"
   ]
  },
  {
   "cell_type": "code",
   "execution_count": 21,
   "metadata": {
    "execution": {
     "iopub.execute_input": "2021-03-09T21:32:31.730708Z",
     "iopub.status.busy": "2021-03-09T21:32:31.730235Z",
     "iopub.status.idle": "2021-03-09T21:32:31.744723Z",
     "shell.execute_reply": "2021-03-09T21:32:31.744268Z"
    },
    "papermill": {
     "duration": 0.067522,
     "end_time": "2021-03-09T21:32:31.744823",
     "exception": false,
     "start_time": "2021-03-09T21:32:31.677301",
     "status": "completed"
    },
    "tags": []
   },
   "outputs": [
    {
     "data": {
      "text/plain": [
       "0    3665\n",
       "1      87\n",
       "dtype: int64"
      ]
     },
     "metadata": {},
     "output_type": "display_data"
    }
   ],
   "source": [
    "# show number of clusters and their size\n",
    "_tmp = pd.Series(part).value_counts()\n",
    "display(_tmp)\n",
    "assert _tmp.shape[0] == 2\n",
    "assert 80 < _tmp.loc[1] < 90"
   ]
  },
  {
   "cell_type": "code",
   "execution_count": 22,
   "metadata": {
    "execution": {
     "iopub.execute_input": "2021-03-09T21:32:31.818690Z",
     "iopub.status.busy": "2021-03-09T21:32:31.818329Z",
     "iopub.status.idle": "2021-03-09T21:32:32.190189Z",
     "shell.execute_reply": "2021-03-09T21:32:32.190541Z"
    },
    "papermill": {
     "duration": 0.407002,
     "end_time": "2021-03-09T21:32:32.190669",
     "exception": false,
     "start_time": "2021-03-09T21:32:31.783667",
     "status": "completed"
    },
    "tags": []
   },
   "outputs": [
    {
     "data": {
      "text/plain": [
       "'Silhouette (higher is better): 0.151'"
      ]
     },
     "metadata": {},
     "output_type": "display_data"
    },
    {
     "data": {
      "text/plain": [
       "'Calinski-Harabasz (higher is better): 41.033'"
      ]
     },
     "metadata": {},
     "output_type": "display_data"
    },
    {
     "data": {
      "text/plain": [
       "'Davies-Bouldin (lower is better): 3.024'"
      ]
     },
     "metadata": {},
     "output_type": "display_data"
    }
   ],
   "source": [
    "# show some clustering performance measures to assess the quality of the partition\n",
    "_tmp = compute_performance(data, part)\n",
    "assert 0.10 < _tmp[\"si\"] < 0.16\n",
    "assert 40.0 < _tmp[\"ch\"] < 42.00\n",
    "assert 3.00 < _tmp[\"db\"] < 4.00"
   ]
  },
  {
   "cell_type": "markdown",
   "metadata": {
    "papermill": {
     "duration": 0.033014,
     "end_time": "2021-03-09T21:32:32.262437",
     "exception": false,
     "start_time": "2021-03-09T21:32:32.229423",
     "status": "completed"
    },
    "tags": []
   },
   "source": [
    "For values around `gamma=0.001` now the algorithm converges, although most of the performance measures are worse. This suggests smaller values should be explored for this parameter."
   ]
  },
  {
   "cell_type": "markdown",
   "metadata": {
    "papermill": {
     "duration": 0.032297,
     "end_time": "2021-03-09T21:32:32.326969",
     "exception": false,
     "start_time": "2021-03-09T21:32:32.294672",
     "status": "completed"
    },
    "tags": []
   },
   "source": [
    "## Extended test"
   ]
  },
  {
   "cell_type": "markdown",
   "metadata": {
    "papermill": {
     "duration": 0.032314,
     "end_time": "2021-03-09T21:32:32.391665",
     "exception": false,
     "start_time": "2021-03-09T21:32:32.359351",
     "status": "completed"
    },
    "tags": []
   },
   "source": [
    "Here I run some test across several `k` and `gamma` values; then I check how results perform with different clustering quality measures."
   ]
  },
  {
   "cell_type": "code",
   "execution_count": 23,
   "metadata": {
    "execution": {
     "iopub.execute_input": "2021-03-09T21:32:32.458940Z",
     "iopub.status.busy": "2021-03-09T21:32:32.458565Z",
     "iopub.status.idle": "2021-03-09T21:32:32.470463Z",
     "shell.execute_reply": "2021-03-09T21:32:32.470093Z"
    },
    "papermill": {
     "duration": 0.046832,
     "end_time": "2021-03-09T21:32:32.470548",
     "exception": false,
     "start_time": "2021-03-09T21:32:32.423716",
     "status": "completed"
    },
    "tags": []
   },
   "outputs": [
    {
     "data": {
      "text/plain": [
       "{'K_RANGE': [2, 4, 6, 8, 10, 20, 30, 40, 50, 60],\n",
       " 'N_REPS_PER_K': 5,\n",
       " 'KMEANS_N_INIT': 10,\n",
       " 'GAMMAS': [0.001, 1e-05, 1e-10, 1e-15, 1e-17, 1e-20, 1e-30, 1e-40, 1e-50],\n",
       " 'AFFINITY': 'rbf'}"
      ]
     },
     "metadata": {},
     "output_type": "display_data"
    }
   ],
   "source": [
    "CLUSTERING_OPTIONS = {}\n",
    "\n",
    "CLUSTERING_OPTIONS[\"K_RANGE\"] = [2, 4, 6, 8, 10, 20, 30, 40, 50, 60]\n",
    "CLUSTERING_OPTIONS[\"N_REPS_PER_K\"] = 5\n",
    "CLUSTERING_OPTIONS[\"KMEANS_N_INIT\"] = 10\n",
    "CLUSTERING_OPTIONS[\"GAMMAS\"] = [\n",
    "    1e-03,\n",
    "    #     1e-04,\n",
    "    #     1e-05,\n",
    "    1e-05,\n",
    "    #     1e-06,\n",
    "    #     1e-07,\n",
    "    #     1e-08,\n",
    "    #     1e-09,\n",
    "    1e-10,\n",
    "    #     1e-11,\n",
    "    #     1e-12,\n",
    "    #     1e-13,\n",
    "    #     1e-14,\n",
    "    1e-15,\n",
    "    1e-17,\n",
    "    1e-20,\n",
    "    1e-30,\n",
    "    1e-40,\n",
    "    1e-50,\n",
    "]\n",
    "CLUSTERING_OPTIONS[\"AFFINITY\"] = \"rbf\"\n",
    "\n",
    "display(CLUSTERING_OPTIONS)"
   ]
  },
  {
   "cell_type": "code",
   "execution_count": 24,
   "metadata": {
    "execution": {
     "iopub.execute_input": "2021-03-09T21:32:32.538919Z",
     "iopub.status.busy": "2021-03-09T21:32:32.538545Z",
     "iopub.status.idle": "2021-03-09T21:32:32.550536Z",
     "shell.execute_reply": "2021-03-09T21:32:32.550810Z"
    },
    "papermill": {
     "duration": 0.047653,
     "end_time": "2021-03-09T21:32:32.550915",
     "exception": false,
     "start_time": "2021-03-09T21:32:32.503262",
     "status": "completed"
    },
    "tags": []
   },
   "outputs": [],
   "source": [
    "CLUSTERERS = {}\n",
    "\n",
    "idx = 0\n",
    "random_state = INITIAL_RANDOM_STATE\n",
    "\n",
    "for k in CLUSTERING_OPTIONS[\"K_RANGE\"]:\n",
    "    for gamma_value in CLUSTERING_OPTIONS[\"GAMMAS\"]:\n",
    "        for i in range(CLUSTERING_OPTIONS[\"N_REPS_PER_K\"]):\n",
    "            clus = SpectralClustering(\n",
    "                eigen_solver=\"arpack\",\n",
    "                n_clusters=k,\n",
    "                n_init=CLUSTERING_OPTIONS[\"KMEANS_N_INIT\"],\n",
    "                affinity=CLUSTERING_OPTIONS[\"AFFINITY\"],\n",
    "                gamma=gamma_value,\n",
    "                random_state=random_state,\n",
    "            )\n",
    "\n",
    "            method_name = type(clus).__name__\n",
    "            CLUSTERERS[f\"{method_name} #{idx}\"] = clus\n",
    "\n",
    "            random_state = random_state + 1\n",
    "            idx = idx + 1"
   ]
  },
  {
   "cell_type": "code",
   "execution_count": 25,
   "metadata": {
    "execution": {
     "iopub.execute_input": "2021-03-09T21:32:32.619544Z",
     "iopub.status.busy": "2021-03-09T21:32:32.619137Z",
     "iopub.status.idle": "2021-03-09T21:32:32.630281Z",
     "shell.execute_reply": "2021-03-09T21:32:32.629907Z"
    },
    "papermill": {
     "duration": 0.045994,
     "end_time": "2021-03-09T21:32:32.630367",
     "exception": false,
     "start_time": "2021-03-09T21:32:32.584373",
     "status": "completed"
    },
    "tags": []
   },
   "outputs": [
    {
     "data": {
      "text/plain": [
       "450"
      ]
     },
     "metadata": {},
     "output_type": "display_data"
    }
   ],
   "source": [
    "display(len(CLUSTERERS))"
   ]
  },
  {
   "cell_type": "code",
   "execution_count": 26,
   "metadata": {
    "execution": {
     "iopub.execute_input": "2021-03-09T21:32:32.698311Z",
     "iopub.status.busy": "2021-03-09T21:32:32.697945Z",
     "iopub.status.idle": "2021-03-09T21:32:32.710834Z",
     "shell.execute_reply": "2021-03-09T21:32:32.710460Z"
    },
    "papermill": {
     "duration": 0.047149,
     "end_time": "2021-03-09T21:32:32.710921",
     "exception": false,
     "start_time": "2021-03-09T21:32:32.663772",
     "status": "completed"
    },
    "tags": []
   },
   "outputs": [
    {
     "data": {
      "text/plain": [
       "('SpectralClustering #0',\n",
       " SpectralClustering(eigen_solver='arpack', gamma=0.001, n_clusters=2,\n",
       "                    random_state=30000))"
      ]
     },
     "metadata": {},
     "output_type": "display_data"
    },
    {
     "data": {
      "text/plain": [
       "('SpectralClustering #1',\n",
       " SpectralClustering(eigen_solver='arpack', gamma=0.001, n_clusters=2,\n",
       "                    random_state=30001))"
      ]
     },
     "metadata": {},
     "output_type": "display_data"
    }
   ],
   "source": [
    "_iter = iter(CLUSTERERS.items())\n",
    "display(next(_iter))\n",
    "display(next(_iter))"
   ]
  },
  {
   "cell_type": "code",
   "execution_count": 27,
   "metadata": {
    "execution": {
     "iopub.execute_input": "2021-03-09T21:32:32.781864Z",
     "iopub.status.busy": "2021-03-09T21:32:32.781495Z",
     "iopub.status.idle": "2021-03-09T21:32:32.792632Z",
     "shell.execute_reply": "2021-03-09T21:32:32.792239Z"
    },
    "papermill": {
     "duration": 0.048606,
     "end_time": "2021-03-09T21:32:32.792734",
     "exception": false,
     "start_time": "2021-03-09T21:32:32.744128",
     "status": "completed"
    },
    "tags": []
   },
   "outputs": [
    {
     "data": {
      "text/plain": [
       "'SpectralClustering'"
      ]
     },
     "metadata": {},
     "output_type": "display_data"
    }
   ],
   "source": [
    "clustering_method_name = method_name\n",
    "display(clustering_method_name)"
   ]
  },
  {
   "cell_type": "markdown",
   "metadata": {
    "papermill": {
     "duration": 0.033186,
     "end_time": "2021-03-09T21:32:32.860588",
     "exception": false,
     "start_time": "2021-03-09T21:32:32.827402",
     "status": "completed"
    },
    "tags": []
   },
   "source": [
    "## Generate ensemble"
   ]
  },
  {
   "cell_type": "code",
   "execution_count": 28,
   "metadata": {
    "execution": {
     "iopub.execute_input": "2021-03-09T21:32:32.928810Z",
     "iopub.status.busy": "2021-03-09T21:32:32.928410Z",
     "iopub.status.idle": "2021-03-09T21:32:32.941434Z",
     "shell.execute_reply": "2021-03-09T21:32:32.941055Z"
    },
    "papermill": {
     "duration": 0.048011,
     "end_time": "2021-03-09T21:32:32.941520",
     "exception": false,
     "start_time": "2021-03-09T21:32:32.893509",
     "status": "completed"
    },
    "tags": []
   },
   "outputs": [],
   "source": [
    "import tempfile\n",
    "from clustering.ensembles.utils import generate_ensemble"
   ]
  },
  {
   "cell_type": "code",
   "execution_count": 29,
   "metadata": {
    "execution": {
     "iopub.execute_input": "2021-03-09T21:32:33.011948Z",
     "iopub.status.busy": "2021-03-09T21:32:33.011584Z",
     "iopub.status.idle": "2021-03-09T21:49:16.267828Z",
     "shell.execute_reply": "2021-03-09T21:49:16.267449Z"
    },
    "papermill": {
     "duration": 1003.291459,
     "end_time": "2021-03-09T21:49:16.267914",
     "exception": false,
     "start_time": "2021-03-09T21:32:32.976455",
     "status": "completed"
    },
    "tags": []
   },
   "outputs": [
    {
     "name": "stderr",
     "output_type": "stream",
     "text": [
      "\r",
      "  0%|          | 0/450 [00:00<?, ?it/s]"
     ]
    },
    {
     "name": "stderr",
     "output_type": "stream",
     "text": [
      "\r",
      "  0%|          | 1/450 [00:01<10:48,  1.45s/it]"
     ]
    },
    {
     "name": "stderr",
     "output_type": "stream",
     "text": [
      "\r",
      "  0%|          | 2/450 [00:02<10:48,  1.45s/it]"
     ]
    },
    {
     "name": "stderr",
     "output_type": "stream",
     "text": [
      "\r",
      "  1%|          | 3/450 [00:04<10:47,  1.45s/it]"
     ]
    },
    {
     "name": "stderr",
     "output_type": "stream",
     "text": [
      "\r",
      "  1%|          | 4/450 [00:05<10:46,  1.45s/it]"
     ]
    },
    {
     "name": "stderr",
     "output_type": "stream",
     "text": [
      "\r",
      "  1%|          | 5/450 [00:07<10:44,  1.45s/it]"
     ]
    },
    {
     "name": "stderr",
     "output_type": "stream",
     "text": [
      "\r",
      "  1%|▏         | 6/450 [00:08<10:29,  1.42s/it]"
     ]
    },
    {
     "name": "stderr",
     "output_type": "stream",
     "text": [
      "\r",
      "  2%|▏         | 7/450 [00:09<10:19,  1.40s/it]"
     ]
    },
    {
     "name": "stderr",
     "output_type": "stream",
     "text": [
      "\r",
      "  2%|▏         | 8/450 [00:11<10:10,  1.38s/it]"
     ]
    },
    {
     "name": "stderr",
     "output_type": "stream",
     "text": [
      "\r",
      "  2%|▏         | 9/450 [00:12<10:03,  1.37s/it]"
     ]
    },
    {
     "name": "stderr",
     "output_type": "stream",
     "text": [
      "\r",
      "  2%|▏         | 10/450 [00:13<09:59,  1.36s/it]"
     ]
    },
    {
     "name": "stderr",
     "output_type": "stream",
     "text": [
      "\r",
      "  2%|▏         | 11/450 [00:15<09:58,  1.36s/it]"
     ]
    },
    {
     "name": "stderr",
     "output_type": "stream",
     "text": [
      "\r",
      "  3%|▎         | 12/450 [00:16<09:55,  1.36s/it]"
     ]
    },
    {
     "name": "stderr",
     "output_type": "stream",
     "text": [
      "\r",
      "  3%|▎         | 13/450 [00:18<09:53,  1.36s/it]"
     ]
    },
    {
     "name": "stderr",
     "output_type": "stream",
     "text": [
      "\r",
      "  3%|▎         | 14/450 [00:19<09:51,  1.36s/it]"
     ]
    },
    {
     "name": "stderr",
     "output_type": "stream",
     "text": [
      "\r",
      "  3%|▎         | 15/450 [00:20<09:50,  1.36s/it]"
     ]
    },
    {
     "name": "stderr",
     "output_type": "stream",
     "text": [
      "\r",
      "  4%|▎         | 16/450 [00:22<09:49,  1.36s/it]"
     ]
    },
    {
     "name": "stderr",
     "output_type": "stream",
     "text": [
      "\r",
      "  4%|▍         | 17/450 [00:23<09:49,  1.36s/it]"
     ]
    },
    {
     "name": "stderr",
     "output_type": "stream",
     "text": [
      "\r",
      "  4%|▍         | 18/450 [00:24<09:47,  1.36s/it]"
     ]
    },
    {
     "name": "stderr",
     "output_type": "stream",
     "text": [
      "\r",
      "  4%|▍         | 19/450 [00:26<09:46,  1.36s/it]"
     ]
    },
    {
     "name": "stderr",
     "output_type": "stream",
     "text": [
      "\r",
      "  4%|▍         | 20/450 [00:27<09:45,  1.36s/it]"
     ]
    },
    {
     "name": "stderr",
     "output_type": "stream",
     "text": [
      "\r",
      "  5%|▍         | 21/450 [00:28<09:41,  1.36s/it]"
     ]
    },
    {
     "name": "stderr",
     "output_type": "stream",
     "text": [
      "\r",
      "  5%|▍         | 22/450 [00:30<09:39,  1.35s/it]"
     ]
    },
    {
     "name": "stderr",
     "output_type": "stream",
     "text": [
      "\r",
      "  5%|▌         | 23/450 [00:31<09:50,  1.38s/it]"
     ]
    },
    {
     "name": "stderr",
     "output_type": "stream",
     "text": [
      "\r",
      "  5%|▌         | 24/450 [00:33<09:46,  1.38s/it]"
     ]
    },
    {
     "name": "stderr",
     "output_type": "stream",
     "text": [
      "\r",
      "  6%|▌         | 25/450 [00:34<09:43,  1.37s/it]"
     ]
    },
    {
     "name": "stderr",
     "output_type": "stream",
     "text": [
      "\r",
      "  6%|▌         | 26/450 [00:35<09:22,  1.33s/it]"
     ]
    },
    {
     "name": "stderr",
     "output_type": "stream",
     "text": [
      "\r",
      "  6%|▌         | 27/450 [00:36<09:07,  1.30s/it]"
     ]
    },
    {
     "name": "stderr",
     "output_type": "stream",
     "text": [
      "\r",
      "  6%|▌         | 28/450 [00:38<08:59,  1.28s/it]"
     ]
    },
    {
     "name": "stderr",
     "output_type": "stream",
     "text": [
      "\r",
      "  6%|▋         | 29/450 [00:39<08:50,  1.26s/it]"
     ]
    },
    {
     "name": "stderr",
     "output_type": "stream",
     "text": [
      "\r",
      "  7%|▋         | 30/450 [00:40<08:48,  1.26s/it]"
     ]
    },
    {
     "name": "stderr",
     "output_type": "stream",
     "text": [
      "\r",
      "  7%|▋         | 31/450 [00:41<08:55,  1.28s/it]"
     ]
    },
    {
     "name": "stderr",
     "output_type": "stream",
     "text": [
      "\r",
      "  7%|▋         | 32/450 [00:43<08:49,  1.27s/it]"
     ]
    },
    {
     "name": "stderr",
     "output_type": "stream",
     "text": [
      "\r",
      "  7%|▋         | 33/450 [00:44<08:43,  1.26s/it]"
     ]
    },
    {
     "name": "stderr",
     "output_type": "stream",
     "text": [
      "\r",
      "  8%|▊         | 34/450 [00:45<08:38,  1.25s/it]"
     ]
    },
    {
     "name": "stderr",
     "output_type": "stream",
     "text": [
      "\r",
      "  8%|▊         | 35/450 [00:46<08:48,  1.27s/it]"
     ]
    },
    {
     "name": "stderr",
     "output_type": "stream",
     "text": [
      "\r",
      "  8%|▊         | 36/450 [00:48<08:39,  1.26s/it]"
     ]
    },
    {
     "name": "stderr",
     "output_type": "stream",
     "text": [
      "\r",
      "  8%|▊         | 37/450 [00:49<08:33,  1.24s/it]"
     ]
    },
    {
     "name": "stderr",
     "output_type": "stream",
     "text": [
      "\r",
      "  8%|▊         | 38/450 [00:50<08:29,  1.24s/it]"
     ]
    },
    {
     "name": "stderr",
     "output_type": "stream",
     "text": [
      "\r",
      "  9%|▊         | 39/450 [00:51<08:25,  1.23s/it]"
     ]
    },
    {
     "name": "stderr",
     "output_type": "stream",
     "text": [
      "\r",
      "  9%|▉         | 40/450 [00:53<08:24,  1.23s/it]"
     ]
    },
    {
     "name": "stderr",
     "output_type": "stream",
     "text": [
      "\r",
      "  9%|▉         | 41/450 [00:54<08:22,  1.23s/it]"
     ]
    },
    {
     "name": "stderr",
     "output_type": "stream",
     "text": [
      "\r",
      "  9%|▉         | 42/450 [00:55<08:21,  1.23s/it]"
     ]
    },
    {
     "name": "stderr",
     "output_type": "stream",
     "text": [
      "\r",
      " 10%|▉         | 43/450 [00:56<08:19,  1.23s/it]"
     ]
    },
    {
     "name": "stderr",
     "output_type": "stream",
     "text": [
      "\r",
      " 10%|▉         | 44/450 [00:57<08:16,  1.22s/it]"
     ]
    },
    {
     "name": "stderr",
     "output_type": "stream",
     "text": [
      "\r",
      " 10%|█         | 45/450 [00:59<08:15,  1.22s/it]"
     ]
    },
    {
     "name": "stderr",
     "output_type": "stream",
     "text": [
      "\r",
      " 10%|█         | 46/450 [01:00<08:51,  1.32s/it]"
     ]
    },
    {
     "name": "stderr",
     "output_type": "stream",
     "text": [
      "\r",
      " 10%|█         | 47/450 [01:02<09:16,  1.38s/it]"
     ]
    },
    {
     "name": "stderr",
     "output_type": "stream",
     "text": [
      "\r",
      " 11%|█         | 48/450 [01:03<09:33,  1.43s/it]"
     ]
    },
    {
     "name": "stderr",
     "output_type": "stream",
     "text": [
      "\r",
      " 11%|█         | 49/450 [01:05<09:44,  1.46s/it]"
     ]
    },
    {
     "name": "stderr",
     "output_type": "stream",
     "text": [
      "\r",
      " 11%|█         | 50/450 [01:06<09:51,  1.48s/it]"
     ]
    },
    {
     "name": "stderr",
     "output_type": "stream",
     "text": [
      "\r",
      " 11%|█▏        | 51/450 [01:08<09:58,  1.50s/it]"
     ]
    },
    {
     "name": "stderr",
     "output_type": "stream",
     "text": [
      "\r",
      " 12%|█▏        | 52/450 [01:09<10:01,  1.51s/it]"
     ]
    },
    {
     "name": "stderr",
     "output_type": "stream",
     "text": [
      "\r",
      " 12%|█▏        | 53/450 [01:11<10:01,  1.52s/it]"
     ]
    },
    {
     "name": "stderr",
     "output_type": "stream",
     "text": [
      "\r",
      " 12%|█▏        | 54/450 [01:12<10:04,  1.53s/it]"
     ]
    },
    {
     "name": "stderr",
     "output_type": "stream",
     "text": [
      "\r",
      " 12%|█▏        | 55/450 [01:14<10:04,  1.53s/it]"
     ]
    },
    {
     "name": "stderr",
     "output_type": "stream",
     "text": [
      "\r",
      " 12%|█▏        | 56/450 [01:15<09:54,  1.51s/it]"
     ]
    },
    {
     "name": "stderr",
     "output_type": "stream",
     "text": [
      "\r",
      " 13%|█▎        | 57/450 [01:17<09:47,  1.49s/it]"
     ]
    },
    {
     "name": "stderr",
     "output_type": "stream",
     "text": [
      "\r",
      " 13%|█▎        | 58/450 [01:18<09:42,  1.49s/it]"
     ]
    },
    {
     "name": "stderr",
     "output_type": "stream",
     "text": [
      "\r",
      " 13%|█▎        | 59/450 [01:20<09:38,  1.48s/it]"
     ]
    },
    {
     "name": "stderr",
     "output_type": "stream",
     "text": [
      "\r",
      " 13%|█▎        | 60/450 [01:21<09:33,  1.47s/it]"
     ]
    },
    {
     "name": "stderr",
     "output_type": "stream",
     "text": [
      "\r",
      " 14%|█▎        | 61/450 [01:23<09:23,  1.45s/it]"
     ]
    },
    {
     "name": "stderr",
     "output_type": "stream",
     "text": [
      "\r",
      " 14%|█▍        | 62/450 [01:24<09:16,  1.43s/it]"
     ]
    },
    {
     "name": "stderr",
     "output_type": "stream",
     "text": [
      "\r",
      " 14%|█▍        | 63/450 [01:26<09:17,  1.44s/it]"
     ]
    },
    {
     "name": "stderr",
     "output_type": "stream",
     "text": [
      "\r",
      " 14%|█▍        | 64/450 [01:27<09:10,  1.43s/it]"
     ]
    },
    {
     "name": "stderr",
     "output_type": "stream",
     "text": [
      "\r",
      " 14%|█▍        | 65/450 [01:28<09:03,  1.41s/it]"
     ]
    },
    {
     "name": "stderr",
     "output_type": "stream",
     "text": [
      "\r",
      " 15%|█▍        | 66/450 [01:30<09:07,  1.43s/it]"
     ]
    },
    {
     "name": "stderr",
     "output_type": "stream",
     "text": [
      "\r",
      " 15%|█▍        | 67/450 [01:31<09:08,  1.43s/it]"
     ]
    },
    {
     "name": "stderr",
     "output_type": "stream",
     "text": [
      "\r",
      " 15%|█▌        | 68/450 [01:33<09:10,  1.44s/it]"
     ]
    },
    {
     "name": "stderr",
     "output_type": "stream",
     "text": [
      "\r",
      " 15%|█▌        | 69/450 [01:34<09:02,  1.42s/it]"
     ]
    },
    {
     "name": "stderr",
     "output_type": "stream",
     "text": [
      "\r",
      " 16%|█▌        | 70/450 [01:35<08:57,  1.41s/it]"
     ]
    },
    {
     "name": "stderr",
     "output_type": "stream",
     "text": [
      "\r",
      " 16%|█▌        | 71/450 [01:37<08:45,  1.39s/it]"
     ]
    },
    {
     "name": "stderr",
     "output_type": "stream",
     "text": [
      "\r",
      " 16%|█▌        | 72/450 [01:38<08:37,  1.37s/it]"
     ]
    },
    {
     "name": "stderr",
     "output_type": "stream",
     "text": [
      "\r",
      " 16%|█▌        | 73/450 [01:39<08:31,  1.36s/it]"
     ]
    },
    {
     "name": "stderr",
     "output_type": "stream",
     "text": [
      "\r",
      " 16%|█▋        | 74/450 [01:41<08:18,  1.32s/it]"
     ]
    },
    {
     "name": "stderr",
     "output_type": "stream",
     "text": [
      "\r",
      " 17%|█▋        | 75/450 [01:42<08:14,  1.32s/it]"
     ]
    },
    {
     "name": "stderr",
     "output_type": "stream",
     "text": [
      "\r",
      " 17%|█▋        | 76/450 [01:43<08:17,  1.33s/it]"
     ]
    },
    {
     "name": "stderr",
     "output_type": "stream",
     "text": [
      "\r",
      " 17%|█▋        | 77/450 [01:45<08:08,  1.31s/it]"
     ]
    },
    {
     "name": "stderr",
     "output_type": "stream",
     "text": [
      "\r",
      " 17%|█▋        | 78/450 [01:46<08:01,  1.29s/it]"
     ]
    },
    {
     "name": "stderr",
     "output_type": "stream",
     "text": [
      "\r",
      " 18%|█▊        | 79/450 [01:47<08:02,  1.30s/it]"
     ]
    },
    {
     "name": "stderr",
     "output_type": "stream",
     "text": [
      "\r",
      " 18%|█▊        | 80/450 [01:48<07:53,  1.28s/it]"
     ]
    },
    {
     "name": "stderr",
     "output_type": "stream",
     "text": [
      "\r",
      " 18%|█▊        | 81/450 [01:50<08:11,  1.33s/it]"
     ]
    },
    {
     "name": "stderr",
     "output_type": "stream",
     "text": [
      "\r",
      " 18%|█▊        | 82/450 [01:51<08:20,  1.36s/it]"
     ]
    },
    {
     "name": "stderr",
     "output_type": "stream",
     "text": [
      "\r",
      " 18%|█▊        | 83/450 [01:53<08:12,  1.34s/it]"
     ]
    },
    {
     "name": "stderr",
     "output_type": "stream",
     "text": [
      "\r",
      " 19%|█▊        | 84/450 [01:54<08:14,  1.35s/it]"
     ]
    },
    {
     "name": "stderr",
     "output_type": "stream",
     "text": [
      "\r",
      " 19%|█▉        | 85/450 [01:55<08:13,  1.35s/it]"
     ]
    },
    {
     "name": "stderr",
     "output_type": "stream",
     "text": [
      "\r",
      " 19%|█▉        | 86/450 [01:57<08:09,  1.34s/it]"
     ]
    },
    {
     "name": "stderr",
     "output_type": "stream",
     "text": [
      "\r",
      " 19%|█▉        | 87/450 [01:58<08:13,  1.36s/it]"
     ]
    },
    {
     "name": "stderr",
     "output_type": "stream",
     "text": [
      "\r",
      " 20%|█▉        | 88/450 [01:59<08:08,  1.35s/it]"
     ]
    },
    {
     "name": "stderr",
     "output_type": "stream",
     "text": [
      "\r",
      " 20%|█▉        | 89/450 [02:01<08:06,  1.35s/it]"
     ]
    },
    {
     "name": "stderr",
     "output_type": "stream",
     "text": [
      "\r",
      " 20%|██        | 90/450 [02:02<07:59,  1.33s/it]"
     ]
    },
    {
     "name": "stderr",
     "output_type": "stream",
     "text": [
      "\r",
      " 20%|██        | 91/450 [02:04<08:22,  1.40s/it]"
     ]
    },
    {
     "name": "stderr",
     "output_type": "stream",
     "text": [
      "\r",
      " 20%|██        | 92/450 [02:05<08:38,  1.45s/it]"
     ]
    },
    {
     "name": "stderr",
     "output_type": "stream",
     "text": [
      "\r",
      " 21%|██        | 93/450 [02:07<08:49,  1.48s/it]"
     ]
    },
    {
     "name": "stderr",
     "output_type": "stream",
     "text": [
      "\r",
      " 21%|██        | 94/450 [02:08<08:56,  1.51s/it]"
     ]
    },
    {
     "name": "stderr",
     "output_type": "stream",
     "text": [
      "\r",
      " 21%|██        | 95/450 [02:10<09:00,  1.52s/it]"
     ]
    },
    {
     "name": "stderr",
     "output_type": "stream",
     "text": [
      "\r",
      " 21%|██▏       | 96/450 [02:11<09:06,  1.54s/it]"
     ]
    },
    {
     "name": "stderr",
     "output_type": "stream",
     "text": [
      "\r",
      " 22%|██▏       | 97/450 [02:13<09:10,  1.56s/it]"
     ]
    },
    {
     "name": "stderr",
     "output_type": "stream",
     "text": [
      "\r",
      " 22%|██▏       | 98/450 [02:15<09:10,  1.56s/it]"
     ]
    },
    {
     "name": "stderr",
     "output_type": "stream",
     "text": [
      "\r",
      " 22%|██▏       | 99/450 [02:16<09:11,  1.57s/it]"
     ]
    },
    {
     "name": "stderr",
     "output_type": "stream",
     "text": [
      "\r",
      " 22%|██▏       | 100/450 [02:18<09:10,  1.57s/it]"
     ]
    },
    {
     "name": "stderr",
     "output_type": "stream",
     "text": [
      "\r",
      " 22%|██▏       | 101/450 [02:19<09:04,  1.56s/it]"
     ]
    },
    {
     "name": "stderr",
     "output_type": "stream",
     "text": [
      "\r",
      " 23%|██▎       | 102/450 [02:21<09:01,  1.56s/it]"
     ]
    },
    {
     "name": "stderr",
     "output_type": "stream",
     "text": [
      "\r",
      " 23%|██▎       | 103/450 [02:22<08:58,  1.55s/it]"
     ]
    },
    {
     "name": "stderr",
     "output_type": "stream",
     "text": [
      "\r",
      " 23%|██▎       | 104/450 [02:24<08:57,  1.55s/it]"
     ]
    },
    {
     "name": "stderr",
     "output_type": "stream",
     "text": [
      "\r",
      " 23%|██▎       | 105/450 [02:25<08:54,  1.55s/it]"
     ]
    },
    {
     "name": "stderr",
     "output_type": "stream",
     "text": [
      "\r",
      " 24%|██▎       | 106/450 [02:27<08:45,  1.53s/it]"
     ]
    },
    {
     "name": "stderr",
     "output_type": "stream",
     "text": [
      "\r",
      " 24%|██▍       | 107/450 [02:28<08:43,  1.52s/it]"
     ]
    },
    {
     "name": "stderr",
     "output_type": "stream",
     "text": [
      "\r",
      " 24%|██▍       | 108/450 [02:30<08:37,  1.51s/it]"
     ]
    },
    {
     "name": "stderr",
     "output_type": "stream",
     "text": [
      "\r",
      " 24%|██▍       | 109/450 [02:31<08:32,  1.50s/it]"
     ]
    },
    {
     "name": "stderr",
     "output_type": "stream",
     "text": [
      "\r",
      " 24%|██▍       | 110/450 [02:33<08:27,  1.49s/it]"
     ]
    },
    {
     "name": "stderr",
     "output_type": "stream",
     "text": [
      "\r",
      " 25%|██▍       | 111/450 [02:34<08:25,  1.49s/it]"
     ]
    },
    {
     "name": "stderr",
     "output_type": "stream",
     "text": [
      "\r",
      " 25%|██▍       | 112/450 [02:36<08:25,  1.49s/it]"
     ]
    },
    {
     "name": "stderr",
     "output_type": "stream",
     "text": [
      "\r",
      " 25%|██▌       | 113/450 [02:37<08:22,  1.49s/it]"
     ]
    },
    {
     "name": "stderr",
     "output_type": "stream",
     "text": [
      "\r",
      " 25%|██▌       | 114/450 [02:39<08:20,  1.49s/it]"
     ]
    },
    {
     "name": "stderr",
     "output_type": "stream",
     "text": [
      "\r",
      " 26%|██▌       | 115/450 [02:40<08:18,  1.49s/it]"
     ]
    },
    {
     "name": "stderr",
     "output_type": "stream",
     "text": [
      "\r",
      " 26%|██▌       | 116/450 [02:42<07:59,  1.44s/it]"
     ]
    },
    {
     "name": "stderr",
     "output_type": "stream",
     "text": [
      "\r",
      " 26%|██▌       | 117/450 [02:43<07:58,  1.44s/it]"
     ]
    },
    {
     "name": "stderr",
     "output_type": "stream",
     "text": [
      "\r",
      " 26%|██▌       | 118/450 [02:44<07:45,  1.40s/it]"
     ]
    },
    {
     "name": "stderr",
     "output_type": "stream",
     "text": [
      "\r",
      " 26%|██▋       | 119/450 [02:46<07:44,  1.40s/it]"
     ]
    },
    {
     "name": "stderr",
     "output_type": "stream",
     "text": [
      "\r",
      " 27%|██▋       | 120/450 [02:47<07:45,  1.41s/it]"
     ]
    },
    {
     "name": "stderr",
     "output_type": "stream",
     "text": [
      "\r",
      " 27%|██▋       | 121/450 [02:49<07:41,  1.40s/it]"
     ]
    },
    {
     "name": "stderr",
     "output_type": "stream",
     "text": [
      "\r",
      " 27%|██▋       | 122/450 [02:50<07:33,  1.38s/it]"
     ]
    },
    {
     "name": "stderr",
     "output_type": "stream",
     "text": [
      "\r",
      " 27%|██▋       | 123/450 [02:51<07:25,  1.36s/it]"
     ]
    },
    {
     "name": "stderr",
     "output_type": "stream",
     "text": [
      "\r",
      " 28%|██▊       | 124/450 [02:53<07:19,  1.35s/it]"
     ]
    },
    {
     "name": "stderr",
     "output_type": "stream",
     "text": [
      "\r",
      " 28%|██▊       | 125/450 [02:54<07:21,  1.36s/it]"
     ]
    },
    {
     "name": "stderr",
     "output_type": "stream",
     "text": [
      "\r",
      " 28%|██▊       | 126/450 [02:56<07:37,  1.41s/it]"
     ]
    },
    {
     "name": "stderr",
     "output_type": "stream",
     "text": [
      "\r",
      " 28%|██▊       | 127/450 [02:57<07:26,  1.38s/it]"
     ]
    },
    {
     "name": "stderr",
     "output_type": "stream",
     "text": [
      "\r",
      " 28%|██▊       | 128/450 [02:58<07:30,  1.40s/it]"
     ]
    },
    {
     "name": "stderr",
     "output_type": "stream",
     "text": [
      "\r",
      " 29%|██▊       | 129/450 [03:00<07:27,  1.39s/it]"
     ]
    },
    {
     "name": "stderr",
     "output_type": "stream",
     "text": [
      "\r",
      " 29%|██▉       | 130/450 [03:01<07:19,  1.37s/it]"
     ]
    },
    {
     "name": "stderr",
     "output_type": "stream",
     "text": [
      "\r",
      " 29%|██▉       | 131/450 [03:02<07:17,  1.37s/it]"
     ]
    },
    {
     "name": "stderr",
     "output_type": "stream",
     "text": [
      "\r",
      " 29%|██▉       | 132/450 [03:04<07:16,  1.37s/it]"
     ]
    },
    {
     "name": "stderr",
     "output_type": "stream",
     "text": [
      "\r",
      " 30%|██▉       | 133/450 [03:05<07:21,  1.39s/it]"
     ]
    },
    {
     "name": "stderr",
     "output_type": "stream",
     "text": [
      "\r",
      " 30%|██▉       | 134/450 [03:07<07:19,  1.39s/it]"
     ]
    },
    {
     "name": "stderr",
     "output_type": "stream",
     "text": [
      "\r",
      " 30%|███       | 135/450 [03:08<07:18,  1.39s/it]"
     ]
    },
    {
     "name": "stderr",
     "output_type": "stream",
     "text": [
      "\r",
      " 30%|███       | 136/450 [03:10<07:38,  1.46s/it]"
     ]
    },
    {
     "name": "stderr",
     "output_type": "stream",
     "text": [
      "\r",
      " 30%|███       | 137/450 [03:11<07:51,  1.51s/it]"
     ]
    },
    {
     "name": "stderr",
     "output_type": "stream",
     "text": [
      "\r",
      " 31%|███       | 138/450 [03:13<08:00,  1.54s/it]"
     ]
    },
    {
     "name": "stderr",
     "output_type": "stream",
     "text": [
      "\r",
      " 31%|███       | 139/450 [03:14<08:06,  1.56s/it]"
     ]
    },
    {
     "name": "stderr",
     "output_type": "stream",
     "text": [
      "\r",
      " 31%|███       | 140/450 [03:16<08:10,  1.58s/it]"
     ]
    },
    {
     "name": "stderr",
     "output_type": "stream",
     "text": [
      "\r",
      " 31%|███▏      | 141/450 [03:18<08:15,  1.60s/it]"
     ]
    },
    {
     "name": "stderr",
     "output_type": "stream",
     "text": [
      "\r",
      " 32%|███▏      | 142/450 [03:19<08:16,  1.61s/it]"
     ]
    },
    {
     "name": "stderr",
     "output_type": "stream",
     "text": [
      "\r",
      " 32%|███▏      | 143/450 [03:21<08:19,  1.63s/it]"
     ]
    },
    {
     "name": "stderr",
     "output_type": "stream",
     "text": [
      "\r",
      " 32%|███▏      | 144/450 [03:23<08:20,  1.64s/it]"
     ]
    },
    {
     "name": "stderr",
     "output_type": "stream",
     "text": [
      "\r",
      " 32%|███▏      | 145/450 [03:24<08:17,  1.63s/it]"
     ]
    },
    {
     "name": "stderr",
     "output_type": "stream",
     "text": [
      "\r",
      " 32%|███▏      | 146/450 [03:26<08:10,  1.61s/it]"
     ]
    },
    {
     "name": "stderr",
     "output_type": "stream",
     "text": [
      "\r",
      " 33%|███▎      | 147/450 [03:27<08:05,  1.60s/it]"
     ]
    },
    {
     "name": "stderr",
     "output_type": "stream",
     "text": [
      "\r",
      " 33%|███▎      | 148/450 [03:29<08:02,  1.60s/it]"
     ]
    },
    {
     "name": "stderr",
     "output_type": "stream",
     "text": [
      "\r",
      " 33%|███▎      | 149/450 [03:31<08:00,  1.60s/it]"
     ]
    },
    {
     "name": "stderr",
     "output_type": "stream",
     "text": [
      "\r",
      " 33%|███▎      | 150/450 [03:32<07:57,  1.59s/it]"
     ]
    },
    {
     "name": "stderr",
     "output_type": "stream",
     "text": [
      "\r",
      " 34%|███▎      | 151/450 [03:34<07:54,  1.59s/it]"
     ]
    },
    {
     "name": "stderr",
     "output_type": "stream",
     "text": [
      "\r",
      " 34%|███▍      | 152/450 [03:35<07:49,  1.58s/it]"
     ]
    },
    {
     "name": "stderr",
     "output_type": "stream",
     "text": [
      "\r",
      " 34%|███▍      | 153/450 [03:37<07:48,  1.58s/it]"
     ]
    },
    {
     "name": "stderr",
     "output_type": "stream",
     "text": [
      "\r",
      " 34%|███▍      | 154/450 [03:38<07:45,  1.57s/it]"
     ]
    },
    {
     "name": "stderr",
     "output_type": "stream",
     "text": [
      "\r",
      " 34%|███▍      | 155/450 [03:40<07:40,  1.56s/it]"
     ]
    },
    {
     "name": "stderr",
     "output_type": "stream",
     "text": [
      "\r",
      " 35%|███▍      | 156/450 [03:42<07:41,  1.57s/it]"
     ]
    },
    {
     "name": "stderr",
     "output_type": "stream",
     "text": [
      "\r",
      " 35%|███▍      | 157/450 [03:43<07:38,  1.56s/it]"
     ]
    },
    {
     "name": "stderr",
     "output_type": "stream",
     "text": [
      "\r",
      " 35%|███▌      | 158/450 [03:45<07:32,  1.55s/it]"
     ]
    },
    {
     "name": "stderr",
     "output_type": "stream",
     "text": [
      "\r",
      " 35%|███▌      | 159/450 [03:46<07:38,  1.58s/it]"
     ]
    },
    {
     "name": "stderr",
     "output_type": "stream",
     "text": [
      "\r",
      " 36%|███▌      | 160/450 [03:48<07:32,  1.56s/it]"
     ]
    },
    {
     "name": "stderr",
     "output_type": "stream",
     "text": [
      "\r",
      " 36%|███▌      | 161/450 [03:49<07:26,  1.54s/it]"
     ]
    },
    {
     "name": "stderr",
     "output_type": "stream",
     "text": [
      "\r",
      " 36%|███▌      | 162/450 [03:51<07:10,  1.50s/it]"
     ]
    },
    {
     "name": "stderr",
     "output_type": "stream",
     "text": [
      "\r",
      " 36%|███▌      | 163/450 [03:52<07:03,  1.47s/it]"
     ]
    },
    {
     "name": "stderr",
     "output_type": "stream",
     "text": [
      "\r",
      " 36%|███▋      | 164/450 [03:53<06:48,  1.43s/it]"
     ]
    },
    {
     "name": "stderr",
     "output_type": "stream",
     "text": [
      "\r",
      " 37%|███▋      | 165/450 [03:55<06:50,  1.44s/it]"
     ]
    },
    {
     "name": "stderr",
     "output_type": "stream",
     "text": [
      "\r",
      " 37%|███▋      | 166/450 [03:56<06:44,  1.42s/it]"
     ]
    },
    {
     "name": "stderr",
     "output_type": "stream",
     "text": [
      "\r",
      " 37%|███▋      | 167/450 [03:58<06:45,  1.43s/it]"
     ]
    },
    {
     "name": "stderr",
     "output_type": "stream",
     "text": [
      "\r",
      " 37%|███▋      | 168/450 [03:59<06:44,  1.43s/it]"
     ]
    },
    {
     "name": "stderr",
     "output_type": "stream",
     "text": [
      "\r",
      " 38%|███▊      | 169/450 [04:01<06:45,  1.44s/it]"
     ]
    },
    {
     "name": "stderr",
     "output_type": "stream",
     "text": [
      "\r",
      " 38%|███▊      | 170/450 [04:02<06:48,  1.46s/it]"
     ]
    },
    {
     "name": "stderr",
     "output_type": "stream",
     "text": [
      "\r",
      " 38%|███▊      | 171/450 [04:04<06:46,  1.46s/it]"
     ]
    },
    {
     "name": "stderr",
     "output_type": "stream",
     "text": [
      "\r",
      " 38%|███▊      | 172/450 [04:05<06:42,  1.45s/it]"
     ]
    },
    {
     "name": "stderr",
     "output_type": "stream",
     "text": [
      "\r",
      " 38%|███▊      | 173/450 [04:06<06:41,  1.45s/it]"
     ]
    },
    {
     "name": "stderr",
     "output_type": "stream",
     "text": [
      "\r",
      " 39%|███▊      | 174/450 [04:08<06:42,  1.46s/it]"
     ]
    },
    {
     "name": "stderr",
     "output_type": "stream",
     "text": [
      "\r",
      " 39%|███▉      | 175/450 [04:09<06:38,  1.45s/it]"
     ]
    },
    {
     "name": "stderr",
     "output_type": "stream",
     "text": [
      "\r",
      " 39%|███▉      | 176/450 [04:11<06:37,  1.45s/it]"
     ]
    },
    {
     "name": "stderr",
     "output_type": "stream",
     "text": [
      "\r",
      " 39%|███▉      | 177/450 [04:12<06:30,  1.43s/it]"
     ]
    },
    {
     "name": "stderr",
     "output_type": "stream",
     "text": [
      "\r",
      " 40%|███▉      | 178/450 [04:14<06:33,  1.45s/it]"
     ]
    },
    {
     "name": "stderr",
     "output_type": "stream",
     "text": [
      "\r",
      " 40%|███▉      | 179/450 [04:15<06:33,  1.45s/it]"
     ]
    },
    {
     "name": "stderr",
     "output_type": "stream",
     "text": [
      "\r",
      " 40%|████      | 180/450 [04:17<06:34,  1.46s/it]"
     ]
    },
    {
     "name": "stderr",
     "output_type": "stream",
     "text": [
      "\r",
      " 40%|████      | 181/450 [04:18<06:47,  1.52s/it]"
     ]
    },
    {
     "name": "stderr",
     "output_type": "stream",
     "text": [
      "\r",
      " 40%|████      | 182/450 [04:20<06:56,  1.55s/it]"
     ]
    },
    {
     "name": "stderr",
     "output_type": "stream",
     "text": [
      "\r",
      " 41%|████      | 183/450 [04:22<07:02,  1.58s/it]"
     ]
    },
    {
     "name": "stderr",
     "output_type": "stream",
     "text": [
      "\r",
      " 41%|████      | 184/450 [04:23<07:06,  1.60s/it]"
     ]
    },
    {
     "name": "stderr",
     "output_type": "stream",
     "text": [
      "\r",
      " 41%|████      | 185/450 [04:25<07:07,  1.61s/it]"
     ]
    },
    {
     "name": "stderr",
     "output_type": "stream",
     "text": [
      "\r",
      " 41%|████▏     | 186/450 [04:27<07:13,  1.64s/it]"
     ]
    },
    {
     "name": "stderr",
     "output_type": "stream",
     "text": [
      "\r",
      " 42%|████▏     | 187/450 [04:28<07:18,  1.67s/it]"
     ]
    },
    {
     "name": "stderr",
     "output_type": "stream",
     "text": [
      "\r",
      " 42%|████▏     | 188/450 [04:30<07:18,  1.67s/it]"
     ]
    },
    {
     "name": "stderr",
     "output_type": "stream",
     "text": [
      "\r",
      " 42%|████▏     | 189/450 [04:32<07:19,  1.69s/it]"
     ]
    },
    {
     "name": "stderr",
     "output_type": "stream",
     "text": [
      "\r",
      " 42%|████▏     | 190/450 [04:33<07:21,  1.70s/it]"
     ]
    },
    {
     "name": "stderr",
     "output_type": "stream",
     "text": [
      "\r",
      " 42%|████▏     | 191/450 [04:35<07:14,  1.68s/it]"
     ]
    },
    {
     "name": "stderr",
     "output_type": "stream",
     "text": [
      "\r",
      " 43%|████▎     | 192/450 [04:37<07:08,  1.66s/it]"
     ]
    },
    {
     "name": "stderr",
     "output_type": "stream",
     "text": [
      "\r",
      " 43%|████▎     | 193/450 [04:38<07:04,  1.65s/it]"
     ]
    },
    {
     "name": "stderr",
     "output_type": "stream",
     "text": [
      "\r",
      " 43%|████▎     | 194/450 [04:40<07:02,  1.65s/it]"
     ]
    },
    {
     "name": "stderr",
     "output_type": "stream",
     "text": [
      "\r",
      " 43%|████▎     | 195/450 [04:42<07:00,  1.65s/it]"
     ]
    },
    {
     "name": "stderr",
     "output_type": "stream",
     "text": [
      "\r",
      " 44%|████▎     | 196/450 [04:43<07:00,  1.66s/it]"
     ]
    },
    {
     "name": "stderr",
     "output_type": "stream",
     "text": [
      "\r",
      " 44%|████▍     | 197/450 [04:45<06:51,  1.62s/it]"
     ]
    },
    {
     "name": "stderr",
     "output_type": "stream",
     "text": [
      "\r",
      " 44%|████▍     | 198/450 [04:47<06:52,  1.64s/it]"
     ]
    },
    {
     "name": "stderr",
     "output_type": "stream",
     "text": [
      "\r",
      " 44%|████▍     | 199/450 [04:48<06:56,  1.66s/it]"
     ]
    },
    {
     "name": "stderr",
     "output_type": "stream",
     "text": [
      "\r",
      " 44%|████▍     | 200/450 [04:50<06:58,  1.68s/it]"
     ]
    },
    {
     "name": "stderr",
     "output_type": "stream",
     "text": [
      "\r",
      " 45%|████▍     | 201/450 [04:52<06:54,  1.66s/it]"
     ]
    },
    {
     "name": "stderr",
     "output_type": "stream",
     "text": [
      "\r",
      " 45%|████▍     | 202/450 [04:53<06:42,  1.62s/it]"
     ]
    },
    {
     "name": "stderr",
     "output_type": "stream",
     "text": [
      "\r",
      " 45%|████▌     | 203/450 [04:55<06:41,  1.63s/it]"
     ]
    },
    {
     "name": "stderr",
     "output_type": "stream",
     "text": [
      "\r",
      " 45%|████▌     | 204/450 [04:56<06:39,  1.62s/it]"
     ]
    },
    {
     "name": "stderr",
     "output_type": "stream",
     "text": [
      "\r",
      " 46%|████▌     | 205/450 [04:58<06:41,  1.64s/it]"
     ]
    },
    {
     "name": "stderr",
     "output_type": "stream",
     "text": [
      "\r",
      " 46%|████▌     | 206/450 [05:00<06:34,  1.62s/it]"
     ]
    },
    {
     "name": "stderr",
     "output_type": "stream",
     "text": [
      "\r",
      " 46%|████▌     | 207/450 [05:01<06:25,  1.59s/it]"
     ]
    },
    {
     "name": "stderr",
     "output_type": "stream",
     "text": [
      "\r",
      " 46%|████▌     | 208/450 [05:03<06:18,  1.56s/it]"
     ]
    },
    {
     "name": "stderr",
     "output_type": "stream",
     "text": [
      "\r",
      " 46%|████▋     | 209/450 [05:04<06:16,  1.56s/it]"
     ]
    },
    {
     "name": "stderr",
     "output_type": "stream",
     "text": [
      "\r",
      " 47%|████▋     | 210/450 [05:06<06:11,  1.55s/it]"
     ]
    },
    {
     "name": "stderr",
     "output_type": "stream",
     "text": [
      "\r",
      " 47%|████▋     | 211/450 [05:07<06:07,  1.54s/it]"
     ]
    },
    {
     "name": "stderr",
     "output_type": "stream",
     "text": [
      "\r",
      " 47%|████▋     | 212/450 [05:09<05:59,  1.51s/it]"
     ]
    },
    {
     "name": "stderr",
     "output_type": "stream",
     "text": [
      "\r",
      " 47%|████▋     | 213/450 [05:10<05:57,  1.51s/it]"
     ]
    },
    {
     "name": "stderr",
     "output_type": "stream",
     "text": [
      "\r",
      " 48%|████▊     | 214/450 [05:12<05:55,  1.50s/it]"
     ]
    },
    {
     "name": "stderr",
     "output_type": "stream",
     "text": [
      "\r",
      " 48%|████▊     | 215/450 [05:13<05:50,  1.49s/it]"
     ]
    },
    {
     "name": "stderr",
     "output_type": "stream",
     "text": [
      "\r",
      " 48%|████▊     | 216/450 [05:15<05:46,  1.48s/it]"
     ]
    },
    {
     "name": "stderr",
     "output_type": "stream",
     "text": [
      "\r",
      " 48%|████▊     | 217/450 [05:16<05:46,  1.49s/it]"
     ]
    },
    {
     "name": "stderr",
     "output_type": "stream",
     "text": [
      "\r",
      " 48%|████▊     | 218/450 [05:18<05:44,  1.49s/it]"
     ]
    },
    {
     "name": "stderr",
     "output_type": "stream",
     "text": [
      "\r",
      " 49%|████▊     | 219/450 [05:19<05:39,  1.47s/it]"
     ]
    },
    {
     "name": "stderr",
     "output_type": "stream",
     "text": [
      "\r",
      " 49%|████▉     | 220/450 [05:20<05:40,  1.48s/it]"
     ]
    },
    {
     "name": "stderr",
     "output_type": "stream",
     "text": [
      "\r",
      " 49%|████▉     | 221/450 [05:22<05:37,  1.48s/it]"
     ]
    },
    {
     "name": "stderr",
     "output_type": "stream",
     "text": [
      "\r",
      " 49%|████▉     | 222/450 [05:24<05:43,  1.51s/it]"
     ]
    },
    {
     "name": "stderr",
     "output_type": "stream",
     "text": [
      "\r",
      " 50%|████▉     | 223/450 [05:25<05:37,  1.49s/it]"
     ]
    },
    {
     "name": "stderr",
     "output_type": "stream",
     "text": [
      "\r",
      " 50%|████▉     | 224/450 [05:27<05:40,  1.51s/it]"
     ]
    },
    {
     "name": "stderr",
     "output_type": "stream",
     "text": [
      "\r",
      " 50%|█████     | 225/450 [05:28<05:40,  1.51s/it]"
     ]
    },
    {
     "name": "stderr",
     "output_type": "stream",
     "text": [
      "\r",
      " 50%|█████     | 226/450 [05:30<06:27,  1.73s/it]"
     ]
    },
    {
     "name": "stderr",
     "output_type": "stream",
     "text": [
      "\r",
      " 50%|█████     | 227/450 [05:33<07:03,  1.90s/it]"
     ]
    },
    {
     "name": "stderr",
     "output_type": "stream",
     "text": [
      "\r",
      " 51%|█████     | 228/450 [05:35<07:23,  2.00s/it]"
     ]
    },
    {
     "name": "stderr",
     "output_type": "stream",
     "text": [
      "\r",
      " 51%|█████     | 229/450 [05:37<07:40,  2.08s/it]"
     ]
    },
    {
     "name": "stderr",
     "output_type": "stream",
     "text": [
      "\r",
      " 51%|█████     | 230/450 [05:39<07:47,  2.13s/it]"
     ]
    },
    {
     "name": "stderr",
     "output_type": "stream",
     "text": [
      "\r",
      " 51%|█████▏    | 231/450 [05:42<07:53,  2.16s/it]"
     ]
    },
    {
     "name": "stderr",
     "output_type": "stream",
     "text": [
      "\r",
      " 52%|█████▏    | 232/450 [05:44<08:00,  2.20s/it]"
     ]
    },
    {
     "name": "stderr",
     "output_type": "stream",
     "text": [
      "\r",
      " 52%|█████▏    | 233/450 [05:46<08:05,  2.24s/it]"
     ]
    },
    {
     "name": "stderr",
     "output_type": "stream",
     "text": [
      "\r",
      " 52%|█████▏    | 234/450 [05:48<08:07,  2.26s/it]"
     ]
    },
    {
     "name": "stderr",
     "output_type": "stream",
     "text": [
      "\r",
      " 52%|█████▏    | 235/450 [05:51<08:12,  2.29s/it]"
     ]
    },
    {
     "name": "stderr",
     "output_type": "stream",
     "text": [
      "\r",
      " 52%|█████▏    | 236/450 [05:53<08:08,  2.28s/it]"
     ]
    },
    {
     "name": "stderr",
     "output_type": "stream",
     "text": [
      "\r",
      " 53%|█████▎    | 237/450 [05:55<08:04,  2.27s/it]"
     ]
    },
    {
     "name": "stderr",
     "output_type": "stream",
     "text": [
      "\r",
      " 53%|█████▎    | 238/450 [05:58<07:58,  2.26s/it]"
     ]
    },
    {
     "name": "stderr",
     "output_type": "stream",
     "text": [
      "\r",
      " 53%|█████▎    | 239/450 [06:00<07:53,  2.24s/it]"
     ]
    },
    {
     "name": "stderr",
     "output_type": "stream",
     "text": [
      "\r",
      " 53%|█████▎    | 240/450 [06:02<07:48,  2.23s/it]"
     ]
    },
    {
     "name": "stderr",
     "output_type": "stream",
     "text": [
      "\r",
      " 54%|█████▎    | 241/450 [06:04<07:31,  2.16s/it]"
     ]
    },
    {
     "name": "stderr",
     "output_type": "stream",
     "text": [
      "\r",
      " 54%|█████▍    | 242/450 [06:06<07:28,  2.15s/it]"
     ]
    },
    {
     "name": "stderr",
     "output_type": "stream",
     "text": [
      "\r",
      " 54%|█████▍    | 243/450 [06:08<07:27,  2.16s/it]"
     ]
    },
    {
     "name": "stderr",
     "output_type": "stream",
     "text": [
      "\r",
      " 54%|█████▍    | 244/450 [06:10<07:19,  2.13s/it]"
     ]
    },
    {
     "name": "stderr",
     "output_type": "stream",
     "text": [
      "\r",
      " 54%|█████▍    | 245/450 [06:13<07:24,  2.17s/it]"
     ]
    },
    {
     "name": "stderr",
     "output_type": "stream",
     "text": [
      "\r",
      " 55%|█████▍    | 246/450 [06:15<07:05,  2.09s/it]"
     ]
    },
    {
     "name": "stderr",
     "output_type": "stream",
     "text": [
      "\r",
      " 55%|█████▍    | 247/450 [06:17<07:02,  2.08s/it]"
     ]
    },
    {
     "name": "stderr",
     "output_type": "stream",
     "text": [
      "\r",
      " 55%|█████▌    | 248/450 [06:19<07:00,  2.08s/it]"
     ]
    },
    {
     "name": "stderr",
     "output_type": "stream",
     "text": [
      "\r",
      " 55%|█████▌    | 249/450 [06:21<06:45,  2.02s/it]"
     ]
    },
    {
     "name": "stderr",
     "output_type": "stream",
     "text": [
      "\r",
      " 56%|█████▌    | 250/450 [06:23<06:44,  2.02s/it]"
     ]
    },
    {
     "name": "stderr",
     "output_type": "stream",
     "text": [
      "\r",
      " 56%|█████▌    | 251/450 [06:24<06:26,  1.94s/it]"
     ]
    },
    {
     "name": "stderr",
     "output_type": "stream",
     "text": [
      "\r",
      " 56%|█████▌    | 252/450 [06:26<06:19,  1.92s/it]"
     ]
    },
    {
     "name": "stderr",
     "output_type": "stream",
     "text": [
      "\r",
      " 56%|█████▌    | 253/450 [06:28<06:21,  1.94s/it]"
     ]
    },
    {
     "name": "stderr",
     "output_type": "stream",
     "text": [
      "\r",
      " 56%|█████▋    | 254/450 [06:30<06:20,  1.94s/it]"
     ]
    },
    {
     "name": "stderr",
     "output_type": "stream",
     "text": [
      "\r",
      " 57%|█████▋    | 255/450 [06:32<06:11,  1.90s/it]"
     ]
    },
    {
     "name": "stderr",
     "output_type": "stream",
     "text": [
      "\r",
      " 57%|█████▋    | 256/450 [06:34<06:08,  1.90s/it]"
     ]
    },
    {
     "name": "stderr",
     "output_type": "stream",
     "text": [
      "\r",
      " 57%|█████▋    | 257/450 [06:36<06:08,  1.91s/it]"
     ]
    },
    {
     "name": "stderr",
     "output_type": "stream",
     "text": [
      "\r",
      " 57%|█████▋    | 258/450 [06:38<06:06,  1.91s/it]"
     ]
    },
    {
     "name": "stderr",
     "output_type": "stream",
     "text": [
      "\r",
      " 58%|█████▊    | 259/450 [06:39<05:57,  1.87s/it]"
     ]
    },
    {
     "name": "stderr",
     "output_type": "stream",
     "text": [
      "\r",
      " 58%|█████▊    | 260/450 [06:41<05:45,  1.82s/it]"
     ]
    },
    {
     "name": "stderr",
     "output_type": "stream",
     "text": [
      "\r",
      " 58%|█████▊    | 261/450 [06:43<05:52,  1.86s/it]"
     ]
    },
    {
     "name": "stderr",
     "output_type": "stream",
     "text": [
      "\r",
      " 58%|█████▊    | 262/450 [06:45<05:50,  1.87s/it]"
     ]
    },
    {
     "name": "stderr",
     "output_type": "stream",
     "text": [
      "\r",
      " 58%|█████▊    | 263/450 [06:47<05:50,  1.87s/it]"
     ]
    },
    {
     "name": "stderr",
     "output_type": "stream",
     "text": [
      "\r",
      " 59%|█████▊    | 264/450 [06:49<05:47,  1.87s/it]"
     ]
    },
    {
     "name": "stderr",
     "output_type": "stream",
     "text": [
      "\r",
      " 59%|█████▉    | 265/450 [06:51<05:52,  1.90s/it]"
     ]
    },
    {
     "name": "stderr",
     "output_type": "stream",
     "text": [
      "\r",
      " 59%|█████▉    | 266/450 [06:53<05:50,  1.90s/it]"
     ]
    },
    {
     "name": "stderr",
     "output_type": "stream",
     "text": [
      "\r",
      " 59%|█████▉    | 267/450 [06:55<05:48,  1.90s/it]"
     ]
    },
    {
     "name": "stderr",
     "output_type": "stream",
     "text": [
      "\r",
      " 60%|█████▉    | 268/450 [06:56<05:33,  1.83s/it]"
     ]
    },
    {
     "name": "stderr",
     "output_type": "stream",
     "text": [
      "\r",
      " 60%|█████▉    | 269/450 [06:58<05:31,  1.83s/it]"
     ]
    },
    {
     "name": "stderr",
     "output_type": "stream",
     "text": [
      "\r",
      " 60%|██████    | 270/450 [07:00<05:35,  1.86s/it]"
     ]
    },
    {
     "name": "stderr",
     "output_type": "stream",
     "text": [
      "\r",
      " 60%|██████    | 271/450 [07:03<06:28,  2.17s/it]"
     ]
    },
    {
     "name": "stderr",
     "output_type": "stream",
     "text": [
      "\r",
      " 60%|██████    | 272/450 [07:06<07:01,  2.37s/it]"
     ]
    },
    {
     "name": "stderr",
     "output_type": "stream",
     "text": [
      "\r",
      " 61%|██████    | 273/450 [07:09<07:23,  2.50s/it]"
     ]
    },
    {
     "name": "stderr",
     "output_type": "stream",
     "text": [
      "\r",
      " 61%|██████    | 274/450 [07:11<07:39,  2.61s/it]"
     ]
    },
    {
     "name": "stderr",
     "output_type": "stream",
     "text": [
      "\r",
      " 61%|██████    | 275/450 [07:14<07:51,  2.70s/it]"
     ]
    },
    {
     "name": "stderr",
     "output_type": "stream",
     "text": [
      "\r",
      " 61%|██████▏   | 276/450 [07:17<08:07,  2.80s/it]"
     ]
    },
    {
     "name": "stderr",
     "output_type": "stream",
     "text": [
      "\r",
      " 62%|██████▏   | 277/450 [07:20<08:11,  2.84s/it]"
     ]
    },
    {
     "name": "stderr",
     "output_type": "stream",
     "text": [
      "\r",
      " 62%|██████▏   | 278/450 [07:23<08:12,  2.86s/it]"
     ]
    },
    {
     "name": "stderr",
     "output_type": "stream",
     "text": [
      "\r",
      " 62%|██████▏   | 279/450 [07:26<08:11,  2.88s/it]"
     ]
    },
    {
     "name": "stderr",
     "output_type": "stream",
     "text": [
      "\r",
      " 62%|██████▏   | 280/450 [07:29<08:11,  2.89s/it]"
     ]
    },
    {
     "name": "stderr",
     "output_type": "stream",
     "text": [
      "\r",
      " 62%|██████▏   | 281/450 [07:32<08:04,  2.87s/it]"
     ]
    },
    {
     "name": "stderr",
     "output_type": "stream",
     "text": [
      "\r",
      " 63%|██████▎   | 282/450 [07:35<07:55,  2.83s/it]"
     ]
    },
    {
     "name": "stderr",
     "output_type": "stream",
     "text": [
      "\r",
      " 63%|██████▎   | 283/450 [07:37<07:50,  2.82s/it]"
     ]
    },
    {
     "name": "stderr",
     "output_type": "stream",
     "text": [
      "\r",
      " 63%|██████▎   | 284/450 [07:40<07:50,  2.83s/it]"
     ]
    },
    {
     "name": "stderr",
     "output_type": "stream",
     "text": [
      "\r",
      " 63%|██████▎   | 285/450 [07:43<07:46,  2.83s/it]"
     ]
    },
    {
     "name": "stderr",
     "output_type": "stream",
     "text": [
      "\r",
      " 64%|██████▎   | 286/450 [07:46<07:34,  2.77s/it]"
     ]
    },
    {
     "name": "stderr",
     "output_type": "stream",
     "text": [
      "\r",
      " 64%|██████▍   | 287/450 [07:48<07:21,  2.71s/it]"
     ]
    },
    {
     "name": "stderr",
     "output_type": "stream",
     "text": [
      "\r",
      " 64%|██████▍   | 288/450 [07:51<07:31,  2.79s/it]"
     ]
    },
    {
     "name": "stderr",
     "output_type": "stream",
     "text": [
      "\r",
      " 64%|██████▍   | 289/450 [07:54<07:22,  2.75s/it]"
     ]
    },
    {
     "name": "stderr",
     "output_type": "stream",
     "text": [
      "\r",
      " 64%|██████▍   | 290/450 [07:56<07:10,  2.69s/it]"
     ]
    },
    {
     "name": "stderr",
     "output_type": "stream",
     "text": [
      "\r",
      " 65%|██████▍   | 291/450 [07:59<06:59,  2.64s/it]"
     ]
    },
    {
     "name": "stderr",
     "output_type": "stream",
     "text": [
      "\r",
      " 65%|██████▍   | 292/450 [08:01<06:44,  2.56s/it]"
     ]
    },
    {
     "name": "stderr",
     "output_type": "stream",
     "text": [
      "\r",
      " 65%|██████▌   | 293/450 [08:04<06:38,  2.54s/it]"
     ]
    },
    {
     "name": "stderr",
     "output_type": "stream",
     "text": [
      "\r",
      " 65%|██████▌   | 294/450 [08:06<06:28,  2.49s/it]"
     ]
    },
    {
     "name": "stderr",
     "output_type": "stream",
     "text": [
      "\r",
      " 66%|██████▌   | 295/450 [08:08<06:15,  2.43s/it]"
     ]
    },
    {
     "name": "stderr",
     "output_type": "stream",
     "text": [
      "\r",
      " 66%|██████▌   | 296/450 [08:11<06:01,  2.35s/it]"
     ]
    },
    {
     "name": "stderr",
     "output_type": "stream",
     "text": [
      "\r",
      " 66%|██████▌   | 297/450 [08:13<05:58,  2.34s/it]"
     ]
    },
    {
     "name": "stderr",
     "output_type": "stream",
     "text": [
      "\r",
      " 66%|██████▌   | 298/450 [08:15<05:49,  2.30s/it]"
     ]
    },
    {
     "name": "stderr",
     "output_type": "stream",
     "text": [
      "\r",
      " 66%|██████▋   | 299/450 [08:18<05:53,  2.34s/it]"
     ]
    },
    {
     "name": "stderr",
     "output_type": "stream",
     "text": [
      "\r",
      " 67%|██████▋   | 300/450 [08:20<05:48,  2.33s/it]"
     ]
    },
    {
     "name": "stderr",
     "output_type": "stream",
     "text": [
      "\r",
      " 67%|██████▋   | 301/450 [08:22<05:35,  2.25s/it]"
     ]
    },
    {
     "name": "stderr",
     "output_type": "stream",
     "text": [
      "\r",
      " 67%|██████▋   | 302/450 [08:24<05:28,  2.22s/it]"
     ]
    },
    {
     "name": "stderr",
     "output_type": "stream",
     "text": [
      "\r",
      " 67%|██████▋   | 303/450 [08:26<05:24,  2.21s/it]"
     ]
    },
    {
     "name": "stderr",
     "output_type": "stream",
     "text": [
      "\r",
      " 68%|██████▊   | 304/450 [08:29<05:30,  2.26s/it]"
     ]
    },
    {
     "name": "stderr",
     "output_type": "stream",
     "text": [
      "\r",
      " 68%|██████▊   | 305/450 [08:31<05:27,  2.26s/it]"
     ]
    },
    {
     "name": "stderr",
     "output_type": "stream",
     "text": [
      "\r",
      " 68%|██████▊   | 306/450 [08:33<05:25,  2.26s/it]"
     ]
    },
    {
     "name": "stderr",
     "output_type": "stream",
     "text": [
      "\r",
      " 68%|██████▊   | 307/450 [08:35<05:20,  2.24s/it]"
     ]
    },
    {
     "name": "stderr",
     "output_type": "stream",
     "text": [
      "\r",
      " 68%|██████▊   | 308/450 [08:38<05:15,  2.22s/it]"
     ]
    },
    {
     "name": "stderr",
     "output_type": "stream",
     "text": [
      "\r",
      " 69%|██████▊   | 309/450 [08:40<05:11,  2.21s/it]"
     ]
    },
    {
     "name": "stderr",
     "output_type": "stream",
     "text": [
      "\r",
      " 69%|██████▉   | 310/450 [08:42<05:18,  2.27s/it]"
     ]
    },
    {
     "name": "stderr",
     "output_type": "stream",
     "text": [
      "\r",
      " 69%|██████▉   | 311/450 [08:44<05:12,  2.24s/it]"
     ]
    },
    {
     "name": "stderr",
     "output_type": "stream",
     "text": [
      "\r",
      " 69%|██████▉   | 312/450 [08:47<05:08,  2.23s/it]"
     ]
    },
    {
     "name": "stderr",
     "output_type": "stream",
     "text": [
      "\r",
      " 70%|██████▉   | 313/450 [08:49<05:06,  2.24s/it]"
     ]
    },
    {
     "name": "stderr",
     "output_type": "stream",
     "text": [
      "\r",
      " 70%|██████▉   | 314/450 [08:51<05:08,  2.27s/it]"
     ]
    },
    {
     "name": "stderr",
     "output_type": "stream",
     "text": [
      "\r",
      " 70%|███████   | 315/450 [08:53<05:05,  2.26s/it]"
     ]
    },
    {
     "name": "stderr",
     "output_type": "stream",
     "text": [
      "\r",
      " 70%|███████   | 316/450 [08:57<05:56,  2.66s/it]"
     ]
    },
    {
     "name": "stderr",
     "output_type": "stream",
     "text": [
      "\r",
      " 70%|███████   | 317/450 [09:00<06:28,  2.92s/it]"
     ]
    },
    {
     "name": "stderr",
     "output_type": "stream",
     "text": [
      "\r",
      " 71%|███████   | 318/450 [09:04<06:55,  3.15s/it]"
     ]
    },
    {
     "name": "stderr",
     "output_type": "stream",
     "text": [
      "\r",
      " 71%|███████   | 319/450 [09:08<07:12,  3.30s/it]"
     ]
    },
    {
     "name": "stderr",
     "output_type": "stream",
     "text": [
      "\r",
      " 71%|███████   | 320/450 [09:11<07:22,  3.40s/it]"
     ]
    },
    {
     "name": "stderr",
     "output_type": "stream",
     "text": [
      "\r",
      " 71%|███████▏  | 321/450 [09:15<07:19,  3.41s/it]"
     ]
    },
    {
     "name": "stderr",
     "output_type": "stream",
     "text": [
      "\r",
      " 72%|███████▏  | 322/450 [09:18<07:13,  3.39s/it]"
     ]
    },
    {
     "name": "stderr",
     "output_type": "stream",
     "text": [
      "\r",
      " 72%|███████▏  | 323/450 [09:22<07:10,  3.39s/it]"
     ]
    },
    {
     "name": "stderr",
     "output_type": "stream",
     "text": [
      "\r",
      " 72%|███████▏  | 324/450 [09:25<07:04,  3.37s/it]"
     ]
    },
    {
     "name": "stderr",
     "output_type": "stream",
     "text": [
      "\r",
      " 72%|███████▏  | 325/450 [09:28<06:59,  3.35s/it]"
     ]
    },
    {
     "name": "stderr",
     "output_type": "stream",
     "text": [
      "\r",
      " 72%|███████▏  | 326/450 [09:31<06:49,  3.30s/it]"
     ]
    },
    {
     "name": "stderr",
     "output_type": "stream",
     "text": [
      "\r",
      " 73%|███████▎  | 327/450 [09:35<06:41,  3.27s/it]"
     ]
    },
    {
     "name": "stderr",
     "output_type": "stream",
     "text": [
      "\r",
      " 73%|███████▎  | 328/450 [09:38<06:35,  3.24s/it]"
     ]
    },
    {
     "name": "stderr",
     "output_type": "stream",
     "text": [
      "\r",
      " 73%|███████▎  | 329/450 [09:41<06:32,  3.24s/it]"
     ]
    },
    {
     "name": "stderr",
     "output_type": "stream",
     "text": [
      "\r",
      " 73%|███████▎  | 330/450 [09:44<06:28,  3.24s/it]"
     ]
    },
    {
     "name": "stderr",
     "output_type": "stream",
     "text": [
      "\r",
      " 74%|███████▎  | 331/450 [09:48<06:27,  3.25s/it]"
     ]
    },
    {
     "name": "stderr",
     "output_type": "stream",
     "text": [
      "\r",
      " 74%|███████▍  | 332/450 [09:51<06:27,  3.29s/it]"
     ]
    },
    {
     "name": "stderr",
     "output_type": "stream",
     "text": [
      "\r",
      " 74%|███████▍  | 333/450 [09:54<06:25,  3.29s/it]"
     ]
    },
    {
     "name": "stderr",
     "output_type": "stream",
     "text": [
      "\r",
      " 74%|███████▍  | 334/450 [09:58<06:26,  3.33s/it]"
     ]
    },
    {
     "name": "stderr",
     "output_type": "stream",
     "text": [
      "\r",
      " 74%|███████▍  | 335/450 [10:01<06:18,  3.29s/it]"
     ]
    },
    {
     "name": "stderr",
     "output_type": "stream",
     "text": [
      "\r",
      " 75%|███████▍  | 336/450 [10:04<05:58,  3.15s/it]"
     ]
    },
    {
     "name": "stderr",
     "output_type": "stream",
     "text": [
      "\r",
      " 75%|███████▍  | 337/450 [10:06<05:37,  2.99s/it]"
     ]
    },
    {
     "name": "stderr",
     "output_type": "stream",
     "text": [
      "\r",
      " 75%|███████▌  | 338/450 [10:09<05:28,  2.93s/it]"
     ]
    },
    {
     "name": "stderr",
     "output_type": "stream",
     "text": [
      "\r",
      " 75%|███████▌  | 339/450 [10:12<05:20,  2.89s/it]"
     ]
    },
    {
     "name": "stderr",
     "output_type": "stream",
     "text": [
      "\r",
      " 76%|███████▌  | 340/450 [10:15<05:13,  2.85s/it]"
     ]
    },
    {
     "name": "stderr",
     "output_type": "stream",
     "text": [
      "\r",
      " 76%|███████▌  | 341/450 [10:17<05:05,  2.80s/it]"
     ]
    },
    {
     "name": "stderr",
     "output_type": "stream",
     "text": [
      "\r",
      " 76%|███████▌  | 342/450 [10:20<04:57,  2.76s/it]"
     ]
    },
    {
     "name": "stderr",
     "output_type": "stream",
     "text": [
      "\r",
      " 76%|███████▌  | 343/450 [10:23<04:51,  2.72s/it]"
     ]
    },
    {
     "name": "stderr",
     "output_type": "stream",
     "text": [
      "\r",
      " 76%|███████▋  | 344/450 [10:26<04:55,  2.79s/it]"
     ]
    },
    {
     "name": "stderr",
     "output_type": "stream",
     "text": [
      "\r",
      " 77%|███████▋  | 345/450 [10:28<04:52,  2.79s/it]"
     ]
    },
    {
     "name": "stderr",
     "output_type": "stream",
     "text": [
      "\r",
      " 77%|███████▋  | 346/450 [10:31<04:49,  2.78s/it]"
     ]
    },
    {
     "name": "stderr",
     "output_type": "stream",
     "text": [
      "\r",
      " 77%|███████▋  | 347/450 [10:34<04:38,  2.70s/it]"
     ]
    },
    {
     "name": "stderr",
     "output_type": "stream",
     "text": [
      "\r",
      " 77%|███████▋  | 348/450 [10:37<04:41,  2.76s/it]"
     ]
    },
    {
     "name": "stderr",
     "output_type": "stream",
     "text": [
      "\r",
      " 78%|███████▊  | 349/450 [10:39<04:37,  2.74s/it]"
     ]
    },
    {
     "name": "stderr",
     "output_type": "stream",
     "text": [
      "\r",
      " 78%|███████▊  | 350/450 [10:42<04:33,  2.74s/it]"
     ]
    },
    {
     "name": "stderr",
     "output_type": "stream",
     "text": [
      "\r",
      " 78%|███████▊  | 351/450 [10:45<04:31,  2.74s/it]"
     ]
    },
    {
     "name": "stderr",
     "output_type": "stream",
     "text": [
      "\r",
      " 78%|███████▊  | 352/450 [10:48<04:30,  2.76s/it]"
     ]
    },
    {
     "name": "stderr",
     "output_type": "stream",
     "text": [
      "\r",
      " 78%|███████▊  | 353/450 [10:50<04:26,  2.74s/it]"
     ]
    },
    {
     "name": "stderr",
     "output_type": "stream",
     "text": [
      "\r",
      " 79%|███████▊  | 354/450 [10:53<04:22,  2.73s/it]"
     ]
    },
    {
     "name": "stderr",
     "output_type": "stream",
     "text": [
      "\r",
      " 79%|███████▉  | 355/450 [10:55<04:14,  2.67s/it]"
     ]
    },
    {
     "name": "stderr",
     "output_type": "stream",
     "text": [
      "\r",
      " 79%|███████▉  | 356/450 [10:58<04:05,  2.61s/it]"
     ]
    },
    {
     "name": "stderr",
     "output_type": "stream",
     "text": [
      "\r",
      " 79%|███████▉  | 357/450 [11:01<04:09,  2.68s/it]"
     ]
    },
    {
     "name": "stderr",
     "output_type": "stream",
     "text": [
      "\r",
      " 80%|███████▉  | 358/450 [11:03<04:05,  2.67s/it]"
     ]
    },
    {
     "name": "stderr",
     "output_type": "stream",
     "text": [
      "\r",
      " 80%|███████▉  | 359/450 [11:06<04:07,  2.73s/it]"
     ]
    },
    {
     "name": "stderr",
     "output_type": "stream",
     "text": [
      "\r",
      " 80%|████████  | 360/450 [11:09<04:04,  2.72s/it]"
     ]
    },
    {
     "name": "stderr",
     "output_type": "stream",
     "text": [
      "\r",
      " 80%|████████  | 361/450 [11:13<04:47,  3.23s/it]"
     ]
    },
    {
     "name": "stderr",
     "output_type": "stream",
     "text": [
      "\r",
      " 80%|████████  | 362/450 [11:18<05:13,  3.56s/it]"
     ]
    },
    {
     "name": "stderr",
     "output_type": "stream",
     "text": [
      "\r",
      " 81%|████████  | 363/450 [11:22<05:28,  3.77s/it]"
     ]
    },
    {
     "name": "stderr",
     "output_type": "stream",
     "text": [
      "\r",
      " 81%|████████  | 364/450 [11:26<05:38,  3.94s/it]"
     ]
    },
    {
     "name": "stderr",
     "output_type": "stream",
     "text": [
      "\r",
      " 81%|████████  | 365/450 [11:31<05:45,  4.06s/it]"
     ]
    },
    {
     "name": "stderr",
     "output_type": "stream",
     "text": [
      "\r",
      " 81%|████████▏ | 366/450 [11:35<05:35,  3.99s/it]"
     ]
    },
    {
     "name": "stderr",
     "output_type": "stream",
     "text": [
      "\r",
      " 82%|████████▏ | 367/450 [11:38<05:29,  3.97s/it]"
     ]
    },
    {
     "name": "stderr",
     "output_type": "stream",
     "text": [
      "\r",
      " 82%|████████▏ | 368/450 [11:42<05:24,  3.95s/it]"
     ]
    },
    {
     "name": "stderr",
     "output_type": "stream",
     "text": [
      "\r",
      " 82%|████████▏ | 369/450 [11:46<05:18,  3.93s/it]"
     ]
    },
    {
     "name": "stderr",
     "output_type": "stream",
     "text": [
      "\r",
      " 82%|████████▏ | 370/450 [11:50<05:12,  3.91s/it]"
     ]
    },
    {
     "name": "stderr",
     "output_type": "stream",
     "text": [
      "\r",
      " 82%|████████▏ | 371/450 [11:54<05:02,  3.83s/it]"
     ]
    },
    {
     "name": "stderr",
     "output_type": "stream",
     "text": [
      "\r",
      " 83%|████████▎ | 372/450 [11:57<04:55,  3.78s/it]"
     ]
    },
    {
     "name": "stderr",
     "output_type": "stream",
     "text": [
      "\r",
      " 83%|████████▎ | 373/450 [12:01<04:48,  3.75s/it]"
     ]
    },
    {
     "name": "stderr",
     "output_type": "stream",
     "text": [
      "\r",
      " 83%|████████▎ | 374/450 [12:05<04:43,  3.73s/it]"
     ]
    },
    {
     "name": "stderr",
     "output_type": "stream",
     "text": [
      "\r",
      " 83%|████████▎ | 375/450 [12:08<04:38,  3.72s/it]"
     ]
    },
    {
     "name": "stderr",
     "output_type": "stream",
     "text": [
      "\r",
      " 84%|████████▎ | 376/450 [12:12<04:35,  3.72s/it]"
     ]
    },
    {
     "name": "stderr",
     "output_type": "stream",
     "text": [
      "\r",
      " 84%|████████▍ | 377/450 [12:16<04:32,  3.74s/it]"
     ]
    },
    {
     "name": "stderr",
     "output_type": "stream",
     "text": [
      "\r",
      " 84%|████████▍ | 378/450 [12:20<04:35,  3.82s/it]"
     ]
    },
    {
     "name": "stderr",
     "output_type": "stream",
     "text": [
      "\r",
      " 84%|████████▍ | 379/450 [12:24<04:32,  3.83s/it]"
     ]
    },
    {
     "name": "stderr",
     "output_type": "stream",
     "text": [
      "\r",
      " 84%|████████▍ | 380/450 [12:28<04:25,  3.79s/it]"
     ]
    },
    {
     "name": "stderr",
     "output_type": "stream",
     "text": [
      "\r",
      " 85%|████████▍ | 381/450 [12:31<04:14,  3.68s/it]"
     ]
    },
    {
     "name": "stderr",
     "output_type": "stream",
     "text": [
      "\r",
      " 85%|████████▍ | 382/450 [12:34<03:58,  3.51s/it]"
     ]
    },
    {
     "name": "stderr",
     "output_type": "stream",
     "text": [
      "\r",
      " 85%|████████▌ | 383/450 [12:37<03:44,  3.36s/it]"
     ]
    },
    {
     "name": "stderr",
     "output_type": "stream",
     "text": [
      "\r",
      " 85%|████████▌ | 384/450 [12:40<03:39,  3.32s/it]"
     ]
    },
    {
     "name": "stderr",
     "output_type": "stream",
     "text": [
      "\r",
      " 86%|████████▌ | 385/450 [12:44<03:33,  3.29s/it]"
     ]
    },
    {
     "name": "stderr",
     "output_type": "stream",
     "text": [
      "\r",
      " 86%|████████▌ | 386/450 [12:47<03:34,  3.35s/it]"
     ]
    },
    {
     "name": "stderr",
     "output_type": "stream",
     "text": [
      "\r",
      " 86%|████████▌ | 387/450 [12:50<03:26,  3.28s/it]"
     ]
    },
    {
     "name": "stderr",
     "output_type": "stream",
     "text": [
      "\r",
      " 86%|████████▌ | 388/450 [12:54<03:26,  3.33s/it]"
     ]
    },
    {
     "name": "stderr",
     "output_type": "stream",
     "text": [
      "\r",
      " 86%|████████▋ | 389/450 [12:57<03:19,  3.27s/it]"
     ]
    },
    {
     "name": "stderr",
     "output_type": "stream",
     "text": [
      "\r",
      " 87%|████████▋ | 390/450 [13:00<03:15,  3.25s/it]"
     ]
    },
    {
     "name": "stderr",
     "output_type": "stream",
     "text": [
      "\r",
      " 87%|████████▋ | 391/450 [13:03<03:09,  3.20s/it]"
     ]
    },
    {
     "name": "stderr",
     "output_type": "stream",
     "text": [
      "\r",
      " 87%|████████▋ | 392/450 [13:05<02:53,  2.99s/it]"
     ]
    },
    {
     "name": "stderr",
     "output_type": "stream",
     "text": [
      "\r",
      " 87%|████████▋ | 393/450 [13:09<02:53,  3.04s/it]"
     ]
    },
    {
     "name": "stderr",
     "output_type": "stream",
     "text": [
      "\r",
      " 88%|████████▊ | 394/450 [13:12<02:53,  3.10s/it]"
     ]
    },
    {
     "name": "stderr",
     "output_type": "stream",
     "text": [
      "\r",
      " 88%|████████▊ | 395/450 [13:15<02:53,  3.16s/it]"
     ]
    },
    {
     "name": "stderr",
     "output_type": "stream",
     "text": [
      "\r",
      " 88%|████████▊ | 396/450 [13:18<02:51,  3.17s/it]"
     ]
    },
    {
     "name": "stderr",
     "output_type": "stream",
     "text": [
      "\r",
      " 88%|████████▊ | 397/450 [13:21<02:46,  3.15s/it]"
     ]
    },
    {
     "name": "stderr",
     "output_type": "stream",
     "text": [
      "\r",
      " 88%|████████▊ | 398/450 [13:25<02:44,  3.16s/it]"
     ]
    },
    {
     "name": "stderr",
     "output_type": "stream",
     "text": [
      "\r",
      " 89%|████████▊ | 399/450 [13:28<02:43,  3.21s/it]"
     ]
    },
    {
     "name": "stderr",
     "output_type": "stream",
     "text": [
      "\r",
      " 89%|████████▉ | 400/450 [13:31<02:42,  3.24s/it]"
     ]
    },
    {
     "name": "stderr",
     "output_type": "stream",
     "text": [
      "\r",
      " 89%|████████▉ | 401/450 [13:35<02:38,  3.24s/it]"
     ]
    },
    {
     "name": "stderr",
     "output_type": "stream",
     "text": [
      "\r",
      " 89%|████████▉ | 402/450 [13:38<02:39,  3.31s/it]"
     ]
    },
    {
     "name": "stderr",
     "output_type": "stream",
     "text": [
      "\r",
      " 90%|████████▉ | 403/450 [13:41<02:33,  3.27s/it]"
     ]
    },
    {
     "name": "stderr",
     "output_type": "stream",
     "text": [
      "\r",
      " 90%|████████▉ | 404/450 [13:44<02:23,  3.11s/it]"
     ]
    },
    {
     "name": "stderr",
     "output_type": "stream",
     "text": [
      "\r",
      " 90%|█████████ | 405/450 [13:47<02:20,  3.13s/it]"
     ]
    },
    {
     "name": "stderr",
     "output_type": "stream",
     "text": [
      "\r",
      " 90%|█████████ | 406/450 [13:52<02:39,  3.62s/it]"
     ]
    },
    {
     "name": "stderr",
     "output_type": "stream",
     "text": [
      "\r",
      " 90%|█████████ | 407/450 [13:57<02:50,  3.95s/it]"
     ]
    },
    {
     "name": "stderr",
     "output_type": "stream",
     "text": [
      "\r",
      " 91%|█████████ | 408/450 [14:01<02:56,  4.19s/it]"
     ]
    },
    {
     "name": "stderr",
     "output_type": "stream",
     "text": [
      "\r",
      " 91%|█████████ | 409/450 [14:06<02:58,  4.35s/it]"
     ]
    },
    {
     "name": "stderr",
     "output_type": "stream",
     "text": [
      "\r",
      " 91%|█████████ | 410/450 [14:11<02:58,  4.47s/it]"
     ]
    },
    {
     "name": "stderr",
     "output_type": "stream",
     "text": [
      "\r",
      " 91%|█████████▏| 411/450 [14:15<02:51,  4.40s/it]"
     ]
    },
    {
     "name": "stderr",
     "output_type": "stream",
     "text": [
      "\r",
      " 92%|█████████▏| 412/450 [14:19<02:44,  4.32s/it]"
     ]
    },
    {
     "name": "stderr",
     "output_type": "stream",
     "text": [
      "\r",
      " 92%|█████████▏| 413/450 [14:23<02:38,  4.28s/it]"
     ]
    },
    {
     "name": "stderr",
     "output_type": "stream",
     "text": [
      "\r",
      " 92%|█████████▏| 414/450 [14:28<02:33,  4.25s/it]"
     ]
    },
    {
     "name": "stderr",
     "output_type": "stream",
     "text": [
      "\r",
      " 92%|█████████▏| 415/450 [14:32<02:28,  4.24s/it]"
     ]
    },
    {
     "name": "stderr",
     "output_type": "stream",
     "text": [
      "\r",
      " 92%|█████████▏| 416/450 [14:36<02:22,  4.20s/it]"
     ]
    },
    {
     "name": "stderr",
     "output_type": "stream",
     "text": [
      "\r",
      " 93%|█████████▎| 417/450 [14:40<02:17,  4.16s/it]"
     ]
    },
    {
     "name": "stderr",
     "output_type": "stream",
     "text": [
      "\r",
      " 93%|█████████▎| 418/450 [14:44<02:11,  4.11s/it]"
     ]
    },
    {
     "name": "stderr",
     "output_type": "stream",
     "text": [
      "\r",
      " 93%|█████████▎| 419/450 [14:48<02:07,  4.11s/it]"
     ]
    },
    {
     "name": "stderr",
     "output_type": "stream",
     "text": [
      "\r",
      " 93%|█████████▎| 420/450 [14:52<02:02,  4.08s/it]"
     ]
    },
    {
     "name": "stderr",
     "output_type": "stream",
     "text": [
      "\r",
      " 94%|█████████▎| 421/450 [14:56<01:56,  4.02s/it]"
     ]
    },
    {
     "name": "stderr",
     "output_type": "stream",
     "text": [
      "\r",
      " 94%|█████████▍| 422/450 [15:00<01:54,  4.07s/it]"
     ]
    },
    {
     "name": "stderr",
     "output_type": "stream",
     "text": [
      "\r",
      " 94%|█████████▍| 423/450 [15:04<01:49,  4.05s/it]"
     ]
    },
    {
     "name": "stderr",
     "output_type": "stream",
     "text": [
      "\r",
      " 94%|█████████▍| 424/450 [15:09<01:49,  4.20s/it]"
     ]
    },
    {
     "name": "stderr",
     "output_type": "stream",
     "text": [
      "\r",
      " 94%|█████████▍| 425/450 [15:13<01:46,  4.24s/it]"
     ]
    },
    {
     "name": "stderr",
     "output_type": "stream",
     "text": [
      "\r",
      " 95%|█████████▍| 426/450 [15:17<01:39,  4.15s/it]"
     ]
    },
    {
     "name": "stderr",
     "output_type": "stream",
     "text": [
      "\r",
      " 95%|█████████▍| 427/450 [15:20<01:31,  3.97s/it]"
     ]
    },
    {
     "name": "stderr",
     "output_type": "stream",
     "text": [
      "\r",
      " 95%|█████████▌| 428/450 [15:24<01:25,  3.88s/it]"
     ]
    },
    {
     "name": "stderr",
     "output_type": "stream",
     "text": [
      "\r",
      " 95%|█████████▌| 429/450 [15:28<01:21,  3.87s/it]"
     ]
    },
    {
     "name": "stderr",
     "output_type": "stream",
     "text": [
      "\r",
      " 96%|█████████▌| 430/450 [15:32<01:18,  3.91s/it]"
     ]
    },
    {
     "name": "stderr",
     "output_type": "stream",
     "text": [
      "\r",
      " 96%|█████████▌| 431/450 [15:35<01:10,  3.71s/it]"
     ]
    },
    {
     "name": "stderr",
     "output_type": "stream",
     "text": [
      "\r",
      " 96%|█████████▌| 432/450 [15:39<01:06,  3.67s/it]"
     ]
    },
    {
     "name": "stderr",
     "output_type": "stream",
     "text": [
      "\r",
      " 96%|█████████▌| 433/450 [15:42<01:01,  3.59s/it]"
     ]
    },
    {
     "name": "stderr",
     "output_type": "stream",
     "text": [
      "\r",
      " 96%|█████████▋| 434/450 [15:46<00:57,  3.62s/it]"
     ]
    },
    {
     "name": "stderr",
     "output_type": "stream",
     "text": [
      "\r",
      " 97%|█████████▋| 435/450 [15:49<00:52,  3.53s/it]"
     ]
    },
    {
     "name": "stderr",
     "output_type": "stream",
     "text": [
      "\r",
      " 97%|█████████▋| 436/450 [15:53<00:49,  3.51s/it]"
     ]
    },
    {
     "name": "stderr",
     "output_type": "stream",
     "text": [
      "\r",
      " 97%|█████████▋| 437/450 [15:56<00:45,  3.53s/it]"
     ]
    },
    {
     "name": "stderr",
     "output_type": "stream",
     "text": [
      "\r",
      " 97%|█████████▋| 438/450 [16:00<00:42,  3.57s/it]"
     ]
    },
    {
     "name": "stderr",
     "output_type": "stream",
     "text": [
      "\r",
      " 98%|█████████▊| 439/450 [16:03<00:38,  3.53s/it]"
     ]
    },
    {
     "name": "stderr",
     "output_type": "stream",
     "text": [
      "\r",
      " 98%|█████████▊| 440/450 [16:07<00:35,  3.54s/it]"
     ]
    },
    {
     "name": "stderr",
     "output_type": "stream",
     "text": [
      "\r",
      " 98%|█████████▊| 441/450 [16:11<00:32,  3.57s/it]"
     ]
    },
    {
     "name": "stderr",
     "output_type": "stream",
     "text": [
      "\r",
      " 98%|█████████▊| 442/450 [16:14<00:28,  3.54s/it]"
     ]
    },
    {
     "name": "stderr",
     "output_type": "stream",
     "text": [
      "\r",
      " 98%|█████████▊| 443/450 [16:18<00:24,  3.51s/it]"
     ]
    },
    {
     "name": "stderr",
     "output_type": "stream",
     "text": [
      "\r",
      " 99%|█████████▊| 444/450 [16:21<00:21,  3.55s/it]"
     ]
    },
    {
     "name": "stderr",
     "output_type": "stream",
     "text": [
      "\r",
      " 99%|█████████▉| 445/450 [16:25<00:17,  3.52s/it]"
     ]
    },
    {
     "name": "stderr",
     "output_type": "stream",
     "text": [
      "\r",
      " 99%|█████████▉| 446/450 [16:28<00:14,  3.59s/it]"
     ]
    },
    {
     "name": "stderr",
     "output_type": "stream",
     "text": [
      "\r",
      " 99%|█████████▉| 447/450 [16:32<00:10,  3.47s/it]"
     ]
    },
    {
     "name": "stderr",
     "output_type": "stream",
     "text": [
      "\r",
      "100%|█████████▉| 448/450 [16:35<00:06,  3.50s/it]"
     ]
    },
    {
     "name": "stderr",
     "output_type": "stream",
     "text": [
      "\r",
      "100%|█████████▉| 449/450 [16:39<00:03,  3.61s/it]"
     ]
    },
    {
     "name": "stderr",
     "output_type": "stream",
     "text": [
      "\r",
      "100%|██████████| 450/450 [16:43<00:00,  3.65s/it]"
     ]
    },
    {
     "name": "stderr",
     "output_type": "stream",
     "text": [
      "\r",
      "100%|██████████| 450/450 [16:43<00:00,  2.23s/it]"
     ]
    },
    {
     "name": "stderr",
     "output_type": "stream",
     "text": [
      "\n"
     ]
    }
   ],
   "source": [
    "ensemble = generate_ensemble(\n",
    "    data,\n",
    "    CLUSTERERS,\n",
    "    attributes=[\"n_clusters\", \"gamma\"],\n",
    ")"
   ]
  },
  {
   "cell_type": "code",
   "execution_count": 30,
   "metadata": {
    "execution": {
     "iopub.execute_input": "2021-03-09T21:49:16.481709Z",
     "iopub.status.busy": "2021-03-09T21:49:16.481332Z",
     "iopub.status.idle": "2021-03-09T21:49:16.493116Z",
     "shell.execute_reply": "2021-03-09T21:49:16.492751Z"
    },
    "papermill": {
     "duration": 0.119696,
     "end_time": "2021-03-09T21:49:16.493200",
     "exception": false,
     "start_time": "2021-03-09T21:49:16.373504",
     "status": "completed"
    },
    "tags": []
   },
   "outputs": [
    {
     "data": {
      "text/plain": [
       "(450, 4)"
      ]
     },
     "execution_count": 30,
     "metadata": {},
     "output_type": "execute_result"
    }
   ],
   "source": [
    "ensemble.shape"
   ]
  },
  {
   "cell_type": "code",
   "execution_count": 31,
   "metadata": {
    "execution": {
     "iopub.execute_input": "2021-03-09T21:49:16.704878Z",
     "iopub.status.busy": "2021-03-09T21:49:16.704455Z",
     "iopub.status.idle": "2021-03-09T21:49:16.723190Z",
     "shell.execute_reply": "2021-03-09T21:49:16.722823Z"
    },
    "papermill": {
     "duration": 0.125474,
     "end_time": "2021-03-09T21:49:16.723273",
     "exception": false,
     "start_time": "2021-03-09T21:49:16.597799",
     "status": "completed"
    },
    "tags": []
   },
   "outputs": [
    {
     "data": {
      "text/html": [
       "<div>\n",
       "<style scoped>\n",
       "    .dataframe tbody tr th:only-of-type {\n",
       "        vertical-align: middle;\n",
       "    }\n",
       "\n",
       "    .dataframe tbody tr th {\n",
       "        vertical-align: top;\n",
       "    }\n",
       "\n",
       "    .dataframe thead th {\n",
       "        text-align: right;\n",
       "    }\n",
       "</style>\n",
       "<table border=\"1\" class=\"dataframe\">\n",
       "  <thead>\n",
       "    <tr style=\"text-align: right;\">\n",
       "      <th></th>\n",
       "      <th>clusterer_params</th>\n",
       "      <th>partition</th>\n",
       "      <th>n_clusters</th>\n",
       "      <th>gamma</th>\n",
       "    </tr>\n",
       "    <tr>\n",
       "      <th>clusterer_id</th>\n",
       "      <th></th>\n",
       "      <th></th>\n",
       "      <th></th>\n",
       "      <th></th>\n",
       "    </tr>\n",
       "  </thead>\n",
       "  <tbody>\n",
       "    <tr>\n",
       "      <th>SpectralClustering #0</th>\n",
       "      <td>{'affinity': 'rbf', 'assign_labels': 'kmeans',...</td>\n",
       "      <td>[0.0, 0.0, 0.0, 0.0, 0.0, 0.0, 0.0, 0.0, 0.0, ...</td>\n",
       "      <td>2</td>\n",
       "      <td>0.001</td>\n",
       "    </tr>\n",
       "    <tr>\n",
       "      <th>SpectralClustering #1</th>\n",
       "      <td>{'affinity': 'rbf', 'assign_labels': 'kmeans',...</td>\n",
       "      <td>[0.0, 0.0, 0.0, 0.0, 0.0, 0.0, 0.0, 0.0, 0.0, ...</td>\n",
       "      <td>2</td>\n",
       "      <td>0.001</td>\n",
       "    </tr>\n",
       "    <tr>\n",
       "      <th>SpectralClustering #2</th>\n",
       "      <td>{'affinity': 'rbf', 'assign_labels': 'kmeans',...</td>\n",
       "      <td>[0.0, 0.0, 0.0, 0.0, 0.0, 0.0, 0.0, 0.0, 0.0, ...</td>\n",
       "      <td>2</td>\n",
       "      <td>0.001</td>\n",
       "    </tr>\n",
       "    <tr>\n",
       "      <th>SpectralClustering #3</th>\n",
       "      <td>{'affinity': 'rbf', 'assign_labels': 'kmeans',...</td>\n",
       "      <td>[0.0, 0.0, 0.0, 0.0, 0.0, 0.0, 0.0, 0.0, 0.0, ...</td>\n",
       "      <td>2</td>\n",
       "      <td>0.001</td>\n",
       "    </tr>\n",
       "    <tr>\n",
       "      <th>SpectralClustering #4</th>\n",
       "      <td>{'affinity': 'rbf', 'assign_labels': 'kmeans',...</td>\n",
       "      <td>[0.0, 0.0, 0.0, 0.0, 0.0, 0.0, 0.0, 0.0, 0.0, ...</td>\n",
       "      <td>2</td>\n",
       "      <td>0.001</td>\n",
       "    </tr>\n",
       "  </tbody>\n",
       "</table>\n",
       "</div>"
      ],
      "text/plain": [
       "                                                        clusterer_params  \\\n",
       "clusterer_id                                                               \n",
       "SpectralClustering #0  {'affinity': 'rbf', 'assign_labels': 'kmeans',...   \n",
       "SpectralClustering #1  {'affinity': 'rbf', 'assign_labels': 'kmeans',...   \n",
       "SpectralClustering #2  {'affinity': 'rbf', 'assign_labels': 'kmeans',...   \n",
       "SpectralClustering #3  {'affinity': 'rbf', 'assign_labels': 'kmeans',...   \n",
       "SpectralClustering #4  {'affinity': 'rbf', 'assign_labels': 'kmeans',...   \n",
       "\n",
       "                                                               partition  \\\n",
       "clusterer_id                                                               \n",
       "SpectralClustering #0  [0.0, 0.0, 0.0, 0.0, 0.0, 0.0, 0.0, 0.0, 0.0, ...   \n",
       "SpectralClustering #1  [0.0, 0.0, 0.0, 0.0, 0.0, 0.0, 0.0, 0.0, 0.0, ...   \n",
       "SpectralClustering #2  [0.0, 0.0, 0.0, 0.0, 0.0, 0.0, 0.0, 0.0, 0.0, ...   \n",
       "SpectralClustering #3  [0.0, 0.0, 0.0, 0.0, 0.0, 0.0, 0.0, 0.0, 0.0, ...   \n",
       "SpectralClustering #4  [0.0, 0.0, 0.0, 0.0, 0.0, 0.0, 0.0, 0.0, 0.0, ...   \n",
       "\n",
       "                       n_clusters  gamma  \n",
       "clusterer_id                              \n",
       "SpectralClustering #0           2  0.001  \n",
       "SpectralClustering #1           2  0.001  \n",
       "SpectralClustering #2           2  0.001  \n",
       "SpectralClustering #3           2  0.001  \n",
       "SpectralClustering #4           2  0.001  "
      ]
     },
     "execution_count": 31,
     "metadata": {},
     "output_type": "execute_result"
    }
   ],
   "source": [
    "ensemble.head()"
   ]
  },
  {
   "cell_type": "code",
   "execution_count": 32,
   "metadata": {
    "execution": {
     "iopub.execute_input": "2021-03-09T21:49:16.940071Z",
     "iopub.status.busy": "2021-03-09T21:49:16.939707Z",
     "iopub.status.idle": "2021-03-09T21:49:16.951290Z",
     "shell.execute_reply": "2021-03-09T21:49:16.950938Z"
    },
    "papermill": {
     "duration": 0.12009,
     "end_time": "2021-03-09T21:49:16.951373",
     "exception": false,
     "start_time": "2021-03-09T21:49:16.831283",
     "status": "completed"
    },
    "tags": []
   },
   "outputs": [],
   "source": [
    "ensemble[\"gamma\"] = ensemble[\"gamma\"].apply(lambda x: f\"{x:.1e}\")"
   ]
  },
  {
   "cell_type": "code",
   "execution_count": 33,
   "metadata": {
    "execution": {
     "iopub.execute_input": "2021-03-09T21:49:17.163255Z",
     "iopub.status.busy": "2021-03-09T21:49:17.162884Z",
     "iopub.status.idle": "2021-03-09T21:49:17.175212Z",
     "shell.execute_reply": "2021-03-09T21:49:17.174853Z"
    },
    "papermill": {
     "duration": 0.119742,
     "end_time": "2021-03-09T21:49:17.175298",
     "exception": false,
     "start_time": "2021-03-09T21:49:17.055556",
     "status": "completed"
    },
    "tags": []
   },
   "outputs": [
    {
     "data": {
      "text/plain": [
       "60    45\n",
       "50    45\n",
       "40    45\n",
       "30    45\n",
       "20    45\n",
       "10    45\n",
       "8     45\n",
       "6     45\n",
       "4     45\n",
       "2     45\n",
       "Name: n_clusters, dtype: int64"
      ]
     },
     "execution_count": 33,
     "metadata": {},
     "output_type": "execute_result"
    }
   ],
   "source": [
    "ensemble[\"n_clusters\"].value_counts()"
   ]
  },
  {
   "cell_type": "code",
   "execution_count": 34,
   "metadata": {
    "execution": {
     "iopub.execute_input": "2021-03-09T21:49:17.389713Z",
     "iopub.status.busy": "2021-03-09T21:49:17.389340Z",
     "iopub.status.idle": "2021-03-09T21:49:17.400696Z",
     "shell.execute_reply": "2021-03-09T21:49:17.400319Z"
    },
    "papermill": {
     "duration": 0.119848,
     "end_time": "2021-03-09T21:49:17.400809",
     "exception": false,
     "start_time": "2021-03-09T21:49:17.280961",
     "status": "completed"
    },
    "tags": []
   },
   "outputs": [],
   "source": [
    "_tmp = ensemble[\"n_clusters\"].value_counts().unique()\n",
    "assert _tmp.shape[0] == 1\n",
    "assert _tmp[0] == int(\n",
    "    CLUSTERING_OPTIONS[\"N_REPS_PER_K\"] * len(CLUSTERING_OPTIONS[\"GAMMAS\"])\n",
    ")"
   ]
  },
  {
   "cell_type": "code",
   "execution_count": 35,
   "metadata": {
    "execution": {
     "iopub.execute_input": "2021-03-09T21:49:17.612329Z",
     "iopub.status.busy": "2021-03-09T21:49:17.611967Z",
     "iopub.status.idle": "2021-03-09T21:49:17.625329Z",
     "shell.execute_reply": "2021-03-09T21:49:17.624969Z"
    },
    "papermill": {
     "duration": 0.120762,
     "end_time": "2021-03-09T21:49:17.625413",
     "exception": false,
     "start_time": "2021-03-09T21:49:17.504651",
     "status": "completed"
    },
    "tags": []
   },
   "outputs": [
    {
     "data": {
      "text/plain": [
       "count    450.000000\n",
       "mean      23.000000\n",
       "std       19.846291\n",
       "min        2.000000\n",
       "25%        6.000000\n",
       "50%       15.000000\n",
       "75%       40.000000\n",
       "max       60.000000\n",
       "Name: n_clusters, dtype: float64"
      ]
     },
     "metadata": {},
     "output_type": "display_data"
    }
   ],
   "source": [
    "ensemble_stats = ensemble[\"n_clusters\"].describe()\n",
    "display(ensemble_stats)"
   ]
  },
  {
   "cell_type": "markdown",
   "metadata": {
    "papermill": {
     "duration": 0.106791,
     "end_time": "2021-03-09T21:49:17.836411",
     "exception": false,
     "start_time": "2021-03-09T21:49:17.729620",
     "status": "completed"
    },
    "tags": []
   },
   "source": [
    "## Testing"
   ]
  },
  {
   "cell_type": "code",
   "execution_count": 36,
   "metadata": {
    "execution": {
     "iopub.execute_input": "2021-03-09T21:49:18.065869Z",
     "iopub.status.busy": "2021-03-09T21:49:18.065406Z",
     "iopub.status.idle": "2021-03-09T21:49:18.077953Z",
     "shell.execute_reply": "2021-03-09T21:49:18.077566Z"
    },
    "papermill": {
     "duration": 0.13785,
     "end_time": "2021-03-09T21:49:18.078056",
     "exception": false,
     "start_time": "2021-03-09T21:49:17.940206",
     "status": "completed"
    },
    "tags": []
   },
   "outputs": [],
   "source": [
    "assert ensemble_stats[\"min\"] > 1"
   ]
  },
  {
   "cell_type": "code",
   "execution_count": 37,
   "metadata": {
    "execution": {
     "iopub.execute_input": "2021-03-09T21:49:18.294767Z",
     "iopub.status.busy": "2021-03-09T21:49:18.294406Z",
     "iopub.status.idle": "2021-03-09T21:49:18.305137Z",
     "shell.execute_reply": "2021-03-09T21:49:18.304772Z"
    },
    "papermill": {
     "duration": 0.118493,
     "end_time": "2021-03-09T21:49:18.305222",
     "exception": false,
     "start_time": "2021-03-09T21:49:18.186729",
     "status": "completed"
    },
    "tags": []
   },
   "outputs": [],
   "source": [
    "assert not ensemble[\"n_clusters\"].isna().any()"
   ]
  },
  {
   "cell_type": "code",
   "execution_count": 38,
   "metadata": {
    "execution": {
     "iopub.execute_input": "2021-03-09T21:49:18.518443Z",
     "iopub.status.busy": "2021-03-09T21:49:18.518079Z",
     "iopub.status.idle": "2021-03-09T21:49:18.528390Z",
     "shell.execute_reply": "2021-03-09T21:49:18.528024Z"
    },
    "papermill": {
     "duration": 0.117535,
     "end_time": "2021-03-09T21:49:18.528473",
     "exception": false,
     "start_time": "2021-03-09T21:49:18.410938",
     "status": "completed"
    },
    "tags": []
   },
   "outputs": [],
   "source": [
    "assert ensemble.shape[0] == len(CLUSTERERS)"
   ]
  },
  {
   "cell_type": "code",
   "execution_count": 39,
   "metadata": {
    "execution": {
     "iopub.execute_input": "2021-03-09T21:49:18.740912Z",
     "iopub.status.busy": "2021-03-09T21:49:18.740497Z",
     "iopub.status.idle": "2021-03-09T21:49:18.777949Z",
     "shell.execute_reply": "2021-03-09T21:49:18.777621Z"
    },
    "papermill": {
     "duration": 0.143828,
     "end_time": "2021-03-09T21:49:18.778043",
     "exception": false,
     "start_time": "2021-03-09T21:49:18.634215",
     "status": "completed"
    },
    "tags": []
   },
   "outputs": [],
   "source": [
    "# all partitions have the right size\n",
    "assert np.all(\n",
    "    [part[\"partition\"].shape[0] == data.shape[0] for idx, part in ensemble.iterrows()]\n",
    ")"
   ]
  },
  {
   "cell_type": "code",
   "execution_count": 40,
   "metadata": {
    "execution": {
     "iopub.execute_input": "2021-03-09T21:49:18.992594Z",
     "iopub.status.busy": "2021-03-09T21:49:18.992229Z",
     "iopub.status.idle": "2021-03-09T21:49:19.114601Z",
     "shell.execute_reply": "2021-03-09T21:49:19.114221Z"
    },
    "papermill": {
     "duration": 0.230182,
     "end_time": "2021-03-09T21:49:19.114687",
     "exception": false,
     "start_time": "2021-03-09T21:49:18.884505",
     "status": "completed"
    },
    "tags": []
   },
   "outputs": [],
   "source": [
    "# no partition has negative clusters (noisy points)\n",
    "assert not np.any([(part[\"partition\"] < 0).any() for idx, part in ensemble.iterrows()])\n",
    "assert not np.any(\n",
    "    [pd.Series(part[\"partition\"]).isna().any() for idx, part in ensemble.iterrows()]\n",
    ")"
   ]
  },
  {
   "cell_type": "code",
   "execution_count": 41,
   "metadata": {
    "execution": {
     "iopub.execute_input": "2021-03-09T21:49:19.326364Z",
     "iopub.status.busy": "2021-03-09T21:49:19.326001Z",
     "iopub.status.idle": "2021-03-09T21:49:19.373377Z",
     "shell.execute_reply": "2021-03-09T21:49:19.372985Z"
    },
    "papermill": {
     "duration": 0.154297,
     "end_time": "2021-03-09T21:49:19.373461",
     "exception": false,
     "start_time": "2021-03-09T21:49:19.219164",
     "status": "completed"
    },
    "tags": []
   },
   "outputs": [
    {
     "data": {
      "text/plain": [
       "clusterer_id\n",
       "SpectralClustering #0       2\n",
       "SpectralClustering #1       2\n",
       "SpectralClustering #2       2\n",
       "SpectralClustering #3       2\n",
       "SpectralClustering #4       2\n",
       "                           ..\n",
       "SpectralClustering #445    60\n",
       "SpectralClustering #446    60\n",
       "SpectralClustering #447    60\n",
       "SpectralClustering #448    60\n",
       "SpectralClustering #449    60\n",
       "Name: partition, Length: 450, dtype: int64"
      ]
     },
     "metadata": {},
     "output_type": "display_data"
    }
   ],
   "source": [
    "# check that the number of clusters in the partitions are the expected ones\n",
    "_real_k_values = ensemble[\"partition\"].apply(lambda x: np.unique(x).shape[0])\n",
    "display(_real_k_values)\n",
    "assert np.all(ensemble[\"n_clusters\"].values == _real_k_values.values)"
   ]
  },
  {
   "cell_type": "markdown",
   "metadata": {
    "papermill": {
     "duration": 0.104031,
     "end_time": "2021-03-09T21:49:19.582696",
     "exception": false,
     "start_time": "2021-03-09T21:49:19.478665",
     "status": "completed"
    },
    "tags": []
   },
   "source": [
    "## Add clustering quality measures"
   ]
  },
  {
   "cell_type": "code",
   "execution_count": 42,
   "metadata": {
    "execution": {
     "iopub.execute_input": "2021-03-09T21:49:19.795616Z",
     "iopub.status.busy": "2021-03-09T21:49:19.795257Z",
     "iopub.status.idle": "2021-03-09T21:49:19.805823Z",
     "shell.execute_reply": "2021-03-09T21:49:19.805496Z"
    },
    "papermill": {
     "duration": 0.119557,
     "end_time": "2021-03-09T21:49:19.805911",
     "exception": false,
     "start_time": "2021-03-09T21:49:19.686354",
     "status": "completed"
    },
    "tags": []
   },
   "outputs": [],
   "source": [
    "from sklearn.metrics import (\n",
    "    silhouette_score,\n",
    "    calinski_harabasz_score,\n",
    "    davies_bouldin_score,\n",
    ")"
   ]
  },
  {
   "cell_type": "code",
   "execution_count": 43,
   "metadata": {
    "execution": {
     "iopub.execute_input": "2021-03-09T21:49:20.018459Z",
     "iopub.status.busy": "2021-03-09T21:49:20.018099Z",
     "iopub.status.idle": "2021-03-09T21:52:06.529245Z",
     "shell.execute_reply": "2021-03-09T21:52:06.528652Z"
    },
    "papermill": {
     "duration": 166.618421,
     "end_time": "2021-03-09T21:52:06.529355",
     "exception": false,
     "start_time": "2021-03-09T21:49:19.910934",
     "status": "completed"
    },
    "tags": []
   },
   "outputs": [],
   "source": [
    "ensemble = ensemble.assign(\n",
    "    si_score=ensemble[\"partition\"].apply(lambda x: silhouette_score(data, x)),\n",
    "    ch_score=ensemble[\"partition\"].apply(lambda x: calinski_harabasz_score(data, x)),\n",
    "    db_score=ensemble[\"partition\"].apply(lambda x: davies_bouldin_score(data, x)),\n",
    ")"
   ]
  },
  {
   "cell_type": "code",
   "execution_count": 44,
   "metadata": {
    "execution": {
     "iopub.execute_input": "2021-03-09T21:52:07.563160Z",
     "iopub.status.busy": "2021-03-09T21:52:07.561629Z",
     "iopub.status.idle": "2021-03-09T21:52:07.576292Z",
     "shell.execute_reply": "2021-03-09T21:52:07.575902Z"
    },
    "papermill": {
     "duration": 0.936026,
     "end_time": "2021-03-09T21:52:07.576382",
     "exception": false,
     "start_time": "2021-03-09T21:52:06.640356",
     "status": "completed"
    },
    "tags": []
   },
   "outputs": [
    {
     "data": {
      "text/plain": [
       "(450, 7)"
      ]
     },
     "execution_count": 44,
     "metadata": {},
     "output_type": "execute_result"
    }
   ],
   "source": [
    "ensemble.shape"
   ]
  },
  {
   "cell_type": "code",
   "execution_count": 45,
   "metadata": {
    "execution": {
     "iopub.execute_input": "2021-03-09T21:52:07.791228Z",
     "iopub.status.busy": "2021-03-09T21:52:07.790870Z",
     "iopub.status.idle": "2021-03-09T21:52:07.810541Z",
     "shell.execute_reply": "2021-03-09T21:52:07.810173Z"
    },
    "papermill": {
     "duration": 0.127359,
     "end_time": "2021-03-09T21:52:07.810626",
     "exception": false,
     "start_time": "2021-03-09T21:52:07.683267",
     "status": "completed"
    },
    "tags": []
   },
   "outputs": [
    {
     "data": {
      "text/html": [
       "<div>\n",
       "<style scoped>\n",
       "    .dataframe tbody tr th:only-of-type {\n",
       "        vertical-align: middle;\n",
       "    }\n",
       "\n",
       "    .dataframe tbody tr th {\n",
       "        vertical-align: top;\n",
       "    }\n",
       "\n",
       "    .dataframe thead th {\n",
       "        text-align: right;\n",
       "    }\n",
       "</style>\n",
       "<table border=\"1\" class=\"dataframe\">\n",
       "  <thead>\n",
       "    <tr style=\"text-align: right;\">\n",
       "      <th></th>\n",
       "      <th>clusterer_params</th>\n",
       "      <th>partition</th>\n",
       "      <th>n_clusters</th>\n",
       "      <th>gamma</th>\n",
       "      <th>si_score</th>\n",
       "      <th>ch_score</th>\n",
       "      <th>db_score</th>\n",
       "    </tr>\n",
       "    <tr>\n",
       "      <th>clusterer_id</th>\n",
       "      <th></th>\n",
       "      <th></th>\n",
       "      <th></th>\n",
       "      <th></th>\n",
       "      <th></th>\n",
       "      <th></th>\n",
       "      <th></th>\n",
       "    </tr>\n",
       "  </thead>\n",
       "  <tbody>\n",
       "    <tr>\n",
       "      <th>SpectralClustering #0</th>\n",
       "      <td>{'affinity': 'rbf', 'assign_labels': 'kmeans',...</td>\n",
       "      <td>[0.0, 0.0, 0.0, 0.0, 0.0, 0.0, 0.0, 0.0, 0.0, ...</td>\n",
       "      <td>2</td>\n",
       "      <td>1.0e-03</td>\n",
       "      <td>0.150591</td>\n",
       "      <td>41.033402</td>\n",
       "      <td>3.024181</td>\n",
       "    </tr>\n",
       "    <tr>\n",
       "      <th>SpectralClustering #1</th>\n",
       "      <td>{'affinity': 'rbf', 'assign_labels': 'kmeans',...</td>\n",
       "      <td>[0.0, 0.0, 0.0, 0.0, 0.0, 0.0, 0.0, 0.0, 0.0, ...</td>\n",
       "      <td>2</td>\n",
       "      <td>1.0e-03</td>\n",
       "      <td>0.150591</td>\n",
       "      <td>41.033402</td>\n",
       "      <td>3.024181</td>\n",
       "    </tr>\n",
       "    <tr>\n",
       "      <th>SpectralClustering #2</th>\n",
       "      <td>{'affinity': 'rbf', 'assign_labels': 'kmeans',...</td>\n",
       "      <td>[0.0, 0.0, 0.0, 0.0, 0.0, 0.0, 0.0, 0.0, 0.0, ...</td>\n",
       "      <td>2</td>\n",
       "      <td>1.0e-03</td>\n",
       "      <td>0.150591</td>\n",
       "      <td>41.033402</td>\n",
       "      <td>3.024181</td>\n",
       "    </tr>\n",
       "    <tr>\n",
       "      <th>SpectralClustering #3</th>\n",
       "      <td>{'affinity': 'rbf', 'assign_labels': 'kmeans',...</td>\n",
       "      <td>[0.0, 0.0, 0.0, 0.0, 0.0, 0.0, 0.0, 0.0, 0.0, ...</td>\n",
       "      <td>2</td>\n",
       "      <td>1.0e-03</td>\n",
       "      <td>0.150591</td>\n",
       "      <td>41.033402</td>\n",
       "      <td>3.024181</td>\n",
       "    </tr>\n",
       "    <tr>\n",
       "      <th>SpectralClustering #4</th>\n",
       "      <td>{'affinity': 'rbf', 'assign_labels': 'kmeans',...</td>\n",
       "      <td>[0.0, 0.0, 0.0, 0.0, 0.0, 0.0, 0.0, 0.0, 0.0, ...</td>\n",
       "      <td>2</td>\n",
       "      <td>1.0e-03</td>\n",
       "      <td>0.150591</td>\n",
       "      <td>41.033402</td>\n",
       "      <td>3.024181</td>\n",
       "    </tr>\n",
       "  </tbody>\n",
       "</table>\n",
       "</div>"
      ],
      "text/plain": [
       "                                                        clusterer_params  \\\n",
       "clusterer_id                                                               \n",
       "SpectralClustering #0  {'affinity': 'rbf', 'assign_labels': 'kmeans',...   \n",
       "SpectralClustering #1  {'affinity': 'rbf', 'assign_labels': 'kmeans',...   \n",
       "SpectralClustering #2  {'affinity': 'rbf', 'assign_labels': 'kmeans',...   \n",
       "SpectralClustering #3  {'affinity': 'rbf', 'assign_labels': 'kmeans',...   \n",
       "SpectralClustering #4  {'affinity': 'rbf', 'assign_labels': 'kmeans',...   \n",
       "\n",
       "                                                               partition  \\\n",
       "clusterer_id                                                               \n",
       "SpectralClustering #0  [0.0, 0.0, 0.0, 0.0, 0.0, 0.0, 0.0, 0.0, 0.0, ...   \n",
       "SpectralClustering #1  [0.0, 0.0, 0.0, 0.0, 0.0, 0.0, 0.0, 0.0, 0.0, ...   \n",
       "SpectralClustering #2  [0.0, 0.0, 0.0, 0.0, 0.0, 0.0, 0.0, 0.0, 0.0, ...   \n",
       "SpectralClustering #3  [0.0, 0.0, 0.0, 0.0, 0.0, 0.0, 0.0, 0.0, 0.0, ...   \n",
       "SpectralClustering #4  [0.0, 0.0, 0.0, 0.0, 0.0, 0.0, 0.0, 0.0, 0.0, ...   \n",
       "\n",
       "                       n_clusters    gamma  si_score   ch_score  db_score  \n",
       "clusterer_id                                                               \n",
       "SpectralClustering #0           2  1.0e-03  0.150591  41.033402  3.024181  \n",
       "SpectralClustering #1           2  1.0e-03  0.150591  41.033402  3.024181  \n",
       "SpectralClustering #2           2  1.0e-03  0.150591  41.033402  3.024181  \n",
       "SpectralClustering #3           2  1.0e-03  0.150591  41.033402  3.024181  \n",
       "SpectralClustering #4           2  1.0e-03  0.150591  41.033402  3.024181  "
      ]
     },
     "execution_count": 45,
     "metadata": {},
     "output_type": "execute_result"
    }
   ],
   "source": [
    "ensemble.head()"
   ]
  },
  {
   "cell_type": "markdown",
   "metadata": {
    "papermill": {
     "duration": 0.106383,
     "end_time": "2021-03-09T21:52:08.023473",
     "exception": false,
     "start_time": "2021-03-09T21:52:07.917090",
     "status": "completed"
    },
    "tags": []
   },
   "source": [
    "# Cluster quality"
   ]
  },
  {
   "cell_type": "code",
   "execution_count": 46,
   "metadata": {
    "execution": {
     "iopub.execute_input": "2021-03-09T21:52:08.238324Z",
     "iopub.status.busy": "2021-03-09T21:52:08.237965Z",
     "iopub.status.idle": "2021-03-09T21:52:08.259579Z",
     "shell.execute_reply": "2021-03-09T21:52:08.259209Z"
    },
    "papermill": {
     "duration": 0.13081,
     "end_time": "2021-03-09T21:52:08.259665",
     "exception": false,
     "start_time": "2021-03-09T21:52:08.128855",
     "status": "completed"
    },
    "tags": []
   },
   "outputs": [
    {
     "data": {
      "text/html": [
       "<div>\n",
       "<style scoped>\n",
       "    .dataframe tbody tr th:only-of-type {\n",
       "        vertical-align: middle;\n",
       "    }\n",
       "\n",
       "    .dataframe tbody tr th {\n",
       "        vertical-align: top;\n",
       "    }\n",
       "\n",
       "    .dataframe thead th {\n",
       "        text-align: right;\n",
       "    }\n",
       "</style>\n",
       "<table border=\"1\" class=\"dataframe\">\n",
       "  <thead>\n",
       "    <tr style=\"text-align: right;\">\n",
       "      <th></th>\n",
       "      <th></th>\n",
       "      <th>si_score</th>\n",
       "      <th>ch_score</th>\n",
       "      <th>db_score</th>\n",
       "    </tr>\n",
       "    <tr>\n",
       "      <th>n_clusters</th>\n",
       "      <th>gamma</th>\n",
       "      <th></th>\n",
       "      <th></th>\n",
       "      <th></th>\n",
       "    </tr>\n",
       "  </thead>\n",
       "  <tbody>\n",
       "    <tr>\n",
       "      <th rowspan=\"9\" valign=\"top\">2</th>\n",
       "      <th>1.0e-03</th>\n",
       "      <td>0.150591</td>\n",
       "      <td>41.033402</td>\n",
       "      <td>3.024181</td>\n",
       "    </tr>\n",
       "    <tr>\n",
       "      <th>1.0e-05</th>\n",
       "      <td>0.115500</td>\n",
       "      <td>48.835638</td>\n",
       "      <td>4.233984</td>\n",
       "    </tr>\n",
       "    <tr>\n",
       "      <th>1.0e-10</th>\n",
       "      <td>0.115500</td>\n",
       "      <td>48.835638</td>\n",
       "      <td>4.233984</td>\n",
       "    </tr>\n",
       "    <tr>\n",
       "      <th>1.0e-15</th>\n",
       "      <td>0.110206</td>\n",
       "      <td>48.621876</td>\n",
       "      <td>4.361577</td>\n",
       "    </tr>\n",
       "    <tr>\n",
       "      <th>1.0e-17</th>\n",
       "      <td>-0.003217</td>\n",
       "      <td>1.001528</td>\n",
       "      <td>8.903445</td>\n",
       "    </tr>\n",
       "    <tr>\n",
       "      <th>1.0e-20</th>\n",
       "      <td>-0.001429</td>\n",
       "      <td>1.042379</td>\n",
       "      <td>17.918396</td>\n",
       "    </tr>\n",
       "    <tr>\n",
       "      <th>1.0e-30</th>\n",
       "      <td>0.002102</td>\n",
       "      <td>0.998253</td>\n",
       "      <td>25.938657</td>\n",
       "    </tr>\n",
       "    <tr>\n",
       "      <th>1.0e-40</th>\n",
       "      <td>0.008068</td>\n",
       "      <td>1.027829</td>\n",
       "      <td>6.679372</td>\n",
       "    </tr>\n",
       "    <tr>\n",
       "      <th>1.0e-50</th>\n",
       "      <td>0.004239</td>\n",
       "      <td>0.955074</td>\n",
       "      <td>11.985777</td>\n",
       "    </tr>\n",
       "    <tr>\n",
       "      <th rowspan=\"9\" valign=\"top\">4</th>\n",
       "      <th>1.0e-03</th>\n",
       "      <td>0.078817</td>\n",
       "      <td>20.727474</td>\n",
       "      <td>1.706998</td>\n",
       "    </tr>\n",
       "    <tr>\n",
       "      <th>1.0e-05</th>\n",
       "      <td>0.076045</td>\n",
       "      <td>26.753358</td>\n",
       "      <td>2.995443</td>\n",
       "    </tr>\n",
       "    <tr>\n",
       "      <th>1.0e-10</th>\n",
       "      <td>0.079387</td>\n",
       "      <td>26.813536</td>\n",
       "      <td>3.018086</td>\n",
       "    </tr>\n",
       "    <tr>\n",
       "      <th>1.0e-15</th>\n",
       "      <td>0.065600</td>\n",
       "      <td>26.915540</td>\n",
       "      <td>3.534388</td>\n",
       "    </tr>\n",
       "    <tr>\n",
       "      <th>1.0e-17</th>\n",
       "      <td>-0.017939</td>\n",
       "      <td>1.003614</td>\n",
       "      <td>19.950411</td>\n",
       "    </tr>\n",
       "    <tr>\n",
       "      <th>1.0e-20</th>\n",
       "      <td>-0.010200</td>\n",
       "      <td>1.029468</td>\n",
       "      <td>20.414273</td>\n",
       "    </tr>\n",
       "    <tr>\n",
       "      <th>1.0e-30</th>\n",
       "      <td>-0.013717</td>\n",
       "      <td>0.973200</td>\n",
       "      <td>18.315348</td>\n",
       "    </tr>\n",
       "    <tr>\n",
       "      <th>1.0e-40</th>\n",
       "      <td>-0.007470</td>\n",
       "      <td>1.007899</td>\n",
       "      <td>11.569401</td>\n",
       "    </tr>\n",
       "    <tr>\n",
       "      <th>1.0e-50</th>\n",
       "      <td>-0.011378</td>\n",
       "      <td>1.011299</td>\n",
       "      <td>18.275736</td>\n",
       "    </tr>\n",
       "    <tr>\n",
       "      <th rowspan=\"9\" valign=\"top\">6</th>\n",
       "      <th>1.0e-03</th>\n",
       "      <td>0.103986</td>\n",
       "      <td>13.017423</td>\n",
       "      <td>1.082495</td>\n",
       "    </tr>\n",
       "    <tr>\n",
       "      <th>1.0e-05</th>\n",
       "      <td>0.059819</td>\n",
       "      <td>21.267711</td>\n",
       "      <td>3.029618</td>\n",
       "    </tr>\n",
       "    <tr>\n",
       "      <th>1.0e-10</th>\n",
       "      <td>0.042455</td>\n",
       "      <td>21.200700</td>\n",
       "      <td>3.335703</td>\n",
       "    </tr>\n",
       "    <tr>\n",
       "      <th>1.0e-15</th>\n",
       "      <td>0.016983</td>\n",
       "      <td>21.529531</td>\n",
       "      <td>4.742925</td>\n",
       "    </tr>\n",
       "    <tr>\n",
       "      <th>1.0e-17</th>\n",
       "      <td>-0.030128</td>\n",
       "      <td>0.989083</td>\n",
       "      <td>22.733668</td>\n",
       "    </tr>\n",
       "    <tr>\n",
       "      <th>1.0e-20</th>\n",
       "      <td>-0.037293</td>\n",
       "      <td>0.982144</td>\n",
       "      <td>16.638146</td>\n",
       "    </tr>\n",
       "    <tr>\n",
       "      <th>1.0e-30</th>\n",
       "      <td>-0.011646</td>\n",
       "      <td>1.016130</td>\n",
       "      <td>15.926247</td>\n",
       "    </tr>\n",
       "    <tr>\n",
       "      <th>1.0e-40</th>\n",
       "      <td>-0.031208</td>\n",
       "      <td>0.985478</td>\n",
       "      <td>10.427630</td>\n",
       "    </tr>\n",
       "    <tr>\n",
       "      <th>1.0e-50</th>\n",
       "      <td>-0.016274</td>\n",
       "      <td>1.010549</td>\n",
       "      <td>18.181217</td>\n",
       "    </tr>\n",
       "    <tr>\n",
       "      <th rowspan=\"9\" valign=\"top\">8</th>\n",
       "      <th>1.0e-03</th>\n",
       "      <td>0.082819</td>\n",
       "      <td>12.333725</td>\n",
       "      <td>1.229475</td>\n",
       "    </tr>\n",
       "    <tr>\n",
       "      <th>1.0e-05</th>\n",
       "      <td>0.018254</td>\n",
       "      <td>19.081450</td>\n",
       "      <td>3.780601</td>\n",
       "    </tr>\n",
       "    <tr>\n",
       "      <th>1.0e-10</th>\n",
       "      <td>0.014179</td>\n",
       "      <td>18.705418</td>\n",
       "      <td>5.536760</td>\n",
       "    </tr>\n",
       "    <tr>\n",
       "      <th>1.0e-15</th>\n",
       "      <td>0.010458</td>\n",
       "      <td>18.428874</td>\n",
       "      <td>7.075794</td>\n",
       "    </tr>\n",
       "    <tr>\n",
       "      <th>1.0e-17</th>\n",
       "      <td>-0.025015</td>\n",
       "      <td>1.000551</td>\n",
       "      <td>17.201551</td>\n",
       "    </tr>\n",
       "    <tr>\n",
       "      <th>1.0e-20</th>\n",
       "      <td>-0.018591</td>\n",
       "      <td>1.018767</td>\n",
       "      <td>16.024628</td>\n",
       "    </tr>\n",
       "    <tr>\n",
       "      <th>1.0e-30</th>\n",
       "      <td>-0.017955</td>\n",
       "      <td>1.010126</td>\n",
       "      <td>18.808013</td>\n",
       "    </tr>\n",
       "    <tr>\n",
       "      <th>1.0e-40</th>\n",
       "      <td>-0.028988</td>\n",
       "      <td>0.997285</td>\n",
       "      <td>14.127973</td>\n",
       "    </tr>\n",
       "    <tr>\n",
       "      <th>1.0e-50</th>\n",
       "      <td>-0.020126</td>\n",
       "      <td>1.015440</td>\n",
       "      <td>16.096001</td>\n",
       "    </tr>\n",
       "    <tr>\n",
       "      <th rowspan=\"9\" valign=\"top\">10</th>\n",
       "      <th>1.0e-03</th>\n",
       "      <td>0.084417</td>\n",
       "      <td>11.535573</td>\n",
       "      <td>1.097601</td>\n",
       "    </tr>\n",
       "    <tr>\n",
       "      <th>1.0e-05</th>\n",
       "      <td>0.010778</td>\n",
       "      <td>17.026554</td>\n",
       "      <td>5.897892</td>\n",
       "    </tr>\n",
       "    <tr>\n",
       "      <th>1.0e-10</th>\n",
       "      <td>0.011103</td>\n",
       "      <td>17.020568</td>\n",
       "      <td>5.681249</td>\n",
       "    </tr>\n",
       "    <tr>\n",
       "      <th>1.0e-15</th>\n",
       "      <td>0.005791</td>\n",
       "      <td>15.609472</td>\n",
       "      <td>8.948770</td>\n",
       "    </tr>\n",
       "    <tr>\n",
       "      <th>1.0e-17</th>\n",
       "      <td>-0.019612</td>\n",
       "      <td>1.011058</td>\n",
       "      <td>12.277929</td>\n",
       "    </tr>\n",
       "    <tr>\n",
       "      <th>1.0e-20</th>\n",
       "      <td>-0.019378</td>\n",
       "      <td>0.992747</td>\n",
       "      <td>14.998366</td>\n",
       "    </tr>\n",
       "    <tr>\n",
       "      <th>1.0e-30</th>\n",
       "      <td>-0.025109</td>\n",
       "      <td>0.983961</td>\n",
       "      <td>12.283353</td>\n",
       "    </tr>\n",
       "    <tr>\n",
       "      <th>1.0e-40</th>\n",
       "      <td>-0.018929</td>\n",
       "      <td>1.025469</td>\n",
       "      <td>13.933775</td>\n",
       "    </tr>\n",
       "    <tr>\n",
       "      <th>1.0e-50</th>\n",
       "      <td>-0.026812</td>\n",
       "      <td>1.010606</td>\n",
       "      <td>15.584400</td>\n",
       "    </tr>\n",
       "    <tr>\n",
       "      <th rowspan=\"9\" valign=\"top\">20</th>\n",
       "      <th>1.0e-03</th>\n",
       "      <td>0.010572</td>\n",
       "      <td>10.163655</td>\n",
       "      <td>2.421446</td>\n",
       "    </tr>\n",
       "    <tr>\n",
       "      <th>1.0e-05</th>\n",
       "      <td>0.006207</td>\n",
       "      <td>11.549773</td>\n",
       "      <td>6.472166</td>\n",
       "    </tr>\n",
       "    <tr>\n",
       "      <th>1.0e-10</th>\n",
       "      <td>0.005902</td>\n",
       "      <td>11.355356</td>\n",
       "      <td>6.739568</td>\n",
       "    </tr>\n",
       "    <tr>\n",
       "      <th>1.0e-15</th>\n",
       "      <td>0.002759</td>\n",
       "      <td>10.172253</td>\n",
       "      <td>9.084643</td>\n",
       "    </tr>\n",
       "    <tr>\n",
       "      <th>1.0e-17</th>\n",
       "      <td>-0.048648</td>\n",
       "      <td>0.996599</td>\n",
       "      <td>9.462206</td>\n",
       "    </tr>\n",
       "    <tr>\n",
       "      <th>1.0e-20</th>\n",
       "      <td>-0.032289</td>\n",
       "      <td>1.016761</td>\n",
       "      <td>10.665900</td>\n",
       "    </tr>\n",
       "    <tr>\n",
       "      <th>1.0e-30</th>\n",
       "      <td>-0.029503</td>\n",
       "      <td>1.036246</td>\n",
       "      <td>11.047230</td>\n",
       "    </tr>\n",
       "    <tr>\n",
       "      <th>1.0e-40</th>\n",
       "      <td>-0.046406</td>\n",
       "      <td>0.989425</td>\n",
       "      <td>10.806898</td>\n",
       "    </tr>\n",
       "    <tr>\n",
       "      <th>1.0e-50</th>\n",
       "      <td>-0.072156</td>\n",
       "      <td>1.000276</td>\n",
       "      <td>9.492275</td>\n",
       "    </tr>\n",
       "    <tr>\n",
       "      <th rowspan=\"9\" valign=\"top\">30</th>\n",
       "      <th>1.0e-03</th>\n",
       "      <td>0.004226</td>\n",
       "      <td>8.552771</td>\n",
       "      <td>3.442563</td>\n",
       "    </tr>\n",
       "    <tr>\n",
       "      <th>1.0e-05</th>\n",
       "      <td>0.001795</td>\n",
       "      <td>8.979579</td>\n",
       "      <td>6.485192</td>\n",
       "    </tr>\n",
       "    <tr>\n",
       "      <th>1.0e-10</th>\n",
       "      <td>0.002774</td>\n",
       "      <td>9.024807</td>\n",
       "      <td>6.243959</td>\n",
       "    </tr>\n",
       "    <tr>\n",
       "      <th>1.0e-15</th>\n",
       "      <td>0.002125</td>\n",
       "      <td>7.602804</td>\n",
       "      <td>8.746604</td>\n",
       "    </tr>\n",
       "    <tr>\n",
       "      <th>1.0e-17</th>\n",
       "      <td>-0.086008</td>\n",
       "      <td>1.003078</td>\n",
       "      <td>8.372621</td>\n",
       "    </tr>\n",
       "    <tr>\n",
       "      <th>1.0e-20</th>\n",
       "      <td>-0.063216</td>\n",
       "      <td>1.034432</td>\n",
       "      <td>7.987213</td>\n",
       "    </tr>\n",
       "    <tr>\n",
       "      <th>1.0e-30</th>\n",
       "      <td>-0.053333</td>\n",
       "      <td>1.004962</td>\n",
       "      <td>9.189640</td>\n",
       "    </tr>\n",
       "    <tr>\n",
       "      <th>1.0e-40</th>\n",
       "      <td>-0.048905</td>\n",
       "      <td>0.996519</td>\n",
       "      <td>8.578253</td>\n",
       "    </tr>\n",
       "    <tr>\n",
       "      <th>1.0e-50</th>\n",
       "      <td>-0.055735</td>\n",
       "      <td>1.005768</td>\n",
       "      <td>7.293853</td>\n",
       "    </tr>\n",
       "    <tr>\n",
       "      <th rowspan=\"9\" valign=\"top\">40</th>\n",
       "      <th>1.0e-03</th>\n",
       "      <td>-0.000231</td>\n",
       "      <td>7.513210</td>\n",
       "      <td>3.816455</td>\n",
       "    </tr>\n",
       "    <tr>\n",
       "      <th>1.0e-05</th>\n",
       "      <td>0.001366</td>\n",
       "      <td>7.590853</td>\n",
       "      <td>6.202477</td>\n",
       "    </tr>\n",
       "    <tr>\n",
       "      <th>1.0e-10</th>\n",
       "      <td>0.002545</td>\n",
       "      <td>7.542828</td>\n",
       "      <td>6.192754</td>\n",
       "    </tr>\n",
       "    <tr>\n",
       "      <th>1.0e-15</th>\n",
       "      <td>0.000853</td>\n",
       "      <td>6.177065</td>\n",
       "      <td>8.462733</td>\n",
       "    </tr>\n",
       "    <tr>\n",
       "      <th>1.0e-17</th>\n",
       "      <td>-0.075604</td>\n",
       "      <td>1.015395</td>\n",
       "      <td>7.452214</td>\n",
       "    </tr>\n",
       "    <tr>\n",
       "      <th>1.0e-20</th>\n",
       "      <td>-0.048360</td>\n",
       "      <td>1.006736</td>\n",
       "      <td>7.465529</td>\n",
       "    </tr>\n",
       "    <tr>\n",
       "      <th>1.0e-30</th>\n",
       "      <td>-0.073960</td>\n",
       "      <td>1.009566</td>\n",
       "      <td>7.083315</td>\n",
       "    </tr>\n",
       "    <tr>\n",
       "      <th>1.0e-40</th>\n",
       "      <td>-0.065871</td>\n",
       "      <td>1.034402</td>\n",
       "      <td>7.402041</td>\n",
       "    </tr>\n",
       "    <tr>\n",
       "      <th>1.0e-50</th>\n",
       "      <td>-0.061112</td>\n",
       "      <td>1.016439</td>\n",
       "      <td>7.789837</td>\n",
       "    </tr>\n",
       "    <tr>\n",
       "      <th rowspan=\"9\" valign=\"top\">50</th>\n",
       "      <th>1.0e-03</th>\n",
       "      <td>-0.001141</td>\n",
       "      <td>6.636880</td>\n",
       "      <td>4.005213</td>\n",
       "    </tr>\n",
       "    <tr>\n",
       "      <th>1.0e-05</th>\n",
       "      <td>0.005228</td>\n",
       "      <td>6.677467</td>\n",
       "      <td>5.986572</td>\n",
       "    </tr>\n",
       "    <tr>\n",
       "      <th>1.0e-10</th>\n",
       "      <td>0.001216</td>\n",
       "      <td>6.746160</td>\n",
       "      <td>5.710713</td>\n",
       "    </tr>\n",
       "    <tr>\n",
       "      <th>1.0e-15</th>\n",
       "      <td>-0.016907</td>\n",
       "      <td>5.175139</td>\n",
       "      <td>8.118365</td>\n",
       "    </tr>\n",
       "    <tr>\n",
       "      <th>1.0e-17</th>\n",
       "      <td>-0.087778</td>\n",
       "      <td>1.012669</td>\n",
       "      <td>6.807868</td>\n",
       "    </tr>\n",
       "    <tr>\n",
       "      <th>1.0e-20</th>\n",
       "      <td>-0.052373</td>\n",
       "      <td>0.997842</td>\n",
       "      <td>7.321878</td>\n",
       "    </tr>\n",
       "    <tr>\n",
       "      <th>1.0e-30</th>\n",
       "      <td>-0.059068</td>\n",
       "      <td>1.009838</td>\n",
       "      <td>6.061294</td>\n",
       "    </tr>\n",
       "    <tr>\n",
       "      <th>1.0e-40</th>\n",
       "      <td>-0.068767</td>\n",
       "      <td>1.007853</td>\n",
       "      <td>7.050158</td>\n",
       "    </tr>\n",
       "    <tr>\n",
       "      <th>1.0e-50</th>\n",
       "      <td>-0.075157</td>\n",
       "      <td>1.008106</td>\n",
       "      <td>6.692955</td>\n",
       "    </tr>\n",
       "    <tr>\n",
       "      <th rowspan=\"9\" valign=\"top\">60</th>\n",
       "      <th>1.0e-03</th>\n",
       "      <td>0.002081</td>\n",
       "      <td>6.064527</td>\n",
       "      <td>3.865740</td>\n",
       "    </tr>\n",
       "    <tr>\n",
       "      <th>1.0e-05</th>\n",
       "      <td>0.003107</td>\n",
       "      <td>6.102765</td>\n",
       "      <td>5.342202</td>\n",
       "    </tr>\n",
       "    <tr>\n",
       "      <th>1.0e-10</th>\n",
       "      <td>0.003711</td>\n",
       "      <td>6.112597</td>\n",
       "      <td>5.307832</td>\n",
       "    </tr>\n",
       "    <tr>\n",
       "      <th>1.0e-15</th>\n",
       "      <td>-0.007051</td>\n",
       "      <td>4.566114</td>\n",
       "      <td>7.493384</td>\n",
       "    </tr>\n",
       "    <tr>\n",
       "      <th>1.0e-17</th>\n",
       "      <td>-0.095454</td>\n",
       "      <td>0.999365</td>\n",
       "      <td>6.930087</td>\n",
       "    </tr>\n",
       "    <tr>\n",
       "      <th>1.0e-20</th>\n",
       "      <td>-0.091179</td>\n",
       "      <td>0.994771</td>\n",
       "      <td>6.179605</td>\n",
       "    </tr>\n",
       "    <tr>\n",
       "      <th>1.0e-30</th>\n",
       "      <td>-0.114329</td>\n",
       "      <td>1.009539</td>\n",
       "      <td>6.433750</td>\n",
       "    </tr>\n",
       "    <tr>\n",
       "      <th>1.0e-40</th>\n",
       "      <td>-0.070125</td>\n",
       "      <td>1.004341</td>\n",
       "      <td>6.161479</td>\n",
       "    </tr>\n",
       "    <tr>\n",
       "      <th>1.0e-50</th>\n",
       "      <td>-0.078048</td>\n",
       "      <td>1.019589</td>\n",
       "      <td>6.041044</td>\n",
       "    </tr>\n",
       "  </tbody>\n",
       "</table>\n",
       "</div>"
      ],
      "text/plain": [
       "                    si_score   ch_score   db_score\n",
       "n_clusters gamma                                  \n",
       "2          1.0e-03  0.150591  41.033402   3.024181\n",
       "           1.0e-05  0.115500  48.835638   4.233984\n",
       "           1.0e-10  0.115500  48.835638   4.233984\n",
       "           1.0e-15  0.110206  48.621876   4.361577\n",
       "           1.0e-17 -0.003217   1.001528   8.903445\n",
       "           1.0e-20 -0.001429   1.042379  17.918396\n",
       "           1.0e-30  0.002102   0.998253  25.938657\n",
       "           1.0e-40  0.008068   1.027829   6.679372\n",
       "           1.0e-50  0.004239   0.955074  11.985777\n",
       "4          1.0e-03  0.078817  20.727474   1.706998\n",
       "           1.0e-05  0.076045  26.753358   2.995443\n",
       "           1.0e-10  0.079387  26.813536   3.018086\n",
       "           1.0e-15  0.065600  26.915540   3.534388\n",
       "           1.0e-17 -0.017939   1.003614  19.950411\n",
       "           1.0e-20 -0.010200   1.029468  20.414273\n",
       "           1.0e-30 -0.013717   0.973200  18.315348\n",
       "           1.0e-40 -0.007470   1.007899  11.569401\n",
       "           1.0e-50 -0.011378   1.011299  18.275736\n",
       "6          1.0e-03  0.103986  13.017423   1.082495\n",
       "           1.0e-05  0.059819  21.267711   3.029618\n",
       "           1.0e-10  0.042455  21.200700   3.335703\n",
       "           1.0e-15  0.016983  21.529531   4.742925\n",
       "           1.0e-17 -0.030128   0.989083  22.733668\n",
       "           1.0e-20 -0.037293   0.982144  16.638146\n",
       "           1.0e-30 -0.011646   1.016130  15.926247\n",
       "           1.0e-40 -0.031208   0.985478  10.427630\n",
       "           1.0e-50 -0.016274   1.010549  18.181217\n",
       "8          1.0e-03  0.082819  12.333725   1.229475\n",
       "           1.0e-05  0.018254  19.081450   3.780601\n",
       "           1.0e-10  0.014179  18.705418   5.536760\n",
       "           1.0e-15  0.010458  18.428874   7.075794\n",
       "           1.0e-17 -0.025015   1.000551  17.201551\n",
       "           1.0e-20 -0.018591   1.018767  16.024628\n",
       "           1.0e-30 -0.017955   1.010126  18.808013\n",
       "           1.0e-40 -0.028988   0.997285  14.127973\n",
       "           1.0e-50 -0.020126   1.015440  16.096001\n",
       "10         1.0e-03  0.084417  11.535573   1.097601\n",
       "           1.0e-05  0.010778  17.026554   5.897892\n",
       "           1.0e-10  0.011103  17.020568   5.681249\n",
       "           1.0e-15  0.005791  15.609472   8.948770\n",
       "           1.0e-17 -0.019612   1.011058  12.277929\n",
       "           1.0e-20 -0.019378   0.992747  14.998366\n",
       "           1.0e-30 -0.025109   0.983961  12.283353\n",
       "           1.0e-40 -0.018929   1.025469  13.933775\n",
       "           1.0e-50 -0.026812   1.010606  15.584400\n",
       "20         1.0e-03  0.010572  10.163655   2.421446\n",
       "           1.0e-05  0.006207  11.549773   6.472166\n",
       "           1.0e-10  0.005902  11.355356   6.739568\n",
       "           1.0e-15  0.002759  10.172253   9.084643\n",
       "           1.0e-17 -0.048648   0.996599   9.462206\n",
       "           1.0e-20 -0.032289   1.016761  10.665900\n",
       "           1.0e-30 -0.029503   1.036246  11.047230\n",
       "           1.0e-40 -0.046406   0.989425  10.806898\n",
       "           1.0e-50 -0.072156   1.000276   9.492275\n",
       "30         1.0e-03  0.004226   8.552771   3.442563\n",
       "           1.0e-05  0.001795   8.979579   6.485192\n",
       "           1.0e-10  0.002774   9.024807   6.243959\n",
       "           1.0e-15  0.002125   7.602804   8.746604\n",
       "           1.0e-17 -0.086008   1.003078   8.372621\n",
       "           1.0e-20 -0.063216   1.034432   7.987213\n",
       "           1.0e-30 -0.053333   1.004962   9.189640\n",
       "           1.0e-40 -0.048905   0.996519   8.578253\n",
       "           1.0e-50 -0.055735   1.005768   7.293853\n",
       "40         1.0e-03 -0.000231   7.513210   3.816455\n",
       "           1.0e-05  0.001366   7.590853   6.202477\n",
       "           1.0e-10  0.002545   7.542828   6.192754\n",
       "           1.0e-15  0.000853   6.177065   8.462733\n",
       "           1.0e-17 -0.075604   1.015395   7.452214\n",
       "           1.0e-20 -0.048360   1.006736   7.465529\n",
       "           1.0e-30 -0.073960   1.009566   7.083315\n",
       "           1.0e-40 -0.065871   1.034402   7.402041\n",
       "           1.0e-50 -0.061112   1.016439   7.789837\n",
       "50         1.0e-03 -0.001141   6.636880   4.005213\n",
       "           1.0e-05  0.005228   6.677467   5.986572\n",
       "           1.0e-10  0.001216   6.746160   5.710713\n",
       "           1.0e-15 -0.016907   5.175139   8.118365\n",
       "           1.0e-17 -0.087778   1.012669   6.807868\n",
       "           1.0e-20 -0.052373   0.997842   7.321878\n",
       "           1.0e-30 -0.059068   1.009838   6.061294\n",
       "           1.0e-40 -0.068767   1.007853   7.050158\n",
       "           1.0e-50 -0.075157   1.008106   6.692955\n",
       "60         1.0e-03  0.002081   6.064527   3.865740\n",
       "           1.0e-05  0.003107   6.102765   5.342202\n",
       "           1.0e-10  0.003711   6.112597   5.307832\n",
       "           1.0e-15 -0.007051   4.566114   7.493384\n",
       "           1.0e-17 -0.095454   0.999365   6.930087\n",
       "           1.0e-20 -0.091179   0.994771   6.179605\n",
       "           1.0e-30 -0.114329   1.009539   6.433750\n",
       "           1.0e-40 -0.070125   1.004341   6.161479\n",
       "           1.0e-50 -0.078048   1.019589   6.041044"
      ]
     },
     "metadata": {},
     "output_type": "display_data"
    }
   ],
   "source": [
    "with pd.option_context(\"display.max_rows\", None, \"display.max_columns\", None):\n",
    "    _df = ensemble.groupby([\"n_clusters\", \"gamma\"]).mean()\n",
    "    display(_df)"
   ]
  },
  {
   "cell_type": "code",
   "execution_count": 47,
   "metadata": {
    "execution": {
     "iopub.execute_input": "2021-03-09T21:52:08.481519Z",
     "iopub.status.busy": "2021-03-09T21:52:08.481155Z",
     "iopub.status.idle": "2021-03-09T21:52:10.878949Z",
     "shell.execute_reply": "2021-03-09T21:52:10.879235Z"
    },
    "papermill": {
     "duration": 2.511973,
     "end_time": "2021-03-09T21:52:10.879335",
     "exception": false,
     "start_time": "2021-03-09T21:52:08.367362",
     "status": "completed"
    },
    "tags": []
   },
   "outputs": [
    {
     "data": {
      "image/png": "[encoded data removed]",
      "text/plain": [
       "<Figure size 1008x432 with 1 Axes>"
      ]
     },
     "metadata": {},
     "output_type": "display_data"
    }
   ],
   "source": [
    "with sns.plotting_context(\"talk\", font_scale=0.75), sns.axes_style(\n",
    "    \"whitegrid\", {\"grid.linestyle\": \"--\"}\n",
    "):\n",
    "    fig = plt.figure(figsize=(14, 6))\n",
    "    ax = sns.pointplot(data=ensemble, x=\"n_clusters\", y=\"si_score\", hue=\"gamma\")\n",
    "    ax.set_ylabel(\"Silhouette index\\n(higher is better)\")\n",
    "    ax.set_xlabel(\"Number of clusters ($k$)\")\n",
    "    ax.set_xticklabels(ax.get_xticklabels(), rotation=45)\n",
    "    plt.grid(True)\n",
    "    plt.tight_layout()"
   ]
  },
  {
   "cell_type": "code",
   "execution_count": 48,
   "metadata": {
    "execution": {
     "iopub.execute_input": "2021-03-09T21:52:11.103438Z",
     "iopub.status.busy": "2021-03-09T21:52:11.103060Z",
     "iopub.status.idle": "2021-03-09T21:52:13.125974Z",
     "shell.execute_reply": "2021-03-09T21:52:13.125676Z"
    },
    "papermill": {
     "duration": 2.135431,
     "end_time": "2021-03-09T21:52:13.126060",
     "exception": false,
     "start_time": "2021-03-09T21:52:10.990629",
     "status": "completed"
    },
    "tags": []
   },
   "outputs": [
    {
     "data": {
      "image/png": "[encoded data removed]",
      "text/plain": [
       "<Figure size 1008x432 with 1 Axes>"
      ]
     },
     "metadata": {},
     "output_type": "display_data"
    }
   ],
   "source": [
    "with sns.plotting_context(\"talk\", font_scale=0.75), sns.axes_style(\n",
    "    \"whitegrid\", {\"grid.linestyle\": \"--\"}\n",
    "):\n",
    "    fig = plt.figure(figsize=(14, 6))\n",
    "    ax = sns.pointplot(data=ensemble, x=\"n_clusters\", y=\"ch_score\", hue=\"gamma\")\n",
    "    ax.set_ylabel(\"Calinski-Harabasz index\\n(higher is better)\")\n",
    "    ax.set_xlabel(\"Number of clusters ($k$)\")\n",
    "    ax.set_xticklabels(ax.get_xticklabels(), rotation=45)\n",
    "    plt.grid(True)\n",
    "    plt.tight_layout()"
   ]
  },
  {
   "cell_type": "code",
   "execution_count": 49,
   "metadata": {
    "execution": {
     "iopub.execute_input": "2021-03-09T21:52:13.351127Z",
     "iopub.status.busy": "2021-03-09T21:52:13.350760Z",
     "iopub.status.idle": "2021-03-09T21:52:15.304807Z",
     "shell.execute_reply": "2021-03-09T21:52:15.305102Z"
    },
    "papermill": {
     "duration": 2.067988,
     "end_time": "2021-03-09T21:52:15.305206",
     "exception": false,
     "start_time": "2021-03-09T21:52:13.237218",
     "status": "completed"
    },
    "tags": []
   },
   "outputs": [
    {
     "data": {
      "image/png": "[encoded data removed]",
      "text/plain": [
       "<Figure size 1008x432 with 1 Axes>"
      ]
     },
     "metadata": {},
     "output_type": "display_data"
    }
   ],
   "source": [
    "with sns.plotting_context(\"talk\", font_scale=0.75), sns.axes_style(\n",
    "    \"whitegrid\", {\"grid.linestyle\": \"--\"}\n",
    "):\n",
    "    fig = plt.figure(figsize=(14, 6))\n",
    "    ax = sns.pointplot(data=ensemble, x=\"n_clusters\", y=\"db_score\", hue=\"gamma\")\n",
    "    ax.set_ylabel(\"Davies-Bouldin index\\n(lower is better)\")\n",
    "    ax.set_xlabel(\"Number of clusters ($k$)\")\n",
    "    ax.set_xticklabels(ax.get_xticklabels(), rotation=45)\n",
    "    plt.grid(True)\n",
    "    plt.tight_layout()"
   ]
  },
  {
   "cell_type": "markdown",
   "metadata": {
    "papermill": {
     "duration": 0.116526,
     "end_time": "2021-03-09T21:52:15.536349",
     "exception": false,
     "start_time": "2021-03-09T21:52:15.419823",
     "status": "completed"
    },
    "tags": []
   },
   "source": [
    "# Stability"
   ]
  },
  {
   "cell_type": "markdown",
   "metadata": {
    "papermill": {
     "duration": 0.113897,
     "end_time": "2021-03-09T21:52:15.765574",
     "exception": false,
     "start_time": "2021-03-09T21:52:15.651677",
     "status": "completed"
    },
    "tags": []
   },
   "source": [
    "## Group ensemble by n_clusters"
   ]
  },
  {
   "cell_type": "code",
   "execution_count": 50,
   "metadata": {
    "execution": {
     "iopub.execute_input": "2021-03-09T21:52:15.997280Z",
     "iopub.status.busy": "2021-03-09T21:52:15.996919Z",
     "iopub.status.idle": "2021-03-09T21:52:16.028144Z",
     "shell.execute_reply": "2021-03-09T21:52:16.027760Z"
    },
    "papermill": {
     "duration": 0.148263,
     "end_time": "2021-03-09T21:52:16.028231",
     "exception": false,
     "start_time": "2021-03-09T21:52:15.879968",
     "status": "completed"
    },
    "tags": []
   },
   "outputs": [],
   "source": [
    "parts = ensemble.groupby([\"gamma\", \"n_clusters\"]).apply(\n",
    "    lambda x: np.concatenate(x[\"partition\"].apply(lambda x: x.reshape(1, -1)), axis=0)\n",
    ")"
   ]
  },
  {
   "cell_type": "code",
   "execution_count": 51,
   "metadata": {
    "execution": {
     "iopub.execute_input": "2021-03-09T21:52:16.259544Z",
     "iopub.status.busy": "2021-03-09T21:52:16.259184Z",
     "iopub.status.idle": "2021-03-09T21:52:16.270527Z",
     "shell.execute_reply": "2021-03-09T21:52:16.270161Z"
    },
    "papermill": {
     "duration": 0.127888,
     "end_time": "2021-03-09T21:52:16.270613",
     "exception": false,
     "start_time": "2021-03-09T21:52:16.142725",
     "status": "completed"
    },
    "tags": []
   },
   "outputs": [
    {
     "data": {
      "text/plain": [
       "(90,)"
      ]
     },
     "execution_count": 51,
     "metadata": {},
     "output_type": "execute_result"
    }
   ],
   "source": [
    "parts.shape"
   ]
  },
  {
   "cell_type": "code",
   "execution_count": 52,
   "metadata": {
    "execution": {
     "iopub.execute_input": "2021-03-09T21:52:16.503067Z",
     "iopub.status.busy": "2021-03-09T21:52:16.502693Z",
     "iopub.status.idle": "2021-03-09T21:52:16.525036Z",
     "shell.execute_reply": "2021-03-09T21:52:16.525324Z"
    },
    "papermill": {
     "duration": 0.14096,
     "end_time": "2021-03-09T21:52:16.525428",
     "exception": false,
     "start_time": "2021-03-09T21:52:16.384468",
     "status": "completed"
    },
    "tags": []
   },
   "outputs": [
    {
     "data": {
      "text/plain": [
       "gamma    n_clusters\n",
       "1.0e-03  2             [[0.0, 0.0, 0.0, 0.0, 0.0, 0.0, 0.0, 0.0, 0.0,...\n",
       "         4             [[0.0, 0.0, 0.0, 0.0, 0.0, 0.0, 0.0, 0.0, 0.0,...\n",
       "         6             [[0.0, 0.0, 0.0, 0.0, 0.0, 0.0, 0.0, 0.0, 0.0,...\n",
       "         8             [[0.0, 0.0, 0.0, 0.0, 0.0, 0.0, 0.0, 0.0, 0.0,...\n",
       "         10            [[0.0, 0.0, 0.0, 0.0, 0.0, 0.0, 0.0, 0.0, 0.0,...\n",
       "dtype: object"
      ]
     },
     "execution_count": 52,
     "metadata": {},
     "output_type": "execute_result"
    }
   ],
   "source": [
    "parts.head()"
   ]
  },
  {
   "cell_type": "code",
   "execution_count": 53,
   "metadata": {
    "execution": {
     "iopub.execute_input": "2021-03-09T21:52:16.762876Z",
     "iopub.status.busy": "2021-03-09T21:52:16.762518Z",
     "iopub.status.idle": "2021-03-09T21:52:16.773526Z",
     "shell.execute_reply": "2021-03-09T21:52:16.773210Z"
    },
    "papermill": {
     "duration": 0.128057,
     "end_time": "2021-03-09T21:52:16.773608",
     "exception": false,
     "start_time": "2021-03-09T21:52:16.645551",
     "status": "completed"
    },
    "tags": []
   },
   "outputs": [
    {
     "data": {
      "text/plain": [
       "(5, 3752)"
      ]
     },
     "execution_count": 53,
     "metadata": {},
     "output_type": "execute_result"
    }
   ],
   "source": [
    "parts.iloc[0].shape"
   ]
  },
  {
   "cell_type": "code",
   "execution_count": 54,
   "metadata": {
    "execution": {
     "iopub.execute_input": "2021-03-09T21:52:17.008464Z",
     "iopub.status.busy": "2021-03-09T21:52:17.008104Z",
     "iopub.status.idle": "2021-03-09T21:52:17.022480Z",
     "shell.execute_reply": "2021-03-09T21:52:17.022104Z"
    },
    "papermill": {
     "duration": 0.132764,
     "end_time": "2021-03-09T21:52:17.022565",
     "exception": false,
     "start_time": "2021-03-09T21:52:16.889801",
     "status": "completed"
    },
    "tags": []
   },
   "outputs": [],
   "source": [
    "assert np.all(\n",
    "    [\n",
    "        parts.loc[k].shape == (int(CLUSTERING_OPTIONS[\"N_REPS_PER_K\"]), data.shape[0])\n",
    "        for k in parts.index\n",
    "    ]\n",
    ")"
   ]
  },
  {
   "cell_type": "markdown",
   "metadata": {
    "papermill": {
     "duration": 0.113485,
     "end_time": "2021-03-09T21:52:17.250348",
     "exception": false,
     "start_time": "2021-03-09T21:52:17.136863",
     "status": "completed"
    },
    "tags": []
   },
   "source": [
    "## Compute stability"
   ]
  },
  {
   "cell_type": "code",
   "execution_count": 55,
   "metadata": {
    "execution": {
     "iopub.execute_input": "2021-03-09T21:52:17.482858Z",
     "iopub.status.busy": "2021-03-09T21:52:17.482459Z",
     "iopub.status.idle": "2021-03-09T21:52:17.493526Z",
     "shell.execute_reply": "2021-03-09T21:52:17.493194Z"
    },
    "papermill": {
     "duration": 0.130882,
     "end_time": "2021-03-09T21:52:17.493623",
     "exception": false,
     "start_time": "2021-03-09T21:52:17.362741",
     "status": "completed"
    },
    "tags": []
   },
   "outputs": [],
   "source": [
    "from sklearn.metrics import adjusted_rand_score as ari\n",
    "from scipy.spatial.distance import pdist"
   ]
  },
  {
   "cell_type": "code",
   "execution_count": 56,
   "metadata": {
    "execution": {
     "iopub.execute_input": "2021-03-09T21:52:17.726370Z",
     "iopub.status.busy": "2021-03-09T21:52:17.726007Z",
     "iopub.status.idle": "2021-03-09T21:52:18.641939Z",
     "shell.execute_reply": "2021-03-09T21:52:18.641594Z"
    },
    "papermill": {
     "duration": 1.033369,
     "end_time": "2021-03-09T21:52:18.642030",
     "exception": false,
     "start_time": "2021-03-09T21:52:17.608661",
     "status": "completed"
    },
    "tags": []
   },
   "outputs": [],
   "source": [
    "parts_ari = pd.Series(\n",
    "    {k: pdist(parts.loc[k], metric=ari) for k in parts.index}, name=\"n_clusters\"\n",
    ")"
   ]
  },
  {
   "cell_type": "code",
   "execution_count": 57,
   "metadata": {
    "execution": {
     "iopub.execute_input": "2021-03-09T21:52:18.873843Z",
     "iopub.status.busy": "2021-03-09T21:52:18.873487Z",
     "iopub.status.idle": "2021-03-09T21:52:18.886845Z",
     "shell.execute_reply": "2021-03-09T21:52:18.886478Z"
    },
    "papermill": {
     "duration": 0.130299,
     "end_time": "2021-03-09T21:52:18.886929",
     "exception": false,
     "start_time": "2021-03-09T21:52:18.756630",
     "status": "completed"
    },
    "tags": []
   },
   "outputs": [
    {
     "data": {
      "text/plain": [
       "1.0e-03  2     1.000000\n",
       "1.0e-05  2     1.000000\n",
       "1.0e-03  6     1.000000\n",
       "         8     1.000000\n",
       "         10    1.000000\n",
       "1.0e-10  4     1.000000\n",
       "         2     1.000000\n",
       "1.0e-05  4     0.995818\n",
       "1.0e-10  6     0.986798\n",
       "1.0e-03  4     0.986266\n",
       "1.0e-05  8     0.966363\n",
       "1.0e-15  2     0.906711\n",
       "1.0e-05  6     0.787118\n",
       "1.0e-15  6     0.744010\n",
       "         4     0.695673\n",
       "Name: n_clusters, dtype: float64"
      ]
     },
     "metadata": {},
     "output_type": "display_data"
    }
   ],
   "source": [
    "parts_ari_stability = parts_ari.apply(lambda x: x.mean())\n",
    "display(parts_ari_stability.sort_values(ascending=False).head(15))"
   ]
  },
  {
   "cell_type": "code",
   "execution_count": 58,
   "metadata": {
    "execution": {
     "iopub.execute_input": "2021-03-09T21:52:19.117336Z",
     "iopub.status.busy": "2021-03-09T21:52:19.116974Z",
     "iopub.status.idle": "2021-03-09T21:52:19.129132Z",
     "shell.execute_reply": "2021-03-09T21:52:19.128821Z"
    },
    "papermill": {
     "duration": 0.12861,
     "end_time": "2021-03-09T21:52:19.129233",
     "exception": false,
     "start_time": "2021-03-09T21:52:19.000623",
     "status": "completed"
    },
    "tags": []
   },
   "outputs": [],
   "source": [
    "parts_ari_df = pd.DataFrame.from_records(parts_ari.tolist()).set_index(\n",
    "    parts_ari.index.copy()\n",
    ")\n",
    "parts_ari_df.index.rename([\"gamma\", \"n_clusters\"], inplace=True)"
   ]
  },
  {
   "cell_type": "code",
   "execution_count": 59,
   "metadata": {
    "execution": {
     "iopub.execute_input": "2021-03-09T21:52:19.359185Z",
     "iopub.status.busy": "2021-03-09T21:52:19.358824Z",
     "iopub.status.idle": "2021-03-09T21:52:19.369958Z",
     "shell.execute_reply": "2021-03-09T21:52:19.369601Z"
    },
    "papermill": {
     "duration": 0.126497,
     "end_time": "2021-03-09T21:52:19.370040",
     "exception": false,
     "start_time": "2021-03-09T21:52:19.243543",
     "status": "completed"
    },
    "tags": []
   },
   "outputs": [
    {
     "data": {
      "text/plain": [
       "(90, 10)"
      ]
     },
     "execution_count": 59,
     "metadata": {},
     "output_type": "execute_result"
    }
   ],
   "source": [
    "parts_ari_df.shape"
   ]
  },
  {
   "cell_type": "code",
   "execution_count": 60,
   "metadata": {
    "execution": {
     "iopub.execute_input": "2021-03-09T21:52:19.602836Z",
     "iopub.status.busy": "2021-03-09T21:52:19.602467Z",
     "iopub.status.idle": "2021-03-09T21:52:19.613215Z",
     "shell.execute_reply": "2021-03-09T21:52:19.612854Z"
    },
    "papermill": {
     "duration": 0.127916,
     "end_time": "2021-03-09T21:52:19.613298",
     "exception": false,
     "start_time": "2021-03-09T21:52:19.485382",
     "status": "completed"
    },
    "tags": []
   },
   "outputs": [],
   "source": [
    "_n_total_parts = int(\n",
    "    CLUSTERING_OPTIONS[\"N_REPS_PER_K\"]\n",
    ")  # * len(CLUSTERING_OPTIONS[\"GAMMAS\"]))\n",
    "\n",
    "assert int(_n_total_parts * (_n_total_parts - 1) / 2) == parts_ari_df.shape[1]"
   ]
  },
  {
   "cell_type": "code",
   "execution_count": 61,
   "metadata": {
    "execution": {
     "iopub.execute_input": "2021-03-09T21:52:19.843974Z",
     "iopub.status.busy": "2021-03-09T21:52:19.843606Z",
     "iopub.status.idle": "2021-03-09T21:52:19.861885Z",
     "shell.execute_reply": "2021-03-09T21:52:19.861525Z"
    },
    "papermill": {
     "duration": 0.134315,
     "end_time": "2021-03-09T21:52:19.861968",
     "exception": false,
     "start_time": "2021-03-09T21:52:19.727653",
     "status": "completed"
    },
    "tags": []
   },
   "outputs": [
    {
     "data": {
      "text/html": [
       "<div>\n",
       "<style scoped>\n",
       "    .dataframe tbody tr th:only-of-type {\n",
       "        vertical-align: middle;\n",
       "    }\n",
       "\n",
       "    .dataframe tbody tr th {\n",
       "        vertical-align: top;\n",
       "    }\n",
       "\n",
       "    .dataframe thead th {\n",
       "        text-align: right;\n",
       "    }\n",
       "</style>\n",
       "<table border=\"1\" class=\"dataframe\">\n",
       "  <thead>\n",
       "    <tr style=\"text-align: right;\">\n",
       "      <th></th>\n",
       "      <th></th>\n",
       "      <th>0</th>\n",
       "      <th>1</th>\n",
       "      <th>2</th>\n",
       "      <th>3</th>\n",
       "      <th>4</th>\n",
       "      <th>5</th>\n",
       "      <th>6</th>\n",
       "      <th>7</th>\n",
       "      <th>8</th>\n",
       "      <th>9</th>\n",
       "    </tr>\n",
       "    <tr>\n",
       "      <th>gamma</th>\n",
       "      <th>n_clusters</th>\n",
       "      <th></th>\n",
       "      <th></th>\n",
       "      <th></th>\n",
       "      <th></th>\n",
       "      <th></th>\n",
       "      <th></th>\n",
       "      <th></th>\n",
       "      <th></th>\n",
       "      <th></th>\n",
       "      <th></th>\n",
       "    </tr>\n",
       "  </thead>\n",
       "  <tbody>\n",
       "    <tr>\n",
       "      <th rowspan=\"5\" valign=\"top\">1.0e-03</th>\n",
       "      <th>2</th>\n",
       "      <td>1.000000</td>\n",
       "      <td>1.000000</td>\n",
       "      <td>1.000000</td>\n",
       "      <td>1.000000</td>\n",
       "      <td>1.0</td>\n",
       "      <td>1.0</td>\n",
       "      <td>1.0</td>\n",
       "      <td>1.0</td>\n",
       "      <td>1.0</td>\n",
       "      <td>1.0</td>\n",
       "    </tr>\n",
       "    <tr>\n",
       "      <th>4</th>\n",
       "      <td>0.965666</td>\n",
       "      <td>0.965666</td>\n",
       "      <td>0.965666</td>\n",
       "      <td>0.965666</td>\n",
       "      <td>1.0</td>\n",
       "      <td>1.0</td>\n",
       "      <td>1.0</td>\n",
       "      <td>1.0</td>\n",
       "      <td>1.0</td>\n",
       "      <td>1.0</td>\n",
       "    </tr>\n",
       "    <tr>\n",
       "      <th>6</th>\n",
       "      <td>1.000000</td>\n",
       "      <td>1.000000</td>\n",
       "      <td>1.000000</td>\n",
       "      <td>1.000000</td>\n",
       "      <td>1.0</td>\n",
       "      <td>1.0</td>\n",
       "      <td>1.0</td>\n",
       "      <td>1.0</td>\n",
       "      <td>1.0</td>\n",
       "      <td>1.0</td>\n",
       "    </tr>\n",
       "    <tr>\n",
       "      <th>8</th>\n",
       "      <td>1.000000</td>\n",
       "      <td>1.000000</td>\n",
       "      <td>1.000000</td>\n",
       "      <td>1.000000</td>\n",
       "      <td>1.0</td>\n",
       "      <td>1.0</td>\n",
       "      <td>1.0</td>\n",
       "      <td>1.0</td>\n",
       "      <td>1.0</td>\n",
       "      <td>1.0</td>\n",
       "    </tr>\n",
       "    <tr>\n",
       "      <th>10</th>\n",
       "      <td>1.000000</td>\n",
       "      <td>1.000000</td>\n",
       "      <td>1.000000</td>\n",
       "      <td>1.000000</td>\n",
       "      <td>1.0</td>\n",
       "      <td>1.0</td>\n",
       "      <td>1.0</td>\n",
       "      <td>1.0</td>\n",
       "      <td>1.0</td>\n",
       "      <td>1.0</td>\n",
       "    </tr>\n",
       "  </tbody>\n",
       "</table>\n",
       "</div>"
      ],
      "text/plain": [
       "                           0         1         2         3    4    5    6  \\\n",
       "gamma   n_clusters                                                          \n",
       "1.0e-03 2           1.000000  1.000000  1.000000  1.000000  1.0  1.0  1.0   \n",
       "        4           0.965666  0.965666  0.965666  0.965666  1.0  1.0  1.0   \n",
       "        6           1.000000  1.000000  1.000000  1.000000  1.0  1.0  1.0   \n",
       "        8           1.000000  1.000000  1.000000  1.000000  1.0  1.0  1.0   \n",
       "        10          1.000000  1.000000  1.000000  1.000000  1.0  1.0  1.0   \n",
       "\n",
       "                      7    8    9  \n",
       "gamma   n_clusters                 \n",
       "1.0e-03 2           1.0  1.0  1.0  \n",
       "        4           1.0  1.0  1.0  \n",
       "        6           1.0  1.0  1.0  \n",
       "        8           1.0  1.0  1.0  \n",
       "        10          1.0  1.0  1.0  "
      ]
     },
     "execution_count": 61,
     "metadata": {},
     "output_type": "execute_result"
    }
   ],
   "source": [
    "parts_ari_df.head()"
   ]
  },
  {
   "cell_type": "markdown",
   "metadata": {
    "papermill": {
     "duration": 0.113673,
     "end_time": "2021-03-09T21:52:20.089587",
     "exception": false,
     "start_time": "2021-03-09T21:52:19.975914",
     "status": "completed"
    },
    "tags": []
   },
   "source": [
    "## Stability plot"
   ]
  },
  {
   "cell_type": "code",
   "execution_count": 62,
   "metadata": {
    "execution": {
     "iopub.execute_input": "2021-03-09T21:52:20.320456Z",
     "iopub.status.busy": "2021-03-09T21:52:20.320091Z",
     "iopub.status.idle": "2021-03-09T21:52:20.332668Z",
     "shell.execute_reply": "2021-03-09T21:52:20.332289Z"
    },
    "papermill": {
     "duration": 0.129136,
     "end_time": "2021-03-09T21:52:20.332783",
     "exception": false,
     "start_time": "2021-03-09T21:52:20.203647",
     "status": "completed"
    },
    "tags": []
   },
   "outputs": [],
   "source": [
    "parts_ari_df_plot = (\n",
    "    parts_ari_df.stack().reset_index().rename(columns={\"level_2\": \"idx\", 0: \"ari\"})\n",
    ")"
   ]
  },
  {
   "cell_type": "code",
   "execution_count": 63,
   "metadata": {
    "execution": {
     "iopub.execute_input": "2021-03-09T21:52:20.566958Z",
     "iopub.status.busy": "2021-03-09T21:52:20.566602Z",
     "iopub.status.idle": "2021-03-09T21:52:20.578462Z",
     "shell.execute_reply": "2021-03-09T21:52:20.578105Z"
    },
    "papermill": {
     "duration": 0.131387,
     "end_time": "2021-03-09T21:52:20.578547",
     "exception": false,
     "start_time": "2021-03-09T21:52:20.447160",
     "status": "completed"
    },
    "tags": []
   },
   "outputs": [
    {
     "data": {
      "text/plain": [
       "gamma          object\n",
       "n_clusters      int64\n",
       "idx             int64\n",
       "ari           float64\n",
       "dtype: object"
      ]
     },
     "execution_count": 63,
     "metadata": {},
     "output_type": "execute_result"
    }
   ],
   "source": [
    "parts_ari_df_plot.dtypes"
   ]
  },
  {
   "cell_type": "code",
   "execution_count": 64,
   "metadata": {
    "execution": {
     "iopub.execute_input": "2021-03-09T21:52:20.810202Z",
     "iopub.status.busy": "2021-03-09T21:52:20.809836Z",
     "iopub.status.idle": "2021-03-09T21:52:20.824092Z",
     "shell.execute_reply": "2021-03-09T21:52:20.823723Z"
    },
    "papermill": {
     "duration": 0.130286,
     "end_time": "2021-03-09T21:52:20.824178",
     "exception": false,
     "start_time": "2021-03-09T21:52:20.693892",
     "status": "completed"
    },
    "tags": []
   },
   "outputs": [
    {
     "data": {
      "text/html": [
       "<div>\n",
       "<style scoped>\n",
       "    .dataframe tbody tr th:only-of-type {\n",
       "        vertical-align: middle;\n",
       "    }\n",
       "\n",
       "    .dataframe tbody tr th {\n",
       "        vertical-align: top;\n",
       "    }\n",
       "\n",
       "    .dataframe thead th {\n",
       "        text-align: right;\n",
       "    }\n",
       "</style>\n",
       "<table border=\"1\" class=\"dataframe\">\n",
       "  <thead>\n",
       "    <tr style=\"text-align: right;\">\n",
       "      <th></th>\n",
       "      <th>gamma</th>\n",
       "      <th>n_clusters</th>\n",
       "      <th>idx</th>\n",
       "      <th>ari</th>\n",
       "    </tr>\n",
       "  </thead>\n",
       "  <tbody>\n",
       "    <tr>\n",
       "      <th>0</th>\n",
       "      <td>1.0e-03</td>\n",
       "      <td>2</td>\n",
       "      <td>0</td>\n",
       "      <td>1.0</td>\n",
       "    </tr>\n",
       "    <tr>\n",
       "      <th>1</th>\n",
       "      <td>1.0e-03</td>\n",
       "      <td>2</td>\n",
       "      <td>1</td>\n",
       "      <td>1.0</td>\n",
       "    </tr>\n",
       "    <tr>\n",
       "      <th>2</th>\n",
       "      <td>1.0e-03</td>\n",
       "      <td>2</td>\n",
       "      <td>2</td>\n",
       "      <td>1.0</td>\n",
       "    </tr>\n",
       "    <tr>\n",
       "      <th>3</th>\n",
       "      <td>1.0e-03</td>\n",
       "      <td>2</td>\n",
       "      <td>3</td>\n",
       "      <td>1.0</td>\n",
       "    </tr>\n",
       "    <tr>\n",
       "      <th>4</th>\n",
       "      <td>1.0e-03</td>\n",
       "      <td>2</td>\n",
       "      <td>4</td>\n",
       "      <td>1.0</td>\n",
       "    </tr>\n",
       "  </tbody>\n",
       "</table>\n",
       "</div>"
      ],
      "text/plain": [
       "     gamma  n_clusters  idx  ari\n",
       "0  1.0e-03           2    0  1.0\n",
       "1  1.0e-03           2    1  1.0\n",
       "2  1.0e-03           2    2  1.0\n",
       "3  1.0e-03           2    3  1.0\n",
       "4  1.0e-03           2    4  1.0"
      ]
     },
     "execution_count": 64,
     "metadata": {},
     "output_type": "execute_result"
    }
   ],
   "source": [
    "parts_ari_df_plot.head()"
   ]
  },
  {
   "cell_type": "code",
   "execution_count": 65,
   "metadata": {
    "execution": {
     "iopub.execute_input": "2021-03-09T21:52:21.056314Z",
     "iopub.status.busy": "2021-03-09T21:52:21.055950Z",
     "iopub.status.idle": "2021-03-09T21:52:21.077072Z",
     "shell.execute_reply": "2021-03-09T21:52:21.076644Z"
    },
    "papermill": {
     "duration": 0.138621,
     "end_time": "2021-03-09T21:52:21.077159",
     "exception": false,
     "start_time": "2021-03-09T21:52:20.938538",
     "status": "completed"
    },
    "tags": []
   },
   "outputs": [
    {
     "data": {
      "text/html": [
       "<div>\n",
       "<style scoped>\n",
       "    .dataframe tbody tr th:only-of-type {\n",
       "        vertical-align: middle;\n",
       "    }\n",
       "\n",
       "    .dataframe tbody tr th {\n",
       "        vertical-align: top;\n",
       "    }\n",
       "\n",
       "    .dataframe thead th {\n",
       "        text-align: right;\n",
       "    }\n",
       "</style>\n",
       "<table border=\"1\" class=\"dataframe\">\n",
       "  <thead>\n",
       "    <tr style=\"text-align: right;\">\n",
       "      <th></th>\n",
       "      <th></th>\n",
       "      <th>idx</th>\n",
       "      <th>ari</th>\n",
       "    </tr>\n",
       "    <tr>\n",
       "      <th>n_clusters</th>\n",
       "      <th>gamma</th>\n",
       "      <th></th>\n",
       "      <th></th>\n",
       "    </tr>\n",
       "  </thead>\n",
       "  <tbody>\n",
       "    <tr>\n",
       "      <th rowspan=\"9\" valign=\"top\">2</th>\n",
       "      <th>1.0e-03</th>\n",
       "      <td>4.5</td>\n",
       "      <td>1.000000</td>\n",
       "    </tr>\n",
       "    <tr>\n",
       "      <th>1.0e-05</th>\n",
       "      <td>4.5</td>\n",
       "      <td>1.000000</td>\n",
       "    </tr>\n",
       "    <tr>\n",
       "      <th>1.0e-10</th>\n",
       "      <td>4.5</td>\n",
       "      <td>1.000000</td>\n",
       "    </tr>\n",
       "    <tr>\n",
       "      <th>1.0e-15</th>\n",
       "      <td>4.5</td>\n",
       "      <td>0.906711</td>\n",
       "    </tr>\n",
       "    <tr>\n",
       "      <th>1.0e-17</th>\n",
       "      <td>4.5</td>\n",
       "      <td>0.001218</td>\n",
       "    </tr>\n",
       "    <tr>\n",
       "      <th>1.0e-20</th>\n",
       "      <td>4.5</td>\n",
       "      <td>-0.001677</td>\n",
       "    </tr>\n",
       "    <tr>\n",
       "      <th>1.0e-30</th>\n",
       "      <td>4.5</td>\n",
       "      <td>-0.002317</td>\n",
       "    </tr>\n",
       "    <tr>\n",
       "      <th>1.0e-40</th>\n",
       "      <td>4.5</td>\n",
       "      <td>0.013618</td>\n",
       "    </tr>\n",
       "    <tr>\n",
       "      <th>1.0e-50</th>\n",
       "      <td>4.5</td>\n",
       "      <td>-0.000584</td>\n",
       "    </tr>\n",
       "    <tr>\n",
       "      <th rowspan=\"9\" valign=\"top\">4</th>\n",
       "      <th>1.0e-03</th>\n",
       "      <td>4.5</td>\n",
       "      <td>0.986266</td>\n",
       "    </tr>\n",
       "    <tr>\n",
       "      <th>1.0e-05</th>\n",
       "      <td>4.5</td>\n",
       "      <td>0.995818</td>\n",
       "    </tr>\n",
       "    <tr>\n",
       "      <th>1.0e-10</th>\n",
       "      <td>4.5</td>\n",
       "      <td>1.000000</td>\n",
       "    </tr>\n",
       "    <tr>\n",
       "      <th>1.0e-15</th>\n",
       "      <td>4.5</td>\n",
       "      <td>0.695673</td>\n",
       "    </tr>\n",
       "    <tr>\n",
       "      <th>1.0e-17</th>\n",
       "      <td>4.5</td>\n",
       "      <td>-0.003480</td>\n",
       "    </tr>\n",
       "    <tr>\n",
       "      <th>1.0e-20</th>\n",
       "      <td>4.5</td>\n",
       "      <td>0.000769</td>\n",
       "    </tr>\n",
       "    <tr>\n",
       "      <th>1.0e-30</th>\n",
       "      <td>4.5</td>\n",
       "      <td>-0.003668</td>\n",
       "    </tr>\n",
       "    <tr>\n",
       "      <th>1.0e-40</th>\n",
       "      <td>4.5</td>\n",
       "      <td>-0.003335</td>\n",
       "    </tr>\n",
       "    <tr>\n",
       "      <th>1.0e-50</th>\n",
       "      <td>4.5</td>\n",
       "      <td>-0.001827</td>\n",
       "    </tr>\n",
       "    <tr>\n",
       "      <th rowspan=\"9\" valign=\"top\">6</th>\n",
       "      <th>1.0e-03</th>\n",
       "      <td>4.5</td>\n",
       "      <td>1.000000</td>\n",
       "    </tr>\n",
       "    <tr>\n",
       "      <th>1.0e-05</th>\n",
       "      <td>4.5</td>\n",
       "      <td>0.787118</td>\n",
       "    </tr>\n",
       "    <tr>\n",
       "      <th>1.0e-10</th>\n",
       "      <td>4.5</td>\n",
       "      <td>0.986798</td>\n",
       "    </tr>\n",
       "    <tr>\n",
       "      <th>1.0e-15</th>\n",
       "      <td>4.5</td>\n",
       "      <td>0.744010</td>\n",
       "    </tr>\n",
       "    <tr>\n",
       "      <th>1.0e-17</th>\n",
       "      <td>4.5</td>\n",
       "      <td>0.000145</td>\n",
       "    </tr>\n",
       "    <tr>\n",
       "      <th>1.0e-20</th>\n",
       "      <td>4.5</td>\n",
       "      <td>0.000834</td>\n",
       "    </tr>\n",
       "    <tr>\n",
       "      <th>1.0e-30</th>\n",
       "      <td>4.5</td>\n",
       "      <td>-0.002870</td>\n",
       "    </tr>\n",
       "    <tr>\n",
       "      <th>1.0e-40</th>\n",
       "      <td>4.5</td>\n",
       "      <td>-0.002116</td>\n",
       "    </tr>\n",
       "    <tr>\n",
       "      <th>1.0e-50</th>\n",
       "      <td>4.5</td>\n",
       "      <td>0.001750</td>\n",
       "    </tr>\n",
       "    <tr>\n",
       "      <th rowspan=\"9\" valign=\"top\">8</th>\n",
       "      <th>1.0e-03</th>\n",
       "      <td>4.5</td>\n",
       "      <td>1.000000</td>\n",
       "    </tr>\n",
       "    <tr>\n",
       "      <th>1.0e-05</th>\n",
       "      <td>4.5</td>\n",
       "      <td>0.966363</td>\n",
       "    </tr>\n",
       "    <tr>\n",
       "      <th>1.0e-10</th>\n",
       "      <td>4.5</td>\n",
       "      <td>0.580678</td>\n",
       "    </tr>\n",
       "    <tr>\n",
       "      <th>1.0e-15</th>\n",
       "      <td>4.5</td>\n",
       "      <td>0.285271</td>\n",
       "    </tr>\n",
       "    <tr>\n",
       "      <th>1.0e-17</th>\n",
       "      <td>4.5</td>\n",
       "      <td>0.001688</td>\n",
       "    </tr>\n",
       "    <tr>\n",
       "      <th>1.0e-20</th>\n",
       "      <td>4.5</td>\n",
       "      <td>-0.002328</td>\n",
       "    </tr>\n",
       "    <tr>\n",
       "      <th>1.0e-30</th>\n",
       "      <td>4.5</td>\n",
       "      <td>-0.001816</td>\n",
       "    </tr>\n",
       "    <tr>\n",
       "      <th>1.0e-40</th>\n",
       "      <td>4.5</td>\n",
       "      <td>-0.002650</td>\n",
       "    </tr>\n",
       "    <tr>\n",
       "      <th>1.0e-50</th>\n",
       "      <td>4.5</td>\n",
       "      <td>-0.000684</td>\n",
       "    </tr>\n",
       "    <tr>\n",
       "      <th rowspan=\"9\" valign=\"top\">10</th>\n",
       "      <th>1.0e-03</th>\n",
       "      <td>4.5</td>\n",
       "      <td>1.000000</td>\n",
       "    </tr>\n",
       "    <tr>\n",
       "      <th>1.0e-05</th>\n",
       "      <td>4.5</td>\n",
       "      <td>0.451481</td>\n",
       "    </tr>\n",
       "    <tr>\n",
       "      <th>1.0e-10</th>\n",
       "      <td>4.5</td>\n",
       "      <td>0.465165</td>\n",
       "    </tr>\n",
       "    <tr>\n",
       "      <th>1.0e-15</th>\n",
       "      <td>4.5</td>\n",
       "      <td>0.099150</td>\n",
       "    </tr>\n",
       "    <tr>\n",
       "      <th>1.0e-17</th>\n",
       "      <td>4.5</td>\n",
       "      <td>0.003599</td>\n",
       "    </tr>\n",
       "    <tr>\n",
       "      <th>1.0e-20</th>\n",
       "      <td>4.5</td>\n",
       "      <td>0.006737</td>\n",
       "    </tr>\n",
       "    <tr>\n",
       "      <th>1.0e-30</th>\n",
       "      <td>4.5</td>\n",
       "      <td>0.001878</td>\n",
       "    </tr>\n",
       "    <tr>\n",
       "      <th>1.0e-40</th>\n",
       "      <td>4.5</td>\n",
       "      <td>0.004808</td>\n",
       "    </tr>\n",
       "    <tr>\n",
       "      <th>1.0e-50</th>\n",
       "      <td>4.5</td>\n",
       "      <td>0.004643</td>\n",
       "    </tr>\n",
       "    <tr>\n",
       "      <th rowspan=\"9\" valign=\"top\">20</th>\n",
       "      <th>1.0e-03</th>\n",
       "      <td>4.5</td>\n",
       "      <td>0.506257</td>\n",
       "    </tr>\n",
       "    <tr>\n",
       "      <th>1.0e-05</th>\n",
       "      <td>4.5</td>\n",
       "      <td>0.341157</td>\n",
       "    </tr>\n",
       "    <tr>\n",
       "      <th>1.0e-10</th>\n",
       "      <td>4.5</td>\n",
       "      <td>0.291858</td>\n",
       "    </tr>\n",
       "    <tr>\n",
       "      <th>1.0e-15</th>\n",
       "      <td>4.5</td>\n",
       "      <td>0.045794</td>\n",
       "    </tr>\n",
       "    <tr>\n",
       "      <th>1.0e-17</th>\n",
       "      <td>4.5</td>\n",
       "      <td>0.005121</td>\n",
       "    </tr>\n",
       "    <tr>\n",
       "      <th>1.0e-20</th>\n",
       "      <td>4.5</td>\n",
       "      <td>0.000950</td>\n",
       "    </tr>\n",
       "    <tr>\n",
       "      <th>1.0e-30</th>\n",
       "      <td>4.5</td>\n",
       "      <td>-0.000680</td>\n",
       "    </tr>\n",
       "    <tr>\n",
       "      <th>1.0e-40</th>\n",
       "      <td>4.5</td>\n",
       "      <td>-0.002656</td>\n",
       "    </tr>\n",
       "    <tr>\n",
       "      <th>1.0e-50</th>\n",
       "      <td>4.5</td>\n",
       "      <td>0.003205</td>\n",
       "    </tr>\n",
       "    <tr>\n",
       "      <th rowspan=\"9\" valign=\"top\">30</th>\n",
       "      <th>1.0e-03</th>\n",
       "      <td>4.5</td>\n",
       "      <td>0.277301</td>\n",
       "    </tr>\n",
       "    <tr>\n",
       "      <th>1.0e-05</th>\n",
       "      <td>4.5</td>\n",
       "      <td>0.174251</td>\n",
       "    </tr>\n",
       "    <tr>\n",
       "      <th>1.0e-10</th>\n",
       "      <td>4.5</td>\n",
       "      <td>0.179157</td>\n",
       "    </tr>\n",
       "    <tr>\n",
       "      <th>1.0e-15</th>\n",
       "      <td>4.5</td>\n",
       "      <td>0.036122</td>\n",
       "    </tr>\n",
       "    <tr>\n",
       "      <th>1.0e-17</th>\n",
       "      <td>4.5</td>\n",
       "      <td>-0.000306</td>\n",
       "    </tr>\n",
       "    <tr>\n",
       "      <th>1.0e-20</th>\n",
       "      <td>4.5</td>\n",
       "      <td>-0.005909</td>\n",
       "    </tr>\n",
       "    <tr>\n",
       "      <th>1.0e-30</th>\n",
       "      <td>4.5</td>\n",
       "      <td>0.002375</td>\n",
       "    </tr>\n",
       "    <tr>\n",
       "      <th>1.0e-40</th>\n",
       "      <td>4.5</td>\n",
       "      <td>-0.003397</td>\n",
       "    </tr>\n",
       "    <tr>\n",
       "      <th>1.0e-50</th>\n",
       "      <td>4.5</td>\n",
       "      <td>0.003594</td>\n",
       "    </tr>\n",
       "    <tr>\n",
       "      <th rowspan=\"9\" valign=\"top\">40</th>\n",
       "      <th>1.0e-03</th>\n",
       "      <td>4.5</td>\n",
       "      <td>0.248605</td>\n",
       "    </tr>\n",
       "    <tr>\n",
       "      <th>1.0e-05</th>\n",
       "      <td>4.5</td>\n",
       "      <td>0.097989</td>\n",
       "    </tr>\n",
       "    <tr>\n",
       "      <th>1.0e-10</th>\n",
       "      <td>4.5</td>\n",
       "      <td>0.104159</td>\n",
       "    </tr>\n",
       "    <tr>\n",
       "      <th>1.0e-15</th>\n",
       "      <td>4.5</td>\n",
       "      <td>0.028347</td>\n",
       "    </tr>\n",
       "    <tr>\n",
       "      <th>1.0e-17</th>\n",
       "      <td>4.5</td>\n",
       "      <td>0.001807</td>\n",
       "    </tr>\n",
       "    <tr>\n",
       "      <th>1.0e-20</th>\n",
       "      <td>4.5</td>\n",
       "      <td>0.001702</td>\n",
       "    </tr>\n",
       "    <tr>\n",
       "      <th>1.0e-30</th>\n",
       "      <td>4.5</td>\n",
       "      <td>0.003421</td>\n",
       "    </tr>\n",
       "    <tr>\n",
       "      <th>1.0e-40</th>\n",
       "      <td>4.5</td>\n",
       "      <td>0.002674</td>\n",
       "    </tr>\n",
       "    <tr>\n",
       "      <th>1.0e-50</th>\n",
       "      <td>4.5</td>\n",
       "      <td>0.003220</td>\n",
       "    </tr>\n",
       "    <tr>\n",
       "      <th rowspan=\"9\" valign=\"top\">50</th>\n",
       "      <th>1.0e-03</th>\n",
       "      <td>4.5</td>\n",
       "      <td>0.137831</td>\n",
       "    </tr>\n",
       "    <tr>\n",
       "      <th>1.0e-05</th>\n",
       "      <td>4.5</td>\n",
       "      <td>0.085840</td>\n",
       "    </tr>\n",
       "    <tr>\n",
       "      <th>1.0e-10</th>\n",
       "      <td>4.5</td>\n",
       "      <td>0.081443</td>\n",
       "    </tr>\n",
       "    <tr>\n",
       "      <th>1.0e-15</th>\n",
       "      <td>4.5</td>\n",
       "      <td>0.024901</td>\n",
       "    </tr>\n",
       "    <tr>\n",
       "      <th>1.0e-17</th>\n",
       "      <td>4.5</td>\n",
       "      <td>0.003959</td>\n",
       "    </tr>\n",
       "    <tr>\n",
       "      <th>1.0e-20</th>\n",
       "      <td>4.5</td>\n",
       "      <td>0.001257</td>\n",
       "    </tr>\n",
       "    <tr>\n",
       "      <th>1.0e-30</th>\n",
       "      <td>4.5</td>\n",
       "      <td>0.010061</td>\n",
       "    </tr>\n",
       "    <tr>\n",
       "      <th>1.0e-40</th>\n",
       "      <td>4.5</td>\n",
       "      <td>0.000468</td>\n",
       "    </tr>\n",
       "    <tr>\n",
       "      <th>1.0e-50</th>\n",
       "      <td>4.5</td>\n",
       "      <td>0.000552</td>\n",
       "    </tr>\n",
       "    <tr>\n",
       "      <th rowspan=\"9\" valign=\"top\">60</th>\n",
       "      <th>1.0e-03</th>\n",
       "      <td>4.5</td>\n",
       "      <td>0.107163</td>\n",
       "    </tr>\n",
       "    <tr>\n",
       "      <th>1.0e-05</th>\n",
       "      <td>4.5</td>\n",
       "      <td>0.063997</td>\n",
       "    </tr>\n",
       "    <tr>\n",
       "      <th>1.0e-10</th>\n",
       "      <td>4.5</td>\n",
       "      <td>0.065680</td>\n",
       "    </tr>\n",
       "    <tr>\n",
       "      <th>1.0e-15</th>\n",
       "      <td>4.5</td>\n",
       "      <td>0.019289</td>\n",
       "    </tr>\n",
       "    <tr>\n",
       "      <th>1.0e-17</th>\n",
       "      <td>4.5</td>\n",
       "      <td>0.003641</td>\n",
       "    </tr>\n",
       "    <tr>\n",
       "      <th>1.0e-20</th>\n",
       "      <td>4.5</td>\n",
       "      <td>0.007620</td>\n",
       "    </tr>\n",
       "    <tr>\n",
       "      <th>1.0e-30</th>\n",
       "      <td>4.5</td>\n",
       "      <td>0.006208</td>\n",
       "    </tr>\n",
       "    <tr>\n",
       "      <th>1.0e-40</th>\n",
       "      <td>4.5</td>\n",
       "      <td>0.006095</td>\n",
       "    </tr>\n",
       "    <tr>\n",
       "      <th>1.0e-50</th>\n",
       "      <td>4.5</td>\n",
       "      <td>0.005413</td>\n",
       "    </tr>\n",
       "  </tbody>\n",
       "</table>\n",
       "</div>"
      ],
      "text/plain": [
       "                    idx       ari\n",
       "n_clusters gamma                 \n",
       "2          1.0e-03  4.5  1.000000\n",
       "           1.0e-05  4.5  1.000000\n",
       "           1.0e-10  4.5  1.000000\n",
       "           1.0e-15  4.5  0.906711\n",
       "           1.0e-17  4.5  0.001218\n",
       "           1.0e-20  4.5 -0.001677\n",
       "           1.0e-30  4.5 -0.002317\n",
       "           1.0e-40  4.5  0.013618\n",
       "           1.0e-50  4.5 -0.000584\n",
       "4          1.0e-03  4.5  0.986266\n",
       "           1.0e-05  4.5  0.995818\n",
       "           1.0e-10  4.5  1.000000\n",
       "           1.0e-15  4.5  0.695673\n",
       "           1.0e-17  4.5 -0.003480\n",
       "           1.0e-20  4.5  0.000769\n",
       "           1.0e-30  4.5 -0.003668\n",
       "           1.0e-40  4.5 -0.003335\n",
       "           1.0e-50  4.5 -0.001827\n",
       "6          1.0e-03  4.5  1.000000\n",
       "           1.0e-05  4.5  0.787118\n",
       "           1.0e-10  4.5  0.986798\n",
       "           1.0e-15  4.5  0.744010\n",
       "           1.0e-17  4.5  0.000145\n",
       "           1.0e-20  4.5  0.000834\n",
       "           1.0e-30  4.5 -0.002870\n",
       "           1.0e-40  4.5 -0.002116\n",
       "           1.0e-50  4.5  0.001750\n",
       "8          1.0e-03  4.5  1.000000\n",
       "           1.0e-05  4.5  0.966363\n",
       "           1.0e-10  4.5  0.580678\n",
       "           1.0e-15  4.5  0.285271\n",
       "           1.0e-17  4.5  0.001688\n",
       "           1.0e-20  4.5 -0.002328\n",
       "           1.0e-30  4.5 -0.001816\n",
       "           1.0e-40  4.5 -0.002650\n",
       "           1.0e-50  4.5 -0.000684\n",
       "10         1.0e-03  4.5  1.000000\n",
       "           1.0e-05  4.5  0.451481\n",
       "           1.0e-10  4.5  0.465165\n",
       "           1.0e-15  4.5  0.099150\n",
       "           1.0e-17  4.5  0.003599\n",
       "           1.0e-20  4.5  0.006737\n",
       "           1.0e-30  4.5  0.001878\n",
       "           1.0e-40  4.5  0.004808\n",
       "           1.0e-50  4.5  0.004643\n",
       "20         1.0e-03  4.5  0.506257\n",
       "           1.0e-05  4.5  0.341157\n",
       "           1.0e-10  4.5  0.291858\n",
       "           1.0e-15  4.5  0.045794\n",
       "           1.0e-17  4.5  0.005121\n",
       "           1.0e-20  4.5  0.000950\n",
       "           1.0e-30  4.5 -0.000680\n",
       "           1.0e-40  4.5 -0.002656\n",
       "           1.0e-50  4.5  0.003205\n",
       "30         1.0e-03  4.5  0.277301\n",
       "           1.0e-05  4.5  0.174251\n",
       "           1.0e-10  4.5  0.179157\n",
       "           1.0e-15  4.5  0.036122\n",
       "           1.0e-17  4.5 -0.000306\n",
       "           1.0e-20  4.5 -0.005909\n",
       "           1.0e-30  4.5  0.002375\n",
       "           1.0e-40  4.5 -0.003397\n",
       "           1.0e-50  4.5  0.003594\n",
       "40         1.0e-03  4.5  0.248605\n",
       "           1.0e-05  4.5  0.097989\n",
       "           1.0e-10  4.5  0.104159\n",
       "           1.0e-15  4.5  0.028347\n",
       "           1.0e-17  4.5  0.001807\n",
       "           1.0e-20  4.5  0.001702\n",
       "           1.0e-30  4.5  0.003421\n",
       "           1.0e-40  4.5  0.002674\n",
       "           1.0e-50  4.5  0.003220\n",
       "50         1.0e-03  4.5  0.137831\n",
       "           1.0e-05  4.5  0.085840\n",
       "           1.0e-10  4.5  0.081443\n",
       "           1.0e-15  4.5  0.024901\n",
       "           1.0e-17  4.5  0.003959\n",
       "           1.0e-20  4.5  0.001257\n",
       "           1.0e-30  4.5  0.010061\n",
       "           1.0e-40  4.5  0.000468\n",
       "           1.0e-50  4.5  0.000552\n",
       "60         1.0e-03  4.5  0.107163\n",
       "           1.0e-05  4.5  0.063997\n",
       "           1.0e-10  4.5  0.065680\n",
       "           1.0e-15  4.5  0.019289\n",
       "           1.0e-17  4.5  0.003641\n",
       "           1.0e-20  4.5  0.007620\n",
       "           1.0e-30  4.5  0.006208\n",
       "           1.0e-40  4.5  0.006095\n",
       "           1.0e-50  4.5  0.005413"
      ]
     },
     "metadata": {},
     "output_type": "display_data"
    }
   ],
   "source": [
    "with pd.option_context(\"display.max_rows\", None, \"display.max_columns\", None):\n",
    "    _df = parts_ari_df_plot.groupby([\"n_clusters\", \"gamma\"]).mean()\n",
    "    display(_df)"
   ]
  },
  {
   "cell_type": "code",
   "execution_count": 66,
   "metadata": {
    "execution": {
     "iopub.execute_input": "2021-03-09T21:52:21.311891Z",
     "iopub.status.busy": "2021-03-09T21:52:21.311528Z",
     "iopub.status.idle": "2021-03-09T21:52:23.276053Z",
     "shell.execute_reply": "2021-03-09T21:52:23.276349Z"
    },
    "papermill": {
     "duration": 2.08396,
     "end_time": "2021-03-09T21:52:23.276452",
     "exception": false,
     "start_time": "2021-03-09T21:52:21.192492",
     "status": "completed"
    },
    "tags": []
   },
   "outputs": [
    {
     "data": {
      "image/png": "[encoded data removed]",
      "text/plain": [
       "<Figure size 1008x432 with 1 Axes>"
      ]
     },
     "metadata": {},
     "output_type": "display_data"
    }
   ],
   "source": [
    "with sns.plotting_context(\"talk\", font_scale=0.75), sns.axes_style(\n",
    "    \"whitegrid\", {\"grid.linestyle\": \"--\"}\n",
    "):\n",
    "    fig = plt.figure(figsize=(14, 6))\n",
    "    ax = sns.pointplot(data=parts_ari_df_plot, x=\"n_clusters\", y=\"ari\", hue=\"gamma\")\n",
    "    ax.set_ylabel(\"Averange ARI\")\n",
    "    ax.set_xlabel(\"Number of clusters ($k$)\")\n",
    "    ax.set_xticklabels(ax.get_xticklabels(), rotation=45)\n",
    "    plt.grid(True)\n",
    "    plt.tight_layout()"
   ]
  },
  {
   "cell_type": "markdown",
   "metadata": {
    "papermill": {
     "duration": 0.122127,
     "end_time": "2021-03-09T21:52:23.517340",
     "exception": false,
     "start_time": "2021-03-09T21:52:23.395213",
     "status": "completed"
    },
    "tags": []
   },
   "source": [
    "# Conclusions"
   ]
  },
  {
   "cell_type": "markdown",
   "metadata": {
    "papermill": {
     "duration": 0.116691,
     "end_time": "2021-03-09T21:52:23.751519",
     "exception": false,
     "start_time": "2021-03-09T21:52:23.634828",
     "status": "completed"
    },
    "tags": []
   },
   "source": [
    "**UPDATE** We choose `1e-10` as the `gamma` parameter for this data version."
   ]
  },
  {
   "cell_type": "code",
   "execution_count": null,
   "metadata": {
    "papermill": {
     "duration": 0.125934,
     "end_time": "2021-03-09T21:52:23.997156",
     "exception": false,
     "start_time": "2021-03-09T21:52:23.871222",
     "status": "completed"
    },
    "tags": []
   },
   "outputs": [],
   "source": []
  }
 ],
 "metadata": {
  "jupytext": {
   "cell_metadata_filter": "all,-execution,-papermill,-trusted",
   "formats": "ipynb,py//py:percent"
  },
  "kernelspec": {
   "display_name": "Python 3",
   "language": "python",
   "name": "python3"
  },
  "language_info": {
   "codemirror_mode": {
    "name": "ipython",
    "version": 3
   },
   "file_extension": ".py",
   "mimetype": "text/x-python",
   "name": "python",
   "nbconvert_exporter": "python",
   "pygments_lexer": "ipython3",
   "version": "3.8.8"
  },
  "papermill": {
   "default_parameters": {},
   "duration": 1263.499203,
   "end_time": "2021-03-09T21:52:25.427685",
   "environment_variables": {},
   "exception": null,
   "input_path": "15_cluster_analysis/pre_analysis/05_01-spectral_clustering-z_score_std.ipynb",
   "output_path": "15_cluster_analysis/pre_analysis/05_01-spectral_clustering-z_score_std.run.ipynb",
   "parameters": {},
   "start_time": "2021-03-09T21:31:21.928482",
   "version": "2.2.2"
  },
  "toc-autonumbering": true,
  "toc-showcode": false,
  "toc-showmarkdowntxt": false,
  "toc-showtags": false
 },
 "nbformat": 4,
 "nbformat_minor": 4
}
