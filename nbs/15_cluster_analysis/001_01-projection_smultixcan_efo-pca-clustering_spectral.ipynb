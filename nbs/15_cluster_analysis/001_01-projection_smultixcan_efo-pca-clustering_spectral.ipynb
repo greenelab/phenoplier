{
 "cells": [
  {
   "cell_type": "markdown",
   "metadata": {
    "papermill": {
     "duration": 0.053394,
     "end_time": "2020-12-02T21:15:53.150852",
     "exception": false,
     "start_time": "2020-12-02T21:15:53.097458",
     "status": "completed"
    },
    "tags": []
   },
   "source": [
    "# Description"
   ]
  },
  {
   "cell_type": "markdown",
   "metadata": {
    "papermill": {
     "duration": 0.017413,
     "end_time": "2020-12-02T21:15:53.187308",
     "exception": false,
     "start_time": "2020-12-02T21:15:53.169895",
     "status": "completed"
    },
    "tags": []
   },
   "source": [
    "Runs spectral clustering on the pca version of the data."
   ]
  },
  {
   "cell_type": "markdown",
   "metadata": {
    "papermill": {
     "duration": 0.017264,
     "end_time": "2020-12-02T21:15:53.222074",
     "exception": false,
     "start_time": "2020-12-02T21:15:53.204810",
     "status": "completed"
    },
    "tags": []
   },
   "source": [
    "# Environment variables"
   ]
  },
  {
   "cell_type": "code",
   "execution_count": 1,
   "metadata": {
    "execution": {
     "iopub.execute_input": "2020-12-02T21:15:53.259967Z",
     "iopub.status.busy": "2020-12-02T21:15:53.259603Z",
     "iopub.status.idle": "2020-12-02T21:15:53.270399Z",
     "shell.execute_reply": "2020-12-02T21:15:53.269974Z"
    },
    "papermill": {
     "duration": 0.031034,
     "end_time": "2020-12-02T21:15:53.270518",
     "exception": false,
     "start_time": "2020-12-02T21:15:53.239484",
     "status": "completed"
    },
    "tags": []
   },
   "outputs": [
    {
     "data": {
      "text/plain": [
       "3"
      ]
     },
     "metadata": {},
     "output_type": "display_data"
    }
   ],
   "source": [
    "from IPython.display import display\n",
    "\n",
    "import conf\n",
    "\n",
    "N_JOBS = conf.GENERAL['N_JOBS']\n",
    "display(N_JOBS)"
   ]
  },
  {
   "cell_type": "code",
   "execution_count": 2,
   "metadata": {
    "execution": {
     "iopub.execute_input": "2020-12-02T21:15:53.311892Z",
     "iopub.status.busy": "2020-12-02T21:15:53.311503Z",
     "iopub.status.idle": "2020-12-02T21:15:53.314148Z",
     "shell.execute_reply": "2020-12-02T21:15:53.313772Z"
    },
    "papermill": {
     "duration": 0.024863,
     "end_time": "2020-12-02T21:15:53.314234",
     "exception": false,
     "start_time": "2020-12-02T21:15:53.289371",
     "status": "completed"
    },
    "tags": []
   },
   "outputs": [
    {
     "name": "stdout",
     "output_type": "stream",
     "text": [
      "env: MKL_NUM_THREADS=3\n",
      "env: OPEN_BLAS_NUM_THREADS=3\n",
      "env: NUMEXPR_NUM_THREADS=3\n",
      "env: OMP_NUM_THREADS=3\n"
     ]
    }
   ],
   "source": [
    "%env MKL_NUM_THREADS=$N_JOBS\n",
    "%env OPEN_BLAS_NUM_THREADS=$N_JOBS\n",
    "%env NUMEXPR_NUM_THREADS=$N_JOBS\n",
    "%env OMP_NUM_THREADS=$N_JOBS"
   ]
  },
  {
   "cell_type": "markdown",
   "metadata": {
    "papermill": {
     "duration": 0.018056,
     "end_time": "2020-12-02T21:15:53.351015",
     "exception": false,
     "start_time": "2020-12-02T21:15:53.332959",
     "status": "completed"
    },
    "tags": []
   },
   "source": [
    "# Modules loading"
   ]
  },
  {
   "cell_type": "code",
   "execution_count": 3,
   "metadata": {
    "execution": {
     "iopub.execute_input": "2020-12-02T21:15:53.390695Z",
     "iopub.status.busy": "2020-12-02T21:15:53.389571Z",
     "iopub.status.idle": "2020-12-02T21:15:53.397478Z",
     "shell.execute_reply": "2020-12-02T21:15:53.397163Z"
    },
    "papermill": {
     "duration": 0.028618,
     "end_time": "2020-12-02T21:15:53.397565",
     "exception": false,
     "start_time": "2020-12-02T21:15:53.368947",
     "status": "completed"
    },
    "tags": []
   },
   "outputs": [],
   "source": [
    "%load_ext autoreload\n",
    "%autoreload 2"
   ]
  },
  {
   "cell_type": "code",
   "execution_count": 4,
   "metadata": {
    "execution": {
     "iopub.execute_input": "2020-12-02T21:15:53.436889Z",
     "iopub.status.busy": "2020-12-02T21:15:53.436485Z",
     "iopub.status.idle": "2020-12-02T21:15:55.031888Z",
     "shell.execute_reply": "2020-12-02T21:15:55.031527Z"
    },
    "papermill": {
     "duration": 1.615896,
     "end_time": "2020-12-02T21:15:55.031991",
     "exception": false,
     "start_time": "2020-12-02T21:15:53.416095",
     "status": "completed"
    },
    "tags": []
   },
   "outputs": [],
   "source": [
    "from pathlib import Path\n",
    "\n",
    "import numpy as np\n",
    "import pandas as pd\n",
    "import umap\n",
    "import matplotlib.pyplot as plt\n",
    "import seaborn as sns\n",
    "\n",
    "from utils import generate_result_set_name"
   ]
  },
  {
   "cell_type": "markdown",
   "metadata": {
    "papermill": {
     "duration": 0.019147,
     "end_time": "2020-12-02T21:15:55.072144",
     "exception": false,
     "start_time": "2020-12-02T21:15:55.052997",
     "status": "completed"
    },
    "tags": []
   },
   "source": [
    "# Settings"
   ]
  },
  {
   "cell_type": "code",
   "execution_count": 5,
   "metadata": {
    "execution": {
     "iopub.execute_input": "2020-12-02T21:15:55.111498Z",
     "iopub.status.busy": "2020-12-02T21:15:55.111138Z",
     "iopub.status.idle": "2020-12-02T21:15:55.122993Z",
     "shell.execute_reply": "2020-12-02T21:15:55.122663Z"
    },
    "papermill": {
     "duration": 0.032505,
     "end_time": "2020-12-02T21:15:55.123079",
     "exception": false,
     "start_time": "2020-12-02T21:15:55.090574",
     "status": "completed"
    },
    "tags": []
   },
   "outputs": [],
   "source": [
    "INITIAL_RANDOM_STATE = 40000"
   ]
  },
  {
   "cell_type": "markdown",
   "metadata": {
    "papermill": {
     "duration": 0.018224,
     "end_time": "2020-12-02T21:15:55.160030",
     "exception": false,
     "start_time": "2020-12-02T21:15:55.141806",
     "status": "completed"
    },
    "tags": []
   },
   "source": [
    "## Input data"
   ]
  },
  {
   "cell_type": "code",
   "execution_count": 6,
   "metadata": {
    "execution": {
     "iopub.execute_input": "2020-12-02T21:15:55.199602Z",
     "iopub.status.busy": "2020-12-02T21:15:55.199234Z",
     "iopub.status.idle": "2020-12-02T21:15:55.211188Z",
     "shell.execute_reply": "2020-12-02T21:15:55.210825Z"
    },
    "papermill": {
     "duration": 0.032891,
     "end_time": "2020-12-02T21:15:55.211276",
     "exception": false,
     "start_time": "2020-12-02T21:15:55.178385",
     "status": "completed"
    },
    "tags": []
   },
   "outputs": [],
   "source": [
    "INPUT_SUBSET = 'pca'"
   ]
  },
  {
   "cell_type": "code",
   "execution_count": 7,
   "metadata": {
    "execution": {
     "iopub.execute_input": "2020-12-02T21:15:55.251470Z",
     "iopub.status.busy": "2020-12-02T21:15:55.251115Z",
     "iopub.status.idle": "2020-12-02T21:15:55.262725Z",
     "shell.execute_reply": "2020-12-02T21:15:55.262406Z"
    },
    "papermill": {
     "duration": 0.032551,
     "end_time": "2020-12-02T21:15:55.262811",
     "exception": false,
     "start_time": "2020-12-02T21:15:55.230260",
     "status": "completed"
    },
    "tags": []
   },
   "outputs": [],
   "source": [
    "INPUT_STEM = 'z_score_std-projection-smultixcan-efo_partial-mashr-zscores'"
   ]
  },
  {
   "cell_type": "code",
   "execution_count": 8,
   "metadata": {
    "execution": {
     "iopub.execute_input": "2020-12-02T21:15:55.303258Z",
     "iopub.status.busy": "2020-12-02T21:15:55.302888Z",
     "iopub.status.idle": "2020-12-02T21:15:55.314943Z",
     "shell.execute_reply": "2020-12-02T21:15:55.314580Z"
    },
    "papermill": {
     "duration": 0.032922,
     "end_time": "2020-12-02T21:15:55.315029",
     "exception": false,
     "start_time": "2020-12-02T21:15:55.282107",
     "status": "completed"
    },
    "tags": []
   },
   "outputs": [],
   "source": [
    "DR_OPTIONS = {\n",
    "    'n_components': 50,\n",
    "    'svd_solver': 'full',\n",
    "    'random_state': 0,\n",
    "}"
   ]
  },
  {
   "cell_type": "code",
   "execution_count": 9,
   "metadata": {
    "execution": {
     "iopub.execute_input": "2020-12-02T21:15:55.354904Z",
     "iopub.status.busy": "2020-12-02T21:15:55.354539Z",
     "iopub.status.idle": "2020-12-02T21:15:55.367869Z",
     "shell.execute_reply": "2020-12-02T21:15:55.368164Z"
    },
    "papermill": {
     "duration": 0.034568,
     "end_time": "2020-12-02T21:15:55.368271",
     "exception": false,
     "start_time": "2020-12-02T21:15:55.333703",
     "status": "completed"
    },
    "tags": []
   },
   "outputs": [
    {
     "data": {
      "text/plain": [
       "PosixPath('/home/miltondp/projects/labs/greenelab/phenoplier/base/results/data_transformations/pca/pca-z_score_std-projection-smultixcan-efo_partial-mashr-zscores-n_components_50-random_state_0-svd_solver_full.pkl')"
      ]
     },
     "metadata": {},
     "output_type": "display_data"
    },
    {
     "data": {
      "text/plain": [
       "'pca-z_score_std-projection-smultixcan-efo_partial-mashr-zscores-n_components_50-random_state_0-svd_solver_full'"
      ]
     },
     "metadata": {},
     "output_type": "display_data"
    }
   ],
   "source": [
    "input_filepath = Path(\n",
    "    conf.RESULTS[\"DATA_TRANSFORMATIONS_DIR\"],\n",
    "    INPUT_SUBSET,\n",
    "    generate_result_set_name(\n",
    "        DR_OPTIONS,\n",
    "        prefix=f'{INPUT_SUBSET}-{INPUT_STEM}-',\n",
    "        suffix='.pkl'\n",
    "    )\n",
    ").resolve()\n",
    "display(input_filepath)\n",
    "\n",
    "assert input_filepath.exists(), 'Input file does not exist'\n",
    "\n",
    "input_filepath_stem = input_filepath.stem\n",
    "display(input_filepath_stem)"
   ]
  },
  {
   "cell_type": "markdown",
   "metadata": {
    "papermill": {
     "duration": 0.019151,
     "end_time": "2020-12-02T21:15:55.407063",
     "exception": false,
     "start_time": "2020-12-02T21:15:55.387912",
     "status": "completed"
    },
    "tags": []
   },
   "source": [
    "## Clustering"
   ]
  },
  {
   "cell_type": "code",
   "execution_count": 10,
   "metadata": {
    "execution": {
     "iopub.execute_input": "2020-12-02T21:15:55.448000Z",
     "iopub.status.busy": "2020-12-02T21:15:55.447644Z",
     "iopub.status.idle": "2020-12-02T21:15:55.465440Z",
     "shell.execute_reply": "2020-12-02T21:15:55.465128Z"
    },
    "papermill": {
     "duration": 0.039418,
     "end_time": "2020-12-02T21:15:55.465531",
     "exception": false,
     "start_time": "2020-12-02T21:15:55.426113",
     "status": "completed"
    },
    "tags": []
   },
   "outputs": [],
   "source": [
    "from sklearn.cluster import SpectralClustering"
   ]
  },
  {
   "cell_type": "code",
   "execution_count": 11,
   "metadata": {
    "execution": {
     "iopub.execute_input": "2020-12-02T21:15:55.506636Z",
     "iopub.status.busy": "2020-12-02T21:15:55.506280Z",
     "iopub.status.idle": "2020-12-02T21:15:55.517757Z",
     "shell.execute_reply": "2020-12-02T21:15:55.518054Z"
    },
    "papermill": {
     "duration": 0.033343,
     "end_time": "2020-12-02T21:15:55.518167",
     "exception": false,
     "start_time": "2020-12-02T21:15:55.484824",
     "status": "completed"
    },
    "tags": []
   },
   "outputs": [],
   "source": [
    "CLUSTERING_ATTRIBUTES_TO_SAVE = ['n_clusters']"
   ]
  },
  {
   "cell_type": "code",
   "execution_count": 12,
   "metadata": {
    "execution": {
     "iopub.execute_input": "2020-12-02T21:15:55.559613Z",
     "iopub.status.busy": "2020-12-02T21:15:55.559249Z",
     "iopub.status.idle": "2020-12-02T21:15:55.572072Z",
     "shell.execute_reply": "2020-12-02T21:15:55.571732Z"
    },
    "papermill": {
     "duration": 0.034319,
     "end_time": "2020-12-02T21:15:55.572159",
     "exception": false,
     "start_time": "2020-12-02T21:15:55.537840",
     "status": "completed"
    },
    "tags": []
   },
   "outputs": [
    {
     "data": {
      "text/plain": [
       "{'K_MIN': 2,\n",
       " 'K_MAX': 60,\n",
       " 'N_REPS_PER_K': 5,\n",
       " 'KMEANS_N_INIT': 10,\n",
       " 'N_NEIGHBORS': 10,\n",
       " 'AFFINITY': 'nearest_neighbors'}"
      ]
     },
     "metadata": {},
     "output_type": "display_data"
    }
   ],
   "source": [
    "CLUSTERING_OPTIONS = {}\n",
    "\n",
    "CLUSTERING_OPTIONS['K_MIN'] = 2\n",
    "CLUSTERING_OPTIONS['K_MAX'] = 60 # sqrt(3749)\n",
    "CLUSTERING_OPTIONS['N_REPS_PER_K'] = 5\n",
    "CLUSTERING_OPTIONS['KMEANS_N_INIT'] = 10\n",
    "CLUSTERING_OPTIONS['N_NEIGHBORS'] = 10\n",
    "CLUSTERING_OPTIONS['AFFINITY'] = 'nearest_neighbors'\n",
    "\n",
    "display(CLUSTERING_OPTIONS)"
   ]
  },
  {
   "cell_type": "code",
   "execution_count": 13,
   "metadata": {
    "execution": {
     "iopub.execute_input": "2020-12-02T21:15:55.615697Z",
     "iopub.status.busy": "2020-12-02T21:15:55.615332Z",
     "iopub.status.idle": "2020-12-02T21:15:55.628311Z",
     "shell.execute_reply": "2020-12-02T21:15:55.627950Z"
    },
    "papermill": {
     "duration": 0.035942,
     "end_time": "2020-12-02T21:15:55.628396",
     "exception": false,
     "start_time": "2020-12-02T21:15:55.592454",
     "status": "completed"
    },
    "tags": []
   },
   "outputs": [],
   "source": [
    "CLUSTERERS = {}\n",
    "\n",
    "idx = 0\n",
    "random_state = INITIAL_RANDOM_STATE\n",
    "\n",
    "for k in range(CLUSTERING_OPTIONS['K_MIN'], CLUSTERING_OPTIONS['K_MAX']+1):\n",
    "    for i in range(CLUSTERING_OPTIONS['N_REPS_PER_K']):\n",
    "        clus = SpectralClustering(\n",
    "                n_clusters=k,\n",
    "                n_init=CLUSTERING_OPTIONS['KMEANS_N_INIT'],\n",
    "                affinity=CLUSTERING_OPTIONS['AFFINITY'],\n",
    "                n_neighbors=CLUSTERING_OPTIONS['N_NEIGHBORS'],\n",
    "                random_state=random_state,\n",
    "            )\n",
    "        \n",
    "        method_name = type(clus).__name__\n",
    "        CLUSTERERS[f'{method_name} #{idx}'] = clus\n",
    "        \n",
    "        random_state = random_state + 1\n",
    "        idx = idx + 1"
   ]
  },
  {
   "cell_type": "code",
   "execution_count": 14,
   "metadata": {
    "execution": {
     "iopub.execute_input": "2020-12-02T21:15:55.669450Z",
     "iopub.status.busy": "2020-12-02T21:15:55.669093Z",
     "iopub.status.idle": "2020-12-02T21:15:55.681265Z",
     "shell.execute_reply": "2020-12-02T21:15:55.680949Z"
    },
    "papermill": {
     "duration": 0.03366,
     "end_time": "2020-12-02T21:15:55.681352",
     "exception": false,
     "start_time": "2020-12-02T21:15:55.647692",
     "status": "completed"
    },
    "tags": []
   },
   "outputs": [
    {
     "data": {
      "text/plain": [
       "295"
      ]
     },
     "metadata": {},
     "output_type": "display_data"
    }
   ],
   "source": [
    "display(len(CLUSTERERS))"
   ]
  },
  {
   "cell_type": "code",
   "execution_count": 15,
   "metadata": {
    "execution": {
     "iopub.execute_input": "2020-12-02T21:15:55.723533Z",
     "iopub.status.busy": "2020-12-02T21:15:55.723177Z",
     "iopub.status.idle": "2020-12-02T21:15:55.737571Z",
     "shell.execute_reply": "2020-12-02T21:15:55.737249Z"
    },
    "papermill": {
     "duration": 0.036324,
     "end_time": "2020-12-02T21:15:55.737659",
     "exception": false,
     "start_time": "2020-12-02T21:15:55.701335",
     "status": "completed"
    },
    "tags": []
   },
   "outputs": [
    {
     "data": {
      "text/plain": [
       "('SpectralClustering #0',\n",
       " SpectralClustering(affinity='nearest_neighbors', n_clusters=2,\n",
       "                    random_state=40000))"
      ]
     },
     "metadata": {},
     "output_type": "display_data"
    },
    {
     "data": {
      "text/plain": [
       "('SpectralClustering #1',\n",
       " SpectralClustering(affinity='nearest_neighbors', n_clusters=2,\n",
       "                    random_state=40001))"
      ]
     },
     "metadata": {},
     "output_type": "display_data"
    }
   ],
   "source": [
    "_iter = iter(CLUSTERERS.items())\n",
    "display(next(_iter))\n",
    "display(next(_iter))"
   ]
  },
  {
   "cell_type": "code",
   "execution_count": 16,
   "metadata": {
    "execution": {
     "iopub.execute_input": "2020-12-02T21:15:55.780197Z",
     "iopub.status.busy": "2020-12-02T21:15:55.779842Z",
     "iopub.status.idle": "2020-12-02T21:15:55.793189Z",
     "shell.execute_reply": "2020-12-02T21:15:55.792847Z"
    },
    "papermill": {
     "duration": 0.035186,
     "end_time": "2020-12-02T21:15:55.793292",
     "exception": false,
     "start_time": "2020-12-02T21:15:55.758106",
     "status": "completed"
    },
    "tags": []
   },
   "outputs": [
    {
     "data": {
      "text/plain": [
       "'SpectralClustering'"
      ]
     },
     "metadata": {},
     "output_type": "display_data"
    }
   ],
   "source": [
    "clustering_method_name = method_name\n",
    "display(clustering_method_name)"
   ]
  },
  {
   "cell_type": "markdown",
   "metadata": {
    "papermill": {
     "duration": 0.020245,
     "end_time": "2020-12-02T21:15:55.835758",
     "exception": false,
     "start_time": "2020-12-02T21:15:55.815513",
     "status": "completed"
    },
    "tags": []
   },
   "source": [
    "## Output directory"
   ]
  },
  {
   "cell_type": "code",
   "execution_count": 17,
   "metadata": {
    "execution": {
     "iopub.execute_input": "2020-12-02T21:15:55.879458Z",
     "iopub.status.busy": "2020-12-02T21:15:55.879086Z",
     "iopub.status.idle": "2020-12-02T21:15:55.891915Z",
     "shell.execute_reply": "2020-12-02T21:15:55.892215Z"
    },
    "papermill": {
     "duration": 0.036104,
     "end_time": "2020-12-02T21:15:55.892321",
     "exception": false,
     "start_time": "2020-12-02T21:15:55.856217",
     "status": "completed"
    },
    "tags": []
   },
   "outputs": [
    {
     "data": {
      "text/plain": [
       "PosixPath('/home/miltondp/projects/labs/greenelab/phenoplier/base/results/clustering/runs/pca-z_score_std-projection-smultixcan-efo_partial-mashr-zscores')"
      ]
     },
     "metadata": {},
     "output_type": "display_data"
    }
   ],
   "source": [
    "# output dir for this notebook\n",
    "RESULTS_DIR = Path(\n",
    "    conf.RESULTS[\"CLUSTERING_RUNS_DIR\"],\n",
    "    f'{INPUT_SUBSET}-{INPUT_STEM}',\n",
    ").resolve()\n",
    "RESULTS_DIR.mkdir(parents=True, exist_ok=True)\n",
    "\n",
    "display(RESULTS_DIR)"
   ]
  },
  {
   "cell_type": "markdown",
   "metadata": {
    "papermill": {
     "duration": 0.020733,
     "end_time": "2020-12-02T21:15:55.934518",
     "exception": false,
     "start_time": "2020-12-02T21:15:55.913785",
     "status": "completed"
    },
    "tags": []
   },
   "source": [
    "# Load input file"
   ]
  },
  {
   "cell_type": "code",
   "execution_count": 18,
   "metadata": {
    "execution": {
     "iopub.execute_input": "2020-12-02T21:15:55.977929Z",
     "iopub.status.busy": "2020-12-02T21:15:55.977562Z",
     "iopub.status.idle": "2020-12-02T21:15:55.991414Z",
     "shell.execute_reply": "2020-12-02T21:15:55.991089Z"
    },
    "papermill": {
     "duration": 0.036581,
     "end_time": "2020-12-02T21:15:55.991503",
     "exception": false,
     "start_time": "2020-12-02T21:15:55.954922",
     "status": "completed"
    },
    "tags": []
   },
   "outputs": [],
   "source": [
    "data = pd.read_pickle(input_filepath)"
   ]
  },
  {
   "cell_type": "code",
   "execution_count": 19,
   "metadata": {
    "execution": {
     "iopub.execute_input": "2020-12-02T21:15:56.036255Z",
     "iopub.status.busy": "2020-12-02T21:15:56.035900Z",
     "iopub.status.idle": "2020-12-02T21:15:56.049096Z",
     "shell.execute_reply": "2020-12-02T21:15:56.048654Z"
    },
    "papermill": {
     "duration": 0.036283,
     "end_time": "2020-12-02T21:15:56.049184",
     "exception": false,
     "start_time": "2020-12-02T21:15:56.012901",
     "status": "completed"
    },
    "tags": []
   },
   "outputs": [
    {
     "data": {
      "text/plain": [
       "(3749, 50)"
      ]
     },
     "execution_count": 19,
     "metadata": {},
     "output_type": "execute_result"
    }
   ],
   "source": [
    "data.shape"
   ]
  },
  {
   "cell_type": "code",
   "execution_count": 20,
   "metadata": {
    "execution": {
     "iopub.execute_input": "2020-12-02T21:15:56.093575Z",
     "iopub.status.busy": "2020-12-02T21:15:56.093196Z",
     "iopub.status.idle": "2020-12-02T21:15:56.118404Z",
     "shell.execute_reply": "2020-12-02T21:15:56.118033Z"
    },
    "papermill": {
     "duration": 0.048125,
     "end_time": "2020-12-02T21:15:56.118491",
     "exception": false,
     "start_time": "2020-12-02T21:15:56.070366",
     "status": "completed"
    },
    "tags": []
   },
   "outputs": [
    {
     "data": {
      "text/html": [
       "<div>\n",
       "<style scoped>\n",
       "    .dataframe tbody tr th:only-of-type {\n",
       "        vertical-align: middle;\n",
       "    }\n",
       "\n",
       "    .dataframe tbody tr th {\n",
       "        vertical-align: top;\n",
       "    }\n",
       "\n",
       "    .dataframe thead th {\n",
       "        text-align: right;\n",
       "    }\n",
       "</style>\n",
       "<table border=\"1\" class=\"dataframe\">\n",
       "  <thead>\n",
       "    <tr style=\"text-align: right;\">\n",
       "      <th></th>\n",
       "      <th>PCA1</th>\n",
       "      <th>PCA2</th>\n",
       "      <th>PCA3</th>\n",
       "      <th>PCA4</th>\n",
       "      <th>PCA5</th>\n",
       "      <th>PCA6</th>\n",
       "      <th>PCA7</th>\n",
       "      <th>PCA8</th>\n",
       "      <th>PCA9</th>\n",
       "      <th>PCA10</th>\n",
       "      <th>...</th>\n",
       "      <th>PCA41</th>\n",
       "      <th>PCA42</th>\n",
       "      <th>PCA43</th>\n",
       "      <th>PCA44</th>\n",
       "      <th>PCA45</th>\n",
       "      <th>PCA46</th>\n",
       "      <th>PCA47</th>\n",
       "      <th>PCA48</th>\n",
       "      <th>PCA49</th>\n",
       "      <th>PCA50</th>\n",
       "    </tr>\n",
       "  </thead>\n",
       "  <tbody>\n",
       "    <tr>\n",
       "      <th>100001_raw-Food_weight</th>\n",
       "      <td>-0.547515</td>\n",
       "      <td>-0.007250</td>\n",
       "      <td>0.245361</td>\n",
       "      <td>0.132424</td>\n",
       "      <td>1.201447</td>\n",
       "      <td>-0.113158</td>\n",
       "      <td>0.048859</td>\n",
       "      <td>1.031679</td>\n",
       "      <td>0.711208</td>\n",
       "      <td>0.126100</td>\n",
       "      <td>...</td>\n",
       "      <td>0.113685</td>\n",
       "      <td>-0.109753</td>\n",
       "      <td>0.178202</td>\n",
       "      <td>-0.487868</td>\n",
       "      <td>1.805920</td>\n",
       "      <td>-0.342611</td>\n",
       "      <td>-0.663712</td>\n",
       "      <td>-1.313987</td>\n",
       "      <td>-1.481707</td>\n",
       "      <td>0.396410</td>\n",
       "    </tr>\n",
       "    <tr>\n",
       "      <th>100002_raw-Energy</th>\n",
       "      <td>-1.570593</td>\n",
       "      <td>-0.618992</td>\n",
       "      <td>-1.223395</td>\n",
       "      <td>1.627321</td>\n",
       "      <td>-0.563860</td>\n",
       "      <td>0.224922</td>\n",
       "      <td>-1.500327</td>\n",
       "      <td>2.045633</td>\n",
       "      <td>-1.665998</td>\n",
       "      <td>-0.180432</td>\n",
       "      <td>...</td>\n",
       "      <td>0.697880</td>\n",
       "      <td>1.412676</td>\n",
       "      <td>2.103988</td>\n",
       "      <td>0.385625</td>\n",
       "      <td>2.386495</td>\n",
       "      <td>-2.939998</td>\n",
       "      <td>-0.978275</td>\n",
       "      <td>-1.893307</td>\n",
       "      <td>-0.259497</td>\n",
       "      <td>0.423264</td>\n",
       "    </tr>\n",
       "    <tr>\n",
       "      <th>100003_raw-Protein</th>\n",
       "      <td>-0.601212</td>\n",
       "      <td>-0.948824</td>\n",
       "      <td>-1.022209</td>\n",
       "      <td>2.438433</td>\n",
       "      <td>-2.062235</td>\n",
       "      <td>0.356202</td>\n",
       "      <td>-1.538038</td>\n",
       "      <td>2.314675</td>\n",
       "      <td>-1.108991</td>\n",
       "      <td>0.318034</td>\n",
       "      <td>...</td>\n",
       "      <td>0.171992</td>\n",
       "      <td>1.351979</td>\n",
       "      <td>0.054404</td>\n",
       "      <td>-0.725132</td>\n",
       "      <td>2.226520</td>\n",
       "      <td>-3.481674</td>\n",
       "      <td>-0.445294</td>\n",
       "      <td>-0.477452</td>\n",
       "      <td>0.237157</td>\n",
       "      <td>1.440867</td>\n",
       "    </tr>\n",
       "    <tr>\n",
       "      <th>100004_raw-Fat</th>\n",
       "      <td>-1.648214</td>\n",
       "      <td>-0.342042</td>\n",
       "      <td>-0.270189</td>\n",
       "      <td>1.683268</td>\n",
       "      <td>-1.222401</td>\n",
       "      <td>0.018349</td>\n",
       "      <td>-0.032824</td>\n",
       "      <td>1.671161</td>\n",
       "      <td>-0.908965</td>\n",
       "      <td>0.224100</td>\n",
       "      <td>...</td>\n",
       "      <td>-0.358812</td>\n",
       "      <td>0.696836</td>\n",
       "      <td>1.072624</td>\n",
       "      <td>0.627951</td>\n",
       "      <td>1.802000</td>\n",
       "      <td>0.174704</td>\n",
       "      <td>0.826319</td>\n",
       "      <td>-0.826992</td>\n",
       "      <td>0.596113</td>\n",
       "      <td>0.620050</td>\n",
       "    </tr>\n",
       "    <tr>\n",
       "      <th>100005_raw-Carbohydrate</th>\n",
       "      <td>-1.867586</td>\n",
       "      <td>-0.006412</td>\n",
       "      <td>-0.303220</td>\n",
       "      <td>0.770958</td>\n",
       "      <td>-0.116822</td>\n",
       "      <td>0.460946</td>\n",
       "      <td>-2.407732</td>\n",
       "      <td>1.534273</td>\n",
       "      <td>-1.930577</td>\n",
       "      <td>0.064621</td>\n",
       "      <td>...</td>\n",
       "      <td>1.332852</td>\n",
       "      <td>1.978032</td>\n",
       "      <td>2.158456</td>\n",
       "      <td>0.831123</td>\n",
       "      <td>1.093202</td>\n",
       "      <td>-3.539033</td>\n",
       "      <td>-0.831862</td>\n",
       "      <td>-0.842298</td>\n",
       "      <td>-0.723072</td>\n",
       "      <td>0.359438</td>\n",
       "    </tr>\n",
       "  </tbody>\n",
       "</table>\n",
       "<p>5 rows × 50 columns</p>\n",
       "</div>"
      ],
      "text/plain": [
       "                             PCA1      PCA2      PCA3      PCA4      PCA5  \\\n",
       "100001_raw-Food_weight  -0.547515 -0.007250  0.245361  0.132424  1.201447   \n",
       "100002_raw-Energy       -1.570593 -0.618992 -1.223395  1.627321 -0.563860   \n",
       "100003_raw-Protein      -0.601212 -0.948824 -1.022209  2.438433 -2.062235   \n",
       "100004_raw-Fat          -1.648214 -0.342042 -0.270189  1.683268 -1.222401   \n",
       "100005_raw-Carbohydrate -1.867586 -0.006412 -0.303220  0.770958 -0.116822   \n",
       "\n",
       "                             PCA6      PCA7      PCA8      PCA9     PCA10  \\\n",
       "100001_raw-Food_weight  -0.113158  0.048859  1.031679  0.711208  0.126100   \n",
       "100002_raw-Energy        0.224922 -1.500327  2.045633 -1.665998 -0.180432   \n",
       "100003_raw-Protein       0.356202 -1.538038  2.314675 -1.108991  0.318034   \n",
       "100004_raw-Fat           0.018349 -0.032824  1.671161 -0.908965  0.224100   \n",
       "100005_raw-Carbohydrate  0.460946 -2.407732  1.534273 -1.930577  0.064621   \n",
       "\n",
       "                         ...     PCA41     PCA42     PCA43     PCA44  \\\n",
       "100001_raw-Food_weight   ...  0.113685 -0.109753  0.178202 -0.487868   \n",
       "100002_raw-Energy        ...  0.697880  1.412676  2.103988  0.385625   \n",
       "100003_raw-Protein       ...  0.171992  1.351979  0.054404 -0.725132   \n",
       "100004_raw-Fat           ... -0.358812  0.696836  1.072624  0.627951   \n",
       "100005_raw-Carbohydrate  ...  1.332852  1.978032  2.158456  0.831123   \n",
       "\n",
       "                            PCA45     PCA46     PCA47     PCA48     PCA49  \\\n",
       "100001_raw-Food_weight   1.805920 -0.342611 -0.663712 -1.313987 -1.481707   \n",
       "100002_raw-Energy        2.386495 -2.939998 -0.978275 -1.893307 -0.259497   \n",
       "100003_raw-Protein       2.226520 -3.481674 -0.445294 -0.477452  0.237157   \n",
       "100004_raw-Fat           1.802000  0.174704  0.826319 -0.826992  0.596113   \n",
       "100005_raw-Carbohydrate  1.093202 -3.539033 -0.831862 -0.842298 -0.723072   \n",
       "\n",
       "                            PCA50  \n",
       "100001_raw-Food_weight   0.396410  \n",
       "100002_raw-Energy        0.423264  \n",
       "100003_raw-Protein       1.440867  \n",
       "100004_raw-Fat           0.620050  \n",
       "100005_raw-Carbohydrate  0.359438  \n",
       "\n",
       "[5 rows x 50 columns]"
      ]
     },
     "execution_count": 20,
     "metadata": {},
     "output_type": "execute_result"
    }
   ],
   "source": [
    "data.head()"
   ]
  },
  {
   "cell_type": "code",
   "execution_count": 21,
   "metadata": {
    "execution": {
     "iopub.execute_input": "2020-12-02T21:15:56.164339Z",
     "iopub.status.busy": "2020-12-02T21:15:56.163970Z",
     "iopub.status.idle": "2020-12-02T21:15:56.176207Z",
     "shell.execute_reply": "2020-12-02T21:15:56.175901Z"
    },
    "papermill": {
     "duration": 0.036099,
     "end_time": "2020-12-02T21:15:56.176296",
     "exception": false,
     "start_time": "2020-12-02T21:15:56.140197",
     "status": "completed"
    },
    "tags": []
   },
   "outputs": [],
   "source": [
    "assert not data.isna().any().any()"
   ]
  },
  {
   "cell_type": "markdown",
   "metadata": {
    "papermill": {
     "duration": 0.021583,
     "end_time": "2020-12-02T21:15:56.220283",
     "exception": false,
     "start_time": "2020-12-02T21:15:56.198700",
     "status": "completed"
    },
    "tags": []
   },
   "source": [
    "# Clustering"
   ]
  },
  {
   "cell_type": "markdown",
   "metadata": {
    "papermill": {
     "duration": 0.020945,
     "end_time": "2020-12-02T21:15:56.262564",
     "exception": false,
     "start_time": "2020-12-02T21:15:56.241619",
     "status": "completed"
    },
    "tags": []
   },
   "source": [
    "## Generate ensemble"
   ]
  },
  {
   "cell_type": "code",
   "execution_count": 22,
   "metadata": {
    "execution": {
     "iopub.execute_input": "2020-12-02T21:15:56.308005Z",
     "iopub.status.busy": "2020-12-02T21:15:56.307641Z",
     "iopub.status.idle": "2020-12-02T21:15:56.322361Z",
     "shell.execute_reply": "2020-12-02T21:15:56.321987Z"
    },
    "papermill": {
     "duration": 0.038524,
     "end_time": "2020-12-02T21:15:56.322449",
     "exception": false,
     "start_time": "2020-12-02T21:15:56.283925",
     "status": "completed"
    },
    "tags": []
   },
   "outputs": [],
   "source": [
    "from clustering.ensemble import generate_ensemble"
   ]
  },
  {
   "cell_type": "code",
   "execution_count": 23,
   "metadata": {
    "execution": {
     "iopub.execute_input": "2020-12-02T21:15:56.368172Z",
     "iopub.status.busy": "2020-12-02T21:15:56.367805Z",
     "iopub.status.idle": "2020-12-02T21:47:33.753932Z",
     "shell.execute_reply": "2020-12-02T21:47:33.754204Z"
    },
    "papermill": {
     "duration": 1897.410176,
     "end_time": "2020-12-02T21:47:33.754310",
     "exception": false,
     "start_time": "2020-12-02T21:15:56.344134",
     "status": "completed"
    },
    "tags": []
   },
   "outputs": [
    {
     "name": "stderr",
     "output_type": "stream",
     "text": [
      "100%|██████████| 295/295 [31:37<00:00,  6.43s/it]\n"
     ]
    }
   ],
   "source": [
    "ensemble = generate_ensemble(\n",
    "    data,\n",
    "    CLUSTERERS,\n",
    "    attributes=CLUSTERING_ATTRIBUTES_TO_SAVE,\n",
    ")"
   ]
  },
  {
   "cell_type": "code",
   "execution_count": 24,
   "metadata": {
    "execution": {
     "iopub.execute_input": "2020-12-02T21:47:33.894466Z",
     "iopub.status.busy": "2020-12-02T21:47:33.894111Z",
     "iopub.status.idle": "2020-12-02T21:47:33.906580Z",
     "shell.execute_reply": "2020-12-02T21:47:33.906868Z"
    },
    "papermill": {
     "duration": 0.083247,
     "end_time": "2020-12-02T21:47:33.906972",
     "exception": false,
     "start_time": "2020-12-02T21:47:33.823725",
     "status": "completed"
    },
    "tags": []
   },
   "outputs": [
    {
     "data": {
      "text/plain": [
       "(295, 3)"
      ]
     },
     "execution_count": 24,
     "metadata": {},
     "output_type": "execute_result"
    }
   ],
   "source": [
    "# the number should be close to 295 (the number of partitions generated by k-means/spectral clustering)\n",
    "ensemble.shape"
   ]
  },
  {
   "cell_type": "code",
   "execution_count": 25,
   "metadata": {
    "execution": {
     "iopub.execute_input": "2020-12-02T21:47:34.047274Z",
     "iopub.status.busy": "2020-12-02T21:47:34.046879Z",
     "iopub.status.idle": "2020-12-02T21:47:34.066917Z",
     "shell.execute_reply": "2020-12-02T21:47:34.066585Z"
    },
    "papermill": {
     "duration": 0.09055,
     "end_time": "2020-12-02T21:47:34.067003",
     "exception": false,
     "start_time": "2020-12-02T21:47:33.976453",
     "status": "completed"
    },
    "tags": []
   },
   "outputs": [
    {
     "data": {
      "text/html": [
       "<div>\n",
       "<style scoped>\n",
       "    .dataframe tbody tr th:only-of-type {\n",
       "        vertical-align: middle;\n",
       "    }\n",
       "\n",
       "    .dataframe tbody tr th {\n",
       "        vertical-align: top;\n",
       "    }\n",
       "\n",
       "    .dataframe thead th {\n",
       "        text-align: right;\n",
       "    }\n",
       "</style>\n",
       "<table border=\"1\" class=\"dataframe\">\n",
       "  <thead>\n",
       "    <tr style=\"text-align: right;\">\n",
       "      <th></th>\n",
       "      <th>clusterer_params</th>\n",
       "      <th>partition</th>\n",
       "      <th>n_clusters</th>\n",
       "    </tr>\n",
       "    <tr>\n",
       "      <th>clusterer_id</th>\n",
       "      <th></th>\n",
       "      <th></th>\n",
       "      <th></th>\n",
       "    </tr>\n",
       "  </thead>\n",
       "  <tbody>\n",
       "    <tr>\n",
       "      <th>SpectralClustering #0</th>\n",
       "      <td>{'affinity': 'nearest_neighbors', 'assign_labe...</td>\n",
       "      <td>[0.0, 0.0, 0.0, 0.0, 0.0, 0.0, 0.0, 0.0, 0.0, ...</td>\n",
       "      <td>2</td>\n",
       "    </tr>\n",
       "    <tr>\n",
       "      <th>SpectralClustering #1</th>\n",
       "      <td>{'affinity': 'nearest_neighbors', 'assign_labe...</td>\n",
       "      <td>[0.0, 0.0, 0.0, 0.0, 0.0, 0.0, 0.0, 0.0, 0.0, ...</td>\n",
       "      <td>2</td>\n",
       "    </tr>\n",
       "    <tr>\n",
       "      <th>SpectralClustering #2</th>\n",
       "      <td>{'affinity': 'nearest_neighbors', 'assign_labe...</td>\n",
       "      <td>[0.0, 0.0, 0.0, 0.0, 0.0, 0.0, 0.0, 0.0, 0.0, ...</td>\n",
       "      <td>2</td>\n",
       "    </tr>\n",
       "    <tr>\n",
       "      <th>SpectralClustering #3</th>\n",
       "      <td>{'affinity': 'nearest_neighbors', 'assign_labe...</td>\n",
       "      <td>[0.0, 0.0, 0.0, 0.0, 0.0, 0.0, 0.0, 0.0, 0.0, ...</td>\n",
       "      <td>2</td>\n",
       "    </tr>\n",
       "    <tr>\n",
       "      <th>SpectralClustering #4</th>\n",
       "      <td>{'affinity': 'nearest_neighbors', 'assign_labe...</td>\n",
       "      <td>[0.0, 0.0, 0.0, 0.0, 0.0, 0.0, 0.0, 0.0, 0.0, ...</td>\n",
       "      <td>2</td>\n",
       "    </tr>\n",
       "  </tbody>\n",
       "</table>\n",
       "</div>"
      ],
      "text/plain": [
       "                                                        clusterer_params  \\\n",
       "clusterer_id                                                               \n",
       "SpectralClustering #0  {'affinity': 'nearest_neighbors', 'assign_labe...   \n",
       "SpectralClustering #1  {'affinity': 'nearest_neighbors', 'assign_labe...   \n",
       "SpectralClustering #2  {'affinity': 'nearest_neighbors', 'assign_labe...   \n",
       "SpectralClustering #3  {'affinity': 'nearest_neighbors', 'assign_labe...   \n",
       "SpectralClustering #4  {'affinity': 'nearest_neighbors', 'assign_labe...   \n",
       "\n",
       "                                                               partition  \\\n",
       "clusterer_id                                                               \n",
       "SpectralClustering #0  [0.0, 0.0, 0.0, 0.0, 0.0, 0.0, 0.0, 0.0, 0.0, ...   \n",
       "SpectralClustering #1  [0.0, 0.0, 0.0, 0.0, 0.0, 0.0, 0.0, 0.0, 0.0, ...   \n",
       "SpectralClustering #2  [0.0, 0.0, 0.0, 0.0, 0.0, 0.0, 0.0, 0.0, 0.0, ...   \n",
       "SpectralClustering #3  [0.0, 0.0, 0.0, 0.0, 0.0, 0.0, 0.0, 0.0, 0.0, ...   \n",
       "SpectralClustering #4  [0.0, 0.0, 0.0, 0.0, 0.0, 0.0, 0.0, 0.0, 0.0, ...   \n",
       "\n",
       "                       n_clusters  \n",
       "clusterer_id                       \n",
       "SpectralClustering #0           2  \n",
       "SpectralClustering #1           2  \n",
       "SpectralClustering #2           2  \n",
       "SpectralClustering #3           2  \n",
       "SpectralClustering #4           2  "
      ]
     },
     "execution_count": 25,
     "metadata": {},
     "output_type": "execute_result"
    }
   ],
   "source": [
    "ensemble.head()"
   ]
  },
  {
   "cell_type": "code",
   "execution_count": 26,
   "metadata": {
    "execution": {
     "iopub.execute_input": "2020-12-02T21:47:34.206999Z",
     "iopub.status.busy": "2020-12-02T21:47:34.206639Z",
     "iopub.status.idle": "2020-12-02T21:47:34.219858Z",
     "shell.execute_reply": "2020-12-02T21:47:34.220126Z"
    },
    "papermill": {
     "duration": 0.084085,
     "end_time": "2020-12-02T21:47:34.220231",
     "exception": false,
     "start_time": "2020-12-02T21:47:34.136146",
     "status": "completed"
    },
    "tags": []
   },
   "outputs": [
    {
     "data": {
      "text/plain": [
       "60    5\n",
       "16    5\n",
       "28    5\n",
       "27    5\n",
       "26    5\n",
       "Name: n_clusters, dtype: int64"
      ]
     },
     "execution_count": 26,
     "metadata": {},
     "output_type": "execute_result"
    }
   ],
   "source": [
    "ensemble['n_clusters'].value_counts().head()"
   ]
  },
  {
   "cell_type": "code",
   "execution_count": 27,
   "metadata": {
    "execution": {
     "iopub.execute_input": "2020-12-02T21:47:34.359143Z",
     "iopub.status.busy": "2020-12-02T21:47:34.358786Z",
     "iopub.status.idle": "2020-12-02T21:47:34.373479Z",
     "shell.execute_reply": "2020-12-02T21:47:34.373104Z"
    },
    "papermill": {
     "duration": 0.085022,
     "end_time": "2020-12-02T21:47:34.373569",
     "exception": false,
     "start_time": "2020-12-02T21:47:34.288547",
     "status": "completed"
    },
    "tags": []
   },
   "outputs": [
    {
     "data": {
      "text/plain": [
       "count    295.000000\n",
       "mean      31.000000\n",
       "std       17.058323\n",
       "min        2.000000\n",
       "25%       16.000000\n",
       "50%       31.000000\n",
       "75%       46.000000\n",
       "max       60.000000\n",
       "Name: n_clusters, dtype: float64"
      ]
     },
     "metadata": {},
     "output_type": "display_data"
    }
   ],
   "source": [
    "ensemble_stats = ensemble['n_clusters'].describe()\n",
    "display(ensemble_stats)"
   ]
  },
  {
   "cell_type": "markdown",
   "metadata": {
    "papermill": {
     "duration": 0.070943,
     "end_time": "2020-12-02T21:47:34.520590",
     "exception": false,
     "start_time": "2020-12-02T21:47:34.449647",
     "status": "completed"
    },
    "tags": []
   },
   "source": [
    "## Testing"
   ]
  },
  {
   "cell_type": "code",
   "execution_count": 28,
   "metadata": {
    "execution": {
     "iopub.execute_input": "2020-12-02T21:47:34.660665Z",
     "iopub.status.busy": "2020-12-02T21:47:34.660310Z",
     "iopub.status.idle": "2020-12-02T21:47:34.672286Z",
     "shell.execute_reply": "2020-12-02T21:47:34.671908Z"
    },
    "papermill": {
     "duration": 0.082896,
     "end_time": "2020-12-02T21:47:34.672374",
     "exception": false,
     "start_time": "2020-12-02T21:47:34.589478",
     "status": "completed"
    },
    "tags": []
   },
   "outputs": [],
   "source": [
    "assert ensemble_stats['min'] > 1"
   ]
  },
  {
   "cell_type": "code",
   "execution_count": 29,
   "metadata": {
    "execution": {
     "iopub.execute_input": "2020-12-02T21:47:34.813206Z",
     "iopub.status.busy": "2020-12-02T21:47:34.812841Z",
     "iopub.status.idle": "2020-12-02T21:47:34.825050Z",
     "shell.execute_reply": "2020-12-02T21:47:34.824622Z"
    },
    "papermill": {
     "duration": 0.083601,
     "end_time": "2020-12-02T21:47:34.825147",
     "exception": false,
     "start_time": "2020-12-02T21:47:34.741546",
     "status": "completed"
    },
    "tags": []
   },
   "outputs": [],
   "source": [
    "assert not ensemble['n_clusters'].isna().any()"
   ]
  },
  {
   "cell_type": "code",
   "execution_count": 30,
   "metadata": {
    "execution": {
     "iopub.execute_input": "2020-12-02T21:47:34.967797Z",
     "iopub.status.busy": "2020-12-02T21:47:34.967434Z",
     "iopub.status.idle": "2020-12-02T21:47:34.979310Z",
     "shell.execute_reply": "2020-12-02T21:47:34.978941Z"
    },
    "papermill": {
     "duration": 0.084823,
     "end_time": "2020-12-02T21:47:34.979396",
     "exception": false,
     "start_time": "2020-12-02T21:47:34.894573",
     "status": "completed"
    },
    "tags": []
   },
   "outputs": [],
   "source": [
    "assert ensemble.shape[0] == len(CLUSTERERS)"
   ]
  },
  {
   "cell_type": "code",
   "execution_count": 31,
   "metadata": {
    "execution": {
     "iopub.execute_input": "2020-12-02T21:47:35.119921Z",
     "iopub.status.busy": "2020-12-02T21:47:35.119562Z",
     "iopub.status.idle": "2020-12-02T21:47:35.149395Z",
     "shell.execute_reply": "2020-12-02T21:47:35.149016Z"
    },
    "papermill": {
     "duration": 0.101211,
     "end_time": "2020-12-02T21:47:35.149484",
     "exception": false,
     "start_time": "2020-12-02T21:47:35.048273",
     "status": "completed"
    },
    "tags": []
   },
   "outputs": [],
   "source": [
    "# all partitions have the right size\n",
    "assert np.all([\n",
    "    part['partition'].shape[0] == data.shape[0]\n",
    "    for idx, part in ensemble.iterrows()\n",
    "])"
   ]
  },
  {
   "cell_type": "code",
   "execution_count": 32,
   "metadata": {
    "execution": {
     "iopub.execute_input": "2020-12-02T21:47:35.291472Z",
     "iopub.status.busy": "2020-12-02T21:47:35.291070Z",
     "iopub.status.idle": "2020-12-02T21:47:35.324866Z",
     "shell.execute_reply": "2020-12-02T21:47:35.324431Z"
    },
    "papermill": {
     "duration": 0.104723,
     "end_time": "2020-12-02T21:47:35.324950",
     "exception": false,
     "start_time": "2020-12-02T21:47:35.220227",
     "status": "completed"
    },
    "tags": []
   },
   "outputs": [],
   "source": [
    "# no partition has negative clusters (noisy points)\n",
    "assert not np.any([\n",
    "    (part['partition'] < 0).any()\n",
    "    for idx, part in ensemble.iterrows()\n",
    "])"
   ]
  },
  {
   "cell_type": "markdown",
   "metadata": {
    "papermill": {
     "duration": 0.071837,
     "end_time": "2020-12-02T21:47:35.466320",
     "exception": false,
     "start_time": "2020-12-02T21:47:35.394483",
     "status": "completed"
    },
    "tags": []
   },
   "source": [
    "## Save"
   ]
  },
  {
   "cell_type": "code",
   "execution_count": 33,
   "metadata": {
    "execution": {
     "iopub.execute_input": "2020-12-02T21:47:35.607690Z",
     "iopub.status.busy": "2020-12-02T21:47:35.607319Z",
     "iopub.status.idle": "2020-12-02T21:47:35.620607Z",
     "shell.execute_reply": "2020-12-02T21:47:35.620237Z"
    },
    "papermill": {
     "duration": 0.085337,
     "end_time": "2020-12-02T21:47:35.620717",
     "exception": false,
     "start_time": "2020-12-02T21:47:35.535380",
     "status": "completed"
    },
    "tags": []
   },
   "outputs": [
    {
     "data": {
      "text/plain": [
       "PosixPath('/home/miltondp/projects/labs/greenelab/phenoplier/base/results/clustering/runs/pca-z_score_std-projection-smultixcan-efo_partial-mashr-zscores/SpectralClustering-AFFINITY_nearest_neighbors-KMEANS_N_INIT_10-K_MAX_60-K_MIN_2-N_NEIGHBORS_10-N_REPS_PER_K_5.pkl')"
      ]
     },
     "metadata": {},
     "output_type": "display_data"
    }
   ],
   "source": [
    "output_filename = Path(\n",
    "    RESULTS_DIR,\n",
    "    generate_result_set_name(\n",
    "        CLUSTERING_OPTIONS,\n",
    "        prefix=f'{clustering_method_name}-',\n",
    "        suffix='.pkl',\n",
    "    )\n",
    ").resolve()\n",
    "display(output_filename)"
   ]
  },
  {
   "cell_type": "code",
   "execution_count": 34,
   "metadata": {
    "execution": {
     "iopub.execute_input": "2020-12-02T21:47:35.764558Z",
     "iopub.status.busy": "2020-12-02T21:47:35.764197Z",
     "iopub.status.idle": "2020-12-02T21:47:35.799107Z",
     "shell.execute_reply": "2020-12-02T21:47:35.798782Z"
    },
    "papermill": {
     "duration": 0.107797,
     "end_time": "2020-12-02T21:47:35.799202",
     "exception": false,
     "start_time": "2020-12-02T21:47:35.691405",
     "status": "completed"
    },
    "tags": []
   },
   "outputs": [],
   "source": [
    "ensemble.to_pickle(output_filename)"
   ]
  },
  {
   "cell_type": "markdown",
   "metadata": {
    "papermill": {
     "duration": 0.069897,
     "end_time": "2020-12-02T21:47:35.940220",
     "exception": false,
     "start_time": "2020-12-02T21:47:35.870323",
     "status": "completed"
    },
    "tags": []
   },
   "source": [
    "# Stability"
   ]
  },
  {
   "cell_type": "markdown",
   "metadata": {
    "papermill": {
     "duration": 0.068861,
     "end_time": "2020-12-02T21:47:36.079534",
     "exception": false,
     "start_time": "2020-12-02T21:47:36.010673",
     "status": "completed"
    },
    "tags": []
   },
   "source": [
    "## Group ensemble by n_clusters"
   ]
  },
  {
   "cell_type": "code",
   "execution_count": 35,
   "metadata": {
    "execution": {
     "iopub.execute_input": "2020-12-02T21:47:36.222199Z",
     "iopub.status.busy": "2020-12-02T21:47:36.221844Z",
     "iopub.status.idle": "2020-12-02T21:47:36.248073Z",
     "shell.execute_reply": "2020-12-02T21:47:36.247702Z"
    },
    "papermill": {
     "duration": 0.098662,
     "end_time": "2020-12-02T21:47:36.248171",
     "exception": false,
     "start_time": "2020-12-02T21:47:36.149509",
     "status": "completed"
    },
    "tags": []
   },
   "outputs": [],
   "source": [
    "parts = ensemble.groupby('n_clusters').apply(lambda x: np.concatenate(x['partition'].apply(lambda x: x.reshape(1, -1)), axis=0))"
   ]
  },
  {
   "cell_type": "code",
   "execution_count": 36,
   "metadata": {
    "execution": {
     "iopub.execute_input": "2020-12-02T21:47:36.389981Z",
     "iopub.status.busy": "2020-12-02T21:47:36.389625Z",
     "iopub.status.idle": "2020-12-02T21:47:36.413921Z",
     "shell.execute_reply": "2020-12-02T21:47:36.413545Z"
    },
    "papermill": {
     "duration": 0.095699,
     "end_time": "2020-12-02T21:47:36.414008",
     "exception": false,
     "start_time": "2020-12-02T21:47:36.318309",
     "status": "completed"
    },
    "tags": []
   },
   "outputs": [
    {
     "data": {
      "text/plain": [
       "n_clusters\n",
       "2    [[0.0, 0.0, 0.0, 0.0, 0.0, 0.0, 0.0, 0.0, 0.0,...\n",
       "3    [[0.0, 0.0, 0.0, 0.0, 0.0, 0.0, 0.0, 0.0, 0.0,...\n",
       "4    [[3.0, 3.0, 3.0, 3.0, 3.0, 3.0, 0.0, 3.0, 3.0,...\n",
       "5    [[2.0, 2.0, 2.0, 2.0, 2.0, 2.0, 0.0, 2.0, 2.0,...\n",
       "6    [[1.0, 1.0, 1.0, 1.0, 1.0, 1.0, 0.0, 1.0, 1.0,...\n",
       "dtype: object"
      ]
     },
     "execution_count": 36,
     "metadata": {},
     "output_type": "execute_result"
    }
   ],
   "source": [
    "parts.head()"
   ]
  },
  {
   "cell_type": "code",
   "execution_count": 37,
   "metadata": {
    "execution": {
     "iopub.execute_input": "2020-12-02T21:47:36.560090Z",
     "iopub.status.busy": "2020-12-02T21:47:36.559718Z",
     "iopub.status.idle": "2020-12-02T21:47:36.572435Z",
     "shell.execute_reply": "2020-12-02T21:47:36.572055Z"
    },
    "papermill": {
     "duration": 0.085796,
     "end_time": "2020-12-02T21:47:36.572520",
     "exception": false,
     "start_time": "2020-12-02T21:47:36.486724",
     "status": "completed"
    },
    "tags": []
   },
   "outputs": [],
   "source": [
    "assert np.all([\n",
    "    parts.loc[k].shape == (CLUSTERING_OPTIONS['N_REPS_PER_K'], data.shape[0])\n",
    "    for k in parts.index\n",
    "])"
   ]
  },
  {
   "cell_type": "markdown",
   "metadata": {
    "papermill": {
     "duration": 0.069384,
     "end_time": "2020-12-02T21:47:36.712063",
     "exception": false,
     "start_time": "2020-12-02T21:47:36.642679",
     "status": "completed"
    },
    "tags": []
   },
   "source": [
    "## Compute stability"
   ]
  },
  {
   "cell_type": "code",
   "execution_count": 38,
   "metadata": {
    "execution": {
     "iopub.execute_input": "2020-12-02T21:47:36.853262Z",
     "iopub.status.busy": "2020-12-02T21:47:36.852896Z",
     "iopub.status.idle": "2020-12-02T21:47:36.865210Z",
     "shell.execute_reply": "2020-12-02T21:47:36.864899Z"
    },
    "papermill": {
     "duration": 0.084138,
     "end_time": "2020-12-02T21:47:36.865295",
     "exception": false,
     "start_time": "2020-12-02T21:47:36.781157",
     "status": "completed"
    },
    "tags": []
   },
   "outputs": [],
   "source": [
    "from sklearn.metrics import adjusted_rand_score as ari\n",
    "from scipy.spatial.distance import squareform, pdist"
   ]
  },
  {
   "cell_type": "code",
   "execution_count": 39,
   "metadata": {
    "execution": {
     "iopub.execute_input": "2020-12-02T21:47:37.009420Z",
     "iopub.status.busy": "2020-12-02T21:47:37.009061Z",
     "iopub.status.idle": "2020-12-02T21:47:37.568494Z",
     "shell.execute_reply": "2020-12-02T21:47:37.568107Z"
    },
    "papermill": {
     "duration": 0.633007,
     "end_time": "2020-12-02T21:47:37.568584",
     "exception": false,
     "start_time": "2020-12-02T21:47:36.935577",
     "status": "completed"
    },
    "tags": []
   },
   "outputs": [],
   "source": [
    "parts_ari = pd.Series(\n",
    "    {k: pdist(parts.loc[k], metric=ari) for k in parts.index},\n",
    "    name='k'\n",
    ")"
   ]
  },
  {
   "cell_type": "code",
   "execution_count": 40,
   "metadata": {
    "execution": {
     "iopub.execute_input": "2020-12-02T21:47:37.710133Z",
     "iopub.status.busy": "2020-12-02T21:47:37.709770Z",
     "iopub.status.idle": "2020-12-02T21:47:37.723662Z",
     "shell.execute_reply": "2020-12-02T21:47:37.723289Z"
    },
    "papermill": {
     "duration": 0.085558,
     "end_time": "2020-12-02T21:47:37.723749",
     "exception": false,
     "start_time": "2020-12-02T21:47:37.638191",
     "status": "completed"
    },
    "tags": []
   },
   "outputs": [
    {
     "data": {
      "text/plain": [
       "2     1.000000\n",
       "13    1.000000\n",
       "3     1.000000\n",
       "4     1.000000\n",
       "5     1.000000\n",
       "6     1.000000\n",
       "7     1.000000\n",
       "9     1.000000\n",
       "19    1.000000\n",
       "18    1.000000\n",
       "17    1.000000\n",
       "28    0.999563\n",
       "21    0.999537\n",
       "16    0.999503\n",
       "14    0.999374\n",
       "Name: k, dtype: float64"
      ]
     },
     "metadata": {},
     "output_type": "display_data"
    }
   ],
   "source": [
    "parts_ari_stability = parts_ari.apply(lambda x: x.mean())\n",
    "display(parts_ari_stability.sort_values(ascending=False).head(15))"
   ]
  },
  {
   "cell_type": "code",
   "execution_count": 41,
   "metadata": {
    "execution": {
     "iopub.execute_input": "2020-12-02T21:47:37.868483Z",
     "iopub.status.busy": "2020-12-02T21:47:37.868119Z",
     "iopub.status.idle": "2020-12-02T21:47:37.881383Z",
     "shell.execute_reply": "2020-12-02T21:47:37.881001Z"
    },
    "papermill": {
     "duration": 0.08689,
     "end_time": "2020-12-02T21:47:37.881473",
     "exception": false,
     "start_time": "2020-12-02T21:47:37.794583",
     "status": "completed"
    },
    "tags": []
   },
   "outputs": [],
   "source": [
    "parts_ari_df = pd.DataFrame.from_records(parts_ari.tolist()).set_index(parts_ari.index.copy())"
   ]
  },
  {
   "cell_type": "code",
   "execution_count": 42,
   "metadata": {
    "execution": {
     "iopub.execute_input": "2020-12-02T21:47:38.027433Z",
     "iopub.status.busy": "2020-12-02T21:47:38.027077Z",
     "iopub.status.idle": "2020-12-02T21:47:38.039921Z",
     "shell.execute_reply": "2020-12-02T21:47:38.039555Z"
    },
    "papermill": {
     "duration": 0.086903,
     "end_time": "2020-12-02T21:47:38.040008",
     "exception": false,
     "start_time": "2020-12-02T21:47:37.953105",
     "status": "completed"
    },
    "tags": []
   },
   "outputs": [
    {
     "data": {
      "text/plain": [
       "(59, 10)"
      ]
     },
     "execution_count": 42,
     "metadata": {},
     "output_type": "execute_result"
    }
   ],
   "source": [
    "parts_ari_df.shape"
   ]
  },
  {
   "cell_type": "code",
   "execution_count": 43,
   "metadata": {
    "execution": {
     "iopub.execute_input": "2020-12-02T21:47:38.184900Z",
     "iopub.status.busy": "2020-12-02T21:47:38.184496Z",
     "iopub.status.idle": "2020-12-02T21:47:38.196510Z",
     "shell.execute_reply": "2020-12-02T21:47:38.196136Z"
    },
    "papermill": {
     "duration": 0.084811,
     "end_time": "2020-12-02T21:47:38.196596",
     "exception": false,
     "start_time": "2020-12-02T21:47:38.111785",
     "status": "completed"
    },
    "tags": []
   },
   "outputs": [],
   "source": [
    "assert int( (CLUSTERING_OPTIONS['N_REPS_PER_K'] * (CLUSTERING_OPTIONS['N_REPS_PER_K'] - 1) ) / 2) == parts_ari_df.shape[1]"
   ]
  },
  {
   "cell_type": "code",
   "execution_count": 44,
   "metadata": {
    "execution": {
     "iopub.execute_input": "2020-12-02T21:47:38.341314Z",
     "iopub.status.busy": "2020-12-02T21:47:38.340950Z",
     "iopub.status.idle": "2020-12-02T21:47:38.360027Z",
     "shell.execute_reply": "2020-12-02T21:47:38.359661Z"
    },
    "papermill": {
     "duration": 0.092612,
     "end_time": "2020-12-02T21:47:38.360115",
     "exception": false,
     "start_time": "2020-12-02T21:47:38.267503",
     "status": "completed"
    },
    "tags": []
   },
   "outputs": [
    {
     "data": {
      "text/html": [
       "<div>\n",
       "<style scoped>\n",
       "    .dataframe tbody tr th:only-of-type {\n",
       "        vertical-align: middle;\n",
       "    }\n",
       "\n",
       "    .dataframe tbody tr th {\n",
       "        vertical-align: top;\n",
       "    }\n",
       "\n",
       "    .dataframe thead th {\n",
       "        text-align: right;\n",
       "    }\n",
       "</style>\n",
       "<table border=\"1\" class=\"dataframe\">\n",
       "  <thead>\n",
       "    <tr style=\"text-align: right;\">\n",
       "      <th></th>\n",
       "      <th>0</th>\n",
       "      <th>1</th>\n",
       "      <th>2</th>\n",
       "      <th>3</th>\n",
       "      <th>4</th>\n",
       "      <th>5</th>\n",
       "      <th>6</th>\n",
       "      <th>7</th>\n",
       "      <th>8</th>\n",
       "      <th>9</th>\n",
       "    </tr>\n",
       "  </thead>\n",
       "  <tbody>\n",
       "    <tr>\n",
       "      <th>2</th>\n",
       "      <td>1.0</td>\n",
       "      <td>1.0</td>\n",
       "      <td>1.0</td>\n",
       "      <td>1.0</td>\n",
       "      <td>1.0</td>\n",
       "      <td>1.0</td>\n",
       "      <td>1.0</td>\n",
       "      <td>1.0</td>\n",
       "      <td>1.0</td>\n",
       "      <td>1.0</td>\n",
       "    </tr>\n",
       "    <tr>\n",
       "      <th>3</th>\n",
       "      <td>1.0</td>\n",
       "      <td>1.0</td>\n",
       "      <td>1.0</td>\n",
       "      <td>1.0</td>\n",
       "      <td>1.0</td>\n",
       "      <td>1.0</td>\n",
       "      <td>1.0</td>\n",
       "      <td>1.0</td>\n",
       "      <td>1.0</td>\n",
       "      <td>1.0</td>\n",
       "    </tr>\n",
       "    <tr>\n",
       "      <th>4</th>\n",
       "      <td>1.0</td>\n",
       "      <td>1.0</td>\n",
       "      <td>1.0</td>\n",
       "      <td>1.0</td>\n",
       "      <td>1.0</td>\n",
       "      <td>1.0</td>\n",
       "      <td>1.0</td>\n",
       "      <td>1.0</td>\n",
       "      <td>1.0</td>\n",
       "      <td>1.0</td>\n",
       "    </tr>\n",
       "    <tr>\n",
       "      <th>5</th>\n",
       "      <td>1.0</td>\n",
       "      <td>1.0</td>\n",
       "      <td>1.0</td>\n",
       "      <td>1.0</td>\n",
       "      <td>1.0</td>\n",
       "      <td>1.0</td>\n",
       "      <td>1.0</td>\n",
       "      <td>1.0</td>\n",
       "      <td>1.0</td>\n",
       "      <td>1.0</td>\n",
       "    </tr>\n",
       "    <tr>\n",
       "      <th>6</th>\n",
       "      <td>1.0</td>\n",
       "      <td>1.0</td>\n",
       "      <td>1.0</td>\n",
       "      <td>1.0</td>\n",
       "      <td>1.0</td>\n",
       "      <td>1.0</td>\n",
       "      <td>1.0</td>\n",
       "      <td>1.0</td>\n",
       "      <td>1.0</td>\n",
       "      <td>1.0</td>\n",
       "    </tr>\n",
       "  </tbody>\n",
       "</table>\n",
       "</div>"
      ],
      "text/plain": [
       "     0    1    2    3    4    5    6    7    8    9\n",
       "2  1.0  1.0  1.0  1.0  1.0  1.0  1.0  1.0  1.0  1.0\n",
       "3  1.0  1.0  1.0  1.0  1.0  1.0  1.0  1.0  1.0  1.0\n",
       "4  1.0  1.0  1.0  1.0  1.0  1.0  1.0  1.0  1.0  1.0\n",
       "5  1.0  1.0  1.0  1.0  1.0  1.0  1.0  1.0  1.0  1.0\n",
       "6  1.0  1.0  1.0  1.0  1.0  1.0  1.0  1.0  1.0  1.0"
      ]
     },
     "execution_count": 44,
     "metadata": {},
     "output_type": "execute_result"
    }
   ],
   "source": [
    "parts_ari_df.head()"
   ]
  },
  {
   "cell_type": "markdown",
   "metadata": {
    "papermill": {
     "duration": 0.074298,
     "end_time": "2020-12-02T21:47:38.506658",
     "exception": false,
     "start_time": "2020-12-02T21:47:38.432360",
     "status": "completed"
    },
    "tags": []
   },
   "source": [
    "## Save"
   ]
  },
  {
   "cell_type": "code",
   "execution_count": 45,
   "metadata": {
    "execution": {
     "iopub.execute_input": "2020-12-02T21:47:38.651477Z",
     "iopub.status.busy": "2020-12-02T21:47:38.651122Z",
     "iopub.status.idle": "2020-12-02T21:47:38.664130Z",
     "shell.execute_reply": "2020-12-02T21:47:38.663764Z"
    },
    "papermill": {
     "duration": 0.086457,
     "end_time": "2020-12-02T21:47:38.664217",
     "exception": false,
     "start_time": "2020-12-02T21:47:38.577760",
     "status": "completed"
    },
    "tags": []
   },
   "outputs": [
    {
     "data": {
      "text/plain": [
       "PosixPath('/home/miltondp/projects/labs/greenelab/phenoplier/base/results/clustering/runs/pca-z_score_std-projection-smultixcan-efo_partial-mashr-zscores/SpectralClustering-stability-AFFINITY_nearest_neighbors-KMEANS_N_INIT_10-K_MAX_60-K_MIN_2-N_NEIGHBORS_10-N_REPS_PER_K_5.pkl')"
      ]
     },
     "metadata": {},
     "output_type": "display_data"
    }
   ],
   "source": [
    "output_filename = Path(\n",
    "    RESULTS_DIR,\n",
    "    generate_result_set_name(\n",
    "        CLUSTERING_OPTIONS,\n",
    "        prefix=f'{clustering_method_name}-stability-',\n",
    "        suffix='.pkl',\n",
    "    )\n",
    ").resolve()\n",
    "display(output_filename)"
   ]
  },
  {
   "cell_type": "code",
   "execution_count": 46,
   "metadata": {
    "execution": {
     "iopub.execute_input": "2020-12-02T21:47:38.810108Z",
     "iopub.status.busy": "2020-12-02T21:47:38.809759Z",
     "iopub.status.idle": "2020-12-02T21:47:38.822070Z",
     "shell.execute_reply": "2020-12-02T21:47:38.821687Z"
    },
    "papermill": {
     "duration": 0.08601,
     "end_time": "2020-12-02T21:47:38.822172",
     "exception": false,
     "start_time": "2020-12-02T21:47:38.736162",
     "status": "completed"
    },
    "tags": []
   },
   "outputs": [],
   "source": [
    "parts_ari_df.to_pickle(output_filename)"
   ]
  },
  {
   "cell_type": "markdown",
   "metadata": {
    "papermill": {
     "duration": 0.076685,
     "end_time": "2020-12-02T21:47:38.990992",
     "exception": false,
     "start_time": "2020-12-02T21:47:38.914307",
     "status": "completed"
    },
    "tags": []
   },
   "source": [
    "## Stability plot"
   ]
  },
  {
   "cell_type": "code",
   "execution_count": 47,
   "metadata": {
    "execution": {
     "iopub.execute_input": "2020-12-02T21:47:39.136833Z",
     "iopub.status.busy": "2020-12-02T21:47:39.136395Z",
     "iopub.status.idle": "2020-12-02T21:47:39.150253Z",
     "shell.execute_reply": "2020-12-02T21:47:39.149873Z"
    },
    "papermill": {
     "duration": 0.088017,
     "end_time": "2020-12-02T21:47:39.150339",
     "exception": false,
     "start_time": "2020-12-02T21:47:39.062322",
     "status": "completed"
    },
    "tags": []
   },
   "outputs": [],
   "source": [
    "parts_ari_df_plot = parts_ari_df.stack().reset_index().rename(columns={'level_0': 'k', 'level_1': 'idx', 0: 'ari'})"
   ]
  },
  {
   "cell_type": "code",
   "execution_count": 48,
   "metadata": {
    "execution": {
     "iopub.execute_input": "2020-12-02T21:47:39.299232Z",
     "iopub.status.busy": "2020-12-02T21:47:39.298873Z",
     "iopub.status.idle": "2020-12-02T21:47:39.313271Z",
     "shell.execute_reply": "2020-12-02T21:47:39.312898Z"
    },
    "papermill": {
     "duration": 0.089092,
     "end_time": "2020-12-02T21:47:39.313359",
     "exception": false,
     "start_time": "2020-12-02T21:47:39.224267",
     "status": "completed"
    },
    "tags": []
   },
   "outputs": [
    {
     "data": {
      "text/plain": [
       "k        int64\n",
       "idx      int64\n",
       "ari    float64\n",
       "dtype: object"
      ]
     },
     "execution_count": 48,
     "metadata": {},
     "output_type": "execute_result"
    }
   ],
   "source": [
    "parts_ari_df_plot.dtypes"
   ]
  },
  {
   "cell_type": "code",
   "execution_count": 49,
   "metadata": {
    "execution": {
     "iopub.execute_input": "2020-12-02T21:47:39.462291Z",
     "iopub.status.busy": "2020-12-02T21:47:39.461865Z",
     "iopub.status.idle": "2020-12-02T21:47:39.478751Z",
     "shell.execute_reply": "2020-12-02T21:47:39.478436Z"
    },
    "papermill": {
     "duration": 0.092469,
     "end_time": "2020-12-02T21:47:39.478845",
     "exception": false,
     "start_time": "2020-12-02T21:47:39.386376",
     "status": "completed"
    },
    "tags": []
   },
   "outputs": [
    {
     "data": {
      "text/html": [
       "<div>\n",
       "<style scoped>\n",
       "    .dataframe tbody tr th:only-of-type {\n",
       "        vertical-align: middle;\n",
       "    }\n",
       "\n",
       "    .dataframe tbody tr th {\n",
       "        vertical-align: top;\n",
       "    }\n",
       "\n",
       "    .dataframe thead th {\n",
       "        text-align: right;\n",
       "    }\n",
       "</style>\n",
       "<table border=\"1\" class=\"dataframe\">\n",
       "  <thead>\n",
       "    <tr style=\"text-align: right;\">\n",
       "      <th></th>\n",
       "      <th>k</th>\n",
       "      <th>idx</th>\n",
       "      <th>ari</th>\n",
       "    </tr>\n",
       "  </thead>\n",
       "  <tbody>\n",
       "    <tr>\n",
       "      <th>0</th>\n",
       "      <td>2</td>\n",
       "      <td>0</td>\n",
       "      <td>1.0</td>\n",
       "    </tr>\n",
       "    <tr>\n",
       "      <th>1</th>\n",
       "      <td>2</td>\n",
       "      <td>1</td>\n",
       "      <td>1.0</td>\n",
       "    </tr>\n",
       "    <tr>\n",
       "      <th>2</th>\n",
       "      <td>2</td>\n",
       "      <td>2</td>\n",
       "      <td>1.0</td>\n",
       "    </tr>\n",
       "    <tr>\n",
       "      <th>3</th>\n",
       "      <td>2</td>\n",
       "      <td>3</td>\n",
       "      <td>1.0</td>\n",
       "    </tr>\n",
       "    <tr>\n",
       "      <th>4</th>\n",
       "      <td>2</td>\n",
       "      <td>4</td>\n",
       "      <td>1.0</td>\n",
       "    </tr>\n",
       "  </tbody>\n",
       "</table>\n",
       "</div>"
      ],
      "text/plain": [
       "   k  idx  ari\n",
       "0  2    0  1.0\n",
       "1  2    1  1.0\n",
       "2  2    2  1.0\n",
       "3  2    3  1.0\n",
       "4  2    4  1.0"
      ]
     },
     "execution_count": 49,
     "metadata": {},
     "output_type": "execute_result"
    }
   ],
   "source": [
    "parts_ari_df_plot.head()"
   ]
  },
  {
   "cell_type": "code",
   "execution_count": 50,
   "metadata": {
    "execution": {
     "iopub.execute_input": "2020-12-02T21:47:39.628173Z",
     "iopub.status.busy": "2020-12-02T21:47:39.627799Z",
     "iopub.status.idle": "2020-12-02T21:47:42.546042Z",
     "shell.execute_reply": "2020-12-02T21:47:42.545708Z"
    },
    "papermill": {
     "duration": 2.993668,
     "end_time": "2020-12-02T21:47:42.546130",
     "exception": false,
     "start_time": "2020-12-02T21:47:39.552462",
     "status": "completed"
    },
    "tags": []
   },
   "outputs": [
    {
     "data": {
      "image/png": "[encoded data removed]",
      "text/plain": [
       "<Figure size 864x432 with 1 Axes>"
      ]
     },
     "metadata": {},
     "output_type": "display_data"
    }
   ],
   "source": [
    "# with sns.axes_style('whitegrid', {'grid.linestyle': '--'}):\n",
    "with sns.plotting_context('talk', font_scale=0.75), sns.axes_style('whitegrid', {'grid.linestyle': '--'}):\n",
    "    fig = plt.figure(figsize=(12, 6))\n",
    "    ax = sns.pointplot(data=parts_ari_df_plot, x='k', y='ari')\n",
    "    ax.set_ylabel('Averange ARI')\n",
    "    ax.set_xlabel('Number of clusters ($k$)')\n",
    "    ax.set_xticklabels(ax.get_xticklabels(), rotation=45)\n",
    "#     ax.set_ylim(0.0, 1.0)\n",
    "#     ax.set_xlim(CLUSTERING_OPTIONS['K_MIN'], CLUSTERING_OPTIONS['K_MAX'])\n",
    "    plt.grid(True)\n",
    "    plt.tight_layout()"
   ]
  },
  {
   "cell_type": "code",
   "execution_count": null,
   "metadata": {
    "papermill": {
     "duration": 0.073155,
     "end_time": "2020-12-02T21:47:42.694468",
     "exception": false,
     "start_time": "2020-12-02T21:47:42.621313",
     "status": "completed"
    },
    "tags": []
   },
   "outputs": [],
   "source": []
  }
 ],
 "metadata": {
  "jupytext": {
   "formats": "ipynb,py//py:percent"
  },
  "kernelspec": {
   "display_name": "Python 3",
   "language": "python",
   "name": "python3"
  },
  "language_info": {
   "codemirror_mode": {
    "name": "ipython",
    "version": 3
   },
   "file_extension": ".py",
   "mimetype": "text/x-python",
   "name": "python",
   "nbconvert_exporter": "python",
   "pygments_lexer": "ipython3",
   "version": "3.8.6"
  },
  "papermill": {
   "default_parameters": {},
   "duration": 1911.661485,
   "end_time": "2020-12-02T21:47:43.969028",
   "environment_variables": {},
   "exception": null,
   "input_path": "15_cluster_analysis/001_01-projection_smultixcan_efo-pca-clustering_spectral.ipynb",
   "output_path": "15_cluster_analysis/001_01-projection_smultixcan_efo-pca-clustering_spectral.run.ipynb",
   "parameters": {},
   "start_time": "2020-12-02T21:15:52.307543",
   "version": "2.2.2"
  },
  "toc-autonumbering": true,
  "toc-showcode": false,
  "toc-showmarkdowntxt": false,
  "toc-showtags": false
 },
 "nbformat": 4,
 "nbformat_minor": 4
}
