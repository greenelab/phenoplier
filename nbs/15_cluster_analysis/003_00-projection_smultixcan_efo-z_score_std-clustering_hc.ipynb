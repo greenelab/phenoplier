{
 "cells": [
  {
   "cell_type": "markdown",
   "metadata": {
    "papermill": {
     "duration": 0.050099,
     "end_time": "2020-12-03T01:22:20.867420",
     "exception": false,
     "start_time": "2020-12-03T01:22:20.817321",
     "status": "completed"
    },
    "tags": []
   },
   "source": [
    "# Description"
   ]
  },
  {
   "cell_type": "markdown",
   "metadata": {
    "papermill": {
     "duration": 0.014853,
     "end_time": "2020-12-03T01:22:20.899928",
     "exception": false,
     "start_time": "2020-12-03T01:22:20.885075",
     "status": "completed"
    },
    "tags": []
   },
   "source": [
    "Runs hierarchical clustering on the z_score_std version of the data."
   ]
  },
  {
   "cell_type": "markdown",
   "metadata": {
    "papermill": {
     "duration": 0.014957,
     "end_time": "2020-12-03T01:22:20.929911",
     "exception": false,
     "start_time": "2020-12-03T01:22:20.914954",
     "status": "completed"
    },
    "tags": []
   },
   "source": [
    "# Environment variables"
   ]
  },
  {
   "cell_type": "code",
   "execution_count": 1,
   "metadata": {
    "execution": {
     "iopub.execute_input": "2020-12-03T01:22:20.963997Z",
     "iopub.status.busy": "2020-12-03T01:22:20.963608Z",
     "iopub.status.idle": "2020-12-03T01:22:20.974602Z",
     "shell.execute_reply": "2020-12-03T01:22:20.974162Z"
    },
    "papermill": {
     "duration": 0.029933,
     "end_time": "2020-12-03T01:22:20.974724",
     "exception": false,
     "start_time": "2020-12-03T01:22:20.944791",
     "status": "completed"
    },
    "tags": []
   },
   "outputs": [
    {
     "data": {
      "text/plain": [
       "3"
      ]
     },
     "metadata": {},
     "output_type": "display_data"
    }
   ],
   "source": [
    "from IPython.display import display\n",
    "\n",
    "import conf\n",
    "\n",
    "N_JOBS = conf.GENERAL['N_JOBS']\n",
    "display(N_JOBS)"
   ]
  },
  {
   "cell_type": "code",
   "execution_count": 2,
   "metadata": {
    "execution": {
     "iopub.execute_input": "2020-12-03T01:22:21.011200Z",
     "iopub.status.busy": "2020-12-03T01:22:21.010700Z",
     "iopub.status.idle": "2020-12-03T01:22:21.013441Z",
     "shell.execute_reply": "2020-12-03T01:22:21.013067Z"
    },
    "papermill": {
     "duration": 0.022636,
     "end_time": "2020-12-03T01:22:21.013529",
     "exception": false,
     "start_time": "2020-12-03T01:22:20.990893",
     "status": "completed"
    },
    "tags": []
   },
   "outputs": [
    {
     "name": "stdout",
     "output_type": "stream",
     "text": [
      "env: MKL_NUM_THREADS=3\n",
      "env: OPEN_BLAS_NUM_THREADS=3\n",
      "env: NUMEXPR_NUM_THREADS=3\n",
      "env: OMP_NUM_THREADS=3\n"
     ]
    }
   ],
   "source": [
    "%env MKL_NUM_THREADS=$N_JOBS\n",
    "%env OPEN_BLAS_NUM_THREADS=$N_JOBS\n",
    "%env NUMEXPR_NUM_THREADS=$N_JOBS\n",
    "%env OMP_NUM_THREADS=$N_JOBS"
   ]
  },
  {
   "cell_type": "markdown",
   "metadata": {
    "papermill": {
     "duration": 0.015495,
     "end_time": "2020-12-03T01:22:21.044912",
     "exception": false,
     "start_time": "2020-12-03T01:22:21.029417",
     "status": "completed"
    },
    "tags": []
   },
   "source": [
    "# Modules loading"
   ]
  },
  {
   "cell_type": "code",
   "execution_count": 3,
   "metadata": {
    "execution": {
     "iopub.execute_input": "2020-12-03T01:22:21.078808Z",
     "iopub.status.busy": "2020-12-03T01:22:21.078437Z",
     "iopub.status.idle": "2020-12-03T01:22:21.086195Z",
     "shell.execute_reply": "2020-12-03T01:22:21.085816Z"
    },
    "papermill": {
     "duration": 0.026143,
     "end_time": "2020-12-03T01:22:21.086285",
     "exception": false,
     "start_time": "2020-12-03T01:22:21.060142",
     "status": "completed"
    },
    "tags": []
   },
   "outputs": [],
   "source": [
    "%load_ext autoreload\n",
    "%autoreload 2"
   ]
  },
  {
   "cell_type": "code",
   "execution_count": 4,
   "metadata": {
    "execution": {
     "iopub.execute_input": "2020-12-03T01:22:21.120132Z",
     "iopub.status.busy": "2020-12-03T01:22:21.119756Z",
     "iopub.status.idle": "2020-12-03T01:22:22.723962Z",
     "shell.execute_reply": "2020-12-03T01:22:22.724300Z"
    },
    "papermill": {
     "duration": 1.622311,
     "end_time": "2020-12-03T01:22:22.724430",
     "exception": false,
     "start_time": "2020-12-03T01:22:21.102119",
     "status": "completed"
    },
    "tags": []
   },
   "outputs": [],
   "source": [
    "from pathlib import Path\n",
    "\n",
    "import numpy as np\n",
    "import pandas as pd\n",
    "import umap\n",
    "import matplotlib.pyplot as plt\n",
    "import seaborn as sns\n",
    "\n",
    "from utils import generate_result_set_name"
   ]
  },
  {
   "cell_type": "markdown",
   "metadata": {
    "papermill": {
     "duration": 0.015408,
     "end_time": "2020-12-03T01:22:22.757694",
     "exception": false,
     "start_time": "2020-12-03T01:22:22.742286",
     "status": "completed"
    },
    "tags": []
   },
   "source": [
    "# Settings"
   ]
  },
  {
   "cell_type": "markdown",
   "metadata": {
    "papermill": {
     "duration": 0.015225,
     "end_time": "2020-12-03T01:22:22.788164",
     "exception": false,
     "start_time": "2020-12-03T01:22:22.772939",
     "status": "completed"
    },
    "tags": []
   },
   "source": [
    "## Input data"
   ]
  },
  {
   "cell_type": "code",
   "execution_count": 5,
   "metadata": {
    "execution": {
     "iopub.execute_input": "2020-12-03T01:22:22.821653Z",
     "iopub.status.busy": "2020-12-03T01:22:22.821283Z",
     "iopub.status.idle": "2020-12-03T01:22:22.833499Z",
     "shell.execute_reply": "2020-12-03T01:22:22.833128Z"
    },
    "papermill": {
     "duration": 0.029929,
     "end_time": "2020-12-03T01:22:22.833586",
     "exception": false,
     "start_time": "2020-12-03T01:22:22.803657",
     "status": "completed"
    },
    "tags": []
   },
   "outputs": [],
   "source": [
    "INPUT_SUBSET = 'z_score_std'"
   ]
  },
  {
   "cell_type": "code",
   "execution_count": 6,
   "metadata": {
    "execution": {
     "iopub.execute_input": "2020-12-03T01:22:22.867398Z",
     "iopub.status.busy": "2020-12-03T01:22:22.867019Z",
     "iopub.status.idle": "2020-12-03T01:22:22.878838Z",
     "shell.execute_reply": "2020-12-03T01:22:22.879125Z"
    },
    "papermill": {
     "duration": 0.02982,
     "end_time": "2020-12-03T01:22:22.879235",
     "exception": false,
     "start_time": "2020-12-03T01:22:22.849415",
     "status": "completed"
    },
    "tags": []
   },
   "outputs": [],
   "source": [
    "INPUT_STEM = 'projection-smultixcan-efo_partial-mashr-zscores'"
   ]
  },
  {
   "cell_type": "code",
   "execution_count": 7,
   "metadata": {
    "execution": {
     "iopub.execute_input": "2020-12-03T01:22:22.913155Z",
     "iopub.status.busy": "2020-12-03T01:22:22.912767Z",
     "iopub.status.idle": "2020-12-03T01:22:22.926600Z",
     "shell.execute_reply": "2020-12-03T01:22:22.926226Z"
    },
    "papermill": {
     "duration": 0.031662,
     "end_time": "2020-12-03T01:22:22.926688",
     "exception": false,
     "start_time": "2020-12-03T01:22:22.895026",
     "status": "completed"
    },
    "tags": []
   },
   "outputs": [
    {
     "data": {
      "text/plain": [
       "PosixPath('/home/miltondp/projects/labs/greenelab/phenoplier/base/results/data_transformations/z_score_std/z_score_std-projection-smultixcan-efo_partial-mashr-zscores.pkl')"
      ]
     },
     "metadata": {},
     "output_type": "display_data"
    },
    {
     "data": {
      "text/plain": [
       "'z_score_std-projection-smultixcan-efo_partial-mashr-zscores'"
      ]
     },
     "metadata": {},
     "output_type": "display_data"
    }
   ],
   "source": [
    "input_filepath = Path(\n",
    "    conf.RESULTS[\"DATA_TRANSFORMATIONS_DIR\"],\n",
    "    INPUT_SUBSET,\n",
    "    f'{INPUT_SUBSET}-{INPUT_STEM}.pkl',\n",
    ").resolve()\n",
    "display(input_filepath)\n",
    "\n",
    "assert input_filepath.exists(), 'Input file does not exist'\n",
    "\n",
    "input_filepath_stem = input_filepath.stem\n",
    "display(input_filepath_stem)"
   ]
  },
  {
   "cell_type": "markdown",
   "metadata": {
    "papermill": {
     "duration": 0.015728,
     "end_time": "2020-12-03T01:22:22.958898",
     "exception": false,
     "start_time": "2020-12-03T01:22:22.943170",
     "status": "completed"
    },
    "tags": []
   },
   "source": [
    "## Clustering"
   ]
  },
  {
   "cell_type": "code",
   "execution_count": 8,
   "metadata": {
    "execution": {
     "iopub.execute_input": "2020-12-03T01:22:22.992681Z",
     "iopub.status.busy": "2020-12-03T01:22:22.992321Z",
     "iopub.status.idle": "2020-12-03T01:22:23.010077Z",
     "shell.execute_reply": "2020-12-03T01:22:23.009721Z"
    },
    "papermill": {
     "duration": 0.035755,
     "end_time": "2020-12-03T01:22:23.010169",
     "exception": false,
     "start_time": "2020-12-03T01:22:22.974414",
     "status": "completed"
    },
    "tags": []
   },
   "outputs": [],
   "source": [
    "from sklearn.cluster import AgglomerativeClustering"
   ]
  },
  {
   "cell_type": "code",
   "execution_count": 9,
   "metadata": {
    "execution": {
     "iopub.execute_input": "2020-12-03T01:22:23.045193Z",
     "iopub.status.busy": "2020-12-03T01:22:23.044818Z",
     "iopub.status.idle": "2020-12-03T01:22:23.056869Z",
     "shell.execute_reply": "2020-12-03T01:22:23.056448Z"
    },
    "papermill": {
     "duration": 0.030346,
     "end_time": "2020-12-03T01:22:23.056960",
     "exception": false,
     "start_time": "2020-12-03T01:22:23.026614",
     "status": "completed"
    },
    "tags": []
   },
   "outputs": [],
   "source": [
    "CLUSTERING_ATTRIBUTES_TO_SAVE = ['n_clusters']"
   ]
  },
  {
   "cell_type": "code",
   "execution_count": 10,
   "metadata": {
    "execution": {
     "iopub.execute_input": "2020-12-03T01:22:23.092898Z",
     "iopub.status.busy": "2020-12-03T01:22:23.092473Z",
     "iopub.status.idle": "2020-12-03T01:22:23.105068Z",
     "shell.execute_reply": "2020-12-03T01:22:23.104649Z"
    },
    "papermill": {
     "duration": 0.031518,
     "end_time": "2020-12-03T01:22:23.105159",
     "exception": false,
     "start_time": "2020-12-03T01:22:23.073641",
     "status": "completed"
    },
    "tags": []
   },
   "outputs": [
    {
     "data": {
      "text/plain": [
       "{'K_MIN': 2,\n",
       " 'K_MAX': 75,\n",
       " 'LINKAGE': {'average', 'complete', 'single', 'ward'},\n",
       " 'AFFINITY': 'euclidean'}"
      ]
     },
     "metadata": {},
     "output_type": "display_data"
    }
   ],
   "source": [
    "CLUSTERING_OPTIONS = {}\n",
    "\n",
    "CLUSTERING_OPTIONS['K_MIN'] = 2\n",
    "CLUSTERING_OPTIONS['K_MAX'] = 75 # sqrt(3749) + some more to get closer to 295\n",
    "CLUSTERING_OPTIONS['LINKAGE'] = {'ward', 'complete', 'average', 'single'}\n",
    "CLUSTERING_OPTIONS['AFFINITY'] = 'euclidean'\n",
    "\n",
    "display(CLUSTERING_OPTIONS)"
   ]
  },
  {
   "cell_type": "code",
   "execution_count": 11,
   "metadata": {
    "execution": {
     "iopub.execute_input": "2020-12-03T01:22:23.141404Z",
     "iopub.status.busy": "2020-12-03T01:22:23.141008Z",
     "iopub.status.idle": "2020-12-03T01:22:23.153748Z",
     "shell.execute_reply": "2020-12-03T01:22:23.154041Z"
    },
    "papermill": {
     "duration": 0.032196,
     "end_time": "2020-12-03T01:22:23.154154",
     "exception": false,
     "start_time": "2020-12-03T01:22:23.121958",
     "status": "completed"
    },
    "tags": []
   },
   "outputs": [],
   "source": [
    "CLUSTERERS = {}\n",
    "\n",
    "idx = 0\n",
    "\n",
    "for k in range(CLUSTERING_OPTIONS['K_MIN'], CLUSTERING_OPTIONS['K_MAX']+1):\n",
    "    for linkage in CLUSTERING_OPTIONS['LINKAGE']:\n",
    "        if linkage == 'ward':\n",
    "            affinity = 'euclidean'\n",
    "        else:\n",
    "            affinity = 'precomputed'\n",
    "        \n",
    "        clus = AgglomerativeClustering(\n",
    "                n_clusters=k,\n",
    "                affinity=affinity,\n",
    "                linkage=linkage,\n",
    "            )\n",
    "        \n",
    "        method_name = type(clus).__name__\n",
    "        CLUSTERERS[f'{method_name} #{idx}'] = clus\n",
    "        \n",
    "        idx = idx + 1"
   ]
  },
  {
   "cell_type": "code",
   "execution_count": 12,
   "metadata": {
    "execution": {
     "iopub.execute_input": "2020-12-03T01:22:23.189540Z",
     "iopub.status.busy": "2020-12-03T01:22:23.189180Z",
     "iopub.status.idle": "2020-12-03T01:22:23.204252Z",
     "shell.execute_reply": "2020-12-03T01:22:23.203910Z"
    },
    "papermill": {
     "duration": 0.033664,
     "end_time": "2020-12-03T01:22:23.204344",
     "exception": false,
     "start_time": "2020-12-03T01:22:23.170680",
     "status": "completed"
    },
    "tags": []
   },
   "outputs": [
    {
     "data": {
      "text/plain": [
       "296"
      ]
     },
     "metadata": {},
     "output_type": "display_data"
    }
   ],
   "source": [
    "display(len(CLUSTERERS))"
   ]
  },
  {
   "cell_type": "code",
   "execution_count": 13,
   "metadata": {
    "execution": {
     "iopub.execute_input": "2020-12-03T01:22:23.242099Z",
     "iopub.status.busy": "2020-12-03T01:22:23.241740Z",
     "iopub.status.idle": "2020-12-03T01:22:23.255375Z",
     "shell.execute_reply": "2020-12-03T01:22:23.255040Z"
    },
    "papermill": {
     "duration": 0.033373,
     "end_time": "2020-12-03T01:22:23.255465",
     "exception": false,
     "start_time": "2020-12-03T01:22:23.222092",
     "status": "completed"
    },
    "tags": []
   },
   "outputs": [
    {
     "data": {
      "text/plain": [
       "('AgglomerativeClustering #0', AgglomerativeClustering())"
      ]
     },
     "metadata": {},
     "output_type": "display_data"
    },
    {
     "data": {
      "text/plain": [
       "('AgglomerativeClustering #1',\n",
       " AgglomerativeClustering(affinity='precomputed', linkage='complete'))"
      ]
     },
     "metadata": {},
     "output_type": "display_data"
    }
   ],
   "source": [
    "_iter = iter(CLUSTERERS.items())\n",
    "display(next(_iter))\n",
    "display(next(_iter))"
   ]
  },
  {
   "cell_type": "code",
   "execution_count": 14,
   "metadata": {
    "execution": {
     "iopub.execute_input": "2020-12-03T01:22:23.292011Z",
     "iopub.status.busy": "2020-12-03T01:22:23.291633Z",
     "iopub.status.idle": "2020-12-03T01:22:23.304139Z",
     "shell.execute_reply": "2020-12-03T01:22:23.303772Z"
    },
    "papermill": {
     "duration": 0.031287,
     "end_time": "2020-12-03T01:22:23.304226",
     "exception": false,
     "start_time": "2020-12-03T01:22:23.272939",
     "status": "completed"
    },
    "tags": []
   },
   "outputs": [
    {
     "data": {
      "text/plain": [
       "'AgglomerativeClustering'"
      ]
     },
     "metadata": {},
     "output_type": "display_data"
    }
   ],
   "source": [
    "clustering_method_name = method_name\n",
    "display(clustering_method_name)"
   ]
  },
  {
   "cell_type": "markdown",
   "metadata": {
    "papermill": {
     "duration": 0.016895,
     "end_time": "2020-12-03T01:22:23.338192",
     "exception": false,
     "start_time": "2020-12-03T01:22:23.321297",
     "status": "completed"
    },
    "tags": []
   },
   "source": [
    "## Output directory"
   ]
  },
  {
   "cell_type": "code",
   "execution_count": 15,
   "metadata": {
    "execution": {
     "iopub.execute_input": "2020-12-03T01:22:23.375318Z",
     "iopub.status.busy": "2020-12-03T01:22:23.374928Z",
     "iopub.status.idle": "2020-12-03T01:22:23.387841Z",
     "shell.execute_reply": "2020-12-03T01:22:23.387449Z"
    },
    "papermill": {
     "duration": 0.032462,
     "end_time": "2020-12-03T01:22:23.387934",
     "exception": false,
     "start_time": "2020-12-03T01:22:23.355472",
     "status": "completed"
    },
    "tags": []
   },
   "outputs": [
    {
     "data": {
      "text/plain": [
       "PosixPath('/home/miltondp/projects/labs/greenelab/phenoplier/base/results/clustering/runs/z_score_std-projection-smultixcan-efo_partial-mashr-zscores')"
      ]
     },
     "metadata": {},
     "output_type": "display_data"
    }
   ],
   "source": [
    "# output dir for this notebook\n",
    "RESULTS_DIR = Path(\n",
    "    conf.RESULTS[\"CLUSTERING_RUNS_DIR\"],\n",
    "    f'{INPUT_SUBSET}-{INPUT_STEM}',\n",
    ").resolve()\n",
    "RESULTS_DIR.mkdir(parents=True, exist_ok=True)\n",
    "\n",
    "display(RESULTS_DIR)"
   ]
  },
  {
   "cell_type": "markdown",
   "metadata": {
    "papermill": {
     "duration": 0.017142,
     "end_time": "2020-12-03T01:22:23.422608",
     "exception": false,
     "start_time": "2020-12-03T01:22:23.405466",
     "status": "completed"
    },
    "tags": []
   },
   "source": [
    "# Load input file"
   ]
  },
  {
   "cell_type": "code",
   "execution_count": 16,
   "metadata": {
    "execution": {
     "iopub.execute_input": "2020-12-03T01:22:23.459533Z",
     "iopub.status.busy": "2020-12-03T01:22:23.459168Z",
     "iopub.status.idle": "2020-12-03T01:22:23.483589Z",
     "shell.execute_reply": "2020-12-03T01:22:23.483230Z"
    },
    "papermill": {
     "duration": 0.044112,
     "end_time": "2020-12-03T01:22:23.483687",
     "exception": false,
     "start_time": "2020-12-03T01:22:23.439575",
     "status": "completed"
    },
    "tags": []
   },
   "outputs": [],
   "source": [
    "data = pd.read_pickle(input_filepath)"
   ]
  },
  {
   "cell_type": "code",
   "execution_count": 17,
   "metadata": {
    "execution": {
     "iopub.execute_input": "2020-12-03T01:22:23.523920Z",
     "iopub.status.busy": "2020-12-03T01:22:23.523558Z",
     "iopub.status.idle": "2020-12-03T01:22:23.536134Z",
     "shell.execute_reply": "2020-12-03T01:22:23.535760Z"
    },
    "papermill": {
     "duration": 0.033322,
     "end_time": "2020-12-03T01:22:23.536222",
     "exception": false,
     "start_time": "2020-12-03T01:22:23.502900",
     "status": "completed"
    },
    "tags": []
   },
   "outputs": [
    {
     "data": {
      "text/plain": [
       "(3749, 987)"
      ]
     },
     "execution_count": 17,
     "metadata": {},
     "output_type": "execute_result"
    }
   ],
   "source": [
    "data.shape"
   ]
  },
  {
   "cell_type": "code",
   "execution_count": 18,
   "metadata": {
    "execution": {
     "iopub.execute_input": "2020-12-03T01:22:23.574720Z",
     "iopub.status.busy": "2020-12-03T01:22:23.574355Z",
     "iopub.status.idle": "2020-12-03T01:22:23.600039Z",
     "shell.execute_reply": "2020-12-03T01:22:23.599681Z"
    },
    "papermill": {
     "duration": 0.04549,
     "end_time": "2020-12-03T01:22:23.600132",
     "exception": false,
     "start_time": "2020-12-03T01:22:23.554642",
     "status": "completed"
    },
    "tags": []
   },
   "outputs": [
    {
     "data": {
      "text/html": [
       "<div>\n",
       "<style scoped>\n",
       "    .dataframe tbody tr th:only-of-type {\n",
       "        vertical-align: middle;\n",
       "    }\n",
       "\n",
       "    .dataframe tbody tr th {\n",
       "        vertical-align: top;\n",
       "    }\n",
       "\n",
       "    .dataframe thead th {\n",
       "        text-align: right;\n",
       "    }\n",
       "</style>\n",
       "<table border=\"1\" class=\"dataframe\">\n",
       "  <thead>\n",
       "    <tr style=\"text-align: right;\">\n",
       "      <th></th>\n",
       "      <th>LV1</th>\n",
       "      <th>LV2</th>\n",
       "      <th>LV3</th>\n",
       "      <th>LV4</th>\n",
       "      <th>LV5</th>\n",
       "      <th>LV6</th>\n",
       "      <th>LV7</th>\n",
       "      <th>LV8</th>\n",
       "      <th>LV9</th>\n",
       "      <th>LV10</th>\n",
       "      <th>...</th>\n",
       "      <th>LV978</th>\n",
       "      <th>LV979</th>\n",
       "      <th>LV980</th>\n",
       "      <th>LV981</th>\n",
       "      <th>LV982</th>\n",
       "      <th>LV983</th>\n",
       "      <th>LV984</th>\n",
       "      <th>LV985</th>\n",
       "      <th>LV986</th>\n",
       "      <th>LV987</th>\n",
       "    </tr>\n",
       "  </thead>\n",
       "  <tbody>\n",
       "    <tr>\n",
       "      <th>100001_raw-Food_weight</th>\n",
       "      <td>-0.553743</td>\n",
       "      <td>1.851060</td>\n",
       "      <td>-0.095721</td>\n",
       "      <td>0.931603</td>\n",
       "      <td>-0.515196</td>\n",
       "      <td>1.371264</td>\n",
       "      <td>-0.413165</td>\n",
       "      <td>0.729668</td>\n",
       "      <td>0.546338</td>\n",
       "      <td>0.901153</td>\n",
       "      <td>...</td>\n",
       "      <td>1.148776</td>\n",
       "      <td>1.649018</td>\n",
       "      <td>-1.375952</td>\n",
       "      <td>2.203063</td>\n",
       "      <td>0.810199</td>\n",
       "      <td>-0.987048</td>\n",
       "      <td>0.277710</td>\n",
       "      <td>-0.607613</td>\n",
       "      <td>0.572376</td>\n",
       "      <td>-0.660846</td>\n",
       "    </tr>\n",
       "    <tr>\n",
       "      <th>100002_raw-Energy</th>\n",
       "      <td>-1.313905</td>\n",
       "      <td>-0.421015</td>\n",
       "      <td>-0.310524</td>\n",
       "      <td>-0.201978</td>\n",
       "      <td>0.233028</td>\n",
       "      <td>0.693838</td>\n",
       "      <td>0.084129</td>\n",
       "      <td>0.572439</td>\n",
       "      <td>0.217866</td>\n",
       "      <td>1.296973</td>\n",
       "      <td>...</td>\n",
       "      <td>0.165430</td>\n",
       "      <td>0.799276</td>\n",
       "      <td>-0.361989</td>\n",
       "      <td>-0.008253</td>\n",
       "      <td>2.063780</td>\n",
       "      <td>-0.930765</td>\n",
       "      <td>-0.147007</td>\n",
       "      <td>1.601938</td>\n",
       "      <td>-0.273553</td>\n",
       "      <td>-0.560822</td>\n",
       "    </tr>\n",
       "    <tr>\n",
       "      <th>100003_raw-Protein</th>\n",
       "      <td>-0.645622</td>\n",
       "      <td>-0.997845</td>\n",
       "      <td>0.249039</td>\n",
       "      <td>0.256499</td>\n",
       "      <td>0.422357</td>\n",
       "      <td>0.829189</td>\n",
       "      <td>-0.169004</td>\n",
       "      <td>0.511550</td>\n",
       "      <td>0.002389</td>\n",
       "      <td>-0.057200</td>\n",
       "      <td>...</td>\n",
       "      <td>1.016791</td>\n",
       "      <td>1.019488</td>\n",
       "      <td>-2.148844</td>\n",
       "      <td>-0.065130</td>\n",
       "      <td>0.041052</td>\n",
       "      <td>-0.836118</td>\n",
       "      <td>-0.320571</td>\n",
       "      <td>1.325519</td>\n",
       "      <td>-0.341494</td>\n",
       "      <td>-0.495786</td>\n",
       "    </tr>\n",
       "    <tr>\n",
       "      <th>100004_raw-Fat</th>\n",
       "      <td>-0.913924</td>\n",
       "      <td>-1.837183</td>\n",
       "      <td>0.012095</td>\n",
       "      <td>-1.301315</td>\n",
       "      <td>0.205794</td>\n",
       "      <td>1.129114</td>\n",
       "      <td>0.019985</td>\n",
       "      <td>0.376660</td>\n",
       "      <td>-0.810272</td>\n",
       "      <td>0.843611</td>\n",
       "      <td>...</td>\n",
       "      <td>0.544266</td>\n",
       "      <td>0.576714</td>\n",
       "      <td>0.281731</td>\n",
       "      <td>-0.218963</td>\n",
       "      <td>1.258957</td>\n",
       "      <td>-1.131924</td>\n",
       "      <td>0.378545</td>\n",
       "      <td>0.842047</td>\n",
       "      <td>-0.622194</td>\n",
       "      <td>-0.160058</td>\n",
       "    </tr>\n",
       "    <tr>\n",
       "      <th>100005_raw-Carbohydrate</th>\n",
       "      <td>-0.523004</td>\n",
       "      <td>0.131379</td>\n",
       "      <td>-0.097802</td>\n",
       "      <td>-0.030526</td>\n",
       "      <td>-0.021500</td>\n",
       "      <td>-0.219116</td>\n",
       "      <td>0.668229</td>\n",
       "      <td>0.365700</td>\n",
       "      <td>1.102347</td>\n",
       "      <td>0.845625</td>\n",
       "      <td>...</td>\n",
       "      <td>-0.344740</td>\n",
       "      <td>0.079274</td>\n",
       "      <td>0.253427</td>\n",
       "      <td>0.236474</td>\n",
       "      <td>1.033895</td>\n",
       "      <td>-0.229105</td>\n",
       "      <td>0.364793</td>\n",
       "      <td>1.776714</td>\n",
       "      <td>0.190531</td>\n",
       "      <td>-1.459641</td>\n",
       "    </tr>\n",
       "  </tbody>\n",
       "</table>\n",
       "<p>5 rows × 987 columns</p>\n",
       "</div>"
      ],
      "text/plain": [
       "                              LV1       LV2       LV3       LV4       LV5  \\\n",
       "100001_raw-Food_weight  -0.553743  1.851060 -0.095721  0.931603 -0.515196   \n",
       "100002_raw-Energy       -1.313905 -0.421015 -0.310524 -0.201978  0.233028   \n",
       "100003_raw-Protein      -0.645622 -0.997845  0.249039  0.256499  0.422357   \n",
       "100004_raw-Fat          -0.913924 -1.837183  0.012095 -1.301315  0.205794   \n",
       "100005_raw-Carbohydrate -0.523004  0.131379 -0.097802 -0.030526 -0.021500   \n",
       "\n",
       "                              LV6       LV7       LV8       LV9      LV10  \\\n",
       "100001_raw-Food_weight   1.371264 -0.413165  0.729668  0.546338  0.901153   \n",
       "100002_raw-Energy        0.693838  0.084129  0.572439  0.217866  1.296973   \n",
       "100003_raw-Protein       0.829189 -0.169004  0.511550  0.002389 -0.057200   \n",
       "100004_raw-Fat           1.129114  0.019985  0.376660 -0.810272  0.843611   \n",
       "100005_raw-Carbohydrate -0.219116  0.668229  0.365700  1.102347  0.845625   \n",
       "\n",
       "                         ...     LV978     LV979     LV980     LV981  \\\n",
       "100001_raw-Food_weight   ...  1.148776  1.649018 -1.375952  2.203063   \n",
       "100002_raw-Energy        ...  0.165430  0.799276 -0.361989 -0.008253   \n",
       "100003_raw-Protein       ...  1.016791  1.019488 -2.148844 -0.065130   \n",
       "100004_raw-Fat           ...  0.544266  0.576714  0.281731 -0.218963   \n",
       "100005_raw-Carbohydrate  ... -0.344740  0.079274  0.253427  0.236474   \n",
       "\n",
       "                            LV982     LV983     LV984     LV985     LV986  \\\n",
       "100001_raw-Food_weight   0.810199 -0.987048  0.277710 -0.607613  0.572376   \n",
       "100002_raw-Energy        2.063780 -0.930765 -0.147007  1.601938 -0.273553   \n",
       "100003_raw-Protein       0.041052 -0.836118 -0.320571  1.325519 -0.341494   \n",
       "100004_raw-Fat           1.258957 -1.131924  0.378545  0.842047 -0.622194   \n",
       "100005_raw-Carbohydrate  1.033895 -0.229105  0.364793  1.776714  0.190531   \n",
       "\n",
       "                            LV987  \n",
       "100001_raw-Food_weight  -0.660846  \n",
       "100002_raw-Energy       -0.560822  \n",
       "100003_raw-Protein      -0.495786  \n",
       "100004_raw-Fat          -0.160058  \n",
       "100005_raw-Carbohydrate -1.459641  \n",
       "\n",
       "[5 rows x 987 columns]"
      ]
     },
     "execution_count": 18,
     "metadata": {},
     "output_type": "execute_result"
    }
   ],
   "source": [
    "data.head()"
   ]
  },
  {
   "cell_type": "code",
   "execution_count": 19,
   "metadata": {
    "execution": {
     "iopub.execute_input": "2020-12-03T01:22:23.640032Z",
     "iopub.status.busy": "2020-12-03T01:22:23.639664Z",
     "iopub.status.idle": "2020-12-03T01:22:23.656406Z",
     "shell.execute_reply": "2020-12-03T01:22:23.656708Z"
    },
    "papermill": {
     "duration": 0.037288,
     "end_time": "2020-12-03T01:22:23.656825",
     "exception": false,
     "start_time": "2020-12-03T01:22:23.619537",
     "status": "completed"
    },
    "tags": []
   },
   "outputs": [],
   "source": [
    "assert not data.isna().any().any()"
   ]
  },
  {
   "cell_type": "markdown",
   "metadata": {
    "papermill": {
     "duration": 0.017688,
     "end_time": "2020-12-03T01:22:23.692534",
     "exception": false,
     "start_time": "2020-12-03T01:22:23.674846",
     "status": "completed"
    },
    "tags": []
   },
   "source": [
    "# Clustering"
   ]
  },
  {
   "cell_type": "markdown",
   "metadata": {
    "papermill": {
     "duration": 0.017728,
     "end_time": "2020-12-03T01:22:23.728204",
     "exception": false,
     "start_time": "2020-12-03T01:22:23.710476",
     "status": "completed"
    },
    "tags": []
   },
   "source": [
    "## Generate ensemble"
   ]
  },
  {
   "cell_type": "code",
   "execution_count": 20,
   "metadata": {
    "execution": {
     "iopub.execute_input": "2020-12-03T01:22:23.765649Z",
     "iopub.status.busy": "2020-12-03T01:22:23.765269Z",
     "iopub.status.idle": "2020-12-03T01:22:23.780042Z",
     "shell.execute_reply": "2020-12-03T01:22:23.779688Z"
    },
    "papermill": {
     "duration": 0.034498,
     "end_time": "2020-12-03T01:22:23.780132",
     "exception": false,
     "start_time": "2020-12-03T01:22:23.745634",
     "status": "completed"
    },
    "tags": []
   },
   "outputs": [],
   "source": [
    "from sklearn.metrics import pairwise_distances\n",
    "from clustering.ensemble import generate_ensemble"
   ]
  },
  {
   "cell_type": "code",
   "execution_count": 21,
   "metadata": {
    "execution": {
     "iopub.execute_input": "2020-12-03T01:22:23.819804Z",
     "iopub.status.busy": "2020-12-03T01:22:23.819439Z",
     "iopub.status.idle": "2020-12-03T01:22:24.093096Z",
     "shell.execute_reply": "2020-12-03T01:22:24.092668Z"
    },
    "papermill": {
     "duration": 0.294188,
     "end_time": "2020-12-03T01:22:24.093186",
     "exception": false,
     "start_time": "2020-12-03T01:22:23.798998",
     "status": "completed"
    },
    "tags": []
   },
   "outputs": [],
   "source": [
    "data_dist = pairwise_distances(data, metric=CLUSTERING_OPTIONS['AFFINITY'])"
   ]
  },
  {
   "cell_type": "code",
   "execution_count": 22,
   "metadata": {
    "execution": {
     "iopub.execute_input": "2020-12-03T01:22:24.131110Z",
     "iopub.status.busy": "2020-12-03T01:22:24.130698Z",
     "iopub.status.idle": "2020-12-03T01:22:24.143850Z",
     "shell.execute_reply": "2020-12-03T01:22:24.143280Z"
    },
    "papermill": {
     "duration": 0.032949,
     "end_time": "2020-12-03T01:22:24.143937",
     "exception": false,
     "start_time": "2020-12-03T01:22:24.110988",
     "status": "completed"
    },
    "tags": []
   },
   "outputs": [
    {
     "data": {
      "text/plain": [
       "(3749, 3749)"
      ]
     },
     "execution_count": 22,
     "metadata": {},
     "output_type": "execute_result"
    }
   ],
   "source": [
    "data_dist.shape"
   ]
  },
  {
   "cell_type": "code",
   "execution_count": 23,
   "metadata": {
    "execution": {
     "iopub.execute_input": "2020-12-03T01:22:24.182651Z",
     "iopub.status.busy": "2020-12-03T01:22:24.182268Z",
     "iopub.status.idle": "2020-12-03T01:22:24.787950Z",
     "shell.execute_reply": "2020-12-03T01:22:24.787558Z"
    },
    "papermill": {
     "duration": 0.626109,
     "end_time": "2020-12-03T01:22:24.788043",
     "exception": false,
     "start_time": "2020-12-03T01:22:24.161934",
     "status": "completed"
    },
    "tags": []
   },
   "outputs": [
    {
     "data": {
      "text/plain": [
       "count            14055001.0\n",
       "mean     43.125402555794686\n",
       "std      10.686424216072133\n",
       "min                     0.0\n",
       "25%       38.79637836150824\n",
       "50%       39.83036155840883\n",
       "75%      42.045984035637254\n",
       "max       164.9804596623576\n",
       "dtype: object"
      ]
     },
     "execution_count": 23,
     "metadata": {},
     "output_type": "execute_result"
    }
   ],
   "source": [
    "pd.Series(data_dist.flatten()).describe().apply(str)"
   ]
  },
  {
   "cell_type": "code",
   "execution_count": 24,
   "metadata": {
    "execution": {
     "iopub.execute_input": "2020-12-03T01:22:24.827796Z",
     "iopub.status.busy": "2020-12-03T01:22:24.827432Z",
     "iopub.status.idle": "2020-12-03T01:49:58.941237Z",
     "shell.execute_reply": "2020-12-03T01:49:58.941550Z"
    },
    "papermill": {
     "duration": 1654.13474,
     "end_time": "2020-12-03T01:49:58.941663",
     "exception": false,
     "start_time": "2020-12-03T01:22:24.806923",
     "status": "completed"
    },
    "tags": []
   },
   "outputs": [
    {
     "name": "stderr",
     "output_type": "stream",
     "text": [
      "100%|██████████| 296/296 [27:34<00:00,  5.59s/it]\n"
     ]
    }
   ],
   "source": [
    "ensemble = generate_ensemble(\n",
    "    data_dist,\n",
    "    CLUSTERERS,\n",
    "    attributes=CLUSTERING_ATTRIBUTES_TO_SAVE,\n",
    "    affinity_matrix=data_dist,\n",
    ")"
   ]
  },
  {
   "cell_type": "code",
   "execution_count": 25,
   "metadata": {
    "execution": {
     "iopub.execute_input": "2020-12-03T01:49:59.078473Z",
     "iopub.status.busy": "2020-12-03T01:49:59.078105Z",
     "iopub.status.idle": "2020-12-03T01:49:59.091554Z",
     "shell.execute_reply": "2020-12-03T01:49:59.091172Z"
    },
    "papermill": {
     "duration": 0.083174,
     "end_time": "2020-12-03T01:49:59.091644",
     "exception": false,
     "start_time": "2020-12-03T01:49:59.008470",
     "status": "completed"
    },
    "tags": []
   },
   "outputs": [
    {
     "data": {
      "text/plain": [
       "(296, 3)"
      ]
     },
     "execution_count": 25,
     "metadata": {},
     "output_type": "execute_result"
    }
   ],
   "source": [
    "# the number should be close to 295 (the number of partitions generated by k-means/spectral clustering)\n",
    "ensemble.shape"
   ]
  },
  {
   "cell_type": "code",
   "execution_count": 26,
   "metadata": {
    "execution": {
     "iopub.execute_input": "2020-12-03T01:49:59.231275Z",
     "iopub.status.busy": "2020-12-03T01:49:59.230878Z",
     "iopub.status.idle": "2020-12-03T01:49:59.250299Z",
     "shell.execute_reply": "2020-12-03T01:49:59.250579Z"
    },
    "papermill": {
     "duration": 0.090336,
     "end_time": "2020-12-03T01:49:59.250687",
     "exception": false,
     "start_time": "2020-12-03T01:49:59.160351",
     "status": "completed"
    },
    "tags": []
   },
   "outputs": [
    {
     "data": {
      "text/html": [
       "<div>\n",
       "<style scoped>\n",
       "    .dataframe tbody tr th:only-of-type {\n",
       "        vertical-align: middle;\n",
       "    }\n",
       "\n",
       "    .dataframe tbody tr th {\n",
       "        vertical-align: top;\n",
       "    }\n",
       "\n",
       "    .dataframe thead th {\n",
       "        text-align: right;\n",
       "    }\n",
       "</style>\n",
       "<table border=\"1\" class=\"dataframe\">\n",
       "  <thead>\n",
       "    <tr style=\"text-align: right;\">\n",
       "      <th></th>\n",
       "      <th>clusterer_params</th>\n",
       "      <th>partition</th>\n",
       "      <th>n_clusters</th>\n",
       "    </tr>\n",
       "    <tr>\n",
       "      <th>clusterer_id</th>\n",
       "      <th></th>\n",
       "      <th></th>\n",
       "      <th></th>\n",
       "    </tr>\n",
       "  </thead>\n",
       "  <tbody>\n",
       "    <tr>\n",
       "      <th>AgglomerativeClustering #0</th>\n",
       "      <td>{'affinity': 'euclidean', 'compute_full_tree':...</td>\n",
       "      <td>[1.0, 1.0, 1.0, 1.0, 1.0, 1.0, 1.0, 1.0, 1.0, ...</td>\n",
       "      <td>2</td>\n",
       "    </tr>\n",
       "    <tr>\n",
       "      <th>AgglomerativeClustering #1</th>\n",
       "      <td>{'affinity': 'precomputed', 'compute_full_tree...</td>\n",
       "      <td>[0.0, 0.0, 0.0, 0.0, 0.0, 0.0, 0.0, 0.0, 0.0, ...</td>\n",
       "      <td>2</td>\n",
       "    </tr>\n",
       "    <tr>\n",
       "      <th>AgglomerativeClustering #2</th>\n",
       "      <td>{'affinity': 'precomputed', 'compute_full_tree...</td>\n",
       "      <td>[0.0, 0.0, 0.0, 0.0, 0.0, 0.0, 0.0, 0.0, 0.0, ...</td>\n",
       "      <td>2</td>\n",
       "    </tr>\n",
       "    <tr>\n",
       "      <th>AgglomerativeClustering #3</th>\n",
       "      <td>{'affinity': 'precomputed', 'compute_full_tree...</td>\n",
       "      <td>[0.0, 0.0, 0.0, 0.0, 0.0, 0.0, 0.0, 0.0, 0.0, ...</td>\n",
       "      <td>2</td>\n",
       "    </tr>\n",
       "    <tr>\n",
       "      <th>AgglomerativeClustering #4</th>\n",
       "      <td>{'affinity': 'euclidean', 'compute_full_tree':...</td>\n",
       "      <td>[0.0, 0.0, 0.0, 0.0, 0.0, 0.0, 0.0, 0.0, 0.0, ...</td>\n",
       "      <td>3</td>\n",
       "    </tr>\n",
       "  </tbody>\n",
       "</table>\n",
       "</div>"
      ],
      "text/plain": [
       "                                                             clusterer_params  \\\n",
       "clusterer_id                                                                    \n",
       "AgglomerativeClustering #0  {'affinity': 'euclidean', 'compute_full_tree':...   \n",
       "AgglomerativeClustering #1  {'affinity': 'precomputed', 'compute_full_tree...   \n",
       "AgglomerativeClustering #2  {'affinity': 'precomputed', 'compute_full_tree...   \n",
       "AgglomerativeClustering #3  {'affinity': 'precomputed', 'compute_full_tree...   \n",
       "AgglomerativeClustering #4  {'affinity': 'euclidean', 'compute_full_tree':...   \n",
       "\n",
       "                                                                    partition  \\\n",
       "clusterer_id                                                                    \n",
       "AgglomerativeClustering #0  [1.0, 1.0, 1.0, 1.0, 1.0, 1.0, 1.0, 1.0, 1.0, ...   \n",
       "AgglomerativeClustering #1  [0.0, 0.0, 0.0, 0.0, 0.0, 0.0, 0.0, 0.0, 0.0, ...   \n",
       "AgglomerativeClustering #2  [0.0, 0.0, 0.0, 0.0, 0.0, 0.0, 0.0, 0.0, 0.0, ...   \n",
       "AgglomerativeClustering #3  [0.0, 0.0, 0.0, 0.0, 0.0, 0.0, 0.0, 0.0, 0.0, ...   \n",
       "AgglomerativeClustering #4  [0.0, 0.0, 0.0, 0.0, 0.0, 0.0, 0.0, 0.0, 0.0, ...   \n",
       "\n",
       "                            n_clusters  \n",
       "clusterer_id                            \n",
       "AgglomerativeClustering #0           2  \n",
       "AgglomerativeClustering #1           2  \n",
       "AgglomerativeClustering #2           2  \n",
       "AgglomerativeClustering #3           2  \n",
       "AgglomerativeClustering #4           3  "
      ]
     },
     "execution_count": 26,
     "metadata": {},
     "output_type": "execute_result"
    }
   ],
   "source": [
    "ensemble.head()"
   ]
  },
  {
   "cell_type": "code",
   "execution_count": 27,
   "metadata": {
    "execution": {
     "iopub.execute_input": "2020-12-03T01:49:59.399896Z",
     "iopub.status.busy": "2020-12-03T01:49:59.399494Z",
     "iopub.status.idle": "2020-12-03T01:49:59.413559Z",
     "shell.execute_reply": "2020-12-03T01:49:59.413142Z"
    },
    "papermill": {
     "duration": 0.085887,
     "end_time": "2020-12-03T01:49:59.413650",
     "exception": false,
     "start_time": "2020-12-03T01:49:59.327763",
     "status": "completed"
    },
    "tags": []
   },
   "outputs": [
    {
     "data": {
      "text/plain": [
       "75    4\n",
       "20    4\n",
       "22    4\n",
       "23    4\n",
       "24    4\n",
       "Name: n_clusters, dtype: int64"
      ]
     },
     "execution_count": 27,
     "metadata": {},
     "output_type": "execute_result"
    }
   ],
   "source": [
    "ensemble['n_clusters'].value_counts().head()"
   ]
  },
  {
   "cell_type": "code",
   "execution_count": 28,
   "metadata": {
    "execution": {
     "iopub.execute_input": "2020-12-03T01:49:59.554475Z",
     "iopub.status.busy": "2020-12-03T01:49:59.554091Z",
     "iopub.status.idle": "2020-12-03T01:49:59.570162Z",
     "shell.execute_reply": "2020-12-03T01:49:59.569801Z"
    },
    "papermill": {
     "duration": 0.087755,
     "end_time": "2020-12-03T01:49:59.570255",
     "exception": false,
     "start_time": "2020-12-03T01:49:59.482500",
     "status": "completed"
    },
    "tags": []
   },
   "outputs": [
    {
     "data": {
      "text/plain": [
       "count    296.000000\n",
       "mean      38.500000\n",
       "std       21.396182\n",
       "min        2.000000\n",
       "25%       20.000000\n",
       "50%       38.500000\n",
       "75%       57.000000\n",
       "max       75.000000\n",
       "Name: n_clusters, dtype: float64"
      ]
     },
     "metadata": {},
     "output_type": "display_data"
    }
   ],
   "source": [
    "ensemble_stats = ensemble['n_clusters'].describe()\n",
    "display(ensemble_stats)"
   ]
  },
  {
   "cell_type": "markdown",
   "metadata": {
    "papermill": {
     "duration": 0.068278,
     "end_time": "2020-12-03T01:49:59.708371",
     "exception": false,
     "start_time": "2020-12-03T01:49:59.640093",
     "status": "completed"
    },
    "tags": []
   },
   "source": [
    "### Testing"
   ]
  },
  {
   "cell_type": "code",
   "execution_count": 29,
   "metadata": {
    "execution": {
     "iopub.execute_input": "2020-12-03T01:49:59.851173Z",
     "iopub.status.busy": "2020-12-03T01:49:59.850806Z",
     "iopub.status.idle": "2020-12-03T01:49:59.863764Z",
     "shell.execute_reply": "2020-12-03T01:49:59.863429Z"
    },
    "papermill": {
     "duration": 0.086904,
     "end_time": "2020-12-03T01:49:59.863866",
     "exception": false,
     "start_time": "2020-12-03T01:49:59.776962",
     "status": "completed"
    },
    "tags": []
   },
   "outputs": [],
   "source": [
    "assert ensemble_stats['min'] > 1"
   ]
  },
  {
   "cell_type": "code",
   "execution_count": 30,
   "metadata": {
    "execution": {
     "iopub.execute_input": "2020-12-03T01:50:00.003986Z",
     "iopub.status.busy": "2020-12-03T01:50:00.003622Z",
     "iopub.status.idle": "2020-12-03T01:50:00.016186Z",
     "shell.execute_reply": "2020-12-03T01:50:00.015794Z"
    },
    "papermill": {
     "duration": 0.083446,
     "end_time": "2020-12-03T01:50:00.016274",
     "exception": false,
     "start_time": "2020-12-03T01:49:59.932828",
     "status": "completed"
    },
    "tags": []
   },
   "outputs": [],
   "source": [
    "assert not ensemble['n_clusters'].isna().any()"
   ]
  },
  {
   "cell_type": "code",
   "execution_count": 31,
   "metadata": {
    "execution": {
     "iopub.execute_input": "2020-12-03T01:50:00.156383Z",
     "iopub.status.busy": "2020-12-03T01:50:00.156014Z",
     "iopub.status.idle": "2020-12-03T01:50:00.168127Z",
     "shell.execute_reply": "2020-12-03T01:50:00.167770Z"
    },
    "papermill": {
     "duration": 0.083459,
     "end_time": "2020-12-03T01:50:00.168216",
     "exception": false,
     "start_time": "2020-12-03T01:50:00.084757",
     "status": "completed"
    },
    "tags": []
   },
   "outputs": [],
   "source": [
    "assert ensemble.shape[0] == len(CLUSTERERS)"
   ]
  },
  {
   "cell_type": "code",
   "execution_count": 32,
   "metadata": {
    "execution": {
     "iopub.execute_input": "2020-12-03T01:50:00.307887Z",
     "iopub.status.busy": "2020-12-03T01:50:00.307505Z",
     "iopub.status.idle": "2020-12-03T01:50:00.337534Z",
     "shell.execute_reply": "2020-12-03T01:50:00.337146Z"
    },
    "papermill": {
     "duration": 0.100901,
     "end_time": "2020-12-03T01:50:00.337623",
     "exception": false,
     "start_time": "2020-12-03T01:50:00.236722",
     "status": "completed"
    },
    "tags": []
   },
   "outputs": [],
   "source": [
    "# all partitions have the right size\n",
    "assert np.all([\n",
    "    part['partition'].shape[0] == data.shape[0]\n",
    "    for idx, part in ensemble.iterrows()\n",
    "])"
   ]
  },
  {
   "cell_type": "code",
   "execution_count": 33,
   "metadata": {
    "execution": {
     "iopub.execute_input": "2020-12-03T01:50:00.476681Z",
     "iopub.status.busy": "2020-12-03T01:50:00.476309Z",
     "iopub.status.idle": "2020-12-03T01:50:00.509526Z",
     "shell.execute_reply": "2020-12-03T01:50:00.509170Z"
    },
    "papermill": {
     "duration": 0.103009,
     "end_time": "2020-12-03T01:50:00.509614",
     "exception": false,
     "start_time": "2020-12-03T01:50:00.406605",
     "status": "completed"
    },
    "tags": []
   },
   "outputs": [],
   "source": [
    "# no partition has negative clusters (noisy points)\n",
    "assert not np.any([\n",
    "    (part['partition'] < 0).any()\n",
    "    for idx, part in ensemble.iterrows()\n",
    "])"
   ]
  },
  {
   "cell_type": "markdown",
   "metadata": {
    "papermill": {
     "duration": 0.068033,
     "end_time": "2020-12-03T01:50:00.646725",
     "exception": false,
     "start_time": "2020-12-03T01:50:00.578692",
     "status": "completed"
    },
    "tags": []
   },
   "source": [
    "## Save"
   ]
  },
  {
   "cell_type": "code",
   "execution_count": 34,
   "metadata": {
    "execution": {
     "iopub.execute_input": "2020-12-03T01:50:00.786010Z",
     "iopub.status.busy": "2020-12-03T01:50:00.783898Z",
     "iopub.status.idle": "2020-12-03T01:50:00.798712Z",
     "shell.execute_reply": "2020-12-03T01:50:00.798312Z"
    },
    "papermill": {
     "duration": 0.084549,
     "end_time": "2020-12-03T01:50:00.798807",
     "exception": false,
     "start_time": "2020-12-03T01:50:00.714258",
     "status": "completed"
    },
    "tags": []
   },
   "outputs": [
    {
     "data": {
      "text/plain": [
       "PosixPath('/home/miltondp/projects/labs/greenelab/phenoplier/base/results/clustering/runs/z_score_std-projection-smultixcan-efo_partial-mashr-zscores/AgglomerativeClustering-AFFINITY_euclidean-K_MAX_75-K_MIN_2.pkl')"
      ]
     },
     "metadata": {},
     "output_type": "display_data"
    }
   ],
   "source": [
    "del CLUSTERING_OPTIONS['LINKAGE']\n",
    "\n",
    "output_filename = Path(\n",
    "    RESULTS_DIR,\n",
    "    generate_result_set_name(\n",
    "        CLUSTERING_OPTIONS,\n",
    "        prefix=f'{clustering_method_name}-',\n",
    "        suffix='.pkl',\n",
    "    )\n",
    ").resolve()\n",
    "display(output_filename)"
   ]
  },
  {
   "cell_type": "code",
   "execution_count": 35,
   "metadata": {
    "execution": {
     "iopub.execute_input": "2020-12-03T01:50:00.937286Z",
     "iopub.status.busy": "2020-12-03T01:50:00.936921Z",
     "iopub.status.idle": "2020-12-03T01:50:00.973780Z",
     "shell.execute_reply": "2020-12-03T01:50:00.973384Z"
    },
    "papermill": {
     "duration": 0.107093,
     "end_time": "2020-12-03T01:50:00.973907",
     "exception": false,
     "start_time": "2020-12-03T01:50:00.866814",
     "status": "completed"
    },
    "tags": []
   },
   "outputs": [],
   "source": [
    "ensemble.to_pickle(output_filename)"
   ]
  },
  {
   "cell_type": "code",
   "execution_count": null,
   "metadata": {
    "papermill": {
     "duration": 0.067876,
     "end_time": "2020-12-03T01:50:01.121874",
     "exception": false,
     "start_time": "2020-12-03T01:50:01.053998",
     "status": "completed"
    },
    "tags": []
   },
   "outputs": [],
   "source": []
  }
 ],
 "metadata": {
  "jupytext": {
   "formats": "ipynb,py//py:percent"
  },
  "kernelspec": {
   "display_name": "Python 3",
   "language": "python",
   "name": "python3"
  },
  "language_info": {
   "codemirror_mode": {
    "name": "ipython",
    "version": 3
   },
   "file_extension": ".py",
   "mimetype": "text/x-python",
   "name": "python",
   "nbconvert_exporter": "python",
   "pygments_lexer": "ipython3",
   "version": "3.8.6"
  },
  "papermill": {
   "default_parameters": {},
   "duration": 1662.52891,
   "end_time": "2020-12-03T01:50:02.555932",
   "environment_variables": {},
   "exception": null,
   "input_path": "15_cluster_analysis/003_00-projection_smultixcan_efo-z_score_std-clustering_hc.ipynb",
   "output_path": "15_cluster_analysis/003_00-projection_smultixcan_efo-z_score_std-clustering_hc.run.ipynb",
   "parameters": {},
   "start_time": "2020-12-03T01:22:20.027022",
   "version": "2.2.2"
  },
  "toc-autonumbering": true,
  "toc-showcode": false,
  "toc-showmarkdowntxt": false,
  "toc-showtags": false
 },
 "nbformat": 4,
 "nbformat_minor": 4
}
