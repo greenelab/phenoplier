{
 "cells": [
  {
   "cell_type": "markdown",
   "metadata": {
    "papermill": {
     "duration": 0.061499,
     "end_time": "2021-02-22T21:11:51.505683",
     "exception": false,
     "start_time": "2021-02-22T21:11:51.444184",
     "status": "completed"
    },
    "tags": []
   },
   "source": [
    "# Description"
   ]
  },
  {
   "cell_type": "markdown",
   "metadata": {
    "papermill": {
     "duration": 0.024187,
     "end_time": "2021-02-22T21:11:51.555746",
     "exception": false,
     "start_time": "2021-02-22T21:11:51.531559",
     "status": "completed"
    },
    "tags": []
   },
   "source": [
    "Runs spectral clustering on the z_score_std version of the data."
   ]
  },
  {
   "cell_type": "markdown",
   "metadata": {
    "papermill": {
     "duration": 0.02317,
     "end_time": "2021-02-22T21:11:51.602397",
     "exception": false,
     "start_time": "2021-02-22T21:11:51.579227",
     "status": "completed"
    },
    "tags": []
   },
   "source": [
    "# Environment variables"
   ]
  },
  {
   "cell_type": "code",
   "execution_count": 1,
   "metadata": {
    "execution": {
     "iopub.execute_input": "2021-02-22T21:11:51.652899Z",
     "iopub.status.busy": "2021-02-22T21:11:51.652439Z",
     "iopub.status.idle": "2021-02-22T21:11:51.663324Z",
     "shell.execute_reply": "2021-02-22T21:11:51.662900Z"
    },
    "papermill": {
     "duration": 0.037609,
     "end_time": "2021-02-22T21:11:51.663446",
     "exception": false,
     "start_time": "2021-02-22T21:11:51.625837",
     "status": "completed"
    },
    "tags": []
   },
   "outputs": [
    {
     "data": {
      "text/plain": [
       "2"
      ]
     },
     "metadata": {},
     "output_type": "display_data"
    }
   ],
   "source": [
    "from IPython.display import display\n",
    "\n",
    "import conf\n",
    "\n",
    "N_JOBS = conf.GENERAL[\"N_JOBS\"]\n",
    "display(N_JOBS)"
   ]
  },
  {
   "cell_type": "code",
   "execution_count": 2,
   "metadata": {
    "execution": {
     "iopub.execute_input": "2021-02-22T21:11:51.716809Z",
     "iopub.status.busy": "2021-02-22T21:11:51.716341Z",
     "iopub.status.idle": "2021-02-22T21:11:51.718824Z",
     "shell.execute_reply": "2021-02-22T21:11:51.718450Z"
    },
    "papermill": {
     "duration": 0.031036,
     "end_time": "2021-02-22T21:11:51.718913",
     "exception": false,
     "start_time": "2021-02-22T21:11:51.687877",
     "status": "completed"
    },
    "tags": []
   },
   "outputs": [
    {
     "name": "stdout",
     "output_type": "stream",
     "text": [
      "env: MKL_NUM_THREADS=2\n",
      "env: OPEN_BLAS_NUM_THREADS=2\n",
      "env: NUMEXPR_NUM_THREADS=2\n",
      "env: OMP_NUM_THREADS=2\n"
     ]
    }
   ],
   "source": [
    "%env MKL_NUM_THREADS=$N_JOBS\n",
    "%env OPEN_BLAS_NUM_THREADS=$N_JOBS\n",
    "%env NUMEXPR_NUM_THREADS=$N_JOBS\n",
    "%env OMP_NUM_THREADS=$N_JOBS"
   ]
  },
  {
   "cell_type": "markdown",
   "metadata": {
    "papermill": {
     "duration": 0.023338,
     "end_time": "2021-02-22T21:11:51.766863",
     "exception": false,
     "start_time": "2021-02-22T21:11:51.743525",
     "status": "completed"
    },
    "tags": []
   },
   "source": [
    "# Modules loading"
   ]
  },
  {
   "cell_type": "code",
   "execution_count": 3,
   "metadata": {
    "execution": {
     "iopub.execute_input": "2021-02-22T21:11:51.817236Z",
     "iopub.status.busy": "2021-02-22T21:11:51.816866Z",
     "iopub.status.idle": "2021-02-22T21:11:51.824634Z",
     "shell.execute_reply": "2021-02-22T21:11:51.824314Z"
    },
    "papermill": {
     "duration": 0.03415,
     "end_time": "2021-02-22T21:11:51.824784",
     "exception": false,
     "start_time": "2021-02-22T21:11:51.790634",
     "status": "completed"
    },
    "tags": []
   },
   "outputs": [],
   "source": [
    "%load_ext autoreload\n",
    "%autoreload 2"
   ]
  },
  {
   "cell_type": "code",
   "execution_count": 4,
   "metadata": {
    "execution": {
     "iopub.execute_input": "2021-02-22T21:11:51.876556Z",
     "iopub.status.busy": "2021-02-22T21:11:51.876175Z",
     "iopub.status.idle": "2021-02-22T21:11:52.435949Z",
     "shell.execute_reply": "2021-02-22T21:11:52.436310Z"
    },
    "papermill": {
     "duration": 0.587105,
     "end_time": "2021-02-22T21:11:52.436448",
     "exception": false,
     "start_time": "2021-02-22T21:11:51.849343",
     "status": "completed"
    },
    "tags": []
   },
   "outputs": [],
   "source": [
    "from pathlib import Path\n",
    "\n",
    "import numpy as np\n",
    "import pandas as pd\n",
    "import matplotlib.pyplot as plt\n",
    "import seaborn as sns\n",
    "\n",
    "from utils import generate_result_set_name"
   ]
  },
  {
   "cell_type": "markdown",
   "metadata": {
    "papermill": {
     "duration": 0.02573,
     "end_time": "2021-02-22T21:11:52.492991",
     "exception": false,
     "start_time": "2021-02-22T21:11:52.467261",
     "status": "completed"
    },
    "tags": []
   },
   "source": [
    "# Settings"
   ]
  },
  {
   "cell_type": "code",
   "execution_count": 5,
   "metadata": {
    "execution": {
     "iopub.execute_input": "2021-02-22T21:11:52.545868Z",
     "iopub.status.busy": "2021-02-22T21:11:52.545496Z",
     "iopub.status.idle": "2021-02-22T21:11:52.555521Z",
     "shell.execute_reply": "2021-02-22T21:11:52.555160Z"
    },
    "papermill": {
     "duration": 0.03883,
     "end_time": "2021-02-22T21:11:52.555613",
     "exception": false,
     "start_time": "2021-02-22T21:11:52.516783",
     "status": "completed"
    },
    "tags": []
   },
   "outputs": [],
   "source": [
    "np.random.seed(0)"
   ]
  },
  {
   "cell_type": "code",
   "execution_count": 6,
   "metadata": {
    "execution": {
     "iopub.execute_input": "2021-02-22T21:11:52.607109Z",
     "iopub.status.busy": "2021-02-22T21:11:52.606733Z",
     "iopub.status.idle": "2021-02-22T21:11:52.616339Z",
     "shell.execute_reply": "2021-02-22T21:11:52.616020Z"
    },
    "papermill": {
     "duration": 0.0358,
     "end_time": "2021-02-22T21:11:52.616426",
     "exception": false,
     "start_time": "2021-02-22T21:11:52.580626",
     "status": "completed"
    },
    "tags": []
   },
   "outputs": [],
   "source": [
    "INITIAL_RANDOM_STATE = 30000"
   ]
  },
  {
   "cell_type": "markdown",
   "metadata": {
    "papermill": {
     "duration": 0.023441,
     "end_time": "2021-02-22T21:11:52.664318",
     "exception": false,
     "start_time": "2021-02-22T21:11:52.640877",
     "status": "completed"
    },
    "tags": []
   },
   "source": [
    "## Input data"
   ]
  },
  {
   "cell_type": "code",
   "execution_count": 7,
   "metadata": {
    "execution": {
     "iopub.execute_input": "2021-02-22T21:11:52.714250Z",
     "iopub.status.busy": "2021-02-22T21:11:52.713875Z",
     "iopub.status.idle": "2021-02-22T21:11:52.723509Z",
     "shell.execute_reply": "2021-02-22T21:11:52.723133Z"
    },
    "papermill": {
     "duration": 0.035673,
     "end_time": "2021-02-22T21:11:52.723598",
     "exception": false,
     "start_time": "2021-02-22T21:11:52.687925",
     "status": "completed"
    },
    "tags": []
   },
   "outputs": [],
   "source": [
    "INPUT_SUBSET = \"z_score_std\""
   ]
  },
  {
   "cell_type": "code",
   "execution_count": 8,
   "metadata": {
    "execution": {
     "iopub.execute_input": "2021-02-22T21:11:52.774999Z",
     "iopub.status.busy": "2021-02-22T21:11:52.774626Z",
     "iopub.status.idle": "2021-02-22T21:11:52.784484Z",
     "shell.execute_reply": "2021-02-22T21:11:52.784096Z"
    },
    "papermill": {
     "duration": 0.036049,
     "end_time": "2021-02-22T21:11:52.784585",
     "exception": false,
     "start_time": "2021-02-22T21:11:52.748536",
     "status": "completed"
    },
    "tags": []
   },
   "outputs": [],
   "source": [
    "INPUT_STEM = \"projection-smultixcan-efo_partial-mashr-zscores\""
   ]
  },
  {
   "cell_type": "code",
   "execution_count": 9,
   "metadata": {
    "execution": {
     "iopub.execute_input": "2021-02-22T21:11:52.835361Z",
     "iopub.status.busy": "2021-02-22T21:11:52.834992Z",
     "iopub.status.idle": "2021-02-22T21:11:52.846072Z",
     "shell.execute_reply": "2021-02-22T21:11:52.846365Z"
    },
    "papermill": {
     "duration": 0.037899,
     "end_time": "2021-02-22T21:11:52.846477",
     "exception": false,
     "start_time": "2021-02-22T21:11:52.808578",
     "status": "completed"
    },
    "tags": []
   },
   "outputs": [
    {
     "data": {
      "text/plain": [
       "PosixPath('/home/miltondp/projects/labs/greenelab/phenoplier/base3/results/data_transformations/z_score_std/z_score_std-projection-smultixcan-efo_partial-mashr-zscores.pkl')"
      ]
     },
     "metadata": {},
     "output_type": "display_data"
    },
    {
     "data": {
      "text/plain": [
       "'z_score_std-projection-smultixcan-efo_partial-mashr-zscores'"
      ]
     },
     "metadata": {},
     "output_type": "display_data"
    }
   ],
   "source": [
    "input_filepath = Path(\n",
    "    conf.RESULTS[\"DATA_TRANSFORMATIONS_DIR\"],\n",
    "    INPUT_SUBSET,\n",
    "    f\"{INPUT_SUBSET}-{INPUT_STEM}.pkl\",\n",
    ").resolve()\n",
    "display(input_filepath)\n",
    "\n",
    "assert input_filepath.exists(), \"Input file does not exist\"\n",
    "\n",
    "input_filepath_stem = input_filepath.stem\n",
    "display(input_filepath_stem)"
   ]
  },
  {
   "cell_type": "markdown",
   "metadata": {
    "papermill": {
     "duration": 0.024025,
     "end_time": "2021-02-22T21:11:52.896389",
     "exception": false,
     "start_time": "2021-02-22T21:11:52.872364",
     "status": "completed"
    },
    "tags": []
   },
   "source": [
    "## Clustering"
   ]
  },
  {
   "cell_type": "code",
   "execution_count": 10,
   "metadata": {
    "execution": {
     "iopub.execute_input": "2021-02-22T21:11:52.947263Z",
     "iopub.status.busy": "2021-02-22T21:11:52.946904Z",
     "iopub.status.idle": "2021-02-22T21:11:53.076576Z",
     "shell.execute_reply": "2021-02-22T21:11:53.076235Z"
    },
    "papermill": {
     "duration": 0.15628,
     "end_time": "2021-02-22T21:11:53.076664",
     "exception": false,
     "start_time": "2021-02-22T21:11:52.920384",
     "status": "completed"
    },
    "tags": []
   },
   "outputs": [],
   "source": [
    "from sklearn.cluster import SpectralClustering"
   ]
  },
  {
   "cell_type": "code",
   "execution_count": 11,
   "metadata": {
    "execution": {
     "iopub.execute_input": "2021-02-22T21:11:53.127512Z",
     "iopub.status.busy": "2021-02-22T21:11:53.127129Z",
     "iopub.status.idle": "2021-02-22T21:11:53.138131Z",
     "shell.execute_reply": "2021-02-22T21:11:53.138462Z"
    },
    "papermill": {
     "duration": 0.037757,
     "end_time": "2021-02-22T21:11:53.138583",
     "exception": false,
     "start_time": "2021-02-22T21:11:53.100826",
     "status": "completed"
    },
    "tags": []
   },
   "outputs": [],
   "source": [
    "CLUSTERING_ATTRIBUTES_TO_SAVE = [\"n_clusters\"]"
   ]
  },
  {
   "cell_type": "code",
   "execution_count": 12,
   "metadata": {
    "execution": {
     "iopub.execute_input": "2021-02-22T21:11:53.190716Z",
     "iopub.status.busy": "2021-02-22T21:11:53.190349Z",
     "iopub.status.idle": "2021-02-22T21:11:53.202268Z",
     "shell.execute_reply": "2021-02-22T21:11:53.201894Z"
    },
    "papermill": {
     "duration": 0.038603,
     "end_time": "2021-02-22T21:11:53.202355",
     "exception": false,
     "start_time": "2021-02-22T21:11:53.163752",
     "status": "completed"
    },
    "tags": []
   },
   "outputs": [
    {
     "data": {
      "text/plain": [
       "{'K_MIN': 2,\n",
       " 'K_MAX': 60,\n",
       " 'N_REPS_PER_K': 5,\n",
       " 'KMEANS_N_INIT': 10,\n",
       " 'GAMMA': 1e-10,\n",
       " 'AFFINITY': 'rbf'}"
      ]
     },
     "metadata": {},
     "output_type": "display_data"
    }
   ],
   "source": [
    "CLUSTERING_OPTIONS = {}\n",
    "\n",
    "CLUSTERING_OPTIONS[\"K_MIN\"] = 2\n",
    "CLUSTERING_OPTIONS[\"K_MAX\"] = 60  # sqrt(3749)\n",
    "CLUSTERING_OPTIONS[\"N_REPS_PER_K\"] = 5\n",
    "CLUSTERING_OPTIONS[\"KMEANS_N_INIT\"] = 10\n",
    "CLUSTERING_OPTIONS[\"GAMMA\"] = 1.0e-10\n",
    "CLUSTERING_OPTIONS[\"AFFINITY\"] = \"rbf\"\n",
    "\n",
    "display(CLUSTERING_OPTIONS)"
   ]
  },
  {
   "cell_type": "code",
   "execution_count": 13,
   "metadata": {
    "execution": {
     "iopub.execute_input": "2021-02-22T21:11:53.255870Z",
     "iopub.status.busy": "2021-02-22T21:11:53.255486Z",
     "iopub.status.idle": "2021-02-22T21:11:53.267609Z",
     "shell.execute_reply": "2021-02-22T21:11:53.267227Z"
    },
    "papermill": {
     "duration": 0.039859,
     "end_time": "2021-02-22T21:11:53.267699",
     "exception": false,
     "start_time": "2021-02-22T21:11:53.227840",
     "status": "completed"
    },
    "tags": []
   },
   "outputs": [],
   "source": [
    "CLUSTERERS = {}\n",
    "\n",
    "idx = 0\n",
    "random_state = INITIAL_RANDOM_STATE\n",
    "\n",
    "for k in range(CLUSTERING_OPTIONS[\"K_MIN\"], CLUSTERING_OPTIONS[\"K_MAX\"] + 1):\n",
    "    for i in range(CLUSTERING_OPTIONS[\"N_REPS_PER_K\"]):\n",
    "        clus = SpectralClustering(\n",
    "            eigen_solver=\"arpack\",\n",
    "            n_clusters=k,\n",
    "            n_init=CLUSTERING_OPTIONS[\"KMEANS_N_INIT\"],\n",
    "            affinity=CLUSTERING_OPTIONS[\"AFFINITY\"],\n",
    "            gamma=CLUSTERING_OPTIONS[\"GAMMA\"],\n",
    "            random_state=random_state,\n",
    "        )\n",
    "\n",
    "        method_name = type(clus).__name__\n",
    "        CLUSTERERS[f\"{method_name} #{idx}\"] = clus\n",
    "\n",
    "        random_state = random_state + 1\n",
    "        idx = idx + 1"
   ]
  },
  {
   "cell_type": "code",
   "execution_count": 14,
   "metadata": {
    "execution": {
     "iopub.execute_input": "2021-02-22T21:11:53.319517Z",
     "iopub.status.busy": "2021-02-22T21:11:53.319159Z",
     "iopub.status.idle": "2021-02-22T21:11:53.330403Z",
     "shell.execute_reply": "2021-02-22T21:11:53.330692Z"
    },
    "papermill": {
     "duration": 0.038138,
     "end_time": "2021-02-22T21:11:53.330805",
     "exception": false,
     "start_time": "2021-02-22T21:11:53.292667",
     "status": "completed"
    },
    "tags": []
   },
   "outputs": [
    {
     "data": {
      "text/plain": [
       "295"
      ]
     },
     "metadata": {},
     "output_type": "display_data"
    }
   ],
   "source": [
    "display(len(CLUSTERERS))"
   ]
  },
  {
   "cell_type": "code",
   "execution_count": 15,
   "metadata": {
    "execution": {
     "iopub.execute_input": "2021-02-22T21:11:53.383811Z",
     "iopub.status.busy": "2021-02-22T21:11:53.383449Z",
     "iopub.status.idle": "2021-02-22T21:11:53.396772Z",
     "shell.execute_reply": "2021-02-22T21:11:53.397076Z"
    },
    "papermill": {
     "duration": 0.040988,
     "end_time": "2021-02-22T21:11:53.397184",
     "exception": false,
     "start_time": "2021-02-22T21:11:53.356196",
     "status": "completed"
    },
    "tags": []
   },
   "outputs": [
    {
     "data": {
      "text/plain": [
       "('SpectralClustering #0',\n",
       " SpectralClustering(eigen_solver='arpack', gamma=1e-10, n_clusters=2,\n",
       "                    random_state=30000))"
      ]
     },
     "metadata": {},
     "output_type": "display_data"
    },
    {
     "data": {
      "text/plain": [
       "('SpectralClustering #1',\n",
       " SpectralClustering(eigen_solver='arpack', gamma=1e-10, n_clusters=2,\n",
       "                    random_state=30001))"
      ]
     },
     "metadata": {},
     "output_type": "display_data"
    }
   ],
   "source": [
    "_iter = iter(CLUSTERERS.items())\n",
    "display(next(_iter))\n",
    "display(next(_iter))"
   ]
  },
  {
   "cell_type": "code",
   "execution_count": 16,
   "metadata": {
    "execution": {
     "iopub.execute_input": "2021-02-22T21:11:53.450747Z",
     "iopub.status.busy": "2021-02-22T21:11:53.450386Z",
     "iopub.status.idle": "2021-02-22T21:11:53.461683Z",
     "shell.execute_reply": "2021-02-22T21:11:53.461308Z"
    },
    "papermill": {
     "duration": 0.039041,
     "end_time": "2021-02-22T21:11:53.461773",
     "exception": false,
     "start_time": "2021-02-22T21:11:53.422732",
     "status": "completed"
    },
    "tags": []
   },
   "outputs": [
    {
     "data": {
      "text/plain": [
       "'SpectralClustering'"
      ]
     },
     "metadata": {},
     "output_type": "display_data"
    }
   ],
   "source": [
    "clustering_method_name = method_name\n",
    "display(clustering_method_name)"
   ]
  },
  {
   "cell_type": "markdown",
   "metadata": {
    "papermill": {
     "duration": 0.025631,
     "end_time": "2021-02-22T21:11:53.513737",
     "exception": false,
     "start_time": "2021-02-22T21:11:53.488106",
     "status": "completed"
    },
    "tags": []
   },
   "source": [
    "## Output directory"
   ]
  },
  {
   "cell_type": "code",
   "execution_count": 17,
   "metadata": {
    "execution": {
     "iopub.execute_input": "2021-02-22T21:11:53.570473Z",
     "iopub.status.busy": "2021-02-22T21:11:53.570104Z",
     "iopub.status.idle": "2021-02-22T21:11:53.581890Z",
     "shell.execute_reply": "2021-02-22T21:11:53.581514Z"
    },
    "papermill": {
     "duration": 0.040458,
     "end_time": "2021-02-22T21:11:53.581980",
     "exception": false,
     "start_time": "2021-02-22T21:11:53.541522",
     "status": "completed"
    },
    "tags": []
   },
   "outputs": [
    {
     "data": {
      "text/plain": [
       "PosixPath('/home/miltondp/projects/labs/greenelab/phenoplier/base3/results/clustering/runs/z_score_std-projection-smultixcan-efo_partial-mashr-zscores')"
      ]
     },
     "metadata": {},
     "output_type": "display_data"
    }
   ],
   "source": [
    "# output dir for this notebook\n",
    "RESULTS_DIR = Path(\n",
    "    conf.RESULTS[\"CLUSTERING_RUNS_DIR\"],\n",
    "    f\"{INPUT_SUBSET}-{INPUT_STEM}\",\n",
    ").resolve()\n",
    "RESULTS_DIR.mkdir(parents=True, exist_ok=True)\n",
    "\n",
    "display(RESULTS_DIR)"
   ]
  },
  {
   "cell_type": "markdown",
   "metadata": {
    "papermill": {
     "duration": 0.025689,
     "end_time": "2021-02-22T21:11:53.634092",
     "exception": false,
     "start_time": "2021-02-22T21:11:53.608403",
     "status": "completed"
    },
    "tags": []
   },
   "source": [
    "# Load input file"
   ]
  },
  {
   "cell_type": "code",
   "execution_count": 18,
   "metadata": {
    "execution": {
     "iopub.execute_input": "2021-02-22T21:11:53.687406Z",
     "iopub.status.busy": "2021-02-22T21:11:53.687048Z",
     "iopub.status.idle": "2021-02-22T21:11:53.709906Z",
     "shell.execute_reply": "2021-02-22T21:11:53.709548Z"
    },
    "papermill": {
     "duration": 0.050719,
     "end_time": "2021-02-22T21:11:53.710002",
     "exception": false,
     "start_time": "2021-02-22T21:11:53.659283",
     "status": "completed"
    },
    "tags": []
   },
   "outputs": [],
   "source": [
    "data = pd.read_pickle(input_filepath)"
   ]
  },
  {
   "cell_type": "code",
   "execution_count": 19,
   "metadata": {
    "execution": {
     "iopub.execute_input": "2021-02-22T21:11:53.767158Z",
     "iopub.status.busy": "2021-02-22T21:11:53.766789Z",
     "iopub.status.idle": "2021-02-22T21:11:53.778630Z",
     "shell.execute_reply": "2021-02-22T21:11:53.778266Z"
    },
    "papermill": {
     "duration": 0.040188,
     "end_time": "2021-02-22T21:11:53.778715",
     "exception": false,
     "start_time": "2021-02-22T21:11:53.738527",
     "status": "completed"
    },
    "tags": []
   },
   "outputs": [
    {
     "data": {
      "text/plain": [
       "(3749, 987)"
      ]
     },
     "execution_count": 19,
     "metadata": {},
     "output_type": "execute_result"
    }
   ],
   "source": [
    "data.shape"
   ]
  },
  {
   "cell_type": "code",
   "execution_count": 20,
   "metadata": {
    "execution": {
     "iopub.execute_input": "2021-02-22T21:11:53.833043Z",
     "iopub.status.busy": "2021-02-22T21:11:53.832642Z",
     "iopub.status.idle": "2021-02-22T21:11:53.857605Z",
     "shell.execute_reply": "2021-02-22T21:11:53.857281Z"
    },
    "papermill": {
     "duration": 0.053046,
     "end_time": "2021-02-22T21:11:53.857693",
     "exception": false,
     "start_time": "2021-02-22T21:11:53.804647",
     "status": "completed"
    },
    "tags": []
   },
   "outputs": [
    {
     "data": {
      "text/html": [
       "<div>\n",
       "<style scoped>\n",
       "    .dataframe tbody tr th:only-of-type {\n",
       "        vertical-align: middle;\n",
       "    }\n",
       "\n",
       "    .dataframe tbody tr th {\n",
       "        vertical-align: top;\n",
       "    }\n",
       "\n",
       "    .dataframe thead th {\n",
       "        text-align: right;\n",
       "    }\n",
       "</style>\n",
       "<table border=\"1\" class=\"dataframe\">\n",
       "  <thead>\n",
       "    <tr style=\"text-align: right;\">\n",
       "      <th></th>\n",
       "      <th>LV1</th>\n",
       "      <th>LV2</th>\n",
       "      <th>LV3</th>\n",
       "      <th>LV4</th>\n",
       "      <th>LV5</th>\n",
       "      <th>LV6</th>\n",
       "      <th>LV7</th>\n",
       "      <th>LV8</th>\n",
       "      <th>LV9</th>\n",
       "      <th>LV10</th>\n",
       "      <th>...</th>\n",
       "      <th>LV978</th>\n",
       "      <th>LV979</th>\n",
       "      <th>LV980</th>\n",
       "      <th>LV981</th>\n",
       "      <th>LV982</th>\n",
       "      <th>LV983</th>\n",
       "      <th>LV984</th>\n",
       "      <th>LV985</th>\n",
       "      <th>LV986</th>\n",
       "      <th>LV987</th>\n",
       "    </tr>\n",
       "  </thead>\n",
       "  <tbody>\n",
       "    <tr>\n",
       "      <th>100001_raw-Food_weight</th>\n",
       "      <td>-0.553743</td>\n",
       "      <td>1.851060</td>\n",
       "      <td>-0.095721</td>\n",
       "      <td>0.931603</td>\n",
       "      <td>-0.515196</td>\n",
       "      <td>1.371264</td>\n",
       "      <td>-0.413165</td>\n",
       "      <td>0.729668</td>\n",
       "      <td>0.546338</td>\n",
       "      <td>0.901153</td>\n",
       "      <td>...</td>\n",
       "      <td>1.148776</td>\n",
       "      <td>1.649018</td>\n",
       "      <td>-1.375952</td>\n",
       "      <td>2.203063</td>\n",
       "      <td>0.810199</td>\n",
       "      <td>-0.987048</td>\n",
       "      <td>0.277710</td>\n",
       "      <td>-0.607613</td>\n",
       "      <td>0.572376</td>\n",
       "      <td>-0.660846</td>\n",
       "    </tr>\n",
       "    <tr>\n",
       "      <th>100002_raw-Energy</th>\n",
       "      <td>-1.313905</td>\n",
       "      <td>-0.421015</td>\n",
       "      <td>-0.310524</td>\n",
       "      <td>-0.201978</td>\n",
       "      <td>0.233028</td>\n",
       "      <td>0.693838</td>\n",
       "      <td>0.084129</td>\n",
       "      <td>0.572439</td>\n",
       "      <td>0.217866</td>\n",
       "      <td>1.296973</td>\n",
       "      <td>...</td>\n",
       "      <td>0.165430</td>\n",
       "      <td>0.799276</td>\n",
       "      <td>-0.361989</td>\n",
       "      <td>-0.008253</td>\n",
       "      <td>2.063780</td>\n",
       "      <td>-0.930765</td>\n",
       "      <td>-0.147007</td>\n",
       "      <td>1.601938</td>\n",
       "      <td>-0.273553</td>\n",
       "      <td>-0.560822</td>\n",
       "    </tr>\n",
       "    <tr>\n",
       "      <th>100003_raw-Protein</th>\n",
       "      <td>-0.645622</td>\n",
       "      <td>-0.997845</td>\n",
       "      <td>0.249039</td>\n",
       "      <td>0.256499</td>\n",
       "      <td>0.422357</td>\n",
       "      <td>0.829189</td>\n",
       "      <td>-0.169004</td>\n",
       "      <td>0.511550</td>\n",
       "      <td>0.002389</td>\n",
       "      <td>-0.057200</td>\n",
       "      <td>...</td>\n",
       "      <td>1.016791</td>\n",
       "      <td>1.019488</td>\n",
       "      <td>-2.148844</td>\n",
       "      <td>-0.065130</td>\n",
       "      <td>0.041052</td>\n",
       "      <td>-0.836118</td>\n",
       "      <td>-0.320571</td>\n",
       "      <td>1.325519</td>\n",
       "      <td>-0.341494</td>\n",
       "      <td>-0.495786</td>\n",
       "    </tr>\n",
       "    <tr>\n",
       "      <th>100004_raw-Fat</th>\n",
       "      <td>-0.913924</td>\n",
       "      <td>-1.837183</td>\n",
       "      <td>0.012095</td>\n",
       "      <td>-1.301315</td>\n",
       "      <td>0.205794</td>\n",
       "      <td>1.129114</td>\n",
       "      <td>0.019985</td>\n",
       "      <td>0.376660</td>\n",
       "      <td>-0.810272</td>\n",
       "      <td>0.843611</td>\n",
       "      <td>...</td>\n",
       "      <td>0.544266</td>\n",
       "      <td>0.576714</td>\n",
       "      <td>0.281731</td>\n",
       "      <td>-0.218963</td>\n",
       "      <td>1.258957</td>\n",
       "      <td>-1.131924</td>\n",
       "      <td>0.378545</td>\n",
       "      <td>0.842047</td>\n",
       "      <td>-0.622194</td>\n",
       "      <td>-0.160058</td>\n",
       "    </tr>\n",
       "    <tr>\n",
       "      <th>100005_raw-Carbohydrate</th>\n",
       "      <td>-0.523004</td>\n",
       "      <td>0.131379</td>\n",
       "      <td>-0.097802</td>\n",
       "      <td>-0.030526</td>\n",
       "      <td>-0.021500</td>\n",
       "      <td>-0.219116</td>\n",
       "      <td>0.668229</td>\n",
       "      <td>0.365700</td>\n",
       "      <td>1.102347</td>\n",
       "      <td>0.845625</td>\n",
       "      <td>...</td>\n",
       "      <td>-0.344740</td>\n",
       "      <td>0.079274</td>\n",
       "      <td>0.253427</td>\n",
       "      <td>0.236474</td>\n",
       "      <td>1.033895</td>\n",
       "      <td>-0.229105</td>\n",
       "      <td>0.364793</td>\n",
       "      <td>1.776714</td>\n",
       "      <td>0.190531</td>\n",
       "      <td>-1.459641</td>\n",
       "    </tr>\n",
       "  </tbody>\n",
       "</table>\n",
       "<p>5 rows × 987 columns</p>\n",
       "</div>"
      ],
      "text/plain": [
       "                              LV1       LV2       LV3       LV4       LV5  \\\n",
       "100001_raw-Food_weight  -0.553743  1.851060 -0.095721  0.931603 -0.515196   \n",
       "100002_raw-Energy       -1.313905 -0.421015 -0.310524 -0.201978  0.233028   \n",
       "100003_raw-Protein      -0.645622 -0.997845  0.249039  0.256499  0.422357   \n",
       "100004_raw-Fat          -0.913924 -1.837183  0.012095 -1.301315  0.205794   \n",
       "100005_raw-Carbohydrate -0.523004  0.131379 -0.097802 -0.030526 -0.021500   \n",
       "\n",
       "                              LV6       LV7       LV8       LV9      LV10  \\\n",
       "100001_raw-Food_weight   1.371264 -0.413165  0.729668  0.546338  0.901153   \n",
       "100002_raw-Energy        0.693838  0.084129  0.572439  0.217866  1.296973   \n",
       "100003_raw-Protein       0.829189 -0.169004  0.511550  0.002389 -0.057200   \n",
       "100004_raw-Fat           1.129114  0.019985  0.376660 -0.810272  0.843611   \n",
       "100005_raw-Carbohydrate -0.219116  0.668229  0.365700  1.102347  0.845625   \n",
       "\n",
       "                         ...     LV978     LV979     LV980     LV981  \\\n",
       "100001_raw-Food_weight   ...  1.148776  1.649018 -1.375952  2.203063   \n",
       "100002_raw-Energy        ...  0.165430  0.799276 -0.361989 -0.008253   \n",
       "100003_raw-Protein       ...  1.016791  1.019488 -2.148844 -0.065130   \n",
       "100004_raw-Fat           ...  0.544266  0.576714  0.281731 -0.218963   \n",
       "100005_raw-Carbohydrate  ... -0.344740  0.079274  0.253427  0.236474   \n",
       "\n",
       "                            LV982     LV983     LV984     LV985     LV986  \\\n",
       "100001_raw-Food_weight   0.810199 -0.987048  0.277710 -0.607613  0.572376   \n",
       "100002_raw-Energy        2.063780 -0.930765 -0.147007  1.601938 -0.273553   \n",
       "100003_raw-Protein       0.041052 -0.836118 -0.320571  1.325519 -0.341494   \n",
       "100004_raw-Fat           1.258957 -1.131924  0.378545  0.842047 -0.622194   \n",
       "100005_raw-Carbohydrate  1.033895 -0.229105  0.364793  1.776714  0.190531   \n",
       "\n",
       "                            LV987  \n",
       "100001_raw-Food_weight  -0.660846  \n",
       "100002_raw-Energy       -0.560822  \n",
       "100003_raw-Protein      -0.495786  \n",
       "100004_raw-Fat          -0.160058  \n",
       "100005_raw-Carbohydrate -1.459641  \n",
       "\n",
       "[5 rows x 987 columns]"
      ]
     },
     "execution_count": 20,
     "metadata": {},
     "output_type": "execute_result"
    }
   ],
   "source": [
    "data.head()"
   ]
  },
  {
   "cell_type": "code",
   "execution_count": 21,
   "metadata": {
    "execution": {
     "iopub.execute_input": "2021-02-22T21:11:53.914306Z",
     "iopub.status.busy": "2021-02-22T21:11:53.913944Z",
     "iopub.status.idle": "2021-02-22T21:11:53.929368Z",
     "shell.execute_reply": "2021-02-22T21:11:53.929668Z"
    },
    "papermill": {
     "duration": 0.044568,
     "end_time": "2021-02-22T21:11:53.929784",
     "exception": false,
     "start_time": "2021-02-22T21:11:53.885216",
     "status": "completed"
    },
    "tags": []
   },
   "outputs": [],
   "source": [
    "assert not data.isna().any().any()"
   ]
  },
  {
   "cell_type": "markdown",
   "metadata": {
    "papermill": {
     "duration": 0.026125,
     "end_time": "2021-02-22T21:11:53.983246",
     "exception": false,
     "start_time": "2021-02-22T21:11:53.957121",
     "status": "completed"
    },
    "tags": []
   },
   "source": [
    "# Clustering"
   ]
  },
  {
   "cell_type": "markdown",
   "metadata": {
    "papermill": {
     "duration": 0.025846,
     "end_time": "2021-02-22T21:11:54.035301",
     "exception": false,
     "start_time": "2021-02-22T21:11:54.009455",
     "status": "completed"
    },
    "tags": []
   },
   "source": [
    "## Generate ensemble"
   ]
  },
  {
   "cell_type": "code",
   "execution_count": 22,
   "metadata": {
    "execution": {
     "iopub.execute_input": "2021-02-22T21:11:54.089823Z",
     "iopub.status.busy": "2021-02-22T21:11:54.089463Z",
     "iopub.status.idle": "2021-02-22T21:11:54.103201Z",
     "shell.execute_reply": "2021-02-22T21:11:54.102803Z"
    },
    "papermill": {
     "duration": 0.042001,
     "end_time": "2021-02-22T21:11:54.103292",
     "exception": false,
     "start_time": "2021-02-22T21:11:54.061291",
     "status": "completed"
    },
    "tags": []
   },
   "outputs": [],
   "source": [
    "from clustering.ensembles.utils import generate_ensemble"
   ]
  },
  {
   "cell_type": "code",
   "execution_count": 23,
   "metadata": {
    "execution": {
     "iopub.execute_input": "2021-02-22T21:11:54.159504Z",
     "iopub.status.busy": "2021-02-22T21:11:54.159139Z",
     "iopub.status.idle": "2021-02-22T21:25:01.669090Z",
     "shell.execute_reply": "2021-02-22T21:25:01.668709Z"
    },
    "papermill": {
     "duration": 787.538759,
     "end_time": "2021-02-22T21:25:01.669189",
     "exception": false,
     "start_time": "2021-02-22T21:11:54.130430",
     "status": "completed"
    },
    "tags": []
   },
   "outputs": [
    {
     "name": "stderr",
     "output_type": "stream",
     "text": [
      "\r",
      "  0%|          | 0/295 [00:00<?, ?it/s]"
     ]
    },
    {
     "name": "stderr",
     "output_type": "stream",
     "text": [
      "\r",
      "  0%|          | 1/295 [00:01<06:37,  1.35s/it]"
     ]
    },
    {
     "name": "stderr",
     "output_type": "stream",
     "text": [
      "\r",
      "  1%|          | 2/295 [00:02<06:36,  1.35s/it]"
     ]
    },
    {
     "name": "stderr",
     "output_type": "stream",
     "text": [
      "\r",
      "  1%|          | 3/295 [00:04<06:34,  1.35s/it]"
     ]
    },
    {
     "name": "stderr",
     "output_type": "stream",
     "text": [
      "\r",
      "  1%|▏         | 4/295 [00:05<06:32,  1.35s/it]"
     ]
    },
    {
     "name": "stderr",
     "output_type": "stream",
     "text": [
      "\r",
      "  2%|▏         | 5/295 [00:06<06:30,  1.35s/it]"
     ]
    },
    {
     "name": "stderr",
     "output_type": "stream",
     "text": [
      "\r",
      "  2%|▏         | 6/295 [00:08<06:29,  1.35s/it]"
     ]
    },
    {
     "name": "stderr",
     "output_type": "stream",
     "text": [
      "\r",
      "  2%|▏         | 7/295 [00:09<06:28,  1.35s/it]"
     ]
    },
    {
     "name": "stderr",
     "output_type": "stream",
     "text": [
      "\r",
      "  3%|▎         | 8/295 [00:10<06:27,  1.35s/it]"
     ]
    },
    {
     "name": "stderr",
     "output_type": "stream",
     "text": [
      "\r",
      "  3%|▎         | 9/295 [00:12<06:25,  1.35s/it]"
     ]
    },
    {
     "name": "stderr",
     "output_type": "stream",
     "text": [
      "\r",
      "  3%|▎         | 10/295 [00:13<06:24,  1.35s/it]"
     ]
    },
    {
     "name": "stderr",
     "output_type": "stream",
     "text": [
      "\r",
      "  4%|▎         | 11/295 [00:14<06:31,  1.38s/it]"
     ]
    },
    {
     "name": "stderr",
     "output_type": "stream",
     "text": [
      "\r",
      "  4%|▍         | 12/295 [00:16<06:34,  1.39s/it]"
     ]
    },
    {
     "name": "stderr",
     "output_type": "stream",
     "text": [
      "\r",
      "  4%|▍         | 13/295 [00:17<06:37,  1.41s/it]"
     ]
    },
    {
     "name": "stderr",
     "output_type": "stream",
     "text": [
      "\r",
      "  5%|▍         | 14/295 [00:19<06:38,  1.42s/it]"
     ]
    },
    {
     "name": "stderr",
     "output_type": "stream",
     "text": [
      "\r",
      "  5%|▌         | 15/295 [00:20<06:38,  1.42s/it]"
     ]
    },
    {
     "name": "stderr",
     "output_type": "stream",
     "text": [
      "\r",
      "  5%|▌         | 16/295 [00:22<06:39,  1.43s/it]"
     ]
    },
    {
     "name": "stderr",
     "output_type": "stream",
     "text": [
      "\r",
      "  6%|▌         | 17/295 [00:23<06:39,  1.44s/it]"
     ]
    },
    {
     "name": "stderr",
     "output_type": "stream",
     "text": [
      "\r",
      "  6%|▌         | 18/295 [00:25<06:37,  1.44s/it]"
     ]
    },
    {
     "name": "stderr",
     "output_type": "stream",
     "text": [
      "\r",
      "  6%|▋         | 19/295 [00:26<06:35,  1.43s/it]"
     ]
    },
    {
     "name": "stderr",
     "output_type": "stream",
     "text": [
      "\r",
      "  7%|▋         | 20/295 [00:27<06:35,  1.44s/it]"
     ]
    },
    {
     "name": "stderr",
     "output_type": "stream",
     "text": [
      "\r",
      "  7%|▋         | 21/295 [00:29<06:34,  1.44s/it]"
     ]
    },
    {
     "name": "stderr",
     "output_type": "stream",
     "text": [
      "\r",
      "  7%|▋         | 22/295 [00:30<06:33,  1.44s/it]"
     ]
    },
    {
     "name": "stderr",
     "output_type": "stream",
     "text": [
      "\r",
      "  8%|▊         | 23/295 [00:32<06:32,  1.44s/it]"
     ]
    },
    {
     "name": "stderr",
     "output_type": "stream",
     "text": [
      "\r",
      "  8%|▊         | 24/295 [00:33<06:31,  1.44s/it]"
     ]
    },
    {
     "name": "stderr",
     "output_type": "stream",
     "text": [
      "\r",
      "  8%|▊         | 25/295 [00:35<06:30,  1.45s/it]"
     ]
    },
    {
     "name": "stderr",
     "output_type": "stream",
     "text": [
      "\r",
      "  9%|▉         | 26/295 [00:36<06:32,  1.46s/it]"
     ]
    },
    {
     "name": "stderr",
     "output_type": "stream",
     "text": [
      "\r",
      "  9%|▉         | 27/295 [00:38<06:29,  1.45s/it]"
     ]
    },
    {
     "name": "stderr",
     "output_type": "stream",
     "text": [
      "\r",
      "  9%|▉         | 28/295 [00:39<06:30,  1.46s/it]"
     ]
    },
    {
     "name": "stderr",
     "output_type": "stream",
     "text": [
      "\r",
      " 10%|▉         | 29/295 [00:41<06:30,  1.47s/it]"
     ]
    },
    {
     "name": "stderr",
     "output_type": "stream",
     "text": [
      "\r",
      " 10%|█         | 30/295 [00:42<06:30,  1.47s/it]"
     ]
    },
    {
     "name": "stderr",
     "output_type": "stream",
     "text": [
      "\r",
      " 11%|█         | 31/295 [00:43<06:30,  1.48s/it]"
     ]
    },
    {
     "name": "stderr",
     "output_type": "stream",
     "text": [
      "\r",
      " 11%|█         | 32/295 [00:45<06:28,  1.48s/it]"
     ]
    },
    {
     "name": "stderr",
     "output_type": "stream",
     "text": [
      "\r",
      " 11%|█         | 33/295 [00:46<06:26,  1.48s/it]"
     ]
    },
    {
     "name": "stderr",
     "output_type": "stream",
     "text": [
      "\r",
      " 12%|█▏        | 34/295 [00:48<06:25,  1.48s/it]"
     ]
    },
    {
     "name": "stderr",
     "output_type": "stream",
     "text": [
      "\r",
      " 12%|█▏        | 35/295 [00:49<06:28,  1.50s/it]"
     ]
    },
    {
     "name": "stderr",
     "output_type": "stream",
     "text": [
      "\r",
      " 12%|█▏        | 36/295 [00:51<06:32,  1.52s/it]"
     ]
    },
    {
     "name": "stderr",
     "output_type": "stream",
     "text": [
      "\r",
      " 13%|█▎        | 37/295 [00:53<06:34,  1.53s/it]"
     ]
    },
    {
     "name": "stderr",
     "output_type": "stream",
     "text": [
      "\r",
      " 13%|█▎        | 38/295 [00:54<06:37,  1.55s/it]"
     ]
    },
    {
     "name": "stderr",
     "output_type": "stream",
     "text": [
      "\r",
      " 13%|█▎        | 39/295 [00:56<06:36,  1.55s/it]"
     ]
    },
    {
     "name": "stderr",
     "output_type": "stream",
     "text": [
      "\r",
      " 14%|█▎        | 40/295 [00:57<06:37,  1.56s/it]"
     ]
    },
    {
     "name": "stderr",
     "output_type": "stream",
     "text": [
      "\r",
      " 14%|█▍        | 41/295 [00:59<06:38,  1.57s/it]"
     ]
    },
    {
     "name": "stderr",
     "output_type": "stream",
     "text": [
      "\r",
      " 14%|█▍        | 42/295 [01:00<06:39,  1.58s/it]"
     ]
    },
    {
     "name": "stderr",
     "output_type": "stream",
     "text": [
      "\r",
      " 15%|█▍        | 43/295 [01:02<06:39,  1.59s/it]"
     ]
    },
    {
     "name": "stderr",
     "output_type": "stream",
     "text": [
      "\r",
      " 15%|█▍        | 44/295 [01:04<06:42,  1.60s/it]"
     ]
    },
    {
     "name": "stderr",
     "output_type": "stream",
     "text": [
      "\r",
      " 15%|█▌        | 45/295 [01:05<06:40,  1.60s/it]"
     ]
    },
    {
     "name": "stderr",
     "output_type": "stream",
     "text": [
      "\r",
      " 16%|█▌        | 46/295 [01:07<06:41,  1.61s/it]"
     ]
    },
    {
     "name": "stderr",
     "output_type": "stream",
     "text": [
      "\r",
      " 16%|█▌        | 47/295 [01:09<06:43,  1.63s/it]"
     ]
    },
    {
     "name": "stderr",
     "output_type": "stream",
     "text": [
      "\r",
      " 16%|█▋        | 48/295 [01:10<06:44,  1.64s/it]"
     ]
    },
    {
     "name": "stderr",
     "output_type": "stream",
     "text": [
      "\r",
      " 17%|█▋        | 49/295 [01:12<06:43,  1.64s/it]"
     ]
    },
    {
     "name": "stderr",
     "output_type": "stream",
     "text": [
      "\r",
      " 17%|█▋        | 50/295 [01:14<06:44,  1.65s/it]"
     ]
    },
    {
     "name": "stderr",
     "output_type": "stream",
     "text": [
      "\r",
      " 17%|█▋        | 51/295 [01:15<06:45,  1.66s/it]"
     ]
    },
    {
     "name": "stderr",
     "output_type": "stream",
     "text": [
      "\r",
      " 18%|█▊        | 52/295 [01:17<06:45,  1.67s/it]"
     ]
    },
    {
     "name": "stderr",
     "output_type": "stream",
     "text": [
      "\r",
      " 18%|█▊        | 53/295 [01:19<06:43,  1.67s/it]"
     ]
    },
    {
     "name": "stderr",
     "output_type": "stream",
     "text": [
      "\r",
      " 18%|█▊        | 54/295 [01:20<06:43,  1.67s/it]"
     ]
    },
    {
     "name": "stderr",
     "output_type": "stream",
     "text": [
      "\r",
      " 19%|█▊        | 55/295 [01:22<06:44,  1.68s/it]"
     ]
    },
    {
     "name": "stderr",
     "output_type": "stream",
     "text": [
      "\r",
      " 19%|█▉        | 56/295 [01:24<06:42,  1.68s/it]"
     ]
    },
    {
     "name": "stderr",
     "output_type": "stream",
     "text": [
      "\r",
      " 19%|█▉        | 57/295 [01:25<06:39,  1.68s/it]"
     ]
    },
    {
     "name": "stderr",
     "output_type": "stream",
     "text": [
      "\r",
      " 20%|█▉        | 58/295 [01:27<06:38,  1.68s/it]"
     ]
    },
    {
     "name": "stderr",
     "output_type": "stream",
     "text": [
      "\r",
      " 20%|██        | 59/295 [01:29<06:37,  1.69s/it]"
     ]
    },
    {
     "name": "stderr",
     "output_type": "stream",
     "text": [
      "\r",
      " 20%|██        | 60/295 [01:30<06:36,  1.69s/it]"
     ]
    },
    {
     "name": "stderr",
     "output_type": "stream",
     "text": [
      "\r",
      " 21%|██        | 61/295 [01:32<06:38,  1.70s/it]"
     ]
    },
    {
     "name": "stderr",
     "output_type": "stream",
     "text": [
      "\r",
      " 21%|██        | 62/295 [01:34<06:36,  1.70s/it]"
     ]
    },
    {
     "name": "stderr",
     "output_type": "stream",
     "text": [
      "\r",
      " 21%|██▏       | 63/295 [01:36<06:41,  1.73s/it]"
     ]
    },
    {
     "name": "stderr",
     "output_type": "stream",
     "text": [
      "\r",
      " 22%|██▏       | 64/295 [01:37<06:39,  1.73s/it]"
     ]
    },
    {
     "name": "stderr",
     "output_type": "stream",
     "text": [
      "\r",
      " 22%|██▏       | 65/295 [01:39<06:38,  1.73s/it]"
     ]
    },
    {
     "name": "stderr",
     "output_type": "stream",
     "text": [
      "\r",
      " 22%|██▏       | 66/295 [01:41<06:39,  1.75s/it]"
     ]
    },
    {
     "name": "stderr",
     "output_type": "stream",
     "text": [
      "\r",
      " 23%|██▎       | 67/295 [01:43<06:38,  1.75s/it]"
     ]
    },
    {
     "name": "stderr",
     "output_type": "stream",
     "text": [
      "\r",
      " 23%|██▎       | 68/295 [01:44<06:36,  1.75s/it]"
     ]
    },
    {
     "name": "stderr",
     "output_type": "stream",
     "text": [
      "\r",
      " 23%|██▎       | 69/295 [01:46<06:37,  1.76s/it]"
     ]
    },
    {
     "name": "stderr",
     "output_type": "stream",
     "text": [
      "\r",
      " 24%|██▎       | 70/295 [01:48<06:37,  1.77s/it]"
     ]
    },
    {
     "name": "stderr",
     "output_type": "stream",
     "text": [
      "\r",
      " 24%|██▍       | 71/295 [01:50<06:34,  1.76s/it]"
     ]
    },
    {
     "name": "stderr",
     "output_type": "stream",
     "text": [
      "\r",
      " 24%|██▍       | 72/295 [01:52<06:34,  1.77s/it]"
     ]
    },
    {
     "name": "stderr",
     "output_type": "stream",
     "text": [
      "\r",
      " 25%|██▍       | 73/295 [01:53<06:32,  1.77s/it]"
     ]
    },
    {
     "name": "stderr",
     "output_type": "stream",
     "text": [
      "\r",
      " 25%|██▌       | 74/295 [01:55<06:33,  1.78s/it]"
     ]
    },
    {
     "name": "stderr",
     "output_type": "stream",
     "text": [
      "\r",
      " 25%|██▌       | 75/295 [01:57<06:31,  1.78s/it]"
     ]
    },
    {
     "name": "stderr",
     "output_type": "stream",
     "text": [
      "\r",
      " 26%|██▌       | 76/295 [01:59<06:31,  1.79s/it]"
     ]
    },
    {
     "name": "stderr",
     "output_type": "stream",
     "text": [
      "\r",
      " 26%|██▌       | 77/295 [02:00<06:28,  1.78s/it]"
     ]
    },
    {
     "name": "stderr",
     "output_type": "stream",
     "text": [
      "\r",
      " 26%|██▋       | 78/295 [02:02<06:30,  1.80s/it]"
     ]
    },
    {
     "name": "stderr",
     "output_type": "stream",
     "text": [
      "\r",
      " 27%|██▋       | 79/295 [02:04<06:28,  1.80s/it]"
     ]
    },
    {
     "name": "stderr",
     "output_type": "stream",
     "text": [
      "\r",
      " 27%|██▋       | 80/295 [02:06<06:25,  1.79s/it]"
     ]
    },
    {
     "name": "stderr",
     "output_type": "stream",
     "text": [
      "\r",
      " 27%|██▋       | 81/295 [02:08<06:25,  1.80s/it]"
     ]
    },
    {
     "name": "stderr",
     "output_type": "stream",
     "text": [
      "\r",
      " 28%|██▊       | 82/295 [02:10<06:24,  1.81s/it]"
     ]
    },
    {
     "name": "stderr",
     "output_type": "stream",
     "text": [
      "\r",
      " 28%|██▊       | 83/295 [02:11<06:24,  1.81s/it]"
     ]
    },
    {
     "name": "stderr",
     "output_type": "stream",
     "text": [
      "\r",
      " 28%|██▊       | 84/295 [02:13<06:23,  1.82s/it]"
     ]
    },
    {
     "name": "stderr",
     "output_type": "stream",
     "text": [
      "\r",
      " 29%|██▉       | 85/295 [02:15<06:21,  1.82s/it]"
     ]
    },
    {
     "name": "stderr",
     "output_type": "stream",
     "text": [
      "\r",
      " 29%|██▉       | 86/295 [02:17<06:23,  1.83s/it]"
     ]
    },
    {
     "name": "stderr",
     "output_type": "stream",
     "text": [
      "\r",
      " 29%|██▉       | 87/295 [02:19<06:22,  1.84s/it]"
     ]
    },
    {
     "name": "stderr",
     "output_type": "stream",
     "text": [
      "\r",
      " 30%|██▉       | 88/295 [02:21<06:21,  1.84s/it]"
     ]
    },
    {
     "name": "stderr",
     "output_type": "stream",
     "text": [
      "\r",
      " 30%|███       | 89/295 [02:22<06:22,  1.86s/it]"
     ]
    },
    {
     "name": "stderr",
     "output_type": "stream",
     "text": [
      "\r",
      " 31%|███       | 90/295 [02:24<06:21,  1.86s/it]"
     ]
    },
    {
     "name": "stderr",
     "output_type": "stream",
     "text": [
      "\r",
      " 31%|███       | 91/295 [02:26<06:20,  1.87s/it]"
     ]
    },
    {
     "name": "stderr",
     "output_type": "stream",
     "text": [
      "\r",
      " 31%|███       | 92/295 [02:28<06:21,  1.88s/it]"
     ]
    },
    {
     "name": "stderr",
     "output_type": "stream",
     "text": [
      "\r",
      " 32%|███▏      | 93/295 [02:30<06:20,  1.88s/it]"
     ]
    },
    {
     "name": "stderr",
     "output_type": "stream",
     "text": [
      "\r",
      " 32%|███▏      | 94/295 [02:32<06:22,  1.90s/it]"
     ]
    },
    {
     "name": "stderr",
     "output_type": "stream",
     "text": [
      "\r",
      " 32%|███▏      | 95/295 [02:34<06:19,  1.90s/it]"
     ]
    },
    {
     "name": "stderr",
     "output_type": "stream",
     "text": [
      "\r",
      " 33%|███▎      | 96/295 [02:36<06:28,  1.95s/it]"
     ]
    },
    {
     "name": "stderr",
     "output_type": "stream",
     "text": [
      "\r",
      " 33%|███▎      | 97/295 [02:38<06:27,  1.96s/it]"
     ]
    },
    {
     "name": "stderr",
     "output_type": "stream",
     "text": [
      "\r",
      " 33%|███▎      | 98/295 [02:40<06:26,  1.96s/it]"
     ]
    },
    {
     "name": "stderr",
     "output_type": "stream",
     "text": [
      "\r",
      " 34%|███▎      | 99/295 [02:42<06:24,  1.96s/it]"
     ]
    },
    {
     "name": "stderr",
     "output_type": "stream",
     "text": [
      "\r",
      " 34%|███▍      | 100/295 [02:44<06:21,  1.95s/it]"
     ]
    },
    {
     "name": "stderr",
     "output_type": "stream",
     "text": [
      "\r",
      " 34%|███▍      | 101/295 [02:46<06:24,  1.98s/it]"
     ]
    },
    {
     "name": "stderr",
     "output_type": "stream",
     "text": [
      "\r",
      " 35%|███▍      | 102/295 [02:48<06:27,  2.01s/it]"
     ]
    },
    {
     "name": "stderr",
     "output_type": "stream",
     "text": [
      "\r",
      " 35%|███▍      | 103/295 [02:50<06:29,  2.03s/it]"
     ]
    },
    {
     "name": "stderr",
     "output_type": "stream",
     "text": [
      "\r",
      " 35%|███▌      | 104/295 [02:52<06:30,  2.05s/it]"
     ]
    },
    {
     "name": "stderr",
     "output_type": "stream",
     "text": [
      "\r",
      " 36%|███▌      | 105/295 [02:54<06:30,  2.06s/it]"
     ]
    },
    {
     "name": "stderr",
     "output_type": "stream",
     "text": [
      "\r",
      " 36%|███▌      | 106/295 [02:56<06:34,  2.09s/it]"
     ]
    },
    {
     "name": "stderr",
     "output_type": "stream",
     "text": [
      "\r",
      " 36%|███▋      | 107/295 [02:58<06:35,  2.10s/it]"
     ]
    },
    {
     "name": "stderr",
     "output_type": "stream",
     "text": [
      "\r",
      " 37%|███▋      | 108/295 [03:01<06:36,  2.12s/it]"
     ]
    },
    {
     "name": "stderr",
     "output_type": "stream",
     "text": [
      "\r",
      " 37%|███▋      | 109/295 [03:03<06:36,  2.13s/it]"
     ]
    },
    {
     "name": "stderr",
     "output_type": "stream",
     "text": [
      "\r",
      " 37%|███▋      | 110/295 [03:05<06:37,  2.15s/it]"
     ]
    },
    {
     "name": "stderr",
     "output_type": "stream",
     "text": [
      "\r",
      " 38%|███▊      | 111/295 [03:07<06:42,  2.19s/it]"
     ]
    },
    {
     "name": "stderr",
     "output_type": "stream",
     "text": [
      "\r",
      " 38%|███▊      | 112/295 [03:09<06:42,  2.20s/it]"
     ]
    },
    {
     "name": "stderr",
     "output_type": "stream",
     "text": [
      "\r",
      " 38%|███▊      | 113/295 [03:12<06:43,  2.22s/it]"
     ]
    },
    {
     "name": "stderr",
     "output_type": "stream",
     "text": [
      "\r",
      " 39%|███▊      | 114/295 [03:14<06:41,  2.22s/it]"
     ]
    },
    {
     "name": "stderr",
     "output_type": "stream",
     "text": [
      "\r",
      " 39%|███▉      | 115/295 [03:16<06:39,  2.22s/it]"
     ]
    },
    {
     "name": "stderr",
     "output_type": "stream",
     "text": [
      "\r",
      " 39%|███▉      | 116/295 [03:18<06:39,  2.23s/it]"
     ]
    },
    {
     "name": "stderr",
     "output_type": "stream",
     "text": [
      "\r",
      " 40%|███▉      | 117/295 [03:21<06:43,  2.27s/it]"
     ]
    },
    {
     "name": "stderr",
     "output_type": "stream",
     "text": [
      "\r",
      " 40%|████      | 118/295 [03:23<06:46,  2.30s/it]"
     ]
    },
    {
     "name": "stderr",
     "output_type": "stream",
     "text": [
      "\r",
      " 40%|████      | 119/295 [03:25<06:42,  2.29s/it]"
     ]
    },
    {
     "name": "stderr",
     "output_type": "stream",
     "text": [
      "\r",
      " 41%|████      | 120/295 [03:28<06:37,  2.27s/it]"
     ]
    },
    {
     "name": "stderr",
     "output_type": "stream",
     "text": [
      "\r",
      " 41%|████      | 121/295 [03:30<06:43,  2.32s/it]"
     ]
    },
    {
     "name": "stderr",
     "output_type": "stream",
     "text": [
      "\r",
      " 41%|████▏     | 122/295 [03:32<06:41,  2.32s/it]"
     ]
    },
    {
     "name": "stderr",
     "output_type": "stream",
     "text": [
      "\r",
      " 42%|████▏     | 123/295 [03:35<06:38,  2.32s/it]"
     ]
    },
    {
     "name": "stderr",
     "output_type": "stream",
     "text": [
      "\r",
      " 42%|████▏     | 124/295 [03:37<06:37,  2.33s/it]"
     ]
    },
    {
     "name": "stderr",
     "output_type": "stream",
     "text": [
      "\r",
      " 42%|████▏     | 125/295 [03:39<06:38,  2.34s/it]"
     ]
    },
    {
     "name": "stderr",
     "output_type": "stream",
     "text": [
      "\r",
      " 43%|████▎     | 126/295 [03:42<06:40,  2.37s/it]"
     ]
    },
    {
     "name": "stderr",
     "output_type": "stream",
     "text": [
      "\r",
      " 43%|████▎     | 127/295 [03:44<06:38,  2.37s/it]"
     ]
    },
    {
     "name": "stderr",
     "output_type": "stream",
     "text": [
      "\r",
      " 43%|████▎     | 128/295 [03:47<06:41,  2.40s/it]"
     ]
    },
    {
     "name": "stderr",
     "output_type": "stream",
     "text": [
      "\r",
      " 44%|████▎     | 129/295 [03:49<06:40,  2.41s/it]"
     ]
    },
    {
     "name": "stderr",
     "output_type": "stream",
     "text": [
      "\r",
      " 44%|████▍     | 130/295 [03:52<06:40,  2.43s/it]"
     ]
    },
    {
     "name": "stderr",
     "output_type": "stream",
     "text": [
      "\r",
      " 44%|████▍     | 131/295 [03:54<06:38,  2.43s/it]"
     ]
    },
    {
     "name": "stderr",
     "output_type": "stream",
     "text": [
      "\r",
      " 45%|████▍     | 132/295 [03:56<06:33,  2.42s/it]"
     ]
    },
    {
     "name": "stderr",
     "output_type": "stream",
     "text": [
      "\r",
      " 45%|████▌     | 133/295 [03:59<06:33,  2.43s/it]"
     ]
    },
    {
     "name": "stderr",
     "output_type": "stream",
     "text": [
      "\r",
      " 45%|████▌     | 134/295 [04:01<06:34,  2.45s/it]"
     ]
    },
    {
     "name": "stderr",
     "output_type": "stream",
     "text": [
      "\r",
      " 46%|████▌     | 135/295 [04:04<06:30,  2.44s/it]"
     ]
    },
    {
     "name": "stderr",
     "output_type": "stream",
     "text": [
      "\r",
      " 46%|████▌     | 136/295 [04:06<06:32,  2.47s/it]"
     ]
    },
    {
     "name": "stderr",
     "output_type": "stream",
     "text": [
      "\r",
      " 46%|████▋     | 137/295 [04:09<06:34,  2.50s/it]"
     ]
    },
    {
     "name": "stderr",
     "output_type": "stream",
     "text": [
      "\r",
      " 47%|████▋     | 138/295 [04:12<06:37,  2.53s/it]"
     ]
    },
    {
     "name": "stderr",
     "output_type": "stream",
     "text": [
      "\r",
      " 47%|████▋     | 139/295 [04:14<06:37,  2.55s/it]"
     ]
    },
    {
     "name": "stderr",
     "output_type": "stream",
     "text": [
      "\r",
      " 47%|████▋     | 140/295 [04:17<06:36,  2.56s/it]"
     ]
    },
    {
     "name": "stderr",
     "output_type": "stream",
     "text": [
      "\r",
      " 48%|████▊     | 141/295 [04:19<06:32,  2.55s/it]"
     ]
    },
    {
     "name": "stderr",
     "output_type": "stream",
     "text": [
      "\r",
      " 48%|████▊     | 142/295 [04:22<06:28,  2.54s/it]"
     ]
    },
    {
     "name": "stderr",
     "output_type": "stream",
     "text": [
      "\r",
      " 48%|████▊     | 143/295 [04:24<06:28,  2.55s/it]"
     ]
    },
    {
     "name": "stderr",
     "output_type": "stream",
     "text": [
      "\r",
      " 49%|████▉     | 144/295 [04:27<06:29,  2.58s/it]"
     ]
    },
    {
     "name": "stderr",
     "output_type": "stream",
     "text": [
      "\r",
      " 49%|████▉     | 145/295 [04:30<06:25,  2.57s/it]"
     ]
    },
    {
     "name": "stderr",
     "output_type": "stream",
     "text": [
      "\r",
      " 49%|████▉     | 146/295 [04:32<06:22,  2.57s/it]"
     ]
    },
    {
     "name": "stderr",
     "output_type": "stream",
     "text": [
      "\r",
      " 50%|████▉     | 147/295 [04:35<06:21,  2.58s/it]"
     ]
    },
    {
     "name": "stderr",
     "output_type": "stream",
     "text": [
      "\r",
      " 50%|█████     | 148/295 [04:37<06:24,  2.62s/it]"
     ]
    },
    {
     "name": "stderr",
     "output_type": "stream",
     "text": [
      "\r",
      " 51%|█████     | 149/295 [04:40<06:21,  2.61s/it]"
     ]
    },
    {
     "name": "stderr",
     "output_type": "stream",
     "text": [
      "\r",
      " 51%|█████     | 150/295 [04:43<06:22,  2.64s/it]"
     ]
    },
    {
     "name": "stderr",
     "output_type": "stream",
     "text": [
      "\r",
      " 51%|█████     | 151/295 [04:45<06:19,  2.64s/it]"
     ]
    },
    {
     "name": "stderr",
     "output_type": "stream",
     "text": [
      "\r",
      " 52%|█████▏    | 152/295 [04:48<06:19,  2.65s/it]"
     ]
    },
    {
     "name": "stderr",
     "output_type": "stream",
     "text": [
      "\r",
      " 52%|█████▏    | 153/295 [04:51<06:15,  2.64s/it]"
     ]
    },
    {
     "name": "stderr",
     "output_type": "stream",
     "text": [
      "\r",
      " 52%|█████▏    | 154/295 [04:53<06:12,  2.65s/it]"
     ]
    },
    {
     "name": "stderr",
     "output_type": "stream",
     "text": [
      "\r",
      " 53%|█████▎    | 155/295 [04:56<06:09,  2.64s/it]"
     ]
    },
    {
     "name": "stderr",
     "output_type": "stream",
     "text": [
      "\r",
      " 53%|█████▎    | 156/295 [04:59<06:14,  2.69s/it]"
     ]
    },
    {
     "name": "stderr",
     "output_type": "stream",
     "text": [
      "\r",
      " 53%|█████▎    | 157/295 [05:02<06:16,  2.73s/it]"
     ]
    },
    {
     "name": "stderr",
     "output_type": "stream",
     "text": [
      "\r",
      " 54%|█████▎    | 158/295 [05:04<06:17,  2.75s/it]"
     ]
    },
    {
     "name": "stderr",
     "output_type": "stream",
     "text": [
      "\r",
      " 54%|█████▍    | 159/295 [05:07<06:12,  2.74s/it]"
     ]
    },
    {
     "name": "stderr",
     "output_type": "stream",
     "text": [
      "\r",
      " 54%|█████▍    | 160/295 [05:10<06:14,  2.78s/it]"
     ]
    },
    {
     "name": "stderr",
     "output_type": "stream",
     "text": [
      "\r",
      " 55%|█████▍    | 161/295 [05:13<06:12,  2.78s/it]"
     ]
    },
    {
     "name": "stderr",
     "output_type": "stream",
     "text": [
      "\r",
      " 55%|█████▍    | 162/295 [05:16<06:14,  2.81s/it]"
     ]
    },
    {
     "name": "stderr",
     "output_type": "stream",
     "text": [
      "\r",
      " 55%|█████▌    | 163/295 [05:18<06:10,  2.81s/it]"
     ]
    },
    {
     "name": "stderr",
     "output_type": "stream",
     "text": [
      "\r",
      " 56%|█████▌    | 164/295 [05:21<06:04,  2.79s/it]"
     ]
    },
    {
     "name": "stderr",
     "output_type": "stream",
     "text": [
      "\r",
      " 56%|█████▌    | 165/295 [05:24<06:00,  2.77s/it]"
     ]
    },
    {
     "name": "stderr",
     "output_type": "stream",
     "text": [
      "\r",
      " 56%|█████▋    | 166/295 [05:27<06:04,  2.83s/it]"
     ]
    },
    {
     "name": "stderr",
     "output_type": "stream",
     "text": [
      "\r",
      " 57%|█████▋    | 167/295 [05:30<06:05,  2.86s/it]"
     ]
    },
    {
     "name": "stderr",
     "output_type": "stream",
     "text": [
      "\r",
      " 57%|█████▋    | 168/295 [05:33<06:05,  2.88s/it]"
     ]
    },
    {
     "name": "stderr",
     "output_type": "stream",
     "text": [
      "\r",
      " 57%|█████▋    | 169/295 [05:36<06:04,  2.89s/it]"
     ]
    },
    {
     "name": "stderr",
     "output_type": "stream",
     "text": [
      "\r",
      " 58%|█████▊    | 170/295 [05:38<05:57,  2.86s/it]"
     ]
    },
    {
     "name": "stderr",
     "output_type": "stream",
     "text": [
      "\r",
      " 58%|█████▊    | 171/295 [05:41<06:00,  2.91s/it]"
     ]
    },
    {
     "name": "stderr",
     "output_type": "stream",
     "text": [
      "\r",
      " 58%|█████▊    | 172/295 [05:44<05:58,  2.92s/it]"
     ]
    },
    {
     "name": "stderr",
     "output_type": "stream",
     "text": [
      "\r",
      " 59%|█████▊    | 173/295 [05:47<06:01,  2.96s/it]"
     ]
    },
    {
     "name": "stderr",
     "output_type": "stream",
     "text": [
      "\r",
      " 59%|█████▉    | 174/295 [05:50<05:58,  2.96s/it]"
     ]
    },
    {
     "name": "stderr",
     "output_type": "stream",
     "text": [
      "\r",
      " 59%|█████▉    | 175/295 [05:53<05:54,  2.95s/it]"
     ]
    },
    {
     "name": "stderr",
     "output_type": "stream",
     "text": [
      "\r",
      " 60%|█████▉    | 176/295 [05:56<05:53,  2.97s/it]"
     ]
    },
    {
     "name": "stderr",
     "output_type": "stream",
     "text": [
      "\r",
      " 60%|██████    | 177/295 [05:59<05:51,  2.98s/it]"
     ]
    },
    {
     "name": "stderr",
     "output_type": "stream",
     "text": [
      "\r",
      " 60%|██████    | 178/295 [06:02<05:49,  2.99s/it]"
     ]
    },
    {
     "name": "stderr",
     "output_type": "stream",
     "text": [
      "\r",
      " 61%|██████    | 179/295 [06:05<05:46,  2.98s/it]"
     ]
    },
    {
     "name": "stderr",
     "output_type": "stream",
     "text": [
      "\r",
      " 61%|██████    | 180/295 [06:08<05:41,  2.97s/it]"
     ]
    },
    {
     "name": "stderr",
     "output_type": "stream",
     "text": [
      "\r",
      " 61%|██████▏   | 181/295 [06:11<05:41,  3.00s/it]"
     ]
    },
    {
     "name": "stderr",
     "output_type": "stream",
     "text": [
      "\r",
      " 62%|██████▏   | 182/295 [06:14<05:42,  3.03s/it]"
     ]
    },
    {
     "name": "stderr",
     "output_type": "stream",
     "text": [
      "\r",
      " 62%|██████▏   | 183/295 [06:17<05:40,  3.04s/it]"
     ]
    },
    {
     "name": "stderr",
     "output_type": "stream",
     "text": [
      "\r",
      " 62%|██████▏   | 184/295 [06:21<05:40,  3.07s/it]"
     ]
    },
    {
     "name": "stderr",
     "output_type": "stream",
     "text": [
      "\r",
      " 63%|██████▎   | 185/295 [06:24<05:40,  3.09s/it]"
     ]
    },
    {
     "name": "stderr",
     "output_type": "stream",
     "text": [
      "\r",
      " 63%|██████▎   | 186/295 [06:27<05:37,  3.09s/it]"
     ]
    },
    {
     "name": "stderr",
     "output_type": "stream",
     "text": [
      "\r",
      " 63%|██████▎   | 187/295 [06:30<05:36,  3.11s/it]"
     ]
    },
    {
     "name": "stderr",
     "output_type": "stream",
     "text": [
      "\r",
      " 64%|██████▎   | 188/295 [06:33<05:34,  3.12s/it]"
     ]
    },
    {
     "name": "stderr",
     "output_type": "stream",
     "text": [
      "\r",
      " 64%|██████▍   | 189/295 [06:36<05:29,  3.11s/it]"
     ]
    },
    {
     "name": "stderr",
     "output_type": "stream",
     "text": [
      "\r",
      " 64%|██████▍   | 190/295 [06:39<05:26,  3.11s/it]"
     ]
    },
    {
     "name": "stderr",
     "output_type": "stream",
     "text": [
      "\r",
      " 65%|██████▍   | 191/295 [06:42<05:20,  3.08s/it]"
     ]
    },
    {
     "name": "stderr",
     "output_type": "stream",
     "text": [
      "\r",
      " 65%|██████▌   | 192/295 [06:46<05:23,  3.14s/it]"
     ]
    },
    {
     "name": "stderr",
     "output_type": "stream",
     "text": [
      "\r",
      " 65%|██████▌   | 193/295 [06:49<05:22,  3.16s/it]"
     ]
    },
    {
     "name": "stderr",
     "output_type": "stream",
     "text": [
      "\r",
      " 66%|██████▌   | 194/295 [06:52<05:21,  3.18s/it]"
     ]
    },
    {
     "name": "stderr",
     "output_type": "stream",
     "text": [
      "\r",
      " 66%|██████▌   | 195/295 [06:55<05:18,  3.19s/it]"
     ]
    },
    {
     "name": "stderr",
     "output_type": "stream",
     "text": [
      "\r",
      " 66%|██████▋   | 196/295 [06:58<05:15,  3.19s/it]"
     ]
    },
    {
     "name": "stderr",
     "output_type": "stream",
     "text": [
      "\r",
      " 67%|██████▋   | 197/295 [07:02<05:13,  3.20s/it]"
     ]
    },
    {
     "name": "stderr",
     "output_type": "stream",
     "text": [
      "\r",
      " 67%|██████▋   | 198/295 [07:05<05:08,  3.18s/it]"
     ]
    },
    {
     "name": "stderr",
     "output_type": "stream",
     "text": [
      "\r",
      " 67%|██████▋   | 199/295 [07:08<05:05,  3.18s/it]"
     ]
    },
    {
     "name": "stderr",
     "output_type": "stream",
     "text": [
      "\r",
      " 68%|██████▊   | 200/295 [07:11<05:06,  3.22s/it]"
     ]
    },
    {
     "name": "stderr",
     "output_type": "stream",
     "text": [
      "\r",
      " 68%|██████▊   | 201/295 [07:15<05:03,  3.23s/it]"
     ]
    },
    {
     "name": "stderr",
     "output_type": "stream",
     "text": [
      "\r",
      " 68%|██████▊   | 202/295 [07:18<05:02,  3.26s/it]"
     ]
    },
    {
     "name": "stderr",
     "output_type": "stream",
     "text": [
      "\r",
      " 69%|██████▉   | 203/295 [07:21<05:02,  3.29s/it]"
     ]
    },
    {
     "name": "stderr",
     "output_type": "stream",
     "text": [
      "\r",
      " 69%|██████▉   | 204/295 [07:25<05:00,  3.30s/it]"
     ]
    },
    {
     "name": "stderr",
     "output_type": "stream",
     "text": [
      "\r",
      " 69%|██████▉   | 205/295 [07:28<04:59,  3.32s/it]"
     ]
    },
    {
     "name": "stderr",
     "output_type": "stream",
     "text": [
      "\r",
      " 70%|██████▉   | 206/295 [07:31<04:54,  3.31s/it]"
     ]
    },
    {
     "name": "stderr",
     "output_type": "stream",
     "text": [
      "\r",
      " 70%|███████   | 207/295 [07:35<04:54,  3.35s/it]"
     ]
    },
    {
     "name": "stderr",
     "output_type": "stream",
     "text": [
      "\r",
      " 71%|███████   | 208/295 [07:38<04:49,  3.33s/it]"
     ]
    },
    {
     "name": "stderr",
     "output_type": "stream",
     "text": [
      "\r",
      " 71%|███████   | 209/295 [07:41<04:44,  3.31s/it]"
     ]
    },
    {
     "name": "stderr",
     "output_type": "stream",
     "text": [
      "\r",
      " 71%|███████   | 210/295 [07:45<04:40,  3.29s/it]"
     ]
    },
    {
     "name": "stderr",
     "output_type": "stream",
     "text": [
      "\r",
      " 72%|███████▏  | 211/295 [07:48<04:39,  3.33s/it]"
     ]
    },
    {
     "name": "stderr",
     "output_type": "stream",
     "text": [
      "\r",
      " 72%|███████▏  | 212/295 [07:51<04:37,  3.34s/it]"
     ]
    },
    {
     "name": "stderr",
     "output_type": "stream",
     "text": [
      "\r",
      " 72%|███████▏  | 213/295 [07:55<04:36,  3.37s/it]"
     ]
    },
    {
     "name": "stderr",
     "output_type": "stream",
     "text": [
      "\r",
      " 73%|███████▎  | 214/295 [07:58<04:34,  3.38s/it]"
     ]
    },
    {
     "name": "stderr",
     "output_type": "stream",
     "text": [
      "\r",
      " 73%|███████▎  | 215/295 [08:02<04:33,  3.41s/it]"
     ]
    },
    {
     "name": "stderr",
     "output_type": "stream",
     "text": [
      "\r",
      " 73%|███████▎  | 216/295 [08:05<04:30,  3.43s/it]"
     ]
    },
    {
     "name": "stderr",
     "output_type": "stream",
     "text": [
      "\r",
      " 74%|███████▎  | 217/295 [08:09<04:27,  3.43s/it]"
     ]
    },
    {
     "name": "stderr",
     "output_type": "stream",
     "text": [
      "\r",
      " 74%|███████▍  | 218/295 [08:12<04:24,  3.44s/it]"
     ]
    },
    {
     "name": "stderr",
     "output_type": "stream",
     "text": [
      "\r",
      " 74%|███████▍  | 219/295 [08:15<04:20,  3.43s/it]"
     ]
    },
    {
     "name": "stderr",
     "output_type": "stream",
     "text": [
      "\r",
      " 75%|███████▍  | 220/295 [08:19<04:17,  3.43s/it]"
     ]
    },
    {
     "name": "stderr",
     "output_type": "stream",
     "text": [
      "\r",
      " 75%|███████▍  | 221/295 [08:22<04:14,  3.44s/it]"
     ]
    },
    {
     "name": "stderr",
     "output_type": "stream",
     "text": [
      "\r",
      " 75%|███████▌  | 222/295 [08:26<04:11,  3.45s/it]"
     ]
    },
    {
     "name": "stderr",
     "output_type": "stream",
     "text": [
      "\r",
      " 76%|███████▌  | 223/295 [08:29<04:10,  3.48s/it]"
     ]
    },
    {
     "name": "stderr",
     "output_type": "stream",
     "text": [
      "\r",
      " 76%|███████▌  | 224/295 [08:33<04:05,  3.46s/it]"
     ]
    },
    {
     "name": "stderr",
     "output_type": "stream",
     "text": [
      "\r",
      " 76%|███████▋  | 225/295 [08:36<04:02,  3.47s/it]"
     ]
    },
    {
     "name": "stderr",
     "output_type": "stream",
     "text": [
      "\r",
      " 77%|███████▋  | 226/295 [08:40<04:03,  3.53s/it]"
     ]
    },
    {
     "name": "stderr",
     "output_type": "stream",
     "text": [
      "\r",
      " 77%|███████▋  | 227/295 [08:44<04:02,  3.57s/it]"
     ]
    },
    {
     "name": "stderr",
     "output_type": "stream",
     "text": [
      "\r",
      " 77%|███████▋  | 228/295 [08:47<03:58,  3.55s/it]"
     ]
    },
    {
     "name": "stderr",
     "output_type": "stream",
     "text": [
      "\r",
      " 78%|███████▊  | 229/295 [08:51<03:53,  3.54s/it]"
     ]
    },
    {
     "name": "stderr",
     "output_type": "stream",
     "text": [
      "\r",
      " 78%|███████▊  | 230/295 [08:54<03:50,  3.54s/it]"
     ]
    },
    {
     "name": "stderr",
     "output_type": "stream",
     "text": [
      "\r",
      " 78%|███████▊  | 231/295 [08:58<03:51,  3.61s/it]"
     ]
    },
    {
     "name": "stderr",
     "output_type": "stream",
     "text": [
      "\r",
      " 79%|███████▊  | 232/295 [09:01<03:46,  3.59s/it]"
     ]
    },
    {
     "name": "stderr",
     "output_type": "stream",
     "text": [
      "\r",
      " 79%|███████▉  | 233/295 [09:05<03:41,  3.57s/it]"
     ]
    },
    {
     "name": "stderr",
     "output_type": "stream",
     "text": [
      "\r",
      " 79%|███████▉  | 234/295 [09:09<03:39,  3.60s/it]"
     ]
    },
    {
     "name": "stderr",
     "output_type": "stream",
     "text": [
      "\r",
      " 80%|███████▉  | 235/295 [09:12<03:34,  3.57s/it]"
     ]
    },
    {
     "name": "stderr",
     "output_type": "stream",
     "text": [
      "\r",
      " 80%|████████  | 236/295 [09:16<03:31,  3.58s/it]"
     ]
    },
    {
     "name": "stderr",
     "output_type": "stream",
     "text": [
      "\r",
      " 80%|████████  | 237/295 [09:19<03:27,  3.57s/it]"
     ]
    },
    {
     "name": "stderr",
     "output_type": "stream",
     "text": [
      "\r",
      " 81%|████████  | 238/295 [09:23<03:23,  3.56s/it]"
     ]
    },
    {
     "name": "stderr",
     "output_type": "stream",
     "text": [
      "\r",
      " 81%|████████  | 239/295 [09:26<03:19,  3.57s/it]"
     ]
    },
    {
     "name": "stderr",
     "output_type": "stream",
     "text": [
      "\r",
      " 81%|████████▏ | 240/295 [09:30<03:16,  3.58s/it]"
     ]
    },
    {
     "name": "stderr",
     "output_type": "stream",
     "text": [
      "\r",
      " 82%|████████▏ | 241/295 [09:34<03:14,  3.60s/it]"
     ]
    },
    {
     "name": "stderr",
     "output_type": "stream",
     "text": [
      "\r",
      " 82%|████████▏ | 242/295 [09:37<03:11,  3.62s/it]"
     ]
    },
    {
     "name": "stderr",
     "output_type": "stream",
     "text": [
      "\r",
      " 82%|████████▏ | 243/295 [09:41<03:08,  3.62s/it]"
     ]
    },
    {
     "name": "stderr",
     "output_type": "stream",
     "text": [
      "\r",
      " 83%|████████▎ | 244/295 [09:45<03:05,  3.65s/it]"
     ]
    },
    {
     "name": "stderr",
     "output_type": "stream",
     "text": [
      "\r",
      " 83%|████████▎ | 245/295 [09:48<03:02,  3.66s/it]"
     ]
    },
    {
     "name": "stderr",
     "output_type": "stream",
     "text": [
      "\r",
      " 83%|████████▎ | 246/295 [09:52<03:01,  3.71s/it]"
     ]
    },
    {
     "name": "stderr",
     "output_type": "stream",
     "text": [
      "\r",
      " 84%|████████▎ | 247/295 [09:56<03:01,  3.77s/it]"
     ]
    },
    {
     "name": "stderr",
     "output_type": "stream",
     "text": [
      "\r",
      " 84%|████████▍ | 248/295 [10:00<02:59,  3.81s/it]"
     ]
    },
    {
     "name": "stderr",
     "output_type": "stream",
     "text": [
      "\r",
      " 84%|████████▍ | 249/295 [10:04<02:56,  3.84s/it]"
     ]
    },
    {
     "name": "stderr",
     "output_type": "stream",
     "text": [
      "\r",
      " 85%|████████▍ | 250/295 [10:08<02:52,  3.83s/it]"
     ]
    },
    {
     "name": "stderr",
     "output_type": "stream",
     "text": [
      "\r",
      " 85%|████████▌ | 251/295 [10:11<02:47,  3.80s/it]"
     ]
    },
    {
     "name": "stderr",
     "output_type": "stream",
     "text": [
      "\r",
      " 85%|████████▌ | 252/295 [10:15<02:42,  3.78s/it]"
     ]
    },
    {
     "name": "stderr",
     "output_type": "stream",
     "text": [
      "\r",
      " 86%|████████▌ | 253/295 [10:19<02:38,  3.78s/it]"
     ]
    },
    {
     "name": "stderr",
     "output_type": "stream",
     "text": [
      "\r",
      " 86%|████████▌ | 254/295 [10:23<02:34,  3.77s/it]"
     ]
    },
    {
     "name": "stderr",
     "output_type": "stream",
     "text": [
      "\r",
      " 86%|████████▋ | 255/295 [10:27<02:32,  3.81s/it]"
     ]
    },
    {
     "name": "stderr",
     "output_type": "stream",
     "text": [
      "\r",
      " 87%|████████▋ | 256/295 [10:31<02:30,  3.85s/it]"
     ]
    },
    {
     "name": "stderr",
     "output_type": "stream",
     "text": [
      "\r",
      " 87%|████████▋ | 257/295 [10:34<02:27,  3.88s/it]"
     ]
    },
    {
     "name": "stderr",
     "output_type": "stream",
     "text": [
      "\r",
      " 87%|████████▋ | 258/295 [10:38<02:22,  3.85s/it]"
     ]
    },
    {
     "name": "stderr",
     "output_type": "stream",
     "text": [
      "\r",
      " 88%|████████▊ | 259/295 [10:42<02:17,  3.82s/it]"
     ]
    },
    {
     "name": "stderr",
     "output_type": "stream",
     "text": [
      "\r",
      " 88%|████████▊ | 260/295 [10:46<02:13,  3.81s/it]"
     ]
    },
    {
     "name": "stderr",
     "output_type": "stream",
     "text": [
      "\r",
      " 88%|████████▊ | 261/295 [10:50<02:10,  3.84s/it]"
     ]
    },
    {
     "name": "stderr",
     "output_type": "stream",
     "text": [
      "\r",
      " 89%|████████▉ | 262/295 [10:54<02:07,  3.86s/it]"
     ]
    },
    {
     "name": "stderr",
     "output_type": "stream",
     "text": [
      "\r",
      " 89%|████████▉ | 263/295 [10:58<02:03,  3.87s/it]"
     ]
    },
    {
     "name": "stderr",
     "output_type": "stream",
     "text": [
      "\r",
      " 89%|████████▉ | 264/295 [11:01<01:59,  3.87s/it]"
     ]
    },
    {
     "name": "stderr",
     "output_type": "stream",
     "text": [
      "\r",
      " 90%|████████▉ | 265/295 [11:05<01:56,  3.87s/it]"
     ]
    },
    {
     "name": "stderr",
     "output_type": "stream",
     "text": [
      "\r",
      " 90%|█████████ | 266/295 [11:09<01:52,  3.89s/it]"
     ]
    },
    {
     "name": "stderr",
     "output_type": "stream",
     "text": [
      "\r",
      " 91%|█████████ | 267/295 [11:13<01:49,  3.89s/it]"
     ]
    },
    {
     "name": "stderr",
     "output_type": "stream",
     "text": [
      "\r",
      " 91%|█████████ | 268/295 [11:17<01:45,  3.91s/it]"
     ]
    },
    {
     "name": "stderr",
     "output_type": "stream",
     "text": [
      "\r",
      " 91%|█████████ | 269/295 [11:21<01:41,  3.91s/it]"
     ]
    },
    {
     "name": "stderr",
     "output_type": "stream",
     "text": [
      "\r",
      " 92%|█████████▏| 270/295 [11:25<01:37,  3.92s/it]"
     ]
    },
    {
     "name": "stderr",
     "output_type": "stream",
     "text": [
      "\r",
      " 92%|█████████▏| 271/295 [11:29<01:33,  3.91s/it]"
     ]
    },
    {
     "name": "stderr",
     "output_type": "stream",
     "text": [
      "\r",
      " 92%|█████████▏| 272/295 [11:33<01:29,  3.90s/it]"
     ]
    },
    {
     "name": "stderr",
     "output_type": "stream",
     "text": [
      "\r",
      " 93%|█████████▎| 273/295 [11:37<01:26,  3.94s/it]"
     ]
    },
    {
     "name": "stderr",
     "output_type": "stream",
     "text": [
      "\r",
      " 93%|█████████▎| 274/295 [11:41<01:22,  3.95s/it]"
     ]
    },
    {
     "name": "stderr",
     "output_type": "stream",
     "text": [
      "\r",
      " 93%|█████████▎| 275/295 [11:45<01:19,  3.97s/it]"
     ]
    },
    {
     "name": "stderr",
     "output_type": "stream",
     "text": [
      "\r",
      " 94%|█████████▎| 276/295 [11:49<01:15,  3.99s/it]"
     ]
    },
    {
     "name": "stderr",
     "output_type": "stream",
     "text": [
      "\r",
      " 94%|█████████▍| 277/295 [11:53<01:11,  3.99s/it]"
     ]
    },
    {
     "name": "stderr",
     "output_type": "stream",
     "text": [
      "\r",
      " 94%|█████████▍| 278/295 [11:57<01:08,  4.01s/it]"
     ]
    },
    {
     "name": "stderr",
     "output_type": "stream",
     "text": [
      "\r",
      " 95%|█████████▍| 279/295 [12:01<01:04,  4.02s/it]"
     ]
    },
    {
     "name": "stderr",
     "output_type": "stream",
     "text": [
      "\r",
      " 95%|█████████▍| 280/295 [12:05<01:00,  4.02s/it]"
     ]
    },
    {
     "name": "stderr",
     "output_type": "stream",
     "text": [
      "\r",
      " 95%|█████████▌| 281/295 [12:09<00:56,  4.02s/it]"
     ]
    },
    {
     "name": "stderr",
     "output_type": "stream",
     "text": [
      "\r",
      " 96%|█████████▌| 282/295 [12:13<00:52,  4.06s/it]"
     ]
    },
    {
     "name": "stderr",
     "output_type": "stream",
     "text": [
      "\r",
      " 96%|█████████▌| 283/295 [12:17<00:48,  4.07s/it]"
     ]
    },
    {
     "name": "stderr",
     "output_type": "stream",
     "text": [
      "\r",
      " 96%|█████████▋| 284/295 [12:21<00:44,  4.08s/it]"
     ]
    },
    {
     "name": "stderr",
     "output_type": "stream",
     "text": [
      "\r",
      " 97%|█████████▋| 285/295 [12:25<00:40,  4.09s/it]"
     ]
    },
    {
     "name": "stderr",
     "output_type": "stream",
     "text": [
      "\r",
      " 97%|█████████▋| 286/295 [12:29<00:36,  4.07s/it]"
     ]
    },
    {
     "name": "stderr",
     "output_type": "stream",
     "text": [
      "\r",
      " 97%|█████████▋| 287/295 [12:33<00:32,  4.09s/it]"
     ]
    },
    {
     "name": "stderr",
     "output_type": "stream",
     "text": [
      "\r",
      " 98%|█████████▊| 288/295 [12:38<00:28,  4.10s/it]"
     ]
    },
    {
     "name": "stderr",
     "output_type": "stream",
     "text": [
      "\r",
      " 98%|█████████▊| 289/295 [12:42<00:24,  4.11s/it]"
     ]
    },
    {
     "name": "stderr",
     "output_type": "stream",
     "text": [
      "\r",
      " 98%|█████████▊| 290/295 [12:46<00:20,  4.11s/it]"
     ]
    },
    {
     "name": "stderr",
     "output_type": "stream",
     "text": [
      "\r",
      " 99%|█████████▊| 291/295 [12:50<00:16,  4.15s/it]"
     ]
    },
    {
     "name": "stderr",
     "output_type": "stream",
     "text": [
      "\r",
      " 99%|█████████▉| 292/295 [12:54<00:12,  4.21s/it]"
     ]
    },
    {
     "name": "stderr",
     "output_type": "stream",
     "text": [
      "\r",
      " 99%|█████████▉| 293/295 [12:59<00:08,  4.19s/it]"
     ]
    },
    {
     "name": "stderr",
     "output_type": "stream",
     "text": [
      "\r",
      "100%|█████████▉| 294/295 [13:03<00:04,  4.17s/it]"
     ]
    },
    {
     "name": "stderr",
     "output_type": "stream",
     "text": [
      "\r",
      "100%|██████████| 295/295 [13:07<00:00,  4.21s/it]"
     ]
    },
    {
     "name": "stderr",
     "output_type": "stream",
     "text": [
      "\r",
      "100%|██████████| 295/295 [13:07<00:00,  2.67s/it]"
     ]
    },
    {
     "name": "stderr",
     "output_type": "stream",
     "text": [
      "\n"
     ]
    }
   ],
   "source": [
    "ensemble = generate_ensemble(\n",
    "    data,\n",
    "    CLUSTERERS,\n",
    "    attributes=CLUSTERING_ATTRIBUTES_TO_SAVE,\n",
    ")"
   ]
  },
  {
   "cell_type": "code",
   "execution_count": 24,
   "metadata": {
    "execution": {
     "iopub.execute_input": "2021-02-22T21:25:01.820534Z",
     "iopub.status.busy": "2021-02-22T21:25:01.820174Z",
     "iopub.status.idle": "2021-02-22T21:25:01.832241Z",
     "shell.execute_reply": "2021-02-22T21:25:01.831868Z"
    },
    "papermill": {
     "duration": 0.088079,
     "end_time": "2021-02-22T21:25:01.832331",
     "exception": false,
     "start_time": "2021-02-22T21:25:01.744252",
     "status": "completed"
    },
    "tags": []
   },
   "outputs": [
    {
     "data": {
      "text/plain": [
       "(295, 3)"
      ]
     },
     "execution_count": 24,
     "metadata": {},
     "output_type": "execute_result"
    }
   ],
   "source": [
    "# the number should be close to 295 (the number of partitions generated by k-means/spectral clustering)\n",
    "ensemble.shape"
   ]
  },
  {
   "cell_type": "code",
   "execution_count": 25,
   "metadata": {
    "execution": {
     "iopub.execute_input": "2021-02-22T21:25:01.984294Z",
     "iopub.status.busy": "2021-02-22T21:25:01.983937Z",
     "iopub.status.idle": "2021-02-22T21:25:02.002769Z",
     "shell.execute_reply": "2021-02-22T21:25:02.002393Z"
    },
    "papermill": {
     "duration": 0.094723,
     "end_time": "2021-02-22T21:25:02.002858",
     "exception": false,
     "start_time": "2021-02-22T21:25:01.908135",
     "status": "completed"
    },
    "tags": []
   },
   "outputs": [
    {
     "data": {
      "text/html": [
       "<div>\n",
       "<style scoped>\n",
       "    .dataframe tbody tr th:only-of-type {\n",
       "        vertical-align: middle;\n",
       "    }\n",
       "\n",
       "    .dataframe tbody tr th {\n",
       "        vertical-align: top;\n",
       "    }\n",
       "\n",
       "    .dataframe thead th {\n",
       "        text-align: right;\n",
       "    }\n",
       "</style>\n",
       "<table border=\"1\" class=\"dataframe\">\n",
       "  <thead>\n",
       "    <tr style=\"text-align: right;\">\n",
       "      <th></th>\n",
       "      <th>clusterer_params</th>\n",
       "      <th>partition</th>\n",
       "      <th>n_clusters</th>\n",
       "    </tr>\n",
       "    <tr>\n",
       "      <th>clusterer_id</th>\n",
       "      <th></th>\n",
       "      <th></th>\n",
       "      <th></th>\n",
       "    </tr>\n",
       "  </thead>\n",
       "  <tbody>\n",
       "    <tr>\n",
       "      <th>SpectralClustering #0</th>\n",
       "      <td>{'affinity': 'rbf', 'assign_labels': 'kmeans',...</td>\n",
       "      <td>[1.0, 1.0, 1.0, 1.0, 1.0, 1.0, 1.0, 1.0, 1.0, ...</td>\n",
       "      <td>2</td>\n",
       "    </tr>\n",
       "    <tr>\n",
       "      <th>SpectralClustering #1</th>\n",
       "      <td>{'affinity': 'rbf', 'assign_labels': 'kmeans',...</td>\n",
       "      <td>[0.0, 0.0, 0.0, 0.0, 0.0, 0.0, 0.0, 0.0, 0.0, ...</td>\n",
       "      <td>2</td>\n",
       "    </tr>\n",
       "    <tr>\n",
       "      <th>SpectralClustering #2</th>\n",
       "      <td>{'affinity': 'rbf', 'assign_labels': 'kmeans',...</td>\n",
       "      <td>[0.0, 0.0, 0.0, 0.0, 0.0, 0.0, 0.0, 0.0, 0.0, ...</td>\n",
       "      <td>2</td>\n",
       "    </tr>\n",
       "    <tr>\n",
       "      <th>SpectralClustering #3</th>\n",
       "      <td>{'affinity': 'rbf', 'assign_labels': 'kmeans',...</td>\n",
       "      <td>[1.0, 1.0, 1.0, 1.0, 1.0, 1.0, 1.0, 1.0, 1.0, ...</td>\n",
       "      <td>2</td>\n",
       "    </tr>\n",
       "    <tr>\n",
       "      <th>SpectralClustering #4</th>\n",
       "      <td>{'affinity': 'rbf', 'assign_labels': 'kmeans',...</td>\n",
       "      <td>[0.0, 0.0, 0.0, 0.0, 0.0, 0.0, 0.0, 0.0, 0.0, ...</td>\n",
       "      <td>2</td>\n",
       "    </tr>\n",
       "  </tbody>\n",
       "</table>\n",
       "</div>"
      ],
      "text/plain": [
       "                                                        clusterer_params  \\\n",
       "clusterer_id                                                               \n",
       "SpectralClustering #0  {'affinity': 'rbf', 'assign_labels': 'kmeans',...   \n",
       "SpectralClustering #1  {'affinity': 'rbf', 'assign_labels': 'kmeans',...   \n",
       "SpectralClustering #2  {'affinity': 'rbf', 'assign_labels': 'kmeans',...   \n",
       "SpectralClustering #3  {'affinity': 'rbf', 'assign_labels': 'kmeans',...   \n",
       "SpectralClustering #4  {'affinity': 'rbf', 'assign_labels': 'kmeans',...   \n",
       "\n",
       "                                                               partition  \\\n",
       "clusterer_id                                                               \n",
       "SpectralClustering #0  [1.0, 1.0, 1.0, 1.0, 1.0, 1.0, 1.0, 1.0, 1.0, ...   \n",
       "SpectralClustering #1  [0.0, 0.0, 0.0, 0.0, 0.0, 0.0, 0.0, 0.0, 0.0, ...   \n",
       "SpectralClustering #2  [0.0, 0.0, 0.0, 0.0, 0.0, 0.0, 0.0, 0.0, 0.0, ...   \n",
       "SpectralClustering #3  [1.0, 1.0, 1.0, 1.0, 1.0, 1.0, 1.0, 1.0, 1.0, ...   \n",
       "SpectralClustering #4  [0.0, 0.0, 0.0, 0.0, 0.0, 0.0, 0.0, 0.0, 0.0, ...   \n",
       "\n",
       "                       n_clusters  \n",
       "clusterer_id                       \n",
       "SpectralClustering #0           2  \n",
       "SpectralClustering #1           2  \n",
       "SpectralClustering #2           2  \n",
       "SpectralClustering #3           2  \n",
       "SpectralClustering #4           2  "
      ]
     },
     "execution_count": 25,
     "metadata": {},
     "output_type": "execute_result"
    }
   ],
   "source": [
    "ensemble.head()"
   ]
  },
  {
   "cell_type": "code",
   "execution_count": 26,
   "metadata": {
    "execution": {
     "iopub.execute_input": "2021-02-22T21:25:02.154606Z",
     "iopub.status.busy": "2021-02-22T21:25:02.154243Z",
     "iopub.status.idle": "2021-02-22T21:25:02.166864Z",
     "shell.execute_reply": "2021-02-22T21:25:02.166492Z"
    },
    "papermill": {
     "duration": 0.088272,
     "end_time": "2021-02-22T21:25:02.166952",
     "exception": false,
     "start_time": "2021-02-22T21:25:02.078680",
     "status": "completed"
    },
    "tags": []
   },
   "outputs": [
    {
     "data": {
      "text/plain": [
       "60    5\n",
       "16    5\n",
       "28    5\n",
       "27    5\n",
       "26    5\n",
       "Name: n_clusters, dtype: int64"
      ]
     },
     "execution_count": 26,
     "metadata": {},
     "output_type": "execute_result"
    }
   ],
   "source": [
    "ensemble[\"n_clusters\"].value_counts().head()"
   ]
  },
  {
   "cell_type": "code",
   "execution_count": 27,
   "metadata": {
    "execution": {
     "iopub.execute_input": "2021-02-22T21:25:02.317733Z",
     "iopub.status.busy": "2021-02-22T21:25:02.317359Z",
     "iopub.status.idle": "2021-02-22T21:25:02.330649Z",
     "shell.execute_reply": "2021-02-22T21:25:02.330940Z"
    },
    "papermill": {
     "duration": 0.090496,
     "end_time": "2021-02-22T21:25:02.331053",
     "exception": false,
     "start_time": "2021-02-22T21:25:02.240557",
     "status": "completed"
    },
    "tags": []
   },
   "outputs": [
    {
     "data": {
      "text/plain": [
       "count    295.000000\n",
       "mean      31.000000\n",
       "std       17.058323\n",
       "min        2.000000\n",
       "25%       16.000000\n",
       "50%       31.000000\n",
       "75%       46.000000\n",
       "max       60.000000\n",
       "Name: n_clusters, dtype: float64"
      ]
     },
     "metadata": {},
     "output_type": "display_data"
    }
   ],
   "source": [
    "ensemble_stats = ensemble[\"n_clusters\"].describe()\n",
    "display(ensemble_stats)"
   ]
  },
  {
   "cell_type": "markdown",
   "metadata": {
    "papermill": {
     "duration": 0.073543,
     "end_time": "2021-02-22T21:25:02.479179",
     "exception": false,
     "start_time": "2021-02-22T21:25:02.405636",
     "status": "completed"
    },
    "tags": []
   },
   "source": [
    "## Testing"
   ]
  },
  {
   "cell_type": "code",
   "execution_count": 28,
   "metadata": {
    "execution": {
     "iopub.execute_input": "2021-02-22T21:25:02.629878Z",
     "iopub.status.busy": "2021-02-22T21:25:02.629514Z",
     "iopub.status.idle": "2021-02-22T21:25:02.642655Z",
     "shell.execute_reply": "2021-02-22T21:25:02.641608Z"
    },
    "papermill": {
     "duration": 0.089914,
     "end_time": "2021-02-22T21:25:02.642887",
     "exception": false,
     "start_time": "2021-02-22T21:25:02.552973",
     "status": "completed"
    },
    "tags": []
   },
   "outputs": [],
   "source": [
    "assert ensemble_stats[\"min\"] > 1"
   ]
  },
  {
   "cell_type": "code",
   "execution_count": 29,
   "metadata": {
    "execution": {
     "iopub.execute_input": "2021-02-22T21:25:02.805263Z",
     "iopub.status.busy": "2021-02-22T21:25:02.804898Z",
     "iopub.status.idle": "2021-02-22T21:25:02.816282Z",
     "shell.execute_reply": "2021-02-22T21:25:02.815890Z"
    },
    "papermill": {
     "duration": 0.088144,
     "end_time": "2021-02-22T21:25:02.816395",
     "exception": false,
     "start_time": "2021-02-22T21:25:02.728251",
     "status": "completed"
    },
    "tags": []
   },
   "outputs": [],
   "source": [
    "assert not ensemble[\"n_clusters\"].isna().any()"
   ]
  },
  {
   "cell_type": "code",
   "execution_count": 30,
   "metadata": {
    "execution": {
     "iopub.execute_input": "2021-02-22T21:25:02.967224Z",
     "iopub.status.busy": "2021-02-22T21:25:02.966863Z",
     "iopub.status.idle": "2021-02-22T21:25:02.977638Z",
     "shell.execute_reply": "2021-02-22T21:25:02.977264Z"
    },
    "papermill": {
     "duration": 0.086959,
     "end_time": "2021-02-22T21:25:02.977726",
     "exception": false,
     "start_time": "2021-02-22T21:25:02.890767",
     "status": "completed"
    },
    "tags": []
   },
   "outputs": [],
   "source": [
    "assert ensemble.shape[0] == len(CLUSTERERS)"
   ]
  },
  {
   "cell_type": "code",
   "execution_count": 31,
   "metadata": {
    "execution": {
     "iopub.execute_input": "2021-02-22T21:25:03.129516Z",
     "iopub.status.busy": "2021-02-22T21:25:03.129133Z",
     "iopub.status.idle": "2021-02-22T21:25:03.157826Z",
     "shell.execute_reply": "2021-02-22T21:25:03.157444Z"
    },
    "papermill": {
     "duration": 0.104565,
     "end_time": "2021-02-22T21:25:03.157916",
     "exception": false,
     "start_time": "2021-02-22T21:25:03.053351",
     "status": "completed"
    },
    "tags": []
   },
   "outputs": [],
   "source": [
    "# all partitions have the right size\n",
    "assert np.all(\n",
    "    [part[\"partition\"].shape[0] == data.shape[0] for idx, part in ensemble.iterrows()]\n",
    ")"
   ]
  },
  {
   "cell_type": "code",
   "execution_count": 32,
   "metadata": {
    "execution": {
     "iopub.execute_input": "2021-02-22T21:25:03.309642Z",
     "iopub.status.busy": "2021-02-22T21:25:03.309270Z",
     "iopub.status.idle": "2021-02-22T21:25:03.341337Z",
     "shell.execute_reply": "2021-02-22T21:25:03.340973Z"
    },
    "papermill": {
     "duration": 0.108148,
     "end_time": "2021-02-22T21:25:03.341424",
     "exception": false,
     "start_time": "2021-02-22T21:25:03.233276",
     "status": "completed"
    },
    "tags": []
   },
   "outputs": [],
   "source": [
    "# no partition has negative clusters (noisy points)\n",
    "assert not np.any([(part[\"partition\"] < 0).any() for idx, part in ensemble.iterrows()])"
   ]
  },
  {
   "cell_type": "markdown",
   "metadata": {
    "papermill": {
     "duration": 0.072976,
     "end_time": "2021-02-22T21:25:03.488090",
     "exception": false,
     "start_time": "2021-02-22T21:25:03.415114",
     "status": "completed"
    },
    "tags": []
   },
   "source": [
    "## Add clustering quality measures"
   ]
  },
  {
   "cell_type": "code",
   "execution_count": 33,
   "metadata": {
    "execution": {
     "iopub.execute_input": "2021-02-22T21:25:03.637531Z",
     "iopub.status.busy": "2021-02-22T21:25:03.637166Z",
     "iopub.status.idle": "2021-02-22T21:25:03.647455Z",
     "shell.execute_reply": "2021-02-22T21:25:03.647747Z"
    },
    "papermill": {
     "duration": 0.086258,
     "end_time": "2021-02-22T21:25:03.647854",
     "exception": false,
     "start_time": "2021-02-22T21:25:03.561596",
     "status": "completed"
    },
    "tags": []
   },
   "outputs": [],
   "source": [
    "from sklearn.metrics import calinski_harabasz_score"
   ]
  },
  {
   "cell_type": "code",
   "execution_count": 34,
   "metadata": {
    "execution": {
     "iopub.execute_input": "2021-02-22T21:25:03.802385Z",
     "iopub.status.busy": "2021-02-22T21:25:03.802024Z",
     "iopub.status.idle": "2021-02-22T21:25:16.657851Z",
     "shell.execute_reply": "2021-02-22T21:25:16.656927Z"
    },
    "papermill": {
     "duration": 12.932721,
     "end_time": "2021-02-22T21:25:16.657982",
     "exception": false,
     "start_time": "2021-02-22T21:25:03.725261",
     "status": "completed"
    },
    "tags": []
   },
   "outputs": [],
   "source": [
    "ensemble = ensemble.assign(\n",
    "    ch_score=ensemble[\"partition\"].apply(lambda x: calinski_harabasz_score(data, x))\n",
    ")"
   ]
  },
  {
   "cell_type": "code",
   "execution_count": 35,
   "metadata": {
    "execution": {
     "iopub.execute_input": "2021-02-22T21:25:16.827200Z",
     "iopub.status.busy": "2021-02-22T21:25:16.826837Z",
     "iopub.status.idle": "2021-02-22T21:25:16.838360Z",
     "shell.execute_reply": "2021-02-22T21:25:16.837990Z"
    },
    "papermill": {
     "duration": 0.089329,
     "end_time": "2021-02-22T21:25:16.838449",
     "exception": false,
     "start_time": "2021-02-22T21:25:16.749120",
     "status": "completed"
    },
    "tags": []
   },
   "outputs": [
    {
     "data": {
      "text/plain": [
       "(295, 4)"
      ]
     },
     "execution_count": 35,
     "metadata": {},
     "output_type": "execute_result"
    }
   ],
   "source": [
    "ensemble.shape"
   ]
  },
  {
   "cell_type": "code",
   "execution_count": 36,
   "metadata": {
    "execution": {
     "iopub.execute_input": "2021-02-22T21:25:16.990442Z",
     "iopub.status.busy": "2021-02-22T21:25:16.990071Z",
     "iopub.status.idle": "2021-02-22T21:25:17.009264Z",
     "shell.execute_reply": "2021-02-22T21:25:17.008874Z"
    },
    "papermill": {
     "duration": 0.095785,
     "end_time": "2021-02-22T21:25:17.009354",
     "exception": false,
     "start_time": "2021-02-22T21:25:16.913569",
     "status": "completed"
    },
    "tags": []
   },
   "outputs": [
    {
     "data": {
      "text/html": [
       "<div>\n",
       "<style scoped>\n",
       "    .dataframe tbody tr th:only-of-type {\n",
       "        vertical-align: middle;\n",
       "    }\n",
       "\n",
       "    .dataframe tbody tr th {\n",
       "        vertical-align: top;\n",
       "    }\n",
       "\n",
       "    .dataframe thead th {\n",
       "        text-align: right;\n",
       "    }\n",
       "</style>\n",
       "<table border=\"1\" class=\"dataframe\">\n",
       "  <thead>\n",
       "    <tr style=\"text-align: right;\">\n",
       "      <th></th>\n",
       "      <th>clusterer_params</th>\n",
       "      <th>partition</th>\n",
       "      <th>n_clusters</th>\n",
       "      <th>ch_score</th>\n",
       "    </tr>\n",
       "    <tr>\n",
       "      <th>clusterer_id</th>\n",
       "      <th></th>\n",
       "      <th></th>\n",
       "      <th></th>\n",
       "      <th></th>\n",
       "    </tr>\n",
       "  </thead>\n",
       "  <tbody>\n",
       "    <tr>\n",
       "      <th>SpectralClustering #0</th>\n",
       "      <td>{'affinity': 'rbf', 'assign_labels': 'kmeans',...</td>\n",
       "      <td>[1.0, 1.0, 1.0, 1.0, 1.0, 1.0, 1.0, 1.0, 1.0, ...</td>\n",
       "      <td>2</td>\n",
       "      <td>209.860914</td>\n",
       "    </tr>\n",
       "    <tr>\n",
       "      <th>SpectralClustering #1</th>\n",
       "      <td>{'affinity': 'rbf', 'assign_labels': 'kmeans',...</td>\n",
       "      <td>[0.0, 0.0, 0.0, 0.0, 0.0, 0.0, 0.0, 0.0, 0.0, ...</td>\n",
       "      <td>2</td>\n",
       "      <td>209.860914</td>\n",
       "    </tr>\n",
       "    <tr>\n",
       "      <th>SpectralClustering #2</th>\n",
       "      <td>{'affinity': 'rbf', 'assign_labels': 'kmeans',...</td>\n",
       "      <td>[0.0, 0.0, 0.0, 0.0, 0.0, 0.0, 0.0, 0.0, 0.0, ...</td>\n",
       "      <td>2</td>\n",
       "      <td>209.860914</td>\n",
       "    </tr>\n",
       "    <tr>\n",
       "      <th>SpectralClustering #3</th>\n",
       "      <td>{'affinity': 'rbf', 'assign_labels': 'kmeans',...</td>\n",
       "      <td>[1.0, 1.0, 1.0, 1.0, 1.0, 1.0, 1.0, 1.0, 1.0, ...</td>\n",
       "      <td>2</td>\n",
       "      <td>209.860914</td>\n",
       "    </tr>\n",
       "    <tr>\n",
       "      <th>SpectralClustering #4</th>\n",
       "      <td>{'affinity': 'rbf', 'assign_labels': 'kmeans',...</td>\n",
       "      <td>[0.0, 0.0, 0.0, 0.0, 0.0, 0.0, 0.0, 0.0, 0.0, ...</td>\n",
       "      <td>2</td>\n",
       "      <td>209.860914</td>\n",
       "    </tr>\n",
       "  </tbody>\n",
       "</table>\n",
       "</div>"
      ],
      "text/plain": [
       "                                                        clusterer_params  \\\n",
       "clusterer_id                                                               \n",
       "SpectralClustering #0  {'affinity': 'rbf', 'assign_labels': 'kmeans',...   \n",
       "SpectralClustering #1  {'affinity': 'rbf', 'assign_labels': 'kmeans',...   \n",
       "SpectralClustering #2  {'affinity': 'rbf', 'assign_labels': 'kmeans',...   \n",
       "SpectralClustering #3  {'affinity': 'rbf', 'assign_labels': 'kmeans',...   \n",
       "SpectralClustering #4  {'affinity': 'rbf', 'assign_labels': 'kmeans',...   \n",
       "\n",
       "                                                               partition  \\\n",
       "clusterer_id                                                               \n",
       "SpectralClustering #0  [1.0, 1.0, 1.0, 1.0, 1.0, 1.0, 1.0, 1.0, 1.0, ...   \n",
       "SpectralClustering #1  [0.0, 0.0, 0.0, 0.0, 0.0, 0.0, 0.0, 0.0, 0.0, ...   \n",
       "SpectralClustering #2  [0.0, 0.0, 0.0, 0.0, 0.0, 0.0, 0.0, 0.0, 0.0, ...   \n",
       "SpectralClustering #3  [1.0, 1.0, 1.0, 1.0, 1.0, 1.0, 1.0, 1.0, 1.0, ...   \n",
       "SpectralClustering #4  [0.0, 0.0, 0.0, 0.0, 0.0, 0.0, 0.0, 0.0, 0.0, ...   \n",
       "\n",
       "                       n_clusters    ch_score  \n",
       "clusterer_id                                   \n",
       "SpectralClustering #0           2  209.860914  \n",
       "SpectralClustering #1           2  209.860914  \n",
       "SpectralClustering #2           2  209.860914  \n",
       "SpectralClustering #3           2  209.860914  \n",
       "SpectralClustering #4           2  209.860914  "
      ]
     },
     "execution_count": 36,
     "metadata": {},
     "output_type": "execute_result"
    }
   ],
   "source": [
    "ensemble.head()"
   ]
  },
  {
   "cell_type": "markdown",
   "metadata": {
    "papermill": {
     "duration": 0.074363,
     "end_time": "2021-02-22T21:25:17.196961",
     "exception": false,
     "start_time": "2021-02-22T21:25:17.122598",
     "status": "completed"
    },
    "tags": []
   },
   "source": [
    "## Save"
   ]
  },
  {
   "cell_type": "code",
   "execution_count": 37,
   "metadata": {
    "execution": {
     "iopub.execute_input": "2021-02-22T21:25:17.349496Z",
     "iopub.status.busy": "2021-02-22T21:25:17.349126Z",
     "iopub.status.idle": "2021-02-22T21:25:17.361147Z",
     "shell.execute_reply": "2021-02-22T21:25:17.360772Z"
    },
    "papermill": {
     "duration": 0.088998,
     "end_time": "2021-02-22T21:25:17.361235",
     "exception": false,
     "start_time": "2021-02-22T21:25:17.272237",
     "status": "completed"
    },
    "tags": []
   },
   "outputs": [
    {
     "data": {
      "text/plain": [
       "PosixPath('/home/miltondp/projects/labs/greenelab/phenoplier/base3/results/clustering/runs/z_score_std-projection-smultixcan-efo_partial-mashr-zscores/SpectralClustering-AFFINITY_rbf-GAMMA_1e_10-KMEANS_N_INIT_10-K_MAX_60-K_MIN_2-N_REPS_PER_K_5.pkl')"
      ]
     },
     "metadata": {},
     "output_type": "display_data"
    }
   ],
   "source": [
    "output_filename = Path(\n",
    "    RESULTS_DIR,\n",
    "    generate_result_set_name(\n",
    "        CLUSTERING_OPTIONS,\n",
    "        prefix=f\"{clustering_method_name}-\",\n",
    "        suffix=\".pkl\",\n",
    "    ),\n",
    ").resolve()\n",
    "display(output_filename)"
   ]
  },
  {
   "cell_type": "code",
   "execution_count": 38,
   "metadata": {
    "execution": {
     "iopub.execute_input": "2021-02-22T21:25:17.514415Z",
     "iopub.status.busy": "2021-02-22T21:25:17.514052Z",
     "iopub.status.idle": "2021-02-22T21:25:17.531710Z",
     "shell.execute_reply": "2021-02-22T21:25:17.531384Z"
    },
    "papermill": {
     "duration": 0.094926,
     "end_time": "2021-02-22T21:25:17.531805",
     "exception": false,
     "start_time": "2021-02-22T21:25:17.436879",
     "status": "completed"
    },
    "tags": []
   },
   "outputs": [],
   "source": [
    "ensemble.to_pickle(output_filename)"
   ]
  },
  {
   "cell_type": "markdown",
   "metadata": {
    "papermill": {
     "duration": 0.074208,
     "end_time": "2021-02-22T21:25:17.681510",
     "exception": false,
     "start_time": "2021-02-22T21:25:17.607302",
     "status": "completed"
    },
    "tags": []
   },
   "source": [
    "# Cluster quality"
   ]
  },
  {
   "cell_type": "code",
   "execution_count": 39,
   "metadata": {
    "execution": {
     "iopub.execute_input": "2021-02-22T21:25:17.836011Z",
     "iopub.status.busy": "2021-02-22T21:25:17.835649Z",
     "iopub.status.idle": "2021-02-22T21:25:17.852236Z",
     "shell.execute_reply": "2021-02-22T21:25:17.851872Z"
    },
    "papermill": {
     "duration": 0.093729,
     "end_time": "2021-02-22T21:25:17.852320",
     "exception": false,
     "start_time": "2021-02-22T21:25:17.758591",
     "status": "completed"
    },
    "tags": []
   },
   "outputs": [
    {
     "data": {
      "text/html": [
       "<div>\n",
       "<style scoped>\n",
       "    .dataframe tbody tr th:only-of-type {\n",
       "        vertical-align: middle;\n",
       "    }\n",
       "\n",
       "    .dataframe tbody tr th {\n",
       "        vertical-align: top;\n",
       "    }\n",
       "\n",
       "    .dataframe thead th {\n",
       "        text-align: right;\n",
       "    }\n",
       "</style>\n",
       "<table border=\"1\" class=\"dataframe\">\n",
       "  <thead>\n",
       "    <tr style=\"text-align: right;\">\n",
       "      <th></th>\n",
       "      <th>ch_score</th>\n",
       "    </tr>\n",
       "    <tr>\n",
       "      <th>n_clusters</th>\n",
       "      <th></th>\n",
       "    </tr>\n",
       "  </thead>\n",
       "  <tbody>\n",
       "    <tr>\n",
       "      <th>2</th>\n",
       "      <td>209.860914</td>\n",
       "    </tr>\n",
       "    <tr>\n",
       "      <th>3</th>\n",
       "      <td>131.564051</td>\n",
       "    </tr>\n",
       "    <tr>\n",
       "      <th>4</th>\n",
       "      <td>97.555611</td>\n",
       "    </tr>\n",
       "    <tr>\n",
       "      <th>5</th>\n",
       "      <td>81.639661</td>\n",
       "    </tr>\n",
       "    <tr>\n",
       "      <th>6</th>\n",
       "      <td>78.534441</td>\n",
       "    </tr>\n",
       "    <tr>\n",
       "      <th>7</th>\n",
       "      <td>69.789170</td>\n",
       "    </tr>\n",
       "    <tr>\n",
       "      <th>8</th>\n",
       "      <td>64.134618</td>\n",
       "    </tr>\n",
       "    <tr>\n",
       "      <th>9</th>\n",
       "      <td>58.281060</td>\n",
       "    </tr>\n",
       "    <tr>\n",
       "      <th>10</th>\n",
       "      <td>53.599110</td>\n",
       "    </tr>\n",
       "    <tr>\n",
       "      <th>11</th>\n",
       "      <td>50.598672</td>\n",
       "    </tr>\n",
       "    <tr>\n",
       "      <th>12</th>\n",
       "      <td>47.729811</td>\n",
       "    </tr>\n",
       "    <tr>\n",
       "      <th>13</th>\n",
       "      <td>45.060680</td>\n",
       "    </tr>\n",
       "    <tr>\n",
       "      <th>14</th>\n",
       "      <td>43.155961</td>\n",
       "    </tr>\n",
       "    <tr>\n",
       "      <th>15</th>\n",
       "      <td>41.319209</td>\n",
       "    </tr>\n",
       "    <tr>\n",
       "      <th>16</th>\n",
       "      <td>39.885876</td>\n",
       "    </tr>\n",
       "    <tr>\n",
       "      <th>17</th>\n",
       "      <td>37.796773</td>\n",
       "    </tr>\n",
       "    <tr>\n",
       "      <th>18</th>\n",
       "      <td>36.008211</td>\n",
       "    </tr>\n",
       "    <tr>\n",
       "      <th>19</th>\n",
       "      <td>35.136883</td>\n",
       "    </tr>\n",
       "    <tr>\n",
       "      <th>20</th>\n",
       "      <td>33.163771</td>\n",
       "    </tr>\n",
       "    <tr>\n",
       "      <th>21</th>\n",
       "      <td>32.311731</td>\n",
       "    </tr>\n",
       "    <tr>\n",
       "      <th>22</th>\n",
       "      <td>31.224764</td>\n",
       "    </tr>\n",
       "    <tr>\n",
       "      <th>23</th>\n",
       "      <td>30.147374</td>\n",
       "    </tr>\n",
       "    <tr>\n",
       "      <th>24</th>\n",
       "      <td>29.179078</td>\n",
       "    </tr>\n",
       "    <tr>\n",
       "      <th>25</th>\n",
       "      <td>28.466967</td>\n",
       "    </tr>\n",
       "    <tr>\n",
       "      <th>26</th>\n",
       "      <td>27.712120</td>\n",
       "    </tr>\n",
       "    <tr>\n",
       "      <th>27</th>\n",
       "      <td>26.696877</td>\n",
       "    </tr>\n",
       "    <tr>\n",
       "      <th>28</th>\n",
       "      <td>26.179774</td>\n",
       "    </tr>\n",
       "    <tr>\n",
       "      <th>29</th>\n",
       "      <td>25.226274</td>\n",
       "    </tr>\n",
       "    <tr>\n",
       "      <th>30</th>\n",
       "      <td>24.801989</td>\n",
       "    </tr>\n",
       "    <tr>\n",
       "      <th>31</th>\n",
       "      <td>23.943784</td>\n",
       "    </tr>\n",
       "    <tr>\n",
       "      <th>32</th>\n",
       "      <td>23.550077</td>\n",
       "    </tr>\n",
       "    <tr>\n",
       "      <th>33</th>\n",
       "      <td>23.159661</td>\n",
       "    </tr>\n",
       "    <tr>\n",
       "      <th>34</th>\n",
       "      <td>22.393791</td>\n",
       "    </tr>\n",
       "    <tr>\n",
       "      <th>35</th>\n",
       "      <td>22.129992</td>\n",
       "    </tr>\n",
       "    <tr>\n",
       "      <th>36</th>\n",
       "      <td>21.668424</td>\n",
       "    </tr>\n",
       "    <tr>\n",
       "      <th>37</th>\n",
       "      <td>21.126215</td>\n",
       "    </tr>\n",
       "    <tr>\n",
       "      <th>38</th>\n",
       "      <td>20.641790</td>\n",
       "    </tr>\n",
       "    <tr>\n",
       "      <th>39</th>\n",
       "      <td>20.217648</td>\n",
       "    </tr>\n",
       "    <tr>\n",
       "      <th>40</th>\n",
       "      <td>19.731877</td>\n",
       "    </tr>\n",
       "    <tr>\n",
       "      <th>41</th>\n",
       "      <td>19.620440</td>\n",
       "    </tr>\n",
       "    <tr>\n",
       "      <th>42</th>\n",
       "      <td>19.031633</td>\n",
       "    </tr>\n",
       "    <tr>\n",
       "      <th>43</th>\n",
       "      <td>18.826110</td>\n",
       "    </tr>\n",
       "    <tr>\n",
       "      <th>44</th>\n",
       "      <td>18.519581</td>\n",
       "    </tr>\n",
       "    <tr>\n",
       "      <th>45</th>\n",
       "      <td>18.363899</td>\n",
       "    </tr>\n",
       "    <tr>\n",
       "      <th>46</th>\n",
       "      <td>17.856975</td>\n",
       "    </tr>\n",
       "    <tr>\n",
       "      <th>47</th>\n",
       "      <td>17.472317</td>\n",
       "    </tr>\n",
       "    <tr>\n",
       "      <th>48</th>\n",
       "      <td>17.245039</td>\n",
       "    </tr>\n",
       "    <tr>\n",
       "      <th>49</th>\n",
       "      <td>17.067970</td>\n",
       "    </tr>\n",
       "    <tr>\n",
       "      <th>50</th>\n",
       "      <td>16.759115</td>\n",
       "    </tr>\n",
       "    <tr>\n",
       "      <th>51</th>\n",
       "      <td>16.545737</td>\n",
       "    </tr>\n",
       "    <tr>\n",
       "      <th>52</th>\n",
       "      <td>16.360931</td>\n",
       "    </tr>\n",
       "    <tr>\n",
       "      <th>53</th>\n",
       "      <td>16.082987</td>\n",
       "    </tr>\n",
       "    <tr>\n",
       "      <th>54</th>\n",
       "      <td>15.742748</td>\n",
       "    </tr>\n",
       "    <tr>\n",
       "      <th>55</th>\n",
       "      <td>15.556527</td>\n",
       "    </tr>\n",
       "    <tr>\n",
       "      <th>56</th>\n",
       "      <td>15.415207</td>\n",
       "    </tr>\n",
       "    <tr>\n",
       "      <th>57</th>\n",
       "      <td>15.186392</td>\n",
       "    </tr>\n",
       "    <tr>\n",
       "      <th>58</th>\n",
       "      <td>14.925388</td>\n",
       "    </tr>\n",
       "    <tr>\n",
       "      <th>59</th>\n",
       "      <td>14.772694</td>\n",
       "    </tr>\n",
       "    <tr>\n",
       "      <th>60</th>\n",
       "      <td>14.603690</td>\n",
       "    </tr>\n",
       "  </tbody>\n",
       "</table>\n",
       "</div>"
      ],
      "text/plain": [
       "              ch_score\n",
       "n_clusters            \n",
       "2           209.860914\n",
       "3           131.564051\n",
       "4            97.555611\n",
       "5            81.639661\n",
       "6            78.534441\n",
       "7            69.789170\n",
       "8            64.134618\n",
       "9            58.281060\n",
       "10           53.599110\n",
       "11           50.598672\n",
       "12           47.729811\n",
       "13           45.060680\n",
       "14           43.155961\n",
       "15           41.319209\n",
       "16           39.885876\n",
       "17           37.796773\n",
       "18           36.008211\n",
       "19           35.136883\n",
       "20           33.163771\n",
       "21           32.311731\n",
       "22           31.224764\n",
       "23           30.147374\n",
       "24           29.179078\n",
       "25           28.466967\n",
       "26           27.712120\n",
       "27           26.696877\n",
       "28           26.179774\n",
       "29           25.226274\n",
       "30           24.801989\n",
       "31           23.943784\n",
       "32           23.550077\n",
       "33           23.159661\n",
       "34           22.393791\n",
       "35           22.129992\n",
       "36           21.668424\n",
       "37           21.126215\n",
       "38           20.641790\n",
       "39           20.217648\n",
       "40           19.731877\n",
       "41           19.620440\n",
       "42           19.031633\n",
       "43           18.826110\n",
       "44           18.519581\n",
       "45           18.363899\n",
       "46           17.856975\n",
       "47           17.472317\n",
       "48           17.245039\n",
       "49           17.067970\n",
       "50           16.759115\n",
       "51           16.545737\n",
       "52           16.360931\n",
       "53           16.082987\n",
       "54           15.742748\n",
       "55           15.556527\n",
       "56           15.415207\n",
       "57           15.186392\n",
       "58           14.925388\n",
       "59           14.772694\n",
       "60           14.603690"
      ]
     },
     "metadata": {},
     "output_type": "display_data"
    }
   ],
   "source": [
    "with pd.option_context(\"display.max_rows\", None, \"display.max_columns\", None):\n",
    "    _df = ensemble.groupby([\"n_clusters\"]).mean()\n",
    "    display(_df)"
   ]
  },
  {
   "cell_type": "code",
   "execution_count": 40,
   "metadata": {
    "execution": {
     "iopub.execute_input": "2021-02-22T21:25:18.006347Z",
     "iopub.status.busy": "2021-02-22T21:25:18.005979Z",
     "iopub.status.idle": "2021-02-22T21:25:20.914411Z",
     "shell.execute_reply": "2021-02-22T21:25:20.914025Z"
    },
    "papermill": {
     "duration": 2.986704,
     "end_time": "2021-02-22T21:25:20.914504",
     "exception": false,
     "start_time": "2021-02-22T21:25:17.927800",
     "status": "completed"
    },
    "tags": []
   },
   "outputs": [
    {
     "data": {
      "image/png": "[encoded data removed]",
      "text/plain": [
       "<Figure size 1008x432 with 1 Axes>"
      ]
     },
     "metadata": {},
     "output_type": "display_data"
    }
   ],
   "source": [
    "with sns.plotting_context(\"talk\", font_scale=0.75), sns.axes_style(\n",
    "    \"whitegrid\", {\"grid.linestyle\": \"--\"}\n",
    "):\n",
    "    fig = plt.figure(figsize=(14, 6))\n",
    "    ax = sns.pointplot(data=ensemble, x=\"n_clusters\", y=\"ch_score\")\n",
    "    ax.set_ylabel(\"Calinski-Harabasz index\")\n",
    "    ax.set_xlabel(\"Number of clusters ($k$)\")\n",
    "    ax.set_xticklabels(ax.get_xticklabels(), rotation=45)\n",
    "    plt.grid(True)\n",
    "    plt.tight_layout()"
   ]
  },
  {
   "cell_type": "markdown",
   "metadata": {
    "papermill": {
     "duration": 0.076902,
     "end_time": "2021-02-22T21:25:21.068566",
     "exception": false,
     "start_time": "2021-02-22T21:25:20.991664",
     "status": "completed"
    },
    "tags": []
   },
   "source": [
    "# Stability"
   ]
  },
  {
   "cell_type": "markdown",
   "metadata": {
    "papermill": {
     "duration": 0.076231,
     "end_time": "2021-02-22T21:25:21.220671",
     "exception": false,
     "start_time": "2021-02-22T21:25:21.144440",
     "status": "completed"
    },
    "tags": []
   },
   "source": [
    "## Group ensemble by n_clusters"
   ]
  },
  {
   "cell_type": "code",
   "execution_count": 41,
   "metadata": {
    "execution": {
     "iopub.execute_input": "2021-02-22T21:25:21.377108Z",
     "iopub.status.busy": "2021-02-22T21:25:21.376683Z",
     "iopub.status.idle": "2021-02-22T21:25:21.401948Z",
     "shell.execute_reply": "2021-02-22T21:25:21.401580Z"
    },
    "papermill": {
     "duration": 0.104511,
     "end_time": "2021-02-22T21:25:21.402036",
     "exception": false,
     "start_time": "2021-02-22T21:25:21.297525",
     "status": "completed"
    },
    "tags": []
   },
   "outputs": [],
   "source": [
    "parts = ensemble.groupby(\"n_clusters\").apply(\n",
    "    lambda x: np.concatenate(x[\"partition\"].apply(lambda x: x.reshape(1, -1)), axis=0)\n",
    ")"
   ]
  },
  {
   "cell_type": "code",
   "execution_count": 42,
   "metadata": {
    "execution": {
     "iopub.execute_input": "2021-02-22T21:25:21.557092Z",
     "iopub.status.busy": "2021-02-22T21:25:21.556668Z",
     "iopub.status.idle": "2021-02-22T21:25:21.580275Z",
     "shell.execute_reply": "2021-02-22T21:25:21.579935Z"
    },
    "papermill": {
     "duration": 0.102324,
     "end_time": "2021-02-22T21:25:21.580363",
     "exception": false,
     "start_time": "2021-02-22T21:25:21.478039",
     "status": "completed"
    },
    "tags": []
   },
   "outputs": [
    {
     "data": {
      "text/plain": [
       "n_clusters\n",
       "2    [[1.0, 1.0, 1.0, 1.0, 1.0, 1.0, 1.0, 1.0, 1.0,...\n",
       "3    [[0.0, 0.0, 0.0, 0.0, 0.0, 0.0, 0.0, 0.0, 0.0,...\n",
       "4    [[0.0, 0.0, 0.0, 0.0, 0.0, 0.0, 0.0, 0.0, 0.0,...\n",
       "5    [[0.0, 0.0, 0.0, 0.0, 0.0, 0.0, 0.0, 0.0, 0.0,...\n",
       "6    [[0.0, 0.0, 0.0, 0.0, 0.0, 0.0, 0.0, 0.0, 0.0,...\n",
       "dtype: object"
      ]
     },
     "execution_count": 42,
     "metadata": {},
     "output_type": "execute_result"
    }
   ],
   "source": [
    "parts.head()"
   ]
  },
  {
   "cell_type": "code",
   "execution_count": 43,
   "metadata": {
    "execution": {
     "iopub.execute_input": "2021-02-22T21:25:21.739273Z",
     "iopub.status.busy": "2021-02-22T21:25:21.738861Z",
     "iopub.status.idle": "2021-02-22T21:25:21.751220Z",
     "shell.execute_reply": "2021-02-22T21:25:21.750873Z"
    },
    "papermill": {
     "duration": 0.093163,
     "end_time": "2021-02-22T21:25:21.751315",
     "exception": false,
     "start_time": "2021-02-22T21:25:21.658152",
     "status": "completed"
    },
    "tags": []
   },
   "outputs": [],
   "source": [
    "assert np.all(\n",
    "    [\n",
    "        parts.loc[k].shape == (CLUSTERING_OPTIONS[\"N_REPS_PER_K\"], data.shape[0])\n",
    "        for k in parts.index\n",
    "    ]\n",
    ")"
   ]
  },
  {
   "cell_type": "markdown",
   "metadata": {
    "papermill": {
     "duration": 0.076004,
     "end_time": "2021-02-22T21:25:21.905596",
     "exception": false,
     "start_time": "2021-02-22T21:25:21.829592",
     "status": "completed"
    },
    "tags": []
   },
   "source": [
    "## Compute stability"
   ]
  },
  {
   "cell_type": "code",
   "execution_count": 44,
   "metadata": {
    "execution": {
     "iopub.execute_input": "2021-02-22T21:25:22.061155Z",
     "iopub.status.busy": "2021-02-22T21:25:22.060776Z",
     "iopub.status.idle": "2021-02-22T21:25:22.071953Z",
     "shell.execute_reply": "2021-02-22T21:25:22.071580Z"
    },
    "papermill": {
     "duration": 0.089768,
     "end_time": "2021-02-22T21:25:22.072041",
     "exception": false,
     "start_time": "2021-02-22T21:25:21.982273",
     "status": "completed"
    },
    "tags": []
   },
   "outputs": [],
   "source": [
    "from sklearn.metrics import adjusted_rand_score as ari\n",
    "from scipy.spatial.distance import pdist"
   ]
  },
  {
   "cell_type": "code",
   "execution_count": 45,
   "metadata": {
    "execution": {
     "iopub.execute_input": "2021-02-22T21:25:22.228404Z",
     "iopub.status.busy": "2021-02-22T21:25:22.228034Z",
     "iopub.status.idle": "2021-02-22T21:25:22.916061Z",
     "shell.execute_reply": "2021-02-22T21:25:22.915551Z"
    },
    "papermill": {
     "duration": 0.767773,
     "end_time": "2021-02-22T21:25:22.916176",
     "exception": false,
     "start_time": "2021-02-22T21:25:22.148403",
     "status": "completed"
    },
    "tags": []
   },
   "outputs": [],
   "source": [
    "parts_ari = pd.Series(\n",
    "    {k: pdist(parts.loc[k], metric=ari) for k in parts.index}, name=\"k\"\n",
    ")"
   ]
  },
  {
   "cell_type": "code",
   "execution_count": 46,
   "metadata": {
    "execution": {
     "iopub.execute_input": "2021-02-22T21:25:23.084955Z",
     "iopub.status.busy": "2021-02-22T21:25:23.084539Z",
     "iopub.status.idle": "2021-02-22T21:25:23.097854Z",
     "shell.execute_reply": "2021-02-22T21:25:23.097502Z"
    },
    "papermill": {
     "duration": 0.092533,
     "end_time": "2021-02-22T21:25:23.097940",
     "exception": false,
     "start_time": "2021-02-22T21:25:23.005407",
     "status": "completed"
    },
    "tags": []
   },
   "outputs": [
    {
     "data": {
      "text/plain": [
       "2     1.000000\n",
       "3     1.000000\n",
       "4     1.000000\n",
       "6     1.000000\n",
       "8     0.998945\n",
       "9     0.997515\n",
       "5     0.997443\n",
       "10    0.995146\n",
       "7     0.991709\n",
       "13    0.978944\n",
       "11    0.974260\n",
       "12    0.973695\n",
       "16    0.678775\n",
       "14    0.641453\n",
       "15    0.630857\n",
       "Name: k, dtype: float64"
      ]
     },
     "metadata": {},
     "output_type": "display_data"
    }
   ],
   "source": [
    "parts_ari_stability = parts_ari.apply(lambda x: x.mean())\n",
    "display(parts_ari_stability.sort_values(ascending=False).head(15))"
   ]
  },
  {
   "cell_type": "code",
   "execution_count": 47,
   "metadata": {
    "execution": {
     "iopub.execute_input": "2021-02-22T21:25:23.253867Z",
     "iopub.status.busy": "2021-02-22T21:25:23.253509Z",
     "iopub.status.idle": "2021-02-22T21:25:23.265336Z",
     "shell.execute_reply": "2021-02-22T21:25:23.264978Z"
    },
    "papermill": {
     "duration": 0.090756,
     "end_time": "2021-02-22T21:25:23.265464",
     "exception": false,
     "start_time": "2021-02-22T21:25:23.174708",
     "status": "completed"
    },
    "tags": []
   },
   "outputs": [],
   "source": [
    "parts_ari_df = pd.DataFrame.from_records(parts_ari.tolist()).set_index(\n",
    "    parts_ari.index.copy()\n",
    ")"
   ]
  },
  {
   "cell_type": "code",
   "execution_count": 48,
   "metadata": {
    "execution": {
     "iopub.execute_input": "2021-02-22T21:25:23.421366Z",
     "iopub.status.busy": "2021-02-22T21:25:23.421005Z",
     "iopub.status.idle": "2021-02-22T21:25:23.432612Z",
     "shell.execute_reply": "2021-02-22T21:25:23.432242Z"
    },
    "papermill": {
     "duration": 0.090374,
     "end_time": "2021-02-22T21:25:23.432728",
     "exception": false,
     "start_time": "2021-02-22T21:25:23.342354",
     "status": "completed"
    },
    "tags": []
   },
   "outputs": [
    {
     "data": {
      "text/plain": [
       "(59, 10)"
      ]
     },
     "execution_count": 48,
     "metadata": {},
     "output_type": "execute_result"
    }
   ],
   "source": [
    "parts_ari_df.shape"
   ]
  },
  {
   "cell_type": "code",
   "execution_count": 49,
   "metadata": {
    "execution": {
     "iopub.execute_input": "2021-02-22T21:25:23.590073Z",
     "iopub.status.busy": "2021-02-22T21:25:23.589707Z",
     "iopub.status.idle": "2021-02-22T21:25:23.600298Z",
     "shell.execute_reply": "2021-02-22T21:25:23.599986Z"
    },
    "papermill": {
     "duration": 0.090347,
     "end_time": "2021-02-22T21:25:23.600386",
     "exception": false,
     "start_time": "2021-02-22T21:25:23.510039",
     "status": "completed"
    },
    "tags": []
   },
   "outputs": [],
   "source": [
    "assert (\n",
    "    int(\n",
    "        (CLUSTERING_OPTIONS[\"N_REPS_PER_K\"] * (CLUSTERING_OPTIONS[\"N_REPS_PER_K\"] - 1))\n",
    "        / 2\n",
    "    )\n",
    "    == parts_ari_df.shape[1]\n",
    ")"
   ]
  },
  {
   "cell_type": "code",
   "execution_count": 50,
   "metadata": {
    "execution": {
     "iopub.execute_input": "2021-02-22T21:25:23.757769Z",
     "iopub.status.busy": "2021-02-22T21:25:23.757358Z",
     "iopub.status.idle": "2021-02-22T21:25:23.775936Z",
     "shell.execute_reply": "2021-02-22T21:25:23.775564Z"
    },
    "papermill": {
     "duration": 0.098812,
     "end_time": "2021-02-22T21:25:23.776024",
     "exception": false,
     "start_time": "2021-02-22T21:25:23.677212",
     "status": "completed"
    },
    "tags": []
   },
   "outputs": [
    {
     "data": {
      "text/html": [
       "<div>\n",
       "<style scoped>\n",
       "    .dataframe tbody tr th:only-of-type {\n",
       "        vertical-align: middle;\n",
       "    }\n",
       "\n",
       "    .dataframe tbody tr th {\n",
       "        vertical-align: top;\n",
       "    }\n",
       "\n",
       "    .dataframe thead th {\n",
       "        text-align: right;\n",
       "    }\n",
       "</style>\n",
       "<table border=\"1\" class=\"dataframe\">\n",
       "  <thead>\n",
       "    <tr style=\"text-align: right;\">\n",
       "      <th></th>\n",
       "      <th>0</th>\n",
       "      <th>1</th>\n",
       "      <th>2</th>\n",
       "      <th>3</th>\n",
       "      <th>4</th>\n",
       "      <th>5</th>\n",
       "      <th>6</th>\n",
       "      <th>7</th>\n",
       "      <th>8</th>\n",
       "      <th>9</th>\n",
       "    </tr>\n",
       "  </thead>\n",
       "  <tbody>\n",
       "    <tr>\n",
       "      <th>2</th>\n",
       "      <td>1.0</td>\n",
       "      <td>1.0</td>\n",
       "      <td>1.0</td>\n",
       "      <td>1.000000</td>\n",
       "      <td>1.0</td>\n",
       "      <td>1.0</td>\n",
       "      <td>1.000000</td>\n",
       "      <td>1.0</td>\n",
       "      <td>1.000000</td>\n",
       "      <td>1.000000</td>\n",
       "    </tr>\n",
       "    <tr>\n",
       "      <th>3</th>\n",
       "      <td>1.0</td>\n",
       "      <td>1.0</td>\n",
       "      <td>1.0</td>\n",
       "      <td>1.000000</td>\n",
       "      <td>1.0</td>\n",
       "      <td>1.0</td>\n",
       "      <td>1.000000</td>\n",
       "      <td>1.0</td>\n",
       "      <td>1.000000</td>\n",
       "      <td>1.000000</td>\n",
       "    </tr>\n",
       "    <tr>\n",
       "      <th>4</th>\n",
       "      <td>1.0</td>\n",
       "      <td>1.0</td>\n",
       "      <td>1.0</td>\n",
       "      <td>1.000000</td>\n",
       "      <td>1.0</td>\n",
       "      <td>1.0</td>\n",
       "      <td>1.000000</td>\n",
       "      <td>1.0</td>\n",
       "      <td>1.000000</td>\n",
       "      <td>1.000000</td>\n",
       "    </tr>\n",
       "    <tr>\n",
       "      <th>5</th>\n",
       "      <td>1.0</td>\n",
       "      <td>1.0</td>\n",
       "      <td>1.0</td>\n",
       "      <td>0.993607</td>\n",
       "      <td>1.0</td>\n",
       "      <td>1.0</td>\n",
       "      <td>0.993607</td>\n",
       "      <td>1.0</td>\n",
       "      <td>0.993607</td>\n",
       "      <td>0.993607</td>\n",
       "    </tr>\n",
       "    <tr>\n",
       "      <th>6</th>\n",
       "      <td>1.0</td>\n",
       "      <td>1.0</td>\n",
       "      <td>1.0</td>\n",
       "      <td>1.000000</td>\n",
       "      <td>1.0</td>\n",
       "      <td>1.0</td>\n",
       "      <td>1.000000</td>\n",
       "      <td>1.0</td>\n",
       "      <td>1.000000</td>\n",
       "      <td>1.000000</td>\n",
       "    </tr>\n",
       "  </tbody>\n",
       "</table>\n",
       "</div>"
      ],
      "text/plain": [
       "     0    1    2         3    4    5         6    7         8         9\n",
       "2  1.0  1.0  1.0  1.000000  1.0  1.0  1.000000  1.0  1.000000  1.000000\n",
       "3  1.0  1.0  1.0  1.000000  1.0  1.0  1.000000  1.0  1.000000  1.000000\n",
       "4  1.0  1.0  1.0  1.000000  1.0  1.0  1.000000  1.0  1.000000  1.000000\n",
       "5  1.0  1.0  1.0  0.993607  1.0  1.0  0.993607  1.0  0.993607  0.993607\n",
       "6  1.0  1.0  1.0  1.000000  1.0  1.0  1.000000  1.0  1.000000  1.000000"
      ]
     },
     "execution_count": 50,
     "metadata": {},
     "output_type": "execute_result"
    }
   ],
   "source": [
    "parts_ari_df.head()"
   ]
  },
  {
   "cell_type": "markdown",
   "metadata": {
    "papermill": {
     "duration": 0.077116,
     "end_time": "2021-02-22T21:25:23.932029",
     "exception": false,
     "start_time": "2021-02-22T21:25:23.854913",
     "status": "completed"
    },
    "tags": []
   },
   "source": [
    "## Save"
   ]
  },
  {
   "cell_type": "code",
   "execution_count": 51,
   "metadata": {
    "execution": {
     "iopub.execute_input": "2021-02-22T21:25:24.089670Z",
     "iopub.status.busy": "2021-02-22T21:25:24.089309Z",
     "iopub.status.idle": "2021-02-22T21:25:24.101400Z",
     "shell.execute_reply": "2021-02-22T21:25:24.101085Z"
    },
    "papermill": {
     "duration": 0.092285,
     "end_time": "2021-02-22T21:25:24.101487",
     "exception": false,
     "start_time": "2021-02-22T21:25:24.009202",
     "status": "completed"
    },
    "tags": []
   },
   "outputs": [
    {
     "data": {
      "text/plain": [
       "PosixPath('/home/miltondp/projects/labs/greenelab/phenoplier/base3/results/clustering/runs/z_score_std-projection-smultixcan-efo_partial-mashr-zscores/SpectralClustering-stability-AFFINITY_rbf-GAMMA_1e_10-KMEANS_N_INIT_10-K_MAX_60-K_MIN_2-N_REPS_PER_K_5.pkl')"
      ]
     },
     "metadata": {},
     "output_type": "display_data"
    }
   ],
   "source": [
    "output_filename = Path(\n",
    "    RESULTS_DIR,\n",
    "    generate_result_set_name(\n",
    "        CLUSTERING_OPTIONS,\n",
    "        prefix=f\"{clustering_method_name}-stability-\",\n",
    "        suffix=\".pkl\",\n",
    "    ),\n",
    ").resolve()\n",
    "display(output_filename)"
   ]
  },
  {
   "cell_type": "code",
   "execution_count": 52,
   "metadata": {
    "execution": {
     "iopub.execute_input": "2021-02-22T21:25:24.260060Z",
     "iopub.status.busy": "2021-02-22T21:25:24.259707Z",
     "iopub.status.idle": "2021-02-22T21:25:24.270530Z",
     "shell.execute_reply": "2021-02-22T21:25:24.270837Z"
    },
    "papermill": {
     "duration": 0.090667,
     "end_time": "2021-02-22T21:25:24.270949",
     "exception": false,
     "start_time": "2021-02-22T21:25:24.180282",
     "status": "completed"
    },
    "tags": []
   },
   "outputs": [],
   "source": [
    "parts_ari_df.to_pickle(output_filename)"
   ]
  },
  {
   "cell_type": "markdown",
   "metadata": {
    "papermill": {
     "duration": 0.076951,
     "end_time": "2021-02-22T21:25:24.426224",
     "exception": false,
     "start_time": "2021-02-22T21:25:24.349273",
     "status": "completed"
    },
    "tags": []
   },
   "source": [
    "## Stability plot"
   ]
  },
  {
   "cell_type": "code",
   "execution_count": 53,
   "metadata": {
    "execution": {
     "iopub.execute_input": "2021-02-22T21:25:24.591813Z",
     "iopub.status.busy": "2021-02-22T21:25:24.591456Z",
     "iopub.status.idle": "2021-02-22T21:25:24.604205Z",
     "shell.execute_reply": "2021-02-22T21:25:24.603896Z"
    },
    "papermill": {
     "duration": 0.09643,
     "end_time": "2021-02-22T21:25:24.604299",
     "exception": false,
     "start_time": "2021-02-22T21:25:24.507869",
     "status": "completed"
    },
    "tags": []
   },
   "outputs": [],
   "source": [
    "parts_ari_df_plot = (\n",
    "    parts_ari_df.stack()\n",
    "    .reset_index()\n",
    "    .rename(columns={\"level_0\": \"k\", \"level_1\": \"idx\", 0: \"ari\"})\n",
    ")"
   ]
  },
  {
   "cell_type": "code",
   "execution_count": 54,
   "metadata": {
    "execution": {
     "iopub.execute_input": "2021-02-22T21:25:24.769173Z",
     "iopub.status.busy": "2021-02-22T21:25:24.766073Z",
     "iopub.status.idle": "2021-02-22T21:25:24.779003Z",
     "shell.execute_reply": "2021-02-22T21:25:24.778645Z"
    },
    "papermill": {
     "duration": 0.094861,
     "end_time": "2021-02-22T21:25:24.779095",
     "exception": false,
     "start_time": "2021-02-22T21:25:24.684234",
     "status": "completed"
    },
    "tags": []
   },
   "outputs": [
    {
     "data": {
      "text/plain": [
       "k        int64\n",
       "idx      int64\n",
       "ari    float64\n",
       "dtype: object"
      ]
     },
     "execution_count": 54,
     "metadata": {},
     "output_type": "execute_result"
    }
   ],
   "source": [
    "parts_ari_df_plot.dtypes"
   ]
  },
  {
   "cell_type": "code",
   "execution_count": 55,
   "metadata": {
    "execution": {
     "iopub.execute_input": "2021-02-22T21:25:24.939649Z",
     "iopub.status.busy": "2021-02-22T21:25:24.939244Z",
     "iopub.status.idle": "2021-02-22T21:25:24.953287Z",
     "shell.execute_reply": "2021-02-22T21:25:24.952941Z"
    },
    "papermill": {
     "duration": 0.094692,
     "end_time": "2021-02-22T21:25:24.953377",
     "exception": false,
     "start_time": "2021-02-22T21:25:24.858685",
     "status": "completed"
    },
    "tags": []
   },
   "outputs": [
    {
     "data": {
      "text/html": [
       "<div>\n",
       "<style scoped>\n",
       "    .dataframe tbody tr th:only-of-type {\n",
       "        vertical-align: middle;\n",
       "    }\n",
       "\n",
       "    .dataframe tbody tr th {\n",
       "        vertical-align: top;\n",
       "    }\n",
       "\n",
       "    .dataframe thead th {\n",
       "        text-align: right;\n",
       "    }\n",
       "</style>\n",
       "<table border=\"1\" class=\"dataframe\">\n",
       "  <thead>\n",
       "    <tr style=\"text-align: right;\">\n",
       "      <th></th>\n",
       "      <th>k</th>\n",
       "      <th>idx</th>\n",
       "      <th>ari</th>\n",
       "    </tr>\n",
       "  </thead>\n",
       "  <tbody>\n",
       "    <tr>\n",
       "      <th>0</th>\n",
       "      <td>2</td>\n",
       "      <td>0</td>\n",
       "      <td>1.0</td>\n",
       "    </tr>\n",
       "    <tr>\n",
       "      <th>1</th>\n",
       "      <td>2</td>\n",
       "      <td>1</td>\n",
       "      <td>1.0</td>\n",
       "    </tr>\n",
       "    <tr>\n",
       "      <th>2</th>\n",
       "      <td>2</td>\n",
       "      <td>2</td>\n",
       "      <td>1.0</td>\n",
       "    </tr>\n",
       "    <tr>\n",
       "      <th>3</th>\n",
       "      <td>2</td>\n",
       "      <td>3</td>\n",
       "      <td>1.0</td>\n",
       "    </tr>\n",
       "    <tr>\n",
       "      <th>4</th>\n",
       "      <td>2</td>\n",
       "      <td>4</td>\n",
       "      <td>1.0</td>\n",
       "    </tr>\n",
       "  </tbody>\n",
       "</table>\n",
       "</div>"
      ],
      "text/plain": [
       "   k  idx  ari\n",
       "0  2    0  1.0\n",
       "1  2    1  1.0\n",
       "2  2    2  1.0\n",
       "3  2    3  1.0\n",
       "4  2    4  1.0"
      ]
     },
     "execution_count": 55,
     "metadata": {},
     "output_type": "execute_result"
    }
   ],
   "source": [
    "parts_ari_df_plot.head()"
   ]
  },
  {
   "cell_type": "code",
   "execution_count": 56,
   "metadata": {
    "execution": {
     "iopub.execute_input": "2021-02-22T21:25:25.117322Z",
     "iopub.status.busy": "2021-02-22T21:25:25.116953Z",
     "iopub.status.idle": "2021-02-22T21:25:27.757383Z",
     "shell.execute_reply": "2021-02-22T21:25:27.757027Z"
    },
    "papermill": {
     "duration": 2.723403,
     "end_time": "2021-02-22T21:25:27.757476",
     "exception": false,
     "start_time": "2021-02-22T21:25:25.034073",
     "status": "completed"
    },
    "tags": []
   },
   "outputs": [
    {
     "data": {
      "image/png": "[encoded data removed]",
      "text/plain": [
       "<Figure size 1008x432 with 1 Axes>"
      ]
     },
     "metadata": {},
     "output_type": "display_data"
    }
   ],
   "source": [
    "# with sns.axes_style('whitegrid', {'grid.linestyle': '--'}):\n",
    "with sns.plotting_context(\"talk\", font_scale=0.75), sns.axes_style(\n",
    "    \"whitegrid\", {\"grid.linestyle\": \"--\"}\n",
    "):\n",
    "    fig = plt.figure(figsize=(14, 6))\n",
    "    ax = sns.pointplot(data=parts_ari_df_plot, x=\"k\", y=\"ari\")\n",
    "    ax.set_ylabel(\"Averange ARI\")\n",
    "    ax.set_xlabel(\"Number of clusters ($k$)\")\n",
    "    ax.set_xticklabels(ax.get_xticklabels(), rotation=45)\n",
    "    #     ax.set_ylim(0.0, 1.0)\n",
    "    #     ax.set_xlim(CLUSTERING_OPTIONS['K_MIN'], CLUSTERING_OPTIONS['K_MAX'])\n",
    "    plt.grid(True)\n",
    "    plt.tight_layout()"
   ]
  },
  {
   "cell_type": "code",
   "execution_count": null,
   "metadata": {
    "papermill": {
     "duration": 0.079391,
     "end_time": "2021-02-22T21:25:27.920654",
     "exception": false,
     "start_time": "2021-02-22T21:25:27.841263",
     "status": "completed"
    },
    "tags": []
   },
   "outputs": [],
   "source": []
  }
 ],
 "metadata": {
  "jupytext": {
   "cell_metadata_filter": "all,-execution,-papermill",
   "formats": "ipynb,py//py:percent"
  },
  "kernelspec": {
   "display_name": "Python 3",
   "language": "python",
   "name": "python3"
  },
  "language_info": {
   "codemirror_mode": {
    "name": "ipython",
    "version": 3
   },
   "file_extension": ".py",
   "mimetype": "text/x-python",
   "name": "python",
   "nbconvert_exporter": "python",
   "pygments_lexer": "ipython3",
   "version": "3.8.6"
  },
  "papermill": {
   "default_parameters": {},
   "duration": 817.757163,
   "end_time": "2021-02-22T21:25:28.408197",
   "environment_variables": {},
   "exception": null,
   "input_path": "15_cluster_analysis/001_00-spectral-z_score_std.ipynb",
   "output_path": "15_cluster_analysis/001_00-spectral-z_score_std.run.ipynb",
   "parameters": {},
   "start_time": "2021-02-22T21:11:50.651034",
   "version": "2.2.2"
  },
  "toc-autonumbering": true,
  "toc-showcode": false,
  "toc-showmarkdowntxt": false,
  "toc-showtags": false
 },
 "nbformat": 4,
 "nbformat_minor": 4
}
