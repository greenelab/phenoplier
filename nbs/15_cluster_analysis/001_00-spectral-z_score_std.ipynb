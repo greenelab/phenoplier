{
 "cells": [
  {
   "cell_type": "markdown",
   "metadata": {
    "papermill": {
     "duration": 0.060994,
     "end_time": "2021-01-12T07:17:40.805157",
     "exception": false,
     "start_time": "2021-01-12T07:17:40.744163",
     "status": "completed"
    },
    "tags": []
   },
   "source": [
    "# Description"
   ]
  },
  {
   "cell_type": "markdown",
   "metadata": {
    "papermill": {
     "duration": 0.022367,
     "end_time": "2021-01-12T07:17:40.850582",
     "exception": false,
     "start_time": "2021-01-12T07:17:40.828215",
     "status": "completed"
    },
    "tags": []
   },
   "source": [
    "Runs spectral clustering on the z_score_std version of the data."
   ]
  },
  {
   "cell_type": "markdown",
   "metadata": {
    "papermill": {
     "duration": 0.023113,
     "end_time": "2021-01-12T07:17:40.896051",
     "exception": false,
     "start_time": "2021-01-12T07:17:40.872938",
     "status": "completed"
    },
    "tags": []
   },
   "source": [
    "# Environment variables"
   ]
  },
  {
   "cell_type": "code",
   "execution_count": 1,
   "metadata": {
    "execution": {
     "iopub.execute_input": "2021-01-12T07:17:40.944841Z",
     "iopub.status.busy": "2021-01-12T07:17:40.944409Z",
     "iopub.status.idle": "2021-01-12T07:17:40.955151Z",
     "shell.execute_reply": "2021-01-12T07:17:40.954720Z"
    },
    "papermill": {
     "duration": 0.036384,
     "end_time": "2021-01-12T07:17:40.955278",
     "exception": false,
     "start_time": "2021-01-12T07:17:40.918894",
     "status": "completed"
    },
    "tags": []
   },
   "outputs": [
    {
     "data": {
      "text/plain": [
       "3"
      ]
     },
     "metadata": {},
     "output_type": "display_data"
    }
   ],
   "source": [
    "from IPython.display import display\n",
    "\n",
    "import conf\n",
    "\n",
    "N_JOBS = conf.GENERAL[\"N_JOBS\"]\n",
    "display(N_JOBS)"
   ]
  },
  {
   "cell_type": "code",
   "execution_count": 2,
   "metadata": {
    "execution": {
     "iopub.execute_input": "2021-01-12T07:17:41.007065Z",
     "iopub.status.busy": "2021-01-12T07:17:41.006668Z",
     "iopub.status.idle": "2021-01-12T07:17:41.009024Z",
     "shell.execute_reply": "2021-01-12T07:17:41.008677Z"
    },
    "papermill": {
     "duration": 0.030095,
     "end_time": "2021-01-12T07:17:41.009114",
     "exception": false,
     "start_time": "2021-01-12T07:17:40.979019",
     "status": "completed"
    },
    "tags": []
   },
   "outputs": [
    {
     "name": "stdout",
     "output_type": "stream",
     "text": [
      "env: MKL_NUM_THREADS=3\n",
      "env: OPEN_BLAS_NUM_THREADS=3\n",
      "env: NUMEXPR_NUM_THREADS=3\n",
      "env: OMP_NUM_THREADS=3\n"
     ]
    }
   ],
   "source": [
    "%env MKL_NUM_THREADS=$N_JOBS\n",
    "%env OPEN_BLAS_NUM_THREADS=$N_JOBS\n",
    "%env NUMEXPR_NUM_THREADS=$N_JOBS\n",
    "%env OMP_NUM_THREADS=$N_JOBS"
   ]
  },
  {
   "cell_type": "markdown",
   "metadata": {
    "papermill": {
     "duration": 0.023374,
     "end_time": "2021-01-12T07:17:41.056722",
     "exception": false,
     "start_time": "2021-01-12T07:17:41.033348",
     "status": "completed"
    },
    "tags": []
   },
   "source": [
    "# Modules loading"
   ]
  },
  {
   "cell_type": "code",
   "execution_count": 3,
   "metadata": {
    "execution": {
     "iopub.execute_input": "2021-01-12T07:17:41.106728Z",
     "iopub.status.busy": "2021-01-12T07:17:41.106354Z",
     "iopub.status.idle": "2021-01-12T07:17:41.114337Z",
     "shell.execute_reply": "2021-01-12T07:17:41.113957Z"
    },
    "papermill": {
     "duration": 0.034072,
     "end_time": "2021-01-12T07:17:41.114426",
     "exception": false,
     "start_time": "2021-01-12T07:17:41.080354",
     "status": "completed"
    },
    "tags": []
   },
   "outputs": [],
   "source": [
    "%load_ext autoreload\n",
    "%autoreload 2"
   ]
  },
  {
   "cell_type": "code",
   "execution_count": 4,
   "metadata": {
    "execution": {
     "iopub.execute_input": "2021-01-12T07:17:41.164206Z",
     "iopub.status.busy": "2021-01-12T07:17:41.163832Z",
     "iopub.status.idle": "2021-01-12T07:17:41.724239Z",
     "shell.execute_reply": "2021-01-12T07:17:41.723828Z"
    },
    "papermill": {
     "duration": 0.586312,
     "end_time": "2021-01-12T07:17:41.724357",
     "exception": false,
     "start_time": "2021-01-12T07:17:41.138045",
     "status": "completed"
    },
    "tags": []
   },
   "outputs": [],
   "source": [
    "from pathlib import Path\n",
    "\n",
    "import numpy as np\n",
    "import pandas as pd\n",
    "import matplotlib.pyplot as plt\n",
    "import seaborn as sns\n",
    "\n",
    "from utils import generate_result_set_name"
   ]
  },
  {
   "cell_type": "markdown",
   "metadata": {
    "papermill": {
     "duration": 0.025783,
     "end_time": "2021-01-12T07:17:41.779825",
     "exception": false,
     "start_time": "2021-01-12T07:17:41.754042",
     "status": "completed"
    },
    "tags": []
   },
   "source": [
    "# Settings"
   ]
  },
  {
   "cell_type": "code",
   "execution_count": 5,
   "metadata": {
    "execution": {
     "iopub.execute_input": "2021-01-12T07:17:41.828192Z",
     "iopub.status.busy": "2021-01-12T07:17:41.827824Z",
     "iopub.status.idle": "2021-01-12T07:17:41.837531Z",
     "shell.execute_reply": "2021-01-12T07:17:41.837160Z"
    },
    "papermill": {
     "duration": 0.034918,
     "end_time": "2021-01-12T07:17:41.837618",
     "exception": false,
     "start_time": "2021-01-12T07:17:41.802700",
     "status": "completed"
    },
    "tags": []
   },
   "outputs": [],
   "source": [
    "INITIAL_RANDOM_STATE = 30000"
   ]
  },
  {
   "cell_type": "markdown",
   "metadata": {
    "papermill": {
     "duration": 0.022957,
     "end_time": "2021-01-12T07:17:41.883982",
     "exception": false,
     "start_time": "2021-01-12T07:17:41.861025",
     "status": "completed"
    },
    "tags": []
   },
   "source": [
    "## Input data"
   ]
  },
  {
   "cell_type": "code",
   "execution_count": 6,
   "metadata": {
    "execution": {
     "iopub.execute_input": "2021-01-12T07:17:41.932422Z",
     "iopub.status.busy": "2021-01-12T07:17:41.932062Z",
     "iopub.status.idle": "2021-01-12T07:17:41.941917Z",
     "shell.execute_reply": "2021-01-12T07:17:41.941585Z"
    },
    "papermill": {
     "duration": 0.035009,
     "end_time": "2021-01-12T07:17:41.942007",
     "exception": false,
     "start_time": "2021-01-12T07:17:41.906998",
     "status": "completed"
    },
    "tags": []
   },
   "outputs": [],
   "source": [
    "INPUT_SUBSET = \"z_score_std\""
   ]
  },
  {
   "cell_type": "code",
   "execution_count": 7,
   "metadata": {
    "execution": {
     "iopub.execute_input": "2021-01-12T07:17:41.992056Z",
     "iopub.status.busy": "2021-01-12T07:17:41.991685Z",
     "iopub.status.idle": "2021-01-12T07:17:42.001224Z",
     "shell.execute_reply": "2021-01-12T07:17:42.000842Z"
    },
    "papermill": {
     "duration": 0.03521,
     "end_time": "2021-01-12T07:17:42.001315",
     "exception": false,
     "start_time": "2021-01-12T07:17:41.966105",
     "status": "completed"
    },
    "tags": []
   },
   "outputs": [],
   "source": [
    "INPUT_STEM = \"projection-smultixcan-efo_partial-mashr-zscores\""
   ]
  },
  {
   "cell_type": "code",
   "execution_count": 8,
   "metadata": {
    "execution": {
     "iopub.execute_input": "2021-01-12T07:17:42.050453Z",
     "iopub.status.busy": "2021-01-12T07:17:42.050085Z",
     "iopub.status.idle": "2021-01-12T07:17:42.061388Z",
     "shell.execute_reply": "2021-01-12T07:17:42.061679Z"
    },
    "papermill": {
     "duration": 0.03706,
     "end_time": "2021-01-12T07:17:42.061793",
     "exception": false,
     "start_time": "2021-01-12T07:17:42.024733",
     "status": "completed"
    },
    "tags": []
   },
   "outputs": [
    {
     "data": {
      "text/plain": [
       "PosixPath('/home/miltondp/projects/labs/greenelab/phenoplier/base3/results/data_transformations/z_score_std/z_score_std-projection-smultixcan-efo_partial-mashr-zscores.pkl')"
      ]
     },
     "metadata": {},
     "output_type": "display_data"
    },
    {
     "data": {
      "text/plain": [
       "'z_score_std-projection-smultixcan-efo_partial-mashr-zscores'"
      ]
     },
     "metadata": {},
     "output_type": "display_data"
    }
   ],
   "source": [
    "input_filepath = Path(\n",
    "    conf.RESULTS[\"DATA_TRANSFORMATIONS_DIR\"],\n",
    "    INPUT_SUBSET,\n",
    "    f\"{INPUT_SUBSET}-{INPUT_STEM}.pkl\",\n",
    ").resolve()\n",
    "display(input_filepath)\n",
    "\n",
    "assert input_filepath.exists(), \"Input file does not exist\"\n",
    "\n",
    "input_filepath_stem = input_filepath.stem\n",
    "display(input_filepath_stem)"
   ]
  },
  {
   "cell_type": "markdown",
   "metadata": {
    "papermill": {
     "duration": 0.022991,
     "end_time": "2021-01-12T07:17:42.108517",
     "exception": false,
     "start_time": "2021-01-12T07:17:42.085526",
     "status": "completed"
    },
    "tags": []
   },
   "source": [
    "## Clustering"
   ]
  },
  {
   "cell_type": "code",
   "execution_count": 9,
   "metadata": {
    "execution": {
     "iopub.execute_input": "2021-01-12T07:17:42.157402Z",
     "iopub.status.busy": "2021-01-12T07:17:42.157037Z",
     "iopub.status.idle": "2021-01-12T07:17:42.286812Z",
     "shell.execute_reply": "2021-01-12T07:17:42.286432Z"
    },
    "papermill": {
     "duration": 0.155289,
     "end_time": "2021-01-12T07:17:42.286899",
     "exception": false,
     "start_time": "2021-01-12T07:17:42.131610",
     "status": "completed"
    },
    "tags": []
   },
   "outputs": [],
   "source": [
    "from sklearn.cluster import SpectralClustering"
   ]
  },
  {
   "cell_type": "code",
   "execution_count": 10,
   "metadata": {
    "execution": {
     "iopub.execute_input": "2021-01-12T07:17:42.336164Z",
     "iopub.status.busy": "2021-01-12T07:17:42.335801Z",
     "iopub.status.idle": "2021-01-12T07:17:42.346596Z",
     "shell.execute_reply": "2021-01-12T07:17:42.346236Z"
    },
    "papermill": {
     "duration": 0.03644,
     "end_time": "2021-01-12T07:17:42.346683",
     "exception": false,
     "start_time": "2021-01-12T07:17:42.310243",
     "status": "completed"
    },
    "tags": []
   },
   "outputs": [],
   "source": [
    "CLUSTERING_ATTRIBUTES_TO_SAVE = [\"n_clusters\"]"
   ]
  },
  {
   "cell_type": "code",
   "execution_count": 11,
   "metadata": {
    "execution": {
     "iopub.execute_input": "2021-01-12T07:17:42.396934Z",
     "iopub.status.busy": "2021-01-12T07:17:42.396516Z",
     "iopub.status.idle": "2021-01-12T07:17:42.408504Z",
     "shell.execute_reply": "2021-01-12T07:17:42.408119Z"
    },
    "papermill": {
     "duration": 0.038094,
     "end_time": "2021-01-12T07:17:42.408595",
     "exception": false,
     "start_time": "2021-01-12T07:17:42.370501",
     "status": "completed"
    },
    "tags": []
   },
   "outputs": [
    {
     "data": {
      "text/plain": [
       "{'K_MIN': 2,\n",
       " 'K_MAX': 60,\n",
       " 'N_REPS_PER_K': 5,\n",
       " 'KMEANS_N_INIT': 10,\n",
       " 'GAMMA': 1e-10,\n",
       " 'AFFINITY': 'rbf'}"
      ]
     },
     "metadata": {},
     "output_type": "display_data"
    }
   ],
   "source": [
    "CLUSTERING_OPTIONS = {}\n",
    "\n",
    "CLUSTERING_OPTIONS[\"K_MIN\"] = 2\n",
    "CLUSTERING_OPTIONS[\"K_MAX\"] = 60  # sqrt(3749)\n",
    "CLUSTERING_OPTIONS[\"N_REPS_PER_K\"] = 5\n",
    "CLUSTERING_OPTIONS[\"KMEANS_N_INIT\"] = 10\n",
    "CLUSTERING_OPTIONS[\"GAMMA\"] = 1.0e-10\n",
    "CLUSTERING_OPTIONS[\"AFFINITY\"] = \"rbf\"\n",
    "\n",
    "display(CLUSTERING_OPTIONS)"
   ]
  },
  {
   "cell_type": "code",
   "execution_count": 12,
   "metadata": {
    "execution": {
     "iopub.execute_input": "2021-01-12T07:17:42.460697Z",
     "iopub.status.busy": "2021-01-12T07:17:42.460315Z",
     "iopub.status.idle": "2021-01-12T07:17:42.472124Z",
     "shell.execute_reply": "2021-01-12T07:17:42.471756Z"
    },
    "papermill": {
     "duration": 0.038771,
     "end_time": "2021-01-12T07:17:42.472213",
     "exception": false,
     "start_time": "2021-01-12T07:17:42.433442",
     "status": "completed"
    },
    "tags": []
   },
   "outputs": [],
   "source": [
    "CLUSTERERS = {}\n",
    "\n",
    "idx = 0\n",
    "random_state = INITIAL_RANDOM_STATE\n",
    "\n",
    "for k in range(CLUSTERING_OPTIONS[\"K_MIN\"], CLUSTERING_OPTIONS[\"K_MAX\"] + 1):\n",
    "    for i in range(CLUSTERING_OPTIONS[\"N_REPS_PER_K\"]):\n",
    "        clus = SpectralClustering(\n",
    "            eigen_solver=\"arpack\",\n",
    "            n_clusters=k,\n",
    "            n_init=CLUSTERING_OPTIONS[\"KMEANS_N_INIT\"],\n",
    "            affinity=CLUSTERING_OPTIONS[\"AFFINITY\"],\n",
    "            gamma=CLUSTERING_OPTIONS[\"GAMMA\"],\n",
    "            random_state=random_state,\n",
    "        )\n",
    "\n",
    "        method_name = type(clus).__name__\n",
    "        CLUSTERERS[f\"{method_name} #{idx}\"] = clus\n",
    "\n",
    "        random_state = random_state + 1\n",
    "        idx = idx + 1"
   ]
  },
  {
   "cell_type": "code",
   "execution_count": 13,
   "metadata": {
    "execution": {
     "iopub.execute_input": "2021-01-12T07:17:42.522179Z",
     "iopub.status.busy": "2021-01-12T07:17:42.521805Z",
     "iopub.status.idle": "2021-01-12T07:17:42.533168Z",
     "shell.execute_reply": "2021-01-12T07:17:42.532823Z"
    },
    "papermill": {
     "duration": 0.037066,
     "end_time": "2021-01-12T07:17:42.533257",
     "exception": false,
     "start_time": "2021-01-12T07:17:42.496191",
     "status": "completed"
    },
    "tags": []
   },
   "outputs": [
    {
     "data": {
      "text/plain": [
       "295"
      ]
     },
     "metadata": {},
     "output_type": "display_data"
    }
   ],
   "source": [
    "display(len(CLUSTERERS))"
   ]
  },
  {
   "cell_type": "code",
   "execution_count": 14,
   "metadata": {
    "execution": {
     "iopub.execute_input": "2021-01-12T07:17:42.584777Z",
     "iopub.status.busy": "2021-01-12T07:17:42.584360Z",
     "iopub.status.idle": "2021-01-12T07:17:42.597394Z",
     "shell.execute_reply": "2021-01-12T07:17:42.597701Z"
    },
    "papermill": {
     "duration": 0.039613,
     "end_time": "2021-01-12T07:17:42.597809",
     "exception": false,
     "start_time": "2021-01-12T07:17:42.558196",
     "status": "completed"
    },
    "tags": []
   },
   "outputs": [
    {
     "data": {
      "text/plain": [
       "('SpectralClustering #0',\n",
       " SpectralClustering(eigen_solver='arpack', gamma=1e-10, n_clusters=2,\n",
       "                    random_state=30000))"
      ]
     },
     "metadata": {},
     "output_type": "display_data"
    },
    {
     "data": {
      "text/plain": [
       "('SpectralClustering #1',\n",
       " SpectralClustering(eigen_solver='arpack', gamma=1e-10, n_clusters=2,\n",
       "                    random_state=30001))"
      ]
     },
     "metadata": {},
     "output_type": "display_data"
    }
   ],
   "source": [
    "_iter = iter(CLUSTERERS.items())\n",
    "display(next(_iter))\n",
    "display(next(_iter))"
   ]
  },
  {
   "cell_type": "code",
   "execution_count": 15,
   "metadata": {
    "execution": {
     "iopub.execute_input": "2021-01-12T07:17:42.648863Z",
     "iopub.status.busy": "2021-01-12T07:17:42.648467Z",
     "iopub.status.idle": "2021-01-12T07:17:42.660225Z",
     "shell.execute_reply": "2021-01-12T07:17:42.659859Z"
    },
    "papermill": {
     "duration": 0.038013,
     "end_time": "2021-01-12T07:17:42.660311",
     "exception": false,
     "start_time": "2021-01-12T07:17:42.622298",
     "status": "completed"
    },
    "tags": []
   },
   "outputs": [
    {
     "data": {
      "text/plain": [
       "'SpectralClustering'"
      ]
     },
     "metadata": {},
     "output_type": "display_data"
    }
   ],
   "source": [
    "clustering_method_name = method_name\n",
    "display(clustering_method_name)"
   ]
  },
  {
   "cell_type": "markdown",
   "metadata": {
    "papermill": {
     "duration": 0.024927,
     "end_time": "2021-01-12T07:17:42.710847",
     "exception": false,
     "start_time": "2021-01-12T07:17:42.685920",
     "status": "completed"
    },
    "tags": []
   },
   "source": [
    "## Output directory"
   ]
  },
  {
   "cell_type": "code",
   "execution_count": 16,
   "metadata": {
    "execution": {
     "iopub.execute_input": "2021-01-12T07:17:42.762040Z",
     "iopub.status.busy": "2021-01-12T07:17:42.761620Z",
     "iopub.status.idle": "2021-01-12T07:17:42.773509Z",
     "shell.execute_reply": "2021-01-12T07:17:42.773183Z"
    },
    "papermill": {
     "duration": 0.038579,
     "end_time": "2021-01-12T07:17:42.773598",
     "exception": false,
     "start_time": "2021-01-12T07:17:42.735019",
     "status": "completed"
    },
    "tags": []
   },
   "outputs": [
    {
     "data": {
      "text/plain": [
       "PosixPath('/home/miltondp/projects/labs/greenelab/phenoplier/base3/results/clustering/runs/z_score_std-projection-smultixcan-efo_partial-mashr-zscores')"
      ]
     },
     "metadata": {},
     "output_type": "display_data"
    }
   ],
   "source": [
    "# output dir for this notebook\n",
    "RESULTS_DIR = Path(\n",
    "    conf.RESULTS[\"CLUSTERING_RUNS_DIR\"],\n",
    "    f\"{INPUT_SUBSET}-{INPUT_STEM}\",\n",
    ").resolve()\n",
    "RESULTS_DIR.mkdir(parents=True, exist_ok=True)\n",
    "\n",
    "display(RESULTS_DIR)"
   ]
  },
  {
   "cell_type": "markdown",
   "metadata": {
    "papermill": {
     "duration": 0.024615,
     "end_time": "2021-01-12T07:17:42.823449",
     "exception": false,
     "start_time": "2021-01-12T07:17:42.798834",
     "status": "completed"
    },
    "tags": []
   },
   "source": [
    "# Load input file"
   ]
  },
  {
   "cell_type": "code",
   "execution_count": 17,
   "metadata": {
    "execution": {
     "iopub.execute_input": "2021-01-12T07:17:42.875143Z",
     "iopub.status.busy": "2021-01-12T07:17:42.874786Z",
     "iopub.status.idle": "2021-01-12T07:17:42.899147Z",
     "shell.execute_reply": "2021-01-12T07:17:42.898710Z"
    },
    "papermill": {
     "duration": 0.051159,
     "end_time": "2021-01-12T07:17:42.899248",
     "exception": false,
     "start_time": "2021-01-12T07:17:42.848089",
     "status": "completed"
    },
    "tags": []
   },
   "outputs": [],
   "source": [
    "data = pd.read_pickle(input_filepath)"
   ]
  },
  {
   "cell_type": "code",
   "execution_count": 18,
   "metadata": {
    "execution": {
     "iopub.execute_input": "2021-01-12T07:17:42.952440Z",
     "iopub.status.busy": "2021-01-12T07:17:42.952081Z",
     "iopub.status.idle": "2021-01-12T07:17:42.963108Z",
     "shell.execute_reply": "2021-01-12T07:17:42.963394Z"
    },
    "papermill": {
     "duration": 0.037739,
     "end_time": "2021-01-12T07:17:42.963505",
     "exception": false,
     "start_time": "2021-01-12T07:17:42.925766",
     "status": "completed"
    },
    "tags": []
   },
   "outputs": [
    {
     "data": {
      "text/plain": [
       "(3749, 987)"
      ]
     },
     "execution_count": 18,
     "metadata": {},
     "output_type": "execute_result"
    }
   ],
   "source": [
    "data.shape"
   ]
  },
  {
   "cell_type": "code",
   "execution_count": 19,
   "metadata": {
    "execution": {
     "iopub.execute_input": "2021-01-12T07:17:43.017115Z",
     "iopub.status.busy": "2021-01-12T07:17:43.016682Z",
     "iopub.status.idle": "2021-01-12T07:17:43.040806Z",
     "shell.execute_reply": "2021-01-12T07:17:43.040394Z"
    },
    "papermill": {
     "duration": 0.05138,
     "end_time": "2021-01-12T07:17:43.040895",
     "exception": false,
     "start_time": "2021-01-12T07:17:42.989515",
     "status": "completed"
    },
    "tags": []
   },
   "outputs": [
    {
     "data": {
      "text/html": [
       "<div>\n",
       "<style scoped>\n",
       "    .dataframe tbody tr th:only-of-type {\n",
       "        vertical-align: middle;\n",
       "    }\n",
       "\n",
       "    .dataframe tbody tr th {\n",
       "        vertical-align: top;\n",
       "    }\n",
       "\n",
       "    .dataframe thead th {\n",
       "        text-align: right;\n",
       "    }\n",
       "</style>\n",
       "<table border=\"1\" class=\"dataframe\">\n",
       "  <thead>\n",
       "    <tr style=\"text-align: right;\">\n",
       "      <th></th>\n",
       "      <th>LV1</th>\n",
       "      <th>LV2</th>\n",
       "      <th>LV3</th>\n",
       "      <th>LV4</th>\n",
       "      <th>LV5</th>\n",
       "      <th>LV6</th>\n",
       "      <th>LV7</th>\n",
       "      <th>LV8</th>\n",
       "      <th>LV9</th>\n",
       "      <th>LV10</th>\n",
       "      <th>...</th>\n",
       "      <th>LV978</th>\n",
       "      <th>LV979</th>\n",
       "      <th>LV980</th>\n",
       "      <th>LV981</th>\n",
       "      <th>LV982</th>\n",
       "      <th>LV983</th>\n",
       "      <th>LV984</th>\n",
       "      <th>LV985</th>\n",
       "      <th>LV986</th>\n",
       "      <th>LV987</th>\n",
       "    </tr>\n",
       "  </thead>\n",
       "  <tbody>\n",
       "    <tr>\n",
       "      <th>100001_raw-Food_weight</th>\n",
       "      <td>-0.553743</td>\n",
       "      <td>1.851060</td>\n",
       "      <td>-0.095721</td>\n",
       "      <td>0.931603</td>\n",
       "      <td>-0.515196</td>\n",
       "      <td>1.371264</td>\n",
       "      <td>-0.413165</td>\n",
       "      <td>0.729668</td>\n",
       "      <td>0.546338</td>\n",
       "      <td>0.901153</td>\n",
       "      <td>...</td>\n",
       "      <td>1.148776</td>\n",
       "      <td>1.649018</td>\n",
       "      <td>-1.375952</td>\n",
       "      <td>2.203063</td>\n",
       "      <td>0.810199</td>\n",
       "      <td>-0.987048</td>\n",
       "      <td>0.277710</td>\n",
       "      <td>-0.607613</td>\n",
       "      <td>0.572376</td>\n",
       "      <td>-0.660846</td>\n",
       "    </tr>\n",
       "    <tr>\n",
       "      <th>100002_raw-Energy</th>\n",
       "      <td>-1.313905</td>\n",
       "      <td>-0.421015</td>\n",
       "      <td>-0.310524</td>\n",
       "      <td>-0.201978</td>\n",
       "      <td>0.233028</td>\n",
       "      <td>0.693838</td>\n",
       "      <td>0.084129</td>\n",
       "      <td>0.572439</td>\n",
       "      <td>0.217866</td>\n",
       "      <td>1.296973</td>\n",
       "      <td>...</td>\n",
       "      <td>0.165430</td>\n",
       "      <td>0.799276</td>\n",
       "      <td>-0.361989</td>\n",
       "      <td>-0.008253</td>\n",
       "      <td>2.063780</td>\n",
       "      <td>-0.930765</td>\n",
       "      <td>-0.147007</td>\n",
       "      <td>1.601938</td>\n",
       "      <td>-0.273553</td>\n",
       "      <td>-0.560822</td>\n",
       "    </tr>\n",
       "    <tr>\n",
       "      <th>100003_raw-Protein</th>\n",
       "      <td>-0.645622</td>\n",
       "      <td>-0.997845</td>\n",
       "      <td>0.249039</td>\n",
       "      <td>0.256499</td>\n",
       "      <td>0.422357</td>\n",
       "      <td>0.829189</td>\n",
       "      <td>-0.169004</td>\n",
       "      <td>0.511550</td>\n",
       "      <td>0.002389</td>\n",
       "      <td>-0.057200</td>\n",
       "      <td>...</td>\n",
       "      <td>1.016791</td>\n",
       "      <td>1.019488</td>\n",
       "      <td>-2.148844</td>\n",
       "      <td>-0.065130</td>\n",
       "      <td>0.041052</td>\n",
       "      <td>-0.836118</td>\n",
       "      <td>-0.320571</td>\n",
       "      <td>1.325519</td>\n",
       "      <td>-0.341494</td>\n",
       "      <td>-0.495786</td>\n",
       "    </tr>\n",
       "    <tr>\n",
       "      <th>100004_raw-Fat</th>\n",
       "      <td>-0.913924</td>\n",
       "      <td>-1.837183</td>\n",
       "      <td>0.012095</td>\n",
       "      <td>-1.301315</td>\n",
       "      <td>0.205794</td>\n",
       "      <td>1.129114</td>\n",
       "      <td>0.019985</td>\n",
       "      <td>0.376660</td>\n",
       "      <td>-0.810272</td>\n",
       "      <td>0.843611</td>\n",
       "      <td>...</td>\n",
       "      <td>0.544266</td>\n",
       "      <td>0.576714</td>\n",
       "      <td>0.281731</td>\n",
       "      <td>-0.218963</td>\n",
       "      <td>1.258957</td>\n",
       "      <td>-1.131924</td>\n",
       "      <td>0.378545</td>\n",
       "      <td>0.842047</td>\n",
       "      <td>-0.622194</td>\n",
       "      <td>-0.160058</td>\n",
       "    </tr>\n",
       "    <tr>\n",
       "      <th>100005_raw-Carbohydrate</th>\n",
       "      <td>-0.523004</td>\n",
       "      <td>0.131379</td>\n",
       "      <td>-0.097802</td>\n",
       "      <td>-0.030526</td>\n",
       "      <td>-0.021500</td>\n",
       "      <td>-0.219116</td>\n",
       "      <td>0.668229</td>\n",
       "      <td>0.365700</td>\n",
       "      <td>1.102347</td>\n",
       "      <td>0.845625</td>\n",
       "      <td>...</td>\n",
       "      <td>-0.344740</td>\n",
       "      <td>0.079274</td>\n",
       "      <td>0.253427</td>\n",
       "      <td>0.236474</td>\n",
       "      <td>1.033895</td>\n",
       "      <td>-0.229105</td>\n",
       "      <td>0.364793</td>\n",
       "      <td>1.776714</td>\n",
       "      <td>0.190531</td>\n",
       "      <td>-1.459641</td>\n",
       "    </tr>\n",
       "  </tbody>\n",
       "</table>\n",
       "<p>5 rows × 987 columns</p>\n",
       "</div>"
      ],
      "text/plain": [
       "                              LV1       LV2       LV3       LV4       LV5  \\\n",
       "100001_raw-Food_weight  -0.553743  1.851060 -0.095721  0.931603 -0.515196   \n",
       "100002_raw-Energy       -1.313905 -0.421015 -0.310524 -0.201978  0.233028   \n",
       "100003_raw-Protein      -0.645622 -0.997845  0.249039  0.256499  0.422357   \n",
       "100004_raw-Fat          -0.913924 -1.837183  0.012095 -1.301315  0.205794   \n",
       "100005_raw-Carbohydrate -0.523004  0.131379 -0.097802 -0.030526 -0.021500   \n",
       "\n",
       "                              LV6       LV7       LV8       LV9      LV10  \\\n",
       "100001_raw-Food_weight   1.371264 -0.413165  0.729668  0.546338  0.901153   \n",
       "100002_raw-Energy        0.693838  0.084129  0.572439  0.217866  1.296973   \n",
       "100003_raw-Protein       0.829189 -0.169004  0.511550  0.002389 -0.057200   \n",
       "100004_raw-Fat           1.129114  0.019985  0.376660 -0.810272  0.843611   \n",
       "100005_raw-Carbohydrate -0.219116  0.668229  0.365700  1.102347  0.845625   \n",
       "\n",
       "                         ...     LV978     LV979     LV980     LV981  \\\n",
       "100001_raw-Food_weight   ...  1.148776  1.649018 -1.375952  2.203063   \n",
       "100002_raw-Energy        ...  0.165430  0.799276 -0.361989 -0.008253   \n",
       "100003_raw-Protein       ...  1.016791  1.019488 -2.148844 -0.065130   \n",
       "100004_raw-Fat           ...  0.544266  0.576714  0.281731 -0.218963   \n",
       "100005_raw-Carbohydrate  ... -0.344740  0.079274  0.253427  0.236474   \n",
       "\n",
       "                            LV982     LV983     LV984     LV985     LV986  \\\n",
       "100001_raw-Food_weight   0.810199 -0.987048  0.277710 -0.607613  0.572376   \n",
       "100002_raw-Energy        2.063780 -0.930765 -0.147007  1.601938 -0.273553   \n",
       "100003_raw-Protein       0.041052 -0.836118 -0.320571  1.325519 -0.341494   \n",
       "100004_raw-Fat           1.258957 -1.131924  0.378545  0.842047 -0.622194   \n",
       "100005_raw-Carbohydrate  1.033895 -0.229105  0.364793  1.776714  0.190531   \n",
       "\n",
       "                            LV987  \n",
       "100001_raw-Food_weight  -0.660846  \n",
       "100002_raw-Energy       -0.560822  \n",
       "100003_raw-Protein      -0.495786  \n",
       "100004_raw-Fat          -0.160058  \n",
       "100005_raw-Carbohydrate -1.459641  \n",
       "\n",
       "[5 rows x 987 columns]"
      ]
     },
     "execution_count": 19,
     "metadata": {},
     "output_type": "execute_result"
    }
   ],
   "source": [
    "data.head()"
   ]
  },
  {
   "cell_type": "code",
   "execution_count": 20,
   "metadata": {
    "execution": {
     "iopub.execute_input": "2021-01-12T07:17:43.094684Z",
     "iopub.status.busy": "2021-01-12T07:17:43.094323Z",
     "iopub.status.idle": "2021-01-12T07:17:43.113308Z",
     "shell.execute_reply": "2021-01-12T07:17:43.112230Z"
    },
    "papermill": {
     "duration": 0.046736,
     "end_time": "2021-01-12T07:17:43.113543",
     "exception": false,
     "start_time": "2021-01-12T07:17:43.066807",
     "status": "completed"
    },
    "tags": []
   },
   "outputs": [],
   "source": [
    "assert not data.isna().any().any()"
   ]
  },
  {
   "cell_type": "markdown",
   "metadata": {
    "papermill": {
     "duration": 0.025901,
     "end_time": "2021-01-12T07:17:43.181194",
     "exception": false,
     "start_time": "2021-01-12T07:17:43.155293",
     "status": "completed"
    },
    "tags": []
   },
   "source": [
    "# Clustering"
   ]
  },
  {
   "cell_type": "markdown",
   "metadata": {
    "papermill": {
     "duration": 0.024853,
     "end_time": "2021-01-12T07:17:43.231198",
     "exception": false,
     "start_time": "2021-01-12T07:17:43.206345",
     "status": "completed"
    },
    "tags": []
   },
   "source": [
    "## Generate ensemble"
   ]
  },
  {
   "cell_type": "code",
   "execution_count": 21,
   "metadata": {
    "execution": {
     "iopub.execute_input": "2021-01-12T07:17:43.283762Z",
     "iopub.status.busy": "2021-01-12T07:17:43.283400Z",
     "iopub.status.idle": "2021-01-12T07:17:43.296993Z",
     "shell.execute_reply": "2021-01-12T07:17:43.296571Z"
    },
    "papermill": {
     "duration": 0.040843,
     "end_time": "2021-01-12T07:17:43.297081",
     "exception": false,
     "start_time": "2021-01-12T07:17:43.256238",
     "status": "completed"
    },
    "tags": []
   },
   "outputs": [],
   "source": [
    "from clustering.ensembles.utils import generate_ensemble"
   ]
  },
  {
   "cell_type": "code",
   "execution_count": 22,
   "metadata": {
    "execution": {
     "iopub.execute_input": "2021-01-12T07:17:43.350063Z",
     "iopub.status.busy": "2021-01-12T07:17:43.349697Z",
     "iopub.status.idle": "2021-01-12T07:32:45.379505Z",
     "shell.execute_reply": "2021-01-12T07:32:45.379118Z"
    },
    "papermill": {
     "duration": 902.057204,
     "end_time": "2021-01-12T07:32:45.379597",
     "exception": false,
     "start_time": "2021-01-12T07:17:43.322393",
     "status": "completed"
    },
    "tags": []
   },
   "outputs": [
    {
     "name": "stderr",
     "output_type": "stream",
     "text": [
      "100%|██████████| 295/295 [15:01<00:00,  3.06s/it]\n"
     ]
    }
   ],
   "source": [
    "ensemble = generate_ensemble(\n",
    "    data,\n",
    "    CLUSTERERS,\n",
    "    attributes=CLUSTERING_ATTRIBUTES_TO_SAVE,\n",
    ")"
   ]
  },
  {
   "cell_type": "code",
   "execution_count": 23,
   "metadata": {
    "execution": {
     "iopub.execute_input": "2021-01-12T07:32:45.527013Z",
     "iopub.status.busy": "2021-01-12T07:32:45.526626Z",
     "iopub.status.idle": "2021-01-12T07:32:45.538886Z",
     "shell.execute_reply": "2021-01-12T07:32:45.538519Z"
    },
    "papermill": {
     "duration": 0.086726,
     "end_time": "2021-01-12T07:32:45.538974",
     "exception": false,
     "start_time": "2021-01-12T07:32:45.452248",
     "status": "completed"
    },
    "tags": []
   },
   "outputs": [
    {
     "data": {
      "text/plain": [
       "(295, 3)"
      ]
     },
     "execution_count": 23,
     "metadata": {},
     "output_type": "execute_result"
    }
   ],
   "source": [
    "# the number should be close to 295 (the number of partitions generated by k-means/spectral clustering)\n",
    "ensemble.shape"
   ]
  },
  {
   "cell_type": "code",
   "execution_count": 24,
   "metadata": {
    "execution": {
     "iopub.execute_input": "2021-01-12T07:32:45.690647Z",
     "iopub.status.busy": "2021-01-12T07:32:45.690291Z",
     "iopub.status.idle": "2021-01-12T07:32:45.709314Z",
     "shell.execute_reply": "2021-01-12T07:32:45.708911Z"
    },
    "papermill": {
     "duration": 0.095184,
     "end_time": "2021-01-12T07:32:45.709400",
     "exception": false,
     "start_time": "2021-01-12T07:32:45.614216",
     "status": "completed"
    },
    "tags": []
   },
   "outputs": [
    {
     "data": {
      "text/html": [
       "<div>\n",
       "<style scoped>\n",
       "    .dataframe tbody tr th:only-of-type {\n",
       "        vertical-align: middle;\n",
       "    }\n",
       "\n",
       "    .dataframe tbody tr th {\n",
       "        vertical-align: top;\n",
       "    }\n",
       "\n",
       "    .dataframe thead th {\n",
       "        text-align: right;\n",
       "    }\n",
       "</style>\n",
       "<table border=\"1\" class=\"dataframe\">\n",
       "  <thead>\n",
       "    <tr style=\"text-align: right;\">\n",
       "      <th></th>\n",
       "      <th>clusterer_params</th>\n",
       "      <th>partition</th>\n",
       "      <th>n_clusters</th>\n",
       "    </tr>\n",
       "    <tr>\n",
       "      <th>clusterer_id</th>\n",
       "      <th></th>\n",
       "      <th></th>\n",
       "      <th></th>\n",
       "    </tr>\n",
       "  </thead>\n",
       "  <tbody>\n",
       "    <tr>\n",
       "      <th>SpectralClustering #0</th>\n",
       "      <td>{'affinity': 'rbf', 'assign_labels': 'kmeans',...</td>\n",
       "      <td>[0.0, 0.0, 0.0, 0.0, 0.0, 0.0, 0.0, 0.0, 0.0, ...</td>\n",
       "      <td>2</td>\n",
       "    </tr>\n",
       "    <tr>\n",
       "      <th>SpectralClustering #1</th>\n",
       "      <td>{'affinity': 'rbf', 'assign_labels': 'kmeans',...</td>\n",
       "      <td>[0.0, 0.0, 0.0, 0.0, 0.0, 0.0, 0.0, 0.0, 0.0, ...</td>\n",
       "      <td>2</td>\n",
       "    </tr>\n",
       "    <tr>\n",
       "      <th>SpectralClustering #2</th>\n",
       "      <td>{'affinity': 'rbf', 'assign_labels': 'kmeans',...</td>\n",
       "      <td>[0.0, 0.0, 0.0, 0.0, 0.0, 0.0, 0.0, 0.0, 0.0, ...</td>\n",
       "      <td>2</td>\n",
       "    </tr>\n",
       "    <tr>\n",
       "      <th>SpectralClustering #3</th>\n",
       "      <td>{'affinity': 'rbf', 'assign_labels': 'kmeans',...</td>\n",
       "      <td>[1.0, 1.0, 1.0, 1.0, 1.0, 1.0, 1.0, 1.0, 1.0, ...</td>\n",
       "      <td>2</td>\n",
       "    </tr>\n",
       "    <tr>\n",
       "      <th>SpectralClustering #4</th>\n",
       "      <td>{'affinity': 'rbf', 'assign_labels': 'kmeans',...</td>\n",
       "      <td>[0.0, 0.0, 0.0, 0.0, 0.0, 0.0, 0.0, 0.0, 0.0, ...</td>\n",
       "      <td>2</td>\n",
       "    </tr>\n",
       "  </tbody>\n",
       "</table>\n",
       "</div>"
      ],
      "text/plain": [
       "                                                        clusterer_params  \\\n",
       "clusterer_id                                                               \n",
       "SpectralClustering #0  {'affinity': 'rbf', 'assign_labels': 'kmeans',...   \n",
       "SpectralClustering #1  {'affinity': 'rbf', 'assign_labels': 'kmeans',...   \n",
       "SpectralClustering #2  {'affinity': 'rbf', 'assign_labels': 'kmeans',...   \n",
       "SpectralClustering #3  {'affinity': 'rbf', 'assign_labels': 'kmeans',...   \n",
       "SpectralClustering #4  {'affinity': 'rbf', 'assign_labels': 'kmeans',...   \n",
       "\n",
       "                                                               partition  \\\n",
       "clusterer_id                                                               \n",
       "SpectralClustering #0  [0.0, 0.0, 0.0, 0.0, 0.0, 0.0, 0.0, 0.0, 0.0, ...   \n",
       "SpectralClustering #1  [0.0, 0.0, 0.0, 0.0, 0.0, 0.0, 0.0, 0.0, 0.0, ...   \n",
       "SpectralClustering #2  [0.0, 0.0, 0.0, 0.0, 0.0, 0.0, 0.0, 0.0, 0.0, ...   \n",
       "SpectralClustering #3  [1.0, 1.0, 1.0, 1.0, 1.0, 1.0, 1.0, 1.0, 1.0, ...   \n",
       "SpectralClustering #4  [0.0, 0.0, 0.0, 0.0, 0.0, 0.0, 0.0, 0.0, 0.0, ...   \n",
       "\n",
       "                       n_clusters  \n",
       "clusterer_id                       \n",
       "SpectralClustering #0           2  \n",
       "SpectralClustering #1           2  \n",
       "SpectralClustering #2           2  \n",
       "SpectralClustering #3           2  \n",
       "SpectralClustering #4           2  "
      ]
     },
     "execution_count": 24,
     "metadata": {},
     "output_type": "execute_result"
    }
   ],
   "source": [
    "ensemble.head()"
   ]
  },
  {
   "cell_type": "code",
   "execution_count": 25,
   "metadata": {
    "execution": {
     "iopub.execute_input": "2021-01-12T07:32:45.858302Z",
     "iopub.status.busy": "2021-01-12T07:32:45.857921Z",
     "iopub.status.idle": "2021-01-12T07:32:45.870987Z",
     "shell.execute_reply": "2021-01-12T07:32:45.870624Z"
    },
    "papermill": {
     "duration": 0.08894,
     "end_time": "2021-01-12T07:32:45.871073",
     "exception": false,
     "start_time": "2021-01-12T07:32:45.782133",
     "status": "completed"
    },
    "tags": []
   },
   "outputs": [
    {
     "data": {
      "text/plain": [
       "60    5\n",
       "16    5\n",
       "28    5\n",
       "27    5\n",
       "26    5\n",
       "Name: n_clusters, dtype: int64"
      ]
     },
     "execution_count": 25,
     "metadata": {},
     "output_type": "execute_result"
    }
   ],
   "source": [
    "ensemble[\"n_clusters\"].value_counts().head()"
   ]
  },
  {
   "cell_type": "code",
   "execution_count": 26,
   "metadata": {
    "execution": {
     "iopub.execute_input": "2021-01-12T07:32:46.018957Z",
     "iopub.status.busy": "2021-01-12T07:32:46.018595Z",
     "iopub.status.idle": "2021-01-12T07:32:46.032432Z",
     "shell.execute_reply": "2021-01-12T07:32:46.032057Z"
    },
    "papermill": {
     "duration": 0.088733,
     "end_time": "2021-01-12T07:32:46.032521",
     "exception": false,
     "start_time": "2021-01-12T07:32:45.943788",
     "status": "completed"
    },
    "tags": []
   },
   "outputs": [
    {
     "data": {
      "text/plain": [
       "count    295.000000\n",
       "mean      31.000000\n",
       "std       17.058323\n",
       "min        2.000000\n",
       "25%       16.000000\n",
       "50%       31.000000\n",
       "75%       46.000000\n",
       "max       60.000000\n",
       "Name: n_clusters, dtype: float64"
      ]
     },
     "metadata": {},
     "output_type": "display_data"
    }
   ],
   "source": [
    "ensemble_stats = ensemble[\"n_clusters\"].describe()\n",
    "display(ensemble_stats)"
   ]
  },
  {
   "cell_type": "markdown",
   "metadata": {
    "papermill": {
     "duration": 0.073516,
     "end_time": "2021-01-12T07:32:46.181417",
     "exception": false,
     "start_time": "2021-01-12T07:32:46.107901",
     "status": "completed"
    },
    "tags": []
   },
   "source": [
    "## Testing"
   ]
  },
  {
   "cell_type": "code",
   "execution_count": 27,
   "metadata": {
    "execution": {
     "iopub.execute_input": "2021-01-12T07:32:46.329017Z",
     "iopub.status.busy": "2021-01-12T07:32:46.328592Z",
     "iopub.status.idle": "2021-01-12T07:32:46.339540Z",
     "shell.execute_reply": "2021-01-12T07:32:46.339164Z"
    },
    "papermill": {
     "duration": 0.085674,
     "end_time": "2021-01-12T07:32:46.339630",
     "exception": false,
     "start_time": "2021-01-12T07:32:46.253956",
     "status": "completed"
    },
    "tags": []
   },
   "outputs": [],
   "source": [
    "assert ensemble_stats[\"min\"] > 1"
   ]
  },
  {
   "cell_type": "code",
   "execution_count": 28,
   "metadata": {
    "execution": {
     "iopub.execute_input": "2021-01-12T07:32:46.488699Z",
     "iopub.status.busy": "2021-01-12T07:32:46.488318Z",
     "iopub.status.idle": "2021-01-12T07:32:46.500090Z",
     "shell.execute_reply": "2021-01-12T07:32:46.499708Z"
    },
    "papermill": {
     "duration": 0.086504,
     "end_time": "2021-01-12T07:32:46.500178",
     "exception": false,
     "start_time": "2021-01-12T07:32:46.413674",
     "status": "completed"
    },
    "tags": []
   },
   "outputs": [],
   "source": [
    "assert not ensemble[\"n_clusters\"].isna().any()"
   ]
  },
  {
   "cell_type": "code",
   "execution_count": 29,
   "metadata": {
    "execution": {
     "iopub.execute_input": "2021-01-12T07:32:46.648879Z",
     "iopub.status.busy": "2021-01-12T07:32:46.648450Z",
     "iopub.status.idle": "2021-01-12T07:32:46.659337Z",
     "shell.execute_reply": "2021-01-12T07:32:46.658954Z"
    },
    "papermill": {
     "duration": 0.086453,
     "end_time": "2021-01-12T07:32:46.659425",
     "exception": false,
     "start_time": "2021-01-12T07:32:46.572972",
     "status": "completed"
    },
    "tags": []
   },
   "outputs": [],
   "source": [
    "assert ensemble.shape[0] == len(CLUSTERERS)"
   ]
  },
  {
   "cell_type": "code",
   "execution_count": 30,
   "metadata": {
    "execution": {
     "iopub.execute_input": "2021-01-12T07:32:46.809220Z",
     "iopub.status.busy": "2021-01-12T07:32:46.808854Z",
     "iopub.status.idle": "2021-01-12T07:32:46.836936Z",
     "shell.execute_reply": "2021-01-12T07:32:46.836535Z"
    },
    "papermill": {
     "duration": 0.10352,
     "end_time": "2021-01-12T07:32:46.837024",
     "exception": false,
     "start_time": "2021-01-12T07:32:46.733504",
     "status": "completed"
    },
    "tags": []
   },
   "outputs": [],
   "source": [
    "# all partitions have the right size\n",
    "assert np.all(\n",
    "    [part[\"partition\"].shape[0] == data.shape[0] for idx, part in ensemble.iterrows()]\n",
    ")"
   ]
  },
  {
   "cell_type": "code",
   "execution_count": 31,
   "metadata": {
    "execution": {
     "iopub.execute_input": "2021-01-12T07:32:46.985569Z",
     "iopub.status.busy": "2021-01-12T07:32:46.985208Z",
     "iopub.status.idle": "2021-01-12T07:32:47.017357Z",
     "shell.execute_reply": "2021-01-12T07:32:47.016976Z"
    },
    "papermill": {
     "duration": 0.107226,
     "end_time": "2021-01-12T07:32:47.017448",
     "exception": false,
     "start_time": "2021-01-12T07:32:46.910222",
     "status": "completed"
    },
    "tags": []
   },
   "outputs": [],
   "source": [
    "# no partition has negative clusters (noisy points)\n",
    "assert not np.any([(part[\"partition\"] < 0).any() for idx, part in ensemble.iterrows()])"
   ]
  },
  {
   "cell_type": "markdown",
   "metadata": {
    "papermill": {
     "duration": 0.072436,
     "end_time": "2021-01-12T07:32:47.163312",
     "exception": false,
     "start_time": "2021-01-12T07:32:47.090876",
     "status": "completed"
    },
    "tags": []
   },
   "source": [
    "## Add clustering quality measures"
   ]
  },
  {
   "cell_type": "code",
   "execution_count": 32,
   "metadata": {
    "execution": {
     "iopub.execute_input": "2021-01-12T07:32:47.312078Z",
     "iopub.status.busy": "2021-01-12T07:32:47.311717Z",
     "iopub.status.idle": "2021-01-12T07:32:47.322606Z",
     "shell.execute_reply": "2021-01-12T07:32:47.322229Z"
    },
    "papermill": {
     "duration": 0.085772,
     "end_time": "2021-01-12T07:32:47.322695",
     "exception": false,
     "start_time": "2021-01-12T07:32:47.236923",
     "status": "completed"
    },
    "tags": []
   },
   "outputs": [],
   "source": [
    "from sklearn.metrics import calinski_harabasz_score"
   ]
  },
  {
   "cell_type": "code",
   "execution_count": 33,
   "metadata": {
    "execution": {
     "iopub.execute_input": "2021-01-12T07:32:47.471623Z",
     "iopub.status.busy": "2021-01-12T07:32:47.471265Z",
     "iopub.status.idle": "2021-01-12T07:33:00.191607Z",
     "shell.execute_reply": "2021-01-12T07:33:00.191044Z"
    },
    "papermill": {
     "duration": 12.795449,
     "end_time": "2021-01-12T07:33:00.191744",
     "exception": false,
     "start_time": "2021-01-12T07:32:47.396295",
     "status": "completed"
    },
    "tags": []
   },
   "outputs": [],
   "source": [
    "ensemble = ensemble.assign(\n",
    "    ch_score=ensemble[\"partition\"].apply(lambda x: calinski_harabasz_score(data, x))\n",
    ")"
   ]
  },
  {
   "cell_type": "code",
   "execution_count": 34,
   "metadata": {
    "execution": {
     "iopub.execute_input": "2021-01-12T07:33:00.352816Z",
     "iopub.status.busy": "2021-01-12T07:33:00.352419Z",
     "iopub.status.idle": "2021-01-12T07:33:00.363925Z",
     "shell.execute_reply": "2021-01-12T07:33:00.363555Z"
    },
    "papermill": {
     "duration": 0.086125,
     "end_time": "2021-01-12T07:33:00.364013",
     "exception": false,
     "start_time": "2021-01-12T07:33:00.277888",
     "status": "completed"
    },
    "tags": []
   },
   "outputs": [
    {
     "data": {
      "text/plain": [
       "(295, 4)"
      ]
     },
     "execution_count": 34,
     "metadata": {},
     "output_type": "execute_result"
    }
   ],
   "source": [
    "ensemble.shape"
   ]
  },
  {
   "cell_type": "code",
   "execution_count": 35,
   "metadata": {
    "execution": {
     "iopub.execute_input": "2021-01-12T07:33:00.512765Z",
     "iopub.status.busy": "2021-01-12T07:33:00.512364Z",
     "iopub.status.idle": "2021-01-12T07:33:00.531356Z",
     "shell.execute_reply": "2021-01-12T07:33:00.530981Z"
    },
    "papermill": {
     "duration": 0.093428,
     "end_time": "2021-01-12T07:33:00.531444",
     "exception": false,
     "start_time": "2021-01-12T07:33:00.438016",
     "status": "completed"
    },
    "tags": []
   },
   "outputs": [
    {
     "data": {
      "text/html": [
       "<div>\n",
       "<style scoped>\n",
       "    .dataframe tbody tr th:only-of-type {\n",
       "        vertical-align: middle;\n",
       "    }\n",
       "\n",
       "    .dataframe tbody tr th {\n",
       "        vertical-align: top;\n",
       "    }\n",
       "\n",
       "    .dataframe thead th {\n",
       "        text-align: right;\n",
       "    }\n",
       "</style>\n",
       "<table border=\"1\" class=\"dataframe\">\n",
       "  <thead>\n",
       "    <tr style=\"text-align: right;\">\n",
       "      <th></th>\n",
       "      <th>clusterer_params</th>\n",
       "      <th>partition</th>\n",
       "      <th>n_clusters</th>\n",
       "      <th>ch_score</th>\n",
       "    </tr>\n",
       "    <tr>\n",
       "      <th>clusterer_id</th>\n",
       "      <th></th>\n",
       "      <th></th>\n",
       "      <th></th>\n",
       "      <th></th>\n",
       "    </tr>\n",
       "  </thead>\n",
       "  <tbody>\n",
       "    <tr>\n",
       "      <th>SpectralClustering #0</th>\n",
       "      <td>{'affinity': 'rbf', 'assign_labels': 'kmeans',...</td>\n",
       "      <td>[0.0, 0.0, 0.0, 0.0, 0.0, 0.0, 0.0, 0.0, 0.0, ...</td>\n",
       "      <td>2</td>\n",
       "      <td>209.860914</td>\n",
       "    </tr>\n",
       "    <tr>\n",
       "      <th>SpectralClustering #1</th>\n",
       "      <td>{'affinity': 'rbf', 'assign_labels': 'kmeans',...</td>\n",
       "      <td>[0.0, 0.0, 0.0, 0.0, 0.0, 0.0, 0.0, 0.0, 0.0, ...</td>\n",
       "      <td>2</td>\n",
       "      <td>209.860914</td>\n",
       "    </tr>\n",
       "    <tr>\n",
       "      <th>SpectralClustering #2</th>\n",
       "      <td>{'affinity': 'rbf', 'assign_labels': 'kmeans',...</td>\n",
       "      <td>[0.0, 0.0, 0.0, 0.0, 0.0, 0.0, 0.0, 0.0, 0.0, ...</td>\n",
       "      <td>2</td>\n",
       "      <td>209.860914</td>\n",
       "    </tr>\n",
       "    <tr>\n",
       "      <th>SpectralClustering #3</th>\n",
       "      <td>{'affinity': 'rbf', 'assign_labels': 'kmeans',...</td>\n",
       "      <td>[1.0, 1.0, 1.0, 1.0, 1.0, 1.0, 1.0, 1.0, 1.0, ...</td>\n",
       "      <td>2</td>\n",
       "      <td>209.860914</td>\n",
       "    </tr>\n",
       "    <tr>\n",
       "      <th>SpectralClustering #4</th>\n",
       "      <td>{'affinity': 'rbf', 'assign_labels': 'kmeans',...</td>\n",
       "      <td>[0.0, 0.0, 0.0, 0.0, 0.0, 0.0, 0.0, 0.0, 0.0, ...</td>\n",
       "      <td>2</td>\n",
       "      <td>209.860914</td>\n",
       "    </tr>\n",
       "  </tbody>\n",
       "</table>\n",
       "</div>"
      ],
      "text/plain": [
       "                                                        clusterer_params  \\\n",
       "clusterer_id                                                               \n",
       "SpectralClustering #0  {'affinity': 'rbf', 'assign_labels': 'kmeans',...   \n",
       "SpectralClustering #1  {'affinity': 'rbf', 'assign_labels': 'kmeans',...   \n",
       "SpectralClustering #2  {'affinity': 'rbf', 'assign_labels': 'kmeans',...   \n",
       "SpectralClustering #3  {'affinity': 'rbf', 'assign_labels': 'kmeans',...   \n",
       "SpectralClustering #4  {'affinity': 'rbf', 'assign_labels': 'kmeans',...   \n",
       "\n",
       "                                                               partition  \\\n",
       "clusterer_id                                                               \n",
       "SpectralClustering #0  [0.0, 0.0, 0.0, 0.0, 0.0, 0.0, 0.0, 0.0, 0.0, ...   \n",
       "SpectralClustering #1  [0.0, 0.0, 0.0, 0.0, 0.0, 0.0, 0.0, 0.0, 0.0, ...   \n",
       "SpectralClustering #2  [0.0, 0.0, 0.0, 0.0, 0.0, 0.0, 0.0, 0.0, 0.0, ...   \n",
       "SpectralClustering #3  [1.0, 1.0, 1.0, 1.0, 1.0, 1.0, 1.0, 1.0, 1.0, ...   \n",
       "SpectralClustering #4  [0.0, 0.0, 0.0, 0.0, 0.0, 0.0, 0.0, 0.0, 0.0, ...   \n",
       "\n",
       "                       n_clusters    ch_score  \n",
       "clusterer_id                                   \n",
       "SpectralClustering #0           2  209.860914  \n",
       "SpectralClustering #1           2  209.860914  \n",
       "SpectralClustering #2           2  209.860914  \n",
       "SpectralClustering #3           2  209.860914  \n",
       "SpectralClustering #4           2  209.860914  "
      ]
     },
     "execution_count": 35,
     "metadata": {},
     "output_type": "execute_result"
    }
   ],
   "source": [
    "ensemble.head()"
   ]
  },
  {
   "cell_type": "markdown",
   "metadata": {
    "papermill": {
     "duration": 0.071937,
     "end_time": "2021-01-12T07:33:00.677257",
     "exception": false,
     "start_time": "2021-01-12T07:33:00.605320",
     "status": "completed"
    },
    "tags": []
   },
   "source": [
    "## Save"
   ]
  },
  {
   "cell_type": "code",
   "execution_count": 36,
   "metadata": {
    "execution": {
     "iopub.execute_input": "2021-01-12T07:33:00.826247Z",
     "iopub.status.busy": "2021-01-12T07:33:00.825871Z",
     "iopub.status.idle": "2021-01-12T07:33:00.837769Z",
     "shell.execute_reply": "2021-01-12T07:33:00.837437Z"
    },
    "papermill": {
     "duration": 0.087345,
     "end_time": "2021-01-12T07:33:00.837854",
     "exception": false,
     "start_time": "2021-01-12T07:33:00.750509",
     "status": "completed"
    },
    "tags": []
   },
   "outputs": [
    {
     "data": {
      "text/plain": [
       "PosixPath('/home/miltondp/projects/labs/greenelab/phenoplier/base3/results/clustering/runs/z_score_std-projection-smultixcan-efo_partial-mashr-zscores/SpectralClustering-AFFINITY_rbf-GAMMA_1e_10-KMEANS_N_INIT_10-K_MAX_60-K_MIN_2-N_REPS_PER_K_5.pkl')"
      ]
     },
     "metadata": {},
     "output_type": "display_data"
    }
   ],
   "source": [
    "output_filename = Path(\n",
    "    RESULTS_DIR,\n",
    "    generate_result_set_name(\n",
    "        CLUSTERING_OPTIONS,\n",
    "        prefix=f\"{clustering_method_name}-\",\n",
    "        suffix=\".pkl\",\n",
    "    ),\n",
    ").resolve()\n",
    "display(output_filename)"
   ]
  },
  {
   "cell_type": "code",
   "execution_count": 37,
   "metadata": {
    "execution": {
     "iopub.execute_input": "2021-01-12T07:33:00.986590Z",
     "iopub.status.busy": "2021-01-12T07:33:00.986217Z",
     "iopub.status.idle": "2021-01-12T07:33:01.004376Z",
     "shell.execute_reply": "2021-01-12T07:33:01.004011Z"
    },
    "papermill": {
     "duration": 0.093342,
     "end_time": "2021-01-12T07:33:01.004471",
     "exception": false,
     "start_time": "2021-01-12T07:33:00.911129",
     "status": "completed"
    },
    "tags": []
   },
   "outputs": [],
   "source": [
    "ensemble.to_pickle(output_filename)"
   ]
  },
  {
   "cell_type": "markdown",
   "metadata": {
    "papermill": {
     "duration": 0.072604,
     "end_time": "2021-01-12T07:33:01.150659",
     "exception": false,
     "start_time": "2021-01-12T07:33:01.078055",
     "status": "completed"
    },
    "tags": []
   },
   "source": [
    "# Cluster quality"
   ]
  },
  {
   "cell_type": "code",
   "execution_count": 38,
   "metadata": {
    "execution": {
     "iopub.execute_input": "2021-01-12T07:33:01.300099Z",
     "iopub.status.busy": "2021-01-12T07:33:01.299730Z",
     "iopub.status.idle": "2021-01-12T07:33:01.316210Z",
     "shell.execute_reply": "2021-01-12T07:33:01.315903Z"
    },
    "papermill": {
     "duration": 0.092257,
     "end_time": "2021-01-12T07:33:01.316302",
     "exception": false,
     "start_time": "2021-01-12T07:33:01.224045",
     "status": "completed"
    },
    "tags": []
   },
   "outputs": [
    {
     "data": {
      "text/html": [
       "<div>\n",
       "<style scoped>\n",
       "    .dataframe tbody tr th:only-of-type {\n",
       "        vertical-align: middle;\n",
       "    }\n",
       "\n",
       "    .dataframe tbody tr th {\n",
       "        vertical-align: top;\n",
       "    }\n",
       "\n",
       "    .dataframe thead th {\n",
       "        text-align: right;\n",
       "    }\n",
       "</style>\n",
       "<table border=\"1\" class=\"dataframe\">\n",
       "  <thead>\n",
       "    <tr style=\"text-align: right;\">\n",
       "      <th></th>\n",
       "      <th>ch_score</th>\n",
       "    </tr>\n",
       "    <tr>\n",
       "      <th>n_clusters</th>\n",
       "      <th></th>\n",
       "    </tr>\n",
       "  </thead>\n",
       "  <tbody>\n",
       "    <tr>\n",
       "      <th>2</th>\n",
       "      <td>209.860914</td>\n",
       "    </tr>\n",
       "    <tr>\n",
       "      <th>3</th>\n",
       "      <td>131.564051</td>\n",
       "    </tr>\n",
       "    <tr>\n",
       "      <th>4</th>\n",
       "      <td>97.555611</td>\n",
       "    </tr>\n",
       "    <tr>\n",
       "      <th>5</th>\n",
       "      <td>81.639661</td>\n",
       "    </tr>\n",
       "    <tr>\n",
       "      <th>6</th>\n",
       "      <td>78.534441</td>\n",
       "    </tr>\n",
       "    <tr>\n",
       "      <th>7</th>\n",
       "      <td>69.789170</td>\n",
       "    </tr>\n",
       "    <tr>\n",
       "      <th>8</th>\n",
       "      <td>64.134618</td>\n",
       "    </tr>\n",
       "    <tr>\n",
       "      <th>9</th>\n",
       "      <td>58.281060</td>\n",
       "    </tr>\n",
       "    <tr>\n",
       "      <th>10</th>\n",
       "      <td>53.599110</td>\n",
       "    </tr>\n",
       "    <tr>\n",
       "      <th>11</th>\n",
       "      <td>50.598672</td>\n",
       "    </tr>\n",
       "    <tr>\n",
       "      <th>12</th>\n",
       "      <td>47.729811</td>\n",
       "    </tr>\n",
       "    <tr>\n",
       "      <th>13</th>\n",
       "      <td>45.017813</td>\n",
       "    </tr>\n",
       "    <tr>\n",
       "      <th>14</th>\n",
       "      <td>43.155961</td>\n",
       "    </tr>\n",
       "    <tr>\n",
       "      <th>15</th>\n",
       "      <td>41.406954</td>\n",
       "    </tr>\n",
       "    <tr>\n",
       "      <th>16</th>\n",
       "      <td>39.885901</td>\n",
       "    </tr>\n",
       "    <tr>\n",
       "      <th>17</th>\n",
       "      <td>37.796773</td>\n",
       "    </tr>\n",
       "    <tr>\n",
       "      <th>18</th>\n",
       "      <td>36.008135</td>\n",
       "    </tr>\n",
       "    <tr>\n",
       "      <th>19</th>\n",
       "      <td>35.136939</td>\n",
       "    </tr>\n",
       "    <tr>\n",
       "      <th>20</th>\n",
       "      <td>33.163929</td>\n",
       "    </tr>\n",
       "    <tr>\n",
       "      <th>21</th>\n",
       "      <td>32.297813</td>\n",
       "    </tr>\n",
       "    <tr>\n",
       "      <th>22</th>\n",
       "      <td>31.139282</td>\n",
       "    </tr>\n",
       "    <tr>\n",
       "      <th>23</th>\n",
       "      <td>30.147330</td>\n",
       "    </tr>\n",
       "    <tr>\n",
       "      <th>24</th>\n",
       "      <td>29.181913</td>\n",
       "    </tr>\n",
       "    <tr>\n",
       "      <th>25</th>\n",
       "      <td>28.479340</td>\n",
       "    </tr>\n",
       "    <tr>\n",
       "      <th>26</th>\n",
       "      <td>27.806625</td>\n",
       "    </tr>\n",
       "    <tr>\n",
       "      <th>27</th>\n",
       "      <td>26.692594</td>\n",
       "    </tr>\n",
       "    <tr>\n",
       "      <th>28</th>\n",
       "      <td>25.957824</td>\n",
       "    </tr>\n",
       "    <tr>\n",
       "      <th>29</th>\n",
       "      <td>25.336544</td>\n",
       "    </tr>\n",
       "    <tr>\n",
       "      <th>30</th>\n",
       "      <td>24.783918</td>\n",
       "    </tr>\n",
       "    <tr>\n",
       "      <th>31</th>\n",
       "      <td>23.946865</td>\n",
       "    </tr>\n",
       "    <tr>\n",
       "      <th>32</th>\n",
       "      <td>23.542911</td>\n",
       "    </tr>\n",
       "    <tr>\n",
       "      <th>33</th>\n",
       "      <td>23.086001</td>\n",
       "    </tr>\n",
       "    <tr>\n",
       "      <th>34</th>\n",
       "      <td>22.480538</td>\n",
       "    </tr>\n",
       "    <tr>\n",
       "      <th>35</th>\n",
       "      <td>22.127100</td>\n",
       "    </tr>\n",
       "    <tr>\n",
       "      <th>36</th>\n",
       "      <td>21.707455</td>\n",
       "    </tr>\n",
       "    <tr>\n",
       "      <th>37</th>\n",
       "      <td>21.110891</td>\n",
       "    </tr>\n",
       "    <tr>\n",
       "      <th>38</th>\n",
       "      <td>20.579056</td>\n",
       "    </tr>\n",
       "    <tr>\n",
       "      <th>39</th>\n",
       "      <td>20.260785</td>\n",
       "    </tr>\n",
       "    <tr>\n",
       "      <th>40</th>\n",
       "      <td>19.760430</td>\n",
       "    </tr>\n",
       "    <tr>\n",
       "      <th>41</th>\n",
       "      <td>19.613539</td>\n",
       "    </tr>\n",
       "    <tr>\n",
       "      <th>42</th>\n",
       "      <td>19.124328</td>\n",
       "    </tr>\n",
       "    <tr>\n",
       "      <th>43</th>\n",
       "      <td>18.848443</td>\n",
       "    </tr>\n",
       "    <tr>\n",
       "      <th>44</th>\n",
       "      <td>18.533156</td>\n",
       "    </tr>\n",
       "    <tr>\n",
       "      <th>45</th>\n",
       "      <td>18.334737</td>\n",
       "    </tr>\n",
       "    <tr>\n",
       "      <th>46</th>\n",
       "      <td>17.913192</td>\n",
       "    </tr>\n",
       "    <tr>\n",
       "      <th>47</th>\n",
       "      <td>17.391692</td>\n",
       "    </tr>\n",
       "    <tr>\n",
       "      <th>48</th>\n",
       "      <td>17.235448</td>\n",
       "    </tr>\n",
       "    <tr>\n",
       "      <th>49</th>\n",
       "      <td>16.973152</td>\n",
       "    </tr>\n",
       "    <tr>\n",
       "      <th>50</th>\n",
       "      <td>16.759129</td>\n",
       "    </tr>\n",
       "    <tr>\n",
       "      <th>51</th>\n",
       "      <td>16.479822</td>\n",
       "    </tr>\n",
       "    <tr>\n",
       "      <th>52</th>\n",
       "      <td>16.346535</td>\n",
       "    </tr>\n",
       "    <tr>\n",
       "      <th>53</th>\n",
       "      <td>16.094979</td>\n",
       "    </tr>\n",
       "    <tr>\n",
       "      <th>54</th>\n",
       "      <td>15.763187</td>\n",
       "    </tr>\n",
       "    <tr>\n",
       "      <th>55</th>\n",
       "      <td>15.620224</td>\n",
       "    </tr>\n",
       "    <tr>\n",
       "      <th>56</th>\n",
       "      <td>15.433726</td>\n",
       "    </tr>\n",
       "    <tr>\n",
       "      <th>57</th>\n",
       "      <td>15.185285</td>\n",
       "    </tr>\n",
       "    <tr>\n",
       "      <th>58</th>\n",
       "      <td>14.940478</td>\n",
       "    </tr>\n",
       "    <tr>\n",
       "      <th>59</th>\n",
       "      <td>14.695266</td>\n",
       "    </tr>\n",
       "    <tr>\n",
       "      <th>60</th>\n",
       "      <td>14.656177</td>\n",
       "    </tr>\n",
       "  </tbody>\n",
       "</table>\n",
       "</div>"
      ],
      "text/plain": [
       "              ch_score\n",
       "n_clusters            \n",
       "2           209.860914\n",
       "3           131.564051\n",
       "4            97.555611\n",
       "5            81.639661\n",
       "6            78.534441\n",
       "7            69.789170\n",
       "8            64.134618\n",
       "9            58.281060\n",
       "10           53.599110\n",
       "11           50.598672\n",
       "12           47.729811\n",
       "13           45.017813\n",
       "14           43.155961\n",
       "15           41.406954\n",
       "16           39.885901\n",
       "17           37.796773\n",
       "18           36.008135\n",
       "19           35.136939\n",
       "20           33.163929\n",
       "21           32.297813\n",
       "22           31.139282\n",
       "23           30.147330\n",
       "24           29.181913\n",
       "25           28.479340\n",
       "26           27.806625\n",
       "27           26.692594\n",
       "28           25.957824\n",
       "29           25.336544\n",
       "30           24.783918\n",
       "31           23.946865\n",
       "32           23.542911\n",
       "33           23.086001\n",
       "34           22.480538\n",
       "35           22.127100\n",
       "36           21.707455\n",
       "37           21.110891\n",
       "38           20.579056\n",
       "39           20.260785\n",
       "40           19.760430\n",
       "41           19.613539\n",
       "42           19.124328\n",
       "43           18.848443\n",
       "44           18.533156\n",
       "45           18.334737\n",
       "46           17.913192\n",
       "47           17.391692\n",
       "48           17.235448\n",
       "49           16.973152\n",
       "50           16.759129\n",
       "51           16.479822\n",
       "52           16.346535\n",
       "53           16.094979\n",
       "54           15.763187\n",
       "55           15.620224\n",
       "56           15.433726\n",
       "57           15.185285\n",
       "58           14.940478\n",
       "59           14.695266\n",
       "60           14.656177"
      ]
     },
     "metadata": {},
     "output_type": "display_data"
    }
   ],
   "source": [
    "with pd.option_context(\"display.max_rows\", None, \"display.max_columns\", None):\n",
    "    _df = ensemble.groupby([\"n_clusters\"]).mean()\n",
    "    display(_df)"
   ]
  },
  {
   "cell_type": "code",
   "execution_count": 39,
   "metadata": {
    "execution": {
     "iopub.execute_input": "2021-01-12T07:33:01.469022Z",
     "iopub.status.busy": "2021-01-12T07:33:01.468588Z",
     "iopub.status.idle": "2021-01-12T07:33:04.359026Z",
     "shell.execute_reply": "2021-01-12T07:33:04.358661Z"
    },
    "papermill": {
     "duration": 2.967006,
     "end_time": "2021-01-12T07:33:04.359115",
     "exception": false,
     "start_time": "2021-01-12T07:33:01.392109",
     "status": "completed"
    },
    "tags": []
   },
   "outputs": [
    {
     "data": {
      "image/png": "[encoded data removed]",
      "text/plain": [
       "<Figure size 1008x432 with 1 Axes>"
      ]
     },
     "metadata": {},
     "output_type": "display_data"
    }
   ],
   "source": [
    "with sns.plotting_context(\"talk\", font_scale=0.75), sns.axes_style(\n",
    "    \"whitegrid\", {\"grid.linestyle\": \"--\"}\n",
    "):\n",
    "    fig = plt.figure(figsize=(14, 6))\n",
    "    ax = sns.pointplot(data=ensemble, x=\"n_clusters\", y=\"ch_score\")\n",
    "    ax.set_ylabel(\"Calinski-Harabasz index\")\n",
    "    ax.set_xlabel(\"Number of clusters ($k$)\")\n",
    "    ax.set_xticklabels(ax.get_xticklabels(), rotation=45)\n",
    "    plt.grid(True)\n",
    "    plt.tight_layout()"
   ]
  },
  {
   "cell_type": "markdown",
   "metadata": {
    "papermill": {
     "duration": 0.075752,
     "end_time": "2021-01-12T07:33:04.511861",
     "exception": false,
     "start_time": "2021-01-12T07:33:04.436109",
     "status": "completed"
    },
    "tags": []
   },
   "source": [
    "# Stability"
   ]
  },
  {
   "cell_type": "markdown",
   "metadata": {
    "papermill": {
     "duration": 0.076045,
     "end_time": "2021-01-12T07:33:04.663699",
     "exception": false,
     "start_time": "2021-01-12T07:33:04.587654",
     "status": "completed"
    },
    "tags": []
   },
   "source": [
    "## Group ensemble by n_clusters"
   ]
  },
  {
   "cell_type": "code",
   "execution_count": 40,
   "metadata": {
    "execution": {
     "iopub.execute_input": "2021-01-12T07:33:04.818891Z",
     "iopub.status.busy": "2021-01-12T07:33:04.818531Z",
     "iopub.status.idle": "2021-01-12T07:33:04.843355Z",
     "shell.execute_reply": "2021-01-12T07:33:04.843039Z"
    },
    "papermill": {
     "duration": 0.102783,
     "end_time": "2021-01-12T07:33:04.843447",
     "exception": false,
     "start_time": "2021-01-12T07:33:04.740664",
     "status": "completed"
    },
    "tags": []
   },
   "outputs": [],
   "source": [
    "parts = ensemble.groupby(\"n_clusters\").apply(\n",
    "    lambda x: np.concatenate(x[\"partition\"].apply(lambda x: x.reshape(1, -1)), axis=0)\n",
    ")"
   ]
  },
  {
   "cell_type": "code",
   "execution_count": 41,
   "metadata": {
    "execution": {
     "iopub.execute_input": "2021-01-12T07:33:04.997537Z",
     "iopub.status.busy": "2021-01-12T07:33:04.997161Z",
     "iopub.status.idle": "2021-01-12T07:33:05.020561Z",
     "shell.execute_reply": "2021-01-12T07:33:05.020190Z"
    },
    "papermill": {
     "duration": 0.100987,
     "end_time": "2021-01-12T07:33:05.020648",
     "exception": false,
     "start_time": "2021-01-12T07:33:04.919661",
     "status": "completed"
    },
    "tags": []
   },
   "outputs": [
    {
     "data": {
      "text/plain": [
       "n_clusters\n",
       "2    [[0.0, 0.0, 0.0, 0.0, 0.0, 0.0, 0.0, 0.0, 0.0,...\n",
       "3    [[0.0, 0.0, 0.0, 0.0, 0.0, 0.0, 0.0, 0.0, 0.0,...\n",
       "4    [[0.0, 0.0, 0.0, 0.0, 0.0, 0.0, 0.0, 0.0, 0.0,...\n",
       "5    [[0.0, 0.0, 0.0, 0.0, 0.0, 0.0, 0.0, 0.0, 0.0,...\n",
       "6    [[0.0, 0.0, 0.0, 0.0, 0.0, 0.0, 0.0, 0.0, 0.0,...\n",
       "dtype: object"
      ]
     },
     "execution_count": 41,
     "metadata": {},
     "output_type": "execute_result"
    }
   ],
   "source": [
    "parts.head()"
   ]
  },
  {
   "cell_type": "code",
   "execution_count": 42,
   "metadata": {
    "execution": {
     "iopub.execute_input": "2021-01-12T07:33:05.175450Z",
     "iopub.status.busy": "2021-01-12T07:33:05.175090Z",
     "iopub.status.idle": "2021-01-12T07:33:05.186790Z",
     "shell.execute_reply": "2021-01-12T07:33:05.186453Z"
    },
    "papermill": {
     "duration": 0.089533,
     "end_time": "2021-01-12T07:33:05.186918",
     "exception": false,
     "start_time": "2021-01-12T07:33:05.097385",
     "status": "completed"
    },
    "tags": []
   },
   "outputs": [],
   "source": [
    "assert np.all(\n",
    "    [\n",
    "        parts.loc[k].shape == (CLUSTERING_OPTIONS[\"N_REPS_PER_K\"], data.shape[0])\n",
    "        for k in parts.index\n",
    "    ]\n",
    ")"
   ]
  },
  {
   "cell_type": "markdown",
   "metadata": {
    "papermill": {
     "duration": 0.076228,
     "end_time": "2021-01-12T07:33:05.338375",
     "exception": false,
     "start_time": "2021-01-12T07:33:05.262147",
     "status": "completed"
    },
    "tags": []
   },
   "source": [
    "## Compute stability"
   ]
  },
  {
   "cell_type": "code",
   "execution_count": 43,
   "metadata": {
    "execution": {
     "iopub.execute_input": "2021-01-12T07:33:05.492087Z",
     "iopub.status.busy": "2021-01-12T07:33:05.491722Z",
     "iopub.status.idle": "2021-01-12T07:33:05.502749Z",
     "shell.execute_reply": "2021-01-12T07:33:05.502392Z"
    },
    "papermill": {
     "duration": 0.088153,
     "end_time": "2021-01-12T07:33:05.502833",
     "exception": false,
     "start_time": "2021-01-12T07:33:05.414680",
     "status": "completed"
    },
    "tags": []
   },
   "outputs": [],
   "source": [
    "from sklearn.metrics import adjusted_rand_score as ari\n",
    "from scipy.spatial.distance import pdist"
   ]
  },
  {
   "cell_type": "code",
   "execution_count": 44,
   "metadata": {
    "execution": {
     "iopub.execute_input": "2021-01-12T07:33:05.655979Z",
     "iopub.status.busy": "2021-01-12T07:33:05.655605Z",
     "iopub.status.idle": "2021-01-12T07:33:06.339887Z",
     "shell.execute_reply": "2021-01-12T07:33:06.339374Z"
    },
    "papermill": {
     "duration": 0.762181,
     "end_time": "2021-01-12T07:33:06.340005",
     "exception": false,
     "start_time": "2021-01-12T07:33:05.577824",
     "status": "completed"
    },
    "tags": []
   },
   "outputs": [],
   "source": [
    "parts_ari = pd.Series(\n",
    "    {k: pdist(parts.loc[k], metric=ari) for k in parts.index}, name=\"k\"\n",
    ")"
   ]
  },
  {
   "cell_type": "code",
   "execution_count": 45,
   "metadata": {
    "execution": {
     "iopub.execute_input": "2021-01-12T07:33:06.505353Z",
     "iopub.status.busy": "2021-01-12T07:33:06.504993Z",
     "iopub.status.idle": "2021-01-12T07:33:06.518292Z",
     "shell.execute_reply": "2021-01-12T07:33:06.517927Z"
    },
    "papermill": {
     "duration": 0.090977,
     "end_time": "2021-01-12T07:33:06.518379",
     "exception": false,
     "start_time": "2021-01-12T07:33:06.427402",
     "status": "completed"
    },
    "tags": []
   },
   "outputs": [
    {
     "data": {
      "text/plain": [
       "2     1.000000\n",
       "3     1.000000\n",
       "4     1.000000\n",
       "6     1.000000\n",
       "8     0.998945\n",
       "9     0.997515\n",
       "5     0.997443\n",
       "10    0.995146\n",
       "7     0.991709\n",
       "11    0.974260\n",
       "12    0.973695\n",
       "13    0.954654\n",
       "16    0.678772\n",
       "14    0.641453\n",
       "15    0.634012\n",
       "Name: k, dtype: float64"
      ]
     },
     "metadata": {},
     "output_type": "display_data"
    }
   ],
   "source": [
    "parts_ari_stability = parts_ari.apply(lambda x: x.mean())\n",
    "display(parts_ari_stability.sort_values(ascending=False).head(15))"
   ]
  },
  {
   "cell_type": "code",
   "execution_count": 46,
   "metadata": {
    "execution": {
     "iopub.execute_input": "2021-01-12T07:33:06.673599Z",
     "iopub.status.busy": "2021-01-12T07:33:06.673242Z",
     "iopub.status.idle": "2021-01-12T07:33:06.685355Z",
     "shell.execute_reply": "2021-01-12T07:33:06.684986Z"
    },
    "papermill": {
     "duration": 0.090425,
     "end_time": "2021-01-12T07:33:06.685443",
     "exception": false,
     "start_time": "2021-01-12T07:33:06.595018",
     "status": "completed"
    },
    "tags": []
   },
   "outputs": [],
   "source": [
    "parts_ari_df = pd.DataFrame.from_records(parts_ari.tolist()).set_index(\n",
    "    parts_ari.index.copy()\n",
    ")"
   ]
  },
  {
   "cell_type": "code",
   "execution_count": 47,
   "metadata": {
    "execution": {
     "iopub.execute_input": "2021-01-12T07:33:06.839480Z",
     "iopub.status.busy": "2021-01-12T07:33:06.839125Z",
     "iopub.status.idle": "2021-01-12T07:33:06.850891Z",
     "shell.execute_reply": "2021-01-12T07:33:06.850533Z"
    },
    "papermill": {
     "duration": 0.088904,
     "end_time": "2021-01-12T07:33:06.850976",
     "exception": false,
     "start_time": "2021-01-12T07:33:06.762072",
     "status": "completed"
    },
    "tags": []
   },
   "outputs": [
    {
     "data": {
      "text/plain": [
       "(59, 10)"
      ]
     },
     "execution_count": 47,
     "metadata": {},
     "output_type": "execute_result"
    }
   ],
   "source": [
    "parts_ari_df.shape"
   ]
  },
  {
   "cell_type": "code",
   "execution_count": 48,
   "metadata": {
    "execution": {
     "iopub.execute_input": "2021-01-12T07:33:07.005214Z",
     "iopub.status.busy": "2021-01-12T07:33:07.004842Z",
     "iopub.status.idle": "2021-01-12T07:33:07.016006Z",
     "shell.execute_reply": "2021-01-12T07:33:07.015645Z"
    },
    "papermill": {
     "duration": 0.089504,
     "end_time": "2021-01-12T07:33:07.016094",
     "exception": false,
     "start_time": "2021-01-12T07:33:06.926590",
     "status": "completed"
    },
    "tags": []
   },
   "outputs": [],
   "source": [
    "assert (\n",
    "    int(\n",
    "        (CLUSTERING_OPTIONS[\"N_REPS_PER_K\"] * (CLUSTERING_OPTIONS[\"N_REPS_PER_K\"] - 1))\n",
    "        / 2\n",
    "    )\n",
    "    == parts_ari_df.shape[1]\n",
    ")"
   ]
  },
  {
   "cell_type": "code",
   "execution_count": 49,
   "metadata": {
    "execution": {
     "iopub.execute_input": "2021-01-12T07:33:07.170303Z",
     "iopub.status.busy": "2021-01-12T07:33:07.169934Z",
     "iopub.status.idle": "2021-01-12T07:33:07.187668Z",
     "shell.execute_reply": "2021-01-12T07:33:07.187293Z"
    },
    "papermill": {
     "duration": 0.095748,
     "end_time": "2021-01-12T07:33:07.187758",
     "exception": false,
     "start_time": "2021-01-12T07:33:07.092010",
     "status": "completed"
    },
    "tags": []
   },
   "outputs": [
    {
     "data": {
      "text/html": [
       "<div>\n",
       "<style scoped>\n",
       "    .dataframe tbody tr th:only-of-type {\n",
       "        vertical-align: middle;\n",
       "    }\n",
       "\n",
       "    .dataframe tbody tr th {\n",
       "        vertical-align: top;\n",
       "    }\n",
       "\n",
       "    .dataframe thead th {\n",
       "        text-align: right;\n",
       "    }\n",
       "</style>\n",
       "<table border=\"1\" class=\"dataframe\">\n",
       "  <thead>\n",
       "    <tr style=\"text-align: right;\">\n",
       "      <th></th>\n",
       "      <th>0</th>\n",
       "      <th>1</th>\n",
       "      <th>2</th>\n",
       "      <th>3</th>\n",
       "      <th>4</th>\n",
       "      <th>5</th>\n",
       "      <th>6</th>\n",
       "      <th>7</th>\n",
       "      <th>8</th>\n",
       "      <th>9</th>\n",
       "    </tr>\n",
       "  </thead>\n",
       "  <tbody>\n",
       "    <tr>\n",
       "      <th>2</th>\n",
       "      <td>1.0</td>\n",
       "      <td>1.0</td>\n",
       "      <td>1.0</td>\n",
       "      <td>1.000000</td>\n",
       "      <td>1.0</td>\n",
       "      <td>1.0</td>\n",
       "      <td>1.000000</td>\n",
       "      <td>1.0</td>\n",
       "      <td>1.000000</td>\n",
       "      <td>1.000000</td>\n",
       "    </tr>\n",
       "    <tr>\n",
       "      <th>3</th>\n",
       "      <td>1.0</td>\n",
       "      <td>1.0</td>\n",
       "      <td>1.0</td>\n",
       "      <td>1.000000</td>\n",
       "      <td>1.0</td>\n",
       "      <td>1.0</td>\n",
       "      <td>1.000000</td>\n",
       "      <td>1.0</td>\n",
       "      <td>1.000000</td>\n",
       "      <td>1.000000</td>\n",
       "    </tr>\n",
       "    <tr>\n",
       "      <th>4</th>\n",
       "      <td>1.0</td>\n",
       "      <td>1.0</td>\n",
       "      <td>1.0</td>\n",
       "      <td>1.000000</td>\n",
       "      <td>1.0</td>\n",
       "      <td>1.0</td>\n",
       "      <td>1.000000</td>\n",
       "      <td>1.0</td>\n",
       "      <td>1.000000</td>\n",
       "      <td>1.000000</td>\n",
       "    </tr>\n",
       "    <tr>\n",
       "      <th>5</th>\n",
       "      <td>1.0</td>\n",
       "      <td>1.0</td>\n",
       "      <td>1.0</td>\n",
       "      <td>0.993607</td>\n",
       "      <td>1.0</td>\n",
       "      <td>1.0</td>\n",
       "      <td>0.993607</td>\n",
       "      <td>1.0</td>\n",
       "      <td>0.993607</td>\n",
       "      <td>0.993607</td>\n",
       "    </tr>\n",
       "    <tr>\n",
       "      <th>6</th>\n",
       "      <td>1.0</td>\n",
       "      <td>1.0</td>\n",
       "      <td>1.0</td>\n",
       "      <td>1.000000</td>\n",
       "      <td>1.0</td>\n",
       "      <td>1.0</td>\n",
       "      <td>1.000000</td>\n",
       "      <td>1.0</td>\n",
       "      <td>1.000000</td>\n",
       "      <td>1.000000</td>\n",
       "    </tr>\n",
       "  </tbody>\n",
       "</table>\n",
       "</div>"
      ],
      "text/plain": [
       "     0    1    2         3    4    5         6    7         8         9\n",
       "2  1.0  1.0  1.0  1.000000  1.0  1.0  1.000000  1.0  1.000000  1.000000\n",
       "3  1.0  1.0  1.0  1.000000  1.0  1.0  1.000000  1.0  1.000000  1.000000\n",
       "4  1.0  1.0  1.0  1.000000  1.0  1.0  1.000000  1.0  1.000000  1.000000\n",
       "5  1.0  1.0  1.0  0.993607  1.0  1.0  0.993607  1.0  0.993607  0.993607\n",
       "6  1.0  1.0  1.0  1.000000  1.0  1.0  1.000000  1.0  1.000000  1.000000"
      ]
     },
     "execution_count": 49,
     "metadata": {},
     "output_type": "execute_result"
    }
   ],
   "source": [
    "parts_ari_df.head()"
   ]
  },
  {
   "cell_type": "markdown",
   "metadata": {
    "papermill": {
     "duration": 0.075774,
     "end_time": "2021-01-12T07:33:07.340315",
     "exception": false,
     "start_time": "2021-01-12T07:33:07.264541",
     "status": "completed"
    },
    "tags": []
   },
   "source": [
    "## Save"
   ]
  },
  {
   "cell_type": "code",
   "execution_count": 50,
   "metadata": {
    "execution": {
     "iopub.execute_input": "2021-01-12T07:33:07.495562Z",
     "iopub.status.busy": "2021-01-12T07:33:07.495191Z",
     "iopub.status.idle": "2021-01-12T07:33:07.507387Z",
     "shell.execute_reply": "2021-01-12T07:33:07.507031Z"
    },
    "papermill": {
     "duration": 0.090865,
     "end_time": "2021-01-12T07:33:07.507472",
     "exception": false,
     "start_time": "2021-01-12T07:33:07.416607",
     "status": "completed"
    },
    "tags": []
   },
   "outputs": [
    {
     "data": {
      "text/plain": [
       "PosixPath('/home/miltondp/projects/labs/greenelab/phenoplier/base3/results/clustering/runs/z_score_std-projection-smultixcan-efo_partial-mashr-zscores/SpectralClustering-stability-AFFINITY_rbf-GAMMA_1e_10-KMEANS_N_INIT_10-K_MAX_60-K_MIN_2-N_REPS_PER_K_5.pkl')"
      ]
     },
     "metadata": {},
     "output_type": "display_data"
    }
   ],
   "source": [
    "output_filename = Path(\n",
    "    RESULTS_DIR,\n",
    "    generate_result_set_name(\n",
    "        CLUSTERING_OPTIONS,\n",
    "        prefix=f\"{clustering_method_name}-stability-\",\n",
    "        suffix=\".pkl\",\n",
    "    ),\n",
    ").resolve()\n",
    "display(output_filename)"
   ]
  },
  {
   "cell_type": "code",
   "execution_count": 51,
   "metadata": {
    "execution": {
     "iopub.execute_input": "2021-01-12T07:33:07.663803Z",
     "iopub.status.busy": "2021-01-12T07:33:07.663436Z",
     "iopub.status.idle": "2021-01-12T07:33:07.674762Z",
     "shell.execute_reply": "2021-01-12T07:33:07.674435Z"
    },
    "papermill": {
     "duration": 0.090737,
     "end_time": "2021-01-12T07:33:07.674852",
     "exception": false,
     "start_time": "2021-01-12T07:33:07.584115",
     "status": "completed"
    },
    "tags": []
   },
   "outputs": [],
   "source": [
    "parts_ari_df.to_pickle(output_filename)"
   ]
  },
  {
   "cell_type": "markdown",
   "metadata": {
    "papermill": {
     "duration": 0.076922,
     "end_time": "2021-01-12T07:33:07.828574",
     "exception": false,
     "start_time": "2021-01-12T07:33:07.751652",
     "status": "completed"
    },
    "tags": []
   },
   "source": [
    "## Stability plot"
   ]
  },
  {
   "cell_type": "code",
   "execution_count": 52,
   "metadata": {
    "execution": {
     "iopub.execute_input": "2021-01-12T07:33:07.987266Z",
     "iopub.status.busy": "2021-01-12T07:33:07.986905Z",
     "iopub.status.idle": "2021-01-12T07:33:07.999614Z",
     "shell.execute_reply": "2021-01-12T07:33:07.999281Z"
    },
    "papermill": {
     "duration": 0.092819,
     "end_time": "2021-01-12T07:33:07.999706",
     "exception": false,
     "start_time": "2021-01-12T07:33:07.906887",
     "status": "completed"
    },
    "tags": []
   },
   "outputs": [],
   "source": [
    "parts_ari_df_plot = (\n",
    "    parts_ari_df.stack()\n",
    "    .reset_index()\n",
    "    .rename(columns={\"level_0\": \"k\", \"level_1\": \"idx\", 0: \"ari\"})\n",
    ")"
   ]
  },
  {
   "cell_type": "code",
   "execution_count": 53,
   "metadata": {
    "execution": {
     "iopub.execute_input": "2021-01-12T07:33:08.156462Z",
     "iopub.status.busy": "2021-01-12T07:33:08.156094Z",
     "iopub.status.idle": "2021-01-12T07:33:08.168847Z",
     "shell.execute_reply": "2021-01-12T07:33:08.168439Z"
    },
    "papermill": {
     "duration": 0.091617,
     "end_time": "2021-01-12T07:33:08.168938",
     "exception": false,
     "start_time": "2021-01-12T07:33:08.077321",
     "status": "completed"
    },
    "tags": []
   },
   "outputs": [
    {
     "data": {
      "text/plain": [
       "k        int64\n",
       "idx      int64\n",
       "ari    float64\n",
       "dtype: object"
      ]
     },
     "execution_count": 53,
     "metadata": {},
     "output_type": "execute_result"
    }
   ],
   "source": [
    "parts_ari_df_plot.dtypes"
   ]
  },
  {
   "cell_type": "code",
   "execution_count": 54,
   "metadata": {
    "execution": {
     "iopub.execute_input": "2021-01-12T07:33:08.326628Z",
     "iopub.status.busy": "2021-01-12T07:33:08.326262Z",
     "iopub.status.idle": "2021-01-12T07:33:08.341452Z",
     "shell.execute_reply": "2021-01-12T07:33:08.341106Z"
    },
    "papermill": {
     "duration": 0.095006,
     "end_time": "2021-01-12T07:33:08.341542",
     "exception": false,
     "start_time": "2021-01-12T07:33:08.246536",
     "status": "completed"
    },
    "tags": []
   },
   "outputs": [
    {
     "data": {
      "text/html": [
       "<div>\n",
       "<style scoped>\n",
       "    .dataframe tbody tr th:only-of-type {\n",
       "        vertical-align: middle;\n",
       "    }\n",
       "\n",
       "    .dataframe tbody tr th {\n",
       "        vertical-align: top;\n",
       "    }\n",
       "\n",
       "    .dataframe thead th {\n",
       "        text-align: right;\n",
       "    }\n",
       "</style>\n",
       "<table border=\"1\" class=\"dataframe\">\n",
       "  <thead>\n",
       "    <tr style=\"text-align: right;\">\n",
       "      <th></th>\n",
       "      <th>k</th>\n",
       "      <th>idx</th>\n",
       "      <th>ari</th>\n",
       "    </tr>\n",
       "  </thead>\n",
       "  <tbody>\n",
       "    <tr>\n",
       "      <th>0</th>\n",
       "      <td>2</td>\n",
       "      <td>0</td>\n",
       "      <td>1.0</td>\n",
       "    </tr>\n",
       "    <tr>\n",
       "      <th>1</th>\n",
       "      <td>2</td>\n",
       "      <td>1</td>\n",
       "      <td>1.0</td>\n",
       "    </tr>\n",
       "    <tr>\n",
       "      <th>2</th>\n",
       "      <td>2</td>\n",
       "      <td>2</td>\n",
       "      <td>1.0</td>\n",
       "    </tr>\n",
       "    <tr>\n",
       "      <th>3</th>\n",
       "      <td>2</td>\n",
       "      <td>3</td>\n",
       "      <td>1.0</td>\n",
       "    </tr>\n",
       "    <tr>\n",
       "      <th>4</th>\n",
       "      <td>2</td>\n",
       "      <td>4</td>\n",
       "      <td>1.0</td>\n",
       "    </tr>\n",
       "  </tbody>\n",
       "</table>\n",
       "</div>"
      ],
      "text/plain": [
       "   k  idx  ari\n",
       "0  2    0  1.0\n",
       "1  2    1  1.0\n",
       "2  2    2  1.0\n",
       "3  2    3  1.0\n",
       "4  2    4  1.0"
      ]
     },
     "execution_count": 54,
     "metadata": {},
     "output_type": "execute_result"
    }
   ],
   "source": [
    "parts_ari_df_plot.head()"
   ]
  },
  {
   "cell_type": "code",
   "execution_count": 55,
   "metadata": {
    "execution": {
     "iopub.execute_input": "2021-01-12T07:33:08.501482Z",
     "iopub.status.busy": "2021-01-12T07:33:08.501101Z",
     "iopub.status.idle": "2021-01-12T07:33:11.129455Z",
     "shell.execute_reply": "2021-01-12T07:33:11.129134Z"
    },
    "papermill": {
     "duration": 2.709359,
     "end_time": "2021-01-12T07:33:11.129545",
     "exception": false,
     "start_time": "2021-01-12T07:33:08.420186",
     "status": "completed"
    },
    "tags": []
   },
   "outputs": [
    {
     "data": {
      "image/png": "[encoded data removed]",
      "text/plain": [
       "<Figure size 1008x432 with 1 Axes>"
      ]
     },
     "metadata": {},
     "output_type": "display_data"
    }
   ],
   "source": [
    "# with sns.axes_style('whitegrid', {'grid.linestyle': '--'}):\n",
    "with sns.plotting_context(\"talk\", font_scale=0.75), sns.axes_style(\n",
    "    \"whitegrid\", {\"grid.linestyle\": \"--\"}\n",
    "):\n",
    "    fig = plt.figure(figsize=(14, 6))\n",
    "    ax = sns.pointplot(data=parts_ari_df_plot, x=\"k\", y=\"ari\")\n",
    "    ax.set_ylabel(\"Averange ARI\")\n",
    "    ax.set_xlabel(\"Number of clusters ($k$)\")\n",
    "    ax.set_xticklabels(ax.get_xticklabels(), rotation=45)\n",
    "    #     ax.set_ylim(0.0, 1.0)\n",
    "    #     ax.set_xlim(CLUSTERING_OPTIONS['K_MIN'], CLUSTERING_OPTIONS['K_MAX'])\n",
    "    plt.grid(True)\n",
    "    plt.tight_layout()"
   ]
  },
  {
   "cell_type": "code",
   "execution_count": null,
   "metadata": {
    "papermill": {
     "duration": 0.079095,
     "end_time": "2021-01-12T07:33:11.443883",
     "exception": false,
     "start_time": "2021-01-12T07:33:11.364788",
     "status": "completed"
    },
    "tags": []
   },
   "outputs": [],
   "source": []
  }
 ],
 "metadata": {
  "jupytext": {
   "cell_metadata_filter": "all,-execution,-papermill",
   "formats": "ipynb,py//py:percent"
  },
  "kernelspec": {
   "display_name": "Python 3",
   "language": "python",
   "name": "python3"
  },
  "language_info": {
   "codemirror_mode": {
    "name": "ipython",
    "version": 3
   },
   "file_extension": ".py",
   "mimetype": "text/x-python",
   "name": "python",
   "nbconvert_exporter": "python",
   "pygments_lexer": "ipython3",
   "version": "3.8.6"
  },
  "papermill": {
   "default_parameters": {},
   "duration": 931.972357,
   "end_time": "2021-01-12T07:33:11.929109",
   "environment_variables": {},
   "exception": null,
   "input_path": "15_cluster_analysis/001_00-spectral-z_score_std.ipynb",
   "output_path": "15_cluster_analysis/001_00-spectral-z_score_std.run.ipynb",
   "parameters": {},
   "start_time": "2021-01-12T07:17:39.956752",
   "version": "2.2.2"
  },
  "toc-autonumbering": true,
  "toc-showcode": false,
  "toc-showmarkdowntxt": false,
  "toc-showtags": false
 },
 "nbformat": 4,
 "nbformat_minor": 4
}
