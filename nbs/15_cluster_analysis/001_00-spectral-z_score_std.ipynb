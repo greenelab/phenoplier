{
 "cells": [
  {
   "cell_type": "markdown",
   "metadata": {
    "papermill": {
     "duration": 0.057243,
     "end_time": "2021-01-05T16:55:10.311987",
     "exception": false,
     "start_time": "2021-01-05T16:55:10.254744",
     "status": "completed"
    },
    "tags": []
   },
   "source": [
    "# Description"
   ]
  },
  {
   "cell_type": "markdown",
   "metadata": {
    "papermill": {
     "duration": 0.020594,
     "end_time": "2021-01-05T16:55:10.353943",
     "exception": false,
     "start_time": "2021-01-05T16:55:10.333349",
     "status": "completed"
    },
    "tags": []
   },
   "source": [
    "Runs spectral clustering on the z_score_std version of the data."
   ]
  },
  {
   "cell_type": "markdown",
   "metadata": {
    "papermill": {
     "duration": 0.020651,
     "end_time": "2021-01-05T16:55:10.394933",
     "exception": false,
     "start_time": "2021-01-05T16:55:10.374282",
     "status": "completed"
    },
    "tags": []
   },
   "source": [
    "# Environment variables"
   ]
  },
  {
   "cell_type": "code",
   "execution_count": 1,
   "metadata": {
    "execution": {
     "iopub.execute_input": "2021-01-05T16:55:10.441901Z",
     "iopub.status.busy": "2021-01-05T16:55:10.441435Z",
     "iopub.status.idle": "2021-01-05T16:55:10.453038Z",
     "shell.execute_reply": "2021-01-05T16:55:10.452543Z"
    },
    "papermill": {
     "duration": 0.037623,
     "end_time": "2021-01-05T16:55:10.453161",
     "exception": false,
     "start_time": "2021-01-05T16:55:10.415538",
     "status": "completed"
    },
    "tags": []
   },
   "outputs": [
    {
     "data": {
      "text/plain": [
       "3"
      ]
     },
     "metadata": {},
     "output_type": "display_data"
    }
   ],
   "source": [
    "from IPython.display import display\n",
    "\n",
    "import conf\n",
    "\n",
    "N_JOBS = conf.GENERAL[\"N_JOBS\"]\n",
    "display(N_JOBS)"
   ]
  },
  {
   "cell_type": "code",
   "execution_count": 2,
   "metadata": {
    "execution": {
     "iopub.execute_input": "2021-01-05T16:55:10.501361Z",
     "iopub.status.busy": "2021-01-05T16:55:10.500837Z",
     "iopub.status.idle": "2021-01-05T16:55:10.503697Z",
     "shell.execute_reply": "2021-01-05T16:55:10.503375Z"
    },
    "papermill": {
     "duration": 0.028398,
     "end_time": "2021-01-05T16:55:10.503784",
     "exception": false,
     "start_time": "2021-01-05T16:55:10.475386",
     "status": "completed"
    },
    "tags": []
   },
   "outputs": [
    {
     "name": "stdout",
     "output_type": "stream",
     "text": [
      "env: MKL_NUM_THREADS=3\n",
      "env: OPEN_BLAS_NUM_THREADS=3\n",
      "env: NUMEXPR_NUM_THREADS=3\n",
      "env: OMP_NUM_THREADS=3\n"
     ]
    }
   ],
   "source": [
    "%env MKL_NUM_THREADS=$N_JOBS\n",
    "%env OPEN_BLAS_NUM_THREADS=$N_JOBS\n",
    "%env NUMEXPR_NUM_THREADS=$N_JOBS\n",
    "%env OMP_NUM_THREADS=$N_JOBS"
   ]
  },
  {
   "cell_type": "markdown",
   "metadata": {
    "papermill": {
     "duration": 0.021406,
     "end_time": "2021-01-05T16:55:10.546824",
     "exception": false,
     "start_time": "2021-01-05T16:55:10.525418",
     "status": "completed"
    },
    "tags": []
   },
   "source": [
    "# Modules loading"
   ]
  },
  {
   "cell_type": "code",
   "execution_count": 3,
   "metadata": {
    "execution": {
     "iopub.execute_input": "2021-01-05T16:55:10.592059Z",
     "iopub.status.busy": "2021-01-05T16:55:10.591693Z",
     "iopub.status.idle": "2021-01-05T16:55:10.599561Z",
     "shell.execute_reply": "2021-01-05T16:55:10.599194Z"
    },
    "papermill": {
     "duration": 0.031792,
     "end_time": "2021-01-05T16:55:10.599645",
     "exception": false,
     "start_time": "2021-01-05T16:55:10.567853",
     "status": "completed"
    },
    "tags": []
   },
   "outputs": [],
   "source": [
    "%load_ext autoreload\n",
    "%autoreload 2"
   ]
  },
  {
   "cell_type": "code",
   "execution_count": 4,
   "metadata": {
    "execution": {
     "iopub.execute_input": "2021-01-05T16:55:10.645223Z",
     "iopub.status.busy": "2021-01-05T16:55:10.644845Z",
     "iopub.status.idle": "2021-01-05T16:55:12.234125Z",
     "shell.execute_reply": "2021-01-05T16:55:12.233755Z"
    },
    "papermill": {
     "duration": 1.612945,
     "end_time": "2021-01-05T16:55:12.234231",
     "exception": false,
     "start_time": "2021-01-05T16:55:10.621286",
     "status": "completed"
    },
    "tags": []
   },
   "outputs": [],
   "source": [
    "from pathlib import Path\n",
    "\n",
    "import numpy as np\n",
    "import pandas as pd\n",
    "import matplotlib.pyplot as plt\n",
    "import seaborn as sns\n",
    "\n",
    "from utils import generate_result_set_name"
   ]
  },
  {
   "cell_type": "markdown",
   "metadata": {
    "papermill": {
     "duration": 0.021197,
     "end_time": "2021-01-05T16:55:12.279038",
     "exception": false,
     "start_time": "2021-01-05T16:55:12.257841",
     "status": "completed"
    },
    "tags": []
   },
   "source": [
    "# Settings"
   ]
  },
  {
   "cell_type": "code",
   "execution_count": 5,
   "metadata": {
    "execution": {
     "iopub.execute_input": "2021-01-05T16:55:12.325191Z",
     "iopub.status.busy": "2021-01-05T16:55:12.324809Z",
     "iopub.status.idle": "2021-01-05T16:55:12.337039Z",
     "shell.execute_reply": "2021-01-05T16:55:12.336657Z"
    },
    "papermill": {
     "duration": 0.036062,
     "end_time": "2021-01-05T16:55:12.337127",
     "exception": false,
     "start_time": "2021-01-05T16:55:12.301065",
     "status": "completed"
    },
    "tags": []
   },
   "outputs": [],
   "source": [
    "INITIAL_RANDOM_STATE = 30000"
   ]
  },
  {
   "cell_type": "markdown",
   "metadata": {
    "papermill": {
     "duration": 0.020806,
     "end_time": "2021-01-05T16:55:12.379122",
     "exception": false,
     "start_time": "2021-01-05T16:55:12.358316",
     "status": "completed"
    },
    "tags": []
   },
   "source": [
    "## Input data"
   ]
  },
  {
   "cell_type": "code",
   "execution_count": 6,
   "metadata": {
    "execution": {
     "iopub.execute_input": "2021-01-05T16:55:12.424111Z",
     "iopub.status.busy": "2021-01-05T16:55:12.423745Z",
     "iopub.status.idle": "2021-01-05T16:55:12.436514Z",
     "shell.execute_reply": "2021-01-05T16:55:12.436138Z"
    },
    "papermill": {
     "duration": 0.035943,
     "end_time": "2021-01-05T16:55:12.436612",
     "exception": false,
     "start_time": "2021-01-05T16:55:12.400669",
     "status": "completed"
    },
    "tags": []
   },
   "outputs": [],
   "source": [
    "INPUT_SUBSET = \"z_score_std\""
   ]
  },
  {
   "cell_type": "code",
   "execution_count": 7,
   "metadata": {
    "execution": {
     "iopub.execute_input": "2021-01-05T16:55:12.482002Z",
     "iopub.status.busy": "2021-01-05T16:55:12.481560Z",
     "iopub.status.idle": "2021-01-05T16:55:12.494124Z",
     "shell.execute_reply": "2021-01-05T16:55:12.493792Z"
    },
    "papermill": {
     "duration": 0.035381,
     "end_time": "2021-01-05T16:55:12.494214",
     "exception": false,
     "start_time": "2021-01-05T16:55:12.458833",
     "status": "completed"
    },
    "tags": []
   },
   "outputs": [],
   "source": [
    "INPUT_STEM = \"projection-smultixcan-efo_partial-mashr-zscores\""
   ]
  },
  {
   "cell_type": "code",
   "execution_count": 8,
   "metadata": {
    "execution": {
     "iopub.execute_input": "2021-01-05T16:55:12.539739Z",
     "iopub.status.busy": "2021-01-05T16:55:12.539366Z",
     "iopub.status.idle": "2021-01-05T16:55:12.553303Z",
     "shell.execute_reply": "2021-01-05T16:55:12.552927Z"
    },
    "papermill": {
     "duration": 0.037394,
     "end_time": "2021-01-05T16:55:12.553391",
     "exception": false,
     "start_time": "2021-01-05T16:55:12.515997",
     "status": "completed"
    },
    "tags": []
   },
   "outputs": [
    {
     "data": {
      "text/plain": [
       "PosixPath('/home/miltondp/projects/labs/greenelab/phenoplier/base3/results/data_transformations/z_score_std/z_score_std-projection-smultixcan-efo_partial-mashr-zscores.pkl')"
      ]
     },
     "metadata": {},
     "output_type": "display_data"
    },
    {
     "data": {
      "text/plain": [
       "'z_score_std-projection-smultixcan-efo_partial-mashr-zscores'"
      ]
     },
     "metadata": {},
     "output_type": "display_data"
    }
   ],
   "source": [
    "input_filepath = Path(\n",
    "    conf.RESULTS[\"DATA_TRANSFORMATIONS_DIR\"],\n",
    "    INPUT_SUBSET,\n",
    "    f\"{INPUT_SUBSET}-{INPUT_STEM}.pkl\",\n",
    ").resolve()\n",
    "display(input_filepath)\n",
    "\n",
    "assert input_filepath.exists(), \"Input file does not exist\"\n",
    "\n",
    "input_filepath_stem = input_filepath.stem\n",
    "display(input_filepath_stem)"
   ]
  },
  {
   "cell_type": "markdown",
   "metadata": {
    "papermill": {
     "duration": 0.021837,
     "end_time": "2021-01-05T16:55:12.596858",
     "exception": false,
     "start_time": "2021-01-05T16:55:12.575021",
     "status": "completed"
    },
    "tags": []
   },
   "source": [
    "## Clustering"
   ]
  },
  {
   "cell_type": "code",
   "execution_count": 9,
   "metadata": {
    "execution": {
     "iopub.execute_input": "2021-01-05T16:55:12.641789Z",
     "iopub.status.busy": "2021-01-05T16:55:12.641424Z",
     "iopub.status.idle": "2021-01-05T16:55:12.659713Z",
     "shell.execute_reply": "2021-01-05T16:55:12.659395Z"
    },
    "papermill": {
     "duration": 0.04176,
     "end_time": "2021-01-05T16:55:12.659804",
     "exception": false,
     "start_time": "2021-01-05T16:55:12.618044",
     "status": "completed"
    },
    "tags": []
   },
   "outputs": [],
   "source": [
    "from sklearn.cluster import SpectralClustering"
   ]
  },
  {
   "cell_type": "code",
   "execution_count": 10,
   "metadata": {
    "execution": {
     "iopub.execute_input": "2021-01-05T16:55:12.706741Z",
     "iopub.status.busy": "2021-01-05T16:55:12.706375Z",
     "iopub.status.idle": "2021-01-05T16:55:12.718648Z",
     "shell.execute_reply": "2021-01-05T16:55:12.718264Z"
    },
    "papermill": {
     "duration": 0.036227,
     "end_time": "2021-01-05T16:55:12.718737",
     "exception": false,
     "start_time": "2021-01-05T16:55:12.682510",
     "status": "completed"
    },
    "tags": []
   },
   "outputs": [],
   "source": [
    "CLUSTERING_ATTRIBUTES_TO_SAVE = [\"n_clusters\"]"
   ]
  },
  {
   "cell_type": "code",
   "execution_count": 11,
   "metadata": {
    "execution": {
     "iopub.execute_input": "2021-01-05T16:55:12.765161Z",
     "iopub.status.busy": "2021-01-05T16:55:12.764766Z",
     "iopub.status.idle": "2021-01-05T16:55:12.778100Z",
     "shell.execute_reply": "2021-01-05T16:55:12.777775Z"
    },
    "papermill": {
     "duration": 0.037563,
     "end_time": "2021-01-05T16:55:12.778188",
     "exception": false,
     "start_time": "2021-01-05T16:55:12.740625",
     "status": "completed"
    },
    "tags": []
   },
   "outputs": [
    {
     "data": {
      "text/plain": [
       "{'K_MIN': 2,\n",
       " 'K_MAX': 60,\n",
       " 'N_REPS_PER_K': 5,\n",
       " 'KMEANS_N_INIT': 10,\n",
       " 'N_NEIGHBORS': 10,\n",
       " 'AFFINITY': 'nearest_neighbors'}"
      ]
     },
     "metadata": {},
     "output_type": "display_data"
    }
   ],
   "source": [
    "CLUSTERING_OPTIONS = {}\n",
    "\n",
    "CLUSTERING_OPTIONS[\"K_MIN\"] = 2\n",
    "CLUSTERING_OPTIONS[\"K_MAX\"] = 60  # sqrt(3749)\n",
    "CLUSTERING_OPTIONS[\"N_REPS_PER_K\"] = 5\n",
    "CLUSTERING_OPTIONS[\"KMEANS_N_INIT\"] = 10\n",
    "CLUSTERING_OPTIONS[\"GAMMA\"] = 1.0e-10\n",
    "CLUSTERING_OPTIONS[\"AFFINITY\"] = \"rbf\"\n",
    "\n",
    "display(CLUSTERING_OPTIONS)"
   ]
  },
  {
   "cell_type": "code",
   "execution_count": 12,
   "metadata": {
    "execution": {
     "iopub.execute_input": "2021-01-05T16:55:12.826807Z",
     "iopub.status.busy": "2021-01-05T16:55:12.826432Z",
     "iopub.status.idle": "2021-01-05T16:55:12.839651Z",
     "shell.execute_reply": "2021-01-05T16:55:12.839322Z"
    },
    "papermill": {
     "duration": 0.038434,
     "end_time": "2021-01-05T16:55:12.839741",
     "exception": false,
     "start_time": "2021-01-05T16:55:12.801307",
     "status": "completed"
    },
    "tags": []
   },
   "outputs": [],
   "source": [
    "CLUSTERERS = {}\n",
    "\n",
    "idx = 0\n",
    "random_state = INITIAL_RANDOM_STATE\n",
    "\n",
    "for k in range(CLUSTERING_OPTIONS[\"K_MIN\"], CLUSTERING_OPTIONS[\"K_MAX\"] + 1):\n",
    "    for i in range(CLUSTERING_OPTIONS[\"N_REPS_PER_K\"]):\n",
    "        clus = SpectralClustering(\n",
    "            eigen_solver=\"arpack\",\n",
    "            n_clusters=k,\n",
    "            n_init=CLUSTERING_OPTIONS[\"KMEANS_N_INIT\"],\n",
    "            affinity=CLUSTERING_OPTIONS[\"AFFINITY\"],\n",
    "            gamma=CLUSTERING_OPTIONS[\"GAMMA\"],\n",
    "            random_state=random_state,\n",
    "        )\n",
    "\n",
    "        method_name = type(clus).__name__\n",
    "        CLUSTERERS[f\"{method_name} #{idx}\"] = clus\n",
    "\n",
    "        random_state = random_state + 1\n",
    "        idx = idx + 1"
   ]
  },
  {
   "cell_type": "code",
   "execution_count": 13,
   "metadata": {
    "execution": {
     "iopub.execute_input": "2021-01-05T16:55:12.886466Z",
     "iopub.status.busy": "2021-01-05T16:55:12.886090Z",
     "iopub.status.idle": "2021-01-05T16:55:12.898590Z",
     "shell.execute_reply": "2021-01-05T16:55:12.898877Z"
    },
    "papermill": {
     "duration": 0.037052,
     "end_time": "2021-01-05T16:55:12.898988",
     "exception": false,
     "start_time": "2021-01-05T16:55:12.861936",
     "status": "completed"
    },
    "tags": []
   },
   "outputs": [
    {
     "data": {
      "text/plain": [
       "295"
      ]
     },
     "metadata": {},
     "output_type": "display_data"
    }
   ],
   "source": [
    "display(len(CLUSTERERS))"
   ]
  },
  {
   "cell_type": "code",
   "execution_count": 14,
   "metadata": {
    "execution": {
     "iopub.execute_input": "2021-01-05T16:55:12.947022Z",
     "iopub.status.busy": "2021-01-05T16:55:12.946657Z",
     "iopub.status.idle": "2021-01-05T16:55:12.961394Z",
     "shell.execute_reply": "2021-01-05T16:55:12.961078Z"
    },
    "papermill": {
     "duration": 0.039329,
     "end_time": "2021-01-05T16:55:12.961480",
     "exception": false,
     "start_time": "2021-01-05T16:55:12.922151",
     "status": "completed"
    },
    "tags": []
   },
   "outputs": [
    {
     "data": {
      "text/plain": [
       "('SpectralClustering #0',\n",
       " SpectralClustering(affinity='nearest_neighbors', n_clusters=2,\n",
       "                    random_state=30000))"
      ]
     },
     "metadata": {},
     "output_type": "display_data"
    },
    {
     "data": {
      "text/plain": [
       "('SpectralClustering #1',\n",
       " SpectralClustering(affinity='nearest_neighbors', n_clusters=2,\n",
       "                    random_state=30001))"
      ]
     },
     "metadata": {},
     "output_type": "display_data"
    }
   ],
   "source": [
    "_iter = iter(CLUSTERERS.items())\n",
    "display(next(_iter))\n",
    "display(next(_iter))"
   ]
  },
  {
   "cell_type": "code",
   "execution_count": 15,
   "metadata": {
    "execution": {
     "iopub.execute_input": "2021-01-05T16:55:13.009021Z",
     "iopub.status.busy": "2021-01-05T16:55:13.008580Z",
     "iopub.status.idle": "2021-01-05T16:55:13.022087Z",
     "shell.execute_reply": "2021-01-05T16:55:13.021759Z"
    },
    "papermill": {
     "duration": 0.037967,
     "end_time": "2021-01-05T16:55:13.022175",
     "exception": false,
     "start_time": "2021-01-05T16:55:12.984208",
     "status": "completed"
    },
    "tags": []
   },
   "outputs": [
    {
     "data": {
      "text/plain": [
       "'SpectralClustering'"
      ]
     },
     "metadata": {},
     "output_type": "display_data"
    }
   ],
   "source": [
    "clustering_method_name = method_name\n",
    "display(clustering_method_name)"
   ]
  },
  {
   "cell_type": "markdown",
   "metadata": {
    "papermill": {
     "duration": 0.022345,
     "end_time": "2021-01-05T16:55:13.067444",
     "exception": false,
     "start_time": "2021-01-05T16:55:13.045099",
     "status": "completed"
    },
    "tags": []
   },
   "source": [
    "## Output directory"
   ]
  },
  {
   "cell_type": "code",
   "execution_count": 16,
   "metadata": {
    "execution": {
     "iopub.execute_input": "2021-01-05T16:55:13.115843Z",
     "iopub.status.busy": "2021-01-05T16:55:13.115353Z",
     "iopub.status.idle": "2021-01-05T16:55:13.128202Z",
     "shell.execute_reply": "2021-01-05T16:55:13.128529Z"
    },
    "papermill": {
     "duration": 0.038387,
     "end_time": "2021-01-05T16:55:13.128638",
     "exception": false,
     "start_time": "2021-01-05T16:55:13.090251",
     "status": "completed"
    },
    "tags": []
   },
   "outputs": [
    {
     "data": {
      "text/plain": [
       "PosixPath('/home/miltondp/projects/labs/greenelab/phenoplier/base3/results/clustering/runs/z_score_std-projection-smultixcan-efo_partial-mashr-zscores')"
      ]
     },
     "metadata": {},
     "output_type": "display_data"
    }
   ],
   "source": [
    "# output dir for this notebook\n",
    "RESULTS_DIR = Path(\n",
    "    conf.RESULTS[\"CLUSTERING_RUNS_DIR\"],\n",
    "    f\"{INPUT_SUBSET}-{INPUT_STEM}\",\n",
    ").resolve()\n",
    "RESULTS_DIR.mkdir(parents=True, exist_ok=True)\n",
    "\n",
    "display(RESULTS_DIR)"
   ]
  },
  {
   "cell_type": "markdown",
   "metadata": {
    "papermill": {
     "duration": 0.022882,
     "end_time": "2021-01-05T16:55:13.175489",
     "exception": false,
     "start_time": "2021-01-05T16:55:13.152607",
     "status": "completed"
    },
    "tags": []
   },
   "source": [
    "# Load input file"
   ]
  },
  {
   "cell_type": "code",
   "execution_count": 17,
   "metadata": {
    "execution": {
     "iopub.execute_input": "2021-01-05T16:55:13.224429Z",
     "iopub.status.busy": "2021-01-05T16:55:13.224053Z",
     "iopub.status.idle": "2021-01-05T16:55:13.249720Z",
     "shell.execute_reply": "2021-01-05T16:55:13.249355Z"
    },
    "papermill": {
     "duration": 0.051146,
     "end_time": "2021-01-05T16:55:13.249823",
     "exception": false,
     "start_time": "2021-01-05T16:55:13.198677",
     "status": "completed"
    },
    "tags": []
   },
   "outputs": [],
   "source": [
    "data = pd.read_pickle(input_filepath)"
   ]
  },
  {
   "cell_type": "code",
   "execution_count": 18,
   "metadata": {
    "execution": {
     "iopub.execute_input": "2021-01-05T16:55:13.301324Z",
     "iopub.status.busy": "2021-01-05T16:55:13.300935Z",
     "iopub.status.idle": "2021-01-05T16:55:13.314052Z",
     "shell.execute_reply": "2021-01-05T16:55:13.314353Z"
    },
    "papermill": {
     "duration": 0.039185,
     "end_time": "2021-01-05T16:55:13.314468",
     "exception": false,
     "start_time": "2021-01-05T16:55:13.275283",
     "status": "completed"
    },
    "tags": []
   },
   "outputs": [
    {
     "data": {
      "text/plain": [
       "(3749, 987)"
      ]
     },
     "execution_count": 18,
     "metadata": {},
     "output_type": "execute_result"
    }
   ],
   "source": [
    "data.shape"
   ]
  },
  {
   "cell_type": "code",
   "execution_count": 19,
   "metadata": {
    "execution": {
     "iopub.execute_input": "2021-01-05T16:55:13.364195Z",
     "iopub.status.busy": "2021-01-05T16:55:13.363823Z",
     "iopub.status.idle": "2021-01-05T16:55:13.388858Z",
     "shell.execute_reply": "2021-01-05T16:55:13.389142Z"
    },
    "papermill": {
     "duration": 0.050625,
     "end_time": "2021-01-05T16:55:13.389252",
     "exception": false,
     "start_time": "2021-01-05T16:55:13.338627",
     "status": "completed"
    },
    "tags": []
   },
   "outputs": [
    {
     "data": {
      "text/html": [
       "<div>\n",
       "<style scoped>\n",
       "    .dataframe tbody tr th:only-of-type {\n",
       "        vertical-align: middle;\n",
       "    }\n",
       "\n",
       "    .dataframe tbody tr th {\n",
       "        vertical-align: top;\n",
       "    }\n",
       "\n",
       "    .dataframe thead th {\n",
       "        text-align: right;\n",
       "    }\n",
       "</style>\n",
       "<table border=\"1\" class=\"dataframe\">\n",
       "  <thead>\n",
       "    <tr style=\"text-align: right;\">\n",
       "      <th></th>\n",
       "      <th>LV1</th>\n",
       "      <th>LV2</th>\n",
       "      <th>LV3</th>\n",
       "      <th>LV4</th>\n",
       "      <th>LV5</th>\n",
       "      <th>LV6</th>\n",
       "      <th>LV7</th>\n",
       "      <th>LV8</th>\n",
       "      <th>LV9</th>\n",
       "      <th>LV10</th>\n",
       "      <th>...</th>\n",
       "      <th>LV978</th>\n",
       "      <th>LV979</th>\n",
       "      <th>LV980</th>\n",
       "      <th>LV981</th>\n",
       "      <th>LV982</th>\n",
       "      <th>LV983</th>\n",
       "      <th>LV984</th>\n",
       "      <th>LV985</th>\n",
       "      <th>LV986</th>\n",
       "      <th>LV987</th>\n",
       "    </tr>\n",
       "  </thead>\n",
       "  <tbody>\n",
       "    <tr>\n",
       "      <th>100001_raw-Food_weight</th>\n",
       "      <td>-0.553743</td>\n",
       "      <td>1.851060</td>\n",
       "      <td>-0.095721</td>\n",
       "      <td>0.931603</td>\n",
       "      <td>-0.515196</td>\n",
       "      <td>1.371264</td>\n",
       "      <td>-0.413165</td>\n",
       "      <td>0.729668</td>\n",
       "      <td>0.546338</td>\n",
       "      <td>0.901153</td>\n",
       "      <td>...</td>\n",
       "      <td>1.148776</td>\n",
       "      <td>1.649018</td>\n",
       "      <td>-1.375952</td>\n",
       "      <td>2.203063</td>\n",
       "      <td>0.810199</td>\n",
       "      <td>-0.987048</td>\n",
       "      <td>0.277710</td>\n",
       "      <td>-0.607613</td>\n",
       "      <td>0.572376</td>\n",
       "      <td>-0.660846</td>\n",
       "    </tr>\n",
       "    <tr>\n",
       "      <th>100002_raw-Energy</th>\n",
       "      <td>-1.313905</td>\n",
       "      <td>-0.421015</td>\n",
       "      <td>-0.310524</td>\n",
       "      <td>-0.201978</td>\n",
       "      <td>0.233028</td>\n",
       "      <td>0.693838</td>\n",
       "      <td>0.084129</td>\n",
       "      <td>0.572439</td>\n",
       "      <td>0.217866</td>\n",
       "      <td>1.296973</td>\n",
       "      <td>...</td>\n",
       "      <td>0.165430</td>\n",
       "      <td>0.799276</td>\n",
       "      <td>-0.361989</td>\n",
       "      <td>-0.008253</td>\n",
       "      <td>2.063780</td>\n",
       "      <td>-0.930765</td>\n",
       "      <td>-0.147007</td>\n",
       "      <td>1.601938</td>\n",
       "      <td>-0.273553</td>\n",
       "      <td>-0.560822</td>\n",
       "    </tr>\n",
       "    <tr>\n",
       "      <th>100003_raw-Protein</th>\n",
       "      <td>-0.645622</td>\n",
       "      <td>-0.997845</td>\n",
       "      <td>0.249039</td>\n",
       "      <td>0.256499</td>\n",
       "      <td>0.422357</td>\n",
       "      <td>0.829189</td>\n",
       "      <td>-0.169004</td>\n",
       "      <td>0.511550</td>\n",
       "      <td>0.002389</td>\n",
       "      <td>-0.057200</td>\n",
       "      <td>...</td>\n",
       "      <td>1.016791</td>\n",
       "      <td>1.019488</td>\n",
       "      <td>-2.148844</td>\n",
       "      <td>-0.065130</td>\n",
       "      <td>0.041052</td>\n",
       "      <td>-0.836118</td>\n",
       "      <td>-0.320571</td>\n",
       "      <td>1.325519</td>\n",
       "      <td>-0.341494</td>\n",
       "      <td>-0.495786</td>\n",
       "    </tr>\n",
       "    <tr>\n",
       "      <th>100004_raw-Fat</th>\n",
       "      <td>-0.913924</td>\n",
       "      <td>-1.837183</td>\n",
       "      <td>0.012095</td>\n",
       "      <td>-1.301315</td>\n",
       "      <td>0.205794</td>\n",
       "      <td>1.129114</td>\n",
       "      <td>0.019985</td>\n",
       "      <td>0.376660</td>\n",
       "      <td>-0.810272</td>\n",
       "      <td>0.843611</td>\n",
       "      <td>...</td>\n",
       "      <td>0.544266</td>\n",
       "      <td>0.576714</td>\n",
       "      <td>0.281731</td>\n",
       "      <td>-0.218963</td>\n",
       "      <td>1.258957</td>\n",
       "      <td>-1.131924</td>\n",
       "      <td>0.378545</td>\n",
       "      <td>0.842047</td>\n",
       "      <td>-0.622194</td>\n",
       "      <td>-0.160058</td>\n",
       "    </tr>\n",
       "    <tr>\n",
       "      <th>100005_raw-Carbohydrate</th>\n",
       "      <td>-0.523004</td>\n",
       "      <td>0.131379</td>\n",
       "      <td>-0.097802</td>\n",
       "      <td>-0.030526</td>\n",
       "      <td>-0.021500</td>\n",
       "      <td>-0.219116</td>\n",
       "      <td>0.668229</td>\n",
       "      <td>0.365700</td>\n",
       "      <td>1.102347</td>\n",
       "      <td>0.845625</td>\n",
       "      <td>...</td>\n",
       "      <td>-0.344740</td>\n",
       "      <td>0.079274</td>\n",
       "      <td>0.253427</td>\n",
       "      <td>0.236474</td>\n",
       "      <td>1.033895</td>\n",
       "      <td>-0.229105</td>\n",
       "      <td>0.364793</td>\n",
       "      <td>1.776714</td>\n",
       "      <td>0.190531</td>\n",
       "      <td>-1.459641</td>\n",
       "    </tr>\n",
       "  </tbody>\n",
       "</table>\n",
       "<p>5 rows × 987 columns</p>\n",
       "</div>"
      ],
      "text/plain": [
       "                              LV1       LV2       LV3       LV4       LV5  \\\n",
       "100001_raw-Food_weight  -0.553743  1.851060 -0.095721  0.931603 -0.515196   \n",
       "100002_raw-Energy       -1.313905 -0.421015 -0.310524 -0.201978  0.233028   \n",
       "100003_raw-Protein      -0.645622 -0.997845  0.249039  0.256499  0.422357   \n",
       "100004_raw-Fat          -0.913924 -1.837183  0.012095 -1.301315  0.205794   \n",
       "100005_raw-Carbohydrate -0.523004  0.131379 -0.097802 -0.030526 -0.021500   \n",
       "\n",
       "                              LV6       LV7       LV8       LV9      LV10  \\\n",
       "100001_raw-Food_weight   1.371264 -0.413165  0.729668  0.546338  0.901153   \n",
       "100002_raw-Energy        0.693838  0.084129  0.572439  0.217866  1.296973   \n",
       "100003_raw-Protein       0.829189 -0.169004  0.511550  0.002389 -0.057200   \n",
       "100004_raw-Fat           1.129114  0.019985  0.376660 -0.810272  0.843611   \n",
       "100005_raw-Carbohydrate -0.219116  0.668229  0.365700  1.102347  0.845625   \n",
       "\n",
       "                         ...     LV978     LV979     LV980     LV981  \\\n",
       "100001_raw-Food_weight   ...  1.148776  1.649018 -1.375952  2.203063   \n",
       "100002_raw-Energy        ...  0.165430  0.799276 -0.361989 -0.008253   \n",
       "100003_raw-Protein       ...  1.016791  1.019488 -2.148844 -0.065130   \n",
       "100004_raw-Fat           ...  0.544266  0.576714  0.281731 -0.218963   \n",
       "100005_raw-Carbohydrate  ... -0.344740  0.079274  0.253427  0.236474   \n",
       "\n",
       "                            LV982     LV983     LV984     LV985     LV986  \\\n",
       "100001_raw-Food_weight   0.810199 -0.987048  0.277710 -0.607613  0.572376   \n",
       "100002_raw-Energy        2.063780 -0.930765 -0.147007  1.601938 -0.273553   \n",
       "100003_raw-Protein       0.041052 -0.836118 -0.320571  1.325519 -0.341494   \n",
       "100004_raw-Fat           1.258957 -1.131924  0.378545  0.842047 -0.622194   \n",
       "100005_raw-Carbohydrate  1.033895 -0.229105  0.364793  1.776714  0.190531   \n",
       "\n",
       "                            LV987  \n",
       "100001_raw-Food_weight  -0.660846  \n",
       "100002_raw-Energy       -0.560822  \n",
       "100003_raw-Protein      -0.495786  \n",
       "100004_raw-Fat          -0.160058  \n",
       "100005_raw-Carbohydrate -1.459641  \n",
       "\n",
       "[5 rows x 987 columns]"
      ]
     },
     "execution_count": 19,
     "metadata": {},
     "output_type": "execute_result"
    }
   ],
   "source": [
    "data.head()"
   ]
  },
  {
   "cell_type": "code",
   "execution_count": 20,
   "metadata": {
    "execution": {
     "iopub.execute_input": "2021-01-05T16:55:13.440843Z",
     "iopub.status.busy": "2021-01-05T16:55:13.440358Z",
     "iopub.status.idle": "2021-01-05T16:55:13.458509Z",
     "shell.execute_reply": "2021-01-05T16:55:13.458815Z"
    },
    "papermill": {
     "duration": 0.045392,
     "end_time": "2021-01-05T16:55:13.458932",
     "exception": false,
     "start_time": "2021-01-05T16:55:13.413540",
     "status": "completed"
    },
    "tags": []
   },
   "outputs": [],
   "source": [
    "assert not data.isna().any().any()"
   ]
  },
  {
   "cell_type": "markdown",
   "metadata": {
    "papermill": {
     "duration": 0.023345,
     "end_time": "2021-01-05T16:55:13.508203",
     "exception": false,
     "start_time": "2021-01-05T16:55:13.484858",
     "status": "completed"
    },
    "tags": []
   },
   "source": [
    "# Clustering"
   ]
  },
  {
   "cell_type": "markdown",
   "metadata": {
    "papermill": {
     "duration": 0.02297,
     "end_time": "2021-01-05T16:55:13.554507",
     "exception": false,
     "start_time": "2021-01-05T16:55:13.531537",
     "status": "completed"
    },
    "tags": []
   },
   "source": [
    "## Generate ensemble"
   ]
  },
  {
   "cell_type": "code",
   "execution_count": 21,
   "metadata": {
    "execution": {
     "iopub.execute_input": "2021-01-05T16:55:13.603605Z",
     "iopub.status.busy": "2021-01-05T16:55:13.603230Z",
     "iopub.status.idle": "2021-01-05T16:55:13.618219Z",
     "shell.execute_reply": "2021-01-05T16:55:13.617885Z"
    },
    "papermill": {
     "duration": 0.040664,
     "end_time": "2021-01-05T16:55:13.618311",
     "exception": false,
     "start_time": "2021-01-05T16:55:13.577647",
     "status": "completed"
    },
    "tags": []
   },
   "outputs": [],
   "source": [
    "from clustering.ensemble import generate_ensemble"
   ]
  },
  {
   "cell_type": "code",
   "execution_count": 22,
   "metadata": {
    "execution": {
     "iopub.execute_input": "2021-01-05T16:55:13.667873Z",
     "iopub.status.busy": "2021-01-05T16:55:13.667483Z",
     "iopub.status.idle": "2021-01-05T19:14:09.475448Z",
     "shell.execute_reply": "2021-01-05T19:14:09.474656Z"
    },
    "papermill": {
     "duration": 8335.83344,
     "end_time": "2021-01-05T19:14:09.475533",
     "exception": false,
     "start_time": "2021-01-05T16:55:13.642093",
     "status": "completed"
    },
    "tags": []
   },
   "outputs": [
    {
     "name": "stderr",
     "output_type": "stream",
     "text": [
      "100%|██████████| 295/295 [2:18:55<00:00, 28.26s/it]  \n"
     ]
    }
   ],
   "source": [
    "ensemble = generate_ensemble(\n",
    "    data,\n",
    "    CLUSTERERS,\n",
    "    attributes=CLUSTERING_ATTRIBUTES_TO_SAVE,\n",
    ")"
   ]
  },
  {
   "cell_type": "code",
   "execution_count": 23,
   "metadata": {
    "execution": {
     "iopub.execute_input": "2021-01-05T19:14:09.619969Z",
     "iopub.status.busy": "2021-01-05T19:14:09.619594Z",
     "iopub.status.idle": "2021-01-05T19:14:09.633184Z",
     "shell.execute_reply": "2021-01-05T19:14:09.633503Z"
    },
    "papermill": {
     "duration": 0.086615,
     "end_time": "2021-01-05T19:14:09.633618",
     "exception": false,
     "start_time": "2021-01-05T19:14:09.547003",
     "status": "completed"
    },
    "tags": []
   },
   "outputs": [
    {
     "data": {
      "text/plain": [
       "(295, 3)"
      ]
     },
     "execution_count": 23,
     "metadata": {},
     "output_type": "execute_result"
    }
   ],
   "source": [
    "# the number should be close to 295 (the number of partitions generated by k-means/spectral clustering)\n",
    "ensemble.shape"
   ]
  },
  {
   "cell_type": "code",
   "execution_count": 24,
   "metadata": {
    "execution": {
     "iopub.execute_input": "2021-01-05T19:14:09.780671Z",
     "iopub.status.busy": "2021-01-05T19:14:09.780292Z",
     "iopub.status.idle": "2021-01-05T19:14:09.800971Z",
     "shell.execute_reply": "2021-01-05T19:14:09.800538Z"
    },
    "papermill": {
     "duration": 0.093961,
     "end_time": "2021-01-05T19:14:09.801058",
     "exception": false,
     "start_time": "2021-01-05T19:14:09.707097",
     "status": "completed"
    },
    "tags": []
   },
   "outputs": [
    {
     "data": {
      "text/html": [
       "<div>\n",
       "<style scoped>\n",
       "    .dataframe tbody tr th:only-of-type {\n",
       "        vertical-align: middle;\n",
       "    }\n",
       "\n",
       "    .dataframe tbody tr th {\n",
       "        vertical-align: top;\n",
       "    }\n",
       "\n",
       "    .dataframe thead th {\n",
       "        text-align: right;\n",
       "    }\n",
       "</style>\n",
       "<table border=\"1\" class=\"dataframe\">\n",
       "  <thead>\n",
       "    <tr style=\"text-align: right;\">\n",
       "      <th></th>\n",
       "      <th>clusterer_params</th>\n",
       "      <th>partition</th>\n",
       "      <th>n_clusters</th>\n",
       "    </tr>\n",
       "    <tr>\n",
       "      <th>clusterer_id</th>\n",
       "      <th></th>\n",
       "      <th></th>\n",
       "      <th></th>\n",
       "    </tr>\n",
       "  </thead>\n",
       "  <tbody>\n",
       "    <tr>\n",
       "      <th>SpectralClustering #0</th>\n",
       "      <td>{'affinity': 'nearest_neighbors', 'assign_labe...</td>\n",
       "      <td>[0.0, 0.0, 0.0, 0.0, 0.0, 0.0, 0.0, 0.0, 0.0, ...</td>\n",
       "      <td>2</td>\n",
       "    </tr>\n",
       "    <tr>\n",
       "      <th>SpectralClustering #1</th>\n",
       "      <td>{'affinity': 'nearest_neighbors', 'assign_labe...</td>\n",
       "      <td>[0.0, 0.0, 0.0, 0.0, 0.0, 0.0, 0.0, 0.0, 0.0, ...</td>\n",
       "      <td>2</td>\n",
       "    </tr>\n",
       "    <tr>\n",
       "      <th>SpectralClustering #2</th>\n",
       "      <td>{'affinity': 'nearest_neighbors', 'assign_labe...</td>\n",
       "      <td>[0.0, 0.0, 0.0, 0.0, 0.0, 0.0, 0.0, 0.0, 0.0, ...</td>\n",
       "      <td>2</td>\n",
       "    </tr>\n",
       "    <tr>\n",
       "      <th>SpectralClustering #3</th>\n",
       "      <td>{'affinity': 'nearest_neighbors', 'assign_labe...</td>\n",
       "      <td>[0.0, 0.0, 0.0, 0.0, 0.0, 0.0, 0.0, 0.0, 0.0, ...</td>\n",
       "      <td>2</td>\n",
       "    </tr>\n",
       "    <tr>\n",
       "      <th>SpectralClustering #4</th>\n",
       "      <td>{'affinity': 'nearest_neighbors', 'assign_labe...</td>\n",
       "      <td>[0.0, 0.0, 0.0, 0.0, 0.0, 0.0, 0.0, 0.0, 0.0, ...</td>\n",
       "      <td>2</td>\n",
       "    </tr>\n",
       "  </tbody>\n",
       "</table>\n",
       "</div>"
      ],
      "text/plain": [
       "                                                        clusterer_params  \\\n",
       "clusterer_id                                                               \n",
       "SpectralClustering #0  {'affinity': 'nearest_neighbors', 'assign_labe...   \n",
       "SpectralClustering #1  {'affinity': 'nearest_neighbors', 'assign_labe...   \n",
       "SpectralClustering #2  {'affinity': 'nearest_neighbors', 'assign_labe...   \n",
       "SpectralClustering #3  {'affinity': 'nearest_neighbors', 'assign_labe...   \n",
       "SpectralClustering #4  {'affinity': 'nearest_neighbors', 'assign_labe...   \n",
       "\n",
       "                                                               partition  \\\n",
       "clusterer_id                                                               \n",
       "SpectralClustering #0  [0.0, 0.0, 0.0, 0.0, 0.0, 0.0, 0.0, 0.0, 0.0, ...   \n",
       "SpectralClustering #1  [0.0, 0.0, 0.0, 0.0, 0.0, 0.0, 0.0, 0.0, 0.0, ...   \n",
       "SpectralClustering #2  [0.0, 0.0, 0.0, 0.0, 0.0, 0.0, 0.0, 0.0, 0.0, ...   \n",
       "SpectralClustering #3  [0.0, 0.0, 0.0, 0.0, 0.0, 0.0, 0.0, 0.0, 0.0, ...   \n",
       "SpectralClustering #4  [0.0, 0.0, 0.0, 0.0, 0.0, 0.0, 0.0, 0.0, 0.0, ...   \n",
       "\n",
       "                       n_clusters  \n",
       "clusterer_id                       \n",
       "SpectralClustering #0           2  \n",
       "SpectralClustering #1           2  \n",
       "SpectralClustering #2           2  \n",
       "SpectralClustering #3           2  \n",
       "SpectralClustering #4           2  "
      ]
     },
     "execution_count": 24,
     "metadata": {},
     "output_type": "execute_result"
    }
   ],
   "source": [
    "ensemble.head()"
   ]
  },
  {
   "cell_type": "code",
   "execution_count": 25,
   "metadata": {
    "execution": {
     "iopub.execute_input": "2021-01-05T19:14:09.948056Z",
     "iopub.status.busy": "2021-01-05T19:14:09.947686Z",
     "iopub.status.idle": "2021-01-05T19:14:09.961752Z",
     "shell.execute_reply": "2021-01-05T19:14:09.961375Z"
    },
    "papermill": {
     "duration": 0.088294,
     "end_time": "2021-01-05T19:14:09.961841",
     "exception": false,
     "start_time": "2021-01-05T19:14:09.873547",
     "status": "completed"
    },
    "tags": []
   },
   "outputs": [
    {
     "data": {
      "text/plain": [
       "60    5\n",
       "16    5\n",
       "28    5\n",
       "27    5\n",
       "26    5\n",
       "Name: n_clusters, dtype: int64"
      ]
     },
     "execution_count": 25,
     "metadata": {},
     "output_type": "execute_result"
    }
   ],
   "source": [
    "ensemble[\"n_clusters\"].value_counts().head()"
   ]
  },
  {
   "cell_type": "code",
   "execution_count": 26,
   "metadata": {
    "execution": {
     "iopub.execute_input": "2021-01-05T19:14:10.106972Z",
     "iopub.status.busy": "2021-01-05T19:14:10.106598Z",
     "iopub.status.idle": "2021-01-05T19:14:10.122849Z",
     "shell.execute_reply": "2021-01-05T19:14:10.122470Z"
    },
    "papermill": {
     "duration": 0.088975,
     "end_time": "2021-01-05T19:14:10.122937",
     "exception": false,
     "start_time": "2021-01-05T19:14:10.033962",
     "status": "completed"
    },
    "tags": []
   },
   "outputs": [
    {
     "data": {
      "text/plain": [
       "count    295.000000\n",
       "mean      31.000000\n",
       "std       17.058323\n",
       "min        2.000000\n",
       "25%       16.000000\n",
       "50%       31.000000\n",
       "75%       46.000000\n",
       "max       60.000000\n",
       "Name: n_clusters, dtype: float64"
      ]
     },
     "metadata": {},
     "output_type": "display_data"
    }
   ],
   "source": [
    "ensemble_stats = ensemble[\"n_clusters\"].describe()\n",
    "display(ensemble_stats)"
   ]
  },
  {
   "cell_type": "markdown",
   "metadata": {
    "papermill": {
     "duration": 0.071406,
     "end_time": "2021-01-05T19:14:10.267941",
     "exception": false,
     "start_time": "2021-01-05T19:14:10.196535",
     "status": "completed"
    },
    "tags": []
   },
   "source": [
    "## Testing"
   ]
  },
  {
   "cell_type": "code",
   "execution_count": 27,
   "metadata": {
    "execution": {
     "iopub.execute_input": "2021-01-05T19:14:10.414217Z",
     "iopub.status.busy": "2021-01-05T19:14:10.413850Z",
     "iopub.status.idle": "2021-01-05T19:14:10.425943Z",
     "shell.execute_reply": "2021-01-05T19:14:10.425564Z"
    },
    "papermill": {
     "duration": 0.086013,
     "end_time": "2021-01-05T19:14:10.426033",
     "exception": false,
     "start_time": "2021-01-05T19:14:10.340020",
     "status": "completed"
    },
    "tags": []
   },
   "outputs": [],
   "source": [
    "assert ensemble_stats[\"min\"] > 1"
   ]
  },
  {
   "cell_type": "code",
   "execution_count": 28,
   "metadata": {
    "execution": {
     "iopub.execute_input": "2021-01-05T19:14:10.572123Z",
     "iopub.status.busy": "2021-01-05T19:14:10.571756Z",
     "iopub.status.idle": "2021-01-05T19:14:10.584138Z",
     "shell.execute_reply": "2021-01-05T19:14:10.583754Z"
    },
    "papermill": {
     "duration": 0.086859,
     "end_time": "2021-01-05T19:14:10.584227",
     "exception": false,
     "start_time": "2021-01-05T19:14:10.497368",
     "status": "completed"
    },
    "tags": []
   },
   "outputs": [],
   "source": [
    "assert not ensemble[\"n_clusters\"].isna().any()"
   ]
  },
  {
   "cell_type": "code",
   "execution_count": 29,
   "metadata": {
    "execution": {
     "iopub.execute_input": "2021-01-05T19:14:10.735661Z",
     "iopub.status.busy": "2021-01-05T19:14:10.735296Z",
     "iopub.status.idle": "2021-01-05T19:14:10.751902Z",
     "shell.execute_reply": "2021-01-05T19:14:10.750563Z"
    },
    "papermill": {
     "duration": 0.092444,
     "end_time": "2021-01-05T19:14:10.752245",
     "exception": false,
     "start_time": "2021-01-05T19:14:10.659801",
     "status": "completed"
    },
    "tags": []
   },
   "outputs": [],
   "source": [
    "assert ensemble.shape[0] == len(CLUSTERERS)"
   ]
  },
  {
   "cell_type": "code",
   "execution_count": 30,
   "metadata": {
    "execution": {
     "iopub.execute_input": "2021-01-05T19:14:10.932128Z",
     "iopub.status.busy": "2021-01-05T19:14:10.931748Z",
     "iopub.status.idle": "2021-01-05T19:14:10.961432Z",
     "shell.execute_reply": "2021-01-05T19:14:10.961055Z"
    },
    "papermill": {
     "duration": 0.103779,
     "end_time": "2021-01-05T19:14:10.961522",
     "exception": false,
     "start_time": "2021-01-05T19:14:10.857743",
     "status": "completed"
    },
    "tags": []
   },
   "outputs": [],
   "source": [
    "# all partitions have the right size\n",
    "assert np.all(\n",
    "    [part[\"partition\"].shape[0] == data.shape[0] for idx, part in ensemble.iterrows()]\n",
    ")"
   ]
  },
  {
   "cell_type": "code",
   "execution_count": 31,
   "metadata": {
    "execution": {
     "iopub.execute_input": "2021-01-05T19:14:11.109841Z",
     "iopub.status.busy": "2021-01-05T19:14:11.109450Z",
     "iopub.status.idle": "2021-01-05T19:14:11.143049Z",
     "shell.execute_reply": "2021-01-05T19:14:11.143338Z"
    },
    "papermill": {
     "duration": 0.108258,
     "end_time": "2021-01-05T19:14:11.143453",
     "exception": false,
     "start_time": "2021-01-05T19:14:11.035195",
     "status": "completed"
    },
    "tags": []
   },
   "outputs": [],
   "source": [
    "# no partition has negative clusters (noisy points)\n",
    "assert not np.any([(part[\"partition\"] < 0).any() for idx, part in ensemble.iterrows()])"
   ]
  },
  {
   "cell_type": "markdown",
   "metadata": {
    "papermill": {
     "duration": 0.07194,
     "end_time": "2021-01-05T19:14:11.287465",
     "exception": false,
     "start_time": "2021-01-05T19:14:11.215525",
     "status": "completed"
    },
    "tags": []
   },
   "source": [
    "## Save"
   ]
  },
  {
   "cell_type": "code",
   "execution_count": 32,
   "metadata": {
    "execution": {
     "iopub.execute_input": "2021-01-05T19:14:11.434973Z",
     "iopub.status.busy": "2021-01-05T19:14:11.434586Z",
     "iopub.status.idle": "2021-01-05T19:14:11.448172Z",
     "shell.execute_reply": "2021-01-05T19:14:11.447792Z"
    },
    "papermill": {
     "duration": 0.088629,
     "end_time": "2021-01-05T19:14:11.448261",
     "exception": false,
     "start_time": "2021-01-05T19:14:11.359632",
     "status": "completed"
    },
    "tags": []
   },
   "outputs": [
    {
     "data": {
      "text/plain": [
       "PosixPath('/home/miltondp/projects/labs/greenelab/phenoplier/base3/results/clustering/runs/z_score_std-projection-smultixcan-efo_partial-mashr-zscores/SpectralClustering-AFFINITY_nearest_neighbors-KMEANS_N_INIT_10-K_MAX_60-K_MIN_2-N_NEIGHBORS_10-N_REPS_PER_K_5.pkl')"
      ]
     },
     "metadata": {},
     "output_type": "display_data"
    }
   ],
   "source": [
    "output_filename = Path(\n",
    "    RESULTS_DIR,\n",
    "    generate_result_set_name(\n",
    "        CLUSTERING_OPTIONS,\n",
    "        prefix=f\"{clustering_method_name}-\",\n",
    "        suffix=\".pkl\",\n",
    "    ),\n",
    ").resolve()\n",
    "display(output_filename)"
   ]
  },
  {
   "cell_type": "code",
   "execution_count": 33,
   "metadata": {
    "execution": {
     "iopub.execute_input": "2021-01-05T19:14:11.596885Z",
     "iopub.status.busy": "2021-01-05T19:14:11.596452Z",
     "iopub.status.idle": "2021-01-05T19:14:11.620291Z",
     "shell.execute_reply": "2021-01-05T19:14:11.619972Z"
    },
    "papermill": {
     "duration": 0.098355,
     "end_time": "2021-01-05T19:14:11.620384",
     "exception": false,
     "start_time": "2021-01-05T19:14:11.522029",
     "status": "completed"
    },
    "tags": []
   },
   "outputs": [],
   "source": [
    "ensemble.to_pickle(output_filename)"
   ]
  },
  {
   "cell_type": "markdown",
   "metadata": {
    "papermill": {
     "duration": 0.071427,
     "end_time": "2021-01-05T19:14:11.766622",
     "exception": false,
     "start_time": "2021-01-05T19:14:11.695195",
     "status": "completed"
    },
    "tags": []
   },
   "source": [
    "# Stability"
   ]
  },
  {
   "cell_type": "markdown",
   "metadata": {
    "papermill": {
     "duration": 0.071367,
     "end_time": "2021-01-05T19:14:11.909484",
     "exception": false,
     "start_time": "2021-01-05T19:14:11.838117",
     "status": "completed"
    },
    "tags": []
   },
   "source": [
    "## Group ensemble by n_clusters"
   ]
  },
  {
   "cell_type": "code",
   "execution_count": 34,
   "metadata": {
    "execution": {
     "iopub.execute_input": "2021-01-05T19:14:12.055862Z",
     "iopub.status.busy": "2021-01-05T19:14:12.055492Z",
     "iopub.status.idle": "2021-01-05T19:14:12.081918Z",
     "shell.execute_reply": "2021-01-05T19:14:12.081525Z"
    },
    "papermill": {
     "duration": 0.100933,
     "end_time": "2021-01-05T19:14:12.082010",
     "exception": false,
     "start_time": "2021-01-05T19:14:11.981077",
     "status": "completed"
    },
    "tags": []
   },
   "outputs": [],
   "source": [
    "parts = ensemble.groupby(\"n_clusters\").apply(\n",
    "    lambda x: np.concatenate(x[\"partition\"].apply(lambda x: x.reshape(1, -1)), axis=0)\n",
    ")"
   ]
  },
  {
   "cell_type": "code",
   "execution_count": 35,
   "metadata": {
    "execution": {
     "iopub.execute_input": "2021-01-05T19:14:12.228758Z",
     "iopub.status.busy": "2021-01-05T19:14:12.228352Z",
     "iopub.status.idle": "2021-01-05T19:14:12.252115Z",
     "shell.execute_reply": "2021-01-05T19:14:12.252393Z"
    },
    "papermill": {
     "duration": 0.098129,
     "end_time": "2021-01-05T19:14:12.252501",
     "exception": false,
     "start_time": "2021-01-05T19:14:12.154372",
     "status": "completed"
    },
    "tags": []
   },
   "outputs": [
    {
     "data": {
      "text/plain": [
       "n_clusters\n",
       "2    [[0.0, 0.0, 0.0, 0.0, 0.0, 0.0, 0.0, 0.0, 0.0,...\n",
       "3    [[0.0, 0.0, 0.0, 0.0, 0.0, 0.0, 0.0, 0.0, 0.0,...\n",
       "4    [[0.0, 0.0, 0.0, 0.0, 0.0, 0.0, 0.0, 0.0, 0.0,...\n",
       "5    [[0.0, 0.0, 0.0, 0.0, 0.0, 0.0, 0.0, 0.0, 0.0,...\n",
       "6    [[0.0, 0.0, 0.0, 0.0, 0.0, 0.0, 0.0, 0.0, 0.0,...\n",
       "dtype: object"
      ]
     },
     "execution_count": 35,
     "metadata": {},
     "output_type": "execute_result"
    }
   ],
   "source": [
    "parts.head()"
   ]
  },
  {
   "cell_type": "code",
   "execution_count": 36,
   "metadata": {
    "execution": {
     "iopub.execute_input": "2021-01-05T19:14:12.401115Z",
     "iopub.status.busy": "2021-01-05T19:14:12.400743Z",
     "iopub.status.idle": "2021-01-05T19:14:12.413582Z",
     "shell.execute_reply": "2021-01-05T19:14:12.413197Z"
    },
    "papermill": {
     "duration": 0.087658,
     "end_time": "2021-01-05T19:14:12.413670",
     "exception": false,
     "start_time": "2021-01-05T19:14:12.326012",
     "status": "completed"
    },
    "tags": []
   },
   "outputs": [],
   "source": [
    "assert np.all(\n",
    "    [\n",
    "        parts.loc[k].shape == (CLUSTERING_OPTIONS[\"N_REPS_PER_K\"], data.shape[0])\n",
    "        for k in parts.index\n",
    "    ]\n",
    ")"
   ]
  },
  {
   "cell_type": "markdown",
   "metadata": {
    "papermill": {
     "duration": 0.072146,
     "end_time": "2021-01-05T19:14:12.557712",
     "exception": false,
     "start_time": "2021-01-05T19:14:12.485566",
     "status": "completed"
    },
    "tags": []
   },
   "source": [
    "## Compute stability"
   ]
  },
  {
   "cell_type": "code",
   "execution_count": 37,
   "metadata": {
    "execution": {
     "iopub.execute_input": "2021-01-05T19:14:12.706874Z",
     "iopub.status.busy": "2021-01-05T19:14:12.706502Z",
     "iopub.status.idle": "2021-01-05T19:14:12.718503Z",
     "shell.execute_reply": "2021-01-05T19:14:12.718784Z"
    },
    "papermill": {
     "duration": 0.08936,
     "end_time": "2021-01-05T19:14:12.718892",
     "exception": false,
     "start_time": "2021-01-05T19:14:12.629532",
     "status": "completed"
    },
    "tags": []
   },
   "outputs": [],
   "source": [
    "from sklearn.metrics import adjusted_rand_score as ari\n",
    "from scipy.spatial.distance import pdist"
   ]
  },
  {
   "cell_type": "code",
   "execution_count": 38,
   "metadata": {
    "execution": {
     "iopub.execute_input": "2021-01-05T19:14:12.865608Z",
     "iopub.status.busy": "2021-01-05T19:14:12.865226Z",
     "iopub.status.idle": "2021-01-05T19:14:13.389241Z",
     "shell.execute_reply": "2021-01-05T19:14:13.388849Z"
    },
    "papermill": {
     "duration": 0.597984,
     "end_time": "2021-01-05T19:14:13.389335",
     "exception": false,
     "start_time": "2021-01-05T19:14:12.791351",
     "status": "completed"
    },
    "tags": []
   },
   "outputs": [],
   "source": [
    "parts_ari = pd.Series(\n",
    "    {k: pdist(parts.loc[k], metric=ari) for k in parts.index}, name=\"k\"\n",
    ")"
   ]
  },
  {
   "cell_type": "code",
   "execution_count": 39,
   "metadata": {
    "execution": {
     "iopub.execute_input": "2021-01-05T19:14:13.536034Z",
     "iopub.status.busy": "2021-01-05T19:14:13.535664Z",
     "iopub.status.idle": "2021-01-05T19:14:13.550140Z",
     "shell.execute_reply": "2021-01-05T19:14:13.549773Z"
    },
    "papermill": {
     "duration": 0.088749,
     "end_time": "2021-01-05T19:14:13.550226",
     "exception": false,
     "start_time": "2021-01-05T19:14:13.461477",
     "status": "completed"
    },
    "tags": []
   },
   "outputs": [
    {
     "data": {
      "text/plain": [
       "2     1.000000\n",
       "23    1.000000\n",
       "3     1.000000\n",
       "4     1.000000\n",
       "8     1.000000\n",
       "9     1.000000\n",
       "12    1.000000\n",
       "13    1.000000\n",
       "16    1.000000\n",
       "17    1.000000\n",
       "29    1.000000\n",
       "27    1.000000\n",
       "37    0.999961\n",
       "20    0.999430\n",
       "18    0.999415\n",
       "Name: k, dtype: float64"
      ]
     },
     "metadata": {},
     "output_type": "display_data"
    }
   ],
   "source": [
    "parts_ari_stability = parts_ari.apply(lambda x: x.mean())\n",
    "display(parts_ari_stability.sort_values(ascending=False).head(15))"
   ]
  },
  {
   "cell_type": "code",
   "execution_count": 40,
   "metadata": {
    "execution": {
     "iopub.execute_input": "2021-01-05T19:14:13.701086Z",
     "iopub.status.busy": "2021-01-05T19:14:13.700667Z",
     "iopub.status.idle": "2021-01-05T19:14:13.713363Z",
     "shell.execute_reply": "2021-01-05T19:14:13.713043Z"
    },
    "papermill": {
     "duration": 0.09064,
     "end_time": "2021-01-05T19:14:13.713451",
     "exception": false,
     "start_time": "2021-01-05T19:14:13.622811",
     "status": "completed"
    },
    "tags": []
   },
   "outputs": [],
   "source": [
    "parts_ari_df = pd.DataFrame.from_records(parts_ari.tolist()).set_index(\n",
    "    parts_ari.index.copy()\n",
    ")"
   ]
  },
  {
   "cell_type": "code",
   "execution_count": 41,
   "metadata": {
    "execution": {
     "iopub.execute_input": "2021-01-05T19:14:13.859642Z",
     "iopub.status.busy": "2021-01-05T19:14:13.859282Z",
     "iopub.status.idle": "2021-01-05T19:14:13.872043Z",
     "shell.execute_reply": "2021-01-05T19:14:13.871678Z"
    },
    "papermill": {
     "duration": 0.086638,
     "end_time": "2021-01-05T19:14:13.872130",
     "exception": false,
     "start_time": "2021-01-05T19:14:13.785492",
     "status": "completed"
    },
    "tags": []
   },
   "outputs": [
    {
     "data": {
      "text/plain": [
       "(59, 10)"
      ]
     },
     "execution_count": 41,
     "metadata": {},
     "output_type": "execute_result"
    }
   ],
   "source": [
    "parts_ari_df.shape"
   ]
  },
  {
   "cell_type": "code",
   "execution_count": 42,
   "metadata": {
    "execution": {
     "iopub.execute_input": "2021-01-05T19:14:14.021395Z",
     "iopub.status.busy": "2021-01-05T19:14:14.021022Z",
     "iopub.status.idle": "2021-01-05T19:14:14.033271Z",
     "shell.execute_reply": "2021-01-05T19:14:14.032902Z"
    },
    "papermill": {
     "duration": 0.087657,
     "end_time": "2021-01-05T19:14:14.033358",
     "exception": false,
     "start_time": "2021-01-05T19:14:13.945701",
     "status": "completed"
    },
    "tags": []
   },
   "outputs": [],
   "source": [
    "assert (\n",
    "    int(\n",
    "        (CLUSTERING_OPTIONS[\"N_REPS_PER_K\"] * (CLUSTERING_OPTIONS[\"N_REPS_PER_K\"] - 1))\n",
    "        / 2\n",
    "    )\n",
    "    == parts_ari_df.shape[1]\n",
    ")"
   ]
  },
  {
   "cell_type": "code",
   "execution_count": 43,
   "metadata": {
    "execution": {
     "iopub.execute_input": "2021-01-05T19:14:14.181111Z",
     "iopub.status.busy": "2021-01-05T19:14:14.180698Z",
     "iopub.status.idle": "2021-01-05T19:14:14.199551Z",
     "shell.execute_reply": "2021-01-05T19:14:14.199184Z"
    },
    "papermill": {
     "duration": 0.093626,
     "end_time": "2021-01-05T19:14:14.199639",
     "exception": false,
     "start_time": "2021-01-05T19:14:14.106013",
     "status": "completed"
    },
    "tags": []
   },
   "outputs": [
    {
     "data": {
      "text/html": [
       "<div>\n",
       "<style scoped>\n",
       "    .dataframe tbody tr th:only-of-type {\n",
       "        vertical-align: middle;\n",
       "    }\n",
       "\n",
       "    .dataframe tbody tr th {\n",
       "        vertical-align: top;\n",
       "    }\n",
       "\n",
       "    .dataframe thead th {\n",
       "        text-align: right;\n",
       "    }\n",
       "</style>\n",
       "<table border=\"1\" class=\"dataframe\">\n",
       "  <thead>\n",
       "    <tr style=\"text-align: right;\">\n",
       "      <th></th>\n",
       "      <th>0</th>\n",
       "      <th>1</th>\n",
       "      <th>2</th>\n",
       "      <th>3</th>\n",
       "      <th>4</th>\n",
       "      <th>5</th>\n",
       "      <th>6</th>\n",
       "      <th>7</th>\n",
       "      <th>8</th>\n",
       "      <th>9</th>\n",
       "    </tr>\n",
       "  </thead>\n",
       "  <tbody>\n",
       "    <tr>\n",
       "      <th>2</th>\n",
       "      <td>1.000000</td>\n",
       "      <td>1.000000</td>\n",
       "      <td>1.000000</td>\n",
       "      <td>1.000000</td>\n",
       "      <td>1.000000</td>\n",
       "      <td>1.0</td>\n",
       "      <td>1.000000</td>\n",
       "      <td>1.000000</td>\n",
       "      <td>1.0</td>\n",
       "      <td>1.000000</td>\n",
       "    </tr>\n",
       "    <tr>\n",
       "      <th>3</th>\n",
       "      <td>1.000000</td>\n",
       "      <td>1.000000</td>\n",
       "      <td>1.000000</td>\n",
       "      <td>1.000000</td>\n",
       "      <td>1.000000</td>\n",
       "      <td>1.0</td>\n",
       "      <td>1.000000</td>\n",
       "      <td>1.000000</td>\n",
       "      <td>1.0</td>\n",
       "      <td>1.000000</td>\n",
       "    </tr>\n",
       "    <tr>\n",
       "      <th>4</th>\n",
       "      <td>1.000000</td>\n",
       "      <td>1.000000</td>\n",
       "      <td>1.000000</td>\n",
       "      <td>1.000000</td>\n",
       "      <td>1.000000</td>\n",
       "      <td>1.0</td>\n",
       "      <td>1.000000</td>\n",
       "      <td>1.000000</td>\n",
       "      <td>1.0</td>\n",
       "      <td>1.000000</td>\n",
       "    </tr>\n",
       "    <tr>\n",
       "      <th>5</th>\n",
       "      <td>0.993318</td>\n",
       "      <td>1.000000</td>\n",
       "      <td>0.993318</td>\n",
       "      <td>1.000000</td>\n",
       "      <td>0.993318</td>\n",
       "      <td>1.0</td>\n",
       "      <td>0.993318</td>\n",
       "      <td>0.993318</td>\n",
       "      <td>1.0</td>\n",
       "      <td>0.993318</td>\n",
       "    </tr>\n",
       "    <tr>\n",
       "      <th>6</th>\n",
       "      <td>0.997059</td>\n",
       "      <td>0.997072</td>\n",
       "      <td>0.997059</td>\n",
       "      <td>0.997072</td>\n",
       "      <td>0.994132</td>\n",
       "      <td>1.0</td>\n",
       "      <td>0.994132</td>\n",
       "      <td>0.994132</td>\n",
       "      <td>1.0</td>\n",
       "      <td>0.994132</td>\n",
       "    </tr>\n",
       "  </tbody>\n",
       "</table>\n",
       "</div>"
      ],
      "text/plain": [
       "          0         1         2         3         4    5         6         7  \\\n",
       "2  1.000000  1.000000  1.000000  1.000000  1.000000  1.0  1.000000  1.000000   \n",
       "3  1.000000  1.000000  1.000000  1.000000  1.000000  1.0  1.000000  1.000000   \n",
       "4  1.000000  1.000000  1.000000  1.000000  1.000000  1.0  1.000000  1.000000   \n",
       "5  0.993318  1.000000  0.993318  1.000000  0.993318  1.0  0.993318  0.993318   \n",
       "6  0.997059  0.997072  0.997059  0.997072  0.994132  1.0  0.994132  0.994132   \n",
       "\n",
       "     8         9  \n",
       "2  1.0  1.000000  \n",
       "3  1.0  1.000000  \n",
       "4  1.0  1.000000  \n",
       "5  1.0  0.993318  \n",
       "6  1.0  0.994132  "
      ]
     },
     "execution_count": 43,
     "metadata": {},
     "output_type": "execute_result"
    }
   ],
   "source": [
    "parts_ari_df.head()"
   ]
  },
  {
   "cell_type": "markdown",
   "metadata": {
    "papermill": {
     "duration": 0.073881,
     "end_time": "2021-01-05T19:14:14.346764",
     "exception": false,
     "start_time": "2021-01-05T19:14:14.272883",
     "status": "completed"
    },
    "tags": []
   },
   "source": [
    "## Save"
   ]
  },
  {
   "cell_type": "code",
   "execution_count": 44,
   "metadata": {
    "execution": {
     "iopub.execute_input": "2021-01-05T19:14:14.495457Z",
     "iopub.status.busy": "2021-01-05T19:14:14.495082Z",
     "iopub.status.idle": "2021-01-05T19:14:14.509330Z",
     "shell.execute_reply": "2021-01-05T19:14:14.508930Z"
    },
    "papermill": {
     "duration": 0.090043,
     "end_time": "2021-01-05T19:14:14.509418",
     "exception": false,
     "start_time": "2021-01-05T19:14:14.419375",
     "status": "completed"
    },
    "tags": []
   },
   "outputs": [
    {
     "data": {
      "text/plain": [
       "PosixPath('/home/miltondp/projects/labs/greenelab/phenoplier/base3/results/clustering/runs/z_score_std-projection-smultixcan-efo_partial-mashr-zscores/SpectralClustering-stability-AFFINITY_nearest_neighbors-KMEANS_N_INIT_10-K_MAX_60-K_MIN_2-N_NEIGHBORS_10-N_REPS_PER_K_5.pkl')"
      ]
     },
     "metadata": {},
     "output_type": "display_data"
    }
   ],
   "source": [
    "output_filename = Path(\n",
    "    RESULTS_DIR,\n",
    "    generate_result_set_name(\n",
    "        CLUSTERING_OPTIONS,\n",
    "        prefix=f\"{clustering_method_name}-stability-\",\n",
    "        suffix=\".pkl\",\n",
    "    ),\n",
    ").resolve()\n",
    "display(output_filename)"
   ]
  },
  {
   "cell_type": "code",
   "execution_count": 45,
   "metadata": {
    "execution": {
     "iopub.execute_input": "2021-01-05T19:14:14.659845Z",
     "iopub.status.busy": "2021-01-05T19:14:14.659475Z",
     "iopub.status.idle": "2021-01-05T19:14:14.672431Z",
     "shell.execute_reply": "2021-01-05T19:14:14.672102Z"
    },
    "papermill": {
     "duration": 0.089402,
     "end_time": "2021-01-05T19:14:14.672521",
     "exception": false,
     "start_time": "2021-01-05T19:14:14.583119",
     "status": "completed"
    },
    "tags": []
   },
   "outputs": [],
   "source": [
    "parts_ari_df.to_pickle(output_filename)"
   ]
  },
  {
   "cell_type": "markdown",
   "metadata": {
    "papermill": {
     "duration": 0.072846,
     "end_time": "2021-01-05T19:14:14.820865",
     "exception": false,
     "start_time": "2021-01-05T19:14:14.748019",
     "status": "completed"
    },
    "tags": []
   },
   "source": [
    "## Stability plot"
   ]
  },
  {
   "cell_type": "code",
   "execution_count": 46,
   "metadata": {
    "execution": {
     "iopub.execute_input": "2021-01-05T19:14:14.969681Z",
     "iopub.status.busy": "2021-01-05T19:14:14.969306Z",
     "iopub.status.idle": "2021-01-05T19:14:14.983238Z",
     "shell.execute_reply": "2021-01-05T19:14:14.982864Z"
    },
    "papermill": {
     "duration": 0.089984,
     "end_time": "2021-01-05T19:14:14.983329",
     "exception": false,
     "start_time": "2021-01-05T19:14:14.893345",
     "status": "completed"
    },
    "tags": []
   },
   "outputs": [],
   "source": [
    "parts_ari_df_plot = (\n",
    "    parts_ari_df.stack()\n",
    "    .reset_index()\n",
    "    .rename(columns={\"level_0\": \"k\", \"level_1\": \"idx\", 0: \"ari\"})\n",
    ")"
   ]
  },
  {
   "cell_type": "code",
   "execution_count": 47,
   "metadata": {
    "execution": {
     "iopub.execute_input": "2021-01-05T19:14:15.133240Z",
     "iopub.status.busy": "2021-01-05T19:14:15.132873Z",
     "iopub.status.idle": "2021-01-05T19:14:15.146702Z",
     "shell.execute_reply": "2021-01-05T19:14:15.146340Z"
    },
    "papermill": {
     "duration": 0.089743,
     "end_time": "2021-01-05T19:14:15.146788",
     "exception": false,
     "start_time": "2021-01-05T19:14:15.057045",
     "status": "completed"
    },
    "tags": []
   },
   "outputs": [
    {
     "data": {
      "text/plain": [
       "k        int64\n",
       "idx      int64\n",
       "ari    float64\n",
       "dtype: object"
      ]
     },
     "execution_count": 47,
     "metadata": {},
     "output_type": "execute_result"
    }
   ],
   "source": [
    "parts_ari_df_plot.dtypes"
   ]
  },
  {
   "cell_type": "code",
   "execution_count": 48,
   "metadata": {
    "execution": {
     "iopub.execute_input": "2021-01-05T19:14:15.296538Z",
     "iopub.status.busy": "2021-01-05T19:14:15.296158Z",
     "iopub.status.idle": "2021-01-05T19:14:15.311716Z",
     "shell.execute_reply": "2021-01-05T19:14:15.311340Z"
    },
    "papermill": {
     "duration": 0.090912,
     "end_time": "2021-01-05T19:14:15.311805",
     "exception": false,
     "start_time": "2021-01-05T19:14:15.220893",
     "status": "completed"
    },
    "tags": []
   },
   "outputs": [
    {
     "data": {
      "text/html": [
       "<div>\n",
       "<style scoped>\n",
       "    .dataframe tbody tr th:only-of-type {\n",
       "        vertical-align: middle;\n",
       "    }\n",
       "\n",
       "    .dataframe tbody tr th {\n",
       "        vertical-align: top;\n",
       "    }\n",
       "\n",
       "    .dataframe thead th {\n",
       "        text-align: right;\n",
       "    }\n",
       "</style>\n",
       "<table border=\"1\" class=\"dataframe\">\n",
       "  <thead>\n",
       "    <tr style=\"text-align: right;\">\n",
       "      <th></th>\n",
       "      <th>k</th>\n",
       "      <th>idx</th>\n",
       "      <th>ari</th>\n",
       "    </tr>\n",
       "  </thead>\n",
       "  <tbody>\n",
       "    <tr>\n",
       "      <th>0</th>\n",
       "      <td>2</td>\n",
       "      <td>0</td>\n",
       "      <td>1.0</td>\n",
       "    </tr>\n",
       "    <tr>\n",
       "      <th>1</th>\n",
       "      <td>2</td>\n",
       "      <td>1</td>\n",
       "      <td>1.0</td>\n",
       "    </tr>\n",
       "    <tr>\n",
       "      <th>2</th>\n",
       "      <td>2</td>\n",
       "      <td>2</td>\n",
       "      <td>1.0</td>\n",
       "    </tr>\n",
       "    <tr>\n",
       "      <th>3</th>\n",
       "      <td>2</td>\n",
       "      <td>3</td>\n",
       "      <td>1.0</td>\n",
       "    </tr>\n",
       "    <tr>\n",
       "      <th>4</th>\n",
       "      <td>2</td>\n",
       "      <td>4</td>\n",
       "      <td>1.0</td>\n",
       "    </tr>\n",
       "  </tbody>\n",
       "</table>\n",
       "</div>"
      ],
      "text/plain": [
       "   k  idx  ari\n",
       "0  2    0  1.0\n",
       "1  2    1  1.0\n",
       "2  2    2  1.0\n",
       "3  2    3  1.0\n",
       "4  2    4  1.0"
      ]
     },
     "execution_count": 48,
     "metadata": {},
     "output_type": "execute_result"
    }
   ],
   "source": [
    "parts_ari_df_plot.head()"
   ]
  },
  {
   "cell_type": "code",
   "execution_count": 49,
   "metadata": {
    "execution": {
     "iopub.execute_input": "2021-01-05T19:14:15.463181Z",
     "iopub.status.busy": "2021-01-05T19:14:15.462799Z",
     "iopub.status.idle": "2021-01-05T19:14:18.439573Z",
     "shell.execute_reply": "2021-01-05T19:14:18.439854Z"
    },
    "papermill": {
     "duration": 3.053521,
     "end_time": "2021-01-05T19:14:18.439965",
     "exception": false,
     "start_time": "2021-01-05T19:14:15.386444",
     "status": "completed"
    },
    "tags": []
   },
   "outputs": [
    {
     "data": {
      "image/png": "[encoded data removed]",
      "text/plain": [
       "<Figure size 864x432 with 1 Axes>"
      ]
     },
     "metadata": {},
     "output_type": "display_data"
    }
   ],
   "source": [
    "# with sns.axes_style('whitegrid', {'grid.linestyle': '--'}):\n",
    "with sns.plotting_context(\"talk\", font_scale=0.75), sns.axes_style(\n",
    "    \"whitegrid\", {\"grid.linestyle\": \"--\"}\n",
    "):\n",
    "    fig = plt.figure(figsize=(14, 6))\n",
    "    ax = sns.pointplot(data=parts_ari_df_plot, x=\"k\", y=\"ari\")\n",
    "    ax.set_ylabel(\"Averange ARI\")\n",
    "    ax.set_xlabel(\"Number of clusters ($k$)\")\n",
    "    ax.set_xticklabels(ax.get_xticklabels(), rotation=45)\n",
    "    #     ax.set_ylim(0.0, 1.0)\n",
    "    #     ax.set_xlim(CLUSTERING_OPTIONS['K_MIN'], CLUSTERING_OPTIONS['K_MAX'])\n",
    "    plt.grid(True)\n",
    "    plt.tight_layout()"
   ]
  },
  {
   "cell_type": "markdown",
   "metadata": {
    "papermill": {
     "duration": 0.074869,
     "end_time": "2021-01-05T19:14:18.589323",
     "exception": false,
     "start_time": "2021-01-05T19:14:18.514454",
     "status": "completed"
    },
    "tags": []
   },
   "source": [
    "As discussed in [this comment](https://github.com/greenelab/phenoplier/pull/19#discussion_r553403416), these results are a bit weird: partitions are highly stable for most of the k values, which seems suspicious. The reason might be the `affinity` parameter used for this data version and PCA (set to `nearest_neighbors`). Note that for UMAP we used the default value for `affinity` (`rbf`), and results seem to be more normal."
   ]
  },
  {
   "cell_type": "code",
   "execution_count": null,
   "metadata": {},
   "outputs": [],
   "source": []
  }
 ],
 "metadata": {
  "jupytext": {
   "cell_metadata_filter": "all,-execution,-papermill",
   "formats": "ipynb,py//py:percent"
  },
  "kernelspec": {
   "display_name": "Python 3",
   "language": "python",
   "name": "python3"
  },
  "language_info": {
   "codemirror_mode": {
    "name": "ipython",
    "version": 3
   },
   "file_extension": ".py",
   "mimetype": "text/x-python",
   "name": "python",
   "nbconvert_exporter": "python",
   "pygments_lexer": "ipython3",
   "version": "3.8.6"
  },
  "papermill": {
   "default_parameters": {},
   "duration": 8349.711625,
   "end_time": "2021-01-05T19:14:19.174099",
   "environment_variables": {},
   "exception": null,
   "input_path": "15_cluster_analysis/001_00-spectral-z_score_std.ipynb",
   "output_path": "15_cluster_analysis/001_00-spectral-z_score_std.run.ipynb",
   "parameters": {},
   "start_time": "2021-01-05T16:55:09.462474",
   "version": "2.2.2"
  },
  "toc-autonumbering": true,
  "toc-showcode": false,
  "toc-showmarkdowntxt": false,
  "toc-showtags": false
 },
 "nbformat": 4,
 "nbformat_minor": 4
}
