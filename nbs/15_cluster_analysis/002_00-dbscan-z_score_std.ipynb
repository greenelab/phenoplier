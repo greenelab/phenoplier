{
 "cells": [
  {
   "cell_type": "markdown",
   "metadata": {
    "papermill": {
     "duration": 0.028095,
     "end_time": "2021-02-22T21:55:20.729616",
     "exception": false,
     "start_time": "2021-02-22T21:55:20.701521",
     "status": "completed"
    },
    "tags": []
   },
   "source": [
    "# Description"
   ]
  },
  {
   "cell_type": "markdown",
   "metadata": {
    "papermill": {
     "duration": 0.015989,
     "end_time": "2021-02-22T21:55:20.761766",
     "exception": false,
     "start_time": "2021-02-22T21:55:20.745777",
     "status": "completed"
    },
    "tags": []
   },
   "source": [
    "It runs DBSCAN on the `z_score_std` version of the data.\n",
    "\n",
    "The notebook explores different values for `min_samples` and `eps` (the main parameters of DBSCAN)."
   ]
  },
  {
   "cell_type": "markdown",
   "metadata": {
    "papermill": {
     "duration": 0.016021,
     "end_time": "2021-02-22T21:55:20.793707",
     "exception": false,
     "start_time": "2021-02-22T21:55:20.777686",
     "status": "completed"
    },
    "tags": []
   },
   "source": [
    "# Environment variables"
   ]
  },
  {
   "cell_type": "code",
   "execution_count": 1,
   "metadata": {
    "execution": {
     "iopub.execute_input": "2021-02-22T21:55:20.829160Z",
     "iopub.status.busy": "2021-02-22T21:55:20.828784Z",
     "iopub.status.idle": "2021-02-22T21:55:20.839261Z",
     "shell.execute_reply": "2021-02-22T21:55:20.838841Z"
    },
    "papermill": {
     "duration": 0.029754,
     "end_time": "2021-02-22T21:55:20.839379",
     "exception": false,
     "start_time": "2021-02-22T21:55:20.809625",
     "status": "completed"
    },
    "tags": []
   },
   "outputs": [
    {
     "data": {
      "text/plain": [
       "2"
      ]
     },
     "metadata": {},
     "output_type": "display_data"
    }
   ],
   "source": [
    "from IPython.display import display\n",
    "\n",
    "import conf\n",
    "\n",
    "N_JOBS = conf.GENERAL[\"N_JOBS\"]\n",
    "display(N_JOBS)"
   ]
  },
  {
   "cell_type": "code",
   "execution_count": 2,
   "metadata": {
    "execution": {
     "iopub.execute_input": "2021-02-22T21:55:20.877262Z",
     "iopub.status.busy": "2021-02-22T21:55:20.876872Z",
     "iopub.status.idle": "2021-02-22T21:55:20.879240Z",
     "shell.execute_reply": "2021-02-22T21:55:20.878858Z"
    },
    "papermill": {
     "duration": 0.023522,
     "end_time": "2021-02-22T21:55:20.879328",
     "exception": false,
     "start_time": "2021-02-22T21:55:20.855806",
     "status": "completed"
    },
    "tags": []
   },
   "outputs": [
    {
     "name": "stdout",
     "output_type": "stream",
     "text": [
      "env: MKL_NUM_THREADS=2\n",
      "env: OPEN_BLAS_NUM_THREADS=2\n",
      "env: NUMEXPR_NUM_THREADS=2\n",
      "env: OMP_NUM_THREADS=2\n"
     ]
    }
   ],
   "source": [
    "%env MKL_NUM_THREADS=$N_JOBS\n",
    "%env OPEN_BLAS_NUM_THREADS=$N_JOBS\n",
    "%env NUMEXPR_NUM_THREADS=$N_JOBS\n",
    "%env OMP_NUM_THREADS=$N_JOBS"
   ]
  },
  {
   "cell_type": "markdown",
   "metadata": {
    "papermill": {
     "duration": 0.017922,
     "end_time": "2021-02-22T21:55:20.913989",
     "exception": false,
     "start_time": "2021-02-22T21:55:20.896067",
     "status": "completed"
    },
    "tags": []
   },
   "source": [
    "# Modules loading"
   ]
  },
  {
   "cell_type": "code",
   "execution_count": 3,
   "metadata": {
    "execution": {
     "iopub.execute_input": "2021-02-22T21:55:20.951100Z",
     "iopub.status.busy": "2021-02-22T21:55:20.950734Z",
     "iopub.status.idle": "2021-02-22T21:55:20.958728Z",
     "shell.execute_reply": "2021-02-22T21:55:20.958335Z"
    },
    "papermill": {
     "duration": 0.027294,
     "end_time": "2021-02-22T21:55:20.958822",
     "exception": false,
     "start_time": "2021-02-22T21:55:20.931528",
     "status": "completed"
    },
    "tags": []
   },
   "outputs": [],
   "source": [
    "%load_ext autoreload\n",
    "%autoreload 2"
   ]
  },
  {
   "cell_type": "code",
   "execution_count": 4,
   "metadata": {
    "execution": {
     "iopub.execute_input": "2021-02-22T21:55:20.995647Z",
     "iopub.status.busy": "2021-02-22T21:55:20.995282Z",
     "iopub.status.idle": "2021-02-22T21:55:21.670923Z",
     "shell.execute_reply": "2021-02-22T21:55:21.671209Z"
    },
    "papermill": {
     "duration": 0.695284,
     "end_time": "2021-02-22T21:55:21.671323",
     "exception": false,
     "start_time": "2021-02-22T21:55:20.976039",
     "status": "completed"
    },
    "tags": []
   },
   "outputs": [],
   "source": [
    "from pathlib import Path\n",
    "\n",
    "import numpy as np\n",
    "import pandas as pd\n",
    "from sklearn.neighbors import NearestNeighbors\n",
    "from sklearn.metrics import pairwise_distances\n",
    "from sklearn.cluster import DBSCAN\n",
    "import matplotlib.pyplot as plt\n",
    "\n",
    "from utils import generate_result_set_name\n",
    "from clustering.ensembles.utils import generate_ensemble"
   ]
  },
  {
   "cell_type": "markdown",
   "metadata": {
    "papermill": {
     "duration": 0.01632,
     "end_time": "2021-02-22T21:55:21.704381",
     "exception": false,
     "start_time": "2021-02-22T21:55:21.688061",
     "status": "completed"
    },
    "tags": []
   },
   "source": [
    "# Global settings"
   ]
  },
  {
   "cell_type": "code",
   "execution_count": 5,
   "metadata": {
    "execution": {
     "iopub.execute_input": "2021-02-22T21:55:21.739601Z",
     "iopub.status.busy": "2021-02-22T21:55:21.739241Z",
     "iopub.status.idle": "2021-02-22T21:55:21.750391Z",
     "shell.execute_reply": "2021-02-22T21:55:21.750016Z"
    },
    "papermill": {
     "duration": 0.029934,
     "end_time": "2021-02-22T21:55:21.750478",
     "exception": false,
     "start_time": "2021-02-22T21:55:21.720544",
     "status": "completed"
    },
    "tags": []
   },
   "outputs": [],
   "source": [
    "np.random.seed(0)"
   ]
  },
  {
   "cell_type": "code",
   "execution_count": 6,
   "metadata": {
    "execution": {
     "iopub.execute_input": "2021-02-22T21:55:21.786138Z",
     "iopub.status.busy": "2021-02-22T21:55:21.785780Z",
     "iopub.status.idle": "2021-02-22T21:55:21.796454Z",
     "shell.execute_reply": "2021-02-22T21:55:21.796096Z"
    },
    "papermill": {
     "duration": 0.029195,
     "end_time": "2021-02-22T21:55:21.796537",
     "exception": false,
     "start_time": "2021-02-22T21:55:21.767342",
     "status": "completed"
    },
    "tags": []
   },
   "outputs": [],
   "source": [
    "CLUSTERING_ATTRIBUTES_TO_SAVE = [\"n_clusters\"]"
   ]
  },
  {
   "cell_type": "markdown",
   "metadata": {},
   "source": [
    "# Settings"
   ]
  },
  {
   "cell_type": "code",
   "execution_count": null,
   "metadata": {},
   "outputs": [],
   "source": [
    "# these values are taken from the pre-analysis notebook for this clustering method and data version\n",
    "k_values = np.arange(2, 125 + 1, 1)\n",
    "eps_range_per_k = {\n",
    "    k: (34, 50)\n",
    "    if k < 5\n",
    "    else (35, 50)\n",
    "    if k <= 10\n",
    "    else (37, 58)\n",
    "    if k < 75\n",
    "    else (38, 58)\n",
    "    if k < 100\n",
    "    else (39, 60)\n",
    "    for k in k_values\n",
    "}"
   ]
  },
  {
   "cell_type": "markdown",
   "metadata": {
    "papermill": {
     "duration": 0.016051,
     "end_time": "2021-02-22T21:55:21.829097",
     "exception": false,
     "start_time": "2021-02-22T21:55:21.813046",
     "status": "completed"
    },
    "tags": []
   },
   "source": [
    "# Data version: z_score_std"
   ]
  },
  {
   "cell_type": "markdown",
   "metadata": {
    "papermill": {
     "duration": 0.016141,
     "end_time": "2021-02-22T21:55:21.861485",
     "exception": false,
     "start_time": "2021-02-22T21:55:21.845344",
     "status": "completed"
    },
    "tags": []
   },
   "source": [
    "## Settings"
   ]
  },
  {
   "cell_type": "code",
   "execution_count": 7,
   "metadata": {
    "execution": {
     "iopub.execute_input": "2021-02-22T21:55:21.896543Z",
     "iopub.status.busy": "2021-02-22T21:55:21.896183Z",
     "iopub.status.idle": "2021-02-22T21:55:21.907087Z",
     "shell.execute_reply": "2021-02-22T21:55:21.906678Z"
    },
    "papermill": {
     "duration": 0.029448,
     "end_time": "2021-02-22T21:55:21.907185",
     "exception": false,
     "start_time": "2021-02-22T21:55:21.877737",
     "status": "completed"
    },
    "tags": []
   },
   "outputs": [],
   "source": [
    "INPUT_SUBSET = \"z_score_std\""
   ]
  },
  {
   "cell_type": "code",
   "execution_count": 8,
   "metadata": {
    "execution": {
     "iopub.execute_input": "2021-02-22T21:55:21.945329Z",
     "iopub.status.busy": "2021-02-22T21:55:21.944908Z",
     "iopub.status.idle": "2021-02-22T21:55:21.955843Z",
     "shell.execute_reply": "2021-02-22T21:55:21.955481Z"
    },
    "papermill": {
     "duration": 0.030503,
     "end_time": "2021-02-22T21:55:21.955936",
     "exception": false,
     "start_time": "2021-02-22T21:55:21.925433",
     "status": "completed"
    },
    "tags": []
   },
   "outputs": [],
   "source": [
    "INPUT_STEM = \"projection-smultixcan-efo_partial-mashr-zscores\""
   ]
  },
  {
   "cell_type": "code",
   "execution_count": 9,
   "metadata": {
    "execution": {
     "iopub.execute_input": "2021-02-22T21:55:21.993738Z",
     "iopub.status.busy": "2021-02-22T21:55:21.993361Z",
     "iopub.status.idle": "2021-02-22T21:55:22.005838Z",
     "shell.execute_reply": "2021-02-22T21:55:22.005503Z"
    },
    "papermill": {
     "duration": 0.032094,
     "end_time": "2021-02-22T21:55:22.005931",
     "exception": false,
     "start_time": "2021-02-22T21:55:21.973837",
     "status": "completed"
    },
    "tags": []
   },
   "outputs": [
    {
     "data": {
      "text/plain": [
       "PosixPath('/home/miltondp/projects/labs/greenelab/phenoplier/base3/results/data_transformations/z_score_std/z_score_std-projection-smultixcan-efo_partial-mashr-zscores.pkl')"
      ]
     },
     "metadata": {},
     "output_type": "display_data"
    },
    {
     "data": {
      "text/plain": [
       "'z_score_std-projection-smultixcan-efo_partial-mashr-zscores'"
      ]
     },
     "metadata": {},
     "output_type": "display_data"
    }
   ],
   "source": [
    "input_filepath = Path(\n",
    "    conf.RESULTS[\"DATA_TRANSFORMATIONS_DIR\"],\n",
    "    INPUT_SUBSET,\n",
    "    f\"{INPUT_SUBSET}-{INPUT_STEM}.pkl\",\n",
    ").resolve()\n",
    "display(input_filepath)\n",
    "\n",
    "assert input_filepath.exists(), \"Input file does not exist\"\n",
    "\n",
    "input_filepath_stem = input_filepath.stem\n",
    "display(input_filepath_stem)"
   ]
  },
  {
   "cell_type": "code",
   "execution_count": 10,
   "metadata": {
    "execution": {
     "iopub.execute_input": "2021-02-22T21:55:22.043128Z",
     "iopub.status.busy": "2021-02-22T21:55:22.042762Z",
     "iopub.status.idle": "2021-02-22T21:55:22.054803Z",
     "shell.execute_reply": "2021-02-22T21:55:22.054418Z"
    },
    "papermill": {
     "duration": 0.031444,
     "end_time": "2021-02-22T21:55:22.054893",
     "exception": false,
     "start_time": "2021-02-22T21:55:22.023449",
     "status": "completed"
    },
    "tags": []
   },
   "outputs": [
    {
     "data": {
      "text/plain": [
       "PosixPath('/home/miltondp/projects/labs/greenelab/phenoplier/base3/results/clustering/runs/z_score_std-projection-smultixcan-efo_partial-mashr-zscores')"
      ]
     },
     "metadata": {},
     "output_type": "display_data"
    }
   ],
   "source": [
    "# output dir for this notebook\n",
    "RESULTS_DIR = Path(\n",
    "    conf.RESULTS[\"CLUSTERING_RUNS_DIR\"],\n",
    "    f\"{INPUT_SUBSET}-{INPUT_STEM}\",\n",
    ").resolve()\n",
    "RESULTS_DIR.mkdir(parents=True, exist_ok=True)\n",
    "\n",
    "display(RESULTS_DIR)"
   ]
  },
  {
   "cell_type": "markdown",
   "metadata": {
    "papermill": {
     "duration": 0.016763,
     "end_time": "2021-02-22T21:55:22.089585",
     "exception": false,
     "start_time": "2021-02-22T21:55:22.072822",
     "status": "completed"
    },
    "tags": []
   },
   "source": [
    "## Load input file"
   ]
  },
  {
   "cell_type": "code",
   "execution_count": 11,
   "metadata": {
    "execution": {
     "iopub.execute_input": "2021-02-22T21:55:22.126203Z",
     "iopub.status.busy": "2021-02-22T21:55:22.125799Z",
     "iopub.status.idle": "2021-02-22T21:55:22.148422Z",
     "shell.execute_reply": "2021-02-22T21:55:22.148752Z"
    },
    "papermill": {
     "duration": 0.042614,
     "end_time": "2021-02-22T21:55:22.148877",
     "exception": false,
     "start_time": "2021-02-22T21:55:22.106263",
     "status": "completed"
    },
    "tags": []
   },
   "outputs": [],
   "source": [
    "data = pd.read_pickle(input_filepath)"
   ]
  },
  {
   "cell_type": "code",
   "execution_count": 12,
   "metadata": {
    "execution": {
     "iopub.execute_input": "2021-02-22T21:55:22.188874Z",
     "iopub.status.busy": "2021-02-22T21:55:22.188453Z",
     "iopub.status.idle": "2021-02-22T21:55:22.199688Z",
     "shell.execute_reply": "2021-02-22T21:55:22.199972Z"
    },
    "papermill": {
     "duration": 0.032079,
     "end_time": "2021-02-22T21:55:22.200086",
     "exception": false,
     "start_time": "2021-02-22T21:55:22.168007",
     "status": "completed"
    },
    "tags": []
   },
   "outputs": [
    {
     "data": {
      "text/plain": [
       "(3749, 987)"
      ]
     },
     "execution_count": 12,
     "metadata": {},
     "output_type": "execute_result"
    }
   ],
   "source": [
    "data.shape"
   ]
  },
  {
   "cell_type": "code",
   "execution_count": 13,
   "metadata": {
    "execution": {
     "iopub.execute_input": "2021-02-22T21:55:22.238864Z",
     "iopub.status.busy": "2021-02-22T21:55:22.238499Z",
     "iopub.status.idle": "2021-02-22T21:55:22.262336Z",
     "shell.execute_reply": "2021-02-22T21:55:22.261959Z"
    },
    "papermill": {
     "duration": 0.043883,
     "end_time": "2021-02-22T21:55:22.262425",
     "exception": false,
     "start_time": "2021-02-22T21:55:22.218542",
     "status": "completed"
    },
    "tags": []
   },
   "outputs": [
    {
     "data": {
      "text/html": [
       "<div>\n",
       "<style scoped>\n",
       "    .dataframe tbody tr th:only-of-type {\n",
       "        vertical-align: middle;\n",
       "    }\n",
       "\n",
       "    .dataframe tbody tr th {\n",
       "        vertical-align: top;\n",
       "    }\n",
       "\n",
       "    .dataframe thead th {\n",
       "        text-align: right;\n",
       "    }\n",
       "</style>\n",
       "<table border=\"1\" class=\"dataframe\">\n",
       "  <thead>\n",
       "    <tr style=\"text-align: right;\">\n",
       "      <th></th>\n",
       "      <th>LV1</th>\n",
       "      <th>LV2</th>\n",
       "      <th>LV3</th>\n",
       "      <th>LV4</th>\n",
       "      <th>LV5</th>\n",
       "      <th>LV6</th>\n",
       "      <th>LV7</th>\n",
       "      <th>LV8</th>\n",
       "      <th>LV9</th>\n",
       "      <th>LV10</th>\n",
       "      <th>...</th>\n",
       "      <th>LV978</th>\n",
       "      <th>LV979</th>\n",
       "      <th>LV980</th>\n",
       "      <th>LV981</th>\n",
       "      <th>LV982</th>\n",
       "      <th>LV983</th>\n",
       "      <th>LV984</th>\n",
       "      <th>LV985</th>\n",
       "      <th>LV986</th>\n",
       "      <th>LV987</th>\n",
       "    </tr>\n",
       "  </thead>\n",
       "  <tbody>\n",
       "    <tr>\n",
       "      <th>100001_raw-Food_weight</th>\n",
       "      <td>-0.553743</td>\n",
       "      <td>1.851060</td>\n",
       "      <td>-0.095721</td>\n",
       "      <td>0.931603</td>\n",
       "      <td>-0.515196</td>\n",
       "      <td>1.371264</td>\n",
       "      <td>-0.413165</td>\n",
       "      <td>0.729668</td>\n",
       "      <td>0.546338</td>\n",
       "      <td>0.901153</td>\n",
       "      <td>...</td>\n",
       "      <td>1.148776</td>\n",
       "      <td>1.649018</td>\n",
       "      <td>-1.375952</td>\n",
       "      <td>2.203063</td>\n",
       "      <td>0.810199</td>\n",
       "      <td>-0.987048</td>\n",
       "      <td>0.277710</td>\n",
       "      <td>-0.607613</td>\n",
       "      <td>0.572376</td>\n",
       "      <td>-0.660846</td>\n",
       "    </tr>\n",
       "    <tr>\n",
       "      <th>100002_raw-Energy</th>\n",
       "      <td>-1.313905</td>\n",
       "      <td>-0.421015</td>\n",
       "      <td>-0.310524</td>\n",
       "      <td>-0.201978</td>\n",
       "      <td>0.233028</td>\n",
       "      <td>0.693838</td>\n",
       "      <td>0.084129</td>\n",
       "      <td>0.572439</td>\n",
       "      <td>0.217866</td>\n",
       "      <td>1.296973</td>\n",
       "      <td>...</td>\n",
       "      <td>0.165430</td>\n",
       "      <td>0.799276</td>\n",
       "      <td>-0.361989</td>\n",
       "      <td>-0.008253</td>\n",
       "      <td>2.063780</td>\n",
       "      <td>-0.930765</td>\n",
       "      <td>-0.147007</td>\n",
       "      <td>1.601938</td>\n",
       "      <td>-0.273553</td>\n",
       "      <td>-0.560822</td>\n",
       "    </tr>\n",
       "    <tr>\n",
       "      <th>100003_raw-Protein</th>\n",
       "      <td>-0.645622</td>\n",
       "      <td>-0.997845</td>\n",
       "      <td>0.249039</td>\n",
       "      <td>0.256499</td>\n",
       "      <td>0.422357</td>\n",
       "      <td>0.829189</td>\n",
       "      <td>-0.169004</td>\n",
       "      <td>0.511550</td>\n",
       "      <td>0.002389</td>\n",
       "      <td>-0.057200</td>\n",
       "      <td>...</td>\n",
       "      <td>1.016791</td>\n",
       "      <td>1.019488</td>\n",
       "      <td>-2.148844</td>\n",
       "      <td>-0.065130</td>\n",
       "      <td>0.041052</td>\n",
       "      <td>-0.836118</td>\n",
       "      <td>-0.320571</td>\n",
       "      <td>1.325519</td>\n",
       "      <td>-0.341494</td>\n",
       "      <td>-0.495786</td>\n",
       "    </tr>\n",
       "    <tr>\n",
       "      <th>100004_raw-Fat</th>\n",
       "      <td>-0.913924</td>\n",
       "      <td>-1.837183</td>\n",
       "      <td>0.012095</td>\n",
       "      <td>-1.301315</td>\n",
       "      <td>0.205794</td>\n",
       "      <td>1.129114</td>\n",
       "      <td>0.019985</td>\n",
       "      <td>0.376660</td>\n",
       "      <td>-0.810272</td>\n",
       "      <td>0.843611</td>\n",
       "      <td>...</td>\n",
       "      <td>0.544266</td>\n",
       "      <td>0.576714</td>\n",
       "      <td>0.281731</td>\n",
       "      <td>-0.218963</td>\n",
       "      <td>1.258957</td>\n",
       "      <td>-1.131924</td>\n",
       "      <td>0.378545</td>\n",
       "      <td>0.842047</td>\n",
       "      <td>-0.622194</td>\n",
       "      <td>-0.160058</td>\n",
       "    </tr>\n",
       "    <tr>\n",
       "      <th>100005_raw-Carbohydrate</th>\n",
       "      <td>-0.523004</td>\n",
       "      <td>0.131379</td>\n",
       "      <td>-0.097802</td>\n",
       "      <td>-0.030526</td>\n",
       "      <td>-0.021500</td>\n",
       "      <td>-0.219116</td>\n",
       "      <td>0.668229</td>\n",
       "      <td>0.365700</td>\n",
       "      <td>1.102347</td>\n",
       "      <td>0.845625</td>\n",
       "      <td>...</td>\n",
       "      <td>-0.344740</td>\n",
       "      <td>0.079274</td>\n",
       "      <td>0.253427</td>\n",
       "      <td>0.236474</td>\n",
       "      <td>1.033895</td>\n",
       "      <td>-0.229105</td>\n",
       "      <td>0.364793</td>\n",
       "      <td>1.776714</td>\n",
       "      <td>0.190531</td>\n",
       "      <td>-1.459641</td>\n",
       "    </tr>\n",
       "  </tbody>\n",
       "</table>\n",
       "<p>5 rows × 987 columns</p>\n",
       "</div>"
      ],
      "text/plain": [
       "                              LV1       LV2       LV3       LV4       LV5  \\\n",
       "100001_raw-Food_weight  -0.553743  1.851060 -0.095721  0.931603 -0.515196   \n",
       "100002_raw-Energy       -1.313905 -0.421015 -0.310524 -0.201978  0.233028   \n",
       "100003_raw-Protein      -0.645622 -0.997845  0.249039  0.256499  0.422357   \n",
       "100004_raw-Fat          -0.913924 -1.837183  0.012095 -1.301315  0.205794   \n",
       "100005_raw-Carbohydrate -0.523004  0.131379 -0.097802 -0.030526 -0.021500   \n",
       "\n",
       "                              LV6       LV7       LV8       LV9      LV10  \\\n",
       "100001_raw-Food_weight   1.371264 -0.413165  0.729668  0.546338  0.901153   \n",
       "100002_raw-Energy        0.693838  0.084129  0.572439  0.217866  1.296973   \n",
       "100003_raw-Protein       0.829189 -0.169004  0.511550  0.002389 -0.057200   \n",
       "100004_raw-Fat           1.129114  0.019985  0.376660 -0.810272  0.843611   \n",
       "100005_raw-Carbohydrate -0.219116  0.668229  0.365700  1.102347  0.845625   \n",
       "\n",
       "                         ...     LV978     LV979     LV980     LV981  \\\n",
       "100001_raw-Food_weight   ...  1.148776  1.649018 -1.375952  2.203063   \n",
       "100002_raw-Energy        ...  0.165430  0.799276 -0.361989 -0.008253   \n",
       "100003_raw-Protein       ...  1.016791  1.019488 -2.148844 -0.065130   \n",
       "100004_raw-Fat           ...  0.544266  0.576714  0.281731 -0.218963   \n",
       "100005_raw-Carbohydrate  ... -0.344740  0.079274  0.253427  0.236474   \n",
       "\n",
       "                            LV982     LV983     LV984     LV985     LV986  \\\n",
       "100001_raw-Food_weight   0.810199 -0.987048  0.277710 -0.607613  0.572376   \n",
       "100002_raw-Energy        2.063780 -0.930765 -0.147007  1.601938 -0.273553   \n",
       "100003_raw-Protein       0.041052 -0.836118 -0.320571  1.325519 -0.341494   \n",
       "100004_raw-Fat           1.258957 -1.131924  0.378545  0.842047 -0.622194   \n",
       "100005_raw-Carbohydrate  1.033895 -0.229105  0.364793  1.776714  0.190531   \n",
       "\n",
       "                            LV987  \n",
       "100001_raw-Food_weight  -0.660846  \n",
       "100002_raw-Energy       -0.560822  \n",
       "100003_raw-Protein      -0.495786  \n",
       "100004_raw-Fat          -0.160058  \n",
       "100005_raw-Carbohydrate -1.459641  \n",
       "\n",
       "[5 rows x 987 columns]"
      ]
     },
     "execution_count": 13,
     "metadata": {},
     "output_type": "execute_result"
    }
   ],
   "source": [
    "data.head()"
   ]
  },
  {
   "cell_type": "code",
   "execution_count": 14,
   "metadata": {
    "execution": {
     "iopub.execute_input": "2021-02-22T21:55:22.301425Z",
     "iopub.status.busy": "2021-02-22T21:55:22.301064Z",
     "iopub.status.idle": "2021-02-22T21:55:22.317095Z",
     "shell.execute_reply": "2021-02-22T21:55:22.316722Z"
    },
    "papermill": {
     "duration": 0.036336,
     "end_time": "2021-02-22T21:55:22.317189",
     "exception": false,
     "start_time": "2021-02-22T21:55:22.280853",
     "status": "completed"
    },
    "tags": []
   },
   "outputs": [],
   "source": [
    "assert not data.isna().any().any()"
   ]
  },
  {
   "cell_type": "markdown",
   "metadata": {
    "papermill": {
     "duration": 0.021772,
     "end_time": "2021-02-22T21:57:35.274437",
     "exception": false,
     "start_time": "2021-02-22T21:57:35.252665",
     "status": "completed"
    },
    "tags": []
   },
   "source": [
    "## Clustering"
   ]
  },
  {
   "cell_type": "markdown",
   "metadata": {
    "papermill": {
     "duration": 0.021683,
     "end_time": "2021-02-22T21:57:35.317862",
     "exception": false,
     "start_time": "2021-02-22T21:57:35.296179",
     "status": "completed"
    },
    "tags": []
   },
   "source": [
    "### Generate clusterers"
   ]
  },
  {
   "cell_type": "code",
   "execution_count": 19,
   "metadata": {
    "execution": {
     "iopub.execute_input": "2021-02-22T21:57:35.364406Z",
     "iopub.status.busy": "2021-02-22T21:57:35.364042Z",
     "iopub.status.idle": "2021-02-22T21:57:35.380686Z",
     "shell.execute_reply": "2021-02-22T21:57:35.380308Z"
    },
    "papermill": {
     "duration": 0.041244,
     "end_time": "2021-02-22T21:57:35.380810",
     "exception": false,
     "start_time": "2021-02-22T21:57:35.339566",
     "status": "completed"
    },
    "tags": []
   },
   "outputs": [
    {
     "data": {
      "text/plain": [
       "{'K_RANGE': array([  2,   3,   4,   5,   6,   7,   8,   9,  10,  11,  12,  13,  14,\n",
       "         15,  16,  17,  18,  19,  20,  21,  22,  23,  24,  25,  26,  27,\n",
       "         28,  29,  30,  31,  32,  33,  34,  35,  36,  37,  38,  39,  40,\n",
       "         41,  42,  43,  44,  45,  46,  47,  48,  49,  50,  51,  52,  53,\n",
       "         54,  55,  56,  57,  58,  59,  60,  61,  62,  63,  64,  65,  66,\n",
       "         67,  68,  69,  70,  71,  72,  73,  74,  75,  76,  77,  78,  79,\n",
       "         80,  81,  82,  83,  84,  85,  86,  87,  88,  89,  90,  91,  92,\n",
       "         93,  94,  95,  96,  97,  98,  99, 100, 101, 102, 103, 104, 105,\n",
       "        106, 107, 108, 109, 110, 111, 112, 113, 114, 115, 116, 117, 118,\n",
       "        119, 120]),\n",
       " 'EPS_RANGE_PER_K': {2: (40, 100),\n",
       "  3: (40, 100),\n",
       "  4: (40, 100),\n",
       "  5: (40, 100),\n",
       "  6: (40, 100),\n",
       "  7: (40, 100),\n",
       "  8: (40, 100),\n",
       "  9: (40, 100),\n",
       "  10: (40, 100),\n",
       "  11: (40, 100),\n",
       "  12: (40, 100),\n",
       "  13: (40, 100),\n",
       "  14: (40, 100),\n",
       "  15: (40, 100),\n",
       "  16: (40, 100),\n",
       "  17: (40, 100),\n",
       "  18: (40, 100),\n",
       "  19: (40, 100),\n",
       "  20: (40, 100),\n",
       "  21: (40, 100),\n",
       "  22: (40, 100),\n",
       "  23: (40, 100),\n",
       "  24: (40, 100),\n",
       "  25: (40, 100),\n",
       "  26: (40, 100),\n",
       "  27: (40, 100),\n",
       "  28: (40, 100),\n",
       "  29: (40, 100),\n",
       "  30: (40, 100),\n",
       "  31: (40, 100),\n",
       "  32: (40, 100),\n",
       "  33: (40, 100),\n",
       "  34: (40, 100),\n",
       "  35: (40, 100),\n",
       "  36: (40, 100),\n",
       "  37: (40, 100),\n",
       "  38: (40, 100),\n",
       "  39: (40, 100),\n",
       "  40: (40, 100),\n",
       "  41: (40, 100),\n",
       "  42: (40, 100),\n",
       "  43: (40, 100),\n",
       "  44: (40, 100),\n",
       "  45: (40, 100),\n",
       "  46: (40, 100),\n",
       "  47: (40, 100),\n",
       "  48: (40, 100),\n",
       "  49: (40, 100),\n",
       "  50: (40, 100),\n",
       "  51: (40, 100),\n",
       "  52: (40, 100),\n",
       "  53: (40, 100),\n",
       "  54: (40, 100),\n",
       "  55: (40, 100),\n",
       "  56: (40, 100),\n",
       "  57: (40, 100),\n",
       "  58: (40, 100),\n",
       "  59: (40, 100),\n",
       "  60: (40, 100),\n",
       "  61: (40, 100),\n",
       "  62: (40, 100),\n",
       "  63: (40, 100),\n",
       "  64: (40, 100),\n",
       "  65: (40, 100),\n",
       "  66: (40, 100),\n",
       "  67: (40, 100),\n",
       "  68: (40, 100),\n",
       "  69: (40, 100),\n",
       "  70: (40, 100),\n",
       "  71: (40, 100),\n",
       "  72: (40, 100),\n",
       "  73: (40, 100),\n",
       "  74: (40, 100),\n",
       "  75: (40, 100),\n",
       "  76: (40, 100),\n",
       "  77: (40, 100),\n",
       "  78: (40, 100),\n",
       "  79: (40, 100),\n",
       "  80: (40, 100),\n",
       "  81: (40, 100),\n",
       "  82: (40, 100),\n",
       "  83: (40, 100),\n",
       "  84: (40, 100),\n",
       "  85: (40, 100),\n",
       "  86: (40, 100),\n",
       "  87: (40, 100),\n",
       "  88: (40, 100),\n",
       "  89: (40, 100),\n",
       "  90: (40, 100),\n",
       "  91: (40, 100),\n",
       "  92: (40, 100),\n",
       "  93: (40, 100),\n",
       "  94: (40, 100),\n",
       "  95: (40, 100),\n",
       "  96: (40, 100),\n",
       "  97: (40, 100),\n",
       "  98: (40, 100),\n",
       "  99: (40, 100),\n",
       "  100: (40, 100),\n",
       "  101: (40, 100),\n",
       "  102: (40, 100),\n",
       "  103: (40, 100),\n",
       "  104: (40, 100),\n",
       "  105: (40, 100),\n",
       "  106: (40, 100),\n",
       "  107: (40, 100),\n",
       "  108: (40, 100),\n",
       "  109: (40, 100),\n",
       "  110: (40, 100),\n",
       "  111: (40, 100),\n",
       "  112: (40, 100),\n",
       "  113: (40, 100),\n",
       "  114: (40, 100),\n",
       "  115: (40, 100),\n",
       "  116: (40, 100),\n",
       "  117: (40, 100),\n",
       "  118: (40, 100),\n",
       "  119: (40, 100),\n",
       "  120: (40, 100)},\n",
       " 'EPS_STEP': 33,\n",
       " 'METRIC': 'euclidean'}"
      ]
     },
     "metadata": {},
     "output_type": "display_data"
    }
   ],
   "source": [
    "CLUSTERING_OPTIONS = {}\n",
    "\n",
    "# K_RANGE is the min_samples parameter in DBSCAN (sklearn)\n",
    "CLUSTERING_OPTIONS[\"K_RANGE\"] = k_values\n",
    "CLUSTERING_OPTIONS[\"EPS_RANGE_PER_K\"] = eps_range_per_k\n",
    "CLUSTERING_OPTIONS[\"EPS_STEP\"] = 33\n",
    "CLUSTERING_OPTIONS[\"METRIC\"] = \"euclidean\"\n",
    "\n",
    "display(CLUSTERING_OPTIONS)"
   ]
  },
  {
   "cell_type": "code",
   "execution_count": 20,
   "metadata": {
    "execution": {
     "iopub.execute_input": "2021-02-22T21:57:35.428849Z",
     "iopub.status.busy": "2021-02-22T21:57:35.428413Z",
     "iopub.status.idle": "2021-02-22T21:57:35.453754Z",
     "shell.execute_reply": "2021-02-22T21:57:35.453397Z"
    },
    "papermill": {
     "duration": 0.050684,
     "end_time": "2021-02-22T21:57:35.453852",
     "exception": false,
     "start_time": "2021-02-22T21:57:35.403168",
     "status": "completed"
    },
    "tags": []
   },
   "outputs": [],
   "source": [
    "CLUSTERERS = {}\n",
    "\n",
    "idx = 0\n",
    "\n",
    "for k in CLUSTERING_OPTIONS[\"K_RANGE\"]:\n",
    "    eps_range = CLUSTERING_OPTIONS[\"EPS_RANGE_PER_K\"][k]\n",
    "    eps_values = np.linspace(eps_range[0], eps_range[1], CLUSTERING_OPTIONS[\"EPS_STEP\"])\n",
    "\n",
    "    for eps in eps_values:\n",
    "        clus = DBSCAN(min_samples=k, eps=eps, metric=\"precomputed\", n_jobs=N_JOBS)\n",
    "\n",
    "        method_name = type(clus).__name__\n",
    "        CLUSTERERS[f\"{method_name} #{idx}\"] = clus\n",
    "\n",
    "        idx = idx + 1"
   ]
  },
  {
   "cell_type": "code",
   "execution_count": 21,
   "metadata": {
    "execution": {
     "iopub.execute_input": "2021-02-22T21:57:35.501967Z",
     "iopub.status.busy": "2021-02-22T21:57:35.501604Z",
     "iopub.status.idle": "2021-02-22T21:57:35.512658Z",
     "shell.execute_reply": "2021-02-22T21:57:35.513005Z"
    },
    "papermill": {
     "duration": 0.035905,
     "end_time": "2021-02-22T21:57:35.513112",
     "exception": false,
     "start_time": "2021-02-22T21:57:35.477207",
     "status": "completed"
    },
    "tags": []
   },
   "outputs": [
    {
     "data": {
      "text/plain": [
       "3927"
      ]
     },
     "metadata": {},
     "output_type": "display_data"
    }
   ],
   "source": [
    "display(len(CLUSTERERS))"
   ]
  },
  {
   "cell_type": "code",
   "execution_count": 22,
   "metadata": {
    "execution": {
     "iopub.execute_input": "2021-02-22T21:57:35.561225Z",
     "iopub.status.busy": "2021-02-22T21:57:35.560865Z",
     "iopub.status.idle": "2021-02-22T21:57:35.573998Z",
     "shell.execute_reply": "2021-02-22T21:57:35.573623Z"
    },
    "papermill": {
     "duration": 0.03807,
     "end_time": "2021-02-22T21:57:35.574087",
     "exception": false,
     "start_time": "2021-02-22T21:57:35.536017",
     "status": "completed"
    },
    "tags": []
   },
   "outputs": [
    {
     "data": {
      "text/plain": [
       "('DBSCAN #0', DBSCAN(eps=40.0, metric='precomputed', min_samples=2, n_jobs=2))"
      ]
     },
     "metadata": {},
     "output_type": "display_data"
    },
    {
     "data": {
      "text/plain": [
       "('DBSCAN #1',\n",
       " DBSCAN(eps=41.875, metric='precomputed', min_samples=2, n_jobs=2))"
      ]
     },
     "metadata": {},
     "output_type": "display_data"
    }
   ],
   "source": [
    "_iter = iter(CLUSTERERS.items())\n",
    "display(next(_iter))\n",
    "display(next(_iter))"
   ]
  },
  {
   "cell_type": "code",
   "execution_count": 23,
   "metadata": {
    "execution": {
     "iopub.execute_input": "2021-02-22T21:57:35.622972Z",
     "iopub.status.busy": "2021-02-22T21:57:35.622607Z",
     "iopub.status.idle": "2021-02-22T21:57:35.634114Z",
     "shell.execute_reply": "2021-02-22T21:57:35.633710Z"
    },
    "papermill": {
     "duration": 0.036801,
     "end_time": "2021-02-22T21:57:35.634204",
     "exception": false,
     "start_time": "2021-02-22T21:57:35.597403",
     "status": "completed"
    },
    "tags": []
   },
   "outputs": [
    {
     "data": {
      "text/plain": [
       "'DBSCAN'"
      ]
     },
     "metadata": {},
     "output_type": "display_data"
    }
   ],
   "source": [
    "clustering_method_name = method_name\n",
    "display(clustering_method_name)"
   ]
  },
  {
   "cell_type": "markdown",
   "metadata": {
    "papermill": {
     "duration": 0.023034,
     "end_time": "2021-02-22T21:57:35.680981",
     "exception": false,
     "start_time": "2021-02-22T21:57:35.657947",
     "status": "completed"
    },
    "tags": []
   },
   "source": [
    "### Generate ensemble"
   ]
  },
  {
   "cell_type": "code",
   "execution_count": 24,
   "metadata": {
    "execution": {
     "iopub.execute_input": "2021-02-22T21:57:35.729996Z",
     "iopub.status.busy": "2021-02-22T21:57:35.729632Z",
     "iopub.status.idle": "2021-02-22T21:57:36.045289Z",
     "shell.execute_reply": "2021-02-22T21:57:36.044903Z"
    },
    "papermill": {
     "duration": 0.341327,
     "end_time": "2021-02-22T21:57:36.045378",
     "exception": false,
     "start_time": "2021-02-22T21:57:35.704051",
     "status": "completed"
    },
    "tags": []
   },
   "outputs": [],
   "source": [
    "data_dist = pairwise_distances(data, metric=CLUSTERING_OPTIONS[\"METRIC\"])"
   ]
  },
  {
   "cell_type": "code",
   "execution_count": 25,
   "metadata": {
    "execution": {
     "iopub.execute_input": "2021-02-22T21:57:36.094360Z",
     "iopub.status.busy": "2021-02-22T21:57:36.093997Z",
     "iopub.status.idle": "2021-02-22T21:57:36.105382Z",
     "shell.execute_reply": "2021-02-22T21:57:36.105009Z"
    },
    "papermill": {
     "duration": 0.036518,
     "end_time": "2021-02-22T21:57:36.105469",
     "exception": false,
     "start_time": "2021-02-22T21:57:36.068951",
     "status": "completed"
    },
    "tags": []
   },
   "outputs": [
    {
     "data": {
      "text/plain": [
       "(3749, 3749)"
      ]
     },
     "execution_count": 25,
     "metadata": {},
     "output_type": "execute_result"
    }
   ],
   "source": [
    "data_dist.shape"
   ]
  },
  {
   "cell_type": "code",
   "execution_count": 26,
   "metadata": {
    "execution": {
     "iopub.execute_input": "2021-02-22T21:57:36.157329Z",
     "iopub.status.busy": "2021-02-22T21:57:36.156967Z",
     "iopub.status.idle": "2021-02-22T21:57:36.761448Z",
     "shell.execute_reply": "2021-02-22T21:57:36.760878Z"
    },
    "papermill": {
     "duration": 0.631616,
     "end_time": "2021-02-22T21:57:36.761546",
     "exception": false,
     "start_time": "2021-02-22T21:57:36.129930",
     "status": "completed"
    },
    "tags": []
   },
   "outputs": [
    {
     "data": {
      "text/plain": [
       "count            14055001.0\n",
       "mean     43.125402555794686\n",
       "std      10.686424216072133\n",
       "min                     0.0\n",
       "25%       38.79637836150824\n",
       "50%       39.83036155840883\n",
       "75%      42.045984035637254\n",
       "max       164.9804596623576\n",
       "dtype: object"
      ]
     },
     "execution_count": 26,
     "metadata": {},
     "output_type": "execute_result"
    }
   ],
   "source": [
    "pd.Series(data_dist.flatten()).describe().apply(str)"
   ]
  },
  {
   "cell_type": "code",
   "execution_count": 27,
   "metadata": {
    "execution": {
     "iopub.execute_input": "2021-02-22T21:57:36.812403Z",
     "iopub.status.busy": "2021-02-22T21:57:36.812045Z",
     "iopub.status.idle": "2021-02-22T22:10:27.375541Z",
     "shell.execute_reply": "2021-02-22T22:10:27.375133Z"
    },
    "papermill": {
     "duration": 770.589301,
     "end_time": "2021-02-22T22:10:27.375649",
     "exception": false,
     "start_time": "2021-02-22T21:57:36.786348",
     "status": "completed"
    },
    "tags": []
   },
   "outputs": [
    {
     "name": "stderr",
     "output_type": "stream",
     "text": [
      "100%|██████████| 3927/3927 [12:50<00:00,  5.10it/s]\n"
     ]
    }
   ],
   "source": [
    "ensemble = generate_ensemble(\n",
    "    data_dist,\n",
    "    CLUSTERERS,\n",
    "    attributes=CLUSTERING_ATTRIBUTES_TO_SAVE,\n",
    ")"
   ]
  },
  {
   "cell_type": "code",
   "execution_count": 28,
   "metadata": {
    "execution": {
     "iopub.execute_input": "2021-02-22T22:10:28.649669Z",
     "iopub.status.busy": "2021-02-22T22:10:28.649301Z",
     "iopub.status.idle": "2021-02-22T22:10:28.660780Z",
     "shell.execute_reply": "2021-02-22T22:10:28.660382Z"
    },
    "papermill": {
     "duration": 0.650077,
     "end_time": "2021-02-22T22:10:28.660869",
     "exception": false,
     "start_time": "2021-02-22T22:10:28.010792",
     "status": "completed"
    },
    "tags": []
   },
   "outputs": [
    {
     "data": {
      "text/plain": [
       "(262, 3)"
      ]
     },
     "execution_count": 28,
     "metadata": {},
     "output_type": "execute_result"
    }
   ],
   "source": [
    "ensemble.shape"
   ]
  },
  {
   "cell_type": "code",
   "execution_count": 29,
   "metadata": {
    "execution": {
     "iopub.execute_input": "2021-02-22T22:10:29.935240Z",
     "iopub.status.busy": "2021-02-22T22:10:29.934884Z",
     "iopub.status.idle": "2021-02-22T22:10:29.954169Z",
     "shell.execute_reply": "2021-02-22T22:10:29.953792Z"
    },
    "papermill": {
     "duration": 0.659468,
     "end_time": "2021-02-22T22:10:29.954258",
     "exception": false,
     "start_time": "2021-02-22T22:10:29.294790",
     "status": "completed"
    },
    "tags": []
   },
   "outputs": [
    {
     "data": {
      "text/html": [
       "<div>\n",
       "<style scoped>\n",
       "    .dataframe tbody tr th:only-of-type {\n",
       "        vertical-align: middle;\n",
       "    }\n",
       "\n",
       "    .dataframe tbody tr th {\n",
       "        vertical-align: top;\n",
       "    }\n",
       "\n",
       "    .dataframe thead th {\n",
       "        text-align: right;\n",
       "    }\n",
       "</style>\n",
       "<table border=\"1\" class=\"dataframe\">\n",
       "  <thead>\n",
       "    <tr style=\"text-align: right;\">\n",
       "      <th></th>\n",
       "      <th>clusterer_params</th>\n",
       "      <th>partition</th>\n",
       "      <th>n_clusters</th>\n",
       "    </tr>\n",
       "    <tr>\n",
       "      <th>clusterer_id</th>\n",
       "      <th></th>\n",
       "      <th></th>\n",
       "      <th></th>\n",
       "    </tr>\n",
       "  </thead>\n",
       "  <tbody>\n",
       "    <tr>\n",
       "      <th>DBSCAN #0</th>\n",
       "      <td>{'algorithm': 'auto', 'eps': 40.0, 'leaf_size'...</td>\n",
       "      <td>[0.0, 0.0, 0.0, 0.0, 0.0, 0.0, 0.0, 0.0, 0.0, ...</td>\n",
       "      <td>43</td>\n",
       "    </tr>\n",
       "    <tr>\n",
       "      <th>DBSCAN #1</th>\n",
       "      <td>{'algorithm': 'auto', 'eps': 41.875, 'leaf_siz...</td>\n",
       "      <td>[0.0, 0.0, 0.0, 0.0, 0.0, 0.0, 0.0, 0.0, 0.0, ...</td>\n",
       "      <td>29</td>\n",
       "    </tr>\n",
       "    <tr>\n",
       "      <th>DBSCAN #2</th>\n",
       "      <td>{'algorithm': 'auto', 'eps': 43.75, 'leaf_size...</td>\n",
       "      <td>[0.0, 0.0, 0.0, 0.0, 0.0, 0.0, 0.0, 0.0, 0.0, ...</td>\n",
       "      <td>24</td>\n",
       "    </tr>\n",
       "    <tr>\n",
       "      <th>DBSCAN #3</th>\n",
       "      <td>{'algorithm': 'auto', 'eps': 45.625, 'leaf_siz...</td>\n",
       "      <td>[0.0, 0.0, 0.0, 0.0, 0.0, 0.0, 0.0, 0.0, 0.0, ...</td>\n",
       "      <td>21</td>\n",
       "    </tr>\n",
       "    <tr>\n",
       "      <th>DBSCAN #4</th>\n",
       "      <td>{'algorithm': 'auto', 'eps': 47.5, 'leaf_size'...</td>\n",
       "      <td>[0.0, 0.0, 0.0, 0.0, 0.0, 0.0, 0.0, 0.0, 0.0, ...</td>\n",
       "      <td>18</td>\n",
       "    </tr>\n",
       "  </tbody>\n",
       "</table>\n",
       "</div>"
      ],
      "text/plain": [
       "                                               clusterer_params  \\\n",
       "clusterer_id                                                      \n",
       "DBSCAN #0     {'algorithm': 'auto', 'eps': 40.0, 'leaf_size'...   \n",
       "DBSCAN #1     {'algorithm': 'auto', 'eps': 41.875, 'leaf_siz...   \n",
       "DBSCAN #2     {'algorithm': 'auto', 'eps': 43.75, 'leaf_size...   \n",
       "DBSCAN #3     {'algorithm': 'auto', 'eps': 45.625, 'leaf_siz...   \n",
       "DBSCAN #4     {'algorithm': 'auto', 'eps': 47.5, 'leaf_size'...   \n",
       "\n",
       "                                                      partition  n_clusters  \n",
       "clusterer_id                                                                 \n",
       "DBSCAN #0     [0.0, 0.0, 0.0, 0.0, 0.0, 0.0, 0.0, 0.0, 0.0, ...          43  \n",
       "DBSCAN #1     [0.0, 0.0, 0.0, 0.0, 0.0, 0.0, 0.0, 0.0, 0.0, ...          29  \n",
       "DBSCAN #2     [0.0, 0.0, 0.0, 0.0, 0.0, 0.0, 0.0, 0.0, 0.0, ...          24  \n",
       "DBSCAN #3     [0.0, 0.0, 0.0, 0.0, 0.0, 0.0, 0.0, 0.0, 0.0, ...          21  \n",
       "DBSCAN #4     [0.0, 0.0, 0.0, 0.0, 0.0, 0.0, 0.0, 0.0, 0.0, ...          18  "
      ]
     },
     "execution_count": 29,
     "metadata": {},
     "output_type": "execute_result"
    }
   ],
   "source": [
    "ensemble.head()"
   ]
  },
  {
   "cell_type": "code",
   "execution_count": 30,
   "metadata": {
    "execution": {
     "iopub.execute_input": "2021-02-22T22:10:31.258852Z",
     "iopub.status.busy": "2021-02-22T22:10:31.258495Z",
     "iopub.status.idle": "2021-02-22T22:10:31.270821Z",
     "shell.execute_reply": "2021-02-22T22:10:31.271105Z"
    },
    "papermill": {
     "duration": 0.651086,
     "end_time": "2021-02-22T22:10:31.271220",
     "exception": false,
     "start_time": "2021-02-22T22:10:30.620134",
     "status": "completed"
    },
    "tags": []
   },
   "outputs": [
    {
     "data": {
      "text/plain": [
       "2     173\n",
       "4      29\n",
       "3      12\n",
       "5      12\n",
       "10      5\n",
       "Name: n_clusters, dtype: int64"
      ]
     },
     "execution_count": 30,
     "metadata": {},
     "output_type": "execute_result"
    }
   ],
   "source": [
    "ensemble[\"n_clusters\"].value_counts().head()"
   ]
  },
  {
   "cell_type": "code",
   "execution_count": 31,
   "metadata": {
    "execution": {
     "iopub.execute_input": "2021-02-22T22:10:32.547145Z",
     "iopub.status.busy": "2021-02-22T22:10:32.546762Z",
     "iopub.status.idle": "2021-02-22T22:10:32.560739Z",
     "shell.execute_reply": "2021-02-22T22:10:32.561035Z"
    },
    "papermill": {
     "duration": 0.651853,
     "end_time": "2021-02-22T22:10:32.561154",
     "exception": false,
     "start_time": "2021-02-22T22:10:31.909301",
     "status": "completed"
    },
    "tags": []
   },
   "outputs": [
    {
     "data": {
      "text/plain": [
       "count    262.000000\n",
       "mean       3.767176\n",
       "std        4.342077\n",
       "min        2.000000\n",
       "25%        2.000000\n",
       "50%        2.000000\n",
       "75%        4.000000\n",
       "max       43.000000\n",
       "Name: n_clusters, dtype: float64"
      ]
     },
     "metadata": {},
     "output_type": "display_data"
    }
   ],
   "source": [
    "ensemble_stats = ensemble[\"n_clusters\"].describe()\n",
    "display(ensemble_stats)"
   ]
  },
  {
   "cell_type": "markdown",
   "metadata": {
    "papermill": {
     "duration": 0.640193,
     "end_time": "2021-02-22T22:10:33.839055",
     "exception": false,
     "start_time": "2021-02-22T22:10:33.198862",
     "status": "completed"
    },
    "tags": []
   },
   "source": [
    "### Testing"
   ]
  },
  {
   "cell_type": "code",
   "execution_count": 32,
   "metadata": {
    "execution": {
     "iopub.execute_input": "2021-02-22T22:10:35.142263Z",
     "iopub.status.busy": "2021-02-22T22:10:35.141896Z",
     "iopub.status.idle": "2021-02-22T22:10:35.152878Z",
     "shell.execute_reply": "2021-02-22T22:10:35.152499Z"
    },
    "papermill": {
     "duration": 0.650206,
     "end_time": "2021-02-22T22:10:35.152968",
     "exception": false,
     "start_time": "2021-02-22T22:10:34.502762",
     "status": "completed"
    },
    "tags": []
   },
   "outputs": [],
   "source": [
    "assert ensemble_stats[\"min\"] > 1"
   ]
  },
  {
   "cell_type": "code",
   "execution_count": 33,
   "metadata": {
    "execution": {
     "iopub.execute_input": "2021-02-22T22:10:36.433703Z",
     "iopub.status.busy": "2021-02-22T22:10:36.433322Z",
     "iopub.status.idle": "2021-02-22T22:10:36.444662Z",
     "shell.execute_reply": "2021-02-22T22:10:36.444280Z"
    },
    "papermill": {
     "duration": 0.650292,
     "end_time": "2021-02-22T22:10:36.444790",
     "exception": false,
     "start_time": "2021-02-22T22:10:35.794498",
     "status": "completed"
    },
    "tags": []
   },
   "outputs": [],
   "source": [
    "assert not ensemble[\"n_clusters\"].isna().any()"
   ]
  },
  {
   "cell_type": "code",
   "execution_count": 34,
   "metadata": {
    "execution": {
     "iopub.execute_input": "2021-02-22T22:10:37.720406Z",
     "iopub.status.busy": "2021-02-22T22:10:37.720048Z",
     "iopub.status.idle": "2021-02-22T22:10:37.730327Z",
     "shell.execute_reply": "2021-02-22T22:10:37.730607Z"
    },
    "papermill": {
     "duration": 0.64961,
     "end_time": "2021-02-22T22:10:37.730721",
     "exception": false,
     "start_time": "2021-02-22T22:10:37.081111",
     "status": "completed"
    },
    "tags": []
   },
   "outputs": [],
   "source": [
    "# assert ensemble.shape[0] == len(CLUSTERERS)"
   ]
  },
  {
   "cell_type": "code",
   "execution_count": 35,
   "metadata": {
    "execution": {
     "iopub.execute_input": "2021-02-22T22:10:39.045594Z",
     "iopub.status.busy": "2021-02-22T22:10:39.045234Z",
     "iopub.status.idle": "2021-02-22T22:10:39.071995Z",
     "shell.execute_reply": "2021-02-22T22:10:39.072288Z"
    },
    "papermill": {
     "duration": 0.673572,
     "end_time": "2021-02-22T22:10:39.072398",
     "exception": false,
     "start_time": "2021-02-22T22:10:38.398826",
     "status": "completed"
    },
    "tags": []
   },
   "outputs": [],
   "source": [
    "# all partitions have the right size\n",
    "assert np.all(\n",
    "    [part[\"partition\"].shape[0] == data.shape[0] for idx, part in ensemble.iterrows()]\n",
    ")"
   ]
  },
  {
   "cell_type": "code",
   "execution_count": 36,
   "metadata": {
    "execution": {
     "iopub.execute_input": "2021-02-22T22:10:40.345286Z",
     "iopub.status.busy": "2021-02-22T22:10:40.344912Z",
     "iopub.status.idle": "2021-02-22T22:10:40.374299Z",
     "shell.execute_reply": "2021-02-22T22:10:40.374573Z"
    },
    "papermill": {
     "duration": 0.664652,
     "end_time": "2021-02-22T22:10:40.374685",
     "exception": false,
     "start_time": "2021-02-22T22:10:39.710033",
     "status": "completed"
    },
    "tags": []
   },
   "outputs": [],
   "source": [
    "# no partition has negative clusters (noisy points)\n",
    "assert not np.any([(part[\"partition\"] < 0).any() for idx, part in ensemble.iterrows()])"
   ]
  },
  {
   "cell_type": "markdown",
   "metadata": {
    "papermill": {
     "duration": 0.665761,
     "end_time": "2021-02-22T22:10:41.683917",
     "exception": false,
     "start_time": "2021-02-22T22:10:41.018156",
     "status": "completed"
    },
    "tags": []
   },
   "source": [
    "### Save"
   ]
  },
  {
   "cell_type": "code",
   "execution_count": 37,
   "metadata": {
    "execution": {
     "iopub.execute_input": "2021-02-22T22:10:42.959306Z",
     "iopub.status.busy": "2021-02-22T22:10:42.958950Z",
     "iopub.status.idle": "2021-02-22T22:10:42.970288Z",
     "shell.execute_reply": "2021-02-22T22:10:42.970563Z"
    },
    "papermill": {
     "duration": 0.651928,
     "end_time": "2021-02-22T22:10:42.970673",
     "exception": false,
     "start_time": "2021-02-22T22:10:42.318745",
     "status": "completed"
    },
    "tags": []
   },
   "outputs": [
    {
     "data": {
      "text/plain": [
       "PosixPath('/home/miltondp/projects/labs/greenelab/phenoplier/base3/results/clustering/runs/z_score_std-projection-smultixcan-efo_partial-mashr-zscores/DBSCAN.pkl')"
      ]
     },
     "metadata": {},
     "output_type": "display_data"
    }
   ],
   "source": [
    "output_filename = Path(\n",
    "    RESULTS_DIR,\n",
    "    generate_result_set_name(\n",
    "        {},\n",
    "        #         CLUSTERING_OPTIONS,\n",
    "        prefix=f\"{clustering_method_name}\",\n",
    "        suffix=\".pkl\",\n",
    "    ),\n",
    ").resolve()\n",
    "display(output_filename)"
   ]
  },
  {
   "cell_type": "code",
   "execution_count": 38,
   "metadata": {
    "execution": {
     "iopub.execute_input": "2021-02-22T22:10:44.249342Z",
     "iopub.status.busy": "2021-02-22T22:10:44.248986Z",
     "iopub.status.idle": "2021-02-22T22:10:44.266329Z",
     "shell.execute_reply": "2021-02-22T22:10:44.265912Z"
    },
    "papermill": {
     "duration": 0.654794,
     "end_time": "2021-02-22T22:10:44.266427",
     "exception": false,
     "start_time": "2021-02-22T22:10:43.611633",
     "status": "completed"
    },
    "tags": []
   },
   "outputs": [],
   "source": [
    "ensemble.to_pickle(output_filename)"
   ]
  },
  {
   "cell_type": "code",
   "execution_count": null,
   "metadata": {
    "papermill": {
     "duration": 0.664931,
     "end_time": "2021-02-22T22:10:45.572556",
     "exception": false,
     "start_time": "2021-02-22T22:10:44.907625",
     "status": "completed"
    },
    "tags": []
   },
   "outputs": [],
   "source": []
  }
 ],
 "metadata": {
  "jupytext": {
   "cell_metadata_filter": "all,-execution,-papermill",
   "formats": "ipynb,py//py:percent"
  },
  "kernelspec": {
   "display_name": "Python 3",
   "language": "python",
   "name": "python3"
  },
  "language_info": {
   "codemirror_mode": {
    "name": "ipython",
    "version": 3
   },
   "file_extension": ".py",
   "mimetype": "text/x-python",
   "name": "python",
   "nbconvert_exporter": "python",
   "pygments_lexer": "ipython3",
   "version": "3.8.8"
  },
  "papermill": {
   "default_parameters": {},
   "duration": 927.5516,
   "end_time": "2021-02-22T22:10:47.465120",
   "environment_variables": {},
   "exception": null,
   "input_path": "15_cluster_analysis/002_00-dbscan-z_score_std.ipynb",
   "output_path": "15_cluster_analysis/002_00-dbscan-z_score_std.run.ipynb",
   "parameters": {},
   "start_time": "2021-02-22T21:55:19.913520",
   "version": "2.2.2"
  },
  "toc-autonumbering": true,
  "toc-showcode": false,
  "toc-showmarkdowntxt": false,
  "toc-showtags": false
 },
 "nbformat": 4,
 "nbformat_minor": 4
}
