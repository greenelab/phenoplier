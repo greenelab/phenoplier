{
 "cells": [
  {
   "cell_type": "markdown",
   "metadata": {
    "papermill": {
     "duration": 0.05798,
     "end_time": "2021-01-06T12:27:55.465174",
     "exception": false,
     "start_time": "2021-01-06T12:27:55.407194",
     "status": "completed"
    },
    "tags": []
   },
   "source": [
    "# Description"
   ]
  },
  {
   "cell_type": "markdown",
   "metadata": {
    "papermill": {
     "duration": 0.020689,
     "end_time": "2021-01-06T12:27:55.507526",
     "exception": false,
     "start_time": "2021-01-06T12:27:55.486837",
     "status": "completed"
    },
    "tags": []
   },
   "source": [
    "Runs gaussian mixture model on the umap version of the data."
   ]
  },
  {
   "cell_type": "markdown",
   "metadata": {
    "papermill": {
     "duration": 0.020778,
     "end_time": "2021-01-06T12:27:55.548982",
     "exception": false,
     "start_time": "2021-01-06T12:27:55.528204",
     "status": "completed"
    },
    "tags": []
   },
   "source": [
    "# Environment variables"
   ]
  },
  {
   "cell_type": "code",
   "execution_count": 1,
   "metadata": {
    "execution": {
     "iopub.execute_input": "2021-01-06T12:27:55.594635Z",
     "iopub.status.busy": "2021-01-06T12:27:55.594246Z",
     "iopub.status.idle": "2021-01-06T12:27:55.605563Z",
     "shell.execute_reply": "2021-01-06T12:27:55.605126Z"
    },
    "papermill": {
     "duration": 0.035654,
     "end_time": "2021-01-06T12:27:55.605689",
     "exception": false,
     "start_time": "2021-01-06T12:27:55.570035",
     "status": "completed"
    },
    "tags": []
   },
   "outputs": [
    {
     "data": {
      "text/plain": [
       "3"
      ]
     },
     "metadata": {},
     "output_type": "display_data"
    }
   ],
   "source": [
    "from IPython.display import display\n",
    "\n",
    "import conf\n",
    "\n",
    "N_JOBS = conf.GENERAL[\"N_JOBS\"]\n",
    "display(N_JOBS)"
   ]
  },
  {
   "cell_type": "code",
   "execution_count": 2,
   "metadata": {
    "execution": {
     "iopub.execute_input": "2021-01-06T12:27:55.653585Z",
     "iopub.status.busy": "2021-01-06T12:27:55.653188Z",
     "iopub.status.idle": "2021-01-06T12:27:55.655756Z",
     "shell.execute_reply": "2021-01-06T12:27:55.655367Z"
    },
    "papermill": {
     "duration": 0.02808,
     "end_time": "2021-01-06T12:27:55.655841",
     "exception": false,
     "start_time": "2021-01-06T12:27:55.627761",
     "status": "completed"
    },
    "tags": []
   },
   "outputs": [
    {
     "name": "stdout",
     "output_type": "stream",
     "text": [
      "env: MKL_NUM_THREADS=3\n",
      "env: OPEN_BLAS_NUM_THREADS=3\n",
      "env: NUMEXPR_NUM_THREADS=3\n",
      "env: OMP_NUM_THREADS=3\n"
     ]
    }
   ],
   "source": [
    "%env MKL_NUM_THREADS=$N_JOBS\n",
    "%env OPEN_BLAS_NUM_THREADS=$N_JOBS\n",
    "%env NUMEXPR_NUM_THREADS=$N_JOBS\n",
    "%env OMP_NUM_THREADS=$N_JOBS"
   ]
  },
  {
   "cell_type": "markdown",
   "metadata": {
    "papermill": {
     "duration": 0.021188,
     "end_time": "2021-01-06T12:27:55.698979",
     "exception": false,
     "start_time": "2021-01-06T12:27:55.677791",
     "status": "completed"
    },
    "tags": []
   },
   "source": [
    "# Modules loading"
   ]
  },
  {
   "cell_type": "code",
   "execution_count": 3,
   "metadata": {
    "execution": {
     "iopub.execute_input": "2021-01-06T12:27:55.744741Z",
     "iopub.status.busy": "2021-01-06T12:27:55.744334Z",
     "iopub.status.idle": "2021-01-06T12:27:55.752176Z",
     "shell.execute_reply": "2021-01-06T12:27:55.751804Z"
    },
    "papermill": {
     "duration": 0.031905,
     "end_time": "2021-01-06T12:27:55.752265",
     "exception": false,
     "start_time": "2021-01-06T12:27:55.720360",
     "status": "completed"
    },
    "tags": []
   },
   "outputs": [],
   "source": [
    "%load_ext autoreload\n",
    "%autoreload 2"
   ]
  },
  {
   "cell_type": "code",
   "execution_count": 4,
   "metadata": {
    "execution": {
     "iopub.execute_input": "2021-01-06T12:27:55.797852Z",
     "iopub.status.busy": "2021-01-06T12:27:55.797444Z",
     "iopub.status.idle": "2021-01-06T12:27:57.383391Z",
     "shell.execute_reply": "2021-01-06T12:27:57.383723Z"
    },
    "papermill": {
     "duration": 1.609752,
     "end_time": "2021-01-06T12:27:57.383850",
     "exception": false,
     "start_time": "2021-01-06T12:27:55.774098",
     "status": "completed"
    },
    "tags": []
   },
   "outputs": [],
   "source": [
    "from pathlib import Path\n",
    "\n",
    "import numpy as np\n",
    "import pandas as pd\n",
    "import matplotlib.pyplot as plt\n",
    "import seaborn as sns\n",
    "\n",
    "from utils import generate_result_set_name"
   ]
  },
  {
   "cell_type": "markdown",
   "metadata": {
    "papermill": {
     "duration": 0.021295,
     "end_time": "2021-01-06T12:27:57.428974",
     "exception": false,
     "start_time": "2021-01-06T12:27:57.407679",
     "status": "completed"
    },
    "tags": []
   },
   "source": [
    "# Settings"
   ]
  },
  {
   "cell_type": "code",
   "execution_count": 5,
   "metadata": {
    "execution": {
     "iopub.execute_input": "2021-01-06T12:27:57.475028Z",
     "iopub.status.busy": "2021-01-06T12:27:57.474654Z",
     "iopub.status.idle": "2021-01-06T12:27:57.486623Z",
     "shell.execute_reply": "2021-01-06T12:27:57.486237Z"
    },
    "papermill": {
     "duration": 0.036317,
     "end_time": "2021-01-06T12:27:57.486713",
     "exception": false,
     "start_time": "2021-01-06T12:27:57.450396",
     "status": "completed"
    },
    "tags": []
   },
   "outputs": [],
   "source": [
    "INITIAL_RANDOM_STATE = 80000"
   ]
  },
  {
   "cell_type": "markdown",
   "metadata": {
    "papermill": {
     "duration": 0.020968,
     "end_time": "2021-01-06T12:27:57.529448",
     "exception": false,
     "start_time": "2021-01-06T12:27:57.508480",
     "status": "completed"
    },
    "tags": []
   },
   "source": [
    "## Input data"
   ]
  },
  {
   "cell_type": "code",
   "execution_count": 6,
   "metadata": {
    "execution": {
     "iopub.execute_input": "2021-01-06T12:27:57.574616Z",
     "iopub.status.busy": "2021-01-06T12:27:57.574251Z",
     "iopub.status.idle": "2021-01-06T12:27:57.585943Z",
     "shell.execute_reply": "2021-01-06T12:27:57.585558Z"
    },
    "papermill": {
     "duration": 0.035299,
     "end_time": "2021-01-06T12:27:57.586034",
     "exception": false,
     "start_time": "2021-01-06T12:27:57.550735",
     "status": "completed"
    },
    "tags": []
   },
   "outputs": [],
   "source": [
    "INPUT_SUBSET = \"umap\""
   ]
  },
  {
   "cell_type": "code",
   "execution_count": 7,
   "metadata": {
    "execution": {
     "iopub.execute_input": "2021-01-06T12:27:57.631993Z",
     "iopub.status.busy": "2021-01-06T12:27:57.631628Z",
     "iopub.status.idle": "2021-01-06T12:27:57.643281Z",
     "shell.execute_reply": "2021-01-06T12:27:57.642942Z"
    },
    "papermill": {
     "duration": 0.035357,
     "end_time": "2021-01-06T12:27:57.643367",
     "exception": false,
     "start_time": "2021-01-06T12:27:57.608010",
     "status": "completed"
    },
    "tags": []
   },
   "outputs": [],
   "source": [
    "INPUT_STEM = \"z_score_std-projection-smultixcan-efo_partial-mashr-zscores\""
   ]
  },
  {
   "cell_type": "code",
   "execution_count": 8,
   "metadata": {
    "execution": {
     "iopub.execute_input": "2021-01-06T12:27:57.689011Z",
     "iopub.status.busy": "2021-01-06T12:27:57.688562Z",
     "iopub.status.idle": "2021-01-06T12:27:57.700257Z",
     "shell.execute_reply": "2021-01-06T12:27:57.699881Z"
    },
    "papermill": {
     "duration": 0.035295,
     "end_time": "2021-01-06T12:27:57.700342",
     "exception": false,
     "start_time": "2021-01-06T12:27:57.665047",
     "status": "completed"
    },
    "tags": []
   },
   "outputs": [],
   "source": [
    "DR_OPTIONS = {\n",
    "    \"n_components\": 50,\n",
    "    \"metric\": \"euclidean\",\n",
    "    \"n_neighbors\": 15,\n",
    "    \"random_state\": 0,\n",
    "}"
   ]
  },
  {
   "cell_type": "code",
   "execution_count": 9,
   "metadata": {
    "execution": {
     "iopub.execute_input": "2021-01-06T12:27:57.746111Z",
     "iopub.status.busy": "2021-01-06T12:27:57.745743Z",
     "iopub.status.idle": "2021-01-06T12:27:57.759530Z",
     "shell.execute_reply": "2021-01-06T12:27:57.759152Z"
    },
    "papermill": {
     "duration": 0.037576,
     "end_time": "2021-01-06T12:27:57.759617",
     "exception": false,
     "start_time": "2021-01-06T12:27:57.722041",
     "status": "completed"
    },
    "tags": []
   },
   "outputs": [
    {
     "data": {
      "text/plain": [
       "PosixPath('/home/miltondp/projects/labs/greenelab/phenoplier/base3/results/data_transformations/umap/umap-z_score_std-projection-smultixcan-efo_partial-mashr-zscores-metric_euclidean-n_components_50-n_neighbors_15-random_state_0.pkl')"
      ]
     },
     "metadata": {},
     "output_type": "display_data"
    },
    {
     "data": {
      "text/plain": [
       "'umap-z_score_std-projection-smultixcan-efo_partial-mashr-zscores-metric_euclidean-n_components_50-n_neighbors_15-random_state_0'"
      ]
     },
     "metadata": {},
     "output_type": "display_data"
    }
   ],
   "source": [
    "input_filepath = Path(\n",
    "    conf.RESULTS[\"DATA_TRANSFORMATIONS_DIR\"],\n",
    "    INPUT_SUBSET,\n",
    "    generate_result_set_name(\n",
    "        DR_OPTIONS, prefix=f\"{INPUT_SUBSET}-{INPUT_STEM}-\", suffix=\".pkl\"\n",
    "    ),\n",
    ").resolve()\n",
    "display(input_filepath)\n",
    "\n",
    "assert input_filepath.exists(), \"Input file does not exist\"\n",
    "\n",
    "input_filepath_stem = input_filepath.stem\n",
    "display(input_filepath_stem)"
   ]
  },
  {
   "cell_type": "markdown",
   "metadata": {
    "papermill": {
     "duration": 0.023053,
     "end_time": "2021-01-06T12:27:57.805804",
     "exception": false,
     "start_time": "2021-01-06T12:27:57.782751",
     "status": "completed"
    },
    "tags": []
   },
   "source": [
    "## Clustering"
   ]
  },
  {
   "cell_type": "code",
   "execution_count": 10,
   "metadata": {
    "execution": {
     "iopub.execute_input": "2021-01-06T12:27:57.855071Z",
     "iopub.status.busy": "2021-01-06T12:27:57.854709Z",
     "iopub.status.idle": "2021-01-06T12:27:57.873835Z",
     "shell.execute_reply": "2021-01-06T12:27:57.874148Z"
    },
    "papermill": {
     "duration": 0.044309,
     "end_time": "2021-01-06T12:27:57.874267",
     "exception": false,
     "start_time": "2021-01-06T12:27:57.829958",
     "status": "completed"
    },
    "tags": []
   },
   "outputs": [],
   "source": [
    "from sklearn.mixture import GaussianMixture"
   ]
  },
  {
   "cell_type": "code",
   "execution_count": 11,
   "metadata": {
    "execution": {
     "iopub.execute_input": "2021-01-06T12:27:57.922367Z",
     "iopub.status.busy": "2021-01-06T12:27:57.922001Z",
     "iopub.status.idle": "2021-01-06T12:27:57.933719Z",
     "shell.execute_reply": "2021-01-06T12:27:57.933331Z"
    },
    "papermill": {
     "duration": 0.036168,
     "end_time": "2021-01-06T12:27:57.933807",
     "exception": false,
     "start_time": "2021-01-06T12:27:57.897639",
     "status": "completed"
    },
    "tags": []
   },
   "outputs": [],
   "source": [
    "CLUSTERING_ATTRIBUTES_TO_SAVE = [\"n_clusters\"]"
   ]
  },
  {
   "cell_type": "code",
   "execution_count": 12,
   "metadata": {
    "execution": {
     "iopub.execute_input": "2021-01-06T12:27:57.980822Z",
     "iopub.status.busy": "2021-01-06T12:27:57.980403Z",
     "iopub.status.idle": "2021-01-06T12:27:57.993271Z",
     "shell.execute_reply": "2021-01-06T12:27:57.992891Z"
    },
    "papermill": {
     "duration": 0.037358,
     "end_time": "2021-01-06T12:27:57.993358",
     "exception": false,
     "start_time": "2021-01-06T12:27:57.956000",
     "status": "completed"
    },
    "tags": []
   },
   "outputs": [
    {
     "data": {
      "text/plain": [
       "{'K_MIN': 2,\n",
       " 'K_MAX': 60,\n",
       " 'N_REPS_PER_K': 5,\n",
       " 'N_INIT': 10,\n",
       " 'COVARIANCE_TYPE': 'full'}"
      ]
     },
     "metadata": {},
     "output_type": "display_data"
    }
   ],
   "source": [
    "CLUSTERING_OPTIONS = {}\n",
    "\n",
    "CLUSTERING_OPTIONS[\"K_MIN\"] = 2\n",
    "CLUSTERING_OPTIONS[\"K_MAX\"] = 60  # sqrt(3749)\n",
    "CLUSTERING_OPTIONS[\"N_REPS_PER_K\"] = 5\n",
    "CLUSTERING_OPTIONS[\"N_INIT\"] = 10\n",
    "CLUSTERING_OPTIONS[\"COVARIANCE_TYPE\"] = \"full\"\n",
    "\n",
    "display(CLUSTERING_OPTIONS)"
   ]
  },
  {
   "cell_type": "code",
   "execution_count": 13,
   "metadata": {
    "execution": {
     "iopub.execute_input": "2021-01-06T12:27:58.041738Z",
     "iopub.status.busy": "2021-01-06T12:27:58.041353Z",
     "iopub.status.idle": "2021-01-06T12:27:58.054644Z",
     "shell.execute_reply": "2021-01-06T12:27:58.054265Z"
    },
    "papermill": {
     "duration": 0.03831,
     "end_time": "2021-01-06T12:27:58.054730",
     "exception": false,
     "start_time": "2021-01-06T12:27:58.016420",
     "status": "completed"
    },
    "tags": []
   },
   "outputs": [],
   "source": [
    "CLUSTERERS = {}\n",
    "\n",
    "idx = 0\n",
    "random_state = INITIAL_RANDOM_STATE\n",
    "\n",
    "for k in range(CLUSTERING_OPTIONS[\"K_MIN\"], CLUSTERING_OPTIONS[\"K_MAX\"] + 1):\n",
    "    for i in range(CLUSTERING_OPTIONS[\"N_REPS_PER_K\"]):\n",
    "        clus = GaussianMixture(\n",
    "            n_components=k,\n",
    "            n_init=CLUSTERING_OPTIONS[\"N_INIT\"],\n",
    "            covariance_type=CLUSTERING_OPTIONS[\"COVARIANCE_TYPE\"],\n",
    "            random_state=random_state,\n",
    "        )\n",
    "\n",
    "        method_name = type(clus).__name__\n",
    "        CLUSTERERS[f\"{method_name} #{idx}\"] = clus\n",
    "\n",
    "        random_state = random_state + 1\n",
    "        idx = idx + 1"
   ]
  },
  {
   "cell_type": "code",
   "execution_count": 14,
   "metadata": {
    "execution": {
     "iopub.execute_input": "2021-01-06T12:27:58.101511Z",
     "iopub.status.busy": "2021-01-06T12:27:58.101127Z",
     "iopub.status.idle": "2021-01-06T12:27:58.114777Z",
     "shell.execute_reply": "2021-01-06T12:27:58.114398Z"
    },
    "papermill": {
     "duration": 0.037862,
     "end_time": "2021-01-06T12:27:58.114865",
     "exception": false,
     "start_time": "2021-01-06T12:27:58.077003",
     "status": "completed"
    },
    "tags": []
   },
   "outputs": [
    {
     "data": {
      "text/plain": [
       "295"
      ]
     },
     "metadata": {},
     "output_type": "display_data"
    }
   ],
   "source": [
    "display(len(CLUSTERERS))"
   ]
  },
  {
   "cell_type": "code",
   "execution_count": 15,
   "metadata": {
    "execution": {
     "iopub.execute_input": "2021-01-06T12:27:58.163905Z",
     "iopub.status.busy": "2021-01-06T12:27:58.163537Z",
     "iopub.status.idle": "2021-01-06T12:27:58.177254Z",
     "shell.execute_reply": "2021-01-06T12:27:58.176943Z"
    },
    "papermill": {
     "duration": 0.0388,
     "end_time": "2021-01-06T12:27:58.177345",
     "exception": false,
     "start_time": "2021-01-06T12:27:58.138545",
     "status": "completed"
    },
    "tags": []
   },
   "outputs": [
    {
     "data": {
      "text/plain": [
       "('GaussianMixture #0',\n",
       " GaussianMixture(n_components=2, n_init=10, random_state=80000))"
      ]
     },
     "metadata": {},
     "output_type": "display_data"
    },
    {
     "data": {
      "text/plain": [
       "('GaussianMixture #1',\n",
       " GaussianMixture(n_components=2, n_init=10, random_state=80001))"
      ]
     },
     "metadata": {},
     "output_type": "display_data"
    }
   ],
   "source": [
    "_iter = iter(CLUSTERERS.items())\n",
    "display(next(_iter))\n",
    "display(next(_iter))"
   ]
  },
  {
   "cell_type": "code",
   "execution_count": 16,
   "metadata": {
    "execution": {
     "iopub.execute_input": "2021-01-06T12:27:58.225401Z",
     "iopub.status.busy": "2021-01-06T12:27:58.225036Z",
     "iopub.status.idle": "2021-01-06T12:27:58.237315Z",
     "shell.execute_reply": "2021-01-06T12:27:58.237618Z"
    },
    "papermill": {
     "duration": 0.037268,
     "end_time": "2021-01-06T12:27:58.237725",
     "exception": false,
     "start_time": "2021-01-06T12:27:58.200457",
     "status": "completed"
    },
    "tags": []
   },
   "outputs": [
    {
     "data": {
      "text/plain": [
       "'GaussianMixture'"
      ]
     },
     "metadata": {},
     "output_type": "display_data"
    }
   ],
   "source": [
    "clustering_method_name = method_name\n",
    "display(clustering_method_name)"
   ]
  },
  {
   "cell_type": "markdown",
   "metadata": {
    "papermill": {
     "duration": 0.023472,
     "end_time": "2021-01-06T12:27:58.285222",
     "exception": false,
     "start_time": "2021-01-06T12:27:58.261750",
     "status": "completed"
    },
    "tags": []
   },
   "source": [
    "## Output directory"
   ]
  },
  {
   "cell_type": "code",
   "execution_count": 17,
   "metadata": {
    "execution": {
     "iopub.execute_input": "2021-01-06T12:27:58.334124Z",
     "iopub.status.busy": "2021-01-06T12:27:58.333758Z",
     "iopub.status.idle": "2021-01-06T12:27:58.346306Z",
     "shell.execute_reply": "2021-01-06T12:27:58.346580Z"
    },
    "papermill": {
     "duration": 0.038444,
     "end_time": "2021-01-06T12:27:58.346687",
     "exception": false,
     "start_time": "2021-01-06T12:27:58.308243",
     "status": "completed"
    },
    "tags": []
   },
   "outputs": [
    {
     "data": {
      "text/plain": [
       "PosixPath('/home/miltondp/projects/labs/greenelab/phenoplier/base3/results/clustering/runs/umap-z_score_std-projection-smultixcan-efo_partial-mashr-zscores')"
      ]
     },
     "metadata": {},
     "output_type": "display_data"
    }
   ],
   "source": [
    "# output dir for this notebook\n",
    "RESULTS_DIR = Path(\n",
    "    conf.RESULTS[\"CLUSTERING_RUNS_DIR\"],\n",
    "    f\"{INPUT_SUBSET}-{INPUT_STEM}\",\n",
    ").resolve()\n",
    "RESULTS_DIR.mkdir(parents=True, exist_ok=True)\n",
    "\n",
    "display(RESULTS_DIR)"
   ]
  },
  {
   "cell_type": "markdown",
   "metadata": {
    "papermill": {
     "duration": 0.023206,
     "end_time": "2021-01-06T12:27:58.393182",
     "exception": false,
     "start_time": "2021-01-06T12:27:58.369976",
     "status": "completed"
    },
    "tags": []
   },
   "source": [
    "# Load input file"
   ]
  },
  {
   "cell_type": "code",
   "execution_count": 18,
   "metadata": {
    "execution": {
     "iopub.execute_input": "2021-01-06T12:27:58.441856Z",
     "iopub.status.busy": "2021-01-06T12:27:58.441496Z",
     "iopub.status.idle": "2021-01-06T12:27:58.454974Z",
     "shell.execute_reply": "2021-01-06T12:27:58.454594Z"
    },
    "papermill": {
     "duration": 0.038744,
     "end_time": "2021-01-06T12:27:58.455059",
     "exception": false,
     "start_time": "2021-01-06T12:27:58.416315",
     "status": "completed"
    },
    "tags": []
   },
   "outputs": [],
   "source": [
    "data = pd.read_pickle(input_filepath)"
   ]
  },
  {
   "cell_type": "code",
   "execution_count": 19,
   "metadata": {
    "execution": {
     "iopub.execute_input": "2021-01-06T12:27:58.504981Z",
     "iopub.status.busy": "2021-01-06T12:27:58.504540Z",
     "iopub.status.idle": "2021-01-06T12:27:58.517315Z",
     "shell.execute_reply": "2021-01-06T12:27:58.516969Z"
    },
    "papermill": {
     "duration": 0.038511,
     "end_time": "2021-01-06T12:27:58.517404",
     "exception": false,
     "start_time": "2021-01-06T12:27:58.478893",
     "status": "completed"
    },
    "tags": []
   },
   "outputs": [
    {
     "data": {
      "text/plain": [
       "(3749, 50)"
      ]
     },
     "execution_count": 19,
     "metadata": {},
     "output_type": "execute_result"
    }
   ],
   "source": [
    "data.shape"
   ]
  },
  {
   "cell_type": "code",
   "execution_count": 20,
   "metadata": {
    "execution": {
     "iopub.execute_input": "2021-01-06T12:27:58.567216Z",
     "iopub.status.busy": "2021-01-06T12:27:58.566852Z",
     "iopub.status.idle": "2021-01-06T12:27:58.591830Z",
     "shell.execute_reply": "2021-01-06T12:27:58.591452Z"
    },
    "papermill": {
     "duration": 0.050419,
     "end_time": "2021-01-06T12:27:58.591917",
     "exception": false,
     "start_time": "2021-01-06T12:27:58.541498",
     "status": "completed"
    },
    "tags": []
   },
   "outputs": [
    {
     "data": {
      "text/html": [
       "<div>\n",
       "<style scoped>\n",
       "    .dataframe tbody tr th:only-of-type {\n",
       "        vertical-align: middle;\n",
       "    }\n",
       "\n",
       "    .dataframe tbody tr th {\n",
       "        vertical-align: top;\n",
       "    }\n",
       "\n",
       "    .dataframe thead th {\n",
       "        text-align: right;\n",
       "    }\n",
       "</style>\n",
       "<table border=\"1\" class=\"dataframe\">\n",
       "  <thead>\n",
       "    <tr style=\"text-align: right;\">\n",
       "      <th></th>\n",
       "      <th>UMAP1</th>\n",
       "      <th>UMAP2</th>\n",
       "      <th>UMAP3</th>\n",
       "      <th>UMAP4</th>\n",
       "      <th>UMAP5</th>\n",
       "      <th>UMAP6</th>\n",
       "      <th>UMAP7</th>\n",
       "      <th>UMAP8</th>\n",
       "      <th>UMAP9</th>\n",
       "      <th>UMAP10</th>\n",
       "      <th>...</th>\n",
       "      <th>UMAP41</th>\n",
       "      <th>UMAP42</th>\n",
       "      <th>UMAP43</th>\n",
       "      <th>UMAP44</th>\n",
       "      <th>UMAP45</th>\n",
       "      <th>UMAP46</th>\n",
       "      <th>UMAP47</th>\n",
       "      <th>UMAP48</th>\n",
       "      <th>UMAP49</th>\n",
       "      <th>UMAP50</th>\n",
       "    </tr>\n",
       "  </thead>\n",
       "  <tbody>\n",
       "    <tr>\n",
       "      <th>100001_raw-Food_weight</th>\n",
       "      <td>11.531590</td>\n",
       "      <td>10.773390</td>\n",
       "      <td>10.551500</td>\n",
       "      <td>5.689103</td>\n",
       "      <td>12.646474</td>\n",
       "      <td>8.795625</td>\n",
       "      <td>2.365859</td>\n",
       "      <td>-3.382425</td>\n",
       "      <td>1.458605</td>\n",
       "      <td>14.236823</td>\n",
       "      <td>...</td>\n",
       "      <td>2.214731</td>\n",
       "      <td>9.304909</td>\n",
       "      <td>3.359118</td>\n",
       "      <td>5.211676</td>\n",
       "      <td>1.265622</td>\n",
       "      <td>2.058685</td>\n",
       "      <td>1.291174</td>\n",
       "      <td>1.565621</td>\n",
       "      <td>7.317275</td>\n",
       "      <td>9.037535</td>\n",
       "    </tr>\n",
       "    <tr>\n",
       "      <th>100002_raw-Energy</th>\n",
       "      <td>11.554761</td>\n",
       "      <td>10.753816</td>\n",
       "      <td>10.548004</td>\n",
       "      <td>5.710800</td>\n",
       "      <td>12.674987</td>\n",
       "      <td>8.787647</td>\n",
       "      <td>2.379787</td>\n",
       "      <td>-3.339913</td>\n",
       "      <td>1.442655</td>\n",
       "      <td>14.196218</td>\n",
       "      <td>...</td>\n",
       "      <td>2.237087</td>\n",
       "      <td>9.270699</td>\n",
       "      <td>3.383440</td>\n",
       "      <td>5.185328</td>\n",
       "      <td>1.257113</td>\n",
       "      <td>2.057439</td>\n",
       "      <td>1.290686</td>\n",
       "      <td>1.557209</td>\n",
       "      <td>7.297037</td>\n",
       "      <td>9.009866</td>\n",
       "    </tr>\n",
       "    <tr>\n",
       "      <th>100003_raw-Protein</th>\n",
       "      <td>11.519615</td>\n",
       "      <td>10.786408</td>\n",
       "      <td>10.540249</td>\n",
       "      <td>5.687959</td>\n",
       "      <td>12.628188</td>\n",
       "      <td>8.789925</td>\n",
       "      <td>2.368370</td>\n",
       "      <td>-3.390937</td>\n",
       "      <td>1.464806</td>\n",
       "      <td>14.233623</td>\n",
       "      <td>...</td>\n",
       "      <td>2.216162</td>\n",
       "      <td>9.314158</td>\n",
       "      <td>3.350708</td>\n",
       "      <td>5.226166</td>\n",
       "      <td>1.267382</td>\n",
       "      <td>2.051692</td>\n",
       "      <td>1.305047</td>\n",
       "      <td>1.558942</td>\n",
       "      <td>7.307035</td>\n",
       "      <td>9.042575</td>\n",
       "    </tr>\n",
       "    <tr>\n",
       "      <th>100004_raw-Fat</th>\n",
       "      <td>11.515584</td>\n",
       "      <td>10.756584</td>\n",
       "      <td>10.570711</td>\n",
       "      <td>5.697041</td>\n",
       "      <td>12.661936</td>\n",
       "      <td>8.787330</td>\n",
       "      <td>2.396913</td>\n",
       "      <td>-3.351611</td>\n",
       "      <td>1.435632</td>\n",
       "      <td>14.221588</td>\n",
       "      <td>...</td>\n",
       "      <td>2.214707</td>\n",
       "      <td>9.273252</td>\n",
       "      <td>3.383349</td>\n",
       "      <td>5.220068</td>\n",
       "      <td>1.270067</td>\n",
       "      <td>2.065669</td>\n",
       "      <td>1.281447</td>\n",
       "      <td>1.578588</td>\n",
       "      <td>7.332527</td>\n",
       "      <td>9.005523</td>\n",
       "    </tr>\n",
       "    <tr>\n",
       "      <th>100005_raw-Carbohydrate</th>\n",
       "      <td>11.528723</td>\n",
       "      <td>10.762026</td>\n",
       "      <td>10.566773</td>\n",
       "      <td>5.698555</td>\n",
       "      <td>12.671127</td>\n",
       "      <td>8.791903</td>\n",
       "      <td>2.394764</td>\n",
       "      <td>-3.354370</td>\n",
       "      <td>1.442259</td>\n",
       "      <td>14.226301</td>\n",
       "      <td>...</td>\n",
       "      <td>2.216362</td>\n",
       "      <td>9.275563</td>\n",
       "      <td>3.383139</td>\n",
       "      <td>5.216354</td>\n",
       "      <td>1.269187</td>\n",
       "      <td>2.063429</td>\n",
       "      <td>1.280020</td>\n",
       "      <td>1.577227</td>\n",
       "      <td>7.335059</td>\n",
       "      <td>9.009464</td>\n",
       "    </tr>\n",
       "  </tbody>\n",
       "</table>\n",
       "<p>5 rows × 50 columns</p>\n",
       "</div>"
      ],
      "text/plain": [
       "                             UMAP1      UMAP2      UMAP3     UMAP4      UMAP5  \\\n",
       "100001_raw-Food_weight   11.531590  10.773390  10.551500  5.689103  12.646474   \n",
       "100002_raw-Energy        11.554761  10.753816  10.548004  5.710800  12.674987   \n",
       "100003_raw-Protein       11.519615  10.786408  10.540249  5.687959  12.628188   \n",
       "100004_raw-Fat           11.515584  10.756584  10.570711  5.697041  12.661936   \n",
       "100005_raw-Carbohydrate  11.528723  10.762026  10.566773  5.698555  12.671127   \n",
       "\n",
       "                            UMAP6     UMAP7     UMAP8     UMAP9     UMAP10  \\\n",
       "100001_raw-Food_weight   8.795625  2.365859 -3.382425  1.458605  14.236823   \n",
       "100002_raw-Energy        8.787647  2.379787 -3.339913  1.442655  14.196218   \n",
       "100003_raw-Protein       8.789925  2.368370 -3.390937  1.464806  14.233623   \n",
       "100004_raw-Fat           8.787330  2.396913 -3.351611  1.435632  14.221588   \n",
       "100005_raw-Carbohydrate  8.791903  2.394764 -3.354370  1.442259  14.226301   \n",
       "\n",
       "                         ...    UMAP41    UMAP42    UMAP43    UMAP44  \\\n",
       "100001_raw-Food_weight   ...  2.214731  9.304909  3.359118  5.211676   \n",
       "100002_raw-Energy        ...  2.237087  9.270699  3.383440  5.185328   \n",
       "100003_raw-Protein       ...  2.216162  9.314158  3.350708  5.226166   \n",
       "100004_raw-Fat           ...  2.214707  9.273252  3.383349  5.220068   \n",
       "100005_raw-Carbohydrate  ...  2.216362  9.275563  3.383139  5.216354   \n",
       "\n",
       "                           UMAP45    UMAP46    UMAP47    UMAP48    UMAP49  \\\n",
       "100001_raw-Food_weight   1.265622  2.058685  1.291174  1.565621  7.317275   \n",
       "100002_raw-Energy        1.257113  2.057439  1.290686  1.557209  7.297037   \n",
       "100003_raw-Protein       1.267382  2.051692  1.305047  1.558942  7.307035   \n",
       "100004_raw-Fat           1.270067  2.065669  1.281447  1.578588  7.332527   \n",
       "100005_raw-Carbohydrate  1.269187  2.063429  1.280020  1.577227  7.335059   \n",
       "\n",
       "                           UMAP50  \n",
       "100001_raw-Food_weight   9.037535  \n",
       "100002_raw-Energy        9.009866  \n",
       "100003_raw-Protein       9.042575  \n",
       "100004_raw-Fat           9.005523  \n",
       "100005_raw-Carbohydrate  9.009464  \n",
       "\n",
       "[5 rows x 50 columns]"
      ]
     },
     "execution_count": 20,
     "metadata": {},
     "output_type": "execute_result"
    }
   ],
   "source": [
    "data.head()"
   ]
  },
  {
   "cell_type": "code",
   "execution_count": 21,
   "metadata": {
    "execution": {
     "iopub.execute_input": "2021-01-06T12:27:58.642809Z",
     "iopub.status.busy": "2021-01-06T12:27:58.642419Z",
     "iopub.status.idle": "2021-01-06T12:27:58.654705Z",
     "shell.execute_reply": "2021-01-06T12:27:58.654390Z"
    },
    "papermill": {
     "duration": 0.038261,
     "end_time": "2021-01-06T12:27:58.654795",
     "exception": false,
     "start_time": "2021-01-06T12:27:58.616534",
     "status": "completed"
    },
    "tags": []
   },
   "outputs": [],
   "source": [
    "assert not data.isna().any().any()"
   ]
  },
  {
   "cell_type": "markdown",
   "metadata": {
    "papermill": {
     "duration": 0.023956,
     "end_time": "2021-01-06T12:27:58.702960",
     "exception": false,
     "start_time": "2021-01-06T12:27:58.679004",
     "status": "completed"
    },
    "tags": []
   },
   "source": [
    "# Clustering"
   ]
  },
  {
   "cell_type": "markdown",
   "metadata": {
    "papermill": {
     "duration": 0.023423,
     "end_time": "2021-01-06T12:27:58.749696",
     "exception": false,
     "start_time": "2021-01-06T12:27:58.726273",
     "status": "completed"
    },
    "tags": []
   },
   "source": [
    "## Generate ensemble"
   ]
  },
  {
   "cell_type": "code",
   "execution_count": 22,
   "metadata": {
    "execution": {
     "iopub.execute_input": "2021-01-06T12:27:58.799492Z",
     "iopub.status.busy": "2021-01-06T12:27:58.799125Z",
     "iopub.status.idle": "2021-01-06T12:27:58.814241Z",
     "shell.execute_reply": "2021-01-06T12:27:58.814563Z"
    },
    "papermill": {
     "duration": 0.041483,
     "end_time": "2021-01-06T12:27:58.814686",
     "exception": false,
     "start_time": "2021-01-06T12:27:58.773203",
     "status": "completed"
    },
    "tags": []
   },
   "outputs": [],
   "source": [
    "from clustering.ensemble import generate_ensemble"
   ]
  },
  {
   "cell_type": "code",
   "execution_count": 23,
   "metadata": {
    "execution": {
     "iopub.execute_input": "2021-01-06T12:27:58.866601Z",
     "iopub.status.busy": "2021-01-06T12:27:58.866233Z",
     "iopub.status.idle": "2021-01-06T13:18:22.401648Z",
     "shell.execute_reply": "2021-01-06T13:18:22.400585Z"
    },
    "papermill": {
     "duration": 3023.561491,
     "end_time": "2021-01-06T13:18:22.401749",
     "exception": false,
     "start_time": "2021-01-06T12:27:58.840258",
     "status": "completed"
    },
    "tags": []
   },
   "outputs": [
    {
     "name": "stderr",
     "output_type": "stream",
     "text": [
      "100%|██████████| 295/295 [50:23<00:00, 10.25s/it]\n"
     ]
    }
   ],
   "source": [
    "ensemble = generate_ensemble(\n",
    "    data,\n",
    "    CLUSTERERS,\n",
    "    attributes=CLUSTERING_ATTRIBUTES_TO_SAVE,\n",
    ")"
   ]
  },
  {
   "cell_type": "code",
   "execution_count": 24,
   "metadata": {
    "execution": {
     "iopub.execute_input": "2021-01-06T13:18:22.554167Z",
     "iopub.status.busy": "2021-01-06T13:18:22.553805Z",
     "iopub.status.idle": "2021-01-06T13:18:22.566457Z",
     "shell.execute_reply": "2021-01-06T13:18:22.566079Z"
    },
    "papermill": {
     "duration": 0.085931,
     "end_time": "2021-01-06T13:18:22.566547",
     "exception": false,
     "start_time": "2021-01-06T13:18:22.480616",
     "status": "completed"
    },
    "tags": []
   },
   "outputs": [
    {
     "data": {
      "text/plain": [
       "(295, 3)"
      ]
     },
     "execution_count": 24,
     "metadata": {},
     "output_type": "execute_result"
    }
   ],
   "source": [
    "# the number should be close to 295 (the number of partitions generated by k-means/spectral clustering)\n",
    "ensemble.shape"
   ]
  },
  {
   "cell_type": "code",
   "execution_count": 25,
   "metadata": {
    "execution": {
     "iopub.execute_input": "2021-01-06T13:18:22.711295Z",
     "iopub.status.busy": "2021-01-06T13:18:22.710930Z",
     "iopub.status.idle": "2021-01-06T13:18:22.730901Z",
     "shell.execute_reply": "2021-01-06T13:18:22.730521Z"
    },
    "papermill": {
     "duration": 0.093077,
     "end_time": "2021-01-06T13:18:22.730990",
     "exception": false,
     "start_time": "2021-01-06T13:18:22.637913",
     "status": "completed"
    },
    "tags": []
   },
   "outputs": [
    {
     "data": {
      "text/html": [
       "<div>\n",
       "<style scoped>\n",
       "    .dataframe tbody tr th:only-of-type {\n",
       "        vertical-align: middle;\n",
       "    }\n",
       "\n",
       "    .dataframe tbody tr th {\n",
       "        vertical-align: top;\n",
       "    }\n",
       "\n",
       "    .dataframe thead th {\n",
       "        text-align: right;\n",
       "    }\n",
       "</style>\n",
       "<table border=\"1\" class=\"dataframe\">\n",
       "  <thead>\n",
       "    <tr style=\"text-align: right;\">\n",
       "      <th></th>\n",
       "      <th>clusterer_params</th>\n",
       "      <th>partition</th>\n",
       "      <th>n_clusters</th>\n",
       "    </tr>\n",
       "    <tr>\n",
       "      <th>clusterer_id</th>\n",
       "      <th></th>\n",
       "      <th></th>\n",
       "      <th></th>\n",
       "    </tr>\n",
       "  </thead>\n",
       "  <tbody>\n",
       "    <tr>\n",
       "      <th>GaussianMixture #0</th>\n",
       "      <td>{'covariance_type': 'full', 'init_params': 'km...</td>\n",
       "      <td>[0.0, 0.0, 0.0, 0.0, 0.0, 0.0, 0.0, 0.0, 0.0, ...</td>\n",
       "      <td>2</td>\n",
       "    </tr>\n",
       "    <tr>\n",
       "      <th>GaussianMixture #1</th>\n",
       "      <td>{'covariance_type': 'full', 'init_params': 'km...</td>\n",
       "      <td>[0.0, 0.0, 0.0, 0.0, 0.0, 0.0, 0.0, 0.0, 0.0, ...</td>\n",
       "      <td>2</td>\n",
       "    </tr>\n",
       "    <tr>\n",
       "      <th>GaussianMixture #2</th>\n",
       "      <td>{'covariance_type': 'full', 'init_params': 'km...</td>\n",
       "      <td>[1.0, 1.0, 1.0, 1.0, 1.0, 1.0, 1.0, 1.0, 1.0, ...</td>\n",
       "      <td>2</td>\n",
       "    </tr>\n",
       "    <tr>\n",
       "      <th>GaussianMixture #3</th>\n",
       "      <td>{'covariance_type': 'full', 'init_params': 'km...</td>\n",
       "      <td>[0.0, 0.0, 0.0, 0.0, 0.0, 0.0, 0.0, 0.0, 0.0, ...</td>\n",
       "      <td>2</td>\n",
       "    </tr>\n",
       "    <tr>\n",
       "      <th>GaussianMixture #4</th>\n",
       "      <td>{'covariance_type': 'full', 'init_params': 'km...</td>\n",
       "      <td>[0.0, 0.0, 0.0, 0.0, 0.0, 0.0, 0.0, 0.0, 0.0, ...</td>\n",
       "      <td>2</td>\n",
       "    </tr>\n",
       "  </tbody>\n",
       "</table>\n",
       "</div>"
      ],
      "text/plain": [
       "                                                     clusterer_params  \\\n",
       "clusterer_id                                                            \n",
       "GaussianMixture #0  {'covariance_type': 'full', 'init_params': 'km...   \n",
       "GaussianMixture #1  {'covariance_type': 'full', 'init_params': 'km...   \n",
       "GaussianMixture #2  {'covariance_type': 'full', 'init_params': 'km...   \n",
       "GaussianMixture #3  {'covariance_type': 'full', 'init_params': 'km...   \n",
       "GaussianMixture #4  {'covariance_type': 'full', 'init_params': 'km...   \n",
       "\n",
       "                                                            partition  \\\n",
       "clusterer_id                                                            \n",
       "GaussianMixture #0  [0.0, 0.0, 0.0, 0.0, 0.0, 0.0, 0.0, 0.0, 0.0, ...   \n",
       "GaussianMixture #1  [0.0, 0.0, 0.0, 0.0, 0.0, 0.0, 0.0, 0.0, 0.0, ...   \n",
       "GaussianMixture #2  [1.0, 1.0, 1.0, 1.0, 1.0, 1.0, 1.0, 1.0, 1.0, ...   \n",
       "GaussianMixture #3  [0.0, 0.0, 0.0, 0.0, 0.0, 0.0, 0.0, 0.0, 0.0, ...   \n",
       "GaussianMixture #4  [0.0, 0.0, 0.0, 0.0, 0.0, 0.0, 0.0, 0.0, 0.0, ...   \n",
       "\n",
       "                    n_clusters  \n",
       "clusterer_id                    \n",
       "GaussianMixture #0           2  \n",
       "GaussianMixture #1           2  \n",
       "GaussianMixture #2           2  \n",
       "GaussianMixture #3           2  \n",
       "GaussianMixture #4           2  "
      ]
     },
     "execution_count": 25,
     "metadata": {},
     "output_type": "execute_result"
    }
   ],
   "source": [
    "ensemble.head()"
   ]
  },
  {
   "cell_type": "code",
   "execution_count": 26,
   "metadata": {
    "execution": {
     "iopub.execute_input": "2021-01-06T13:18:22.878343Z",
     "iopub.status.busy": "2021-01-06T13:18:22.877978Z",
     "iopub.status.idle": "2021-01-06T13:18:22.891693Z",
     "shell.execute_reply": "2021-01-06T13:18:22.891317Z"
    },
    "papermill": {
     "duration": 0.08756,
     "end_time": "2021-01-06T13:18:22.891782",
     "exception": false,
     "start_time": "2021-01-06T13:18:22.804222",
     "status": "completed"
    },
    "tags": []
   },
   "outputs": [
    {
     "data": {
      "text/plain": [
       "60    5\n",
       "16    5\n",
       "28    5\n",
       "27    5\n",
       "26    5\n",
       "Name: n_clusters, dtype: int64"
      ]
     },
     "execution_count": 26,
     "metadata": {},
     "output_type": "execute_result"
    }
   ],
   "source": [
    "ensemble[\"n_clusters\"].value_counts().head()"
   ]
  },
  {
   "cell_type": "code",
   "execution_count": 27,
   "metadata": {
    "execution": {
     "iopub.execute_input": "2021-01-06T13:18:23.040992Z",
     "iopub.status.busy": "2021-01-06T13:18:23.040558Z",
     "iopub.status.idle": "2021-01-06T13:18:23.055260Z",
     "shell.execute_reply": "2021-01-06T13:18:23.054882Z"
    },
    "papermill": {
     "duration": 0.088715,
     "end_time": "2021-01-06T13:18:23.055347",
     "exception": false,
     "start_time": "2021-01-06T13:18:22.966632",
     "status": "completed"
    },
    "tags": []
   },
   "outputs": [
    {
     "data": {
      "text/plain": [
       "count    295.000000\n",
       "mean      31.000000\n",
       "std       17.058323\n",
       "min        2.000000\n",
       "25%       16.000000\n",
       "50%       31.000000\n",
       "75%       46.000000\n",
       "max       60.000000\n",
       "Name: n_clusters, dtype: float64"
      ]
     },
     "metadata": {},
     "output_type": "display_data"
    }
   ],
   "source": [
    "ensemble_stats = ensemble[\"n_clusters\"].describe()\n",
    "display(ensemble_stats)"
   ]
  },
  {
   "cell_type": "markdown",
   "metadata": {
    "papermill": {
     "duration": 0.072326,
     "end_time": "2021-01-06T13:18:23.200013",
     "exception": false,
     "start_time": "2021-01-06T13:18:23.127687",
     "status": "completed"
    },
    "tags": []
   },
   "source": [
    "## Testing"
   ]
  },
  {
   "cell_type": "code",
   "execution_count": 28,
   "metadata": {
    "execution": {
     "iopub.execute_input": "2021-01-06T13:18:23.345896Z",
     "iopub.status.busy": "2021-01-06T13:18:23.345520Z",
     "iopub.status.idle": "2021-01-06T13:18:23.357643Z",
     "shell.execute_reply": "2021-01-06T13:18:23.357258Z"
    },
    "papermill": {
     "duration": 0.086219,
     "end_time": "2021-01-06T13:18:23.357732",
     "exception": false,
     "start_time": "2021-01-06T13:18:23.271513",
     "status": "completed"
    },
    "tags": []
   },
   "outputs": [],
   "source": [
    "assert ensemble_stats[\"min\"] > 1"
   ]
  },
  {
   "cell_type": "code",
   "execution_count": 29,
   "metadata": {
    "execution": {
     "iopub.execute_input": "2021-01-06T13:18:23.504511Z",
     "iopub.status.busy": "2021-01-06T13:18:23.504144Z",
     "iopub.status.idle": "2021-01-06T13:18:23.516625Z",
     "shell.execute_reply": "2021-01-06T13:18:23.516250Z"
    },
    "papermill": {
     "duration": 0.086922,
     "end_time": "2021-01-06T13:18:23.516766",
     "exception": false,
     "start_time": "2021-01-06T13:18:23.429844",
     "status": "completed"
    },
    "tags": []
   },
   "outputs": [],
   "source": [
    "assert not ensemble[\"n_clusters\"].isna().any()"
   ]
  },
  {
   "cell_type": "code",
   "execution_count": 30,
   "metadata": {
    "execution": {
     "iopub.execute_input": "2021-01-06T13:18:23.665635Z",
     "iopub.status.busy": "2021-01-06T13:18:23.665266Z",
     "iopub.status.idle": "2021-01-06T13:18:23.677211Z",
     "shell.execute_reply": "2021-01-06T13:18:23.676847Z"
    },
    "papermill": {
     "duration": 0.086172,
     "end_time": "2021-01-06T13:18:23.677297",
     "exception": false,
     "start_time": "2021-01-06T13:18:23.591125",
     "status": "completed"
    },
    "tags": []
   },
   "outputs": [],
   "source": [
    "assert ensemble.shape[0] == len(CLUSTERERS)"
   ]
  },
  {
   "cell_type": "code",
   "execution_count": 31,
   "metadata": {
    "execution": {
     "iopub.execute_input": "2021-01-06T13:18:23.824878Z",
     "iopub.status.busy": "2021-01-06T13:18:23.824455Z",
     "iopub.status.idle": "2021-01-06T13:18:23.853352Z",
     "shell.execute_reply": "2021-01-06T13:18:23.853637Z"
    },
    "papermill": {
     "duration": 0.103686,
     "end_time": "2021-01-06T13:18:23.853747",
     "exception": false,
     "start_time": "2021-01-06T13:18:23.750061",
     "status": "completed"
    },
    "tags": []
   },
   "outputs": [],
   "source": [
    "# all partitions have the right size\n",
    "assert np.all(\n",
    "    [part[\"partition\"].shape[0] == data.shape[0] for idx, part in ensemble.iterrows()]\n",
    ")"
   ]
  },
  {
   "cell_type": "code",
   "execution_count": 32,
   "metadata": {
    "execution": {
     "iopub.execute_input": "2021-01-06T13:18:24.005189Z",
     "iopub.status.busy": "2021-01-06T13:18:24.004794Z",
     "iopub.status.idle": "2021-01-06T13:18:24.036543Z",
     "shell.execute_reply": "2021-01-06T13:18:24.036172Z"
    },
    "papermill": {
     "duration": 0.110053,
     "end_time": "2021-01-06T13:18:24.036628",
     "exception": false,
     "start_time": "2021-01-06T13:18:23.926575",
     "status": "completed"
    },
    "tags": []
   },
   "outputs": [],
   "source": [
    "# no partition has negative clusters (noisy points)\n",
    "assert not np.any([(part[\"partition\"] < 0).any() for idx, part in ensemble.iterrows()])"
   ]
  },
  {
   "cell_type": "markdown",
   "metadata": {
    "tags": []
   },
   "source": [
    "## Add clustering quality measures"
   ]
  },
  {
   "cell_type": "code",
   "execution_count": null,
   "metadata": {},
   "outputs": [],
   "source": [
    "from sklearn.metrics import calinski_harabasz_score"
   ]
  },
  {
   "cell_type": "code",
   "execution_count": null,
   "metadata": {
    "tags": []
   },
   "outputs": [],
   "source": [
    "ensemble = ensemble.assign(\n",
    "    ch_score=ensemble[\"partition\"].apply(lambda x: calinski_harabasz_score(data, x))\n",
    ")"
   ]
  },
  {
   "cell_type": "code",
   "execution_count": null,
   "metadata": {
    "tags": []
   },
   "outputs": [],
   "source": [
    "ensemble.shape"
   ]
  },
  {
   "cell_type": "code",
   "execution_count": null,
   "metadata": {
    "tags": []
   },
   "outputs": [],
   "source": [
    "ensemble.head()"
   ]
  },
  {
   "cell_type": "markdown",
   "metadata": {
    "papermill": {
     "duration": 0.071948,
     "end_time": "2021-01-06T13:18:24.180324",
     "exception": false,
     "start_time": "2021-01-06T13:18:24.108376",
     "status": "completed"
    },
    "tags": []
   },
   "source": [
    "## Save"
   ]
  },
  {
   "cell_type": "code",
   "execution_count": 33,
   "metadata": {
    "execution": {
     "iopub.execute_input": "2021-01-06T13:18:24.326537Z",
     "iopub.status.busy": "2021-01-06T13:18:24.326154Z",
     "iopub.status.idle": "2021-01-06T13:18:24.339239Z",
     "shell.execute_reply": "2021-01-06T13:18:24.338874Z"
    },
    "papermill": {
     "duration": 0.087097,
     "end_time": "2021-01-06T13:18:24.339326",
     "exception": false,
     "start_time": "2021-01-06T13:18:24.252229",
     "status": "completed"
    },
    "tags": []
   },
   "outputs": [
    {
     "data": {
      "text/plain": [
       "PosixPath('/home/miltondp/projects/labs/greenelab/phenoplier/base3/results/clustering/runs/umap-z_score_std-projection-smultixcan-efo_partial-mashr-zscores/GaussianMixture-COVARIANCE_TYPE_full-K_MAX_60-K_MIN_2-N_INIT_10-N_REPS_PER_K_5.pkl')"
      ]
     },
     "metadata": {},
     "output_type": "display_data"
    }
   ],
   "source": [
    "output_filename = Path(\n",
    "    RESULTS_DIR,\n",
    "    generate_result_set_name(\n",
    "        CLUSTERING_OPTIONS,\n",
    "        prefix=f\"{clustering_method_name}-\",\n",
    "        suffix=\".pkl\",\n",
    "    ),\n",
    ").resolve()\n",
    "display(output_filename)"
   ]
  },
  {
   "cell_type": "code",
   "execution_count": 34,
   "metadata": {
    "execution": {
     "iopub.execute_input": "2021-01-06T13:18:24.486574Z",
     "iopub.status.busy": "2021-01-06T13:18:24.486196Z",
     "iopub.status.idle": "2021-01-06T13:18:24.508249Z",
     "shell.execute_reply": "2021-01-06T13:18:24.508553Z"
    },
    "papermill": {
     "duration": 0.096482,
     "end_time": "2021-01-06T13:18:24.508669",
     "exception": false,
     "start_time": "2021-01-06T13:18:24.412187",
     "status": "completed"
    },
    "tags": []
   },
   "outputs": [],
   "source": [
    "ensemble.to_pickle(output_filename)"
   ]
  },
  {
   "cell_type": "markdown",
   "metadata": {
    "tags": []
   },
   "source": [
    "# Cluster quality"
   ]
  },
  {
   "cell_type": "code",
   "execution_count": null,
   "metadata": {
    "tags": []
   },
   "outputs": [],
   "source": [
    "with pd.option_context(\"display.max_rows\", None, \"display.max_columns\", None):\n",
    "    _df = ensemble.groupby([\"n_clusters\"]).mean()\n",
    "    display(_df)"
   ]
  },
  {
   "cell_type": "code",
   "execution_count": null,
   "metadata": {
    "tags": []
   },
   "outputs": [],
   "source": [
    "with sns.plotting_context(\"talk\", font_scale=0.75), sns.axes_style(\n",
    "    \"whitegrid\", {\"grid.linestyle\": \"--\"}\n",
    "):\n",
    "    fig = plt.figure(figsize=(14, 6))\n",
    "    ax = sns.pointplot(data=ensemble, x=\"n_clusters\", y=\"ch_score\")\n",
    "    ax.set_ylabel(\"Calinski-Harabasz index\")\n",
    "    ax.set_xlabel(\"Number of clusters ($k$)\")\n",
    "    ax.set_xticklabels(ax.get_xticklabels(), rotation=45)\n",
    "    plt.grid(True)\n",
    "    plt.tight_layout()"
   ]
  },
  {
   "cell_type": "markdown",
   "metadata": {
    "papermill": {
     "duration": 0.071556,
     "end_time": "2021-01-06T13:18:24.653671",
     "exception": false,
     "start_time": "2021-01-06T13:18:24.582115",
     "status": "completed"
    },
    "tags": []
   },
   "source": [
    "# Stability"
   ]
  },
  {
   "cell_type": "markdown",
   "metadata": {
    "papermill": {
     "duration": 0.071251,
     "end_time": "2021-01-06T13:18:24.796576",
     "exception": false,
     "start_time": "2021-01-06T13:18:24.725325",
     "status": "completed"
    },
    "tags": []
   },
   "source": [
    "## Group ensemble by n_clusters"
   ]
  },
  {
   "cell_type": "code",
   "execution_count": 35,
   "metadata": {
    "execution": {
     "iopub.execute_input": "2021-01-06T13:18:24.945048Z",
     "iopub.status.busy": "2021-01-06T13:18:24.944627Z",
     "iopub.status.idle": "2021-01-06T13:18:24.973246Z",
     "shell.execute_reply": "2021-01-06T13:18:24.972907Z"
    },
    "papermill": {
     "duration": 0.105288,
     "end_time": "2021-01-06T13:18:24.973337",
     "exception": false,
     "start_time": "2021-01-06T13:18:24.868049",
     "status": "completed"
    },
    "tags": []
   },
   "outputs": [],
   "source": [
    "parts = ensemble.groupby(\"n_clusters\").apply(\n",
    "    lambda x: np.concatenate(x[\"partition\"].apply(lambda x: x.reshape(1, -1)), axis=0)\n",
    ")"
   ]
  },
  {
   "cell_type": "code",
   "execution_count": 36,
   "metadata": {
    "execution": {
     "iopub.execute_input": "2021-01-06T13:18:25.120162Z",
     "iopub.status.busy": "2021-01-06T13:18:25.119795Z",
     "iopub.status.idle": "2021-01-06T13:18:25.143527Z",
     "shell.execute_reply": "2021-01-06T13:18:25.143154Z"
    },
    "papermill": {
     "duration": 0.097534,
     "end_time": "2021-01-06T13:18:25.143611",
     "exception": false,
     "start_time": "2021-01-06T13:18:25.046077",
     "status": "completed"
    },
    "tags": []
   },
   "outputs": [
    {
     "data": {
      "text/plain": [
       "n_clusters\n",
       "2    [[0.0, 0.0, 0.0, 0.0, 0.0, 0.0, 0.0, 0.0, 0.0,...\n",
       "3    [[1.0, 1.0, 1.0, 1.0, 1.0, 1.0, 1.0, 1.0, 1.0,...\n",
       "4    [[3.0, 3.0, 3.0, 3.0, 3.0, 3.0, 3.0, 3.0, 3.0,...\n",
       "5    [[0.0, 0.0, 0.0, 0.0, 0.0, 0.0, 0.0, 0.0, 0.0,...\n",
       "6    [[5.0, 5.0, 5.0, 5.0, 5.0, 5.0, 5.0, 5.0, 5.0,...\n",
       "dtype: object"
      ]
     },
     "execution_count": 36,
     "metadata": {},
     "output_type": "execute_result"
    }
   ],
   "source": [
    "parts.head()"
   ]
  },
  {
   "cell_type": "code",
   "execution_count": 37,
   "metadata": {
    "execution": {
     "iopub.execute_input": "2021-01-06T13:18:25.293472Z",
     "iopub.status.busy": "2021-01-06T13:18:25.293100Z",
     "iopub.status.idle": "2021-01-06T13:18:25.305763Z",
     "shell.execute_reply": "2021-01-06T13:18:25.305373Z"
    },
    "papermill": {
     "duration": 0.088903,
     "end_time": "2021-01-06T13:18:25.305854",
     "exception": false,
     "start_time": "2021-01-06T13:18:25.216951",
     "status": "completed"
    },
    "tags": []
   },
   "outputs": [],
   "source": [
    "assert np.all(\n",
    "    [\n",
    "        parts.loc[k].shape == (CLUSTERING_OPTIONS[\"N_REPS_PER_K\"], data.shape[0])\n",
    "        for k in parts.index\n",
    "    ]\n",
    ")"
   ]
  },
  {
   "cell_type": "markdown",
   "metadata": {
    "papermill": {
     "duration": 0.072054,
     "end_time": "2021-01-06T13:18:25.450766",
     "exception": false,
     "start_time": "2021-01-06T13:18:25.378712",
     "status": "completed"
    },
    "tags": []
   },
   "source": [
    "## Compute stability"
   ]
  },
  {
   "cell_type": "code",
   "execution_count": 38,
   "metadata": {
    "execution": {
     "iopub.execute_input": "2021-01-06T13:18:25.600053Z",
     "iopub.status.busy": "2021-01-06T13:18:25.599688Z",
     "iopub.status.idle": "2021-01-06T13:18:25.611457Z",
     "shell.execute_reply": "2021-01-06T13:18:25.611076Z"
    },
    "papermill": {
     "duration": 0.08819,
     "end_time": "2021-01-06T13:18:25.611546",
     "exception": false,
     "start_time": "2021-01-06T13:18:25.523356",
     "status": "completed"
    },
    "tags": []
   },
   "outputs": [],
   "source": [
    "from sklearn.metrics import adjusted_rand_score as ari\n",
    "from scipy.spatial.distance import pdist"
   ]
  },
  {
   "cell_type": "code",
   "execution_count": 39,
   "metadata": {
    "execution": {
     "iopub.execute_input": "2021-01-06T13:18:25.760115Z",
     "iopub.status.busy": "2021-01-06T13:18:25.759729Z",
     "iopub.status.idle": "2021-01-06T13:18:26.462238Z",
     "shell.execute_reply": "2021-01-06T13:18:26.461855Z"
    },
    "papermill": {
     "duration": 0.777478,
     "end_time": "2021-01-06T13:18:26.462326",
     "exception": false,
     "start_time": "2021-01-06T13:18:25.684848",
     "status": "completed"
    },
    "tags": []
   },
   "outputs": [],
   "source": [
    "parts_ari = pd.Series(\n",
    "    {k: pdist(parts.loc[k], metric=ari) for k in parts.index}, name=\"k\"\n",
    ")"
   ]
  },
  {
   "cell_type": "code",
   "execution_count": 40,
   "metadata": {
    "execution": {
     "iopub.execute_input": "2021-01-06T13:18:26.610334Z",
     "iopub.status.busy": "2021-01-06T13:18:26.609965Z",
     "iopub.status.idle": "2021-01-06T13:18:26.623784Z",
     "shell.execute_reply": "2021-01-06T13:18:26.623404Z"
    },
    "papermill": {
     "duration": 0.089363,
     "end_time": "2021-01-06T13:18:26.623873",
     "exception": false,
     "start_time": "2021-01-06T13:18:26.534510",
     "status": "completed"
    },
    "tags": []
   },
   "outputs": [
    {
     "data": {
      "text/plain": [
       "2     1.000000\n",
       "3     1.000000\n",
       "4     0.675581\n",
       "9     0.504749\n",
       "57    0.496233\n",
       "58    0.491369\n",
       "49    0.487037\n",
       "56    0.483208\n",
       "53    0.479402\n",
       "60    0.463773\n",
       "46    0.460922\n",
       "24    0.460238\n",
       "52    0.459956\n",
       "59    0.459476\n",
       "48    0.455282\n",
       "Name: k, dtype: float64"
      ]
     },
     "metadata": {},
     "output_type": "display_data"
    }
   ],
   "source": [
    "parts_ari_stability = parts_ari.apply(lambda x: x.mean())\n",
    "display(parts_ari_stability.sort_values(ascending=False).head(15))"
   ]
  },
  {
   "cell_type": "code",
   "execution_count": 41,
   "metadata": {
    "execution": {
     "iopub.execute_input": "2021-01-06T13:18:26.772920Z",
     "iopub.status.busy": "2021-01-06T13:18:26.772510Z",
     "iopub.status.idle": "2021-01-06T13:18:26.785368Z",
     "shell.execute_reply": "2021-01-06T13:18:26.785668Z"
    },
    "papermill": {
     "duration": 0.088936,
     "end_time": "2021-01-06T13:18:26.785782",
     "exception": false,
     "start_time": "2021-01-06T13:18:26.696846",
     "status": "completed"
    },
    "tags": []
   },
   "outputs": [],
   "source": [
    "parts_ari_df = pd.DataFrame.from_records(parts_ari.tolist()).set_index(\n",
    "    parts_ari.index.copy()\n",
    ")"
   ]
  },
  {
   "cell_type": "code",
   "execution_count": 42,
   "metadata": {
    "execution": {
     "iopub.execute_input": "2021-01-06T13:18:26.934679Z",
     "iopub.status.busy": "2021-01-06T13:18:26.934309Z",
     "iopub.status.idle": "2021-01-06T13:18:26.949014Z",
     "shell.execute_reply": "2021-01-06T13:18:26.948645Z"
    },
    "papermill": {
     "duration": 0.089016,
     "end_time": "2021-01-06T13:18:26.949109",
     "exception": false,
     "start_time": "2021-01-06T13:18:26.860093",
     "status": "completed"
    },
    "tags": []
   },
   "outputs": [
    {
     "data": {
      "text/plain": [
       "(59, 10)"
      ]
     },
     "execution_count": 42,
     "metadata": {},
     "output_type": "execute_result"
    }
   ],
   "source": [
    "parts_ari_df.shape"
   ]
  },
  {
   "cell_type": "code",
   "execution_count": 43,
   "metadata": {
    "execution": {
     "iopub.execute_input": "2021-01-06T13:18:27.100565Z",
     "iopub.status.busy": "2021-01-06T13:18:27.100194Z",
     "iopub.status.idle": "2021-01-06T13:18:27.112300Z",
     "shell.execute_reply": "2021-01-06T13:18:27.111938Z"
    },
    "papermill": {
     "duration": 0.087394,
     "end_time": "2021-01-06T13:18:27.112386",
     "exception": false,
     "start_time": "2021-01-06T13:18:27.024992",
     "status": "completed"
    },
    "tags": []
   },
   "outputs": [],
   "source": [
    "assert (\n",
    "    int(\n",
    "        (CLUSTERING_OPTIONS[\"N_REPS_PER_K\"] * (CLUSTERING_OPTIONS[\"N_REPS_PER_K\"] - 1))\n",
    "        / 2\n",
    "    )\n",
    "    == parts_ari_df.shape[1]\n",
    ")"
   ]
  },
  {
   "cell_type": "code",
   "execution_count": 44,
   "metadata": {
    "execution": {
     "iopub.execute_input": "2021-01-06T13:18:27.260548Z",
     "iopub.status.busy": "2021-01-06T13:18:27.260172Z",
     "iopub.status.idle": "2021-01-06T13:18:27.278509Z",
     "shell.execute_reply": "2021-01-06T13:18:27.278133Z"
    },
    "papermill": {
     "duration": 0.093408,
     "end_time": "2021-01-06T13:18:27.278597",
     "exception": false,
     "start_time": "2021-01-06T13:18:27.185189",
     "status": "completed"
    },
    "tags": []
   },
   "outputs": [
    {
     "data": {
      "text/html": [
       "<div>\n",
       "<style scoped>\n",
       "    .dataframe tbody tr th:only-of-type {\n",
       "        vertical-align: middle;\n",
       "    }\n",
       "\n",
       "    .dataframe tbody tr th {\n",
       "        vertical-align: top;\n",
       "    }\n",
       "\n",
       "    .dataframe thead th {\n",
       "        text-align: right;\n",
       "    }\n",
       "</style>\n",
       "<table border=\"1\" class=\"dataframe\">\n",
       "  <thead>\n",
       "    <tr style=\"text-align: right;\">\n",
       "      <th></th>\n",
       "      <th>0</th>\n",
       "      <th>1</th>\n",
       "      <th>2</th>\n",
       "      <th>3</th>\n",
       "      <th>4</th>\n",
       "      <th>5</th>\n",
       "      <th>6</th>\n",
       "      <th>7</th>\n",
       "      <th>8</th>\n",
       "      <th>9</th>\n",
       "    </tr>\n",
       "  </thead>\n",
       "  <tbody>\n",
       "    <tr>\n",
       "      <th>2</th>\n",
       "      <td>1.000000</td>\n",
       "      <td>1.000000</td>\n",
       "      <td>1.000000</td>\n",
       "      <td>1.000000</td>\n",
       "      <td>1.000000</td>\n",
       "      <td>1.000000</td>\n",
       "      <td>1.000000</td>\n",
       "      <td>1.000000</td>\n",
       "      <td>1.000000</td>\n",
       "      <td>1.000000</td>\n",
       "    </tr>\n",
       "    <tr>\n",
       "      <th>3</th>\n",
       "      <td>1.000000</td>\n",
       "      <td>1.000000</td>\n",
       "      <td>1.000000</td>\n",
       "      <td>1.000000</td>\n",
       "      <td>1.000000</td>\n",
       "      <td>1.000000</td>\n",
       "      <td>1.000000</td>\n",
       "      <td>1.000000</td>\n",
       "      <td>1.000000</td>\n",
       "      <td>1.000000</td>\n",
       "    </tr>\n",
       "    <tr>\n",
       "      <th>4</th>\n",
       "      <td>0.917962</td>\n",
       "      <td>0.481133</td>\n",
       "      <td>0.481133</td>\n",
       "      <td>0.481133</td>\n",
       "      <td>0.464816</td>\n",
       "      <td>0.464816</td>\n",
       "      <td>0.464816</td>\n",
       "      <td>1.000000</td>\n",
       "      <td>1.000000</td>\n",
       "      <td>1.000000</td>\n",
       "    </tr>\n",
       "    <tr>\n",
       "      <th>5</th>\n",
       "      <td>0.360144</td>\n",
       "      <td>0.338065</td>\n",
       "      <td>0.393219</td>\n",
       "      <td>0.774634</td>\n",
       "      <td>0.623512</td>\n",
       "      <td>0.444259</td>\n",
       "      <td>0.416145</td>\n",
       "      <td>0.351447</td>\n",
       "      <td>0.379220</td>\n",
       "      <td>0.427831</td>\n",
       "    </tr>\n",
       "    <tr>\n",
       "      <th>6</th>\n",
       "      <td>0.410096</td>\n",
       "      <td>0.341536</td>\n",
       "      <td>0.410132</td>\n",
       "      <td>0.277000</td>\n",
       "      <td>0.201221</td>\n",
       "      <td>0.369117</td>\n",
       "      <td>0.328628</td>\n",
       "      <td>0.206127</td>\n",
       "      <td>0.389345</td>\n",
       "      <td>0.315021</td>\n",
       "    </tr>\n",
       "  </tbody>\n",
       "</table>\n",
       "</div>"
      ],
      "text/plain": [
       "          0         1         2         3         4         5         6  \\\n",
       "2  1.000000  1.000000  1.000000  1.000000  1.000000  1.000000  1.000000   \n",
       "3  1.000000  1.000000  1.000000  1.000000  1.000000  1.000000  1.000000   \n",
       "4  0.917962  0.481133  0.481133  0.481133  0.464816  0.464816  0.464816   \n",
       "5  0.360144  0.338065  0.393219  0.774634  0.623512  0.444259  0.416145   \n",
       "6  0.410096  0.341536  0.410132  0.277000  0.201221  0.369117  0.328628   \n",
       "\n",
       "          7         8         9  \n",
       "2  1.000000  1.000000  1.000000  \n",
       "3  1.000000  1.000000  1.000000  \n",
       "4  1.000000  1.000000  1.000000  \n",
       "5  0.351447  0.379220  0.427831  \n",
       "6  0.206127  0.389345  0.315021  "
      ]
     },
     "execution_count": 44,
     "metadata": {},
     "output_type": "execute_result"
    }
   ],
   "source": [
    "parts_ari_df.head()"
   ]
  },
  {
   "cell_type": "markdown",
   "metadata": {
    "papermill": {
     "duration": 0.073016,
     "end_time": "2021-01-06T13:18:27.425974",
     "exception": false,
     "start_time": "2021-01-06T13:18:27.352958",
     "status": "completed"
    },
    "tags": []
   },
   "source": [
    "## Save"
   ]
  },
  {
   "cell_type": "code",
   "execution_count": 45,
   "metadata": {
    "execution": {
     "iopub.execute_input": "2021-01-06T13:18:27.577640Z",
     "iopub.status.busy": "2021-01-06T13:18:27.577263Z",
     "iopub.status.idle": "2021-01-06T13:18:27.590748Z",
     "shell.execute_reply": "2021-01-06T13:18:27.590273Z"
    },
    "papermill": {
     "duration": 0.091261,
     "end_time": "2021-01-06T13:18:27.590845",
     "exception": false,
     "start_time": "2021-01-06T13:18:27.499584",
     "status": "completed"
    },
    "tags": []
   },
   "outputs": [
    {
     "data": {
      "text/plain": [
       "PosixPath('/home/miltondp/projects/labs/greenelab/phenoplier/base3/results/clustering/runs/umap-z_score_std-projection-smultixcan-efo_partial-mashr-zscores/GaussianMixture-stability-COVARIANCE_TYPE_full-K_MAX_60-K_MIN_2-N_INIT_10-N_REPS_PER_K_5.pkl')"
      ]
     },
     "metadata": {},
     "output_type": "display_data"
    }
   ],
   "source": [
    "output_filename = Path(\n",
    "    RESULTS_DIR,\n",
    "    generate_result_set_name(\n",
    "        CLUSTERING_OPTIONS,\n",
    "        prefix=f\"{clustering_method_name}-stability-\",\n",
    "        suffix=\".pkl\",\n",
    "    ),\n",
    ").resolve()\n",
    "display(output_filename)"
   ]
  },
  {
   "cell_type": "code",
   "execution_count": 46,
   "metadata": {
    "execution": {
     "iopub.execute_input": "2021-01-06T13:18:27.744719Z",
     "iopub.status.busy": "2021-01-06T13:18:27.744301Z",
     "iopub.status.idle": "2021-01-06T13:18:27.756800Z",
     "shell.execute_reply": "2021-01-06T13:18:27.756313Z"
    },
    "papermill": {
     "duration": 0.090156,
     "end_time": "2021-01-06T13:18:27.756894",
     "exception": false,
     "start_time": "2021-01-06T13:18:27.666738",
     "status": "completed"
    },
    "tags": []
   },
   "outputs": [],
   "source": [
    "parts_ari_df.to_pickle(output_filename)"
   ]
  },
  {
   "cell_type": "markdown",
   "metadata": {
    "papermill": {
     "duration": 0.073719,
     "end_time": "2021-01-06T13:18:27.905531",
     "exception": false,
     "start_time": "2021-01-06T13:18:27.831812",
     "status": "completed"
    },
    "tags": []
   },
   "source": [
    "## Stability plot"
   ]
  },
  {
   "cell_type": "code",
   "execution_count": 47,
   "metadata": {
    "execution": {
     "iopub.execute_input": "2021-01-06T13:18:28.059128Z",
     "iopub.status.busy": "2021-01-06T13:18:28.058748Z",
     "iopub.status.idle": "2021-01-06T13:18:28.072111Z",
     "shell.execute_reply": "2021-01-06T13:18:28.072418Z"
    },
    "papermill": {
     "duration": 0.090629,
     "end_time": "2021-01-06T13:18:28.072530",
     "exception": false,
     "start_time": "2021-01-06T13:18:27.981901",
     "status": "completed"
    },
    "tags": []
   },
   "outputs": [],
   "source": [
    "parts_ari_df_plot = (\n",
    "    parts_ari_df.stack()\n",
    "    .reset_index()\n",
    "    .rename(columns={\"level_0\": \"k\", \"level_1\": \"idx\", 0: \"ari\"})\n",
    ")"
   ]
  },
  {
   "cell_type": "code",
   "execution_count": 48,
   "metadata": {
    "execution": {
     "iopub.execute_input": "2021-01-06T13:18:28.225387Z",
     "iopub.status.busy": "2021-01-06T13:18:28.225022Z",
     "iopub.status.idle": "2021-01-06T13:18:28.238187Z",
     "shell.execute_reply": "2021-01-06T13:18:28.238475Z"
    },
    "papermill": {
     "duration": 0.090449,
     "end_time": "2021-01-06T13:18:28.238587",
     "exception": false,
     "start_time": "2021-01-06T13:18:28.148138",
     "status": "completed"
    },
    "tags": []
   },
   "outputs": [
    {
     "data": {
      "text/plain": [
       "k        int64\n",
       "idx      int64\n",
       "ari    float64\n",
       "dtype: object"
      ]
     },
     "execution_count": 48,
     "metadata": {},
     "output_type": "execute_result"
    }
   ],
   "source": [
    "parts_ari_df_plot.dtypes"
   ]
  },
  {
   "cell_type": "code",
   "execution_count": 49,
   "metadata": {
    "execution": {
     "iopub.execute_input": "2021-01-06T13:18:28.390614Z",
     "iopub.status.busy": "2021-01-06T13:18:28.390221Z",
     "iopub.status.idle": "2021-01-06T13:18:28.404855Z",
     "shell.execute_reply": "2021-01-06T13:18:28.405183Z"
    },
    "papermill": {
     "duration": 0.091456,
     "end_time": "2021-01-06T13:18:28.405291",
     "exception": false,
     "start_time": "2021-01-06T13:18:28.313835",
     "status": "completed"
    },
    "tags": []
   },
   "outputs": [
    {
     "data": {
      "text/html": [
       "<div>\n",
       "<style scoped>\n",
       "    .dataframe tbody tr th:only-of-type {\n",
       "        vertical-align: middle;\n",
       "    }\n",
       "\n",
       "    .dataframe tbody tr th {\n",
       "        vertical-align: top;\n",
       "    }\n",
       "\n",
       "    .dataframe thead th {\n",
       "        text-align: right;\n",
       "    }\n",
       "</style>\n",
       "<table border=\"1\" class=\"dataframe\">\n",
       "  <thead>\n",
       "    <tr style=\"text-align: right;\">\n",
       "      <th></th>\n",
       "      <th>k</th>\n",
       "      <th>idx</th>\n",
       "      <th>ari</th>\n",
       "    </tr>\n",
       "  </thead>\n",
       "  <tbody>\n",
       "    <tr>\n",
       "      <th>0</th>\n",
       "      <td>2</td>\n",
       "      <td>0</td>\n",
       "      <td>1.0</td>\n",
       "    </tr>\n",
       "    <tr>\n",
       "      <th>1</th>\n",
       "      <td>2</td>\n",
       "      <td>1</td>\n",
       "      <td>1.0</td>\n",
       "    </tr>\n",
       "    <tr>\n",
       "      <th>2</th>\n",
       "      <td>2</td>\n",
       "      <td>2</td>\n",
       "      <td>1.0</td>\n",
       "    </tr>\n",
       "    <tr>\n",
       "      <th>3</th>\n",
       "      <td>2</td>\n",
       "      <td>3</td>\n",
       "      <td>1.0</td>\n",
       "    </tr>\n",
       "    <tr>\n",
       "      <th>4</th>\n",
       "      <td>2</td>\n",
       "      <td>4</td>\n",
       "      <td>1.0</td>\n",
       "    </tr>\n",
       "  </tbody>\n",
       "</table>\n",
       "</div>"
      ],
      "text/plain": [
       "   k  idx  ari\n",
       "0  2    0  1.0\n",
       "1  2    1  1.0\n",
       "2  2    2  1.0\n",
       "3  2    3  1.0\n",
       "4  2    4  1.0"
      ]
     },
     "execution_count": 49,
     "metadata": {},
     "output_type": "execute_result"
    }
   ],
   "source": [
    "parts_ari_df_plot.head()"
   ]
  },
  {
   "cell_type": "code",
   "execution_count": 50,
   "metadata": {
    "execution": {
     "iopub.execute_input": "2021-01-06T13:18:28.556281Z",
     "iopub.status.busy": "2021-01-06T13:18:28.555909Z",
     "iopub.status.idle": "2021-01-06T13:18:31.425559Z",
     "shell.execute_reply": "2021-01-06T13:18:31.425862Z"
    },
    "papermill": {
     "duration": 2.946716,
     "end_time": "2021-01-06T13:18:31.425972",
     "exception": false,
     "start_time": "2021-01-06T13:18:28.479256",
     "status": "completed"
    },
    "tags": []
   },
   "outputs": [
    {
     "data": {
      "image/png": "[encoded data removed]",
      "text/plain": [
       "<Figure size 864x432 with 1 Axes>"
      ]
     },
     "metadata": {},
     "output_type": "display_data"
    }
   ],
   "source": [
    "# with sns.axes_style('whitegrid', {'grid.linestyle': '--'}):\n",
    "with sns.plotting_context(\"talk\", font_scale=0.75), sns.axes_style(\n",
    "    \"whitegrid\", {\"grid.linestyle\": \"--\"}\n",
    "):\n",
    "    fig = plt.figure(figsize=(14, 6))\n",
    "    ax = sns.pointplot(data=parts_ari_df_plot, x=\"k\", y=\"ari\")\n",
    "    ax.set_ylabel(\"Averange ARI\")\n",
    "    ax.set_xlabel(\"Number of clusters ($k$)\")\n",
    "    ax.set_xticklabels(ax.get_xticklabels(), rotation=45)\n",
    "    #     ax.set_ylim(0.0, 1.0)\n",
    "    #     ax.set_xlim(CLUSTERING_OPTIONS['K_MIN'], CLUSTERING_OPTIONS['K_MAX'])\n",
    "    plt.grid(True)\n",
    "    plt.tight_layout()"
   ]
  },
  {
   "cell_type": "code",
   "execution_count": null,
   "metadata": {
    "papermill": {
     "duration": 0.076358,
     "end_time": "2021-01-06T13:18:31.577809",
     "exception": false,
     "start_time": "2021-01-06T13:18:31.501451",
     "status": "completed"
    },
    "tags": []
   },
   "outputs": [],
   "source": []
  }
 ],
 "metadata": {
  "jupytext": {
   "cell_metadata_filter": "all,-execution,-papermill",
   "formats": "ipynb,py//py:percent"
  },
  "kernelspec": {
   "display_name": "Python 3",
   "language": "python",
   "name": "python3"
  },
  "language_info": {
   "codemirror_mode": {
    "name": "ipython",
    "version": 3
   },
   "file_extension": ".py",
   "mimetype": "text/x-python",
   "name": "python",
   "nbconvert_exporter": "python",
   "pygments_lexer": "ipython3",
   "version": "3.8.6"
  },
  "papermill": {
   "default_parameters": {},
   "duration": 3037.547264,
   "end_time": "2021-01-06T13:18:32.160749",
   "environment_variables": {},
   "exception": null,
   "input_path": "15_cluster_analysis/004_02-gmm-umap.ipynb",
   "output_path": "15_cluster_analysis/004_02-gmm-umap.run.ipynb",
   "parameters": {},
   "start_time": "2021-01-06T12:27:54.613485",
   "version": "2.2.2"
  },
  "toc-autonumbering": true,
  "toc-showcode": false,
  "toc-showmarkdowntxt": false,
  "toc-showtags": false
 },
 "nbformat": 4,
 "nbformat_minor": 4
}
