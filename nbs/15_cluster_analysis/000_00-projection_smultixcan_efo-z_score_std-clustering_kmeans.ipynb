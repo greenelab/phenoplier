{
 "cells": [
  {
   "cell_type": "markdown",
   "metadata": {
    "papermill": {
     "duration": 0.05426,
     "end_time": "2020-12-02T18:22:01.689838",
     "exception": false,
     "start_time": "2020-12-02T18:22:01.635578",
     "status": "completed"
    },
    "tags": []
   },
   "source": [
    "# Description"
   ]
  },
  {
   "cell_type": "markdown",
   "metadata": {
    "papermill": {
     "duration": 0.019601,
     "end_time": "2020-12-02T18:22:01.729822",
     "exception": false,
     "start_time": "2020-12-02T18:22:01.710221",
     "status": "completed"
    },
    "tags": []
   },
   "source": [
    "Runs k-means on the z_score_std version of the data."
   ]
  },
  {
   "cell_type": "markdown",
   "metadata": {
    "papermill": {
     "duration": 0.019576,
     "end_time": "2020-12-02T18:22:01.769044",
     "exception": false,
     "start_time": "2020-12-02T18:22:01.749468",
     "status": "completed"
    },
    "tags": []
   },
   "source": [
    "# Environment variables"
   ]
  },
  {
   "cell_type": "code",
   "execution_count": 1,
   "metadata": {
    "execution": {
     "iopub.execute_input": "2020-12-02T18:22:01.811654Z",
     "iopub.status.busy": "2020-12-02T18:22:01.811274Z",
     "iopub.status.idle": "2020-12-02T18:22:01.822539Z",
     "shell.execute_reply": "2020-12-02T18:22:01.822100Z"
    },
    "papermill": {
     "duration": 0.034031,
     "end_time": "2020-12-02T18:22:01.822660",
     "exception": false,
     "start_time": "2020-12-02T18:22:01.788629",
     "status": "completed"
    },
    "tags": []
   },
   "outputs": [
    {
     "data": {
      "text/plain": [
       "3"
      ]
     },
     "metadata": {},
     "output_type": "display_data"
    }
   ],
   "source": [
    "from IPython.display import display\n",
    "\n",
    "import conf\n",
    "\n",
    "N_JOBS = conf.GENERAL['N_JOBS']\n",
    "display(N_JOBS)"
   ]
  },
  {
   "cell_type": "code",
   "execution_count": 2,
   "metadata": {
    "execution": {
     "iopub.execute_input": "2020-12-02T18:22:01.868183Z",
     "iopub.status.busy": "2020-12-02T18:22:01.867772Z",
     "iopub.status.idle": "2020-12-02T18:22:01.870193Z",
     "shell.execute_reply": "2020-12-02T18:22:01.869825Z"
    },
    "papermill": {
     "duration": 0.026826,
     "end_time": "2020-12-02T18:22:01.870278",
     "exception": false,
     "start_time": "2020-12-02T18:22:01.843452",
     "status": "completed"
    },
    "tags": []
   },
   "outputs": [
    {
     "name": "stdout",
     "output_type": "stream",
     "text": [
      "env: MKL_NUM_THREADS=3\n",
      "env: OPEN_BLAS_NUM_THREADS=3\n",
      "env: NUMEXPR_NUM_THREADS=3\n",
      "env: OMP_NUM_THREADS=3\n"
     ]
    }
   ],
   "source": [
    "%env MKL_NUM_THREADS=$N_JOBS\n",
    "%env OPEN_BLAS_NUM_THREADS=$N_JOBS\n",
    "%env NUMEXPR_NUM_THREADS=$N_JOBS\n",
    "%env OMP_NUM_THREADS=$N_JOBS"
   ]
  },
  {
   "cell_type": "markdown",
   "metadata": {
    "papermill": {
     "duration": 0.020494,
     "end_time": "2020-12-02T18:22:01.911488",
     "exception": false,
     "start_time": "2020-12-02T18:22:01.890994",
     "status": "completed"
    },
    "tags": []
   },
   "source": [
    "# Modules loading"
   ]
  },
  {
   "cell_type": "code",
   "execution_count": 3,
   "metadata": {
    "execution": {
     "iopub.execute_input": "2020-12-02T18:22:01.954757Z",
     "iopub.status.busy": "2020-12-02T18:22:01.954374Z",
     "iopub.status.idle": "2020-12-02T18:22:01.962670Z",
     "shell.execute_reply": "2020-12-02T18:22:01.962330Z"
    },
    "papermill": {
     "duration": 0.031244,
     "end_time": "2020-12-02T18:22:01.962757",
     "exception": false,
     "start_time": "2020-12-02T18:22:01.931513",
     "status": "completed"
    },
    "tags": []
   },
   "outputs": [],
   "source": [
    "%load_ext autoreload\n",
    "%autoreload 2"
   ]
  },
  {
   "cell_type": "code",
   "execution_count": 4,
   "metadata": {
    "execution": {
     "iopub.execute_input": "2020-12-02T18:22:02.007238Z",
     "iopub.status.busy": "2020-12-02T18:22:02.006868Z",
     "iopub.status.idle": "2020-12-02T18:22:03.580222Z",
     "shell.execute_reply": "2020-12-02T18:22:03.579763Z"
    },
    "papermill": {
     "duration": 1.59627,
     "end_time": "2020-12-02T18:22:03.580325",
     "exception": false,
     "start_time": "2020-12-02T18:22:01.984055",
     "status": "completed"
    },
    "tags": []
   },
   "outputs": [],
   "source": [
    "from pathlib import Path\n",
    "\n",
    "import numpy as np\n",
    "import pandas as pd\n",
    "import umap\n",
    "import matplotlib.pyplot as plt\n",
    "import seaborn as sns\n",
    "\n",
    "from utils import generate_result_set_name"
   ]
  },
  {
   "cell_type": "markdown",
   "metadata": {
    "papermill": {
     "duration": 0.020613,
     "end_time": "2020-12-02T18:22:03.623273",
     "exception": false,
     "start_time": "2020-12-02T18:22:03.602660",
     "status": "completed"
    },
    "tags": []
   },
   "source": [
    "# Settings"
   ]
  },
  {
   "cell_type": "code",
   "execution_count": 5,
   "metadata": {
    "execution": {
     "iopub.execute_input": "2020-12-02T18:22:03.666474Z",
     "iopub.status.busy": "2020-12-02T18:22:03.666096Z",
     "iopub.status.idle": "2020-12-02T18:22:03.677948Z",
     "shell.execute_reply": "2020-12-02T18:22:03.677562Z"
    },
    "papermill": {
     "duration": 0.034119,
     "end_time": "2020-12-02T18:22:03.678037",
     "exception": false,
     "start_time": "2020-12-02T18:22:03.643918",
     "status": "completed"
    },
    "tags": []
   },
   "outputs": [],
   "source": [
    "INITIAL_RANDOM_STATE = 0"
   ]
  },
  {
   "cell_type": "markdown",
   "metadata": {
    "papermill": {
     "duration": 0.019944,
     "end_time": "2020-12-02T18:22:03.718423",
     "exception": false,
     "start_time": "2020-12-02T18:22:03.698479",
     "status": "completed"
    },
    "tags": []
   },
   "source": [
    "## Input data"
   ]
  },
  {
   "cell_type": "code",
   "execution_count": 6,
   "metadata": {
    "execution": {
     "iopub.execute_input": "2020-12-02T18:22:03.761382Z",
     "iopub.status.busy": "2020-12-02T18:22:03.761018Z",
     "iopub.status.idle": "2020-12-02T18:22:03.772791Z",
     "shell.execute_reply": "2020-12-02T18:22:03.772372Z"
    },
    "papermill": {
     "duration": 0.033993,
     "end_time": "2020-12-02T18:22:03.772878",
     "exception": false,
     "start_time": "2020-12-02T18:22:03.738885",
     "status": "completed"
    },
    "tags": []
   },
   "outputs": [],
   "source": [
    "INPUT_SUBSET = 'z_score_std'"
   ]
  },
  {
   "cell_type": "code",
   "execution_count": 7,
   "metadata": {
    "execution": {
     "iopub.execute_input": "2020-12-02T18:22:03.815888Z",
     "iopub.status.busy": "2020-12-02T18:22:03.815509Z",
     "iopub.status.idle": "2020-12-02T18:22:03.827086Z",
     "shell.execute_reply": "2020-12-02T18:22:03.826738Z"
    },
    "papermill": {
     "duration": 0.034256,
     "end_time": "2020-12-02T18:22:03.827176",
     "exception": false,
     "start_time": "2020-12-02T18:22:03.792920",
     "status": "completed"
    },
    "tags": []
   },
   "outputs": [],
   "source": [
    "INPUT_STEM = 'projection-smultixcan-efo_partial-mashr-zscores'"
   ]
  },
  {
   "cell_type": "code",
   "execution_count": 8,
   "metadata": {
    "execution": {
     "iopub.execute_input": "2020-12-02T18:22:03.871152Z",
     "iopub.status.busy": "2020-12-02T18:22:03.870781Z",
     "iopub.status.idle": "2020-12-02T18:22:03.884579Z",
     "shell.execute_reply": "2020-12-02T18:22:03.884215Z"
    },
    "papermill": {
     "duration": 0.036583,
     "end_time": "2020-12-02T18:22:03.884665",
     "exception": false,
     "start_time": "2020-12-02T18:22:03.848082",
     "status": "completed"
    },
    "tags": []
   },
   "outputs": [
    {
     "data": {
      "text/plain": [
       "PosixPath('/home/miltondp/projects/labs/greenelab/phenoplier/base/results/data_transformations/z_score_std/z_score_std-projection-smultixcan-efo_partial-mashr-zscores.pkl')"
      ]
     },
     "metadata": {},
     "output_type": "display_data"
    },
    {
     "data": {
      "text/plain": [
       "'z_score_std-projection-smultixcan-efo_partial-mashr-zscores'"
      ]
     },
     "metadata": {},
     "output_type": "display_data"
    }
   ],
   "source": [
    "input_filepath = Path(\n",
    "    conf.RESULTS[\"DATA_TRANSFORMATIONS_DIR\"],\n",
    "    INPUT_SUBSET,\n",
    "    f'{INPUT_SUBSET}-{INPUT_STEM}.pkl',\n",
    ").resolve()\n",
    "display(input_filepath)\n",
    "\n",
    "assert input_filepath.exists(), 'Input file does not exist'\n",
    "\n",
    "input_filepath_stem = input_filepath.stem\n",
    "display(input_filepath_stem)"
   ]
  },
  {
   "cell_type": "markdown",
   "metadata": {
    "papermill": {
     "duration": 0.020548,
     "end_time": "2020-12-02T18:22:03.925546",
     "exception": false,
     "start_time": "2020-12-02T18:22:03.904998",
     "status": "completed"
    },
    "tags": []
   },
   "source": [
    "## Clustering"
   ]
  },
  {
   "cell_type": "code",
   "execution_count": 9,
   "metadata": {
    "execution": {
     "iopub.execute_input": "2020-12-02T18:22:03.969376Z",
     "iopub.status.busy": "2020-12-02T18:22:03.968981Z",
     "iopub.status.idle": "2020-12-02T18:22:03.986428Z",
     "shell.execute_reply": "2020-12-02T18:22:03.986717Z"
    },
    "papermill": {
     "duration": 0.040655,
     "end_time": "2020-12-02T18:22:03.986832",
     "exception": false,
     "start_time": "2020-12-02T18:22:03.946177",
     "status": "completed"
    },
    "tags": []
   },
   "outputs": [],
   "source": [
    "from sklearn.cluster import KMeans"
   ]
  },
  {
   "cell_type": "code",
   "execution_count": 10,
   "metadata": {
    "execution": {
     "iopub.execute_input": "2020-12-02T18:22:04.030699Z",
     "iopub.status.busy": "2020-12-02T18:22:04.030334Z",
     "iopub.status.idle": "2020-12-02T18:22:04.042070Z",
     "shell.execute_reply": "2020-12-02T18:22:04.041686Z"
    },
    "papermill": {
     "duration": 0.034694,
     "end_time": "2020-12-02T18:22:04.042159",
     "exception": false,
     "start_time": "2020-12-02T18:22:04.007465",
     "status": "completed"
    },
    "tags": []
   },
   "outputs": [],
   "source": [
    "CLUSTERING_ATTRIBUTES_TO_SAVE = ['n_clusters']"
   ]
  },
  {
   "cell_type": "code",
   "execution_count": 11,
   "metadata": {
    "execution": {
     "iopub.execute_input": "2020-12-02T18:22:04.087043Z",
     "iopub.status.busy": "2020-12-02T18:22:04.086677Z",
     "iopub.status.idle": "2020-12-02T18:22:04.099468Z",
     "shell.execute_reply": "2020-12-02T18:22:04.099132Z"
    },
    "papermill": {
     "duration": 0.035716,
     "end_time": "2020-12-02T18:22:04.099556",
     "exception": false,
     "start_time": "2020-12-02T18:22:04.063840",
     "status": "completed"
    },
    "tags": []
   },
   "outputs": [
    {
     "data": {
      "text/plain": [
       "{'K_MIN': 2, 'K_MAX': 60, 'N_REPS_PER_K': 5, 'KMEANS_N_INIT': 10}"
      ]
     },
     "metadata": {},
     "output_type": "display_data"
    }
   ],
   "source": [
    "CLUSTERING_OPTIONS = {}\n",
    "\n",
    "CLUSTERING_OPTIONS['K_MIN'] = 2\n",
    "CLUSTERING_OPTIONS['K_MAX'] = 60 # sqrt(3749)\n",
    "CLUSTERING_OPTIONS['N_REPS_PER_K'] = 5\n",
    "CLUSTERING_OPTIONS['KMEANS_N_INIT'] = 10\n",
    "\n",
    "display(CLUSTERING_OPTIONS)"
   ]
  },
  {
   "cell_type": "code",
   "execution_count": 12,
   "metadata": {
    "execution": {
     "iopub.execute_input": "2020-12-02T18:22:04.144998Z",
     "iopub.status.busy": "2020-12-02T18:22:04.144580Z",
     "iopub.status.idle": "2020-12-02T18:22:04.157455Z",
     "shell.execute_reply": "2020-12-02T18:22:04.157084Z"
    },
    "papermill": {
     "duration": 0.037202,
     "end_time": "2020-12-02T18:22:04.157543",
     "exception": false,
     "start_time": "2020-12-02T18:22:04.120341",
     "status": "completed"
    },
    "tags": []
   },
   "outputs": [],
   "source": [
    "CLUSTERERS = {}\n",
    "\n",
    "idx = 0\n",
    "random_state = INITIAL_RANDOM_STATE\n",
    "\n",
    "for k in range(CLUSTERING_OPTIONS['K_MIN'], CLUSTERING_OPTIONS['K_MAX']+1):\n",
    "    for i in range(CLUSTERING_OPTIONS['N_REPS_PER_K']):\n",
    "        clus = KMeans(\n",
    "                n_clusters=k,\n",
    "                n_init=CLUSTERING_OPTIONS['KMEANS_N_INIT'],\n",
    "                random_state=random_state,\n",
    "            )\n",
    "        \n",
    "        method_name = type(clus).__name__\n",
    "        CLUSTERERS[f'{method_name} #{idx}'] = clus\n",
    "        \n",
    "        random_state = random_state + 1\n",
    "        idx = idx + 1"
   ]
  },
  {
   "cell_type": "code",
   "execution_count": 13,
   "metadata": {
    "execution": {
     "iopub.execute_input": "2020-12-02T18:22:04.202369Z",
     "iopub.status.busy": "2020-12-02T18:22:04.201994Z",
     "iopub.status.idle": "2020-12-02T18:22:04.214460Z",
     "shell.execute_reply": "2020-12-02T18:22:04.214081Z"
    },
    "papermill": {
     "duration": 0.035634,
     "end_time": "2020-12-02T18:22:04.214550",
     "exception": false,
     "start_time": "2020-12-02T18:22:04.178916",
     "status": "completed"
    },
    "tags": []
   },
   "outputs": [
    {
     "data": {
      "text/plain": [
       "295"
      ]
     },
     "metadata": {},
     "output_type": "display_data"
    }
   ],
   "source": [
    "display(len(CLUSTERERS))"
   ]
  },
  {
   "cell_type": "code",
   "execution_count": 14,
   "metadata": {
    "execution": {
     "iopub.execute_input": "2020-12-02T18:22:04.262109Z",
     "iopub.status.busy": "2020-12-02T18:22:04.261740Z",
     "iopub.status.idle": "2020-12-02T18:22:04.276198Z",
     "shell.execute_reply": "2020-12-02T18:22:04.275878Z"
    },
    "papermill": {
     "duration": 0.038804,
     "end_time": "2020-12-02T18:22:04.276291",
     "exception": false,
     "start_time": "2020-12-02T18:22:04.237487",
     "status": "completed"
    },
    "tags": []
   },
   "outputs": [
    {
     "data": {
      "text/plain": [
       "('KMeans #0', KMeans(n_clusters=2, random_state=0))"
      ]
     },
     "metadata": {},
     "output_type": "display_data"
    },
    {
     "data": {
      "text/plain": [
       "('KMeans #1', KMeans(n_clusters=2, random_state=1))"
      ]
     },
     "metadata": {},
     "output_type": "display_data"
    }
   ],
   "source": [
    "_iter = iter(CLUSTERERS.items())\n",
    "display(next(_iter))\n",
    "display(next(_iter))"
   ]
  },
  {
   "cell_type": "code",
   "execution_count": 15,
   "metadata": {
    "execution": {
     "iopub.execute_input": "2020-12-02T18:22:04.323572Z",
     "iopub.status.busy": "2020-12-02T18:22:04.323198Z",
     "iopub.status.idle": "2020-12-02T18:22:04.335885Z",
     "shell.execute_reply": "2020-12-02T18:22:04.335501Z"
    },
    "papermill": {
     "duration": 0.036776,
     "end_time": "2020-12-02T18:22:04.335973",
     "exception": false,
     "start_time": "2020-12-02T18:22:04.299197",
     "status": "completed"
    },
    "tags": []
   },
   "outputs": [
    {
     "data": {
      "text/plain": [
       "'KMeans'"
      ]
     },
     "metadata": {},
     "output_type": "display_data"
    }
   ],
   "source": [
    "clustering_method_name = method_name\n",
    "display(clustering_method_name)"
   ]
  },
  {
   "cell_type": "markdown",
   "metadata": {
    "papermill": {
     "duration": 0.021348,
     "end_time": "2020-12-02T18:22:04.379083",
     "exception": false,
     "start_time": "2020-12-02T18:22:04.357735",
     "status": "completed"
    },
    "tags": []
   },
   "source": [
    "## Output directory"
   ]
  },
  {
   "cell_type": "code",
   "execution_count": 16,
   "metadata": {
    "execution": {
     "iopub.execute_input": "2020-12-02T18:22:04.424818Z",
     "iopub.status.busy": "2020-12-02T18:22:04.424337Z",
     "iopub.status.idle": "2020-12-02T18:22:04.437286Z",
     "shell.execute_reply": "2020-12-02T18:22:04.436935Z"
    },
    "papermill": {
     "duration": 0.03682,
     "end_time": "2020-12-02T18:22:04.437376",
     "exception": false,
     "start_time": "2020-12-02T18:22:04.400556",
     "status": "completed"
    },
    "tags": []
   },
   "outputs": [
    {
     "data": {
      "text/plain": [
       "PosixPath('/home/miltondp/projects/labs/greenelab/phenoplier/base/results/clustering/runs/z_score_std-projection-smultixcan-efo_partial-mashr-zscores')"
      ]
     },
     "metadata": {},
     "output_type": "display_data"
    }
   ],
   "source": [
    "# output dir for this notebook\n",
    "RESULTS_DIR = Path(\n",
    "    conf.RESULTS[\"CLUSTERING_RUNS_DIR\"],\n",
    "    f'{INPUT_SUBSET}-{INPUT_STEM}',\n",
    ").resolve()\n",
    "RESULTS_DIR.mkdir(parents=True, exist_ok=True)\n",
    "\n",
    "display(RESULTS_DIR)"
   ]
  },
  {
   "cell_type": "markdown",
   "metadata": {
    "papermill": {
     "duration": 0.022133,
     "end_time": "2020-12-02T18:22:04.482743",
     "exception": false,
     "start_time": "2020-12-02T18:22:04.460610",
     "status": "completed"
    },
    "tags": []
   },
   "source": [
    "# Load input file"
   ]
  },
  {
   "cell_type": "code",
   "execution_count": 17,
   "metadata": {
    "execution": {
     "iopub.execute_input": "2020-12-02T18:22:04.529152Z",
     "iopub.status.busy": "2020-12-02T18:22:04.528762Z",
     "iopub.status.idle": "2020-12-02T18:22:04.552511Z",
     "shell.execute_reply": "2020-12-02T18:22:04.552109Z"
    },
    "papermill": {
     "duration": 0.047976,
     "end_time": "2020-12-02T18:22:04.552607",
     "exception": false,
     "start_time": "2020-12-02T18:22:04.504631",
     "status": "completed"
    },
    "tags": []
   },
   "outputs": [],
   "source": [
    "data = pd.read_pickle(input_filepath)"
   ]
  },
  {
   "cell_type": "code",
   "execution_count": 18,
   "metadata": {
    "execution": {
     "iopub.execute_input": "2020-12-02T18:22:04.601702Z",
     "iopub.status.busy": "2020-12-02T18:22:04.601332Z",
     "iopub.status.idle": "2020-12-02T18:22:04.613581Z",
     "shell.execute_reply": "2020-12-02T18:22:04.613202Z"
    },
    "papermill": {
     "duration": 0.036934,
     "end_time": "2020-12-02T18:22:04.613671",
     "exception": false,
     "start_time": "2020-12-02T18:22:04.576737",
     "status": "completed"
    },
    "tags": []
   },
   "outputs": [
    {
     "data": {
      "text/plain": [
       "(3749, 987)"
      ]
     },
     "execution_count": 18,
     "metadata": {},
     "output_type": "execute_result"
    }
   ],
   "source": [
    "data.shape"
   ]
  },
  {
   "cell_type": "code",
   "execution_count": 19,
   "metadata": {
    "execution": {
     "iopub.execute_input": "2020-12-02T18:22:04.661412Z",
     "iopub.status.busy": "2020-12-02T18:22:04.661045Z",
     "iopub.status.idle": "2020-12-02T18:22:04.685774Z",
     "shell.execute_reply": "2020-12-02T18:22:04.685448Z"
    },
    "papermill": {
     "duration": 0.049043,
     "end_time": "2020-12-02T18:22:04.685862",
     "exception": false,
     "start_time": "2020-12-02T18:22:04.636819",
     "status": "completed"
    },
    "tags": []
   },
   "outputs": [
    {
     "data": {
      "text/html": [
       "<div>\n",
       "<style scoped>\n",
       "    .dataframe tbody tr th:only-of-type {\n",
       "        vertical-align: middle;\n",
       "    }\n",
       "\n",
       "    .dataframe tbody tr th {\n",
       "        vertical-align: top;\n",
       "    }\n",
       "\n",
       "    .dataframe thead th {\n",
       "        text-align: right;\n",
       "    }\n",
       "</style>\n",
       "<table border=\"1\" class=\"dataframe\">\n",
       "  <thead>\n",
       "    <tr style=\"text-align: right;\">\n",
       "      <th></th>\n",
       "      <th>LV1</th>\n",
       "      <th>LV2</th>\n",
       "      <th>LV3</th>\n",
       "      <th>LV4</th>\n",
       "      <th>LV5</th>\n",
       "      <th>LV6</th>\n",
       "      <th>LV7</th>\n",
       "      <th>LV8</th>\n",
       "      <th>LV9</th>\n",
       "      <th>LV10</th>\n",
       "      <th>...</th>\n",
       "      <th>LV978</th>\n",
       "      <th>LV979</th>\n",
       "      <th>LV980</th>\n",
       "      <th>LV981</th>\n",
       "      <th>LV982</th>\n",
       "      <th>LV983</th>\n",
       "      <th>LV984</th>\n",
       "      <th>LV985</th>\n",
       "      <th>LV986</th>\n",
       "      <th>LV987</th>\n",
       "    </tr>\n",
       "  </thead>\n",
       "  <tbody>\n",
       "    <tr>\n",
       "      <th>100001_raw-Food_weight</th>\n",
       "      <td>-0.553743</td>\n",
       "      <td>1.851060</td>\n",
       "      <td>-0.095721</td>\n",
       "      <td>0.931603</td>\n",
       "      <td>-0.515196</td>\n",
       "      <td>1.371264</td>\n",
       "      <td>-0.413165</td>\n",
       "      <td>0.729668</td>\n",
       "      <td>0.546338</td>\n",
       "      <td>0.901153</td>\n",
       "      <td>...</td>\n",
       "      <td>1.148776</td>\n",
       "      <td>1.649018</td>\n",
       "      <td>-1.375952</td>\n",
       "      <td>2.203063</td>\n",
       "      <td>0.810199</td>\n",
       "      <td>-0.987048</td>\n",
       "      <td>0.277710</td>\n",
       "      <td>-0.607613</td>\n",
       "      <td>0.572376</td>\n",
       "      <td>-0.660846</td>\n",
       "    </tr>\n",
       "    <tr>\n",
       "      <th>100002_raw-Energy</th>\n",
       "      <td>-1.313905</td>\n",
       "      <td>-0.421015</td>\n",
       "      <td>-0.310524</td>\n",
       "      <td>-0.201978</td>\n",
       "      <td>0.233028</td>\n",
       "      <td>0.693838</td>\n",
       "      <td>0.084129</td>\n",
       "      <td>0.572439</td>\n",
       "      <td>0.217866</td>\n",
       "      <td>1.296973</td>\n",
       "      <td>...</td>\n",
       "      <td>0.165430</td>\n",
       "      <td>0.799276</td>\n",
       "      <td>-0.361989</td>\n",
       "      <td>-0.008253</td>\n",
       "      <td>2.063780</td>\n",
       "      <td>-0.930765</td>\n",
       "      <td>-0.147007</td>\n",
       "      <td>1.601938</td>\n",
       "      <td>-0.273553</td>\n",
       "      <td>-0.560822</td>\n",
       "    </tr>\n",
       "    <tr>\n",
       "      <th>100003_raw-Protein</th>\n",
       "      <td>-0.645622</td>\n",
       "      <td>-0.997845</td>\n",
       "      <td>0.249039</td>\n",
       "      <td>0.256499</td>\n",
       "      <td>0.422357</td>\n",
       "      <td>0.829189</td>\n",
       "      <td>-0.169004</td>\n",
       "      <td>0.511550</td>\n",
       "      <td>0.002389</td>\n",
       "      <td>-0.057200</td>\n",
       "      <td>...</td>\n",
       "      <td>1.016791</td>\n",
       "      <td>1.019488</td>\n",
       "      <td>-2.148844</td>\n",
       "      <td>-0.065130</td>\n",
       "      <td>0.041052</td>\n",
       "      <td>-0.836118</td>\n",
       "      <td>-0.320571</td>\n",
       "      <td>1.325519</td>\n",
       "      <td>-0.341494</td>\n",
       "      <td>-0.495786</td>\n",
       "    </tr>\n",
       "    <tr>\n",
       "      <th>100004_raw-Fat</th>\n",
       "      <td>-0.913924</td>\n",
       "      <td>-1.837183</td>\n",
       "      <td>0.012095</td>\n",
       "      <td>-1.301315</td>\n",
       "      <td>0.205794</td>\n",
       "      <td>1.129114</td>\n",
       "      <td>0.019985</td>\n",
       "      <td>0.376660</td>\n",
       "      <td>-0.810272</td>\n",
       "      <td>0.843611</td>\n",
       "      <td>...</td>\n",
       "      <td>0.544266</td>\n",
       "      <td>0.576714</td>\n",
       "      <td>0.281731</td>\n",
       "      <td>-0.218963</td>\n",
       "      <td>1.258957</td>\n",
       "      <td>-1.131924</td>\n",
       "      <td>0.378545</td>\n",
       "      <td>0.842047</td>\n",
       "      <td>-0.622194</td>\n",
       "      <td>-0.160058</td>\n",
       "    </tr>\n",
       "    <tr>\n",
       "      <th>100005_raw-Carbohydrate</th>\n",
       "      <td>-0.523004</td>\n",
       "      <td>0.131379</td>\n",
       "      <td>-0.097802</td>\n",
       "      <td>-0.030526</td>\n",
       "      <td>-0.021500</td>\n",
       "      <td>-0.219116</td>\n",
       "      <td>0.668229</td>\n",
       "      <td>0.365700</td>\n",
       "      <td>1.102347</td>\n",
       "      <td>0.845625</td>\n",
       "      <td>...</td>\n",
       "      <td>-0.344740</td>\n",
       "      <td>0.079274</td>\n",
       "      <td>0.253427</td>\n",
       "      <td>0.236474</td>\n",
       "      <td>1.033895</td>\n",
       "      <td>-0.229105</td>\n",
       "      <td>0.364793</td>\n",
       "      <td>1.776714</td>\n",
       "      <td>0.190531</td>\n",
       "      <td>-1.459641</td>\n",
       "    </tr>\n",
       "  </tbody>\n",
       "</table>\n",
       "<p>5 rows × 987 columns</p>\n",
       "</div>"
      ],
      "text/plain": [
       "                              LV1       LV2       LV3       LV4       LV5  \\\n",
       "100001_raw-Food_weight  -0.553743  1.851060 -0.095721  0.931603 -0.515196   \n",
       "100002_raw-Energy       -1.313905 -0.421015 -0.310524 -0.201978  0.233028   \n",
       "100003_raw-Protein      -0.645622 -0.997845  0.249039  0.256499  0.422357   \n",
       "100004_raw-Fat          -0.913924 -1.837183  0.012095 -1.301315  0.205794   \n",
       "100005_raw-Carbohydrate -0.523004  0.131379 -0.097802 -0.030526 -0.021500   \n",
       "\n",
       "                              LV6       LV7       LV8       LV9      LV10  \\\n",
       "100001_raw-Food_weight   1.371264 -0.413165  0.729668  0.546338  0.901153   \n",
       "100002_raw-Energy        0.693838  0.084129  0.572439  0.217866  1.296973   \n",
       "100003_raw-Protein       0.829189 -0.169004  0.511550  0.002389 -0.057200   \n",
       "100004_raw-Fat           1.129114  0.019985  0.376660 -0.810272  0.843611   \n",
       "100005_raw-Carbohydrate -0.219116  0.668229  0.365700  1.102347  0.845625   \n",
       "\n",
       "                         ...     LV978     LV979     LV980     LV981  \\\n",
       "100001_raw-Food_weight   ...  1.148776  1.649018 -1.375952  2.203063   \n",
       "100002_raw-Energy        ...  0.165430  0.799276 -0.361989 -0.008253   \n",
       "100003_raw-Protein       ...  1.016791  1.019488 -2.148844 -0.065130   \n",
       "100004_raw-Fat           ...  0.544266  0.576714  0.281731 -0.218963   \n",
       "100005_raw-Carbohydrate  ... -0.344740  0.079274  0.253427  0.236474   \n",
       "\n",
       "                            LV982     LV983     LV984     LV985     LV986  \\\n",
       "100001_raw-Food_weight   0.810199 -0.987048  0.277710 -0.607613  0.572376   \n",
       "100002_raw-Energy        2.063780 -0.930765 -0.147007  1.601938 -0.273553   \n",
       "100003_raw-Protein       0.041052 -0.836118 -0.320571  1.325519 -0.341494   \n",
       "100004_raw-Fat           1.258957 -1.131924  0.378545  0.842047 -0.622194   \n",
       "100005_raw-Carbohydrate  1.033895 -0.229105  0.364793  1.776714  0.190531   \n",
       "\n",
       "                            LV987  \n",
       "100001_raw-Food_weight  -0.660846  \n",
       "100002_raw-Energy       -0.560822  \n",
       "100003_raw-Protein      -0.495786  \n",
       "100004_raw-Fat          -0.160058  \n",
       "100005_raw-Carbohydrate -1.459641  \n",
       "\n",
       "[5 rows x 987 columns]"
      ]
     },
     "execution_count": 19,
     "metadata": {},
     "output_type": "execute_result"
    }
   ],
   "source": [
    "data.head()"
   ]
  },
  {
   "cell_type": "code",
   "execution_count": 20,
   "metadata": {
    "execution": {
     "iopub.execute_input": "2020-12-02T18:22:04.735166Z",
     "iopub.status.busy": "2020-12-02T18:22:04.734803Z",
     "iopub.status.idle": "2020-12-02T18:22:04.751494Z",
     "shell.execute_reply": "2020-12-02T18:22:04.751781Z"
    },
    "papermill": {
     "duration": 0.042498,
     "end_time": "2020-12-02T18:22:04.751908",
     "exception": false,
     "start_time": "2020-12-02T18:22:04.709410",
     "status": "completed"
    },
    "tags": []
   },
   "outputs": [],
   "source": [
    "assert not data.isna().any().any()"
   ]
  },
  {
   "cell_type": "markdown",
   "metadata": {
    "papermill": {
     "duration": 0.021811,
     "end_time": "2020-12-02T18:22:04.796639",
     "exception": false,
     "start_time": "2020-12-02T18:22:04.774828",
     "status": "completed"
    },
    "tags": []
   },
   "source": [
    "# Clustering"
   ]
  },
  {
   "cell_type": "markdown",
   "metadata": {
    "papermill": {
     "duration": 0.022473,
     "end_time": "2020-12-02T18:22:04.841464",
     "exception": false,
     "start_time": "2020-12-02T18:22:04.818991",
     "status": "completed"
    },
    "tags": []
   },
   "source": [
    "## Generate ensemble"
   ]
  },
  {
   "cell_type": "code",
   "execution_count": 21,
   "metadata": {
    "execution": {
     "iopub.execute_input": "2020-12-02T18:22:04.887996Z",
     "iopub.status.busy": "2020-12-02T18:22:04.887617Z",
     "iopub.status.idle": "2020-12-02T18:22:04.902150Z",
     "shell.execute_reply": "2020-12-02T18:22:04.901759Z"
    },
    "papermill": {
     "duration": 0.038865,
     "end_time": "2020-12-02T18:22:04.902241",
     "exception": false,
     "start_time": "2020-12-02T18:22:04.863376",
     "status": "completed"
    },
    "tags": []
   },
   "outputs": [],
   "source": [
    "from clustering.ensemble import generate_ensemble"
   ]
  },
  {
   "cell_type": "code",
   "execution_count": 22,
   "metadata": {
    "execution": {
     "iopub.execute_input": "2020-12-02T18:22:04.951097Z",
     "iopub.status.busy": "2020-12-02T18:22:04.950728Z",
     "iopub.status.idle": "2020-12-02T18:43:49.272288Z",
     "shell.execute_reply": "2020-12-02T18:43:49.271911Z"
    },
    "papermill": {
     "duration": 1304.34656,
     "end_time": "2020-12-02T18:43:49.272375",
     "exception": false,
     "start_time": "2020-12-02T18:22:04.925815",
     "status": "completed"
    },
    "tags": []
   },
   "outputs": [
    {
     "name": "stderr",
     "output_type": "stream",
     "text": [
      "100%|██████████| 295/295 [21:44<00:00,  4.42s/it]\n"
     ]
    }
   ],
   "source": [
    "ensemble = generate_ensemble(\n",
    "    data,\n",
    "    CLUSTERERS,\n",
    "    attributes=CLUSTERING_ATTRIBUTES_TO_SAVE,\n",
    ")"
   ]
  },
  {
   "cell_type": "code",
   "execution_count": 23,
   "metadata": {
    "execution": {
     "iopub.execute_input": "2020-12-02T18:43:49.413657Z",
     "iopub.status.busy": "2020-12-02T18:43:49.413281Z",
     "iopub.status.idle": "2020-12-02T18:43:49.426284Z",
     "shell.execute_reply": "2020-12-02T18:43:49.425950Z"
    },
    "papermill": {
     "duration": 0.0839,
     "end_time": "2020-12-02T18:43:49.426385",
     "exception": false,
     "start_time": "2020-12-02T18:43:49.342485",
     "status": "completed"
    },
    "tags": []
   },
   "outputs": [
    {
     "data": {
      "text/plain": [
       "(295, 3)"
      ]
     },
     "execution_count": 23,
     "metadata": {},
     "output_type": "execute_result"
    }
   ],
   "source": [
    "# the number should be close to 295 (the number of partitions generated by k-means/spectral clustering)\n",
    "ensemble.shape"
   ]
  },
  {
   "cell_type": "code",
   "execution_count": 24,
   "metadata": {
    "execution": {
     "iopub.execute_input": "2020-12-02T18:43:49.568170Z",
     "iopub.status.busy": "2020-12-02T18:43:49.567810Z",
     "iopub.status.idle": "2020-12-02T18:43:49.588114Z",
     "shell.execute_reply": "2020-12-02T18:43:49.587723Z"
    },
    "papermill": {
     "duration": 0.091189,
     "end_time": "2020-12-02T18:43:49.588205",
     "exception": false,
     "start_time": "2020-12-02T18:43:49.497016",
     "status": "completed"
    },
    "tags": []
   },
   "outputs": [
    {
     "data": {
      "text/html": [
       "<div>\n",
       "<style scoped>\n",
       "    .dataframe tbody tr th:only-of-type {\n",
       "        vertical-align: middle;\n",
       "    }\n",
       "\n",
       "    .dataframe tbody tr th {\n",
       "        vertical-align: top;\n",
       "    }\n",
       "\n",
       "    .dataframe thead th {\n",
       "        text-align: right;\n",
       "    }\n",
       "</style>\n",
       "<table border=\"1\" class=\"dataframe\">\n",
       "  <thead>\n",
       "    <tr style=\"text-align: right;\">\n",
       "      <th></th>\n",
       "      <th>clusterer_params</th>\n",
       "      <th>partition</th>\n",
       "      <th>n_clusters</th>\n",
       "    </tr>\n",
       "    <tr>\n",
       "      <th>clusterer_id</th>\n",
       "      <th></th>\n",
       "      <th></th>\n",
       "      <th></th>\n",
       "    </tr>\n",
       "  </thead>\n",
       "  <tbody>\n",
       "    <tr>\n",
       "      <th>KMeans #0</th>\n",
       "      <td>{'algorithm': 'auto', 'copy_x': True, 'init': ...</td>\n",
       "      <td>[1.0, 1.0, 1.0, 1.0, 1.0, 1.0, 1.0, 1.0, 1.0, ...</td>\n",
       "      <td>2</td>\n",
       "    </tr>\n",
       "    <tr>\n",
       "      <th>KMeans #1</th>\n",
       "      <td>{'algorithm': 'auto', 'copy_x': True, 'init': ...</td>\n",
       "      <td>[1.0, 1.0, 1.0, 1.0, 1.0, 1.0, 1.0, 1.0, 1.0, ...</td>\n",
       "      <td>2</td>\n",
       "    </tr>\n",
       "    <tr>\n",
       "      <th>KMeans #2</th>\n",
       "      <td>{'algorithm': 'auto', 'copy_x': True, 'init': ...</td>\n",
       "      <td>[1.0, 1.0, 1.0, 1.0, 1.0, 1.0, 1.0, 1.0, 1.0, ...</td>\n",
       "      <td>2</td>\n",
       "    </tr>\n",
       "    <tr>\n",
       "      <th>KMeans #3</th>\n",
       "      <td>{'algorithm': 'auto', 'copy_x': True, 'init': ...</td>\n",
       "      <td>[0.0, 0.0, 0.0, 0.0, 0.0, 0.0, 0.0, 0.0, 0.0, ...</td>\n",
       "      <td>2</td>\n",
       "    </tr>\n",
       "    <tr>\n",
       "      <th>KMeans #4</th>\n",
       "      <td>{'algorithm': 'auto', 'copy_x': True, 'init': ...</td>\n",
       "      <td>[1.0, 1.0, 1.0, 1.0, 1.0, 1.0, 1.0, 1.0, 1.0, ...</td>\n",
       "      <td>2</td>\n",
       "    </tr>\n",
       "  </tbody>\n",
       "</table>\n",
       "</div>"
      ],
      "text/plain": [
       "                                               clusterer_params  \\\n",
       "clusterer_id                                                      \n",
       "KMeans #0     {'algorithm': 'auto', 'copy_x': True, 'init': ...   \n",
       "KMeans #1     {'algorithm': 'auto', 'copy_x': True, 'init': ...   \n",
       "KMeans #2     {'algorithm': 'auto', 'copy_x': True, 'init': ...   \n",
       "KMeans #3     {'algorithm': 'auto', 'copy_x': True, 'init': ...   \n",
       "KMeans #4     {'algorithm': 'auto', 'copy_x': True, 'init': ...   \n",
       "\n",
       "                                                      partition  n_clusters  \n",
       "clusterer_id                                                                 \n",
       "KMeans #0     [1.0, 1.0, 1.0, 1.0, 1.0, 1.0, 1.0, 1.0, 1.0, ...           2  \n",
       "KMeans #1     [1.0, 1.0, 1.0, 1.0, 1.0, 1.0, 1.0, 1.0, 1.0, ...           2  \n",
       "KMeans #2     [1.0, 1.0, 1.0, 1.0, 1.0, 1.0, 1.0, 1.0, 1.0, ...           2  \n",
       "KMeans #3     [0.0, 0.0, 0.0, 0.0, 0.0, 0.0, 0.0, 0.0, 0.0, ...           2  \n",
       "KMeans #4     [1.0, 1.0, 1.0, 1.0, 1.0, 1.0, 1.0, 1.0, 1.0, ...           2  "
      ]
     },
     "execution_count": 24,
     "metadata": {},
     "output_type": "execute_result"
    }
   ],
   "source": [
    "ensemble.head()"
   ]
  },
  {
   "cell_type": "code",
   "execution_count": 25,
   "metadata": {
    "execution": {
     "iopub.execute_input": "2020-12-02T18:43:49.730173Z",
     "iopub.status.busy": "2020-12-02T18:43:49.729808Z",
     "iopub.status.idle": "2020-12-02T18:43:49.742872Z",
     "shell.execute_reply": "2020-12-02T18:43:49.743157Z"
    },
    "papermill": {
     "duration": 0.085114,
     "end_time": "2020-12-02T18:43:49.743266",
     "exception": false,
     "start_time": "2020-12-02T18:43:49.658152",
     "status": "completed"
    },
    "tags": []
   },
   "outputs": [
    {
     "data": {
      "text/plain": [
       "60    5\n",
       "16    5\n",
       "28    5\n",
       "27    5\n",
       "26    5\n",
       "Name: n_clusters, dtype: int64"
      ]
     },
     "execution_count": 25,
     "metadata": {},
     "output_type": "execute_result"
    }
   ],
   "source": [
    "ensemble['n_clusters'].value_counts().head()"
   ]
  },
  {
   "cell_type": "code",
   "execution_count": 26,
   "metadata": {
    "execution": {
     "iopub.execute_input": "2020-12-02T18:43:49.883613Z",
     "iopub.status.busy": "2020-12-02T18:43:49.883161Z",
     "iopub.status.idle": "2020-12-02T18:43:49.898054Z",
     "shell.execute_reply": "2020-12-02T18:43:49.897677Z"
    },
    "papermill": {
     "duration": 0.085691,
     "end_time": "2020-12-02T18:43:49.898143",
     "exception": false,
     "start_time": "2020-12-02T18:43:49.812452",
     "status": "completed"
    },
    "tags": []
   },
   "outputs": [
    {
     "data": {
      "text/plain": [
       "count    295.000000\n",
       "mean      31.000000\n",
       "std       17.058323\n",
       "min        2.000000\n",
       "25%       16.000000\n",
       "50%       31.000000\n",
       "75%       46.000000\n",
       "max       60.000000\n",
       "Name: n_clusters, dtype: float64"
      ]
     },
     "metadata": {},
     "output_type": "display_data"
    }
   ],
   "source": [
    "ensemble_stats = ensemble['n_clusters'].describe()\n",
    "display(ensemble_stats)"
   ]
  },
  {
   "cell_type": "markdown",
   "metadata": {
    "papermill": {
     "duration": 0.069375,
     "end_time": "2020-12-02T18:43:50.037181",
     "exception": false,
     "start_time": "2020-12-02T18:43:49.967806",
     "status": "completed"
    },
    "tags": []
   },
   "source": [
    "## Testing"
   ]
  },
  {
   "cell_type": "code",
   "execution_count": 27,
   "metadata": {
    "execution": {
     "iopub.execute_input": "2020-12-02T18:43:50.177187Z",
     "iopub.status.busy": "2020-12-02T18:43:50.176822Z",
     "iopub.status.idle": "2020-12-02T18:43:50.188895Z",
     "shell.execute_reply": "2020-12-02T18:43:50.188455Z"
    },
    "papermill": {
     "duration": 0.083149,
     "end_time": "2020-12-02T18:43:50.188996",
     "exception": false,
     "start_time": "2020-12-02T18:43:50.105847",
     "status": "completed"
    },
    "tags": []
   },
   "outputs": [],
   "source": [
    "assert ensemble_stats['min'] > 1"
   ]
  },
  {
   "cell_type": "code",
   "execution_count": 28,
   "metadata": {
    "execution": {
     "iopub.execute_input": "2020-12-02T18:43:50.330329Z",
     "iopub.status.busy": "2020-12-02T18:43:50.329965Z",
     "iopub.status.idle": "2020-12-02T18:43:50.341155Z",
     "shell.execute_reply": "2020-12-02T18:43:50.341442Z"
    },
    "papermill": {
     "duration": 0.083573,
     "end_time": "2020-12-02T18:43:50.341548",
     "exception": false,
     "start_time": "2020-12-02T18:43:50.257975",
     "status": "completed"
    },
    "tags": []
   },
   "outputs": [],
   "source": [
    "assert not ensemble['n_clusters'].isna().any()"
   ]
  },
  {
   "cell_type": "code",
   "execution_count": 29,
   "metadata": {
    "execution": {
     "iopub.execute_input": "2020-12-02T18:43:50.486389Z",
     "iopub.status.busy": "2020-12-02T18:43:50.486014Z",
     "iopub.status.idle": "2020-12-02T18:43:50.497752Z",
     "shell.execute_reply": "2020-12-02T18:43:50.497363Z"
    },
    "papermill": {
     "duration": 0.087081,
     "end_time": "2020-12-02T18:43:50.497841",
     "exception": false,
     "start_time": "2020-12-02T18:43:50.410760",
     "status": "completed"
    },
    "tags": []
   },
   "outputs": [],
   "source": [
    "assert ensemble.shape[0] == len(CLUSTERERS)"
   ]
  },
  {
   "cell_type": "code",
   "execution_count": 30,
   "metadata": {
    "execution": {
     "iopub.execute_input": "2020-12-02T18:43:50.639279Z",
     "iopub.status.busy": "2020-12-02T18:43:50.638914Z",
     "iopub.status.idle": "2020-12-02T18:43:50.668340Z",
     "shell.execute_reply": "2020-12-02T18:43:50.667950Z"
    },
    "papermill": {
     "duration": 0.10085,
     "end_time": "2020-12-02T18:43:50.668430",
     "exception": false,
     "start_time": "2020-12-02T18:43:50.567580",
     "status": "completed"
    },
    "tags": []
   },
   "outputs": [],
   "source": [
    "# all partitions have the right size\n",
    "assert np.all([\n",
    "    part['partition'].shape[0] == data.shape[0]\n",
    "    for idx, part in ensemble.iterrows()\n",
    "])"
   ]
  },
  {
   "cell_type": "code",
   "execution_count": 31,
   "metadata": {
    "execution": {
     "iopub.execute_input": "2020-12-02T18:43:50.810719Z",
     "iopub.status.busy": "2020-12-02T18:43:50.810355Z",
     "iopub.status.idle": "2020-12-02T18:43:50.842935Z",
     "shell.execute_reply": "2020-12-02T18:43:50.842555Z"
    },
    "papermill": {
     "duration": 0.10446,
     "end_time": "2020-12-02T18:43:50.843024",
     "exception": false,
     "start_time": "2020-12-02T18:43:50.738564",
     "status": "completed"
    },
    "tags": []
   },
   "outputs": [],
   "source": [
    "# no partition has negative clusters (noisy points)\n",
    "assert not np.any([\n",
    "    (part['partition'] < 0).any()\n",
    "    for idx, part in ensemble.iterrows()\n",
    "])"
   ]
  },
  {
   "cell_type": "markdown",
   "metadata": {
    "papermill": {
     "duration": 0.068896,
     "end_time": "2020-12-02T18:43:50.981376",
     "exception": false,
     "start_time": "2020-12-02T18:43:50.912480",
     "status": "completed"
    },
    "tags": []
   },
   "source": [
    "## Save"
   ]
  },
  {
   "cell_type": "code",
   "execution_count": 32,
   "metadata": {
    "execution": {
     "iopub.execute_input": "2020-12-02T18:43:51.124346Z",
     "iopub.status.busy": "2020-12-02T18:43:51.123975Z",
     "iopub.status.idle": "2020-12-02T18:43:51.137141Z",
     "shell.execute_reply": "2020-12-02T18:43:51.136694Z"
    },
    "papermill": {
     "duration": 0.085051,
     "end_time": "2020-12-02T18:43:51.137237",
     "exception": false,
     "start_time": "2020-12-02T18:43:51.052186",
     "status": "completed"
    },
    "tags": []
   },
   "outputs": [
    {
     "data": {
      "text/plain": [
       "PosixPath('/home/miltondp/projects/labs/greenelab/phenoplier/base/results/clustering/runs/z_score_std-projection-smultixcan-efo_partial-mashr-zscores/KMeans-KMEANS_N_INIT_10-K_MAX_60-K_MIN_2-N_REPS_PER_K_5.pkl')"
      ]
     },
     "metadata": {},
     "output_type": "display_data"
    }
   ],
   "source": [
    "output_filename = Path(\n",
    "    RESULTS_DIR,\n",
    "    generate_result_set_name(\n",
    "        CLUSTERING_OPTIONS,\n",
    "        prefix=f'{clustering_method_name}-',\n",
    "        suffix='.pkl',\n",
    "    )\n",
    ").resolve()\n",
    "display(output_filename)"
   ]
  },
  {
   "cell_type": "code",
   "execution_count": 33,
   "metadata": {
    "execution": {
     "iopub.execute_input": "2020-12-02T18:43:51.279499Z",
     "iopub.status.busy": "2020-12-02T18:43:51.279128Z",
     "iopub.status.idle": "2020-12-02T18:43:51.313901Z",
     "shell.execute_reply": "2020-12-02T18:43:51.313553Z"
    },
    "papermill": {
     "duration": 0.106228,
     "end_time": "2020-12-02T18:43:51.314013",
     "exception": false,
     "start_time": "2020-12-02T18:43:51.207785",
     "status": "completed"
    },
    "tags": []
   },
   "outputs": [],
   "source": [
    "ensemble.to_pickle(output_filename)"
   ]
  },
  {
   "cell_type": "markdown",
   "metadata": {
    "papermill": {
     "duration": 0.071866,
     "end_time": "2020-12-02T18:43:51.456874",
     "exception": false,
     "start_time": "2020-12-02T18:43:51.385008",
     "status": "completed"
    },
    "tags": []
   },
   "source": [
    "# Stability"
   ]
  },
  {
   "cell_type": "markdown",
   "metadata": {
    "papermill": {
     "duration": 0.069979,
     "end_time": "2020-12-02T18:43:51.597097",
     "exception": false,
     "start_time": "2020-12-02T18:43:51.527118",
     "status": "completed"
    },
    "tags": []
   },
   "source": [
    "## Group ensemble by n_clusters"
   ]
  },
  {
   "cell_type": "code",
   "execution_count": 34,
   "metadata": {
    "execution": {
     "iopub.execute_input": "2020-12-02T18:43:51.738889Z",
     "iopub.status.busy": "2020-12-02T18:43:51.738514Z",
     "iopub.status.idle": "2020-12-02T18:43:51.764043Z",
     "shell.execute_reply": "2020-12-02T18:43:51.763644Z"
    },
    "papermill": {
     "duration": 0.097768,
     "end_time": "2020-12-02T18:43:51.764132",
     "exception": false,
     "start_time": "2020-12-02T18:43:51.666364",
     "status": "completed"
    },
    "tags": []
   },
   "outputs": [],
   "source": [
    "parts = ensemble.groupby('n_clusters').apply(lambda x: np.concatenate(x['partition'].apply(lambda x: x.reshape(1, -1)), axis=0))"
   ]
  },
  {
   "cell_type": "code",
   "execution_count": 35,
   "metadata": {
    "execution": {
     "iopub.execute_input": "2020-12-02T18:43:51.907700Z",
     "iopub.status.busy": "2020-12-02T18:43:51.907326Z",
     "iopub.status.idle": "2020-12-02T18:43:51.931257Z",
     "shell.execute_reply": "2020-12-02T18:43:51.930878Z"
    },
    "papermill": {
     "duration": 0.096473,
     "end_time": "2020-12-02T18:43:51.931347",
     "exception": false,
     "start_time": "2020-12-02T18:43:51.834874",
     "status": "completed"
    },
    "tags": []
   },
   "outputs": [
    {
     "data": {
      "text/plain": [
       "n_clusters\n",
       "2    [[1.0, 1.0, 1.0, 1.0, 1.0, 1.0, 1.0, 1.0, 1.0,...\n",
       "3    [[2.0, 2.0, 2.0, 2.0, 2.0, 2.0, 2.0, 2.0, 2.0,...\n",
       "4    [[2.0, 2.0, 2.0, 2.0, 2.0, 2.0, 2.0, 2.0, 2.0,...\n",
       "5    [[2.0, 2.0, 2.0, 2.0, 2.0, 2.0, 2.0, 2.0, 2.0,...\n",
       "6    [[2.0, 2.0, 2.0, 2.0, 2.0, 2.0, 2.0, 2.0, 2.0,...\n",
       "dtype: object"
      ]
     },
     "execution_count": 35,
     "metadata": {},
     "output_type": "execute_result"
    }
   ],
   "source": [
    "parts.head()"
   ]
  },
  {
   "cell_type": "code",
   "execution_count": 36,
   "metadata": {
    "execution": {
     "iopub.execute_input": "2020-12-02T18:43:52.075599Z",
     "iopub.status.busy": "2020-12-02T18:43:52.075237Z",
     "iopub.status.idle": "2020-12-02T18:43:52.087043Z",
     "shell.execute_reply": "2020-12-02T18:43:52.087324Z"
    },
    "papermill": {
     "duration": 0.084798,
     "end_time": "2020-12-02T18:43:52.087435",
     "exception": false,
     "start_time": "2020-12-02T18:43:52.002637",
     "status": "completed"
    },
    "tags": []
   },
   "outputs": [],
   "source": [
    "assert np.all([\n",
    "    parts.loc[k].shape == (CLUSTERING_OPTIONS['N_REPS_PER_K'], data.shape[0])\n",
    "    for k in parts.index\n",
    "])"
   ]
  },
  {
   "cell_type": "markdown",
   "metadata": {
    "papermill": {
     "duration": 0.069919,
     "end_time": "2020-12-02T18:43:52.228469",
     "exception": false,
     "start_time": "2020-12-02T18:43:52.158550",
     "status": "completed"
    },
    "tags": []
   },
   "source": [
    "## Compute stability"
   ]
  },
  {
   "cell_type": "code",
   "execution_count": 37,
   "metadata": {
    "execution": {
     "iopub.execute_input": "2020-12-02T18:43:52.372120Z",
     "iopub.status.busy": "2020-12-02T18:43:52.371758Z",
     "iopub.status.idle": "2020-12-02T18:43:52.383962Z",
     "shell.execute_reply": "2020-12-02T18:43:52.383562Z"
    },
    "papermill": {
     "duration": 0.085598,
     "end_time": "2020-12-02T18:43:52.384051",
     "exception": false,
     "start_time": "2020-12-02T18:43:52.298453",
     "status": "completed"
    },
    "tags": []
   },
   "outputs": [],
   "source": [
    "from sklearn.metrics import adjusted_rand_score as ari\n",
    "from scipy.spatial.distance import squareform, pdist"
   ]
  },
  {
   "cell_type": "code",
   "execution_count": 38,
   "metadata": {
    "execution": {
     "iopub.execute_input": "2020-12-02T18:43:52.531045Z",
     "iopub.status.busy": "2020-12-02T18:43:52.530671Z",
     "iopub.status.idle": "2020-12-02T18:43:53.221695Z",
     "shell.execute_reply": "2020-12-02T18:43:53.221340Z"
    },
    "papermill": {
     "duration": 0.76536,
     "end_time": "2020-12-02T18:43:53.221783",
     "exception": false,
     "start_time": "2020-12-02T18:43:52.456423",
     "status": "completed"
    },
    "tags": []
   },
   "outputs": [],
   "source": [
    "parts_ari = pd.Series(\n",
    "    {k: pdist(parts.loc[k], metric=ari) for k in parts.index},\n",
    "    name='k'\n",
    ")"
   ]
  },
  {
   "cell_type": "code",
   "execution_count": 39,
   "metadata": {
    "execution": {
     "iopub.execute_input": "2020-12-02T18:43:53.365434Z",
     "iopub.status.busy": "2020-12-02T18:43:53.365056Z",
     "iopub.status.idle": "2020-12-02T18:43:53.378806Z",
     "shell.execute_reply": "2020-12-02T18:43:53.379109Z"
    },
    "papermill": {
     "duration": 0.086945,
     "end_time": "2020-12-02T18:43:53.379218",
     "exception": false,
     "start_time": "2020-12-02T18:43:53.292273",
     "status": "completed"
    },
    "tags": []
   },
   "outputs": [
    {
     "data": {
      "text/plain": [
       "2     1.000000\n",
       "4     0.999930\n",
       "3     0.978411\n",
       "5     0.947089\n",
       "7     0.946978\n",
       "6     0.864657\n",
       "8     0.656955\n",
       "9     0.335216\n",
       "12    0.188464\n",
       "10    0.186006\n",
       "11    0.171345\n",
       "15    0.155128\n",
       "13    0.132850\n",
       "14    0.129988\n",
       "17    0.129620\n",
       "Name: k, dtype: float64"
      ]
     },
     "metadata": {},
     "output_type": "display_data"
    }
   ],
   "source": [
    "parts_ari_stability = parts_ari.apply(lambda x: x.mean())\n",
    "display(parts_ari_stability.sort_values(ascending=False).head(15))"
   ]
  },
  {
   "cell_type": "code",
   "execution_count": 40,
   "metadata": {
    "execution": {
     "iopub.execute_input": "2020-12-02T18:43:53.527176Z",
     "iopub.status.busy": "2020-12-02T18:43:53.526802Z",
     "iopub.status.idle": "2020-12-02T18:43:53.540003Z",
     "shell.execute_reply": "2020-12-02T18:43:53.539687Z"
    },
    "papermill": {
     "duration": 0.087633,
     "end_time": "2020-12-02T18:43:53.540095",
     "exception": false,
     "start_time": "2020-12-02T18:43:53.452462",
     "status": "completed"
    },
    "tags": []
   },
   "outputs": [],
   "source": [
    "parts_ari_df = pd.DataFrame.from_records(parts_ari.tolist()).set_index(parts_ari.index.copy())"
   ]
  },
  {
   "cell_type": "code",
   "execution_count": 41,
   "metadata": {
    "execution": {
     "iopub.execute_input": "2020-12-02T18:43:53.682902Z",
     "iopub.status.busy": "2020-12-02T18:43:53.682536Z",
     "iopub.status.idle": "2020-12-02T18:43:53.695632Z",
     "shell.execute_reply": "2020-12-02T18:43:53.695256Z"
    },
    "papermill": {
     "duration": 0.084998,
     "end_time": "2020-12-02T18:43:53.695720",
     "exception": false,
     "start_time": "2020-12-02T18:43:53.610722",
     "status": "completed"
    },
    "tags": []
   },
   "outputs": [
    {
     "data": {
      "text/plain": [
       "(59, 10)"
      ]
     },
     "execution_count": 41,
     "metadata": {},
     "output_type": "execute_result"
    }
   ],
   "source": [
    "parts_ari_df.shape"
   ]
  },
  {
   "cell_type": "code",
   "execution_count": 42,
   "metadata": {
    "execution": {
     "iopub.execute_input": "2020-12-02T18:43:53.839607Z",
     "iopub.status.busy": "2020-12-02T18:43:53.839240Z",
     "iopub.status.idle": "2020-12-02T18:43:53.851260Z",
     "shell.execute_reply": "2020-12-02T18:43:53.850889Z"
    },
    "papermill": {
     "duration": 0.085464,
     "end_time": "2020-12-02T18:43:53.851346",
     "exception": false,
     "start_time": "2020-12-02T18:43:53.765882",
     "status": "completed"
    },
    "tags": []
   },
   "outputs": [],
   "source": [
    "assert int( (CLUSTERING_OPTIONS['N_REPS_PER_K'] * (CLUSTERING_OPTIONS['N_REPS_PER_K'] - 1) ) / 2) == parts_ari_df.shape[1]"
   ]
  },
  {
   "cell_type": "code",
   "execution_count": 43,
   "metadata": {
    "execution": {
     "iopub.execute_input": "2020-12-02T18:43:53.998175Z",
     "iopub.status.busy": "2020-12-02T18:43:53.997781Z",
     "iopub.status.idle": "2020-12-02T18:43:54.016952Z",
     "shell.execute_reply": "2020-12-02T18:43:54.016540Z"
    },
    "papermill": {
     "duration": 0.093586,
     "end_time": "2020-12-02T18:43:54.017042",
     "exception": false,
     "start_time": "2020-12-02T18:43:53.923456",
     "status": "completed"
    },
    "tags": []
   },
   "outputs": [
    {
     "data": {
      "text/html": [
       "<div>\n",
       "<style scoped>\n",
       "    .dataframe tbody tr th:only-of-type {\n",
       "        vertical-align: middle;\n",
       "    }\n",
       "\n",
       "    .dataframe tbody tr th {\n",
       "        vertical-align: top;\n",
       "    }\n",
       "\n",
       "    .dataframe thead th {\n",
       "        text-align: right;\n",
       "    }\n",
       "</style>\n",
       "<table border=\"1\" class=\"dataframe\">\n",
       "  <thead>\n",
       "    <tr style=\"text-align: right;\">\n",
       "      <th></th>\n",
       "      <th>0</th>\n",
       "      <th>1</th>\n",
       "      <th>2</th>\n",
       "      <th>3</th>\n",
       "      <th>4</th>\n",
       "      <th>5</th>\n",
       "      <th>6</th>\n",
       "      <th>7</th>\n",
       "      <th>8</th>\n",
       "      <th>9</th>\n",
       "    </tr>\n",
       "  </thead>\n",
       "  <tbody>\n",
       "    <tr>\n",
       "      <th>2</th>\n",
       "      <td>1.000000</td>\n",
       "      <td>1.000000</td>\n",
       "      <td>1.000000</td>\n",
       "      <td>1.000000</td>\n",
       "      <td>1.000000</td>\n",
       "      <td>1.000000</td>\n",
       "      <td>1.000000</td>\n",
       "      <td>1.000000</td>\n",
       "      <td>1.000000</td>\n",
       "      <td>1.000000</td>\n",
       "    </tr>\n",
       "    <tr>\n",
       "      <th>3</th>\n",
       "      <td>0.994362</td>\n",
       "      <td>0.994362</td>\n",
       "      <td>0.948876</td>\n",
       "      <td>0.999807</td>\n",
       "      <td>1.000000</td>\n",
       "      <td>0.954285</td>\n",
       "      <td>0.994548</td>\n",
       "      <td>0.954285</td>\n",
       "      <td>0.994548</td>\n",
       "      <td>0.949037</td>\n",
       "    </tr>\n",
       "    <tr>\n",
       "      <th>4</th>\n",
       "      <td>1.000000</td>\n",
       "      <td>0.999825</td>\n",
       "      <td>1.000000</td>\n",
       "      <td>1.000000</td>\n",
       "      <td>0.999825</td>\n",
       "      <td>1.000000</td>\n",
       "      <td>1.000000</td>\n",
       "      <td>0.999825</td>\n",
       "      <td>0.999825</td>\n",
       "      <td>1.000000</td>\n",
       "    </tr>\n",
       "    <tr>\n",
       "      <th>5</th>\n",
       "      <td>0.875863</td>\n",
       "      <td>0.887689</td>\n",
       "      <td>0.875863</td>\n",
       "      <td>0.875863</td>\n",
       "      <td>0.985206</td>\n",
       "      <td>1.000000</td>\n",
       "      <td>1.000000</td>\n",
       "      <td>0.985206</td>\n",
       "      <td>0.985206</td>\n",
       "      <td>1.000000</td>\n",
       "    </tr>\n",
       "    <tr>\n",
       "      <th>6</th>\n",
       "      <td>0.687767</td>\n",
       "      <td>0.977985</td>\n",
       "      <td>0.977524</td>\n",
       "      <td>0.977937</td>\n",
       "      <td>0.675709</td>\n",
       "      <td>0.675443</td>\n",
       "      <td>0.675672</td>\n",
       "      <td>0.999306</td>\n",
       "      <td>0.999886</td>\n",
       "      <td>0.999337</td>\n",
       "    </tr>\n",
       "  </tbody>\n",
       "</table>\n",
       "</div>"
      ],
      "text/plain": [
       "          0         1         2         3         4         5         6  \\\n",
       "2  1.000000  1.000000  1.000000  1.000000  1.000000  1.000000  1.000000   \n",
       "3  0.994362  0.994362  0.948876  0.999807  1.000000  0.954285  0.994548   \n",
       "4  1.000000  0.999825  1.000000  1.000000  0.999825  1.000000  1.000000   \n",
       "5  0.875863  0.887689  0.875863  0.875863  0.985206  1.000000  1.000000   \n",
       "6  0.687767  0.977985  0.977524  0.977937  0.675709  0.675443  0.675672   \n",
       "\n",
       "          7         8         9  \n",
       "2  1.000000  1.000000  1.000000  \n",
       "3  0.954285  0.994548  0.949037  \n",
       "4  0.999825  0.999825  1.000000  \n",
       "5  0.985206  0.985206  1.000000  \n",
       "6  0.999306  0.999886  0.999337  "
      ]
     },
     "execution_count": 43,
     "metadata": {},
     "output_type": "execute_result"
    }
   ],
   "source": [
    "parts_ari_df.head()"
   ]
  },
  {
   "cell_type": "markdown",
   "metadata": {
    "papermill": {
     "duration": 0.070752,
     "end_time": "2020-12-02T18:43:54.160846",
     "exception": false,
     "start_time": "2020-12-02T18:43:54.090094",
     "status": "completed"
    },
    "tags": []
   },
   "source": [
    "## Save"
   ]
  },
  {
   "cell_type": "code",
   "execution_count": 44,
   "metadata": {
    "execution": {
     "iopub.execute_input": "2020-12-02T18:43:54.305199Z",
     "iopub.status.busy": "2020-12-02T18:43:54.304831Z",
     "iopub.status.idle": "2020-12-02T18:43:54.317766Z",
     "shell.execute_reply": "2020-12-02T18:43:54.317404Z"
    },
    "papermill": {
     "duration": 0.086123,
     "end_time": "2020-12-02T18:43:54.317852",
     "exception": false,
     "start_time": "2020-12-02T18:43:54.231729",
     "status": "completed"
    },
    "tags": []
   },
   "outputs": [
    {
     "data": {
      "text/plain": [
       "PosixPath('/home/miltondp/projects/labs/greenelab/phenoplier/base/results/clustering/runs/z_score_std-projection-smultixcan-efo_partial-mashr-zscores/KMeans-stability-KMEANS_N_INIT_10-K_MAX_60-K_MIN_2-N_REPS_PER_K_5.pkl')"
      ]
     },
     "metadata": {},
     "output_type": "display_data"
    }
   ],
   "source": [
    "output_filename = Path(\n",
    "    RESULTS_DIR,\n",
    "    generate_result_set_name(\n",
    "        CLUSTERING_OPTIONS,\n",
    "        prefix=f'{clustering_method_name}-stability-',\n",
    "        suffix='.pkl',\n",
    "    )\n",
    ").resolve()\n",
    "display(output_filename)"
   ]
  },
  {
   "cell_type": "code",
   "execution_count": 45,
   "metadata": {
    "execution": {
     "iopub.execute_input": "2020-12-02T18:43:54.468603Z",
     "iopub.status.busy": "2020-12-02T18:43:54.468241Z",
     "iopub.status.idle": "2020-12-02T18:43:54.480442Z",
     "shell.execute_reply": "2020-12-02T18:43:54.480743Z"
    },
    "papermill": {
     "duration": 0.089318,
     "end_time": "2020-12-02T18:43:54.480862",
     "exception": false,
     "start_time": "2020-12-02T18:43:54.391544",
     "status": "completed"
    },
    "tags": []
   },
   "outputs": [],
   "source": [
    "parts_ari_df.to_pickle(output_filename)"
   ]
  },
  {
   "cell_type": "markdown",
   "metadata": {
    "papermill": {
     "duration": 0.07067,
     "end_time": "2020-12-02T18:43:54.623657",
     "exception": false,
     "start_time": "2020-12-02T18:43:54.552987",
     "status": "completed"
    },
    "tags": []
   },
   "source": [
    "## Stability plot"
   ]
  },
  {
   "cell_type": "code",
   "execution_count": 46,
   "metadata": {
    "execution": {
     "iopub.execute_input": "2020-12-02T18:43:54.769603Z",
     "iopub.status.busy": "2020-12-02T18:43:54.769238Z",
     "iopub.status.idle": "2020-12-02T18:43:54.782973Z",
     "shell.execute_reply": "2020-12-02T18:43:54.782595Z"
    },
    "papermill": {
     "duration": 0.087657,
     "end_time": "2020-12-02T18:43:54.783062",
     "exception": false,
     "start_time": "2020-12-02T18:43:54.695405",
     "status": "completed"
    },
    "tags": []
   },
   "outputs": [],
   "source": [
    "parts_ari_df_plot = parts_ari_df.stack().reset_index().rename(columns={'level_0': 'k', 'level_1': 'idx', 0: 'ari'})"
   ]
  },
  {
   "cell_type": "code",
   "execution_count": 47,
   "metadata": {
    "execution": {
     "iopub.execute_input": "2020-12-02T18:43:54.929608Z",
     "iopub.status.busy": "2020-12-02T18:43:54.929239Z",
     "iopub.status.idle": "2020-12-02T18:43:54.942959Z",
     "shell.execute_reply": "2020-12-02T18:43:54.942578Z"
    },
    "papermill": {
     "duration": 0.087785,
     "end_time": "2020-12-02T18:43:54.943047",
     "exception": false,
     "start_time": "2020-12-02T18:43:54.855262",
     "status": "completed"
    },
    "tags": []
   },
   "outputs": [
    {
     "data": {
      "text/plain": [
       "k        int64\n",
       "idx      int64\n",
       "ari    float64\n",
       "dtype: object"
      ]
     },
     "execution_count": 47,
     "metadata": {},
     "output_type": "execute_result"
    }
   ],
   "source": [
    "parts_ari_df_plot.dtypes"
   ]
  },
  {
   "cell_type": "code",
   "execution_count": 48,
   "metadata": {
    "execution": {
     "iopub.execute_input": "2020-12-02T18:43:55.089149Z",
     "iopub.status.busy": "2020-12-02T18:43:55.088778Z",
     "iopub.status.idle": "2020-12-02T18:43:55.103655Z",
     "shell.execute_reply": "2020-12-02T18:43:55.103280Z"
    },
    "papermill": {
     "duration": 0.088645,
     "end_time": "2020-12-02T18:43:55.103744",
     "exception": false,
     "start_time": "2020-12-02T18:43:55.015099",
     "status": "completed"
    },
    "tags": []
   },
   "outputs": [
    {
     "data": {
      "text/html": [
       "<div>\n",
       "<style scoped>\n",
       "    .dataframe tbody tr th:only-of-type {\n",
       "        vertical-align: middle;\n",
       "    }\n",
       "\n",
       "    .dataframe tbody tr th {\n",
       "        vertical-align: top;\n",
       "    }\n",
       "\n",
       "    .dataframe thead th {\n",
       "        text-align: right;\n",
       "    }\n",
       "</style>\n",
       "<table border=\"1\" class=\"dataframe\">\n",
       "  <thead>\n",
       "    <tr style=\"text-align: right;\">\n",
       "      <th></th>\n",
       "      <th>k</th>\n",
       "      <th>idx</th>\n",
       "      <th>ari</th>\n",
       "    </tr>\n",
       "  </thead>\n",
       "  <tbody>\n",
       "    <tr>\n",
       "      <th>0</th>\n",
       "      <td>2</td>\n",
       "      <td>0</td>\n",
       "      <td>1.0</td>\n",
       "    </tr>\n",
       "    <tr>\n",
       "      <th>1</th>\n",
       "      <td>2</td>\n",
       "      <td>1</td>\n",
       "      <td>1.0</td>\n",
       "    </tr>\n",
       "    <tr>\n",
       "      <th>2</th>\n",
       "      <td>2</td>\n",
       "      <td>2</td>\n",
       "      <td>1.0</td>\n",
       "    </tr>\n",
       "    <tr>\n",
       "      <th>3</th>\n",
       "      <td>2</td>\n",
       "      <td>3</td>\n",
       "      <td>1.0</td>\n",
       "    </tr>\n",
       "    <tr>\n",
       "      <th>4</th>\n",
       "      <td>2</td>\n",
       "      <td>4</td>\n",
       "      <td>1.0</td>\n",
       "    </tr>\n",
       "  </tbody>\n",
       "</table>\n",
       "</div>"
      ],
      "text/plain": [
       "   k  idx  ari\n",
       "0  2    0  1.0\n",
       "1  2    1  1.0\n",
       "2  2    2  1.0\n",
       "3  2    3  1.0\n",
       "4  2    4  1.0"
      ]
     },
     "execution_count": 48,
     "metadata": {},
     "output_type": "execute_result"
    }
   ],
   "source": [
    "parts_ari_df_plot.head()"
   ]
  },
  {
   "cell_type": "code",
   "execution_count": 49,
   "metadata": {
    "execution": {
     "iopub.execute_input": "2020-12-02T18:43:55.250879Z",
     "iopub.status.busy": "2020-12-02T18:43:55.250492Z",
     "iopub.status.idle": "2020-12-02T18:43:58.113602Z",
     "shell.execute_reply": "2020-12-02T18:43:58.113901Z"
    },
    "papermill": {
     "duration": 2.938061,
     "end_time": "2020-12-02T18:43:58.114009",
     "exception": false,
     "start_time": "2020-12-02T18:43:55.175948",
     "status": "completed"
    },
    "tags": []
   },
   "outputs": [
    {
     "data": {
      "image/png": "[encoded data removed]",
      "text/plain": [
       "<Figure size 864x432 with 1 Axes>"
      ]
     },
     "metadata": {},
     "output_type": "display_data"
    }
   ],
   "source": [
    "# with sns.axes_style('whitegrid', {'grid.linestyle': '--'}):\n",
    "with sns.plotting_context('talk', font_scale=0.75), sns.axes_style('whitegrid', {'grid.linestyle': '--'}):\n",
    "    fig = plt.figure(figsize=(12, 6))\n",
    "    ax = sns.pointplot(data=parts_ari_df_plot, x='k', y='ari')\n",
    "    ax.set_ylabel('Averange ARI')\n",
    "    ax.set_xlabel('Number of clusters ($k$)')\n",
    "    ax.set_xticklabels(ax.get_xticklabels(), rotation=45)\n",
    "#     ax.set_ylim(0.0, 1.0)\n",
    "#     ax.set_xlim(CLUSTERING_OPTIONS['K_MIN'], CLUSTERING_OPTIONS['K_MAX'])\n",
    "    plt.grid(True)\n",
    "    plt.tight_layout()"
   ]
  },
  {
   "cell_type": "code",
   "execution_count": null,
   "metadata": {
    "papermill": {
     "duration": 0.071793,
     "end_time": "2020-12-02T18:43:58.260068",
     "exception": false,
     "start_time": "2020-12-02T18:43:58.188275",
     "status": "completed"
    },
    "tags": []
   },
   "outputs": [],
   "source": []
  }
 ],
 "metadata": {
  "jupytext": {
   "formats": "ipynb,py//py:percent"
  },
  "kernelspec": {
   "display_name": "Python 3",
   "language": "python",
   "name": "python3"
  },
  "language_info": {
   "codemirror_mode": {
    "name": "ipython",
    "version": 3
   },
   "file_extension": ".py",
   "mimetype": "text/x-python",
   "name": "python",
   "nbconvert_exporter": "python",
   "pygments_lexer": "ipython3",
   "version": "3.8.6"
  },
  "papermill": {
   "default_parameters": {},
   "duration": 1317.992207,
   "end_time": "2020-12-02T18:43:58.838882",
   "environment_variables": {},
   "exception": null,
   "input_path": "15_cluster_analysis/000_00-projection_smultixcan_efo-z_score_std-clustering_kmeans.ipynb",
   "output_path": "15_cluster_analysis/000_00-projection_smultixcan_efo-z_score_std-clustering_kmeans.run.ipynb",
   "parameters": {},
   "start_time": "2020-12-02T18:22:00.846675",
   "version": "2.2.2"
  },
  "toc-autonumbering": true,
  "toc-showcode": false,
  "toc-showmarkdowntxt": false,
  "toc-showtags": false
 },
 "nbformat": 4,
 "nbformat_minor": 4
}
