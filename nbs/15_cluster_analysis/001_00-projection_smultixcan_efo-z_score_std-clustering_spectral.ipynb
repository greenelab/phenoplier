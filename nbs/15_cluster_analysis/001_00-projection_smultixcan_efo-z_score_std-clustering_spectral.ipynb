{
 "cells": [
  {
   "cell_type": "markdown",
   "metadata": {
    "papermill": {
     "duration": 0.056657,
     "end_time": "2020-12-02T18:56:32.875092",
     "exception": false,
     "start_time": "2020-12-02T18:56:32.818435",
     "status": "completed"
    },
    "tags": []
   },
   "source": [
    "# Description"
   ]
  },
  {
   "cell_type": "markdown",
   "metadata": {
    "papermill": {
     "duration": 0.019378,
     "end_time": "2020-12-02T18:56:32.915019",
     "exception": false,
     "start_time": "2020-12-02T18:56:32.895641",
     "status": "completed"
    },
    "tags": []
   },
   "source": [
    "Runs spectral clustering on the z_score_std version of the data."
   ]
  },
  {
   "cell_type": "markdown",
   "metadata": {
    "papermill": {
     "duration": 0.019439,
     "end_time": "2020-12-02T18:56:32.954066",
     "exception": false,
     "start_time": "2020-12-02T18:56:32.934627",
     "status": "completed"
    },
    "tags": []
   },
   "source": [
    "# Environment variables"
   ]
  },
  {
   "cell_type": "code",
   "execution_count": 1,
   "metadata": {
    "execution": {
     "iopub.execute_input": "2020-12-02T18:56:32.996190Z",
     "iopub.status.busy": "2020-12-02T18:56:32.995820Z",
     "iopub.status.idle": "2020-12-02T18:56:33.006741Z",
     "shell.execute_reply": "2020-12-02T18:56:33.006314Z"
    },
    "papermill": {
     "duration": 0.033341,
     "end_time": "2020-12-02T18:56:33.006860",
     "exception": false,
     "start_time": "2020-12-02T18:56:32.973519",
     "status": "completed"
    },
    "tags": []
   },
   "outputs": [
    {
     "data": {
      "text/plain": [
       "3"
      ]
     },
     "metadata": {},
     "output_type": "display_data"
    }
   ],
   "source": [
    "from IPython.display import display\n",
    "\n",
    "import conf\n",
    "\n",
    "N_JOBS = conf.GENERAL['N_JOBS']\n",
    "display(N_JOBS)"
   ]
  },
  {
   "cell_type": "code",
   "execution_count": 2,
   "metadata": {
    "execution": {
     "iopub.execute_input": "2020-12-02T18:56:33.052079Z",
     "iopub.status.busy": "2020-12-02T18:56:33.051689Z",
     "iopub.status.idle": "2020-12-02T18:56:33.054031Z",
     "shell.execute_reply": "2020-12-02T18:56:33.053702Z"
    },
    "papermill": {
     "duration": 0.026988,
     "end_time": "2020-12-02T18:56:33.054115",
     "exception": false,
     "start_time": "2020-12-02T18:56:33.027127",
     "status": "completed"
    },
    "tags": []
   },
   "outputs": [
    {
     "name": "stdout",
     "output_type": "stream",
     "text": [
      "env: MKL_NUM_THREADS=3\n",
      "env: OPEN_BLAS_NUM_THREADS=3\n",
      "env: NUMEXPR_NUM_THREADS=3\n",
      "env: OMP_NUM_THREADS=3\n"
     ]
    }
   ],
   "source": [
    "%env MKL_NUM_THREADS=$N_JOBS\n",
    "%env OPEN_BLAS_NUM_THREADS=$N_JOBS\n",
    "%env NUMEXPR_NUM_THREADS=$N_JOBS\n",
    "%env OMP_NUM_THREADS=$N_JOBS"
   ]
  },
  {
   "cell_type": "markdown",
   "metadata": {
    "papermill": {
     "duration": 0.019958,
     "end_time": "2020-12-02T18:56:33.094388",
     "exception": false,
     "start_time": "2020-12-02T18:56:33.074430",
     "status": "completed"
    },
    "tags": []
   },
   "source": [
    "# Modules loading"
   ]
  },
  {
   "cell_type": "code",
   "execution_count": 3,
   "metadata": {
    "execution": {
     "iopub.execute_input": "2020-12-02T18:56:33.137564Z",
     "iopub.status.busy": "2020-12-02T18:56:33.137192Z",
     "iopub.status.idle": "2020-12-02T18:56:33.145379Z",
     "shell.execute_reply": "2020-12-02T18:56:33.145022Z"
    },
    "papermill": {
     "duration": 0.030897,
     "end_time": "2020-12-02T18:56:33.145465",
     "exception": false,
     "start_time": "2020-12-02T18:56:33.114568",
     "status": "completed"
    },
    "tags": []
   },
   "outputs": [],
   "source": [
    "%load_ext autoreload\n",
    "%autoreload 2"
   ]
  },
  {
   "cell_type": "code",
   "execution_count": 4,
   "metadata": {
    "execution": {
     "iopub.execute_input": "2020-12-02T18:56:33.188651Z",
     "iopub.status.busy": "2020-12-02T18:56:33.188287Z",
     "iopub.status.idle": "2020-12-02T18:56:34.790666Z",
     "shell.execute_reply": "2020-12-02T18:56:34.790999Z"
    },
    "papermill": {
     "duration": 1.625233,
     "end_time": "2020-12-02T18:56:34.791127",
     "exception": false,
     "start_time": "2020-12-02T18:56:33.165894",
     "status": "completed"
    },
    "tags": []
   },
   "outputs": [],
   "source": [
    "from pathlib import Path\n",
    "\n",
    "import numpy as np\n",
    "import pandas as pd\n",
    "import umap\n",
    "import matplotlib.pyplot as plt\n",
    "import seaborn as sns\n",
    "\n",
    "from utils import generate_result_set_name"
   ]
  },
  {
   "cell_type": "markdown",
   "metadata": {
    "papermill": {
     "duration": 0.020541,
     "end_time": "2020-12-02T18:56:34.834353",
     "exception": false,
     "start_time": "2020-12-02T18:56:34.813812",
     "status": "completed"
    },
    "tags": []
   },
   "source": [
    "# Settings"
   ]
  },
  {
   "cell_type": "code",
   "execution_count": 5,
   "metadata": {
    "execution": {
     "iopub.execute_input": "2020-12-02T18:56:34.877476Z",
     "iopub.status.busy": "2020-12-02T18:56:34.877110Z",
     "iopub.status.idle": "2020-12-02T18:56:34.888996Z",
     "shell.execute_reply": "2020-12-02T18:56:34.888619Z"
    },
    "papermill": {
     "duration": 0.034437,
     "end_time": "2020-12-02T18:56:34.889084",
     "exception": false,
     "start_time": "2020-12-02T18:56:34.854647",
     "status": "completed"
    },
    "tags": []
   },
   "outputs": [],
   "source": [
    "INITIAL_RANDOM_STATE = 30000"
   ]
  },
  {
   "cell_type": "markdown",
   "metadata": {
    "papermill": {
     "duration": 0.0198,
     "end_time": "2020-12-02T18:56:34.929655",
     "exception": false,
     "start_time": "2020-12-02T18:56:34.909855",
     "status": "completed"
    },
    "tags": []
   },
   "source": [
    "## Input data"
   ]
  },
  {
   "cell_type": "code",
   "execution_count": 6,
   "metadata": {
    "execution": {
     "iopub.execute_input": "2020-12-02T18:56:34.972207Z",
     "iopub.status.busy": "2020-12-02T18:56:34.971849Z",
     "iopub.status.idle": "2020-12-02T18:56:34.984167Z",
     "shell.execute_reply": "2020-12-02T18:56:34.983822Z"
    },
    "papermill": {
     "duration": 0.034492,
     "end_time": "2020-12-02T18:56:34.984258",
     "exception": false,
     "start_time": "2020-12-02T18:56:34.949766",
     "status": "completed"
    },
    "tags": []
   },
   "outputs": [],
   "source": [
    "INPUT_SUBSET = 'z_score_std'"
   ]
  },
  {
   "cell_type": "code",
   "execution_count": 7,
   "metadata": {
    "execution": {
     "iopub.execute_input": "2020-12-02T18:56:35.027102Z",
     "iopub.status.busy": "2020-12-02T18:56:35.026744Z",
     "iopub.status.idle": "2020-12-02T18:56:35.038529Z",
     "shell.execute_reply": "2020-12-02T18:56:35.038140Z"
    },
    "papermill": {
     "duration": 0.034083,
     "end_time": "2020-12-02T18:56:35.038619",
     "exception": false,
     "start_time": "2020-12-02T18:56:35.004536",
     "status": "completed"
    },
    "tags": []
   },
   "outputs": [],
   "source": [
    "INPUT_STEM = 'projection-smultixcan-efo_partial-mashr-zscores'"
   ]
  },
  {
   "cell_type": "code",
   "execution_count": 8,
   "metadata": {
    "execution": {
     "iopub.execute_input": "2020-12-02T18:56:35.083864Z",
     "iopub.status.busy": "2020-12-02T18:56:35.083502Z",
     "iopub.status.idle": "2020-12-02T18:56:35.097321Z",
     "shell.execute_reply": "2020-12-02T18:56:35.097007Z"
    },
    "papermill": {
     "duration": 0.037262,
     "end_time": "2020-12-02T18:56:35.097414",
     "exception": false,
     "start_time": "2020-12-02T18:56:35.060152",
     "status": "completed"
    },
    "tags": []
   },
   "outputs": [
    {
     "data": {
      "text/plain": [
       "PosixPath('/home/miltondp/projects/labs/greenelab/phenoplier/base/results/data_transformations/z_score_std/z_score_std-projection-smultixcan-efo_partial-mashr-zscores.pkl')"
      ]
     },
     "metadata": {},
     "output_type": "display_data"
    },
    {
     "data": {
      "text/plain": [
       "'z_score_std-projection-smultixcan-efo_partial-mashr-zscores'"
      ]
     },
     "metadata": {},
     "output_type": "display_data"
    }
   ],
   "source": [
    "input_filepath = Path(\n",
    "    conf.RESULTS[\"DATA_TRANSFORMATIONS_DIR\"],\n",
    "    INPUT_SUBSET,\n",
    "    f'{INPUT_SUBSET}-{INPUT_STEM}.pkl',\n",
    ").resolve()\n",
    "display(input_filepath)\n",
    "\n",
    "assert input_filepath.exists(), 'Input file does not exist'\n",
    "\n",
    "input_filepath_stem = input_filepath.stem\n",
    "display(input_filepath_stem)"
   ]
  },
  {
   "cell_type": "markdown",
   "metadata": {
    "papermill": {
     "duration": 0.020581,
     "end_time": "2020-12-02T18:56:35.139806",
     "exception": false,
     "start_time": "2020-12-02T18:56:35.119225",
     "status": "completed"
    },
    "tags": []
   },
   "source": [
    "## Clustering"
   ]
  },
  {
   "cell_type": "code",
   "execution_count": 9,
   "metadata": {
    "execution": {
     "iopub.execute_input": "2020-12-02T18:56:35.183699Z",
     "iopub.status.busy": "2020-12-02T18:56:35.183338Z",
     "iopub.status.idle": "2020-12-02T18:56:35.200912Z",
     "shell.execute_reply": "2020-12-02T18:56:35.201199Z"
    },
    "papermill": {
     "duration": 0.040915,
     "end_time": "2020-12-02T18:56:35.201312",
     "exception": false,
     "start_time": "2020-12-02T18:56:35.160397",
     "status": "completed"
    },
    "tags": []
   },
   "outputs": [],
   "source": [
    "from sklearn.cluster import SpectralClustering"
   ]
  },
  {
   "cell_type": "code",
   "execution_count": 10,
   "metadata": {
    "execution": {
     "iopub.execute_input": "2020-12-02T18:56:35.246639Z",
     "iopub.status.busy": "2020-12-02T18:56:35.246279Z",
     "iopub.status.idle": "2020-12-02T18:56:35.258367Z",
     "shell.execute_reply": "2020-12-02T18:56:35.258001Z"
    },
    "papermill": {
     "duration": 0.035633,
     "end_time": "2020-12-02T18:56:35.258455",
     "exception": false,
     "start_time": "2020-12-02T18:56:35.222822",
     "status": "completed"
    },
    "tags": []
   },
   "outputs": [],
   "source": [
    "CLUSTERING_ATTRIBUTES_TO_SAVE = ['n_clusters']"
   ]
  },
  {
   "cell_type": "code",
   "execution_count": 11,
   "metadata": {
    "execution": {
     "iopub.execute_input": "2020-12-02T18:56:35.303162Z",
     "iopub.status.busy": "2020-12-02T18:56:35.302790Z",
     "iopub.status.idle": "2020-12-02T18:56:35.315570Z",
     "shell.execute_reply": "2020-12-02T18:56:35.315844Z"
    },
    "papermill": {
     "duration": 0.036217,
     "end_time": "2020-12-02T18:56:35.315951",
     "exception": false,
     "start_time": "2020-12-02T18:56:35.279734",
     "status": "completed"
    },
    "tags": []
   },
   "outputs": [
    {
     "data": {
      "text/plain": [
       "{'K_MIN': 2,\n",
       " 'K_MAX': 60,\n",
       " 'N_REPS_PER_K': 5,\n",
       " 'KMEANS_N_INIT': 10,\n",
       " 'N_NEIGHBORS': 10,\n",
       " 'AFFINITY': 'nearest_neighbors'}"
      ]
     },
     "metadata": {},
     "output_type": "display_data"
    }
   ],
   "source": [
    "CLUSTERING_OPTIONS = {}\n",
    "\n",
    "CLUSTERING_OPTIONS['K_MIN'] = 2\n",
    "CLUSTERING_OPTIONS['K_MAX'] = 60 # sqrt(3749)\n",
    "CLUSTERING_OPTIONS['N_REPS_PER_K'] = 5\n",
    "CLUSTERING_OPTIONS['KMEANS_N_INIT'] = 10\n",
    "CLUSTERING_OPTIONS['N_NEIGHBORS'] = 10\n",
    "CLUSTERING_OPTIONS['AFFINITY'] = 'nearest_neighbors'\n",
    "\n",
    "display(CLUSTERING_OPTIONS)"
   ]
  },
  {
   "cell_type": "code",
   "execution_count": 12,
   "metadata": {
    "execution": {
     "iopub.execute_input": "2020-12-02T18:56:35.362312Z",
     "iopub.status.busy": "2020-12-02T18:56:35.361945Z",
     "iopub.status.idle": "2020-12-02T18:56:35.375075Z",
     "shell.execute_reply": "2020-12-02T18:56:35.374704Z"
    },
    "papermill": {
     "duration": 0.037917,
     "end_time": "2020-12-02T18:56:35.375164",
     "exception": false,
     "start_time": "2020-12-02T18:56:35.337247",
     "status": "completed"
    },
    "tags": []
   },
   "outputs": [],
   "source": [
    "CLUSTERERS = {}\n",
    "\n",
    "idx = 0\n",
    "random_state = INITIAL_RANDOM_STATE\n",
    "\n",
    "for k in range(CLUSTERING_OPTIONS['K_MIN'], CLUSTERING_OPTIONS['K_MAX']+1):\n",
    "    for i in range(CLUSTERING_OPTIONS['N_REPS_PER_K']):\n",
    "        clus = SpectralClustering(\n",
    "                n_clusters=k,\n",
    "                n_init=CLUSTERING_OPTIONS['KMEANS_N_INIT'],\n",
    "                affinity=CLUSTERING_OPTIONS['AFFINITY'],\n",
    "                n_neighbors=CLUSTERING_OPTIONS['N_NEIGHBORS'],\n",
    "                random_state=random_state,\n",
    "            )\n",
    "        \n",
    "        method_name = type(clus).__name__\n",
    "        CLUSTERERS[f'{method_name} #{idx}'] = clus\n",
    "        \n",
    "        random_state = random_state + 1\n",
    "        idx = idx + 1"
   ]
  },
  {
   "cell_type": "code",
   "execution_count": 13,
   "metadata": {
    "execution": {
     "iopub.execute_input": "2020-12-02T18:56:35.419051Z",
     "iopub.status.busy": "2020-12-02T18:56:35.418696Z",
     "iopub.status.idle": "2020-12-02T18:56:35.431172Z",
     "shell.execute_reply": "2020-12-02T18:56:35.430806Z"
    },
    "papermill": {
     "duration": 0.035289,
     "end_time": "2020-12-02T18:56:35.431257",
     "exception": false,
     "start_time": "2020-12-02T18:56:35.395968",
     "status": "completed"
    },
    "tags": []
   },
   "outputs": [
    {
     "data": {
      "text/plain": [
       "295"
      ]
     },
     "metadata": {},
     "output_type": "display_data"
    }
   ],
   "source": [
    "display(len(CLUSTERERS))"
   ]
  },
  {
   "cell_type": "code",
   "execution_count": 14,
   "metadata": {
    "execution": {
     "iopub.execute_input": "2020-12-02T18:56:35.476506Z",
     "iopub.status.busy": "2020-12-02T18:56:35.476135Z",
     "iopub.status.idle": "2020-12-02T18:56:35.490563Z",
     "shell.execute_reply": "2020-12-02T18:56:35.490865Z"
    },
    "papermill": {
     "duration": 0.038178,
     "end_time": "2020-12-02T18:56:35.490971",
     "exception": false,
     "start_time": "2020-12-02T18:56:35.452793",
     "status": "completed"
    },
    "tags": []
   },
   "outputs": [
    {
     "data": {
      "text/plain": [
       "('SpectralClustering #0',\n",
       " SpectralClustering(affinity='nearest_neighbors', n_clusters=2,\n",
       "                    random_state=30000))"
      ]
     },
     "metadata": {},
     "output_type": "display_data"
    },
    {
     "data": {
      "text/plain": [
       "('SpectralClustering #1',\n",
       " SpectralClustering(affinity='nearest_neighbors', n_clusters=2,\n",
       "                    random_state=30001))"
      ]
     },
     "metadata": {},
     "output_type": "display_data"
    }
   ],
   "source": [
    "_iter = iter(CLUSTERERS.items())\n",
    "display(next(_iter))\n",
    "display(next(_iter))"
   ]
  },
  {
   "cell_type": "code",
   "execution_count": 15,
   "metadata": {
    "execution": {
     "iopub.execute_input": "2020-12-02T18:56:35.539914Z",
     "iopub.status.busy": "2020-12-02T18:56:35.539487Z",
     "iopub.status.idle": "2020-12-02T18:56:35.552448Z",
     "shell.execute_reply": "2020-12-02T18:56:35.552052Z"
    },
    "papermill": {
     "duration": 0.038482,
     "end_time": "2020-12-02T18:56:35.552539",
     "exception": false,
     "start_time": "2020-12-02T18:56:35.514057",
     "status": "completed"
    },
    "tags": []
   },
   "outputs": [
    {
     "data": {
      "text/plain": [
       "'SpectralClustering'"
      ]
     },
     "metadata": {},
     "output_type": "display_data"
    }
   ],
   "source": [
    "clustering_method_name = method_name\n",
    "display(clustering_method_name)"
   ]
  },
  {
   "cell_type": "markdown",
   "metadata": {
    "papermill": {
     "duration": 0.021954,
     "end_time": "2020-12-02T18:56:35.598393",
     "exception": false,
     "start_time": "2020-12-02T18:56:35.576439",
     "status": "completed"
    },
    "tags": []
   },
   "source": [
    "## Output directory"
   ]
  },
  {
   "cell_type": "code",
   "execution_count": 16,
   "metadata": {
    "execution": {
     "iopub.execute_input": "2020-12-02T18:56:35.644533Z",
     "iopub.status.busy": "2020-12-02T18:56:35.644160Z",
     "iopub.status.idle": "2020-12-02T18:56:35.657456Z",
     "shell.execute_reply": "2020-12-02T18:56:35.657140Z"
    },
    "papermill": {
     "duration": 0.037373,
     "end_time": "2020-12-02T18:56:35.657548",
     "exception": false,
     "start_time": "2020-12-02T18:56:35.620175",
     "status": "completed"
    },
    "tags": []
   },
   "outputs": [
    {
     "data": {
      "text/plain": [
       "PosixPath('/home/miltondp/projects/labs/greenelab/phenoplier/base/results/clustering/runs/z_score_std-projection-smultixcan-efo_partial-mashr-zscores')"
      ]
     },
     "metadata": {},
     "output_type": "display_data"
    }
   ],
   "source": [
    "# output dir for this notebook\n",
    "RESULTS_DIR = Path(\n",
    "    conf.RESULTS[\"CLUSTERING_RUNS_DIR\"],\n",
    "    f'{INPUT_SUBSET}-{INPUT_STEM}',\n",
    ").resolve()\n",
    "RESULTS_DIR.mkdir(parents=True, exist_ok=True)\n",
    "\n",
    "display(RESULTS_DIR)"
   ]
  },
  {
   "cell_type": "markdown",
   "metadata": {
    "papermill": {
     "duration": 0.021925,
     "end_time": "2020-12-02T18:56:35.701847",
     "exception": false,
     "start_time": "2020-12-02T18:56:35.679922",
     "status": "completed"
    },
    "tags": []
   },
   "source": [
    "# Load input file"
   ]
  },
  {
   "cell_type": "code",
   "execution_count": 17,
   "metadata": {
    "execution": {
     "iopub.execute_input": "2020-12-02T18:56:35.747903Z",
     "iopub.status.busy": "2020-12-02T18:56:35.747544Z",
     "iopub.status.idle": "2020-12-02T18:56:35.771856Z",
     "shell.execute_reply": "2020-12-02T18:56:35.771438Z"
    },
    "papermill": {
     "duration": 0.048388,
     "end_time": "2020-12-02T18:56:35.771954",
     "exception": false,
     "start_time": "2020-12-02T18:56:35.723566",
     "status": "completed"
    },
    "tags": []
   },
   "outputs": [],
   "source": [
    "data = pd.read_pickle(input_filepath)"
   ]
  },
  {
   "cell_type": "code",
   "execution_count": 18,
   "metadata": {
    "execution": {
     "iopub.execute_input": "2020-12-02T18:56:35.820572Z",
     "iopub.status.busy": "2020-12-02T18:56:35.820185Z",
     "iopub.status.idle": "2020-12-02T18:56:35.833326Z",
     "shell.execute_reply": "2020-12-02T18:56:35.832987Z"
    },
    "papermill": {
     "duration": 0.037414,
     "end_time": "2020-12-02T18:56:35.833413",
     "exception": false,
     "start_time": "2020-12-02T18:56:35.795999",
     "status": "completed"
    },
    "tags": []
   },
   "outputs": [
    {
     "data": {
      "text/plain": [
       "(3749, 987)"
      ]
     },
     "execution_count": 18,
     "metadata": {},
     "output_type": "execute_result"
    }
   ],
   "source": [
    "data.shape"
   ]
  },
  {
   "cell_type": "code",
   "execution_count": 19,
   "metadata": {
    "execution": {
     "iopub.execute_input": "2020-12-02T18:56:35.881601Z",
     "iopub.status.busy": "2020-12-02T18:56:35.881243Z",
     "iopub.status.idle": "2020-12-02T18:56:35.906902Z",
     "shell.execute_reply": "2020-12-02T18:56:35.906520Z"
    },
    "papermill": {
     "duration": 0.050003,
     "end_time": "2020-12-02T18:56:35.906992",
     "exception": false,
     "start_time": "2020-12-02T18:56:35.856989",
     "status": "completed"
    },
    "tags": []
   },
   "outputs": [
    {
     "data": {
      "text/html": [
       "<div>\n",
       "<style scoped>\n",
       "    .dataframe tbody tr th:only-of-type {\n",
       "        vertical-align: middle;\n",
       "    }\n",
       "\n",
       "    .dataframe tbody tr th {\n",
       "        vertical-align: top;\n",
       "    }\n",
       "\n",
       "    .dataframe thead th {\n",
       "        text-align: right;\n",
       "    }\n",
       "</style>\n",
       "<table border=\"1\" class=\"dataframe\">\n",
       "  <thead>\n",
       "    <tr style=\"text-align: right;\">\n",
       "      <th></th>\n",
       "      <th>LV1</th>\n",
       "      <th>LV2</th>\n",
       "      <th>LV3</th>\n",
       "      <th>LV4</th>\n",
       "      <th>LV5</th>\n",
       "      <th>LV6</th>\n",
       "      <th>LV7</th>\n",
       "      <th>LV8</th>\n",
       "      <th>LV9</th>\n",
       "      <th>LV10</th>\n",
       "      <th>...</th>\n",
       "      <th>LV978</th>\n",
       "      <th>LV979</th>\n",
       "      <th>LV980</th>\n",
       "      <th>LV981</th>\n",
       "      <th>LV982</th>\n",
       "      <th>LV983</th>\n",
       "      <th>LV984</th>\n",
       "      <th>LV985</th>\n",
       "      <th>LV986</th>\n",
       "      <th>LV987</th>\n",
       "    </tr>\n",
       "  </thead>\n",
       "  <tbody>\n",
       "    <tr>\n",
       "      <th>100001_raw-Food_weight</th>\n",
       "      <td>-0.553743</td>\n",
       "      <td>1.851060</td>\n",
       "      <td>-0.095721</td>\n",
       "      <td>0.931603</td>\n",
       "      <td>-0.515196</td>\n",
       "      <td>1.371264</td>\n",
       "      <td>-0.413165</td>\n",
       "      <td>0.729668</td>\n",
       "      <td>0.546338</td>\n",
       "      <td>0.901153</td>\n",
       "      <td>...</td>\n",
       "      <td>1.148776</td>\n",
       "      <td>1.649018</td>\n",
       "      <td>-1.375952</td>\n",
       "      <td>2.203063</td>\n",
       "      <td>0.810199</td>\n",
       "      <td>-0.987048</td>\n",
       "      <td>0.277710</td>\n",
       "      <td>-0.607613</td>\n",
       "      <td>0.572376</td>\n",
       "      <td>-0.660846</td>\n",
       "    </tr>\n",
       "    <tr>\n",
       "      <th>100002_raw-Energy</th>\n",
       "      <td>-1.313905</td>\n",
       "      <td>-0.421015</td>\n",
       "      <td>-0.310524</td>\n",
       "      <td>-0.201978</td>\n",
       "      <td>0.233028</td>\n",
       "      <td>0.693838</td>\n",
       "      <td>0.084129</td>\n",
       "      <td>0.572439</td>\n",
       "      <td>0.217866</td>\n",
       "      <td>1.296973</td>\n",
       "      <td>...</td>\n",
       "      <td>0.165430</td>\n",
       "      <td>0.799276</td>\n",
       "      <td>-0.361989</td>\n",
       "      <td>-0.008253</td>\n",
       "      <td>2.063780</td>\n",
       "      <td>-0.930765</td>\n",
       "      <td>-0.147007</td>\n",
       "      <td>1.601938</td>\n",
       "      <td>-0.273553</td>\n",
       "      <td>-0.560822</td>\n",
       "    </tr>\n",
       "    <tr>\n",
       "      <th>100003_raw-Protein</th>\n",
       "      <td>-0.645622</td>\n",
       "      <td>-0.997845</td>\n",
       "      <td>0.249039</td>\n",
       "      <td>0.256499</td>\n",
       "      <td>0.422357</td>\n",
       "      <td>0.829189</td>\n",
       "      <td>-0.169004</td>\n",
       "      <td>0.511550</td>\n",
       "      <td>0.002389</td>\n",
       "      <td>-0.057200</td>\n",
       "      <td>...</td>\n",
       "      <td>1.016791</td>\n",
       "      <td>1.019488</td>\n",
       "      <td>-2.148844</td>\n",
       "      <td>-0.065130</td>\n",
       "      <td>0.041052</td>\n",
       "      <td>-0.836118</td>\n",
       "      <td>-0.320571</td>\n",
       "      <td>1.325519</td>\n",
       "      <td>-0.341494</td>\n",
       "      <td>-0.495786</td>\n",
       "    </tr>\n",
       "    <tr>\n",
       "      <th>100004_raw-Fat</th>\n",
       "      <td>-0.913924</td>\n",
       "      <td>-1.837183</td>\n",
       "      <td>0.012095</td>\n",
       "      <td>-1.301315</td>\n",
       "      <td>0.205794</td>\n",
       "      <td>1.129114</td>\n",
       "      <td>0.019985</td>\n",
       "      <td>0.376660</td>\n",
       "      <td>-0.810272</td>\n",
       "      <td>0.843611</td>\n",
       "      <td>...</td>\n",
       "      <td>0.544266</td>\n",
       "      <td>0.576714</td>\n",
       "      <td>0.281731</td>\n",
       "      <td>-0.218963</td>\n",
       "      <td>1.258957</td>\n",
       "      <td>-1.131924</td>\n",
       "      <td>0.378545</td>\n",
       "      <td>0.842047</td>\n",
       "      <td>-0.622194</td>\n",
       "      <td>-0.160058</td>\n",
       "    </tr>\n",
       "    <tr>\n",
       "      <th>100005_raw-Carbohydrate</th>\n",
       "      <td>-0.523004</td>\n",
       "      <td>0.131379</td>\n",
       "      <td>-0.097802</td>\n",
       "      <td>-0.030526</td>\n",
       "      <td>-0.021500</td>\n",
       "      <td>-0.219116</td>\n",
       "      <td>0.668229</td>\n",
       "      <td>0.365700</td>\n",
       "      <td>1.102347</td>\n",
       "      <td>0.845625</td>\n",
       "      <td>...</td>\n",
       "      <td>-0.344740</td>\n",
       "      <td>0.079274</td>\n",
       "      <td>0.253427</td>\n",
       "      <td>0.236474</td>\n",
       "      <td>1.033895</td>\n",
       "      <td>-0.229105</td>\n",
       "      <td>0.364793</td>\n",
       "      <td>1.776714</td>\n",
       "      <td>0.190531</td>\n",
       "      <td>-1.459641</td>\n",
       "    </tr>\n",
       "  </tbody>\n",
       "</table>\n",
       "<p>5 rows × 987 columns</p>\n",
       "</div>"
      ],
      "text/plain": [
       "                              LV1       LV2       LV3       LV4       LV5  \\\n",
       "100001_raw-Food_weight  -0.553743  1.851060 -0.095721  0.931603 -0.515196   \n",
       "100002_raw-Energy       -1.313905 -0.421015 -0.310524 -0.201978  0.233028   \n",
       "100003_raw-Protein      -0.645622 -0.997845  0.249039  0.256499  0.422357   \n",
       "100004_raw-Fat          -0.913924 -1.837183  0.012095 -1.301315  0.205794   \n",
       "100005_raw-Carbohydrate -0.523004  0.131379 -0.097802 -0.030526 -0.021500   \n",
       "\n",
       "                              LV6       LV7       LV8       LV9      LV10  \\\n",
       "100001_raw-Food_weight   1.371264 -0.413165  0.729668  0.546338  0.901153   \n",
       "100002_raw-Energy        0.693838  0.084129  0.572439  0.217866  1.296973   \n",
       "100003_raw-Protein       0.829189 -0.169004  0.511550  0.002389 -0.057200   \n",
       "100004_raw-Fat           1.129114  0.019985  0.376660 -0.810272  0.843611   \n",
       "100005_raw-Carbohydrate -0.219116  0.668229  0.365700  1.102347  0.845625   \n",
       "\n",
       "                         ...     LV978     LV979     LV980     LV981  \\\n",
       "100001_raw-Food_weight   ...  1.148776  1.649018 -1.375952  2.203063   \n",
       "100002_raw-Energy        ...  0.165430  0.799276 -0.361989 -0.008253   \n",
       "100003_raw-Protein       ...  1.016791  1.019488 -2.148844 -0.065130   \n",
       "100004_raw-Fat           ...  0.544266  0.576714  0.281731 -0.218963   \n",
       "100005_raw-Carbohydrate  ... -0.344740  0.079274  0.253427  0.236474   \n",
       "\n",
       "                            LV982     LV983     LV984     LV985     LV986  \\\n",
       "100001_raw-Food_weight   0.810199 -0.987048  0.277710 -0.607613  0.572376   \n",
       "100002_raw-Energy        2.063780 -0.930765 -0.147007  1.601938 -0.273553   \n",
       "100003_raw-Protein       0.041052 -0.836118 -0.320571  1.325519 -0.341494   \n",
       "100004_raw-Fat           1.258957 -1.131924  0.378545  0.842047 -0.622194   \n",
       "100005_raw-Carbohydrate  1.033895 -0.229105  0.364793  1.776714  0.190531   \n",
       "\n",
       "                            LV987  \n",
       "100001_raw-Food_weight  -0.660846  \n",
       "100002_raw-Energy       -0.560822  \n",
       "100003_raw-Protein      -0.495786  \n",
       "100004_raw-Fat          -0.160058  \n",
       "100005_raw-Carbohydrate -1.459641  \n",
       "\n",
       "[5 rows x 987 columns]"
      ]
     },
     "execution_count": 19,
     "metadata": {},
     "output_type": "execute_result"
    }
   ],
   "source": [
    "data.head()"
   ]
  },
  {
   "cell_type": "code",
   "execution_count": 20,
   "metadata": {
    "execution": {
     "iopub.execute_input": "2020-12-02T18:56:35.955437Z",
     "iopub.status.busy": "2020-12-02T18:56:35.955077Z",
     "iopub.status.idle": "2020-12-02T18:56:35.972089Z",
     "shell.execute_reply": "2020-12-02T18:56:35.972392Z"
    },
    "papermill": {
     "duration": 0.04232,
     "end_time": "2020-12-02T18:56:35.972513",
     "exception": false,
     "start_time": "2020-12-02T18:56:35.930193",
     "status": "completed"
    },
    "tags": []
   },
   "outputs": [],
   "source": [
    "assert not data.isna().any().any()"
   ]
  },
  {
   "cell_type": "markdown",
   "metadata": {
    "papermill": {
     "duration": 0.022953,
     "end_time": "2020-12-02T18:56:36.020280",
     "exception": false,
     "start_time": "2020-12-02T18:56:35.997327",
     "status": "completed"
    },
    "tags": []
   },
   "source": [
    "# Clustering"
   ]
  },
  {
   "cell_type": "markdown",
   "metadata": {
    "papermill": {
     "duration": 0.022279,
     "end_time": "2020-12-02T18:56:36.064949",
     "exception": false,
     "start_time": "2020-12-02T18:56:36.042670",
     "status": "completed"
    },
    "tags": []
   },
   "source": [
    "## Generate ensemble"
   ]
  },
  {
   "cell_type": "code",
   "execution_count": 21,
   "metadata": {
    "execution": {
     "iopub.execute_input": "2020-12-02T18:56:36.112388Z",
     "iopub.status.busy": "2020-12-02T18:56:36.112027Z",
     "iopub.status.idle": "2020-12-02T18:56:36.126574Z",
     "shell.execute_reply": "2020-12-02T18:56:36.126200Z"
    },
    "papermill": {
     "duration": 0.039289,
     "end_time": "2020-12-02T18:56:36.126663",
     "exception": false,
     "start_time": "2020-12-02T18:56:36.087374",
     "status": "completed"
    },
    "tags": []
   },
   "outputs": [],
   "source": [
    "from clustering.ensemble import generate_ensemble"
   ]
  },
  {
   "cell_type": "code",
   "execution_count": 22,
   "metadata": {
    "execution": {
     "iopub.execute_input": "2020-12-02T18:56:36.174235Z",
     "iopub.status.busy": "2020-12-02T18:56:36.173873Z",
     "iopub.status.idle": "2020-12-02T21:15:41.359453Z",
     "shell.execute_reply": "2020-12-02T21:15:41.358675Z"
    },
    "papermill": {
     "duration": 8345.210119,
     "end_time": "2020-12-02T21:15:41.359537",
     "exception": false,
     "start_time": "2020-12-02T18:56:36.149418",
     "status": "completed"
    },
    "tags": []
   },
   "outputs": [
    {
     "name": "stderr",
     "output_type": "stream",
     "text": [
      "100%|██████████| 295/295 [2:19:05<00:00, 28.29s/it]  \n"
     ]
    }
   ],
   "source": [
    "ensemble = generate_ensemble(\n",
    "    data,\n",
    "    CLUSTERERS,\n",
    "    attributes=CLUSTERING_ATTRIBUTES_TO_SAVE,\n",
    ")"
   ]
  },
  {
   "cell_type": "code",
   "execution_count": 23,
   "metadata": {
    "execution": {
     "iopub.execute_input": "2020-12-02T21:15:41.500278Z",
     "iopub.status.busy": "2020-12-02T21:15:41.499907Z",
     "iopub.status.idle": "2020-12-02T21:15:41.512710Z",
     "shell.execute_reply": "2020-12-02T21:15:41.513010Z"
    },
    "papermill": {
     "duration": 0.08423,
     "end_time": "2020-12-02T21:15:41.513117",
     "exception": false,
     "start_time": "2020-12-02T21:15:41.428887",
     "status": "completed"
    },
    "tags": []
   },
   "outputs": [
    {
     "data": {
      "text/plain": [
       "(295, 3)"
      ]
     },
     "execution_count": 23,
     "metadata": {},
     "output_type": "execute_result"
    }
   ],
   "source": [
    "# the number should be close to 295 (the number of partitions generated by k-means/spectral clustering)\n",
    "ensemble.shape"
   ]
  },
  {
   "cell_type": "code",
   "execution_count": 24,
   "metadata": {
    "execution": {
     "iopub.execute_input": "2020-12-02T21:15:41.653677Z",
     "iopub.status.busy": "2020-12-02T21:15:41.653298Z",
     "iopub.status.idle": "2020-12-02T21:15:41.674274Z",
     "shell.execute_reply": "2020-12-02T21:15:41.673900Z"
    },
    "papermill": {
     "duration": 0.092134,
     "end_time": "2020-12-02T21:15:41.674362",
     "exception": false,
     "start_time": "2020-12-02T21:15:41.582228",
     "status": "completed"
    },
    "tags": []
   },
   "outputs": [
    {
     "data": {
      "text/html": [
       "<div>\n",
       "<style scoped>\n",
       "    .dataframe tbody tr th:only-of-type {\n",
       "        vertical-align: middle;\n",
       "    }\n",
       "\n",
       "    .dataframe tbody tr th {\n",
       "        vertical-align: top;\n",
       "    }\n",
       "\n",
       "    .dataframe thead th {\n",
       "        text-align: right;\n",
       "    }\n",
       "</style>\n",
       "<table border=\"1\" class=\"dataframe\">\n",
       "  <thead>\n",
       "    <tr style=\"text-align: right;\">\n",
       "      <th></th>\n",
       "      <th>clusterer_params</th>\n",
       "      <th>partition</th>\n",
       "      <th>n_clusters</th>\n",
       "    </tr>\n",
       "    <tr>\n",
       "      <th>clusterer_id</th>\n",
       "      <th></th>\n",
       "      <th></th>\n",
       "      <th></th>\n",
       "    </tr>\n",
       "  </thead>\n",
       "  <tbody>\n",
       "    <tr>\n",
       "      <th>SpectralClustering #0</th>\n",
       "      <td>{'affinity': 'nearest_neighbors', 'assign_labe...</td>\n",
       "      <td>[0.0, 0.0, 0.0, 0.0, 0.0, 0.0, 0.0, 0.0, 0.0, ...</td>\n",
       "      <td>2</td>\n",
       "    </tr>\n",
       "    <tr>\n",
       "      <th>SpectralClustering #1</th>\n",
       "      <td>{'affinity': 'nearest_neighbors', 'assign_labe...</td>\n",
       "      <td>[0.0, 0.0, 0.0, 0.0, 0.0, 0.0, 0.0, 0.0, 0.0, ...</td>\n",
       "      <td>2</td>\n",
       "    </tr>\n",
       "    <tr>\n",
       "      <th>SpectralClustering #2</th>\n",
       "      <td>{'affinity': 'nearest_neighbors', 'assign_labe...</td>\n",
       "      <td>[0.0, 0.0, 0.0, 0.0, 0.0, 0.0, 0.0, 0.0, 0.0, ...</td>\n",
       "      <td>2</td>\n",
       "    </tr>\n",
       "    <tr>\n",
       "      <th>SpectralClustering #3</th>\n",
       "      <td>{'affinity': 'nearest_neighbors', 'assign_labe...</td>\n",
       "      <td>[0.0, 0.0, 0.0, 0.0, 0.0, 0.0, 0.0, 0.0, 0.0, ...</td>\n",
       "      <td>2</td>\n",
       "    </tr>\n",
       "    <tr>\n",
       "      <th>SpectralClustering #4</th>\n",
       "      <td>{'affinity': 'nearest_neighbors', 'assign_labe...</td>\n",
       "      <td>[0.0, 0.0, 0.0, 0.0, 0.0, 0.0, 0.0, 0.0, 0.0, ...</td>\n",
       "      <td>2</td>\n",
       "    </tr>\n",
       "  </tbody>\n",
       "</table>\n",
       "</div>"
      ],
      "text/plain": [
       "                                                        clusterer_params  \\\n",
       "clusterer_id                                                               \n",
       "SpectralClustering #0  {'affinity': 'nearest_neighbors', 'assign_labe...   \n",
       "SpectralClustering #1  {'affinity': 'nearest_neighbors', 'assign_labe...   \n",
       "SpectralClustering #2  {'affinity': 'nearest_neighbors', 'assign_labe...   \n",
       "SpectralClustering #3  {'affinity': 'nearest_neighbors', 'assign_labe...   \n",
       "SpectralClustering #4  {'affinity': 'nearest_neighbors', 'assign_labe...   \n",
       "\n",
       "                                                               partition  \\\n",
       "clusterer_id                                                               \n",
       "SpectralClustering #0  [0.0, 0.0, 0.0, 0.0, 0.0, 0.0, 0.0, 0.0, 0.0, ...   \n",
       "SpectralClustering #1  [0.0, 0.0, 0.0, 0.0, 0.0, 0.0, 0.0, 0.0, 0.0, ...   \n",
       "SpectralClustering #2  [0.0, 0.0, 0.0, 0.0, 0.0, 0.0, 0.0, 0.0, 0.0, ...   \n",
       "SpectralClustering #3  [0.0, 0.0, 0.0, 0.0, 0.0, 0.0, 0.0, 0.0, 0.0, ...   \n",
       "SpectralClustering #4  [0.0, 0.0, 0.0, 0.0, 0.0, 0.0, 0.0, 0.0, 0.0, ...   \n",
       "\n",
       "                       n_clusters  \n",
       "clusterer_id                       \n",
       "SpectralClustering #0           2  \n",
       "SpectralClustering #1           2  \n",
       "SpectralClustering #2           2  \n",
       "SpectralClustering #3           2  \n",
       "SpectralClustering #4           2  "
      ]
     },
     "execution_count": 24,
     "metadata": {},
     "output_type": "execute_result"
    }
   ],
   "source": [
    "ensemble.head()"
   ]
  },
  {
   "cell_type": "code",
   "execution_count": 25,
   "metadata": {
    "execution": {
     "iopub.execute_input": "2020-12-02T21:15:41.819082Z",
     "iopub.status.busy": "2020-12-02T21:15:41.818725Z",
     "iopub.status.idle": "2020-12-02T21:15:41.832483Z",
     "shell.execute_reply": "2020-12-02T21:15:41.832098Z"
    },
    "papermill": {
     "duration": 0.08595,
     "end_time": "2020-12-02T21:15:41.832573",
     "exception": false,
     "start_time": "2020-12-02T21:15:41.746623",
     "status": "completed"
    },
    "tags": []
   },
   "outputs": [
    {
     "data": {
      "text/plain": [
       "60    5\n",
       "16    5\n",
       "28    5\n",
       "27    5\n",
       "26    5\n",
       "Name: n_clusters, dtype: int64"
      ]
     },
     "execution_count": 25,
     "metadata": {},
     "output_type": "execute_result"
    }
   ],
   "source": [
    "ensemble['n_clusters'].value_counts().head()"
   ]
  },
  {
   "cell_type": "code",
   "execution_count": 26,
   "metadata": {
    "execution": {
     "iopub.execute_input": "2020-12-02T21:15:41.975643Z",
     "iopub.status.busy": "2020-12-02T21:15:41.975277Z",
     "iopub.status.idle": "2020-12-02T21:15:41.990588Z",
     "shell.execute_reply": "2020-12-02T21:15:41.990226Z"
    },
    "papermill": {
     "duration": 0.08677,
     "end_time": "2020-12-02T21:15:41.990672",
     "exception": false,
     "start_time": "2020-12-02T21:15:41.903902",
     "status": "completed"
    },
    "tags": []
   },
   "outputs": [
    {
     "data": {
      "text/plain": [
       "count    295.000000\n",
       "mean      31.000000\n",
       "std       17.058323\n",
       "min        2.000000\n",
       "25%       16.000000\n",
       "50%       31.000000\n",
       "75%       46.000000\n",
       "max       60.000000\n",
       "Name: n_clusters, dtype: float64"
      ]
     },
     "metadata": {},
     "output_type": "display_data"
    }
   ],
   "source": [
    "ensemble_stats = ensemble['n_clusters'].describe()\n",
    "display(ensemble_stats)"
   ]
  },
  {
   "cell_type": "markdown",
   "metadata": {
    "papermill": {
     "duration": 0.06938,
     "end_time": "2020-12-02T21:15:42.129436",
     "exception": false,
     "start_time": "2020-12-02T21:15:42.060056",
     "status": "completed"
    },
    "tags": []
   },
   "source": [
    "## Testing"
   ]
  },
  {
   "cell_type": "code",
   "execution_count": 27,
   "metadata": {
    "execution": {
     "iopub.execute_input": "2020-12-02T21:15:42.270684Z",
     "iopub.status.busy": "2020-12-02T21:15:42.270314Z",
     "iopub.status.idle": "2020-12-02T21:15:42.282524Z",
     "shell.execute_reply": "2020-12-02T21:15:42.282157Z"
    },
    "papermill": {
     "duration": 0.083795,
     "end_time": "2020-12-02T21:15:42.282610",
     "exception": false,
     "start_time": "2020-12-02T21:15:42.198815",
     "status": "completed"
    },
    "tags": []
   },
   "outputs": [],
   "source": [
    "assert ensemble_stats['min'] > 1"
   ]
  },
  {
   "cell_type": "code",
   "execution_count": 28,
   "metadata": {
    "execution": {
     "iopub.execute_input": "2020-12-02T21:15:42.423869Z",
     "iopub.status.busy": "2020-12-02T21:15:42.423513Z",
     "iopub.status.idle": "2020-12-02T21:15:42.435779Z",
     "shell.execute_reply": "2020-12-02T21:15:42.435407Z"
    },
    "papermill": {
     "duration": 0.083625,
     "end_time": "2020-12-02T21:15:42.435866",
     "exception": false,
     "start_time": "2020-12-02T21:15:42.352241",
     "status": "completed"
    },
    "tags": []
   },
   "outputs": [],
   "source": [
    "assert not ensemble['n_clusters'].isna().any()"
   ]
  },
  {
   "cell_type": "code",
   "execution_count": 29,
   "metadata": {
    "execution": {
     "iopub.execute_input": "2020-12-02T21:15:42.577539Z",
     "iopub.status.busy": "2020-12-02T21:15:42.577174Z",
     "iopub.status.idle": "2020-12-02T21:15:42.589384Z",
     "shell.execute_reply": "2020-12-02T21:15:42.589015Z"
    },
    "papermill": {
     "duration": 0.083812,
     "end_time": "2020-12-02T21:15:42.589471",
     "exception": false,
     "start_time": "2020-12-02T21:15:42.505659",
     "status": "completed"
    },
    "tags": []
   },
   "outputs": [],
   "source": [
    "assert ensemble.shape[0] == len(CLUSTERERS)"
   ]
  },
  {
   "cell_type": "code",
   "execution_count": 30,
   "metadata": {
    "execution": {
     "iopub.execute_input": "2020-12-02T21:15:42.731375Z",
     "iopub.status.busy": "2020-12-02T21:15:42.731005Z",
     "iopub.status.idle": "2020-12-02T21:15:42.763485Z",
     "shell.execute_reply": "2020-12-02T21:15:42.763181Z"
    },
    "papermill": {
     "duration": 0.104327,
     "end_time": "2020-12-02T21:15:42.763575",
     "exception": false,
     "start_time": "2020-12-02T21:15:42.659248",
     "status": "completed"
    },
    "tags": []
   },
   "outputs": [],
   "source": [
    "# all partitions have the right size\n",
    "assert np.all([\n",
    "    part['partition'].shape[0] == data.shape[0]\n",
    "    for idx, part in ensemble.iterrows()\n",
    "])"
   ]
  },
  {
   "cell_type": "code",
   "execution_count": 31,
   "metadata": {
    "execution": {
     "iopub.execute_input": "2020-12-02T21:15:42.908292Z",
     "iopub.status.busy": "2020-12-02T21:15:42.907923Z",
     "iopub.status.idle": "2020-12-02T21:15:42.941141Z",
     "shell.execute_reply": "2020-12-02T21:15:42.940750Z"
    },
    "papermill": {
     "duration": 0.106328,
     "end_time": "2020-12-02T21:15:42.941229",
     "exception": false,
     "start_time": "2020-12-02T21:15:42.834901",
     "status": "completed"
    },
    "tags": []
   },
   "outputs": [],
   "source": [
    "# no partition has negative clusters (noisy points)\n",
    "assert not np.any([\n",
    "    (part['partition'] < 0).any()\n",
    "    for idx, part in ensemble.iterrows()\n",
    "])"
   ]
  },
  {
   "cell_type": "markdown",
   "metadata": {
    "papermill": {
     "duration": 0.069369,
     "end_time": "2020-12-02T21:15:43.081325",
     "exception": false,
     "start_time": "2020-12-02T21:15:43.011956",
     "status": "completed"
    },
    "tags": []
   },
   "source": [
    "## Save"
   ]
  },
  {
   "cell_type": "code",
   "execution_count": 32,
   "metadata": {
    "execution": {
     "iopub.execute_input": "2020-12-02T21:15:43.223628Z",
     "iopub.status.busy": "2020-12-02T21:15:43.223259Z",
     "iopub.status.idle": "2020-12-02T21:15:43.236774Z",
     "shell.execute_reply": "2020-12-02T21:15:43.236418Z"
    },
    "papermill": {
     "duration": 0.085589,
     "end_time": "2020-12-02T21:15:43.236864",
     "exception": false,
     "start_time": "2020-12-02T21:15:43.151275",
     "status": "completed"
    },
    "tags": []
   },
   "outputs": [
    {
     "data": {
      "text/plain": [
       "PosixPath('/home/miltondp/projects/labs/greenelab/phenoplier/base/results/clustering/runs/z_score_std-projection-smultixcan-efo_partial-mashr-zscores/SpectralClustering-AFFINITY_nearest_neighbors-KMEANS_N_INIT_10-K_MAX_60-K_MIN_2-N_NEIGHBORS_10-N_REPS_PER_K_5.pkl')"
      ]
     },
     "metadata": {},
     "output_type": "display_data"
    }
   ],
   "source": [
    "output_filename = Path(\n",
    "    RESULTS_DIR,\n",
    "    generate_result_set_name(\n",
    "        CLUSTERING_OPTIONS,\n",
    "        prefix=f'{clustering_method_name}-',\n",
    "        suffix='.pkl',\n",
    "    )\n",
    ").resolve()\n",
    "display(output_filename)"
   ]
  },
  {
   "cell_type": "code",
   "execution_count": 33,
   "metadata": {
    "execution": {
     "iopub.execute_input": "2020-12-02T21:15:43.379738Z",
     "iopub.status.busy": "2020-12-02T21:15:43.379381Z",
     "iopub.status.idle": "2020-12-02T21:15:43.403921Z",
     "shell.execute_reply": "2020-12-02T21:15:43.403521Z"
    },
    "papermill": {
     "duration": 0.095978,
     "end_time": "2020-12-02T21:15:43.404015",
     "exception": false,
     "start_time": "2020-12-02T21:15:43.308037",
     "status": "completed"
    },
    "tags": []
   },
   "outputs": [],
   "source": [
    "ensemble.to_pickle(output_filename)"
   ]
  },
  {
   "cell_type": "markdown",
   "metadata": {
    "papermill": {
     "duration": 0.06952,
     "end_time": "2020-12-02T21:15:43.545035",
     "exception": false,
     "start_time": "2020-12-02T21:15:43.475515",
     "status": "completed"
    },
    "tags": []
   },
   "source": [
    "# Stability"
   ]
  },
  {
   "cell_type": "markdown",
   "metadata": {
    "papermill": {
     "duration": 0.0689,
     "end_time": "2020-12-02T21:15:43.684488",
     "exception": false,
     "start_time": "2020-12-02T21:15:43.615588",
     "status": "completed"
    },
    "tags": []
   },
   "source": [
    "## Group ensemble by n_clusters"
   ]
  },
  {
   "cell_type": "code",
   "execution_count": 34,
   "metadata": {
    "execution": {
     "iopub.execute_input": "2020-12-02T21:15:43.832013Z",
     "iopub.status.busy": "2020-12-02T21:15:43.831650Z",
     "iopub.status.idle": "2020-12-02T21:15:43.857883Z",
     "shell.execute_reply": "2020-12-02T21:15:43.857574Z"
    },
    "papermill": {
     "duration": 0.100389,
     "end_time": "2020-12-02T21:15:43.857972",
     "exception": false,
     "start_time": "2020-12-02T21:15:43.757583",
     "status": "completed"
    },
    "tags": []
   },
   "outputs": [],
   "source": [
    "parts = ensemble.groupby('n_clusters').apply(lambda x: np.concatenate(x['partition'].apply(lambda x: x.reshape(1, -1)), axis=0))"
   ]
  },
  {
   "cell_type": "code",
   "execution_count": 35,
   "metadata": {
    "execution": {
     "iopub.execute_input": "2020-12-02T21:15:44.000337Z",
     "iopub.status.busy": "2020-12-02T21:15:43.999982Z",
     "iopub.status.idle": "2020-12-02T21:15:44.024276Z",
     "shell.execute_reply": "2020-12-02T21:15:44.023916Z"
    },
    "papermill": {
     "duration": 0.095484,
     "end_time": "2020-12-02T21:15:44.024362",
     "exception": false,
     "start_time": "2020-12-02T21:15:43.928878",
     "status": "completed"
    },
    "tags": []
   },
   "outputs": [
    {
     "data": {
      "text/plain": [
       "n_clusters\n",
       "2    [[0.0, 0.0, 0.0, 0.0, 0.0, 0.0, 0.0, 0.0, 0.0,...\n",
       "3    [[0.0, 0.0, 0.0, 0.0, 0.0, 0.0, 0.0, 0.0, 0.0,...\n",
       "4    [[0.0, 0.0, 0.0, 0.0, 0.0, 0.0, 0.0, 0.0, 0.0,...\n",
       "5    [[0.0, 0.0, 0.0, 0.0, 0.0, 0.0, 0.0, 0.0, 0.0,...\n",
       "6    [[0.0, 0.0, 0.0, 0.0, 0.0, 0.0, 0.0, 0.0, 0.0,...\n",
       "dtype: object"
      ]
     },
     "execution_count": 35,
     "metadata": {},
     "output_type": "execute_result"
    }
   ],
   "source": [
    "parts.head()"
   ]
  },
  {
   "cell_type": "code",
   "execution_count": 36,
   "metadata": {
    "execution": {
     "iopub.execute_input": "2020-12-02T21:15:44.168852Z",
     "iopub.status.busy": "2020-12-02T21:15:44.168408Z",
     "iopub.status.idle": "2020-12-02T21:15:44.181207Z",
     "shell.execute_reply": "2020-12-02T21:15:44.180839Z"
    },
    "papermill": {
     "duration": 0.086393,
     "end_time": "2020-12-02T21:15:44.181296",
     "exception": false,
     "start_time": "2020-12-02T21:15:44.094903",
     "status": "completed"
    },
    "tags": []
   },
   "outputs": [],
   "source": [
    "assert np.all([\n",
    "    parts.loc[k].shape == (CLUSTERING_OPTIONS['N_REPS_PER_K'], data.shape[0])\n",
    "    for k in parts.index\n",
    "])"
   ]
  },
  {
   "cell_type": "markdown",
   "metadata": {
    "papermill": {
     "duration": 0.06923,
     "end_time": "2020-12-02T21:15:44.319585",
     "exception": false,
     "start_time": "2020-12-02T21:15:44.250355",
     "status": "completed"
    },
    "tags": []
   },
   "source": [
    "## Compute stability"
   ]
  },
  {
   "cell_type": "code",
   "execution_count": 37,
   "metadata": {
    "execution": {
     "iopub.execute_input": "2020-12-02T21:15:44.461804Z",
     "iopub.status.busy": "2020-12-02T21:15:44.461444Z",
     "iopub.status.idle": "2020-12-02T21:15:44.473420Z",
     "shell.execute_reply": "2020-12-02T21:15:44.473043Z"
    },
    "papermill": {
     "duration": 0.084534,
     "end_time": "2020-12-02T21:15:44.473509",
     "exception": false,
     "start_time": "2020-12-02T21:15:44.388975",
     "status": "completed"
    },
    "tags": []
   },
   "outputs": [],
   "source": [
    "from sklearn.metrics import adjusted_rand_score as ari\n",
    "from scipy.spatial.distance import squareform, pdist"
   ]
  },
  {
   "cell_type": "code",
   "execution_count": 38,
   "metadata": {
    "execution": {
     "iopub.execute_input": "2020-12-02T21:15:44.619449Z",
     "iopub.status.busy": "2020-12-02T21:15:44.619091Z",
     "iopub.status.idle": "2020-12-02T21:15:45.159293Z",
     "shell.execute_reply": "2020-12-02T21:15:45.158943Z"
    },
    "papermill": {
     "duration": 0.614006,
     "end_time": "2020-12-02T21:15:45.159385",
     "exception": false,
     "start_time": "2020-12-02T21:15:44.545379",
     "status": "completed"
    },
    "tags": []
   },
   "outputs": [],
   "source": [
    "parts_ari = pd.Series(\n",
    "    {k: pdist(parts.loc[k], metric=ari) for k in parts.index},\n",
    "    name='k'\n",
    ")"
   ]
  },
  {
   "cell_type": "code",
   "execution_count": 39,
   "metadata": {
    "execution": {
     "iopub.execute_input": "2020-12-02T21:15:45.302443Z",
     "iopub.status.busy": "2020-12-02T21:15:45.302080Z",
     "iopub.status.idle": "2020-12-02T21:15:45.316951Z",
     "shell.execute_reply": "2020-12-02T21:15:45.316549Z"
    },
    "papermill": {
     "duration": 0.08689,
     "end_time": "2020-12-02T21:15:45.317037",
     "exception": false,
     "start_time": "2020-12-02T21:15:45.230147",
     "status": "completed"
    },
    "tags": []
   },
   "outputs": [
    {
     "data": {
      "text/plain": [
       "2     1.000000\n",
       "23    1.000000\n",
       "3     1.000000\n",
       "4     1.000000\n",
       "8     1.000000\n",
       "9     1.000000\n",
       "12    1.000000\n",
       "13    1.000000\n",
       "16    1.000000\n",
       "17    1.000000\n",
       "29    1.000000\n",
       "27    1.000000\n",
       "37    0.999961\n",
       "20    0.999430\n",
       "18    0.999415\n",
       "Name: k, dtype: float64"
      ]
     },
     "metadata": {},
     "output_type": "display_data"
    }
   ],
   "source": [
    "parts_ari_stability = parts_ari.apply(lambda x: x.mean())\n",
    "display(parts_ari_stability.sort_values(ascending=False).head(15))"
   ]
  },
  {
   "cell_type": "code",
   "execution_count": 40,
   "metadata": {
    "execution": {
     "iopub.execute_input": "2020-12-02T21:15:45.461493Z",
     "iopub.status.busy": "2020-12-02T21:15:45.461118Z",
     "iopub.status.idle": "2020-12-02T21:15:45.474185Z",
     "shell.execute_reply": "2020-12-02T21:15:45.473822Z"
    },
    "papermill": {
     "duration": 0.085969,
     "end_time": "2020-12-02T21:15:45.474270",
     "exception": false,
     "start_time": "2020-12-02T21:15:45.388301",
     "status": "completed"
    },
    "tags": []
   },
   "outputs": [],
   "source": [
    "parts_ari_df = pd.DataFrame.from_records(parts_ari.tolist()).set_index(parts_ari.index.copy())"
   ]
  },
  {
   "cell_type": "code",
   "execution_count": 41,
   "metadata": {
    "execution": {
     "iopub.execute_input": "2020-12-02T21:15:45.619050Z",
     "iopub.status.busy": "2020-12-02T21:15:45.618665Z",
     "iopub.status.idle": "2020-12-02T21:15:45.631611Z",
     "shell.execute_reply": "2020-12-02T21:15:45.631248Z"
    },
    "papermill": {
     "duration": 0.086489,
     "end_time": "2020-12-02T21:15:45.631698",
     "exception": false,
     "start_time": "2020-12-02T21:15:45.545209",
     "status": "completed"
    },
    "tags": []
   },
   "outputs": [
    {
     "data": {
      "text/plain": [
       "(59, 10)"
      ]
     },
     "execution_count": 41,
     "metadata": {},
     "output_type": "execute_result"
    }
   ],
   "source": [
    "parts_ari_df.shape"
   ]
  },
  {
   "cell_type": "code",
   "execution_count": 42,
   "metadata": {
    "execution": {
     "iopub.execute_input": "2020-12-02T21:15:45.778775Z",
     "iopub.status.busy": "2020-12-02T21:15:45.778417Z",
     "iopub.status.idle": "2020-12-02T21:15:45.790369Z",
     "shell.execute_reply": "2020-12-02T21:15:45.790659Z"
    },
    "papermill": {
     "duration": 0.088262,
     "end_time": "2020-12-02T21:15:45.790773",
     "exception": false,
     "start_time": "2020-12-02T21:15:45.702511",
     "status": "completed"
    },
    "tags": []
   },
   "outputs": [],
   "source": [
    "assert int( (CLUSTERING_OPTIONS['N_REPS_PER_K'] * (CLUSTERING_OPTIONS['N_REPS_PER_K'] - 1) ) / 2) == parts_ari_df.shape[1]"
   ]
  },
  {
   "cell_type": "code",
   "execution_count": 43,
   "metadata": {
    "execution": {
     "iopub.execute_input": "2020-12-02T21:15:45.935789Z",
     "iopub.status.busy": "2020-12-02T21:15:45.935435Z",
     "iopub.status.idle": "2020-12-02T21:15:45.954683Z",
     "shell.execute_reply": "2020-12-02T21:15:45.954297Z"
    },
    "papermill": {
     "duration": 0.092257,
     "end_time": "2020-12-02T21:15:45.954784",
     "exception": false,
     "start_time": "2020-12-02T21:15:45.862527",
     "status": "completed"
    },
    "tags": []
   },
   "outputs": [
    {
     "data": {
      "text/html": [
       "<div>\n",
       "<style scoped>\n",
       "    .dataframe tbody tr th:only-of-type {\n",
       "        vertical-align: middle;\n",
       "    }\n",
       "\n",
       "    .dataframe tbody tr th {\n",
       "        vertical-align: top;\n",
       "    }\n",
       "\n",
       "    .dataframe thead th {\n",
       "        text-align: right;\n",
       "    }\n",
       "</style>\n",
       "<table border=\"1\" class=\"dataframe\">\n",
       "  <thead>\n",
       "    <tr style=\"text-align: right;\">\n",
       "      <th></th>\n",
       "      <th>0</th>\n",
       "      <th>1</th>\n",
       "      <th>2</th>\n",
       "      <th>3</th>\n",
       "      <th>4</th>\n",
       "      <th>5</th>\n",
       "      <th>6</th>\n",
       "      <th>7</th>\n",
       "      <th>8</th>\n",
       "      <th>9</th>\n",
       "    </tr>\n",
       "  </thead>\n",
       "  <tbody>\n",
       "    <tr>\n",
       "      <th>2</th>\n",
       "      <td>1.000000</td>\n",
       "      <td>1.000000</td>\n",
       "      <td>1.000000</td>\n",
       "      <td>1.000000</td>\n",
       "      <td>1.000000</td>\n",
       "      <td>1.0</td>\n",
       "      <td>1.000000</td>\n",
       "      <td>1.000000</td>\n",
       "      <td>1.0</td>\n",
       "      <td>1.000000</td>\n",
       "    </tr>\n",
       "    <tr>\n",
       "      <th>3</th>\n",
       "      <td>1.000000</td>\n",
       "      <td>1.000000</td>\n",
       "      <td>1.000000</td>\n",
       "      <td>1.000000</td>\n",
       "      <td>1.000000</td>\n",
       "      <td>1.0</td>\n",
       "      <td>1.000000</td>\n",
       "      <td>1.000000</td>\n",
       "      <td>1.0</td>\n",
       "      <td>1.000000</td>\n",
       "    </tr>\n",
       "    <tr>\n",
       "      <th>4</th>\n",
       "      <td>1.000000</td>\n",
       "      <td>1.000000</td>\n",
       "      <td>1.000000</td>\n",
       "      <td>1.000000</td>\n",
       "      <td>1.000000</td>\n",
       "      <td>1.0</td>\n",
       "      <td>1.000000</td>\n",
       "      <td>1.000000</td>\n",
       "      <td>1.0</td>\n",
       "      <td>1.000000</td>\n",
       "    </tr>\n",
       "    <tr>\n",
       "      <th>5</th>\n",
       "      <td>0.993318</td>\n",
       "      <td>1.000000</td>\n",
       "      <td>0.993318</td>\n",
       "      <td>1.000000</td>\n",
       "      <td>0.993318</td>\n",
       "      <td>1.0</td>\n",
       "      <td>0.993318</td>\n",
       "      <td>0.993318</td>\n",
       "      <td>1.0</td>\n",
       "      <td>0.993318</td>\n",
       "    </tr>\n",
       "    <tr>\n",
       "      <th>6</th>\n",
       "      <td>0.997059</td>\n",
       "      <td>0.997072</td>\n",
       "      <td>0.997059</td>\n",
       "      <td>0.997072</td>\n",
       "      <td>0.994132</td>\n",
       "      <td>1.0</td>\n",
       "      <td>0.994132</td>\n",
       "      <td>0.994132</td>\n",
       "      <td>1.0</td>\n",
       "      <td>0.994132</td>\n",
       "    </tr>\n",
       "  </tbody>\n",
       "</table>\n",
       "</div>"
      ],
      "text/plain": [
       "          0         1         2         3         4    5         6         7  \\\n",
       "2  1.000000  1.000000  1.000000  1.000000  1.000000  1.0  1.000000  1.000000   \n",
       "3  1.000000  1.000000  1.000000  1.000000  1.000000  1.0  1.000000  1.000000   \n",
       "4  1.000000  1.000000  1.000000  1.000000  1.000000  1.0  1.000000  1.000000   \n",
       "5  0.993318  1.000000  0.993318  1.000000  0.993318  1.0  0.993318  0.993318   \n",
       "6  0.997059  0.997072  0.997059  0.997072  0.994132  1.0  0.994132  0.994132   \n",
       "\n",
       "     8         9  \n",
       "2  1.0  1.000000  \n",
       "3  1.0  1.000000  \n",
       "4  1.0  1.000000  \n",
       "5  1.0  0.993318  \n",
       "6  1.0  0.994132  "
      ]
     },
     "execution_count": 43,
     "metadata": {},
     "output_type": "execute_result"
    }
   ],
   "source": [
    "parts_ari_df.head()"
   ]
  },
  {
   "cell_type": "markdown",
   "metadata": {
    "papermill": {
     "duration": 0.070535,
     "end_time": "2020-12-02T21:15:46.097185",
     "exception": false,
     "start_time": "2020-12-02T21:15:46.026650",
     "status": "completed"
    },
    "tags": []
   },
   "source": [
    "## Save"
   ]
  },
  {
   "cell_type": "code",
   "execution_count": 44,
   "metadata": {
    "execution": {
     "iopub.execute_input": "2020-12-02T21:15:46.241943Z",
     "iopub.status.busy": "2020-12-02T21:15:46.241584Z",
     "iopub.status.idle": "2020-12-02T21:15:46.254640Z",
     "shell.execute_reply": "2020-12-02T21:15:46.254270Z"
    },
    "papermill": {
     "duration": 0.086844,
     "end_time": "2020-12-02T21:15:46.254727",
     "exception": false,
     "start_time": "2020-12-02T21:15:46.167883",
     "status": "completed"
    },
    "tags": []
   },
   "outputs": [
    {
     "data": {
      "text/plain": [
       "PosixPath('/home/miltondp/projects/labs/greenelab/phenoplier/base/results/clustering/runs/z_score_std-projection-smultixcan-efo_partial-mashr-zscores/SpectralClustering-stability-AFFINITY_nearest_neighbors-KMEANS_N_INIT_10-K_MAX_60-K_MIN_2-N_NEIGHBORS_10-N_REPS_PER_K_5.pkl')"
      ]
     },
     "metadata": {},
     "output_type": "display_data"
    }
   ],
   "source": [
    "output_filename = Path(\n",
    "    RESULTS_DIR,\n",
    "    generate_result_set_name(\n",
    "        CLUSTERING_OPTIONS,\n",
    "        prefix=f'{clustering_method_name}-stability-',\n",
    "        suffix='.pkl',\n",
    "    )\n",
    ").resolve()\n",
    "display(output_filename)"
   ]
  },
  {
   "cell_type": "code",
   "execution_count": 45,
   "metadata": {
    "execution": {
     "iopub.execute_input": "2020-12-02T21:15:46.400532Z",
     "iopub.status.busy": "2020-12-02T21:15:46.400176Z",
     "iopub.status.idle": "2020-12-02T21:15:46.413210Z",
     "shell.execute_reply": "2020-12-02T21:15:46.412844Z"
    },
    "papermill": {
     "duration": 0.086859,
     "end_time": "2020-12-02T21:15:46.413298",
     "exception": false,
     "start_time": "2020-12-02T21:15:46.326439",
     "status": "completed"
    },
    "tags": []
   },
   "outputs": [],
   "source": [
    "parts_ari_df.to_pickle(output_filename)"
   ]
  },
  {
   "cell_type": "markdown",
   "metadata": {
    "papermill": {
     "duration": 0.070496,
     "end_time": "2020-12-02T21:15:46.554151",
     "exception": false,
     "start_time": "2020-12-02T21:15:46.483655",
     "status": "completed"
    },
    "tags": []
   },
   "source": [
    "## Stability plot"
   ]
  },
  {
   "cell_type": "code",
   "execution_count": 46,
   "metadata": {
    "execution": {
     "iopub.execute_input": "2020-12-02T21:15:46.699842Z",
     "iopub.status.busy": "2020-12-02T21:15:46.699483Z",
     "iopub.status.idle": "2020-12-02T21:15:46.713620Z",
     "shell.execute_reply": "2020-12-02T21:15:46.713238Z"
    },
    "papermill": {
     "duration": 0.088038,
     "end_time": "2020-12-02T21:15:46.713710",
     "exception": false,
     "start_time": "2020-12-02T21:15:46.625672",
     "status": "completed"
    },
    "tags": []
   },
   "outputs": [],
   "source": [
    "parts_ari_df_plot = parts_ari_df.stack().reset_index().rename(columns={'level_0': 'k', 'level_1': 'idx', 0: 'ari'})"
   ]
  },
  {
   "cell_type": "code",
   "execution_count": 47,
   "metadata": {
    "execution": {
     "iopub.execute_input": "2020-12-02T21:15:46.863823Z",
     "iopub.status.busy": "2020-12-02T21:15:46.863385Z",
     "iopub.status.idle": "2020-12-02T21:15:46.877084Z",
     "shell.execute_reply": "2020-12-02T21:15:46.876745Z"
    },
    "papermill": {
     "duration": 0.089326,
     "end_time": "2020-12-02T21:15:46.877170",
     "exception": false,
     "start_time": "2020-12-02T21:15:46.787844",
     "status": "completed"
    },
    "tags": []
   },
   "outputs": [
    {
     "data": {
      "text/plain": [
       "k        int64\n",
       "idx      int64\n",
       "ari    float64\n",
       "dtype: object"
      ]
     },
     "execution_count": 47,
     "metadata": {},
     "output_type": "execute_result"
    }
   ],
   "source": [
    "parts_ari_df_plot.dtypes"
   ]
  },
  {
   "cell_type": "code",
   "execution_count": 48,
   "metadata": {
    "execution": {
     "iopub.execute_input": "2020-12-02T21:15:47.023789Z",
     "iopub.status.busy": "2020-12-02T21:15:47.023439Z",
     "iopub.status.idle": "2020-12-02T21:15:47.038988Z",
     "shell.execute_reply": "2020-12-02T21:15:47.038621Z"
    },
    "papermill": {
     "duration": 0.089177,
     "end_time": "2020-12-02T21:15:47.039076",
     "exception": false,
     "start_time": "2020-12-02T21:15:46.949899",
     "status": "completed"
    },
    "tags": []
   },
   "outputs": [
    {
     "data": {
      "text/html": [
       "<div>\n",
       "<style scoped>\n",
       "    .dataframe tbody tr th:only-of-type {\n",
       "        vertical-align: middle;\n",
       "    }\n",
       "\n",
       "    .dataframe tbody tr th {\n",
       "        vertical-align: top;\n",
       "    }\n",
       "\n",
       "    .dataframe thead th {\n",
       "        text-align: right;\n",
       "    }\n",
       "</style>\n",
       "<table border=\"1\" class=\"dataframe\">\n",
       "  <thead>\n",
       "    <tr style=\"text-align: right;\">\n",
       "      <th></th>\n",
       "      <th>k</th>\n",
       "      <th>idx</th>\n",
       "      <th>ari</th>\n",
       "    </tr>\n",
       "  </thead>\n",
       "  <tbody>\n",
       "    <tr>\n",
       "      <th>0</th>\n",
       "      <td>2</td>\n",
       "      <td>0</td>\n",
       "      <td>1.0</td>\n",
       "    </tr>\n",
       "    <tr>\n",
       "      <th>1</th>\n",
       "      <td>2</td>\n",
       "      <td>1</td>\n",
       "      <td>1.0</td>\n",
       "    </tr>\n",
       "    <tr>\n",
       "      <th>2</th>\n",
       "      <td>2</td>\n",
       "      <td>2</td>\n",
       "      <td>1.0</td>\n",
       "    </tr>\n",
       "    <tr>\n",
       "      <th>3</th>\n",
       "      <td>2</td>\n",
       "      <td>3</td>\n",
       "      <td>1.0</td>\n",
       "    </tr>\n",
       "    <tr>\n",
       "      <th>4</th>\n",
       "      <td>2</td>\n",
       "      <td>4</td>\n",
       "      <td>1.0</td>\n",
       "    </tr>\n",
       "  </tbody>\n",
       "</table>\n",
       "</div>"
      ],
      "text/plain": [
       "   k  idx  ari\n",
       "0  2    0  1.0\n",
       "1  2    1  1.0\n",
       "2  2    2  1.0\n",
       "3  2    3  1.0\n",
       "4  2    4  1.0"
      ]
     },
     "execution_count": 48,
     "metadata": {},
     "output_type": "execute_result"
    }
   ],
   "source": [
    "parts_ari_df_plot.head()"
   ]
  },
  {
   "cell_type": "code",
   "execution_count": 49,
   "metadata": {
    "execution": {
     "iopub.execute_input": "2020-12-02T21:15:47.187031Z",
     "iopub.status.busy": "2020-12-02T21:15:47.186661Z",
     "iopub.status.idle": "2020-12-02T21:15:50.168568Z",
     "shell.execute_reply": "2020-12-02T21:15:50.168915Z"
    },
    "papermill": {
     "duration": 3.057362,
     "end_time": "2020-12-02T21:15:50.169021",
     "exception": false,
     "start_time": "2020-12-02T21:15:47.111659",
     "status": "completed"
    },
    "tags": []
   },
   "outputs": [
    {
     "data": {
      "image/png": "[encoded data removed]",
      "text/plain": [
       "<Figure size 864x432 with 1 Axes>"
      ]
     },
     "metadata": {},
     "output_type": "display_data"
    }
   ],
   "source": [
    "# with sns.axes_style('whitegrid', {'grid.linestyle': '--'}):\n",
    "with sns.plotting_context('talk', font_scale=0.75), sns.axes_style('whitegrid', {'grid.linestyle': '--'}):\n",
    "    fig = plt.figure(figsize=(12, 6))\n",
    "    ax = sns.pointplot(data=parts_ari_df_plot, x='k', y='ari')\n",
    "    ax.set_ylabel('Averange ARI')\n",
    "    ax.set_xlabel('Number of clusters ($k$)')\n",
    "    ax.set_xticklabels(ax.get_xticklabels(), rotation=45)\n",
    "#     ax.set_ylim(0.0, 1.0)\n",
    "#     ax.set_xlim(CLUSTERING_OPTIONS['K_MIN'], CLUSTERING_OPTIONS['K_MAX'])\n",
    "    plt.grid(True)\n",
    "    plt.tight_layout()"
   ]
  },
  {
   "cell_type": "code",
   "execution_count": null,
   "metadata": {
    "papermill": {
     "duration": 0.072467,
     "end_time": "2020-12-02T21:15:50.314333",
     "exception": false,
     "start_time": "2020-12-02T21:15:50.241866",
     "status": "completed"
    },
    "tags": []
   },
   "outputs": [],
   "source": []
  }
 ],
 "metadata": {
  "jupytext": {
   "formats": "ipynb,py//py:percent"
  },
  "kernelspec": {
   "display_name": "Python 3",
   "language": "python",
   "name": "python3"
  },
  "language_info": {
   "codemirror_mode": {
    "name": "ipython",
    "version": 3
   },
   "file_extension": ".py",
   "mimetype": "text/x-python",
   "name": "python",
   "nbconvert_exporter": "python",
   "pygments_lexer": "ipython3",
   "version": "3.8.6"
  },
  "papermill": {
   "default_parameters": {},
   "duration": 8359.810245,
   "end_time": "2020-12-02T21:15:51.839526",
   "environment_variables": {},
   "exception": null,
   "input_path": "15_cluster_analysis/001_00-projection_smultixcan_efo-z_score_std-clustering_spectral.ipynb",
   "output_path": "15_cluster_analysis/001_00-projection_smultixcan_efo-z_score_std-clustering_spectral.run.ipynb",
   "parameters": {},
   "start_time": "2020-12-02T18:56:32.029281",
   "version": "2.2.2"
  },
  "toc-autonumbering": true,
  "toc-showcode": false,
  "toc-showmarkdowntxt": false,
  "toc-showtags": false
 },
 "nbformat": 4,
 "nbformat_minor": 4
}
