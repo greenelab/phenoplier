{
 "cells": [
  {
   "cell_type": "markdown",
   "metadata": {
    "papermill": {
     "duration": 0.018399,
     "end_time": "2021-01-12T08:22:25.693254",
     "exception": false,
     "start_time": "2021-01-12T08:22:25.674855",
     "status": "completed"
    },
    "tags": []
   },
   "source": [
    "# Description"
   ]
  },
  {
   "cell_type": "markdown",
   "metadata": {
    "papermill": {
     "duration": 0.016074,
     "end_time": "2021-01-12T08:22:25.725770",
     "exception": false,
     "start_time": "2021-01-12T08:22:25.709696",
     "status": "completed"
    },
    "tags": []
   },
   "source": [
    "It runs DBSCAN on the `pca` version of the data.\n",
    "\n",
    "The notebook explores different values for `min_samples` and `eps` (the main parameters of DBSCAN)."
   ]
  },
  {
   "cell_type": "markdown",
   "metadata": {
    "papermill": {
     "duration": 0.016513,
     "end_time": "2021-01-12T08:22:25.759209",
     "exception": false,
     "start_time": "2021-01-12T08:22:25.742696",
     "status": "completed"
    },
    "tags": []
   },
   "source": [
    "# Environment variables"
   ]
  },
  {
   "cell_type": "code",
   "execution_count": 1,
   "metadata": {
    "execution": {
     "iopub.execute_input": "2021-01-12T08:22:25.795455Z",
     "iopub.status.busy": "2021-01-12T08:22:25.795067Z",
     "iopub.status.idle": "2021-01-12T08:22:25.806458Z",
     "shell.execute_reply": "2021-01-12T08:22:25.806028Z"
    },
    "papermill": {
     "duration": 0.031042,
     "end_time": "2021-01-12T08:22:25.806582",
     "exception": false,
     "start_time": "2021-01-12T08:22:25.775540",
     "status": "completed"
    },
    "tags": []
   },
   "outputs": [
    {
     "data": {
      "text/plain": [
       "3"
      ]
     },
     "metadata": {},
     "output_type": "display_data"
    }
   ],
   "source": [
    "from IPython.display import display\n",
    "\n",
    "import conf\n",
    "\n",
    "N_JOBS = conf.GENERAL[\"N_JOBS\"]\n",
    "display(N_JOBS)"
   ]
  },
  {
   "cell_type": "code",
   "execution_count": 2,
   "metadata": {
    "execution": {
     "iopub.execute_input": "2021-01-12T08:22:25.845613Z",
     "iopub.status.busy": "2021-01-12T08:22:25.845216Z",
     "iopub.status.idle": "2021-01-12T08:22:25.847855Z",
     "shell.execute_reply": "2021-01-12T08:22:25.847463Z"
    },
    "papermill": {
     "duration": 0.023979,
     "end_time": "2021-01-12T08:22:25.847945",
     "exception": false,
     "start_time": "2021-01-12T08:22:25.823966",
     "status": "completed"
    },
    "tags": []
   },
   "outputs": [
    {
     "name": "stdout",
     "output_type": "stream",
     "text": [
      "env: MKL_NUM_THREADS=3\n",
      "env: OPEN_BLAS_NUM_THREADS=3\n",
      "env: NUMEXPR_NUM_THREADS=3\n",
      "env: OMP_NUM_THREADS=3\n"
     ]
    }
   ],
   "source": [
    "%env MKL_NUM_THREADS=$N_JOBS\n",
    "%env OPEN_BLAS_NUM_THREADS=$N_JOBS\n",
    "%env NUMEXPR_NUM_THREADS=$N_JOBS\n",
    "%env OMP_NUM_THREADS=$N_JOBS"
   ]
  },
  {
   "cell_type": "markdown",
   "metadata": {
    "papermill": {
     "duration": 0.017854,
     "end_time": "2021-01-12T08:22:25.884053",
     "exception": false,
     "start_time": "2021-01-12T08:22:25.866199",
     "status": "completed"
    },
    "tags": []
   },
   "source": [
    "# Modules loading"
   ]
  },
  {
   "cell_type": "code",
   "execution_count": 3,
   "metadata": {
    "execution": {
     "iopub.execute_input": "2021-01-12T08:22:25.921411Z",
     "iopub.status.busy": "2021-01-12T08:22:25.921029Z",
     "iopub.status.idle": "2021-01-12T08:22:25.931602Z",
     "shell.execute_reply": "2021-01-12T08:22:25.930561Z"
    },
    "papermill": {
     "duration": 0.030627,
     "end_time": "2021-01-12T08:22:25.931834",
     "exception": false,
     "start_time": "2021-01-12T08:22:25.901207",
     "status": "completed"
    },
    "tags": []
   },
   "outputs": [],
   "source": [
    "%load_ext autoreload\n",
    "%autoreload 2"
   ]
  },
  {
   "cell_type": "code",
   "execution_count": 4,
   "metadata": {
    "execution": {
     "iopub.execute_input": "2021-01-12T08:22:25.990303Z",
     "iopub.status.busy": "2021-01-12T08:22:25.989936Z",
     "iopub.status.idle": "2021-01-12T08:22:26.664788Z",
     "shell.execute_reply": "2021-01-12T08:22:26.665085Z"
    },
    "papermill": {
     "duration": 0.697661,
     "end_time": "2021-01-12T08:22:26.665199",
     "exception": false,
     "start_time": "2021-01-12T08:22:25.967538",
     "status": "completed"
    },
    "tags": []
   },
   "outputs": [],
   "source": [
    "from pathlib import Path\n",
    "\n",
    "import numpy as np\n",
    "import pandas as pd\n",
    "from sklearn.neighbors import NearestNeighbors\n",
    "from sklearn.metrics import pairwise_distances\n",
    "from sklearn.cluster import DBSCAN\n",
    "import matplotlib.pyplot as plt\n",
    "\n",
    "from utils import generate_result_set_name\n",
    "from clustering.ensembles.utils import generate_ensemble"
   ]
  },
  {
   "cell_type": "markdown",
   "metadata": {
    "papermill": {
     "duration": 0.016404,
     "end_time": "2021-01-12T08:22:26.698948",
     "exception": false,
     "start_time": "2021-01-12T08:22:26.682544",
     "status": "completed"
    },
    "tags": []
   },
   "source": [
    "# Global settings"
   ]
  },
  {
   "cell_type": "code",
   "execution_count": 5,
   "metadata": {
    "execution": {
     "iopub.execute_input": "2021-01-12T08:22:26.735234Z",
     "iopub.status.busy": "2021-01-12T08:22:26.734867Z",
     "iopub.status.idle": "2021-01-12T08:22:26.745572Z",
     "shell.execute_reply": "2021-01-12T08:22:26.745198Z"
    },
    "papermill": {
     "duration": 0.029841,
     "end_time": "2021-01-12T08:22:26.745661",
     "exception": false,
     "start_time": "2021-01-12T08:22:26.715820",
     "status": "completed"
    },
    "tags": []
   },
   "outputs": [],
   "source": [
    "CLUSTERING_ATTRIBUTES_TO_SAVE = [\"n_clusters\"]"
   ]
  },
  {
   "cell_type": "markdown",
   "metadata": {
    "papermill": {
     "duration": 0.016667,
     "end_time": "2021-01-12T08:22:26.779305",
     "exception": false,
     "start_time": "2021-01-12T08:22:26.762638",
     "status": "completed"
    },
    "tags": []
   },
   "source": [
    "# Data version: pca"
   ]
  },
  {
   "cell_type": "markdown",
   "metadata": {
    "papermill": {
     "duration": 0.016128,
     "end_time": "2021-01-12T08:22:26.811968",
     "exception": false,
     "start_time": "2021-01-12T08:22:26.795840",
     "status": "completed"
    },
    "tags": []
   },
   "source": [
    "## Settings"
   ]
  },
  {
   "cell_type": "code",
   "execution_count": 6,
   "metadata": {
    "execution": {
     "iopub.execute_input": "2021-01-12T08:22:26.847857Z",
     "iopub.status.busy": "2021-01-12T08:22:26.847481Z",
     "iopub.status.idle": "2021-01-12T08:22:26.857916Z",
     "shell.execute_reply": "2021-01-12T08:22:26.857536Z"
    },
    "papermill": {
     "duration": 0.029493,
     "end_time": "2021-01-12T08:22:26.858004",
     "exception": false,
     "start_time": "2021-01-12T08:22:26.828511",
     "status": "completed"
    },
    "tags": []
   },
   "outputs": [],
   "source": [
    "INPUT_SUBSET = \"pca\""
   ]
  },
  {
   "cell_type": "code",
   "execution_count": 7,
   "metadata": {
    "execution": {
     "iopub.execute_input": "2021-01-12T08:22:26.895222Z",
     "iopub.status.busy": "2021-01-12T08:22:26.894851Z",
     "iopub.status.idle": "2021-01-12T08:22:26.905208Z",
     "shell.execute_reply": "2021-01-12T08:22:26.904841Z"
    },
    "papermill": {
     "duration": 0.029718,
     "end_time": "2021-01-12T08:22:26.905293",
     "exception": false,
     "start_time": "2021-01-12T08:22:26.875575",
     "status": "completed"
    },
    "tags": []
   },
   "outputs": [],
   "source": [
    "INPUT_STEM = \"z_score_std-projection-smultixcan-efo_partial-mashr-zscores\""
   ]
  },
  {
   "cell_type": "code",
   "execution_count": 8,
   "metadata": {
    "execution": {
     "iopub.execute_input": "2021-01-12T08:22:26.941671Z",
     "iopub.status.busy": "2021-01-12T08:22:26.941292Z",
     "iopub.status.idle": "2021-01-12T08:22:26.951437Z",
     "shell.execute_reply": "2021-01-12T08:22:26.951741Z"
    },
    "papermill": {
     "duration": 0.029558,
     "end_time": "2021-01-12T08:22:26.951852",
     "exception": false,
     "start_time": "2021-01-12T08:22:26.922294",
     "status": "completed"
    },
    "tags": []
   },
   "outputs": [],
   "source": [
    "# parameters of the dimentionality reduction steps\n",
    "DR_OPTIONS = {\n",
    "    \"n_components\": 50,\n",
    "    \"svd_solver\": \"full\",\n",
    "    \"random_state\": 0,\n",
    "}"
   ]
  },
  {
   "cell_type": "code",
   "execution_count": 9,
   "metadata": {
    "execution": {
     "iopub.execute_input": "2021-01-12T08:22:26.990219Z",
     "iopub.status.busy": "2021-01-12T08:22:26.989839Z",
     "iopub.status.idle": "2021-01-12T08:22:27.002264Z",
     "shell.execute_reply": "2021-01-12T08:22:27.001925Z"
    },
    "papermill": {
     "duration": 0.032875,
     "end_time": "2021-01-12T08:22:27.002351",
     "exception": false,
     "start_time": "2021-01-12T08:22:26.969476",
     "status": "completed"
    },
    "tags": []
   },
   "outputs": [
    {
     "data": {
      "text/plain": [
       "PosixPath('/home/miltondp/projects/labs/greenelab/phenoplier/base3/results/data_transformations/pca/pca-z_score_std-projection-smultixcan-efo_partial-mashr-zscores-n_components_50-random_state_0-svd_solver_full.pkl')"
      ]
     },
     "metadata": {},
     "output_type": "display_data"
    },
    {
     "data": {
      "text/plain": [
       "'pca-z_score_std-projection-smultixcan-efo_partial-mashr-zscores-n_components_50-random_state_0-svd_solver_full'"
      ]
     },
     "metadata": {},
     "output_type": "display_data"
    }
   ],
   "source": [
    "input_filepath = Path(\n",
    "    conf.RESULTS[\"DATA_TRANSFORMATIONS_DIR\"],\n",
    "    INPUT_SUBSET,\n",
    "    generate_result_set_name(\n",
    "        DR_OPTIONS, prefix=f\"{INPUT_SUBSET}-{INPUT_STEM}-\", suffix=\".pkl\"\n",
    "    ),\n",
    ").resolve()\n",
    "display(input_filepath)\n",
    "\n",
    "assert input_filepath.exists(), \"Input file does not exist\"\n",
    "\n",
    "input_filepath_stem = input_filepath.stem\n",
    "display(input_filepath_stem)"
   ]
  },
  {
   "cell_type": "code",
   "execution_count": 10,
   "metadata": {
    "execution": {
     "iopub.execute_input": "2021-01-12T08:22:27.040780Z",
     "iopub.status.busy": "2021-01-12T08:22:27.040318Z",
     "iopub.status.idle": "2021-01-12T08:22:27.052003Z",
     "shell.execute_reply": "2021-01-12T08:22:27.051629Z"
    },
    "papermill": {
     "duration": 0.031878,
     "end_time": "2021-01-12T08:22:27.052091",
     "exception": false,
     "start_time": "2021-01-12T08:22:27.020213",
     "status": "completed"
    },
    "tags": []
   },
   "outputs": [
    {
     "data": {
      "text/plain": [
       "PosixPath('/home/miltondp/projects/labs/greenelab/phenoplier/base3/results/clustering/runs/pca-z_score_std-projection-smultixcan-efo_partial-mashr-zscores')"
      ]
     },
     "metadata": {},
     "output_type": "display_data"
    }
   ],
   "source": [
    "# output dir for this notebook\n",
    "RESULTS_DIR = Path(\n",
    "    conf.RESULTS[\"CLUSTERING_RUNS_DIR\"],\n",
    "    f\"{INPUT_SUBSET}-{INPUT_STEM}\",\n",
    ").resolve()\n",
    "RESULTS_DIR.mkdir(parents=True, exist_ok=True)\n",
    "\n",
    "display(RESULTS_DIR)"
   ]
  },
  {
   "cell_type": "markdown",
   "metadata": {
    "papermill": {
     "duration": 0.01766,
     "end_time": "2021-01-12T08:22:27.087890",
     "exception": false,
     "start_time": "2021-01-12T08:22:27.070230",
     "status": "completed"
    },
    "tags": []
   },
   "source": [
    "## Load input file"
   ]
  },
  {
   "cell_type": "code",
   "execution_count": 11,
   "metadata": {
    "execution": {
     "iopub.execute_input": "2021-01-12T08:22:27.126196Z",
     "iopub.status.busy": "2021-01-12T08:22:27.125830Z",
     "iopub.status.idle": "2021-01-12T08:22:27.138312Z",
     "shell.execute_reply": "2021-01-12T08:22:27.137878Z"
    },
    "papermill": {
     "duration": 0.032309,
     "end_time": "2021-01-12T08:22:27.138430",
     "exception": false,
     "start_time": "2021-01-12T08:22:27.106121",
     "status": "completed"
    },
    "tags": []
   },
   "outputs": [],
   "source": [
    "data = pd.read_pickle(input_filepath)"
   ]
  },
  {
   "cell_type": "code",
   "execution_count": 12,
   "metadata": {
    "execution": {
     "iopub.execute_input": "2021-01-12T08:22:27.176079Z",
     "iopub.status.busy": "2021-01-12T08:22:27.175710Z",
     "iopub.status.idle": "2021-01-12T08:22:27.186986Z",
     "shell.execute_reply": "2021-01-12T08:22:27.186608Z"
    },
    "papermill": {
     "duration": 0.030906,
     "end_time": "2021-01-12T08:22:27.187074",
     "exception": false,
     "start_time": "2021-01-12T08:22:27.156168",
     "status": "completed"
    },
    "tags": []
   },
   "outputs": [
    {
     "data": {
      "text/plain": [
       "(3749, 50)"
      ]
     },
     "execution_count": 12,
     "metadata": {},
     "output_type": "execute_result"
    }
   ],
   "source": [
    "data.shape"
   ]
  },
  {
   "cell_type": "code",
   "execution_count": 13,
   "metadata": {
    "execution": {
     "iopub.execute_input": "2021-01-12T08:22:27.249471Z",
     "iopub.status.busy": "2021-01-12T08:22:27.249034Z",
     "iopub.status.idle": "2021-01-12T08:22:27.276025Z",
     "shell.execute_reply": "2021-01-12T08:22:27.276355Z"
    },
    "papermill": {
     "duration": 0.0522,
     "end_time": "2021-01-12T08:22:27.276480",
     "exception": false,
     "start_time": "2021-01-12T08:22:27.224280",
     "status": "completed"
    },
    "tags": []
   },
   "outputs": [
    {
     "data": {
      "text/html": [
       "<div>\n",
       "<style scoped>\n",
       "    .dataframe tbody tr th:only-of-type {\n",
       "        vertical-align: middle;\n",
       "    }\n",
       "\n",
       "    .dataframe tbody tr th {\n",
       "        vertical-align: top;\n",
       "    }\n",
       "\n",
       "    .dataframe thead th {\n",
       "        text-align: right;\n",
       "    }\n",
       "</style>\n",
       "<table border=\"1\" class=\"dataframe\">\n",
       "  <thead>\n",
       "    <tr style=\"text-align: right;\">\n",
       "      <th></th>\n",
       "      <th>PCA1</th>\n",
       "      <th>PCA2</th>\n",
       "      <th>PCA3</th>\n",
       "      <th>PCA4</th>\n",
       "      <th>PCA5</th>\n",
       "      <th>PCA6</th>\n",
       "      <th>PCA7</th>\n",
       "      <th>PCA8</th>\n",
       "      <th>PCA9</th>\n",
       "      <th>PCA10</th>\n",
       "      <th>...</th>\n",
       "      <th>PCA41</th>\n",
       "      <th>PCA42</th>\n",
       "      <th>PCA43</th>\n",
       "      <th>PCA44</th>\n",
       "      <th>PCA45</th>\n",
       "      <th>PCA46</th>\n",
       "      <th>PCA47</th>\n",
       "      <th>PCA48</th>\n",
       "      <th>PCA49</th>\n",
       "      <th>PCA50</th>\n",
       "    </tr>\n",
       "  </thead>\n",
       "  <tbody>\n",
       "    <tr>\n",
       "      <th>100001_raw-Food_weight</th>\n",
       "      <td>-0.547515</td>\n",
       "      <td>-0.007250</td>\n",
       "      <td>0.245361</td>\n",
       "      <td>0.132424</td>\n",
       "      <td>1.201447</td>\n",
       "      <td>-0.113158</td>\n",
       "      <td>0.048859</td>\n",
       "      <td>1.031679</td>\n",
       "      <td>0.711208</td>\n",
       "      <td>0.126100</td>\n",
       "      <td>...</td>\n",
       "      <td>0.113685</td>\n",
       "      <td>-0.109753</td>\n",
       "      <td>0.178202</td>\n",
       "      <td>-0.487868</td>\n",
       "      <td>1.805920</td>\n",
       "      <td>-0.342611</td>\n",
       "      <td>-0.663712</td>\n",
       "      <td>-1.313987</td>\n",
       "      <td>-1.481707</td>\n",
       "      <td>0.396410</td>\n",
       "    </tr>\n",
       "    <tr>\n",
       "      <th>100002_raw-Energy</th>\n",
       "      <td>-1.570593</td>\n",
       "      <td>-0.618992</td>\n",
       "      <td>-1.223395</td>\n",
       "      <td>1.627321</td>\n",
       "      <td>-0.563860</td>\n",
       "      <td>0.224922</td>\n",
       "      <td>-1.500327</td>\n",
       "      <td>2.045633</td>\n",
       "      <td>-1.665998</td>\n",
       "      <td>-0.180432</td>\n",
       "      <td>...</td>\n",
       "      <td>0.697880</td>\n",
       "      <td>1.412676</td>\n",
       "      <td>2.103988</td>\n",
       "      <td>0.385625</td>\n",
       "      <td>2.386495</td>\n",
       "      <td>-2.939998</td>\n",
       "      <td>-0.978275</td>\n",
       "      <td>-1.893307</td>\n",
       "      <td>-0.259497</td>\n",
       "      <td>0.423264</td>\n",
       "    </tr>\n",
       "    <tr>\n",
       "      <th>100003_raw-Protein</th>\n",
       "      <td>-0.601212</td>\n",
       "      <td>-0.948824</td>\n",
       "      <td>-1.022209</td>\n",
       "      <td>2.438433</td>\n",
       "      <td>-2.062235</td>\n",
       "      <td>0.356202</td>\n",
       "      <td>-1.538038</td>\n",
       "      <td>2.314675</td>\n",
       "      <td>-1.108991</td>\n",
       "      <td>0.318034</td>\n",
       "      <td>...</td>\n",
       "      <td>0.171992</td>\n",
       "      <td>1.351979</td>\n",
       "      <td>0.054404</td>\n",
       "      <td>-0.725132</td>\n",
       "      <td>2.226520</td>\n",
       "      <td>-3.481674</td>\n",
       "      <td>-0.445294</td>\n",
       "      <td>-0.477452</td>\n",
       "      <td>0.237157</td>\n",
       "      <td>1.440867</td>\n",
       "    </tr>\n",
       "    <tr>\n",
       "      <th>100004_raw-Fat</th>\n",
       "      <td>-1.648214</td>\n",
       "      <td>-0.342042</td>\n",
       "      <td>-0.270189</td>\n",
       "      <td>1.683268</td>\n",
       "      <td>-1.222401</td>\n",
       "      <td>0.018349</td>\n",
       "      <td>-0.032824</td>\n",
       "      <td>1.671161</td>\n",
       "      <td>-0.908965</td>\n",
       "      <td>0.224100</td>\n",
       "      <td>...</td>\n",
       "      <td>-0.358812</td>\n",
       "      <td>0.696836</td>\n",
       "      <td>1.072624</td>\n",
       "      <td>0.627951</td>\n",
       "      <td>1.802000</td>\n",
       "      <td>0.174704</td>\n",
       "      <td>0.826319</td>\n",
       "      <td>-0.826992</td>\n",
       "      <td>0.596113</td>\n",
       "      <td>0.620050</td>\n",
       "    </tr>\n",
       "    <tr>\n",
       "      <th>100005_raw-Carbohydrate</th>\n",
       "      <td>-1.867586</td>\n",
       "      <td>-0.006412</td>\n",
       "      <td>-0.303220</td>\n",
       "      <td>0.770958</td>\n",
       "      <td>-0.116822</td>\n",
       "      <td>0.460946</td>\n",
       "      <td>-2.407732</td>\n",
       "      <td>1.534273</td>\n",
       "      <td>-1.930577</td>\n",
       "      <td>0.064621</td>\n",
       "      <td>...</td>\n",
       "      <td>1.332852</td>\n",
       "      <td>1.978032</td>\n",
       "      <td>2.158456</td>\n",
       "      <td>0.831123</td>\n",
       "      <td>1.093202</td>\n",
       "      <td>-3.539033</td>\n",
       "      <td>-0.831862</td>\n",
       "      <td>-0.842298</td>\n",
       "      <td>-0.723072</td>\n",
       "      <td>0.359438</td>\n",
       "    </tr>\n",
       "  </tbody>\n",
       "</table>\n",
       "<p>5 rows × 50 columns</p>\n",
       "</div>"
      ],
      "text/plain": [
       "                             PCA1      PCA2      PCA3      PCA4      PCA5  \\\n",
       "100001_raw-Food_weight  -0.547515 -0.007250  0.245361  0.132424  1.201447   \n",
       "100002_raw-Energy       -1.570593 -0.618992 -1.223395  1.627321 -0.563860   \n",
       "100003_raw-Protein      -0.601212 -0.948824 -1.022209  2.438433 -2.062235   \n",
       "100004_raw-Fat          -1.648214 -0.342042 -0.270189  1.683268 -1.222401   \n",
       "100005_raw-Carbohydrate -1.867586 -0.006412 -0.303220  0.770958 -0.116822   \n",
       "\n",
       "                             PCA6      PCA7      PCA8      PCA9     PCA10  \\\n",
       "100001_raw-Food_weight  -0.113158  0.048859  1.031679  0.711208  0.126100   \n",
       "100002_raw-Energy        0.224922 -1.500327  2.045633 -1.665998 -0.180432   \n",
       "100003_raw-Protein       0.356202 -1.538038  2.314675 -1.108991  0.318034   \n",
       "100004_raw-Fat           0.018349 -0.032824  1.671161 -0.908965  0.224100   \n",
       "100005_raw-Carbohydrate  0.460946 -2.407732  1.534273 -1.930577  0.064621   \n",
       "\n",
       "                         ...     PCA41     PCA42     PCA43     PCA44  \\\n",
       "100001_raw-Food_weight   ...  0.113685 -0.109753  0.178202 -0.487868   \n",
       "100002_raw-Energy        ...  0.697880  1.412676  2.103988  0.385625   \n",
       "100003_raw-Protein       ...  0.171992  1.351979  0.054404 -0.725132   \n",
       "100004_raw-Fat           ... -0.358812  0.696836  1.072624  0.627951   \n",
       "100005_raw-Carbohydrate  ...  1.332852  1.978032  2.158456  0.831123   \n",
       "\n",
       "                            PCA45     PCA46     PCA47     PCA48     PCA49  \\\n",
       "100001_raw-Food_weight   1.805920 -0.342611 -0.663712 -1.313987 -1.481707   \n",
       "100002_raw-Energy        2.386495 -2.939998 -0.978275 -1.893307 -0.259497   \n",
       "100003_raw-Protein       2.226520 -3.481674 -0.445294 -0.477452  0.237157   \n",
       "100004_raw-Fat           1.802000  0.174704  0.826319 -0.826992  0.596113   \n",
       "100005_raw-Carbohydrate  1.093202 -3.539033 -0.831862 -0.842298 -0.723072   \n",
       "\n",
       "                            PCA50  \n",
       "100001_raw-Food_weight   0.396410  \n",
       "100002_raw-Energy        0.423264  \n",
       "100003_raw-Protein       1.440867  \n",
       "100004_raw-Fat           0.620050  \n",
       "100005_raw-Carbohydrate  0.359438  \n",
       "\n",
       "[5 rows x 50 columns]"
      ]
     },
     "execution_count": 13,
     "metadata": {},
     "output_type": "execute_result"
    }
   ],
   "source": [
    "data.head()"
   ]
  },
  {
   "cell_type": "code",
   "execution_count": 14,
   "metadata": {
    "execution": {
     "iopub.execute_input": "2021-01-12T08:22:27.320653Z",
     "iopub.status.busy": "2021-01-12T08:22:27.320279Z",
     "iopub.status.idle": "2021-01-12T08:22:27.331478Z",
     "shell.execute_reply": "2021-01-12T08:22:27.331084Z"
    },
    "papermill": {
     "duration": 0.033454,
     "end_time": "2021-01-12T08:22:27.331568",
     "exception": false,
     "start_time": "2021-01-12T08:22:27.298114",
     "status": "completed"
    },
    "tags": []
   },
   "outputs": [],
   "source": [
    "assert not data.isna().any().any()"
   ]
  },
  {
   "cell_type": "markdown",
   "metadata": {
    "papermill": {
     "duration": 0.017617,
     "end_time": "2021-01-12T08:22:27.367580",
     "exception": false,
     "start_time": "2021-01-12T08:22:27.349963",
     "status": "completed"
    },
    "tags": []
   },
   "source": [
    "## Tests different k values (k-NN)"
   ]
  },
  {
   "cell_type": "code",
   "execution_count": 15,
   "metadata": {
    "execution": {
     "iopub.execute_input": "2021-01-12T08:22:27.406157Z",
     "iopub.status.busy": "2021-01-12T08:22:27.405776Z",
     "iopub.status.idle": "2021-01-12T08:22:27.416318Z",
     "shell.execute_reply": "2021-01-12T08:22:27.415937Z"
    },
    "papermill": {
     "duration": 0.030788,
     "end_time": "2021-01-12T08:22:27.416407",
     "exception": false,
     "start_time": "2021-01-12T08:22:27.385619",
     "status": "completed"
    },
    "tags": []
   },
   "outputs": [],
   "source": [
    "k_values = np.arange(2, 100 + 1, 1)\n",
    "k_values_to_explore = (2, 5, 10, 15, 20, 30, 40, 50, 75, 100)"
   ]
  },
  {
   "cell_type": "code",
   "execution_count": 16,
   "metadata": {
    "execution": {
     "iopub.execute_input": "2021-01-12T08:22:27.455710Z",
     "iopub.status.busy": "2021-01-12T08:22:27.455346Z",
     "iopub.status.idle": "2021-01-12T08:22:32.430043Z",
     "shell.execute_reply": "2021-01-12T08:22:32.429659Z"
    },
    "papermill": {
     "duration": 4.995274,
     "end_time": "2021-01-12T08:22:32.430133",
     "exception": false,
     "start_time": "2021-01-12T08:22:27.434859",
     "status": "completed"
    },
    "tags": []
   },
   "outputs": [],
   "source": [
    "results = {}\n",
    "\n",
    "for k in k_values_to_explore:\n",
    "    nbrs = NearestNeighbors(n_neighbors=k, n_jobs=N_JOBS).fit(data)\n",
    "    distances, indices = nbrs.kneighbors(data)\n",
    "    results[k] = (distances, indices)"
   ]
  },
  {
   "cell_type": "code",
   "execution_count": 17,
   "metadata": {
    "execution": {
     "iopub.execute_input": "2021-01-12T08:22:32.470568Z",
     "iopub.status.busy": "2021-01-12T08:22:32.470186Z",
     "iopub.status.idle": "2021-01-12T08:22:32.480655Z",
     "shell.execute_reply": "2021-01-12T08:22:32.480980Z"
    },
    "papermill": {
     "duration": 0.031944,
     "end_time": "2021-01-12T08:22:32.481090",
     "exception": false,
     "start_time": "2021-01-12T08:22:32.449146",
     "status": "completed"
    },
    "tags": []
   },
   "outputs": [],
   "source": [
    "min_max_range = (15, 80)\n",
    "\n",
    "eps_range_per_k = {k: min_max_range for k in k_values}\n",
    "eps_range_per_k_to_explore = {k: min_max_range for k in k_values_to_explore}"
   ]
  },
  {
   "cell_type": "code",
   "execution_count": 18,
   "metadata": {
    "execution": {
     "iopub.execute_input": "2021-01-12T08:22:32.521276Z",
     "iopub.status.busy": "2021-01-12T08:22:32.520889Z",
     "iopub.status.idle": "2021-01-12T08:22:33.479428Z",
     "shell.execute_reply": "2021-01-12T08:22:33.479050Z"
    },
    "papermill": {
     "duration": 0.980143,
     "end_time": "2021-01-12T08:22:33.479517",
     "exception": false,
     "start_time": "2021-01-12T08:22:32.499374",
     "status": "completed"
    },
    "tags": []
   },
   "outputs": [
    {
     "data": {
      "image/png": "[encoded data removed]",
      "text/plain": [
       "<Figure size 432x288 with 1 Axes>"
      ]
     },
     "metadata": {},
     "output_type": "display_data"
    },
    {
     "data": {
      "image/png": "[encoded data removed]",
      "text/plain": [
       "<Figure size 432x288 with 1 Axes>"
      ]
     },
     "metadata": {},
     "output_type": "display_data"
    },
    {
     "data": {
      "image/png": "[encoded data removed]",
      "text/plain": [
       "<Figure size 432x288 with 1 Axes>"
      ]
     },
     "metadata": {},
     "output_type": "display_data"
    },
    {
     "data": {
      "image/png": "[encoded data removed]",
      "text/plain": [
       "<Figure size 432x288 with 1 Axes>"
      ]
     },
     "metadata": {},
     "output_type": "display_data"
    },
    {
     "data": {
      "image/png": "[encoded data removed]",
      "text/plain": [
       "<Figure size 432x288 with 1 Axes>"
      ]
     },
     "metadata": {},
     "output_type": "display_data"
    },
    {
     "data": {
      "image/png": "[encoded data removed]",
      "text/plain": [
       "<Figure size 432x288 with 1 Axes>"
      ]
     },
     "metadata": {},
     "output_type": "display_data"
    },
    {
     "data": {
      "image/png": "[encoded data removed]",
      "text/plain": [
       "<Figure size 432x288 with 1 Axes>"
      ]
     },
     "metadata": {},
     "output_type": "display_data"
    },
    {
     "data": {
      "image/png": "[encoded data removed]",
      "text/plain": [
       "<Figure size 432x288 with 1 Axes>"
      ]
     },
     "metadata": {},
     "output_type": "display_data"
    },
    {
     "data": {
      "image/png": "[encoded data removed]",
      "text/plain": [
       "<Figure size 432x288 with 1 Axes>"
      ]
     },
     "metadata": {},
     "output_type": "display_data"
    },
    {
     "data": {
      "image/png": "[encoded data removed]",
      "text/plain": [
       "<Figure size 432x288 with 1 Axes>"
      ]
     },
     "metadata": {},
     "output_type": "display_data"
    }
   ],
   "source": [
    "for k, (distances, indices) in results.items():\n",
    "    d = distances[:, 1:].mean(axis=1)\n",
    "    d = np.sort(d)\n",
    "\n",
    "    fig, ax = plt.subplots()\n",
    "    plt.plot(d)\n",
    "\n",
    "    r = eps_range_per_k_to_explore[k]\n",
    "    plt.hlines(r[0], 0, data.shape[0], color=\"red\")\n",
    "    plt.hlines(r[1], 0, data.shape[0], color=\"red\")\n",
    "\n",
    "    plt.xlim((3000, data.shape[0]))\n",
    "    plt.title(f\"k={k}\")\n",
    "    display(fig)\n",
    "\n",
    "    plt.close(fig)"
   ]
  },
  {
   "cell_type": "markdown",
   "metadata": {
    "papermill": {
     "duration": 0.021767,
     "end_time": "2021-01-12T08:22:33.523874",
     "exception": false,
     "start_time": "2021-01-12T08:22:33.502107",
     "status": "completed"
    },
    "tags": []
   },
   "source": [
    "## Clustering"
   ]
  },
  {
   "cell_type": "markdown",
   "metadata": {
    "papermill": {
     "duration": 0.021612,
     "end_time": "2021-01-12T08:22:33.567345",
     "exception": false,
     "start_time": "2021-01-12T08:22:33.545733",
     "status": "completed"
    },
    "tags": []
   },
   "source": [
    "### Generate clusterers"
   ]
  },
  {
   "cell_type": "code",
   "execution_count": 19,
   "metadata": {
    "execution": {
     "iopub.execute_input": "2021-01-12T08:22:33.613446Z",
     "iopub.status.busy": "2021-01-12T08:22:33.613067Z",
     "iopub.status.idle": "2021-01-12T08:22:33.628759Z",
     "shell.execute_reply": "2021-01-12T08:22:33.628335Z"
    },
    "papermill": {
     "duration": 0.039801,
     "end_time": "2021-01-12T08:22:33.628861",
     "exception": false,
     "start_time": "2021-01-12T08:22:33.589060",
     "status": "completed"
    },
    "tags": []
   },
   "outputs": [
    {
     "data": {
      "text/plain": [
       "{'K_RANGE': array([  2,   3,   4,   5,   6,   7,   8,   9,  10,  11,  12,  13,  14,\n",
       "         15,  16,  17,  18,  19,  20,  21,  22,  23,  24,  25,  26,  27,\n",
       "         28,  29,  30,  31,  32,  33,  34,  35,  36,  37,  38,  39,  40,\n",
       "         41,  42,  43,  44,  45,  46,  47,  48,  49,  50,  51,  52,  53,\n",
       "         54,  55,  56,  57,  58,  59,  60,  61,  62,  63,  64,  65,  66,\n",
       "         67,  68,  69,  70,  71,  72,  73,  74,  75,  76,  77,  78,  79,\n",
       "         80,  81,  82,  83,  84,  85,  86,  87,  88,  89,  90,  91,  92,\n",
       "         93,  94,  95,  96,  97,  98,  99, 100]),\n",
       " 'EPS_RANGE_PER_K': {2: (15, 80),\n",
       "  3: (15, 80),\n",
       "  4: (15, 80),\n",
       "  5: (15, 80),\n",
       "  6: (15, 80),\n",
       "  7: (15, 80),\n",
       "  8: (15, 80),\n",
       "  9: (15, 80),\n",
       "  10: (15, 80),\n",
       "  11: (15, 80),\n",
       "  12: (15, 80),\n",
       "  13: (15, 80),\n",
       "  14: (15, 80),\n",
       "  15: (15, 80),\n",
       "  16: (15, 80),\n",
       "  17: (15, 80),\n",
       "  18: (15, 80),\n",
       "  19: (15, 80),\n",
       "  20: (15, 80),\n",
       "  21: (15, 80),\n",
       "  22: (15, 80),\n",
       "  23: (15, 80),\n",
       "  24: (15, 80),\n",
       "  25: (15, 80),\n",
       "  26: (15, 80),\n",
       "  27: (15, 80),\n",
       "  28: (15, 80),\n",
       "  29: (15, 80),\n",
       "  30: (15, 80),\n",
       "  31: (15, 80),\n",
       "  32: (15, 80),\n",
       "  33: (15, 80),\n",
       "  34: (15, 80),\n",
       "  35: (15, 80),\n",
       "  36: (15, 80),\n",
       "  37: (15, 80),\n",
       "  38: (15, 80),\n",
       "  39: (15, 80),\n",
       "  40: (15, 80),\n",
       "  41: (15, 80),\n",
       "  42: (15, 80),\n",
       "  43: (15, 80),\n",
       "  44: (15, 80),\n",
       "  45: (15, 80),\n",
       "  46: (15, 80),\n",
       "  47: (15, 80),\n",
       "  48: (15, 80),\n",
       "  49: (15, 80),\n",
       "  50: (15, 80),\n",
       "  51: (15, 80),\n",
       "  52: (15, 80),\n",
       "  53: (15, 80),\n",
       "  54: (15, 80),\n",
       "  55: (15, 80),\n",
       "  56: (15, 80),\n",
       "  57: (15, 80),\n",
       "  58: (15, 80),\n",
       "  59: (15, 80),\n",
       "  60: (15, 80),\n",
       "  61: (15, 80),\n",
       "  62: (15, 80),\n",
       "  63: (15, 80),\n",
       "  64: (15, 80),\n",
       "  65: (15, 80),\n",
       "  66: (15, 80),\n",
       "  67: (15, 80),\n",
       "  68: (15, 80),\n",
       "  69: (15, 80),\n",
       "  70: (15, 80),\n",
       "  71: (15, 80),\n",
       "  72: (15, 80),\n",
       "  73: (15, 80),\n",
       "  74: (15, 80),\n",
       "  75: (15, 80),\n",
       "  76: (15, 80),\n",
       "  77: (15, 80),\n",
       "  78: (15, 80),\n",
       "  79: (15, 80),\n",
       "  80: (15, 80),\n",
       "  81: (15, 80),\n",
       "  82: (15, 80),\n",
       "  83: (15, 80),\n",
       "  84: (15, 80),\n",
       "  85: (15, 80),\n",
       "  86: (15, 80),\n",
       "  87: (15, 80),\n",
       "  88: (15, 80),\n",
       "  89: (15, 80),\n",
       "  90: (15, 80),\n",
       "  91: (15, 80),\n",
       "  92: (15, 80),\n",
       "  93: (15, 80),\n",
       "  94: (15, 80),\n",
       "  95: (15, 80),\n",
       "  96: (15, 80),\n",
       "  97: (15, 80),\n",
       "  98: (15, 80),\n",
       "  99: (15, 80),\n",
       "  100: (15, 80)},\n",
       " 'EPS_STEP': 33,\n",
       " 'METRIC': 'euclidean'}"
      ]
     },
     "metadata": {},
     "output_type": "display_data"
    }
   ],
   "source": [
    "CLUSTERING_OPTIONS = {}\n",
    "\n",
    "# K_RANGE is the min_samples parameter in DBSCAN (sklearn)\n",
    "CLUSTERING_OPTIONS[\"K_RANGE\"] = k_values\n",
    "CLUSTERING_OPTIONS[\"EPS_RANGE_PER_K\"] = eps_range_per_k\n",
    "CLUSTERING_OPTIONS[\"EPS_STEP\"] = 33\n",
    "CLUSTERING_OPTIONS[\"METRIC\"] = \"euclidean\"\n",
    "\n",
    "display(CLUSTERING_OPTIONS)"
   ]
  },
  {
   "cell_type": "code",
   "execution_count": 20,
   "metadata": {
    "execution": {
     "iopub.execute_input": "2021-01-12T08:22:33.677452Z",
     "iopub.status.busy": "2021-01-12T08:22:33.677079Z",
     "iopub.status.idle": "2021-01-12T08:22:33.699013Z",
     "shell.execute_reply": "2021-01-12T08:22:33.698622Z"
    },
    "papermill": {
     "duration": 0.047073,
     "end_time": "2021-01-12T08:22:33.699104",
     "exception": false,
     "start_time": "2021-01-12T08:22:33.652031",
     "status": "completed"
    },
    "tags": []
   },
   "outputs": [],
   "source": [
    "CLUSTERERS = {}\n",
    "\n",
    "idx = 0\n",
    "\n",
    "for k in CLUSTERING_OPTIONS[\"K_RANGE\"]:\n",
    "    eps_range = CLUSTERING_OPTIONS[\"EPS_RANGE_PER_K\"][k]\n",
    "    eps_values = np.linspace(eps_range[0], eps_range[1], CLUSTERING_OPTIONS[\"EPS_STEP\"])\n",
    "\n",
    "    for eps in eps_values:\n",
    "        clus = DBSCAN(min_samples=k, eps=eps, metric=\"precomputed\", n_jobs=N_JOBS)\n",
    "\n",
    "        method_name = type(clus).__name__\n",
    "        CLUSTERERS[f\"{method_name} #{idx}\"] = clus\n",
    "\n",
    "        idx = idx + 1"
   ]
  },
  {
   "cell_type": "code",
   "execution_count": 21,
   "metadata": {
    "execution": {
     "iopub.execute_input": "2021-01-12T08:22:33.746621Z",
     "iopub.status.busy": "2021-01-12T08:22:33.746255Z",
     "iopub.status.idle": "2021-01-12T08:22:33.757412Z",
     "shell.execute_reply": "2021-01-12T08:22:33.757098Z"
    },
    "papermill": {
     "duration": 0.035668,
     "end_time": "2021-01-12T08:22:33.757499",
     "exception": false,
     "start_time": "2021-01-12T08:22:33.721831",
     "status": "completed"
    },
    "tags": []
   },
   "outputs": [
    {
     "data": {
      "text/plain": [
       "3267"
      ]
     },
     "metadata": {},
     "output_type": "display_data"
    }
   ],
   "source": [
    "display(len(CLUSTERERS))"
   ]
  },
  {
   "cell_type": "code",
   "execution_count": 22,
   "metadata": {
    "execution": {
     "iopub.execute_input": "2021-01-12T08:22:33.805730Z",
     "iopub.status.busy": "2021-01-12T08:22:33.805355Z",
     "iopub.status.idle": "2021-01-12T08:22:33.817939Z",
     "shell.execute_reply": "2021-01-12T08:22:33.817611Z"
    },
    "papermill": {
     "duration": 0.0379,
     "end_time": "2021-01-12T08:22:33.818029",
     "exception": false,
     "start_time": "2021-01-12T08:22:33.780129",
     "status": "completed"
    },
    "tags": []
   },
   "outputs": [
    {
     "data": {
      "text/plain": [
       "('DBSCAN #0', DBSCAN(eps=15.0, metric='precomputed', min_samples=2, n_jobs=3))"
      ]
     },
     "metadata": {},
     "output_type": "display_data"
    },
    {
     "data": {
      "text/plain": [
       "('DBSCAN #1',\n",
       " DBSCAN(eps=17.03125, metric='precomputed', min_samples=2, n_jobs=3))"
      ]
     },
     "metadata": {},
     "output_type": "display_data"
    }
   ],
   "source": [
    "_iter = iter(CLUSTERERS.items())\n",
    "display(next(_iter))\n",
    "display(next(_iter))"
   ]
  },
  {
   "cell_type": "code",
   "execution_count": 23,
   "metadata": {
    "execution": {
     "iopub.execute_input": "2021-01-12T08:22:33.866214Z",
     "iopub.status.busy": "2021-01-12T08:22:33.865849Z",
     "iopub.status.idle": "2021-01-12T08:22:33.876841Z",
     "shell.execute_reply": "2021-01-12T08:22:33.876419Z"
    },
    "papermill": {
     "duration": 0.035799,
     "end_time": "2021-01-12T08:22:33.876926",
     "exception": false,
     "start_time": "2021-01-12T08:22:33.841127",
     "status": "completed"
    },
    "tags": []
   },
   "outputs": [
    {
     "data": {
      "text/plain": [
       "'DBSCAN'"
      ]
     },
     "metadata": {},
     "output_type": "display_data"
    }
   ],
   "source": [
    "clustering_method_name = method_name\n",
    "display(clustering_method_name)"
   ]
  },
  {
   "cell_type": "markdown",
   "metadata": {
    "papermill": {
     "duration": 0.023138,
     "end_time": "2021-01-12T08:22:33.923493",
     "exception": false,
     "start_time": "2021-01-12T08:22:33.900355",
     "status": "completed"
    },
    "tags": []
   },
   "source": [
    "### Generate ensemble"
   ]
  },
  {
   "cell_type": "code",
   "execution_count": 24,
   "metadata": {
    "execution": {
     "iopub.execute_input": "2021-01-12T08:22:33.972615Z",
     "iopub.status.busy": "2021-01-12T08:22:33.972240Z",
     "iopub.status.idle": "2021-01-12T08:22:34.140512Z",
     "shell.execute_reply": "2021-01-12T08:22:34.140122Z"
    },
    "papermill": {
     "duration": 0.193882,
     "end_time": "2021-01-12T08:22:34.140603",
     "exception": false,
     "start_time": "2021-01-12T08:22:33.946721",
     "status": "completed"
    },
    "tags": []
   },
   "outputs": [],
   "source": [
    "data_dist = pairwise_distances(data, metric=CLUSTERING_OPTIONS[\"METRIC\"])"
   ]
  },
  {
   "cell_type": "code",
   "execution_count": 25,
   "metadata": {
    "execution": {
     "iopub.execute_input": "2021-01-12T08:22:34.189672Z",
     "iopub.status.busy": "2021-01-12T08:22:34.189291Z",
     "iopub.status.idle": "2021-01-12T08:22:34.200481Z",
     "shell.execute_reply": "2021-01-12T08:22:34.200118Z"
    },
    "papermill": {
     "duration": 0.036331,
     "end_time": "2021-01-12T08:22:34.200567",
     "exception": false,
     "start_time": "2021-01-12T08:22:34.164236",
     "status": "completed"
    },
    "tags": []
   },
   "outputs": [
    {
     "data": {
      "text/plain": [
       "(3749, 3749)"
      ]
     },
     "execution_count": 25,
     "metadata": {},
     "output_type": "execute_result"
    }
   ],
   "source": [
    "data_dist.shape"
   ]
  },
  {
   "cell_type": "code",
   "execution_count": 26,
   "metadata": {
    "execution": {
     "iopub.execute_input": "2021-01-12T08:22:34.250214Z",
     "iopub.status.busy": "2021-01-12T08:22:34.249826Z",
     "iopub.status.idle": "2021-01-12T08:22:34.854945Z",
     "shell.execute_reply": "2021-01-12T08:22:34.854527Z"
    },
    "papermill": {
     "duration": 0.630855,
     "end_time": "2021-01-12T08:22:34.855043",
     "exception": false,
     "start_time": "2021-01-12T08:22:34.224188",
     "status": "completed"
    },
    "tags": []
   },
   "outputs": [
    {
     "data": {
      "text/plain": [
       "count            14055001.0\n",
       "mean     17.536786666895573\n",
       "std      14.914704903599608\n",
       "min                     0.0\n",
       "25%      11.028118338431472\n",
       "50%      12.507491786104163\n",
       "75%      16.607661053517283\n",
       "max      160.45156459412453\n",
       "dtype: object"
      ]
     },
     "execution_count": 26,
     "metadata": {},
     "output_type": "execute_result"
    }
   ],
   "source": [
    "pd.Series(data_dist.flatten()).describe().apply(str)"
   ]
  },
  {
   "cell_type": "code",
   "execution_count": 27,
   "metadata": {
    "execution": {
     "iopub.execute_input": "2021-01-12T08:22:34.905612Z",
     "iopub.status.busy": "2021-01-12T08:22:34.905248Z",
     "iopub.status.idle": "2021-01-12T08:33:27.493023Z",
     "shell.execute_reply": "2021-01-12T08:33:27.492602Z"
    },
    "papermill": {
     "duration": 652.613597,
     "end_time": "2021-01-12T08:33:27.493119",
     "exception": false,
     "start_time": "2021-01-12T08:22:34.879522",
     "status": "completed"
    },
    "tags": []
   },
   "outputs": [
    {
     "name": "stderr",
     "output_type": "stream",
     "text": [
      "100%|██████████| 3267/3267 [10:52<00:00,  5.01it/s]\n"
     ]
    }
   ],
   "source": [
    "ensemble = generate_ensemble(\n",
    "    data_dist,\n",
    "    CLUSTERERS,\n",
    "    attributes=CLUSTERING_ATTRIBUTES_TO_SAVE,\n",
    ")"
   ]
  },
  {
   "cell_type": "code",
   "execution_count": 28,
   "metadata": {
    "execution": {
     "iopub.execute_input": "2021-01-12T08:33:28.574862Z",
     "iopub.status.busy": "2021-01-12T08:33:28.574503Z",
     "iopub.status.idle": "2021-01-12T08:33:28.585791Z",
     "shell.execute_reply": "2021-01-12T08:33:28.585425Z"
    },
    "papermill": {
     "duration": 0.554025,
     "end_time": "2021-01-12T08:33:28.585878",
     "exception": false,
     "start_time": "2021-01-12T08:33:28.031853",
     "status": "completed"
    },
    "tags": []
   },
   "outputs": [
    {
     "data": {
      "text/plain": [
       "(245, 3)"
      ]
     },
     "execution_count": 28,
     "metadata": {},
     "output_type": "execute_result"
    }
   ],
   "source": [
    "ensemble.shape"
   ]
  },
  {
   "cell_type": "code",
   "execution_count": 29,
   "metadata": {
    "execution": {
     "iopub.execute_input": "2021-01-12T08:33:29.683370Z",
     "iopub.status.busy": "2021-01-12T08:33:29.683011Z",
     "iopub.status.idle": "2021-01-12T08:33:29.701772Z",
     "shell.execute_reply": "2021-01-12T08:33:29.701451Z"
    },
    "papermill": {
     "duration": 0.554964,
     "end_time": "2021-01-12T08:33:29.701862",
     "exception": false,
     "start_time": "2021-01-12T08:33:29.146898",
     "status": "completed"
    },
    "tags": []
   },
   "outputs": [
    {
     "data": {
      "text/html": [
       "<div>\n",
       "<style scoped>\n",
       "    .dataframe tbody tr th:only-of-type {\n",
       "        vertical-align: middle;\n",
       "    }\n",
       "\n",
       "    .dataframe tbody tr th {\n",
       "        vertical-align: top;\n",
       "    }\n",
       "\n",
       "    .dataframe thead th {\n",
       "        text-align: right;\n",
       "    }\n",
       "</style>\n",
       "<table border=\"1\" class=\"dataframe\">\n",
       "  <thead>\n",
       "    <tr style=\"text-align: right;\">\n",
       "      <th></th>\n",
       "      <th>clusterer_params</th>\n",
       "      <th>partition</th>\n",
       "      <th>n_clusters</th>\n",
       "    </tr>\n",
       "    <tr>\n",
       "      <th>clusterer_id</th>\n",
       "      <th></th>\n",
       "      <th></th>\n",
       "      <th></th>\n",
       "    </tr>\n",
       "  </thead>\n",
       "  <tbody>\n",
       "    <tr>\n",
       "      <th>DBSCAN #0</th>\n",
       "      <td>{'algorithm': 'auto', 'eps': 15.0, 'leaf_size'...</td>\n",
       "      <td>[0.0, 0.0, 0.0, 0.0, 0.0, 0.0, 0.0, 0.0, 0.0, ...</td>\n",
       "      <td>39</td>\n",
       "    </tr>\n",
       "    <tr>\n",
       "      <th>DBSCAN #1</th>\n",
       "      <td>{'algorithm': 'auto', 'eps': 17.03125, 'leaf_s...</td>\n",
       "      <td>[0.0, 0.0, 0.0, 0.0, 0.0, 0.0, 0.0, 0.0, 0.0, ...</td>\n",
       "      <td>29</td>\n",
       "    </tr>\n",
       "    <tr>\n",
       "      <th>DBSCAN #2</th>\n",
       "      <td>{'algorithm': 'auto', 'eps': 19.0625, 'leaf_si...</td>\n",
       "      <td>[0.0, 0.0, 0.0, 0.0, 0.0, 0.0, 0.0, 0.0, 0.0, ...</td>\n",
       "      <td>27</td>\n",
       "    </tr>\n",
       "    <tr>\n",
       "      <th>DBSCAN #3</th>\n",
       "      <td>{'algorithm': 'auto', 'eps': 21.09375, 'leaf_s...</td>\n",
       "      <td>[0.0, 0.0, 0.0, 0.0, 0.0, 0.0, 0.0, 0.0, 0.0, ...</td>\n",
       "      <td>26</td>\n",
       "    </tr>\n",
       "    <tr>\n",
       "      <th>DBSCAN #4</th>\n",
       "      <td>{'algorithm': 'auto', 'eps': 23.125, 'leaf_siz...</td>\n",
       "      <td>[0.0, 0.0, 0.0, 0.0, 0.0, 0.0, 0.0, 0.0, 0.0, ...</td>\n",
       "      <td>24</td>\n",
       "    </tr>\n",
       "  </tbody>\n",
       "</table>\n",
       "</div>"
      ],
      "text/plain": [
       "                                               clusterer_params  \\\n",
       "clusterer_id                                                      \n",
       "DBSCAN #0     {'algorithm': 'auto', 'eps': 15.0, 'leaf_size'...   \n",
       "DBSCAN #1     {'algorithm': 'auto', 'eps': 17.03125, 'leaf_s...   \n",
       "DBSCAN #2     {'algorithm': 'auto', 'eps': 19.0625, 'leaf_si...   \n",
       "DBSCAN #3     {'algorithm': 'auto', 'eps': 21.09375, 'leaf_s...   \n",
       "DBSCAN #4     {'algorithm': 'auto', 'eps': 23.125, 'leaf_siz...   \n",
       "\n",
       "                                                      partition  n_clusters  \n",
       "clusterer_id                                                                 \n",
       "DBSCAN #0     [0.0, 0.0, 0.0, 0.0, 0.0, 0.0, 0.0, 0.0, 0.0, ...          39  \n",
       "DBSCAN #1     [0.0, 0.0, 0.0, 0.0, 0.0, 0.0, 0.0, 0.0, 0.0, ...          29  \n",
       "DBSCAN #2     [0.0, 0.0, 0.0, 0.0, 0.0, 0.0, 0.0, 0.0, 0.0, ...          27  \n",
       "DBSCAN #3     [0.0, 0.0, 0.0, 0.0, 0.0, 0.0, 0.0, 0.0, 0.0, ...          26  \n",
       "DBSCAN #4     [0.0, 0.0, 0.0, 0.0, 0.0, 0.0, 0.0, 0.0, 0.0, ...          24  "
      ]
     },
     "execution_count": 29,
     "metadata": {},
     "output_type": "execute_result"
    }
   ],
   "source": [
    "ensemble.head()"
   ]
  },
  {
   "cell_type": "code",
   "execution_count": 30,
   "metadata": {
    "execution": {
     "iopub.execute_input": "2021-01-12T08:33:30.787535Z",
     "iopub.status.busy": "2021-01-12T08:33:30.787174Z",
     "iopub.status.idle": "2021-01-12T08:33:30.799393Z",
     "shell.execute_reply": "2021-01-12T08:33:30.799018Z"
    },
    "papermill": {
     "duration": 0.555555,
     "end_time": "2021-01-12T08:33:30.799484",
     "exception": false,
     "start_time": "2021-01-12T08:33:30.243929",
     "status": "completed"
    },
    "tags": []
   },
   "outputs": [
    {
     "data": {
      "text/plain": [
       "2    84\n",
       "3    56\n",
       "5    30\n",
       "4    16\n",
       "6    13\n",
       "Name: n_clusters, dtype: int64"
      ]
     },
     "execution_count": 30,
     "metadata": {},
     "output_type": "execute_result"
    }
   ],
   "source": [
    "ensemble[\"n_clusters\"].value_counts().head()"
   ]
  },
  {
   "cell_type": "code",
   "execution_count": 31,
   "metadata": {
    "execution": {
     "iopub.execute_input": "2021-01-12T08:33:31.871159Z",
     "iopub.status.busy": "2021-01-12T08:33:31.870786Z",
     "iopub.status.idle": "2021-01-12T08:33:31.884185Z",
     "shell.execute_reply": "2021-01-12T08:33:31.883879Z"
    },
    "papermill": {
     "duration": 0.548391,
     "end_time": "2021-01-12T08:33:31.884276",
     "exception": false,
     "start_time": "2021-01-12T08:33:31.335885",
     "status": "completed"
    },
    "tags": []
   },
   "outputs": [
    {
     "data": {
      "text/plain": [
       "count    245.000000\n",
       "mean       5.057143\n",
       "std        5.110741\n",
       "min        2.000000\n",
       "25%        2.000000\n",
       "50%        3.000000\n",
       "75%        5.000000\n",
       "max       39.000000\n",
       "Name: n_clusters, dtype: float64"
      ]
     },
     "metadata": {},
     "output_type": "display_data"
    }
   ],
   "source": [
    "ensemble_stats = ensemble[\"n_clusters\"].describe()\n",
    "display(ensemble_stats)"
   ]
  },
  {
   "cell_type": "markdown",
   "metadata": {
    "papermill": {
     "duration": 0.534358,
     "end_time": "2021-01-12T08:33:32.983255",
     "exception": false,
     "start_time": "2021-01-12T08:33:32.448897",
     "status": "completed"
    },
    "tags": []
   },
   "source": [
    "### Testing"
   ]
  },
  {
   "cell_type": "code",
   "execution_count": 32,
   "metadata": {
    "execution": {
     "iopub.execute_input": "2021-01-12T08:33:34.051334Z",
     "iopub.status.busy": "2021-01-12T08:33:34.050949Z",
     "iopub.status.idle": "2021-01-12T08:33:34.061491Z",
     "shell.execute_reply": "2021-01-12T08:33:34.061109Z"
    },
    "papermill": {
     "duration": 0.544013,
     "end_time": "2021-01-12T08:33:34.061578",
     "exception": false,
     "start_time": "2021-01-12T08:33:33.517565",
     "status": "completed"
    },
    "tags": []
   },
   "outputs": [],
   "source": [
    "assert ensemble_stats[\"min\"] > 1"
   ]
  },
  {
   "cell_type": "code",
   "execution_count": 33,
   "metadata": {
    "execution": {
     "iopub.execute_input": "2021-01-12T08:33:35.134083Z",
     "iopub.status.busy": "2021-01-12T08:33:35.133706Z",
     "iopub.status.idle": "2021-01-12T08:33:35.144548Z",
     "shell.execute_reply": "2021-01-12T08:33:35.144151Z"
    },
    "papermill": {
     "duration": 0.545055,
     "end_time": "2021-01-12T08:33:35.144646",
     "exception": false,
     "start_time": "2021-01-12T08:33:34.599591",
     "status": "completed"
    },
    "tags": []
   },
   "outputs": [],
   "source": [
    "assert not ensemble[\"n_clusters\"].isna().any()"
   ]
  },
  {
   "cell_type": "code",
   "execution_count": 34,
   "metadata": {
    "execution": {
     "iopub.execute_input": "2021-01-12T08:33:36.237761Z",
     "iopub.status.busy": "2021-01-12T08:33:36.237359Z",
     "iopub.status.idle": "2021-01-12T08:33:36.248435Z",
     "shell.execute_reply": "2021-01-12T08:33:36.248025Z"
    },
    "papermill": {
     "duration": 0.570365,
     "end_time": "2021-01-12T08:33:36.248532",
     "exception": false,
     "start_time": "2021-01-12T08:33:35.678167",
     "status": "completed"
    },
    "tags": []
   },
   "outputs": [],
   "source": [
    "# assert ensemble.shape[0] == len(CLUSTERERS)"
   ]
  },
  {
   "cell_type": "code",
   "execution_count": 35,
   "metadata": {
    "execution": {
     "iopub.execute_input": "2021-01-12T08:33:37.321518Z",
     "iopub.status.busy": "2021-01-12T08:33:37.321156Z",
     "iopub.status.idle": "2021-01-12T08:33:37.345880Z",
     "shell.execute_reply": "2021-01-12T08:33:37.346154Z"
    },
    "papermill": {
     "duration": 0.562193,
     "end_time": "2021-01-12T08:33:37.346263",
     "exception": false,
     "start_time": "2021-01-12T08:33:36.784070",
     "status": "completed"
    },
    "tags": []
   },
   "outputs": [],
   "source": [
    "# all partitions have the right size\n",
    "assert np.all(\n",
    "    [part[\"partition\"].shape[0] == data.shape[0] for idx, part in ensemble.iterrows()]\n",
    ")"
   ]
  },
  {
   "cell_type": "code",
   "execution_count": 36,
   "metadata": {
    "execution": {
     "iopub.execute_input": "2021-01-12T08:33:38.429318Z",
     "iopub.status.busy": "2021-01-12T08:33:38.428917Z",
     "iopub.status.idle": "2021-01-12T08:33:38.456966Z",
     "shell.execute_reply": "2021-01-12T08:33:38.456573Z"
    },
    "papermill": {
     "duration": 0.571607,
     "end_time": "2021-01-12T08:33:38.457056",
     "exception": false,
     "start_time": "2021-01-12T08:33:37.885449",
     "status": "completed"
    },
    "tags": []
   },
   "outputs": [],
   "source": [
    "# no partition has negative clusters (noisy points)\n",
    "assert not np.any([(part[\"partition\"] < 0).any() for idx, part in ensemble.iterrows()])"
   ]
  },
  {
   "cell_type": "markdown",
   "metadata": {
    "papermill": {
     "duration": 0.543406,
     "end_time": "2021-01-12T08:33:39.544664",
     "exception": false,
     "start_time": "2021-01-12T08:33:39.001258",
     "status": "completed"
    },
    "tags": []
   },
   "source": [
    "### Save"
   ]
  },
  {
   "cell_type": "code",
   "execution_count": 37,
   "metadata": {
    "execution": {
     "iopub.execute_input": "2021-01-12T08:33:40.654848Z",
     "iopub.status.busy": "2021-01-12T08:33:40.654484Z",
     "iopub.status.idle": "2021-01-12T08:33:40.665921Z",
     "shell.execute_reply": "2021-01-12T08:33:40.665552Z"
    },
    "papermill": {
     "duration": 0.553593,
     "end_time": "2021-01-12T08:33:40.666009",
     "exception": false,
     "start_time": "2021-01-12T08:33:40.112416",
     "status": "completed"
    },
    "tags": []
   },
   "outputs": [
    {
     "data": {
      "text/plain": [
       "PosixPath('/home/miltondp/projects/labs/greenelab/phenoplier/base3/results/clustering/runs/pca-z_score_std-projection-smultixcan-efo_partial-mashr-zscores/DBSCAN.pkl')"
      ]
     },
     "metadata": {},
     "output_type": "display_data"
    }
   ],
   "source": [
    "output_filename = Path(\n",
    "    RESULTS_DIR,\n",
    "    generate_result_set_name(\n",
    "        {},\n",
    "        #         CLUSTERING_OPTIONS,\n",
    "        prefix=f\"{clustering_method_name}\",\n",
    "        suffix=\".pkl\",\n",
    "    ),\n",
    ").resolve()\n",
    "display(output_filename)"
   ]
  },
  {
   "cell_type": "code",
   "execution_count": 38,
   "metadata": {
    "execution": {
     "iopub.execute_input": "2021-01-12T08:33:41.755926Z",
     "iopub.status.busy": "2021-01-12T08:33:41.755566Z",
     "iopub.status.idle": "2021-01-12T08:33:41.774865Z",
     "shell.execute_reply": "2021-01-12T08:33:41.774499Z"
    },
    "papermill": {
     "duration": 0.568024,
     "end_time": "2021-01-12T08:33:41.774961",
     "exception": false,
     "start_time": "2021-01-12T08:33:41.206937",
     "status": "completed"
    },
    "tags": []
   },
   "outputs": [],
   "source": [
    "ensemble.to_pickle(output_filename)"
   ]
  },
  {
   "cell_type": "code",
   "execution_count": null,
   "metadata": {
    "papermill": {
     "duration": 0.547575,
     "end_time": "2021-01-12T08:33:42.874655",
     "exception": false,
     "start_time": "2021-01-12T08:33:42.327080",
     "status": "completed"
    },
    "tags": []
   },
   "outputs": [],
   "source": []
  }
 ],
 "metadata": {
  "jupytext": {
   "cell_metadata_filter": "all,-execution,-papermill",
   "formats": "ipynb,py//py:percent"
  },
  "kernelspec": {
   "display_name": "Python 3",
   "language": "python",
   "name": "python3"
  },
  "language_info": {
   "codemirror_mode": {
    "name": "ipython",
    "version": 3
   },
   "file_extension": ".py",
   "mimetype": "text/x-python",
   "name": "python",
   "nbconvert_exporter": "python",
   "pygments_lexer": "ipython3",
   "version": "3.8.6"
  },
  "papermill": {
   "default_parameters": {},
   "duration": 678.911461,
   "end_time": "2021-01-12T08:33:43.825968",
   "environment_variables": {},
   "exception": null,
   "input_path": "15_cluster_analysis/002_01-dbscan-pca.ipynb",
   "output_path": "15_cluster_analysis/002_01-dbscan-pca.run.ipynb",
   "parameters": {},
   "start_time": "2021-01-12T08:22:24.914507",
   "version": "2.2.2"
  },
  "toc-autonumbering": true,
  "toc-showcode": false,
  "toc-showmarkdowntxt": false,
  "toc-showtags": false
 },
 "nbformat": 4,
 "nbformat_minor": 4
}
