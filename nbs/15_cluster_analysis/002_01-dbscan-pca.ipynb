{
 "cells": [
  {
   "cell_type": "markdown",
   "metadata": {
    "papermill": {
     "duration": 0.051062,
     "end_time": "2021-02-22T22:10:51.728393",
     "exception": false,
     "start_time": "2021-02-22T22:10:51.677331",
     "status": "completed"
    },
    "tags": []
   },
   "source": [
    "# Description"
   ]
  },
  {
   "cell_type": "markdown",
   "metadata": {
    "papermill": {
     "duration": 0.015958,
     "end_time": "2021-02-22T22:10:51.762340",
     "exception": false,
     "start_time": "2021-02-22T22:10:51.746382",
     "status": "completed"
    },
    "tags": []
   },
   "source": [
    "It runs DBSCAN on the `pca` version of the data.\n",
    "\n",
    "The notebook explores different values for `min_samples` and `eps` (the main parameters of DBSCAN)."
   ]
  },
  {
   "cell_type": "markdown",
   "metadata": {
    "papermill": {
     "duration": 0.015962,
     "end_time": "2021-02-22T22:10:51.794319",
     "exception": false,
     "start_time": "2021-02-22T22:10:51.778357",
     "status": "completed"
    },
    "tags": []
   },
   "source": [
    "# Environment variables"
   ]
  },
  {
   "cell_type": "code",
   "execution_count": 1,
   "metadata": {
    "execution": {
     "iopub.execute_input": "2021-02-22T22:10:51.829562Z",
     "iopub.status.busy": "2021-02-22T22:10:51.829170Z",
     "iopub.status.idle": "2021-02-22T22:10:51.840016Z",
     "shell.execute_reply": "2021-02-22T22:10:51.839578Z"
    },
    "papermill": {
     "duration": 0.029845,
     "end_time": "2021-02-22T22:10:51.840143",
     "exception": false,
     "start_time": "2021-02-22T22:10:51.810298",
     "status": "completed"
    },
    "tags": []
   },
   "outputs": [
    {
     "data": {
      "text/plain": [
       "2"
      ]
     },
     "metadata": {},
     "output_type": "display_data"
    }
   ],
   "source": [
    "from IPython.display import display\n",
    "\n",
    "import conf\n",
    "\n",
    "N_JOBS = conf.GENERAL[\"N_JOBS\"]\n",
    "display(N_JOBS)"
   ]
  },
  {
   "cell_type": "code",
   "execution_count": 2,
   "metadata": {
    "execution": {
     "iopub.execute_input": "2021-02-22T22:10:51.878811Z",
     "iopub.status.busy": "2021-02-22T22:10:51.878406Z",
     "iopub.status.idle": "2021-02-22T22:10:51.880822Z",
     "shell.execute_reply": "2021-02-22T22:10:51.880399Z"
    },
    "papermill": {
     "duration": 0.023448,
     "end_time": "2021-02-22T22:10:51.880908",
     "exception": false,
     "start_time": "2021-02-22T22:10:51.857460",
     "status": "completed"
    },
    "tags": []
   },
   "outputs": [
    {
     "name": "stdout",
     "output_type": "stream",
     "text": [
      "env: MKL_NUM_THREADS=2\n",
      "env: OPEN_BLAS_NUM_THREADS=2\n",
      "env: NUMEXPR_NUM_THREADS=2\n",
      "env: OMP_NUM_THREADS=2\n"
     ]
    }
   ],
   "source": [
    "%env MKL_NUM_THREADS=$N_JOBS\n",
    "%env OPEN_BLAS_NUM_THREADS=$N_JOBS\n",
    "%env NUMEXPR_NUM_THREADS=$N_JOBS\n",
    "%env OMP_NUM_THREADS=$N_JOBS"
   ]
  },
  {
   "cell_type": "markdown",
   "metadata": {
    "papermill": {
     "duration": 0.016489,
     "end_time": "2021-02-22T22:10:51.914320",
     "exception": false,
     "start_time": "2021-02-22T22:10:51.897831",
     "status": "completed"
    },
    "tags": []
   },
   "source": [
    "# Modules loading"
   ]
  },
  {
   "cell_type": "code",
   "execution_count": 3,
   "metadata": {
    "execution": {
     "iopub.execute_input": "2021-02-22T22:10:51.950817Z",
     "iopub.status.busy": "2021-02-22T22:10:51.950423Z",
     "iopub.status.idle": "2021-02-22T22:10:51.958139Z",
     "shell.execute_reply": "2021-02-22T22:10:51.957814Z"
    },
    "papermill": {
     "duration": 0.027139,
     "end_time": "2021-02-22T22:10:51.958227",
     "exception": false,
     "start_time": "2021-02-22T22:10:51.931088",
     "status": "completed"
    },
    "tags": []
   },
   "outputs": [],
   "source": [
    "%load_ext autoreload\n",
    "%autoreload 2"
   ]
  },
  {
   "cell_type": "code",
   "execution_count": 4,
   "metadata": {
    "execution": {
     "iopub.execute_input": "2021-02-22T22:10:51.995281Z",
     "iopub.status.busy": "2021-02-22T22:10:51.994890Z",
     "iopub.status.idle": "2021-02-22T22:10:52.672008Z",
     "shell.execute_reply": "2021-02-22T22:10:52.671633Z"
    },
    "papermill": {
     "duration": 0.696641,
     "end_time": "2021-02-22T22:10:52.672101",
     "exception": false,
     "start_time": "2021-02-22T22:10:51.975460",
     "status": "completed"
    },
    "tags": []
   },
   "outputs": [],
   "source": [
    "from pathlib import Path\n",
    "\n",
    "import numpy as np\n",
    "import pandas as pd\n",
    "from sklearn.neighbors import NearestNeighbors\n",
    "from sklearn.metrics import pairwise_distances\n",
    "from sklearn.cluster import DBSCAN\n",
    "import matplotlib.pyplot as plt\n",
    "\n",
    "from utils import generate_result_set_name\n",
    "from clustering.ensembles.utils import generate_ensemble"
   ]
  },
  {
   "cell_type": "markdown",
   "metadata": {
    "papermill": {
     "duration": 0.016424,
     "end_time": "2021-02-22T22:10:52.705945",
     "exception": false,
     "start_time": "2021-02-22T22:10:52.689521",
     "status": "completed"
    },
    "tags": []
   },
   "source": [
    "# Global settings"
   ]
  },
  {
   "cell_type": "code",
   "execution_count": 5,
   "metadata": {
    "execution": {
     "iopub.execute_input": "2021-02-22T22:10:52.741370Z",
     "iopub.status.busy": "2021-02-22T22:10:52.741001Z",
     "iopub.status.idle": "2021-02-22T22:10:52.751433Z",
     "shell.execute_reply": "2021-02-22T22:10:52.751061Z"
    },
    "papermill": {
     "duration": 0.029121,
     "end_time": "2021-02-22T22:10:52.751521",
     "exception": false,
     "start_time": "2021-02-22T22:10:52.722400",
     "status": "completed"
    },
    "tags": []
   },
   "outputs": [],
   "source": [
    "np.random.seed(0)"
   ]
  },
  {
   "cell_type": "code",
   "execution_count": 6,
   "metadata": {
    "execution": {
     "iopub.execute_input": "2021-02-22T22:10:52.788245Z",
     "iopub.status.busy": "2021-02-22T22:10:52.787880Z",
     "iopub.status.idle": "2021-02-22T22:10:52.797957Z",
     "shell.execute_reply": "2021-02-22T22:10:52.797643Z"
    },
    "papermill": {
     "duration": 0.029203,
     "end_time": "2021-02-22T22:10:52.798048",
     "exception": false,
     "start_time": "2021-02-22T22:10:52.768845",
     "status": "completed"
    },
    "tags": []
   },
   "outputs": [],
   "source": [
    "CLUSTERING_ATTRIBUTES_TO_SAVE = [\"n_clusters\"]"
   ]
  },
  {
   "cell_type": "markdown",
   "id": "lucky-landscape",
   "metadata": {},
   "source": [
    "# Settings"
   ]
  },
  {
   "cell_type": "code",
   "execution_count": null,
   "id": "crazy-benjamin",
   "metadata": {},
   "outputs": [],
   "source": [
    "# these parameter values are taken from the pre-analysis notebook for this clustering method and data version\n",
    "k_values = np.arange(2, 125 + 1, 1)\n",
    "\n",
    "eps_range_per_k = {\n",
    "    k: (10, 20)\n",
    "    if k < 5\n",
    "    else (11, 25)\n",
    "    if k < 10\n",
    "    else (12, 30)\n",
    "    if k < 15\n",
    "    else (13, 35)\n",
    "    if k < 20\n",
    "    else (14, 40)\n",
    "    for k in k_values\n",
    "}"
   ]
  },
  {
   "cell_type": "markdown",
   "metadata": {
    "papermill": {
     "duration": 0.016272,
     "end_time": "2021-02-22T22:10:52.831236",
     "exception": false,
     "start_time": "2021-02-22T22:10:52.814964",
     "status": "completed"
    },
    "tags": []
   },
   "source": [
    "# Data version: pca"
   ]
  },
  {
   "cell_type": "markdown",
   "metadata": {
    "papermill": {
     "duration": 0.016553,
     "end_time": "2021-02-22T22:10:52.864103",
     "exception": false,
     "start_time": "2021-02-22T22:10:52.847550",
     "status": "completed"
    },
    "tags": []
   },
   "source": [
    "## Settings"
   ]
  },
  {
   "cell_type": "code",
   "execution_count": 7,
   "metadata": {
    "execution": {
     "iopub.execute_input": "2021-02-22T22:10:52.899520Z",
     "iopub.status.busy": "2021-02-22T22:10:52.899152Z",
     "iopub.status.idle": "2021-02-22T22:10:52.909444Z",
     "shell.execute_reply": "2021-02-22T22:10:52.909070Z"
    },
    "papermill": {
     "duration": 0.028765,
     "end_time": "2021-02-22T22:10:52.909531",
     "exception": false,
     "start_time": "2021-02-22T22:10:52.880766",
     "status": "completed"
    },
    "tags": []
   },
   "outputs": [],
   "source": [
    "INPUT_SUBSET = \"pca\""
   ]
  },
  {
   "cell_type": "code",
   "execution_count": 8,
   "metadata": {
    "execution": {
     "iopub.execute_input": "2021-02-22T22:10:52.945345Z",
     "iopub.status.busy": "2021-02-22T22:10:52.944965Z",
     "iopub.status.idle": "2021-02-22T22:10:52.955539Z",
     "shell.execute_reply": "2021-02-22T22:10:52.955144Z"
    },
    "papermill": {
     "duration": 0.029321,
     "end_time": "2021-02-22T22:10:52.955627",
     "exception": false,
     "start_time": "2021-02-22T22:10:52.926306",
     "status": "completed"
    },
    "tags": []
   },
   "outputs": [],
   "source": [
    "INPUT_STEM = \"z_score_std-projection-smultixcan-efo_partial-mashr-zscores\""
   ]
  },
  {
   "cell_type": "code",
   "execution_count": 9,
   "metadata": {
    "execution": {
     "iopub.execute_input": "2021-02-22T22:10:52.992306Z",
     "iopub.status.busy": "2021-02-22T22:10:52.991934Z",
     "iopub.status.idle": "2021-02-22T22:10:53.002249Z",
     "shell.execute_reply": "2021-02-22T22:10:53.001872Z"
    },
    "papermill": {
     "duration": 0.029774,
     "end_time": "2021-02-22T22:10:53.002334",
     "exception": false,
     "start_time": "2021-02-22T22:10:52.972560",
     "status": "completed"
    },
    "tags": []
   },
   "outputs": [],
   "source": [
    "# parameters of the dimentionality reduction steps\n",
    "DR_OPTIONS = {\n",
    "    \"n_components\": 50,\n",
    "    \"svd_solver\": \"full\",\n",
    "    \"random_state\": 0,\n",
    "}"
   ]
  },
  {
   "cell_type": "code",
   "execution_count": 10,
   "metadata": {
    "execution": {
     "iopub.execute_input": "2021-02-22T22:10:53.039345Z",
     "iopub.status.busy": "2021-02-22T22:10:53.038971Z",
     "iopub.status.idle": "2021-02-22T22:10:53.051397Z",
     "shell.execute_reply": "2021-02-22T22:10:53.051013Z"
    },
    "papermill": {
     "duration": 0.031973,
     "end_time": "2021-02-22T22:10:53.051487",
     "exception": false,
     "start_time": "2021-02-22T22:10:53.019514",
     "status": "completed"
    },
    "tags": []
   },
   "outputs": [
    {
     "data": {
      "text/plain": [
       "PosixPath('/home/miltondp/projects/labs/greenelab/phenoplier/base3/results/data_transformations/pca/pca-z_score_std-projection-smultixcan-efo_partial-mashr-zscores-n_components_50-random_state_0-svd_solver_full.pkl')"
      ]
     },
     "metadata": {},
     "output_type": "display_data"
    },
    {
     "data": {
      "text/plain": [
       "'pca-z_score_std-projection-smultixcan-efo_partial-mashr-zscores-n_components_50-random_state_0-svd_solver_full'"
      ]
     },
     "metadata": {},
     "output_type": "display_data"
    }
   ],
   "source": [
    "input_filepath = Path(\n",
    "    conf.RESULTS[\"DATA_TRANSFORMATIONS_DIR\"],\n",
    "    INPUT_SUBSET,\n",
    "    generate_result_set_name(\n",
    "        DR_OPTIONS, prefix=f\"{INPUT_SUBSET}-{INPUT_STEM}-\", suffix=\".pkl\"\n",
    "    ),\n",
    ").resolve()\n",
    "display(input_filepath)\n",
    "\n",
    "assert input_filepath.exists(), \"Input file does not exist\"\n",
    "\n",
    "input_filepath_stem = input_filepath.stem\n",
    "display(input_filepath_stem)"
   ]
  },
  {
   "cell_type": "code",
   "execution_count": 11,
   "metadata": {
    "execution": {
     "iopub.execute_input": "2021-02-22T22:10:53.090256Z",
     "iopub.status.busy": "2021-02-22T22:10:53.089876Z",
     "iopub.status.idle": "2021-02-22T22:10:53.101012Z",
     "shell.execute_reply": "2021-02-22T22:10:53.101299Z"
    },
    "papermill": {
     "duration": 0.031824,
     "end_time": "2021-02-22T22:10:53.101407",
     "exception": false,
     "start_time": "2021-02-22T22:10:53.069583",
     "status": "completed"
    },
    "tags": []
   },
   "outputs": [
    {
     "data": {
      "text/plain": [
       "PosixPath('/home/miltondp/projects/labs/greenelab/phenoplier/base3/results/clustering/runs/pca-z_score_std-projection-smultixcan-efo_partial-mashr-zscores')"
      ]
     },
     "metadata": {},
     "output_type": "display_data"
    }
   ],
   "source": [
    "# output dir for this notebook\n",
    "RESULTS_DIR = Path(\n",
    "    conf.RESULTS[\"CLUSTERING_RUNS_DIR\"],\n",
    "    f\"{INPUT_SUBSET}-{INPUT_STEM}\",\n",
    ").resolve()\n",
    "RESULTS_DIR.mkdir(parents=True, exist_ok=True)\n",
    "\n",
    "display(RESULTS_DIR)"
   ]
  },
  {
   "cell_type": "markdown",
   "metadata": {
    "papermill": {
     "duration": 0.017555,
     "end_time": "2021-02-22T22:10:53.137204",
     "exception": false,
     "start_time": "2021-02-22T22:10:53.119649",
     "status": "completed"
    },
    "tags": []
   },
   "source": [
    "## Load input file"
   ]
  },
  {
   "cell_type": "code",
   "execution_count": 12,
   "metadata": {
    "execution": {
     "iopub.execute_input": "2021-02-22T22:10:53.174384Z",
     "iopub.status.busy": "2021-02-22T22:10:53.174007Z",
     "iopub.status.idle": "2021-02-22T22:10:53.186449Z",
     "shell.execute_reply": "2021-02-22T22:10:53.186061Z"
    },
    "papermill": {
     "duration": 0.03216,
     "end_time": "2021-02-22T22:10:53.186538",
     "exception": false,
     "start_time": "2021-02-22T22:10:53.154378",
     "status": "completed"
    },
    "tags": []
   },
   "outputs": [],
   "source": [
    "data = pd.read_pickle(input_filepath)"
   ]
  },
  {
   "cell_type": "code",
   "execution_count": 13,
   "metadata": {
    "execution": {
     "iopub.execute_input": "2021-02-22T22:10:53.223885Z",
     "iopub.status.busy": "2021-02-22T22:10:53.223519Z",
     "iopub.status.idle": "2021-02-22T22:10:53.234926Z",
     "shell.execute_reply": "2021-02-22T22:10:53.234548Z"
    },
    "papermill": {
     "duration": 0.030883,
     "end_time": "2021-02-22T22:10:53.235016",
     "exception": false,
     "start_time": "2021-02-22T22:10:53.204133",
     "status": "completed"
    },
    "tags": []
   },
   "outputs": [
    {
     "data": {
      "text/plain": [
       "(3749, 50)"
      ]
     },
     "execution_count": 13,
     "metadata": {},
     "output_type": "execute_result"
    }
   ],
   "source": [
    "data.shape"
   ]
  },
  {
   "cell_type": "code",
   "execution_count": 14,
   "metadata": {
    "execution": {
     "iopub.execute_input": "2021-02-22T22:10:53.273503Z",
     "iopub.status.busy": "2021-02-22T22:10:53.273135Z",
     "iopub.status.idle": "2021-02-22T22:10:53.296471Z",
     "shell.execute_reply": "2021-02-22T22:10:53.296088Z"
    },
    "papermill": {
     "duration": 0.043371,
     "end_time": "2021-02-22T22:10:53.296561",
     "exception": false,
     "start_time": "2021-02-22T22:10:53.253190",
     "status": "completed"
    },
    "tags": []
   },
   "outputs": [
    {
     "data": {
      "text/html": [
       "<div>\n",
       "<style scoped>\n",
       "    .dataframe tbody tr th:only-of-type {\n",
       "        vertical-align: middle;\n",
       "    }\n",
       "\n",
       "    .dataframe tbody tr th {\n",
       "        vertical-align: top;\n",
       "    }\n",
       "\n",
       "    .dataframe thead th {\n",
       "        text-align: right;\n",
       "    }\n",
       "</style>\n",
       "<table border=\"1\" class=\"dataframe\">\n",
       "  <thead>\n",
       "    <tr style=\"text-align: right;\">\n",
       "      <th></th>\n",
       "      <th>PCA1</th>\n",
       "      <th>PCA2</th>\n",
       "      <th>PCA3</th>\n",
       "      <th>PCA4</th>\n",
       "      <th>PCA5</th>\n",
       "      <th>PCA6</th>\n",
       "      <th>PCA7</th>\n",
       "      <th>PCA8</th>\n",
       "      <th>PCA9</th>\n",
       "      <th>PCA10</th>\n",
       "      <th>...</th>\n",
       "      <th>PCA41</th>\n",
       "      <th>PCA42</th>\n",
       "      <th>PCA43</th>\n",
       "      <th>PCA44</th>\n",
       "      <th>PCA45</th>\n",
       "      <th>PCA46</th>\n",
       "      <th>PCA47</th>\n",
       "      <th>PCA48</th>\n",
       "      <th>PCA49</th>\n",
       "      <th>PCA50</th>\n",
       "    </tr>\n",
       "  </thead>\n",
       "  <tbody>\n",
       "    <tr>\n",
       "      <th>100001_raw-Food_weight</th>\n",
       "      <td>-0.547515</td>\n",
       "      <td>-0.007250</td>\n",
       "      <td>0.245361</td>\n",
       "      <td>0.132424</td>\n",
       "      <td>1.201447</td>\n",
       "      <td>-0.113158</td>\n",
       "      <td>0.048859</td>\n",
       "      <td>1.031679</td>\n",
       "      <td>0.711208</td>\n",
       "      <td>0.126100</td>\n",
       "      <td>...</td>\n",
       "      <td>0.113685</td>\n",
       "      <td>-0.109753</td>\n",
       "      <td>0.178202</td>\n",
       "      <td>-0.487868</td>\n",
       "      <td>1.805920</td>\n",
       "      <td>-0.342611</td>\n",
       "      <td>-0.663712</td>\n",
       "      <td>-1.313987</td>\n",
       "      <td>-1.481707</td>\n",
       "      <td>0.396410</td>\n",
       "    </tr>\n",
       "    <tr>\n",
       "      <th>100002_raw-Energy</th>\n",
       "      <td>-1.570593</td>\n",
       "      <td>-0.618992</td>\n",
       "      <td>-1.223395</td>\n",
       "      <td>1.627321</td>\n",
       "      <td>-0.563860</td>\n",
       "      <td>0.224922</td>\n",
       "      <td>-1.500327</td>\n",
       "      <td>2.045633</td>\n",
       "      <td>-1.665998</td>\n",
       "      <td>-0.180432</td>\n",
       "      <td>...</td>\n",
       "      <td>0.697880</td>\n",
       "      <td>1.412676</td>\n",
       "      <td>2.103988</td>\n",
       "      <td>0.385625</td>\n",
       "      <td>2.386495</td>\n",
       "      <td>-2.939998</td>\n",
       "      <td>-0.978275</td>\n",
       "      <td>-1.893307</td>\n",
       "      <td>-0.259497</td>\n",
       "      <td>0.423264</td>\n",
       "    </tr>\n",
       "    <tr>\n",
       "      <th>100003_raw-Protein</th>\n",
       "      <td>-0.601212</td>\n",
       "      <td>-0.948824</td>\n",
       "      <td>-1.022209</td>\n",
       "      <td>2.438433</td>\n",
       "      <td>-2.062235</td>\n",
       "      <td>0.356202</td>\n",
       "      <td>-1.538038</td>\n",
       "      <td>2.314675</td>\n",
       "      <td>-1.108991</td>\n",
       "      <td>0.318034</td>\n",
       "      <td>...</td>\n",
       "      <td>0.171992</td>\n",
       "      <td>1.351979</td>\n",
       "      <td>0.054404</td>\n",
       "      <td>-0.725132</td>\n",
       "      <td>2.226520</td>\n",
       "      <td>-3.481674</td>\n",
       "      <td>-0.445294</td>\n",
       "      <td>-0.477452</td>\n",
       "      <td>0.237157</td>\n",
       "      <td>1.440867</td>\n",
       "    </tr>\n",
       "    <tr>\n",
       "      <th>100004_raw-Fat</th>\n",
       "      <td>-1.648214</td>\n",
       "      <td>-0.342042</td>\n",
       "      <td>-0.270189</td>\n",
       "      <td>1.683268</td>\n",
       "      <td>-1.222401</td>\n",
       "      <td>0.018349</td>\n",
       "      <td>-0.032824</td>\n",
       "      <td>1.671161</td>\n",
       "      <td>-0.908965</td>\n",
       "      <td>0.224100</td>\n",
       "      <td>...</td>\n",
       "      <td>-0.358812</td>\n",
       "      <td>0.696836</td>\n",
       "      <td>1.072624</td>\n",
       "      <td>0.627951</td>\n",
       "      <td>1.802000</td>\n",
       "      <td>0.174704</td>\n",
       "      <td>0.826319</td>\n",
       "      <td>-0.826992</td>\n",
       "      <td>0.596113</td>\n",
       "      <td>0.620050</td>\n",
       "    </tr>\n",
       "    <tr>\n",
       "      <th>100005_raw-Carbohydrate</th>\n",
       "      <td>-1.867586</td>\n",
       "      <td>-0.006412</td>\n",
       "      <td>-0.303220</td>\n",
       "      <td>0.770958</td>\n",
       "      <td>-0.116822</td>\n",
       "      <td>0.460946</td>\n",
       "      <td>-2.407732</td>\n",
       "      <td>1.534273</td>\n",
       "      <td>-1.930577</td>\n",
       "      <td>0.064621</td>\n",
       "      <td>...</td>\n",
       "      <td>1.332852</td>\n",
       "      <td>1.978032</td>\n",
       "      <td>2.158456</td>\n",
       "      <td>0.831123</td>\n",
       "      <td>1.093202</td>\n",
       "      <td>-3.539033</td>\n",
       "      <td>-0.831862</td>\n",
       "      <td>-0.842298</td>\n",
       "      <td>-0.723072</td>\n",
       "      <td>0.359438</td>\n",
       "    </tr>\n",
       "  </tbody>\n",
       "</table>\n",
       "<p>5 rows × 50 columns</p>\n",
       "</div>"
      ],
      "text/plain": [
       "                             PCA1      PCA2      PCA3      PCA4      PCA5  \\\n",
       "100001_raw-Food_weight  -0.547515 -0.007250  0.245361  0.132424  1.201447   \n",
       "100002_raw-Energy       -1.570593 -0.618992 -1.223395  1.627321 -0.563860   \n",
       "100003_raw-Protein      -0.601212 -0.948824 -1.022209  2.438433 -2.062235   \n",
       "100004_raw-Fat          -1.648214 -0.342042 -0.270189  1.683268 -1.222401   \n",
       "100005_raw-Carbohydrate -1.867586 -0.006412 -0.303220  0.770958 -0.116822   \n",
       "\n",
       "                             PCA6      PCA7      PCA8      PCA9     PCA10  \\\n",
       "100001_raw-Food_weight  -0.113158  0.048859  1.031679  0.711208  0.126100   \n",
       "100002_raw-Energy        0.224922 -1.500327  2.045633 -1.665998 -0.180432   \n",
       "100003_raw-Protein       0.356202 -1.538038  2.314675 -1.108991  0.318034   \n",
       "100004_raw-Fat           0.018349 -0.032824  1.671161 -0.908965  0.224100   \n",
       "100005_raw-Carbohydrate  0.460946 -2.407732  1.534273 -1.930577  0.064621   \n",
       "\n",
       "                         ...     PCA41     PCA42     PCA43     PCA44  \\\n",
       "100001_raw-Food_weight   ...  0.113685 -0.109753  0.178202 -0.487868   \n",
       "100002_raw-Energy        ...  0.697880  1.412676  2.103988  0.385625   \n",
       "100003_raw-Protein       ...  0.171992  1.351979  0.054404 -0.725132   \n",
       "100004_raw-Fat           ... -0.358812  0.696836  1.072624  0.627951   \n",
       "100005_raw-Carbohydrate  ...  1.332852  1.978032  2.158456  0.831123   \n",
       "\n",
       "                            PCA45     PCA46     PCA47     PCA48     PCA49  \\\n",
       "100001_raw-Food_weight   1.805920 -0.342611 -0.663712 -1.313987 -1.481707   \n",
       "100002_raw-Energy        2.386495 -2.939998 -0.978275 -1.893307 -0.259497   \n",
       "100003_raw-Protein       2.226520 -3.481674 -0.445294 -0.477452  0.237157   \n",
       "100004_raw-Fat           1.802000  0.174704  0.826319 -0.826992  0.596113   \n",
       "100005_raw-Carbohydrate  1.093202 -3.539033 -0.831862 -0.842298 -0.723072   \n",
       "\n",
       "                            PCA50  \n",
       "100001_raw-Food_weight   0.396410  \n",
       "100002_raw-Energy        0.423264  \n",
       "100003_raw-Protein       1.440867  \n",
       "100004_raw-Fat           0.620050  \n",
       "100005_raw-Carbohydrate  0.359438  \n",
       "\n",
       "[5 rows x 50 columns]"
      ]
     },
     "execution_count": 14,
     "metadata": {},
     "output_type": "execute_result"
    }
   ],
   "source": [
    "data.head()"
   ]
  },
  {
   "cell_type": "code",
   "execution_count": 15,
   "metadata": {
    "execution": {
     "iopub.execute_input": "2021-02-22T22:10:53.335039Z",
     "iopub.status.busy": "2021-02-22T22:10:53.334658Z",
     "iopub.status.idle": "2021-02-22T22:10:53.345464Z",
     "shell.execute_reply": "2021-02-22T22:10:53.345117Z"
    },
    "papermill": {
     "duration": 0.031015,
     "end_time": "2021-02-22T22:10:53.345557",
     "exception": false,
     "start_time": "2021-02-22T22:10:53.314542",
     "status": "completed"
    },
    "tags": []
   },
   "outputs": [],
   "source": [
    "assert not data.isna().any().any()"
   ]
  },
  {
   "cell_type": "markdown",
   "metadata": {
    "papermill": {
     "duration": 0.021663,
     "end_time": "2021-02-22T22:11:00.439746",
     "exception": false,
     "start_time": "2021-02-22T22:11:00.418083",
     "status": "completed"
    },
    "tags": []
   },
   "source": [
    "## Clustering"
   ]
  },
  {
   "cell_type": "markdown",
   "metadata": {
    "papermill": {
     "duration": 0.021428,
     "end_time": "2021-02-22T22:11:00.482803",
     "exception": false,
     "start_time": "2021-02-22T22:11:00.461375",
     "status": "completed"
    },
    "tags": []
   },
   "source": [
    "### Generate clusterers"
   ]
  },
  {
   "cell_type": "code",
   "execution_count": 20,
   "metadata": {
    "execution": {
     "iopub.execute_input": "2021-02-22T22:11:00.528512Z",
     "iopub.status.busy": "2021-02-22T22:11:00.528138Z",
     "iopub.status.idle": "2021-02-22T22:11:00.543438Z",
     "shell.execute_reply": "2021-02-22T22:11:00.543054Z"
    },
    "papermill": {
     "duration": 0.039457,
     "end_time": "2021-02-22T22:11:00.543528",
     "exception": false,
     "start_time": "2021-02-22T22:11:00.504071",
     "status": "completed"
    },
    "tags": []
   },
   "outputs": [
    {
     "data": {
      "text/plain": [
       "{'K_RANGE': array([  2,   3,   4,   5,   6,   7,   8,   9,  10,  11,  12,  13,  14,\n",
       "         15,  16,  17,  18,  19,  20,  21,  22,  23,  24,  25,  26,  27,\n",
       "         28,  29,  30,  31,  32,  33,  34,  35,  36,  37,  38,  39,  40,\n",
       "         41,  42,  43,  44,  45,  46,  47,  48,  49,  50,  51,  52,  53,\n",
       "         54,  55,  56,  57,  58,  59,  60,  61,  62,  63,  64,  65,  66,\n",
       "         67,  68,  69,  70,  71,  72,  73,  74,  75,  76,  77,  78,  79,\n",
       "         80,  81,  82,  83,  84,  85,  86,  87,  88,  89,  90,  91,  92,\n",
       "         93,  94,  95,  96,  97,  98,  99, 100]),\n",
       " 'EPS_RANGE_PER_K': {2: (15, 80),\n",
       "  3: (15, 80),\n",
       "  4: (15, 80),\n",
       "  5: (15, 80),\n",
       "  6: (15, 80),\n",
       "  7: (15, 80),\n",
       "  8: (15, 80),\n",
       "  9: (15, 80),\n",
       "  10: (15, 80),\n",
       "  11: (15, 80),\n",
       "  12: (15, 80),\n",
       "  13: (15, 80),\n",
       "  14: (15, 80),\n",
       "  15: (15, 80),\n",
       "  16: (15, 80),\n",
       "  17: (15, 80),\n",
       "  18: (15, 80),\n",
       "  19: (15, 80),\n",
       "  20: (15, 80),\n",
       "  21: (15, 80),\n",
       "  22: (15, 80),\n",
       "  23: (15, 80),\n",
       "  24: (15, 80),\n",
       "  25: (15, 80),\n",
       "  26: (15, 80),\n",
       "  27: (15, 80),\n",
       "  28: (15, 80),\n",
       "  29: (15, 80),\n",
       "  30: (15, 80),\n",
       "  31: (15, 80),\n",
       "  32: (15, 80),\n",
       "  33: (15, 80),\n",
       "  34: (15, 80),\n",
       "  35: (15, 80),\n",
       "  36: (15, 80),\n",
       "  37: (15, 80),\n",
       "  38: (15, 80),\n",
       "  39: (15, 80),\n",
       "  40: (15, 80),\n",
       "  41: (15, 80),\n",
       "  42: (15, 80),\n",
       "  43: (15, 80),\n",
       "  44: (15, 80),\n",
       "  45: (15, 80),\n",
       "  46: (15, 80),\n",
       "  47: (15, 80),\n",
       "  48: (15, 80),\n",
       "  49: (15, 80),\n",
       "  50: (15, 80),\n",
       "  51: (15, 80),\n",
       "  52: (15, 80),\n",
       "  53: (15, 80),\n",
       "  54: (15, 80),\n",
       "  55: (15, 80),\n",
       "  56: (15, 80),\n",
       "  57: (15, 80),\n",
       "  58: (15, 80),\n",
       "  59: (15, 80),\n",
       "  60: (15, 80),\n",
       "  61: (15, 80),\n",
       "  62: (15, 80),\n",
       "  63: (15, 80),\n",
       "  64: (15, 80),\n",
       "  65: (15, 80),\n",
       "  66: (15, 80),\n",
       "  67: (15, 80),\n",
       "  68: (15, 80),\n",
       "  69: (15, 80),\n",
       "  70: (15, 80),\n",
       "  71: (15, 80),\n",
       "  72: (15, 80),\n",
       "  73: (15, 80),\n",
       "  74: (15, 80),\n",
       "  75: (15, 80),\n",
       "  76: (15, 80),\n",
       "  77: (15, 80),\n",
       "  78: (15, 80),\n",
       "  79: (15, 80),\n",
       "  80: (15, 80),\n",
       "  81: (15, 80),\n",
       "  82: (15, 80),\n",
       "  83: (15, 80),\n",
       "  84: (15, 80),\n",
       "  85: (15, 80),\n",
       "  86: (15, 80),\n",
       "  87: (15, 80),\n",
       "  88: (15, 80),\n",
       "  89: (15, 80),\n",
       "  90: (15, 80),\n",
       "  91: (15, 80),\n",
       "  92: (15, 80),\n",
       "  93: (15, 80),\n",
       "  94: (15, 80),\n",
       "  95: (15, 80),\n",
       "  96: (15, 80),\n",
       "  97: (15, 80),\n",
       "  98: (15, 80),\n",
       "  99: (15, 80),\n",
       "  100: (15, 80)},\n",
       " 'EPS_STEP': 33,\n",
       " 'METRIC': 'euclidean'}"
      ]
     },
     "metadata": {},
     "output_type": "display_data"
    }
   ],
   "source": [
    "CLUSTERING_OPTIONS = {}\n",
    "\n",
    "# K_RANGE is the min_samples parameter in DBSCAN (sklearn)\n",
    "CLUSTERING_OPTIONS[\"K_RANGE\"] = k_values\n",
    "CLUSTERING_OPTIONS[\"EPS_RANGE_PER_K\"] = eps_range_per_k\n",
    "CLUSTERING_OPTIONS[\"EPS_STEP\"] = 33\n",
    "CLUSTERING_OPTIONS[\"METRIC\"] = \"euclidean\"\n",
    "\n",
    "display(CLUSTERING_OPTIONS)"
   ]
  },
  {
   "cell_type": "code",
   "execution_count": 21,
   "metadata": {
    "execution": {
     "iopub.execute_input": "2021-02-22T22:11:00.591608Z",
     "iopub.status.busy": "2021-02-22T22:11:00.591229Z",
     "iopub.status.idle": "2021-02-22T22:11:00.612546Z",
     "shell.execute_reply": "2021-02-22T22:11:00.612153Z"
    },
    "papermill": {
     "duration": 0.04626,
     "end_time": "2021-02-22T22:11:00.612637",
     "exception": false,
     "start_time": "2021-02-22T22:11:00.566377",
     "status": "completed"
    },
    "tags": []
   },
   "outputs": [],
   "source": [
    "CLUSTERERS = {}\n",
    "\n",
    "idx = 0\n",
    "\n",
    "for k in CLUSTERING_OPTIONS[\"K_RANGE\"]:\n",
    "    eps_range = CLUSTERING_OPTIONS[\"EPS_RANGE_PER_K\"][k]\n",
    "    eps_values = np.linspace(eps_range[0], eps_range[1], CLUSTERING_OPTIONS[\"EPS_STEP\"])\n",
    "\n",
    "    for eps in eps_values:\n",
    "        clus = DBSCAN(min_samples=k, eps=eps, metric=\"precomputed\", n_jobs=N_JOBS)\n",
    "\n",
    "        method_name = type(clus).__name__\n",
    "        CLUSTERERS[f\"{method_name} #{idx}\"] = clus\n",
    "\n",
    "        idx = idx + 1"
   ]
  },
  {
   "cell_type": "code",
   "execution_count": 22,
   "metadata": {
    "execution": {
     "iopub.execute_input": "2021-02-22T22:11:00.661990Z",
     "iopub.status.busy": "2021-02-22T22:11:00.661576Z",
     "iopub.status.idle": "2021-02-22T22:11:00.672939Z",
     "shell.execute_reply": "2021-02-22T22:11:00.672571Z"
    },
    "papermill": {
     "duration": 0.037664,
     "end_time": "2021-02-22T22:11:00.673031",
     "exception": false,
     "start_time": "2021-02-22T22:11:00.635367",
     "status": "completed"
    },
    "tags": []
   },
   "outputs": [
    {
     "data": {
      "text/plain": [
       "3267"
      ]
     },
     "metadata": {},
     "output_type": "display_data"
    }
   ],
   "source": [
    "display(len(CLUSTERERS))"
   ]
  },
  {
   "cell_type": "code",
   "execution_count": 23,
   "metadata": {
    "execution": {
     "iopub.execute_input": "2021-02-22T22:11:00.722488Z",
     "iopub.status.busy": "2021-02-22T22:11:00.722114Z",
     "iopub.status.idle": "2021-02-22T22:11:00.734984Z",
     "shell.execute_reply": "2021-02-22T22:11:00.734623Z"
    },
    "papermill": {
     "duration": 0.038022,
     "end_time": "2021-02-22T22:11:00.735068",
     "exception": false,
     "start_time": "2021-02-22T22:11:00.697046",
     "status": "completed"
    },
    "tags": []
   },
   "outputs": [
    {
     "data": {
      "text/plain": [
       "('DBSCAN #0', DBSCAN(eps=15.0, metric='precomputed', min_samples=2, n_jobs=2))"
      ]
     },
     "metadata": {},
     "output_type": "display_data"
    },
    {
     "data": {
      "text/plain": [
       "('DBSCAN #1',\n",
       " DBSCAN(eps=17.03125, metric='precomputed', min_samples=2, n_jobs=2))"
      ]
     },
     "metadata": {},
     "output_type": "display_data"
    }
   ],
   "source": [
    "_iter = iter(CLUSTERERS.items())\n",
    "display(next(_iter))\n",
    "display(next(_iter))"
   ]
  },
  {
   "cell_type": "code",
   "execution_count": 24,
   "metadata": {
    "execution": {
     "iopub.execute_input": "2021-02-22T22:11:00.783400Z",
     "iopub.status.busy": "2021-02-22T22:11:00.783001Z",
     "iopub.status.idle": "2021-02-22T22:11:00.794164Z",
     "shell.execute_reply": "2021-02-22T22:11:00.793788Z"
    },
    "papermill": {
     "duration": 0.036287,
     "end_time": "2021-02-22T22:11:00.794253",
     "exception": false,
     "start_time": "2021-02-22T22:11:00.757966",
     "status": "completed"
    },
    "tags": []
   },
   "outputs": [
    {
     "data": {
      "text/plain": [
       "'DBSCAN'"
      ]
     },
     "metadata": {},
     "output_type": "display_data"
    }
   ],
   "source": [
    "clustering_method_name = method_name\n",
    "display(clustering_method_name)"
   ]
  },
  {
   "cell_type": "markdown",
   "metadata": {
    "papermill": {
     "duration": 0.023481,
     "end_time": "2021-02-22T22:11:00.841454",
     "exception": false,
     "start_time": "2021-02-22T22:11:00.817973",
     "status": "completed"
    },
    "tags": []
   },
   "source": [
    "### Generate ensemble"
   ]
  },
  {
   "cell_type": "code",
   "execution_count": 25,
   "metadata": {
    "execution": {
     "iopub.execute_input": "2021-02-22T22:11:00.890412Z",
     "iopub.status.busy": "2021-02-22T22:11:00.890034Z",
     "iopub.status.idle": "2021-02-22T22:11:01.059183Z",
     "shell.execute_reply": "2021-02-22T22:11:01.058844Z"
    },
    "papermill": {
     "duration": 0.194531,
     "end_time": "2021-02-22T22:11:01.059270",
     "exception": false,
     "start_time": "2021-02-22T22:11:00.864739",
     "status": "completed"
    },
    "tags": []
   },
   "outputs": [],
   "source": [
    "data_dist = pairwise_distances(data, metric=CLUSTERING_OPTIONS[\"METRIC\"])"
   ]
  },
  {
   "cell_type": "code",
   "execution_count": 26,
   "metadata": {
    "execution": {
     "iopub.execute_input": "2021-02-22T22:11:01.108152Z",
     "iopub.status.busy": "2021-02-22T22:11:01.107787Z",
     "iopub.status.idle": "2021-02-22T22:11:01.118691Z",
     "shell.execute_reply": "2021-02-22T22:11:01.118989Z"
    },
    "papermill": {
     "duration": 0.036707,
     "end_time": "2021-02-22T22:11:01.119094",
     "exception": false,
     "start_time": "2021-02-22T22:11:01.082387",
     "status": "completed"
    },
    "tags": []
   },
   "outputs": [
    {
     "data": {
      "text/plain": [
       "(3749, 3749)"
      ]
     },
     "execution_count": 26,
     "metadata": {},
     "output_type": "execute_result"
    }
   ],
   "source": [
    "data_dist.shape"
   ]
  },
  {
   "cell_type": "code",
   "execution_count": 27,
   "metadata": {
    "execution": {
     "iopub.execute_input": "2021-02-22T22:11:01.168356Z",
     "iopub.status.busy": "2021-02-22T22:11:01.167971Z",
     "iopub.status.idle": "2021-02-22T22:11:01.772662Z",
     "shell.execute_reply": "2021-02-22T22:11:01.772979Z"
    },
    "papermill": {
     "duration": 0.63055,
     "end_time": "2021-02-22T22:11:01.773097",
     "exception": false,
     "start_time": "2021-02-22T22:11:01.142547",
     "status": "completed"
    },
    "tags": []
   },
   "outputs": [
    {
     "data": {
      "text/plain": [
       "count            14055001.0\n",
       "mean     17.536786666895573\n",
       "std      14.914704903599608\n",
       "min                     0.0\n",
       "25%      11.028118338431472\n",
       "50%      12.507491786104163\n",
       "75%      16.607661053517283\n",
       "max      160.45156459412453\n",
       "dtype: object"
      ]
     },
     "execution_count": 27,
     "metadata": {},
     "output_type": "execute_result"
    }
   ],
   "source": [
    "pd.Series(data_dist.flatten()).describe().apply(str)"
   ]
  },
  {
   "cell_type": "code",
   "execution_count": 28,
   "metadata": {
    "execution": {
     "iopub.execute_input": "2021-02-22T22:11:01.824046Z",
     "iopub.status.busy": "2021-02-22T22:11:01.823665Z",
     "iopub.status.idle": "2021-02-22T22:21:52.450634Z",
     "shell.execute_reply": "2021-02-22T22:21:52.450222Z"
    },
    "papermill": {
     "duration": 650.65261,
     "end_time": "2021-02-22T22:21:52.450743",
     "exception": false,
     "start_time": "2021-02-22T22:11:01.798133",
     "status": "completed"
    },
    "tags": []
   },
   "outputs": [
    {
     "name": "stderr",
     "output_type": "stream",
     "text": [
      "100%|██████████| 3267/3267 [10:50<00:00,  5.02it/s]\n"
     ]
    }
   ],
   "source": [
    "ensemble = generate_ensemble(\n",
    "    data_dist,\n",
    "    CLUSTERERS,\n",
    "    attributes=CLUSTERING_ATTRIBUTES_TO_SAVE,\n",
    ")"
   ]
  },
  {
   "cell_type": "code",
   "execution_count": 29,
   "metadata": {
    "execution": {
     "iopub.execute_input": "2021-02-22T22:21:53.515870Z",
     "iopub.status.busy": "2021-02-22T22:21:53.515505Z",
     "iopub.status.idle": "2021-02-22T22:21:53.526599Z",
     "shell.execute_reply": "2021-02-22T22:21:53.526211Z"
    },
    "papermill": {
     "duration": 0.546475,
     "end_time": "2021-02-22T22:21:53.526690",
     "exception": false,
     "start_time": "2021-02-22T22:21:52.980215",
     "status": "completed"
    },
    "tags": []
   },
   "outputs": [
    {
     "data": {
      "text/plain": [
       "(245, 3)"
      ]
     },
     "execution_count": 29,
     "metadata": {},
     "output_type": "execute_result"
    }
   ],
   "source": [
    "ensemble.shape"
   ]
  },
  {
   "cell_type": "code",
   "execution_count": 30,
   "metadata": {
    "execution": {
     "iopub.execute_input": "2021-02-22T22:21:54.631154Z",
     "iopub.status.busy": "2021-02-22T22:21:54.630750Z",
     "iopub.status.idle": "2021-02-22T22:21:54.650787Z",
     "shell.execute_reply": "2021-02-22T22:21:54.650375Z"
    },
    "papermill": {
     "duration": 0.588357,
     "end_time": "2021-02-22T22:21:54.650884",
     "exception": false,
     "start_time": "2021-02-22T22:21:54.062527",
     "status": "completed"
    },
    "tags": []
   },
   "outputs": [
    {
     "data": {
      "text/html": [
       "<div>\n",
       "<style scoped>\n",
       "    .dataframe tbody tr th:only-of-type {\n",
       "        vertical-align: middle;\n",
       "    }\n",
       "\n",
       "    .dataframe tbody tr th {\n",
       "        vertical-align: top;\n",
       "    }\n",
       "\n",
       "    .dataframe thead th {\n",
       "        text-align: right;\n",
       "    }\n",
       "</style>\n",
       "<table border=\"1\" class=\"dataframe\">\n",
       "  <thead>\n",
       "    <tr style=\"text-align: right;\">\n",
       "      <th></th>\n",
       "      <th>clusterer_params</th>\n",
       "      <th>partition</th>\n",
       "      <th>n_clusters</th>\n",
       "    </tr>\n",
       "    <tr>\n",
       "      <th>clusterer_id</th>\n",
       "      <th></th>\n",
       "      <th></th>\n",
       "      <th></th>\n",
       "    </tr>\n",
       "  </thead>\n",
       "  <tbody>\n",
       "    <tr>\n",
       "      <th>DBSCAN #0</th>\n",
       "      <td>{'algorithm': 'auto', 'eps': 15.0, 'leaf_size'...</td>\n",
       "      <td>[0.0, 0.0, 0.0, 0.0, 0.0, 0.0, 0.0, 0.0, 0.0, ...</td>\n",
       "      <td>39</td>\n",
       "    </tr>\n",
       "    <tr>\n",
       "      <th>DBSCAN #1</th>\n",
       "      <td>{'algorithm': 'auto', 'eps': 17.03125, 'leaf_s...</td>\n",
       "      <td>[0.0, 0.0, 0.0, 0.0, 0.0, 0.0, 0.0, 0.0, 0.0, ...</td>\n",
       "      <td>29</td>\n",
       "    </tr>\n",
       "    <tr>\n",
       "      <th>DBSCAN #2</th>\n",
       "      <td>{'algorithm': 'auto', 'eps': 19.0625, 'leaf_si...</td>\n",
       "      <td>[0.0, 0.0, 0.0, 0.0, 0.0, 0.0, 0.0, 0.0, 0.0, ...</td>\n",
       "      <td>27</td>\n",
       "    </tr>\n",
       "    <tr>\n",
       "      <th>DBSCAN #3</th>\n",
       "      <td>{'algorithm': 'auto', 'eps': 21.09375, 'leaf_s...</td>\n",
       "      <td>[0.0, 0.0, 0.0, 0.0, 0.0, 0.0, 0.0, 0.0, 0.0, ...</td>\n",
       "      <td>26</td>\n",
       "    </tr>\n",
       "    <tr>\n",
       "      <th>DBSCAN #4</th>\n",
       "      <td>{'algorithm': 'auto', 'eps': 23.125, 'leaf_siz...</td>\n",
       "      <td>[0.0, 0.0, 0.0, 0.0, 0.0, 0.0, 0.0, 0.0, 0.0, ...</td>\n",
       "      <td>24</td>\n",
       "    </tr>\n",
       "  </tbody>\n",
       "</table>\n",
       "</div>"
      ],
      "text/plain": [
       "                                               clusterer_params  \\\n",
       "clusterer_id                                                      \n",
       "DBSCAN #0     {'algorithm': 'auto', 'eps': 15.0, 'leaf_size'...   \n",
       "DBSCAN #1     {'algorithm': 'auto', 'eps': 17.03125, 'leaf_s...   \n",
       "DBSCAN #2     {'algorithm': 'auto', 'eps': 19.0625, 'leaf_si...   \n",
       "DBSCAN #3     {'algorithm': 'auto', 'eps': 21.09375, 'leaf_s...   \n",
       "DBSCAN #4     {'algorithm': 'auto', 'eps': 23.125, 'leaf_siz...   \n",
       "\n",
       "                                                      partition  n_clusters  \n",
       "clusterer_id                                                                 \n",
       "DBSCAN #0     [0.0, 0.0, 0.0, 0.0, 0.0, 0.0, 0.0, 0.0, 0.0, ...          39  \n",
       "DBSCAN #1     [0.0, 0.0, 0.0, 0.0, 0.0, 0.0, 0.0, 0.0, 0.0, ...          29  \n",
       "DBSCAN #2     [0.0, 0.0, 0.0, 0.0, 0.0, 0.0, 0.0, 0.0, 0.0, ...          27  \n",
       "DBSCAN #3     [0.0, 0.0, 0.0, 0.0, 0.0, 0.0, 0.0, 0.0, 0.0, ...          26  \n",
       "DBSCAN #4     [0.0, 0.0, 0.0, 0.0, 0.0, 0.0, 0.0, 0.0, 0.0, ...          24  "
      ]
     },
     "execution_count": 30,
     "metadata": {},
     "output_type": "execute_result"
    }
   ],
   "source": [
    "ensemble.head()"
   ]
  },
  {
   "cell_type": "code",
   "execution_count": 31,
   "metadata": {
    "execution": {
     "iopub.execute_input": "2021-02-22T22:21:55.717224Z",
     "iopub.status.busy": "2021-02-22T22:21:55.716856Z",
     "iopub.status.idle": "2021-02-22T22:21:55.728994Z",
     "shell.execute_reply": "2021-02-22T22:21:55.728584Z"
    },
    "papermill": {
     "duration": 0.550159,
     "end_time": "2021-02-22T22:21:55.729083",
     "exception": false,
     "start_time": "2021-02-22T22:21:55.178924",
     "status": "completed"
    },
    "tags": []
   },
   "outputs": [
    {
     "data": {
      "text/plain": [
       "2    84\n",
       "3    56\n",
       "5    30\n",
       "4    16\n",
       "6    13\n",
       "Name: n_clusters, dtype: int64"
      ]
     },
     "execution_count": 31,
     "metadata": {},
     "output_type": "execute_result"
    }
   ],
   "source": [
    "ensemble[\"n_clusters\"].value_counts().head()"
   ]
  },
  {
   "cell_type": "code",
   "execution_count": 32,
   "metadata": {
    "execution": {
     "iopub.execute_input": "2021-02-22T22:21:56.790310Z",
     "iopub.status.busy": "2021-02-22T22:21:56.789893Z",
     "iopub.status.idle": "2021-02-22T22:21:56.802626Z",
     "shell.execute_reply": "2021-02-22T22:21:56.802908Z"
    },
    "papermill": {
     "duration": 0.544547,
     "end_time": "2021-02-22T22:21:56.803020",
     "exception": false,
     "start_time": "2021-02-22T22:21:56.258473",
     "status": "completed"
    },
    "tags": []
   },
   "outputs": [
    {
     "data": {
      "text/plain": [
       "count    245.000000\n",
       "mean       5.057143\n",
       "std        5.110741\n",
       "min        2.000000\n",
       "25%        2.000000\n",
       "50%        3.000000\n",
       "75%        5.000000\n",
       "max       39.000000\n",
       "Name: n_clusters, dtype: float64"
      ]
     },
     "metadata": {},
     "output_type": "display_data"
    }
   ],
   "source": [
    "ensemble_stats = ensemble[\"n_clusters\"].describe()\n",
    "display(ensemble_stats)"
   ]
  },
  {
   "cell_type": "markdown",
   "metadata": {
    "papermill": {
     "duration": 0.52904,
     "end_time": "2021-02-22T22:21:57.862555",
     "exception": false,
     "start_time": "2021-02-22T22:21:57.333515",
     "status": "completed"
    },
    "tags": []
   },
   "source": [
    "### Testing"
   ]
  },
  {
   "cell_type": "code",
   "execution_count": 33,
   "metadata": {
    "execution": {
     "iopub.execute_input": "2021-02-22T22:21:58.952687Z",
     "iopub.status.busy": "2021-02-22T22:21:58.952324Z",
     "iopub.status.idle": "2021-02-22T22:21:58.962185Z",
     "shell.execute_reply": "2021-02-22T22:21:58.962472Z"
    },
    "papermill": {
     "duration": 0.539275,
     "end_time": "2021-02-22T22:21:58.962583",
     "exception": false,
     "start_time": "2021-02-22T22:21:58.423308",
     "status": "completed"
    },
    "tags": []
   },
   "outputs": [],
   "source": [
    "assert ensemble_stats[\"min\"] > 1"
   ]
  },
  {
   "cell_type": "code",
   "execution_count": 34,
   "metadata": {
    "execution": {
     "iopub.execute_input": "2021-02-22T22:22:00.030952Z",
     "iopub.status.busy": "2021-02-22T22:22:00.030590Z",
     "iopub.status.idle": "2021-02-22T22:22:00.040971Z",
     "shell.execute_reply": "2021-02-22T22:22:00.040630Z"
    },
    "papermill": {
     "duration": 0.543148,
     "end_time": "2021-02-22T22:22:00.041060",
     "exception": false,
     "start_time": "2021-02-22T22:21:59.497912",
     "status": "completed"
    },
    "tags": []
   },
   "outputs": [],
   "source": [
    "assert not ensemble[\"n_clusters\"].isna().any()"
   ]
  },
  {
   "cell_type": "code",
   "execution_count": 35,
   "metadata": {
    "execution": {
     "iopub.execute_input": "2021-02-22T22:22:01.103255Z",
     "iopub.status.busy": "2021-02-22T22:22:01.102895Z",
     "iopub.status.idle": "2021-02-22T22:22:01.113460Z",
     "shell.execute_reply": "2021-02-22T22:22:01.113087Z"
    },
    "papermill": {
     "duration": 0.538482,
     "end_time": "2021-02-22T22:22:01.113547",
     "exception": false,
     "start_time": "2021-02-22T22:22:00.575065",
     "status": "completed"
    },
    "tags": []
   },
   "outputs": [],
   "source": [
    "# assert ensemble.shape[0] == len(CLUSTERERS)"
   ]
  },
  {
   "cell_type": "code",
   "execution_count": 36,
   "metadata": {
    "execution": {
     "iopub.execute_input": "2021-02-22T22:22:02.213213Z",
     "iopub.status.busy": "2021-02-22T22:22:02.212829Z",
     "iopub.status.idle": "2021-02-22T22:22:02.239255Z",
     "shell.execute_reply": "2021-02-22T22:22:02.238927Z"
    },
    "papermill": {
     "duration": 0.586536,
     "end_time": "2021-02-22T22:22:02.239345",
     "exception": false,
     "start_time": "2021-02-22T22:22:01.652809",
     "status": "completed"
    },
    "tags": []
   },
   "outputs": [],
   "source": [
    "# all partitions have the right size\n",
    "assert np.all(\n",
    "    [part[\"partition\"].shape[0] == data.shape[0] for idx, part in ensemble.iterrows()]\n",
    ")"
   ]
  },
  {
   "cell_type": "code",
   "execution_count": 37,
   "metadata": {
    "execution": {
     "iopub.execute_input": "2021-02-22T22:22:03.317978Z",
     "iopub.status.busy": "2021-02-22T22:22:03.317595Z",
     "iopub.status.idle": "2021-02-22T22:22:03.346774Z",
     "shell.execute_reply": "2021-02-22T22:22:03.347062Z"
    },
    "papermill": {
     "duration": 0.571871,
     "end_time": "2021-02-22T22:22:03.347177",
     "exception": false,
     "start_time": "2021-02-22T22:22:02.775306",
     "status": "completed"
    },
    "tags": []
   },
   "outputs": [],
   "source": [
    "# no partition has negative clusters (noisy points)\n",
    "assert not np.any([(part[\"partition\"] < 0).any() for idx, part in ensemble.iterrows()])"
   ]
  },
  {
   "cell_type": "markdown",
   "metadata": {
    "papermill": {
     "duration": 0.534459,
     "end_time": "2021-02-22T22:22:04.413328",
     "exception": false,
     "start_time": "2021-02-22T22:22:03.878869",
     "status": "completed"
    },
    "tags": []
   },
   "source": [
    "### Save"
   ]
  },
  {
   "cell_type": "code",
   "execution_count": 38,
   "metadata": {
    "execution": {
     "iopub.execute_input": "2021-02-22T22:22:05.478911Z",
     "iopub.status.busy": "2021-02-22T22:22:05.478543Z",
     "iopub.status.idle": "2021-02-22T22:22:05.489268Z",
     "shell.execute_reply": "2021-02-22T22:22:05.489548Z"
    },
    "papermill": {
     "duration": 0.546332,
     "end_time": "2021-02-22T22:22:05.489658",
     "exception": false,
     "start_time": "2021-02-22T22:22:04.943326",
     "status": "completed"
    },
    "tags": []
   },
   "outputs": [
    {
     "data": {
      "text/plain": [
       "PosixPath('/home/miltondp/projects/labs/greenelab/phenoplier/base3/results/clustering/runs/pca-z_score_std-projection-smultixcan-efo_partial-mashr-zscores/DBSCAN.pkl')"
      ]
     },
     "metadata": {},
     "output_type": "display_data"
    }
   ],
   "source": [
    "output_filename = Path(\n",
    "    RESULTS_DIR,\n",
    "    generate_result_set_name(\n",
    "        {},\n",
    "        #         CLUSTERING_OPTIONS,\n",
    "        prefix=f\"{clustering_method_name}\",\n",
    "        suffix=\".pkl\",\n",
    "    ),\n",
    ").resolve()\n",
    "display(output_filename)"
   ]
  },
  {
   "cell_type": "code",
   "execution_count": 39,
   "metadata": {
    "execution": {
     "iopub.execute_input": "2021-02-22T22:22:06.585938Z",
     "iopub.status.busy": "2021-02-22T22:22:06.585576Z",
     "iopub.status.idle": "2021-02-22T22:22:06.604711Z",
     "shell.execute_reply": "2021-02-22T22:22:06.604297Z"
    },
    "papermill": {
     "duration": 0.560012,
     "end_time": "2021-02-22T22:22:06.604822",
     "exception": false,
     "start_time": "2021-02-22T22:22:06.044810",
     "status": "completed"
    },
    "tags": []
   },
   "outputs": [],
   "source": [
    "ensemble.to_pickle(output_filename)"
   ]
  },
  {
   "cell_type": "code",
   "execution_count": null,
   "metadata": {
    "papermill": {
     "duration": 0.535392,
     "end_time": "2021-02-22T22:22:07.672246",
     "exception": false,
     "start_time": "2021-02-22T22:22:07.136854",
     "status": "completed"
    },
    "tags": []
   },
   "outputs": [],
   "source": []
  }
 ],
 "metadata": {
  "jupytext": {
   "cell_metadata_filter": "all,-execution,-papermill,-trusted",
   "formats": "ipynb,py//py:percent"
  },
  "kernelspec": {
   "display_name": "Python 3",
   "language": "python",
   "name": "python3"
  },
  "language_info": {
   "codemirror_mode": {
    "name": "ipython",
    "version": 3
   },
   "file_extension": ".py",
   "mimetype": "text/x-python",
   "name": "python",
   "nbconvert_exporter": "python",
   "pygments_lexer": "ipython3",
   "version": "3.8.8"
  },
  "papermill": {
   "default_parameters": {},
   "duration": 677.716614,
   "end_time": "2021-02-22T22:22:08.607876",
   "environment_variables": {},
   "exception": null,
   "input_path": "15_cluster_analysis/002_01-dbscan-pca.ipynb",
   "output_path": "15_cluster_analysis/002_01-dbscan-pca.run.ipynb",
   "parameters": {},
   "start_time": "2021-02-22T22:10:50.891262",
   "version": "2.2.2"
  },
  "toc-autonumbering": true,
  "toc-showcode": false,
  "toc-showmarkdowntxt": false,
  "toc-showtags": false
 },
 "nbformat": 4,
 "nbformat_minor": 4
}
