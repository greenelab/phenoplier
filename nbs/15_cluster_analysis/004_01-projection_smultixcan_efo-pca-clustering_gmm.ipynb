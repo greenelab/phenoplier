{
 "cells": [
  {
   "cell_type": "markdown",
   "metadata": {
    "papermill": {
     "duration": 0.05412,
     "end_time": "2020-12-02T13:55:53.827527",
     "exception": false,
     "start_time": "2020-12-02T13:55:53.773407",
     "status": "completed"
    },
    "tags": []
   },
   "source": [
    "# Description"
   ]
  },
  {
   "cell_type": "markdown",
   "metadata": {
    "papermill": {
     "duration": 0.017442,
     "end_time": "2020-12-02T13:55:53.863947",
     "exception": false,
     "start_time": "2020-12-02T13:55:53.846505",
     "status": "completed"
    },
    "tags": []
   },
   "source": [
    "Runs gaussian mixture model on the pca version of the data."
   ]
  },
  {
   "cell_type": "markdown",
   "metadata": {
    "papermill": {
     "duration": 0.01744,
     "end_time": "2020-12-02T13:55:53.899056",
     "exception": false,
     "start_time": "2020-12-02T13:55:53.881616",
     "status": "completed"
    },
    "tags": []
   },
   "source": [
    "# Environment variables"
   ]
  },
  {
   "cell_type": "code",
   "execution_count": 1,
   "metadata": {
    "execution": {
     "iopub.execute_input": "2020-12-02T13:55:53.937366Z",
     "iopub.status.busy": "2020-12-02T13:55:53.936973Z",
     "iopub.status.idle": "2020-12-02T13:55:53.948061Z",
     "shell.execute_reply": "2020-12-02T13:55:53.947627Z"
    },
    "papermill": {
     "duration": 0.031661,
     "end_time": "2020-12-02T13:55:53.948184",
     "exception": false,
     "start_time": "2020-12-02T13:55:53.916523",
     "status": "completed"
    },
    "tags": []
   },
   "outputs": [
    {
     "data": {
      "text/plain": [
       "3"
      ]
     },
     "metadata": {},
     "output_type": "display_data"
    }
   ],
   "source": [
    "from IPython.display import display\n",
    "\n",
    "import conf\n",
    "\n",
    "N_JOBS = conf.GENERAL['N_JOBS']\n",
    "display(N_JOBS)"
   ]
  },
  {
   "cell_type": "code",
   "execution_count": 2,
   "metadata": {
    "execution": {
     "iopub.execute_input": "2020-12-02T13:55:53.990627Z",
     "iopub.status.busy": "2020-12-02T13:55:53.990207Z",
     "iopub.status.idle": "2020-12-02T13:55:53.992837Z",
     "shell.execute_reply": "2020-12-02T13:55:53.992452Z"
    },
    "papermill": {
     "duration": 0.025128,
     "end_time": "2020-12-02T13:55:53.992926",
     "exception": false,
     "start_time": "2020-12-02T13:55:53.967798",
     "status": "completed"
    },
    "tags": []
   },
   "outputs": [
    {
     "name": "stdout",
     "output_type": "stream",
     "text": [
      "env: MKL_NUM_THREADS=3\n",
      "env: OPEN_BLAS_NUM_THREADS=3\n",
      "env: NUMEXPR_NUM_THREADS=3\n",
      "env: OMP_NUM_THREADS=3\n"
     ]
    }
   ],
   "source": [
    "%env MKL_NUM_THREADS=$N_JOBS\n",
    "%env OPEN_BLAS_NUM_THREADS=$N_JOBS\n",
    "%env NUMEXPR_NUM_THREADS=$N_JOBS\n",
    "%env OMP_NUM_THREADS=$N_JOBS"
   ]
  },
  {
   "cell_type": "markdown",
   "metadata": {
    "papermill": {
     "duration": 0.018641,
     "end_time": "2020-12-02T13:55:54.030880",
     "exception": false,
     "start_time": "2020-12-02T13:55:54.012239",
     "status": "completed"
    },
    "tags": []
   },
   "source": [
    "# Modules loading"
   ]
  },
  {
   "cell_type": "code",
   "execution_count": 3,
   "metadata": {
    "execution": {
     "iopub.execute_input": "2020-12-02T13:55:54.070518Z",
     "iopub.status.busy": "2020-12-02T13:55:54.070152Z",
     "iopub.status.idle": "2020-12-02T13:55:54.077487Z",
     "shell.execute_reply": "2020-12-02T13:55:54.077770Z"
    },
    "papermill": {
     "duration": 0.028756,
     "end_time": "2020-12-02T13:55:54.077878",
     "exception": false,
     "start_time": "2020-12-02T13:55:54.049122",
     "status": "completed"
    },
    "tags": []
   },
   "outputs": [],
   "source": [
    "%load_ext autoreload\n",
    "%autoreload 2"
   ]
  },
  {
   "cell_type": "code",
   "execution_count": 4,
   "metadata": {
    "execution": {
     "iopub.execute_input": "2020-12-02T13:55:54.117382Z",
     "iopub.status.busy": "2020-12-02T13:55:54.117017Z",
     "iopub.status.idle": "2020-12-02T13:55:55.708815Z",
     "shell.execute_reply": "2020-12-02T13:55:55.708393Z"
    },
    "papermill": {
     "duration": 1.612403,
     "end_time": "2020-12-02T13:55:55.708919",
     "exception": false,
     "start_time": "2020-12-02T13:55:54.096516",
     "status": "completed"
    },
    "tags": []
   },
   "outputs": [],
   "source": [
    "from pathlib import Path\n",
    "\n",
    "import numpy as np\n",
    "import pandas as pd\n",
    "import umap\n",
    "import matplotlib.pyplot as plt\n",
    "import seaborn as sns\n",
    "\n",
    "from utils import generate_result_set_name"
   ]
  },
  {
   "cell_type": "markdown",
   "metadata": {
    "papermill": {
     "duration": 0.018453,
     "end_time": "2020-12-02T13:55:55.748175",
     "exception": false,
     "start_time": "2020-12-02T13:55:55.729722",
     "status": "completed"
    },
    "tags": []
   },
   "source": [
    "# Settings"
   ]
  },
  {
   "cell_type": "code",
   "execution_count": 5,
   "metadata": {
    "execution": {
     "iopub.execute_input": "2020-12-02T13:55:55.787634Z",
     "iopub.status.busy": "2020-12-02T13:55:55.787226Z",
     "iopub.status.idle": "2020-12-02T13:55:55.798680Z",
     "shell.execute_reply": "2020-12-02T13:55:55.798977Z"
    },
    "papermill": {
     "duration": 0.032443,
     "end_time": "2020-12-02T13:55:55.799086",
     "exception": false,
     "start_time": "2020-12-02T13:55:55.766643",
     "status": "completed"
    },
    "tags": []
   },
   "outputs": [],
   "source": [
    "INITIAL_RANDOM_STATE = 70000"
   ]
  },
  {
   "cell_type": "markdown",
   "metadata": {
    "papermill": {
     "duration": 0.018417,
     "end_time": "2020-12-02T13:55:55.836539",
     "exception": false,
     "start_time": "2020-12-02T13:55:55.818122",
     "status": "completed"
    },
    "tags": []
   },
   "source": [
    "## Input data"
   ]
  },
  {
   "cell_type": "code",
   "execution_count": 6,
   "metadata": {
    "execution": {
     "iopub.execute_input": "2020-12-02T13:55:55.876057Z",
     "iopub.status.busy": "2020-12-02T13:55:55.875694Z",
     "iopub.status.idle": "2020-12-02T13:55:55.887403Z",
     "shell.execute_reply": "2020-12-02T13:55:55.887063Z"
    },
    "papermill": {
     "duration": 0.032101,
     "end_time": "2020-12-02T13:55:55.887495",
     "exception": false,
     "start_time": "2020-12-02T13:55:55.855394",
     "status": "completed"
    },
    "tags": []
   },
   "outputs": [],
   "source": [
    "INPUT_SUBSET = 'pca'"
   ]
  },
  {
   "cell_type": "code",
   "execution_count": 7,
   "metadata": {
    "execution": {
     "iopub.execute_input": "2020-12-02T13:55:55.927369Z",
     "iopub.status.busy": "2020-12-02T13:55:55.927007Z",
     "iopub.status.idle": "2020-12-02T13:55:55.939015Z",
     "shell.execute_reply": "2020-12-02T13:55:55.938640Z"
    },
    "papermill": {
     "duration": 0.032645,
     "end_time": "2020-12-02T13:55:55.939118",
     "exception": false,
     "start_time": "2020-12-02T13:55:55.906473",
     "status": "completed"
    },
    "tags": []
   },
   "outputs": [],
   "source": [
    "INPUT_STEM = 'z_score_std-projection-smultixcan-efo_partial-mashr-zscores'"
   ]
  },
  {
   "cell_type": "code",
   "execution_count": 8,
   "metadata": {
    "execution": {
     "iopub.execute_input": "2020-12-02T13:55:55.978988Z",
     "iopub.status.busy": "2020-12-02T13:55:55.978625Z",
     "iopub.status.idle": "2020-12-02T13:55:55.990425Z",
     "shell.execute_reply": "2020-12-02T13:55:55.990121Z"
    },
    "papermill": {
     "duration": 0.03242,
     "end_time": "2020-12-02T13:55:55.990511",
     "exception": false,
     "start_time": "2020-12-02T13:55:55.958091",
     "status": "completed"
    },
    "tags": []
   },
   "outputs": [],
   "source": [
    "DR_OPTIONS = {\n",
    "    'n_components': 50,\n",
    "    'svd_solver': 'full',\n",
    "    'random_state': 0,\n",
    "}"
   ]
  },
  {
   "cell_type": "code",
   "execution_count": 9,
   "metadata": {
    "execution": {
     "iopub.execute_input": "2020-12-02T13:55:56.032132Z",
     "iopub.status.busy": "2020-12-02T13:55:56.031745Z",
     "iopub.status.idle": "2020-12-02T13:55:56.045500Z",
     "shell.execute_reply": "2020-12-02T13:55:56.045168Z"
    },
    "papermill": {
     "duration": 0.035549,
     "end_time": "2020-12-02T13:55:56.045591",
     "exception": false,
     "start_time": "2020-12-02T13:55:56.010042",
     "status": "completed"
    },
    "tags": []
   },
   "outputs": [
    {
     "data": {
      "text/plain": [
       "PosixPath('/home/miltondp/projects/labs/greenelab/phenoplier/base/results/data_transformations/pca/pca-z_score_std-projection-smultixcan-efo_partial-mashr-zscores-n_components_50-random_state_0-svd_solver_full.pkl')"
      ]
     },
     "metadata": {},
     "output_type": "display_data"
    },
    {
     "data": {
      "text/plain": [
       "'pca-z_score_std-projection-smultixcan-efo_partial-mashr-zscores-n_components_50-random_state_0-svd_solver_full'"
      ]
     },
     "metadata": {},
     "output_type": "display_data"
    }
   ],
   "source": [
    "input_filepath = Path(\n",
    "    conf.RESULTS[\"DATA_TRANSFORMATIONS_DIR\"],\n",
    "    INPUT_SUBSET,\n",
    "    generate_result_set_name(\n",
    "        DR_OPTIONS,\n",
    "        prefix=f'{INPUT_SUBSET}-{INPUT_STEM}-',\n",
    "        suffix='.pkl'\n",
    "    )\n",
    ").resolve()\n",
    "display(input_filepath)\n",
    "\n",
    "assert input_filepath.exists(), 'Input file does not exist'\n",
    "\n",
    "input_filepath_stem = input_filepath.stem\n",
    "display(input_filepath_stem)"
   ]
  },
  {
   "cell_type": "markdown",
   "metadata": {
    "papermill": {
     "duration": 0.019641,
     "end_time": "2020-12-02T13:55:56.085490",
     "exception": false,
     "start_time": "2020-12-02T13:55:56.065849",
     "status": "completed"
    },
    "tags": []
   },
   "source": [
    "## Clustering"
   ]
  },
  {
   "cell_type": "code",
   "execution_count": 10,
   "metadata": {
    "execution": {
     "iopub.execute_input": "2020-12-02T13:55:56.125837Z",
     "iopub.status.busy": "2020-12-02T13:55:56.125479Z",
     "iopub.status.idle": "2020-12-02T13:55:56.144176Z",
     "shell.execute_reply": "2020-12-02T13:55:56.143851Z"
    },
    "papermill": {
     "duration": 0.039917,
     "end_time": "2020-12-02T13:55:56.144271",
     "exception": false,
     "start_time": "2020-12-02T13:55:56.104354",
     "status": "completed"
    },
    "tags": []
   },
   "outputs": [],
   "source": [
    "from sklearn.mixture import GaussianMixture"
   ]
  },
  {
   "cell_type": "code",
   "execution_count": 11,
   "metadata": {
    "execution": {
     "iopub.execute_input": "2020-12-02T13:55:56.187128Z",
     "iopub.status.busy": "2020-12-02T13:55:56.186765Z",
     "iopub.status.idle": "2020-12-02T13:55:56.198315Z",
     "shell.execute_reply": "2020-12-02T13:55:56.198609Z"
    },
    "papermill": {
     "duration": 0.034392,
     "end_time": "2020-12-02T13:55:56.198723",
     "exception": false,
     "start_time": "2020-12-02T13:55:56.164331",
     "status": "completed"
    },
    "tags": []
   },
   "outputs": [],
   "source": [
    "CLUSTERING_ATTRIBUTES_TO_SAVE = ['n_clusters']"
   ]
  },
  {
   "cell_type": "code",
   "execution_count": 12,
   "metadata": {
    "execution": {
     "iopub.execute_input": "2020-12-02T13:55:56.240779Z",
     "iopub.status.busy": "2020-12-02T13:55:56.240364Z",
     "iopub.status.idle": "2020-12-02T13:55:56.253316Z",
     "shell.execute_reply": "2020-12-02T13:55:56.252992Z"
    },
    "papermill": {
     "duration": 0.034606,
     "end_time": "2020-12-02T13:55:56.253406",
     "exception": false,
     "start_time": "2020-12-02T13:55:56.218800",
     "status": "completed"
    },
    "tags": []
   },
   "outputs": [
    {
     "data": {
      "text/plain": [
       "{'K_MIN': 2,\n",
       " 'K_MAX': 60,\n",
       " 'N_REPS_PER_K': 5,\n",
       " 'N_INIT': 10,\n",
       " 'COVARIANCE_TYPE': 'full'}"
      ]
     },
     "metadata": {},
     "output_type": "display_data"
    }
   ],
   "source": [
    "CLUSTERING_OPTIONS = {}\n",
    "\n",
    "CLUSTERING_OPTIONS['K_MIN'] = 2\n",
    "CLUSTERING_OPTIONS['K_MAX'] = 60 # sqrt(3749)\n",
    "CLUSTERING_OPTIONS['N_REPS_PER_K'] = 5\n",
    "CLUSTERING_OPTIONS['N_INIT'] = 10\n",
    "CLUSTERING_OPTIONS['COVARIANCE_TYPE'] = 'full'\n",
    "\n",
    "display(CLUSTERING_OPTIONS)"
   ]
  },
  {
   "cell_type": "code",
   "execution_count": 13,
   "metadata": {
    "execution": {
     "iopub.execute_input": "2020-12-02T13:55:56.297345Z",
     "iopub.status.busy": "2020-12-02T13:55:56.296972Z",
     "iopub.status.idle": "2020-12-02T13:55:56.309588Z",
     "shell.execute_reply": "2020-12-02T13:55:56.309871Z"
    },
    "papermill": {
     "duration": 0.036116,
     "end_time": "2020-12-02T13:55:56.309982",
     "exception": false,
     "start_time": "2020-12-02T13:55:56.273866",
     "status": "completed"
    },
    "tags": []
   },
   "outputs": [],
   "source": [
    "CLUSTERERS = {}\n",
    "\n",
    "idx = 0\n",
    "random_state = INITIAL_RANDOM_STATE\n",
    "\n",
    "for k in range(CLUSTERING_OPTIONS['K_MIN'], CLUSTERING_OPTIONS['K_MAX']+1):\n",
    "    for i in range(CLUSTERING_OPTIONS['N_REPS_PER_K']):\n",
    "        clus = GaussianMixture(\n",
    "                n_components=k,\n",
    "                n_init=CLUSTERING_OPTIONS['N_INIT'],\n",
    "                covariance_type=CLUSTERING_OPTIONS['COVARIANCE_TYPE'],\n",
    "                random_state=random_state,\n",
    "            )\n",
    "        \n",
    "        method_name = type(clus).__name__\n",
    "        CLUSTERERS[f'{method_name} #{idx}'] = clus\n",
    "        \n",
    "        random_state = random_state + 1\n",
    "        idx = idx + 1"
   ]
  },
  {
   "cell_type": "code",
   "execution_count": 14,
   "metadata": {
    "execution": {
     "iopub.execute_input": "2020-12-02T13:55:56.353883Z",
     "iopub.status.busy": "2020-12-02T13:55:56.353513Z",
     "iopub.status.idle": "2020-12-02T13:55:56.365927Z",
     "shell.execute_reply": "2020-12-02T13:55:56.365586Z"
    },
    "papermill": {
     "duration": 0.034944,
     "end_time": "2020-12-02T13:55:56.366015",
     "exception": false,
     "start_time": "2020-12-02T13:55:56.331071",
     "status": "completed"
    },
    "tags": []
   },
   "outputs": [
    {
     "data": {
      "text/plain": [
       "295"
      ]
     },
     "metadata": {},
     "output_type": "display_data"
    }
   ],
   "source": [
    "display(len(CLUSTERERS))"
   ]
  },
  {
   "cell_type": "code",
   "execution_count": 15,
   "metadata": {
    "execution": {
     "iopub.execute_input": "2020-12-02T13:55:56.410626Z",
     "iopub.status.busy": "2020-12-02T13:55:56.410182Z",
     "iopub.status.idle": "2020-12-02T13:55:56.424748Z",
     "shell.execute_reply": "2020-12-02T13:55:56.424398Z"
    },
    "papermill": {
     "duration": 0.037395,
     "end_time": "2020-12-02T13:55:56.424853",
     "exception": false,
     "start_time": "2020-12-02T13:55:56.387458",
     "status": "completed"
    },
    "tags": []
   },
   "outputs": [
    {
     "data": {
      "text/plain": [
       "('GaussianMixture #0',\n",
       " GaussianMixture(n_components=2, n_init=10, random_state=70000))"
      ]
     },
     "metadata": {},
     "output_type": "display_data"
    },
    {
     "data": {
      "text/plain": [
       "('GaussianMixture #1',\n",
       " GaussianMixture(n_components=2, n_init=10, random_state=70001))"
      ]
     },
     "metadata": {},
     "output_type": "display_data"
    }
   ],
   "source": [
    "_iter = iter(CLUSTERERS.items())\n",
    "display(next(_iter))\n",
    "display(next(_iter))"
   ]
  },
  {
   "cell_type": "code",
   "execution_count": 16,
   "metadata": {
    "execution": {
     "iopub.execute_input": "2020-12-02T13:55:56.468986Z",
     "iopub.status.busy": "2020-12-02T13:55:56.468588Z",
     "iopub.status.idle": "2020-12-02T13:55:56.480608Z",
     "shell.execute_reply": "2020-12-02T13:55:56.480928Z"
    },
    "papermill": {
     "duration": 0.034936,
     "end_time": "2020-12-02T13:55:56.481036",
     "exception": false,
     "start_time": "2020-12-02T13:55:56.446100",
     "status": "completed"
    },
    "tags": []
   },
   "outputs": [
    {
     "data": {
      "text/plain": [
       "'GaussianMixture'"
      ]
     },
     "metadata": {},
     "output_type": "display_data"
    }
   ],
   "source": [
    "clustering_method_name = method_name\n",
    "display(clustering_method_name)"
   ]
  },
  {
   "cell_type": "markdown",
   "metadata": {
    "papermill": {
     "duration": 0.020413,
     "end_time": "2020-12-02T13:55:56.522167",
     "exception": false,
     "start_time": "2020-12-02T13:55:56.501754",
     "status": "completed"
    },
    "tags": []
   },
   "source": [
    "## Output directory"
   ]
  },
  {
   "cell_type": "code",
   "execution_count": 17,
   "metadata": {
    "execution": {
     "iopub.execute_input": "2020-12-02T13:55:56.565514Z",
     "iopub.status.busy": "2020-12-02T13:55:56.565137Z",
     "iopub.status.idle": "2020-12-02T13:55:56.578222Z",
     "shell.execute_reply": "2020-12-02T13:55:56.577836Z"
    },
    "papermill": {
     "duration": 0.036034,
     "end_time": "2020-12-02T13:55:56.578313",
     "exception": false,
     "start_time": "2020-12-02T13:55:56.542279",
     "status": "completed"
    },
    "tags": []
   },
   "outputs": [
    {
     "data": {
      "text/plain": [
       "PosixPath('/home/miltondp/projects/labs/greenelab/phenoplier/base/results/clustering/runs/pca-z_score_std-projection-smultixcan-efo_partial-mashr-zscores')"
      ]
     },
     "metadata": {},
     "output_type": "display_data"
    }
   ],
   "source": [
    "# output dir for this notebook\n",
    "RESULTS_DIR = Path(\n",
    "    conf.RESULTS[\"CLUSTERING_RUNS_DIR\"],\n",
    "    f'{INPUT_SUBSET}-{INPUT_STEM}',\n",
    ").resolve()\n",
    "RESULTS_DIR.mkdir(parents=True, exist_ok=True)\n",
    "\n",
    "display(RESULTS_DIR)"
   ]
  },
  {
   "cell_type": "markdown",
   "metadata": {
    "papermill": {
     "duration": 0.021292,
     "end_time": "2020-12-02T13:55:56.621864",
     "exception": false,
     "start_time": "2020-12-02T13:55:56.600572",
     "status": "completed"
    },
    "tags": []
   },
   "source": [
    "# Load input file"
   ]
  },
  {
   "cell_type": "code",
   "execution_count": 18,
   "metadata": {
    "execution": {
     "iopub.execute_input": "2020-12-02T13:55:56.665746Z",
     "iopub.status.busy": "2020-12-02T13:55:56.665386Z",
     "iopub.status.idle": "2020-12-02T13:55:56.678599Z",
     "shell.execute_reply": "2020-12-02T13:55:56.678893Z"
    },
    "papermill": {
     "duration": 0.036636,
     "end_time": "2020-12-02T13:55:56.679006",
     "exception": false,
     "start_time": "2020-12-02T13:55:56.642370",
     "status": "completed"
    },
    "tags": []
   },
   "outputs": [],
   "source": [
    "data = pd.read_pickle(input_filepath)"
   ]
  },
  {
   "cell_type": "code",
   "execution_count": 19,
   "metadata": {
    "execution": {
     "iopub.execute_input": "2020-12-02T13:55:56.723801Z",
     "iopub.status.busy": "2020-12-02T13:55:56.723446Z",
     "iopub.status.idle": "2020-12-02T13:55:56.736343Z",
     "shell.execute_reply": "2020-12-02T13:55:56.735996Z"
    },
    "papermill": {
     "duration": 0.036053,
     "end_time": "2020-12-02T13:55:56.736433",
     "exception": false,
     "start_time": "2020-12-02T13:55:56.700380",
     "status": "completed"
    },
    "tags": []
   },
   "outputs": [
    {
     "data": {
      "text/plain": [
       "(3749, 50)"
      ]
     },
     "execution_count": 19,
     "metadata": {},
     "output_type": "execute_result"
    }
   ],
   "source": [
    "data.shape"
   ]
  },
  {
   "cell_type": "code",
   "execution_count": 20,
   "metadata": {
    "execution": {
     "iopub.execute_input": "2020-12-02T13:55:56.781664Z",
     "iopub.status.busy": "2020-12-02T13:55:56.781304Z",
     "iopub.status.idle": "2020-12-02T13:55:56.806669Z",
     "shell.execute_reply": "2020-12-02T13:55:56.806306Z"
    },
    "papermill": {
     "duration": 0.048674,
     "end_time": "2020-12-02T13:55:56.806756",
     "exception": false,
     "start_time": "2020-12-02T13:55:56.758082",
     "status": "completed"
    },
    "tags": []
   },
   "outputs": [
    {
     "data": {
      "text/html": [
       "<div>\n",
       "<style scoped>\n",
       "    .dataframe tbody tr th:only-of-type {\n",
       "        vertical-align: middle;\n",
       "    }\n",
       "\n",
       "    .dataframe tbody tr th {\n",
       "        vertical-align: top;\n",
       "    }\n",
       "\n",
       "    .dataframe thead th {\n",
       "        text-align: right;\n",
       "    }\n",
       "</style>\n",
       "<table border=\"1\" class=\"dataframe\">\n",
       "  <thead>\n",
       "    <tr style=\"text-align: right;\">\n",
       "      <th></th>\n",
       "      <th>PCA1</th>\n",
       "      <th>PCA2</th>\n",
       "      <th>PCA3</th>\n",
       "      <th>PCA4</th>\n",
       "      <th>PCA5</th>\n",
       "      <th>PCA6</th>\n",
       "      <th>PCA7</th>\n",
       "      <th>PCA8</th>\n",
       "      <th>PCA9</th>\n",
       "      <th>PCA10</th>\n",
       "      <th>...</th>\n",
       "      <th>PCA41</th>\n",
       "      <th>PCA42</th>\n",
       "      <th>PCA43</th>\n",
       "      <th>PCA44</th>\n",
       "      <th>PCA45</th>\n",
       "      <th>PCA46</th>\n",
       "      <th>PCA47</th>\n",
       "      <th>PCA48</th>\n",
       "      <th>PCA49</th>\n",
       "      <th>PCA50</th>\n",
       "    </tr>\n",
       "  </thead>\n",
       "  <tbody>\n",
       "    <tr>\n",
       "      <th>100001_raw-Food_weight</th>\n",
       "      <td>-0.547515</td>\n",
       "      <td>-0.007250</td>\n",
       "      <td>0.245361</td>\n",
       "      <td>0.132424</td>\n",
       "      <td>1.201447</td>\n",
       "      <td>-0.113158</td>\n",
       "      <td>0.048859</td>\n",
       "      <td>1.031679</td>\n",
       "      <td>0.711208</td>\n",
       "      <td>0.126100</td>\n",
       "      <td>...</td>\n",
       "      <td>0.113685</td>\n",
       "      <td>-0.109753</td>\n",
       "      <td>0.178202</td>\n",
       "      <td>-0.487868</td>\n",
       "      <td>1.805920</td>\n",
       "      <td>-0.342611</td>\n",
       "      <td>-0.663712</td>\n",
       "      <td>-1.313987</td>\n",
       "      <td>-1.481707</td>\n",
       "      <td>0.396410</td>\n",
       "    </tr>\n",
       "    <tr>\n",
       "      <th>100002_raw-Energy</th>\n",
       "      <td>-1.570593</td>\n",
       "      <td>-0.618992</td>\n",
       "      <td>-1.223395</td>\n",
       "      <td>1.627321</td>\n",
       "      <td>-0.563860</td>\n",
       "      <td>0.224922</td>\n",
       "      <td>-1.500327</td>\n",
       "      <td>2.045633</td>\n",
       "      <td>-1.665998</td>\n",
       "      <td>-0.180432</td>\n",
       "      <td>...</td>\n",
       "      <td>0.697880</td>\n",
       "      <td>1.412676</td>\n",
       "      <td>2.103988</td>\n",
       "      <td>0.385625</td>\n",
       "      <td>2.386495</td>\n",
       "      <td>-2.939998</td>\n",
       "      <td>-0.978275</td>\n",
       "      <td>-1.893307</td>\n",
       "      <td>-0.259497</td>\n",
       "      <td>0.423264</td>\n",
       "    </tr>\n",
       "    <tr>\n",
       "      <th>100003_raw-Protein</th>\n",
       "      <td>-0.601212</td>\n",
       "      <td>-0.948824</td>\n",
       "      <td>-1.022209</td>\n",
       "      <td>2.438433</td>\n",
       "      <td>-2.062235</td>\n",
       "      <td>0.356202</td>\n",
       "      <td>-1.538038</td>\n",
       "      <td>2.314675</td>\n",
       "      <td>-1.108991</td>\n",
       "      <td>0.318034</td>\n",
       "      <td>...</td>\n",
       "      <td>0.171992</td>\n",
       "      <td>1.351979</td>\n",
       "      <td>0.054404</td>\n",
       "      <td>-0.725132</td>\n",
       "      <td>2.226520</td>\n",
       "      <td>-3.481674</td>\n",
       "      <td>-0.445294</td>\n",
       "      <td>-0.477452</td>\n",
       "      <td>0.237157</td>\n",
       "      <td>1.440867</td>\n",
       "    </tr>\n",
       "    <tr>\n",
       "      <th>100004_raw-Fat</th>\n",
       "      <td>-1.648214</td>\n",
       "      <td>-0.342042</td>\n",
       "      <td>-0.270189</td>\n",
       "      <td>1.683268</td>\n",
       "      <td>-1.222401</td>\n",
       "      <td>0.018349</td>\n",
       "      <td>-0.032824</td>\n",
       "      <td>1.671161</td>\n",
       "      <td>-0.908965</td>\n",
       "      <td>0.224100</td>\n",
       "      <td>...</td>\n",
       "      <td>-0.358812</td>\n",
       "      <td>0.696836</td>\n",
       "      <td>1.072624</td>\n",
       "      <td>0.627951</td>\n",
       "      <td>1.802000</td>\n",
       "      <td>0.174704</td>\n",
       "      <td>0.826319</td>\n",
       "      <td>-0.826992</td>\n",
       "      <td>0.596113</td>\n",
       "      <td>0.620050</td>\n",
       "    </tr>\n",
       "    <tr>\n",
       "      <th>100005_raw-Carbohydrate</th>\n",
       "      <td>-1.867586</td>\n",
       "      <td>-0.006412</td>\n",
       "      <td>-0.303220</td>\n",
       "      <td>0.770958</td>\n",
       "      <td>-0.116822</td>\n",
       "      <td>0.460946</td>\n",
       "      <td>-2.407732</td>\n",
       "      <td>1.534273</td>\n",
       "      <td>-1.930577</td>\n",
       "      <td>0.064621</td>\n",
       "      <td>...</td>\n",
       "      <td>1.332852</td>\n",
       "      <td>1.978032</td>\n",
       "      <td>2.158456</td>\n",
       "      <td>0.831123</td>\n",
       "      <td>1.093202</td>\n",
       "      <td>-3.539033</td>\n",
       "      <td>-0.831862</td>\n",
       "      <td>-0.842298</td>\n",
       "      <td>-0.723072</td>\n",
       "      <td>0.359438</td>\n",
       "    </tr>\n",
       "  </tbody>\n",
       "</table>\n",
       "<p>5 rows × 50 columns</p>\n",
       "</div>"
      ],
      "text/plain": [
       "                             PCA1      PCA2      PCA3      PCA4      PCA5  \\\n",
       "100001_raw-Food_weight  -0.547515 -0.007250  0.245361  0.132424  1.201447   \n",
       "100002_raw-Energy       -1.570593 -0.618992 -1.223395  1.627321 -0.563860   \n",
       "100003_raw-Protein      -0.601212 -0.948824 -1.022209  2.438433 -2.062235   \n",
       "100004_raw-Fat          -1.648214 -0.342042 -0.270189  1.683268 -1.222401   \n",
       "100005_raw-Carbohydrate -1.867586 -0.006412 -0.303220  0.770958 -0.116822   \n",
       "\n",
       "                             PCA6      PCA7      PCA8      PCA9     PCA10  \\\n",
       "100001_raw-Food_weight  -0.113158  0.048859  1.031679  0.711208  0.126100   \n",
       "100002_raw-Energy        0.224922 -1.500327  2.045633 -1.665998 -0.180432   \n",
       "100003_raw-Protein       0.356202 -1.538038  2.314675 -1.108991  0.318034   \n",
       "100004_raw-Fat           0.018349 -0.032824  1.671161 -0.908965  0.224100   \n",
       "100005_raw-Carbohydrate  0.460946 -2.407732  1.534273 -1.930577  0.064621   \n",
       "\n",
       "                         ...     PCA41     PCA42     PCA43     PCA44  \\\n",
       "100001_raw-Food_weight   ...  0.113685 -0.109753  0.178202 -0.487868   \n",
       "100002_raw-Energy        ...  0.697880  1.412676  2.103988  0.385625   \n",
       "100003_raw-Protein       ...  0.171992  1.351979  0.054404 -0.725132   \n",
       "100004_raw-Fat           ... -0.358812  0.696836  1.072624  0.627951   \n",
       "100005_raw-Carbohydrate  ...  1.332852  1.978032  2.158456  0.831123   \n",
       "\n",
       "                            PCA45     PCA46     PCA47     PCA48     PCA49  \\\n",
       "100001_raw-Food_weight   1.805920 -0.342611 -0.663712 -1.313987 -1.481707   \n",
       "100002_raw-Energy        2.386495 -2.939998 -0.978275 -1.893307 -0.259497   \n",
       "100003_raw-Protein       2.226520 -3.481674 -0.445294 -0.477452  0.237157   \n",
       "100004_raw-Fat           1.802000  0.174704  0.826319 -0.826992  0.596113   \n",
       "100005_raw-Carbohydrate  1.093202 -3.539033 -0.831862 -0.842298 -0.723072   \n",
       "\n",
       "                            PCA50  \n",
       "100001_raw-Food_weight   0.396410  \n",
       "100002_raw-Energy        0.423264  \n",
       "100003_raw-Protein       1.440867  \n",
       "100004_raw-Fat           0.620050  \n",
       "100005_raw-Carbohydrate  0.359438  \n",
       "\n",
       "[5 rows x 50 columns]"
      ]
     },
     "execution_count": 20,
     "metadata": {},
     "output_type": "execute_result"
    }
   ],
   "source": [
    "data.head()"
   ]
  },
  {
   "cell_type": "code",
   "execution_count": 21,
   "metadata": {
    "execution": {
     "iopub.execute_input": "2020-12-02T13:55:56.853262Z",
     "iopub.status.busy": "2020-12-02T13:55:56.852901Z",
     "iopub.status.idle": "2020-12-02T13:55:56.865322Z",
     "shell.execute_reply": "2020-12-02T13:55:56.865010Z"
    },
    "papermill": {
     "duration": 0.036388,
     "end_time": "2020-12-02T13:55:56.865416",
     "exception": false,
     "start_time": "2020-12-02T13:55:56.829028",
     "status": "completed"
    },
    "tags": []
   },
   "outputs": [],
   "source": [
    "assert not data.isna().any().any()"
   ]
  },
  {
   "cell_type": "markdown",
   "metadata": {
    "papermill": {
     "duration": 0.02155,
     "end_time": "2020-12-02T13:55:56.909425",
     "exception": false,
     "start_time": "2020-12-02T13:55:56.887875",
     "status": "completed"
    },
    "tags": []
   },
   "source": [
    "# Clustering"
   ]
  },
  {
   "cell_type": "markdown",
   "metadata": {
    "papermill": {
     "duration": 0.021425,
     "end_time": "2020-12-02T13:55:56.952035",
     "exception": false,
     "start_time": "2020-12-02T13:55:56.930610",
     "status": "completed"
    },
    "tags": []
   },
   "source": [
    "## Generate ensemble"
   ]
  },
  {
   "cell_type": "code",
   "execution_count": 22,
   "metadata": {
    "execution": {
     "iopub.execute_input": "2020-12-02T13:55:56.996985Z",
     "iopub.status.busy": "2020-12-02T13:55:56.996575Z",
     "iopub.status.idle": "2020-12-02T13:55:57.010495Z",
     "shell.execute_reply": "2020-12-02T13:55:57.010771Z"
    },
    "papermill": {
     "duration": 0.03778,
     "end_time": "2020-12-02T13:55:57.010881",
     "exception": false,
     "start_time": "2020-12-02T13:55:56.973101",
     "status": "completed"
    },
    "tags": []
   },
   "outputs": [],
   "source": [
    "from clustering.ensemble import generate_ensemble"
   ]
  },
  {
   "cell_type": "code",
   "execution_count": 23,
   "metadata": {
    "execution": {
     "iopub.execute_input": "2020-12-02T13:55:57.057559Z",
     "iopub.status.busy": "2020-12-02T13:55:57.057199Z",
     "iopub.status.idle": "2020-12-02T16:52:12.961569Z",
     "shell.execute_reply": "2020-12-02T16:52:12.960777Z"
    },
    "papermill": {
     "duration": 10575.928328,
     "end_time": "2020-12-02T16:52:12.961654",
     "exception": false,
     "start_time": "2020-12-02T13:55:57.033326",
     "status": "completed"
    },
    "tags": []
   },
   "outputs": [
    {
     "name": "stderr",
     "output_type": "stream",
     "text": [
      "100%|██████████| 295/295 [2:56:15<00:00, 35.85s/it]  \n"
     ]
    }
   ],
   "source": [
    "ensemble = generate_ensemble(\n",
    "    data,\n",
    "    CLUSTERERS,\n",
    "    attributes=CLUSTERING_ATTRIBUTES_TO_SAVE,\n",
    ")"
   ]
  },
  {
   "cell_type": "code",
   "execution_count": 24,
   "metadata": {
    "execution": {
     "iopub.execute_input": "2020-12-02T16:52:13.100653Z",
     "iopub.status.busy": "2020-12-02T16:52:13.100278Z",
     "iopub.status.idle": "2020-12-02T16:52:13.113421Z",
     "shell.execute_reply": "2020-12-02T16:52:13.113102Z"
    },
    "papermill": {
     "duration": 0.083268,
     "end_time": "2020-12-02T16:52:13.113510",
     "exception": false,
     "start_time": "2020-12-02T16:52:13.030242",
     "status": "completed"
    },
    "tags": []
   },
   "outputs": [
    {
     "data": {
      "text/plain": [
       "(295, 3)"
      ]
     },
     "execution_count": 24,
     "metadata": {},
     "output_type": "execute_result"
    }
   ],
   "source": [
    "# the number should be close to 295 (the number of partitions generated by k-means/spectral clustering)\n",
    "ensemble.shape"
   ]
  },
  {
   "cell_type": "code",
   "execution_count": 25,
   "metadata": {
    "execution": {
     "iopub.execute_input": "2020-12-02T16:52:13.255017Z",
     "iopub.status.busy": "2020-12-02T16:52:13.254656Z",
     "iopub.status.idle": "2020-12-02T16:52:13.274917Z",
     "shell.execute_reply": "2020-12-02T16:52:13.274552Z"
    },
    "papermill": {
     "duration": 0.091776,
     "end_time": "2020-12-02T16:52:13.275003",
     "exception": false,
     "start_time": "2020-12-02T16:52:13.183227",
     "status": "completed"
    },
    "tags": []
   },
   "outputs": [
    {
     "data": {
      "text/html": [
       "<div>\n",
       "<style scoped>\n",
       "    .dataframe tbody tr th:only-of-type {\n",
       "        vertical-align: middle;\n",
       "    }\n",
       "\n",
       "    .dataframe tbody tr th {\n",
       "        vertical-align: top;\n",
       "    }\n",
       "\n",
       "    .dataframe thead th {\n",
       "        text-align: right;\n",
       "    }\n",
       "</style>\n",
       "<table border=\"1\" class=\"dataframe\">\n",
       "  <thead>\n",
       "    <tr style=\"text-align: right;\">\n",
       "      <th></th>\n",
       "      <th>clusterer_params</th>\n",
       "      <th>partition</th>\n",
       "      <th>n_clusters</th>\n",
       "    </tr>\n",
       "    <tr>\n",
       "      <th>clusterer_id</th>\n",
       "      <th></th>\n",
       "      <th></th>\n",
       "      <th></th>\n",
       "    </tr>\n",
       "  </thead>\n",
       "  <tbody>\n",
       "    <tr>\n",
       "      <th>GaussianMixture #0</th>\n",
       "      <td>{'covariance_type': 'full', 'init_params': 'km...</td>\n",
       "      <td>[0.0, 0.0, 0.0, 0.0, 0.0, 0.0, 0.0, 0.0, 0.0, ...</td>\n",
       "      <td>2</td>\n",
       "    </tr>\n",
       "    <tr>\n",
       "      <th>GaussianMixture #1</th>\n",
       "      <td>{'covariance_type': 'full', 'init_params': 'km...</td>\n",
       "      <td>[0.0, 0.0, 0.0, 0.0, 0.0, 0.0, 0.0, 0.0, 0.0, ...</td>\n",
       "      <td>2</td>\n",
       "    </tr>\n",
       "    <tr>\n",
       "      <th>GaussianMixture #2</th>\n",
       "      <td>{'covariance_type': 'full', 'init_params': 'km...</td>\n",
       "      <td>[1.0, 1.0, 1.0, 1.0, 1.0, 1.0, 1.0, 1.0, 1.0, ...</td>\n",
       "      <td>2</td>\n",
       "    </tr>\n",
       "    <tr>\n",
       "      <th>GaussianMixture #3</th>\n",
       "      <td>{'covariance_type': 'full', 'init_params': 'km...</td>\n",
       "      <td>[0.0, 0.0, 0.0, 0.0, 0.0, 0.0, 0.0, 0.0, 0.0, ...</td>\n",
       "      <td>2</td>\n",
       "    </tr>\n",
       "    <tr>\n",
       "      <th>GaussianMixture #4</th>\n",
       "      <td>{'covariance_type': 'full', 'init_params': 'km...</td>\n",
       "      <td>[1.0, 1.0, 1.0, 1.0, 1.0, 1.0, 1.0, 1.0, 1.0, ...</td>\n",
       "      <td>2</td>\n",
       "    </tr>\n",
       "  </tbody>\n",
       "</table>\n",
       "</div>"
      ],
      "text/plain": [
       "                                                     clusterer_params  \\\n",
       "clusterer_id                                                            \n",
       "GaussianMixture #0  {'covariance_type': 'full', 'init_params': 'km...   \n",
       "GaussianMixture #1  {'covariance_type': 'full', 'init_params': 'km...   \n",
       "GaussianMixture #2  {'covariance_type': 'full', 'init_params': 'km...   \n",
       "GaussianMixture #3  {'covariance_type': 'full', 'init_params': 'km...   \n",
       "GaussianMixture #4  {'covariance_type': 'full', 'init_params': 'km...   \n",
       "\n",
       "                                                            partition  \\\n",
       "clusterer_id                                                            \n",
       "GaussianMixture #0  [0.0, 0.0, 0.0, 0.0, 0.0, 0.0, 0.0, 0.0, 0.0, ...   \n",
       "GaussianMixture #1  [0.0, 0.0, 0.0, 0.0, 0.0, 0.0, 0.0, 0.0, 0.0, ...   \n",
       "GaussianMixture #2  [1.0, 1.0, 1.0, 1.0, 1.0, 1.0, 1.0, 1.0, 1.0, ...   \n",
       "GaussianMixture #3  [0.0, 0.0, 0.0, 0.0, 0.0, 0.0, 0.0, 0.0, 0.0, ...   \n",
       "GaussianMixture #4  [1.0, 1.0, 1.0, 1.0, 1.0, 1.0, 1.0, 1.0, 1.0, ...   \n",
       "\n",
       "                    n_clusters  \n",
       "clusterer_id                    \n",
       "GaussianMixture #0           2  \n",
       "GaussianMixture #1           2  \n",
       "GaussianMixture #2           2  \n",
       "GaussianMixture #3           2  \n",
       "GaussianMixture #4           2  "
      ]
     },
     "execution_count": 25,
     "metadata": {},
     "output_type": "execute_result"
    }
   ],
   "source": [
    "ensemble.head()"
   ]
  },
  {
   "cell_type": "code",
   "execution_count": 26,
   "metadata": {
    "execution": {
     "iopub.execute_input": "2020-12-02T16:52:13.416394Z",
     "iopub.status.busy": "2020-12-02T16:52:13.416029Z",
     "iopub.status.idle": "2020-12-02T16:52:13.429960Z",
     "shell.execute_reply": "2020-12-02T16:52:13.429588Z"
    },
    "papermill": {
     "duration": 0.085218,
     "end_time": "2020-12-02T16:52:13.430049",
     "exception": false,
     "start_time": "2020-12-02T16:52:13.344831",
     "status": "completed"
    },
    "tags": []
   },
   "outputs": [
    {
     "data": {
      "text/plain": [
       "60    5\n",
       "16    5\n",
       "28    5\n",
       "27    5\n",
       "26    5\n",
       "Name: n_clusters, dtype: int64"
      ]
     },
     "execution_count": 26,
     "metadata": {},
     "output_type": "execute_result"
    }
   ],
   "source": [
    "ensemble['n_clusters'].value_counts().head()"
   ]
  },
  {
   "cell_type": "code",
   "execution_count": 27,
   "metadata": {
    "execution": {
     "iopub.execute_input": "2020-12-02T16:52:13.570410Z",
     "iopub.status.busy": "2020-12-02T16:52:13.570045Z",
     "iopub.status.idle": "2020-12-02T16:52:13.585152Z",
     "shell.execute_reply": "2020-12-02T16:52:13.584778Z"
    },
    "papermill": {
     "duration": 0.085807,
     "end_time": "2020-12-02T16:52:13.585240",
     "exception": false,
     "start_time": "2020-12-02T16:52:13.499433",
     "status": "completed"
    },
    "tags": []
   },
   "outputs": [
    {
     "data": {
      "text/plain": [
       "count    295.000000\n",
       "mean      31.000000\n",
       "std       17.058323\n",
       "min        2.000000\n",
       "25%       16.000000\n",
       "50%       31.000000\n",
       "75%       46.000000\n",
       "max       60.000000\n",
       "Name: n_clusters, dtype: float64"
      ]
     },
     "metadata": {},
     "output_type": "display_data"
    }
   ],
   "source": [
    "ensemble_stats = ensemble['n_clusters'].describe()\n",
    "display(ensemble_stats)"
   ]
  },
  {
   "cell_type": "markdown",
   "metadata": {
    "papermill": {
     "duration": 0.068617,
     "end_time": "2020-12-02T16:52:13.722561",
     "exception": false,
     "start_time": "2020-12-02T16:52:13.653944",
     "status": "completed"
    },
    "tags": []
   },
   "source": [
    "## Testing"
   ]
  },
  {
   "cell_type": "code",
   "execution_count": 28,
   "metadata": {
    "execution": {
     "iopub.execute_input": "2020-12-02T16:52:13.866910Z",
     "iopub.status.busy": "2020-12-02T16:52:13.866549Z",
     "iopub.status.idle": "2020-12-02T16:52:13.878632Z",
     "shell.execute_reply": "2020-12-02T16:52:13.878250Z"
    },
    "papermill": {
     "duration": 0.084634,
     "end_time": "2020-12-02T16:52:13.878722",
     "exception": false,
     "start_time": "2020-12-02T16:52:13.794088",
     "status": "completed"
    },
    "tags": []
   },
   "outputs": [],
   "source": [
    "assert ensemble_stats['min'] > 1"
   ]
  },
  {
   "cell_type": "code",
   "execution_count": 29,
   "metadata": {
    "execution": {
     "iopub.execute_input": "2020-12-02T16:52:14.018914Z",
     "iopub.status.busy": "2020-12-02T16:52:14.018554Z",
     "iopub.status.idle": "2020-12-02T16:52:14.030782Z",
     "shell.execute_reply": "2020-12-02T16:52:14.030401Z"
    },
    "papermill": {
     "duration": 0.08325,
     "end_time": "2020-12-02T16:52:14.030873",
     "exception": false,
     "start_time": "2020-12-02T16:52:13.947623",
     "status": "completed"
    },
    "tags": []
   },
   "outputs": [],
   "source": [
    "assert not ensemble['n_clusters'].isna().any()"
   ]
  },
  {
   "cell_type": "code",
   "execution_count": 30,
   "metadata": {
    "execution": {
     "iopub.execute_input": "2020-12-02T16:52:14.171816Z",
     "iopub.status.busy": "2020-12-02T16:52:14.171453Z",
     "iopub.status.idle": "2020-12-02T16:52:14.183401Z",
     "shell.execute_reply": "2020-12-02T16:52:14.183022Z"
    },
    "papermill": {
     "duration": 0.08298,
     "end_time": "2020-12-02T16:52:14.183491",
     "exception": false,
     "start_time": "2020-12-02T16:52:14.100511",
     "status": "completed"
    },
    "tags": []
   },
   "outputs": [],
   "source": [
    "assert ensemble.shape[0] == len(CLUSTERERS)"
   ]
  },
  {
   "cell_type": "code",
   "execution_count": 31,
   "metadata": {
    "execution": {
     "iopub.execute_input": "2020-12-02T16:52:14.326307Z",
     "iopub.status.busy": "2020-12-02T16:52:14.325930Z",
     "iopub.status.idle": "2020-12-02T16:52:14.355240Z",
     "shell.execute_reply": "2020-12-02T16:52:14.354858Z"
    },
    "papermill": {
     "duration": 0.101547,
     "end_time": "2020-12-02T16:52:14.355330",
     "exception": false,
     "start_time": "2020-12-02T16:52:14.253783",
     "status": "completed"
    },
    "tags": []
   },
   "outputs": [],
   "source": [
    "# all partitions have the right size\n",
    "assert np.all([\n",
    "    part['partition'].shape[0] == data.shape[0]\n",
    "    for idx, part in ensemble.iterrows()\n",
    "])"
   ]
  },
  {
   "cell_type": "code",
   "execution_count": 32,
   "metadata": {
    "execution": {
     "iopub.execute_input": "2020-12-02T16:52:14.497949Z",
     "iopub.status.busy": "2020-12-02T16:52:14.497584Z",
     "iopub.status.idle": "2020-12-02T16:52:14.530086Z",
     "shell.execute_reply": "2020-12-02T16:52:14.529691Z"
    },
    "papermill": {
     "duration": 0.104165,
     "end_time": "2020-12-02T16:52:14.530177",
     "exception": false,
     "start_time": "2020-12-02T16:52:14.426012",
     "status": "completed"
    },
    "tags": []
   },
   "outputs": [],
   "source": [
    "# no partition has negative clusters (noisy points)\n",
    "assert not np.any([\n",
    "    (part['partition'] < 0).any()\n",
    "    for idx, part in ensemble.iterrows()\n",
    "])"
   ]
  },
  {
   "cell_type": "markdown",
   "metadata": {
    "papermill": {
     "duration": 0.069153,
     "end_time": "2020-12-02T16:52:14.670237",
     "exception": false,
     "start_time": "2020-12-02T16:52:14.601084",
     "status": "completed"
    },
    "tags": []
   },
   "source": [
    "## Save"
   ]
  },
  {
   "cell_type": "code",
   "execution_count": 33,
   "metadata": {
    "execution": {
     "iopub.execute_input": "2020-12-02T16:52:14.841691Z",
     "iopub.status.busy": "2020-12-02T16:52:14.841216Z",
     "iopub.status.idle": "2020-12-02T16:52:14.856753Z",
     "shell.execute_reply": "2020-12-02T16:52:14.856267Z"
    },
    "papermill": {
     "duration": 0.117227,
     "end_time": "2020-12-02T16:52:14.856864",
     "exception": false,
     "start_time": "2020-12-02T16:52:14.739637",
     "status": "completed"
    },
    "tags": []
   },
   "outputs": [
    {
     "data": {
      "text/plain": [
       "PosixPath('/home/miltondp/projects/labs/greenelab/phenoplier/base/results/clustering/runs/pca-z_score_std-projection-smultixcan-efo_partial-mashr-zscores/GaussianMixture-COVARIANCE_TYPE_full-K_MAX_60-K_MIN_2-N_INIT_10-N_REPS_PER_K_5.pkl')"
      ]
     },
     "metadata": {},
     "output_type": "display_data"
    }
   ],
   "source": [
    "output_filename = Path(\n",
    "    RESULTS_DIR,\n",
    "    generate_result_set_name(\n",
    "        CLUSTERING_OPTIONS,\n",
    "        prefix=f'{clustering_method_name}-',\n",
    "        suffix='.pkl',\n",
    "    )\n",
    ").resolve()\n",
    "display(output_filename)"
   ]
  },
  {
   "cell_type": "code",
   "execution_count": 34,
   "metadata": {
    "execution": {
     "iopub.execute_input": "2020-12-02T16:52:15.007805Z",
     "iopub.status.busy": "2020-12-02T16:52:15.007441Z",
     "iopub.status.idle": "2020-12-02T16:52:15.029259Z",
     "shell.execute_reply": "2020-12-02T16:52:15.029598Z"
    },
    "papermill": {
     "duration": 0.094269,
     "end_time": "2020-12-02T16:52:15.029713",
     "exception": false,
     "start_time": "2020-12-02T16:52:14.935444",
     "status": "completed"
    },
    "tags": []
   },
   "outputs": [],
   "source": [
    "ensemble.to_pickle(output_filename)"
   ]
  },
  {
   "cell_type": "markdown",
   "metadata": {
    "papermill": {
     "duration": 0.069746,
     "end_time": "2020-12-02T16:52:15.170875",
     "exception": false,
     "start_time": "2020-12-02T16:52:15.101129",
     "status": "completed"
    },
    "tags": []
   },
   "source": [
    "# Stability"
   ]
  },
  {
   "cell_type": "markdown",
   "metadata": {
    "papermill": {
     "duration": 0.070453,
     "end_time": "2020-12-02T16:52:15.311629",
     "exception": false,
     "start_time": "2020-12-02T16:52:15.241176",
     "status": "completed"
    },
    "tags": []
   },
   "source": [
    "## Group ensemble by n_clusters"
   ]
  },
  {
   "cell_type": "code",
   "execution_count": 35,
   "metadata": {
    "execution": {
     "iopub.execute_input": "2020-12-02T16:52:15.454636Z",
     "iopub.status.busy": "2020-12-02T16:52:15.454271Z",
     "iopub.status.idle": "2020-12-02T16:52:15.482619Z",
     "shell.execute_reply": "2020-12-02T16:52:15.482221Z"
    },
    "papermill": {
     "duration": 0.101283,
     "end_time": "2020-12-02T16:52:15.482713",
     "exception": false,
     "start_time": "2020-12-02T16:52:15.381430",
     "status": "completed"
    },
    "tags": []
   },
   "outputs": [],
   "source": [
    "parts = ensemble.groupby('n_clusters').apply(lambda x: np.concatenate(x['partition'].apply(lambda x: x.reshape(1, -1)), axis=0))"
   ]
  },
  {
   "cell_type": "code",
   "execution_count": 36,
   "metadata": {
    "execution": {
     "iopub.execute_input": "2020-12-02T16:52:15.626622Z",
     "iopub.status.busy": "2020-12-02T16:52:15.626257Z",
     "iopub.status.idle": "2020-12-02T16:52:15.650447Z",
     "shell.execute_reply": "2020-12-02T16:52:15.650071Z"
    },
    "papermill": {
     "duration": 0.096932,
     "end_time": "2020-12-02T16:52:15.650535",
     "exception": false,
     "start_time": "2020-12-02T16:52:15.553603",
     "status": "completed"
    },
    "tags": []
   },
   "outputs": [
    {
     "data": {
      "text/plain": [
       "n_clusters\n",
       "2    [[0.0, 0.0, 0.0, 0.0, 0.0, 0.0, 0.0, 0.0, 0.0,...\n",
       "3    [[1.0, 1.0, 1.0, 1.0, 1.0, 1.0, 1.0, 1.0, 1.0,...\n",
       "4    [[0.0, 0.0, 0.0, 0.0, 0.0, 0.0, 0.0, 0.0, 0.0,...\n",
       "5    [[4.0, 4.0, 4.0, 4.0, 4.0, 4.0, 4.0, 4.0, 4.0,...\n",
       "6    [[0.0, 0.0, 0.0, 0.0, 0.0, 0.0, 0.0, 0.0, 0.0,...\n",
       "dtype: object"
      ]
     },
     "execution_count": 36,
     "metadata": {},
     "output_type": "execute_result"
    }
   ],
   "source": [
    "parts.head()"
   ]
  },
  {
   "cell_type": "code",
   "execution_count": 37,
   "metadata": {
    "execution": {
     "iopub.execute_input": "2020-12-02T16:52:15.797720Z",
     "iopub.status.busy": "2020-12-02T16:52:15.797344Z",
     "iopub.status.idle": "2020-12-02T16:52:15.809892Z",
     "shell.execute_reply": "2020-12-02T16:52:15.809506Z"
    },
    "papermill": {
     "duration": 0.088046,
     "end_time": "2020-12-02T16:52:15.809983",
     "exception": false,
     "start_time": "2020-12-02T16:52:15.721937",
     "status": "completed"
    },
    "tags": []
   },
   "outputs": [],
   "source": [
    "assert np.all([\n",
    "    parts.loc[k].shape == (CLUSTERING_OPTIONS['N_REPS_PER_K'], data.shape[0])\n",
    "    for k in parts.index\n",
    "])"
   ]
  },
  {
   "cell_type": "markdown",
   "metadata": {
    "papermill": {
     "duration": 0.070881,
     "end_time": "2020-12-02T16:52:15.952665",
     "exception": false,
     "start_time": "2020-12-02T16:52:15.881784",
     "status": "completed"
    },
    "tags": []
   },
   "source": [
    "## Compute stability"
   ]
  },
  {
   "cell_type": "code",
   "execution_count": 38,
   "metadata": {
    "execution": {
     "iopub.execute_input": "2020-12-02T16:52:16.095744Z",
     "iopub.status.busy": "2020-12-02T16:52:16.095354Z",
     "iopub.status.idle": "2020-12-02T16:52:16.107627Z",
     "shell.execute_reply": "2020-12-02T16:52:16.107258Z"
    },
    "papermill": {
     "duration": 0.085401,
     "end_time": "2020-12-02T16:52:16.107714",
     "exception": false,
     "start_time": "2020-12-02T16:52:16.022313",
     "status": "completed"
    },
    "tags": []
   },
   "outputs": [],
   "source": [
    "from sklearn.metrics import adjusted_rand_score as ari\n",
    "from scipy.spatial.distance import squareform, pdist"
   ]
  },
  {
   "cell_type": "code",
   "execution_count": 39,
   "metadata": {
    "execution": {
     "iopub.execute_input": "2020-12-02T16:52:16.252984Z",
     "iopub.status.busy": "2020-12-02T16:52:16.252566Z",
     "iopub.status.idle": "2020-12-02T16:52:16.888270Z",
     "shell.execute_reply": "2020-12-02T16:52:16.887888Z"
    },
    "papermill": {
     "duration": 0.709356,
     "end_time": "2020-12-02T16:52:16.888360",
     "exception": false,
     "start_time": "2020-12-02T16:52:16.179004",
     "status": "completed"
    },
    "tags": []
   },
   "outputs": [],
   "source": [
    "parts_ari = pd.Series(\n",
    "    {k: pdist(parts.loc[k], metric=ari) for k in parts.index},\n",
    "    name='k'\n",
    ")"
   ]
  },
  {
   "cell_type": "code",
   "execution_count": 40,
   "metadata": {
    "execution": {
     "iopub.execute_input": "2020-12-02T16:52:17.032989Z",
     "iopub.status.busy": "2020-12-02T16:52:17.032551Z",
     "iopub.status.idle": "2020-12-02T16:52:17.046479Z",
     "shell.execute_reply": "2020-12-02T16:52:17.046764Z"
    },
    "papermill": {
     "duration": 0.087276,
     "end_time": "2020-12-02T16:52:17.046873",
     "exception": false,
     "start_time": "2020-12-02T16:52:16.959597",
     "status": "completed"
    },
    "tags": []
   },
   "outputs": [
    {
     "data": {
      "text/plain": [
       "2     1.000000\n",
       "4     0.994182\n",
       "5     0.992584\n",
       "7     0.944322\n",
       "10    0.937556\n",
       "6     0.922867\n",
       "8     0.911643\n",
       "3     0.855784\n",
       "11    0.830593\n",
       "9     0.798840\n",
       "12    0.771361\n",
       "13    0.683191\n",
       "17    0.626926\n",
       "15    0.623425\n",
       "14    0.580949\n",
       "Name: k, dtype: float64"
      ]
     },
     "metadata": {},
     "output_type": "display_data"
    }
   ],
   "source": [
    "parts_ari_stability = parts_ari.apply(lambda x: x.mean())\n",
    "display(parts_ari_stability.sort_values(ascending=False).head(15))"
   ]
  },
  {
   "cell_type": "code",
   "execution_count": 41,
   "metadata": {
    "execution": {
     "iopub.execute_input": "2020-12-02T16:52:17.192849Z",
     "iopub.status.busy": "2020-12-02T16:52:17.192440Z",
     "iopub.status.idle": "2020-12-02T16:52:17.205367Z",
     "shell.execute_reply": "2020-12-02T16:52:17.204982Z"
    },
    "papermill": {
     "duration": 0.08664,
     "end_time": "2020-12-02T16:52:17.205456",
     "exception": false,
     "start_time": "2020-12-02T16:52:17.118816",
     "status": "completed"
    },
    "tags": []
   },
   "outputs": [],
   "source": [
    "parts_ari_df = pd.DataFrame.from_records(parts_ari.tolist()).set_index(parts_ari.index.copy())"
   ]
  },
  {
   "cell_type": "code",
   "execution_count": 42,
   "metadata": {
    "execution": {
     "iopub.execute_input": "2020-12-02T16:52:17.350005Z",
     "iopub.status.busy": "2020-12-02T16:52:17.349645Z",
     "iopub.status.idle": "2020-12-02T16:52:17.362371Z",
     "shell.execute_reply": "2020-12-02T16:52:17.362002Z"
    },
    "papermill": {
     "duration": 0.085838,
     "end_time": "2020-12-02T16:52:17.362458",
     "exception": false,
     "start_time": "2020-12-02T16:52:17.276620",
     "status": "completed"
    },
    "tags": []
   },
   "outputs": [
    {
     "data": {
      "text/plain": [
       "(59, 10)"
      ]
     },
     "execution_count": 42,
     "metadata": {},
     "output_type": "execute_result"
    }
   ],
   "source": [
    "parts_ari_df.shape"
   ]
  },
  {
   "cell_type": "code",
   "execution_count": 43,
   "metadata": {
    "execution": {
     "iopub.execute_input": "2020-12-02T16:52:17.507763Z",
     "iopub.status.busy": "2020-12-02T16:52:17.507391Z",
     "iopub.status.idle": "2020-12-02T16:52:17.519502Z",
     "shell.execute_reply": "2020-12-02T16:52:17.519119Z"
    },
    "papermill": {
     "duration": 0.085888,
     "end_time": "2020-12-02T16:52:17.519591",
     "exception": false,
     "start_time": "2020-12-02T16:52:17.433703",
     "status": "completed"
    },
    "tags": []
   },
   "outputs": [],
   "source": [
    "assert int( (CLUSTERING_OPTIONS['N_REPS_PER_K'] * (CLUSTERING_OPTIONS['N_REPS_PER_K'] - 1) ) / 2) == parts_ari_df.shape[1]"
   ]
  },
  {
   "cell_type": "code",
   "execution_count": 44,
   "metadata": {
    "execution": {
     "iopub.execute_input": "2020-12-02T16:52:17.663473Z",
     "iopub.status.busy": "2020-12-02T16:52:17.663113Z",
     "iopub.status.idle": "2020-12-02T16:52:17.681632Z",
     "shell.execute_reply": "2020-12-02T16:52:17.681324Z"
    },
    "papermill": {
     "duration": 0.091284,
     "end_time": "2020-12-02T16:52:17.681725",
     "exception": false,
     "start_time": "2020-12-02T16:52:17.590441",
     "status": "completed"
    },
    "tags": []
   },
   "outputs": [
    {
     "data": {
      "text/html": [
       "<div>\n",
       "<style scoped>\n",
       "    .dataframe tbody tr th:only-of-type {\n",
       "        vertical-align: middle;\n",
       "    }\n",
       "\n",
       "    .dataframe tbody tr th {\n",
       "        vertical-align: top;\n",
       "    }\n",
       "\n",
       "    .dataframe thead th {\n",
       "        text-align: right;\n",
       "    }\n",
       "</style>\n",
       "<table border=\"1\" class=\"dataframe\">\n",
       "  <thead>\n",
       "    <tr style=\"text-align: right;\">\n",
       "      <th></th>\n",
       "      <th>0</th>\n",
       "      <th>1</th>\n",
       "      <th>2</th>\n",
       "      <th>3</th>\n",
       "      <th>4</th>\n",
       "      <th>5</th>\n",
       "      <th>6</th>\n",
       "      <th>7</th>\n",
       "      <th>8</th>\n",
       "      <th>9</th>\n",
       "    </tr>\n",
       "  </thead>\n",
       "  <tbody>\n",
       "    <tr>\n",
       "      <th>2</th>\n",
       "      <td>1.000000</td>\n",
       "      <td>1.000000</td>\n",
       "      <td>1.000000</td>\n",
       "      <td>1.000000</td>\n",
       "      <td>1.000000</td>\n",
       "      <td>1.000000</td>\n",
       "      <td>1.000000</td>\n",
       "      <td>1.000000</td>\n",
       "      <td>1.000000</td>\n",
       "      <td>1.000000</td>\n",
       "    </tr>\n",
       "    <tr>\n",
       "      <th>3</th>\n",
       "      <td>0.886596</td>\n",
       "      <td>1.000000</td>\n",
       "      <td>0.793980</td>\n",
       "      <td>0.913928</td>\n",
       "      <td>0.886596</td>\n",
       "      <td>0.693142</td>\n",
       "      <td>0.958559</td>\n",
       "      <td>0.793980</td>\n",
       "      <td>0.913928</td>\n",
       "      <td>0.717135</td>\n",
       "    </tr>\n",
       "    <tr>\n",
       "      <th>4</th>\n",
       "      <td>1.000000</td>\n",
       "      <td>0.990304</td>\n",
       "      <td>0.990304</td>\n",
       "      <td>0.990304</td>\n",
       "      <td>0.990304</td>\n",
       "      <td>0.990304</td>\n",
       "      <td>0.990304</td>\n",
       "      <td>1.000000</td>\n",
       "      <td>1.000000</td>\n",
       "      <td>1.000000</td>\n",
       "    </tr>\n",
       "    <tr>\n",
       "      <th>5</th>\n",
       "      <td>1.000000</td>\n",
       "      <td>1.000000</td>\n",
       "      <td>0.987526</td>\n",
       "      <td>0.987866</td>\n",
       "      <td>1.000000</td>\n",
       "      <td>0.987526</td>\n",
       "      <td>0.987866</td>\n",
       "      <td>0.987526</td>\n",
       "      <td>0.987866</td>\n",
       "      <td>0.999660</td>\n",
       "    </tr>\n",
       "    <tr>\n",
       "      <th>6</th>\n",
       "      <td>0.979591</td>\n",
       "      <td>0.983467</td>\n",
       "      <td>0.850934</td>\n",
       "      <td>0.963322</td>\n",
       "      <td>0.965789</td>\n",
       "      <td>0.833657</td>\n",
       "      <td>0.956219</td>\n",
       "      <td>0.860968</td>\n",
       "      <td>0.971600</td>\n",
       "      <td>0.863120</td>\n",
       "    </tr>\n",
       "  </tbody>\n",
       "</table>\n",
       "</div>"
      ],
      "text/plain": [
       "          0         1         2         3         4         5         6  \\\n",
       "2  1.000000  1.000000  1.000000  1.000000  1.000000  1.000000  1.000000   \n",
       "3  0.886596  1.000000  0.793980  0.913928  0.886596  0.693142  0.958559   \n",
       "4  1.000000  0.990304  0.990304  0.990304  0.990304  0.990304  0.990304   \n",
       "5  1.000000  1.000000  0.987526  0.987866  1.000000  0.987526  0.987866   \n",
       "6  0.979591  0.983467  0.850934  0.963322  0.965789  0.833657  0.956219   \n",
       "\n",
       "          7         8         9  \n",
       "2  1.000000  1.000000  1.000000  \n",
       "3  0.793980  0.913928  0.717135  \n",
       "4  1.000000  1.000000  1.000000  \n",
       "5  0.987526  0.987866  0.999660  \n",
       "6  0.860968  0.971600  0.863120  "
      ]
     },
     "execution_count": 44,
     "metadata": {},
     "output_type": "execute_result"
    }
   ],
   "source": [
    "parts_ari_df.head()"
   ]
  },
  {
   "cell_type": "markdown",
   "metadata": {
    "papermill": {
     "duration": 0.074213,
     "end_time": "2020-12-02T16:52:17.828397",
     "exception": false,
     "start_time": "2020-12-02T16:52:17.754184",
     "status": "completed"
    },
    "tags": []
   },
   "source": [
    "## Save"
   ]
  },
  {
   "cell_type": "code",
   "execution_count": 45,
   "metadata": {
    "execution": {
     "iopub.execute_input": "2020-12-02T16:52:17.974938Z",
     "iopub.status.busy": "2020-12-02T16:52:17.974572Z",
     "iopub.status.idle": "2020-12-02T16:52:17.987259Z",
     "shell.execute_reply": "2020-12-02T16:52:17.986899Z"
    },
    "papermill": {
     "duration": 0.08708,
     "end_time": "2020-12-02T16:52:17.987345",
     "exception": false,
     "start_time": "2020-12-02T16:52:17.900265",
     "status": "completed"
    },
    "tags": []
   },
   "outputs": [
    {
     "data": {
      "text/plain": [
       "PosixPath('/home/miltondp/projects/labs/greenelab/phenoplier/base/results/clustering/runs/pca-z_score_std-projection-smultixcan-efo_partial-mashr-zscores/GaussianMixture-stability-COVARIANCE_TYPE_full-K_MAX_60-K_MIN_2-N_INIT_10-N_REPS_PER_K_5.pkl')"
      ]
     },
     "metadata": {},
     "output_type": "display_data"
    }
   ],
   "source": [
    "output_filename = Path(\n",
    "    RESULTS_DIR,\n",
    "    generate_result_set_name(\n",
    "        CLUSTERING_OPTIONS,\n",
    "        prefix=f'{clustering_method_name}-stability-',\n",
    "        suffix='.pkl',\n",
    "    )\n",
    ").resolve()\n",
    "display(output_filename)"
   ]
  },
  {
   "cell_type": "code",
   "execution_count": 46,
   "metadata": {
    "execution": {
     "iopub.execute_input": "2020-12-02T16:52:18.132425Z",
     "iopub.status.busy": "2020-12-02T16:52:18.132065Z",
     "iopub.status.idle": "2020-12-02T16:52:18.144417Z",
     "shell.execute_reply": "2020-12-02T16:52:18.143980Z"
    },
    "papermill": {
     "duration": 0.085441,
     "end_time": "2020-12-02T16:52:18.144504",
     "exception": false,
     "start_time": "2020-12-02T16:52:18.059063",
     "status": "completed"
    },
    "tags": []
   },
   "outputs": [],
   "source": [
    "parts_ari_df.to_pickle(output_filename)"
   ]
  },
  {
   "cell_type": "markdown",
   "metadata": {
    "papermill": {
     "duration": 0.071104,
     "end_time": "2020-12-02T16:52:18.288391",
     "exception": false,
     "start_time": "2020-12-02T16:52:18.217287",
     "status": "completed"
    },
    "tags": []
   },
   "source": [
    "## Stability plot"
   ]
  },
  {
   "cell_type": "code",
   "execution_count": 47,
   "metadata": {
    "execution": {
     "iopub.execute_input": "2020-12-02T16:52:18.435320Z",
     "iopub.status.busy": "2020-12-02T16:52:18.434945Z",
     "iopub.status.idle": "2020-12-02T16:52:18.448551Z",
     "shell.execute_reply": "2020-12-02T16:52:18.448167Z"
    },
    "papermill": {
     "duration": 0.088761,
     "end_time": "2020-12-02T16:52:18.448639",
     "exception": false,
     "start_time": "2020-12-02T16:52:18.359878",
     "status": "completed"
    },
    "tags": []
   },
   "outputs": [],
   "source": [
    "parts_ari_df_plot = parts_ari_df.stack().reset_index().rename(columns={'level_0': 'k', 'level_1': 'idx', 0: 'ari'})"
   ]
  },
  {
   "cell_type": "code",
   "execution_count": 48,
   "metadata": {
    "execution": {
     "iopub.execute_input": "2020-12-02T16:52:18.595742Z",
     "iopub.status.busy": "2020-12-02T16:52:18.595378Z",
     "iopub.status.idle": "2020-12-02T16:52:18.608891Z",
     "shell.execute_reply": "2020-12-02T16:52:18.608436Z"
    },
    "papermill": {
     "duration": 0.087794,
     "end_time": "2020-12-02T16:52:18.608980",
     "exception": false,
     "start_time": "2020-12-02T16:52:18.521186",
     "status": "completed"
    },
    "tags": []
   },
   "outputs": [
    {
     "data": {
      "text/plain": [
       "k        int64\n",
       "idx      int64\n",
       "ari    float64\n",
       "dtype: object"
      ]
     },
     "execution_count": 48,
     "metadata": {},
     "output_type": "execute_result"
    }
   ],
   "source": [
    "parts_ari_df_plot.dtypes"
   ]
  },
  {
   "cell_type": "code",
   "execution_count": 49,
   "metadata": {
    "execution": {
     "iopub.execute_input": "2020-12-02T16:52:18.757543Z",
     "iopub.status.busy": "2020-12-02T16:52:18.757168Z",
     "iopub.status.idle": "2020-12-02T16:52:18.772427Z",
     "shell.execute_reply": "2020-12-02T16:52:18.772048Z"
    },
    "papermill": {
     "duration": 0.090272,
     "end_time": "2020-12-02T16:52:18.772518",
     "exception": false,
     "start_time": "2020-12-02T16:52:18.682246",
     "status": "completed"
    },
    "tags": []
   },
   "outputs": [
    {
     "data": {
      "text/html": [
       "<div>\n",
       "<style scoped>\n",
       "    .dataframe tbody tr th:only-of-type {\n",
       "        vertical-align: middle;\n",
       "    }\n",
       "\n",
       "    .dataframe tbody tr th {\n",
       "        vertical-align: top;\n",
       "    }\n",
       "\n",
       "    .dataframe thead th {\n",
       "        text-align: right;\n",
       "    }\n",
       "</style>\n",
       "<table border=\"1\" class=\"dataframe\">\n",
       "  <thead>\n",
       "    <tr style=\"text-align: right;\">\n",
       "      <th></th>\n",
       "      <th>k</th>\n",
       "      <th>idx</th>\n",
       "      <th>ari</th>\n",
       "    </tr>\n",
       "  </thead>\n",
       "  <tbody>\n",
       "    <tr>\n",
       "      <th>0</th>\n",
       "      <td>2</td>\n",
       "      <td>0</td>\n",
       "      <td>1.0</td>\n",
       "    </tr>\n",
       "    <tr>\n",
       "      <th>1</th>\n",
       "      <td>2</td>\n",
       "      <td>1</td>\n",
       "      <td>1.0</td>\n",
       "    </tr>\n",
       "    <tr>\n",
       "      <th>2</th>\n",
       "      <td>2</td>\n",
       "      <td>2</td>\n",
       "      <td>1.0</td>\n",
       "    </tr>\n",
       "    <tr>\n",
       "      <th>3</th>\n",
       "      <td>2</td>\n",
       "      <td>3</td>\n",
       "      <td>1.0</td>\n",
       "    </tr>\n",
       "    <tr>\n",
       "      <th>4</th>\n",
       "      <td>2</td>\n",
       "      <td>4</td>\n",
       "      <td>1.0</td>\n",
       "    </tr>\n",
       "  </tbody>\n",
       "</table>\n",
       "</div>"
      ],
      "text/plain": [
       "   k  idx  ari\n",
       "0  2    0  1.0\n",
       "1  2    1  1.0\n",
       "2  2    2  1.0\n",
       "3  2    3  1.0\n",
       "4  2    4  1.0"
      ]
     },
     "execution_count": 49,
     "metadata": {},
     "output_type": "execute_result"
    }
   ],
   "source": [
    "parts_ari_df_plot.head()"
   ]
  },
  {
   "cell_type": "code",
   "execution_count": 50,
   "metadata": {
    "execution": {
     "iopub.execute_input": "2020-12-02T16:52:18.924393Z",
     "iopub.status.busy": "2020-12-02T16:52:18.924010Z",
     "iopub.status.idle": "2020-12-02T16:52:21.789902Z",
     "shell.execute_reply": "2020-12-02T16:52:21.790303Z"
    },
    "papermill": {
     "duration": 2.941994,
     "end_time": "2020-12-02T16:52:21.790441",
     "exception": false,
     "start_time": "2020-12-02T16:52:18.848447",
     "status": "completed"
    },
    "tags": []
   },
   "outputs": [
    {
     "data": {
      "image/png": "[encoded data removed]",
      "text/plain": [
       "<Figure size 864x432 with 1 Axes>"
      ]
     },
     "metadata": {},
     "output_type": "display_data"
    }
   ],
   "source": [
    "# with sns.axes_style('whitegrid', {'grid.linestyle': '--'}):\n",
    "with sns.plotting_context('talk', font_scale=0.75), sns.axes_style('whitegrid', {'grid.linestyle': '--'}):\n",
    "    fig = plt.figure(figsize=(12, 6))\n",
    "    ax = sns.pointplot(data=parts_ari_df_plot, x='k', y='ari')\n",
    "    ax.set_ylabel('Averange ARI')\n",
    "    ax.set_xlabel('Number of clusters ($k$)')\n",
    "    ax.set_xticklabels(ax.get_xticklabels(), rotation=45)\n",
    "#     ax.set_ylim(0.0, 1.0)\n",
    "#     ax.set_xlim(CLUSTERING_OPTIONS['K_MIN'], CLUSTERING_OPTIONS['K_MAX'])\n",
    "    plt.grid(True)\n",
    "    plt.tight_layout()"
   ]
  },
  {
   "cell_type": "code",
   "execution_count": null,
   "metadata": {
    "papermill": {
     "duration": 0.074624,
     "end_time": "2020-12-02T16:52:21.941985",
     "exception": false,
     "start_time": "2020-12-02T16:52:21.867361",
     "status": "completed"
    },
    "tags": []
   },
   "outputs": [],
   "source": []
  }
 ],
 "metadata": {
  "jupytext": {
   "formats": "ipynb,py//py:percent"
  },
  "kernelspec": {
   "display_name": "Python 3",
   "language": "python",
   "name": "python3"
  },
  "language_info": {
   "codemirror_mode": {
    "name": "ipython",
    "version": 3
   },
   "file_extension": ".py",
   "mimetype": "text/x-python",
   "name": "python",
   "nbconvert_exporter": "python",
   "pygments_lexer": "ipython3",
   "version": "3.8.6"
  },
  "papermill": {
   "default_parameters": {},
   "duration": 10589.539588,
   "end_time": "2020-12-02T16:52:22.523660",
   "environment_variables": {},
   "exception": null,
   "input_path": "15_cluster_analysis/004_01-projection_smultixcan_efo-pca-clustering_gmm.ipynb",
   "output_path": "15_cluster_analysis/004_01-projection_smultixcan_efo-pca-clustering_gmm.run.ipynb",
   "parameters": {},
   "start_time": "2020-12-02T13:55:52.984072",
   "version": "2.2.2"
  },
  "toc-autonumbering": true,
  "toc-showcode": false,
  "toc-showmarkdowntxt": false,
  "toc-showtags": false
 },
 "nbformat": 4,
 "nbformat_minor": 4
}
