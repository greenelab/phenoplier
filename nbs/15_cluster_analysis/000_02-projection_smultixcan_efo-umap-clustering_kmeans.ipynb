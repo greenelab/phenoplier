{
 "cells": [
  {
   "cell_type": "markdown",
   "metadata": {
    "papermill": {
     "duration": 0.056714,
     "end_time": "2020-12-02T18:50:06.623779",
     "exception": false,
     "start_time": "2020-12-02T18:50:06.567065",
     "status": "completed"
    },
    "tags": []
   },
   "source": [
    "# Description"
   ]
  },
  {
   "cell_type": "markdown",
   "metadata": {
    "papermill": {
     "duration": 0.020258,
     "end_time": "2020-12-02T18:50:06.664733",
     "exception": false,
     "start_time": "2020-12-02T18:50:06.644475",
     "status": "completed"
    },
    "tags": []
   },
   "source": [
    "Runs k-means on the umap version of the data."
   ]
  },
  {
   "cell_type": "markdown",
   "metadata": {
    "papermill": {
     "duration": 0.019621,
     "end_time": "2020-12-02T18:50:06.704498",
     "exception": false,
     "start_time": "2020-12-02T18:50:06.684877",
     "status": "completed"
    },
    "tags": []
   },
   "source": [
    "# Environment variables"
   ]
  },
  {
   "cell_type": "code",
   "execution_count": 1,
   "metadata": {
    "execution": {
     "iopub.execute_input": "2020-12-02T18:50:06.747684Z",
     "iopub.status.busy": "2020-12-02T18:50:06.747297Z",
     "iopub.status.idle": "2020-12-02T18:50:06.757998Z",
     "shell.execute_reply": "2020-12-02T18:50:06.757564Z"
    },
    "papermill": {
     "duration": 0.033616,
     "end_time": "2020-12-02T18:50:06.758120",
     "exception": false,
     "start_time": "2020-12-02T18:50:06.724504",
     "status": "completed"
    },
    "tags": []
   },
   "outputs": [
    {
     "data": {
      "text/plain": [
       "3"
      ]
     },
     "metadata": {},
     "output_type": "display_data"
    }
   ],
   "source": [
    "from IPython.display import display\n",
    "\n",
    "import conf\n",
    "\n",
    "N_JOBS = conf.GENERAL['N_JOBS']\n",
    "display(N_JOBS)"
   ]
  },
  {
   "cell_type": "code",
   "execution_count": 2,
   "metadata": {
    "execution": {
     "iopub.execute_input": "2020-12-02T18:50:06.803977Z",
     "iopub.status.busy": "2020-12-02T18:50:06.803538Z",
     "iopub.status.idle": "2020-12-02T18:50:06.806062Z",
     "shell.execute_reply": "2020-12-02T18:50:06.805682Z"
    },
    "papermill": {
     "duration": 0.02707,
     "end_time": "2020-12-02T18:50:06.806150",
     "exception": false,
     "start_time": "2020-12-02T18:50:06.779080",
     "status": "completed"
    },
    "tags": []
   },
   "outputs": [
    {
     "name": "stdout",
     "output_type": "stream",
     "text": [
      "env: MKL_NUM_THREADS=3\n",
      "env: OPEN_BLAS_NUM_THREADS=3\n",
      "env: NUMEXPR_NUM_THREADS=3\n",
      "env: OMP_NUM_THREADS=3\n"
     ]
    }
   ],
   "source": [
    "%env MKL_NUM_THREADS=$N_JOBS\n",
    "%env OPEN_BLAS_NUM_THREADS=$N_JOBS\n",
    "%env NUMEXPR_NUM_THREADS=$N_JOBS\n",
    "%env OMP_NUM_THREADS=$N_JOBS"
   ]
  },
  {
   "cell_type": "markdown",
   "metadata": {
    "papermill": {
     "duration": 0.020438,
     "end_time": "2020-12-02T18:50:06.847573",
     "exception": false,
     "start_time": "2020-12-02T18:50:06.827135",
     "status": "completed"
    },
    "tags": []
   },
   "source": [
    "# Modules loading"
   ]
  },
  {
   "cell_type": "code",
   "execution_count": 3,
   "metadata": {
    "execution": {
     "iopub.execute_input": "2020-12-02T18:50:06.891168Z",
     "iopub.status.busy": "2020-12-02T18:50:06.890792Z",
     "iopub.status.idle": "2020-12-02T18:50:06.898426Z",
     "shell.execute_reply": "2020-12-02T18:50:06.898052Z"
    },
    "papermill": {
     "duration": 0.030859,
     "end_time": "2020-12-02T18:50:06.898514",
     "exception": false,
     "start_time": "2020-12-02T18:50:06.867655",
     "status": "completed"
    },
    "tags": []
   },
   "outputs": [],
   "source": [
    "%load_ext autoreload\n",
    "%autoreload 2"
   ]
  },
  {
   "cell_type": "code",
   "execution_count": 4,
   "metadata": {
    "execution": {
     "iopub.execute_input": "2020-12-02T18:50:06.942277Z",
     "iopub.status.busy": "2020-12-02T18:50:06.941915Z",
     "iopub.status.idle": "2020-12-02T18:50:08.512984Z",
     "shell.execute_reply": "2020-12-02T18:50:08.513309Z"
    },
    "papermill": {
     "duration": 1.594128,
     "end_time": "2020-12-02T18:50:08.513434",
     "exception": false,
     "start_time": "2020-12-02T18:50:06.919306",
     "status": "completed"
    },
    "tags": []
   },
   "outputs": [],
   "source": [
    "from pathlib import Path\n",
    "\n",
    "import numpy as np\n",
    "import pandas as pd\n",
    "import umap\n",
    "import matplotlib.pyplot as plt\n",
    "import seaborn as sns\n",
    "\n",
    "from utils import generate_result_set_name"
   ]
  },
  {
   "cell_type": "markdown",
   "metadata": {
    "papermill": {
     "duration": 0.020105,
     "end_time": "2020-12-02T18:50:08.555767",
     "exception": false,
     "start_time": "2020-12-02T18:50:08.535662",
     "status": "completed"
    },
    "tags": []
   },
   "source": [
    "# Settings"
   ]
  },
  {
   "cell_type": "code",
   "execution_count": 5,
   "metadata": {
    "execution": {
     "iopub.execute_input": "2020-12-02T18:50:08.598393Z",
     "iopub.status.busy": "2020-12-02T18:50:08.598016Z",
     "iopub.status.idle": "2020-12-02T18:50:08.610000Z",
     "shell.execute_reply": "2020-12-02T18:50:08.609626Z"
    },
    "papermill": {
     "duration": 0.034365,
     "end_time": "2020-12-02T18:50:08.610087",
     "exception": false,
     "start_time": "2020-12-02T18:50:08.575722",
     "status": "completed"
    },
    "tags": []
   },
   "outputs": [],
   "source": [
    "INITIAL_RANDOM_STATE = 20000"
   ]
  },
  {
   "cell_type": "markdown",
   "metadata": {
    "papermill": {
     "duration": 0.020198,
     "end_time": "2020-12-02T18:50:08.650880",
     "exception": false,
     "start_time": "2020-12-02T18:50:08.630682",
     "status": "completed"
    },
    "tags": []
   },
   "source": [
    "## Input data"
   ]
  },
  {
   "cell_type": "code",
   "execution_count": 6,
   "metadata": {
    "execution": {
     "iopub.execute_input": "2020-12-02T18:50:08.693314Z",
     "iopub.status.busy": "2020-12-02T18:50:08.692939Z",
     "iopub.status.idle": "2020-12-02T18:50:08.704843Z",
     "shell.execute_reply": "2020-12-02T18:50:08.704408Z"
    },
    "papermill": {
     "duration": 0.03417,
     "end_time": "2020-12-02T18:50:08.704929",
     "exception": false,
     "start_time": "2020-12-02T18:50:08.670759",
     "status": "completed"
    },
    "tags": []
   },
   "outputs": [],
   "source": [
    "INPUT_SUBSET = 'umap'"
   ]
  },
  {
   "cell_type": "code",
   "execution_count": 7,
   "metadata": {
    "execution": {
     "iopub.execute_input": "2020-12-02T18:50:08.747399Z",
     "iopub.status.busy": "2020-12-02T18:50:08.747038Z",
     "iopub.status.idle": "2020-12-02T18:50:08.758573Z",
     "shell.execute_reply": "2020-12-02T18:50:08.758849Z"
    },
    "papermill": {
     "duration": 0.034018,
     "end_time": "2020-12-02T18:50:08.758956",
     "exception": false,
     "start_time": "2020-12-02T18:50:08.724938",
     "status": "completed"
    },
    "tags": []
   },
   "outputs": [],
   "source": [
    "INPUT_STEM = 'z_score_std-projection-smultixcan-efo_partial-mashr-zscores'"
   ]
  },
  {
   "cell_type": "code",
   "execution_count": 8,
   "metadata": {
    "execution": {
     "iopub.execute_input": "2020-12-02T18:50:08.801916Z",
     "iopub.status.busy": "2020-12-02T18:50:08.801556Z",
     "iopub.status.idle": "2020-12-02T18:50:08.812950Z",
     "shell.execute_reply": "2020-12-02T18:50:08.813236Z"
    },
    "papermill": {
     "duration": 0.033975,
     "end_time": "2020-12-02T18:50:08.813348",
     "exception": false,
     "start_time": "2020-12-02T18:50:08.779373",
     "status": "completed"
    },
    "tags": []
   },
   "outputs": [],
   "source": [
    "DR_OPTIONS = {\n",
    "    'n_components': 50,\n",
    "    'metric': 'euclidean',\n",
    "    'n_neighbors': 15,\n",
    "    'random_state': 0,\n",
    "}"
   ]
  },
  {
   "cell_type": "code",
   "execution_count": 9,
   "metadata": {
    "execution": {
     "iopub.execute_input": "2020-12-02T18:50:08.857650Z",
     "iopub.status.busy": "2020-12-02T18:50:08.857277Z",
     "iopub.status.idle": "2020-12-02T18:50:08.871152Z",
     "shell.execute_reply": "2020-12-02T18:50:08.870799Z"
    },
    "papermill": {
     "duration": 0.036937,
     "end_time": "2020-12-02T18:50:08.871242",
     "exception": false,
     "start_time": "2020-12-02T18:50:08.834305",
     "status": "completed"
    },
    "tags": []
   },
   "outputs": [
    {
     "data": {
      "text/plain": [
       "PosixPath('/home/miltondp/projects/labs/greenelab/phenoplier/base/results/data_transformations/umap/umap-z_score_std-projection-smultixcan-efo_partial-mashr-zscores-metric_euclidean-n_components_50-n_neighbors_15-random_state_0.pkl')"
      ]
     },
     "metadata": {},
     "output_type": "display_data"
    },
    {
     "data": {
      "text/plain": [
       "'umap-z_score_std-projection-smultixcan-efo_partial-mashr-zscores-metric_euclidean-n_components_50-n_neighbors_15-random_state_0'"
      ]
     },
     "metadata": {},
     "output_type": "display_data"
    }
   ],
   "source": [
    "input_filepath = Path(\n",
    "    conf.RESULTS[\"DATA_TRANSFORMATIONS_DIR\"],\n",
    "    INPUT_SUBSET,\n",
    "    generate_result_set_name(\n",
    "        DR_OPTIONS,\n",
    "        prefix=f'{INPUT_SUBSET}-{INPUT_STEM}-',\n",
    "        suffix='.pkl'\n",
    "    )\n",
    ").resolve()\n",
    "display(input_filepath)\n",
    "\n",
    "assert input_filepath.exists(), 'Input file does not exist'\n",
    "\n",
    "input_filepath_stem = input_filepath.stem\n",
    "display(input_filepath_stem)"
   ]
  },
  {
   "cell_type": "markdown",
   "metadata": {
    "papermill": {
     "duration": 0.020712,
     "end_time": "2020-12-02T18:50:08.913277",
     "exception": false,
     "start_time": "2020-12-02T18:50:08.892565",
     "status": "completed"
    },
    "tags": []
   },
   "source": [
    "## Clustering"
   ]
  },
  {
   "cell_type": "code",
   "execution_count": 10,
   "metadata": {
    "execution": {
     "iopub.execute_input": "2020-12-02T18:50:08.957228Z",
     "iopub.status.busy": "2020-12-02T18:50:08.956800Z",
     "iopub.status.idle": "2020-12-02T18:50:08.975955Z",
     "shell.execute_reply": "2020-12-02T18:50:08.975622Z"
    },
    "papermill": {
     "duration": 0.042447,
     "end_time": "2020-12-02T18:50:08.976054",
     "exception": false,
     "start_time": "2020-12-02T18:50:08.933607",
     "status": "completed"
    },
    "tags": []
   },
   "outputs": [],
   "source": [
    "from sklearn.cluster import KMeans"
   ]
  },
  {
   "cell_type": "code",
   "execution_count": 11,
   "metadata": {
    "execution": {
     "iopub.execute_input": "2020-12-02T18:50:09.021776Z",
     "iopub.status.busy": "2020-12-02T18:50:09.021403Z",
     "iopub.status.idle": "2020-12-02T18:50:09.033463Z",
     "shell.execute_reply": "2020-12-02T18:50:09.033080Z"
    },
    "papermill": {
     "duration": 0.035328,
     "end_time": "2020-12-02T18:50:09.033551",
     "exception": false,
     "start_time": "2020-12-02T18:50:08.998223",
     "status": "completed"
    },
    "tags": []
   },
   "outputs": [],
   "source": [
    "CLUSTERING_ATTRIBUTES_TO_SAVE = ['n_clusters']"
   ]
  },
  {
   "cell_type": "code",
   "execution_count": 12,
   "metadata": {
    "execution": {
     "iopub.execute_input": "2020-12-02T18:50:09.078669Z",
     "iopub.status.busy": "2020-12-02T18:50:09.078308Z",
     "iopub.status.idle": "2020-12-02T18:50:09.091178Z",
     "shell.execute_reply": "2020-12-02T18:50:09.090810Z"
    },
    "papermill": {
     "duration": 0.036041,
     "end_time": "2020-12-02T18:50:09.091263",
     "exception": false,
     "start_time": "2020-12-02T18:50:09.055222",
     "status": "completed"
    },
    "tags": []
   },
   "outputs": [
    {
     "data": {
      "text/plain": [
       "{'K_MIN': 2, 'K_MAX': 60, 'N_REPS_PER_K': 5, 'KMEANS_N_INIT': 10}"
      ]
     },
     "metadata": {},
     "output_type": "display_data"
    }
   ],
   "source": [
    "CLUSTERING_OPTIONS = {}\n",
    "\n",
    "CLUSTERING_OPTIONS['K_MIN'] = 2\n",
    "CLUSTERING_OPTIONS['K_MAX'] = 60 # sqrt(3749)\n",
    "CLUSTERING_OPTIONS['N_REPS_PER_K'] = 5\n",
    "CLUSTERING_OPTIONS['KMEANS_N_INIT'] = 10\n",
    "\n",
    "display(CLUSTERING_OPTIONS)"
   ]
  },
  {
   "cell_type": "code",
   "execution_count": 13,
   "metadata": {
    "execution": {
     "iopub.execute_input": "2020-12-02T18:50:09.136909Z",
     "iopub.status.busy": "2020-12-02T18:50:09.136492Z",
     "iopub.status.idle": "2020-12-02T18:50:09.149333Z",
     "shell.execute_reply": "2020-12-02T18:50:09.149009Z"
    },
    "papermill": {
     "duration": 0.036947,
     "end_time": "2020-12-02T18:50:09.149420",
     "exception": false,
     "start_time": "2020-12-02T18:50:09.112473",
     "status": "completed"
    },
    "tags": []
   },
   "outputs": [],
   "source": [
    "CLUSTERERS = {}\n",
    "\n",
    "idx = 0\n",
    "random_state = INITIAL_RANDOM_STATE\n",
    "\n",
    "for k in range(CLUSTERING_OPTIONS['K_MIN'], CLUSTERING_OPTIONS['K_MAX']+1):\n",
    "    for i in range(CLUSTERING_OPTIONS['N_REPS_PER_K']):\n",
    "        clus = KMeans(\n",
    "                n_clusters=k,\n",
    "                n_init=CLUSTERING_OPTIONS['KMEANS_N_INIT'],\n",
    "                random_state=random_state,\n",
    "            )\n",
    "        \n",
    "        method_name = type(clus).__name__\n",
    "        CLUSTERERS[f'{method_name} #{idx}'] = clus\n",
    "        \n",
    "        random_state = random_state + 1\n",
    "        idx = idx + 1"
   ]
  },
  {
   "cell_type": "code",
   "execution_count": 14,
   "metadata": {
    "execution": {
     "iopub.execute_input": "2020-12-02T18:50:09.194429Z",
     "iopub.status.busy": "2020-12-02T18:50:09.194062Z",
     "iopub.status.idle": "2020-12-02T18:50:09.206261Z",
     "shell.execute_reply": "2020-12-02T18:50:09.206551Z"
    },
    "papermill": {
     "duration": 0.035849,
     "end_time": "2020-12-02T18:50:09.206660",
     "exception": false,
     "start_time": "2020-12-02T18:50:09.170811",
     "status": "completed"
    },
    "tags": []
   },
   "outputs": [
    {
     "data": {
      "text/plain": [
       "295"
      ]
     },
     "metadata": {},
     "output_type": "display_data"
    }
   ],
   "source": [
    "display(len(CLUSTERERS))"
   ]
  },
  {
   "cell_type": "code",
   "execution_count": 15,
   "metadata": {
    "execution": {
     "iopub.execute_input": "2020-12-02T18:50:09.251578Z",
     "iopub.status.busy": "2020-12-02T18:50:09.251214Z",
     "iopub.status.idle": "2020-12-02T18:50:09.265525Z",
     "shell.execute_reply": "2020-12-02T18:50:09.265177Z"
    },
    "papermill": {
     "duration": 0.03753,
     "end_time": "2020-12-02T18:50:09.265615",
     "exception": false,
     "start_time": "2020-12-02T18:50:09.228085",
     "status": "completed"
    },
    "tags": []
   },
   "outputs": [
    {
     "data": {
      "text/plain": [
       "('KMeans #0', KMeans(n_clusters=2, random_state=20000))"
      ]
     },
     "metadata": {},
     "output_type": "display_data"
    },
    {
     "data": {
      "text/plain": [
       "('KMeans #1', KMeans(n_clusters=2, random_state=20001))"
      ]
     },
     "metadata": {},
     "output_type": "display_data"
    }
   ],
   "source": [
    "_iter = iter(CLUSTERERS.items())\n",
    "display(next(_iter))\n",
    "display(next(_iter))"
   ]
  },
  {
   "cell_type": "code",
   "execution_count": 16,
   "metadata": {
    "execution": {
     "iopub.execute_input": "2020-12-02T18:50:09.312616Z",
     "iopub.status.busy": "2020-12-02T18:50:09.312258Z",
     "iopub.status.idle": "2020-12-02T18:50:09.324872Z",
     "shell.execute_reply": "2020-12-02T18:50:09.324447Z"
    },
    "papermill": {
     "duration": 0.036575,
     "end_time": "2020-12-02T18:50:09.324955",
     "exception": false,
     "start_time": "2020-12-02T18:50:09.288380",
     "status": "completed"
    },
    "tags": []
   },
   "outputs": [
    {
     "data": {
      "text/plain": [
       "'KMeans'"
      ]
     },
     "metadata": {},
     "output_type": "display_data"
    }
   ],
   "source": [
    "clustering_method_name = method_name\n",
    "display(clustering_method_name)"
   ]
  },
  {
   "cell_type": "markdown",
   "metadata": {
    "papermill": {
     "duration": 0.02212,
     "end_time": "2020-12-02T18:50:09.368851",
     "exception": false,
     "start_time": "2020-12-02T18:50:09.346731",
     "status": "completed"
    },
    "tags": []
   },
   "source": [
    "## Output directory"
   ]
  },
  {
   "cell_type": "code",
   "execution_count": 17,
   "metadata": {
    "execution": {
     "iopub.execute_input": "2020-12-02T18:50:09.415179Z",
     "iopub.status.busy": "2020-12-02T18:50:09.414813Z",
     "iopub.status.idle": "2020-12-02T18:50:09.428699Z",
     "shell.execute_reply": "2020-12-02T18:50:09.428297Z"
    },
    "papermill": {
     "duration": 0.038234,
     "end_time": "2020-12-02T18:50:09.428792",
     "exception": false,
     "start_time": "2020-12-02T18:50:09.390558",
     "status": "completed"
    },
    "tags": []
   },
   "outputs": [
    {
     "data": {
      "text/plain": [
       "PosixPath('/home/miltondp/projects/labs/greenelab/phenoplier/base/results/clustering/runs/umap-z_score_std-projection-smultixcan-efo_partial-mashr-zscores')"
      ]
     },
     "metadata": {},
     "output_type": "display_data"
    }
   ],
   "source": [
    "# output dir for this notebook\n",
    "RESULTS_DIR = Path(\n",
    "    conf.RESULTS[\"CLUSTERING_RUNS_DIR\"],\n",
    "    f'{INPUT_SUBSET}-{INPUT_STEM}',\n",
    ").resolve()\n",
    "RESULTS_DIR.mkdir(parents=True, exist_ok=True)\n",
    "\n",
    "display(RESULTS_DIR)"
   ]
  },
  {
   "cell_type": "markdown",
   "metadata": {
    "papermill": {
     "duration": 0.021784,
     "end_time": "2020-12-02T18:50:09.474069",
     "exception": false,
     "start_time": "2020-12-02T18:50:09.452285",
     "status": "completed"
    },
    "tags": []
   },
   "source": [
    "# Load input file"
   ]
  },
  {
   "cell_type": "code",
   "execution_count": 18,
   "metadata": {
    "execution": {
     "iopub.execute_input": "2020-12-02T18:50:09.520367Z",
     "iopub.status.busy": "2020-12-02T18:50:09.520005Z",
     "iopub.status.idle": "2020-12-02T18:50:09.533337Z",
     "shell.execute_reply": "2020-12-02T18:50:09.533008Z"
    },
    "papermill": {
     "duration": 0.037442,
     "end_time": "2020-12-02T18:50:09.533424",
     "exception": false,
     "start_time": "2020-12-02T18:50:09.495982",
     "status": "completed"
    },
    "tags": []
   },
   "outputs": [],
   "source": [
    "data = pd.read_pickle(input_filepath)"
   ]
  },
  {
   "cell_type": "code",
   "execution_count": 19,
   "metadata": {
    "execution": {
     "iopub.execute_input": "2020-12-02T18:50:09.579882Z",
     "iopub.status.busy": "2020-12-02T18:50:09.579523Z",
     "iopub.status.idle": "2020-12-02T18:50:09.592168Z",
     "shell.execute_reply": "2020-12-02T18:50:09.591790Z"
    },
    "papermill": {
     "duration": 0.036423,
     "end_time": "2020-12-02T18:50:09.592256",
     "exception": false,
     "start_time": "2020-12-02T18:50:09.555833",
     "status": "completed"
    },
    "tags": []
   },
   "outputs": [
    {
     "data": {
      "text/plain": [
       "(3749, 50)"
      ]
     },
     "execution_count": 19,
     "metadata": {},
     "output_type": "execute_result"
    }
   ],
   "source": [
    "data.shape"
   ]
  },
  {
   "cell_type": "code",
   "execution_count": 20,
   "metadata": {
    "execution": {
     "iopub.execute_input": "2020-12-02T18:50:09.639330Z",
     "iopub.status.busy": "2020-12-02T18:50:09.638961Z",
     "iopub.status.idle": "2020-12-02T18:50:09.664187Z",
     "shell.execute_reply": "2020-12-02T18:50:09.663845Z"
    },
    "papermill": {
     "duration": 0.04946,
     "end_time": "2020-12-02T18:50:09.664275",
     "exception": false,
     "start_time": "2020-12-02T18:50:09.614815",
     "status": "completed"
    },
    "tags": []
   },
   "outputs": [
    {
     "data": {
      "text/html": [
       "<div>\n",
       "<style scoped>\n",
       "    .dataframe tbody tr th:only-of-type {\n",
       "        vertical-align: middle;\n",
       "    }\n",
       "\n",
       "    .dataframe tbody tr th {\n",
       "        vertical-align: top;\n",
       "    }\n",
       "\n",
       "    .dataframe thead th {\n",
       "        text-align: right;\n",
       "    }\n",
       "</style>\n",
       "<table border=\"1\" class=\"dataframe\">\n",
       "  <thead>\n",
       "    <tr style=\"text-align: right;\">\n",
       "      <th></th>\n",
       "      <th>UMAP1</th>\n",
       "      <th>UMAP2</th>\n",
       "      <th>UMAP3</th>\n",
       "      <th>UMAP4</th>\n",
       "      <th>UMAP5</th>\n",
       "      <th>UMAP6</th>\n",
       "      <th>UMAP7</th>\n",
       "      <th>UMAP8</th>\n",
       "      <th>UMAP9</th>\n",
       "      <th>UMAP10</th>\n",
       "      <th>...</th>\n",
       "      <th>UMAP41</th>\n",
       "      <th>UMAP42</th>\n",
       "      <th>UMAP43</th>\n",
       "      <th>UMAP44</th>\n",
       "      <th>UMAP45</th>\n",
       "      <th>UMAP46</th>\n",
       "      <th>UMAP47</th>\n",
       "      <th>UMAP48</th>\n",
       "      <th>UMAP49</th>\n",
       "      <th>UMAP50</th>\n",
       "    </tr>\n",
       "  </thead>\n",
       "  <tbody>\n",
       "    <tr>\n",
       "      <th>100001_raw-Food_weight</th>\n",
       "      <td>11.531590</td>\n",
       "      <td>10.773390</td>\n",
       "      <td>10.551500</td>\n",
       "      <td>5.689103</td>\n",
       "      <td>12.646474</td>\n",
       "      <td>8.795625</td>\n",
       "      <td>2.365859</td>\n",
       "      <td>-3.382425</td>\n",
       "      <td>1.458605</td>\n",
       "      <td>14.236823</td>\n",
       "      <td>...</td>\n",
       "      <td>2.214731</td>\n",
       "      <td>9.304909</td>\n",
       "      <td>3.359118</td>\n",
       "      <td>5.211676</td>\n",
       "      <td>1.265622</td>\n",
       "      <td>2.058685</td>\n",
       "      <td>1.291174</td>\n",
       "      <td>1.565621</td>\n",
       "      <td>7.317275</td>\n",
       "      <td>9.037535</td>\n",
       "    </tr>\n",
       "    <tr>\n",
       "      <th>100002_raw-Energy</th>\n",
       "      <td>11.554761</td>\n",
       "      <td>10.753816</td>\n",
       "      <td>10.548004</td>\n",
       "      <td>5.710800</td>\n",
       "      <td>12.674987</td>\n",
       "      <td>8.787647</td>\n",
       "      <td>2.379787</td>\n",
       "      <td>-3.339913</td>\n",
       "      <td>1.442655</td>\n",
       "      <td>14.196218</td>\n",
       "      <td>...</td>\n",
       "      <td>2.237087</td>\n",
       "      <td>9.270699</td>\n",
       "      <td>3.383440</td>\n",
       "      <td>5.185328</td>\n",
       "      <td>1.257113</td>\n",
       "      <td>2.057439</td>\n",
       "      <td>1.290686</td>\n",
       "      <td>1.557209</td>\n",
       "      <td>7.297037</td>\n",
       "      <td>9.009866</td>\n",
       "    </tr>\n",
       "    <tr>\n",
       "      <th>100003_raw-Protein</th>\n",
       "      <td>11.519615</td>\n",
       "      <td>10.786408</td>\n",
       "      <td>10.540249</td>\n",
       "      <td>5.687959</td>\n",
       "      <td>12.628188</td>\n",
       "      <td>8.789925</td>\n",
       "      <td>2.368370</td>\n",
       "      <td>-3.390937</td>\n",
       "      <td>1.464806</td>\n",
       "      <td>14.233623</td>\n",
       "      <td>...</td>\n",
       "      <td>2.216162</td>\n",
       "      <td>9.314158</td>\n",
       "      <td>3.350708</td>\n",
       "      <td>5.226166</td>\n",
       "      <td>1.267382</td>\n",
       "      <td>2.051692</td>\n",
       "      <td>1.305047</td>\n",
       "      <td>1.558942</td>\n",
       "      <td>7.307035</td>\n",
       "      <td>9.042575</td>\n",
       "    </tr>\n",
       "    <tr>\n",
       "      <th>100004_raw-Fat</th>\n",
       "      <td>11.515584</td>\n",
       "      <td>10.756584</td>\n",
       "      <td>10.570711</td>\n",
       "      <td>5.697041</td>\n",
       "      <td>12.661936</td>\n",
       "      <td>8.787330</td>\n",
       "      <td>2.396913</td>\n",
       "      <td>-3.351611</td>\n",
       "      <td>1.435632</td>\n",
       "      <td>14.221588</td>\n",
       "      <td>...</td>\n",
       "      <td>2.214707</td>\n",
       "      <td>9.273252</td>\n",
       "      <td>3.383349</td>\n",
       "      <td>5.220068</td>\n",
       "      <td>1.270067</td>\n",
       "      <td>2.065669</td>\n",
       "      <td>1.281447</td>\n",
       "      <td>1.578588</td>\n",
       "      <td>7.332527</td>\n",
       "      <td>9.005523</td>\n",
       "    </tr>\n",
       "    <tr>\n",
       "      <th>100005_raw-Carbohydrate</th>\n",
       "      <td>11.528723</td>\n",
       "      <td>10.762026</td>\n",
       "      <td>10.566773</td>\n",
       "      <td>5.698555</td>\n",
       "      <td>12.671127</td>\n",
       "      <td>8.791903</td>\n",
       "      <td>2.394764</td>\n",
       "      <td>-3.354370</td>\n",
       "      <td>1.442259</td>\n",
       "      <td>14.226301</td>\n",
       "      <td>...</td>\n",
       "      <td>2.216362</td>\n",
       "      <td>9.275563</td>\n",
       "      <td>3.383139</td>\n",
       "      <td>5.216354</td>\n",
       "      <td>1.269187</td>\n",
       "      <td>2.063429</td>\n",
       "      <td>1.280020</td>\n",
       "      <td>1.577227</td>\n",
       "      <td>7.335059</td>\n",
       "      <td>9.009464</td>\n",
       "    </tr>\n",
       "  </tbody>\n",
       "</table>\n",
       "<p>5 rows × 50 columns</p>\n",
       "</div>"
      ],
      "text/plain": [
       "                             UMAP1      UMAP2      UMAP3     UMAP4      UMAP5  \\\n",
       "100001_raw-Food_weight   11.531590  10.773390  10.551500  5.689103  12.646474   \n",
       "100002_raw-Energy        11.554761  10.753816  10.548004  5.710800  12.674987   \n",
       "100003_raw-Protein       11.519615  10.786408  10.540249  5.687959  12.628188   \n",
       "100004_raw-Fat           11.515584  10.756584  10.570711  5.697041  12.661936   \n",
       "100005_raw-Carbohydrate  11.528723  10.762026  10.566773  5.698555  12.671127   \n",
       "\n",
       "                            UMAP6     UMAP7     UMAP8     UMAP9     UMAP10  \\\n",
       "100001_raw-Food_weight   8.795625  2.365859 -3.382425  1.458605  14.236823   \n",
       "100002_raw-Energy        8.787647  2.379787 -3.339913  1.442655  14.196218   \n",
       "100003_raw-Protein       8.789925  2.368370 -3.390937  1.464806  14.233623   \n",
       "100004_raw-Fat           8.787330  2.396913 -3.351611  1.435632  14.221588   \n",
       "100005_raw-Carbohydrate  8.791903  2.394764 -3.354370  1.442259  14.226301   \n",
       "\n",
       "                         ...    UMAP41    UMAP42    UMAP43    UMAP44  \\\n",
       "100001_raw-Food_weight   ...  2.214731  9.304909  3.359118  5.211676   \n",
       "100002_raw-Energy        ...  2.237087  9.270699  3.383440  5.185328   \n",
       "100003_raw-Protein       ...  2.216162  9.314158  3.350708  5.226166   \n",
       "100004_raw-Fat           ...  2.214707  9.273252  3.383349  5.220068   \n",
       "100005_raw-Carbohydrate  ...  2.216362  9.275563  3.383139  5.216354   \n",
       "\n",
       "                           UMAP45    UMAP46    UMAP47    UMAP48    UMAP49  \\\n",
       "100001_raw-Food_weight   1.265622  2.058685  1.291174  1.565621  7.317275   \n",
       "100002_raw-Energy        1.257113  2.057439  1.290686  1.557209  7.297037   \n",
       "100003_raw-Protein       1.267382  2.051692  1.305047  1.558942  7.307035   \n",
       "100004_raw-Fat           1.270067  2.065669  1.281447  1.578588  7.332527   \n",
       "100005_raw-Carbohydrate  1.269187  2.063429  1.280020  1.577227  7.335059   \n",
       "\n",
       "                           UMAP50  \n",
       "100001_raw-Food_weight   9.037535  \n",
       "100002_raw-Energy        9.009866  \n",
       "100003_raw-Protein       9.042575  \n",
       "100004_raw-Fat           9.005523  \n",
       "100005_raw-Carbohydrate  9.009464  \n",
       "\n",
       "[5 rows x 50 columns]"
      ]
     },
     "execution_count": 20,
     "metadata": {},
     "output_type": "execute_result"
    }
   ],
   "source": [
    "data.head()"
   ]
  },
  {
   "cell_type": "code",
   "execution_count": 21,
   "metadata": {
    "execution": {
     "iopub.execute_input": "2020-12-02T18:50:09.711927Z",
     "iopub.status.busy": "2020-12-02T18:50:09.711568Z",
     "iopub.status.idle": "2020-12-02T18:50:09.724045Z",
     "shell.execute_reply": "2020-12-02T18:50:09.723652Z"
    },
    "papermill": {
     "duration": 0.037074,
     "end_time": "2020-12-02T18:50:09.724134",
     "exception": false,
     "start_time": "2020-12-02T18:50:09.687060",
     "status": "completed"
    },
    "tags": []
   },
   "outputs": [],
   "source": [
    "assert not data.isna().any().any()"
   ]
  },
  {
   "cell_type": "markdown",
   "metadata": {
    "papermill": {
     "duration": 0.022234,
     "end_time": "2020-12-02T18:50:09.768856",
     "exception": false,
     "start_time": "2020-12-02T18:50:09.746622",
     "status": "completed"
    },
    "tags": []
   },
   "source": [
    "# Clustering"
   ]
  },
  {
   "cell_type": "markdown",
   "metadata": {
    "papermill": {
     "duration": 0.021974,
     "end_time": "2020-12-02T18:50:09.812884",
     "exception": false,
     "start_time": "2020-12-02T18:50:09.790910",
     "status": "completed"
    },
    "tags": []
   },
   "source": [
    "## Generate ensemble"
   ]
  },
  {
   "cell_type": "code",
   "execution_count": 22,
   "metadata": {
    "execution": {
     "iopub.execute_input": "2020-12-02T18:50:09.859943Z",
     "iopub.status.busy": "2020-12-02T18:50:09.859567Z",
     "iopub.status.idle": "2020-12-02T18:50:09.874464Z",
     "shell.execute_reply": "2020-12-02T18:50:09.874796Z"
    },
    "papermill": {
     "duration": 0.040006,
     "end_time": "2020-12-02T18:50:09.874911",
     "exception": false,
     "start_time": "2020-12-02T18:50:09.834905",
     "status": "completed"
    },
    "tags": []
   },
   "outputs": [],
   "source": [
    "from clustering.ensemble import generate_ensemble"
   ]
  },
  {
   "cell_type": "code",
   "execution_count": 23,
   "metadata": {
    "execution": {
     "iopub.execute_input": "2020-12-02T18:50:09.924619Z",
     "iopub.status.busy": "2020-12-02T18:50:09.924255Z",
     "iopub.status.idle": "2020-12-02T18:56:22.009257Z",
     "shell.execute_reply": "2020-12-02T18:56:22.008446Z"
    },
    "papermill": {
     "duration": 372.109662,
     "end_time": "2020-12-02T18:56:22.009342",
     "exception": false,
     "start_time": "2020-12-02T18:50:09.899680",
     "status": "completed"
    },
    "tags": []
   },
   "outputs": [
    {
     "name": "stderr",
     "output_type": "stream",
     "text": [
      "100%|██████████| 295/295 [06:12<00:00,  1.26s/it]\n"
     ]
    }
   ],
   "source": [
    "ensemble = generate_ensemble(\n",
    "    data,\n",
    "    CLUSTERERS,\n",
    "    attributes=CLUSTERING_ATTRIBUTES_TO_SAVE,\n",
    ")"
   ]
  },
  {
   "cell_type": "code",
   "execution_count": 24,
   "metadata": {
    "execution": {
     "iopub.execute_input": "2020-12-02T18:56:22.146547Z",
     "iopub.status.busy": "2020-12-02T18:56:22.146186Z",
     "iopub.status.idle": "2020-12-02T18:56:22.158973Z",
     "shell.execute_reply": "2020-12-02T18:56:22.158601Z"
    },
    "papermill": {
     "duration": 0.081664,
     "end_time": "2020-12-02T18:56:22.159058",
     "exception": false,
     "start_time": "2020-12-02T18:56:22.077394",
     "status": "completed"
    },
    "tags": []
   },
   "outputs": [
    {
     "data": {
      "text/plain": [
       "(295, 3)"
      ]
     },
     "execution_count": 24,
     "metadata": {},
     "output_type": "execute_result"
    }
   ],
   "source": [
    "# the number should be close to 295 (the number of partitions generated by k-means/spectral clustering)\n",
    "ensemble.shape"
   ]
  },
  {
   "cell_type": "code",
   "execution_count": 25,
   "metadata": {
    "execution": {
     "iopub.execute_input": "2020-12-02T18:56:22.297202Z",
     "iopub.status.busy": "2020-12-02T18:56:22.296827Z",
     "iopub.status.idle": "2020-12-02T18:56:22.317233Z",
     "shell.execute_reply": "2020-12-02T18:56:22.316843Z"
    },
    "papermill": {
     "duration": 0.089733,
     "end_time": "2020-12-02T18:56:22.317322",
     "exception": false,
     "start_time": "2020-12-02T18:56:22.227589",
     "status": "completed"
    },
    "tags": []
   },
   "outputs": [
    {
     "data": {
      "text/html": [
       "<div>\n",
       "<style scoped>\n",
       "    .dataframe tbody tr th:only-of-type {\n",
       "        vertical-align: middle;\n",
       "    }\n",
       "\n",
       "    .dataframe tbody tr th {\n",
       "        vertical-align: top;\n",
       "    }\n",
       "\n",
       "    .dataframe thead th {\n",
       "        text-align: right;\n",
       "    }\n",
       "</style>\n",
       "<table border=\"1\" class=\"dataframe\">\n",
       "  <thead>\n",
       "    <tr style=\"text-align: right;\">\n",
       "      <th></th>\n",
       "      <th>clusterer_params</th>\n",
       "      <th>partition</th>\n",
       "      <th>n_clusters</th>\n",
       "    </tr>\n",
       "    <tr>\n",
       "      <th>clusterer_id</th>\n",
       "      <th></th>\n",
       "      <th></th>\n",
       "      <th></th>\n",
       "    </tr>\n",
       "  </thead>\n",
       "  <tbody>\n",
       "    <tr>\n",
       "      <th>KMeans #0</th>\n",
       "      <td>{'algorithm': 'auto', 'copy_x': True, 'init': ...</td>\n",
       "      <td>[0.0, 0.0, 0.0, 0.0, 0.0, 0.0, 0.0, 0.0, 0.0, ...</td>\n",
       "      <td>2</td>\n",
       "    </tr>\n",
       "    <tr>\n",
       "      <th>KMeans #1</th>\n",
       "      <td>{'algorithm': 'auto', 'copy_x': True, 'init': ...</td>\n",
       "      <td>[0.0, 0.0, 0.0, 0.0, 0.0, 0.0, 0.0, 0.0, 0.0, ...</td>\n",
       "      <td>2</td>\n",
       "    </tr>\n",
       "    <tr>\n",
       "      <th>KMeans #2</th>\n",
       "      <td>{'algorithm': 'auto', 'copy_x': True, 'init': ...</td>\n",
       "      <td>[0.0, 0.0, 0.0, 0.0, 0.0, 0.0, 0.0, 0.0, 0.0, ...</td>\n",
       "      <td>2</td>\n",
       "    </tr>\n",
       "    <tr>\n",
       "      <th>KMeans #3</th>\n",
       "      <td>{'algorithm': 'auto', 'copy_x': True, 'init': ...</td>\n",
       "      <td>[0.0, 0.0, 0.0, 0.0, 0.0, 0.0, 0.0, 0.0, 0.0, ...</td>\n",
       "      <td>2</td>\n",
       "    </tr>\n",
       "    <tr>\n",
       "      <th>KMeans #4</th>\n",
       "      <td>{'algorithm': 'auto', 'copy_x': True, 'init': ...</td>\n",
       "      <td>[0.0, 0.0, 0.0, 0.0, 0.0, 0.0, 0.0, 0.0, 0.0, ...</td>\n",
       "      <td>2</td>\n",
       "    </tr>\n",
       "  </tbody>\n",
       "</table>\n",
       "</div>"
      ],
      "text/plain": [
       "                                               clusterer_params  \\\n",
       "clusterer_id                                                      \n",
       "KMeans #0     {'algorithm': 'auto', 'copy_x': True, 'init': ...   \n",
       "KMeans #1     {'algorithm': 'auto', 'copy_x': True, 'init': ...   \n",
       "KMeans #2     {'algorithm': 'auto', 'copy_x': True, 'init': ...   \n",
       "KMeans #3     {'algorithm': 'auto', 'copy_x': True, 'init': ...   \n",
       "KMeans #4     {'algorithm': 'auto', 'copy_x': True, 'init': ...   \n",
       "\n",
       "                                                      partition  n_clusters  \n",
       "clusterer_id                                                                 \n",
       "KMeans #0     [0.0, 0.0, 0.0, 0.0, 0.0, 0.0, 0.0, 0.0, 0.0, ...           2  \n",
       "KMeans #1     [0.0, 0.0, 0.0, 0.0, 0.0, 0.0, 0.0, 0.0, 0.0, ...           2  \n",
       "KMeans #2     [0.0, 0.0, 0.0, 0.0, 0.0, 0.0, 0.0, 0.0, 0.0, ...           2  \n",
       "KMeans #3     [0.0, 0.0, 0.0, 0.0, 0.0, 0.0, 0.0, 0.0, 0.0, ...           2  \n",
       "KMeans #4     [0.0, 0.0, 0.0, 0.0, 0.0, 0.0, 0.0, 0.0, 0.0, ...           2  "
      ]
     },
     "execution_count": 25,
     "metadata": {},
     "output_type": "execute_result"
    }
   ],
   "source": [
    "ensemble.head()"
   ]
  },
  {
   "cell_type": "code",
   "execution_count": 26,
   "metadata": {
    "execution": {
     "iopub.execute_input": "2020-12-02T18:56:22.457039Z",
     "iopub.status.busy": "2020-12-02T18:56:22.456606Z",
     "iopub.status.idle": "2020-12-02T18:56:22.471215Z",
     "shell.execute_reply": "2020-12-02T18:56:22.471537Z"
    },
    "papermill": {
     "duration": 0.085079,
     "end_time": "2020-12-02T18:56:22.471654",
     "exception": false,
     "start_time": "2020-12-02T18:56:22.386575",
     "status": "completed"
    },
    "tags": []
   },
   "outputs": [
    {
     "data": {
      "text/plain": [
       "60    5\n",
       "16    5\n",
       "28    5\n",
       "27    5\n",
       "26    5\n",
       "Name: n_clusters, dtype: int64"
      ]
     },
     "execution_count": 26,
     "metadata": {},
     "output_type": "execute_result"
    }
   ],
   "source": [
    "ensemble['n_clusters'].value_counts().head()"
   ]
  },
  {
   "cell_type": "code",
   "execution_count": 27,
   "metadata": {
    "execution": {
     "iopub.execute_input": "2020-12-02T18:56:22.611921Z",
     "iopub.status.busy": "2020-12-02T18:56:22.611557Z",
     "iopub.status.idle": "2020-12-02T18:56:22.626500Z",
     "shell.execute_reply": "2020-12-02T18:56:22.626125Z"
    },
    "papermill": {
     "duration": 0.084878,
     "end_time": "2020-12-02T18:56:22.626588",
     "exception": false,
     "start_time": "2020-12-02T18:56:22.541710",
     "status": "completed"
    },
    "tags": []
   },
   "outputs": [
    {
     "data": {
      "text/plain": [
       "count    295.000000\n",
       "mean      31.000000\n",
       "std       17.058323\n",
       "min        2.000000\n",
       "25%       16.000000\n",
       "50%       31.000000\n",
       "75%       46.000000\n",
       "max       60.000000\n",
       "Name: n_clusters, dtype: float64"
      ]
     },
     "metadata": {},
     "output_type": "display_data"
    }
   ],
   "source": [
    "ensemble_stats = ensemble['n_clusters'].describe()\n",
    "display(ensemble_stats)"
   ]
  },
  {
   "cell_type": "markdown",
   "metadata": {
    "papermill": {
     "duration": 0.067602,
     "end_time": "2020-12-02T18:56:22.762736",
     "exception": false,
     "start_time": "2020-12-02T18:56:22.695134",
     "status": "completed"
    },
    "tags": []
   },
   "source": [
    "## Testing"
   ]
  },
  {
   "cell_type": "code",
   "execution_count": 28,
   "metadata": {
    "execution": {
     "iopub.execute_input": "2020-12-02T18:56:22.901365Z",
     "iopub.status.busy": "2020-12-02T18:56:22.900995Z",
     "iopub.status.idle": "2020-12-02T18:56:22.913511Z",
     "shell.execute_reply": "2020-12-02T18:56:22.913127Z"
    },
    "papermill": {
     "duration": 0.082741,
     "end_time": "2020-12-02T18:56:22.913598",
     "exception": false,
     "start_time": "2020-12-02T18:56:22.830857",
     "status": "completed"
    },
    "tags": []
   },
   "outputs": [],
   "source": [
    "assert ensemble_stats['min'] > 1"
   ]
  },
  {
   "cell_type": "code",
   "execution_count": 29,
   "metadata": {
    "execution": {
     "iopub.execute_input": "2020-12-02T18:56:23.053394Z",
     "iopub.status.busy": "2020-12-02T18:56:23.053029Z",
     "iopub.status.idle": "2020-12-02T18:56:23.064770Z",
     "shell.execute_reply": "2020-12-02T18:56:23.065107Z"
    },
    "papermill": {
     "duration": 0.082681,
     "end_time": "2020-12-02T18:56:23.065213",
     "exception": false,
     "start_time": "2020-12-02T18:56:22.982532",
     "status": "completed"
    },
    "tags": []
   },
   "outputs": [],
   "source": [
    "assert not ensemble['n_clusters'].isna().any()"
   ]
  },
  {
   "cell_type": "code",
   "execution_count": 30,
   "metadata": {
    "execution": {
     "iopub.execute_input": "2020-12-02T18:56:23.206104Z",
     "iopub.status.busy": "2020-12-02T18:56:23.205717Z",
     "iopub.status.idle": "2020-12-02T18:56:23.218041Z",
     "shell.execute_reply": "2020-12-02T18:56:23.217666Z"
    },
    "papermill": {
     "duration": 0.08285,
     "end_time": "2020-12-02T18:56:23.218128",
     "exception": false,
     "start_time": "2020-12-02T18:56:23.135278",
     "status": "completed"
    },
    "tags": []
   },
   "outputs": [],
   "source": [
    "assert ensemble.shape[0] == len(CLUSTERERS)"
   ]
  },
  {
   "cell_type": "code",
   "execution_count": 31,
   "metadata": {
    "execution": {
     "iopub.execute_input": "2020-12-02T18:56:23.358300Z",
     "iopub.status.busy": "2020-12-02T18:56:23.357934Z",
     "iopub.status.idle": "2020-12-02T18:56:23.387717Z",
     "shell.execute_reply": "2020-12-02T18:56:23.387341Z"
    },
    "papermill": {
     "duration": 0.10096,
     "end_time": "2020-12-02T18:56:23.387804",
     "exception": false,
     "start_time": "2020-12-02T18:56:23.286844",
     "status": "completed"
    },
    "tags": []
   },
   "outputs": [],
   "source": [
    "# all partitions have the right size\n",
    "assert np.all([\n",
    "    part['partition'].shape[0] == data.shape[0]\n",
    "    for idx, part in ensemble.iterrows()\n",
    "])"
   ]
  },
  {
   "cell_type": "code",
   "execution_count": 32,
   "metadata": {
    "execution": {
     "iopub.execute_input": "2020-12-02T18:56:23.531155Z",
     "iopub.status.busy": "2020-12-02T18:56:23.530789Z",
     "iopub.status.idle": "2020-12-02T18:56:23.564016Z",
     "shell.execute_reply": "2020-12-02T18:56:23.563626Z"
    },
    "papermill": {
     "duration": 0.107181,
     "end_time": "2020-12-02T18:56:23.564106",
     "exception": false,
     "start_time": "2020-12-02T18:56:23.456925",
     "status": "completed"
    },
    "tags": []
   },
   "outputs": [],
   "source": [
    "# no partition has negative clusters (noisy points)\n",
    "assert not np.any([\n",
    "    (part['partition'] < 0).any()\n",
    "    for idx, part in ensemble.iterrows()\n",
    "])"
   ]
  },
  {
   "cell_type": "markdown",
   "metadata": {
    "papermill": {
     "duration": 0.06929,
     "end_time": "2020-12-02T18:56:23.703396",
     "exception": false,
     "start_time": "2020-12-02T18:56:23.634106",
     "status": "completed"
    },
    "tags": []
   },
   "source": [
    "## Save"
   ]
  },
  {
   "cell_type": "code",
   "execution_count": 33,
   "metadata": {
    "execution": {
     "iopub.execute_input": "2020-12-02T18:56:23.843321Z",
     "iopub.status.busy": "2020-12-02T18:56:23.842926Z",
     "iopub.status.idle": "2020-12-02T18:56:23.856041Z",
     "shell.execute_reply": "2020-12-02T18:56:23.855673Z"
    },
    "papermill": {
     "duration": 0.084516,
     "end_time": "2020-12-02T18:56:23.856127",
     "exception": false,
     "start_time": "2020-12-02T18:56:23.771611",
     "status": "completed"
    },
    "tags": []
   },
   "outputs": [
    {
     "data": {
      "text/plain": [
       "PosixPath('/home/miltondp/projects/labs/greenelab/phenoplier/base/results/clustering/runs/umap-z_score_std-projection-smultixcan-efo_partial-mashr-zscores/KMeans-KMEANS_N_INIT_10-K_MAX_60-K_MIN_2-N_REPS_PER_K_5.pkl')"
      ]
     },
     "metadata": {},
     "output_type": "display_data"
    }
   ],
   "source": [
    "output_filename = Path(\n",
    "    RESULTS_DIR,\n",
    "    generate_result_set_name(\n",
    "        CLUSTERING_OPTIONS,\n",
    "        prefix=f'{clustering_method_name}-',\n",
    "        suffix='.pkl',\n",
    "    )\n",
    ").resolve()\n",
    "display(output_filename)"
   ]
  },
  {
   "cell_type": "code",
   "execution_count": 34,
   "metadata": {
    "execution": {
     "iopub.execute_input": "2020-12-02T18:56:23.997179Z",
     "iopub.status.busy": "2020-12-02T18:56:23.996817Z",
     "iopub.status.idle": "2020-12-02T18:56:24.020801Z",
     "shell.execute_reply": "2020-12-02T18:56:24.020390Z"
    },
    "papermill": {
     "duration": 0.094654,
     "end_time": "2020-12-02T18:56:24.020908",
     "exception": false,
     "start_time": "2020-12-02T18:56:23.926254",
     "status": "completed"
    },
    "tags": []
   },
   "outputs": [],
   "source": [
    "ensemble.to_pickle(output_filename)"
   ]
  },
  {
   "cell_type": "markdown",
   "metadata": {
    "papermill": {
     "duration": 0.06903,
     "end_time": "2020-12-02T18:56:24.160863",
     "exception": false,
     "start_time": "2020-12-02T18:56:24.091833",
     "status": "completed"
    },
    "tags": []
   },
   "source": [
    "# Stability"
   ]
  },
  {
   "cell_type": "markdown",
   "metadata": {
    "papermill": {
     "duration": 0.068939,
     "end_time": "2020-12-02T18:56:24.299714",
     "exception": false,
     "start_time": "2020-12-02T18:56:24.230775",
     "status": "completed"
    },
    "tags": []
   },
   "source": [
    "## Group ensemble by n_clusters"
   ]
  },
  {
   "cell_type": "code",
   "execution_count": 35,
   "metadata": {
    "execution": {
     "iopub.execute_input": "2020-12-02T18:56:24.441032Z",
     "iopub.status.busy": "2020-12-02T18:56:24.440613Z",
     "iopub.status.idle": "2020-12-02T18:56:24.469017Z",
     "shell.execute_reply": "2020-12-02T18:56:24.468605Z"
    },
    "papermill": {
     "duration": 0.099924,
     "end_time": "2020-12-02T18:56:24.469107",
     "exception": false,
     "start_time": "2020-12-02T18:56:24.369183",
     "status": "completed"
    },
    "tags": []
   },
   "outputs": [],
   "source": [
    "parts = ensemble.groupby('n_clusters').apply(lambda x: np.concatenate(x['partition'].apply(lambda x: x.reshape(1, -1)), axis=0))"
   ]
  },
  {
   "cell_type": "code",
   "execution_count": 36,
   "metadata": {
    "execution": {
     "iopub.execute_input": "2020-12-02T18:56:24.612728Z",
     "iopub.status.busy": "2020-12-02T18:56:24.612327Z",
     "iopub.status.idle": "2020-12-02T18:56:24.636529Z",
     "shell.execute_reply": "2020-12-02T18:56:24.636831Z"
    },
    "papermill": {
     "duration": 0.095843,
     "end_time": "2020-12-02T18:56:24.636935",
     "exception": false,
     "start_time": "2020-12-02T18:56:24.541092",
     "status": "completed"
    },
    "tags": []
   },
   "outputs": [
    {
     "data": {
      "text/plain": [
       "n_clusters\n",
       "2    [[0.0, 0.0, 0.0, 0.0, 0.0, 0.0, 0.0, 0.0, 0.0,...\n",
       "3    [[0.0, 0.0, 0.0, 0.0, 0.0, 0.0, 0.0, 0.0, 0.0,...\n",
       "4    [[0.0, 0.0, 0.0, 0.0, 0.0, 0.0, 0.0, 0.0, 0.0,...\n",
       "5    [[0.0, 0.0, 0.0, 0.0, 0.0, 0.0, 0.0, 0.0, 0.0,...\n",
       "6    [[1.0, 1.0, 1.0, 1.0, 1.0, 1.0, 1.0, 1.0, 1.0,...\n",
       "dtype: object"
      ]
     },
     "execution_count": 36,
     "metadata": {},
     "output_type": "execute_result"
    }
   ],
   "source": [
    "parts.head()"
   ]
  },
  {
   "cell_type": "code",
   "execution_count": 37,
   "metadata": {
    "execution": {
     "iopub.execute_input": "2020-12-02T18:56:24.778438Z",
     "iopub.status.busy": "2020-12-02T18:56:24.778072Z",
     "iopub.status.idle": "2020-12-02T18:56:24.791034Z",
     "shell.execute_reply": "2020-12-02T18:56:24.790667Z"
    },
    "papermill": {
     "duration": 0.083895,
     "end_time": "2020-12-02T18:56:24.791118",
     "exception": false,
     "start_time": "2020-12-02T18:56:24.707223",
     "status": "completed"
    },
    "tags": []
   },
   "outputs": [],
   "source": [
    "assert np.all([\n",
    "    parts.loc[k].shape == (CLUSTERING_OPTIONS['N_REPS_PER_K'], data.shape[0])\n",
    "    for k in parts.index\n",
    "])"
   ]
  },
  {
   "cell_type": "markdown",
   "metadata": {
    "papermill": {
     "duration": 0.069711,
     "end_time": "2020-12-02T18:56:24.930841",
     "exception": false,
     "start_time": "2020-12-02T18:56:24.861130",
     "status": "completed"
    },
    "tags": []
   },
   "source": [
    "## Compute stability"
   ]
  },
  {
   "cell_type": "code",
   "execution_count": 38,
   "metadata": {
    "execution": {
     "iopub.execute_input": "2020-12-02T18:56:25.072100Z",
     "iopub.status.busy": "2020-12-02T18:56:25.071721Z",
     "iopub.status.idle": "2020-12-02T18:56:25.083835Z",
     "shell.execute_reply": "2020-12-02T18:56:25.083452Z"
    },
    "papermill": {
     "duration": 0.083734,
     "end_time": "2020-12-02T18:56:25.083922",
     "exception": false,
     "start_time": "2020-12-02T18:56:25.000188",
     "status": "completed"
    },
    "tags": []
   },
   "outputs": [],
   "source": [
    "from sklearn.metrics import adjusted_rand_score as ari\n",
    "from scipy.spatial.distance import squareform, pdist"
   ]
  },
  {
   "cell_type": "code",
   "execution_count": 39,
   "metadata": {
    "execution": {
     "iopub.execute_input": "2020-12-02T18:56:25.225937Z",
     "iopub.status.busy": "2020-12-02T18:56:25.225567Z",
     "iopub.status.idle": "2020-12-02T18:56:25.926309Z",
     "shell.execute_reply": "2020-12-02T18:56:25.925231Z"
    },
    "papermill": {
     "duration": 0.772839,
     "end_time": "2020-12-02T18:56:25.926542",
     "exception": false,
     "start_time": "2020-12-02T18:56:25.153703",
     "status": "completed"
    },
    "tags": []
   },
   "outputs": [],
   "source": [
    "parts_ari = pd.Series(\n",
    "    {k: pdist(parts.loc[k], metric=ari) for k in parts.index},\n",
    "    name='k'\n",
    ")"
   ]
  },
  {
   "cell_type": "code",
   "execution_count": 40,
   "metadata": {
    "execution": {
     "iopub.execute_input": "2020-12-02T18:56:26.068764Z",
     "iopub.status.busy": "2020-12-02T18:56:26.068358Z",
     "iopub.status.idle": "2020-12-02T18:56:26.082339Z",
     "shell.execute_reply": "2020-12-02T18:56:26.082628Z"
    },
    "papermill": {
     "duration": 0.085482,
     "end_time": "2020-12-02T18:56:26.082740",
     "exception": false,
     "start_time": "2020-12-02T18:56:25.997258",
     "status": "completed"
    },
    "tags": []
   },
   "outputs": [
    {
     "data": {
      "text/plain": [
       "2     1.000000\n",
       "3     1.000000\n",
       "4     1.000000\n",
       "9     0.712817\n",
       "13    0.627578\n",
       "8     0.626027\n",
       "10    0.620225\n",
       "5     0.592991\n",
       "23    0.556429\n",
       "12    0.542345\n",
       "18    0.531337\n",
       "11    0.520030\n",
       "21    0.518118\n",
       "59    0.515677\n",
       "24    0.511090\n",
       "Name: k, dtype: float64"
      ]
     },
     "metadata": {},
     "output_type": "display_data"
    }
   ],
   "source": [
    "parts_ari_stability = parts_ari.apply(lambda x: x.mean())\n",
    "display(parts_ari_stability.sort_values(ascending=False).head(15))"
   ]
  },
  {
   "cell_type": "code",
   "execution_count": 41,
   "metadata": {
    "execution": {
     "iopub.execute_input": "2020-12-02T18:56:26.227506Z",
     "iopub.status.busy": "2020-12-02T18:56:26.227112Z",
     "iopub.status.idle": "2020-12-02T18:56:26.241018Z",
     "shell.execute_reply": "2020-12-02T18:56:26.240666Z"
    },
    "papermill": {
     "duration": 0.087331,
     "end_time": "2020-12-02T18:56:26.241110",
     "exception": false,
     "start_time": "2020-12-02T18:56:26.153779",
     "status": "completed"
    },
    "tags": []
   },
   "outputs": [],
   "source": [
    "parts_ari_df = pd.DataFrame.from_records(parts_ari.tolist()).set_index(parts_ari.index.copy())"
   ]
  },
  {
   "cell_type": "code",
   "execution_count": 42,
   "metadata": {
    "execution": {
     "iopub.execute_input": "2020-12-02T18:56:26.387076Z",
     "iopub.status.busy": "2020-12-02T18:56:26.386707Z",
     "iopub.status.idle": "2020-12-02T18:56:26.399591Z",
     "shell.execute_reply": "2020-12-02T18:56:26.399212Z"
    },
    "papermill": {
     "duration": 0.085678,
     "end_time": "2020-12-02T18:56:26.399680",
     "exception": false,
     "start_time": "2020-12-02T18:56:26.314002",
     "status": "completed"
    },
    "tags": []
   },
   "outputs": [
    {
     "data": {
      "text/plain": [
       "(59, 10)"
      ]
     },
     "execution_count": 42,
     "metadata": {},
     "output_type": "execute_result"
    }
   ],
   "source": [
    "parts_ari_df.shape"
   ]
  },
  {
   "cell_type": "code",
   "execution_count": 43,
   "metadata": {
    "execution": {
     "iopub.execute_input": "2020-12-02T18:56:26.545869Z",
     "iopub.status.busy": "2020-12-02T18:56:26.545502Z",
     "iopub.status.idle": "2020-12-02T18:56:26.556899Z",
     "shell.execute_reply": "2020-12-02T18:56:26.557182Z"
    },
    "papermill": {
     "duration": 0.086206,
     "end_time": "2020-12-02T18:56:26.557306",
     "exception": false,
     "start_time": "2020-12-02T18:56:26.471100",
     "status": "completed"
    },
    "tags": []
   },
   "outputs": [],
   "source": [
    "assert int( (CLUSTERING_OPTIONS['N_REPS_PER_K'] * (CLUSTERING_OPTIONS['N_REPS_PER_K'] - 1) ) / 2) == parts_ari_df.shape[1]"
   ]
  },
  {
   "cell_type": "code",
   "execution_count": 44,
   "metadata": {
    "execution": {
     "iopub.execute_input": "2020-12-02T18:56:26.699895Z",
     "iopub.status.busy": "2020-12-02T18:56:26.699517Z",
     "iopub.status.idle": "2020-12-02T18:56:26.718073Z",
     "shell.execute_reply": "2020-12-02T18:56:26.717780Z"
    },
    "papermill": {
     "duration": 0.090734,
     "end_time": "2020-12-02T18:56:26.718160",
     "exception": false,
     "start_time": "2020-12-02T18:56:26.627426",
     "status": "completed"
    },
    "tags": []
   },
   "outputs": [
    {
     "data": {
      "text/html": [
       "<div>\n",
       "<style scoped>\n",
       "    .dataframe tbody tr th:only-of-type {\n",
       "        vertical-align: middle;\n",
       "    }\n",
       "\n",
       "    .dataframe tbody tr th {\n",
       "        vertical-align: top;\n",
       "    }\n",
       "\n",
       "    .dataframe thead th {\n",
       "        text-align: right;\n",
       "    }\n",
       "</style>\n",
       "<table border=\"1\" class=\"dataframe\">\n",
       "  <thead>\n",
       "    <tr style=\"text-align: right;\">\n",
       "      <th></th>\n",
       "      <th>0</th>\n",
       "      <th>1</th>\n",
       "      <th>2</th>\n",
       "      <th>3</th>\n",
       "      <th>4</th>\n",
       "      <th>5</th>\n",
       "      <th>6</th>\n",
       "      <th>7</th>\n",
       "      <th>8</th>\n",
       "      <th>9</th>\n",
       "    </tr>\n",
       "  </thead>\n",
       "  <tbody>\n",
       "    <tr>\n",
       "      <th>2</th>\n",
       "      <td>1.000000</td>\n",
       "      <td>1.000000</td>\n",
       "      <td>1.000000</td>\n",
       "      <td>1.000000</td>\n",
       "      <td>1.000000</td>\n",
       "      <td>1.000000</td>\n",
       "      <td>1.000000</td>\n",
       "      <td>1.000000</td>\n",
       "      <td>1.000000</td>\n",
       "      <td>1.000000</td>\n",
       "    </tr>\n",
       "    <tr>\n",
       "      <th>3</th>\n",
       "      <td>1.000000</td>\n",
       "      <td>1.000000</td>\n",
       "      <td>1.000000</td>\n",
       "      <td>1.000000</td>\n",
       "      <td>1.000000</td>\n",
       "      <td>1.000000</td>\n",
       "      <td>1.000000</td>\n",
       "      <td>1.000000</td>\n",
       "      <td>1.000000</td>\n",
       "      <td>1.000000</td>\n",
       "    </tr>\n",
       "    <tr>\n",
       "      <th>4</th>\n",
       "      <td>1.000000</td>\n",
       "      <td>1.000000</td>\n",
       "      <td>1.000000</td>\n",
       "      <td>1.000000</td>\n",
       "      <td>1.000000</td>\n",
       "      <td>1.000000</td>\n",
       "      <td>1.000000</td>\n",
       "      <td>1.000000</td>\n",
       "      <td>1.000000</td>\n",
       "      <td>1.000000</td>\n",
       "    </tr>\n",
       "    <tr>\n",
       "      <th>5</th>\n",
       "      <td>0.270753</td>\n",
       "      <td>1.000000</td>\n",
       "      <td>0.594495</td>\n",
       "      <td>1.000000</td>\n",
       "      <td>0.270753</td>\n",
       "      <td>0.334166</td>\n",
       "      <td>0.270753</td>\n",
       "      <td>0.594495</td>\n",
       "      <td>1.000000</td>\n",
       "      <td>0.594495</td>\n",
       "    </tr>\n",
       "    <tr>\n",
       "      <th>6</th>\n",
       "      <td>0.252984</td>\n",
       "      <td>0.273092</td>\n",
       "      <td>0.250034</td>\n",
       "      <td>0.425033</td>\n",
       "      <td>0.257348</td>\n",
       "      <td>0.303169</td>\n",
       "      <td>0.530985</td>\n",
       "      <td>0.635131</td>\n",
       "      <td>0.229331</td>\n",
       "      <td>0.226609</td>\n",
       "    </tr>\n",
       "  </tbody>\n",
       "</table>\n",
       "</div>"
      ],
      "text/plain": [
       "          0         1         2         3         4         5         6  \\\n",
       "2  1.000000  1.000000  1.000000  1.000000  1.000000  1.000000  1.000000   \n",
       "3  1.000000  1.000000  1.000000  1.000000  1.000000  1.000000  1.000000   \n",
       "4  1.000000  1.000000  1.000000  1.000000  1.000000  1.000000  1.000000   \n",
       "5  0.270753  1.000000  0.594495  1.000000  0.270753  0.334166  0.270753   \n",
       "6  0.252984  0.273092  0.250034  0.425033  0.257348  0.303169  0.530985   \n",
       "\n",
       "          7         8         9  \n",
       "2  1.000000  1.000000  1.000000  \n",
       "3  1.000000  1.000000  1.000000  \n",
       "4  1.000000  1.000000  1.000000  \n",
       "5  0.594495  1.000000  0.594495  \n",
       "6  0.635131  0.229331  0.226609  "
      ]
     },
     "execution_count": 44,
     "metadata": {},
     "output_type": "execute_result"
    }
   ],
   "source": [
    "parts_ari_df.head()"
   ]
  },
  {
   "cell_type": "markdown",
   "metadata": {
    "papermill": {
     "duration": 0.069441,
     "end_time": "2020-12-02T18:56:26.858660",
     "exception": false,
     "start_time": "2020-12-02T18:56:26.789219",
     "status": "completed"
    },
    "tags": []
   },
   "source": [
    "## Save"
   ]
  },
  {
   "cell_type": "code",
   "execution_count": 45,
   "metadata": {
    "execution": {
     "iopub.execute_input": "2020-12-02T18:56:27.001064Z",
     "iopub.status.busy": "2020-12-02T18:56:27.000663Z",
     "iopub.status.idle": "2020-12-02T18:56:27.013856Z",
     "shell.execute_reply": "2020-12-02T18:56:27.013535Z"
    },
    "papermill": {
     "duration": 0.085017,
     "end_time": "2020-12-02T18:56:27.013943",
     "exception": false,
     "start_time": "2020-12-02T18:56:26.928926",
     "status": "completed"
    },
    "tags": []
   },
   "outputs": [
    {
     "data": {
      "text/plain": [
       "PosixPath('/home/miltondp/projects/labs/greenelab/phenoplier/base/results/clustering/runs/umap-z_score_std-projection-smultixcan-efo_partial-mashr-zscores/KMeans-stability-KMEANS_N_INIT_10-K_MAX_60-K_MIN_2-N_REPS_PER_K_5.pkl')"
      ]
     },
     "metadata": {},
     "output_type": "display_data"
    }
   ],
   "source": [
    "output_filename = Path(\n",
    "    RESULTS_DIR,\n",
    "    generate_result_set_name(\n",
    "        CLUSTERING_OPTIONS,\n",
    "        prefix=f'{clustering_method_name}-stability-',\n",
    "        suffix='.pkl',\n",
    "    )\n",
    ").resolve()\n",
    "display(output_filename)"
   ]
  },
  {
   "cell_type": "code",
   "execution_count": 46,
   "metadata": {
    "execution": {
     "iopub.execute_input": "2020-12-02T18:56:27.158795Z",
     "iopub.status.busy": "2020-12-02T18:56:27.158439Z",
     "iopub.status.idle": "2020-12-02T18:56:27.170876Z",
     "shell.execute_reply": "2020-12-02T18:56:27.170500Z"
    },
    "papermill": {
     "duration": 0.085149,
     "end_time": "2020-12-02T18:56:27.170961",
     "exception": false,
     "start_time": "2020-12-02T18:56:27.085812",
     "status": "completed"
    },
    "tags": []
   },
   "outputs": [],
   "source": [
    "parts_ari_df.to_pickle(output_filename)"
   ]
  },
  {
   "cell_type": "markdown",
   "metadata": {
    "papermill": {
     "duration": 0.07034,
     "end_time": "2020-12-02T18:56:27.311990",
     "exception": false,
     "start_time": "2020-12-02T18:56:27.241650",
     "status": "completed"
    },
    "tags": []
   },
   "source": [
    "## Stability plot"
   ]
  },
  {
   "cell_type": "code",
   "execution_count": 47,
   "metadata": {
    "execution": {
     "iopub.execute_input": "2020-12-02T18:56:27.454995Z",
     "iopub.status.busy": "2020-12-02T18:56:27.454626Z",
     "iopub.status.idle": "2020-12-02T18:56:27.468599Z",
     "shell.execute_reply": "2020-12-02T18:56:27.468227Z"
    },
    "papermill": {
     "duration": 0.086939,
     "end_time": "2020-12-02T18:56:27.468686",
     "exception": false,
     "start_time": "2020-12-02T18:56:27.381747",
     "status": "completed"
    },
    "tags": []
   },
   "outputs": [],
   "source": [
    "parts_ari_df_plot = parts_ari_df.stack().reset_index().rename(columns={'level_0': 'k', 'level_1': 'idx', 0: 'ari'})"
   ]
  },
  {
   "cell_type": "code",
   "execution_count": 48,
   "metadata": {
    "execution": {
     "iopub.execute_input": "2020-12-02T18:56:27.614527Z",
     "iopub.status.busy": "2020-12-02T18:56:27.614168Z",
     "iopub.status.idle": "2020-12-02T18:56:27.627297Z",
     "shell.execute_reply": "2020-12-02T18:56:27.627593Z"
    },
    "papermill": {
     "duration": 0.085429,
     "end_time": "2020-12-02T18:56:27.627699",
     "exception": false,
     "start_time": "2020-12-02T18:56:27.542270",
     "status": "completed"
    },
    "tags": []
   },
   "outputs": [
    {
     "data": {
      "text/plain": [
       "k        int64\n",
       "idx      int64\n",
       "ari    float64\n",
       "dtype: object"
      ]
     },
     "execution_count": 48,
     "metadata": {},
     "output_type": "execute_result"
    }
   ],
   "source": [
    "parts_ari_df_plot.dtypes"
   ]
  },
  {
   "cell_type": "code",
   "execution_count": 49,
   "metadata": {
    "execution": {
     "iopub.execute_input": "2020-12-02T18:56:27.770614Z",
     "iopub.status.busy": "2020-12-02T18:56:27.770254Z",
     "iopub.status.idle": "2020-12-02T18:56:27.785523Z",
     "shell.execute_reply": "2020-12-02T18:56:27.785204Z"
    },
    "papermill": {
     "duration": 0.087352,
     "end_time": "2020-12-02T18:56:27.785614",
     "exception": false,
     "start_time": "2020-12-02T18:56:27.698262",
     "status": "completed"
    },
    "tags": []
   },
   "outputs": [
    {
     "data": {
      "text/html": [
       "<div>\n",
       "<style scoped>\n",
       "    .dataframe tbody tr th:only-of-type {\n",
       "        vertical-align: middle;\n",
       "    }\n",
       "\n",
       "    .dataframe tbody tr th {\n",
       "        vertical-align: top;\n",
       "    }\n",
       "\n",
       "    .dataframe thead th {\n",
       "        text-align: right;\n",
       "    }\n",
       "</style>\n",
       "<table border=\"1\" class=\"dataframe\">\n",
       "  <thead>\n",
       "    <tr style=\"text-align: right;\">\n",
       "      <th></th>\n",
       "      <th>k</th>\n",
       "      <th>idx</th>\n",
       "      <th>ari</th>\n",
       "    </tr>\n",
       "  </thead>\n",
       "  <tbody>\n",
       "    <tr>\n",
       "      <th>0</th>\n",
       "      <td>2</td>\n",
       "      <td>0</td>\n",
       "      <td>1.0</td>\n",
       "    </tr>\n",
       "    <tr>\n",
       "      <th>1</th>\n",
       "      <td>2</td>\n",
       "      <td>1</td>\n",
       "      <td>1.0</td>\n",
       "    </tr>\n",
       "    <tr>\n",
       "      <th>2</th>\n",
       "      <td>2</td>\n",
       "      <td>2</td>\n",
       "      <td>1.0</td>\n",
       "    </tr>\n",
       "    <tr>\n",
       "      <th>3</th>\n",
       "      <td>2</td>\n",
       "      <td>3</td>\n",
       "      <td>1.0</td>\n",
       "    </tr>\n",
       "    <tr>\n",
       "      <th>4</th>\n",
       "      <td>2</td>\n",
       "      <td>4</td>\n",
       "      <td>1.0</td>\n",
       "    </tr>\n",
       "  </tbody>\n",
       "</table>\n",
       "</div>"
      ],
      "text/plain": [
       "   k  idx  ari\n",
       "0  2    0  1.0\n",
       "1  2    1  1.0\n",
       "2  2    2  1.0\n",
       "3  2    3  1.0\n",
       "4  2    4  1.0"
      ]
     },
     "execution_count": 49,
     "metadata": {},
     "output_type": "execute_result"
    }
   ],
   "source": [
    "parts_ari_df_plot.head()"
   ]
  },
  {
   "cell_type": "code",
   "execution_count": 50,
   "metadata": {
    "execution": {
     "iopub.execute_input": "2020-12-02T18:56:27.931049Z",
     "iopub.status.busy": "2020-12-02T18:56:27.930682Z",
     "iopub.status.idle": "2020-12-02T18:56:30.818659Z",
     "shell.execute_reply": "2020-12-02T18:56:30.818285Z"
    },
    "papermill": {
     "duration": 2.961661,
     "end_time": "2020-12-02T18:56:30.818746",
     "exception": false,
     "start_time": "2020-12-02T18:56:27.857085",
     "status": "completed"
    },
    "tags": []
   },
   "outputs": [
    {
     "data": {
      "image/png": "[encoded data removed]",
      "text/plain": [
       "<Figure size 864x432 with 1 Axes>"
      ]
     },
     "metadata": {},
     "output_type": "display_data"
    }
   ],
   "source": [
    "# with sns.axes_style('whitegrid', {'grid.linestyle': '--'}):\n",
    "with sns.plotting_context('talk', font_scale=0.75), sns.axes_style('whitegrid', {'grid.linestyle': '--'}):\n",
    "    fig = plt.figure(figsize=(12, 6))\n",
    "    ax = sns.pointplot(data=parts_ari_df_plot, x='k', y='ari')\n",
    "    ax.set_ylabel('Averange ARI')\n",
    "    ax.set_xlabel('Number of clusters ($k$)')\n",
    "    ax.set_xticklabels(ax.get_xticklabels(), rotation=45)\n",
    "#     ax.set_ylim(0.0, 1.0)\n",
    "#     ax.set_xlim(CLUSTERING_OPTIONS['K_MIN'], CLUSTERING_OPTIONS['K_MAX'])\n",
    "    plt.grid(True)\n",
    "    plt.tight_layout()"
   ]
  },
  {
   "cell_type": "code",
   "execution_count": null,
   "metadata": {
    "papermill": {
     "duration": 0.071919,
     "end_time": "2020-12-02T18:56:30.962663",
     "exception": false,
     "start_time": "2020-12-02T18:56:30.890744",
     "status": "completed"
    },
    "tags": []
   },
   "outputs": [],
   "source": []
  }
 ],
 "metadata": {
  "jupytext": {
   "formats": "ipynb,py//py:percent"
  },
  "kernelspec": {
   "display_name": "Python 3",
   "language": "python",
   "name": "python3"
  },
  "language_info": {
   "codemirror_mode": {
    "name": "ipython",
    "version": 3
   },
   "file_extension": ".py",
   "mimetype": "text/x-python",
   "name": "python",
   "nbconvert_exporter": "python",
   "pygments_lexer": "ipython3",
   "version": "3.8.6"
  },
  "papermill": {
   "default_parameters": {},
   "duration": 385.766209,
   "end_time": "2020-12-02T18:56:31.540405",
   "environment_variables": {},
   "exception": null,
   "input_path": "15_cluster_analysis/000_02-projection_smultixcan_efo-umap-clustering_kmeans.ipynb",
   "output_path": "15_cluster_analysis/000_02-projection_smultixcan_efo-umap-clustering_kmeans.run.ipynb",
   "parameters": {},
   "start_time": "2020-12-02T18:50:05.774196",
   "version": "2.2.2"
  },
  "toc-autonumbering": true,
  "toc-showcode": false,
  "toc-showmarkdowntxt": false,
  "toc-showtags": false
 },
 "nbformat": 4,
 "nbformat_minor": 4
}
