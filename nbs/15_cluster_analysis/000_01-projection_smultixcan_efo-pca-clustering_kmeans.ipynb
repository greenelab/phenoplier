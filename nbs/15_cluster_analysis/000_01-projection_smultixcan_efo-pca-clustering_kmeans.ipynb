{
 "cells": [
  {
   "cell_type": "markdown",
   "metadata": {
    "papermill": {
     "duration": 0.025384,
     "end_time": "2020-12-02T18:44:00.130390",
     "exception": false,
     "start_time": "2020-12-02T18:44:00.105006",
     "status": "completed"
    },
    "tags": []
   },
   "source": [
    "# Description"
   ]
  },
  {
   "cell_type": "markdown",
   "metadata": {
    "papermill": {
     "duration": 0.020369,
     "end_time": "2020-12-02T18:44:00.171588",
     "exception": false,
     "start_time": "2020-12-02T18:44:00.151219",
     "status": "completed"
    },
    "tags": []
   },
   "source": [
    "Runs k-means on the pca version of the data."
   ]
  },
  {
   "cell_type": "markdown",
   "metadata": {
    "papermill": {
     "duration": 0.020223,
     "end_time": "2020-12-02T18:44:00.212568",
     "exception": false,
     "start_time": "2020-12-02T18:44:00.192345",
     "status": "completed"
    },
    "tags": []
   },
   "source": [
    "# Environment variables"
   ]
  },
  {
   "cell_type": "code",
   "execution_count": 1,
   "metadata": {
    "execution": {
     "iopub.execute_input": "2020-12-02T18:44:00.256634Z",
     "iopub.status.busy": "2020-12-02T18:44:00.256255Z",
     "iopub.status.idle": "2020-12-02T18:44:00.267038Z",
     "shell.execute_reply": "2020-12-02T18:44:00.266619Z"
    },
    "papermill": {
     "duration": 0.034183,
     "end_time": "2020-12-02T18:44:00.267157",
     "exception": false,
     "start_time": "2020-12-02T18:44:00.232974",
     "status": "completed"
    },
    "tags": []
   },
   "outputs": [
    {
     "data": {
      "text/plain": [
       "3"
      ]
     },
     "metadata": {},
     "output_type": "display_data"
    }
   ],
   "source": [
    "from IPython.display import display\n",
    "\n",
    "import conf\n",
    "\n",
    "N_JOBS = conf.GENERAL[\"N_JOBS\"]\n",
    "display(N_JOBS)"
   ]
  },
  {
   "cell_type": "code",
   "execution_count": 2,
   "metadata": {
    "execution": {
     "iopub.execute_input": "2020-12-02T18:44:00.313653Z",
     "iopub.status.busy": "2020-12-02T18:44:00.313218Z",
     "iopub.status.idle": "2020-12-02T18:44:00.315716Z",
     "shell.execute_reply": "2020-12-02T18:44:00.315335Z"
    },
    "papermill": {
     "duration": 0.027466,
     "end_time": "2020-12-02T18:44:00.315803",
     "exception": false,
     "start_time": "2020-12-02T18:44:00.288337",
     "status": "completed"
    },
    "tags": []
   },
   "outputs": [
    {
     "name": "stdout",
     "output_type": "stream",
     "text": [
      "env: MKL_NUM_THREADS=3\n",
      "env: OPEN_BLAS_NUM_THREADS=3\n",
      "env: NUMEXPR_NUM_THREADS=3\n",
      "env: OMP_NUM_THREADS=3\n"
     ]
    }
   ],
   "source": [
    "%env MKL_NUM_THREADS=$N_JOBS\n",
    "%env OPEN_BLAS_NUM_THREADS=$N_JOBS\n",
    "%env NUMEXPR_NUM_THREADS=$N_JOBS\n",
    "%env OMP_NUM_THREADS=$N_JOBS"
   ]
  },
  {
   "cell_type": "markdown",
   "metadata": {
    "papermill": {
     "duration": 0.020801,
     "end_time": "2020-12-02T18:44:00.357812",
     "exception": false,
     "start_time": "2020-12-02T18:44:00.337011",
     "status": "completed"
    },
    "tags": []
   },
   "source": [
    "# Modules loading"
   ]
  },
  {
   "cell_type": "code",
   "execution_count": 3,
   "metadata": {
    "execution": {
     "iopub.execute_input": "2020-12-02T18:44:00.403151Z",
     "iopub.status.busy": "2020-12-02T18:44:00.402766Z",
     "iopub.status.idle": "2020-12-02T18:44:00.410584Z",
     "shell.execute_reply": "2020-12-02T18:44:00.410213Z"
    },
    "papermill": {
     "duration": 0.031702,
     "end_time": "2020-12-02T18:44:00.410670",
     "exception": false,
     "start_time": "2020-12-02T18:44:00.378968",
     "status": "completed"
    },
    "tags": []
   },
   "outputs": [],
   "source": [
    "%load_ext autoreload\n",
    "%autoreload 2"
   ]
  },
  {
   "cell_type": "code",
   "execution_count": 4,
   "metadata": {
    "execution": {
     "iopub.execute_input": "2020-12-02T18:44:00.455802Z",
     "iopub.status.busy": "2020-12-02T18:44:00.455423Z",
     "iopub.status.idle": "2020-12-02T18:44:02.031744Z",
     "shell.execute_reply": "2020-12-02T18:44:02.032094Z"
    },
    "papermill": {
     "duration": 1.600114,
     "end_time": "2020-12-02T18:44:02.032227",
     "exception": false,
     "start_time": "2020-12-02T18:44:00.432113",
     "status": "completed"
    },
    "tags": []
   },
   "outputs": [],
   "source": [
    "from pathlib import Path\n",
    "\n",
    "import numpy as np\n",
    "import pandas as pd\n",
    "import umap\n",
    "import matplotlib.pyplot as plt\n",
    "import seaborn as sns\n",
    "\n",
    "from utils import generate_result_set_name"
   ]
  },
  {
   "cell_type": "markdown",
   "metadata": {
    "papermill": {
     "duration": 0.020482,
     "end_time": "2020-12-02T18:44:02.076536",
     "exception": false,
     "start_time": "2020-12-02T18:44:02.056054",
     "status": "completed"
    },
    "tags": []
   },
   "source": [
    "# Settings"
   ]
  },
  {
   "cell_type": "code",
   "execution_count": 5,
   "metadata": {
    "execution": {
     "iopub.execute_input": "2020-12-02T18:44:02.120278Z",
     "iopub.status.busy": "2020-12-02T18:44:02.119913Z",
     "iopub.status.idle": "2020-12-02T18:44:02.131937Z",
     "shell.execute_reply": "2020-12-02T18:44:02.131555Z"
    },
    "papermill": {
     "duration": 0.034898,
     "end_time": "2020-12-02T18:44:02.132026",
     "exception": false,
     "start_time": "2020-12-02T18:44:02.097128",
     "status": "completed"
    },
    "tags": []
   },
   "outputs": [],
   "source": [
    "INITIAL_RANDOM_STATE = 10000"
   ]
  },
  {
   "cell_type": "markdown",
   "metadata": {
    "papermill": {
     "duration": 0.020714,
     "end_time": "2020-12-02T18:44:02.174061",
     "exception": false,
     "start_time": "2020-12-02T18:44:02.153347",
     "status": "completed"
    },
    "tags": []
   },
   "source": [
    "## Input data"
   ]
  },
  {
   "cell_type": "code",
   "execution_count": 6,
   "metadata": {
    "execution": {
     "iopub.execute_input": "2020-12-02T18:44:02.217553Z",
     "iopub.status.busy": "2020-12-02T18:44:02.217193Z",
     "iopub.status.idle": "2020-12-02T18:44:02.229173Z",
     "shell.execute_reply": "2020-12-02T18:44:02.228767Z"
    },
    "papermill": {
     "duration": 0.034585,
     "end_time": "2020-12-02T18:44:02.229262",
     "exception": false,
     "start_time": "2020-12-02T18:44:02.194677",
     "status": "completed"
    },
    "tags": []
   },
   "outputs": [],
   "source": [
    "INPUT_SUBSET = \"pca\""
   ]
  },
  {
   "cell_type": "code",
   "execution_count": 7,
   "metadata": {
    "execution": {
     "iopub.execute_input": "2020-12-02T18:44:02.275058Z",
     "iopub.status.busy": "2020-12-02T18:44:02.274683Z",
     "iopub.status.idle": "2020-12-02T18:44:02.286554Z",
     "shell.execute_reply": "2020-12-02T18:44:02.286241Z"
    },
    "papermill": {
     "duration": 0.035828,
     "end_time": "2020-12-02T18:44:02.286646",
     "exception": false,
     "start_time": "2020-12-02T18:44:02.250818",
     "status": "completed"
    },
    "tags": []
   },
   "outputs": [],
   "source": [
    "INPUT_STEM = \"z_score_std-projection-smultixcan-efo_partial-mashr-zscores\""
   ]
  },
  {
   "cell_type": "code",
   "execution_count": 8,
   "metadata": {
    "execution": {
     "iopub.execute_input": "2020-12-02T18:44:02.331936Z",
     "iopub.status.busy": "2020-12-02T18:44:02.331572Z",
     "iopub.status.idle": "2020-12-02T18:44:02.343423Z",
     "shell.execute_reply": "2020-12-02T18:44:02.343711Z"
    },
    "papermill": {
     "duration": 0.035402,
     "end_time": "2020-12-02T18:44:02.343836",
     "exception": false,
     "start_time": "2020-12-02T18:44:02.308434",
     "status": "completed"
    },
    "tags": []
   },
   "outputs": [],
   "source": [
    "DR_OPTIONS = {\n",
    "    \"n_components\": 50,\n",
    "    \"svd_solver\": \"full\",\n",
    "    \"random_state\": 0,\n",
    "}"
   ]
  },
  {
   "cell_type": "code",
   "execution_count": 9,
   "metadata": {
    "execution": {
     "iopub.execute_input": "2020-12-02T18:44:02.389490Z",
     "iopub.status.busy": "2020-12-02T18:44:02.389115Z",
     "iopub.status.idle": "2020-12-02T18:44:02.402650Z",
     "shell.execute_reply": "2020-12-02T18:44:02.402315Z"
    },
    "papermill": {
     "duration": 0.037498,
     "end_time": "2020-12-02T18:44:02.402742",
     "exception": false,
     "start_time": "2020-12-02T18:44:02.365244",
     "status": "completed"
    },
    "tags": []
   },
   "outputs": [
    {
     "data": {
      "text/plain": [
       "PosixPath('/home/miltondp/projects/labs/greenelab/phenoplier/base/results/data_transformations/pca/pca-z_score_std-projection-smultixcan-efo_partial-mashr-zscores-n_components_50-random_state_0-svd_solver_full.pkl')"
      ]
     },
     "metadata": {},
     "output_type": "display_data"
    },
    {
     "data": {
      "text/plain": [
       "'pca-z_score_std-projection-smultixcan-efo_partial-mashr-zscores-n_components_50-random_state_0-svd_solver_full'"
      ]
     },
     "metadata": {},
     "output_type": "display_data"
    }
   ],
   "source": [
    "input_filepath = Path(\n",
    "    conf.RESULTS[\"DATA_TRANSFORMATIONS_DIR\"],\n",
    "    INPUT_SUBSET,\n",
    "    generate_result_set_name(\n",
    "        DR_OPTIONS, prefix=f\"{INPUT_SUBSET}-{INPUT_STEM}-\", suffix=\".pkl\"\n",
    "    ),\n",
    ").resolve()\n",
    "display(input_filepath)\n",
    "\n",
    "assert input_filepath.exists(), \"Input file does not exist\"\n",
    "\n",
    "input_filepath_stem = input_filepath.stem\n",
    "display(input_filepath_stem)"
   ]
  },
  {
   "cell_type": "markdown",
   "metadata": {
    "papermill": {
     "duration": 0.021284,
     "end_time": "2020-12-02T18:44:02.445669",
     "exception": false,
     "start_time": "2020-12-02T18:44:02.424385",
     "status": "completed"
    },
    "tags": []
   },
   "source": [
    "## Clustering"
   ]
  },
  {
   "cell_type": "code",
   "execution_count": 10,
   "metadata": {
    "execution": {
     "iopub.execute_input": "2020-12-02T18:44:02.492583Z",
     "iopub.status.busy": "2020-12-02T18:44:02.492203Z",
     "iopub.status.idle": "2020-12-02T18:44:02.510479Z",
     "shell.execute_reply": "2020-12-02T18:44:02.510801Z"
    },
    "papermill": {
     "duration": 0.043987,
     "end_time": "2020-12-02T18:44:02.510945",
     "exception": false,
     "start_time": "2020-12-02T18:44:02.466958",
     "status": "completed"
    },
    "tags": []
   },
   "outputs": [],
   "source": [
    "from sklearn.cluster import KMeans"
   ]
  },
  {
   "cell_type": "code",
   "execution_count": 11,
   "metadata": {
    "execution": {
     "iopub.execute_input": "2020-12-02T18:44:02.559307Z",
     "iopub.status.busy": "2020-12-02T18:44:02.558940Z",
     "iopub.status.idle": "2020-12-02T18:44:02.570280Z",
     "shell.execute_reply": "2020-12-02T18:44:02.570577Z"
    },
    "papermill": {
     "duration": 0.035489,
     "end_time": "2020-12-02T18:44:02.570690",
     "exception": false,
     "start_time": "2020-12-02T18:44:02.535201",
     "status": "completed"
    },
    "tags": []
   },
   "outputs": [],
   "source": [
    "CLUSTERING_ATTRIBUTES_TO_SAVE = [\"n_clusters\"]"
   ]
  },
  {
   "cell_type": "code",
   "execution_count": 12,
   "metadata": {
    "execution": {
     "iopub.execute_input": "2020-12-02T18:44:02.616232Z",
     "iopub.status.busy": "2020-12-02T18:44:02.615863Z",
     "iopub.status.idle": "2020-12-02T18:44:02.628685Z",
     "shell.execute_reply": "2020-12-02T18:44:02.628317Z"
    },
    "papermill": {
     "duration": 0.036435,
     "end_time": "2020-12-02T18:44:02.628834",
     "exception": false,
     "start_time": "2020-12-02T18:44:02.592399",
     "status": "completed"
    },
    "tags": []
   },
   "outputs": [
    {
     "data": {
      "text/plain": [
       "{'K_MIN': 2, 'K_MAX': 60, 'N_REPS_PER_K': 5, 'KMEANS_N_INIT': 10}"
      ]
     },
     "metadata": {},
     "output_type": "display_data"
    }
   ],
   "source": [
    "CLUSTERING_OPTIONS = {}\n",
    "\n",
    "CLUSTERING_OPTIONS[\"K_MIN\"] = 2\n",
    "CLUSTERING_OPTIONS[\"K_MAX\"] = 60  # sqrt(3749)\n",
    "CLUSTERING_OPTIONS[\"N_REPS_PER_K\"] = 5\n",
    "CLUSTERING_OPTIONS[\"KMEANS_N_INIT\"] = 10\n",
    "\n",
    "display(CLUSTERING_OPTIONS)"
   ]
  },
  {
   "cell_type": "code",
   "execution_count": 13,
   "metadata": {
    "execution": {
     "iopub.execute_input": "2020-12-02T18:44:02.675545Z",
     "iopub.status.busy": "2020-12-02T18:44:02.675171Z",
     "iopub.status.idle": "2020-12-02T18:44:02.687979Z",
     "shell.execute_reply": "2020-12-02T18:44:02.687592Z"
    },
    "papermill": {
     "duration": 0.037482,
     "end_time": "2020-12-02T18:44:02.688067",
     "exception": false,
     "start_time": "2020-12-02T18:44:02.650585",
     "status": "completed"
    },
    "tags": []
   },
   "outputs": [],
   "source": [
    "CLUSTERERS = {}\n",
    "\n",
    "idx = 0\n",
    "random_state = INITIAL_RANDOM_STATE\n",
    "\n",
    "for k in range(CLUSTERING_OPTIONS[\"K_MIN\"], CLUSTERING_OPTIONS[\"K_MAX\"] + 1):\n",
    "    for i in range(CLUSTERING_OPTIONS[\"N_REPS_PER_K\"]):\n",
    "        clus = KMeans(\n",
    "            n_clusters=k,\n",
    "            n_init=CLUSTERING_OPTIONS[\"KMEANS_N_INIT\"],\n",
    "            random_state=random_state,\n",
    "        )\n",
    "\n",
    "        method_name = type(clus).__name__\n",
    "        CLUSTERERS[f\"{method_name} #{idx}\"] = clus\n",
    "\n",
    "        random_state = random_state + 1\n",
    "        idx = idx + 1"
   ]
  },
  {
   "cell_type": "code",
   "execution_count": 14,
   "metadata": {
    "execution": {
     "iopub.execute_input": "2020-12-02T18:44:02.734219Z",
     "iopub.status.busy": "2020-12-02T18:44:02.733845Z",
     "iopub.status.idle": "2020-12-02T18:44:02.746707Z",
     "shell.execute_reply": "2020-12-02T18:44:02.746326Z"
    },
    "papermill": {
     "duration": 0.036636,
     "end_time": "2020-12-02T18:44:02.746796",
     "exception": false,
     "start_time": "2020-12-02T18:44:02.710160",
     "status": "completed"
    },
    "tags": []
   },
   "outputs": [
    {
     "data": {
      "text/plain": [
       "295"
      ]
     },
     "metadata": {},
     "output_type": "display_data"
    }
   ],
   "source": [
    "display(len(CLUSTERERS))"
   ]
  },
  {
   "cell_type": "code",
   "execution_count": 15,
   "metadata": {
    "execution": {
     "iopub.execute_input": "2020-12-02T18:44:02.793785Z",
     "iopub.status.busy": "2020-12-02T18:44:02.793421Z",
     "iopub.status.idle": "2020-12-02T18:44:02.807573Z",
     "shell.execute_reply": "2020-12-02T18:44:02.807245Z"
    },
    "papermill": {
     "duration": 0.038325,
     "end_time": "2020-12-02T18:44:02.807662",
     "exception": false,
     "start_time": "2020-12-02T18:44:02.769337",
     "status": "completed"
    },
    "tags": []
   },
   "outputs": [
    {
     "data": {
      "text/plain": [
       "('KMeans #0', KMeans(n_clusters=2, random_state=10000))"
      ]
     },
     "metadata": {},
     "output_type": "display_data"
    },
    {
     "data": {
      "text/plain": [
       "('KMeans #1', KMeans(n_clusters=2, random_state=10001))"
      ]
     },
     "metadata": {},
     "output_type": "display_data"
    }
   ],
   "source": [
    "_iter = iter(CLUSTERERS.items())\n",
    "display(next(_iter))\n",
    "display(next(_iter))"
   ]
  },
  {
   "cell_type": "code",
   "execution_count": 16,
   "metadata": {
    "execution": {
     "iopub.execute_input": "2020-12-02T18:44:02.854885Z",
     "iopub.status.busy": "2020-12-02T18:44:02.854521Z",
     "iopub.status.idle": "2020-12-02T18:44:02.867193Z",
     "shell.execute_reply": "2020-12-02T18:44:02.866804Z"
    },
    "papermill": {
     "duration": 0.037032,
     "end_time": "2020-12-02T18:44:02.867281",
     "exception": false,
     "start_time": "2020-12-02T18:44:02.830249",
     "status": "completed"
    },
    "tags": []
   },
   "outputs": [
    {
     "data": {
      "text/plain": [
       "'KMeans'"
      ]
     },
     "metadata": {},
     "output_type": "display_data"
    }
   ],
   "source": [
    "clustering_method_name = method_name\n",
    "display(clustering_method_name)"
   ]
  },
  {
   "cell_type": "markdown",
   "metadata": {
    "papermill": {
     "duration": 0.022251,
     "end_time": "2020-12-02T18:44:02.912541",
     "exception": false,
     "start_time": "2020-12-02T18:44:02.890290",
     "status": "completed"
    },
    "tags": []
   },
   "source": [
    "## Output directory"
   ]
  },
  {
   "cell_type": "code",
   "execution_count": 17,
   "metadata": {
    "execution": {
     "iopub.execute_input": "2020-12-02T18:44:02.960247Z",
     "iopub.status.busy": "2020-12-02T18:44:02.959868Z",
     "iopub.status.idle": "2020-12-02T18:44:02.973142Z",
     "shell.execute_reply": "2020-12-02T18:44:02.972784Z"
    },
    "papermill": {
     "duration": 0.038231,
     "end_time": "2020-12-02T18:44:02.973227",
     "exception": false,
     "start_time": "2020-12-02T18:44:02.934996",
     "status": "completed"
    },
    "tags": []
   },
   "outputs": [
    {
     "data": {
      "text/plain": [
       "PosixPath('/home/miltondp/projects/labs/greenelab/phenoplier/base/results/clustering/runs/pca-z_score_std-projection-smultixcan-efo_partial-mashr-zscores')"
      ]
     },
     "metadata": {},
     "output_type": "display_data"
    }
   ],
   "source": [
    "# output dir for this notebook\n",
    "RESULTS_DIR = Path(\n",
    "    conf.RESULTS[\"CLUSTERING_RUNS_DIR\"],\n",
    "    f\"{INPUT_SUBSET}-{INPUT_STEM}\",\n",
    ").resolve()\n",
    "RESULTS_DIR.mkdir(parents=True, exist_ok=True)\n",
    "\n",
    "display(RESULTS_DIR)"
   ]
  },
  {
   "cell_type": "markdown",
   "metadata": {
    "papermill": {
     "duration": 0.022726,
     "end_time": "2020-12-02T18:44:03.018883",
     "exception": false,
     "start_time": "2020-12-02T18:44:02.996157",
     "status": "completed"
    },
    "tags": []
   },
   "source": [
    "# Load input file"
   ]
  },
  {
   "cell_type": "code",
   "execution_count": 18,
   "metadata": {
    "execution": {
     "iopub.execute_input": "2020-12-02T18:44:03.067316Z",
     "iopub.status.busy": "2020-12-02T18:44:03.066942Z",
     "iopub.status.idle": "2020-12-02T18:44:03.080702Z",
     "shell.execute_reply": "2020-12-02T18:44:03.080361Z"
    },
    "papermill": {
     "duration": 0.038658,
     "end_time": "2020-12-02T18:44:03.080793",
     "exception": false,
     "start_time": "2020-12-02T18:44:03.042135",
     "status": "completed"
    },
    "tags": []
   },
   "outputs": [],
   "source": [
    "data = pd.read_pickle(input_filepath)"
   ]
  },
  {
   "cell_type": "code",
   "execution_count": 19,
   "metadata": {
    "execution": {
     "iopub.execute_input": "2020-12-02T18:44:03.128438Z",
     "iopub.status.busy": "2020-12-02T18:44:03.128075Z",
     "iopub.status.idle": "2020-12-02T18:44:03.140933Z",
     "shell.execute_reply": "2020-12-02T18:44:03.140517Z"
    },
    "papermill": {
     "duration": 0.037297,
     "end_time": "2020-12-02T18:44:03.141020",
     "exception": false,
     "start_time": "2020-12-02T18:44:03.103723",
     "status": "completed"
    },
    "tags": []
   },
   "outputs": [
    {
     "data": {
      "text/plain": [
       "(3749, 50)"
      ]
     },
     "execution_count": 19,
     "metadata": {},
     "output_type": "execute_result"
    }
   ],
   "source": [
    "data.shape"
   ]
  },
  {
   "cell_type": "code",
   "execution_count": 20,
   "metadata": {
    "execution": {
     "iopub.execute_input": "2020-12-02T18:44:03.189654Z",
     "iopub.status.busy": "2020-12-02T18:44:03.189284Z",
     "iopub.status.idle": "2020-12-02T18:44:03.214447Z",
     "shell.execute_reply": "2020-12-02T18:44:03.214082Z"
    },
    "papermill": {
     "duration": 0.050399,
     "end_time": "2020-12-02T18:44:03.214534",
     "exception": false,
     "start_time": "2020-12-02T18:44:03.164135",
     "status": "completed"
    },
    "tags": []
   },
   "outputs": [
    {
     "data": {
      "text/html": [
       "<div>\n",
       "<style scoped>\n",
       "    .dataframe tbody tr th:only-of-type {\n",
       "        vertical-align: middle;\n",
       "    }\n",
       "\n",
       "    .dataframe tbody tr th {\n",
       "        vertical-align: top;\n",
       "    }\n",
       "\n",
       "    .dataframe thead th {\n",
       "        text-align: right;\n",
       "    }\n",
       "</style>\n",
       "<table border=\"1\" class=\"dataframe\">\n",
       "  <thead>\n",
       "    <tr style=\"text-align: right;\">\n",
       "      <th></th>\n",
       "      <th>PCA1</th>\n",
       "      <th>PCA2</th>\n",
       "      <th>PCA3</th>\n",
       "      <th>PCA4</th>\n",
       "      <th>PCA5</th>\n",
       "      <th>PCA6</th>\n",
       "      <th>PCA7</th>\n",
       "      <th>PCA8</th>\n",
       "      <th>PCA9</th>\n",
       "      <th>PCA10</th>\n",
       "      <th>...</th>\n",
       "      <th>PCA41</th>\n",
       "      <th>PCA42</th>\n",
       "      <th>PCA43</th>\n",
       "      <th>PCA44</th>\n",
       "      <th>PCA45</th>\n",
       "      <th>PCA46</th>\n",
       "      <th>PCA47</th>\n",
       "      <th>PCA48</th>\n",
       "      <th>PCA49</th>\n",
       "      <th>PCA50</th>\n",
       "    </tr>\n",
       "  </thead>\n",
       "  <tbody>\n",
       "    <tr>\n",
       "      <th>100001_raw-Food_weight</th>\n",
       "      <td>-0.547515</td>\n",
       "      <td>-0.007250</td>\n",
       "      <td>0.245361</td>\n",
       "      <td>0.132424</td>\n",
       "      <td>1.201447</td>\n",
       "      <td>-0.113158</td>\n",
       "      <td>0.048859</td>\n",
       "      <td>1.031679</td>\n",
       "      <td>0.711208</td>\n",
       "      <td>0.126100</td>\n",
       "      <td>...</td>\n",
       "      <td>0.113685</td>\n",
       "      <td>-0.109753</td>\n",
       "      <td>0.178202</td>\n",
       "      <td>-0.487868</td>\n",
       "      <td>1.805920</td>\n",
       "      <td>-0.342611</td>\n",
       "      <td>-0.663712</td>\n",
       "      <td>-1.313987</td>\n",
       "      <td>-1.481707</td>\n",
       "      <td>0.396410</td>\n",
       "    </tr>\n",
       "    <tr>\n",
       "      <th>100002_raw-Energy</th>\n",
       "      <td>-1.570593</td>\n",
       "      <td>-0.618992</td>\n",
       "      <td>-1.223395</td>\n",
       "      <td>1.627321</td>\n",
       "      <td>-0.563860</td>\n",
       "      <td>0.224922</td>\n",
       "      <td>-1.500327</td>\n",
       "      <td>2.045633</td>\n",
       "      <td>-1.665998</td>\n",
       "      <td>-0.180432</td>\n",
       "      <td>...</td>\n",
       "      <td>0.697880</td>\n",
       "      <td>1.412676</td>\n",
       "      <td>2.103988</td>\n",
       "      <td>0.385625</td>\n",
       "      <td>2.386495</td>\n",
       "      <td>-2.939998</td>\n",
       "      <td>-0.978275</td>\n",
       "      <td>-1.893307</td>\n",
       "      <td>-0.259497</td>\n",
       "      <td>0.423264</td>\n",
       "    </tr>\n",
       "    <tr>\n",
       "      <th>100003_raw-Protein</th>\n",
       "      <td>-0.601212</td>\n",
       "      <td>-0.948824</td>\n",
       "      <td>-1.022209</td>\n",
       "      <td>2.438433</td>\n",
       "      <td>-2.062235</td>\n",
       "      <td>0.356202</td>\n",
       "      <td>-1.538038</td>\n",
       "      <td>2.314675</td>\n",
       "      <td>-1.108991</td>\n",
       "      <td>0.318034</td>\n",
       "      <td>...</td>\n",
       "      <td>0.171992</td>\n",
       "      <td>1.351979</td>\n",
       "      <td>0.054404</td>\n",
       "      <td>-0.725132</td>\n",
       "      <td>2.226520</td>\n",
       "      <td>-3.481674</td>\n",
       "      <td>-0.445294</td>\n",
       "      <td>-0.477452</td>\n",
       "      <td>0.237157</td>\n",
       "      <td>1.440867</td>\n",
       "    </tr>\n",
       "    <tr>\n",
       "      <th>100004_raw-Fat</th>\n",
       "      <td>-1.648214</td>\n",
       "      <td>-0.342042</td>\n",
       "      <td>-0.270189</td>\n",
       "      <td>1.683268</td>\n",
       "      <td>-1.222401</td>\n",
       "      <td>0.018349</td>\n",
       "      <td>-0.032824</td>\n",
       "      <td>1.671161</td>\n",
       "      <td>-0.908965</td>\n",
       "      <td>0.224100</td>\n",
       "      <td>...</td>\n",
       "      <td>-0.358812</td>\n",
       "      <td>0.696836</td>\n",
       "      <td>1.072624</td>\n",
       "      <td>0.627951</td>\n",
       "      <td>1.802000</td>\n",
       "      <td>0.174704</td>\n",
       "      <td>0.826319</td>\n",
       "      <td>-0.826992</td>\n",
       "      <td>0.596113</td>\n",
       "      <td>0.620050</td>\n",
       "    </tr>\n",
       "    <tr>\n",
       "      <th>100005_raw-Carbohydrate</th>\n",
       "      <td>-1.867586</td>\n",
       "      <td>-0.006412</td>\n",
       "      <td>-0.303220</td>\n",
       "      <td>0.770958</td>\n",
       "      <td>-0.116822</td>\n",
       "      <td>0.460946</td>\n",
       "      <td>-2.407732</td>\n",
       "      <td>1.534273</td>\n",
       "      <td>-1.930577</td>\n",
       "      <td>0.064621</td>\n",
       "      <td>...</td>\n",
       "      <td>1.332852</td>\n",
       "      <td>1.978032</td>\n",
       "      <td>2.158456</td>\n",
       "      <td>0.831123</td>\n",
       "      <td>1.093202</td>\n",
       "      <td>-3.539033</td>\n",
       "      <td>-0.831862</td>\n",
       "      <td>-0.842298</td>\n",
       "      <td>-0.723072</td>\n",
       "      <td>0.359438</td>\n",
       "    </tr>\n",
       "  </tbody>\n",
       "</table>\n",
       "<p>5 rows × 50 columns</p>\n",
       "</div>"
      ],
      "text/plain": [
       "                             PCA1      PCA2      PCA3      PCA4      PCA5  \\\n",
       "100001_raw-Food_weight  -0.547515 -0.007250  0.245361  0.132424  1.201447   \n",
       "100002_raw-Energy       -1.570593 -0.618992 -1.223395  1.627321 -0.563860   \n",
       "100003_raw-Protein      -0.601212 -0.948824 -1.022209  2.438433 -2.062235   \n",
       "100004_raw-Fat          -1.648214 -0.342042 -0.270189  1.683268 -1.222401   \n",
       "100005_raw-Carbohydrate -1.867586 -0.006412 -0.303220  0.770958 -0.116822   \n",
       "\n",
       "                             PCA6      PCA7      PCA8      PCA9     PCA10  \\\n",
       "100001_raw-Food_weight  -0.113158  0.048859  1.031679  0.711208  0.126100   \n",
       "100002_raw-Energy        0.224922 -1.500327  2.045633 -1.665998 -0.180432   \n",
       "100003_raw-Protein       0.356202 -1.538038  2.314675 -1.108991  0.318034   \n",
       "100004_raw-Fat           0.018349 -0.032824  1.671161 -0.908965  0.224100   \n",
       "100005_raw-Carbohydrate  0.460946 -2.407732  1.534273 -1.930577  0.064621   \n",
       "\n",
       "                         ...     PCA41     PCA42     PCA43     PCA44  \\\n",
       "100001_raw-Food_weight   ...  0.113685 -0.109753  0.178202 -0.487868   \n",
       "100002_raw-Energy        ...  0.697880  1.412676  2.103988  0.385625   \n",
       "100003_raw-Protein       ...  0.171992  1.351979  0.054404 -0.725132   \n",
       "100004_raw-Fat           ... -0.358812  0.696836  1.072624  0.627951   \n",
       "100005_raw-Carbohydrate  ...  1.332852  1.978032  2.158456  0.831123   \n",
       "\n",
       "                            PCA45     PCA46     PCA47     PCA48     PCA49  \\\n",
       "100001_raw-Food_weight   1.805920 -0.342611 -0.663712 -1.313987 -1.481707   \n",
       "100002_raw-Energy        2.386495 -2.939998 -0.978275 -1.893307 -0.259497   \n",
       "100003_raw-Protein       2.226520 -3.481674 -0.445294 -0.477452  0.237157   \n",
       "100004_raw-Fat           1.802000  0.174704  0.826319 -0.826992  0.596113   \n",
       "100005_raw-Carbohydrate  1.093202 -3.539033 -0.831862 -0.842298 -0.723072   \n",
       "\n",
       "                            PCA50  \n",
       "100001_raw-Food_weight   0.396410  \n",
       "100002_raw-Energy        0.423264  \n",
       "100003_raw-Protein       1.440867  \n",
       "100004_raw-Fat           0.620050  \n",
       "100005_raw-Carbohydrate  0.359438  \n",
       "\n",
       "[5 rows x 50 columns]"
      ]
     },
     "execution_count": 20,
     "metadata": {},
     "output_type": "execute_result"
    }
   ],
   "source": [
    "data.head()"
   ]
  },
  {
   "cell_type": "code",
   "execution_count": 21,
   "metadata": {
    "execution": {
     "iopub.execute_input": "2020-12-02T18:44:03.263285Z",
     "iopub.status.busy": "2020-12-02T18:44:03.262928Z",
     "iopub.status.idle": "2020-12-02T18:44:03.275132Z",
     "shell.execute_reply": "2020-12-02T18:44:03.275437Z"
    },
    "papermill": {
     "duration": 0.037768,
     "end_time": "2020-12-02T18:44:03.275545",
     "exception": false,
     "start_time": "2020-12-02T18:44:03.237777",
     "status": "completed"
    },
    "tags": []
   },
   "outputs": [],
   "source": [
    "assert not data.isna().any().any()"
   ]
  },
  {
   "cell_type": "markdown",
   "metadata": {
    "papermill": {
     "duration": 0.023336,
     "end_time": "2020-12-02T18:44:03.323050",
     "exception": false,
     "start_time": "2020-12-02T18:44:03.299714",
     "status": "completed"
    },
    "tags": []
   },
   "source": [
    "# Clustering"
   ]
  },
  {
   "cell_type": "markdown",
   "metadata": {
    "papermill": {
     "duration": 0.022785,
     "end_time": "2020-12-02T18:44:03.368779",
     "exception": false,
     "start_time": "2020-12-02T18:44:03.345994",
     "status": "completed"
    },
    "tags": []
   },
   "source": [
    "## Generate ensemble"
   ]
  },
  {
   "cell_type": "code",
   "execution_count": 22,
   "metadata": {
    "execution": {
     "iopub.execute_input": "2020-12-02T18:44:03.417045Z",
     "iopub.status.busy": "2020-12-02T18:44:03.416610Z",
     "iopub.status.idle": "2020-12-02T18:44:03.430961Z",
     "shell.execute_reply": "2020-12-02T18:44:03.430637Z"
    },
    "papermill": {
     "duration": 0.039536,
     "end_time": "2020-12-02T18:44:03.431048",
     "exception": false,
     "start_time": "2020-12-02T18:44:03.391512",
     "status": "completed"
    },
    "tags": []
   },
   "outputs": [],
   "source": [
    "from clustering.ensemble import generate_ensemble"
   ]
  },
  {
   "cell_type": "code",
   "execution_count": 23,
   "metadata": {
    "execution": {
     "iopub.execute_input": "2020-12-02T18:44:03.479803Z",
     "iopub.status.busy": "2020-12-02T18:44:03.479439Z",
     "iopub.status.idle": "2020-12-02T18:49:55.670919Z",
     "shell.execute_reply": "2020-12-02T18:49:55.670542Z"
    },
    "papermill": {
     "duration": 352.216708,
     "end_time": "2020-12-02T18:49:55.671008",
     "exception": false,
     "start_time": "2020-12-02T18:44:03.454300",
     "status": "completed"
    },
    "tags": []
   },
   "outputs": [
    {
     "name": "stderr",
     "output_type": "stream",
     "text": [
      "100%|██████████| 295/295 [05:52<00:00,  1.19s/it]\n"
     ]
    }
   ],
   "source": [
    "ensemble = generate_ensemble(\n",
    "    data,\n",
    "    CLUSTERERS,\n",
    "    attributes=CLUSTERING_ATTRIBUTES_TO_SAVE,\n",
    ")"
   ]
  },
  {
   "cell_type": "code",
   "execution_count": 24,
   "metadata": {
    "execution": {
     "iopub.execute_input": "2020-12-02T18:49:55.812207Z",
     "iopub.status.busy": "2020-12-02T18:49:55.811836Z",
     "iopub.status.idle": "2020-12-02T18:49:55.824844Z",
     "shell.execute_reply": "2020-12-02T18:49:55.824439Z"
    },
    "papermill": {
     "duration": 0.084385,
     "end_time": "2020-12-02T18:49:55.824934",
     "exception": false,
     "start_time": "2020-12-02T18:49:55.740549",
     "status": "completed"
    },
    "tags": []
   },
   "outputs": [
    {
     "data": {
      "text/plain": [
       "(295, 3)"
      ]
     },
     "execution_count": 24,
     "metadata": {},
     "output_type": "execute_result"
    }
   ],
   "source": [
    "# the number should be close to 295 (the number of partitions generated by k-means/spectral clustering)\n",
    "ensemble.shape"
   ]
  },
  {
   "cell_type": "code",
   "execution_count": 25,
   "metadata": {
    "execution": {
     "iopub.execute_input": "2020-12-02T18:49:55.971946Z",
     "iopub.status.busy": "2020-12-02T18:49:55.971576Z",
     "iopub.status.idle": "2020-12-02T18:49:55.991493Z",
     "shell.execute_reply": "2020-12-02T18:49:55.991116Z"
    },
    "papermill": {
     "duration": 0.095265,
     "end_time": "2020-12-02T18:49:55.991583",
     "exception": false,
     "start_time": "2020-12-02T18:49:55.896318",
     "status": "completed"
    },
    "tags": []
   },
   "outputs": [
    {
     "data": {
      "text/html": [
       "<div>\n",
       "<style scoped>\n",
       "    .dataframe tbody tr th:only-of-type {\n",
       "        vertical-align: middle;\n",
       "    }\n",
       "\n",
       "    .dataframe tbody tr th {\n",
       "        vertical-align: top;\n",
       "    }\n",
       "\n",
       "    .dataframe thead th {\n",
       "        text-align: right;\n",
       "    }\n",
       "</style>\n",
       "<table border=\"1\" class=\"dataframe\">\n",
       "  <thead>\n",
       "    <tr style=\"text-align: right;\">\n",
       "      <th></th>\n",
       "      <th>clusterer_params</th>\n",
       "      <th>partition</th>\n",
       "      <th>n_clusters</th>\n",
       "    </tr>\n",
       "    <tr>\n",
       "      <th>clusterer_id</th>\n",
       "      <th></th>\n",
       "      <th></th>\n",
       "      <th></th>\n",
       "    </tr>\n",
       "  </thead>\n",
       "  <tbody>\n",
       "    <tr>\n",
       "      <th>KMeans #0</th>\n",
       "      <td>{'algorithm': 'auto', 'copy_x': True, 'init': ...</td>\n",
       "      <td>[0.0, 0.0, 0.0, 0.0, 0.0, 0.0, 0.0, 0.0, 0.0, ...</td>\n",
       "      <td>2</td>\n",
       "    </tr>\n",
       "    <tr>\n",
       "      <th>KMeans #1</th>\n",
       "      <td>{'algorithm': 'auto', 'copy_x': True, 'init': ...</td>\n",
       "      <td>[0.0, 0.0, 0.0, 0.0, 0.0, 0.0, 0.0, 0.0, 0.0, ...</td>\n",
       "      <td>2</td>\n",
       "    </tr>\n",
       "    <tr>\n",
       "      <th>KMeans #2</th>\n",
       "      <td>{'algorithm': 'auto', 'copy_x': True, 'init': ...</td>\n",
       "      <td>[0.0, 0.0, 0.0, 0.0, 0.0, 0.0, 0.0, 0.0, 0.0, ...</td>\n",
       "      <td>2</td>\n",
       "    </tr>\n",
       "    <tr>\n",
       "      <th>KMeans #3</th>\n",
       "      <td>{'algorithm': 'auto', 'copy_x': True, 'init': ...</td>\n",
       "      <td>[0.0, 0.0, 0.0, 0.0, 0.0, 0.0, 0.0, 0.0, 0.0, ...</td>\n",
       "      <td>2</td>\n",
       "    </tr>\n",
       "    <tr>\n",
       "      <th>KMeans #4</th>\n",
       "      <td>{'algorithm': 'auto', 'copy_x': True, 'init': ...</td>\n",
       "      <td>[1.0, 1.0, 1.0, 1.0, 1.0, 1.0, 1.0, 1.0, 1.0, ...</td>\n",
       "      <td>2</td>\n",
       "    </tr>\n",
       "  </tbody>\n",
       "</table>\n",
       "</div>"
      ],
      "text/plain": [
       "                                               clusterer_params  \\\n",
       "clusterer_id                                                      \n",
       "KMeans #0     {'algorithm': 'auto', 'copy_x': True, 'init': ...   \n",
       "KMeans #1     {'algorithm': 'auto', 'copy_x': True, 'init': ...   \n",
       "KMeans #2     {'algorithm': 'auto', 'copy_x': True, 'init': ...   \n",
       "KMeans #3     {'algorithm': 'auto', 'copy_x': True, 'init': ...   \n",
       "KMeans #4     {'algorithm': 'auto', 'copy_x': True, 'init': ...   \n",
       "\n",
       "                                                      partition  n_clusters  \n",
       "clusterer_id                                                                 \n",
       "KMeans #0     [0.0, 0.0, 0.0, 0.0, 0.0, 0.0, 0.0, 0.0, 0.0, ...           2  \n",
       "KMeans #1     [0.0, 0.0, 0.0, 0.0, 0.0, 0.0, 0.0, 0.0, 0.0, ...           2  \n",
       "KMeans #2     [0.0, 0.0, 0.0, 0.0, 0.0, 0.0, 0.0, 0.0, 0.0, ...           2  \n",
       "KMeans #3     [0.0, 0.0, 0.0, 0.0, 0.0, 0.0, 0.0, 0.0, 0.0, ...           2  \n",
       "KMeans #4     [1.0, 1.0, 1.0, 1.0, 1.0, 1.0, 1.0, 1.0, 1.0, ...           2  "
      ]
     },
     "execution_count": 25,
     "metadata": {},
     "output_type": "execute_result"
    }
   ],
   "source": [
    "ensemble.head()"
   ]
  },
  {
   "cell_type": "code",
   "execution_count": 26,
   "metadata": {
    "execution": {
     "iopub.execute_input": "2020-12-02T18:49:56.135888Z",
     "iopub.status.busy": "2020-12-02T18:49:56.135512Z",
     "iopub.status.idle": "2020-12-02T18:49:56.149943Z",
     "shell.execute_reply": "2020-12-02T18:49:56.149561Z"
    },
    "papermill": {
     "duration": 0.087114,
     "end_time": "2020-12-02T18:49:56.150031",
     "exception": false,
     "start_time": "2020-12-02T18:49:56.062917",
     "status": "completed"
    },
    "tags": []
   },
   "outputs": [
    {
     "data": {
      "text/plain": [
       "60    5\n",
       "16    5\n",
       "28    5\n",
       "27    5\n",
       "26    5\n",
       "Name: n_clusters, dtype: int64"
      ]
     },
     "execution_count": 26,
     "metadata": {},
     "output_type": "execute_result"
    }
   ],
   "source": [
    "ensemble[\"n_clusters\"].value_counts().head()"
   ]
  },
  {
   "cell_type": "code",
   "execution_count": 27,
   "metadata": {
    "execution": {
     "iopub.execute_input": "2020-12-02T18:49:56.293267Z",
     "iopub.status.busy": "2020-12-02T18:49:56.292896Z",
     "iopub.status.idle": "2020-12-02T18:49:56.307317Z",
     "shell.execute_reply": "2020-12-02T18:49:56.307635Z"
    },
    "papermill": {
     "duration": 0.087293,
     "end_time": "2020-12-02T18:49:56.307746",
     "exception": false,
     "start_time": "2020-12-02T18:49:56.220453",
     "status": "completed"
    },
    "tags": []
   },
   "outputs": [
    {
     "data": {
      "text/plain": [
       "count    295.000000\n",
       "mean      31.000000\n",
       "std       17.058323\n",
       "min        2.000000\n",
       "25%       16.000000\n",
       "50%       31.000000\n",
       "75%       46.000000\n",
       "max       60.000000\n",
       "Name: n_clusters, dtype: float64"
      ]
     },
     "metadata": {},
     "output_type": "display_data"
    }
   ],
   "source": [
    "ensemble_stats = ensemble[\"n_clusters\"].describe()\n",
    "display(ensemble_stats)"
   ]
  },
  {
   "cell_type": "markdown",
   "metadata": {
    "papermill": {
     "duration": 0.069676,
     "end_time": "2020-12-02T18:49:56.448660",
     "exception": false,
     "start_time": "2020-12-02T18:49:56.378984",
     "status": "completed"
    },
    "tags": []
   },
   "source": [
    "## Testing"
   ]
  },
  {
   "cell_type": "code",
   "execution_count": 28,
   "metadata": {
    "execution": {
     "iopub.execute_input": "2020-12-02T18:49:56.592063Z",
     "iopub.status.busy": "2020-12-02T18:49:56.591696Z",
     "iopub.status.idle": "2020-12-02T18:49:56.604674Z",
     "shell.execute_reply": "2020-12-02T18:49:56.604312Z"
    },
    "papermill": {
     "duration": 0.085961,
     "end_time": "2020-12-02T18:49:56.604792",
     "exception": false,
     "start_time": "2020-12-02T18:49:56.518831",
     "status": "completed"
    },
    "tags": []
   },
   "outputs": [],
   "source": [
    "assert ensemble_stats[\"min\"] > 1"
   ]
  },
  {
   "cell_type": "code",
   "execution_count": 29,
   "metadata": {
    "execution": {
     "iopub.execute_input": "2020-12-02T18:49:56.748382Z",
     "iopub.status.busy": "2020-12-02T18:49:56.748008Z",
     "iopub.status.idle": "2020-12-02T18:49:56.759906Z",
     "shell.execute_reply": "2020-12-02T18:49:56.759514Z"
    },
    "papermill": {
     "duration": 0.084809,
     "end_time": "2020-12-02T18:49:56.759997",
     "exception": false,
     "start_time": "2020-12-02T18:49:56.675188",
     "status": "completed"
    },
    "tags": []
   },
   "outputs": [],
   "source": [
    "assert not ensemble[\"n_clusters\"].isna().any()"
   ]
  },
  {
   "cell_type": "code",
   "execution_count": 30,
   "metadata": {
    "execution": {
     "iopub.execute_input": "2020-12-02T18:49:56.905251Z",
     "iopub.status.busy": "2020-12-02T18:49:56.904880Z",
     "iopub.status.idle": "2020-12-02T18:49:56.922026Z",
     "shell.execute_reply": "2020-12-02T18:49:56.921634Z"
    },
    "papermill": {
     "duration": 0.089788,
     "end_time": "2020-12-02T18:49:56.922118",
     "exception": false,
     "start_time": "2020-12-02T18:49:56.832330",
     "status": "completed"
    },
    "tags": []
   },
   "outputs": [],
   "source": [
    "assert ensemble.shape[0] == len(CLUSTERERS)"
   ]
  },
  {
   "cell_type": "code",
   "execution_count": 31,
   "metadata": {
    "execution": {
     "iopub.execute_input": "2020-12-02T18:49:57.067633Z",
     "iopub.status.busy": "2020-12-02T18:49:57.067264Z",
     "iopub.status.idle": "2020-12-02T18:49:57.096661Z",
     "shell.execute_reply": "2020-12-02T18:49:57.096272Z"
    },
    "papermill": {
     "duration": 0.102423,
     "end_time": "2020-12-02T18:49:57.096774",
     "exception": false,
     "start_time": "2020-12-02T18:49:56.994351",
     "status": "completed"
    },
    "tags": []
   },
   "outputs": [],
   "source": [
    "# all partitions have the right size\n",
    "assert np.all(\n",
    "    [part[\"partition\"].shape[0] == data.shape[0] for idx, part in ensemble.iterrows()]\n",
    ")"
   ]
  },
  {
   "cell_type": "code",
   "execution_count": 32,
   "metadata": {
    "execution": {
     "iopub.execute_input": "2020-12-02T18:49:57.241105Z",
     "iopub.status.busy": "2020-12-02T18:49:57.240684Z",
     "iopub.status.idle": "2020-12-02T18:49:57.273561Z",
     "shell.execute_reply": "2020-12-02T18:49:57.273189Z"
    },
    "papermill": {
     "duration": 0.105329,
     "end_time": "2020-12-02T18:49:57.273648",
     "exception": false,
     "start_time": "2020-12-02T18:49:57.168319",
     "status": "completed"
    },
    "tags": []
   },
   "outputs": [],
   "source": [
    "# no partition has negative clusters (noisy points)\n",
    "assert not np.any([(part[\"partition\"] < 0).any() for idx, part in ensemble.iterrows()])"
   ]
  },
  {
   "cell_type": "markdown",
   "metadata": {
    "papermill": {
     "duration": 0.069854,
     "end_time": "2020-12-02T18:49:57.414383",
     "exception": false,
     "start_time": "2020-12-02T18:49:57.344529",
     "status": "completed"
    },
    "tags": []
   },
   "source": [
    "## Save"
   ]
  },
  {
   "cell_type": "code",
   "execution_count": 33,
   "metadata": {
    "execution": {
     "iopub.execute_input": "2020-12-02T18:49:57.559106Z",
     "iopub.status.busy": "2020-12-02T18:49:57.558734Z",
     "iopub.status.idle": "2020-12-02T18:49:57.571646Z",
     "shell.execute_reply": "2020-12-02T18:49:57.571277Z"
    },
    "papermill": {
     "duration": 0.086382,
     "end_time": "2020-12-02T18:49:57.571735",
     "exception": false,
     "start_time": "2020-12-02T18:49:57.485353",
     "status": "completed"
    },
    "tags": []
   },
   "outputs": [
    {
     "data": {
      "text/plain": [
       "PosixPath('/home/miltondp/projects/labs/greenelab/phenoplier/base/results/clustering/runs/pca-z_score_std-projection-smultixcan-efo_partial-mashr-zscores/KMeans-KMEANS_N_INIT_10-K_MAX_60-K_MIN_2-N_REPS_PER_K_5.pkl')"
      ]
     },
     "metadata": {},
     "output_type": "display_data"
    }
   ],
   "source": [
    "output_filename = Path(\n",
    "    RESULTS_DIR,\n",
    "    generate_result_set_name(\n",
    "        CLUSTERING_OPTIONS,\n",
    "        prefix=f\"{clustering_method_name}-\",\n",
    "        suffix=\".pkl\",\n",
    "    ),\n",
    ").resolve()\n",
    "display(output_filename)"
   ]
  },
  {
   "cell_type": "code",
   "execution_count": 34,
   "metadata": {
    "execution": {
     "iopub.execute_input": "2020-12-02T18:49:57.717574Z",
     "iopub.status.busy": "2020-12-02T18:49:57.717194Z",
     "iopub.status.idle": "2020-12-02T18:49:57.740683Z",
     "shell.execute_reply": "2020-12-02T18:49:57.740990Z"
    },
    "papermill": {
     "duration": 0.097078,
     "end_time": "2020-12-02T18:49:57.741110",
     "exception": false,
     "start_time": "2020-12-02T18:49:57.644032",
     "status": "completed"
    },
    "tags": []
   },
   "outputs": [],
   "source": [
    "ensemble.to_pickle(output_filename)"
   ]
  },
  {
   "cell_type": "markdown",
   "metadata": {
    "papermill": {
     "duration": 0.071857,
     "end_time": "2020-12-02T18:49:57.885018",
     "exception": false,
     "start_time": "2020-12-02T18:49:57.813161",
     "status": "completed"
    },
    "tags": []
   },
   "source": [
    "# Stability"
   ]
  },
  {
   "cell_type": "markdown",
   "metadata": {
    "papermill": {
     "duration": 0.073026,
     "end_time": "2020-12-02T18:49:58.031352",
     "exception": false,
     "start_time": "2020-12-02T18:49:57.958326",
     "status": "completed"
    },
    "tags": []
   },
   "source": [
    "## Group ensemble by n_clusters"
   ]
  },
  {
   "cell_type": "code",
   "execution_count": 35,
   "metadata": {
    "execution": {
     "iopub.execute_input": "2020-12-02T18:49:58.177370Z",
     "iopub.status.busy": "2020-12-02T18:49:58.176989Z",
     "iopub.status.idle": "2020-12-02T18:49:58.205444Z",
     "shell.execute_reply": "2020-12-02T18:49:58.205054Z"
    },
    "papermill": {
     "duration": 0.102501,
     "end_time": "2020-12-02T18:49:58.205548",
     "exception": false,
     "start_time": "2020-12-02T18:49:58.103047",
     "status": "completed"
    },
    "tags": []
   },
   "outputs": [],
   "source": [
    "parts = ensemble.groupby(\"n_clusters\").apply(\n",
    "    lambda x: np.concatenate(x[\"partition\"].apply(lambda x: x.reshape(1, -1)), axis=0)\n",
    ")"
   ]
  },
  {
   "cell_type": "code",
   "execution_count": 36,
   "metadata": {
    "execution": {
     "iopub.execute_input": "2020-12-02T18:49:58.351266Z",
     "iopub.status.busy": "2020-12-02T18:49:58.350899Z",
     "iopub.status.idle": "2020-12-02T18:49:58.375105Z",
     "shell.execute_reply": "2020-12-02T18:49:58.374724Z"
    },
    "papermill": {
     "duration": 0.098028,
     "end_time": "2020-12-02T18:49:58.375195",
     "exception": false,
     "start_time": "2020-12-02T18:49:58.277167",
     "status": "completed"
    },
    "tags": []
   },
   "outputs": [
    {
     "data": {
      "text/plain": [
       "n_clusters\n",
       "2    [[0.0, 0.0, 0.0, 0.0, 0.0, 0.0, 0.0, 0.0, 0.0,...\n",
       "3    [[1.0, 1.0, 1.0, 1.0, 1.0, 1.0, 1.0, 1.0, 1.0,...\n",
       "4    [[1.0, 1.0, 1.0, 1.0, 1.0, 1.0, 1.0, 1.0, 1.0,...\n",
       "5    [[0.0, 0.0, 0.0, 0.0, 0.0, 0.0, 0.0, 0.0, 0.0,...\n",
       "6    [[1.0, 1.0, 1.0, 1.0, 1.0, 1.0, 1.0, 1.0, 1.0,...\n",
       "dtype: object"
      ]
     },
     "execution_count": 36,
     "metadata": {},
     "output_type": "execute_result"
    }
   ],
   "source": [
    "parts.head()"
   ]
  },
  {
   "cell_type": "code",
   "execution_count": 37,
   "metadata": {
    "execution": {
     "iopub.execute_input": "2020-12-02T18:49:58.521218Z",
     "iopub.status.busy": "2020-12-02T18:49:58.520846Z",
     "iopub.status.idle": "2020-12-02T18:49:58.533420Z",
     "shell.execute_reply": "2020-12-02T18:49:58.533086Z"
    },
    "papermill": {
     "duration": 0.086388,
     "end_time": "2020-12-02T18:49:58.533513",
     "exception": false,
     "start_time": "2020-12-02T18:49:58.447125",
     "status": "completed"
    },
    "tags": []
   },
   "outputs": [],
   "source": [
    "assert np.all(\n",
    "    [\n",
    "        parts.loc[k].shape == (CLUSTERING_OPTIONS[\"N_REPS_PER_K\"], data.shape[0])\n",
    "        for k in parts.index\n",
    "    ]\n",
    ")"
   ]
  },
  {
   "cell_type": "markdown",
   "metadata": {
    "papermill": {
     "duration": 0.070928,
     "end_time": "2020-12-02T18:49:58.677810",
     "exception": false,
     "start_time": "2020-12-02T18:49:58.606882",
     "status": "completed"
    },
    "tags": []
   },
   "source": [
    "## Compute stability"
   ]
  },
  {
   "cell_type": "code",
   "execution_count": 38,
   "metadata": {
    "execution": {
     "iopub.execute_input": "2020-12-02T18:49:58.821414Z",
     "iopub.status.busy": "2020-12-02T18:49:58.821045Z",
     "iopub.status.idle": "2020-12-02T18:49:58.833103Z",
     "shell.execute_reply": "2020-12-02T18:49:58.832717Z"
    },
    "papermill": {
     "duration": 0.084959,
     "end_time": "2020-12-02T18:49:58.833190",
     "exception": false,
     "start_time": "2020-12-02T18:49:58.748231",
     "status": "completed"
    },
    "tags": []
   },
   "outputs": [],
   "source": [
    "from sklearn.metrics import adjusted_rand_score as ari\n",
    "from scipy.spatial.distance import squareform, pdist"
   ]
  },
  {
   "cell_type": "code",
   "execution_count": 39,
   "metadata": {
    "execution": {
     "iopub.execute_input": "2020-12-02T18:49:58.982120Z",
     "iopub.status.busy": "2020-12-02T18:49:58.981754Z",
     "iopub.status.idle": "2020-12-02T18:49:59.611371Z",
     "shell.execute_reply": "2020-12-02T18:49:59.610989Z"
    },
    "papermill": {
     "duration": 0.706572,
     "end_time": "2020-12-02T18:49:59.611460",
     "exception": false,
     "start_time": "2020-12-02T18:49:58.904888",
     "status": "completed"
    },
    "tags": []
   },
   "outputs": [],
   "source": [
    "parts_ari = pd.Series(\n",
    "    {k: pdist(parts.loc[k], metric=ari) for k in parts.index}, name=\"k\"\n",
    ")"
   ]
  },
  {
   "cell_type": "code",
   "execution_count": 40,
   "metadata": {
    "execution": {
     "iopub.execute_input": "2020-12-02T18:49:59.756969Z",
     "iopub.status.busy": "2020-12-02T18:49:59.756556Z",
     "iopub.status.idle": "2020-12-02T18:49:59.770839Z",
     "shell.execute_reply": "2020-12-02T18:49:59.770504Z"
    },
    "papermill": {
     "duration": 0.088132,
     "end_time": "2020-12-02T18:49:59.770925",
     "exception": false,
     "start_time": "2020-12-02T18:49:59.682793",
     "status": "completed"
    },
    "tags": []
   },
   "outputs": [
    {
     "data": {
      "text/plain": [
       "2     1.000000\n",
       "4     0.998132\n",
       "3     0.993598\n",
       "5     0.983751\n",
       "6     0.969448\n",
       "7     0.963893\n",
       "9     0.937197\n",
       "10    0.923767\n",
       "11    0.913798\n",
       "8     0.854730\n",
       "13    0.842554\n",
       "16    0.828863\n",
       "14    0.653496\n",
       "12    0.607263\n",
       "15    0.510900\n",
       "Name: k, dtype: float64"
      ]
     },
     "metadata": {},
     "output_type": "display_data"
    }
   ],
   "source": [
    "parts_ari_stability = parts_ari.apply(lambda x: x.mean())\n",
    "display(parts_ari_stability.sort_values(ascending=False).head(15))"
   ]
  },
  {
   "cell_type": "code",
   "execution_count": 41,
   "metadata": {
    "execution": {
     "iopub.execute_input": "2020-12-02T18:49:59.916193Z",
     "iopub.status.busy": "2020-12-02T18:49:59.915826Z",
     "iopub.status.idle": "2020-12-02T18:49:59.930674Z",
     "shell.execute_reply": "2020-12-02T18:49:59.930969Z"
    },
    "papermill": {
     "duration": 0.088741,
     "end_time": "2020-12-02T18:49:59.931085",
     "exception": false,
     "start_time": "2020-12-02T18:49:59.842344",
     "status": "completed"
    },
    "tags": []
   },
   "outputs": [],
   "source": [
    "parts_ari_df = pd.DataFrame.from_records(parts_ari.tolist()).set_index(\n",
    "    parts_ari.index.copy()\n",
    ")"
   ]
  },
  {
   "cell_type": "code",
   "execution_count": 42,
   "metadata": {
    "execution": {
     "iopub.execute_input": "2020-12-02T18:50:00.078105Z",
     "iopub.status.busy": "2020-12-02T18:50:00.077734Z",
     "iopub.status.idle": "2020-12-02T18:50:00.090715Z",
     "shell.execute_reply": "2020-12-02T18:50:00.090307Z"
    },
    "papermill": {
     "duration": 0.086709,
     "end_time": "2020-12-02T18:50:00.090807",
     "exception": false,
     "start_time": "2020-12-02T18:50:00.004098",
     "status": "completed"
    },
    "tags": []
   },
   "outputs": [
    {
     "data": {
      "text/plain": [
       "(59, 10)"
      ]
     },
     "execution_count": 42,
     "metadata": {},
     "output_type": "execute_result"
    }
   ],
   "source": [
    "parts_ari_df.shape"
   ]
  },
  {
   "cell_type": "code",
   "execution_count": 43,
   "metadata": {
    "execution": {
     "iopub.execute_input": "2020-12-02T18:50:00.237445Z",
     "iopub.status.busy": "2020-12-02T18:50:00.237075Z",
     "iopub.status.idle": "2020-12-02T18:50:00.249528Z",
     "shell.execute_reply": "2020-12-02T18:50:00.249154Z"
    },
    "papermill": {
     "duration": 0.086538,
     "end_time": "2020-12-02T18:50:00.249615",
     "exception": false,
     "start_time": "2020-12-02T18:50:00.163077",
     "status": "completed"
    },
    "tags": []
   },
   "outputs": [],
   "source": [
    "assert (\n",
    "    int(\n",
    "        (CLUSTERING_OPTIONS[\"N_REPS_PER_K\"] * (CLUSTERING_OPTIONS[\"N_REPS_PER_K\"] - 1))\n",
    "        / 2\n",
    "    )\n",
    "    == parts_ari_df.shape[1]\n",
    ")"
   ]
  },
  {
   "cell_type": "code",
   "execution_count": 44,
   "metadata": {
    "execution": {
     "iopub.execute_input": "2020-12-02T18:50:00.395164Z",
     "iopub.status.busy": "2020-12-02T18:50:00.394801Z",
     "iopub.status.idle": "2020-12-02T18:50:00.412561Z",
     "shell.execute_reply": "2020-12-02T18:50:00.412880Z"
    },
    "papermill": {
     "duration": 0.091877,
     "end_time": "2020-12-02T18:50:00.412992",
     "exception": false,
     "start_time": "2020-12-02T18:50:00.321115",
     "status": "completed"
    },
    "tags": []
   },
   "outputs": [
    {
     "data": {
      "text/html": [
       "<div>\n",
       "<style scoped>\n",
       "    .dataframe tbody tr th:only-of-type {\n",
       "        vertical-align: middle;\n",
       "    }\n",
       "\n",
       "    .dataframe tbody tr th {\n",
       "        vertical-align: top;\n",
       "    }\n",
       "\n",
       "    .dataframe thead th {\n",
       "        text-align: right;\n",
       "    }\n",
       "</style>\n",
       "<table border=\"1\" class=\"dataframe\">\n",
       "  <thead>\n",
       "    <tr style=\"text-align: right;\">\n",
       "      <th></th>\n",
       "      <th>0</th>\n",
       "      <th>1</th>\n",
       "      <th>2</th>\n",
       "      <th>3</th>\n",
       "      <th>4</th>\n",
       "      <th>5</th>\n",
       "      <th>6</th>\n",
       "      <th>7</th>\n",
       "      <th>8</th>\n",
       "      <th>9</th>\n",
       "    </tr>\n",
       "  </thead>\n",
       "  <tbody>\n",
       "    <tr>\n",
       "      <th>2</th>\n",
       "      <td>1.000000</td>\n",
       "      <td>1.000000</td>\n",
       "      <td>1.000000</td>\n",
       "      <td>1.000000</td>\n",
       "      <td>1.000000</td>\n",
       "      <td>1.00000</td>\n",
       "      <td>1.000000</td>\n",
       "      <td>1.000000</td>\n",
       "      <td>1.000000</td>\n",
       "      <td>1.000000</td>\n",
       "    </tr>\n",
       "    <tr>\n",
       "      <th>3</th>\n",
       "      <td>0.989330</td>\n",
       "      <td>1.000000</td>\n",
       "      <td>1.000000</td>\n",
       "      <td>0.989330</td>\n",
       "      <td>0.989330</td>\n",
       "      <td>0.98933</td>\n",
       "      <td>1.000000</td>\n",
       "      <td>1.000000</td>\n",
       "      <td>0.989330</td>\n",
       "      <td>0.989330</td>\n",
       "    </tr>\n",
       "    <tr>\n",
       "      <th>4</th>\n",
       "      <td>1.000000</td>\n",
       "      <td>0.997001</td>\n",
       "      <td>1.000000</td>\n",
       "      <td>0.996829</td>\n",
       "      <td>0.997001</td>\n",
       "      <td>1.00000</td>\n",
       "      <td>0.996829</td>\n",
       "      <td>0.997001</td>\n",
       "      <td>0.999826</td>\n",
       "      <td>0.996829</td>\n",
       "    </tr>\n",
       "    <tr>\n",
       "      <th>5</th>\n",
       "      <td>0.999967</td>\n",
       "      <td>0.965204</td>\n",
       "      <td>0.999967</td>\n",
       "      <td>0.988705</td>\n",
       "      <td>0.965179</td>\n",
       "      <td>1.00000</td>\n",
       "      <td>0.988698</td>\n",
       "      <td>0.965179</td>\n",
       "      <td>0.975909</td>\n",
       "      <td>0.988698</td>\n",
       "    </tr>\n",
       "    <tr>\n",
       "      <th>6</th>\n",
       "      <td>0.928658</td>\n",
       "      <td>0.926795</td>\n",
       "      <td>0.932134</td>\n",
       "      <td>0.932060</td>\n",
       "      <td>0.997446</td>\n",
       "      <td>0.99461</td>\n",
       "      <td>0.994498</td>\n",
       "      <td>0.994140</td>\n",
       "      <td>0.994251</td>\n",
       "      <td>0.999888</td>\n",
       "    </tr>\n",
       "  </tbody>\n",
       "</table>\n",
       "</div>"
      ],
      "text/plain": [
       "          0         1         2         3         4        5         6  \\\n",
       "2  1.000000  1.000000  1.000000  1.000000  1.000000  1.00000  1.000000   \n",
       "3  0.989330  1.000000  1.000000  0.989330  0.989330  0.98933  1.000000   \n",
       "4  1.000000  0.997001  1.000000  0.996829  0.997001  1.00000  0.996829   \n",
       "5  0.999967  0.965204  0.999967  0.988705  0.965179  1.00000  0.988698   \n",
       "6  0.928658  0.926795  0.932134  0.932060  0.997446  0.99461  0.994498   \n",
       "\n",
       "          7         8         9  \n",
       "2  1.000000  1.000000  1.000000  \n",
       "3  1.000000  0.989330  0.989330  \n",
       "4  0.997001  0.999826  0.996829  \n",
       "5  0.965179  0.975909  0.988698  \n",
       "6  0.994140  0.994251  0.999888  "
      ]
     },
     "execution_count": 44,
     "metadata": {},
     "output_type": "execute_result"
    }
   ],
   "source": [
    "parts_ari_df.head()"
   ]
  },
  {
   "cell_type": "markdown",
   "metadata": {
    "papermill": {
     "duration": 0.071426,
     "end_time": "2020-12-02T18:50:00.556560",
     "exception": false,
     "start_time": "2020-12-02T18:50:00.485134",
     "status": "completed"
    },
    "tags": []
   },
   "source": [
    "## Save"
   ]
  },
  {
   "cell_type": "code",
   "execution_count": 45,
   "metadata": {
    "execution": {
     "iopub.execute_input": "2020-12-02T18:50:00.703601Z",
     "iopub.status.busy": "2020-12-02T18:50:00.703222Z",
     "iopub.status.idle": "2020-12-02T18:50:00.716316Z",
     "shell.execute_reply": "2020-12-02T18:50:00.715940Z"
    },
    "papermill": {
     "duration": 0.087135,
     "end_time": "2020-12-02T18:50:00.716403",
     "exception": false,
     "start_time": "2020-12-02T18:50:00.629268",
     "status": "completed"
    },
    "tags": []
   },
   "outputs": [
    {
     "data": {
      "text/plain": [
       "PosixPath('/home/miltondp/projects/labs/greenelab/phenoplier/base/results/clustering/runs/pca-z_score_std-projection-smultixcan-efo_partial-mashr-zscores/KMeans-stability-KMEANS_N_INIT_10-K_MAX_60-K_MIN_2-N_REPS_PER_K_5.pkl')"
      ]
     },
     "metadata": {},
     "output_type": "display_data"
    }
   ],
   "source": [
    "output_filename = Path(\n",
    "    RESULTS_DIR,\n",
    "    generate_result_set_name(\n",
    "        CLUSTERING_OPTIONS,\n",
    "        prefix=f\"{clustering_method_name}-stability-\",\n",
    "        suffix=\".pkl\",\n",
    "    ),\n",
    ").resolve()\n",
    "display(output_filename)"
   ]
  },
  {
   "cell_type": "code",
   "execution_count": 46,
   "metadata": {
    "execution": {
     "iopub.execute_input": "2020-12-02T18:50:00.863728Z",
     "iopub.status.busy": "2020-12-02T18:50:00.863363Z",
     "iopub.status.idle": "2020-12-02T18:50:00.875970Z",
     "shell.execute_reply": "2020-12-02T18:50:00.875594Z"
    },
    "papermill": {
     "duration": 0.086837,
     "end_time": "2020-12-02T18:50:00.876058",
     "exception": false,
     "start_time": "2020-12-02T18:50:00.789221",
     "status": "completed"
    },
    "tags": []
   },
   "outputs": [],
   "source": [
    "parts_ari_df.to_pickle(output_filename)"
   ]
  },
  {
   "cell_type": "markdown",
   "metadata": {
    "papermill": {
     "duration": 0.072722,
     "end_time": "2020-12-02T18:50:01.024911",
     "exception": false,
     "start_time": "2020-12-02T18:50:00.952189",
     "status": "completed"
    },
    "tags": []
   },
   "source": [
    "## Stability plot"
   ]
  },
  {
   "cell_type": "code",
   "execution_count": 47,
   "metadata": {
    "execution": {
     "iopub.execute_input": "2020-12-02T18:50:01.172109Z",
     "iopub.status.busy": "2020-12-02T18:50:01.171747Z",
     "iopub.status.idle": "2020-12-02T18:50:01.185432Z",
     "shell.execute_reply": "2020-12-02T18:50:01.185055Z"
    },
    "papermill": {
     "duration": 0.088727,
     "end_time": "2020-12-02T18:50:01.185534",
     "exception": false,
     "start_time": "2020-12-02T18:50:01.096807",
     "status": "completed"
    },
    "tags": []
   },
   "outputs": [],
   "source": [
    "parts_ari_df_plot = (\n",
    "    parts_ari_df.stack()\n",
    "    .reset_index()\n",
    "    .rename(columns={\"level_0\": \"k\", \"level_1\": \"idx\", 0: \"ari\"})\n",
    ")"
   ]
  },
  {
   "cell_type": "code",
   "execution_count": 48,
   "metadata": {
    "execution": {
     "iopub.execute_input": "2020-12-02T18:50:01.333272Z",
     "iopub.status.busy": "2020-12-02T18:50:01.332905Z",
     "iopub.status.idle": "2020-12-02T18:50:01.346418Z",
     "shell.execute_reply": "2020-12-02T18:50:01.346041Z"
    },
    "papermill": {
     "duration": 0.08795,
     "end_time": "2020-12-02T18:50:01.346509",
     "exception": false,
     "start_time": "2020-12-02T18:50:01.258559",
     "status": "completed"
    },
    "tags": []
   },
   "outputs": [
    {
     "data": {
      "text/plain": [
       "k        int64\n",
       "idx      int64\n",
       "ari    float64\n",
       "dtype: object"
      ]
     },
     "execution_count": 48,
     "metadata": {},
     "output_type": "execute_result"
    }
   ],
   "source": [
    "parts_ari_df_plot.dtypes"
   ]
  },
  {
   "cell_type": "code",
   "execution_count": 49,
   "metadata": {
    "execution": {
     "iopub.execute_input": "2020-12-02T18:50:01.496418Z",
     "iopub.status.busy": "2020-12-02T18:50:01.496040Z",
     "iopub.status.idle": "2020-12-02T18:50:01.511320Z",
     "shell.execute_reply": "2020-12-02T18:50:01.510942Z"
    },
    "papermill": {
     "duration": 0.091281,
     "end_time": "2020-12-02T18:50:01.511410",
     "exception": false,
     "start_time": "2020-12-02T18:50:01.420129",
     "status": "completed"
    },
    "tags": []
   },
   "outputs": [
    {
     "data": {
      "text/html": [
       "<div>\n",
       "<style scoped>\n",
       "    .dataframe tbody tr th:only-of-type {\n",
       "        vertical-align: middle;\n",
       "    }\n",
       "\n",
       "    .dataframe tbody tr th {\n",
       "        vertical-align: top;\n",
       "    }\n",
       "\n",
       "    .dataframe thead th {\n",
       "        text-align: right;\n",
       "    }\n",
       "</style>\n",
       "<table border=\"1\" class=\"dataframe\">\n",
       "  <thead>\n",
       "    <tr style=\"text-align: right;\">\n",
       "      <th></th>\n",
       "      <th>k</th>\n",
       "      <th>idx</th>\n",
       "      <th>ari</th>\n",
       "    </tr>\n",
       "  </thead>\n",
       "  <tbody>\n",
       "    <tr>\n",
       "      <th>0</th>\n",
       "      <td>2</td>\n",
       "      <td>0</td>\n",
       "      <td>1.0</td>\n",
       "    </tr>\n",
       "    <tr>\n",
       "      <th>1</th>\n",
       "      <td>2</td>\n",
       "      <td>1</td>\n",
       "      <td>1.0</td>\n",
       "    </tr>\n",
       "    <tr>\n",
       "      <th>2</th>\n",
       "      <td>2</td>\n",
       "      <td>2</td>\n",
       "      <td>1.0</td>\n",
       "    </tr>\n",
       "    <tr>\n",
       "      <th>3</th>\n",
       "      <td>2</td>\n",
       "      <td>3</td>\n",
       "      <td>1.0</td>\n",
       "    </tr>\n",
       "    <tr>\n",
       "      <th>4</th>\n",
       "      <td>2</td>\n",
       "      <td>4</td>\n",
       "      <td>1.0</td>\n",
       "    </tr>\n",
       "  </tbody>\n",
       "</table>\n",
       "</div>"
      ],
      "text/plain": [
       "   k  idx  ari\n",
       "0  2    0  1.0\n",
       "1  2    1  1.0\n",
       "2  2    2  1.0\n",
       "3  2    3  1.0\n",
       "4  2    4  1.0"
      ]
     },
     "execution_count": 49,
     "metadata": {},
     "output_type": "execute_result"
    }
   ],
   "source": [
    "parts_ari_df_plot.head()"
   ]
  },
  {
   "cell_type": "code",
   "execution_count": 50,
   "metadata": {
    "execution": {
     "iopub.execute_input": "2020-12-02T18:50:01.662539Z",
     "iopub.status.busy": "2020-12-02T18:50:01.662167Z",
     "iopub.status.idle": "2020-12-02T18:50:04.576010Z",
     "shell.execute_reply": "2020-12-02T18:50:04.575672Z"
    },
    "papermill": {
     "duration": 2.990997,
     "end_time": "2020-12-02T18:50:04.576103",
     "exception": false,
     "start_time": "2020-12-02T18:50:01.585106",
     "status": "completed"
    },
    "tags": []
   },
   "outputs": [
    {
     "data": {
      "image/png": "[encoded data removed]",
      "text/plain": [
       "<Figure size 864x432 with 1 Axes>"
      ]
     },
     "metadata": {},
     "output_type": "display_data"
    }
   ],
   "source": [
    "# with sns.axes_style('whitegrid', {'grid.linestyle': '--'}):\n",
    "with sns.plotting_context(\"talk\", font_scale=0.75), sns.axes_style(\n",
    "    \"whitegrid\", {\"grid.linestyle\": \"--\"}\n",
    "):\n",
    "    fig = plt.figure(figsize=(12, 6))\n",
    "    ax = sns.pointplot(data=parts_ari_df_plot, x=\"k\", y=\"ari\")\n",
    "    ax.set_ylabel(\"Averange ARI\")\n",
    "    ax.set_xlabel(\"Number of clusters ($k$)\")\n",
    "    ax.set_xticklabels(ax.get_xticklabels(), rotation=45)\n",
    "    #     ax.set_ylim(0.0, 1.0)\n",
    "    #     ax.set_xlim(CLUSTERING_OPTIONS['K_MIN'], CLUSTERING_OPTIONS['K_MAX'])\n",
    "    plt.grid(True)\n",
    "    plt.tight_layout()"
   ]
  },
  {
   "cell_type": "code",
   "execution_count": null,
   "metadata": {
    "papermill": {
     "duration": 0.0742,
     "end_time": "2020-12-02T18:50:04.724791",
     "exception": false,
     "start_time": "2020-12-02T18:50:04.650591",
     "status": "completed"
    },
    "tags": []
   },
   "outputs": [],
   "source": []
  }
 ],
 "metadata": {
  "jupytext": {
   "formats": "ipynb,py//py:percent"
  },
  "kernelspec": {
   "display_name": "Python 3",
   "language": "python",
   "name": "python3"
  },
  "language_info": {
   "codemirror_mode": {
    "name": "ipython",
    "version": 3
   },
   "file_extension": ".py",
   "mimetype": "text/x-python",
   "name": "python",
   "nbconvert_exporter": "python",
   "pygments_lexer": "ipython3",
   "version": "3.8.6"
  },
  "papermill": {
   "default_parameters": {},
   "duration": 365.997944,
   "end_time": "2020-12-02T18:50:05.306454",
   "environment_variables": {},
   "exception": null,
   "input_path": "15_cluster_analysis/000_01-projection_smultixcan_efo-pca-clustering_kmeans.ipynb",
   "output_path": "15_cluster_analysis/000_01-projection_smultixcan_efo-pca-clustering_kmeans.run.ipynb",
   "parameters": {},
   "start_time": "2020-12-02T18:43:59.308510",
   "version": "2.2.2"
  },
  "toc-autonumbering": true,
  "toc-showcode": false,
  "toc-showmarkdowntxt": false,
  "toc-showtags": false
 },
 "nbformat": 4,
 "nbformat_minor": 4
}
