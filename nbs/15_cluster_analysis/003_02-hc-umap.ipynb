{
 "cells": [
  {
   "cell_type": "markdown",
   "metadata": {
    "papermill": {
     "duration": 0.019267,
     "end_time": "2020-12-03T02:17:52.366294",
     "exception": false,
     "start_time": "2020-12-03T02:17:52.347027",
     "status": "completed"
    },
    "tags": []
   },
   "source": [
    "# Description"
   ]
  },
  {
   "cell_type": "markdown",
   "metadata": {
    "papermill": {
     "duration": 0.015019,
     "end_time": "2020-12-03T02:17:52.396750",
     "exception": false,
     "start_time": "2020-12-03T02:17:52.381731",
     "status": "completed"
    },
    "tags": []
   },
   "source": [
    "Runs hierarchical clustering on the umap version of the data."
   ]
  },
  {
   "cell_type": "markdown",
   "metadata": {
    "papermill": {
     "duration": 0.014975,
     "end_time": "2020-12-03T02:17:52.426692",
     "exception": false,
     "start_time": "2020-12-03T02:17:52.411717",
     "status": "completed"
    },
    "tags": []
   },
   "source": [
    "# Environment variables"
   ]
  },
  {
   "cell_type": "code",
   "execution_count": 1,
   "metadata": {
    "execution": {
     "iopub.execute_input": "2020-12-03T02:17:52.464020Z",
     "iopub.status.busy": "2020-12-03T02:17:52.463641Z",
     "iopub.status.idle": "2020-12-03T02:17:52.474743Z",
     "shell.execute_reply": "2020-12-03T02:17:52.474321Z"
    },
    "papermill": {
     "duration": 0.031777,
     "end_time": "2020-12-03T02:17:52.474863",
     "exception": false,
     "start_time": "2020-12-03T02:17:52.443086",
     "status": "completed"
    },
    "tags": []
   },
   "outputs": [
    {
     "data": {
      "text/plain": [
       "3"
      ]
     },
     "metadata": {},
     "output_type": "display_data"
    }
   ],
   "source": [
    "from IPython.display import display\n",
    "\n",
    "import conf\n",
    "\n",
    "N_JOBS = conf.GENERAL[\"N_JOBS\"]\n",
    "display(N_JOBS)"
   ]
  },
  {
   "cell_type": "code",
   "execution_count": 2,
   "metadata": {
    "execution": {
     "iopub.execute_input": "2020-12-03T02:17:52.510753Z",
     "iopub.status.busy": "2020-12-03T02:17:52.510342Z",
     "iopub.status.idle": "2020-12-03T02:17:52.513410Z",
     "shell.execute_reply": "2020-12-03T02:17:52.513081Z"
    },
    "papermill": {
     "duration": 0.022543,
     "end_time": "2020-12-03T02:17:52.513497",
     "exception": false,
     "start_time": "2020-12-03T02:17:52.490954",
     "status": "completed"
    },
    "tags": []
   },
   "outputs": [
    {
     "name": "stdout",
     "output_type": "stream",
     "text": [
      "env: MKL_NUM_THREADS=3\n",
      "env: OPEN_BLAS_NUM_THREADS=3\n",
      "env: NUMEXPR_NUM_THREADS=3\n",
      "env: OMP_NUM_THREADS=3\n"
     ]
    }
   ],
   "source": [
    "%env MKL_NUM_THREADS=$N_JOBS\n",
    "%env OPEN_BLAS_NUM_THREADS=$N_JOBS\n",
    "%env NUMEXPR_NUM_THREADS=$N_JOBS\n",
    "%env OMP_NUM_THREADS=$N_JOBS"
   ]
  },
  {
   "cell_type": "markdown",
   "metadata": {
    "papermill": {
     "duration": 0.015998,
     "end_time": "2020-12-03T02:17:52.545959",
     "exception": false,
     "start_time": "2020-12-03T02:17:52.529961",
     "status": "completed"
    },
    "tags": []
   },
   "source": [
    "# Modules loading"
   ]
  },
  {
   "cell_type": "code",
   "execution_count": 3,
   "metadata": {
    "execution": {
     "iopub.execute_input": "2020-12-03T02:17:52.581020Z",
     "iopub.status.busy": "2020-12-03T02:17:52.579982Z",
     "iopub.status.idle": "2020-12-03T02:17:52.587258Z",
     "shell.execute_reply": "2020-12-03T02:17:52.587544Z"
    },
    "papermill": {
     "duration": 0.025917,
     "end_time": "2020-12-03T02:17:52.587655",
     "exception": false,
     "start_time": "2020-12-03T02:17:52.561738",
     "status": "completed"
    },
    "tags": []
   },
   "outputs": [],
   "source": [
    "%load_ext autoreload\n",
    "%autoreload 2"
   ]
  },
  {
   "cell_type": "code",
   "execution_count": 4,
   "metadata": {
    "execution": {
     "iopub.execute_input": "2020-12-03T02:17:52.622895Z",
     "iopub.status.busy": "2020-12-03T02:17:52.622515Z",
     "iopub.status.idle": "2020-12-03T02:17:54.183867Z",
     "shell.execute_reply": "2020-12-03T02:17:54.183512Z"
    },
    "papermill": {
     "duration": 1.579861,
     "end_time": "2020-12-03T02:17:54.183969",
     "exception": false,
     "start_time": "2020-12-03T02:17:52.604108",
     "status": "completed"
    },
    "tags": []
   },
   "outputs": [],
   "source": [
    "from pathlib import Path\n",
    "\n",
    "import numpy as np\n",
    "import pandas as pd\n",
    "import umap\n",
    "import matplotlib.pyplot as plt\n",
    "import seaborn as sns\n",
    "\n",
    "from utils import generate_result_set_name"
   ]
  },
  {
   "cell_type": "markdown",
   "metadata": {
    "papermill": {
     "duration": 0.016019,
     "end_time": "2020-12-03T02:17:54.218240",
     "exception": false,
     "start_time": "2020-12-03T02:17:54.202221",
     "status": "completed"
    },
    "tags": []
   },
   "source": [
    "# Settings"
   ]
  },
  {
   "cell_type": "markdown",
   "metadata": {
    "papermill": {
     "duration": 0.015529,
     "end_time": "2020-12-03T02:17:54.249333",
     "exception": false,
     "start_time": "2020-12-03T02:17:54.233804",
     "status": "completed"
    },
    "tags": []
   },
   "source": [
    "## Input data"
   ]
  },
  {
   "cell_type": "code",
   "execution_count": 5,
   "metadata": {
    "execution": {
     "iopub.execute_input": "2020-12-03T02:17:54.283149Z",
     "iopub.status.busy": "2020-12-03T02:17:54.282787Z",
     "iopub.status.idle": "2020-12-03T02:17:54.294758Z",
     "shell.execute_reply": "2020-12-03T02:17:54.294386Z"
    },
    "papermill": {
     "duration": 0.029912,
     "end_time": "2020-12-03T02:17:54.294843",
     "exception": false,
     "start_time": "2020-12-03T02:17:54.264931",
     "status": "completed"
    },
    "tags": []
   },
   "outputs": [],
   "source": [
    "INPUT_SUBSET = \"umap\""
   ]
  },
  {
   "cell_type": "code",
   "execution_count": 6,
   "metadata": {
    "execution": {
     "iopub.execute_input": "2020-12-03T02:17:54.328535Z",
     "iopub.status.busy": "2020-12-03T02:17:54.328167Z",
     "iopub.status.idle": "2020-12-03T02:17:54.339985Z",
     "shell.execute_reply": "2020-12-03T02:17:54.339675Z"
    },
    "papermill": {
     "duration": 0.029359,
     "end_time": "2020-12-03T02:17:54.340076",
     "exception": false,
     "start_time": "2020-12-03T02:17:54.310717",
     "status": "completed"
    },
    "tags": []
   },
   "outputs": [],
   "source": [
    "INPUT_STEM = \"z_score_std-projection-smultixcan-efo_partial-mashr-zscores\""
   ]
  },
  {
   "cell_type": "code",
   "execution_count": 7,
   "metadata": {
    "execution": {
     "iopub.execute_input": "2020-12-03T02:17:54.374108Z",
     "iopub.status.busy": "2020-12-03T02:17:54.373742Z",
     "iopub.status.idle": "2020-12-03T02:17:54.385489Z",
     "shell.execute_reply": "2020-12-03T02:17:54.385157Z"
    },
    "papermill": {
     "duration": 0.029488,
     "end_time": "2020-12-03T02:17:54.385580",
     "exception": false,
     "start_time": "2020-12-03T02:17:54.356092",
     "status": "completed"
    },
    "tags": []
   },
   "outputs": [],
   "source": [
    "# parameters of the dimentionality reduction steps\n",
    "DR_OPTIONS = {\n",
    "    \"n_components\": 50,\n",
    "    \"metric\": \"euclidean\",\n",
    "    \"n_neighbors\": 15,\n",
    "    \"random_state\": 0,\n",
    "}"
   ]
  },
  {
   "cell_type": "code",
   "execution_count": 8,
   "metadata": {
    "execution": {
     "iopub.execute_input": "2020-12-03T02:17:54.420000Z",
     "iopub.status.busy": "2020-12-03T02:17:54.419633Z",
     "iopub.status.idle": "2020-12-03T02:17:54.433309Z",
     "shell.execute_reply": "2020-12-03T02:17:54.432977Z"
    },
    "papermill": {
     "duration": 0.031802,
     "end_time": "2020-12-03T02:17:54.433398",
     "exception": false,
     "start_time": "2020-12-03T02:17:54.401596",
     "status": "completed"
    },
    "tags": []
   },
   "outputs": [
    {
     "data": {
      "text/plain": [
       "PosixPath('/home/miltondp/projects/labs/greenelab/phenoplier/base/results/data_transformations/umap/umap-z_score_std-projection-smultixcan-efo_partial-mashr-zscores-metric_euclidean-n_components_50-n_neighbors_15-random_state_0.pkl')"
      ]
     },
     "metadata": {},
     "output_type": "display_data"
    },
    {
     "data": {
      "text/plain": [
       "'umap-z_score_std-projection-smultixcan-efo_partial-mashr-zscores-metric_euclidean-n_components_50-n_neighbors_15-random_state_0'"
      ]
     },
     "metadata": {},
     "output_type": "display_data"
    }
   ],
   "source": [
    "input_filepath = Path(\n",
    "    conf.RESULTS[\"DATA_TRANSFORMATIONS_DIR\"],\n",
    "    INPUT_SUBSET,\n",
    "    generate_result_set_name(\n",
    "        DR_OPTIONS, prefix=f\"{INPUT_SUBSET}-{INPUT_STEM}-\", suffix=\".pkl\"\n",
    "    ),\n",
    ").resolve()\n",
    "display(input_filepath)\n",
    "\n",
    "assert input_filepath.exists(), \"Input file does not exist\"\n",
    "\n",
    "input_filepath_stem = input_filepath.stem\n",
    "display(input_filepath_stem)"
   ]
  },
  {
   "cell_type": "markdown",
   "metadata": {
    "papermill": {
     "duration": 0.016842,
     "end_time": "2020-12-03T02:17:54.467937",
     "exception": false,
     "start_time": "2020-12-03T02:17:54.451095",
     "status": "completed"
    },
    "tags": []
   },
   "source": [
    "## Clustering"
   ]
  },
  {
   "cell_type": "code",
   "execution_count": 9,
   "metadata": {
    "execution": {
     "iopub.execute_input": "2020-12-03T02:17:54.502486Z",
     "iopub.status.busy": "2020-12-03T02:17:54.502125Z",
     "iopub.status.idle": "2020-12-03T02:17:54.519884Z",
     "shell.execute_reply": "2020-12-03T02:17:54.519576Z"
    },
    "papermill": {
     "duration": 0.036098,
     "end_time": "2020-12-03T02:17:54.519974",
     "exception": false,
     "start_time": "2020-12-03T02:17:54.483876",
     "status": "completed"
    },
    "tags": []
   },
   "outputs": [],
   "source": [
    "from sklearn.cluster import AgglomerativeClustering"
   ]
  },
  {
   "cell_type": "code",
   "execution_count": 10,
   "metadata": {
    "execution": {
     "iopub.execute_input": "2020-12-03T02:17:54.555525Z",
     "iopub.status.busy": "2020-12-03T02:17:54.555162Z",
     "iopub.status.idle": "2020-12-03T02:17:54.566585Z",
     "shell.execute_reply": "2020-12-03T02:17:54.566856Z"
    },
    "papermill": {
     "duration": 0.030281,
     "end_time": "2020-12-03T02:17:54.566961",
     "exception": false,
     "start_time": "2020-12-03T02:17:54.536680",
     "status": "completed"
    },
    "tags": []
   },
   "outputs": [],
   "source": [
    "CLUSTERING_ATTRIBUTES_TO_SAVE = [\"n_clusters\"]"
   ]
  },
  {
   "cell_type": "code",
   "execution_count": 11,
   "metadata": {
    "execution": {
     "iopub.execute_input": "2020-12-03T02:17:54.602030Z",
     "iopub.status.busy": "2020-12-03T02:17:54.601621Z",
     "iopub.status.idle": "2020-12-03T02:17:54.614394Z",
     "shell.execute_reply": "2020-12-03T02:17:54.613964Z"
    },
    "papermill": {
     "duration": 0.031305,
     "end_time": "2020-12-03T02:17:54.614481",
     "exception": false,
     "start_time": "2020-12-03T02:17:54.583176",
     "status": "completed"
    },
    "tags": []
   },
   "outputs": [
    {
     "data": {
      "text/plain": [
       "{'K_MIN': 2,\n",
       " 'K_MAX': 75,\n",
       " 'LINKAGE': {'average', 'complete', 'single', 'ward'},\n",
       " 'AFFINITY': 'euclidean'}"
      ]
     },
     "metadata": {},
     "output_type": "display_data"
    }
   ],
   "source": [
    "CLUSTERING_OPTIONS = {}\n",
    "\n",
    "CLUSTERING_OPTIONS[\"K_MIN\"] = 2\n",
    "CLUSTERING_OPTIONS[\"K_MAX\"] = 75  # sqrt(3749) + some more to get closer to 295\n",
    "CLUSTERING_OPTIONS[\"LINKAGE\"] = {\"ward\", \"complete\", \"average\", \"single\"}\n",
    "CLUSTERING_OPTIONS[\"AFFINITY\"] = \"euclidean\"\n",
    "\n",
    "display(CLUSTERING_OPTIONS)"
   ]
  },
  {
   "cell_type": "code",
   "execution_count": 12,
   "metadata": {
    "execution": {
     "iopub.execute_input": "2020-12-03T02:17:54.651693Z",
     "iopub.status.busy": "2020-12-03T02:17:54.651321Z",
     "iopub.status.idle": "2020-12-03T02:17:54.663631Z",
     "shell.execute_reply": "2020-12-03T02:17:54.663919Z"
    },
    "papermill": {
     "duration": 0.032621,
     "end_time": "2020-12-03T02:17:54.664030",
     "exception": false,
     "start_time": "2020-12-03T02:17:54.631409",
     "status": "completed"
    },
    "tags": []
   },
   "outputs": [],
   "source": [
    "CLUSTERERS = {}\n",
    "\n",
    "idx = 0\n",
    "\n",
    "for k in range(CLUSTERING_OPTIONS[\"K_MIN\"], CLUSTERING_OPTIONS[\"K_MAX\"] + 1):\n",
    "    for linkage in CLUSTERING_OPTIONS[\"LINKAGE\"]:\n",
    "        if linkage == \"ward\":\n",
    "            affinity = \"euclidean\"\n",
    "        else:\n",
    "            affinity = \"precomputed\"\n",
    "\n",
    "        clus = AgglomerativeClustering(\n",
    "            n_clusters=k,\n",
    "            affinity=affinity,\n",
    "            linkage=linkage,\n",
    "        )\n",
    "\n",
    "        method_name = type(clus).__name__\n",
    "        CLUSTERERS[f\"{method_name} #{idx}\"] = clus\n",
    "\n",
    "        idx = idx + 1"
   ]
  },
  {
   "cell_type": "code",
   "execution_count": 13,
   "metadata": {
    "execution": {
     "iopub.execute_input": "2020-12-03T02:17:54.699545Z",
     "iopub.status.busy": "2020-12-03T02:17:54.699180Z",
     "iopub.status.idle": "2020-12-03T02:17:54.711610Z",
     "shell.execute_reply": "2020-12-03T02:17:54.711239Z"
    },
    "papermill": {
     "duration": 0.03075,
     "end_time": "2020-12-03T02:17:54.711697",
     "exception": false,
     "start_time": "2020-12-03T02:17:54.680947",
     "status": "completed"
    },
    "tags": []
   },
   "outputs": [
    {
     "data": {
      "text/plain": [
       "296"
      ]
     },
     "metadata": {},
     "output_type": "display_data"
    }
   ],
   "source": [
    "display(len(CLUSTERERS))"
   ]
  },
  {
   "cell_type": "code",
   "execution_count": 14,
   "metadata": {
    "execution": {
     "iopub.execute_input": "2020-12-03T02:17:54.748491Z",
     "iopub.status.busy": "2020-12-03T02:17:54.748127Z",
     "iopub.status.idle": "2020-12-03T02:17:54.762779Z",
     "shell.execute_reply": "2020-12-03T02:17:54.762390Z"
    },
    "papermill": {
     "duration": 0.033917,
     "end_time": "2020-12-03T02:17:54.762867",
     "exception": false,
     "start_time": "2020-12-03T02:17:54.728950",
     "status": "completed"
    },
    "tags": []
   },
   "outputs": [
    {
     "data": {
      "text/plain": [
       "('AgglomerativeClustering #0',\n",
       " AgglomerativeClustering(affinity='precomputed', linkage='complete'))"
      ]
     },
     "metadata": {},
     "output_type": "display_data"
    },
    {
     "data": {
      "text/plain": [
       "('AgglomerativeClustering #1',\n",
       " AgglomerativeClustering(affinity='precomputed', linkage='single'))"
      ]
     },
     "metadata": {},
     "output_type": "display_data"
    }
   ],
   "source": [
    "_iter = iter(CLUSTERERS.items())\n",
    "display(next(_iter))\n",
    "display(next(_iter))"
   ]
  },
  {
   "cell_type": "code",
   "execution_count": 15,
   "metadata": {
    "execution": {
     "iopub.execute_input": "2020-12-03T02:17:54.800486Z",
     "iopub.status.busy": "2020-12-03T02:17:54.800123Z",
     "iopub.status.idle": "2020-12-03T02:17:54.812439Z",
     "shell.execute_reply": "2020-12-03T02:17:54.812787Z"
    },
    "papermill": {
     "duration": 0.03236,
     "end_time": "2020-12-03T02:17:54.812892",
     "exception": false,
     "start_time": "2020-12-03T02:17:54.780532",
     "status": "completed"
    },
    "tags": []
   },
   "outputs": [
    {
     "data": {
      "text/plain": [
       "'AgglomerativeClustering'"
      ]
     },
     "metadata": {},
     "output_type": "display_data"
    }
   ],
   "source": [
    "clustering_method_name = method_name\n",
    "display(clustering_method_name)"
   ]
  },
  {
   "cell_type": "markdown",
   "metadata": {
    "papermill": {
     "duration": 0.017027,
     "end_time": "2020-12-03T02:17:54.847431",
     "exception": false,
     "start_time": "2020-12-03T02:17:54.830404",
     "status": "completed"
    },
    "tags": []
   },
   "source": [
    "## Output directory"
   ]
  },
  {
   "cell_type": "code",
   "execution_count": 16,
   "metadata": {
    "execution": {
     "iopub.execute_input": "2020-12-03T02:17:54.884119Z",
     "iopub.status.busy": "2020-12-03T02:17:54.883738Z",
     "iopub.status.idle": "2020-12-03T02:17:54.896534Z",
     "shell.execute_reply": "2020-12-03T02:17:54.896159Z"
    },
    "papermill": {
     "duration": 0.032233,
     "end_time": "2020-12-03T02:17:54.896620",
     "exception": false,
     "start_time": "2020-12-03T02:17:54.864387",
     "status": "completed"
    },
    "tags": []
   },
   "outputs": [
    {
     "data": {
      "text/plain": [
       "PosixPath('/home/miltondp/projects/labs/greenelab/phenoplier/base/results/clustering/runs/umap-z_score_std-projection-smultixcan-efo_partial-mashr-zscores')"
      ]
     },
     "metadata": {},
     "output_type": "display_data"
    }
   ],
   "source": [
    "# output dir for this notebook\n",
    "RESULTS_DIR = Path(\n",
    "    conf.RESULTS[\"CLUSTERING_RUNS_DIR\"],\n",
    "    f\"{INPUT_SUBSET}-{INPUT_STEM}\",\n",
    ").resolve()\n",
    "RESULTS_DIR.mkdir(parents=True, exist_ok=True)\n",
    "\n",
    "display(RESULTS_DIR)"
   ]
  },
  {
   "cell_type": "markdown",
   "metadata": {
    "papermill": {
     "duration": 0.01708,
     "end_time": "2020-12-03T02:17:54.931448",
     "exception": false,
     "start_time": "2020-12-03T02:17:54.914368",
     "status": "completed"
    },
    "tags": []
   },
   "source": [
    "# Load input file"
   ]
  },
  {
   "cell_type": "code",
   "execution_count": 17,
   "metadata": {
    "execution": {
     "iopub.execute_input": "2020-12-03T02:17:54.968567Z",
     "iopub.status.busy": "2020-12-03T02:17:54.968201Z",
     "iopub.status.idle": "2020-12-03T02:17:54.981851Z",
     "shell.execute_reply": "2020-12-03T02:17:54.981461Z"
    },
    "papermill": {
     "duration": 0.033162,
     "end_time": "2020-12-03T02:17:54.981941",
     "exception": false,
     "start_time": "2020-12-03T02:17:54.948779",
     "status": "completed"
    },
    "tags": []
   },
   "outputs": [],
   "source": [
    "data = pd.read_pickle(input_filepath)"
   ]
  },
  {
   "cell_type": "code",
   "execution_count": 18,
   "metadata": {
    "execution": {
     "iopub.execute_input": "2020-12-03T02:17:55.020845Z",
     "iopub.status.busy": "2020-12-03T02:17:55.020402Z",
     "iopub.status.idle": "2020-12-03T02:17:55.033303Z",
     "shell.execute_reply": "2020-12-03T02:17:55.032924Z"
    },
    "papermill": {
     "duration": 0.033061,
     "end_time": "2020-12-03T02:17:55.033390",
     "exception": false,
     "start_time": "2020-12-03T02:17:55.000329",
     "status": "completed"
    },
    "tags": []
   },
   "outputs": [
    {
     "data": {
      "text/plain": [
       "(3749, 50)"
      ]
     },
     "execution_count": 18,
     "metadata": {},
     "output_type": "execute_result"
    }
   ],
   "source": [
    "data.shape"
   ]
  },
  {
   "cell_type": "code",
   "execution_count": 19,
   "metadata": {
    "execution": {
     "iopub.execute_input": "2020-12-03T02:17:55.072093Z",
     "iopub.status.busy": "2020-12-03T02:17:55.071731Z",
     "iopub.status.idle": "2020-12-03T02:17:55.096933Z",
     "shell.execute_reply": "2020-12-03T02:17:55.096495Z"
    },
    "papermill": {
     "duration": 0.045205,
     "end_time": "2020-12-03T02:17:55.097020",
     "exception": false,
     "start_time": "2020-12-03T02:17:55.051815",
     "status": "completed"
    },
    "tags": []
   },
   "outputs": [
    {
     "data": {
      "text/html": [
       "<div>\n",
       "<style scoped>\n",
       "    .dataframe tbody tr th:only-of-type {\n",
       "        vertical-align: middle;\n",
       "    }\n",
       "\n",
       "    .dataframe tbody tr th {\n",
       "        vertical-align: top;\n",
       "    }\n",
       "\n",
       "    .dataframe thead th {\n",
       "        text-align: right;\n",
       "    }\n",
       "</style>\n",
       "<table border=\"1\" class=\"dataframe\">\n",
       "  <thead>\n",
       "    <tr style=\"text-align: right;\">\n",
       "      <th></th>\n",
       "      <th>UMAP1</th>\n",
       "      <th>UMAP2</th>\n",
       "      <th>UMAP3</th>\n",
       "      <th>UMAP4</th>\n",
       "      <th>UMAP5</th>\n",
       "      <th>UMAP6</th>\n",
       "      <th>UMAP7</th>\n",
       "      <th>UMAP8</th>\n",
       "      <th>UMAP9</th>\n",
       "      <th>UMAP10</th>\n",
       "      <th>...</th>\n",
       "      <th>UMAP41</th>\n",
       "      <th>UMAP42</th>\n",
       "      <th>UMAP43</th>\n",
       "      <th>UMAP44</th>\n",
       "      <th>UMAP45</th>\n",
       "      <th>UMAP46</th>\n",
       "      <th>UMAP47</th>\n",
       "      <th>UMAP48</th>\n",
       "      <th>UMAP49</th>\n",
       "      <th>UMAP50</th>\n",
       "    </tr>\n",
       "  </thead>\n",
       "  <tbody>\n",
       "    <tr>\n",
       "      <th>100001_raw-Food_weight</th>\n",
       "      <td>11.531590</td>\n",
       "      <td>10.773390</td>\n",
       "      <td>10.551500</td>\n",
       "      <td>5.689103</td>\n",
       "      <td>12.646474</td>\n",
       "      <td>8.795625</td>\n",
       "      <td>2.365859</td>\n",
       "      <td>-3.382425</td>\n",
       "      <td>1.458605</td>\n",
       "      <td>14.236823</td>\n",
       "      <td>...</td>\n",
       "      <td>2.214731</td>\n",
       "      <td>9.304909</td>\n",
       "      <td>3.359118</td>\n",
       "      <td>5.211676</td>\n",
       "      <td>1.265622</td>\n",
       "      <td>2.058685</td>\n",
       "      <td>1.291174</td>\n",
       "      <td>1.565621</td>\n",
       "      <td>7.317275</td>\n",
       "      <td>9.037535</td>\n",
       "    </tr>\n",
       "    <tr>\n",
       "      <th>100002_raw-Energy</th>\n",
       "      <td>11.554761</td>\n",
       "      <td>10.753816</td>\n",
       "      <td>10.548004</td>\n",
       "      <td>5.710800</td>\n",
       "      <td>12.674987</td>\n",
       "      <td>8.787647</td>\n",
       "      <td>2.379787</td>\n",
       "      <td>-3.339913</td>\n",
       "      <td>1.442655</td>\n",
       "      <td>14.196218</td>\n",
       "      <td>...</td>\n",
       "      <td>2.237087</td>\n",
       "      <td>9.270699</td>\n",
       "      <td>3.383440</td>\n",
       "      <td>5.185328</td>\n",
       "      <td>1.257113</td>\n",
       "      <td>2.057439</td>\n",
       "      <td>1.290686</td>\n",
       "      <td>1.557209</td>\n",
       "      <td>7.297037</td>\n",
       "      <td>9.009866</td>\n",
       "    </tr>\n",
       "    <tr>\n",
       "      <th>100003_raw-Protein</th>\n",
       "      <td>11.519615</td>\n",
       "      <td>10.786408</td>\n",
       "      <td>10.540249</td>\n",
       "      <td>5.687959</td>\n",
       "      <td>12.628188</td>\n",
       "      <td>8.789925</td>\n",
       "      <td>2.368370</td>\n",
       "      <td>-3.390937</td>\n",
       "      <td>1.464806</td>\n",
       "      <td>14.233623</td>\n",
       "      <td>...</td>\n",
       "      <td>2.216162</td>\n",
       "      <td>9.314158</td>\n",
       "      <td>3.350708</td>\n",
       "      <td>5.226166</td>\n",
       "      <td>1.267382</td>\n",
       "      <td>2.051692</td>\n",
       "      <td>1.305047</td>\n",
       "      <td>1.558942</td>\n",
       "      <td>7.307035</td>\n",
       "      <td>9.042575</td>\n",
       "    </tr>\n",
       "    <tr>\n",
       "      <th>100004_raw-Fat</th>\n",
       "      <td>11.515584</td>\n",
       "      <td>10.756584</td>\n",
       "      <td>10.570711</td>\n",
       "      <td>5.697041</td>\n",
       "      <td>12.661936</td>\n",
       "      <td>8.787330</td>\n",
       "      <td>2.396913</td>\n",
       "      <td>-3.351611</td>\n",
       "      <td>1.435632</td>\n",
       "      <td>14.221588</td>\n",
       "      <td>...</td>\n",
       "      <td>2.214707</td>\n",
       "      <td>9.273252</td>\n",
       "      <td>3.383349</td>\n",
       "      <td>5.220068</td>\n",
       "      <td>1.270067</td>\n",
       "      <td>2.065669</td>\n",
       "      <td>1.281447</td>\n",
       "      <td>1.578588</td>\n",
       "      <td>7.332527</td>\n",
       "      <td>9.005523</td>\n",
       "    </tr>\n",
       "    <tr>\n",
       "      <th>100005_raw-Carbohydrate</th>\n",
       "      <td>11.528723</td>\n",
       "      <td>10.762026</td>\n",
       "      <td>10.566773</td>\n",
       "      <td>5.698555</td>\n",
       "      <td>12.671127</td>\n",
       "      <td>8.791903</td>\n",
       "      <td>2.394764</td>\n",
       "      <td>-3.354370</td>\n",
       "      <td>1.442259</td>\n",
       "      <td>14.226301</td>\n",
       "      <td>...</td>\n",
       "      <td>2.216362</td>\n",
       "      <td>9.275563</td>\n",
       "      <td>3.383139</td>\n",
       "      <td>5.216354</td>\n",
       "      <td>1.269187</td>\n",
       "      <td>2.063429</td>\n",
       "      <td>1.280020</td>\n",
       "      <td>1.577227</td>\n",
       "      <td>7.335059</td>\n",
       "      <td>9.009464</td>\n",
       "    </tr>\n",
       "  </tbody>\n",
       "</table>\n",
       "<p>5 rows × 50 columns</p>\n",
       "</div>"
      ],
      "text/plain": [
       "                             UMAP1      UMAP2      UMAP3     UMAP4      UMAP5  \\\n",
       "100001_raw-Food_weight   11.531590  10.773390  10.551500  5.689103  12.646474   \n",
       "100002_raw-Energy        11.554761  10.753816  10.548004  5.710800  12.674987   \n",
       "100003_raw-Protein       11.519615  10.786408  10.540249  5.687959  12.628188   \n",
       "100004_raw-Fat           11.515584  10.756584  10.570711  5.697041  12.661936   \n",
       "100005_raw-Carbohydrate  11.528723  10.762026  10.566773  5.698555  12.671127   \n",
       "\n",
       "                            UMAP6     UMAP7     UMAP8     UMAP9     UMAP10  \\\n",
       "100001_raw-Food_weight   8.795625  2.365859 -3.382425  1.458605  14.236823   \n",
       "100002_raw-Energy        8.787647  2.379787 -3.339913  1.442655  14.196218   \n",
       "100003_raw-Protein       8.789925  2.368370 -3.390937  1.464806  14.233623   \n",
       "100004_raw-Fat           8.787330  2.396913 -3.351611  1.435632  14.221588   \n",
       "100005_raw-Carbohydrate  8.791903  2.394764 -3.354370  1.442259  14.226301   \n",
       "\n",
       "                         ...    UMAP41    UMAP42    UMAP43    UMAP44  \\\n",
       "100001_raw-Food_weight   ...  2.214731  9.304909  3.359118  5.211676   \n",
       "100002_raw-Energy        ...  2.237087  9.270699  3.383440  5.185328   \n",
       "100003_raw-Protein       ...  2.216162  9.314158  3.350708  5.226166   \n",
       "100004_raw-Fat           ...  2.214707  9.273252  3.383349  5.220068   \n",
       "100005_raw-Carbohydrate  ...  2.216362  9.275563  3.383139  5.216354   \n",
       "\n",
       "                           UMAP45    UMAP46    UMAP47    UMAP48    UMAP49  \\\n",
       "100001_raw-Food_weight   1.265622  2.058685  1.291174  1.565621  7.317275   \n",
       "100002_raw-Energy        1.257113  2.057439  1.290686  1.557209  7.297037   \n",
       "100003_raw-Protein       1.267382  2.051692  1.305047  1.558942  7.307035   \n",
       "100004_raw-Fat           1.270067  2.065669  1.281447  1.578588  7.332527   \n",
       "100005_raw-Carbohydrate  1.269187  2.063429  1.280020  1.577227  7.335059   \n",
       "\n",
       "                           UMAP50  \n",
       "100001_raw-Food_weight   9.037535  \n",
       "100002_raw-Energy        9.009866  \n",
       "100003_raw-Protein       9.042575  \n",
       "100004_raw-Fat           9.005523  \n",
       "100005_raw-Carbohydrate  9.009464  \n",
       "\n",
       "[5 rows x 50 columns]"
      ]
     },
     "execution_count": 19,
     "metadata": {},
     "output_type": "execute_result"
    }
   ],
   "source": [
    "data.head()"
   ]
  },
  {
   "cell_type": "code",
   "execution_count": 20,
   "metadata": {
    "execution": {
     "iopub.execute_input": "2020-12-03T02:17:55.136193Z",
     "iopub.status.busy": "2020-12-03T02:17:55.135825Z",
     "iopub.status.idle": "2020-12-03T02:17:55.148293Z",
     "shell.execute_reply": "2020-12-03T02:17:55.147910Z"
    },
    "papermill": {
     "duration": 0.033144,
     "end_time": "2020-12-03T02:17:55.148383",
     "exception": false,
     "start_time": "2020-12-03T02:17:55.115239",
     "status": "completed"
    },
    "tags": []
   },
   "outputs": [],
   "source": [
    "assert not data.isna().any().any()"
   ]
  },
  {
   "cell_type": "markdown",
   "metadata": {
    "papermill": {
     "duration": 0.018101,
     "end_time": "2020-12-03T02:17:55.185403",
     "exception": false,
     "start_time": "2020-12-03T02:17:55.167302",
     "status": "completed"
    },
    "tags": []
   },
   "source": [
    "# Clustering"
   ]
  },
  {
   "cell_type": "markdown",
   "metadata": {
    "papermill": {
     "duration": 0.017588,
     "end_time": "2020-12-03T02:17:55.220857",
     "exception": false,
     "start_time": "2020-12-03T02:17:55.203269",
     "status": "completed"
    },
    "tags": []
   },
   "source": [
    "## Generate ensemble"
   ]
  },
  {
   "cell_type": "code",
   "execution_count": 21,
   "metadata": {
    "execution": {
     "iopub.execute_input": "2020-12-03T02:17:55.259077Z",
     "iopub.status.busy": "2020-12-03T02:17:55.258709Z",
     "iopub.status.idle": "2020-12-03T02:17:55.273192Z",
     "shell.execute_reply": "2020-12-03T02:17:55.272806Z"
    },
    "papermill": {
     "duration": 0.034598,
     "end_time": "2020-12-03T02:17:55.273281",
     "exception": false,
     "start_time": "2020-12-03T02:17:55.238683",
     "status": "completed"
    },
    "tags": []
   },
   "outputs": [],
   "source": [
    "from sklearn.metrics import pairwise_distances\n",
    "from clustering.ensemble import generate_ensemble"
   ]
  },
  {
   "cell_type": "code",
   "execution_count": 22,
   "metadata": {
    "execution": {
     "iopub.execute_input": "2020-12-03T02:17:55.311938Z",
     "iopub.status.busy": "2020-12-03T02:17:55.311567Z",
     "iopub.status.idle": "2020-12-03T02:17:55.467186Z",
     "shell.execute_reply": "2020-12-03T02:17:55.467497Z"
    },
    "papermill": {
     "duration": 0.176116,
     "end_time": "2020-12-03T02:17:55.467606",
     "exception": false,
     "start_time": "2020-12-03T02:17:55.291490",
     "status": "completed"
    },
    "tags": []
   },
   "outputs": [],
   "source": [
    "data_dist = pairwise_distances(data, metric=CLUSTERING_OPTIONS[\"AFFINITY\"])"
   ]
  },
  {
   "cell_type": "code",
   "execution_count": 23,
   "metadata": {
    "execution": {
     "iopub.execute_input": "2020-12-03T02:17:55.507120Z",
     "iopub.status.busy": "2020-12-03T02:17:55.506754Z",
     "iopub.status.idle": "2020-12-03T02:17:55.519304Z",
     "shell.execute_reply": "2020-12-03T02:17:55.518981Z"
    },
    "papermill": {
     "duration": 0.033045,
     "end_time": "2020-12-03T02:17:55.519393",
     "exception": false,
     "start_time": "2020-12-03T02:17:55.486348",
     "status": "completed"
    },
    "tags": []
   },
   "outputs": [
    {
     "data": {
      "text/plain": [
       "(3749, 3749)"
      ]
     },
     "execution_count": 23,
     "metadata": {},
     "output_type": "execute_result"
    }
   ],
   "source": [
    "data_dist.shape"
   ]
  },
  {
   "cell_type": "code",
   "execution_count": 24,
   "metadata": {
    "execution": {
     "iopub.execute_input": "2020-12-03T02:17:55.558741Z",
     "iopub.status.busy": "2020-12-03T02:17:55.558373Z",
     "iopub.status.idle": "2020-12-03T02:17:56.005308Z",
     "shell.execute_reply": "2020-12-03T02:17:56.004917Z"
    },
    "papermill": {
     "duration": 0.467322,
     "end_time": "2020-12-03T02:17:56.005399",
     "exception": false,
     "start_time": "2020-12-03T02:17:55.538077",
     "status": "completed"
    },
    "tags": []
   },
   "outputs": [
    {
     "data": {
      "text/plain": [
       "count            14055001.0\n",
       "mean     2.1742653846740723\n",
       "std       2.128391742706299\n",
       "min                     0.0\n",
       "25%      1.4129530191421509\n",
       "50%       1.622597336769104\n",
       "75%      2.1182587146759033\n",
       "max      15.023402214050293\n",
       "dtype: object"
      ]
     },
     "execution_count": 24,
     "metadata": {},
     "output_type": "execute_result"
    }
   ],
   "source": [
    "pd.Series(data_dist.flatten()).describe().apply(str)"
   ]
  },
  {
   "cell_type": "code",
   "execution_count": 25,
   "metadata": {
    "execution": {
     "iopub.execute_input": "2020-12-03T02:17:56.044778Z",
     "iopub.status.busy": "2020-12-03T02:17:56.044375Z",
     "iopub.status.idle": "2020-12-03T02:45:24.839088Z",
     "shell.execute_reply": "2020-12-03T02:45:24.838297Z"
    },
    "papermill": {
     "duration": 1648.815495,
     "end_time": "2020-12-03T02:45:24.839171",
     "exception": false,
     "start_time": "2020-12-03T02:17:56.023676",
     "status": "completed"
    },
    "tags": []
   },
   "outputs": [
    {
     "name": "stderr",
     "output_type": "stream",
     "text": [
      "100%|██████████| 296/296 [27:28<00:00,  5.57s/it]\n"
     ]
    }
   ],
   "source": [
    "ensemble = generate_ensemble(\n",
    "    data_dist,\n",
    "    CLUSTERERS,\n",
    "    attributes=CLUSTERING_ATTRIBUTES_TO_SAVE,\n",
    "    affinity_matrix=data_dist,\n",
    ")"
   ]
  },
  {
   "cell_type": "code",
   "execution_count": 26,
   "metadata": {
    "execution": {
     "iopub.execute_input": "2020-12-03T02:45:24.972119Z",
     "iopub.status.busy": "2020-12-03T02:45:24.971748Z",
     "iopub.status.idle": "2020-12-03T02:45:24.984856Z",
     "shell.execute_reply": "2020-12-03T02:45:24.984431Z"
    },
    "papermill": {
     "duration": 0.080488,
     "end_time": "2020-12-03T02:45:24.984941",
     "exception": false,
     "start_time": "2020-12-03T02:45:24.904453",
     "status": "completed"
    },
    "tags": []
   },
   "outputs": [
    {
     "data": {
      "text/plain": [
       "(296, 3)"
      ]
     },
     "execution_count": 26,
     "metadata": {},
     "output_type": "execute_result"
    }
   ],
   "source": [
    "# the number should be close to 295 (the number of partitions generated by k-means/spectral clustering)\n",
    "ensemble.shape"
   ]
  },
  {
   "cell_type": "code",
   "execution_count": 27,
   "metadata": {
    "execution": {
     "iopub.execute_input": "2020-12-03T02:45:25.119143Z",
     "iopub.status.busy": "2020-12-03T02:45:25.118758Z",
     "iopub.status.idle": "2020-12-03T02:45:25.138899Z",
     "shell.execute_reply": "2020-12-03T02:45:25.138521Z"
    },
    "papermill": {
     "duration": 0.087998,
     "end_time": "2020-12-03T02:45:25.138987",
     "exception": false,
     "start_time": "2020-12-03T02:45:25.050989",
     "status": "completed"
    },
    "tags": []
   },
   "outputs": [
    {
     "data": {
      "text/html": [
       "<div>\n",
       "<style scoped>\n",
       "    .dataframe tbody tr th:only-of-type {\n",
       "        vertical-align: middle;\n",
       "    }\n",
       "\n",
       "    .dataframe tbody tr th {\n",
       "        vertical-align: top;\n",
       "    }\n",
       "\n",
       "    .dataframe thead th {\n",
       "        text-align: right;\n",
       "    }\n",
       "</style>\n",
       "<table border=\"1\" class=\"dataframe\">\n",
       "  <thead>\n",
       "    <tr style=\"text-align: right;\">\n",
       "      <th></th>\n",
       "      <th>clusterer_params</th>\n",
       "      <th>partition</th>\n",
       "      <th>n_clusters</th>\n",
       "    </tr>\n",
       "    <tr>\n",
       "      <th>clusterer_id</th>\n",
       "      <th></th>\n",
       "      <th></th>\n",
       "      <th></th>\n",
       "    </tr>\n",
       "  </thead>\n",
       "  <tbody>\n",
       "    <tr>\n",
       "      <th>AgglomerativeClustering #0</th>\n",
       "      <td>{'affinity': 'precomputed', 'compute_full_tree...</td>\n",
       "      <td>[1.0, 1.0, 1.0, 1.0, 1.0, 1.0, 1.0, 1.0, 1.0, ...</td>\n",
       "      <td>2</td>\n",
       "    </tr>\n",
       "    <tr>\n",
       "      <th>AgglomerativeClustering #1</th>\n",
       "      <td>{'affinity': 'precomputed', 'compute_full_tree...</td>\n",
       "      <td>[0.0, 0.0, 0.0, 0.0, 0.0, 0.0, 0.0, 0.0, 0.0, ...</td>\n",
       "      <td>2</td>\n",
       "    </tr>\n",
       "    <tr>\n",
       "      <th>AgglomerativeClustering #2</th>\n",
       "      <td>{'affinity': 'precomputed', 'compute_full_tree...</td>\n",
       "      <td>[1.0, 1.0, 1.0, 1.0, 1.0, 1.0, 1.0, 1.0, 1.0, ...</td>\n",
       "      <td>2</td>\n",
       "    </tr>\n",
       "    <tr>\n",
       "      <th>AgglomerativeClustering #3</th>\n",
       "      <td>{'affinity': 'euclidean', 'compute_full_tree':...</td>\n",
       "      <td>[0.0, 0.0, 0.0, 0.0, 0.0, 0.0, 0.0, 0.0, 0.0, ...</td>\n",
       "      <td>2</td>\n",
       "    </tr>\n",
       "    <tr>\n",
       "      <th>AgglomerativeClustering #4</th>\n",
       "      <td>{'affinity': 'precomputed', 'compute_full_tree...</td>\n",
       "      <td>[1.0, 1.0, 1.0, 1.0, 1.0, 1.0, 1.0, 1.0, 1.0, ...</td>\n",
       "      <td>3</td>\n",
       "    </tr>\n",
       "  </tbody>\n",
       "</table>\n",
       "</div>"
      ],
      "text/plain": [
       "                                                             clusterer_params  \\\n",
       "clusterer_id                                                                    \n",
       "AgglomerativeClustering #0  {'affinity': 'precomputed', 'compute_full_tree...   \n",
       "AgglomerativeClustering #1  {'affinity': 'precomputed', 'compute_full_tree...   \n",
       "AgglomerativeClustering #2  {'affinity': 'precomputed', 'compute_full_tree...   \n",
       "AgglomerativeClustering #3  {'affinity': 'euclidean', 'compute_full_tree':...   \n",
       "AgglomerativeClustering #4  {'affinity': 'precomputed', 'compute_full_tree...   \n",
       "\n",
       "                                                                    partition  \\\n",
       "clusterer_id                                                                    \n",
       "AgglomerativeClustering #0  [1.0, 1.0, 1.0, 1.0, 1.0, 1.0, 1.0, 1.0, 1.0, ...   \n",
       "AgglomerativeClustering #1  [0.0, 0.0, 0.0, 0.0, 0.0, 0.0, 0.0, 0.0, 0.0, ...   \n",
       "AgglomerativeClustering #2  [1.0, 1.0, 1.0, 1.0, 1.0, 1.0, 1.0, 1.0, 1.0, ...   \n",
       "AgglomerativeClustering #3  [0.0, 0.0, 0.0, 0.0, 0.0, 0.0, 0.0, 0.0, 0.0, ...   \n",
       "AgglomerativeClustering #4  [1.0, 1.0, 1.0, 1.0, 1.0, 1.0, 1.0, 1.0, 1.0, ...   \n",
       "\n",
       "                            n_clusters  \n",
       "clusterer_id                            \n",
       "AgglomerativeClustering #0           2  \n",
       "AgglomerativeClustering #1           2  \n",
       "AgglomerativeClustering #2           2  \n",
       "AgglomerativeClustering #3           2  \n",
       "AgglomerativeClustering #4           3  "
      ]
     },
     "execution_count": 27,
     "metadata": {},
     "output_type": "execute_result"
    }
   ],
   "source": [
    "ensemble.head()"
   ]
  },
  {
   "cell_type": "code",
   "execution_count": 28,
   "metadata": {
    "execution": {
     "iopub.execute_input": "2020-12-03T02:45:25.274238Z",
     "iopub.status.busy": "2020-12-03T02:45:25.273867Z",
     "iopub.status.idle": "2020-12-03T02:45:25.287720Z",
     "shell.execute_reply": "2020-12-03T02:45:25.287345Z"
    },
    "papermill": {
     "duration": 0.082424,
     "end_time": "2020-12-03T02:45:25.287808",
     "exception": false,
     "start_time": "2020-12-03T02:45:25.205384",
     "status": "completed"
    },
    "tags": []
   },
   "outputs": [
    {
     "data": {
      "text/plain": [
       "75    4\n",
       "20    4\n",
       "22    4\n",
       "23    4\n",
       "24    4\n",
       "Name: n_clusters, dtype: int64"
      ]
     },
     "execution_count": 28,
     "metadata": {},
     "output_type": "execute_result"
    }
   ],
   "source": [
    "ensemble[\"n_clusters\"].value_counts().head()"
   ]
  },
  {
   "cell_type": "code",
   "execution_count": 29,
   "metadata": {
    "execution": {
     "iopub.execute_input": "2020-12-03T02:45:25.424352Z",
     "iopub.status.busy": "2020-12-03T02:45:25.423983Z",
     "iopub.status.idle": "2020-12-03T02:45:25.438704Z",
     "shell.execute_reply": "2020-12-03T02:45:25.438335Z"
    },
    "papermill": {
     "duration": 0.083507,
     "end_time": "2020-12-03T02:45:25.438790",
     "exception": false,
     "start_time": "2020-12-03T02:45:25.355283",
     "status": "completed"
    },
    "tags": []
   },
   "outputs": [
    {
     "data": {
      "text/plain": [
       "count    296.000000\n",
       "mean      38.500000\n",
       "std       21.396182\n",
       "min        2.000000\n",
       "25%       20.000000\n",
       "50%       38.500000\n",
       "75%       57.000000\n",
       "max       75.000000\n",
       "Name: n_clusters, dtype: float64"
      ]
     },
     "metadata": {},
     "output_type": "display_data"
    }
   ],
   "source": [
    "ensemble_stats = ensemble[\"n_clusters\"].describe()\n",
    "display(ensemble_stats)"
   ]
  },
  {
   "cell_type": "markdown",
   "metadata": {
    "papermill": {
     "duration": 0.065573,
     "end_time": "2020-12-03T02:45:25.571629",
     "exception": false,
     "start_time": "2020-12-03T02:45:25.506056",
     "status": "completed"
    },
    "tags": []
   },
   "source": [
    "### Testing"
   ]
  },
  {
   "cell_type": "code",
   "execution_count": 30,
   "metadata": {
    "execution": {
     "iopub.execute_input": "2020-12-03T02:45:25.705712Z",
     "iopub.status.busy": "2020-12-03T02:45:25.705340Z",
     "iopub.status.idle": "2020-12-03T02:45:25.717461Z",
     "shell.execute_reply": "2020-12-03T02:45:25.717082Z"
    },
    "papermill": {
     "duration": 0.080149,
     "end_time": "2020-12-03T02:45:25.717547",
     "exception": false,
     "start_time": "2020-12-03T02:45:25.637398",
     "status": "completed"
    },
    "tags": []
   },
   "outputs": [],
   "source": [
    "assert ensemble_stats[\"min\"] > 1"
   ]
  },
  {
   "cell_type": "code",
   "execution_count": 31,
   "metadata": {
    "execution": {
     "iopub.execute_input": "2020-12-03T02:45:25.853954Z",
     "iopub.status.busy": "2020-12-03T02:45:25.853585Z",
     "iopub.status.idle": "2020-12-03T02:45:25.865584Z",
     "shell.execute_reply": "2020-12-03T02:45:25.865193Z"
    },
    "papermill": {
     "duration": 0.081478,
     "end_time": "2020-12-03T02:45:25.865672",
     "exception": false,
     "start_time": "2020-12-03T02:45:25.784194",
     "status": "completed"
    },
    "tags": []
   },
   "outputs": [],
   "source": [
    "assert not ensemble[\"n_clusters\"].isna().any()"
   ]
  },
  {
   "cell_type": "code",
   "execution_count": 32,
   "metadata": {
    "execution": {
     "iopub.execute_input": "2020-12-03T02:45:26.000801Z",
     "iopub.status.busy": "2020-12-03T02:45:26.000370Z",
     "iopub.status.idle": "2020-12-03T02:45:26.012394Z",
     "shell.execute_reply": "2020-12-03T02:45:26.012018Z"
    },
    "papermill": {
     "duration": 0.079979,
     "end_time": "2020-12-03T02:45:26.012481",
     "exception": false,
     "start_time": "2020-12-03T02:45:25.932502",
     "status": "completed"
    },
    "tags": []
   },
   "outputs": [],
   "source": [
    "assert ensemble.shape[0] == len(CLUSTERERS)"
   ]
  },
  {
   "cell_type": "code",
   "execution_count": 33,
   "metadata": {
    "execution": {
     "iopub.execute_input": "2020-12-03T02:45:26.147651Z",
     "iopub.status.busy": "2020-12-03T02:45:26.147283Z",
     "iopub.status.idle": "2020-12-03T02:45:26.177321Z",
     "shell.execute_reply": "2020-12-03T02:45:26.176928Z"
    },
    "papermill": {
     "duration": 0.098273,
     "end_time": "2020-12-03T02:45:26.177409",
     "exception": false,
     "start_time": "2020-12-03T02:45:26.079136",
     "status": "completed"
    },
    "tags": []
   },
   "outputs": [],
   "source": [
    "# all partitions have the right size\n",
    "assert np.all(\n",
    "    [part[\"partition\"].shape[0] == data.shape[0] for idx, part in ensemble.iterrows()]\n",
    ")"
   ]
  },
  {
   "cell_type": "code",
   "execution_count": 34,
   "metadata": {
    "execution": {
     "iopub.execute_input": "2020-12-03T02:45:26.312303Z",
     "iopub.status.busy": "2020-12-03T02:45:26.311916Z",
     "iopub.status.idle": "2020-12-03T02:45:26.344917Z",
     "shell.execute_reply": "2020-12-03T02:45:26.344385Z"
    },
    "papermill": {
     "duration": 0.101418,
     "end_time": "2020-12-03T02:45:26.345005",
     "exception": false,
     "start_time": "2020-12-03T02:45:26.243587",
     "status": "completed"
    },
    "tags": []
   },
   "outputs": [],
   "source": [
    "# no partition has negative clusters (noisy points)\n",
    "assert not np.any([(part[\"partition\"] < 0).any() for idx, part in ensemble.iterrows()])"
   ]
  },
  {
   "cell_type": "markdown",
   "metadata": {
    "papermill": {
     "duration": 0.065269,
     "end_time": "2020-12-03T02:45:26.477137",
     "exception": false,
     "start_time": "2020-12-03T02:45:26.411868",
     "status": "completed"
    },
    "tags": []
   },
   "source": [
    "## Save"
   ]
  },
  {
   "cell_type": "code",
   "execution_count": 35,
   "metadata": {
    "execution": {
     "iopub.execute_input": "2020-12-03T02:45:26.610286Z",
     "iopub.status.busy": "2020-12-03T02:45:26.609918Z",
     "iopub.status.idle": "2020-12-03T02:45:26.622835Z",
     "shell.execute_reply": "2020-12-03T02:45:26.622465Z"
    },
    "papermill": {
     "duration": 0.08065,
     "end_time": "2020-12-03T02:45:26.622922",
     "exception": false,
     "start_time": "2020-12-03T02:45:26.542272",
     "status": "completed"
    },
    "tags": []
   },
   "outputs": [
    {
     "data": {
      "text/plain": [
       "PosixPath('/home/miltondp/projects/labs/greenelab/phenoplier/base/results/clustering/runs/umap-z_score_std-projection-smultixcan-efo_partial-mashr-zscores/AgglomerativeClustering-AFFINITY_euclidean-K_MAX_75-K_MIN_2.pkl')"
      ]
     },
     "metadata": {},
     "output_type": "display_data"
    }
   ],
   "source": [
    "del CLUSTERING_OPTIONS[\"LINKAGE\"]\n",
    "\n",
    "output_filename = Path(\n",
    "    RESULTS_DIR,\n",
    "    generate_result_set_name(\n",
    "        CLUSTERING_OPTIONS,\n",
    "        prefix=f\"{clustering_method_name}-\",\n",
    "        suffix=\".pkl\",\n",
    "    ),\n",
    ").resolve()\n",
    "display(output_filename)"
   ]
  },
  {
   "cell_type": "code",
   "execution_count": 36,
   "metadata": {
    "execution": {
     "iopub.execute_input": "2020-12-03T02:45:26.759596Z",
     "iopub.status.busy": "2020-12-03T02:45:26.759231Z",
     "iopub.status.idle": "2020-12-03T02:45:26.801137Z",
     "shell.execute_reply": "2020-12-03T02:45:26.799812Z"
    },
    "papermill": {
     "duration": 0.111116,
     "end_time": "2020-12-03T02:45:26.801490",
     "exception": false,
     "start_time": "2020-12-03T02:45:26.690374",
     "status": "completed"
    },
    "tags": []
   },
   "outputs": [],
   "source": [
    "ensemble.to_pickle(output_filename)"
   ]
  },
  {
   "cell_type": "code",
   "execution_count": null,
   "metadata": {
    "papermill": {
     "duration": 0.06702,
     "end_time": "2020-12-03T02:45:26.963657",
     "exception": false,
     "start_time": "2020-12-03T02:45:26.896637",
     "status": "completed"
    },
    "tags": []
   },
   "outputs": [],
   "source": []
  }
 ],
 "metadata": {
  "jupytext": {
   "formats": "ipynb,py//py:percent"
  },
  "kernelspec": {
   "display_name": "Python 3",
   "language": "python",
   "name": "python3"
  },
  "language_info": {
   "codemirror_mode": {
    "name": "ipython",
    "version": 3
   },
   "file_extension": ".py",
   "mimetype": "text/x-python",
   "name": "python",
   "nbconvert_exporter": "python",
   "pygments_lexer": "ipython3",
   "version": "3.8.6"
  },
  "papermill": {
   "default_parameters": {},
   "duration": 1655.969383,
   "end_time": "2020-12-03T02:45:27.537723",
   "environment_variables": {},
   "exception": null,
   "input_path": "15_cluster_analysis/003_02-projection_smultixcan_efo-umap-clustering_hc.ipynb",
   "output_path": "15_cluster_analysis/003_02-projection_smultixcan_efo-umap-clustering_hc.run.ipynb",
   "parameters": {},
   "start_time": "2020-12-03T02:17:51.568340",
   "version": "2.2.2"
  },
  "toc-autonumbering": true,
  "toc-showcode": false,
  "toc-showmarkdowntxt": false,
  "toc-showtags": false
 },
 "nbformat": 4,
 "nbformat_minor": 4
}
