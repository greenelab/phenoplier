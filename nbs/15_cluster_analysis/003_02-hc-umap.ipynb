{
 "cells": [
  {
   "cell_type": "markdown",
   "metadata": {
    "papermill": {
     "duration": 0.050177,
     "end_time": "2021-03-10T02:53:23.916091",
     "exception": false,
     "start_time": "2021-03-10T02:53:23.865914",
     "status": "completed"
    },
    "tags": []
   },
   "source": [
    "# Description"
   ]
  },
  {
   "cell_type": "markdown",
   "metadata": {
    "papermill": {
     "duration": 0.015104,
     "end_time": "2021-03-10T02:53:23.948841",
     "exception": false,
     "start_time": "2021-03-10T02:53:23.933737",
     "status": "completed"
    },
    "tags": []
   },
   "source": [
    "Runs hierarchical clustering on the umap version of the data."
   ]
  },
  {
   "cell_type": "markdown",
   "metadata": {
    "papermill": {
     "duration": 0.015008,
     "end_time": "2021-03-10T02:53:23.979776",
     "exception": false,
     "start_time": "2021-03-10T02:53:23.964768",
     "status": "completed"
    },
    "tags": []
   },
   "source": [
    "# Environment variables"
   ]
  },
  {
   "cell_type": "code",
   "execution_count": 1,
   "metadata": {
    "execution": {
     "iopub.execute_input": "2021-03-10T02:53:24.016294Z",
     "iopub.status.busy": "2021-03-10T02:53:24.015898Z",
     "iopub.status.idle": "2021-03-10T02:53:24.026500Z",
     "shell.execute_reply": "2021-03-10T02:53:24.026076Z"
    },
    "papermill": {
     "duration": 0.031292,
     "end_time": "2021-03-10T02:53:24.026591",
     "exception": false,
     "start_time": "2021-03-10T02:53:23.995299",
     "status": "completed"
    },
    "tags": []
   },
   "outputs": [
    {
     "data": {
      "text/plain": [
       "2"
      ]
     },
     "metadata": {},
     "output_type": "display_data"
    }
   ],
   "source": [
    "from IPython.display import display\n",
    "\n",
    "import conf\n",
    "\n",
    "N_JOBS = conf.GENERAL[\"N_JOBS\"]\n",
    "display(N_JOBS)"
   ]
  },
  {
   "cell_type": "code",
   "execution_count": 2,
   "metadata": {
    "execution": {
     "iopub.execute_input": "2021-03-10T02:53:24.063388Z",
     "iopub.status.busy": "2021-03-10T02:53:24.062992Z",
     "iopub.status.idle": "2021-03-10T02:53:24.064960Z",
     "shell.execute_reply": "2021-03-10T02:53:24.065266Z"
    },
    "papermill": {
     "duration": 0.022317,
     "end_time": "2021-03-10T02:53:24.065367",
     "exception": false,
     "start_time": "2021-03-10T02:53:24.043050",
     "status": "completed"
    },
    "tags": []
   },
   "outputs": [
    {
     "name": "stdout",
     "output_type": "stream",
     "text": [
      "env: MKL_NUM_THREADS=2\n",
      "env: OPEN_BLAS_NUM_THREADS=2\n",
      "env: NUMEXPR_NUM_THREADS=2\n",
      "env: OMP_NUM_THREADS=2\n"
     ]
    }
   ],
   "source": [
    "%env MKL_NUM_THREADS=$N_JOBS\n",
    "%env OPEN_BLAS_NUM_THREADS=$N_JOBS\n",
    "%env NUMEXPR_NUM_THREADS=$N_JOBS\n",
    "%env OMP_NUM_THREADS=$N_JOBS"
   ]
  },
  {
   "cell_type": "markdown",
   "metadata": {
    "papermill": {
     "duration": 0.016354,
     "end_time": "2021-03-10T02:53:24.098276",
     "exception": false,
     "start_time": "2021-03-10T02:53:24.081922",
     "status": "completed"
    },
    "tags": []
   },
   "source": [
    "# Modules loading"
   ]
  },
  {
   "cell_type": "code",
   "execution_count": 3,
   "metadata": {
    "execution": {
     "iopub.execute_input": "2021-03-10T02:53:24.132859Z",
     "iopub.status.busy": "2021-03-10T02:53:24.132444Z",
     "iopub.status.idle": "2021-03-10T02:53:24.139994Z",
     "shell.execute_reply": "2021-03-10T02:53:24.139629Z"
    },
    "papermill": {
     "duration": 0.025997,
     "end_time": "2021-03-10T02:53:24.140077",
     "exception": false,
     "start_time": "2021-03-10T02:53:24.114080",
     "status": "completed"
    },
    "tags": []
   },
   "outputs": [],
   "source": [
    "%load_ext autoreload\n",
    "%autoreload 2"
   ]
  },
  {
   "cell_type": "code",
   "execution_count": 4,
   "metadata": {
    "execution": {
     "iopub.execute_input": "2021-03-10T02:53:24.174232Z",
     "iopub.status.busy": "2021-03-10T02:53:24.173860Z",
     "iopub.status.idle": "2021-03-10T02:53:24.357317Z",
     "shell.execute_reply": "2021-03-10T02:53:24.356937Z"
    },
    "papermill": {
     "duration": 0.201465,
     "end_time": "2021-03-10T02:53:24.357401",
     "exception": false,
     "start_time": "2021-03-10T02:53:24.155936",
     "status": "completed"
    },
    "tags": []
   },
   "outputs": [],
   "source": [
    "from pathlib import Path\n",
    "\n",
    "import numpy as np\n",
    "import pandas as pd\n",
    "\n",
    "from utils import generate_result_set_name"
   ]
  },
  {
   "cell_type": "markdown",
   "metadata": {
    "papermill": {
     "duration": 0.015742,
     "end_time": "2021-03-10T02:53:24.389963",
     "exception": false,
     "start_time": "2021-03-10T02:53:24.374221",
     "status": "completed"
    },
    "tags": []
   },
   "source": [
    "# Settings"
   ]
  },
  {
   "cell_type": "code",
   "execution_count": 5,
   "metadata": {
    "execution": {
     "iopub.execute_input": "2021-03-10T02:53:24.424509Z",
     "iopub.status.busy": "2021-03-10T02:53:24.424133Z",
     "iopub.status.idle": "2021-03-10T02:53:24.431326Z",
     "shell.execute_reply": "2021-03-10T02:53:24.430993Z"
    },
    "papermill": {
     "duration": 0.025281,
     "end_time": "2021-03-10T02:53:24.431408",
     "exception": false,
     "start_time": "2021-03-10T02:53:24.406127",
     "status": "completed"
    },
    "tags": []
   },
   "outputs": [],
   "source": [
    "np.random.seed(0)"
   ]
  },
  {
   "cell_type": "markdown",
   "metadata": {
    "papermill": {
     "duration": 0.015986,
     "end_time": "2021-03-10T02:53:24.464205",
     "exception": false,
     "start_time": "2021-03-10T02:53:24.448219",
     "status": "completed"
    },
    "tags": []
   },
   "source": [
    "## Input data"
   ]
  },
  {
   "cell_type": "code",
   "execution_count": 6,
   "metadata": {
    "execution": {
     "iopub.execute_input": "2021-03-10T02:53:24.498316Z",
     "iopub.status.busy": "2021-03-10T02:53:24.497940Z",
     "iopub.status.idle": "2021-03-10T02:53:24.507858Z",
     "shell.execute_reply": "2021-03-10T02:53:24.506813Z"
    },
    "papermill": {
     "duration": 0.028159,
     "end_time": "2021-03-10T02:53:24.508077",
     "exception": false,
     "start_time": "2021-03-10T02:53:24.479918",
     "status": "completed"
    },
    "tags": []
   },
   "outputs": [],
   "source": [
    "INPUT_SUBSET = \"umap\""
   ]
  },
  {
   "cell_type": "code",
   "execution_count": 7,
   "metadata": {
    "execution": {
     "iopub.execute_input": "2021-03-10T02:53:24.567370Z",
     "iopub.status.busy": "2021-03-10T02:53:24.567007Z",
     "iopub.status.idle": "2021-03-10T02:53:24.574058Z",
     "shell.execute_reply": "2021-03-10T02:53:24.573681Z"
    },
    "papermill": {
     "duration": 0.02723,
     "end_time": "2021-03-10T02:53:24.574143",
     "exception": false,
     "start_time": "2021-03-10T02:53:24.546913",
     "status": "completed"
    },
    "tags": []
   },
   "outputs": [],
   "source": [
    "INPUT_STEM = \"z_score_std-projection-smultixcan-efo_partial-mashr-zscores\""
   ]
  },
  {
   "cell_type": "code",
   "execution_count": 8,
   "metadata": {
    "execution": {
     "iopub.execute_input": "2021-03-10T02:53:24.608829Z",
     "iopub.status.busy": "2021-03-10T02:53:24.608408Z",
     "iopub.status.idle": "2021-03-10T02:53:24.615658Z",
     "shell.execute_reply": "2021-03-10T02:53:24.615303Z"
    },
    "papermill": {
     "duration": 0.025428,
     "end_time": "2021-03-10T02:53:24.615740",
     "exception": false,
     "start_time": "2021-03-10T02:53:24.590312",
     "status": "completed"
    },
    "tags": []
   },
   "outputs": [],
   "source": [
    "# parameters of the dimentionality reduction steps\n",
    "DR_OPTIONS = {\n",
    "    \"n_components\": 50,\n",
    "    \"metric\": \"euclidean\",\n",
    "    \"n_neighbors\": 15,\n",
    "    \"random_state\": 0,\n",
    "}"
   ]
  },
  {
   "cell_type": "code",
   "execution_count": 9,
   "metadata": {
    "execution": {
     "iopub.execute_input": "2021-03-10T02:53:24.650737Z",
     "iopub.status.busy": "2021-03-10T02:53:24.650362Z",
     "iopub.status.idle": "2021-03-10T02:53:24.659293Z",
     "shell.execute_reply": "2021-03-10T02:53:24.659576Z"
    },
    "papermill": {
     "duration": 0.028038,
     "end_time": "2021-03-10T02:53:24.659681",
     "exception": false,
     "start_time": "2021-03-10T02:53:24.631643",
     "status": "completed"
    },
    "tags": []
   },
   "outputs": [
    {
     "data": {
      "text/plain": [
       "PosixPath('/home/miltondp/projects/labs/greenelab/phenoplier/base/results/data_transformations/umap/umap-z_score_std-projection-smultixcan-efo_partial-mashr-zscores-metric_euclidean-n_components_50-n_neighbors_15-random_state_0.pkl')"
      ]
     },
     "metadata": {},
     "output_type": "display_data"
    },
    {
     "data": {
      "text/plain": [
       "'umap-z_score_std-projection-smultixcan-efo_partial-mashr-zscores-metric_euclidean-n_components_50-n_neighbors_15-random_state_0'"
      ]
     },
     "metadata": {},
     "output_type": "display_data"
    }
   ],
   "source": [
    "input_filepath = Path(\n",
    "    conf.RESULTS[\"DATA_TRANSFORMATIONS_DIR\"],\n",
    "    INPUT_SUBSET,\n",
    "    generate_result_set_name(\n",
    "        DR_OPTIONS, prefix=f\"{INPUT_SUBSET}-{INPUT_STEM}-\", suffix=\".pkl\"\n",
    "    ),\n",
    ").resolve()\n",
    "display(input_filepath)\n",
    "\n",
    "assert input_filepath.exists(), \"Input file does not exist\"\n",
    "\n",
    "input_filepath_stem = input_filepath.stem\n",
    "display(input_filepath_stem)"
   ]
  },
  {
   "cell_type": "markdown",
   "metadata": {
    "papermill": {
     "duration": 0.016333,
     "end_time": "2021-03-10T02:53:24.693151",
     "exception": false,
     "start_time": "2021-03-10T02:53:24.676818",
     "status": "completed"
    },
    "tags": []
   },
   "source": [
    "## Clustering"
   ]
  },
  {
   "cell_type": "code",
   "execution_count": 10,
   "metadata": {
    "execution": {
     "iopub.execute_input": "2021-03-10T02:53:24.728033Z",
     "iopub.status.busy": "2021-03-10T02:53:24.727665Z",
     "iopub.status.idle": "2021-03-10T02:53:25.036071Z",
     "shell.execute_reply": "2021-03-10T02:53:25.035688Z"
    },
    "papermill": {
     "duration": 0.326693,
     "end_time": "2021-03-10T02:53:25.036155",
     "exception": false,
     "start_time": "2021-03-10T02:53:24.709462",
     "status": "completed"
    },
    "tags": []
   },
   "outputs": [],
   "source": [
    "from sklearn.cluster import AgglomerativeClustering"
   ]
  },
  {
   "cell_type": "code",
   "execution_count": 11,
   "metadata": {
    "execution": {
     "iopub.execute_input": "2021-03-10T02:53:25.071178Z",
     "iopub.status.busy": "2021-03-10T02:53:25.070814Z",
     "iopub.status.idle": "2021-03-10T02:53:25.080398Z",
     "shell.execute_reply": "2021-03-10T02:53:25.079919Z"
    },
    "papermill": {
     "duration": 0.028152,
     "end_time": "2021-03-10T02:53:25.080555",
     "exception": false,
     "start_time": "2021-03-10T02:53:25.052403",
     "status": "completed"
    },
    "tags": []
   },
   "outputs": [],
   "source": [
    "CLUSTERING_ATTRIBUTES_TO_SAVE = [\"n_clusters\"]"
   ]
  },
  {
   "cell_type": "code",
   "execution_count": 12,
   "metadata": {
    "execution": {
     "iopub.execute_input": "2021-03-10T02:53:25.118083Z",
     "iopub.status.busy": "2021-03-10T02:53:25.117713Z",
     "iopub.status.idle": "2021-03-10T02:53:25.128458Z",
     "shell.execute_reply": "2021-03-10T02:53:25.128082Z"
    },
    "papermill": {
     "duration": 0.03006,
     "end_time": "2021-03-10T02:53:25.128543",
     "exception": false,
     "start_time": "2021-03-10T02:53:25.098483",
     "status": "completed"
    },
    "tags": []
   },
   "outputs": [
    {
     "data": {
      "text/plain": [
       "{'K_MIN': 2,\n",
       " 'K_MAX': 75,\n",
       " 'LINKAGE': {'average', 'complete', 'single', 'ward'},\n",
       " 'AFFINITY': 'euclidean'}"
      ]
     },
     "metadata": {},
     "output_type": "display_data"
    }
   ],
   "source": [
    "CLUSTERING_OPTIONS = {}\n",
    "\n",
    "CLUSTERING_OPTIONS[\"K_MIN\"] = 2\n",
    "CLUSTERING_OPTIONS[\"K_MAX\"] = 75  # sqrt(3749) + some more to get closer to 295\n",
    "CLUSTERING_OPTIONS[\"LINKAGE\"] = {\"ward\", \"complete\", \"average\", \"single\"}\n",
    "CLUSTERING_OPTIONS[\"AFFINITY\"] = \"euclidean\"\n",
    "\n",
    "display(CLUSTERING_OPTIONS)"
   ]
  },
  {
   "cell_type": "code",
   "execution_count": 13,
   "metadata": {
    "execution": {
     "iopub.execute_input": "2021-03-10T02:53:25.166449Z",
     "iopub.status.busy": "2021-03-10T02:53:25.166078Z",
     "iopub.status.idle": "2021-03-10T02:53:25.176137Z",
     "shell.execute_reply": "2021-03-10T02:53:25.175766Z"
    },
    "papermill": {
     "duration": 0.029826,
     "end_time": "2021-03-10T02:53:25.176221",
     "exception": false,
     "start_time": "2021-03-10T02:53:25.146395",
     "status": "completed"
    },
    "tags": []
   },
   "outputs": [],
   "source": [
    "CLUSTERERS = {}\n",
    "\n",
    "idx = 0\n",
    "\n",
    "for k in range(CLUSTERING_OPTIONS[\"K_MIN\"], CLUSTERING_OPTIONS[\"K_MAX\"] + 1):\n",
    "    for linkage in CLUSTERING_OPTIONS[\"LINKAGE\"]:\n",
    "        if linkage == \"ward\":\n",
    "            affinity = \"euclidean\"\n",
    "        else:\n",
    "            affinity = \"precomputed\"\n",
    "\n",
    "        clus = AgglomerativeClustering(\n",
    "            n_clusters=k,\n",
    "            affinity=affinity,\n",
    "            linkage=linkage,\n",
    "        )\n",
    "\n",
    "        method_name = type(clus).__name__\n",
    "        CLUSTERERS[f\"{method_name} #{idx}\"] = clus\n",
    "\n",
    "        idx = idx + 1"
   ]
  },
  {
   "cell_type": "code",
   "execution_count": 14,
   "metadata": {
    "execution": {
     "iopub.execute_input": "2021-03-10T02:53:25.211877Z",
     "iopub.status.busy": "2021-03-10T02:53:25.211519Z",
     "iopub.status.idle": "2021-03-10T02:53:25.221231Z",
     "shell.execute_reply": "2021-03-10T02:53:25.221532Z"
    },
    "papermill": {
     "duration": 0.028721,
     "end_time": "2021-03-10T02:53:25.221635",
     "exception": false,
     "start_time": "2021-03-10T02:53:25.192914",
     "status": "completed"
    },
    "tags": []
   },
   "outputs": [
    {
     "data": {
      "text/plain": [
       "296"
      ]
     },
     "metadata": {},
     "output_type": "display_data"
    }
   ],
   "source": [
    "display(len(CLUSTERERS))"
   ]
  },
  {
   "cell_type": "code",
   "execution_count": 15,
   "metadata": {
    "execution": {
     "iopub.execute_input": "2021-03-10T02:53:25.258117Z",
     "iopub.status.busy": "2021-03-10T02:53:25.257754Z",
     "iopub.status.idle": "2021-03-10T02:53:25.269189Z",
     "shell.execute_reply": "2021-03-10T02:53:25.268803Z"
    },
    "papermill": {
     "duration": 0.030356,
     "end_time": "2021-03-10T02:53:25.269277",
     "exception": false,
     "start_time": "2021-03-10T02:53:25.238921",
     "status": "completed"
    },
    "tags": []
   },
   "outputs": [
    {
     "data": {
      "text/plain": [
       "('AgglomerativeClustering #0',\n",
       " AgglomerativeClustering(affinity='precomputed', linkage='average'))"
      ]
     },
     "metadata": {},
     "output_type": "display_data"
    },
    {
     "data": {
      "text/plain": [
       "('AgglomerativeClustering #1',\n",
       " AgglomerativeClustering(affinity='precomputed', linkage='single'))"
      ]
     },
     "metadata": {},
     "output_type": "display_data"
    }
   ],
   "source": [
    "_iter = iter(CLUSTERERS.items())\n",
    "display(next(_iter))\n",
    "display(next(_iter))"
   ]
  },
  {
   "cell_type": "code",
   "execution_count": 16,
   "metadata": {
    "execution": {
     "iopub.execute_input": "2021-03-10T02:53:25.308472Z",
     "iopub.status.busy": "2021-03-10T02:53:25.308076Z",
     "iopub.status.idle": "2021-03-10T02:53:25.318291Z",
     "shell.execute_reply": "2021-03-10T02:53:25.317927Z"
    },
    "papermill": {
     "duration": 0.030591,
     "end_time": "2021-03-10T02:53:25.318374",
     "exception": false,
     "start_time": "2021-03-10T02:53:25.287783",
     "status": "completed"
    },
    "tags": []
   },
   "outputs": [
    {
     "data": {
      "text/plain": [
       "'AgglomerativeClustering'"
      ]
     },
     "metadata": {},
     "output_type": "display_data"
    }
   ],
   "source": [
    "clustering_method_name = method_name\n",
    "display(clustering_method_name)"
   ]
  },
  {
   "cell_type": "markdown",
   "metadata": {
    "papermill": {
     "duration": 0.017694,
     "end_time": "2021-03-10T02:53:25.354033",
     "exception": false,
     "start_time": "2021-03-10T02:53:25.336339",
     "status": "completed"
    },
    "tags": []
   },
   "source": [
    "## Output directory"
   ]
  },
  {
   "cell_type": "code",
   "execution_count": 17,
   "metadata": {
    "execution": {
     "iopub.execute_input": "2021-03-10T02:53:25.391259Z",
     "iopub.status.busy": "2021-03-10T02:53:25.390892Z",
     "iopub.status.idle": "2021-03-10T02:53:25.401486Z",
     "shell.execute_reply": "2021-03-10T02:53:25.401115Z"
    },
    "papermill": {
     "duration": 0.030395,
     "end_time": "2021-03-10T02:53:25.401570",
     "exception": false,
     "start_time": "2021-03-10T02:53:25.371175",
     "status": "completed"
    },
    "tags": []
   },
   "outputs": [
    {
     "data": {
      "text/plain": [
       "PosixPath('/home/miltondp/projects/labs/greenelab/phenoplier/base/results/clustering/runs/umap-z_score_std-projection-smultixcan-efo_partial-mashr-zscores')"
      ]
     },
     "metadata": {},
     "output_type": "display_data"
    }
   ],
   "source": [
    "# output dir for this notebook\n",
    "RESULTS_DIR = Path(\n",
    "    conf.RESULTS[\"CLUSTERING_RUNS_DIR\"],\n",
    "    f\"{INPUT_SUBSET}-{INPUT_STEM}\",\n",
    ").resolve()\n",
    "RESULTS_DIR.mkdir(parents=True, exist_ok=True)\n",
    "\n",
    "display(RESULTS_DIR)"
   ]
  },
  {
   "cell_type": "markdown",
   "metadata": {
    "papermill": {
     "duration": 0.017174,
     "end_time": "2021-03-10T02:53:25.436642",
     "exception": false,
     "start_time": "2021-03-10T02:53:25.419468",
     "status": "completed"
    },
    "tags": []
   },
   "source": [
    "# Load input file"
   ]
  },
  {
   "cell_type": "code",
   "execution_count": 18,
   "metadata": {
    "execution": {
     "iopub.execute_input": "2021-03-10T02:53:25.474280Z",
     "iopub.status.busy": "2021-03-10T02:53:25.473923Z",
     "iopub.status.idle": "2021-03-10T02:53:25.485053Z",
     "shell.execute_reply": "2021-03-10T02:53:25.484638Z"
    },
    "papermill": {
     "duration": 0.030707,
     "end_time": "2021-03-10T02:53:25.485139",
     "exception": false,
     "start_time": "2021-03-10T02:53:25.454432",
     "status": "completed"
    },
    "tags": []
   },
   "outputs": [],
   "source": [
    "data = pd.read_pickle(input_filepath)"
   ]
  },
  {
   "cell_type": "code",
   "execution_count": 19,
   "metadata": {
    "execution": {
     "iopub.execute_input": "2021-03-10T02:53:25.523267Z",
     "iopub.status.busy": "2021-03-10T02:53:25.522905Z",
     "iopub.status.idle": "2021-03-10T02:53:25.533154Z",
     "shell.execute_reply": "2021-03-10T02:53:25.532792Z"
    },
    "papermill": {
     "duration": 0.030021,
     "end_time": "2021-03-10T02:53:25.533238",
     "exception": false,
     "start_time": "2021-03-10T02:53:25.503217",
     "status": "completed"
    },
    "tags": []
   },
   "outputs": [
    {
     "data": {
      "text/plain": [
       "(3752, 50)"
      ]
     },
     "execution_count": 19,
     "metadata": {},
     "output_type": "execute_result"
    }
   ],
   "source": [
    "data.shape"
   ]
  },
  {
   "cell_type": "code",
   "execution_count": 20,
   "metadata": {
    "execution": {
     "iopub.execute_input": "2021-03-10T02:53:25.571417Z",
     "iopub.status.busy": "2021-03-10T02:53:25.571046Z",
     "iopub.status.idle": "2021-03-10T02:53:25.593368Z",
     "shell.execute_reply": "2021-03-10T02:53:25.593025Z"
    },
    "papermill": {
     "duration": 0.042714,
     "end_time": "2021-03-10T02:53:25.593453",
     "exception": false,
     "start_time": "2021-03-10T02:53:25.550739",
     "status": "completed"
    },
    "tags": []
   },
   "outputs": [
    {
     "data": {
      "text/html": [
       "<div>\n",
       "<style scoped>\n",
       "    .dataframe tbody tr th:only-of-type {\n",
       "        vertical-align: middle;\n",
       "    }\n",
       "\n",
       "    .dataframe tbody tr th {\n",
       "        vertical-align: top;\n",
       "    }\n",
       "\n",
       "    .dataframe thead th {\n",
       "        text-align: right;\n",
       "    }\n",
       "</style>\n",
       "<table border=\"1\" class=\"dataframe\">\n",
       "  <thead>\n",
       "    <tr style=\"text-align: right;\">\n",
       "      <th></th>\n",
       "      <th>UMAP1</th>\n",
       "      <th>UMAP2</th>\n",
       "      <th>UMAP3</th>\n",
       "      <th>UMAP4</th>\n",
       "      <th>UMAP5</th>\n",
       "      <th>UMAP6</th>\n",
       "      <th>UMAP7</th>\n",
       "      <th>UMAP8</th>\n",
       "      <th>UMAP9</th>\n",
       "      <th>UMAP10</th>\n",
       "      <th>...</th>\n",
       "      <th>UMAP41</th>\n",
       "      <th>UMAP42</th>\n",
       "      <th>UMAP43</th>\n",
       "      <th>UMAP44</th>\n",
       "      <th>UMAP45</th>\n",
       "      <th>UMAP46</th>\n",
       "      <th>UMAP47</th>\n",
       "      <th>UMAP48</th>\n",
       "      <th>UMAP49</th>\n",
       "      <th>UMAP50</th>\n",
       "    </tr>\n",
       "  </thead>\n",
       "  <tbody>\n",
       "    <tr>\n",
       "      <th>100001_raw-Food_weight</th>\n",
       "      <td>9.587280</td>\n",
       "      <td>8.050184</td>\n",
       "      <td>9.340894</td>\n",
       "      <td>8.884522</td>\n",
       "      <td>4.562011</td>\n",
       "      <td>9.261327</td>\n",
       "      <td>9.078164</td>\n",
       "      <td>8.009141</td>\n",
       "      <td>9.288872</td>\n",
       "      <td>9.827831</td>\n",
       "      <td>...</td>\n",
       "      <td>9.753575</td>\n",
       "      <td>0.440851</td>\n",
       "      <td>-0.077164</td>\n",
       "      <td>-0.184829</td>\n",
       "      <td>9.345852</td>\n",
       "      <td>0.622542</td>\n",
       "      <td>-0.051136</td>\n",
       "      <td>4.266558</td>\n",
       "      <td>8.047482</td>\n",
       "      <td>-0.317385</td>\n",
       "    </tr>\n",
       "    <tr>\n",
       "      <th>100002_raw-Energy</th>\n",
       "      <td>9.910512</td>\n",
       "      <td>8.372274</td>\n",
       "      <td>9.605316</td>\n",
       "      <td>9.808598</td>\n",
       "      <td>4.641970</td>\n",
       "      <td>9.360196</td>\n",
       "      <td>8.848985</td>\n",
       "      <td>7.768594</td>\n",
       "      <td>9.231921</td>\n",
       "      <td>9.328465</td>\n",
       "      <td>...</td>\n",
       "      <td>9.647689</td>\n",
       "      <td>0.581584</td>\n",
       "      <td>0.547930</td>\n",
       "      <td>0.600128</td>\n",
       "      <td>8.976416</td>\n",
       "      <td>1.249645</td>\n",
       "      <td>0.234843</td>\n",
       "      <td>4.636343</td>\n",
       "      <td>7.173085</td>\n",
       "      <td>0.137119</td>\n",
       "    </tr>\n",
       "    <tr>\n",
       "      <th>100003_raw-Protein</th>\n",
       "      <td>9.923088</td>\n",
       "      <td>8.380640</td>\n",
       "      <td>9.609899</td>\n",
       "      <td>9.836457</td>\n",
       "      <td>4.647365</td>\n",
       "      <td>9.366775</td>\n",
       "      <td>8.835996</td>\n",
       "      <td>7.767549</td>\n",
       "      <td>9.230281</td>\n",
       "      <td>9.314386</td>\n",
       "      <td>...</td>\n",
       "      <td>9.642637</td>\n",
       "      <td>0.580362</td>\n",
       "      <td>0.565898</td>\n",
       "      <td>0.621073</td>\n",
       "      <td>8.967297</td>\n",
       "      <td>1.271435</td>\n",
       "      <td>0.243960</td>\n",
       "      <td>4.648671</td>\n",
       "      <td>7.149967</td>\n",
       "      <td>0.148192</td>\n",
       "    </tr>\n",
       "    <tr>\n",
       "      <th>100004_raw-Fat</th>\n",
       "      <td>9.898531</td>\n",
       "      <td>8.375697</td>\n",
       "      <td>9.600443</td>\n",
       "      <td>9.785713</td>\n",
       "      <td>4.639249</td>\n",
       "      <td>9.360721</td>\n",
       "      <td>8.886237</td>\n",
       "      <td>7.783376</td>\n",
       "      <td>9.237095</td>\n",
       "      <td>9.345434</td>\n",
       "      <td>...</td>\n",
       "      <td>9.648270</td>\n",
       "      <td>0.573073</td>\n",
       "      <td>0.521042</td>\n",
       "      <td>0.576926</td>\n",
       "      <td>8.979161</td>\n",
       "      <td>1.227988</td>\n",
       "      <td>0.231848</td>\n",
       "      <td>4.622777</td>\n",
       "      <td>7.205517</td>\n",
       "      <td>0.147385</td>\n",
       "    </tr>\n",
       "    <tr>\n",
       "      <th>100005_raw-Carbohydrate</th>\n",
       "      <td>9.895807</td>\n",
       "      <td>8.376662</td>\n",
       "      <td>9.605841</td>\n",
       "      <td>9.791338</td>\n",
       "      <td>4.636903</td>\n",
       "      <td>9.352356</td>\n",
       "      <td>8.867312</td>\n",
       "      <td>7.774787</td>\n",
       "      <td>9.233479</td>\n",
       "      <td>9.344456</td>\n",
       "      <td>...</td>\n",
       "      <td>9.652949</td>\n",
       "      <td>0.575161</td>\n",
       "      <td>0.529565</td>\n",
       "      <td>0.579919</td>\n",
       "      <td>8.988125</td>\n",
       "      <td>1.231771</td>\n",
       "      <td>0.226778</td>\n",
       "      <td>4.624360</td>\n",
       "      <td>7.194818</td>\n",
       "      <td>0.123104</td>\n",
       "    </tr>\n",
       "  </tbody>\n",
       "</table>\n",
       "<p>5 rows × 50 columns</p>\n",
       "</div>"
      ],
      "text/plain": [
       "                            UMAP1     UMAP2     UMAP3     UMAP4     UMAP5  \\\n",
       "100001_raw-Food_weight   9.587280  8.050184  9.340894  8.884522  4.562011   \n",
       "100002_raw-Energy        9.910512  8.372274  9.605316  9.808598  4.641970   \n",
       "100003_raw-Protein       9.923088  8.380640  9.609899  9.836457  4.647365   \n",
       "100004_raw-Fat           9.898531  8.375697  9.600443  9.785713  4.639249   \n",
       "100005_raw-Carbohydrate  9.895807  8.376662  9.605841  9.791338  4.636903   \n",
       "\n",
       "                            UMAP6     UMAP7     UMAP8     UMAP9    UMAP10  \\\n",
       "100001_raw-Food_weight   9.261327  9.078164  8.009141  9.288872  9.827831   \n",
       "100002_raw-Energy        9.360196  8.848985  7.768594  9.231921  9.328465   \n",
       "100003_raw-Protein       9.366775  8.835996  7.767549  9.230281  9.314386   \n",
       "100004_raw-Fat           9.360721  8.886237  7.783376  9.237095  9.345434   \n",
       "100005_raw-Carbohydrate  9.352356  8.867312  7.774787  9.233479  9.344456   \n",
       "\n",
       "                         ...    UMAP41    UMAP42    UMAP43    UMAP44  \\\n",
       "100001_raw-Food_weight   ...  9.753575  0.440851 -0.077164 -0.184829   \n",
       "100002_raw-Energy        ...  9.647689  0.581584  0.547930  0.600128   \n",
       "100003_raw-Protein       ...  9.642637  0.580362  0.565898  0.621073   \n",
       "100004_raw-Fat           ...  9.648270  0.573073  0.521042  0.576926   \n",
       "100005_raw-Carbohydrate  ...  9.652949  0.575161  0.529565  0.579919   \n",
       "\n",
       "                           UMAP45    UMAP46    UMAP47    UMAP48    UMAP49  \\\n",
       "100001_raw-Food_weight   9.345852  0.622542 -0.051136  4.266558  8.047482   \n",
       "100002_raw-Energy        8.976416  1.249645  0.234843  4.636343  7.173085   \n",
       "100003_raw-Protein       8.967297  1.271435  0.243960  4.648671  7.149967   \n",
       "100004_raw-Fat           8.979161  1.227988  0.231848  4.622777  7.205517   \n",
       "100005_raw-Carbohydrate  8.988125  1.231771  0.226778  4.624360  7.194818   \n",
       "\n",
       "                           UMAP50  \n",
       "100001_raw-Food_weight  -0.317385  \n",
       "100002_raw-Energy        0.137119  \n",
       "100003_raw-Protein       0.148192  \n",
       "100004_raw-Fat           0.147385  \n",
       "100005_raw-Carbohydrate  0.123104  \n",
       "\n",
       "[5 rows x 50 columns]"
      ]
     },
     "execution_count": 20,
     "metadata": {},
     "output_type": "execute_result"
    }
   ],
   "source": [
    "data.head()"
   ]
  },
  {
   "cell_type": "code",
   "execution_count": 21,
   "metadata": {
    "execution": {
     "iopub.execute_input": "2021-03-10T02:53:25.633443Z",
     "iopub.status.busy": "2021-03-10T02:53:25.632954Z",
     "iopub.status.idle": "2021-03-10T02:53:25.643065Z",
     "shell.execute_reply": "2021-03-10T02:53:25.642714Z"
    },
    "papermill": {
     "duration": 0.03041,
     "end_time": "2021-03-10T02:53:25.643153",
     "exception": false,
     "start_time": "2021-03-10T02:53:25.612743",
     "status": "completed"
    },
    "tags": []
   },
   "outputs": [],
   "source": [
    "assert not data.isna().any().any()"
   ]
  },
  {
   "cell_type": "markdown",
   "metadata": {
    "papermill": {
     "duration": 0.017809,
     "end_time": "2021-03-10T02:53:25.679804",
     "exception": false,
     "start_time": "2021-03-10T02:53:25.661995",
     "status": "completed"
    },
    "tags": []
   },
   "source": [
    "# Clustering"
   ]
  },
  {
   "cell_type": "markdown",
   "metadata": {
    "papermill": {
     "duration": 0.01773,
     "end_time": "2021-03-10T02:53:25.715910",
     "exception": false,
     "start_time": "2021-03-10T02:53:25.698180",
     "status": "completed"
    },
    "tags": []
   },
   "source": [
    "## Generate ensemble"
   ]
  },
  {
   "cell_type": "code",
   "execution_count": 22,
   "metadata": {
    "execution": {
     "iopub.execute_input": "2021-03-10T02:53:25.754194Z",
     "iopub.status.busy": "2021-03-10T02:53:25.753834Z",
     "iopub.status.idle": "2021-03-10T02:53:25.766672Z",
     "shell.execute_reply": "2021-03-10T02:53:25.766296Z"
    },
    "papermill": {
     "duration": 0.032838,
     "end_time": "2021-03-10T02:53:25.766757",
     "exception": false,
     "start_time": "2021-03-10T02:53:25.733919",
     "status": "completed"
    },
    "tags": []
   },
   "outputs": [],
   "source": [
    "from sklearn.metrics import pairwise_distances\n",
    "from clustering.ensembles.utils import generate_ensemble"
   ]
  },
  {
   "cell_type": "code",
   "execution_count": 23,
   "metadata": {
    "execution": {
     "iopub.execute_input": "2021-03-10T02:53:25.805985Z",
     "iopub.status.busy": "2021-03-10T02:53:25.805614Z",
     "iopub.status.idle": "2021-03-10T02:53:25.927150Z",
     "shell.execute_reply": "2021-03-10T02:53:25.926765Z"
    },
    "papermill": {
     "duration": 0.142234,
     "end_time": "2021-03-10T02:53:25.927236",
     "exception": false,
     "start_time": "2021-03-10T02:53:25.785002",
     "status": "completed"
    },
    "tags": []
   },
   "outputs": [],
   "source": [
    "data_dist = pairwise_distances(data, metric=CLUSTERING_OPTIONS[\"AFFINITY\"])"
   ]
  },
  {
   "cell_type": "code",
   "execution_count": 24,
   "metadata": {
    "execution": {
     "iopub.execute_input": "2021-03-10T02:53:25.966798Z",
     "iopub.status.busy": "2021-03-10T02:53:25.966428Z",
     "iopub.status.idle": "2021-03-10T02:53:25.976446Z",
     "shell.execute_reply": "2021-03-10T02:53:25.976765Z"
    },
    "papermill": {
     "duration": 0.030771,
     "end_time": "2021-03-10T02:53:25.976872",
     "exception": false,
     "start_time": "2021-03-10T02:53:25.946101",
     "status": "completed"
    },
    "tags": []
   },
   "outputs": [
    {
     "data": {
      "text/plain": [
       "(3752, 3752)"
      ]
     },
     "execution_count": 24,
     "metadata": {},
     "output_type": "execute_result"
    }
   ],
   "source": [
    "data_dist.shape"
   ]
  },
  {
   "cell_type": "code",
   "execution_count": 25,
   "metadata": {
    "execution": {
     "iopub.execute_input": "2021-03-10T02:53:26.017160Z",
     "iopub.status.busy": "2021-03-10T02:53:26.016799Z",
     "iopub.status.idle": "2021-03-10T02:53:26.445802Z",
     "shell.execute_reply": "2021-03-10T02:53:26.446090Z"
    },
    "papermill": {
     "duration": 0.450156,
     "end_time": "2021-03-10T02:53:26.446199",
     "exception": false,
     "start_time": "2021-03-10T02:53:25.996043",
     "status": "completed"
    },
    "tags": []
   },
   "outputs": [
    {
     "data": {
      "text/plain": [
       "count            14077504.0\n",
       "mean      3.086747407913208\n",
       "std      1.5393855571746826\n",
       "min                     0.0\n",
       "25%        2.05721515417099\n",
       "50%       3.083280563354492\n",
       "75%      3.9437204003334045\n",
       "max      15.400805473327637\n",
       "dtype: object"
      ]
     },
     "execution_count": 25,
     "metadata": {},
     "output_type": "execute_result"
    }
   ],
   "source": [
    "pd.Series(data_dist.flatten()).describe().apply(str)"
   ]
  },
  {
   "cell_type": "code",
   "execution_count": 26,
   "metadata": {
    "execution": {
     "iopub.execute_input": "2021-03-10T02:53:26.485413Z",
     "iopub.status.busy": "2021-03-10T02:53:26.485039Z",
     "iopub.status.idle": "2021-03-10T03:20:14.372884Z",
     "shell.execute_reply": "2021-03-10T03:20:14.372434Z"
    },
    "papermill": {
     "duration": 1607.908095,
     "end_time": "2021-03-10T03:20:14.372981",
     "exception": false,
     "start_time": "2021-03-10T02:53:26.464886",
     "status": "completed"
    },
    "tags": []
   },
   "outputs": [
    {
     "name": "stderr",
     "output_type": "stream",
     "text": [
      "\r",
      "  0%|          | 0/296 [00:00<?, ?it/s]"
     ]
    },
    {
     "name": "stderr",
     "output_type": "stream",
     "text": [
      "\r",
      "  0%|          | 1/296 [00:00<01:27,  3.37it/s]"
     ]
    },
    {
     "name": "stderr",
     "output_type": "stream",
     "text": [
      "\r",
      "  1%|          | 2/296 [00:00<01:17,  3.79it/s]"
     ]
    },
    {
     "name": "stderr",
     "output_type": "stream",
     "text": [
      "\r",
      "  1%|          | 3/296 [00:21<31:43,  6.50s/it]"
     ]
    },
    {
     "name": "stderr",
     "output_type": "stream",
     "text": [
      "\r",
      "  1%|▏         | 4/296 [00:21<22:35,  4.64s/it]"
     ]
    },
    {
     "name": "stderr",
     "output_type": "stream",
     "text": [
      "\r",
      "  2%|▏         | 5/296 [00:22<16:10,  3.34s/it]"
     ]
    },
    {
     "name": "stderr",
     "output_type": "stream",
     "text": [
      "\r",
      "  2%|▏         | 6/296 [00:22<11:33,  2.39s/it]"
     ]
    },
    {
     "name": "stderr",
     "output_type": "stream",
     "text": [
      "\r",
      "  2%|▏         | 7/296 [00:43<38:22,  7.97s/it]"
     ]
    },
    {
     "name": "stderr",
     "output_type": "stream",
     "text": [
      "\r",
      "  3%|▎         | 8/296 [00:43<27:13,  5.67s/it]"
     ]
    },
    {
     "name": "stderr",
     "output_type": "stream",
     "text": [
      "\r",
      "  3%|▎         | 9/296 [00:43<19:24,  4.06s/it]"
     ]
    },
    {
     "name": "stderr",
     "output_type": "stream",
     "text": [
      "\r",
      "  3%|▎         | 10/296 [00:44<13:47,  2.89s/it]"
     ]
    },
    {
     "name": "stderr",
     "output_type": "stream",
     "text": [
      "\r",
      "  4%|▎         | 11/296 [01:05<39:31,  8.32s/it]"
     ]
    },
    {
     "name": "stderr",
     "output_type": "stream",
     "text": [
      "\r",
      "  4%|▍         | 12/296 [01:05<28:00,  5.92s/it]"
     ]
    },
    {
     "name": "stderr",
     "output_type": "stream",
     "text": [
      "\r",
      "  4%|▍         | 13/296 [01:05<19:57,  4.23s/it]"
     ]
    },
    {
     "name": "stderr",
     "output_type": "stream",
     "text": [
      "\r",
      "  5%|▍         | 14/296 [01:05<14:10,  3.02s/it]"
     ]
    },
    {
     "name": "stderr",
     "output_type": "stream",
     "text": [
      "\r",
      "  5%|▌         | 15/296 [01:26<39:17,  8.39s/it]"
     ]
    },
    {
     "name": "stderr",
     "output_type": "stream",
     "text": [
      "\r",
      "  5%|▌         | 16/296 [01:27<27:50,  5.97s/it]"
     ]
    },
    {
     "name": "stderr",
     "output_type": "stream",
     "text": [
      "\r",
      "  6%|▌         | 17/296 [01:27<19:49,  4.26s/it]"
     ]
    },
    {
     "name": "stderr",
     "output_type": "stream",
     "text": [
      "\r",
      "  6%|▌         | 18/296 [01:27<14:05,  3.04s/it]"
     ]
    },
    {
     "name": "stderr",
     "output_type": "stream",
     "text": [
      "\r",
      "  6%|▋         | 19/296 [01:48<38:48,  8.41s/it]"
     ]
    },
    {
     "name": "stderr",
     "output_type": "stream",
     "text": [
      "\r",
      "  7%|▋         | 20/296 [01:48<27:29,  5.98s/it]"
     ]
    },
    {
     "name": "stderr",
     "output_type": "stream",
     "text": [
      "\r",
      "  7%|▋         | 21/296 [01:49<19:35,  4.27s/it]"
     ]
    },
    {
     "name": "stderr",
     "output_type": "stream",
     "text": [
      "\r",
      "  7%|▋         | 22/296 [01:49<13:54,  3.05s/it]"
     ]
    },
    {
     "name": "stderr",
     "output_type": "stream",
     "text": [
      "\r",
      "  8%|▊         | 23/296 [02:10<38:11,  8.39s/it]"
     ]
    },
    {
     "name": "stderr",
     "output_type": "stream",
     "text": [
      "\r",
      "  8%|▊         | 24/296 [02:10<27:03,  5.97s/it]"
     ]
    },
    {
     "name": "stderr",
     "output_type": "stream",
     "text": [
      "\r",
      "  8%|▊         | 25/296 [02:10<19:15,  4.27s/it]"
     ]
    },
    {
     "name": "stderr",
     "output_type": "stream",
     "text": [
      "\r",
      "  9%|▉         | 26/296 [02:10<13:41,  3.04s/it]"
     ]
    },
    {
     "name": "stderr",
     "output_type": "stream",
     "text": [
      "\r",
      "  9%|▉         | 27/296 [02:31<37:35,  8.39s/it]"
     ]
    },
    {
     "name": "stderr",
     "output_type": "stream",
     "text": [
      "\r",
      "  9%|▉         | 28/296 [02:32<26:37,  5.96s/it]"
     ]
    },
    {
     "name": "stderr",
     "output_type": "stream",
     "text": [
      "\r",
      " 10%|▉         | 29/296 [02:32<18:57,  4.26s/it]"
     ]
    },
    {
     "name": "stderr",
     "output_type": "stream",
     "text": [
      "\r",
      " 10%|█         | 30/296 [02:32<13:27,  3.04s/it]"
     ]
    },
    {
     "name": "stderr",
     "output_type": "stream",
     "text": [
      "\r",
      " 10%|█         | 31/296 [02:53<37:12,  8.42s/it]"
     ]
    },
    {
     "name": "stderr",
     "output_type": "stream",
     "text": [
      "\r",
      " 11%|█         | 32/296 [02:53<26:21,  5.99s/it]"
     ]
    },
    {
     "name": "stderr",
     "output_type": "stream",
     "text": [
      "\r",
      " 11%|█         | 33/296 [02:54<18:45,  4.28s/it]"
     ]
    },
    {
     "name": "stderr",
     "output_type": "stream",
     "text": [
      "\r",
      " 11%|█▏        | 34/296 [02:54<13:19,  3.05s/it]"
     ]
    },
    {
     "name": "stderr",
     "output_type": "stream",
     "text": [
      "\r",
      " 12%|█▏        | 35/296 [03:15<36:30,  8.39s/it]"
     ]
    },
    {
     "name": "stderr",
     "output_type": "stream",
     "text": [
      "\r",
      " 12%|█▏        | 36/296 [03:15<25:51,  5.97s/it]"
     ]
    },
    {
     "name": "stderr",
     "output_type": "stream",
     "text": [
      "\r",
      " 12%|█▎        | 37/296 [03:15<18:24,  4.27s/it]"
     ]
    },
    {
     "name": "stderr",
     "output_type": "stream",
     "text": [
      "\r",
      " 13%|█▎        | 38/296 [03:15<13:04,  3.04s/it]"
     ]
    },
    {
     "name": "stderr",
     "output_type": "stream",
     "text": [
      "\r",
      " 13%|█▎        | 39/296 [03:36<36:02,  8.41s/it]"
     ]
    },
    {
     "name": "stderr",
     "output_type": "stream",
     "text": [
      "\r",
      " 14%|█▎        | 40/296 [03:37<25:31,  5.98s/it]"
     ]
    },
    {
     "name": "stderr",
     "output_type": "stream",
     "text": [
      "\r",
      " 14%|█▍        | 41/296 [03:37<18:10,  4.28s/it]"
     ]
    },
    {
     "name": "stderr",
     "output_type": "stream",
     "text": [
      "\r",
      " 14%|█▍        | 42/296 [03:37<12:54,  3.05s/it]"
     ]
    },
    {
     "name": "stderr",
     "output_type": "stream",
     "text": [
      "\r",
      " 15%|█▍        | 43/296 [03:58<35:22,  8.39s/it]"
     ]
    },
    {
     "name": "stderr",
     "output_type": "stream",
     "text": [
      "\r",
      " 15%|█▍        | 44/296 [03:58<25:03,  5.97s/it]"
     ]
    },
    {
     "name": "stderr",
     "output_type": "stream",
     "text": [
      "\r",
      " 15%|█▌        | 45/296 [03:59<17:50,  4.26s/it]"
     ]
    },
    {
     "name": "stderr",
     "output_type": "stream",
     "text": [
      "\r",
      " 16%|█▌        | 46/296 [03:59<12:40,  3.04s/it]"
     ]
    },
    {
     "name": "stderr",
     "output_type": "stream",
     "text": [
      "\r",
      " 16%|█▌        | 47/296 [04:20<34:54,  8.41s/it]"
     ]
    },
    {
     "name": "stderr",
     "output_type": "stream",
     "text": [
      "\r",
      " 16%|█▌        | 48/296 [04:20<24:42,  5.98s/it]"
     ]
    },
    {
     "name": "stderr",
     "output_type": "stream",
     "text": [
      "\r",
      " 17%|█▋        | 49/296 [04:20<17:35,  4.27s/it]"
     ]
    },
    {
     "name": "stderr",
     "output_type": "stream",
     "text": [
      "\r",
      " 17%|█▋        | 50/296 [04:21<12:29,  3.05s/it]"
     ]
    },
    {
     "name": "stderr",
     "output_type": "stream",
     "text": [
      "\r",
      " 17%|█▋        | 51/296 [04:42<34:19,  8.41s/it]"
     ]
    },
    {
     "name": "stderr",
     "output_type": "stream",
     "text": [
      "\r",
      " 18%|█▊        | 52/296 [04:42<24:18,  5.98s/it]"
     ]
    },
    {
     "name": "stderr",
     "output_type": "stream",
     "text": [
      "\r",
      " 18%|█▊        | 53/296 [04:42<17:18,  4.27s/it]"
     ]
    },
    {
     "name": "stderr",
     "output_type": "stream",
     "text": [
      "\r",
      " 18%|█▊        | 54/296 [04:42<12:16,  3.05s/it]"
     ]
    },
    {
     "name": "stderr",
     "output_type": "stream",
     "text": [
      "\r",
      " 19%|█▊        | 55/296 [05:03<33:41,  8.39s/it]"
     ]
    },
    {
     "name": "stderr",
     "output_type": "stream",
     "text": [
      "\r",
      " 19%|█▉        | 56/296 [05:03<23:51,  5.97s/it]"
     ]
    },
    {
     "name": "stderr",
     "output_type": "stream",
     "text": [
      "\r",
      " 19%|█▉        | 57/296 [05:04<16:59,  4.26s/it]"
     ]
    },
    {
     "name": "stderr",
     "output_type": "stream",
     "text": [
      "\r",
      " 20%|█▉        | 58/296 [05:04<12:03,  3.04s/it]"
     ]
    },
    {
     "name": "stderr",
     "output_type": "stream",
     "text": [
      "\r",
      " 20%|█▉        | 59/296 [05:25<33:14,  8.42s/it]"
     ]
    },
    {
     "name": "stderr",
     "output_type": "stream",
     "text": [
      "\r",
      " 20%|██        | 60/296 [05:25<23:32,  5.98s/it]"
     ]
    },
    {
     "name": "stderr",
     "output_type": "stream",
     "text": [
      "\r",
      " 21%|██        | 61/296 [05:25<16:45,  4.28s/it]"
     ]
    },
    {
     "name": "stderr",
     "output_type": "stream",
     "text": [
      "\r",
      " 21%|██        | 62/296 [05:26<11:53,  3.05s/it]"
     ]
    },
    {
     "name": "stderr",
     "output_type": "stream",
     "text": [
      "\r",
      " 21%|██▏       | 63/296 [05:46<32:31,  8.38s/it]"
     ]
    },
    {
     "name": "stderr",
     "output_type": "stream",
     "text": [
      "\r",
      " 22%|██▏       | 64/296 [05:47<23:01,  5.96s/it]"
     ]
    },
    {
     "name": "stderr",
     "output_type": "stream",
     "text": [
      "\r",
      " 22%|██▏       | 65/296 [05:47<16:23,  4.26s/it]"
     ]
    },
    {
     "name": "stderr",
     "output_type": "stream",
     "text": [
      "\r",
      " 22%|██▏       | 66/296 [05:47<11:37,  3.03s/it]"
     ]
    },
    {
     "name": "stderr",
     "output_type": "stream",
     "text": [
      "\r",
      " 23%|██▎       | 67/296 [06:08<32:04,  8.40s/it]"
     ]
    },
    {
     "name": "stderr",
     "output_type": "stream",
     "text": [
      "\r",
      " 23%|██▎       | 68/296 [06:09<22:42,  5.97s/it]"
     ]
    },
    {
     "name": "stderr",
     "output_type": "stream",
     "text": [
      "\r",
      " 23%|██▎       | 69/296 [06:09<16:09,  4.27s/it]"
     ]
    },
    {
     "name": "stderr",
     "output_type": "stream",
     "text": [
      "\r",
      " 24%|██▎       | 70/296 [06:09<11:27,  3.04s/it]"
     ]
    },
    {
     "name": "stderr",
     "output_type": "stream",
     "text": [
      "\r",
      " 24%|██▍       | 71/296 [06:30<31:34,  8.42s/it]"
     ]
    },
    {
     "name": "stderr",
     "output_type": "stream",
     "text": [
      "\r",
      " 24%|██▍       | 72/296 [06:30<22:21,  5.99s/it]"
     ]
    },
    {
     "name": "stderr",
     "output_type": "stream",
     "text": [
      "\r",
      " 25%|██▍       | 73/296 [06:31<15:54,  4.28s/it]"
     ]
    },
    {
     "name": "stderr",
     "output_type": "stream",
     "text": [
      "\r",
      " 25%|██▌       | 74/296 [06:31<11:17,  3.05s/it]"
     ]
    },
    {
     "name": "stderr",
     "output_type": "stream",
     "text": [
      "\r",
      " 25%|██▌       | 75/296 [06:52<31:05,  8.44s/it]"
     ]
    },
    {
     "name": "stderr",
     "output_type": "stream",
     "text": [
      "\r",
      " 26%|██▌       | 76/296 [06:52<22:00,  6.00s/it]"
     ]
    },
    {
     "name": "stderr",
     "output_type": "stream",
     "text": [
      "\r",
      " 26%|██▌       | 77/296 [06:52<15:39,  4.29s/it]"
     ]
    },
    {
     "name": "stderr",
     "output_type": "stream",
     "text": [
      "\r",
      " 26%|██▋       | 78/296 [06:53<11:06,  3.06s/it]"
     ]
    },
    {
     "name": "stderr",
     "output_type": "stream",
     "text": [
      "\r",
      " 27%|██▋       | 79/296 [07:13<30:27,  8.42s/it]"
     ]
    },
    {
     "name": "stderr",
     "output_type": "stream",
     "text": [
      "\r",
      " 27%|██▋       | 80/296 [07:14<21:33,  5.99s/it]"
     ]
    },
    {
     "name": "stderr",
     "output_type": "stream",
     "text": [
      "\r",
      " 27%|██▋       | 81/296 [07:14<15:19,  4.28s/it]"
     ]
    },
    {
     "name": "stderr",
     "output_type": "stream",
     "text": [
      "\r",
      " 28%|██▊       | 82/296 [07:14<10:52,  3.05s/it]"
     ]
    },
    {
     "name": "stderr",
     "output_type": "stream",
     "text": [
      "\r",
      " 28%|██▊       | 83/296 [07:35<29:51,  8.41s/it]"
     ]
    },
    {
     "name": "stderr",
     "output_type": "stream",
     "text": [
      "\r",
      " 28%|██▊       | 84/296 [07:35<21:07,  5.98s/it]"
     ]
    },
    {
     "name": "stderr",
     "output_type": "stream",
     "text": [
      "\r",
      " 29%|██▊       | 85/296 [07:36<15:01,  4.27s/it]"
     ]
    },
    {
     "name": "stderr",
     "output_type": "stream",
     "text": [
      "\r",
      " 29%|██▉       | 86/296 [07:36<10:39,  3.05s/it]"
     ]
    },
    {
     "name": "stderr",
     "output_type": "stream",
     "text": [
      "\r",
      " 29%|██▉       | 87/296 [07:57<29:13,  8.39s/it]"
     ]
    },
    {
     "name": "stderr",
     "output_type": "stream",
     "text": [
      "\r",
      " 30%|██▉       | 88/296 [07:57<20:40,  5.97s/it]"
     ]
    },
    {
     "name": "stderr",
     "output_type": "stream",
     "text": [
      "\r",
      " 30%|███       | 89/296 [07:57<14:42,  4.26s/it]"
     ]
    },
    {
     "name": "stderr",
     "output_type": "stream",
     "text": [
      "\r",
      " 30%|███       | 90/296 [07:58<10:25,  3.04s/it]"
     ]
    },
    {
     "name": "stderr",
     "output_type": "stream",
     "text": [
      "\r",
      " 31%|███       | 91/296 [08:18<28:36,  8.37s/it]"
     ]
    },
    {
     "name": "stderr",
     "output_type": "stream",
     "text": [
      "\r",
      " 31%|███       | 92/296 [08:19<20:14,  5.95s/it]"
     ]
    },
    {
     "name": "stderr",
     "output_type": "stream",
     "text": [
      "\r",
      " 31%|███▏      | 93/296 [08:19<14:23,  4.26s/it]"
     ]
    },
    {
     "name": "stderr",
     "output_type": "stream",
     "text": [
      "\r",
      " 32%|███▏      | 94/296 [08:19<10:12,  3.03s/it]"
     ]
    },
    {
     "name": "stderr",
     "output_type": "stream",
     "text": [
      "\r",
      " 32%|███▏      | 95/296 [08:40<28:10,  8.41s/it]"
     ]
    },
    {
     "name": "stderr",
     "output_type": "stream",
     "text": [
      "\r",
      " 32%|███▏      | 96/296 [08:40<19:56,  5.98s/it]"
     ]
    },
    {
     "name": "stderr",
     "output_type": "stream",
     "text": [
      "\r",
      " 33%|███▎      | 97/296 [08:41<14:10,  4.27s/it]"
     ]
    },
    {
     "name": "stderr",
     "output_type": "stream",
     "text": [
      "\r",
      " 33%|███▎      | 98/296 [08:41<10:03,  3.05s/it]"
     ]
    },
    {
     "name": "stderr",
     "output_type": "stream",
     "text": [
      "\r",
      " 33%|███▎      | 99/296 [09:02<27:34,  8.40s/it]"
     ]
    },
    {
     "name": "stderr",
     "output_type": "stream",
     "text": [
      "\r",
      " 34%|███▍      | 100/296 [09:02<19:30,  5.97s/it]"
     ]
    },
    {
     "name": "stderr",
     "output_type": "stream",
     "text": [
      "\r",
      " 34%|███▍      | 101/296 [09:02<13:52,  4.27s/it]"
     ]
    },
    {
     "name": "stderr",
     "output_type": "stream",
     "text": [
      "\r",
      " 34%|███▍      | 102/296 [09:03<09:50,  3.04s/it]"
     ]
    },
    {
     "name": "stderr",
     "output_type": "stream",
     "text": [
      "\r",
      " 35%|███▍      | 103/296 [09:23<26:59,  8.39s/it]"
     ]
    },
    {
     "name": "stderr",
     "output_type": "stream",
     "text": [
      "\r",
      " 35%|███▌      | 104/296 [09:24<19:05,  5.97s/it]"
     ]
    },
    {
     "name": "stderr",
     "output_type": "stream",
     "text": [
      "\r",
      " 35%|███▌      | 105/296 [09:24<13:34,  4.26s/it]"
     ]
    },
    {
     "name": "stderr",
     "output_type": "stream",
     "text": [
      "\r",
      " 36%|███▌      | 106/296 [09:24<09:37,  3.04s/it]"
     ]
    },
    {
     "name": "stderr",
     "output_type": "stream",
     "text": [
      "\r",
      " 36%|███▌      | 107/296 [09:45<26:33,  8.43s/it]"
     ]
    },
    {
     "name": "stderr",
     "output_type": "stream",
     "text": [
      "\r",
      " 36%|███▋      | 108/296 [09:46<18:47,  6.00s/it]"
     ]
    },
    {
     "name": "stderr",
     "output_type": "stream",
     "text": [
      "\r",
      " 37%|███▋      | 109/296 [09:46<13:21,  4.29s/it]"
     ]
    },
    {
     "name": "stderr",
     "output_type": "stream",
     "text": [
      "\r",
      " 37%|███▋      | 110/296 [09:46<09:28,  3.05s/it]"
     ]
    },
    {
     "name": "stderr",
     "output_type": "stream",
     "text": [
      "\r",
      " 38%|███▊      | 111/296 [10:07<26:01,  8.44s/it]"
     ]
    },
    {
     "name": "stderr",
     "output_type": "stream",
     "text": [
      "\r",
      " 38%|███▊      | 112/296 [10:07<18:24,  6.00s/it]"
     ]
    },
    {
     "name": "stderr",
     "output_type": "stream",
     "text": [
      "\r",
      " 38%|███▊      | 113/296 [10:08<13:04,  4.29s/it]"
     ]
    },
    {
     "name": "stderr",
     "output_type": "stream",
     "text": [
      "\r",
      " 39%|███▊      | 114/296 [10:08<09:16,  3.06s/it]"
     ]
    },
    {
     "name": "stderr",
     "output_type": "stream",
     "text": [
      "\r",
      " 39%|███▉      | 115/296 [10:29<25:21,  8.41s/it]"
     ]
    },
    {
     "name": "stderr",
     "output_type": "stream",
     "text": [
      "\r",
      " 39%|███▉      | 116/296 [10:29<17:55,  5.98s/it]"
     ]
    },
    {
     "name": "stderr",
     "output_type": "stream",
     "text": [
      "\r",
      " 40%|███▉      | 117/296 [10:29<12:44,  4.27s/it]"
     ]
    },
    {
     "name": "stderr",
     "output_type": "stream",
     "text": [
      "\r",
      " 40%|███▉      | 118/296 [10:30<09:02,  3.05s/it]"
     ]
    },
    {
     "name": "stderr",
     "output_type": "stream",
     "text": [
      "\r",
      " 40%|████      | 119/296 [10:50<24:47,  8.41s/it]"
     ]
    },
    {
     "name": "stderr",
     "output_type": "stream",
     "text": [
      "\r",
      " 41%|████      | 120/296 [10:51<17:31,  5.98s/it]"
     ]
    },
    {
     "name": "stderr",
     "output_type": "stream",
     "text": [
      "\r",
      " 41%|████      | 121/296 [10:51<12:27,  4.27s/it]"
     ]
    },
    {
     "name": "stderr",
     "output_type": "stream",
     "text": [
      "\r",
      " 41%|████      | 122/296 [10:51<08:49,  3.05s/it]"
     ]
    },
    {
     "name": "stderr",
     "output_type": "stream",
     "text": [
      "\r",
      " 42%|████▏     | 123/296 [11:12<24:14,  8.41s/it]"
     ]
    },
    {
     "name": "stderr",
     "output_type": "stream",
     "text": [
      "\r",
      " 42%|████▏     | 124/296 [11:12<17:08,  5.98s/it]"
     ]
    },
    {
     "name": "stderr",
     "output_type": "stream",
     "text": [
      "\r",
      " 42%|████▏     | 125/296 [11:13<12:10,  4.27s/it]"
     ]
    },
    {
     "name": "stderr",
     "output_type": "stream",
     "text": [
      "\r",
      " 43%|████▎     | 126/296 [11:13<08:37,  3.05s/it]"
     ]
    },
    {
     "name": "stderr",
     "output_type": "stream",
     "text": [
      "\r",
      " 43%|████▎     | 127/296 [11:34<23:35,  8.38s/it]"
     ]
    },
    {
     "name": "stderr",
     "output_type": "stream",
     "text": [
      "\r",
      " 43%|████▎     | 128/296 [11:34<16:40,  5.96s/it]"
     ]
    },
    {
     "name": "stderr",
     "output_type": "stream",
     "text": [
      "\r",
      " 44%|████▎     | 129/296 [11:34<11:51,  4.26s/it]"
     ]
    },
    {
     "name": "stderr",
     "output_type": "stream",
     "text": [
      "\r",
      " 44%|████▍     | 130/296 [11:35<08:23,  3.03s/it]"
     ]
    },
    {
     "name": "stderr",
     "output_type": "stream",
     "text": [
      "\r",
      " 44%|████▍     | 131/296 [11:55<22:58,  8.36s/it]"
     ]
    },
    {
     "name": "stderr",
     "output_type": "stream",
     "text": [
      "\r",
      " 45%|████▍     | 132/296 [11:56<16:14,  5.94s/it]"
     ]
    },
    {
     "name": "stderr",
     "output_type": "stream",
     "text": [
      "\r",
      " 45%|████▍     | 133/296 [11:56<11:32,  4.25s/it]"
     ]
    },
    {
     "name": "stderr",
     "output_type": "stream",
     "text": [
      "\r",
      " 45%|████▌     | 134/296 [11:56<08:10,  3.03s/it]"
     ]
    },
    {
     "name": "stderr",
     "output_type": "stream",
     "text": [
      "\r",
      " 46%|████▌     | 135/296 [12:17<22:24,  8.35s/it]"
     ]
    },
    {
     "name": "stderr",
     "output_type": "stream",
     "text": [
      "\r",
      " 46%|████▌     | 136/296 [12:17<15:50,  5.94s/it]"
     ]
    },
    {
     "name": "stderr",
     "output_type": "stream",
     "text": [
      "\r",
      " 46%|████▋     | 137/296 [12:17<11:14,  4.24s/it]"
     ]
    },
    {
     "name": "stderr",
     "output_type": "stream",
     "text": [
      "\r",
      " 47%|████▋     | 138/296 [12:18<07:58,  3.03s/it]"
     ]
    },
    {
     "name": "stderr",
     "output_type": "stream",
     "text": [
      "\r",
      " 47%|████▋     | 139/296 [12:39<22:00,  8.41s/it]"
     ]
    },
    {
     "name": "stderr",
     "output_type": "stream",
     "text": [
      "\r",
      " 47%|████▋     | 140/296 [12:39<15:33,  5.98s/it]"
     ]
    },
    {
     "name": "stderr",
     "output_type": "stream",
     "text": [
      "\r",
      " 48%|████▊     | 141/296 [12:39<11:02,  4.27s/it]"
     ]
    },
    {
     "name": "stderr",
     "output_type": "stream",
     "text": [
      "\r",
      " 48%|████▊     | 142/296 [12:39<07:49,  3.05s/it]"
     ]
    },
    {
     "name": "stderr",
     "output_type": "stream",
     "text": [
      "\r",
      " 48%|████▊     | 143/296 [13:00<21:22,  8.38s/it]"
     ]
    },
    {
     "name": "stderr",
     "output_type": "stream",
     "text": [
      "\r",
      " 49%|████▊     | 144/296 [13:01<15:06,  5.96s/it]"
     ]
    },
    {
     "name": "stderr",
     "output_type": "stream",
     "text": [
      "\r",
      " 49%|████▉     | 145/296 [13:01<10:43,  4.26s/it]"
     ]
    },
    {
     "name": "stderr",
     "output_type": "stream",
     "text": [
      "\r",
      " 49%|████▉     | 146/296 [13:01<07:35,  3.04s/it]"
     ]
    },
    {
     "name": "stderr",
     "output_type": "stream",
     "text": [
      "\r",
      " 50%|████▉     | 147/296 [13:22<20:51,  8.40s/it]"
     ]
    },
    {
     "name": "stderr",
     "output_type": "stream",
     "text": [
      "\r",
      " 50%|█████     | 148/296 [13:22<14:44,  5.97s/it]"
     ]
    },
    {
     "name": "stderr",
     "output_type": "stream",
     "text": [
      "\r",
      " 50%|█████     | 149/296 [13:23<10:27,  4.27s/it]"
     ]
    },
    {
     "name": "stderr",
     "output_type": "stream",
     "text": [
      "\r",
      " 51%|█████     | 150/296 [13:23<07:24,  3.04s/it]"
     ]
    },
    {
     "name": "stderr",
     "output_type": "stream",
     "text": [
      "\r",
      " 51%|█████     | 151/296 [13:44<20:16,  8.39s/it]"
     ]
    },
    {
     "name": "stderr",
     "output_type": "stream",
     "text": [
      "\r",
      " 51%|█████▏    | 152/296 [13:44<14:19,  5.97s/it]"
     ]
    },
    {
     "name": "stderr",
     "output_type": "stream",
     "text": [
      "\r",
      " 52%|█████▏    | 153/296 [13:44<10:09,  4.26s/it]"
     ]
    },
    {
     "name": "stderr",
     "output_type": "stream",
     "text": [
      "\r",
      " 52%|█████▏    | 154/296 [13:44<07:11,  3.04s/it]"
     ]
    },
    {
     "name": "stderr",
     "output_type": "stream",
     "text": [
      "\r",
      " 52%|█████▏    | 155/296 [14:05<19:44,  8.40s/it]"
     ]
    },
    {
     "name": "stderr",
     "output_type": "stream",
     "text": [
      "\r",
      " 53%|█████▎    | 156/296 [14:06<13:56,  5.97s/it]"
     ]
    },
    {
     "name": "stderr",
     "output_type": "stream",
     "text": [
      "\r",
      " 53%|█████▎    | 157/296 [14:06<09:53,  4.27s/it]"
     ]
    },
    {
     "name": "stderr",
     "output_type": "stream",
     "text": [
      "\r",
      " 53%|█████▎    | 158/296 [14:06<07:00,  3.04s/it]"
     ]
    },
    {
     "name": "stderr",
     "output_type": "stream",
     "text": [
      "\r",
      " 54%|█████▎    | 159/296 [14:27<19:08,  8.39s/it]"
     ]
    },
    {
     "name": "stderr",
     "output_type": "stream",
     "text": [
      "\r",
      " 54%|█████▍    | 160/296 [14:27<13:31,  5.96s/it]"
     ]
    },
    {
     "name": "stderr",
     "output_type": "stream",
     "text": [
      "\r",
      " 54%|█████▍    | 161/296 [14:28<09:35,  4.26s/it]"
     ]
    },
    {
     "name": "stderr",
     "output_type": "stream",
     "text": [
      "\r",
      " 55%|█████▍    | 162/296 [14:28<06:47,  3.04s/it]"
     ]
    },
    {
     "name": "stderr",
     "output_type": "stream",
     "text": [
      "\r",
      " 55%|█████▌    | 163/296 [14:48<18:30,  8.35s/it]"
     ]
    },
    {
     "name": "stderr",
     "output_type": "stream",
     "text": [
      "\r",
      " 55%|█████▌    | 164/296 [14:49<13:04,  5.94s/it]"
     ]
    },
    {
     "name": "stderr",
     "output_type": "stream",
     "text": [
      "\r",
      " 56%|█████▌    | 165/296 [14:49<09:16,  4.25s/it]"
     ]
    },
    {
     "name": "stderr",
     "output_type": "stream",
     "text": [
      "\r",
      " 56%|█████▌    | 166/296 [14:49<06:33,  3.03s/it]"
     ]
    },
    {
     "name": "stderr",
     "output_type": "stream",
     "text": [
      "\r",
      " 56%|█████▋    | 167/296 [15:10<18:00,  8.38s/it]"
     ]
    },
    {
     "name": "stderr",
     "output_type": "stream",
     "text": [
      "\r",
      " 57%|█████▋    | 168/296 [15:10<12:42,  5.96s/it]"
     ]
    },
    {
     "name": "stderr",
     "output_type": "stream",
     "text": [
      "\r",
      " 57%|█████▋    | 169/296 [15:11<09:00,  4.26s/it]"
     ]
    },
    {
     "name": "stderr",
     "output_type": "stream",
     "text": [
      "\r",
      " 57%|█████▋    | 170/296 [15:11<06:22,  3.04s/it]"
     ]
    },
    {
     "name": "stderr",
     "output_type": "stream",
     "text": [
      "\r",
      " 58%|█████▊    | 171/296 [15:32<17:26,  8.37s/it]"
     ]
    },
    {
     "name": "stderr",
     "output_type": "stream",
     "text": [
      "\r",
      " 58%|█████▊    | 172/296 [15:32<12:17,  5.95s/it]"
     ]
    },
    {
     "name": "stderr",
     "output_type": "stream",
     "text": [
      "\r",
      " 58%|█████▊    | 173/296 [15:32<08:43,  4.25s/it]"
     ]
    },
    {
     "name": "stderr",
     "output_type": "stream",
     "text": [
      "\r",
      " 59%|█████▉    | 174/296 [15:33<06:09,  3.03s/it]"
     ]
    },
    {
     "name": "stderr",
     "output_type": "stream",
     "text": [
      "\r",
      " 59%|█████▉    | 175/296 [15:53<16:56,  8.40s/it]"
     ]
    },
    {
     "name": "stderr",
     "output_type": "stream",
     "text": [
      "\r",
      " 59%|█████▉    | 176/296 [15:54<11:57,  5.98s/it]"
     ]
    },
    {
     "name": "stderr",
     "output_type": "stream",
     "text": [
      "\r",
      " 60%|█████▉    | 177/296 [15:54<08:28,  4.27s/it]"
     ]
    },
    {
     "name": "stderr",
     "output_type": "stream",
     "text": [
      "\r",
      " 60%|██████    | 178/296 [15:54<05:59,  3.04s/it]"
     ]
    },
    {
     "name": "stderr",
     "output_type": "stream",
     "text": [
      "\r",
      " 60%|██████    | 179/296 [16:15<16:23,  8.41s/it]"
     ]
    },
    {
     "name": "stderr",
     "output_type": "stream",
     "text": [
      "\r",
      " 61%|██████    | 180/296 [16:15<11:33,  5.98s/it]"
     ]
    },
    {
     "name": "stderr",
     "output_type": "stream",
     "text": [
      "\r",
      " 61%|██████    | 181/296 [16:16<08:11,  4.27s/it]"
     ]
    },
    {
     "name": "stderr",
     "output_type": "stream",
     "text": [
      "\r",
      " 61%|██████▏   | 182/296 [16:16<05:47,  3.05s/it]"
     ]
    },
    {
     "name": "stderr",
     "output_type": "stream",
     "text": [
      "\r",
      " 62%|██████▏   | 183/296 [16:37<15:50,  8.41s/it]"
     ]
    },
    {
     "name": "stderr",
     "output_type": "stream",
     "text": [
      "\r",
      " 62%|██████▏   | 184/296 [16:37<11:09,  5.98s/it]"
     ]
    },
    {
     "name": "stderr",
     "output_type": "stream",
     "text": [
      "\r",
      " 62%|██████▎   | 185/296 [16:37<07:54,  4.27s/it]"
     ]
    },
    {
     "name": "stderr",
     "output_type": "stream",
     "text": [
      "\r",
      " 63%|██████▎   | 186/296 [16:38<05:35,  3.05s/it]"
     ]
    },
    {
     "name": "stderr",
     "output_type": "stream",
     "text": [
      "\r",
      " 63%|██████▎   | 187/296 [16:59<15:20,  8.44s/it]"
     ]
    },
    {
     "name": "stderr",
     "output_type": "stream",
     "text": [
      "\r",
      " 64%|██████▎   | 188/296 [16:59<10:48,  6.00s/it]"
     ]
    },
    {
     "name": "stderr",
     "output_type": "stream",
     "text": [
      "\r",
      " 64%|██████▍   | 189/296 [16:59<07:38,  4.29s/it]"
     ]
    },
    {
     "name": "stderr",
     "output_type": "stream",
     "text": [
      "\r",
      " 64%|██████▍   | 190/296 [16:59<05:24,  3.06s/it]"
     ]
    },
    {
     "name": "stderr",
     "output_type": "stream",
     "text": [
      "\r",
      " 65%|██████▍   | 191/296 [17:20<14:46,  8.44s/it]"
     ]
    },
    {
     "name": "stderr",
     "output_type": "stream",
     "text": [
      "\r",
      " 65%|██████▍   | 192/296 [17:21<10:24,  6.00s/it]"
     ]
    },
    {
     "name": "stderr",
     "output_type": "stream",
     "text": [
      "\r",
      " 65%|██████▌   | 193/296 [17:21<07:21,  4.29s/it]"
     ]
    },
    {
     "name": "stderr",
     "output_type": "stream",
     "text": [
      "\r",
      " 66%|██████▌   | 194/296 [17:21<05:11,  3.06s/it]"
     ]
    },
    {
     "name": "stderr",
     "output_type": "stream",
     "text": [
      "\r",
      " 66%|██████▌   | 195/296 [17:42<14:08,  8.40s/it]"
     ]
    },
    {
     "name": "stderr",
     "output_type": "stream",
     "text": [
      "\r",
      " 66%|██████▌   | 196/296 [17:42<09:57,  5.97s/it]"
     ]
    },
    {
     "name": "stderr",
     "output_type": "stream",
     "text": [
      "\r",
      " 67%|██████▋   | 197/296 [17:43<07:02,  4.27s/it]"
     ]
    },
    {
     "name": "stderr",
     "output_type": "stream",
     "text": [
      "\r",
      " 67%|██████▋   | 198/296 [17:43<04:58,  3.04s/it]"
     ]
    },
    {
     "name": "stderr",
     "output_type": "stream",
     "text": [
      "\r",
      " 67%|██████▋   | 199/296 [18:04<13:38,  8.43s/it]"
     ]
    },
    {
     "name": "stderr",
     "output_type": "stream",
     "text": [
      "\r",
      " 68%|██████▊   | 200/296 [18:04<09:35,  6.00s/it]"
     ]
    },
    {
     "name": "stderr",
     "output_type": "stream",
     "text": [
      "\r",
      " 68%|██████▊   | 201/296 [18:05<06:47,  4.29s/it]"
     ]
    },
    {
     "name": "stderr",
     "output_type": "stream",
     "text": [
      "\r",
      " 68%|██████▊   | 202/296 [18:05<04:47,  3.05s/it]"
     ]
    },
    {
     "name": "stderr",
     "output_type": "stream",
     "text": [
      "\r",
      " 69%|██████▊   | 203/296 [18:26<13:04,  8.43s/it]"
     ]
    },
    {
     "name": "stderr",
     "output_type": "stream",
     "text": [
      "\r",
      " 69%|██████▉   | 204/296 [18:26<09:11,  5.99s/it]"
     ]
    },
    {
     "name": "stderr",
     "output_type": "stream",
     "text": [
      "\r",
      " 69%|██████▉   | 205/296 [18:26<06:29,  4.28s/it]"
     ]
    },
    {
     "name": "stderr",
     "output_type": "stream",
     "text": [
      "\r",
      " 70%|██████▉   | 206/296 [18:26<04:34,  3.05s/it]"
     ]
    },
    {
     "name": "stderr",
     "output_type": "stream",
     "text": [
      "\r",
      " 70%|██████▉   | 207/296 [18:47<12:29,  8.42s/it]"
     ]
    },
    {
     "name": "stderr",
     "output_type": "stream",
     "text": [
      "\r",
      " 70%|███████   | 208/296 [18:48<08:46,  5.98s/it]"
     ]
    },
    {
     "name": "stderr",
     "output_type": "stream",
     "text": [
      "\r",
      " 71%|███████   | 209/296 [18:48<06:12,  4.28s/it]"
     ]
    },
    {
     "name": "stderr",
     "output_type": "stream",
     "text": [
      "\r",
      " 71%|███████   | 210/296 [18:48<04:22,  3.05s/it]"
     ]
    },
    {
     "name": "stderr",
     "output_type": "stream",
     "text": [
      "\r",
      " 71%|███████▏  | 211/296 [19:09<11:53,  8.40s/it]"
     ]
    },
    {
     "name": "stderr",
     "output_type": "stream",
     "text": [
      "\r",
      " 72%|███████▏  | 212/296 [19:09<08:21,  5.97s/it]"
     ]
    },
    {
     "name": "stderr",
     "output_type": "stream",
     "text": [
      "\r",
      " 72%|███████▏  | 213/296 [19:10<05:54,  4.27s/it]"
     ]
    },
    {
     "name": "stderr",
     "output_type": "stream",
     "text": [
      "\r",
      " 72%|███████▏  | 214/296 [19:10<04:09,  3.04s/it]"
     ]
    },
    {
     "name": "stderr",
     "output_type": "stream",
     "text": [
      "\r",
      " 73%|███████▎  | 215/296 [19:31<11:21,  8.41s/it]"
     ]
    },
    {
     "name": "stderr",
     "output_type": "stream",
     "text": [
      "\r",
      " 73%|███████▎  | 216/296 [19:31<07:58,  5.98s/it]"
     ]
    },
    {
     "name": "stderr",
     "output_type": "stream",
     "text": [
      "\r",
      " 73%|███████▎  | 217/296 [19:31<05:37,  4.27s/it]"
     ]
    },
    {
     "name": "stderr",
     "output_type": "stream",
     "text": [
      "\r",
      " 74%|███████▎  | 218/296 [19:32<03:57,  3.05s/it]"
     ]
    },
    {
     "name": "stderr",
     "output_type": "stream",
     "text": [
      "\r",
      " 74%|███████▍  | 219/296 [19:53<10:48,  8.43s/it]"
     ]
    },
    {
     "name": "stderr",
     "output_type": "stream",
     "text": [
      "\r",
      " 74%|███████▍  | 220/296 [19:53<07:35,  5.99s/it]"
     ]
    },
    {
     "name": "stderr",
     "output_type": "stream",
     "text": [
      "\r",
      " 75%|███████▍  | 221/296 [19:53<05:21,  4.28s/it]"
     ]
    },
    {
     "name": "stderr",
     "output_type": "stream",
     "text": [
      "\r",
      " 75%|███████▌  | 222/296 [19:53<03:45,  3.05s/it]"
     ]
    },
    {
     "name": "stderr",
     "output_type": "stream",
     "text": [
      "\r",
      " 75%|███████▌  | 223/296 [20:14<10:13,  8.40s/it]"
     ]
    },
    {
     "name": "stderr",
     "output_type": "stream",
     "text": [
      "\r",
      " 76%|███████▌  | 224/296 [20:15<07:09,  5.97s/it]"
     ]
    },
    {
     "name": "stderr",
     "output_type": "stream",
     "text": [
      "\r",
      " 76%|███████▌  | 225/296 [20:15<05:03,  4.27s/it]"
     ]
    },
    {
     "name": "stderr",
     "output_type": "stream",
     "text": [
      "\r",
      " 76%|███████▋  | 226/296 [20:15<03:32,  3.04s/it]"
     ]
    },
    {
     "name": "stderr",
     "output_type": "stream",
     "text": [
      "\r",
      " 77%|███████▋  | 227/296 [20:36<09:38,  8.39s/it]"
     ]
    },
    {
     "name": "stderr",
     "output_type": "stream",
     "text": [
      "\r",
      " 77%|███████▋  | 228/296 [20:36<06:45,  5.96s/it]"
     ]
    },
    {
     "name": "stderr",
     "output_type": "stream",
     "text": [
      "\r",
      " 77%|███████▋  | 229/296 [20:36<04:45,  4.26s/it]"
     ]
    },
    {
     "name": "stderr",
     "output_type": "stream",
     "text": [
      "\r",
      " 78%|███████▊  | 230/296 [20:37<03:20,  3.04s/it]"
     ]
    },
    {
     "name": "stderr",
     "output_type": "stream",
     "text": [
      "\r",
      " 78%|███████▊  | 231/296 [20:58<09:06,  8.41s/it]"
     ]
    },
    {
     "name": "stderr",
     "output_type": "stream",
     "text": [
      "\r",
      " 78%|███████▊  | 232/296 [20:58<06:22,  5.98s/it]"
     ]
    },
    {
     "name": "stderr",
     "output_type": "stream",
     "text": [
      "\r",
      " 79%|███████▊  | 233/296 [20:58<04:29,  4.27s/it]"
     ]
    },
    {
     "name": "stderr",
     "output_type": "stream",
     "text": [
      "\r",
      " 79%|███████▉  | 234/296 [20:58<03:08,  3.05s/it]"
     ]
    },
    {
     "name": "stderr",
     "output_type": "stream",
     "text": [
      "\r",
      " 79%|███████▉  | 235/296 [21:19<08:31,  8.39s/it]"
     ]
    },
    {
     "name": "stderr",
     "output_type": "stream",
     "text": [
      "\r",
      " 80%|███████▉  | 236/296 [21:20<05:57,  5.96s/it]"
     ]
    },
    {
     "name": "stderr",
     "output_type": "stream",
     "text": [
      "\r",
      " 80%|████████  | 237/296 [21:20<04:11,  4.26s/it]"
     ]
    },
    {
     "name": "stderr",
     "output_type": "stream",
     "text": [
      "\r",
      " 80%|████████  | 238/296 [21:20<02:56,  3.04s/it]"
     ]
    },
    {
     "name": "stderr",
     "output_type": "stream",
     "text": [
      "\r",
      " 81%|████████  | 239/296 [21:41<08:01,  8.44s/it]"
     ]
    },
    {
     "name": "stderr",
     "output_type": "stream",
     "text": [
      "\r",
      " 81%|████████  | 240/296 [21:41<05:36,  6.00s/it]"
     ]
    },
    {
     "name": "stderr",
     "output_type": "stream",
     "text": [
      "\r",
      " 81%|████████▏ | 241/296 [21:42<03:56,  4.29s/it]"
     ]
    },
    {
     "name": "stderr",
     "output_type": "stream",
     "text": [
      "\r",
      " 82%|████████▏ | 242/296 [21:42<02:45,  3.06s/it]"
     ]
    },
    {
     "name": "stderr",
     "output_type": "stream",
     "text": [
      "\r",
      " 82%|████████▏ | 243/296 [22:03<07:27,  8.45s/it]"
     ]
    },
    {
     "name": "stderr",
     "output_type": "stream",
     "text": [
      "\r",
      " 82%|████████▏ | 244/296 [22:03<05:12,  6.01s/it]"
     ]
    },
    {
     "name": "stderr",
     "output_type": "stream",
     "text": [
      "\r",
      " 83%|████████▎ | 245/296 [22:03<03:39,  4.30s/it]"
     ]
    },
    {
     "name": "stderr",
     "output_type": "stream",
     "text": [
      "\r",
      " 83%|████████▎ | 246/296 [22:04<02:33,  3.06s/it]"
     ]
    },
    {
     "name": "stderr",
     "output_type": "stream",
     "text": [
      "\r",
      " 83%|████████▎ | 247/296 [22:25<06:54,  8.46s/it]"
     ]
    },
    {
     "name": "stderr",
     "output_type": "stream",
     "text": [
      "\r",
      " 84%|████████▍ | 248/296 [22:25<04:48,  6.02s/it]"
     ]
    },
    {
     "name": "stderr",
     "output_type": "stream",
     "text": [
      "\r",
      " 84%|████████▍ | 249/296 [22:25<03:22,  4.30s/it]"
     ]
    },
    {
     "name": "stderr",
     "output_type": "stream",
     "text": [
      "\r",
      " 84%|████████▍ | 250/296 [22:26<02:21,  3.07s/it]"
     ]
    },
    {
     "name": "stderr",
     "output_type": "stream",
     "text": [
      "\r",
      " 85%|████████▍ | 251/296 [22:47<06:21,  8.48s/it]"
     ]
    },
    {
     "name": "stderr",
     "output_type": "stream",
     "text": [
      "\r",
      " 85%|████████▌ | 252/296 [22:47<04:25,  6.03s/it]"
     ]
    },
    {
     "name": "stderr",
     "output_type": "stream",
     "text": [
      "\r",
      " 85%|████████▌ | 253/296 [22:47<03:05,  4.31s/it]"
     ]
    },
    {
     "name": "stderr",
     "output_type": "stream",
     "text": [
      "\r",
      " 86%|████████▌ | 254/296 [22:47<02:09,  3.07s/it]"
     ]
    },
    {
     "name": "stderr",
     "output_type": "stream",
     "text": [
      "\r",
      " 86%|████████▌ | 255/296 [23:09<05:47,  8.48s/it]"
     ]
    },
    {
     "name": "stderr",
     "output_type": "stream",
     "text": [
      "\r",
      " 86%|████████▋ | 256/296 [23:09<04:01,  6.03s/it]"
     ]
    },
    {
     "name": "stderr",
     "output_type": "stream",
     "text": [
      "\r",
      " 87%|████████▋ | 257/296 [23:09<02:48,  4.31s/it]"
     ]
    },
    {
     "name": "stderr",
     "output_type": "stream",
     "text": [
      "\r",
      " 87%|████████▋ | 258/296 [23:09<01:56,  3.07s/it]"
     ]
    },
    {
     "name": "stderr",
     "output_type": "stream",
     "text": [
      "\r",
      " 88%|████████▊ | 259/296 [23:30<05:13,  8.47s/it]"
     ]
    },
    {
     "name": "stderr",
     "output_type": "stream",
     "text": [
      "\r",
      " 88%|████████▊ | 260/296 [23:31<03:36,  6.02s/it]"
     ]
    },
    {
     "name": "stderr",
     "output_type": "stream",
     "text": [
      "\r",
      " 88%|████████▊ | 261/296 [23:31<02:30,  4.31s/it]"
     ]
    },
    {
     "name": "stderr",
     "output_type": "stream",
     "text": [
      "\r",
      " 89%|████████▊ | 262/296 [23:31<01:44,  3.07s/it]"
     ]
    },
    {
     "name": "stderr",
     "output_type": "stream",
     "text": [
      "\r",
      " 89%|████████▉ | 263/296 [23:52<04:39,  8.46s/it]"
     ]
    },
    {
     "name": "stderr",
     "output_type": "stream",
     "text": [
      "\r",
      " 89%|████████▉ | 264/296 [23:53<03:12,  6.02s/it]"
     ]
    },
    {
     "name": "stderr",
     "output_type": "stream",
     "text": [
      "\r",
      " 90%|████████▉ | 265/296 [23:53<02:13,  4.30s/it]"
     ]
    },
    {
     "name": "stderr",
     "output_type": "stream",
     "text": [
      "\r",
      " 90%|████████▉ | 266/296 [23:53<01:31,  3.06s/it]"
     ]
    },
    {
     "name": "stderr",
     "output_type": "stream",
     "text": [
      "\r",
      " 90%|█████████ | 267/296 [24:14<04:05,  8.45s/it]"
     ]
    },
    {
     "name": "stderr",
     "output_type": "stream",
     "text": [
      "\r",
      " 91%|█████████ | 268/296 [24:14<02:48,  6.01s/it]"
     ]
    },
    {
     "name": "stderr",
     "output_type": "stream",
     "text": [
      "\r",
      " 91%|█████████ | 269/296 [24:15<01:55,  4.30s/it]"
     ]
    },
    {
     "name": "stderr",
     "output_type": "stream",
     "text": [
      "\r",
      " 91%|█████████ | 270/296 [24:15<01:19,  3.06s/it]"
     ]
    },
    {
     "name": "stderr",
     "output_type": "stream",
     "text": [
      "\r",
      " 92%|█████████▏| 271/296 [24:36<03:31,  8.45s/it]"
     ]
    },
    {
     "name": "stderr",
     "output_type": "stream",
     "text": [
      "\r",
      " 92%|█████████▏| 272/296 [24:36<02:24,  6.01s/it]"
     ]
    },
    {
     "name": "stderr",
     "output_type": "stream",
     "text": [
      "\r",
      " 92%|█████████▏| 273/296 [24:36<01:38,  4.30s/it]"
     ]
    },
    {
     "name": "stderr",
     "output_type": "stream",
     "text": [
      "\r",
      " 93%|█████████▎| 274/296 [24:37<01:07,  3.06s/it]"
     ]
    },
    {
     "name": "stderr",
     "output_type": "stream",
     "text": [
      "\r",
      " 93%|█████████▎| 275/296 [24:58<02:58,  8.48s/it]"
     ]
    },
    {
     "name": "stderr",
     "output_type": "stream",
     "text": [
      "\r",
      " 93%|█████████▎| 276/296 [24:58<02:00,  6.03s/it]"
     ]
    },
    {
     "name": "stderr",
     "output_type": "stream",
     "text": [
      "\r",
      " 94%|█████████▎| 277/296 [24:58<01:21,  4.31s/it]"
     ]
    },
    {
     "name": "stderr",
     "output_type": "stream",
     "text": [
      "\r",
      " 94%|█████████▍| 278/296 [24:59<00:55,  3.07s/it]"
     ]
    },
    {
     "name": "stderr",
     "output_type": "stream",
     "text": [
      "\r",
      " 94%|█████████▍| 279/296 [25:20<02:24,  8.47s/it]"
     ]
    },
    {
     "name": "stderr",
     "output_type": "stream",
     "text": [
      "\r",
      " 95%|█████████▍| 280/296 [25:20<01:36,  6.02s/it]"
     ]
    },
    {
     "name": "stderr",
     "output_type": "stream",
     "text": [
      "\r",
      " 95%|█████████▍| 281/296 [25:20<01:04,  4.31s/it]"
     ]
    },
    {
     "name": "stderr",
     "output_type": "stream",
     "text": [
      "\r",
      " 95%|█████████▌| 282/296 [25:20<00:42,  3.07s/it]"
     ]
    },
    {
     "name": "stderr",
     "output_type": "stream",
     "text": [
      "\r",
      " 96%|█████████▌| 283/296 [25:42<01:50,  8.48s/it]"
     ]
    },
    {
     "name": "stderr",
     "output_type": "stream",
     "text": [
      "\r",
      " 96%|█████████▌| 284/296 [25:42<01:12,  6.03s/it]"
     ]
    },
    {
     "name": "stderr",
     "output_type": "stream",
     "text": [
      "\r",
      " 96%|█████████▋| 285/296 [25:42<00:47,  4.31s/it]"
     ]
    },
    {
     "name": "stderr",
     "output_type": "stream",
     "text": [
      "\r",
      " 97%|█████████▋| 286/296 [25:42<00:30,  3.07s/it]"
     ]
    },
    {
     "name": "stderr",
     "output_type": "stream",
     "text": [
      "\r",
      " 97%|█████████▋| 287/296 [26:03<01:16,  8.46s/it]"
     ]
    },
    {
     "name": "stderr",
     "output_type": "stream",
     "text": [
      "\r",
      " 97%|█████████▋| 288/296 [26:04<00:48,  6.01s/it]"
     ]
    },
    {
     "name": "stderr",
     "output_type": "stream",
     "text": [
      "\r",
      " 98%|█████████▊| 289/296 [26:04<00:30,  4.30s/it]"
     ]
    },
    {
     "name": "stderr",
     "output_type": "stream",
     "text": [
      "\r",
      " 98%|█████████▊| 290/296 [26:04<00:18,  3.06s/it]"
     ]
    },
    {
     "name": "stderr",
     "output_type": "stream",
     "text": [
      "\r",
      " 98%|█████████▊| 291/296 [26:25<00:42,  8.46s/it]"
     ]
    },
    {
     "name": "stderr",
     "output_type": "stream",
     "text": [
      "\r",
      " 99%|█████████▊| 292/296 [26:25<00:24,  6.01s/it]"
     ]
    },
    {
     "name": "stderr",
     "output_type": "stream",
     "text": [
      "\r",
      " 99%|█████████▉| 293/296 [26:26<00:12,  4.30s/it]"
     ]
    },
    {
     "name": "stderr",
     "output_type": "stream",
     "text": [
      "\r",
      " 99%|█████████▉| 294/296 [26:26<00:06,  3.06s/it]"
     ]
    },
    {
     "name": "stderr",
     "output_type": "stream",
     "text": [
      "\r",
      "100%|█████████▉| 295/296 [26:47<00:08,  8.47s/it]"
     ]
    },
    {
     "name": "stderr",
     "output_type": "stream",
     "text": [
      "\r",
      "100%|██████████| 296/296 [26:47<00:00,  6.03s/it]"
     ]
    },
    {
     "name": "stderr",
     "output_type": "stream",
     "text": [
      "\r",
      "100%|██████████| 296/296 [26:47<00:00,  5.43s/it]"
     ]
    },
    {
     "name": "stderr",
     "output_type": "stream",
     "text": [
      "\n"
     ]
    }
   ],
   "source": [
    "ensemble = generate_ensemble(\n",
    "    data_dist,\n",
    "    CLUSTERERS,\n",
    "    attributes=CLUSTERING_ATTRIBUTES_TO_SAVE,\n",
    "    affinity_matrix=data_dist,\n",
    ")"
   ]
  },
  {
   "cell_type": "code",
   "execution_count": 27,
   "metadata": {
    "execution": {
     "iopub.execute_input": "2021-03-10T03:20:14.506333Z",
     "iopub.status.busy": "2021-03-10T03:20:14.505969Z",
     "iopub.status.idle": "2021-03-10T03:20:14.516361Z",
     "shell.execute_reply": "2021-03-10T03:20:14.515986Z"
    },
    "papermill": {
     "duration": 0.077252,
     "end_time": "2021-03-10T03:20:14.516445",
     "exception": false,
     "start_time": "2021-03-10T03:20:14.439193",
     "status": "completed"
    },
    "tags": []
   },
   "outputs": [
    {
     "data": {
      "text/plain": [
       "(296, 3)"
      ]
     },
     "execution_count": 27,
     "metadata": {},
     "output_type": "execute_result"
    }
   ],
   "source": [
    "# the number should be close to 295 (the number of partitions generated by k-means/spectral clustering)\n",
    "ensemble.shape"
   ]
  },
  {
   "cell_type": "code",
   "execution_count": 28,
   "metadata": {
    "execution": {
     "iopub.execute_input": "2021-03-10T03:20:14.647894Z",
     "iopub.status.busy": "2021-03-10T03:20:14.647514Z",
     "iopub.status.idle": "2021-03-10T03:20:14.665205Z",
     "shell.execute_reply": "2021-03-10T03:20:14.665505Z"
    },
    "papermill": {
     "duration": 0.084483,
     "end_time": "2021-03-10T03:20:14.665609",
     "exception": false,
     "start_time": "2021-03-10T03:20:14.581126",
     "status": "completed"
    },
    "tags": []
   },
   "outputs": [
    {
     "data": {
      "text/html": [
       "<div>\n",
       "<style scoped>\n",
       "    .dataframe tbody tr th:only-of-type {\n",
       "        vertical-align: middle;\n",
       "    }\n",
       "\n",
       "    .dataframe tbody tr th {\n",
       "        vertical-align: top;\n",
       "    }\n",
       "\n",
       "    .dataframe thead th {\n",
       "        text-align: right;\n",
       "    }\n",
       "</style>\n",
       "<table border=\"1\" class=\"dataframe\">\n",
       "  <thead>\n",
       "    <tr style=\"text-align: right;\">\n",
       "      <th></th>\n",
       "      <th>clusterer_params</th>\n",
       "      <th>partition</th>\n",
       "      <th>n_clusters</th>\n",
       "    </tr>\n",
       "    <tr>\n",
       "      <th>clusterer_id</th>\n",
       "      <th></th>\n",
       "      <th></th>\n",
       "      <th></th>\n",
       "    </tr>\n",
       "  </thead>\n",
       "  <tbody>\n",
       "    <tr>\n",
       "      <th>AgglomerativeClustering #0</th>\n",
       "      <td>{'affinity': 'precomputed', 'compute_full_tree...</td>\n",
       "      <td>[0.0, 0.0, 0.0, 0.0, 0.0, 0.0, 0.0, 0.0, 0.0, ...</td>\n",
       "      <td>2</td>\n",
       "    </tr>\n",
       "    <tr>\n",
       "      <th>AgglomerativeClustering #1</th>\n",
       "      <td>{'affinity': 'precomputed', 'compute_full_tree...</td>\n",
       "      <td>[0.0, 0.0, 0.0, 0.0, 0.0, 0.0, 0.0, 0.0, 0.0, ...</td>\n",
       "      <td>2</td>\n",
       "    </tr>\n",
       "    <tr>\n",
       "      <th>AgglomerativeClustering #2</th>\n",
       "      <td>{'affinity': 'euclidean', 'compute_full_tree':...</td>\n",
       "      <td>[0.0, 1.0, 1.0, 1.0, 1.0, 1.0, 1.0, 1.0, 1.0, ...</td>\n",
       "      <td>2</td>\n",
       "    </tr>\n",
       "    <tr>\n",
       "      <th>AgglomerativeClustering #3</th>\n",
       "      <td>{'affinity': 'precomputed', 'compute_full_tree...</td>\n",
       "      <td>[0.0, 0.0, 0.0, 0.0, 0.0, 0.0, 0.0, 0.0, 0.0, ...</td>\n",
       "      <td>2</td>\n",
       "    </tr>\n",
       "    <tr>\n",
       "      <th>AgglomerativeClustering #4</th>\n",
       "      <td>{'affinity': 'precomputed', 'compute_full_tree...</td>\n",
       "      <td>[0.0, 0.0, 0.0, 0.0, 0.0, 0.0, 0.0, 0.0, 0.0, ...</td>\n",
       "      <td>3</td>\n",
       "    </tr>\n",
       "  </tbody>\n",
       "</table>\n",
       "</div>"
      ],
      "text/plain": [
       "                                                             clusterer_params  \\\n",
       "clusterer_id                                                                    \n",
       "AgglomerativeClustering #0  {'affinity': 'precomputed', 'compute_full_tree...   \n",
       "AgglomerativeClustering #1  {'affinity': 'precomputed', 'compute_full_tree...   \n",
       "AgglomerativeClustering #2  {'affinity': 'euclidean', 'compute_full_tree':...   \n",
       "AgglomerativeClustering #3  {'affinity': 'precomputed', 'compute_full_tree...   \n",
       "AgglomerativeClustering #4  {'affinity': 'precomputed', 'compute_full_tree...   \n",
       "\n",
       "                                                                    partition  \\\n",
       "clusterer_id                                                                    \n",
       "AgglomerativeClustering #0  [0.0, 0.0, 0.0, 0.0, 0.0, 0.0, 0.0, 0.0, 0.0, ...   \n",
       "AgglomerativeClustering #1  [0.0, 0.0, 0.0, 0.0, 0.0, 0.0, 0.0, 0.0, 0.0, ...   \n",
       "AgglomerativeClustering #2  [0.0, 1.0, 1.0, 1.0, 1.0, 1.0, 1.0, 1.0, 1.0, ...   \n",
       "AgglomerativeClustering #3  [0.0, 0.0, 0.0, 0.0, 0.0, 0.0, 0.0, 0.0, 0.0, ...   \n",
       "AgglomerativeClustering #4  [0.0, 0.0, 0.0, 0.0, 0.0, 0.0, 0.0, 0.0, 0.0, ...   \n",
       "\n",
       "                            n_clusters  \n",
       "clusterer_id                            \n",
       "AgglomerativeClustering #0           2  \n",
       "AgglomerativeClustering #1           2  \n",
       "AgglomerativeClustering #2           2  \n",
       "AgglomerativeClustering #3           2  \n",
       "AgglomerativeClustering #4           3  "
      ]
     },
     "execution_count": 28,
     "metadata": {},
     "output_type": "execute_result"
    }
   ],
   "source": [
    "ensemble.head()"
   ]
  },
  {
   "cell_type": "code",
   "execution_count": 29,
   "metadata": {
    "execution": {
     "iopub.execute_input": "2021-03-10T03:20:14.797442Z",
     "iopub.status.busy": "2021-03-10T03:20:14.797072Z",
     "iopub.status.idle": "2021-03-10T03:20:14.808865Z",
     "shell.execute_reply": "2021-03-10T03:20:14.808448Z"
    },
    "papermill": {
     "duration": 0.078276,
     "end_time": "2021-03-10T03:20:14.808949",
     "exception": false,
     "start_time": "2021-03-10T03:20:14.730673",
     "status": "completed"
    },
    "tags": []
   },
   "outputs": [
    {
     "data": {
      "text/plain": [
       "75    4\n",
       "20    4\n",
       "22    4\n",
       "23    4\n",
       "24    4\n",
       "Name: n_clusters, dtype: int64"
      ]
     },
     "execution_count": 29,
     "metadata": {},
     "output_type": "execute_result"
    }
   ],
   "source": [
    "ensemble[\"n_clusters\"].value_counts().head()"
   ]
  },
  {
   "cell_type": "code",
   "execution_count": 30,
   "metadata": {
    "execution": {
     "iopub.execute_input": "2021-03-10T03:20:14.942125Z",
     "iopub.status.busy": "2021-03-10T03:20:14.941766Z",
     "iopub.status.idle": "2021-03-10T03:20:14.954198Z",
     "shell.execute_reply": "2021-03-10T03:20:14.953823Z"
    },
    "papermill": {
     "duration": 0.079456,
     "end_time": "2021-03-10T03:20:14.954284",
     "exception": false,
     "start_time": "2021-03-10T03:20:14.874828",
     "status": "completed"
    },
    "tags": []
   },
   "outputs": [
    {
     "data": {
      "text/plain": [
       "count    296.000000\n",
       "mean      38.500000\n",
       "std       21.396182\n",
       "min        2.000000\n",
       "25%       20.000000\n",
       "50%       38.500000\n",
       "75%       57.000000\n",
       "max       75.000000\n",
       "Name: n_clusters, dtype: float64"
      ]
     },
     "metadata": {},
     "output_type": "display_data"
    }
   ],
   "source": [
    "ensemble_stats = ensemble[\"n_clusters\"].describe()\n",
    "display(ensemble_stats)"
   ]
  },
  {
   "cell_type": "markdown",
   "metadata": {
    "papermill": {
     "duration": 0.064222,
     "end_time": "2021-03-10T03:20:15.085219",
     "exception": false,
     "start_time": "2021-03-10T03:20:15.020997",
     "status": "completed"
    },
    "tags": []
   },
   "source": [
    "### Testing"
   ]
  },
  {
   "cell_type": "code",
   "execution_count": 31,
   "metadata": {
    "execution": {
     "iopub.execute_input": "2021-03-10T03:20:15.220873Z",
     "iopub.status.busy": "2021-03-10T03:20:15.220420Z",
     "iopub.status.idle": "2021-03-10T03:20:15.230124Z",
     "shell.execute_reply": "2021-03-10T03:20:15.229765Z"
    },
    "papermill": {
     "duration": 0.079847,
     "end_time": "2021-03-10T03:20:15.230212",
     "exception": false,
     "start_time": "2021-03-10T03:20:15.150365",
     "status": "completed"
    },
    "tags": []
   },
   "outputs": [],
   "source": [
    "assert ensemble_stats[\"min\"] > 1"
   ]
  },
  {
   "cell_type": "code",
   "execution_count": 32,
   "metadata": {
    "execution": {
     "iopub.execute_input": "2021-03-10T03:20:15.364633Z",
     "iopub.status.busy": "2021-03-10T03:20:15.364263Z",
     "iopub.status.idle": "2021-03-10T03:20:15.374254Z",
     "shell.execute_reply": "2021-03-10T03:20:15.373870Z"
    },
    "papermill": {
     "duration": 0.076811,
     "end_time": "2021-03-10T03:20:15.374338",
     "exception": false,
     "start_time": "2021-03-10T03:20:15.297527",
     "status": "completed"
    },
    "tags": []
   },
   "outputs": [],
   "source": [
    "assert not ensemble[\"n_clusters\"].isna().any()"
   ]
  },
  {
   "cell_type": "code",
   "execution_count": 33,
   "metadata": {
    "execution": {
     "iopub.execute_input": "2021-03-10T03:20:15.509776Z",
     "iopub.status.busy": "2021-03-10T03:20:15.509417Z",
     "iopub.status.idle": "2021-03-10T03:20:15.518831Z",
     "shell.execute_reply": "2021-03-10T03:20:15.518469Z"
    },
    "papermill": {
     "duration": 0.077976,
     "end_time": "2021-03-10T03:20:15.518913",
     "exception": false,
     "start_time": "2021-03-10T03:20:15.440937",
     "status": "completed"
    },
    "tags": []
   },
   "outputs": [],
   "source": [
    "assert ensemble.shape[0] == len(CLUSTERERS)"
   ]
  },
  {
   "cell_type": "code",
   "execution_count": 34,
   "metadata": {
    "execution": {
     "iopub.execute_input": "2021-03-10T03:20:15.652882Z",
     "iopub.status.busy": "2021-03-10T03:20:15.652441Z",
     "iopub.status.idle": "2021-03-10T03:20:15.678440Z",
     "shell.execute_reply": "2021-03-10T03:20:15.678739Z"
    },
    "papermill": {
     "duration": 0.094525,
     "end_time": "2021-03-10T03:20:15.678842",
     "exception": false,
     "start_time": "2021-03-10T03:20:15.584317",
     "status": "completed"
    },
    "tags": []
   },
   "outputs": [],
   "source": [
    "# all partitions have the right size\n",
    "assert np.all(\n",
    "    [part[\"partition\"].shape[0] == data.shape[0] for idx, part in ensemble.iterrows()]\n",
    ")"
   ]
  },
  {
   "cell_type": "code",
   "execution_count": 35,
   "metadata": {
    "execution": {
     "iopub.execute_input": "2021-03-10T03:20:15.812635Z",
     "iopub.status.busy": "2021-03-10T03:20:15.812275Z",
     "iopub.status.idle": "2021-03-10T03:20:15.841968Z",
     "shell.execute_reply": "2021-03-10T03:20:15.841582Z"
    },
    "papermill": {
     "duration": 0.097465,
     "end_time": "2021-03-10T03:20:15.842053",
     "exception": false,
     "start_time": "2021-03-10T03:20:15.744588",
     "status": "completed"
    },
    "tags": []
   },
   "outputs": [],
   "source": [
    "# no partition has negative clusters (noisy points)\n",
    "assert not np.any([(part[\"partition\"] < 0).any() for idx, part in ensemble.iterrows()])"
   ]
  },
  {
   "cell_type": "markdown",
   "metadata": {
    "papermill": {
     "duration": 0.064541,
     "end_time": "2021-03-10T03:20:15.973129",
     "exception": false,
     "start_time": "2021-03-10T03:20:15.908588",
     "status": "completed"
    },
    "tags": []
   },
   "source": [
    "## Save"
   ]
  },
  {
   "cell_type": "code",
   "execution_count": 36,
   "metadata": {
    "execution": {
     "iopub.execute_input": "2021-03-10T03:20:16.106818Z",
     "iopub.status.busy": "2021-03-10T03:20:16.106450Z",
     "iopub.status.idle": "2021-03-10T03:20:16.116813Z",
     "shell.execute_reply": "2021-03-10T03:20:16.116450Z"
    },
    "papermill": {
     "duration": 0.078664,
     "end_time": "2021-03-10T03:20:16.116898",
     "exception": false,
     "start_time": "2021-03-10T03:20:16.038234",
     "status": "completed"
    },
    "tags": []
   },
   "outputs": [
    {
     "data": {
      "text/plain": [
       "PosixPath('/home/miltondp/projects/labs/greenelab/phenoplier/base/results/clustering/runs/umap-z_score_std-projection-smultixcan-efo_partial-mashr-zscores/AgglomerativeClustering-AFFINITY_euclidean-K_MAX_75-K_MIN_2.pkl')"
      ]
     },
     "metadata": {},
     "output_type": "display_data"
    }
   ],
   "source": [
    "del CLUSTERING_OPTIONS[\"LINKAGE\"]\n",
    "\n",
    "output_filename = Path(\n",
    "    RESULTS_DIR,\n",
    "    generate_result_set_name(\n",
    "        CLUSTERING_OPTIONS,\n",
    "        prefix=f\"{clustering_method_name}-\",\n",
    "        suffix=\".pkl\",\n",
    "    ),\n",
    ").resolve()\n",
    "display(output_filename)"
   ]
  },
  {
   "cell_type": "code",
   "execution_count": 37,
   "metadata": {
    "execution": {
     "iopub.execute_input": "2021-03-10T03:20:16.253513Z",
     "iopub.status.busy": "2021-03-10T03:20:16.253143Z",
     "iopub.status.idle": "2021-03-10T03:20:16.269756Z",
     "shell.execute_reply": "2021-03-10T03:20:16.269420Z"
    },
    "papermill": {
     "duration": 0.086814,
     "end_time": "2021-03-10T03:20:16.269848",
     "exception": false,
     "start_time": "2021-03-10T03:20:16.183034",
     "status": "completed"
    },
    "tags": []
   },
   "outputs": [],
   "source": [
    "ensemble.to_pickle(output_filename)"
   ]
  },
  {
   "cell_type": "code",
   "execution_count": null,
   "metadata": {
    "papermill": {
     "duration": 0.065691,
     "end_time": "2021-03-10T03:20:16.403188",
     "exception": false,
     "start_time": "2021-03-10T03:20:16.337497",
     "status": "completed"
    },
    "tags": []
   },
   "outputs": [],
   "source": []
  }
 ],
 "metadata": {
  "jupytext": {
   "cell_metadata_filter": "all,-execution,-papermill",
   "formats": "ipynb,py//py:percent"
  },
  "kernelspec": {
   "display_name": "Python 3",
   "language": "python",
   "name": "python3"
  },
  "language_info": {
   "codemirror_mode": {
    "name": "ipython",
    "version": 3
   },
   "file_extension": ".py",
   "mimetype": "text/x-python",
   "name": "python",
   "nbconvert_exporter": "python",
   "pygments_lexer": "ipython3",
   "version": "3.8.8"
  },
  "papermill": {
   "default_parameters": {},
   "duration": 1613.982334,
   "end_time": "2021-03-10T03:20:16.875301",
   "environment_variables": {},
   "exception": null,
   "input_path": "15_cluster_analysis/003_02-hc-umap.ipynb",
   "output_path": "15_cluster_analysis/003_02-hc-umap.run.ipynb",
   "parameters": {},
   "start_time": "2021-03-10T02:53:22.892967",
   "version": "2.2.2"
  },
  "toc-autonumbering": true,
  "toc-showcode": false,
  "toc-showmarkdowntxt": false,
  "toc-showtags": false
 },
 "nbformat": 4,
 "nbformat_minor": 4
}
