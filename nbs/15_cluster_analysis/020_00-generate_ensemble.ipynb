{
 "cells": [
  {
   "cell_type": "markdown",
   "metadata": {
    "papermill": {
     "duration": 0.050434,
     "end_time": "2021-01-06T17:53:28.189744",
     "exception": false,
     "start_time": "2021-01-06T17:53:28.139310",
     "status": "completed"
    },
    "tags": []
   },
   "source": [
    "# Description"
   ]
  },
  {
   "cell_type": "markdown",
   "metadata": {
    "papermill": {
     "duration": 0.01479,
     "end_time": "2021-01-06T17:53:28.221280",
     "exception": false,
     "start_time": "2021-01-06T17:53:28.206490",
     "status": "completed"
    },
    "tags": []
   },
   "source": [
    "TODO"
   ]
  },
  {
   "cell_type": "markdown",
   "metadata": {
    "papermill": {
     "duration": 0.014745,
     "end_time": "2021-01-06T17:53:28.250830",
     "exception": false,
     "start_time": "2021-01-06T17:53:28.236085",
     "status": "completed"
    },
    "tags": []
   },
   "source": [
    "# Environment variables"
   ]
  },
  {
   "cell_type": "code",
   "execution_count": 1,
   "metadata": {
    "execution": {
     "iopub.execute_input": "2021-01-06T17:53:28.283597Z",
     "iopub.status.busy": "2021-01-06T17:53:28.283216Z",
     "iopub.status.idle": "2021-01-06T17:53:28.293965Z",
     "shell.execute_reply": "2021-01-06T17:53:28.293567Z"
    },
    "papermill": {
     "duration": 0.028465,
     "end_time": "2021-01-06T17:53:28.294088",
     "exception": false,
     "start_time": "2021-01-06T17:53:28.265623",
     "status": "completed"
    },
    "tags": []
   },
   "outputs": [
    {
     "data": {
      "text/plain": [
       "3"
      ]
     },
     "metadata": {},
     "output_type": "display_data"
    }
   ],
   "source": [
    "from IPython.display import display\n",
    "\n",
    "import conf\n",
    "\n",
    "N_JOBS = conf.GENERAL[\"N_JOBS\"]\n",
    "display(N_JOBS)"
   ]
  },
  {
   "cell_type": "code",
   "execution_count": 2,
   "metadata": {
    "execution": {
     "iopub.execute_input": "2021-01-06T17:53:28.329536Z",
     "iopub.status.busy": "2021-01-06T17:53:28.329151Z",
     "iopub.status.idle": "2021-01-06T17:53:28.330960Z",
     "shell.execute_reply": "2021-01-06T17:53:28.331258Z"
    },
    "papermill": {
     "duration": 0.021636,
     "end_time": "2021-01-06T17:53:28.331359",
     "exception": false,
     "start_time": "2021-01-06T17:53:28.309723",
     "status": "completed"
    },
    "tags": []
   },
   "outputs": [
    {
     "name": "stdout",
     "output_type": "stream",
     "text": [
      "env: MKL_NUM_THREADS=3\n",
      "env: OPEN_BLAS_NUM_THREADS=3\n",
      "env: NUMEXPR_NUM_THREADS=3\n",
      "env: OMP_NUM_THREADS=3\n"
     ]
    }
   ],
   "source": [
    "%env MKL_NUM_THREADS=$N_JOBS\n",
    "%env OPEN_BLAS_NUM_THREADS=$N_JOBS\n",
    "%env NUMEXPR_NUM_THREADS=$N_JOBS\n",
    "%env OMP_NUM_THREADS=$N_JOBS"
   ]
  },
  {
   "cell_type": "markdown",
   "metadata": {
    "papermill": {
     "duration": 0.015769,
     "end_time": "2021-01-06T17:53:28.363086",
     "exception": false,
     "start_time": "2021-01-06T17:53:28.347317",
     "status": "completed"
    },
    "tags": []
   },
   "source": [
    "# Modules loading"
   ]
  },
  {
   "cell_type": "code",
   "execution_count": 3,
   "metadata": {
    "execution": {
     "iopub.execute_input": "2021-01-06T17:53:28.396448Z",
     "iopub.status.busy": "2021-01-06T17:53:28.396082Z",
     "iopub.status.idle": "2021-01-06T17:53:28.403828Z",
     "shell.execute_reply": "2021-01-06T17:53:28.403449Z"
    },
    "papermill": {
     "duration": 0.025588,
     "end_time": "2021-01-06T17:53:28.403918",
     "exception": false,
     "start_time": "2021-01-06T17:53:28.378330",
     "status": "completed"
    },
    "tags": []
   },
   "outputs": [],
   "source": [
    "%load_ext autoreload\n",
    "%autoreload 2"
   ]
  },
  {
   "cell_type": "code",
   "execution_count": 4,
   "metadata": {
    "execution": {
     "iopub.execute_input": "2021-01-06T17:53:28.438126Z",
     "iopub.status.busy": "2021-01-06T17:53:28.437755Z",
     "iopub.status.idle": "2021-01-06T17:53:29.003306Z",
     "shell.execute_reply": "2021-01-06T17:53:29.002813Z"
    },
    "papermill": {
     "duration": 0.583418,
     "end_time": "2021-01-06T17:53:29.003421",
     "exception": false,
     "start_time": "2021-01-06T17:53:28.420003",
     "status": "completed"
    },
    "tags": []
   },
   "outputs": [],
   "source": [
    "from pathlib import Path\n",
    "\n",
    "import numpy as np\n",
    "import pandas as pd\n",
    "\n",
    "# from sklearn.cluster import SpectralClustering\n",
    "# import umap\n",
    "import matplotlib.pyplot as plt\n",
    "import seaborn as sns\n",
    "\n",
    "from utils import generate_result_set_name"
   ]
  },
  {
   "cell_type": "markdown",
   "metadata": {
    "papermill": {
     "duration": 0.018459,
     "end_time": "2021-01-06T17:53:29.041746",
     "exception": false,
     "start_time": "2021-01-06T17:53:29.023287",
     "status": "completed"
    },
    "tags": []
   },
   "source": [
    "# Settings"
   ]
  },
  {
   "cell_type": "code",
   "execution_count": 5,
   "metadata": {
    "execution": {
     "iopub.execute_input": "2021-01-06T17:53:29.075910Z",
     "iopub.status.busy": "2021-01-06T17:53:29.075551Z",
     "iopub.status.idle": "2021-01-06T17:53:29.085511Z",
     "shell.execute_reply": "2021-01-06T17:53:29.085126Z"
    },
    "papermill": {
     "duration": 0.027679,
     "end_time": "2021-01-06T17:53:29.085604",
     "exception": false,
     "start_time": "2021-01-06T17:53:29.057925",
     "status": "completed"
    },
    "tags": []
   },
   "outputs": [],
   "source": [
    "RANDOM_GENERATOR = np.random.default_rng(12345)"
   ]
  },
  {
   "cell_type": "markdown",
   "metadata": {
    "papermill": {
     "duration": 0.014927,
     "end_time": "2021-01-06T17:53:29.116263",
     "exception": false,
     "start_time": "2021-01-06T17:53:29.101336",
     "status": "completed"
    },
    "tags": []
   },
   "source": [
    "## Ensemble size"
   ]
  },
  {
   "cell_type": "code",
   "execution_count": 6,
   "metadata": {
    "execution": {
     "iopub.execute_input": "2021-01-06T17:53:29.149158Z",
     "iopub.status.busy": "2021-01-06T17:53:29.148798Z",
     "iopub.status.idle": "2021-01-06T17:53:29.158425Z",
     "shell.execute_reply": "2021-01-06T17:53:29.158057Z"
    },
    "papermill": {
     "duration": 0.027076,
     "end_time": "2021-01-06T17:53:29.158513",
     "exception": false,
     "start_time": "2021-01-06T17:53:29.131437",
     "status": "completed"
    },
    "tags": []
   },
   "outputs": [],
   "source": [
    "EXPECTED_ENSEMBLE_SIZE = 295\n",
    "\n",
    "MIN_ENSEMBLE_SIZE = 290\n",
    "MAX_ENSEMBLE_SIZE = 300"
   ]
  },
  {
   "cell_type": "markdown",
   "metadata": {
    "papermill": {
     "duration": 0.014985,
     "end_time": "2021-01-06T17:53:29.188956",
     "exception": false,
     "start_time": "2021-01-06T17:53:29.173971",
     "status": "completed"
    },
    "tags": []
   },
   "source": [
    "## Data subsets included"
   ]
  },
  {
   "cell_type": "code",
   "execution_count": 7,
   "metadata": {
    "execution": {
     "iopub.execute_input": "2021-01-06T17:53:29.221618Z",
     "iopub.status.busy": "2021-01-06T17:53:29.221244Z",
     "iopub.status.idle": "2021-01-06T17:53:29.230741Z",
     "shell.execute_reply": "2021-01-06T17:53:29.230380Z"
    },
    "papermill": {
     "duration": 0.026658,
     "end_time": "2021-01-06T17:53:29.230827",
     "exception": false,
     "start_time": "2021-01-06T17:53:29.204169",
     "status": "completed"
    },
    "tags": []
   },
   "outputs": [],
   "source": [
    "# DATA_SUBSETS = [\n",
    "#     'z_score_std',\n",
    "#     'pca',\n",
    "#     'umap'\n",
    "# ]"
   ]
  },
  {
   "cell_type": "markdown",
   "metadata": {
    "papermill": {
     "duration": 0.01544,
     "end_time": "2021-01-06T17:53:29.262073",
     "exception": false,
     "start_time": "2021-01-06T17:53:29.246633",
     "status": "completed"
    },
    "tags": []
   },
   "source": [
    "## Algorithms included"
   ]
  },
  {
   "cell_type": "code",
   "execution_count": 8,
   "metadata": {
    "execution": {
     "iopub.execute_input": "2021-01-06T17:53:29.294574Z",
     "iopub.status.busy": "2021-01-06T17:53:29.294207Z",
     "iopub.status.idle": "2021-01-06T17:53:29.303936Z",
     "shell.execute_reply": "2021-01-06T17:53:29.303568Z"
    },
    "papermill": {
     "duration": 0.026901,
     "end_time": "2021-01-06T17:53:29.304024",
     "exception": false,
     "start_time": "2021-01-06T17:53:29.277123",
     "status": "completed"
    },
    "tags": []
   },
   "outputs": [],
   "source": [
    "# ALGORITHMS = [\n",
    "#     'KMeans',\n",
    "#     COMPLETE\n",
    "# ]"
   ]
  },
  {
   "cell_type": "markdown",
   "metadata": {
    "papermill": {
     "duration": 0.015304,
     "end_time": "2021-01-06T17:53:29.334672",
     "exception": false,
     "start_time": "2021-01-06T17:53:29.319368",
     "status": "completed"
    },
    "tags": []
   },
   "source": [
    "## Input data"
   ]
  },
  {
   "cell_type": "code",
   "execution_count": 9,
   "metadata": {
    "execution": {
     "iopub.execute_input": "2021-01-06T17:53:29.367669Z",
     "iopub.status.busy": "2021-01-06T17:53:29.367283Z",
     "iopub.status.idle": "2021-01-06T17:53:29.376998Z",
     "shell.execute_reply": "2021-01-06T17:53:29.376610Z"
    },
    "papermill": {
     "duration": 0.026845,
     "end_time": "2021-01-06T17:53:29.377088",
     "exception": false,
     "start_time": "2021-01-06T17:53:29.350243",
     "status": "completed"
    },
    "tags": []
   },
   "outputs": [],
   "source": [
    "# DATA_SUBSET = 'z_score_std'\n",
    "\n",
    "# INPUT_DIR = Path(\n",
    "#     conf.RESULTS[\"DATA_TRANSFORMATIONS_DIR\"],\n",
    "#     DATA_SUBSET,\n",
    "# ).resolve()\n",
    "# display(INPUT_DIR)"
   ]
  },
  {
   "cell_type": "code",
   "execution_count": 10,
   "metadata": {
    "execution": {
     "iopub.execute_input": "2021-01-06T17:53:29.410508Z",
     "iopub.status.busy": "2021-01-06T17:53:29.410142Z",
     "iopub.status.idle": "2021-01-06T17:53:29.419652Z",
     "shell.execute_reply": "2021-01-06T17:53:29.419308Z"
    },
    "papermill": {
     "duration": 0.027078,
     "end_time": "2021-01-06T17:53:29.419743",
     "exception": false,
     "start_time": "2021-01-06T17:53:29.392665",
     "status": "completed"
    },
    "tags": []
   },
   "outputs": [],
   "source": [
    "# INPUT_STEM = 'projection-smultixcan-efo_partial-mashr-zscores'"
   ]
  },
  {
   "cell_type": "code",
   "execution_count": 11,
   "metadata": {
    "execution": {
     "iopub.execute_input": "2021-01-06T17:53:29.453916Z",
     "iopub.status.busy": "2021-01-06T17:53:29.453555Z",
     "iopub.status.idle": "2021-01-06T17:53:29.462545Z",
     "shell.execute_reply": "2021-01-06T17:53:29.462858Z"
    },
    "papermill": {
     "duration": 0.027245,
     "end_time": "2021-01-06T17:53:29.462967",
     "exception": false,
     "start_time": "2021-01-06T17:53:29.435722",
     "status": "completed"
    },
    "tags": []
   },
   "outputs": [],
   "source": [
    "# INPUT_FILEPATH = Path(\n",
    "#     INPUT_DIR,\n",
    "#     generate_result_set_name(\n",
    "#         {},\n",
    "#         prefix=f'{DATA_SUBSET}-{INPUT_STEM}',\n",
    "#         suffix='.pkl'\n",
    "#     )\n",
    "# ).resolve()\n",
    "# display(INPUT_FILEPATH)\n",
    "\n",
    "# assert INPUT_FILEPATH.exists(), 'Input file does not exist'"
   ]
  },
  {
   "cell_type": "markdown",
   "metadata": {
    "papermill": {
     "duration": 0.015336,
     "end_time": "2021-01-06T17:53:29.494186",
     "exception": false,
     "start_time": "2021-01-06T17:53:29.478850",
     "status": "completed"
    },
    "tags": []
   },
   "source": [
    "## Consensus clustering"
   ]
  },
  {
   "cell_type": "code",
   "execution_count": 12,
   "metadata": {
    "execution": {
     "iopub.execute_input": "2021-01-06T17:53:29.527034Z",
     "iopub.status.busy": "2021-01-06T17:53:29.526673Z",
     "iopub.status.idle": "2021-01-06T17:53:29.536164Z",
     "shell.execute_reply": "2021-01-06T17:53:29.535785Z"
    },
    "papermill": {
     "duration": 0.02692,
     "end_time": "2021-01-06T17:53:29.536256",
     "exception": false,
     "start_time": "2021-01-06T17:53:29.509336",
     "status": "completed"
    },
    "tags": []
   },
   "outputs": [],
   "source": [
    "# ALL_RUNS_OPTIONS = {}\n",
    "\n",
    "# ALL_RUNS_OPTIONS['K_MIN'] = 2\n",
    "# ALL_RUNS_OPTIONS['K_MAX'] = 25\n",
    "# ALL_RUNS_OPTIONS['N_REPS_PER_K'] = 100\n",
    "# ALL_RUNS_OPTIONS['KMEANS_N_INIT'] = 1\n",
    "# ALL_RUNS_OPTIONS['AFFINITY'] = 'nearest_neighbors'\n",
    "# ALL_RUNS_OPTIONS['N_JOBS'] = N_JOBS\n",
    "\n",
    "# display(ALL_RUNS_OPTIONS)"
   ]
  },
  {
   "cell_type": "code",
   "execution_count": 13,
   "metadata": {
    "execution": {
     "iopub.execute_input": "2021-01-06T17:53:29.571362Z",
     "iopub.status.busy": "2021-01-06T17:53:29.571001Z",
     "iopub.status.idle": "2021-01-06T17:53:29.581375Z",
     "shell.execute_reply": "2021-01-06T17:53:29.580985Z"
    },
    "papermill": {
     "duration": 0.028877,
     "end_time": "2021-01-06T17:53:29.581467",
     "exception": false,
     "start_time": "2021-01-06T17:53:29.552590",
     "status": "completed"
    },
    "tags": []
   },
   "outputs": [
    {
     "data": {
      "text/plain": [
       "PosixPath('/home/miltondp/projects/labs/greenelab/phenoplier/base3/results/clustering/consensus_clustering')"
      ]
     },
     "metadata": {},
     "output_type": "display_data"
    }
   ],
   "source": [
    "# output dir for this notebook\n",
    "RESULTS_DIR = Path(conf.RESULTS[\"CLUSTERING_DIR\"], \"consensus_clustering\").resolve()\n",
    "RESULTS_DIR.mkdir(parents=True, exist_ok=True)\n",
    "\n",
    "display(RESULTS_DIR)"
   ]
  },
  {
   "cell_type": "markdown",
   "metadata": {
    "papermill": {
     "duration": 0.016274,
     "end_time": "2021-01-06T17:53:29.614634",
     "exception": false,
     "start_time": "2021-01-06T17:53:29.598360",
     "status": "completed"
    },
    "tags": []
   },
   "source": [
    "# Get ensemble"
   ]
  },
  {
   "cell_type": "markdown",
   "metadata": {
    "papermill": {
     "duration": 0.015328,
     "end_time": "2021-01-06T17:53:29.645229",
     "exception": false,
     "start_time": "2021-01-06T17:53:29.629901",
     "status": "completed"
    },
    "tags": []
   },
   "source": [
    "## Load partition files"
   ]
  },
  {
   "cell_type": "code",
   "execution_count": 14,
   "metadata": {
    "execution": {
     "iopub.execute_input": "2021-01-06T17:53:29.678607Z",
     "iopub.status.busy": "2021-01-06T17:53:29.678242Z",
     "iopub.status.idle": "2021-01-06T17:53:29.688751Z",
     "shell.execute_reply": "2021-01-06T17:53:29.689028Z"
    },
    "papermill": {
     "duration": 0.028451,
     "end_time": "2021-01-06T17:53:29.689136",
     "exception": false,
     "start_time": "2021-01-06T17:53:29.660685",
     "status": "completed"
    },
    "tags": []
   },
   "outputs": [
    {
     "data": {
      "text/plain": [
       "PosixPath('/home/miltondp/projects/labs/greenelab/phenoplier/base3/results/clustering/runs')"
      ]
     },
     "metadata": {},
     "output_type": "display_data"
    }
   ],
   "source": [
    "input_dir = Path(\n",
    "    conf.RESULTS[\"CLUSTERING_RUNS_DIR\"],\n",
    ").resolve()\n",
    "display(input_dir)"
   ]
  },
  {
   "cell_type": "code",
   "execution_count": 15,
   "metadata": {
    "execution": {
     "iopub.execute_input": "2021-01-06T17:53:29.723978Z",
     "iopub.status.busy": "2021-01-06T17:53:29.723610Z",
     "iopub.status.idle": "2021-01-06T17:53:29.733645Z",
     "shell.execute_reply": "2021-01-06T17:53:29.733334Z"
    },
    "papermill": {
     "duration": 0.028297,
     "end_time": "2021-01-06T17:53:29.733740",
     "exception": false,
     "start_time": "2021-01-06T17:53:29.705443",
     "status": "completed"
    },
    "tags": []
   },
   "outputs": [],
   "source": [
    "included_pkl_files = []\n",
    "\n",
    "for pkl_file in input_dir.rglob(\"*.pkl\"):\n",
    "    pkl_file_str = str(pkl_file)\n",
    "\n",
    "    if \"-stability-\" in pkl_file_str:\n",
    "        continue\n",
    "\n",
    "    included_pkl_files.append(pkl_file)"
   ]
  },
  {
   "cell_type": "code",
   "execution_count": 16,
   "metadata": {
    "execution": {
     "iopub.execute_input": "2021-01-06T17:53:29.768376Z",
     "iopub.status.busy": "2021-01-06T17:53:29.768002Z",
     "iopub.status.idle": "2021-01-06T17:53:29.778388Z",
     "shell.execute_reply": "2021-01-06T17:53:29.778017Z"
    },
    "papermill": {
     "duration": 0.028363,
     "end_time": "2021-01-06T17:53:29.778476",
     "exception": false,
     "start_time": "2021-01-06T17:53:29.750113",
     "status": "completed"
    },
    "tags": []
   },
   "outputs": [
    {
     "data": {
      "text/plain": [
       "15"
      ]
     },
     "metadata": {},
     "output_type": "display_data"
    }
   ],
   "source": [
    "display(len(included_pkl_files))\n",
    "# 5 algorithms, 3 dataset versions\n",
    "assert len(included_pkl_files) == 5 * 3"
   ]
  },
  {
   "cell_type": "markdown",
   "metadata": {
    "papermill": {
     "duration": 0.016148,
     "end_time": "2021-01-06T17:53:29.811249",
     "exception": false,
     "start_time": "2021-01-06T17:53:29.795101",
     "status": "completed"
    },
    "tags": []
   },
   "source": [
    "## Combine partition files to get final ensemble"
   ]
  },
  {
   "cell_type": "code",
   "execution_count": 17,
   "metadata": {
    "execution": {
     "iopub.execute_input": "2021-01-06T17:53:29.845580Z",
     "iopub.status.busy": "2021-01-06T17:53:29.845210Z",
     "iopub.status.idle": "2021-01-06T17:53:29.854718Z",
     "shell.execute_reply": "2021-01-06T17:53:29.854351Z"
    },
    "papermill": {
     "duration": 0.027655,
     "end_time": "2021-01-06T17:53:29.854806",
     "exception": false,
     "start_time": "2021-01-06T17:53:29.827151",
     "status": "completed"
    },
    "tags": []
   },
   "outputs": [],
   "source": [
    "n_partitions = 0"
   ]
  },
  {
   "cell_type": "code",
   "execution_count": 18,
   "metadata": {
    "execution": {
     "iopub.execute_input": "2021-01-06T17:53:29.889769Z",
     "iopub.status.busy": "2021-01-06T17:53:29.889389Z",
     "iopub.status.idle": "2021-01-06T17:53:29.898682Z",
     "shell.execute_reply": "2021-01-06T17:53:29.898955Z"
    },
    "papermill": {
     "duration": 0.027765,
     "end_time": "2021-01-06T17:53:29.899075",
     "exception": false,
     "start_time": "2021-01-06T17:53:29.871310",
     "status": "completed"
    },
    "tags": []
   },
   "outputs": [],
   "source": [
    "ensembles_list = []"
   ]
  },
  {
   "cell_type": "code",
   "execution_count": 19,
   "metadata": {
    "execution": {
     "iopub.execute_input": "2021-01-06T17:53:29.935594Z",
     "iopub.status.busy": "2021-01-06T17:53:29.935217Z",
     "iopub.status.idle": "2021-01-06T17:53:30.087124Z",
     "shell.execute_reply": "2021-01-06T17:53:30.086720Z"
    },
    "papermill": {
     "duration": 0.171881,
     "end_time": "2021-01-06T17:53:30.087234",
     "exception": false,
     "start_time": "2021-01-06T17:53:29.915353",
     "status": "completed"
    },
    "tags": []
   },
   "outputs": [
    {
     "name": "stdout",
     "output_type": "stream",
     "text": [
      "More partitions than expected in umap-z_score_std-projection-smultixcan-efo_partial-mashr-zscores/DBSCAN.pkl\n",
      "Less partitions than expected in z_score_std-projection-smultixcan-efo_partial-mashr-zscores/DBSCAN.pkl\n",
      "Less partitions than expected in pca-z_score_std-projection-smultixcan-efo_partial-mashr-zscores/DBSCAN.pkl\n"
     ]
    }
   ],
   "source": [
    "for ens_file in included_pkl_files:\n",
    "    ens = pd.read_pickle(ens_file)\n",
    "    #     ens_by_k = ens.groupby('n_clusters').apply(\n",
    "    #         lambda x: np.concatenate(x['partition'].apply(lambda x: x.reshape(1, -1)), axis=0)\n",
    "    #     )\n",
    "    short_file_path = Path(*ens_file.parts[-2:])\n",
    "\n",
    "    if ens.shape[0] < MIN_ENSEMBLE_SIZE:\n",
    "        print(f\"Less partitions than expected in {short_file_path}\")\n",
    "\n",
    "        ens = ens.sample(\n",
    "            n=EXPECTED_ENSEMBLE_SIZE,\n",
    "            replace=True,\n",
    "            random_state=RANDOM_GENERATOR.bit_generator,\n",
    "        )\n",
    "        assert ens.shape[0] == EXPECTED_ENSEMBLE_SIZE\n",
    "\n",
    "    elif ens.shape[0] > MAX_ENSEMBLE_SIZE:\n",
    "        print(f\"More partitions than expected in {short_file_path}\")\n",
    "\n",
    "        ens = ens.sample(\n",
    "            n=EXPECTED_ENSEMBLE_SIZE, random_state=RANDOM_GENERATOR.bit_generator\n",
    "        )\n",
    "        assert ens.shape[0] == EXPECTED_ENSEMBLE_SIZE\n",
    "\n",
    "    ens_full_format = np.concatenate(\n",
    "        ens[\"partition\"].apply(lambda x: x.reshape(1, -1)), axis=0\n",
    "    )\n",
    "\n",
    "    # check ensemble size\n",
    "    #     n_parts = ensemble_full_format.shape[0]\n",
    "    #     if n_parts > MAX_ENSEMBLE_SIZE:\n",
    "\n",
    "    n_partitions += ens_full_format.shape[0]\n",
    "\n",
    "    ensembles_list.append(ens_full_format)"
   ]
  },
  {
   "cell_type": "code",
   "execution_count": 20,
   "metadata": {
    "execution": {
     "iopub.execute_input": "2021-01-06T17:53:30.127314Z",
     "iopub.status.busy": "2021-01-06T17:53:30.126959Z",
     "iopub.status.idle": "2021-01-06T17:53:30.137505Z",
     "shell.execute_reply": "2021-01-06T17:53:30.137191Z"
    },
    "papermill": {
     "duration": 0.030393,
     "end_time": "2021-01-06T17:53:30.137599",
     "exception": false,
     "start_time": "2021-01-06T17:53:30.107206",
     "status": "completed"
    },
    "tags": []
   },
   "outputs": [
    {
     "data": {
      "text/plain": [
       "15"
      ]
     },
     "metadata": {},
     "output_type": "display_data"
    }
   ],
   "source": [
    "display(len(ensembles_list))\n",
    "assert len(ensembles_list) == len(included_pkl_files)"
   ]
  },
  {
   "cell_type": "code",
   "execution_count": 21,
   "metadata": {
    "execution": {
     "iopub.execute_input": "2021-01-06T17:53:30.175002Z",
     "iopub.status.busy": "2021-01-06T17:53:30.174635Z",
     "iopub.status.idle": "2021-01-06T17:53:30.184881Z",
     "shell.execute_reply": "2021-01-06T17:53:30.185159Z"
    },
    "papermill": {
     "duration": 0.030218,
     "end_time": "2021-01-06T17:53:30.185269",
     "exception": false,
     "start_time": "2021-01-06T17:53:30.155051",
     "status": "completed"
    },
    "tags": []
   },
   "outputs": [
    {
     "data": {
      "text/plain": [
       "3749"
      ]
     },
     "metadata": {},
     "output_type": "display_data"
    }
   ],
   "source": [
    "n_data_objects = ensembles_list[0].shape[1]\n",
    "display(n_data_objects)"
   ]
  },
  {
   "cell_type": "code",
   "execution_count": 22,
   "metadata": {
    "execution": {
     "iopub.execute_input": "2021-01-06T17:53:30.221540Z",
     "iopub.status.busy": "2021-01-06T17:53:30.221161Z",
     "iopub.status.idle": "2021-01-06T17:53:30.231822Z",
     "shell.execute_reply": "2021-01-06T17:53:30.231449Z"
    },
    "papermill": {
     "duration": 0.029575,
     "end_time": "2021-01-06T17:53:30.231911",
     "exception": false,
     "start_time": "2021-01-06T17:53:30.202336",
     "status": "completed"
    },
    "tags": []
   },
   "outputs": [
    {
     "data": {
      "text/plain": [
       "4428"
      ]
     },
     "metadata": {},
     "output_type": "display_data"
    }
   ],
   "source": [
    "display(n_partitions)"
   ]
  },
  {
   "cell_type": "code",
   "execution_count": 23,
   "metadata": {
    "execution": {
     "iopub.execute_input": "2021-01-06T17:53:30.268517Z",
     "iopub.status.busy": "2021-01-06T17:53:30.268163Z",
     "iopub.status.idle": "2021-01-06T17:53:30.475971Z",
     "shell.execute_reply": "2021-01-06T17:53:30.475587Z"
    },
    "papermill": {
     "duration": 0.227121,
     "end_time": "2021-01-06T17:53:30.476068",
     "exception": false,
     "start_time": "2021-01-06T17:53:30.248947",
     "status": "completed"
    },
    "tags": []
   },
   "outputs": [],
   "source": [
    "full_ensemble = ensembles_list[0]\n",
    "for ens in ensembles_list[1:]:\n",
    "    full_ensemble = np.concatenate((full_ensemble, ens), axis=0)"
   ]
  },
  {
   "cell_type": "code",
   "execution_count": 24,
   "metadata": {
    "execution": {
     "iopub.execute_input": "2021-01-06T17:53:30.513624Z",
     "iopub.status.busy": "2021-01-06T17:53:30.513251Z",
     "iopub.status.idle": "2021-01-06T17:53:30.523624Z",
     "shell.execute_reply": "2021-01-06T17:53:30.523282Z"
    },
    "papermill": {
     "duration": 0.029772,
     "end_time": "2021-01-06T17:53:30.523712",
     "exception": false,
     "start_time": "2021-01-06T17:53:30.493940",
     "status": "completed"
    },
    "tags": []
   },
   "outputs": [
    {
     "data": {
      "text/plain": [
       "(4428, 3749)"
      ]
     },
     "metadata": {},
     "output_type": "display_data"
    }
   ],
   "source": [
    "display(full_ensemble.shape)\n",
    "assert full_ensemble.shape == (n_partitions, n_data_objects)"
   ]
  },
  {
   "cell_type": "markdown",
   "metadata": {
    "papermill": {
     "duration": 0.01754,
     "end_time": "2021-01-06T17:53:30.558695",
     "exception": false,
     "start_time": "2021-01-06T17:53:30.541155",
     "status": "completed"
    },
    "tags": []
   },
   "source": [
    "## Save"
   ]
  },
  {
   "cell_type": "code",
   "execution_count": 25,
   "metadata": {
    "execution": {
     "iopub.execute_input": "2021-01-06T17:53:30.595080Z",
     "iopub.status.busy": "2021-01-06T17:53:30.594712Z",
     "iopub.status.idle": "2021-01-06T17:53:30.605377Z",
     "shell.execute_reply": "2021-01-06T17:53:30.605006Z"
    },
    "papermill": {
     "duration": 0.029813,
     "end_time": "2021-01-06T17:53:30.605467",
     "exception": false,
     "start_time": "2021-01-06T17:53:30.575654",
     "status": "completed"
    },
    "tags": []
   },
   "outputs": [
    {
     "data": {
      "text/plain": [
       "PosixPath('/home/miltondp/projects/labs/greenelab/phenoplier/base3/results/clustering/consensus_clustering/ensemble.npy')"
      ]
     },
     "metadata": {},
     "output_type": "display_data"
    }
   ],
   "source": [
    "output_file = Path(RESULTS_DIR, \"ensemble.npy\").resolve()\n",
    "display(output_file)"
   ]
  },
  {
   "cell_type": "code",
   "execution_count": 26,
   "metadata": {
    "execution": {
     "iopub.execute_input": "2021-01-06T17:53:30.643341Z",
     "iopub.status.busy": "2021-01-06T17:53:30.642970Z",
     "iopub.status.idle": "2021-01-06T17:53:30.653828Z",
     "shell.execute_reply": "2021-01-06T17:53:30.653509Z"
    },
    "papermill": {
     "duration": 0.030568,
     "end_time": "2021-01-06T17:53:30.653918",
     "exception": false,
     "start_time": "2021-01-06T17:53:30.623350",
     "status": "completed"
    },
    "tags": []
   },
   "outputs": [
    {
     "data": {
      "text/plain": [
       "array([[0., 0., 0., ..., 0., 0., 0.],\n",
       "       [0., 0., 0., ..., 0., 0., 0.],\n",
       "       [0., 0., 0., ..., 0., 0., 0.],\n",
       "       ...,\n",
       "       [0., 0., 0., ..., 0., 0., 0.],\n",
       "       [0., 0., 0., ..., 0., 0., 0.],\n",
       "       [0., 0., 0., ..., 0., 0., 0.]])"
      ]
     },
     "execution_count": 26,
     "metadata": {},
     "output_type": "execute_result"
    }
   ],
   "source": [
    "full_ensemble"
   ]
  },
  {
   "cell_type": "code",
   "execution_count": 27,
   "metadata": {
    "execution": {
     "iopub.execute_input": "2021-01-06T17:53:30.691607Z",
     "iopub.status.busy": "2021-01-06T17:53:30.691252Z",
     "iopub.status.idle": "2021-01-06T17:53:30.776550Z",
     "shell.execute_reply": "2021-01-06T17:53:30.776163Z"
    },
    "papermill": {
     "duration": 0.104906,
     "end_time": "2021-01-06T17:53:30.776649",
     "exception": false,
     "start_time": "2021-01-06T17:53:30.671743",
     "status": "completed"
    },
    "tags": []
   },
   "outputs": [],
   "source": [
    "np.save(output_file, full_ensemble)"
   ]
  },
  {
   "cell_type": "markdown",
   "metadata": {
    "papermill": {
     "duration": 0.017585,
     "end_time": "2021-01-06T17:53:30.813311",
     "exception": false,
     "start_time": "2021-01-06T17:53:30.795726",
     "status": "completed"
    },
    "tags": []
   },
   "source": [
    "# Get coassociation matrix from ensemble"
   ]
  },
  {
   "cell_type": "code",
   "execution_count": 28,
   "metadata": {
    "execution": {
     "iopub.execute_input": "2021-01-06T17:53:30.849916Z",
     "iopub.status.busy": "2021-01-06T17:53:30.849559Z",
     "iopub.status.idle": "2021-01-06T17:53:30.980439Z",
     "shell.execute_reply": "2021-01-06T17:53:30.980055Z"
    },
    "papermill": {
     "duration": 0.150097,
     "end_time": "2021-01-06T17:53:30.980531",
     "exception": false,
     "start_time": "2021-01-06T17:53:30.830434",
     "status": "completed"
    },
    "tags": []
   },
   "outputs": [],
   "source": [
    "from clustering.ensemble import get_ensemble_distance_matrix"
   ]
  },
  {
   "cell_type": "code",
   "execution_count": 29,
   "metadata": {
    "execution": {
     "iopub.execute_input": "2021-01-06T17:53:31.017628Z",
     "iopub.status.busy": "2021-01-06T17:53:31.017229Z",
     "iopub.status.idle": "2021-01-06T18:08:29.607328Z",
     "shell.execute_reply": "2021-01-06T18:08:29.606920Z"
    },
    "papermill": {
     "duration": 898.609421,
     "end_time": "2021-01-06T18:08:29.607438",
     "exception": false,
     "start_time": "2021-01-06T17:53:30.998017",
     "status": "completed"
    },
    "tags": []
   },
   "outputs": [],
   "source": [
    "ensemble_coassoc_matrix = get_ensemble_distance_matrix(\n",
    "    full_ensemble,\n",
    "    n_jobs=conf.GENERAL[\"N_JOBS\"],\n",
    ")"
   ]
  },
  {
   "cell_type": "code",
   "execution_count": 30,
   "metadata": {
    "execution": {
     "iopub.execute_input": "2021-01-06T18:08:30.548342Z",
     "iopub.status.busy": "2021-01-06T18:08:30.546820Z",
     "iopub.status.idle": "2021-01-06T18:08:30.563031Z",
     "shell.execute_reply": "2021-01-06T18:08:30.562571Z"
    },
    "papermill": {
     "duration": 0.934727,
     "end_time": "2021-01-06T18:08:30.563137",
     "exception": false,
     "start_time": "2021-01-06T18:08:29.628410",
     "status": "completed"
    },
    "tags": []
   },
   "outputs": [
    {
     "data": {
      "text/plain": [
       "(3749, 3749)"
      ]
     },
     "execution_count": 30,
     "metadata": {},
     "output_type": "execute_result"
    }
   ],
   "source": [
    "ensemble_coassoc_matrix.shape"
   ]
  },
  {
   "cell_type": "code",
   "execution_count": 31,
   "metadata": {
    "execution": {
     "iopub.execute_input": "2021-01-06T18:08:30.604593Z",
     "iopub.status.busy": "2021-01-06T18:08:30.604215Z",
     "iopub.status.idle": "2021-01-06T18:08:30.616613Z",
     "shell.execute_reply": "2021-01-06T18:08:30.616205Z"
    },
    "papermill": {
     "duration": 0.033353,
     "end_time": "2021-01-06T18:08:30.616718",
     "exception": false,
     "start_time": "2021-01-06T18:08:30.583365",
     "status": "completed"
    },
    "tags": []
   },
   "outputs": [
    {
     "data": {
      "text/plain": [
       "array([[0.        , 0.05004529, 0.04868659, ..., 0.62794384, 0.66445714,\n",
       "        0.67006341],\n",
       "       [0.05004529, 0.        , 0.02241848, ..., 0.62771739, 0.66514286,\n",
       "        0.66779891],\n",
       "       [0.04868659, 0.02241848, 0.        , ..., 0.62703804, 0.66285714,\n",
       "        0.66530797],\n",
       "       ...,\n",
       "       [0.62794384, 0.62771739, 0.62703804, ..., 0.        , 0.59288808,\n",
       "        0.66282746],\n",
       "       [0.66445714, 0.66514286, 0.66285714, ..., 0.59288808, 0.        ,\n",
       "        0.6127194 ],\n",
       "       [0.67006341, 0.66779891, 0.66530797, ..., 0.66282746, 0.6127194 ,\n",
       "        0.        ]])"
      ]
     },
     "execution_count": 31,
     "metadata": {},
     "output_type": "execute_result"
    }
   ],
   "source": [
    "ensemble_coassoc_matrix"
   ]
  },
  {
   "cell_type": "markdown",
   "metadata": {
    "papermill": {
     "duration": 0.018322,
     "end_time": "2021-01-06T18:08:30.654669",
     "exception": false,
     "start_time": "2021-01-06T18:08:30.636347",
     "status": "completed"
    },
    "tags": []
   },
   "source": [
    "## Save"
   ]
  },
  {
   "cell_type": "code",
   "execution_count": 32,
   "metadata": {
    "execution": {
     "iopub.execute_input": "2021-01-06T18:08:30.692871Z",
     "iopub.status.busy": "2021-01-06T18:08:30.692432Z",
     "iopub.status.idle": "2021-01-06T18:08:30.704092Z",
     "shell.execute_reply": "2021-01-06T18:08:30.703703Z"
    },
    "papermill": {
     "duration": 0.031682,
     "end_time": "2021-01-06T18:08:30.704184",
     "exception": false,
     "start_time": "2021-01-06T18:08:30.672502",
     "status": "completed"
    },
    "tags": []
   },
   "outputs": [
    {
     "data": {
      "text/plain": [
       "PosixPath('/home/miltondp/projects/labs/greenelab/phenoplier/base3/results/clustering/consensus_clustering/ensemble_coassoc_matrix.npy')"
      ]
     },
     "metadata": {},
     "output_type": "display_data"
    }
   ],
   "source": [
    "output_file = Path(RESULTS_DIR, \"ensemble_coassoc_matrix.npy\").resolve()\n",
    "display(output_file)"
   ]
  },
  {
   "cell_type": "code",
   "execution_count": 33,
   "metadata": {
    "execution": {
     "iopub.execute_input": "2021-01-06T18:08:30.743390Z",
     "iopub.status.busy": "2021-01-06T18:08:30.743030Z",
     "iopub.status.idle": "2021-01-06T18:08:30.808558Z",
     "shell.execute_reply": "2021-01-06T18:08:30.808187Z"
    },
    "papermill": {
     "duration": 0.08571,
     "end_time": "2021-01-06T18:08:30.808667",
     "exception": false,
     "start_time": "2021-01-06T18:08:30.722957",
     "status": "completed"
    },
    "tags": []
   },
   "outputs": [],
   "source": [
    "np.save(output_file, ensemble_coassoc_matrix)"
   ]
  },
  {
   "cell_type": "code",
   "execution_count": null,
   "metadata": {
    "papermill": {
     "duration": 0.019656,
     "end_time": "2021-01-06T18:08:30.849242",
     "exception": false,
     "start_time": "2021-01-06T18:08:30.829586",
     "status": "completed"
    },
    "tags": []
   },
   "outputs": [],
   "source": []
  }
 ],
 "metadata": {
  "jupytext": {
   "formats": "ipynb,py//py:percent"
  },
  "kernelspec": {
   "display_name": "Python 3",
   "language": "python",
   "name": "python3"
  },
  "language_info": {
   "codemirror_mode": {
    "name": "ipython",
    "version": 3
   },
   "file_extension": ".py",
   "mimetype": "text/x-python",
   "name": "python",
   "nbconvert_exporter": "python",
   "pygments_lexer": "ipython3",
   "version": "3.8.6"
  },
  "papermill": {
   "default_parameters": {},
   "duration": 903.92381,
   "end_time": "2021-01-06T18:08:31.273325",
   "environment_variables": {},
   "exception": null,
   "input_path": "15_cluster_analysis/020_00-generate_ensemble.ipynb",
   "output_path": "15_cluster_analysis/020_00-generate_ensemble.run.ipynb",
   "parameters": {},
   "start_time": "2021-01-06T17:53:27.349515",
   "version": "2.2.2"
  },
  "toc-autonumbering": true,
  "toc-showcode": false,
  "toc-showmarkdowntxt": false,
  "toc-showtags": false
 },
 "nbformat": 4,
 "nbformat_minor": 4
}