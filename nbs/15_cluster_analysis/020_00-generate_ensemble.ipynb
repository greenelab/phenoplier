{
 "cells": [
  {
   "cell_type": "markdown",
   "metadata": {
    "papermill": {
     "duration": 0.01777,
     "end_time": "2021-01-06T20:50:12.730771",
     "exception": false,
     "start_time": "2021-01-06T20:50:12.713001",
     "status": "completed"
    },
    "tags": []
   },
   "source": [
    "# Description"
   ]
  },
  {
   "cell_type": "markdown",
   "metadata": {
    "papermill": {
     "duration": 0.012553,
     "end_time": "2021-01-06T20:50:12.756131",
     "exception": false,
     "start_time": "2021-01-06T20:50:12.743578",
     "status": "completed"
    },
    "tags": []
   },
   "source": [
    "It reads all the clustering partitions obtained with different algorithms, and generates the ensemble by putting it into a numpy array. Then it obtains the coassociation matrix from the ensemble (see more details below)."
   ]
  },
  {
   "cell_type": "markdown",
   "metadata": {
    "papermill": {
     "duration": 0.012921,
     "end_time": "2021-01-06T20:50:12.781557",
     "exception": false,
     "start_time": "2021-01-06T20:50:12.768636",
     "status": "completed"
    },
    "tags": []
   },
   "source": [
    "# Environment variables"
   ]
  },
  {
   "cell_type": "code",
   "execution_count": 1,
   "metadata": {
    "execution": {
     "iopub.execute_input": "2021-01-06T20:50:12.810662Z",
     "iopub.status.busy": "2021-01-06T20:50:12.810266Z",
     "iopub.status.idle": "2021-01-06T20:50:12.821293Z",
     "shell.execute_reply": "2021-01-06T20:50:12.820850Z"
    },
    "papermill": {
     "duration": 0.02699,
     "end_time": "2021-01-06T20:50:12.821421",
     "exception": false,
     "start_time": "2021-01-06T20:50:12.794431",
     "status": "completed"
    },
    "tags": []
   },
   "outputs": [
    {
     "data": {
      "text/plain": [
       "3"
      ]
     },
     "metadata": {},
     "output_type": "display_data"
    }
   ],
   "source": [
    "from IPython.display import display\n",
    "\n",
    "import conf\n",
    "\n",
    "N_JOBS = conf.GENERAL[\"N_JOBS\"]\n",
    "display(N_JOBS)"
   ]
  },
  {
   "cell_type": "code",
   "execution_count": 2,
   "metadata": {
    "execution": {
     "iopub.execute_input": "2021-01-06T20:50:12.852601Z",
     "iopub.status.busy": "2021-01-06T20:50:12.852208Z",
     "iopub.status.idle": "2021-01-06T20:50:12.854478Z",
     "shell.execute_reply": "2021-01-06T20:50:12.854099Z"
    },
    "papermill": {
     "duration": 0.019612,
     "end_time": "2021-01-06T20:50:12.854564",
     "exception": false,
     "start_time": "2021-01-06T20:50:12.834952",
     "status": "completed"
    },
    "tags": []
   },
   "outputs": [
    {
     "name": "stdout",
     "output_type": "stream",
     "text": [
      "env: MKL_NUM_THREADS=3\n",
      "env: OPEN_BLAS_NUM_THREADS=3\n",
      "env: NUMEXPR_NUM_THREADS=3\n",
      "env: OMP_NUM_THREADS=3\n"
     ]
    }
   ],
   "source": [
    "%env MKL_NUM_THREADS=$N_JOBS\n",
    "%env OPEN_BLAS_NUM_THREADS=$N_JOBS\n",
    "%env NUMEXPR_NUM_THREADS=$N_JOBS\n",
    "%env OMP_NUM_THREADS=$N_JOBS"
   ]
  },
  {
   "cell_type": "markdown",
   "metadata": {
    "papermill": {
     "duration": 0.013353,
     "end_time": "2021-01-06T20:50:12.881417",
     "exception": false,
     "start_time": "2021-01-06T20:50:12.868064",
     "status": "completed"
    },
    "tags": []
   },
   "source": [
    "# Modules loading"
   ]
  },
  {
   "cell_type": "code",
   "execution_count": 3,
   "metadata": {
    "execution": {
     "iopub.execute_input": "2021-01-06T20:50:12.911040Z",
     "iopub.status.busy": "2021-01-06T20:50:12.910655Z",
     "iopub.status.idle": "2021-01-06T20:50:12.917618Z",
     "shell.execute_reply": "2021-01-06T20:50:12.917924Z"
    },
    "papermill": {
     "duration": 0.023305,
     "end_time": "2021-01-06T20:50:12.918033",
     "exception": false,
     "start_time": "2021-01-06T20:50:12.894728",
     "status": "completed"
    },
    "tags": []
   },
   "outputs": [],
   "source": [
    "%load_ext autoreload\n",
    "%autoreload 2"
   ]
  },
  {
   "cell_type": "code",
   "execution_count": 4,
   "metadata": {
    "execution": {
     "iopub.execute_input": "2021-01-06T20:50:12.947121Z",
     "iopub.status.busy": "2021-01-06T20:50:12.946740Z",
     "iopub.status.idle": "2021-01-06T20:50:13.119358Z",
     "shell.execute_reply": "2021-01-06T20:50:13.119025Z"
    },
    "papermill": {
     "duration": 0.187754,
     "end_time": "2021-01-06T20:50:13.119454",
     "exception": false,
     "start_time": "2021-01-06T20:50:12.931700",
     "status": "completed"
    },
    "tags": []
   },
   "outputs": [],
   "source": [
    "from pathlib import Path\n",
    "\n",
    "import numpy as np\n",
    "import pandas as pd"
   ]
  },
  {
   "cell_type": "markdown",
   "metadata": {
    "papermill": {
     "duration": 0.013149,
     "end_time": "2021-01-06T20:50:13.147049",
     "exception": false,
     "start_time": "2021-01-06T20:50:13.133900",
     "status": "completed"
    },
    "tags": []
   },
   "source": [
    "# Settings"
   ]
  },
  {
   "cell_type": "code",
   "execution_count": 5,
   "metadata": {
    "execution": {
     "iopub.execute_input": "2021-01-06T20:50:13.176366Z",
     "iopub.status.busy": "2021-01-06T20:50:13.175996Z",
     "iopub.status.idle": "2021-01-06T20:50:13.183357Z",
     "shell.execute_reply": "2021-01-06T20:50:13.183044Z"
    },
    "papermill": {
     "duration": 0.023012,
     "end_time": "2021-01-06T20:50:13.183447",
     "exception": false,
     "start_time": "2021-01-06T20:50:13.160435",
     "status": "completed"
    },
    "tags": []
   },
   "outputs": [],
   "source": [
    "RANDOM_GENERATOR = np.random.default_rng(12345)"
   ]
  },
  {
   "cell_type": "markdown",
   "metadata": {
    "papermill": {
     "duration": 0.012762,
     "end_time": "2021-01-06T20:50:13.209767",
     "exception": false,
     "start_time": "2021-01-06T20:50:13.197005",
     "status": "completed"
    },
    "tags": []
   },
   "source": [
    "## Ensemble size"
   ]
  },
  {
   "cell_type": "markdown",
   "metadata": {
    "papermill": {
     "duration": 0.01264,
     "end_time": "2021-01-06T20:50:13.235214",
     "exception": false,
     "start_time": "2021-01-06T20:50:13.222574",
     "status": "completed"
    },
    "tags": []
   },
   "source": [
    "For some clustering algorithms it is easy to control the number of final partitions to generate: for instance, for k-means, you can generate partitions from k=2 to k=20 (19 partitions with different number of clusters). However, with algorithms such as DBSCAN this is not very easy to achieve, since for some parameter combinations (`eps` and `min_samples`) it generates partitions with one cluster (which is not an actual partition of the data) that are not included here.\n",
    "\n",
    "The parameters below specify the expected number of partitions for each clustering algorithm, and a range of allowed sizes. Then, the code below checks that each algorithm has the same representation in the ensemble. For example, if `EXPECTED_ENSEMBLE_SIZE=50`, `MIN_ENSEMBLE_SIZE=45` and `MIN_ENSEMBLE_SIZE=55`, the code below will check that k-means, spectral clustering, DBSCAN, etc, generated between 45 and 55 partitions. If not, it resamples the generated partitions to get 50 (the value specified by `EXPECTED_ENSEMBLE_SIZE`), so each algorithm has approximately the same representation in the complete ensemble."
   ]
  },
  {
   "cell_type": "code",
   "execution_count": 6,
   "metadata": {
    "execution": {
     "iopub.execute_input": "2021-01-06T20:50:13.263593Z",
     "iopub.status.busy": "2021-01-06T20:50:13.263226Z",
     "iopub.status.idle": "2021-01-06T20:50:13.270458Z",
     "shell.execute_reply": "2021-01-06T20:50:13.270076Z"
    },
    "papermill": {
     "duration": 0.02231,
     "end_time": "2021-01-06T20:50:13.270545",
     "exception": false,
     "start_time": "2021-01-06T20:50:13.248235",
     "status": "completed"
    },
    "tags": []
   },
   "outputs": [],
   "source": [
    "EXPECTED_ENSEMBLE_SIZE = 295\n",
    "\n",
    "MIN_ENSEMBLE_SIZE = 290\n",
    "MAX_ENSEMBLE_SIZE = 300"
   ]
  },
  {
   "cell_type": "markdown",
   "metadata": {
    "papermill": {
     "duration": 0.012981,
     "end_time": "2021-01-06T20:50:13.297045",
     "exception": false,
     "start_time": "2021-01-06T20:50:13.284064",
     "status": "completed"
    },
    "tags": []
   },
   "source": [
    "## Consensus clustering"
   ]
  },
  {
   "cell_type": "code",
   "execution_count": 7,
   "metadata": {
    "execution": {
     "iopub.execute_input": "2021-01-06T20:50:13.325506Z",
     "iopub.status.busy": "2021-01-06T20:50:13.325109Z",
     "iopub.status.idle": "2021-01-06T20:50:13.333700Z",
     "shell.execute_reply": "2021-01-06T20:50:13.333294Z"
    },
    "papermill": {
     "duration": 0.023939,
     "end_time": "2021-01-06T20:50:13.333788",
     "exception": false,
     "start_time": "2021-01-06T20:50:13.309849",
     "status": "completed"
    },
    "tags": []
   },
   "outputs": [
    {
     "data": {
      "text/plain": [
       "PosixPath('/home/miltondp/projects/labs/greenelab/phenoplier/base3/results/clustering/consensus_clustering')"
      ]
     },
     "metadata": {},
     "output_type": "display_data"
    }
   ],
   "source": [
    "# output dir for this notebook\n",
    "RESULTS_DIR = Path(conf.RESULTS[\"CLUSTERING_DIR\"], \"consensus_clustering\").resolve()\n",
    "RESULTS_DIR.mkdir(parents=True, exist_ok=True)\n",
    "\n",
    "display(RESULTS_DIR)"
   ]
  },
  {
   "cell_type": "markdown",
   "metadata": {
    "papermill": {
     "duration": 0.01312,
     "end_time": "2021-01-06T20:50:13.360420",
     "exception": false,
     "start_time": "2021-01-06T20:50:13.347300",
     "status": "completed"
    },
    "tags": []
   },
   "source": [
    "# Get ensemble"
   ]
  },
  {
   "cell_type": "markdown",
   "metadata": {
    "papermill": {
     "duration": 0.013074,
     "end_time": "2021-01-06T20:50:13.386634",
     "exception": false,
     "start_time": "2021-01-06T20:50:13.373560",
     "status": "completed"
    },
    "tags": []
   },
   "source": [
    "## Load partition files"
   ]
  },
  {
   "cell_type": "code",
   "execution_count": 8,
   "metadata": {
    "execution": {
     "iopub.execute_input": "2021-01-06T20:50:13.415512Z",
     "iopub.status.busy": "2021-01-06T20:50:13.414846Z",
     "iopub.status.idle": "2021-01-06T20:50:13.423397Z",
     "shell.execute_reply": "2021-01-06T20:50:13.423013Z"
    },
    "papermill": {
     "duration": 0.023808,
     "end_time": "2021-01-06T20:50:13.423485",
     "exception": false,
     "start_time": "2021-01-06T20:50:13.399677",
     "status": "completed"
    },
    "tags": []
   },
   "outputs": [
    {
     "data": {
      "text/plain": [
       "PosixPath('/home/miltondp/projects/labs/greenelab/phenoplier/base3/results/clustering/runs')"
      ]
     },
     "metadata": {},
     "output_type": "display_data"
    }
   ],
   "source": [
    "input_dir = Path(\n",
    "    conf.RESULTS[\"CLUSTERING_RUNS_DIR\"],\n",
    ").resolve()\n",
    "display(input_dir)"
   ]
  },
  {
   "cell_type": "code",
   "execution_count": 9,
   "metadata": {
    "execution": {
     "iopub.execute_input": "2021-01-06T20:50:13.453484Z",
     "iopub.status.busy": "2021-01-06T20:50:13.453108Z",
     "iopub.status.idle": "2021-01-06T20:50:13.461276Z",
     "shell.execute_reply": "2021-01-06T20:50:13.460922Z"
    },
    "papermill": {
     "duration": 0.024077,
     "end_time": "2021-01-06T20:50:13.461364",
     "exception": false,
     "start_time": "2021-01-06T20:50:13.437287",
     "status": "completed"
    },
    "tags": []
   },
   "outputs": [],
   "source": [
    "included_pkl_files = []\n",
    "\n",
    "for pkl_file in input_dir.rglob(\"*.pkl\"):\n",
    "    pkl_file_str = str(pkl_file)\n",
    "\n",
    "    # skip stability pkl files\n",
    "    if \"-stability-\" in pkl_file_str:\n",
    "        continue\n",
    "\n",
    "    included_pkl_files.append(pkl_file)"
   ]
  },
  {
   "cell_type": "code",
   "execution_count": 10,
   "metadata": {
    "execution": {
     "iopub.execute_input": "2021-01-06T20:50:13.491389Z",
     "iopub.status.busy": "2021-01-06T20:50:13.491026Z",
     "iopub.status.idle": "2021-01-06T20:50:13.498470Z",
     "shell.execute_reply": "2021-01-06T20:50:13.498795Z"
    },
    "papermill": {
     "duration": 0.02353,
     "end_time": "2021-01-06T20:50:13.498901",
     "exception": false,
     "start_time": "2021-01-06T20:50:13.475371",
     "status": "completed"
    },
    "tags": []
   },
   "outputs": [
    {
     "data": {
      "text/plain": [
       "15"
      ]
     },
     "metadata": {},
     "output_type": "display_data"
    }
   ],
   "source": [
    "display(len(included_pkl_files))\n",
    "\n",
    "# 5 algorithms, 3 dataset versions\n",
    "assert len(included_pkl_files) == 5 * 3"
   ]
  },
  {
   "cell_type": "markdown",
   "metadata": {
    "papermill": {
     "duration": 0.01355,
     "end_time": "2021-01-06T20:50:13.526683",
     "exception": false,
     "start_time": "2021-01-06T20:50:13.513133",
     "status": "completed"
    },
    "tags": []
   },
   "source": [
    "## Combine partition files to get final ensemble"
   ]
  },
  {
   "cell_type": "code",
   "execution_count": 11,
   "metadata": {
    "execution": {
     "iopub.execute_input": "2021-01-06T20:50:13.556272Z",
     "iopub.status.busy": "2021-01-06T20:50:13.555905Z",
     "iopub.status.idle": "2021-01-06T20:50:13.563295Z",
     "shell.execute_reply": "2021-01-06T20:50:13.562911Z"
    },
    "papermill": {
     "duration": 0.02306,
     "end_time": "2021-01-06T20:50:13.563381",
     "exception": false,
     "start_time": "2021-01-06T20:50:13.540321",
     "status": "completed"
    },
    "tags": []
   },
   "outputs": [],
   "source": [
    "n_partitions = 0"
   ]
  },
  {
   "cell_type": "code",
   "execution_count": 12,
   "metadata": {
    "execution": {
     "iopub.execute_input": "2021-01-06T20:50:13.593483Z",
     "iopub.status.busy": "2021-01-06T20:50:13.593102Z",
     "iopub.status.idle": "2021-01-06T20:50:13.599663Z",
     "shell.execute_reply": "2021-01-06T20:50:13.599969Z"
    },
    "papermill": {
     "duration": 0.02236,
     "end_time": "2021-01-06T20:50:13.600075",
     "exception": false,
     "start_time": "2021-01-06T20:50:13.577715",
     "status": "completed"
    },
    "tags": []
   },
   "outputs": [],
   "source": [
    "ensembles_list = []"
   ]
  },
  {
   "cell_type": "code",
   "execution_count": 13,
   "metadata": {
    "execution": {
     "iopub.execute_input": "2021-01-06T20:50:13.631825Z",
     "iopub.status.busy": "2021-01-06T20:50:13.631434Z",
     "iopub.status.idle": "2021-01-06T20:50:13.773822Z",
     "shell.execute_reply": "2021-01-06T20:50:13.773347Z"
    },
    "papermill": {
     "duration": 0.15981,
     "end_time": "2021-01-06T20:50:13.773931",
     "exception": false,
     "start_time": "2021-01-06T20:50:13.614121",
     "status": "completed"
    },
    "tags": []
   },
   "outputs": [
    {
     "name": "stdout",
     "output_type": "stream",
     "text": [
      "More partitions than expected in umap-z_score_std-projection-smultixcan-efo_partial-mashr-zscores/DBSCAN.pkl\n",
      "Less partitions than expected in z_score_std-projection-smultixcan-efo_partial-mashr-zscores/DBSCAN.pkl\n",
      "Less partitions than expected in pca-z_score_std-projection-smultixcan-efo_partial-mashr-zscores/DBSCAN.pkl\n"
     ]
    }
   ],
   "source": [
    "for ens_file in included_pkl_files:\n",
    "    ens = pd.read_pickle(ens_file)\n",
    "\n",
    "    short_file_path = Path(*ens_file.parts[-2:])\n",
    "\n",
    "    if ens.shape[0] < MIN_ENSEMBLE_SIZE:\n",
    "        print(f\"Less partitions than expected in {short_file_path}\")\n",
    "\n",
    "        # if less partitions than expected, resample with replacement\n",
    "        ens = ens.sample(\n",
    "            n=EXPECTED_ENSEMBLE_SIZE,\n",
    "            replace=True,\n",
    "            random_state=RANDOM_GENERATOR.bit_generator,\n",
    "        )\n",
    "        assert ens.shape[0] == EXPECTED_ENSEMBLE_SIZE\n",
    "\n",
    "    elif ens.shape[0] > MAX_ENSEMBLE_SIZE:\n",
    "        print(f\"More partitions than expected in {short_file_path}\")\n",
    "\n",
    "        # if more partitions than expected, take a smaller sample\n",
    "        ens = ens.sample(\n",
    "            n=EXPECTED_ENSEMBLE_SIZE, random_state=RANDOM_GENERATOR.bit_generator\n",
    "        )\n",
    "        assert ens.shape[0] == EXPECTED_ENSEMBLE_SIZE\n",
    "\n",
    "    ens_full_format = np.concatenate(\n",
    "        ens[\"partition\"].apply(lambda x: x.reshape(1, -1)), axis=0\n",
    "    )\n",
    "\n",
    "    n_partitions += ens_full_format.shape[0]\n",
    "\n",
    "    ensembles_list.append(ens_full_format)"
   ]
  },
  {
   "cell_type": "code",
   "execution_count": 14,
   "metadata": {
    "execution": {
     "iopub.execute_input": "2021-01-06T20:50:13.811990Z",
     "iopub.status.busy": "2021-01-06T20:50:13.811600Z",
     "iopub.status.idle": "2021-01-06T20:50:13.819107Z",
     "shell.execute_reply": "2021-01-06T20:50:13.819411Z"
    },
    "papermill": {
     "duration": 0.027377,
     "end_time": "2021-01-06T20:50:13.819526",
     "exception": false,
     "start_time": "2021-01-06T20:50:13.792149",
     "status": "completed"
    },
    "tags": []
   },
   "outputs": [
    {
     "data": {
      "text/plain": [
       "15"
      ]
     },
     "metadata": {},
     "output_type": "display_data"
    }
   ],
   "source": [
    "display(len(ensembles_list))\n",
    "assert len(ensembles_list) == len(included_pkl_files)"
   ]
  },
  {
   "cell_type": "code",
   "execution_count": 15,
   "metadata": {
    "execution": {
     "iopub.execute_input": "2021-01-06T20:50:13.853168Z",
     "iopub.status.busy": "2021-01-06T20:50:13.852798Z",
     "iopub.status.idle": "2021-01-06T20:50:13.860684Z",
     "shell.execute_reply": "2021-01-06T20:50:13.860355Z"
    },
    "papermill": {
     "duration": 0.025653,
     "end_time": "2021-01-06T20:50:13.860809",
     "exception": false,
     "start_time": "2021-01-06T20:50:13.835156",
     "status": "completed"
    },
    "tags": []
   },
   "outputs": [
    {
     "data": {
      "text/plain": [
       "3749"
      ]
     },
     "metadata": {},
     "output_type": "display_data"
    }
   ],
   "source": [
    "n_data_objects = ensembles_list[0].shape[1]\n",
    "display(n_data_objects)"
   ]
  },
  {
   "cell_type": "code",
   "execution_count": 16,
   "metadata": {
    "execution": {
     "iopub.execute_input": "2021-01-06T20:50:13.892085Z",
     "iopub.status.busy": "2021-01-06T20:50:13.891692Z",
     "iopub.status.idle": "2021-01-06T20:50:13.899984Z",
     "shell.execute_reply": "2021-01-06T20:50:13.899578Z"
    },
    "papermill": {
     "duration": 0.024663,
     "end_time": "2021-01-06T20:50:13.900079",
     "exception": false,
     "start_time": "2021-01-06T20:50:13.875416",
     "status": "completed"
    },
    "tags": []
   },
   "outputs": [
    {
     "data": {
      "text/plain": [
       "4428"
      ]
     },
     "metadata": {},
     "output_type": "display_data"
    }
   ],
   "source": [
    "display(n_partitions)"
   ]
  },
  {
   "cell_type": "code",
   "execution_count": 17,
   "metadata": {
    "execution": {
     "iopub.execute_input": "2021-01-06T20:50:13.933519Z",
     "iopub.status.busy": "2021-01-06T20:50:13.933142Z",
     "iopub.status.idle": "2021-01-06T20:50:14.153788Z",
     "shell.execute_reply": "2021-01-06T20:50:14.153386Z"
    },
    "papermill": {
     "duration": 0.237744,
     "end_time": "2021-01-06T20:50:14.153890",
     "exception": false,
     "start_time": "2021-01-06T20:50:13.916146",
     "status": "completed"
    },
    "tags": []
   },
   "outputs": [],
   "source": [
    "full_ensemble = ensembles_list[0]\n",
    "for ens in ensembles_list[1:]:\n",
    "    full_ensemble = np.concatenate((full_ensemble, ens), axis=0)"
   ]
  },
  {
   "cell_type": "code",
   "execution_count": 18,
   "metadata": {
    "execution": {
     "iopub.execute_input": "2021-01-06T20:50:14.187875Z",
     "iopub.status.busy": "2021-01-06T20:50:14.187511Z",
     "iopub.status.idle": "2021-01-06T20:50:14.195673Z",
     "shell.execute_reply": "2021-01-06T20:50:14.195269Z"
    },
    "papermill": {
     "duration": 0.025462,
     "end_time": "2021-01-06T20:50:14.195763",
     "exception": false,
     "start_time": "2021-01-06T20:50:14.170301",
     "status": "completed"
    },
    "tags": []
   },
   "outputs": [
    {
     "data": {
      "text/plain": [
       "(4428, 3749)"
      ]
     },
     "metadata": {},
     "output_type": "display_data"
    }
   ],
   "source": [
    "display(full_ensemble.shape)\n",
    "assert full_ensemble.shape == (n_partitions, n_data_objects)"
   ]
  },
  {
   "cell_type": "markdown",
   "metadata": {
    "papermill": {
     "duration": 0.015531,
     "end_time": "2021-01-06T20:50:14.227098",
     "exception": false,
     "start_time": "2021-01-06T20:50:14.211567",
     "status": "completed"
    },
    "tags": []
   },
   "source": [
    "## Save"
   ]
  },
  {
   "cell_type": "code",
   "execution_count": 19,
   "metadata": {
    "execution": {
     "iopub.execute_input": "2021-01-06T20:50:14.259061Z",
     "iopub.status.busy": "2021-01-06T20:50:14.258691Z",
     "iopub.status.idle": "2021-01-06T20:50:14.266797Z",
     "shell.execute_reply": "2021-01-06T20:50:14.266488Z"
    },
    "papermill": {
     "duration": 0.024907,
     "end_time": "2021-01-06T20:50:14.266887",
     "exception": false,
     "start_time": "2021-01-06T20:50:14.241980",
     "status": "completed"
    },
    "tags": []
   },
   "outputs": [
    {
     "data": {
      "text/plain": [
       "PosixPath('/home/miltondp/projects/labs/greenelab/phenoplier/base3/results/clustering/consensus_clustering/ensemble.npy')"
      ]
     },
     "metadata": {},
     "output_type": "display_data"
    }
   ],
   "source": [
    "output_file = Path(RESULTS_DIR, \"ensemble.npy\").resolve()\n",
    "display(output_file)"
   ]
  },
  {
   "cell_type": "code",
   "execution_count": 20,
   "metadata": {
    "execution": {
     "iopub.execute_input": "2021-01-06T20:50:14.299721Z",
     "iopub.status.busy": "2021-01-06T20:50:14.299358Z",
     "iopub.status.idle": "2021-01-06T20:50:14.307345Z",
     "shell.execute_reply": "2021-01-06T20:50:14.307640Z"
    },
    "papermill": {
     "duration": 0.025374,
     "end_time": "2021-01-06T20:50:14.307745",
     "exception": false,
     "start_time": "2021-01-06T20:50:14.282371",
     "status": "completed"
    },
    "tags": []
   },
   "outputs": [
    {
     "data": {
      "text/plain": [
       "array([[0., 0., 0., ..., 0., 0., 0.],\n",
       "       [0., 0., 0., ..., 0., 0., 0.],\n",
       "       [0., 0., 0., ..., 0., 0., 0.],\n",
       "       ...,\n",
       "       [0., 0., 0., ..., 0., 0., 0.],\n",
       "       [0., 0., 0., ..., 0., 0., 0.],\n",
       "       [0., 0., 0., ..., 0., 0., 0.]])"
      ]
     },
     "execution_count": 20,
     "metadata": {},
     "output_type": "execute_result"
    }
   ],
   "source": [
    "full_ensemble"
   ]
  },
  {
   "cell_type": "code",
   "execution_count": 21,
   "metadata": {
    "execution": {
     "iopub.execute_input": "2021-01-06T20:50:14.340938Z",
     "iopub.status.busy": "2021-01-06T20:50:14.340511Z",
     "iopub.status.idle": "2021-01-06T20:50:14.427331Z",
     "shell.execute_reply": "2021-01-06T20:50:14.426855Z"
    },
    "papermill": {
     "duration": 0.104268,
     "end_time": "2021-01-06T20:50:14.427439",
     "exception": false,
     "start_time": "2021-01-06T20:50:14.323171",
     "status": "completed"
    },
    "tags": []
   },
   "outputs": [],
   "source": [
    "np.save(output_file, full_ensemble)"
   ]
  },
  {
   "cell_type": "markdown",
   "metadata": {
    "papermill": {
     "duration": 0.016795,
     "end_time": "2021-01-06T20:50:14.462080",
     "exception": false,
     "start_time": "2021-01-06T20:50:14.445285",
     "status": "completed"
    },
    "tags": []
   },
   "source": [
    "# Get coassociation matrix from ensemble"
   ]
  },
  {
   "cell_type": "markdown",
   "metadata": {
    "papermill": {
     "duration": 0.014857,
     "end_time": "2021-01-06T20:50:14.492201",
     "exception": false,
     "start_time": "2021-01-06T20:50:14.477344",
     "status": "completed"
    },
    "tags": []
   },
   "source": [
    "The coassociation matrix is a distance matrix derived from the ensemble, where each cell represents the percentage of times a pair of objects (traits and diseases in this case) were not clustered together. It serves as an input for any consensus function (basically, another clustering algorithm) to derive a consensus partition."
   ]
  },
  {
   "cell_type": "code",
   "execution_count": 22,
   "metadata": {
    "execution": {
     "iopub.execute_input": "2021-01-06T20:50:14.524807Z",
     "iopub.status.busy": "2021-01-06T20:50:14.524385Z",
     "iopub.status.idle": "2021-01-06T20:50:14.840123Z",
     "shell.execute_reply": "2021-01-06T20:50:14.840410Z"
    },
    "papermill": {
     "duration": 0.333422,
     "end_time": "2021-01-06T20:50:14.840520",
     "exception": false,
     "start_time": "2021-01-06T20:50:14.507098",
     "status": "completed"
    },
    "tags": []
   },
   "outputs": [],
   "source": [
    "from clustering.ensemble import get_ensemble_distance_matrix"
   ]
  },
  {
   "cell_type": "code",
   "execution_count": 23,
   "metadata": {
    "execution": {
     "iopub.execute_input": "2021-01-06T20:50:14.873495Z",
     "iopub.status.busy": "2021-01-06T20:50:14.873102Z",
     "iopub.status.idle": "2021-01-06T21:05:10.559974Z",
     "shell.execute_reply": "2021-01-06T21:05:10.559451Z"
    },
    "papermill": {
     "duration": 895.704222,
     "end_time": "2021-01-06T21:05:10.560091",
     "exception": false,
     "start_time": "2021-01-06T20:50:14.855869",
     "status": "completed"
    },
    "tags": []
   },
   "outputs": [],
   "source": [
    "ensemble_coassoc_matrix = get_ensemble_distance_matrix(\n",
    "    full_ensemble,\n",
    "    n_jobs=conf.GENERAL[\"N_JOBS\"],\n",
    ")"
   ]
  },
  {
   "cell_type": "code",
   "execution_count": 24,
   "metadata": {
    "execution": {
     "iopub.execute_input": "2021-01-06T21:05:11.495570Z",
     "iopub.status.busy": "2021-01-06T21:05:11.493993Z",
     "iopub.status.idle": "2021-01-06T21:05:11.507178Z",
     "shell.execute_reply": "2021-01-06T21:05:11.506772Z"
    },
    "papermill": {
     "duration": 0.928465,
     "end_time": "2021-01-06T21:05:11.507269",
     "exception": false,
     "start_time": "2021-01-06T21:05:10.578804",
     "status": "completed"
    },
    "tags": []
   },
   "outputs": [
    {
     "data": {
      "text/plain": [
       "(3749, 3749)"
      ]
     },
     "execution_count": 24,
     "metadata": {},
     "output_type": "execute_result"
    }
   ],
   "source": [
    "ensemble_coassoc_matrix.shape"
   ]
  },
  {
   "cell_type": "code",
   "execution_count": 25,
   "metadata": {
    "execution": {
     "iopub.execute_input": "2021-01-06T21:05:11.541905Z",
     "iopub.status.busy": "2021-01-06T21:05:11.541541Z",
     "iopub.status.idle": "2021-01-06T21:05:11.552226Z",
     "shell.execute_reply": "2021-01-06T21:05:11.551831Z"
    },
    "papermill": {
     "duration": 0.028447,
     "end_time": "2021-01-06T21:05:11.552317",
     "exception": false,
     "start_time": "2021-01-06T21:05:11.523870",
     "status": "completed"
    },
    "tags": []
   },
   "outputs": [
    {
     "data": {
      "text/plain": [
       "array([[0.        , 0.05004529, 0.04868659, ..., 0.62794384, 0.66445714,\n",
       "        0.67006341],\n",
       "       [0.05004529, 0.        , 0.02241848, ..., 0.62771739, 0.66514286,\n",
       "        0.66779891],\n",
       "       [0.04868659, 0.02241848, 0.        , ..., 0.62703804, 0.66285714,\n",
       "        0.66530797],\n",
       "       ...,\n",
       "       [0.62794384, 0.62771739, 0.62703804, ..., 0.        , 0.59288808,\n",
       "        0.66282746],\n",
       "       [0.66445714, 0.66514286, 0.66285714, ..., 0.59288808, 0.        ,\n",
       "        0.6127194 ],\n",
       "       [0.67006341, 0.66779891, 0.66530797, ..., 0.66282746, 0.6127194 ,\n",
       "        0.        ]])"
      ]
     },
     "execution_count": 25,
     "metadata": {},
     "output_type": "execute_result"
    }
   ],
   "source": [
    "ensemble_coassoc_matrix"
   ]
  },
  {
   "cell_type": "markdown",
   "metadata": {
    "papermill": {
     "duration": 0.016267,
     "end_time": "2021-01-06T21:05:11.586553",
     "exception": false,
     "start_time": "2021-01-06T21:05:11.570286",
     "status": "completed"
    },
    "tags": []
   },
   "source": [
    "## Save"
   ]
  },
  {
   "cell_type": "code",
   "execution_count": 26,
   "metadata": {
    "execution": {
     "iopub.execute_input": "2021-01-06T21:05:11.621384Z",
     "iopub.status.busy": "2021-01-06T21:05:11.620889Z",
     "iopub.status.idle": "2021-01-06T21:05:11.631455Z",
     "shell.execute_reply": "2021-01-06T21:05:11.631107Z"
    },
    "papermill": {
     "duration": 0.028824,
     "end_time": "2021-01-06T21:05:11.631544",
     "exception": false,
     "start_time": "2021-01-06T21:05:11.602720",
     "status": "completed"
    },
    "tags": []
   },
   "outputs": [
    {
     "data": {
      "text/plain": [
       "PosixPath('/home/miltondp/projects/labs/greenelab/phenoplier/base3/results/clustering/consensus_clustering/ensemble_coassoc_matrix.npy')"
      ]
     },
     "metadata": {},
     "output_type": "display_data"
    }
   ],
   "source": [
    "output_file = Path(RESULTS_DIR, \"ensemble_coassoc_matrix.npy\").resolve()\n",
    "display(output_file)"
   ]
  },
  {
   "cell_type": "code",
   "execution_count": 27,
   "metadata": {
    "execution": {
     "iopub.execute_input": "2021-01-06T21:05:11.667625Z",
     "iopub.status.busy": "2021-01-06T21:05:11.667260Z",
     "iopub.status.idle": "2021-01-06T21:05:11.732084Z",
     "shell.execute_reply": "2021-01-06T21:05:11.732441Z"
    },
    "papermill": {
     "duration": 0.084099,
     "end_time": "2021-01-06T21:05:11.732575",
     "exception": false,
     "start_time": "2021-01-06T21:05:11.648476",
     "status": "completed"
    },
    "tags": []
   },
   "outputs": [],
   "source": [
    "np.save(output_file, ensemble_coassoc_matrix)"
   ]
  },
  {
   "cell_type": "code",
   "execution_count": null,
   "metadata": {
    "papermill": {
     "duration": 0.017515,
     "end_time": "2021-01-06T21:05:11.769099",
     "exception": false,
     "start_time": "2021-01-06T21:05:11.751584",
     "status": "completed"
    },
    "tags": []
   },
   "outputs": [],
   "source": []
  }
 ],
 "metadata": {
  "jupytext": {
   "cell_metadata_filter": "all,-execution,-papermill",
   "formats": "ipynb,py//py:percent"
  },
  "kernelspec": {
   "display_name": "Python 3",
   "language": "python",
   "name": "python3"
  },
  "language_info": {
   "codemirror_mode": {
    "name": "ipython",
    "version": 3
   },
   "file_extension": ".py",
   "mimetype": "text/x-python",
   "name": "python",
   "nbconvert_exporter": "python",
   "pygments_lexer": "ipython3",
   "version": "3.8.6"
  },
  "papermill": {
   "default_parameters": {},
   "duration": 900.166686,
   "end_time": "2021-01-06T21:05:12.089832",
   "environment_variables": {},
   "exception": null,
   "input_path": "15_cluster_analysis/020_00-generate_ensemble.ipynb",
   "output_path": "15_cluster_analysis/020_00-generate_ensemble.run.ipynb",
   "parameters": {},
   "start_time": "2021-01-06T20:50:11.923146",
   "version": "2.2.2"
  },
  "toc-autonumbering": true,
  "toc-showcode": false,
  "toc-showmarkdowntxt": false,
  "toc-showtags": false
 },
 "nbformat": 4,
 "nbformat_minor": 4
}