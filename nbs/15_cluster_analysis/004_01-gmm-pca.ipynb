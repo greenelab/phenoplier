{
 "cells": [
  {
   "cell_type": "markdown",
   "metadata": {
    "papermill": {
     "duration": 0.025246,
     "end_time": "2021-01-06T09:31:26.892002",
     "exception": false,
     "start_time": "2021-01-06T09:31:26.866756",
     "status": "completed"
    },
    "tags": []
   },
   "source": [
    "# Description"
   ]
  },
  {
   "cell_type": "markdown",
   "metadata": {
    "papermill": {
     "duration": 0.020704,
     "end_time": "2021-01-06T09:31:26.933548",
     "exception": false,
     "start_time": "2021-01-06T09:31:26.912844",
     "status": "completed"
    },
    "tags": []
   },
   "source": [
    "Runs gaussian mixture model on the pca version of the data."
   ]
  },
  {
   "cell_type": "markdown",
   "metadata": {
    "papermill": {
     "duration": 0.020947,
     "end_time": "2021-01-06T09:31:26.975623",
     "exception": false,
     "start_time": "2021-01-06T09:31:26.954676",
     "status": "completed"
    },
    "tags": []
   },
   "source": [
    "# Environment variables"
   ]
  },
  {
   "cell_type": "code",
   "execution_count": 1,
   "metadata": {
    "execution": {
     "iopub.execute_input": "2021-01-06T09:31:27.021016Z",
     "iopub.status.busy": "2021-01-06T09:31:27.020551Z",
     "iopub.status.idle": "2021-01-06T09:31:27.031162Z",
     "shell.execute_reply": "2021-01-06T09:31:27.030743Z"
    },
    "papermill": {
     "duration": 0.034553,
     "end_time": "2021-01-06T09:31:27.031282",
     "exception": false,
     "start_time": "2021-01-06T09:31:26.996729",
     "status": "completed"
    },
    "tags": []
   },
   "outputs": [
    {
     "data": {
      "text/plain": [
       "3"
      ]
     },
     "metadata": {},
     "output_type": "display_data"
    }
   ],
   "source": [
    "from IPython.display import display\n",
    "\n",
    "import conf\n",
    "\n",
    "N_JOBS = conf.GENERAL[\"N_JOBS\"]\n",
    "display(N_JOBS)"
   ]
  },
  {
   "cell_type": "code",
   "execution_count": 2,
   "metadata": {
    "execution": {
     "iopub.execute_input": "2021-01-06T09:31:27.080479Z",
     "iopub.status.busy": "2021-01-06T09:31:27.080036Z",
     "iopub.status.idle": "2021-01-06T09:31:27.082874Z",
     "shell.execute_reply": "2021-01-06T09:31:27.082478Z"
    },
    "papermill": {
     "duration": 0.029533,
     "end_time": "2021-01-06T09:31:27.082966",
     "exception": false,
     "start_time": "2021-01-06T09:31:27.053433",
     "status": "completed"
    },
    "tags": []
   },
   "outputs": [
    {
     "name": "stdout",
     "output_type": "stream",
     "text": [
      "env: MKL_NUM_THREADS=3\n",
      "env: OPEN_BLAS_NUM_THREADS=3\n",
      "env: NUMEXPR_NUM_THREADS=3\n",
      "env: OMP_NUM_THREADS=3\n"
     ]
    }
   ],
   "source": [
    "%env MKL_NUM_THREADS=$N_JOBS\n",
    "%env OPEN_BLAS_NUM_THREADS=$N_JOBS\n",
    "%env NUMEXPR_NUM_THREADS=$N_JOBS\n",
    "%env OMP_NUM_THREADS=$N_JOBS"
   ]
  },
  {
   "cell_type": "markdown",
   "metadata": {
    "papermill": {
     "duration": 0.022598,
     "end_time": "2021-01-06T09:31:27.128480",
     "exception": false,
     "start_time": "2021-01-06T09:31:27.105882",
     "status": "completed"
    },
    "tags": []
   },
   "source": [
    "# Modules loading"
   ]
  },
  {
   "cell_type": "code",
   "execution_count": 3,
   "metadata": {
    "execution": {
     "iopub.execute_input": "2021-01-06T09:31:27.175738Z",
     "iopub.status.busy": "2021-01-06T09:31:27.175326Z",
     "iopub.status.idle": "2021-01-06T09:31:27.183432Z",
     "shell.execute_reply": "2021-01-06T09:31:27.183109Z"
    },
    "papermill": {
     "duration": 0.033212,
     "end_time": "2021-01-06T09:31:27.183521",
     "exception": false,
     "start_time": "2021-01-06T09:31:27.150309",
     "status": "completed"
    },
    "tags": []
   },
   "outputs": [],
   "source": [
    "%load_ext autoreload\n",
    "%autoreload 2"
   ]
  },
  {
   "cell_type": "code",
   "execution_count": 4,
   "metadata": {
    "execution": {
     "iopub.execute_input": "2021-01-06T09:31:27.231102Z",
     "iopub.status.busy": "2021-01-06T09:31:27.230722Z",
     "iopub.status.idle": "2021-01-06T09:31:28.847420Z",
     "shell.execute_reply": "2021-01-06T09:31:28.847771Z"
    },
    "papermill": {
     "duration": 1.642174,
     "end_time": "2021-01-06T09:31:28.847895",
     "exception": false,
     "start_time": "2021-01-06T09:31:27.205721",
     "status": "completed"
    },
    "tags": []
   },
   "outputs": [],
   "source": [
    "from pathlib import Path\n",
    "\n",
    "import numpy as np\n",
    "import pandas as pd\n",
    "import umap\n",
    "import matplotlib.pyplot as plt\n",
    "import seaborn as sns\n",
    "\n",
    "from utils import generate_result_set_name"
   ]
  },
  {
   "cell_type": "markdown",
   "metadata": {
    "papermill": {
     "duration": 0.021354,
     "end_time": "2021-01-06T09:31:28.893364",
     "exception": false,
     "start_time": "2021-01-06T09:31:28.872010",
     "status": "completed"
    },
    "tags": []
   },
   "source": [
    "# Settings"
   ]
  },
  {
   "cell_type": "code",
   "execution_count": 5,
   "metadata": {
    "execution": {
     "iopub.execute_input": "2021-01-06T09:31:28.939011Z",
     "iopub.status.busy": "2021-01-06T09:31:28.938631Z",
     "iopub.status.idle": "2021-01-06T09:31:28.950015Z",
     "shell.execute_reply": "2021-01-06T09:31:28.950318Z"
    },
    "papermill": {
     "duration": 0.03574,
     "end_time": "2021-01-06T09:31:28.950430",
     "exception": false,
     "start_time": "2021-01-06T09:31:28.914690",
     "status": "completed"
    },
    "tags": []
   },
   "outputs": [],
   "source": [
    "INITIAL_RANDOM_STATE = 70000"
   ]
  },
  {
   "cell_type": "markdown",
   "metadata": {
    "papermill": {
     "duration": 0.021522,
     "end_time": "2021-01-06T09:31:28.993777",
     "exception": false,
     "start_time": "2021-01-06T09:31:28.972255",
     "status": "completed"
    },
    "tags": []
   },
   "source": [
    "## Input data"
   ]
  },
  {
   "cell_type": "code",
   "execution_count": 6,
   "metadata": {
    "execution": {
     "iopub.execute_input": "2021-01-06T09:31:29.038656Z",
     "iopub.status.busy": "2021-01-06T09:31:29.038287Z",
     "iopub.status.idle": "2021-01-06T09:31:29.049737Z",
     "shell.execute_reply": "2021-01-06T09:31:29.050019Z"
    },
    "papermill": {
     "duration": 0.035321,
     "end_time": "2021-01-06T09:31:29.050130",
     "exception": false,
     "start_time": "2021-01-06T09:31:29.014809",
     "status": "completed"
    },
    "tags": []
   },
   "outputs": [],
   "source": [
    "INPUT_SUBSET = \"pca\""
   ]
  },
  {
   "cell_type": "code",
   "execution_count": 7,
   "metadata": {
    "execution": {
     "iopub.execute_input": "2021-01-06T09:31:29.096119Z",
     "iopub.status.busy": "2021-01-06T09:31:29.095753Z",
     "iopub.status.idle": "2021-01-06T09:31:29.107442Z",
     "shell.execute_reply": "2021-01-06T09:31:29.107115Z"
    },
    "papermill": {
     "duration": 0.035507,
     "end_time": "2021-01-06T09:31:29.107532",
     "exception": false,
     "start_time": "2021-01-06T09:31:29.072025",
     "status": "completed"
    },
    "tags": []
   },
   "outputs": [],
   "source": [
    "INPUT_STEM = \"z_score_std-projection-smultixcan-efo_partial-mashr-zscores\""
   ]
  },
  {
   "cell_type": "code",
   "execution_count": 8,
   "metadata": {
    "execution": {
     "iopub.execute_input": "2021-01-06T09:31:29.152750Z",
     "iopub.status.busy": "2021-01-06T09:31:29.152341Z",
     "iopub.status.idle": "2021-01-06T09:31:29.164099Z",
     "shell.execute_reply": "2021-01-06T09:31:29.163720Z"
    },
    "papermill": {
     "duration": 0.034845,
     "end_time": "2021-01-06T09:31:29.164190",
     "exception": false,
     "start_time": "2021-01-06T09:31:29.129345",
     "status": "completed"
    },
    "tags": []
   },
   "outputs": [],
   "source": [
    "DR_OPTIONS = {\n",
    "    \"n_components\": 50,\n",
    "    \"svd_solver\": \"full\",\n",
    "    \"random_state\": 0,\n",
    "}"
   ]
  },
  {
   "cell_type": "code",
   "execution_count": 9,
   "metadata": {
    "execution": {
     "iopub.execute_input": "2021-01-06T09:31:29.211137Z",
     "iopub.status.busy": "2021-01-06T09:31:29.210771Z",
     "iopub.status.idle": "2021-01-06T09:31:29.224653Z",
     "shell.execute_reply": "2021-01-06T09:31:29.224270Z"
    },
    "papermill": {
     "duration": 0.038455,
     "end_time": "2021-01-06T09:31:29.224780",
     "exception": false,
     "start_time": "2021-01-06T09:31:29.186325",
     "status": "completed"
    },
    "tags": []
   },
   "outputs": [
    {
     "data": {
      "text/plain": [
       "PosixPath('/home/miltondp/projects/labs/greenelab/phenoplier/base3/results/data_transformations/pca/pca-z_score_std-projection-smultixcan-efo_partial-mashr-zscores-n_components_50-random_state_0-svd_solver_full.pkl')"
      ]
     },
     "metadata": {},
     "output_type": "display_data"
    },
    {
     "data": {
      "text/plain": [
       "'pca-z_score_std-projection-smultixcan-efo_partial-mashr-zscores-n_components_50-random_state_0-svd_solver_full'"
      ]
     },
     "metadata": {},
     "output_type": "display_data"
    }
   ],
   "source": [
    "input_filepath = Path(\n",
    "    conf.RESULTS[\"DATA_TRANSFORMATIONS_DIR\"],\n",
    "    INPUT_SUBSET,\n",
    "    generate_result_set_name(\n",
    "        DR_OPTIONS, prefix=f\"{INPUT_SUBSET}-{INPUT_STEM}-\", suffix=\".pkl\"\n",
    "    ),\n",
    ").resolve()\n",
    "display(input_filepath)\n",
    "\n",
    "assert input_filepath.exists(), \"Input file does not exist\"\n",
    "\n",
    "input_filepath_stem = input_filepath.stem\n",
    "display(input_filepath_stem)"
   ]
  },
  {
   "cell_type": "markdown",
   "metadata": {
    "papermill": {
     "duration": 0.022005,
     "end_time": "2021-01-06T09:31:29.269599",
     "exception": false,
     "start_time": "2021-01-06T09:31:29.247594",
     "status": "completed"
    },
    "tags": []
   },
   "source": [
    "## Clustering"
   ]
  },
  {
   "cell_type": "code",
   "execution_count": 10,
   "metadata": {
    "execution": {
     "iopub.execute_input": "2021-01-06T09:31:29.316054Z",
     "iopub.status.busy": "2021-01-06T09:31:29.315643Z",
     "iopub.status.idle": "2021-01-06T09:31:29.335822Z",
     "shell.execute_reply": "2021-01-06T09:31:29.336125Z"
    },
    "papermill": {
     "duration": 0.044819,
     "end_time": "2021-01-06T09:31:29.336246",
     "exception": false,
     "start_time": "2021-01-06T09:31:29.291427",
     "status": "completed"
    },
    "tags": []
   },
   "outputs": [],
   "source": [
    "from sklearn.mixture import GaussianMixture"
   ]
  },
  {
   "cell_type": "code",
   "execution_count": 11,
   "metadata": {
    "execution": {
     "iopub.execute_input": "2021-01-06T09:31:29.385220Z",
     "iopub.status.busy": "2021-01-06T09:31:29.384853Z",
     "iopub.status.idle": "2021-01-06T09:31:29.396360Z",
     "shell.execute_reply": "2021-01-06T09:31:29.396656Z"
    },
    "papermill": {
     "duration": 0.036417,
     "end_time": "2021-01-06T09:31:29.396778",
     "exception": false,
     "start_time": "2021-01-06T09:31:29.360361",
     "status": "completed"
    },
    "tags": []
   },
   "outputs": [],
   "source": [
    "CLUSTERING_ATTRIBUTES_TO_SAVE = [\"n_clusters\"]"
   ]
  },
  {
   "cell_type": "code",
   "execution_count": 12,
   "metadata": {
    "execution": {
     "iopub.execute_input": "2021-01-06T09:31:29.444505Z",
     "iopub.status.busy": "2021-01-06T09:31:29.444122Z",
     "iopub.status.idle": "2021-01-06T09:31:29.457170Z",
     "shell.execute_reply": "2021-01-06T09:31:29.456760Z"
    },
    "papermill": {
     "duration": 0.037713,
     "end_time": "2021-01-06T09:31:29.457259",
     "exception": false,
     "start_time": "2021-01-06T09:31:29.419546",
     "status": "completed"
    },
    "tags": []
   },
   "outputs": [
    {
     "data": {
      "text/plain": [
       "{'K_MIN': 2,\n",
       " 'K_MAX': 60,\n",
       " 'N_REPS_PER_K': 5,\n",
       " 'N_INIT': 10,\n",
       " 'COVARIANCE_TYPE': 'full'}"
      ]
     },
     "metadata": {},
     "output_type": "display_data"
    }
   ],
   "source": [
    "CLUSTERING_OPTIONS = {}\n",
    "\n",
    "CLUSTERING_OPTIONS[\"K_MIN\"] = 2\n",
    "CLUSTERING_OPTIONS[\"K_MAX\"] = 60  # sqrt(3749)\n",
    "CLUSTERING_OPTIONS[\"N_REPS_PER_K\"] = 5\n",
    "CLUSTERING_OPTIONS[\"N_INIT\"] = 10\n",
    "CLUSTERING_OPTIONS[\"COVARIANCE_TYPE\"] = \"full\"\n",
    "\n",
    "display(CLUSTERING_OPTIONS)"
   ]
  },
  {
   "cell_type": "code",
   "execution_count": 13,
   "metadata": {
    "execution": {
     "iopub.execute_input": "2021-01-06T09:31:29.507259Z",
     "iopub.status.busy": "2021-01-06T09:31:29.506885Z",
     "iopub.status.idle": "2021-01-06T09:31:29.519871Z",
     "shell.execute_reply": "2021-01-06T09:31:29.519500Z"
    },
    "papermill": {
     "duration": 0.038805,
     "end_time": "2021-01-06T09:31:29.519962",
     "exception": false,
     "start_time": "2021-01-06T09:31:29.481157",
     "status": "completed"
    },
    "tags": []
   },
   "outputs": [],
   "source": [
    "CLUSTERERS = {}\n",
    "\n",
    "idx = 0\n",
    "random_state = INITIAL_RANDOM_STATE\n",
    "\n",
    "for k in range(CLUSTERING_OPTIONS[\"K_MIN\"], CLUSTERING_OPTIONS[\"K_MAX\"] + 1):\n",
    "    for i in range(CLUSTERING_OPTIONS[\"N_REPS_PER_K\"]):\n",
    "        clus = GaussianMixture(\n",
    "            n_components=k,\n",
    "            n_init=CLUSTERING_OPTIONS[\"N_INIT\"],\n",
    "            covariance_type=CLUSTERING_OPTIONS[\"COVARIANCE_TYPE\"],\n",
    "            random_state=random_state,\n",
    "        )\n",
    "\n",
    "        method_name = type(clus).__name__\n",
    "        CLUSTERERS[f\"{method_name} #{idx}\"] = clus\n",
    "\n",
    "        random_state = random_state + 1\n",
    "        idx = idx + 1"
   ]
  },
  {
   "cell_type": "code",
   "execution_count": 14,
   "metadata": {
    "execution": {
     "iopub.execute_input": "2021-01-06T09:31:29.567219Z",
     "iopub.status.busy": "2021-01-06T09:31:29.566860Z",
     "iopub.status.idle": "2021-01-06T09:31:29.579346Z",
     "shell.execute_reply": "2021-01-06T09:31:29.578965Z"
    },
    "papermill": {
     "duration": 0.037006,
     "end_time": "2021-01-06T09:31:29.579439",
     "exception": false,
     "start_time": "2021-01-06T09:31:29.542433",
     "status": "completed"
    },
    "tags": []
   },
   "outputs": [
    {
     "data": {
      "text/plain": [
       "295"
      ]
     },
     "metadata": {},
     "output_type": "display_data"
    }
   ],
   "source": [
    "display(len(CLUSTERERS))"
   ]
  },
  {
   "cell_type": "code",
   "execution_count": 15,
   "metadata": {
    "execution": {
     "iopub.execute_input": "2021-01-06T09:31:29.628914Z",
     "iopub.status.busy": "2021-01-06T09:31:29.628514Z",
     "iopub.status.idle": "2021-01-06T09:31:29.642622Z",
     "shell.execute_reply": "2021-01-06T09:31:29.642905Z"
    },
    "papermill": {
     "duration": 0.039611,
     "end_time": "2021-01-06T09:31:29.643017",
     "exception": false,
     "start_time": "2021-01-06T09:31:29.603406",
     "status": "completed"
    },
    "tags": []
   },
   "outputs": [
    {
     "data": {
      "text/plain": [
       "('GaussianMixture #0',\n",
       " GaussianMixture(n_components=2, n_init=10, random_state=70000))"
      ]
     },
     "metadata": {},
     "output_type": "display_data"
    },
    {
     "data": {
      "text/plain": [
       "('GaussianMixture #1',\n",
       " GaussianMixture(n_components=2, n_init=10, random_state=70001))"
      ]
     },
     "metadata": {},
     "output_type": "display_data"
    }
   ],
   "source": [
    "_iter = iter(CLUSTERERS.items())\n",
    "display(next(_iter))\n",
    "display(next(_iter))"
   ]
  },
  {
   "cell_type": "code",
   "execution_count": 16,
   "metadata": {
    "execution": {
     "iopub.execute_input": "2021-01-06T09:31:29.691717Z",
     "iopub.status.busy": "2021-01-06T09:31:29.691356Z",
     "iopub.status.idle": "2021-01-06T09:31:29.704099Z",
     "shell.execute_reply": "2021-01-06T09:31:29.703542Z"
    },
    "papermill": {
     "duration": 0.03762,
     "end_time": "2021-01-06T09:31:29.704190",
     "exception": false,
     "start_time": "2021-01-06T09:31:29.666570",
     "status": "completed"
    },
    "tags": []
   },
   "outputs": [
    {
     "data": {
      "text/plain": [
       "'GaussianMixture'"
      ]
     },
     "metadata": {},
     "output_type": "display_data"
    }
   ],
   "source": [
    "clustering_method_name = method_name\n",
    "display(clustering_method_name)"
   ]
  },
  {
   "cell_type": "markdown",
   "metadata": {
    "papermill": {
     "duration": 0.02283,
     "end_time": "2021-01-06T09:31:29.750360",
     "exception": false,
     "start_time": "2021-01-06T09:31:29.727530",
     "status": "completed"
    },
    "tags": []
   },
   "source": [
    "## Output directory"
   ]
  },
  {
   "cell_type": "code",
   "execution_count": 17,
   "metadata": {
    "execution": {
     "iopub.execute_input": "2021-01-06T09:31:29.798902Z",
     "iopub.status.busy": "2021-01-06T09:31:29.798532Z",
     "iopub.status.idle": "2021-01-06T09:31:29.811263Z",
     "shell.execute_reply": "2021-01-06T09:31:29.810886Z"
    },
    "papermill": {
     "duration": 0.037892,
     "end_time": "2021-01-06T09:31:29.811352",
     "exception": false,
     "start_time": "2021-01-06T09:31:29.773460",
     "status": "completed"
    },
    "tags": []
   },
   "outputs": [
    {
     "data": {
      "text/plain": [
       "PosixPath('/home/miltondp/projects/labs/greenelab/phenoplier/base3/results/clustering/runs/pca-z_score_std-projection-smultixcan-efo_partial-mashr-zscores')"
      ]
     },
     "metadata": {},
     "output_type": "display_data"
    }
   ],
   "source": [
    "# output dir for this notebook\n",
    "RESULTS_DIR = Path(\n",
    "    conf.RESULTS[\"CLUSTERING_RUNS_DIR\"],\n",
    "    f\"{INPUT_SUBSET}-{INPUT_STEM}\",\n",
    ").resolve()\n",
    "RESULTS_DIR.mkdir(parents=True, exist_ok=True)\n",
    "\n",
    "display(RESULTS_DIR)"
   ]
  },
  {
   "cell_type": "markdown",
   "metadata": {
    "papermill": {
     "duration": 0.023695,
     "end_time": "2021-01-06T09:31:29.859296",
     "exception": false,
     "start_time": "2021-01-06T09:31:29.835601",
     "status": "completed"
    },
    "tags": []
   },
   "source": [
    "# Load input file"
   ]
  },
  {
   "cell_type": "code",
   "execution_count": 18,
   "metadata": {
    "execution": {
     "iopub.execute_input": "2021-01-06T09:31:29.908234Z",
     "iopub.status.busy": "2021-01-06T09:31:29.907867Z",
     "iopub.status.idle": "2021-01-06T09:31:29.921146Z",
     "shell.execute_reply": "2021-01-06T09:31:29.921478Z"
    },
    "papermill": {
     "duration": 0.03891,
     "end_time": "2021-01-06T09:31:29.921593",
     "exception": false,
     "start_time": "2021-01-06T09:31:29.882683",
     "status": "completed"
    },
    "tags": []
   },
   "outputs": [],
   "source": [
    "data = pd.read_pickle(input_filepath)"
   ]
  },
  {
   "cell_type": "code",
   "execution_count": 19,
   "metadata": {
    "execution": {
     "iopub.execute_input": "2021-01-06T09:31:29.971780Z",
     "iopub.status.busy": "2021-01-06T09:31:29.971418Z",
     "iopub.status.idle": "2021-01-06T09:31:29.983929Z",
     "shell.execute_reply": "2021-01-06T09:31:29.983624Z"
    },
    "papermill": {
     "duration": 0.038229,
     "end_time": "2021-01-06T09:31:29.984023",
     "exception": false,
     "start_time": "2021-01-06T09:31:29.945794",
     "status": "completed"
    },
    "tags": []
   },
   "outputs": [
    {
     "data": {
      "text/plain": [
       "(3749, 50)"
      ]
     },
     "execution_count": 19,
     "metadata": {},
     "output_type": "execute_result"
    }
   ],
   "source": [
    "data.shape"
   ]
  },
  {
   "cell_type": "code",
   "execution_count": 20,
   "metadata": {
    "execution": {
     "iopub.execute_input": "2021-01-06T09:31:30.033239Z",
     "iopub.status.busy": "2021-01-06T09:31:30.032873Z",
     "iopub.status.idle": "2021-01-06T09:31:30.057826Z",
     "shell.execute_reply": "2021-01-06T09:31:30.057448Z"
    },
    "papermill": {
     "duration": 0.050481,
     "end_time": "2021-01-06T09:31:30.057918",
     "exception": false,
     "start_time": "2021-01-06T09:31:30.007437",
     "status": "completed"
    },
    "tags": []
   },
   "outputs": [
    {
     "data": {
      "text/html": [
       "<div>\n",
       "<style scoped>\n",
       "    .dataframe tbody tr th:only-of-type {\n",
       "        vertical-align: middle;\n",
       "    }\n",
       "\n",
       "    .dataframe tbody tr th {\n",
       "        vertical-align: top;\n",
       "    }\n",
       "\n",
       "    .dataframe thead th {\n",
       "        text-align: right;\n",
       "    }\n",
       "</style>\n",
       "<table border=\"1\" class=\"dataframe\">\n",
       "  <thead>\n",
       "    <tr style=\"text-align: right;\">\n",
       "      <th></th>\n",
       "      <th>PCA1</th>\n",
       "      <th>PCA2</th>\n",
       "      <th>PCA3</th>\n",
       "      <th>PCA4</th>\n",
       "      <th>PCA5</th>\n",
       "      <th>PCA6</th>\n",
       "      <th>PCA7</th>\n",
       "      <th>PCA8</th>\n",
       "      <th>PCA9</th>\n",
       "      <th>PCA10</th>\n",
       "      <th>...</th>\n",
       "      <th>PCA41</th>\n",
       "      <th>PCA42</th>\n",
       "      <th>PCA43</th>\n",
       "      <th>PCA44</th>\n",
       "      <th>PCA45</th>\n",
       "      <th>PCA46</th>\n",
       "      <th>PCA47</th>\n",
       "      <th>PCA48</th>\n",
       "      <th>PCA49</th>\n",
       "      <th>PCA50</th>\n",
       "    </tr>\n",
       "  </thead>\n",
       "  <tbody>\n",
       "    <tr>\n",
       "      <th>100001_raw-Food_weight</th>\n",
       "      <td>-0.547515</td>\n",
       "      <td>-0.007250</td>\n",
       "      <td>0.245361</td>\n",
       "      <td>0.132424</td>\n",
       "      <td>1.201447</td>\n",
       "      <td>-0.113158</td>\n",
       "      <td>0.048859</td>\n",
       "      <td>1.031679</td>\n",
       "      <td>0.711208</td>\n",
       "      <td>0.126100</td>\n",
       "      <td>...</td>\n",
       "      <td>0.113685</td>\n",
       "      <td>-0.109753</td>\n",
       "      <td>0.178202</td>\n",
       "      <td>-0.487868</td>\n",
       "      <td>1.805920</td>\n",
       "      <td>-0.342611</td>\n",
       "      <td>-0.663712</td>\n",
       "      <td>-1.313987</td>\n",
       "      <td>-1.481707</td>\n",
       "      <td>0.396410</td>\n",
       "    </tr>\n",
       "    <tr>\n",
       "      <th>100002_raw-Energy</th>\n",
       "      <td>-1.570593</td>\n",
       "      <td>-0.618992</td>\n",
       "      <td>-1.223395</td>\n",
       "      <td>1.627321</td>\n",
       "      <td>-0.563860</td>\n",
       "      <td>0.224922</td>\n",
       "      <td>-1.500327</td>\n",
       "      <td>2.045633</td>\n",
       "      <td>-1.665998</td>\n",
       "      <td>-0.180432</td>\n",
       "      <td>...</td>\n",
       "      <td>0.697880</td>\n",
       "      <td>1.412676</td>\n",
       "      <td>2.103988</td>\n",
       "      <td>0.385625</td>\n",
       "      <td>2.386495</td>\n",
       "      <td>-2.939998</td>\n",
       "      <td>-0.978275</td>\n",
       "      <td>-1.893307</td>\n",
       "      <td>-0.259497</td>\n",
       "      <td>0.423264</td>\n",
       "    </tr>\n",
       "    <tr>\n",
       "      <th>100003_raw-Protein</th>\n",
       "      <td>-0.601212</td>\n",
       "      <td>-0.948824</td>\n",
       "      <td>-1.022209</td>\n",
       "      <td>2.438433</td>\n",
       "      <td>-2.062235</td>\n",
       "      <td>0.356202</td>\n",
       "      <td>-1.538038</td>\n",
       "      <td>2.314675</td>\n",
       "      <td>-1.108991</td>\n",
       "      <td>0.318034</td>\n",
       "      <td>...</td>\n",
       "      <td>0.171992</td>\n",
       "      <td>1.351979</td>\n",
       "      <td>0.054404</td>\n",
       "      <td>-0.725132</td>\n",
       "      <td>2.226520</td>\n",
       "      <td>-3.481674</td>\n",
       "      <td>-0.445294</td>\n",
       "      <td>-0.477452</td>\n",
       "      <td>0.237157</td>\n",
       "      <td>1.440867</td>\n",
       "    </tr>\n",
       "    <tr>\n",
       "      <th>100004_raw-Fat</th>\n",
       "      <td>-1.648214</td>\n",
       "      <td>-0.342042</td>\n",
       "      <td>-0.270189</td>\n",
       "      <td>1.683268</td>\n",
       "      <td>-1.222401</td>\n",
       "      <td>0.018349</td>\n",
       "      <td>-0.032824</td>\n",
       "      <td>1.671161</td>\n",
       "      <td>-0.908965</td>\n",
       "      <td>0.224100</td>\n",
       "      <td>...</td>\n",
       "      <td>-0.358812</td>\n",
       "      <td>0.696836</td>\n",
       "      <td>1.072624</td>\n",
       "      <td>0.627951</td>\n",
       "      <td>1.802000</td>\n",
       "      <td>0.174704</td>\n",
       "      <td>0.826319</td>\n",
       "      <td>-0.826992</td>\n",
       "      <td>0.596113</td>\n",
       "      <td>0.620050</td>\n",
       "    </tr>\n",
       "    <tr>\n",
       "      <th>100005_raw-Carbohydrate</th>\n",
       "      <td>-1.867586</td>\n",
       "      <td>-0.006412</td>\n",
       "      <td>-0.303220</td>\n",
       "      <td>0.770958</td>\n",
       "      <td>-0.116822</td>\n",
       "      <td>0.460946</td>\n",
       "      <td>-2.407732</td>\n",
       "      <td>1.534273</td>\n",
       "      <td>-1.930577</td>\n",
       "      <td>0.064621</td>\n",
       "      <td>...</td>\n",
       "      <td>1.332852</td>\n",
       "      <td>1.978032</td>\n",
       "      <td>2.158456</td>\n",
       "      <td>0.831123</td>\n",
       "      <td>1.093202</td>\n",
       "      <td>-3.539033</td>\n",
       "      <td>-0.831862</td>\n",
       "      <td>-0.842298</td>\n",
       "      <td>-0.723072</td>\n",
       "      <td>0.359438</td>\n",
       "    </tr>\n",
       "  </tbody>\n",
       "</table>\n",
       "<p>5 rows × 50 columns</p>\n",
       "</div>"
      ],
      "text/plain": [
       "                             PCA1      PCA2      PCA3      PCA4      PCA5  \\\n",
       "100001_raw-Food_weight  -0.547515 -0.007250  0.245361  0.132424  1.201447   \n",
       "100002_raw-Energy       -1.570593 -0.618992 -1.223395  1.627321 -0.563860   \n",
       "100003_raw-Protein      -0.601212 -0.948824 -1.022209  2.438433 -2.062235   \n",
       "100004_raw-Fat          -1.648214 -0.342042 -0.270189  1.683268 -1.222401   \n",
       "100005_raw-Carbohydrate -1.867586 -0.006412 -0.303220  0.770958 -0.116822   \n",
       "\n",
       "                             PCA6      PCA7      PCA8      PCA9     PCA10  \\\n",
       "100001_raw-Food_weight  -0.113158  0.048859  1.031679  0.711208  0.126100   \n",
       "100002_raw-Energy        0.224922 -1.500327  2.045633 -1.665998 -0.180432   \n",
       "100003_raw-Protein       0.356202 -1.538038  2.314675 -1.108991  0.318034   \n",
       "100004_raw-Fat           0.018349 -0.032824  1.671161 -0.908965  0.224100   \n",
       "100005_raw-Carbohydrate  0.460946 -2.407732  1.534273 -1.930577  0.064621   \n",
       "\n",
       "                         ...     PCA41     PCA42     PCA43     PCA44  \\\n",
       "100001_raw-Food_weight   ...  0.113685 -0.109753  0.178202 -0.487868   \n",
       "100002_raw-Energy        ...  0.697880  1.412676  2.103988  0.385625   \n",
       "100003_raw-Protein       ...  0.171992  1.351979  0.054404 -0.725132   \n",
       "100004_raw-Fat           ... -0.358812  0.696836  1.072624  0.627951   \n",
       "100005_raw-Carbohydrate  ...  1.332852  1.978032  2.158456  0.831123   \n",
       "\n",
       "                            PCA45     PCA46     PCA47     PCA48     PCA49  \\\n",
       "100001_raw-Food_weight   1.805920 -0.342611 -0.663712 -1.313987 -1.481707   \n",
       "100002_raw-Energy        2.386495 -2.939998 -0.978275 -1.893307 -0.259497   \n",
       "100003_raw-Protein       2.226520 -3.481674 -0.445294 -0.477452  0.237157   \n",
       "100004_raw-Fat           1.802000  0.174704  0.826319 -0.826992  0.596113   \n",
       "100005_raw-Carbohydrate  1.093202 -3.539033 -0.831862 -0.842298 -0.723072   \n",
       "\n",
       "                            PCA50  \n",
       "100001_raw-Food_weight   0.396410  \n",
       "100002_raw-Energy        0.423264  \n",
       "100003_raw-Protein       1.440867  \n",
       "100004_raw-Fat           0.620050  \n",
       "100005_raw-Carbohydrate  0.359438  \n",
       "\n",
       "[5 rows x 50 columns]"
      ]
     },
     "execution_count": 20,
     "metadata": {},
     "output_type": "execute_result"
    }
   ],
   "source": [
    "data.head()"
   ]
  },
  {
   "cell_type": "code",
   "execution_count": 21,
   "metadata": {
    "execution": {
     "iopub.execute_input": "2021-01-06T09:31:30.109250Z",
     "iopub.status.busy": "2021-01-06T09:31:30.108871Z",
     "iopub.status.idle": "2021-01-06T09:31:30.121399Z",
     "shell.execute_reply": "2021-01-06T09:31:30.121682Z"
    },
    "papermill": {
     "duration": 0.038975,
     "end_time": "2021-01-06T09:31:30.121798",
     "exception": false,
     "start_time": "2021-01-06T09:31:30.082823",
     "status": "completed"
    },
    "tags": []
   },
   "outputs": [],
   "source": [
    "assert not data.isna().any().any()"
   ]
  },
  {
   "cell_type": "markdown",
   "metadata": {
    "papermill": {
     "duration": 0.023451,
     "end_time": "2021-01-06T09:31:30.169787",
     "exception": false,
     "start_time": "2021-01-06T09:31:30.146336",
     "status": "completed"
    },
    "tags": []
   },
   "source": [
    "# Clustering"
   ]
  },
  {
   "cell_type": "markdown",
   "metadata": {
    "papermill": {
     "duration": 0.023252,
     "end_time": "2021-01-06T09:31:30.216372",
     "exception": false,
     "start_time": "2021-01-06T09:31:30.193120",
     "status": "completed"
    },
    "tags": []
   },
   "source": [
    "## Generate ensemble"
   ]
  },
  {
   "cell_type": "code",
   "execution_count": 22,
   "metadata": {
    "execution": {
     "iopub.execute_input": "2021-01-06T09:31:30.266224Z",
     "iopub.status.busy": "2021-01-06T09:31:30.265852Z",
     "iopub.status.idle": "2021-01-06T09:31:30.279948Z",
     "shell.execute_reply": "2021-01-06T09:31:30.280231Z"
    },
    "papermill": {
     "duration": 0.040136,
     "end_time": "2021-01-06T09:31:30.280344",
     "exception": false,
     "start_time": "2021-01-06T09:31:30.240208",
     "status": "completed"
    },
    "tags": []
   },
   "outputs": [],
   "source": [
    "from clustering.ensemble import generate_ensemble"
   ]
  },
  {
   "cell_type": "code",
   "execution_count": 23,
   "metadata": {
    "execution": {
     "iopub.execute_input": "2021-01-06T09:31:30.333282Z",
     "iopub.status.busy": "2021-01-06T09:31:30.332903Z",
     "iopub.status.idle": "2021-01-06T12:27:43.877510Z",
     "shell.execute_reply": "2021-01-06T12:27:43.876658Z"
    },
    "papermill": {
     "duration": 10573.57241,
     "end_time": "2021-01-06T12:27:43.877596",
     "exception": false,
     "start_time": "2021-01-06T09:31:30.305186",
     "status": "completed"
    },
    "tags": []
   },
   "outputs": [
    {
     "name": "stderr",
     "output_type": "stream",
     "text": [
      "100%|██████████| 295/295 [2:56:13<00:00, 35.84s/it]  \n"
     ]
    }
   ],
   "source": [
    "ensemble = generate_ensemble(\n",
    "    data,\n",
    "    CLUSTERERS,\n",
    "    attributes=CLUSTERING_ATTRIBUTES_TO_SAVE,\n",
    ")"
   ]
  },
  {
   "cell_type": "code",
   "execution_count": 24,
   "metadata": {
    "execution": {
     "iopub.execute_input": "2021-01-06T12:27:44.021769Z",
     "iopub.status.busy": "2021-01-06T12:27:44.021392Z",
     "iopub.status.idle": "2021-01-06T12:27:44.034504Z",
     "shell.execute_reply": "2021-01-06T12:27:44.034128Z"
    },
    "papermill": {
     "duration": 0.086559,
     "end_time": "2021-01-06T12:27:44.034594",
     "exception": false,
     "start_time": "2021-01-06T12:27:43.948035",
     "status": "completed"
    },
    "tags": []
   },
   "outputs": [
    {
     "data": {
      "text/plain": [
       "(295, 3)"
      ]
     },
     "execution_count": 24,
     "metadata": {},
     "output_type": "execute_result"
    }
   ],
   "source": [
    "# the number should be close to 295 (the number of partitions generated by k-means/spectral clustering)\n",
    "ensemble.shape"
   ]
  },
  {
   "cell_type": "code",
   "execution_count": 25,
   "metadata": {
    "execution": {
     "iopub.execute_input": "2021-01-06T12:27:44.178774Z",
     "iopub.status.busy": "2021-01-06T12:27:44.178410Z",
     "iopub.status.idle": "2021-01-06T12:27:44.198467Z",
     "shell.execute_reply": "2021-01-06T12:27:44.198091Z"
    },
    "papermill": {
     "duration": 0.092459,
     "end_time": "2021-01-06T12:27:44.198555",
     "exception": false,
     "start_time": "2021-01-06T12:27:44.106096",
     "status": "completed"
    },
    "tags": []
   },
   "outputs": [
    {
     "data": {
      "text/html": [
       "<div>\n",
       "<style scoped>\n",
       "    .dataframe tbody tr th:only-of-type {\n",
       "        vertical-align: middle;\n",
       "    }\n",
       "\n",
       "    .dataframe tbody tr th {\n",
       "        vertical-align: top;\n",
       "    }\n",
       "\n",
       "    .dataframe thead th {\n",
       "        text-align: right;\n",
       "    }\n",
       "</style>\n",
       "<table border=\"1\" class=\"dataframe\">\n",
       "  <thead>\n",
       "    <tr style=\"text-align: right;\">\n",
       "      <th></th>\n",
       "      <th>clusterer_params</th>\n",
       "      <th>partition</th>\n",
       "      <th>n_clusters</th>\n",
       "    </tr>\n",
       "    <tr>\n",
       "      <th>clusterer_id</th>\n",
       "      <th></th>\n",
       "      <th></th>\n",
       "      <th></th>\n",
       "    </tr>\n",
       "  </thead>\n",
       "  <tbody>\n",
       "    <tr>\n",
       "      <th>GaussianMixture #0</th>\n",
       "      <td>{'covariance_type': 'full', 'init_params': 'km...</td>\n",
       "      <td>[0.0, 0.0, 0.0, 0.0, 0.0, 0.0, 0.0, 0.0, 0.0, ...</td>\n",
       "      <td>2</td>\n",
       "    </tr>\n",
       "    <tr>\n",
       "      <th>GaussianMixture #1</th>\n",
       "      <td>{'covariance_type': 'full', 'init_params': 'km...</td>\n",
       "      <td>[0.0, 0.0, 0.0, 0.0, 0.0, 0.0, 0.0, 0.0, 0.0, ...</td>\n",
       "      <td>2</td>\n",
       "    </tr>\n",
       "    <tr>\n",
       "      <th>GaussianMixture #2</th>\n",
       "      <td>{'covariance_type': 'full', 'init_params': 'km...</td>\n",
       "      <td>[1.0, 1.0, 1.0, 1.0, 1.0, 1.0, 1.0, 1.0, 1.0, ...</td>\n",
       "      <td>2</td>\n",
       "    </tr>\n",
       "    <tr>\n",
       "      <th>GaussianMixture #3</th>\n",
       "      <td>{'covariance_type': 'full', 'init_params': 'km...</td>\n",
       "      <td>[0.0, 0.0, 0.0, 0.0, 0.0, 0.0, 0.0, 0.0, 0.0, ...</td>\n",
       "      <td>2</td>\n",
       "    </tr>\n",
       "    <tr>\n",
       "      <th>GaussianMixture #4</th>\n",
       "      <td>{'covariance_type': 'full', 'init_params': 'km...</td>\n",
       "      <td>[1.0, 1.0, 1.0, 1.0, 1.0, 1.0, 1.0, 1.0, 1.0, ...</td>\n",
       "      <td>2</td>\n",
       "    </tr>\n",
       "  </tbody>\n",
       "</table>\n",
       "</div>"
      ],
      "text/plain": [
       "                                                     clusterer_params  \\\n",
       "clusterer_id                                                            \n",
       "GaussianMixture #0  {'covariance_type': 'full', 'init_params': 'km...   \n",
       "GaussianMixture #1  {'covariance_type': 'full', 'init_params': 'km...   \n",
       "GaussianMixture #2  {'covariance_type': 'full', 'init_params': 'km...   \n",
       "GaussianMixture #3  {'covariance_type': 'full', 'init_params': 'km...   \n",
       "GaussianMixture #4  {'covariance_type': 'full', 'init_params': 'km...   \n",
       "\n",
       "                                                            partition  \\\n",
       "clusterer_id                                                            \n",
       "GaussianMixture #0  [0.0, 0.0, 0.0, 0.0, 0.0, 0.0, 0.0, 0.0, 0.0, ...   \n",
       "GaussianMixture #1  [0.0, 0.0, 0.0, 0.0, 0.0, 0.0, 0.0, 0.0, 0.0, ...   \n",
       "GaussianMixture #2  [1.0, 1.0, 1.0, 1.0, 1.0, 1.0, 1.0, 1.0, 1.0, ...   \n",
       "GaussianMixture #3  [0.0, 0.0, 0.0, 0.0, 0.0, 0.0, 0.0, 0.0, 0.0, ...   \n",
       "GaussianMixture #4  [1.0, 1.0, 1.0, 1.0, 1.0, 1.0, 1.0, 1.0, 1.0, ...   \n",
       "\n",
       "                    n_clusters  \n",
       "clusterer_id                    \n",
       "GaussianMixture #0           2  \n",
       "GaussianMixture #1           2  \n",
       "GaussianMixture #2           2  \n",
       "GaussianMixture #3           2  \n",
       "GaussianMixture #4           2  "
      ]
     },
     "execution_count": 25,
     "metadata": {},
     "output_type": "execute_result"
    }
   ],
   "source": [
    "ensemble.head()"
   ]
  },
  {
   "cell_type": "code",
   "execution_count": 26,
   "metadata": {
    "execution": {
     "iopub.execute_input": "2021-01-06T12:27:44.343982Z",
     "iopub.status.busy": "2021-01-06T12:27:44.343613Z",
     "iopub.status.idle": "2021-01-06T12:27:44.357484Z",
     "shell.execute_reply": "2021-01-06T12:27:44.357093Z"
    },
    "papermill": {
     "duration": 0.087183,
     "end_time": "2021-01-06T12:27:44.357575",
     "exception": false,
     "start_time": "2021-01-06T12:27:44.270392",
     "status": "completed"
    },
    "tags": []
   },
   "outputs": [
    {
     "data": {
      "text/plain": [
       "60    5\n",
       "16    5\n",
       "28    5\n",
       "27    5\n",
       "26    5\n",
       "Name: n_clusters, dtype: int64"
      ]
     },
     "execution_count": 26,
     "metadata": {},
     "output_type": "execute_result"
    }
   ],
   "source": [
    "ensemble[\"n_clusters\"].value_counts().head()"
   ]
  },
  {
   "cell_type": "code",
   "execution_count": 27,
   "metadata": {
    "execution": {
     "iopub.execute_input": "2021-01-06T12:27:44.503139Z",
     "iopub.status.busy": "2021-01-06T12:27:44.502771Z",
     "iopub.status.idle": "2021-01-06T12:27:44.517715Z",
     "shell.execute_reply": "2021-01-06T12:27:44.517334Z"
    },
    "papermill": {
     "duration": 0.088407,
     "end_time": "2021-01-06T12:27:44.517805",
     "exception": false,
     "start_time": "2021-01-06T12:27:44.429398",
     "status": "completed"
    },
    "tags": []
   },
   "outputs": [
    {
     "data": {
      "text/plain": [
       "count    295.000000\n",
       "mean      31.000000\n",
       "std       17.058323\n",
       "min        2.000000\n",
       "25%       16.000000\n",
       "50%       31.000000\n",
       "75%       46.000000\n",
       "max       60.000000\n",
       "Name: n_clusters, dtype: float64"
      ]
     },
     "metadata": {},
     "output_type": "display_data"
    }
   ],
   "source": [
    "ensemble_stats = ensemble[\"n_clusters\"].describe()\n",
    "display(ensemble_stats)"
   ]
  },
  {
   "cell_type": "markdown",
   "metadata": {
    "papermill": {
     "duration": 0.071606,
     "end_time": "2021-01-06T12:27:44.660802",
     "exception": false,
     "start_time": "2021-01-06T12:27:44.589196",
     "status": "completed"
    },
    "tags": []
   },
   "source": [
    "## Testing"
   ]
  },
  {
   "cell_type": "code",
   "execution_count": 28,
   "metadata": {
    "execution": {
     "iopub.execute_input": "2021-01-06T12:27:44.809477Z",
     "iopub.status.busy": "2021-01-06T12:27:44.809094Z",
     "iopub.status.idle": "2021-01-06T12:27:44.820948Z",
     "shell.execute_reply": "2021-01-06T12:27:44.820528Z"
    },
    "papermill": {
     "duration": 0.089032,
     "end_time": "2021-01-06T12:27:44.821040",
     "exception": false,
     "start_time": "2021-01-06T12:27:44.732008",
     "status": "completed"
    },
    "tags": []
   },
   "outputs": [],
   "source": [
    "assert ensemble_stats[\"min\"] > 1"
   ]
  },
  {
   "cell_type": "code",
   "execution_count": 29,
   "metadata": {
    "execution": {
     "iopub.execute_input": "2021-01-06T12:27:44.966849Z",
     "iopub.status.busy": "2021-01-06T12:27:44.966479Z",
     "iopub.status.idle": "2021-01-06T12:27:44.978778Z",
     "shell.execute_reply": "2021-01-06T12:27:44.978412Z"
    },
    "papermill": {
     "duration": 0.085613,
     "end_time": "2021-01-06T12:27:44.978865",
     "exception": false,
     "start_time": "2021-01-06T12:27:44.893252",
     "status": "completed"
    },
    "tags": []
   },
   "outputs": [],
   "source": [
    "assert not ensemble[\"n_clusters\"].isna().any()"
   ]
  },
  {
   "cell_type": "code",
   "execution_count": 30,
   "metadata": {
    "execution": {
     "iopub.execute_input": "2021-01-06T12:27:45.125281Z",
     "iopub.status.busy": "2021-01-06T12:27:45.124913Z",
     "iopub.status.idle": "2021-01-06T12:27:45.136673Z",
     "shell.execute_reply": "2021-01-06T12:27:45.136289Z"
    },
    "papermill": {
     "duration": 0.086459,
     "end_time": "2021-01-06T12:27:45.136773",
     "exception": false,
     "start_time": "2021-01-06T12:27:45.050314",
     "status": "completed"
    },
    "tags": []
   },
   "outputs": [],
   "source": [
    "assert ensemble.shape[0] == len(CLUSTERERS)"
   ]
  },
  {
   "cell_type": "code",
   "execution_count": 31,
   "metadata": {
    "execution": {
     "iopub.execute_input": "2021-01-06T12:27:45.283583Z",
     "iopub.status.busy": "2021-01-06T12:27:45.283215Z",
     "iopub.status.idle": "2021-01-06T12:27:45.312616Z",
     "shell.execute_reply": "2021-01-06T12:27:45.312228Z"
    },
    "papermill": {
     "duration": 0.103422,
     "end_time": "2021-01-06T12:27:45.312728",
     "exception": false,
     "start_time": "2021-01-06T12:27:45.209306",
     "status": "completed"
    },
    "tags": []
   },
   "outputs": [],
   "source": [
    "# all partitions have the right size\n",
    "assert np.all(\n",
    "    [part[\"partition\"].shape[0] == data.shape[0] for idx, part in ensemble.iterrows()]\n",
    ")"
   ]
  },
  {
   "cell_type": "code",
   "execution_count": 32,
   "metadata": {
    "execution": {
     "iopub.execute_input": "2021-01-06T12:27:45.458361Z",
     "iopub.status.busy": "2021-01-06T12:27:45.457992Z",
     "iopub.status.idle": "2021-01-06T12:27:45.490454Z",
     "shell.execute_reply": "2021-01-06T12:27:45.490061Z"
    },
    "papermill": {
     "duration": 0.106217,
     "end_time": "2021-01-06T12:27:45.490544",
     "exception": false,
     "start_time": "2021-01-06T12:27:45.384327",
     "status": "completed"
    },
    "tags": []
   },
   "outputs": [],
   "source": [
    "# no partition has negative clusters (noisy points)\n",
    "assert not np.any([(part[\"partition\"] < 0).any() for idx, part in ensemble.iterrows()])"
   ]
  },
  {
   "cell_type": "markdown",
   "metadata": {
    "papermill": {
     "duration": 0.071915,
     "end_time": "2021-01-06T12:27:45.635422",
     "exception": false,
     "start_time": "2021-01-06T12:27:45.563507",
     "status": "completed"
    },
    "tags": []
   },
   "source": [
    "## Save"
   ]
  },
  {
   "cell_type": "code",
   "execution_count": 33,
   "metadata": {
    "execution": {
     "iopub.execute_input": "2021-01-06T12:27:45.783319Z",
     "iopub.status.busy": "2021-01-06T12:27:45.782951Z",
     "iopub.status.idle": "2021-01-06T12:27:45.795969Z",
     "shell.execute_reply": "2021-01-06T12:27:45.795569Z"
    },
    "papermill": {
     "duration": 0.0894,
     "end_time": "2021-01-06T12:27:45.796065",
     "exception": false,
     "start_time": "2021-01-06T12:27:45.706665",
     "status": "completed"
    },
    "tags": []
   },
   "outputs": [
    {
     "data": {
      "text/plain": [
       "PosixPath('/home/miltondp/projects/labs/greenelab/phenoplier/base3/results/clustering/runs/pca-z_score_std-projection-smultixcan-efo_partial-mashr-zscores/GaussianMixture-COVARIANCE_TYPE_full-K_MAX_60-K_MIN_2-N_INIT_10-N_REPS_PER_K_5.pkl')"
      ]
     },
     "metadata": {},
     "output_type": "display_data"
    }
   ],
   "source": [
    "output_filename = Path(\n",
    "    RESULTS_DIR,\n",
    "    generate_result_set_name(\n",
    "        CLUSTERING_OPTIONS,\n",
    "        prefix=f\"{clustering_method_name}-\",\n",
    "        suffix=\".pkl\",\n",
    "    ),\n",
    ").resolve()\n",
    "display(output_filename)"
   ]
  },
  {
   "cell_type": "code",
   "execution_count": 34,
   "metadata": {
    "execution": {
     "iopub.execute_input": "2021-01-06T12:27:45.943666Z",
     "iopub.status.busy": "2021-01-06T12:27:45.943302Z",
     "iopub.status.idle": "2021-01-06T12:27:45.966253Z",
     "shell.execute_reply": "2021-01-06T12:27:45.966555Z"
    },
    "papermill": {
     "duration": 0.096736,
     "end_time": "2021-01-06T12:27:45.966675",
     "exception": false,
     "start_time": "2021-01-06T12:27:45.869939",
     "status": "completed"
    },
    "tags": []
   },
   "outputs": [],
   "source": [
    "ensemble.to_pickle(output_filename)"
   ]
  },
  {
   "cell_type": "markdown",
   "metadata": {
    "papermill": {
     "duration": 0.073241,
     "end_time": "2021-01-06T12:27:46.112296",
     "exception": false,
     "start_time": "2021-01-06T12:27:46.039055",
     "status": "completed"
    },
    "tags": []
   },
   "source": [
    "# Stability"
   ]
  },
  {
   "cell_type": "markdown",
   "metadata": {
    "papermill": {
     "duration": 0.072467,
     "end_time": "2021-01-06T12:27:46.255757",
     "exception": false,
     "start_time": "2021-01-06T12:27:46.183290",
     "status": "completed"
    },
    "tags": []
   },
   "source": [
    "## Group ensemble by n_clusters"
   ]
  },
  {
   "cell_type": "code",
   "execution_count": 35,
   "metadata": {
    "execution": {
     "iopub.execute_input": "2021-01-06T12:27:46.401427Z",
     "iopub.status.busy": "2021-01-06T12:27:46.401061Z",
     "iopub.status.idle": "2021-01-06T12:27:46.427122Z",
     "shell.execute_reply": "2021-01-06T12:27:46.426732Z"
    },
    "papermill": {
     "duration": 0.099882,
     "end_time": "2021-01-06T12:27:46.427215",
     "exception": false,
     "start_time": "2021-01-06T12:27:46.327333",
     "status": "completed"
    },
    "tags": []
   },
   "outputs": [],
   "source": [
    "parts = ensemble.groupby(\"n_clusters\").apply(\n",
    "    lambda x: np.concatenate(x[\"partition\"].apply(lambda x: x.reshape(1, -1)), axis=0)\n",
    ")"
   ]
  },
  {
   "cell_type": "code",
   "execution_count": 36,
   "metadata": {
    "execution": {
     "iopub.execute_input": "2021-01-06T12:27:46.574012Z",
     "iopub.status.busy": "2021-01-06T12:27:46.573638Z",
     "iopub.status.idle": "2021-01-06T12:27:46.597817Z",
     "shell.execute_reply": "2021-01-06T12:27:46.597439Z"
    },
    "papermill": {
     "duration": 0.098294,
     "end_time": "2021-01-06T12:27:46.597906",
     "exception": false,
     "start_time": "2021-01-06T12:27:46.499612",
     "status": "completed"
    },
    "tags": []
   },
   "outputs": [
    {
     "data": {
      "text/plain": [
       "n_clusters\n",
       "2    [[0.0, 0.0, 0.0, 0.0, 0.0, 0.0, 0.0, 0.0, 0.0,...\n",
       "3    [[1.0, 1.0, 1.0, 1.0, 1.0, 1.0, 1.0, 1.0, 1.0,...\n",
       "4    [[0.0, 0.0, 0.0, 0.0, 0.0, 0.0, 0.0, 0.0, 0.0,...\n",
       "5    [[4.0, 4.0, 4.0, 4.0, 4.0, 4.0, 4.0, 4.0, 4.0,...\n",
       "6    [[0.0, 0.0, 0.0, 0.0, 0.0, 0.0, 0.0, 0.0, 0.0,...\n",
       "dtype: object"
      ]
     },
     "execution_count": 36,
     "metadata": {},
     "output_type": "execute_result"
    }
   ],
   "source": [
    "parts.head()"
   ]
  },
  {
   "cell_type": "code",
   "execution_count": 37,
   "metadata": {
    "execution": {
     "iopub.execute_input": "2021-01-06T12:27:46.743901Z",
     "iopub.status.busy": "2021-01-06T12:27:46.743516Z",
     "iopub.status.idle": "2021-01-06T12:27:46.756341Z",
     "shell.execute_reply": "2021-01-06T12:27:46.755902Z"
    },
    "papermill": {
     "duration": 0.086397,
     "end_time": "2021-01-06T12:27:46.756464",
     "exception": false,
     "start_time": "2021-01-06T12:27:46.670067",
     "status": "completed"
    },
    "tags": []
   },
   "outputs": [],
   "source": [
    "assert np.all(\n",
    "    [\n",
    "        parts.loc[k].shape == (CLUSTERING_OPTIONS[\"N_REPS_PER_K\"], data.shape[0])\n",
    "        for k in parts.index\n",
    "    ]\n",
    ")"
   ]
  },
  {
   "cell_type": "markdown",
   "metadata": {
    "papermill": {
     "duration": 0.071515,
     "end_time": "2021-01-06T12:27:46.902112",
     "exception": false,
     "start_time": "2021-01-06T12:27:46.830597",
     "status": "completed"
    },
    "tags": []
   },
   "source": [
    "## Compute stability"
   ]
  },
  {
   "cell_type": "code",
   "execution_count": 38,
   "metadata": {
    "execution": {
     "iopub.execute_input": "2021-01-06T12:27:47.047153Z",
     "iopub.status.busy": "2021-01-06T12:27:47.046776Z",
     "iopub.status.idle": "2021-01-06T12:27:47.058977Z",
     "shell.execute_reply": "2021-01-06T12:27:47.058595Z"
    },
    "papermill": {
     "duration": 0.084929,
     "end_time": "2021-01-06T12:27:47.059067",
     "exception": false,
     "start_time": "2021-01-06T12:27:46.974138",
     "status": "completed"
    },
    "tags": []
   },
   "outputs": [],
   "source": [
    "from sklearn.metrics import adjusted_rand_score as ari\n",
    "from scipy.spatial.distance import squareform, pdist"
   ]
  },
  {
   "cell_type": "code",
   "execution_count": 39,
   "metadata": {
    "execution": {
     "iopub.execute_input": "2021-01-06T12:27:47.205638Z",
     "iopub.status.busy": "2021-01-06T12:27:47.205259Z",
     "iopub.status.idle": "2021-01-06T12:27:47.840441Z",
     "shell.execute_reply": "2021-01-06T12:27:47.840048Z"
    },
    "papermill": {
     "duration": 0.709435,
     "end_time": "2021-01-06T12:27:47.840534",
     "exception": false,
     "start_time": "2021-01-06T12:27:47.131099",
     "status": "completed"
    },
    "tags": []
   },
   "outputs": [],
   "source": [
    "parts_ari = pd.Series(\n",
    "    {k: pdist(parts.loc[k], metric=ari) for k in parts.index}, name=\"k\"\n",
    ")"
   ]
  },
  {
   "cell_type": "code",
   "execution_count": 40,
   "metadata": {
    "execution": {
     "iopub.execute_input": "2021-01-06T12:27:47.986359Z",
     "iopub.status.busy": "2021-01-06T12:27:47.985994Z",
     "iopub.status.idle": "2021-01-06T12:27:48.000224Z",
     "shell.execute_reply": "2021-01-06T12:27:47.999846Z"
    },
    "papermill": {
     "duration": 0.088306,
     "end_time": "2021-01-06T12:27:48.000313",
     "exception": false,
     "start_time": "2021-01-06T12:27:47.912007",
     "status": "completed"
    },
    "tags": []
   },
   "outputs": [
    {
     "data": {
      "text/plain": [
       "2     1.000000\n",
       "4     0.994182\n",
       "5     0.992584\n",
       "7     0.944322\n",
       "10    0.937556\n",
       "6     0.922867\n",
       "8     0.911643\n",
       "3     0.855784\n",
       "11    0.830593\n",
       "9     0.798840\n",
       "12    0.771361\n",
       "13    0.683191\n",
       "17    0.626926\n",
       "15    0.623425\n",
       "14    0.580949\n",
       "Name: k, dtype: float64"
      ]
     },
     "metadata": {},
     "output_type": "display_data"
    }
   ],
   "source": [
    "parts_ari_stability = parts_ari.apply(lambda x: x.mean())\n",
    "display(parts_ari_stability.sort_values(ascending=False).head(15))"
   ]
  },
  {
   "cell_type": "code",
   "execution_count": 41,
   "metadata": {
    "execution": {
     "iopub.execute_input": "2021-01-06T12:27:48.148473Z",
     "iopub.status.busy": "2021-01-06T12:27:48.148107Z",
     "iopub.status.idle": "2021-01-06T12:27:48.161205Z",
     "shell.execute_reply": "2021-01-06T12:27:48.160846Z"
    },
    "papermill": {
     "duration": 0.08858,
     "end_time": "2021-01-06T12:27:48.161297",
     "exception": false,
     "start_time": "2021-01-06T12:27:48.072717",
     "status": "completed"
    },
    "tags": []
   },
   "outputs": [],
   "source": [
    "parts_ari_df = pd.DataFrame.from_records(parts_ari.tolist()).set_index(\n",
    "    parts_ari.index.copy()\n",
    ")"
   ]
  },
  {
   "cell_type": "code",
   "execution_count": 42,
   "metadata": {
    "execution": {
     "iopub.execute_input": "2021-01-06T12:27:48.309355Z",
     "iopub.status.busy": "2021-01-06T12:27:48.308977Z",
     "iopub.status.idle": "2021-01-06T12:27:48.321193Z",
     "shell.execute_reply": "2021-01-06T12:27:48.321498Z"
    },
    "papermill": {
     "duration": 0.087636,
     "end_time": "2021-01-06T12:27:48.321609",
     "exception": false,
     "start_time": "2021-01-06T12:27:48.233973",
     "status": "completed"
    },
    "tags": []
   },
   "outputs": [
    {
     "data": {
      "text/plain": [
       "(59, 10)"
      ]
     },
     "execution_count": 42,
     "metadata": {},
     "output_type": "execute_result"
    }
   ],
   "source": [
    "parts_ari_df.shape"
   ]
  },
  {
   "cell_type": "code",
   "execution_count": 43,
   "metadata": {
    "execution": {
     "iopub.execute_input": "2021-01-06T12:27:48.468324Z",
     "iopub.status.busy": "2021-01-06T12:27:48.467960Z",
     "iopub.status.idle": "2021-01-06T12:27:48.479877Z",
     "shell.execute_reply": "2021-01-06T12:27:48.479498Z"
    },
    "papermill": {
     "duration": 0.086225,
     "end_time": "2021-01-06T12:27:48.479966",
     "exception": false,
     "start_time": "2021-01-06T12:27:48.393741",
     "status": "completed"
    },
    "tags": []
   },
   "outputs": [],
   "source": [
    "assert (\n",
    "    int(\n",
    "        (CLUSTERING_OPTIONS[\"N_REPS_PER_K\"] * (CLUSTERING_OPTIONS[\"N_REPS_PER_K\"] - 1))\n",
    "        / 2\n",
    "    )\n",
    "    == parts_ari_df.shape[1]\n",
    ")"
   ]
  },
  {
   "cell_type": "code",
   "execution_count": 44,
   "metadata": {
    "execution": {
     "iopub.execute_input": "2021-01-06T12:27:48.627752Z",
     "iopub.status.busy": "2021-01-06T12:27:48.627377Z",
     "iopub.status.idle": "2021-01-06T12:27:48.645188Z",
     "shell.execute_reply": "2021-01-06T12:27:48.645488Z"
    },
    "papermill": {
     "duration": 0.092455,
     "end_time": "2021-01-06T12:27:48.645599",
     "exception": false,
     "start_time": "2021-01-06T12:27:48.553144",
     "status": "completed"
    },
    "tags": []
   },
   "outputs": [
    {
     "data": {
      "text/html": [
       "<div>\n",
       "<style scoped>\n",
       "    .dataframe tbody tr th:only-of-type {\n",
       "        vertical-align: middle;\n",
       "    }\n",
       "\n",
       "    .dataframe tbody tr th {\n",
       "        vertical-align: top;\n",
       "    }\n",
       "\n",
       "    .dataframe thead th {\n",
       "        text-align: right;\n",
       "    }\n",
       "</style>\n",
       "<table border=\"1\" class=\"dataframe\">\n",
       "  <thead>\n",
       "    <tr style=\"text-align: right;\">\n",
       "      <th></th>\n",
       "      <th>0</th>\n",
       "      <th>1</th>\n",
       "      <th>2</th>\n",
       "      <th>3</th>\n",
       "      <th>4</th>\n",
       "      <th>5</th>\n",
       "      <th>6</th>\n",
       "      <th>7</th>\n",
       "      <th>8</th>\n",
       "      <th>9</th>\n",
       "    </tr>\n",
       "  </thead>\n",
       "  <tbody>\n",
       "    <tr>\n",
       "      <th>2</th>\n",
       "      <td>1.000000</td>\n",
       "      <td>1.000000</td>\n",
       "      <td>1.000000</td>\n",
       "      <td>1.000000</td>\n",
       "      <td>1.000000</td>\n",
       "      <td>1.000000</td>\n",
       "      <td>1.000000</td>\n",
       "      <td>1.000000</td>\n",
       "      <td>1.000000</td>\n",
       "      <td>1.000000</td>\n",
       "    </tr>\n",
       "    <tr>\n",
       "      <th>3</th>\n",
       "      <td>0.886596</td>\n",
       "      <td>1.000000</td>\n",
       "      <td>0.793980</td>\n",
       "      <td>0.913928</td>\n",
       "      <td>0.886596</td>\n",
       "      <td>0.693142</td>\n",
       "      <td>0.958559</td>\n",
       "      <td>0.793980</td>\n",
       "      <td>0.913928</td>\n",
       "      <td>0.717135</td>\n",
       "    </tr>\n",
       "    <tr>\n",
       "      <th>4</th>\n",
       "      <td>1.000000</td>\n",
       "      <td>0.990304</td>\n",
       "      <td>0.990304</td>\n",
       "      <td>0.990304</td>\n",
       "      <td>0.990304</td>\n",
       "      <td>0.990304</td>\n",
       "      <td>0.990304</td>\n",
       "      <td>1.000000</td>\n",
       "      <td>1.000000</td>\n",
       "      <td>1.000000</td>\n",
       "    </tr>\n",
       "    <tr>\n",
       "      <th>5</th>\n",
       "      <td>1.000000</td>\n",
       "      <td>1.000000</td>\n",
       "      <td>0.987526</td>\n",
       "      <td>0.987866</td>\n",
       "      <td>1.000000</td>\n",
       "      <td>0.987526</td>\n",
       "      <td>0.987866</td>\n",
       "      <td>0.987526</td>\n",
       "      <td>0.987866</td>\n",
       "      <td>0.999660</td>\n",
       "    </tr>\n",
       "    <tr>\n",
       "      <th>6</th>\n",
       "      <td>0.979591</td>\n",
       "      <td>0.983467</td>\n",
       "      <td>0.850934</td>\n",
       "      <td>0.963322</td>\n",
       "      <td>0.965789</td>\n",
       "      <td>0.833657</td>\n",
       "      <td>0.956219</td>\n",
       "      <td>0.860968</td>\n",
       "      <td>0.971600</td>\n",
       "      <td>0.863120</td>\n",
       "    </tr>\n",
       "  </tbody>\n",
       "</table>\n",
       "</div>"
      ],
      "text/plain": [
       "          0         1         2         3         4         5         6  \\\n",
       "2  1.000000  1.000000  1.000000  1.000000  1.000000  1.000000  1.000000   \n",
       "3  0.886596  1.000000  0.793980  0.913928  0.886596  0.693142  0.958559   \n",
       "4  1.000000  0.990304  0.990304  0.990304  0.990304  0.990304  0.990304   \n",
       "5  1.000000  1.000000  0.987526  0.987866  1.000000  0.987526  0.987866   \n",
       "6  0.979591  0.983467  0.850934  0.963322  0.965789  0.833657  0.956219   \n",
       "\n",
       "          7         8         9  \n",
       "2  1.000000  1.000000  1.000000  \n",
       "3  0.793980  0.913928  0.717135  \n",
       "4  1.000000  1.000000  1.000000  \n",
       "5  0.987526  0.987866  0.999660  \n",
       "6  0.860968  0.971600  0.863120  "
      ]
     },
     "execution_count": 44,
     "metadata": {},
     "output_type": "execute_result"
    }
   ],
   "source": [
    "parts_ari_df.head()"
   ]
  },
  {
   "cell_type": "markdown",
   "metadata": {
    "papermill": {
     "duration": 0.074961,
     "end_time": "2021-01-06T12:27:48.793636",
     "exception": false,
     "start_time": "2021-01-06T12:27:48.718675",
     "status": "completed"
    },
    "tags": []
   },
   "source": [
    "## Save"
   ]
  },
  {
   "cell_type": "code",
   "execution_count": 45,
   "metadata": {
    "execution": {
     "iopub.execute_input": "2021-01-06T12:27:48.941516Z",
     "iopub.status.busy": "2021-01-06T12:27:48.941137Z",
     "iopub.status.idle": "2021-01-06T12:27:48.954512Z",
     "shell.execute_reply": "2021-01-06T12:27:48.954144Z"
    },
    "papermill": {
     "duration": 0.087988,
     "end_time": "2021-01-06T12:27:48.954599",
     "exception": false,
     "start_time": "2021-01-06T12:27:48.866611",
     "status": "completed"
    },
    "tags": []
   },
   "outputs": [
    {
     "data": {
      "text/plain": [
       "PosixPath('/home/miltondp/projects/labs/greenelab/phenoplier/base3/results/clustering/runs/pca-z_score_std-projection-smultixcan-efo_partial-mashr-zscores/GaussianMixture-stability-COVARIANCE_TYPE_full-K_MAX_60-K_MIN_2-N_INIT_10-N_REPS_PER_K_5.pkl')"
      ]
     },
     "metadata": {},
     "output_type": "display_data"
    }
   ],
   "source": [
    "output_filename = Path(\n",
    "    RESULTS_DIR,\n",
    "    generate_result_set_name(\n",
    "        CLUSTERING_OPTIONS,\n",
    "        prefix=f\"{clustering_method_name}-stability-\",\n",
    "        suffix=\".pkl\",\n",
    "    ),\n",
    ").resolve()\n",
    "display(output_filename)"
   ]
  },
  {
   "cell_type": "code",
   "execution_count": 46,
   "metadata": {
    "execution": {
     "iopub.execute_input": "2021-01-06T12:27:49.104686Z",
     "iopub.status.busy": "2021-01-06T12:27:49.104293Z",
     "iopub.status.idle": "2021-01-06T12:27:49.116532Z",
     "shell.execute_reply": "2021-01-06T12:27:49.116835Z"
    },
    "papermill": {
     "duration": 0.08808,
     "end_time": "2021-01-06T12:27:49.116952",
     "exception": false,
     "start_time": "2021-01-06T12:27:49.028872",
     "status": "completed"
    },
    "tags": []
   },
   "outputs": [],
   "source": [
    "parts_ari_df.to_pickle(output_filename)"
   ]
  },
  {
   "cell_type": "markdown",
   "metadata": {
    "papermill": {
     "duration": 0.072696,
     "end_time": "2021-01-06T12:27:49.263436",
     "exception": false,
     "start_time": "2021-01-06T12:27:49.190740",
     "status": "completed"
    },
    "tags": []
   },
   "source": [
    "## Stability plot"
   ]
  },
  {
   "cell_type": "code",
   "execution_count": 47,
   "metadata": {
    "execution": {
     "iopub.execute_input": "2021-01-06T12:27:49.412463Z",
     "iopub.status.busy": "2021-01-06T12:27:49.412082Z",
     "iopub.status.idle": "2021-01-06T12:27:49.426081Z",
     "shell.execute_reply": "2021-01-06T12:27:49.425677Z"
    },
    "papermill": {
     "duration": 0.089051,
     "end_time": "2021-01-06T12:27:49.426176",
     "exception": false,
     "start_time": "2021-01-06T12:27:49.337125",
     "status": "completed"
    },
    "tags": []
   },
   "outputs": [],
   "source": [
    "parts_ari_df_plot = (\n",
    "    parts_ari_df.stack()\n",
    "    .reset_index()\n",
    "    .rename(columns={\"level_0\": \"k\", \"level_1\": \"idx\", 0: \"ari\"})\n",
    ")"
   ]
  },
  {
   "cell_type": "code",
   "execution_count": 48,
   "metadata": {
    "execution": {
     "iopub.execute_input": "2021-01-06T12:27:49.576938Z",
     "iopub.status.busy": "2021-01-06T12:27:49.576492Z",
     "iopub.status.idle": "2021-01-06T12:27:49.589962Z",
     "shell.execute_reply": "2021-01-06T12:27:49.589583Z"
    },
    "papermill": {
     "duration": 0.088475,
     "end_time": "2021-01-06T12:27:49.590053",
     "exception": false,
     "start_time": "2021-01-06T12:27:49.501578",
     "status": "completed"
    },
    "tags": []
   },
   "outputs": [
    {
     "data": {
      "text/plain": [
       "k        int64\n",
       "idx      int64\n",
       "ari    float64\n",
       "dtype: object"
      ]
     },
     "execution_count": 48,
     "metadata": {},
     "output_type": "execute_result"
    }
   ],
   "source": [
    "parts_ari_df_plot.dtypes"
   ]
  },
  {
   "cell_type": "code",
   "execution_count": 49,
   "metadata": {
    "execution": {
     "iopub.execute_input": "2021-01-06T12:27:49.740319Z",
     "iopub.status.busy": "2021-01-06T12:27:49.739956Z",
     "iopub.status.idle": "2021-01-06T12:27:49.755346Z",
     "shell.execute_reply": "2021-01-06T12:27:49.754958Z"
    },
    "papermill": {
     "duration": 0.090427,
     "end_time": "2021-01-06T12:27:49.755436",
     "exception": false,
     "start_time": "2021-01-06T12:27:49.665009",
     "status": "completed"
    },
    "tags": []
   },
   "outputs": [
    {
     "data": {
      "text/html": [
       "<div>\n",
       "<style scoped>\n",
       "    .dataframe tbody tr th:only-of-type {\n",
       "        vertical-align: middle;\n",
       "    }\n",
       "\n",
       "    .dataframe tbody tr th {\n",
       "        vertical-align: top;\n",
       "    }\n",
       "\n",
       "    .dataframe thead th {\n",
       "        text-align: right;\n",
       "    }\n",
       "</style>\n",
       "<table border=\"1\" class=\"dataframe\">\n",
       "  <thead>\n",
       "    <tr style=\"text-align: right;\">\n",
       "      <th></th>\n",
       "      <th>k</th>\n",
       "      <th>idx</th>\n",
       "      <th>ari</th>\n",
       "    </tr>\n",
       "  </thead>\n",
       "  <tbody>\n",
       "    <tr>\n",
       "      <th>0</th>\n",
       "      <td>2</td>\n",
       "      <td>0</td>\n",
       "      <td>1.0</td>\n",
       "    </tr>\n",
       "    <tr>\n",
       "      <th>1</th>\n",
       "      <td>2</td>\n",
       "      <td>1</td>\n",
       "      <td>1.0</td>\n",
       "    </tr>\n",
       "    <tr>\n",
       "      <th>2</th>\n",
       "      <td>2</td>\n",
       "      <td>2</td>\n",
       "      <td>1.0</td>\n",
       "    </tr>\n",
       "    <tr>\n",
       "      <th>3</th>\n",
       "      <td>2</td>\n",
       "      <td>3</td>\n",
       "      <td>1.0</td>\n",
       "    </tr>\n",
       "    <tr>\n",
       "      <th>4</th>\n",
       "      <td>2</td>\n",
       "      <td>4</td>\n",
       "      <td>1.0</td>\n",
       "    </tr>\n",
       "  </tbody>\n",
       "</table>\n",
       "</div>"
      ],
      "text/plain": [
       "   k  idx  ari\n",
       "0  2    0  1.0\n",
       "1  2    1  1.0\n",
       "2  2    2  1.0\n",
       "3  2    3  1.0\n",
       "4  2    4  1.0"
      ]
     },
     "execution_count": 49,
     "metadata": {},
     "output_type": "execute_result"
    }
   ],
   "source": [
    "parts_ari_df_plot.head()"
   ]
  },
  {
   "cell_type": "code",
   "execution_count": 50,
   "metadata": {
    "execution": {
     "iopub.execute_input": "2021-01-06T12:27:49.909368Z",
     "iopub.status.busy": "2021-01-06T12:27:49.908998Z",
     "iopub.status.idle": "2021-01-06T12:27:52.789869Z",
     "shell.execute_reply": "2021-01-06T12:27:52.790297Z"
    },
    "papermill": {
     "duration": 2.958004,
     "end_time": "2021-01-06T12:27:52.790413",
     "exception": false,
     "start_time": "2021-01-06T12:27:49.832409",
     "status": "completed"
    },
    "tags": []
   },
   "outputs": [
    {
     "data": {
      "image/png": "[encoded data removed]",
      "text/plain": [
       "<Figure size 864x432 with 1 Axes>"
      ]
     },
     "metadata": {},
     "output_type": "display_data"
    }
   ],
   "source": [
    "# with sns.axes_style('whitegrid', {'grid.linestyle': '--'}):\n",
    "with sns.plotting_context(\"talk\", font_scale=0.75), sns.axes_style(\n",
    "    \"whitegrid\", {\"grid.linestyle\": \"--\"}\n",
    "):\n",
    "    fig = plt.figure(figsize=(14, 6))\n",
    "    ax = sns.pointplot(data=parts_ari_df_plot, x=\"k\", y=\"ari\")\n",
    "    ax.set_ylabel(\"Averange ARI\")\n",
    "    ax.set_xlabel(\"Number of clusters ($k$)\")\n",
    "    ax.set_xticklabels(ax.get_xticklabels(), rotation=45)\n",
    "    #     ax.set_ylim(0.0, 1.0)\n",
    "    #     ax.set_xlim(CLUSTERING_OPTIONS['K_MIN'], CLUSTERING_OPTIONS['K_MAX'])\n",
    "    plt.grid(True)\n",
    "    plt.tight_layout()"
   ]
  },
  {
   "cell_type": "code",
   "execution_count": null,
   "metadata": {
    "papermill": {
     "duration": 0.074939,
     "end_time": "2021-01-06T12:27:52.942652",
     "exception": false,
     "start_time": "2021-01-06T12:27:52.867713",
     "status": "completed"
    },
    "tags": []
   },
   "outputs": [],
   "source": []
  }
 ],
 "metadata": {
  "jupytext": {
   "cell_metadata_filter": "all,-execution,-papermill",
   "formats": "ipynb,py//py:percent"
  },
  "kernelspec": {
   "display_name": "Python 3",
   "language": "python",
   "name": "python3"
  },
  "language_info": {
   "codemirror_mode": {
    "name": "ipython",
    "version": 3
   },
   "file_extension": ".py",
   "mimetype": "text/x-python",
   "name": "python",
   "nbconvert_exporter": "python",
   "pygments_lexer": "ipython3",
   "version": "3.8.6"
  },
  "papermill": {
   "default_parameters": {},
   "duration": 10587.441953,
   "end_time": "2021-01-06T12:27:53.526359",
   "environment_variables": {},
   "exception": null,
   "input_path": "15_cluster_analysis/004_01-gmm-pca.ipynb",
   "output_path": "15_cluster_analysis/004_01-gmm-pca.run.ipynb",
   "parameters": {},
   "start_time": "2021-01-06T09:31:26.084406",
   "version": "2.2.2"
  },
  "toc-autonumbering": true,
  "toc-showcode": false,
  "toc-showmarkdowntxt": false,
  "toc-showtags": false
 },
 "nbformat": 4,
 "nbformat_minor": 4
}
