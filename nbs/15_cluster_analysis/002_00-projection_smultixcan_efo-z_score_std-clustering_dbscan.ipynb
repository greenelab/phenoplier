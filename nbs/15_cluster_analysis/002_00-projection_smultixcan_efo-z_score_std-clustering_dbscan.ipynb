{
 "cells": [
  {
   "cell_type": "markdown",
   "metadata": {
    "papermill": {
     "duration": 0.017167,
     "end_time": "2020-12-02T17:42:55.923348",
     "exception": false,
     "start_time": "2020-12-02T17:42:55.906181",
     "status": "completed"
    },
    "tags": []
   },
   "source": [
    "# Description"
   ]
  },
  {
   "cell_type": "markdown",
   "metadata": {
    "papermill": {
     "duration": 0.014318,
     "end_time": "2020-12-02T17:42:55.952589",
     "exception": false,
     "start_time": "2020-12-02T17:42:55.938271",
     "status": "completed"
    },
    "tags": []
   },
   "source": [
    "It runs DBSCAN on the z_score_std version of the data.\n",
    "\n",
    "The notebook explores different values for min_samples and eps (the main parameters of DBSCAN)."
   ]
  },
  {
   "cell_type": "markdown",
   "metadata": {
    "papermill": {
     "duration": 0.013362,
     "end_time": "2020-12-02T17:42:55.979550",
     "exception": false,
     "start_time": "2020-12-02T17:42:55.966188",
     "status": "completed"
    },
    "tags": []
   },
   "source": [
    "# Environment variables"
   ]
  },
  {
   "cell_type": "code",
   "execution_count": 1,
   "metadata": {
    "execution": {
     "iopub.execute_input": "2020-12-02T17:42:56.009666Z",
     "iopub.status.busy": "2020-12-02T17:42:56.009289Z",
     "iopub.status.idle": "2020-12-02T17:42:56.020047Z",
     "shell.execute_reply": "2020-12-02T17:42:56.019614Z"
    },
    "papermill": {
     "duration": 0.027188,
     "end_time": "2020-12-02T17:42:56.020167",
     "exception": false,
     "start_time": "2020-12-02T17:42:55.992979",
     "status": "completed"
    },
    "tags": []
   },
   "outputs": [
    {
     "data": {
      "text/plain": [
       "3"
      ]
     },
     "metadata": {},
     "output_type": "display_data"
    }
   ],
   "source": [
    "from IPython.display import display\n",
    "\n",
    "import conf\n",
    "\n",
    "N_JOBS = conf.GENERAL['N_JOBS']\n",
    "display(N_JOBS)"
   ]
  },
  {
   "cell_type": "code",
   "execution_count": 2,
   "metadata": {
    "execution": {
     "iopub.execute_input": "2020-12-02T17:42:56.053760Z",
     "iopub.status.busy": "2020-12-02T17:42:56.053361Z",
     "iopub.status.idle": "2020-12-02T17:42:56.055812Z",
     "shell.execute_reply": "2020-12-02T17:42:56.055431Z"
    },
    "papermill": {
     "duration": 0.020742,
     "end_time": "2020-12-02T17:42:56.055898",
     "exception": false,
     "start_time": "2020-12-02T17:42:56.035156",
     "status": "completed"
    },
    "tags": []
   },
   "outputs": [
    {
     "name": "stdout",
     "output_type": "stream",
     "text": [
      "env: MKL_NUM_THREADS=3\n",
      "env: OPEN_BLAS_NUM_THREADS=3\n",
      "env: NUMEXPR_NUM_THREADS=3\n",
      "env: OMP_NUM_THREADS=3\n"
     ]
    }
   ],
   "source": [
    "%env MKL_NUM_THREADS=$N_JOBS\n",
    "%env OPEN_BLAS_NUM_THREADS=$N_JOBS\n",
    "%env NUMEXPR_NUM_THREADS=$N_JOBS\n",
    "%env OMP_NUM_THREADS=$N_JOBS"
   ]
  },
  {
   "cell_type": "markdown",
   "metadata": {
    "papermill": {
     "duration": 0.013847,
     "end_time": "2020-12-02T17:42:56.084279",
     "exception": false,
     "start_time": "2020-12-02T17:42:56.070432",
     "status": "completed"
    },
    "tags": []
   },
   "source": [
    "# Modules loading"
   ]
  },
  {
   "cell_type": "code",
   "execution_count": 3,
   "metadata": {
    "execution": {
     "iopub.execute_input": "2020-12-02T17:42:56.115184Z",
     "iopub.status.busy": "2020-12-02T17:42:56.114816Z",
     "iopub.status.idle": "2020-12-02T17:42:56.122724Z",
     "shell.execute_reply": "2020-12-02T17:42:56.122338Z"
    },
    "papermill": {
     "duration": 0.024515,
     "end_time": "2020-12-02T17:42:56.122812",
     "exception": false,
     "start_time": "2020-12-02T17:42:56.098297",
     "status": "completed"
    },
    "tags": []
   },
   "outputs": [],
   "source": [
    "%load_ext autoreload\n",
    "%autoreload 2"
   ]
  },
  {
   "cell_type": "code",
   "execution_count": 4,
   "metadata": {
    "execution": {
     "iopub.execute_input": "2020-12-02T17:42:56.154217Z",
     "iopub.status.busy": "2020-12-02T17:42:56.153843Z",
     "iopub.status.idle": "2020-12-02T17:42:57.749474Z",
     "shell.execute_reply": "2020-12-02T17:42:57.749116Z"
    },
    "papermill": {
     "duration": 1.612315,
     "end_time": "2020-12-02T17:42:57.749575",
     "exception": false,
     "start_time": "2020-12-02T17:42:56.137260",
     "status": "completed"
    },
    "tags": []
   },
   "outputs": [],
   "source": [
    "from pathlib import Path\n",
    "\n",
    "import numpy as np\n",
    "import pandas as pd\n",
    "from sklearn.neighbors import NearestNeighbors\n",
    "from sklearn.metrics import pairwise_distances\n",
    "from sklearn.cluster import DBSCAN\n",
    "import umap\n",
    "import matplotlib.pyplot as plt\n",
    "import seaborn as sns\n",
    "\n",
    "from utils import generate_result_set_name\n",
    "from clustering.ensemble import generate_ensemble"
   ]
  },
  {
   "cell_type": "markdown",
   "metadata": {
    "papermill": {
     "duration": 0.014513,
     "end_time": "2020-12-02T17:42:57.780029",
     "exception": false,
     "start_time": "2020-12-02T17:42:57.765516",
     "status": "completed"
    },
    "tags": []
   },
   "source": [
    "# Global settings"
   ]
  },
  {
   "cell_type": "code",
   "execution_count": 5,
   "metadata": {
    "execution": {
     "iopub.execute_input": "2020-12-02T17:42:57.810741Z",
     "iopub.status.busy": "2020-12-02T17:42:57.810373Z",
     "iopub.status.idle": "2020-12-02T17:42:57.822216Z",
     "shell.execute_reply": "2020-12-02T17:42:57.821882Z"
    },
    "papermill": {
     "duration": 0.028119,
     "end_time": "2020-12-02T17:42:57.822303",
     "exception": false,
     "start_time": "2020-12-02T17:42:57.794184",
     "status": "completed"
    },
    "tags": []
   },
   "outputs": [],
   "source": [
    "CLUSTERING_ATTRIBUTES_TO_SAVE = ['n_clusters']"
   ]
  },
  {
   "cell_type": "markdown",
   "metadata": {
    "papermill": {
     "duration": 0.014454,
     "end_time": "2020-12-02T17:42:57.851807",
     "exception": false,
     "start_time": "2020-12-02T17:42:57.837353",
     "status": "completed"
    },
    "tags": []
   },
   "source": [
    "# Data version: z_score_std"
   ]
  },
  {
   "cell_type": "markdown",
   "metadata": {
    "papermill": {
     "duration": 0.013906,
     "end_time": "2020-12-02T17:42:57.879622",
     "exception": false,
     "start_time": "2020-12-02T17:42:57.865716",
     "status": "completed"
    },
    "tags": []
   },
   "source": [
    "## Settings"
   ]
  },
  {
   "cell_type": "code",
   "execution_count": 6,
   "metadata": {
    "execution": {
     "iopub.execute_input": "2020-12-02T17:42:57.911268Z",
     "iopub.status.busy": "2020-12-02T17:42:57.910879Z",
     "iopub.status.idle": "2020-12-02T17:42:57.923153Z",
     "shell.execute_reply": "2020-12-02T17:42:57.922761Z"
    },
    "papermill": {
     "duration": 0.029772,
     "end_time": "2020-12-02T17:42:57.923248",
     "exception": false,
     "start_time": "2020-12-02T17:42:57.893476",
     "status": "completed"
    },
    "tags": []
   },
   "outputs": [],
   "source": [
    "INPUT_SUBSET = 'z_score_std'"
   ]
  },
  {
   "cell_type": "code",
   "execution_count": 7,
   "metadata": {
    "execution": {
     "iopub.execute_input": "2020-12-02T17:42:57.955277Z",
     "iopub.status.busy": "2020-12-02T17:42:57.954900Z",
     "iopub.status.idle": "2020-12-02T17:42:57.966583Z",
     "shell.execute_reply": "2020-12-02T17:42:57.966879Z"
    },
    "papermill": {
     "duration": 0.028578,
     "end_time": "2020-12-02T17:42:57.966993",
     "exception": false,
     "start_time": "2020-12-02T17:42:57.938415",
     "status": "completed"
    },
    "tags": []
   },
   "outputs": [],
   "source": [
    "INPUT_STEM = 'projection-smultixcan-efo_partial-mashr-zscores'"
   ]
  },
  {
   "cell_type": "code",
   "execution_count": 8,
   "metadata": {
    "execution": {
     "iopub.execute_input": "2020-12-02T17:42:57.999373Z",
     "iopub.status.busy": "2020-12-02T17:42:57.999004Z",
     "iopub.status.idle": "2020-12-02T17:42:58.012449Z",
     "shell.execute_reply": "2020-12-02T17:42:58.012063Z"
    },
    "papermill": {
     "duration": 0.030394,
     "end_time": "2020-12-02T17:42:58.012539",
     "exception": false,
     "start_time": "2020-12-02T17:42:57.982145",
     "status": "completed"
    },
    "tags": []
   },
   "outputs": [
    {
     "data": {
      "text/plain": [
       "PosixPath('/home/miltondp/projects/labs/greenelab/phenoplier/base/results/data_transformations/z_score_std/z_score_std-projection-smultixcan-efo_partial-mashr-zscores.pkl')"
      ]
     },
     "metadata": {},
     "output_type": "display_data"
    },
    {
     "data": {
      "text/plain": [
       "'z_score_std-projection-smultixcan-efo_partial-mashr-zscores'"
      ]
     },
     "metadata": {},
     "output_type": "display_data"
    }
   ],
   "source": [
    "input_filepath = Path(\n",
    "    conf.RESULTS[\"DATA_TRANSFORMATIONS_DIR\"],\n",
    "    INPUT_SUBSET,\n",
    "    f'{INPUT_SUBSET}-{INPUT_STEM}.pkl',\n",
    ").resolve()\n",
    "display(input_filepath)\n",
    "\n",
    "assert input_filepath.exists(), 'Input file does not exist'\n",
    "\n",
    "input_filepath_stem = input_filepath.stem\n",
    "display(input_filepath_stem)"
   ]
  },
  {
   "cell_type": "code",
   "execution_count": 9,
   "metadata": {
    "execution": {
     "iopub.execute_input": "2020-12-02T17:42:58.045479Z",
     "iopub.status.busy": "2020-12-02T17:42:58.045104Z",
     "iopub.status.idle": "2020-12-02T17:42:58.058285Z",
     "shell.execute_reply": "2020-12-02T17:42:58.057905Z"
    },
    "papermill": {
     "duration": 0.030302,
     "end_time": "2020-12-02T17:42:58.058376",
     "exception": false,
     "start_time": "2020-12-02T17:42:58.028074",
     "status": "completed"
    },
    "tags": []
   },
   "outputs": [
    {
     "data": {
      "text/plain": [
       "PosixPath('/home/miltondp/projects/labs/greenelab/phenoplier/base/results/clustering/runs/z_score_std-projection-smultixcan-efo_partial-mashr-zscores')"
      ]
     },
     "metadata": {},
     "output_type": "display_data"
    }
   ],
   "source": [
    "# output dir for this notebook\n",
    "RESULTS_DIR = Path(\n",
    "    conf.RESULTS[\"CLUSTERING_RUNS_DIR\"],\n",
    "    f'{INPUT_SUBSET}-{INPUT_STEM}',\n",
    ").resolve()\n",
    "RESULTS_DIR.mkdir(parents=True, exist_ok=True)\n",
    "\n",
    "display(RESULTS_DIR)"
   ]
  },
  {
   "cell_type": "markdown",
   "metadata": {
    "papermill": {
     "duration": 0.015076,
     "end_time": "2020-12-02T17:42:58.089515",
     "exception": false,
     "start_time": "2020-12-02T17:42:58.074439",
     "status": "completed"
    },
    "tags": []
   },
   "source": [
    "## Load input file"
   ]
  },
  {
   "cell_type": "code",
   "execution_count": 10,
   "metadata": {
    "execution": {
     "iopub.execute_input": "2020-12-02T17:42:58.121725Z",
     "iopub.status.busy": "2020-12-02T17:42:58.121348Z",
     "iopub.status.idle": "2020-12-02T17:42:58.145871Z",
     "shell.execute_reply": "2020-12-02T17:42:58.145442Z"
    },
    "papermill": {
     "duration": 0.041595,
     "end_time": "2020-12-02T17:42:58.145969",
     "exception": false,
     "start_time": "2020-12-02T17:42:58.104374",
     "status": "completed"
    },
    "tags": []
   },
   "outputs": [],
   "source": [
    "data = pd.read_pickle(input_filepath)"
   ]
  },
  {
   "cell_type": "code",
   "execution_count": 11,
   "metadata": {
    "execution": {
     "iopub.execute_input": "2020-12-02T17:42:58.181149Z",
     "iopub.status.busy": "2020-12-02T17:42:58.180746Z",
     "iopub.status.idle": "2020-12-02T17:42:58.193579Z",
     "shell.execute_reply": "2020-12-02T17:42:58.193879Z"
    },
    "papermill": {
     "duration": 0.031251,
     "end_time": "2020-12-02T17:42:58.193994",
     "exception": false,
     "start_time": "2020-12-02T17:42:58.162743",
     "status": "completed"
    },
    "tags": []
   },
   "outputs": [
    {
     "data": {
      "text/plain": [
       "(3749, 987)"
      ]
     },
     "execution_count": 11,
     "metadata": {},
     "output_type": "execute_result"
    }
   ],
   "source": [
    "data.shape"
   ]
  },
  {
   "cell_type": "code",
   "execution_count": 12,
   "metadata": {
    "execution": {
     "iopub.execute_input": "2020-12-02T17:42:58.229082Z",
     "iopub.status.busy": "2020-12-02T17:42:58.228656Z",
     "iopub.status.idle": "2020-12-02T17:42:58.254188Z",
     "shell.execute_reply": "2020-12-02T17:42:58.253804Z"
    },
    "papermill": {
     "duration": 0.04381,
     "end_time": "2020-12-02T17:42:58.254275",
     "exception": false,
     "start_time": "2020-12-02T17:42:58.210465",
     "status": "completed"
    },
    "tags": []
   },
   "outputs": [
    {
     "data": {
      "text/html": [
       "<div>\n",
       "<style scoped>\n",
       "    .dataframe tbody tr th:only-of-type {\n",
       "        vertical-align: middle;\n",
       "    }\n",
       "\n",
       "    .dataframe tbody tr th {\n",
       "        vertical-align: top;\n",
       "    }\n",
       "\n",
       "    .dataframe thead th {\n",
       "        text-align: right;\n",
       "    }\n",
       "</style>\n",
       "<table border=\"1\" class=\"dataframe\">\n",
       "  <thead>\n",
       "    <tr style=\"text-align: right;\">\n",
       "      <th></th>\n",
       "      <th>LV1</th>\n",
       "      <th>LV2</th>\n",
       "      <th>LV3</th>\n",
       "      <th>LV4</th>\n",
       "      <th>LV5</th>\n",
       "      <th>LV6</th>\n",
       "      <th>LV7</th>\n",
       "      <th>LV8</th>\n",
       "      <th>LV9</th>\n",
       "      <th>LV10</th>\n",
       "      <th>...</th>\n",
       "      <th>LV978</th>\n",
       "      <th>LV979</th>\n",
       "      <th>LV980</th>\n",
       "      <th>LV981</th>\n",
       "      <th>LV982</th>\n",
       "      <th>LV983</th>\n",
       "      <th>LV984</th>\n",
       "      <th>LV985</th>\n",
       "      <th>LV986</th>\n",
       "      <th>LV987</th>\n",
       "    </tr>\n",
       "  </thead>\n",
       "  <tbody>\n",
       "    <tr>\n",
       "      <th>100001_raw-Food_weight</th>\n",
       "      <td>-0.553743</td>\n",
       "      <td>1.851060</td>\n",
       "      <td>-0.095721</td>\n",
       "      <td>0.931603</td>\n",
       "      <td>-0.515196</td>\n",
       "      <td>1.371264</td>\n",
       "      <td>-0.413165</td>\n",
       "      <td>0.729668</td>\n",
       "      <td>0.546338</td>\n",
       "      <td>0.901153</td>\n",
       "      <td>...</td>\n",
       "      <td>1.148776</td>\n",
       "      <td>1.649018</td>\n",
       "      <td>-1.375952</td>\n",
       "      <td>2.203063</td>\n",
       "      <td>0.810199</td>\n",
       "      <td>-0.987048</td>\n",
       "      <td>0.277710</td>\n",
       "      <td>-0.607613</td>\n",
       "      <td>0.572376</td>\n",
       "      <td>-0.660846</td>\n",
       "    </tr>\n",
       "    <tr>\n",
       "      <th>100002_raw-Energy</th>\n",
       "      <td>-1.313905</td>\n",
       "      <td>-0.421015</td>\n",
       "      <td>-0.310524</td>\n",
       "      <td>-0.201978</td>\n",
       "      <td>0.233028</td>\n",
       "      <td>0.693838</td>\n",
       "      <td>0.084129</td>\n",
       "      <td>0.572439</td>\n",
       "      <td>0.217866</td>\n",
       "      <td>1.296973</td>\n",
       "      <td>...</td>\n",
       "      <td>0.165430</td>\n",
       "      <td>0.799276</td>\n",
       "      <td>-0.361989</td>\n",
       "      <td>-0.008253</td>\n",
       "      <td>2.063780</td>\n",
       "      <td>-0.930765</td>\n",
       "      <td>-0.147007</td>\n",
       "      <td>1.601938</td>\n",
       "      <td>-0.273553</td>\n",
       "      <td>-0.560822</td>\n",
       "    </tr>\n",
       "    <tr>\n",
       "      <th>100003_raw-Protein</th>\n",
       "      <td>-0.645622</td>\n",
       "      <td>-0.997845</td>\n",
       "      <td>0.249039</td>\n",
       "      <td>0.256499</td>\n",
       "      <td>0.422357</td>\n",
       "      <td>0.829189</td>\n",
       "      <td>-0.169004</td>\n",
       "      <td>0.511550</td>\n",
       "      <td>0.002389</td>\n",
       "      <td>-0.057200</td>\n",
       "      <td>...</td>\n",
       "      <td>1.016791</td>\n",
       "      <td>1.019488</td>\n",
       "      <td>-2.148844</td>\n",
       "      <td>-0.065130</td>\n",
       "      <td>0.041052</td>\n",
       "      <td>-0.836118</td>\n",
       "      <td>-0.320571</td>\n",
       "      <td>1.325519</td>\n",
       "      <td>-0.341494</td>\n",
       "      <td>-0.495786</td>\n",
       "    </tr>\n",
       "    <tr>\n",
       "      <th>100004_raw-Fat</th>\n",
       "      <td>-0.913924</td>\n",
       "      <td>-1.837183</td>\n",
       "      <td>0.012095</td>\n",
       "      <td>-1.301315</td>\n",
       "      <td>0.205794</td>\n",
       "      <td>1.129114</td>\n",
       "      <td>0.019985</td>\n",
       "      <td>0.376660</td>\n",
       "      <td>-0.810272</td>\n",
       "      <td>0.843611</td>\n",
       "      <td>...</td>\n",
       "      <td>0.544266</td>\n",
       "      <td>0.576714</td>\n",
       "      <td>0.281731</td>\n",
       "      <td>-0.218963</td>\n",
       "      <td>1.258957</td>\n",
       "      <td>-1.131924</td>\n",
       "      <td>0.378545</td>\n",
       "      <td>0.842047</td>\n",
       "      <td>-0.622194</td>\n",
       "      <td>-0.160058</td>\n",
       "    </tr>\n",
       "    <tr>\n",
       "      <th>100005_raw-Carbohydrate</th>\n",
       "      <td>-0.523004</td>\n",
       "      <td>0.131379</td>\n",
       "      <td>-0.097802</td>\n",
       "      <td>-0.030526</td>\n",
       "      <td>-0.021500</td>\n",
       "      <td>-0.219116</td>\n",
       "      <td>0.668229</td>\n",
       "      <td>0.365700</td>\n",
       "      <td>1.102347</td>\n",
       "      <td>0.845625</td>\n",
       "      <td>...</td>\n",
       "      <td>-0.344740</td>\n",
       "      <td>0.079274</td>\n",
       "      <td>0.253427</td>\n",
       "      <td>0.236474</td>\n",
       "      <td>1.033895</td>\n",
       "      <td>-0.229105</td>\n",
       "      <td>0.364793</td>\n",
       "      <td>1.776714</td>\n",
       "      <td>0.190531</td>\n",
       "      <td>-1.459641</td>\n",
       "    </tr>\n",
       "  </tbody>\n",
       "</table>\n",
       "<p>5 rows × 987 columns</p>\n",
       "</div>"
      ],
      "text/plain": [
       "                              LV1       LV2       LV3       LV4       LV5  \\\n",
       "100001_raw-Food_weight  -0.553743  1.851060 -0.095721  0.931603 -0.515196   \n",
       "100002_raw-Energy       -1.313905 -0.421015 -0.310524 -0.201978  0.233028   \n",
       "100003_raw-Protein      -0.645622 -0.997845  0.249039  0.256499  0.422357   \n",
       "100004_raw-Fat          -0.913924 -1.837183  0.012095 -1.301315  0.205794   \n",
       "100005_raw-Carbohydrate -0.523004  0.131379 -0.097802 -0.030526 -0.021500   \n",
       "\n",
       "                              LV6       LV7       LV8       LV9      LV10  \\\n",
       "100001_raw-Food_weight   1.371264 -0.413165  0.729668  0.546338  0.901153   \n",
       "100002_raw-Energy        0.693838  0.084129  0.572439  0.217866  1.296973   \n",
       "100003_raw-Protein       0.829189 -0.169004  0.511550  0.002389 -0.057200   \n",
       "100004_raw-Fat           1.129114  0.019985  0.376660 -0.810272  0.843611   \n",
       "100005_raw-Carbohydrate -0.219116  0.668229  0.365700  1.102347  0.845625   \n",
       "\n",
       "                         ...     LV978     LV979     LV980     LV981  \\\n",
       "100001_raw-Food_weight   ...  1.148776  1.649018 -1.375952  2.203063   \n",
       "100002_raw-Energy        ...  0.165430  0.799276 -0.361989 -0.008253   \n",
       "100003_raw-Protein       ...  1.016791  1.019488 -2.148844 -0.065130   \n",
       "100004_raw-Fat           ...  0.544266  0.576714  0.281731 -0.218963   \n",
       "100005_raw-Carbohydrate  ... -0.344740  0.079274  0.253427  0.236474   \n",
       "\n",
       "                            LV982     LV983     LV984     LV985     LV986  \\\n",
       "100001_raw-Food_weight   0.810199 -0.987048  0.277710 -0.607613  0.572376   \n",
       "100002_raw-Energy        2.063780 -0.930765 -0.147007  1.601938 -0.273553   \n",
       "100003_raw-Protein       0.041052 -0.836118 -0.320571  1.325519 -0.341494   \n",
       "100004_raw-Fat           1.258957 -1.131924  0.378545  0.842047 -0.622194   \n",
       "100005_raw-Carbohydrate  1.033895 -0.229105  0.364793  1.776714  0.190531   \n",
       "\n",
       "                            LV987  \n",
       "100001_raw-Food_weight  -0.660846  \n",
       "100002_raw-Energy       -0.560822  \n",
       "100003_raw-Protein      -0.495786  \n",
       "100004_raw-Fat          -0.160058  \n",
       "100005_raw-Carbohydrate -1.459641  \n",
       "\n",
       "[5 rows x 987 columns]"
      ]
     },
     "execution_count": 12,
     "metadata": {},
     "output_type": "execute_result"
    }
   ],
   "source": [
    "data.head()"
   ]
  },
  {
   "cell_type": "code",
   "execution_count": 13,
   "metadata": {
    "execution": {
     "iopub.execute_input": "2020-12-02T17:42:58.290206Z",
     "iopub.status.busy": "2020-12-02T17:42:58.289844Z",
     "iopub.status.idle": "2020-12-02T17:42:58.307941Z",
     "shell.execute_reply": "2020-12-02T17:42:58.307514Z"
    },
    "papermill": {
     "duration": 0.037088,
     "end_time": "2020-12-02T17:42:58.308051",
     "exception": false,
     "start_time": "2020-12-02T17:42:58.270963",
     "status": "completed"
    },
    "tags": []
   },
   "outputs": [],
   "source": [
    "assert not data.isna().any().any()"
   ]
  },
  {
   "cell_type": "markdown",
   "metadata": {
    "papermill": {
     "duration": 0.015778,
     "end_time": "2020-12-02T17:42:58.342194",
     "exception": false,
     "start_time": "2020-12-02T17:42:58.326416",
     "status": "completed"
    },
    "tags": []
   },
   "source": [
    "## Tests different k values (k-NN)"
   ]
  },
  {
   "cell_type": "code",
   "execution_count": 14,
   "metadata": {
    "execution": {
     "iopub.execute_input": "2020-12-02T17:42:58.376892Z",
     "iopub.status.busy": "2020-12-02T17:42:58.376457Z",
     "iopub.status.idle": "2020-12-02T17:42:58.388562Z",
     "shell.execute_reply": "2020-12-02T17:42:58.388178Z"
    },
    "papermill": {
     "duration": 0.030649,
     "end_time": "2020-12-02T17:42:58.388651",
     "exception": false,
     "start_time": "2020-12-02T17:42:58.358002",
     "status": "completed"
    },
    "tags": []
   },
   "outputs": [],
   "source": [
    "k_values = np.arange(2, 120+1, 1)\n",
    "k_values_to_explore = (2, 5, 10, 15, 20, 30, 40, 50, 75, 100, 125)"
   ]
  },
  {
   "cell_type": "code",
   "execution_count": 15,
   "metadata": {
    "execution": {
     "iopub.execute_input": "2020-12-02T17:42:58.425241Z",
     "iopub.status.busy": "2020-12-02T17:42:58.424872Z",
     "iopub.status.idle": "2020-12-02T17:44:30.748978Z",
     "shell.execute_reply": "2020-12-02T17:44:30.749319Z"
    },
    "papermill": {
     "duration": 92.343628,
     "end_time": "2020-12-02T17:44:30.749438",
     "exception": false,
     "start_time": "2020-12-02T17:42:58.405810",
     "status": "completed"
    },
    "tags": []
   },
   "outputs": [],
   "source": [
    "results = {}\n",
    "\n",
    "for k in k_values_to_explore:\n",
    "    nbrs = NearestNeighbors(n_neighbors=k, n_jobs=N_JOBS).fit(data)\n",
    "    distances, indices = nbrs.kneighbors(data)\n",
    "    results[k] = (distances, indices)"
   ]
  },
  {
   "cell_type": "code",
   "execution_count": 16,
   "metadata": {
    "execution": {
     "iopub.execute_input": "2020-12-02T17:44:30.786979Z",
     "iopub.status.busy": "2020-12-02T17:44:30.786585Z",
     "iopub.status.idle": "2020-12-02T17:44:30.798663Z",
     "shell.execute_reply": "2020-12-02T17:44:30.798980Z"
    },
    "papermill": {
     "duration": 0.03185,
     "end_time": "2020-12-02T17:44:30.799092",
     "exception": false,
     "start_time": "2020-12-02T17:44:30.767242",
     "status": "completed"
    },
    "tags": []
   },
   "outputs": [],
   "source": [
    "min_max_range = (40, 100)\n",
    "\n",
    "eps_range_per_k = {k: min_max_range for k in k_values}\n",
    "eps_range_per_k_to_explore = {k: min_max_range for k in k_values_to_explore}"
   ]
  },
  {
   "cell_type": "code",
   "execution_count": 17,
   "metadata": {
    "execution": {
     "iopub.execute_input": "2020-12-02T17:44:30.835727Z",
     "iopub.status.busy": "2020-12-02T17:44:30.835362Z",
     "iopub.status.idle": "2020-12-02T17:44:31.830215Z",
     "shell.execute_reply": "2020-12-02T17:44:31.829840Z"
    },
    "papermill": {
     "duration": 1.014147,
     "end_time": "2020-12-02T17:44:31.830300",
     "exception": false,
     "start_time": "2020-12-02T17:44:30.816153",
     "status": "completed"
    },
    "tags": []
   },
   "outputs": [
    {
     "data": {
      "image/png": "[encoded data removed]",
      "text/plain": [
       "<Figure size 432x288 with 1 Axes>"
      ]
     },
     "metadata": {},
     "output_type": "display_data"
    },
    {
     "data": {
      "image/png": "[encoded data removed]",
      "text/plain": [
       "<Figure size 432x288 with 1 Axes>"
      ]
     },
     "metadata": {},
     "output_type": "display_data"
    },
    {
     "data": {
      "image/png": "[encoded data removed]",
      "text/plain": [
       "<Figure size 432x288 with 1 Axes>"
      ]
     },
     "metadata": {},
     "output_type": "display_data"
    },
    {
     "data": {
      "image/png": "[encoded data removed]",
      "text/plain": [
       "<Figure size 432x288 with 1 Axes>"
      ]
     },
     "metadata": {},
     "output_type": "display_data"
    },
    {
     "data": {
      "image/png": "[encoded data removed]",
      "text/plain": [
       "<Figure size 432x288 with 1 Axes>"
      ]
     },
     "metadata": {},
     "output_type": "display_data"
    },
    {
     "data": {
      "image/png": "[encoded data removed]",
      "text/plain": [
       "<Figure size 432x288 with 1 Axes>"
      ]
     },
     "metadata": {},
     "output_type": "display_data"
    },
    {
     "data": {
      "image/png": "[encoded data removed]",
      "text/plain": [
       "<Figure size 432x288 with 1 Axes>"
      ]
     },
     "metadata": {},
     "output_type": "display_data"
    },
    {
     "data": {
      "image/png": "[encoded data removed]",
      "text/plain": [
       "<Figure size 432x288 with 1 Axes>"
      ]
     },
     "metadata": {},
     "output_type": "display_data"
    },
    {
     "data": {
      "image/png": "[encoded data removed]",
      "text/plain": [
       "<Figure size 432x288 with 1 Axes>"
      ]
     },
     "metadata": {},
     "output_type": "display_data"
    },
    {
     "data": {
      "image/png": "[encoded data removed]",
      "text/plain": [
       "<Figure size 432x288 with 1 Axes>"
      ]
     },
     "metadata": {},
     "output_type": "display_data"
    },
    {
     "data": {
      "image/png": "[encoded data removed]",
      "text/plain": [
       "<Figure size 432x288 with 1 Axes>"
      ]
     },
     "metadata": {},
     "output_type": "display_data"
    }
   ],
   "source": [
    "for k, (distances, indices) in results.items():\n",
    "    d = distances[:,1:].mean(axis=1)\n",
    "    d = np.sort(d)\n",
    "    \n",
    "    fig, ax = plt.subplots()\n",
    "    plt.plot(d)\n",
    "    \n",
    "    r = eps_range_per_k_to_explore[k]\n",
    "    plt.hlines(r[0], 0, data.shape[0], color='red')\n",
    "    plt.hlines(r[1], 0, data.shape[0], color='red')\n",
    "    \n",
    "    plt.xlim((3000, data.shape[0]))\n",
    "    plt.title(f'k={k}')\n",
    "    display(fig)\n",
    "    \n",
    "    plt.close(fig)"
   ]
  },
  {
   "cell_type": "markdown",
   "metadata": {
    "papermill": {
     "duration": 0.020037,
     "end_time": "2020-12-02T17:44:31.871166",
     "exception": false,
     "start_time": "2020-12-02T17:44:31.851129",
     "status": "completed"
    },
    "tags": []
   },
   "source": [
    "## Clustering"
   ]
  },
  {
   "cell_type": "markdown",
   "metadata": {
    "papermill": {
     "duration": 0.020262,
     "end_time": "2020-12-02T17:44:31.911700",
     "exception": false,
     "start_time": "2020-12-02T17:44:31.891438",
     "status": "completed"
    },
    "tags": []
   },
   "source": [
    "### Generate clusterers"
   ]
  },
  {
   "cell_type": "code",
   "execution_count": 18,
   "metadata": {
    "execution": {
     "iopub.execute_input": "2020-12-02T17:44:31.955207Z",
     "iopub.status.busy": "2020-12-02T17:44:31.954834Z",
     "iopub.status.idle": "2020-12-02T17:44:31.972188Z",
     "shell.execute_reply": "2020-12-02T17:44:31.971807Z"
    },
    "papermill": {
     "duration": 0.04042,
     "end_time": "2020-12-02T17:44:31.972277",
     "exception": false,
     "start_time": "2020-12-02T17:44:31.931857",
     "status": "completed"
    },
    "tags": []
   },
   "outputs": [
    {
     "data": {
      "text/plain": [
       "{'K_RANGE': array([  2,   3,   4,   5,   6,   7,   8,   9,  10,  11,  12,  13,  14,\n",
       "         15,  16,  17,  18,  19,  20,  21,  22,  23,  24,  25,  26,  27,\n",
       "         28,  29,  30,  31,  32,  33,  34,  35,  36,  37,  38,  39,  40,\n",
       "         41,  42,  43,  44,  45,  46,  47,  48,  49,  50,  51,  52,  53,\n",
       "         54,  55,  56,  57,  58,  59,  60,  61,  62,  63,  64,  65,  66,\n",
       "         67,  68,  69,  70,  71,  72,  73,  74,  75,  76,  77,  78,  79,\n",
       "         80,  81,  82,  83,  84,  85,  86,  87,  88,  89,  90,  91,  92,\n",
       "         93,  94,  95,  96,  97,  98,  99, 100, 101, 102, 103, 104, 105,\n",
       "        106, 107, 108, 109, 110, 111, 112, 113, 114, 115, 116, 117, 118,\n",
       "        119, 120]),\n",
       " 'EPS_RANGE_PER_K': {2: (40, 100),\n",
       "  3: (40, 100),\n",
       "  4: (40, 100),\n",
       "  5: (40, 100),\n",
       "  6: (40, 100),\n",
       "  7: (40, 100),\n",
       "  8: (40, 100),\n",
       "  9: (40, 100),\n",
       "  10: (40, 100),\n",
       "  11: (40, 100),\n",
       "  12: (40, 100),\n",
       "  13: (40, 100),\n",
       "  14: (40, 100),\n",
       "  15: (40, 100),\n",
       "  16: (40, 100),\n",
       "  17: (40, 100),\n",
       "  18: (40, 100),\n",
       "  19: (40, 100),\n",
       "  20: (40, 100),\n",
       "  21: (40, 100),\n",
       "  22: (40, 100),\n",
       "  23: (40, 100),\n",
       "  24: (40, 100),\n",
       "  25: (40, 100),\n",
       "  26: (40, 100),\n",
       "  27: (40, 100),\n",
       "  28: (40, 100),\n",
       "  29: (40, 100),\n",
       "  30: (40, 100),\n",
       "  31: (40, 100),\n",
       "  32: (40, 100),\n",
       "  33: (40, 100),\n",
       "  34: (40, 100),\n",
       "  35: (40, 100),\n",
       "  36: (40, 100),\n",
       "  37: (40, 100),\n",
       "  38: (40, 100),\n",
       "  39: (40, 100),\n",
       "  40: (40, 100),\n",
       "  41: (40, 100),\n",
       "  42: (40, 100),\n",
       "  43: (40, 100),\n",
       "  44: (40, 100),\n",
       "  45: (40, 100),\n",
       "  46: (40, 100),\n",
       "  47: (40, 100),\n",
       "  48: (40, 100),\n",
       "  49: (40, 100),\n",
       "  50: (40, 100),\n",
       "  51: (40, 100),\n",
       "  52: (40, 100),\n",
       "  53: (40, 100),\n",
       "  54: (40, 100),\n",
       "  55: (40, 100),\n",
       "  56: (40, 100),\n",
       "  57: (40, 100),\n",
       "  58: (40, 100),\n",
       "  59: (40, 100),\n",
       "  60: (40, 100),\n",
       "  61: (40, 100),\n",
       "  62: (40, 100),\n",
       "  63: (40, 100),\n",
       "  64: (40, 100),\n",
       "  65: (40, 100),\n",
       "  66: (40, 100),\n",
       "  67: (40, 100),\n",
       "  68: (40, 100),\n",
       "  69: (40, 100),\n",
       "  70: (40, 100),\n",
       "  71: (40, 100),\n",
       "  72: (40, 100),\n",
       "  73: (40, 100),\n",
       "  74: (40, 100),\n",
       "  75: (40, 100),\n",
       "  76: (40, 100),\n",
       "  77: (40, 100),\n",
       "  78: (40, 100),\n",
       "  79: (40, 100),\n",
       "  80: (40, 100),\n",
       "  81: (40, 100),\n",
       "  82: (40, 100),\n",
       "  83: (40, 100),\n",
       "  84: (40, 100),\n",
       "  85: (40, 100),\n",
       "  86: (40, 100),\n",
       "  87: (40, 100),\n",
       "  88: (40, 100),\n",
       "  89: (40, 100),\n",
       "  90: (40, 100),\n",
       "  91: (40, 100),\n",
       "  92: (40, 100),\n",
       "  93: (40, 100),\n",
       "  94: (40, 100),\n",
       "  95: (40, 100),\n",
       "  96: (40, 100),\n",
       "  97: (40, 100),\n",
       "  98: (40, 100),\n",
       "  99: (40, 100),\n",
       "  100: (40, 100),\n",
       "  101: (40, 100),\n",
       "  102: (40, 100),\n",
       "  103: (40, 100),\n",
       "  104: (40, 100),\n",
       "  105: (40, 100),\n",
       "  106: (40, 100),\n",
       "  107: (40, 100),\n",
       "  108: (40, 100),\n",
       "  109: (40, 100),\n",
       "  110: (40, 100),\n",
       "  111: (40, 100),\n",
       "  112: (40, 100),\n",
       "  113: (40, 100),\n",
       "  114: (40, 100),\n",
       "  115: (40, 100),\n",
       "  116: (40, 100),\n",
       "  117: (40, 100),\n",
       "  118: (40, 100),\n",
       "  119: (40, 100),\n",
       "  120: (40, 100)},\n",
       " 'EPS_STEP': 33,\n",
       " 'METRIC': 'euclidean'}"
      ]
     },
     "metadata": {},
     "output_type": "display_data"
    }
   ],
   "source": [
    "CLUSTERING_OPTIONS = {}\n",
    "\n",
    "# K_RANGE is the min_samples parameter in DBSCAN (sklearn)\n",
    "CLUSTERING_OPTIONS['K_RANGE'] = k_values\n",
    "CLUSTERING_OPTIONS['EPS_RANGE_PER_K'] = eps_range_per_k\n",
    "CLUSTERING_OPTIONS['EPS_STEP'] = 33\n",
    "CLUSTERING_OPTIONS['METRIC'] = 'euclidean'\n",
    "\n",
    "display(CLUSTERING_OPTIONS)"
   ]
  },
  {
   "cell_type": "code",
   "execution_count": 19,
   "metadata": {
    "execution": {
     "iopub.execute_input": "2020-12-02T17:44:32.018649Z",
     "iopub.status.busy": "2020-12-02T17:44:32.018276Z",
     "iopub.status.idle": "2020-12-02T17:44:32.043416Z",
     "shell.execute_reply": "2020-12-02T17:44:32.043024Z"
    },
    "papermill": {
     "duration": 0.049147,
     "end_time": "2020-12-02T17:44:32.043506",
     "exception": false,
     "start_time": "2020-12-02T17:44:31.994359",
     "status": "completed"
    },
    "tags": []
   },
   "outputs": [],
   "source": [
    "CLUSTERERS = {}\n",
    "\n",
    "idx = 0\n",
    "\n",
    "for k in CLUSTERING_OPTIONS['K_RANGE']:\n",
    "    eps_range = CLUSTERING_OPTIONS['EPS_RANGE_PER_K'][k]\n",
    "    eps_values = np.linspace(\n",
    "        eps_range[0],\n",
    "        eps_range[1],\n",
    "        CLUSTERING_OPTIONS['EPS_STEP']\n",
    "    )\n",
    "    \n",
    "    for eps in eps_values:\n",
    "        clus = DBSCAN(min_samples=k, eps=eps, metric='precomputed', n_jobs=N_JOBS)\n",
    "        \n",
    "        method_name = type(clus).__name__\n",
    "        CLUSTERERS[f'{method_name} #{idx}'] = clus\n",
    "        \n",
    "        idx = idx + 1"
   ]
  },
  {
   "cell_type": "code",
   "execution_count": 20,
   "metadata": {
    "execution": {
     "iopub.execute_input": "2020-12-02T17:44:32.088169Z",
     "iopub.status.busy": "2020-12-02T17:44:32.087801Z",
     "iopub.status.idle": "2020-12-02T17:44:32.100454Z",
     "shell.execute_reply": "2020-12-02T17:44:32.100072Z"
    },
    "papermill": {
     "duration": 0.035696,
     "end_time": "2020-12-02T17:44:32.100543",
     "exception": false,
     "start_time": "2020-12-02T17:44:32.064847",
     "status": "completed"
    },
    "tags": []
   },
   "outputs": [
    {
     "data": {
      "text/plain": [
       "3927"
      ]
     },
     "metadata": {},
     "output_type": "display_data"
    }
   ],
   "source": [
    "display(len(CLUSTERERS))"
   ]
  },
  {
   "cell_type": "code",
   "execution_count": 21,
   "metadata": {
    "execution": {
     "iopub.execute_input": "2020-12-02T17:44:32.146746Z",
     "iopub.status.busy": "2020-12-02T17:44:32.146375Z",
     "iopub.status.idle": "2020-12-02T17:44:32.160895Z",
     "shell.execute_reply": "2020-12-02T17:44:32.160481Z"
    },
    "papermill": {
     "duration": 0.038517,
     "end_time": "2020-12-02T17:44:32.160987",
     "exception": false,
     "start_time": "2020-12-02T17:44:32.122470",
     "status": "completed"
    },
    "tags": []
   },
   "outputs": [
    {
     "data": {
      "text/plain": [
       "('DBSCAN #0', DBSCAN(eps=40.0, metric='precomputed', min_samples=2, n_jobs=3))"
      ]
     },
     "metadata": {},
     "output_type": "display_data"
    },
    {
     "data": {
      "text/plain": [
       "('DBSCAN #1',\n",
       " DBSCAN(eps=41.875, metric='precomputed', min_samples=2, n_jobs=3))"
      ]
     },
     "metadata": {},
     "output_type": "display_data"
    }
   ],
   "source": [
    "_iter = iter(CLUSTERERS.items())\n",
    "display(next(_iter))\n",
    "display(next(_iter))"
   ]
  },
  {
   "cell_type": "code",
   "execution_count": 22,
   "metadata": {
    "execution": {
     "iopub.execute_input": "2020-12-02T17:44:32.207906Z",
     "iopub.status.busy": "2020-12-02T17:44:32.207542Z",
     "iopub.status.idle": "2020-12-02T17:44:32.220551Z",
     "shell.execute_reply": "2020-12-02T17:44:32.220171Z"
    },
    "papermill": {
     "duration": 0.03753,
     "end_time": "2020-12-02T17:44:32.220640",
     "exception": false,
     "start_time": "2020-12-02T17:44:32.183110",
     "status": "completed"
    },
    "tags": []
   },
   "outputs": [
    {
     "data": {
      "text/plain": [
       "'DBSCAN'"
      ]
     },
     "metadata": {},
     "output_type": "display_data"
    }
   ],
   "source": [
    "clustering_method_name = method_name\n",
    "display(clustering_method_name)"
   ]
  },
  {
   "cell_type": "markdown",
   "metadata": {
    "papermill": {
     "duration": 0.022205,
     "end_time": "2020-12-02T17:44:32.265966",
     "exception": false,
     "start_time": "2020-12-02T17:44:32.243761",
     "status": "completed"
    },
    "tags": []
   },
   "source": [
    "### Generate ensemble"
   ]
  },
  {
   "cell_type": "code",
   "execution_count": 23,
   "metadata": {
    "execution": {
     "iopub.execute_input": "2020-12-02T17:44:32.316046Z",
     "iopub.status.busy": "2020-12-02T17:44:32.315683Z",
     "iopub.status.idle": "2020-12-02T17:44:32.590934Z",
     "shell.execute_reply": "2020-12-02T17:44:32.590558Z"
    },
    "papermill": {
     "duration": 0.30126,
     "end_time": "2020-12-02T17:44:32.591018",
     "exception": false,
     "start_time": "2020-12-02T17:44:32.289758",
     "status": "completed"
    },
    "tags": []
   },
   "outputs": [],
   "source": [
    "data_dist = pairwise_distances(data, metric=CLUSTERING_OPTIONS['METRIC'])"
   ]
  },
  {
   "cell_type": "code",
   "execution_count": 24,
   "metadata": {
    "execution": {
     "iopub.execute_input": "2020-12-02T17:44:32.638252Z",
     "iopub.status.busy": "2020-12-02T17:44:32.637875Z",
     "iopub.status.idle": "2020-12-02T17:44:32.650640Z",
     "shell.execute_reply": "2020-12-02T17:44:32.650285Z"
    },
    "papermill": {
     "duration": 0.037104,
     "end_time": "2020-12-02T17:44:32.650729",
     "exception": false,
     "start_time": "2020-12-02T17:44:32.613625",
     "status": "completed"
    },
    "tags": []
   },
   "outputs": [
    {
     "data": {
      "text/plain": [
       "(3749, 3749)"
      ]
     },
     "execution_count": 24,
     "metadata": {},
     "output_type": "execute_result"
    }
   ],
   "source": [
    "data_dist.shape"
   ]
  },
  {
   "cell_type": "code",
   "execution_count": 25,
   "metadata": {
    "execution": {
     "iopub.execute_input": "2020-12-02T17:44:32.701115Z",
     "iopub.status.busy": "2020-12-02T17:44:32.700717Z",
     "iopub.status.idle": "2020-12-02T17:44:33.294654Z",
     "shell.execute_reply": "2020-12-02T17:44:33.294221Z"
    },
    "papermill": {
     "duration": 0.620062,
     "end_time": "2020-12-02T17:44:33.294754",
     "exception": false,
     "start_time": "2020-12-02T17:44:32.674692",
     "status": "completed"
    },
    "tags": []
   },
   "outputs": [
    {
     "data": {
      "text/plain": [
       "count            14055001.0\n",
       "mean     43.125402555794686\n",
       "std      10.686424216072133\n",
       "min                     0.0\n",
       "25%       38.79637836150824\n",
       "50%       39.83036155840883\n",
       "75%      42.045984035637254\n",
       "max       164.9804596623576\n",
       "dtype: object"
      ]
     },
     "execution_count": 25,
     "metadata": {},
     "output_type": "execute_result"
    }
   ],
   "source": [
    "pd.Series(data_dist.flatten()).describe().apply(str)"
   ]
  },
  {
   "cell_type": "code",
   "execution_count": 26,
   "metadata": {
    "execution": {
     "iopub.execute_input": "2020-12-02T17:44:33.344332Z",
     "iopub.status.busy": "2020-12-02T17:44:33.343958Z",
     "iopub.status.idle": "2020-12-02T17:57:09.494739Z",
     "shell.execute_reply": "2020-12-02T17:57:09.495053Z"
    },
    "papermill": {
     "duration": 756.176382,
     "end_time": "2020-12-02T17:57:09.495175",
     "exception": false,
     "start_time": "2020-12-02T17:44:33.318793",
     "status": "completed"
    },
    "tags": []
   },
   "outputs": [
    {
     "name": "stderr",
     "output_type": "stream",
     "text": [
      "100%|██████████| 3927/3927 [12:36<00:00,  5.19it/s]\n"
     ]
    }
   ],
   "source": [
    "ensemble = generate_ensemble(\n",
    "    data_dist,\n",
    "    CLUSTERERS,\n",
    "    attributes=CLUSTERING_ATTRIBUTES_TO_SAVE,\n",
    ")"
   ]
  },
  {
   "cell_type": "code",
   "execution_count": 27,
   "metadata": {
    "execution": {
     "iopub.execute_input": "2020-12-02T17:57:10.809989Z",
     "iopub.status.busy": "2020-12-02T17:57:10.809629Z",
     "iopub.status.idle": "2020-12-02T17:57:10.822271Z",
     "shell.execute_reply": "2020-12-02T17:57:10.822558Z"
    },
    "papermill": {
     "duration": 0.658594,
     "end_time": "2020-12-02T17:57:10.822672",
     "exception": false,
     "start_time": "2020-12-02T17:57:10.164078",
     "status": "completed"
    },
    "tags": []
   },
   "outputs": [
    {
     "data": {
      "text/plain": [
       "(262, 3)"
      ]
     },
     "execution_count": 27,
     "metadata": {},
     "output_type": "execute_result"
    }
   ],
   "source": [
    "# the number should be close to 295 (the number of partitions generated by k-means/spectral clustering)\n",
    "ensemble.shape"
   ]
  },
  {
   "cell_type": "code",
   "execution_count": 28,
   "metadata": {
    "execution": {
     "iopub.execute_input": "2020-12-02T17:57:12.097732Z",
     "iopub.status.busy": "2020-12-02T17:57:12.097359Z",
     "iopub.status.idle": "2020-12-02T17:57:12.117591Z",
     "shell.execute_reply": "2020-12-02T17:57:12.117251Z"
    },
    "papermill": {
     "duration": 0.658782,
     "end_time": "2020-12-02T17:57:12.117682",
     "exception": false,
     "start_time": "2020-12-02T17:57:11.458900",
     "status": "completed"
    },
    "tags": []
   },
   "outputs": [
    {
     "data": {
      "text/html": [
       "<div>\n",
       "<style scoped>\n",
       "    .dataframe tbody tr th:only-of-type {\n",
       "        vertical-align: middle;\n",
       "    }\n",
       "\n",
       "    .dataframe tbody tr th {\n",
       "        vertical-align: top;\n",
       "    }\n",
       "\n",
       "    .dataframe thead th {\n",
       "        text-align: right;\n",
       "    }\n",
       "</style>\n",
       "<table border=\"1\" class=\"dataframe\">\n",
       "  <thead>\n",
       "    <tr style=\"text-align: right;\">\n",
       "      <th></th>\n",
       "      <th>clusterer_params</th>\n",
       "      <th>partition</th>\n",
       "      <th>n_clusters</th>\n",
       "    </tr>\n",
       "    <tr>\n",
       "      <th>clusterer_id</th>\n",
       "      <th></th>\n",
       "      <th></th>\n",
       "      <th></th>\n",
       "    </tr>\n",
       "  </thead>\n",
       "  <tbody>\n",
       "    <tr>\n",
       "      <th>DBSCAN #0</th>\n",
       "      <td>{'algorithm': 'auto', 'eps': 40.0, 'leaf_size'...</td>\n",
       "      <td>[0.0, 0.0, 0.0, 0.0, 0.0, 0.0, 0.0, 0.0, 0.0, ...</td>\n",
       "      <td>43</td>\n",
       "    </tr>\n",
       "    <tr>\n",
       "      <th>DBSCAN #1</th>\n",
       "      <td>{'algorithm': 'auto', 'eps': 41.875, 'leaf_siz...</td>\n",
       "      <td>[0.0, 0.0, 0.0, 0.0, 0.0, 0.0, 0.0, 0.0, 0.0, ...</td>\n",
       "      <td>29</td>\n",
       "    </tr>\n",
       "    <tr>\n",
       "      <th>DBSCAN #2</th>\n",
       "      <td>{'algorithm': 'auto', 'eps': 43.75, 'leaf_size...</td>\n",
       "      <td>[0.0, 0.0, 0.0, 0.0, 0.0, 0.0, 0.0, 0.0, 0.0, ...</td>\n",
       "      <td>24</td>\n",
       "    </tr>\n",
       "    <tr>\n",
       "      <th>DBSCAN #3</th>\n",
       "      <td>{'algorithm': 'auto', 'eps': 45.625, 'leaf_siz...</td>\n",
       "      <td>[0.0, 0.0, 0.0, 0.0, 0.0, 0.0, 0.0, 0.0, 0.0, ...</td>\n",
       "      <td>21</td>\n",
       "    </tr>\n",
       "    <tr>\n",
       "      <th>DBSCAN #4</th>\n",
       "      <td>{'algorithm': 'auto', 'eps': 47.5, 'leaf_size'...</td>\n",
       "      <td>[0.0, 0.0, 0.0, 0.0, 0.0, 0.0, 0.0, 0.0, 0.0, ...</td>\n",
       "      <td>18</td>\n",
       "    </tr>\n",
       "  </tbody>\n",
       "</table>\n",
       "</div>"
      ],
      "text/plain": [
       "                                               clusterer_params  \\\n",
       "clusterer_id                                                      \n",
       "DBSCAN #0     {'algorithm': 'auto', 'eps': 40.0, 'leaf_size'...   \n",
       "DBSCAN #1     {'algorithm': 'auto', 'eps': 41.875, 'leaf_siz...   \n",
       "DBSCAN #2     {'algorithm': 'auto', 'eps': 43.75, 'leaf_size...   \n",
       "DBSCAN #3     {'algorithm': 'auto', 'eps': 45.625, 'leaf_siz...   \n",
       "DBSCAN #4     {'algorithm': 'auto', 'eps': 47.5, 'leaf_size'...   \n",
       "\n",
       "                                                      partition  n_clusters  \n",
       "clusterer_id                                                                 \n",
       "DBSCAN #0     [0.0, 0.0, 0.0, 0.0, 0.0, 0.0, 0.0, 0.0, 0.0, ...          43  \n",
       "DBSCAN #1     [0.0, 0.0, 0.0, 0.0, 0.0, 0.0, 0.0, 0.0, 0.0, ...          29  \n",
       "DBSCAN #2     [0.0, 0.0, 0.0, 0.0, 0.0, 0.0, 0.0, 0.0, 0.0, ...          24  \n",
       "DBSCAN #3     [0.0, 0.0, 0.0, 0.0, 0.0, 0.0, 0.0, 0.0, 0.0, ...          21  \n",
       "DBSCAN #4     [0.0, 0.0, 0.0, 0.0, 0.0, 0.0, 0.0, 0.0, 0.0, ...          18  "
      ]
     },
     "execution_count": 28,
     "metadata": {},
     "output_type": "execute_result"
    }
   ],
   "source": [
    "ensemble.head()"
   ]
  },
  {
   "cell_type": "code",
   "execution_count": 29,
   "metadata": {
    "execution": {
     "iopub.execute_input": "2020-12-02T17:57:13.405792Z",
     "iopub.status.busy": "2020-12-02T17:57:13.405417Z",
     "iopub.status.idle": "2020-12-02T17:57:13.418924Z",
     "shell.execute_reply": "2020-12-02T17:57:13.419220Z"
    },
    "papermill": {
     "duration": 0.656384,
     "end_time": "2020-12-02T17:57:13.419335",
     "exception": false,
     "start_time": "2020-12-02T17:57:12.762951",
     "status": "completed"
    },
    "tags": []
   },
   "outputs": [
    {
     "data": {
      "text/plain": [
       "2     173\n",
       "4      29\n",
       "3      12\n",
       "5      12\n",
       "10      5\n",
       "Name: n_clusters, dtype: int64"
      ]
     },
     "execution_count": 29,
     "metadata": {},
     "output_type": "execute_result"
    }
   ],
   "source": [
    "ensemble['n_clusters'].value_counts().head()"
   ]
  },
  {
   "cell_type": "code",
   "execution_count": 30,
   "metadata": {
    "execution": {
     "iopub.execute_input": "2020-12-02T17:57:14.723661Z",
     "iopub.status.busy": "2020-12-02T17:57:14.723284Z",
     "iopub.status.idle": "2020-12-02T17:57:14.737802Z",
     "shell.execute_reply": "2020-12-02T17:57:14.738113Z"
    },
    "papermill": {
     "duration": 0.654754,
     "end_time": "2020-12-02T17:57:14.738229",
     "exception": false,
     "start_time": "2020-12-02T17:57:14.083475",
     "status": "completed"
    },
    "tags": []
   },
   "outputs": [
    {
     "data": {
      "text/plain": [
       "count    262.000000\n",
       "mean       3.767176\n",
       "std        4.342077\n",
       "min        2.000000\n",
       "25%        2.000000\n",
       "50%        2.000000\n",
       "75%        4.000000\n",
       "max       43.000000\n",
       "Name: n_clusters, dtype: float64"
      ]
     },
     "metadata": {},
     "output_type": "display_data"
    }
   ],
   "source": [
    "ensemble_stats = ensemble['n_clusters'].describe()\n",
    "display(ensemble_stats)"
   ]
  },
  {
   "cell_type": "markdown",
   "metadata": {
    "papermill": {
     "duration": 0.637073,
     "end_time": "2020-12-02T17:57:16.015540",
     "exception": false,
     "start_time": "2020-12-02T17:57:15.378467",
     "status": "completed"
    },
    "tags": []
   },
   "source": [
    "### Testing"
   ]
  },
  {
   "cell_type": "code",
   "execution_count": 31,
   "metadata": {
    "execution": {
     "iopub.execute_input": "2020-12-02T17:57:17.302313Z",
     "iopub.status.busy": "2020-12-02T17:57:17.301951Z",
     "iopub.status.idle": "2020-12-02T17:57:17.314029Z",
     "shell.execute_reply": "2020-12-02T17:57:17.313675Z"
    },
    "papermill": {
     "duration": 0.65377,
     "end_time": "2020-12-02T17:57:17.314117",
     "exception": false,
     "start_time": "2020-12-02T17:57:16.660347",
     "status": "completed"
    },
    "tags": []
   },
   "outputs": [],
   "source": [
    "assert ensemble_stats['min'] > 1"
   ]
  },
  {
   "cell_type": "code",
   "execution_count": 32,
   "metadata": {
    "execution": {
     "iopub.execute_input": "2020-12-02T17:57:18.617638Z",
     "iopub.status.busy": "2020-12-02T17:57:18.617264Z",
     "iopub.status.idle": "2020-12-02T17:57:18.629318Z",
     "shell.execute_reply": "2020-12-02T17:57:18.628962Z"
    },
    "papermill": {
     "duration": 0.650564,
     "end_time": "2020-12-02T17:57:18.629410",
     "exception": false,
     "start_time": "2020-12-02T17:57:17.978846",
     "status": "completed"
    },
    "tags": []
   },
   "outputs": [],
   "source": [
    "assert not ensemble['n_clusters'].isna().any()"
   ]
  },
  {
   "cell_type": "code",
   "execution_count": 33,
   "metadata": {
    "execution": {
     "iopub.execute_input": "2020-12-02T17:57:19.907852Z",
     "iopub.status.busy": "2020-12-02T17:57:19.907490Z",
     "iopub.status.idle": "2020-12-02T17:57:19.919195Z",
     "shell.execute_reply": "2020-12-02T17:57:19.918849Z"
    },
    "papermill": {
     "duration": 0.654343,
     "end_time": "2020-12-02T17:57:19.919284",
     "exception": false,
     "start_time": "2020-12-02T17:57:19.264941",
     "status": "completed"
    },
    "tags": []
   },
   "outputs": [],
   "source": [
    "# assert ensemble.shape[0] == len(CLUSTERERS)"
   ]
  },
  {
   "cell_type": "code",
   "execution_count": 34,
   "metadata": {
    "execution": {
     "iopub.execute_input": "2020-12-02T17:57:21.228388Z",
     "iopub.status.busy": "2020-12-02T17:57:21.227981Z",
     "iopub.status.idle": "2020-12-02T17:57:21.258067Z",
     "shell.execute_reply": "2020-12-02T17:57:21.257680Z"
    },
    "papermill": {
     "duration": 0.696475,
     "end_time": "2020-12-02T17:57:21.258158",
     "exception": false,
     "start_time": "2020-12-02T17:57:20.561683",
     "status": "completed"
    },
    "tags": []
   },
   "outputs": [],
   "source": [
    "# all partitions have the right size\n",
    "assert np.all([\n",
    "    part['partition'].shape[0] == data.shape[0]\n",
    "    for idx, part in ensemble.iterrows()\n",
    "])"
   ]
  },
  {
   "cell_type": "code",
   "execution_count": 35,
   "metadata": {
    "execution": {
     "iopub.execute_input": "2020-12-02T17:57:22.544859Z",
     "iopub.status.busy": "2020-12-02T17:57:22.544448Z",
     "iopub.status.idle": "2020-12-02T17:57:22.574964Z",
     "shell.execute_reply": "2020-12-02T17:57:22.574574Z"
    },
    "papermill": {
     "duration": 0.671867,
     "end_time": "2020-12-02T17:57:22.575050",
     "exception": false,
     "start_time": "2020-12-02T17:57:21.903183",
     "status": "completed"
    },
    "tags": []
   },
   "outputs": [],
   "source": [
    "# no partition has negative clusters (noisy points)\n",
    "assert not np.any([\n",
    "    (part['partition'] < 0).any()\n",
    "    for idx, part in ensemble.iterrows()\n",
    "])"
   ]
  },
  {
   "cell_type": "markdown",
   "metadata": {
    "papermill": {
     "duration": 0.637183,
     "end_time": "2020-12-02T17:57:23.844820",
     "exception": false,
     "start_time": "2020-12-02T17:57:23.207637",
     "status": "completed"
    },
    "tags": []
   },
   "source": [
    "### Save"
   ]
  },
  {
   "cell_type": "code",
   "execution_count": 36,
   "metadata": {
    "execution": {
     "iopub.execute_input": "2020-12-02T17:57:25.145831Z",
     "iopub.status.busy": "2020-12-02T17:57:25.145445Z",
     "iopub.status.idle": "2020-12-02T17:57:25.158370Z",
     "shell.execute_reply": "2020-12-02T17:57:25.158666Z"
    },
    "papermill": {
     "duration": 0.677252,
     "end_time": "2020-12-02T17:57:25.158782",
     "exception": false,
     "start_time": "2020-12-02T17:57:24.481530",
     "status": "completed"
    },
    "tags": []
   },
   "outputs": [
    {
     "data": {
      "text/plain": [
       "PosixPath('/home/miltondp/projects/labs/greenelab/phenoplier/base/results/clustering/runs/z_score_std-projection-smultixcan-efo_partial-mashr-zscores/DBSCAN.pkl')"
      ]
     },
     "metadata": {},
     "output_type": "display_data"
    }
   ],
   "source": [
    "output_filename = Path(\n",
    "    RESULTS_DIR,\n",
    "    generate_result_set_name(\n",
    "        {},\n",
    "#         CLUSTERING_OPTIONS,\n",
    "        prefix=f'{clustering_method_name}',\n",
    "        suffix='.pkl',\n",
    "    )\n",
    ").resolve()\n",
    "display(output_filename)"
   ]
  },
  {
   "cell_type": "code",
   "execution_count": 37,
   "metadata": {
    "execution": {
     "iopub.execute_input": "2020-12-02T17:57:26.449256Z",
     "iopub.status.busy": "2020-12-02T17:57:26.448892Z",
     "iopub.status.idle": "2020-12-02T17:57:26.482747Z",
     "shell.execute_reply": "2020-12-02T17:57:26.483061Z"
    },
    "papermill": {
     "duration": 0.679475,
     "end_time": "2020-12-02T17:57:26.483185",
     "exception": false,
     "start_time": "2020-12-02T17:57:25.803710",
     "status": "completed"
    },
    "tags": []
   },
   "outputs": [],
   "source": [
    "ensemble.to_pickle(output_filename)"
   ]
  },
  {
   "cell_type": "code",
   "execution_count": null,
   "metadata": {
    "papermill": {
     "duration": 0.643884,
     "end_time": "2020-12-02T17:57:27.774541",
     "exception": false,
     "start_time": "2020-12-02T17:57:27.130657",
     "status": "completed"
    },
    "tags": []
   },
   "outputs": [],
   "source": []
  }
 ],
 "metadata": {
  "jupytext": {
   "formats": "ipynb,py//py:percent"
  },
  "kernelspec": {
   "display_name": "Python 3",
   "language": "python",
   "name": "python3"
  },
  "language_info": {
   "codemirror_mode": {
    "name": "ipython",
    "version": 3
   },
   "file_extension": ".py",
   "mimetype": "text/x-python",
   "name": "python",
   "nbconvert_exporter": "python",
   "pygments_lexer": "ipython3",
   "version": "3.8.6"
  },
  "papermill": {
   "default_parameters": {},
   "duration": 874.500663,
   "end_time": "2020-12-02T17:57:29.622542",
   "environment_variables": {},
   "exception": null,
   "input_path": "15_cluster_analysis/002_00-projection_smultixcan_efo-z_score_std-clustering_dbscan.ipynb",
   "output_path": "15_cluster_analysis/002_00-projection_smultixcan_efo-z_score_std-clustering_dbscan.run.ipynb",
   "parameters": {},
   "start_time": "2020-12-02T17:42:55.121879",
   "version": "2.2.2"
  },
  "toc-autonumbering": true,
  "toc-showcode": false,
  "toc-showmarkdowntxt": false,
  "toc-showtags": false
 },
 "nbformat": 4,
 "nbformat_minor": 4
}
