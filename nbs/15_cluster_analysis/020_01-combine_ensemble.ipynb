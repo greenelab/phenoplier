{
 "cells": [
  {
   "cell_type": "markdown",
   "metadata": {
    "papermill": {
     "duration": 0.014907,
     "end_time": "2021-01-06T18:08:32.919010",
     "exception": false,
     "start_time": "2021-01-06T18:08:32.904103",
     "status": "completed"
    },
    "tags": []
   },
   "source": [
    "# Description"
   ]
  },
  {
   "cell_type": "markdown",
   "metadata": {
    "papermill": {
     "duration": 0.011616,
     "end_time": "2021-01-06T18:08:32.941581",
     "exception": false,
     "start_time": "2021-01-06T18:08:32.929965",
     "status": "completed"
    },
    "tags": []
   },
   "source": [
    "It combines all clustering solutions generated into a single consolidated solution using consensus clustering."
   ]
  },
  {
   "cell_type": "markdown",
   "metadata": {
    "papermill": {
     "duration": 0.01074,
     "end_time": "2021-01-06T18:08:32.963119",
     "exception": false,
     "start_time": "2021-01-06T18:08:32.952379",
     "status": "completed"
    },
    "tags": []
   },
   "source": [
    "# Environment variables"
   ]
  },
  {
   "cell_type": "code",
   "execution_count": 1,
   "metadata": {
    "execution": {
     "iopub.execute_input": "2021-01-06T18:08:32.992305Z",
     "iopub.status.busy": "2021-01-06T18:08:32.991756Z",
     "iopub.status.idle": "2021-01-06T18:08:32.994959Z",
     "shell.execute_reply": "2021-01-06T18:08:32.994537Z"
    },
    "papermill": {
     "duration": 0.020808,
     "end_time": "2021-01-06T18:08:32.995080",
     "exception": false,
     "start_time": "2021-01-06T18:08:32.974272",
     "status": "completed"
    },
    "tags": []
   },
   "outputs": [
    {
     "data": {
      "text/plain": [
       "1"
      ]
     },
     "metadata": {},
     "output_type": "display_data"
    }
   ],
   "source": [
    "from IPython.display import display\n",
    "\n",
    "# set numpy n_jobs to 1, since I'll be using n_jobs later\n",
    "NUMPY_N_JOBS = 1\n",
    "display(NUMPY_N_JOBS)"
   ]
  },
  {
   "cell_type": "code",
   "execution_count": 2,
   "metadata": {
    "execution": {
     "iopub.execute_input": "2021-01-06T18:08:33.022982Z",
     "iopub.status.busy": "2021-01-06T18:08:33.022585Z",
     "iopub.status.idle": "2021-01-06T18:08:33.024885Z",
     "shell.execute_reply": "2021-01-06T18:08:33.024513Z"
    },
    "papermill": {
     "duration": 0.01801,
     "end_time": "2021-01-06T18:08:33.024973",
     "exception": false,
     "start_time": "2021-01-06T18:08:33.006963",
     "status": "completed"
    },
    "tags": []
   },
   "outputs": [
    {
     "name": "stdout",
     "output_type": "stream",
     "text": [
      "env: MKL_NUM_THREADS=1\n",
      "env: OPEN_BLAS_NUM_THREADS=1\n",
      "env: NUMEXPR_NUM_THREADS=1\n",
      "env: OMP_NUM_THREADS=1\n"
     ]
    }
   ],
   "source": [
    "%env MKL_NUM_THREADS=$NUMPY_N_JOBS\n",
    "%env OPEN_BLAS_NUM_THREADS=$NUMPY_N_JOBS\n",
    "%env NUMEXPR_NUM_THREADS=$NUMPY_N_JOBS\n",
    "%env OMP_NUM_THREADS=$NUMPY_N_JOBS"
   ]
  },
  {
   "cell_type": "markdown",
   "metadata": {
    "papermill": {
     "duration": 0.011154,
     "end_time": "2021-01-06T18:08:33.048088",
     "exception": false,
     "start_time": "2021-01-06T18:08:33.036934",
     "status": "completed"
    },
    "tags": []
   },
   "source": [
    "# Modules loading"
   ]
  },
  {
   "cell_type": "code",
   "execution_count": 3,
   "metadata": {
    "execution": {
     "iopub.execute_input": "2021-01-06T18:08:33.073905Z",
     "iopub.status.busy": "2021-01-06T18:08:33.073534Z",
     "iopub.status.idle": "2021-01-06T18:08:33.081526Z",
     "shell.execute_reply": "2021-01-06T18:08:33.081210Z"
    },
    "papermill": {
     "duration": 0.022207,
     "end_time": "2021-01-06T18:08:33.081611",
     "exception": false,
     "start_time": "2021-01-06T18:08:33.059404",
     "status": "completed"
    },
    "tags": []
   },
   "outputs": [],
   "source": [
    "%load_ext autoreload\n",
    "%autoreload 2"
   ]
  },
  {
   "cell_type": "code",
   "execution_count": 4,
   "metadata": {
    "execution": {
     "iopub.execute_input": "2021-01-06T18:08:33.107673Z",
     "iopub.status.busy": "2021-01-06T18:08:33.107296Z",
     "iopub.status.idle": "2021-01-06T18:08:33.279268Z",
     "shell.execute_reply": "2021-01-06T18:08:33.278941Z"
    },
    "papermill": {
     "duration": 0.185905,
     "end_time": "2021-01-06T18:08:33.279362",
     "exception": false,
     "start_time": "2021-01-06T18:08:33.093457",
     "status": "completed"
    },
    "tags": []
   },
   "outputs": [],
   "source": [
    "from pathlib import Path\n",
    "\n",
    "import numpy as np\n",
    "import pandas as pd\n",
    "\n",
    "import conf"
   ]
  },
  {
   "cell_type": "markdown",
   "metadata": {
    "papermill": {
     "duration": 0.011262,
     "end_time": "2021-01-06T18:08:33.302648",
     "exception": false,
     "start_time": "2021-01-06T18:08:33.291386",
     "status": "completed"
    },
    "tags": []
   },
   "source": [
    "# Settings"
   ]
  },
  {
   "cell_type": "code",
   "execution_count": 5,
   "metadata": {
    "execution": {
     "iopub.execute_input": "2021-01-06T18:08:33.328682Z",
     "iopub.status.busy": "2021-01-06T18:08:33.328315Z",
     "iopub.status.idle": "2021-01-06T18:08:33.335886Z",
     "shell.execute_reply": "2021-01-06T18:08:33.335505Z"
    },
    "papermill": {
     "duration": 0.021881,
     "end_time": "2021-01-06T18:08:33.335974",
     "exception": false,
     "start_time": "2021-01-06T18:08:33.314093",
     "status": "completed"
    },
    "tags": []
   },
   "outputs": [],
   "source": [
    "RANDOM_GENERATOR = np.random.default_rng(12345)"
   ]
  },
  {
   "cell_type": "markdown",
   "metadata": {
    "papermill": {
     "duration": 0.011343,
     "end_time": "2021-01-06T18:08:33.359163",
     "exception": false,
     "start_time": "2021-01-06T18:08:33.347820",
     "status": "completed"
    },
    "tags": []
   },
   "source": [
    "## Ensemble size"
   ]
  },
  {
   "cell_type": "code",
   "execution_count": 6,
   "metadata": {
    "execution": {
     "iopub.execute_input": "2021-01-06T18:08:33.384656Z",
     "iopub.status.busy": "2021-01-06T18:08:33.384286Z",
     "iopub.status.idle": "2021-01-06T18:08:33.391710Z",
     "shell.execute_reply": "2021-01-06T18:08:33.391331Z"
    },
    "papermill": {
     "duration": 0.021333,
     "end_time": "2021-01-06T18:08:33.391796",
     "exception": false,
     "start_time": "2021-01-06T18:08:33.370463",
     "status": "completed"
    },
    "tags": []
   },
   "outputs": [],
   "source": [
    "EXPECTED_ENSEMBLE_SIZE = 295\n",
    "\n",
    "MIN_ENSEMBLE_SIZE = 290\n",
    "MAX_ENSEMBLE_SIZE = 300"
   ]
  },
  {
   "cell_type": "markdown",
   "metadata": {
    "papermill": {
     "duration": 0.011342,
     "end_time": "2021-01-06T18:08:33.414750",
     "exception": false,
     "start_time": "2021-01-06T18:08:33.403408",
     "status": "completed"
    },
    "tags": []
   },
   "source": [
    "## Consensus clustering"
   ]
  },
  {
   "cell_type": "code",
   "execution_count": 7,
   "metadata": {
    "execution": {
     "iopub.execute_input": "2021-01-06T18:08:33.440126Z",
     "iopub.status.busy": "2021-01-06T18:08:33.439748Z",
     "iopub.status.idle": "2021-01-06T18:08:33.448338Z",
     "shell.execute_reply": "2021-01-06T18:08:33.447960Z"
    },
    "papermill": {
     "duration": 0.022254,
     "end_time": "2021-01-06T18:08:33.448424",
     "exception": false,
     "start_time": "2021-01-06T18:08:33.426170",
     "status": "completed"
    },
    "tags": []
   },
   "outputs": [
    {
     "data": {
      "text/plain": [
       "{'K_MIN': 2, 'K_MAX': 40}"
      ]
     },
     "metadata": {},
     "output_type": "display_data"
    }
   ],
   "source": [
    "CLUSTERING_OPTIONS = {}\n",
    "\n",
    "CLUSTERING_OPTIONS[\"K_MIN\"] = 2\n",
    "CLUSTERING_OPTIONS[\"K_MAX\"] = 40\n",
    "\n",
    "display(CLUSTERING_OPTIONS)"
   ]
  },
  {
   "cell_type": "code",
   "execution_count": 8,
   "metadata": {
    "execution": {
     "iopub.execute_input": "2021-01-06T18:08:33.475352Z",
     "iopub.status.busy": "2021-01-06T18:08:33.474992Z",
     "iopub.status.idle": "2021-01-06T18:08:33.483497Z",
     "shell.execute_reply": "2021-01-06T18:08:33.483122Z"
    },
    "papermill": {
     "duration": 0.023058,
     "end_time": "2021-01-06T18:08:33.483583",
     "exception": false,
     "start_time": "2021-01-06T18:08:33.460525",
     "status": "completed"
    },
    "tags": []
   },
   "outputs": [
    {
     "data": {
      "text/plain": [
       "PosixPath('/home/miltondp/projects/labs/greenelab/phenoplier/base3/results/clustering/consensus_clustering')"
      ]
     },
     "metadata": {},
     "output_type": "display_data"
    }
   ],
   "source": [
    "# output dir for this notebook\n",
    "RESULTS_DIR = Path(conf.RESULTS[\"CLUSTERING_DIR\"], \"consensus_clustering\").resolve()\n",
    "RESULTS_DIR.mkdir(parents=True, exist_ok=True)\n",
    "\n",
    "display(RESULTS_DIR)"
   ]
  },
  {
   "cell_type": "markdown",
   "metadata": {
    "papermill": {
     "duration": 0.011987,
     "end_time": "2021-01-06T18:08:33.507797",
     "exception": false,
     "start_time": "2021-01-06T18:08:33.495810",
     "status": "completed"
    },
    "tags": []
   },
   "source": [
    "# Get ensemble"
   ]
  },
  {
   "cell_type": "code",
   "execution_count": 9,
   "metadata": {
    "execution": {
     "iopub.execute_input": "2021-01-06T18:08:33.533911Z",
     "iopub.status.busy": "2021-01-06T18:08:33.533551Z",
     "iopub.status.idle": "2021-01-06T18:08:33.541862Z",
     "shell.execute_reply": "2021-01-06T18:08:33.541549Z"
    },
    "papermill": {
     "duration": 0.022423,
     "end_time": "2021-01-06T18:08:33.541946",
     "exception": false,
     "start_time": "2021-01-06T18:08:33.519523",
     "status": "completed"
    },
    "tags": []
   },
   "outputs": [
    {
     "data": {
      "text/plain": [
       "PosixPath('/home/miltondp/projects/labs/greenelab/phenoplier/base3/results/clustering/consensus_clustering/ensemble.npy')"
      ]
     },
     "metadata": {},
     "output_type": "display_data"
    }
   ],
   "source": [
    "output_file = Path(RESULTS_DIR, \"ensemble.npy\").resolve()\n",
    "display(output_file)"
   ]
  },
  {
   "cell_type": "code",
   "execution_count": 10,
   "metadata": {
    "execution": {
     "iopub.execute_input": "2021-01-06T18:08:33.571568Z",
     "iopub.status.busy": "2021-01-06T18:08:33.571162Z",
     "iopub.status.idle": "2021-01-06T18:08:33.608084Z",
     "shell.execute_reply": "2021-01-06T18:08:33.607643Z"
    },
    "papermill": {
     "duration": 0.053824,
     "end_time": "2021-01-06T18:08:33.608192",
     "exception": false,
     "start_time": "2021-01-06T18:08:33.554368",
     "status": "completed"
    },
    "tags": []
   },
   "outputs": [],
   "source": [
    "full_ensemble = np.load(output_file)"
   ]
  },
  {
   "cell_type": "code",
   "execution_count": 11,
   "metadata": {
    "execution": {
     "iopub.execute_input": "2021-01-06T18:08:33.641149Z",
     "iopub.status.busy": "2021-01-06T18:08:33.640739Z",
     "iopub.status.idle": "2021-01-06T18:08:33.648901Z",
     "shell.execute_reply": "2021-01-06T18:08:33.649212Z"
    },
    "papermill": {
     "duration": 0.025221,
     "end_time": "2021-01-06T18:08:33.649327",
     "exception": false,
     "start_time": "2021-01-06T18:08:33.624106",
     "status": "completed"
    },
    "tags": []
   },
   "outputs": [
    {
     "data": {
      "text/plain": [
       "(4428, 3749)"
      ]
     },
     "metadata": {},
     "output_type": "display_data"
    }
   ],
   "source": [
    "display(full_ensemble.shape)"
   ]
  },
  {
   "cell_type": "markdown",
   "metadata": {
    "papermill": {
     "duration": 0.013861,
     "end_time": "2021-01-06T18:08:33.677215",
     "exception": false,
     "start_time": "2021-01-06T18:08:33.663354",
     "status": "completed"
    },
    "tags": []
   },
   "source": [
    "# Get ensemble coassociation distance matrix"
   ]
  },
  {
   "cell_type": "code",
   "execution_count": 12,
   "metadata": {
    "execution": {
     "iopub.execute_input": "2021-01-06T18:08:33.704948Z",
     "iopub.status.busy": "2021-01-06T18:08:33.704528Z",
     "iopub.status.idle": "2021-01-06T18:08:33.713064Z",
     "shell.execute_reply": "2021-01-06T18:08:33.712647Z"
    },
    "papermill": {
     "duration": 0.023294,
     "end_time": "2021-01-06T18:08:33.713148",
     "exception": false,
     "start_time": "2021-01-06T18:08:33.689854",
     "status": "completed"
    },
    "tags": []
   },
   "outputs": [
    {
     "data": {
      "text/plain": [
       "PosixPath('/home/miltondp/projects/labs/greenelab/phenoplier/base3/results/clustering/consensus_clustering/ensemble_coassoc_matrix.npy')"
      ]
     },
     "metadata": {},
     "output_type": "display_data"
    }
   ],
   "source": [
    "output_file = Path(RESULTS_DIR, \"ensemble_coassoc_matrix.npy\").resolve()\n",
    "display(output_file)"
   ]
  },
  {
   "cell_type": "code",
   "execution_count": 13,
   "metadata": {
    "execution": {
     "iopub.execute_input": "2021-01-06T18:08:33.741064Z",
     "iopub.status.busy": "2021-01-06T18:08:33.740648Z",
     "iopub.status.idle": "2021-01-06T18:08:33.772680Z",
     "shell.execute_reply": "2021-01-06T18:08:33.772196Z"
    },
    "papermill": {
     "duration": 0.046839,
     "end_time": "2021-01-06T18:08:33.772795",
     "exception": false,
     "start_time": "2021-01-06T18:08:33.725956",
     "status": "completed"
    },
    "tags": []
   },
   "outputs": [],
   "source": [
    "ensemble_coassoc_matrix = np.load(output_file)"
   ]
  },
  {
   "cell_type": "code",
   "execution_count": 14,
   "metadata": {
    "execution": {
     "iopub.execute_input": "2021-01-06T18:08:33.805946Z",
     "iopub.status.busy": "2021-01-06T18:08:33.805560Z",
     "iopub.status.idle": "2021-01-06T18:08:33.813693Z",
     "shell.execute_reply": "2021-01-06T18:08:33.813297Z"
    },
    "papermill": {
     "duration": 0.025255,
     "end_time": "2021-01-06T18:08:33.813783",
     "exception": false,
     "start_time": "2021-01-06T18:08:33.788528",
     "status": "completed"
    },
    "tags": []
   },
   "outputs": [
    {
     "data": {
      "text/plain": [
       "(3749, 3749)"
      ]
     },
     "metadata": {},
     "output_type": "display_data"
    }
   ],
   "source": [
    "display(ensemble_coassoc_matrix.shape)"
   ]
  },
  {
   "cell_type": "code",
   "execution_count": 15,
   "metadata": {
    "execution": {
     "iopub.execute_input": "2021-01-06T18:08:33.844087Z",
     "iopub.status.busy": "2021-01-06T18:08:33.843695Z",
     "iopub.status.idle": "2021-01-06T18:08:33.852589Z",
     "shell.execute_reply": "2021-01-06T18:08:33.852190Z"
    },
    "papermill": {
     "duration": 0.024706,
     "end_time": "2021-01-06T18:08:33.852680",
     "exception": false,
     "start_time": "2021-01-06T18:08:33.827974",
     "status": "completed"
    },
    "tags": []
   },
   "outputs": [
    {
     "data": {
      "text/plain": [
       "array([[0.        , 0.05004529, 0.04868659, ..., 0.62794384, 0.66445714,\n",
       "        0.67006341],\n",
       "       [0.05004529, 0.        , 0.02241848, ..., 0.62771739, 0.66514286,\n",
       "        0.66779891],\n",
       "       [0.04868659, 0.02241848, 0.        , ..., 0.62703804, 0.66285714,\n",
       "        0.66530797],\n",
       "       ...,\n",
       "       [0.62794384, 0.62771739, 0.62703804, ..., 0.        , 0.59288808,\n",
       "        0.66282746],\n",
       "       [0.66445714, 0.66514286, 0.66285714, ..., 0.59288808, 0.        ,\n",
       "        0.6127194 ],\n",
       "       [0.67006341, 0.66779891, 0.66530797, ..., 0.66282746, 0.6127194 ,\n",
       "        0.        ]])"
      ]
     },
     "metadata": {},
     "output_type": "display_data"
    }
   ],
   "source": [
    "display(ensemble_coassoc_matrix)"
   ]
  },
  {
   "cell_type": "markdown",
   "metadata": {
    "papermill": {
     "duration": 0.014014,
     "end_time": "2021-01-06T18:08:33.881034",
     "exception": false,
     "start_time": "2021-01-06T18:08:33.867020",
     "status": "completed"
    },
    "tags": []
   },
   "source": [
    "# Consensus clustering"
   ]
  },
  {
   "cell_type": "code",
   "execution_count": 16,
   "metadata": {
    "execution": {
     "iopub.execute_input": "2021-01-06T18:08:33.909440Z",
     "iopub.status.busy": "2021-01-06T18:08:33.909068Z",
     "iopub.status.idle": "2021-01-06T18:08:34.232751Z",
     "shell.execute_reply": "2021-01-06T18:08:34.232325Z"
    },
    "papermill": {
     "duration": 0.339003,
     "end_time": "2021-01-06T18:08:34.232866",
     "exception": false,
     "start_time": "2021-01-06T18:08:33.893863",
     "status": "completed"
    },
    "tags": []
   },
   "outputs": [],
   "source": [
    "from concurrent.futures import ProcessPoolExecutor, as_completed\n",
    "\n",
    "from tqdm import tqdm\n",
    "\n",
    "from clustering.ensemble import (\n",
    "    eac_single_coassoc_matrix,\n",
    "    eac_complete_coassoc_matrix,\n",
    "    eac_average_coassoc_matrix,\n",
    "    run_method_and_compute_agreement,\n",
    ")"
   ]
  },
  {
   "cell_type": "code",
   "execution_count": 17,
   "metadata": {
    "execution": {
     "iopub.execute_input": "2021-01-06T18:08:34.262538Z",
     "iopub.status.busy": "2021-01-06T18:08:34.262164Z",
     "iopub.status.idle": "2021-01-06T18:08:34.272809Z",
     "shell.execute_reply": "2021-01-06T18:08:34.273121Z"
    },
    "papermill": {
     "duration": 0.026826,
     "end_time": "2021-01-06T18:08:34.273247",
     "exception": false,
     "start_time": "2021-01-06T18:08:34.246421",
     "status": "completed"
    },
    "tags": []
   },
   "outputs": [
    {
     "data": {
      "text/plain": [
       "{<function clustering.ensemble.eac_average_coassoc_matrix(coassoc_matrix, k)>,\n",
       " <function clustering.ensemble.eac_complete_coassoc_matrix(coassoc_matrix, k)>,\n",
       " <function clustering.ensemble.eac_single_coassoc_matrix(coassoc_matrix, k)>}"
      ]
     },
     "metadata": {},
     "output_type": "display_data"
    }
   ],
   "source": [
    "all_consensus_methods = set(\n",
    "    (\n",
    "        eac_single_coassoc_matrix,\n",
    "        eac_complete_coassoc_matrix,\n",
    "        eac_average_coassoc_matrix,\n",
    "    )\n",
    ")\n",
    "display(all_consensus_methods)"
   ]
  },
  {
   "cell_type": "code",
   "execution_count": 18,
   "metadata": {
    "execution": {
     "iopub.execute_input": "2021-01-06T18:08:34.304854Z",
     "iopub.status.busy": "2021-01-06T18:08:34.304423Z",
     "iopub.status.idle": "2021-01-06T18:30:36.325670Z",
     "shell.execute_reply": "2021-01-06T18:30:36.324858Z"
    },
    "papermill": {
     "duration": 1322.038163,
     "end_time": "2021-01-06T18:30:36.325753",
     "exception": false,
     "start_time": "2021-01-06T18:08:34.287590",
     "status": "completed"
    },
    "tags": []
   },
   "outputs": [
    {
     "name": "stderr",
     "output_type": "stream",
     "text": [
      "\r",
      "  0%|                                                                       | 0/117 [00:00<?, ?it/s]"
     ]
    },
    {
     "name": "stderr",
     "output_type": "stream",
     "text": [
      "\r",
      "  1%|▌                                                              | 1/117 [00:23<45:43, 23.65s/it]"
     ]
    },
    {
     "name": "stderr",
     "output_type": "stream",
     "text": [
      "\r",
      "  2%|█                                                              | 2/117 [00:24<32:25, 16.92s/it]"
     ]
    },
    {
     "name": "stderr",
     "output_type": "stream",
     "text": [
      "\r",
      "  3%|█▌                                                             | 3/117 [00:26<23:25, 12.33s/it]"
     ]
    },
    {
     "name": "stderr",
     "output_type": "stream",
     "text": [
      "\r",
      "  3%|██▏                                                            | 4/117 [00:49<29:12, 15.51s/it]"
     ]
    },
    {
     "name": "stderr",
     "output_type": "stream",
     "text": [
      "\r",
      "  4%|██▋                                                            | 5/117 [00:52<21:54, 11.73s/it]"
     ]
    },
    {
     "name": "stderr",
     "output_type": "stream",
     "text": [
      "\r",
      "  5%|███▏                                                           | 6/117 [00:54<16:18,  8.82s/it]"
     ]
    },
    {
     "name": "stderr",
     "output_type": "stream",
     "text": [
      "\r",
      "  6%|███▊                                                           | 7/117 [01:17<24:13, 13.22s/it]"
     ]
    },
    {
     "name": "stderr",
     "output_type": "stream",
     "text": [
      "\r",
      "  7%|████▎                                                          | 8/117 [01:21<18:40, 10.28s/it]"
     ]
    },
    {
     "name": "stderr",
     "output_type": "stream",
     "text": [
      "\r",
      "  8%|████▊                                                          | 9/117 [01:23<14:12,  7.89s/it]"
     ]
    },
    {
     "name": "stderr",
     "output_type": "stream",
     "text": [
      "\r",
      "  9%|█████▎                                                        | 10/117 [01:47<22:52, 12.83s/it]"
     ]
    },
    {
     "name": "stderr",
     "output_type": "stream",
     "text": [
      "\r",
      "  9%|█████▊                                                        | 11/117 [01:51<17:50, 10.10s/it]"
     ]
    },
    {
     "name": "stderr",
     "output_type": "stream",
     "text": [
      "\r",
      " 10%|██████▎                                                       | 12/117 [01:54<13:58,  7.99s/it]"
     ]
    },
    {
     "name": "stderr",
     "output_type": "stream",
     "text": [
      "\r",
      " 11%|██████▉                                                       | 13/117 [02:19<22:28, 12.96s/it]"
     ]
    },
    {
     "name": "stderr",
     "output_type": "stream",
     "text": [
      "\r",
      " 12%|███████▍                                                      | 14/117 [02:23<17:50, 10.39s/it]"
     ]
    },
    {
     "name": "stderr",
     "output_type": "stream",
     "text": [
      "\r",
      " 13%|███████▉                                                      | 15/117 [02:27<14:09,  8.32s/it]"
     ]
    },
    {
     "name": "stderr",
     "output_type": "stream",
     "text": [
      "\r",
      " 14%|████████▍                                                     | 16/117 [02:52<22:34, 13.41s/it]"
     ]
    },
    {
     "name": "stderr",
     "output_type": "stream",
     "text": [
      "\r",
      " 15%|█████████                                                     | 17/117 [02:57<17:56, 10.77s/it]"
     ]
    },
    {
     "name": "stderr",
     "output_type": "stream",
     "text": [
      "\r",
      " 15%|█████████▌                                                    | 18/117 [03:00<14:21,  8.71s/it]"
     ]
    },
    {
     "name": "stderr",
     "output_type": "stream",
     "text": [
      "\r",
      " 16%|██████████                                                    | 19/117 [03:26<22:28, 13.76s/it]"
     ]
    },
    {
     "name": "stderr",
     "output_type": "stream",
     "text": [
      "\r",
      " 17%|██████████▌                                                   | 20/117 [03:31<18:03, 11.17s/it]"
     ]
    },
    {
     "name": "stderr",
     "output_type": "stream",
     "text": [
      "\r",
      " 18%|███████████▏                                                  | 21/117 [03:35<14:31,  9.08s/it]"
     ]
    },
    {
     "name": "stderr",
     "output_type": "stream",
     "text": [
      "\r",
      " 19%|███████████▋                                                  | 22/117 [04:01<22:18, 14.09s/it]"
     ]
    },
    {
     "name": "stderr",
     "output_type": "stream",
     "text": [
      "\r",
      " 20%|████████████▏                                                 | 23/117 [04:07<18:12, 11.62s/it]"
     ]
    },
    {
     "name": "stderr",
     "output_type": "stream",
     "text": [
      "\r",
      " 21%|████████████▋                                                 | 24/117 [04:12<14:44,  9.51s/it]"
     ]
    },
    {
     "name": "stderr",
     "output_type": "stream",
     "text": [
      "\r",
      " 21%|█████████████▏                                                | 25/117 [04:38<22:11, 14.48s/it]"
     ]
    },
    {
     "name": "stderr",
     "output_type": "stream",
     "text": [
      "\r",
      " 22%|█████████████▊                                                | 26/117 [04:44<18:13, 12.02s/it]"
     ]
    },
    {
     "name": "stderr",
     "output_type": "stream",
     "text": [
      "\r",
      " 23%|██████████████▎                                               | 27/117 [04:49<14:44,  9.83s/it]"
     ]
    },
    {
     "name": "stderr",
     "output_type": "stream",
     "text": [
      "\r",
      " 24%|██████████████▊                                               | 28/117 [05:16<22:30, 15.17s/it]"
     ]
    },
    {
     "name": "stderr",
     "output_type": "stream",
     "text": [
      "\r",
      " 25%|███████████████▎                                              | 29/117 [05:23<18:31, 12.63s/it]"
     ]
    },
    {
     "name": "stderr",
     "output_type": "stream",
     "text": [
      "\r",
      " 26%|███████████████▉                                              | 30/117 [05:28<14:52, 10.25s/it]"
     ]
    },
    {
     "name": "stderr",
     "output_type": "stream",
     "text": [
      "\r",
      " 26%|████████████████▍                                             | 31/117 [05:56<22:20, 15.58s/it]"
     ]
    },
    {
     "name": "stderr",
     "output_type": "stream",
     "text": [
      "\r",
      " 27%|████████████████▉                                             | 32/117 [06:03<18:26, 13.02s/it]"
     ]
    },
    {
     "name": "stderr",
     "output_type": "stream",
     "text": [
      "\r",
      " 28%|█████████████████▍                                            | 33/117 [06:08<14:50, 10.60s/it]"
     ]
    },
    {
     "name": "stderr",
     "output_type": "stream",
     "text": [
      "\r",
      " 29%|██████████████████                                            | 34/117 [06:36<22:03, 15.95s/it]"
     ]
    },
    {
     "name": "stderr",
     "output_type": "stream",
     "text": [
      "\r",
      " 30%|██████████████████▌                                           | 35/117 [06:43<18:16, 13.37s/it]"
     ]
    },
    {
     "name": "stderr",
     "output_type": "stream",
     "text": [
      "\r",
      " 31%|███████████████████                                           | 36/117 [06:49<14:46, 10.94s/it]"
     ]
    },
    {
     "name": "stderr",
     "output_type": "stream",
     "text": [
      "\r",
      " 32%|███████████████████▌                                          | 37/117 [07:18<21:48, 16.35s/it]"
     ]
    },
    {
     "name": "stderr",
     "output_type": "stream",
     "text": [
      "\r",
      " 32%|████████████████████▏                                         | 38/117 [07:25<18:03, 13.71s/it]"
     ]
    },
    {
     "name": "stderr",
     "output_type": "stream",
     "text": [
      "\r",
      " 33%|████████████████████▋                                         | 39/117 [07:31<14:37, 11.25s/it]"
     ]
    },
    {
     "name": "stderr",
     "output_type": "stream",
     "text": [
      "\r",
      " 34%|█████████████████████▏                                        | 40/117 [07:40<13:45, 10.73s/it]"
     ]
    },
    {
     "name": "stderr",
     "output_type": "stream",
     "text": [
      "\r",
      " 35%|█████████████████████▋                                        | 41/117 [07:48<12:34,  9.93s/it]"
     ]
    },
    {
     "name": "stderr",
     "output_type": "stream",
     "text": [
      "\r",
      " 36%|██████████████████████▎                                       | 42/117 [07:55<11:11,  8.96s/it]"
     ]
    },
    {
     "name": "stderr",
     "output_type": "stream",
     "text": [
      "\r",
      " 37%|██████████████████████▊                                       | 43/117 [08:05<11:26,  9.28s/it]"
     ]
    },
    {
     "name": "stderr",
     "output_type": "stream",
     "text": [
      "\r",
      " 38%|███████████████████████▎                                      | 44/117 [08:14<10:59,  9.03s/it]"
     ]
    },
    {
     "name": "stderr",
     "output_type": "stream",
     "text": [
      "\r",
      " 38%|███████████████████████▊                                      | 45/117 [08:21<10:07,  8.44s/it]"
     ]
    },
    {
     "name": "stderr",
     "output_type": "stream",
     "text": [
      "\r",
      " 39%|████████████████████████▍                                     | 46/117 [08:31<10:43,  9.07s/it]"
     ]
    },
    {
     "name": "stderr",
     "output_type": "stream",
     "text": [
      "\r",
      " 40%|████████████████████████▉                                     | 47/117 [08:40<10:29,  9.00s/it]"
     ]
    },
    {
     "name": "stderr",
     "output_type": "stream",
     "text": [
      "\r",
      " 41%|█████████████████████████▍                                    | 48/117 [08:48<09:54,  8.61s/it]"
     ]
    },
    {
     "name": "stderr",
     "output_type": "stream",
     "text": [
      "\r",
      " 42%|█████████████████████████▉                                    | 49/117 [08:59<10:32,  9.30s/it]"
     ]
    },
    {
     "name": "stderr",
     "output_type": "stream",
     "text": [
      "\r",
      " 43%|██████████████████████████▍                                   | 50/117 [09:08<10:18,  9.22s/it]"
     ]
    },
    {
     "name": "stderr",
     "output_type": "stream",
     "text": [
      "\r",
      " 44%|███████████████████████████                                   | 51/117 [09:16<09:45,  8.88s/it]"
     ]
    },
    {
     "name": "stderr",
     "output_type": "stream",
     "text": [
      "\r",
      " 44%|███████████████████████████▌                                  | 52/117 [09:27<10:26,  9.63s/it]"
     ]
    },
    {
     "name": "stderr",
     "output_type": "stream",
     "text": [
      "\r",
      " 45%|████████████████████████████                                  | 53/117 [09:36<10:09,  9.52s/it]"
     ]
    },
    {
     "name": "stderr",
     "output_type": "stream",
     "text": [
      "\r",
      " 46%|████████████████████████████▌                                 | 54/117 [09:45<09:41,  9.23s/it]"
     ]
    },
    {
     "name": "stderr",
     "output_type": "stream",
     "text": [
      "\r",
      " 47%|█████████████████████████████▏                                | 55/117 [09:57<10:22, 10.04s/it]"
     ]
    },
    {
     "name": "stderr",
     "output_type": "stream",
     "text": [
      "\r",
      " 48%|█████████████████████████████▋                                | 56/117 [10:06<10:02,  9.87s/it]"
     ]
    },
    {
     "name": "stderr",
     "output_type": "stream",
     "text": [
      "\r",
      " 49%|██████████████████████████████▏                               | 57/117 [10:15<09:32,  9.54s/it]"
     ]
    },
    {
     "name": "stderr",
     "output_type": "stream",
     "text": [
      "\r",
      " 50%|██████████████████████████████▋                               | 58/117 [10:27<10:11, 10.37s/it]"
     ]
    },
    {
     "name": "stderr",
     "output_type": "stream",
     "text": [
      "\r",
      " 50%|███████████████████████████████▎                              | 59/117 [10:37<09:52, 10.22s/it]"
     ]
    },
    {
     "name": "stderr",
     "output_type": "stream",
     "text": [
      "\r",
      " 51%|███████████████████████████████▊                              | 60/117 [10:46<09:21,  9.85s/it]"
     ]
    },
    {
     "name": "stderr",
     "output_type": "stream",
     "text": [
      "\r",
      " 52%|████████████████████████████████▎                             | 61/117 [10:59<10:04, 10.79s/it]"
     ]
    },
    {
     "name": "stderr",
     "output_type": "stream",
     "text": [
      "\r",
      " 53%|████████████████████████████████▊                             | 62/117 [11:09<09:41, 10.57s/it]"
     ]
    },
    {
     "name": "stderr",
     "output_type": "stream",
     "text": [
      "\r",
      " 54%|█████████████████████████████████▍                            | 63/117 [11:19<09:10, 10.20s/it]"
     ]
    },
    {
     "name": "stderr",
     "output_type": "stream",
     "text": [
      "\r",
      " 55%|█████████████████████████████████▉                            | 64/117 [11:32<09:52, 11.18s/it]"
     ]
    },
    {
     "name": "stderr",
     "output_type": "stream",
     "text": [
      "\r",
      " 56%|██████████████████████████████████▍                           | 65/117 [11:42<09:28, 10.93s/it]"
     ]
    },
    {
     "name": "stderr",
     "output_type": "stream",
     "text": [
      "\r",
      " 56%|██████████████████████████████████▉                           | 66/117 [11:52<08:57, 10.54s/it]"
     ]
    },
    {
     "name": "stderr",
     "output_type": "stream",
     "text": [
      "\r",
      " 57%|███████████████████████████████████▌                          | 67/117 [12:06<09:37, 11.54s/it]"
     ]
    },
    {
     "name": "stderr",
     "output_type": "stream",
     "text": [
      "\r",
      " 58%|████████████████████████████████████                          | 68/117 [12:17<09:13, 11.30s/it]"
     ]
    },
    {
     "name": "stderr",
     "output_type": "stream",
     "text": [
      "\r",
      " 59%|████████████████████████████████████▌                         | 69/117 [12:27<08:41, 10.87s/it]"
     ]
    },
    {
     "name": "stderr",
     "output_type": "stream",
     "text": [
      "\r",
      " 60%|█████████████████████████████████████                         | 70/117 [12:41<09:18, 11.88s/it]"
     ]
    },
    {
     "name": "stderr",
     "output_type": "stream",
     "text": [
      "\r",
      " 61%|█████████████████████████████████████▌                        | 71/117 [12:52<08:56, 11.66s/it]"
     ]
    },
    {
     "name": "stderr",
     "output_type": "stream",
     "text": [
      "\r",
      " 62%|██████████████████████████████████████▏                       | 72/117 [13:02<08:25, 11.24s/it]"
     ]
    },
    {
     "name": "stderr",
     "output_type": "stream",
     "text": [
      "\r",
      " 62%|██████████████████████████████████████▋                       | 73/117 [13:17<08:57, 12.21s/it]"
     ]
    },
    {
     "name": "stderr",
     "output_type": "stream",
     "text": [
      "\r",
      " 63%|███████████████████████████████████████▏                      | 74/117 [13:28<08:34, 11.97s/it]"
     ]
    },
    {
     "name": "stderr",
     "output_type": "stream",
     "text": [
      "\r",
      " 64%|███████████████████████████████████████▋                      | 75/117 [13:39<08:05, 11.56s/it]"
     ]
    },
    {
     "name": "stderr",
     "output_type": "stream",
     "text": [
      "\r",
      " 65%|████████████████████████████████████████▎                     | 76/117 [13:53<08:32, 12.49s/it]"
     ]
    },
    {
     "name": "stderr",
     "output_type": "stream",
     "text": [
      "\r",
      " 66%|████████████████████████████████████████▊                     | 77/117 [14:05<08:14, 12.37s/it]"
     ]
    },
    {
     "name": "stderr",
     "output_type": "stream",
     "text": [
      "\r",
      " 67%|█████████████████████████████████████████▎                    | 78/117 [14:16<07:45, 11.93s/it]"
     ]
    },
    {
     "name": "stderr",
     "output_type": "stream",
     "text": [
      "\r",
      " 68%|█████████████████████████████████████████▊                    | 79/117 [14:17<05:30,  8.69s/it]"
     ]
    },
    {
     "name": "stderr",
     "output_type": "stream",
     "text": [
      "\r",
      " 68%|██████████████████████████████████████████▍                   | 80/117 [14:30<06:09,  9.98s/it]"
     ]
    },
    {
     "name": "stderr",
     "output_type": "stream",
     "text": [
      "\r",
      " 69%|██████████████████████████████████████████▉                   | 81/117 [14:42<06:12, 10.34s/it]"
     ]
    },
    {
     "name": "stderr",
     "output_type": "stream",
     "text": [
      "\r",
      " 70%|███████████████████████████████████████████▍                  | 82/117 [14:45<04:45,  8.15s/it]"
     ]
    },
    {
     "name": "stderr",
     "output_type": "stream",
     "text": [
      "\r",
      " 71%|███████████████████████████████████████████▉                  | 83/117 [14:58<05:31,  9.76s/it]"
     ]
    },
    {
     "name": "stderr",
     "output_type": "stream",
     "text": [
      "\r",
      " 72%|████████████████████████████████████████████▌                 | 84/117 [15:10<05:43, 10.41s/it]"
     ]
    },
    {
     "name": "stderr",
     "output_type": "stream",
     "text": [
      "\r",
      " 73%|█████████████████████████████████████████████                 | 85/117 [15:14<04:26,  8.32s/it]"
     ]
    },
    {
     "name": "stderr",
     "output_type": "stream",
     "text": [
      "\r",
      " 74%|█████████████████████████████████████████████▌                | 86/117 [15:28<05:11, 10.04s/it]"
     ]
    },
    {
     "name": "stderr",
     "output_type": "stream",
     "text": [
      "\r",
      " 74%|██████████████████████████████████████████████                | 87/117 [15:40<05:20, 10.67s/it]"
     ]
    },
    {
     "name": "stderr",
     "output_type": "stream",
     "text": [
      "\r",
      " 75%|██████████████████████████████████████████████▋               | 88/117 [15:44<04:11,  8.66s/it]"
     ]
    },
    {
     "name": "stderr",
     "output_type": "stream",
     "text": [
      "\r",
      " 76%|███████████████████████████████████████████████▏              | 89/117 [15:58<04:51, 10.42s/it]"
     ]
    },
    {
     "name": "stderr",
     "output_type": "stream",
     "text": [
      "\r",
      " 77%|███████████████████████████████████████████████▋              | 90/117 [16:11<04:56, 11.00s/it]"
     ]
    },
    {
     "name": "stderr",
     "output_type": "stream",
     "text": [
      "\r",
      " 78%|████████████████████████████████████████████████▏             | 91/117 [16:16<04:04,  9.40s/it]"
     ]
    },
    {
     "name": "stderr",
     "output_type": "stream",
     "text": [
      "\r",
      " 79%|████████████████████████████████████████████████▊             | 92/117 [16:31<04:36, 11.06s/it]"
     ]
    },
    {
     "name": "stderr",
     "output_type": "stream",
     "text": [
      "\r",
      " 79%|█████████████████████████████████████████████████▎            | 93/117 [16:44<04:39, 11.65s/it]"
     ]
    },
    {
     "name": "stderr",
     "output_type": "stream",
     "text": [
      "\r",
      " 80%|█████████████████████████████████████████████████▊            | 94/117 [16:50<03:50, 10.02s/it]"
     ]
    },
    {
     "name": "stderr",
     "output_type": "stream",
     "text": [
      "\r",
      " 81%|██████████████████████████████████████████████████▎           | 95/117 [17:06<04:16, 11.68s/it]"
     ]
    },
    {
     "name": "stderr",
     "output_type": "stream",
     "text": [
      "\r",
      " 82%|██████████████████████████████████████████████████▊           | 96/117 [17:19<04:14, 12.10s/it]"
     ]
    },
    {
     "name": "stderr",
     "output_type": "stream",
     "text": [
      "\r",
      " 83%|███████████████████████████████████████████████████▍          | 97/117 [17:26<03:30, 10.54s/it]"
     ]
    },
    {
     "name": "stderr",
     "output_type": "stream",
     "text": [
      "\r",
      " 84%|███████████████████████████████████████████████████▉          | 98/117 [17:42<03:52, 12.22s/it]"
     ]
    },
    {
     "name": "stderr",
     "output_type": "stream",
     "text": [
      "\r",
      " 85%|████████████████████████████████████████████████████▍         | 99/117 [17:56<03:47, 12.64s/it]"
     ]
    },
    {
     "name": "stderr",
     "output_type": "stream",
     "text": [
      "\r",
      " 85%|████████████████████████████████████████████████████▏        | 100/117 [18:03<03:08, 11.10s/it]"
     ]
    },
    {
     "name": "stderr",
     "output_type": "stream",
     "text": [
      "\r",
      " 86%|████████████████████████████████████████████████████▋        | 101/117 [18:20<03:22, 12.68s/it]"
     ]
    },
    {
     "name": "stderr",
     "output_type": "stream",
     "text": [
      "\r",
      " 87%|█████████████████████████████████████████████████████▏       | 102/117 [18:33<03:15, 13.05s/it]"
     ]
    },
    {
     "name": "stderr",
     "output_type": "stream",
     "text": [
      "\r",
      " 88%|█████████████████████████████████████████████████████▋       | 103/117 [18:41<02:41, 11.53s/it]"
     ]
    },
    {
     "name": "stderr",
     "output_type": "stream",
     "text": [
      "\r",
      " 89%|██████████████████████████████████████████████████████▏      | 104/117 [18:58<02:51, 13.16s/it]"
     ]
    },
    {
     "name": "stderr",
     "output_type": "stream",
     "text": [
      "\r",
      " 90%|██████████████████████████████████████████████████████▋      | 105/117 [19:13<02:41, 13.50s/it]"
     ]
    },
    {
     "name": "stderr",
     "output_type": "stream",
     "text": [
      "\r",
      " 91%|███████████████████████████████████████████████████████▎     | 106/117 [19:21<02:12, 12.00s/it]"
     ]
    },
    {
     "name": "stderr",
     "output_type": "stream",
     "text": [
      "\r",
      " 91%|███████████████████████████████████████████████████████▊     | 107/117 [19:38<02:15, 13.52s/it]"
     ]
    },
    {
     "name": "stderr",
     "output_type": "stream",
     "text": [
      "\r",
      " 92%|████████████████████████████████████████████████████████▎    | 108/117 [19:53<02:04, 13.88s/it]"
     ]
    },
    {
     "name": "stderr",
     "output_type": "stream",
     "text": [
      "\r",
      " 93%|████████████████████████████████████████████████████████▊    | 109/117 [20:03<01:41, 12.69s/it]"
     ]
    },
    {
     "name": "stderr",
     "output_type": "stream",
     "text": [
      "\r",
      " 94%|█████████████████████████████████████████████████████████▎   | 110/117 [20:20<01:38, 14.08s/it]"
     ]
    },
    {
     "name": "stderr",
     "output_type": "stream",
     "text": [
      "\r",
      " 95%|█████████████████████████████████████████████████████████▊   | 111/117 [20:35<01:25, 14.31s/it]"
     ]
    },
    {
     "name": "stderr",
     "output_type": "stream",
     "text": [
      "\r",
      " 96%|██████████████████████████████████████████████████████████▍  | 112/117 [20:45<01:05, 13.08s/it]"
     ]
    },
    {
     "name": "stderr",
     "output_type": "stream",
     "text": [
      "\r",
      " 97%|██████████████████████████████████████████████████████████▉  | 113/117 [21:03<00:58, 14.53s/it]"
     ]
    },
    {
     "name": "stderr",
     "output_type": "stream",
     "text": [
      "\r",
      " 97%|███████████████████████████████████████████████████████████▍ | 114/117 [21:18<00:44, 14.72s/it]"
     ]
    },
    {
     "name": "stderr",
     "output_type": "stream",
     "text": [
      "\r",
      " 98%|███████████████████████████████████████████████████████████▉ | 115/117 [21:29<00:27, 13.51s/it]"
     ]
    },
    {
     "name": "stderr",
     "output_type": "stream",
     "text": [
      "\r",
      " 99%|████████████████████████████████████████████████████████████▍| 116/117 [21:47<00:14, 14.72s/it]"
     ]
    },
    {
     "name": "stderr",
     "output_type": "stream",
     "text": [
      "\r",
      "100%|█████████████████████████████████████████████████████████████| 117/117 [22:01<00:00, 14.68s/it]"
     ]
    },
    {
     "name": "stderr",
     "output_type": "stream",
     "text": [
      "\r",
      "100%|█████████████████████████████████████████████████████████████| 117/117 [22:01<00:00, 11.30s/it]"
     ]
    },
    {
     "name": "stderr",
     "output_type": "stream",
     "text": [
      "\n"
     ]
    }
   ],
   "source": [
    "consensus_results = []\n",
    "\n",
    "with ProcessPoolExecutor(max_workers=conf.GENERAL[\"N_JOBS\"]) as executor:\n",
    "    tasks = {\n",
    "        executor.submit(\n",
    "            run_method_and_compute_agreement,\n",
    "            m,\n",
    "            ensemble_coassoc_matrix,\n",
    "            full_ensemble,\n",
    "            k,\n",
    "        ): (m.__name__, k)\n",
    "        for m in all_consensus_methods\n",
    "        for k in range(CLUSTERING_OPTIONS[\"K_MIN\"], CLUSTERING_OPTIONS[\"K_MAX\"] + 1)\n",
    "    }\n",
    "\n",
    "    for future in tqdm(as_completed(tasks), total=len(tasks), disable=False, ncols=100):\n",
    "        method_name, k = tasks[future]\n",
    "        part, performance_values = future.result()\n",
    "\n",
    "        method_results = {\n",
    "            \"method\": method_name,\n",
    "            \"partition\": part,\n",
    "            \"k\": k,\n",
    "        }\n",
    "        method_results.update(performance_values)\n",
    "\n",
    "        consensus_results.append(method_results)"
   ]
  },
  {
   "cell_type": "code",
   "execution_count": 19,
   "metadata": {
    "execution": {
     "iopub.execute_input": "2021-01-06T18:30:36.393488Z",
     "iopub.status.busy": "2021-01-06T18:30:36.393117Z",
     "iopub.status.idle": "2021-01-06T18:30:36.405132Z",
     "shell.execute_reply": "2021-01-06T18:30:36.404729Z"
    },
    "papermill": {
     "duration": 0.047145,
     "end_time": "2021-01-06T18:30:36.405216",
     "exception": false,
     "start_time": "2021-01-06T18:30:36.358071",
     "status": "completed"
    },
    "tags": []
   },
   "outputs": [],
   "source": [
    "# TODO: check if each partition is really generating k clusters"
   ]
  },
  {
   "cell_type": "code",
   "execution_count": 20,
   "metadata": {
    "execution": {
     "iopub.execute_input": "2021-01-06T18:30:36.473261Z",
     "iopub.status.busy": "2021-01-06T18:30:36.472899Z",
     "iopub.status.idle": "2021-01-06T18:30:36.485338Z",
     "shell.execute_reply": "2021-01-06T18:30:36.485034Z"
    },
    "papermill": {
     "duration": 0.047199,
     "end_time": "2021-01-06T18:30:36.485425",
     "exception": false,
     "start_time": "2021-01-06T18:30:36.438226",
     "status": "completed"
    },
    "tags": []
   },
   "outputs": [],
   "source": [
    "consensus_results = pd.DataFrame(consensus_results)"
   ]
  },
  {
   "cell_type": "code",
   "execution_count": 21,
   "metadata": {
    "execution": {
     "iopub.execute_input": "2021-01-06T18:30:36.554320Z",
     "iopub.status.busy": "2021-01-06T18:30:36.553959Z",
     "iopub.status.idle": "2021-01-06T18:30:36.565011Z",
     "shell.execute_reply": "2021-01-06T18:30:36.564583Z"
    },
    "papermill": {
     "duration": 0.04655,
     "end_time": "2021-01-06T18:30:36.565098",
     "exception": false,
     "start_time": "2021-01-06T18:30:36.518548",
     "status": "completed"
    },
    "tags": []
   },
   "outputs": [
    {
     "data": {
      "text/plain": [
       "(117, 12)"
      ]
     },
     "metadata": {},
     "output_type": "display_data"
    }
   ],
   "source": [
    "display(consensus_results.shape)"
   ]
  },
  {
   "cell_type": "code",
   "execution_count": 22,
   "metadata": {
    "execution": {
     "iopub.execute_input": "2021-01-06T18:30:36.634531Z",
     "iopub.status.busy": "2021-01-06T18:30:36.634173Z",
     "iopub.status.idle": "2021-01-06T18:30:36.659143Z",
     "shell.execute_reply": "2021-01-06T18:30:36.658765Z"
    },
    "papermill": {
     "duration": 0.060266,
     "end_time": "2021-01-06T18:30:36.659228",
     "exception": false,
     "start_time": "2021-01-06T18:30:36.598962",
     "status": "completed"
    },
    "tags": []
   },
   "outputs": [
    {
     "data": {
      "text/html": [
       "<div>\n",
       "<style scoped>\n",
       "    .dataframe tbody tr th:only-of-type {\n",
       "        vertical-align: middle;\n",
       "    }\n",
       "\n",
       "    .dataframe tbody tr th {\n",
       "        vertical-align: top;\n",
       "    }\n",
       "\n",
       "    .dataframe thead th {\n",
       "        text-align: right;\n",
       "    }\n",
       "</style>\n",
       "<table border=\"1\" class=\"dataframe\">\n",
       "  <thead>\n",
       "    <tr style=\"text-align: right;\">\n",
       "      <th></th>\n",
       "      <th>method</th>\n",
       "      <th>partition</th>\n",
       "      <th>k</th>\n",
       "      <th>ari_mean</th>\n",
       "      <th>ari_median</th>\n",
       "      <th>ari_std</th>\n",
       "      <th>ami_mean</th>\n",
       "      <th>ami_median</th>\n",
       "      <th>ami_std</th>\n",
       "      <th>nmi_mean</th>\n",
       "      <th>nmi_median</th>\n",
       "      <th>nmi_std</th>\n",
       "    </tr>\n",
       "  </thead>\n",
       "  <tbody>\n",
       "    <tr>\n",
       "      <th>0</th>\n",
       "      <td>eac_average_coassoc_matrix</td>\n",
       "      <td>[0, 0, 0, 0, 0, 0, 0, 0, 0, 0, 0, 0, 0, 0, 0, ...</td>\n",
       "      <td>2</td>\n",
       "      <td>0.240317</td>\n",
       "      <td>0.037024</td>\n",
       "      <td>0.349342</td>\n",
       "      <td>0.249490</td>\n",
       "      <td>0.080186</td>\n",
       "      <td>0.324666</td>\n",
       "      <td>0.251982</td>\n",
       "      <td>0.082369</td>\n",
       "      <td>0.323813</td>\n",
       "    </tr>\n",
       "    <tr>\n",
       "      <th>1</th>\n",
       "      <td>eac_average_coassoc_matrix</td>\n",
       "      <td>[0, 0, 0, 0, 0, 0, 0, 0, 0, 0, 0, 0, 0, 0, 0, ...</td>\n",
       "      <td>3</td>\n",
       "      <td>0.263578</td>\n",
       "      <td>0.054609</td>\n",
       "      <td>0.356479</td>\n",
       "      <td>0.284536</td>\n",
       "      <td>0.112219</td>\n",
       "      <td>0.323680</td>\n",
       "      <td>0.288405</td>\n",
       "      <td>0.116221</td>\n",
       "      <td>0.322205</td>\n",
       "    </tr>\n",
       "    <tr>\n",
       "      <th>2</th>\n",
       "      <td>eac_average_coassoc_matrix</td>\n",
       "      <td>[2, 2, 2, 2, 2, 2, 2, 2, 2, 2, 2, 2, 2, 2, 2, ...</td>\n",
       "      <td>4</td>\n",
       "      <td>0.287902</td>\n",
       "      <td>0.124714</td>\n",
       "      <td>0.331105</td>\n",
       "      <td>0.315595</td>\n",
       "      <td>0.187761</td>\n",
       "      <td>0.275006</td>\n",
       "      <td>0.320842</td>\n",
       "      <td>0.192473</td>\n",
       "      <td>0.273039</td>\n",
       "    </tr>\n",
       "    <tr>\n",
       "      <th>3</th>\n",
       "      <td>eac_average_coassoc_matrix</td>\n",
       "      <td>[0, 0, 0, 0, 0, 0, 0, 0, 0, 0, 0, 0, 0, 0, 0, ...</td>\n",
       "      <td>5</td>\n",
       "      <td>0.287923</td>\n",
       "      <td>0.124713</td>\n",
       "      <td>0.331126</td>\n",
       "      <td>0.318194</td>\n",
       "      <td>0.191098</td>\n",
       "      <td>0.276620</td>\n",
       "      <td>0.324061</td>\n",
       "      <td>0.195962</td>\n",
       "      <td>0.274261</td>\n",
       "    </tr>\n",
       "    <tr>\n",
       "      <th>4</th>\n",
       "      <td>eac_average_coassoc_matrix</td>\n",
       "      <td>[0, 0, 0, 0, 0, 0, 0, 0, 0, 0, 0, 0, 0, 0, 0, ...</td>\n",
       "      <td>6</td>\n",
       "      <td>0.223957</td>\n",
       "      <td>0.147902</td>\n",
       "      <td>0.226714</td>\n",
       "      <td>0.299478</td>\n",
       "      <td>0.262243</td>\n",
       "      <td>0.142417</td>\n",
       "      <td>0.306541</td>\n",
       "      <td>0.268924</td>\n",
       "      <td>0.141986</td>\n",
       "    </tr>\n",
       "  </tbody>\n",
       "</table>\n",
       "</div>"
      ],
      "text/plain": [
       "                       method  \\\n",
       "0  eac_average_coassoc_matrix   \n",
       "1  eac_average_coassoc_matrix   \n",
       "2  eac_average_coassoc_matrix   \n",
       "3  eac_average_coassoc_matrix   \n",
       "4  eac_average_coassoc_matrix   \n",
       "\n",
       "                                           partition  k  ari_mean  ari_median  \\\n",
       "0  [0, 0, 0, 0, 0, 0, 0, 0, 0, 0, 0, 0, 0, 0, 0, ...  2  0.240317    0.037024   \n",
       "1  [0, 0, 0, 0, 0, 0, 0, 0, 0, 0, 0, 0, 0, 0, 0, ...  3  0.263578    0.054609   \n",
       "2  [2, 2, 2, 2, 2, 2, 2, 2, 2, 2, 2, 2, 2, 2, 2, ...  4  0.287902    0.124714   \n",
       "3  [0, 0, 0, 0, 0, 0, 0, 0, 0, 0, 0, 0, 0, 0, 0, ...  5  0.287923    0.124713   \n",
       "4  [0, 0, 0, 0, 0, 0, 0, 0, 0, 0, 0, 0, 0, 0, 0, ...  6  0.223957    0.147902   \n",
       "\n",
       "    ari_std  ami_mean  ami_median   ami_std  nmi_mean  nmi_median   nmi_std  \n",
       "0  0.349342  0.249490    0.080186  0.324666  0.251982    0.082369  0.323813  \n",
       "1  0.356479  0.284536    0.112219  0.323680  0.288405    0.116221  0.322205  \n",
       "2  0.331105  0.315595    0.187761  0.275006  0.320842    0.192473  0.273039  \n",
       "3  0.331126  0.318194    0.191098  0.276620  0.324061    0.195962  0.274261  \n",
       "4  0.226714  0.299478    0.262243  0.142417  0.306541    0.268924  0.141986  "
      ]
     },
     "execution_count": 22,
     "metadata": {},
     "output_type": "execute_result"
    }
   ],
   "source": [
    "consensus_results.head()"
   ]
  },
  {
   "cell_type": "markdown",
   "metadata": {
    "papermill": {
     "duration": 0.032421,
     "end_time": "2021-01-06T18:30:36.726371",
     "exception": false,
     "start_time": "2021-01-06T18:30:36.693950",
     "status": "completed"
    },
    "tags": []
   },
   "source": [
    "## Save"
   ]
  },
  {
   "cell_type": "code",
   "execution_count": 23,
   "metadata": {
    "execution": {
     "iopub.execute_input": "2021-01-06T18:30:36.794919Z",
     "iopub.status.busy": "2021-01-06T18:30:36.794555Z",
     "iopub.status.idle": "2021-01-06T18:30:36.805522Z",
     "shell.execute_reply": "2021-01-06T18:30:36.805144Z"
    },
    "papermill": {
     "duration": 0.046538,
     "end_time": "2021-01-06T18:30:36.805608",
     "exception": false,
     "start_time": "2021-01-06T18:30:36.759070",
     "status": "completed"
    },
    "tags": []
   },
   "outputs": [
    {
     "data": {
      "text/plain": [
       "PosixPath('/home/miltondp/projects/labs/greenelab/phenoplier/base3/results/clustering/consensus_clustering/consensus_clustering_runs.pkl')"
      ]
     },
     "metadata": {},
     "output_type": "display_data"
    }
   ],
   "source": [
    "output_file = Path(RESULTS_DIR, \"consensus_clustering_runs.pkl\").resolve()\n",
    "display(output_file)"
   ]
  },
  {
   "cell_type": "code",
   "execution_count": 24,
   "metadata": {
    "execution": {
     "iopub.execute_input": "2021-01-06T18:30:36.878286Z",
     "iopub.status.busy": "2021-01-06T18:30:36.877923Z",
     "iopub.status.idle": "2021-01-06T18:30:36.893262Z",
     "shell.execute_reply": "2021-01-06T18:30:36.892935Z"
    },
    "papermill": {
     "duration": 0.053152,
     "end_time": "2021-01-06T18:30:36.893354",
     "exception": false,
     "start_time": "2021-01-06T18:30:36.840202",
     "status": "completed"
    },
    "tags": []
   },
   "outputs": [],
   "source": [
    "consensus_results.to_pickle(output_file)"
   ]
  },
  {
   "cell_type": "code",
   "execution_count": null,
   "metadata": {
    "papermill": {
     "duration": 0.033376,
     "end_time": "2021-01-06T18:30:36.960610",
     "exception": false,
     "start_time": "2021-01-06T18:30:36.927234",
     "status": "completed"
    },
    "tags": []
   },
   "outputs": [],
   "source": []
  }
 ],
 "metadata": {
  "jupytext": {
   "cell_metadata_filter": "all,-execution,-papermill",
   "formats": "ipynb,py//py:percent"
  },
  "kernelspec": {
   "display_name": "Python 3",
   "language": "python",
   "name": "python3"
  },
  "language_info": {
   "codemirror_mode": {
    "name": "ipython",
    "version": 3
   },
   "file_extension": ".py",
   "mimetype": "text/x-python",
   "name": "python",
   "nbconvert_exporter": "python",
   "pygments_lexer": "ipython3",
   "version": "3.8.6"
  },
  "papermill": {
   "default_parameters": {},
   "duration": 1325.273459,
   "end_time": "2021-01-06T18:30:37.400654",
   "environment_variables": {},
   "exception": null,
   "input_path": "15_cluster_analysis/020_01-combine_ensemble.ipynb",
   "output_path": "15_cluster_analysis/020_01-combine_ensemble.run.ipynb",
   "parameters": {},
   "start_time": "2021-01-06T18:08:32.127195",
   "version": "2.2.2"
  },
  "toc-autonumbering": true,
  "toc-showcode": false,
  "toc-showmarkdowntxt": false,
  "toc-showtags": false
 },
 "nbformat": 4,
 "nbformat_minor": 4
}
