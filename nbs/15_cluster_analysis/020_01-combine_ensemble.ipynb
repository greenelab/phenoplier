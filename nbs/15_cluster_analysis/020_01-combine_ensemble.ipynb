{
 "cells": [
  {
   "cell_type": "markdown",
   "metadata": {
    "papermill": {
     "duration": 0.042159,
     "end_time": "2021-01-13T01:39:03.034400",
     "exception": false,
     "start_time": "2021-01-13T01:39:02.992241",
     "status": "completed"
    },
    "tags": []
   },
   "source": [
    "# Description"
   ]
  },
  {
   "cell_type": "markdown",
   "metadata": {
    "papermill": {
     "duration": 0.011469,
     "end_time": "2021-01-13T01:39:03.061333",
     "exception": false,
     "start_time": "2021-01-13T01:39:03.049864",
     "status": "completed"
    },
    "tags": []
   },
   "source": [
    "It combines all clustering solutions generated into a single consolidated solution using consensus clustering."
   ]
  },
  {
   "cell_type": "markdown",
   "metadata": {
    "papermill": {
     "duration": 0.011335,
     "end_time": "2021-01-13T01:39:03.083891",
     "exception": false,
     "start_time": "2021-01-13T01:39:03.072556",
     "status": "completed"
    },
    "tags": []
   },
   "source": [
    "# Environment variables"
   ]
  },
  {
   "cell_type": "code",
   "execution_count": 1,
   "metadata": {
    "execution": {
     "iopub.execute_input": "2021-01-13T01:39:03.113870Z",
     "iopub.status.busy": "2021-01-13T01:39:03.113311Z",
     "iopub.status.idle": "2021-01-13T01:39:03.116392Z",
     "shell.execute_reply": "2021-01-13T01:39:03.115946Z"
    },
    "papermill": {
     "duration": 0.02126,
     "end_time": "2021-01-13T01:39:03.116519",
     "exception": false,
     "start_time": "2021-01-13T01:39:03.095259",
     "status": "completed"
    },
    "tags": []
   },
   "outputs": [
    {
     "data": {
      "text/plain": [
       "1"
      ]
     },
     "metadata": {},
     "output_type": "display_data"
    }
   ],
   "source": [
    "from IPython.display import display\n",
    "\n",
    "# set numpy n_jobs to 1, since I'll be using n_jobs later\n",
    "NUMPY_N_JOBS = 1\n",
    "display(NUMPY_N_JOBS)"
   ]
  },
  {
   "cell_type": "code",
   "execution_count": 2,
   "metadata": {
    "execution": {
     "iopub.execute_input": "2021-01-13T01:39:03.146704Z",
     "iopub.status.busy": "2021-01-13T01:39:03.146259Z",
     "iopub.status.idle": "2021-01-13T01:39:03.148618Z",
     "shell.execute_reply": "2021-01-13T01:39:03.148295Z"
    },
    "papermill": {
     "duration": 0.020231,
     "end_time": "2021-01-13T01:39:03.148718",
     "exception": false,
     "start_time": "2021-01-13T01:39:03.128487",
     "status": "completed"
    },
    "tags": []
   },
   "outputs": [
    {
     "name": "stdout",
     "output_type": "stream",
     "text": [
      "env: MKL_NUM_THREADS=1\n",
      "env: OPEN_BLAS_NUM_THREADS=1\n",
      "env: NUMEXPR_NUM_THREADS=1\n",
      "env: OMP_NUM_THREADS=1\n"
     ]
    }
   ],
   "source": [
    "%env MKL_NUM_THREADS=$NUMPY_N_JOBS\n",
    "%env OPEN_BLAS_NUM_THREADS=$NUMPY_N_JOBS\n",
    "%env NUMEXPR_NUM_THREADS=$NUMPY_N_JOBS\n",
    "%env OMP_NUM_THREADS=$NUMPY_N_JOBS"
   ]
  },
  {
   "cell_type": "markdown",
   "metadata": {
    "papermill": {
     "duration": 0.012138,
     "end_time": "2021-01-13T01:39:03.173344",
     "exception": false,
     "start_time": "2021-01-13T01:39:03.161206",
     "status": "completed"
    },
    "tags": []
   },
   "source": [
    "# Modules loading"
   ]
  },
  {
   "cell_type": "code",
   "execution_count": 3,
   "metadata": {
    "execution": {
     "iopub.execute_input": "2021-01-13T01:39:03.200816Z",
     "iopub.status.busy": "2021-01-13T01:39:03.200397Z",
     "iopub.status.idle": "2021-01-13T01:39:03.208012Z",
     "shell.execute_reply": "2021-01-13T01:39:03.208305Z"
    },
    "papermill": {
     "duration": 0.022885,
     "end_time": "2021-01-13T01:39:03.208408",
     "exception": false,
     "start_time": "2021-01-13T01:39:03.185523",
     "status": "completed"
    },
    "tags": []
   },
   "outputs": [],
   "source": [
    "%load_ext autoreload\n",
    "%autoreload 2"
   ]
  },
  {
   "cell_type": "code",
   "execution_count": 4,
   "metadata": {
    "execution": {
     "iopub.execute_input": "2021-01-13T01:39:03.235039Z",
     "iopub.status.busy": "2021-01-13T01:39:03.234670Z",
     "iopub.status.idle": "2021-01-13T01:39:03.406029Z",
     "shell.execute_reply": "2021-01-13T01:39:03.405705Z"
    },
    "papermill": {
     "duration": 0.185403,
     "end_time": "2021-01-13T01:39:03.406124",
     "exception": false,
     "start_time": "2021-01-13T01:39:03.220721",
     "status": "completed"
    },
    "tags": []
   },
   "outputs": [],
   "source": [
    "from pathlib import Path\n",
    "\n",
    "import numpy as np\n",
    "import pandas as pd\n",
    "\n",
    "import conf"
   ]
  },
  {
   "cell_type": "markdown",
   "metadata": {
    "papermill": {
     "duration": 0.011718,
     "end_time": "2021-01-13T01:39:03.430341",
     "exception": false,
     "start_time": "2021-01-13T01:39:03.418623",
     "status": "completed"
    },
    "tags": []
   },
   "source": [
    "# Settings"
   ]
  },
  {
   "cell_type": "code",
   "execution_count": 5,
   "metadata": {
    "execution": {
     "iopub.execute_input": "2021-01-13T01:39:03.456662Z",
     "iopub.status.busy": "2021-01-13T01:39:03.456277Z",
     "iopub.status.idle": "2021-01-13T01:39:03.463705Z",
     "shell.execute_reply": "2021-01-13T01:39:03.463325Z"
    },
    "papermill": {
     "duration": 0.021726,
     "end_time": "2021-01-13T01:39:03.463793",
     "exception": false,
     "start_time": "2021-01-13T01:39:03.442067",
     "status": "completed"
    },
    "tags": []
   },
   "outputs": [],
   "source": [
    "RANDOM_GENERATOR = np.random.default_rng(12345)"
   ]
  },
  {
   "cell_type": "markdown",
   "metadata": {
    "papermill": {
     "duration": 0.01202,
     "end_time": "2021-01-13T01:39:03.487944",
     "exception": false,
     "start_time": "2021-01-13T01:39:03.475924",
     "status": "completed"
    },
    "tags": []
   },
   "source": [
    "## Consensus clustering"
   ]
  },
  {
   "cell_type": "code",
   "execution_count": 6,
   "metadata": {
    "execution": {
     "iopub.execute_input": "2021-01-13T01:39:03.514440Z",
     "iopub.status.busy": "2021-01-13T01:39:03.514064Z",
     "iopub.status.idle": "2021-01-13T01:39:03.522442Z",
     "shell.execute_reply": "2021-01-13T01:39:03.522052Z"
    },
    "papermill": {
     "duration": 0.022559,
     "end_time": "2021-01-13T01:39:03.522530",
     "exception": false,
     "start_time": "2021-01-13T01:39:03.499971",
     "status": "completed"
    },
    "tags": []
   },
   "outputs": [
    {
     "data": {
      "text/plain": [
       "{'K_MIN': 2, 'K_MAX': 40}"
      ]
     },
     "metadata": {},
     "output_type": "display_data"
    }
   ],
   "source": [
    "CLUSTERING_OPTIONS = {}\n",
    "\n",
    "CLUSTERING_OPTIONS[\"K_MIN\"] = 2\n",
    "CLUSTERING_OPTIONS[\"K_MAX\"] = 40\n",
    "\n",
    "display(CLUSTERING_OPTIONS)"
   ]
  },
  {
   "cell_type": "code",
   "execution_count": 7,
   "metadata": {
    "execution": {
     "iopub.execute_input": "2021-01-13T01:39:03.549569Z",
     "iopub.status.busy": "2021-01-13T01:39:03.549193Z",
     "iopub.status.idle": "2021-01-13T01:39:03.557067Z",
     "shell.execute_reply": "2021-01-13T01:39:03.557360Z"
    },
    "papermill": {
     "duration": 0.022417,
     "end_time": "2021-01-13T01:39:03.557461",
     "exception": false,
     "start_time": "2021-01-13T01:39:03.535044",
     "status": "completed"
    },
    "tags": []
   },
   "outputs": [
    {
     "data": {
      "text/plain": [
       "PosixPath('/home/miltondp/projects/labs/greenelab/phenoplier/base3/results/clustering/consensus_clustering')"
      ]
     },
     "metadata": {},
     "output_type": "display_data"
    }
   ],
   "source": [
    "# output dir for this notebook\n",
    "RESULTS_DIR = Path(conf.RESULTS[\"CLUSTERING_DIR\"], \"consensus_clustering\").resolve()\n",
    "RESULTS_DIR.mkdir(parents=True, exist_ok=True)\n",
    "\n",
    "display(RESULTS_DIR)"
   ]
  },
  {
   "cell_type": "markdown",
   "metadata": {
    "papermill": {
     "duration": 0.012171,
     "end_time": "2021-01-13T01:39:03.582108",
     "exception": false,
     "start_time": "2021-01-13T01:39:03.569937",
     "status": "completed"
    },
    "tags": []
   },
   "source": [
    "# Load ensemble"
   ]
  },
  {
   "cell_type": "code",
   "execution_count": 8,
   "metadata": {
    "execution": {
     "iopub.execute_input": "2021-01-13T01:39:03.609041Z",
     "iopub.status.busy": "2021-01-13T01:39:03.608603Z",
     "iopub.status.idle": "2021-01-13T01:39:03.617237Z",
     "shell.execute_reply": "2021-01-13T01:39:03.616862Z"
    },
    "papermill": {
     "duration": 0.023065,
     "end_time": "2021-01-13T01:39:03.617324",
     "exception": false,
     "start_time": "2021-01-13T01:39:03.594259",
     "status": "completed"
    },
    "tags": []
   },
   "outputs": [
    {
     "data": {
      "text/plain": [
       "PosixPath('/home/miltondp/projects/labs/greenelab/phenoplier/base3/results/clustering/consensus_clustering/ensemble.npy')"
      ]
     },
     "metadata": {},
     "output_type": "display_data"
    }
   ],
   "source": [
    "output_file = Path(RESULTS_DIR, \"ensemble.npy\").resolve()\n",
    "display(output_file)"
   ]
  },
  {
   "cell_type": "code",
   "execution_count": 9,
   "metadata": {
    "execution": {
     "iopub.execute_input": "2021-01-13T01:39:03.645675Z",
     "iopub.status.busy": "2021-01-13T01:39:03.645318Z",
     "iopub.status.idle": "2021-01-13T01:39:03.681095Z",
     "shell.execute_reply": "2021-01-13T01:39:03.680677Z"
    },
    "papermill": {
     "duration": 0.050824,
     "end_time": "2021-01-13T01:39:03.681201",
     "exception": false,
     "start_time": "2021-01-13T01:39:03.630377",
     "status": "completed"
    },
    "tags": []
   },
   "outputs": [],
   "source": [
    "full_ensemble = np.load(output_file)"
   ]
  },
  {
   "cell_type": "code",
   "execution_count": 10,
   "metadata": {
    "execution": {
     "iopub.execute_input": "2021-01-13T01:39:03.713374Z",
     "iopub.status.busy": "2021-01-13T01:39:03.712987Z",
     "iopub.status.idle": "2021-01-13T01:39:03.721154Z",
     "shell.execute_reply": "2021-01-13T01:39:03.720754Z"
    },
    "papermill": {
     "duration": 0.024829,
     "end_time": "2021-01-13T01:39:03.721247",
     "exception": false,
     "start_time": "2021-01-13T01:39:03.696418",
     "status": "completed"
    },
    "tags": []
   },
   "outputs": [
    {
     "data": {
      "text/plain": [
       "(4428, 3749)"
      ]
     },
     "metadata": {},
     "output_type": "display_data"
    }
   ],
   "source": [
    "display(full_ensemble.shape)"
   ]
  },
  {
   "cell_type": "markdown",
   "metadata": {
    "papermill": {
     "duration": 0.013649,
     "end_time": "2021-01-13T01:39:03.748992",
     "exception": false,
     "start_time": "2021-01-13T01:39:03.735343",
     "status": "completed"
    },
    "tags": []
   },
   "source": [
    "# Load ensemble coassociation distance matrix"
   ]
  },
  {
   "cell_type": "code",
   "execution_count": 11,
   "metadata": {
    "execution": {
     "iopub.execute_input": "2021-01-13T01:39:03.776489Z",
     "iopub.status.busy": "2021-01-13T01:39:03.776125Z",
     "iopub.status.idle": "2021-01-13T01:39:03.784296Z",
     "shell.execute_reply": "2021-01-13T01:39:03.783925Z"
    },
    "papermill": {
     "duration": 0.022823,
     "end_time": "2021-01-13T01:39:03.784383",
     "exception": false,
     "start_time": "2021-01-13T01:39:03.761560",
     "status": "completed"
    },
    "tags": []
   },
   "outputs": [
    {
     "data": {
      "text/plain": [
       "PosixPath('/home/miltondp/projects/labs/greenelab/phenoplier/base3/results/clustering/consensus_clustering/ensemble_coassoc_matrix.npy')"
      ]
     },
     "metadata": {},
     "output_type": "display_data"
    }
   ],
   "source": [
    "output_file = Path(RESULTS_DIR, \"ensemble_coassoc_matrix.npy\").resolve()\n",
    "display(output_file)"
   ]
  },
  {
   "cell_type": "code",
   "execution_count": 12,
   "metadata": {
    "execution": {
     "iopub.execute_input": "2021-01-13T01:39:03.813543Z",
     "iopub.status.busy": "2021-01-13T01:39:03.813167Z",
     "iopub.status.idle": "2021-01-13T01:39:03.844240Z",
     "shell.execute_reply": "2021-01-13T01:39:03.843817Z"
    },
    "papermill": {
     "duration": 0.04646,
     "end_time": "2021-01-13T01:39:03.844347",
     "exception": false,
     "start_time": "2021-01-13T01:39:03.797887",
     "status": "completed"
    },
    "tags": []
   },
   "outputs": [],
   "source": [
    "ensemble_coassoc_matrix = np.load(output_file)"
   ]
  },
  {
   "cell_type": "code",
   "execution_count": 13,
   "metadata": {
    "execution": {
     "iopub.execute_input": "2021-01-13T01:39:03.879114Z",
     "iopub.status.busy": "2021-01-13T01:39:03.878716Z",
     "iopub.status.idle": "2021-01-13T01:39:03.886456Z",
     "shell.execute_reply": "2021-01-13T01:39:03.886775Z"
    },
    "papermill": {
     "duration": 0.026226,
     "end_time": "2021-01-13T01:39:03.886883",
     "exception": false,
     "start_time": "2021-01-13T01:39:03.860657",
     "status": "completed"
    },
    "tags": []
   },
   "outputs": [
    {
     "data": {
      "text/plain": [
       "(3749, 3749)"
      ]
     },
     "metadata": {},
     "output_type": "display_data"
    }
   ],
   "source": [
    "display(ensemble_coassoc_matrix.shape)"
   ]
  },
  {
   "cell_type": "code",
   "execution_count": 14,
   "metadata": {
    "execution": {
     "iopub.execute_input": "2021-01-13T01:39:03.918039Z",
     "iopub.status.busy": "2021-01-13T01:39:03.917644Z",
     "iopub.status.idle": "2021-01-13T01:39:03.926144Z",
     "shell.execute_reply": "2021-01-13T01:39:03.925742Z"
    },
    "papermill": {
     "duration": 0.024797,
     "end_time": "2021-01-13T01:39:03.926236",
     "exception": false,
     "start_time": "2021-01-13T01:39:03.901439",
     "status": "completed"
    },
    "tags": []
   },
   "outputs": [
    {
     "data": {
      "text/plain": [
       "array([[0.        , 0.05615942, 0.05389493, ..., 0.59986413, 0.66171429,\n",
       "        0.66757246],\n",
       "       [0.05615942, 0.        , 0.02740036, ..., 0.60122283, 0.65988571,\n",
       "        0.66530797],\n",
       "       [0.05389493, 0.02740036, 0.        , ..., 0.59782609, 0.66102857,\n",
       "        0.66281703],\n",
       "       ...,\n",
       "       [0.59986413, 0.60122283, 0.59782609, ..., 0.        , 0.6699339 ,\n",
       "        0.66531165],\n",
       "       [0.66171429, 0.65988571, 0.66102857, ..., 0.6699339 , 0.        ,\n",
       "        0.58650558],\n",
       "       [0.66757246, 0.66530797, 0.66281703, ..., 0.66531165, 0.58650558,\n",
       "        0.        ]])"
      ]
     },
     "metadata": {},
     "output_type": "display_data"
    }
   ],
   "source": [
    "display(ensemble_coassoc_matrix)"
   ]
  },
  {
   "cell_type": "markdown",
   "metadata": {
    "papermill": {
     "duration": 0.014472,
     "end_time": "2021-01-13T01:39:03.955442",
     "exception": false,
     "start_time": "2021-01-13T01:39:03.940970",
     "status": "completed"
    },
    "tags": []
   },
   "source": [
    "# Consensus clustering"
   ]
  },
  {
   "cell_type": "code",
   "execution_count": 15,
   "metadata": {
    "execution": {
     "iopub.execute_input": "2021-01-13T01:39:03.984506Z",
     "iopub.status.busy": "2021-01-13T01:39:03.984138Z",
     "iopub.status.idle": "2021-01-13T01:39:04.306233Z",
     "shell.execute_reply": "2021-01-13T01:39:04.305855Z"
    },
    "papermill": {
     "duration": 0.337651,
     "end_time": "2021-01-13T01:39:04.306323",
     "exception": false,
     "start_time": "2021-01-13T01:39:03.968672",
     "status": "completed"
    },
    "tags": []
   },
   "outputs": [],
   "source": [
    "from concurrent.futures import ProcessPoolExecutor, as_completed\n",
    "\n",
    "from tqdm import tqdm\n",
    "\n",
    "from clustering.ensemble import (\n",
    "    eac_single_coassoc_matrix,\n",
    "    eac_complete_coassoc_matrix,\n",
    "    eac_average_coassoc_matrix,\n",
    "    run_method_and_compute_agreement,\n",
    ")"
   ]
  },
  {
   "cell_type": "code",
   "execution_count": 16,
   "metadata": {
    "execution": {
     "iopub.execute_input": "2021-01-13T01:39:04.335910Z",
     "iopub.status.busy": "2021-01-13T01:39:04.335523Z",
     "iopub.status.idle": "2021-01-13T01:39:04.345786Z",
     "shell.execute_reply": "2021-01-13T01:39:04.346077Z"
    },
    "papermill": {
     "duration": 0.026465,
     "end_time": "2021-01-13T01:39:04.346200",
     "exception": false,
     "start_time": "2021-01-13T01:39:04.319735",
     "status": "completed"
    },
    "tags": []
   },
   "outputs": [
    {
     "data": {
      "text/plain": [
       "{<function clustering.ensemble.eac_average_coassoc_matrix(coassoc_matrix, k)>,\n",
       " <function clustering.ensemble.eac_complete_coassoc_matrix(coassoc_matrix, k)>,\n",
       " <function clustering.ensemble.eac_single_coassoc_matrix(coassoc_matrix, k)>}"
      ]
     },
     "metadata": {},
     "output_type": "display_data"
    }
   ],
   "source": [
    "all_consensus_methods = set(\n",
    "    (\n",
    "        eac_single_coassoc_matrix,\n",
    "        eac_complete_coassoc_matrix,\n",
    "        eac_average_coassoc_matrix,\n",
    "    )\n",
    ")\n",
    "display(all_consensus_methods)"
   ]
  },
  {
   "cell_type": "code",
   "execution_count": 17,
   "metadata": {
    "execution": {
     "iopub.execute_input": "2021-01-13T01:39:04.377794Z",
     "iopub.status.busy": "2021-01-13T01:39:04.377408Z",
     "iopub.status.idle": "2021-01-13T02:01:42.996244Z",
     "shell.execute_reply": "2021-01-13T02:01:42.995417Z"
    },
    "papermill": {
     "duration": 1358.636131,
     "end_time": "2021-01-13T02:01:42.996327",
     "exception": false,
     "start_time": "2021-01-13T01:39:04.360196",
     "status": "completed"
    },
    "tags": []
   },
   "outputs": [
    {
     "name": "stderr",
     "output_type": "stream",
     "text": [
      "\r",
      "  0%|                                                                       | 0/117 [00:00<?, ?it/s]"
     ]
    },
    {
     "name": "stderr",
     "output_type": "stream",
     "text": [
      "\r",
      "  1%|▌                                                              | 1/117 [00:23<46:00, 23.79s/it]"
     ]
    },
    {
     "name": "stderr",
     "output_type": "stream",
     "text": [
      "\r",
      "  2%|█                                                              | 2/117 [00:24<32:34, 17.00s/it]"
     ]
    },
    {
     "name": "stderr",
     "output_type": "stream",
     "text": [
      "\r",
      "  3%|█▌                                                             | 3/117 [00:26<23:29, 12.37s/it]"
     ]
    },
    {
     "name": "stderr",
     "output_type": "stream",
     "text": [
      "\r",
      "  3%|██▏                                                            | 4/117 [00:49<29:24, 15.61s/it]"
     ]
    },
    {
     "name": "stderr",
     "output_type": "stream",
     "text": [
      "\r",
      "  4%|██▋                                                            | 5/117 [00:53<22:17, 11.94s/it]"
     ]
    },
    {
     "name": "stderr",
     "output_type": "stream",
     "text": [
      "\r",
      "  5%|███▏                                                           | 6/117 [00:54<16:27,  8.90s/it]"
     ]
    },
    {
     "name": "stderr",
     "output_type": "stream",
     "text": [
      "\r",
      "  6%|███▊                                                           | 7/117 [01:19<24:43, 13.49s/it]"
     ]
    },
    {
     "name": "stderr",
     "output_type": "stream",
     "text": [
      "\r",
      "  7%|████▎                                                          | 8/117 [01:22<19:05, 10.51s/it]"
     ]
    },
    {
     "name": "stderr",
     "output_type": "stream",
     "text": [
      "\r",
      "  8%|████▊                                                          | 9/117 [01:24<14:29,  8.05s/it]"
     ]
    },
    {
     "name": "stderr",
     "output_type": "stream",
     "text": [
      "\r",
      "  9%|█████▎                                                        | 10/117 [01:49<23:19, 13.08s/it]"
     ]
    },
    {
     "name": "stderr",
     "output_type": "stream",
     "text": [
      "\r",
      "  9%|█████▊                                                        | 11/117 [01:53<18:08, 10.27s/it]"
     ]
    },
    {
     "name": "stderr",
     "output_type": "stream",
     "text": [
      "\r",
      " 10%|██████▎                                                       | 12/117 [01:56<14:18,  8.18s/it]"
     ]
    },
    {
     "name": "stderr",
     "output_type": "stream",
     "text": [
      "\r",
      " 11%|██████▉                                                       | 13/117 [02:21<23:01, 13.29s/it]"
     ]
    },
    {
     "name": "stderr",
     "output_type": "stream",
     "text": [
      "\r",
      " 12%|███████▍                                                      | 14/117 [02:26<18:26, 10.74s/it]"
     ]
    },
    {
     "name": "stderr",
     "output_type": "stream",
     "text": [
      "\r",
      " 13%|███████▉                                                      | 15/117 [02:30<14:45,  8.68s/it]"
     ]
    },
    {
     "name": "stderr",
     "output_type": "stream",
     "text": [
      "\r",
      " 14%|████████▍                                                     | 16/117 [02:56<23:29, 13.95s/it]"
     ]
    },
    {
     "name": "stderr",
     "output_type": "stream",
     "text": [
      "\r",
      " 15%|█████████                                                     | 17/117 [03:01<18:46, 11.27s/it]"
     ]
    },
    {
     "name": "stderr",
     "output_type": "stream",
     "text": [
      "\r",
      " 15%|█████████▌                                                    | 18/117 [03:06<15:10,  9.20s/it]"
     ]
    },
    {
     "name": "stderr",
     "output_type": "stream",
     "text": [
      "\r",
      " 16%|██████████                                                    | 19/117 [03:33<23:38, 14.48s/it]"
     ]
    },
    {
     "name": "stderr",
     "output_type": "stream",
     "text": [
      "\r",
      " 17%|██████████▌                                                   | 20/117 [03:37<18:45, 11.61s/it]"
     ]
    },
    {
     "name": "stderr",
     "output_type": "stream",
     "text": [
      "\r",
      " 18%|███████████▏                                                  | 21/117 [03:42<15:14,  9.53s/it]"
     ]
    },
    {
     "name": "stderr",
     "output_type": "stream",
     "text": [
      "\r",
      " 19%|███████████▋                                                  | 22/117 [04:10<23:44, 15.00s/it]"
     ]
    },
    {
     "name": "stderr",
     "output_type": "stream",
     "text": [
      "\r",
      " 20%|████████████▏                                                 | 23/117 [04:15<18:59, 12.12s/it]"
     ]
    },
    {
     "name": "stderr",
     "output_type": "stream",
     "text": [
      "\r",
      " 21%|████████████▋                                                 | 24/117 [04:20<15:29,  9.99s/it]"
     ]
    },
    {
     "name": "stderr",
     "output_type": "stream",
     "text": [
      "\r",
      " 21%|█████████████▏                                                | 25/117 [04:49<23:43, 15.47s/it]"
     ]
    },
    {
     "name": "stderr",
     "output_type": "stream",
     "text": [
      "\r",
      " 22%|█████████████▊                                                | 26/117 [04:54<18:56, 12.49s/it]"
     ]
    },
    {
     "name": "stderr",
     "output_type": "stream",
     "text": [
      "\r",
      " 23%|██████████████▎                                               | 27/117 [04:59<15:31, 10.35s/it]"
     ]
    },
    {
     "name": "stderr",
     "output_type": "stream",
     "text": [
      "\r",
      " 24%|██████████████▊                                               | 28/117 [05:29<23:54, 16.12s/it]"
     ]
    },
    {
     "name": "stderr",
     "output_type": "stream",
     "text": [
      "\r",
      " 25%|███████████████▎                                              | 29/117 [05:35<19:09, 13.06s/it]"
     ]
    },
    {
     "name": "stderr",
     "output_type": "stream",
     "text": [
      "\r",
      " 26%|███████████████▉                                              | 30/117 [05:41<15:43, 10.84s/it]"
     ]
    },
    {
     "name": "stderr",
     "output_type": "stream",
     "text": [
      "\r",
      " 26%|████████████████▍                                             | 31/117 [06:11<23:59, 16.74s/it]"
     ]
    },
    {
     "name": "stderr",
     "output_type": "stream",
     "text": [
      "\r",
      " 27%|████████████████▉                                             | 32/117 [06:17<19:08, 13.51s/it]"
     ]
    },
    {
     "name": "stderr",
     "output_type": "stream",
     "text": [
      "\r",
      " 28%|█████████████████▍                                            | 33/117 [06:23<15:54, 11.37s/it]"
     ]
    },
    {
     "name": "stderr",
     "output_type": "stream",
     "text": [
      "\r",
      " 29%|██████████████████                                            | 34/117 [06:55<23:53, 17.27s/it]"
     ]
    },
    {
     "name": "stderr",
     "output_type": "stream",
     "text": [
      "\r",
      " 30%|██████████████████▌                                           | 35/117 [07:00<18:57, 13.87s/it]"
     ]
    },
    {
     "name": "stderr",
     "output_type": "stream",
     "text": [
      "\r",
      " 31%|███████████████████                                           | 36/117 [07:07<15:54, 11.78s/it]"
     ]
    },
    {
     "name": "stderr",
     "output_type": "stream",
     "text": [
      "\r",
      " 32%|███████████████████▌                                          | 37/117 [07:39<23:40, 17.75s/it]"
     ]
    },
    {
     "name": "stderr",
     "output_type": "stream",
     "text": [
      "\r",
      " 32%|████████████████████▏                                         | 38/117 [07:45<18:42, 14.21s/it]"
     ]
    },
    {
     "name": "stderr",
     "output_type": "stream",
     "text": [
      "\r",
      " 33%|████████████████████▋                                         | 39/117 [07:53<15:55, 12.25s/it]"
     ]
    },
    {
     "name": "stderr",
     "output_type": "stream",
     "text": [
      "\r",
      " 34%|█████████████████████▏                                        | 40/117 [08:02<14:32, 11.33s/it]"
     ]
    },
    {
     "name": "stderr",
     "output_type": "stream",
     "text": [
      "\r",
      " 35%|█████████████████████▋                                        | 41/117 [08:08<12:27,  9.83s/it]"
     ]
    },
    {
     "name": "stderr",
     "output_type": "stream",
     "text": [
      "\r",
      " 36%|██████████████████████▎                                       | 42/117 [08:17<11:57,  9.57s/it]"
     ]
    },
    {
     "name": "stderr",
     "output_type": "stream",
     "text": [
      "\r",
      " 37%|██████████████████████▊                                       | 43/117 [08:27<11:56,  9.68s/it]"
     ]
    },
    {
     "name": "stderr",
     "output_type": "stream",
     "text": [
      "\r",
      " 38%|███████████████████████▎                                      | 44/117 [08:34<10:37,  8.73s/it]"
     ]
    },
    {
     "name": "stderr",
     "output_type": "stream",
     "text": [
      "\r",
      " 38%|███████████████████████▊                                      | 45/117 [08:43<10:44,  8.96s/it]"
     ]
    },
    {
     "name": "stderr",
     "output_type": "stream",
     "text": [
      "\r",
      " 39%|████████████████████████▍                                     | 46/117 [08:53<11:01,  9.31s/it]"
     ]
    },
    {
     "name": "stderr",
     "output_type": "stream",
     "text": [
      "\r",
      " 40%|████████████████████████▉                                     | 47/117 [09:00<09:59,  8.57s/it]"
     ]
    },
    {
     "name": "stderr",
     "output_type": "stream",
     "text": [
      "\r",
      " 41%|█████████████████████████▍                                    | 48/117 [09:10<10:26,  9.07s/it]"
     ]
    },
    {
     "name": "stderr",
     "output_type": "stream",
     "text": [
      "\r",
      " 42%|█████████████████████████▉                                    | 49/117 [09:21<10:43,  9.46s/it]"
     ]
    },
    {
     "name": "stderr",
     "output_type": "stream",
     "text": [
      "\r",
      " 43%|██████████████████████████▍                                   | 50/117 [09:28<09:46,  8.75s/it]"
     ]
    },
    {
     "name": "stderr",
     "output_type": "stream",
     "text": [
      "\r",
      " 44%|███████████████████████████                                   | 51/117 [09:38<10:12,  9.28s/it]"
     ]
    },
    {
     "name": "stderr",
     "output_type": "stream",
     "text": [
      "\r",
      " 44%|███████████████████████████▌                                  | 52/117 [09:49<10:31,  9.71s/it]"
     ]
    },
    {
     "name": "stderr",
     "output_type": "stream",
     "text": [
      "\r",
      " 45%|████████████████████████████                                  | 53/117 [09:56<09:37,  9.02s/it]"
     ]
    },
    {
     "name": "stderr",
     "output_type": "stream",
     "text": [
      "\r",
      " 46%|████████████████████████████▌                                 | 54/117 [10:07<10:03,  9.58s/it]"
     ]
    },
    {
     "name": "stderr",
     "output_type": "stream",
     "text": [
      "\r",
      " 47%|█████████████████████████████▏                                | 55/117 [10:18<10:19, 10.00s/it]"
     ]
    },
    {
     "name": "stderr",
     "output_type": "stream",
     "text": [
      "\r",
      " 48%|█████████████████████████████▋                                | 56/117 [10:26<09:24,  9.26s/it]"
     ]
    },
    {
     "name": "stderr",
     "output_type": "stream",
     "text": [
      "\r",
      " 49%|██████████████████████████████▏                               | 57/117 [10:37<09:51,  9.87s/it]"
     ]
    },
    {
     "name": "stderr",
     "output_type": "stream",
     "text": [
      "\r",
      " 50%|██████████████████████████████▋                               | 58/117 [10:49<10:11, 10.36s/it]"
     ]
    },
    {
     "name": "stderr",
     "output_type": "stream",
     "text": [
      "\r",
      " 50%|███████████████████████████████▎                              | 59/117 [10:56<09:13,  9.55s/it]"
     ]
    },
    {
     "name": "stderr",
     "output_type": "stream",
     "text": [
      "\r",
      " 51%|███████████████████████████████▊                              | 60/117 [11:08<09:43, 10.24s/it]"
     ]
    },
    {
     "name": "stderr",
     "output_type": "stream",
     "text": [
      "\r",
      " 52%|████████████████████████████████▎                             | 61/117 [11:20<09:59, 10.71s/it]"
     ]
    },
    {
     "name": "stderr",
     "output_type": "stream",
     "text": [
      "\r",
      " 53%|████████████████████████████████▊                             | 62/117 [11:28<09:01,  9.84s/it]"
     ]
    },
    {
     "name": "stderr",
     "output_type": "stream",
     "text": [
      "\r",
      " 54%|█████████████████████████████████▍                            | 63/117 [11:40<09:33, 10.62s/it]"
     ]
    },
    {
     "name": "stderr",
     "output_type": "stream",
     "text": [
      "\r",
      " 55%|█████████████████████████████████▉                            | 64/117 [11:52<09:47, 11.08s/it]"
     ]
    },
    {
     "name": "stderr",
     "output_type": "stream",
     "text": [
      "\r",
      " 56%|██████████████████████████████████▍                           | 65/117 [12:00<08:45, 10.11s/it]"
     ]
    },
    {
     "name": "stderr",
     "output_type": "stream",
     "text": [
      "\r",
      " 56%|██████████████████████████████████▉                           | 66/117 [12:13<09:16, 10.91s/it]"
     ]
    },
    {
     "name": "stderr",
     "output_type": "stream",
     "text": [
      "\r",
      " 57%|███████████████████████████████████▌                          | 67/117 [12:26<09:34, 11.50s/it]"
     ]
    },
    {
     "name": "stderr",
     "output_type": "stream",
     "text": [
      "\r",
      " 58%|████████████████████████████████████                          | 68/117 [12:34<08:28, 10.38s/it]"
     ]
    },
    {
     "name": "stderr",
     "output_type": "stream",
     "text": [
      "\r",
      " 59%|████████████████████████████████████▌                         | 69/117 [12:47<08:57, 11.19s/it]"
     ]
    },
    {
     "name": "stderr",
     "output_type": "stream",
     "text": [
      "\r",
      " 60%|█████████████████████████████████████                         | 70/117 [13:00<09:18, 11.88s/it]"
     ]
    },
    {
     "name": "stderr",
     "output_type": "stream",
     "text": [
      "\r",
      " 61%|█████████████████████████████████████▌                        | 71/117 [13:08<08:12, 10.70s/it]"
     ]
    },
    {
     "name": "stderr",
     "output_type": "stream",
     "text": [
      "\r",
      " 62%|██████████████████████████████████████▏                       | 72/117 [13:21<08:37, 11.50s/it]"
     ]
    },
    {
     "name": "stderr",
     "output_type": "stream",
     "text": [
      "\r",
      " 62%|██████████████████████████████████████▋                       | 73/117 [13:35<08:58, 12.24s/it]"
     ]
    },
    {
     "name": "stderr",
     "output_type": "stream",
     "text": [
      "\r",
      " 63%|███████████████████████████████████████▏                      | 74/117 [13:44<07:54, 11.03s/it]"
     ]
    },
    {
     "name": "stderr",
     "output_type": "stream",
     "text": [
      "\r",
      " 64%|███████████████████████████████████████▋                      | 75/117 [13:57<08:16, 11.82s/it]"
     ]
    },
    {
     "name": "stderr",
     "output_type": "stream",
     "text": [
      "\r",
      " 65%|████████████████████████████████████████▎                     | 76/117 [14:12<08:36, 12.59s/it]"
     ]
    },
    {
     "name": "stderr",
     "output_type": "stream",
     "text": [
      "\r",
      " 66%|████████████████████████████████████████▊                     | 77/117 [14:20<07:33, 11.33s/it]"
     ]
    },
    {
     "name": "stderr",
     "output_type": "stream",
     "text": [
      "\r",
      " 67%|█████████████████████████████████████████▎                    | 78/117 [14:34<07:56, 12.22s/it]"
     ]
    },
    {
     "name": "stderr",
     "output_type": "stream",
     "text": [
      "\r",
      " 68%|█████████████████████████████████████████▊                    | 79/117 [14:36<05:42,  9.01s/it]"
     ]
    },
    {
     "name": "stderr",
     "output_type": "stream",
     "text": [
      "\r",
      " 68%|██████████████████████████████████████████▍                   | 80/117 [14:45<05:34,  9.05s/it]"
     ]
    },
    {
     "name": "stderr",
     "output_type": "stream",
     "text": [
      "\r",
      " 69%|██████████████████████████████████████████▉                   | 81/117 [15:00<06:29, 10.82s/it]"
     ]
    },
    {
     "name": "stderr",
     "output_type": "stream",
     "text": [
      "\r",
      " 70%|███████████████████████████████████████████▍                  | 82/117 [15:04<05:03,  8.66s/it]"
     ]
    },
    {
     "name": "stderr",
     "output_type": "stream",
     "text": [
      "\r",
      " 71%|███████████████████████████████████████████▉                  | 83/117 [15:13<05:01,  8.87s/it]"
     ]
    },
    {
     "name": "stderr",
     "output_type": "stream",
     "text": [
      "\r",
      " 72%|████████████████████████████████████████████▌                 | 84/117 [15:29<06:01, 10.95s/it]"
     ]
    },
    {
     "name": "stderr",
     "output_type": "stream",
     "text": [
      "\r",
      " 73%|█████████████████████████████████████████████                 | 85/117 [15:33<04:45,  8.91s/it]"
     ]
    },
    {
     "name": "stderr",
     "output_type": "stream",
     "text": [
      "\r",
      " 74%|█████████████████████████████████████████████▌                | 86/117 [15:43<04:43,  9.13s/it]"
     ]
    },
    {
     "name": "stderr",
     "output_type": "stream",
     "text": [
      "\r",
      " 74%|██████████████████████████████████████████████                | 87/117 [16:00<05:44, 11.50s/it]"
     ]
    },
    {
     "name": "stderr",
     "output_type": "stream",
     "text": [
      "\r",
      " 75%|██████████████████████████████████████████████▋               | 88/117 [16:04<04:34,  9.48s/it]"
     ]
    },
    {
     "name": "stderr",
     "output_type": "stream",
     "text": [
      "\r",
      " 76%|███████████████████████████████████████████████▏              | 89/117 [16:14<04:27,  9.56s/it]"
     ]
    },
    {
     "name": "stderr",
     "output_type": "stream",
     "text": [
      "\r",
      " 77%|███████████████████████████████████████████████▋              | 90/117 [16:31<05:20, 11.88s/it]"
     ]
    },
    {
     "name": "stderr",
     "output_type": "stream",
     "text": [
      "\r",
      " 78%|████████████████████████████████████████████████▏             | 91/117 [16:37<04:18,  9.94s/it]"
     ]
    },
    {
     "name": "stderr",
     "output_type": "stream",
     "text": [
      "\r",
      " 79%|████████████████████████████████████████████████▊             | 92/117 [16:47<04:09,  9.98s/it]"
     ]
    },
    {
     "name": "stderr",
     "output_type": "stream",
     "text": [
      "\r",
      " 79%|█████████████████████████████████████████████████▎            | 93/117 [17:05<04:57, 12.39s/it]"
     ]
    },
    {
     "name": "stderr",
     "output_type": "stream",
     "text": [
      "\r",
      " 80%|█████████████████████████████████████████████████▊            | 94/117 [17:12<04:06, 10.72s/it]"
     ]
    },
    {
     "name": "stderr",
     "output_type": "stream",
     "text": [
      "\r",
      " 81%|██████████████████████████████████████████████████▎           | 95/117 [17:23<03:56, 10.74s/it]"
     ]
    },
    {
     "name": "stderr",
     "output_type": "stream",
     "text": [
      "\r",
      " 82%|██████████████████████████████████████████████████▊           | 96/117 [17:41<04:32, 13.00s/it]"
     ]
    },
    {
     "name": "stderr",
     "output_type": "stream",
     "text": [
      "\r",
      " 83%|███████████████████████████████████████████████████▍          | 97/117 [17:48<03:45, 11.26s/it]"
     ]
    },
    {
     "name": "stderr",
     "output_type": "stream",
     "text": [
      "\r",
      " 84%|███████████████████████████████████████████████████▉          | 98/117 [17:59<03:33, 11.25s/it]"
     ]
    },
    {
     "name": "stderr",
     "output_type": "stream",
     "text": [
      "\r",
      " 85%|████████████████████████████████████████████████████▍         | 99/117 [18:18<04:02, 13.46s/it]"
     ]
    },
    {
     "name": "stderr",
     "output_type": "stream",
     "text": [
      "\r",
      " 85%|████████████████████████████████████████████████████▏        | 100/117 [18:26<03:20, 11.81s/it]"
     ]
    },
    {
     "name": "stderr",
     "output_type": "stream",
     "text": [
      "\r",
      " 86%|████████████████████████████████████████████████████▋        | 101/117 [18:37<03:06, 11.67s/it]"
     ]
    },
    {
     "name": "stderr",
     "output_type": "stream",
     "text": [
      "\r",
      " 87%|█████████████████████████████████████████████████████▏       | 102/117 [18:56<03:28, 13.87s/it]"
     ]
    },
    {
     "name": "stderr",
     "output_type": "stream",
     "text": [
      "\r",
      " 88%|█████████████████████████████████████████████████████▋       | 103/117 [19:05<02:52, 12.29s/it]"
     ]
    },
    {
     "name": "stderr",
     "output_type": "stream",
     "text": [
      "\r",
      " 89%|██████████████████████████████████████████████████████▏      | 104/117 [19:17<02:38, 12.17s/it]"
     ]
    },
    {
     "name": "stderr",
     "output_type": "stream",
     "text": [
      "\r",
      " 90%|██████████████████████████████████████████████████████▋      | 105/117 [19:36<02:50, 14.25s/it]"
     ]
    },
    {
     "name": "stderr",
     "output_type": "stream",
     "text": [
      "\r",
      " 91%|███████████████████████████████████████████████████████▎     | 106/117 [19:46<02:22, 12.97s/it]"
     ]
    },
    {
     "name": "stderr",
     "output_type": "stream",
     "text": [
      "\r",
      " 91%|███████████████████████████████████████████████████████▊     | 107/117 [19:59<02:10, 13.09s/it]"
     ]
    },
    {
     "name": "stderr",
     "output_type": "stream",
     "text": [
      "\r",
      " 92%|████████████████████████████████████████████████████████▎    | 108/117 [20:19<02:14, 15.00s/it]"
     ]
    },
    {
     "name": "stderr",
     "output_type": "stream",
     "text": [
      "\r",
      " 93%|████████████████████████████████████████████████████████▊    | 109/117 [20:29<01:50, 13.77s/it]"
     ]
    },
    {
     "name": "stderr",
     "output_type": "stream",
     "text": [
      "\r",
      " 94%|█████████████████████████████████████████████████████████▎   | 110/117 [20:44<01:37, 14.00s/it]"
     ]
    },
    {
     "name": "stderr",
     "output_type": "stream",
     "text": [
      "\r",
      " 95%|█████████████████████████████████████████████████████████▊   | 111/117 [21:04<01:34, 15.75s/it]"
     ]
    },
    {
     "name": "stderr",
     "output_type": "stream",
     "text": [
      "\r",
      " 96%|██████████████████████████████████████████████████████████▍  | 112/117 [21:16<01:12, 14.54s/it]"
     ]
    },
    {
     "name": "stderr",
     "output_type": "stream",
     "text": [
      "\r",
      " 97%|██████████████████████████████████████████████████████████▉  | 113/117 [21:30<00:58, 14.60s/it]"
     ]
    },
    {
     "name": "stderr",
     "output_type": "stream",
     "text": [
      "\r",
      " 97%|███████████████████████████████████████████████████████████▍ | 114/117 [21:50<00:48, 16.29s/it]"
     ]
    },
    {
     "name": "stderr",
     "output_type": "stream",
     "text": [
      "\r",
      " 98%|███████████████████████████████████████████████████████████▉ | 115/117 [22:03<00:30, 15.06s/it]"
     ]
    },
    {
     "name": "stderr",
     "output_type": "stream",
     "text": [
      "\r",
      " 99%|████████████████████████████████████████████████████████████▍| 116/117 [22:18<00:15, 15.27s/it]"
     ]
    },
    {
     "name": "stderr",
     "output_type": "stream",
     "text": [
      "\r",
      "100%|█████████████████████████████████████████████████████████████| 117/117 [22:38<00:00, 16.50s/it]"
     ]
    },
    {
     "name": "stderr",
     "output_type": "stream",
     "text": [
      "\r",
      "100%|█████████████████████████████████████████████████████████████| 117/117 [22:38<00:00, 11.61s/it]"
     ]
    },
    {
     "name": "stderr",
     "output_type": "stream",
     "text": [
      "\n"
     ]
    }
   ],
   "source": [
    "consensus_results = []\n",
    "\n",
    "with ProcessPoolExecutor(max_workers=conf.GENERAL[\"N_JOBS\"]) as executor:\n",
    "    tasks = {\n",
    "        executor.submit(\n",
    "            run_method_and_compute_agreement,\n",
    "            m,\n",
    "            ensemble_coassoc_matrix,\n",
    "            full_ensemble,\n",
    "            k,\n",
    "        ): (m.__name__, k)\n",
    "        for m in all_consensus_methods\n",
    "        for k in range(CLUSTERING_OPTIONS[\"K_MIN\"], CLUSTERING_OPTIONS[\"K_MAX\"] + 1)\n",
    "    }\n",
    "\n",
    "    for future in tqdm(as_completed(tasks), total=len(tasks), disable=False, ncols=100):\n",
    "        method_name, k = tasks[future]\n",
    "        part, performance_values = future.result()\n",
    "\n",
    "        method_results = {\n",
    "            \"method\": method_name,\n",
    "            \"partition\": part,\n",
    "            \"k\": k,\n",
    "        }\n",
    "        method_results.update(performance_values)\n",
    "\n",
    "        consensus_results.append(method_results)"
   ]
  },
  {
   "cell_type": "code",
   "execution_count": 18,
   "metadata": {
    "execution": {
     "iopub.execute_input": "2021-01-13T02:01:43.064815Z",
     "iopub.status.busy": "2021-01-13T02:01:43.064405Z",
     "iopub.status.idle": "2021-01-13T02:01:43.076024Z",
     "shell.execute_reply": "2021-01-13T02:01:43.075653Z"
    },
    "papermill": {
     "duration": 0.046888,
     "end_time": "2021-01-13T02:01:43.076109",
     "exception": false,
     "start_time": "2021-01-13T02:01:43.029221",
     "status": "completed"
    },
    "tags": []
   },
   "outputs": [],
   "source": [
    "# TODO: check if each partition is really generating k clusters"
   ]
  },
  {
   "cell_type": "code",
   "execution_count": 19,
   "metadata": {
    "execution": {
     "iopub.execute_input": "2021-01-13T02:01:43.144040Z",
     "iopub.status.busy": "2021-01-13T02:01:43.143662Z",
     "iopub.status.idle": "2021-01-13T02:01:43.155964Z",
     "shell.execute_reply": "2021-01-13T02:01:43.155577Z"
    },
    "papermill": {
     "duration": 0.047192,
     "end_time": "2021-01-13T02:01:43.156053",
     "exception": false,
     "start_time": "2021-01-13T02:01:43.108861",
     "status": "completed"
    },
    "tags": []
   },
   "outputs": [],
   "source": [
    "consensus_results = pd.DataFrame(consensus_results)"
   ]
  },
  {
   "cell_type": "code",
   "execution_count": 20,
   "metadata": {
    "execution": {
     "iopub.execute_input": "2021-01-13T02:01:43.224471Z",
     "iopub.status.busy": "2021-01-13T02:01:43.224101Z",
     "iopub.status.idle": "2021-01-13T02:01:43.234931Z",
     "shell.execute_reply": "2021-01-13T02:01:43.234566Z"
    },
    "papermill": {
     "duration": 0.04564,
     "end_time": "2021-01-13T02:01:43.235016",
     "exception": false,
     "start_time": "2021-01-13T02:01:43.189376",
     "status": "completed"
    },
    "tags": []
   },
   "outputs": [
    {
     "data": {
      "text/plain": [
       "(117, 12)"
      ]
     },
     "metadata": {},
     "output_type": "display_data"
    }
   ],
   "source": [
    "display(consensus_results.shape)"
   ]
  },
  {
   "cell_type": "code",
   "execution_count": 21,
   "metadata": {
    "execution": {
     "iopub.execute_input": "2021-01-13T02:01:43.303355Z",
     "iopub.status.busy": "2021-01-13T02:01:43.302996Z",
     "iopub.status.idle": "2021-01-13T02:01:43.327064Z",
     "shell.execute_reply": "2021-01-13T02:01:43.326696Z"
    },
    "papermill": {
     "duration": 0.059056,
     "end_time": "2021-01-13T02:01:43.327150",
     "exception": false,
     "start_time": "2021-01-13T02:01:43.268094",
     "status": "completed"
    },
    "tags": []
   },
   "outputs": [
    {
     "data": {
      "text/html": [
       "<div>\n",
       "<style scoped>\n",
       "    .dataframe tbody tr th:only-of-type {\n",
       "        vertical-align: middle;\n",
       "    }\n",
       "\n",
       "    .dataframe tbody tr th {\n",
       "        vertical-align: top;\n",
       "    }\n",
       "\n",
       "    .dataframe thead th {\n",
       "        text-align: right;\n",
       "    }\n",
       "</style>\n",
       "<table border=\"1\" class=\"dataframe\">\n",
       "  <thead>\n",
       "    <tr style=\"text-align: right;\">\n",
       "      <th></th>\n",
       "      <th>method</th>\n",
       "      <th>partition</th>\n",
       "      <th>k</th>\n",
       "      <th>ari_mean</th>\n",
       "      <th>ari_median</th>\n",
       "      <th>ari_std</th>\n",
       "      <th>ami_mean</th>\n",
       "      <th>ami_median</th>\n",
       "      <th>ami_std</th>\n",
       "      <th>nmi_mean</th>\n",
       "      <th>nmi_median</th>\n",
       "      <th>nmi_std</th>\n",
       "    </tr>\n",
       "  </thead>\n",
       "  <tbody>\n",
       "    <tr>\n",
       "      <th>0</th>\n",
       "      <td>eac_average_coassoc_matrix</td>\n",
       "      <td>[0, 0, 0, 0, 0, 0, 0, 0, 0, 0, 0, 0, 0, 0, 0, ...</td>\n",
       "      <td>2</td>\n",
       "      <td>0.226733</td>\n",
       "      <td>0.010542</td>\n",
       "      <td>0.351673</td>\n",
       "      <td>0.238194</td>\n",
       "      <td>0.055225</td>\n",
       "      <td>0.325239</td>\n",
       "      <td>0.240435</td>\n",
       "      <td>0.057239</td>\n",
       "      <td>0.324510</td>\n",
       "    </tr>\n",
       "    <tr>\n",
       "      <th>1</th>\n",
       "      <td>eac_average_coassoc_matrix</td>\n",
       "      <td>[0, 0, 0, 0, 0, 0, 0, 0, 0, 0, 0, 0, 0, 0, 0, ...</td>\n",
       "      <td>3</td>\n",
       "      <td>0.242829</td>\n",
       "      <td>0.015836</td>\n",
       "      <td>0.359734</td>\n",
       "      <td>0.266882</td>\n",
       "      <td>0.080544</td>\n",
       "      <td>0.325173</td>\n",
       "      <td>0.270462</td>\n",
       "      <td>0.083603</td>\n",
       "      <td>0.323833</td>\n",
       "    </tr>\n",
       "    <tr>\n",
       "      <th>2</th>\n",
       "      <td>eac_average_coassoc_matrix</td>\n",
       "      <td>[2, 2, 2, 2, 2, 2, 2, 2, 2, 2, 2, 2, 2, 2, 2, ...</td>\n",
       "      <td>4</td>\n",
       "      <td>0.260508</td>\n",
       "      <td>0.032736</td>\n",
       "      <td>0.339536</td>\n",
       "      <td>0.296430</td>\n",
       "      <td>0.131213</td>\n",
       "      <td>0.279790</td>\n",
       "      <td>0.301305</td>\n",
       "      <td>0.135507</td>\n",
       "      <td>0.277920</td>\n",
       "    </tr>\n",
       "    <tr>\n",
       "      <th>3</th>\n",
       "      <td>eac_average_coassoc_matrix</td>\n",
       "      <td>[0, 0, 0, 0, 0, 0, 0, 0, 0, 0, 0, 0, 0, 0, 0, ...</td>\n",
       "      <td>5</td>\n",
       "      <td>0.260519</td>\n",
       "      <td>0.032744</td>\n",
       "      <td>0.339554</td>\n",
       "      <td>0.298287</td>\n",
       "      <td>0.132804</td>\n",
       "      <td>0.281202</td>\n",
       "      <td>0.303842</td>\n",
       "      <td>0.138038</td>\n",
       "      <td>0.278911</td>\n",
       "    </tr>\n",
       "    <tr>\n",
       "      <th>4</th>\n",
       "      <td>eac_average_coassoc_matrix</td>\n",
       "      <td>[0, 0, 0, 0, 0, 0, 0, 0, 0, 0, 0, 0, 0, 0, 0, ...</td>\n",
       "      <td>6</td>\n",
       "      <td>0.165668</td>\n",
       "      <td>0.091730</td>\n",
       "      <td>0.200208</td>\n",
       "      <td>0.268626</td>\n",
       "      <td>0.236109</td>\n",
       "      <td>0.128800</td>\n",
       "      <td>0.275338</td>\n",
       "      <td>0.237406</td>\n",
       "      <td>0.128180</td>\n",
       "    </tr>\n",
       "  </tbody>\n",
       "</table>\n",
       "</div>"
      ],
      "text/plain": [
       "                       method  \\\n",
       "0  eac_average_coassoc_matrix   \n",
       "1  eac_average_coassoc_matrix   \n",
       "2  eac_average_coassoc_matrix   \n",
       "3  eac_average_coassoc_matrix   \n",
       "4  eac_average_coassoc_matrix   \n",
       "\n",
       "                                           partition  k  ari_mean  ari_median  \\\n",
       "0  [0, 0, 0, 0, 0, 0, 0, 0, 0, 0, 0, 0, 0, 0, 0, ...  2  0.226733    0.010542   \n",
       "1  [0, 0, 0, 0, 0, 0, 0, 0, 0, 0, 0, 0, 0, 0, 0, ...  3  0.242829    0.015836   \n",
       "2  [2, 2, 2, 2, 2, 2, 2, 2, 2, 2, 2, 2, 2, 2, 2, ...  4  0.260508    0.032736   \n",
       "3  [0, 0, 0, 0, 0, 0, 0, 0, 0, 0, 0, 0, 0, 0, 0, ...  5  0.260519    0.032744   \n",
       "4  [0, 0, 0, 0, 0, 0, 0, 0, 0, 0, 0, 0, 0, 0, 0, ...  6  0.165668    0.091730   \n",
       "\n",
       "    ari_std  ami_mean  ami_median   ami_std  nmi_mean  nmi_median   nmi_std  \n",
       "0  0.351673  0.238194    0.055225  0.325239  0.240435    0.057239  0.324510  \n",
       "1  0.359734  0.266882    0.080544  0.325173  0.270462    0.083603  0.323833  \n",
       "2  0.339536  0.296430    0.131213  0.279790  0.301305    0.135507  0.277920  \n",
       "3  0.339554  0.298287    0.132804  0.281202  0.303842    0.138038  0.278911  \n",
       "4  0.200208  0.268626    0.236109  0.128800  0.275338    0.237406  0.128180  "
      ]
     },
     "execution_count": 21,
     "metadata": {},
     "output_type": "execute_result"
    }
   ],
   "source": [
    "consensus_results.head()"
   ]
  },
  {
   "cell_type": "markdown",
   "metadata": {
    "papermill": {
     "duration": 0.033209,
     "end_time": "2021-01-13T02:01:43.394185",
     "exception": false,
     "start_time": "2021-01-13T02:01:43.360976",
     "status": "completed"
    },
    "tags": []
   },
   "source": [
    "## Testing"
   ]
  },
  {
   "cell_type": "code",
   "execution_count": 22,
   "metadata": {
    "execution": {
     "iopub.execute_input": "2021-01-13T02:01:43.464124Z",
     "iopub.status.busy": "2021-01-13T02:01:43.463758Z",
     "iopub.status.idle": "2021-01-13T02:01:43.474210Z",
     "shell.execute_reply": "2021-01-13T02:01:43.473836Z"
    },
    "papermill": {
     "duration": 0.046376,
     "end_time": "2021-01-13T02:01:43.474298",
     "exception": false,
     "start_time": "2021-01-13T02:01:43.427922",
     "status": "completed"
    },
    "tags": []
   },
   "outputs": [],
   "source": [
    "assert not consensus_results.isna().any().any()"
   ]
  },
  {
   "cell_type": "code",
   "execution_count": 23,
   "metadata": {
    "execution": {
     "iopub.execute_input": "2021-01-13T02:01:43.544385Z",
     "iopub.status.busy": "2021-01-13T02:01:43.544018Z",
     "iopub.status.idle": "2021-01-13T02:01:43.561825Z",
     "shell.execute_reply": "2021-01-13T02:01:43.561499Z"
    },
    "papermill": {
     "duration": 0.05408,
     "end_time": "2021-01-13T02:01:43.561912",
     "exception": false,
     "start_time": "2021-01-13T02:01:43.507832",
     "status": "completed"
    },
    "tags": []
   },
   "outputs": [
    {
     "data": {
      "text/plain": [
       "0       2\n",
       "1       3\n",
       "2       4\n",
       "3       5\n",
       "4       6\n",
       "       ..\n",
       "112    36\n",
       "113    37\n",
       "114    38\n",
       "115    39\n",
       "116    40\n",
       "Name: partition, Length: 117, dtype: int64"
      ]
     },
     "metadata": {},
     "output_type": "display_data"
    }
   ],
   "source": [
    "# check that the number of clusters in the partitions are the expected ones\n",
    "_real_k_values = consensus_results[\"partition\"].apply(lambda x: np.unique(x).shape[0])\n",
    "display(_real_k_values)\n",
    "assert np.all(consensus_results[\"k\"].values == _real_k_values.values)"
   ]
  },
  {
   "cell_type": "markdown",
   "metadata": {
    "papermill": {
     "duration": 0.036353,
     "end_time": "2021-01-13T02:01:43.633228",
     "exception": false,
     "start_time": "2021-01-13T02:01:43.596875",
     "status": "completed"
    },
    "tags": []
   },
   "source": [
    "## Save"
   ]
  },
  {
   "cell_type": "code",
   "execution_count": 24,
   "metadata": {
    "execution": {
     "iopub.execute_input": "2021-01-13T02:01:43.703856Z",
     "iopub.status.busy": "2021-01-13T02:01:43.703483Z",
     "iopub.status.idle": "2021-01-13T02:01:43.714318Z",
     "shell.execute_reply": "2021-01-13T02:01:43.713944Z"
    },
    "papermill": {
     "duration": 0.047473,
     "end_time": "2021-01-13T02:01:43.714404",
     "exception": false,
     "start_time": "2021-01-13T02:01:43.666931",
     "status": "completed"
    },
    "tags": []
   },
   "outputs": [
    {
     "data": {
      "text/plain": [
       "PosixPath('/home/miltondp/projects/labs/greenelab/phenoplier/base3/results/clustering/consensus_clustering/consensus_clustering_runs.pkl')"
      ]
     },
     "metadata": {},
     "output_type": "display_data"
    }
   ],
   "source": [
    "output_file = Path(RESULTS_DIR, \"consensus_clustering_runs.pkl\").resolve()\n",
    "display(output_file)"
   ]
  },
  {
   "cell_type": "code",
   "execution_count": 25,
   "metadata": {
    "execution": {
     "iopub.execute_input": "2021-01-13T02:01:43.785510Z",
     "iopub.status.busy": "2021-01-13T02:01:43.785137Z",
     "iopub.status.idle": "2021-01-13T02:01:43.800056Z",
     "shell.execute_reply": "2021-01-13T02:01:43.799675Z"
    },
    "papermill": {
     "duration": 0.050862,
     "end_time": "2021-01-13T02:01:43.800143",
     "exception": false,
     "start_time": "2021-01-13T02:01:43.749281",
     "status": "completed"
    },
    "tags": []
   },
   "outputs": [],
   "source": [
    "consensus_results.to_pickle(output_file)"
   ]
  },
  {
   "cell_type": "code",
   "execution_count": null,
   "metadata": {
    "papermill": {
     "duration": 0.03336,
     "end_time": "2021-01-13T02:01:43.867518",
     "exception": false,
     "start_time": "2021-01-13T02:01:43.834158",
     "status": "completed"
    },
    "tags": []
   },
   "outputs": [],
   "source": []
  }
 ],
 "metadata": {
  "jupytext": {
   "cell_metadata_filter": "all,-execution,-papermill",
   "formats": "ipynb,py//py:percent"
  },
  "kernelspec": {
   "display_name": "Python 3",
   "language": "python",
   "name": "python3"
  },
  "language_info": {
   "codemirror_mode": {
    "name": "ipython",
    "version": 3
   },
   "file_extension": ".py",
   "mimetype": "text/x-python",
   "name": "python",
   "nbconvert_exporter": "python",
   "pygments_lexer": "ipython3",
   "version": "3.8.6"
  },
  "papermill": {
   "default_parameters": {},
   "duration": 1361.999354,
   "end_time": "2021-01-13T02:01:44.206665",
   "environment_variables": {},
   "exception": null,
   "input_path": "15_cluster_analysis/020_01-combine_ensemble.ipynb",
   "output_path": "15_cluster_analysis/020_01-combine_ensemble.run.ipynb",
   "parameters": {},
   "start_time": "2021-01-13T01:39:02.207311",
   "version": "2.2.2"
  },
  "toc-autonumbering": true,
  "toc-showcode": false,
  "toc-showmarkdowntxt": false,
  "toc-showtags": false
 },
 "nbformat": 4,
 "nbformat_minor": 4
}
