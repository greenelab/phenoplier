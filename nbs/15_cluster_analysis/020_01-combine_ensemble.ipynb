{
 "cells": [
  {
   "cell_type": "markdown",
   "metadata": {
    "papermill": {
     "duration": 0.044203,
     "end_time": "2021-01-06T21:05:13.762090",
     "exception": false,
     "start_time": "2021-01-06T21:05:13.717887",
     "status": "completed"
    },
    "tags": []
   },
   "source": [
    "# Description"
   ]
  },
  {
   "cell_type": "markdown",
   "metadata": {
    "papermill": {
     "duration": 0.012167,
     "end_time": "2021-01-06T21:05:13.790414",
     "exception": false,
     "start_time": "2021-01-06T21:05:13.778247",
     "status": "completed"
    },
    "tags": []
   },
   "source": [
    "It combines all clustering solutions generated into a single consolidated solution using consensus clustering."
   ]
  },
  {
   "cell_type": "markdown",
   "metadata": {
    "papermill": {
     "duration": 0.010929,
     "end_time": "2021-01-06T21:05:13.812346",
     "exception": false,
     "start_time": "2021-01-06T21:05:13.801417",
     "status": "completed"
    },
    "tags": []
   },
   "source": [
    "# Environment variables"
   ]
  },
  {
   "cell_type": "code",
   "execution_count": 1,
   "metadata": {
    "execution": {
     "iopub.execute_input": "2021-01-06T21:05:13.841820Z",
     "iopub.status.busy": "2021-01-06T21:05:13.841323Z",
     "iopub.status.idle": "2021-01-06T21:05:13.844454Z",
     "shell.execute_reply": "2021-01-06T21:05:13.844024Z"
    },
    "papermill": {
     "duration": 0.021262,
     "end_time": "2021-01-06T21:05:13.844579",
     "exception": false,
     "start_time": "2021-01-06T21:05:13.823317",
     "status": "completed"
    },
    "tags": []
   },
   "outputs": [
    {
     "data": {
      "text/plain": [
       "1"
      ]
     },
     "metadata": {},
     "output_type": "display_data"
    }
   ],
   "source": [
    "from IPython.display import display\n",
    "\n",
    "# set numpy n_jobs to 1, since I'll be using n_jobs later\n",
    "NUMPY_N_JOBS = 1\n",
    "display(NUMPY_N_JOBS)"
   ]
  },
  {
   "cell_type": "code",
   "execution_count": 2,
   "metadata": {
    "execution": {
     "iopub.execute_input": "2021-01-06T21:05:13.872384Z",
     "iopub.status.busy": "2021-01-06T21:05:13.871963Z",
     "iopub.status.idle": "2021-01-06T21:05:13.874307Z",
     "shell.execute_reply": "2021-01-06T21:05:13.873929Z"
    },
    "papermill": {
     "duration": 0.018195,
     "end_time": "2021-01-06T21:05:13.874396",
     "exception": false,
     "start_time": "2021-01-06T21:05:13.856201",
     "status": "completed"
    },
    "tags": []
   },
   "outputs": [
    {
     "name": "stdout",
     "output_type": "stream",
     "text": [
      "env: MKL_NUM_THREADS=1\n",
      "env: OPEN_BLAS_NUM_THREADS=1\n",
      "env: NUMEXPR_NUM_THREADS=1\n",
      "env: OMP_NUM_THREADS=1\n"
     ]
    }
   ],
   "source": [
    "%env MKL_NUM_THREADS=$NUMPY_N_JOBS\n",
    "%env OPEN_BLAS_NUM_THREADS=$NUMPY_N_JOBS\n",
    "%env NUMEXPR_NUM_THREADS=$NUMPY_N_JOBS\n",
    "%env OMP_NUM_THREADS=$NUMPY_N_JOBS"
   ]
  },
  {
   "cell_type": "markdown",
   "metadata": {
    "papermill": {
     "duration": 0.011808,
     "end_time": "2021-01-06T21:05:13.898391",
     "exception": false,
     "start_time": "2021-01-06T21:05:13.886583",
     "status": "completed"
    },
    "tags": []
   },
   "source": [
    "# Modules loading"
   ]
  },
  {
   "cell_type": "code",
   "execution_count": 3,
   "metadata": {
    "execution": {
     "iopub.execute_input": "2021-01-06T21:05:13.924574Z",
     "iopub.status.busy": "2021-01-06T21:05:13.924197Z",
     "iopub.status.idle": "2021-01-06T21:05:13.932320Z",
     "shell.execute_reply": "2021-01-06T21:05:13.931927Z"
    },
    "papermill": {
     "duration": 0.022453,
     "end_time": "2021-01-06T21:05:13.932411",
     "exception": false,
     "start_time": "2021-01-06T21:05:13.909958",
     "status": "completed"
    },
    "tags": []
   },
   "outputs": [],
   "source": [
    "%load_ext autoreload\n",
    "%autoreload 2"
   ]
  },
  {
   "cell_type": "code",
   "execution_count": 4,
   "metadata": {
    "execution": {
     "iopub.execute_input": "2021-01-06T21:05:13.958949Z",
     "iopub.status.busy": "2021-01-06T21:05:13.958577Z",
     "iopub.status.idle": "2021-01-06T21:05:14.129755Z",
     "shell.execute_reply": "2021-01-06T21:05:14.130047Z"
    },
    "papermill": {
     "duration": 0.185515,
     "end_time": "2021-01-06T21:05:14.130164",
     "exception": false,
     "start_time": "2021-01-06T21:05:13.944649",
     "status": "completed"
    },
    "tags": []
   },
   "outputs": [],
   "source": [
    "from pathlib import Path\n",
    "\n",
    "import numpy as np\n",
    "import pandas as pd\n",
    "\n",
    "import conf"
   ]
  },
  {
   "cell_type": "markdown",
   "metadata": {
    "papermill": {
     "duration": 0.011831,
     "end_time": "2021-01-06T21:05:14.154314",
     "exception": false,
     "start_time": "2021-01-06T21:05:14.142483",
     "status": "completed"
    },
    "tags": []
   },
   "source": [
    "# Settings"
   ]
  },
  {
   "cell_type": "code",
   "execution_count": 5,
   "metadata": {
    "execution": {
     "iopub.execute_input": "2021-01-06T21:05:14.180109Z",
     "iopub.status.busy": "2021-01-06T21:05:14.179745Z",
     "iopub.status.idle": "2021-01-06T21:05:14.187422Z",
     "shell.execute_reply": "2021-01-06T21:05:14.187032Z"
    },
    "papermill": {
     "duration": 0.021441,
     "end_time": "2021-01-06T21:05:14.187514",
     "exception": false,
     "start_time": "2021-01-06T21:05:14.166073",
     "status": "completed"
    },
    "tags": []
   },
   "outputs": [],
   "source": [
    "RANDOM_GENERATOR = np.random.default_rng(12345)"
   ]
  },
  {
   "cell_type": "markdown",
   "metadata": {
    "papermill": {
     "duration": 0.011841,
     "end_time": "2021-01-06T21:05:14.211493",
     "exception": false,
     "start_time": "2021-01-06T21:05:14.199652",
     "status": "completed"
    },
    "tags": []
   },
   "source": [
    "## Consensus clustering"
   ]
  },
  {
   "cell_type": "code",
   "execution_count": 6,
   "metadata": {
    "execution": {
     "iopub.execute_input": "2021-01-06T21:05:14.237299Z",
     "iopub.status.busy": "2021-01-06T21:05:14.236936Z",
     "iopub.status.idle": "2021-01-06T21:05:14.244493Z",
     "shell.execute_reply": "2021-01-06T21:05:14.244836Z"
    },
    "papermill": {
     "duration": 0.021652,
     "end_time": "2021-01-06T21:05:14.244945",
     "exception": false,
     "start_time": "2021-01-06T21:05:14.223293",
     "status": "completed"
    },
    "tags": []
   },
   "outputs": [
    {
     "data": {
      "text/plain": [
       "{'K_MIN': 2, 'K_MAX': 40}"
      ]
     },
     "metadata": {},
     "output_type": "display_data"
    }
   ],
   "source": [
    "CLUSTERING_OPTIONS = {}\n",
    "\n",
    "CLUSTERING_OPTIONS[\"K_MIN\"] = 2\n",
    "CLUSTERING_OPTIONS[\"K_MAX\"] = 40\n",
    "\n",
    "display(CLUSTERING_OPTIONS)"
   ]
  },
  {
   "cell_type": "code",
   "execution_count": 7,
   "metadata": {
    "execution": {
     "iopub.execute_input": "2021-01-06T21:05:14.271079Z",
     "iopub.status.busy": "2021-01-06T21:05:14.270705Z",
     "iopub.status.idle": "2021-01-06T21:05:14.278724Z",
     "shell.execute_reply": "2021-01-06T21:05:14.278351Z"
    },
    "papermill": {
     "duration": 0.021992,
     "end_time": "2021-01-06T21:05:14.278813",
     "exception": false,
     "start_time": "2021-01-06T21:05:14.256821",
     "status": "completed"
    },
    "tags": []
   },
   "outputs": [
    {
     "data": {
      "text/plain": [
       "PosixPath('/home/miltondp/projects/labs/greenelab/phenoplier/base3/results/clustering/consensus_clustering')"
      ]
     },
     "metadata": {},
     "output_type": "display_data"
    }
   ],
   "source": [
    "# output dir for this notebook\n",
    "RESULTS_DIR = Path(conf.RESULTS[\"CLUSTERING_DIR\"], \"consensus_clustering\").resolve()\n",
    "RESULTS_DIR.mkdir(parents=True, exist_ok=True)\n",
    "\n",
    "display(RESULTS_DIR)"
   ]
  },
  {
   "cell_type": "markdown",
   "metadata": {
    "papermill": {
     "duration": 0.011591,
     "end_time": "2021-01-06T21:05:14.302795",
     "exception": false,
     "start_time": "2021-01-06T21:05:14.291204",
     "status": "completed"
    },
    "tags": []
   },
   "source": [
    "# Load ensemble"
   ]
  },
  {
   "cell_type": "code",
   "execution_count": 8,
   "metadata": {
    "execution": {
     "iopub.execute_input": "2021-01-06T21:05:14.328925Z",
     "iopub.status.busy": "2021-01-06T21:05:14.328514Z",
     "iopub.status.idle": "2021-01-06T21:05:14.337009Z",
     "shell.execute_reply": "2021-01-06T21:05:14.336581Z"
    },
    "papermill": {
     "duration": 0.022547,
     "end_time": "2021-01-06T21:05:14.337100",
     "exception": false,
     "start_time": "2021-01-06T21:05:14.314553",
     "status": "completed"
    },
    "tags": []
   },
   "outputs": [
    {
     "data": {
      "text/plain": [
       "PosixPath('/home/miltondp/projects/labs/greenelab/phenoplier/base3/results/clustering/consensus_clustering/ensemble.npy')"
      ]
     },
     "metadata": {},
     "output_type": "display_data"
    }
   ],
   "source": [
    "output_file = Path(RESULTS_DIR, \"ensemble.npy\").resolve()\n",
    "display(output_file)"
   ]
  },
  {
   "cell_type": "code",
   "execution_count": 9,
   "metadata": {
    "execution": {
     "iopub.execute_input": "2021-01-06T21:05:14.363908Z",
     "iopub.status.busy": "2021-01-06T21:05:14.363549Z",
     "iopub.status.idle": "2021-01-06T21:05:14.401053Z",
     "shell.execute_reply": "2021-01-06T21:05:14.400567Z"
    },
    "papermill": {
     "duration": 0.051641,
     "end_time": "2021-01-06T21:05:14.401166",
     "exception": false,
     "start_time": "2021-01-06T21:05:14.349525",
     "status": "completed"
    },
    "tags": []
   },
   "outputs": [],
   "source": [
    "full_ensemble = np.load(output_file)"
   ]
  },
  {
   "cell_type": "code",
   "execution_count": 10,
   "metadata": {
    "execution": {
     "iopub.execute_input": "2021-01-06T21:05:14.435364Z",
     "iopub.status.busy": "2021-01-06T21:05:14.434960Z",
     "iopub.status.idle": "2021-01-06T21:05:14.443092Z",
     "shell.execute_reply": "2021-01-06T21:05:14.442684Z"
    },
    "papermill": {
     "duration": 0.02604,
     "end_time": "2021-01-06T21:05:14.443188",
     "exception": false,
     "start_time": "2021-01-06T21:05:14.417148",
     "status": "completed"
    },
    "tags": []
   },
   "outputs": [
    {
     "data": {
      "text/plain": [
       "(4428, 3749)"
      ]
     },
     "metadata": {},
     "output_type": "display_data"
    }
   ],
   "source": [
    "display(full_ensemble.shape)"
   ]
  },
  {
   "cell_type": "markdown",
   "metadata": {
    "papermill": {
     "duration": 0.01236,
     "end_time": "2021-01-06T21:05:14.469388",
     "exception": false,
     "start_time": "2021-01-06T21:05:14.457028",
     "status": "completed"
    },
    "tags": []
   },
   "source": [
    "# Load ensemble coassociation distance matrix"
   ]
  },
  {
   "cell_type": "code",
   "execution_count": 11,
   "metadata": {
    "execution": {
     "iopub.execute_input": "2021-01-06T21:05:14.496944Z",
     "iopub.status.busy": "2021-01-06T21:05:14.496507Z",
     "iopub.status.idle": "2021-01-06T21:05:14.504672Z",
     "shell.execute_reply": "2021-01-06T21:05:14.504297Z"
    },
    "papermill": {
     "duration": 0.022908,
     "end_time": "2021-01-06T21:05:14.504812",
     "exception": false,
     "start_time": "2021-01-06T21:05:14.481904",
     "status": "completed"
    },
    "tags": []
   },
   "outputs": [
    {
     "data": {
      "text/plain": [
       "PosixPath('/home/miltondp/projects/labs/greenelab/phenoplier/base3/results/clustering/consensus_clustering/ensemble_coassoc_matrix.npy')"
      ]
     },
     "metadata": {},
     "output_type": "display_data"
    }
   ],
   "source": [
    "output_file = Path(RESULTS_DIR, \"ensemble_coassoc_matrix.npy\").resolve()\n",
    "display(output_file)"
   ]
  },
  {
   "cell_type": "code",
   "execution_count": 12,
   "metadata": {
    "execution": {
     "iopub.execute_input": "2021-01-06T21:05:14.532881Z",
     "iopub.status.busy": "2021-01-06T21:05:14.532461Z",
     "iopub.status.idle": "2021-01-06T21:05:14.565457Z",
     "shell.execute_reply": "2021-01-06T21:05:14.565064Z"
    },
    "papermill": {
     "duration": 0.047868,
     "end_time": "2021-01-06T21:05:14.565576",
     "exception": false,
     "start_time": "2021-01-06T21:05:14.517708",
     "status": "completed"
    },
    "tags": []
   },
   "outputs": [],
   "source": [
    "ensemble_coassoc_matrix = np.load(output_file)"
   ]
  },
  {
   "cell_type": "code",
   "execution_count": 13,
   "metadata": {
    "execution": {
     "iopub.execute_input": "2021-01-06T21:05:14.600369Z",
     "iopub.status.busy": "2021-01-06T21:05:14.599943Z",
     "iopub.status.idle": "2021-01-06T21:05:14.608835Z",
     "shell.execute_reply": "2021-01-06T21:05:14.608411Z"
    },
    "papermill": {
     "duration": 0.026445,
     "end_time": "2021-01-06T21:05:14.608935",
     "exception": false,
     "start_time": "2021-01-06T21:05:14.582490",
     "status": "completed"
    },
    "tags": []
   },
   "outputs": [
    {
     "data": {
      "text/plain": [
       "(3749, 3749)"
      ]
     },
     "metadata": {},
     "output_type": "display_data"
    }
   ],
   "source": [
    "display(ensemble_coassoc_matrix.shape)"
   ]
  },
  {
   "cell_type": "code",
   "execution_count": 14,
   "metadata": {
    "execution": {
     "iopub.execute_input": "2021-01-06T21:05:14.638715Z",
     "iopub.status.busy": "2021-01-06T21:05:14.638353Z",
     "iopub.status.idle": "2021-01-06T21:05:14.646890Z",
     "shell.execute_reply": "2021-01-06T21:05:14.646513Z"
    },
    "papermill": {
     "duration": 0.023551,
     "end_time": "2021-01-06T21:05:14.646980",
     "exception": false,
     "start_time": "2021-01-06T21:05:14.623429",
     "status": "completed"
    },
    "tags": []
   },
   "outputs": [
    {
     "data": {
      "text/plain": [
       "array([[0.        , 0.05004529, 0.04868659, ..., 0.62794384, 0.66445714,\n",
       "        0.67006341],\n",
       "       [0.05004529, 0.        , 0.02241848, ..., 0.62771739, 0.66514286,\n",
       "        0.66779891],\n",
       "       [0.04868659, 0.02241848, 0.        , ..., 0.62703804, 0.66285714,\n",
       "        0.66530797],\n",
       "       ...,\n",
       "       [0.62794384, 0.62771739, 0.62703804, ..., 0.        , 0.59288808,\n",
       "        0.66282746],\n",
       "       [0.66445714, 0.66514286, 0.66285714, ..., 0.59288808, 0.        ,\n",
       "        0.6127194 ],\n",
       "       [0.67006341, 0.66779891, 0.66530797, ..., 0.66282746, 0.6127194 ,\n",
       "        0.        ]])"
      ]
     },
     "metadata": {},
     "output_type": "display_data"
    }
   ],
   "source": [
    "display(ensemble_coassoc_matrix)"
   ]
  },
  {
   "cell_type": "markdown",
   "metadata": {
    "papermill": {
     "duration": 0.013359,
     "end_time": "2021-01-06T21:05:14.674022",
     "exception": false,
     "start_time": "2021-01-06T21:05:14.660663",
     "status": "completed"
    },
    "tags": []
   },
   "source": [
    "# Consensus clustering"
   ]
  },
  {
   "cell_type": "code",
   "execution_count": 15,
   "metadata": {
    "execution": {
     "iopub.execute_input": "2021-01-06T21:05:14.702546Z",
     "iopub.status.busy": "2021-01-06T21:05:14.702181Z",
     "iopub.status.idle": "2021-01-06T21:05:15.022574Z",
     "shell.execute_reply": "2021-01-06T21:05:15.022866Z"
    },
    "papermill": {
     "duration": 0.336109,
     "end_time": "2021-01-06T21:05:15.022980",
     "exception": false,
     "start_time": "2021-01-06T21:05:14.686871",
     "status": "completed"
    },
    "tags": []
   },
   "outputs": [],
   "source": [
    "from concurrent.futures import ProcessPoolExecutor, as_completed\n",
    "\n",
    "from tqdm import tqdm\n",
    "\n",
    "from clustering.ensemble import (\n",
    "    eac_single_coassoc_matrix,\n",
    "    eac_complete_coassoc_matrix,\n",
    "    eac_average_coassoc_matrix,\n",
    "    run_method_and_compute_agreement,\n",
    ")"
   ]
  },
  {
   "cell_type": "code",
   "execution_count": 16,
   "metadata": {
    "execution": {
     "iopub.execute_input": "2021-01-06T21:05:15.052148Z",
     "iopub.status.busy": "2021-01-06T21:05:15.051779Z",
     "iopub.status.idle": "2021-01-06T21:05:15.062135Z",
     "shell.execute_reply": "2021-01-06T21:05:15.062430Z"
    },
    "papermill": {
     "duration": 0.026064,
     "end_time": "2021-01-06T21:05:15.062542",
     "exception": false,
     "start_time": "2021-01-06T21:05:15.036478",
     "status": "completed"
    },
    "tags": []
   },
   "outputs": [
    {
     "data": {
      "text/plain": [
       "{<function clustering.ensemble.eac_average_coassoc_matrix(coassoc_matrix, k)>,\n",
       " <function clustering.ensemble.eac_complete_coassoc_matrix(coassoc_matrix, k)>,\n",
       " <function clustering.ensemble.eac_single_coassoc_matrix(coassoc_matrix, k)>}"
      ]
     },
     "metadata": {},
     "output_type": "display_data"
    }
   ],
   "source": [
    "all_consensus_methods = set(\n",
    "    (\n",
    "        eac_single_coassoc_matrix,\n",
    "        eac_complete_coassoc_matrix,\n",
    "        eac_average_coassoc_matrix,\n",
    "    )\n",
    ")\n",
    "display(all_consensus_methods)"
   ]
  },
  {
   "cell_type": "code",
   "execution_count": 17,
   "metadata": {
    "execution": {
     "iopub.execute_input": "2021-01-06T21:05:15.094650Z",
     "iopub.status.busy": "2021-01-06T21:05:15.094268Z",
     "iopub.status.idle": "2021-01-06T21:27:27.436312Z",
     "shell.execute_reply": "2021-01-06T21:27:27.435460Z"
    },
    "papermill": {
     "duration": 1332.359665,
     "end_time": "2021-01-06T21:27:27.436405",
     "exception": false,
     "start_time": "2021-01-06T21:05:15.076740",
     "status": "completed"
    },
    "tags": []
   },
   "outputs": [
    {
     "name": "stderr",
     "output_type": "stream",
     "text": [
      "\r",
      "  0%|                                                                       | 0/117 [00:00<?, ?it/s]"
     ]
    },
    {
     "name": "stderr",
     "output_type": "stream",
     "text": [
      "\r",
      "  1%|▌                                                              | 1/117 [00:23<46:01, 23.80s/it]"
     ]
    },
    {
     "name": "stderr",
     "output_type": "stream",
     "text": [
      "\r",
      "  2%|█                                                              | 2/117 [00:24<32:29, 16.95s/it]"
     ]
    },
    {
     "name": "stderr",
     "output_type": "stream",
     "text": [
      "\r",
      "  3%|█▌                                                             | 3/117 [00:26<23:31, 12.39s/it]"
     ]
    },
    {
     "name": "stderr",
     "output_type": "stream",
     "text": [
      "\r",
      "  3%|██▏                                                            | 4/117 [00:49<29:16, 15.55s/it]"
     ]
    },
    {
     "name": "stderr",
     "output_type": "stream",
     "text": [
      "\r",
      "  4%|██▋                                                            | 5/117 [00:52<21:50, 11.70s/it]"
     ]
    },
    {
     "name": "stderr",
     "output_type": "stream",
     "text": [
      "\r",
      "  5%|███▏                                                           | 6/117 [00:54<16:28,  8.90s/it]"
     ]
    },
    {
     "name": "stderr",
     "output_type": "stream",
     "text": [
      "\r",
      "  6%|███▊                                                           | 7/117 [01:18<24:23, 13.31s/it]"
     ]
    },
    {
     "name": "stderr",
     "output_type": "stream",
     "text": [
      "\r",
      "  7%|████▎                                                          | 8/117 [01:21<18:35, 10.23s/it]"
     ]
    },
    {
     "name": "stderr",
     "output_type": "stream",
     "text": [
      "\r",
      "  8%|████▊                                                          | 9/117 [01:23<14:24,  8.00s/it]"
     ]
    },
    {
     "name": "stderr",
     "output_type": "stream",
     "text": [
      "\r",
      "  9%|█████▎                                                        | 10/117 [01:48<23:03, 12.93s/it]"
     ]
    },
    {
     "name": "stderr",
     "output_type": "stream",
     "text": [
      "\r",
      "  9%|█████▊                                                        | 11/117 [01:51<17:42, 10.02s/it]"
     ]
    },
    {
     "name": "stderr",
     "output_type": "stream",
     "text": [
      "\r",
      " 10%|██████▎                                                       | 12/117 [01:55<14:03,  8.03s/it]"
     ]
    },
    {
     "name": "stderr",
     "output_type": "stream",
     "text": [
      "\r",
      " 11%|██████▉                                                       | 13/117 [02:19<22:41, 13.10s/it]"
     ]
    },
    {
     "name": "stderr",
     "output_type": "stream",
     "text": [
      "\r",
      " 12%|███████▍                                                      | 14/117 [02:24<17:50, 10.39s/it]"
     ]
    },
    {
     "name": "stderr",
     "output_type": "stream",
     "text": [
      "\r",
      " 13%|███████▉                                                      | 15/117 [02:27<14:14,  8.37s/it]"
     ]
    },
    {
     "name": "stderr",
     "output_type": "stream",
     "text": [
      "\r",
      " 14%|████████▍                                                     | 16/117 [02:53<22:46, 13.53s/it]"
     ]
    },
    {
     "name": "stderr",
     "output_type": "stream",
     "text": [
      "\r",
      " 15%|█████████                                                     | 17/117 [02:57<17:59, 10.79s/it]"
     ]
    },
    {
     "name": "stderr",
     "output_type": "stream",
     "text": [
      "\r",
      " 15%|█████████▌                                                    | 18/117 [03:01<14:30,  8.79s/it]"
     ]
    },
    {
     "name": "stderr",
     "output_type": "stream",
     "text": [
      "\r",
      " 16%|██████████                                                    | 19/117 [03:27<22:45, 13.94s/it]"
     ]
    },
    {
     "name": "stderr",
     "output_type": "stream",
     "text": [
      "\r",
      " 17%|██████████▌                                                   | 20/117 [03:32<18:02, 11.16s/it]"
     ]
    },
    {
     "name": "stderr",
     "output_type": "stream",
     "text": [
      "\r",
      " 18%|███████████▏                                                  | 21/117 [03:36<14:42,  9.19s/it]"
     ]
    },
    {
     "name": "stderr",
     "output_type": "stream",
     "text": [
      "\r",
      " 19%|███████████▋                                                  | 22/117 [04:03<22:40, 14.32s/it]"
     ]
    },
    {
     "name": "stderr",
     "output_type": "stream",
     "text": [
      "\r",
      " 20%|████████████▏                                                 | 23/117 [04:08<18:09, 11.59s/it]"
     ]
    },
    {
     "name": "stderr",
     "output_type": "stream",
     "text": [
      "\r",
      " 21%|████████████▋                                                 | 24/117 [04:13<14:51,  9.59s/it]"
     ]
    },
    {
     "name": "stderr",
     "output_type": "stream",
     "text": [
      "\r",
      " 21%|█████████████▏                                                | 25/117 [04:40<22:35, 14.73s/it]"
     ]
    },
    {
     "name": "stderr",
     "output_type": "stream",
     "text": [
      "\r",
      " 22%|█████████████▊                                                | 26/117 [04:45<18:09, 11.98s/it]"
     ]
    },
    {
     "name": "stderr",
     "output_type": "stream",
     "text": [
      "\r",
      " 23%|██████████████▎                                               | 27/117 [04:50<14:56,  9.96s/it]"
     ]
    },
    {
     "name": "stderr",
     "output_type": "stream",
     "text": [
      "\r",
      " 24%|██████████████▊                                               | 28/117 [05:19<22:49, 15.39s/it]"
     ]
    },
    {
     "name": "stderr",
     "output_type": "stream",
     "text": [
      "\r",
      " 25%|███████████████▎                                              | 29/117 [05:25<18:27, 12.58s/it]"
     ]
    },
    {
     "name": "stderr",
     "output_type": "stream",
     "text": [
      "\r",
      " 26%|███████████████▉                                              | 30/117 [05:30<15:04, 10.39s/it]"
     ]
    },
    {
     "name": "stderr",
     "output_type": "stream",
     "text": [
      "\r",
      " 26%|████████████████▍                                             | 31/117 [05:58<22:38, 15.80s/it]"
     ]
    },
    {
     "name": "stderr",
     "output_type": "stream",
     "text": [
      "\r",
      " 27%|████████████████▉                                             | 32/117 [06:05<18:26, 13.01s/it]"
     ]
    },
    {
     "name": "stderr",
     "output_type": "stream",
     "text": [
      "\r",
      " 28%|█████████████████▍                                            | 33/117 [06:10<15:04, 10.77s/it]"
     ]
    },
    {
     "name": "stderr",
     "output_type": "stream",
     "text": [
      "\r",
      " 29%|██████████████████                                            | 34/117 [06:39<22:26, 16.22s/it]"
     ]
    },
    {
     "name": "stderr",
     "output_type": "stream",
     "text": [
      "\r",
      " 30%|██████████████████▌                                           | 35/117 [06:46<18:15, 13.36s/it]"
     ]
    },
    {
     "name": "stderr",
     "output_type": "stream",
     "text": [
      "\r",
      " 31%|███████████████████                                           | 36/117 [06:52<15:00, 11.12s/it]"
     ]
    },
    {
     "name": "stderr",
     "output_type": "stream",
     "text": [
      "\r",
      " 32%|███████████████████▌                                          | 37/117 [07:21<22:14, 16.68s/it]"
     ]
    },
    {
     "name": "stderr",
     "output_type": "stream",
     "text": [
      "\r",
      " 32%|████████████████████▏                                         | 38/117 [07:28<18:01, 13.69s/it]"
     ]
    },
    {
     "name": "stderr",
     "output_type": "stream",
     "text": [
      "\r",
      " 33%|████████████████████▋                                         | 39/117 [07:34<14:52, 11.44s/it]"
     ]
    },
    {
     "name": "stderr",
     "output_type": "stream",
     "text": [
      "\r",
      " 34%|█████████████████████▏                                        | 40/117 [07:44<14:02, 10.95s/it]"
     ]
    },
    {
     "name": "stderr",
     "output_type": "stream",
     "text": [
      "\r",
      " 35%|█████████████████████▋                                        | 41/117 [07:51<12:24,  9.79s/it]"
     ]
    },
    {
     "name": "stderr",
     "output_type": "stream",
     "text": [
      "\r",
      " 36%|██████████████████████▎                                       | 42/117 [07:59<11:17,  9.04s/it]"
     ]
    },
    {
     "name": "stderr",
     "output_type": "stream",
     "text": [
      "\r",
      " 37%|██████████████████████▊                                       | 43/117 [08:09<11:43,  9.51s/it]"
     ]
    },
    {
     "name": "stderr",
     "output_type": "stream",
     "text": [
      "\r",
      " 38%|███████████████████████▎                                      | 44/117 [08:17<10:47,  8.88s/it]"
     ]
    },
    {
     "name": "stderr",
     "output_type": "stream",
     "text": [
      "\r",
      " 38%|███████████████████████▊                                      | 45/117 [08:24<10:09,  8.47s/it]"
     ]
    },
    {
     "name": "stderr",
     "output_type": "stream",
     "text": [
      "\r",
      " 39%|████████████████████████▍                                     | 46/117 [08:35<11:00,  9.30s/it]"
     ]
    },
    {
     "name": "stderr",
     "output_type": "stream",
     "text": [
      "\r",
      " 40%|████████████████████████▉                                     | 47/117 [08:43<10:21,  8.88s/it]"
     ]
    },
    {
     "name": "stderr",
     "output_type": "stream",
     "text": [
      "\r",
      " 41%|█████████████████████████▍                                    | 48/117 [08:51<09:52,  8.59s/it]"
     ]
    },
    {
     "name": "stderr",
     "output_type": "stream",
     "text": [
      "\r",
      " 42%|█████████████████████████▉                                    | 49/117 [09:03<10:48,  9.53s/it]"
     ]
    },
    {
     "name": "stderr",
     "output_type": "stream",
     "text": [
      "\r",
      " 43%|██████████████████████████▍                                   | 50/117 [09:11<10:09,  9.10s/it]"
     ]
    },
    {
     "name": "stderr",
     "output_type": "stream",
     "text": [
      "\r",
      " 44%|███████████████████████████                                   | 51/117 [09:19<09:44,  8.85s/it]"
     ]
    },
    {
     "name": "stderr",
     "output_type": "stream",
     "text": [
      "\r",
      " 44%|███████████████████████████▌                                  | 52/117 [09:31<10:42,  9.88s/it]"
     ]
    },
    {
     "name": "stderr",
     "output_type": "stream",
     "text": [
      "\r",
      " 45%|████████████████████████████                                  | 53/117 [09:40<10:01,  9.39s/it]"
     ]
    },
    {
     "name": "stderr",
     "output_type": "stream",
     "text": [
      "\r",
      " 46%|████████████████████████████▌                                 | 54/117 [09:48<09:39,  9.19s/it]"
     ]
    },
    {
     "name": "stderr",
     "output_type": "stream",
     "text": [
      "\r",
      " 47%|█████████████████████████████▏                                | 55/117 [10:01<10:35, 10.25s/it]"
     ]
    },
    {
     "name": "stderr",
     "output_type": "stream",
     "text": [
      "\r",
      " 48%|█████████████████████████████▋                                | 56/117 [10:10<09:57,  9.79s/it]"
     ]
    },
    {
     "name": "stderr",
     "output_type": "stream",
     "text": [
      "\r",
      " 49%|██████████████████████████████▏                               | 57/117 [10:19<09:32,  9.54s/it]"
     ]
    },
    {
     "name": "stderr",
     "output_type": "stream",
     "text": [
      "\r",
      " 50%|██████████████████████████████▋                               | 58/117 [10:32<10:25, 10.60s/it]"
     ]
    },
    {
     "name": "stderr",
     "output_type": "stream",
     "text": [
      "\r",
      " 50%|███████████████████████████████▎                              | 59/117 [10:41<09:48, 10.15s/it]"
     ]
    },
    {
     "name": "stderr",
     "output_type": "stream",
     "text": [
      "\r",
      " 51%|███████████████████████████████▊                              | 60/117 [10:51<09:28,  9.97s/it]"
     ]
    },
    {
     "name": "stderr",
     "output_type": "stream",
     "text": [
      "\r",
      " 52%|████████████████████████████████▎                             | 61/117 [11:04<10:16, 11.02s/it]"
     ]
    },
    {
     "name": "stderr",
     "output_type": "stream",
     "text": [
      "\r",
      " 53%|████████████████████████████████▊                             | 62/117 [11:13<09:38, 10.51s/it]"
     ]
    },
    {
     "name": "stderr",
     "output_type": "stream",
     "text": [
      "\r",
      " 54%|█████████████████████████████████▍                            | 63/117 [11:23<09:20, 10.38s/it]"
     ]
    },
    {
     "name": "stderr",
     "output_type": "stream",
     "text": [
      "\r",
      " 55%|█████████████████████████████████▉                            | 64/117 [11:37<10:04, 11.40s/it]"
     ]
    },
    {
     "name": "stderr",
     "output_type": "stream",
     "text": [
      "\r",
      " 56%|██████████████████████████████████▍                           | 65/117 [11:47<09:23, 10.83s/it]"
     ]
    },
    {
     "name": "stderr",
     "output_type": "stream",
     "text": [
      "\r",
      " 56%|██████████████████████████████████▉                           | 66/117 [11:57<09:07, 10.74s/it]"
     ]
    },
    {
     "name": "stderr",
     "output_type": "stream",
     "text": [
      "\r",
      " 57%|███████████████████████████████████▌                          | 67/117 [12:11<09:49, 11.78s/it]"
     ]
    },
    {
     "name": "stderr",
     "output_type": "stream",
     "text": [
      "\r",
      " 58%|████████████████████████████████████                          | 68/117 [12:21<09:07, 11.17s/it]"
     ]
    },
    {
     "name": "stderr",
     "output_type": "stream",
     "text": [
      "\r",
      " 59%|████████████████████████████████████▌                         | 69/117 [12:32<08:49, 11.04s/it]"
     ]
    },
    {
     "name": "stderr",
     "output_type": "stream",
     "text": [
      "\r",
      " 60%|█████████████████████████████████████                         | 70/117 [12:47<09:32, 12.17s/it]"
     ]
    },
    {
     "name": "stderr",
     "output_type": "stream",
     "text": [
      "\r",
      " 61%|█████████████████████████████████████▌                        | 71/117 [12:57<08:52, 11.58s/it]"
     ]
    },
    {
     "name": "stderr",
     "output_type": "stream",
     "text": [
      "\r",
      " 62%|██████████████████████████████████████▏                       | 72/117 [13:08<08:34, 11.43s/it]"
     ]
    },
    {
     "name": "stderr",
     "output_type": "stream",
     "text": [
      "\r",
      " 62%|██████████████████████████████████████▋                       | 73/117 [13:23<09:10, 12.51s/it]"
     ]
    },
    {
     "name": "stderr",
     "output_type": "stream",
     "text": [
      "\r",
      " 63%|███████████████████████████████████████▏                      | 74/117 [13:34<08:32, 11.93s/it]"
     ]
    },
    {
     "name": "stderr",
     "output_type": "stream",
     "text": [
      "\r",
      " 64%|███████████████████████████████████████▋                      | 75/117 [13:45<08:15, 11.79s/it]"
     ]
    },
    {
     "name": "stderr",
     "output_type": "stream",
     "text": [
      "\r",
      " 65%|████████████████████████████████████████▎                     | 76/117 [14:00<08:45, 12.83s/it]"
     ]
    },
    {
     "name": "stderr",
     "output_type": "stream",
     "text": [
      "\r",
      " 66%|████████████████████████████████████████▊                     | 77/117 [14:11<08:11, 12.29s/it]"
     ]
    },
    {
     "name": "stderr",
     "output_type": "stream",
     "text": [
      "\r",
      " 67%|█████████████████████████████████████████▎                    | 78/117 [14:23<07:55, 12.19s/it]"
     ]
    },
    {
     "name": "stderr",
     "output_type": "stream",
     "text": [
      "\r",
      " 68%|█████████████████████████████████████████▊                    | 79/117 [14:24<05:36,  8.86s/it]"
     ]
    },
    {
     "name": "stderr",
     "output_type": "stream",
     "text": [
      "\r",
      " 68%|██████████████████████████████████████████▍                   | 80/117 [14:36<05:59,  9.72s/it]"
     ]
    },
    {
     "name": "stderr",
     "output_type": "stream",
     "text": [
      "\r",
      " 69%|██████████████████████████████████████████▉                   | 81/117 [14:49<06:19, 10.54s/it]"
     ]
    },
    {
     "name": "stderr",
     "output_type": "stream",
     "text": [
      "\r",
      " 70%|███████████████████████████████████████████▍                  | 82/117 [14:52<04:51,  8.33s/it]"
     ]
    },
    {
     "name": "stderr",
     "output_type": "stream",
     "text": [
      "\r",
      " 71%|███████████████████████████████████████████▉                  | 83/117 [15:04<05:21,  9.46s/it]"
     ]
    },
    {
     "name": "stderr",
     "output_type": "stream",
     "text": [
      "\r",
      " 72%|████████████████████████████████████████████▌                 | 84/117 [15:17<05:48, 10.56s/it]"
     ]
    },
    {
     "name": "stderr",
     "output_type": "stream",
     "text": [
      "\r",
      " 73%|█████████████████████████████████████████████                 | 85/117 [15:21<04:32,  8.53s/it]"
     ]
    },
    {
     "name": "stderr",
     "output_type": "stream",
     "text": [
      "\r",
      " 74%|█████████████████████████████████████████████▌                | 86/117 [15:33<05:01,  9.73s/it]"
     ]
    },
    {
     "name": "stderr",
     "output_type": "stream",
     "text": [
      "\r",
      " 74%|██████████████████████████████████████████████                | 87/117 [15:47<05:25, 10.85s/it]"
     ]
    },
    {
     "name": "stderr",
     "output_type": "stream",
     "text": [
      "\r",
      " 75%|██████████████████████████████████████████████▋               | 88/117 [15:51<04:16,  8.83s/it]"
     ]
    },
    {
     "name": "stderr",
     "output_type": "stream",
     "text": [
      "\r",
      " 76%|███████████████████████████████████████████████▏              | 89/117 [16:04<04:41, 10.05s/it]"
     ]
    },
    {
     "name": "stderr",
     "output_type": "stream",
     "text": [
      "\r",
      " 77%|███████████████████████████████████████████████▋              | 90/117 [16:18<05:03, 11.24s/it]"
     ]
    },
    {
     "name": "stderr",
     "output_type": "stream",
     "text": [
      "\r",
      " 78%|████████████████████████████████████████████████▏             | 91/117 [16:24<04:08,  9.58s/it]"
     ]
    },
    {
     "name": "stderr",
     "output_type": "stream",
     "text": [
      "\r",
      " 79%|████████████████████████████████████████████████▊             | 92/117 [16:37<04:25, 10.63s/it]"
     ]
    },
    {
     "name": "stderr",
     "output_type": "stream",
     "text": [
      "\r",
      " 79%|█████████████████████████████████████████████████▎            | 93/117 [16:52<04:46, 11.93s/it]"
     ]
    },
    {
     "name": "stderr",
     "output_type": "stream",
     "text": [
      "\r",
      " 80%|█████████████████████████████████████████████████▊            | 94/117 [16:58<03:55, 10.23s/it]"
     ]
    },
    {
     "name": "stderr",
     "output_type": "stream",
     "text": [
      "\r",
      " 81%|██████████████████████████████████████████████████▎           | 95/117 [17:12<04:08, 11.27s/it]"
     ]
    },
    {
     "name": "stderr",
     "output_type": "stream",
     "text": [
      "\r",
      " 82%|██████████████████████████████████████████████████▊           | 96/117 [17:27<04:22, 12.49s/it]"
     ]
    },
    {
     "name": "stderr",
     "output_type": "stream",
     "text": [
      "\r",
      " 83%|███████████████████████████████████████████████████▍          | 97/117 [17:34<03:35, 10.80s/it]"
     ]
    },
    {
     "name": "stderr",
     "output_type": "stream",
     "text": [
      "\r",
      " 84%|███████████████████████████████████████████████████▉          | 98/117 [17:48<03:43, 11.78s/it]"
     ]
    },
    {
     "name": "stderr",
     "output_type": "stream",
     "text": [
      "\r",
      " 85%|████████████████████████████████████████████████████▍         | 99/117 [18:04<03:54, 13.00s/it]"
     ]
    },
    {
     "name": "stderr",
     "output_type": "stream",
     "text": [
      "\r",
      " 85%|████████████████████████████████████████████████████▏        | 100/117 [18:11<03:12, 11.32s/it]"
     ]
    },
    {
     "name": "stderr",
     "output_type": "stream",
     "text": [
      "\r",
      " 86%|████████████████████████████████████████████████████▋        | 101/117 [18:26<03:17, 12.32s/it]"
     ]
    },
    {
     "name": "stderr",
     "output_type": "stream",
     "text": [
      "\r",
      " 87%|█████████████████████████████████████████████████████▏       | 102/117 [18:42<03:21, 13.43s/it]"
     ]
    },
    {
     "name": "stderr",
     "output_type": "stream",
     "text": [
      "\r",
      " 88%|█████████████████████████████████████████████████████▋       | 103/117 [18:49<02:44, 11.73s/it]"
     ]
    },
    {
     "name": "stderr",
     "output_type": "stream",
     "text": [
      "\r",
      " 89%|██████████████████████████████████████████████████████▏      | 104/117 [19:05<02:46, 12.79s/it]"
     ]
    },
    {
     "name": "stderr",
     "output_type": "stream",
     "text": [
      "\r",
      " 90%|██████████████████████████████████████████████████████▋      | 105/117 [19:21<02:47, 13.94s/it]"
     ]
    },
    {
     "name": "stderr",
     "output_type": "stream",
     "text": [
      "\r",
      " 91%|███████████████████████████████████████████████████████▎     | 106/117 [19:30<02:14, 12.20s/it]"
     ]
    },
    {
     "name": "stderr",
     "output_type": "stream",
     "text": [
      "\r",
      " 91%|███████████████████████████████████████████████████████▊     | 107/117 [19:45<02:11, 13.13s/it]"
     ]
    },
    {
     "name": "stderr",
     "output_type": "stream",
     "text": [
      "\r",
      " 92%|████████████████████████████████████████████████████████▎    | 108/117 [20:02<02:09, 14.42s/it]"
     ]
    },
    {
     "name": "stderr",
     "output_type": "stream",
     "text": [
      "\r",
      " 93%|████████████████████████████████████████████████████████▊    | 109/117 [20:11<01:42, 12.87s/it]"
     ]
    },
    {
     "name": "stderr",
     "output_type": "stream",
     "text": [
      "\r",
      " 94%|█████████████████████████████████████████████████████████▎   | 110/117 [20:27<01:35, 13.65s/it]"
     ]
    },
    {
     "name": "stderr",
     "output_type": "stream",
     "text": [
      "\r",
      " 95%|█████████████████████████████████████████████████████████▊   | 111/117 [20:45<01:29, 14.92s/it]"
     ]
    },
    {
     "name": "stderr",
     "output_type": "stream",
     "text": [
      "\r",
      " 96%|██████████████████████████████████████████████████████████▍  | 112/117 [20:55<01:06, 13.36s/it]"
     ]
    },
    {
     "name": "stderr",
     "output_type": "stream",
     "text": [
      "\r",
      " 97%|██████████████████████████████████████████████████████████▉  | 113/117 [21:11<00:56, 14.14s/it]"
     ]
    },
    {
     "name": "stderr",
     "output_type": "stream",
     "text": [
      "\r",
      " 97%|███████████████████████████████████████████████████████████▍ | 114/117 [21:29<00:45, 15.29s/it]"
     ]
    },
    {
     "name": "stderr",
     "output_type": "stream",
     "text": [
      "\r",
      " 98%|███████████████████████████████████████████████████████████▉ | 115/117 [21:39<00:27, 13.76s/it]"
     ]
    },
    {
     "name": "stderr",
     "output_type": "stream",
     "text": [
      "\r",
      " 99%|████████████████████████████████████████████████████████████▍| 116/117 [21:54<00:14, 14.34s/it]"
     ]
    },
    {
     "name": "stderr",
     "output_type": "stream",
     "text": [
      "\r",
      "100%|█████████████████████████████████████████████████████████████| 117/117 [22:12<00:00, 15.18s/it]"
     ]
    },
    {
     "name": "stderr",
     "output_type": "stream",
     "text": [
      "\r",
      "100%|█████████████████████████████████████████████████████████████| 117/117 [22:12<00:00, 11.38s/it]"
     ]
    },
    {
     "name": "stderr",
     "output_type": "stream",
     "text": [
      "\n"
     ]
    }
   ],
   "source": [
    "consensus_results = []\n",
    "\n",
    "with ProcessPoolExecutor(max_workers=conf.GENERAL[\"N_JOBS\"]) as executor:\n",
    "    tasks = {\n",
    "        executor.submit(\n",
    "            run_method_and_compute_agreement,\n",
    "            m,\n",
    "            ensemble_coassoc_matrix,\n",
    "            full_ensemble,\n",
    "            k,\n",
    "        ): (m.__name__, k)\n",
    "        for m in all_consensus_methods\n",
    "        for k in range(CLUSTERING_OPTIONS[\"K_MIN\"], CLUSTERING_OPTIONS[\"K_MAX\"] + 1)\n",
    "    }\n",
    "\n",
    "    for future in tqdm(as_completed(tasks), total=len(tasks), disable=False, ncols=100):\n",
    "        method_name, k = tasks[future]\n",
    "        part, performance_values = future.result()\n",
    "\n",
    "        method_results = {\n",
    "            \"method\": method_name,\n",
    "            \"partition\": part,\n",
    "            \"k\": k,\n",
    "        }\n",
    "        method_results.update(performance_values)\n",
    "\n",
    "        consensus_results.append(method_results)"
   ]
  },
  {
   "cell_type": "code",
   "execution_count": 18,
   "metadata": {
    "execution": {
     "iopub.execute_input": "2021-01-06T21:27:27.504224Z",
     "iopub.status.busy": "2021-01-06T21:27:27.503866Z",
     "iopub.status.idle": "2021-01-06T21:27:27.515949Z",
     "shell.execute_reply": "2021-01-06T21:27:27.515573Z"
    },
    "papermill": {
     "duration": 0.046715,
     "end_time": "2021-01-06T21:27:27.516039",
     "exception": false,
     "start_time": "2021-01-06T21:27:27.469324",
     "status": "completed"
    },
    "tags": []
   },
   "outputs": [],
   "source": [
    "# TODO: check if each partition is really generating k clusters"
   ]
  },
  {
   "cell_type": "code",
   "execution_count": 19,
   "metadata": {
    "execution": {
     "iopub.execute_input": "2021-01-06T21:27:27.584374Z",
     "iopub.status.busy": "2021-01-06T21:27:27.584015Z",
     "iopub.status.idle": "2021-01-06T21:27:27.596363Z",
     "shell.execute_reply": "2021-01-06T21:27:27.595989Z"
    },
    "papermill": {
     "duration": 0.04676,
     "end_time": "2021-01-06T21:27:27.596453",
     "exception": false,
     "start_time": "2021-01-06T21:27:27.549693",
     "status": "completed"
    },
    "tags": []
   },
   "outputs": [],
   "source": [
    "consensus_results = pd.DataFrame(consensus_results)"
   ]
  },
  {
   "cell_type": "code",
   "execution_count": 20,
   "metadata": {
    "execution": {
     "iopub.execute_input": "2021-01-06T21:27:27.664178Z",
     "iopub.status.busy": "2021-01-06T21:27:27.663815Z",
     "iopub.status.idle": "2021-01-06T21:27:27.674592Z",
     "shell.execute_reply": "2021-01-06T21:27:27.674220Z"
    },
    "papermill": {
     "duration": 0.044943,
     "end_time": "2021-01-06T21:27:27.674685",
     "exception": false,
     "start_time": "2021-01-06T21:27:27.629742",
     "status": "completed"
    },
    "tags": []
   },
   "outputs": [
    {
     "data": {
      "text/plain": [
       "(117, 12)"
      ]
     },
     "metadata": {},
     "output_type": "display_data"
    }
   ],
   "source": [
    "display(consensus_results.shape)"
   ]
  },
  {
   "cell_type": "code",
   "execution_count": 21,
   "metadata": {
    "execution": {
     "iopub.execute_input": "2021-01-06T21:27:27.742840Z",
     "iopub.status.busy": "2021-01-06T21:27:27.742480Z",
     "iopub.status.idle": "2021-01-06T21:27:27.766886Z",
     "shell.execute_reply": "2021-01-06T21:27:27.767184Z"
    },
    "papermill": {
     "duration": 0.059532,
     "end_time": "2021-01-06T21:27:27.767294",
     "exception": false,
     "start_time": "2021-01-06T21:27:27.707762",
     "status": "completed"
    },
    "tags": []
   },
   "outputs": [
    {
     "data": {
      "text/html": [
       "<div>\n",
       "<style scoped>\n",
       "    .dataframe tbody tr th:only-of-type {\n",
       "        vertical-align: middle;\n",
       "    }\n",
       "\n",
       "    .dataframe tbody tr th {\n",
       "        vertical-align: top;\n",
       "    }\n",
       "\n",
       "    .dataframe thead th {\n",
       "        text-align: right;\n",
       "    }\n",
       "</style>\n",
       "<table border=\"1\" class=\"dataframe\">\n",
       "  <thead>\n",
       "    <tr style=\"text-align: right;\">\n",
       "      <th></th>\n",
       "      <th>method</th>\n",
       "      <th>partition</th>\n",
       "      <th>k</th>\n",
       "      <th>ari_mean</th>\n",
       "      <th>ari_median</th>\n",
       "      <th>ari_std</th>\n",
       "      <th>ami_mean</th>\n",
       "      <th>ami_median</th>\n",
       "      <th>ami_std</th>\n",
       "      <th>nmi_mean</th>\n",
       "      <th>nmi_median</th>\n",
       "      <th>nmi_std</th>\n",
       "    </tr>\n",
       "  </thead>\n",
       "  <tbody>\n",
       "    <tr>\n",
       "      <th>0</th>\n",
       "      <td>eac_average_coassoc_matrix</td>\n",
       "      <td>[0, 0, 0, 0, 0, 0, 0, 0, 0, 0, 0, 0, 0, 0, 0, ...</td>\n",
       "      <td>2</td>\n",
       "      <td>0.240317</td>\n",
       "      <td>0.037024</td>\n",
       "      <td>0.349342</td>\n",
       "      <td>0.249490</td>\n",
       "      <td>0.080186</td>\n",
       "      <td>0.324666</td>\n",
       "      <td>0.251982</td>\n",
       "      <td>0.082369</td>\n",
       "      <td>0.323813</td>\n",
       "    </tr>\n",
       "    <tr>\n",
       "      <th>1</th>\n",
       "      <td>eac_average_coassoc_matrix</td>\n",
       "      <td>[0, 0, 0, 0, 0, 0, 0, 0, 0, 0, 0, 0, 0, 0, 0, ...</td>\n",
       "      <td>3</td>\n",
       "      <td>0.263578</td>\n",
       "      <td>0.054609</td>\n",
       "      <td>0.356479</td>\n",
       "      <td>0.284536</td>\n",
       "      <td>0.112219</td>\n",
       "      <td>0.323680</td>\n",
       "      <td>0.288405</td>\n",
       "      <td>0.116221</td>\n",
       "      <td>0.322205</td>\n",
       "    </tr>\n",
       "    <tr>\n",
       "      <th>2</th>\n",
       "      <td>eac_average_coassoc_matrix</td>\n",
       "      <td>[2, 2, 2, 2, 2, 2, 2, 2, 2, 2, 2, 2, 2, 2, 2, ...</td>\n",
       "      <td>4</td>\n",
       "      <td>0.287902</td>\n",
       "      <td>0.124714</td>\n",
       "      <td>0.331105</td>\n",
       "      <td>0.315595</td>\n",
       "      <td>0.187761</td>\n",
       "      <td>0.275006</td>\n",
       "      <td>0.320842</td>\n",
       "      <td>0.192473</td>\n",
       "      <td>0.273039</td>\n",
       "    </tr>\n",
       "    <tr>\n",
       "      <th>3</th>\n",
       "      <td>eac_average_coassoc_matrix</td>\n",
       "      <td>[0, 0, 0, 0, 0, 0, 0, 0, 0, 0, 0, 0, 0, 0, 0, ...</td>\n",
       "      <td>5</td>\n",
       "      <td>0.287923</td>\n",
       "      <td>0.124713</td>\n",
       "      <td>0.331126</td>\n",
       "      <td>0.318194</td>\n",
       "      <td>0.191098</td>\n",
       "      <td>0.276620</td>\n",
       "      <td>0.324061</td>\n",
       "      <td>0.195962</td>\n",
       "      <td>0.274261</td>\n",
       "    </tr>\n",
       "    <tr>\n",
       "      <th>4</th>\n",
       "      <td>eac_average_coassoc_matrix</td>\n",
       "      <td>[0, 0, 0, 0, 0, 0, 0, 0, 0, 0, 0, 0, 0, 0, 0, ...</td>\n",
       "      <td>6</td>\n",
       "      <td>0.223957</td>\n",
       "      <td>0.147902</td>\n",
       "      <td>0.226714</td>\n",
       "      <td>0.299478</td>\n",
       "      <td>0.262243</td>\n",
       "      <td>0.142417</td>\n",
       "      <td>0.306541</td>\n",
       "      <td>0.268924</td>\n",
       "      <td>0.141986</td>\n",
       "    </tr>\n",
       "  </tbody>\n",
       "</table>\n",
       "</div>"
      ],
      "text/plain": [
       "                       method  \\\n",
       "0  eac_average_coassoc_matrix   \n",
       "1  eac_average_coassoc_matrix   \n",
       "2  eac_average_coassoc_matrix   \n",
       "3  eac_average_coassoc_matrix   \n",
       "4  eac_average_coassoc_matrix   \n",
       "\n",
       "                                           partition  k  ari_mean  ari_median  \\\n",
       "0  [0, 0, 0, 0, 0, 0, 0, 0, 0, 0, 0, 0, 0, 0, 0, ...  2  0.240317    0.037024   \n",
       "1  [0, 0, 0, 0, 0, 0, 0, 0, 0, 0, 0, 0, 0, 0, 0, ...  3  0.263578    0.054609   \n",
       "2  [2, 2, 2, 2, 2, 2, 2, 2, 2, 2, 2, 2, 2, 2, 2, ...  4  0.287902    0.124714   \n",
       "3  [0, 0, 0, 0, 0, 0, 0, 0, 0, 0, 0, 0, 0, 0, 0, ...  5  0.287923    0.124713   \n",
       "4  [0, 0, 0, 0, 0, 0, 0, 0, 0, 0, 0, 0, 0, 0, 0, ...  6  0.223957    0.147902   \n",
       "\n",
       "    ari_std  ami_mean  ami_median   ami_std  nmi_mean  nmi_median   nmi_std  \n",
       "0  0.349342  0.249490    0.080186  0.324666  0.251982    0.082369  0.323813  \n",
       "1  0.356479  0.284536    0.112219  0.323680  0.288405    0.116221  0.322205  \n",
       "2  0.331105  0.315595    0.187761  0.275006  0.320842    0.192473  0.273039  \n",
       "3  0.331126  0.318194    0.191098  0.276620  0.324061    0.195962  0.274261  \n",
       "4  0.226714  0.299478    0.262243  0.142417  0.306541    0.268924  0.141986  "
      ]
     },
     "execution_count": 21,
     "metadata": {},
     "output_type": "execute_result"
    }
   ],
   "source": [
    "consensus_results.head()"
   ]
  },
  {
   "cell_type": "markdown",
   "metadata": {
    "papermill": {
     "duration": 0.032556,
     "end_time": "2021-01-06T21:27:27.834083",
     "exception": false,
     "start_time": "2021-01-06T21:27:27.801527",
     "status": "completed"
    },
    "tags": []
   },
   "source": [
    "## Testing"
   ]
  },
  {
   "cell_type": "code",
   "execution_count": 22,
   "metadata": {
    "execution": {
     "iopub.execute_input": "2021-01-06T21:27:27.904086Z",
     "iopub.status.busy": "2021-01-06T21:27:27.903701Z",
     "iopub.status.idle": "2021-01-06T21:27:27.914721Z",
     "shell.execute_reply": "2021-01-06T21:27:27.915019Z"
    },
    "papermill": {
     "duration": 0.048291,
     "end_time": "2021-01-06T21:27:27.915135",
     "exception": false,
     "start_time": "2021-01-06T21:27:27.866844",
     "status": "completed"
    },
    "tags": []
   },
   "outputs": [],
   "source": [
    "assert not consensus_results.isna().any().any()"
   ]
  },
  {
   "cell_type": "code",
   "execution_count": 23,
   "metadata": {
    "execution": {
     "iopub.execute_input": "2021-01-06T21:27:27.984162Z",
     "iopub.status.busy": "2021-01-06T21:27:27.983792Z",
     "iopub.status.idle": "2021-01-06T21:27:28.001636Z",
     "shell.execute_reply": "2021-01-06T21:27:28.001262Z"
    },
    "papermill": {
     "duration": 0.053271,
     "end_time": "2021-01-06T21:27:28.001726",
     "exception": false,
     "start_time": "2021-01-06T21:27:27.948455",
     "status": "completed"
    },
    "tags": []
   },
   "outputs": [
    {
     "data": {
      "text/plain": [
       "0       2\n",
       "1       3\n",
       "2       4\n",
       "3       5\n",
       "4       6\n",
       "       ..\n",
       "112    36\n",
       "113    37\n",
       "114    38\n",
       "115    39\n",
       "116    40\n",
       "Name: partition, Length: 117, dtype: int64"
      ]
     },
     "metadata": {},
     "output_type": "display_data"
    }
   ],
   "source": [
    "# check that the number of clusters in the partitions are the expected ones\n",
    "_real_k_values = consensus_results[\"partition\"].apply(lambda x: np.unique(x).shape[0])\n",
    "display(_real_k_values)\n",
    "assert np.all(consensus_results[\"k\"].values == _real_k_values.values)"
   ]
  },
  {
   "cell_type": "markdown",
   "metadata": {
    "papermill": {
     "duration": 0.032953,
     "end_time": "2021-01-06T21:27:28.068696",
     "exception": false,
     "start_time": "2021-01-06T21:27:28.035743",
     "status": "completed"
    },
    "tags": []
   },
   "source": [
    "## Save"
   ]
  },
  {
   "cell_type": "code",
   "execution_count": 24,
   "metadata": {
    "execution": {
     "iopub.execute_input": "2021-01-06T21:27:28.137454Z",
     "iopub.status.busy": "2021-01-06T21:27:28.137090Z",
     "iopub.status.idle": "2021-01-06T21:27:28.147072Z",
     "shell.execute_reply": "2021-01-06T21:27:28.147352Z"
    },
    "papermill": {
     "duration": 0.045667,
     "end_time": "2021-01-06T21:27:28.147462",
     "exception": false,
     "start_time": "2021-01-06T21:27:28.101795",
     "status": "completed"
    },
    "tags": []
   },
   "outputs": [
    {
     "data": {
      "text/plain": [
       "PosixPath('/home/miltondp/projects/labs/greenelab/phenoplier/base3/results/clustering/consensus_clustering/consensus_clustering_runs.pkl')"
      ]
     },
     "metadata": {},
     "output_type": "display_data"
    }
   ],
   "source": [
    "output_file = Path(RESULTS_DIR, \"consensus_clustering_runs.pkl\").resolve()\n",
    "display(output_file)"
   ]
  },
  {
   "cell_type": "code",
   "execution_count": 25,
   "metadata": {
    "execution": {
     "iopub.execute_input": "2021-01-06T21:27:28.218504Z",
     "iopub.status.busy": "2021-01-06T21:27:28.218141Z",
     "iopub.status.idle": "2021-01-06T21:27:28.233013Z",
     "shell.execute_reply": "2021-01-06T21:27:28.233304Z"
    },
    "papermill": {
     "duration": 0.051134,
     "end_time": "2021-01-06T21:27:28.233420",
     "exception": false,
     "start_time": "2021-01-06T21:27:28.182286",
     "status": "completed"
    },
    "tags": []
   },
   "outputs": [],
   "source": [
    "consensus_results.to_pickle(output_file)"
   ]
  },
  {
   "cell_type": "code",
   "execution_count": null,
   "metadata": {
    "papermill": {
     "duration": 0.033547,
     "end_time": "2021-01-06T21:27:28.301677",
     "exception": false,
     "start_time": "2021-01-06T21:27:28.268130",
     "status": "completed"
    },
    "tags": []
   },
   "outputs": [],
   "source": []
  }
 ],
 "metadata": {
  "jupytext": {
   "cell_metadata_filter": "all,-execution,-papermill",
   "formats": "ipynb,py//py:percent"
  },
  "kernelspec": {
   "display_name": "Python 3",
   "language": "python",
   "name": "python3"
  },
  "language_info": {
   "codemirror_mode": {
    "name": "ipython",
    "version": 3
   },
   "file_extension": ".py",
   "mimetype": "text/x-python",
   "name": "python",
   "nbconvert_exporter": "python",
   "pygments_lexer": "ipython3",
   "version": "3.8.6"
  },
  "papermill": {
   "default_parameters": {},
   "duration": 1335.805267,
   "end_time": "2021-01-06T21:27:28.741677",
   "environment_variables": {},
   "exception": null,
   "input_path": "15_cluster_analysis/020_01-combine_ensemble.ipynb",
   "output_path": "15_cluster_analysis/020_01-combine_ensemble.run.ipynb",
   "parameters": {},
   "start_time": "2021-01-06T21:05:12.936410",
   "version": "2.2.2"
  },
  "toc-autonumbering": true,
  "toc-showcode": false,
  "toc-showmarkdowntxt": false,
  "toc-showtags": false
 },
 "nbformat": 4,
 "nbformat_minor": 4
}