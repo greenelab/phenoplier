{
 "cells": [
  {
   "cell_type": "markdown",
   "metadata": {
    "papermill": {
     "duration": 0.013988,
     "end_time": "2020-12-06T04:09:56.303878",
     "exception": false,
     "start_time": "2020-12-06T04:09:56.289890",
     "status": "completed"
    },
    "tags": []
   },
   "source": [
    "# Description"
   ]
  },
  {
   "cell_type": "markdown",
   "metadata": {
    "papermill": {
     "duration": 0.010329,
     "end_time": "2020-12-06T04:09:56.324771",
     "exception": false,
     "start_time": "2020-12-06T04:09:56.314442",
     "status": "completed"
    },
    "tags": []
   },
   "source": [
    "It combines all clustering solutions generated into a single consolidated solution using consensus clustering."
   ]
  },
  {
   "cell_type": "markdown",
   "metadata": {
    "papermill": {
     "duration": 0.010325,
     "end_time": "2020-12-06T04:09:56.345504",
     "exception": false,
     "start_time": "2020-12-06T04:09:56.335179",
     "status": "completed"
    },
    "tags": []
   },
   "source": [
    "# Environment variables"
   ]
  },
  {
   "cell_type": "code",
   "execution_count": 1,
   "metadata": {
    "execution": {
     "iopub.execute_input": "2020-12-06T04:09:56.374666Z",
     "iopub.status.busy": "2020-12-06T04:09:56.374120Z",
     "iopub.status.idle": "2020-12-06T04:09:56.377205Z",
     "shell.execute_reply": "2020-12-06T04:09:56.376776Z"
    },
    "papermill": {
     "duration": 0.021255,
     "end_time": "2020-12-06T04:09:56.377325",
     "exception": false,
     "start_time": "2020-12-06T04:09:56.356070",
     "status": "completed"
    },
    "tags": []
   },
   "outputs": [
    {
     "data": {
      "text/plain": [
       "1"
      ]
     },
     "metadata": {},
     "output_type": "display_data"
    }
   ],
   "source": [
    "from IPython.display import display\n",
    "\n",
    "# set numpy n_jobs to 1, since I'll be using n_jobs later\n",
    "NUMPY_N_JOBS = 1\n",
    "display(NUMPY_N_JOBS)"
   ]
  },
  {
   "cell_type": "code",
   "execution_count": 2,
   "metadata": {
    "execution": {
     "iopub.execute_input": "2020-12-06T04:09:56.403822Z",
     "iopub.status.busy": "2020-12-06T04:09:56.403412Z",
     "iopub.status.idle": "2020-12-06T04:09:56.405342Z",
     "shell.execute_reply": "2020-12-06T04:09:56.405617Z"
    },
    "papermill": {
     "duration": 0.017167,
     "end_time": "2020-12-06T04:09:56.405721",
     "exception": false,
     "start_time": "2020-12-06T04:09:56.388554",
     "status": "completed"
    },
    "tags": []
   },
   "outputs": [
    {
     "name": "stdout",
     "output_type": "stream",
     "text": [
      "env: MKL_NUM_THREADS=1\n",
      "env: OPEN_BLAS_NUM_THREADS=1\n",
      "env: NUMEXPR_NUM_THREADS=1\n",
      "env: OMP_NUM_THREADS=1\n"
     ]
    }
   ],
   "source": [
    "%env MKL_NUM_THREADS=$NUMPY_N_JOBS\n",
    "%env OPEN_BLAS_NUM_THREADS=$NUMPY_N_JOBS\n",
    "%env NUMEXPR_NUM_THREADS=$NUMPY_N_JOBS\n",
    "%env OMP_NUM_THREADS=$NUMPY_N_JOBS"
   ]
  },
  {
   "cell_type": "markdown",
   "metadata": {
    "papermill": {
     "duration": 0.010703,
     "end_time": "2020-12-06T04:09:56.427422",
     "exception": false,
     "start_time": "2020-12-06T04:09:56.416719",
     "status": "completed"
    },
    "tags": []
   },
   "source": [
    "# Modules loading"
   ]
  },
  {
   "cell_type": "code",
   "execution_count": 3,
   "metadata": {
    "execution": {
     "iopub.execute_input": "2020-12-06T04:09:56.451860Z",
     "iopub.status.busy": "2020-12-06T04:09:56.451477Z",
     "iopub.status.idle": "2020-12-06T04:09:56.459675Z",
     "shell.execute_reply": "2020-12-06T04:09:56.459232Z"
    },
    "papermill": {
     "duration": 0.021553,
     "end_time": "2020-12-06T04:09:56.459777",
     "exception": false,
     "start_time": "2020-12-06T04:09:56.438224",
     "status": "completed"
    },
    "tags": []
   },
   "outputs": [],
   "source": [
    "%load_ext autoreload\n",
    "%autoreload 2"
   ]
  },
  {
   "cell_type": "code",
   "execution_count": 4,
   "metadata": {
    "execution": {
     "iopub.execute_input": "2020-12-06T04:09:56.484292Z",
     "iopub.status.busy": "2020-12-06T04:09:56.483926Z",
     "iopub.status.idle": "2020-12-06T04:09:57.052002Z",
     "shell.execute_reply": "2020-12-06T04:09:57.051559Z"
    },
    "papermill": {
     "duration": 0.581222,
     "end_time": "2020-12-06T04:09:57.052113",
     "exception": false,
     "start_time": "2020-12-06T04:09:56.470891",
     "status": "completed"
    },
    "tags": []
   },
   "outputs": [],
   "source": [
    "from pathlib import Path\n",
    "\n",
    "import numpy as np\n",
    "import pandas as pd\n",
    "\n",
    "import conf"
   ]
  },
  {
   "cell_type": "markdown",
   "metadata": {
    "papermill": {
     "duration": 0.013523,
     "end_time": "2020-12-06T04:09:57.079973",
     "exception": false,
     "start_time": "2020-12-06T04:09:57.066450",
     "status": "completed"
    },
    "tags": []
   },
   "source": [
    "# Settings"
   ]
  },
  {
   "cell_type": "code",
   "execution_count": 5,
   "metadata": {
    "execution": {
     "iopub.execute_input": "2020-12-06T04:09:57.106143Z",
     "iopub.status.busy": "2020-12-06T04:09:57.105768Z",
     "iopub.status.idle": "2020-12-06T04:09:57.115829Z",
     "shell.execute_reply": "2020-12-06T04:09:57.115459Z"
    },
    "papermill": {
     "duration": 0.02374,
     "end_time": "2020-12-06T04:09:57.115924",
     "exception": false,
     "start_time": "2020-12-06T04:09:57.092184",
     "status": "completed"
    },
    "tags": []
   },
   "outputs": [],
   "source": [
    "RANDOM_GENERATOR = np.random.default_rng(12345)"
   ]
  },
  {
   "cell_type": "markdown",
   "metadata": {
    "papermill": {
     "duration": 0.010712,
     "end_time": "2020-12-06T04:09:57.138422",
     "exception": false,
     "start_time": "2020-12-06T04:09:57.127710",
     "status": "completed"
    },
    "tags": []
   },
   "source": [
    "## Ensemble size"
   ]
  },
  {
   "cell_type": "code",
   "execution_count": 6,
   "metadata": {
    "execution": {
     "iopub.execute_input": "2020-12-06T04:09:57.162669Z",
     "iopub.status.busy": "2020-12-06T04:09:57.162307Z",
     "iopub.status.idle": "2020-12-06T04:09:57.172024Z",
     "shell.execute_reply": "2020-12-06T04:09:57.171648Z"
    },
    "papermill": {
     "duration": 0.022805,
     "end_time": "2020-12-06T04:09:57.172114",
     "exception": false,
     "start_time": "2020-12-06T04:09:57.149309",
     "status": "completed"
    },
    "tags": []
   },
   "outputs": [],
   "source": [
    "EXPECTED_ENSEMBLE_SIZE = 295\n",
    "\n",
    "MIN_ENSEMBLE_SIZE = 290\n",
    "MAX_ENSEMBLE_SIZE = 300"
   ]
  },
  {
   "cell_type": "markdown",
   "metadata": {
    "papermill": {
     "duration": 0.011255,
     "end_time": "2020-12-06T04:09:57.194771",
     "exception": false,
     "start_time": "2020-12-06T04:09:57.183516",
     "status": "completed"
    },
    "tags": []
   },
   "source": [
    "## Consensus clustering"
   ]
  },
  {
   "cell_type": "code",
   "execution_count": 7,
   "metadata": {
    "execution": {
     "iopub.execute_input": "2020-12-06T04:09:57.219363Z",
     "iopub.status.busy": "2020-12-06T04:09:57.218997Z",
     "iopub.status.idle": "2020-12-06T04:09:57.229816Z",
     "shell.execute_reply": "2020-12-06T04:09:57.229449Z"
    },
    "papermill": {
     "duration": 0.024018,
     "end_time": "2020-12-06T04:09:57.229903",
     "exception": false,
     "start_time": "2020-12-06T04:09:57.205885",
     "status": "completed"
    },
    "tags": []
   },
   "outputs": [
    {
     "data": {
      "text/plain": [
       "{'K_MIN': 2, 'K_MAX': 40}"
      ]
     },
     "metadata": {},
     "output_type": "display_data"
    }
   ],
   "source": [
    "CLUSTERING_OPTIONS = {}\n",
    "\n",
    "CLUSTERING_OPTIONS[\"K_MIN\"] = 2\n",
    "CLUSTERING_OPTIONS[\"K_MAX\"] = 40\n",
    "\n",
    "display(CLUSTERING_OPTIONS)"
   ]
  },
  {
   "cell_type": "code",
   "execution_count": 8,
   "metadata": {
    "execution": {
     "iopub.execute_input": "2020-12-06T04:09:57.255314Z",
     "iopub.status.busy": "2020-12-06T04:09:57.254943Z",
     "iopub.status.idle": "2020-12-06T04:09:57.265591Z",
     "shell.execute_reply": "2020-12-06T04:09:57.265270Z"
    },
    "papermill": {
     "duration": 0.024395,
     "end_time": "2020-12-06T04:09:57.265679",
     "exception": false,
     "start_time": "2020-12-06T04:09:57.241284",
     "status": "completed"
    },
    "tags": []
   },
   "outputs": [
    {
     "data": {
      "text/plain": [
       "PosixPath('/home/miltondp/projects/labs/greenelab/phenoplier/base/results/clustering/consensus_clustering')"
      ]
     },
     "metadata": {},
     "output_type": "display_data"
    }
   ],
   "source": [
    "# output dir for this notebook\n",
    "RESULTS_DIR = Path(conf.RESULTS[\"CLUSTERING_DIR\"], \"consensus_clustering\").resolve()\n",
    "RESULTS_DIR.mkdir(parents=True, exist_ok=True)\n",
    "\n",
    "display(RESULTS_DIR)"
   ]
  },
  {
   "cell_type": "markdown",
   "metadata": {
    "papermill": {
     "duration": 0.011828,
     "end_time": "2020-12-06T04:09:57.289616",
     "exception": false,
     "start_time": "2020-12-06T04:09:57.277788",
     "status": "completed"
    },
    "tags": []
   },
   "source": [
    "# Get ensemble"
   ]
  },
  {
   "cell_type": "code",
   "execution_count": 9,
   "metadata": {
    "execution": {
     "iopub.execute_input": "2020-12-06T04:09:57.315104Z",
     "iopub.status.busy": "2020-12-06T04:09:57.314744Z",
     "iopub.status.idle": "2020-12-06T04:09:57.325153Z",
     "shell.execute_reply": "2020-12-06T04:09:57.324768Z"
    },
    "papermill": {
     "duration": 0.024186,
     "end_time": "2020-12-06T04:09:57.325241",
     "exception": false,
     "start_time": "2020-12-06T04:09:57.301055",
     "status": "completed"
    },
    "tags": []
   },
   "outputs": [
    {
     "data": {
      "text/plain": [
       "PosixPath('/home/miltondp/projects/labs/greenelab/phenoplier/base/results/clustering/consensus_clustering/ensemble.npy')"
      ]
     },
     "metadata": {},
     "output_type": "display_data"
    }
   ],
   "source": [
    "output_file = Path(RESULTS_DIR, \"ensemble.npy\").resolve()\n",
    "display(output_file)"
   ]
  },
  {
   "cell_type": "code",
   "execution_count": 10,
   "metadata": {
    "execution": {
     "iopub.execute_input": "2020-12-06T04:09:57.351719Z",
     "iopub.status.busy": "2020-12-06T04:09:57.351361Z",
     "iopub.status.idle": "2020-12-06T04:09:57.388590Z",
     "shell.execute_reply": "2020-12-06T04:09:57.388133Z"
    },
    "papermill": {
     "duration": 0.05132,
     "end_time": "2020-12-06T04:09:57.388708",
     "exception": false,
     "start_time": "2020-12-06T04:09:57.337388",
     "status": "completed"
    },
    "tags": []
   },
   "outputs": [],
   "source": [
    "full_ensemble = np.load(output_file)"
   ]
  },
  {
   "cell_type": "code",
   "execution_count": 11,
   "metadata": {
    "execution": {
     "iopub.execute_input": "2020-12-06T04:09:57.420517Z",
     "iopub.status.busy": "2020-12-06T04:09:57.420088Z",
     "iopub.status.idle": "2020-12-06T04:09:57.430716Z",
     "shell.execute_reply": "2020-12-06T04:09:57.430330Z"
    },
    "papermill": {
     "duration": 0.027393,
     "end_time": "2020-12-06T04:09:57.430809",
     "exception": false,
     "start_time": "2020-12-06T04:09:57.403416",
     "status": "completed"
    },
    "tags": []
   },
   "outputs": [
    {
     "data": {
      "text/plain": [
       "(4723, 3749)"
      ]
     },
     "execution_count": 11,
     "metadata": {},
     "output_type": "execute_result"
    }
   ],
   "source": [
    "display(full_ensemble.shape)"
   ]
  },
  {
   "cell_type": "markdown",
   "metadata": {
    "papermill": {
     "duration": 0.012373,
     "end_time": "2020-12-06T04:09:57.492676",
     "exception": false,
     "start_time": "2020-12-06T04:09:57.480303",
     "status": "completed"
    },
    "tags": []
   },
   "source": [
    "# Get ensemble coassociation distance matrix"
   ]
  },
  {
   "cell_type": "code",
   "execution_count": 13,
   "metadata": {
    "execution": {
     "iopub.execute_input": "2020-12-06T04:09:57.521046Z",
     "iopub.status.busy": "2020-12-06T04:09:57.520634Z",
     "iopub.status.idle": "2020-12-06T04:09:57.530576Z",
     "shell.execute_reply": "2020-12-06T04:09:57.530868Z"
    },
    "papermill": {
     "duration": 0.025787,
     "end_time": "2020-12-06T04:09:57.530972",
     "exception": false,
     "start_time": "2020-12-06T04:09:57.505185",
     "status": "completed"
    },
    "tags": []
   },
   "outputs": [
    {
     "data": {
      "text/plain": [
       "PosixPath('/home/miltondp/projects/labs/greenelab/phenoplier/base/results/clustering/consensus_clustering/ensemble_coassoc_matrix.npy')"
      ]
     },
     "metadata": {},
     "output_type": "display_data"
    }
   ],
   "source": [
    "output_file = Path(RESULTS_DIR, \"ensemble_coassoc_matrix.npy\").resolve()\n",
    "display(output_file)"
   ]
  },
  {
   "cell_type": "code",
   "execution_count": 14,
   "metadata": {
    "execution": {
     "iopub.execute_input": "2020-12-06T04:09:57.558990Z",
     "iopub.status.busy": "2020-12-06T04:09:57.558631Z",
     "iopub.status.idle": "2020-12-06T04:09:57.589654Z",
     "shell.execute_reply": "2020-12-06T04:09:57.590018Z"
    },
    "papermill": {
     "duration": 0.046263,
     "end_time": "2020-12-06T04:09:57.590143",
     "exception": false,
     "start_time": "2020-12-06T04:09:57.543880",
     "status": "completed"
    },
    "tags": []
   },
   "outputs": [],
   "source": [
    "ensemble_coassoc_matrix = np.load(output_file)"
   ]
  },
  {
   "cell_type": "code",
   "execution_count": 15,
   "metadata": {
    "execution": {
     "iopub.execute_input": "2020-12-06T04:09:57.622998Z",
     "iopub.status.busy": "2020-12-06T04:09:57.622622Z",
     "iopub.status.idle": "2020-12-06T04:09:57.633125Z",
     "shell.execute_reply": "2020-12-06T04:09:57.632746Z"
    },
    "papermill": {
     "duration": 0.027492,
     "end_time": "2020-12-06T04:09:57.633231",
     "exception": false,
     "start_time": "2020-12-06T04:09:57.605739",
     "status": "completed"
    },
    "tags": []
   },
   "outputs": [
    {
     "data": {
      "text/plain": [
       "(3749, 3749)"
      ]
     },
     "execution_count": 15,
     "metadata": {},
     "output_type": "execute_result"
    }
   ],
   "source": [
    "display(ensemble_coassoc_matrix.shape)"
   ]
  },
  {
   "cell_type": "code",
   "execution_count": 16,
   "metadata": {
    "execution": {
     "iopub.execute_input": "2020-12-06T04:09:57.664112Z",
     "iopub.status.busy": "2020-12-06T04:09:57.663723Z",
     "iopub.status.idle": "2020-12-06T04:09:57.674623Z",
     "shell.execute_reply": "2020-12-06T04:09:57.674920Z"
    },
    "papermill": {
     "duration": 0.026987,
     "end_time": "2020-12-06T04:09:57.675038",
     "exception": false,
     "start_time": "2020-12-06T04:09:57.648051",
     "status": "completed"
    },
    "tags": []
   },
   "outputs": [
    {
     "data": {
      "text/plain": [
       "array([[0.        , 0.04691148, 0.04563787, ..., 0.64168966, 0.67601713,\n",
       "        0.68860115],\n",
       "       [0.04691148, 0.        , 0.02101465, ..., 0.64147739, 0.67665953,\n",
       "        0.68647845],\n",
       "       [0.04563787, 0.02101465, 0.        , ..., 0.64084059, 0.6745182 ,\n",
       "        0.68414349],\n",
       "       ...,\n",
       "       [0.64168966, 0.64147739, 0.64084059, ..., 0.        , 0.57219137,\n",
       "        0.68177006],\n",
       "       [0.67601713, 0.67665953, 0.6745182 , ..., 0.57219137, 0.        ,\n",
       "        0.63498505],\n",
       "       [0.68860115, 0.68647845, 0.68414349, ..., 0.68177006, 0.63498505,\n",
       "        0.        ]])"
      ]
     },
     "execution_count": 16,
     "metadata": {},
     "output_type": "execute_result"
    }
   ],
   "source": [
    "display(ensemble_coassoc_matrix)"
   ]
  },
  {
   "cell_type": "markdown",
   "metadata": {
    "papermill": {
     "duration": 0.012931,
     "end_time": "2020-12-06T04:09:57.701961",
     "exception": false,
     "start_time": "2020-12-06T04:09:57.689030",
     "status": "completed"
    },
    "tags": []
   },
   "source": [
    "# Consensus clustering"
   ]
  },
  {
   "cell_type": "code",
   "execution_count": 17,
   "metadata": {
    "execution": {
     "iopub.execute_input": "2020-12-06T04:09:57.731093Z",
     "iopub.status.busy": "2020-12-06T04:09:57.730721Z",
     "iopub.status.idle": "2020-12-06T04:09:57.867207Z",
     "shell.execute_reply": "2020-12-06T04:09:57.866827Z"
    },
    "papermill": {
     "duration": 0.152274,
     "end_time": "2020-12-06T04:09:57.867297",
     "exception": false,
     "start_time": "2020-12-06T04:09:57.715023",
     "status": "completed"
    },
    "tags": []
   },
   "outputs": [],
   "source": [
    "from concurrent.futures import ProcessPoolExecutor, as_completed\n",
    "\n",
    "from tqdm import tqdm\n",
    "\n",
    "from clustering.ensemble import (\n",
    "    eac_single_coassoc_matrix,\n",
    "    eac_complete_coassoc_matrix,\n",
    "    eac_average_coassoc_matrix,\n",
    "    run_method_and_compute_agreement,\n",
    ")"
   ]
  },
  {
   "cell_type": "code",
   "execution_count": 18,
   "metadata": {
    "execution": {
     "iopub.execute_input": "2020-12-06T04:09:57.896324Z",
     "iopub.status.busy": "2020-12-06T04:09:57.895966Z",
     "iopub.status.idle": "2020-12-06T04:09:57.906701Z",
     "shell.execute_reply": "2020-12-06T04:09:57.906322Z"
    },
    "papermill": {
     "duration": 0.027886,
     "end_time": "2020-12-06T04:09:57.988900",
     "exception": false,
     "start_time": "2020-12-06T04:09:57.961014",
     "status": "completed"
    },
    "tags": []
   },
   "outputs": [],
   "source": [
    "all_consensus_methods = set((\n",
    "    eac_single_coassoc_matrix,\n",
    "    eac_complete_coassoc_matrix,\n",
    "    eac_average_coassoc_matrix,\n",
    "))\n",
    "display(all_consensus_methods)"
   ]
  },
  {
   "cell_type": "code",
   "execution_count": 19,
   "metadata": {
    "execution": {
     "iopub.execute_input": "2020-12-06T04:09:57.936654Z",
     "iopub.status.busy": "2020-12-06T04:09:57.936294Z",
     "iopub.status.idle": "2020-12-06T04:09:57.946787Z",
     "shell.execute_reply": "2020-12-06T04:09:57.946409Z"
    },
    "papermill": {
     "duration": 1991.770781,
     "end_time": "2020-12-06T04:43:09.773921",
     "exception": false,
     "start_time": "2020-12-06T04:09:58.003140",
     "status": "completed"
    },
    "tags": []
   },
   "outputs": [],
   "source": [
    "consensus_results = []\n",
    "\n",
    "with ProcessPoolExecutor(max_workers=conf.GENERAL[\"N_JOBS\"]) as executor:\n",
    "    tasks = {\n",
    "        executor.submit(\n",
    "            run_method_and_compute_agreement,\n",
    "            m,\n",
    "            ensemble_coassoc_matrix,\n",
    "            full_ensemble,\n",
    "            k,\n",
    "        ): (m.__name__, k)\n",
    "        for m in all_consensus_methods\n",
    "        for k in range(CLUSTERING_OPTIONS[\"K_MIN\"], CLUSTERING_OPTIONS[\"K_MAX\"] + 1)\n",
    "    }\n",
    "\n",
    "    for future in tqdm(as_completed(tasks), total=len(tasks), disable=False, ncols=100):\n",
    "        method_name, k = tasks[future]\n",
    "        part, performance_values = future.result()\n",
    "\n",
    "        method_results = {\n",
    "            \"method\": method_name,\n",
    "            \"partition\": part,\n",
    "            \"k\": k,\n",
    "        }\n",
    "        method_results.update(performance_values)\n",
    "\n",
    "        consensus_results.append(method_results)"
   ]
  },
  {
   "cell_type": "code",
   "execution_count": 22,
   "metadata": {
    "execution": {
     "iopub.execute_input": "2020-12-06T04:43:09.857144Z",
     "iopub.status.busy": "2020-12-06T04:43:09.856741Z",
     "iopub.status.idle": "2020-12-06T04:43:09.869961Z",
     "shell.execute_reply": "2020-12-06T04:43:09.869541Z"
    },
    "papermill": {
     "duration": 0.05419,
     "end_time": "2020-12-06T04:43:09.870056",
     "exception": false,
     "start_time": "2020-12-06T04:43:09.815866",
     "status": "completed"
    },
    "tags": []
   },
   "outputs": [],
   "source": [
    "# TODO: check if each partition is really generating k clusters"
   ]
  },
  {
   "cell_type": "code",
   "execution_count": 23,
   "metadata": {
    "execution": {
     "iopub.execute_input": "2020-12-06T04:43:09.951414Z",
     "iopub.status.busy": "2020-12-06T04:43:09.951058Z",
     "iopub.status.idle": "2020-12-06T04:43:09.964881Z",
     "shell.execute_reply": "2020-12-06T04:43:09.964457Z"
    },
    "papermill": {
     "duration": 0.055427,
     "end_time": "2020-12-06T04:43:09.964973",
     "exception": false,
     "start_time": "2020-12-06T04:43:09.909546",
     "status": "completed"
    },
    "tags": []
   },
   "outputs": [],
   "source": [
    "consensus_results = pd.DataFrame(consensus_results)"
   ]
  },
  {
   "cell_type": "code",
   "execution_count": 24,
   "metadata": {
    "execution": {
     "iopub.execute_input": "2020-12-06T04:43:10.046056Z",
     "iopub.status.busy": "2020-12-06T04:43:10.045701Z",
     "iopub.status.idle": "2020-12-06T04:43:10.057500Z",
     "shell.execute_reply": "2020-12-06T04:43:10.057169Z"
    },
    "papermill": {
     "duration": 0.052198,
     "end_time": "2020-12-06T04:43:10.057591",
     "exception": false,
     "start_time": "2020-12-06T04:43:10.005393",
     "status": "completed"
    },
    "tags": []
   },
   "outputs": [
    {
     "data": {
      "text/plain": [
       "(156, 12)"
      ]
     },
     "execution_count": 24,
     "metadata": {},
     "output_type": "execute_result"
    }
   ],
   "source": [
    "display(consensus_results.shape)"
   ]
  },
  {
   "cell_type": "code",
   "execution_count": 25,
   "metadata": {
    "execution": {
     "iopub.execute_input": "2020-12-06T04:43:10.139881Z",
     "iopub.status.busy": "2020-12-06T04:43:10.139521Z",
     "iopub.status.idle": "2020-12-06T04:43:10.164946Z",
     "shell.execute_reply": "2020-12-06T04:43:10.164531Z"
    },
    "papermill": {
     "duration": 0.066466,
     "end_time": "2020-12-06T04:43:10.165033",
     "exception": false,
     "start_time": "2020-12-06T04:43:10.098567",
     "status": "completed"
    },
    "tags": []
   },
   "outputs": [
    {
     "data": {
      "text/html": [
       "<div>\n",
       "<style scoped>\n",
       "    .dataframe tbody tr th:only-of-type {\n",
       "        vertical-align: middle;\n",
       "    }\n",
       "\n",
       "    .dataframe tbody tr th {\n",
       "        vertical-align: top;\n",
       "    }\n",
       "\n",
       "    .dataframe thead th {\n",
       "        text-align: right;\n",
       "    }\n",
       "</style>\n",
       "<table border=\"1\" class=\"dataframe\">\n",
       "  <thead>\n",
       "    <tr style=\"text-align: right;\">\n",
       "      <th></th>\n",
       "      <th>method</th>\n",
       "      <th>partition</th>\n",
       "      <th>k</th>\n",
       "      <th>ari_mean</th>\n",
       "      <th>ari_median</th>\n",
       "      <th>ari_std</th>\n",
       "      <th>ami_mean</th>\n",
       "      <th>ami_median</th>\n",
       "      <th>ami_std</th>\n",
       "      <th>nmi_mean</th>\n",
       "      <th>nmi_median</th>\n",
       "      <th>nmi_std</th>\n",
       "    </tr>\n",
       "  </thead>\n",
       "  <tbody>\n",
       "    <tr>\n",
       "      <th>0</th>\n",
       "      <td>eac_single_coassoc_matrix</td>\n",
       "      <td>[1, 1, 1, 1, 1, 1, 1, 1, 1, 1, 1, 1, 1, 1, 1, ...</td>\n",
       "      <td>2</td>\n",
       "      <td>0.053439</td>\n",
       "      <td>0.003480</td>\n",
       "      <td>0.116326</td>\n",
       "      <td>0.064278</td>\n",
       "      <td>0.024033</td>\n",
       "      <td>0.107959</td>\n",
       "      <td>0.066512</td>\n",
       "      <td>0.026027</td>\n",
       "      <td>0.108030</td>\n",
       "    </tr>\n",
       "    <tr>\n",
       "      <th>1</th>\n",
       "      <td>eac_single_coassoc_matrix</td>\n",
       "      <td>[0, 0, 0, 0, 0, 0, 0, 0, 0, 0, 0, 0, 0, 0, 0, ...</td>\n",
       "      <td>3</td>\n",
       "      <td>0.053489</td>\n",
       "      <td>0.003478</td>\n",
       "      <td>0.116426</td>\n",
       "      <td>0.069237</td>\n",
       "      <td>0.025384</td>\n",
       "      <td>0.116054</td>\n",
       "      <td>0.072338</td>\n",
       "      <td>0.028527</td>\n",
       "      <td>0.115985</td>\n",
       "    </tr>\n",
       "    <tr>\n",
       "      <th>2</th>\n",
       "      <td>eac_single_coassoc_matrix</td>\n",
       "      <td>[1, 1, 1, 1, 1, 1, 1, 1, 1, 1, 1, 1, 1, 1, 1, ...</td>\n",
       "      <td>4</td>\n",
       "      <td>0.252719</td>\n",
       "      <td>0.060596</td>\n",
       "      <td>0.348441</td>\n",
       "      <td>0.277629</td>\n",
       "      <td>0.109971</td>\n",
       "      <td>0.317636</td>\n",
       "      <td>0.282358</td>\n",
       "      <td>0.116379</td>\n",
       "      <td>0.315759</td>\n",
       "    </tr>\n",
       "    <tr>\n",
       "      <th>3</th>\n",
       "      <td>eac_single_coassoc_matrix</td>\n",
       "      <td>[0, 0, 0, 0, 0, 0, 0, 0, 0, 0, 0, 0, 0, 0, 0, ...</td>\n",
       "      <td>5</td>\n",
       "      <td>0.252720</td>\n",
       "      <td>0.060598</td>\n",
       "      <td>0.348433</td>\n",
       "      <td>0.277634</td>\n",
       "      <td>0.109910</td>\n",
       "      <td>0.316791</td>\n",
       "      <td>0.282665</td>\n",
       "      <td>0.116587</td>\n",
       "      <td>0.314763</td>\n",
       "    </tr>\n",
       "    <tr>\n",
       "      <th>4</th>\n",
       "      <td>eac_single_coassoc_matrix</td>\n",
       "      <td>[0, 0, 0, 0, 0, 0, 0, 0, 0, 0, 0, 0, 0, 0, 0, ...</td>\n",
       "      <td>6</td>\n",
       "      <td>0.244298</td>\n",
       "      <td>0.063207</td>\n",
       "      <td>0.330294</td>\n",
       "      <td>0.269699</td>\n",
       "      <td>0.114671</td>\n",
       "      <td>0.295526</td>\n",
       "      <td>0.275622</td>\n",
       "      <td>0.121864</td>\n",
       "      <td>0.293208</td>\n",
       "    </tr>\n",
       "  </tbody>\n",
       "</table>\n",
       "</div>"
      ],
      "text/plain": [
       "                      method  \\\n",
       "0  eac_single_coassoc_matrix   \n",
       "1  eac_single_coassoc_matrix   \n",
       "2  eac_single_coassoc_matrix   \n",
       "3  eac_single_coassoc_matrix   \n",
       "4  eac_single_coassoc_matrix   \n",
       "\n",
       "                                           partition  k  ari_mean  ari_median  \\\n",
       "0  [1, 1, 1, 1, 1, 1, 1, 1, 1, 1, 1, 1, 1, 1, 1, ...  2  0.053439    0.003480   \n",
       "1  [0, 0, 0, 0, 0, 0, 0, 0, 0, 0, 0, 0, 0, 0, 0, ...  3  0.053489    0.003478   \n",
       "2  [1, 1, 1, 1, 1, 1, 1, 1, 1, 1, 1, 1, 1, 1, 1, ...  4  0.252719    0.060596   \n",
       "3  [0, 0, 0, 0, 0, 0, 0, 0, 0, 0, 0, 0, 0, 0, 0, ...  5  0.252720    0.060598   \n",
       "4  [0, 0, 0, 0, 0, 0, 0, 0, 0, 0, 0, 0, 0, 0, 0, ...  6  0.244298    0.063207   \n",
       "\n",
       "    ari_std  ami_mean  ami_median   ami_std  nmi_mean  nmi_median   nmi_std  \n",
       "0  0.116326  0.064278    0.024033  0.107959  0.066512    0.026027  0.108030  \n",
       "1  0.116426  0.069237    0.025384  0.116054  0.072338    0.028527  0.115985  \n",
       "2  0.348441  0.277629    0.109971  0.317636  0.282358    0.116379  0.315759  \n",
       "3  0.348433  0.277634    0.109910  0.316791  0.282665    0.116587  0.314763  \n",
       "4  0.330294  0.269699    0.114671  0.295526  0.275622    0.121864  0.293208  "
      ]
     },
     "execution_count": 25,
     "metadata": {},
     "output_type": "execute_result"
    }
   ],
   "source": [
    "consensus_results.head()"
   ]
  },
  {
   "cell_type": "markdown",
   "metadata": {
    "papermill": {
     "duration": 0.038781,
     "end_time": "2020-12-06T04:43:10.243414",
     "exception": false,
     "start_time": "2020-12-06T04:43:10.204633",
     "status": "completed"
    },
    "tags": []
   },
   "source": [
    "## Save"
   ]
  },
  {
   "cell_type": "code",
   "execution_count": 26,
   "metadata": {
    "execution": {
     "iopub.execute_input": "2020-12-06T04:43:10.325075Z",
     "iopub.status.busy": "2020-12-06T04:43:10.324646Z",
     "iopub.status.idle": "2020-12-06T04:43:10.336593Z",
     "shell.execute_reply": "2020-12-06T04:43:10.336221Z"
    },
    "papermill": {
     "duration": 0.053805,
     "end_time": "2020-12-06T04:43:10.336682",
     "exception": false,
     "start_time": "2020-12-06T04:43:10.282877",
     "status": "completed"
    },
    "tags": []
   },
   "outputs": [
    {
     "data": {
      "text/plain": [
       "PosixPath('/home/miltondp/projects/labs/greenelab/phenoplier/base/results/clustering/consensus_clustering/consensus_clustering_runs.pkl')"
      ]
     },
     "metadata": {},
     "output_type": "display_data"
    }
   ],
   "source": [
    "output_file = Path(RESULTS_DIR, \"consensus_clustering_runs.pkl\").resolve()\n",
    "display(output_file)"
   ]
  },
  {
   "cell_type": "code",
   "execution_count": 27,
   "metadata": {
    "execution": {
     "iopub.execute_input": "2020-12-06T04:43:10.418855Z",
     "iopub.status.busy": "2020-12-06T04:43:10.418494Z",
     "iopub.status.idle": "2020-12-06T04:43:10.436160Z",
     "shell.execute_reply": "2020-12-06T04:43:10.436438Z"
    },
    "papermill": {
     "duration": 0.05981,
     "end_time": "2020-12-06T04:43:10.436603",
     "exception": false,
     "start_time": "2020-12-06T04:43:10.376793",
     "status": "completed"
    },
    "tags": []
   },
   "outputs": [],
   "source": [
    "consensus_results.to_pickle(output_file)"
   ]
  },
  {
   "cell_type": "code",
   "execution_count": null,
   "metadata": {
    "papermill": {
     "duration": 0.039764,
     "end_time": "2020-12-06T04:43:10.516327",
     "exception": false,
     "start_time": "2020-12-06T04:43:10.476563",
     "status": "completed"
    },
    "tags": []
   },
   "outputs": [],
   "source": []
  }
 ],
 "metadata": {
  "jupytext": {
   "formats": "ipynb,py//py:percent"
  },
  "kernelspec": {
   "display_name": "Python 3",
   "language": "python",
   "name": "python3"
  },
  "language_info": {
   "codemirror_mode": {
    "name": "ipython",
    "version": 3
   },
   "file_extension": ".py",
   "mimetype": "text/x-python",
   "name": "python",
   "nbconvert_exporter": "python",
   "pygments_lexer": "ipython3",
   "version": "3.8.6"
  },
  "papermill": {
   "default_parameters": {},
   "duration": 1995.386714,
   "end_time": "2020-12-06T04:43:10.960710",
   "environment_variables": {},
   "exception": null,
   "input_path": "15_cluster_analysis/020_01-consensus_clustering-combine_ensemble.ipynb",
   "output_path": "15_cluster_analysis/020_01-consensus_clustering-combine_ensemble.run.ipynb",
   "parameters": {},
   "start_time": "2020-12-06T04:09:55.573996",
   "version": "2.2.2"
  },
  "toc-autonumbering": true,
  "toc-showcode": false,
  "toc-showmarkdowntxt": false,
  "toc-showtags": false
 },
 "nbformat": 4,
 "nbformat_minor": 4
}
