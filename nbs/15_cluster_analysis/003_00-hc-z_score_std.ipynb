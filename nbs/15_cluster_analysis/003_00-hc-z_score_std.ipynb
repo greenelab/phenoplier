{
 "cells": [
  {
   "cell_type": "markdown",
   "metadata": {
    "papermill": {
     "duration": 0.051221,
     "end_time": "2021-01-05T20:39:46.508507",
     "exception": false,
     "start_time": "2021-01-05T20:39:46.457286",
     "status": "completed"
    },
    "tags": []
   },
   "source": [
    "# Description"
   ]
  },
  {
   "cell_type": "markdown",
   "metadata": {
    "papermill": {
     "duration": 0.01489,
     "end_time": "2021-01-05T20:39:46.540350",
     "exception": false,
     "start_time": "2021-01-05T20:39:46.525460",
     "status": "completed"
    },
    "tags": []
   },
   "source": [
    "Runs hierarchical clustering on the z_score_std version of the data."
   ]
  },
  {
   "cell_type": "markdown",
   "metadata": {
    "papermill": {
     "duration": 0.014936,
     "end_time": "2021-01-05T20:39:46.570701",
     "exception": false,
     "start_time": "2021-01-05T20:39:46.555765",
     "status": "completed"
    },
    "tags": []
   },
   "source": [
    "# Environment variables"
   ]
  },
  {
   "cell_type": "code",
   "execution_count": 1,
   "metadata": {
    "execution": {
     "iopub.execute_input": "2021-01-05T20:39:46.603976Z",
     "iopub.status.busy": "2021-01-05T20:39:46.603592Z",
     "iopub.status.idle": "2021-01-05T20:39:46.614632Z",
     "shell.execute_reply": "2021-01-05T20:39:46.614200Z"
    },
    "papermill": {
     "duration": 0.029106,
     "end_time": "2021-01-05T20:39:46.614752",
     "exception": false,
     "start_time": "2021-01-05T20:39:46.585646",
     "status": "completed"
    },
    "tags": []
   },
   "outputs": [
    {
     "data": {
      "text/plain": [
       "3"
      ]
     },
     "metadata": {},
     "output_type": "display_data"
    }
   ],
   "source": [
    "from IPython.display import display\n",
    "\n",
    "import conf\n",
    "\n",
    "N_JOBS = conf.GENERAL[\"N_JOBS\"]\n",
    "display(N_JOBS)"
   ]
  },
  {
   "cell_type": "code",
   "execution_count": 2,
   "metadata": {
    "execution": {
     "iopub.execute_input": "2021-01-05T20:39:46.650654Z",
     "iopub.status.busy": "2021-01-05T20:39:46.650239Z",
     "iopub.status.idle": "2021-01-05T20:39:46.652626Z",
     "shell.execute_reply": "2021-01-05T20:39:46.652251Z"
    },
    "papermill": {
     "duration": 0.022036,
     "end_time": "2021-01-05T20:39:46.652733",
     "exception": false,
     "start_time": "2021-01-05T20:39:46.630697",
     "status": "completed"
    },
    "tags": []
   },
   "outputs": [
    {
     "name": "stdout",
     "output_type": "stream",
     "text": [
      "env: MKL_NUM_THREADS=3\n",
      "env: OPEN_BLAS_NUM_THREADS=3\n",
      "env: NUMEXPR_NUM_THREADS=3\n",
      "env: OMP_NUM_THREADS=3\n"
     ]
    }
   ],
   "source": [
    "%env MKL_NUM_THREADS=$N_JOBS\n",
    "%env OPEN_BLAS_NUM_THREADS=$N_JOBS\n",
    "%env NUMEXPR_NUM_THREADS=$N_JOBS\n",
    "%env OMP_NUM_THREADS=$N_JOBS"
   ]
  },
  {
   "cell_type": "markdown",
   "metadata": {
    "papermill": {
     "duration": 0.015301,
     "end_time": "2021-01-05T20:39:46.684118",
     "exception": false,
     "start_time": "2021-01-05T20:39:46.668817",
     "status": "completed"
    },
    "tags": []
   },
   "source": [
    "# Modules loading"
   ]
  },
  {
   "cell_type": "code",
   "execution_count": 3,
   "metadata": {
    "execution": {
     "iopub.execute_input": "2021-01-05T20:39:46.718095Z",
     "iopub.status.busy": "2021-01-05T20:39:46.717732Z",
     "iopub.status.idle": "2021-01-05T20:39:46.725486Z",
     "shell.execute_reply": "2021-01-05T20:39:46.725169Z"
    },
    "papermill": {
     "duration": 0.025894,
     "end_time": "2021-01-05T20:39:46.725573",
     "exception": false,
     "start_time": "2021-01-05T20:39:46.699679",
     "status": "completed"
    },
    "tags": []
   },
   "outputs": [],
   "source": [
    "%load_ext autoreload\n",
    "%autoreload 2"
   ]
  },
  {
   "cell_type": "code",
   "execution_count": 4,
   "metadata": {
    "execution": {
     "iopub.execute_input": "2021-01-05T20:39:46.759722Z",
     "iopub.status.busy": "2021-01-05T20:39:46.759346Z",
     "iopub.status.idle": "2021-01-05T20:39:48.342312Z",
     "shell.execute_reply": "2021-01-05T20:39:48.342638Z"
    },
    "papermill": {
     "duration": 1.601253,
     "end_time": "2021-01-05T20:39:48.342763",
     "exception": false,
     "start_time": "2021-01-05T20:39:46.741510",
     "status": "completed"
    },
    "tags": []
   },
   "outputs": [],
   "source": [
    "from pathlib import Path\n",
    "\n",
    "import numpy as np\n",
    "import pandas as pd\n",
    "import umap\n",
    "import matplotlib.pyplot as plt\n",
    "import seaborn as sns\n",
    "\n",
    "from utils import generate_result_set_name"
   ]
  },
  {
   "cell_type": "markdown",
   "metadata": {
    "papermill": {
     "duration": 0.016742,
     "end_time": "2021-01-05T20:39:48.377037",
     "exception": false,
     "start_time": "2021-01-05T20:39:48.360295",
     "status": "completed"
    },
    "tags": []
   },
   "source": [
    "# Settings"
   ]
  },
  {
   "cell_type": "markdown",
   "metadata": {
    "papermill": {
     "duration": 0.015097,
     "end_time": "2021-01-05T20:39:48.407569",
     "exception": false,
     "start_time": "2021-01-05T20:39:48.392472",
     "status": "completed"
    },
    "tags": []
   },
   "source": [
    "## Input data"
   ]
  },
  {
   "cell_type": "code",
   "execution_count": 5,
   "metadata": {
    "execution": {
     "iopub.execute_input": "2021-01-05T20:39:48.441375Z",
     "iopub.status.busy": "2021-01-05T20:39:48.441016Z",
     "iopub.status.idle": "2021-01-05T20:39:48.453135Z",
     "shell.execute_reply": "2021-01-05T20:39:48.452714Z"
    },
    "papermill": {
     "duration": 0.030106,
     "end_time": "2021-01-05T20:39:48.453252",
     "exception": false,
     "start_time": "2021-01-05T20:39:48.423146",
     "status": "completed"
    },
    "tags": []
   },
   "outputs": [],
   "source": [
    "INPUT_SUBSET = \"z_score_std\""
   ]
  },
  {
   "cell_type": "code",
   "execution_count": 6,
   "metadata": {
    "execution": {
     "iopub.execute_input": "2021-01-05T20:39:48.486939Z",
     "iopub.status.busy": "2021-01-05T20:39:48.486578Z",
     "iopub.status.idle": "2021-01-05T20:39:48.497982Z",
     "shell.execute_reply": "2021-01-05T20:39:48.498268Z"
    },
    "papermill": {
     "duration": 0.029573,
     "end_time": "2021-01-05T20:39:48.498379",
     "exception": false,
     "start_time": "2021-01-05T20:39:48.468806",
     "status": "completed"
    },
    "tags": []
   },
   "outputs": [],
   "source": [
    "INPUT_STEM = \"projection-smultixcan-efo_partial-mashr-zscores\""
   ]
  },
  {
   "cell_type": "code",
   "execution_count": 7,
   "metadata": {
    "execution": {
     "iopub.execute_input": "2021-01-05T20:39:48.532666Z",
     "iopub.status.busy": "2021-01-05T20:39:48.532298Z",
     "iopub.status.idle": "2021-01-05T20:39:48.545683Z",
     "shell.execute_reply": "2021-01-05T20:39:48.545309Z"
    },
    "papermill": {
     "duration": 0.031415,
     "end_time": "2021-01-05T20:39:48.545770",
     "exception": false,
     "start_time": "2021-01-05T20:39:48.514355",
     "status": "completed"
    },
    "tags": []
   },
   "outputs": [
    {
     "data": {
      "text/plain": [
       "PosixPath('/home/miltondp/projects/labs/greenelab/phenoplier/base3/results/data_transformations/z_score_std/z_score_std-projection-smultixcan-efo_partial-mashr-zscores.pkl')"
      ]
     },
     "metadata": {},
     "output_type": "display_data"
    },
    {
     "data": {
      "text/plain": [
       "'z_score_std-projection-smultixcan-efo_partial-mashr-zscores'"
      ]
     },
     "metadata": {},
     "output_type": "display_data"
    }
   ],
   "source": [
    "input_filepath = Path(\n",
    "    conf.RESULTS[\"DATA_TRANSFORMATIONS_DIR\"],\n",
    "    INPUT_SUBSET,\n",
    "    f\"{INPUT_SUBSET}-{INPUT_STEM}.pkl\",\n",
    ").resolve()\n",
    "display(input_filepath)\n",
    "\n",
    "assert input_filepath.exists(), \"Input file does not exist\"\n",
    "\n",
    "input_filepath_stem = input_filepath.stem\n",
    "display(input_filepath_stem)"
   ]
  },
  {
   "cell_type": "markdown",
   "metadata": {
    "papermill": {
     "duration": 0.015907,
     "end_time": "2021-01-05T20:39:48.578286",
     "exception": false,
     "start_time": "2021-01-05T20:39:48.562379",
     "status": "completed"
    },
    "tags": []
   },
   "source": [
    "## Clustering"
   ]
  },
  {
   "cell_type": "code",
   "execution_count": 8,
   "metadata": {
    "execution": {
     "iopub.execute_input": "2021-01-05T20:39:48.612306Z",
     "iopub.status.busy": "2021-01-05T20:39:48.611947Z",
     "iopub.status.idle": "2021-01-05T20:39:48.629465Z",
     "shell.execute_reply": "2021-01-05T20:39:48.629150Z"
    },
    "papermill": {
     "duration": 0.035511,
     "end_time": "2021-01-05T20:39:48.629556",
     "exception": false,
     "start_time": "2021-01-05T20:39:48.594045",
     "status": "completed"
    },
    "tags": []
   },
   "outputs": [],
   "source": [
    "from sklearn.cluster import AgglomerativeClustering"
   ]
  },
  {
   "cell_type": "code",
   "execution_count": 9,
   "metadata": {
    "execution": {
     "iopub.execute_input": "2021-01-05T20:39:48.665665Z",
     "iopub.status.busy": "2021-01-05T20:39:48.665305Z",
     "iopub.status.idle": "2021-01-05T20:39:48.677333Z",
     "shell.execute_reply": "2021-01-05T20:39:48.676954Z"
    },
    "papermill": {
     "duration": 0.03113,
     "end_time": "2021-01-05T20:39:48.677422",
     "exception": false,
     "start_time": "2021-01-05T20:39:48.646292",
     "status": "completed"
    },
    "tags": []
   },
   "outputs": [],
   "source": [
    "CLUSTERING_ATTRIBUTES_TO_SAVE = [\"n_clusters\"]"
   ]
  },
  {
   "cell_type": "code",
   "execution_count": 10,
   "metadata": {
    "execution": {
     "iopub.execute_input": "2021-01-05T20:39:48.713233Z",
     "iopub.status.busy": "2021-01-05T20:39:48.712865Z",
     "iopub.status.idle": "2021-01-05T20:39:48.725402Z",
     "shell.execute_reply": "2021-01-05T20:39:48.725078Z"
    },
    "papermill": {
     "duration": 0.031416,
     "end_time": "2021-01-05T20:39:48.725491",
     "exception": false,
     "start_time": "2021-01-05T20:39:48.694075",
     "status": "completed"
    },
    "tags": []
   },
   "outputs": [
    {
     "data": {
      "text/plain": [
       "{'K_MIN': 2,\n",
       " 'K_MAX': 75,\n",
       " 'LINKAGE': {'average', 'complete', 'single', 'ward'},\n",
       " 'AFFINITY': 'euclidean'}"
      ]
     },
     "metadata": {},
     "output_type": "display_data"
    }
   ],
   "source": [
    "CLUSTERING_OPTIONS = {}\n",
    "\n",
    "CLUSTERING_OPTIONS[\"K_MIN\"] = 2\n",
    "CLUSTERING_OPTIONS[\"K_MAX\"] = 75  # sqrt(3749) + some more to get closer to 295\n",
    "CLUSTERING_OPTIONS[\"LINKAGE\"] = {\"ward\", \"complete\", \"average\", \"single\"}\n",
    "CLUSTERING_OPTIONS[\"AFFINITY\"] = \"euclidean\"\n",
    "\n",
    "display(CLUSTERING_OPTIONS)"
   ]
  },
  {
   "cell_type": "code",
   "execution_count": 11,
   "metadata": {
    "execution": {
     "iopub.execute_input": "2021-01-05T20:39:48.763190Z",
     "iopub.status.busy": "2021-01-05T20:39:48.762820Z",
     "iopub.status.idle": "2021-01-05T20:39:48.780646Z",
     "shell.execute_reply": "2021-01-05T20:39:48.779076Z"
    },
    "papermill": {
     "duration": 0.038456,
     "end_time": "2021-01-05T20:39:48.781025",
     "exception": false,
     "start_time": "2021-01-05T20:39:48.742569",
     "status": "completed"
    },
    "tags": []
   },
   "outputs": [],
   "source": [
    "CLUSTERERS = {}\n",
    "\n",
    "idx = 0\n",
    "\n",
    "for k in range(CLUSTERING_OPTIONS[\"K_MIN\"], CLUSTERING_OPTIONS[\"K_MAX\"] + 1):\n",
    "    for linkage in CLUSTERING_OPTIONS[\"LINKAGE\"]:\n",
    "        if linkage == \"ward\":\n",
    "            affinity = \"euclidean\"\n",
    "        else:\n",
    "            affinity = \"precomputed\"\n",
    "\n",
    "        clus = AgglomerativeClustering(\n",
    "            n_clusters=k,\n",
    "            affinity=affinity,\n",
    "            linkage=linkage,\n",
    "        )\n",
    "\n",
    "        method_name = type(clus).__name__\n",
    "        CLUSTERERS[f\"{method_name} #{idx}\"] = clus\n",
    "\n",
    "        idx = idx + 1"
   ]
  },
  {
   "cell_type": "code",
   "execution_count": 12,
   "metadata": {
    "execution": {
     "iopub.execute_input": "2021-01-05T20:39:48.849098Z",
     "iopub.status.busy": "2021-01-05T20:39:48.848737Z",
     "iopub.status.idle": "2021-01-05T20:39:48.861309Z",
     "shell.execute_reply": "2021-01-05T20:39:48.860915Z"
    },
    "papermill": {
     "duration": 0.032687,
     "end_time": "2021-01-05T20:39:48.861401",
     "exception": false,
     "start_time": "2021-01-05T20:39:48.828714",
     "status": "completed"
    },
    "tags": []
   },
   "outputs": [
    {
     "data": {
      "text/plain": [
       "296"
      ]
     },
     "metadata": {},
     "output_type": "display_data"
    }
   ],
   "source": [
    "display(len(CLUSTERERS))"
   ]
  },
  {
   "cell_type": "code",
   "execution_count": 13,
   "metadata": {
    "execution": {
     "iopub.execute_input": "2021-01-05T20:39:48.898443Z",
     "iopub.status.busy": "2021-01-05T20:39:48.898081Z",
     "iopub.status.idle": "2021-01-05T20:39:48.911897Z",
     "shell.execute_reply": "2021-01-05T20:39:48.911521Z"
    },
    "papermill": {
     "duration": 0.032815,
     "end_time": "2021-01-05T20:39:48.911984",
     "exception": false,
     "start_time": "2021-01-05T20:39:48.879169",
     "status": "completed"
    },
    "tags": []
   },
   "outputs": [
    {
     "data": {
      "text/plain": [
       "('AgglomerativeClustering #0',\n",
       " AgglomerativeClustering(affinity='precomputed', linkage='complete'))"
      ]
     },
     "metadata": {},
     "output_type": "display_data"
    },
    {
     "data": {
      "text/plain": [
       "('AgglomerativeClustering #1', AgglomerativeClustering())"
      ]
     },
     "metadata": {},
     "output_type": "display_data"
    }
   ],
   "source": [
    "_iter = iter(CLUSTERERS.items())\n",
    "display(next(_iter))\n",
    "display(next(_iter))"
   ]
  },
  {
   "cell_type": "code",
   "execution_count": 14,
   "metadata": {
    "execution": {
     "iopub.execute_input": "2021-01-05T20:39:48.949002Z",
     "iopub.status.busy": "2021-01-05T20:39:48.948564Z",
     "iopub.status.idle": "2021-01-05T20:39:48.961189Z",
     "shell.execute_reply": "2021-01-05T20:39:48.960799Z"
    },
    "papermill": {
     "duration": 0.031838,
     "end_time": "2021-01-05T20:39:48.961279",
     "exception": false,
     "start_time": "2021-01-05T20:39:48.929441",
     "status": "completed"
    },
    "tags": []
   },
   "outputs": [
    {
     "data": {
      "text/plain": [
       "'AgglomerativeClustering'"
      ]
     },
     "metadata": {},
     "output_type": "display_data"
    }
   ],
   "source": [
    "clustering_method_name = method_name\n",
    "display(clustering_method_name)"
   ]
  },
  {
   "cell_type": "markdown",
   "metadata": {
    "papermill": {
     "duration": 0.01705,
     "end_time": "2021-01-05T20:39:48.996206",
     "exception": false,
     "start_time": "2021-01-05T20:39:48.979156",
     "status": "completed"
    },
    "tags": []
   },
   "source": [
    "## Output directory"
   ]
  },
  {
   "cell_type": "code",
   "execution_count": 15,
   "metadata": {
    "execution": {
     "iopub.execute_input": "2021-01-05T20:39:49.032836Z",
     "iopub.status.busy": "2021-01-05T20:39:49.032373Z",
     "iopub.status.idle": "2021-01-05T20:39:49.045434Z",
     "shell.execute_reply": "2021-01-05T20:39:49.045055Z"
    },
    "papermill": {
     "duration": 0.032469,
     "end_time": "2021-01-05T20:39:49.045522",
     "exception": false,
     "start_time": "2021-01-05T20:39:49.013053",
     "status": "completed"
    },
    "tags": []
   },
   "outputs": [
    {
     "data": {
      "text/plain": [
       "PosixPath('/home/miltondp/projects/labs/greenelab/phenoplier/base3/results/clustering/runs/z_score_std-projection-smultixcan-efo_partial-mashr-zscores')"
      ]
     },
     "metadata": {},
     "output_type": "display_data"
    }
   ],
   "source": [
    "# output dir for this notebook\n",
    "RESULTS_DIR = Path(\n",
    "    conf.RESULTS[\"CLUSTERING_RUNS_DIR\"],\n",
    "    f\"{INPUT_SUBSET}-{INPUT_STEM}\",\n",
    ").resolve()\n",
    "RESULTS_DIR.mkdir(parents=True, exist_ok=True)\n",
    "\n",
    "display(RESULTS_DIR)"
   ]
  },
  {
   "cell_type": "markdown",
   "metadata": {
    "papermill": {
     "duration": 0.016855,
     "end_time": "2021-01-05T20:39:49.080022",
     "exception": false,
     "start_time": "2021-01-05T20:39:49.063167",
     "status": "completed"
    },
    "tags": []
   },
   "source": [
    "# Load input file"
   ]
  },
  {
   "cell_type": "code",
   "execution_count": 16,
   "metadata": {
    "execution": {
     "iopub.execute_input": "2021-01-05T20:39:49.116550Z",
     "iopub.status.busy": "2021-01-05T20:39:49.116187Z",
     "iopub.status.idle": "2021-01-05T20:39:49.141814Z",
     "shell.execute_reply": "2021-01-05T20:39:49.142154Z"
    },
    "papermill": {
     "duration": 0.045346,
     "end_time": "2021-01-05T20:39:49.142282",
     "exception": false,
     "start_time": "2021-01-05T20:39:49.096936",
     "status": "completed"
    },
    "tags": []
   },
   "outputs": [],
   "source": [
    "data = pd.read_pickle(input_filepath)"
   ]
  },
  {
   "cell_type": "code",
   "execution_count": 17,
   "metadata": {
    "execution": {
     "iopub.execute_input": "2021-01-05T20:39:49.182304Z",
     "iopub.status.busy": "2021-01-05T20:39:49.181947Z",
     "iopub.status.idle": "2021-01-05T20:39:49.194650Z",
     "shell.execute_reply": "2021-01-05T20:39:49.194959Z"
    },
    "papermill": {
     "duration": 0.033303,
     "end_time": "2021-01-05T20:39:49.195070",
     "exception": false,
     "start_time": "2021-01-05T20:39:49.161767",
     "status": "completed"
    },
    "tags": []
   },
   "outputs": [
    {
     "data": {
      "text/plain": [
       "(3749, 987)"
      ]
     },
     "execution_count": 17,
     "metadata": {},
     "output_type": "execute_result"
    }
   ],
   "source": [
    "data.shape"
   ]
  },
  {
   "cell_type": "code",
   "execution_count": 18,
   "metadata": {
    "execution": {
     "iopub.execute_input": "2021-01-05T20:39:49.234690Z",
     "iopub.status.busy": "2021-01-05T20:39:49.234326Z",
     "iopub.status.idle": "2021-01-05T20:39:49.259196Z",
     "shell.execute_reply": "2021-01-05T20:39:49.258875Z"
    },
    "papermill": {
     "duration": 0.045296,
     "end_time": "2021-01-05T20:39:49.259282",
     "exception": false,
     "start_time": "2021-01-05T20:39:49.213986",
     "status": "completed"
    },
    "tags": []
   },
   "outputs": [
    {
     "data": {
      "text/html": [
       "<div>\n",
       "<style scoped>\n",
       "    .dataframe tbody tr th:only-of-type {\n",
       "        vertical-align: middle;\n",
       "    }\n",
       "\n",
       "    .dataframe tbody tr th {\n",
       "        vertical-align: top;\n",
       "    }\n",
       "\n",
       "    .dataframe thead th {\n",
       "        text-align: right;\n",
       "    }\n",
       "</style>\n",
       "<table border=\"1\" class=\"dataframe\">\n",
       "  <thead>\n",
       "    <tr style=\"text-align: right;\">\n",
       "      <th></th>\n",
       "      <th>LV1</th>\n",
       "      <th>LV2</th>\n",
       "      <th>LV3</th>\n",
       "      <th>LV4</th>\n",
       "      <th>LV5</th>\n",
       "      <th>LV6</th>\n",
       "      <th>LV7</th>\n",
       "      <th>LV8</th>\n",
       "      <th>LV9</th>\n",
       "      <th>LV10</th>\n",
       "      <th>...</th>\n",
       "      <th>LV978</th>\n",
       "      <th>LV979</th>\n",
       "      <th>LV980</th>\n",
       "      <th>LV981</th>\n",
       "      <th>LV982</th>\n",
       "      <th>LV983</th>\n",
       "      <th>LV984</th>\n",
       "      <th>LV985</th>\n",
       "      <th>LV986</th>\n",
       "      <th>LV987</th>\n",
       "    </tr>\n",
       "  </thead>\n",
       "  <tbody>\n",
       "    <tr>\n",
       "      <th>100001_raw-Food_weight</th>\n",
       "      <td>-0.553743</td>\n",
       "      <td>1.851060</td>\n",
       "      <td>-0.095721</td>\n",
       "      <td>0.931603</td>\n",
       "      <td>-0.515196</td>\n",
       "      <td>1.371264</td>\n",
       "      <td>-0.413165</td>\n",
       "      <td>0.729668</td>\n",
       "      <td>0.546338</td>\n",
       "      <td>0.901153</td>\n",
       "      <td>...</td>\n",
       "      <td>1.148776</td>\n",
       "      <td>1.649018</td>\n",
       "      <td>-1.375952</td>\n",
       "      <td>2.203063</td>\n",
       "      <td>0.810199</td>\n",
       "      <td>-0.987048</td>\n",
       "      <td>0.277710</td>\n",
       "      <td>-0.607613</td>\n",
       "      <td>0.572376</td>\n",
       "      <td>-0.660846</td>\n",
       "    </tr>\n",
       "    <tr>\n",
       "      <th>100002_raw-Energy</th>\n",
       "      <td>-1.313905</td>\n",
       "      <td>-0.421015</td>\n",
       "      <td>-0.310524</td>\n",
       "      <td>-0.201978</td>\n",
       "      <td>0.233028</td>\n",
       "      <td>0.693838</td>\n",
       "      <td>0.084129</td>\n",
       "      <td>0.572439</td>\n",
       "      <td>0.217866</td>\n",
       "      <td>1.296973</td>\n",
       "      <td>...</td>\n",
       "      <td>0.165430</td>\n",
       "      <td>0.799276</td>\n",
       "      <td>-0.361989</td>\n",
       "      <td>-0.008253</td>\n",
       "      <td>2.063780</td>\n",
       "      <td>-0.930765</td>\n",
       "      <td>-0.147007</td>\n",
       "      <td>1.601938</td>\n",
       "      <td>-0.273553</td>\n",
       "      <td>-0.560822</td>\n",
       "    </tr>\n",
       "    <tr>\n",
       "      <th>100003_raw-Protein</th>\n",
       "      <td>-0.645622</td>\n",
       "      <td>-0.997845</td>\n",
       "      <td>0.249039</td>\n",
       "      <td>0.256499</td>\n",
       "      <td>0.422357</td>\n",
       "      <td>0.829189</td>\n",
       "      <td>-0.169004</td>\n",
       "      <td>0.511550</td>\n",
       "      <td>0.002389</td>\n",
       "      <td>-0.057200</td>\n",
       "      <td>...</td>\n",
       "      <td>1.016791</td>\n",
       "      <td>1.019488</td>\n",
       "      <td>-2.148844</td>\n",
       "      <td>-0.065130</td>\n",
       "      <td>0.041052</td>\n",
       "      <td>-0.836118</td>\n",
       "      <td>-0.320571</td>\n",
       "      <td>1.325519</td>\n",
       "      <td>-0.341494</td>\n",
       "      <td>-0.495786</td>\n",
       "    </tr>\n",
       "    <tr>\n",
       "      <th>100004_raw-Fat</th>\n",
       "      <td>-0.913924</td>\n",
       "      <td>-1.837183</td>\n",
       "      <td>0.012095</td>\n",
       "      <td>-1.301315</td>\n",
       "      <td>0.205794</td>\n",
       "      <td>1.129114</td>\n",
       "      <td>0.019985</td>\n",
       "      <td>0.376660</td>\n",
       "      <td>-0.810272</td>\n",
       "      <td>0.843611</td>\n",
       "      <td>...</td>\n",
       "      <td>0.544266</td>\n",
       "      <td>0.576714</td>\n",
       "      <td>0.281731</td>\n",
       "      <td>-0.218963</td>\n",
       "      <td>1.258957</td>\n",
       "      <td>-1.131924</td>\n",
       "      <td>0.378545</td>\n",
       "      <td>0.842047</td>\n",
       "      <td>-0.622194</td>\n",
       "      <td>-0.160058</td>\n",
       "    </tr>\n",
       "    <tr>\n",
       "      <th>100005_raw-Carbohydrate</th>\n",
       "      <td>-0.523004</td>\n",
       "      <td>0.131379</td>\n",
       "      <td>-0.097802</td>\n",
       "      <td>-0.030526</td>\n",
       "      <td>-0.021500</td>\n",
       "      <td>-0.219116</td>\n",
       "      <td>0.668229</td>\n",
       "      <td>0.365700</td>\n",
       "      <td>1.102347</td>\n",
       "      <td>0.845625</td>\n",
       "      <td>...</td>\n",
       "      <td>-0.344740</td>\n",
       "      <td>0.079274</td>\n",
       "      <td>0.253427</td>\n",
       "      <td>0.236474</td>\n",
       "      <td>1.033895</td>\n",
       "      <td>-0.229105</td>\n",
       "      <td>0.364793</td>\n",
       "      <td>1.776714</td>\n",
       "      <td>0.190531</td>\n",
       "      <td>-1.459641</td>\n",
       "    </tr>\n",
       "  </tbody>\n",
       "</table>\n",
       "<p>5 rows × 987 columns</p>\n",
       "</div>"
      ],
      "text/plain": [
       "                              LV1       LV2       LV3       LV4       LV5  \\\n",
       "100001_raw-Food_weight  -0.553743  1.851060 -0.095721  0.931603 -0.515196   \n",
       "100002_raw-Energy       -1.313905 -0.421015 -0.310524 -0.201978  0.233028   \n",
       "100003_raw-Protein      -0.645622 -0.997845  0.249039  0.256499  0.422357   \n",
       "100004_raw-Fat          -0.913924 -1.837183  0.012095 -1.301315  0.205794   \n",
       "100005_raw-Carbohydrate -0.523004  0.131379 -0.097802 -0.030526 -0.021500   \n",
       "\n",
       "                              LV6       LV7       LV8       LV9      LV10  \\\n",
       "100001_raw-Food_weight   1.371264 -0.413165  0.729668  0.546338  0.901153   \n",
       "100002_raw-Energy        0.693838  0.084129  0.572439  0.217866  1.296973   \n",
       "100003_raw-Protein       0.829189 -0.169004  0.511550  0.002389 -0.057200   \n",
       "100004_raw-Fat           1.129114  0.019985  0.376660 -0.810272  0.843611   \n",
       "100005_raw-Carbohydrate -0.219116  0.668229  0.365700  1.102347  0.845625   \n",
       "\n",
       "                         ...     LV978     LV979     LV980     LV981  \\\n",
       "100001_raw-Food_weight   ...  1.148776  1.649018 -1.375952  2.203063   \n",
       "100002_raw-Energy        ...  0.165430  0.799276 -0.361989 -0.008253   \n",
       "100003_raw-Protein       ...  1.016791  1.019488 -2.148844 -0.065130   \n",
       "100004_raw-Fat           ...  0.544266  0.576714  0.281731 -0.218963   \n",
       "100005_raw-Carbohydrate  ... -0.344740  0.079274  0.253427  0.236474   \n",
       "\n",
       "                            LV982     LV983     LV984     LV985     LV986  \\\n",
       "100001_raw-Food_weight   0.810199 -0.987048  0.277710 -0.607613  0.572376   \n",
       "100002_raw-Energy        2.063780 -0.930765 -0.147007  1.601938 -0.273553   \n",
       "100003_raw-Protein       0.041052 -0.836118 -0.320571  1.325519 -0.341494   \n",
       "100004_raw-Fat           1.258957 -1.131924  0.378545  0.842047 -0.622194   \n",
       "100005_raw-Carbohydrate  1.033895 -0.229105  0.364793  1.776714  0.190531   \n",
       "\n",
       "                            LV987  \n",
       "100001_raw-Food_weight  -0.660846  \n",
       "100002_raw-Energy       -0.560822  \n",
       "100003_raw-Protein      -0.495786  \n",
       "100004_raw-Fat          -0.160058  \n",
       "100005_raw-Carbohydrate -1.459641  \n",
       "\n",
       "[5 rows x 987 columns]"
      ]
     },
     "execution_count": 18,
     "metadata": {},
     "output_type": "execute_result"
    }
   ],
   "source": [
    "data.head()"
   ]
  },
  {
   "cell_type": "code",
   "execution_count": 19,
   "metadata": {
    "execution": {
     "iopub.execute_input": "2021-01-05T20:39:49.298650Z",
     "iopub.status.busy": "2021-01-05T20:39:49.298291Z",
     "iopub.status.idle": "2021-01-05T20:39:49.320310Z",
     "shell.execute_reply": "2021-01-05T20:39:49.318969Z"
    },
    "papermill": {
     "duration": 0.042824,
     "end_time": "2021-01-05T20:39:49.320651",
     "exception": false,
     "start_time": "2021-01-05T20:39:49.277827",
     "status": "completed"
    },
    "tags": []
   },
   "outputs": [],
   "source": [
    "assert not data.isna().any().any()"
   ]
  },
  {
   "cell_type": "markdown",
   "metadata": {
    "papermill": {
     "duration": 0.017774,
     "end_time": "2021-01-05T20:39:49.377407",
     "exception": false,
     "start_time": "2021-01-05T20:39:49.359633",
     "status": "completed"
    },
    "tags": []
   },
   "source": [
    "# Clustering"
   ]
  },
  {
   "cell_type": "markdown",
   "metadata": {
    "papermill": {
     "duration": 0.017478,
     "end_time": "2021-01-05T20:39:49.412306",
     "exception": false,
     "start_time": "2021-01-05T20:39:49.394828",
     "status": "completed"
    },
    "tags": []
   },
   "source": [
    "## Generate ensemble"
   ]
  },
  {
   "cell_type": "code",
   "execution_count": 20,
   "metadata": {
    "execution": {
     "iopub.execute_input": "2021-01-05T20:39:49.450278Z",
     "iopub.status.busy": "2021-01-05T20:39:49.449909Z",
     "iopub.status.idle": "2021-01-05T20:39:49.464814Z",
     "shell.execute_reply": "2021-01-05T20:39:49.464400Z"
    },
    "papermill": {
     "duration": 0.034939,
     "end_time": "2021-01-05T20:39:49.464907",
     "exception": false,
     "start_time": "2021-01-05T20:39:49.429968",
     "status": "completed"
    },
    "tags": []
   },
   "outputs": [],
   "source": [
    "from sklearn.metrics import pairwise_distances\n",
    "from clustering.ensemble import generate_ensemble"
   ]
  },
  {
   "cell_type": "code",
   "execution_count": 21,
   "metadata": {
    "execution": {
     "iopub.execute_input": "2021-01-05T20:39:49.505553Z",
     "iopub.status.busy": "2021-01-05T20:39:49.505172Z",
     "iopub.status.idle": "2021-01-05T20:39:49.778403Z",
     "shell.execute_reply": "2021-01-05T20:39:49.778024Z"
    },
    "papermill": {
     "duration": 0.294374,
     "end_time": "2021-01-05T20:39:49.778491",
     "exception": false,
     "start_time": "2021-01-05T20:39:49.484117",
     "status": "completed"
    },
    "tags": []
   },
   "outputs": [],
   "source": [
    "data_dist = pairwise_distances(data, metric=CLUSTERING_OPTIONS[\"AFFINITY\"])"
   ]
  },
  {
   "cell_type": "code",
   "execution_count": 22,
   "metadata": {
    "execution": {
     "iopub.execute_input": "2021-01-05T20:39:49.816754Z",
     "iopub.status.busy": "2021-01-05T20:39:49.816351Z",
     "iopub.status.idle": "2021-01-05T20:39:49.829220Z",
     "shell.execute_reply": "2021-01-05T20:39:49.828855Z"
    },
    "papermill": {
     "duration": 0.032921,
     "end_time": "2021-01-05T20:39:49.829304",
     "exception": false,
     "start_time": "2021-01-05T20:39:49.796383",
     "status": "completed"
    },
    "tags": []
   },
   "outputs": [
    {
     "data": {
      "text/plain": [
       "(3749, 3749)"
      ]
     },
     "execution_count": 22,
     "metadata": {},
     "output_type": "execute_result"
    }
   ],
   "source": [
    "data_dist.shape"
   ]
  },
  {
   "cell_type": "code",
   "execution_count": 23,
   "metadata": {
    "execution": {
     "iopub.execute_input": "2021-01-05T20:39:49.868194Z",
     "iopub.status.busy": "2021-01-05T20:39:49.867837Z",
     "iopub.status.idle": "2021-01-05T20:39:50.464884Z",
     "shell.execute_reply": "2021-01-05T20:39:50.465184Z"
    },
    "papermill": {
     "duration": 0.617679,
     "end_time": "2021-01-05T20:39:50.465300",
     "exception": false,
     "start_time": "2021-01-05T20:39:49.847621",
     "status": "completed"
    },
    "tags": []
   },
   "outputs": [
    {
     "data": {
      "text/plain": [
       "count            14055001.0\n",
       "mean     43.125402555794686\n",
       "std      10.686424216072133\n",
       "min                     0.0\n",
       "25%       38.79637836150824\n",
       "50%       39.83036155840883\n",
       "75%      42.045984035637254\n",
       "max       164.9804596623576\n",
       "dtype: object"
      ]
     },
     "execution_count": 23,
     "metadata": {},
     "output_type": "execute_result"
    }
   ],
   "source": [
    "pd.Series(data_dist.flatten()).describe().apply(str)"
   ]
  },
  {
   "cell_type": "code",
   "execution_count": 24,
   "metadata": {
    "execution": {
     "iopub.execute_input": "2021-01-05T20:39:50.505211Z",
     "iopub.status.busy": "2021-01-05T20:39:50.504794Z",
     "iopub.status.idle": "2021-01-05T21:07:31.377318Z",
     "shell.execute_reply": "2021-01-05T21:07:31.377664Z"
    },
    "papermill": {
     "duration": 1660.893496,
     "end_time": "2021-01-05T21:07:31.377795",
     "exception": false,
     "start_time": "2021-01-05T20:39:50.484299",
     "status": "completed"
    },
    "tags": []
   },
   "outputs": [
    {
     "name": "stderr",
     "output_type": "stream",
     "text": [
      "\r",
      "  0%|          | 0/296 [00:00<?, ?it/s]"
     ]
    },
    {
     "name": "stderr",
     "output_type": "stream",
     "text": [
      "\r",
      "  0%|          | 1/296 [00:00<02:16,  2.16it/s]"
     ]
    },
    {
     "name": "stderr",
     "output_type": "stream",
     "text": [
      "\r",
      "  1%|          | 2/296 [00:21<33:03,  6.75s/it]"
     ]
    },
    {
     "name": "stderr",
     "output_type": "stream",
     "text": [
      "\r",
      "  1%|          | 3/296 [00:22<23:44,  4.86s/it]"
     ]
    },
    {
     "name": "stderr",
     "output_type": "stream",
     "text": [
      "\r",
      "  1%|▏         | 4/296 [00:22<16:50,  3.46s/it]"
     ]
    },
    {
     "name": "stderr",
     "output_type": "stream",
     "text": [
      "\r",
      "  2%|▏         | 5/296 [00:22<12:24,  2.56s/it]"
     ]
    },
    {
     "name": "stderr",
     "output_type": "stream",
     "text": [
      "\r",
      "  2%|▏         | 6/296 [00:44<39:32,  8.18s/it]"
     ]
    },
    {
     "name": "stderr",
     "output_type": "stream",
     "text": [
      "\r",
      "  2%|▏         | 7/296 [00:44<28:14,  5.86s/it]"
     ]
    },
    {
     "name": "stderr",
     "output_type": "stream",
     "text": [
      "\r",
      "  3%|▎         | 8/296 [00:44<19:58,  4.16s/it]"
     ]
    },
    {
     "name": "stderr",
     "output_type": "stream",
     "text": [
      "\r",
      "  3%|▎         | 9/296 [00:45<14:35,  3.05s/it]"
     ]
    },
    {
     "name": "stderr",
     "output_type": "stream",
     "text": [
      "\r",
      "  3%|▎         | 10/296 [01:06<40:42,  8.54s/it]"
     ]
    },
    {
     "name": "stderr",
     "output_type": "stream",
     "text": [
      "\r",
      "  4%|▎         | 11/296 [01:07<29:02,  6.12s/it]"
     ]
    },
    {
     "name": "stderr",
     "output_type": "stream",
     "text": [
      "\r",
      "  4%|▍         | 12/296 [01:07<20:31,  4.34s/it]"
     ]
    },
    {
     "name": "stderr",
     "output_type": "stream",
     "text": [
      "\r",
      "  4%|▍         | 13/296 [01:07<14:57,  3.17s/it]"
     ]
    },
    {
     "name": "stderr",
     "output_type": "stream",
     "text": [
      "\r",
      "  5%|▍         | 14/296 [01:29<40:33,  8.63s/it]"
     ]
    },
    {
     "name": "stderr",
     "output_type": "stream",
     "text": [
      "\r",
      "  5%|▌         | 15/296 [01:29<28:56,  6.18s/it]"
     ]
    },
    {
     "name": "stderr",
     "output_type": "stream",
     "text": [
      "\r",
      "  5%|▌         | 16/296 [01:29<20:27,  4.38s/it]"
     ]
    },
    {
     "name": "stderr",
     "output_type": "stream",
     "text": [
      "\r",
      "  6%|▌         | 17/296 [01:30<14:53,  3.20s/it]"
     ]
    },
    {
     "name": "stderr",
     "output_type": "stream",
     "text": [
      "\r",
      "  6%|▌         | 18/296 [01:51<40:01,  8.64s/it]"
     ]
    },
    {
     "name": "stderr",
     "output_type": "stream",
     "text": [
      "\r",
      "  6%|▋         | 19/296 [01:52<28:33,  6.18s/it]"
     ]
    },
    {
     "name": "stderr",
     "output_type": "stream",
     "text": [
      "\r",
      "  7%|▋         | 20/296 [01:52<20:10,  4.39s/it]"
     ]
    },
    {
     "name": "stderr",
     "output_type": "stream",
     "text": [
      "\r",
      "  7%|▋         | 21/296 [01:52<14:41,  3.21s/it]"
     ]
    },
    {
     "name": "stderr",
     "output_type": "stream",
     "text": [
      "\r",
      "  7%|▋         | 22/296 [02:14<39:29,  8.65s/it]"
     ]
    },
    {
     "name": "stderr",
     "output_type": "stream",
     "text": [
      "\r",
      "  8%|▊         | 23/296 [02:14<28:10,  6.19s/it]"
     ]
    },
    {
     "name": "stderr",
     "output_type": "stream",
     "text": [
      "\r",
      "  8%|▊         | 24/296 [02:14<19:54,  4.39s/it]"
     ]
    },
    {
     "name": "stderr",
     "output_type": "stream",
     "text": [
      "\r",
      "  8%|▊         | 25/296 [02:15<14:29,  3.21s/it]"
     ]
    },
    {
     "name": "stderr",
     "output_type": "stream",
     "text": [
      "\r",
      "  9%|▉         | 26/296 [02:36<38:55,  8.65s/it]"
     ]
    },
    {
     "name": "stderr",
     "output_type": "stream",
     "text": [
      "\r",
      "  9%|▉         | 27/296 [02:36<27:46,  6.19s/it]"
     ]
    },
    {
     "name": "stderr",
     "output_type": "stream",
     "text": [
      "\r",
      "  9%|▉         | 28/296 [02:37<19:37,  4.39s/it]"
     ]
    },
    {
     "name": "stderr",
     "output_type": "stream",
     "text": [
      "\r",
      " 10%|▉         | 29/296 [02:37<14:17,  3.21s/it]"
     ]
    },
    {
     "name": "stderr",
     "output_type": "stream",
     "text": [
      "\r",
      " 10%|█         | 30/296 [02:58<38:22,  8.66s/it]"
     ]
    },
    {
     "name": "stderr",
     "output_type": "stream",
     "text": [
      "\r",
      " 10%|█         | 31/296 [02:59<27:22,  6.20s/it]"
     ]
    },
    {
     "name": "stderr",
     "output_type": "stream",
     "text": [
      "\r",
      " 11%|█         | 32/296 [02:59<19:20,  4.40s/it]"
     ]
    },
    {
     "name": "stderr",
     "output_type": "stream",
     "text": [
      "\r",
      " 11%|█         | 33/296 [03:00<14:05,  3.21s/it]"
     ]
    },
    {
     "name": "stderr",
     "output_type": "stream",
     "text": [
      "\r",
      " 11%|█▏        | 34/296 [03:21<37:53,  8.68s/it]"
     ]
    },
    {
     "name": "stderr",
     "output_type": "stream",
     "text": [
      "\r",
      " 12%|█▏        | 35/296 [03:21<27:01,  6.21s/it]"
     ]
    },
    {
     "name": "stderr",
     "output_type": "stream",
     "text": [
      "\r",
      " 12%|█▏        | 36/296 [03:22<19:05,  4.41s/it]"
     ]
    },
    {
     "name": "stderr",
     "output_type": "stream",
     "text": [
      "\r",
      " 12%|█▎        | 37/296 [03:22<13:54,  3.22s/it]"
     ]
    },
    {
     "name": "stderr",
     "output_type": "stream",
     "text": [
      "\r",
      " 13%|█▎        | 38/296 [03:43<37:11,  8.65s/it]"
     ]
    },
    {
     "name": "stderr",
     "output_type": "stream",
     "text": [
      "\r",
      " 13%|█▎        | 39/296 [03:44<26:31,  6.19s/it]"
     ]
    },
    {
     "name": "stderr",
     "output_type": "stream",
     "text": [
      "\r",
      " 14%|█▎        | 40/296 [03:44<18:44,  4.39s/it]"
     ]
    },
    {
     "name": "stderr",
     "output_type": "stream",
     "text": [
      "\r",
      " 14%|█▍        | 41/296 [03:45<13:38,  3.21s/it]"
     ]
    },
    {
     "name": "stderr",
     "output_type": "stream",
     "text": [
      "\r",
      " 14%|█▍        | 42/296 [04:06<36:38,  8.65s/it]"
     ]
    },
    {
     "name": "stderr",
     "output_type": "stream",
     "text": [
      "\r",
      " 15%|█▍        | 43/296 [04:06<26:07,  6.20s/it]"
     ]
    },
    {
     "name": "stderr",
     "output_type": "stream",
     "text": [
      "\r",
      " 15%|█▍        | 44/296 [04:07<18:27,  4.39s/it]"
     ]
    },
    {
     "name": "stderr",
     "output_type": "stream",
     "text": [
      "\r",
      " 15%|█▌        | 45/296 [04:07<13:26,  3.21s/it]"
     ]
    },
    {
     "name": "stderr",
     "output_type": "stream",
     "text": [
      "\r",
      " 16%|█▌        | 46/296 [04:28<36:01,  8.65s/it]"
     ]
    },
    {
     "name": "stderr",
     "output_type": "stream",
     "text": [
      "\r",
      " 16%|█▌        | 47/296 [04:29<25:41,  6.19s/it]"
     ]
    },
    {
     "name": "stderr",
     "output_type": "stream",
     "text": [
      "\r",
      " 16%|█▌        | 48/296 [04:29<18:08,  4.39s/it]"
     ]
    },
    {
     "name": "stderr",
     "output_type": "stream",
     "text": [
      "\r",
      " 17%|█▋        | 49/296 [04:29<13:12,  3.21s/it]"
     ]
    },
    {
     "name": "stderr",
     "output_type": "stream",
     "text": [
      "\r",
      " 17%|█▋        | 50/296 [04:51<35:29,  8.66s/it]"
     ]
    },
    {
     "name": "stderr",
     "output_type": "stream",
     "text": [
      "\r",
      " 17%|█▋        | 51/296 [04:51<25:18,  6.20s/it]"
     ]
    },
    {
     "name": "stderr",
     "output_type": "stream",
     "text": [
      "\r",
      " 18%|█▊        | 52/296 [04:51<17:52,  4.40s/it]"
     ]
    },
    {
     "name": "stderr",
     "output_type": "stream",
     "text": [
      "\r",
      " 18%|█▊        | 53/296 [04:52<13:00,  3.21s/it]"
     ]
    },
    {
     "name": "stderr",
     "output_type": "stream",
     "text": [
      "\r",
      " 18%|█▊        | 54/296 [05:13<34:52,  8.65s/it]"
     ]
    },
    {
     "name": "stderr",
     "output_type": "stream",
     "text": [
      "\r",
      " 19%|█▊        | 55/296 [05:14<24:51,  6.19s/it]"
     ]
    },
    {
     "name": "stderr",
     "output_type": "stream",
     "text": [
      "\r",
      " 19%|█▉        | 56/296 [05:14<17:33,  4.39s/it]"
     ]
    },
    {
     "name": "stderr",
     "output_type": "stream",
     "text": [
      "\r",
      " 19%|█▉        | 57/296 [05:14<12:47,  3.21s/it]"
     ]
    },
    {
     "name": "stderr",
     "output_type": "stream",
     "text": [
      "\r",
      " 20%|█▉        | 58/296 [05:36<34:14,  8.63s/it]"
     ]
    },
    {
     "name": "stderr",
     "output_type": "stream",
     "text": [
      "\r",
      " 20%|█▉        | 59/296 [05:36<24:24,  6.18s/it]"
     ]
    },
    {
     "name": "stderr",
     "output_type": "stream",
     "text": [
      "\r",
      " 20%|██        | 60/296 [05:36<17:14,  4.38s/it]"
     ]
    },
    {
     "name": "stderr",
     "output_type": "stream",
     "text": [
      "\r",
      " 21%|██        | 61/296 [05:37<12:33,  3.20s/it]"
     ]
    },
    {
     "name": "stderr",
     "output_type": "stream",
     "text": [
      "\r",
      " 21%|██        | 62/296 [05:58<33:44,  8.65s/it]"
     ]
    },
    {
     "name": "stderr",
     "output_type": "stream",
     "text": [
      "\r",
      " 21%|██▏       | 63/296 [05:59<24:03,  6.20s/it]"
     ]
    },
    {
     "name": "stderr",
     "output_type": "stream",
     "text": [
      "\r",
      " 22%|██▏       | 64/296 [05:59<16:59,  4.39s/it]"
     ]
    },
    {
     "name": "stderr",
     "output_type": "stream",
     "text": [
      "\r",
      " 22%|██▏       | 65/296 [05:59<12:22,  3.21s/it]"
     ]
    },
    {
     "name": "stderr",
     "output_type": "stream",
     "text": [
      "\r",
      " 22%|██▏       | 66/296 [06:21<33:12,  8.66s/it]"
     ]
    },
    {
     "name": "stderr",
     "output_type": "stream",
     "text": [
      "\r",
      " 23%|██▎       | 67/296 [06:21<23:40,  6.20s/it]"
     ]
    },
    {
     "name": "stderr",
     "output_type": "stream",
     "text": [
      "\r",
      " 23%|██▎       | 68/296 [06:21<16:42,  4.40s/it]"
     ]
    },
    {
     "name": "stderr",
     "output_type": "stream",
     "text": [
      "\r",
      " 23%|██▎       | 69/296 [06:22<12:10,  3.22s/it]"
     ]
    },
    {
     "name": "stderr",
     "output_type": "stream",
     "text": [
      "\r",
      " 24%|██▎       | 70/296 [06:43<32:35,  8.65s/it]"
     ]
    },
    {
     "name": "stderr",
     "output_type": "stream",
     "text": [
      "\r",
      " 24%|██▍       | 71/296 [06:43<23:13,  6.20s/it]"
     ]
    },
    {
     "name": "stderr",
     "output_type": "stream",
     "text": [
      "\r",
      " 24%|██▍       | 72/296 [06:44<16:24,  4.39s/it]"
     ]
    },
    {
     "name": "stderr",
     "output_type": "stream",
     "text": [
      "\r",
      " 25%|██▍       | 73/296 [06:44<11:56,  3.21s/it]"
     ]
    },
    {
     "name": "stderr",
     "output_type": "stream",
     "text": [
      "\r",
      " 25%|██▌       | 74/296 [07:05<31:56,  8.63s/it]"
     ]
    },
    {
     "name": "stderr",
     "output_type": "stream",
     "text": [
      "\r",
      " 25%|██▌       | 75/296 [07:06<22:46,  6.18s/it]"
     ]
    },
    {
     "name": "stderr",
     "output_type": "stream",
     "text": [
      "\r",
      " 26%|██▌       | 76/296 [07:06<16:04,  4.38s/it]"
     ]
    },
    {
     "name": "stderr",
     "output_type": "stream",
     "text": [
      "\r",
      " 26%|██▌       | 77/296 [07:07<11:41,  3.20s/it]"
     ]
    },
    {
     "name": "stderr",
     "output_type": "stream",
     "text": [
      "\r",
      " 26%|██▋       | 78/296 [07:28<31:20,  8.63s/it]"
     ]
    },
    {
     "name": "stderr",
     "output_type": "stream",
     "text": [
      "\r",
      " 27%|██▋       | 79/296 [07:28<22:20,  6.18s/it]"
     ]
    },
    {
     "name": "stderr",
     "output_type": "stream",
     "text": [
      "\r",
      " 27%|██▋       | 80/296 [07:28<15:46,  4.38s/it]"
     ]
    },
    {
     "name": "stderr",
     "output_type": "stream",
     "text": [
      "\r",
      " 27%|██▋       | 81/296 [07:29<11:28,  3.20s/it]"
     ]
    },
    {
     "name": "stderr",
     "output_type": "stream",
     "text": [
      "\r",
      " 28%|██▊       | 82/296 [07:50<30:49,  8.64s/it]"
     ]
    },
    {
     "name": "stderr",
     "output_type": "stream",
     "text": [
      "\r",
      " 28%|██▊       | 83/296 [07:51<21:58,  6.19s/it]"
     ]
    },
    {
     "name": "stderr",
     "output_type": "stream",
     "text": [
      "\r",
      " 28%|██▊       | 84/296 [07:51<15:30,  4.39s/it]"
     ]
    },
    {
     "name": "stderr",
     "output_type": "stream",
     "text": [
      "\r",
      " 29%|██▊       | 85/296 [07:51<11:16,  3.21s/it]"
     ]
    },
    {
     "name": "stderr",
     "output_type": "stream",
     "text": [
      "\r",
      " 29%|██▉       | 86/296 [08:13<30:16,  8.65s/it]"
     ]
    },
    {
     "name": "stderr",
     "output_type": "stream",
     "text": [
      "\r",
      " 29%|██▉       | 87/296 [08:13<21:34,  6.19s/it]"
     ]
    },
    {
     "name": "stderr",
     "output_type": "stream",
     "text": [
      "\r",
      " 30%|██▉       | 88/296 [08:13<15:13,  4.39s/it]"
     ]
    },
    {
     "name": "stderr",
     "output_type": "stream",
     "text": [
      "\r",
      " 30%|███       | 89/296 [08:14<11:04,  3.21s/it]"
     ]
    },
    {
     "name": "stderr",
     "output_type": "stream",
     "text": [
      "\r",
      " 30%|███       | 90/296 [08:35<29:42,  8.66s/it]"
     ]
    },
    {
     "name": "stderr",
     "output_type": "stream",
     "text": [
      "\r",
      " 31%|███       | 91/296 [08:36<21:10,  6.20s/it]"
     ]
    },
    {
     "name": "stderr",
     "output_type": "stream",
     "text": [
      "\r",
      " 31%|███       | 92/296 [08:36<14:56,  4.40s/it]"
     ]
    },
    {
     "name": "stderr",
     "output_type": "stream",
     "text": [
      "\r",
      " 31%|███▏      | 93/296 [08:36<10:52,  3.21s/it]"
     ]
    },
    {
     "name": "stderr",
     "output_type": "stream",
     "text": [
      "\r",
      " 32%|███▏      | 94/296 [08:58<29:08,  8.66s/it]"
     ]
    },
    {
     "name": "stderr",
     "output_type": "stream",
     "text": [
      "\r",
      " 32%|███▏      | 95/296 [08:58<20:46,  6.20s/it]"
     ]
    },
    {
     "name": "stderr",
     "output_type": "stream",
     "text": [
      "\r",
      " 32%|███▏      | 96/296 [08:58<14:39,  4.40s/it]"
     ]
    },
    {
     "name": "stderr",
     "output_type": "stream",
     "text": [
      "\r",
      " 33%|███▎      | 97/296 [08:59<10:39,  3.21s/it]"
     ]
    },
    {
     "name": "stderr",
     "output_type": "stream",
     "text": [
      "\r",
      " 33%|███▎      | 98/296 [09:20<28:27,  8.62s/it]"
     ]
    },
    {
     "name": "stderr",
     "output_type": "stream",
     "text": [
      "\r",
      " 33%|███▎      | 99/296 [09:20<20:16,  6.17s/it]"
     ]
    },
    {
     "name": "stderr",
     "output_type": "stream",
     "text": [
      "\r",
      " 34%|███▍      | 100/296 [09:21<14:18,  4.38s/it]"
     ]
    },
    {
     "name": "stderr",
     "output_type": "stream",
     "text": [
      "\r",
      " 34%|███▍      | 101/296 [09:21<10:24,  3.20s/it]"
     ]
    },
    {
     "name": "stderr",
     "output_type": "stream",
     "text": [
      "\r",
      " 34%|███▍      | 102/296 [09:42<27:51,  8.62s/it]"
     ]
    },
    {
     "name": "stderr",
     "output_type": "stream",
     "text": [
      "\r",
      " 35%|███▍      | 103/296 [09:43<19:50,  6.17s/it]"
     ]
    },
    {
     "name": "stderr",
     "output_type": "stream",
     "text": [
      "\r",
      " 35%|███▌      | 104/296 [09:43<14:00,  4.38s/it]"
     ]
    },
    {
     "name": "stderr",
     "output_type": "stream",
     "text": [
      "\r",
      " 35%|███▌      | 105/296 [09:43<10:10,  3.20s/it]"
     ]
    },
    {
     "name": "stderr",
     "output_type": "stream",
     "text": [
      "\r",
      " 36%|███▌      | 106/296 [10:05<27:18,  8.62s/it]"
     ]
    },
    {
     "name": "stderr",
     "output_type": "stream",
     "text": [
      "\r",
      " 36%|███▌      | 107/296 [10:05<19:26,  6.17s/it]"
     ]
    },
    {
     "name": "stderr",
     "output_type": "stream",
     "text": [
      "\r",
      " 36%|███▋      | 108/296 [10:05<13:43,  4.38s/it]"
     ]
    },
    {
     "name": "stderr",
     "output_type": "stream",
     "text": [
      "\r",
      " 37%|███▋      | 109/296 [10:06<09:58,  3.20s/it]"
     ]
    },
    {
     "name": "stderr",
     "output_type": "stream",
     "text": [
      "\r",
      " 37%|███▋      | 110/296 [10:27<26:45,  8.63s/it]"
     ]
    },
    {
     "name": "stderr",
     "output_type": "stream",
     "text": [
      "\r",
      " 38%|███▊      | 111/296 [10:28<19:03,  6.18s/it]"
     ]
    },
    {
     "name": "stderr",
     "output_type": "stream",
     "text": [
      "\r",
      " 38%|███▊      | 112/296 [10:28<13:26,  4.38s/it]"
     ]
    },
    {
     "name": "stderr",
     "output_type": "stream",
     "text": [
      "\r",
      " 38%|███▊      | 113/296 [10:28<09:46,  3.20s/it]"
     ]
    },
    {
     "name": "stderr",
     "output_type": "stream",
     "text": [
      "\r",
      " 39%|███▊      | 114/296 [10:49<26:09,  8.62s/it]"
     ]
    },
    {
     "name": "stderr",
     "output_type": "stream",
     "text": [
      "\r",
      " 39%|███▉      | 115/296 [10:50<18:37,  6.17s/it]"
     ]
    },
    {
     "name": "stderr",
     "output_type": "stream",
     "text": [
      "\r",
      " 39%|███▉      | 116/296 [10:50<13:08,  4.38s/it]"
     ]
    },
    {
     "name": "stderr",
     "output_type": "stream",
     "text": [
      "\r",
      " 40%|███▉      | 117/296 [10:51<09:32,  3.20s/it]"
     ]
    },
    {
     "name": "stderr",
     "output_type": "stream",
     "text": [
      "\r",
      " 40%|███▉      | 118/296 [11:12<25:35,  8.63s/it]"
     ]
    },
    {
     "name": "stderr",
     "output_type": "stream",
     "text": [
      "\r",
      " 40%|████      | 119/296 [11:12<18:13,  6.18s/it]"
     ]
    },
    {
     "name": "stderr",
     "output_type": "stream",
     "text": [
      "\r",
      " 41%|████      | 120/296 [11:13<12:51,  4.38s/it]"
     ]
    },
    {
     "name": "stderr",
     "output_type": "stream",
     "text": [
      "\r",
      " 41%|████      | 121/296 [11:13<09:20,  3.20s/it]"
     ]
    },
    {
     "name": "stderr",
     "output_type": "stream",
     "text": [
      "\r",
      " 41%|████      | 122/296 [11:34<25:00,  8.62s/it]"
     ]
    },
    {
     "name": "stderr",
     "output_type": "stream",
     "text": [
      "\r",
      " 42%|████▏     | 123/296 [11:35<17:48,  6.17s/it]"
     ]
    },
    {
     "name": "stderr",
     "output_type": "stream",
     "text": [
      "\r",
      " 42%|████▏     | 124/296 [11:35<12:33,  4.38s/it]"
     ]
    },
    {
     "name": "stderr",
     "output_type": "stream",
     "text": [
      "\r",
      " 42%|████▏     | 125/296 [11:35<09:07,  3.20s/it]"
     ]
    },
    {
     "name": "stderr",
     "output_type": "stream",
     "text": [
      "\r",
      " 43%|████▎     | 126/296 [11:57<24:25,  8.62s/it]"
     ]
    },
    {
     "name": "stderr",
     "output_type": "stream",
     "text": [
      "\r",
      " 43%|████▎     | 127/296 [11:57<17:23,  6.17s/it]"
     ]
    },
    {
     "name": "stderr",
     "output_type": "stream",
     "text": [
      "\r",
      " 43%|████▎     | 128/296 [11:57<12:15,  4.38s/it]"
     ]
    },
    {
     "name": "stderr",
     "output_type": "stream",
     "text": [
      "\r",
      " 44%|████▎     | 129/296 [11:58<08:54,  3.20s/it]"
     ]
    },
    {
     "name": "stderr",
     "output_type": "stream",
     "text": [
      "\r",
      " 44%|████▍     | 130/296 [12:19<23:50,  8.62s/it]"
     ]
    },
    {
     "name": "stderr",
     "output_type": "stream",
     "text": [
      "\r",
      " 44%|████▍     | 131/296 [12:19<16:57,  6.17s/it]"
     ]
    },
    {
     "name": "stderr",
     "output_type": "stream",
     "text": [
      "\r",
      " 45%|████▍     | 132/296 [12:20<11:57,  4.38s/it]"
     ]
    },
    {
     "name": "stderr",
     "output_type": "stream",
     "text": [
      "\r",
      " 45%|████▍     | 133/296 [12:20<08:41,  3.20s/it]"
     ]
    },
    {
     "name": "stderr",
     "output_type": "stream",
     "text": [
      "\r",
      " 45%|████▌     | 134/296 [12:41<23:15,  8.61s/it]"
     ]
    },
    {
     "name": "stderr",
     "output_type": "stream",
     "text": [
      "\r",
      " 46%|████▌     | 135/296 [12:42<16:32,  6.17s/it]"
     ]
    },
    {
     "name": "stderr",
     "output_type": "stream",
     "text": [
      "\r",
      " 46%|████▌     | 136/296 [12:42<11:39,  4.37s/it]"
     ]
    },
    {
     "name": "stderr",
     "output_type": "stream",
     "text": [
      "\r",
      " 46%|████▋     | 137/296 [12:42<08:28,  3.20s/it]"
     ]
    },
    {
     "name": "stderr",
     "output_type": "stream",
     "text": [
      "\r",
      " 47%|████▋     | 138/296 [13:04<22:41,  8.62s/it]"
     ]
    },
    {
     "name": "stderr",
     "output_type": "stream",
     "text": [
      "\r",
      " 47%|████▋     | 139/296 [13:04<16:08,  6.17s/it]"
     ]
    },
    {
     "name": "stderr",
     "output_type": "stream",
     "text": [
      "\r",
      " 47%|████▋     | 140/296 [13:04<11:22,  4.37s/it]"
     ]
    },
    {
     "name": "stderr",
     "output_type": "stream",
     "text": [
      "\r",
      " 48%|████▊     | 141/296 [13:05<08:15,  3.20s/it]"
     ]
    },
    {
     "name": "stderr",
     "output_type": "stream",
     "text": [
      "\r",
      " 48%|████▊     | 142/296 [13:26<22:05,  8.61s/it]"
     ]
    },
    {
     "name": "stderr",
     "output_type": "stream",
     "text": [
      "\r",
      " 48%|████▊     | 143/296 [13:26<15:43,  6.16s/it]"
     ]
    },
    {
     "name": "stderr",
     "output_type": "stream",
     "text": [
      "\r",
      " 49%|████▊     | 144/296 [13:27<11:04,  4.37s/it]"
     ]
    },
    {
     "name": "stderr",
     "output_type": "stream",
     "text": [
      "\r",
      " 49%|████▉     | 145/296 [13:27<08:02,  3.20s/it]"
     ]
    },
    {
     "name": "stderr",
     "output_type": "stream",
     "text": [
      "\r",
      " 49%|████▉     | 146/296 [13:48<21:32,  8.61s/it]"
     ]
    },
    {
     "name": "stderr",
     "output_type": "stream",
     "text": [
      "\r",
      " 50%|████▉     | 147/296 [13:49<15:19,  6.17s/it]"
     ]
    },
    {
     "name": "stderr",
     "output_type": "stream",
     "text": [
      "\r",
      " 50%|█████     | 148/296 [13:49<10:47,  4.37s/it]"
     ]
    },
    {
     "name": "stderr",
     "output_type": "stream",
     "text": [
      "\r",
      " 50%|█████     | 149/296 [13:49<07:50,  3.20s/it]"
     ]
    },
    {
     "name": "stderr",
     "output_type": "stream",
     "text": [
      "\r",
      " 51%|█████     | 150/296 [14:11<21:02,  8.65s/it]"
     ]
    },
    {
     "name": "stderr",
     "output_type": "stream",
     "text": [
      "\r",
      " 51%|█████     | 151/296 [14:11<14:58,  6.19s/it]"
     ]
    },
    {
     "name": "stderr",
     "output_type": "stream",
     "text": [
      "\r",
      " 51%|█████▏    | 152/296 [14:11<10:32,  4.39s/it]"
     ]
    },
    {
     "name": "stderr",
     "output_type": "stream",
     "text": [
      "\r",
      " 52%|█████▏    | 153/296 [14:12<07:39,  3.21s/it]"
     ]
    },
    {
     "name": "stderr",
     "output_type": "stream",
     "text": [
      "\r",
      " 52%|█████▏    | 154/296 [14:33<20:27,  8.65s/it]"
     ]
    },
    {
     "name": "stderr",
     "output_type": "stream",
     "text": [
      "\r",
      " 52%|█████▏    | 155/296 [14:34<14:33,  6.19s/it]"
     ]
    },
    {
     "name": "stderr",
     "output_type": "stream",
     "text": [
      "\r",
      " 53%|█████▎    | 156/296 [14:34<10:14,  4.39s/it]"
     ]
    },
    {
     "name": "stderr",
     "output_type": "stream",
     "text": [
      "\r",
      " 53%|█████▎    | 157/296 [14:34<07:26,  3.21s/it]"
     ]
    },
    {
     "name": "stderr",
     "output_type": "stream",
     "text": [
      "\r",
      " 53%|█████▎    | 158/296 [14:56<19:55,  8.66s/it]"
     ]
    },
    {
     "name": "stderr",
     "output_type": "stream",
     "text": [
      "\r",
      " 54%|█████▎    | 159/296 [14:56<14:09,  6.20s/it]"
     ]
    },
    {
     "name": "stderr",
     "output_type": "stream",
     "text": [
      "\r",
      " 54%|█████▍    | 160/296 [14:56<09:58,  4.40s/it]"
     ]
    },
    {
     "name": "stderr",
     "output_type": "stream",
     "text": [
      "\r",
      " 54%|█████▍    | 161/296 [14:57<07:13,  3.21s/it]"
     ]
    },
    {
     "name": "stderr",
     "output_type": "stream",
     "text": [
      "\r",
      " 55%|█████▍    | 162/296 [15:18<19:19,  8.65s/it]"
     ]
    },
    {
     "name": "stderr",
     "output_type": "stream",
     "text": [
      "\r",
      " 55%|█████▌    | 163/296 [15:19<13:44,  6.20s/it]"
     ]
    },
    {
     "name": "stderr",
     "output_type": "stream",
     "text": [
      "\r",
      " 55%|█████▌    | 164/296 [15:19<09:40,  4.39s/it]"
     ]
    },
    {
     "name": "stderr",
     "output_type": "stream",
     "text": [
      "\r",
      " 56%|█████▌    | 165/296 [15:19<07:00,  3.21s/it]"
     ]
    },
    {
     "name": "stderr",
     "output_type": "stream",
     "text": [
      "\r",
      " 56%|█████▌    | 166/296 [15:41<18:44,  8.65s/it]"
     ]
    },
    {
     "name": "stderr",
     "output_type": "stream",
     "text": [
      "\r",
      " 56%|█████▋    | 167/296 [15:41<13:19,  6.20s/it]"
     ]
    },
    {
     "name": "stderr",
     "output_type": "stream",
     "text": [
      "\r",
      " 57%|█████▋    | 168/296 [15:41<09:22,  4.39s/it]"
     ]
    },
    {
     "name": "stderr",
     "output_type": "stream",
     "text": [
      "\r",
      " 57%|█████▋    | 169/296 [15:42<06:47,  3.21s/it]"
     ]
    },
    {
     "name": "stderr",
     "output_type": "stream",
     "text": [
      "\r",
      " 57%|█████▋    | 170/296 [16:03<18:10,  8.65s/it]"
     ]
    },
    {
     "name": "stderr",
     "output_type": "stream",
     "text": [
      "\r",
      " 58%|█████▊    | 171/296 [16:04<12:54,  6.20s/it]"
     ]
    },
    {
     "name": "stderr",
     "output_type": "stream",
     "text": [
      "\r",
      " 58%|█████▊    | 172/296 [16:04<09:05,  4.40s/it]"
     ]
    },
    {
     "name": "stderr",
     "output_type": "stream",
     "text": [
      "\r",
      " 58%|█████▊    | 173/296 [16:04<06:35,  3.21s/it]"
     ]
    },
    {
     "name": "stderr",
     "output_type": "stream",
     "text": [
      "\r",
      " 59%|█████▉    | 174/296 [16:26<17:35,  8.65s/it]"
     ]
    },
    {
     "name": "stderr",
     "output_type": "stream",
     "text": [
      "\r",
      " 59%|█████▉    | 175/296 [16:26<12:29,  6.20s/it]"
     ]
    },
    {
     "name": "stderr",
     "output_type": "stream",
     "text": [
      "\r",
      " 59%|█████▉    | 176/296 [16:26<08:47,  4.40s/it]"
     ]
    },
    {
     "name": "stderr",
     "output_type": "stream",
     "text": [
      "\r",
      " 60%|█████▉    | 177/296 [16:27<06:22,  3.21s/it]"
     ]
    },
    {
     "name": "stderr",
     "output_type": "stream",
     "text": [
      "\r",
      " 60%|██████    | 178/296 [16:48<17:00,  8.65s/it]"
     ]
    },
    {
     "name": "stderr",
     "output_type": "stream",
     "text": [
      "\r",
      " 60%|██████    | 179/296 [16:48<12:04,  6.19s/it]"
     ]
    },
    {
     "name": "stderr",
     "output_type": "stream",
     "text": [
      "\r",
      " 61%|██████    | 180/296 [16:49<08:29,  4.39s/it]"
     ]
    },
    {
     "name": "stderr",
     "output_type": "stream",
     "text": [
      "\r",
      " 61%|██████    | 181/296 [16:49<06:09,  3.21s/it]"
     ]
    },
    {
     "name": "stderr",
     "output_type": "stream",
     "text": [
      "\r",
      " 61%|██████▏   | 182/296 [17:10<16:26,  8.65s/it]"
     ]
    },
    {
     "name": "stderr",
     "output_type": "stream",
     "text": [
      "\r",
      " 62%|██████▏   | 183/296 [17:11<11:40,  6.20s/it]"
     ]
    },
    {
     "name": "stderr",
     "output_type": "stream",
     "text": [
      "\r",
      " 62%|██████▏   | 184/296 [17:11<08:12,  4.40s/it]"
     ]
    },
    {
     "name": "stderr",
     "output_type": "stream",
     "text": [
      "\r",
      " 62%|██████▎   | 185/296 [17:12<05:56,  3.21s/it]"
     ]
    },
    {
     "name": "stderr",
     "output_type": "stream",
     "text": [
      "\r",
      " 63%|██████▎   | 186/296 [17:33<15:51,  8.65s/it]"
     ]
    },
    {
     "name": "stderr",
     "output_type": "stream",
     "text": [
      "\r",
      " 63%|██████▎   | 187/296 [17:33<11:15,  6.20s/it]"
     ]
    },
    {
     "name": "stderr",
     "output_type": "stream",
     "text": [
      "\r",
      " 64%|██████▎   | 188/296 [17:34<07:54,  4.39s/it]"
     ]
    },
    {
     "name": "stderr",
     "output_type": "stream",
     "text": [
      "\r",
      " 64%|██████▍   | 189/296 [17:34<05:43,  3.21s/it]"
     ]
    },
    {
     "name": "stderr",
     "output_type": "stream",
     "text": [
      "\r",
      " 64%|██████▍   | 190/296 [17:55<15:17,  8.66s/it]"
     ]
    },
    {
     "name": "stderr",
     "output_type": "stream",
     "text": [
      "\r",
      " 65%|██████▍   | 191/296 [17:56<10:50,  6.20s/it]"
     ]
    },
    {
     "name": "stderr",
     "output_type": "stream",
     "text": [
      "\r",
      " 65%|██████▍   | 192/296 [17:56<07:37,  4.40s/it]"
     ]
    },
    {
     "name": "stderr",
     "output_type": "stream",
     "text": [
      "\r",
      " 65%|██████▌   | 193/296 [17:57<05:31,  3.22s/it]"
     ]
    },
    {
     "name": "stderr",
     "output_type": "stream",
     "text": [
      "\r",
      " 66%|██████▌   | 194/296 [18:18<14:41,  8.64s/it]"
     ]
    },
    {
     "name": "stderr",
     "output_type": "stream",
     "text": [
      "\r",
      " 66%|██████▌   | 195/296 [18:18<10:25,  6.19s/it]"
     ]
    },
    {
     "name": "stderr",
     "output_type": "stream",
     "text": [
      "\r",
      " 66%|██████▌   | 196/296 [18:18<07:18,  4.39s/it]"
     ]
    },
    {
     "name": "stderr",
     "output_type": "stream",
     "text": [
      "\r",
      " 67%|██████▋   | 197/296 [18:19<05:17,  3.21s/it]"
     ]
    },
    {
     "name": "stderr",
     "output_type": "stream",
     "text": [
      "\r",
      " 67%|██████▋   | 198/296 [18:40<14:07,  8.64s/it]"
     ]
    },
    {
     "name": "stderr",
     "output_type": "stream",
     "text": [
      "\r",
      " 67%|██████▋   | 199/296 [18:41<10:00,  6.19s/it]"
     ]
    },
    {
     "name": "stderr",
     "output_type": "stream",
     "text": [
      "\r",
      " 68%|██████▊   | 200/296 [18:41<07:01,  4.39s/it]"
     ]
    },
    {
     "name": "stderr",
     "output_type": "stream",
     "text": [
      "\r",
      " 68%|██████▊   | 201/296 [18:41<05:04,  3.21s/it]"
     ]
    },
    {
     "name": "stderr",
     "output_type": "stream",
     "text": [
      "\r",
      " 68%|██████▊   | 202/296 [19:03<13:34,  8.66s/it]"
     ]
    },
    {
     "name": "stderr",
     "output_type": "stream",
     "text": [
      "\r",
      " 69%|██████▊   | 203/296 [19:03<09:36,  6.20s/it]"
     ]
    },
    {
     "name": "stderr",
     "output_type": "stream",
     "text": [
      "\r",
      " 69%|██████▉   | 204/296 [19:03<06:44,  4.40s/it]"
     ]
    },
    {
     "name": "stderr",
     "output_type": "stream",
     "text": [
      "\r",
      " 69%|██████▉   | 205/296 [19:04<04:52,  3.21s/it]"
     ]
    },
    {
     "name": "stderr",
     "output_type": "stream",
     "text": [
      "\r",
      " 70%|██████▉   | 206/296 [19:25<12:58,  8.65s/it]"
     ]
    },
    {
     "name": "stderr",
     "output_type": "stream",
     "text": [
      "\r",
      " 70%|██████▉   | 207/296 [19:26<09:11,  6.19s/it]"
     ]
    },
    {
     "name": "stderr",
     "output_type": "stream",
     "text": [
      "\r",
      " 70%|███████   | 208/296 [19:26<06:26,  4.39s/it]"
     ]
    },
    {
     "name": "stderr",
     "output_type": "stream",
     "text": [
      "\r",
      " 71%|███████   | 209/296 [19:26<04:39,  3.21s/it]"
     ]
    },
    {
     "name": "stderr",
     "output_type": "stream",
     "text": [
      "\r",
      " 71%|███████   | 210/296 [19:48<12:23,  8.65s/it]"
     ]
    },
    {
     "name": "stderr",
     "output_type": "stream",
     "text": [
      "\r",
      " 71%|███████▏  | 211/296 [19:48<08:46,  6.19s/it]"
     ]
    },
    {
     "name": "stderr",
     "output_type": "stream",
     "text": [
      "\r",
      " 72%|███████▏  | 212/296 [19:48<06:08,  4.39s/it]"
     ]
    },
    {
     "name": "stderr",
     "output_type": "stream",
     "text": [
      "\r",
      " 72%|███████▏  | 213/296 [19:49<04:26,  3.21s/it]"
     ]
    },
    {
     "name": "stderr",
     "output_type": "stream",
     "text": [
      "\r",
      " 72%|███████▏  | 214/296 [20:10<11:50,  8.66s/it]"
     ]
    },
    {
     "name": "stderr",
     "output_type": "stream",
     "text": [
      "\r",
      " 73%|███████▎  | 215/296 [20:11<08:22,  6.20s/it]"
     ]
    },
    {
     "name": "stderr",
     "output_type": "stream",
     "text": [
      "\r",
      " 73%|███████▎  | 216/296 [20:11<05:51,  4.40s/it]"
     ]
    },
    {
     "name": "stderr",
     "output_type": "stream",
     "text": [
      "\r",
      " 73%|███████▎  | 217/296 [20:11<04:14,  3.22s/it]"
     ]
    },
    {
     "name": "stderr",
     "output_type": "stream",
     "text": [
      "\r",
      " 74%|███████▎  | 218/296 [20:33<11:16,  8.67s/it]"
     ]
    },
    {
     "name": "stderr",
     "output_type": "stream",
     "text": [
      "\r",
      " 74%|███████▍  | 219/296 [20:33<07:58,  6.21s/it]"
     ]
    },
    {
     "name": "stderr",
     "output_type": "stream",
     "text": [
      "\r",
      " 74%|███████▍  | 220/296 [20:33<05:34,  4.40s/it]"
     ]
    },
    {
     "name": "stderr",
     "output_type": "stream",
     "text": [
      "\r",
      " 75%|███████▍  | 221/296 [20:34<04:01,  3.22s/it]"
     ]
    },
    {
     "name": "stderr",
     "output_type": "stream",
     "text": [
      "\r",
      " 75%|███████▌  | 222/296 [20:55<10:42,  8.68s/it]"
     ]
    },
    {
     "name": "stderr",
     "output_type": "stream",
     "text": [
      "\r",
      " 75%|███████▌  | 223/296 [20:56<07:33,  6.21s/it]"
     ]
    },
    {
     "name": "stderr",
     "output_type": "stream",
     "text": [
      "\r",
      " 76%|███████▌  | 224/296 [20:56<05:17,  4.41s/it]"
     ]
    },
    {
     "name": "stderr",
     "output_type": "stream",
     "text": [
      "\r",
      " 76%|███████▌  | 225/296 [20:56<03:48,  3.22s/it]"
     ]
    },
    {
     "name": "stderr",
     "output_type": "stream",
     "text": [
      "\r",
      " 76%|███████▋  | 226/296 [21:18<10:08,  8.69s/it]"
     ]
    },
    {
     "name": "stderr",
     "output_type": "stream",
     "text": [
      "\r",
      " 77%|███████▋  | 227/296 [21:18<07:09,  6.22s/it]"
     ]
    },
    {
     "name": "stderr",
     "output_type": "stream",
     "text": [
      "\r",
      " 77%|███████▋  | 228/296 [21:18<05:00,  4.41s/it]"
     ]
    },
    {
     "name": "stderr",
     "output_type": "stream",
     "text": [
      "\r",
      " 77%|███████▋  | 229/296 [21:19<03:36,  3.22s/it]"
     ]
    },
    {
     "name": "stderr",
     "output_type": "stream",
     "text": [
      "\r",
      " 78%|███████▊  | 230/296 [21:40<09:33,  8.70s/it]"
     ]
    },
    {
     "name": "stderr",
     "output_type": "stream",
     "text": [
      "\r",
      " 78%|███████▊  | 231/296 [21:41<06:44,  6.23s/it]"
     ]
    },
    {
     "name": "stderr",
     "output_type": "stream",
     "text": [
      "\r",
      " 78%|███████▊  | 232/296 [21:41<04:42,  4.42s/it]"
     ]
    },
    {
     "name": "stderr",
     "output_type": "stream",
     "text": [
      "\r",
      " 79%|███████▊  | 233/296 [21:41<03:23,  3.23s/it]"
     ]
    },
    {
     "name": "stderr",
     "output_type": "stream",
     "text": [
      "\r",
      " 79%|███████▉  | 234/296 [22:03<08:59,  8.71s/it]"
     ]
    },
    {
     "name": "stderr",
     "output_type": "stream",
     "text": [
      "\r",
      " 79%|███████▉  | 235/296 [22:03<06:20,  6.23s/it]"
     ]
    },
    {
     "name": "stderr",
     "output_type": "stream",
     "text": [
      "\r",
      " 80%|███████▉  | 236/296 [22:04<04:25,  4.42s/it]"
     ]
    },
    {
     "name": "stderr",
     "output_type": "stream",
     "text": [
      "\r",
      " 80%|████████  | 237/296 [22:04<03:10,  3.23s/it]"
     ]
    },
    {
     "name": "stderr",
     "output_type": "stream",
     "text": [
      "\r",
      " 80%|████████  | 238/296 [22:25<08:22,  8.66s/it]"
     ]
    },
    {
     "name": "stderr",
     "output_type": "stream",
     "text": [
      "\r",
      " 81%|████████  | 239/296 [22:26<05:53,  6.20s/it]"
     ]
    },
    {
     "name": "stderr",
     "output_type": "stream",
     "text": [
      "\r",
      " 81%|████████  | 240/296 [22:26<04:06,  4.40s/it]"
     ]
    },
    {
     "name": "stderr",
     "output_type": "stream",
     "text": [
      "\r",
      " 81%|████████▏ | 241/296 [22:26<02:56,  3.21s/it]"
     ]
    },
    {
     "name": "stderr",
     "output_type": "stream",
     "text": [
      "\r",
      " 82%|████████▏ | 242/296 [22:48<07:47,  8.65s/it]"
     ]
    },
    {
     "name": "stderr",
     "output_type": "stream",
     "text": [
      "\r",
      " 82%|████████▏ | 243/296 [22:48<05:28,  6.20s/it]"
     ]
    },
    {
     "name": "stderr",
     "output_type": "stream",
     "text": [
      "\r",
      " 82%|████████▏ | 244/296 [22:48<03:48,  4.40s/it]"
     ]
    },
    {
     "name": "stderr",
     "output_type": "stream",
     "text": [
      "\r",
      " 83%|████████▎ | 245/296 [22:49<02:43,  3.21s/it]"
     ]
    },
    {
     "name": "stderr",
     "output_type": "stream",
     "text": [
      "\r",
      " 83%|████████▎ | 246/296 [23:10<07:11,  8.64s/it]"
     ]
    },
    {
     "name": "stderr",
     "output_type": "stream",
     "text": [
      "\r",
      " 83%|████████▎ | 247/296 [23:11<05:03,  6.19s/it]"
     ]
    },
    {
     "name": "stderr",
     "output_type": "stream",
     "text": [
      "\r",
      " 84%|████████▍ | 248/296 [23:11<03:30,  4.39s/it]"
     ]
    },
    {
     "name": "stderr",
     "output_type": "stream",
     "text": [
      "\r",
      " 84%|████████▍ | 249/296 [23:11<02:30,  3.21s/it]"
     ]
    },
    {
     "name": "stderr",
     "output_type": "stream",
     "text": [
      "\r",
      " 84%|████████▍ | 250/296 [23:33<06:37,  8.64s/it]"
     ]
    },
    {
     "name": "stderr",
     "output_type": "stream",
     "text": [
      "\r",
      " 85%|████████▍ | 251/296 [23:33<04:38,  6.18s/it]"
     ]
    },
    {
     "name": "stderr",
     "output_type": "stream",
     "text": [
      "\r",
      " 85%|████████▌ | 252/296 [23:33<03:12,  4.39s/it]"
     ]
    },
    {
     "name": "stderr",
     "output_type": "stream",
     "text": [
      "\r",
      " 85%|████████▌ | 253/296 [23:34<02:17,  3.21s/it]"
     ]
    },
    {
     "name": "stderr",
     "output_type": "stream",
     "text": [
      "\r",
      " 86%|████████▌ | 254/296 [23:55<06:03,  8.64s/it]"
     ]
    },
    {
     "name": "stderr",
     "output_type": "stream",
     "text": [
      "\r",
      " 86%|████████▌ | 255/296 [23:55<04:13,  6.19s/it]"
     ]
    },
    {
     "name": "stderr",
     "output_type": "stream",
     "text": [
      "\r",
      " 86%|████████▋ | 256/296 [23:56<02:55,  4.39s/it]"
     ]
    },
    {
     "name": "stderr",
     "output_type": "stream",
     "text": [
      "\r",
      " 87%|████████▋ | 257/296 [23:56<02:05,  3.21s/it]"
     ]
    },
    {
     "name": "stderr",
     "output_type": "stream",
     "text": [
      "\r",
      " 87%|████████▋ | 258/296 [24:17<05:28,  8.65s/it]"
     ]
    },
    {
     "name": "stderr",
     "output_type": "stream",
     "text": [
      "\r",
      " 88%|████████▊ | 259/296 [24:18<03:49,  6.20s/it]"
     ]
    },
    {
     "name": "stderr",
     "output_type": "stream",
     "text": [
      "\r",
      " 88%|████████▊ | 260/296 [24:18<02:38,  4.39s/it]"
     ]
    },
    {
     "name": "stderr",
     "output_type": "stream",
     "text": [
      "\r",
      " 88%|████████▊ | 261/296 [24:19<01:52,  3.21s/it]"
     ]
    },
    {
     "name": "stderr",
     "output_type": "stream",
     "text": [
      "\r",
      " 89%|████████▊ | 262/296 [24:40<04:54,  8.66s/it]"
     ]
    },
    {
     "name": "stderr",
     "output_type": "stream",
     "text": [
      "\r",
      " 89%|████████▉ | 263/296 [24:40<03:24,  6.20s/it]"
     ]
    },
    {
     "name": "stderr",
     "output_type": "stream",
     "text": [
      "\r",
      " 89%|████████▉ | 264/296 [24:41<02:20,  4.40s/it]"
     ]
    },
    {
     "name": "stderr",
     "output_type": "stream",
     "text": [
      "\r",
      " 90%|████████▉ | 265/296 [24:41<01:39,  3.22s/it]"
     ]
    },
    {
     "name": "stderr",
     "output_type": "stream",
     "text": [
      "\r",
      " 90%|████████▉ | 266/296 [25:02<04:20,  8.67s/it]"
     ]
    },
    {
     "name": "stderr",
     "output_type": "stream",
     "text": [
      "\r",
      " 90%|█████████ | 267/296 [25:03<02:59,  6.21s/it]"
     ]
    },
    {
     "name": "stderr",
     "output_type": "stream",
     "text": [
      "\r",
      " 91%|█████████ | 268/296 [25:03<02:03,  4.40s/it]"
     ]
    },
    {
     "name": "stderr",
     "output_type": "stream",
     "text": [
      "\r",
      " 91%|█████████ | 269/296 [25:04<01:26,  3.22s/it]"
     ]
    },
    {
     "name": "stderr",
     "output_type": "stream",
     "text": [
      "\r",
      " 91%|█████████ | 270/296 [25:25<03:45,  8.66s/it]"
     ]
    },
    {
     "name": "stderr",
     "output_type": "stream",
     "text": [
      "\r",
      " 92%|█████████▏| 271/296 [25:25<02:35,  6.20s/it]"
     ]
    },
    {
     "name": "stderr",
     "output_type": "stream",
     "text": [
      "\r",
      " 92%|█████████▏| 272/296 [25:26<01:45,  4.40s/it]"
     ]
    },
    {
     "name": "stderr",
     "output_type": "stream",
     "text": [
      "\r",
      " 92%|█████████▏| 273/296 [25:26<01:13,  3.22s/it]"
     ]
    },
    {
     "name": "stderr",
     "output_type": "stream",
     "text": [
      "\r",
      " 93%|█████████▎| 274/296 [25:47<03:10,  8.67s/it]"
     ]
    },
    {
     "name": "stderr",
     "output_type": "stream",
     "text": [
      "\r",
      " 93%|█████████▎| 275/296 [25:48<02:10,  6.20s/it]"
     ]
    },
    {
     "name": "stderr",
     "output_type": "stream",
     "text": [
      "\r",
      " 93%|█████████▎| 276/296 [25:48<01:28,  4.40s/it]"
     ]
    },
    {
     "name": "stderr",
     "output_type": "stream",
     "text": [
      "\r",
      " 94%|█████████▎| 277/296 [25:49<01:01,  3.22s/it]"
     ]
    },
    {
     "name": "stderr",
     "output_type": "stream",
     "text": [
      "\r",
      " 94%|█████████▍| 278/296 [26:10<02:35,  8.66s/it]"
     ]
    },
    {
     "name": "stderr",
     "output_type": "stream",
     "text": [
      "\r",
      " 94%|█████████▍| 279/296 [26:10<01:45,  6.20s/it]"
     ]
    },
    {
     "name": "stderr",
     "output_type": "stream",
     "text": [
      "\r",
      " 95%|█████████▍| 280/296 [26:11<01:10,  4.40s/it]"
     ]
    },
    {
     "name": "stderr",
     "output_type": "stream",
     "text": [
      "\r",
      " 95%|█████████▍| 281/296 [26:11<00:48,  3.21s/it]"
     ]
    },
    {
     "name": "stderr",
     "output_type": "stream",
     "text": [
      "\r",
      " 95%|█████████▌| 282/296 [26:32<02:01,  8.66s/it]"
     ]
    },
    {
     "name": "stderr",
     "output_type": "stream",
     "text": [
      "\r",
      " 96%|█████████▌| 283/296 [26:33<01:20,  6.20s/it]"
     ]
    },
    {
     "name": "stderr",
     "output_type": "stream",
     "text": [
      "\r",
      " 96%|█████████▌| 284/296 [26:33<00:52,  4.40s/it]"
     ]
    },
    {
     "name": "stderr",
     "output_type": "stream",
     "text": [
      "\r",
      " 96%|█████████▋| 285/296 [26:33<00:35,  3.21s/it]"
     ]
    },
    {
     "name": "stderr",
     "output_type": "stream",
     "text": [
      "\r",
      " 97%|█████████▋| 286/296 [26:55<01:26,  8.66s/it]"
     ]
    },
    {
     "name": "stderr",
     "output_type": "stream",
     "text": [
      "\r",
      " 97%|█████████▋| 287/296 [26:55<00:55,  6.20s/it]"
     ]
    },
    {
     "name": "stderr",
     "output_type": "stream",
     "text": [
      "\r",
      " 97%|█████████▋| 288/296 [26:55<00:35,  4.39s/it]"
     ]
    },
    {
     "name": "stderr",
     "output_type": "stream",
     "text": [
      "\r",
      " 98%|█████████▊| 289/296 [26:56<00:22,  3.21s/it]"
     ]
    },
    {
     "name": "stderr",
     "output_type": "stream",
     "text": [
      "\r",
      " 98%|█████████▊| 290/296 [27:17<00:51,  8.65s/it]"
     ]
    },
    {
     "name": "stderr",
     "output_type": "stream",
     "text": [
      "\r",
      " 98%|█████████▊| 291/296 [27:18<00:30,  6.19s/it]"
     ]
    },
    {
     "name": "stderr",
     "output_type": "stream",
     "text": [
      "\r",
      " 99%|█████████▊| 292/296 [27:18<00:17,  4.39s/it]"
     ]
    },
    {
     "name": "stderr",
     "output_type": "stream",
     "text": [
      "\r",
      " 99%|█████████▉| 293/296 [27:18<00:09,  3.21s/it]"
     ]
    },
    {
     "name": "stderr",
     "output_type": "stream",
     "text": [
      "\r",
      " 99%|█████████▉| 294/296 [27:40<00:17,  8.64s/it]"
     ]
    },
    {
     "name": "stderr",
     "output_type": "stream",
     "text": [
      "\r",
      "100%|█████████▉| 295/296 [27:40<00:06,  6.19s/it]"
     ]
    },
    {
     "name": "stderr",
     "output_type": "stream",
     "text": [
      "\r",
      "100%|██████████| 296/296 [27:40<00:00,  4.39s/it]"
     ]
    },
    {
     "name": "stderr",
     "output_type": "stream",
     "text": [
      "\r",
      "100%|██████████| 296/296 [27:40<00:00,  5.61s/it]"
     ]
    },
    {
     "name": "stderr",
     "output_type": "stream",
     "text": [
      "\n"
     ]
    }
   ],
   "source": [
    "ensemble = generate_ensemble(\n",
    "    data_dist,\n",
    "    CLUSTERERS,\n",
    "    attributes=CLUSTERING_ATTRIBUTES_TO_SAVE,\n",
    "    affinity_matrix=data_dist,\n",
    ")"
   ]
  },
  {
   "cell_type": "code",
   "execution_count": 25,
   "metadata": {
    "execution": {
     "iopub.execute_input": "2021-01-05T21:07:31.533983Z",
     "iopub.status.busy": "2021-01-05T21:07:31.533520Z",
     "iopub.status.idle": "2021-01-05T21:07:31.549041Z",
     "shell.execute_reply": "2021-01-05T21:07:31.548565Z"
    },
    "papermill": {
     "duration": 0.103932,
     "end_time": "2021-01-05T21:07:31.549146",
     "exception": false,
     "start_time": "2021-01-05T21:07:31.445214",
     "status": "completed"
    },
    "tags": []
   },
   "outputs": [
    {
     "data": {
      "text/plain": [
       "(296, 3)"
      ]
     },
     "execution_count": 25,
     "metadata": {},
     "output_type": "execute_result"
    }
   ],
   "source": [
    "# the number should be close to 295 (the number of partitions generated by k-means/spectral clustering)\n",
    "ensemble.shape"
   ]
  },
  {
   "cell_type": "code",
   "execution_count": 26,
   "metadata": {
    "execution": {
     "iopub.execute_input": "2021-01-05T21:07:31.686804Z",
     "iopub.status.busy": "2021-01-05T21:07:31.686445Z",
     "iopub.status.idle": "2021-01-05T21:07:31.705931Z",
     "shell.execute_reply": "2021-01-05T21:07:31.706222Z"
    },
    "papermill": {
     "duration": 0.088093,
     "end_time": "2021-01-05T21:07:31.706327",
     "exception": false,
     "start_time": "2021-01-05T21:07:31.618234",
     "status": "completed"
    },
    "tags": []
   },
   "outputs": [
    {
     "data": {
      "text/html": [
       "<div>\n",
       "<style scoped>\n",
       "    .dataframe tbody tr th:only-of-type {\n",
       "        vertical-align: middle;\n",
       "    }\n",
       "\n",
       "    .dataframe tbody tr th {\n",
       "        vertical-align: top;\n",
       "    }\n",
       "\n",
       "    .dataframe thead th {\n",
       "        text-align: right;\n",
       "    }\n",
       "</style>\n",
       "<table border=\"1\" class=\"dataframe\">\n",
       "  <thead>\n",
       "    <tr style=\"text-align: right;\">\n",
       "      <th></th>\n",
       "      <th>clusterer_params</th>\n",
       "      <th>partition</th>\n",
       "      <th>n_clusters</th>\n",
       "    </tr>\n",
       "    <tr>\n",
       "      <th>clusterer_id</th>\n",
       "      <th></th>\n",
       "      <th></th>\n",
       "      <th></th>\n",
       "    </tr>\n",
       "  </thead>\n",
       "  <tbody>\n",
       "    <tr>\n",
       "      <th>AgglomerativeClustering #0</th>\n",
       "      <td>{'affinity': 'precomputed', 'compute_full_tree...</td>\n",
       "      <td>[0.0, 0.0, 0.0, 0.0, 0.0, 0.0, 0.0, 0.0, 0.0, ...</td>\n",
       "      <td>2</td>\n",
       "    </tr>\n",
       "    <tr>\n",
       "      <th>AgglomerativeClustering #1</th>\n",
       "      <td>{'affinity': 'euclidean', 'compute_full_tree':...</td>\n",
       "      <td>[1.0, 1.0, 1.0, 1.0, 1.0, 1.0, 1.0, 1.0, 1.0, ...</td>\n",
       "      <td>2</td>\n",
       "    </tr>\n",
       "    <tr>\n",
       "      <th>AgglomerativeClustering #2</th>\n",
       "      <td>{'affinity': 'precomputed', 'compute_full_tree...</td>\n",
       "      <td>[0.0, 0.0, 0.0, 0.0, 0.0, 0.0, 0.0, 0.0, 0.0, ...</td>\n",
       "      <td>2</td>\n",
       "    </tr>\n",
       "    <tr>\n",
       "      <th>AgglomerativeClustering #3</th>\n",
       "      <td>{'affinity': 'precomputed', 'compute_full_tree...</td>\n",
       "      <td>[0.0, 0.0, 0.0, 0.0, 0.0, 0.0, 0.0, 0.0, 0.0, ...</td>\n",
       "      <td>2</td>\n",
       "    </tr>\n",
       "    <tr>\n",
       "      <th>AgglomerativeClustering #4</th>\n",
       "      <td>{'affinity': 'precomputed', 'compute_full_tree...</td>\n",
       "      <td>[1.0, 1.0, 1.0, 1.0, 1.0, 1.0, 1.0, 1.0, 1.0, ...</td>\n",
       "      <td>3</td>\n",
       "    </tr>\n",
       "  </tbody>\n",
       "</table>\n",
       "</div>"
      ],
      "text/plain": [
       "                                                             clusterer_params  \\\n",
       "clusterer_id                                                                    \n",
       "AgglomerativeClustering #0  {'affinity': 'precomputed', 'compute_full_tree...   \n",
       "AgglomerativeClustering #1  {'affinity': 'euclidean', 'compute_full_tree':...   \n",
       "AgglomerativeClustering #2  {'affinity': 'precomputed', 'compute_full_tree...   \n",
       "AgglomerativeClustering #3  {'affinity': 'precomputed', 'compute_full_tree...   \n",
       "AgglomerativeClustering #4  {'affinity': 'precomputed', 'compute_full_tree...   \n",
       "\n",
       "                                                                    partition  \\\n",
       "clusterer_id                                                                    \n",
       "AgglomerativeClustering #0  [0.0, 0.0, 0.0, 0.0, 0.0, 0.0, 0.0, 0.0, 0.0, ...   \n",
       "AgglomerativeClustering #1  [1.0, 1.0, 1.0, 1.0, 1.0, 1.0, 1.0, 1.0, 1.0, ...   \n",
       "AgglomerativeClustering #2  [0.0, 0.0, 0.0, 0.0, 0.0, 0.0, 0.0, 0.0, 0.0, ...   \n",
       "AgglomerativeClustering #3  [0.0, 0.0, 0.0, 0.0, 0.0, 0.0, 0.0, 0.0, 0.0, ...   \n",
       "AgglomerativeClustering #4  [1.0, 1.0, 1.0, 1.0, 1.0, 1.0, 1.0, 1.0, 1.0, ...   \n",
       "\n",
       "                            n_clusters  \n",
       "clusterer_id                            \n",
       "AgglomerativeClustering #0           2  \n",
       "AgglomerativeClustering #1           2  \n",
       "AgglomerativeClustering #2           2  \n",
       "AgglomerativeClustering #3           2  \n",
       "AgglomerativeClustering #4           3  "
      ]
     },
     "execution_count": 26,
     "metadata": {},
     "output_type": "execute_result"
    }
   ],
   "source": [
    "ensemble.head()"
   ]
  },
  {
   "cell_type": "code",
   "execution_count": 27,
   "metadata": {
    "execution": {
     "iopub.execute_input": "2021-01-05T21:07:31.845494Z",
     "iopub.status.busy": "2021-01-05T21:07:31.845124Z",
     "iopub.status.idle": "2021-01-05T21:07:31.859460Z",
     "shell.execute_reply": "2021-01-05T21:07:31.859084Z"
    },
    "papermill": {
     "duration": 0.085453,
     "end_time": "2021-01-05T21:07:31.859548",
     "exception": false,
     "start_time": "2021-01-05T21:07:31.774095",
     "status": "completed"
    },
    "tags": []
   },
   "outputs": [
    {
     "data": {
      "text/plain": [
       "75    4\n",
       "20    4\n",
       "22    4\n",
       "23    4\n",
       "24    4\n",
       "Name: n_clusters, dtype: int64"
      ]
     },
     "execution_count": 27,
     "metadata": {},
     "output_type": "execute_result"
    }
   ],
   "source": [
    "ensemble[\"n_clusters\"].value_counts().head()"
   ]
  },
  {
   "cell_type": "code",
   "execution_count": 28,
   "metadata": {
    "execution": {
     "iopub.execute_input": "2021-01-05T21:07:31.998103Z",
     "iopub.status.busy": "2021-01-05T21:07:31.997741Z",
     "iopub.status.idle": "2021-01-05T21:07:32.012903Z",
     "shell.execute_reply": "2021-01-05T21:07:32.012477Z"
    },
    "papermill": {
     "duration": 0.085014,
     "end_time": "2021-01-05T21:07:32.012989",
     "exception": false,
     "start_time": "2021-01-05T21:07:31.927975",
     "status": "completed"
    },
    "tags": []
   },
   "outputs": [
    {
     "data": {
      "text/plain": [
       "count    296.000000\n",
       "mean      38.500000\n",
       "std       21.396182\n",
       "min        2.000000\n",
       "25%       20.000000\n",
       "50%       38.500000\n",
       "75%       57.000000\n",
       "max       75.000000\n",
       "Name: n_clusters, dtype: float64"
      ]
     },
     "metadata": {},
     "output_type": "display_data"
    }
   ],
   "source": [
    "ensemble_stats = ensemble[\"n_clusters\"].describe()\n",
    "display(ensemble_stats)"
   ]
  },
  {
   "cell_type": "markdown",
   "metadata": {
    "papermill": {
     "duration": 0.06758,
     "end_time": "2021-01-05T21:07:32.148402",
     "exception": false,
     "start_time": "2021-01-05T21:07:32.080822",
     "status": "completed"
    },
    "tags": []
   },
   "source": [
    "### Testing"
   ]
  },
  {
   "cell_type": "code",
   "execution_count": 29,
   "metadata": {
    "execution": {
     "iopub.execute_input": "2021-01-05T21:07:32.286179Z",
     "iopub.status.busy": "2021-01-05T21:07:32.285817Z",
     "iopub.status.idle": "2021-01-05T21:07:32.297510Z",
     "shell.execute_reply": "2021-01-05T21:07:32.297828Z"
    },
    "papermill": {
     "duration": 0.081615,
     "end_time": "2021-01-05T21:07:32.297935",
     "exception": false,
     "start_time": "2021-01-05T21:07:32.216320",
     "status": "completed"
    },
    "tags": []
   },
   "outputs": [],
   "source": [
    "assert ensemble_stats[\"min\"] > 1"
   ]
  },
  {
   "cell_type": "code",
   "execution_count": 30,
   "metadata": {
    "execution": {
     "iopub.execute_input": "2021-01-05T21:07:32.434537Z",
     "iopub.status.busy": "2021-01-05T21:07:32.434174Z",
     "iopub.status.idle": "2021-01-05T21:07:32.446554Z",
     "shell.execute_reply": "2021-01-05T21:07:32.446176Z"
    },
    "papermill": {
     "duration": 0.081668,
     "end_time": "2021-01-05T21:07:32.446641",
     "exception": false,
     "start_time": "2021-01-05T21:07:32.364973",
     "status": "completed"
    },
    "tags": []
   },
   "outputs": [],
   "source": [
    "assert not ensemble[\"n_clusters\"].isna().any()"
   ]
  },
  {
   "cell_type": "code",
   "execution_count": 31,
   "metadata": {
    "execution": {
     "iopub.execute_input": "2021-01-05T21:07:32.583627Z",
     "iopub.status.busy": "2021-01-05T21:07:32.583267Z",
     "iopub.status.idle": "2021-01-05T21:07:32.595272Z",
     "shell.execute_reply": "2021-01-05T21:07:32.594893Z"
    },
    "papermill": {
     "duration": 0.081435,
     "end_time": "2021-01-05T21:07:32.595362",
     "exception": false,
     "start_time": "2021-01-05T21:07:32.513927",
     "status": "completed"
    },
    "tags": []
   },
   "outputs": [],
   "source": [
    "assert ensemble.shape[0] == len(CLUSTERERS)"
   ]
  },
  {
   "cell_type": "code",
   "execution_count": 32,
   "metadata": {
    "execution": {
     "iopub.execute_input": "2021-01-05T21:07:32.732685Z",
     "iopub.status.busy": "2021-01-05T21:07:32.732313Z",
     "iopub.status.idle": "2021-01-05T21:07:32.763340Z",
     "shell.execute_reply": "2021-01-05T21:07:32.762703Z"
    },
    "papermill": {
     "duration": 0.100382,
     "end_time": "2021-01-05T21:07:32.763438",
     "exception": false,
     "start_time": "2021-01-05T21:07:32.663056",
     "status": "completed"
    },
    "tags": []
   },
   "outputs": [],
   "source": [
    "# all partitions have the right size\n",
    "assert np.all(\n",
    "    [part[\"partition\"].shape[0] == data.shape[0] for idx, part in ensemble.iterrows()]\n",
    ")"
   ]
  },
  {
   "cell_type": "code",
   "execution_count": 33,
   "metadata": {
    "execution": {
     "iopub.execute_input": "2021-01-05T21:07:32.902035Z",
     "iopub.status.busy": "2021-01-05T21:07:32.901676Z",
     "iopub.status.idle": "2021-01-05T21:07:32.934117Z",
     "shell.execute_reply": "2021-01-05T21:07:32.933730Z"
    },
    "papermill": {
     "duration": 0.101846,
     "end_time": "2021-01-05T21:07:32.934206",
     "exception": false,
     "start_time": "2021-01-05T21:07:32.832360",
     "status": "completed"
    },
    "tags": []
   },
   "outputs": [],
   "source": [
    "# no partition has negative clusters (noisy points)\n",
    "assert not np.any([(part[\"partition\"] < 0).any() for idx, part in ensemble.iterrows()])"
   ]
  },
  {
   "cell_type": "markdown",
   "metadata": {
    "papermill": {
     "duration": 0.066139,
     "end_time": "2021-01-05T21:07:33.067982",
     "exception": false,
     "start_time": "2021-01-05T21:07:33.001843",
     "status": "completed"
    },
    "tags": []
   },
   "source": [
    "## Save"
   ]
  },
  {
   "cell_type": "code",
   "execution_count": 34,
   "metadata": {
    "execution": {
     "iopub.execute_input": "2021-01-05T21:07:33.204140Z",
     "iopub.status.busy": "2021-01-05T21:07:33.203777Z",
     "iopub.status.idle": "2021-01-05T21:07:33.216861Z",
     "shell.execute_reply": "2021-01-05T21:07:33.216403Z"
    },
    "papermill": {
     "duration": 0.08241,
     "end_time": "2021-01-05T21:07:33.216950",
     "exception": false,
     "start_time": "2021-01-05T21:07:33.134540",
     "status": "completed"
    },
    "tags": []
   },
   "outputs": [
    {
     "data": {
      "text/plain": [
       "PosixPath('/home/miltondp/projects/labs/greenelab/phenoplier/base3/results/clustering/runs/z_score_std-projection-smultixcan-efo_partial-mashr-zscores/AgglomerativeClustering-AFFINITY_euclidean-K_MAX_75-K_MIN_2.pkl')"
      ]
     },
     "metadata": {},
     "output_type": "display_data"
    }
   ],
   "source": [
    "del CLUSTERING_OPTIONS[\"LINKAGE\"]\n",
    "\n",
    "output_filename = Path(\n",
    "    RESULTS_DIR,\n",
    "    generate_result_set_name(\n",
    "        CLUSTERING_OPTIONS,\n",
    "        prefix=f\"{clustering_method_name}-\",\n",
    "        suffix=\".pkl\",\n",
    "    ),\n",
    ").resolve()\n",
    "display(output_filename)"
   ]
  },
  {
   "cell_type": "code",
   "execution_count": 35,
   "metadata": {
    "execution": {
     "iopub.execute_input": "2021-01-05T21:07:33.354344Z",
     "iopub.status.busy": "2021-01-05T21:07:33.353972Z",
     "iopub.status.idle": "2021-01-05T21:07:33.372932Z",
     "shell.execute_reply": "2021-01-05T21:07:33.372594Z"
    },
    "papermill": {
     "duration": 0.088531,
     "end_time": "2021-01-05T21:07:33.373026",
     "exception": false,
     "start_time": "2021-01-05T21:07:33.284495",
     "status": "completed"
    },
    "tags": []
   },
   "outputs": [],
   "source": [
    "ensemble.to_pickle(output_filename)"
   ]
  },
  {
   "cell_type": "code",
   "execution_count": null,
   "metadata": {
    "papermill": {
     "duration": 0.066559,
     "end_time": "2021-01-05T21:07:33.506784",
     "exception": false,
     "start_time": "2021-01-05T21:07:33.440225",
     "status": "completed"
    },
    "tags": []
   },
   "outputs": [],
   "source": []
  }
 ],
 "metadata": {
  "jupytext": {
   "formats": "ipynb,py//py:percent"
  },
  "kernelspec": {
   "display_name": "Python 3",
   "language": "python",
   "name": "python3"
  },
  "language_info": {
   "codemirror_mode": {
    "name": "ipython",
    "version": 3
   },
   "file_extension": ".py",
   "mimetype": "text/x-python",
   "name": "python",
   "nbconvert_exporter": "python",
   "pygments_lexer": "ipython3",
   "version": "3.8.6"
  },
  "papermill": {
   "default_parameters": {},
   "duration": 1668.40652,
   "end_time": "2021-01-05T21:07:34.081138",
   "environment_variables": {},
   "exception": null,
   "input_path": "15_cluster_analysis/003_00-hc-z_score_std.ipynb",
   "output_path": "15_cluster_analysis/003_00-hc-z_score_std.run.ipynb",
   "parameters": {},
   "start_time": "2021-01-05T20:39:45.674618",
   "version": "2.2.2"
  },
  "toc-autonumbering": true,
  "toc-showcode": false,
  "toc-showmarkdowntxt": false,
  "toc-showtags": false
 },
 "nbformat": 4,
 "nbformat_minor": 4
}