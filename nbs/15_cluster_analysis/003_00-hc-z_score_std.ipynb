{
 "cells": [
  {
   "cell_type": "markdown",
   "metadata": {
    "papermill": {
     "duration": 0.051476,
     "end_time": "2021-01-12T08:47:24.532052",
     "exception": false,
     "start_time": "2021-01-12T08:47:24.480576",
     "status": "completed"
    },
    "tags": []
   },
   "source": [
    "# Description"
   ]
  },
  {
   "cell_type": "markdown",
   "metadata": {
    "papermill": {
     "duration": 0.014497,
     "end_time": "2021-01-12T08:47:24.563905",
     "exception": false,
     "start_time": "2021-01-12T08:47:24.549408",
     "status": "completed"
    },
    "tags": []
   },
   "source": [
    "Runs hierarchical clustering on the z_score_std version of the data."
   ]
  },
  {
   "cell_type": "markdown",
   "metadata": {
    "papermill": {
     "duration": 0.014704,
     "end_time": "2021-01-12T08:47:24.593355",
     "exception": false,
     "start_time": "2021-01-12T08:47:24.578651",
     "status": "completed"
    },
    "tags": []
   },
   "source": [
    "# Environment variables"
   ]
  },
  {
   "cell_type": "code",
   "execution_count": 1,
   "metadata": {
    "execution": {
     "iopub.execute_input": "2021-01-12T08:47:24.627280Z",
     "iopub.status.busy": "2021-01-12T08:47:24.626880Z",
     "iopub.status.idle": "2021-01-12T08:47:24.638281Z",
     "shell.execute_reply": "2021-01-12T08:47:24.637913Z"
    },
    "papermill": {
     "duration": 0.030036,
     "end_time": "2021-01-12T08:47:24.638404",
     "exception": false,
     "start_time": "2021-01-12T08:47:24.608368",
     "status": "completed"
    },
    "tags": []
   },
   "outputs": [
    {
     "data": {
      "text/plain": [
       "3"
      ]
     },
     "metadata": {},
     "output_type": "display_data"
    }
   ],
   "source": [
    "from IPython.display import display\n",
    "\n",
    "import conf\n",
    "\n",
    "N_JOBS = conf.GENERAL[\"N_JOBS\"]\n",
    "display(N_JOBS)"
   ]
  },
  {
   "cell_type": "code",
   "execution_count": 2,
   "metadata": {
    "execution": {
     "iopub.execute_input": "2021-01-12T08:47:24.674013Z",
     "iopub.status.busy": "2021-01-12T08:47:24.673603Z",
     "iopub.status.idle": "2021-01-12T08:47:24.675861Z",
     "shell.execute_reply": "2021-01-12T08:47:24.675533Z"
    },
    "papermill": {
     "duration": 0.021901,
     "end_time": "2021-01-12T08:47:24.675949",
     "exception": false,
     "start_time": "2021-01-12T08:47:24.654048",
     "status": "completed"
    },
    "tags": []
   },
   "outputs": [
    {
     "name": "stdout",
     "output_type": "stream",
     "text": [
      "env: MKL_NUM_THREADS=3\n",
      "env: OPEN_BLAS_NUM_THREADS=3\n",
      "env: NUMEXPR_NUM_THREADS=3\n",
      "env: OMP_NUM_THREADS=3\n"
     ]
    }
   ],
   "source": [
    "%env MKL_NUM_THREADS=$N_JOBS\n",
    "%env OPEN_BLAS_NUM_THREADS=$N_JOBS\n",
    "%env NUMEXPR_NUM_THREADS=$N_JOBS\n",
    "%env OMP_NUM_THREADS=$N_JOBS"
   ]
  },
  {
   "cell_type": "markdown",
   "metadata": {
    "papermill": {
     "duration": 0.015457,
     "end_time": "2021-01-12T08:47:24.707219",
     "exception": false,
     "start_time": "2021-01-12T08:47:24.691762",
     "status": "completed"
    },
    "tags": []
   },
   "source": [
    "# Modules loading"
   ]
  },
  {
   "cell_type": "code",
   "execution_count": 3,
   "metadata": {
    "execution": {
     "iopub.execute_input": "2021-01-12T08:47:24.740891Z",
     "iopub.status.busy": "2021-01-12T08:47:24.740478Z",
     "iopub.status.idle": "2021-01-12T08:47:24.748247Z",
     "shell.execute_reply": "2021-01-12T08:47:24.747868Z"
    },
    "papermill": {
     "duration": 0.025809,
     "end_time": "2021-01-12T08:47:24.748335",
     "exception": false,
     "start_time": "2021-01-12T08:47:24.722526",
     "status": "completed"
    },
    "tags": []
   },
   "outputs": [],
   "source": [
    "%load_ext autoreload\n",
    "%autoreload 2"
   ]
  },
  {
   "cell_type": "code",
   "execution_count": 4,
   "metadata": {
    "execution": {
     "iopub.execute_input": "2021-01-12T08:47:24.782244Z",
     "iopub.status.busy": "2021-01-12T08:47:24.781868Z",
     "iopub.status.idle": "2021-01-12T08:47:24.969271Z",
     "shell.execute_reply": "2021-01-12T08:47:24.968898Z"
    },
    "papermill": {
     "duration": 0.205341,
     "end_time": "2021-01-12T08:47:24.969357",
     "exception": false,
     "start_time": "2021-01-12T08:47:24.764016",
     "status": "completed"
    },
    "tags": []
   },
   "outputs": [],
   "source": [
    "from pathlib import Path\n",
    "\n",
    "import numpy as np\n",
    "import pandas as pd\n",
    "\n",
    "from utils import generate_result_set_name"
   ]
  },
  {
   "cell_type": "markdown",
   "metadata": {
    "papermill": {
     "duration": 0.014967,
     "end_time": "2021-01-12T08:47:24.999668",
     "exception": false,
     "start_time": "2021-01-12T08:47:24.984701",
     "status": "completed"
    },
    "tags": []
   },
   "source": [
    "# Settings"
   ]
  },
  {
   "cell_type": "markdown",
   "metadata": {
    "papermill": {
     "duration": 0.014901,
     "end_time": "2021-01-12T08:47:25.029717",
     "exception": false,
     "start_time": "2021-01-12T08:47:25.014816",
     "status": "completed"
    },
    "tags": []
   },
   "source": [
    "## Input data"
   ]
  },
  {
   "cell_type": "code",
   "execution_count": 5,
   "metadata": {
    "execution": {
     "iopub.execute_input": "2021-01-12T08:47:25.062936Z",
     "iopub.status.busy": "2021-01-12T08:47:25.062572Z",
     "iopub.status.idle": "2021-01-12T08:47:25.070156Z",
     "shell.execute_reply": "2021-01-12T08:47:25.069791Z"
    },
    "papermill": {
     "duration": 0.025427,
     "end_time": "2021-01-12T08:47:25.070242",
     "exception": false,
     "start_time": "2021-01-12T08:47:25.044815",
     "status": "completed"
    },
    "tags": []
   },
   "outputs": [],
   "source": [
    "INPUT_SUBSET = \"z_score_std\""
   ]
  },
  {
   "cell_type": "code",
   "execution_count": 6,
   "metadata": {
    "execution": {
     "iopub.execute_input": "2021-01-12T08:47:25.103373Z",
     "iopub.status.busy": "2021-01-12T08:47:25.103000Z",
     "iopub.status.idle": "2021-01-12T08:47:25.110582Z",
     "shell.execute_reply": "2021-01-12T08:47:25.110210Z"
    },
    "papermill": {
     "duration": 0.025034,
     "end_time": "2021-01-12T08:47:25.110667",
     "exception": false,
     "start_time": "2021-01-12T08:47:25.085633",
     "status": "completed"
    },
    "tags": []
   },
   "outputs": [],
   "source": [
    "INPUT_STEM = \"projection-smultixcan-efo_partial-mashr-zscores\""
   ]
  },
  {
   "cell_type": "code",
   "execution_count": 7,
   "metadata": {
    "execution": {
     "iopub.execute_input": "2021-01-12T08:47:25.144880Z",
     "iopub.status.busy": "2021-01-12T08:47:25.144462Z",
     "iopub.status.idle": "2021-01-12T08:47:25.154049Z",
     "shell.execute_reply": "2021-01-12T08:47:25.153709Z"
    },
    "papermill": {
     "duration": 0.027695,
     "end_time": "2021-01-12T08:47:25.154139",
     "exception": false,
     "start_time": "2021-01-12T08:47:25.126444",
     "status": "completed"
    },
    "tags": []
   },
   "outputs": [
    {
     "data": {
      "text/plain": [
       "PosixPath('/home/miltondp/projects/labs/greenelab/phenoplier/base3/results/data_transformations/z_score_std/z_score_std-projection-smultixcan-efo_partial-mashr-zscores.pkl')"
      ]
     },
     "metadata": {},
     "output_type": "display_data"
    },
    {
     "data": {
      "text/plain": [
       "'z_score_std-projection-smultixcan-efo_partial-mashr-zscores'"
      ]
     },
     "metadata": {},
     "output_type": "display_data"
    }
   ],
   "source": [
    "input_filepath = Path(\n",
    "    conf.RESULTS[\"DATA_TRANSFORMATIONS_DIR\"],\n",
    "    INPUT_SUBSET,\n",
    "    f\"{INPUT_SUBSET}-{INPUT_STEM}.pkl\",\n",
    ").resolve()\n",
    "display(input_filepath)\n",
    "\n",
    "assert input_filepath.exists(), \"Input file does not exist\"\n",
    "\n",
    "input_filepath_stem = input_filepath.stem\n",
    "display(input_filepath_stem)"
   ]
  },
  {
   "cell_type": "markdown",
   "metadata": {
    "papermill": {
     "duration": 0.015985,
     "end_time": "2021-01-12T08:47:25.186537",
     "exception": false,
     "start_time": "2021-01-12T08:47:25.170552",
     "status": "completed"
    },
    "tags": []
   },
   "source": [
    "## Clustering"
   ]
  },
  {
   "cell_type": "code",
   "execution_count": 8,
   "metadata": {
    "execution": {
     "iopub.execute_input": "2021-01-12T08:47:25.220257Z",
     "iopub.status.busy": "2021-01-12T08:47:25.219893Z",
     "iopub.status.idle": "2021-01-12T08:47:25.535828Z",
     "shell.execute_reply": "2021-01-12T08:47:25.535438Z"
    },
    "papermill": {
     "duration": 0.333705,
     "end_time": "2021-01-12T08:47:25.535919",
     "exception": false,
     "start_time": "2021-01-12T08:47:25.202214",
     "status": "completed"
    },
    "tags": []
   },
   "outputs": [],
   "source": [
    "from sklearn.cluster import AgglomerativeClustering"
   ]
  },
  {
   "cell_type": "code",
   "execution_count": 9,
   "metadata": {
    "execution": {
     "iopub.execute_input": "2021-01-12T08:47:25.569713Z",
     "iopub.status.busy": "2021-01-12T08:47:25.569313Z",
     "iopub.status.idle": "2021-01-12T08:47:25.579386Z",
     "shell.execute_reply": "2021-01-12T08:47:25.579009Z"
    },
    "papermill": {
     "duration": 0.027786,
     "end_time": "2021-01-12T08:47:25.579474",
     "exception": false,
     "start_time": "2021-01-12T08:47:25.551688",
     "status": "completed"
    },
    "tags": []
   },
   "outputs": [],
   "source": [
    "CLUSTERING_ATTRIBUTES_TO_SAVE = [\"n_clusters\"]"
   ]
  },
  {
   "cell_type": "code",
   "execution_count": 10,
   "metadata": {
    "execution": {
     "iopub.execute_input": "2021-01-12T08:47:25.614961Z",
     "iopub.status.busy": "2021-01-12T08:47:25.614593Z",
     "iopub.status.idle": "2021-01-12T08:47:25.625307Z",
     "shell.execute_reply": "2021-01-12T08:47:25.625008Z"
    },
    "papermill": {
     "duration": 0.029339,
     "end_time": "2021-01-12T08:47:25.625396",
     "exception": false,
     "start_time": "2021-01-12T08:47:25.596057",
     "status": "completed"
    },
    "tags": []
   },
   "outputs": [
    {
     "data": {
      "text/plain": [
       "{'K_MIN': 2,\n",
       " 'K_MAX': 75,\n",
       " 'LINKAGE': {'average', 'complete', 'single', 'ward'},\n",
       " 'AFFINITY': 'euclidean'}"
      ]
     },
     "metadata": {},
     "output_type": "display_data"
    }
   ],
   "source": [
    "CLUSTERING_OPTIONS = {}\n",
    "\n",
    "CLUSTERING_OPTIONS[\"K_MIN\"] = 2\n",
    "CLUSTERING_OPTIONS[\"K_MAX\"] = 75  # sqrt(3749) + some more to get closer to 295\n",
    "CLUSTERING_OPTIONS[\"LINKAGE\"] = {\"ward\", \"complete\", \"average\", \"single\"}\n",
    "CLUSTERING_OPTIONS[\"AFFINITY\"] = \"euclidean\"\n",
    "\n",
    "display(CLUSTERING_OPTIONS)"
   ]
  },
  {
   "cell_type": "code",
   "execution_count": 11,
   "metadata": {
    "execution": {
     "iopub.execute_input": "2021-01-12T08:47:25.660983Z",
     "iopub.status.busy": "2021-01-12T08:47:25.660572Z",
     "iopub.status.idle": "2021-01-12T08:47:25.671547Z",
     "shell.execute_reply": "2021-01-12T08:47:25.671160Z"
    },
    "papermill": {
     "duration": 0.029856,
     "end_time": "2021-01-12T08:47:25.671636",
     "exception": false,
     "start_time": "2021-01-12T08:47:25.641780",
     "status": "completed"
    },
    "tags": []
   },
   "outputs": [],
   "source": [
    "CLUSTERERS = {}\n",
    "\n",
    "idx = 0\n",
    "\n",
    "for k in range(CLUSTERING_OPTIONS[\"K_MIN\"], CLUSTERING_OPTIONS[\"K_MAX\"] + 1):\n",
    "    for linkage in CLUSTERING_OPTIONS[\"LINKAGE\"]:\n",
    "        if linkage == \"ward\":\n",
    "            affinity = \"euclidean\"\n",
    "        else:\n",
    "            affinity = \"precomputed\"\n",
    "\n",
    "        clus = AgglomerativeClustering(\n",
    "            n_clusters=k,\n",
    "            affinity=affinity,\n",
    "            linkage=linkage,\n",
    "        )\n",
    "\n",
    "        method_name = type(clus).__name__\n",
    "        CLUSTERERS[f\"{method_name} #{idx}\"] = clus\n",
    "\n",
    "        idx = idx + 1"
   ]
  },
  {
   "cell_type": "code",
   "execution_count": 12,
   "metadata": {
    "execution": {
     "iopub.execute_input": "2021-01-12T08:47:25.706141Z",
     "iopub.status.busy": "2021-01-12T08:47:25.705784Z",
     "iopub.status.idle": "2021-01-12T08:47:25.716172Z",
     "shell.execute_reply": "2021-01-12T08:47:25.715811Z"
    },
    "papermill": {
     "duration": 0.02844,
     "end_time": "2021-01-12T08:47:25.716258",
     "exception": false,
     "start_time": "2021-01-12T08:47:25.687818",
     "status": "completed"
    },
    "tags": []
   },
   "outputs": [
    {
     "data": {
      "text/plain": [
       "296"
      ]
     },
     "metadata": {},
     "output_type": "display_data"
    }
   ],
   "source": [
    "display(len(CLUSTERERS))"
   ]
  },
  {
   "cell_type": "code",
   "execution_count": 13,
   "metadata": {
    "execution": {
     "iopub.execute_input": "2021-01-12T08:47:25.751008Z",
     "iopub.status.busy": "2021-01-12T08:47:25.750644Z",
     "iopub.status.idle": "2021-01-12T08:47:25.762524Z",
     "shell.execute_reply": "2021-01-12T08:47:25.762149Z"
    },
    "papermill": {
     "duration": 0.030086,
     "end_time": "2021-01-12T08:47:25.762612",
     "exception": false,
     "start_time": "2021-01-12T08:47:25.732526",
     "status": "completed"
    },
    "tags": []
   },
   "outputs": [
    {
     "data": {
      "text/plain": [
       "('AgglomerativeClustering #0',\n",
       " AgglomerativeClustering(affinity='precomputed', linkage='average'))"
      ]
     },
     "metadata": {},
     "output_type": "display_data"
    },
    {
     "data": {
      "text/plain": [
       "('AgglomerativeClustering #1',\n",
       " AgglomerativeClustering(affinity='precomputed', linkage='complete'))"
      ]
     },
     "metadata": {},
     "output_type": "display_data"
    }
   ],
   "source": [
    "_iter = iter(CLUSTERERS.items())\n",
    "display(next(_iter))\n",
    "display(next(_iter))"
   ]
  },
  {
   "cell_type": "code",
   "execution_count": 14,
   "metadata": {
    "execution": {
     "iopub.execute_input": "2021-01-12T08:47:25.798350Z",
     "iopub.status.busy": "2021-01-12T08:47:25.797989Z",
     "iopub.status.idle": "2021-01-12T08:47:25.808929Z",
     "shell.execute_reply": "2021-01-12T08:47:25.808584Z"
    },
    "papermill": {
     "duration": 0.029567,
     "end_time": "2021-01-12T08:47:25.809019",
     "exception": false,
     "start_time": "2021-01-12T08:47:25.779452",
     "status": "completed"
    },
    "tags": []
   },
   "outputs": [
    {
     "data": {
      "text/plain": [
       "'AgglomerativeClustering'"
      ]
     },
     "metadata": {},
     "output_type": "display_data"
    }
   ],
   "source": [
    "clustering_method_name = method_name\n",
    "display(clustering_method_name)"
   ]
  },
  {
   "cell_type": "markdown",
   "metadata": {
    "papermill": {
     "duration": 0.017003,
     "end_time": "2021-01-12T08:47:25.843484",
     "exception": false,
     "start_time": "2021-01-12T08:47:25.826481",
     "status": "completed"
    },
    "tags": []
   },
   "source": [
    "## Output directory"
   ]
  },
  {
   "cell_type": "code",
   "execution_count": 15,
   "metadata": {
    "execution": {
     "iopub.execute_input": "2021-01-12T08:47:25.879815Z",
     "iopub.status.busy": "2021-01-12T08:47:25.879448Z",
     "iopub.status.idle": "2021-01-12T08:47:25.890423Z",
     "shell.execute_reply": "2021-01-12T08:47:25.890034Z"
    },
    "papermill": {
     "duration": 0.03041,
     "end_time": "2021-01-12T08:47:25.890513",
     "exception": false,
     "start_time": "2021-01-12T08:47:25.860103",
     "status": "completed"
    },
    "tags": []
   },
   "outputs": [
    {
     "data": {
      "text/plain": [
       "PosixPath('/home/miltondp/projects/labs/greenelab/phenoplier/base3/results/clustering/runs/z_score_std-projection-smultixcan-efo_partial-mashr-zscores')"
      ]
     },
     "metadata": {},
     "output_type": "display_data"
    }
   ],
   "source": [
    "# output dir for this notebook\n",
    "RESULTS_DIR = Path(\n",
    "    conf.RESULTS[\"CLUSTERING_RUNS_DIR\"],\n",
    "    f\"{INPUT_SUBSET}-{INPUT_STEM}\",\n",
    ").resolve()\n",
    "RESULTS_DIR.mkdir(parents=True, exist_ok=True)\n",
    "\n",
    "display(RESULTS_DIR)"
   ]
  },
  {
   "cell_type": "markdown",
   "metadata": {
    "papermill": {
     "duration": 0.016929,
     "end_time": "2021-01-12T08:47:25.924825",
     "exception": false,
     "start_time": "2021-01-12T08:47:25.907896",
     "status": "completed"
    },
    "tags": []
   },
   "source": [
    "# Load input file"
   ]
  },
  {
   "cell_type": "code",
   "execution_count": 16,
   "metadata": {
    "execution": {
     "iopub.execute_input": "2021-01-12T08:47:25.961200Z",
     "iopub.status.busy": "2021-01-12T08:47:25.960838Z",
     "iopub.status.idle": "2021-01-12T08:47:25.983722Z",
     "shell.execute_reply": "2021-01-12T08:47:25.984041Z"
    },
    "papermill": {
     "duration": 0.042585,
     "end_time": "2021-01-12T08:47:25.984162",
     "exception": false,
     "start_time": "2021-01-12T08:47:25.941577",
     "status": "completed"
    },
    "tags": []
   },
   "outputs": [],
   "source": [
    "data = pd.read_pickle(input_filepath)"
   ]
  },
  {
   "cell_type": "code",
   "execution_count": 17,
   "metadata": {
    "execution": {
     "iopub.execute_input": "2021-01-12T08:47:26.024617Z",
     "iopub.status.busy": "2021-01-12T08:47:26.024259Z",
     "iopub.status.idle": "2021-01-12T08:47:26.034439Z",
     "shell.execute_reply": "2021-01-12T08:47:26.034722Z"
    },
    "papermill": {
     "duration": 0.031196,
     "end_time": "2021-01-12T08:47:26.034828",
     "exception": false,
     "start_time": "2021-01-12T08:47:26.003632",
     "status": "completed"
    },
    "tags": []
   },
   "outputs": [
    {
     "data": {
      "text/plain": [
       "(3749, 987)"
      ]
     },
     "execution_count": 17,
     "metadata": {},
     "output_type": "execute_result"
    }
   ],
   "source": [
    "data.shape"
   ]
  },
  {
   "cell_type": "code",
   "execution_count": 18,
   "metadata": {
    "execution": {
     "iopub.execute_input": "2021-01-12T08:47:26.073400Z",
     "iopub.status.busy": "2021-01-12T08:47:26.073036Z",
     "iopub.status.idle": "2021-01-12T08:47:26.096526Z",
     "shell.execute_reply": "2021-01-12T08:47:26.096151Z"
    },
    "papermill": {
     "duration": 0.0436,
     "end_time": "2021-01-12T08:47:26.096616",
     "exception": false,
     "start_time": "2021-01-12T08:47:26.053016",
     "status": "completed"
    },
    "tags": []
   },
   "outputs": [
    {
     "data": {
      "text/html": [
       "<div>\n",
       "<style scoped>\n",
       "    .dataframe tbody tr th:only-of-type {\n",
       "        vertical-align: middle;\n",
       "    }\n",
       "\n",
       "    .dataframe tbody tr th {\n",
       "        vertical-align: top;\n",
       "    }\n",
       "\n",
       "    .dataframe thead th {\n",
       "        text-align: right;\n",
       "    }\n",
       "</style>\n",
       "<table border=\"1\" class=\"dataframe\">\n",
       "  <thead>\n",
       "    <tr style=\"text-align: right;\">\n",
       "      <th></th>\n",
       "      <th>LV1</th>\n",
       "      <th>LV2</th>\n",
       "      <th>LV3</th>\n",
       "      <th>LV4</th>\n",
       "      <th>LV5</th>\n",
       "      <th>LV6</th>\n",
       "      <th>LV7</th>\n",
       "      <th>LV8</th>\n",
       "      <th>LV9</th>\n",
       "      <th>LV10</th>\n",
       "      <th>...</th>\n",
       "      <th>LV978</th>\n",
       "      <th>LV979</th>\n",
       "      <th>LV980</th>\n",
       "      <th>LV981</th>\n",
       "      <th>LV982</th>\n",
       "      <th>LV983</th>\n",
       "      <th>LV984</th>\n",
       "      <th>LV985</th>\n",
       "      <th>LV986</th>\n",
       "      <th>LV987</th>\n",
       "    </tr>\n",
       "  </thead>\n",
       "  <tbody>\n",
       "    <tr>\n",
       "      <th>100001_raw-Food_weight</th>\n",
       "      <td>-0.553743</td>\n",
       "      <td>1.851060</td>\n",
       "      <td>-0.095721</td>\n",
       "      <td>0.931603</td>\n",
       "      <td>-0.515196</td>\n",
       "      <td>1.371264</td>\n",
       "      <td>-0.413165</td>\n",
       "      <td>0.729668</td>\n",
       "      <td>0.546338</td>\n",
       "      <td>0.901153</td>\n",
       "      <td>...</td>\n",
       "      <td>1.148776</td>\n",
       "      <td>1.649018</td>\n",
       "      <td>-1.375952</td>\n",
       "      <td>2.203063</td>\n",
       "      <td>0.810199</td>\n",
       "      <td>-0.987048</td>\n",
       "      <td>0.277710</td>\n",
       "      <td>-0.607613</td>\n",
       "      <td>0.572376</td>\n",
       "      <td>-0.660846</td>\n",
       "    </tr>\n",
       "    <tr>\n",
       "      <th>100002_raw-Energy</th>\n",
       "      <td>-1.313905</td>\n",
       "      <td>-0.421015</td>\n",
       "      <td>-0.310524</td>\n",
       "      <td>-0.201978</td>\n",
       "      <td>0.233028</td>\n",
       "      <td>0.693838</td>\n",
       "      <td>0.084129</td>\n",
       "      <td>0.572439</td>\n",
       "      <td>0.217866</td>\n",
       "      <td>1.296973</td>\n",
       "      <td>...</td>\n",
       "      <td>0.165430</td>\n",
       "      <td>0.799276</td>\n",
       "      <td>-0.361989</td>\n",
       "      <td>-0.008253</td>\n",
       "      <td>2.063780</td>\n",
       "      <td>-0.930765</td>\n",
       "      <td>-0.147007</td>\n",
       "      <td>1.601938</td>\n",
       "      <td>-0.273553</td>\n",
       "      <td>-0.560822</td>\n",
       "    </tr>\n",
       "    <tr>\n",
       "      <th>100003_raw-Protein</th>\n",
       "      <td>-0.645622</td>\n",
       "      <td>-0.997845</td>\n",
       "      <td>0.249039</td>\n",
       "      <td>0.256499</td>\n",
       "      <td>0.422357</td>\n",
       "      <td>0.829189</td>\n",
       "      <td>-0.169004</td>\n",
       "      <td>0.511550</td>\n",
       "      <td>0.002389</td>\n",
       "      <td>-0.057200</td>\n",
       "      <td>...</td>\n",
       "      <td>1.016791</td>\n",
       "      <td>1.019488</td>\n",
       "      <td>-2.148844</td>\n",
       "      <td>-0.065130</td>\n",
       "      <td>0.041052</td>\n",
       "      <td>-0.836118</td>\n",
       "      <td>-0.320571</td>\n",
       "      <td>1.325519</td>\n",
       "      <td>-0.341494</td>\n",
       "      <td>-0.495786</td>\n",
       "    </tr>\n",
       "    <tr>\n",
       "      <th>100004_raw-Fat</th>\n",
       "      <td>-0.913924</td>\n",
       "      <td>-1.837183</td>\n",
       "      <td>0.012095</td>\n",
       "      <td>-1.301315</td>\n",
       "      <td>0.205794</td>\n",
       "      <td>1.129114</td>\n",
       "      <td>0.019985</td>\n",
       "      <td>0.376660</td>\n",
       "      <td>-0.810272</td>\n",
       "      <td>0.843611</td>\n",
       "      <td>...</td>\n",
       "      <td>0.544266</td>\n",
       "      <td>0.576714</td>\n",
       "      <td>0.281731</td>\n",
       "      <td>-0.218963</td>\n",
       "      <td>1.258957</td>\n",
       "      <td>-1.131924</td>\n",
       "      <td>0.378545</td>\n",
       "      <td>0.842047</td>\n",
       "      <td>-0.622194</td>\n",
       "      <td>-0.160058</td>\n",
       "    </tr>\n",
       "    <tr>\n",
       "      <th>100005_raw-Carbohydrate</th>\n",
       "      <td>-0.523004</td>\n",
       "      <td>0.131379</td>\n",
       "      <td>-0.097802</td>\n",
       "      <td>-0.030526</td>\n",
       "      <td>-0.021500</td>\n",
       "      <td>-0.219116</td>\n",
       "      <td>0.668229</td>\n",
       "      <td>0.365700</td>\n",
       "      <td>1.102347</td>\n",
       "      <td>0.845625</td>\n",
       "      <td>...</td>\n",
       "      <td>-0.344740</td>\n",
       "      <td>0.079274</td>\n",
       "      <td>0.253427</td>\n",
       "      <td>0.236474</td>\n",
       "      <td>1.033895</td>\n",
       "      <td>-0.229105</td>\n",
       "      <td>0.364793</td>\n",
       "      <td>1.776714</td>\n",
       "      <td>0.190531</td>\n",
       "      <td>-1.459641</td>\n",
       "    </tr>\n",
       "  </tbody>\n",
       "</table>\n",
       "<p>5 rows × 987 columns</p>\n",
       "</div>"
      ],
      "text/plain": [
       "                              LV1       LV2       LV3       LV4       LV5  \\\n",
       "100001_raw-Food_weight  -0.553743  1.851060 -0.095721  0.931603 -0.515196   \n",
       "100002_raw-Energy       -1.313905 -0.421015 -0.310524 -0.201978  0.233028   \n",
       "100003_raw-Protein      -0.645622 -0.997845  0.249039  0.256499  0.422357   \n",
       "100004_raw-Fat          -0.913924 -1.837183  0.012095 -1.301315  0.205794   \n",
       "100005_raw-Carbohydrate -0.523004  0.131379 -0.097802 -0.030526 -0.021500   \n",
       "\n",
       "                              LV6       LV7       LV8       LV9      LV10  \\\n",
       "100001_raw-Food_weight   1.371264 -0.413165  0.729668  0.546338  0.901153   \n",
       "100002_raw-Energy        0.693838  0.084129  0.572439  0.217866  1.296973   \n",
       "100003_raw-Protein       0.829189 -0.169004  0.511550  0.002389 -0.057200   \n",
       "100004_raw-Fat           1.129114  0.019985  0.376660 -0.810272  0.843611   \n",
       "100005_raw-Carbohydrate -0.219116  0.668229  0.365700  1.102347  0.845625   \n",
       "\n",
       "                         ...     LV978     LV979     LV980     LV981  \\\n",
       "100001_raw-Food_weight   ...  1.148776  1.649018 -1.375952  2.203063   \n",
       "100002_raw-Energy        ...  0.165430  0.799276 -0.361989 -0.008253   \n",
       "100003_raw-Protein       ...  1.016791  1.019488 -2.148844 -0.065130   \n",
       "100004_raw-Fat           ...  0.544266  0.576714  0.281731 -0.218963   \n",
       "100005_raw-Carbohydrate  ... -0.344740  0.079274  0.253427  0.236474   \n",
       "\n",
       "                            LV982     LV983     LV984     LV985     LV986  \\\n",
       "100001_raw-Food_weight   0.810199 -0.987048  0.277710 -0.607613  0.572376   \n",
       "100002_raw-Energy        2.063780 -0.930765 -0.147007  1.601938 -0.273553   \n",
       "100003_raw-Protein       0.041052 -0.836118 -0.320571  1.325519 -0.341494   \n",
       "100004_raw-Fat           1.258957 -1.131924  0.378545  0.842047 -0.622194   \n",
       "100005_raw-Carbohydrate  1.033895 -0.229105  0.364793  1.776714  0.190531   \n",
       "\n",
       "                            LV987  \n",
       "100001_raw-Food_weight  -0.660846  \n",
       "100002_raw-Energy       -0.560822  \n",
       "100003_raw-Protein      -0.495786  \n",
       "100004_raw-Fat          -0.160058  \n",
       "100005_raw-Carbohydrate -1.459641  \n",
       "\n",
       "[5 rows x 987 columns]"
      ]
     },
     "execution_count": 18,
     "metadata": {},
     "output_type": "execute_result"
    }
   ],
   "source": [
    "data.head()"
   ]
  },
  {
   "cell_type": "code",
   "execution_count": 19,
   "metadata": {
    "execution": {
     "iopub.execute_input": "2021-01-12T08:47:26.135199Z",
     "iopub.status.busy": "2021-01-12T08:47:26.134834Z",
     "iopub.status.idle": "2021-01-12T08:47:26.150034Z",
     "shell.execute_reply": "2021-01-12T08:47:26.149634Z"
    },
    "papermill": {
     "duration": 0.035332,
     "end_time": "2021-01-12T08:47:26.150126",
     "exception": false,
     "start_time": "2021-01-12T08:47:26.114794",
     "status": "completed"
    },
    "tags": []
   },
   "outputs": [],
   "source": [
    "assert not data.isna().any().any()"
   ]
  },
  {
   "cell_type": "markdown",
   "metadata": {
    "papermill": {
     "duration": 0.017846,
     "end_time": "2021-01-12T08:47:26.186764",
     "exception": false,
     "start_time": "2021-01-12T08:47:26.168918",
     "status": "completed"
    },
    "tags": []
   },
   "source": [
    "# Clustering"
   ]
  },
  {
   "cell_type": "markdown",
   "metadata": {
    "papermill": {
     "duration": 0.017619,
     "end_time": "2021-01-12T08:47:26.222444",
     "exception": false,
     "start_time": "2021-01-12T08:47:26.204825",
     "status": "completed"
    },
    "tags": []
   },
   "source": [
    "## Generate ensemble"
   ]
  },
  {
   "cell_type": "code",
   "execution_count": 20,
   "metadata": {
    "execution": {
     "iopub.execute_input": "2021-01-12T08:47:26.260232Z",
     "iopub.status.busy": "2021-01-12T08:47:26.259867Z",
     "iopub.status.idle": "2021-01-12T08:47:26.272588Z",
     "shell.execute_reply": "2021-01-12T08:47:26.272201Z"
    },
    "papermill": {
     "duration": 0.032461,
     "end_time": "2021-01-12T08:47:26.272678",
     "exception": false,
     "start_time": "2021-01-12T08:47:26.240217",
     "status": "completed"
    },
    "tags": []
   },
   "outputs": [],
   "source": [
    "from sklearn.metrics import pairwise_distances\n",
    "from clustering.ensembles.utils import generate_ensemble"
   ]
  },
  {
   "cell_type": "code",
   "execution_count": 21,
   "metadata": {
    "execution": {
     "iopub.execute_input": "2021-01-12T08:47:26.311242Z",
     "iopub.status.busy": "2021-01-12T08:47:26.310867Z",
     "iopub.status.idle": "2021-01-12T08:47:26.582665Z",
     "shell.execute_reply": "2021-01-12T08:47:26.582958Z"
    },
    "papermill": {
     "duration": 0.292227,
     "end_time": "2021-01-12T08:47:26.583070",
     "exception": false,
     "start_time": "2021-01-12T08:47:26.290843",
     "status": "completed"
    },
    "tags": []
   },
   "outputs": [],
   "source": [
    "data_dist = pairwise_distances(data, metric=CLUSTERING_OPTIONS[\"AFFINITY\"])"
   ]
  },
  {
   "cell_type": "code",
   "execution_count": 22,
   "metadata": {
    "execution": {
     "iopub.execute_input": "2021-01-12T08:47:26.620626Z",
     "iopub.status.busy": "2021-01-12T08:47:26.620259Z",
     "iopub.status.idle": "2021-01-12T08:47:26.630928Z",
     "shell.execute_reply": "2021-01-12T08:47:26.630555Z"
    },
    "papermill": {
     "duration": 0.030267,
     "end_time": "2021-01-12T08:47:26.631015",
     "exception": false,
     "start_time": "2021-01-12T08:47:26.600748",
     "status": "completed"
    },
    "tags": []
   },
   "outputs": [
    {
     "data": {
      "text/plain": [
       "(3749, 3749)"
      ]
     },
     "execution_count": 22,
     "metadata": {},
     "output_type": "execute_result"
    }
   ],
   "source": [
    "data_dist.shape"
   ]
  },
  {
   "cell_type": "code",
   "execution_count": 23,
   "metadata": {
    "execution": {
     "iopub.execute_input": "2021-01-12T08:47:26.670413Z",
     "iopub.status.busy": "2021-01-12T08:47:26.670012Z",
     "iopub.status.idle": "2021-01-12T08:47:27.276612Z",
     "shell.execute_reply": "2021-01-12T08:47:27.276214Z"
    },
    "papermill": {
     "duration": 0.62744,
     "end_time": "2021-01-12T08:47:27.276713",
     "exception": false,
     "start_time": "2021-01-12T08:47:26.649273",
     "status": "completed"
    },
    "tags": []
   },
   "outputs": [
    {
     "data": {
      "text/plain": [
       "count            14055001.0\n",
       "mean     43.125402555794686\n",
       "std      10.686424216072133\n",
       "min                     0.0\n",
       "25%       38.79637836150824\n",
       "50%       39.83036155840883\n",
       "75%      42.045984035637254\n",
       "max       164.9804596623576\n",
       "dtype: object"
      ]
     },
     "execution_count": 23,
     "metadata": {},
     "output_type": "execute_result"
    }
   ],
   "source": [
    "pd.Series(data_dist.flatten()).describe().apply(str)"
   ]
  },
  {
   "cell_type": "code",
   "execution_count": 24,
   "metadata": {
    "execution": {
     "iopub.execute_input": "2021-01-12T08:47:27.316985Z",
     "iopub.status.busy": "2021-01-12T08:47:27.316599Z",
     "iopub.status.idle": "2021-01-12T09:14:58.786891Z",
     "shell.execute_reply": "2021-01-12T09:14:58.786465Z"
    },
    "papermill": {
     "duration": 1651.491201,
     "end_time": "2021-01-12T09:14:58.786993",
     "exception": false,
     "start_time": "2021-01-12T08:47:27.295792",
     "status": "completed"
    },
    "tags": []
   },
   "outputs": [
    {
     "name": "stderr",
     "output_type": "stream",
     "text": [
      "\r",
      "  0%|          | 0/296 [00:00<?, ?it/s]"
     ]
    },
    {
     "name": "stderr",
     "output_type": "stream",
     "text": [
      "\r",
      "  0%|          | 1/296 [00:00<02:16,  2.16it/s]"
     ]
    },
    {
     "name": "stderr",
     "output_type": "stream",
     "text": [
      "\r",
      "  1%|          | 2/296 [00:00<02:14,  2.18it/s]"
     ]
    },
    {
     "name": "stderr",
     "output_type": "stream",
     "text": [
      "\r",
      "  1%|          | 3/296 [00:22<32:46,  6.71s/it]"
     ]
    },
    {
     "name": "stderr",
     "output_type": "stream",
     "text": [
      "\r",
      "  1%|▏         | 4/296 [00:22<23:08,  4.75s/it]"
     ]
    },
    {
     "name": "stderr",
     "output_type": "stream",
     "text": [
      "\r",
      "  2%|▏         | 5/296 [00:22<16:49,  3.47s/it]"
     ]
    },
    {
     "name": "stderr",
     "output_type": "stream",
     "text": [
      "\r",
      "  2%|▏         | 6/296 [00:23<12:22,  2.56s/it]"
     ]
    },
    {
     "name": "stderr",
     "output_type": "stream",
     "text": [
      "\r",
      "  2%|▏         | 7/296 [00:44<39:20,  8.17s/it]"
     ]
    },
    {
     "name": "stderr",
     "output_type": "stream",
     "text": [
      "\r",
      "  3%|▎         | 8/296 [00:44<27:43,  5.78s/it]"
     ]
    },
    {
     "name": "stderr",
     "output_type": "stream",
     "text": [
      "\r",
      "  3%|▎         | 9/296 [00:45<20:00,  4.18s/it]"
     ]
    },
    {
     "name": "stderr",
     "output_type": "stream",
     "text": [
      "\r",
      "  3%|▎         | 10/296 [00:45<14:35,  3.06s/it]"
     ]
    },
    {
     "name": "stderr",
     "output_type": "stream",
     "text": [
      "\r",
      "  4%|▎         | 11/296 [01:06<40:27,  8.52s/it]"
     ]
    },
    {
     "name": "stderr",
     "output_type": "stream",
     "text": [
      "\r",
      "  4%|▍         | 12/296 [01:07<28:29,  6.02s/it]"
     ]
    },
    {
     "name": "stderr",
     "output_type": "stream",
     "text": [
      "\r",
      "  4%|▍         | 13/296 [01:07<20:31,  4.35s/it]"
     ]
    },
    {
     "name": "stderr",
     "output_type": "stream",
     "text": [
      "\r",
      "  5%|▍         | 14/296 [01:08<14:57,  3.18s/it]"
     ]
    },
    {
     "name": "stderr",
     "output_type": "stream",
     "text": [
      "\r",
      "  5%|▌         | 15/296 [01:29<40:19,  8.61s/it]"
     ]
    },
    {
     "name": "stderr",
     "output_type": "stream",
     "text": [
      "\r",
      "  5%|▌         | 16/296 [01:29<28:23,  6.08s/it]"
     ]
    },
    {
     "name": "stderr",
     "output_type": "stream",
     "text": [
      "\r",
      "  6%|▌         | 17/296 [01:29<20:26,  4.40s/it]"
     ]
    },
    {
     "name": "stderr",
     "output_type": "stream",
     "text": [
      "\r",
      "  6%|▌         | 18/296 [01:30<14:52,  3.21s/it]"
     ]
    },
    {
     "name": "stderr",
     "output_type": "stream",
     "text": [
      "\r",
      "  6%|▋         | 19/296 [01:51<39:48,  8.62s/it]"
     ]
    },
    {
     "name": "stderr",
     "output_type": "stream",
     "text": [
      "\r",
      "  7%|▋         | 20/296 [01:51<28:01,  6.09s/it]"
     ]
    },
    {
     "name": "stderr",
     "output_type": "stream",
     "text": [
      "\r",
      "  7%|▋         | 21/296 [01:52<20:11,  4.40s/it]"
     ]
    },
    {
     "name": "stderr",
     "output_type": "stream",
     "text": [
      "\r",
      "  7%|▋         | 22/296 [01:52<14:41,  3.22s/it]"
     ]
    },
    {
     "name": "stderr",
     "output_type": "stream",
     "text": [
      "\r",
      "  8%|▊         | 23/296 [02:13<39:12,  8.62s/it]"
     ]
    },
    {
     "name": "stderr",
     "output_type": "stream",
     "text": [
      "\r",
      "  8%|▊         | 24/296 [02:14<27:36,  6.09s/it]"
     ]
    },
    {
     "name": "stderr",
     "output_type": "stream",
     "text": [
      "\r",
      "  8%|▊         | 25/296 [02:14<19:53,  4.40s/it]"
     ]
    },
    {
     "name": "stderr",
     "output_type": "stream",
     "text": [
      "\r",
      "  9%|▉         | 26/296 [02:15<14:28,  3.22s/it]"
     ]
    },
    {
     "name": "stderr",
     "output_type": "stream",
     "text": [
      "\r",
      "  9%|▉         | 27/296 [02:36<38:39,  8.62s/it]"
     ]
    },
    {
     "name": "stderr",
     "output_type": "stream",
     "text": [
      "\r",
      "  9%|▉         | 28/296 [02:36<27:12,  6.09s/it]"
     ]
    },
    {
     "name": "stderr",
     "output_type": "stream",
     "text": [
      "\r",
      " 10%|▉         | 29/296 [02:36<19:35,  4.40s/it]"
     ]
    },
    {
     "name": "stderr",
     "output_type": "stream",
     "text": [
      "\r",
      " 10%|█         | 30/296 [02:37<14:15,  3.22s/it]"
     ]
    },
    {
     "name": "stderr",
     "output_type": "stream",
     "text": [
      "\r",
      " 10%|█         | 31/296 [02:58<38:07,  8.63s/it]"
     ]
    },
    {
     "name": "stderr",
     "output_type": "stream",
     "text": [
      "\r",
      " 11%|█         | 32/296 [02:58<26:50,  6.10s/it]"
     ]
    },
    {
     "name": "stderr",
     "output_type": "stream",
     "text": [
      "\r",
      " 11%|█         | 33/296 [02:59<19:19,  4.41s/it]"
     ]
    },
    {
     "name": "stderr",
     "output_type": "stream",
     "text": [
      "\r",
      " 11%|█▏        | 34/296 [02:59<14:03,  3.22s/it]"
     ]
    },
    {
     "name": "stderr",
     "output_type": "stream",
     "text": [
      "\r",
      " 12%|█▏        | 35/296 [03:21<37:42,  8.67s/it]"
     ]
    },
    {
     "name": "stderr",
     "output_type": "stream",
     "text": [
      "\r",
      " 12%|█▏        | 36/296 [03:21<26:32,  6.12s/it]"
     ]
    },
    {
     "name": "stderr",
     "output_type": "stream",
     "text": [
      "\r",
      " 12%|█▎        | 37/296 [03:21<19:06,  4.43s/it]"
     ]
    },
    {
     "name": "stderr",
     "output_type": "stream",
     "text": [
      "\r",
      " 13%|█▎        | 38/296 [03:22<13:54,  3.23s/it]"
     ]
    },
    {
     "name": "stderr",
     "output_type": "stream",
     "text": [
      "\r",
      " 13%|█▎        | 39/296 [03:43<37:06,  8.66s/it]"
     ]
    },
    {
     "name": "stderr",
     "output_type": "stream",
     "text": [
      "\r",
      " 14%|█▎        | 40/296 [03:43<26:07,  6.12s/it]"
     ]
    },
    {
     "name": "stderr",
     "output_type": "stream",
     "text": [
      "\r",
      " 14%|█▍        | 41/296 [03:44<18:48,  4.43s/it]"
     ]
    },
    {
     "name": "stderr",
     "output_type": "stream",
     "text": [
      "\r",
      " 14%|█▍        | 42/296 [03:44<13:41,  3.23s/it]"
     ]
    },
    {
     "name": "stderr",
     "output_type": "stream",
     "text": [
      "\r",
      " 15%|█▍        | 43/296 [04:06<36:34,  8.67s/it]"
     ]
    },
    {
     "name": "stderr",
     "output_type": "stream",
     "text": [
      "\r",
      " 15%|█▍        | 44/296 [04:06<25:44,  6.13s/it]"
     ]
    },
    {
     "name": "stderr",
     "output_type": "stream",
     "text": [
      "\r",
      " 15%|█▌        | 45/296 [04:06<18:32,  4.43s/it]"
     ]
    },
    {
     "name": "stderr",
     "output_type": "stream",
     "text": [
      "\r",
      " 16%|█▌        | 46/296 [04:07<13:29,  3.24s/it]"
     ]
    },
    {
     "name": "stderr",
     "output_type": "stream",
     "text": [
      "\r",
      " 16%|█▌        | 47/296 [04:28<35:39,  8.59s/it]"
     ]
    },
    {
     "name": "stderr",
     "output_type": "stream",
     "text": [
      "\r",
      " 16%|█▌        | 48/296 [04:28<25:05,  6.07s/it]"
     ]
    },
    {
     "name": "stderr",
     "output_type": "stream",
     "text": [
      "\r",
      " 17%|█▋        | 49/296 [04:28<18:04,  4.39s/it]"
     ]
    },
    {
     "name": "stderr",
     "output_type": "stream",
     "text": [
      "\r",
      " 17%|█▋        | 50/296 [04:29<13:08,  3.21s/it]"
     ]
    },
    {
     "name": "stderr",
     "output_type": "stream",
     "text": [
      "\r",
      " 17%|█▋        | 51/296 [04:50<35:06,  8.60s/it]"
     ]
    },
    {
     "name": "stderr",
     "output_type": "stream",
     "text": [
      "\r",
      " 18%|█▊        | 52/296 [04:50<24:42,  6.08s/it]"
     ]
    },
    {
     "name": "stderr",
     "output_type": "stream",
     "text": [
      "\r",
      " 18%|█▊        | 53/296 [04:51<17:47,  4.39s/it]"
     ]
    },
    {
     "name": "stderr",
     "output_type": "stream",
     "text": [
      "\r",
      " 18%|█▊        | 54/296 [04:51<12:56,  3.21s/it]"
     ]
    },
    {
     "name": "stderr",
     "output_type": "stream",
     "text": [
      "\r",
      " 19%|█▊        | 55/296 [05:12<34:24,  8.57s/it]"
     ]
    },
    {
     "name": "stderr",
     "output_type": "stream",
     "text": [
      "\r",
      " 19%|█▉        | 56/296 [05:12<24:12,  6.05s/it]"
     ]
    },
    {
     "name": "stderr",
     "output_type": "stream",
     "text": [
      "\r",
      " 19%|█▉        | 57/296 [05:13<17:26,  4.38s/it]"
     ]
    },
    {
     "name": "stderr",
     "output_type": "stream",
     "text": [
      "\r",
      " 20%|█▉        | 58/296 [05:13<12:41,  3.20s/it]"
     ]
    },
    {
     "name": "stderr",
     "output_type": "stream",
     "text": [
      "\r",
      " 20%|█▉        | 59/296 [05:34<33:52,  8.58s/it]"
     ]
    },
    {
     "name": "stderr",
     "output_type": "stream",
     "text": [
      "\r",
      " 20%|██        | 60/296 [05:35<23:50,  6.06s/it]"
     ]
    },
    {
     "name": "stderr",
     "output_type": "stream",
     "text": [
      "\r",
      " 21%|██        | 61/296 [05:35<17:09,  4.38s/it]"
     ]
    },
    {
     "name": "stderr",
     "output_type": "stream",
     "text": [
      "\r",
      " 21%|██        | 62/296 [05:36<12:28,  3.20s/it]"
     ]
    },
    {
     "name": "stderr",
     "output_type": "stream",
     "text": [
      "\r",
      " 21%|██▏       | 63/296 [05:57<33:20,  8.59s/it]"
     ]
    },
    {
     "name": "stderr",
     "output_type": "stream",
     "text": [
      "\r",
      " 22%|██▏       | 64/296 [05:57<23:27,  6.07s/it]"
     ]
    },
    {
     "name": "stderr",
     "output_type": "stream",
     "text": [
      "\r",
      " 22%|██▏       | 65/296 [05:57<16:53,  4.39s/it]"
     ]
    },
    {
     "name": "stderr",
     "output_type": "stream",
     "text": [
      "\r",
      " 22%|██▏       | 66/296 [05:58<12:17,  3.20s/it]"
     ]
    },
    {
     "name": "stderr",
     "output_type": "stream",
     "text": [
      "\r",
      " 23%|██▎       | 67/296 [06:19<32:45,  8.58s/it]"
     ]
    },
    {
     "name": "stderr",
     "output_type": "stream",
     "text": [
      "\r",
      " 23%|██▎       | 68/296 [06:19<23:02,  6.06s/it]"
     ]
    },
    {
     "name": "stderr",
     "output_type": "stream",
     "text": [
      "\r",
      " 23%|██▎       | 69/296 [06:20<16:35,  4.39s/it]"
     ]
    },
    {
     "name": "stderr",
     "output_type": "stream",
     "text": [
      "\r",
      " 24%|██▎       | 70/296 [06:20<12:03,  3.20s/it]"
     ]
    },
    {
     "name": "stderr",
     "output_type": "stream",
     "text": [
      "\r",
      " 24%|██▍       | 71/296 [06:41<32:18,  8.62s/it]"
     ]
    },
    {
     "name": "stderr",
     "output_type": "stream",
     "text": [
      "\r",
      " 24%|██▍       | 72/296 [06:41<22:43,  6.09s/it]"
     ]
    },
    {
     "name": "stderr",
     "output_type": "stream",
     "text": [
      "\r",
      " 25%|██▍       | 73/296 [06:42<16:21,  4.40s/it]"
     ]
    },
    {
     "name": "stderr",
     "output_type": "stream",
     "text": [
      "\r",
      " 25%|██▌       | 74/296 [06:42<11:53,  3.21s/it]"
     ]
    },
    {
     "name": "stderr",
     "output_type": "stream",
     "text": [
      "\r",
      " 25%|██▌       | 75/296 [07:04<31:42,  8.61s/it]"
     ]
    },
    {
     "name": "stderr",
     "output_type": "stream",
     "text": [
      "\r",
      " 26%|██▌       | 76/296 [07:04<22:17,  6.08s/it]"
     ]
    },
    {
     "name": "stderr",
     "output_type": "stream",
     "text": [
      "\r",
      " 26%|██▌       | 77/296 [07:04<16:02,  4.40s/it]"
     ]
    },
    {
     "name": "stderr",
     "output_type": "stream",
     "text": [
      "\r",
      " 26%|██▋       | 78/296 [07:05<11:40,  3.21s/it]"
     ]
    },
    {
     "name": "stderr",
     "output_type": "stream",
     "text": [
      "\r",
      " 27%|██▋       | 79/296 [07:26<31:06,  8.60s/it]"
     ]
    },
    {
     "name": "stderr",
     "output_type": "stream",
     "text": [
      "\r",
      " 27%|██▋       | 80/296 [07:26<21:52,  6.08s/it]"
     ]
    },
    {
     "name": "stderr",
     "output_type": "stream",
     "text": [
      "\r",
      " 27%|██▋       | 81/296 [07:26<15:44,  4.39s/it]"
     ]
    },
    {
     "name": "stderr",
     "output_type": "stream",
     "text": [
      "\r",
      " 28%|██▊       | 82/296 [07:27<11:26,  3.21s/it]"
     ]
    },
    {
     "name": "stderr",
     "output_type": "stream",
     "text": [
      "\r",
      " 28%|██▊       | 83/296 [07:48<30:31,  8.60s/it]"
     ]
    },
    {
     "name": "stderr",
     "output_type": "stream",
     "text": [
      "\r",
      " 28%|██▊       | 84/296 [07:48<21:27,  6.08s/it]"
     ]
    },
    {
     "name": "stderr",
     "output_type": "stream",
     "text": [
      "\r",
      " 29%|██▊       | 85/296 [07:49<15:26,  4.39s/it]"
     ]
    },
    {
     "name": "stderr",
     "output_type": "stream",
     "text": [
      "\r",
      " 29%|██▉       | 86/296 [07:49<11:13,  3.21s/it]"
     ]
    },
    {
     "name": "stderr",
     "output_type": "stream",
     "text": [
      "\r",
      " 29%|██▉       | 87/296 [08:10<30:01,  8.62s/it]"
     ]
    },
    {
     "name": "stderr",
     "output_type": "stream",
     "text": [
      "\r",
      " 30%|██▉       | 88/296 [08:11<21:06,  6.09s/it]"
     ]
    },
    {
     "name": "stderr",
     "output_type": "stream",
     "text": [
      "\r",
      " 30%|███       | 89/296 [08:11<15:11,  4.40s/it]"
     ]
    },
    {
     "name": "stderr",
     "output_type": "stream",
     "text": [
      "\r",
      " 30%|███       | 90/296 [08:12<11:02,  3.22s/it]"
     ]
    },
    {
     "name": "stderr",
     "output_type": "stream",
     "text": [
      "\r",
      " 31%|███       | 91/296 [08:33<29:27,  8.62s/it]"
     ]
    },
    {
     "name": "stderr",
     "output_type": "stream",
     "text": [
      "\r",
      " 31%|███       | 92/296 [08:33<20:42,  6.09s/it]"
     ]
    },
    {
     "name": "stderr",
     "output_type": "stream",
     "text": [
      "\r",
      " 31%|███▏      | 93/296 [08:33<14:53,  4.40s/it]"
     ]
    },
    {
     "name": "stderr",
     "output_type": "stream",
     "text": [
      "\r",
      " 32%|███▏      | 94/296 [08:34<10:49,  3.22s/it]"
     ]
    },
    {
     "name": "stderr",
     "output_type": "stream",
     "text": [
      "\r",
      " 32%|███▏      | 95/296 [08:55<28:52,  8.62s/it]"
     ]
    },
    {
     "name": "stderr",
     "output_type": "stream",
     "text": [
      "\r",
      " 32%|███▏      | 96/296 [08:55<20:18,  6.09s/it]"
     ]
    },
    {
     "name": "stderr",
     "output_type": "stream",
     "text": [
      "\r",
      " 33%|███▎      | 97/296 [08:56<14:36,  4.40s/it]"
     ]
    },
    {
     "name": "stderr",
     "output_type": "stream",
     "text": [
      "\r",
      " 33%|███▎      | 98/296 [08:56<10:36,  3.22s/it]"
     ]
    },
    {
     "name": "stderr",
     "output_type": "stream",
     "text": [
      "\r",
      " 33%|███▎      | 99/296 [09:17<28:16,  8.61s/it]"
     ]
    },
    {
     "name": "stderr",
     "output_type": "stream",
     "text": [
      "\r",
      " 34%|███▍      | 100/296 [09:18<19:52,  6.09s/it]"
     ]
    },
    {
     "name": "stderr",
     "output_type": "stream",
     "text": [
      "\r",
      " 34%|███▍      | 101/296 [09:18<14:17,  4.40s/it]"
     ]
    },
    {
     "name": "stderr",
     "output_type": "stream",
     "text": [
      "\r",
      " 34%|███▍      | 102/296 [09:19<10:23,  3.21s/it]"
     ]
    },
    {
     "name": "stderr",
     "output_type": "stream",
     "text": [
      "\r",
      " 35%|███▍      | 103/296 [09:40<27:40,  8.60s/it]"
     ]
    },
    {
     "name": "stderr",
     "output_type": "stream",
     "text": [
      "\r",
      " 35%|███▌      | 104/296 [09:40<19:27,  6.08s/it]"
     ]
    },
    {
     "name": "stderr",
     "output_type": "stream",
     "text": [
      "\r",
      " 35%|███▌      | 105/296 [09:40<13:59,  4.39s/it]"
     ]
    },
    {
     "name": "stderr",
     "output_type": "stream",
     "text": [
      "\r",
      " 36%|███▌      | 106/296 [09:41<10:09,  3.21s/it]"
     ]
    },
    {
     "name": "stderr",
     "output_type": "stream",
     "text": [
      "\r",
      " 36%|███▌      | 107/296 [10:02<27:07,  8.61s/it]"
     ]
    },
    {
     "name": "stderr",
     "output_type": "stream",
     "text": [
      "\r",
      " 36%|███▋      | 108/296 [10:02<19:03,  6.08s/it]"
     ]
    },
    {
     "name": "stderr",
     "output_type": "stream",
     "text": [
      "\r",
      " 37%|███▋      | 109/296 [10:03<13:42,  4.40s/it]"
     ]
    },
    {
     "name": "stderr",
     "output_type": "stream",
     "text": [
      "\r",
      " 37%|███▋      | 110/296 [10:03<09:57,  3.21s/it]"
     ]
    },
    {
     "name": "stderr",
     "output_type": "stream",
     "text": [
      "\r",
      " 38%|███▊      | 111/296 [10:24<26:31,  8.60s/it]"
     ]
    },
    {
     "name": "stderr",
     "output_type": "stream",
     "text": [
      "\r",
      " 38%|███▊      | 112/296 [10:24<18:38,  6.08s/it]"
     ]
    },
    {
     "name": "stderr",
     "output_type": "stream",
     "text": [
      "\r",
      " 38%|███▊      | 113/296 [10:25<13:24,  4.39s/it]"
     ]
    },
    {
     "name": "stderr",
     "output_type": "stream",
     "text": [
      "\r",
      " 39%|███▊      | 114/296 [10:25<09:44,  3.21s/it]"
     ]
    },
    {
     "name": "stderr",
     "output_type": "stream",
     "text": [
      "\r",
      " 39%|███▉      | 115/296 [10:47<25:57,  8.61s/it]"
     ]
    },
    {
     "name": "stderr",
     "output_type": "stream",
     "text": [
      "\r",
      " 39%|███▉      | 116/296 [10:47<18:14,  6.08s/it]"
     ]
    },
    {
     "name": "stderr",
     "output_type": "stream",
     "text": [
      "\r",
      " 40%|███▉      | 117/296 [10:47<13:07,  4.40s/it]"
     ]
    },
    {
     "name": "stderr",
     "output_type": "stream",
     "text": [
      "\r",
      " 40%|███▉      | 118/296 [10:48<09:31,  3.21s/it]"
     ]
    },
    {
     "name": "stderr",
     "output_type": "stream",
     "text": [
      "\r",
      " 40%|████      | 119/296 [11:09<25:25,  8.62s/it]"
     ]
    },
    {
     "name": "stderr",
     "output_type": "stream",
     "text": [
      "\r",
      " 41%|████      | 120/296 [11:09<17:51,  6.09s/it]"
     ]
    },
    {
     "name": "stderr",
     "output_type": "stream",
     "text": [
      "\r",
      " 41%|████      | 121/296 [11:10<12:50,  4.40s/it]"
     ]
    },
    {
     "name": "stderr",
     "output_type": "stream",
     "text": [
      "\r",
      " 41%|████      | 122/296 [11:10<09:19,  3.21s/it]"
     ]
    },
    {
     "name": "stderr",
     "output_type": "stream",
     "text": [
      "\r",
      " 42%|████▏     | 123/296 [11:31<24:50,  8.62s/it]"
     ]
    },
    {
     "name": "stderr",
     "output_type": "stream",
     "text": [
      "\r",
      " 42%|████▏     | 124/296 [11:31<17:27,  6.09s/it]"
     ]
    },
    {
     "name": "stderr",
     "output_type": "stream",
     "text": [
      "\r",
      " 42%|████▏     | 125/296 [11:32<12:32,  4.40s/it]"
     ]
    },
    {
     "name": "stderr",
     "output_type": "stream",
     "text": [
      "\r",
      " 43%|████▎     | 126/296 [11:32<09:06,  3.21s/it]"
     ]
    },
    {
     "name": "stderr",
     "output_type": "stream",
     "text": [
      "\r",
      " 43%|████▎     | 127/296 [11:54<24:17,  8.62s/it]"
     ]
    },
    {
     "name": "stderr",
     "output_type": "stream",
     "text": [
      "\r",
      " 43%|████▎     | 128/296 [11:54<17:03,  6.09s/it]"
     ]
    },
    {
     "name": "stderr",
     "output_type": "stream",
     "text": [
      "\r",
      " 44%|████▎     | 129/296 [11:54<12:15,  4.40s/it]"
     ]
    },
    {
     "name": "stderr",
     "output_type": "stream",
     "text": [
      "\r",
      " 44%|████▍     | 130/296 [11:55<08:54,  3.22s/it]"
     ]
    },
    {
     "name": "stderr",
     "output_type": "stream",
     "text": [
      "\r",
      " 44%|████▍     | 131/296 [12:16<23:42,  8.62s/it]"
     ]
    },
    {
     "name": "stderr",
     "output_type": "stream",
     "text": [
      "\r",
      " 45%|████▍     | 132/296 [12:16<16:39,  6.09s/it]"
     ]
    },
    {
     "name": "stderr",
     "output_type": "stream",
     "text": [
      "\r",
      " 45%|████▍     | 133/296 [12:17<11:57,  4.40s/it]"
     ]
    },
    {
     "name": "stderr",
     "output_type": "stream",
     "text": [
      "\r",
      " 45%|████▌     | 134/296 [12:17<08:41,  3.22s/it]"
     ]
    },
    {
     "name": "stderr",
     "output_type": "stream",
     "text": [
      "\r",
      " 46%|████▌     | 135/296 [12:38<23:07,  8.62s/it]"
     ]
    },
    {
     "name": "stderr",
     "output_type": "stream",
     "text": [
      "\r",
      " 46%|████▌     | 136/296 [12:38<16:14,  6.09s/it]"
     ]
    },
    {
     "name": "stderr",
     "output_type": "stream",
     "text": [
      "\r",
      " 46%|████▋     | 137/296 [12:39<11:39,  4.40s/it]"
     ]
    },
    {
     "name": "stderr",
     "output_type": "stream",
     "text": [
      "\r",
      " 47%|████▋     | 138/296 [12:39<08:27,  3.21s/it]"
     ]
    },
    {
     "name": "stderr",
     "output_type": "stream",
     "text": [
      "\r",
      " 47%|████▋     | 139/296 [13:01<22:33,  8.62s/it]"
     ]
    },
    {
     "name": "stderr",
     "output_type": "stream",
     "text": [
      "\r",
      " 47%|████▋     | 140/296 [13:01<15:50,  6.09s/it]"
     ]
    },
    {
     "name": "stderr",
     "output_type": "stream",
     "text": [
      "\r",
      " 48%|████▊     | 141/296 [13:01<11:22,  4.40s/it]"
     ]
    },
    {
     "name": "stderr",
     "output_type": "stream",
     "text": [
      "\r",
      " 48%|████▊     | 142/296 [13:02<08:15,  3.21s/it]"
     ]
    },
    {
     "name": "stderr",
     "output_type": "stream",
     "text": [
      "\r",
      " 48%|████▊     | 143/296 [13:23<21:57,  8.61s/it]"
     ]
    },
    {
     "name": "stderr",
     "output_type": "stream",
     "text": [
      "\r",
      " 49%|████▊     | 144/296 [13:23<15:25,  6.09s/it]"
     ]
    },
    {
     "name": "stderr",
     "output_type": "stream",
     "text": [
      "\r",
      " 49%|████▉     | 145/296 [13:24<11:04,  4.40s/it]"
     ]
    },
    {
     "name": "stderr",
     "output_type": "stream",
     "text": [
      "\r",
      " 49%|████▉     | 146/296 [13:24<08:01,  3.21s/it]"
     ]
    },
    {
     "name": "stderr",
     "output_type": "stream",
     "text": [
      "\r",
      " 50%|████▉     | 147/296 [13:45<21:24,  8.62s/it]"
     ]
    },
    {
     "name": "stderr",
     "output_type": "stream",
     "text": [
      "\r",
      " 50%|█████     | 148/296 [13:45<15:01,  6.09s/it]"
     ]
    },
    {
     "name": "stderr",
     "output_type": "stream",
     "text": [
      "\r",
      " 50%|█████     | 149/296 [13:46<10:47,  4.40s/it]"
     ]
    },
    {
     "name": "stderr",
     "output_type": "stream",
     "text": [
      "\r",
      " 51%|█████     | 150/296 [13:46<07:49,  3.21s/it]"
     ]
    },
    {
     "name": "stderr",
     "output_type": "stream",
     "text": [
      "\r",
      " 51%|█████     | 151/296 [14:07<20:45,  8.59s/it]"
     ]
    },
    {
     "name": "stderr",
     "output_type": "stream",
     "text": [
      "\r",
      " 51%|█████▏    | 152/296 [14:08<14:34,  6.07s/it]"
     ]
    },
    {
     "name": "stderr",
     "output_type": "stream",
     "text": [
      "\r",
      " 52%|█████▏    | 153/296 [14:08<10:27,  4.39s/it]"
     ]
    },
    {
     "name": "stderr",
     "output_type": "stream",
     "text": [
      "\r",
      " 52%|█████▏    | 154/296 [14:09<07:35,  3.21s/it]"
     ]
    },
    {
     "name": "stderr",
     "output_type": "stream",
     "text": [
      "\r",
      " 52%|█████▏    | 155/296 [14:30<20:11,  8.60s/it]"
     ]
    },
    {
     "name": "stderr",
     "output_type": "stream",
     "text": [
      "\r",
      " 53%|█████▎    | 156/296 [14:30<14:10,  6.07s/it]"
     ]
    },
    {
     "name": "stderr",
     "output_type": "stream",
     "text": [
      "\r",
      " 53%|█████▎    | 157/296 [14:30<10:10,  4.39s/it]"
     ]
    },
    {
     "name": "stderr",
     "output_type": "stream",
     "text": [
      "\r",
      " 53%|█████▎    | 158/296 [14:31<07:22,  3.21s/it]"
     ]
    },
    {
     "name": "stderr",
     "output_type": "stream",
     "text": [
      "\r",
      " 54%|█████▎    | 159/296 [14:52<19:39,  8.61s/it]"
     ]
    },
    {
     "name": "stderr",
     "output_type": "stream",
     "text": [
      "\r",
      " 54%|█████▍    | 160/296 [14:52<13:47,  6.08s/it]"
     ]
    },
    {
     "name": "stderr",
     "output_type": "stream",
     "text": [
      "\r",
      " 54%|█████▍    | 161/296 [14:53<09:53,  4.40s/it]"
     ]
    },
    {
     "name": "stderr",
     "output_type": "stream",
     "text": [
      "\r",
      " 55%|█████▍    | 162/296 [14:53<07:10,  3.21s/it]"
     ]
    },
    {
     "name": "stderr",
     "output_type": "stream",
     "text": [
      "\r",
      " 55%|█████▌    | 163/296 [15:14<19:05,  8.61s/it]"
     ]
    },
    {
     "name": "stderr",
     "output_type": "stream",
     "text": [
      "\r",
      " 55%|█████▌    | 164/296 [15:15<13:23,  6.08s/it]"
     ]
    },
    {
     "name": "stderr",
     "output_type": "stream",
     "text": [
      "\r",
      " 56%|█████▌    | 165/296 [15:15<09:36,  4.40s/it]"
     ]
    },
    {
     "name": "stderr",
     "output_type": "stream",
     "text": [
      "\r",
      " 56%|█████▌    | 166/296 [15:15<06:57,  3.21s/it]"
     ]
    },
    {
     "name": "stderr",
     "output_type": "stream",
     "text": [
      "\r",
      " 56%|█████▋    | 167/296 [15:37<18:30,  8.61s/it]"
     ]
    },
    {
     "name": "stderr",
     "output_type": "stream",
     "text": [
      "\r",
      " 57%|█████▋    | 168/296 [15:37<12:58,  6.08s/it]"
     ]
    },
    {
     "name": "stderr",
     "output_type": "stream",
     "text": [
      "\r",
      " 57%|█████▋    | 169/296 [15:37<09:18,  4.40s/it]"
     ]
    },
    {
     "name": "stderr",
     "output_type": "stream",
     "text": [
      "\r",
      " 57%|█████▋    | 170/296 [15:38<06:44,  3.21s/it]"
     ]
    },
    {
     "name": "stderr",
     "output_type": "stream",
     "text": [
      "\r",
      " 58%|█████▊    | 171/296 [15:59<17:56,  8.61s/it]"
     ]
    },
    {
     "name": "stderr",
     "output_type": "stream",
     "text": [
      "\r",
      " 58%|█████▊    | 172/296 [15:59<12:34,  6.08s/it]"
     ]
    },
    {
     "name": "stderr",
     "output_type": "stream",
     "text": [
      "\r",
      " 58%|█████▊    | 173/296 [16:00<09:01,  4.40s/it]"
     ]
    },
    {
     "name": "stderr",
     "output_type": "stream",
     "text": [
      "\r",
      " 59%|█████▉    | 174/296 [16:00<06:31,  3.21s/it]"
     ]
    },
    {
     "name": "stderr",
     "output_type": "stream",
     "text": [
      "\r",
      " 59%|█████▉    | 175/296 [16:21<17:23,  8.62s/it]"
     ]
    },
    {
     "name": "stderr",
     "output_type": "stream",
     "text": [
      "\r",
      " 59%|█████▉    | 176/296 [16:21<12:11,  6.09s/it]"
     ]
    },
    {
     "name": "stderr",
     "output_type": "stream",
     "text": [
      "\r",
      " 60%|█████▉    | 177/296 [16:22<08:44,  4.40s/it]"
     ]
    },
    {
     "name": "stderr",
     "output_type": "stream",
     "text": [
      "\r",
      " 60%|██████    | 178/296 [16:22<06:19,  3.22s/it]"
     ]
    },
    {
     "name": "stderr",
     "output_type": "stream",
     "text": [
      "\r",
      " 60%|██████    | 179/296 [16:44<16:47,  8.61s/it]"
     ]
    },
    {
     "name": "stderr",
     "output_type": "stream",
     "text": [
      "\r",
      " 61%|██████    | 180/296 [16:44<11:45,  6.08s/it]"
     ]
    },
    {
     "name": "stderr",
     "output_type": "stream",
     "text": [
      "\r",
      " 61%|██████    | 181/296 [16:44<08:25,  4.40s/it]"
     ]
    },
    {
     "name": "stderr",
     "output_type": "stream",
     "text": [
      "\r",
      " 61%|██████▏   | 182/296 [16:45<06:06,  3.21s/it]"
     ]
    },
    {
     "name": "stderr",
     "output_type": "stream",
     "text": [
      "\r",
      " 62%|██████▏   | 183/296 [17:06<16:12,  8.61s/it]"
     ]
    },
    {
     "name": "stderr",
     "output_type": "stream",
     "text": [
      "\r",
      " 62%|██████▏   | 184/296 [17:06<11:21,  6.08s/it]"
     ]
    },
    {
     "name": "stderr",
     "output_type": "stream",
     "text": [
      "\r",
      " 62%|██████▎   | 185/296 [17:07<08:08,  4.40s/it]"
     ]
    },
    {
     "name": "stderr",
     "output_type": "stream",
     "text": [
      "\r",
      " 63%|██████▎   | 186/296 [17:07<05:53,  3.21s/it]"
     ]
    },
    {
     "name": "stderr",
     "output_type": "stream",
     "text": [
      "\r",
      " 63%|██████▎   | 187/296 [17:28<15:36,  8.60s/it]"
     ]
    },
    {
     "name": "stderr",
     "output_type": "stream",
     "text": [
      "\r",
      " 64%|██████▎   | 188/296 [17:28<10:56,  6.07s/it]"
     ]
    },
    {
     "name": "stderr",
     "output_type": "stream",
     "text": [
      "\r",
      " 64%|██████▍   | 189/296 [17:29<07:50,  4.39s/it]"
     ]
    },
    {
     "name": "stderr",
     "output_type": "stream",
     "text": [
      "\r",
      " 64%|██████▍   | 190/296 [17:29<05:40,  3.21s/it]"
     ]
    },
    {
     "name": "stderr",
     "output_type": "stream",
     "text": [
      "\r",
      " 65%|██████▍   | 191/296 [17:50<15:04,  8.62s/it]"
     ]
    },
    {
     "name": "stderr",
     "output_type": "stream",
     "text": [
      "\r",
      " 65%|██████▍   | 192/296 [17:51<10:33,  6.09s/it]"
     ]
    },
    {
     "name": "stderr",
     "output_type": "stream",
     "text": [
      "\r",
      " 65%|██████▌   | 193/296 [17:51<07:33,  4.40s/it]"
     ]
    },
    {
     "name": "stderr",
     "output_type": "stream",
     "text": [
      "\r",
      " 66%|██████▌   | 194/296 [17:52<05:28,  3.22s/it]"
     ]
    },
    {
     "name": "stderr",
     "output_type": "stream",
     "text": [
      "\r",
      " 66%|██████▌   | 195/296 [18:13<14:31,  8.63s/it]"
     ]
    },
    {
     "name": "stderr",
     "output_type": "stream",
     "text": [
      "\r",
      " 66%|██████▌   | 196/296 [18:13<10:09,  6.09s/it]"
     ]
    },
    {
     "name": "stderr",
     "output_type": "stream",
     "text": [
      "\r",
      " 67%|██████▋   | 197/296 [18:13<07:16,  4.41s/it]"
     ]
    },
    {
     "name": "stderr",
     "output_type": "stream",
     "text": [
      "\r",
      " 67%|██████▋   | 198/296 [18:14<05:15,  3.22s/it]"
     ]
    },
    {
     "name": "stderr",
     "output_type": "stream",
     "text": [
      "\r",
      " 67%|██████▋   | 199/296 [18:35<13:55,  8.62s/it]"
     ]
    },
    {
     "name": "stderr",
     "output_type": "stream",
     "text": [
      "\r",
      " 68%|██████▊   | 200/296 [18:35<09:44,  6.09s/it]"
     ]
    },
    {
     "name": "stderr",
     "output_type": "stream",
     "text": [
      "\r",
      " 68%|██████▊   | 201/296 [18:36<06:58,  4.40s/it]"
     ]
    },
    {
     "name": "stderr",
     "output_type": "stream",
     "text": [
      "\r",
      " 68%|██████▊   | 202/296 [18:36<05:02,  3.21s/it]"
     ]
    },
    {
     "name": "stderr",
     "output_type": "stream",
     "text": [
      "\r",
      " 69%|██████▊   | 203/296 [18:57<13:21,  8.62s/it]"
     ]
    },
    {
     "name": "stderr",
     "output_type": "stream",
     "text": [
      "\r",
      " 69%|██████▉   | 204/296 [18:58<09:20,  6.09s/it]"
     ]
    },
    {
     "name": "stderr",
     "output_type": "stream",
     "text": [
      "\r",
      " 69%|██████▉   | 205/296 [18:58<06:40,  4.40s/it]"
     ]
    },
    {
     "name": "stderr",
     "output_type": "stream",
     "text": [
      "\r",
      " 70%|██████▉   | 206/296 [18:59<04:49,  3.21s/it]"
     ]
    },
    {
     "name": "stderr",
     "output_type": "stream",
     "text": [
      "\r",
      " 70%|██████▉   | 207/296 [19:20<12:46,  8.61s/it]"
     ]
    },
    {
     "name": "stderr",
     "output_type": "stream",
     "text": [
      "\r",
      " 70%|███████   | 208/296 [19:20<08:55,  6.08s/it]"
     ]
    },
    {
     "name": "stderr",
     "output_type": "stream",
     "text": [
      "\r",
      " 71%|███████   | 209/296 [19:20<06:22,  4.40s/it]"
     ]
    },
    {
     "name": "stderr",
     "output_type": "stream",
     "text": [
      "\r",
      " 71%|███████   | 210/296 [19:21<04:36,  3.21s/it]"
     ]
    },
    {
     "name": "stderr",
     "output_type": "stream",
     "text": [
      "\r",
      " 71%|███████▏  | 211/296 [19:42<12:11,  8.60s/it]"
     ]
    },
    {
     "name": "stderr",
     "output_type": "stream",
     "text": [
      "\r",
      " 72%|███████▏  | 212/296 [19:42<08:30,  6.08s/it]"
     ]
    },
    {
     "name": "stderr",
     "output_type": "stream",
     "text": [
      "\r",
      " 72%|███████▏  | 213/296 [19:43<06:04,  4.40s/it]"
     ]
    },
    {
     "name": "stderr",
     "output_type": "stream",
     "text": [
      "\r",
      " 72%|███████▏  | 214/296 [19:43<04:23,  3.21s/it]"
     ]
    },
    {
     "name": "stderr",
     "output_type": "stream",
     "text": [
      "\r",
      " 73%|███████▎  | 215/296 [20:04<11:37,  8.61s/it]"
     ]
    },
    {
     "name": "stderr",
     "output_type": "stream",
     "text": [
      "\r",
      " 73%|███████▎  | 216/296 [20:05<08:06,  6.08s/it]"
     ]
    },
    {
     "name": "stderr",
     "output_type": "stream",
     "text": [
      "\r",
      " 73%|███████▎  | 217/296 [20:05<05:47,  4.40s/it]"
     ]
    },
    {
     "name": "stderr",
     "output_type": "stream",
     "text": [
      "\r",
      " 74%|███████▎  | 218/296 [20:05<04:10,  3.21s/it]"
     ]
    },
    {
     "name": "stderr",
     "output_type": "stream",
     "text": [
      "\r",
      " 74%|███████▍  | 219/296 [20:27<11:01,  8.60s/it]"
     ]
    },
    {
     "name": "stderr",
     "output_type": "stream",
     "text": [
      "\r",
      " 74%|███████▍  | 220/296 [20:27<07:41,  6.08s/it]"
     ]
    },
    {
     "name": "stderr",
     "output_type": "stream",
     "text": [
      "\r",
      " 75%|███████▍  | 221/296 [20:27<05:29,  4.39s/it]"
     ]
    },
    {
     "name": "stderr",
     "output_type": "stream",
     "text": [
      "\r",
      " 75%|███████▌  | 222/296 [20:28<03:57,  3.21s/it]"
     ]
    },
    {
     "name": "stderr",
     "output_type": "stream",
     "text": [
      "\r",
      " 75%|███████▌  | 223/296 [20:49<10:27,  8.60s/it]"
     ]
    },
    {
     "name": "stderr",
     "output_type": "stream",
     "text": [
      "\r",
      " 76%|███████▌  | 224/296 [20:49<07:17,  6.08s/it]"
     ]
    },
    {
     "name": "stderr",
     "output_type": "stream",
     "text": [
      "\r",
      " 76%|███████▌  | 225/296 [20:50<05:11,  4.39s/it]"
     ]
    },
    {
     "name": "stderr",
     "output_type": "stream",
     "text": [
      "\r",
      " 76%|███████▋  | 226/296 [20:50<03:44,  3.21s/it]"
     ]
    },
    {
     "name": "stderr",
     "output_type": "stream",
     "text": [
      "\r",
      " 77%|███████▋  | 227/296 [21:11<09:53,  8.61s/it]"
     ]
    },
    {
     "name": "stderr",
     "output_type": "stream",
     "text": [
      "\r",
      " 77%|███████▋  | 228/296 [21:11<06:53,  6.08s/it]"
     ]
    },
    {
     "name": "stderr",
     "output_type": "stream",
     "text": [
      "\r",
      " 77%|███████▋  | 229/296 [21:12<04:54,  4.40s/it]"
     ]
    },
    {
     "name": "stderr",
     "output_type": "stream",
     "text": [
      "\r",
      " 78%|███████▊  | 230/296 [21:12<03:31,  3.21s/it]"
     ]
    },
    {
     "name": "stderr",
     "output_type": "stream",
     "text": [
      "\r",
      " 78%|███████▊  | 231/296 [21:34<09:20,  8.62s/it]"
     ]
    },
    {
     "name": "stderr",
     "output_type": "stream",
     "text": [
      "\r",
      " 78%|███████▊  | 232/296 [21:34<06:29,  6.09s/it]"
     ]
    },
    {
     "name": "stderr",
     "output_type": "stream",
     "text": [
      "\r",
      " 79%|███████▊  | 233/296 [21:34<04:37,  4.41s/it]"
     ]
    },
    {
     "name": "stderr",
     "output_type": "stream",
     "text": [
      "\r",
      " 79%|███████▉  | 234/296 [21:35<03:19,  3.22s/it]"
     ]
    },
    {
     "name": "stderr",
     "output_type": "stream",
     "text": [
      "\r",
      " 79%|███████▉  | 235/296 [21:56<08:46,  8.63s/it]"
     ]
    },
    {
     "name": "stderr",
     "output_type": "stream",
     "text": [
      "\r",
      " 80%|███████▉  | 236/296 [21:56<06:05,  6.10s/it]"
     ]
    },
    {
     "name": "stderr",
     "output_type": "stream",
     "text": [
      "\r",
      " 80%|████████  | 237/296 [21:57<04:20,  4.41s/it]"
     ]
    },
    {
     "name": "stderr",
     "output_type": "stream",
     "text": [
      "\r",
      " 80%|████████  | 238/296 [21:57<03:06,  3.22s/it]"
     ]
    },
    {
     "name": "stderr",
     "output_type": "stream",
     "text": [
      "\r",
      " 81%|████████  | 239/296 [22:18<08:11,  8.62s/it]"
     ]
    },
    {
     "name": "stderr",
     "output_type": "stream",
     "text": [
      "\r",
      " 81%|████████  | 240/296 [22:18<05:41,  6.09s/it]"
     ]
    },
    {
     "name": "stderr",
     "output_type": "stream",
     "text": [
      "\r",
      " 81%|████████▏ | 241/296 [22:19<04:02,  4.40s/it]"
     ]
    },
    {
     "name": "stderr",
     "output_type": "stream",
     "text": [
      "\r",
      " 82%|████████▏ | 242/296 [22:19<02:53,  3.22s/it]"
     ]
    },
    {
     "name": "stderr",
     "output_type": "stream",
     "text": [
      "\r",
      " 82%|████████▏ | 243/296 [22:41<07:36,  8.62s/it]"
     ]
    },
    {
     "name": "stderr",
     "output_type": "stream",
     "text": [
      "\r",
      " 82%|████████▏ | 244/296 [22:41<05:16,  6.09s/it]"
     ]
    },
    {
     "name": "stderr",
     "output_type": "stream",
     "text": [
      "\r",
      " 83%|████████▎ | 245/296 [22:41<03:44,  4.40s/it]"
     ]
    },
    {
     "name": "stderr",
     "output_type": "stream",
     "text": [
      "\r",
      " 83%|████████▎ | 246/296 [22:42<02:40,  3.22s/it]"
     ]
    },
    {
     "name": "stderr",
     "output_type": "stream",
     "text": [
      "\r",
      " 83%|████████▎ | 247/296 [23:03<07:02,  8.63s/it]"
     ]
    },
    {
     "name": "stderr",
     "output_type": "stream",
     "text": [
      "\r",
      " 84%|████████▍ | 248/296 [23:03<04:52,  6.10s/it]"
     ]
    },
    {
     "name": "stderr",
     "output_type": "stream",
     "text": [
      "\r",
      " 84%|████████▍ | 249/296 [23:04<03:27,  4.41s/it]"
     ]
    },
    {
     "name": "stderr",
     "output_type": "stream",
     "text": [
      "\r",
      " 84%|████████▍ | 250/296 [23:04<02:28,  3.22s/it]"
     ]
    },
    {
     "name": "stderr",
     "output_type": "stream",
     "text": [
      "\r",
      " 85%|████████▍ | 251/296 [23:25<06:27,  8.62s/it]"
     ]
    },
    {
     "name": "stderr",
     "output_type": "stream",
     "text": [
      "\r",
      " 85%|████████▌ | 252/296 [23:25<04:27,  6.09s/it]"
     ]
    },
    {
     "name": "stderr",
     "output_type": "stream",
     "text": [
      "\r",
      " 85%|████████▌ | 253/296 [23:26<03:09,  4.40s/it]"
     ]
    },
    {
     "name": "stderr",
     "output_type": "stream",
     "text": [
      "\r",
      " 86%|████████▌ | 254/296 [23:26<02:15,  3.21s/it]"
     ]
    },
    {
     "name": "stderr",
     "output_type": "stream",
     "text": [
      "\r",
      " 86%|████████▌ | 255/296 [23:48<05:53,  8.62s/it]"
     ]
    },
    {
     "name": "stderr",
     "output_type": "stream",
     "text": [
      "\r",
      " 86%|████████▋ | 256/296 [23:48<04:03,  6.09s/it]"
     ]
    },
    {
     "name": "stderr",
     "output_type": "stream",
     "text": [
      "\r",
      " 87%|████████▋ | 257/296 [23:48<02:51,  4.40s/it]"
     ]
    },
    {
     "name": "stderr",
     "output_type": "stream",
     "text": [
      "\r",
      " 87%|████████▋ | 258/296 [23:49<02:02,  3.22s/it]"
     ]
    },
    {
     "name": "stderr",
     "output_type": "stream",
     "text": [
      "\r",
      " 88%|████████▊ | 259/296 [24:10<05:18,  8.62s/it]"
     ]
    },
    {
     "name": "stderr",
     "output_type": "stream",
     "text": [
      "\r",
      " 88%|████████▊ | 260/296 [24:10<03:39,  6.09s/it]"
     ]
    },
    {
     "name": "stderr",
     "output_type": "stream",
     "text": [
      "\r",
      " 88%|████████▊ | 261/296 [24:11<02:34,  4.40s/it]"
     ]
    },
    {
     "name": "stderr",
     "output_type": "stream",
     "text": [
      "\r",
      " 89%|████████▊ | 262/296 [24:11<01:49,  3.21s/it]"
     ]
    },
    {
     "name": "stderr",
     "output_type": "stream",
     "text": [
      "\r",
      " 89%|████████▉ | 263/296 [24:32<04:44,  8.61s/it]"
     ]
    },
    {
     "name": "stderr",
     "output_type": "stream",
     "text": [
      "\r",
      " 89%|████████▉ | 264/296 [24:32<03:14,  6.08s/it]"
     ]
    },
    {
     "name": "stderr",
     "output_type": "stream",
     "text": [
      "\r",
      " 90%|████████▉ | 265/296 [24:33<02:16,  4.40s/it]"
     ]
    },
    {
     "name": "stderr",
     "output_type": "stream",
     "text": [
      "\r",
      " 90%|████████▉ | 266/296 [24:33<01:36,  3.21s/it]"
     ]
    },
    {
     "name": "stderr",
     "output_type": "stream",
     "text": [
      "\r",
      " 90%|█████████ | 267/296 [24:54<04:09,  8.61s/it]"
     ]
    },
    {
     "name": "stderr",
     "output_type": "stream",
     "text": [
      "\r",
      " 91%|█████████ | 268/296 [24:55<02:50,  6.08s/it]"
     ]
    },
    {
     "name": "stderr",
     "output_type": "stream",
     "text": [
      "\r",
      " 91%|█████████ | 269/296 [24:55<01:58,  4.40s/it]"
     ]
    },
    {
     "name": "stderr",
     "output_type": "stream",
     "text": [
      "\r",
      " 91%|█████████ | 270/296 [24:56<01:23,  3.21s/it]"
     ]
    },
    {
     "name": "stderr",
     "output_type": "stream",
     "text": [
      "\r",
      " 92%|█████████▏| 271/296 [25:17<03:35,  8.60s/it]"
     ]
    },
    {
     "name": "stderr",
     "output_type": "stream",
     "text": [
      "\r",
      " 92%|█████████▏| 272/296 [25:17<02:25,  6.08s/it]"
     ]
    },
    {
     "name": "stderr",
     "output_type": "stream",
     "text": [
      "\r",
      " 92%|█████████▏| 273/296 [25:17<01:41,  4.39s/it]"
     ]
    },
    {
     "name": "stderr",
     "output_type": "stream",
     "text": [
      "\r",
      " 93%|█████████▎| 274/296 [25:18<01:10,  3.21s/it]"
     ]
    },
    {
     "name": "stderr",
     "output_type": "stream",
     "text": [
      "\r",
      " 93%|█████████▎| 275/296 [25:39<03:00,  8.61s/it]"
     ]
    },
    {
     "name": "stderr",
     "output_type": "stream",
     "text": [
      "\r",
      " 93%|█████████▎| 276/296 [25:39<02:01,  6.09s/it]"
     ]
    },
    {
     "name": "stderr",
     "output_type": "stream",
     "text": [
      "\r",
      " 94%|█████████▎| 277/296 [25:40<01:23,  4.40s/it]"
     ]
    },
    {
     "name": "stderr",
     "output_type": "stream",
     "text": [
      "\r",
      " 94%|█████████▍| 278/296 [25:40<00:57,  3.21s/it]"
     ]
    },
    {
     "name": "stderr",
     "output_type": "stream",
     "text": [
      "\r",
      " 94%|█████████▍| 279/296 [26:01<02:26,  8.61s/it]"
     ]
    },
    {
     "name": "stderr",
     "output_type": "stream",
     "text": [
      "\r",
      " 95%|█████████▍| 280/296 [26:02<01:37,  6.08s/it]"
     ]
    },
    {
     "name": "stderr",
     "output_type": "stream",
     "text": [
      "\r",
      " 95%|█████████▍| 281/296 [26:02<01:05,  4.40s/it]"
     ]
    },
    {
     "name": "stderr",
     "output_type": "stream",
     "text": [
      "\r",
      " 95%|█████████▌| 282/296 [26:02<00:44,  3.21s/it]"
     ]
    },
    {
     "name": "stderr",
     "output_type": "stream",
     "text": [
      "\r",
      " 96%|█████████▌| 283/296 [26:24<01:51,  8.60s/it]"
     ]
    },
    {
     "name": "stderr",
     "output_type": "stream",
     "text": [
      "\r",
      " 96%|█████████▌| 284/296 [26:24<01:12,  6.08s/it]"
     ]
    },
    {
     "name": "stderr",
     "output_type": "stream",
     "text": [
      "\r",
      " 96%|█████████▋| 285/296 [26:24<00:48,  4.39s/it]"
     ]
    },
    {
     "name": "stderr",
     "output_type": "stream",
     "text": [
      "\r",
      " 97%|█████████▋| 286/296 [26:25<00:32,  3.21s/it]"
     ]
    },
    {
     "name": "stderr",
     "output_type": "stream",
     "text": [
      "\r",
      " 97%|█████████▋| 287/296 [26:46<01:17,  8.60s/it]"
     ]
    },
    {
     "name": "stderr",
     "output_type": "stream",
     "text": [
      "\r",
      " 97%|█████████▋| 288/296 [26:46<00:48,  6.08s/it]"
     ]
    },
    {
     "name": "stderr",
     "output_type": "stream",
     "text": [
      "\r",
      " 98%|█████████▊| 289/296 [26:47<00:30,  4.40s/it]"
     ]
    },
    {
     "name": "stderr",
     "output_type": "stream",
     "text": [
      "\r",
      " 98%|█████████▊| 290/296 [26:47<00:19,  3.21s/it]"
     ]
    },
    {
     "name": "stderr",
     "output_type": "stream",
     "text": [
      "\r",
      " 98%|█████████▊| 291/296 [27:08<00:43,  8.61s/it]"
     ]
    },
    {
     "name": "stderr",
     "output_type": "stream",
     "text": [
      "\r",
      " 99%|█████████▊| 292/296 [27:08<00:24,  6.09s/it]"
     ]
    },
    {
     "name": "stderr",
     "output_type": "stream",
     "text": [
      "\r",
      " 99%|█████████▉| 293/296 [27:09<00:13,  4.40s/it]"
     ]
    },
    {
     "name": "stderr",
     "output_type": "stream",
     "text": [
      "\r",
      " 99%|█████████▉| 294/296 [27:09<00:06,  3.21s/it]"
     ]
    },
    {
     "name": "stderr",
     "output_type": "stream",
     "text": [
      "\r",
      "100%|█████████▉| 295/296 [27:31<00:08,  8.66s/it]"
     ]
    },
    {
     "name": "stderr",
     "output_type": "stream",
     "text": [
      "\r",
      "100%|██████████| 296/296 [27:31<00:00,  6.12s/it]"
     ]
    },
    {
     "name": "stderr",
     "output_type": "stream",
     "text": [
      "\r",
      "100%|██████████| 296/296 [27:31<00:00,  5.58s/it]"
     ]
    },
    {
     "name": "stderr",
     "output_type": "stream",
     "text": [
      "\n"
     ]
    }
   ],
   "source": [
    "ensemble = generate_ensemble(\n",
    "    data_dist,\n",
    "    CLUSTERERS,\n",
    "    attributes=CLUSTERING_ATTRIBUTES_TO_SAVE,\n",
    "    affinity_matrix=data_dist,\n",
    ")"
   ]
  },
  {
   "cell_type": "code",
   "execution_count": 25,
   "metadata": {
    "execution": {
     "iopub.execute_input": "2021-01-12T09:14:58.921782Z",
     "iopub.status.busy": "2021-01-12T09:14:58.921406Z",
     "iopub.status.idle": "2021-01-12T09:14:58.932543Z",
     "shell.execute_reply": "2021-01-12T09:14:58.932169Z"
    },
    "papermill": {
     "duration": 0.078263,
     "end_time": "2021-01-12T09:14:58.932631",
     "exception": false,
     "start_time": "2021-01-12T09:14:58.854368",
     "status": "completed"
    },
    "tags": []
   },
   "outputs": [
    {
     "data": {
      "text/plain": [
       "(296, 3)"
      ]
     },
     "execution_count": 25,
     "metadata": {},
     "output_type": "execute_result"
    }
   ],
   "source": [
    "# the number should be close to 295 (the number of partitions generated by k-means/spectral clustering)\n",
    "ensemble.shape"
   ]
  },
  {
   "cell_type": "code",
   "execution_count": 26,
   "metadata": {
    "execution": {
     "iopub.execute_input": "2021-01-12T09:14:59.064975Z",
     "iopub.status.busy": "2021-01-12T09:14:59.064533Z",
     "iopub.status.idle": "2021-01-12T09:14:59.082384Z",
     "shell.execute_reply": "2021-01-12T09:14:59.082008Z"
    },
    "papermill": {
     "duration": 0.084529,
     "end_time": "2021-01-12T09:14:59.082474",
     "exception": false,
     "start_time": "2021-01-12T09:14:58.997945",
     "status": "completed"
    },
    "tags": []
   },
   "outputs": [
    {
     "data": {
      "text/html": [
       "<div>\n",
       "<style scoped>\n",
       "    .dataframe tbody tr th:only-of-type {\n",
       "        vertical-align: middle;\n",
       "    }\n",
       "\n",
       "    .dataframe tbody tr th {\n",
       "        vertical-align: top;\n",
       "    }\n",
       "\n",
       "    .dataframe thead th {\n",
       "        text-align: right;\n",
       "    }\n",
       "</style>\n",
       "<table border=\"1\" class=\"dataframe\">\n",
       "  <thead>\n",
       "    <tr style=\"text-align: right;\">\n",
       "      <th></th>\n",
       "      <th>clusterer_params</th>\n",
       "      <th>partition</th>\n",
       "      <th>n_clusters</th>\n",
       "    </tr>\n",
       "    <tr>\n",
       "      <th>clusterer_id</th>\n",
       "      <th></th>\n",
       "      <th></th>\n",
       "      <th></th>\n",
       "    </tr>\n",
       "  </thead>\n",
       "  <tbody>\n",
       "    <tr>\n",
       "      <th>AgglomerativeClustering #0</th>\n",
       "      <td>{'affinity': 'precomputed', 'compute_full_tree...</td>\n",
       "      <td>[0.0, 0.0, 0.0, 0.0, 0.0, 0.0, 0.0, 0.0, 0.0, ...</td>\n",
       "      <td>2</td>\n",
       "    </tr>\n",
       "    <tr>\n",
       "      <th>AgglomerativeClustering #1</th>\n",
       "      <td>{'affinity': 'precomputed', 'compute_full_tree...</td>\n",
       "      <td>[0.0, 0.0, 0.0, 0.0, 0.0, 0.0, 0.0, 0.0, 0.0, ...</td>\n",
       "      <td>2</td>\n",
       "    </tr>\n",
       "    <tr>\n",
       "      <th>AgglomerativeClustering #2</th>\n",
       "      <td>{'affinity': 'euclidean', 'compute_full_tree':...</td>\n",
       "      <td>[1.0, 1.0, 1.0, 1.0, 1.0, 1.0, 1.0, 1.0, 1.0, ...</td>\n",
       "      <td>2</td>\n",
       "    </tr>\n",
       "    <tr>\n",
       "      <th>AgglomerativeClustering #3</th>\n",
       "      <td>{'affinity': 'precomputed', 'compute_full_tree...</td>\n",
       "      <td>[0.0, 0.0, 0.0, 0.0, 0.0, 0.0, 0.0, 0.0, 0.0, ...</td>\n",
       "      <td>2</td>\n",
       "    </tr>\n",
       "    <tr>\n",
       "      <th>AgglomerativeClustering #4</th>\n",
       "      <td>{'affinity': 'precomputed', 'compute_full_tree...</td>\n",
       "      <td>[1.0, 1.0, 1.0, 1.0, 1.0, 1.0, 1.0, 1.0, 1.0, ...</td>\n",
       "      <td>3</td>\n",
       "    </tr>\n",
       "  </tbody>\n",
       "</table>\n",
       "</div>"
      ],
      "text/plain": [
       "                                                             clusterer_params  \\\n",
       "clusterer_id                                                                    \n",
       "AgglomerativeClustering #0  {'affinity': 'precomputed', 'compute_full_tree...   \n",
       "AgglomerativeClustering #1  {'affinity': 'precomputed', 'compute_full_tree...   \n",
       "AgglomerativeClustering #2  {'affinity': 'euclidean', 'compute_full_tree':...   \n",
       "AgglomerativeClustering #3  {'affinity': 'precomputed', 'compute_full_tree...   \n",
       "AgglomerativeClustering #4  {'affinity': 'precomputed', 'compute_full_tree...   \n",
       "\n",
       "                                                                    partition  \\\n",
       "clusterer_id                                                                    \n",
       "AgglomerativeClustering #0  [0.0, 0.0, 0.0, 0.0, 0.0, 0.0, 0.0, 0.0, 0.0, ...   \n",
       "AgglomerativeClustering #1  [0.0, 0.0, 0.0, 0.0, 0.0, 0.0, 0.0, 0.0, 0.0, ...   \n",
       "AgglomerativeClustering #2  [1.0, 1.0, 1.0, 1.0, 1.0, 1.0, 1.0, 1.0, 1.0, ...   \n",
       "AgglomerativeClustering #3  [0.0, 0.0, 0.0, 0.0, 0.0, 0.0, 0.0, 0.0, 0.0, ...   \n",
       "AgglomerativeClustering #4  [1.0, 1.0, 1.0, 1.0, 1.0, 1.0, 1.0, 1.0, 1.0, ...   \n",
       "\n",
       "                            n_clusters  \n",
       "clusterer_id                            \n",
       "AgglomerativeClustering #0           2  \n",
       "AgglomerativeClustering #1           2  \n",
       "AgglomerativeClustering #2           2  \n",
       "AgglomerativeClustering #3           2  \n",
       "AgglomerativeClustering #4           3  "
      ]
     },
     "execution_count": 26,
     "metadata": {},
     "output_type": "execute_result"
    }
   ],
   "source": [
    "ensemble.head()"
   ]
  },
  {
   "cell_type": "code",
   "execution_count": 27,
   "metadata": {
    "execution": {
     "iopub.execute_input": "2021-01-12T09:14:59.217158Z",
     "iopub.status.busy": "2021-01-12T09:14:59.216754Z",
     "iopub.status.idle": "2021-01-12T09:14:59.228616Z",
     "shell.execute_reply": "2021-01-12T09:14:59.228249Z"
    },
    "papermill": {
     "duration": 0.08069,
     "end_time": "2021-01-12T09:14:59.228739",
     "exception": false,
     "start_time": "2021-01-12T09:14:59.148049",
     "status": "completed"
    },
    "tags": []
   },
   "outputs": [
    {
     "data": {
      "text/plain": [
       "75    4\n",
       "20    4\n",
       "22    4\n",
       "23    4\n",
       "24    4\n",
       "Name: n_clusters, dtype: int64"
      ]
     },
     "execution_count": 27,
     "metadata": {},
     "output_type": "execute_result"
    }
   ],
   "source": [
    "ensemble[\"n_clusters\"].value_counts().head()"
   ]
  },
  {
   "cell_type": "code",
   "execution_count": 28,
   "metadata": {
    "execution": {
     "iopub.execute_input": "2021-01-12T09:14:59.362712Z",
     "iopub.status.busy": "2021-01-12T09:14:59.362345Z",
     "iopub.status.idle": "2021-01-12T09:14:59.375147Z",
     "shell.execute_reply": "2021-01-12T09:14:59.374769Z"
    },
    "papermill": {
     "duration": 0.080661,
     "end_time": "2021-01-12T09:14:59.375234",
     "exception": false,
     "start_time": "2021-01-12T09:14:59.294573",
     "status": "completed"
    },
    "tags": []
   },
   "outputs": [
    {
     "data": {
      "text/plain": [
       "count    296.000000\n",
       "mean      38.500000\n",
       "std       21.396182\n",
       "min        2.000000\n",
       "25%       20.000000\n",
       "50%       38.500000\n",
       "75%       57.000000\n",
       "max       75.000000\n",
       "Name: n_clusters, dtype: float64"
      ]
     },
     "metadata": {},
     "output_type": "display_data"
    }
   ],
   "source": [
    "ensemble_stats = ensemble[\"n_clusters\"].describe()\n",
    "display(ensemble_stats)"
   ]
  },
  {
   "cell_type": "markdown",
   "metadata": {
    "papermill": {
     "duration": 0.066149,
     "end_time": "2021-01-12T09:14:59.507964",
     "exception": false,
     "start_time": "2021-01-12T09:14:59.441815",
     "status": "completed"
    },
    "tags": []
   },
   "source": [
    "### Testing"
   ]
  },
  {
   "cell_type": "code",
   "execution_count": 29,
   "metadata": {
    "execution": {
     "iopub.execute_input": "2021-01-12T09:14:59.644498Z",
     "iopub.status.busy": "2021-01-12T09:14:59.644134Z",
     "iopub.status.idle": "2021-01-12T09:14:59.653839Z",
     "shell.execute_reply": "2021-01-12T09:14:59.653457Z"
    },
    "papermill": {
     "duration": 0.078271,
     "end_time": "2021-01-12T09:14:59.653928",
     "exception": false,
     "start_time": "2021-01-12T09:14:59.575657",
     "status": "completed"
    },
    "tags": []
   },
   "outputs": [],
   "source": [
    "assert ensemble_stats[\"min\"] > 1"
   ]
  },
  {
   "cell_type": "code",
   "execution_count": 30,
   "metadata": {
    "execution": {
     "iopub.execute_input": "2021-01-12T09:14:59.787667Z",
     "iopub.status.busy": "2021-01-12T09:14:59.787291Z",
     "iopub.status.idle": "2021-01-12T09:14:59.797494Z",
     "shell.execute_reply": "2021-01-12T09:14:59.797107Z"
    },
    "papermill": {
     "duration": 0.078306,
     "end_time": "2021-01-12T09:14:59.797583",
     "exception": false,
     "start_time": "2021-01-12T09:14:59.719277",
     "status": "completed"
    },
    "tags": []
   },
   "outputs": [],
   "source": [
    "assert not ensemble[\"n_clusters\"].isna().any()"
   ]
  },
  {
   "cell_type": "code",
   "execution_count": 31,
   "metadata": {
    "execution": {
     "iopub.execute_input": "2021-01-12T09:14:59.932612Z",
     "iopub.status.busy": "2021-01-12T09:14:59.932247Z",
     "iopub.status.idle": "2021-01-12T09:14:59.941887Z",
     "shell.execute_reply": "2021-01-12T09:14:59.941518Z"
    },
    "papermill": {
     "duration": 0.077632,
     "end_time": "2021-01-12T09:14:59.941974",
     "exception": false,
     "start_time": "2021-01-12T09:14:59.864342",
     "status": "completed"
    },
    "tags": []
   },
   "outputs": [],
   "source": [
    "assert ensemble.shape[0] == len(CLUSTERERS)"
   ]
  },
  {
   "cell_type": "code",
   "execution_count": 32,
   "metadata": {
    "execution": {
     "iopub.execute_input": "2021-01-12T09:15:00.077322Z",
     "iopub.status.busy": "2021-01-12T09:15:00.076958Z",
     "iopub.status.idle": "2021-01-12T09:15:00.104464Z",
     "shell.execute_reply": "2021-01-12T09:15:00.104083Z"
    },
    "papermill": {
     "duration": 0.096377,
     "end_time": "2021-01-12T09:15:00.104553",
     "exception": false,
     "start_time": "2021-01-12T09:15:00.008176",
     "status": "completed"
    },
    "tags": []
   },
   "outputs": [],
   "source": [
    "# all partitions have the right size\n",
    "assert np.all(\n",
    "    [part[\"partition\"].shape[0] == data.shape[0] for idx, part in ensemble.iterrows()]\n",
    ")"
   ]
  },
  {
   "cell_type": "code",
   "execution_count": 33,
   "metadata": {
    "execution": {
     "iopub.execute_input": "2021-01-12T09:15:00.240275Z",
     "iopub.status.busy": "2021-01-12T09:15:00.239910Z",
     "iopub.status.idle": "2021-01-12T09:15:00.270549Z",
     "shell.execute_reply": "2021-01-12T09:15:00.270865Z"
    },
    "papermill": {
     "duration": 0.100315,
     "end_time": "2021-01-12T09:15:00.270975",
     "exception": false,
     "start_time": "2021-01-12T09:15:00.170660",
     "status": "completed"
    },
    "tags": []
   },
   "outputs": [],
   "source": [
    "# no partition has negative clusters (noisy points)\n",
    "assert not np.any([(part[\"partition\"] < 0).any() for idx, part in ensemble.iterrows()])"
   ]
  },
  {
   "cell_type": "markdown",
   "metadata": {
    "papermill": {
     "duration": 0.064993,
     "end_time": "2021-01-12T09:15:00.402709",
     "exception": false,
     "start_time": "2021-01-12T09:15:00.337716",
     "status": "completed"
    },
    "tags": []
   },
   "source": [
    "## Save"
   ]
  },
  {
   "cell_type": "code",
   "execution_count": 34,
   "metadata": {
    "execution": {
     "iopub.execute_input": "2021-01-12T09:15:00.535517Z",
     "iopub.status.busy": "2021-01-12T09:15:00.535144Z",
     "iopub.status.idle": "2021-01-12T09:15:00.546188Z",
     "shell.execute_reply": "2021-01-12T09:15:00.545813Z"
    },
    "papermill": {
     "duration": 0.078513,
     "end_time": "2021-01-12T09:15:00.546277",
     "exception": false,
     "start_time": "2021-01-12T09:15:00.467764",
     "status": "completed"
    },
    "tags": []
   },
   "outputs": [
    {
     "data": {
      "text/plain": [
       "PosixPath('/home/miltondp/projects/labs/greenelab/phenoplier/base3/results/clustering/runs/z_score_std-projection-smultixcan-efo_partial-mashr-zscores/AgglomerativeClustering-AFFINITY_euclidean-K_MAX_75-K_MIN_2.pkl')"
      ]
     },
     "metadata": {},
     "output_type": "display_data"
    }
   ],
   "source": [
    "del CLUSTERING_OPTIONS[\"LINKAGE\"]\n",
    "\n",
    "output_filename = Path(\n",
    "    RESULTS_DIR,\n",
    "    generate_result_set_name(\n",
    "        CLUSTERING_OPTIONS,\n",
    "        prefix=f\"{clustering_method_name}-\",\n",
    "        suffix=\".pkl\",\n",
    "    ),\n",
    ").resolve()\n",
    "display(output_filename)"
   ]
  },
  {
   "cell_type": "code",
   "execution_count": 35,
   "metadata": {
    "execution": {
     "iopub.execute_input": "2021-01-12T09:15:00.679689Z",
     "iopub.status.busy": "2021-01-12T09:15:00.679327Z",
     "iopub.status.idle": "2021-01-12T09:15:00.696488Z",
     "shell.execute_reply": "2021-01-12T09:15:00.696146Z"
    },
    "papermill": {
     "duration": 0.084788,
     "end_time": "2021-01-12T09:15:00.696585",
     "exception": false,
     "start_time": "2021-01-12T09:15:00.611797",
     "status": "completed"
    },
    "tags": []
   },
   "outputs": [],
   "source": [
    "ensemble.to_pickle(output_filename)"
   ]
  },
  {
   "cell_type": "code",
   "execution_count": null,
   "metadata": {
    "papermill": {
     "duration": 0.065894,
     "end_time": "2021-01-12T09:15:00.830422",
     "exception": false,
     "start_time": "2021-01-12T09:15:00.764528",
     "status": "completed"
    },
    "tags": []
   },
   "outputs": [],
   "source": []
  }
 ],
 "metadata": {
  "jupytext": {
   "cell_metadata_filter": "all,-execution,-papermill",
   "formats": "ipynb,py//py:percent"
  },
  "kernelspec": {
   "display_name": "Python 3",
   "language": "python",
   "name": "python3"
  },
  "language_info": {
   "codemirror_mode": {
    "name": "ipython",
    "version": 3
   },
   "file_extension": ".py",
   "mimetype": "text/x-python",
   "name": "python",
   "nbconvert_exporter": "python",
   "pygments_lexer": "ipython3",
   "version": "3.8.6"
  },
  "papermill": {
   "default_parameters": {},
   "duration": 1658.50288,
   "end_time": "2021-01-12T09:15:02.199605",
   "environment_variables": {},
   "exception": null,
   "input_path": "15_cluster_analysis/003_00-hc-z_score_std.ipynb",
   "output_path": "15_cluster_analysis/003_00-hc-z_score_std.run.ipynb",
   "parameters": {},
   "start_time": "2021-01-12T08:47:23.696725",
   "version": "2.2.2"
  },
  "toc-autonumbering": true,
  "toc-showcode": false,
  "toc-showmarkdowntxt": false,
  "toc-showtags": false
 },
 "nbformat": 4,
 "nbformat_minor": 4
}
