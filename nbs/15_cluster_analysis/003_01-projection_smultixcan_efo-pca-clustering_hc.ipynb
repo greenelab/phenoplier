{
 "cells": [
  {
   "cell_type": "markdown",
   "metadata": {
    "papermill": {
     "duration": 0.048626,
     "end_time": "2020-12-03T01:50:03.921560",
     "exception": false,
     "start_time": "2020-12-03T01:50:03.872934",
     "status": "completed"
    },
    "tags": []
   },
   "source": [
    "# Description"
   ]
  },
  {
   "cell_type": "markdown",
   "metadata": {
    "papermill": {
     "duration": 0.014679,
     "end_time": "2020-12-03T01:50:03.953555",
     "exception": false,
     "start_time": "2020-12-03T01:50:03.938876",
     "status": "completed"
    },
    "tags": []
   },
   "source": [
    "Runs hierarchical clustering on the pca version of the data."
   ]
  },
  {
   "cell_type": "markdown",
   "metadata": {
    "papermill": {
     "duration": 0.014887,
     "end_time": "2020-12-03T01:50:03.983355",
     "exception": false,
     "start_time": "2020-12-03T01:50:03.968468",
     "status": "completed"
    },
    "tags": []
   },
   "source": [
    "# Environment variables"
   ]
  },
  {
   "cell_type": "code",
   "execution_count": 1,
   "metadata": {
    "execution": {
     "iopub.execute_input": "2020-12-03T01:50:04.017611Z",
     "iopub.status.busy": "2020-12-03T01:50:04.017209Z",
     "iopub.status.idle": "2020-12-03T01:50:04.028242Z",
     "shell.execute_reply": "2020-12-03T01:50:04.027812Z"
    },
    "papermill": {
     "duration": 0.029956,
     "end_time": "2020-12-03T01:50:04.028364",
     "exception": false,
     "start_time": "2020-12-03T01:50:03.998408",
     "status": "completed"
    },
    "tags": []
   },
   "outputs": [
    {
     "data": {
      "text/plain": [
       "3"
      ]
     },
     "metadata": {},
     "output_type": "display_data"
    }
   ],
   "source": [
    "from IPython.display import display\n",
    "\n",
    "import conf\n",
    "\n",
    "N_JOBS = conf.GENERAL['N_JOBS']\n",
    "display(N_JOBS)"
   ]
  },
  {
   "cell_type": "code",
   "execution_count": 2,
   "metadata": {
    "execution": {
     "iopub.execute_input": "2020-12-03T01:50:04.065320Z",
     "iopub.status.busy": "2020-12-03T01:50:04.064862Z",
     "iopub.status.idle": "2020-12-03T01:50:04.067051Z",
     "shell.execute_reply": "2020-12-03T01:50:04.067360Z"
    },
    "papermill": {
     "duration": 0.022867,
     "end_time": "2020-12-03T01:50:04.067468",
     "exception": false,
     "start_time": "2020-12-03T01:50:04.044601",
     "status": "completed"
    },
    "tags": []
   },
   "outputs": [
    {
     "name": "stdout",
     "output_type": "stream",
     "text": [
      "env: MKL_NUM_THREADS=3\n",
      "env: OPEN_BLAS_NUM_THREADS=3\n",
      "env: NUMEXPR_NUM_THREADS=3\n",
      "env: OMP_NUM_THREADS=3\n"
     ]
    }
   ],
   "source": [
    "%env MKL_NUM_THREADS=$N_JOBS\n",
    "%env OPEN_BLAS_NUM_THREADS=$N_JOBS\n",
    "%env NUMEXPR_NUM_THREADS=$N_JOBS\n",
    "%env OMP_NUM_THREADS=$N_JOBS"
   ]
  },
  {
   "cell_type": "markdown",
   "metadata": {
    "papermill": {
     "duration": 0.015796,
     "end_time": "2020-12-03T01:50:04.099762",
     "exception": false,
     "start_time": "2020-12-03T01:50:04.083966",
     "status": "completed"
    },
    "tags": []
   },
   "source": [
    "# Modules loading"
   ]
  },
  {
   "cell_type": "code",
   "execution_count": 3,
   "metadata": {
    "execution": {
     "iopub.execute_input": "2020-12-03T01:50:04.133962Z",
     "iopub.status.busy": "2020-12-03T01:50:04.133602Z",
     "iopub.status.idle": "2020-12-03T01:50:04.141402Z",
     "shell.execute_reply": "2020-12-03T01:50:04.141023Z"
    },
    "papermill": {
     "duration": 0.025873,
     "end_time": "2020-12-03T01:50:04.141491",
     "exception": false,
     "start_time": "2020-12-03T01:50:04.115618",
     "status": "completed"
    },
    "tags": []
   },
   "outputs": [],
   "source": [
    "%load_ext autoreload\n",
    "%autoreload 2"
   ]
  },
  {
   "cell_type": "code",
   "execution_count": 4,
   "metadata": {
    "execution": {
     "iopub.execute_input": "2020-12-03T01:50:04.175847Z",
     "iopub.status.busy": "2020-12-03T01:50:04.175485Z",
     "iopub.status.idle": "2020-12-03T01:50:05.771340Z",
     "shell.execute_reply": "2020-12-03T01:50:05.771667Z"
    },
    "papermill": {
     "duration": 1.614215,
     "end_time": "2020-12-03T01:50:05.771795",
     "exception": false,
     "start_time": "2020-12-03T01:50:04.157580",
     "status": "completed"
    },
    "tags": []
   },
   "outputs": [],
   "source": [
    "from pathlib import Path\n",
    "\n",
    "import numpy as np\n",
    "import pandas as pd\n",
    "import umap\n",
    "import matplotlib.pyplot as plt\n",
    "import seaborn as sns\n",
    "\n",
    "from utils import generate_result_set_name"
   ]
  },
  {
   "cell_type": "markdown",
   "metadata": {
    "papermill": {
     "duration": 0.016,
     "end_time": "2020-12-03T01:50:05.805223",
     "exception": false,
     "start_time": "2020-12-03T01:50:05.789223",
     "status": "completed"
    },
    "tags": []
   },
   "source": [
    "# Settings"
   ]
  },
  {
   "cell_type": "markdown",
   "metadata": {
    "papermill": {
     "duration": 0.015496,
     "end_time": "2020-12-03T01:50:05.837659",
     "exception": false,
     "start_time": "2020-12-03T01:50:05.822163",
     "status": "completed"
    },
    "tags": []
   },
   "source": [
    "## Input data"
   ]
  },
  {
   "cell_type": "code",
   "execution_count": 5,
   "metadata": {
    "execution": {
     "iopub.execute_input": "2020-12-03T01:50:05.871573Z",
     "iopub.status.busy": "2020-12-03T01:50:05.871209Z",
     "iopub.status.idle": "2020-12-03T01:50:05.882613Z",
     "shell.execute_reply": "2020-12-03T01:50:05.882898Z"
    },
    "papermill": {
     "duration": 0.029533,
     "end_time": "2020-12-03T01:50:05.883008",
     "exception": false,
     "start_time": "2020-12-03T01:50:05.853475",
     "status": "completed"
    },
    "tags": []
   },
   "outputs": [],
   "source": [
    "INPUT_SUBSET = 'pca'"
   ]
  },
  {
   "cell_type": "code",
   "execution_count": 6,
   "metadata": {
    "execution": {
     "iopub.execute_input": "2020-12-03T01:50:05.917216Z",
     "iopub.status.busy": "2020-12-03T01:50:05.916850Z",
     "iopub.status.idle": "2020-12-03T01:50:05.928377Z",
     "shell.execute_reply": "2020-12-03T01:50:05.927997Z"
    },
    "papermill": {
     "duration": 0.029571,
     "end_time": "2020-12-03T01:50:05.928466",
     "exception": false,
     "start_time": "2020-12-03T01:50:05.898895",
     "status": "completed"
    },
    "tags": []
   },
   "outputs": [],
   "source": [
    "INPUT_STEM = 'z_score_std-projection-smultixcan-efo_partial-mashr-zscores'"
   ]
  },
  {
   "cell_type": "code",
   "execution_count": 7,
   "metadata": {
    "execution": {
     "iopub.execute_input": "2020-12-03T01:50:05.963927Z",
     "iopub.status.busy": "2020-12-03T01:50:05.963560Z",
     "iopub.status.idle": "2020-12-03T01:50:05.974737Z",
     "shell.execute_reply": "2020-12-03T01:50:05.975014Z"
    },
    "papermill": {
     "duration": 0.030005,
     "end_time": "2020-12-03T01:50:05.975123",
     "exception": false,
     "start_time": "2020-12-03T01:50:05.945118",
     "status": "completed"
    },
    "tags": []
   },
   "outputs": [],
   "source": [
    "# parameters of the dimentionality reduction steps\n",
    "DR_OPTIONS = {\n",
    "    'n_components': 50,\n",
    "    'svd_solver': 'full',\n",
    "    'random_state': 0,\n",
    "}"
   ]
  },
  {
   "cell_type": "code",
   "execution_count": 8,
   "metadata": {
    "execution": {
     "iopub.execute_input": "2020-12-03T01:50:06.009513Z",
     "iopub.status.busy": "2020-12-03T01:50:06.009133Z",
     "iopub.status.idle": "2020-12-03T01:50:06.022780Z",
     "shell.execute_reply": "2020-12-03T01:50:06.023075Z"
    },
    "papermill": {
     "duration": 0.032144,
     "end_time": "2020-12-03T01:50:06.023180",
     "exception": false,
     "start_time": "2020-12-03T01:50:05.991036",
     "status": "completed"
    },
    "tags": []
   },
   "outputs": [
    {
     "data": {
      "text/plain": [
       "PosixPath('/home/miltondp/projects/labs/greenelab/phenoplier/base/results/data_transformations/pca/pca-z_score_std-projection-smultixcan-efo_partial-mashr-zscores-n_components_50-random_state_0-svd_solver_full.pkl')"
      ]
     },
     "metadata": {},
     "output_type": "display_data"
    },
    {
     "data": {
      "text/plain": [
       "'pca-z_score_std-projection-smultixcan-efo_partial-mashr-zscores-n_components_50-random_state_0-svd_solver_full'"
      ]
     },
     "metadata": {},
     "output_type": "display_data"
    }
   ],
   "source": [
    "input_filepath = Path(\n",
    "    conf.RESULTS[\"DATA_TRANSFORMATIONS_DIR\"],\n",
    "    INPUT_SUBSET,\n",
    "    generate_result_set_name(\n",
    "        DR_OPTIONS,\n",
    "        prefix=f'{INPUT_SUBSET}-{INPUT_STEM}-',\n",
    "        suffix='.pkl'\n",
    "    )\n",
    ").resolve()\n",
    "display(input_filepath)\n",
    "\n",
    "assert input_filepath.exists(), 'Input file does not exist'\n",
    "\n",
    "input_filepath_stem = input_filepath.stem\n",
    "display(input_filepath_stem)"
   ]
  },
  {
   "cell_type": "markdown",
   "metadata": {
    "papermill": {
     "duration": 0.015974,
     "end_time": "2020-12-03T01:50:06.055225",
     "exception": false,
     "start_time": "2020-12-03T01:50:06.039251",
     "status": "completed"
    },
    "tags": []
   },
   "source": [
    "## Clustering"
   ]
  },
  {
   "cell_type": "code",
   "execution_count": 9,
   "metadata": {
    "execution": {
     "iopub.execute_input": "2020-12-03T01:50:06.089873Z",
     "iopub.status.busy": "2020-12-03T01:50:06.089498Z",
     "iopub.status.idle": "2020-12-03T01:50:06.107370Z",
     "shell.execute_reply": "2020-12-03T01:50:06.107661Z"
    },
    "papermill": {
     "duration": 0.036409,
     "end_time": "2020-12-03T01:50:06.107776",
     "exception": false,
     "start_time": "2020-12-03T01:50:06.071367",
     "status": "completed"
    },
    "tags": []
   },
   "outputs": [],
   "source": [
    "from sklearn.cluster import AgglomerativeClustering"
   ]
  },
  {
   "cell_type": "code",
   "execution_count": 10,
   "metadata": {
    "execution": {
     "iopub.execute_input": "2020-12-03T01:50:06.144336Z",
     "iopub.status.busy": "2020-12-03T01:50:06.143974Z",
     "iopub.status.idle": "2020-12-03T01:50:06.155981Z",
     "shell.execute_reply": "2020-12-03T01:50:06.155631Z"
    },
    "papermill": {
     "duration": 0.03114,
     "end_time": "2020-12-03T01:50:06.156070",
     "exception": false,
     "start_time": "2020-12-03T01:50:06.124930",
     "status": "completed"
    },
    "tags": []
   },
   "outputs": [],
   "source": [
    "CLUSTERING_ATTRIBUTES_TO_SAVE = ['n_clusters']"
   ]
  },
  {
   "cell_type": "code",
   "execution_count": 11,
   "metadata": {
    "execution": {
     "iopub.execute_input": "2020-12-03T01:50:06.192057Z",
     "iopub.status.busy": "2020-12-03T01:50:06.191695Z",
     "iopub.status.idle": "2020-12-03T01:50:06.204483Z",
     "shell.execute_reply": "2020-12-03T01:50:06.204118Z"
    },
    "papermill": {
     "duration": 0.031859,
     "end_time": "2020-12-03T01:50:06.204567",
     "exception": false,
     "start_time": "2020-12-03T01:50:06.172708",
     "status": "completed"
    },
    "tags": []
   },
   "outputs": [
    {
     "data": {
      "text/plain": [
       "{'K_MIN': 2,\n",
       " 'K_MAX': 75,\n",
       " 'LINKAGE': {'average', 'complete', 'single', 'ward'},\n",
       " 'AFFINITY': 'euclidean'}"
      ]
     },
     "metadata": {},
     "output_type": "display_data"
    }
   ],
   "source": [
    "CLUSTERING_OPTIONS = {}\n",
    "\n",
    "CLUSTERING_OPTIONS['K_MIN'] = 2\n",
    "CLUSTERING_OPTIONS['K_MAX'] = 75 # sqrt(3749) + some more to get closer to 295\n",
    "CLUSTERING_OPTIONS['LINKAGE'] = {'ward', 'complete', 'average', 'single'}\n",
    "CLUSTERING_OPTIONS['AFFINITY'] = 'euclidean'\n",
    "\n",
    "display(CLUSTERING_OPTIONS)"
   ]
  },
  {
   "cell_type": "code",
   "execution_count": 12,
   "metadata": {
    "execution": {
     "iopub.execute_input": "2020-12-03T01:50:06.241082Z",
     "iopub.status.busy": "2020-12-03T01:50:06.240662Z",
     "iopub.status.idle": "2020-12-03T01:50:06.253317Z",
     "shell.execute_reply": "2020-12-03T01:50:06.252996Z"
    },
    "papermill": {
     "duration": 0.031741,
     "end_time": "2020-12-03T01:50:06.253411",
     "exception": false,
     "start_time": "2020-12-03T01:50:06.221670",
     "status": "completed"
    },
    "tags": []
   },
   "outputs": [],
   "source": [
    "CLUSTERERS = {}\n",
    "\n",
    "idx = 0\n",
    "\n",
    "for k in range(CLUSTERING_OPTIONS['K_MIN'], CLUSTERING_OPTIONS['K_MAX']+1):\n",
    "    for linkage in CLUSTERING_OPTIONS['LINKAGE']:\n",
    "        if linkage == 'ward':\n",
    "            affinity = 'euclidean'\n",
    "        else:\n",
    "            affinity = 'precomputed'\n",
    "        \n",
    "        clus = AgglomerativeClustering(\n",
    "                n_clusters=k,\n",
    "                affinity=affinity,\n",
    "                linkage=linkage,\n",
    "            )\n",
    "        \n",
    "        method_name = type(clus).__name__\n",
    "        CLUSTERERS[f'{method_name} #{idx}'] = clus\n",
    "        \n",
    "        idx = idx + 1"
   ]
  },
  {
   "cell_type": "code",
   "execution_count": 13,
   "metadata": {
    "execution": {
     "iopub.execute_input": "2020-12-03T01:50:06.291031Z",
     "iopub.status.busy": "2020-12-03T01:50:06.290671Z",
     "iopub.status.idle": "2020-12-03T01:50:06.303296Z",
     "shell.execute_reply": "2020-12-03T01:50:06.302909Z"
    },
    "papermill": {
     "duration": 0.032565,
     "end_time": "2020-12-03T01:50:06.303387",
     "exception": false,
     "start_time": "2020-12-03T01:50:06.270822",
     "status": "completed"
    },
    "tags": []
   },
   "outputs": [
    {
     "data": {
      "text/plain": [
       "296"
      ]
     },
     "metadata": {},
     "output_type": "display_data"
    }
   ],
   "source": [
    "display(len(CLUSTERERS))"
   ]
  },
  {
   "cell_type": "code",
   "execution_count": 14,
   "metadata": {
    "execution": {
     "iopub.execute_input": "2020-12-03T01:50:06.340429Z",
     "iopub.status.busy": "2020-12-03T01:50:06.340066Z",
     "iopub.status.idle": "2020-12-03T01:50:06.354194Z",
     "shell.execute_reply": "2020-12-03T01:50:06.353886Z"
    },
    "papermill": {
     "duration": 0.033443,
     "end_time": "2020-12-03T01:50:06.354284",
     "exception": false,
     "start_time": "2020-12-03T01:50:06.320841",
     "status": "completed"
    },
    "tags": []
   },
   "outputs": [
    {
     "data": {
      "text/plain": [
       "('AgglomerativeClustering #0',\n",
       " AgglomerativeClustering(affinity='precomputed', linkage='average'))"
      ]
     },
     "metadata": {},
     "output_type": "display_data"
    },
    {
     "data": {
      "text/plain": [
       "('AgglomerativeClustering #1',\n",
       " AgglomerativeClustering(affinity='precomputed', linkage='complete'))"
      ]
     },
     "metadata": {},
     "output_type": "display_data"
    }
   ],
   "source": [
    "_iter = iter(CLUSTERERS.items())\n",
    "display(next(_iter))\n",
    "display(next(_iter))"
   ]
  },
  {
   "cell_type": "code",
   "execution_count": 15,
   "metadata": {
    "execution": {
     "iopub.execute_input": "2020-12-03T01:50:06.390686Z",
     "iopub.status.busy": "2020-12-03T01:50:06.390327Z",
     "iopub.status.idle": "2020-12-03T01:50:06.403773Z",
     "shell.execute_reply": "2020-12-03T01:50:06.403408Z"
    },
    "papermill": {
     "duration": 0.032183,
     "end_time": "2020-12-03T01:50:06.403860",
     "exception": false,
     "start_time": "2020-12-03T01:50:06.371677",
     "status": "completed"
    },
    "tags": []
   },
   "outputs": [
    {
     "data": {
      "text/plain": [
       "'AgglomerativeClustering'"
      ]
     },
     "metadata": {},
     "output_type": "display_data"
    }
   ],
   "source": [
    "clustering_method_name = method_name\n",
    "display(clustering_method_name)"
   ]
  },
  {
   "cell_type": "markdown",
   "metadata": {
    "papermill": {
     "duration": 0.016904,
     "end_time": "2020-12-03T01:50:06.438446",
     "exception": false,
     "start_time": "2020-12-03T01:50:06.421542",
     "status": "completed"
    },
    "tags": []
   },
   "source": [
    "## Output directory"
   ]
  },
  {
   "cell_type": "code",
   "execution_count": 16,
   "metadata": {
    "execution": {
     "iopub.execute_input": "2020-12-03T01:50:06.475286Z",
     "iopub.status.busy": "2020-12-03T01:50:06.474915Z",
     "iopub.status.idle": "2020-12-03T01:50:06.487666Z",
     "shell.execute_reply": "2020-12-03T01:50:06.487293Z"
    },
    "papermill": {
     "duration": 0.03247,
     "end_time": "2020-12-03T01:50:06.487753",
     "exception": false,
     "start_time": "2020-12-03T01:50:06.455283",
     "status": "completed"
    },
    "tags": []
   },
   "outputs": [
    {
     "data": {
      "text/plain": [
       "PosixPath('/home/miltondp/projects/labs/greenelab/phenoplier/base/results/clustering/runs/pca-z_score_std-projection-smultixcan-efo_partial-mashr-zscores')"
      ]
     },
     "metadata": {},
     "output_type": "display_data"
    }
   ],
   "source": [
    "# output dir for this notebook\n",
    "RESULTS_DIR = Path(\n",
    "    conf.RESULTS[\"CLUSTERING_RUNS_DIR\"],\n",
    "    f'{INPUT_SUBSET}-{INPUT_STEM}',\n",
    ").resolve()\n",
    "RESULTS_DIR.mkdir(parents=True, exist_ok=True)\n",
    "\n",
    "display(RESULTS_DIR)"
   ]
  },
  {
   "cell_type": "markdown",
   "metadata": {
    "papermill": {
     "duration": 0.01732,
     "end_time": "2020-12-03T01:50:06.523050",
     "exception": false,
     "start_time": "2020-12-03T01:50:06.505730",
     "status": "completed"
    },
    "tags": []
   },
   "source": [
    "# Load input file"
   ]
  },
  {
   "cell_type": "code",
   "execution_count": 17,
   "metadata": {
    "execution": {
     "iopub.execute_input": "2020-12-03T01:50:06.559515Z",
     "iopub.status.busy": "2020-12-03T01:50:06.559156Z",
     "iopub.status.idle": "2020-12-03T01:50:06.572828Z",
     "shell.execute_reply": "2020-12-03T01:50:06.572443Z"
    },
    "papermill": {
     "duration": 0.032962,
     "end_time": "2020-12-03T01:50:06.572919",
     "exception": false,
     "start_time": "2020-12-03T01:50:06.539957",
     "status": "completed"
    },
    "tags": []
   },
   "outputs": [],
   "source": [
    "data = pd.read_pickle(input_filepath)"
   ]
  },
  {
   "cell_type": "code",
   "execution_count": 18,
   "metadata": {
    "execution": {
     "iopub.execute_input": "2020-12-03T01:50:06.611738Z",
     "iopub.status.busy": "2020-12-03T01:50:06.611381Z",
     "iopub.status.idle": "2020-12-03T01:50:06.623880Z",
     "shell.execute_reply": "2020-12-03T01:50:06.623517Z"
    },
    "papermill": {
     "duration": 0.032924,
     "end_time": "2020-12-03T01:50:06.623965",
     "exception": false,
     "start_time": "2020-12-03T01:50:06.591041",
     "status": "completed"
    },
    "tags": []
   },
   "outputs": [
    {
     "data": {
      "text/plain": [
       "(3749, 50)"
      ]
     },
     "execution_count": 18,
     "metadata": {},
     "output_type": "execute_result"
    }
   ],
   "source": [
    "data.shape"
   ]
  },
  {
   "cell_type": "code",
   "execution_count": 19,
   "metadata": {
    "execution": {
     "iopub.execute_input": "2020-12-03T01:50:06.661524Z",
     "iopub.status.busy": "2020-12-03T01:50:06.661153Z",
     "iopub.status.idle": "2020-12-03T01:50:06.685923Z",
     "shell.execute_reply": "2020-12-03T01:50:06.686206Z"
    },
    "papermill": {
     "duration": 0.044754,
     "end_time": "2020-12-03T01:50:06.686317",
     "exception": false,
     "start_time": "2020-12-03T01:50:06.641563",
     "status": "completed"
    },
    "tags": []
   },
   "outputs": [
    {
     "data": {
      "text/html": [
       "<div>\n",
       "<style scoped>\n",
       "    .dataframe tbody tr th:only-of-type {\n",
       "        vertical-align: middle;\n",
       "    }\n",
       "\n",
       "    .dataframe tbody tr th {\n",
       "        vertical-align: top;\n",
       "    }\n",
       "\n",
       "    .dataframe thead th {\n",
       "        text-align: right;\n",
       "    }\n",
       "</style>\n",
       "<table border=\"1\" class=\"dataframe\">\n",
       "  <thead>\n",
       "    <tr style=\"text-align: right;\">\n",
       "      <th></th>\n",
       "      <th>PCA1</th>\n",
       "      <th>PCA2</th>\n",
       "      <th>PCA3</th>\n",
       "      <th>PCA4</th>\n",
       "      <th>PCA5</th>\n",
       "      <th>PCA6</th>\n",
       "      <th>PCA7</th>\n",
       "      <th>PCA8</th>\n",
       "      <th>PCA9</th>\n",
       "      <th>PCA10</th>\n",
       "      <th>...</th>\n",
       "      <th>PCA41</th>\n",
       "      <th>PCA42</th>\n",
       "      <th>PCA43</th>\n",
       "      <th>PCA44</th>\n",
       "      <th>PCA45</th>\n",
       "      <th>PCA46</th>\n",
       "      <th>PCA47</th>\n",
       "      <th>PCA48</th>\n",
       "      <th>PCA49</th>\n",
       "      <th>PCA50</th>\n",
       "    </tr>\n",
       "  </thead>\n",
       "  <tbody>\n",
       "    <tr>\n",
       "      <th>100001_raw-Food_weight</th>\n",
       "      <td>-0.547515</td>\n",
       "      <td>-0.007250</td>\n",
       "      <td>0.245361</td>\n",
       "      <td>0.132424</td>\n",
       "      <td>1.201447</td>\n",
       "      <td>-0.113158</td>\n",
       "      <td>0.048859</td>\n",
       "      <td>1.031679</td>\n",
       "      <td>0.711208</td>\n",
       "      <td>0.126100</td>\n",
       "      <td>...</td>\n",
       "      <td>0.113685</td>\n",
       "      <td>-0.109753</td>\n",
       "      <td>0.178202</td>\n",
       "      <td>-0.487868</td>\n",
       "      <td>1.805920</td>\n",
       "      <td>-0.342611</td>\n",
       "      <td>-0.663712</td>\n",
       "      <td>-1.313987</td>\n",
       "      <td>-1.481707</td>\n",
       "      <td>0.396410</td>\n",
       "    </tr>\n",
       "    <tr>\n",
       "      <th>100002_raw-Energy</th>\n",
       "      <td>-1.570593</td>\n",
       "      <td>-0.618992</td>\n",
       "      <td>-1.223395</td>\n",
       "      <td>1.627321</td>\n",
       "      <td>-0.563860</td>\n",
       "      <td>0.224922</td>\n",
       "      <td>-1.500327</td>\n",
       "      <td>2.045633</td>\n",
       "      <td>-1.665998</td>\n",
       "      <td>-0.180432</td>\n",
       "      <td>...</td>\n",
       "      <td>0.697880</td>\n",
       "      <td>1.412676</td>\n",
       "      <td>2.103988</td>\n",
       "      <td>0.385625</td>\n",
       "      <td>2.386495</td>\n",
       "      <td>-2.939998</td>\n",
       "      <td>-0.978275</td>\n",
       "      <td>-1.893307</td>\n",
       "      <td>-0.259497</td>\n",
       "      <td>0.423264</td>\n",
       "    </tr>\n",
       "    <tr>\n",
       "      <th>100003_raw-Protein</th>\n",
       "      <td>-0.601212</td>\n",
       "      <td>-0.948824</td>\n",
       "      <td>-1.022209</td>\n",
       "      <td>2.438433</td>\n",
       "      <td>-2.062235</td>\n",
       "      <td>0.356202</td>\n",
       "      <td>-1.538038</td>\n",
       "      <td>2.314675</td>\n",
       "      <td>-1.108991</td>\n",
       "      <td>0.318034</td>\n",
       "      <td>...</td>\n",
       "      <td>0.171992</td>\n",
       "      <td>1.351979</td>\n",
       "      <td>0.054404</td>\n",
       "      <td>-0.725132</td>\n",
       "      <td>2.226520</td>\n",
       "      <td>-3.481674</td>\n",
       "      <td>-0.445294</td>\n",
       "      <td>-0.477452</td>\n",
       "      <td>0.237157</td>\n",
       "      <td>1.440867</td>\n",
       "    </tr>\n",
       "    <tr>\n",
       "      <th>100004_raw-Fat</th>\n",
       "      <td>-1.648214</td>\n",
       "      <td>-0.342042</td>\n",
       "      <td>-0.270189</td>\n",
       "      <td>1.683268</td>\n",
       "      <td>-1.222401</td>\n",
       "      <td>0.018349</td>\n",
       "      <td>-0.032824</td>\n",
       "      <td>1.671161</td>\n",
       "      <td>-0.908965</td>\n",
       "      <td>0.224100</td>\n",
       "      <td>...</td>\n",
       "      <td>-0.358812</td>\n",
       "      <td>0.696836</td>\n",
       "      <td>1.072624</td>\n",
       "      <td>0.627951</td>\n",
       "      <td>1.802000</td>\n",
       "      <td>0.174704</td>\n",
       "      <td>0.826319</td>\n",
       "      <td>-0.826992</td>\n",
       "      <td>0.596113</td>\n",
       "      <td>0.620050</td>\n",
       "    </tr>\n",
       "    <tr>\n",
       "      <th>100005_raw-Carbohydrate</th>\n",
       "      <td>-1.867586</td>\n",
       "      <td>-0.006412</td>\n",
       "      <td>-0.303220</td>\n",
       "      <td>0.770958</td>\n",
       "      <td>-0.116822</td>\n",
       "      <td>0.460946</td>\n",
       "      <td>-2.407732</td>\n",
       "      <td>1.534273</td>\n",
       "      <td>-1.930577</td>\n",
       "      <td>0.064621</td>\n",
       "      <td>...</td>\n",
       "      <td>1.332852</td>\n",
       "      <td>1.978032</td>\n",
       "      <td>2.158456</td>\n",
       "      <td>0.831123</td>\n",
       "      <td>1.093202</td>\n",
       "      <td>-3.539033</td>\n",
       "      <td>-0.831862</td>\n",
       "      <td>-0.842298</td>\n",
       "      <td>-0.723072</td>\n",
       "      <td>0.359438</td>\n",
       "    </tr>\n",
       "  </tbody>\n",
       "</table>\n",
       "<p>5 rows × 50 columns</p>\n",
       "</div>"
      ],
      "text/plain": [
       "                             PCA1      PCA2      PCA3      PCA4      PCA5  \\\n",
       "100001_raw-Food_weight  -0.547515 -0.007250  0.245361  0.132424  1.201447   \n",
       "100002_raw-Energy       -1.570593 -0.618992 -1.223395  1.627321 -0.563860   \n",
       "100003_raw-Protein      -0.601212 -0.948824 -1.022209  2.438433 -2.062235   \n",
       "100004_raw-Fat          -1.648214 -0.342042 -0.270189  1.683268 -1.222401   \n",
       "100005_raw-Carbohydrate -1.867586 -0.006412 -0.303220  0.770958 -0.116822   \n",
       "\n",
       "                             PCA6      PCA7      PCA8      PCA9     PCA10  \\\n",
       "100001_raw-Food_weight  -0.113158  0.048859  1.031679  0.711208  0.126100   \n",
       "100002_raw-Energy        0.224922 -1.500327  2.045633 -1.665998 -0.180432   \n",
       "100003_raw-Protein       0.356202 -1.538038  2.314675 -1.108991  0.318034   \n",
       "100004_raw-Fat           0.018349 -0.032824  1.671161 -0.908965  0.224100   \n",
       "100005_raw-Carbohydrate  0.460946 -2.407732  1.534273 -1.930577  0.064621   \n",
       "\n",
       "                         ...     PCA41     PCA42     PCA43     PCA44  \\\n",
       "100001_raw-Food_weight   ...  0.113685 -0.109753  0.178202 -0.487868   \n",
       "100002_raw-Energy        ...  0.697880  1.412676  2.103988  0.385625   \n",
       "100003_raw-Protein       ...  0.171992  1.351979  0.054404 -0.725132   \n",
       "100004_raw-Fat           ... -0.358812  0.696836  1.072624  0.627951   \n",
       "100005_raw-Carbohydrate  ...  1.332852  1.978032  2.158456  0.831123   \n",
       "\n",
       "                            PCA45     PCA46     PCA47     PCA48     PCA49  \\\n",
       "100001_raw-Food_weight   1.805920 -0.342611 -0.663712 -1.313987 -1.481707   \n",
       "100002_raw-Energy        2.386495 -2.939998 -0.978275 -1.893307 -0.259497   \n",
       "100003_raw-Protein       2.226520 -3.481674 -0.445294 -0.477452  0.237157   \n",
       "100004_raw-Fat           1.802000  0.174704  0.826319 -0.826992  0.596113   \n",
       "100005_raw-Carbohydrate  1.093202 -3.539033 -0.831862 -0.842298 -0.723072   \n",
       "\n",
       "                            PCA50  \n",
       "100001_raw-Food_weight   0.396410  \n",
       "100002_raw-Energy        0.423264  \n",
       "100003_raw-Protein       1.440867  \n",
       "100004_raw-Fat           0.620050  \n",
       "100005_raw-Carbohydrate  0.359438  \n",
       "\n",
       "[5 rows x 50 columns]"
      ]
     },
     "execution_count": 19,
     "metadata": {},
     "output_type": "execute_result"
    }
   ],
   "source": [
    "data.head()"
   ]
  },
  {
   "cell_type": "code",
   "execution_count": 20,
   "metadata": {
    "execution": {
     "iopub.execute_input": "2020-12-03T01:50:06.730508Z",
     "iopub.status.busy": "2020-12-03T01:50:06.730132Z",
     "iopub.status.idle": "2020-12-03T01:50:06.742849Z",
     "shell.execute_reply": "2020-12-03T01:50:06.742469Z"
    },
    "papermill": {
     "duration": 0.033244,
     "end_time": "2020-12-03T01:50:06.742939",
     "exception": false,
     "start_time": "2020-12-03T01:50:06.709695",
     "status": "completed"
    },
    "tags": []
   },
   "outputs": [],
   "source": [
    "assert not data.isna().any().any()"
   ]
  },
  {
   "cell_type": "markdown",
   "metadata": {
    "papermill": {
     "duration": 0.017522,
     "end_time": "2020-12-03T01:50:06.778971",
     "exception": false,
     "start_time": "2020-12-03T01:50:06.761449",
     "status": "completed"
    },
    "tags": []
   },
   "source": [
    "# Clustering"
   ]
  },
  {
   "cell_type": "markdown",
   "metadata": {
    "papermill": {
     "duration": 0.01964,
     "end_time": "2020-12-03T01:50:06.816504",
     "exception": false,
     "start_time": "2020-12-03T01:50:06.796864",
     "status": "completed"
    },
    "tags": []
   },
   "source": [
    "## Generate ensemble"
   ]
  },
  {
   "cell_type": "code",
   "execution_count": 21,
   "metadata": {
    "execution": {
     "iopub.execute_input": "2020-12-03T01:50:06.855548Z",
     "iopub.status.busy": "2020-12-03T01:50:06.855182Z",
     "iopub.status.idle": "2020-12-03T01:50:06.869938Z",
     "shell.execute_reply": "2020-12-03T01:50:06.869549Z"
    },
    "papermill": {
     "duration": 0.035103,
     "end_time": "2020-12-03T01:50:06.870029",
     "exception": false,
     "start_time": "2020-12-03T01:50:06.834926",
     "status": "completed"
    },
    "tags": []
   },
   "outputs": [],
   "source": [
    "from sklearn.metrics import pairwise_distances\n",
    "from clustering.ensemble import generate_ensemble"
   ]
  },
  {
   "cell_type": "code",
   "execution_count": 22,
   "metadata": {
    "execution": {
     "iopub.execute_input": "2020-12-03T01:50:06.909347Z",
     "iopub.status.busy": "2020-12-03T01:50:06.908979Z",
     "iopub.status.idle": "2020-12-03T01:50:07.077768Z",
     "shell.execute_reply": "2020-12-03T01:50:07.077403Z"
    },
    "papermill": {
     "duration": 0.18922,
     "end_time": "2020-12-03T01:50:07.077854",
     "exception": false,
     "start_time": "2020-12-03T01:50:06.888634",
     "status": "completed"
    },
    "tags": []
   },
   "outputs": [],
   "source": [
    "data_dist = pairwise_distances(data, metric=CLUSTERING_OPTIONS['AFFINITY'])"
   ]
  },
  {
   "cell_type": "code",
   "execution_count": 23,
   "metadata": {
    "execution": {
     "iopub.execute_input": "2020-12-03T01:50:07.115729Z",
     "iopub.status.busy": "2020-12-03T01:50:07.115366Z",
     "iopub.status.idle": "2020-12-03T01:50:07.128308Z",
     "shell.execute_reply": "2020-12-03T01:50:07.127934Z"
    },
    "papermill": {
     "duration": 0.033065,
     "end_time": "2020-12-03T01:50:07.128396",
     "exception": false,
     "start_time": "2020-12-03T01:50:07.095331",
     "status": "completed"
    },
    "tags": []
   },
   "outputs": [
    {
     "data": {
      "text/plain": [
       "(3749, 3749)"
      ]
     },
     "execution_count": 23,
     "metadata": {},
     "output_type": "execute_result"
    }
   ],
   "source": [
    "data_dist.shape"
   ]
  },
  {
   "cell_type": "code",
   "execution_count": 24,
   "metadata": {
    "execution": {
     "iopub.execute_input": "2020-12-03T01:50:07.167962Z",
     "iopub.status.busy": "2020-12-03T01:50:07.167594Z",
     "iopub.status.idle": "2020-12-03T01:50:07.766295Z",
     "shell.execute_reply": "2020-12-03T01:50:07.766596Z"
    },
    "papermill": {
     "duration": 0.619414,
     "end_time": "2020-12-03T01:50:07.766714",
     "exception": false,
     "start_time": "2020-12-03T01:50:07.147300",
     "status": "completed"
    },
    "tags": []
   },
   "outputs": [
    {
     "data": {
      "text/plain": [
       "count            14055001.0\n",
       "mean     17.536786666895573\n",
       "std      14.914704903599608\n",
       "min                     0.0\n",
       "25%      11.028118338431472\n",
       "50%      12.507491786104163\n",
       "75%      16.607661053517283\n",
       "max      160.45156459412453\n",
       "dtype: object"
      ]
     },
     "execution_count": 24,
     "metadata": {},
     "output_type": "execute_result"
    }
   ],
   "source": [
    "pd.Series(data_dist.flatten()).describe().apply(str)"
   ]
  },
  {
   "cell_type": "code",
   "execution_count": 25,
   "metadata": {
    "execution": {
     "iopub.execute_input": "2020-12-03T01:50:07.806360Z",
     "iopub.status.busy": "2020-12-03T01:50:07.805774Z",
     "iopub.status.idle": "2020-12-03T02:17:48.368135Z",
     "shell.execute_reply": "2020-12-03T02:17:48.367354Z"
    },
    "papermill": {
     "duration": 1660.582721,
     "end_time": "2020-12-03T02:17:48.368219",
     "exception": false,
     "start_time": "2020-12-03T01:50:07.785498",
     "status": "completed"
    },
    "tags": []
   },
   "outputs": [
    {
     "name": "stderr",
     "output_type": "stream",
     "text": [
      "100%|██████████| 296/296 [27:40<00:00,  5.61s/it]\n"
     ]
    }
   ],
   "source": [
    "ensemble = generate_ensemble(\n",
    "    data_dist,\n",
    "    CLUSTERERS,\n",
    "    attributes=CLUSTERING_ATTRIBUTES_TO_SAVE,\n",
    "    affinity_matrix=data_dist,\n",
    ")"
   ]
  },
  {
   "cell_type": "code",
   "execution_count": 26,
   "metadata": {
    "execution": {
     "iopub.execute_input": "2020-12-03T02:17:48.500619Z",
     "iopub.status.busy": "2020-12-03T02:17:48.500254Z",
     "iopub.status.idle": "2020-12-03T02:17:48.513322Z",
     "shell.execute_reply": "2020-12-03T02:17:48.512941Z"
    },
    "papermill": {
     "duration": 0.079568,
     "end_time": "2020-12-03T02:17:48.513410",
     "exception": false,
     "start_time": "2020-12-03T02:17:48.433842",
     "status": "completed"
    },
    "tags": []
   },
   "outputs": [
    {
     "data": {
      "text/plain": [
       "(296, 3)"
      ]
     },
     "execution_count": 26,
     "metadata": {},
     "output_type": "execute_result"
    }
   ],
   "source": [
    "# the number should be close to 295 (the number of partitions generated by k-means/spectral clustering)\n",
    "ensemble.shape"
   ]
  },
  {
   "cell_type": "code",
   "execution_count": 27,
   "metadata": {
    "execution": {
     "iopub.execute_input": "2020-12-03T02:17:48.646342Z",
     "iopub.status.busy": "2020-12-03T02:17:48.645962Z",
     "iopub.status.idle": "2020-12-03T02:17:48.665644Z",
     "shell.execute_reply": "2020-12-03T02:17:48.665312Z"
    },
    "papermill": {
     "duration": 0.086706,
     "end_time": "2020-12-03T02:17:48.665744",
     "exception": false,
     "start_time": "2020-12-03T02:17:48.579038",
     "status": "completed"
    },
    "tags": []
   },
   "outputs": [
    {
     "data": {
      "text/html": [
       "<div>\n",
       "<style scoped>\n",
       "    .dataframe tbody tr th:only-of-type {\n",
       "        vertical-align: middle;\n",
       "    }\n",
       "\n",
       "    .dataframe tbody tr th {\n",
       "        vertical-align: top;\n",
       "    }\n",
       "\n",
       "    .dataframe thead th {\n",
       "        text-align: right;\n",
       "    }\n",
       "</style>\n",
       "<table border=\"1\" class=\"dataframe\">\n",
       "  <thead>\n",
       "    <tr style=\"text-align: right;\">\n",
       "      <th></th>\n",
       "      <th>clusterer_params</th>\n",
       "      <th>partition</th>\n",
       "      <th>n_clusters</th>\n",
       "    </tr>\n",
       "    <tr>\n",
       "      <th>clusterer_id</th>\n",
       "      <th></th>\n",
       "      <th></th>\n",
       "      <th></th>\n",
       "    </tr>\n",
       "  </thead>\n",
       "  <tbody>\n",
       "    <tr>\n",
       "      <th>AgglomerativeClustering #0</th>\n",
       "      <td>{'affinity': 'precomputed', 'compute_full_tree...</td>\n",
       "      <td>[0.0, 0.0, 0.0, 0.0, 0.0, 0.0, 0.0, 0.0, 0.0, ...</td>\n",
       "      <td>2</td>\n",
       "    </tr>\n",
       "    <tr>\n",
       "      <th>AgglomerativeClustering #1</th>\n",
       "      <td>{'affinity': 'precomputed', 'compute_full_tree...</td>\n",
       "      <td>[0.0, 0.0, 0.0, 0.0, 0.0, 0.0, 0.0, 0.0, 0.0, ...</td>\n",
       "      <td>2</td>\n",
       "    </tr>\n",
       "    <tr>\n",
       "      <th>AgglomerativeClustering #2</th>\n",
       "      <td>{'affinity': 'precomputed', 'compute_full_tree...</td>\n",
       "      <td>[0.0, 0.0, 0.0, 0.0, 0.0, 0.0, 0.0, 0.0, 0.0, ...</td>\n",
       "      <td>2</td>\n",
       "    </tr>\n",
       "    <tr>\n",
       "      <th>AgglomerativeClustering #3</th>\n",
       "      <td>{'affinity': 'euclidean', 'compute_full_tree':...</td>\n",
       "      <td>[0.0, 0.0, 0.0, 0.0, 0.0, 0.0, 0.0, 0.0, 0.0, ...</td>\n",
       "      <td>2</td>\n",
       "    </tr>\n",
       "    <tr>\n",
       "      <th>AgglomerativeClustering #4</th>\n",
       "      <td>{'affinity': 'precomputed', 'compute_full_tree...</td>\n",
       "      <td>[1.0, 1.0, 1.0, 1.0, 1.0, 1.0, 1.0, 1.0, 1.0, ...</td>\n",
       "      <td>3</td>\n",
       "    </tr>\n",
       "  </tbody>\n",
       "</table>\n",
       "</div>"
      ],
      "text/plain": [
       "                                                             clusterer_params  \\\n",
       "clusterer_id                                                                    \n",
       "AgglomerativeClustering #0  {'affinity': 'precomputed', 'compute_full_tree...   \n",
       "AgglomerativeClustering #1  {'affinity': 'precomputed', 'compute_full_tree...   \n",
       "AgglomerativeClustering #2  {'affinity': 'precomputed', 'compute_full_tree...   \n",
       "AgglomerativeClustering #3  {'affinity': 'euclidean', 'compute_full_tree':...   \n",
       "AgglomerativeClustering #4  {'affinity': 'precomputed', 'compute_full_tree...   \n",
       "\n",
       "                                                                    partition  \\\n",
       "clusterer_id                                                                    \n",
       "AgglomerativeClustering #0  [0.0, 0.0, 0.0, 0.0, 0.0, 0.0, 0.0, 0.0, 0.0, ...   \n",
       "AgglomerativeClustering #1  [0.0, 0.0, 0.0, 0.0, 0.0, 0.0, 0.0, 0.0, 0.0, ...   \n",
       "AgglomerativeClustering #2  [0.0, 0.0, 0.0, 0.0, 0.0, 0.0, 0.0, 0.0, 0.0, ...   \n",
       "AgglomerativeClustering #3  [0.0, 0.0, 0.0, 0.0, 0.0, 0.0, 0.0, 0.0, 0.0, ...   \n",
       "AgglomerativeClustering #4  [1.0, 1.0, 1.0, 1.0, 1.0, 1.0, 1.0, 1.0, 1.0, ...   \n",
       "\n",
       "                            n_clusters  \n",
       "clusterer_id                            \n",
       "AgglomerativeClustering #0           2  \n",
       "AgglomerativeClustering #1           2  \n",
       "AgglomerativeClustering #2           2  \n",
       "AgglomerativeClustering #3           2  \n",
       "AgglomerativeClustering #4           3  "
      ]
     },
     "execution_count": 27,
     "metadata": {},
     "output_type": "execute_result"
    }
   ],
   "source": [
    "ensemble.head()"
   ]
  },
  {
   "cell_type": "code",
   "execution_count": 28,
   "metadata": {
    "execution": {
     "iopub.execute_input": "2020-12-03T02:17:48.799110Z",
     "iopub.status.busy": "2020-12-03T02:17:48.798732Z",
     "iopub.status.idle": "2020-12-03T02:17:48.812886Z",
     "shell.execute_reply": "2020-12-03T02:17:48.812458Z"
    },
    "papermill": {
     "duration": 0.082031,
     "end_time": "2020-12-03T02:17:48.812975",
     "exception": false,
     "start_time": "2020-12-03T02:17:48.730944",
     "status": "completed"
    },
    "tags": []
   },
   "outputs": [
    {
     "data": {
      "text/plain": [
       "75    4\n",
       "20    4\n",
       "22    4\n",
       "23    4\n",
       "24    4\n",
       "Name: n_clusters, dtype: int64"
      ]
     },
     "execution_count": 28,
     "metadata": {},
     "output_type": "execute_result"
    }
   ],
   "source": [
    "ensemble['n_clusters'].value_counts().head()"
   ]
  },
  {
   "cell_type": "code",
   "execution_count": 29,
   "metadata": {
    "execution": {
     "iopub.execute_input": "2020-12-03T02:17:48.947236Z",
     "iopub.status.busy": "2020-12-03T02:17:48.946874Z",
     "iopub.status.idle": "2020-12-03T02:17:48.961191Z",
     "shell.execute_reply": "2020-12-03T02:17:48.961469Z"
    },
    "papermill": {
     "duration": 0.08316,
     "end_time": "2020-12-03T02:17:48.961576",
     "exception": false,
     "start_time": "2020-12-03T02:17:48.878416",
     "status": "completed"
    },
    "tags": []
   },
   "outputs": [
    {
     "data": {
      "text/plain": [
       "count    296.000000\n",
       "mean      38.500000\n",
       "std       21.396182\n",
       "min        2.000000\n",
       "25%       20.000000\n",
       "50%       38.500000\n",
       "75%       57.000000\n",
       "max       75.000000\n",
       "Name: n_clusters, dtype: float64"
      ]
     },
     "metadata": {},
     "output_type": "display_data"
    }
   ],
   "source": [
    "ensemble_stats = ensemble['n_clusters'].describe()\n",
    "display(ensemble_stats)"
   ]
  },
  {
   "cell_type": "markdown",
   "metadata": {
    "papermill": {
     "duration": 0.066517,
     "end_time": "2020-12-03T02:17:49.094130",
     "exception": false,
     "start_time": "2020-12-03T02:17:49.027613",
     "status": "completed"
    },
    "tags": []
   },
   "source": [
    "### Testing"
   ]
  },
  {
   "cell_type": "code",
   "execution_count": 30,
   "metadata": {
    "execution": {
     "iopub.execute_input": "2020-12-03T02:17:49.228011Z",
     "iopub.status.busy": "2020-12-03T02:17:49.227636Z",
     "iopub.status.idle": "2020-12-03T02:17:49.240099Z",
     "shell.execute_reply": "2020-12-03T02:17:49.239763Z"
    },
    "papermill": {
     "duration": 0.080053,
     "end_time": "2020-12-03T02:17:49.240188",
     "exception": false,
     "start_time": "2020-12-03T02:17:49.160135",
     "status": "completed"
    },
    "tags": []
   },
   "outputs": [],
   "source": [
    "assert ensemble_stats['min'] > 1"
   ]
  },
  {
   "cell_type": "code",
   "execution_count": 31,
   "metadata": {
    "execution": {
     "iopub.execute_input": "2020-12-03T02:17:49.374112Z",
     "iopub.status.busy": "2020-12-03T02:17:49.373749Z",
     "iopub.status.idle": "2020-12-03T02:17:49.385892Z",
     "shell.execute_reply": "2020-12-03T02:17:49.385514Z"
    },
    "papermill": {
     "duration": 0.0801,
     "end_time": "2020-12-03T02:17:49.385981",
     "exception": false,
     "start_time": "2020-12-03T02:17:49.305881",
     "status": "completed"
    },
    "tags": []
   },
   "outputs": [],
   "source": [
    "assert not ensemble['n_clusters'].isna().any()"
   ]
  },
  {
   "cell_type": "code",
   "execution_count": 32,
   "metadata": {
    "execution": {
     "iopub.execute_input": "2020-12-03T02:17:49.523491Z",
     "iopub.status.busy": "2020-12-03T02:17:49.523112Z",
     "iopub.status.idle": "2020-12-03T02:17:49.535474Z",
     "shell.execute_reply": "2020-12-03T02:17:49.535764Z"
    },
    "papermill": {
     "duration": 0.08207,
     "end_time": "2020-12-03T02:17:49.535878",
     "exception": false,
     "start_time": "2020-12-03T02:17:49.453808",
     "status": "completed"
    },
    "tags": []
   },
   "outputs": [],
   "source": [
    "assert ensemble.shape[0] == len(CLUSTERERS)"
   ]
  },
  {
   "cell_type": "code",
   "execution_count": 33,
   "metadata": {
    "execution": {
     "iopub.execute_input": "2020-12-03T02:17:49.675209Z",
     "iopub.status.busy": "2020-12-03T02:17:49.674837Z",
     "iopub.status.idle": "2020-12-03T02:17:49.704311Z",
     "shell.execute_reply": "2020-12-03T02:17:49.703940Z"
    },
    "papermill": {
     "duration": 0.099202,
     "end_time": "2020-12-03T02:17:49.704399",
     "exception": false,
     "start_time": "2020-12-03T02:17:49.605197",
     "status": "completed"
    },
    "tags": []
   },
   "outputs": [],
   "source": [
    "# all partitions have the right size\n",
    "assert np.all([\n",
    "    part['partition'].shape[0] == data.shape[0]\n",
    "    for idx, part in ensemble.iterrows()\n",
    "])"
   ]
  },
  {
   "cell_type": "code",
   "execution_count": 34,
   "metadata": {
    "execution": {
     "iopub.execute_input": "2020-12-03T02:17:49.837108Z",
     "iopub.status.busy": "2020-12-03T02:17:49.836666Z",
     "iopub.status.idle": "2020-12-03T02:17:49.869338Z",
     "shell.execute_reply": "2020-12-03T02:17:49.869626Z"
    },
    "papermill": {
     "duration": 0.100275,
     "end_time": "2020-12-03T02:17:49.869739",
     "exception": false,
     "start_time": "2020-12-03T02:17:49.769464",
     "status": "completed"
    },
    "tags": []
   },
   "outputs": [],
   "source": [
    "# no partition has negative clusters (noisy points)\n",
    "assert not np.any([\n",
    "    (part['partition'] < 0).any()\n",
    "    for idx, part in ensemble.iterrows()\n",
    "])"
   ]
  },
  {
   "cell_type": "markdown",
   "metadata": {
    "papermill": {
     "duration": 0.064474,
     "end_time": "2020-12-03T02:17:50.000811",
     "exception": false,
     "start_time": "2020-12-03T02:17:49.936337",
     "status": "completed"
    },
    "tags": []
   },
   "source": [
    "## Save"
   ]
  },
  {
   "cell_type": "code",
   "execution_count": 35,
   "metadata": {
    "execution": {
     "iopub.execute_input": "2020-12-03T02:17:50.136188Z",
     "iopub.status.busy": "2020-12-03T02:17:50.135821Z",
     "iopub.status.idle": "2020-12-03T02:17:50.148548Z",
     "shell.execute_reply": "2020-12-03T02:17:50.148900Z"
    },
    "papermill": {
     "duration": 0.082313,
     "end_time": "2020-12-03T02:17:50.149007",
     "exception": false,
     "start_time": "2020-12-03T02:17:50.066694",
     "status": "completed"
    },
    "tags": []
   },
   "outputs": [
    {
     "data": {
      "text/plain": [
       "PosixPath('/home/miltondp/projects/labs/greenelab/phenoplier/base/results/clustering/runs/pca-z_score_std-projection-smultixcan-efo_partial-mashr-zscores/AgglomerativeClustering-AFFINITY_euclidean-K_MAX_75-K_MIN_2.pkl')"
      ]
     },
     "metadata": {},
     "output_type": "display_data"
    }
   ],
   "source": [
    "del CLUSTERING_OPTIONS['LINKAGE']\n",
    "\n",
    "output_filename = Path(\n",
    "    RESULTS_DIR,\n",
    "    generate_result_set_name(\n",
    "        CLUSTERING_OPTIONS,\n",
    "        prefix=f'{clustering_method_name}-',\n",
    "        suffix='.pkl',\n",
    "    )\n",
    ").resolve()\n",
    "display(output_filename)"
   ]
  },
  {
   "cell_type": "code",
   "execution_count": 36,
   "metadata": {
    "execution": {
     "iopub.execute_input": "2020-12-03T02:17:50.282707Z",
     "iopub.status.busy": "2020-12-03T02:17:50.282346Z",
     "iopub.status.idle": "2020-12-03T02:17:50.323740Z",
     "shell.execute_reply": "2020-12-03T02:17:50.322931Z"
    },
    "papermill": {
     "duration": 0.109519,
     "end_time": "2020-12-03T02:17:50.323919",
     "exception": false,
     "start_time": "2020-12-03T02:17:50.214400",
     "status": "completed"
    },
    "tags": []
   },
   "outputs": [],
   "source": [
    "ensemble.to_pickle(output_filename)"
   ]
  },
  {
   "cell_type": "code",
   "execution_count": null,
   "metadata": {
    "papermill": {
     "duration": 0.068518,
     "end_time": "2020-12-03T02:17:50.460504",
     "exception": false,
     "start_time": "2020-12-03T02:17:50.391986",
     "status": "completed"
    },
    "tags": []
   },
   "outputs": [],
   "source": []
  }
 ],
 "metadata": {
  "jupytext": {
   "formats": "ipynb,py//py:percent"
  },
  "kernelspec": {
   "display_name": "Python 3",
   "language": "python",
   "name": "python3"
  },
  "language_info": {
   "codemirror_mode": {
    "name": "ipython",
    "version": 3
   },
   "file_extension": ".py",
   "mimetype": "text/x-python",
   "name": "python",
   "nbconvert_exporter": "python",
   "pygments_lexer": "ipython3",
   "version": "3.8.6"
  },
  "papermill": {
   "default_parameters": {},
   "duration": 1667.944923,
   "end_time": "2020-12-03T02:17:51.034205",
   "environment_variables": {},
   "exception": null,
   "input_path": "15_cluster_analysis/003_01-projection_smultixcan_efo-pca-clustering_hc.ipynb",
   "output_path": "15_cluster_analysis/003_01-projection_smultixcan_efo-pca-clustering_hc.run.ipynb",
   "parameters": {},
   "start_time": "2020-12-03T01:50:03.089282",
   "version": "2.2.2"
  },
  "toc-autonumbering": true,
  "toc-showcode": false,
  "toc-showmarkdowntxt": false,
  "toc-showtags": false
 },
 "nbformat": 4,
 "nbformat_minor": 4
}
