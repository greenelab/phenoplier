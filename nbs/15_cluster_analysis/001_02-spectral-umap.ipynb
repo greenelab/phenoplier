{
 "cells": [
  {
   "cell_type": "markdown",
   "metadata": {
    "papermill": {
     "duration": 0.060008,
     "end_time": "2021-02-22T21:41:52.142357",
     "exception": false,
     "start_time": "2021-02-22T21:41:52.082349",
     "status": "completed"
    },
    "tags": []
   },
   "source": [
    "# Description"
   ]
  },
  {
   "cell_type": "markdown",
   "metadata": {
    "papermill": {
     "duration": 0.023125,
     "end_time": "2021-02-22T21:41:52.189064",
     "exception": false,
     "start_time": "2021-02-22T21:41:52.165939",
     "status": "completed"
    },
    "tags": []
   },
   "source": [
    "Runs spectral clustering on the umap version of the data."
   ]
  },
  {
   "cell_type": "markdown",
   "metadata": {
    "papermill": {
     "duration": 0.02341,
     "end_time": "2021-02-22T21:41:52.235671",
     "exception": false,
     "start_time": "2021-02-22T21:41:52.212261",
     "status": "completed"
    },
    "tags": []
   },
   "source": [
    "# Environment variables"
   ]
  },
  {
   "cell_type": "code",
   "execution_count": 1,
   "metadata": {
    "execution": {
     "iopub.execute_input": "2021-02-22T21:41:52.286585Z",
     "iopub.status.busy": "2021-02-22T21:41:52.286200Z",
     "iopub.status.idle": "2021-02-22T21:41:52.297134Z",
     "shell.execute_reply": "2021-02-22T21:41:52.296653Z"
    },
    "papermill": {
     "duration": 0.037513,
     "end_time": "2021-02-22T21:41:52.297255",
     "exception": false,
     "start_time": "2021-02-22T21:41:52.259742",
     "status": "completed"
    },
    "tags": []
   },
   "outputs": [
    {
     "data": {
      "text/plain": [
       "2"
      ]
     },
     "metadata": {},
     "output_type": "display_data"
    }
   ],
   "source": [
    "from IPython.display import display\n",
    "\n",
    "import conf\n",
    "\n",
    "N_JOBS = conf.GENERAL[\"N_JOBS\"]\n",
    "display(N_JOBS)"
   ]
  },
  {
   "cell_type": "code",
   "execution_count": 2,
   "metadata": {
    "execution": {
     "iopub.execute_input": "2021-02-22T21:41:52.350306Z",
     "iopub.status.busy": "2021-02-22T21:41:52.349873Z",
     "iopub.status.idle": "2021-02-22T21:41:52.352456Z",
     "shell.execute_reply": "2021-02-22T21:41:52.352089Z"
    },
    "papermill": {
     "duration": 0.0309,
     "end_time": "2021-02-22T21:41:52.352542",
     "exception": false,
     "start_time": "2021-02-22T21:41:52.321642",
     "status": "completed"
    },
    "tags": []
   },
   "outputs": [
    {
     "name": "stdout",
     "output_type": "stream",
     "text": [
      "env: MKL_NUM_THREADS=2\n",
      "env: OPEN_BLAS_NUM_THREADS=2\n",
      "env: NUMEXPR_NUM_THREADS=2\n",
      "env: OMP_NUM_THREADS=2\n"
     ]
    }
   ],
   "source": [
    "%env MKL_NUM_THREADS=$N_JOBS\n",
    "%env OPEN_BLAS_NUM_THREADS=$N_JOBS\n",
    "%env NUMEXPR_NUM_THREADS=$N_JOBS\n",
    "%env OMP_NUM_THREADS=$N_JOBS"
   ]
  },
  {
   "cell_type": "markdown",
   "metadata": {
    "papermill": {
     "duration": 0.024075,
     "end_time": "2021-02-22T21:41:52.400391",
     "exception": false,
     "start_time": "2021-02-22T21:41:52.376316",
     "status": "completed"
    },
    "tags": []
   },
   "source": [
    "# Modules loading"
   ]
  },
  {
   "cell_type": "code",
   "execution_count": 3,
   "metadata": {
    "execution": {
     "iopub.execute_input": "2021-02-22T21:41:52.451079Z",
     "iopub.status.busy": "2021-02-22T21:41:52.450717Z",
     "iopub.status.idle": "2021-02-22T21:41:52.458559Z",
     "shell.execute_reply": "2021-02-22T21:41:52.458233Z"
    },
    "papermill": {
     "duration": 0.034509,
     "end_time": "2021-02-22T21:41:52.458676",
     "exception": false,
     "start_time": "2021-02-22T21:41:52.424167",
     "status": "completed"
    },
    "tags": []
   },
   "outputs": [],
   "source": [
    "%load_ext autoreload\n",
    "%autoreload 2"
   ]
  },
  {
   "cell_type": "code",
   "execution_count": 4,
   "metadata": {
    "execution": {
     "iopub.execute_input": "2021-02-22T21:41:52.511228Z",
     "iopub.status.busy": "2021-02-22T21:41:52.510866Z",
     "iopub.status.idle": "2021-02-22T21:41:53.090121Z",
     "shell.execute_reply": "2021-02-22T21:41:53.089619Z"
    },
    "papermill": {
     "duration": 0.606354,
     "end_time": "2021-02-22T21:41:53.090246",
     "exception": false,
     "start_time": "2021-02-22T21:41:52.483892",
     "status": "completed"
    },
    "tags": []
   },
   "outputs": [],
   "source": [
    "from pathlib import Path\n",
    "\n",
    "import numpy as np\n",
    "import pandas as pd\n",
    "import matplotlib.pyplot as plt\n",
    "import seaborn as sns\n",
    "\n",
    "from utils import generate_result_set_name"
   ]
  },
  {
   "cell_type": "markdown",
   "metadata": {
    "papermill": {
     "duration": 0.025481,
     "end_time": "2021-02-22T21:41:53.146511",
     "exception": false,
     "start_time": "2021-02-22T21:41:53.121030",
     "status": "completed"
    },
    "tags": []
   },
   "source": [
    "# Settings"
   ]
  },
  {
   "cell_type": "code",
   "execution_count": 5,
   "metadata": {
    "execution": {
     "iopub.execute_input": "2021-02-22T21:41:53.196800Z",
     "iopub.status.busy": "2021-02-22T21:41:53.196390Z",
     "iopub.status.idle": "2021-02-22T21:41:53.205601Z",
     "shell.execute_reply": "2021-02-22T21:41:53.205875Z"
    },
    "papermill": {
     "duration": 0.035597,
     "end_time": "2021-02-22T21:41:53.205983",
     "exception": false,
     "start_time": "2021-02-22T21:41:53.170386",
     "status": "completed"
    },
    "tags": []
   },
   "outputs": [],
   "source": [
    "np.random.seed(0)"
   ]
  },
  {
   "cell_type": "code",
   "execution_count": 6,
   "metadata": {
    "execution": {
     "iopub.execute_input": "2021-02-22T21:41:53.257035Z",
     "iopub.status.busy": "2021-02-22T21:41:53.256613Z",
     "iopub.status.idle": "2021-02-22T21:41:53.266686Z",
     "shell.execute_reply": "2021-02-22T21:41:53.266298Z"
    },
    "papermill": {
     "duration": 0.036407,
     "end_time": "2021-02-22T21:41:53.266774",
     "exception": false,
     "start_time": "2021-02-22T21:41:53.230367",
     "status": "completed"
    },
    "tags": []
   },
   "outputs": [],
   "source": [
    "INITIAL_RANDOM_STATE = 50000"
   ]
  },
  {
   "cell_type": "markdown",
   "metadata": {
    "papermill": {
     "duration": 0.024541,
     "end_time": "2021-02-22T21:41:53.316483",
     "exception": false,
     "start_time": "2021-02-22T21:41:53.291942",
     "status": "completed"
    },
    "tags": []
   },
   "source": [
    "## Input data"
   ]
  },
  {
   "cell_type": "code",
   "execution_count": 7,
   "metadata": {
    "execution": {
     "iopub.execute_input": "2021-02-22T21:41:53.368205Z",
     "iopub.status.busy": "2021-02-22T21:41:53.367826Z",
     "iopub.status.idle": "2021-02-22T21:41:53.377729Z",
     "shell.execute_reply": "2021-02-22T21:41:53.377380Z"
    },
    "papermill": {
     "duration": 0.037013,
     "end_time": "2021-02-22T21:41:53.377818",
     "exception": false,
     "start_time": "2021-02-22T21:41:53.340805",
     "status": "completed"
    },
    "tags": []
   },
   "outputs": [],
   "source": [
    "INPUT_SUBSET = \"umap\""
   ]
  },
  {
   "cell_type": "code",
   "execution_count": 8,
   "metadata": {
    "execution": {
     "iopub.execute_input": "2021-02-22T21:41:53.430203Z",
     "iopub.status.busy": "2021-02-22T21:41:53.429832Z",
     "iopub.status.idle": "2021-02-22T21:41:53.439259Z",
     "shell.execute_reply": "2021-02-22T21:41:53.439550Z"
    },
    "papermill": {
     "duration": 0.036819,
     "end_time": "2021-02-22T21:41:53.439662",
     "exception": false,
     "start_time": "2021-02-22T21:41:53.402843",
     "status": "completed"
    },
    "tags": []
   },
   "outputs": [],
   "source": [
    "INPUT_STEM = \"z_score_std-projection-smultixcan-efo_partial-mashr-zscores\""
   ]
  },
  {
   "cell_type": "code",
   "execution_count": 9,
   "metadata": {
    "execution": {
     "iopub.execute_input": "2021-02-22T21:41:53.492722Z",
     "iopub.status.busy": "2021-02-22T21:41:53.492284Z",
     "iopub.status.idle": "2021-02-22T21:41:53.501936Z",
     "shell.execute_reply": "2021-02-22T21:41:53.501596Z"
    },
    "papermill": {
     "duration": 0.03747,
     "end_time": "2021-02-22T21:41:53.502022",
     "exception": false,
     "start_time": "2021-02-22T21:41:53.464552",
     "status": "completed"
    },
    "tags": []
   },
   "outputs": [],
   "source": [
    "DR_OPTIONS = {\n",
    "    \"n_components\": 50,\n",
    "    \"metric\": \"euclidean\",\n",
    "    \"n_neighbors\": 15,\n",
    "    \"random_state\": 0,\n",
    "}"
   ]
  },
  {
   "cell_type": "code",
   "execution_count": 10,
   "metadata": {
    "execution": {
     "iopub.execute_input": "2021-02-22T21:41:53.554402Z",
     "iopub.status.busy": "2021-02-22T21:41:53.554026Z",
     "iopub.status.idle": "2021-02-22T21:41:53.566016Z",
     "shell.execute_reply": "2021-02-22T21:41:53.565627Z"
    },
    "papermill": {
     "duration": 0.039051,
     "end_time": "2021-02-22T21:41:53.566107",
     "exception": false,
     "start_time": "2021-02-22T21:41:53.527056",
     "status": "completed"
    },
    "tags": []
   },
   "outputs": [
    {
     "data": {
      "text/plain": [
       "PosixPath('/home/miltondp/projects/labs/greenelab/phenoplier/base3/results/data_transformations/umap/umap-z_score_std-projection-smultixcan-efo_partial-mashr-zscores-metric_euclidean-n_components_50-n_neighbors_15-random_state_0.pkl')"
      ]
     },
     "metadata": {},
     "output_type": "display_data"
    },
    {
     "data": {
      "text/plain": [
       "'umap-z_score_std-projection-smultixcan-efo_partial-mashr-zscores-metric_euclidean-n_components_50-n_neighbors_15-random_state_0'"
      ]
     },
     "metadata": {},
     "output_type": "display_data"
    }
   ],
   "source": [
    "input_filepath = Path(\n",
    "    conf.RESULTS[\"DATA_TRANSFORMATIONS_DIR\"],\n",
    "    INPUT_SUBSET,\n",
    "    generate_result_set_name(\n",
    "        DR_OPTIONS, prefix=f\"{INPUT_SUBSET}-{INPUT_STEM}-\", suffix=\".pkl\"\n",
    "    ),\n",
    ").resolve()\n",
    "display(input_filepath)\n",
    "\n",
    "assert input_filepath.exists(), \"Input file does not exist\"\n",
    "\n",
    "input_filepath_stem = input_filepath.stem\n",
    "display(input_filepath_stem)"
   ]
  },
  {
   "cell_type": "markdown",
   "metadata": {
    "papermill": {
     "duration": 0.024561,
     "end_time": "2021-02-22T21:41:53.617195",
     "exception": false,
     "start_time": "2021-02-22T21:41:53.592634",
     "status": "completed"
    },
    "tags": []
   },
   "source": [
    "## Clustering"
   ]
  },
  {
   "cell_type": "code",
   "execution_count": 11,
   "metadata": {
    "execution": {
     "iopub.execute_input": "2021-02-22T21:41:53.669552Z",
     "iopub.status.busy": "2021-02-22T21:41:53.669169Z",
     "iopub.status.idle": "2021-02-22T21:41:53.805615Z",
     "shell.execute_reply": "2021-02-22T21:41:53.805275Z"
    },
    "papermill": {
     "duration": 0.16355,
     "end_time": "2021-02-22T21:41:53.805706",
     "exception": false,
     "start_time": "2021-02-22T21:41:53.642156",
     "status": "completed"
    },
    "tags": []
   },
   "outputs": [],
   "source": [
    "from sklearn.cluster import SpectralClustering"
   ]
  },
  {
   "cell_type": "code",
   "execution_count": 12,
   "metadata": {
    "execution": {
     "iopub.execute_input": "2021-02-22T21:41:53.857550Z",
     "iopub.status.busy": "2021-02-22T21:41:53.857164Z",
     "iopub.status.idle": "2021-02-22T21:41:53.867695Z",
     "shell.execute_reply": "2021-02-22T21:41:53.867970Z"
    },
    "papermill": {
     "duration": 0.037504,
     "end_time": "2021-02-22T21:41:53.868078",
     "exception": false,
     "start_time": "2021-02-22T21:41:53.830574",
     "status": "completed"
    },
    "tags": []
   },
   "outputs": [],
   "source": [
    "CLUSTERING_ATTRIBUTES_TO_SAVE = [\"n_clusters\"]"
   ]
  },
  {
   "cell_type": "code",
   "execution_count": 13,
   "metadata": {
    "execution": {
     "iopub.execute_input": "2021-02-22T21:41:53.920260Z",
     "iopub.status.busy": "2021-02-22T21:41:53.919892Z",
     "iopub.status.idle": "2021-02-22T21:41:53.932059Z",
     "shell.execute_reply": "2021-02-22T21:41:53.931678Z"
    },
    "papermill": {
     "duration": 0.039159,
     "end_time": "2021-02-22T21:41:53.932148",
     "exception": false,
     "start_time": "2021-02-22T21:41:53.892989",
     "status": "completed"
    },
    "tags": []
   },
   "outputs": [
    {
     "data": {
      "text/plain": [
       "{'K_MIN': 2,\n",
       " 'K_MAX': 60,\n",
       " 'N_REPS_PER_K': 5,\n",
       " 'KMEANS_N_INIT': 10,\n",
       " 'GAMMA': 1e-10,\n",
       " 'AFFINITY': 'rbf'}"
      ]
     },
     "metadata": {},
     "output_type": "display_data"
    }
   ],
   "source": [
    "CLUSTERING_OPTIONS = {}\n",
    "\n",
    "CLUSTERING_OPTIONS[\"K_MIN\"] = 2\n",
    "CLUSTERING_OPTIONS[\"K_MAX\"] = 60  # sqrt(3749)\n",
    "CLUSTERING_OPTIONS[\"N_REPS_PER_K\"] = 5\n",
    "CLUSTERING_OPTIONS[\"KMEANS_N_INIT\"] = 10\n",
    "CLUSTERING_OPTIONS[\"GAMMA\"] = 1.0e-02\n",
    "CLUSTERING_OPTIONS[\"AFFINITY\"] = \"rbf\"\n",
    "\n",
    "display(CLUSTERING_OPTIONS)"
   ]
  },
  {
   "cell_type": "code",
   "execution_count": 14,
   "metadata": {
    "execution": {
     "iopub.execute_input": "2021-02-22T21:41:53.986131Z",
     "iopub.status.busy": "2021-02-22T21:41:53.985752Z",
     "iopub.status.idle": "2021-02-22T21:41:53.997766Z",
     "shell.execute_reply": "2021-02-22T21:41:53.997378Z"
    },
    "papermill": {
     "duration": 0.040117,
     "end_time": "2021-02-22T21:41:53.997857",
     "exception": false,
     "start_time": "2021-02-22T21:41:53.957740",
     "status": "completed"
    },
    "tags": []
   },
   "outputs": [],
   "source": [
    "CLUSTERERS = {}\n",
    "\n",
    "idx = 0\n",
    "random_state = INITIAL_RANDOM_STATE\n",
    "\n",
    "for k in range(CLUSTERING_OPTIONS[\"K_MIN\"], CLUSTERING_OPTIONS[\"K_MAX\"] + 1):\n",
    "    for i in range(CLUSTERING_OPTIONS[\"N_REPS_PER_K\"]):\n",
    "        clus = SpectralClustering(\n",
    "            eigen_solver=\"arpack\",\n",
    "            n_clusters=k,\n",
    "            n_init=CLUSTERING_OPTIONS[\"KMEANS_N_INIT\"],\n",
    "            affinity=CLUSTERING_OPTIONS[\"AFFINITY\"],\n",
    "            gamma=CLUSTERING_OPTIONS[\"GAMMA\"],\n",
    "            random_state=random_state,\n",
    "        )\n",
    "\n",
    "        method_name = type(clus).__name__\n",
    "        CLUSTERERS[f\"{method_name} #{idx}\"] = clus\n",
    "\n",
    "        random_state = random_state + 1\n",
    "        idx = idx + 1"
   ]
  },
  {
   "cell_type": "code",
   "execution_count": 15,
   "metadata": {
    "execution": {
     "iopub.execute_input": "2021-02-22T21:41:54.051086Z",
     "iopub.status.busy": "2021-02-22T21:41:54.050726Z",
     "iopub.status.idle": "2021-02-22T21:41:54.062353Z",
     "shell.execute_reply": "2021-02-22T21:41:54.061984Z"
    },
    "papermill": {
     "duration": 0.038739,
     "end_time": "2021-02-22T21:41:54.062439",
     "exception": false,
     "start_time": "2021-02-22T21:41:54.023700",
     "status": "completed"
    },
    "tags": []
   },
   "outputs": [
    {
     "data": {
      "text/plain": [
       "295"
      ]
     },
     "metadata": {},
     "output_type": "display_data"
    }
   ],
   "source": [
    "display(len(CLUSTERERS))"
   ]
  },
  {
   "cell_type": "code",
   "execution_count": 16,
   "metadata": {
    "execution": {
     "iopub.execute_input": "2021-02-22T21:41:54.115404Z",
     "iopub.status.busy": "2021-02-22T21:41:54.115027Z",
     "iopub.status.idle": "2021-02-22T21:41:54.128798Z",
     "shell.execute_reply": "2021-02-22T21:41:54.128411Z"
    },
    "papermill": {
     "duration": 0.040907,
     "end_time": "2021-02-22T21:41:54.128888",
     "exception": false,
     "start_time": "2021-02-22T21:41:54.087981",
     "status": "completed"
    },
    "tags": []
   },
   "outputs": [
    {
     "data": {
      "text/plain": [
       "('SpectralClustering #0',\n",
       " SpectralClustering(eigen_solver='arpack', gamma=1e-10, n_clusters=2,\n",
       "                    random_state=50000))"
      ]
     },
     "metadata": {},
     "output_type": "display_data"
    },
    {
     "data": {
      "text/plain": [
       "('SpectralClustering #1',\n",
       " SpectralClustering(eigen_solver='arpack', gamma=1e-10, n_clusters=2,\n",
       "                    random_state=50001))"
      ]
     },
     "metadata": {},
     "output_type": "display_data"
    }
   ],
   "source": [
    "_iter = iter(CLUSTERERS.items())\n",
    "display(next(_iter))\n",
    "display(next(_iter))"
   ]
  },
  {
   "cell_type": "code",
   "execution_count": 17,
   "metadata": {
    "execution": {
     "iopub.execute_input": "2021-02-22T21:41:54.182947Z",
     "iopub.status.busy": "2021-02-22T21:41:54.182583Z",
     "iopub.status.idle": "2021-02-22T21:41:54.194478Z",
     "shell.execute_reply": "2021-02-22T21:41:54.194076Z"
    },
    "papermill": {
     "duration": 0.039656,
     "end_time": "2021-02-22T21:41:54.194568",
     "exception": false,
     "start_time": "2021-02-22T21:41:54.154912",
     "status": "completed"
    },
    "tags": []
   },
   "outputs": [
    {
     "data": {
      "text/plain": [
       "'SpectralClustering'"
      ]
     },
     "metadata": {},
     "output_type": "display_data"
    }
   ],
   "source": [
    "clustering_method_name = method_name\n",
    "display(clustering_method_name)"
   ]
  },
  {
   "cell_type": "markdown",
   "metadata": {
    "papermill": {
     "duration": 0.025688,
     "end_time": "2021-02-22T21:41:54.247665",
     "exception": false,
     "start_time": "2021-02-22T21:41:54.221977",
     "status": "completed"
    },
    "tags": []
   },
   "source": [
    "## Output directory"
   ]
  },
  {
   "cell_type": "code",
   "execution_count": 18,
   "metadata": {
    "execution": {
     "iopub.execute_input": "2021-02-22T21:41:54.301274Z",
     "iopub.status.busy": "2021-02-22T21:41:54.300910Z",
     "iopub.status.idle": "2021-02-22T21:41:54.312733Z",
     "shell.execute_reply": "2021-02-22T21:41:54.312418Z"
    },
    "papermill": {
     "duration": 0.039769,
     "end_time": "2021-02-22T21:41:54.312836",
     "exception": false,
     "start_time": "2021-02-22T21:41:54.273067",
     "status": "completed"
    },
    "tags": []
   },
   "outputs": [
    {
     "data": {
      "text/plain": [
       "PosixPath('/home/miltondp/projects/labs/greenelab/phenoplier/base3/results/clustering/runs/umap-z_score_std-projection-smultixcan-efo_partial-mashr-zscores')"
      ]
     },
     "metadata": {},
     "output_type": "display_data"
    }
   ],
   "source": [
    "# output dir for this notebook\n",
    "RESULTS_DIR = Path(\n",
    "    conf.RESULTS[\"CLUSTERING_RUNS_DIR\"],\n",
    "    f\"{INPUT_SUBSET}-{INPUT_STEM}\",\n",
    ").resolve()\n",
    "RESULTS_DIR.mkdir(parents=True, exist_ok=True)\n",
    "\n",
    "display(RESULTS_DIR)"
   ]
  },
  {
   "cell_type": "markdown",
   "metadata": {
    "papermill": {
     "duration": 0.025666,
     "end_time": "2021-02-22T21:41:54.364989",
     "exception": false,
     "start_time": "2021-02-22T21:41:54.339323",
     "status": "completed"
    },
    "tags": []
   },
   "source": [
    "# Load input file"
   ]
  },
  {
   "cell_type": "code",
   "execution_count": 19,
   "metadata": {
    "execution": {
     "iopub.execute_input": "2021-02-22T21:41:54.418759Z",
     "iopub.status.busy": "2021-02-22T21:41:54.418386Z",
     "iopub.status.idle": "2021-02-22T21:41:54.431188Z",
     "shell.execute_reply": "2021-02-22T21:41:54.430797Z"
    },
    "papermill": {
     "duration": 0.040833,
     "end_time": "2021-02-22T21:41:54.431279",
     "exception": false,
     "start_time": "2021-02-22T21:41:54.390446",
     "status": "completed"
    },
    "tags": []
   },
   "outputs": [],
   "source": [
    "data = pd.read_pickle(input_filepath)"
   ]
  },
  {
   "cell_type": "code",
   "execution_count": 20,
   "metadata": {
    "execution": {
     "iopub.execute_input": "2021-02-22T21:41:54.485602Z",
     "iopub.status.busy": "2021-02-22T21:41:54.485225Z",
     "iopub.status.idle": "2021-02-22T21:41:54.497311Z",
     "shell.execute_reply": "2021-02-22T21:41:54.496942Z"
    },
    "papermill": {
     "duration": 0.039946,
     "end_time": "2021-02-22T21:41:54.497398",
     "exception": false,
     "start_time": "2021-02-22T21:41:54.457452",
     "status": "completed"
    },
    "tags": []
   },
   "outputs": [
    {
     "data": {
      "text/plain": [
       "(3749, 50)"
      ]
     },
     "execution_count": 20,
     "metadata": {},
     "output_type": "execute_result"
    }
   ],
   "source": [
    "data.shape"
   ]
  },
  {
   "cell_type": "code",
   "execution_count": 21,
   "metadata": {
    "execution": {
     "iopub.execute_input": "2021-02-22T21:41:54.553646Z",
     "iopub.status.busy": "2021-02-22T21:41:54.553262Z",
     "iopub.status.idle": "2021-02-22T21:41:54.577399Z",
     "shell.execute_reply": "2021-02-22T21:41:54.577710Z"
    },
    "papermill": {
     "duration": 0.052595,
     "end_time": "2021-02-22T21:41:54.577817",
     "exception": false,
     "start_time": "2021-02-22T21:41:54.525222",
     "status": "completed"
    },
    "tags": []
   },
   "outputs": [
    {
     "data": {
      "text/html": [
       "<div>\n",
       "<style scoped>\n",
       "    .dataframe tbody tr th:only-of-type {\n",
       "        vertical-align: middle;\n",
       "    }\n",
       "\n",
       "    .dataframe tbody tr th {\n",
       "        vertical-align: top;\n",
       "    }\n",
       "\n",
       "    .dataframe thead th {\n",
       "        text-align: right;\n",
       "    }\n",
       "</style>\n",
       "<table border=\"1\" class=\"dataframe\">\n",
       "  <thead>\n",
       "    <tr style=\"text-align: right;\">\n",
       "      <th></th>\n",
       "      <th>UMAP1</th>\n",
       "      <th>UMAP2</th>\n",
       "      <th>UMAP3</th>\n",
       "      <th>UMAP4</th>\n",
       "      <th>UMAP5</th>\n",
       "      <th>UMAP6</th>\n",
       "      <th>UMAP7</th>\n",
       "      <th>UMAP8</th>\n",
       "      <th>UMAP9</th>\n",
       "      <th>UMAP10</th>\n",
       "      <th>...</th>\n",
       "      <th>UMAP41</th>\n",
       "      <th>UMAP42</th>\n",
       "      <th>UMAP43</th>\n",
       "      <th>UMAP44</th>\n",
       "      <th>UMAP45</th>\n",
       "      <th>UMAP46</th>\n",
       "      <th>UMAP47</th>\n",
       "      <th>UMAP48</th>\n",
       "      <th>UMAP49</th>\n",
       "      <th>UMAP50</th>\n",
       "    </tr>\n",
       "  </thead>\n",
       "  <tbody>\n",
       "    <tr>\n",
       "      <th>100001_raw-Food_weight</th>\n",
       "      <td>11.531590</td>\n",
       "      <td>10.773390</td>\n",
       "      <td>10.551500</td>\n",
       "      <td>5.689103</td>\n",
       "      <td>12.646474</td>\n",
       "      <td>8.795625</td>\n",
       "      <td>2.365859</td>\n",
       "      <td>-3.382425</td>\n",
       "      <td>1.458605</td>\n",
       "      <td>14.236823</td>\n",
       "      <td>...</td>\n",
       "      <td>2.214731</td>\n",
       "      <td>9.304909</td>\n",
       "      <td>3.359118</td>\n",
       "      <td>5.211676</td>\n",
       "      <td>1.265622</td>\n",
       "      <td>2.058685</td>\n",
       "      <td>1.291174</td>\n",
       "      <td>1.565621</td>\n",
       "      <td>7.317275</td>\n",
       "      <td>9.037535</td>\n",
       "    </tr>\n",
       "    <tr>\n",
       "      <th>100002_raw-Energy</th>\n",
       "      <td>11.554761</td>\n",
       "      <td>10.753816</td>\n",
       "      <td>10.548004</td>\n",
       "      <td>5.710800</td>\n",
       "      <td>12.674987</td>\n",
       "      <td>8.787647</td>\n",
       "      <td>2.379787</td>\n",
       "      <td>-3.339913</td>\n",
       "      <td>1.442655</td>\n",
       "      <td>14.196218</td>\n",
       "      <td>...</td>\n",
       "      <td>2.237087</td>\n",
       "      <td>9.270699</td>\n",
       "      <td>3.383440</td>\n",
       "      <td>5.185328</td>\n",
       "      <td>1.257113</td>\n",
       "      <td>2.057439</td>\n",
       "      <td>1.290686</td>\n",
       "      <td>1.557209</td>\n",
       "      <td>7.297037</td>\n",
       "      <td>9.009866</td>\n",
       "    </tr>\n",
       "    <tr>\n",
       "      <th>100003_raw-Protein</th>\n",
       "      <td>11.519615</td>\n",
       "      <td>10.786408</td>\n",
       "      <td>10.540249</td>\n",
       "      <td>5.687959</td>\n",
       "      <td>12.628188</td>\n",
       "      <td>8.789925</td>\n",
       "      <td>2.368370</td>\n",
       "      <td>-3.390937</td>\n",
       "      <td>1.464806</td>\n",
       "      <td>14.233623</td>\n",
       "      <td>...</td>\n",
       "      <td>2.216162</td>\n",
       "      <td>9.314158</td>\n",
       "      <td>3.350708</td>\n",
       "      <td>5.226166</td>\n",
       "      <td>1.267382</td>\n",
       "      <td>2.051692</td>\n",
       "      <td>1.305047</td>\n",
       "      <td>1.558942</td>\n",
       "      <td>7.307035</td>\n",
       "      <td>9.042575</td>\n",
       "    </tr>\n",
       "    <tr>\n",
       "      <th>100004_raw-Fat</th>\n",
       "      <td>11.515584</td>\n",
       "      <td>10.756584</td>\n",
       "      <td>10.570711</td>\n",
       "      <td>5.697041</td>\n",
       "      <td>12.661936</td>\n",
       "      <td>8.787330</td>\n",
       "      <td>2.396913</td>\n",
       "      <td>-3.351611</td>\n",
       "      <td>1.435632</td>\n",
       "      <td>14.221588</td>\n",
       "      <td>...</td>\n",
       "      <td>2.214707</td>\n",
       "      <td>9.273252</td>\n",
       "      <td>3.383349</td>\n",
       "      <td>5.220068</td>\n",
       "      <td>1.270067</td>\n",
       "      <td>2.065669</td>\n",
       "      <td>1.281447</td>\n",
       "      <td>1.578588</td>\n",
       "      <td>7.332527</td>\n",
       "      <td>9.005523</td>\n",
       "    </tr>\n",
       "    <tr>\n",
       "      <th>100005_raw-Carbohydrate</th>\n",
       "      <td>11.528723</td>\n",
       "      <td>10.762026</td>\n",
       "      <td>10.566773</td>\n",
       "      <td>5.698555</td>\n",
       "      <td>12.671127</td>\n",
       "      <td>8.791903</td>\n",
       "      <td>2.394764</td>\n",
       "      <td>-3.354370</td>\n",
       "      <td>1.442259</td>\n",
       "      <td>14.226301</td>\n",
       "      <td>...</td>\n",
       "      <td>2.216362</td>\n",
       "      <td>9.275563</td>\n",
       "      <td>3.383139</td>\n",
       "      <td>5.216354</td>\n",
       "      <td>1.269187</td>\n",
       "      <td>2.063429</td>\n",
       "      <td>1.280020</td>\n",
       "      <td>1.577227</td>\n",
       "      <td>7.335059</td>\n",
       "      <td>9.009464</td>\n",
       "    </tr>\n",
       "  </tbody>\n",
       "</table>\n",
       "<p>5 rows × 50 columns</p>\n",
       "</div>"
      ],
      "text/plain": [
       "                             UMAP1      UMAP2      UMAP3     UMAP4      UMAP5  \\\n",
       "100001_raw-Food_weight   11.531590  10.773390  10.551500  5.689103  12.646474   \n",
       "100002_raw-Energy        11.554761  10.753816  10.548004  5.710800  12.674987   \n",
       "100003_raw-Protein       11.519615  10.786408  10.540249  5.687959  12.628188   \n",
       "100004_raw-Fat           11.515584  10.756584  10.570711  5.697041  12.661936   \n",
       "100005_raw-Carbohydrate  11.528723  10.762026  10.566773  5.698555  12.671127   \n",
       "\n",
       "                            UMAP6     UMAP7     UMAP8     UMAP9     UMAP10  \\\n",
       "100001_raw-Food_weight   8.795625  2.365859 -3.382425  1.458605  14.236823   \n",
       "100002_raw-Energy        8.787647  2.379787 -3.339913  1.442655  14.196218   \n",
       "100003_raw-Protein       8.789925  2.368370 -3.390937  1.464806  14.233623   \n",
       "100004_raw-Fat           8.787330  2.396913 -3.351611  1.435632  14.221588   \n",
       "100005_raw-Carbohydrate  8.791903  2.394764 -3.354370  1.442259  14.226301   \n",
       "\n",
       "                         ...    UMAP41    UMAP42    UMAP43    UMAP44  \\\n",
       "100001_raw-Food_weight   ...  2.214731  9.304909  3.359118  5.211676   \n",
       "100002_raw-Energy        ...  2.237087  9.270699  3.383440  5.185328   \n",
       "100003_raw-Protein       ...  2.216162  9.314158  3.350708  5.226166   \n",
       "100004_raw-Fat           ...  2.214707  9.273252  3.383349  5.220068   \n",
       "100005_raw-Carbohydrate  ...  2.216362  9.275563  3.383139  5.216354   \n",
       "\n",
       "                           UMAP45    UMAP46    UMAP47    UMAP48    UMAP49  \\\n",
       "100001_raw-Food_weight   1.265622  2.058685  1.291174  1.565621  7.317275   \n",
       "100002_raw-Energy        1.257113  2.057439  1.290686  1.557209  7.297037   \n",
       "100003_raw-Protein       1.267382  2.051692  1.305047  1.558942  7.307035   \n",
       "100004_raw-Fat           1.270067  2.065669  1.281447  1.578588  7.332527   \n",
       "100005_raw-Carbohydrate  1.269187  2.063429  1.280020  1.577227  7.335059   \n",
       "\n",
       "                           UMAP50  \n",
       "100001_raw-Food_weight   9.037535  \n",
       "100002_raw-Energy        9.009866  \n",
       "100003_raw-Protein       9.042575  \n",
       "100004_raw-Fat           9.005523  \n",
       "100005_raw-Carbohydrate  9.009464  \n",
       "\n",
       "[5 rows x 50 columns]"
      ]
     },
     "execution_count": 21,
     "metadata": {},
     "output_type": "execute_result"
    }
   ],
   "source": [
    "data.head()"
   ]
  },
  {
   "cell_type": "code",
   "execution_count": 22,
   "metadata": {
    "execution": {
     "iopub.execute_input": "2021-02-22T21:41:54.632938Z",
     "iopub.status.busy": "2021-02-22T21:41:54.632532Z",
     "iopub.status.idle": "2021-02-22T21:41:54.644278Z",
     "shell.execute_reply": "2021-02-22T21:41:54.643920Z"
    },
    "papermill": {
     "duration": 0.040467,
     "end_time": "2021-02-22T21:41:54.644374",
     "exception": false,
     "start_time": "2021-02-22T21:41:54.603907",
     "status": "completed"
    },
    "tags": []
   },
   "outputs": [],
   "source": [
    "assert not data.isna().any().any()"
   ]
  },
  {
   "cell_type": "markdown",
   "metadata": {
    "papermill": {
     "duration": 0.026274,
     "end_time": "2021-02-22T21:41:54.698767",
     "exception": false,
     "start_time": "2021-02-22T21:41:54.672493",
     "status": "completed"
    },
    "tags": []
   },
   "source": [
    "# Clustering"
   ]
  },
  {
   "cell_type": "markdown",
   "metadata": {
    "papermill": {
     "duration": 0.025987,
     "end_time": "2021-02-22T21:41:54.753516",
     "exception": false,
     "start_time": "2021-02-22T21:41:54.727529",
     "status": "completed"
    },
    "tags": []
   },
   "source": [
    "## Generate ensemble"
   ]
  },
  {
   "cell_type": "code",
   "execution_count": 23,
   "metadata": {
    "execution": {
     "iopub.execute_input": "2021-02-22T21:41:54.808498Z",
     "iopub.status.busy": "2021-02-22T21:41:54.808129Z",
     "iopub.status.idle": "2021-02-22T21:41:54.821553Z",
     "shell.execute_reply": "2021-02-22T21:41:54.821839Z"
    },
    "papermill": {
     "duration": 0.04246,
     "end_time": "2021-02-22T21:41:54.821978",
     "exception": false,
     "start_time": "2021-02-22T21:41:54.779518",
     "status": "completed"
    },
    "tags": []
   },
   "outputs": [],
   "source": [
    "from clustering.ensembles.utils import generate_ensemble"
   ]
  },
  {
   "cell_type": "code",
   "execution_count": 24,
   "metadata": {
    "execution": {
     "iopub.execute_input": "2021-02-22T21:41:54.879420Z",
     "iopub.status.busy": "2021-02-22T21:41:54.879041Z",
     "iopub.status.idle": "2021-02-22T21:55:02.933893Z",
     "shell.execute_reply": "2021-02-22T21:55:02.933431Z"
    },
    "papermill": {
     "duration": 788.084122,
     "end_time": "2021-02-22T21:55:02.933983",
     "exception": false,
     "start_time": "2021-02-22T21:41:54.849861",
     "status": "completed"
    },
    "tags": []
   },
   "outputs": [
    {
     "name": "stderr",
     "output_type": "stream",
     "text": [
      "100%|██████████| 295/295 [13:08<00:00,  2.67s/it]\n"
     ]
    }
   ],
   "source": [
    "ensemble = generate_ensemble(\n",
    "    data,\n",
    "    CLUSTERERS,\n",
    "    attributes=CLUSTERING_ATTRIBUTES_TO_SAVE,\n",
    ")"
   ]
  },
  {
   "cell_type": "code",
   "execution_count": 25,
   "metadata": {
    "execution": {
     "iopub.execute_input": "2021-02-22T21:55:03.081481Z",
     "iopub.status.busy": "2021-02-22T21:55:03.081117Z",
     "iopub.status.idle": "2021-02-22T21:55:03.092901Z",
     "shell.execute_reply": "2021-02-22T21:55:03.092482Z"
    },
    "papermill": {
     "duration": 0.085985,
     "end_time": "2021-02-22T21:55:03.092987",
     "exception": false,
     "start_time": "2021-02-22T21:55:03.007002",
     "status": "completed"
    },
    "tags": []
   },
   "outputs": [
    {
     "data": {
      "text/plain": [
       "(295, 3)"
      ]
     },
     "execution_count": 25,
     "metadata": {},
     "output_type": "execute_result"
    }
   ],
   "source": [
    "# the number should be close to 295 (the number of partitions generated by k-means/spectral clustering)\n",
    "ensemble.shape"
   ]
  },
  {
   "cell_type": "code",
   "execution_count": 26,
   "metadata": {
    "execution": {
     "iopub.execute_input": "2021-02-22T21:55:03.240356Z",
     "iopub.status.busy": "2021-02-22T21:55:03.239982Z",
     "iopub.status.idle": "2021-02-22T21:55:03.259054Z",
     "shell.execute_reply": "2021-02-22T21:55:03.258687Z"
    },
    "papermill": {
     "duration": 0.093673,
     "end_time": "2021-02-22T21:55:03.259140",
     "exception": false,
     "start_time": "2021-02-22T21:55:03.165467",
     "status": "completed"
    },
    "tags": []
   },
   "outputs": [
    {
     "data": {
      "text/html": [
       "<div>\n",
       "<style scoped>\n",
       "    .dataframe tbody tr th:only-of-type {\n",
       "        vertical-align: middle;\n",
       "    }\n",
       "\n",
       "    .dataframe tbody tr th {\n",
       "        vertical-align: top;\n",
       "    }\n",
       "\n",
       "    .dataframe thead th {\n",
       "        text-align: right;\n",
       "    }\n",
       "</style>\n",
       "<table border=\"1\" class=\"dataframe\">\n",
       "  <thead>\n",
       "    <tr style=\"text-align: right;\">\n",
       "      <th></th>\n",
       "      <th>clusterer_params</th>\n",
       "      <th>partition</th>\n",
       "      <th>n_clusters</th>\n",
       "    </tr>\n",
       "    <tr>\n",
       "      <th>clusterer_id</th>\n",
       "      <th></th>\n",
       "      <th></th>\n",
       "      <th></th>\n",
       "    </tr>\n",
       "  </thead>\n",
       "  <tbody>\n",
       "    <tr>\n",
       "      <th>SpectralClustering #0</th>\n",
       "      <td>{'affinity': 'rbf', 'assign_labels': 'kmeans',...</td>\n",
       "      <td>[0.0, 0.0, 0.0, 0.0, 0.0, 0.0, 0.0, 0.0, 0.0, ...</td>\n",
       "      <td>2</td>\n",
       "    </tr>\n",
       "    <tr>\n",
       "      <th>SpectralClustering #1</th>\n",
       "      <td>{'affinity': 'rbf', 'assign_labels': 'kmeans',...</td>\n",
       "      <td>[1.0, 1.0, 1.0, 1.0, 1.0, 1.0, 1.0, 1.0, 1.0, ...</td>\n",
       "      <td>2</td>\n",
       "    </tr>\n",
       "    <tr>\n",
       "      <th>SpectralClustering #2</th>\n",
       "      <td>{'affinity': 'rbf', 'assign_labels': 'kmeans',...</td>\n",
       "      <td>[0.0, 0.0, 0.0, 0.0, 0.0, 0.0, 0.0, 0.0, 0.0, ...</td>\n",
       "      <td>2</td>\n",
       "    </tr>\n",
       "    <tr>\n",
       "      <th>SpectralClustering #3</th>\n",
       "      <td>{'affinity': 'rbf', 'assign_labels': 'kmeans',...</td>\n",
       "      <td>[0.0, 0.0, 0.0, 0.0, 0.0, 0.0, 0.0, 0.0, 0.0, ...</td>\n",
       "      <td>2</td>\n",
       "    </tr>\n",
       "    <tr>\n",
       "      <th>SpectralClustering #4</th>\n",
       "      <td>{'affinity': 'rbf', 'assign_labels': 'kmeans',...</td>\n",
       "      <td>[0.0, 0.0, 0.0, 0.0, 0.0, 0.0, 0.0, 0.0, 0.0, ...</td>\n",
       "      <td>2</td>\n",
       "    </tr>\n",
       "  </tbody>\n",
       "</table>\n",
       "</div>"
      ],
      "text/plain": [
       "                                                        clusterer_params  \\\n",
       "clusterer_id                                                               \n",
       "SpectralClustering #0  {'affinity': 'rbf', 'assign_labels': 'kmeans',...   \n",
       "SpectralClustering #1  {'affinity': 'rbf', 'assign_labels': 'kmeans',...   \n",
       "SpectralClustering #2  {'affinity': 'rbf', 'assign_labels': 'kmeans',...   \n",
       "SpectralClustering #3  {'affinity': 'rbf', 'assign_labels': 'kmeans',...   \n",
       "SpectralClustering #4  {'affinity': 'rbf', 'assign_labels': 'kmeans',...   \n",
       "\n",
       "                                                               partition  \\\n",
       "clusterer_id                                                               \n",
       "SpectralClustering #0  [0.0, 0.0, 0.0, 0.0, 0.0, 0.0, 0.0, 0.0, 0.0, ...   \n",
       "SpectralClustering #1  [1.0, 1.0, 1.0, 1.0, 1.0, 1.0, 1.0, 1.0, 1.0, ...   \n",
       "SpectralClustering #2  [0.0, 0.0, 0.0, 0.0, 0.0, 0.0, 0.0, 0.0, 0.0, ...   \n",
       "SpectralClustering #3  [0.0, 0.0, 0.0, 0.0, 0.0, 0.0, 0.0, 0.0, 0.0, ...   \n",
       "SpectralClustering #4  [0.0, 0.0, 0.0, 0.0, 0.0, 0.0, 0.0, 0.0, 0.0, ...   \n",
       "\n",
       "                       n_clusters  \n",
       "clusterer_id                       \n",
       "SpectralClustering #0           2  \n",
       "SpectralClustering #1           2  \n",
       "SpectralClustering #2           2  \n",
       "SpectralClustering #3           2  \n",
       "SpectralClustering #4           2  "
      ]
     },
     "execution_count": 26,
     "metadata": {},
     "output_type": "execute_result"
    }
   ],
   "source": [
    "ensemble.head()"
   ]
  },
  {
   "cell_type": "code",
   "execution_count": 27,
   "metadata": {
    "execution": {
     "iopub.execute_input": "2021-02-22T21:55:03.407186Z",
     "iopub.status.busy": "2021-02-22T21:55:03.406823Z",
     "iopub.status.idle": "2021-02-22T21:55:03.419752Z",
     "shell.execute_reply": "2021-02-22T21:55:03.419374Z"
    },
    "papermill": {
     "duration": 0.087594,
     "end_time": "2021-02-22T21:55:03.419841",
     "exception": false,
     "start_time": "2021-02-22T21:55:03.332247",
     "status": "completed"
    },
    "tags": []
   },
   "outputs": [
    {
     "data": {
      "text/plain": [
       "60    5\n",
       "16    5\n",
       "28    5\n",
       "27    5\n",
       "26    5\n",
       "Name: n_clusters, dtype: int64"
      ]
     },
     "execution_count": 27,
     "metadata": {},
     "output_type": "execute_result"
    }
   ],
   "source": [
    "ensemble[\"n_clusters\"].value_counts().head()"
   ]
  },
  {
   "cell_type": "code",
   "execution_count": 28,
   "metadata": {
    "execution": {
     "iopub.execute_input": "2021-02-22T21:55:03.568907Z",
     "iopub.status.busy": "2021-02-22T21:55:03.568463Z",
     "iopub.status.idle": "2021-02-22T21:55:03.582405Z",
     "shell.execute_reply": "2021-02-22T21:55:03.582081Z"
    },
    "papermill": {
     "duration": 0.088757,
     "end_time": "2021-02-22T21:55:03.582493",
     "exception": false,
     "start_time": "2021-02-22T21:55:03.493736",
     "status": "completed"
    },
    "tags": []
   },
   "outputs": [
    {
     "data": {
      "text/plain": [
       "count    295.000000\n",
       "mean      31.000000\n",
       "std       17.058323\n",
       "min        2.000000\n",
       "25%       16.000000\n",
       "50%       31.000000\n",
       "75%       46.000000\n",
       "max       60.000000\n",
       "Name: n_clusters, dtype: float64"
      ]
     },
     "metadata": {},
     "output_type": "display_data"
    }
   ],
   "source": [
    "ensemble_stats = ensemble[\"n_clusters\"].describe()\n",
    "display(ensemble_stats)"
   ]
  },
  {
   "cell_type": "markdown",
   "metadata": {
    "papermill": {
     "duration": 0.073693,
     "end_time": "2021-02-22T21:55:03.730019",
     "exception": false,
     "start_time": "2021-02-22T21:55:03.656326",
     "status": "completed"
    },
    "tags": []
   },
   "source": [
    "## Testing"
   ]
  },
  {
   "cell_type": "code",
   "execution_count": 29,
   "metadata": {
    "execution": {
     "iopub.execute_input": "2021-02-22T21:55:03.883194Z",
     "iopub.status.busy": "2021-02-22T21:55:03.882834Z",
     "iopub.status.idle": "2021-02-22T21:55:03.893486Z",
     "shell.execute_reply": "2021-02-22T21:55:03.893175Z"
    },
    "papermill": {
     "duration": 0.090002,
     "end_time": "2021-02-22T21:55:03.893577",
     "exception": false,
     "start_time": "2021-02-22T21:55:03.803575",
     "status": "completed"
    },
    "tags": []
   },
   "outputs": [],
   "source": [
    "assert ensemble_stats[\"min\"] > 1"
   ]
  },
  {
   "cell_type": "code",
   "execution_count": 30,
   "metadata": {
    "execution": {
     "iopub.execute_input": "2021-02-22T21:55:04.043398Z",
     "iopub.status.busy": "2021-02-22T21:55:04.043012Z",
     "iopub.status.idle": "2021-02-22T21:55:04.054087Z",
     "shell.execute_reply": "2021-02-22T21:55:04.053718Z"
    },
    "papermill": {
     "duration": 0.086041,
     "end_time": "2021-02-22T21:55:04.054174",
     "exception": false,
     "start_time": "2021-02-22T21:55:03.968133",
     "status": "completed"
    },
    "tags": []
   },
   "outputs": [],
   "source": [
    "assert not ensemble[\"n_clusters\"].isna().any()"
   ]
  },
  {
   "cell_type": "code",
   "execution_count": 31,
   "metadata": {
    "execution": {
     "iopub.execute_input": "2021-02-22T21:55:04.201882Z",
     "iopub.status.busy": "2021-02-22T21:55:04.201527Z",
     "iopub.status.idle": "2021-02-22T21:55:04.212320Z",
     "shell.execute_reply": "2021-02-22T21:55:04.211946Z"
    },
    "papermill": {
     "duration": 0.085522,
     "end_time": "2021-02-22T21:55:04.212408",
     "exception": false,
     "start_time": "2021-02-22T21:55:04.126886",
     "status": "completed"
    },
    "tags": []
   },
   "outputs": [],
   "source": [
    "assert ensemble.shape[0] == len(CLUSTERERS)"
   ]
  },
  {
   "cell_type": "code",
   "execution_count": 32,
   "metadata": {
    "execution": {
     "iopub.execute_input": "2021-02-22T21:55:04.361470Z",
     "iopub.status.busy": "2021-02-22T21:55:04.361086Z",
     "iopub.status.idle": "2021-02-22T21:55:04.389444Z",
     "shell.execute_reply": "2021-02-22T21:55:04.389094Z"
    },
    "papermill": {
     "duration": 0.103466,
     "end_time": "2021-02-22T21:55:04.389532",
     "exception": false,
     "start_time": "2021-02-22T21:55:04.286066",
     "status": "completed"
    },
    "tags": []
   },
   "outputs": [],
   "source": [
    "# all partitions have the right size\n",
    "assert np.all(\n",
    "    [part[\"partition\"].shape[0] == data.shape[0] for idx, part in ensemble.iterrows()]\n",
    ")"
   ]
  },
  {
   "cell_type": "code",
   "execution_count": 33,
   "metadata": {
    "execution": {
     "iopub.execute_input": "2021-02-22T21:55:04.538860Z",
     "iopub.status.busy": "2021-02-22T21:55:04.538499Z",
     "iopub.status.idle": "2021-02-22T21:55:04.570004Z",
     "shell.execute_reply": "2021-02-22T21:55:04.569664Z"
    },
    "papermill": {
     "duration": 0.106661,
     "end_time": "2021-02-22T21:55:04.570093",
     "exception": false,
     "start_time": "2021-02-22T21:55:04.463432",
     "status": "completed"
    },
    "tags": []
   },
   "outputs": [],
   "source": [
    "# no partition has negative clusters (noisy points)\n",
    "assert not np.any([(part[\"partition\"] < 0).any() for idx, part in ensemble.iterrows()])"
   ]
  },
  {
   "cell_type": "markdown",
   "metadata": {
    "papermill": {
     "duration": 0.073398,
     "end_time": "2021-02-22T21:55:04.716812",
     "exception": false,
     "start_time": "2021-02-22T21:55:04.643414",
     "status": "completed"
    },
    "tags": []
   },
   "source": [
    "## Add clustering quality measures"
   ]
  },
  {
   "cell_type": "code",
   "execution_count": 34,
   "metadata": {
    "execution": {
     "iopub.execute_input": "2021-02-22T21:55:04.868269Z",
     "iopub.status.busy": "2021-02-22T21:55:04.867912Z",
     "iopub.status.idle": "2021-02-22T21:55:04.881344Z",
     "shell.execute_reply": "2021-02-22T21:55:04.880285Z"
    },
    "papermill": {
     "duration": 0.091706,
     "end_time": "2021-02-22T21:55:04.881577",
     "exception": false,
     "start_time": "2021-02-22T21:55:04.789871",
     "status": "completed"
    },
    "tags": []
   },
   "outputs": [],
   "source": [
    "from sklearn.metrics import calinski_harabasz_score"
   ]
  },
  {
   "cell_type": "code",
   "execution_count": 35,
   "metadata": {
    "execution": {
     "iopub.execute_input": "2021-02-22T21:55:05.056142Z",
     "iopub.status.busy": "2021-02-22T21:55:05.055774Z",
     "iopub.status.idle": "2021-02-22T21:55:06.021302Z",
     "shell.execute_reply": "2021-02-22T21:55:06.021582Z"
    },
    "papermill": {
     "duration": 1.042204,
     "end_time": "2021-02-22T21:55:06.021694",
     "exception": false,
     "start_time": "2021-02-22T21:55:04.979490",
     "status": "completed"
    },
    "tags": []
   },
   "outputs": [],
   "source": [
    "ensemble = ensemble.assign(\n",
    "    ch_score=ensemble[\"partition\"].apply(lambda x: calinski_harabasz_score(data, x))\n",
    ")"
   ]
  },
  {
   "cell_type": "code",
   "execution_count": 36,
   "metadata": {
    "execution": {
     "iopub.execute_input": "2021-02-22T21:55:06.170634Z",
     "iopub.status.busy": "2021-02-22T21:55:06.170280Z",
     "iopub.status.idle": "2021-02-22T21:55:06.181332Z",
     "shell.execute_reply": "2021-02-22T21:55:06.181636Z"
    },
    "papermill": {
     "duration": 0.086685,
     "end_time": "2021-02-22T21:55:06.181744",
     "exception": false,
     "start_time": "2021-02-22T21:55:06.095059",
     "status": "completed"
    },
    "tags": []
   },
   "outputs": [
    {
     "data": {
      "text/plain": [
       "(295, 4)"
      ]
     },
     "execution_count": 36,
     "metadata": {},
     "output_type": "execute_result"
    }
   ],
   "source": [
    "ensemble.shape"
   ]
  },
  {
   "cell_type": "code",
   "execution_count": 37,
   "metadata": {
    "execution": {
     "iopub.execute_input": "2021-02-22T21:55:06.331397Z",
     "iopub.status.busy": "2021-02-22T21:55:06.331028Z",
     "iopub.status.idle": "2021-02-22T21:55:06.350354Z",
     "shell.execute_reply": "2021-02-22T21:55:06.349977Z"
    },
    "papermill": {
     "duration": 0.094844,
     "end_time": "2021-02-22T21:55:06.350444",
     "exception": false,
     "start_time": "2021-02-22T21:55:06.255600",
     "status": "completed"
    },
    "tags": []
   },
   "outputs": [
    {
     "data": {
      "text/html": [
       "<div>\n",
       "<style scoped>\n",
       "    .dataframe tbody tr th:only-of-type {\n",
       "        vertical-align: middle;\n",
       "    }\n",
       "\n",
       "    .dataframe tbody tr th {\n",
       "        vertical-align: top;\n",
       "    }\n",
       "\n",
       "    .dataframe thead th {\n",
       "        text-align: right;\n",
       "    }\n",
       "</style>\n",
       "<table border=\"1\" class=\"dataframe\">\n",
       "  <thead>\n",
       "    <tr style=\"text-align: right;\">\n",
       "      <th></th>\n",
       "      <th>clusterer_params</th>\n",
       "      <th>partition</th>\n",
       "      <th>n_clusters</th>\n",
       "      <th>ch_score</th>\n",
       "    </tr>\n",
       "    <tr>\n",
       "      <th>clusterer_id</th>\n",
       "      <th></th>\n",
       "      <th></th>\n",
       "      <th></th>\n",
       "      <th></th>\n",
       "    </tr>\n",
       "  </thead>\n",
       "  <tbody>\n",
       "    <tr>\n",
       "      <th>SpectralClustering #0</th>\n",
       "      <td>{'affinity': 'rbf', 'assign_labels': 'kmeans',...</td>\n",
       "      <td>[0.0, 0.0, 0.0, 0.0, 0.0, 0.0, 0.0, 0.0, 0.0, ...</td>\n",
       "      <td>2</td>\n",
       "      <td>4641.627826</td>\n",
       "    </tr>\n",
       "    <tr>\n",
       "      <th>SpectralClustering #1</th>\n",
       "      <td>{'affinity': 'rbf', 'assign_labels': 'kmeans',...</td>\n",
       "      <td>[1.0, 1.0, 1.0, 1.0, 1.0, 1.0, 1.0, 1.0, 1.0, ...</td>\n",
       "      <td>2</td>\n",
       "      <td>4641.627826</td>\n",
       "    </tr>\n",
       "    <tr>\n",
       "      <th>SpectralClustering #2</th>\n",
       "      <td>{'affinity': 'rbf', 'assign_labels': 'kmeans',...</td>\n",
       "      <td>[0.0, 0.0, 0.0, 0.0, 0.0, 0.0, 0.0, 0.0, 0.0, ...</td>\n",
       "      <td>2</td>\n",
       "      <td>4641.627826</td>\n",
       "    </tr>\n",
       "    <tr>\n",
       "      <th>SpectralClustering #3</th>\n",
       "      <td>{'affinity': 'rbf', 'assign_labels': 'kmeans',...</td>\n",
       "      <td>[0.0, 0.0, 0.0, 0.0, 0.0, 0.0, 0.0, 0.0, 0.0, ...</td>\n",
       "      <td>2</td>\n",
       "      <td>4641.627826</td>\n",
       "    </tr>\n",
       "    <tr>\n",
       "      <th>SpectralClustering #4</th>\n",
       "      <td>{'affinity': 'rbf', 'assign_labels': 'kmeans',...</td>\n",
       "      <td>[0.0, 0.0, 0.0, 0.0, 0.0, 0.0, 0.0, 0.0, 0.0, ...</td>\n",
       "      <td>2</td>\n",
       "      <td>4641.627826</td>\n",
       "    </tr>\n",
       "  </tbody>\n",
       "</table>\n",
       "</div>"
      ],
      "text/plain": [
       "                                                        clusterer_params  \\\n",
       "clusterer_id                                                               \n",
       "SpectralClustering #0  {'affinity': 'rbf', 'assign_labels': 'kmeans',...   \n",
       "SpectralClustering #1  {'affinity': 'rbf', 'assign_labels': 'kmeans',...   \n",
       "SpectralClustering #2  {'affinity': 'rbf', 'assign_labels': 'kmeans',...   \n",
       "SpectralClustering #3  {'affinity': 'rbf', 'assign_labels': 'kmeans',...   \n",
       "SpectralClustering #4  {'affinity': 'rbf', 'assign_labels': 'kmeans',...   \n",
       "\n",
       "                                                               partition  \\\n",
       "clusterer_id                                                               \n",
       "SpectralClustering #0  [0.0, 0.0, 0.0, 0.0, 0.0, 0.0, 0.0, 0.0, 0.0, ...   \n",
       "SpectralClustering #1  [1.0, 1.0, 1.0, 1.0, 1.0, 1.0, 1.0, 1.0, 1.0, ...   \n",
       "SpectralClustering #2  [0.0, 0.0, 0.0, 0.0, 0.0, 0.0, 0.0, 0.0, 0.0, ...   \n",
       "SpectralClustering #3  [0.0, 0.0, 0.0, 0.0, 0.0, 0.0, 0.0, 0.0, 0.0, ...   \n",
       "SpectralClustering #4  [0.0, 0.0, 0.0, 0.0, 0.0, 0.0, 0.0, 0.0, 0.0, ...   \n",
       "\n",
       "                       n_clusters     ch_score  \n",
       "clusterer_id                                    \n",
       "SpectralClustering #0           2  4641.627826  \n",
       "SpectralClustering #1           2  4641.627826  \n",
       "SpectralClustering #2           2  4641.627826  \n",
       "SpectralClustering #3           2  4641.627826  \n",
       "SpectralClustering #4           2  4641.627826  "
      ]
     },
     "execution_count": 37,
     "metadata": {},
     "output_type": "execute_result"
    }
   ],
   "source": [
    "ensemble.head()"
   ]
  },
  {
   "cell_type": "markdown",
   "metadata": {
    "papermill": {
     "duration": 0.073824,
     "end_time": "2021-02-22T21:55:06.503807",
     "exception": false,
     "start_time": "2021-02-22T21:55:06.429983",
     "status": "completed"
    },
    "tags": []
   },
   "source": [
    "## Save"
   ]
  },
  {
   "cell_type": "code",
   "execution_count": 38,
   "metadata": {
    "execution": {
     "iopub.execute_input": "2021-02-22T21:55:06.655749Z",
     "iopub.status.busy": "2021-02-22T21:55:06.655388Z",
     "iopub.status.idle": "2021-02-22T21:55:06.667096Z",
     "shell.execute_reply": "2021-02-22T21:55:06.666732Z"
    },
    "papermill": {
     "duration": 0.088358,
     "end_time": "2021-02-22T21:55:06.667195",
     "exception": false,
     "start_time": "2021-02-22T21:55:06.578837",
     "status": "completed"
    },
    "tags": []
   },
   "outputs": [
    {
     "data": {
      "text/plain": [
       "PosixPath('/home/miltondp/projects/labs/greenelab/phenoplier/base3/results/clustering/runs/umap-z_score_std-projection-smultixcan-efo_partial-mashr-zscores/SpectralClustering-AFFINITY_rbf-GAMMA_1e_10-KMEANS_N_INIT_10-K_MAX_60-K_MIN_2-N_REPS_PER_K_5.pkl')"
      ]
     },
     "metadata": {},
     "output_type": "display_data"
    }
   ],
   "source": [
    "output_filename = Path(\n",
    "    RESULTS_DIR,\n",
    "    generate_result_set_name(\n",
    "        CLUSTERING_OPTIONS,\n",
    "        prefix=f\"{clustering_method_name}-\",\n",
    "        suffix=\".pkl\",\n",
    "    ),\n",
    ").resolve()\n",
    "display(output_filename)"
   ]
  },
  {
   "cell_type": "code",
   "execution_count": 39,
   "metadata": {
    "execution": {
     "iopub.execute_input": "2021-02-22T21:55:06.818933Z",
     "iopub.status.busy": "2021-02-22T21:55:06.818560Z",
     "iopub.status.idle": "2021-02-22T21:55:06.837284Z",
     "shell.execute_reply": "2021-02-22T21:55:06.836937Z"
    },
    "papermill": {
     "duration": 0.095279,
     "end_time": "2021-02-22T21:55:06.837384",
     "exception": false,
     "start_time": "2021-02-22T21:55:06.742105",
     "status": "completed"
    },
    "tags": []
   },
   "outputs": [],
   "source": [
    "ensemble.to_pickle(output_filename)"
   ]
  },
  {
   "cell_type": "markdown",
   "metadata": {
    "papermill": {
     "duration": 0.073257,
     "end_time": "2021-02-22T21:55:06.988385",
     "exception": false,
     "start_time": "2021-02-22T21:55:06.915128",
     "status": "completed"
    },
    "tags": []
   },
   "source": [
    "# Cluster quality"
   ]
  },
  {
   "cell_type": "code",
   "execution_count": 40,
   "metadata": {
    "execution": {
     "iopub.execute_input": "2021-02-22T21:55:07.139866Z",
     "iopub.status.busy": "2021-02-22T21:55:07.139503Z",
     "iopub.status.idle": "2021-02-22T21:55:07.155882Z",
     "shell.execute_reply": "2021-02-22T21:55:07.155526Z"
    },
    "papermill": {
     "duration": 0.093251,
     "end_time": "2021-02-22T21:55:07.155966",
     "exception": false,
     "start_time": "2021-02-22T21:55:07.062715",
     "status": "completed"
    },
    "tags": []
   },
   "outputs": [
    {
     "data": {
      "text/html": [
       "<div>\n",
       "<style scoped>\n",
       "    .dataframe tbody tr th:only-of-type {\n",
       "        vertical-align: middle;\n",
       "    }\n",
       "\n",
       "    .dataframe tbody tr th {\n",
       "        vertical-align: top;\n",
       "    }\n",
       "\n",
       "    .dataframe thead th {\n",
       "        text-align: right;\n",
       "    }\n",
       "</style>\n",
       "<table border=\"1\" class=\"dataframe\">\n",
       "  <thead>\n",
       "    <tr style=\"text-align: right;\">\n",
       "      <th></th>\n",
       "      <th>ch_score</th>\n",
       "    </tr>\n",
       "    <tr>\n",
       "      <th>n_clusters</th>\n",
       "      <th></th>\n",
       "    </tr>\n",
       "  </thead>\n",
       "  <tbody>\n",
       "    <tr>\n",
       "      <th>2</th>\n",
       "      <td>4641.627826</td>\n",
       "    </tr>\n",
       "    <tr>\n",
       "      <th>3</th>\n",
       "      <td>3461.051395</td>\n",
       "    </tr>\n",
       "    <tr>\n",
       "      <th>4</th>\n",
       "      <td>2778.678882</td>\n",
       "    </tr>\n",
       "    <tr>\n",
       "      <th>5</th>\n",
       "      <td>2144.014462</td>\n",
       "    </tr>\n",
       "    <tr>\n",
       "      <th>6</th>\n",
       "      <td>1922.599904</td>\n",
       "    </tr>\n",
       "    <tr>\n",
       "      <th>7</th>\n",
       "      <td>1688.094092</td>\n",
       "    </tr>\n",
       "    <tr>\n",
       "      <th>8</th>\n",
       "      <td>1531.102468</td>\n",
       "    </tr>\n",
       "    <tr>\n",
       "      <th>9</th>\n",
       "      <td>1407.142530</td>\n",
       "    </tr>\n",
       "    <tr>\n",
       "      <th>10</th>\n",
       "      <td>1296.674490</td>\n",
       "    </tr>\n",
       "    <tr>\n",
       "      <th>11</th>\n",
       "      <td>1191.264150</td>\n",
       "    </tr>\n",
       "    <tr>\n",
       "      <th>12</th>\n",
       "      <td>1118.161348</td>\n",
       "    </tr>\n",
       "    <tr>\n",
       "      <th>13</th>\n",
       "      <td>1066.274718</td>\n",
       "    </tr>\n",
       "    <tr>\n",
       "      <th>14</th>\n",
       "      <td>1009.038110</td>\n",
       "    </tr>\n",
       "    <tr>\n",
       "      <th>15</th>\n",
       "      <td>943.657647</td>\n",
       "    </tr>\n",
       "    <tr>\n",
       "      <th>16</th>\n",
       "      <td>893.057527</td>\n",
       "    </tr>\n",
       "    <tr>\n",
       "      <th>17</th>\n",
       "      <td>863.219055</td>\n",
       "    </tr>\n",
       "    <tr>\n",
       "      <th>18</th>\n",
       "      <td>821.180278</td>\n",
       "    </tr>\n",
       "    <tr>\n",
       "      <th>19</th>\n",
       "      <td>799.855390</td>\n",
       "    </tr>\n",
       "    <tr>\n",
       "      <th>20</th>\n",
       "      <td>776.660365</td>\n",
       "    </tr>\n",
       "    <tr>\n",
       "      <th>21</th>\n",
       "      <td>746.399866</td>\n",
       "    </tr>\n",
       "    <tr>\n",
       "      <th>22</th>\n",
       "      <td>715.080693</td>\n",
       "    </tr>\n",
       "    <tr>\n",
       "      <th>23</th>\n",
       "      <td>694.243842</td>\n",
       "    </tr>\n",
       "    <tr>\n",
       "      <th>24</th>\n",
       "      <td>666.680608</td>\n",
       "    </tr>\n",
       "    <tr>\n",
       "      <th>25</th>\n",
       "      <td>648.578340</td>\n",
       "    </tr>\n",
       "    <tr>\n",
       "      <th>26</th>\n",
       "      <td>633.206471</td>\n",
       "    </tr>\n",
       "    <tr>\n",
       "      <th>27</th>\n",
       "      <td>603.700313</td>\n",
       "    </tr>\n",
       "    <tr>\n",
       "      <th>28</th>\n",
       "      <td>595.952854</td>\n",
       "    </tr>\n",
       "    <tr>\n",
       "      <th>29</th>\n",
       "      <td>570.656589</td>\n",
       "    </tr>\n",
       "    <tr>\n",
       "      <th>30</th>\n",
       "      <td>568.949556</td>\n",
       "    </tr>\n",
       "    <tr>\n",
       "      <th>31</th>\n",
       "      <td>541.299797</td>\n",
       "    </tr>\n",
       "    <tr>\n",
       "      <th>32</th>\n",
       "      <td>534.468463</td>\n",
       "    </tr>\n",
       "    <tr>\n",
       "      <th>33</th>\n",
       "      <td>521.350088</td>\n",
       "    </tr>\n",
       "    <tr>\n",
       "      <th>34</th>\n",
       "      <td>505.462240</td>\n",
       "    </tr>\n",
       "    <tr>\n",
       "      <th>35</th>\n",
       "      <td>498.185520</td>\n",
       "    </tr>\n",
       "    <tr>\n",
       "      <th>36</th>\n",
       "      <td>498.163329</td>\n",
       "    </tr>\n",
       "    <tr>\n",
       "      <th>37</th>\n",
       "      <td>481.694930</td>\n",
       "    </tr>\n",
       "    <tr>\n",
       "      <th>38</th>\n",
       "      <td>479.146067</td>\n",
       "    </tr>\n",
       "    <tr>\n",
       "      <th>39</th>\n",
       "      <td>465.523116</td>\n",
       "    </tr>\n",
       "    <tr>\n",
       "      <th>40</th>\n",
       "      <td>460.647608</td>\n",
       "    </tr>\n",
       "    <tr>\n",
       "      <th>41</th>\n",
       "      <td>459.109804</td>\n",
       "    </tr>\n",
       "    <tr>\n",
       "      <th>42</th>\n",
       "      <td>448.541885</td>\n",
       "    </tr>\n",
       "    <tr>\n",
       "      <th>43</th>\n",
       "      <td>431.297968</td>\n",
       "    </tr>\n",
       "    <tr>\n",
       "      <th>44</th>\n",
       "      <td>420.074119</td>\n",
       "    </tr>\n",
       "    <tr>\n",
       "      <th>45</th>\n",
       "      <td>411.122571</td>\n",
       "    </tr>\n",
       "    <tr>\n",
       "      <th>46</th>\n",
       "      <td>399.388222</td>\n",
       "    </tr>\n",
       "    <tr>\n",
       "      <th>47</th>\n",
       "      <td>389.653772</td>\n",
       "    </tr>\n",
       "    <tr>\n",
       "      <th>48</th>\n",
       "      <td>384.145701</td>\n",
       "    </tr>\n",
       "    <tr>\n",
       "      <th>49</th>\n",
       "      <td>374.371478</td>\n",
       "    </tr>\n",
       "    <tr>\n",
       "      <th>50</th>\n",
       "      <td>365.566423</td>\n",
       "    </tr>\n",
       "    <tr>\n",
       "      <th>51</th>\n",
       "      <td>357.785091</td>\n",
       "    </tr>\n",
       "    <tr>\n",
       "      <th>52</th>\n",
       "      <td>350.199439</td>\n",
       "    </tr>\n",
       "    <tr>\n",
       "      <th>53</th>\n",
       "      <td>345.203676</td>\n",
       "    </tr>\n",
       "    <tr>\n",
       "      <th>54</th>\n",
       "      <td>339.053856</td>\n",
       "    </tr>\n",
       "    <tr>\n",
       "      <th>55</th>\n",
       "      <td>331.313586</td>\n",
       "    </tr>\n",
       "    <tr>\n",
       "      <th>56</th>\n",
       "      <td>320.736265</td>\n",
       "    </tr>\n",
       "    <tr>\n",
       "      <th>57</th>\n",
       "      <td>314.015329</td>\n",
       "    </tr>\n",
       "    <tr>\n",
       "      <th>58</th>\n",
       "      <td>313.146724</td>\n",
       "    </tr>\n",
       "    <tr>\n",
       "      <th>59</th>\n",
       "      <td>298.706237</td>\n",
       "    </tr>\n",
       "    <tr>\n",
       "      <th>60</th>\n",
       "      <td>296.597702</td>\n",
       "    </tr>\n",
       "  </tbody>\n",
       "</table>\n",
       "</div>"
      ],
      "text/plain": [
       "               ch_score\n",
       "n_clusters             \n",
       "2           4641.627826\n",
       "3           3461.051395\n",
       "4           2778.678882\n",
       "5           2144.014462\n",
       "6           1922.599904\n",
       "7           1688.094092\n",
       "8           1531.102468\n",
       "9           1407.142530\n",
       "10          1296.674490\n",
       "11          1191.264150\n",
       "12          1118.161348\n",
       "13          1066.274718\n",
       "14          1009.038110\n",
       "15           943.657647\n",
       "16           893.057527\n",
       "17           863.219055\n",
       "18           821.180278\n",
       "19           799.855390\n",
       "20           776.660365\n",
       "21           746.399866\n",
       "22           715.080693\n",
       "23           694.243842\n",
       "24           666.680608\n",
       "25           648.578340\n",
       "26           633.206471\n",
       "27           603.700313\n",
       "28           595.952854\n",
       "29           570.656589\n",
       "30           568.949556\n",
       "31           541.299797\n",
       "32           534.468463\n",
       "33           521.350088\n",
       "34           505.462240\n",
       "35           498.185520\n",
       "36           498.163329\n",
       "37           481.694930\n",
       "38           479.146067\n",
       "39           465.523116\n",
       "40           460.647608\n",
       "41           459.109804\n",
       "42           448.541885\n",
       "43           431.297968\n",
       "44           420.074119\n",
       "45           411.122571\n",
       "46           399.388222\n",
       "47           389.653772\n",
       "48           384.145701\n",
       "49           374.371478\n",
       "50           365.566423\n",
       "51           357.785091\n",
       "52           350.199439\n",
       "53           345.203676\n",
       "54           339.053856\n",
       "55           331.313586\n",
       "56           320.736265\n",
       "57           314.015329\n",
       "58           313.146724\n",
       "59           298.706237\n",
       "60           296.597702"
      ]
     },
     "metadata": {},
     "output_type": "display_data"
    }
   ],
   "source": [
    "with pd.option_context(\"display.max_rows\", None, \"display.max_columns\", None):\n",
    "    _df = ensemble.groupby([\"n_clusters\"]).mean()\n",
    "    display(_df)"
   ]
  },
  {
   "cell_type": "code",
   "execution_count": 41,
   "metadata": {
    "execution": {
     "iopub.execute_input": "2021-02-22T21:55:07.308162Z",
     "iopub.status.busy": "2021-02-22T21:55:07.307784Z",
     "iopub.status.idle": "2021-02-22T21:55:10.229955Z",
     "shell.execute_reply": "2021-02-22T21:55:10.229580Z"
    },
    "papermill": {
     "duration": 2.999682,
     "end_time": "2021-02-22T21:55:10.230042",
     "exception": false,
     "start_time": "2021-02-22T21:55:07.230360",
     "status": "completed"
    },
    "tags": []
   },
   "outputs": [
    {
     "data": {
      "image/png": "[encoded data removed]",
      "text/plain": [
       "<Figure size 1008x432 with 1 Axes>"
      ]
     },
     "metadata": {},
     "output_type": "display_data"
    }
   ],
   "source": [
    "with sns.plotting_context(\"talk\", font_scale=0.75), sns.axes_style(\n",
    "    \"whitegrid\", {\"grid.linestyle\": \"--\"}\n",
    "):\n",
    "    fig = plt.figure(figsize=(14, 6))\n",
    "    ax = sns.pointplot(data=ensemble, x=\"n_clusters\", y=\"ch_score\")\n",
    "    ax.set_ylabel(\"Calinski-Harabasz index\")\n",
    "    ax.set_xlabel(\"Number of clusters ($k$)\")\n",
    "    ax.set_xticklabels(ax.get_xticklabels(), rotation=45)\n",
    "    plt.grid(True)\n",
    "    plt.tight_layout()"
   ]
  },
  {
   "cell_type": "markdown",
   "metadata": {
    "papermill": {
     "duration": 0.075726,
     "end_time": "2021-02-22T21:55:10.382820",
     "exception": false,
     "start_time": "2021-02-22T21:55:10.307094",
     "status": "completed"
    },
    "tags": []
   },
   "source": [
    "# Stability"
   ]
  },
  {
   "cell_type": "markdown",
   "metadata": {
    "papermill": {
     "duration": 0.076007,
     "end_time": "2021-02-22T21:55:10.535476",
     "exception": false,
     "start_time": "2021-02-22T21:55:10.459469",
     "status": "completed"
    },
    "tags": []
   },
   "source": [
    "## Group ensemble by n_clusters"
   ]
  },
  {
   "cell_type": "code",
   "execution_count": 42,
   "metadata": {
    "execution": {
     "iopub.execute_input": "2021-02-22T21:55:10.689675Z",
     "iopub.status.busy": "2021-02-22T21:55:10.689303Z",
     "iopub.status.idle": "2021-02-22T21:55:10.715063Z",
     "shell.execute_reply": "2021-02-22T21:55:10.714681Z"
    },
    "papermill": {
     "duration": 0.103753,
     "end_time": "2021-02-22T21:55:10.715153",
     "exception": false,
     "start_time": "2021-02-22T21:55:10.611400",
     "status": "completed"
    },
    "tags": []
   },
   "outputs": [],
   "source": [
    "parts = ensemble.groupby(\"n_clusters\").apply(\n",
    "    lambda x: np.concatenate(x[\"partition\"].apply(lambda x: x.reshape(1, -1)), axis=0)\n",
    ")"
   ]
  },
  {
   "cell_type": "code",
   "execution_count": 43,
   "metadata": {
    "execution": {
     "iopub.execute_input": "2021-02-22T21:55:10.871894Z",
     "iopub.status.busy": "2021-02-22T21:55:10.871508Z",
     "iopub.status.idle": "2021-02-22T21:55:10.895860Z",
     "shell.execute_reply": "2021-02-22T21:55:10.895486Z"
    },
    "papermill": {
     "duration": 0.104587,
     "end_time": "2021-02-22T21:55:10.895948",
     "exception": false,
     "start_time": "2021-02-22T21:55:10.791361",
     "status": "completed"
    },
    "tags": []
   },
   "outputs": [
    {
     "data": {
      "text/plain": [
       "n_clusters\n",
       "2    [[0.0, 0.0, 0.0, 0.0, 0.0, 0.0, 0.0, 0.0, 0.0,...\n",
       "3    [[2.0, 2.0, 2.0, 2.0, 2.0, 2.0, 2.0, 2.0, 2.0,...\n",
       "4    [[2.0, 2.0, 2.0, 2.0, 2.0, 2.0, 2.0, 2.0, 2.0,...\n",
       "5    [[2.0, 2.0, 2.0, 2.0, 2.0, 2.0, 2.0, 2.0, 2.0,...\n",
       "6    [[1.0, 1.0, 1.0, 1.0, 1.0, 1.0, 1.0, 1.0, 1.0,...\n",
       "dtype: object"
      ]
     },
     "execution_count": 43,
     "metadata": {},
     "output_type": "execute_result"
    }
   ],
   "source": [
    "parts.head()"
   ]
  },
  {
   "cell_type": "code",
   "execution_count": 44,
   "metadata": {
    "execution": {
     "iopub.execute_input": "2021-02-22T21:55:11.053490Z",
     "iopub.status.busy": "2021-02-22T21:55:11.053116Z",
     "iopub.status.idle": "2021-02-22T21:55:11.065006Z",
     "shell.execute_reply": "2021-02-22T21:55:11.064567Z"
    },
    "papermill": {
     "duration": 0.091561,
     "end_time": "2021-02-22T21:55:11.065092",
     "exception": false,
     "start_time": "2021-02-22T21:55:10.973531",
     "status": "completed"
    },
    "tags": []
   },
   "outputs": [],
   "source": [
    "assert np.all(\n",
    "    [\n",
    "        parts.loc[k].shape == (CLUSTERING_OPTIONS[\"N_REPS_PER_K\"], data.shape[0])\n",
    "        for k in parts.index\n",
    "    ]\n",
    ")"
   ]
  },
  {
   "cell_type": "markdown",
   "metadata": {
    "papermill": {
     "duration": 0.076159,
     "end_time": "2021-02-22T21:55:11.217553",
     "exception": false,
     "start_time": "2021-02-22T21:55:11.141394",
     "status": "completed"
    },
    "tags": []
   },
   "source": [
    "## Compute stability"
   ]
  },
  {
   "cell_type": "code",
   "execution_count": 45,
   "metadata": {
    "execution": {
     "iopub.execute_input": "2021-02-22T21:55:11.373380Z",
     "iopub.status.busy": "2021-02-22T21:55:11.373007Z",
     "iopub.status.idle": "2021-02-22T21:55:11.384073Z",
     "shell.execute_reply": "2021-02-22T21:55:11.383698Z"
    },
    "papermill": {
     "duration": 0.089901,
     "end_time": "2021-02-22T21:55:11.384162",
     "exception": false,
     "start_time": "2021-02-22T21:55:11.294261",
     "status": "completed"
    },
    "tags": []
   },
   "outputs": [],
   "source": [
    "from sklearn.metrics import adjusted_rand_score as ari\n",
    "from scipy.spatial.distance import pdist"
   ]
  },
  {
   "cell_type": "code",
   "execution_count": 46,
   "metadata": {
    "execution": {
     "iopub.execute_input": "2021-02-22T21:55:11.546563Z",
     "iopub.status.busy": "2021-02-22T21:55:11.546192Z",
     "iopub.status.idle": "2021-02-22T21:55:12.291188Z",
     "shell.execute_reply": "2021-02-22T21:55:12.291578Z"
    },
    "papermill": {
     "duration": 0.829111,
     "end_time": "2021-02-22T21:55:12.291725",
     "exception": false,
     "start_time": "2021-02-22T21:55:11.462614",
     "status": "completed"
    },
    "tags": []
   },
   "outputs": [],
   "source": [
    "parts_ari = pd.Series(\n",
    "    {k: pdist(parts.loc[k], metric=ari) for k in parts.index}, name=\"k\"\n",
    ")"
   ]
  },
  {
   "cell_type": "code",
   "execution_count": 47,
   "metadata": {
    "execution": {
     "iopub.execute_input": "2021-02-22T21:55:12.459727Z",
     "iopub.status.busy": "2021-02-22T21:55:12.459368Z",
     "iopub.status.idle": "2021-02-22T21:55:12.472682Z",
     "shell.execute_reply": "2021-02-22T21:55:12.472296Z"
    },
    "papermill": {
     "duration": 0.092602,
     "end_time": "2021-02-22T21:55:12.472780",
     "exception": false,
     "start_time": "2021-02-22T21:55:12.380178",
     "status": "completed"
    },
    "tags": []
   },
   "outputs": [
    {
     "data": {
      "text/plain": [
       "2     1.000000\n",
       "4     1.000000\n",
       "3     0.998912\n",
       "5     0.990621\n",
       "7     0.988074\n",
       "8     0.987599\n",
       "9     0.976256\n",
       "6     0.976247\n",
       "10    0.971641\n",
       "13    0.743614\n",
       "12    0.737790\n",
       "14    0.694892\n",
       "19    0.585709\n",
       "17    0.577759\n",
       "11    0.575895\n",
       "Name: k, dtype: float64"
      ]
     },
     "metadata": {},
     "output_type": "display_data"
    }
   ],
   "source": [
    "parts_ari_stability = parts_ari.apply(lambda x: x.mean())\n",
    "display(parts_ari_stability.sort_values(ascending=False).head(15))"
   ]
  },
  {
   "cell_type": "code",
   "execution_count": 48,
   "metadata": {
    "execution": {
     "iopub.execute_input": "2021-02-22T21:55:12.630956Z",
     "iopub.status.busy": "2021-02-22T21:55:12.630567Z",
     "iopub.status.idle": "2021-02-22T21:55:12.642637Z",
     "shell.execute_reply": "2021-02-22T21:55:12.642287Z"
    },
    "papermill": {
     "duration": 0.090916,
     "end_time": "2021-02-22T21:55:12.642726",
     "exception": false,
     "start_time": "2021-02-22T21:55:12.551810",
     "status": "completed"
    },
    "tags": []
   },
   "outputs": [],
   "source": [
    "parts_ari_df = pd.DataFrame.from_records(parts_ari.tolist()).set_index(\n",
    "    parts_ari.index.copy()\n",
    ")"
   ]
  },
  {
   "cell_type": "code",
   "execution_count": 49,
   "metadata": {
    "execution": {
     "iopub.execute_input": "2021-02-22T21:55:12.801766Z",
     "iopub.status.busy": "2021-02-22T21:55:12.801381Z",
     "iopub.status.idle": "2021-02-22T21:55:12.813579Z",
     "shell.execute_reply": "2021-02-22T21:55:12.813168Z"
    },
    "papermill": {
     "duration": 0.093251,
     "end_time": "2021-02-22T21:55:12.813672",
     "exception": false,
     "start_time": "2021-02-22T21:55:12.720421",
     "status": "completed"
    },
    "tags": []
   },
   "outputs": [
    {
     "data": {
      "text/plain": [
       "(59, 10)"
      ]
     },
     "execution_count": 49,
     "metadata": {},
     "output_type": "execute_result"
    }
   ],
   "source": [
    "parts_ari_df.shape"
   ]
  },
  {
   "cell_type": "code",
   "execution_count": 50,
   "metadata": {
    "execution": {
     "iopub.execute_input": "2021-02-22T21:55:12.973743Z",
     "iopub.status.busy": "2021-02-22T21:55:12.973359Z",
     "iopub.status.idle": "2021-02-22T21:55:12.984207Z",
     "shell.execute_reply": "2021-02-22T21:55:12.984498Z"
    },
    "papermill": {
     "duration": 0.090852,
     "end_time": "2021-02-22T21:55:12.984608",
     "exception": false,
     "start_time": "2021-02-22T21:55:12.893756",
     "status": "completed"
    },
    "tags": []
   },
   "outputs": [],
   "source": [
    "assert (\n",
    "    int(\n",
    "        (CLUSTERING_OPTIONS[\"N_REPS_PER_K\"] * (CLUSTERING_OPTIONS[\"N_REPS_PER_K\"] - 1))\n",
    "        / 2\n",
    "    )\n",
    "    == parts_ari_df.shape[1]\n",
    ")"
   ]
  },
  {
   "cell_type": "code",
   "execution_count": 51,
   "metadata": {
    "execution": {
     "iopub.execute_input": "2021-02-22T21:55:13.139907Z",
     "iopub.status.busy": "2021-02-22T21:55:13.139533Z",
     "iopub.status.idle": "2021-02-22T21:55:13.156982Z",
     "shell.execute_reply": "2021-02-22T21:55:13.156566Z"
    },
    "papermill": {
     "duration": 0.095215,
     "end_time": "2021-02-22T21:55:13.157068",
     "exception": false,
     "start_time": "2021-02-22T21:55:13.061853",
     "status": "completed"
    },
    "tags": []
   },
   "outputs": [
    {
     "data": {
      "text/html": [
       "<div>\n",
       "<style scoped>\n",
       "    .dataframe tbody tr th:only-of-type {\n",
       "        vertical-align: middle;\n",
       "    }\n",
       "\n",
       "    .dataframe tbody tr th {\n",
       "        vertical-align: top;\n",
       "    }\n",
       "\n",
       "    .dataframe thead th {\n",
       "        text-align: right;\n",
       "    }\n",
       "</style>\n",
       "<table border=\"1\" class=\"dataframe\">\n",
       "  <thead>\n",
       "    <tr style=\"text-align: right;\">\n",
       "      <th></th>\n",
       "      <th>0</th>\n",
       "      <th>1</th>\n",
       "      <th>2</th>\n",
       "      <th>3</th>\n",
       "      <th>4</th>\n",
       "      <th>5</th>\n",
       "      <th>6</th>\n",
       "      <th>7</th>\n",
       "      <th>8</th>\n",
       "      <th>9</th>\n",
       "    </tr>\n",
       "  </thead>\n",
       "  <tbody>\n",
       "    <tr>\n",
       "      <th>2</th>\n",
       "      <td>1.000000</td>\n",
       "      <td>1.000000</td>\n",
       "      <td>1.000000</td>\n",
       "      <td>1.000000</td>\n",
       "      <td>1.000000</td>\n",
       "      <td>1.000000</td>\n",
       "      <td>1.000000</td>\n",
       "      <td>1.000000</td>\n",
       "      <td>1.000000</td>\n",
       "      <td>1.000000</td>\n",
       "    </tr>\n",
       "    <tr>\n",
       "      <th>3</th>\n",
       "      <td>1.000000</td>\n",
       "      <td>1.000000</td>\n",
       "      <td>0.997281</td>\n",
       "      <td>1.000000</td>\n",
       "      <td>1.000000</td>\n",
       "      <td>0.997281</td>\n",
       "      <td>1.000000</td>\n",
       "      <td>0.997281</td>\n",
       "      <td>1.000000</td>\n",
       "      <td>0.997281</td>\n",
       "    </tr>\n",
       "    <tr>\n",
       "      <th>4</th>\n",
       "      <td>1.000000</td>\n",
       "      <td>1.000000</td>\n",
       "      <td>1.000000</td>\n",
       "      <td>1.000000</td>\n",
       "      <td>1.000000</td>\n",
       "      <td>1.000000</td>\n",
       "      <td>1.000000</td>\n",
       "      <td>1.000000</td>\n",
       "      <td>1.000000</td>\n",
       "      <td>1.000000</td>\n",
       "    </tr>\n",
       "    <tr>\n",
       "      <th>5</th>\n",
       "      <td>1.000000</td>\n",
       "      <td>1.000000</td>\n",
       "      <td>1.000000</td>\n",
       "      <td>0.976552</td>\n",
       "      <td>1.000000</td>\n",
       "      <td>1.000000</td>\n",
       "      <td>0.976552</td>\n",
       "      <td>1.000000</td>\n",
       "      <td>0.976552</td>\n",
       "      <td>0.976552</td>\n",
       "    </tr>\n",
       "    <tr>\n",
       "      <th>6</th>\n",
       "      <td>0.999046</td>\n",
       "      <td>0.978379</td>\n",
       "      <td>0.957223</td>\n",
       "      <td>0.978379</td>\n",
       "      <td>0.977437</td>\n",
       "      <td>0.956293</td>\n",
       "      <td>0.977437</td>\n",
       "      <td>0.969139</td>\n",
       "      <td>1.000000</td>\n",
       "      <td>0.969139</td>\n",
       "    </tr>\n",
       "  </tbody>\n",
       "</table>\n",
       "</div>"
      ],
      "text/plain": [
       "          0         1         2         3         4         5         6  \\\n",
       "2  1.000000  1.000000  1.000000  1.000000  1.000000  1.000000  1.000000   \n",
       "3  1.000000  1.000000  0.997281  1.000000  1.000000  0.997281  1.000000   \n",
       "4  1.000000  1.000000  1.000000  1.000000  1.000000  1.000000  1.000000   \n",
       "5  1.000000  1.000000  1.000000  0.976552  1.000000  1.000000  0.976552   \n",
       "6  0.999046  0.978379  0.957223  0.978379  0.977437  0.956293  0.977437   \n",
       "\n",
       "          7         8         9  \n",
       "2  1.000000  1.000000  1.000000  \n",
       "3  0.997281  1.000000  0.997281  \n",
       "4  1.000000  1.000000  1.000000  \n",
       "5  1.000000  0.976552  0.976552  \n",
       "6  0.969139  1.000000  0.969139  "
      ]
     },
     "execution_count": 51,
     "metadata": {},
     "output_type": "execute_result"
    }
   ],
   "source": [
    "parts_ari_df.head()"
   ]
  },
  {
   "cell_type": "markdown",
   "metadata": {
    "papermill": {
     "duration": 0.07901,
     "end_time": "2021-02-22T21:55:13.314777",
     "exception": false,
     "start_time": "2021-02-22T21:55:13.235767",
     "status": "completed"
    },
    "tags": []
   },
   "source": [
    "## Save"
   ]
  },
  {
   "cell_type": "code",
   "execution_count": 52,
   "metadata": {
    "execution": {
     "iopub.execute_input": "2021-02-22T21:55:13.473322Z",
     "iopub.status.busy": "2021-02-22T21:55:13.472962Z",
     "iopub.status.idle": "2021-02-22T21:55:13.484781Z",
     "shell.execute_reply": "2021-02-22T21:55:13.484361Z"
    },
    "papermill": {
     "duration": 0.09177,
     "end_time": "2021-02-22T21:55:13.484882",
     "exception": false,
     "start_time": "2021-02-22T21:55:13.393112",
     "status": "completed"
    },
    "tags": []
   },
   "outputs": [
    {
     "data": {
      "text/plain": [
       "PosixPath('/home/miltondp/projects/labs/greenelab/phenoplier/base3/results/clustering/runs/umap-z_score_std-projection-smultixcan-efo_partial-mashr-zscores/SpectralClustering-stability-AFFINITY_rbf-GAMMA_1e_10-KMEANS_N_INIT_10-K_MAX_60-K_MIN_2-N_REPS_PER_K_5.pkl')"
      ]
     },
     "metadata": {},
     "output_type": "display_data"
    }
   ],
   "source": [
    "output_filename = Path(\n",
    "    RESULTS_DIR,\n",
    "    generate_result_set_name(\n",
    "        CLUSTERING_OPTIONS,\n",
    "        prefix=f\"{clustering_method_name}-stability-\",\n",
    "        suffix=\".pkl\",\n",
    "    ),\n",
    ").resolve()\n",
    "display(output_filename)"
   ]
  },
  {
   "cell_type": "code",
   "execution_count": 53,
   "metadata": {
    "execution": {
     "iopub.execute_input": "2021-02-22T21:55:13.641806Z",
     "iopub.status.busy": "2021-02-22T21:55:13.641423Z",
     "iopub.status.idle": "2021-02-22T21:55:13.652699Z",
     "shell.execute_reply": "2021-02-22T21:55:13.652327Z"
    },
    "papermill": {
     "duration": 0.090312,
     "end_time": "2021-02-22T21:55:13.652816",
     "exception": false,
     "start_time": "2021-02-22T21:55:13.562504",
     "status": "completed"
    },
    "tags": []
   },
   "outputs": [],
   "source": [
    "parts_ari_df.to_pickle(output_filename)"
   ]
  },
  {
   "cell_type": "markdown",
   "metadata": {
    "papermill": {
     "duration": 0.076637,
     "end_time": "2021-02-22T21:55:13.807544",
     "exception": false,
     "start_time": "2021-02-22T21:55:13.730907",
     "status": "completed"
    },
    "tags": []
   },
   "source": [
    "## Stability plot"
   ]
  },
  {
   "cell_type": "code",
   "execution_count": 54,
   "metadata": {
    "execution": {
     "iopub.execute_input": "2021-02-22T21:55:13.969360Z",
     "iopub.status.busy": "2021-02-22T21:55:13.968997Z",
     "iopub.status.idle": "2021-02-22T21:55:13.981397Z",
     "shell.execute_reply": "2021-02-22T21:55:13.981050Z"
    },
    "papermill": {
     "duration": 0.094719,
     "end_time": "2021-02-22T21:55:13.981487",
     "exception": false,
     "start_time": "2021-02-22T21:55:13.886768",
     "status": "completed"
    },
    "tags": []
   },
   "outputs": [],
   "source": [
    "parts_ari_df_plot = (\n",
    "    parts_ari_df.stack()\n",
    "    .reset_index()\n",
    "    .rename(columns={\"level_0\": \"k\", \"level_1\": \"idx\", 0: \"ari\"})\n",
    ")"
   ]
  },
  {
   "cell_type": "code",
   "execution_count": 55,
   "metadata": {
    "execution": {
     "iopub.execute_input": "2021-02-22T21:55:14.137599Z",
     "iopub.status.busy": "2021-02-22T21:55:14.137234Z",
     "iopub.status.idle": "2021-02-22T21:55:14.149985Z",
     "shell.execute_reply": "2021-02-22T21:55:14.149616Z"
    },
    "papermill": {
     "duration": 0.09117,
     "end_time": "2021-02-22T21:55:14.150072",
     "exception": false,
     "start_time": "2021-02-22T21:55:14.058902",
     "status": "completed"
    },
    "tags": []
   },
   "outputs": [
    {
     "data": {
      "text/plain": [
       "k        int64\n",
       "idx      int64\n",
       "ari    float64\n",
       "dtype: object"
      ]
     },
     "execution_count": 55,
     "metadata": {},
     "output_type": "execute_result"
    }
   ],
   "source": [
    "parts_ari_df_plot.dtypes"
   ]
  },
  {
   "cell_type": "code",
   "execution_count": 56,
   "metadata": {
    "execution": {
     "iopub.execute_input": "2021-02-22T21:55:14.308255Z",
     "iopub.status.busy": "2021-02-22T21:55:14.307896Z",
     "iopub.status.idle": "2021-02-22T21:55:14.322345Z",
     "shell.execute_reply": "2021-02-22T21:55:14.321984Z"
    },
    "papermill": {
     "duration": 0.09334,
     "end_time": "2021-02-22T21:55:14.322430",
     "exception": false,
     "start_time": "2021-02-22T21:55:14.229090",
     "status": "completed"
    },
    "tags": []
   },
   "outputs": [
    {
     "data": {
      "text/html": [
       "<div>\n",
       "<style scoped>\n",
       "    .dataframe tbody tr th:only-of-type {\n",
       "        vertical-align: middle;\n",
       "    }\n",
       "\n",
       "    .dataframe tbody tr th {\n",
       "        vertical-align: top;\n",
       "    }\n",
       "\n",
       "    .dataframe thead th {\n",
       "        text-align: right;\n",
       "    }\n",
       "</style>\n",
       "<table border=\"1\" class=\"dataframe\">\n",
       "  <thead>\n",
       "    <tr style=\"text-align: right;\">\n",
       "      <th></th>\n",
       "      <th>k</th>\n",
       "      <th>idx</th>\n",
       "      <th>ari</th>\n",
       "    </tr>\n",
       "  </thead>\n",
       "  <tbody>\n",
       "    <tr>\n",
       "      <th>0</th>\n",
       "      <td>2</td>\n",
       "      <td>0</td>\n",
       "      <td>1.0</td>\n",
       "    </tr>\n",
       "    <tr>\n",
       "      <th>1</th>\n",
       "      <td>2</td>\n",
       "      <td>1</td>\n",
       "      <td>1.0</td>\n",
       "    </tr>\n",
       "    <tr>\n",
       "      <th>2</th>\n",
       "      <td>2</td>\n",
       "      <td>2</td>\n",
       "      <td>1.0</td>\n",
       "    </tr>\n",
       "    <tr>\n",
       "      <th>3</th>\n",
       "      <td>2</td>\n",
       "      <td>3</td>\n",
       "      <td>1.0</td>\n",
       "    </tr>\n",
       "    <tr>\n",
       "      <th>4</th>\n",
       "      <td>2</td>\n",
       "      <td>4</td>\n",
       "      <td>1.0</td>\n",
       "    </tr>\n",
       "  </tbody>\n",
       "</table>\n",
       "</div>"
      ],
      "text/plain": [
       "   k  idx  ari\n",
       "0  2    0  1.0\n",
       "1  2    1  1.0\n",
       "2  2    2  1.0\n",
       "3  2    3  1.0\n",
       "4  2    4  1.0"
      ]
     },
     "execution_count": 56,
     "metadata": {},
     "output_type": "execute_result"
    }
   ],
   "source": [
    "parts_ari_df_plot.head()"
   ]
  },
  {
   "cell_type": "code",
   "execution_count": 57,
   "metadata": {
    "execution": {
     "iopub.execute_input": "2021-02-22T21:55:14.486391Z",
     "iopub.status.busy": "2021-02-22T21:55:14.486013Z",
     "iopub.status.idle": "2021-02-22T21:55:17.142362Z",
     "shell.execute_reply": "2021-02-22T21:55:17.141999Z"
    },
    "papermill": {
     "duration": 2.741242,
     "end_time": "2021-02-22T21:55:17.142449",
     "exception": false,
     "start_time": "2021-02-22T21:55:14.401207",
     "status": "completed"
    },
    "tags": []
   },
   "outputs": [
    {
     "data": {
      "image/png": "[encoded data removed]",
      "text/plain": [
       "<Figure size 1008x432 with 1 Axes>"
      ]
     },
     "metadata": {},
     "output_type": "display_data"
    }
   ],
   "source": [
    "# with sns.axes_style('whitegrid', {'grid.linestyle': '--'}):\n",
    "with sns.plotting_context(\"talk\", font_scale=0.75), sns.axes_style(\n",
    "    \"whitegrid\", {\"grid.linestyle\": \"--\"}\n",
    "):\n",
    "    fig = plt.figure(figsize=(14, 6))\n",
    "    ax = sns.pointplot(data=parts_ari_df_plot, x=\"k\", y=\"ari\")\n",
    "    ax.set_ylabel(\"Averange ARI\")\n",
    "    ax.set_xlabel(\"Number of clusters ($k$)\")\n",
    "    ax.set_xticklabels(ax.get_xticklabels(), rotation=45)\n",
    "    #     ax.set_ylim(0.0, 1.0)\n",
    "    #     ax.set_xlim(CLUSTERING_OPTIONS['K_MIN'], CLUSTERING_OPTIONS['K_MAX'])\n",
    "    plt.grid(True)\n",
    "    plt.tight_layout()"
   ]
  },
  {
   "cell_type": "code",
   "execution_count": null,
   "metadata": {
    "papermill": {
     "duration": 0.077087,
     "end_time": "2021-02-22T21:55:17.297755",
     "exception": false,
     "start_time": "2021-02-22T21:55:17.220668",
     "status": "completed"
    },
    "tags": []
   },
   "outputs": [],
   "source": []
  }
 ],
 "metadata": {
  "jupytext": {
   "cell_metadata_filter": "all,-execution,-papermill",
   "formats": "ipynb,py//py:percent"
  },
  "kernelspec": {
   "display_name": "Python 3",
   "language": "python",
   "name": "python3"
  },
  "language_info": {
   "codemirror_mode": {
    "name": "ipython",
    "version": 3
   },
   "file_extension": ".py",
   "mimetype": "text/x-python",
   "name": "python",
   "nbconvert_exporter": "python",
   "pygments_lexer": "ipython3",
   "version": "3.8.8"
  },
  "papermill": {
   "default_parameters": {},
   "duration": 807.420784,
   "end_time": "2021-02-22T21:55:18.714303",
   "environment_variables": {},
   "exception": null,
   "input_path": "15_cluster_analysis/001_02-spectral-umap.ipynb",
   "output_path": "15_cluster_analysis/001_02-spectral-umap.run.ipynb",
   "parameters": {},
   "start_time": "2021-02-22T21:41:51.293519",
   "version": "2.2.2"
  },
  "toc-autonumbering": true,
  "toc-showcode": false,
  "toc-showmarkdowntxt": false,
  "toc-showtags": false
 },
 "nbformat": 4,
 "nbformat_minor": 4
}
