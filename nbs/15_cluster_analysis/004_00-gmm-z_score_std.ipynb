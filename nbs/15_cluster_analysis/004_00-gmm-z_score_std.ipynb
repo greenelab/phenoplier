{
 "cells": [
  {
   "cell_type": "markdown",
   "metadata": {
    "papermill": {
     "duration": 0.053307,
     "end_time": "2020-12-02T02:27:47.607550",
     "exception": false,
     "start_time": "2020-12-02T02:27:47.554243",
     "status": "completed"
    },
    "tags": []
   },
   "source": [
    "# Description"
   ]
  },
  {
   "cell_type": "markdown",
   "metadata": {
    "papermill": {
     "duration": 0.017665,
     "end_time": "2020-12-02T02:27:47.644276",
     "exception": false,
     "start_time": "2020-12-02T02:27:47.626611",
     "status": "completed"
    },
    "tags": []
   },
   "source": [
    "Runs gaussian mixture model on the z_score_std version of the data."
   ]
  },
  {
   "cell_type": "markdown",
   "metadata": {
    "papermill": {
     "duration": 0.017428,
     "end_time": "2020-12-02T02:27:47.679496",
     "exception": false,
     "start_time": "2020-12-02T02:27:47.662068",
     "status": "completed"
    },
    "tags": []
   },
   "source": [
    "# Environment variables"
   ]
  },
  {
   "cell_type": "code",
   "execution_count": 1,
   "metadata": {
    "execution": {
     "iopub.execute_input": "2020-12-02T02:27:47.717896Z",
     "iopub.status.busy": "2020-12-02T02:27:47.717513Z",
     "iopub.status.idle": "2020-12-02T02:27:47.728464Z",
     "shell.execute_reply": "2020-12-02T02:27:47.728061Z"
    },
    "papermill": {
     "duration": 0.03147,
     "end_time": "2020-12-02T02:27:47.728584",
     "exception": false,
     "start_time": "2020-12-02T02:27:47.697114",
     "status": "completed"
    },
    "tags": []
   },
   "outputs": [
    {
     "data": {
      "text/plain": [
       "3"
      ]
     },
     "metadata": {},
     "output_type": "display_data"
    }
   ],
   "source": [
    "from IPython.display import display\n",
    "\n",
    "import conf\n",
    "\n",
    "N_JOBS = conf.GENERAL[\"N_JOBS\"]\n",
    "display(N_JOBS)"
   ]
  },
  {
   "cell_type": "code",
   "execution_count": 2,
   "metadata": {
    "execution": {
     "iopub.execute_input": "2020-12-02T02:27:47.770446Z",
     "iopub.status.busy": "2020-12-02T02:27:47.770022Z",
     "iopub.status.idle": "2020-12-02T02:27:47.772271Z",
     "shell.execute_reply": "2020-12-02T02:27:47.771965Z"
    },
    "papermill": {
     "duration": 0.024959,
     "end_time": "2020-12-02T02:27:47.772360",
     "exception": false,
     "start_time": "2020-12-02T02:27:47.747401",
     "status": "completed"
    },
    "tags": []
   },
   "outputs": [
    {
     "name": "stdout",
     "output_type": "stream",
     "text": [
      "env: MKL_NUM_THREADS=3\n",
      "env: OPEN_BLAS_NUM_THREADS=3\n",
      "env: NUMEXPR_NUM_THREADS=3\n",
      "env: OMP_NUM_THREADS=3\n"
     ]
    }
   ],
   "source": [
    "%env MKL_NUM_THREADS=$N_JOBS\n",
    "%env OPEN_BLAS_NUM_THREADS=$N_JOBS\n",
    "%env NUMEXPR_NUM_THREADS=$N_JOBS\n",
    "%env OMP_NUM_THREADS=$N_JOBS"
   ]
  },
  {
   "cell_type": "markdown",
   "metadata": {
    "papermill": {
     "duration": 0.018136,
     "end_time": "2020-12-02T02:27:47.809364",
     "exception": false,
     "start_time": "2020-12-02T02:27:47.791228",
     "status": "completed"
    },
    "tags": []
   },
   "source": [
    "# Modules loading"
   ]
  },
  {
   "cell_type": "code",
   "execution_count": 3,
   "metadata": {
    "execution": {
     "iopub.execute_input": "2020-12-02T02:27:47.849140Z",
     "iopub.status.busy": "2020-12-02T02:27:47.847828Z",
     "iopub.status.idle": "2020-12-02T02:27:47.855871Z",
     "shell.execute_reply": "2020-12-02T02:27:47.855553Z"
    },
    "papermill": {
     "duration": 0.028833,
     "end_time": "2020-12-02T02:27:47.855956",
     "exception": false,
     "start_time": "2020-12-02T02:27:47.827123",
     "status": "completed"
    },
    "tags": []
   },
   "outputs": [],
   "source": [
    "%load_ext autoreload\n",
    "%autoreload 2"
   ]
  },
  {
   "cell_type": "code",
   "execution_count": 4,
   "metadata": {
    "execution": {
     "iopub.execute_input": "2020-12-02T02:27:47.894952Z",
     "iopub.status.busy": "2020-12-02T02:27:47.894578Z",
     "iopub.status.idle": "2020-12-02T02:27:49.485260Z",
     "shell.execute_reply": "2020-12-02T02:27:49.484857Z"
    },
    "papermill": {
     "duration": 1.610963,
     "end_time": "2020-12-02T02:27:49.485359",
     "exception": false,
     "start_time": "2020-12-02T02:27:47.874396",
     "status": "completed"
    },
    "tags": []
   },
   "outputs": [],
   "source": [
    "from pathlib import Path\n",
    "\n",
    "import numpy as np\n",
    "import pandas as pd\n",
    "import umap\n",
    "import matplotlib.pyplot as plt\n",
    "import seaborn as sns\n",
    "\n",
    "from utils import generate_result_set_name"
   ]
  },
  {
   "cell_type": "markdown",
   "metadata": {
    "papermill": {
     "duration": 0.01801,
     "end_time": "2020-12-02T02:27:49.523815",
     "exception": false,
     "start_time": "2020-12-02T02:27:49.505805",
     "status": "completed"
    },
    "tags": []
   },
   "source": [
    "# Settings"
   ]
  },
  {
   "cell_type": "code",
   "execution_count": 5,
   "metadata": {
    "execution": {
     "iopub.execute_input": "2020-12-02T02:27:49.562346Z",
     "iopub.status.busy": "2020-12-02T02:27:49.561987Z",
     "iopub.status.idle": "2020-12-02T02:27:49.573546Z",
     "shell.execute_reply": "2020-12-02T02:27:49.573247Z"
    },
    "papermill": {
     "duration": 0.032012,
     "end_time": "2020-12-02T02:27:49.573632",
     "exception": false,
     "start_time": "2020-12-02T02:27:49.541620",
     "status": "completed"
    },
    "tags": []
   },
   "outputs": [],
   "source": [
    "INITIAL_RANDOM_STATE = 60000"
   ]
  },
  {
   "cell_type": "markdown",
   "metadata": {
    "papermill": {
     "duration": 0.018201,
     "end_time": "2020-12-02T02:27:49.610340",
     "exception": false,
     "start_time": "2020-12-02T02:27:49.592139",
     "status": "completed"
    },
    "tags": []
   },
   "source": [
    "## Input data"
   ]
  },
  {
   "cell_type": "code",
   "execution_count": 6,
   "metadata": {
    "execution": {
     "iopub.execute_input": "2020-12-02T02:27:49.649610Z",
     "iopub.status.busy": "2020-12-02T02:27:49.649206Z",
     "iopub.status.idle": "2020-12-02T02:27:49.661476Z",
     "shell.execute_reply": "2020-12-02T02:27:49.661105Z"
    },
    "papermill": {
     "duration": 0.033005,
     "end_time": "2020-12-02T02:27:49.661562",
     "exception": false,
     "start_time": "2020-12-02T02:27:49.628557",
     "status": "completed"
    },
    "tags": []
   },
   "outputs": [],
   "source": [
    "INPUT_SUBSET = \"z_score_std\""
   ]
  },
  {
   "cell_type": "code",
   "execution_count": 7,
   "metadata": {
    "execution": {
     "iopub.execute_input": "2020-12-02T02:27:49.702429Z",
     "iopub.status.busy": "2020-12-02T02:27:49.702063Z",
     "iopub.status.idle": "2020-12-02T02:27:49.713921Z",
     "shell.execute_reply": "2020-12-02T02:27:49.713587Z"
    },
    "papermill": {
     "duration": 0.033359,
     "end_time": "2020-12-02T02:27:49.714006",
     "exception": false,
     "start_time": "2020-12-02T02:27:49.680647",
     "status": "completed"
    },
    "tags": []
   },
   "outputs": [],
   "source": [
    "INPUT_STEM = \"projection-smultixcan-efo_partial-mashr-zscores\""
   ]
  },
  {
   "cell_type": "code",
   "execution_count": 8,
   "metadata": {
    "execution": {
     "iopub.execute_input": "2020-12-02T02:27:49.754264Z",
     "iopub.status.busy": "2020-12-02T02:27:49.753900Z",
     "iopub.status.idle": "2020-12-02T02:27:49.767307Z",
     "shell.execute_reply": "2020-12-02T02:27:49.766934Z"
    },
    "papermill": {
     "duration": 0.034466,
     "end_time": "2020-12-02T02:27:49.767394",
     "exception": false,
     "start_time": "2020-12-02T02:27:49.732928",
     "status": "completed"
    },
    "tags": []
   },
   "outputs": [
    {
     "data": {
      "text/plain": [
       "PosixPath('/home/miltondp/projects/labs/greenelab/phenoplier/base/results/data_transformations/z_score_std/z_score_std-projection-smultixcan-efo_partial-mashr-zscores.pkl')"
      ]
     },
     "metadata": {},
     "output_type": "display_data"
    },
    {
     "data": {
      "text/plain": [
       "'z_score_std-projection-smultixcan-efo_partial-mashr-zscores'"
      ]
     },
     "metadata": {},
     "output_type": "display_data"
    }
   ],
   "source": [
    "input_filepath = Path(\n",
    "    conf.RESULTS[\"DATA_TRANSFORMATIONS_DIR\"],\n",
    "    INPUT_SUBSET,\n",
    "    f\"{INPUT_SUBSET}-{INPUT_STEM}.pkl\",\n",
    ").resolve()\n",
    "display(input_filepath)\n",
    "\n",
    "assert input_filepath.exists(), \"Input file does not exist\"\n",
    "\n",
    "input_filepath_stem = input_filepath.stem\n",
    "display(input_filepath_stem)"
   ]
  },
  {
   "cell_type": "markdown",
   "metadata": {
    "papermill": {
     "duration": 0.019173,
     "end_time": "2020-12-02T02:27:49.806333",
     "exception": false,
     "start_time": "2020-12-02T02:27:49.787160",
     "status": "completed"
    },
    "tags": []
   },
   "source": [
    "## Clustering"
   ]
  },
  {
   "cell_type": "code",
   "execution_count": 9,
   "metadata": {
    "execution": {
     "iopub.execute_input": "2020-12-02T02:27:49.846602Z",
     "iopub.status.busy": "2020-12-02T02:27:49.846246Z",
     "iopub.status.idle": "2020-12-02T02:27:49.865432Z",
     "shell.execute_reply": "2020-12-02T02:27:49.865124Z"
    },
    "papermill": {
     "duration": 0.040477,
     "end_time": "2020-12-02T02:27:49.865520",
     "exception": false,
     "start_time": "2020-12-02T02:27:49.825043",
     "status": "completed"
    },
    "tags": []
   },
   "outputs": [],
   "source": [
    "from sklearn.mixture import GaussianMixture"
   ]
  },
  {
   "cell_type": "code",
   "execution_count": 10,
   "metadata": {
    "execution": {
     "iopub.execute_input": "2020-12-02T02:27:49.906195Z",
     "iopub.status.busy": "2020-12-02T02:27:49.905838Z",
     "iopub.status.idle": "2020-12-02T02:27:49.917511Z",
     "shell.execute_reply": "2020-12-02T02:27:49.917203Z"
    },
    "papermill": {
     "duration": 0.032796,
     "end_time": "2020-12-02T02:27:49.917601",
     "exception": false,
     "start_time": "2020-12-02T02:27:49.884805",
     "status": "completed"
    },
    "tags": []
   },
   "outputs": [],
   "source": [
    "CLUSTERING_ATTRIBUTES_TO_SAVE = [\"n_clusters\"]"
   ]
  },
  {
   "cell_type": "code",
   "execution_count": 11,
   "metadata": {
    "execution": {
     "iopub.execute_input": "2020-12-02T02:27:49.959532Z",
     "iopub.status.busy": "2020-12-02T02:27:49.959169Z",
     "iopub.status.idle": "2020-12-02T02:27:49.972927Z",
     "shell.execute_reply": "2020-12-02T02:27:49.972541Z"
    },
    "papermill": {
     "duration": 0.035853,
     "end_time": "2020-12-02T02:27:49.973015",
     "exception": false,
     "start_time": "2020-12-02T02:27:49.937162",
     "status": "completed"
    },
    "tags": []
   },
   "outputs": [
    {
     "data": {
      "text/plain": [
       "{'K_MIN': 2,\n",
       " 'K_MAX': 60,\n",
       " 'N_REPS_PER_K': 5,\n",
       " 'N_INIT': 10,\n",
       " 'COVARIANCE_TYPE': 'full'}"
      ]
     },
     "metadata": {},
     "output_type": "display_data"
    }
   ],
   "source": [
    "CLUSTERING_OPTIONS = {}\n",
    "\n",
    "CLUSTERING_OPTIONS[\"K_MIN\"] = 2\n",
    "CLUSTERING_OPTIONS[\"K_MAX\"] = 60  # sqrt(3749)\n",
    "CLUSTERING_OPTIONS[\"N_REPS_PER_K\"] = 5\n",
    "CLUSTERING_OPTIONS[\"N_INIT\"] = 10\n",
    "CLUSTERING_OPTIONS[\"COVARIANCE_TYPE\"] = \"full\"\n",
    "\n",
    "display(CLUSTERING_OPTIONS)"
   ]
  },
  {
   "cell_type": "code",
   "execution_count": 12,
   "metadata": {
    "execution": {
     "iopub.execute_input": "2020-12-02T02:27:50.017754Z",
     "iopub.status.busy": "2020-12-02T02:27:50.017339Z",
     "iopub.status.idle": "2020-12-02T02:27:50.029848Z",
     "shell.execute_reply": "2020-12-02T02:27:50.029467Z"
    },
    "papermill": {
     "duration": 0.036604,
     "end_time": "2020-12-02T02:27:50.029936",
     "exception": false,
     "start_time": "2020-12-02T02:27:49.993332",
     "status": "completed"
    },
    "tags": []
   },
   "outputs": [],
   "source": [
    "CLUSTERERS = {}\n",
    "\n",
    "idx = 0\n",
    "random_state = INITIAL_RANDOM_STATE\n",
    "\n",
    "for k in range(CLUSTERING_OPTIONS[\"K_MIN\"], CLUSTERING_OPTIONS[\"K_MAX\"] + 1):\n",
    "    for i in range(CLUSTERING_OPTIONS[\"N_REPS_PER_K\"]):\n",
    "        clus = GaussianMixture(\n",
    "            n_components=k,\n",
    "            n_init=CLUSTERING_OPTIONS[\"N_INIT\"],\n",
    "            covariance_type=CLUSTERING_OPTIONS[\"COVARIANCE_TYPE\"],\n",
    "            random_state=random_state,\n",
    "        )\n",
    "\n",
    "        method_name = type(clus).__name__\n",
    "        CLUSTERERS[f\"{method_name} #{idx}\"] = clus\n",
    "\n",
    "        random_state = random_state + 1\n",
    "        idx = idx + 1"
   ]
  },
  {
   "cell_type": "code",
   "execution_count": 13,
   "metadata": {
    "execution": {
     "iopub.execute_input": "2020-12-02T02:27:50.072225Z",
     "iopub.status.busy": "2020-12-02T02:27:50.071867Z",
     "iopub.status.idle": "2020-12-02T02:27:50.084756Z",
     "shell.execute_reply": "2020-12-02T02:27:50.084351Z"
    },
    "papermill": {
     "duration": 0.034574,
     "end_time": "2020-12-02T02:27:50.084844",
     "exception": false,
     "start_time": "2020-12-02T02:27:50.050270",
     "status": "completed"
    },
    "tags": []
   },
   "outputs": [
    {
     "data": {
      "text/plain": [
       "295"
      ]
     },
     "metadata": {},
     "output_type": "display_data"
    }
   ],
   "source": [
    "display(len(CLUSTERERS))"
   ]
  },
  {
   "cell_type": "code",
   "execution_count": 14,
   "metadata": {
    "execution": {
     "iopub.execute_input": "2020-12-02T02:27:50.127396Z",
     "iopub.status.busy": "2020-12-02T02:27:50.127035Z",
     "iopub.status.idle": "2020-12-02T02:27:50.141491Z",
     "shell.execute_reply": "2020-12-02T02:27:50.141147Z"
    },
    "papermill": {
     "duration": 0.03647,
     "end_time": "2020-12-02T02:27:50.141578",
     "exception": false,
     "start_time": "2020-12-02T02:27:50.105108",
     "status": "completed"
    },
    "tags": []
   },
   "outputs": [
    {
     "data": {
      "text/plain": [
       "('GaussianMixture #0',\n",
       " GaussianMixture(n_components=2, n_init=10, random_state=60000))"
      ]
     },
     "metadata": {},
     "output_type": "display_data"
    },
    {
     "data": {
      "text/plain": [
       "('GaussianMixture #1',\n",
       " GaussianMixture(n_components=2, n_init=10, random_state=60001))"
      ]
     },
     "metadata": {},
     "output_type": "display_data"
    }
   ],
   "source": [
    "_iter = iter(CLUSTERERS.items())\n",
    "display(next(_iter))\n",
    "display(next(_iter))"
   ]
  },
  {
   "cell_type": "code",
   "execution_count": 15,
   "metadata": {
    "execution": {
     "iopub.execute_input": "2020-12-02T02:27:50.185492Z",
     "iopub.status.busy": "2020-12-02T02:27:50.185128Z",
     "iopub.status.idle": "2020-12-02T02:27:50.198029Z",
     "shell.execute_reply": "2020-12-02T02:27:50.197667Z"
    },
    "papermill": {
     "duration": 0.035352,
     "end_time": "2020-12-02T02:27:50.198116",
     "exception": false,
     "start_time": "2020-12-02T02:27:50.162764",
     "status": "completed"
    },
    "tags": []
   },
   "outputs": [
    {
     "data": {
      "text/plain": [
       "'GaussianMixture'"
      ]
     },
     "metadata": {},
     "output_type": "display_data"
    }
   ],
   "source": [
    "clustering_method_name = method_name\n",
    "display(clustering_method_name)"
   ]
  },
  {
   "cell_type": "markdown",
   "metadata": {
    "papermill": {
     "duration": 0.020068,
     "end_time": "2020-12-02T02:27:50.238642",
     "exception": false,
     "start_time": "2020-12-02T02:27:50.218574",
     "status": "completed"
    },
    "tags": []
   },
   "source": [
    "## Output directory"
   ]
  },
  {
   "cell_type": "code",
   "execution_count": 16,
   "metadata": {
    "execution": {
     "iopub.execute_input": "2020-12-02T02:27:50.281685Z",
     "iopub.status.busy": "2020-12-02T02:27:50.281311Z",
     "iopub.status.idle": "2020-12-02T02:27:50.294417Z",
     "shell.execute_reply": "2020-12-02T02:27:50.294041Z"
    },
    "papermill": {
     "duration": 0.035526,
     "end_time": "2020-12-02T02:27:50.294503",
     "exception": false,
     "start_time": "2020-12-02T02:27:50.258977",
     "status": "completed"
    },
    "tags": []
   },
   "outputs": [
    {
     "data": {
      "text/plain": [
       "PosixPath('/home/miltondp/projects/labs/greenelab/phenoplier/base/results/clustering/runs/z_score_std-projection-smultixcan-efo_partial-mashr-zscores')"
      ]
     },
     "metadata": {},
     "output_type": "display_data"
    }
   ],
   "source": [
    "# output dir for this notebook\n",
    "RESULTS_DIR = Path(\n",
    "    conf.RESULTS[\"CLUSTERING_RUNS_DIR\"],\n",
    "    f\"{INPUT_SUBSET}-{INPUT_STEM}\",\n",
    ").resolve()\n",
    "RESULTS_DIR.mkdir(parents=True, exist_ok=True)\n",
    "\n",
    "display(RESULTS_DIR)"
   ]
  },
  {
   "cell_type": "markdown",
   "metadata": {
    "papermill": {
     "duration": 0.020204,
     "end_time": "2020-12-02T02:27:50.335547",
     "exception": false,
     "start_time": "2020-12-02T02:27:50.315343",
     "status": "completed"
    },
    "tags": []
   },
   "source": [
    "# Load input file"
   ]
  },
  {
   "cell_type": "code",
   "execution_count": 17,
   "metadata": {
    "execution": {
     "iopub.execute_input": "2020-12-02T02:27:50.379198Z",
     "iopub.status.busy": "2020-12-02T02:27:50.378844Z",
     "iopub.status.idle": "2020-12-02T02:27:50.402182Z",
     "shell.execute_reply": "2020-12-02T02:27:50.402484Z"
    },
    "papermill": {
     "duration": 0.046387,
     "end_time": "2020-12-02T02:27:50.402599",
     "exception": false,
     "start_time": "2020-12-02T02:27:50.356212",
     "status": "completed"
    },
    "tags": []
   },
   "outputs": [],
   "source": [
    "data = pd.read_pickle(input_filepath)"
   ]
  },
  {
   "cell_type": "code",
   "execution_count": 18,
   "metadata": {
    "execution": {
     "iopub.execute_input": "2020-12-02T02:27:50.449957Z",
     "iopub.status.busy": "2020-12-02T02:27:50.449589Z",
     "iopub.status.idle": "2020-12-02T02:27:50.462518Z",
     "shell.execute_reply": "2020-12-02T02:27:50.462146Z"
    },
    "papermill": {
     "duration": 0.037154,
     "end_time": "2020-12-02T02:27:50.462604",
     "exception": false,
     "start_time": "2020-12-02T02:27:50.425450",
     "status": "completed"
    },
    "tags": []
   },
   "outputs": [
    {
     "data": {
      "text/plain": [
       "(3749, 987)"
      ]
     },
     "execution_count": 18,
     "metadata": {},
     "output_type": "execute_result"
    }
   ],
   "source": [
    "data.shape"
   ]
  },
  {
   "cell_type": "code",
   "execution_count": 19,
   "metadata": {
    "execution": {
     "iopub.execute_input": "2020-12-02T02:27:50.507715Z",
     "iopub.status.busy": "2020-12-02T02:27:50.507345Z",
     "iopub.status.idle": "2020-12-02T02:27:50.532295Z",
     "shell.execute_reply": "2020-12-02T02:27:50.531911Z"
    },
    "papermill": {
     "duration": 0.047893,
     "end_time": "2020-12-02T02:27:50.532384",
     "exception": false,
     "start_time": "2020-12-02T02:27:50.484491",
     "status": "completed"
    },
    "tags": []
   },
   "outputs": [
    {
     "data": {
      "text/html": [
       "<div>\n",
       "<style scoped>\n",
       "    .dataframe tbody tr th:only-of-type {\n",
       "        vertical-align: middle;\n",
       "    }\n",
       "\n",
       "    .dataframe tbody tr th {\n",
       "        vertical-align: top;\n",
       "    }\n",
       "\n",
       "    .dataframe thead th {\n",
       "        text-align: right;\n",
       "    }\n",
       "</style>\n",
       "<table border=\"1\" class=\"dataframe\">\n",
       "  <thead>\n",
       "    <tr style=\"text-align: right;\">\n",
       "      <th></th>\n",
       "      <th>LV1</th>\n",
       "      <th>LV2</th>\n",
       "      <th>LV3</th>\n",
       "      <th>LV4</th>\n",
       "      <th>LV5</th>\n",
       "      <th>LV6</th>\n",
       "      <th>LV7</th>\n",
       "      <th>LV8</th>\n",
       "      <th>LV9</th>\n",
       "      <th>LV10</th>\n",
       "      <th>...</th>\n",
       "      <th>LV978</th>\n",
       "      <th>LV979</th>\n",
       "      <th>LV980</th>\n",
       "      <th>LV981</th>\n",
       "      <th>LV982</th>\n",
       "      <th>LV983</th>\n",
       "      <th>LV984</th>\n",
       "      <th>LV985</th>\n",
       "      <th>LV986</th>\n",
       "      <th>LV987</th>\n",
       "    </tr>\n",
       "  </thead>\n",
       "  <tbody>\n",
       "    <tr>\n",
       "      <th>100001_raw-Food_weight</th>\n",
       "      <td>-0.553743</td>\n",
       "      <td>1.851060</td>\n",
       "      <td>-0.095721</td>\n",
       "      <td>0.931603</td>\n",
       "      <td>-0.515196</td>\n",
       "      <td>1.371264</td>\n",
       "      <td>-0.413165</td>\n",
       "      <td>0.729668</td>\n",
       "      <td>0.546338</td>\n",
       "      <td>0.901153</td>\n",
       "      <td>...</td>\n",
       "      <td>1.148776</td>\n",
       "      <td>1.649018</td>\n",
       "      <td>-1.375952</td>\n",
       "      <td>2.203063</td>\n",
       "      <td>0.810199</td>\n",
       "      <td>-0.987048</td>\n",
       "      <td>0.277710</td>\n",
       "      <td>-0.607613</td>\n",
       "      <td>0.572376</td>\n",
       "      <td>-0.660846</td>\n",
       "    </tr>\n",
       "    <tr>\n",
       "      <th>100002_raw-Energy</th>\n",
       "      <td>-1.313905</td>\n",
       "      <td>-0.421015</td>\n",
       "      <td>-0.310524</td>\n",
       "      <td>-0.201978</td>\n",
       "      <td>0.233028</td>\n",
       "      <td>0.693838</td>\n",
       "      <td>0.084129</td>\n",
       "      <td>0.572439</td>\n",
       "      <td>0.217866</td>\n",
       "      <td>1.296973</td>\n",
       "      <td>...</td>\n",
       "      <td>0.165430</td>\n",
       "      <td>0.799276</td>\n",
       "      <td>-0.361989</td>\n",
       "      <td>-0.008253</td>\n",
       "      <td>2.063780</td>\n",
       "      <td>-0.930765</td>\n",
       "      <td>-0.147007</td>\n",
       "      <td>1.601938</td>\n",
       "      <td>-0.273553</td>\n",
       "      <td>-0.560822</td>\n",
       "    </tr>\n",
       "    <tr>\n",
       "      <th>100003_raw-Protein</th>\n",
       "      <td>-0.645622</td>\n",
       "      <td>-0.997845</td>\n",
       "      <td>0.249039</td>\n",
       "      <td>0.256499</td>\n",
       "      <td>0.422357</td>\n",
       "      <td>0.829189</td>\n",
       "      <td>-0.169004</td>\n",
       "      <td>0.511550</td>\n",
       "      <td>0.002389</td>\n",
       "      <td>-0.057200</td>\n",
       "      <td>...</td>\n",
       "      <td>1.016791</td>\n",
       "      <td>1.019488</td>\n",
       "      <td>-2.148844</td>\n",
       "      <td>-0.065130</td>\n",
       "      <td>0.041052</td>\n",
       "      <td>-0.836118</td>\n",
       "      <td>-0.320571</td>\n",
       "      <td>1.325519</td>\n",
       "      <td>-0.341494</td>\n",
       "      <td>-0.495786</td>\n",
       "    </tr>\n",
       "    <tr>\n",
       "      <th>100004_raw-Fat</th>\n",
       "      <td>-0.913924</td>\n",
       "      <td>-1.837183</td>\n",
       "      <td>0.012095</td>\n",
       "      <td>-1.301315</td>\n",
       "      <td>0.205794</td>\n",
       "      <td>1.129114</td>\n",
       "      <td>0.019985</td>\n",
       "      <td>0.376660</td>\n",
       "      <td>-0.810272</td>\n",
       "      <td>0.843611</td>\n",
       "      <td>...</td>\n",
       "      <td>0.544266</td>\n",
       "      <td>0.576714</td>\n",
       "      <td>0.281731</td>\n",
       "      <td>-0.218963</td>\n",
       "      <td>1.258957</td>\n",
       "      <td>-1.131924</td>\n",
       "      <td>0.378545</td>\n",
       "      <td>0.842047</td>\n",
       "      <td>-0.622194</td>\n",
       "      <td>-0.160058</td>\n",
       "    </tr>\n",
       "    <tr>\n",
       "      <th>100005_raw-Carbohydrate</th>\n",
       "      <td>-0.523004</td>\n",
       "      <td>0.131379</td>\n",
       "      <td>-0.097802</td>\n",
       "      <td>-0.030526</td>\n",
       "      <td>-0.021500</td>\n",
       "      <td>-0.219116</td>\n",
       "      <td>0.668229</td>\n",
       "      <td>0.365700</td>\n",
       "      <td>1.102347</td>\n",
       "      <td>0.845625</td>\n",
       "      <td>...</td>\n",
       "      <td>-0.344740</td>\n",
       "      <td>0.079274</td>\n",
       "      <td>0.253427</td>\n",
       "      <td>0.236474</td>\n",
       "      <td>1.033895</td>\n",
       "      <td>-0.229105</td>\n",
       "      <td>0.364793</td>\n",
       "      <td>1.776714</td>\n",
       "      <td>0.190531</td>\n",
       "      <td>-1.459641</td>\n",
       "    </tr>\n",
       "  </tbody>\n",
       "</table>\n",
       "<p>5 rows × 987 columns</p>\n",
       "</div>"
      ],
      "text/plain": [
       "                              LV1       LV2       LV3       LV4       LV5  \\\n",
       "100001_raw-Food_weight  -0.553743  1.851060 -0.095721  0.931603 -0.515196   \n",
       "100002_raw-Energy       -1.313905 -0.421015 -0.310524 -0.201978  0.233028   \n",
       "100003_raw-Protein      -0.645622 -0.997845  0.249039  0.256499  0.422357   \n",
       "100004_raw-Fat          -0.913924 -1.837183  0.012095 -1.301315  0.205794   \n",
       "100005_raw-Carbohydrate -0.523004  0.131379 -0.097802 -0.030526 -0.021500   \n",
       "\n",
       "                              LV6       LV7       LV8       LV9      LV10  \\\n",
       "100001_raw-Food_weight   1.371264 -0.413165  0.729668  0.546338  0.901153   \n",
       "100002_raw-Energy        0.693838  0.084129  0.572439  0.217866  1.296973   \n",
       "100003_raw-Protein       0.829189 -0.169004  0.511550  0.002389 -0.057200   \n",
       "100004_raw-Fat           1.129114  0.019985  0.376660 -0.810272  0.843611   \n",
       "100005_raw-Carbohydrate -0.219116  0.668229  0.365700  1.102347  0.845625   \n",
       "\n",
       "                         ...     LV978     LV979     LV980     LV981  \\\n",
       "100001_raw-Food_weight   ...  1.148776  1.649018 -1.375952  2.203063   \n",
       "100002_raw-Energy        ...  0.165430  0.799276 -0.361989 -0.008253   \n",
       "100003_raw-Protein       ...  1.016791  1.019488 -2.148844 -0.065130   \n",
       "100004_raw-Fat           ...  0.544266  0.576714  0.281731 -0.218963   \n",
       "100005_raw-Carbohydrate  ... -0.344740  0.079274  0.253427  0.236474   \n",
       "\n",
       "                            LV982     LV983     LV984     LV985     LV986  \\\n",
       "100001_raw-Food_weight   0.810199 -0.987048  0.277710 -0.607613  0.572376   \n",
       "100002_raw-Energy        2.063780 -0.930765 -0.147007  1.601938 -0.273553   \n",
       "100003_raw-Protein       0.041052 -0.836118 -0.320571  1.325519 -0.341494   \n",
       "100004_raw-Fat           1.258957 -1.131924  0.378545  0.842047 -0.622194   \n",
       "100005_raw-Carbohydrate  1.033895 -0.229105  0.364793  1.776714  0.190531   \n",
       "\n",
       "                            LV987  \n",
       "100001_raw-Food_weight  -0.660846  \n",
       "100002_raw-Energy       -0.560822  \n",
       "100003_raw-Protein      -0.495786  \n",
       "100004_raw-Fat          -0.160058  \n",
       "100005_raw-Carbohydrate -1.459641  \n",
       "\n",
       "[5 rows x 987 columns]"
      ]
     },
     "execution_count": 19,
     "metadata": {},
     "output_type": "execute_result"
    }
   ],
   "source": [
    "data.head()"
   ]
  },
  {
   "cell_type": "code",
   "execution_count": 20,
   "metadata": {
    "execution": {
     "iopub.execute_input": "2020-12-02T02:27:50.579037Z",
     "iopub.status.busy": "2020-12-02T02:27:50.578680Z",
     "iopub.status.idle": "2020-12-02T02:27:50.595725Z",
     "shell.execute_reply": "2020-12-02T02:27:50.595409Z"
    },
    "papermill": {
     "duration": 0.040685,
     "end_time": "2020-12-02T02:27:50.595816",
     "exception": false,
     "start_time": "2020-12-02T02:27:50.555131",
     "status": "completed"
    },
    "tags": []
   },
   "outputs": [],
   "source": [
    "assert not data.isna().any().any()"
   ]
  },
  {
   "cell_type": "markdown",
   "metadata": {
    "papermill": {
     "duration": 0.021002,
     "end_time": "2020-12-02T02:27:50.639033",
     "exception": false,
     "start_time": "2020-12-02T02:27:50.618031",
     "status": "completed"
    },
    "tags": []
   },
   "source": [
    "# Clustering"
   ]
  },
  {
   "cell_type": "markdown",
   "metadata": {
    "papermill": {
     "duration": 0.021179,
     "end_time": "2020-12-02T02:27:50.681718",
     "exception": false,
     "start_time": "2020-12-02T02:27:50.660539",
     "status": "completed"
    },
    "tags": []
   },
   "source": [
    "## Generate ensemble"
   ]
  },
  {
   "cell_type": "code",
   "execution_count": 21,
   "metadata": {
    "execution": {
     "iopub.execute_input": "2020-12-02T02:27:50.726672Z",
     "iopub.status.busy": "2020-12-02T02:27:50.726299Z",
     "iopub.status.idle": "2020-12-02T02:27:50.740917Z",
     "shell.execute_reply": "2020-12-02T02:27:50.740497Z"
    },
    "papermill": {
     "duration": 0.038034,
     "end_time": "2020-12-02T02:27:50.741007",
     "exception": false,
     "start_time": "2020-12-02T02:27:50.702973",
     "status": "completed"
    },
    "tags": []
   },
   "outputs": [],
   "source": [
    "from clustering.ensemble import generate_ensemble"
   ]
  },
  {
   "cell_type": "code",
   "execution_count": 22,
   "metadata": {
    "execution": {
     "iopub.execute_input": "2020-12-02T02:27:50.786605Z",
     "iopub.status.busy": "2020-12-02T02:27:50.786242Z",
     "iopub.status.idle": "2020-12-02T13:55:40.940394Z",
     "shell.execute_reply": "2020-12-02T13:55:40.939619Z"
    },
    "papermill": {
     "duration": 41270.177501,
     "end_time": "2020-12-02T13:55:40.940480",
     "exception": false,
     "start_time": "2020-12-02T02:27:50.762979",
     "status": "completed"
    },
    "tags": []
   },
   "outputs": [
    {
     "name": "stderr",
     "output_type": "stream",
     "text": [
      "100%|██████████| 295/295 [11:27:50<00:00, 139.90s/it]  \n"
     ]
    }
   ],
   "source": [
    "ensemble = generate_ensemble(\n",
    "    data,\n",
    "    CLUSTERERS,\n",
    "    attributes=CLUSTERING_ATTRIBUTES_TO_SAVE,\n",
    ")"
   ]
  },
  {
   "cell_type": "code",
   "execution_count": 23,
   "metadata": {
    "execution": {
     "iopub.execute_input": "2020-12-02T13:55:41.927116Z",
     "iopub.status.busy": "2020-12-02T13:55:41.926753Z",
     "iopub.status.idle": "2020-12-02T13:55:41.938863Z",
     "shell.execute_reply": "2020-12-02T13:55:41.939182Z"
    },
    "papermill": {
     "duration": 0.087439,
     "end_time": "2020-12-02T13:55:41.939287",
     "exception": false,
     "start_time": "2020-12-02T13:55:41.851848",
     "status": "completed"
    },
    "tags": []
   },
   "outputs": [
    {
     "data": {
      "text/plain": [
       "(295, 3)"
      ]
     },
     "execution_count": 23,
     "metadata": {},
     "output_type": "execute_result"
    }
   ],
   "source": [
    "# the number should be close to 295 (the number of partitions generated by k-means/spectral clustering)\n",
    "ensemble.shape"
   ]
  },
  {
   "cell_type": "code",
   "execution_count": 24,
   "metadata": {
    "execution": {
     "iopub.execute_input": "2020-12-02T13:55:42.081171Z",
     "iopub.status.busy": "2020-12-02T13:55:42.080809Z",
     "iopub.status.idle": "2020-12-02T13:55:42.100510Z",
     "shell.execute_reply": "2020-12-02T13:55:42.100832Z"
    },
    "papermill": {
     "duration": 0.091427,
     "end_time": "2020-12-02T13:55:42.100943",
     "exception": false,
     "start_time": "2020-12-02T13:55:42.009516",
     "status": "completed"
    },
    "tags": []
   },
   "outputs": [
    {
     "data": {
      "text/html": [
       "<div>\n",
       "<style scoped>\n",
       "    .dataframe tbody tr th:only-of-type {\n",
       "        vertical-align: middle;\n",
       "    }\n",
       "\n",
       "    .dataframe tbody tr th {\n",
       "        vertical-align: top;\n",
       "    }\n",
       "\n",
       "    .dataframe thead th {\n",
       "        text-align: right;\n",
       "    }\n",
       "</style>\n",
       "<table border=\"1\" class=\"dataframe\">\n",
       "  <thead>\n",
       "    <tr style=\"text-align: right;\">\n",
       "      <th></th>\n",
       "      <th>clusterer_params</th>\n",
       "      <th>partition</th>\n",
       "      <th>n_clusters</th>\n",
       "    </tr>\n",
       "    <tr>\n",
       "      <th>clusterer_id</th>\n",
       "      <th></th>\n",
       "      <th></th>\n",
       "      <th></th>\n",
       "    </tr>\n",
       "  </thead>\n",
       "  <tbody>\n",
       "    <tr>\n",
       "      <th>GaussianMixture #0</th>\n",
       "      <td>{'covariance_type': 'full', 'init_params': 'km...</td>\n",
       "      <td>[0.0, 0.0, 0.0, 0.0, 0.0, 0.0, 0.0, 0.0, 0.0, ...</td>\n",
       "      <td>2</td>\n",
       "    </tr>\n",
       "    <tr>\n",
       "      <th>GaussianMixture #1</th>\n",
       "      <td>{'covariance_type': 'full', 'init_params': 'km...</td>\n",
       "      <td>[0.0, 0.0, 0.0, 0.0, 0.0, 0.0, 0.0, 0.0, 0.0, ...</td>\n",
       "      <td>2</td>\n",
       "    </tr>\n",
       "    <tr>\n",
       "      <th>GaussianMixture #2</th>\n",
       "      <td>{'covariance_type': 'full', 'init_params': 'km...</td>\n",
       "      <td>[0.0, 0.0, 0.0, 0.0, 0.0, 0.0, 0.0, 0.0, 0.0, ...</td>\n",
       "      <td>2</td>\n",
       "    </tr>\n",
       "    <tr>\n",
       "      <th>GaussianMixture #3</th>\n",
       "      <td>{'covariance_type': 'full', 'init_params': 'km...</td>\n",
       "      <td>[1.0, 1.0, 1.0, 1.0, 1.0, 1.0, 1.0, 1.0, 1.0, ...</td>\n",
       "      <td>2</td>\n",
       "    </tr>\n",
       "    <tr>\n",
       "      <th>GaussianMixture #4</th>\n",
       "      <td>{'covariance_type': 'full', 'init_params': 'km...</td>\n",
       "      <td>[1.0, 1.0, 1.0, 1.0, 1.0, 1.0, 1.0, 1.0, 1.0, ...</td>\n",
       "      <td>2</td>\n",
       "    </tr>\n",
       "  </tbody>\n",
       "</table>\n",
       "</div>"
      ],
      "text/plain": [
       "                                                     clusterer_params  \\\n",
       "clusterer_id                                                            \n",
       "GaussianMixture #0  {'covariance_type': 'full', 'init_params': 'km...   \n",
       "GaussianMixture #1  {'covariance_type': 'full', 'init_params': 'km...   \n",
       "GaussianMixture #2  {'covariance_type': 'full', 'init_params': 'km...   \n",
       "GaussianMixture #3  {'covariance_type': 'full', 'init_params': 'km...   \n",
       "GaussianMixture #4  {'covariance_type': 'full', 'init_params': 'km...   \n",
       "\n",
       "                                                            partition  \\\n",
       "clusterer_id                                                            \n",
       "GaussianMixture #0  [0.0, 0.0, 0.0, 0.0, 0.0, 0.0, 0.0, 0.0, 0.0, ...   \n",
       "GaussianMixture #1  [0.0, 0.0, 0.0, 0.0, 0.0, 0.0, 0.0, 0.0, 0.0, ...   \n",
       "GaussianMixture #2  [0.0, 0.0, 0.0, 0.0, 0.0, 0.0, 0.0, 0.0, 0.0, ...   \n",
       "GaussianMixture #3  [1.0, 1.0, 1.0, 1.0, 1.0, 1.0, 1.0, 1.0, 1.0, ...   \n",
       "GaussianMixture #4  [1.0, 1.0, 1.0, 1.0, 1.0, 1.0, 1.0, 1.0, 1.0, ...   \n",
       "\n",
       "                    n_clusters  \n",
       "clusterer_id                    \n",
       "GaussianMixture #0           2  \n",
       "GaussianMixture #1           2  \n",
       "GaussianMixture #2           2  \n",
       "GaussianMixture #3           2  \n",
       "GaussianMixture #4           2  "
      ]
     },
     "execution_count": 24,
     "metadata": {},
     "output_type": "execute_result"
    }
   ],
   "source": [
    "ensemble.head()"
   ]
  },
  {
   "cell_type": "code",
   "execution_count": 25,
   "metadata": {
    "execution": {
     "iopub.execute_input": "2020-12-02T13:55:42.243121Z",
     "iopub.status.busy": "2020-12-02T13:55:42.242758Z",
     "iopub.status.idle": "2020-12-02T13:55:42.256035Z",
     "shell.execute_reply": "2020-12-02T13:55:42.255722Z"
    },
    "papermill": {
     "duration": 0.08535,
     "end_time": "2020-12-02T13:55:42.256126",
     "exception": false,
     "start_time": "2020-12-02T13:55:42.170776",
     "status": "completed"
    },
    "tags": []
   },
   "outputs": [
    {
     "data": {
      "text/plain": [
       "60    5\n",
       "16    5\n",
       "28    5\n",
       "27    5\n",
       "26    5\n",
       "Name: n_clusters, dtype: int64"
      ]
     },
     "execution_count": 25,
     "metadata": {},
     "output_type": "execute_result"
    }
   ],
   "source": [
    "ensemble[\"n_clusters\"].value_counts().head()"
   ]
  },
  {
   "cell_type": "code",
   "execution_count": 26,
   "metadata": {
    "execution": {
     "iopub.execute_input": "2020-12-02T13:55:42.405924Z",
     "iopub.status.busy": "2020-12-02T13:55:42.405567Z",
     "iopub.status.idle": "2020-12-02T13:55:42.420493Z",
     "shell.execute_reply": "2020-12-02T13:55:42.420099Z"
    },
    "papermill": {
     "duration": 0.090212,
     "end_time": "2020-12-02T13:55:42.420584",
     "exception": false,
     "start_time": "2020-12-02T13:55:42.330372",
     "status": "completed"
    },
    "tags": []
   },
   "outputs": [
    {
     "data": {
      "text/plain": [
       "count    295.000000\n",
       "mean      31.000000\n",
       "std       17.058323\n",
       "min        2.000000\n",
       "25%       16.000000\n",
       "50%       31.000000\n",
       "75%       46.000000\n",
       "max       60.000000\n",
       "Name: n_clusters, dtype: float64"
      ]
     },
     "metadata": {},
     "output_type": "display_data"
    }
   ],
   "source": [
    "ensemble_stats = ensemble[\"n_clusters\"].describe()\n",
    "display(ensemble_stats)"
   ]
  },
  {
   "cell_type": "markdown",
   "metadata": {
    "papermill": {
     "duration": 0.070265,
     "end_time": "2020-12-02T13:55:42.562859",
     "exception": false,
     "start_time": "2020-12-02T13:55:42.492594",
     "status": "completed"
    },
    "tags": []
   },
   "source": [
    "## Testing"
   ]
  },
  {
   "cell_type": "code",
   "execution_count": 27,
   "metadata": {
    "execution": {
     "iopub.execute_input": "2020-12-02T13:55:42.704653Z",
     "iopub.status.busy": "2020-12-02T13:55:42.704292Z",
     "iopub.status.idle": "2020-12-02T13:55:42.716194Z",
     "shell.execute_reply": "2020-12-02T13:55:42.715814Z"
    },
    "papermill": {
     "duration": 0.084092,
     "end_time": "2020-12-02T13:55:42.716283",
     "exception": false,
     "start_time": "2020-12-02T13:55:42.632191",
     "status": "completed"
    },
    "tags": []
   },
   "outputs": [],
   "source": [
    "assert ensemble_stats[\"min\"] > 1"
   ]
  },
  {
   "cell_type": "code",
   "execution_count": 28,
   "metadata": {
    "execution": {
     "iopub.execute_input": "2020-12-02T13:55:42.858673Z",
     "iopub.status.busy": "2020-12-02T13:55:42.858310Z",
     "iopub.status.idle": "2020-12-02T13:55:42.870245Z",
     "shell.execute_reply": "2020-12-02T13:55:42.870532Z"
    },
    "papermill": {
     "duration": 0.083787,
     "end_time": "2020-12-02T13:55:42.870643",
     "exception": false,
     "start_time": "2020-12-02T13:55:42.786856",
     "status": "completed"
    },
    "tags": []
   },
   "outputs": [],
   "source": [
    "assert not ensemble[\"n_clusters\"].isna().any()"
   ]
  },
  {
   "cell_type": "code",
   "execution_count": 29,
   "metadata": {
    "execution": {
     "iopub.execute_input": "2020-12-02T13:55:43.013509Z",
     "iopub.status.busy": "2020-12-02T13:55:43.013113Z",
     "iopub.status.idle": "2020-12-02T13:55:43.024568Z",
     "shell.execute_reply": "2020-12-02T13:55:43.024906Z"
    },
    "papermill": {
     "duration": 0.084027,
     "end_time": "2020-12-02T13:55:43.025014",
     "exception": false,
     "start_time": "2020-12-02T13:55:42.940987",
     "status": "completed"
    },
    "tags": []
   },
   "outputs": [],
   "source": [
    "assert ensemble.shape[0] == len(CLUSTERERS)"
   ]
  },
  {
   "cell_type": "code",
   "execution_count": 30,
   "metadata": {
    "execution": {
     "iopub.execute_input": "2020-12-02T13:55:43.168635Z",
     "iopub.status.busy": "2020-12-02T13:55:43.168277Z",
     "iopub.status.idle": "2020-12-02T13:55:43.197852Z",
     "shell.execute_reply": "2020-12-02T13:55:43.197465Z"
    },
    "papermill": {
     "duration": 0.102245,
     "end_time": "2020-12-02T13:55:43.197943",
     "exception": false,
     "start_time": "2020-12-02T13:55:43.095698",
     "status": "completed"
    },
    "tags": []
   },
   "outputs": [],
   "source": [
    "# all partitions have the right size\n",
    "assert np.all(\n",
    "    [part[\"partition\"].shape[0] == data.shape[0] for idx, part in ensemble.iterrows()]\n",
    ")"
   ]
  },
  {
   "cell_type": "code",
   "execution_count": 31,
   "metadata": {
    "execution": {
     "iopub.execute_input": "2020-12-02T13:55:43.344632Z",
     "iopub.status.busy": "2020-12-02T13:55:43.344262Z",
     "iopub.status.idle": "2020-12-02T13:55:43.378295Z",
     "shell.execute_reply": "2020-12-02T13:55:43.377913Z"
    },
    "papermill": {
     "duration": 0.108861,
     "end_time": "2020-12-02T13:55:43.378381",
     "exception": false,
     "start_time": "2020-12-02T13:55:43.269520",
     "status": "completed"
    },
    "tags": []
   },
   "outputs": [],
   "source": [
    "# no partition has negative clusters (noisy points)\n",
    "assert not np.any([(part[\"partition\"] < 0).any() for idx, part in ensemble.iterrows()])"
   ]
  },
  {
   "cell_type": "markdown",
   "metadata": {
    "papermill": {
     "duration": 0.070396,
     "end_time": "2020-12-02T13:55:43.520155",
     "exception": false,
     "start_time": "2020-12-02T13:55:43.449759",
     "status": "completed"
    },
    "tags": []
   },
   "source": [
    "## Save"
   ]
  },
  {
   "cell_type": "code",
   "execution_count": 32,
   "metadata": {
    "execution": {
     "iopub.execute_input": "2020-12-02T13:55:43.663737Z",
     "iopub.status.busy": "2020-12-02T13:55:43.663374Z",
     "iopub.status.idle": "2020-12-02T13:55:43.676133Z",
     "shell.execute_reply": "2020-12-02T13:55:43.676458Z"
    },
    "papermill": {
     "duration": 0.085942,
     "end_time": "2020-12-02T13:55:43.676563",
     "exception": false,
     "start_time": "2020-12-02T13:55:43.590621",
     "status": "completed"
    },
    "tags": []
   },
   "outputs": [
    {
     "data": {
      "text/plain": [
       "PosixPath('/home/miltondp/projects/labs/greenelab/phenoplier/base/results/clustering/runs/z_score_std-projection-smultixcan-efo_partial-mashr-zscores/GaussianMixture-COVARIANCE_TYPE_full-K_MAX_60-K_MIN_2-N_INIT_10-N_REPS_PER_K_5.pkl')"
      ]
     },
     "metadata": {},
     "output_type": "display_data"
    }
   ],
   "source": [
    "output_filename = Path(\n",
    "    RESULTS_DIR,\n",
    "    generate_result_set_name(\n",
    "        CLUSTERING_OPTIONS,\n",
    "        prefix=f\"{clustering_method_name}-\",\n",
    "        suffix=\".pkl\",\n",
    "    ),\n",
    ").resolve()\n",
    "display(output_filename)"
   ]
  },
  {
   "cell_type": "code",
   "execution_count": 33,
   "metadata": {
    "execution": {
     "iopub.execute_input": "2020-12-02T13:55:43.820288Z",
     "iopub.status.busy": "2020-12-02T13:55:43.819914Z",
     "iopub.status.idle": "2020-12-02T13:55:43.840487Z",
     "shell.execute_reply": "2020-12-02T13:55:43.840804Z"
    },
    "papermill": {
     "duration": 0.09361,
     "end_time": "2020-12-02T13:55:43.840922",
     "exception": false,
     "start_time": "2020-12-02T13:55:43.747312",
     "status": "completed"
    },
    "tags": []
   },
   "outputs": [],
   "source": [
    "ensemble.to_pickle(output_filename)"
   ]
  },
  {
   "cell_type": "markdown",
   "metadata": {
    "papermill": {
     "duration": 0.070596,
     "end_time": "2020-12-02T13:55:43.982795",
     "exception": false,
     "start_time": "2020-12-02T13:55:43.912199",
     "status": "completed"
    },
    "tags": []
   },
   "source": [
    "# Stability"
   ]
  },
  {
   "cell_type": "markdown",
   "metadata": {
    "papermill": {
     "duration": 0.06996,
     "end_time": "2020-12-02T13:55:44.124169",
     "exception": false,
     "start_time": "2020-12-02T13:55:44.054209",
     "status": "completed"
    },
    "tags": []
   },
   "source": [
    "## Group ensemble by n_clusters"
   ]
  },
  {
   "cell_type": "code",
   "execution_count": 34,
   "metadata": {
    "execution": {
     "iopub.execute_input": "2020-12-02T13:55:44.268455Z",
     "iopub.status.busy": "2020-12-02T13:55:44.268093Z",
     "iopub.status.idle": "2020-12-02T13:55:44.294533Z",
     "shell.execute_reply": "2020-12-02T13:55:44.294156Z"
    },
    "papermill": {
     "duration": 0.100185,
     "end_time": "2020-12-02T13:55:44.294620",
     "exception": false,
     "start_time": "2020-12-02T13:55:44.194435",
     "status": "completed"
    },
    "tags": []
   },
   "outputs": [],
   "source": [
    "parts = ensemble.groupby(\"n_clusters\").apply(\n",
    "    lambda x: np.concatenate(x[\"partition\"].apply(lambda x: x.reshape(1, -1)), axis=0)\n",
    ")"
   ]
  },
  {
   "cell_type": "code",
   "execution_count": 35,
   "metadata": {
    "execution": {
     "iopub.execute_input": "2020-12-02T13:55:44.442019Z",
     "iopub.status.busy": "2020-12-02T13:55:44.441645Z",
     "iopub.status.idle": "2020-12-02T13:55:44.466596Z",
     "shell.execute_reply": "2020-12-02T13:55:44.466222Z"
    },
    "papermill": {
     "duration": 0.098205,
     "end_time": "2020-12-02T13:55:44.466683",
     "exception": false,
     "start_time": "2020-12-02T13:55:44.368478",
     "status": "completed"
    },
    "tags": []
   },
   "outputs": [
    {
     "data": {
      "text/plain": [
       "n_clusters\n",
       "2    [[0.0, 0.0, 0.0, 0.0, 0.0, 0.0, 0.0, 0.0, 0.0,...\n",
       "3    [[2.0, 2.0, 2.0, 2.0, 2.0, 2.0, 2.0, 2.0, 2.0,...\n",
       "4    [[1.0, 1.0, 1.0, 1.0, 1.0, 1.0, 1.0, 1.0, 1.0,...\n",
       "5    [[3.0, 1.0, 1.0, 1.0, 1.0, 1.0, 3.0, 1.0, 1.0,...\n",
       "6    [[1.0, 1.0, 1.0, 1.0, 1.0, 1.0, 5.0, 1.0, 1.0,...\n",
       "dtype: object"
      ]
     },
     "execution_count": 35,
     "metadata": {},
     "output_type": "execute_result"
    }
   ],
   "source": [
    "parts.head()"
   ]
  },
  {
   "cell_type": "code",
   "execution_count": 36,
   "metadata": {
    "execution": {
     "iopub.execute_input": "2020-12-02T13:55:44.613444Z",
     "iopub.status.busy": "2020-12-02T13:55:44.613067Z",
     "iopub.status.idle": "2020-12-02T13:55:44.625831Z",
     "shell.execute_reply": "2020-12-02T13:55:44.625502Z"
    },
    "papermill": {
     "duration": 0.086819,
     "end_time": "2020-12-02T13:55:44.625919",
     "exception": false,
     "start_time": "2020-12-02T13:55:44.539100",
     "status": "completed"
    },
    "tags": []
   },
   "outputs": [],
   "source": [
    "assert np.all(\n",
    "    [\n",
    "        parts.loc[k].shape == (CLUSTERING_OPTIONS[\"N_REPS_PER_K\"], data.shape[0])\n",
    "        for k in parts.index\n",
    "    ]\n",
    ")"
   ]
  },
  {
   "cell_type": "markdown",
   "metadata": {
    "papermill": {
     "duration": 0.070877,
     "end_time": "2020-12-02T13:55:44.769137",
     "exception": false,
     "start_time": "2020-12-02T13:55:44.698260",
     "status": "completed"
    },
    "tags": []
   },
   "source": [
    "## Compute stability"
   ]
  },
  {
   "cell_type": "code",
   "execution_count": 37,
   "metadata": {
    "execution": {
     "iopub.execute_input": "2020-12-02T13:55:44.913485Z",
     "iopub.status.busy": "2020-12-02T13:55:44.913126Z",
     "iopub.status.idle": "2020-12-02T13:55:44.924642Z",
     "shell.execute_reply": "2020-12-02T13:55:44.924311Z"
    },
    "papermill": {
     "duration": 0.084557,
     "end_time": "2020-12-02T13:55:44.924778",
     "exception": false,
     "start_time": "2020-12-02T13:55:44.840221",
     "status": "completed"
    },
    "tags": []
   },
   "outputs": [],
   "source": [
    "from sklearn.metrics import adjusted_rand_score as ari\n",
    "from scipy.spatial.distance import squareform, pdist"
   ]
  },
  {
   "cell_type": "code",
   "execution_count": 38,
   "metadata": {
    "execution": {
     "iopub.execute_input": "2020-12-02T13:55:45.070391Z",
     "iopub.status.busy": "2020-12-02T13:55:45.070022Z",
     "iopub.status.idle": "2020-12-02T13:55:45.801424Z",
     "shell.execute_reply": "2020-12-02T13:55:45.801046Z"
    },
    "papermill": {
     "duration": 0.805153,
     "end_time": "2020-12-02T13:55:45.801512",
     "exception": false,
     "start_time": "2020-12-02T13:55:44.996359",
     "status": "completed"
    },
    "tags": []
   },
   "outputs": [],
   "source": [
    "parts_ari = pd.Series(\n",
    "    {k: pdist(parts.loc[k], metric=ari) for k in parts.index}, name=\"k\"\n",
    ")"
   ]
  },
  {
   "cell_type": "code",
   "execution_count": 39,
   "metadata": {
    "execution": {
     "iopub.execute_input": "2020-12-02T13:55:45.947810Z",
     "iopub.status.busy": "2020-12-02T13:55:45.947449Z",
     "iopub.status.idle": "2020-12-02T13:55:45.961367Z",
     "shell.execute_reply": "2020-12-02T13:55:45.961043Z"
    },
    "papermill": {
     "duration": 0.088438,
     "end_time": "2020-12-02T13:55:45.961454",
     "exception": false,
     "start_time": "2020-12-02T13:55:45.873016",
     "status": "completed"
    },
    "tags": []
   },
   "outputs": [
    {
     "data": {
      "text/plain": [
       "2     1.000000\n",
       "3     1.000000\n",
       "4     0.706709\n",
       "6     0.654032\n",
       "5     0.562892\n",
       "7     0.198969\n",
       "8     0.158953\n",
       "9     0.156636\n",
       "10    0.120957\n",
       "13    0.102207\n",
       "12    0.101988\n",
       "11    0.100751\n",
       "22    0.090791\n",
       "14    0.090578\n",
       "52    0.087660\n",
       "Name: k, dtype: float64"
      ]
     },
     "metadata": {},
     "output_type": "display_data"
    }
   ],
   "source": [
    "parts_ari_stability = parts_ari.apply(lambda x: x.mean())\n",
    "display(parts_ari_stability.sort_values(ascending=False).head(15))"
   ]
  },
  {
   "cell_type": "code",
   "execution_count": 40,
   "metadata": {
    "execution": {
     "iopub.execute_input": "2020-12-02T13:55:46.108355Z",
     "iopub.status.busy": "2020-12-02T13:55:46.107976Z",
     "iopub.status.idle": "2020-12-02T13:55:46.121024Z",
     "shell.execute_reply": "2020-12-02T13:55:46.120588Z"
    },
    "papermill": {
     "duration": 0.087466,
     "end_time": "2020-12-02T13:55:46.121111",
     "exception": false,
     "start_time": "2020-12-02T13:55:46.033645",
     "status": "completed"
    },
    "tags": []
   },
   "outputs": [],
   "source": [
    "parts_ari_df = pd.DataFrame.from_records(parts_ari.tolist()).set_index(\n",
    "    parts_ari.index.copy()\n",
    ")"
   ]
  },
  {
   "cell_type": "code",
   "execution_count": 41,
   "metadata": {
    "execution": {
     "iopub.execute_input": "2020-12-02T13:55:46.269506Z",
     "iopub.status.busy": "2020-12-02T13:55:46.269135Z",
     "iopub.status.idle": "2020-12-02T13:55:46.281623Z",
     "shell.execute_reply": "2020-12-02T13:55:46.281895Z"
    },
    "papermill": {
     "duration": 0.087254,
     "end_time": "2020-12-02T13:55:46.282002",
     "exception": false,
     "start_time": "2020-12-02T13:55:46.194748",
     "status": "completed"
    },
    "tags": []
   },
   "outputs": [
    {
     "data": {
      "text/plain": [
       "(59, 10)"
      ]
     },
     "execution_count": 41,
     "metadata": {},
     "output_type": "execute_result"
    }
   ],
   "source": [
    "parts_ari_df.shape"
   ]
  },
  {
   "cell_type": "code",
   "execution_count": 42,
   "metadata": {
    "execution": {
     "iopub.execute_input": "2020-12-02T13:55:46.432138Z",
     "iopub.status.busy": "2020-12-02T13:55:46.431772Z",
     "iopub.status.idle": "2020-12-02T13:55:46.443479Z",
     "shell.execute_reply": "2020-12-02T13:55:46.443753Z"
    },
    "papermill": {
     "duration": 0.087864,
     "end_time": "2020-12-02T13:55:46.443874",
     "exception": false,
     "start_time": "2020-12-02T13:55:46.356010",
     "status": "completed"
    },
    "tags": []
   },
   "outputs": [],
   "source": [
    "assert (\n",
    "    int(\n",
    "        (CLUSTERING_OPTIONS[\"N_REPS_PER_K\"] * (CLUSTERING_OPTIONS[\"N_REPS_PER_K\"] - 1))\n",
    "        / 2\n",
    "    )\n",
    "    == parts_ari_df.shape[1]\n",
    ")"
   ]
  },
  {
   "cell_type": "code",
   "execution_count": 43,
   "metadata": {
    "execution": {
     "iopub.execute_input": "2020-12-02T13:55:46.592146Z",
     "iopub.status.busy": "2020-12-02T13:55:46.591790Z",
     "iopub.status.idle": "2020-12-02T13:55:46.610069Z",
     "shell.execute_reply": "2020-12-02T13:55:46.609707Z"
    },
    "papermill": {
     "duration": 0.092687,
     "end_time": "2020-12-02T13:55:46.610154",
     "exception": false,
     "start_time": "2020-12-02T13:55:46.517467",
     "status": "completed"
    },
    "tags": []
   },
   "outputs": [
    {
     "data": {
      "text/html": [
       "<div>\n",
       "<style scoped>\n",
       "    .dataframe tbody tr th:only-of-type {\n",
       "        vertical-align: middle;\n",
       "    }\n",
       "\n",
       "    .dataframe tbody tr th {\n",
       "        vertical-align: top;\n",
       "    }\n",
       "\n",
       "    .dataframe thead th {\n",
       "        text-align: right;\n",
       "    }\n",
       "</style>\n",
       "<table border=\"1\" class=\"dataframe\">\n",
       "  <thead>\n",
       "    <tr style=\"text-align: right;\">\n",
       "      <th></th>\n",
       "      <th>0</th>\n",
       "      <th>1</th>\n",
       "      <th>2</th>\n",
       "      <th>3</th>\n",
       "      <th>4</th>\n",
       "      <th>5</th>\n",
       "      <th>6</th>\n",
       "      <th>7</th>\n",
       "      <th>8</th>\n",
       "      <th>9</th>\n",
       "    </tr>\n",
       "  </thead>\n",
       "  <tbody>\n",
       "    <tr>\n",
       "      <th>2</th>\n",
       "      <td>1.000000</td>\n",
       "      <td>1.000000</td>\n",
       "      <td>1.000000</td>\n",
       "      <td>1.000000</td>\n",
       "      <td>1.000000</td>\n",
       "      <td>1.000000</td>\n",
       "      <td>1.000000</td>\n",
       "      <td>1.000000</td>\n",
       "      <td>1.000000</td>\n",
       "      <td>1.000000</td>\n",
       "    </tr>\n",
       "    <tr>\n",
       "      <th>3</th>\n",
       "      <td>1.000000</td>\n",
       "      <td>1.000000</td>\n",
       "      <td>1.000000</td>\n",
       "      <td>1.000000</td>\n",
       "      <td>1.000000</td>\n",
       "      <td>1.000000</td>\n",
       "      <td>1.000000</td>\n",
       "      <td>1.000000</td>\n",
       "      <td>1.000000</td>\n",
       "      <td>1.000000</td>\n",
       "    </tr>\n",
       "    <tr>\n",
       "      <th>4</th>\n",
       "      <td>0.316450</td>\n",
       "      <td>0.300467</td>\n",
       "      <td>0.312368</td>\n",
       "      <td>0.316450</td>\n",
       "      <td>0.951973</td>\n",
       "      <td>0.978283</td>\n",
       "      <td>1.000000</td>\n",
       "      <td>0.960844</td>\n",
       "      <td>0.951973</td>\n",
       "      <td>0.978283</td>\n",
       "    </tr>\n",
       "    <tr>\n",
       "      <th>5</th>\n",
       "      <td>0.255985</td>\n",
       "      <td>0.302420</td>\n",
       "      <td>0.307365</td>\n",
       "      <td>0.257242</td>\n",
       "      <td>0.688087</td>\n",
       "      <td>0.623300</td>\n",
       "      <td>0.989519</td>\n",
       "      <td>0.885976</td>\n",
       "      <td>0.692109</td>\n",
       "      <td>0.626916</td>\n",
       "    </tr>\n",
       "    <tr>\n",
       "      <th>6</th>\n",
       "      <td>0.170649</td>\n",
       "      <td>0.963083</td>\n",
       "      <td>0.962127</td>\n",
       "      <td>0.966082</td>\n",
       "      <td>0.168698</td>\n",
       "      <td>0.168155</td>\n",
       "      <td>0.168616</td>\n",
       "      <td>0.995114</td>\n",
       "      <td>0.989385</td>\n",
       "      <td>0.988413</td>\n",
       "    </tr>\n",
       "  </tbody>\n",
       "</table>\n",
       "</div>"
      ],
      "text/plain": [
       "          0         1         2         3         4         5         6  \\\n",
       "2  1.000000  1.000000  1.000000  1.000000  1.000000  1.000000  1.000000   \n",
       "3  1.000000  1.000000  1.000000  1.000000  1.000000  1.000000  1.000000   \n",
       "4  0.316450  0.300467  0.312368  0.316450  0.951973  0.978283  1.000000   \n",
       "5  0.255985  0.302420  0.307365  0.257242  0.688087  0.623300  0.989519   \n",
       "6  0.170649  0.963083  0.962127  0.966082  0.168698  0.168155  0.168616   \n",
       "\n",
       "          7         8         9  \n",
       "2  1.000000  1.000000  1.000000  \n",
       "3  1.000000  1.000000  1.000000  \n",
       "4  0.960844  0.951973  0.978283  \n",
       "5  0.885976  0.692109  0.626916  \n",
       "6  0.995114  0.989385  0.988413  "
      ]
     },
     "execution_count": 43,
     "metadata": {},
     "output_type": "execute_result"
    }
   ],
   "source": [
    "parts_ari_df.head()"
   ]
  },
  {
   "cell_type": "markdown",
   "metadata": {
    "papermill": {
     "duration": 0.072072,
     "end_time": "2020-12-02T13:55:46.754900",
     "exception": false,
     "start_time": "2020-12-02T13:55:46.682828",
     "status": "completed"
    },
    "tags": []
   },
   "source": [
    "## Save"
   ]
  },
  {
   "cell_type": "code",
   "execution_count": 44,
   "metadata": {
    "execution": {
     "iopub.execute_input": "2020-12-02T13:55:46.901510Z",
     "iopub.status.busy": "2020-12-02T13:55:46.901153Z",
     "iopub.status.idle": "2020-12-02T13:55:46.913934Z",
     "shell.execute_reply": "2020-12-02T13:55:46.913566Z"
    },
    "papermill": {
     "duration": 0.087445,
     "end_time": "2020-12-02T13:55:46.914019",
     "exception": false,
     "start_time": "2020-12-02T13:55:46.826574",
     "status": "completed"
    },
    "tags": []
   },
   "outputs": [
    {
     "data": {
      "text/plain": [
       "PosixPath('/home/miltondp/projects/labs/greenelab/phenoplier/base/results/clustering/runs/z_score_std-projection-smultixcan-efo_partial-mashr-zscores/GaussianMixture-stability-COVARIANCE_TYPE_full-K_MAX_60-K_MIN_2-N_INIT_10-N_REPS_PER_K_5.pkl')"
      ]
     },
     "metadata": {},
     "output_type": "display_data"
    }
   ],
   "source": [
    "output_filename = Path(\n",
    "    RESULTS_DIR,\n",
    "    generate_result_set_name(\n",
    "        CLUSTERING_OPTIONS,\n",
    "        prefix=f\"{clustering_method_name}-stability-\",\n",
    "        suffix=\".pkl\",\n",
    "    ),\n",
    ").resolve()\n",
    "display(output_filename)"
   ]
  },
  {
   "cell_type": "code",
   "execution_count": 45,
   "metadata": {
    "execution": {
     "iopub.execute_input": "2020-12-02T13:55:47.061558Z",
     "iopub.status.busy": "2020-12-02T13:55:47.061191Z",
     "iopub.status.idle": "2020-12-02T13:55:47.073625Z",
     "shell.execute_reply": "2020-12-02T13:55:47.073322Z"
    },
    "papermill": {
     "duration": 0.086956,
     "end_time": "2020-12-02T13:55:47.073713",
     "exception": false,
     "start_time": "2020-12-02T13:55:46.986757",
     "status": "completed"
    },
    "tags": []
   },
   "outputs": [],
   "source": [
    "parts_ari_df.to_pickle(output_filename)"
   ]
  },
  {
   "cell_type": "markdown",
   "metadata": {
    "papermill": {
     "duration": 0.072293,
     "end_time": "2020-12-02T13:55:47.218958",
     "exception": false,
     "start_time": "2020-12-02T13:55:47.146665",
     "status": "completed"
    },
    "tags": []
   },
   "source": [
    "## Stability plot"
   ]
  },
  {
   "cell_type": "code",
   "execution_count": 46,
   "metadata": {
    "execution": {
     "iopub.execute_input": "2020-12-02T13:55:47.369294Z",
     "iopub.status.busy": "2020-12-02T13:55:47.368923Z",
     "iopub.status.idle": "2020-12-02T13:55:47.382460Z",
     "shell.execute_reply": "2020-12-02T13:55:47.382762Z"
    },
    "papermill": {
     "duration": 0.091349,
     "end_time": "2020-12-02T13:55:47.382883",
     "exception": false,
     "start_time": "2020-12-02T13:55:47.291534",
     "status": "completed"
    },
    "tags": []
   },
   "outputs": [],
   "source": [
    "parts_ari_df_plot = (\n",
    "    parts_ari_df.stack()\n",
    "    .reset_index()\n",
    "    .rename(columns={\"level_0\": \"k\", \"level_1\": \"idx\", 0: \"ari\"})\n",
    ")"
   ]
  },
  {
   "cell_type": "code",
   "execution_count": 47,
   "metadata": {
    "execution": {
     "iopub.execute_input": "2020-12-02T13:55:47.533726Z",
     "iopub.status.busy": "2020-12-02T13:55:47.533251Z",
     "iopub.status.idle": "2020-12-02T13:55:47.547365Z",
     "shell.execute_reply": "2020-12-02T13:55:47.547661Z"
    },
    "papermill": {
     "duration": 0.09034,
     "end_time": "2020-12-02T13:55:47.547767",
     "exception": false,
     "start_time": "2020-12-02T13:55:47.457427",
     "status": "completed"
    },
    "tags": []
   },
   "outputs": [
    {
     "data": {
      "text/plain": [
       "k        int64\n",
       "idx      int64\n",
       "ari    float64\n",
       "dtype: object"
      ]
     },
     "execution_count": 47,
     "metadata": {},
     "output_type": "execute_result"
    }
   ],
   "source": [
    "parts_ari_df_plot.dtypes"
   ]
  },
  {
   "cell_type": "code",
   "execution_count": 48,
   "metadata": {
    "execution": {
     "iopub.execute_input": "2020-12-02T13:55:47.699274Z",
     "iopub.status.busy": "2020-12-02T13:55:47.698881Z",
     "iopub.status.idle": "2020-12-02T13:55:47.713448Z",
     "shell.execute_reply": "2020-12-02T13:55:47.713737Z"
    },
    "papermill": {
     "duration": 0.091469,
     "end_time": "2020-12-02T13:55:47.713848",
     "exception": false,
     "start_time": "2020-12-02T13:55:47.622379",
     "status": "completed"
    },
    "tags": []
   },
   "outputs": [
    {
     "data": {
      "text/html": [
       "<div>\n",
       "<style scoped>\n",
       "    .dataframe tbody tr th:only-of-type {\n",
       "        vertical-align: middle;\n",
       "    }\n",
       "\n",
       "    .dataframe tbody tr th {\n",
       "        vertical-align: top;\n",
       "    }\n",
       "\n",
       "    .dataframe thead th {\n",
       "        text-align: right;\n",
       "    }\n",
       "</style>\n",
       "<table border=\"1\" class=\"dataframe\">\n",
       "  <thead>\n",
       "    <tr style=\"text-align: right;\">\n",
       "      <th></th>\n",
       "      <th>k</th>\n",
       "      <th>idx</th>\n",
       "      <th>ari</th>\n",
       "    </tr>\n",
       "  </thead>\n",
       "  <tbody>\n",
       "    <tr>\n",
       "      <th>0</th>\n",
       "      <td>2</td>\n",
       "      <td>0</td>\n",
       "      <td>1.0</td>\n",
       "    </tr>\n",
       "    <tr>\n",
       "      <th>1</th>\n",
       "      <td>2</td>\n",
       "      <td>1</td>\n",
       "      <td>1.0</td>\n",
       "    </tr>\n",
       "    <tr>\n",
       "      <th>2</th>\n",
       "      <td>2</td>\n",
       "      <td>2</td>\n",
       "      <td>1.0</td>\n",
       "    </tr>\n",
       "    <tr>\n",
       "      <th>3</th>\n",
       "      <td>2</td>\n",
       "      <td>3</td>\n",
       "      <td>1.0</td>\n",
       "    </tr>\n",
       "    <tr>\n",
       "      <th>4</th>\n",
       "      <td>2</td>\n",
       "      <td>4</td>\n",
       "      <td>1.0</td>\n",
       "    </tr>\n",
       "  </tbody>\n",
       "</table>\n",
       "</div>"
      ],
      "text/plain": [
       "   k  idx  ari\n",
       "0  2    0  1.0\n",
       "1  2    1  1.0\n",
       "2  2    2  1.0\n",
       "3  2    3  1.0\n",
       "4  2    4  1.0"
      ]
     },
     "execution_count": 48,
     "metadata": {},
     "output_type": "execute_result"
    }
   ],
   "source": [
    "parts_ari_df_plot.head()"
   ]
  },
  {
   "cell_type": "code",
   "execution_count": 49,
   "metadata": {
    "execution": {
     "iopub.execute_input": "2020-12-02T13:55:47.867582Z",
     "iopub.status.busy": "2020-12-02T13:55:47.867214Z",
     "iopub.status.idle": "2020-12-02T13:55:50.757943Z",
     "shell.execute_reply": "2020-12-02T13:55:50.757568Z"
    },
    "papermill": {
     "duration": 2.967621,
     "end_time": "2020-12-02T13:55:50.758028",
     "exception": false,
     "start_time": "2020-12-02T13:55:47.790407",
     "status": "completed"
    },
    "tags": []
   },
   "outputs": [
    {
     "data": {
      "image/png": "[encoded data removed]",
      "text/plain": [
       "<Figure size 864x432 with 1 Axes>"
      ]
     },
     "metadata": {},
     "output_type": "display_data"
    }
   ],
   "source": [
    "# with sns.axes_style('whitegrid', {'grid.linestyle': '--'}):\n",
    "with sns.plotting_context(\"talk\", font_scale=0.75), sns.axes_style(\n",
    "    \"whitegrid\", {\"grid.linestyle\": \"--\"}\n",
    "):\n",
    "    fig = plt.figure(figsize=(12, 6))\n",
    "    ax = sns.pointplot(data=parts_ari_df_plot, x=\"k\", y=\"ari\")\n",
    "    ax.set_ylabel(\"Averange ARI\")\n",
    "    ax.set_xlabel(\"Number of clusters ($k$)\")\n",
    "    ax.set_xticklabels(ax.get_xticklabels(), rotation=45)\n",
    "    #     ax.set_ylim(0.0, 1.0)\n",
    "    #     ax.set_xlim(CLUSTERING_OPTIONS['K_MIN'], CLUSTERING_OPTIONS['K_MAX'])\n",
    "    plt.grid(True)\n",
    "    plt.tight_layout()"
   ]
  },
  {
   "cell_type": "code",
   "execution_count": null,
   "metadata": {
    "papermill": {
     "duration": 0.074592,
     "end_time": "2020-12-02T13:55:50.908389",
     "exception": false,
     "start_time": "2020-12-02T13:55:50.833797",
     "status": "completed"
    },
    "tags": []
   },
   "outputs": [],
   "source": []
  }
 ],
 "metadata": {
  "jupytext": {
   "formats": "ipynb,py//py:percent"
  },
  "kernelspec": {
   "display_name": "Python 3",
   "language": "python",
   "name": "python3"
  },
  "language_info": {
   "codemirror_mode": {
    "name": "ipython",
    "version": 3
   },
   "file_extension": ".py",
   "mimetype": "text/x-python",
   "name": "python",
   "nbconvert_exporter": "python",
   "pygments_lexer": "ipython3",
   "version": "3.8.6"
  },
  "papermill": {
   "default_parameters": {},
   "duration": 41285.695372,
   "end_time": "2020-12-02T13:55:52.458305",
   "environment_variables": {},
   "exception": null,
   "input_path": "15_cluster_analysis/004_00-projection_smultixcan_efo-z_score_std-clustering_gmm.ipynb",
   "output_path": "15_cluster_analysis/004_00-projection_smultixcan_efo-z_score_std-clustering_gmm.run.ipynb",
   "parameters": {},
   "start_time": "2020-12-02T02:27:46.762933",
   "version": "2.2.2"
  },
  "toc-autonumbering": true,
  "toc-showcode": false,
  "toc-showmarkdowntxt": false,
  "toc-showtags": false
 },
 "nbformat": 4,
 "nbformat_minor": 4
}
