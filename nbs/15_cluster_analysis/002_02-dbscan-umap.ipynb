{
 "cells": [
  {
   "cell_type": "markdown",
   "metadata": {
    "papermill": {
     "duration": 0.019797,
     "end_time": "2021-01-12T08:33:48.474956",
     "exception": false,
     "start_time": "2021-01-12T08:33:48.455159",
     "status": "completed"
    },
    "tags": []
   },
   "source": [
    "# Description"
   ]
  },
  {
   "cell_type": "markdown",
   "metadata": {
    "papermill": {
     "duration": 0.017136,
     "end_time": "2021-01-12T08:33:48.508464",
     "exception": false,
     "start_time": "2021-01-12T08:33:48.491328",
     "status": "completed"
    },
    "tags": []
   },
   "source": [
    "It runs DBSCAN on the `umap` version of the data.\n",
    "\n",
    "The notebook explores different values for `min_samples` and `eps` (the main parameters of DBSCAN)."
   ]
  },
  {
   "cell_type": "markdown",
   "metadata": {
    "papermill": {
     "duration": 0.016506,
     "end_time": "2021-01-12T08:33:48.541379",
     "exception": false,
     "start_time": "2021-01-12T08:33:48.524873",
     "status": "completed"
    },
    "tags": []
   },
   "source": [
    "# Environment variables"
   ]
  },
  {
   "cell_type": "code",
   "execution_count": 1,
   "metadata": {
    "execution": {
     "iopub.execute_input": "2021-01-12T08:33:48.577135Z",
     "iopub.status.busy": "2021-01-12T08:33:48.576712Z",
     "iopub.status.idle": "2021-01-12T08:33:48.587641Z",
     "shell.execute_reply": "2021-01-12T08:33:48.587224Z"
    },
    "papermill": {
     "duration": 0.030165,
     "end_time": "2021-01-12T08:33:48.587757",
     "exception": false,
     "start_time": "2021-01-12T08:33:48.557592",
     "status": "completed"
    },
    "tags": []
   },
   "outputs": [
    {
     "data": {
      "text/plain": [
       "3"
      ]
     },
     "metadata": {},
     "output_type": "display_data"
    }
   ],
   "source": [
    "from IPython.display import display\n",
    "\n",
    "import conf\n",
    "\n",
    "N_JOBS = conf.GENERAL[\"N_JOBS\"]\n",
    "display(N_JOBS)"
   ]
  },
  {
   "cell_type": "code",
   "execution_count": 2,
   "metadata": {
    "execution": {
     "iopub.execute_input": "2021-01-12T08:33:48.625665Z",
     "iopub.status.busy": "2021-01-12T08:33:48.625265Z",
     "iopub.status.idle": "2021-01-12T08:33:48.627708Z",
     "shell.execute_reply": "2021-01-12T08:33:48.627339Z"
    },
    "papermill": {
     "duration": 0.023122,
     "end_time": "2021-01-12T08:33:48.627792",
     "exception": false,
     "start_time": "2021-01-12T08:33:48.604670",
     "status": "completed"
    },
    "tags": []
   },
   "outputs": [
    {
     "name": "stdout",
     "output_type": "stream",
     "text": [
      "env: MKL_NUM_THREADS=3\n",
      "env: OPEN_BLAS_NUM_THREADS=3\n",
      "env: NUMEXPR_NUM_THREADS=3\n",
      "env: OMP_NUM_THREADS=3\n"
     ]
    }
   ],
   "source": [
    "%env MKL_NUM_THREADS=$N_JOBS\n",
    "%env OPEN_BLAS_NUM_THREADS=$N_JOBS\n",
    "%env NUMEXPR_NUM_THREADS=$N_JOBS\n",
    "%env OMP_NUM_THREADS=$N_JOBS"
   ]
  },
  {
   "cell_type": "markdown",
   "metadata": {
    "papermill": {
     "duration": 0.016785,
     "end_time": "2021-01-12T08:33:48.661844",
     "exception": false,
     "start_time": "2021-01-12T08:33:48.645059",
     "status": "completed"
    },
    "tags": []
   },
   "source": [
    "# Modules loading"
   ]
  },
  {
   "cell_type": "code",
   "execution_count": 3,
   "metadata": {
    "execution": {
     "iopub.execute_input": "2021-01-12T08:33:48.698403Z",
     "iopub.status.busy": "2021-01-12T08:33:48.698036Z",
     "iopub.status.idle": "2021-01-12T08:33:48.705978Z",
     "shell.execute_reply": "2021-01-12T08:33:48.705601Z"
    },
    "papermill": {
     "duration": 0.027718,
     "end_time": "2021-01-12T08:33:48.706066",
     "exception": false,
     "start_time": "2021-01-12T08:33:48.678348",
     "status": "completed"
    },
    "tags": []
   },
   "outputs": [],
   "source": [
    "%load_ext autoreload\n",
    "%autoreload 2"
   ]
  },
  {
   "cell_type": "code",
   "execution_count": 4,
   "metadata": {
    "execution": {
     "iopub.execute_input": "2021-01-12T08:33:48.742979Z",
     "iopub.status.busy": "2021-01-12T08:33:48.742615Z",
     "iopub.status.idle": "2021-01-12T08:33:49.422384Z",
     "shell.execute_reply": "2021-01-12T08:33:49.422677Z"
    },
    "papermill": {
     "duration": 0.699475,
     "end_time": "2021-01-12T08:33:49.422791",
     "exception": false,
     "start_time": "2021-01-12T08:33:48.723316",
     "status": "completed"
    },
    "tags": []
   },
   "outputs": [],
   "source": [
    "from pathlib import Path\n",
    "\n",
    "import numpy as np\n",
    "import pandas as pd\n",
    "from sklearn.neighbors import NearestNeighbors\n",
    "from sklearn.metrics import pairwise_distances\n",
    "from sklearn.cluster import DBSCAN\n",
    "import matplotlib.pyplot as plt\n",
    "\n",
    "from utils import generate_result_set_name\n",
    "from clustering.ensembles.utils import generate_ensemble"
   ]
  },
  {
   "cell_type": "markdown",
   "metadata": {
    "papermill": {
     "duration": 0.016814,
     "end_time": "2021-01-12T08:33:49.457381",
     "exception": false,
     "start_time": "2021-01-12T08:33:49.440567",
     "status": "completed"
    },
    "tags": []
   },
   "source": [
    "# Global settings"
   ]
  },
  {
   "cell_type": "code",
   "execution_count": 5,
   "metadata": {
    "execution": {
     "iopub.execute_input": "2021-01-12T08:33:49.493170Z",
     "iopub.status.busy": "2021-01-12T08:33:49.492786Z",
     "iopub.status.idle": "2021-01-12T08:33:49.503148Z",
     "shell.execute_reply": "2021-01-12T08:33:49.502770Z"
    },
    "papermill": {
     "duration": 0.029375,
     "end_time": "2021-01-12T08:33:49.503235",
     "exception": false,
     "start_time": "2021-01-12T08:33:49.473860",
     "status": "completed"
    },
    "tags": []
   },
   "outputs": [],
   "source": [
    "CLUSTERING_ATTRIBUTES_TO_SAVE = [\"n_clusters\"]"
   ]
  },
  {
   "cell_type": "markdown",
   "metadata": {
    "papermill": {
     "duration": 0.016741,
     "end_time": "2021-01-12T08:33:49.537068",
     "exception": false,
     "start_time": "2021-01-12T08:33:49.520327",
     "status": "completed"
    },
    "tags": []
   },
   "source": [
    "# Data version: umap"
   ]
  },
  {
   "cell_type": "markdown",
   "metadata": {
    "papermill": {
     "duration": 0.016108,
     "end_time": "2021-01-12T08:33:49.569684",
     "exception": false,
     "start_time": "2021-01-12T08:33:49.553576",
     "status": "completed"
    },
    "tags": []
   },
   "source": [
    "## Settings"
   ]
  },
  {
   "cell_type": "code",
   "execution_count": 6,
   "metadata": {
    "execution": {
     "iopub.execute_input": "2021-01-12T08:33:49.605398Z",
     "iopub.status.busy": "2021-01-12T08:33:49.605036Z",
     "iopub.status.idle": "2021-01-12T08:33:49.615177Z",
     "shell.execute_reply": "2021-01-12T08:33:49.614793Z"
    },
    "papermill": {
     "duration": 0.02911,
     "end_time": "2021-01-12T08:33:49.615263",
     "exception": false,
     "start_time": "2021-01-12T08:33:49.586153",
     "status": "completed"
    },
    "tags": []
   },
   "outputs": [],
   "source": [
    "INPUT_SUBSET = \"umap\""
   ]
  },
  {
   "cell_type": "code",
   "execution_count": 7,
   "metadata": {
    "execution": {
     "iopub.execute_input": "2021-01-12T08:33:49.652519Z",
     "iopub.status.busy": "2021-01-12T08:33:49.652154Z",
     "iopub.status.idle": "2021-01-12T08:33:49.662301Z",
     "shell.execute_reply": "2021-01-12T08:33:49.661978Z"
    },
    "papermill": {
     "duration": 0.029596,
     "end_time": "2021-01-12T08:33:49.662387",
     "exception": false,
     "start_time": "2021-01-12T08:33:49.632791",
     "status": "completed"
    },
    "tags": []
   },
   "outputs": [],
   "source": [
    "INPUT_STEM = \"z_score_std-projection-smultixcan-efo_partial-mashr-zscores\""
   ]
  },
  {
   "cell_type": "code",
   "execution_count": 8,
   "metadata": {
    "execution": {
     "iopub.execute_input": "2021-01-12T08:33:49.699349Z",
     "iopub.status.busy": "2021-01-12T08:33:49.698983Z",
     "iopub.status.idle": "2021-01-12T08:33:49.709266Z",
     "shell.execute_reply": "2021-01-12T08:33:49.708896Z"
    },
    "papermill": {
     "duration": 0.029761,
     "end_time": "2021-01-12T08:33:49.709352",
     "exception": false,
     "start_time": "2021-01-12T08:33:49.679591",
     "status": "completed"
    },
    "tags": []
   },
   "outputs": [],
   "source": [
    "# parameters of the dimentionality reduction steps\n",
    "DR_OPTIONS = {\n",
    "    \"n_components\": 50,\n",
    "    \"metric\": \"euclidean\",\n",
    "    \"n_neighbors\": 15,\n",
    "    \"random_state\": 0,\n",
    "}"
   ]
  },
  {
   "cell_type": "code",
   "execution_count": 9,
   "metadata": {
    "execution": {
     "iopub.execute_input": "2021-01-12T08:33:49.746750Z",
     "iopub.status.busy": "2021-01-12T08:33:49.746373Z",
     "iopub.status.idle": "2021-01-12T08:33:49.758554Z",
     "shell.execute_reply": "2021-01-12T08:33:49.758881Z"
    },
    "papermill": {
     "duration": 0.03259,
     "end_time": "2021-01-12T08:33:49.758988",
     "exception": false,
     "start_time": "2021-01-12T08:33:49.726398",
     "status": "completed"
    },
    "tags": []
   },
   "outputs": [
    {
     "data": {
      "text/plain": [
       "PosixPath('/home/miltondp/projects/labs/greenelab/phenoplier/base3/results/data_transformations/umap/umap-z_score_std-projection-smultixcan-efo_partial-mashr-zscores-metric_euclidean-n_components_50-n_neighbors_15-random_state_0.pkl')"
      ]
     },
     "metadata": {},
     "output_type": "display_data"
    },
    {
     "data": {
      "text/plain": [
       "'umap-z_score_std-projection-smultixcan-efo_partial-mashr-zscores-metric_euclidean-n_components_50-n_neighbors_15-random_state_0'"
      ]
     },
     "metadata": {},
     "output_type": "display_data"
    }
   ],
   "source": [
    "input_filepath = Path(\n",
    "    conf.RESULTS[\"DATA_TRANSFORMATIONS_DIR\"],\n",
    "    INPUT_SUBSET,\n",
    "    generate_result_set_name(\n",
    "        DR_OPTIONS, prefix=f\"{INPUT_SUBSET}-{INPUT_STEM}-\", suffix=\".pkl\"\n",
    "    ),\n",
    ").resolve()\n",
    "display(input_filepath)\n",
    "\n",
    "assert input_filepath.exists(), \"Input file does not exist\"\n",
    "\n",
    "input_filepath_stem = input_filepath.stem\n",
    "display(input_filepath_stem)"
   ]
  },
  {
   "cell_type": "code",
   "execution_count": 10,
   "metadata": {
    "execution": {
     "iopub.execute_input": "2021-01-12T08:33:49.797524Z",
     "iopub.status.busy": "2021-01-12T08:33:49.797153Z",
     "iopub.status.idle": "2021-01-12T08:33:49.808260Z",
     "shell.execute_reply": "2021-01-12T08:33:49.807944Z"
    },
    "papermill": {
     "duration": 0.031372,
     "end_time": "2021-01-12T08:33:49.808352",
     "exception": false,
     "start_time": "2021-01-12T08:33:49.776980",
     "status": "completed"
    },
    "tags": []
   },
   "outputs": [
    {
     "data": {
      "text/plain": [
       "PosixPath('/home/miltondp/projects/labs/greenelab/phenoplier/base3/results/clustering/runs/umap-z_score_std-projection-smultixcan-efo_partial-mashr-zscores')"
      ]
     },
     "metadata": {},
     "output_type": "display_data"
    }
   ],
   "source": [
    "# output dir for this notebook\n",
    "RESULTS_DIR = Path(\n",
    "    conf.RESULTS[\"CLUSTERING_RUNS_DIR\"],\n",
    "    f\"{INPUT_SUBSET}-{INPUT_STEM}\",\n",
    ").resolve()\n",
    "RESULTS_DIR.mkdir(parents=True, exist_ok=True)\n",
    "\n",
    "display(RESULTS_DIR)"
   ]
  },
  {
   "cell_type": "markdown",
   "metadata": {
    "papermill": {
     "duration": 0.018023,
     "end_time": "2021-01-12T08:33:49.844944",
     "exception": false,
     "start_time": "2021-01-12T08:33:49.826921",
     "status": "completed"
    },
    "tags": []
   },
   "source": [
    "## Load input file"
   ]
  },
  {
   "cell_type": "code",
   "execution_count": 11,
   "metadata": {
    "execution": {
     "iopub.execute_input": "2021-01-12T08:33:49.883671Z",
     "iopub.status.busy": "2021-01-12T08:33:49.883305Z",
     "iopub.status.idle": "2021-01-12T08:33:49.895465Z",
     "shell.execute_reply": "2021-01-12T08:33:49.895133Z"
    },
    "papermill": {
     "duration": 0.032456,
     "end_time": "2021-01-12T08:33:49.895556",
     "exception": false,
     "start_time": "2021-01-12T08:33:49.863100",
     "status": "completed"
    },
    "tags": []
   },
   "outputs": [],
   "source": [
    "data = pd.read_pickle(input_filepath)"
   ]
  },
  {
   "cell_type": "code",
   "execution_count": 12,
   "metadata": {
    "execution": {
     "iopub.execute_input": "2021-01-12T08:33:49.933403Z",
     "iopub.status.busy": "2021-01-12T08:33:49.933030Z",
     "iopub.status.idle": "2021-01-12T08:33:49.944764Z",
     "shell.execute_reply": "2021-01-12T08:33:49.944387Z"
    },
    "papermill": {
     "duration": 0.031376,
     "end_time": "2021-01-12T08:33:49.944851",
     "exception": false,
     "start_time": "2021-01-12T08:33:49.913475",
     "status": "completed"
    },
    "tags": []
   },
   "outputs": [
    {
     "data": {
      "text/plain": [
       "(3749, 50)"
      ]
     },
     "execution_count": 12,
     "metadata": {},
     "output_type": "execute_result"
    }
   ],
   "source": [
    "data.shape"
   ]
  },
  {
   "cell_type": "code",
   "execution_count": 13,
   "metadata": {
    "execution": {
     "iopub.execute_input": "2021-01-12T08:33:49.982620Z",
     "iopub.status.busy": "2021-01-12T08:33:49.982257Z",
     "iopub.status.idle": "2021-01-12T08:33:50.005625Z",
     "shell.execute_reply": "2021-01-12T08:33:50.005932Z"
    },
    "papermill": {
     "duration": 0.043545,
     "end_time": "2021-01-12T08:33:50.006040",
     "exception": false,
     "start_time": "2021-01-12T08:33:49.962495",
     "status": "completed"
    },
    "tags": []
   },
   "outputs": [
    {
     "data": {
      "text/html": [
       "<div>\n",
       "<style scoped>\n",
       "    .dataframe tbody tr th:only-of-type {\n",
       "        vertical-align: middle;\n",
       "    }\n",
       "\n",
       "    .dataframe tbody tr th {\n",
       "        vertical-align: top;\n",
       "    }\n",
       "\n",
       "    .dataframe thead th {\n",
       "        text-align: right;\n",
       "    }\n",
       "</style>\n",
       "<table border=\"1\" class=\"dataframe\">\n",
       "  <thead>\n",
       "    <tr style=\"text-align: right;\">\n",
       "      <th></th>\n",
       "      <th>UMAP1</th>\n",
       "      <th>UMAP2</th>\n",
       "      <th>UMAP3</th>\n",
       "      <th>UMAP4</th>\n",
       "      <th>UMAP5</th>\n",
       "      <th>UMAP6</th>\n",
       "      <th>UMAP7</th>\n",
       "      <th>UMAP8</th>\n",
       "      <th>UMAP9</th>\n",
       "      <th>UMAP10</th>\n",
       "      <th>...</th>\n",
       "      <th>UMAP41</th>\n",
       "      <th>UMAP42</th>\n",
       "      <th>UMAP43</th>\n",
       "      <th>UMAP44</th>\n",
       "      <th>UMAP45</th>\n",
       "      <th>UMAP46</th>\n",
       "      <th>UMAP47</th>\n",
       "      <th>UMAP48</th>\n",
       "      <th>UMAP49</th>\n",
       "      <th>UMAP50</th>\n",
       "    </tr>\n",
       "  </thead>\n",
       "  <tbody>\n",
       "    <tr>\n",
       "      <th>100001_raw-Food_weight</th>\n",
       "      <td>11.531590</td>\n",
       "      <td>10.773390</td>\n",
       "      <td>10.551500</td>\n",
       "      <td>5.689103</td>\n",
       "      <td>12.646474</td>\n",
       "      <td>8.795625</td>\n",
       "      <td>2.365859</td>\n",
       "      <td>-3.382425</td>\n",
       "      <td>1.458605</td>\n",
       "      <td>14.236823</td>\n",
       "      <td>...</td>\n",
       "      <td>2.214731</td>\n",
       "      <td>9.304909</td>\n",
       "      <td>3.359118</td>\n",
       "      <td>5.211676</td>\n",
       "      <td>1.265622</td>\n",
       "      <td>2.058685</td>\n",
       "      <td>1.291174</td>\n",
       "      <td>1.565621</td>\n",
       "      <td>7.317275</td>\n",
       "      <td>9.037535</td>\n",
       "    </tr>\n",
       "    <tr>\n",
       "      <th>100002_raw-Energy</th>\n",
       "      <td>11.554761</td>\n",
       "      <td>10.753816</td>\n",
       "      <td>10.548004</td>\n",
       "      <td>5.710800</td>\n",
       "      <td>12.674987</td>\n",
       "      <td>8.787647</td>\n",
       "      <td>2.379787</td>\n",
       "      <td>-3.339913</td>\n",
       "      <td>1.442655</td>\n",
       "      <td>14.196218</td>\n",
       "      <td>...</td>\n",
       "      <td>2.237087</td>\n",
       "      <td>9.270699</td>\n",
       "      <td>3.383440</td>\n",
       "      <td>5.185328</td>\n",
       "      <td>1.257113</td>\n",
       "      <td>2.057439</td>\n",
       "      <td>1.290686</td>\n",
       "      <td>1.557209</td>\n",
       "      <td>7.297037</td>\n",
       "      <td>9.009866</td>\n",
       "    </tr>\n",
       "    <tr>\n",
       "      <th>100003_raw-Protein</th>\n",
       "      <td>11.519615</td>\n",
       "      <td>10.786408</td>\n",
       "      <td>10.540249</td>\n",
       "      <td>5.687959</td>\n",
       "      <td>12.628188</td>\n",
       "      <td>8.789925</td>\n",
       "      <td>2.368370</td>\n",
       "      <td>-3.390937</td>\n",
       "      <td>1.464806</td>\n",
       "      <td>14.233623</td>\n",
       "      <td>...</td>\n",
       "      <td>2.216162</td>\n",
       "      <td>9.314158</td>\n",
       "      <td>3.350708</td>\n",
       "      <td>5.226166</td>\n",
       "      <td>1.267382</td>\n",
       "      <td>2.051692</td>\n",
       "      <td>1.305047</td>\n",
       "      <td>1.558942</td>\n",
       "      <td>7.307035</td>\n",
       "      <td>9.042575</td>\n",
       "    </tr>\n",
       "    <tr>\n",
       "      <th>100004_raw-Fat</th>\n",
       "      <td>11.515584</td>\n",
       "      <td>10.756584</td>\n",
       "      <td>10.570711</td>\n",
       "      <td>5.697041</td>\n",
       "      <td>12.661936</td>\n",
       "      <td>8.787330</td>\n",
       "      <td>2.396913</td>\n",
       "      <td>-3.351611</td>\n",
       "      <td>1.435632</td>\n",
       "      <td>14.221588</td>\n",
       "      <td>...</td>\n",
       "      <td>2.214707</td>\n",
       "      <td>9.273252</td>\n",
       "      <td>3.383349</td>\n",
       "      <td>5.220068</td>\n",
       "      <td>1.270067</td>\n",
       "      <td>2.065669</td>\n",
       "      <td>1.281447</td>\n",
       "      <td>1.578588</td>\n",
       "      <td>7.332527</td>\n",
       "      <td>9.005523</td>\n",
       "    </tr>\n",
       "    <tr>\n",
       "      <th>100005_raw-Carbohydrate</th>\n",
       "      <td>11.528723</td>\n",
       "      <td>10.762026</td>\n",
       "      <td>10.566773</td>\n",
       "      <td>5.698555</td>\n",
       "      <td>12.671127</td>\n",
       "      <td>8.791903</td>\n",
       "      <td>2.394764</td>\n",
       "      <td>-3.354370</td>\n",
       "      <td>1.442259</td>\n",
       "      <td>14.226301</td>\n",
       "      <td>...</td>\n",
       "      <td>2.216362</td>\n",
       "      <td>9.275563</td>\n",
       "      <td>3.383139</td>\n",
       "      <td>5.216354</td>\n",
       "      <td>1.269187</td>\n",
       "      <td>2.063429</td>\n",
       "      <td>1.280020</td>\n",
       "      <td>1.577227</td>\n",
       "      <td>7.335059</td>\n",
       "      <td>9.009464</td>\n",
       "    </tr>\n",
       "  </tbody>\n",
       "</table>\n",
       "<p>5 rows × 50 columns</p>\n",
       "</div>"
      ],
      "text/plain": [
       "                             UMAP1      UMAP2      UMAP3     UMAP4      UMAP5  \\\n",
       "100001_raw-Food_weight   11.531590  10.773390  10.551500  5.689103  12.646474   \n",
       "100002_raw-Energy        11.554761  10.753816  10.548004  5.710800  12.674987   \n",
       "100003_raw-Protein       11.519615  10.786408  10.540249  5.687959  12.628188   \n",
       "100004_raw-Fat           11.515584  10.756584  10.570711  5.697041  12.661936   \n",
       "100005_raw-Carbohydrate  11.528723  10.762026  10.566773  5.698555  12.671127   \n",
       "\n",
       "                            UMAP6     UMAP7     UMAP8     UMAP9     UMAP10  \\\n",
       "100001_raw-Food_weight   8.795625  2.365859 -3.382425  1.458605  14.236823   \n",
       "100002_raw-Energy        8.787647  2.379787 -3.339913  1.442655  14.196218   \n",
       "100003_raw-Protein       8.789925  2.368370 -3.390937  1.464806  14.233623   \n",
       "100004_raw-Fat           8.787330  2.396913 -3.351611  1.435632  14.221588   \n",
       "100005_raw-Carbohydrate  8.791903  2.394764 -3.354370  1.442259  14.226301   \n",
       "\n",
       "                         ...    UMAP41    UMAP42    UMAP43    UMAP44  \\\n",
       "100001_raw-Food_weight   ...  2.214731  9.304909  3.359118  5.211676   \n",
       "100002_raw-Energy        ...  2.237087  9.270699  3.383440  5.185328   \n",
       "100003_raw-Protein       ...  2.216162  9.314158  3.350708  5.226166   \n",
       "100004_raw-Fat           ...  2.214707  9.273252  3.383349  5.220068   \n",
       "100005_raw-Carbohydrate  ...  2.216362  9.275563  3.383139  5.216354   \n",
       "\n",
       "                           UMAP45    UMAP46    UMAP47    UMAP48    UMAP49  \\\n",
       "100001_raw-Food_weight   1.265622  2.058685  1.291174  1.565621  7.317275   \n",
       "100002_raw-Energy        1.257113  2.057439  1.290686  1.557209  7.297037   \n",
       "100003_raw-Protein       1.267382  2.051692  1.305047  1.558942  7.307035   \n",
       "100004_raw-Fat           1.270067  2.065669  1.281447  1.578588  7.332527   \n",
       "100005_raw-Carbohydrate  1.269187  2.063429  1.280020  1.577227  7.335059   \n",
       "\n",
       "                           UMAP50  \n",
       "100001_raw-Food_weight   9.037535  \n",
       "100002_raw-Energy        9.009866  \n",
       "100003_raw-Protein       9.042575  \n",
       "100004_raw-Fat           9.005523  \n",
       "100005_raw-Carbohydrate  9.009464  \n",
       "\n",
       "[5 rows x 50 columns]"
      ]
     },
     "execution_count": 13,
     "metadata": {},
     "output_type": "execute_result"
    }
   ],
   "source": [
    "data.head()"
   ]
  },
  {
   "cell_type": "code",
   "execution_count": 14,
   "metadata": {
    "execution": {
     "iopub.execute_input": "2021-01-12T08:33:50.045284Z",
     "iopub.status.busy": "2021-01-12T08:33:50.044909Z",
     "iopub.status.idle": "2021-01-12T08:33:50.056207Z",
     "shell.execute_reply": "2021-01-12T08:33:50.055809Z"
    },
    "papermill": {
     "duration": 0.031534,
     "end_time": "2021-01-12T08:33:50.056296",
     "exception": false,
     "start_time": "2021-01-12T08:33:50.024762",
     "status": "completed"
    },
    "tags": []
   },
   "outputs": [],
   "source": [
    "assert not data.isna().any().any()"
   ]
  },
  {
   "cell_type": "markdown",
   "metadata": {
    "papermill": {
     "duration": 0.01757,
     "end_time": "2021-01-12T08:33:50.092384",
     "exception": false,
     "start_time": "2021-01-12T08:33:50.074814",
     "status": "completed"
    },
    "tags": []
   },
   "source": [
    "## Tests different k values (k-NN)"
   ]
  },
  {
   "cell_type": "code",
   "execution_count": 15,
   "metadata": {
    "execution": {
     "iopub.execute_input": "2021-01-12T08:33:50.130851Z",
     "iopub.status.busy": "2021-01-12T08:33:50.130485Z",
     "iopub.status.idle": "2021-01-12T08:33:50.141131Z",
     "shell.execute_reply": "2021-01-12T08:33:50.140793Z"
    },
    "papermill": {
     "duration": 0.030914,
     "end_time": "2021-01-12T08:33:50.141219",
     "exception": false,
     "start_time": "2021-01-12T08:33:50.110305",
     "status": "completed"
    },
    "tags": []
   },
   "outputs": [],
   "source": [
    "k_values = np.arange(10, 150 + 1, 1)\n",
    "k_values_to_explore = (10, 15, 20, 30, 40, 50, 75, 100, 125, 150)  # , 175, 200)"
   ]
  },
  {
   "cell_type": "code",
   "execution_count": 16,
   "metadata": {
    "execution": {
     "iopub.execute_input": "2021-01-12T08:33:50.180082Z",
     "iopub.status.busy": "2021-01-12T08:33:50.179707Z",
     "iopub.status.idle": "2021-01-12T08:33:54.914748Z",
     "shell.execute_reply": "2021-01-12T08:33:54.914268Z"
    },
    "papermill": {
     "duration": 4.755668,
     "end_time": "2021-01-12T08:33:54.914837",
     "exception": false,
     "start_time": "2021-01-12T08:33:50.159169",
     "status": "completed"
    },
    "tags": []
   },
   "outputs": [],
   "source": [
    "results = {}\n",
    "\n",
    "for k in k_values_to_explore:\n",
    "    nbrs = NearestNeighbors(n_neighbors=k, n_jobs=N_JOBS).fit(data)\n",
    "    distances, indices = nbrs.kneighbors(data)\n",
    "    results[k] = (distances, indices)"
   ]
  },
  {
   "cell_type": "code",
   "execution_count": 17,
   "metadata": {
    "execution": {
     "iopub.execute_input": "2021-01-12T08:33:54.955618Z",
     "iopub.status.busy": "2021-01-12T08:33:54.955246Z",
     "iopub.status.idle": "2021-01-12T08:33:54.965774Z",
     "shell.execute_reply": "2021-01-12T08:33:54.966068Z"
    },
    "papermill": {
     "duration": 0.03222,
     "end_time": "2021-01-12T08:33:54.966173",
     "exception": false,
     "start_time": "2021-01-12T08:33:54.933953",
     "status": "completed"
    },
    "tags": []
   },
   "outputs": [],
   "source": [
    "# min_max_range = (1.0, 3)\n",
    "\n",
    "eps_range_per_k = {\n",
    "    k: (0.75, 1.25)\n",
    "    if k == 10\n",
    "    else (0.85, 1.60)\n",
    "    if k == 15\n",
    "    else (1.0, 2.50)\n",
    "    if k < 40\n",
    "    else (1.25, 3.0)\n",
    "    if k < 75\n",
    "    else (1.25, 3.0)\n",
    "    if k < 100\n",
    "    else (1.50, 3.0)\n",
    "    if k < 175\n",
    "    else (1.75, 3.0)\n",
    "    for k in k_values\n",
    "}\n",
    "\n",
    "eps_range_per_k_to_explore = {k: eps_range_per_k[k] for k in k_values_to_explore}"
   ]
  },
  {
   "cell_type": "code",
   "execution_count": 18,
   "metadata": {
    "execution": {
     "iopub.execute_input": "2021-01-12T08:33:55.006206Z",
     "iopub.status.busy": "2021-01-12T08:33:55.005825Z",
     "iopub.status.idle": "2021-01-12T08:33:55.965866Z",
     "shell.execute_reply": "2021-01-12T08:33:55.966154Z"
    },
    "papermill": {
     "duration": 0.981652,
     "end_time": "2021-01-12T08:33:55.966263",
     "exception": false,
     "start_time": "2021-01-12T08:33:54.984611",
     "status": "completed"
    },
    "tags": []
   },
   "outputs": [
    {
     "data": {
      "image/png": "[encoded data removed]",
      "text/plain": [
       "<Figure size 432x288 with 1 Axes>"
      ]
     },
     "metadata": {},
     "output_type": "display_data"
    },
    {
     "data": {
      "image/png": "[encoded data removed]",
      "text/plain": [
       "<Figure size 432x288 with 1 Axes>"
      ]
     },
     "metadata": {},
     "output_type": "display_data"
    },
    {
     "data": {
      "image/png": "[encoded data removed]",
      "text/plain": [
       "<Figure size 432x288 with 1 Axes>"
      ]
     },
     "metadata": {},
     "output_type": "display_data"
    },
    {
     "data": {
      "image/png": "[encoded data removed]",
      "text/plain": [
       "<Figure size 432x288 with 1 Axes>"
      ]
     },
     "metadata": {},
     "output_type": "display_data"
    },
    {
     "data": {
      "image/png": "[encoded data removed]",
      "text/plain": [
       "<Figure size 432x288 with 1 Axes>"
      ]
     },
     "metadata": {},
     "output_type": "display_data"
    },
    {
     "data": {
      "image/png": "[encoded data removed]",
      "text/plain": [
       "<Figure size 432x288 with 1 Axes>"
      ]
     },
     "metadata": {},
     "output_type": "display_data"
    },
    {
     "data": {
      "image/png": "[encoded data removed]",
      "text/plain": [
       "<Figure size 432x288 with 1 Axes>"
      ]
     },
     "metadata": {},
     "output_type": "display_data"
    },
    {
     "data": {
      "image/png": "[encoded data removed]",
      "text/plain": [
       "<Figure size 432x288 with 1 Axes>"
      ]
     },
     "metadata": {},
     "output_type": "display_data"
    },
    {
     "data": {
      "image/png": "[encoded data removed]",
      "text/plain": [
       "<Figure size 432x288 with 1 Axes>"
      ]
     },
     "metadata": {},
     "output_type": "display_data"
    },
    {
     "data": {
      "image/png": "[encoded data removed]",
      "text/plain": [
       "<Figure size 432x288 with 1 Axes>"
      ]
     },
     "metadata": {},
     "output_type": "display_data"
    }
   ],
   "source": [
    "for k, (distances, indices) in results.items():\n",
    "    d = distances[:, 1:].mean(axis=1)\n",
    "    d = np.sort(d)\n",
    "\n",
    "    fig, ax = plt.subplots()\n",
    "    plt.plot(d)\n",
    "\n",
    "    r = eps_range_per_k_to_explore[k]\n",
    "    plt.hlines(r[0], 0, data.shape[0], color=\"red\")\n",
    "    plt.hlines(r[1], 0, data.shape[0], color=\"red\")\n",
    "\n",
    "    plt.xlim((3000, data.shape[0]))\n",
    "    plt.title(f\"k={k}\")\n",
    "    display(fig)\n",
    "\n",
    "    plt.close(fig)"
   ]
  },
  {
   "cell_type": "markdown",
   "metadata": {
    "papermill": {
     "duration": 0.021815,
     "end_time": "2021-01-12T08:33:56.010663",
     "exception": false,
     "start_time": "2021-01-12T08:33:55.988848",
     "status": "completed"
    },
    "tags": []
   },
   "source": [
    "## Clustering"
   ]
  },
  {
   "cell_type": "markdown",
   "metadata": {
    "papermill": {
     "duration": 0.022004,
     "end_time": "2021-01-12T08:33:56.054412",
     "exception": false,
     "start_time": "2021-01-12T08:33:56.032408",
     "status": "completed"
    },
    "tags": []
   },
   "source": [
    "### Generate clusterers"
   ]
  },
  {
   "cell_type": "code",
   "execution_count": 19,
   "metadata": {
    "execution": {
     "iopub.execute_input": "2021-01-12T08:33:56.100377Z",
     "iopub.status.busy": "2021-01-12T08:33:56.100008Z",
     "iopub.status.idle": "2021-01-12T08:33:56.116527Z",
     "shell.execute_reply": "2021-01-12T08:33:56.116158Z"
    },
    "papermill": {
     "duration": 0.040831,
     "end_time": "2021-01-12T08:33:56.116612",
     "exception": false,
     "start_time": "2021-01-12T08:33:56.075781",
     "status": "completed"
    },
    "tags": []
   },
   "outputs": [
    {
     "data": {
      "text/plain": [
       "{'K_RANGE': array([ 10,  11,  12,  13,  14,  15,  16,  17,  18,  19,  20,  21,  22,\n",
       "         23,  24,  25,  26,  27,  28,  29,  30,  31,  32,  33,  34,  35,\n",
       "         36,  37,  38,  39,  40,  41,  42,  43,  44,  45,  46,  47,  48,\n",
       "         49,  50,  51,  52,  53,  54,  55,  56,  57,  58,  59,  60,  61,\n",
       "         62,  63,  64,  65,  66,  67,  68,  69,  70,  71,  72,  73,  74,\n",
       "         75,  76,  77,  78,  79,  80,  81,  82,  83,  84,  85,  86,  87,\n",
       "         88,  89,  90,  91,  92,  93,  94,  95,  96,  97,  98,  99, 100,\n",
       "        101, 102, 103, 104, 105, 106, 107, 108, 109, 110, 111, 112, 113,\n",
       "        114, 115, 116, 117, 118, 119, 120, 121, 122, 123, 124, 125, 126,\n",
       "        127, 128, 129, 130, 131, 132, 133, 134, 135, 136, 137, 138, 139,\n",
       "        140, 141, 142, 143, 144, 145, 146, 147, 148, 149, 150]),\n",
       " 'EPS_RANGE_PER_K': {10: (0.75, 1.25),\n",
       "  11: (1.0, 2.5),\n",
       "  12: (1.0, 2.5),\n",
       "  13: (1.0, 2.5),\n",
       "  14: (1.0, 2.5),\n",
       "  15: (0.85, 1.6),\n",
       "  16: (1.0, 2.5),\n",
       "  17: (1.0, 2.5),\n",
       "  18: (1.0, 2.5),\n",
       "  19: (1.0, 2.5),\n",
       "  20: (1.0, 2.5),\n",
       "  21: (1.0, 2.5),\n",
       "  22: (1.0, 2.5),\n",
       "  23: (1.0, 2.5),\n",
       "  24: (1.0, 2.5),\n",
       "  25: (1.0, 2.5),\n",
       "  26: (1.0, 2.5),\n",
       "  27: (1.0, 2.5),\n",
       "  28: (1.0, 2.5),\n",
       "  29: (1.0, 2.5),\n",
       "  30: (1.0, 2.5),\n",
       "  31: (1.0, 2.5),\n",
       "  32: (1.0, 2.5),\n",
       "  33: (1.0, 2.5),\n",
       "  34: (1.0, 2.5),\n",
       "  35: (1.0, 2.5),\n",
       "  36: (1.0, 2.5),\n",
       "  37: (1.0, 2.5),\n",
       "  38: (1.0, 2.5),\n",
       "  39: (1.0, 2.5),\n",
       "  40: (1.25, 3.0),\n",
       "  41: (1.25, 3.0),\n",
       "  42: (1.25, 3.0),\n",
       "  43: (1.25, 3.0),\n",
       "  44: (1.25, 3.0),\n",
       "  45: (1.25, 3.0),\n",
       "  46: (1.25, 3.0),\n",
       "  47: (1.25, 3.0),\n",
       "  48: (1.25, 3.0),\n",
       "  49: (1.25, 3.0),\n",
       "  50: (1.25, 3.0),\n",
       "  51: (1.25, 3.0),\n",
       "  52: (1.25, 3.0),\n",
       "  53: (1.25, 3.0),\n",
       "  54: (1.25, 3.0),\n",
       "  55: (1.25, 3.0),\n",
       "  56: (1.25, 3.0),\n",
       "  57: (1.25, 3.0),\n",
       "  58: (1.25, 3.0),\n",
       "  59: (1.25, 3.0),\n",
       "  60: (1.25, 3.0),\n",
       "  61: (1.25, 3.0),\n",
       "  62: (1.25, 3.0),\n",
       "  63: (1.25, 3.0),\n",
       "  64: (1.25, 3.0),\n",
       "  65: (1.25, 3.0),\n",
       "  66: (1.25, 3.0),\n",
       "  67: (1.25, 3.0),\n",
       "  68: (1.25, 3.0),\n",
       "  69: (1.25, 3.0),\n",
       "  70: (1.25, 3.0),\n",
       "  71: (1.25, 3.0),\n",
       "  72: (1.25, 3.0),\n",
       "  73: (1.25, 3.0),\n",
       "  74: (1.25, 3.0),\n",
       "  75: (1.25, 3.0),\n",
       "  76: (1.25, 3.0),\n",
       "  77: (1.25, 3.0),\n",
       "  78: (1.25, 3.0),\n",
       "  79: (1.25, 3.0),\n",
       "  80: (1.25, 3.0),\n",
       "  81: (1.25, 3.0),\n",
       "  82: (1.25, 3.0),\n",
       "  83: (1.25, 3.0),\n",
       "  84: (1.25, 3.0),\n",
       "  85: (1.25, 3.0),\n",
       "  86: (1.25, 3.0),\n",
       "  87: (1.25, 3.0),\n",
       "  88: (1.25, 3.0),\n",
       "  89: (1.25, 3.0),\n",
       "  90: (1.25, 3.0),\n",
       "  91: (1.25, 3.0),\n",
       "  92: (1.25, 3.0),\n",
       "  93: (1.25, 3.0),\n",
       "  94: (1.25, 3.0),\n",
       "  95: (1.25, 3.0),\n",
       "  96: (1.25, 3.0),\n",
       "  97: (1.25, 3.0),\n",
       "  98: (1.25, 3.0),\n",
       "  99: (1.25, 3.0),\n",
       "  100: (1.5, 3.0),\n",
       "  101: (1.5, 3.0),\n",
       "  102: (1.5, 3.0),\n",
       "  103: (1.5, 3.0),\n",
       "  104: (1.5, 3.0),\n",
       "  105: (1.5, 3.0),\n",
       "  106: (1.5, 3.0),\n",
       "  107: (1.5, 3.0),\n",
       "  108: (1.5, 3.0),\n",
       "  109: (1.5, 3.0),\n",
       "  110: (1.5, 3.0),\n",
       "  111: (1.5, 3.0),\n",
       "  112: (1.5, 3.0),\n",
       "  113: (1.5, 3.0),\n",
       "  114: (1.5, 3.0),\n",
       "  115: (1.5, 3.0),\n",
       "  116: (1.5, 3.0),\n",
       "  117: (1.5, 3.0),\n",
       "  118: (1.5, 3.0),\n",
       "  119: (1.5, 3.0),\n",
       "  120: (1.5, 3.0),\n",
       "  121: (1.5, 3.0),\n",
       "  122: (1.5, 3.0),\n",
       "  123: (1.5, 3.0),\n",
       "  124: (1.5, 3.0),\n",
       "  125: (1.5, 3.0),\n",
       "  126: (1.5, 3.0),\n",
       "  127: (1.5, 3.0),\n",
       "  128: (1.5, 3.0),\n",
       "  129: (1.5, 3.0),\n",
       "  130: (1.5, 3.0),\n",
       "  131: (1.5, 3.0),\n",
       "  132: (1.5, 3.0),\n",
       "  133: (1.5, 3.0),\n",
       "  134: (1.5, 3.0),\n",
       "  135: (1.5, 3.0),\n",
       "  136: (1.5, 3.0),\n",
       "  137: (1.5, 3.0),\n",
       "  138: (1.5, 3.0),\n",
       "  139: (1.5, 3.0),\n",
       "  140: (1.5, 3.0),\n",
       "  141: (1.5, 3.0),\n",
       "  142: (1.5, 3.0),\n",
       "  143: (1.5, 3.0),\n",
       "  144: (1.5, 3.0),\n",
       "  145: (1.5, 3.0),\n",
       "  146: (1.5, 3.0),\n",
       "  147: (1.5, 3.0),\n",
       "  148: (1.5, 3.0),\n",
       "  149: (1.5, 3.0),\n",
       "  150: (1.5, 3.0)},\n",
       " 'EPS_STEP': 33,\n",
       " 'METRIC': 'euclidean'}"
      ]
     },
     "metadata": {},
     "output_type": "display_data"
    }
   ],
   "source": [
    "CLUSTERING_OPTIONS = {}\n",
    "\n",
    "# K_RANGE is the min_samples parameter in DBSCAN (sklearn)\n",
    "CLUSTERING_OPTIONS[\"K_RANGE\"] = k_values\n",
    "CLUSTERING_OPTIONS[\"EPS_RANGE_PER_K\"] = eps_range_per_k\n",
    "CLUSTERING_OPTIONS[\"EPS_STEP\"] = 33\n",
    "CLUSTERING_OPTIONS[\"METRIC\"] = \"euclidean\"\n",
    "\n",
    "display(CLUSTERING_OPTIONS)"
   ]
  },
  {
   "cell_type": "code",
   "execution_count": 20,
   "metadata": {
    "execution": {
     "iopub.execute_input": "2021-01-12T08:33:56.164421Z",
     "iopub.status.busy": "2021-01-12T08:33:56.164049Z",
     "iopub.status.idle": "2021-01-12T08:33:56.190431Z",
     "shell.execute_reply": "2021-01-12T08:33:56.190041Z"
    },
    "papermill": {
     "duration": 0.051415,
     "end_time": "2021-01-12T08:33:56.190519",
     "exception": false,
     "start_time": "2021-01-12T08:33:56.139104",
     "status": "completed"
    },
    "tags": []
   },
   "outputs": [],
   "source": [
    "CLUSTERERS = {}\n",
    "\n",
    "idx = 0\n",
    "\n",
    "for k in CLUSTERING_OPTIONS[\"K_RANGE\"]:\n",
    "    eps_range = CLUSTERING_OPTIONS[\"EPS_RANGE_PER_K\"][k]\n",
    "    eps_values = np.linspace(eps_range[0], eps_range[1], CLUSTERING_OPTIONS[\"EPS_STEP\"])\n",
    "\n",
    "    for eps in eps_values:\n",
    "        clus = DBSCAN(min_samples=k, eps=eps, metric=\"precomputed\", n_jobs=N_JOBS)\n",
    "\n",
    "        method_name = type(clus).__name__\n",
    "        CLUSTERERS[f\"{method_name} #{idx}\"] = clus\n",
    "\n",
    "        idx = idx + 1"
   ]
  },
  {
   "cell_type": "code",
   "execution_count": 21,
   "metadata": {
    "execution": {
     "iopub.execute_input": "2021-01-12T08:33:56.237829Z",
     "iopub.status.busy": "2021-01-12T08:33:56.237463Z",
     "iopub.status.idle": "2021-01-12T08:33:56.248225Z",
     "shell.execute_reply": "2021-01-12T08:33:56.247915Z"
    },
    "papermill": {
     "duration": 0.035376,
     "end_time": "2021-01-12T08:33:56.248316",
     "exception": false,
     "start_time": "2021-01-12T08:33:56.212940",
     "status": "completed"
    },
    "tags": []
   },
   "outputs": [
    {
     "data": {
      "text/plain": [
       "4653"
      ]
     },
     "metadata": {},
     "output_type": "display_data"
    }
   ],
   "source": [
    "display(len(CLUSTERERS))"
   ]
  },
  {
   "cell_type": "code",
   "execution_count": 22,
   "metadata": {
    "execution": {
     "iopub.execute_input": "2021-01-12T08:33:56.297193Z",
     "iopub.status.busy": "2021-01-12T08:33:56.296811Z",
     "iopub.status.idle": "2021-01-12T08:33:56.310063Z",
     "shell.execute_reply": "2021-01-12T08:33:56.309679Z"
    },
    "papermill": {
     "duration": 0.038176,
     "end_time": "2021-01-12T08:33:56.310151",
     "exception": false,
     "start_time": "2021-01-12T08:33:56.271975",
     "status": "completed"
    },
    "tags": []
   },
   "outputs": [
    {
     "data": {
      "text/plain": [
       "('DBSCAN #0', DBSCAN(eps=0.75, metric='precomputed', min_samples=10, n_jobs=3))"
      ]
     },
     "metadata": {},
     "output_type": "display_data"
    },
    {
     "data": {
      "text/plain": [
       "('DBSCAN #1',\n",
       " DBSCAN(eps=0.765625, metric='precomputed', min_samples=10, n_jobs=3))"
      ]
     },
     "metadata": {},
     "output_type": "display_data"
    }
   ],
   "source": [
    "_iter = iter(CLUSTERERS.items())\n",
    "display(next(_iter))\n",
    "display(next(_iter))"
   ]
  },
  {
   "cell_type": "code",
   "execution_count": 23,
   "metadata": {
    "execution": {
     "iopub.execute_input": "2021-01-12T08:33:56.358792Z",
     "iopub.status.busy": "2021-01-12T08:33:56.358431Z",
     "iopub.status.idle": "2021-01-12T08:33:56.369874Z",
     "shell.execute_reply": "2021-01-12T08:33:56.369484Z"
    },
    "papermill": {
     "duration": 0.03664,
     "end_time": "2021-01-12T08:33:56.369962",
     "exception": false,
     "start_time": "2021-01-12T08:33:56.333322",
     "status": "completed"
    },
    "tags": []
   },
   "outputs": [
    {
     "data": {
      "text/plain": [
       "'DBSCAN'"
      ]
     },
     "metadata": {},
     "output_type": "display_data"
    }
   ],
   "source": [
    "clustering_method_name = method_name\n",
    "display(clustering_method_name)"
   ]
  },
  {
   "cell_type": "markdown",
   "metadata": {
    "papermill": {
     "duration": 0.022429,
     "end_time": "2021-01-12T08:33:56.416085",
     "exception": false,
     "start_time": "2021-01-12T08:33:56.393656",
     "status": "completed"
    },
    "tags": []
   },
   "source": [
    "### Generate ensemble"
   ]
  },
  {
   "cell_type": "code",
   "execution_count": 24,
   "metadata": {
    "execution": {
     "iopub.execute_input": "2021-01-12T08:33:56.464742Z",
     "iopub.status.busy": "2021-01-12T08:33:56.464352Z",
     "iopub.status.idle": "2021-01-12T08:33:56.620274Z",
     "shell.execute_reply": "2021-01-12T08:33:56.619946Z"
    },
    "papermill": {
     "duration": 0.18144,
     "end_time": "2021-01-12T08:33:56.620368",
     "exception": false,
     "start_time": "2021-01-12T08:33:56.438928",
     "status": "completed"
    },
    "tags": []
   },
   "outputs": [],
   "source": [
    "data_dist = pairwise_distances(data, metric=CLUSTERING_OPTIONS[\"METRIC\"])"
   ]
  },
  {
   "cell_type": "code",
   "execution_count": 25,
   "metadata": {
    "execution": {
     "iopub.execute_input": "2021-01-12T08:33:56.670599Z",
     "iopub.status.busy": "2021-01-12T08:33:56.670231Z",
     "iopub.status.idle": "2021-01-12T08:33:56.681334Z",
     "shell.execute_reply": "2021-01-12T08:33:56.680956Z"
    },
    "papermill": {
     "duration": 0.036786,
     "end_time": "2021-01-12T08:33:56.681421",
     "exception": false,
     "start_time": "2021-01-12T08:33:56.644635",
     "status": "completed"
    },
    "tags": []
   },
   "outputs": [
    {
     "data": {
      "text/plain": [
       "(3749, 3749)"
      ]
     },
     "execution_count": 25,
     "metadata": {},
     "output_type": "execute_result"
    }
   ],
   "source": [
    "data_dist.shape"
   ]
  },
  {
   "cell_type": "code",
   "execution_count": 26,
   "metadata": {
    "execution": {
     "iopub.execute_input": "2021-01-12T08:33:56.730855Z",
     "iopub.status.busy": "2021-01-12T08:33:56.730491Z",
     "iopub.status.idle": "2021-01-12T08:33:57.177161Z",
     "shell.execute_reply": "2021-01-12T08:33:57.176840Z"
    },
    "papermill": {
     "duration": 0.472329,
     "end_time": "2021-01-12T08:33:57.177255",
     "exception": false,
     "start_time": "2021-01-12T08:33:56.704926",
     "status": "completed"
    },
    "tags": []
   },
   "outputs": [
    {
     "data": {
      "text/plain": [
       "count            14055001.0\n",
       "mean     2.1742653846740723\n",
       "std       2.128391742706299\n",
       "min                     0.0\n",
       "25%      1.4129530191421509\n",
       "50%       1.622597336769104\n",
       "75%      2.1182587146759033\n",
       "max      15.023402214050293\n",
       "dtype: object"
      ]
     },
     "execution_count": 26,
     "metadata": {},
     "output_type": "execute_result"
    }
   ],
   "source": [
    "pd.Series(data_dist.flatten()).describe().apply(str)"
   ]
  },
  {
   "cell_type": "code",
   "execution_count": 27,
   "metadata": {
    "execution": {
     "iopub.execute_input": "2021-01-12T08:33:57.226660Z",
     "iopub.status.busy": "2021-01-12T08:33:57.226295Z",
     "iopub.status.idle": "2021-01-12T08:46:57.125176Z",
     "shell.execute_reply": "2021-01-12T08:46:57.124096Z"
    },
    "papermill": {
     "duration": 779.924847,
     "end_time": "2021-01-12T08:46:57.125408",
     "exception": false,
     "start_time": "2021-01-12T08:33:57.200561",
     "status": "completed"
    },
    "tags": []
   },
   "outputs": [
    {
     "name": "stderr",
     "output_type": "stream",
     "text": [
      "100%|██████████| 4653/4653 [12:59<00:00,  5.97it/s]\n"
     ]
    }
   ],
   "source": [
    "ensemble = generate_ensemble(\n",
    "    data_dist,\n",
    "    CLUSTERERS,\n",
    "    attributes=CLUSTERING_ATTRIBUTES_TO_SAVE,\n",
    ")"
   ]
  },
  {
   "cell_type": "code",
   "execution_count": 28,
   "metadata": {
    "execution": {
     "iopub.execute_input": "2021-01-12T08:46:58.628507Z",
     "iopub.status.busy": "2021-01-12T08:46:58.628141Z",
     "iopub.status.idle": "2021-01-12T08:46:58.639404Z",
     "shell.execute_reply": "2021-01-12T08:46:58.639029Z"
    },
    "papermill": {
     "duration": 0.764784,
     "end_time": "2021-01-12T08:46:58.639492",
     "exception": false,
     "start_time": "2021-01-12T08:46:57.874708",
     "status": "completed"
    },
    "tags": []
   },
   "outputs": [
    {
     "data": {
      "text/plain": [
       "(1056, 3)"
      ]
     },
     "execution_count": 28,
     "metadata": {},
     "output_type": "execute_result"
    }
   ],
   "source": [
    "ensemble.shape"
   ]
  },
  {
   "cell_type": "code",
   "execution_count": 29,
   "metadata": {
    "execution": {
     "iopub.execute_input": "2021-01-12T08:47:00.173467Z",
     "iopub.status.busy": "2021-01-12T08:47:00.173086Z",
     "iopub.status.idle": "2021-01-12T08:47:00.192431Z",
     "shell.execute_reply": "2021-01-12T08:47:00.192055Z"
    },
    "papermill": {
     "duration": 0.807289,
     "end_time": "2021-01-12T08:47:00.192532",
     "exception": false,
     "start_time": "2021-01-12T08:46:59.385243",
     "status": "completed"
    },
    "tags": []
   },
   "outputs": [
    {
     "data": {
      "text/html": [
       "<div>\n",
       "<style scoped>\n",
       "    .dataframe tbody tr th:only-of-type {\n",
       "        vertical-align: middle;\n",
       "    }\n",
       "\n",
       "    .dataframe tbody tr th {\n",
       "        vertical-align: top;\n",
       "    }\n",
       "\n",
       "    .dataframe thead th {\n",
       "        text-align: right;\n",
       "    }\n",
       "</style>\n",
       "<table border=\"1\" class=\"dataframe\">\n",
       "  <thead>\n",
       "    <tr style=\"text-align: right;\">\n",
       "      <th></th>\n",
       "      <th>clusterer_params</th>\n",
       "      <th>partition</th>\n",
       "      <th>n_clusters</th>\n",
       "    </tr>\n",
       "    <tr>\n",
       "      <th>clusterer_id</th>\n",
       "      <th></th>\n",
       "      <th></th>\n",
       "      <th></th>\n",
       "    </tr>\n",
       "  </thead>\n",
       "  <tbody>\n",
       "    <tr>\n",
       "      <th>DBSCAN #0</th>\n",
       "      <td>{'algorithm': 'auto', 'eps': 0.75, 'leaf_size'...</td>\n",
       "      <td>[0.0, 0.0, 0.0, 0.0, 0.0, 0.0, 0.0, 0.0, 0.0, ...</td>\n",
       "      <td>25</td>\n",
       "    </tr>\n",
       "    <tr>\n",
       "      <th>DBSCAN #1</th>\n",
       "      <td>{'algorithm': 'auto', 'eps': 0.765625, 'leaf_s...</td>\n",
       "      <td>[0.0, 0.0, 0.0, 0.0, 0.0, 0.0, 0.0, 0.0, 0.0, ...</td>\n",
       "      <td>22</td>\n",
       "    </tr>\n",
       "    <tr>\n",
       "      <th>DBSCAN #2</th>\n",
       "      <td>{'algorithm': 'auto', 'eps': 0.78125, 'leaf_si...</td>\n",
       "      <td>[0.0, 0.0, 0.0, 0.0, 0.0, 0.0, 0.0, 0.0, 0.0, ...</td>\n",
       "      <td>20</td>\n",
       "    </tr>\n",
       "    <tr>\n",
       "      <th>DBSCAN #3</th>\n",
       "      <td>{'algorithm': 'auto', 'eps': 0.796875, 'leaf_s...</td>\n",
       "      <td>[0.0, 0.0, 0.0, 0.0, 0.0, 0.0, 0.0, 0.0, 0.0, ...</td>\n",
       "      <td>15</td>\n",
       "    </tr>\n",
       "    <tr>\n",
       "      <th>DBSCAN #4</th>\n",
       "      <td>{'algorithm': 'auto', 'eps': 0.8125, 'leaf_siz...</td>\n",
       "      <td>[0.0, 0.0, 0.0, 0.0, 0.0, 0.0, 0.0, 0.0, 0.0, ...</td>\n",
       "      <td>14</td>\n",
       "    </tr>\n",
       "  </tbody>\n",
       "</table>\n",
       "</div>"
      ],
      "text/plain": [
       "                                               clusterer_params  \\\n",
       "clusterer_id                                                      \n",
       "DBSCAN #0     {'algorithm': 'auto', 'eps': 0.75, 'leaf_size'...   \n",
       "DBSCAN #1     {'algorithm': 'auto', 'eps': 0.765625, 'leaf_s...   \n",
       "DBSCAN #2     {'algorithm': 'auto', 'eps': 0.78125, 'leaf_si...   \n",
       "DBSCAN #3     {'algorithm': 'auto', 'eps': 0.796875, 'leaf_s...   \n",
       "DBSCAN #4     {'algorithm': 'auto', 'eps': 0.8125, 'leaf_siz...   \n",
       "\n",
       "                                                      partition  n_clusters  \n",
       "clusterer_id                                                                 \n",
       "DBSCAN #0     [0.0, 0.0, 0.0, 0.0, 0.0, 0.0, 0.0, 0.0, 0.0, ...          25  \n",
       "DBSCAN #1     [0.0, 0.0, 0.0, 0.0, 0.0, 0.0, 0.0, 0.0, 0.0, ...          22  \n",
       "DBSCAN #2     [0.0, 0.0, 0.0, 0.0, 0.0, 0.0, 0.0, 0.0, 0.0, ...          20  \n",
       "DBSCAN #3     [0.0, 0.0, 0.0, 0.0, 0.0, 0.0, 0.0, 0.0, 0.0, ...          15  \n",
       "DBSCAN #4     [0.0, 0.0, 0.0, 0.0, 0.0, 0.0, 0.0, 0.0, 0.0, ...          14  "
      ]
     },
     "execution_count": 29,
     "metadata": {},
     "output_type": "execute_result"
    }
   ],
   "source": [
    "ensemble.head()"
   ]
  },
  {
   "cell_type": "code",
   "execution_count": 30,
   "metadata": {
    "execution": {
     "iopub.execute_input": "2021-01-12T08:47:01.698511Z",
     "iopub.status.busy": "2021-01-12T08:47:01.698146Z",
     "iopub.status.idle": "2021-01-12T08:47:01.710121Z",
     "shell.execute_reply": "2021-01-12T08:47:01.709738Z"
    },
    "papermill": {
     "duration": 0.769555,
     "end_time": "2021-01-12T08:47:01.710212",
     "exception": false,
     "start_time": "2021-01-12T08:47:00.940657",
     "status": "completed"
    },
    "tags": []
   },
   "outputs": [
    {
     "data": {
      "text/plain": [
       "2    914\n",
       "3     82\n",
       "4     34\n",
       "5     13\n",
       "9      3\n",
       "Name: n_clusters, dtype: int64"
      ]
     },
     "execution_count": 30,
     "metadata": {},
     "output_type": "execute_result"
    }
   ],
   "source": [
    "ensemble[\"n_clusters\"].value_counts().head()"
   ]
  },
  {
   "cell_type": "code",
   "execution_count": 31,
   "metadata": {
    "execution": {
     "iopub.execute_input": "2021-01-12T08:47:03.216135Z",
     "iopub.status.busy": "2021-01-12T08:47:03.215754Z",
     "iopub.status.idle": "2021-01-12T08:47:03.228873Z",
     "shell.execute_reply": "2021-01-12T08:47:03.229175Z"
    },
    "papermill": {
     "duration": 0.767515,
     "end_time": "2021-01-12T08:47:03.229284",
     "exception": false,
     "start_time": "2021-01-12T08:47:02.461769",
     "status": "completed"
    },
    "tags": []
   },
   "outputs": [
    {
     "data": {
      "text/plain": [
       "count    1056.000000\n",
       "mean        2.307765\n",
       "std         1.424557\n",
       "min         2.000000\n",
       "25%         2.000000\n",
       "50%         2.000000\n",
       "75%         2.000000\n",
       "max        25.000000\n",
       "Name: n_clusters, dtype: float64"
      ]
     },
     "metadata": {},
     "output_type": "display_data"
    }
   ],
   "source": [
    "ensemble_stats = ensemble[\"n_clusters\"].describe()\n",
    "display(ensemble_stats)"
   ]
  },
  {
   "cell_type": "markdown",
   "metadata": {
    "papermill": {
     "duration": 0.751856,
     "end_time": "2021-01-12T08:47:04.763598",
     "exception": false,
     "start_time": "2021-01-12T08:47:04.011742",
     "status": "completed"
    },
    "tags": []
   },
   "source": [
    "### Testing"
   ]
  },
  {
   "cell_type": "code",
   "execution_count": 32,
   "metadata": {
    "execution": {
     "iopub.execute_input": "2021-01-12T08:47:06.272749Z",
     "iopub.status.busy": "2021-01-12T08:47:06.272344Z",
     "iopub.status.idle": "2021-01-12T08:47:06.282541Z",
     "shell.execute_reply": "2021-01-12T08:47:06.282827Z"
    },
    "papermill": {
     "duration": 0.764891,
     "end_time": "2021-01-12T08:47:06.282937",
     "exception": false,
     "start_time": "2021-01-12T08:47:05.518046",
     "status": "completed"
    },
    "tags": []
   },
   "outputs": [],
   "source": [
    "assert ensemble_stats[\"min\"] > 1"
   ]
  },
  {
   "cell_type": "code",
   "execution_count": 33,
   "metadata": {
    "execution": {
     "iopub.execute_input": "2021-01-12T08:47:07.813451Z",
     "iopub.status.busy": "2021-01-12T08:47:07.813073Z",
     "iopub.status.idle": "2021-01-12T08:47:07.823847Z",
     "shell.execute_reply": "2021-01-12T08:47:07.823443Z"
    },
    "papermill": {
     "duration": 0.792217,
     "end_time": "2021-01-12T08:47:07.823941",
     "exception": false,
     "start_time": "2021-01-12T08:47:07.031724",
     "status": "completed"
    },
    "tags": []
   },
   "outputs": [],
   "source": [
    "assert not ensemble[\"n_clusters\"].isna().any()"
   ]
  },
  {
   "cell_type": "code",
   "execution_count": 34,
   "metadata": {
    "execution": {
     "iopub.execute_input": "2021-01-12T08:47:09.328646Z",
     "iopub.status.busy": "2021-01-12T08:47:09.328265Z",
     "iopub.status.idle": "2021-01-12T08:47:09.338338Z",
     "shell.execute_reply": "2021-01-12T08:47:09.338638Z"
    },
    "papermill": {
     "duration": 0.764889,
     "end_time": "2021-01-12T08:47:09.338753",
     "exception": false,
     "start_time": "2021-01-12T08:47:08.573864",
     "status": "completed"
    },
    "tags": []
   },
   "outputs": [],
   "source": [
    "# assert ensemble.shape[0] == len(CLUSTERERS)"
   ]
  },
  {
   "cell_type": "code",
   "execution_count": 35,
   "metadata": {
    "execution": {
     "iopub.execute_input": "2021-01-12T08:47:10.844000Z",
     "iopub.status.busy": "2021-01-12T08:47:10.843615Z",
     "iopub.status.idle": "2021-01-12T08:47:10.916104Z",
     "shell.execute_reply": "2021-01-12T08:47:10.915737Z"
    },
    "papermill": {
     "duration": 0.8269,
     "end_time": "2021-01-12T08:47:10.916188",
     "exception": false,
     "start_time": "2021-01-12T08:47:10.089288",
     "status": "completed"
    },
    "tags": []
   },
   "outputs": [],
   "source": [
    "# all partitions have the right size\n",
    "assert np.all(\n",
    "    [part[\"partition\"].shape[0] == data.shape[0] for idx, part in ensemble.iterrows()]\n",
    ")"
   ]
  },
  {
   "cell_type": "code",
   "execution_count": 36,
   "metadata": {
    "execution": {
     "iopub.execute_input": "2021-01-12T08:47:12.443667Z",
     "iopub.status.busy": "2021-01-12T08:47:12.443303Z",
     "iopub.status.idle": "2021-01-12T08:47:12.527344Z",
     "shell.execute_reply": "2021-01-12T08:47:12.526960Z"
    },
    "papermill": {
     "duration": 0.834842,
     "end_time": "2021-01-12T08:47:12.527434",
     "exception": false,
     "start_time": "2021-01-12T08:47:11.692592",
     "status": "completed"
    },
    "tags": []
   },
   "outputs": [],
   "source": [
    "# no partition has negative clusters (noisy points)\n",
    "assert not np.any([(part[\"partition\"] < 0).any() for idx, part in ensemble.iterrows()])"
   ]
  },
  {
   "cell_type": "markdown",
   "metadata": {
    "papermill": {
     "duration": 0.759453,
     "end_time": "2021-01-12T08:47:14.034492",
     "exception": false,
     "start_time": "2021-01-12T08:47:13.275039",
     "status": "completed"
    },
    "tags": []
   },
   "source": [
    "### Save"
   ]
  },
  {
   "cell_type": "code",
   "execution_count": 37,
   "metadata": {
    "execution": {
     "iopub.execute_input": "2021-01-12T08:47:15.593032Z",
     "iopub.status.busy": "2021-01-12T08:47:15.592599Z",
     "iopub.status.idle": "2021-01-12T08:47:15.603896Z",
     "shell.execute_reply": "2021-01-12T08:47:15.604219Z"
    },
    "papermill": {
     "duration": 0.781552,
     "end_time": "2021-01-12T08:47:15.604328",
     "exception": false,
     "start_time": "2021-01-12T08:47:14.822776",
     "status": "completed"
    },
    "tags": []
   },
   "outputs": [
    {
     "data": {
      "text/plain": [
       "PosixPath('/home/miltondp/projects/labs/greenelab/phenoplier/base3/results/clustering/runs/umap-z_score_std-projection-smultixcan-efo_partial-mashr-zscores/DBSCAN.pkl')"
      ]
     },
     "metadata": {},
     "output_type": "display_data"
    }
   ],
   "source": [
    "output_filename = Path(\n",
    "    RESULTS_DIR,\n",
    "    generate_result_set_name(\n",
    "        {},\n",
    "        #         CLUSTERING_OPTIONS,\n",
    "        prefix=f\"{clustering_method_name}\",\n",
    "        suffix=\".pkl\",\n",
    "    ),\n",
    ").resolve()\n",
    "display(output_filename)"
   ]
  },
  {
   "cell_type": "code",
   "execution_count": 38,
   "metadata": {
    "execution": {
     "iopub.execute_input": "2021-01-12T08:47:17.119814Z",
     "iopub.status.busy": "2021-01-12T08:47:17.119445Z",
     "iopub.status.idle": "2021-01-12T08:47:17.157372Z",
     "shell.execute_reply": "2021-01-12T08:47:17.157005Z"
    },
    "papermill": {
     "duration": 0.791179,
     "end_time": "2021-01-12T08:47:17.157479",
     "exception": false,
     "start_time": "2021-01-12T08:47:16.366300",
     "status": "completed"
    },
    "tags": []
   },
   "outputs": [],
   "source": [
    "ensemble.to_pickle(output_filename)"
   ]
  },
  {
   "cell_type": "code",
   "execution_count": null,
   "metadata": {
    "papermill": {
     "duration": 0.780368,
     "end_time": "2021-01-12T08:47:18.691325",
     "exception": false,
     "start_time": "2021-01-12T08:47:17.910957",
     "status": "completed"
    },
    "tags": []
   },
   "outputs": [],
   "source": []
  }
 ],
 "metadata": {
  "jupytext": {
   "cell_metadata_filter": "all,-execution,-papermill",
   "formats": "ipynb,py//py:percent"
  },
  "kernelspec": {
   "display_name": "Python 3",
   "language": "python",
   "name": "python3"
  },
  "language_info": {
   "codemirror_mode": {
    "name": "ipython",
    "version": 3
   },
   "file_extension": ".py",
   "mimetype": "text/x-python",
   "name": "python",
   "nbconvert_exporter": "python",
   "pygments_lexer": "ipython3",
   "version": "3.8.6"
  },
  "papermill": {
   "default_parameters": {},
   "duration": 812.187214,
   "end_time": "2021-01-12T08:47:19.847790",
   "environment_variables": {},
   "exception": null,
   "input_path": "15_cluster_analysis/002_02-dbscan-umap.ipynb",
   "output_path": "15_cluster_analysis/002_02-dbscan-umap.run.ipynb",
   "parameters": {},
   "start_time": "2021-01-12T08:33:47.660576",
   "version": "2.2.2"
  },
  "toc-autonumbering": true,
  "toc-showcode": false,
  "toc-showmarkdowntxt": false,
  "toc-showtags": false
 },
 "nbformat": 4,
 "nbformat_minor": 4
}
