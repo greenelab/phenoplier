{
 "cells": [
  {
   "cell_type": "markdown",
   "metadata": {
    "papermill": {
     "duration": 0.056374,
     "end_time": "2021-01-05T16:20:34.628974",
     "exception": false,
     "start_time": "2021-01-05T16:20:34.572600",
     "status": "completed"
    },
    "tags": []
   },
   "source": [
    "# Description"
   ]
  },
  {
   "cell_type": "markdown",
   "metadata": {
    "papermill": {
     "duration": 0.020912,
     "end_time": "2021-01-05T16:20:34.671345",
     "exception": false,
     "start_time": "2021-01-05T16:20:34.650433",
     "status": "completed"
    },
    "tags": []
   },
   "source": [
    "Runs k-means on the z_score_std version of the data."
   ]
  },
  {
   "cell_type": "markdown",
   "metadata": {
    "papermill": {
     "duration": 0.020626,
     "end_time": "2021-01-05T16:20:34.712969",
     "exception": false,
     "start_time": "2021-01-05T16:20:34.692343",
     "status": "completed"
    },
    "tags": []
   },
   "source": [
    "# Environment variables"
   ]
  },
  {
   "cell_type": "code",
   "execution_count": 1,
   "metadata": {
    "execution": {
     "iopub.execute_input": "2021-01-05T16:20:34.758050Z",
     "iopub.status.busy": "2021-01-05T16:20:34.757673Z",
     "iopub.status.idle": "2021-01-05T16:20:34.768851Z",
     "shell.execute_reply": "2021-01-05T16:20:34.768389Z"
    },
    "papermill": {
     "duration": 0.035166,
     "end_time": "2021-01-05T16:20:34.768972",
     "exception": false,
     "start_time": "2021-01-05T16:20:34.733806",
     "status": "completed"
    },
    "tags": []
   },
   "outputs": [
    {
     "data": {
      "text/plain": [
       "3"
      ]
     },
     "metadata": {},
     "output_type": "display_data"
    }
   ],
   "source": [
    "from IPython.display import display\n",
    "\n",
    "import conf\n",
    "\n",
    "N_JOBS = conf.GENERAL[\"N_JOBS\"]\n",
    "display(N_JOBS)"
   ]
  },
  {
   "cell_type": "code",
   "execution_count": 2,
   "metadata": {
    "execution": {
     "iopub.execute_input": "2021-01-05T16:20:34.815687Z",
     "iopub.status.busy": "2021-01-05T16:20:34.815294Z",
     "iopub.status.idle": "2021-01-05T16:20:34.817959Z",
     "shell.execute_reply": "2021-01-05T16:20:34.817566Z"
    },
    "papermill": {
     "duration": 0.027891,
     "end_time": "2021-01-05T16:20:34.818043",
     "exception": false,
     "start_time": "2021-01-05T16:20:34.790152",
     "status": "completed"
    },
    "tags": []
   },
   "outputs": [
    {
     "name": "stdout",
     "output_type": "stream",
     "text": [
      "env: MKL_NUM_THREADS=3\n",
      "env: OPEN_BLAS_NUM_THREADS=3\n",
      "env: NUMEXPR_NUM_THREADS=3\n",
      "env: OMP_NUM_THREADS=3\n"
     ]
    }
   ],
   "source": [
    "%env MKL_NUM_THREADS=$N_JOBS\n",
    "%env OPEN_BLAS_NUM_THREADS=$N_JOBS\n",
    "%env NUMEXPR_NUM_THREADS=$N_JOBS\n",
    "%env OMP_NUM_THREADS=$N_JOBS"
   ]
  },
  {
   "cell_type": "markdown",
   "metadata": {
    "papermill": {
     "duration": 0.021149,
     "end_time": "2021-01-05T16:20:34.860638",
     "exception": false,
     "start_time": "2021-01-05T16:20:34.839489",
     "status": "completed"
    },
    "tags": []
   },
   "source": [
    "# Modules loading"
   ]
  },
  {
   "cell_type": "code",
   "execution_count": 3,
   "metadata": {
    "execution": {
     "iopub.execute_input": "2021-01-05T16:20:34.905515Z",
     "iopub.status.busy": "2021-01-05T16:20:34.905140Z",
     "iopub.status.idle": "2021-01-05T16:20:34.912260Z",
     "shell.execute_reply": "2021-01-05T16:20:34.912557Z"
    },
    "papermill": {
     "duration": 0.030967,
     "end_time": "2021-01-05T16:20:34.912664",
     "exception": false,
     "start_time": "2021-01-05T16:20:34.881697",
     "status": "completed"
    },
    "tags": []
   },
   "outputs": [],
   "source": [
    "%load_ext autoreload\n",
    "%autoreload 2"
   ]
  },
  {
   "cell_type": "code",
   "execution_count": 4,
   "metadata": {
    "execution": {
     "iopub.execute_input": "2021-01-05T16:20:34.957931Z",
     "iopub.status.busy": "2021-01-05T16:20:34.957569Z",
     "iopub.status.idle": "2021-01-05T16:20:36.552591Z",
     "shell.execute_reply": "2021-01-05T16:20:36.552196Z"
    },
    "papermill": {
     "duration": 1.618478,
     "end_time": "2021-01-05T16:20:36.552699",
     "exception": false,
     "start_time": "2021-01-05T16:20:34.934221",
     "status": "completed"
    },
    "tags": []
   },
   "outputs": [],
   "source": [
    "from pathlib import Path\n",
    "\n",
    "import numpy as np\n",
    "import pandas as pd\n",
    "import matplotlib.pyplot as plt\n",
    "import seaborn as sns\n",
    "\n",
    "from utils import generate_result_set_name"
   ]
  },
  {
   "cell_type": "markdown",
   "metadata": {
    "papermill": {
     "duration": 0.020614,
     "end_time": "2021-01-05T16:20:36.596676",
     "exception": false,
     "start_time": "2021-01-05T16:20:36.576062",
     "status": "completed"
    },
    "tags": []
   },
   "source": [
    "# Settings"
   ]
  },
  {
   "cell_type": "code",
   "execution_count": 5,
   "metadata": {
    "execution": {
     "iopub.execute_input": "2021-01-05T16:20:36.641451Z",
     "iopub.status.busy": "2021-01-05T16:20:36.641085Z",
     "iopub.status.idle": "2021-01-05T16:20:36.653281Z",
     "shell.execute_reply": "2021-01-05T16:20:36.652903Z"
    },
    "papermill": {
     "duration": 0.03568,
     "end_time": "2021-01-05T16:20:36.653369",
     "exception": false,
     "start_time": "2021-01-05T16:20:36.617689",
     "status": "completed"
    },
    "tags": []
   },
   "outputs": [],
   "source": [
    "INITIAL_RANDOM_STATE = 0"
   ]
  },
  {
   "cell_type": "markdown",
   "metadata": {
    "papermill": {
     "duration": 0.02095,
     "end_time": "2021-01-05T16:20:36.695480",
     "exception": false,
     "start_time": "2021-01-05T16:20:36.674530",
     "status": "completed"
    },
    "tags": []
   },
   "source": [
    "## Input data"
   ]
  },
  {
   "cell_type": "code",
   "execution_count": 6,
   "metadata": {
    "execution": {
     "iopub.execute_input": "2021-01-05T16:20:36.739690Z",
     "iopub.status.busy": "2021-01-05T16:20:36.739332Z",
     "iopub.status.idle": "2021-01-05T16:20:36.751137Z",
     "shell.execute_reply": "2021-01-05T16:20:36.750759Z"
    },
    "papermill": {
     "duration": 0.034997,
     "end_time": "2021-01-05T16:20:36.751225",
     "exception": false,
     "start_time": "2021-01-05T16:20:36.716228",
     "status": "completed"
    },
    "tags": []
   },
   "outputs": [],
   "source": [
    "INPUT_SUBSET = \"z_score_std\""
   ]
  },
  {
   "cell_type": "code",
   "execution_count": 7,
   "metadata": {
    "execution": {
     "iopub.execute_input": "2021-01-05T16:20:36.796360Z",
     "iopub.status.busy": "2021-01-05T16:20:36.795998Z",
     "iopub.status.idle": "2021-01-05T16:20:36.807721Z",
     "shell.execute_reply": "2021-01-05T16:20:36.807353Z"
    },
    "papermill": {
     "duration": 0.035024,
     "end_time": "2021-01-05T16:20:36.807808",
     "exception": false,
     "start_time": "2021-01-05T16:20:36.772784",
     "status": "completed"
    },
    "tags": []
   },
   "outputs": [],
   "source": [
    "INPUT_STEM = \"projection-smultixcan-efo_partial-mashr-zscores\""
   ]
  },
  {
   "cell_type": "code",
   "execution_count": 8,
   "metadata": {
    "execution": {
     "iopub.execute_input": "2021-01-05T16:20:36.852744Z",
     "iopub.status.busy": "2021-01-05T16:20:36.852338Z",
     "iopub.status.idle": "2021-01-05T16:20:36.866585Z",
     "shell.execute_reply": "2021-01-05T16:20:36.866206Z"
    },
    "papermill": {
     "duration": 0.037851,
     "end_time": "2021-01-05T16:20:36.866673",
     "exception": false,
     "start_time": "2021-01-05T16:20:36.828822",
     "status": "completed"
    },
    "tags": []
   },
   "outputs": [
    {
     "data": {
      "text/plain": [
       "PosixPath('/home/miltondp/projects/labs/greenelab/phenoplier/base3/results/data_transformations/z_score_std/z_score_std-projection-smultixcan-efo_partial-mashr-zscores.pkl')"
      ]
     },
     "metadata": {},
     "output_type": "display_data"
    },
    {
     "data": {
      "text/plain": [
       "'z_score_std-projection-smultixcan-efo_partial-mashr-zscores'"
      ]
     },
     "metadata": {},
     "output_type": "display_data"
    }
   ],
   "source": [
    "input_filepath = Path(\n",
    "    conf.RESULTS[\"DATA_TRANSFORMATIONS_DIR\"],\n",
    "    INPUT_SUBSET,\n",
    "    f\"{INPUT_SUBSET}-{INPUT_STEM}.pkl\",\n",
    ").resolve()\n",
    "display(input_filepath)\n",
    "\n",
    "assert input_filepath.exists(), \"Input file does not exist\"\n",
    "\n",
    "input_filepath_stem = input_filepath.stem\n",
    "display(input_filepath_stem)"
   ]
  },
  {
   "cell_type": "markdown",
   "metadata": {
    "papermill": {
     "duration": 0.02135,
     "end_time": "2021-01-05T16:20:36.910185",
     "exception": false,
     "start_time": "2021-01-05T16:20:36.888835",
     "status": "completed"
    },
    "tags": []
   },
   "source": [
    "## Clustering"
   ]
  },
  {
   "cell_type": "code",
   "execution_count": 9,
   "metadata": {
    "execution": {
     "iopub.execute_input": "2021-01-05T16:20:36.955666Z",
     "iopub.status.busy": "2021-01-05T16:20:36.955320Z",
     "iopub.status.idle": "2021-01-05T16:20:36.974034Z",
     "shell.execute_reply": "2021-01-05T16:20:36.973639Z"
    },
    "papermill": {
     "duration": 0.04266,
     "end_time": "2021-01-05T16:20:36.974127",
     "exception": false,
     "start_time": "2021-01-05T16:20:36.931467",
     "status": "completed"
    },
    "tags": []
   },
   "outputs": [],
   "source": [
    "from sklearn.cluster import KMeans"
   ]
  },
  {
   "cell_type": "code",
   "execution_count": 10,
   "metadata": {
    "execution": {
     "iopub.execute_input": "2021-01-05T16:20:37.020526Z",
     "iopub.status.busy": "2021-01-05T16:20:37.020165Z",
     "iopub.status.idle": "2021-01-05T16:20:37.031974Z",
     "shell.execute_reply": "2021-01-05T16:20:37.031593Z"
    },
    "papermill": {
     "duration": 0.035522,
     "end_time": "2021-01-05T16:20:37.032064",
     "exception": false,
     "start_time": "2021-01-05T16:20:36.996542",
     "status": "completed"
    },
    "tags": []
   },
   "outputs": [],
   "source": [
    "CLUSTERING_ATTRIBUTES_TO_SAVE = [\"n_clusters\"]"
   ]
  },
  {
   "cell_type": "code",
   "execution_count": 11,
   "metadata": {
    "execution": {
     "iopub.execute_input": "2021-01-05T16:20:37.081239Z",
     "iopub.status.busy": "2021-01-05T16:20:37.080793Z",
     "iopub.status.idle": "2021-01-05T16:20:37.091635Z",
     "shell.execute_reply": "2021-01-05T16:20:37.091247Z"
    },
    "papermill": {
     "duration": 0.037923,
     "end_time": "2021-01-05T16:20:37.091732",
     "exception": false,
     "start_time": "2021-01-05T16:20:37.053809",
     "status": "completed"
    },
    "tags": []
   },
   "outputs": [
    {
     "data": {
      "text/plain": [
       "{'K_MIN': 2, 'K_MAX': 60, 'N_REPS_PER_K': 5, 'KMEANS_N_INIT': 10}"
      ]
     },
     "metadata": {},
     "output_type": "display_data"
    }
   ],
   "source": [
    "CLUSTERING_OPTIONS = {}\n",
    "\n",
    "CLUSTERING_OPTIONS[\"K_MIN\"] = 2\n",
    "CLUSTERING_OPTIONS[\"K_MAX\"] = 60  # sqrt(3749)\n",
    "CLUSTERING_OPTIONS[\"N_REPS_PER_K\"] = 5\n",
    "CLUSTERING_OPTIONS[\"KMEANS_N_INIT\"] = 10\n",
    "\n",
    "display(CLUSTERING_OPTIONS)"
   ]
  },
  {
   "cell_type": "code",
   "execution_count": 12,
   "metadata": {
    "execution": {
     "iopub.execute_input": "2021-01-05T16:20:37.141111Z",
     "iopub.status.busy": "2021-01-05T16:20:37.140717Z",
     "iopub.status.idle": "2021-01-05T16:20:37.153168Z",
     "shell.execute_reply": "2021-01-05T16:20:37.153472Z"
    },
    "papermill": {
     "duration": 0.038227,
     "end_time": "2021-01-05T16:20:37.153582",
     "exception": false,
     "start_time": "2021-01-05T16:20:37.115355",
     "status": "completed"
    },
    "tags": []
   },
   "outputs": [],
   "source": [
    "CLUSTERERS = {}\n",
    "\n",
    "idx = 0\n",
    "random_state = INITIAL_RANDOM_STATE\n",
    "\n",
    "for k in range(CLUSTERING_OPTIONS[\"K_MIN\"], CLUSTERING_OPTIONS[\"K_MAX\"] + 1):\n",
    "    for i in range(CLUSTERING_OPTIONS[\"N_REPS_PER_K\"]):\n",
    "        clus = KMeans(\n",
    "            n_clusters=k,\n",
    "            n_init=CLUSTERING_OPTIONS[\"KMEANS_N_INIT\"],\n",
    "            random_state=random_state,\n",
    "        )\n",
    "\n",
    "        method_name = type(clus).__name__\n",
    "        CLUSTERERS[f\"{method_name} #{idx}\"] = clus\n",
    "\n",
    "        random_state = random_state + 1\n",
    "        idx = idx + 1"
   ]
  },
  {
   "cell_type": "code",
   "execution_count": 13,
   "metadata": {
    "execution": {
     "iopub.execute_input": "2021-01-05T16:20:37.201442Z",
     "iopub.status.busy": "2021-01-05T16:20:37.201066Z",
     "iopub.status.idle": "2021-01-05T16:20:37.213727Z",
     "shell.execute_reply": "2021-01-05T16:20:37.213421Z"
    },
    "papermill": {
     "duration": 0.037225,
     "end_time": "2021-01-05T16:20:37.213817",
     "exception": false,
     "start_time": "2021-01-05T16:20:37.176592",
     "status": "completed"
    },
    "tags": []
   },
   "outputs": [
    {
     "data": {
      "text/plain": [
       "295"
      ]
     },
     "metadata": {},
     "output_type": "display_data"
    }
   ],
   "source": [
    "display(len(CLUSTERERS))"
   ]
  },
  {
   "cell_type": "code",
   "execution_count": 14,
   "metadata": {
    "execution": {
     "iopub.execute_input": "2021-01-05T16:20:37.261192Z",
     "iopub.status.busy": "2021-01-05T16:20:37.260829Z",
     "iopub.status.idle": "2021-01-05T16:20:37.274928Z",
     "shell.execute_reply": "2021-01-05T16:20:37.274566Z"
    },
    "papermill": {
     "duration": 0.038378,
     "end_time": "2021-01-05T16:20:37.275014",
     "exception": false,
     "start_time": "2021-01-05T16:20:37.236636",
     "status": "completed"
    },
    "tags": []
   },
   "outputs": [
    {
     "data": {
      "text/plain": [
       "('KMeans #0', KMeans(n_clusters=2, random_state=0))"
      ]
     },
     "metadata": {},
     "output_type": "display_data"
    },
    {
     "data": {
      "text/plain": [
       "('KMeans #1', KMeans(n_clusters=2, random_state=1))"
      ]
     },
     "metadata": {},
     "output_type": "display_data"
    }
   ],
   "source": [
    "_iter = iter(CLUSTERERS.items())\n",
    "display(next(_iter))\n",
    "display(next(_iter))"
   ]
  },
  {
   "cell_type": "code",
   "execution_count": 15,
   "metadata": {
    "execution": {
     "iopub.execute_input": "2021-01-05T16:20:37.323112Z",
     "iopub.status.busy": "2021-01-05T16:20:37.322742Z",
     "iopub.status.idle": "2021-01-05T16:20:37.335824Z",
     "shell.execute_reply": "2021-01-05T16:20:37.335450Z"
    },
    "papermill": {
     "duration": 0.037848,
     "end_time": "2021-01-05T16:20:37.335913",
     "exception": false,
     "start_time": "2021-01-05T16:20:37.298065",
     "status": "completed"
    },
    "tags": []
   },
   "outputs": [
    {
     "data": {
      "text/plain": [
       "'KMeans'"
      ]
     },
     "metadata": {},
     "output_type": "display_data"
    }
   ],
   "source": [
    "clustering_method_name = method_name\n",
    "display(clustering_method_name)"
   ]
  },
  {
   "cell_type": "markdown",
   "metadata": {
    "papermill": {
     "duration": 0.022499,
     "end_time": "2021-01-05T16:20:37.381459",
     "exception": false,
     "start_time": "2021-01-05T16:20:37.358960",
     "status": "completed"
    },
    "tags": []
   },
   "source": [
    "## Output directory"
   ]
  },
  {
   "cell_type": "code",
   "execution_count": 16,
   "metadata": {
    "execution": {
     "iopub.execute_input": "2021-01-05T16:20:37.429092Z",
     "iopub.status.busy": "2021-01-05T16:20:37.428708Z",
     "iopub.status.idle": "2021-01-05T16:20:37.442108Z",
     "shell.execute_reply": "2021-01-05T16:20:37.441734Z"
    },
    "papermill": {
     "duration": 0.038389,
     "end_time": "2021-01-05T16:20:37.442197",
     "exception": false,
     "start_time": "2021-01-05T16:20:37.403808",
     "status": "completed"
    },
    "tags": []
   },
   "outputs": [
    {
     "data": {
      "text/plain": [
       "PosixPath('/home/miltondp/projects/labs/greenelab/phenoplier/base3/results/clustering/runs/z_score_std-projection-smultixcan-efo_partial-mashr-zscores')"
      ]
     },
     "metadata": {},
     "output_type": "display_data"
    }
   ],
   "source": [
    "# output dir for this notebook\n",
    "RESULTS_DIR = Path(\n",
    "    conf.RESULTS[\"CLUSTERING_RUNS_DIR\"],\n",
    "    f\"{INPUT_SUBSET}-{INPUT_STEM}\",\n",
    ").resolve()\n",
    "RESULTS_DIR.mkdir(parents=True, exist_ok=True)\n",
    "\n",
    "display(RESULTS_DIR)"
   ]
  },
  {
   "cell_type": "markdown",
   "metadata": {
    "papermill": {
     "duration": 0.022469,
     "end_time": "2021-01-05T16:20:37.487807",
     "exception": false,
     "start_time": "2021-01-05T16:20:37.465338",
     "status": "completed"
    },
    "tags": []
   },
   "source": [
    "# Load input file"
   ]
  },
  {
   "cell_type": "code",
   "execution_count": 17,
   "metadata": {
    "execution": {
     "iopub.execute_input": "2021-01-05T16:20:37.535686Z",
     "iopub.status.busy": "2021-01-05T16:20:37.535327Z",
     "iopub.status.idle": "2021-01-05T16:20:37.560497Z",
     "shell.execute_reply": "2021-01-05T16:20:37.560128Z"
    },
    "papermill": {
     "duration": 0.05013,
     "end_time": "2021-01-05T16:20:37.560596",
     "exception": false,
     "start_time": "2021-01-05T16:20:37.510466",
     "status": "completed"
    },
    "tags": []
   },
   "outputs": [],
   "source": [
    "data = pd.read_pickle(input_filepath)"
   ]
  },
  {
   "cell_type": "code",
   "execution_count": 18,
   "metadata": {
    "execution": {
     "iopub.execute_input": "2021-01-05T16:20:37.613129Z",
     "iopub.status.busy": "2021-01-05T16:20:37.612761Z",
     "iopub.status.idle": "2021-01-05T16:20:37.625709Z",
     "shell.execute_reply": "2021-01-05T16:20:37.625404Z"
    },
    "papermill": {
     "duration": 0.038859,
     "end_time": "2021-01-05T16:20:37.625801",
     "exception": false,
     "start_time": "2021-01-05T16:20:37.586942",
     "status": "completed"
    },
    "tags": []
   },
   "outputs": [
    {
     "data": {
      "text/plain": [
       "(3749, 987)"
      ]
     },
     "execution_count": 18,
     "metadata": {},
     "output_type": "execute_result"
    }
   ],
   "source": [
    "data.shape"
   ]
  },
  {
   "cell_type": "code",
   "execution_count": 19,
   "metadata": {
    "execution": {
     "iopub.execute_input": "2021-01-05T16:20:37.676369Z",
     "iopub.status.busy": "2021-01-05T16:20:37.676001Z",
     "iopub.status.idle": "2021-01-05T16:20:37.702511Z",
     "shell.execute_reply": "2021-01-05T16:20:37.702134Z"
    },
    "papermill": {
     "duration": 0.052568,
     "end_time": "2021-01-05T16:20:37.702600",
     "exception": false,
     "start_time": "2021-01-05T16:20:37.650032",
     "status": "completed"
    },
    "tags": []
   },
   "outputs": [
    {
     "data": {
      "text/html": [
       "<div>\n",
       "<style scoped>\n",
       "    .dataframe tbody tr th:only-of-type {\n",
       "        vertical-align: middle;\n",
       "    }\n",
       "\n",
       "    .dataframe tbody tr th {\n",
       "        vertical-align: top;\n",
       "    }\n",
       "\n",
       "    .dataframe thead th {\n",
       "        text-align: right;\n",
       "    }\n",
       "</style>\n",
       "<table border=\"1\" class=\"dataframe\">\n",
       "  <thead>\n",
       "    <tr style=\"text-align: right;\">\n",
       "      <th></th>\n",
       "      <th>LV1</th>\n",
       "      <th>LV2</th>\n",
       "      <th>LV3</th>\n",
       "      <th>LV4</th>\n",
       "      <th>LV5</th>\n",
       "      <th>LV6</th>\n",
       "      <th>LV7</th>\n",
       "      <th>LV8</th>\n",
       "      <th>LV9</th>\n",
       "      <th>LV10</th>\n",
       "      <th>...</th>\n",
       "      <th>LV978</th>\n",
       "      <th>LV979</th>\n",
       "      <th>LV980</th>\n",
       "      <th>LV981</th>\n",
       "      <th>LV982</th>\n",
       "      <th>LV983</th>\n",
       "      <th>LV984</th>\n",
       "      <th>LV985</th>\n",
       "      <th>LV986</th>\n",
       "      <th>LV987</th>\n",
       "    </tr>\n",
       "  </thead>\n",
       "  <tbody>\n",
       "    <tr>\n",
       "      <th>100001_raw-Food_weight</th>\n",
       "      <td>-0.553743</td>\n",
       "      <td>1.851060</td>\n",
       "      <td>-0.095721</td>\n",
       "      <td>0.931603</td>\n",
       "      <td>-0.515196</td>\n",
       "      <td>1.371264</td>\n",
       "      <td>-0.413165</td>\n",
       "      <td>0.729668</td>\n",
       "      <td>0.546338</td>\n",
       "      <td>0.901153</td>\n",
       "      <td>...</td>\n",
       "      <td>1.148776</td>\n",
       "      <td>1.649018</td>\n",
       "      <td>-1.375952</td>\n",
       "      <td>2.203063</td>\n",
       "      <td>0.810199</td>\n",
       "      <td>-0.987048</td>\n",
       "      <td>0.277710</td>\n",
       "      <td>-0.607613</td>\n",
       "      <td>0.572376</td>\n",
       "      <td>-0.660846</td>\n",
       "    </tr>\n",
       "    <tr>\n",
       "      <th>100002_raw-Energy</th>\n",
       "      <td>-1.313905</td>\n",
       "      <td>-0.421015</td>\n",
       "      <td>-0.310524</td>\n",
       "      <td>-0.201978</td>\n",
       "      <td>0.233028</td>\n",
       "      <td>0.693838</td>\n",
       "      <td>0.084129</td>\n",
       "      <td>0.572439</td>\n",
       "      <td>0.217866</td>\n",
       "      <td>1.296973</td>\n",
       "      <td>...</td>\n",
       "      <td>0.165430</td>\n",
       "      <td>0.799276</td>\n",
       "      <td>-0.361989</td>\n",
       "      <td>-0.008253</td>\n",
       "      <td>2.063780</td>\n",
       "      <td>-0.930765</td>\n",
       "      <td>-0.147007</td>\n",
       "      <td>1.601938</td>\n",
       "      <td>-0.273553</td>\n",
       "      <td>-0.560822</td>\n",
       "    </tr>\n",
       "    <tr>\n",
       "      <th>100003_raw-Protein</th>\n",
       "      <td>-0.645622</td>\n",
       "      <td>-0.997845</td>\n",
       "      <td>0.249039</td>\n",
       "      <td>0.256499</td>\n",
       "      <td>0.422357</td>\n",
       "      <td>0.829189</td>\n",
       "      <td>-0.169004</td>\n",
       "      <td>0.511550</td>\n",
       "      <td>0.002389</td>\n",
       "      <td>-0.057200</td>\n",
       "      <td>...</td>\n",
       "      <td>1.016791</td>\n",
       "      <td>1.019488</td>\n",
       "      <td>-2.148844</td>\n",
       "      <td>-0.065130</td>\n",
       "      <td>0.041052</td>\n",
       "      <td>-0.836118</td>\n",
       "      <td>-0.320571</td>\n",
       "      <td>1.325519</td>\n",
       "      <td>-0.341494</td>\n",
       "      <td>-0.495786</td>\n",
       "    </tr>\n",
       "    <tr>\n",
       "      <th>100004_raw-Fat</th>\n",
       "      <td>-0.913924</td>\n",
       "      <td>-1.837183</td>\n",
       "      <td>0.012095</td>\n",
       "      <td>-1.301315</td>\n",
       "      <td>0.205794</td>\n",
       "      <td>1.129114</td>\n",
       "      <td>0.019985</td>\n",
       "      <td>0.376660</td>\n",
       "      <td>-0.810272</td>\n",
       "      <td>0.843611</td>\n",
       "      <td>...</td>\n",
       "      <td>0.544266</td>\n",
       "      <td>0.576714</td>\n",
       "      <td>0.281731</td>\n",
       "      <td>-0.218963</td>\n",
       "      <td>1.258957</td>\n",
       "      <td>-1.131924</td>\n",
       "      <td>0.378545</td>\n",
       "      <td>0.842047</td>\n",
       "      <td>-0.622194</td>\n",
       "      <td>-0.160058</td>\n",
       "    </tr>\n",
       "    <tr>\n",
       "      <th>100005_raw-Carbohydrate</th>\n",
       "      <td>-0.523004</td>\n",
       "      <td>0.131379</td>\n",
       "      <td>-0.097802</td>\n",
       "      <td>-0.030526</td>\n",
       "      <td>-0.021500</td>\n",
       "      <td>-0.219116</td>\n",
       "      <td>0.668229</td>\n",
       "      <td>0.365700</td>\n",
       "      <td>1.102347</td>\n",
       "      <td>0.845625</td>\n",
       "      <td>...</td>\n",
       "      <td>-0.344740</td>\n",
       "      <td>0.079274</td>\n",
       "      <td>0.253427</td>\n",
       "      <td>0.236474</td>\n",
       "      <td>1.033895</td>\n",
       "      <td>-0.229105</td>\n",
       "      <td>0.364793</td>\n",
       "      <td>1.776714</td>\n",
       "      <td>0.190531</td>\n",
       "      <td>-1.459641</td>\n",
       "    </tr>\n",
       "  </tbody>\n",
       "</table>\n",
       "<p>5 rows × 987 columns</p>\n",
       "</div>"
      ],
      "text/plain": [
       "                              LV1       LV2       LV3       LV4       LV5  \\\n",
       "100001_raw-Food_weight  -0.553743  1.851060 -0.095721  0.931603 -0.515196   \n",
       "100002_raw-Energy       -1.313905 -0.421015 -0.310524 -0.201978  0.233028   \n",
       "100003_raw-Protein      -0.645622 -0.997845  0.249039  0.256499  0.422357   \n",
       "100004_raw-Fat          -0.913924 -1.837183  0.012095 -1.301315  0.205794   \n",
       "100005_raw-Carbohydrate -0.523004  0.131379 -0.097802 -0.030526 -0.021500   \n",
       "\n",
       "                              LV6       LV7       LV8       LV9      LV10  \\\n",
       "100001_raw-Food_weight   1.371264 -0.413165  0.729668  0.546338  0.901153   \n",
       "100002_raw-Energy        0.693838  0.084129  0.572439  0.217866  1.296973   \n",
       "100003_raw-Protein       0.829189 -0.169004  0.511550  0.002389 -0.057200   \n",
       "100004_raw-Fat           1.129114  0.019985  0.376660 -0.810272  0.843611   \n",
       "100005_raw-Carbohydrate -0.219116  0.668229  0.365700  1.102347  0.845625   \n",
       "\n",
       "                         ...     LV978     LV979     LV980     LV981  \\\n",
       "100001_raw-Food_weight   ...  1.148776  1.649018 -1.375952  2.203063   \n",
       "100002_raw-Energy        ...  0.165430  0.799276 -0.361989 -0.008253   \n",
       "100003_raw-Protein       ...  1.016791  1.019488 -2.148844 -0.065130   \n",
       "100004_raw-Fat           ...  0.544266  0.576714  0.281731 -0.218963   \n",
       "100005_raw-Carbohydrate  ... -0.344740  0.079274  0.253427  0.236474   \n",
       "\n",
       "                            LV982     LV983     LV984     LV985     LV986  \\\n",
       "100001_raw-Food_weight   0.810199 -0.987048  0.277710 -0.607613  0.572376   \n",
       "100002_raw-Energy        2.063780 -0.930765 -0.147007  1.601938 -0.273553   \n",
       "100003_raw-Protein       0.041052 -0.836118 -0.320571  1.325519 -0.341494   \n",
       "100004_raw-Fat           1.258957 -1.131924  0.378545  0.842047 -0.622194   \n",
       "100005_raw-Carbohydrate  1.033895 -0.229105  0.364793  1.776714  0.190531   \n",
       "\n",
       "                            LV987  \n",
       "100001_raw-Food_weight  -0.660846  \n",
       "100002_raw-Energy       -0.560822  \n",
       "100003_raw-Protein      -0.495786  \n",
       "100004_raw-Fat          -0.160058  \n",
       "100005_raw-Carbohydrate -1.459641  \n",
       "\n",
       "[5 rows x 987 columns]"
      ]
     },
     "execution_count": 19,
     "metadata": {},
     "output_type": "execute_result"
    }
   ],
   "source": [
    "data.head()"
   ]
  },
  {
   "cell_type": "code",
   "execution_count": 20,
   "metadata": {
    "execution": {
     "iopub.execute_input": "2021-01-05T16:20:37.753463Z",
     "iopub.status.busy": "2021-01-05T16:20:37.753115Z",
     "iopub.status.idle": "2021-01-05T16:20:37.770782Z",
     "shell.execute_reply": "2021-01-05T16:20:37.771077Z"
    },
    "papermill": {
     "duration": 0.043809,
     "end_time": "2021-01-05T16:20:37.771192",
     "exception": false,
     "start_time": "2021-01-05T16:20:37.727383",
     "status": "completed"
    },
    "tags": []
   },
   "outputs": [],
   "source": [
    "assert not data.isna().any().any()"
   ]
  },
  {
   "cell_type": "markdown",
   "metadata": {
    "papermill": {
     "duration": 0.023273,
     "end_time": "2021-01-05T16:20:37.818733",
     "exception": false,
     "start_time": "2021-01-05T16:20:37.795460",
     "status": "completed"
    },
    "tags": []
   },
   "source": [
    "# Clustering"
   ]
  },
  {
   "cell_type": "markdown",
   "metadata": {
    "papermill": {
     "duration": 0.023099,
     "end_time": "2021-01-05T16:20:37.865366",
     "exception": false,
     "start_time": "2021-01-05T16:20:37.842267",
     "status": "completed"
    },
    "tags": []
   },
   "source": [
    "## Generate ensemble"
   ]
  },
  {
   "cell_type": "code",
   "execution_count": 21,
   "metadata": {
    "execution": {
     "iopub.execute_input": "2021-01-05T16:20:37.915272Z",
     "iopub.status.busy": "2021-01-05T16:20:37.914899Z",
     "iopub.status.idle": "2021-01-05T16:20:37.929590Z",
     "shell.execute_reply": "2021-01-05T16:20:37.929285Z"
    },
    "papermill": {
     "duration": 0.040809,
     "end_time": "2021-01-05T16:20:37.929680",
     "exception": false,
     "start_time": "2021-01-05T16:20:37.888871",
     "status": "completed"
    },
    "tags": []
   },
   "outputs": [],
   "source": [
    "from clustering.ensemble import generate_ensemble"
   ]
  },
  {
   "cell_type": "code",
   "execution_count": 22,
   "metadata": {
    "execution": {
     "iopub.execute_input": "2021-01-05T16:20:37.978698Z",
     "iopub.status.busy": "2021-01-05T16:20:37.978325Z",
     "iopub.status.idle": "2021-01-05T16:42:19.411351Z",
     "shell.execute_reply": "2021-01-05T16:42:19.410989Z"
    },
    "papermill": {
     "duration": 1301.458246,
     "end_time": "2021-01-05T16:42:19.411438",
     "exception": false,
     "start_time": "2021-01-05T16:20:37.953192",
     "status": "completed"
    },
    "tags": []
   },
   "outputs": [
    {
     "name": "stderr",
     "output_type": "stream",
     "text": [
      "100%|██████████| 295/295 [21:41<00:00,  4.41s/it]\n"
     ]
    }
   ],
   "source": [
    "ensemble = generate_ensemble(\n",
    "    data,\n",
    "    CLUSTERERS,\n",
    "    attributes=CLUSTERING_ATTRIBUTES_TO_SAVE,\n",
    ")"
   ]
  },
  {
   "cell_type": "code",
   "execution_count": 23,
   "metadata": {
    "execution": {
     "iopub.execute_input": "2021-01-05T16:42:19.555650Z",
     "iopub.status.busy": "2021-01-05T16:42:19.555277Z",
     "iopub.status.idle": "2021-01-05T16:42:19.568493Z",
     "shell.execute_reply": "2021-01-05T16:42:19.568150Z"
    },
    "papermill": {
     "duration": 0.085355,
     "end_time": "2021-01-05T16:42:19.568581",
     "exception": false,
     "start_time": "2021-01-05T16:42:19.483226",
     "status": "completed"
    },
    "tags": []
   },
   "outputs": [
    {
     "data": {
      "text/plain": [
       "(295, 3)"
      ]
     },
     "execution_count": 23,
     "metadata": {},
     "output_type": "execute_result"
    }
   ],
   "source": [
    "# the number should be close to 295 (the number of partitions generated by k-means/spectral clustering)\n",
    "ensemble.shape"
   ]
  },
  {
   "cell_type": "code",
   "execution_count": 24,
   "metadata": {
    "execution": {
     "iopub.execute_input": "2021-01-05T16:42:19.713438Z",
     "iopub.status.busy": "2021-01-05T16:42:19.713078Z",
     "iopub.status.idle": "2021-01-05T16:42:19.733068Z",
     "shell.execute_reply": "2021-01-05T16:42:19.732659Z"
    },
    "papermill": {
     "duration": 0.092303,
     "end_time": "2021-01-05T16:42:19.733155",
     "exception": false,
     "start_time": "2021-01-05T16:42:19.640852",
     "status": "completed"
    },
    "tags": []
   },
   "outputs": [
    {
     "data": {
      "text/html": [
       "<div>\n",
       "<style scoped>\n",
       "    .dataframe tbody tr th:only-of-type {\n",
       "        vertical-align: middle;\n",
       "    }\n",
       "\n",
       "    .dataframe tbody tr th {\n",
       "        vertical-align: top;\n",
       "    }\n",
       "\n",
       "    .dataframe thead th {\n",
       "        text-align: right;\n",
       "    }\n",
       "</style>\n",
       "<table border=\"1\" class=\"dataframe\">\n",
       "  <thead>\n",
       "    <tr style=\"text-align: right;\">\n",
       "      <th></th>\n",
       "      <th>clusterer_params</th>\n",
       "      <th>partition</th>\n",
       "      <th>n_clusters</th>\n",
       "    </tr>\n",
       "    <tr>\n",
       "      <th>clusterer_id</th>\n",
       "      <th></th>\n",
       "      <th></th>\n",
       "      <th></th>\n",
       "    </tr>\n",
       "  </thead>\n",
       "  <tbody>\n",
       "    <tr>\n",
       "      <th>KMeans #0</th>\n",
       "      <td>{'algorithm': 'auto', 'copy_x': True, 'init': ...</td>\n",
       "      <td>[1.0, 1.0, 1.0, 1.0, 1.0, 1.0, 1.0, 1.0, 1.0, ...</td>\n",
       "      <td>2</td>\n",
       "    </tr>\n",
       "    <tr>\n",
       "      <th>KMeans #1</th>\n",
       "      <td>{'algorithm': 'auto', 'copy_x': True, 'init': ...</td>\n",
       "      <td>[1.0, 1.0, 1.0, 1.0, 1.0, 1.0, 1.0, 1.0, 1.0, ...</td>\n",
       "      <td>2</td>\n",
       "    </tr>\n",
       "    <tr>\n",
       "      <th>KMeans #2</th>\n",
       "      <td>{'algorithm': 'auto', 'copy_x': True, 'init': ...</td>\n",
       "      <td>[1.0, 1.0, 1.0, 1.0, 1.0, 1.0, 1.0, 1.0, 1.0, ...</td>\n",
       "      <td>2</td>\n",
       "    </tr>\n",
       "    <tr>\n",
       "      <th>KMeans #3</th>\n",
       "      <td>{'algorithm': 'auto', 'copy_x': True, 'init': ...</td>\n",
       "      <td>[0.0, 0.0, 0.0, 0.0, 0.0, 0.0, 0.0, 0.0, 0.0, ...</td>\n",
       "      <td>2</td>\n",
       "    </tr>\n",
       "    <tr>\n",
       "      <th>KMeans #4</th>\n",
       "      <td>{'algorithm': 'auto', 'copy_x': True, 'init': ...</td>\n",
       "      <td>[1.0, 1.0, 1.0, 1.0, 1.0, 1.0, 1.0, 1.0, 1.0, ...</td>\n",
       "      <td>2</td>\n",
       "    </tr>\n",
       "  </tbody>\n",
       "</table>\n",
       "</div>"
      ],
      "text/plain": [
       "                                               clusterer_params  \\\n",
       "clusterer_id                                                      \n",
       "KMeans #0     {'algorithm': 'auto', 'copy_x': True, 'init': ...   \n",
       "KMeans #1     {'algorithm': 'auto', 'copy_x': True, 'init': ...   \n",
       "KMeans #2     {'algorithm': 'auto', 'copy_x': True, 'init': ...   \n",
       "KMeans #3     {'algorithm': 'auto', 'copy_x': True, 'init': ...   \n",
       "KMeans #4     {'algorithm': 'auto', 'copy_x': True, 'init': ...   \n",
       "\n",
       "                                                      partition  n_clusters  \n",
       "clusterer_id                                                                 \n",
       "KMeans #0     [1.0, 1.0, 1.0, 1.0, 1.0, 1.0, 1.0, 1.0, 1.0, ...           2  \n",
       "KMeans #1     [1.0, 1.0, 1.0, 1.0, 1.0, 1.0, 1.0, 1.0, 1.0, ...           2  \n",
       "KMeans #2     [1.0, 1.0, 1.0, 1.0, 1.0, 1.0, 1.0, 1.0, 1.0, ...           2  \n",
       "KMeans #3     [0.0, 0.0, 0.0, 0.0, 0.0, 0.0, 0.0, 0.0, 0.0, ...           2  \n",
       "KMeans #4     [1.0, 1.0, 1.0, 1.0, 1.0, 1.0, 1.0, 1.0, 1.0, ...           2  "
      ]
     },
     "execution_count": 24,
     "metadata": {},
     "output_type": "execute_result"
    }
   ],
   "source": [
    "ensemble.head()"
   ]
  },
  {
   "cell_type": "code",
   "execution_count": 25,
   "metadata": {
    "execution": {
     "iopub.execute_input": "2021-01-05T16:42:19.877632Z",
     "iopub.status.busy": "2021-01-05T16:42:19.877274Z",
     "iopub.status.idle": "2021-01-05T16:42:19.890790Z",
     "shell.execute_reply": "2021-01-05T16:42:19.890414Z"
    },
    "papermill": {
     "duration": 0.085965,
     "end_time": "2021-01-05T16:42:19.890893",
     "exception": false,
     "start_time": "2021-01-05T16:42:19.804928",
     "status": "completed"
    },
    "tags": []
   },
   "outputs": [
    {
     "data": {
      "text/plain": [
       "60    5\n",
       "16    5\n",
       "28    5\n",
       "27    5\n",
       "26    5\n",
       "Name: n_clusters, dtype: int64"
      ]
     },
     "execution_count": 25,
     "metadata": {},
     "output_type": "execute_result"
    }
   ],
   "source": [
    "ensemble[\"n_clusters\"].value_counts().head()"
   ]
  },
  {
   "cell_type": "code",
   "execution_count": 26,
   "metadata": {
    "execution": {
     "iopub.execute_input": "2021-01-05T16:42:20.036161Z",
     "iopub.status.busy": "2021-01-05T16:42:20.035785Z",
     "iopub.status.idle": "2021-01-05T16:42:20.050477Z",
     "shell.execute_reply": "2021-01-05T16:42:20.050785Z"
    },
    "papermill": {
     "duration": 0.088694,
     "end_time": "2021-01-05T16:42:20.050892",
     "exception": false,
     "start_time": "2021-01-05T16:42:19.962198",
     "status": "completed"
    },
    "tags": []
   },
   "outputs": [
    {
     "data": {
      "text/plain": [
       "count    295.000000\n",
       "mean      31.000000\n",
       "std       17.058323\n",
       "min        2.000000\n",
       "25%       16.000000\n",
       "50%       31.000000\n",
       "75%       46.000000\n",
       "max       60.000000\n",
       "Name: n_clusters, dtype: float64"
      ]
     },
     "metadata": {},
     "output_type": "display_data"
    }
   ],
   "source": [
    "ensemble_stats = ensemble[\"n_clusters\"].describe()\n",
    "display(ensemble_stats)"
   ]
  },
  {
   "cell_type": "markdown",
   "metadata": {
    "papermill": {
     "duration": 0.070719,
     "end_time": "2021-01-05T16:42:20.193996",
     "exception": false,
     "start_time": "2021-01-05T16:42:20.123277",
     "status": "completed"
    },
    "tags": []
   },
   "source": [
    "## Testing"
   ]
  },
  {
   "cell_type": "code",
   "execution_count": 27,
   "metadata": {
    "execution": {
     "iopub.execute_input": "2021-01-05T16:42:20.342948Z",
     "iopub.status.busy": "2021-01-05T16:42:20.342587Z",
     "iopub.status.idle": "2021-01-05T16:42:20.354404Z",
     "shell.execute_reply": "2021-01-05T16:42:20.354021Z"
    },
    "papermill": {
     "duration": 0.089101,
     "end_time": "2021-01-05T16:42:20.354495",
     "exception": false,
     "start_time": "2021-01-05T16:42:20.265394",
     "status": "completed"
    },
    "tags": []
   },
   "outputs": [],
   "source": [
    "assert ensemble_stats[\"min\"] > 1"
   ]
  },
  {
   "cell_type": "code",
   "execution_count": 28,
   "metadata": {
    "execution": {
     "iopub.execute_input": "2021-01-05T16:42:20.500259Z",
     "iopub.status.busy": "2021-01-05T16:42:20.499885Z",
     "iopub.status.idle": "2021-01-05T16:42:20.511890Z",
     "shell.execute_reply": "2021-01-05T16:42:20.511522Z"
    },
    "papermill": {
     "duration": 0.085281,
     "end_time": "2021-01-05T16:42:20.511977",
     "exception": false,
     "start_time": "2021-01-05T16:42:20.426696",
     "status": "completed"
    },
    "tags": []
   },
   "outputs": [],
   "source": [
    "assert not ensemble[\"n_clusters\"].isna().any()"
   ]
  },
  {
   "cell_type": "code",
   "execution_count": 29,
   "metadata": {
    "execution": {
     "iopub.execute_input": "2021-01-05T16:42:20.658668Z",
     "iopub.status.busy": "2021-01-05T16:42:20.658307Z",
     "iopub.status.idle": "2021-01-05T16:42:20.670215Z",
     "shell.execute_reply": "2021-01-05T16:42:20.669843Z"
    },
    "papermill": {
     "duration": 0.085608,
     "end_time": "2021-01-05T16:42:20.670304",
     "exception": false,
     "start_time": "2021-01-05T16:42:20.584696",
     "status": "completed"
    },
    "tags": []
   },
   "outputs": [],
   "source": [
    "assert ensemble.shape[0] == len(CLUSTERERS)"
   ]
  },
  {
   "cell_type": "code",
   "execution_count": 30,
   "metadata": {
    "execution": {
     "iopub.execute_input": "2021-01-05T16:42:20.816893Z",
     "iopub.status.busy": "2021-01-05T16:42:20.816461Z",
     "iopub.status.idle": "2021-01-05T16:42:20.845550Z",
     "shell.execute_reply": "2021-01-05T16:42:20.845836Z"
    },
    "papermill": {
     "duration": 0.103283,
     "end_time": "2021-01-05T16:42:20.845957",
     "exception": false,
     "start_time": "2021-01-05T16:42:20.742674",
     "status": "completed"
    },
    "tags": []
   },
   "outputs": [],
   "source": [
    "# all partitions have the right size\n",
    "assert np.all(\n",
    "    [part[\"partition\"].shape[0] == data.shape[0] for idx, part in ensemble.iterrows()]\n",
    ")"
   ]
  },
  {
   "cell_type": "code",
   "execution_count": 31,
   "metadata": {
    "execution": {
     "iopub.execute_input": "2021-01-05T16:42:20.991645Z",
     "iopub.status.busy": "2021-01-05T16:42:20.991285Z",
     "iopub.status.idle": "2021-01-05T16:42:21.024337Z",
     "shell.execute_reply": "2021-01-05T16:42:21.023948Z"
    },
    "papermill": {
     "duration": 0.106855,
     "end_time": "2021-01-05T16:42:21.024442",
     "exception": false,
     "start_time": "2021-01-05T16:42:20.917587",
     "status": "completed"
    },
    "tags": []
   },
   "outputs": [],
   "source": [
    "# no partition has negative clusters (noisy points)\n",
    "assert not np.any([(part[\"partition\"] < 0).any() for idx, part in ensemble.iterrows()])"
   ]
  },
  {
   "cell_type": "markdown",
   "metadata": {
    "papermill": {
     "duration": 0.10103,
     "end_time": "2021-01-11T23:44:04.987824",
     "exception": false,
     "start_time": "2021-01-11T23:44:04.886794",
     "status": "completed"
    },
    "tags": []
   },
   "source": [
    "## Add clustering quality measures"
   ]
  },
  {
   "cell_type": "code",
   "execution_count": null,
   "metadata": {},
   "outputs": [],
   "source": [
    "from sklearn.metrics import calinski_harabasz_score"
   ]
  },
  {
   "cell_type": "code",
   "execution_count": null,
   "metadata": {
    "papermill": {
     "duration": 16.491129,
     "end_time": "2021-01-11T23:44:21.582813",
     "exception": false,
     "start_time": "2021-01-11T23:44:05.091684",
     "status": "completed"
    },
    "tags": []
   },
   "outputs": [],
   "source": [
    "ensemble = ensemble.assign(\n",
    "    ch_score=ensemble[\"partition\"].apply(lambda x: calinski_harabasz_score(data, x))\n",
    ")"
   ]
  },
  {
   "cell_type": "code",
   "execution_count": null,
   "metadata": {
    "papermill": {
     "duration": 0.117602,
     "end_time": "2021-01-11T23:44:21.812891",
     "exception": false,
     "start_time": "2021-01-11T23:44:21.695289",
     "status": "completed"
    },
    "tags": []
   },
   "outputs": [],
   "source": [
    "ensemble.shape"
   ]
  },
  {
   "cell_type": "code",
   "execution_count": null,
   "metadata": {
    "papermill": {
     "duration": 0.125457,
     "end_time": "2021-01-11T23:44:22.040417",
     "exception": false,
     "start_time": "2021-01-11T23:44:21.914960",
     "status": "completed"
    },
    "tags": []
   },
   "outputs": [],
   "source": [
    "ensemble.head()"
   ]
  },
  {
   "cell_type": "markdown",
   "metadata": {
    "papermill": {
     "duration": 0.071845,
     "end_time": "2021-01-05T16:42:21.167894",
     "exception": false,
     "start_time": "2021-01-05T16:42:21.096049",
     "status": "completed"
    },
    "tags": []
   },
   "source": [
    "## Save"
   ]
  },
  {
   "cell_type": "code",
   "execution_count": 32,
   "metadata": {
    "execution": {
     "iopub.execute_input": "2021-01-05T16:42:21.313330Z",
     "iopub.status.busy": "2021-01-05T16:42:21.312912Z",
     "iopub.status.idle": "2021-01-05T16:42:21.326711Z",
     "shell.execute_reply": "2021-01-05T16:42:21.326322Z"
    },
    "papermill": {
     "duration": 0.08855,
     "end_time": "2021-01-05T16:42:21.326802",
     "exception": false,
     "start_time": "2021-01-05T16:42:21.238252",
     "status": "completed"
    },
    "tags": []
   },
   "outputs": [
    {
     "data": {
      "text/plain": [
       "PosixPath('/home/miltondp/projects/labs/greenelab/phenoplier/base3/results/clustering/runs/z_score_std-projection-smultixcan-efo_partial-mashr-zscores/KMeans-KMEANS_N_INIT_10-K_MAX_60-K_MIN_2-N_REPS_PER_K_5.pkl')"
      ]
     },
     "metadata": {},
     "output_type": "display_data"
    }
   ],
   "source": [
    "output_filename = Path(\n",
    "    RESULTS_DIR,\n",
    "    generate_result_set_name(\n",
    "        CLUSTERING_OPTIONS,\n",
    "        prefix=f\"{clustering_method_name}-\",\n",
    "        suffix=\".pkl\",\n",
    "    ),\n",
    ").resolve()\n",
    "display(output_filename)"
   ]
  },
  {
   "cell_type": "code",
   "execution_count": 33,
   "metadata": {
    "execution": {
     "iopub.execute_input": "2021-01-05T16:42:21.474526Z",
     "iopub.status.busy": "2021-01-05T16:42:21.474170Z",
     "iopub.status.idle": "2021-01-05T16:42:21.493747Z",
     "shell.execute_reply": "2021-01-05T16:42:21.493390Z"
    },
    "papermill": {
     "duration": 0.093416,
     "end_time": "2021-01-05T16:42:21.493843",
     "exception": false,
     "start_time": "2021-01-05T16:42:21.400427",
     "status": "completed"
    },
    "tags": []
   },
   "outputs": [],
   "source": [
    "ensemble.to_pickle(output_filename)"
   ]
  },
  {
   "cell_type": "markdown",
   "metadata": {
    "papermill": {
     "duration": 0.103758,
     "end_time": "2021-01-11T23:44:22.249437",
     "exception": false,
     "start_time": "2021-01-11T23:44:22.145679",
     "status": "completed"
    },
    "tags": []
   },
   "source": [
    "# Cluster quality"
   ]
  },
  {
   "cell_type": "code",
   "execution_count": null,
   "metadata": {
    "papermill": {
     "duration": 0.132165,
     "end_time": "2021-01-11T23:44:22.483834",
     "exception": false,
     "start_time": "2021-01-11T23:44:22.351669",
     "status": "completed"
    },
    "tags": []
   },
   "outputs": [],
   "source": [
    "with pd.option_context(\"display.max_rows\", None, \"display.max_columns\", None):\n",
    "    _df = ensemble.groupby([\"n_clusters\"]).mean()\n",
    "    display(_df)"
   ]
  },
  {
   "cell_type": "code",
   "execution_count": null,
   "metadata": {
    "papermill": {
     "duration": 2.390576,
     "end_time": "2021-01-11T23:44:24.977666",
     "exception": false,
     "start_time": "2021-01-11T23:44:22.587090",
     "status": "completed"
    },
    "tags": []
   },
   "outputs": [],
   "source": [
    "with sns.plotting_context(\"talk\", font_scale=0.75), sns.axes_style(\n",
    "    \"whitegrid\", {\"grid.linestyle\": \"--\"}\n",
    "):\n",
    "    fig = plt.figure(figsize=(14, 6))\n",
    "    ax = sns.pointplot(data=ensemble, x=\"n_clusters\", y=\"ch_score\")\n",
    "    ax.set_ylabel(\"Calinski-Harabasz index\")\n",
    "    ax.set_xlabel(\"Number of clusters ($k$)\")\n",
    "    ax.set_xticklabels(ax.get_xticklabels(), rotation=45)\n",
    "    plt.grid(True)\n",
    "    plt.tight_layout()"
   ]
  },
  {
   "cell_type": "markdown",
   "metadata": {
    "papermill": {
     "duration": 0.07049,
     "end_time": "2021-01-05T16:42:21.636125",
     "exception": false,
     "start_time": "2021-01-05T16:42:21.565635",
     "status": "completed"
    },
    "tags": []
   },
   "source": [
    "# Stability"
   ]
  },
  {
   "cell_type": "markdown",
   "metadata": {
    "papermill": {
     "duration": 0.070327,
     "end_time": "2021-01-05T16:42:21.777512",
     "exception": false,
     "start_time": "2021-01-05T16:42:21.707185",
     "status": "completed"
    },
    "tags": []
   },
   "source": [
    "## Group ensemble by n_clusters"
   ]
  },
  {
   "cell_type": "code",
   "execution_count": 34,
   "metadata": {
    "execution": {
     "iopub.execute_input": "2021-01-05T16:42:21.922210Z",
     "iopub.status.busy": "2021-01-05T16:42:21.921843Z",
     "iopub.status.idle": "2021-01-05T16:42:21.954157Z",
     "shell.execute_reply": "2021-01-05T16:42:21.954443Z"
    },
    "papermill": {
     "duration": 0.106012,
     "end_time": "2021-01-05T16:42:21.954556",
     "exception": false,
     "start_time": "2021-01-05T16:42:21.848544",
     "status": "completed"
    },
    "tags": []
   },
   "outputs": [],
   "source": [
    "parts = ensemble.groupby(\"n_clusters\").apply(\n",
    "    lambda x: np.concatenate(x[\"partition\"].apply(lambda x: x.reshape(1, -1)), axis=0)\n",
    ")"
   ]
  },
  {
   "cell_type": "code",
   "execution_count": 35,
   "metadata": {
    "execution": {
     "iopub.execute_input": "2021-01-05T16:42:22.099922Z",
     "iopub.status.busy": "2021-01-05T16:42:22.099560Z",
     "iopub.status.idle": "2021-01-05T16:42:22.123435Z",
     "shell.execute_reply": "2021-01-05T16:42:22.123060Z"
    },
    "papermill": {
     "duration": 0.09716,
     "end_time": "2021-01-05T16:42:22.123525",
     "exception": false,
     "start_time": "2021-01-05T16:42:22.026365",
     "status": "completed"
    },
    "tags": []
   },
   "outputs": [
    {
     "data": {
      "text/plain": [
       "n_clusters\n",
       "2    [[1.0, 1.0, 1.0, 1.0, 1.0, 1.0, 1.0, 1.0, 1.0,...\n",
       "3    [[2.0, 2.0, 2.0, 2.0, 2.0, 2.0, 2.0, 2.0, 2.0,...\n",
       "4    [[2.0, 2.0, 2.0, 2.0, 2.0, 2.0, 2.0, 2.0, 2.0,...\n",
       "5    [[2.0, 2.0, 2.0, 2.0, 2.0, 2.0, 2.0, 2.0, 2.0,...\n",
       "6    [[2.0, 2.0, 2.0, 2.0, 2.0, 2.0, 2.0, 2.0, 2.0,...\n",
       "dtype: object"
      ]
     },
     "execution_count": 35,
     "metadata": {},
     "output_type": "execute_result"
    }
   ],
   "source": [
    "parts.head()"
   ]
  },
  {
   "cell_type": "code",
   "execution_count": 36,
   "metadata": {
    "execution": {
     "iopub.execute_input": "2021-01-05T16:42:22.270861Z",
     "iopub.status.busy": "2021-01-05T16:42:22.270486Z",
     "iopub.status.idle": "2021-01-05T16:42:22.283588Z",
     "shell.execute_reply": "2021-01-05T16:42:22.283204Z"
    },
    "papermill": {
     "duration": 0.08814,
     "end_time": "2021-01-05T16:42:22.283679",
     "exception": false,
     "start_time": "2021-01-05T16:42:22.195539",
     "status": "completed"
    },
    "tags": []
   },
   "outputs": [],
   "source": [
    "assert np.all(\n",
    "    [\n",
    "        parts.loc[k].shape == (CLUSTERING_OPTIONS[\"N_REPS_PER_K\"], data.shape[0])\n",
    "        for k in parts.index\n",
    "    ]\n",
    ")"
   ]
  },
  {
   "cell_type": "markdown",
   "metadata": {
    "papermill": {
     "duration": 0.071814,
     "end_time": "2021-01-05T16:42:22.432432",
     "exception": false,
     "start_time": "2021-01-05T16:42:22.360618",
     "status": "completed"
    },
    "tags": []
   },
   "source": [
    "## Compute stability"
   ]
  },
  {
   "cell_type": "code",
   "execution_count": 37,
   "metadata": {
    "execution": {
     "iopub.execute_input": "2021-01-05T16:42:22.578481Z",
     "iopub.status.busy": "2021-01-05T16:42:22.578111Z",
     "iopub.status.idle": "2021-01-05T16:42:22.589939Z",
     "shell.execute_reply": "2021-01-05T16:42:22.589578Z"
    },
    "papermill": {
     "duration": 0.086059,
     "end_time": "2021-01-05T16:42:22.590025",
     "exception": false,
     "start_time": "2021-01-05T16:42:22.503966",
     "status": "completed"
    },
    "tags": []
   },
   "outputs": [],
   "source": [
    "from sklearn.metrics import adjusted_rand_score as ari\n",
    "from scipy.spatial.distance import pdist"
   ]
  },
  {
   "cell_type": "code",
   "execution_count": 38,
   "metadata": {
    "execution": {
     "iopub.execute_input": "2021-01-05T16:42:22.736809Z",
     "iopub.status.busy": "2021-01-05T16:42:22.736389Z",
     "iopub.status.idle": "2021-01-05T16:42:23.431643Z",
     "shell.execute_reply": "2021-01-05T16:42:23.431264Z"
    },
    "papermill": {
     "duration": 0.769453,
     "end_time": "2021-01-05T16:42:23.431733",
     "exception": false,
     "start_time": "2021-01-05T16:42:22.662280",
     "status": "completed"
    },
    "tags": []
   },
   "outputs": [],
   "source": [
    "parts_ari = pd.Series(\n",
    "    {k: pdist(parts.loc[k], metric=ari) for k in parts.index}, name=\"k\"\n",
    ")"
   ]
  },
  {
   "cell_type": "code",
   "execution_count": 39,
   "metadata": {
    "execution": {
     "iopub.execute_input": "2021-01-05T16:42:23.577298Z",
     "iopub.status.busy": "2021-01-05T16:42:23.576929Z",
     "iopub.status.idle": "2021-01-05T16:42:23.590980Z",
     "shell.execute_reply": "2021-01-05T16:42:23.590604Z"
    },
    "papermill": {
     "duration": 0.088318,
     "end_time": "2021-01-05T16:42:23.591070",
     "exception": false,
     "start_time": "2021-01-05T16:42:23.502752",
     "status": "completed"
    },
    "tags": []
   },
   "outputs": [
    {
     "data": {
      "text/plain": [
       "2     1.000000\n",
       "4     0.999930\n",
       "3     0.978411\n",
       "5     0.947089\n",
       "7     0.946978\n",
       "6     0.864657\n",
       "8     0.656955\n",
       "9     0.335216\n",
       "12    0.188464\n",
       "10    0.186006\n",
       "11    0.171345\n",
       "15    0.155128\n",
       "13    0.132850\n",
       "14    0.129988\n",
       "17    0.129620\n",
       "Name: k, dtype: float64"
      ]
     },
     "metadata": {},
     "output_type": "display_data"
    }
   ],
   "source": [
    "parts_ari_stability = parts_ari.apply(lambda x: x.mean())\n",
    "display(parts_ari_stability.sort_values(ascending=False).head(15))"
   ]
  },
  {
   "cell_type": "code",
   "execution_count": 40,
   "metadata": {
    "execution": {
     "iopub.execute_input": "2021-01-05T16:42:23.738460Z",
     "iopub.status.busy": "2021-01-05T16:42:23.738090Z",
     "iopub.status.idle": "2021-01-05T16:42:23.750971Z",
     "shell.execute_reply": "2021-01-05T16:42:23.750596Z"
    },
    "papermill": {
     "duration": 0.086964,
     "end_time": "2021-01-05T16:42:23.751060",
     "exception": false,
     "start_time": "2021-01-05T16:42:23.664096",
     "status": "completed"
    },
    "tags": []
   },
   "outputs": [],
   "source": [
    "parts_ari_df = pd.DataFrame.from_records(parts_ari.tolist()).set_index(\n",
    "    parts_ari.index.copy()\n",
    ")"
   ]
  },
  {
   "cell_type": "code",
   "execution_count": 41,
   "metadata": {
    "execution": {
     "iopub.execute_input": "2021-01-05T16:42:23.898054Z",
     "iopub.status.busy": "2021-01-05T16:42:23.897657Z",
     "iopub.status.idle": "2021-01-05T16:42:23.909794Z",
     "shell.execute_reply": "2021-01-05T16:42:23.910090Z"
    },
    "papermill": {
     "duration": 0.086952,
     "end_time": "2021-01-05T16:42:23.910198",
     "exception": false,
     "start_time": "2021-01-05T16:42:23.823246",
     "status": "completed"
    },
    "tags": []
   },
   "outputs": [
    {
     "data": {
      "text/plain": [
       "(59, 10)"
      ]
     },
     "execution_count": 41,
     "metadata": {},
     "output_type": "execute_result"
    }
   ],
   "source": [
    "parts_ari_df.shape"
   ]
  },
  {
   "cell_type": "code",
   "execution_count": 42,
   "metadata": {
    "execution": {
     "iopub.execute_input": "2021-01-05T16:42:24.057534Z",
     "iopub.status.busy": "2021-01-05T16:42:24.057157Z",
     "iopub.status.idle": "2021-01-05T16:42:24.069175Z",
     "shell.execute_reply": "2021-01-05T16:42:24.069470Z"
    },
    "papermill": {
     "duration": 0.08615,
     "end_time": "2021-01-05T16:42:24.069581",
     "exception": false,
     "start_time": "2021-01-05T16:42:23.983431",
     "status": "completed"
    },
    "tags": []
   },
   "outputs": [],
   "source": [
    "assert (\n",
    "    int(\n",
    "        (CLUSTERING_OPTIONS[\"N_REPS_PER_K\"] * (CLUSTERING_OPTIONS[\"N_REPS_PER_K\"] - 1))\n",
    "        / 2\n",
    "    )\n",
    "    == parts_ari_df.shape[1]\n",
    ")"
   ]
  },
  {
   "cell_type": "code",
   "execution_count": 43,
   "metadata": {
    "execution": {
     "iopub.execute_input": "2021-01-05T16:42:24.219427Z",
     "iopub.status.busy": "2021-01-05T16:42:24.219065Z",
     "iopub.status.idle": "2021-01-05T16:42:24.237389Z",
     "shell.execute_reply": "2021-01-05T16:42:24.237026Z"
    },
    "papermill": {
     "duration": 0.093592,
     "end_time": "2021-01-05T16:42:24.237476",
     "exception": false,
     "start_time": "2021-01-05T16:42:24.143884",
     "status": "completed"
    },
    "tags": []
   },
   "outputs": [
    {
     "data": {
      "text/html": [
       "<div>\n",
       "<style scoped>\n",
       "    .dataframe tbody tr th:only-of-type {\n",
       "        vertical-align: middle;\n",
       "    }\n",
       "\n",
       "    .dataframe tbody tr th {\n",
       "        vertical-align: top;\n",
       "    }\n",
       "\n",
       "    .dataframe thead th {\n",
       "        text-align: right;\n",
       "    }\n",
       "</style>\n",
       "<table border=\"1\" class=\"dataframe\">\n",
       "  <thead>\n",
       "    <tr style=\"text-align: right;\">\n",
       "      <th></th>\n",
       "      <th>0</th>\n",
       "      <th>1</th>\n",
       "      <th>2</th>\n",
       "      <th>3</th>\n",
       "      <th>4</th>\n",
       "      <th>5</th>\n",
       "      <th>6</th>\n",
       "      <th>7</th>\n",
       "      <th>8</th>\n",
       "      <th>9</th>\n",
       "    </tr>\n",
       "  </thead>\n",
       "  <tbody>\n",
       "    <tr>\n",
       "      <th>2</th>\n",
       "      <td>1.000000</td>\n",
       "      <td>1.000000</td>\n",
       "      <td>1.000000</td>\n",
       "      <td>1.000000</td>\n",
       "      <td>1.000000</td>\n",
       "      <td>1.000000</td>\n",
       "      <td>1.000000</td>\n",
       "      <td>1.000000</td>\n",
       "      <td>1.000000</td>\n",
       "      <td>1.000000</td>\n",
       "    </tr>\n",
       "    <tr>\n",
       "      <th>3</th>\n",
       "      <td>0.994362</td>\n",
       "      <td>0.994362</td>\n",
       "      <td>0.948876</td>\n",
       "      <td>0.999807</td>\n",
       "      <td>1.000000</td>\n",
       "      <td>0.954285</td>\n",
       "      <td>0.994548</td>\n",
       "      <td>0.954285</td>\n",
       "      <td>0.994548</td>\n",
       "      <td>0.949037</td>\n",
       "    </tr>\n",
       "    <tr>\n",
       "      <th>4</th>\n",
       "      <td>1.000000</td>\n",
       "      <td>0.999825</td>\n",
       "      <td>1.000000</td>\n",
       "      <td>1.000000</td>\n",
       "      <td>0.999825</td>\n",
       "      <td>1.000000</td>\n",
       "      <td>1.000000</td>\n",
       "      <td>0.999825</td>\n",
       "      <td>0.999825</td>\n",
       "      <td>1.000000</td>\n",
       "    </tr>\n",
       "    <tr>\n",
       "      <th>5</th>\n",
       "      <td>0.875863</td>\n",
       "      <td>0.887689</td>\n",
       "      <td>0.875863</td>\n",
       "      <td>0.875863</td>\n",
       "      <td>0.985206</td>\n",
       "      <td>1.000000</td>\n",
       "      <td>1.000000</td>\n",
       "      <td>0.985206</td>\n",
       "      <td>0.985206</td>\n",
       "      <td>1.000000</td>\n",
       "    </tr>\n",
       "    <tr>\n",
       "      <th>6</th>\n",
       "      <td>0.687767</td>\n",
       "      <td>0.977985</td>\n",
       "      <td>0.977524</td>\n",
       "      <td>0.977937</td>\n",
       "      <td>0.675709</td>\n",
       "      <td>0.675443</td>\n",
       "      <td>0.675672</td>\n",
       "      <td>0.999306</td>\n",
       "      <td>0.999886</td>\n",
       "      <td>0.999337</td>\n",
       "    </tr>\n",
       "  </tbody>\n",
       "</table>\n",
       "</div>"
      ],
      "text/plain": [
       "          0         1         2         3         4         5         6  \\\n",
       "2  1.000000  1.000000  1.000000  1.000000  1.000000  1.000000  1.000000   \n",
       "3  0.994362  0.994362  0.948876  0.999807  1.000000  0.954285  0.994548   \n",
       "4  1.000000  0.999825  1.000000  1.000000  0.999825  1.000000  1.000000   \n",
       "5  0.875863  0.887689  0.875863  0.875863  0.985206  1.000000  1.000000   \n",
       "6  0.687767  0.977985  0.977524  0.977937  0.675709  0.675443  0.675672   \n",
       "\n",
       "          7         8         9  \n",
       "2  1.000000  1.000000  1.000000  \n",
       "3  0.954285  0.994548  0.949037  \n",
       "4  0.999825  0.999825  1.000000  \n",
       "5  0.985206  0.985206  1.000000  \n",
       "6  0.999306  0.999886  0.999337  "
      ]
     },
     "execution_count": 43,
     "metadata": {},
     "output_type": "execute_result"
    }
   ],
   "source": [
    "parts_ari_df.head()"
   ]
  },
  {
   "cell_type": "markdown",
   "metadata": {
    "papermill": {
     "duration": 0.074686,
     "end_time": "2021-01-05T16:42:24.387151",
     "exception": false,
     "start_time": "2021-01-05T16:42:24.312465",
     "status": "completed"
    },
    "tags": []
   },
   "source": [
    "## Save"
   ]
  },
  {
   "cell_type": "code",
   "execution_count": 44,
   "metadata": {
    "execution": {
     "iopub.execute_input": "2021-01-05T16:42:24.535188Z",
     "iopub.status.busy": "2021-01-05T16:42:24.534826Z",
     "iopub.status.idle": "2021-01-05T16:42:24.547276Z",
     "shell.execute_reply": "2021-01-05T16:42:24.547574Z"
    },
    "papermill": {
     "duration": 0.08788,
     "end_time": "2021-01-05T16:42:24.547684",
     "exception": false,
     "start_time": "2021-01-05T16:42:24.459804",
     "status": "completed"
    },
    "tags": []
   },
   "outputs": [
    {
     "data": {
      "text/plain": [
       "PosixPath('/home/miltondp/projects/labs/greenelab/phenoplier/base3/results/clustering/runs/z_score_std-projection-smultixcan-efo_partial-mashr-zscores/KMeans-stability-KMEANS_N_INIT_10-K_MAX_60-K_MIN_2-N_REPS_PER_K_5.pkl')"
      ]
     },
     "metadata": {},
     "output_type": "display_data"
    }
   ],
   "source": [
    "output_filename = Path(\n",
    "    RESULTS_DIR,\n",
    "    generate_result_set_name(\n",
    "        CLUSTERING_OPTIONS,\n",
    "        prefix=f\"{clustering_method_name}-stability-\",\n",
    "        suffix=\".pkl\",\n",
    "    ),\n",
    ").resolve()\n",
    "display(output_filename)"
   ]
  },
  {
   "cell_type": "code",
   "execution_count": 45,
   "metadata": {
    "execution": {
     "iopub.execute_input": "2021-01-05T16:42:24.697996Z",
     "iopub.status.busy": "2021-01-05T16:42:24.697623Z",
     "iopub.status.idle": "2021-01-05T16:42:24.710479Z",
     "shell.execute_reply": "2021-01-05T16:42:24.710091Z"
    },
    "papermill": {
     "duration": 0.088711,
     "end_time": "2021-01-05T16:42:24.710569",
     "exception": false,
     "start_time": "2021-01-05T16:42:24.621858",
     "status": "completed"
    },
    "tags": []
   },
   "outputs": [],
   "source": [
    "parts_ari_df.to_pickle(output_filename)"
   ]
  },
  {
   "cell_type": "markdown",
   "metadata": {
    "papermill": {
     "duration": 0.072476,
     "end_time": "2021-01-05T16:42:24.856137",
     "exception": false,
     "start_time": "2021-01-05T16:42:24.783661",
     "status": "completed"
    },
    "tags": []
   },
   "source": [
    "## Stability plot"
   ]
  },
  {
   "cell_type": "code",
   "execution_count": 46,
   "metadata": {
    "execution": {
     "iopub.execute_input": "2021-01-05T16:42:25.004000Z",
     "iopub.status.busy": "2021-01-05T16:42:25.003638Z",
     "iopub.status.idle": "2021-01-05T16:42:25.017275Z",
     "shell.execute_reply": "2021-01-05T16:42:25.016897Z"
    },
    "papermill": {
     "duration": 0.088381,
     "end_time": "2021-01-05T16:42:25.017365",
     "exception": false,
     "start_time": "2021-01-05T16:42:24.928984",
     "status": "completed"
    },
    "tags": []
   },
   "outputs": [],
   "source": [
    "parts_ari_df_plot = (\n",
    "    parts_ari_df.stack()\n",
    "    .reset_index()\n",
    "    .rename(columns={\"level_0\": \"k\", \"level_1\": \"idx\", 0: \"ari\"})\n",
    ")"
   ]
  },
  {
   "cell_type": "code",
   "execution_count": 47,
   "metadata": {
    "execution": {
     "iopub.execute_input": "2021-01-05T16:42:25.165179Z",
     "iopub.status.busy": "2021-01-05T16:42:25.164820Z",
     "iopub.status.idle": "2021-01-05T16:42:25.178402Z",
     "shell.execute_reply": "2021-01-05T16:42:25.178030Z"
    },
    "papermill": {
     "duration": 0.088293,
     "end_time": "2021-01-05T16:42:25.178491",
     "exception": false,
     "start_time": "2021-01-05T16:42:25.090198",
     "status": "completed"
    },
    "tags": []
   },
   "outputs": [
    {
     "data": {
      "text/plain": [
       "k        int64\n",
       "idx      int64\n",
       "ari    float64\n",
       "dtype: object"
      ]
     },
     "execution_count": 47,
     "metadata": {},
     "output_type": "execute_result"
    }
   ],
   "source": [
    "parts_ari_df_plot.dtypes"
   ]
  },
  {
   "cell_type": "code",
   "execution_count": 48,
   "metadata": {
    "execution": {
     "iopub.execute_input": "2021-01-05T16:42:25.332106Z",
     "iopub.status.busy": "2021-01-05T16:42:25.329199Z",
     "iopub.status.idle": "2021-01-05T16:42:25.345201Z",
     "shell.execute_reply": "2021-01-05T16:42:25.344815Z"
    },
    "papermill": {
     "duration": 0.093011,
     "end_time": "2021-01-05T16:42:25.345292",
     "exception": false,
     "start_time": "2021-01-05T16:42:25.252281",
     "status": "completed"
    },
    "tags": []
   },
   "outputs": [
    {
     "data": {
      "text/html": [
       "<div>\n",
       "<style scoped>\n",
       "    .dataframe tbody tr th:only-of-type {\n",
       "        vertical-align: middle;\n",
       "    }\n",
       "\n",
       "    .dataframe tbody tr th {\n",
       "        vertical-align: top;\n",
       "    }\n",
       "\n",
       "    .dataframe thead th {\n",
       "        text-align: right;\n",
       "    }\n",
       "</style>\n",
       "<table border=\"1\" class=\"dataframe\">\n",
       "  <thead>\n",
       "    <tr style=\"text-align: right;\">\n",
       "      <th></th>\n",
       "      <th>k</th>\n",
       "      <th>idx</th>\n",
       "      <th>ari</th>\n",
       "    </tr>\n",
       "  </thead>\n",
       "  <tbody>\n",
       "    <tr>\n",
       "      <th>0</th>\n",
       "      <td>2</td>\n",
       "      <td>0</td>\n",
       "      <td>1.0</td>\n",
       "    </tr>\n",
       "    <tr>\n",
       "      <th>1</th>\n",
       "      <td>2</td>\n",
       "      <td>1</td>\n",
       "      <td>1.0</td>\n",
       "    </tr>\n",
       "    <tr>\n",
       "      <th>2</th>\n",
       "      <td>2</td>\n",
       "      <td>2</td>\n",
       "      <td>1.0</td>\n",
       "    </tr>\n",
       "    <tr>\n",
       "      <th>3</th>\n",
       "      <td>2</td>\n",
       "      <td>3</td>\n",
       "      <td>1.0</td>\n",
       "    </tr>\n",
       "    <tr>\n",
       "      <th>4</th>\n",
       "      <td>2</td>\n",
       "      <td>4</td>\n",
       "      <td>1.0</td>\n",
       "    </tr>\n",
       "  </tbody>\n",
       "</table>\n",
       "</div>"
      ],
      "text/plain": [
       "   k  idx  ari\n",
       "0  2    0  1.0\n",
       "1  2    1  1.0\n",
       "2  2    2  1.0\n",
       "3  2    3  1.0\n",
       "4  2    4  1.0"
      ]
     },
     "execution_count": 48,
     "metadata": {},
     "output_type": "execute_result"
    }
   ],
   "source": [
    "parts_ari_df_plot.head()"
   ]
  },
  {
   "cell_type": "code",
   "execution_count": 49,
   "metadata": {
    "execution": {
     "iopub.execute_input": "2021-01-05T16:42:25.497163Z",
     "iopub.status.busy": "2021-01-05T16:42:25.496783Z",
     "iopub.status.idle": "2021-01-05T16:42:28.466748Z",
     "shell.execute_reply": "2021-01-05T16:42:28.466377Z"
    },
    "papermill": {
     "duration": 3.046143,
     "end_time": "2021-01-05T16:42:28.466836",
     "exception": false,
     "start_time": "2021-01-05T16:42:25.420693",
     "status": "completed"
    },
    "tags": []
   },
   "outputs": [
    {
     "data": {
      "image/png": "[encoded data removed]",
      "text/plain": [
       "<Figure size 864x432 with 1 Axes>"
      ]
     },
     "metadata": {},
     "output_type": "display_data"
    }
   ],
   "source": [
    "# with sns.axes_style('whitegrid', {'grid.linestyle': '--'}):\n",
    "with sns.plotting_context(\"talk\", font_scale=0.75), sns.axes_style(\n",
    "    \"whitegrid\", {\"grid.linestyle\": \"--\"}\n",
    "):\n",
    "    fig = plt.figure(figsize=(14, 6))\n",
    "    ax = sns.pointplot(data=parts_ari_df_plot, x=\"k\", y=\"ari\")\n",
    "    ax.set_ylabel(\"Averange ARI\")\n",
    "    ax.set_xlabel(\"Number of clusters ($k$)\")\n",
    "    ax.set_xticklabels(ax.get_xticklabels(), rotation=45)\n",
    "    #     ax.set_ylim(0.0, 1.0)\n",
    "    #     ax.set_xlim(CLUSTERING_OPTIONS['K_MIN'], CLUSTERING_OPTIONS['K_MAX'])\n",
    "    plt.grid(True)\n",
    "    plt.tight_layout()"
   ]
  },
  {
   "cell_type": "code",
   "execution_count": null,
   "metadata": {
    "papermill": {
     "duration": 0.074239,
     "end_time": "2021-01-05T16:42:28.615857",
     "exception": false,
     "start_time": "2021-01-05T16:42:28.541618",
     "status": "completed"
    },
    "tags": []
   },
   "outputs": [],
   "source": []
  }
 ],
 "metadata": {
  "jupytext": {
   "cell_metadata_filter": "all,-execution,-papermill",
   "formats": "ipynb,py//py:percent"
  },
  "kernelspec": {
   "display_name": "Python 3",
   "language": "python",
   "name": "python3"
  },
  "language_info": {
   "codemirror_mode": {
    "name": "ipython",
    "version": 3
   },
   "file_extension": ".py",
   "mimetype": "text/x-python",
   "name": "python",
   "nbconvert_exporter": "python",
   "pygments_lexer": "ipython3",
   "version": "3.8.6"
  },
  "papermill": {
   "default_parameters": {},
   "duration": 1315.419886,
   "end_time": "2021-01-05T16:42:29.197321",
   "environment_variables": {},
   "exception": null,
   "input_path": "15_cluster_analysis/000_00-kmeans-z_score_std.ipynb",
   "output_path": "15_cluster_analysis/000_00-kmeans-z_score_std.run.ipynb",
   "parameters": {},
   "start_time": "2021-01-05T16:20:33.777435",
   "version": "2.2.2"
  },
  "toc-autonumbering": true,
  "toc-showcode": false,
  "toc-showmarkdowntxt": false,
  "toc-showtags": false
 },
 "nbformat": 4,
 "nbformat_minor": 4
}
