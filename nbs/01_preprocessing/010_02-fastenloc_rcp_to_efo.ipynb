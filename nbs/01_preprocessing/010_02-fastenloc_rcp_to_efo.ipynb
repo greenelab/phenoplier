{
 "cells": [
  {
   "cell_type": "markdown",
   "metadata": {
    "papermill": {
     "duration": 0.020651,
     "end_time": "2021-03-18T03:17:44.422117",
     "exception": false,
     "start_time": "2021-03-18T03:17:44.401466",
     "status": "completed"
    },
    "tags": []
   },
   "source": [
    "# Description"
   ]
  },
  {
   "cell_type": "markdown",
   "metadata": {
    "papermill": {
     "duration": 0.016809,
     "end_time": "2021-03-18T03:17:44.456035",
     "exception": false,
     "start_time": "2021-03-18T03:17:44.439226",
     "status": "completed"
    },
    "tags": []
   },
   "source": [
    "It uses the PhenomeXcan traits to EFO mapping files to group traits that end up having the same EFO label. This only combines the fastENLOC results (RCPs) by taking the maximum value across all traits with the same EFO label."
   ]
  },
  {
   "cell_type": "markdown",
   "metadata": {
    "papermill": {
     "duration": 0.017194,
     "end_time": "2021-03-18T03:17:44.490605",
     "exception": false,
     "start_time": "2021-03-18T03:17:44.473411",
     "status": "completed"
    },
    "tags": []
   },
   "source": [
    "# Modules loading"
   ]
  },
  {
   "cell_type": "code",
   "execution_count": 1,
   "metadata": {
    "execution": {
     "iopub.execute_input": "2021-03-18T03:17:44.532008Z",
     "iopub.status.busy": "2021-03-18T03:17:44.531617Z",
     "iopub.status.idle": "2021-03-18T03:17:44.540018Z",
     "shell.execute_reply": "2021-03-18T03:17:44.539581Z"
    },
    "papermill": {
     "duration": 0.031489,
     "end_time": "2021-03-18T03:17:44.540109",
     "exception": false,
     "start_time": "2021-03-18T03:17:44.508620",
     "status": "completed"
    },
    "tags": []
   },
   "outputs": [],
   "source": [
    "%load_ext autoreload\n",
    "%autoreload 2"
   ]
  },
  {
   "cell_type": "code",
   "execution_count": 2,
   "metadata": {
    "execution": {
     "iopub.execute_input": "2021-03-18T03:17:44.578396Z",
     "iopub.status.busy": "2021-03-18T03:17:44.578023Z",
     "iopub.status.idle": "2021-03-18T03:17:44.944404Z",
     "shell.execute_reply": "2021-03-18T03:17:44.943960Z"
    },
    "papermill": {
     "duration": 0.386305,
     "end_time": "2021-03-18T03:17:44.944503",
     "exception": false,
     "start_time": "2021-03-18T03:17:44.558198",
     "status": "completed"
    },
    "tags": []
   },
   "outputs": [],
   "source": [
    "from IPython.display import display\n",
    "import numpy as np\n",
    "import pandas as pd\n",
    "\n",
    "import conf\n",
    "from data.cache import read_data\n",
    "from entity import Trait"
   ]
  },
  {
   "cell_type": "markdown",
   "metadata": {
    "papermill": {
     "duration": 0.017924,
     "end_time": "2021-03-18T03:17:44.981938",
     "exception": false,
     "start_time": "2021-03-18T03:17:44.964014",
     "status": "completed"
    },
    "tags": []
   },
   "source": [
    "# Load fastENLOC"
   ]
  },
  {
   "cell_type": "code",
   "execution_count": 3,
   "metadata": {
    "execution": {
     "iopub.execute_input": "2021-03-18T03:17:45.019326Z",
     "iopub.status.busy": "2021-03-18T03:17:45.018967Z",
     "iopub.status.idle": "2021-03-18T03:17:45.574895Z",
     "shell.execute_reply": "2021-03-18T03:17:45.575251Z"
    },
    "papermill": {
     "duration": 0.576057,
     "end_time": "2021-03-18T03:17:45.575381",
     "exception": false,
     "start_time": "2021-03-18T03:17:44.999324",
     "status": "completed"
    },
    "tags": []
   },
   "outputs": [],
   "source": [
    "fastenloc_rcps = read_data(conf.PHENOMEXCAN[\"FASTENLOC_TORUS_RCP_FILE\"])"
   ]
  },
  {
   "cell_type": "code",
   "execution_count": 4,
   "metadata": {
    "execution": {
     "iopub.execute_input": "2021-03-18T03:17:45.616521Z",
     "iopub.status.busy": "2021-03-18T03:17:45.616169Z",
     "iopub.status.idle": "2021-03-18T03:17:45.627937Z",
     "shell.execute_reply": "2021-03-18T03:17:45.628246Z"
    },
    "papermill": {
     "duration": 0.032263,
     "end_time": "2021-03-18T03:17:45.628350",
     "exception": false,
     "start_time": "2021-03-18T03:17:45.596087",
     "status": "completed"
    },
    "tags": []
   },
   "outputs": [
    {
     "data": {
      "text/plain": [
       "(38062, 4091)"
      ]
     },
     "execution_count": 4,
     "metadata": {},
     "output_type": "execute_result"
    }
   ],
   "source": [
    "fastenloc_rcps.shape"
   ]
  },
  {
   "cell_type": "code",
   "execution_count": 5,
   "metadata": {
    "execution": {
     "iopub.execute_input": "2021-03-18T03:17:45.665975Z",
     "iopub.status.busy": "2021-03-18T03:17:45.665621Z",
     "iopub.status.idle": "2021-03-18T03:17:45.686363Z",
     "shell.execute_reply": "2021-03-18T03:17:45.686041Z"
    },
    "papermill": {
     "duration": 0.040003,
     "end_time": "2021-03-18T03:17:45.686448",
     "exception": false,
     "start_time": "2021-03-18T03:17:45.646445",
     "status": "completed"
    },
    "tags": []
   },
   "outputs": [
    {
     "data": {
      "text/html": [
       "<div>\n",
       "<style scoped>\n",
       "    .dataframe tbody tr th:only-of-type {\n",
       "        vertical-align: middle;\n",
       "    }\n",
       "\n",
       "    .dataframe tbody tr th {\n",
       "        vertical-align: top;\n",
       "    }\n",
       "\n",
       "    .dataframe thead th {\n",
       "        text-align: right;\n",
       "    }\n",
       "</style>\n",
       "<table border=\"1\" class=\"dataframe\">\n",
       "  <thead>\n",
       "    <tr style=\"text-align: right;\">\n",
       "      <th></th>\n",
       "      <th>O46-Diagnoses_main_ICD10_O46_Antepartum_haemorrhage_not_elsewhere_classified</th>\n",
       "      <th>K30-Diagnoses_main_ICD10_K30_Dyspepsia</th>\n",
       "      <th>2907-Ever_stopped_smoking_for_6_months</th>\n",
       "      <th>H7_DIPLOPIA-Diplopia</th>\n",
       "      <th>1538_0-Major_dietary_changes_in_the_last_5_years_No</th>\n",
       "      <th>5663-Length_of_longest_manicirritable_episode</th>\n",
       "      <th>20002_1538-Noncancer_illness_code_selfreported_arthritis_nos</th>\n",
       "      <th>S30-Diagnoses_main_ICD10_S30_Superficial_injury_of_abdomen_lower_back_and_pelvis</th>\n",
       "      <th>24010_raw-Inverse_distance_to_the_nearest_road</th>\n",
       "      <th>3143_raw-Ankle_spacing_width</th>\n",
       "      <th>...</th>\n",
       "      <th>2237-Plays_computer_games</th>\n",
       "      <th>20002_1461-Noncancer_illness_code_selfreported_inflammatory_bowel_disease</th>\n",
       "      <th>20002_1508-Noncancer_illness_code_selfreported_jaundice_unknown_cause</th>\n",
       "      <th>20003_1140881882-Treatmentmedication_code_timoptol_025_eye_drops</th>\n",
       "      <th>22601_71253330-Job_coding_merchandiser_window_dresser</th>\n",
       "      <th>23112_raw-Leg_fat_mass_right</th>\n",
       "      <th>20003_1140861778-Treatmentmedication_code_dipyridamole</th>\n",
       "      <th>20003_1199-Treatmentmedication_code_food_supplementplantherbal_extract</th>\n",
       "      <th>1309-Fresh_fruit_intake</th>\n",
       "      <th>100920_2105-Type_milk_consumed_soya_with_calcium</th>\n",
       "    </tr>\n",
       "    <tr>\n",
       "      <th>gene_id</th>\n",
       "      <th></th>\n",
       "      <th></th>\n",
       "      <th></th>\n",
       "      <th></th>\n",
       "      <th></th>\n",
       "      <th></th>\n",
       "      <th></th>\n",
       "      <th></th>\n",
       "      <th></th>\n",
       "      <th></th>\n",
       "      <th></th>\n",
       "      <th></th>\n",
       "      <th></th>\n",
       "      <th></th>\n",
       "      <th></th>\n",
       "      <th></th>\n",
       "      <th></th>\n",
       "      <th></th>\n",
       "      <th></th>\n",
       "      <th></th>\n",
       "      <th></th>\n",
       "    </tr>\n",
       "  </thead>\n",
       "  <tbody>\n",
       "    <tr>\n",
       "      <th>ENSG00000000419</th>\n",
       "      <td>NaN</td>\n",
       "      <td>NaN</td>\n",
       "      <td>NaN</td>\n",
       "      <td>NaN</td>\n",
       "      <td>0.001213</td>\n",
       "      <td>NaN</td>\n",
       "      <td>NaN</td>\n",
       "      <td>NaN</td>\n",
       "      <td>NaN</td>\n",
       "      <td>NaN</td>\n",
       "      <td>...</td>\n",
       "      <td>NaN</td>\n",
       "      <td>NaN</td>\n",
       "      <td>NaN</td>\n",
       "      <td>NaN</td>\n",
       "      <td>NaN</td>\n",
       "      <td>NaN</td>\n",
       "      <td>NaN</td>\n",
       "      <td>NaN</td>\n",
       "      <td>0.002131</td>\n",
       "      <td>NaN</td>\n",
       "    </tr>\n",
       "    <tr>\n",
       "      <th>ENSG00000000457</th>\n",
       "      <td>NaN</td>\n",
       "      <td>NaN</td>\n",
       "      <td>NaN</td>\n",
       "      <td>NaN</td>\n",
       "      <td>0.001873</td>\n",
       "      <td>NaN</td>\n",
       "      <td>NaN</td>\n",
       "      <td>NaN</td>\n",
       "      <td>NaN</td>\n",
       "      <td>0.017720</td>\n",
       "      <td>...</td>\n",
       "      <td>0.068852</td>\n",
       "      <td>NaN</td>\n",
       "      <td>NaN</td>\n",
       "      <td>NaN</td>\n",
       "      <td>NaN</td>\n",
       "      <td>0.003383</td>\n",
       "      <td>NaN</td>\n",
       "      <td>NaN</td>\n",
       "      <td>0.009195</td>\n",
       "      <td>NaN</td>\n",
       "    </tr>\n",
       "    <tr>\n",
       "      <th>ENSG00000000460</th>\n",
       "      <td>NaN</td>\n",
       "      <td>NaN</td>\n",
       "      <td>NaN</td>\n",
       "      <td>NaN</td>\n",
       "      <td>0.002620</td>\n",
       "      <td>NaN</td>\n",
       "      <td>NaN</td>\n",
       "      <td>0.000207</td>\n",
       "      <td>NaN</td>\n",
       "      <td>0.000105</td>\n",
       "      <td>...</td>\n",
       "      <td>0.093284</td>\n",
       "      <td>NaN</td>\n",
       "      <td>NaN</td>\n",
       "      <td>NaN</td>\n",
       "      <td>NaN</td>\n",
       "      <td>0.008790</td>\n",
       "      <td>NaN</td>\n",
       "      <td>NaN</td>\n",
       "      <td>0.003105</td>\n",
       "      <td>NaN</td>\n",
       "    </tr>\n",
       "    <tr>\n",
       "      <th>ENSG00000000938</th>\n",
       "      <td>NaN</td>\n",
       "      <td>NaN</td>\n",
       "      <td>NaN</td>\n",
       "      <td>NaN</td>\n",
       "      <td>0.002928</td>\n",
       "      <td>NaN</td>\n",
       "      <td>NaN</td>\n",
       "      <td>NaN</td>\n",
       "      <td>0.000762</td>\n",
       "      <td>0.012773</td>\n",
       "      <td>...</td>\n",
       "      <td>0.004300</td>\n",
       "      <td>NaN</td>\n",
       "      <td>NaN</td>\n",
       "      <td>0.000424</td>\n",
       "      <td>NaN</td>\n",
       "      <td>0.000612</td>\n",
       "      <td>NaN</td>\n",
       "      <td>NaN</td>\n",
       "      <td>0.003240</td>\n",
       "      <td>NaN</td>\n",
       "    </tr>\n",
       "    <tr>\n",
       "      <th>ENSG00000000971</th>\n",
       "      <td>NaN</td>\n",
       "      <td>NaN</td>\n",
       "      <td>NaN</td>\n",
       "      <td>NaN</td>\n",
       "      <td>0.002858</td>\n",
       "      <td>NaN</td>\n",
       "      <td>NaN</td>\n",
       "      <td>NaN</td>\n",
       "      <td>NaN</td>\n",
       "      <td>0.019304</td>\n",
       "      <td>...</td>\n",
       "      <td>0.005419</td>\n",
       "      <td>NaN</td>\n",
       "      <td>NaN</td>\n",
       "      <td>NaN</td>\n",
       "      <td>NaN</td>\n",
       "      <td>0.007427</td>\n",
       "      <td>NaN</td>\n",
       "      <td>NaN</td>\n",
       "      <td>0.004804</td>\n",
       "      <td>NaN</td>\n",
       "    </tr>\n",
       "  </tbody>\n",
       "</table>\n",
       "<p>5 rows × 4091 columns</p>\n",
       "</div>"
      ],
      "text/plain": [
       "                 O46-Diagnoses_main_ICD10_O46_Antepartum_haemorrhage_not_elsewhere_classified  \\\n",
       "gene_id                                                                                         \n",
       "ENSG00000000419                                                NaN                              \n",
       "ENSG00000000457                                                NaN                              \n",
       "ENSG00000000460                                                NaN                              \n",
       "ENSG00000000938                                                NaN                              \n",
       "ENSG00000000971                                                NaN                              \n",
       "\n",
       "                 K30-Diagnoses_main_ICD10_K30_Dyspepsia  \\\n",
       "gene_id                                                   \n",
       "ENSG00000000419                                     NaN   \n",
       "ENSG00000000457                                     NaN   \n",
       "ENSG00000000460                                     NaN   \n",
       "ENSG00000000938                                     NaN   \n",
       "ENSG00000000971                                     NaN   \n",
       "\n",
       "                 2907-Ever_stopped_smoking_for_6_months  H7_DIPLOPIA-Diplopia  \\\n",
       "gene_id                                                                         \n",
       "ENSG00000000419                                     NaN                   NaN   \n",
       "ENSG00000000457                                     NaN                   NaN   \n",
       "ENSG00000000460                                     NaN                   NaN   \n",
       "ENSG00000000938                                     NaN                   NaN   \n",
       "ENSG00000000971                                     NaN                   NaN   \n",
       "\n",
       "                 1538_0-Major_dietary_changes_in_the_last_5_years_No  \\\n",
       "gene_id                                                                \n",
       "ENSG00000000419                                           0.001213     \n",
       "ENSG00000000457                                           0.001873     \n",
       "ENSG00000000460                                           0.002620     \n",
       "ENSG00000000938                                           0.002928     \n",
       "ENSG00000000971                                           0.002858     \n",
       "\n",
       "                 5663-Length_of_longest_manicirritable_episode  \\\n",
       "gene_id                                                          \n",
       "ENSG00000000419                                            NaN   \n",
       "ENSG00000000457                                            NaN   \n",
       "ENSG00000000460                                            NaN   \n",
       "ENSG00000000938                                            NaN   \n",
       "ENSG00000000971                                            NaN   \n",
       "\n",
       "                 20002_1538-Noncancer_illness_code_selfreported_arthritis_nos  \\\n",
       "gene_id                                                                         \n",
       "ENSG00000000419                                                NaN              \n",
       "ENSG00000000457                                                NaN              \n",
       "ENSG00000000460                                                NaN              \n",
       "ENSG00000000938                                                NaN              \n",
       "ENSG00000000971                                                NaN              \n",
       "\n",
       "                 S30-Diagnoses_main_ICD10_S30_Superficial_injury_of_abdomen_lower_back_and_pelvis  \\\n",
       "gene_id                                                                                             \n",
       "ENSG00000000419                                                NaN                                  \n",
       "ENSG00000000457                                                NaN                                  \n",
       "ENSG00000000460                                           0.000207                                  \n",
       "ENSG00000000938                                                NaN                                  \n",
       "ENSG00000000971                                                NaN                                  \n",
       "\n",
       "                 24010_raw-Inverse_distance_to_the_nearest_road  \\\n",
       "gene_id                                                           \n",
       "ENSG00000000419                                             NaN   \n",
       "ENSG00000000457                                             NaN   \n",
       "ENSG00000000460                                             NaN   \n",
       "ENSG00000000938                                        0.000762   \n",
       "ENSG00000000971                                             NaN   \n",
       "\n",
       "                 3143_raw-Ankle_spacing_width  ...  2237-Plays_computer_games  \\\n",
       "gene_id                                        ...                              \n",
       "ENSG00000000419                           NaN  ...                        NaN   \n",
       "ENSG00000000457                      0.017720  ...                   0.068852   \n",
       "ENSG00000000460                      0.000105  ...                   0.093284   \n",
       "ENSG00000000938                      0.012773  ...                   0.004300   \n",
       "ENSG00000000971                      0.019304  ...                   0.005419   \n",
       "\n",
       "                 20002_1461-Noncancer_illness_code_selfreported_inflammatory_bowel_disease  \\\n",
       "gene_id                                                                                      \n",
       "ENSG00000000419                                                NaN                           \n",
       "ENSG00000000457                                                NaN                           \n",
       "ENSG00000000460                                                NaN                           \n",
       "ENSG00000000938                                                NaN                           \n",
       "ENSG00000000971                                                NaN                           \n",
       "\n",
       "                 20002_1508-Noncancer_illness_code_selfreported_jaundice_unknown_cause  \\\n",
       "gene_id                                                                                  \n",
       "ENSG00000000419                                                NaN                       \n",
       "ENSG00000000457                                                NaN                       \n",
       "ENSG00000000460                                                NaN                       \n",
       "ENSG00000000938                                                NaN                       \n",
       "ENSG00000000971                                                NaN                       \n",
       "\n",
       "                 20003_1140881882-Treatmentmedication_code_timoptol_025_eye_drops  \\\n",
       "gene_id                                                                             \n",
       "ENSG00000000419                                                NaN                  \n",
       "ENSG00000000457                                                NaN                  \n",
       "ENSG00000000460                                                NaN                  \n",
       "ENSG00000000938                                           0.000424                  \n",
       "ENSG00000000971                                                NaN                  \n",
       "\n",
       "                 22601_71253330-Job_coding_merchandiser_window_dresser  \\\n",
       "gene_id                                                                  \n",
       "ENSG00000000419                                                NaN       \n",
       "ENSG00000000457                                                NaN       \n",
       "ENSG00000000460                                                NaN       \n",
       "ENSG00000000938                                                NaN       \n",
       "ENSG00000000971                                                NaN       \n",
       "\n",
       "                 23112_raw-Leg_fat_mass_right  \\\n",
       "gene_id                                         \n",
       "ENSG00000000419                           NaN   \n",
       "ENSG00000000457                      0.003383   \n",
       "ENSG00000000460                      0.008790   \n",
       "ENSG00000000938                      0.000612   \n",
       "ENSG00000000971                      0.007427   \n",
       "\n",
       "                 20003_1140861778-Treatmentmedication_code_dipyridamole  \\\n",
       "gene_id                                                                   \n",
       "ENSG00000000419                                                NaN        \n",
       "ENSG00000000457                                                NaN        \n",
       "ENSG00000000460                                                NaN        \n",
       "ENSG00000000938                                                NaN        \n",
       "ENSG00000000971                                                NaN        \n",
       "\n",
       "                 20003_1199-Treatmentmedication_code_food_supplementplantherbal_extract  \\\n",
       "gene_id                                                                                   \n",
       "ENSG00000000419                                                NaN                        \n",
       "ENSG00000000457                                                NaN                        \n",
       "ENSG00000000460                                                NaN                        \n",
       "ENSG00000000938                                                NaN                        \n",
       "ENSG00000000971                                                NaN                        \n",
       "\n",
       "                 1309-Fresh_fruit_intake  \\\n",
       "gene_id                                    \n",
       "ENSG00000000419                 0.002131   \n",
       "ENSG00000000457                 0.009195   \n",
       "ENSG00000000460                 0.003105   \n",
       "ENSG00000000938                 0.003240   \n",
       "ENSG00000000971                 0.004804   \n",
       "\n",
       "                 100920_2105-Type_milk_consumed_soya_with_calcium  \n",
       "gene_id                                                            \n",
       "ENSG00000000419                                               NaN  \n",
       "ENSG00000000457                                               NaN  \n",
       "ENSG00000000460                                               NaN  \n",
       "ENSG00000000938                                               NaN  \n",
       "ENSG00000000971                                               NaN  \n",
       "\n",
       "[5 rows x 4091 columns]"
      ]
     },
     "execution_count": 5,
     "metadata": {},
     "output_type": "execute_result"
    }
   ],
   "source": [
    "fastenloc_rcps.head()"
   ]
  },
  {
   "cell_type": "markdown",
   "metadata": {
    "papermill": {
     "duration": 0.018105,
     "end_time": "2021-03-18T03:17:45.723558",
     "exception": false,
     "start_time": "2021-03-18T03:17:45.705453",
     "status": "completed"
    },
    "tags": []
   },
   "source": [
    "# Load S-MultiXcan z-scores (EFO-mapped)"
   ]
  },
  {
   "cell_type": "code",
   "execution_count": 6,
   "metadata": {
    "execution": {
     "iopub.execute_input": "2021-03-18T03:17:45.761578Z",
     "iopub.status.busy": "2021-03-18T03:17:45.761220Z",
     "iopub.status.idle": "2021-03-18T03:17:46.043382Z",
     "shell.execute_reply": "2021-03-18T03:17:46.043717Z"
    },
    "papermill": {
     "duration": 0.302449,
     "end_time": "2021-03-18T03:17:46.043842",
     "exception": false,
     "start_time": "2021-03-18T03:17:45.741393",
     "status": "completed"
    },
    "tags": []
   },
   "outputs": [],
   "source": [
    "smultixcan_zscores_combined = read_data(\n",
    "    conf.PHENOMEXCAN[\"SMULTIXCAN_EFO_PARTIAL_MASHR_ZSCORES_FILE\"]\n",
    ")"
   ]
  },
  {
   "cell_type": "code",
   "execution_count": 7,
   "metadata": {
    "execution": {
     "iopub.execute_input": "2021-03-18T03:17:46.085440Z",
     "iopub.status.busy": "2021-03-18T03:17:46.085076Z",
     "iopub.status.idle": "2021-03-18T03:17:46.092805Z",
     "shell.execute_reply": "2021-03-18T03:17:46.092398Z"
    },
    "papermill": {
     "duration": 0.028567,
     "end_time": "2021-03-18T03:17:46.092890",
     "exception": false,
     "start_time": "2021-03-18T03:17:46.064323",
     "status": "completed"
    },
    "tags": []
   },
   "outputs": [
    {
     "data": {
      "text/plain": [
       "(22515, 3752)"
      ]
     },
     "execution_count": 7,
     "metadata": {},
     "output_type": "execute_result"
    }
   ],
   "source": [
    "smultixcan_zscores_combined.shape"
   ]
  },
  {
   "cell_type": "code",
   "execution_count": 8,
   "metadata": {
    "execution": {
     "iopub.execute_input": "2021-03-18T03:17:46.130975Z",
     "iopub.status.busy": "2021-03-18T03:17:46.130618Z",
     "iopub.status.idle": "2021-03-18T03:17:46.150300Z",
     "shell.execute_reply": "2021-03-18T03:17:46.149915Z"
    },
    "papermill": {
     "duration": 0.039475,
     "end_time": "2021-03-18T03:17:46.150386",
     "exception": false,
     "start_time": "2021-03-18T03:17:46.110911",
     "status": "completed"
    },
    "tags": []
   },
   "outputs": [
    {
     "data": {
      "text/html": [
       "<div>\n",
       "<style scoped>\n",
       "    .dataframe tbody tr th:only-of-type {\n",
       "        vertical-align: middle;\n",
       "    }\n",
       "\n",
       "    .dataframe tbody tr th {\n",
       "        vertical-align: top;\n",
       "    }\n",
       "\n",
       "    .dataframe thead th {\n",
       "        text-align: right;\n",
       "    }\n",
       "</style>\n",
       "<table border=\"1\" class=\"dataframe\">\n",
       "  <thead>\n",
       "    <tr style=\"text-align: right;\">\n",
       "      <th></th>\n",
       "      <th>100001_raw-Food_weight</th>\n",
       "      <th>100002_raw-Energy</th>\n",
       "      <th>100003_raw-Protein</th>\n",
       "      <th>100004_raw-Fat</th>\n",
       "      <th>100005_raw-Carbohydrate</th>\n",
       "      <th>100006_raw-Saturated_fat</th>\n",
       "      <th>100007_raw-Polyunsaturated_fat</th>\n",
       "      <th>100008_raw-Total_sugars</th>\n",
       "      <th>100009_raw-Englyst_dietary_fibre</th>\n",
       "      <th>100010-Portion_size</th>\n",
       "      <th>...</th>\n",
       "      <th>visual impairment</th>\n",
       "      <th>vitiligo</th>\n",
       "      <th>vitreous body disease</th>\n",
       "      <th>vocal cord polyp</th>\n",
       "      <th>voice disorders</th>\n",
       "      <th>wellbeing measurement AND family relationship</th>\n",
       "      <th>wheezing</th>\n",
       "      <th>whooping cough</th>\n",
       "      <th>worry measurement</th>\n",
       "      <th>wrist fracture</th>\n",
       "    </tr>\n",
       "    <tr>\n",
       "      <th>gene_name</th>\n",
       "      <th></th>\n",
       "      <th></th>\n",
       "      <th></th>\n",
       "      <th></th>\n",
       "      <th></th>\n",
       "      <th></th>\n",
       "      <th></th>\n",
       "      <th></th>\n",
       "      <th></th>\n",
       "      <th></th>\n",
       "      <th></th>\n",
       "      <th></th>\n",
       "      <th></th>\n",
       "      <th></th>\n",
       "      <th></th>\n",
       "      <th></th>\n",
       "      <th></th>\n",
       "      <th></th>\n",
       "      <th></th>\n",
       "      <th></th>\n",
       "      <th></th>\n",
       "    </tr>\n",
       "  </thead>\n",
       "  <tbody>\n",
       "    <tr>\n",
       "      <th>ENSG00000000419</th>\n",
       "      <td>1.145442</td>\n",
       "      <td>0.724557</td>\n",
       "      <td>0.090876</td>\n",
       "      <td>0.298165</td>\n",
       "      <td>1.134347</td>\n",
       "      <td>1.371138</td>\n",
       "      <td>0.065718</td>\n",
       "      <td>0.794317</td>\n",
       "      <td>0.600342</td>\n",
       "      <td>0.317652</td>\n",
       "      <td>...</td>\n",
       "      <td>0.360518</td>\n",
       "      <td>1.351624</td>\n",
       "      <td>1.157695</td>\n",
       "      <td>0.835289</td>\n",
       "      <td>1.173072</td>\n",
       "      <td>1.337280</td>\n",
       "      <td>1.743822</td>\n",
       "      <td>1.017226</td>\n",
       "      <td>1.512184</td>\n",
       "      <td>0.972241</td>\n",
       "    </tr>\n",
       "    <tr>\n",
       "      <th>ENSG00000000457</th>\n",
       "      <td>0.618066</td>\n",
       "      <td>1.028131</td>\n",
       "      <td>2.218420</td>\n",
       "      <td>0.762584</td>\n",
       "      <td>0.934418</td>\n",
       "      <td>0.192993</td>\n",
       "      <td>1.080230</td>\n",
       "      <td>0.765997</td>\n",
       "      <td>0.375898</td>\n",
       "      <td>0.678731</td>\n",
       "      <td>...</td>\n",
       "      <td>2.134504</td>\n",
       "      <td>0.127830</td>\n",
       "      <td>0.534690</td>\n",
       "      <td>0.120516</td>\n",
       "      <td>0.517464</td>\n",
       "      <td>2.545363</td>\n",
       "      <td>0.673331</td>\n",
       "      <td>2.003092</td>\n",
       "      <td>0.344000</td>\n",
       "      <td>2.033122</td>\n",
       "    </tr>\n",
       "    <tr>\n",
       "      <th>ENSG00000000460</th>\n",
       "      <td>0.515724</td>\n",
       "      <td>0.403596</td>\n",
       "      <td>1.251359</td>\n",
       "      <td>0.433091</td>\n",
       "      <td>0.413466</td>\n",
       "      <td>0.246261</td>\n",
       "      <td>1.236151</td>\n",
       "      <td>0.827430</td>\n",
       "      <td>0.571985</td>\n",
       "      <td>0.782174</td>\n",
       "      <td>...</td>\n",
       "      <td>1.768905</td>\n",
       "      <td>0.992408</td>\n",
       "      <td>0.548215</td>\n",
       "      <td>0.412341</td>\n",
       "      <td>1.499415</td>\n",
       "      <td>1.366780</td>\n",
       "      <td>0.443318</td>\n",
       "      <td>0.417630</td>\n",
       "      <td>0.225934</td>\n",
       "      <td>1.613246</td>\n",
       "    </tr>\n",
       "    <tr>\n",
       "      <th>ENSG00000000938</th>\n",
       "      <td>0.280781</td>\n",
       "      <td>0.253910</td>\n",
       "      <td>0.879148</td>\n",
       "      <td>0.352705</td>\n",
       "      <td>0.051846</td>\n",
       "      <td>0.184212</td>\n",
       "      <td>0.148566</td>\n",
       "      <td>0.009989</td>\n",
       "      <td>0.363751</td>\n",
       "      <td>0.374514</td>\n",
       "      <td>...</td>\n",
       "      <td>0.656552</td>\n",
       "      <td>2.046041</td>\n",
       "      <td>2.746832</td>\n",
       "      <td>0.108211</td>\n",
       "      <td>1.008258</td>\n",
       "      <td>0.755695</td>\n",
       "      <td>0.896228</td>\n",
       "      <td>0.875047</td>\n",
       "      <td>0.476405</td>\n",
       "      <td>1.693057</td>\n",
       "    </tr>\n",
       "    <tr>\n",
       "      <th>ENSG00000000971</th>\n",
       "      <td>0.548127</td>\n",
       "      <td>0.389877</td>\n",
       "      <td>0.723469</td>\n",
       "      <td>1.167250</td>\n",
       "      <td>0.315952</td>\n",
       "      <td>0.324939</td>\n",
       "      <td>1.613932</td>\n",
       "      <td>0.311432</td>\n",
       "      <td>0.333548</td>\n",
       "      <td>1.807243</td>\n",
       "      <td>...</td>\n",
       "      <td>0.260482</td>\n",
       "      <td>0.646204</td>\n",
       "      <td>1.080240</td>\n",
       "      <td>0.678330</td>\n",
       "      <td>1.465358</td>\n",
       "      <td>0.307672</td>\n",
       "      <td>0.118376</td>\n",
       "      <td>1.419812</td>\n",
       "      <td>0.000002</td>\n",
       "      <td>1.040737</td>\n",
       "    </tr>\n",
       "  </tbody>\n",
       "</table>\n",
       "<p>5 rows × 3752 columns</p>\n",
       "</div>"
      ],
      "text/plain": [
       "                 100001_raw-Food_weight  100002_raw-Energy  \\\n",
       "gene_name                                                    \n",
       "ENSG00000000419                1.145442           0.724557   \n",
       "ENSG00000000457                0.618066           1.028131   \n",
       "ENSG00000000460                0.515724           0.403596   \n",
       "ENSG00000000938                0.280781           0.253910   \n",
       "ENSG00000000971                0.548127           0.389877   \n",
       "\n",
       "                 100003_raw-Protein  100004_raw-Fat  100005_raw-Carbohydrate  \\\n",
       "gene_name                                                                      \n",
       "ENSG00000000419            0.090876        0.298165                 1.134347   \n",
       "ENSG00000000457            2.218420        0.762584                 0.934418   \n",
       "ENSG00000000460            1.251359        0.433091                 0.413466   \n",
       "ENSG00000000938            0.879148        0.352705                 0.051846   \n",
       "ENSG00000000971            0.723469        1.167250                 0.315952   \n",
       "\n",
       "                 100006_raw-Saturated_fat  100007_raw-Polyunsaturated_fat  \\\n",
       "gene_name                                                                   \n",
       "ENSG00000000419                  1.371138                        0.065718   \n",
       "ENSG00000000457                  0.192993                        1.080230   \n",
       "ENSG00000000460                  0.246261                        1.236151   \n",
       "ENSG00000000938                  0.184212                        0.148566   \n",
       "ENSG00000000971                  0.324939                        1.613932   \n",
       "\n",
       "                 100008_raw-Total_sugars  100009_raw-Englyst_dietary_fibre  \\\n",
       "gene_name                                                                    \n",
       "ENSG00000000419                 0.794317                          0.600342   \n",
       "ENSG00000000457                 0.765997                          0.375898   \n",
       "ENSG00000000460                 0.827430                          0.571985   \n",
       "ENSG00000000938                 0.009989                          0.363751   \n",
       "ENSG00000000971                 0.311432                          0.333548   \n",
       "\n",
       "                 100010-Portion_size  ...  visual impairment  vitiligo  \\\n",
       "gene_name                             ...                                \n",
       "ENSG00000000419             0.317652  ...           0.360518  1.351624   \n",
       "ENSG00000000457             0.678731  ...           2.134504  0.127830   \n",
       "ENSG00000000460             0.782174  ...           1.768905  0.992408   \n",
       "ENSG00000000938             0.374514  ...           0.656552  2.046041   \n",
       "ENSG00000000971             1.807243  ...           0.260482  0.646204   \n",
       "\n",
       "                 vitreous body disease  vocal cord polyp  voice disorders  \\\n",
       "gene_name                                                                   \n",
       "ENSG00000000419               1.157695          0.835289         1.173072   \n",
       "ENSG00000000457               0.534690          0.120516         0.517464   \n",
       "ENSG00000000460               0.548215          0.412341         1.499415   \n",
       "ENSG00000000938               2.746832          0.108211         1.008258   \n",
       "ENSG00000000971               1.080240          0.678330         1.465358   \n",
       "\n",
       "                 wellbeing measurement AND family relationship  wheezing  \\\n",
       "gene_name                                                                  \n",
       "ENSG00000000419                                       1.337280  1.743822   \n",
       "ENSG00000000457                                       2.545363  0.673331   \n",
       "ENSG00000000460                                       1.366780  0.443318   \n",
       "ENSG00000000938                                       0.755695  0.896228   \n",
       "ENSG00000000971                                       0.307672  0.118376   \n",
       "\n",
       "                 whooping cough  worry measurement  wrist fracture  \n",
       "gene_name                                                           \n",
       "ENSG00000000419        1.017226           1.512184        0.972241  \n",
       "ENSG00000000457        2.003092           0.344000        2.033122  \n",
       "ENSG00000000460        0.417630           0.225934        1.613246  \n",
       "ENSG00000000938        0.875047           0.476405        1.693057  \n",
       "ENSG00000000971        1.419812           0.000002        1.040737  \n",
       "\n",
       "[5 rows x 3752 columns]"
      ]
     },
     "execution_count": 8,
     "metadata": {},
     "output_type": "execute_result"
    }
   ],
   "source": [
    "smultixcan_zscores_combined.head()"
   ]
  },
  {
   "cell_type": "markdown",
   "metadata": {
    "papermill": {
     "duration": 0.018279,
     "end_time": "2021-03-18T03:17:46.187849",
     "exception": false,
     "start_time": "2021-03-18T03:17:46.169570",
     "status": "completed"
    },
    "tags": []
   },
   "source": [
    "# Get PhenomeXcan traits"
   ]
  },
  {
   "cell_type": "code",
   "execution_count": 9,
   "metadata": {
    "execution": {
     "iopub.execute_input": "2021-03-18T03:17:46.226582Z",
     "iopub.status.busy": "2021-03-18T03:17:46.226224Z",
     "iopub.status.idle": "2021-03-18T03:17:46.773884Z",
     "shell.execute_reply": "2021-03-18T03:17:46.773519Z"
    },
    "papermill": {
     "duration": 0.567992,
     "end_time": "2021-03-18T03:17:46.773967",
     "exception": false,
     "start_time": "2021-03-18T03:17:46.205975",
     "status": "completed"
    },
    "tags": []
   },
   "outputs": [],
   "source": [
    "phenomexcan_fullcode_to_traits = {\n",
    "    (trait_obj := Trait.get_trait(full_code=trait_name)).full_code: trait_obj\n",
    "    for trait_name in fastenloc_rcps.columns\n",
    "}"
   ]
  },
  {
   "cell_type": "code",
   "execution_count": 10,
   "metadata": {
    "execution": {
     "iopub.execute_input": "2021-03-18T03:17:46.813128Z",
     "iopub.status.busy": "2021-03-18T03:17:46.812734Z",
     "iopub.status.idle": "2021-03-18T03:17:46.820629Z",
     "shell.execute_reply": "2021-03-18T03:17:46.820245Z"
    },
    "papermill": {
     "duration": 0.028483,
     "end_time": "2021-03-18T03:17:46.820748",
     "exception": false,
     "start_time": "2021-03-18T03:17:46.792265",
     "status": "completed"
    },
    "tags": []
   },
   "outputs": [
    {
     "data": {
      "text/plain": [
       "4091"
      ]
     },
     "execution_count": 10,
     "metadata": {},
     "output_type": "execute_result"
    }
   ],
   "source": [
    "len(phenomexcan_fullcode_to_traits)"
   ]
  },
  {
   "cell_type": "code",
   "execution_count": 11,
   "metadata": {
    "execution": {
     "iopub.execute_input": "2021-03-18T03:17:46.860541Z",
     "iopub.status.busy": "2021-03-18T03:17:46.860186Z",
     "iopub.status.idle": "2021-03-18T03:17:46.867398Z",
     "shell.execute_reply": "2021-03-18T03:17:46.867033Z"
    },
    "papermill": {
     "duration": 0.027771,
     "end_time": "2021-03-18T03:17:46.867481",
     "exception": false,
     "start_time": "2021-03-18T03:17:46.839710",
     "status": "completed"
    },
    "tags": []
   },
   "outputs": [],
   "source": [
    "assert len(phenomexcan_fullcode_to_traits) == fastenloc_rcps.columns.shape[0]"
   ]
  },
  {
   "cell_type": "markdown",
   "metadata": {
    "papermill": {
     "duration": 0.019531,
     "end_time": "2021-03-18T03:17:46.907278",
     "exception": false,
     "start_time": "2021-03-18T03:17:46.887747",
     "status": "completed"
    },
    "tags": []
   },
   "source": [
    "# Change/combine traits in S-MultiXcan results"
   ]
  },
  {
   "cell_type": "markdown",
   "metadata": {
    "papermill": {
     "duration": 0.018197,
     "end_time": "2021-03-18T03:17:46.944215",
     "exception": false,
     "start_time": "2021-03-18T03:17:46.926018",
     "status": "completed"
    },
    "tags": []
   },
   "source": [
    "## Get a list of EFO labels for PhenomeXcan traits"
   ]
  },
  {
   "cell_type": "code",
   "execution_count": 12,
   "metadata": {
    "execution": {
     "iopub.execute_input": "2021-03-18T03:17:46.983542Z",
     "iopub.status.busy": "2021-03-18T03:17:46.983180Z",
     "iopub.status.idle": "2021-03-18T03:17:47.211919Z",
     "shell.execute_reply": "2021-03-18T03:17:47.211538Z"
    },
    "papermill": {
     "duration": 0.249447,
     "end_time": "2021-03-18T03:17:47.212005",
     "exception": false,
     "start_time": "2021-03-18T03:17:46.962558",
     "status": "completed"
    },
    "tags": []
   },
   "outputs": [],
   "source": [
    "traits_efo_labels = [\n",
    "    t.get_efo_info().label\n",
    "    if (t := phenomexcan_fullcode_to_traits[c]).get_efo_info() is not None\n",
    "    else t.full_code\n",
    "    for c in fastenloc_rcps.columns\n",
    "]"
   ]
  },
  {
   "cell_type": "code",
   "execution_count": 13,
   "metadata": {
    "execution": {
     "iopub.execute_input": "2021-03-18T03:17:47.251232Z",
     "iopub.status.busy": "2021-03-18T03:17:47.250872Z",
     "iopub.status.idle": "2021-03-18T03:17:47.258614Z",
     "shell.execute_reply": "2021-03-18T03:17:47.258244Z"
    },
    "papermill": {
     "duration": 0.028307,
     "end_time": "2021-03-18T03:17:47.258699",
     "exception": false,
     "start_time": "2021-03-18T03:17:47.230392",
     "status": "completed"
    },
    "tags": []
   },
   "outputs": [
    {
     "data": {
      "text/plain": [
       "4091"
      ]
     },
     "execution_count": 13,
     "metadata": {},
     "output_type": "execute_result"
    }
   ],
   "source": [
    "len(traits_efo_labels)"
   ]
  },
  {
   "cell_type": "code",
   "execution_count": 14,
   "metadata": {
    "execution": {
     "iopub.execute_input": "2021-03-18T03:17:47.299287Z",
     "iopub.status.busy": "2021-03-18T03:17:47.298903Z",
     "iopub.status.idle": "2021-03-18T03:17:47.306977Z",
     "shell.execute_reply": "2021-03-18T03:17:47.306617Z"
    },
    "papermill": {
     "duration": 0.029204,
     "end_time": "2021-03-18T03:17:47.307061",
     "exception": false,
     "start_time": "2021-03-18T03:17:47.277857",
     "status": "completed"
    },
    "tags": []
   },
   "outputs": [
    {
     "data": {
      "text/plain": [
       "['antepartum hemorrhage',\n",
       " 'dyspepsia',\n",
       " '2907-Ever_stopped_smoking_for_6_months',\n",
       " 'H7_DIPLOPIA-Diplopia',\n",
       " '1538_0-Major_dietary_changes_in_the_last_5_years_No',\n",
       " 'manic episode measurement AND irritability measurement',\n",
       " 'arthritis',\n",
       " 'abdominal injury',\n",
       " '24010_raw-Inverse_distance_to_the_nearest_road',\n",
       " '3143_raw-Ankle_spacing_width']"
      ]
     },
     "execution_count": 14,
     "metadata": {},
     "output_type": "execute_result"
    }
   ],
   "source": [
    "traits_efo_labels[:10]"
   ]
  },
  {
   "cell_type": "markdown",
   "metadata": {
    "papermill": {
     "duration": 0.018601,
     "end_time": "2021-03-18T03:17:47.344798",
     "exception": false,
     "start_time": "2021-03-18T03:17:47.326197",
     "status": "completed"
    },
    "tags": []
   },
   "source": [
    "## Get `max(rcp)` for same EFO labels"
   ]
  },
  {
   "cell_type": "code",
   "execution_count": 15,
   "metadata": {
    "execution": {
     "iopub.execute_input": "2021-03-18T03:17:47.391446Z",
     "iopub.status.busy": "2021-03-18T03:17:47.391075Z",
     "iopub.status.idle": "2021-03-18T03:17:48.867831Z",
     "shell.execute_reply": "2021-03-18T03:17:48.867489Z"
    },
    "papermill": {
     "duration": 1.504625,
     "end_time": "2021-03-18T03:17:48.867928",
     "exception": false,
     "start_time": "2021-03-18T03:17:47.363303",
     "status": "completed"
    },
    "tags": []
   },
   "outputs": [],
   "source": [
    "fastenloc_rcps_combined = fastenloc_rcps.groupby(traits_efo_labels, axis=1).max()"
   ]
  },
  {
   "cell_type": "code",
   "execution_count": 16,
   "metadata": {
    "execution": {
     "iopub.execute_input": "2021-03-18T03:17:48.914107Z",
     "iopub.status.busy": "2021-03-18T03:17:48.913722Z",
     "iopub.status.idle": "2021-03-18T03:17:48.921877Z",
     "shell.execute_reply": "2021-03-18T03:17:48.921492Z"
    },
    "papermill": {
     "duration": 0.031878,
     "end_time": "2021-03-18T03:17:48.921967",
     "exception": false,
     "start_time": "2021-03-18T03:17:48.890089",
     "status": "completed"
    },
    "tags": []
   },
   "outputs": [
    {
     "data": {
      "text/plain": [
       "(38062, 3752)"
      ]
     },
     "execution_count": 16,
     "metadata": {},
     "output_type": "execute_result"
    }
   ],
   "source": [
    "fastenloc_rcps_combined.shape"
   ]
  },
  {
   "cell_type": "code",
   "execution_count": 17,
   "metadata": {
    "execution": {
     "iopub.execute_input": "2021-03-18T03:17:48.968980Z",
     "iopub.status.busy": "2021-03-18T03:17:48.968554Z",
     "iopub.status.idle": "2021-03-18T03:17:48.987112Z",
     "shell.execute_reply": "2021-03-18T03:17:48.987401Z"
    },
    "papermill": {
     "duration": 0.040061,
     "end_time": "2021-03-18T03:17:48.987510",
     "exception": false,
     "start_time": "2021-03-18T03:17:48.947449",
     "status": "completed"
    },
    "tags": []
   },
   "outputs": [
    {
     "data": {
      "text/html": [
       "<div>\n",
       "<style scoped>\n",
       "    .dataframe tbody tr th:only-of-type {\n",
       "        vertical-align: middle;\n",
       "    }\n",
       "\n",
       "    .dataframe tbody tr th {\n",
       "        vertical-align: top;\n",
       "    }\n",
       "\n",
       "    .dataframe thead th {\n",
       "        text-align: right;\n",
       "    }\n",
       "</style>\n",
       "<table border=\"1\" class=\"dataframe\">\n",
       "  <thead>\n",
       "    <tr style=\"text-align: right;\">\n",
       "      <th></th>\n",
       "      <th>100001_raw-Food_weight</th>\n",
       "      <th>100002_raw-Energy</th>\n",
       "      <th>100003_raw-Protein</th>\n",
       "      <th>100004_raw-Fat</th>\n",
       "      <th>100005_raw-Carbohydrate</th>\n",
       "      <th>100006_raw-Saturated_fat</th>\n",
       "      <th>100007_raw-Polyunsaturated_fat</th>\n",
       "      <th>100008_raw-Total_sugars</th>\n",
       "      <th>100009_raw-Englyst_dietary_fibre</th>\n",
       "      <th>100010-Portion_size</th>\n",
       "      <th>...</th>\n",
       "      <th>visual impairment</th>\n",
       "      <th>vitiligo</th>\n",
       "      <th>vitreous body disease</th>\n",
       "      <th>vocal cord polyp</th>\n",
       "      <th>voice disorders</th>\n",
       "      <th>wellbeing measurement AND family relationship</th>\n",
       "      <th>wheezing</th>\n",
       "      <th>whooping cough</th>\n",
       "      <th>worry measurement</th>\n",
       "      <th>wrist fracture</th>\n",
       "    </tr>\n",
       "    <tr>\n",
       "      <th>gene_id</th>\n",
       "      <th></th>\n",
       "      <th></th>\n",
       "      <th></th>\n",
       "      <th></th>\n",
       "      <th></th>\n",
       "      <th></th>\n",
       "      <th></th>\n",
       "      <th></th>\n",
       "      <th></th>\n",
       "      <th></th>\n",
       "      <th></th>\n",
       "      <th></th>\n",
       "      <th></th>\n",
       "      <th></th>\n",
       "      <th></th>\n",
       "      <th></th>\n",
       "      <th></th>\n",
       "      <th></th>\n",
       "      <th></th>\n",
       "      <th></th>\n",
       "      <th></th>\n",
       "    </tr>\n",
       "  </thead>\n",
       "  <tbody>\n",
       "    <tr>\n",
       "      <th>ENSG00000000419</th>\n",
       "      <td>NaN</td>\n",
       "      <td>NaN</td>\n",
       "      <td>NaN</td>\n",
       "      <td>NaN</td>\n",
       "      <td>NaN</td>\n",
       "      <td>NaN</td>\n",
       "      <td>NaN</td>\n",
       "      <td>NaN</td>\n",
       "      <td>NaN</td>\n",
       "      <td>0.000117</td>\n",
       "      <td>...</td>\n",
       "      <td>NaN</td>\n",
       "      <td>NaN</td>\n",
       "      <td>NaN</td>\n",
       "      <td>NaN</td>\n",
       "      <td>NaN</td>\n",
       "      <td>0.000356</td>\n",
       "      <td>0.000670</td>\n",
       "      <td>NaN</td>\n",
       "      <td>0.000862</td>\n",
       "      <td>NaN</td>\n",
       "    </tr>\n",
       "    <tr>\n",
       "      <th>ENSG00000000457</th>\n",
       "      <td>NaN</td>\n",
       "      <td>NaN</td>\n",
       "      <td>NaN</td>\n",
       "      <td>NaN</td>\n",
       "      <td>NaN</td>\n",
       "      <td>NaN</td>\n",
       "      <td>NaN</td>\n",
       "      <td>NaN</td>\n",
       "      <td>NaN</td>\n",
       "      <td>0.000163</td>\n",
       "      <td>...</td>\n",
       "      <td>0.002152</td>\n",
       "      <td>NaN</td>\n",
       "      <td>NaN</td>\n",
       "      <td>NaN</td>\n",
       "      <td>NaN</td>\n",
       "      <td>0.003799</td>\n",
       "      <td>0.002538</td>\n",
       "      <td>NaN</td>\n",
       "      <td>0.001622</td>\n",
       "      <td>0.000241</td>\n",
       "    </tr>\n",
       "    <tr>\n",
       "      <th>ENSG00000000460</th>\n",
       "      <td>NaN</td>\n",
       "      <td>NaN</td>\n",
       "      <td>NaN</td>\n",
       "      <td>NaN</td>\n",
       "      <td>NaN</td>\n",
       "      <td>NaN</td>\n",
       "      <td>NaN</td>\n",
       "      <td>0.000104</td>\n",
       "      <td>NaN</td>\n",
       "      <td>0.000156</td>\n",
       "      <td>...</td>\n",
       "      <td>0.000719</td>\n",
       "      <td>NaN</td>\n",
       "      <td>NaN</td>\n",
       "      <td>NaN</td>\n",
       "      <td>NaN</td>\n",
       "      <td>0.000375</td>\n",
       "      <td>0.002800</td>\n",
       "      <td>NaN</td>\n",
       "      <td>0.002147</td>\n",
       "      <td>0.000489</td>\n",
       "    </tr>\n",
       "    <tr>\n",
       "      <th>ENSG00000000938</th>\n",
       "      <td>NaN</td>\n",
       "      <td>NaN</td>\n",
       "      <td>NaN</td>\n",
       "      <td>NaN</td>\n",
       "      <td>NaN</td>\n",
       "      <td>NaN</td>\n",
       "      <td>NaN</td>\n",
       "      <td>NaN</td>\n",
       "      <td>NaN</td>\n",
       "      <td>NaN</td>\n",
       "      <td>...</td>\n",
       "      <td>0.000142</td>\n",
       "      <td>0.000301</td>\n",
       "      <td>NaN</td>\n",
       "      <td>NaN</td>\n",
       "      <td>NaN</td>\n",
       "      <td>0.000108</td>\n",
       "      <td>0.001551</td>\n",
       "      <td>NaN</td>\n",
       "      <td>0.001443</td>\n",
       "      <td>NaN</td>\n",
       "    </tr>\n",
       "    <tr>\n",
       "      <th>ENSG00000000971</th>\n",
       "      <td>NaN</td>\n",
       "      <td>NaN</td>\n",
       "      <td>NaN</td>\n",
       "      <td>NaN</td>\n",
       "      <td>NaN</td>\n",
       "      <td>NaN</td>\n",
       "      <td>NaN</td>\n",
       "      <td>NaN</td>\n",
       "      <td>NaN</td>\n",
       "      <td>0.000124</td>\n",
       "      <td>...</td>\n",
       "      <td>0.000114</td>\n",
       "      <td>NaN</td>\n",
       "      <td>NaN</td>\n",
       "      <td>NaN</td>\n",
       "      <td>NaN</td>\n",
       "      <td>0.000197</td>\n",
       "      <td>0.003033</td>\n",
       "      <td>NaN</td>\n",
       "      <td>0.001230</td>\n",
       "      <td>0.000158</td>\n",
       "    </tr>\n",
       "  </tbody>\n",
       "</table>\n",
       "<p>5 rows × 3752 columns</p>\n",
       "</div>"
      ],
      "text/plain": [
       "                 100001_raw-Food_weight  100002_raw-Energy  \\\n",
       "gene_id                                                      \n",
       "ENSG00000000419                     NaN                NaN   \n",
       "ENSG00000000457                     NaN                NaN   \n",
       "ENSG00000000460                     NaN                NaN   \n",
       "ENSG00000000938                     NaN                NaN   \n",
       "ENSG00000000971                     NaN                NaN   \n",
       "\n",
       "                 100003_raw-Protein  100004_raw-Fat  100005_raw-Carbohydrate  \\\n",
       "gene_id                                                                        \n",
       "ENSG00000000419                 NaN             NaN                      NaN   \n",
       "ENSG00000000457                 NaN             NaN                      NaN   \n",
       "ENSG00000000460                 NaN             NaN                      NaN   \n",
       "ENSG00000000938                 NaN             NaN                      NaN   \n",
       "ENSG00000000971                 NaN             NaN                      NaN   \n",
       "\n",
       "                 100006_raw-Saturated_fat  100007_raw-Polyunsaturated_fat  \\\n",
       "gene_id                                                                     \n",
       "ENSG00000000419                       NaN                             NaN   \n",
       "ENSG00000000457                       NaN                             NaN   \n",
       "ENSG00000000460                       NaN                             NaN   \n",
       "ENSG00000000938                       NaN                             NaN   \n",
       "ENSG00000000971                       NaN                             NaN   \n",
       "\n",
       "                 100008_raw-Total_sugars  100009_raw-Englyst_dietary_fibre  \\\n",
       "gene_id                                                                      \n",
       "ENSG00000000419                      NaN                               NaN   \n",
       "ENSG00000000457                      NaN                               NaN   \n",
       "ENSG00000000460                 0.000104                               NaN   \n",
       "ENSG00000000938                      NaN                               NaN   \n",
       "ENSG00000000971                      NaN                               NaN   \n",
       "\n",
       "                 100010-Portion_size  ...  visual impairment  vitiligo  \\\n",
       "gene_id                               ...                                \n",
       "ENSG00000000419             0.000117  ...                NaN       NaN   \n",
       "ENSG00000000457             0.000163  ...           0.002152       NaN   \n",
       "ENSG00000000460             0.000156  ...           0.000719       NaN   \n",
       "ENSG00000000938                  NaN  ...           0.000142  0.000301   \n",
       "ENSG00000000971             0.000124  ...           0.000114       NaN   \n",
       "\n",
       "                 vitreous body disease  vocal cord polyp  voice disorders  \\\n",
       "gene_id                                                                     \n",
       "ENSG00000000419                    NaN               NaN              NaN   \n",
       "ENSG00000000457                    NaN               NaN              NaN   \n",
       "ENSG00000000460                    NaN               NaN              NaN   \n",
       "ENSG00000000938                    NaN               NaN              NaN   \n",
       "ENSG00000000971                    NaN               NaN              NaN   \n",
       "\n",
       "                 wellbeing measurement AND family relationship  wheezing  \\\n",
       "gene_id                                                                    \n",
       "ENSG00000000419                                       0.000356  0.000670   \n",
       "ENSG00000000457                                       0.003799  0.002538   \n",
       "ENSG00000000460                                       0.000375  0.002800   \n",
       "ENSG00000000938                                       0.000108  0.001551   \n",
       "ENSG00000000971                                       0.000197  0.003033   \n",
       "\n",
       "                 whooping cough  worry measurement  wrist fracture  \n",
       "gene_id                                                             \n",
       "ENSG00000000419             NaN           0.000862             NaN  \n",
       "ENSG00000000457             NaN           0.001622        0.000241  \n",
       "ENSG00000000460             NaN           0.002147        0.000489  \n",
       "ENSG00000000938             NaN           0.001443             NaN  \n",
       "ENSG00000000971             NaN           0.001230        0.000158  \n",
       "\n",
       "[5 rows x 3752 columns]"
      ]
     },
     "execution_count": 17,
     "metadata": {},
     "output_type": "execute_result"
    }
   ],
   "source": [
    "fastenloc_rcps_combined.head()"
   ]
  },
  {
   "cell_type": "markdown",
   "metadata": {
    "papermill": {
     "duration": 0.019126,
     "end_time": "2021-03-18T03:17:49.026958",
     "exception": false,
     "start_time": "2021-03-18T03:17:49.007832",
     "status": "completed"
    },
    "tags": []
   },
   "source": [
    "### Keep same order traits as in the S-MultiXcan results"
   ]
  },
  {
   "cell_type": "code",
   "execution_count": 18,
   "metadata": {
    "execution": {
     "iopub.execute_input": "2021-03-18T03:17:49.067734Z",
     "iopub.status.busy": "2021-03-18T03:17:49.067377Z",
     "iopub.status.idle": "2021-03-18T03:17:49.075295Z",
     "shell.execute_reply": "2021-03-18T03:17:49.074996Z"
    },
    "papermill": {
     "duration": 0.02924,
     "end_time": "2021-03-18T03:17:49.075381",
     "exception": false,
     "start_time": "2021-03-18T03:17:49.046141",
     "status": "completed"
    },
    "tags": []
   },
   "outputs": [],
   "source": [
    "assert set(fastenloc_rcps_combined.columns) == set(smultixcan_zscores_combined.columns)"
   ]
  },
  {
   "cell_type": "code",
   "execution_count": 19,
   "metadata": {
    "execution": {
     "iopub.execute_input": "2021-03-18T03:17:49.117005Z",
     "iopub.status.busy": "2021-03-18T03:17:49.116583Z",
     "iopub.status.idle": "2021-03-18T03:17:49.320883Z",
     "shell.execute_reply": "2021-03-18T03:17:49.321245Z"
    },
    "papermill": {
     "duration": 0.226414,
     "end_time": "2021-03-18T03:17:49.321377",
     "exception": false,
     "start_time": "2021-03-18T03:17:49.094963",
     "status": "completed"
    },
    "tags": []
   },
   "outputs": [],
   "source": [
    "fastenloc_rcps_combined = fastenloc_rcps_combined.loc[\n",
    "    :, smultixcan_zscores_combined.columns\n",
    "]"
   ]
  },
  {
   "cell_type": "code",
   "execution_count": 20,
   "metadata": {
    "execution": {
     "iopub.execute_input": "2021-03-18T03:17:49.369199Z",
     "iopub.status.busy": "2021-03-18T03:17:49.368840Z",
     "iopub.status.idle": "2021-03-18T03:17:49.376687Z",
     "shell.execute_reply": "2021-03-18T03:17:49.376314Z"
    },
    "papermill": {
     "duration": 0.031436,
     "end_time": "2021-03-18T03:17:49.376833",
     "exception": false,
     "start_time": "2021-03-18T03:17:49.345397",
     "status": "completed"
    },
    "tags": []
   },
   "outputs": [
    {
     "data": {
      "text/plain": [
       "(38062, 3752)"
      ]
     },
     "execution_count": 20,
     "metadata": {},
     "output_type": "execute_result"
    }
   ],
   "source": [
    "fastenloc_rcps_combined.shape"
   ]
  },
  {
   "cell_type": "markdown",
   "metadata": {
    "papermill": {
     "duration": 0.019068,
     "end_time": "2021-03-18T03:17:49.415957",
     "exception": false,
     "start_time": "2021-03-18T03:17:49.396889",
     "status": "completed"
    },
    "tags": []
   },
   "source": [
    "### Do we have NaN values?"
   ]
  },
  {
   "cell_type": "code",
   "execution_count": 21,
   "metadata": {
    "execution": {
     "iopub.execute_input": "2021-03-18T03:17:49.457165Z",
     "iopub.status.busy": "2021-03-18T03:17:49.456793Z",
     "iopub.status.idle": "2021-03-18T03:17:49.560512Z",
     "shell.execute_reply": "2021-03-18T03:17:49.560871Z"
    },
    "papermill": {
     "duration": 0.125852,
     "end_time": "2021-03-18T03:17:49.561000",
     "exception": false,
     "start_time": "2021-03-18T03:17:49.435148",
     "status": "completed"
    },
    "tags": []
   },
   "outputs": [
    {
     "data": {
      "text/plain": [
       "True"
      ]
     },
     "execution_count": 21,
     "metadata": {},
     "output_type": "execute_result"
    }
   ],
   "source": [
    "fastenloc_rcps_combined.isna().any().any()"
   ]
  },
  {
   "cell_type": "code",
   "execution_count": 22,
   "metadata": {
    "execution": {
     "iopub.execute_input": "2021-03-18T03:17:49.609260Z",
     "iopub.status.busy": "2021-03-18T03:17:49.608907Z",
     "iopub.status.idle": "2021-03-18T03:17:49.873050Z",
     "shell.execute_reply": "2021-03-18T03:17:49.872664Z"
    },
    "papermill": {
     "duration": 0.287298,
     "end_time": "2021-03-18T03:17:49.873132",
     "exception": false,
     "start_time": "2021-03-18T03:17:49.585834",
     "status": "completed"
    },
    "tags": []
   },
   "outputs": [
    {
     "data": {
      "text/plain": [
       "100001_raw-Food_weight                           36537\n",
       "100002_raw-Energy                                37931\n",
       "100003_raw-Protein                               37977\n",
       "100004_raw-Fat                                   35639\n",
       "100005_raw-Carbohydrate                          36108\n",
       "                                                 ...  \n",
       "wellbeing measurement AND family relationship    21078\n",
       "wheezing                                          3903\n",
       "whooping cough                                   37783\n",
       "worry measurement                                 5271\n",
       "wrist fracture                                   17883\n",
       "Length: 3752, dtype: int64"
      ]
     },
     "execution_count": 22,
     "metadata": {},
     "output_type": "execute_result"
    }
   ],
   "source": [
    "fastenloc_rcps_combined.isna().sum()"
   ]
  },
  {
   "cell_type": "markdown",
   "metadata": {
    "papermill": {
     "duration": 0.020937,
     "end_time": "2021-03-18T03:17:49.914796",
     "exception": false,
     "start_time": "2021-03-18T03:17:49.893859",
     "status": "completed"
    },
    "tags": []
   },
   "source": [
    "## Testing"
   ]
  },
  {
   "cell_type": "markdown",
   "metadata": {
    "papermill": {
     "duration": 0.019801,
     "end_time": "2021-03-18T03:17:49.954800",
     "exception": false,
     "start_time": "2021-03-18T03:17:49.934999",
     "status": "completed"
    },
    "tags": []
   },
   "source": [
    "### Stats"
   ]
  },
  {
   "cell_type": "code",
   "execution_count": 23,
   "metadata": {
    "execution": {
     "iopub.execute_input": "2021-03-18T03:17:49.997177Z",
     "iopub.status.busy": "2021-03-18T03:17:49.996817Z",
     "iopub.status.idle": "2021-03-18T03:17:53.390660Z",
     "shell.execute_reply": "2021-03-18T03:17:53.390264Z"
    },
    "papermill": {
     "duration": 3.416141,
     "end_time": "2021-03-18T03:17:53.390750",
     "exception": false,
     "start_time": "2021-03-18T03:17:49.974609",
     "status": "completed"
    },
    "tags": []
   },
   "outputs": [
    {
     "data": {
      "text/plain": [
       "count                24124104.0\n",
       "mean       0.007321862349188196\n",
       "std         0.04274180352073264\n",
       "min                         0.0\n",
       "25%      0.00028149999999999996\n",
       "50%                   0.0008847\n",
       "75%                   0.0028591\n",
       "max                   2.4696036\n",
       "dtype: object"
      ]
     },
     "metadata": {},
     "output_type": "display_data"
    }
   ],
   "source": [
    "_stats = fastenloc_rcps_combined.stack().describe()\n",
    "display(_stats.apply(str))"
   ]
  },
  {
   "cell_type": "code",
   "execution_count": 24,
   "metadata": {
    "execution": {
     "iopub.execute_input": "2021-03-18T03:17:53.433636Z",
     "iopub.status.busy": "2021-03-18T03:17:53.433269Z",
     "iopub.status.idle": "2021-03-18T03:17:53.439782Z",
     "shell.execute_reply": "2021-03-18T03:17:53.440063Z"
    },
    "papermill": {
     "duration": 0.028812,
     "end_time": "2021-03-18T03:17:53.440168",
     "exception": false,
     "start_time": "2021-03-18T03:17:53.411356",
     "status": "completed"
    },
    "tags": []
   },
   "outputs": [],
   "source": [
    "assert _stats[\"min\"] >= 0.0"
   ]
  },
  {
   "cell_type": "code",
   "execution_count": 25,
   "metadata": {
    "execution": {
     "iopub.execute_input": "2021-03-18T03:17:53.483643Z",
     "iopub.status.busy": "2021-03-18T03:17:53.483288Z",
     "iopub.status.idle": "2021-03-18T03:17:53.490669Z",
     "shell.execute_reply": "2021-03-18T03:17:53.490311Z"
    },
    "papermill": {
     "duration": 0.029817,
     "end_time": "2021-03-18T03:17:53.490753",
     "exception": false,
     "start_time": "2021-03-18T03:17:53.460936",
     "status": "completed"
    },
    "tags": []
   },
   "outputs": [],
   "source": [
    "assert _stats[\"max\"] <= 2.5"
   ]
  },
  {
   "cell_type": "markdown",
   "metadata": {
    "papermill": {
     "duration": 0.019982,
     "end_time": "2021-03-18T03:17:53.531252",
     "exception": false,
     "start_time": "2021-03-18T03:17:53.511270",
     "status": "completed"
    },
    "tags": []
   },
   "source": [
    "### Same traits as in z-scores version"
   ]
  },
  {
   "cell_type": "code",
   "execution_count": 26,
   "metadata": {
    "execution": {
     "iopub.execute_input": "2021-03-18T03:17:53.573735Z",
     "iopub.status.busy": "2021-03-18T03:17:53.573347Z",
     "iopub.status.idle": "2021-03-18T03:17:53.580002Z",
     "shell.execute_reply": "2021-03-18T03:17:53.580302Z"
    },
    "papermill": {
     "duration": 0.028928,
     "end_time": "2021-03-18T03:17:53.580409",
     "exception": false,
     "start_time": "2021-03-18T03:17:53.551481",
     "status": "completed"
    },
    "tags": []
   },
   "outputs": [],
   "source": [
    "assert fastenloc_rcps_combined.columns.equals(smultixcan_zscores_combined.columns)"
   ]
  },
  {
   "cell_type": "markdown",
   "metadata": {
    "papermill": {
     "duration": 0.019733,
     "end_time": "2021-03-18T03:17:53.620669",
     "exception": false,
     "start_time": "2021-03-18T03:17:53.600936",
     "status": "completed"
    },
    "tags": []
   },
   "source": [
    "### EFO label (asthma) which combined three PhenomeXcan traits."
   ]
  },
  {
   "cell_type": "code",
   "execution_count": 27,
   "metadata": {
    "execution": {
     "iopub.execute_input": "2021-03-18T03:17:53.663172Z",
     "iopub.status.busy": "2021-03-18T03:17:53.662813Z",
     "iopub.status.idle": "2021-03-18T03:17:53.670031Z",
     "shell.execute_reply": "2021-03-18T03:17:53.669722Z"
    },
    "papermill": {
     "duration": 0.029285,
     "end_time": "2021-03-18T03:17:53.670115",
     "exception": false,
     "start_time": "2021-03-18T03:17:53.640830",
     "status": "completed"
    },
    "tags": []
   },
   "outputs": [],
   "source": [
    "_asthma_traits = [\n",
    "    \"22127-Doctor_diagnosed_asthma\",\n",
    "    \"20002_1111-Noncancer_illness_code_selfreported_asthma\",\n",
    "    \"J45-Diagnoses_main_ICD10_J45_Asthma\",\n",
    "]"
   ]
  },
  {
   "cell_type": "code",
   "execution_count": 28,
   "metadata": {
    "execution": {
     "iopub.execute_input": "2021-03-18T03:17:53.713535Z",
     "iopub.status.busy": "2021-03-18T03:17:53.713160Z",
     "iopub.status.idle": "2021-03-18T03:17:53.726532Z",
     "shell.execute_reply": "2021-03-18T03:17:53.726160Z"
    },
    "papermill": {
     "duration": 0.035721,
     "end_time": "2021-03-18T03:17:53.726616",
     "exception": false,
     "start_time": "2021-03-18T03:17:53.690895",
     "status": "completed"
    },
    "tags": []
   },
   "outputs": [
    {
     "data": {
      "text/html": [
       "<div>\n",
       "<style scoped>\n",
       "    .dataframe tbody tr th:only-of-type {\n",
       "        vertical-align: middle;\n",
       "    }\n",
       "\n",
       "    .dataframe tbody tr th {\n",
       "        vertical-align: top;\n",
       "    }\n",
       "\n",
       "    .dataframe thead th {\n",
       "        text-align: right;\n",
       "    }\n",
       "</style>\n",
       "<table border=\"1\" class=\"dataframe\">\n",
       "  <thead>\n",
       "    <tr style=\"text-align: right;\">\n",
       "      <th></th>\n",
       "      <th>22127-Doctor_diagnosed_asthma</th>\n",
       "      <th>20002_1111-Noncancer_illness_code_selfreported_asthma</th>\n",
       "      <th>J45-Diagnoses_main_ICD10_J45_Asthma</th>\n",
       "    </tr>\n",
       "    <tr>\n",
       "      <th>gene_id</th>\n",
       "      <th></th>\n",
       "      <th></th>\n",
       "      <th></th>\n",
       "    </tr>\n",
       "  </thead>\n",
       "  <tbody>\n",
       "    <tr>\n",
       "      <th>ENSG00000000419</th>\n",
       "      <td>NaN</td>\n",
       "      <td>0.001026</td>\n",
       "      <td>NaN</td>\n",
       "    </tr>\n",
       "    <tr>\n",
       "      <th>ENSG00000000457</th>\n",
       "      <td>0.000483</td>\n",
       "      <td>0.004945</td>\n",
       "      <td>0.000336</td>\n",
       "    </tr>\n",
       "    <tr>\n",
       "      <th>ENSG00000000460</th>\n",
       "      <td>0.000778</td>\n",
       "      <td>0.010204</td>\n",
       "      <td>0.000840</td>\n",
       "    </tr>\n",
       "    <tr>\n",
       "      <th>ENSG00000000938</th>\n",
       "      <td>0.000604</td>\n",
       "      <td>0.007698</td>\n",
       "      <td>NaN</td>\n",
       "    </tr>\n",
       "    <tr>\n",
       "      <th>ENSG00000000971</th>\n",
       "      <td>0.001110</td>\n",
       "      <td>0.014103</td>\n",
       "      <td>0.000270</td>\n",
       "    </tr>\n",
       "    <tr>\n",
       "      <th>...</th>\n",
       "      <td>...</td>\n",
       "      <td>...</td>\n",
       "      <td>...</td>\n",
       "    </tr>\n",
       "    <tr>\n",
       "      <th>ENSG00000284543</th>\n",
       "      <td>0.000446</td>\n",
       "      <td>0.000839</td>\n",
       "      <td>NaN</td>\n",
       "    </tr>\n",
       "    <tr>\n",
       "      <th>ENSG00000284552</th>\n",
       "      <td>NaN</td>\n",
       "      <td>0.001231</td>\n",
       "      <td>NaN</td>\n",
       "    </tr>\n",
       "    <tr>\n",
       "      <th>ENSG00000284574</th>\n",
       "      <td>NaN</td>\n",
       "      <td>NaN</td>\n",
       "      <td>NaN</td>\n",
       "    </tr>\n",
       "    <tr>\n",
       "      <th>ENSG00000284595</th>\n",
       "      <td>NaN</td>\n",
       "      <td>0.001164</td>\n",
       "      <td>NaN</td>\n",
       "    </tr>\n",
       "    <tr>\n",
       "      <th>ENSG00000284600</th>\n",
       "      <td>NaN</td>\n",
       "      <td>0.013764</td>\n",
       "      <td>0.000543</td>\n",
       "    </tr>\n",
       "  </tbody>\n",
       "</table>\n",
       "<p>38062 rows × 3 columns</p>\n",
       "</div>"
      ],
      "text/plain": [
       "                 22127-Doctor_diagnosed_asthma  \\\n",
       "gene_id                                          \n",
       "ENSG00000000419                            NaN   \n",
       "ENSG00000000457                       0.000483   \n",
       "ENSG00000000460                       0.000778   \n",
       "ENSG00000000938                       0.000604   \n",
       "ENSG00000000971                       0.001110   \n",
       "...                                        ...   \n",
       "ENSG00000284543                       0.000446   \n",
       "ENSG00000284552                            NaN   \n",
       "ENSG00000284574                            NaN   \n",
       "ENSG00000284595                            NaN   \n",
       "ENSG00000284600                            NaN   \n",
       "\n",
       "                 20002_1111-Noncancer_illness_code_selfreported_asthma  \\\n",
       "gene_id                                                                  \n",
       "ENSG00000000419                                           0.001026       \n",
       "ENSG00000000457                                           0.004945       \n",
       "ENSG00000000460                                           0.010204       \n",
       "ENSG00000000938                                           0.007698       \n",
       "ENSG00000000971                                           0.014103       \n",
       "...                                                            ...       \n",
       "ENSG00000284543                                           0.000839       \n",
       "ENSG00000284552                                           0.001231       \n",
       "ENSG00000284574                                                NaN       \n",
       "ENSG00000284595                                           0.001164       \n",
       "ENSG00000284600                                           0.013764       \n",
       "\n",
       "                 J45-Diagnoses_main_ICD10_J45_Asthma  \n",
       "gene_id                                               \n",
       "ENSG00000000419                                  NaN  \n",
       "ENSG00000000457                             0.000336  \n",
       "ENSG00000000460                             0.000840  \n",
       "ENSG00000000938                                  NaN  \n",
       "ENSG00000000971                             0.000270  \n",
       "...                                              ...  \n",
       "ENSG00000284543                                  NaN  \n",
       "ENSG00000284552                                  NaN  \n",
       "ENSG00000284574                                  NaN  \n",
       "ENSG00000284595                                  NaN  \n",
       "ENSG00000284600                             0.000543  \n",
       "\n",
       "[38062 rows x 3 columns]"
      ]
     },
     "execution_count": 28,
     "metadata": {},
     "output_type": "execute_result"
    }
   ],
   "source": [
    "fastenloc_rcps[_asthma_traits]"
   ]
  },
  {
   "cell_type": "code",
   "execution_count": 29,
   "metadata": {
    "execution": {
     "iopub.execute_input": "2021-03-18T03:17:53.770424Z",
     "iopub.status.busy": "2021-03-18T03:17:53.770067Z",
     "iopub.status.idle": "2021-03-18T03:17:53.781719Z",
     "shell.execute_reply": "2021-03-18T03:17:53.781398Z"
    },
    "papermill": {
     "duration": 0.034178,
     "end_time": "2021-03-18T03:17:53.781805",
     "exception": false,
     "start_time": "2021-03-18T03:17:53.747627",
     "status": "completed"
    },
    "tags": []
   },
   "outputs": [
    {
     "data": {
      "text/plain": [
       "gene_id\n",
       "ENSG00000253892    3\n",
       "ENSG00000271705    3\n",
       "ENSG00000237460    3\n",
       "ENSG00000214869    3\n",
       "ENSG00000259395    3\n",
       "dtype: int64"
      ]
     },
     "execution_count": 29,
     "metadata": {},
     "output_type": "execute_result"
    }
   ],
   "source": [
    "fastenloc_rcps[_asthma_traits].isna().sum(axis=1).sort_values(ascending=False).head()"
   ]
  },
  {
   "cell_type": "code",
   "execution_count": 30,
   "metadata": {
    "execution": {
     "iopub.execute_input": "2021-03-18T03:17:53.826400Z",
     "iopub.status.busy": "2021-03-18T03:17:53.826039Z",
     "iopub.status.idle": "2021-03-18T03:17:53.833409Z",
     "shell.execute_reply": "2021-03-18T03:17:53.833094Z"
    },
    "papermill": {
     "duration": 0.030677,
     "end_time": "2021-03-18T03:17:53.833493",
     "exception": false,
     "start_time": "2021-03-18T03:17:53.802816",
     "status": "completed"
    },
    "tags": []
   },
   "outputs": [],
   "source": [
    "_trait = \"asthma\"\n",
    "\n",
    "_gene = \"ENSG00000000419\"\n",
    "assert fastenloc_rcps_combined.loc[_gene, _trait].round(3) == 0.001\n",
    "\n",
    "_gene = \"ENSG00000000457\"\n",
    "assert fastenloc_rcps_combined.loc[_gene, _trait].round(3) == 0.005\n",
    "\n",
    "_gene = \"ENSG00000284543\"\n",
    "assert fastenloc_rcps_combined.loc[_gene, _trait].round(4) == 0.0008\n",
    "\n",
    "_gene = \"ENSG00000253892\"\n",
    "assert pd.isnull(fastenloc_rcps_combined.loc[_gene, _trait])"
   ]
  },
  {
   "cell_type": "markdown",
   "metadata": {
    "papermill": {
     "duration": 0.020383,
     "end_time": "2021-03-18T03:17:53.874900",
     "exception": false,
     "start_time": "2021-03-18T03:17:53.854517",
     "status": "completed"
    },
    "tags": []
   },
   "source": [
    "### PhenomeXcan trait which has no EFO label."
   ]
  },
  {
   "cell_type": "code",
   "execution_count": 31,
   "metadata": {
    "execution": {
     "iopub.execute_input": "2021-03-18T03:17:53.922026Z",
     "iopub.status.busy": "2021-03-18T03:17:53.921586Z",
     "iopub.status.idle": "2021-03-18T03:17:53.928893Z",
     "shell.execute_reply": "2021-03-18T03:17:53.929211Z"
    },
    "papermill": {
     "duration": 0.033171,
     "end_time": "2021-03-18T03:17:53.929320",
     "exception": false,
     "start_time": "2021-03-18T03:17:53.896149",
     "status": "completed"
    },
    "tags": []
   },
   "outputs": [],
   "source": [
    "_trait = \"100001_raw-Food_weight\""
   ]
  },
  {
   "cell_type": "code",
   "execution_count": 32,
   "metadata": {
    "execution": {
     "iopub.execute_input": "2021-03-18T03:17:53.974423Z",
     "iopub.status.busy": "2021-03-18T03:17:53.974068Z",
     "iopub.status.idle": "2021-03-18T03:17:53.985780Z",
     "shell.execute_reply": "2021-03-18T03:17:53.985445Z"
    },
    "papermill": {
     "duration": 0.034853,
     "end_time": "2021-03-18T03:17:53.985868",
     "exception": false,
     "start_time": "2021-03-18T03:17:53.951015",
     "status": "completed"
    },
    "tags": []
   },
   "outputs": [
    {
     "data": {
      "text/plain": [
       "gene_id\n",
       "ENSG00000280319    0.360500\n",
       "ENSG00000225554    0.153813\n",
       "ENSG00000182901    0.130800\n",
       "ENSG00000226191    0.029330\n",
       "ENSG00000196071    0.014940\n",
       "                     ...   \n",
       "ENSG00000284543         NaN\n",
       "ENSG00000284552         NaN\n",
       "ENSG00000284574         NaN\n",
       "ENSG00000284595         NaN\n",
       "ENSG00000284600         NaN\n",
       "Name: 100001_raw-Food_weight, Length: 38062, dtype: float64"
      ]
     },
     "execution_count": 32,
     "metadata": {},
     "output_type": "execute_result"
    }
   ],
   "source": [
    "fastenloc_rcps[_trait].sort_values(ascending=False)"
   ]
  },
  {
   "cell_type": "code",
   "execution_count": 33,
   "metadata": {
    "execution": {
     "iopub.execute_input": "2021-03-18T03:17:54.032936Z",
     "iopub.status.busy": "2021-03-18T03:17:54.032492Z",
     "iopub.status.idle": "2021-03-18T03:17:54.040198Z",
     "shell.execute_reply": "2021-03-18T03:17:54.039818Z"
    },
    "papermill": {
     "duration": 0.03213,
     "end_time": "2021-03-18T03:17:54.040283",
     "exception": false,
     "start_time": "2021-03-18T03:17:54.008153",
     "status": "completed"
    },
    "tags": []
   },
   "outputs": [],
   "source": [
    "_gene = \"ENSG00000280319\"\n",
    "assert fastenloc_rcps_combined.loc[_gene, _trait].round(3) == 0.360\n",
    "\n",
    "_gene = \"ENSG00000196071\"\n",
    "assert fastenloc_rcps_combined.loc[_gene, _trait].round(3) == 0.015\n",
    "\n",
    "_gene = \"ENSG00000284552\"\n",
    "assert pd.isnull(fastenloc_rcps_combined.loc[_gene, _trait])"
   ]
  },
  {
   "cell_type": "markdown",
   "metadata": {
    "papermill": {
     "duration": 0.020645,
     "end_time": "2021-03-18T03:17:54.082086",
     "exception": false,
     "start_time": "2021-03-18T03:17:54.061441",
     "status": "completed"
    },
    "tags": []
   },
   "source": [
    "# Save full (all traits, some with EFO, some not)"
   ]
  },
  {
   "cell_type": "code",
   "execution_count": 34,
   "metadata": {
    "execution": {
     "iopub.execute_input": "2021-03-18T03:17:54.149410Z",
     "iopub.status.busy": "2021-03-18T03:17:54.149009Z",
     "iopub.status.idle": "2021-03-18T03:17:54.157767Z",
     "shell.execute_reply": "2021-03-18T03:17:54.158070Z"
    },
    "papermill": {
     "duration": 0.036786,
     "end_time": "2021-03-18T03:17:54.158183",
     "exception": false,
     "start_time": "2021-03-18T03:17:54.121397",
     "status": "completed"
    },
    "tags": []
   },
   "outputs": [
    {
     "data": {
      "text/plain": [
       "(38062, 3752)"
      ]
     },
     "execution_count": 34,
     "metadata": {},
     "output_type": "execute_result"
    }
   ],
   "source": [
    "fastenloc_rcps_combined.shape"
   ]
  },
  {
   "cell_type": "code",
   "execution_count": 35,
   "metadata": {
    "execution": {
     "iopub.execute_input": "2021-03-18T03:17:54.206340Z",
     "iopub.status.busy": "2021-03-18T03:17:54.205981Z",
     "iopub.status.idle": "2021-03-18T03:17:54.224504Z",
     "shell.execute_reply": "2021-03-18T03:17:54.224135Z"
    },
    "papermill": {
     "duration": 0.043015,
     "end_time": "2021-03-18T03:17:54.224590",
     "exception": false,
     "start_time": "2021-03-18T03:17:54.181575",
     "status": "completed"
    },
    "tags": []
   },
   "outputs": [
    {
     "data": {
      "text/html": [
       "<div>\n",
       "<style scoped>\n",
       "    .dataframe tbody tr th:only-of-type {\n",
       "        vertical-align: middle;\n",
       "    }\n",
       "\n",
       "    .dataframe tbody tr th {\n",
       "        vertical-align: top;\n",
       "    }\n",
       "\n",
       "    .dataframe thead th {\n",
       "        text-align: right;\n",
       "    }\n",
       "</style>\n",
       "<table border=\"1\" class=\"dataframe\">\n",
       "  <thead>\n",
       "    <tr style=\"text-align: right;\">\n",
       "      <th></th>\n",
       "      <th>100001_raw-Food_weight</th>\n",
       "      <th>100002_raw-Energy</th>\n",
       "      <th>100003_raw-Protein</th>\n",
       "      <th>100004_raw-Fat</th>\n",
       "      <th>100005_raw-Carbohydrate</th>\n",
       "      <th>100006_raw-Saturated_fat</th>\n",
       "      <th>100007_raw-Polyunsaturated_fat</th>\n",
       "      <th>100008_raw-Total_sugars</th>\n",
       "      <th>100009_raw-Englyst_dietary_fibre</th>\n",
       "      <th>100010-Portion_size</th>\n",
       "      <th>...</th>\n",
       "      <th>visual impairment</th>\n",
       "      <th>vitiligo</th>\n",
       "      <th>vitreous body disease</th>\n",
       "      <th>vocal cord polyp</th>\n",
       "      <th>voice disorders</th>\n",
       "      <th>wellbeing measurement AND family relationship</th>\n",
       "      <th>wheezing</th>\n",
       "      <th>whooping cough</th>\n",
       "      <th>worry measurement</th>\n",
       "      <th>wrist fracture</th>\n",
       "    </tr>\n",
       "    <tr>\n",
       "      <th>gene_id</th>\n",
       "      <th></th>\n",
       "      <th></th>\n",
       "      <th></th>\n",
       "      <th></th>\n",
       "      <th></th>\n",
       "      <th></th>\n",
       "      <th></th>\n",
       "      <th></th>\n",
       "      <th></th>\n",
       "      <th></th>\n",
       "      <th></th>\n",
       "      <th></th>\n",
       "      <th></th>\n",
       "      <th></th>\n",
       "      <th></th>\n",
       "      <th></th>\n",
       "      <th></th>\n",
       "      <th></th>\n",
       "      <th></th>\n",
       "      <th></th>\n",
       "      <th></th>\n",
       "    </tr>\n",
       "  </thead>\n",
       "  <tbody>\n",
       "    <tr>\n",
       "      <th>ENSG00000000419</th>\n",
       "      <td>NaN</td>\n",
       "      <td>NaN</td>\n",
       "      <td>NaN</td>\n",
       "      <td>NaN</td>\n",
       "      <td>NaN</td>\n",
       "      <td>NaN</td>\n",
       "      <td>NaN</td>\n",
       "      <td>NaN</td>\n",
       "      <td>NaN</td>\n",
       "      <td>0.000117</td>\n",
       "      <td>...</td>\n",
       "      <td>NaN</td>\n",
       "      <td>NaN</td>\n",
       "      <td>NaN</td>\n",
       "      <td>NaN</td>\n",
       "      <td>NaN</td>\n",
       "      <td>0.000356</td>\n",
       "      <td>0.000670</td>\n",
       "      <td>NaN</td>\n",
       "      <td>0.000862</td>\n",
       "      <td>NaN</td>\n",
       "    </tr>\n",
       "    <tr>\n",
       "      <th>ENSG00000000457</th>\n",
       "      <td>NaN</td>\n",
       "      <td>NaN</td>\n",
       "      <td>NaN</td>\n",
       "      <td>NaN</td>\n",
       "      <td>NaN</td>\n",
       "      <td>NaN</td>\n",
       "      <td>NaN</td>\n",
       "      <td>NaN</td>\n",
       "      <td>NaN</td>\n",
       "      <td>0.000163</td>\n",
       "      <td>...</td>\n",
       "      <td>0.002152</td>\n",
       "      <td>NaN</td>\n",
       "      <td>NaN</td>\n",
       "      <td>NaN</td>\n",
       "      <td>NaN</td>\n",
       "      <td>0.003799</td>\n",
       "      <td>0.002538</td>\n",
       "      <td>NaN</td>\n",
       "      <td>0.001622</td>\n",
       "      <td>0.000241</td>\n",
       "    </tr>\n",
       "    <tr>\n",
       "      <th>ENSG00000000460</th>\n",
       "      <td>NaN</td>\n",
       "      <td>NaN</td>\n",
       "      <td>NaN</td>\n",
       "      <td>NaN</td>\n",
       "      <td>NaN</td>\n",
       "      <td>NaN</td>\n",
       "      <td>NaN</td>\n",
       "      <td>0.000104</td>\n",
       "      <td>NaN</td>\n",
       "      <td>0.000156</td>\n",
       "      <td>...</td>\n",
       "      <td>0.000719</td>\n",
       "      <td>NaN</td>\n",
       "      <td>NaN</td>\n",
       "      <td>NaN</td>\n",
       "      <td>NaN</td>\n",
       "      <td>0.000375</td>\n",
       "      <td>0.002800</td>\n",
       "      <td>NaN</td>\n",
       "      <td>0.002147</td>\n",
       "      <td>0.000489</td>\n",
       "    </tr>\n",
       "    <tr>\n",
       "      <th>ENSG00000000938</th>\n",
       "      <td>NaN</td>\n",
       "      <td>NaN</td>\n",
       "      <td>NaN</td>\n",
       "      <td>NaN</td>\n",
       "      <td>NaN</td>\n",
       "      <td>NaN</td>\n",
       "      <td>NaN</td>\n",
       "      <td>NaN</td>\n",
       "      <td>NaN</td>\n",
       "      <td>NaN</td>\n",
       "      <td>...</td>\n",
       "      <td>0.000142</td>\n",
       "      <td>0.000301</td>\n",
       "      <td>NaN</td>\n",
       "      <td>NaN</td>\n",
       "      <td>NaN</td>\n",
       "      <td>0.000108</td>\n",
       "      <td>0.001551</td>\n",
       "      <td>NaN</td>\n",
       "      <td>0.001443</td>\n",
       "      <td>NaN</td>\n",
       "    </tr>\n",
       "    <tr>\n",
       "      <th>ENSG00000000971</th>\n",
       "      <td>NaN</td>\n",
       "      <td>NaN</td>\n",
       "      <td>NaN</td>\n",
       "      <td>NaN</td>\n",
       "      <td>NaN</td>\n",
       "      <td>NaN</td>\n",
       "      <td>NaN</td>\n",
       "      <td>NaN</td>\n",
       "      <td>NaN</td>\n",
       "      <td>0.000124</td>\n",
       "      <td>...</td>\n",
       "      <td>0.000114</td>\n",
       "      <td>NaN</td>\n",
       "      <td>NaN</td>\n",
       "      <td>NaN</td>\n",
       "      <td>NaN</td>\n",
       "      <td>0.000197</td>\n",
       "      <td>0.003033</td>\n",
       "      <td>NaN</td>\n",
       "      <td>0.001230</td>\n",
       "      <td>0.000158</td>\n",
       "    </tr>\n",
       "  </tbody>\n",
       "</table>\n",
       "<p>5 rows × 3752 columns</p>\n",
       "</div>"
      ],
      "text/plain": [
       "                 100001_raw-Food_weight  100002_raw-Energy  \\\n",
       "gene_id                                                      \n",
       "ENSG00000000419                     NaN                NaN   \n",
       "ENSG00000000457                     NaN                NaN   \n",
       "ENSG00000000460                     NaN                NaN   \n",
       "ENSG00000000938                     NaN                NaN   \n",
       "ENSG00000000971                     NaN                NaN   \n",
       "\n",
       "                 100003_raw-Protein  100004_raw-Fat  100005_raw-Carbohydrate  \\\n",
       "gene_id                                                                        \n",
       "ENSG00000000419                 NaN             NaN                      NaN   \n",
       "ENSG00000000457                 NaN             NaN                      NaN   \n",
       "ENSG00000000460                 NaN             NaN                      NaN   \n",
       "ENSG00000000938                 NaN             NaN                      NaN   \n",
       "ENSG00000000971                 NaN             NaN                      NaN   \n",
       "\n",
       "                 100006_raw-Saturated_fat  100007_raw-Polyunsaturated_fat  \\\n",
       "gene_id                                                                     \n",
       "ENSG00000000419                       NaN                             NaN   \n",
       "ENSG00000000457                       NaN                             NaN   \n",
       "ENSG00000000460                       NaN                             NaN   \n",
       "ENSG00000000938                       NaN                             NaN   \n",
       "ENSG00000000971                       NaN                             NaN   \n",
       "\n",
       "                 100008_raw-Total_sugars  100009_raw-Englyst_dietary_fibre  \\\n",
       "gene_id                                                                      \n",
       "ENSG00000000419                      NaN                               NaN   \n",
       "ENSG00000000457                      NaN                               NaN   \n",
       "ENSG00000000460                 0.000104                               NaN   \n",
       "ENSG00000000938                      NaN                               NaN   \n",
       "ENSG00000000971                      NaN                               NaN   \n",
       "\n",
       "                 100010-Portion_size  ...  visual impairment  vitiligo  \\\n",
       "gene_id                               ...                                \n",
       "ENSG00000000419             0.000117  ...                NaN       NaN   \n",
       "ENSG00000000457             0.000163  ...           0.002152       NaN   \n",
       "ENSG00000000460             0.000156  ...           0.000719       NaN   \n",
       "ENSG00000000938                  NaN  ...           0.000142  0.000301   \n",
       "ENSG00000000971             0.000124  ...           0.000114       NaN   \n",
       "\n",
       "                 vitreous body disease  vocal cord polyp  voice disorders  \\\n",
       "gene_id                                                                     \n",
       "ENSG00000000419                    NaN               NaN              NaN   \n",
       "ENSG00000000457                    NaN               NaN              NaN   \n",
       "ENSG00000000460                    NaN               NaN              NaN   \n",
       "ENSG00000000938                    NaN               NaN              NaN   \n",
       "ENSG00000000971                    NaN               NaN              NaN   \n",
       "\n",
       "                 wellbeing measurement AND family relationship  wheezing  \\\n",
       "gene_id                                                                    \n",
       "ENSG00000000419                                       0.000356  0.000670   \n",
       "ENSG00000000457                                       0.003799  0.002538   \n",
       "ENSG00000000460                                       0.000375  0.002800   \n",
       "ENSG00000000938                                       0.000108  0.001551   \n",
       "ENSG00000000971                                       0.000197  0.003033   \n",
       "\n",
       "                 whooping cough  worry measurement  wrist fracture  \n",
       "gene_id                                                             \n",
       "ENSG00000000419             NaN           0.000862             NaN  \n",
       "ENSG00000000457             NaN           0.001622        0.000241  \n",
       "ENSG00000000460             NaN           0.002147        0.000489  \n",
       "ENSG00000000938             NaN           0.001443             NaN  \n",
       "ENSG00000000971             NaN           0.001230        0.000158  \n",
       "\n",
       "[5 rows x 3752 columns]"
      ]
     },
     "execution_count": 35,
     "metadata": {},
     "output_type": "execute_result"
    }
   ],
   "source": [
    "fastenloc_rcps_combined.head()"
   ]
  },
  {
   "cell_type": "markdown",
   "metadata": {
    "papermill": {
     "duration": 0.02121,
     "end_time": "2021-03-18T03:17:54.267687",
     "exception": false,
     "start_time": "2021-03-18T03:17:54.246477",
     "status": "completed"
    },
    "tags": []
   },
   "source": [
    "## Pickle (binary)"
   ]
  },
  {
   "cell_type": "code",
   "execution_count": 36,
   "metadata": {
    "execution": {
     "iopub.execute_input": "2021-03-18T03:17:54.313243Z",
     "iopub.status.busy": "2021-03-18T03:17:54.312870Z",
     "iopub.status.idle": "2021-03-18T03:17:54.320796Z",
     "shell.execute_reply": "2021-03-18T03:17:54.320367Z"
    },
    "papermill": {
     "duration": 0.031609,
     "end_time": "2021-03-18T03:17:54.320881",
     "exception": false,
     "start_time": "2021-03-18T03:17:54.289272",
     "status": "completed"
    },
    "tags": []
   },
   "outputs": [
    {
     "data": {
      "text/plain": [
       "PosixPath('/home/miltondp/projects/labs/greenelab/phenoplier/base/data/phenomexcan/gene_assoc/fastenloc-efo_partial-torus-rcp.pkl')"
      ]
     },
     "metadata": {},
     "output_type": "display_data"
    }
   ],
   "source": [
    "output_file = conf.PHENOMEXCAN[\"FASTENLOC_EFO_PARTIAL_TORUS_RCP_FILE\"]\n",
    "display(output_file)"
   ]
  },
  {
   "cell_type": "code",
   "execution_count": 37,
   "metadata": {
    "execution": {
     "iopub.execute_input": "2021-03-18T03:17:54.367559Z",
     "iopub.status.busy": "2021-03-18T03:17:54.367198Z",
     "iopub.status.idle": "2021-03-18T03:18:00.795581Z",
     "shell.execute_reply": "2021-03-18T03:18:00.794590Z"
    },
    "papermill": {
     "duration": 6.452643,
     "end_time": "2021-03-18T03:18:00.795885",
     "exception": false,
     "start_time": "2021-03-18T03:17:54.343242",
     "status": "completed"
    },
    "tags": []
   },
   "outputs": [],
   "source": [
    "fastenloc_rcps_combined.to_pickle(output_file)"
   ]
  },
  {
   "cell_type": "markdown",
   "metadata": {
    "papermill": {
     "duration": 0.021873,
     "end_time": "2021-03-18T03:18:00.873238",
     "exception": false,
     "start_time": "2021-03-18T03:18:00.851365",
     "status": "completed"
    },
    "tags": []
   },
   "source": [
    "## TSV (text)"
   ]
  },
  {
   "cell_type": "code",
   "execution_count": 38,
   "metadata": {
    "execution": {
     "iopub.execute_input": "2021-03-18T03:18:00.919365Z",
     "iopub.status.busy": "2021-03-18T03:18:00.919008Z",
     "iopub.status.idle": "2021-03-18T03:18:00.927122Z",
     "shell.execute_reply": "2021-03-18T03:18:00.926727Z"
    },
    "papermill": {
     "duration": 0.031955,
     "end_time": "2021-03-18T03:18:00.927213",
     "exception": false,
     "start_time": "2021-03-18T03:18:00.895258",
     "status": "completed"
    },
    "tags": []
   },
   "outputs": [
    {
     "data": {
      "text/plain": [
       "PosixPath('/home/miltondp/projects/labs/greenelab/phenoplier/base/data/phenomexcan/gene_assoc/fastenloc-efo_partial-torus-rcp.tsv.gz')"
      ]
     },
     "metadata": {},
     "output_type": "display_data"
    }
   ],
   "source": [
    "# tsv format\n",
    "output_text_file = output_file.with_suffix(\".tsv.gz\")\n",
    "display(output_text_file)"
   ]
  },
  {
   "cell_type": "code",
   "execution_count": 39,
   "metadata": {
    "execution": {
     "iopub.execute_input": "2021-03-18T03:18:00.977287Z",
     "iopub.status.busy": "2021-03-18T03:18:00.976925Z",
     "iopub.status.idle": "2021-03-18T03:20:59.242746Z",
     "shell.execute_reply": "2021-03-18T03:20:59.242359Z"
    },
    "papermill": {
     "duration": 178.290518,
     "end_time": "2021-03-18T03:20:59.242831",
     "exception": false,
     "start_time": "2021-03-18T03:18:00.952313",
     "status": "completed"
    },
    "tags": []
   },
   "outputs": [],
   "source": [
    "fastenloc_rcps_combined.to_csv(\n",
    "    output_text_file, sep=\"\\t\", index=True, float_format=\"%.5e\"\n",
    ")"
   ]
  },
  {
   "cell_type": "code",
   "execution_count": null,
   "metadata": {
    "papermill": {
     "duration": 0.02163,
     "end_time": "2021-03-18T03:20:59.286581",
     "exception": false,
     "start_time": "2021-03-18T03:20:59.264951",
     "status": "completed"
    },
    "tags": []
   },
   "outputs": [],
   "source": []
  }
 ],
 "metadata": {
  "jupytext": {
   "cell_metadata_filter": "all,-execution,-papermill,-trusted",
   "formats": "ipynb,py//py:percent"
  },
  "kernelspec": {
   "display_name": "Python 3",
   "language": "python",
   "name": "python3"
  },
  "language_info": {
   "codemirror_mode": {
    "name": "ipython",
    "version": 3
   },
   "file_extension": ".py",
   "mimetype": "text/x-python",
   "name": "python",
   "nbconvert_exporter": "python",
   "pygments_lexer": "ipython3",
   "version": "3.8.8"
  },
  "papermill": {
   "default_parameters": {},
   "duration": 197.243534,
   "end_time": "2021-03-18T03:21:00.670883",
   "environment_variables": {},
   "exception": null,
   "input_path": "01_preprocessing/010_02-fastenloc_rcp_to_efo.ipynb",
   "output_path": "01_preprocessing/010_02-fastenloc_rcp_to_efo.run.ipynb",
   "parameters": {},
   "start_time": "2021-03-18T03:17:43.427349",
   "version": "2.2.2"
  },
  "toc-autonumbering": true
 },
 "nbformat": 4,
 "nbformat_minor": 4
}
