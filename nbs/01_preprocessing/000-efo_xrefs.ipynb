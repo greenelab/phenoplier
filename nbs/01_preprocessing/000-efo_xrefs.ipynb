{
 "cells": [
  {
   "cell_type": "markdown",
   "metadata": {},
   "source": [
    "# Description"
   ]
  },
  {
   "cell_type": "markdown",
   "metadata": {},
   "source": [
    "# Modules loading"
   ]
  },
  {
   "cell_type": "code",
   "execution_count": null,
   "metadata": {},
   "outputs": [],
   "source": [
    "%load_ext autoreload\n",
    "%autoreload 2"
   ]
  },
  {
   "cell_type": "code",
   "execution_count": 2,
   "metadata": {},
   "outputs": [],
   "source": [
    "from collections import defaultdict\n",
    "\n",
    "import pandas as pd\n",
    "import networkx\n",
    "import obonet\n",
    "\n",
    "import conf"
   ]
  },
  {
   "cell_type": "markdown",
   "metadata": {},
   "source": [
    "# Functions"
   ]
  },
  {
   "cell_type": "code",
   "execution_count": 3,
   "metadata": {},
   "outputs": [],
   "source": [
    "def groupby(data, sep=':'):\n",
    "    if data is None:\n",
    "        return {}\n",
    "    res = defaultdict(set)\n",
    "    for d in data:\n",
    "        ds = d.split(sep)\n",
    "        res[ds[0]].add(d)\n",
    "    return res"
   ]
  },
  {
   "cell_type": "code",
   "execution_count": 4,
   "metadata": {},
   "outputs": [],
   "source": [
    "test_data = [\n",
    "  'DOID:2841',\n",
    "  'HP:0002099',\n",
    "  'ICD10:J45',\n",
    "  'ICD10:J45.90',\n",
    "  'ICD9:493',\n",
    "  'ICD9:493.81',\n",
    "  'ICD9:493.9',\n",
    "  'KEGG:05310',\n",
    "]"
   ]
  },
  {
   "cell_type": "code",
   "execution_count": 5,
   "metadata": {},
   "outputs": [],
   "source": [
    "_tmp = groupby(test_data)\n",
    "assert _tmp is not None\n",
    "assert len(_tmp) == 5\n",
    "\n",
    "assert len(_tmp['DOID']) == 1\n",
    "assert len(_tmp['HP']) == 1\n",
    "assert len(_tmp['ICD10']) == 2\n",
    "assert len(_tmp['ICD9']) == 3\n",
    "assert len(_tmp['KEGG']) == 1"
   ]
  },
  {
   "cell_type": "code",
   "execution_count": 6,
   "metadata": {},
   "outputs": [
    {
     "data": {
      "text/plain": [
       "defaultdict(set,\n",
       "            {'DOID': {'DOID:2841'},\n",
       "             'HP': {'HP:0002099'},\n",
       "             'ICD10': {'ICD10:J45', 'ICD10:J45.90'},\n",
       "             'ICD9': {'ICD9:493', 'ICD9:493.81', 'ICD9:493.9'},\n",
       "             'KEGG': {'KEGG:05310'}})"
      ]
     },
     "execution_count": 6,
     "metadata": {},
     "output_type": "execute_result"
    }
   ],
   "source": [
    "_tmp"
   ]
  },
  {
   "cell_type": "code",
   "execution_count": 7,
   "metadata": {},
   "outputs": [],
   "source": [
    "def get_parents(node):\n",
    "    for t in graph.successors(node):\n",
    "        yield t\n",
    "\n",
    "def _is_disease_single_node(node):\n",
    "    return node == 'EFO:0000408'\n",
    "\n",
    "def is_disease(node):\n",
    "    if _is_disease_single_node(node):\n",
    "        return True\n",
    "    \n",
    "    for parent_node in get_parents(node):\n",
    "        if is_disease(parent_node):\n",
    "            return True\n",
    "    \n",
    "    return False"
   ]
  },
  {
   "cell_type": "markdown",
   "metadata": {},
   "source": [
    "# Read the EFO ontology"
   ]
  },
  {
   "cell_type": "code",
   "execution_count": 8,
   "metadata": {},
   "outputs": [],
   "source": [
    "url = conf.GENERAL[\"EFO_ONTOLOGY_OBO_FILE\"]\n",
    "graph = obonet.read_obo(url)"
   ]
  },
  {
   "cell_type": "code",
   "execution_count": 9,
   "metadata": {},
   "outputs": [
    {
     "data": {
      "text/plain": [
       "26727"
      ]
     },
     "execution_count": 9,
     "metadata": {},
     "output_type": "execute_result"
    }
   ],
   "source": [
    "# Number of nodes\n",
    "len(graph)"
   ]
  },
  {
   "cell_type": "code",
   "execution_count": 10,
   "metadata": {},
   "outputs": [
    {
     "data": {
      "text/plain": [
       "52865"
      ]
     },
     "execution_count": 10,
     "metadata": {},
     "output_type": "execute_result"
    }
   ],
   "source": [
    "# Number of edges\n",
    "graph.number_of_edges()"
   ]
  },
  {
   "cell_type": "code",
   "execution_count": 11,
   "metadata": {},
   "outputs": [],
   "source": [
    "assert graph.nodes['EFO:0000270'].get('name') == 'asthma'"
   ]
  },
  {
   "cell_type": "markdown",
   "metadata": {},
   "source": [
    "# Map EFO to other references"
   ]
  },
  {
   "cell_type": "code",
   "execution_count": 12,
   "metadata": {},
   "outputs": [],
   "source": [
    "efo_terms = {\n",
    "    node_id for node_id in graph.nodes.keys()# if node_id.startswith('EFO:')# and is_disease(node_id)\n",
    "}"
   ]
  },
  {
   "cell_type": "code",
   "execution_count": 13,
   "metadata": {},
   "outputs": [
    {
     "data": {
      "text/plain": [
       "26727"
      ]
     },
     "execution_count": 13,
     "metadata": {},
     "output_type": "execute_result"
    }
   ],
   "source": [
    "len(efo_terms)"
   ]
  },
  {
   "cell_type": "code",
   "execution_count": 14,
   "metadata": {},
   "outputs": [
    {
     "data": {
      "text/plain": [
       "{'name': 'asthma',\n",
       " 'def': '\"Tendency of the smooth muscle of the tracheobronchial tree to contract more intensely in response to a given stimulus than it does in the response seen in normal individuals. This condition is present in virtually all symptomatic patients with asthma. The most prominent manifestation of this smooth muscle contraction is a decrease in airway caliber that can be readily measured in the pulmonary function laboratory.\" []',\n",
       " 'synonym': ['\"Airway hyperreactivity\" EXACT []',\n",
       "  '\"asthma\" EXACT []',\n",
       "  '\"Asthma (disorder)\" EXACT []',\n",
       "  '\"Asthma NOS\" EXACT []',\n",
       "  '\"Asthma NOS (disorder)\" EXACT []',\n",
       "  '\"ASTHMA NOS W (AC) EXAC\" EXACT []',\n",
       "  '\"Asthma unspecified\" EXACT []',\n",
       "  '\"Asthma unspecified (disorder)\" EXACT []',\n",
       "  '\"Asthma, Bronchial\" EXACT []',\n",
       "  '\"Asthma, unspecified\" EXACT []',\n",
       "  '\"Asthma, unspecified type, with acute exacerbation\" EXACT []',\n",
       "  '\"Asthma, unspecified type, without mention of status asthmaticus\" EXACT []',\n",
       "  '\"Asthmas\" EXACT []',\n",
       "  '\"Asthmatic\" EXACT []',\n",
       "  '\"BHR - Bronchial hyperreactivity\" EXACT []',\n",
       "  '\"Bronchial asthma\" EXACT []',\n",
       "  '\"Bronchial Hyperreactivities\" EXACT []',\n",
       "  '\"Bronchial hyperreactivity\" EXACT []',\n",
       "  '\"bronchial hyperreactivity\" EXACT [DOID:2841]',\n",
       "  '\"Bronchial hyperresponsiveness\" EXACT []',\n",
       "  '\"Bronchial hypersensitivity\" EXACT []',\n",
       "  '\"chronic obstructive asthma\" EXACT [DOID:2841]',\n",
       "  '\"chronic obstructive asthma with acute exacerbation\" EXACT []',\n",
       "  '\"chronic obstructive asthma with acute exacerbation\" NARROW [DOID:2841]',\n",
       "  '\"chronic obstructive asthma with status asthmaticus\" EXACT [DOID:2841]',\n",
       "  '\"DUST PNEUMONOPATHY NEC\" EXACT []',\n",
       "  '\"Exercise induced asthma\" EXACT []',\n",
       "  '\"exercise induced asthma\" NARROW [DOID:2841]',\n",
       "  '\"Exercise-induced asthma\" EXACT []',\n",
       "  '\"exercise-induced asthma\" NARROW [DOID:2841]',\n",
       "  '\"Exercise-induced asthma (disorder)\" EXACT []',\n",
       "  '\"Hyperreactive airway disease\" EXACT []',\n",
       "  '\"Hyperreactive airways disease\" EXACT []',\n",
       "  '\"Hyperreactivities, Bronchial\" EXACT []',\n",
       "  '\"Hyperreactivity, Bronchial\" EXACT []',\n",
       "  '\"Other forms of asthma\" EXACT []',\n",
       "  '\"Pneumonopathy due to inhalation of other dust\" EXACT []',\n",
       "  '\"Pneumopathy due to inhalation of other dust\" EXACT []',\n",
       "  '\"Pneumopathy due to inhalation of other dust (disorder)\" EXACT []',\n",
       "  '\"Pneumopathy due to inhalation of other dust NOS\" EXACT []',\n",
       "  '\"Pneumopathy due to inhalation of other dust NOS (disorder)\" EXACT []'],\n",
       " 'xref': ['COHD:317009',\n",
       "  'DOID:2841',\n",
       "  'GARD:0010246',\n",
       "  'HP:0002099',\n",
       "  'ICD10:J45',\n",
       "  'ICD10:J45.90',\n",
       "  'ICD10:J45.909',\n",
       "  'ICD9:493',\n",
       "  'ICD9:493.81',\n",
       "  'ICD9:493.9',\n",
       "  'KEGG:05310',\n",
       "  'MESH:D001249',\n",
       "  'MONDO:0004979',\n",
       "  'MSH:D001249',\n",
       "  'NCIT:C28397',\n",
       "  'NCIt:C28397',\n",
       "  'OMIM:600807',\n",
       "  'OMIM:607277',\n",
       "  'OMIM:608584',\n",
       "  'OMIM:611064',\n",
       "  'OMIM:611960',\n",
       "  'SCTID:31387002',\n",
       "  'SNOMEDCT:195967001',\n",
       "  'UMLS:C0004096'],\n",
       " 'is_a': ['EFO:1002018'],\n",
       " 'property_value': ['closeMatch http://identifiers.org/snomedct/155574008',\n",
       "  'closeMatch http://identifiers.org/snomedct/155579003',\n",
       "  'closeMatch http://identifiers.org/snomedct/187687003',\n",
       "  'closeMatch http://identifiers.org/snomedct/195967001',\n",
       "  'closeMatch http://identifiers.org/snomedct/195979001',\n",
       "  'closeMatch http://identifiers.org/snomedct/195983001',\n",
       "  'closeMatch http://identifiers.org/snomedct/21341004',\n",
       "  'closeMatch http://identifiers.org/snomedct/266365004',\n",
       "  'closeMatch http://identifiers.org/snomedct/266398009',\n",
       "  'closeMatch http://identifiers.org/snomedct/278517007',\n",
       "  'exactMatch DOID:2841',\n",
       "  'exactMatch http://identifiers.org/mesh/D001249',\n",
       "  'exactMatch http://identifiers.org/snomedct/31387002',\n",
       "  'exactMatch http://linkedlifedata.com/resource/umls/id/C0004096',\n",
       "  'exactMatch NCIT:C28397',\n",
       "  'gwas:trait \"true\" xsd:string',\n",
       "  'IAO:0000117 \"James Malone\" xsd:string',\n",
       "  'IAO:0000117 \"Tomasz Adamusiak\" xsd:string']}"
      ]
     },
     "execution_count": 14,
     "metadata": {},
     "output_type": "execute_result"
    }
   ],
   "source": [
    "graph.nodes['EFO:0000270']"
   ]
  },
  {
   "cell_type": "markdown",
   "metadata": {},
   "source": [
    "## EFO to label"
   ]
  },
  {
   "cell_type": "code",
   "execution_count": 15,
   "metadata": {},
   "outputs": [],
   "source": [
    "efo_full_data = []\n",
    "\n",
    "for efo in efo_terms:\n",
    "    efo_data = {}\n",
    "    \n",
    "    efo_data['term_id'] = efo\n",
    "    efo_data['label'] = graph.nodes[efo].get('name')\n",
    "    \n",
    "    efo_full_data.append(efo_data)"
   ]
  },
  {
   "cell_type": "code",
   "execution_count": 16,
   "metadata": {},
   "outputs": [],
   "source": [
    "efo_label = pd.DataFrame(efo_full_data).set_index('term_id')"
   ]
  },
  {
   "cell_type": "code",
   "execution_count": 17,
   "metadata": {},
   "outputs": [
    {
     "data": {
      "text/plain": [
       "(26727, 1)"
      ]
     },
     "execution_count": 17,
     "metadata": {},
     "output_type": "execute_result"
    }
   ],
   "source": [
    "efo_label.shape"
   ]
  },
  {
   "cell_type": "code",
   "execution_count": 18,
   "metadata": {},
   "outputs": [],
   "source": [
    "assert efo_label.index.is_unique"
   ]
  },
  {
   "cell_type": "code",
   "execution_count": 19,
   "metadata": {},
   "outputs": [
    {
     "data": {
      "text/html": [
       "<div>\n",
       "<style scoped>\n",
       "    .dataframe tbody tr th:only-of-type {\n",
       "        vertical-align: middle;\n",
       "    }\n",
       "\n",
       "    .dataframe tbody tr th {\n",
       "        vertical-align: top;\n",
       "    }\n",
       "\n",
       "    .dataframe thead th {\n",
       "        text-align: right;\n",
       "    }\n",
       "</style>\n",
       "<table border=\"1\" class=\"dataframe\">\n",
       "  <thead>\n",
       "    <tr style=\"text-align: right;\">\n",
       "      <th></th>\n",
       "      <th>label</th>\n",
       "    </tr>\n",
       "    <tr>\n",
       "      <th>term_id</th>\n",
       "      <th></th>\n",
       "    </tr>\n",
       "  </thead>\n",
       "  <tbody>\n",
       "    <tr>\n",
       "      <th>Orphanet:268926</th>\n",
       "      <td>Midline cerebral malformation</td>\n",
       "    </tr>\n",
       "    <tr>\n",
       "      <th>EO:0007337</th>\n",
       "      <td>Nematoda</td>\n",
       "    </tr>\n",
       "    <tr>\n",
       "      <th>CHEBI:15075</th>\n",
       "      <td>selenate</td>\n",
       "    </tr>\n",
       "    <tr>\n",
       "      <th>MONDO:0018715</th>\n",
       "      <td>congenital hemangioma</td>\n",
       "    </tr>\n",
       "    <tr>\n",
       "      <th>NCBITaxon:375</th>\n",
       "      <td>Bradyrhizobium japonicum</td>\n",
       "    </tr>\n",
       "  </tbody>\n",
       "</table>\n",
       "</div>"
      ],
      "text/plain": [
       "                                         label\n",
       "term_id                                       \n",
       "Orphanet:268926  Midline cerebral malformation\n",
       "EO:0007337                            Nematoda\n",
       "CHEBI:15075                           selenate\n",
       "MONDO:0018715            congenital hemangioma\n",
       "NCBITaxon:375         Bradyrhizobium japonicum"
      ]
     },
     "execution_count": 19,
     "metadata": {},
     "output_type": "execute_result"
    }
   ],
   "source": [
    "efo_label.head()"
   ]
  },
  {
   "cell_type": "code",
   "execution_count": 20,
   "metadata": {},
   "outputs": [],
   "source": [
    "assert efo_label.loc['EFO:0000270', 'label'] == 'asthma'"
   ]
  },
  {
   "cell_type": "code",
   "execution_count": 21,
   "metadata": {},
   "outputs": [
    {
     "data": {
      "text/plain": [
       "PosixPath('/media/miltondp/Elements1/projects/phenoplier/data/term_id_labels.tsv.gz')"
      ]
     },
     "metadata": {},
     "output_type": "display_data"
    }
   ],
   "source": [
    "outfile = conf.GENERAL[\"TERM_ID_LABEL_FILE\"]\n",
    "display(outfile)\n",
    "\n",
    "efo_label.to_csv(outfile, sep='\\t')"
   ]
  },
  {
   "cell_type": "markdown",
   "metadata": {},
   "source": [
    "## Map xrefs"
   ]
  },
  {
   "cell_type": "code",
   "execution_count": 22,
   "metadata": {},
   "outputs": [],
   "source": [
    "efo_full_data = []\n",
    "\n",
    "for efo in efo_terms:\n",
    "    efo_data = {}\n",
    "    \n",
    "    efo_data['term_id'] = efo\n",
    "    \n",
    "    for xref_id, xref_data in groupby(graph.nodes[efo].get('xref')).items():\n",
    "        efo_data['target_id_type'] = xref_id\n",
    "        \n",
    "        for xref in xref_data:\n",
    "            efo_data['target_id'] = xref\n",
    "            efo_full_data.append(efo_data.copy())"
   ]
  },
  {
   "cell_type": "code",
   "execution_count": 23,
   "metadata": {},
   "outputs": [],
   "source": [
    "efo_full_data = pd.DataFrame(efo_full_data).set_index('term_id')"
   ]
  },
  {
   "cell_type": "code",
   "execution_count": 24,
   "metadata": {},
   "outputs": [
    {
     "data": {
      "text/plain": [
       "(104094, 2)"
      ]
     },
     "execution_count": 24,
     "metadata": {},
     "output_type": "execute_result"
    }
   ],
   "source": [
    "efo_full_data.shape"
   ]
  },
  {
   "cell_type": "code",
   "execution_count": 25,
   "metadata": {},
   "outputs": [
    {
     "data": {
      "text/html": [
       "<div>\n",
       "<style scoped>\n",
       "    .dataframe tbody tr th:only-of-type {\n",
       "        vertical-align: middle;\n",
       "    }\n",
       "\n",
       "    .dataframe tbody tr th {\n",
       "        vertical-align: top;\n",
       "    }\n",
       "\n",
       "    .dataframe thead th {\n",
       "        text-align: right;\n",
       "    }\n",
       "</style>\n",
       "<table border=\"1\" class=\"dataframe\">\n",
       "  <thead>\n",
       "    <tr style=\"text-align: right;\">\n",
       "      <th></th>\n",
       "      <th>target_id_type</th>\n",
       "      <th>target_id</th>\n",
       "    </tr>\n",
       "    <tr>\n",
       "      <th>term_id</th>\n",
       "      <th></th>\n",
       "      <th></th>\n",
       "    </tr>\n",
       "  </thead>\n",
       "  <tbody>\n",
       "    <tr>\n",
       "      <th>Orphanet:268926</th>\n",
       "      <td>ICD10</td>\n",
       "      <td>ICD10:Q04.8</td>\n",
       "    </tr>\n",
       "    <tr>\n",
       "      <th>Orphanet:268926</th>\n",
       "      <td>MONDO</td>\n",
       "      <td>MONDO:0017090</td>\n",
       "    </tr>\n",
       "    <tr>\n",
       "      <th>EO:0007337</th>\n",
       "      <td>PMID</td>\n",
       "      <td>PMID:19296854</td>\n",
       "    </tr>\n",
       "    <tr>\n",
       "      <th>MONDO:0018715</th>\n",
       "      <td>NCIT</td>\n",
       "      <td>NCIT:C3841</td>\n",
       "    </tr>\n",
       "    <tr>\n",
       "      <th>MONDO:0018715</th>\n",
       "      <td>Orphanet</td>\n",
       "      <td>Orphanet:458775</td>\n",
       "    </tr>\n",
       "  </tbody>\n",
       "</table>\n",
       "</div>"
      ],
      "text/plain": [
       "                target_id_type        target_id\n",
       "term_id                                        \n",
       "Orphanet:268926          ICD10      ICD10:Q04.8\n",
       "Orphanet:268926          MONDO    MONDO:0017090\n",
       "EO:0007337                PMID    PMID:19296854\n",
       "MONDO:0018715             NCIT       NCIT:C3841\n",
       "MONDO:0018715         Orphanet  Orphanet:458775"
      ]
     },
     "execution_count": 25,
     "metadata": {},
     "output_type": "execute_result"
    }
   ],
   "source": [
    "efo_full_data.head()"
   ]
  },
  {
   "cell_type": "code",
   "execution_count": 26,
   "metadata": {},
   "outputs": [
    {
     "data": {
      "text/plain": [
       "{'name': 'ENBREL',\n",
       " 'def': '\"Etanercept (trade name Enbrel) is a drug that treats autoimmune diseases by interfering with tumor necrosis factor (TNF; a soluble inflammatory cytokine) by acting as a TNF inhibitor. Pfizer describes in a SEC filing that the drug is used to treat rheumatoid, juvenile rheumatoid and psoriatic arthritis, plaque psoriasis and ankylosing spondylitis. Sales reached record $3.3 billion in 2010.[1]\\\\nEtanercept is a fusion protein produced through expression of recombinant DNA. That is, it is a product of a DNA \\\\\"construct\\\\\" engineered to link the human gene for soluble TNF receptor 2 to the gene for the Fc component of human immunoglobulin G1 (IgG1). Expression of the construct produces a continuous protein \\\\\"fusing\\\\\" TNF receptor 2 to IgG1. Production of Etanercept is accomplished by the large-scale culturing of cells that have been \\\\\"cloned\\\\\" to express this recombinant DNA construct.\" []',\n",
       " 'synonym': ['\"etanercept\" EXACT []'],\n",
       " 'xref': ['NCIt:C2381', 'SNOMEDCT:118259007', 'SNOMEDCT:387045004'],\n",
       " 'is_a': ['CHEBI:23888'],\n",
       " 'relationship': ['has_role EFO:0001899'],\n",
       " 'property_value': ['definition:citation http://en.wikipedia.org/wiki/Etanercept xsd:string']}"
      ]
     },
     "execution_count": 26,
     "metadata": {},
     "output_type": "execute_result"
    }
   ],
   "source": [
    "graph.nodes['EFO:0002669']"
   ]
  },
  {
   "cell_type": "code",
   "execution_count": 27,
   "metadata": {},
   "outputs": [
    {
     "data": {
      "text/html": [
       "<div>\n",
       "<style scoped>\n",
       "    .dataframe tbody tr th:only-of-type {\n",
       "        vertical-align: middle;\n",
       "    }\n",
       "\n",
       "    .dataframe tbody tr th {\n",
       "        vertical-align: top;\n",
       "    }\n",
       "\n",
       "    .dataframe thead th {\n",
       "        text-align: right;\n",
       "    }\n",
       "</style>\n",
       "<table border=\"1\" class=\"dataframe\">\n",
       "  <thead>\n",
       "    <tr style=\"text-align: right;\">\n",
       "      <th></th>\n",
       "      <th>target_id_type</th>\n",
       "      <th>target_id</th>\n",
       "    </tr>\n",
       "    <tr>\n",
       "      <th>term_id</th>\n",
       "      <th></th>\n",
       "      <th></th>\n",
       "    </tr>\n",
       "  </thead>\n",
       "  <tbody>\n",
       "    <tr>\n",
       "      <th>EFO:0002669</th>\n",
       "      <td>NCIt</td>\n",
       "      <td>NCIt:C2381</td>\n",
       "    </tr>\n",
       "    <tr>\n",
       "      <th>EFO:0002669</th>\n",
       "      <td>SNOMEDCT</td>\n",
       "      <td>SNOMEDCT:387045004</td>\n",
       "    </tr>\n",
       "    <tr>\n",
       "      <th>EFO:0002669</th>\n",
       "      <td>SNOMEDCT</td>\n",
       "      <td>SNOMEDCT:118259007</td>\n",
       "    </tr>\n",
       "  </tbody>\n",
       "</table>\n",
       "</div>"
      ],
      "text/plain": [
       "            target_id_type           target_id\n",
       "term_id                                       \n",
       "EFO:0002669           NCIt          NCIt:C2381\n",
       "EFO:0002669       SNOMEDCT  SNOMEDCT:387045004\n",
       "EFO:0002669       SNOMEDCT  SNOMEDCT:118259007"
      ]
     },
     "execution_count": 27,
     "metadata": {},
     "output_type": "execute_result"
    }
   ],
   "source": [
    "efo_full_data.loc['EFO:0002669']"
   ]
  },
  {
   "cell_type": "code",
   "execution_count": 28,
   "metadata": {},
   "outputs": [],
   "source": [
    "# some testing\n",
    "assert efo_full_data.loc['EFO:0002669'].shape[0] == 3\n",
    "\n",
    "_tmp = efo_full_data.loc['EFO:0002669'].sort_values('target_id')\n",
    "\n",
    "assert _tmp.iloc[0]['target_id_type'] == 'NCIt'\n",
    "assert _tmp.iloc[0]['target_id'] == 'NCIt:C2381'\n",
    "\n",
    "assert _tmp.iloc[1]['target_id_type'] == 'SNOMEDCT'\n",
    "assert _tmp.iloc[1]['target_id'] == 'SNOMEDCT:118259007'\n",
    "\n",
    "assert _tmp.iloc[2]['target_id_type'] == 'SNOMEDCT'\n",
    "assert _tmp.iloc[2]['target_id'] == 'SNOMEDCT:387045004'"
   ]
  },
  {
   "cell_type": "code",
   "execution_count": 29,
   "metadata": {},
   "outputs": [
    {
     "data": {
      "text/plain": [
       "PosixPath('/media/miltondp/Elements1/projects/phenoplier/data/term_id_xrefs.tsv.gz')"
      ]
     },
     "metadata": {},
     "output_type": "display_data"
    }
   ],
   "source": [
    "outfile = conf.GENERAL[\"TERM_ID_XREFS_FILE\"]\n",
    "display(outfile)\n",
    "\n",
    "efo_full_data.to_csv(outfile, sep='\\t')"
   ]
  },
  {
   "cell_type": "code",
   "execution_count": null,
   "metadata": {},
   "outputs": [],
   "source": []
  }
 ],
 "metadata": {
  "kernelspec": {
   "display_name": "Python 3",
   "language": "python",
   "name": "python3"
  },
  "language_info": {
   "codemirror_mode": {
    "name": "ipython",
    "version": 3
   },
   "file_extension": ".py",
   "mimetype": "text/x-python",
   "name": "python",
   "nbconvert_exporter": "python",
   "pygments_lexer": "ipython3",
   "version": "3.8.6"
  }
 },
 "nbformat": 4,
 "nbformat_minor": 4
}
