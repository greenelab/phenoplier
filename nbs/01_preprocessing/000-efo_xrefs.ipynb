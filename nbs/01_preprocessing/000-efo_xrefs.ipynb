{
 "cells": [
  {
   "cell_type": "markdown",
   "metadata": {
    "papermill": {
     "duration": 0.038284,
     "end_time": "2020-12-14T21:24:14.404156",
     "exception": false,
     "start_time": "2020-12-14T21:24:14.365872",
     "status": "completed"
    },
    "tags": []
   },
   "source": [
    "# Description"
   ]
  },
  {
   "cell_type": "markdown",
   "metadata": {},
   "source": [
    "It extracts from the EFO ontology all the xrefs from efo labels to other ontologies/datasets (such as Disease Ontology, ICD9, etc)."
   ]
  },
  {
   "cell_type": "markdown",
   "metadata": {
    "papermill": {
     "duration": 0.012823,
     "end_time": "2020-12-14T21:24:14.429845",
     "exception": false,
     "start_time": "2020-12-14T21:24:14.417022",
     "status": "completed"
    },
    "tags": []
   },
   "source": [
    "# Modules loading"
   ]
  },
  {
   "cell_type": "code",
   "execution_count": 1,
   "metadata": {
    "execution": {
     "iopub.execute_input": "2020-12-14T21:24:14.457569Z",
     "iopub.status.busy": "2020-12-14T21:24:14.457182Z",
     "iopub.status.idle": "2020-12-14T21:24:14.465203Z",
     "shell.execute_reply": "2020-12-14T21:24:14.464793Z"
    },
    "papermill": {
     "duration": 0.023627,
     "end_time": "2020-12-14T21:24:14.465328",
     "exception": false,
     "start_time": "2020-12-14T21:24:14.441701",
     "status": "completed"
    },
    "tags": []
   },
   "outputs": [],
   "source": [
    "%load_ext autoreload\n",
    "%autoreload 2"
   ]
  },
  {
   "cell_type": "code",
   "execution_count": 2,
   "metadata": {
    "execution": {
     "iopub.execute_input": "2020-12-14T21:24:14.492163Z",
     "iopub.status.busy": "2020-12-14T21:24:14.491793Z",
     "iopub.status.idle": "2020-12-14T21:24:14.845580Z",
     "shell.execute_reply": "2020-12-14T21:24:14.845180Z"
    },
    "papermill": {
     "duration": 0.36795,
     "end_time": "2020-12-14T21:24:14.845672",
     "exception": false,
     "start_time": "2020-12-14T21:24:14.477722",
     "status": "completed"
    },
    "tags": []
   },
   "outputs": [],
   "source": [
    "from collections import defaultdict\n",
    "\n",
    "import pandas as pd\n",
    "import networkx\n",
    "import obonet\n",
    "\n",
    "import conf"
   ]
  },
  {
   "cell_type": "markdown",
   "metadata": {
    "papermill": {
     "duration": 0.01148,
     "end_time": "2020-12-14T21:24:14.869442",
     "exception": false,
     "start_time": "2020-12-14T21:24:14.857962",
     "status": "completed"
    },
    "tags": []
   },
   "source": [
    "# Functions"
   ]
  },
  {
   "cell_type": "code",
   "execution_count": 3,
   "metadata": {
    "execution": {
     "iopub.execute_input": "2020-12-14T21:24:14.895571Z",
     "iopub.status.busy": "2020-12-14T21:24:14.895196Z",
     "iopub.status.idle": "2020-12-14T21:24:14.904333Z",
     "shell.execute_reply": "2020-12-14T21:24:14.903961Z"
    },
    "papermill": {
     "duration": 0.023396,
     "end_time": "2020-12-14T21:24:14.904419",
     "exception": false,
     "start_time": "2020-12-14T21:24:14.881023",
     "status": "completed"
    },
    "tags": []
   },
   "outputs": [],
   "source": [
    "def groupby(data, sep=':'):\n",
    "    if data is None:\n",
    "        return {}\n",
    "    res = defaultdict(set)\n",
    "    for d in data:\n",
    "        ds = d.split(sep)\n",
    "        res[ds[0]].add(d)\n",
    "    return res"
   ]
  },
  {
   "cell_type": "code",
   "execution_count": 4,
   "metadata": {
    "execution": {
     "iopub.execute_input": "2020-12-14T21:24:14.931591Z",
     "iopub.status.busy": "2020-12-14T21:24:14.931204Z",
     "iopub.status.idle": "2020-12-14T21:24:14.940082Z",
     "shell.execute_reply": "2020-12-14T21:24:14.940377Z"
    },
    "papermill": {
     "duration": 0.023823,
     "end_time": "2020-12-14T21:24:14.940490",
     "exception": false,
     "start_time": "2020-12-14T21:24:14.916667",
     "status": "completed"
    },
    "tags": []
   },
   "outputs": [],
   "source": [
    "test_data = [\n",
    "  'DOID:2841',\n",
    "  'HP:0002099',\n",
    "  'ICD10:J45',\n",
    "  'ICD10:J45.90',\n",
    "  'ICD9:493',\n",
    "  'ICD9:493.81',\n",
    "  'ICD9:493.9',\n",
    "  'KEGG:05310',\n",
    "]"
   ]
  },
  {
   "cell_type": "code",
   "execution_count": 5,
   "metadata": {
    "execution": {
     "iopub.execute_input": "2020-12-14T21:24:14.968916Z",
     "iopub.status.busy": "2020-12-14T21:24:14.968517Z",
     "iopub.status.idle": "2020-12-14T21:24:14.977654Z",
     "shell.execute_reply": "2020-12-14T21:24:14.977947Z"
    },
    "papermill": {
     "duration": 0.024736,
     "end_time": "2020-12-14T21:24:14.978061",
     "exception": false,
     "start_time": "2020-12-14T21:24:14.953325",
     "status": "completed"
    },
    "tags": []
   },
   "outputs": [],
   "source": [
    "_tmp = groupby(test_data)\n",
    "assert _tmp is not None\n",
    "assert len(_tmp) == 5\n",
    "\n",
    "assert len(_tmp['DOID']) == 1\n",
    "assert len(_tmp['HP']) == 1\n",
    "assert len(_tmp['ICD10']) == 2\n",
    "assert len(_tmp['ICD9']) == 3\n",
    "assert len(_tmp['KEGG']) == 1"
   ]
  },
  {
   "cell_type": "code",
   "execution_count": 6,
   "metadata": {
    "execution": {
     "iopub.execute_input": "2020-12-14T21:24:15.005573Z",
     "iopub.status.busy": "2020-12-14T21:24:15.005194Z",
     "iopub.status.idle": "2020-12-14T21:24:15.019287Z",
     "shell.execute_reply": "2020-12-14T21:24:15.018906Z"
    },
    "papermill": {
     "duration": 0.028662,
     "end_time": "2020-12-14T21:24:15.019378",
     "exception": false,
     "start_time": "2020-12-14T21:24:14.990716",
     "status": "completed"
    },
    "tags": []
   },
   "outputs": [
    {
     "data": {
      "text/plain": [
       "defaultdict(set,\n",
       "            {'DOID': {'DOID:2841'},\n",
       "             'HP': {'HP:0002099'},\n",
       "             'ICD10': {'ICD10:J45', 'ICD10:J45.90'},\n",
       "             'ICD9': {'ICD9:493', 'ICD9:493.81', 'ICD9:493.9'},\n",
       "             'KEGG': {'KEGG:05310'}})"
      ]
     },
     "execution_count": 6,
     "metadata": {},
     "output_type": "execute_result"
    }
   ],
   "source": [
    "_tmp"
   ]
  },
  {
   "cell_type": "code",
   "execution_count": 7,
   "metadata": {
    "execution": {
     "iopub.execute_input": "2020-12-14T21:24:15.047742Z",
     "iopub.status.busy": "2020-12-14T21:24:15.047377Z",
     "iopub.status.idle": "2020-12-14T21:24:15.056499Z",
     "shell.execute_reply": "2020-12-14T21:24:15.056129Z"
    },
    "papermill": {
     "duration": 0.024462,
     "end_time": "2020-12-14T21:24:15.056586",
     "exception": false,
     "start_time": "2020-12-14T21:24:15.032124",
     "status": "completed"
    },
    "tags": []
   },
   "outputs": [],
   "source": [
    "def get_parents(node):\n",
    "    for t in graph.successors(node):\n",
    "        yield t\n",
    "\n",
    "def _is_disease_single_node(node):\n",
    "    return node == 'EFO:0000408'\n",
    "\n",
    "def is_disease(node):\n",
    "    if _is_disease_single_node(node):\n",
    "        return True\n",
    "    \n",
    "    for parent_node in get_parents(node):\n",
    "        if is_disease(parent_node):\n",
    "            return True\n",
    "    \n",
    "    return False"
   ]
  },
  {
   "cell_type": "markdown",
   "metadata": {
    "papermill": {
     "duration": 0.011866,
     "end_time": "2020-12-14T21:24:15.080899",
     "exception": false,
     "start_time": "2020-12-14T21:24:15.069033",
     "status": "completed"
    },
    "tags": []
   },
   "source": [
    "# Read the EFO ontology"
   ]
  },
  {
   "cell_type": "code",
   "execution_count": 8,
   "metadata": {
    "execution": {
     "iopub.execute_input": "2020-12-14T21:24:15.106961Z",
     "iopub.status.busy": "2020-12-14T21:24:15.106594Z",
     "iopub.status.idle": "2020-12-14T21:24:19.870024Z",
     "shell.execute_reply": "2020-12-14T21:24:19.869519Z"
    },
    "papermill": {
     "duration": 4.77742,
     "end_time": "2020-12-14T21:24:19.870138",
     "exception": false,
     "start_time": "2020-12-14T21:24:15.092718",
     "status": "completed"
    },
    "tags": []
   },
   "outputs": [],
   "source": [
    "url = conf.GENERAL[\"EFO_ONTOLOGY_OBO_FILE\"]\n",
    "graph = obonet.read_obo(url)"
   ]
  },
  {
   "cell_type": "code",
   "execution_count": 9,
   "metadata": {
    "execution": {
     "iopub.execute_input": "2020-12-14T21:24:19.904119Z",
     "iopub.status.busy": "2020-12-14T21:24:19.903671Z",
     "iopub.status.idle": "2020-12-14T21:24:19.914356Z",
     "shell.execute_reply": "2020-12-14T21:24:19.914678Z"
    },
    "papermill": {
     "duration": 0.028453,
     "end_time": "2020-12-14T21:24:19.914798",
     "exception": false,
     "start_time": "2020-12-14T21:24:19.886345",
     "status": "completed"
    },
    "tags": []
   },
   "outputs": [
    {
     "data": {
      "text/plain": [
       "26727"
      ]
     },
     "execution_count": 9,
     "metadata": {},
     "output_type": "execute_result"
    }
   ],
   "source": [
    "# Number of nodes\n",
    "len(graph)"
   ]
  },
  {
   "cell_type": "code",
   "execution_count": 10,
   "metadata": {
    "execution": {
     "iopub.execute_input": "2020-12-14T21:24:19.945084Z",
     "iopub.status.busy": "2020-12-14T21:24:19.944653Z",
     "iopub.status.idle": "2020-12-14T21:24:19.990541Z",
     "shell.execute_reply": "2020-12-14T21:24:19.990100Z"
    },
    "papermill": {
     "duration": 0.06168,
     "end_time": "2020-12-14T21:24:19.990643",
     "exception": false,
     "start_time": "2020-12-14T21:24:19.928963",
     "status": "completed"
    },
    "tags": []
   },
   "outputs": [
    {
     "data": {
      "text/plain": [
       "52865"
      ]
     },
     "execution_count": 10,
     "metadata": {},
     "output_type": "execute_result"
    }
   ],
   "source": [
    "# Number of edges\n",
    "graph.number_of_edges()"
   ]
  },
  {
   "cell_type": "code",
   "execution_count": 11,
   "metadata": {
    "execution": {
     "iopub.execute_input": "2020-12-14T21:24:20.021153Z",
     "iopub.status.busy": "2020-12-14T21:24:20.020746Z",
     "iopub.status.idle": "2020-12-14T21:24:20.030086Z",
     "shell.execute_reply": "2020-12-14T21:24:20.030396Z"
    },
    "papermill": {
     "duration": 0.025705,
     "end_time": "2020-12-14T21:24:20.030513",
     "exception": false,
     "start_time": "2020-12-14T21:24:20.004808",
     "status": "completed"
    },
    "tags": []
   },
   "outputs": [],
   "source": [
    "assert graph.nodes['EFO:0000270'].get('name') == 'asthma'"
   ]
  },
  {
   "cell_type": "markdown",
   "metadata": {
    "papermill": {
     "duration": 0.013662,
     "end_time": "2020-12-14T21:24:20.058162",
     "exception": false,
     "start_time": "2020-12-14T21:24:20.044500",
     "status": "completed"
    },
    "tags": []
   },
   "source": [
    "# Map EFO to other references"
   ]
  },
  {
   "cell_type": "code",
   "execution_count": 12,
   "metadata": {
    "execution": {
     "iopub.execute_input": "2020-12-14T21:24:20.085558Z",
     "iopub.status.busy": "2020-12-14T21:24:20.085180Z",
     "iopub.status.idle": "2020-12-14T21:24:20.103208Z",
     "shell.execute_reply": "2020-12-14T21:24:20.101838Z"
    },
    "papermill": {
     "duration": 0.032709,
     "end_time": "2020-12-14T21:24:20.103558",
     "exception": false,
     "start_time": "2020-12-14T21:24:20.070849",
     "status": "completed"
    },
    "tags": []
   },
   "outputs": [],
   "source": [
    "efo_terms = {\n",
    "    node_id for node_id in graph.nodes.keys()# if node_id.startswith('EFO:')# and is_disease(node_id)\n",
    "}"
   ]
  },
  {
   "cell_type": "code",
   "execution_count": 13,
   "metadata": {
    "execution": {
     "iopub.execute_input": "2020-12-14T21:24:20.163673Z",
     "iopub.status.busy": "2020-12-14T21:24:20.163311Z",
     "iopub.status.idle": "2020-12-14T21:24:20.173166Z",
     "shell.execute_reply": "2020-12-14T21:24:20.172851Z"
    },
    "papermill": {
     "duration": 0.028124,
     "end_time": "2020-12-14T21:24:20.173254",
     "exception": false,
     "start_time": "2020-12-14T21:24:20.145130",
     "status": "completed"
    },
    "tags": []
   },
   "outputs": [
    {
     "data": {
      "text/plain": [
       "26727"
      ]
     },
     "execution_count": 13,
     "metadata": {},
     "output_type": "execute_result"
    }
   ],
   "source": [
    "len(efo_terms)"
   ]
  },
  {
   "cell_type": "code",
   "execution_count": 14,
   "metadata": {
    "execution": {
     "iopub.execute_input": "2020-12-14T21:24:20.200773Z",
     "iopub.status.busy": "2020-12-14T21:24:20.200347Z",
     "iopub.status.idle": "2020-12-14T21:24:20.210995Z",
     "shell.execute_reply": "2020-12-14T21:24:20.210660Z"
    },
    "papermill": {
     "duration": 0.025146,
     "end_time": "2020-12-14T21:24:20.211081",
     "exception": false,
     "start_time": "2020-12-14T21:24:20.185935",
     "status": "completed"
    },
    "tags": []
   },
   "outputs": [
    {
     "data": {
      "text/plain": [
       "{'name': 'asthma',\n",
       " 'def': '\"Tendency of the smooth muscle of the tracheobronchial tree to contract more intensely in response to a given stimulus than it does in the response seen in normal individuals. This condition is present in virtually all symptomatic patients with asthma. The most prominent manifestation of this smooth muscle contraction is a decrease in airway caliber that can be readily measured in the pulmonary function laboratory.\" []',\n",
       " 'synonym': ['\"Airway hyperreactivity\" EXACT []',\n",
       "  '\"asthma\" EXACT []',\n",
       "  '\"Asthma (disorder)\" EXACT []',\n",
       "  '\"Asthma NOS\" EXACT []',\n",
       "  '\"Asthma NOS (disorder)\" EXACT []',\n",
       "  '\"ASTHMA NOS W (AC) EXAC\" EXACT []',\n",
       "  '\"Asthma unspecified\" EXACT []',\n",
       "  '\"Asthma unspecified (disorder)\" EXACT []',\n",
       "  '\"Asthma, Bronchial\" EXACT []',\n",
       "  '\"Asthma, unspecified\" EXACT []',\n",
       "  '\"Asthma, unspecified type, with acute exacerbation\" EXACT []',\n",
       "  '\"Asthma, unspecified type, without mention of status asthmaticus\" EXACT []',\n",
       "  '\"Asthmas\" EXACT []',\n",
       "  '\"Asthmatic\" EXACT []',\n",
       "  '\"BHR - Bronchial hyperreactivity\" EXACT []',\n",
       "  '\"Bronchial asthma\" EXACT []',\n",
       "  '\"Bronchial Hyperreactivities\" EXACT []',\n",
       "  '\"Bronchial hyperreactivity\" EXACT []',\n",
       "  '\"bronchial hyperreactivity\" EXACT [DOID:2841]',\n",
       "  '\"Bronchial hyperresponsiveness\" EXACT []',\n",
       "  '\"Bronchial hypersensitivity\" EXACT []',\n",
       "  '\"chronic obstructive asthma\" EXACT [DOID:2841]',\n",
       "  '\"chronic obstructive asthma with acute exacerbation\" EXACT []',\n",
       "  '\"chronic obstructive asthma with acute exacerbation\" NARROW [DOID:2841]',\n",
       "  '\"chronic obstructive asthma with status asthmaticus\" EXACT [DOID:2841]',\n",
       "  '\"DUST PNEUMONOPATHY NEC\" EXACT []',\n",
       "  '\"Exercise induced asthma\" EXACT []',\n",
       "  '\"exercise induced asthma\" NARROW [DOID:2841]',\n",
       "  '\"Exercise-induced asthma\" EXACT []',\n",
       "  '\"exercise-induced asthma\" NARROW [DOID:2841]',\n",
       "  '\"Exercise-induced asthma (disorder)\" EXACT []',\n",
       "  '\"Hyperreactive airway disease\" EXACT []',\n",
       "  '\"Hyperreactive airways disease\" EXACT []',\n",
       "  '\"Hyperreactivities, Bronchial\" EXACT []',\n",
       "  '\"Hyperreactivity, Bronchial\" EXACT []',\n",
       "  '\"Other forms of asthma\" EXACT []',\n",
       "  '\"Pneumonopathy due to inhalation of other dust\" EXACT []',\n",
       "  '\"Pneumopathy due to inhalation of other dust\" EXACT []',\n",
       "  '\"Pneumopathy due to inhalation of other dust (disorder)\" EXACT []',\n",
       "  '\"Pneumopathy due to inhalation of other dust NOS\" EXACT []',\n",
       "  '\"Pneumopathy due to inhalation of other dust NOS (disorder)\" EXACT []'],\n",
       " 'xref': ['COHD:317009',\n",
       "  'DOID:2841',\n",
       "  'GARD:0010246',\n",
       "  'HP:0002099',\n",
       "  'ICD10:J45',\n",
       "  'ICD10:J45.90',\n",
       "  'ICD10:J45.909',\n",
       "  'ICD9:493',\n",
       "  'ICD9:493.81',\n",
       "  'ICD9:493.9',\n",
       "  'KEGG:05310',\n",
       "  'MESH:D001249',\n",
       "  'MONDO:0004979',\n",
       "  'MSH:D001249',\n",
       "  'NCIT:C28397',\n",
       "  'NCIt:C28397',\n",
       "  'OMIM:600807',\n",
       "  'OMIM:607277',\n",
       "  'OMIM:608584',\n",
       "  'OMIM:611064',\n",
       "  'OMIM:611960',\n",
       "  'SCTID:31387002',\n",
       "  'SNOMEDCT:195967001',\n",
       "  'UMLS:C0004096'],\n",
       " 'is_a': ['EFO:1002018'],\n",
       " 'property_value': ['closeMatch http://identifiers.org/snomedct/155574008',\n",
       "  'closeMatch http://identifiers.org/snomedct/155579003',\n",
       "  'closeMatch http://identifiers.org/snomedct/187687003',\n",
       "  'closeMatch http://identifiers.org/snomedct/195967001',\n",
       "  'closeMatch http://identifiers.org/snomedct/195979001',\n",
       "  'closeMatch http://identifiers.org/snomedct/195983001',\n",
       "  'closeMatch http://identifiers.org/snomedct/21341004',\n",
       "  'closeMatch http://identifiers.org/snomedct/266365004',\n",
       "  'closeMatch http://identifiers.org/snomedct/266398009',\n",
       "  'closeMatch http://identifiers.org/snomedct/278517007',\n",
       "  'exactMatch DOID:2841',\n",
       "  'exactMatch http://identifiers.org/mesh/D001249',\n",
       "  'exactMatch http://identifiers.org/snomedct/31387002',\n",
       "  'exactMatch http://linkedlifedata.com/resource/umls/id/C0004096',\n",
       "  'exactMatch NCIT:C28397',\n",
       "  'gwas:trait \"true\" xsd:string',\n",
       "  'IAO:0000117 \"James Malone\" xsd:string',\n",
       "  'IAO:0000117 \"Tomasz Adamusiak\" xsd:string']}"
      ]
     },
     "execution_count": 14,
     "metadata": {},
     "output_type": "execute_result"
    }
   ],
   "source": [
    "graph.nodes['EFO:0000270']"
   ]
  },
  {
   "cell_type": "markdown",
   "metadata": {
    "papermill": {
     "duration": 0.012643,
     "end_time": "2020-12-14T21:24:20.236739",
     "exception": false,
     "start_time": "2020-12-14T21:24:20.224096",
     "status": "completed"
    },
    "tags": []
   },
   "source": [
    "## EFO to label"
   ]
  },
  {
   "cell_type": "code",
   "execution_count": 15,
   "metadata": {
    "execution": {
     "iopub.execute_input": "2020-12-14T21:24:20.265346Z",
     "iopub.status.busy": "2020-12-14T21:24:20.264979Z",
     "iopub.status.idle": "2020-12-14T21:24:20.310919Z",
     "shell.execute_reply": "2020-12-14T21:24:20.311283Z"
    },
    "papermill": {
     "duration": 0.061563,
     "end_time": "2020-12-14T21:24:20.311421",
     "exception": false,
     "start_time": "2020-12-14T21:24:20.249858",
     "status": "completed"
    },
    "tags": []
   },
   "outputs": [],
   "source": [
    "efo_full_data = []\n",
    "\n",
    "for efo in efo_terms:\n",
    "    efo_data = {}\n",
    "    \n",
    "    efo_data['term_id'] = efo\n",
    "    efo_data['label'] = graph.nodes[efo].get('name')\n",
    "    \n",
    "    efo_full_data.append(efo_data)"
   ]
  },
  {
   "cell_type": "code",
   "execution_count": 16,
   "metadata": {
    "execution": {
     "iopub.execute_input": "2020-12-14T21:24:20.345785Z",
     "iopub.status.busy": "2020-12-14T21:24:20.345387Z",
     "iopub.status.idle": "2020-12-14T21:24:20.378580Z",
     "shell.execute_reply": "2020-12-14T21:24:20.378137Z"
    },
    "papermill": {
     "duration": 0.05122,
     "end_time": "2020-12-14T21:24:20.378692",
     "exception": false,
     "start_time": "2020-12-14T21:24:20.327472",
     "status": "completed"
    },
    "tags": []
   },
   "outputs": [],
   "source": [
    "efo_label = pd.DataFrame(efo_full_data).set_index('term_id')"
   ]
  },
  {
   "cell_type": "code",
   "execution_count": 17,
   "metadata": {
    "execution": {
     "iopub.execute_input": "2020-12-14T21:24:20.413612Z",
     "iopub.status.busy": "2020-12-14T21:24:20.413216Z",
     "iopub.status.idle": "2020-12-14T21:24:20.423331Z",
     "shell.execute_reply": "2020-12-14T21:24:20.423692Z"
    },
    "papermill": {
     "duration": 0.028423,
     "end_time": "2020-12-14T21:24:20.423820",
     "exception": false,
     "start_time": "2020-12-14T21:24:20.395397",
     "status": "completed"
    },
    "tags": []
   },
   "outputs": [
    {
     "data": {
      "text/plain": [
       "(26727, 1)"
      ]
     },
     "execution_count": 17,
     "metadata": {},
     "output_type": "execute_result"
    }
   ],
   "source": [
    "efo_label.shape"
   ]
  },
  {
   "cell_type": "code",
   "execution_count": 18,
   "metadata": {
    "execution": {
     "iopub.execute_input": "2020-12-14T21:24:20.454774Z",
     "iopub.status.busy": "2020-12-14T21:24:20.454393Z",
     "iopub.status.idle": "2020-12-14T21:24:20.471067Z",
     "shell.execute_reply": "2020-12-14T21:24:20.470638Z"
    },
    "papermill": {
     "duration": 0.032472,
     "end_time": "2020-12-14T21:24:20.471179",
     "exception": false,
     "start_time": "2020-12-14T21:24:20.438707",
     "status": "completed"
    },
    "tags": []
   },
   "outputs": [],
   "source": [
    "assert efo_label.index.is_unique"
   ]
  },
  {
   "cell_type": "code",
   "execution_count": 19,
   "metadata": {
    "execution": {
     "iopub.execute_input": "2020-12-14T21:24:20.506824Z",
     "iopub.status.busy": "2020-12-14T21:24:20.506413Z",
     "iopub.status.idle": "2020-12-14T21:24:20.519080Z",
     "shell.execute_reply": "2020-12-14T21:24:20.518763Z"
    },
    "papermill": {
     "duration": 0.031068,
     "end_time": "2020-12-14T21:24:20.519174",
     "exception": false,
     "start_time": "2020-12-14T21:24:20.488106",
     "status": "completed"
    },
    "tags": []
   },
   "outputs": [
    {
     "data": {
      "text/html": [
       "<div>\n",
       "<style scoped>\n",
       "    .dataframe tbody tr th:only-of-type {\n",
       "        vertical-align: middle;\n",
       "    }\n",
       "\n",
       "    .dataframe tbody tr th {\n",
       "        vertical-align: top;\n",
       "    }\n",
       "\n",
       "    .dataframe thead th {\n",
       "        text-align: right;\n",
       "    }\n",
       "</style>\n",
       "<table border=\"1\" class=\"dataframe\">\n",
       "  <thead>\n",
       "    <tr style=\"text-align: right;\">\n",
       "      <th></th>\n",
       "      <th>label</th>\n",
       "    </tr>\n",
       "    <tr>\n",
       "      <th>term_id</th>\n",
       "      <th></th>\n",
       "    </tr>\n",
       "  </thead>\n",
       "  <tbody>\n",
       "    <tr>\n",
       "      <th>EFO:1001070</th>\n",
       "      <td>ocular tuberculosis</td>\n",
       "    </tr>\n",
       "    <tr>\n",
       "      <th>Orphanet:284139</th>\n",
       "      <td>Larsen-like syndrome, B3GAT3 type</td>\n",
       "    </tr>\n",
       "    <tr>\n",
       "      <th>EFO:0007776</th>\n",
       "      <td>prothrombin fragments F1+2 measurement</td>\n",
       "    </tr>\n",
       "    <tr>\n",
       "      <th>FMA:66762</th>\n",
       "      <td>synovial membrane</td>\n",
       "    </tr>\n",
       "    <tr>\n",
       "      <th>Orphanet:2153</th>\n",
       "      <td>Hirschsprung disease - nail hypoplasia - dysmo...</td>\n",
       "    </tr>\n",
       "  </tbody>\n",
       "</table>\n",
       "</div>"
      ],
      "text/plain": [
       "                                                             label\n",
       "term_id                                                           \n",
       "EFO:1001070                                    ocular tuberculosis\n",
       "Orphanet:284139                  Larsen-like syndrome, B3GAT3 type\n",
       "EFO:0007776                 prothrombin fragments F1+2 measurement\n",
       "FMA:66762                                        synovial membrane\n",
       "Orphanet:2153    Hirschsprung disease - nail hypoplasia - dysmo..."
      ]
     },
     "execution_count": 19,
     "metadata": {},
     "output_type": "execute_result"
    }
   ],
   "source": [
    "efo_label.head()"
   ]
  },
  {
   "cell_type": "code",
   "execution_count": 20,
   "metadata": {
    "execution": {
     "iopub.execute_input": "2020-12-14T21:24:20.549865Z",
     "iopub.status.busy": "2020-12-14T21:24:20.549502Z",
     "iopub.status.idle": "2020-12-14T21:24:20.558805Z",
     "shell.execute_reply": "2020-12-14T21:24:20.558444Z"
    },
    "papermill": {
     "duration": 0.025496,
     "end_time": "2020-12-14T21:24:20.558890",
     "exception": false,
     "start_time": "2020-12-14T21:24:20.533394",
     "status": "completed"
    },
    "tags": []
   },
   "outputs": [],
   "source": [
    "assert efo_label.loc['EFO:0000270', 'label'] == 'asthma'"
   ]
  },
  {
   "cell_type": "code",
   "execution_count": 21,
   "metadata": {
    "execution": {
     "iopub.execute_input": "2020-12-14T21:24:20.587698Z",
     "iopub.status.busy": "2020-12-14T21:24:20.587318Z",
     "iopub.status.idle": "2020-12-14T21:24:20.700201Z",
     "shell.execute_reply": "2020-12-14T21:24:20.699815Z"
    },
    "papermill": {
     "duration": 0.128279,
     "end_time": "2020-12-14T21:24:20.700288",
     "exception": false,
     "start_time": "2020-12-14T21:24:20.572009",
     "status": "completed"
    },
    "tags": []
   },
   "outputs": [
    {
     "data": {
      "text/plain": [
       "PosixPath('/home/miltondp/projects/labs/greenelab/phenoplier/base/data/term_id_labels.tsv.gz')"
      ]
     },
     "metadata": {},
     "output_type": "display_data"
    }
   ],
   "source": [
    "outfile = conf.GENERAL[\"TERM_ID_LABEL_FILE\"]\n",
    "display(outfile)\n",
    "\n",
    "efo_label.to_csv(outfile, sep='\\t')"
   ]
  },
  {
   "cell_type": "markdown",
   "metadata": {
    "papermill": {
     "duration": 0.013222,
     "end_time": "2020-12-14T21:24:20.727011",
     "exception": false,
     "start_time": "2020-12-14T21:24:20.713789",
     "status": "completed"
    },
    "tags": []
   },
   "source": [
    "## Map xrefs"
   ]
  },
  {
   "cell_type": "code",
   "execution_count": 22,
   "metadata": {
    "execution": {
     "iopub.execute_input": "2020-12-14T21:24:20.757646Z",
     "iopub.status.busy": "2020-12-14T21:24:20.757122Z",
     "iopub.status.idle": "2020-12-14T21:24:20.904636Z",
     "shell.execute_reply": "2020-12-14T21:24:20.904935Z"
    },
    "papermill": {
     "duration": 0.164207,
     "end_time": "2020-12-14T21:24:20.905051",
     "exception": false,
     "start_time": "2020-12-14T21:24:20.740844",
     "status": "completed"
    },
    "tags": []
   },
   "outputs": [],
   "source": [
    "efo_full_data = []\n",
    "\n",
    "for efo in efo_terms:\n",
    "    efo_data = {}\n",
    "    \n",
    "    efo_data['term_id'] = efo\n",
    "    \n",
    "    for xref_id, xref_data in groupby(graph.nodes[efo].get('xref')).items():\n",
    "        efo_data['target_id_type'] = xref_id\n",
    "        \n",
    "        for xref in xref_data:\n",
    "            efo_data['target_id'] = xref\n",
    "            efo_full_data.append(efo_data.copy())"
   ]
  },
  {
   "cell_type": "code",
   "execution_count": 23,
   "metadata": {
    "execution": {
     "iopub.execute_input": "2020-12-14T21:24:20.934860Z",
     "iopub.status.busy": "2020-12-14T21:24:20.934497Z",
     "iopub.status.idle": "2020-12-14T21:24:21.042429Z",
     "shell.execute_reply": "2020-12-14T21:24:21.041863Z"
    },
    "papermill": {
     "duration": 0.123818,
     "end_time": "2020-12-14T21:24:21.042557",
     "exception": false,
     "start_time": "2020-12-14T21:24:20.918739",
     "status": "completed"
    },
    "tags": []
   },
   "outputs": [],
   "source": [
    "efo_full_data = pd.DataFrame(efo_full_data).set_index('term_id')"
   ]
  },
  {
   "cell_type": "code",
   "execution_count": 24,
   "metadata": {
    "execution": {
     "iopub.execute_input": "2020-12-14T21:24:21.081765Z",
     "iopub.status.busy": "2020-12-14T21:24:21.081287Z",
     "iopub.status.idle": "2020-12-14T21:24:21.092719Z",
     "shell.execute_reply": "2020-12-14T21:24:21.092275Z"
    },
    "papermill": {
     "duration": 0.031714,
     "end_time": "2020-12-14T21:24:21.092822",
     "exception": false,
     "start_time": "2020-12-14T21:24:21.061108",
     "status": "completed"
    },
    "tags": []
   },
   "outputs": [
    {
     "data": {
      "text/plain": [
       "(104094, 2)"
      ]
     },
     "execution_count": 24,
     "metadata": {},
     "output_type": "execute_result"
    }
   ],
   "source": [
    "efo_full_data.shape"
   ]
  },
  {
   "cell_type": "code",
   "execution_count": 25,
   "metadata": {
    "execution": {
     "iopub.execute_input": "2020-12-14T21:24:21.126784Z",
     "iopub.status.busy": "2020-12-14T21:24:21.126420Z",
     "iopub.status.idle": "2020-12-14T21:24:21.138335Z",
     "shell.execute_reply": "2020-12-14T21:24:21.138639Z"
    },
    "papermill": {
     "duration": 0.029515,
     "end_time": "2020-12-14T21:24:21.138757",
     "exception": false,
     "start_time": "2020-12-14T21:24:21.109242",
     "status": "completed"
    },
    "tags": []
   },
   "outputs": [
    {
     "data": {
      "text/html": [
       "<div>\n",
       "<style scoped>\n",
       "    .dataframe tbody tr th:only-of-type {\n",
       "        vertical-align: middle;\n",
       "    }\n",
       "\n",
       "    .dataframe tbody tr th {\n",
       "        vertical-align: top;\n",
       "    }\n",
       "\n",
       "    .dataframe thead th {\n",
       "        text-align: right;\n",
       "    }\n",
       "</style>\n",
       "<table border=\"1\" class=\"dataframe\">\n",
       "  <thead>\n",
       "    <tr style=\"text-align: right;\">\n",
       "      <th></th>\n",
       "      <th>target_id_type</th>\n",
       "      <th>target_id</th>\n",
       "    </tr>\n",
       "    <tr>\n",
       "      <th>term_id</th>\n",
       "      <th></th>\n",
       "      <th></th>\n",
       "    </tr>\n",
       "  </thead>\n",
       "  <tbody>\n",
       "    <tr>\n",
       "      <th>EFO:1001070</th>\n",
       "      <td>DOID</td>\n",
       "      <td>DOID:233</td>\n",
       "    </tr>\n",
       "    <tr>\n",
       "      <th>EFO:1001070</th>\n",
       "      <td>ICD9</td>\n",
       "      <td>ICD9:017.30</td>\n",
       "    </tr>\n",
       "    <tr>\n",
       "      <th>EFO:1001070</th>\n",
       "      <td>ICD9</td>\n",
       "      <td>ICD9:017.32</td>\n",
       "    </tr>\n",
       "    <tr>\n",
       "      <th>EFO:1001070</th>\n",
       "      <td>MESH</td>\n",
       "      <td>MESH:D014392</td>\n",
       "    </tr>\n",
       "    <tr>\n",
       "      <th>EFO:1001070</th>\n",
       "      <td>MONDO</td>\n",
       "      <td>MONDO:0006876</td>\n",
       "    </tr>\n",
       "  </tbody>\n",
       "</table>\n",
       "</div>"
      ],
      "text/plain": [
       "            target_id_type      target_id\n",
       "term_id                                  \n",
       "EFO:1001070           DOID       DOID:233\n",
       "EFO:1001070           ICD9    ICD9:017.30\n",
       "EFO:1001070           ICD9    ICD9:017.32\n",
       "EFO:1001070           MESH   MESH:D014392\n",
       "EFO:1001070          MONDO  MONDO:0006876"
      ]
     },
     "execution_count": 25,
     "metadata": {},
     "output_type": "execute_result"
    }
   ],
   "source": [
    "efo_full_data.head()"
   ]
  },
  {
   "cell_type": "code",
   "execution_count": 26,
   "metadata": {
    "execution": {
     "iopub.execute_input": "2020-12-14T21:24:21.169707Z",
     "iopub.status.busy": "2020-12-14T21:24:21.169334Z",
     "iopub.status.idle": "2020-12-14T21:24:21.179605Z",
     "shell.execute_reply": "2020-12-14T21:24:21.179215Z"
    },
    "papermill": {
     "duration": 0.0266,
     "end_time": "2020-12-14T21:24:21.179695",
     "exception": false,
     "start_time": "2020-12-14T21:24:21.153095",
     "status": "completed"
    },
    "tags": []
   },
   "outputs": [
    {
     "data": {
      "text/plain": [
       "{'name': 'ENBREL',\n",
       " 'def': '\"Etanercept (trade name Enbrel) is a drug that treats autoimmune diseases by interfering with tumor necrosis factor (TNF; a soluble inflammatory cytokine) by acting as a TNF inhibitor. Pfizer describes in a SEC filing that the drug is used to treat rheumatoid, juvenile rheumatoid and psoriatic arthritis, plaque psoriasis and ankylosing spondylitis. Sales reached record $3.3 billion in 2010.[1]\\\\nEtanercept is a fusion protein produced through expression of recombinant DNA. That is, it is a product of a DNA \\\\\"construct\\\\\" engineered to link the human gene for soluble TNF receptor 2 to the gene for the Fc component of human immunoglobulin G1 (IgG1). Expression of the construct produces a continuous protein \\\\\"fusing\\\\\" TNF receptor 2 to IgG1. Production of Etanercept is accomplished by the large-scale culturing of cells that have been \\\\\"cloned\\\\\" to express this recombinant DNA construct.\" []',\n",
       " 'synonym': ['\"etanercept\" EXACT []'],\n",
       " 'xref': ['NCIt:C2381', 'SNOMEDCT:118259007', 'SNOMEDCT:387045004'],\n",
       " 'is_a': ['CHEBI:23888'],\n",
       " 'relationship': ['has_role EFO:0001899'],\n",
       " 'property_value': ['definition:citation http://en.wikipedia.org/wiki/Etanercept xsd:string']}"
      ]
     },
     "execution_count": 26,
     "metadata": {},
     "output_type": "execute_result"
    }
   ],
   "source": [
    "graph.nodes['EFO:0002669']"
   ]
  },
  {
   "cell_type": "code",
   "execution_count": 27,
   "metadata": {
    "execution": {
     "iopub.execute_input": "2020-12-14T21:24:21.211763Z",
     "iopub.status.busy": "2020-12-14T21:24:21.211390Z",
     "iopub.status.idle": "2020-12-14T21:24:21.233529Z",
     "shell.execute_reply": "2020-12-14T21:24:21.233130Z"
    },
    "papermill": {
     "duration": 0.03887,
     "end_time": "2020-12-14T21:24:21.233631",
     "exception": false,
     "start_time": "2020-12-14T21:24:21.194761",
     "status": "completed"
    },
    "tags": []
   },
   "outputs": [
    {
     "data": {
      "text/html": [
       "<div>\n",
       "<style scoped>\n",
       "    .dataframe tbody tr th:only-of-type {\n",
       "        vertical-align: middle;\n",
       "    }\n",
       "\n",
       "    .dataframe tbody tr th {\n",
       "        vertical-align: top;\n",
       "    }\n",
       "\n",
       "    .dataframe thead th {\n",
       "        text-align: right;\n",
       "    }\n",
       "</style>\n",
       "<table border=\"1\" class=\"dataframe\">\n",
       "  <thead>\n",
       "    <tr style=\"text-align: right;\">\n",
       "      <th></th>\n",
       "      <th>target_id_type</th>\n",
       "      <th>target_id</th>\n",
       "    </tr>\n",
       "    <tr>\n",
       "      <th>term_id</th>\n",
       "      <th></th>\n",
       "      <th></th>\n",
       "    </tr>\n",
       "  </thead>\n",
       "  <tbody>\n",
       "    <tr>\n",
       "      <th>EFO:0002669</th>\n",
       "      <td>NCIt</td>\n",
       "      <td>NCIt:C2381</td>\n",
       "    </tr>\n",
       "    <tr>\n",
       "      <th>EFO:0002669</th>\n",
       "      <td>SNOMEDCT</td>\n",
       "      <td>SNOMEDCT:387045004</td>\n",
       "    </tr>\n",
       "    <tr>\n",
       "      <th>EFO:0002669</th>\n",
       "      <td>SNOMEDCT</td>\n",
       "      <td>SNOMEDCT:118259007</td>\n",
       "    </tr>\n",
       "  </tbody>\n",
       "</table>\n",
       "</div>"
      ],
      "text/plain": [
       "            target_id_type           target_id\n",
       "term_id                                       \n",
       "EFO:0002669           NCIt          NCIt:C2381\n",
       "EFO:0002669       SNOMEDCT  SNOMEDCT:387045004\n",
       "EFO:0002669       SNOMEDCT  SNOMEDCT:118259007"
      ]
     },
     "execution_count": 27,
     "metadata": {},
     "output_type": "execute_result"
    }
   ],
   "source": [
    "efo_full_data.loc['EFO:0002669']"
   ]
  },
  {
   "cell_type": "code",
   "execution_count": 28,
   "metadata": {
    "execution": {
     "iopub.execute_input": "2020-12-14T21:24:21.267855Z",
     "iopub.status.busy": "2020-12-14T21:24:21.267490Z",
     "iopub.status.idle": "2020-12-14T21:24:21.284207Z",
     "shell.execute_reply": "2020-12-14T21:24:21.283831Z"
    },
    "papermill": {
     "duration": 0.034922,
     "end_time": "2020-12-14T21:24:21.284308",
     "exception": false,
     "start_time": "2020-12-14T21:24:21.249386",
     "status": "completed"
    },
    "tags": []
   },
   "outputs": [],
   "source": [
    "# some testing\n",
    "assert efo_full_data.loc['EFO:0002669'].shape[0] == 3\n",
    "\n",
    "_tmp = efo_full_data.loc['EFO:0002669'].sort_values('target_id')\n",
    "\n",
    "assert _tmp.iloc[0]['target_id_type'] == 'NCIt'\n",
    "assert _tmp.iloc[0]['target_id'] == 'NCIt:C2381'\n",
    "\n",
    "assert _tmp.iloc[1]['target_id_type'] == 'SNOMEDCT'\n",
    "assert _tmp.iloc[1]['target_id'] == 'SNOMEDCT:118259007'\n",
    "\n",
    "assert _tmp.iloc[2]['target_id_type'] == 'SNOMEDCT'\n",
    "assert _tmp.iloc[2]['target_id'] == 'SNOMEDCT:387045004'"
   ]
  },
  {
   "cell_type": "code",
   "execution_count": 29,
   "metadata": {
    "execution": {
     "iopub.execute_input": "2020-12-14T21:24:21.319565Z",
     "iopub.status.busy": "2020-12-14T21:24:21.319203Z",
     "iopub.status.idle": "2020-12-14T21:24:21.709228Z",
     "shell.execute_reply": "2020-12-14T21:24:21.708846Z"
    },
    "papermill": {
     "duration": 0.408311,
     "end_time": "2020-12-14T21:24:21.709317",
     "exception": false,
     "start_time": "2020-12-14T21:24:21.301006",
     "status": "completed"
    },
    "tags": []
   },
   "outputs": [
    {
     "data": {
      "text/plain": [
       "PosixPath('/home/miltondp/projects/labs/greenelab/phenoplier/base/data/term_id_xrefs.tsv.gz')"
      ]
     },
     "metadata": {},
     "output_type": "display_data"
    }
   ],
   "source": [
    "outfile = conf.GENERAL[\"TERM_ID_XREFS_FILE\"]\n",
    "display(outfile)\n",
    "\n",
    "efo_full_data.to_csv(outfile, sep='\\t')"
   ]
  },
  {
   "cell_type": "code",
   "execution_count": null,
   "metadata": {
    "papermill": {
     "duration": 0.014078,
     "end_time": "2020-12-14T21:24:21.738052",
     "exception": false,
     "start_time": "2020-12-14T21:24:21.723974",
     "status": "completed"
    },
    "tags": []
   },
   "outputs": [],
   "source": []
  }
 ],
 "metadata": {
  "kernelspec": {
   "display_name": "Python 3",
   "language": "python",
   "name": "python3"
  },
  "language_info": {
   "codemirror_mode": {
    "name": "ipython",
    "version": 3
   },
   "file_extension": ".py",
   "mimetype": "text/x-python",
   "name": "python",
   "nbconvert_exporter": "python",
   "pygments_lexer": "ipython3",
   "version": "3.8.6"
  },
  "papermill": {
   "default_parameters": {},
   "duration": 8.574541,
   "end_time": "2020-12-14T21:24:22.159272",
   "environment_variables": {},
   "exception": null,
   "input_path": "01_preprocessing/000-efo_xrefs.ipynb",
   "output_path": "01_preprocessing/000-efo_xrefs.run.ipynb",
   "parameters": {},
   "start_time": "2020-12-14T21:24:13.584731",
   "version": "2.2.2"
  }
 },
 "nbformat": 4,
 "nbformat_minor": 4
}
