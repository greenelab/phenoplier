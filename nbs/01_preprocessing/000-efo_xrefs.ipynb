{
 "cells": [
  {
   "cell_type": "markdown",
   "metadata": {
    "papermill": {
     "duration": 0.038284,
     "end_time": "2020-12-14T21:24:14.404156",
     "exception": false,
     "start_time": "2020-12-14T21:24:14.365872",
     "status": "completed"
    },
    "tags": []
   },
   "source": [
    "# Description"
   ]
  },
  {
   "cell_type": "markdown",
   "metadata": {
    "tags": []
   },
   "source": [
    "It extracts from the EFO ontology all the xrefs from efo labels to other ontologies/datasets (such as Disease Ontology, ICD9, etc)."
   ]
  },
  {
   "cell_type": "markdown",
   "metadata": {
    "papermill": {
     "duration": 0.012823,
     "end_time": "2020-12-14T21:24:14.429845",
     "exception": false,
     "start_time": "2020-12-14T21:24:14.417022",
     "status": "completed"
    },
    "tags": []
   },
   "source": [
    "# Modules loading"
   ]
  },
  {
   "cell_type": "code",
   "execution_count": null,
   "metadata": {
    "papermill": {
     "duration": 0.023627,
     "end_time": "2020-12-14T21:24:14.465328",
     "exception": false,
     "start_time": "2020-12-14T21:24:14.441701",
     "status": "completed"
    },
    "tags": []
   },
   "outputs": [],
   "source": [
    "%load_ext autoreload\n",
    "%autoreload 2"
   ]
  },
  {
   "cell_type": "code",
   "execution_count": 2,
   "metadata": {
    "papermill": {
     "duration": 0.36795,
     "end_time": "2020-12-14T21:24:14.845672",
     "exception": false,
     "start_time": "2020-12-14T21:24:14.477722",
     "status": "completed"
    },
    "tags": []
   },
   "outputs": [],
   "source": [
    "from shutil import copyfile\n",
    "from collections import defaultdict\n",
    "\n",
    "from IPython.display import display\n",
    "import pandas as pd\n",
    "import obonet\n",
    "\n",
    "import conf\n",
    "from entity import Trait"
   ]
  },
  {
   "cell_type": "markdown",
   "metadata": {
    "papermill": {
     "duration": 0.01148,
     "end_time": "2020-12-14T21:24:14.869442",
     "exception": false,
     "start_time": "2020-12-14T21:24:14.857962",
     "status": "completed"
    },
    "tags": []
   },
   "source": [
    "# Functions"
   ]
  },
  {
   "cell_type": "code",
   "execution_count": 3,
   "metadata": {
    "papermill": {
     "duration": 0.023396,
     "end_time": "2020-12-14T21:24:14.904419",
     "exception": false,
     "start_time": "2020-12-14T21:24:14.881023",
     "status": "completed"
    },
    "tags": []
   },
   "outputs": [],
   "source": [
    "def groupby(data, sep=\":\"):\n",
    "    if data is None:\n",
    "        return {}\n",
    "    res = defaultdict(set)\n",
    "    for d in data:\n",
    "        ds = d.split(sep)\n",
    "        res[ds[0]].add(d)\n",
    "    return res"
   ]
  },
  {
   "cell_type": "code",
   "execution_count": 4,
   "metadata": {
    "papermill": {
     "duration": 0.023823,
     "end_time": "2020-12-14T21:24:14.940490",
     "exception": false,
     "start_time": "2020-12-14T21:24:14.916667",
     "status": "completed"
    },
    "tags": []
   },
   "outputs": [],
   "source": [
    "test_data = [\n",
    "    \"DOID:2841\",\n",
    "    \"HP:0002099\",\n",
    "    \"ICD10:J45\",\n",
    "    \"ICD10:J45.90\",\n",
    "    \"ICD9:493\",\n",
    "    \"ICD9:493.81\",\n",
    "    \"ICD9:493.9\",\n",
    "    \"KEGG:05310\",\n",
    "]"
   ]
  },
  {
   "cell_type": "code",
   "execution_count": 5,
   "metadata": {
    "papermill": {
     "duration": 0.024736,
     "end_time": "2020-12-14T21:24:14.978061",
     "exception": false,
     "start_time": "2020-12-14T21:24:14.953325",
     "status": "completed"
    },
    "tags": []
   },
   "outputs": [],
   "source": [
    "_tmp = groupby(test_data)\n",
    "assert _tmp is not None\n",
    "assert len(_tmp) == 5\n",
    "\n",
    "assert len(_tmp[\"DOID\"]) == 1\n",
    "assert len(_tmp[\"HP\"]) == 1\n",
    "assert len(_tmp[\"ICD10\"]) == 2\n",
    "assert len(_tmp[\"ICD9\"]) == 3\n",
    "assert len(_tmp[\"KEGG\"]) == 1"
   ]
  },
  {
   "cell_type": "code",
   "execution_count": 6,
   "metadata": {
    "papermill": {
     "duration": 0.028662,
     "end_time": "2020-12-14T21:24:15.019378",
     "exception": false,
     "start_time": "2020-12-14T21:24:14.990716",
     "status": "completed"
    },
    "tags": []
   },
   "outputs": [
    {
     "data": {
      "text/plain": [
       "defaultdict(set,\n",
       "            {'DOID': {'DOID:2841'},\n",
       "             'HP': {'HP:0002099'},\n",
       "             'ICD10': {'ICD10:J45', 'ICD10:J45.90'},\n",
       "             'ICD9': {'ICD9:493', 'ICD9:493.81', 'ICD9:493.9'},\n",
       "             'KEGG': {'KEGG:05310'}})"
      ]
     },
     "execution_count": 6,
     "metadata": {},
     "output_type": "execute_result"
    }
   ],
   "source": [
    "_tmp"
   ]
  },
  {
   "cell_type": "code",
   "execution_count": 7,
   "metadata": {
    "papermill": {
     "duration": 0.024462,
     "end_time": "2020-12-14T21:24:15.056586",
     "exception": false,
     "start_time": "2020-12-14T21:24:15.032124",
     "status": "completed"
    },
    "tags": []
   },
   "outputs": [],
   "source": [
    "def get_parents(node):\n",
    "    for t in graph.successors(node):\n",
    "        yield t\n",
    "\n",
    "\n",
    "def _is_disease_single_node(node):\n",
    "    return node == \"EFO:0000408\"\n",
    "\n",
    "\n",
    "def is_disease(node):\n",
    "    if _is_disease_single_node(node):\n",
    "        return True\n",
    "\n",
    "    for parent_node in get_parents(node):\n",
    "        if is_disease(parent_node):\n",
    "            return True\n",
    "\n",
    "    return False"
   ]
  },
  {
   "cell_type": "markdown",
   "metadata": {
    "papermill": {
     "duration": 0.011866,
     "end_time": "2020-12-14T21:24:15.080899",
     "exception": false,
     "start_time": "2020-12-14T21:24:15.069033",
     "status": "completed"
    },
    "tags": []
   },
   "source": [
    "# Read the EFO ontology"
   ]
  },
  {
   "cell_type": "code",
   "execution_count": 8,
   "metadata": {
    "papermill": {
     "duration": 4.77742,
     "end_time": "2020-12-14T21:24:19.870138",
     "exception": false,
     "start_time": "2020-12-14T21:24:15.092718",
     "status": "completed"
    },
    "tags": []
   },
   "outputs": [],
   "source": [
    "url = conf.GENERAL[\"EFO_ONTOLOGY_OBO_FILE\"]\n",
    "graph = obonet.read_obo(url)"
   ]
  },
  {
   "cell_type": "code",
   "execution_count": 9,
   "metadata": {
    "papermill": {
     "duration": 0.028453,
     "end_time": "2020-12-14T21:24:19.914798",
     "exception": false,
     "start_time": "2020-12-14T21:24:19.886345",
     "status": "completed"
    },
    "tags": []
   },
   "outputs": [
    {
     "data": {
      "text/plain": [
       "26727"
      ]
     },
     "execution_count": 9,
     "metadata": {},
     "output_type": "execute_result"
    }
   ],
   "source": [
    "# Number of nodes\n",
    "len(graph)"
   ]
  },
  {
   "cell_type": "code",
   "execution_count": 10,
   "metadata": {
    "papermill": {
     "duration": 0.06168,
     "end_time": "2020-12-14T21:24:19.990643",
     "exception": false,
     "start_time": "2020-12-14T21:24:19.928963",
     "status": "completed"
    },
    "tags": []
   },
   "outputs": [
    {
     "data": {
      "text/plain": [
       "52865"
      ]
     },
     "execution_count": 10,
     "metadata": {},
     "output_type": "execute_result"
    }
   ],
   "source": [
    "# Number of edges\n",
    "graph.number_of_edges()"
   ]
  },
  {
   "cell_type": "code",
   "execution_count": 11,
   "metadata": {
    "papermill": {
     "duration": 0.025705,
     "end_time": "2020-12-14T21:24:20.030513",
     "exception": false,
     "start_time": "2020-12-14T21:24:20.004808",
     "status": "completed"
    },
    "tags": []
   },
   "outputs": [],
   "source": [
    "assert graph.nodes[\"EFO:0000270\"].get(\"name\") == \"asthma\""
   ]
  },
  {
   "cell_type": "markdown",
   "metadata": {
    "papermill": {
     "duration": 0.013662,
     "end_time": "2020-12-14T21:24:20.058162",
     "exception": false,
     "start_time": "2020-12-14T21:24:20.044500",
     "status": "completed"
    },
    "tags": []
   },
   "source": [
    "# Map EFO to other references"
   ]
  },
  {
   "cell_type": "code",
   "execution_count": 12,
   "metadata": {
    "papermill": {
     "duration": 0.032709,
     "end_time": "2020-12-14T21:24:20.103558",
     "exception": false,
     "start_time": "2020-12-14T21:24:20.070849",
     "status": "completed"
    },
    "tags": []
   },
   "outputs": [],
   "source": [
    "efo_terms = {node_id for node_id in graph.nodes.keys()}"
   ]
  },
  {
   "cell_type": "code",
   "execution_count": 13,
   "metadata": {
    "papermill": {
     "duration": 0.028124,
     "end_time": "2020-12-14T21:24:20.173254",
     "exception": false,
     "start_time": "2020-12-14T21:24:20.145130",
     "status": "completed"
    },
    "tags": []
   },
   "outputs": [
    {
     "data": {
      "text/plain": [
       "26727"
      ]
     },
     "execution_count": 13,
     "metadata": {},
     "output_type": "execute_result"
    }
   ],
   "source": [
    "len(efo_terms)"
   ]
  },
  {
   "cell_type": "code",
   "execution_count": 14,
   "metadata": {
    "papermill": {
     "duration": 0.025146,
     "end_time": "2020-12-14T21:24:20.211081",
     "exception": false,
     "start_time": "2020-12-14T21:24:20.185935",
     "status": "completed"
    },
    "tags": []
   },
   "outputs": [
    {
     "data": {
      "text/plain": [
       "{'name': 'asthma',\n",
       " 'def': '\"Tendency of the smooth muscle of the tracheobronchial tree to contract more intensely in response to a given stimulus than it does in the response seen in normal individuals. This condition is present in virtually all symptomatic patients with asthma. The most prominent manifestation of this smooth muscle contraction is a decrease in airway caliber that can be readily measured in the pulmonary function laboratory.\" []',\n",
       " 'synonym': ['\"Airway hyperreactivity\" EXACT []',\n",
       "  '\"asthma\" EXACT []',\n",
       "  '\"Asthma (disorder)\" EXACT []',\n",
       "  '\"Asthma NOS\" EXACT []',\n",
       "  '\"Asthma NOS (disorder)\" EXACT []',\n",
       "  '\"ASTHMA NOS W (AC) EXAC\" EXACT []',\n",
       "  '\"Asthma unspecified\" EXACT []',\n",
       "  '\"Asthma unspecified (disorder)\" EXACT []',\n",
       "  '\"Asthma, Bronchial\" EXACT []',\n",
       "  '\"Asthma, unspecified\" EXACT []',\n",
       "  '\"Asthma, unspecified type, with acute exacerbation\" EXACT []',\n",
       "  '\"Asthma, unspecified type, without mention of status asthmaticus\" EXACT []',\n",
       "  '\"Asthmas\" EXACT []',\n",
       "  '\"Asthmatic\" EXACT []',\n",
       "  '\"BHR - Bronchial hyperreactivity\" EXACT []',\n",
       "  '\"Bronchial asthma\" EXACT []',\n",
       "  '\"Bronchial Hyperreactivities\" EXACT []',\n",
       "  '\"Bronchial hyperreactivity\" EXACT []',\n",
       "  '\"bronchial hyperreactivity\" EXACT [DOID:2841]',\n",
       "  '\"Bronchial hyperresponsiveness\" EXACT []',\n",
       "  '\"Bronchial hypersensitivity\" EXACT []',\n",
       "  '\"chronic obstructive asthma\" EXACT [DOID:2841]',\n",
       "  '\"chronic obstructive asthma with acute exacerbation\" EXACT []',\n",
       "  '\"chronic obstructive asthma with acute exacerbation\" NARROW [DOID:2841]',\n",
       "  '\"chronic obstructive asthma with status asthmaticus\" EXACT [DOID:2841]',\n",
       "  '\"DUST PNEUMONOPATHY NEC\" EXACT []',\n",
       "  '\"Exercise induced asthma\" EXACT []',\n",
       "  '\"exercise induced asthma\" NARROW [DOID:2841]',\n",
       "  '\"Exercise-induced asthma\" EXACT []',\n",
       "  '\"exercise-induced asthma\" NARROW [DOID:2841]',\n",
       "  '\"Exercise-induced asthma (disorder)\" EXACT []',\n",
       "  '\"Hyperreactive airway disease\" EXACT []',\n",
       "  '\"Hyperreactive airways disease\" EXACT []',\n",
       "  '\"Hyperreactivities, Bronchial\" EXACT []',\n",
       "  '\"Hyperreactivity, Bronchial\" EXACT []',\n",
       "  '\"Other forms of asthma\" EXACT []',\n",
       "  '\"Pneumonopathy due to inhalation of other dust\" EXACT []',\n",
       "  '\"Pneumopathy due to inhalation of other dust\" EXACT []',\n",
       "  '\"Pneumopathy due to inhalation of other dust (disorder)\" EXACT []',\n",
       "  '\"Pneumopathy due to inhalation of other dust NOS\" EXACT []',\n",
       "  '\"Pneumopathy due to inhalation of other dust NOS (disorder)\" EXACT []'],\n",
       " 'xref': ['COHD:317009',\n",
       "  'DOID:2841',\n",
       "  'GARD:0010246',\n",
       "  'HP:0002099',\n",
       "  'ICD10:J45',\n",
       "  'ICD10:J45.90',\n",
       "  'ICD10:J45.909',\n",
       "  'ICD9:493',\n",
       "  'ICD9:493.81',\n",
       "  'ICD9:493.9',\n",
       "  'KEGG:05310',\n",
       "  'MESH:D001249',\n",
       "  'MONDO:0004979',\n",
       "  'MSH:D001249',\n",
       "  'NCIT:C28397',\n",
       "  'NCIt:C28397',\n",
       "  'OMIM:600807',\n",
       "  'OMIM:607277',\n",
       "  'OMIM:608584',\n",
       "  'OMIM:611064',\n",
       "  'OMIM:611960',\n",
       "  'SCTID:31387002',\n",
       "  'SNOMEDCT:195967001',\n",
       "  'UMLS:C0004096'],\n",
       " 'is_a': ['EFO:1002018'],\n",
       " 'property_value': ['closeMatch http://identifiers.org/snomedct/155574008',\n",
       "  'closeMatch http://identifiers.org/snomedct/155579003',\n",
       "  'closeMatch http://identifiers.org/snomedct/187687003',\n",
       "  'closeMatch http://identifiers.org/snomedct/195967001',\n",
       "  'closeMatch http://identifiers.org/snomedct/195979001',\n",
       "  'closeMatch http://identifiers.org/snomedct/195983001',\n",
       "  'closeMatch http://identifiers.org/snomedct/21341004',\n",
       "  'closeMatch http://identifiers.org/snomedct/266365004',\n",
       "  'closeMatch http://identifiers.org/snomedct/266398009',\n",
       "  'closeMatch http://identifiers.org/snomedct/278517007',\n",
       "  'exactMatch DOID:2841',\n",
       "  'exactMatch http://identifiers.org/mesh/D001249',\n",
       "  'exactMatch http://identifiers.org/snomedct/31387002',\n",
       "  'exactMatch http://linkedlifedata.com/resource/umls/id/C0004096',\n",
       "  'exactMatch NCIT:C28397',\n",
       "  'gwas:trait \"true\" xsd:string',\n",
       "  'IAO:0000117 \"James Malone\" xsd:string',\n",
       "  'IAO:0000117 \"Tomasz Adamusiak\" xsd:string']}"
      ]
     },
     "execution_count": 14,
     "metadata": {},
     "output_type": "execute_result"
    }
   ],
   "source": [
    "graph.nodes[\"EFO:0000270\"]"
   ]
  },
  {
   "cell_type": "markdown",
   "metadata": {
    "papermill": {
     "duration": 0.012643,
     "end_time": "2020-12-14T21:24:20.236739",
     "exception": false,
     "start_time": "2020-12-14T21:24:20.224096",
     "status": "completed"
    },
    "tags": []
   },
   "source": [
    "## EFO to label"
   ]
  },
  {
   "cell_type": "code",
   "execution_count": 15,
   "metadata": {
    "papermill": {
     "duration": 0.061563,
     "end_time": "2020-12-14T21:24:20.311421",
     "exception": false,
     "start_time": "2020-12-14T21:24:20.249858",
     "status": "completed"
    },
    "tags": []
   },
   "outputs": [],
   "source": [
    "efo_full_data = []\n",
    "\n",
    "for efo in efo_terms:\n",
    "    efo_data = {}\n",
    "\n",
    "    efo_data[\"term_id\"] = efo\n",
    "    efo_data[\"label\"] = graph.nodes[efo].get(\"name\")\n",
    "\n",
    "    efo_full_data.append(efo_data)"
   ]
  },
  {
   "cell_type": "code",
   "execution_count": 16,
   "metadata": {
    "papermill": {
     "duration": 0.05122,
     "end_time": "2020-12-14T21:24:20.378692",
     "exception": false,
     "start_time": "2020-12-14T21:24:20.327472",
     "status": "completed"
    },
    "tags": []
   },
   "outputs": [],
   "source": [
    "efo_label = pd.DataFrame(efo_full_data).set_index(\"term_id\")"
   ]
  },
  {
   "cell_type": "code",
   "execution_count": 17,
   "metadata": {
    "papermill": {
     "duration": 0.028423,
     "end_time": "2020-12-14T21:24:20.423820",
     "exception": false,
     "start_time": "2020-12-14T21:24:20.395397",
     "status": "completed"
    },
    "tags": []
   },
   "outputs": [
    {
     "data": {
      "text/plain": [
       "(26727, 1)"
      ]
     },
     "execution_count": 17,
     "metadata": {},
     "output_type": "execute_result"
    }
   ],
   "source": [
    "efo_label.shape"
   ]
  },
  {
   "cell_type": "code",
   "execution_count": 18,
   "metadata": {
    "papermill": {
     "duration": 0.032472,
     "end_time": "2020-12-14T21:24:20.471179",
     "exception": false,
     "start_time": "2020-12-14T21:24:20.438707",
     "status": "completed"
    },
    "tags": []
   },
   "outputs": [],
   "source": [
    "assert efo_label.index.is_unique"
   ]
  },
  {
   "cell_type": "code",
   "execution_count": 19,
   "metadata": {
    "papermill": {
     "duration": 0.031068,
     "end_time": "2020-12-14T21:24:20.519174",
     "exception": false,
     "start_time": "2020-12-14T21:24:20.488106",
     "status": "completed"
    },
    "tags": []
   },
   "outputs": [
    {
     "data": {
      "text/html": [
       "<div>\n",
       "<style scoped>\n",
       "    .dataframe tbody tr th:only-of-type {\n",
       "        vertical-align: middle;\n",
       "    }\n",
       "\n",
       "    .dataframe tbody tr th {\n",
       "        vertical-align: top;\n",
       "    }\n",
       "\n",
       "    .dataframe thead th {\n",
       "        text-align: right;\n",
       "    }\n",
       "</style>\n",
       "<table border=\"1\" class=\"dataframe\">\n",
       "  <thead>\n",
       "    <tr style=\"text-align: right;\">\n",
       "      <th></th>\n",
       "      <th>label</th>\n",
       "    </tr>\n",
       "    <tr>\n",
       "      <th>term_id</th>\n",
       "      <th></th>\n",
       "    </tr>\n",
       "  </thead>\n",
       "  <tbody>\n",
       "    <tr>\n",
       "      <th>GO:0014072</th>\n",
       "      <td>response to opiate</td>\n",
       "    </tr>\n",
       "    <tr>\n",
       "      <th>Orphanet:284232</th>\n",
       "      <td>Autosomal dominant Charcot-Marie-Tooth disease...</td>\n",
       "    </tr>\n",
       "    <tr>\n",
       "      <th>MONDO:0003169</th>\n",
       "      <td>diencephalic astrocytomas</td>\n",
       "    </tr>\n",
       "    <tr>\n",
       "      <th>EFO:0010766</th>\n",
       "      <td>CCL20 measurement</td>\n",
       "    </tr>\n",
       "    <tr>\n",
       "      <th>EFO:1000706</th>\n",
       "      <td>hand dermatosis</td>\n",
       "    </tr>\n",
       "  </tbody>\n",
       "</table>\n",
       "</div>"
      ],
      "text/plain": [
       "                                                             label\n",
       "term_id                                                           \n",
       "GO:0014072                                      response to opiate\n",
       "Orphanet:284232  Autosomal dominant Charcot-Marie-Tooth disease...\n",
       "MONDO:0003169                            diencephalic astrocytomas\n",
       "EFO:0010766                                      CCL20 measurement\n",
       "EFO:1000706                                        hand dermatosis"
      ]
     },
     "execution_count": 19,
     "metadata": {},
     "output_type": "execute_result"
    }
   ],
   "source": [
    "efo_label.head()"
   ]
  },
  {
   "cell_type": "code",
   "execution_count": 20,
   "metadata": {
    "papermill": {
     "duration": 0.025496,
     "end_time": "2020-12-14T21:24:20.558890",
     "exception": false,
     "start_time": "2020-12-14T21:24:20.533394",
     "status": "completed"
    },
    "tags": []
   },
   "outputs": [],
   "source": [
    "assert efo_label.loc[\"EFO:0000270\", \"label\"] == \"asthma\""
   ]
  },
  {
   "cell_type": "code",
   "execution_count": 21,
   "metadata": {
    "papermill": {
     "duration": 0.128279,
     "end_time": "2020-12-14T21:24:20.700288",
     "exception": false,
     "start_time": "2020-12-14T21:24:20.572009",
     "status": "completed"
    },
    "tags": []
   },
   "outputs": [
    {
     "data": {
      "text/plain": [
       "PosixPath('/media/miltondp/Elements1/projects/phenoplier/data/term_id_labels.tsv.gz')"
      ]
     },
     "metadata": {},
     "output_type": "display_data"
    }
   ],
   "source": [
    "outfile = conf.GENERAL[\"TERM_ID_LABEL_FILE\"]\n",
    "display(outfile)\n",
    "\n",
    "efo_label.to_csv(outfile, sep=\"\\t\")"
   ]
  },
  {
   "cell_type": "markdown",
   "metadata": {
    "papermill": {
     "duration": 0.013222,
     "end_time": "2020-12-14T21:24:20.727011",
     "exception": false,
     "start_time": "2020-12-14T21:24:20.713789",
     "status": "completed"
    },
    "tags": []
   },
   "source": [
    "## Map xrefs"
   ]
  },
  {
   "cell_type": "code",
   "execution_count": 22,
   "metadata": {
    "papermill": {
     "duration": 0.164207,
     "end_time": "2020-12-14T21:24:20.905051",
     "exception": false,
     "start_time": "2020-12-14T21:24:20.740844",
     "status": "completed"
    },
    "tags": []
   },
   "outputs": [],
   "source": [
    "efo_full_data = []\n",
    "\n",
    "for efo in efo_terms:\n",
    "    efo_data = {}\n",
    "\n",
    "    efo_data[\"term_id\"] = efo\n",
    "\n",
    "    for xref_id, xref_data in groupby(graph.nodes[efo].get(\"xref\")).items():\n",
    "        efo_data[\"target_id_type\"] = xref_id\n",
    "\n",
    "        for xref in xref_data:\n",
    "            efo_data[\"target_id\"] = xref\n",
    "            efo_full_data.append(efo_data.copy())"
   ]
  },
  {
   "cell_type": "code",
   "execution_count": 23,
   "metadata": {
    "papermill": {
     "duration": 0.123818,
     "end_time": "2020-12-14T21:24:21.042557",
     "exception": false,
     "start_time": "2020-12-14T21:24:20.918739",
     "status": "completed"
    },
    "tags": []
   },
   "outputs": [],
   "source": [
    "efo_full_data = pd.DataFrame(efo_full_data).set_index(\"term_id\")"
   ]
  },
  {
   "cell_type": "code",
   "execution_count": 24,
   "metadata": {
    "papermill": {
     "duration": 0.031714,
     "end_time": "2020-12-14T21:24:21.092822",
     "exception": false,
     "start_time": "2020-12-14T21:24:21.061108",
     "status": "completed"
    },
    "tags": []
   },
   "outputs": [
    {
     "data": {
      "text/plain": [
       "(104094, 2)"
      ]
     },
     "execution_count": 24,
     "metadata": {},
     "output_type": "execute_result"
    }
   ],
   "source": [
    "efo_full_data.shape"
   ]
  },
  {
   "cell_type": "code",
   "execution_count": 25,
   "metadata": {
    "papermill": {
     "duration": 0.029515,
     "end_time": "2020-12-14T21:24:21.138757",
     "exception": false,
     "start_time": "2020-12-14T21:24:21.109242",
     "status": "completed"
    },
    "tags": []
   },
   "outputs": [
    {
     "data": {
      "text/html": [
       "<div>\n",
       "<style scoped>\n",
       "    .dataframe tbody tr th:only-of-type {\n",
       "        vertical-align: middle;\n",
       "    }\n",
       "\n",
       "    .dataframe tbody tr th {\n",
       "        vertical-align: top;\n",
       "    }\n",
       "\n",
       "    .dataframe thead th {\n",
       "        text-align: right;\n",
       "    }\n",
       "</style>\n",
       "<table border=\"1\" class=\"dataframe\">\n",
       "  <thead>\n",
       "    <tr style=\"text-align: right;\">\n",
       "      <th></th>\n",
       "      <th>target_id_type</th>\n",
       "      <th>target_id</th>\n",
       "    </tr>\n",
       "    <tr>\n",
       "      <th>term_id</th>\n",
       "      <th></th>\n",
       "      <th></th>\n",
       "    </tr>\n",
       "  </thead>\n",
       "  <tbody>\n",
       "    <tr>\n",
       "      <th>Orphanet:284232</th>\n",
       "      <td>DOID</td>\n",
       "      <td>DOID:0110175</td>\n",
       "    </tr>\n",
       "    <tr>\n",
       "      <th>Orphanet:284232</th>\n",
       "      <td>GARD</td>\n",
       "      <td>GARD:0012434</td>\n",
       "    </tr>\n",
       "    <tr>\n",
       "      <th>Orphanet:284232</th>\n",
       "      <td>ICD10</td>\n",
       "      <td>ICD10:G60.0</td>\n",
       "    </tr>\n",
       "    <tr>\n",
       "      <th>Orphanet:284232</th>\n",
       "      <td>MONDO</td>\n",
       "      <td>MONDO:0013644</td>\n",
       "    </tr>\n",
       "    <tr>\n",
       "      <th>Orphanet:284232</th>\n",
       "      <td>OMIM</td>\n",
       "      <td>OMIM:614228</td>\n",
       "    </tr>\n",
       "  </tbody>\n",
       "</table>\n",
       "</div>"
      ],
      "text/plain": [
       "                target_id_type      target_id\n",
       "term_id                                      \n",
       "Orphanet:284232           DOID   DOID:0110175\n",
       "Orphanet:284232           GARD   GARD:0012434\n",
       "Orphanet:284232          ICD10    ICD10:G60.0\n",
       "Orphanet:284232          MONDO  MONDO:0013644\n",
       "Orphanet:284232           OMIM    OMIM:614228"
      ]
     },
     "execution_count": 25,
     "metadata": {},
     "output_type": "execute_result"
    }
   ],
   "source": [
    "efo_full_data.head()"
   ]
  },
  {
   "cell_type": "code",
   "execution_count": 26,
   "metadata": {
    "papermill": {
     "duration": 0.0266,
     "end_time": "2020-12-14T21:24:21.179695",
     "exception": false,
     "start_time": "2020-12-14T21:24:21.153095",
     "status": "completed"
    },
    "tags": []
   },
   "outputs": [
    {
     "data": {
      "text/plain": [
       "{'name': 'ENBREL',\n",
       " 'def': '\"Etanercept (trade name Enbrel) is a drug that treats autoimmune diseases by interfering with tumor necrosis factor (TNF; a soluble inflammatory cytokine) by acting as a TNF inhibitor. Pfizer describes in a SEC filing that the drug is used to treat rheumatoid, juvenile rheumatoid and psoriatic arthritis, plaque psoriasis and ankylosing spondylitis. Sales reached record $3.3 billion in 2010.[1]\\\\nEtanercept is a fusion protein produced through expression of recombinant DNA. That is, it is a product of a DNA \\\\\"construct\\\\\" engineered to link the human gene for soluble TNF receptor 2 to the gene for the Fc component of human immunoglobulin G1 (IgG1). Expression of the construct produces a continuous protein \\\\\"fusing\\\\\" TNF receptor 2 to IgG1. Production of Etanercept is accomplished by the large-scale culturing of cells that have been \\\\\"cloned\\\\\" to express this recombinant DNA construct.\" []',\n",
       " 'synonym': ['\"etanercept\" EXACT []'],\n",
       " 'xref': ['NCIt:C2381', 'SNOMEDCT:118259007', 'SNOMEDCT:387045004'],\n",
       " 'is_a': ['CHEBI:23888'],\n",
       " 'relationship': ['has_role EFO:0001899'],\n",
       " 'property_value': ['definition:citation http://en.wikipedia.org/wiki/Etanercept xsd:string']}"
      ]
     },
     "execution_count": 26,
     "metadata": {},
     "output_type": "execute_result"
    }
   ],
   "source": [
    "graph.nodes[\"EFO:0002669\"]"
   ]
  },
  {
   "cell_type": "code",
   "execution_count": 27,
   "metadata": {
    "papermill": {
     "duration": 0.03887,
     "end_time": "2020-12-14T21:24:21.233631",
     "exception": false,
     "start_time": "2020-12-14T21:24:21.194761",
     "status": "completed"
    },
    "tags": []
   },
   "outputs": [
    {
     "data": {
      "text/html": [
       "<div>\n",
       "<style scoped>\n",
       "    .dataframe tbody tr th:only-of-type {\n",
       "        vertical-align: middle;\n",
       "    }\n",
       "\n",
       "    .dataframe tbody tr th {\n",
       "        vertical-align: top;\n",
       "    }\n",
       "\n",
       "    .dataframe thead th {\n",
       "        text-align: right;\n",
       "    }\n",
       "</style>\n",
       "<table border=\"1\" class=\"dataframe\">\n",
       "  <thead>\n",
       "    <tr style=\"text-align: right;\">\n",
       "      <th></th>\n",
       "      <th>target_id_type</th>\n",
       "      <th>target_id</th>\n",
       "    </tr>\n",
       "    <tr>\n",
       "      <th>term_id</th>\n",
       "      <th></th>\n",
       "      <th></th>\n",
       "    </tr>\n",
       "  </thead>\n",
       "  <tbody>\n",
       "    <tr>\n",
       "      <th>EFO:0002669</th>\n",
       "      <td>NCIt</td>\n",
       "      <td>NCIt:C2381</td>\n",
       "    </tr>\n",
       "    <tr>\n",
       "      <th>EFO:0002669</th>\n",
       "      <td>SNOMEDCT</td>\n",
       "      <td>SNOMEDCT:387045004</td>\n",
       "    </tr>\n",
       "    <tr>\n",
       "      <th>EFO:0002669</th>\n",
       "      <td>SNOMEDCT</td>\n",
       "      <td>SNOMEDCT:118259007</td>\n",
       "    </tr>\n",
       "  </tbody>\n",
       "</table>\n",
       "</div>"
      ],
      "text/plain": [
       "            target_id_type           target_id\n",
       "term_id                                       \n",
       "EFO:0002669           NCIt          NCIt:C2381\n",
       "EFO:0002669       SNOMEDCT  SNOMEDCT:387045004\n",
       "EFO:0002669       SNOMEDCT  SNOMEDCT:118259007"
      ]
     },
     "execution_count": 27,
     "metadata": {},
     "output_type": "execute_result"
    }
   ],
   "source": [
    "efo_full_data.loc[\"EFO:0002669\"]"
   ]
  },
  {
   "cell_type": "code",
   "execution_count": 28,
   "metadata": {
    "papermill": {
     "duration": 0.034922,
     "end_time": "2020-12-14T21:24:21.284308",
     "exception": false,
     "start_time": "2020-12-14T21:24:21.249386",
     "status": "completed"
    },
    "tags": []
   },
   "outputs": [],
   "source": [
    "# some testing\n",
    "assert efo_full_data.loc[\"EFO:0002669\"].shape[0] == 3\n",
    "\n",
    "_tmp = efo_full_data.loc[\"EFO:0002669\"].sort_values(\"target_id\")\n",
    "\n",
    "assert _tmp.iloc[0][\"target_id_type\"] == \"NCIt\"\n",
    "assert _tmp.iloc[0][\"target_id\"] == \"NCIt:C2381\"\n",
    "\n",
    "assert _tmp.iloc[1][\"target_id_type\"] == \"SNOMEDCT\"\n",
    "assert _tmp.iloc[1][\"target_id\"] == \"SNOMEDCT:118259007\"\n",
    "\n",
    "assert _tmp.iloc[2][\"target_id_type\"] == \"SNOMEDCT\"\n",
    "assert _tmp.iloc[2][\"target_id\"] == \"SNOMEDCT:387045004\""
   ]
  },
  {
   "cell_type": "markdown",
   "metadata": {
    "papermill": {
     "duration": 0.040165,
     "end_time": "2020-12-17T20:01:39.947513",
     "exception": false,
     "start_time": "2020-12-17T20:01:39.907348",
     "status": "completed"
    },
    "tags": []
   },
   "source": [
    "# Save"
   ]
  },
  {
   "cell_type": "markdown",
   "metadata": {
    "papermill": {
     "duration": 0.040128,
     "end_time": "2020-12-17T20:01:40.028310",
     "exception": false,
     "start_time": "2020-12-17T20:01:39.988182",
     "status": "completed"
    },
    "tags": []
   },
   "source": [
    "## In main data folder"
   ]
  },
  {
   "cell_type": "code",
   "execution_count": 29,
   "metadata": {
    "papermill": {
     "duration": 0.408311,
     "end_time": "2020-12-14T21:24:21.709317",
     "exception": false,
     "start_time": "2020-12-14T21:24:21.301006",
     "status": "completed"
    },
    "tags": []
   },
   "outputs": [
    {
     "data": {
      "text/plain": [
       "PosixPath('/media/miltondp/Elements1/projects/phenoplier/data/term_id_xrefs.tsv.gz')"
      ]
     },
     "metadata": {},
     "output_type": "display_data"
    }
   ],
   "source": [
    "outfile = conf.GENERAL[\"TERM_ID_XREFS_FILE\"]\n",
    "display(outfile)\n",
    "\n",
    "efo_full_data.to_csv(outfile, sep=\"\\t\")"
   ]
  },
  {
   "cell_type": "markdown",
   "metadata": {
    "papermill": {
     "duration": 0.040877,
     "end_time": "2020-12-17T20:01:40.208895",
     "exception": false,
     "start_time": "2020-12-17T20:01:40.168018",
     "status": "completed"
    },
    "tags": []
   },
   "source": [
    "## In libs/data folder"
   ]
  },
  {
   "cell_type": "markdown",
   "metadata": {
    "papermill": {
     "duration": 0.043404,
     "end_time": "2020-12-17T20:01:40.293817",
     "exception": false,
     "start_time": "2020-12-17T20:01:40.250413",
     "status": "completed"
    },
    "tags": []
   },
   "source": [
    "Since this file (`outfile`) is used by the Trait class to return Disease Ontology codes/labels for PhenomeXcan traits, it is copied also to a source code folder and it is supposed to be versioned."
   ]
  },
  {
   "cell_type": "code",
   "execution_count": 30,
   "metadata": {
    "papermill": {
     "duration": 0.053226,
     "end_time": "2020-12-17T20:01:40.388711",
     "exception": false,
     "start_time": "2020-12-17T20:01:40.335485",
     "status": "completed"
    }
   },
   "outputs": [
    {
     "data": {
      "text/plain": [
       "PosixPath('/home/miltondp/projects/labs/greenelab/phenoplier/libs/data/term_id_xrefs.tsv.gz')"
      ]
     },
     "metadata": {},
     "output_type": "display_data"
    }
   ],
   "source": [
    "display(Trait.EFO_XREFS_FILE)"
   ]
  },
  {
   "cell_type": "code",
   "execution_count": 31,
   "metadata": {
    "papermill": {
     "duration": 0.053364,
     "end_time": "2020-12-17T20:01:40.482975",
     "exception": false,
     "start_time": "2020-12-17T20:01:40.429611",
     "status": "completed"
    }
   },
   "outputs": [
    {
     "data": {
      "text/plain": [
       "PosixPath('/home/miltondp/projects/labs/greenelab/phenoplier/libs/data/term_id_xrefs.tsv.gz')"
      ]
     },
     "execution_count": 31,
     "metadata": {},
     "output_type": "execute_result"
    }
   ],
   "source": [
    "copyfile(\n",
    "    outfile,\n",
    "    Trait.EFO_XREFS_FILE,\n",
    ")"
   ]
  },
  {
   "cell_type": "code",
   "execution_count": null,
   "metadata": {
    "papermill": {
     "duration": 0.014078,
     "end_time": "2020-12-14T21:24:21.738052",
     "exception": false,
     "start_time": "2020-12-14T21:24:21.723974",
     "status": "completed"
    },
    "tags": []
   },
   "outputs": [],
   "source": []
  }
 ],
 "metadata": {
  "jupytext": {
   "cell_metadata_filter": "all,-execution,-papermill,-trusted",
   "formats": "ipynb,py//py:percent"
  },
  "kernelspec": {
   "display_name": "Python 3",
   "language": "python",
   "name": "python3"
  },
  "language_info": {
   "codemirror_mode": {
    "name": "ipython",
    "version": 3
   },
   "file_extension": ".py",
   "mimetype": "text/x-python",
   "name": "python",
   "nbconvert_exporter": "python",
   "pygments_lexer": "ipython3",
   "version": "3.8.6"
  },
  "papermill": {
   "default_parameters": {},
   "duration": 8.574541,
   "end_time": "2020-12-14T21:24:22.159272",
   "environment_variables": {},
   "exception": null,
   "input_path": "01_preprocessing/000-efo_xrefs.ipynb",
   "output_path": "01_preprocessing/000-efo_xrefs.run.ipynb",
   "parameters": {},
   "start_time": "2020-12-14T21:24:13.584731",
   "version": "2.2.2"
  }
 },
 "nbformat": 4,
 "nbformat_minor": 4
}
