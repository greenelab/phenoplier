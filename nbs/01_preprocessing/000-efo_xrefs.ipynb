{
 "cells": [
  {
   "cell_type": "markdown",
   "metadata": {
    "papermill": {
     "duration": 0.042004,
     "end_time": "2021-03-08T16:36:50.789938",
     "exception": false,
     "start_time": "2021-03-08T16:36:50.747934",
     "status": "completed"
    },
    "tags": []
   },
   "source": [
    "# Description"
   ]
  },
  {
   "cell_type": "markdown",
   "metadata": {
    "papermill": {
     "duration": 0.010712,
     "end_time": "2021-03-08T16:36:50.816414",
     "exception": false,
     "start_time": "2021-03-08T16:36:50.805702",
     "status": "completed"
    },
    "tags": []
   },
   "source": [
    "It extracts from the EFO ontology all the xrefs from efo labels to other ontologies/datasets (such as Disease Ontology, ICD9, etc)."
   ]
  },
  {
   "cell_type": "markdown",
   "metadata": {
    "papermill": {
     "duration": 0.011113,
     "end_time": "2021-03-08T16:36:50.837922",
     "exception": false,
     "start_time": "2021-03-08T16:36:50.826809",
     "status": "completed"
    },
    "tags": []
   },
   "source": [
    "# Modules loading"
   ]
  },
  {
   "cell_type": "code",
   "execution_count": 1,
   "metadata": {
    "execution": {
     "iopub.execute_input": "2021-03-08T16:36:50.863058Z",
     "iopub.status.busy": "2021-03-08T16:36:50.862681Z",
     "iopub.status.idle": "2021-03-08T16:36:50.870662Z",
     "shell.execute_reply": "2021-03-08T16:36:50.870253Z"
    },
    "papermill": {
     "duration": 0.022205,
     "end_time": "2021-03-08T16:36:50.870785",
     "exception": false,
     "start_time": "2021-03-08T16:36:50.848580",
     "status": "completed"
    },
    "tags": []
   },
   "outputs": [],
   "source": [
    "%load_ext autoreload\n",
    "%autoreload 2"
   ]
  },
  {
   "cell_type": "code",
   "execution_count": 2,
   "metadata": {
    "execution": {
     "iopub.execute_input": "2021-03-08T16:36:50.894895Z",
     "iopub.status.busy": "2021-03-08T16:36:50.894533Z",
     "iopub.status.idle": "2021-03-08T16:36:51.258687Z",
     "shell.execute_reply": "2021-03-08T16:36:51.259014Z"
    },
    "papermill": {
     "duration": 0.377387,
     "end_time": "2021-03-08T16:36:51.259142",
     "exception": false,
     "start_time": "2021-03-08T16:36:50.881755",
     "status": "completed"
    },
    "tags": []
   },
   "outputs": [],
   "source": [
    "from collections import defaultdict\n",
    "\n",
    "from IPython.display import display\n",
    "import pandas as pd\n",
    "import obonet\n",
    "\n",
    "import conf"
   ]
  },
  {
   "cell_type": "markdown",
   "metadata": {
    "papermill": {
     "duration": 0.011502,
     "end_time": "2021-03-08T16:36:51.282870",
     "exception": false,
     "start_time": "2021-03-08T16:36:51.271368",
     "status": "completed"
    },
    "tags": []
   },
   "source": [
    "# Functions"
   ]
  },
  {
   "cell_type": "code",
   "execution_count": 3,
   "metadata": {
    "execution": {
     "iopub.execute_input": "2021-03-08T16:36:51.307094Z",
     "iopub.status.busy": "2021-03-08T16:36:51.306727Z",
     "iopub.status.idle": "2021-03-08T16:36:51.315959Z",
     "shell.execute_reply": "2021-03-08T16:36:51.315637Z"
    },
    "papermill": {
     "duration": 0.022595,
     "end_time": "2021-03-08T16:36:51.316049",
     "exception": false,
     "start_time": "2021-03-08T16:36:51.293454",
     "status": "completed"
    },
    "tags": []
   },
   "outputs": [],
   "source": [
    "def groupby(data, sep=\":\"):\n",
    "    if data is None:\n",
    "        return {}\n",
    "    res = defaultdict(set)\n",
    "    for d in data:\n",
    "        ds = d.split(sep)\n",
    "        res[ds[0]].add(d)\n",
    "    return res"
   ]
  },
  {
   "cell_type": "code",
   "execution_count": 4,
   "metadata": {
    "execution": {
     "iopub.execute_input": "2021-03-08T16:36:51.340528Z",
     "iopub.status.busy": "2021-03-08T16:36:51.340158Z",
     "iopub.status.idle": "2021-03-08T16:36:51.349363Z",
     "shell.execute_reply": "2021-03-08T16:36:51.348983Z"
    },
    "papermill": {
     "duration": 0.022178,
     "end_time": "2021-03-08T16:36:51.349454",
     "exception": false,
     "start_time": "2021-03-08T16:36:51.327276",
     "status": "completed"
    },
    "tags": []
   },
   "outputs": [],
   "source": [
    "test_data = [\n",
    "    \"DOID:2841\",\n",
    "    \"HP:0002099\",\n",
    "    \"ICD10:J45\",\n",
    "    \"ICD10:J45.90\",\n",
    "    \"ICD9:493\",\n",
    "    \"ICD9:493.81\",\n",
    "    \"ICD9:493.9\",\n",
    "    \"KEGG:05310\",\n",
    "]"
   ]
  },
  {
   "cell_type": "code",
   "execution_count": 5,
   "metadata": {
    "execution": {
     "iopub.execute_input": "2021-03-08T16:36:51.374425Z",
     "iopub.status.busy": "2021-03-08T16:36:51.374058Z",
     "iopub.status.idle": "2021-03-08T16:36:51.383311Z",
     "shell.execute_reply": "2021-03-08T16:36:51.382969Z"
    },
    "papermill": {
     "duration": 0.022738,
     "end_time": "2021-03-08T16:36:51.383401",
     "exception": false,
     "start_time": "2021-03-08T16:36:51.360663",
     "status": "completed"
    },
    "tags": []
   },
   "outputs": [],
   "source": [
    "_tmp = groupby(test_data)\n",
    "assert _tmp is not None\n",
    "assert len(_tmp) == 5\n",
    "\n",
    "assert len(_tmp[\"DOID\"]) == 1\n",
    "assert len(_tmp[\"HP\"]) == 1\n",
    "assert len(_tmp[\"ICD10\"]) == 2\n",
    "assert len(_tmp[\"ICD9\"]) == 3\n",
    "assert len(_tmp[\"KEGG\"]) == 1"
   ]
  },
  {
   "cell_type": "code",
   "execution_count": 6,
   "metadata": {
    "execution": {
     "iopub.execute_input": "2021-03-08T16:36:51.407830Z",
     "iopub.status.busy": "2021-03-08T16:36:51.407472Z",
     "iopub.status.idle": "2021-03-08T16:36:51.421233Z",
     "shell.execute_reply": "2021-03-08T16:36:51.420845Z"
    },
    "papermill": {
     "duration": 0.026734,
     "end_time": "2021-03-08T16:36:51.421325",
     "exception": false,
     "start_time": "2021-03-08T16:36:51.394591",
     "status": "completed"
    },
    "tags": []
   },
   "outputs": [
    {
     "data": {
      "text/plain": [
       "defaultdict(set,\n",
       "            {'DOID': {'DOID:2841'},\n",
       "             'HP': {'HP:0002099'},\n",
       "             'ICD10': {'ICD10:J45', 'ICD10:J45.90'},\n",
       "             'ICD9': {'ICD9:493', 'ICD9:493.81', 'ICD9:493.9'},\n",
       "             'KEGG': {'KEGG:05310'}})"
      ]
     },
     "execution_count": 6,
     "metadata": {},
     "output_type": "execute_result"
    }
   ],
   "source": [
    "_tmp"
   ]
  },
  {
   "cell_type": "code",
   "execution_count": 7,
   "metadata": {
    "execution": {
     "iopub.execute_input": "2021-03-08T16:36:51.447819Z",
     "iopub.status.busy": "2021-03-08T16:36:51.447433Z",
     "iopub.status.idle": "2021-03-08T16:36:51.456608Z",
     "shell.execute_reply": "2021-03-08T16:36:51.456275Z"
    },
    "papermill": {
     "duration": 0.023524,
     "end_time": "2021-03-08T16:36:51.456704",
     "exception": false,
     "start_time": "2021-03-08T16:36:51.433180",
     "status": "completed"
    },
    "tags": []
   },
   "outputs": [],
   "source": [
    "def get_parents(node):\n",
    "    for t in graph.successors(node):\n",
    "        yield t\n",
    "\n",
    "\n",
    "def _is_disease_single_node(node):\n",
    "    return node == \"EFO:0000408\"\n",
    "\n",
    "\n",
    "def is_disease(node):\n",
    "    if _is_disease_single_node(node):\n",
    "        return True\n",
    "\n",
    "    for parent_node in get_parents(node):\n",
    "        if is_disease(parent_node):\n",
    "            return True\n",
    "\n",
    "    return False"
   ]
  },
  {
   "cell_type": "markdown",
   "metadata": {
    "papermill": {
     "duration": 0.011681,
     "end_time": "2021-03-08T16:36:51.480144",
     "exception": false,
     "start_time": "2021-03-08T16:36:51.468463",
     "status": "completed"
    },
    "tags": []
   },
   "source": [
    "# Read the EFO ontology"
   ]
  },
  {
   "cell_type": "code",
   "execution_count": 8,
   "metadata": {
    "execution": {
     "iopub.execute_input": "2021-03-08T16:36:51.505003Z",
     "iopub.status.busy": "2021-03-08T16:36:51.504599Z",
     "iopub.status.idle": "2021-03-08T16:36:56.247495Z",
     "shell.execute_reply": "2021-03-08T16:36:56.247094Z"
    },
    "papermill": {
     "duration": 4.756278,
     "end_time": "2021-03-08T16:36:56.247622",
     "exception": false,
     "start_time": "2021-03-08T16:36:51.491344",
     "status": "completed"
    },
    "tags": []
   },
   "outputs": [],
   "source": [
    "url = conf.GENERAL[\"EFO_ONTOLOGY_OBO_FILE\"]\n",
    "graph = obonet.read_obo(url)"
   ]
  },
  {
   "cell_type": "code",
   "execution_count": 9,
   "metadata": {
    "execution": {
     "iopub.execute_input": "2021-03-08T16:36:56.278765Z",
     "iopub.status.busy": "2021-03-08T16:36:56.278317Z",
     "iopub.status.idle": "2021-03-08T16:36:56.289669Z",
     "shell.execute_reply": "2021-03-08T16:36:56.289295Z"
    },
    "papermill": {
     "duration": 0.027601,
     "end_time": "2021-03-08T16:36:56.289773",
     "exception": false,
     "start_time": "2021-03-08T16:36:56.262172",
     "status": "completed"
    },
    "tags": []
   },
   "outputs": [
    {
     "data": {
      "text/plain": [
       "26727"
      ]
     },
     "execution_count": 9,
     "metadata": {},
     "output_type": "execute_result"
    }
   ],
   "source": [
    "# Number of nodes\n",
    "len(graph)"
   ]
  },
  {
   "cell_type": "code",
   "execution_count": 10,
   "metadata": {
    "execution": {
     "iopub.execute_input": "2021-03-08T16:36:56.318632Z",
     "iopub.status.busy": "2021-03-08T16:36:56.318217Z",
     "iopub.status.idle": "2021-03-08T16:36:56.365911Z",
     "shell.execute_reply": "2021-03-08T16:36:56.365534Z"
    },
    "papermill": {
     "duration": 0.062849,
     "end_time": "2021-03-08T16:36:56.366015",
     "exception": false,
     "start_time": "2021-03-08T16:36:56.303166",
     "status": "completed"
    },
    "tags": []
   },
   "outputs": [
    {
     "data": {
      "text/plain": [
       "52865"
      ]
     },
     "execution_count": 10,
     "metadata": {},
     "output_type": "execute_result"
    }
   ],
   "source": [
    "# Number of edges\n",
    "graph.number_of_edges()"
   ]
  },
  {
   "cell_type": "code",
   "execution_count": 11,
   "metadata": {
    "execution": {
     "iopub.execute_input": "2021-03-08T16:36:56.394310Z",
     "iopub.status.busy": "2021-03-08T16:36:56.393917Z",
     "iopub.status.idle": "2021-03-08T16:36:56.403105Z",
     "shell.execute_reply": "2021-03-08T16:36:56.403399Z"
    },
    "papermill": {
     "duration": 0.024189,
     "end_time": "2021-03-08T16:36:56.403516",
     "exception": false,
     "start_time": "2021-03-08T16:36:56.379327",
     "status": "completed"
    },
    "tags": []
   },
   "outputs": [],
   "source": [
    "assert graph.nodes[\"EFO:0000270\"].get(\"name\") == \"asthma\""
   ]
  },
  {
   "cell_type": "markdown",
   "metadata": {
    "papermill": {
     "duration": 0.011367,
     "end_time": "2021-03-08T16:36:56.427563",
     "exception": false,
     "start_time": "2021-03-08T16:36:56.416196",
     "status": "completed"
    },
    "tags": []
   },
   "source": [
    "# Map EFO to other references"
   ]
  },
  {
   "cell_type": "code",
   "execution_count": 12,
   "metadata": {
    "execution": {
     "iopub.execute_input": "2021-03-08T16:36:56.453089Z",
     "iopub.status.busy": "2021-03-08T16:36:56.452651Z",
     "iopub.status.idle": "2021-03-08T16:36:56.465424Z",
     "shell.execute_reply": "2021-03-08T16:36:56.465715Z"
    },
    "papermill": {
     "duration": 0.026841,
     "end_time": "2021-03-08T16:36:56.465834",
     "exception": false,
     "start_time": "2021-03-08T16:36:56.438993",
     "status": "completed"
    },
    "tags": []
   },
   "outputs": [],
   "source": [
    "efo_terms = {node_id for node_id in graph.nodes.keys()}"
   ]
  },
  {
   "cell_type": "code",
   "execution_count": 13,
   "metadata": {
    "execution": {
     "iopub.execute_input": "2021-03-08T16:36:56.492072Z",
     "iopub.status.busy": "2021-03-08T16:36:56.491716Z",
     "iopub.status.idle": "2021-03-08T16:36:56.501698Z",
     "shell.execute_reply": "2021-03-08T16:36:56.501368Z"
    },
    "papermill": {
     "duration": 0.023524,
     "end_time": "2021-03-08T16:36:56.501785",
     "exception": false,
     "start_time": "2021-03-08T16:36:56.478261",
     "status": "completed"
    },
    "tags": []
   },
   "outputs": [
    {
     "data": {
      "text/plain": [
       "26727"
      ]
     },
     "execution_count": 13,
     "metadata": {},
     "output_type": "execute_result"
    }
   ],
   "source": [
    "len(efo_terms)"
   ]
  },
  {
   "cell_type": "code",
   "execution_count": 14,
   "metadata": {
    "execution": {
     "iopub.execute_input": "2021-03-08T16:36:56.528086Z",
     "iopub.status.busy": "2021-03-08T16:36:56.527713Z",
     "iopub.status.idle": "2021-03-08T16:36:56.539042Z",
     "shell.execute_reply": "2021-03-08T16:36:56.538672Z"
    },
    "papermill": {
     "duration": 0.025322,
     "end_time": "2021-03-08T16:36:56.539131",
     "exception": false,
     "start_time": "2021-03-08T16:36:56.513809",
     "status": "completed"
    },
    "tags": []
   },
   "outputs": [
    {
     "data": {
      "text/plain": [
       "{'name': 'asthma',\n",
       " 'def': '\"Tendency of the smooth muscle of the tracheobronchial tree to contract more intensely in response to a given stimulus than it does in the response seen in normal individuals. This condition is present in virtually all symptomatic patients with asthma. The most prominent manifestation of this smooth muscle contraction is a decrease in airway caliber that can be readily measured in the pulmonary function laboratory.\" []',\n",
       " 'synonym': ['\"Airway hyperreactivity\" EXACT []',\n",
       "  '\"asthma\" EXACT []',\n",
       "  '\"Asthma (disorder)\" EXACT []',\n",
       "  '\"Asthma NOS\" EXACT []',\n",
       "  '\"Asthma NOS (disorder)\" EXACT []',\n",
       "  '\"ASTHMA NOS W (AC) EXAC\" EXACT []',\n",
       "  '\"Asthma unspecified\" EXACT []',\n",
       "  '\"Asthma unspecified (disorder)\" EXACT []',\n",
       "  '\"Asthma, Bronchial\" EXACT []',\n",
       "  '\"Asthma, unspecified\" EXACT []',\n",
       "  '\"Asthma, unspecified type, with acute exacerbation\" EXACT []',\n",
       "  '\"Asthma, unspecified type, without mention of status asthmaticus\" EXACT []',\n",
       "  '\"Asthmas\" EXACT []',\n",
       "  '\"Asthmatic\" EXACT []',\n",
       "  '\"BHR - Bronchial hyperreactivity\" EXACT []',\n",
       "  '\"Bronchial asthma\" EXACT []',\n",
       "  '\"Bronchial Hyperreactivities\" EXACT []',\n",
       "  '\"Bronchial hyperreactivity\" EXACT []',\n",
       "  '\"bronchial hyperreactivity\" EXACT [DOID:2841]',\n",
       "  '\"Bronchial hyperresponsiveness\" EXACT []',\n",
       "  '\"Bronchial hypersensitivity\" EXACT []',\n",
       "  '\"chronic obstructive asthma\" EXACT [DOID:2841]',\n",
       "  '\"chronic obstructive asthma with acute exacerbation\" EXACT []',\n",
       "  '\"chronic obstructive asthma with acute exacerbation\" NARROW [DOID:2841]',\n",
       "  '\"chronic obstructive asthma with status asthmaticus\" EXACT [DOID:2841]',\n",
       "  '\"DUST PNEUMONOPATHY NEC\" EXACT []',\n",
       "  '\"Exercise induced asthma\" EXACT []',\n",
       "  '\"exercise induced asthma\" NARROW [DOID:2841]',\n",
       "  '\"Exercise-induced asthma\" EXACT []',\n",
       "  '\"exercise-induced asthma\" NARROW [DOID:2841]',\n",
       "  '\"Exercise-induced asthma (disorder)\" EXACT []',\n",
       "  '\"Hyperreactive airway disease\" EXACT []',\n",
       "  '\"Hyperreactive airways disease\" EXACT []',\n",
       "  '\"Hyperreactivities, Bronchial\" EXACT []',\n",
       "  '\"Hyperreactivity, Bronchial\" EXACT []',\n",
       "  '\"Other forms of asthma\" EXACT []',\n",
       "  '\"Pneumonopathy due to inhalation of other dust\" EXACT []',\n",
       "  '\"Pneumopathy due to inhalation of other dust\" EXACT []',\n",
       "  '\"Pneumopathy due to inhalation of other dust (disorder)\" EXACT []',\n",
       "  '\"Pneumopathy due to inhalation of other dust NOS\" EXACT []',\n",
       "  '\"Pneumopathy due to inhalation of other dust NOS (disorder)\" EXACT []'],\n",
       " 'xref': ['COHD:317009',\n",
       "  'DOID:2841',\n",
       "  'GARD:0010246',\n",
       "  'HP:0002099',\n",
       "  'ICD10:J45',\n",
       "  'ICD10:J45.90',\n",
       "  'ICD10:J45.909',\n",
       "  'ICD9:493',\n",
       "  'ICD9:493.81',\n",
       "  'ICD9:493.9',\n",
       "  'KEGG:05310',\n",
       "  'MESH:D001249',\n",
       "  'MONDO:0004979',\n",
       "  'MSH:D001249',\n",
       "  'NCIT:C28397',\n",
       "  'NCIt:C28397',\n",
       "  'OMIM:600807',\n",
       "  'OMIM:607277',\n",
       "  'OMIM:608584',\n",
       "  'OMIM:611064',\n",
       "  'OMIM:611960',\n",
       "  'SCTID:31387002',\n",
       "  'SNOMEDCT:195967001',\n",
       "  'UMLS:C0004096'],\n",
       " 'is_a': ['EFO:1002018'],\n",
       " 'property_value': ['closeMatch http://identifiers.org/snomedct/155574008',\n",
       "  'closeMatch http://identifiers.org/snomedct/155579003',\n",
       "  'closeMatch http://identifiers.org/snomedct/187687003',\n",
       "  'closeMatch http://identifiers.org/snomedct/195967001',\n",
       "  'closeMatch http://identifiers.org/snomedct/195979001',\n",
       "  'closeMatch http://identifiers.org/snomedct/195983001',\n",
       "  'closeMatch http://identifiers.org/snomedct/21341004',\n",
       "  'closeMatch http://identifiers.org/snomedct/266365004',\n",
       "  'closeMatch http://identifiers.org/snomedct/266398009',\n",
       "  'closeMatch http://identifiers.org/snomedct/278517007',\n",
       "  'exactMatch DOID:2841',\n",
       "  'exactMatch http://identifiers.org/mesh/D001249',\n",
       "  'exactMatch http://identifiers.org/snomedct/31387002',\n",
       "  'exactMatch http://linkedlifedata.com/resource/umls/id/C0004096',\n",
       "  'exactMatch NCIT:C28397',\n",
       "  'gwas:trait \"true\" xsd:string',\n",
       "  'IAO:0000117 \"James Malone\" xsd:string',\n",
       "  'IAO:0000117 \"Tomasz Adamusiak\" xsd:string']}"
      ]
     },
     "execution_count": 14,
     "metadata": {},
     "output_type": "execute_result"
    }
   ],
   "source": [
    "graph.nodes[\"EFO:0000270\"]"
   ]
  },
  {
   "cell_type": "markdown",
   "metadata": {
    "papermill": {
     "duration": 0.01205,
     "end_time": "2021-03-08T16:36:56.563788",
     "exception": false,
     "start_time": "2021-03-08T16:36:56.551738",
     "status": "completed"
    },
    "tags": []
   },
   "source": [
    "## EFO to label"
   ]
  },
  {
   "cell_type": "code",
   "execution_count": 15,
   "metadata": {
    "execution": {
     "iopub.execute_input": "2021-03-08T16:36:56.591018Z",
     "iopub.status.busy": "2021-03-08T16:36:56.590655Z",
     "iopub.status.idle": "2021-03-08T16:36:56.636205Z",
     "shell.execute_reply": "2021-03-08T16:36:56.635724Z"
    },
    "papermill": {
     "duration": 0.060444,
     "end_time": "2021-03-08T16:36:56.636316",
     "exception": false,
     "start_time": "2021-03-08T16:36:56.575872",
     "status": "completed"
    },
    "tags": []
   },
   "outputs": [],
   "source": [
    "efo_full_data = []\n",
    "\n",
    "for efo in efo_terms:\n",
    "    efo_data = {}\n",
    "\n",
    "    efo_data[\"term_id\"] = efo\n",
    "    efo_data[\"label\"] = graph.nodes[efo].get(\"name\")\n",
    "\n",
    "    efo_full_data.append(efo_data)"
   ]
  },
  {
   "cell_type": "code",
   "execution_count": 16,
   "metadata": {
    "execution": {
     "iopub.execute_input": "2021-03-08T16:36:56.669250Z",
     "iopub.status.busy": "2021-03-08T16:36:56.668877Z",
     "iopub.status.idle": "2021-03-08T16:36:56.701287Z",
     "shell.execute_reply": "2021-03-08T16:36:56.701644Z"
    },
    "papermill": {
     "duration": 0.049791,
     "end_time": "2021-03-08T16:36:56.701782",
     "exception": false,
     "start_time": "2021-03-08T16:36:56.651991",
     "status": "completed"
    },
    "tags": []
   },
   "outputs": [],
   "source": [
    "efo_label = pd.DataFrame(efo_full_data).set_index(\"term_id\")"
   ]
  },
  {
   "cell_type": "code",
   "execution_count": 17,
   "metadata": {
    "execution": {
     "iopub.execute_input": "2021-03-08T16:36:56.736463Z",
     "iopub.status.busy": "2021-03-08T16:36:56.736003Z",
     "iopub.status.idle": "2021-03-08T16:36:56.746869Z",
     "shell.execute_reply": "2021-03-08T16:36:56.746471Z"
    },
    "papermill": {
     "duration": 0.029003,
     "end_time": "2021-03-08T16:36:56.746963",
     "exception": false,
     "start_time": "2021-03-08T16:36:56.717960",
     "status": "completed"
    },
    "tags": []
   },
   "outputs": [
    {
     "data": {
      "text/plain": [
       "(26727, 1)"
      ]
     },
     "execution_count": 17,
     "metadata": {},
     "output_type": "execute_result"
    }
   ],
   "source": [
    "efo_label.shape"
   ]
  },
  {
   "cell_type": "code",
   "execution_count": 18,
   "metadata": {
    "execution": {
     "iopub.execute_input": "2021-03-08T16:36:56.777627Z",
     "iopub.status.busy": "2021-03-08T16:36:56.777246Z",
     "iopub.status.idle": "2021-03-08T16:36:56.793458Z",
     "shell.execute_reply": "2021-03-08T16:36:56.793028Z"
    },
    "papermill": {
     "duration": 0.032533,
     "end_time": "2021-03-08T16:36:56.793569",
     "exception": false,
     "start_time": "2021-03-08T16:36:56.761036",
     "status": "completed"
    },
    "tags": []
   },
   "outputs": [],
   "source": [
    "assert efo_label.index.is_unique"
   ]
  },
  {
   "cell_type": "code",
   "execution_count": 19,
   "metadata": {
    "execution": {
     "iopub.execute_input": "2021-03-08T16:36:56.824219Z",
     "iopub.status.busy": "2021-03-08T16:36:56.823848Z",
     "iopub.status.idle": "2021-03-08T16:36:56.836651Z",
     "shell.execute_reply": "2021-03-08T16:36:56.836308Z"
    },
    "papermill": {
     "duration": 0.028287,
     "end_time": "2021-03-08T16:36:56.836778",
     "exception": false,
     "start_time": "2021-03-08T16:36:56.808491",
     "status": "completed"
    },
    "tags": []
   },
   "outputs": [
    {
     "data": {
      "text/html": [
       "<div>\n",
       "<style scoped>\n",
       "    .dataframe tbody tr th:only-of-type {\n",
       "        vertical-align: middle;\n",
       "    }\n",
       "\n",
       "    .dataframe tbody tr th {\n",
       "        vertical-align: top;\n",
       "    }\n",
       "\n",
       "    .dataframe thead th {\n",
       "        text-align: right;\n",
       "    }\n",
       "</style>\n",
       "<table border=\"1\" class=\"dataframe\">\n",
       "  <thead>\n",
       "    <tr style=\"text-align: right;\">\n",
       "      <th></th>\n",
       "      <th>label</th>\n",
       "    </tr>\n",
       "    <tr>\n",
       "      <th>term_id</th>\n",
       "      <th></th>\n",
       "    </tr>\n",
       "  </thead>\n",
       "  <tbody>\n",
       "    <tr>\n",
       "      <th>MONDO:0003265</th>\n",
       "      <td>adjustment disorder</td>\n",
       "    </tr>\n",
       "    <tr>\n",
       "      <th>Orphanet:1621</th>\n",
       "      <td>3q13 microdeletion syndrome</td>\n",
       "    </tr>\n",
       "    <tr>\n",
       "      <th>EFO:0004947</th>\n",
       "      <td>Tis</td>\n",
       "    </tr>\n",
       "    <tr>\n",
       "      <th>EFO:0010464</th>\n",
       "      <td>beta-aminoisobutyric acid measurement</td>\n",
       "    </tr>\n",
       "    <tr>\n",
       "      <th>GO:0033643</th>\n",
       "      <td>host cell part</td>\n",
       "    </tr>\n",
       "  </tbody>\n",
       "</table>\n",
       "</div>"
      ],
      "text/plain": [
       "                                               label\n",
       "term_id                                             \n",
       "MONDO:0003265                    adjustment disorder\n",
       "Orphanet:1621            3q13 microdeletion syndrome\n",
       "EFO:0004947                                      Tis\n",
       "EFO:0010464    beta-aminoisobutyric acid measurement\n",
       "GO:0033643                            host cell part"
      ]
     },
     "execution_count": 19,
     "metadata": {},
     "output_type": "execute_result"
    }
   ],
   "source": [
    "efo_label.head()"
   ]
  },
  {
   "cell_type": "code",
   "execution_count": 20,
   "metadata": {
    "execution": {
     "iopub.execute_input": "2021-03-08T16:36:56.865858Z",
     "iopub.status.busy": "2021-03-08T16:36:56.865494Z",
     "iopub.status.idle": "2021-03-08T16:36:56.874743Z",
     "shell.execute_reply": "2021-03-08T16:36:56.874371Z"
    },
    "papermill": {
     "duration": 0.024705,
     "end_time": "2021-03-08T16:36:56.874832",
     "exception": false,
     "start_time": "2021-03-08T16:36:56.850127",
     "status": "completed"
    },
    "tags": []
   },
   "outputs": [],
   "source": [
    "assert efo_label.loc[\"EFO:0000270\", \"label\"] == \"asthma\""
   ]
  },
  {
   "cell_type": "code",
   "execution_count": 21,
   "metadata": {
    "execution": {
     "iopub.execute_input": "2021-03-08T16:36:56.904281Z",
     "iopub.status.busy": "2021-03-08T16:36:56.903908Z",
     "iopub.status.idle": "2021-03-08T16:36:57.018048Z",
     "shell.execute_reply": "2021-03-08T16:36:57.018322Z"
    },
    "papermill": {
     "duration": 0.129959,
     "end_time": "2021-03-08T16:36:57.018434",
     "exception": false,
     "start_time": "2021-03-08T16:36:56.888475",
     "status": "completed"
    },
    "tags": []
   },
   "outputs": [
    {
     "data": {
      "text/plain": [
       "PosixPath('/home/miltondp/projects/labs/greenelab/phenoplier/base/data/term_id_labels.tsv.gz')"
      ]
     },
     "metadata": {},
     "output_type": "display_data"
    }
   ],
   "source": [
    "outfile = conf.GENERAL[\"TERM_ID_LABEL_FILE\"]\n",
    "display(outfile)\n",
    "\n",
    "efo_label.to_csv(outfile, sep=\"\\t\")"
   ]
  },
  {
   "cell_type": "markdown",
   "metadata": {
    "papermill": {
     "duration": 0.013152,
     "end_time": "2021-03-08T16:36:57.045404",
     "exception": false,
     "start_time": "2021-03-08T16:36:57.032252",
     "status": "completed"
    },
    "tags": []
   },
   "source": [
    "## Map xrefs"
   ]
  },
  {
   "cell_type": "code",
   "execution_count": 22,
   "metadata": {
    "execution": {
     "iopub.execute_input": "2021-03-08T16:36:57.075034Z",
     "iopub.status.busy": "2021-03-08T16:36:57.074663Z",
     "iopub.status.idle": "2021-03-08T16:36:57.221995Z",
     "shell.execute_reply": "2021-03-08T16:36:57.222301Z"
    },
    "papermill": {
     "duration": 0.163712,
     "end_time": "2021-03-08T16:36:57.222413",
     "exception": false,
     "start_time": "2021-03-08T16:36:57.058701",
     "status": "completed"
    },
    "tags": []
   },
   "outputs": [],
   "source": [
    "efo_full_data = []\n",
    "\n",
    "for efo in efo_terms:\n",
    "    efo_data = {}\n",
    "\n",
    "    efo_data[\"term_id\"] = efo\n",
    "\n",
    "    for xref_id, xref_data in groupby(graph.nodes[efo].get(\"xref\")).items():\n",
    "        efo_data[\"target_id_type\"] = xref_id\n",
    "\n",
    "        for xref in xref_data:\n",
    "            efo_data[\"target_id\"] = xref\n",
    "            efo_full_data.append(efo_data.copy())"
   ]
  },
  {
   "cell_type": "code",
   "execution_count": 23,
   "metadata": {
    "execution": {
     "iopub.execute_input": "2021-03-08T16:36:57.252888Z",
     "iopub.status.busy": "2021-03-08T16:36:57.252450Z",
     "iopub.status.idle": "2021-03-08T16:36:57.364290Z",
     "shell.execute_reply": "2021-03-08T16:36:57.363732Z"
    },
    "papermill": {
     "duration": 0.128434,
     "end_time": "2021-03-08T16:36:57.364417",
     "exception": false,
     "start_time": "2021-03-08T16:36:57.235983",
     "status": "completed"
    },
    "tags": []
   },
   "outputs": [],
   "source": [
    "efo_full_data = pd.DataFrame(efo_full_data).set_index(\"term_id\")"
   ]
  },
  {
   "cell_type": "code",
   "execution_count": 24,
   "metadata": {
    "execution": {
     "iopub.execute_input": "2021-03-08T16:36:57.403100Z",
     "iopub.status.busy": "2021-03-08T16:36:57.402640Z",
     "iopub.status.idle": "2021-03-08T16:36:57.413948Z",
     "shell.execute_reply": "2021-03-08T16:36:57.413544Z"
    },
    "papermill": {
     "duration": 0.031321,
     "end_time": "2021-03-08T16:36:57.414052",
     "exception": false,
     "start_time": "2021-03-08T16:36:57.382731",
     "status": "completed"
    },
    "tags": []
   },
   "outputs": [
    {
     "data": {
      "text/plain": [
       "(104094, 2)"
      ]
     },
     "execution_count": 24,
     "metadata": {},
     "output_type": "execute_result"
    }
   ],
   "source": [
    "efo_full_data.shape"
   ]
  },
  {
   "cell_type": "code",
   "execution_count": 25,
   "metadata": {
    "execution": {
     "iopub.execute_input": "2021-03-08T16:36:57.449671Z",
     "iopub.status.busy": "2021-03-08T16:36:57.449302Z",
     "iopub.status.idle": "2021-03-08T16:36:57.461201Z",
     "shell.execute_reply": "2021-03-08T16:36:57.461478Z"
    },
    "papermill": {
     "duration": 0.030361,
     "end_time": "2021-03-08T16:36:57.461590",
     "exception": false,
     "start_time": "2021-03-08T16:36:57.431229",
     "status": "completed"
    },
    "tags": []
   },
   "outputs": [
    {
     "data": {
      "text/html": [
       "<div>\n",
       "<style scoped>\n",
       "    .dataframe tbody tr th:only-of-type {\n",
       "        vertical-align: middle;\n",
       "    }\n",
       "\n",
       "    .dataframe tbody tr th {\n",
       "        vertical-align: top;\n",
       "    }\n",
       "\n",
       "    .dataframe thead th {\n",
       "        text-align: right;\n",
       "    }\n",
       "</style>\n",
       "<table border=\"1\" class=\"dataframe\">\n",
       "  <thead>\n",
       "    <tr style=\"text-align: right;\">\n",
       "      <th></th>\n",
       "      <th>target_id_type</th>\n",
       "      <th>target_id</th>\n",
       "    </tr>\n",
       "    <tr>\n",
       "      <th>term_id</th>\n",
       "      <th></th>\n",
       "      <th></th>\n",
       "    </tr>\n",
       "  </thead>\n",
       "  <tbody>\n",
       "    <tr>\n",
       "      <th>MONDO:0003265</th>\n",
       "      <td>COHD</td>\n",
       "      <td>COHD:436677</td>\n",
       "    </tr>\n",
       "    <tr>\n",
       "      <th>MONDO:0003265</th>\n",
       "      <td>DOID</td>\n",
       "      <td>DOID:507</td>\n",
       "    </tr>\n",
       "    <tr>\n",
       "      <th>MONDO:0003265</th>\n",
       "      <td>ICD9</td>\n",
       "      <td>ICD9:309.9</td>\n",
       "    </tr>\n",
       "    <tr>\n",
       "      <th>MONDO:0003265</th>\n",
       "      <td>ICD9</td>\n",
       "      <td>ICD9:309.89</td>\n",
       "    </tr>\n",
       "    <tr>\n",
       "      <th>MONDO:0003265</th>\n",
       "      <td>ICD9</td>\n",
       "      <td>ICD9:309</td>\n",
       "    </tr>\n",
       "  </tbody>\n",
       "</table>\n",
       "</div>"
      ],
      "text/plain": [
       "              target_id_type    target_id\n",
       "term_id                                  \n",
       "MONDO:0003265           COHD  COHD:436677\n",
       "MONDO:0003265           DOID     DOID:507\n",
       "MONDO:0003265           ICD9   ICD9:309.9\n",
       "MONDO:0003265           ICD9  ICD9:309.89\n",
       "MONDO:0003265           ICD9     ICD9:309"
      ]
     },
     "execution_count": 25,
     "metadata": {},
     "output_type": "execute_result"
    }
   ],
   "source": [
    "efo_full_data.head()"
   ]
  },
  {
   "cell_type": "code",
   "execution_count": 26,
   "metadata": {
    "execution": {
     "iopub.execute_input": "2021-03-08T16:36:57.493367Z",
     "iopub.status.busy": "2021-03-08T16:36:57.492985Z",
     "iopub.status.idle": "2021-03-08T16:36:57.503555Z",
     "shell.execute_reply": "2021-03-08T16:36:57.503184Z"
    },
    "papermill": {
     "duration": 0.02728,
     "end_time": "2021-03-08T16:36:57.503644",
     "exception": false,
     "start_time": "2021-03-08T16:36:57.476364",
     "status": "completed"
    },
    "tags": []
   },
   "outputs": [
    {
     "data": {
      "text/plain": [
       "{'name': 'ENBREL',\n",
       " 'def': '\"Etanercept (trade name Enbrel) is a drug that treats autoimmune diseases by interfering with tumor necrosis factor (TNF; a soluble inflammatory cytokine) by acting as a TNF inhibitor. Pfizer describes in a SEC filing that the drug is used to treat rheumatoid, juvenile rheumatoid and psoriatic arthritis, plaque psoriasis and ankylosing spondylitis. Sales reached record $3.3 billion in 2010.[1]\\\\nEtanercept is a fusion protein produced through expression of recombinant DNA. That is, it is a product of a DNA \\\\\"construct\\\\\" engineered to link the human gene for soluble TNF receptor 2 to the gene for the Fc component of human immunoglobulin G1 (IgG1). Expression of the construct produces a continuous protein \\\\\"fusing\\\\\" TNF receptor 2 to IgG1. Production of Etanercept is accomplished by the large-scale culturing of cells that have been \\\\\"cloned\\\\\" to express this recombinant DNA construct.\" []',\n",
       " 'synonym': ['\"etanercept\" EXACT []'],\n",
       " 'xref': ['NCIt:C2381', 'SNOMEDCT:118259007', 'SNOMEDCT:387045004'],\n",
       " 'is_a': ['CHEBI:23888'],\n",
       " 'relationship': ['has_role EFO:0001899'],\n",
       " 'property_value': ['definition:citation http://en.wikipedia.org/wiki/Etanercept xsd:string']}"
      ]
     },
     "execution_count": 26,
     "metadata": {},
     "output_type": "execute_result"
    }
   ],
   "source": [
    "graph.nodes[\"EFO:0002669\"]"
   ]
  },
  {
   "cell_type": "code",
   "execution_count": 27,
   "metadata": {
    "execution": {
     "iopub.execute_input": "2021-03-08T16:36:57.534794Z",
     "iopub.status.busy": "2021-03-08T16:36:57.534434Z",
     "iopub.status.idle": "2021-03-08T16:36:57.556147Z",
     "shell.execute_reply": "2021-03-08T16:36:57.555728Z"
    },
    "papermill": {
     "duration": 0.038067,
     "end_time": "2021-03-08T16:36:57.556248",
     "exception": false,
     "start_time": "2021-03-08T16:36:57.518181",
     "status": "completed"
    },
    "tags": []
   },
   "outputs": [
    {
     "data": {
      "text/html": [
       "<div>\n",
       "<style scoped>\n",
       "    .dataframe tbody tr th:only-of-type {\n",
       "        vertical-align: middle;\n",
       "    }\n",
       "\n",
       "    .dataframe tbody tr th {\n",
       "        vertical-align: top;\n",
       "    }\n",
       "\n",
       "    .dataframe thead th {\n",
       "        text-align: right;\n",
       "    }\n",
       "</style>\n",
       "<table border=\"1\" class=\"dataframe\">\n",
       "  <thead>\n",
       "    <tr style=\"text-align: right;\">\n",
       "      <th></th>\n",
       "      <th>target_id_type</th>\n",
       "      <th>target_id</th>\n",
       "    </tr>\n",
       "    <tr>\n",
       "      <th>term_id</th>\n",
       "      <th></th>\n",
       "      <th></th>\n",
       "    </tr>\n",
       "  </thead>\n",
       "  <tbody>\n",
       "    <tr>\n",
       "      <th>EFO:0002669</th>\n",
       "      <td>NCIt</td>\n",
       "      <td>NCIt:C2381</td>\n",
       "    </tr>\n",
       "    <tr>\n",
       "      <th>EFO:0002669</th>\n",
       "      <td>SNOMEDCT</td>\n",
       "      <td>SNOMEDCT:387045004</td>\n",
       "    </tr>\n",
       "    <tr>\n",
       "      <th>EFO:0002669</th>\n",
       "      <td>SNOMEDCT</td>\n",
       "      <td>SNOMEDCT:118259007</td>\n",
       "    </tr>\n",
       "  </tbody>\n",
       "</table>\n",
       "</div>"
      ],
      "text/plain": [
       "            target_id_type           target_id\n",
       "term_id                                       \n",
       "EFO:0002669           NCIt          NCIt:C2381\n",
       "EFO:0002669       SNOMEDCT  SNOMEDCT:387045004\n",
       "EFO:0002669       SNOMEDCT  SNOMEDCT:118259007"
      ]
     },
     "execution_count": 27,
     "metadata": {},
     "output_type": "execute_result"
    }
   ],
   "source": [
    "efo_full_data.loc[\"EFO:0002669\"]"
   ]
  },
  {
   "cell_type": "code",
   "execution_count": 28,
   "metadata": {
    "execution": {
     "iopub.execute_input": "2021-03-08T16:36:57.591255Z",
     "iopub.status.busy": "2021-03-08T16:36:57.590889Z",
     "iopub.status.idle": "2021-03-08T16:36:57.612258Z",
     "shell.execute_reply": "2021-03-08T16:36:57.610920Z"
    },
    "papermill": {
     "duration": 0.040282,
     "end_time": "2021-03-08T16:36:57.612604",
     "exception": false,
     "start_time": "2021-03-08T16:36:57.572322",
     "status": "completed"
    },
    "tags": []
   },
   "outputs": [],
   "source": [
    "# some testing\n",
    "assert efo_full_data.loc[\"EFO:0002669\"].shape[0] == 3\n",
    "\n",
    "_tmp = efo_full_data.loc[\"EFO:0002669\"].sort_values(\"target_id\")\n",
    "\n",
    "assert _tmp.iloc[0][\"target_id_type\"] == \"NCIt\"\n",
    "assert _tmp.iloc[0][\"target_id\"] == \"NCIt:C2381\"\n",
    "\n",
    "assert _tmp.iloc[1][\"target_id_type\"] == \"SNOMEDCT\"\n",
    "assert _tmp.iloc[1][\"target_id\"] == \"SNOMEDCT:118259007\"\n",
    "\n",
    "assert _tmp.iloc[2][\"target_id_type\"] == \"SNOMEDCT\"\n",
    "assert _tmp.iloc[2][\"target_id\"] == \"SNOMEDCT:387045004\""
   ]
  },
  {
   "cell_type": "code",
   "execution_count": 29,
   "metadata": {
    "execution": {
     "iopub.execute_input": "2021-03-08T16:36:57.669531Z",
     "iopub.status.busy": "2021-03-08T16:36:57.669156Z",
     "iopub.status.idle": "2021-03-08T16:36:58.051271Z",
     "shell.execute_reply": "2021-03-08T16:36:58.050904Z"
    },
    "papermill": {
     "duration": 0.400484,
     "end_time": "2021-03-08T16:36:58.051357",
     "exception": false,
     "start_time": "2021-03-08T16:36:57.650873",
     "status": "completed"
    },
    "tags": []
   },
   "outputs": [
    {
     "data": {
      "text/plain": [
       "PosixPath('/home/miltondp/projects/labs/greenelab/phenoplier/base/data/term_id_xrefs.tsv.gz')"
      ]
     },
     "metadata": {},
     "output_type": "display_data"
    }
   ],
   "source": [
    "outfile = conf.GENERAL[\"TERM_ID_XREFS_FILE\"]\n",
    "display(outfile)\n",
    "\n",
    "efo_full_data.to_csv(outfile, sep=\"\\t\")"
   ]
  },
  {
   "cell_type": "code",
   "execution_count": null,
   "metadata": {
    "papermill": {
     "duration": 0.014981,
     "end_time": "2021-03-08T16:36:58.081564",
     "exception": false,
     "start_time": "2021-03-08T16:36:58.066583",
     "status": "completed"
    },
    "tags": []
   },
   "outputs": [],
   "source": []
  }
 ],
 "metadata": {
  "jupytext": {
   "cell_metadata_filter": "all,-execution,-papermill,-trusted",
   "formats": "ipynb,py//py:percent"
  },
  "kernelspec": {
   "display_name": "Python 3",
   "language": "python",
   "name": "python3"
  },
  "language_info": {
   "codemirror_mode": {
    "name": "ipython",
    "version": 3
   },
   "file_extension": ".py",
   "mimetype": "text/x-python",
   "name": "python",
   "nbconvert_exporter": "python",
   "pygments_lexer": "ipython3",
   "version": "3.8.6"
  },
  "papermill": {
   "default_parameters": {},
   "duration": 8.537439,
   "end_time": "2021-03-08T16:36:58.503362",
   "environment_variables": {},
   "exception": null,
   "input_path": "01_preprocessing/000-efo_xrefs.ipynb",
   "output_path": "01_preprocessing/000-efo_xrefs.run.ipynb",
   "parameters": {},
   "start_time": "2021-03-08T16:36:49.965923",
   "version": "2.2.2"
  }
 },
 "nbformat": 4,
 "nbformat_minor": 4
}
