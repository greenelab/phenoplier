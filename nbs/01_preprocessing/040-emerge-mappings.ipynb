{
 "cells": [
  {
   "cell_type": "markdown",
   "metadata": {
    "papermill": {
     "duration": 0.017296,
     "end_time": "2021-01-13T20:32:53.502630",
     "exception": false,
     "start_time": "2021-01-13T20:32:53.485334",
     "status": "completed"
    },
    "tags": []
   },
   "source": [
    "# Description"
   ]
  },
  {
   "cell_type": "markdown",
   "metadata": {},
   "source": [
    "TODO"
   ]
  },
  {
   "cell_type": "markdown",
   "metadata": {
    "papermill": {
     "duration": 0.012583,
     "end_time": "2021-01-13T20:32:53.553320",
     "exception": false,
     "start_time": "2021-01-13T20:32:53.540737",
     "status": "completed"
    },
    "tags": []
   },
   "source": [
    "# Environment variables"
   ]
  },
  {
   "cell_type": "code",
   "execution_count": 1,
   "metadata": {
    "papermill": {
     "duration": 0.027045,
     "end_time": "2021-01-13T20:32:53.593171",
     "exception": false,
     "start_time": "2021-01-13T20:32:53.566126",
     "status": "completed"
    },
    "tags": []
   },
   "outputs": [],
   "source": [
    "# from IPython.display import display\n",
    "\n",
    "# import conf\n",
    "\n",
    "# N_JOBS = conf.GENERAL[\"N_JOBS\"]\n",
    "# display(N_JOBS)"
   ]
  },
  {
   "cell_type": "code",
   "execution_count": 2,
   "metadata": {
    "papermill": {
     "duration": 0.021189,
     "end_time": "2021-01-13T20:32:53.627700",
     "exception": false,
     "start_time": "2021-01-13T20:32:53.606511",
     "status": "completed"
    },
    "tags": []
   },
   "outputs": [],
   "source": [
    "# %env MKL_NUM_THREADS=$N_JOBS\n",
    "# %env OPEN_BLAS_NUM_THREADS=$N_JOBS\n",
    "# %env NUMEXPR_NUM_THREADS=$N_JOBS\n",
    "# %env OMP_NUM_THREADS=$N_JOBS"
   ]
  },
  {
   "cell_type": "markdown",
   "metadata": {
    "papermill": {
     "duration": 0.013563,
     "end_time": "2021-01-13T20:32:53.655443",
     "exception": false,
     "start_time": "2021-01-13T20:32:53.641880",
     "status": "completed"
    },
    "tags": []
   },
   "source": [
    "# Modules loading"
   ]
  },
  {
   "cell_type": "code",
   "execution_count": 3,
   "metadata": {
    "papermill": {
     "duration": 0.024455,
     "end_time": "2021-01-13T20:32:53.693137",
     "exception": false,
     "start_time": "2021-01-13T20:32:53.668682",
     "status": "completed"
    },
    "tags": []
   },
   "outputs": [],
   "source": [
    "%load_ext autoreload\n",
    "%autoreload 2"
   ]
  },
  {
   "cell_type": "code",
   "execution_count": 4,
   "metadata": {
    "papermill": {
     "duration": 0.185593,
     "end_time": "2021-01-13T20:32:53.892345",
     "exception": false,
     "start_time": "2021-01-13T20:32:53.706752",
     "status": "completed"
    },
    "tags": []
   },
   "outputs": [],
   "source": [
    "from pathlib import Path\n",
    "\n",
    "import numpy as np\n",
    "import pandas as pd\n",
    "\n",
    "import conf\n",
    "from data.cache import read_data"
   ]
  },
  {
   "cell_type": "markdown",
   "metadata": {
    "papermill": {
     "duration": 0.013062,
     "end_time": "2021-01-13T20:32:53.919413",
     "exception": false,
     "start_time": "2021-01-13T20:32:53.906351",
     "status": "completed"
    },
    "tags": []
   },
   "source": [
    "# Settings"
   ]
  },
  {
   "cell_type": "code",
   "execution_count": 5,
   "metadata": {},
   "outputs": [],
   "source": [
    "# SELECTED_PARTITION_K = 44"
   ]
  },
  {
   "cell_type": "code",
   "execution_count": 6,
   "metadata": {},
   "outputs": [],
   "source": [
    "# CONSENSUS_CLUSTERING_DIR = Path(\n",
    "#     conf.RESULTS[\"CLUSTERING_DIR\"], \"consensus_clustering\"\n",
    "# ).resolve()\n",
    "\n",
    "# display(CONSENSUS_CLUSTERING_DIR)"
   ]
  },
  {
   "cell_type": "markdown",
   "metadata": {},
   "source": [
    "# Data loading"
   ]
  },
  {
   "cell_type": "markdown",
   "metadata": {},
   "source": [
    "## eMERGE S-MultiXcan results"
   ]
  },
  {
   "cell_type": "code",
   "execution_count": 7,
   "metadata": {},
   "outputs": [],
   "source": [
    "# FIXME: path hardcoded\n",
    "input_filepath = Path(\n",
    "    \"/home/miltondp/projects/labs/greenelab/phenoplier/base/data/emerge/gene_assoc/emerge-smultixcan-mashr-zscores.pkl\"\n",
    ").resolve()"
   ]
  },
  {
   "cell_type": "code",
   "execution_count": 8,
   "metadata": {
    "papermill": {
     "duration": 0.02974,
     "end_time": "2021-01-12T05:38:04.402182",
     "exception": false,
     "start_time": "2021-01-12T05:38:04.372442",
     "status": "completed"
    },
    "tags": []
   },
   "outputs": [],
   "source": [
    "# input_filepath = Path(\n",
    "#     conf.RESULTS[\"PROJECTIONS_DIR\"],\n",
    "#     \"projection-emerge-smultixcan-mashr-zscores.pkl\",\n",
    "# ).resolve()\n",
    "# display(input_filepath)\n",
    "# assert input_filepath.exists()"
   ]
  },
  {
   "cell_type": "code",
   "execution_count": 9,
   "metadata": {},
   "outputs": [],
   "source": [
    "pmbb_data = pd.read_pickle(input_filepath)"
   ]
  },
  {
   "cell_type": "code",
   "execution_count": 10,
   "metadata": {},
   "outputs": [
    {
     "data": {
      "text/plain": [
       "(22198, 309)"
      ]
     },
     "execution_count": 10,
     "metadata": {},
     "output_type": "execute_result"
    }
   ],
   "source": [
    "pmbb_data.shape"
   ]
  },
  {
   "cell_type": "code",
   "execution_count": 11,
   "metadata": {},
   "outputs": [
    {
     "data": {
      "text/html": [
       "<div>\n",
       "<style scoped>\n",
       "    .dataframe tbody tr th:only-of-type {\n",
       "        vertical-align: middle;\n",
       "    }\n",
       "\n",
       "    .dataframe tbody tr th {\n",
       "        vertical-align: top;\n",
       "    }\n",
       "\n",
       "    .dataframe thead th {\n",
       "        text-align: right;\n",
       "    }\n",
       "</style>\n",
       "<table border=\"1\" class=\"dataframe\">\n",
       "  <thead>\n",
       "    <tr style=\"text-align: right;\">\n",
       "      <th></th>\n",
       "      <th>292.3</th>\n",
       "      <th>079</th>\n",
       "      <th>741</th>\n",
       "      <th>418.1</th>\n",
       "      <th>280</th>\n",
       "      <th>747</th>\n",
       "      <th>591</th>\n",
       "      <th>426.21</th>\n",
       "      <th>244</th>\n",
       "      <th>070.3</th>\n",
       "      <th>...</th>\n",
       "      <th>427</th>\n",
       "      <th>585.4</th>\n",
       "      <th>345</th>\n",
       "      <th>366.2</th>\n",
       "      <th>420.2</th>\n",
       "      <th>195</th>\n",
       "      <th>250.2</th>\n",
       "      <th>250.1</th>\n",
       "      <th>371</th>\n",
       "      <th>562</th>\n",
       "    </tr>\n",
       "    <tr>\n",
       "      <th>gene_name</th>\n",
       "      <th></th>\n",
       "      <th></th>\n",
       "      <th></th>\n",
       "      <th></th>\n",
       "      <th></th>\n",
       "      <th></th>\n",
       "      <th></th>\n",
       "      <th></th>\n",
       "      <th></th>\n",
       "      <th></th>\n",
       "      <th></th>\n",
       "      <th></th>\n",
       "      <th></th>\n",
       "      <th></th>\n",
       "      <th></th>\n",
       "      <th></th>\n",
       "      <th></th>\n",
       "      <th></th>\n",
       "      <th></th>\n",
       "      <th></th>\n",
       "      <th></th>\n",
       "    </tr>\n",
       "  </thead>\n",
       "  <tbody>\n",
       "    <tr>\n",
       "      <th>ENSG00000000419</th>\n",
       "      <td>1.043436</td>\n",
       "      <td>1.134028</td>\n",
       "      <td>1.595979</td>\n",
       "      <td>0.399451</td>\n",
       "      <td>0.725100</td>\n",
       "      <td>1.655468</td>\n",
       "      <td>1.803598</td>\n",
       "      <td>0.125250</td>\n",
       "      <td>1.053218</td>\n",
       "      <td>0.922592</td>\n",
       "      <td>...</td>\n",
       "      <td>0.364789</td>\n",
       "      <td>0.453873</td>\n",
       "      <td>0.759558</td>\n",
       "      <td>1.173671</td>\n",
       "      <td>0.298944</td>\n",
       "      <td>1.029646</td>\n",
       "      <td>0.826238</td>\n",
       "      <td>0.685711</td>\n",
       "      <td>2.069701</td>\n",
       "      <td>1.544766</td>\n",
       "    </tr>\n",
       "    <tr>\n",
       "      <th>ENSG00000000457</th>\n",
       "      <td>1.236752</td>\n",
       "      <td>0.119837</td>\n",
       "      <td>0.224120</td>\n",
       "      <td>0.200610</td>\n",
       "      <td>1.304190</td>\n",
       "      <td>0.541478</td>\n",
       "      <td>0.646474</td>\n",
       "      <td>0.493759</td>\n",
       "      <td>0.189680</td>\n",
       "      <td>1.563273</td>\n",
       "      <td>...</td>\n",
       "      <td>1.519500</td>\n",
       "      <td>0.201290</td>\n",
       "      <td>1.020996</td>\n",
       "      <td>0.592006</td>\n",
       "      <td>0.632661</td>\n",
       "      <td>0.995453</td>\n",
       "      <td>0.069362</td>\n",
       "      <td>0.460979</td>\n",
       "      <td>0.217046</td>\n",
       "      <td>1.350475</td>\n",
       "    </tr>\n",
       "    <tr>\n",
       "      <th>ENSG00000000460</th>\n",
       "      <td>0.497108</td>\n",
       "      <td>0.005690</td>\n",
       "      <td>0.317710</td>\n",
       "      <td>0.184918</td>\n",
       "      <td>1.136574</td>\n",
       "      <td>1.708245</td>\n",
       "      <td>0.288962</td>\n",
       "      <td>1.070026</td>\n",
       "      <td>0.403510</td>\n",
       "      <td>1.106321</td>\n",
       "      <td>...</td>\n",
       "      <td>0.678253</td>\n",
       "      <td>1.166204</td>\n",
       "      <td>1.138126</td>\n",
       "      <td>0.608565</td>\n",
       "      <td>0.449551</td>\n",
       "      <td>0.096689</td>\n",
       "      <td>0.887467</td>\n",
       "      <td>0.143815</td>\n",
       "      <td>0.236647</td>\n",
       "      <td>1.048859</td>\n",
       "    </tr>\n",
       "    <tr>\n",
       "      <th>ENSG00000000938</th>\n",
       "      <td>0.374442</td>\n",
       "      <td>1.099899</td>\n",
       "      <td>1.975795</td>\n",
       "      <td>0.107667</td>\n",
       "      <td>0.903520</td>\n",
       "      <td>0.673819</td>\n",
       "      <td>0.855749</td>\n",
       "      <td>0.499088</td>\n",
       "      <td>0.375406</td>\n",
       "      <td>0.815757</td>\n",
       "      <td>...</td>\n",
       "      <td>1.585687</td>\n",
       "      <td>0.584143</td>\n",
       "      <td>0.751384</td>\n",
       "      <td>2.758230</td>\n",
       "      <td>0.572712</td>\n",
       "      <td>0.141023</td>\n",
       "      <td>1.437022</td>\n",
       "      <td>0.288943</td>\n",
       "      <td>0.665727</td>\n",
       "      <td>1.225229</td>\n",
       "    </tr>\n",
       "    <tr>\n",
       "      <th>ENSG00000000971</th>\n",
       "      <td>1.108762</td>\n",
       "      <td>1.133163</td>\n",
       "      <td>0.227188</td>\n",
       "      <td>0.222948</td>\n",
       "      <td>0.072709</td>\n",
       "      <td>0.256124</td>\n",
       "      <td>0.540911</td>\n",
       "      <td>0.606947</td>\n",
       "      <td>0.229133</td>\n",
       "      <td>1.557433</td>\n",
       "      <td>...</td>\n",
       "      <td>2.349373</td>\n",
       "      <td>1.122458</td>\n",
       "      <td>0.155346</td>\n",
       "      <td>0.990123</td>\n",
       "      <td>0.326914</td>\n",
       "      <td>1.100210</td>\n",
       "      <td>1.099537</td>\n",
       "      <td>2.511358</td>\n",
       "      <td>0.950262</td>\n",
       "      <td>1.467305</td>\n",
       "    </tr>\n",
       "  </tbody>\n",
       "</table>\n",
       "<p>5 rows × 309 columns</p>\n",
       "</div>"
      ],
      "text/plain": [
       "                    292.3       079       741     418.1       280       747  \\\n",
       "gene_name                                                                     \n",
       "ENSG00000000419  1.043436  1.134028  1.595979  0.399451  0.725100  1.655468   \n",
       "ENSG00000000457  1.236752  0.119837  0.224120  0.200610  1.304190  0.541478   \n",
       "ENSG00000000460  0.497108  0.005690  0.317710  0.184918  1.136574  1.708245   \n",
       "ENSG00000000938  0.374442  1.099899  1.975795  0.107667  0.903520  0.673819   \n",
       "ENSG00000000971  1.108762  1.133163  0.227188  0.222948  0.072709  0.256124   \n",
       "\n",
       "                      591    426.21       244     070.3  ...       427  \\\n",
       "gene_name                                                ...             \n",
       "ENSG00000000419  1.803598  0.125250  1.053218  0.922592  ...  0.364789   \n",
       "ENSG00000000457  0.646474  0.493759  0.189680  1.563273  ...  1.519500   \n",
       "ENSG00000000460  0.288962  1.070026  0.403510  1.106321  ...  0.678253   \n",
       "ENSG00000000938  0.855749  0.499088  0.375406  0.815757  ...  1.585687   \n",
       "ENSG00000000971  0.540911  0.606947  0.229133  1.557433  ...  2.349373   \n",
       "\n",
       "                    585.4       345     366.2     420.2       195     250.2  \\\n",
       "gene_name                                                                     \n",
       "ENSG00000000419  0.453873  0.759558  1.173671  0.298944  1.029646  0.826238   \n",
       "ENSG00000000457  0.201290  1.020996  0.592006  0.632661  0.995453  0.069362   \n",
       "ENSG00000000460  1.166204  1.138126  0.608565  0.449551  0.096689  0.887467   \n",
       "ENSG00000000938  0.584143  0.751384  2.758230  0.572712  0.141023  1.437022   \n",
       "ENSG00000000971  1.122458  0.155346  0.990123  0.326914  1.100210  1.099537   \n",
       "\n",
       "                    250.1       371       562  \n",
       "gene_name                                      \n",
       "ENSG00000000419  0.685711  2.069701  1.544766  \n",
       "ENSG00000000457  0.460979  0.217046  1.350475  \n",
       "ENSG00000000460  0.143815  0.236647  1.048859  \n",
       "ENSG00000000938  0.288943  0.665727  1.225229  \n",
       "ENSG00000000971  2.511358  0.950262  1.467305  \n",
       "\n",
       "[5 rows x 309 columns]"
      ]
     },
     "execution_count": 11,
     "metadata": {},
     "output_type": "execute_result"
    }
   ],
   "source": [
    "pmbb_data.head()"
   ]
  },
  {
   "cell_type": "markdown",
   "metadata": {
    "papermill": {
     "duration": 0.024335,
     "end_time": "2021-01-12T06:42:49.676573",
     "exception": false,
     "start_time": "2021-01-12T06:42:49.652238",
     "status": "completed"
    },
    "tags": []
   },
   "source": [
    "## PhenomeXcan S-MultiXcan results"
   ]
  },
  {
   "cell_type": "code",
   "execution_count": 12,
   "metadata": {},
   "outputs": [
    {
     "data": {
      "text/plain": [
       "PosixPath('/home/miltondp/projects/labs/greenelab/phenoplier/bases_data/base_orig/data/phenomexcan/gene_assoc/smultixcan-efo_partial-mashr-zscores.pkl')"
      ]
     },
     "metadata": {},
     "output_type": "display_data"
    }
   ],
   "source": [
    "input_filepath = conf.PHENOMEXCAN[\"SMULTIXCAN_EFO_PARTIAL_MASHR_ZSCORES_FILE\"]\n",
    "display(input_filepath)"
   ]
  },
  {
   "cell_type": "code",
   "execution_count": 13,
   "metadata": {
    "papermill": {
     "duration": 0.051515,
     "end_time": "2021-01-12T06:42:49.753107",
     "exception": false,
     "start_time": "2021-01-12T06:42:49.701592",
     "status": "completed"
    },
    "tags": []
   },
   "outputs": [],
   "source": [
    "phenomexcan_data = pd.read_pickle(input_filepath)"
   ]
  },
  {
   "cell_type": "code",
   "execution_count": 14,
   "metadata": {
    "papermill": {
     "duration": 0.038307,
     "end_time": "2021-01-12T06:42:49.817490",
     "exception": false,
     "start_time": "2021-01-12T06:42:49.779183",
     "status": "completed"
    },
    "tags": []
   },
   "outputs": [
    {
     "data": {
      "text/plain": [
       "(22515, 3752)"
      ]
     },
     "execution_count": 14,
     "metadata": {},
     "output_type": "execute_result"
    }
   ],
   "source": [
    "phenomexcan_data.shape"
   ]
  },
  {
   "cell_type": "code",
   "execution_count": 15,
   "metadata": {
    "papermill": {
     "duration": 0.051155,
     "end_time": "2021-01-12T06:42:49.893802",
     "exception": false,
     "start_time": "2021-01-12T06:42:49.842647",
     "status": "completed"
    },
    "tags": []
   },
   "outputs": [
    {
     "data": {
      "text/html": [
       "<div>\n",
       "<style scoped>\n",
       "    .dataframe tbody tr th:only-of-type {\n",
       "        vertical-align: middle;\n",
       "    }\n",
       "\n",
       "    .dataframe tbody tr th {\n",
       "        vertical-align: top;\n",
       "    }\n",
       "\n",
       "    .dataframe thead th {\n",
       "        text-align: right;\n",
       "    }\n",
       "</style>\n",
       "<table border=\"1\" class=\"dataframe\">\n",
       "  <thead>\n",
       "    <tr style=\"text-align: right;\">\n",
       "      <th></th>\n",
       "      <th>100001_raw-Food_weight</th>\n",
       "      <th>100002_raw-Energy</th>\n",
       "      <th>100003_raw-Protein</th>\n",
       "      <th>100004_raw-Fat</th>\n",
       "      <th>100005_raw-Carbohydrate</th>\n",
       "      <th>100006_raw-Saturated_fat</th>\n",
       "      <th>100007_raw-Polyunsaturated_fat</th>\n",
       "      <th>100008_raw-Total_sugars</th>\n",
       "      <th>100009_raw-Englyst_dietary_fibre</th>\n",
       "      <th>100010-Portion_size</th>\n",
       "      <th>...</th>\n",
       "      <th>visual impairment</th>\n",
       "      <th>vitiligo</th>\n",
       "      <th>vitreous body disease</th>\n",
       "      <th>vocal cord polyp</th>\n",
       "      <th>voice disorders</th>\n",
       "      <th>wellbeing measurement AND family relationship</th>\n",
       "      <th>wheezing</th>\n",
       "      <th>whooping cough</th>\n",
       "      <th>worry measurement</th>\n",
       "      <th>wrist fracture</th>\n",
       "    </tr>\n",
       "    <tr>\n",
       "      <th>gene_name</th>\n",
       "      <th></th>\n",
       "      <th></th>\n",
       "      <th></th>\n",
       "      <th></th>\n",
       "      <th></th>\n",
       "      <th></th>\n",
       "      <th></th>\n",
       "      <th></th>\n",
       "      <th></th>\n",
       "      <th></th>\n",
       "      <th></th>\n",
       "      <th></th>\n",
       "      <th></th>\n",
       "      <th></th>\n",
       "      <th></th>\n",
       "      <th></th>\n",
       "      <th></th>\n",
       "      <th></th>\n",
       "      <th></th>\n",
       "      <th></th>\n",
       "      <th></th>\n",
       "    </tr>\n",
       "  </thead>\n",
       "  <tbody>\n",
       "    <tr>\n",
       "      <th>ENSG00000000419</th>\n",
       "      <td>1.145442</td>\n",
       "      <td>0.724557</td>\n",
       "      <td>0.090876</td>\n",
       "      <td>0.298165</td>\n",
       "      <td>1.134347</td>\n",
       "      <td>1.371138</td>\n",
       "      <td>0.065718</td>\n",
       "      <td>0.794317</td>\n",
       "      <td>0.600342</td>\n",
       "      <td>0.317652</td>\n",
       "      <td>...</td>\n",
       "      <td>0.360518</td>\n",
       "      <td>1.351624</td>\n",
       "      <td>1.157695</td>\n",
       "      <td>0.835289</td>\n",
       "      <td>1.173072</td>\n",
       "      <td>1.337280</td>\n",
       "      <td>1.743822</td>\n",
       "      <td>1.017226</td>\n",
       "      <td>1.512184</td>\n",
       "      <td>0.972241</td>\n",
       "    </tr>\n",
       "    <tr>\n",
       "      <th>ENSG00000000457</th>\n",
       "      <td>0.618066</td>\n",
       "      <td>1.028131</td>\n",
       "      <td>2.218420</td>\n",
       "      <td>0.762584</td>\n",
       "      <td>0.934418</td>\n",
       "      <td>0.192993</td>\n",
       "      <td>1.080230</td>\n",
       "      <td>0.765997</td>\n",
       "      <td>0.375898</td>\n",
       "      <td>0.678731</td>\n",
       "      <td>...</td>\n",
       "      <td>2.134504</td>\n",
       "      <td>0.127830</td>\n",
       "      <td>0.534690</td>\n",
       "      <td>0.120516</td>\n",
       "      <td>0.517464</td>\n",
       "      <td>2.545363</td>\n",
       "      <td>0.673331</td>\n",
       "      <td>2.003092</td>\n",
       "      <td>0.344000</td>\n",
       "      <td>2.033122</td>\n",
       "    </tr>\n",
       "    <tr>\n",
       "      <th>ENSG00000000460</th>\n",
       "      <td>0.515724</td>\n",
       "      <td>0.403596</td>\n",
       "      <td>1.251359</td>\n",
       "      <td>0.433091</td>\n",
       "      <td>0.413466</td>\n",
       "      <td>0.246261</td>\n",
       "      <td>1.236151</td>\n",
       "      <td>0.827430</td>\n",
       "      <td>0.571985</td>\n",
       "      <td>0.782174</td>\n",
       "      <td>...</td>\n",
       "      <td>1.768905</td>\n",
       "      <td>0.992408</td>\n",
       "      <td>0.548215</td>\n",
       "      <td>0.412341</td>\n",
       "      <td>1.499415</td>\n",
       "      <td>1.366780</td>\n",
       "      <td>0.443318</td>\n",
       "      <td>0.417630</td>\n",
       "      <td>0.225934</td>\n",
       "      <td>1.613246</td>\n",
       "    </tr>\n",
       "    <tr>\n",
       "      <th>ENSG00000000938</th>\n",
       "      <td>0.280781</td>\n",
       "      <td>0.253910</td>\n",
       "      <td>0.879148</td>\n",
       "      <td>0.352705</td>\n",
       "      <td>0.051846</td>\n",
       "      <td>0.184212</td>\n",
       "      <td>0.148566</td>\n",
       "      <td>0.009989</td>\n",
       "      <td>0.363751</td>\n",
       "      <td>0.374514</td>\n",
       "      <td>...</td>\n",
       "      <td>0.656552</td>\n",
       "      <td>2.046041</td>\n",
       "      <td>2.746832</td>\n",
       "      <td>0.108211</td>\n",
       "      <td>1.008258</td>\n",
       "      <td>0.755695</td>\n",
       "      <td>0.896228</td>\n",
       "      <td>0.875047</td>\n",
       "      <td>0.476405</td>\n",
       "      <td>1.693057</td>\n",
       "    </tr>\n",
       "    <tr>\n",
       "      <th>ENSG00000000971</th>\n",
       "      <td>0.548127</td>\n",
       "      <td>0.389877</td>\n",
       "      <td>0.723469</td>\n",
       "      <td>1.167250</td>\n",
       "      <td>0.315952</td>\n",
       "      <td>0.324939</td>\n",
       "      <td>1.613932</td>\n",
       "      <td>0.311432</td>\n",
       "      <td>0.333548</td>\n",
       "      <td>1.807243</td>\n",
       "      <td>...</td>\n",
       "      <td>0.260482</td>\n",
       "      <td>0.646204</td>\n",
       "      <td>1.080240</td>\n",
       "      <td>0.678330</td>\n",
       "      <td>1.465358</td>\n",
       "      <td>0.307672</td>\n",
       "      <td>0.118376</td>\n",
       "      <td>1.419812</td>\n",
       "      <td>0.000002</td>\n",
       "      <td>1.040737</td>\n",
       "    </tr>\n",
       "  </tbody>\n",
       "</table>\n",
       "<p>5 rows × 3752 columns</p>\n",
       "</div>"
      ],
      "text/plain": [
       "                 100001_raw-Food_weight  100002_raw-Energy  \\\n",
       "gene_name                                                    \n",
       "ENSG00000000419                1.145442           0.724557   \n",
       "ENSG00000000457                0.618066           1.028131   \n",
       "ENSG00000000460                0.515724           0.403596   \n",
       "ENSG00000000938                0.280781           0.253910   \n",
       "ENSG00000000971                0.548127           0.389877   \n",
       "\n",
       "                 100003_raw-Protein  100004_raw-Fat  100005_raw-Carbohydrate  \\\n",
       "gene_name                                                                      \n",
       "ENSG00000000419            0.090876        0.298165                 1.134347   \n",
       "ENSG00000000457            2.218420        0.762584                 0.934418   \n",
       "ENSG00000000460            1.251359        0.433091                 0.413466   \n",
       "ENSG00000000938            0.879148        0.352705                 0.051846   \n",
       "ENSG00000000971            0.723469        1.167250                 0.315952   \n",
       "\n",
       "                 100006_raw-Saturated_fat  100007_raw-Polyunsaturated_fat  \\\n",
       "gene_name                                                                   \n",
       "ENSG00000000419                  1.371138                        0.065718   \n",
       "ENSG00000000457                  0.192993                        1.080230   \n",
       "ENSG00000000460                  0.246261                        1.236151   \n",
       "ENSG00000000938                  0.184212                        0.148566   \n",
       "ENSG00000000971                  0.324939                        1.613932   \n",
       "\n",
       "                 100008_raw-Total_sugars  100009_raw-Englyst_dietary_fibre  \\\n",
       "gene_name                                                                    \n",
       "ENSG00000000419                 0.794317                          0.600342   \n",
       "ENSG00000000457                 0.765997                          0.375898   \n",
       "ENSG00000000460                 0.827430                          0.571985   \n",
       "ENSG00000000938                 0.009989                          0.363751   \n",
       "ENSG00000000971                 0.311432                          0.333548   \n",
       "\n",
       "                 100010-Portion_size  ...  visual impairment  vitiligo  \\\n",
       "gene_name                             ...                                \n",
       "ENSG00000000419             0.317652  ...           0.360518  1.351624   \n",
       "ENSG00000000457             0.678731  ...           2.134504  0.127830   \n",
       "ENSG00000000460             0.782174  ...           1.768905  0.992408   \n",
       "ENSG00000000938             0.374514  ...           0.656552  2.046041   \n",
       "ENSG00000000971             1.807243  ...           0.260482  0.646204   \n",
       "\n",
       "                 vitreous body disease  vocal cord polyp  voice disorders  \\\n",
       "gene_name                                                                   \n",
       "ENSG00000000419               1.157695          0.835289         1.173072   \n",
       "ENSG00000000457               0.534690          0.120516         0.517464   \n",
       "ENSG00000000460               0.548215          0.412341         1.499415   \n",
       "ENSG00000000938               2.746832          0.108211         1.008258   \n",
       "ENSG00000000971               1.080240          0.678330         1.465358   \n",
       "\n",
       "                 wellbeing measurement AND family relationship  wheezing  \\\n",
       "gene_name                                                                  \n",
       "ENSG00000000419                                       1.337280  1.743822   \n",
       "ENSG00000000457                                       2.545363  0.673331   \n",
       "ENSG00000000460                                       1.366780  0.443318   \n",
       "ENSG00000000938                                       0.755695  0.896228   \n",
       "ENSG00000000971                                       0.307672  0.118376   \n",
       "\n",
       "                 whooping cough  worry measurement  wrist fracture  \n",
       "gene_name                                                           \n",
       "ENSG00000000419        1.017226           1.512184        0.972241  \n",
       "ENSG00000000457        2.003092           0.344000        2.033122  \n",
       "ENSG00000000460        0.417630           0.225934        1.613246  \n",
       "ENSG00000000938        0.875047           0.476405        1.693057  \n",
       "ENSG00000000971        1.419812           0.000002        1.040737  \n",
       "\n",
       "[5 rows x 3752 columns]"
      ]
     },
     "execution_count": 15,
     "metadata": {},
     "output_type": "execute_result"
    }
   ],
   "source": [
    "phenomexcan_data.head()"
   ]
  },
  {
   "cell_type": "markdown",
   "metadata": {},
   "source": [
    "## PhenomeXcan traits info"
   ]
  },
  {
   "cell_type": "code",
   "execution_count": 16,
   "metadata": {},
   "outputs": [],
   "source": [
    "phenomexcan_traits_info = read_data(conf.PHENOMEXCAN[\"RAPID_GWAS_PHENO_INFO_FILE\"])"
   ]
  },
  {
   "cell_type": "code",
   "execution_count": 17,
   "metadata": {},
   "outputs": [
    {
     "data": {
      "text/plain": [
       "(4359, 9)"
      ]
     },
     "execution_count": 17,
     "metadata": {},
     "output_type": "execute_result"
    }
   ],
   "source": [
    "phenomexcan_traits_info.shape"
   ]
  },
  {
   "cell_type": "code",
   "execution_count": 18,
   "metadata": {},
   "outputs": [
    {
     "data": {
      "text/html": [
       "<div>\n",
       "<style scoped>\n",
       "    .dataframe tbody tr th:only-of-type {\n",
       "        vertical-align: middle;\n",
       "    }\n",
       "\n",
       "    .dataframe tbody tr th {\n",
       "        vertical-align: top;\n",
       "    }\n",
       "\n",
       "    .dataframe thead th {\n",
       "        text-align: right;\n",
       "    }\n",
       "</style>\n",
       "<table border=\"1\" class=\"dataframe\">\n",
       "  <thead>\n",
       "    <tr style=\"text-align: right;\">\n",
       "      <th></th>\n",
       "      <th>description</th>\n",
       "      <th>variable_type</th>\n",
       "      <th>source</th>\n",
       "      <th>n_non_missing</th>\n",
       "      <th>n_missing</th>\n",
       "      <th>n_controls</th>\n",
       "      <th>n_cases</th>\n",
       "      <th>PHESANT_transformation</th>\n",
       "      <th>notes</th>\n",
       "    </tr>\n",
       "    <tr>\n",
       "      <th>phenotype</th>\n",
       "      <th></th>\n",
       "      <th></th>\n",
       "      <th></th>\n",
       "      <th></th>\n",
       "      <th></th>\n",
       "      <th></th>\n",
       "      <th></th>\n",
       "      <th></th>\n",
       "      <th></th>\n",
       "    </tr>\n",
       "  </thead>\n",
       "  <tbody>\n",
       "    <tr>\n",
       "      <th>G54</th>\n",
       "      <td>Diagnoses - main ICD10: G54 Nerve root and ple...</td>\n",
       "      <td>categorical</td>\n",
       "      <td>icd10</td>\n",
       "      <td>361194</td>\n",
       "      <td>0</td>\n",
       "      <td>361051.0</td>\n",
       "      <td>143.0</td>\n",
       "      <td>NaN</td>\n",
       "      <td>NaN</td>\n",
       "    </tr>\n",
       "    <tr>\n",
       "      <th>C21</th>\n",
       "      <td>Diagnoses - main ICD10: C21 Malignant neoplasm...</td>\n",
       "      <td>categorical</td>\n",
       "      <td>icd10</td>\n",
       "      <td>361194</td>\n",
       "      <td>0</td>\n",
       "      <td>361055.0</td>\n",
       "      <td>139.0</td>\n",
       "      <td>NaN</td>\n",
       "      <td>NaN</td>\n",
       "    </tr>\n",
       "    <tr>\n",
       "      <th>F45</th>\n",
       "      <td>Diagnoses - main ICD10: F45 Somatoform disorders</td>\n",
       "      <td>categorical</td>\n",
       "      <td>icd10</td>\n",
       "      <td>361194</td>\n",
       "      <td>0</td>\n",
       "      <td>360953.0</td>\n",
       "      <td>241.0</td>\n",
       "      <td>NaN</td>\n",
       "      <td>NaN</td>\n",
       "    </tr>\n",
       "    <tr>\n",
       "      <th>I35</th>\n",
       "      <td>Diagnoses - main ICD10: I35 Nonrheumatic aorti...</td>\n",
       "      <td>categorical</td>\n",
       "      <td>icd10</td>\n",
       "      <td>361194</td>\n",
       "      <td>0</td>\n",
       "      <td>360293.0</td>\n",
       "      <td>901.0</td>\n",
       "      <td>NaN</td>\n",
       "      <td>NaN</td>\n",
       "    </tr>\n",
       "    <tr>\n",
       "      <th>D38</th>\n",
       "      <td>Diagnoses - main ICD10: D38 Neoplasm of uncert...</td>\n",
       "      <td>categorical</td>\n",
       "      <td>icd10</td>\n",
       "      <td>361194</td>\n",
       "      <td>0</td>\n",
       "      <td>361087.0</td>\n",
       "      <td>107.0</td>\n",
       "      <td>NaN</td>\n",
       "      <td>NaN</td>\n",
       "    </tr>\n",
       "  </tbody>\n",
       "</table>\n",
       "</div>"
      ],
      "text/plain": [
       "                                                 description variable_type  \\\n",
       "phenotype                                                                    \n",
       "G54        Diagnoses - main ICD10: G54 Nerve root and ple...   categorical   \n",
       "C21        Diagnoses - main ICD10: C21 Malignant neoplasm...   categorical   \n",
       "F45         Diagnoses - main ICD10: F45 Somatoform disorders   categorical   \n",
       "I35        Diagnoses - main ICD10: I35 Nonrheumatic aorti...   categorical   \n",
       "D38        Diagnoses - main ICD10: D38 Neoplasm of uncert...   categorical   \n",
       "\n",
       "          source  n_non_missing  n_missing  n_controls  n_cases  \\\n",
       "phenotype                                                         \n",
       "G54        icd10         361194          0    361051.0    143.0   \n",
       "C21        icd10         361194          0    361055.0    139.0   \n",
       "F45        icd10         361194          0    360953.0    241.0   \n",
       "I35        icd10         361194          0    360293.0    901.0   \n",
       "D38        icd10         361194          0    361087.0    107.0   \n",
       "\n",
       "          PHESANT_transformation notes  \n",
       "phenotype                               \n",
       "G54                          NaN   NaN  \n",
       "C21                          NaN   NaN  \n",
       "F45                          NaN   NaN  \n",
       "I35                          NaN   NaN  \n",
       "D38                          NaN   NaN  "
      ]
     },
     "execution_count": 18,
     "metadata": {},
     "output_type": "execute_result"
    }
   ],
   "source": [
    "phenomexcan_traits_info.head()"
   ]
  },
  {
   "cell_type": "code",
   "execution_count": 19,
   "metadata": {},
   "outputs": [],
   "source": [
    "# read_data(conf.PHENOMEXCAN[\"GTEX_GWAS_PHENO_INFO_FILE\"])"
   ]
  },
  {
   "cell_type": "markdown",
   "metadata": {},
   "source": [
    "## PMBB/eMERGE phecodes mappings to ICD10"
   ]
  },
  {
   "cell_type": "code",
   "execution_count": 20,
   "metadata": {},
   "outputs": [
    {
     "data": {
      "text/plain": [
       "PosixPath('/home/miltondp/projects/labs/greenelab/phenoplier/bases_data/base_orig/data/pmbb/Phecode_to_UKB_ICD10_mapping.tsv')"
      ]
     },
     "metadata": {},
     "output_type": "display_data"
    }
   ],
   "source": [
    "# FIXME: hardcoded\n",
    "# input_file = conf.PMBB[\"ICD10_PHECODE_MAPPING_FILE\"]\n",
    "input_file = Path(\n",
    "    \"/home/miltondp/projects/labs/greenelab/phenoplier/base/data/pmbb\",\n",
    "    \"Phecode_to_UKB_ICD10_mapping.tsv\",\n",
    ").resolve()\n",
    "display(input_file)"
   ]
  },
  {
   "cell_type": "code",
   "execution_count": 21,
   "metadata": {},
   "outputs": [],
   "source": [
    "icd10_to_phecodes_map = pd.read_csv(input_file, sep=\"\\t\", dtype={\"Phecode\": str})"
   ]
  },
  {
   "cell_type": "code",
   "execution_count": 22,
   "metadata": {},
   "outputs": [
    {
     "data": {
      "text/plain": [
       "(235, 4)"
      ]
     },
     "execution_count": 22,
     "metadata": {},
     "output_type": "execute_result"
    }
   ],
   "source": [
    "icd10_to_phecodes_map.shape"
   ]
  },
  {
   "cell_type": "code",
   "execution_count": 23,
   "metadata": {},
   "outputs": [
    {
     "data": {
      "text/html": [
       "<div>\n",
       "<style scoped>\n",
       "    .dataframe tbody tr th:only-of-type {\n",
       "        vertical-align: middle;\n",
       "    }\n",
       "\n",
       "    .dataframe tbody tr th {\n",
       "        vertical-align: top;\n",
       "    }\n",
       "\n",
       "    .dataframe thead th {\n",
       "        text-align: right;\n",
       "    }\n",
       "</style>\n",
       "<table border=\"1\" class=\"dataframe\">\n",
       "  <thead>\n",
       "    <tr style=\"text-align: right;\">\n",
       "      <th></th>\n",
       "      <th>PhenomeXcan_ICD10</th>\n",
       "      <th>PhenomeXcan_ICD10_Description</th>\n",
       "      <th>Phecode</th>\n",
       "      <th>Phecode_Description</th>\n",
       "    </tr>\n",
       "  </thead>\n",
       "  <tbody>\n",
       "    <tr>\n",
       "      <th>0</th>\n",
       "      <td>A09</td>\n",
       "      <td>Diarrhea and gastroenteritis of infectious origin</td>\n",
       "      <td>008</td>\n",
       "      <td>Intestinal infection</td>\n",
       "    </tr>\n",
       "    <tr>\n",
       "      <th>1</th>\n",
       "      <td>A01</td>\n",
       "      <td>Typhoid and paratyphoid fevers</td>\n",
       "      <td>008.5</td>\n",
       "      <td>Bacterial enteritis</td>\n",
       "    </tr>\n",
       "    <tr>\n",
       "      <th>2</th>\n",
       "      <td>A02</td>\n",
       "      <td>Other salmonella infections</td>\n",
       "      <td>008.5</td>\n",
       "      <td>Bacterial enteritis</td>\n",
       "    </tr>\n",
       "    <tr>\n",
       "      <th>3</th>\n",
       "      <td>A03</td>\n",
       "      <td>Shigellosis</td>\n",
       "      <td>008.5</td>\n",
       "      <td>Bacterial enteritis</td>\n",
       "    </tr>\n",
       "    <tr>\n",
       "      <th>4</th>\n",
       "      <td>A04</td>\n",
       "      <td>Other bacterial intestinal infections</td>\n",
       "      <td>008.5</td>\n",
       "      <td>Bacterial enteritis</td>\n",
       "    </tr>\n",
       "  </tbody>\n",
       "</table>\n",
       "</div>"
      ],
      "text/plain": [
       "  PhenomeXcan_ICD10                      PhenomeXcan_ICD10_Description  \\\n",
       "0               A09  Diarrhea and gastroenteritis of infectious origin   \n",
       "1               A01                     Typhoid and paratyphoid fevers   \n",
       "2               A02                        Other salmonella infections   \n",
       "3               A03                                        Shigellosis   \n",
       "4               A04              Other bacterial intestinal infections   \n",
       "\n",
       "  Phecode   Phecode_Description  \n",
       "0     008  Intestinal infection  \n",
       "1   008.5   Bacterial enteritis  \n",
       "2   008.5   Bacterial enteritis  \n",
       "3   008.5   Bacterial enteritis  \n",
       "4   008.5   Bacterial enteritis  "
      ]
     },
     "execution_count": 23,
     "metadata": {},
     "output_type": "execute_result"
    }
   ],
   "source": [
    "icd10_to_phecodes_map.head()"
   ]
  },
  {
   "cell_type": "code",
   "execution_count": 24,
   "metadata": {},
   "outputs": [
    {
     "data": {
      "text/plain": [
       "False"
      ]
     },
     "execution_count": 24,
     "metadata": {},
     "output_type": "execute_result"
    }
   ],
   "source": [
    "icd10_to_phecodes_map[\"Phecode\"].is_unique"
   ]
  },
  {
   "cell_type": "code",
   "execution_count": 25,
   "metadata": {},
   "outputs": [
    {
     "data": {
      "text/plain": [
       "False"
      ]
     },
     "execution_count": 25,
     "metadata": {},
     "output_type": "execute_result"
    }
   ],
   "source": [
    "icd10_to_phecodes_map[\"PhenomeXcan_ICD10\"].is_unique"
   ]
  },
  {
   "cell_type": "markdown",
   "metadata": {},
   "source": [
    "The same ICD10 code from PhenomeXcan can map to multiple phecodes, and one phecode can belong to several ICD10 codes."
   ]
  },
  {
   "cell_type": "markdown",
   "metadata": {},
   "source": [
    "## Phecodes descriptions (and sample size)"
   ]
  },
  {
   "cell_type": "code",
   "execution_count": 26,
   "metadata": {},
   "outputs": [
    {
     "data": {
      "text/plain": [
       "PosixPath('/home/miltondp/projects/labs/greenelab/phenoplier/bases_data/base_orig/data/emerge/eMERGE_III_PMBB_GSA_v2_2020_phecode_AFR_EUR_cc50_counts_w_dictionary.txt')"
      ]
     },
     "metadata": {},
     "output_type": "display_data"
    }
   ],
   "source": [
    "# FIXME: hardcoded\n",
    "input_filepath = Path(\n",
    "    \"/home/miltondp/projects/labs/greenelab/phenoplier/base/data/emerge\",\n",
    "    \"eMERGE_III_PMBB_GSA_v2_2020_phecode_AFR_EUR_cc50_counts_w_dictionary.txt\",\n",
    ").resolve()\n",
    "display(input_filepath)"
   ]
  },
  {
   "cell_type": "code",
   "execution_count": 27,
   "metadata": {},
   "outputs": [],
   "source": [
    "pmbb_traits_df = pd.read_csv(\n",
    "    input_filepath,\n",
    "    sep=\"\\t\",\n",
    "    dtype={\"phecode\": str},\n",
    "    usecols=[\"phecode\", \"phenotype\", \"category\"],\n",
    ")"
   ]
  },
  {
   "cell_type": "code",
   "execution_count": 28,
   "metadata": {},
   "outputs": [],
   "source": [
    "pmbb_traits_df = pmbb_traits_df.rename(\n",
    "    columns={\n",
    "        \"phenotype\": \"phecode_phenotype\",\n",
    "        \"category\": \"phecode_category\",\n",
    "    }\n",
    ")"
   ]
  },
  {
   "cell_type": "code",
   "execution_count": 29,
   "metadata": {},
   "outputs": [
    {
     "data": {
      "text/plain": [
       "(309, 3)"
      ]
     },
     "execution_count": 29,
     "metadata": {},
     "output_type": "execute_result"
    }
   ],
   "source": [
    "pmbb_traits_df.shape"
   ]
  },
  {
   "cell_type": "code",
   "execution_count": 30,
   "metadata": {},
   "outputs": [
    {
     "data": {
      "text/html": [
       "<div>\n",
       "<style scoped>\n",
       "    .dataframe tbody tr th:only-of-type {\n",
       "        vertical-align: middle;\n",
       "    }\n",
       "\n",
       "    .dataframe tbody tr th {\n",
       "        vertical-align: top;\n",
       "    }\n",
       "\n",
       "    .dataframe thead th {\n",
       "        text-align: right;\n",
       "    }\n",
       "</style>\n",
       "<table border=\"1\" class=\"dataframe\">\n",
       "  <thead>\n",
       "    <tr style=\"text-align: right;\">\n",
       "      <th></th>\n",
       "      <th>phecode</th>\n",
       "      <th>phecode_phenotype</th>\n",
       "      <th>phecode_category</th>\n",
       "    </tr>\n",
       "  </thead>\n",
       "  <tbody>\n",
       "    <tr>\n",
       "      <th>0</th>\n",
       "      <td>008</td>\n",
       "      <td>Intestinal infection</td>\n",
       "      <td>infectious diseases</td>\n",
       "    </tr>\n",
       "    <tr>\n",
       "      <th>1</th>\n",
       "      <td>008.5</td>\n",
       "      <td>Bacterial enteritis</td>\n",
       "      <td>infectious diseases</td>\n",
       "    </tr>\n",
       "    <tr>\n",
       "      <th>2</th>\n",
       "      <td>008.52</td>\n",
       "      <td>Intestinal infection due to C. difficile</td>\n",
       "      <td>infectious diseases</td>\n",
       "    </tr>\n",
       "    <tr>\n",
       "      <th>3</th>\n",
       "      <td>038</td>\n",
       "      <td>Septicemia</td>\n",
       "      <td>infectious diseases</td>\n",
       "    </tr>\n",
       "    <tr>\n",
       "      <th>4</th>\n",
       "      <td>038.3</td>\n",
       "      <td>Bacteremia</td>\n",
       "      <td>infectious diseases</td>\n",
       "    </tr>\n",
       "  </tbody>\n",
       "</table>\n",
       "</div>"
      ],
      "text/plain": [
       "  phecode                         phecode_phenotype     phecode_category\n",
       "0     008                      Intestinal infection  infectious diseases\n",
       "1   008.5                       Bacterial enteritis  infectious diseases\n",
       "2  008.52  Intestinal infection due to C. difficile  infectious diseases\n",
       "3     038                                Septicemia  infectious diseases\n",
       "4   038.3                                Bacteremia  infectious diseases"
      ]
     },
     "execution_count": 30,
     "metadata": {},
     "output_type": "execute_result"
    }
   ],
   "source": [
    "pmbb_traits_df.head()"
   ]
  },
  {
   "cell_type": "markdown",
   "metadata": {},
   "source": [
    "## PhenomeXcan-EFO mappings"
   ]
  },
  {
   "cell_type": "code",
   "execution_count": 31,
   "metadata": {},
   "outputs": [],
   "source": [
    "phenomexcan_to_efo = read_data(conf.PHENOMEXCAN[\"TRAITS_FULLCODE_TO_EFO_MAP_FILE\"])"
   ]
  },
  {
   "cell_type": "code",
   "execution_count": 32,
   "metadata": {},
   "outputs": [
    {
     "data": {
      "text/plain": [
       "(1087, 7)"
      ]
     },
     "execution_count": 32,
     "metadata": {},
     "output_type": "execute_result"
    }
   ],
   "source": [
    "phenomexcan_to_efo.shape"
   ]
  },
  {
   "cell_type": "code",
   "execution_count": 33,
   "metadata": {},
   "outputs": [
    {
     "data": {
      "text/html": [
       "<div>\n",
       "<style scoped>\n",
       "    .dataframe tbody tr th:only-of-type {\n",
       "        vertical-align: middle;\n",
       "    }\n",
       "\n",
       "    .dataframe tbody tr th {\n",
       "        vertical-align: top;\n",
       "    }\n",
       "\n",
       "    .dataframe thead th {\n",
       "        text-align: right;\n",
       "    }\n",
       "</style>\n",
       "<table border=\"1\" class=\"dataframe\">\n",
       "  <thead>\n",
       "    <tr style=\"text-align: right;\">\n",
       "      <th></th>\n",
       "      <th>ukb_code</th>\n",
       "      <th>term_label</th>\n",
       "      <th>term_codes</th>\n",
       "      <th>mapping_type</th>\n",
       "      <th>ukb_fullcode</th>\n",
       "      <th>current_term_label</th>\n",
       "      <th>category</th>\n",
       "    </tr>\n",
       "  </thead>\n",
       "  <tbody>\n",
       "    <tr>\n",
       "      <th>0</th>\n",
       "      <td>K55</td>\n",
       "      <td>vascular disease</td>\n",
       "      <td>EFO:0004264, EFO:0009431</td>\n",
       "      <td>Broad</td>\n",
       "      <td>K55-Diagnoses_main_ICD10_K55_Vascular_disorder...</td>\n",
       "      <td>vascular disease AND intestinal disease</td>\n",
       "      <td>disease</td>\n",
       "    </tr>\n",
       "    <tr>\n",
       "      <th>1</th>\n",
       "      <td>M17</td>\n",
       "      <td>osteoarthritis || knee</td>\n",
       "      <td>EFO:0004616</td>\n",
       "      <td>Broad</td>\n",
       "      <td>M17-Diagnoses_main_ICD10_M17_Gonarthrosis_arth...</td>\n",
       "      <td>osteoarthritis, knee</td>\n",
       "      <td>disease</td>\n",
       "    </tr>\n",
       "    <tr>\n",
       "      <th>2</th>\n",
       "      <td>R30</td>\n",
       "      <td>dysuria</td>\n",
       "      <td>EFO:0003901</td>\n",
       "      <td>? Broad</td>\n",
       "      <td>R30-Diagnoses_main_ICD10_R30_Pain_associated_w...</td>\n",
       "      <td>dysuria</td>\n",
       "      <td>NaN</td>\n",
       "    </tr>\n",
       "    <tr>\n",
       "      <th>3</th>\n",
       "      <td>O60</td>\n",
       "      <td>premature birth</td>\n",
       "      <td>EFO:0003917</td>\n",
       "      <td>? Exact</td>\n",
       "      <td>O60-Diagnoses_main_ICD10_O60_Preterm_delivery</td>\n",
       "      <td>premature birth</td>\n",
       "      <td>NaN</td>\n",
       "    </tr>\n",
       "    <tr>\n",
       "      <th>4</th>\n",
       "      <td>S64</td>\n",
       "      <td>carpal tunnel syndrome</td>\n",
       "      <td>EFO:0004143</td>\n",
       "      <td>? Narrow</td>\n",
       "      <td>S64-Diagnoses_main_ICD10_S64_Injury_of_nerves_...</td>\n",
       "      <td>carpal tunnel syndrome</td>\n",
       "      <td>disease</td>\n",
       "    </tr>\n",
       "  </tbody>\n",
       "</table>\n",
       "</div>"
      ],
      "text/plain": [
       "  ukb_code              term_label                term_codes mapping_type  \\\n",
       "0      K55        vascular disease  EFO:0004264, EFO:0009431        Broad   \n",
       "1      M17  osteoarthritis || knee               EFO:0004616        Broad   \n",
       "2      R30                 dysuria               EFO:0003901      ? Broad   \n",
       "3      O60         premature birth               EFO:0003917      ? Exact   \n",
       "4      S64  carpal tunnel syndrome               EFO:0004143     ? Narrow   \n",
       "\n",
       "                                        ukb_fullcode  \\\n",
       "0  K55-Diagnoses_main_ICD10_K55_Vascular_disorder...   \n",
       "1  M17-Diagnoses_main_ICD10_M17_Gonarthrosis_arth...   \n",
       "2  R30-Diagnoses_main_ICD10_R30_Pain_associated_w...   \n",
       "3      O60-Diagnoses_main_ICD10_O60_Preterm_delivery   \n",
       "4  S64-Diagnoses_main_ICD10_S64_Injury_of_nerves_...   \n",
       "\n",
       "                        current_term_label category  \n",
       "0  vascular disease AND intestinal disease  disease  \n",
       "1                     osteoarthritis, knee  disease  \n",
       "2                                  dysuria      NaN  \n",
       "3                          premature birth      NaN  \n",
       "4                   carpal tunnel syndrome  disease  "
      ]
     },
     "execution_count": 33,
     "metadata": {},
     "output_type": "execute_result"
    }
   ],
   "source": [
    "phenomexcan_to_efo.head()"
   ]
  },
  {
   "cell_type": "markdown",
   "metadata": {},
   "source": [
    "# How many PhenomeXcan traits are in eMERGE results?"
   ]
  },
  {
   "cell_type": "code",
   "execution_count": 34,
   "metadata": {},
   "outputs": [],
   "source": [
    "phenomexcan_icd10_traits = phenomexcan_traits_info[\n",
    "    phenomexcan_traits_info[\"source\"] == \"icd10\"\n",
    "]"
   ]
  },
  {
   "cell_type": "code",
   "execution_count": 35,
   "metadata": {},
   "outputs": [
    {
     "data": {
      "text/plain": [
       "(633, 9)"
      ]
     },
     "execution_count": 35,
     "metadata": {},
     "output_type": "execute_result"
    }
   ],
   "source": [
    "phenomexcan_icd10_traits.shape"
   ]
  },
  {
   "cell_type": "code",
   "execution_count": 36,
   "metadata": {},
   "outputs": [
    {
     "data": {
      "text/html": [
       "<div>\n",
       "<style scoped>\n",
       "    .dataframe tbody tr th:only-of-type {\n",
       "        vertical-align: middle;\n",
       "    }\n",
       "\n",
       "    .dataframe tbody tr th {\n",
       "        vertical-align: top;\n",
       "    }\n",
       "\n",
       "    .dataframe thead th {\n",
       "        text-align: right;\n",
       "    }\n",
       "</style>\n",
       "<table border=\"1\" class=\"dataframe\">\n",
       "  <thead>\n",
       "    <tr style=\"text-align: right;\">\n",
       "      <th></th>\n",
       "      <th>description</th>\n",
       "      <th>variable_type</th>\n",
       "      <th>source</th>\n",
       "      <th>n_non_missing</th>\n",
       "      <th>n_missing</th>\n",
       "      <th>n_controls</th>\n",
       "      <th>n_cases</th>\n",
       "      <th>PHESANT_transformation</th>\n",
       "      <th>notes</th>\n",
       "    </tr>\n",
       "    <tr>\n",
       "      <th>phenotype</th>\n",
       "      <th></th>\n",
       "      <th></th>\n",
       "      <th></th>\n",
       "      <th></th>\n",
       "      <th></th>\n",
       "      <th></th>\n",
       "      <th></th>\n",
       "      <th></th>\n",
       "      <th></th>\n",
       "    </tr>\n",
       "  </thead>\n",
       "  <tbody>\n",
       "    <tr>\n",
       "      <th>G54</th>\n",
       "      <td>Diagnoses - main ICD10: G54 Nerve root and ple...</td>\n",
       "      <td>categorical</td>\n",
       "      <td>icd10</td>\n",
       "      <td>361194</td>\n",
       "      <td>0</td>\n",
       "      <td>361051.0</td>\n",
       "      <td>143.0</td>\n",
       "      <td>NaN</td>\n",
       "      <td>NaN</td>\n",
       "    </tr>\n",
       "    <tr>\n",
       "      <th>C21</th>\n",
       "      <td>Diagnoses - main ICD10: C21 Malignant neoplasm...</td>\n",
       "      <td>categorical</td>\n",
       "      <td>icd10</td>\n",
       "      <td>361194</td>\n",
       "      <td>0</td>\n",
       "      <td>361055.0</td>\n",
       "      <td>139.0</td>\n",
       "      <td>NaN</td>\n",
       "      <td>NaN</td>\n",
       "    </tr>\n",
       "    <tr>\n",
       "      <th>F45</th>\n",
       "      <td>Diagnoses - main ICD10: F45 Somatoform disorders</td>\n",
       "      <td>categorical</td>\n",
       "      <td>icd10</td>\n",
       "      <td>361194</td>\n",
       "      <td>0</td>\n",
       "      <td>360953.0</td>\n",
       "      <td>241.0</td>\n",
       "      <td>NaN</td>\n",
       "      <td>NaN</td>\n",
       "    </tr>\n",
       "    <tr>\n",
       "      <th>I35</th>\n",
       "      <td>Diagnoses - main ICD10: I35 Nonrheumatic aorti...</td>\n",
       "      <td>categorical</td>\n",
       "      <td>icd10</td>\n",
       "      <td>361194</td>\n",
       "      <td>0</td>\n",
       "      <td>360293.0</td>\n",
       "      <td>901.0</td>\n",
       "      <td>NaN</td>\n",
       "      <td>NaN</td>\n",
       "    </tr>\n",
       "    <tr>\n",
       "      <th>D38</th>\n",
       "      <td>Diagnoses - main ICD10: D38 Neoplasm of uncert...</td>\n",
       "      <td>categorical</td>\n",
       "      <td>icd10</td>\n",
       "      <td>361194</td>\n",
       "      <td>0</td>\n",
       "      <td>361087.0</td>\n",
       "      <td>107.0</td>\n",
       "      <td>NaN</td>\n",
       "      <td>NaN</td>\n",
       "    </tr>\n",
       "  </tbody>\n",
       "</table>\n",
       "</div>"
      ],
      "text/plain": [
       "                                                 description variable_type  \\\n",
       "phenotype                                                                    \n",
       "G54        Diagnoses - main ICD10: G54 Nerve root and ple...   categorical   \n",
       "C21        Diagnoses - main ICD10: C21 Malignant neoplasm...   categorical   \n",
       "F45         Diagnoses - main ICD10: F45 Somatoform disorders   categorical   \n",
       "I35        Diagnoses - main ICD10: I35 Nonrheumatic aorti...   categorical   \n",
       "D38        Diagnoses - main ICD10: D38 Neoplasm of uncert...   categorical   \n",
       "\n",
       "          source  n_non_missing  n_missing  n_controls  n_cases  \\\n",
       "phenotype                                                         \n",
       "G54        icd10         361194          0    361051.0    143.0   \n",
       "C21        icd10         361194          0    361055.0    139.0   \n",
       "F45        icd10         361194          0    360953.0    241.0   \n",
       "I35        icd10         361194          0    360293.0    901.0   \n",
       "D38        icd10         361194          0    361087.0    107.0   \n",
       "\n",
       "          PHESANT_transformation notes  \n",
       "phenotype                               \n",
       "G54                          NaN   NaN  \n",
       "C21                          NaN   NaN  \n",
       "F45                          NaN   NaN  \n",
       "I35                          NaN   NaN  \n",
       "D38                          NaN   NaN  "
      ]
     },
     "execution_count": 36,
     "metadata": {},
     "output_type": "execute_result"
    }
   ],
   "source": [
    "phenomexcan_icd10_traits.head()"
   ]
  },
  {
   "cell_type": "code",
   "execution_count": 37,
   "metadata": {},
   "outputs": [],
   "source": [
    "# See how many traits\n",
    "icd10_in_phecodes = icd10_to_phecodes_map[\n",
    "    icd10_to_phecodes_map[\"PhenomeXcan_ICD10\"].isin(phenomexcan_icd10_traits.index)\n",
    "]"
   ]
  },
  {
   "cell_type": "code",
   "execution_count": 38,
   "metadata": {},
   "outputs": [
    {
     "data": {
      "text/plain": [
       "(224, 4)"
      ]
     },
     "execution_count": 38,
     "metadata": {},
     "output_type": "execute_result"
    }
   ],
   "source": [
    "icd10_in_phecodes.shape"
   ]
  },
  {
   "cell_type": "markdown",
   "metadata": {},
   "source": [
    "224 PhenomeXcan's traits from ICD10 have phecodes"
   ]
  },
  {
   "cell_type": "code",
   "execution_count": 39,
   "metadata": {},
   "outputs": [
    {
     "data": {
      "text/html": [
       "<div>\n",
       "<style scoped>\n",
       "    .dataframe tbody tr th:only-of-type {\n",
       "        vertical-align: middle;\n",
       "    }\n",
       "\n",
       "    .dataframe tbody tr th {\n",
       "        vertical-align: top;\n",
       "    }\n",
       "\n",
       "    .dataframe thead th {\n",
       "        text-align: right;\n",
       "    }\n",
       "</style>\n",
       "<table border=\"1\" class=\"dataframe\">\n",
       "  <thead>\n",
       "    <tr style=\"text-align: right;\">\n",
       "      <th></th>\n",
       "      <th>PhenomeXcan_ICD10</th>\n",
       "      <th>PhenomeXcan_ICD10_Description</th>\n",
       "      <th>Phecode</th>\n",
       "      <th>Phecode_Description</th>\n",
       "    </tr>\n",
       "  </thead>\n",
       "  <tbody>\n",
       "    <tr>\n",
       "      <th>0</th>\n",
       "      <td>A09</td>\n",
       "      <td>Diarrhea and gastroenteritis of infectious origin</td>\n",
       "      <td>008</td>\n",
       "      <td>Intestinal infection</td>\n",
       "    </tr>\n",
       "    <tr>\n",
       "      <th>4</th>\n",
       "      <td>A04</td>\n",
       "      <td>Other bacterial intestinal infections</td>\n",
       "      <td>008.5</td>\n",
       "      <td>Bacterial enteritis</td>\n",
       "    </tr>\n",
       "    <tr>\n",
       "      <th>6</th>\n",
       "      <td>A41</td>\n",
       "      <td>Other septicemia</td>\n",
       "      <td>038</td>\n",
       "      <td>Septicemia</td>\n",
       "    </tr>\n",
       "    <tr>\n",
       "      <th>9</th>\n",
       "      <td>B02</td>\n",
       "      <td>Zoster [herpes zoster]</td>\n",
       "      <td>053</td>\n",
       "      <td>Herpes zoster</td>\n",
       "    </tr>\n",
       "    <tr>\n",
       "      <th>10</th>\n",
       "      <td>B18</td>\n",
       "      <td>Chronic viral hepatitis</td>\n",
       "      <td>070</td>\n",
       "      <td>Viral hepatitis</td>\n",
       "    </tr>\n",
       "  </tbody>\n",
       "</table>\n",
       "</div>"
      ],
      "text/plain": [
       "   PhenomeXcan_ICD10                      PhenomeXcan_ICD10_Description  \\\n",
       "0                A09  Diarrhea and gastroenteritis of infectious origin   \n",
       "4                A04              Other bacterial intestinal infections   \n",
       "6                A41                                   Other septicemia   \n",
       "9                B02                             Zoster [herpes zoster]   \n",
       "10               B18                            Chronic viral hepatitis   \n",
       "\n",
       "   Phecode   Phecode_Description  \n",
       "0      008  Intestinal infection  \n",
       "4    008.5   Bacterial enteritis  \n",
       "6      038            Septicemia  \n",
       "9      053         Herpes zoster  \n",
       "10     070       Viral hepatitis  "
      ]
     },
     "execution_count": 39,
     "metadata": {},
     "output_type": "execute_result"
    }
   ],
   "source": [
    "icd10_in_phecodes.head()"
   ]
  },
  {
   "cell_type": "code",
   "execution_count": 40,
   "metadata": {},
   "outputs": [
    {
     "data": {
      "text/html": [
       "<div>\n",
       "<style scoped>\n",
       "    .dataframe tbody tr th:only-of-type {\n",
       "        vertical-align: middle;\n",
       "    }\n",
       "\n",
       "    .dataframe tbody tr th {\n",
       "        vertical-align: top;\n",
       "    }\n",
       "\n",
       "    .dataframe thead th {\n",
       "        text-align: right;\n",
       "    }\n",
       "</style>\n",
       "<table border=\"1\" class=\"dataframe\">\n",
       "  <thead>\n",
       "    <tr style=\"text-align: right;\">\n",
       "      <th></th>\n",
       "      <th>PhenomeXcan_ICD10</th>\n",
       "      <th>PhenomeXcan_ICD10_Description</th>\n",
       "      <th>Phecode</th>\n",
       "      <th>Phecode_Description</th>\n",
       "    </tr>\n",
       "  </thead>\n",
       "  <tbody>\n",
       "    <tr>\n",
       "      <th>1</th>\n",
       "      <td>A01</td>\n",
       "      <td>Typhoid and paratyphoid fevers</td>\n",
       "      <td>008.5</td>\n",
       "      <td>Bacterial enteritis</td>\n",
       "    </tr>\n",
       "    <tr>\n",
       "      <th>2</th>\n",
       "      <td>A02</td>\n",
       "      <td>Other salmonella infections</td>\n",
       "      <td>008.5</td>\n",
       "      <td>Bacterial enteritis</td>\n",
       "    </tr>\n",
       "    <tr>\n",
       "      <th>3</th>\n",
       "      <td>A03</td>\n",
       "      <td>Shigellosis</td>\n",
       "      <td>008.5</td>\n",
       "      <td>Bacterial enteritis</td>\n",
       "    </tr>\n",
       "    <tr>\n",
       "      <th>5</th>\n",
       "      <td>A05</td>\n",
       "      <td>Other bacterial foodborne intoxications, not e...</td>\n",
       "      <td>008.5</td>\n",
       "      <td>Bacterial enteritis</td>\n",
       "    </tr>\n",
       "    <tr>\n",
       "      <th>7</th>\n",
       "      <td>A42</td>\n",
       "      <td>Actinomycosis</td>\n",
       "      <td>038</td>\n",
       "      <td>Septicemia</td>\n",
       "    </tr>\n",
       "    <tr>\n",
       "      <th>8</th>\n",
       "      <td>B00</td>\n",
       "      <td>Herpesviral [herpes simplex] infections</td>\n",
       "      <td>038</td>\n",
       "      <td>Septicemia</td>\n",
       "    </tr>\n",
       "    <tr>\n",
       "      <th>29</th>\n",
       "      <td>D20</td>\n",
       "      <td>Benign neoplasm of soft tissue of retroperiton...</td>\n",
       "      <td>199</td>\n",
       "      <td>Neoplasm of uncertain behavior</td>\n",
       "    </tr>\n",
       "    <tr>\n",
       "      <th>36</th>\n",
       "      <td>C96</td>\n",
       "      <td>Other and unspecified malignant neoplasms of l...</td>\n",
       "      <td>202</td>\n",
       "      <td>Cancer of other lymphoid, histiocytic tissue</td>\n",
       "    </tr>\n",
       "    <tr>\n",
       "      <th>46</th>\n",
       "      <td>E12</td>\n",
       "      <td>Malnutrition-related diabetes mellitus</td>\n",
       "      <td>249</td>\n",
       "      <td>Secondary diabetes mellitus</td>\n",
       "    </tr>\n",
       "    <tr>\n",
       "      <th>142</th>\n",
       "      <td>J05</td>\n",
       "      <td>Acute obstructive laryngitis [croup] and epigl...</td>\n",
       "      <td>483</td>\n",
       "      <td>Acute bronchitis and bronchiolitis</td>\n",
       "    </tr>\n",
       "    <tr>\n",
       "      <th>205</th>\n",
       "      <td>L89</td>\n",
       "      <td>Decubitus ulcer</td>\n",
       "      <td>707.1</td>\n",
       "      <td>Decubitus ulcer</td>\n",
       "    </tr>\n",
       "  </tbody>\n",
       "</table>\n",
       "</div>"
      ],
      "text/plain": [
       "    PhenomeXcan_ICD10                      PhenomeXcan_ICD10_Description  \\\n",
       "1                 A01                     Typhoid and paratyphoid fevers   \n",
       "2                 A02                        Other salmonella infections   \n",
       "3                 A03                                        Shigellosis   \n",
       "5                 A05  Other bacterial foodborne intoxications, not e...   \n",
       "7                 A42                                      Actinomycosis   \n",
       "8                 B00            Herpesviral [herpes simplex] infections   \n",
       "29                D20  Benign neoplasm of soft tissue of retroperiton...   \n",
       "36                C96  Other and unspecified malignant neoplasms of l...   \n",
       "46                E12           Malnutrition-related diabetes mellitus     \n",
       "142               J05  Acute obstructive laryngitis [croup] and epigl...   \n",
       "205               L89                                    Decubitus ulcer   \n",
       "\n",
       "    Phecode                           Phecode_Description  \n",
       "1     008.5                           Bacterial enteritis  \n",
       "2     008.5                           Bacterial enteritis  \n",
       "3     008.5                           Bacterial enteritis  \n",
       "5     008.5                           Bacterial enteritis  \n",
       "7       038                                    Septicemia  \n",
       "8       038                                    Septicemia  \n",
       "29      199                Neoplasm of uncertain behavior  \n",
       "36      202  Cancer of other lymphoid, histiocytic tissue  \n",
       "46      249                   Secondary diabetes mellitus  \n",
       "142     483            Acute bronchitis and bronchiolitis  \n",
       "205   707.1                               Decubitus ulcer  "
      ]
     },
     "execution_count": 40,
     "metadata": {},
     "output_type": "execute_result"
    }
   ],
   "source": [
    "# Which entries in the icd10-phecode mapping are not present in PhenomeXcan?\n",
    "icd10_to_phecodes_map[\n",
    "    ~icd10_to_phecodes_map[\"PhenomeXcan_ICD10\"].isin(phenomexcan_icd10_traits.index)\n",
    "]"
   ]
  },
  {
   "cell_type": "markdown",
   "metadata": {},
   "source": [
    "# Map ICD10 to EFO in PhenomeXcan"
   ]
  },
  {
   "cell_type": "code",
   "execution_count": 41,
   "metadata": {},
   "outputs": [],
   "source": [
    "# get the EFO map of PhenomeXcan's traits with ICD10 that have phecodes\n",
    "efo_from_icd10 = phenomexcan_to_efo[\n",
    "    phenomexcan_to_efo[\"ukb_code\"].isin(icd10_in_phecodes[\"PhenomeXcan_ICD10\"].values)\n",
    "]"
   ]
  },
  {
   "cell_type": "code",
   "execution_count": 42,
   "metadata": {},
   "outputs": [
    {
     "data": {
      "text/html": [
       "<div>\n",
       "<style scoped>\n",
       "    .dataframe tbody tr th:only-of-type {\n",
       "        vertical-align: middle;\n",
       "    }\n",
       "\n",
       "    .dataframe tbody tr th {\n",
       "        vertical-align: top;\n",
       "    }\n",
       "\n",
       "    .dataframe thead th {\n",
       "        text-align: right;\n",
       "    }\n",
       "</style>\n",
       "<table border=\"1\" class=\"dataframe\">\n",
       "  <thead>\n",
       "    <tr style=\"text-align: right;\">\n",
       "      <th></th>\n",
       "      <th>ukb_code</th>\n",
       "      <th>term_label</th>\n",
       "      <th>term_codes</th>\n",
       "      <th>mapping_type</th>\n",
       "      <th>ukb_fullcode</th>\n",
       "      <th>current_term_label</th>\n",
       "      <th>category</th>\n",
       "    </tr>\n",
       "  </thead>\n",
       "  <tbody>\n",
       "    <tr>\n",
       "      <th>1</th>\n",
       "      <td>M17</td>\n",
       "      <td>osteoarthritis || knee</td>\n",
       "      <td>EFO:0004616</td>\n",
       "      <td>Broad</td>\n",
       "      <td>M17-Diagnoses_main_ICD10_M17_Gonarthrosis_arth...</td>\n",
       "      <td>osteoarthritis, knee</td>\n",
       "      <td>disease</td>\n",
       "    </tr>\n",
       "    <tr>\n",
       "      <th>2</th>\n",
       "      <td>R30</td>\n",
       "      <td>dysuria</td>\n",
       "      <td>EFO:0003901</td>\n",
       "      <td>? Broad</td>\n",
       "      <td>R30-Diagnoses_main_ICD10_R30_Pain_associated_w...</td>\n",
       "      <td>dysuria</td>\n",
       "      <td>NaN</td>\n",
       "    </tr>\n",
       "    <tr>\n",
       "      <th>7</th>\n",
       "      <td>M05</td>\n",
       "      <td>rheumatoid arthritis</td>\n",
       "      <td>EFO:0000685</td>\n",
       "      <td>Broad</td>\n",
       "      <td>M05-Diagnoses_main_ICD10_M05_Seropositive_rheu...</td>\n",
       "      <td>rheumatoid arthritis</td>\n",
       "      <td>disease</td>\n",
       "    </tr>\n",
       "    <tr>\n",
       "      <th>9</th>\n",
       "      <td>K74</td>\n",
       "      <td>cirrhosis of liver</td>\n",
       "      <td>EFO:0001422</td>\n",
       "      <td>Broad</td>\n",
       "      <td>K74-Diagnoses_main_ICD10_K74_Fibrosis_and_cirr...</td>\n",
       "      <td>cirrhosis of liver</td>\n",
       "      <td>disease</td>\n",
       "    </tr>\n",
       "    <tr>\n",
       "      <th>10</th>\n",
       "      <td>M15</td>\n",
       "      <td>osteoarthritis</td>\n",
       "      <td>EFO:0002506</td>\n",
       "      <td>Broad</td>\n",
       "      <td>M15-Diagnoses_main_ICD10_M15_Polyarthrosis</td>\n",
       "      <td>osteoarthritis</td>\n",
       "      <td>disease</td>\n",
       "    </tr>\n",
       "    <tr>\n",
       "      <th>...</th>\n",
       "      <td>...</td>\n",
       "      <td>...</td>\n",
       "      <td>...</td>\n",
       "      <td>...</td>\n",
       "      <td>...</td>\n",
       "      <td>...</td>\n",
       "      <td>...</td>\n",
       "    </tr>\n",
       "    <tr>\n",
       "      <th>1043</th>\n",
       "      <td>C78</td>\n",
       "      <td>respiratory system neoplasm||digestive system ...</td>\n",
       "      <td>EFO:0009812</td>\n",
       "      <td>Broad</td>\n",
       "      <td>C78-Diagnoses_main_ICD10_C78_Secondary_maligna...</td>\n",
       "      <td>secondary malignant neoplasm</td>\n",
       "      <td>disease</td>\n",
       "    </tr>\n",
       "    <tr>\n",
       "      <th>1044</th>\n",
       "      <td>C79</td>\n",
       "      <td>neoplasm</td>\n",
       "      <td>EFO:0009812</td>\n",
       "      <td>Broad</td>\n",
       "      <td>C79-Diagnoses_main_ICD10_C79_Secondary_maligna...</td>\n",
       "      <td>secondary malignant neoplasm</td>\n",
       "      <td>disease</td>\n",
       "    </tr>\n",
       "    <tr>\n",
       "      <th>1046</th>\n",
       "      <td>C85</td>\n",
       "      <td>non-Hodgkins lymphoma</td>\n",
       "      <td>EFO:0005952</td>\n",
       "      <td>Exact</td>\n",
       "      <td>C85-Diagnoses_main_ICD10_C85_Other_and_unspeci...</td>\n",
       "      <td>non-hodgkins lymphoma</td>\n",
       "      <td>disease</td>\n",
       "    </tr>\n",
       "    <tr>\n",
       "      <th>1047</th>\n",
       "      <td>B37</td>\n",
       "      <td>Candidiasis, Invasive</td>\n",
       "      <td>EFO:1001283</td>\n",
       "      <td>Narrow</td>\n",
       "      <td>B37-Diagnoses_main_ICD10_B37_Candidiasis</td>\n",
       "      <td>candidiasis, invasive</td>\n",
       "      <td>disease</td>\n",
       "    </tr>\n",
       "    <tr>\n",
       "      <th>1048</th>\n",
       "      <td>A04</td>\n",
       "      <td>intestinal disease||bacterial disease</td>\n",
       "      <td>EFO:0009431||EFO:0000771</td>\n",
       "      <td>Broad</td>\n",
       "      <td>A04-Diagnoses_main_ICD10_A04_Other_bacterial_i...</td>\n",
       "      <td>intestinal disease AND bacterial disease</td>\n",
       "      <td>disease</td>\n",
       "    </tr>\n",
       "  </tbody>\n",
       "</table>\n",
       "<p>199 rows × 7 columns</p>\n",
       "</div>"
      ],
      "text/plain": [
       "     ukb_code                                         term_label  \\\n",
       "1         M17                             osteoarthritis || knee   \n",
       "2         R30                                            dysuria   \n",
       "7         M05                               rheumatoid arthritis   \n",
       "9         K74                                 cirrhosis of liver   \n",
       "10        M15                                     osteoarthritis   \n",
       "...       ...                                                ...   \n",
       "1043      C78  respiratory system neoplasm||digestive system ...   \n",
       "1044      C79                                           neoplasm   \n",
       "1046      C85                              non-Hodgkins lymphoma   \n",
       "1047      B37                              Candidiasis, Invasive   \n",
       "1048      A04              intestinal disease||bacterial disease   \n",
       "\n",
       "                    term_codes mapping_type  \\\n",
       "1                  EFO:0004616        Broad   \n",
       "2                  EFO:0003901      ? Broad   \n",
       "7                  EFO:0000685        Broad   \n",
       "9                  EFO:0001422        Broad   \n",
       "10                 EFO:0002506        Broad   \n",
       "...                        ...          ...   \n",
       "1043               EFO:0009812        Broad   \n",
       "1044               EFO:0009812        Broad   \n",
       "1046               EFO:0005952        Exact   \n",
       "1047               EFO:1001283       Narrow   \n",
       "1048  EFO:0009431||EFO:0000771        Broad   \n",
       "\n",
       "                                           ukb_fullcode  \\\n",
       "1     M17-Diagnoses_main_ICD10_M17_Gonarthrosis_arth...   \n",
       "2     R30-Diagnoses_main_ICD10_R30_Pain_associated_w...   \n",
       "7     M05-Diagnoses_main_ICD10_M05_Seropositive_rheu...   \n",
       "9     K74-Diagnoses_main_ICD10_K74_Fibrosis_and_cirr...   \n",
       "10           M15-Diagnoses_main_ICD10_M15_Polyarthrosis   \n",
       "...                                                 ...   \n",
       "1043  C78-Diagnoses_main_ICD10_C78_Secondary_maligna...   \n",
       "1044  C79-Diagnoses_main_ICD10_C79_Secondary_maligna...   \n",
       "1046  C85-Diagnoses_main_ICD10_C85_Other_and_unspeci...   \n",
       "1047           B37-Diagnoses_main_ICD10_B37_Candidiasis   \n",
       "1048  A04-Diagnoses_main_ICD10_A04_Other_bacterial_i...   \n",
       "\n",
       "                            current_term_label category  \n",
       "1                         osteoarthritis, knee  disease  \n",
       "2                                      dysuria      NaN  \n",
       "7                         rheumatoid arthritis  disease  \n",
       "9                           cirrhosis of liver  disease  \n",
       "10                              osteoarthritis  disease  \n",
       "...                                        ...      ...  \n",
       "1043              secondary malignant neoplasm  disease  \n",
       "1044              secondary malignant neoplasm  disease  \n",
       "1046                     non-hodgkins lymphoma  disease  \n",
       "1047                     candidiasis, invasive  disease  \n",
       "1048  intestinal disease AND bacterial disease  disease  \n",
       "\n",
       "[199 rows x 7 columns]"
      ]
     },
     "execution_count": 42,
     "metadata": {},
     "output_type": "execute_result"
    }
   ],
   "source": [
    "efo_from_icd10"
   ]
  },
  {
   "cell_type": "markdown",
   "metadata": {},
   "source": [
    "199 PhenomeXcan traits can be mapped to phecodes when we use the PhenomeXcan-EFO mappings. These mappings combine different PhenomeXcan traits, such as ICD10 codes and self-reported data."
   ]
  },
  {
   "cell_type": "markdown",
   "metadata": {},
   "source": [
    "# Create initial dataframe for test set"
   ]
  },
  {
   "cell_type": "markdown",
   "metadata": {},
   "source": [
    "We create a test set with all 309 PMBB's traits available. It is important to include them all, since some ICD10 are mapped to several different phecodes, and one phecodes can represent different ICD10 codes."
   ]
  },
  {
   "cell_type": "code",
   "execution_count": 43,
   "metadata": {},
   "outputs": [],
   "source": [
    "test_df = pmbb_traits_df.copy()"
   ]
  },
  {
   "cell_type": "code",
   "execution_count": 44,
   "metadata": {},
   "outputs": [
    {
     "data": {
      "text/plain": [
       "(309, 3)"
      ]
     },
     "execution_count": 44,
     "metadata": {},
     "output_type": "execute_result"
    }
   ],
   "source": [
    "test_df.shape"
   ]
  },
  {
   "cell_type": "code",
   "execution_count": 45,
   "metadata": {},
   "outputs": [
    {
     "data": {
      "text/html": [
       "<div>\n",
       "<style scoped>\n",
       "    .dataframe tbody tr th:only-of-type {\n",
       "        vertical-align: middle;\n",
       "    }\n",
       "\n",
       "    .dataframe tbody tr th {\n",
       "        vertical-align: top;\n",
       "    }\n",
       "\n",
       "    .dataframe thead th {\n",
       "        text-align: right;\n",
       "    }\n",
       "</style>\n",
       "<table border=\"1\" class=\"dataframe\">\n",
       "  <thead>\n",
       "    <tr style=\"text-align: right;\">\n",
       "      <th></th>\n",
       "      <th>phecode</th>\n",
       "      <th>phecode_phenotype</th>\n",
       "      <th>phecode_category</th>\n",
       "    </tr>\n",
       "  </thead>\n",
       "  <tbody>\n",
       "    <tr>\n",
       "      <th>0</th>\n",
       "      <td>008</td>\n",
       "      <td>Intestinal infection</td>\n",
       "      <td>infectious diseases</td>\n",
       "    </tr>\n",
       "    <tr>\n",
       "      <th>1</th>\n",
       "      <td>008.5</td>\n",
       "      <td>Bacterial enteritis</td>\n",
       "      <td>infectious diseases</td>\n",
       "    </tr>\n",
       "    <tr>\n",
       "      <th>2</th>\n",
       "      <td>008.52</td>\n",
       "      <td>Intestinal infection due to C. difficile</td>\n",
       "      <td>infectious diseases</td>\n",
       "    </tr>\n",
       "    <tr>\n",
       "      <th>3</th>\n",
       "      <td>038</td>\n",
       "      <td>Septicemia</td>\n",
       "      <td>infectious diseases</td>\n",
       "    </tr>\n",
       "    <tr>\n",
       "      <th>4</th>\n",
       "      <td>038.3</td>\n",
       "      <td>Bacteremia</td>\n",
       "      <td>infectious diseases</td>\n",
       "    </tr>\n",
       "  </tbody>\n",
       "</table>\n",
       "</div>"
      ],
      "text/plain": [
       "  phecode                         phecode_phenotype     phecode_category\n",
       "0     008                      Intestinal infection  infectious diseases\n",
       "1   008.5                       Bacterial enteritis  infectious diseases\n",
       "2  008.52  Intestinal infection due to C. difficile  infectious diseases\n",
       "3     038                                Septicemia  infectious diseases\n",
       "4   038.3                                Bacteremia  infectious diseases"
      ]
     },
     "execution_count": 45,
     "metadata": {},
     "output_type": "execute_result"
    }
   ],
   "source": [
    "test_df.head()"
   ]
  },
  {
   "cell_type": "markdown",
   "metadata": {},
   "source": [
    "## Phecode to ICD10"
   ]
  },
  {
   "cell_type": "code",
   "execution_count": 46,
   "metadata": {},
   "outputs": [],
   "source": [
    "def map_phecode_to_icd10_list(phecode):\n",
    "    df = icd10_to_phecodes_map[icd10_to_phecodes_map[\"Phecode\"] == phecode]\n",
    "    if df.shape[0] == 0:\n",
    "        return None\n",
    "\n",
    "    return set(df[\"PhenomeXcan_ICD10\"].values)"
   ]
  },
  {
   "cell_type": "code",
   "execution_count": 47,
   "metadata": {},
   "outputs": [],
   "source": [
    "# some testing\n",
    "assert map_phecode_to_icd10_list(\"008\") == set([\"A09\"])\n",
    "assert map_phecode_to_icd10_list(\"244.2\") == set([\"E03\"])\n",
    "assert map_phecode_to_icd10_list(\"244.4\") == set([\"E03\"])\n",
    "\n",
    "assert map_phecode_to_icd10_list(\"216\") == set([\"D22\", \"D23\"])\n",
    "\n",
    "assert map_phecode_to_icd10_list(\"722\") is None"
   ]
  },
  {
   "cell_type": "code",
   "execution_count": 48,
   "metadata": {},
   "outputs": [],
   "source": [
    "_new_df = []\n",
    "\n",
    "for phecode in test_df[\"phecode\"].unique():\n",
    "    _new_map_values = map_phecode_to_icd10_list(phecode)\n",
    "    if _new_map_values is None:\n",
    "        continue\n",
    "\n",
    "    for n in _new_map_values:\n",
    "        _new_df.append({\"phecode\": phecode, \"icd10\": n})\n",
    "\n",
    "_new_df = pd.DataFrame(_new_df)"
   ]
  },
  {
   "cell_type": "code",
   "execution_count": 49,
   "metadata": {},
   "outputs": [],
   "source": [
    "# assign phecode\n",
    "test_df = pd.merge(test_df, _new_df, on=\"phecode\", how=\"left\")"
   ]
  },
  {
   "cell_type": "code",
   "execution_count": 50,
   "metadata": {},
   "outputs": [
    {
     "data": {
      "text/plain": [
       "(368, 4)"
      ]
     },
     "execution_count": 50,
     "metadata": {},
     "output_type": "execute_result"
    }
   ],
   "source": [
    "test_df.shape"
   ]
  },
  {
   "cell_type": "code",
   "execution_count": 51,
   "metadata": {},
   "outputs": [
    {
     "data": {
      "text/html": [
       "<div>\n",
       "<style scoped>\n",
       "    .dataframe tbody tr th:only-of-type {\n",
       "        vertical-align: middle;\n",
       "    }\n",
       "\n",
       "    .dataframe tbody tr th {\n",
       "        vertical-align: top;\n",
       "    }\n",
       "\n",
       "    .dataframe thead th {\n",
       "        text-align: right;\n",
       "    }\n",
       "</style>\n",
       "<table border=\"1\" class=\"dataframe\">\n",
       "  <thead>\n",
       "    <tr style=\"text-align: right;\">\n",
       "      <th></th>\n",
       "      <th>phecode</th>\n",
       "      <th>phecode_phenotype</th>\n",
       "      <th>phecode_category</th>\n",
       "      <th>icd10</th>\n",
       "    </tr>\n",
       "  </thead>\n",
       "  <tbody>\n",
       "    <tr>\n",
       "      <th>0</th>\n",
       "      <td>008</td>\n",
       "      <td>Intestinal infection</td>\n",
       "      <td>infectious diseases</td>\n",
       "      <td>A09</td>\n",
       "    </tr>\n",
       "    <tr>\n",
       "      <th>1</th>\n",
       "      <td>008.5</td>\n",
       "      <td>Bacterial enteritis</td>\n",
       "      <td>infectious diseases</td>\n",
       "      <td>A02</td>\n",
       "    </tr>\n",
       "    <tr>\n",
       "      <th>2</th>\n",
       "      <td>008.5</td>\n",
       "      <td>Bacterial enteritis</td>\n",
       "      <td>infectious diseases</td>\n",
       "      <td>A05</td>\n",
       "    </tr>\n",
       "    <tr>\n",
       "      <th>3</th>\n",
       "      <td>008.5</td>\n",
       "      <td>Bacterial enteritis</td>\n",
       "      <td>infectious diseases</td>\n",
       "      <td>A03</td>\n",
       "    </tr>\n",
       "    <tr>\n",
       "      <th>4</th>\n",
       "      <td>008.5</td>\n",
       "      <td>Bacterial enteritis</td>\n",
       "      <td>infectious diseases</td>\n",
       "      <td>A01</td>\n",
       "    </tr>\n",
       "  </tbody>\n",
       "</table>\n",
       "</div>"
      ],
      "text/plain": [
       "  phecode     phecode_phenotype     phecode_category icd10\n",
       "0     008  Intestinal infection  infectious diseases   A09\n",
       "1   008.5   Bacterial enteritis  infectious diseases   A02\n",
       "2   008.5   Bacterial enteritis  infectious diseases   A05\n",
       "3   008.5   Bacterial enteritis  infectious diseases   A03\n",
       "4   008.5   Bacterial enteritis  infectious diseases   A01"
      ]
     },
     "execution_count": 51,
     "metadata": {},
     "output_type": "execute_result"
    }
   ],
   "source": [
    "test_df.head()"
   ]
  },
  {
   "cell_type": "markdown",
   "metadata": {},
   "source": [
    "## ICD10 to EFO"
   ]
  },
  {
   "cell_type": "code",
   "execution_count": 52,
   "metadata": {},
   "outputs": [],
   "source": [
    "def map_icd10_to_efo(icd10_list):\n",
    "    if icd10_list is None:\n",
    "        return None\n",
    "\n",
    "    df = efo_from_icd10[efo_from_icd10[\"ukb_code\"] == icd10_list]\n",
    "    efo_values = None\n",
    "\n",
    "    if df.shape[0] > 0:\n",
    "        efo_values = set(df[\"current_term_label\"].values)\n",
    "\n",
    "    return efo_values"
   ]
  },
  {
   "cell_type": "code",
   "execution_count": 53,
   "metadata": {},
   "outputs": [],
   "source": [
    "# some testing\n",
    "assert map_icd10_to_efo(\"M17\") == set([\"osteoarthritis, knee\"])\n",
    "assert map_icd10_to_efo(\"R30\") == set([\"dysuria\"])\n",
    "assert map_icd10_to_efo(\"I49\") == set([\"cardiac arrhythmia\"])\n",
    "assert map_icd10_to_efo(\"A41\") == set([\"sepsis\"])\n",
    "\n",
    "assert map_icd10_to_efo(\"T81\") == set([\"complication\"])\n",
    "assert map_icd10_to_efo(\"T88\") == set([\"complication\"])\n",
    "\n",
    "assert map_icd10_to_efo(\"C61\") == set([\"prostate carcinoma\"])\n",
    "assert map_icd10_to_efo(\"D07\") == set([\"urogenital neoplasm\"])\n",
    "\n",
    "assert map_icd10_to_efo(None) is None\n",
    "assert map_icd10_to_efo(\"NonExistent\") is None"
   ]
  },
  {
   "cell_type": "code",
   "execution_count": 54,
   "metadata": {},
   "outputs": [],
   "source": [
    "_new_df = []\n",
    "\n",
    "for phecode in test_df[\"icd10\"].unique():\n",
    "    _new_map_values = map_icd10_to_efo(phecode)\n",
    "    if _new_map_values is None:\n",
    "        continue\n",
    "\n",
    "    for n in _new_map_values:\n",
    "        _new_df.append({\"icd10\": phecode, \"efo\": n})\n",
    "\n",
    "_new_df = pd.DataFrame(_new_df)"
   ]
  },
  {
   "cell_type": "code",
   "execution_count": 55,
   "metadata": {},
   "outputs": [],
   "source": [
    "# assign phecode\n",
    "test_df = pd.merge(test_df, _new_df, on=\"icd10\", how=\"left\")"
   ]
  },
  {
   "cell_type": "code",
   "execution_count": 56,
   "metadata": {},
   "outputs": [],
   "source": [
    "test_df = test_df.dropna(subset=[\"icd10\", \"efo\"], how=\"all\")"
   ]
  },
  {
   "cell_type": "code",
   "execution_count": 57,
   "metadata": {},
   "outputs": [],
   "source": [
    "test_df = test_df.drop_duplicates(subset=[\"icd10\", \"efo\"])"
   ]
  },
  {
   "cell_type": "code",
   "execution_count": 58,
   "metadata": {},
   "outputs": [
    {
     "data": {
      "text/plain": [
       "(211, 5)"
      ]
     },
     "execution_count": 58,
     "metadata": {},
     "output_type": "execute_result"
    }
   ],
   "source": [
    "test_df.shape"
   ]
  },
  {
   "cell_type": "code",
   "execution_count": 59,
   "metadata": {},
   "outputs": [
    {
     "data": {
      "text/html": [
       "<div>\n",
       "<style scoped>\n",
       "    .dataframe tbody tr th:only-of-type {\n",
       "        vertical-align: middle;\n",
       "    }\n",
       "\n",
       "    .dataframe tbody tr th {\n",
       "        vertical-align: top;\n",
       "    }\n",
       "\n",
       "    .dataframe thead th {\n",
       "        text-align: right;\n",
       "    }\n",
       "</style>\n",
       "<table border=\"1\" class=\"dataframe\">\n",
       "  <thead>\n",
       "    <tr style=\"text-align: right;\">\n",
       "      <th></th>\n",
       "      <th>phecode</th>\n",
       "      <th>phecode_phenotype</th>\n",
       "      <th>phecode_category</th>\n",
       "      <th>icd10</th>\n",
       "      <th>efo</th>\n",
       "    </tr>\n",
       "  </thead>\n",
       "  <tbody>\n",
       "    <tr>\n",
       "      <th>0</th>\n",
       "      <td>008</td>\n",
       "      <td>Intestinal infection</td>\n",
       "      <td>infectious diseases</td>\n",
       "      <td>A09</td>\n",
       "      <td>gastroenteritis AND gastroenteritis</td>\n",
       "    </tr>\n",
       "    <tr>\n",
       "      <th>1</th>\n",
       "      <td>008.5</td>\n",
       "      <td>Bacterial enteritis</td>\n",
       "      <td>infectious diseases</td>\n",
       "      <td>A02</td>\n",
       "      <td>NaN</td>\n",
       "    </tr>\n",
       "    <tr>\n",
       "      <th>2</th>\n",
       "      <td>008.5</td>\n",
       "      <td>Bacterial enteritis</td>\n",
       "      <td>infectious diseases</td>\n",
       "      <td>A05</td>\n",
       "      <td>NaN</td>\n",
       "    </tr>\n",
       "    <tr>\n",
       "      <th>3</th>\n",
       "      <td>008.5</td>\n",
       "      <td>Bacterial enteritis</td>\n",
       "      <td>infectious diseases</td>\n",
       "      <td>A03</td>\n",
       "      <td>NaN</td>\n",
       "    </tr>\n",
       "    <tr>\n",
       "      <th>4</th>\n",
       "      <td>008.5</td>\n",
       "      <td>Bacterial enteritis</td>\n",
       "      <td>infectious diseases</td>\n",
       "      <td>A01</td>\n",
       "      <td>NaN</td>\n",
       "    </tr>\n",
       "  </tbody>\n",
       "</table>\n",
       "</div>"
      ],
      "text/plain": [
       "  phecode     phecode_phenotype     phecode_category icd10  \\\n",
       "0     008  Intestinal infection  infectious diseases   A09   \n",
       "1   008.5   Bacterial enteritis  infectious diseases   A02   \n",
       "2   008.5   Bacterial enteritis  infectious diseases   A05   \n",
       "3   008.5   Bacterial enteritis  infectious diseases   A03   \n",
       "4   008.5   Bacterial enteritis  infectious diseases   A01   \n",
       "\n",
       "                                   efo  \n",
       "0  gastroenteritis AND gastroenteritis  \n",
       "1                                  NaN  \n",
       "2                                  NaN  \n",
       "3                                  NaN  \n",
       "4                                  NaN  "
      ]
     },
     "execution_count": 59,
     "metadata": {},
     "output_type": "execute_result"
    }
   ],
   "source": [
    "test_df.head()"
   ]
  },
  {
   "cell_type": "markdown",
   "metadata": {},
   "source": [
    "## ICD10/EFO to PhenomeXcan traits"
   ]
  },
  {
   "cell_type": "code",
   "execution_count": 60,
   "metadata": {},
   "outputs": [],
   "source": [
    "assert test_df[pd.isnull(test_df[\"icd10\"])].shape[0] == 0"
   ]
  },
  {
   "cell_type": "code",
   "execution_count": 61,
   "metadata": {},
   "outputs": [
    {
     "data": {
      "text/html": [
       "<div>\n",
       "<style scoped>\n",
       "    .dataframe tbody tr th:only-of-type {\n",
       "        vertical-align: middle;\n",
       "    }\n",
       "\n",
       "    .dataframe tbody tr th {\n",
       "        vertical-align: top;\n",
       "    }\n",
       "\n",
       "    .dataframe thead th {\n",
       "        text-align: right;\n",
       "    }\n",
       "</style>\n",
       "<table border=\"1\" class=\"dataframe\">\n",
       "  <thead>\n",
       "    <tr style=\"text-align: right;\">\n",
       "      <th></th>\n",
       "      <th>phecode</th>\n",
       "      <th>phecode_phenotype</th>\n",
       "      <th>phecode_category</th>\n",
       "      <th>icd10</th>\n",
       "      <th>efo</th>\n",
       "    </tr>\n",
       "  </thead>\n",
       "  <tbody>\n",
       "    <tr>\n",
       "      <th>1</th>\n",
       "      <td>008.5</td>\n",
       "      <td>Bacterial enteritis</td>\n",
       "      <td>infectious diseases</td>\n",
       "      <td>A02</td>\n",
       "      <td>NaN</td>\n",
       "    </tr>\n",
       "    <tr>\n",
       "      <th>2</th>\n",
       "      <td>008.5</td>\n",
       "      <td>Bacterial enteritis</td>\n",
       "      <td>infectious diseases</td>\n",
       "      <td>A05</td>\n",
       "      <td>NaN</td>\n",
       "    </tr>\n",
       "    <tr>\n",
       "      <th>3</th>\n",
       "      <td>008.5</td>\n",
       "      <td>Bacterial enteritis</td>\n",
       "      <td>infectious diseases</td>\n",
       "      <td>A03</td>\n",
       "      <td>NaN</td>\n",
       "    </tr>\n",
       "    <tr>\n",
       "      <th>4</th>\n",
       "      <td>008.5</td>\n",
       "      <td>Bacterial enteritis</td>\n",
       "      <td>infectious diseases</td>\n",
       "      <td>A01</td>\n",
       "      <td>NaN</td>\n",
       "    </tr>\n",
       "    <tr>\n",
       "      <th>8</th>\n",
       "      <td>038</td>\n",
       "      <td>Septicemia</td>\n",
       "      <td>infectious diseases</td>\n",
       "      <td>B00</td>\n",
       "      <td>NaN</td>\n",
       "    </tr>\n",
       "    <tr>\n",
       "      <th>9</th>\n",
       "      <td>038</td>\n",
       "      <td>Septicemia</td>\n",
       "      <td>infectious diseases</td>\n",
       "      <td>A42</td>\n",
       "      <td>NaN</td>\n",
       "    </tr>\n",
       "    <tr>\n",
       "      <th>40</th>\n",
       "      <td>199</td>\n",
       "      <td>Neoplasm of uncertain behavior</td>\n",
       "      <td>neoplasms</td>\n",
       "      <td>D20</td>\n",
       "      <td>NaN</td>\n",
       "    </tr>\n",
       "    <tr>\n",
       "      <th>41</th>\n",
       "      <td>202</td>\n",
       "      <td>Cancer of other lymphoid, histiocytic tissue</td>\n",
       "      <td>neoplasms</td>\n",
       "      <td>C96</td>\n",
       "      <td>NaN</td>\n",
       "    </tr>\n",
       "    <tr>\n",
       "      <th>54</th>\n",
       "      <td>249</td>\n",
       "      <td>Secondary diabetes mellitus</td>\n",
       "      <td>endocrine/metabolic</td>\n",
       "      <td>E12</td>\n",
       "      <td>NaN</td>\n",
       "    </tr>\n",
       "    <tr>\n",
       "      <th>98</th>\n",
       "      <td>285.2</td>\n",
       "      <td>Anemia of chronic disease</td>\n",
       "      <td>hematopoietic</td>\n",
       "      <td>D63</td>\n",
       "      <td>NaN</td>\n",
       "    </tr>\n",
       "    <tr>\n",
       "      <th>163</th>\n",
       "      <td>415.2</td>\n",
       "      <td>Chronic pulmonary heart disease</td>\n",
       "      <td>circulatory system</td>\n",
       "      <td>I27</td>\n",
       "      <td>NaN</td>\n",
       "    </tr>\n",
       "    <tr>\n",
       "      <th>239</th>\n",
       "      <td>483</td>\n",
       "      <td>Acute bronchitis and bronchiolitis</td>\n",
       "      <td>respiratory</td>\n",
       "      <td>J20</td>\n",
       "      <td>NaN</td>\n",
       "    </tr>\n",
       "    <tr>\n",
       "      <th>240</th>\n",
       "      <td>483</td>\n",
       "      <td>Acute bronchitis and bronchiolitis</td>\n",
       "      <td>respiratory</td>\n",
       "      <td>J05</td>\n",
       "      <td>NaN</td>\n",
       "    </tr>\n",
       "    <tr>\n",
       "      <th>328</th>\n",
       "      <td>707.1</td>\n",
       "      <td>Decubitus ulcer</td>\n",
       "      <td>dermatologic</td>\n",
       "      <td>L89</td>\n",
       "      <td>NaN</td>\n",
       "    </tr>\n",
       "  </tbody>\n",
       "</table>\n",
       "</div>"
      ],
      "text/plain": [
       "    phecode                             phecode_phenotype  \\\n",
       "1     008.5                           Bacterial enteritis   \n",
       "2     008.5                           Bacterial enteritis   \n",
       "3     008.5                           Bacterial enteritis   \n",
       "4     008.5                           Bacterial enteritis   \n",
       "8       038                                    Septicemia   \n",
       "9       038                                    Septicemia   \n",
       "40      199                Neoplasm of uncertain behavior   \n",
       "41      202  Cancer of other lymphoid, histiocytic tissue   \n",
       "54      249                   Secondary diabetes mellitus   \n",
       "98    285.2                     Anemia of chronic disease   \n",
       "163   415.2               Chronic pulmonary heart disease   \n",
       "239     483            Acute bronchitis and bronchiolitis   \n",
       "240     483            Acute bronchitis and bronchiolitis   \n",
       "328   707.1                               Decubitus ulcer   \n",
       "\n",
       "        phecode_category icd10  efo  \n",
       "1    infectious diseases   A02  NaN  \n",
       "2    infectious diseases   A05  NaN  \n",
       "3    infectious diseases   A03  NaN  \n",
       "4    infectious diseases   A01  NaN  \n",
       "8    infectious diseases   B00  NaN  \n",
       "9    infectious diseases   A42  NaN  \n",
       "40             neoplasms   D20  NaN  \n",
       "41             neoplasms   C96  NaN  \n",
       "54   endocrine/metabolic   E12  NaN  \n",
       "98         hematopoietic   D63  NaN  \n",
       "163   circulatory system   I27  NaN  \n",
       "239          respiratory   J20  NaN  \n",
       "240          respiratory   J05  NaN  \n",
       "328         dermatologic   L89  NaN  "
      ]
     },
     "execution_count": 61,
     "metadata": {},
     "output_type": "execute_result"
    }
   ],
   "source": [
    "test_df[pd.isnull(test_df[\"efo\"])]"
   ]
  },
  {
   "cell_type": "code",
   "execution_count": 62,
   "metadata": {},
   "outputs": [
    {
     "data": {
      "text/html": [
       "<div>\n",
       "<style scoped>\n",
       "    .dataframe tbody tr th:only-of-type {\n",
       "        vertical-align: middle;\n",
       "    }\n",
       "\n",
       "    .dataframe tbody tr th {\n",
       "        vertical-align: top;\n",
       "    }\n",
       "\n",
       "    .dataframe thead th {\n",
       "        text-align: right;\n",
       "    }\n",
       "</style>\n",
       "<table border=\"1\" class=\"dataframe\">\n",
       "  <thead>\n",
       "    <tr style=\"text-align: right;\">\n",
       "      <th></th>\n",
       "      <th>ukb_code</th>\n",
       "      <th>term_label</th>\n",
       "      <th>term_codes</th>\n",
       "      <th>mapping_type</th>\n",
       "      <th>ukb_fullcode</th>\n",
       "      <th>current_term_label</th>\n",
       "      <th>category</th>\n",
       "    </tr>\n",
       "  </thead>\n",
       "  <tbody>\n",
       "    <tr>\n",
       "      <th>1</th>\n",
       "      <td>M17</td>\n",
       "      <td>osteoarthritis || knee</td>\n",
       "      <td>EFO:0004616</td>\n",
       "      <td>Broad</td>\n",
       "      <td>M17-Diagnoses_main_ICD10_M17_Gonarthrosis_arthrosis_of_knee</td>\n",
       "      <td>osteoarthritis, knee</td>\n",
       "      <td>disease</td>\n",
       "    </tr>\n",
       "    <tr>\n",
       "      <th>2</th>\n",
       "      <td>R30</td>\n",
       "      <td>dysuria</td>\n",
       "      <td>EFO:0003901</td>\n",
       "      <td>? Broad</td>\n",
       "      <td>R30-Diagnoses_main_ICD10_R30_Pain_associated_with_micturition</td>\n",
       "      <td>dysuria</td>\n",
       "      <td>NaN</td>\n",
       "    </tr>\n",
       "    <tr>\n",
       "      <th>7</th>\n",
       "      <td>M05</td>\n",
       "      <td>rheumatoid arthritis</td>\n",
       "      <td>EFO:0000685</td>\n",
       "      <td>Broad</td>\n",
       "      <td>M05-Diagnoses_main_ICD10_M05_Seropositive_rheumatoid_arthritis</td>\n",
       "      <td>rheumatoid arthritis</td>\n",
       "      <td>disease</td>\n",
       "    </tr>\n",
       "    <tr>\n",
       "      <th>9</th>\n",
       "      <td>K74</td>\n",
       "      <td>cirrhosis of liver</td>\n",
       "      <td>EFO:0001422</td>\n",
       "      <td>Broad</td>\n",
       "      <td>K74-Diagnoses_main_ICD10_K74_Fibrosis_and_cirrhosis_of_liver</td>\n",
       "      <td>cirrhosis of liver</td>\n",
       "      <td>disease</td>\n",
       "    </tr>\n",
       "    <tr>\n",
       "      <th>10</th>\n",
       "      <td>M15</td>\n",
       "      <td>osteoarthritis</td>\n",
       "      <td>EFO:0002506</td>\n",
       "      <td>Broad</td>\n",
       "      <td>M15-Diagnoses_main_ICD10_M15_Polyarthrosis</td>\n",
       "      <td>osteoarthritis</td>\n",
       "      <td>disease</td>\n",
       "    </tr>\n",
       "  </tbody>\n",
       "</table>\n",
       "</div>"
      ],
      "text/plain": [
       "   ukb_code              term_label   term_codes mapping_type  \\\n",
       "1       M17  osteoarthritis || knee  EFO:0004616        Broad   \n",
       "2       R30                 dysuria  EFO:0003901      ? Broad   \n",
       "7       M05    rheumatoid arthritis  EFO:0000685        Broad   \n",
       "9       K74      cirrhosis of liver  EFO:0001422        Broad   \n",
       "10      M15          osteoarthritis  EFO:0002506        Broad   \n",
       "\n",
       "                                                      ukb_fullcode  \\\n",
       "1      M17-Diagnoses_main_ICD10_M17_Gonarthrosis_arthrosis_of_knee   \n",
       "2    R30-Diagnoses_main_ICD10_R30_Pain_associated_with_micturition   \n",
       "7   M05-Diagnoses_main_ICD10_M05_Seropositive_rheumatoid_arthritis   \n",
       "9     K74-Diagnoses_main_ICD10_K74_Fibrosis_and_cirrhosis_of_liver   \n",
       "10                      M15-Diagnoses_main_ICD10_M15_Polyarthrosis   \n",
       "\n",
       "      current_term_label category  \n",
       "1   osteoarthritis, knee  disease  \n",
       "2                dysuria      NaN  \n",
       "7   rheumatoid arthritis  disease  \n",
       "9     cirrhosis of liver  disease  \n",
       "10        osteoarthritis  disease  "
      ]
     },
     "metadata": {},
     "output_type": "display_data"
    }
   ],
   "source": [
    "with pd.option_context(\n",
    "    \"display.max_rows\", None, \"display.max_columns\", None, \"max_colwidth\", None\n",
    "):\n",
    "    _tmp = (\n",
    "        efo_from_icd10.head()\n",
    "    )  # [efo_from_icd10[\"current_term_label\"] == \"osteoarthritis, knee\"]\n",
    "    display(_tmp)"
   ]
  },
  {
   "cell_type": "code",
   "execution_count": 63,
   "metadata": {},
   "outputs": [],
   "source": [
    "def map_to_phenomexcan_trait(row):\n",
    "    icd10_list = row[\"icd10\"]\n",
    "    if pd.isnull(icd10_list):\n",
    "        icd10_list = set()\n",
    "\n",
    "    # get EFO from ICD10 hits\n",
    "    # this has the effect to always find the same set of PhenomeXcan traits\n",
    "    # regardness of whether only the icd10 or only the efo labels are given)\n",
    "    icd10_hits = phenomexcan_to_efo[(phenomexcan_to_efo[\"ukb_code\"] == icd10_list)][\n",
    "        \"current_term_label\"\n",
    "    ].tolist()\n",
    "\n",
    "    efo_list = row[\"efo\"]\n",
    "    if pd.isnull(efo_list):\n",
    "        efo_list = set()\n",
    "\n",
    "    # get ICD10 from EFO hits\n",
    "    efo_hits = phenomexcan_to_efo[\n",
    "        (phenomexcan_to_efo[\"current_term_label\"] == efo_list)\n",
    "    ][\"ukb_code\"].tolist()\n",
    "\n",
    "    phenomexcan_maps = phenomexcan_to_efo[\n",
    "        (phenomexcan_to_efo[\"ukb_code\"].isin([icd10_list] + efo_hits))\n",
    "        | (phenomexcan_to_efo[\"current_term_label\"].isin([efo_hits] + icd10_hits))\n",
    "    ]\n",
    "\n",
    "    if phenomexcan_maps.shape[0] == 0:\n",
    "        return None\n",
    "\n",
    "    return set(phenomexcan_maps[\"ukb_fullcode\"].unique())"
   ]
  },
  {
   "cell_type": "code",
   "execution_count": 64,
   "metadata": {},
   "outputs": [],
   "source": [
    "# some testing\n",
    "row = {\"icd10\": \"M17\", \"efo\": None}\n",
    "assert map_to_phenomexcan_trait(row) == set(\n",
    "    [\"M17-Diagnoses_main_ICD10_M17_Gonarthrosis_arthrosis_of_knee\"]\n",
    ")\n",
    "row = {\"icd10\": None, \"efo\": \"osteoarthritis, knee\"}\n",
    "assert map_to_phenomexcan_trait(row) == set(\n",
    "    [\"M17-Diagnoses_main_ICD10_M17_Gonarthrosis_arthrosis_of_knee\"]\n",
    ")\n",
    "row = {\"icd10\": \"M17\", \"efo\": \"osteoarthritis, knee\"}\n",
    "assert map_to_phenomexcan_trait(row) == set(\n",
    "    [\"M17-Diagnoses_main_ICD10_M17_Gonarthrosis_arthrosis_of_knee\"]\n",
    ")\n",
    "\n",
    "row = {\"icd10\": None, \"efo\": \"coronary artery disease\"}\n",
    "assert map_to_phenomexcan_trait(row) == set(\n",
    "    [\n",
    "        \"CARDIoGRAM_C4D_CAD_ADDITIVE\",\n",
    "        \"I25-Diagnoses_main_ICD10_I25_Chronic_ischaemic_heart_disease\",\n",
    "    ]\n",
    ")\n",
    "row = {\"icd10\": \"I25\", \"efo\": None}\n",
    "assert map_to_phenomexcan_trait(row) == set(\n",
    "    [\n",
    "        \"CARDIoGRAM_C4D_CAD_ADDITIVE\",\n",
    "        \"I25-Diagnoses_main_ICD10_I25_Chronic_ischaemic_heart_disease\",\n",
    "    ]\n",
    ")\n",
    "row = {\"icd10\": \"I25\", \"efo\": \"coronary artery disease\"}\n",
    "assert map_to_phenomexcan_trait(row) == set(\n",
    "    [\n",
    "        \"CARDIoGRAM_C4D_CAD_ADDITIVE\",\n",
    "        \"I25-Diagnoses_main_ICD10_I25_Chronic_ischaemic_heart_disease\",\n",
    "    ]\n",
    ")\n",
    "\n",
    "row = {\"icd10\": None, \"efo\": None}\n",
    "assert map_to_phenomexcan_trait(row) is None"
   ]
  },
  {
   "cell_type": "code",
   "execution_count": 65,
   "metadata": {},
   "outputs": [],
   "source": [
    "_new_df = []\n",
    "\n",
    "for idx, row in test_df.iterrows():\n",
    "    _new_map_values = map_to_phenomexcan_trait(row)\n",
    "    if _new_map_values is None:\n",
    "        continue\n",
    "\n",
    "    for n in _new_map_values:\n",
    "        _new_df.append({\"icd10\": row[\"icd10\"], \"efo\": row[\"efo\"], \"phenomexcan\": n})\n",
    "\n",
    "_new_df = pd.DataFrame(_new_df)"
   ]
  },
  {
   "cell_type": "code",
   "execution_count": 66,
   "metadata": {},
   "outputs": [],
   "source": [
    "assert (\n",
    "    _new_df[\n",
    "        _new_df[\"icd10\"].isin(test_df[pd.isnull(test_df[\"efo\"])][\"icd10\"].tolist())\n",
    "    ].shape[0]\n",
    "    == 0\n",
    ")"
   ]
  },
  {
   "cell_type": "code",
   "execution_count": 67,
   "metadata": {},
   "outputs": [],
   "source": [
    "# assign phenomexcan trait\n",
    "test_df = pd.merge(test_df, _new_df, on=[\"icd10\", \"efo\"], how=\"left\")"
   ]
  },
  {
   "cell_type": "code",
   "execution_count": 68,
   "metadata": {},
   "outputs": [
    {
     "data": {
      "text/html": [
       "<div>\n",
       "<style scoped>\n",
       "    .dataframe tbody tr th:only-of-type {\n",
       "        vertical-align: middle;\n",
       "    }\n",
       "\n",
       "    .dataframe tbody tr th {\n",
       "        vertical-align: top;\n",
       "    }\n",
       "\n",
       "    .dataframe thead th {\n",
       "        text-align: right;\n",
       "    }\n",
       "</style>\n",
       "<table border=\"1\" class=\"dataframe\">\n",
       "  <thead>\n",
       "    <tr style=\"text-align: right;\">\n",
       "      <th></th>\n",
       "      <th>phecode</th>\n",
       "      <th>phecode_phenotype</th>\n",
       "      <th>phecode_category</th>\n",
       "      <th>icd10</th>\n",
       "      <th>efo</th>\n",
       "      <th>phenomexcan</th>\n",
       "    </tr>\n",
       "  </thead>\n",
       "  <tbody>\n",
       "    <tr>\n",
       "      <th>148</th>\n",
       "      <td>411.2</td>\n",
       "      <td>Myocardial infarction</td>\n",
       "      <td>circulatory system</td>\n",
       "      <td>I25</td>\n",
       "      <td>coronary artery disease</td>\n",
       "      <td>CARDIoGRAM_C4D_CAD_ADDITIVE</td>\n",
       "    </tr>\n",
       "    <tr>\n",
       "      <th>149</th>\n",
       "      <td>411.2</td>\n",
       "      <td>Myocardial infarction</td>\n",
       "      <td>circulatory system</td>\n",
       "      <td>I25</td>\n",
       "      <td>coronary artery disease</td>\n",
       "      <td>I25-Diagnoses_main_ICD10_I25_Chronic_ischaemic...</td>\n",
       "    </tr>\n",
       "  </tbody>\n",
       "</table>\n",
       "</div>"
      ],
      "text/plain": [
       "    phecode      phecode_phenotype    phecode_category icd10  \\\n",
       "148   411.2  Myocardial infarction  circulatory system   I25   \n",
       "149   411.2  Myocardial infarction  circulatory system   I25   \n",
       "\n",
       "                         efo  \\\n",
       "148  coronary artery disease   \n",
       "149  coronary artery disease   \n",
       "\n",
       "                                           phenomexcan  \n",
       "148                        CARDIoGRAM_C4D_CAD_ADDITIVE  \n",
       "149  I25-Diagnoses_main_ICD10_I25_Chronic_ischaemic...  "
      ]
     },
     "metadata": {},
     "output_type": "display_data"
    }
   ],
   "source": [
    "_tmp = test_df[test_df[\"icd10\"] == \"I25\"]\n",
    "display(_tmp)\n",
    "assert _tmp.shape[0] == 2"
   ]
  },
  {
   "cell_type": "code",
   "execution_count": 69,
   "metadata": {},
   "outputs": [
    {
     "data": {
      "text/plain": [
       "(395, 6)"
      ]
     },
     "execution_count": 69,
     "metadata": {},
     "output_type": "execute_result"
    }
   ],
   "source": [
    "test_df.shape"
   ]
  },
  {
   "cell_type": "code",
   "execution_count": 70,
   "metadata": {},
   "outputs": [
    {
     "data": {
      "text/html": [
       "<div>\n",
       "<style scoped>\n",
       "    .dataframe tbody tr th:only-of-type {\n",
       "        vertical-align: middle;\n",
       "    }\n",
       "\n",
       "    .dataframe tbody tr th {\n",
       "        vertical-align: top;\n",
       "    }\n",
       "\n",
       "    .dataframe thead th {\n",
       "        text-align: right;\n",
       "    }\n",
       "</style>\n",
       "<table border=\"1\" class=\"dataframe\">\n",
       "  <thead>\n",
       "    <tr style=\"text-align: right;\">\n",
       "      <th></th>\n",
       "      <th>phecode</th>\n",
       "      <th>phecode_phenotype</th>\n",
       "      <th>phecode_category</th>\n",
       "      <th>icd10</th>\n",
       "      <th>efo</th>\n",
       "      <th>phenomexcan</th>\n",
       "    </tr>\n",
       "  </thead>\n",
       "  <tbody>\n",
       "    <tr>\n",
       "      <th>0</th>\n",
       "      <td>008</td>\n",
       "      <td>Intestinal infection</td>\n",
       "      <td>infectious diseases</td>\n",
       "      <td>A09</td>\n",
       "      <td>gastroenteritis AND gastroenteritis</td>\n",
       "      <td>A09-Diagnoses_main_ICD10_A09_Diarrhoea_and_gas...</td>\n",
       "    </tr>\n",
       "    <tr>\n",
       "      <th>1</th>\n",
       "      <td>008.5</td>\n",
       "      <td>Bacterial enteritis</td>\n",
       "      <td>infectious diseases</td>\n",
       "      <td>A02</td>\n",
       "      <td>NaN</td>\n",
       "      <td>NaN</td>\n",
       "    </tr>\n",
       "    <tr>\n",
       "      <th>2</th>\n",
       "      <td>008.5</td>\n",
       "      <td>Bacterial enteritis</td>\n",
       "      <td>infectious diseases</td>\n",
       "      <td>A05</td>\n",
       "      <td>NaN</td>\n",
       "      <td>NaN</td>\n",
       "    </tr>\n",
       "    <tr>\n",
       "      <th>3</th>\n",
       "      <td>008.5</td>\n",
       "      <td>Bacterial enteritis</td>\n",
       "      <td>infectious diseases</td>\n",
       "      <td>A03</td>\n",
       "      <td>NaN</td>\n",
       "      <td>NaN</td>\n",
       "    </tr>\n",
       "    <tr>\n",
       "      <th>4</th>\n",
       "      <td>008.5</td>\n",
       "      <td>Bacterial enteritis</td>\n",
       "      <td>infectious diseases</td>\n",
       "      <td>A01</td>\n",
       "      <td>NaN</td>\n",
       "      <td>NaN</td>\n",
       "    </tr>\n",
       "  </tbody>\n",
       "</table>\n",
       "</div>"
      ],
      "text/plain": [
       "  phecode     phecode_phenotype     phecode_category icd10  \\\n",
       "0     008  Intestinal infection  infectious diseases   A09   \n",
       "1   008.5   Bacterial enteritis  infectious diseases   A02   \n",
       "2   008.5   Bacterial enteritis  infectious diseases   A05   \n",
       "3   008.5   Bacterial enteritis  infectious diseases   A03   \n",
       "4   008.5   Bacterial enteritis  infectious diseases   A01   \n",
       "\n",
       "                                   efo  \\\n",
       "0  gastroenteritis AND gastroenteritis   \n",
       "1                                  NaN   \n",
       "2                                  NaN   \n",
       "3                                  NaN   \n",
       "4                                  NaN   \n",
       "\n",
       "                                         phenomexcan  \n",
       "0  A09-Diagnoses_main_ICD10_A09_Diarrhoea_and_gas...  \n",
       "1                                                NaN  \n",
       "2                                                NaN  \n",
       "3                                                NaN  \n",
       "4                                                NaN  "
      ]
     },
     "execution_count": 70,
     "metadata": {},
     "output_type": "execute_result"
    }
   ],
   "source": [
    "test_df.head()"
   ]
  },
  {
   "cell_type": "markdown",
   "metadata": {},
   "source": [
    "# Save"
   ]
  },
  {
   "cell_type": "code",
   "execution_count": 71,
   "metadata": {},
   "outputs": [],
   "source": [
    "# FIXME: uncomment when merged with emerge branch\n",
    "# conf.RESULTS[\"EMERGE_VALIDATION_DIR\"].mkdir(exist_ok=True, parents=True)"
   ]
  },
  {
   "cell_type": "code",
   "execution_count": 72,
   "metadata": {
    "papermill": {
     "duration": 0.02353,
     "end_time": "2021-01-12T05:38:05.072880",
     "exception": false,
     "start_time": "2021-01-12T05:38:05.049350",
     "status": "completed"
    },
    "tags": []
   },
   "outputs": [
    {
     "data": {
      "text/plain": [
       "PosixPath('/home/miltondp/projects/labs/greenelab/phenoplier/bases_data/base_orig/data/emerge/phecodes_phenomexcan_maps.tsv')"
      ]
     },
     "metadata": {},
     "output_type": "display_data"
    }
   ],
   "source": [
    "# FIXME: hardcoded path\n",
    "# output_file = Path(\n",
    "#     conf.RESULTS[\"EMERGE_VALIDATION_DIR\"],\n",
    "#     \"emerge-test_set.pkl\",\n",
    "# ).resolve()\n",
    "output_file = Path(\n",
    "    \"/home/miltondp/projects/labs/greenelab/phenoplier/base/data/emerge\",\n",
    "    \"phecodes_phenomexcan_maps.tsv\",\n",
    ").resolve()\n",
    "\n",
    "display(output_file)"
   ]
  },
  {
   "cell_type": "code",
   "execution_count": 73,
   "metadata": {
    "papermill": {
     "duration": 0.05841,
     "end_time": "2021-01-12T05:38:05.142963",
     "exception": false,
     "start_time": "2021-01-12T05:38:05.084553",
     "status": "completed"
    },
    "tags": []
   },
   "outputs": [],
   "source": [
    "test_df.to_csv(output_file, sep=\"\\t\", index=False)"
   ]
  },
  {
   "cell_type": "code",
   "execution_count": null,
   "metadata": {},
   "outputs": [],
   "source": []
  }
 ],
 "metadata": {
  "jupytext": {
   "cell_metadata_filter": "all,-execution,-papermill,-trusted",
   "formats": "ipynb,py//py:percent"
  },
  "kernelspec": {
   "display_name": "Python 3",
   "language": "python",
   "name": "python3"
  },
  "language_info": {
   "codemirror_mode": {
    "name": "ipython",
    "version": 3
   },
   "file_extension": ".py",
   "mimetype": "text/x-python",
   "name": "python",
   "nbconvert_exporter": "python",
   "pygments_lexer": "ipython3",
   "version": "3.8.8"
  },
  "toc-autonumbering": true
 },
 "nbformat": 4,
 "nbformat_minor": 4
}
