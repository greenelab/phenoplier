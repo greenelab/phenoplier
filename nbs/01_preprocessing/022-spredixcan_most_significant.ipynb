{
 "cells": [
  {
   "cell_type": "markdown",
   "metadata": {
    "papermill": {
     "duration": 0.044577,
     "end_time": "2020-12-18T22:38:21.345879",
     "exception": false,
     "start_time": "2020-12-18T22:38:21.301302",
     "status": "completed"
    },
    "tags": []
   },
   "source": [
    "# Description"
   ]
  },
  {
   "cell_type": "markdown",
   "metadata": {
    "papermill": {
     "duration": 0.011764,
     "end_time": "2020-12-18T22:38:21.398073",
     "exception": false,
     "start_time": "2020-12-18T22:38:21.386309",
     "status": "completed"
    },
    "tags": []
   },
   "source": [
    "It computes a single matrix with all traits and genes in PhenomeXcan using S-PrediXcan results, which have direction of effect (in contrast to S-MultiXcan results). For each gene-trait pair, it takes the most significant result across all tissues."
   ]
  },
  {
   "cell_type": "markdown",
   "metadata": {
    "papermill": {
     "duration": 0.011799,
     "end_time": "2020-12-18T22:38:21.422136",
     "exception": false,
     "start_time": "2020-12-18T22:38:21.410337",
     "status": "completed"
    },
    "tags": []
   },
   "source": [
    "# Modules loading"
   ]
  },
  {
   "cell_type": "code",
   "execution_count": 1,
   "metadata": {
    "execution": {
     "iopub.execute_input": "2020-12-18T22:38:21.448395Z",
     "iopub.status.busy": "2020-12-18T22:38:21.448024Z",
     "iopub.status.idle": "2020-12-18T22:38:21.456001Z",
     "shell.execute_reply": "2020-12-18T22:38:21.455559Z"
    },
    "papermill": {
     "duration": 0.022467,
     "end_time": "2020-12-18T22:38:21.456126",
     "exception": false,
     "start_time": "2020-12-18T22:38:21.433659",
     "status": "completed"
    },
    "tags": []
   },
   "outputs": [],
   "source": [
    "%load_ext autoreload\n",
    "%autoreload 2"
   ]
  },
  {
   "cell_type": "code",
   "execution_count": 2,
   "metadata": {
    "execution": {
     "iopub.execute_input": "2020-12-18T22:38:21.481746Z",
     "iopub.status.busy": "2020-12-18T22:38:21.481367Z",
     "iopub.status.idle": "2020-12-18T22:38:21.659906Z",
     "shell.execute_reply": "2020-12-18T22:38:21.659592Z"
    },
    "papermill": {
     "duration": 0.192251,
     "end_time": "2020-12-18T22:38:21.659996",
     "exception": false,
     "start_time": "2020-12-18T22:38:21.467745",
     "status": "completed"
    },
    "tags": []
   },
   "outputs": [],
   "source": [
    "from pathlib import Path\n",
    "\n",
    "import numpy as np\n",
    "import pandas as pd\n",
    "\n",
    "import conf\n",
    "from data.cache import read_data\n",
    "from data.hdf5 import simplify_trait_fullcode, HDF5_FILE_PATTERN"
   ]
  },
  {
   "cell_type": "markdown",
   "metadata": {
    "papermill": {
     "duration": 0.011416,
     "end_time": "2020-12-18T22:38:21.683356",
     "exception": false,
     "start_time": "2020-12-18T22:38:21.671940",
     "status": "completed"
    },
    "tags": []
   },
   "source": [
    "# Settings"
   ]
  },
  {
   "cell_type": "code",
   "execution_count": 3,
   "metadata": {
    "execution": {
     "iopub.execute_input": "2020-12-18T22:38:21.708846Z",
     "iopub.status.busy": "2020-12-18T22:38:21.708428Z",
     "iopub.status.idle": "2020-12-18T22:38:21.716045Z",
     "shell.execute_reply": "2020-12-18T22:38:21.715656Z"
    },
    "papermill": {
     "duration": 0.021367,
     "end_time": "2020-12-18T22:38:21.716134",
     "exception": false,
     "start_time": "2020-12-18T22:38:21.694767",
     "status": "completed"
    },
    "tags": []
   },
   "outputs": [],
   "source": [
    "SPREDIXCAN_H5_FOLDER = Path(\n",
    "    conf.PHENOMEXCAN[\"SPREDIXCAN_MASHR_ZSCORES_FOLDER\"],\n",
    "    \"hdf5\",\n",
    ")\n",
    "assert SPREDIXCAN_H5_FOLDER.is_dir(), \"The folder does not exist\""
   ]
  },
  {
   "cell_type": "markdown",
   "metadata": {
    "papermill": {
     "duration": 0.012101,
     "end_time": "2020-12-18T22:38:21.740637",
     "exception": false,
     "start_time": "2020-12-18T22:38:21.728536",
     "status": "completed"
    },
    "tags": []
   },
   "source": [
    "# Get all PhenomeXcan traits"
   ]
  },
  {
   "cell_type": "markdown",
   "metadata": {
    "papermill": {
     "duration": 0.011156,
     "end_time": "2020-12-18T22:38:21.763754",
     "exception": false,
     "start_time": "2020-12-18T22:38:21.752598",
     "status": "completed"
    },
    "tags": []
   },
   "source": [
    "## Get all PhenomeXcan trait full codes"
   ]
  },
  {
   "cell_type": "code",
   "execution_count": 4,
   "metadata": {
    "execution": {
     "iopub.execute_input": "2020-12-18T22:38:21.790142Z",
     "iopub.status.busy": "2020-12-18T22:38:21.789770Z",
     "iopub.status.idle": "2020-12-18T22:38:21.973875Z",
     "shell.execute_reply": "2020-12-18T22:38:21.973433Z"
    },
    "papermill": {
     "duration": 0.198378,
     "end_time": "2020-12-18T22:38:21.973975",
     "exception": false,
     "start_time": "2020-12-18T22:38:21.775597",
     "status": "completed"
    },
    "tags": []
   },
   "outputs": [],
   "source": [
    "from entity import Trait"
   ]
  },
  {
   "cell_type": "code",
   "execution_count": 5,
   "metadata": {
    "execution": {
     "iopub.execute_input": "2020-12-18T22:38:22.001714Z",
     "iopub.status.busy": "2020-12-18T22:38:22.001334Z",
     "iopub.status.idle": "2020-12-18T22:38:22.299877Z",
     "shell.execute_reply": "2020-12-18T22:38:22.299455Z"
    },
    "papermill": {
     "duration": 0.313021,
     "end_time": "2020-12-18T22:38:22.299984",
     "exception": false,
     "start_time": "2020-12-18T22:38:21.986963",
     "status": "completed"
    },
    "tags": []
   },
   "outputs": [],
   "source": [
    "all_phenomexcan_traits = [\n",
    "    trait_fullcode\n",
    "    for trait_fullcode in read_data(\n",
    "        conf.PHENOMEXCAN[\"SMULTIXCAN_MASHR_ZSCORES_FILE\"]\n",
    "    ).columns\n",
    "]"
   ]
  },
  {
   "cell_type": "code",
   "execution_count": 6,
   "metadata": {
    "execution": {
     "iopub.execute_input": "2020-12-18T22:38:22.328866Z",
     "iopub.status.busy": "2020-12-18T22:38:22.328460Z",
     "iopub.status.idle": "2020-12-18T22:38:22.340763Z",
     "shell.execute_reply": "2020-12-18T22:38:22.340373Z"
    },
    "papermill": {
     "duration": 0.026883,
     "end_time": "2020-12-18T22:38:22.340853",
     "exception": false,
     "start_time": "2020-12-18T22:38:22.313970",
     "status": "completed"
    },
    "tags": []
   },
   "outputs": [
    {
     "data": {
      "text/plain": [
       "4091"
      ]
     },
     "metadata": {},
     "output_type": "display_data"
    }
   ],
   "source": [
    "_tmp = set(all_phenomexcan_traits)\n",
    "display(len(_tmp))\n",
    "assert len(_tmp) == 4091"
   ]
  },
  {
   "cell_type": "markdown",
   "metadata": {
    "papermill": {
     "duration": 0.012324,
     "end_time": "2020-12-18T22:38:22.366058",
     "exception": false,
     "start_time": "2020-12-18T22:38:22.353734",
     "status": "completed"
    },
    "tags": []
   },
   "source": [
    "# Get list of files"
   ]
  },
  {
   "cell_type": "code",
   "execution_count": 7,
   "metadata": {
    "execution": {
     "iopub.execute_input": "2020-12-18T22:38:22.392193Z",
     "iopub.status.busy": "2020-12-18T22:38:22.391838Z",
     "iopub.status.idle": "2020-12-18T22:38:22.398574Z",
     "shell.execute_reply": "2020-12-18T22:38:22.398922Z"
    },
    "papermill": {
     "duration": 0.021104,
     "end_time": "2020-12-18T22:38:22.399027",
     "exception": false,
     "start_time": "2020-12-18T22:38:22.377923",
     "status": "completed"
    },
    "tags": []
   },
   "outputs": [],
   "source": [
    "from glob import glob"
   ]
  },
  {
   "cell_type": "code",
   "execution_count": 8,
   "metadata": {
    "execution": {
     "iopub.execute_input": "2020-12-18T22:38:22.425941Z",
     "iopub.status.busy": "2020-12-18T22:38:22.425571Z",
     "iopub.status.idle": "2020-12-18T22:38:22.432750Z",
     "shell.execute_reply": "2020-12-18T22:38:22.433028Z"
    },
    "papermill": {
     "duration": 0.022083,
     "end_time": "2020-12-18T22:38:22.433139",
     "exception": false,
     "start_time": "2020-12-18T22:38:22.411056",
     "status": "completed"
    },
    "tags": []
   },
   "outputs": [],
   "source": [
    "spredixcan_files = list(SPREDIXCAN_H5_FOLDER.glob(\"*.h5\"))"
   ]
  },
  {
   "cell_type": "code",
   "execution_count": 9,
   "metadata": {
    "execution": {
     "iopub.execute_input": "2020-12-18T22:38:22.460083Z",
     "iopub.status.busy": "2020-12-18T22:38:22.459711Z",
     "iopub.status.idle": "2020-12-18T22:38:22.467383Z",
     "shell.execute_reply": "2020-12-18T22:38:22.467661Z"
    },
    "papermill": {
     "duration": 0.022217,
     "end_time": "2020-12-18T22:38:22.467771",
     "exception": false,
     "start_time": "2020-12-18T22:38:22.445554",
     "status": "completed"
    },
    "tags": []
   },
   "outputs": [
    {
     "data": {
      "text/plain": [
       "[PosixPath('/home/miltondp/projects/labs/greenelab/phenoplier/base/data/phenomexcan/gene_assoc/spredixcan/hdf5/spredixcan-Vagina-zscore.h5'),\n",
       " PosixPath('/home/miltondp/projects/labs/greenelab/phenoplier/base/data/phenomexcan/gene_assoc/spredixcan/hdf5/spredixcan-Ovary-zscore.h5'),\n",
       " PosixPath('/home/miltondp/projects/labs/greenelab/phenoplier/base/data/phenomexcan/gene_assoc/spredixcan/hdf5/spredixcan-Cells_Cultured_fibroblasts-zscore.h5'),\n",
       " PosixPath('/home/miltondp/projects/labs/greenelab/phenoplier/base/data/phenomexcan/gene_assoc/spredixcan/hdf5/spredixcan-Pituitary-zscore.h5'),\n",
       " PosixPath('/home/miltondp/projects/labs/greenelab/phenoplier/base/data/phenomexcan/gene_assoc/spredixcan/hdf5/spredixcan-Spleen-zscore.h5')]"
      ]
     },
     "metadata": {},
     "output_type": "display_data"
    }
   ],
   "source": [
    "display(spredixcan_files[:5])\n",
    "assert len(spredixcan_files) == 49"
   ]
  },
  {
   "cell_type": "markdown",
   "metadata": {
    "papermill": {
     "duration": 0.012604,
     "end_time": "2020-12-18T22:38:22.493434",
     "exception": false,
     "start_time": "2020-12-18T22:38:22.480830",
     "status": "completed"
    },
    "tags": []
   },
   "source": [
    "# Get all tissues"
   ]
  },
  {
   "cell_type": "code",
   "execution_count": 10,
   "metadata": {
    "execution": {
     "iopub.execute_input": "2020-12-18T22:38:22.520554Z",
     "iopub.status.busy": "2020-12-18T22:38:22.520197Z",
     "iopub.status.idle": "2020-12-18T22:38:22.527896Z",
     "shell.execute_reply": "2020-12-18T22:38:22.527492Z"
    },
    "papermill": {
     "duration": 0.022165,
     "end_time": "2020-12-18T22:38:22.527982",
     "exception": false,
     "start_time": "2020-12-18T22:38:22.505817",
     "status": "completed"
    },
    "tags": []
   },
   "outputs": [],
   "source": [
    "import re"
   ]
  },
  {
   "cell_type": "code",
   "execution_count": 11,
   "metadata": {
    "execution": {
     "iopub.execute_input": "2020-12-18T22:38:22.555660Z",
     "iopub.status.busy": "2020-12-18T22:38:22.555299Z",
     "iopub.status.idle": "2020-12-18T22:38:22.562855Z",
     "shell.execute_reply": "2020-12-18T22:38:22.562492Z"
    },
    "papermill": {
     "duration": 0.022132,
     "end_time": "2020-12-18T22:38:22.562942",
     "exception": false,
     "start_time": "2020-12-18T22:38:22.540810",
     "status": "completed"
    },
    "tags": []
   },
   "outputs": [],
   "source": [
    "all_tissues = [\n",
    "    re.search(HDF5_FILE_PATTERN, file.name).group(\"tissue\") for file in spredixcan_files\n",
    "]"
   ]
  },
  {
   "cell_type": "code",
   "execution_count": 12,
   "metadata": {
    "execution": {
     "iopub.execute_input": "2020-12-18T22:38:22.590680Z",
     "iopub.status.busy": "2020-12-18T22:38:22.590319Z",
     "iopub.status.idle": "2020-12-18T22:38:22.598380Z",
     "shell.execute_reply": "2020-12-18T22:38:22.598015Z"
    },
    "papermill": {
     "duration": 0.022778,
     "end_time": "2020-12-18T22:38:22.598466",
     "exception": false,
     "start_time": "2020-12-18T22:38:22.575688",
     "status": "completed"
    },
    "tags": []
   },
   "outputs": [
    {
     "data": {
      "text/plain": [
       "['Vagina', 'Ovary', 'Cells_Cultured_fibroblasts', 'Pituitary', 'Spleen']"
      ]
     },
     "metadata": {},
     "output_type": "display_data"
    }
   ],
   "source": [
    "display(all_tissues[:5])\n",
    "assert len(all_tissues) == len(spredixcan_files)"
   ]
  },
  {
   "cell_type": "markdown",
   "metadata": {
    "papermill": {
     "duration": 0.012836,
     "end_time": "2020-12-18T22:38:22.624455",
     "exception": false,
     "start_time": "2020-12-18T22:38:22.611619",
     "status": "completed"
    },
    "tags": []
   },
   "source": [
    "# Function to get most significant results"
   ]
  },
  {
   "cell_type": "code",
   "execution_count": 13,
   "metadata": {
    "execution": {
     "iopub.execute_input": "2020-12-18T22:38:22.652634Z",
     "iopub.status.busy": "2020-12-18T22:38:22.652274Z",
     "iopub.status.idle": "2020-12-18T22:38:22.659593Z",
     "shell.execute_reply": "2020-12-18T22:38:22.659226Z"
    },
    "papermill": {
     "duration": 0.022389,
     "end_time": "2020-12-18T22:38:22.659677",
     "exception": false,
     "start_time": "2020-12-18T22:38:22.637288",
     "status": "completed"
    },
    "tags": []
   },
   "outputs": [],
   "source": [
    "from data.hdf5 import read_spredixcan"
   ]
  },
  {
   "cell_type": "code",
   "execution_count": 14,
   "metadata": {
    "execution": {
     "iopub.execute_input": "2020-12-18T22:38:22.689326Z",
     "iopub.status.busy": "2020-12-18T22:38:22.688942Z",
     "iopub.status.idle": "2020-12-18T22:38:22.696319Z",
     "shell.execute_reply": "2020-12-18T22:38:22.695945Z"
    },
    "papermill": {
     "duration": 0.023524,
     "end_time": "2020-12-18T22:38:22.696406",
     "exception": false,
     "start_time": "2020-12-18T22:38:22.672882",
     "status": "completed"
    },
    "tags": []
   },
   "outputs": [],
   "source": [
    "def get_most_signif(trait_fullcode):\n",
    "    \"\"\"\n",
    "    TODO: describe\n",
    "    \"\"\"\n",
    "    trait_data = (\n",
    "        pd.concat(\n",
    "            [\n",
    "                read_spredixcan(SPREDIXCAN_H5_FOLDER, trait_fullcode, t)\n",
    "                for t in all_tissues\n",
    "            ],\n",
    "            keys=all_tissues,\n",
    "            axis=0,\n",
    "        )\n",
    "        .reset_index()\n",
    "        .drop(columns=[\"level_0\"])[[\"gene_id\", trait_fullcode]]\n",
    "        .dropna()\n",
    "    )\n",
    "\n",
    "    return (\n",
    "        trait_data.loc[\n",
    "            trait_data[trait_fullcode].abs().groupby(trait_data[\"gene_id\"]).idxmax()\n",
    "        ]\n",
    "        .set_index(\"gene_id\")\n",
    "        .squeeze()\n",
    "    )"
   ]
  },
  {
   "cell_type": "code",
   "execution_count": 15,
   "metadata": {
    "execution": {
     "iopub.execute_input": "2020-12-18T22:38:22.725514Z",
     "iopub.status.busy": "2020-12-18T22:38:22.725148Z",
     "iopub.status.idle": "2020-12-18T22:38:25.438974Z",
     "shell.execute_reply": "2020-12-18T22:38:25.438541Z"
    },
    "papermill": {
     "duration": 2.729167,
     "end_time": "2020-12-18T22:38:25.439075",
     "exception": false,
     "start_time": "2020-12-18T22:38:22.709908",
     "status": "completed"
    },
    "tags": []
   },
   "outputs": [
    {
     "data": {
      "text/plain": [
       "gene_id\n",
       "ENSG00000000419    1.203957\n",
       "ENSG00000000457    2.236525\n",
       "ENSG00000000460    1.716387\n",
       "ENSG00000000938    0.881469\n",
       "ENSG00000000971   -1.372867\n",
       "                     ...   \n",
       "ENSG00000284430   -1.120714\n",
       "ENSG00000284452    0.975901\n",
       "ENSG00000284513    1.817369\n",
       "ENSG00000284526    2.203900\n",
       "ENSG00000284552   -0.729526\n",
       "Name: 100002_raw-Energy, Length: 22255, dtype: float64"
      ]
     },
     "execution_count": 15,
     "metadata": {},
     "output_type": "execute_result"
    }
   ],
   "source": [
    "get_most_signif(\"100002_raw-Energy\")"
   ]
  },
  {
   "cell_type": "markdown",
   "metadata": {
    "papermill": {
     "duration": 0.014314,
     "end_time": "2020-12-18T22:38:25.468260",
     "exception": false,
     "start_time": "2020-12-18T22:38:25.453946",
     "status": "completed"
    },
    "tags": []
   },
   "source": [
    "## Testing"
   ]
  },
  {
   "cell_type": "code",
   "execution_count": 16,
   "metadata": {
    "execution": {
     "iopub.execute_input": "2020-12-18T22:38:25.497227Z",
     "iopub.status.busy": "2020-12-18T22:38:25.496870Z",
     "iopub.status.idle": "2020-12-18T22:38:26.257677Z",
     "shell.execute_reply": "2020-12-18T22:38:26.258036Z"
    },
    "papermill": {
     "duration": 0.77672,
     "end_time": "2020-12-18T22:38:26.258172",
     "exception": false,
     "start_time": "2020-12-18T22:38:25.481452",
     "status": "completed"
    },
    "tags": []
   },
   "outputs": [],
   "source": [
    "_trait = \"100001_raw-Food_weight\"\n",
    "\n",
    "_trait_data = pd.DataFrame(\n",
    "    {t: read_spredixcan(SPREDIXCAN_H5_FOLDER, _trait, t) for t in all_tissues}\n",
    ")"
   ]
  },
  {
   "cell_type": "code",
   "execution_count": 17,
   "metadata": {
    "execution": {
     "iopub.execute_input": "2020-12-18T22:38:26.290352Z",
     "iopub.status.busy": "2020-12-18T22:38:26.289981Z",
     "iopub.status.idle": "2020-12-18T22:38:26.301597Z",
     "shell.execute_reply": "2020-12-18T22:38:26.301263Z"
    },
    "papermill": {
     "duration": 0.027746,
     "end_time": "2020-12-18T22:38:26.301695",
     "exception": false,
     "start_time": "2020-12-18T22:38:26.273949",
     "status": "completed"
    },
    "tags": []
   },
   "outputs": [
    {
     "data": {
      "text/plain": [
       "Brain_Hypothalamus   -0.561372\n",
       "Testis                0.242423\n",
       "Name: ENSG00000225595, dtype: float64"
      ]
     },
     "execution_count": 17,
     "metadata": {},
     "output_type": "execute_result"
    }
   ],
   "source": [
    "_trait_data.loc[\"ENSG00000225595\"].dropna().sort_values()"
   ]
  },
  {
   "cell_type": "code",
   "execution_count": 18,
   "metadata": {
    "execution": {
     "iopub.execute_input": "2020-12-18T22:38:26.332918Z",
     "iopub.status.busy": "2020-12-18T22:38:26.332510Z",
     "iopub.status.idle": "2020-12-18T22:38:28.811592Z",
     "shell.execute_reply": "2020-12-18T22:38:28.811903Z"
    },
    "papermill": {
     "duration": 2.495059,
     "end_time": "2020-12-18T22:38:28.812023",
     "exception": false,
     "start_time": "2020-12-18T22:38:26.316964",
     "status": "completed"
    },
    "tags": []
   },
   "outputs": [],
   "source": [
    "_trait = \"pgc.scz2\"\n",
    "_data_ms = get_most_signif(_trait)"
   ]
  },
  {
   "cell_type": "code",
   "execution_count": 19,
   "metadata": {
    "execution": {
     "iopub.execute_input": "2020-12-18T22:38:28.842901Z",
     "iopub.status.busy": "2020-12-18T22:38:28.842534Z",
     "iopub.status.idle": "2020-12-18T22:38:28.853150Z",
     "shell.execute_reply": "2020-12-18T22:38:28.852809Z"
    },
    "papermill": {
     "duration": 0.026775,
     "end_time": "2020-12-18T22:38:28.853240",
     "exception": false,
     "start_time": "2020-12-18T22:38:28.826465",
     "status": "completed"
    },
    "tags": []
   },
   "outputs": [],
   "source": [
    "_gene_id = \"ENSG00000158691\"\n",
    "assert _data_ms.loc[_gene_id].round(3) == 11.067\n",
    "\n",
    "_gene_id = \"ENSG00000204713\"\n",
    "assert _data_ms.loc[_gene_id].round(3) == 10.825\n",
    "\n",
    "_gene_id = \"ENSG00000225595\"\n",
    "assert _data_ms.loc[_gene_id].round(3) == -10.956"
   ]
  },
  {
   "cell_type": "code",
   "execution_count": 20,
   "metadata": {
    "execution": {
     "iopub.execute_input": "2020-12-18T22:38:28.884105Z",
     "iopub.status.busy": "2020-12-18T22:38:28.883726Z",
     "iopub.status.idle": "2020-12-18T22:38:31.357507Z",
     "shell.execute_reply": "2020-12-18T22:38:31.357147Z"
    },
    "papermill": {
     "duration": 2.489753,
     "end_time": "2020-12-18T22:38:31.357609",
     "exception": false,
     "start_time": "2020-12-18T22:38:28.867856",
     "status": "completed"
    },
    "tags": []
   },
   "outputs": [],
   "source": [
    "_trait = \"100001_raw-Food_weight\"\n",
    "_data_ms = get_most_signif(_trait)"
   ]
  },
  {
   "cell_type": "code",
   "execution_count": 21,
   "metadata": {
    "execution": {
     "iopub.execute_input": "2020-12-18T22:38:31.389121Z",
     "iopub.status.busy": "2020-12-18T22:38:31.388729Z",
     "iopub.status.idle": "2020-12-18T22:38:31.399689Z",
     "shell.execute_reply": "2020-12-18T22:38:31.399256Z"
    },
    "papermill": {
     "duration": 0.027249,
     "end_time": "2020-12-18T22:38:31.399788",
     "exception": false,
     "start_time": "2020-12-18T22:38:31.372539",
     "status": "completed"
    },
    "tags": []
   },
   "outputs": [],
   "source": [
    "_gene_id = \"ENSG00000225595\"\n",
    "assert _data_ms.loc[_gene_id].round(3) == -0.561\n",
    "\n",
    "_gene_id = \"ENSG00000183323\"\n",
    "assert _data_ms.loc[_gene_id].round(3) == 4.444\n",
    "\n",
    "_gene_id = \"ENSG00000182901\"\n",
    "assert _data_ms.loc[_gene_id].round(3) == -4.369"
   ]
  },
  {
   "cell_type": "markdown",
   "metadata": {
    "papermill": {
     "duration": 0.014074,
     "end_time": "2020-12-18T22:38:31.429110",
     "exception": false,
     "start_time": "2020-12-18T22:38:31.415036",
     "status": "completed"
    },
    "tags": []
   },
   "source": [
    "# Compute most significant for all traits"
   ]
  },
  {
   "cell_type": "code",
   "execution_count": 22,
   "metadata": {
    "execution": {
     "iopub.execute_input": "2020-12-18T22:38:31.460173Z",
     "iopub.status.busy": "2020-12-18T22:38:31.459776Z",
     "iopub.status.idle": "2020-12-18T22:38:31.471736Z",
     "shell.execute_reply": "2020-12-18T22:38:31.471427Z"
    },
    "papermill": {
     "duration": 0.028758,
     "end_time": "2020-12-18T22:38:31.471828",
     "exception": false,
     "start_time": "2020-12-18T22:38:31.443070",
     "status": "completed"
    },
    "tags": []
   },
   "outputs": [],
   "source": [
    "from concurrent.futures import ProcessPoolExecutor, as_completed\n",
    "from tqdm import tqdm"
   ]
  },
  {
   "cell_type": "code",
   "execution_count": 23,
   "metadata": {
    "execution": {
     "iopub.execute_input": "2020-12-18T22:38:31.503160Z",
     "iopub.status.busy": "2020-12-18T22:38:31.502794Z",
     "iopub.status.idle": "2020-12-18T22:38:31.510674Z",
     "shell.execute_reply": "2020-12-18T22:38:31.510312Z"
    },
    "papermill": {
     "duration": 0.024492,
     "end_time": "2020-12-18T22:38:31.510760",
     "exception": false,
     "start_time": "2020-12-18T22:38:31.486268",
     "status": "completed"
    },
    "tags": []
   },
   "outputs": [],
   "source": [
    "def _run(trait):\n",
    "    return {trait: get_most_signif(trait)}"
   ]
  },
  {
   "cell_type": "code",
   "execution_count": 24,
   "metadata": {
    "execution": {
     "iopub.execute_input": "2020-12-18T22:38:31.541458Z",
     "iopub.status.busy": "2020-12-18T22:38:31.541097Z",
     "iopub.status.idle": "2020-12-18T23:49:58.135443Z",
     "shell.execute_reply": "2020-12-18T23:49:58.134980Z"
    },
    "papermill": {
     "duration": 4286.610718,
     "end_time": "2020-12-18T23:49:58.135553",
     "exception": false,
     "start_time": "2020-12-18T22:38:31.524835",
     "status": "completed"
    },
    "tags": []
   },
   "outputs": [
    {
     "name": "stderr",
     "output_type": "stream",
     "text": [
      "100%|██████████| 4091/4091 [1:11:26<00:00,  1.05s/it]\n"
     ]
    }
   ],
   "source": [
    "all_results = {}\n",
    "with ProcessPoolExecutor(max_workers=conf.GENERAL[\"N_JOBS\"]) as executor:\n",
    "    tasks = [executor.submit(_run, trait) for trait in all_phenomexcan_traits]\n",
    "    for future in tqdm(as_completed(tasks), total=len(all_phenomexcan_traits)):\n",
    "        res = future.result()\n",
    "        all_results.update(res)"
   ]
  },
  {
   "cell_type": "code",
   "execution_count": 25,
   "metadata": {
    "execution": {
     "iopub.execute_input": "2020-12-18T23:49:59.286924Z",
     "iopub.status.busy": "2020-12-18T23:49:59.286571Z",
     "iopub.status.idle": "2020-12-18T23:50:24.777292Z",
     "shell.execute_reply": "2020-12-18T23:50:24.776854Z"
    },
    "papermill": {
     "duration": 26.054277,
     "end_time": "2020-12-18T23:50:24.777402",
     "exception": false,
     "start_time": "2020-12-18T23:49:58.723125",
     "status": "completed"
    },
    "tags": []
   },
   "outputs": [],
   "source": [
    "data_most_signif = pd.DataFrame(all_results)"
   ]
  },
  {
   "cell_type": "code",
   "execution_count": 26,
   "metadata": {
    "execution": {
     "iopub.execute_input": "2020-12-18T23:50:25.908876Z",
     "iopub.status.busy": "2020-12-18T23:50:25.908464Z",
     "iopub.status.idle": "2020-12-18T23:50:25.917142Z",
     "shell.execute_reply": "2020-12-18T23:50:25.916756Z"
    },
    "papermill": {
     "duration": 0.571589,
     "end_time": "2020-12-18T23:50:25.917225",
     "exception": false,
     "start_time": "2020-12-18T23:50:25.345636",
     "status": "completed"
    },
    "tags": []
   },
   "outputs": [
    {
     "data": {
      "text/plain": [
       "(22515, 4091)"
      ]
     },
     "execution_count": 26,
     "metadata": {},
     "output_type": "execute_result"
    }
   ],
   "source": [
    "data_most_signif.shape"
   ]
  },
  {
   "cell_type": "code",
   "execution_count": 27,
   "metadata": {
    "execution": {
     "iopub.execute_input": "2020-12-18T23:50:27.018679Z",
     "iopub.status.busy": "2020-12-18T23:50:27.018300Z",
     "iopub.status.idle": "2020-12-18T23:50:27.040325Z",
     "shell.execute_reply": "2020-12-18T23:50:27.039953Z"
    },
    "papermill": {
     "duration": 0.574449,
     "end_time": "2020-12-18T23:50:27.040414",
     "exception": false,
     "start_time": "2020-12-18T23:50:26.465965",
     "status": "completed"
    },
    "tags": []
   },
   "outputs": [
    {
     "data": {
      "text/html": [
       "<div>\n",
       "<style scoped>\n",
       "    .dataframe tbody tr th:only-of-type {\n",
       "        vertical-align: middle;\n",
       "    }\n",
       "\n",
       "    .dataframe tbody tr th {\n",
       "        vertical-align: top;\n",
       "    }\n",
       "\n",
       "    .dataframe thead th {\n",
       "        text-align: right;\n",
       "    }\n",
       "</style>\n",
       "<table border=\"1\" class=\"dataframe\">\n",
       "  <thead>\n",
       "    <tr style=\"text-align: right;\">\n",
       "      <th></th>\n",
       "      <th>20096_1-Size_of_red_wine_glass_drunk_small_125ml</th>\n",
       "      <th>2345-Ever_had_bowel_cancer_screening</th>\n",
       "      <th>N49-Diagnoses_main_ICD10_N49_Inflammatory_disorders_of_male_genital_organs_not_elsewhere_classified</th>\n",
       "      <th>100011_raw-Iron</th>\n",
       "      <th>5221-Index_of_best_refractometry_result_right</th>\n",
       "      <th>20003_1141150624-Treatmentmedication_code_zomig_25mg_tablet</th>\n",
       "      <th>S69-Diagnoses_main_ICD10_S69_Other_and_unspecified_injuries_of_wrist_and_hand</th>\n",
       "      <th>20024_1136-Job_code_deduced_Information_and_communication_technology_managers</th>\n",
       "      <th>20002_1385-Noncancer_illness_code_selfreported_allergy_or_anaphylactic_reaction_to_food</th>\n",
       "      <th>G6_SLEEPAPNO-Sleep_apnoea</th>\n",
       "      <th>...</th>\n",
       "      <th>Astle_et_al_2016_Sum_basophil_neutrophil_counts</th>\n",
       "      <th>RA_OKADA_TRANS_ETHNIC</th>\n",
       "      <th>pgc.scz2</th>\n",
       "      <th>PGC_ADHD_EUR_2017</th>\n",
       "      <th>MAGIC_FastingGlucose</th>\n",
       "      <th>Astle_et_al_2016_Red_blood_cell_count</th>\n",
       "      <th>SSGAC_Depressive_Symptoms</th>\n",
       "      <th>BCAC_ER_positive_BreastCancer_EUR</th>\n",
       "      <th>IBD.EUR.Inflammatory_Bowel_Disease</th>\n",
       "      <th>Astle_et_al_2016_High_light_scatter_reticulocyte_count</th>\n",
       "    </tr>\n",
       "  </thead>\n",
       "  <tbody>\n",
       "    <tr>\n",
       "      <th>ENSG00000000419</th>\n",
       "      <td>-0.521616</td>\n",
       "      <td>-0.354356</td>\n",
       "      <td>-0.647688</td>\n",
       "      <td>1.110194</td>\n",
       "      <td>-1.786116</td>\n",
       "      <td>1.714687</td>\n",
       "      <td>0.999024</td>\n",
       "      <td>-1.662682</td>\n",
       "      <td>1.576522</td>\n",
       "      <td>-1.402812</td>\n",
       "      <td>...</td>\n",
       "      <td>1.614588</td>\n",
       "      <td>0.954165</td>\n",
       "      <td>-1.325516</td>\n",
       "      <td>-0.290283</td>\n",
       "      <td>1.009580</td>\n",
       "      <td>-1.237774</td>\n",
       "      <td>-1.083244</td>\n",
       "      <td>1.711170</td>\n",
       "      <td>-1.144057</td>\n",
       "      <td>-0.803475</td>\n",
       "    </tr>\n",
       "    <tr>\n",
       "      <th>ENSG00000000457</th>\n",
       "      <td>-1.885895</td>\n",
       "      <td>-2.056025</td>\n",
       "      <td>-0.693315</td>\n",
       "      <td>1.342271</td>\n",
       "      <td>1.631252</td>\n",
       "      <td>-1.902825</td>\n",
       "      <td>-1.485516</td>\n",
       "      <td>-2.356658</td>\n",
       "      <td>3.181447</td>\n",
       "      <td>2.094172</td>\n",
       "      <td>...</td>\n",
       "      <td>2.582993</td>\n",
       "      <td>2.004654</td>\n",
       "      <td>2.918376</td>\n",
       "      <td>1.886111</td>\n",
       "      <td>1.242073</td>\n",
       "      <td>1.184227</td>\n",
       "      <td>1.190373</td>\n",
       "      <td>0.773194</td>\n",
       "      <td>-2.302876</td>\n",
       "      <td>1.702888</td>\n",
       "    </tr>\n",
       "    <tr>\n",
       "      <th>ENSG00000000460</th>\n",
       "      <td>-1.269773</td>\n",
       "      <td>-2.088193</td>\n",
       "      <td>-2.868509</td>\n",
       "      <td>1.653372</td>\n",
       "      <td>1.307943</td>\n",
       "      <td>-2.114711</td>\n",
       "      <td>1.162425</td>\n",
       "      <td>-1.418749</td>\n",
       "      <td>2.363683</td>\n",
       "      <td>-1.480930</td>\n",
       "      <td>...</td>\n",
       "      <td>1.577850</td>\n",
       "      <td>1.156873</td>\n",
       "      <td>-1.480989</td>\n",
       "      <td>-1.384810</td>\n",
       "      <td>1.820841</td>\n",
       "      <td>1.872488</td>\n",
       "      <td>-1.279276</td>\n",
       "      <td>-1.054766</td>\n",
       "      <td>2.876039</td>\n",
       "      <td>-2.125799</td>\n",
       "    </tr>\n",
       "    <tr>\n",
       "      <th>ENSG00000000938</th>\n",
       "      <td>1.521316</td>\n",
       "      <td>-1.344366</td>\n",
       "      <td>-2.155603</td>\n",
       "      <td>1.313485</td>\n",
       "      <td>1.537092</td>\n",
       "      <td>4.348633</td>\n",
       "      <td>-0.604390</td>\n",
       "      <td>-1.816184</td>\n",
       "      <td>-1.049993</td>\n",
       "      <td>1.669054</td>\n",
       "      <td>...</td>\n",
       "      <td>1.369958</td>\n",
       "      <td>-0.446664</td>\n",
       "      <td>-3.131358</td>\n",
       "      <td>1.459237</td>\n",
       "      <td>1.007082</td>\n",
       "      <td>2.096814</td>\n",
       "      <td>0.932845</td>\n",
       "      <td>-2.452785</td>\n",
       "      <td>1.710248</td>\n",
       "      <td>1.730114</td>\n",
       "    </tr>\n",
       "    <tr>\n",
       "      <th>ENSG00000000971</th>\n",
       "      <td>-1.409875</td>\n",
       "      <td>-1.325785</td>\n",
       "      <td>-1.674708</td>\n",
       "      <td>1.316074</td>\n",
       "      <td>-1.145304</td>\n",
       "      <td>-0.788946</td>\n",
       "      <td>1.549621</td>\n",
       "      <td>1.224362</td>\n",
       "      <td>-0.670558</td>\n",
       "      <td>-1.915256</td>\n",
       "      <td>...</td>\n",
       "      <td>-1.882554</td>\n",
       "      <td>2.691985</td>\n",
       "      <td>-3.261818</td>\n",
       "      <td>2.756464</td>\n",
       "      <td>-1.038795</td>\n",
       "      <td>-0.576466</td>\n",
       "      <td>-3.605774</td>\n",
       "      <td>1.423109</td>\n",
       "      <td>-1.578721</td>\n",
       "      <td>-1.200703</td>\n",
       "    </tr>\n",
       "  </tbody>\n",
       "</table>\n",
       "<p>5 rows × 4091 columns</p>\n",
       "</div>"
      ],
      "text/plain": [
       "                 20096_1-Size_of_red_wine_glass_drunk_small_125ml  \\\n",
       "ENSG00000000419                                         -0.521616   \n",
       "ENSG00000000457                                         -1.885895   \n",
       "ENSG00000000460                                         -1.269773   \n",
       "ENSG00000000938                                          1.521316   \n",
       "ENSG00000000971                                         -1.409875   \n",
       "\n",
       "                 2345-Ever_had_bowel_cancer_screening  \\\n",
       "ENSG00000000419                             -0.354356   \n",
       "ENSG00000000457                             -2.056025   \n",
       "ENSG00000000460                             -2.088193   \n",
       "ENSG00000000938                             -1.344366   \n",
       "ENSG00000000971                             -1.325785   \n",
       "\n",
       "                 N49-Diagnoses_main_ICD10_N49_Inflammatory_disorders_of_male_genital_organs_not_elsewhere_classified  \\\n",
       "ENSG00000000419                                          -0.647688                                                     \n",
       "ENSG00000000457                                          -0.693315                                                     \n",
       "ENSG00000000460                                          -2.868509                                                     \n",
       "ENSG00000000938                                          -2.155603                                                     \n",
       "ENSG00000000971                                          -1.674708                                                     \n",
       "\n",
       "                 100011_raw-Iron  \\\n",
       "ENSG00000000419         1.110194   \n",
       "ENSG00000000457         1.342271   \n",
       "ENSG00000000460         1.653372   \n",
       "ENSG00000000938         1.313485   \n",
       "ENSG00000000971         1.316074   \n",
       "\n",
       "                 5221-Index_of_best_refractometry_result_right  \\\n",
       "ENSG00000000419                                      -1.786116   \n",
       "ENSG00000000457                                       1.631252   \n",
       "ENSG00000000460                                       1.307943   \n",
       "ENSG00000000938                                       1.537092   \n",
       "ENSG00000000971                                      -1.145304   \n",
       "\n",
       "                 20003_1141150624-Treatmentmedication_code_zomig_25mg_tablet  \\\n",
       "ENSG00000000419                                           1.714687             \n",
       "ENSG00000000457                                          -1.902825             \n",
       "ENSG00000000460                                          -2.114711             \n",
       "ENSG00000000938                                           4.348633             \n",
       "ENSG00000000971                                          -0.788946             \n",
       "\n",
       "                 S69-Diagnoses_main_ICD10_S69_Other_and_unspecified_injuries_of_wrist_and_hand  \\\n",
       "ENSG00000000419                                           0.999024                               \n",
       "ENSG00000000457                                          -1.485516                               \n",
       "ENSG00000000460                                           1.162425                               \n",
       "ENSG00000000938                                          -0.604390                               \n",
       "ENSG00000000971                                           1.549621                               \n",
       "\n",
       "                 20024_1136-Job_code_deduced_Information_and_communication_technology_managers  \\\n",
       "ENSG00000000419                                          -1.662682                               \n",
       "ENSG00000000457                                          -2.356658                               \n",
       "ENSG00000000460                                          -1.418749                               \n",
       "ENSG00000000938                                          -1.816184                               \n",
       "ENSG00000000971                                           1.224362                               \n",
       "\n",
       "                 20002_1385-Noncancer_illness_code_selfreported_allergy_or_anaphylactic_reaction_to_food  \\\n",
       "ENSG00000000419                                           1.576522                                         \n",
       "ENSG00000000457                                           3.181447                                         \n",
       "ENSG00000000460                                           2.363683                                         \n",
       "ENSG00000000938                                          -1.049993                                         \n",
       "ENSG00000000971                                          -0.670558                                         \n",
       "\n",
       "                 G6_SLEEPAPNO-Sleep_apnoea  ...  \\\n",
       "ENSG00000000419                  -1.402812  ...   \n",
       "ENSG00000000457                   2.094172  ...   \n",
       "ENSG00000000460                  -1.480930  ...   \n",
       "ENSG00000000938                   1.669054  ...   \n",
       "ENSG00000000971                  -1.915256  ...   \n",
       "\n",
       "                 Astle_et_al_2016_Sum_basophil_neutrophil_counts  \\\n",
       "ENSG00000000419                                         1.614588   \n",
       "ENSG00000000457                                         2.582993   \n",
       "ENSG00000000460                                         1.577850   \n",
       "ENSG00000000938                                         1.369958   \n",
       "ENSG00000000971                                        -1.882554   \n",
       "\n",
       "                 RA_OKADA_TRANS_ETHNIC  pgc.scz2  PGC_ADHD_EUR_2017  \\\n",
       "ENSG00000000419               0.954165 -1.325516          -0.290283   \n",
       "ENSG00000000457               2.004654  2.918376           1.886111   \n",
       "ENSG00000000460               1.156873 -1.480989          -1.384810   \n",
       "ENSG00000000938              -0.446664 -3.131358           1.459237   \n",
       "ENSG00000000971               2.691985 -3.261818           2.756464   \n",
       "\n",
       "                 MAGIC_FastingGlucose  Astle_et_al_2016_Red_blood_cell_count  \\\n",
       "ENSG00000000419              1.009580                              -1.237774   \n",
       "ENSG00000000457              1.242073                               1.184227   \n",
       "ENSG00000000460              1.820841                               1.872488   \n",
       "ENSG00000000938              1.007082                               2.096814   \n",
       "ENSG00000000971             -1.038795                              -0.576466   \n",
       "\n",
       "                 SSGAC_Depressive_Symptoms  BCAC_ER_positive_BreastCancer_EUR  \\\n",
       "ENSG00000000419                  -1.083244                           1.711170   \n",
       "ENSG00000000457                   1.190373                           0.773194   \n",
       "ENSG00000000460                  -1.279276                          -1.054766   \n",
       "ENSG00000000938                   0.932845                          -2.452785   \n",
       "ENSG00000000971                  -3.605774                           1.423109   \n",
       "\n",
       "                 IBD.EUR.Inflammatory_Bowel_Disease  \\\n",
       "ENSG00000000419                           -1.144057   \n",
       "ENSG00000000457                           -2.302876   \n",
       "ENSG00000000460                            2.876039   \n",
       "ENSG00000000938                            1.710248   \n",
       "ENSG00000000971                           -1.578721   \n",
       "\n",
       "                 Astle_et_al_2016_High_light_scatter_reticulocyte_count  \n",
       "ENSG00000000419                                          -0.803475       \n",
       "ENSG00000000457                                           1.702888       \n",
       "ENSG00000000460                                          -2.125799       \n",
       "ENSG00000000938                                           1.730114       \n",
       "ENSG00000000971                                          -1.200703       \n",
       "\n",
       "[5 rows x 4091 columns]"
      ]
     },
     "execution_count": 27,
     "metadata": {},
     "output_type": "execute_result"
    }
   ],
   "source": [
    "data_most_signif.head()"
   ]
  },
  {
   "cell_type": "markdown",
   "metadata": {
    "papermill": {
     "duration": 0.556128,
     "end_time": "2020-12-18T23:50:28.184126",
     "exception": false,
     "start_time": "2020-12-18T23:50:27.627998",
     "status": "completed"
    },
    "tags": []
   },
   "source": [
    "# Save"
   ]
  },
  {
   "cell_type": "code",
   "execution_count": 28,
   "metadata": {
    "execution": {
     "iopub.execute_input": "2020-12-18T23:50:29.304854Z",
     "iopub.status.busy": "2020-12-18T23:50:29.304440Z",
     "iopub.status.idle": "2020-12-18T23:50:29.312419Z",
     "shell.execute_reply": "2020-12-18T23:50:29.312051Z"
    },
    "papermill": {
     "duration": 0.572249,
     "end_time": "2020-12-18T23:50:29.312505",
     "exception": false,
     "start_time": "2020-12-18T23:50:28.740256",
     "status": "completed"
    },
    "tags": []
   },
   "outputs": [],
   "source": [
    "output_folder = Path(\n",
    "    conf.PHENOMEXCAN[\"SPREDIXCAN_MASHR_ZSCORES_FOLDER\"],\n",
    "    \"most_signif\",\n",
    ").resolve()\n",
    "output_folder.mkdir(exist_ok=True)"
   ]
  },
  {
   "cell_type": "code",
   "execution_count": 29,
   "metadata": {
    "execution": {
     "iopub.execute_input": "2020-12-18T23:50:30.425226Z",
     "iopub.status.busy": "2020-12-18T23:50:30.424836Z",
     "iopub.status.idle": "2020-12-18T23:50:30.433366Z",
     "shell.execute_reply": "2020-12-18T23:50:30.433007Z"
    },
    "papermill": {
     "duration": 0.566996,
     "end_time": "2020-12-18T23:50:30.433450",
     "exception": false,
     "start_time": "2020-12-18T23:50:29.866454",
     "status": "completed"
    },
    "tags": []
   },
   "outputs": [
    {
     "data": {
      "text/plain": [
       "PosixPath('/home/miltondp/projects/labs/greenelab/phenoplier/base/data/phenomexcan/gene_assoc/spredixcan/most_signif/spredixcan-most_signif.pkl')"
      ]
     },
     "metadata": {},
     "output_type": "display_data"
    }
   ],
   "source": [
    "output_file = Path(output_folder, \"spredixcan-most_signif.pkl\").resolve()\n",
    "display(output_file)"
   ]
  },
  {
   "cell_type": "code",
   "execution_count": 30,
   "metadata": {
    "execution": {
     "iopub.execute_input": "2020-12-18T23:50:31.596320Z",
     "iopub.status.busy": "2020-12-18T23:50:31.595952Z",
     "iopub.status.idle": "2020-12-18T23:50:32.300745Z",
     "shell.execute_reply": "2020-12-18T23:50:32.300363Z"
    },
    "papermill": {
     "duration": 1.296338,
     "end_time": "2020-12-18T23:50:32.300840",
     "exception": false,
     "start_time": "2020-12-18T23:50:31.004502",
     "status": "completed"
    },
    "tags": []
   },
   "outputs": [],
   "source": [
    "data_most_signif.to_pickle(output_file)"
   ]
  }
 ],
 "metadata": {
  "jupytext": {
   "formats": "ipynb,py//py:percent"
  },
  "kernelspec": {
   "display_name": "Python 3",
   "language": "python",
   "name": "python3"
  },
  "language_info": {
   "codemirror_mode": {
    "name": "ipython",
    "version": 3
   },
   "file_extension": ".py",
   "mimetype": "text/x-python",
   "name": "python",
   "nbconvert_exporter": "python",
   "pygments_lexer": "ipython3",
   "version": "3.8.6"
  },
  "papermill": {
   "default_parameters": {},
   "duration": 4334.257345,
   "end_time": "2020-12-18T23:50:34.771313",
   "environment_variables": {},
   "exception": null,
   "input_path": "15_drug_disease_associations/000-spredixcan_most_significant.ipynb",
   "output_path": "15_drug_disease_associations/000-spredixcan_most_significant.run.ipynb",
   "parameters": {},
   "start_time": "2020-12-18T22:38:20.513968",
   "version": "2.2.2"
  }
 },
 "nbformat": 4,
 "nbformat_minor": 4
}
