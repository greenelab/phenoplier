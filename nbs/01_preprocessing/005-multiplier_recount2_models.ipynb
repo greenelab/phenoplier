{
 "cells": [
  {
   "cell_type": "markdown",
   "metadata": {
    "papermill": {
     "duration": 0.070346,
     "end_time": "2021-07-30T15:49:07.023904",
     "exception": false,
     "start_time": "2021-07-30T15:49:06.953558",
     "status": "completed"
    },
    "tags": []
   },
   "source": [
    "# Description"
   ]
  },
  {
   "cell_type": "markdown",
   "metadata": {
    "papermill": {
     "duration": 0.032667,
     "end_time": "2021-07-30T15:49:07.089954",
     "exception": false,
     "start_time": "2021-07-30T15:49:07.057287",
     "status": "completed"
    },
    "tags": []
   },
   "source": [
    "This notebook reads all matrices from the MultiPLIER model (https://github.com/greenelab/multi-plier) trained in recount2, like gene loadings (Z) or the\n",
    "latent space (B), and saves them into a Python friendly format (Pandas DataFrames in pickle format for faster/easier loading, and tsv for universal access)."
   ]
  },
  {
   "cell_type": "markdown",
   "metadata": {
    "papermill": {
     "duration": 0.03348,
     "end_time": "2021-07-30T15:49:07.156399",
     "exception": false,
     "start_time": "2021-07-30T15:49:07.122919",
     "status": "completed"
    },
    "tags": []
   },
   "source": [
    "# Modules loading"
   ]
  },
  {
   "cell_type": "code",
   "execution_count": 1,
   "metadata": {
    "execution": {
     "iopub.execute_input": "2021-07-30T15:49:07.233626Z",
     "iopub.status.busy": "2021-07-30T15:49:07.233250Z",
     "iopub.status.idle": "2021-07-30T15:49:07.240658Z",
     "shell.execute_reply": "2021-07-30T15:49:07.240223Z"
    },
    "papermill": {
     "duration": 0.046348,
     "end_time": "2021-07-30T15:49:07.240796",
     "exception": false,
     "start_time": "2021-07-30T15:49:07.194448",
     "status": "completed"
    },
    "tags": []
   },
   "outputs": [],
   "source": [
    "%load_ext autoreload\n",
    "%autoreload 2"
   ]
  },
  {
   "cell_type": "code",
   "execution_count": 2,
   "metadata": {
    "execution": {
     "iopub.execute_input": "2021-07-30T15:49:07.312264Z",
     "iopub.status.busy": "2021-07-30T15:49:07.311905Z",
     "iopub.status.idle": "2021-07-30T15:49:07.688046Z",
     "shell.execute_reply": "2021-07-30T15:49:07.687657Z"
    },
    "papermill": {
     "duration": 0.41199,
     "end_time": "2021-07-30T15:49:07.688134",
     "exception": false,
     "start_time": "2021-07-30T15:49:07.276144",
     "status": "completed"
    },
    "tags": []
   },
   "outputs": [],
   "source": [
    "import pickle\n",
    "\n",
    "import numpy as np\n",
    "import pandas as pd\n",
    "from IPython.display import display\n",
    "\n",
    "import rpy2.robjects as ro\n",
    "from rpy2.robjects import pandas2ri\n",
    "from rpy2.robjects.conversion import localconverter\n",
    "\n",
    "import conf"
   ]
  },
  {
   "cell_type": "code",
   "execution_count": 3,
   "metadata": {
    "execution": {
     "iopub.execute_input": "2021-07-30T15:49:07.758745Z",
     "iopub.status.busy": "2021-07-30T15:49:07.758373Z",
     "iopub.status.idle": "2021-07-30T15:49:07.767079Z",
     "shell.execute_reply": "2021-07-30T15:49:07.766702Z"
    },
    "papermill": {
     "duration": 0.04475,
     "end_time": "2021-07-30T15:49:07.767164",
     "exception": false,
     "start_time": "2021-07-30T15:49:07.722414",
     "status": "completed"
    },
    "tags": []
   },
   "outputs": [],
   "source": [
    "readRDS = ro.r[\"readRDS\"]"
   ]
  },
  {
   "cell_type": "code",
   "execution_count": 4,
   "metadata": {
    "execution": {
     "iopub.execute_input": "2021-07-30T15:49:07.837501Z",
     "iopub.status.busy": "2021-07-30T15:49:07.837137Z",
     "iopub.status.idle": "2021-07-30T15:49:07.844949Z",
     "shell.execute_reply": "2021-07-30T15:49:07.844533Z"
    },
    "papermill": {
     "duration": 0.04351,
     "end_time": "2021-07-30T15:49:07.845031",
     "exception": false,
     "start_time": "2021-07-30T15:49:07.801521",
     "status": "completed"
    },
    "tags": []
   },
   "outputs": [],
   "source": [
    "saveRDS = ro.r[\"saveRDS\"]"
   ]
  },
  {
   "cell_type": "markdown",
   "metadata": {
    "papermill": {
     "duration": 0.033863,
     "end_time": "2021-07-30T15:49:07.912903",
     "exception": false,
     "start_time": "2021-07-30T15:49:07.879040",
     "status": "completed"
    },
    "tags": []
   },
   "source": [
    "# Read MultiPLIER model"
   ]
  },
  {
   "cell_type": "code",
   "execution_count": 5,
   "metadata": {
    "execution": {
     "iopub.execute_input": "2021-07-30T15:49:07.982096Z",
     "iopub.status.busy": "2021-07-30T15:49:07.981727Z",
     "iopub.status.idle": "2021-07-30T15:49:07.993946Z",
     "shell.execute_reply": "2021-07-30T15:49:07.993580Z"
    },
    "papermill": {
     "duration": 0.047928,
     "end_time": "2021-07-30T15:49:07.994029",
     "exception": false,
     "start_time": "2021-07-30T15:49:07.946101",
     "status": "completed"
    },
    "tags": []
   },
   "outputs": [
    {
     "data": {
      "text/plain": [
       "PosixPath('/home/miltondp/projects/labs/greenelab/phenoplier/base/data/multiplier/recount_PLIER_model.RDS')"
      ]
     },
     "execution_count": 5,
     "metadata": {},
     "output_type": "execute_result"
    }
   ],
   "source": [
    "conf.MULTIPLIER[\"RECOUNT2_MODEL_FILE\"]"
   ]
  },
  {
   "cell_type": "code",
   "execution_count": 6,
   "metadata": {
    "execution": {
     "iopub.execute_input": "2021-07-30T15:49:08.065168Z",
     "iopub.status.busy": "2021-07-30T15:49:08.064794Z",
     "iopub.status.idle": "2021-07-30T15:49:23.203805Z",
     "shell.execute_reply": "2021-07-30T15:49:23.204110Z"
    },
    "papermill": {
     "duration": 15.175156,
     "end_time": "2021-07-30T15:49:23.204214",
     "exception": false,
     "start_time": "2021-07-30T15:49:08.029058",
     "status": "completed"
    },
    "tags": []
   },
   "outputs": [],
   "source": [
    "multiplier_full_model = readRDS(str(conf.MULTIPLIER[\"RECOUNT2_MODEL_FILE\"]))"
   ]
  },
  {
   "cell_type": "markdown",
   "metadata": {
    "papermill": {
     "duration": 0.036132,
     "end_time": "2021-07-30T15:49:23.278070",
     "exception": false,
     "start_time": "2021-07-30T15:49:23.241938",
     "status": "completed"
    },
    "tags": []
   },
   "source": [
    "# Summary matrix"
   ]
  },
  {
   "cell_type": "code",
   "execution_count": 7,
   "metadata": {
    "execution": {
     "iopub.execute_input": "2021-07-30T15:49:23.348237Z",
     "iopub.status.busy": "2021-07-30T15:49:23.347879Z",
     "iopub.status.idle": "2021-07-30T15:49:23.355384Z",
     "shell.execute_reply": "2021-07-30T15:49:23.355080Z"
    },
    "papermill": {
     "duration": 0.043402,
     "end_time": "2021-07-30T15:49:23.355470",
     "exception": false,
     "start_time": "2021-07-30T15:49:23.312068",
     "status": "completed"
    },
    "tags": []
   },
   "outputs": [],
   "source": [
    "multiplier_model_matrix = multiplier_full_model.rx2(\"summary\")"
   ]
  },
  {
   "cell_type": "code",
   "execution_count": 8,
   "metadata": {
    "execution": {
     "iopub.execute_input": "2021-07-30T15:49:23.425504Z",
     "iopub.status.busy": "2021-07-30T15:49:23.425143Z",
     "iopub.status.idle": "2021-07-30T15:49:23.434322Z",
     "shell.execute_reply": "2021-07-30T15:49:23.433953Z"
    },
    "papermill": {
     "duration": 0.045185,
     "end_time": "2021-07-30T15:49:23.434405",
     "exception": false,
     "start_time": "2021-07-30T15:49:23.389220",
     "status": "completed"
    },
    "tags": []
   },
   "outputs": [
    {
     "data": {
      "text/html": [
       "\n",
       "        <span>R/rpy2 DataFrame (2157 x 5)</span>\n",
       "        <table>\n",
       "          <thead>\n",
       "            <tr>\n",
       "              \n",
       "              <th>pathway</th>\n",
       "              \n",
       "              <th>LV index</th>\n",
       "              \n",
       "              <th>AUC</th>\n",
       "              \n",
       "              <th>p-value</th>\n",
       "              \n",
       "              <th>FDR</th>\n",
       "              \n",
       "            </tr>\n",
       "          </thead>\n",
       "          <tbody>\n",
       "          \n",
       "          <tr>\n",
       "            \n",
       "            <td>\n",
       "              ...\n",
       "            </td>\n",
       "            \n",
       "            <td>\n",
       "              ...\n",
       "            </td>\n",
       "            \n",
       "            <td>\n",
       "              ...\n",
       "            </td>\n",
       "            \n",
       "            <td>\n",
       "              ...\n",
       "            </td>\n",
       "            \n",
       "            <td>\n",
       "              ...\n",
       "            </td>\n",
       "            \n",
       "          </tr>\n",
       "          \n",
       "          </tbody>\n",
       "        </table>\n",
       "    "
      ],
      "text/plain": [
       "R object with classes: ('data.frame',) mapped to:\n",
       "[StrSexp..., StrSexp..., FloatSe..., FloatSe..., FloatSe...]\n",
       "  pathway: <class 'rpy2.rinterface_lib.sexp.StrSexpVector'>\n",
       "  <rpy2.rinterface_lib.sexp.StrSexpVector object at 0x7f9ab8091040> [RTYPES.STRSXP]\n",
       "  LV index: <class 'rpy2.rinterface_lib.sexp.StrSexpVector'>\n",
       "  <rpy2.rinterface_lib.sexp.StrSexpVector object at 0x7f9ab8091200> [RTYPES.STRSXP]\n",
       "  AUC: <class 'rpy2.rinterface.FloatSexpVector'>\n",
       "  <rpy2.rinterface.FloatSexpVector object at 0x7f9ab8091480> [RTYPES.REALSXP]\n",
       "  p-value: <class 'rpy2.rinterface.FloatSexpVector'>\n",
       "  <rpy2.rinterface.FloatSexpVector object at 0x7f9ab8091780> [RTYPES.REALSXP]\n",
       "  FDR: <class 'rpy2.rinterface.FloatSexpVector'>\n",
       "  <rpy2.rinterface.FloatSexpVector object at 0x7f9ab80912c0> [RTYPES.REALSXP]"
      ]
     },
     "execution_count": 8,
     "metadata": {},
     "output_type": "execute_result"
    }
   ],
   "source": [
    "multiplier_model_matrix"
   ]
  },
  {
   "cell_type": "code",
   "execution_count": 9,
   "metadata": {
    "execution": {
     "iopub.execute_input": "2021-07-30T15:49:23.506310Z",
     "iopub.status.busy": "2021-07-30T15:49:23.505945Z",
     "iopub.status.idle": "2021-07-30T15:49:23.514787Z",
     "shell.execute_reply": "2021-07-30T15:49:23.514439Z"
    },
    "papermill": {
     "duration": 0.045576,
     "end_time": "2021-07-30T15:49:23.514866",
     "exception": false,
     "start_time": "2021-07-30T15:49:23.469290",
     "status": "completed"
    },
    "tags": []
   },
   "outputs": [
    {
     "data": {
      "text/html": [
       "\n",
       "        <span>StrVector with 2157 elements.</span>\n",
       "        <table>\n",
       "        <tbody>\n",
       "          <tr>\n",
       "          \n",
       "            <td>\n",
       "            '1'\n",
       "            </td>\n",
       "          \n",
       "            <td>\n",
       "            '2'\n",
       "            </td>\n",
       "          \n",
       "            <td>\n",
       "            '3'\n",
       "            </td>\n",
       "          \n",
       "            <td>\n",
       "            ...\n",
       "            </td>\n",
       "          \n",
       "            <td>\n",
       "            '2155'\n",
       "            </td>\n",
       "          \n",
       "            <td>\n",
       "            '2156'\n",
       "            </td>\n",
       "          \n",
       "            <td>\n",
       "            '2157'\n",
       "            </td>\n",
       "          \n",
       "          </tr>\n",
       "        </tbody>\n",
       "        </table>\n",
       "        "
      ],
      "text/plain": [
       "R object with classes: ('character',) mapped to:\n",
       "['1', '2', '3', '4', ..., '2154', '2155', '2156', '2157']"
      ]
     },
     "execution_count": 9,
     "metadata": {},
     "output_type": "execute_result"
    }
   ],
   "source": [
    "multiplier_model_matrix.rownames"
   ]
  },
  {
   "cell_type": "code",
   "execution_count": 10,
   "metadata": {
    "execution": {
     "iopub.execute_input": "2021-07-30T15:49:23.588795Z",
     "iopub.status.busy": "2021-07-30T15:49:23.588345Z",
     "iopub.status.idle": "2021-07-30T15:49:23.596684Z",
     "shell.execute_reply": "2021-07-30T15:49:23.596979Z"
    },
    "papermill": {
     "duration": 0.047312,
     "end_time": "2021-07-30T15:49:23.597085",
     "exception": false,
     "start_time": "2021-07-30T15:49:23.549773",
     "status": "completed"
    },
    "tags": []
   },
   "outputs": [
    {
     "data": {
      "text/html": [
       "\n",
       "        <span>StrVector with 5 elements.</span>\n",
       "        <table>\n",
       "        <tbody>\n",
       "          <tr>\n",
       "          \n",
       "            <td>\n",
       "            'pathway'\n",
       "            </td>\n",
       "          \n",
       "            <td>\n",
       "            'LV ind...\n",
       "            </td>\n",
       "          \n",
       "            <td>\n",
       "            'AUC'\n",
       "            </td>\n",
       "          \n",
       "            <td>\n",
       "            'p-value'\n",
       "            </td>\n",
       "          \n",
       "            <td>\n",
       "            'FDR'\n",
       "            </td>\n",
       "          \n",
       "          </tr>\n",
       "        </tbody>\n",
       "        </table>\n",
       "        "
      ],
      "text/plain": [
       "R object with classes: ('character',) mapped to:\n",
       "['pathway', 'LV ind..., 'AUC', 'p-value', 'FDR']"
      ]
     },
     "execution_count": 10,
     "metadata": {},
     "output_type": "execute_result"
    }
   ],
   "source": [
    "multiplier_model_matrix.colnames"
   ]
  },
  {
   "cell_type": "code",
   "execution_count": 11,
   "metadata": {
    "execution": {
     "iopub.execute_input": "2021-07-30T15:49:23.670878Z",
     "iopub.status.busy": "2021-07-30T15:49:23.670518Z",
     "iopub.status.idle": "2021-07-30T15:49:23.721414Z",
     "shell.execute_reply": "2021-07-30T15:49:23.721031Z"
    },
    "papermill": {
     "duration": 0.088411,
     "end_time": "2021-07-30T15:49:23.721501",
     "exception": false,
     "start_time": "2021-07-30T15:49:23.633090",
     "status": "completed"
    },
    "tags": []
   },
   "outputs": [],
   "source": [
    "with localconverter(ro.default_converter + pandas2ri.converter):\n",
    "    multiplier_model_matrix_values = ro.conversion.rpy2py(multiplier_model_matrix)"
   ]
  },
  {
   "cell_type": "code",
   "execution_count": 12,
   "metadata": {
    "execution": {
     "iopub.execute_input": "2021-07-30T15:49:23.793957Z",
     "iopub.status.busy": "2021-07-30T15:49:23.793594Z",
     "iopub.status.idle": "2021-07-30T15:49:23.801993Z",
     "shell.execute_reply": "2021-07-30T15:49:23.801658Z"
    },
    "papermill": {
     "duration": 0.045547,
     "end_time": "2021-07-30T15:49:23.802074",
     "exception": false,
     "start_time": "2021-07-30T15:49:23.756527",
     "status": "completed"
    },
    "tags": []
   },
   "outputs": [],
   "source": [
    "multiplier_model_matrix_df = pd.DataFrame(\n",
    "    data=multiplier_model_matrix_values,\n",
    "    #     index=multiplier_model_matrix.rownames,\n",
    "    columns=multiplier_model_matrix.colnames,\n",
    ")"
   ]
  },
  {
   "cell_type": "code",
   "execution_count": 13,
   "metadata": {
    "execution": {
     "iopub.execute_input": "2021-07-30T15:49:23.874586Z",
     "iopub.status.busy": "2021-07-30T15:49:23.874211Z",
     "iopub.status.idle": "2021-07-30T15:49:23.882560Z",
     "shell.execute_reply": "2021-07-30T15:49:23.882200Z"
    },
    "papermill": {
     "duration": 0.045247,
     "end_time": "2021-07-30T15:49:23.882639",
     "exception": false,
     "start_time": "2021-07-30T15:49:23.837392",
     "status": "completed"
    },
    "tags": []
   },
   "outputs": [
    {
     "data": {
      "text/plain": [
       "(2157, 5)"
      ]
     },
     "metadata": {},
     "output_type": "display_data"
    }
   ],
   "source": [
    "display(multiplier_model_matrix_df.shape)\n",
    "assert multiplier_model_matrix_df.shape == (2157, 5)"
   ]
  },
  {
   "cell_type": "code",
   "execution_count": 14,
   "metadata": {
    "execution": {
     "iopub.execute_input": "2021-07-30T15:49:23.956331Z",
     "iopub.status.busy": "2021-07-30T15:49:23.955968Z",
     "iopub.status.idle": "2021-07-30T15:49:23.969228Z",
     "shell.execute_reply": "2021-07-30T15:49:23.968856Z"
    },
    "lines_to_next_cell": 1,
    "papermill": {
     "duration": 0.05092,
     "end_time": "2021-07-30T15:49:23.969312",
     "exception": false,
     "start_time": "2021-07-30T15:49:23.918392",
     "status": "completed"
    },
    "tags": []
   },
   "outputs": [
    {
     "data": {
      "text/html": [
       "<div>\n",
       "<style scoped>\n",
       "    .dataframe tbody tr th:only-of-type {\n",
       "        vertical-align: middle;\n",
       "    }\n",
       "\n",
       "    .dataframe tbody tr th {\n",
       "        vertical-align: top;\n",
       "    }\n",
       "\n",
       "    .dataframe thead th {\n",
       "        text-align: right;\n",
       "    }\n",
       "</style>\n",
       "<table border=\"1\" class=\"dataframe\">\n",
       "  <thead>\n",
       "    <tr style=\"text-align: right;\">\n",
       "      <th></th>\n",
       "      <th>pathway</th>\n",
       "      <th>LV index</th>\n",
       "      <th>AUC</th>\n",
       "      <th>p-value</th>\n",
       "      <th>FDR</th>\n",
       "    </tr>\n",
       "  </thead>\n",
       "  <tbody>\n",
       "    <tr>\n",
       "      <th>1</th>\n",
       "      <td>KEGG_LYSINE_DEGRADATION</td>\n",
       "      <td>1</td>\n",
       "      <td>0.388059</td>\n",
       "      <td>0.866078</td>\n",
       "      <td>0.956005</td>\n",
       "    </tr>\n",
       "    <tr>\n",
       "      <th>2</th>\n",
       "      <td>REACTOME_MRNA_SPLICING</td>\n",
       "      <td>1</td>\n",
       "      <td>0.733057</td>\n",
       "      <td>0.000048</td>\n",
       "      <td>0.000582</td>\n",
       "    </tr>\n",
       "    <tr>\n",
       "      <th>3</th>\n",
       "      <td>MIPS_NOP56P_ASSOCIATED_PRE_RRNA_COMPLEX</td>\n",
       "      <td>1</td>\n",
       "      <td>0.680555</td>\n",
       "      <td>0.001628</td>\n",
       "      <td>0.011366</td>\n",
       "    </tr>\n",
       "    <tr>\n",
       "      <th>4</th>\n",
       "      <td>KEGG_DNA_REPLICATION</td>\n",
       "      <td>1</td>\n",
       "      <td>0.549473</td>\n",
       "      <td>0.312155</td>\n",
       "      <td>0.539951</td>\n",
       "    </tr>\n",
       "    <tr>\n",
       "      <th>5</th>\n",
       "      <td>PID_MYC_ACTIVPATHWAY</td>\n",
       "      <td>1</td>\n",
       "      <td>0.639303</td>\n",
       "      <td>0.021702</td>\n",
       "      <td>0.083739</td>\n",
       "    </tr>\n",
       "  </tbody>\n",
       "</table>\n",
       "</div>"
      ],
      "text/plain": [
       "                                   pathway LV index       AUC   p-value  \\\n",
       "1                  KEGG_LYSINE_DEGRADATION        1  0.388059  0.866078   \n",
       "2                   REACTOME_MRNA_SPLICING        1  0.733057  0.000048   \n",
       "3  MIPS_NOP56P_ASSOCIATED_PRE_RRNA_COMPLEX        1  0.680555  0.001628   \n",
       "4                     KEGG_DNA_REPLICATION        1  0.549473  0.312155   \n",
       "5                     PID_MYC_ACTIVPATHWAY        1  0.639303  0.021702   \n",
       "\n",
       "        FDR  \n",
       "1  0.956005  \n",
       "2  0.000582  \n",
       "3  0.011366  \n",
       "4  0.539951  \n",
       "5  0.083739  "
      ]
     },
     "execution_count": 14,
     "metadata": {},
     "output_type": "execute_result"
    }
   ],
   "source": [
    "multiplier_model_matrix_df.head()"
   ]
  },
  {
   "cell_type": "code",
   "execution_count": 15,
   "metadata": {
    "execution": {
     "iopub.execute_input": "2021-07-30T15:49:24.044003Z",
     "iopub.status.busy": "2021-07-30T15:49:24.043630Z",
     "iopub.status.idle": "2021-07-30T15:49:24.054883Z",
     "shell.execute_reply": "2021-07-30T15:49:24.055162Z"
    },
    "papermill": {
     "duration": 0.050312,
     "end_time": "2021-07-30T15:49:24.055269",
     "exception": false,
     "start_time": "2021-07-30T15:49:24.004957",
     "status": "completed"
    },
    "tags": []
   },
   "outputs": [],
   "source": [
    "def to_scinum(x):\n",
    "    return np.format_float_scientific(x, 6)\n",
    "\n",
    "\n",
    "# make sure I'm seeing the same when loaded with R\n",
    "_tmp = multiplier_model_matrix_df.set_index([\"pathway\", \"LV index\"])\n",
    "\n",
    "assert _tmp.loc[(\"KEGG_LYSINE_DEGRADATION\", \"1\")][\"AUC\"].round(7) == 0.3880591\n",
    "assert (\n",
    "    to_scinum(_tmp.loc[(\"KEGG_LYSINE_DEGRADATION\", \"1\")][\"p-value\"]) == \"8.660782e-01\"\n",
    ")\n",
    "assert _tmp.loc[(\"KEGG_LYSINE_DEGRADATION\", \"1\")][\"FDR\"].round(10) == 0.9560054810\n",
    "\n",
    "assert _tmp.loc[(\"IRIS_Monocyte-Day0\", \"2\")][\"AUC\"].round(7) == 0.8900356\n",
    "assert to_scinum(_tmp.loc[(\"IRIS_Monocyte-Day0\", \"2\")][\"p-value\"]) == \"4.315812e-25\"\n",
    "assert to_scinum(_tmp.loc[(\"IRIS_Monocyte-Day0\", \"2\")][\"FDR\"]) == \"1.329887e-22\""
   ]
  },
  {
   "cell_type": "markdown",
   "metadata": {
    "papermill": {
     "duration": 0.035317,
     "end_time": "2021-07-30T15:49:24.126369",
     "exception": false,
     "start_time": "2021-07-30T15:49:24.091052",
     "status": "completed"
    },
    "tags": []
   },
   "source": [
    "## Save"
   ]
  },
  {
   "cell_type": "markdown",
   "metadata": {
    "papermill": {
     "duration": 0.035684,
     "end_time": "2021-07-30T15:49:24.197418",
     "exception": false,
     "start_time": "2021-07-30T15:49:24.161734",
     "status": "completed"
    },
    "tags": []
   },
   "source": [
    "### Pickle format"
   ]
  },
  {
   "cell_type": "code",
   "execution_count": 16,
   "metadata": {
    "execution": {
     "iopub.execute_input": "2021-07-30T15:49:24.278688Z",
     "iopub.status.busy": "2021-07-30T15:49:24.278284Z",
     "iopub.status.idle": "2021-07-30T15:49:24.286648Z",
     "shell.execute_reply": "2021-07-30T15:49:24.286256Z"
    },
    "papermill": {
     "duration": 0.051912,
     "end_time": "2021-07-30T15:49:24.286736",
     "exception": false,
     "start_time": "2021-07-30T15:49:24.234824",
     "status": "completed"
    },
    "tags": []
   },
   "outputs": [
    {
     "data": {
      "text/plain": [
       "PosixPath('/home/miltondp/projects/labs/greenelab/phenoplier/base/data/multiplier/multiplier_model_summary.pkl')"
      ]
     },
     "metadata": {},
     "output_type": "display_data"
    }
   ],
   "source": [
    "output_file = conf.MULTIPLIER[\"MODEL_SUMMARY_FILE\"]\n",
    "display(output_file)"
   ]
  },
  {
   "cell_type": "code",
   "execution_count": 17,
   "metadata": {
    "execution": {
     "iopub.execute_input": "2021-07-30T15:49:24.387340Z",
     "iopub.status.busy": "2021-07-30T15:49:24.386956Z",
     "iopub.status.idle": "2021-07-30T15:49:24.395778Z",
     "shell.execute_reply": "2021-07-30T15:49:24.395448Z"
    },
    "papermill": {
     "duration": 0.05275,
     "end_time": "2021-07-30T15:49:24.395870",
     "exception": false,
     "start_time": "2021-07-30T15:49:24.343120",
     "status": "completed"
    },
    "tags": []
   },
   "outputs": [],
   "source": [
    "multiplier_model_matrix_df.to_pickle(output_file)"
   ]
  },
  {
   "cell_type": "markdown",
   "metadata": {
    "papermill": {
     "duration": 0.035934,
     "end_time": "2021-07-30T15:49:24.468417",
     "exception": false,
     "start_time": "2021-07-30T15:49:24.432483",
     "status": "completed"
    },
    "tags": []
   },
   "source": [
    "### RDS format"
   ]
  },
  {
   "cell_type": "code",
   "execution_count": 18,
   "metadata": {
    "execution": {
     "iopub.execute_input": "2021-07-30T15:49:24.542695Z",
     "iopub.status.busy": "2021-07-30T15:49:24.542319Z",
     "iopub.status.idle": "2021-07-30T15:49:24.550697Z",
     "shell.execute_reply": "2021-07-30T15:49:24.550324Z"
    },
    "papermill": {
     "duration": 0.046585,
     "end_time": "2021-07-30T15:49:24.550781",
     "exception": false,
     "start_time": "2021-07-30T15:49:24.504196",
     "status": "completed"
    },
    "tags": []
   },
   "outputs": [
    {
     "data": {
      "text/plain": [
       "PosixPath('/home/miltondp/projects/labs/greenelab/phenoplier/base/data/multiplier/multiplier_model_summary.rds')"
      ]
     },
     "metadata": {},
     "output_type": "display_data"
    }
   ],
   "source": [
    "output_rds_file = output_file.with_suffix(\".rds\")\n",
    "display(output_rds_file)"
   ]
  },
  {
   "cell_type": "code",
   "execution_count": 19,
   "metadata": {
    "execution": {
     "iopub.execute_input": "2021-07-30T15:49:24.627891Z",
     "iopub.status.busy": "2021-07-30T15:49:24.627508Z",
     "iopub.status.idle": "2021-07-30T15:49:24.640541Z",
     "shell.execute_reply": "2021-07-30T15:49:24.640169Z"
    },
    "papermill": {
     "duration": 0.051958,
     "end_time": "2021-07-30T15:49:24.640626",
     "exception": false,
     "start_time": "2021-07-30T15:49:24.588668",
     "status": "completed"
    },
    "tags": []
   },
   "outputs": [
    {
     "data": {
      "text/plain": [
       "<rpy2.rinterface_lib.sexp.NULLType object at 0x7f9ab88f0d00> [RTYPES.NILSXP]"
      ]
     },
     "execution_count": 19,
     "metadata": {},
     "output_type": "execute_result"
    }
   ],
   "source": [
    "saveRDS(multiplier_model_matrix, str(output_rds_file))"
   ]
  },
  {
   "cell_type": "markdown",
   "metadata": {
    "papermill": {
     "duration": 0.03629,
     "end_time": "2021-07-30T15:49:24.715596",
     "exception": false,
     "start_time": "2021-07-30T15:49:24.679306",
     "status": "completed"
    },
    "tags": []
   },
   "source": [
    "### Text format"
   ]
  },
  {
   "cell_type": "code",
   "execution_count": 20,
   "metadata": {
    "execution": {
     "iopub.execute_input": "2021-07-30T15:49:24.791207Z",
     "iopub.status.busy": "2021-07-30T15:49:24.790848Z",
     "iopub.status.idle": "2021-07-30T15:49:24.798898Z",
     "shell.execute_reply": "2021-07-30T15:49:24.798540Z"
    },
    "papermill": {
     "duration": 0.046981,
     "end_time": "2021-07-30T15:49:24.798980",
     "exception": false,
     "start_time": "2021-07-30T15:49:24.751999",
     "status": "completed"
    },
    "tags": []
   },
   "outputs": [
    {
     "data": {
      "text/plain": [
       "PosixPath('/home/miltondp/projects/labs/greenelab/phenoplier/base/data/multiplier/multiplier_model_summary.tsv.gz')"
      ]
     },
     "metadata": {},
     "output_type": "display_data"
    }
   ],
   "source": [
    "# tsv format\n",
    "output_text_file = output_file.with_suffix(\".tsv.gz\")\n",
    "display(output_text_file)"
   ]
  },
  {
   "cell_type": "code",
   "execution_count": 21,
   "metadata": {
    "execution": {
     "iopub.execute_input": "2021-07-30T15:49:24.875995Z",
     "iopub.status.busy": "2021-07-30T15:49:24.875626Z",
     "iopub.status.idle": "2021-07-30T15:49:24.924624Z",
     "shell.execute_reply": "2021-07-30T15:49:24.924240Z"
    },
    "papermill": {
     "duration": 0.088243,
     "end_time": "2021-07-30T15:49:24.924744",
     "exception": false,
     "start_time": "2021-07-30T15:49:24.836501",
     "status": "completed"
    },
    "tags": []
   },
   "outputs": [],
   "source": [
    "multiplier_model_matrix_df.to_csv(\n",
    "    output_text_file, sep=\"\\t\", index=False, float_format=\"%.5e\"\n",
    ")"
   ]
  },
  {
   "cell_type": "markdown",
   "metadata": {
    "papermill": {
     "duration": 0.03643,
     "end_time": "2021-07-30T15:49:24.998131",
     "exception": false,
     "start_time": "2021-07-30T15:49:24.961701",
     "status": "completed"
    },
    "tags": []
   },
   "source": [
    "# Matrix Z (loadings; genes x LVs)"
   ]
  },
  {
   "cell_type": "code",
   "execution_count": 22,
   "metadata": {
    "execution": {
     "iopub.execute_input": "2021-07-30T15:49:25.074011Z",
     "iopub.status.busy": "2021-07-30T15:49:25.073651Z",
     "iopub.status.idle": "2021-07-30T15:49:25.081249Z",
     "shell.execute_reply": "2021-07-30T15:49:25.080890Z"
    },
    "papermill": {
     "duration": 0.046388,
     "end_time": "2021-07-30T15:49:25.081332",
     "exception": false,
     "start_time": "2021-07-30T15:49:25.034944",
     "status": "completed"
    },
    "tags": []
   },
   "outputs": [],
   "source": [
    "multiplier_model_matrix = multiplier_full_model.rx2(\"Z\")"
   ]
  },
  {
   "cell_type": "code",
   "execution_count": 23,
   "metadata": {
    "execution": {
     "iopub.execute_input": "2021-07-30T15:49:25.157361Z",
     "iopub.status.busy": "2021-07-30T15:49:25.157003Z",
     "iopub.status.idle": "2021-07-30T15:49:25.165445Z",
     "shell.execute_reply": "2021-07-30T15:49:25.165075Z"
    },
    "papermill": {
     "duration": 0.047823,
     "end_time": "2021-07-30T15:49:25.165529",
     "exception": false,
     "start_time": "2021-07-30T15:49:25.117706",
     "status": "completed"
    },
    "tags": []
   },
   "outputs": [
    {
     "data": {
      "text/html": [
       "\n",
       "        <span>FloatMatrix with 6662250 elements.</span>\n",
       "        <table>\n",
       "        <tbody>\n",
       "          <tr>\n",
       "          \n",
       "            <td>\n",
       "            0.000000\n",
       "            </td>\n",
       "          \n",
       "            <td>\n",
       "            0.000000\n",
       "            </td>\n",
       "          \n",
       "            <td>\n",
       "            0.000000\n",
       "            </td>\n",
       "          \n",
       "            <td>\n",
       "            ...\n",
       "            </td>\n",
       "          \n",
       "            <td>\n",
       "            0.003215\n",
       "            </td>\n",
       "          \n",
       "            <td>\n",
       "            0.042435\n",
       "            </td>\n",
       "          \n",
       "            <td>\n",
       "            0.287909\n",
       "            </td>\n",
       "          \n",
       "          </tr>\n",
       "        </tbody>\n",
       "        </table>\n",
       "        "
      ],
      "text/plain": [
       "R object with classes: ('matrix',) mapped to:\n",
       "[0.000000, 0.000000, 0.000000, 0.305212, ..., 0.031268, 0.003215, 0.042435, 0.287909]"
      ]
     },
     "execution_count": 23,
     "metadata": {},
     "output_type": "execute_result"
    }
   ],
   "source": [
    "multiplier_model_matrix"
   ]
  },
  {
   "cell_type": "code",
   "execution_count": 24,
   "metadata": {
    "execution": {
     "iopub.execute_input": "2021-07-30T15:49:25.246610Z",
     "iopub.status.busy": "2021-07-30T15:49:25.246171Z",
     "iopub.status.idle": "2021-07-30T15:49:25.255713Z",
     "shell.execute_reply": "2021-07-30T15:49:25.255267Z"
    },
    "papermill": {
     "duration": 0.051894,
     "end_time": "2021-07-30T15:49:25.255813",
     "exception": false,
     "start_time": "2021-07-30T15:49:25.203919",
     "status": "completed"
    },
    "tags": []
   },
   "outputs": [
    {
     "data": {
      "text/html": [
       "\n",
       "        <span>StrVector with 6750 elements.</span>\n",
       "        <table>\n",
       "        <tbody>\n",
       "          <tr>\n",
       "          \n",
       "            <td>\n",
       "            'GAS6'\n",
       "            </td>\n",
       "          \n",
       "            <td>\n",
       "            'MMP14'\n",
       "            </td>\n",
       "          \n",
       "            <td>\n",
       "            'DSP'\n",
       "            </td>\n",
       "          \n",
       "            <td>\n",
       "            ...\n",
       "            </td>\n",
       "          \n",
       "            <td>\n",
       "            'PLEKHG6'\n",
       "            </td>\n",
       "          \n",
       "            <td>\n",
       "            'GNGT2'\n",
       "            </td>\n",
       "          \n",
       "            <td>\n",
       "            'SERPINH1'\n",
       "            </td>\n",
       "          \n",
       "          </tr>\n",
       "        </tbody>\n",
       "        </table>\n",
       "        "
      ],
      "text/plain": [
       "R object with classes: ('character',) mapped to:\n",
       "['GAS6', 'MMP14', 'DSP', 'MARCKSL1', ..., 'NFIB', 'PLEKHG6', 'GNGT2', 'SERPINH1']"
      ]
     },
     "execution_count": 24,
     "metadata": {},
     "output_type": "execute_result"
    }
   ],
   "source": [
    "multiplier_model_matrix.rownames"
   ]
  },
  {
   "cell_type": "code",
   "execution_count": 25,
   "metadata": {
    "execution": {
     "iopub.execute_input": "2021-07-30T15:49:25.334992Z",
     "iopub.status.busy": "2021-07-30T15:49:25.334633Z",
     "iopub.status.idle": "2021-07-30T15:49:25.343044Z",
     "shell.execute_reply": "2021-07-30T15:49:25.342673Z"
    },
    "papermill": {
     "duration": 0.047799,
     "end_time": "2021-07-30T15:49:25.343128",
     "exception": false,
     "start_time": "2021-07-30T15:49:25.295329",
     "status": "completed"
    },
    "tags": []
   },
   "outputs": [
    {
     "data": {
      "text/plain": [
       "<rpy2.rinterface_lib.sexp.NULLType object at 0x7f9ab88f0d00> [RTYPES.NILSXP]"
      ]
     },
     "execution_count": 25,
     "metadata": {},
     "output_type": "execute_result"
    }
   ],
   "source": [
    "multiplier_model_matrix.colnames"
   ]
  },
  {
   "cell_type": "code",
   "execution_count": 26,
   "metadata": {
    "execution": {
     "iopub.execute_input": "2021-07-30T15:49:25.423176Z",
     "iopub.status.busy": "2021-07-30T15:49:25.422816Z",
     "iopub.status.idle": "2021-07-30T15:49:25.440802Z",
     "shell.execute_reply": "2021-07-30T15:49:25.440458Z"
    },
    "papermill": {
     "duration": 0.058332,
     "end_time": "2021-07-30T15:49:25.440890",
     "exception": false,
     "start_time": "2021-07-30T15:49:25.382558",
     "status": "completed"
    },
    "tags": []
   },
   "outputs": [],
   "source": [
    "with localconverter(ro.default_converter + pandas2ri.converter):\n",
    "    multiplier_model_matrix_values = ro.conversion.rpy2py(multiplier_model_matrix)"
   ]
  },
  {
   "cell_type": "code",
   "execution_count": 27,
   "metadata": {
    "execution": {
     "iopub.execute_input": "2021-07-30T15:49:25.521354Z",
     "iopub.status.busy": "2021-07-30T15:49:25.520981Z",
     "iopub.status.idle": "2021-07-30T15:49:25.543809Z",
     "shell.execute_reply": "2021-07-30T15:49:25.543431Z"
    },
    "papermill": {
     "duration": 0.063089,
     "end_time": "2021-07-30T15:49:25.543893",
     "exception": false,
     "start_time": "2021-07-30T15:49:25.480804",
     "status": "completed"
    },
    "tags": []
   },
   "outputs": [],
   "source": [
    "multiplier_model_matrix_df = pd.DataFrame(\n",
    "    data=multiplier_model_matrix_values,\n",
    "    index=multiplier_model_matrix.rownames,\n",
    "    columns=[f\"LV{i}\" for i in range(1, multiplier_model_matrix.ncol + 1)],\n",
    ")"
   ]
  },
  {
   "cell_type": "code",
   "execution_count": 28,
   "metadata": {
    "execution": {
     "iopub.execute_input": "2021-07-30T15:49:25.622954Z",
     "iopub.status.busy": "2021-07-30T15:49:25.622598Z",
     "iopub.status.idle": "2021-07-30T15:49:25.630898Z",
     "shell.execute_reply": "2021-07-30T15:49:25.630547Z"
    },
    "papermill": {
     "duration": 0.047833,
     "end_time": "2021-07-30T15:49:25.630977",
     "exception": false,
     "start_time": "2021-07-30T15:49:25.583144",
     "status": "completed"
    },
    "tags": []
   },
   "outputs": [
    {
     "data": {
      "text/plain": [
       "(6750, 987)"
      ]
     },
     "metadata": {},
     "output_type": "display_data"
    }
   ],
   "source": [
    "display(multiplier_model_matrix_df.shape)\n",
    "assert multiplier_model_matrix_df.shape == (6750, 987)"
   ]
  },
  {
   "cell_type": "code",
   "execution_count": 29,
   "metadata": {
    "execution": {
     "iopub.execute_input": "2021-07-30T15:49:25.709383Z",
     "iopub.status.busy": "2021-07-30T15:49:25.709016Z",
     "iopub.status.idle": "2021-07-30T15:49:25.728762Z",
     "shell.execute_reply": "2021-07-30T15:49:25.728342Z"
    },
    "papermill": {
     "duration": 0.059996,
     "end_time": "2021-07-30T15:49:25.728844",
     "exception": false,
     "start_time": "2021-07-30T15:49:25.668848",
     "status": "completed"
    },
    "tags": []
   },
   "outputs": [
    {
     "data": {
      "text/html": [
       "<div>\n",
       "<style scoped>\n",
       "    .dataframe tbody tr th:only-of-type {\n",
       "        vertical-align: middle;\n",
       "    }\n",
       "\n",
       "    .dataframe tbody tr th {\n",
       "        vertical-align: top;\n",
       "    }\n",
       "\n",
       "    .dataframe thead th {\n",
       "        text-align: right;\n",
       "    }\n",
       "</style>\n",
       "<table border=\"1\" class=\"dataframe\">\n",
       "  <thead>\n",
       "    <tr style=\"text-align: right;\">\n",
       "      <th></th>\n",
       "      <th>LV1</th>\n",
       "      <th>LV2</th>\n",
       "      <th>LV3</th>\n",
       "      <th>LV4</th>\n",
       "      <th>LV5</th>\n",
       "      <th>LV6</th>\n",
       "      <th>LV7</th>\n",
       "      <th>LV8</th>\n",
       "      <th>LV9</th>\n",
       "      <th>LV10</th>\n",
       "      <th>...</th>\n",
       "      <th>LV978</th>\n",
       "      <th>LV979</th>\n",
       "      <th>LV980</th>\n",
       "      <th>LV981</th>\n",
       "      <th>LV982</th>\n",
       "      <th>LV983</th>\n",
       "      <th>LV984</th>\n",
       "      <th>LV985</th>\n",
       "      <th>LV986</th>\n",
       "      <th>LV987</th>\n",
       "    </tr>\n",
       "  </thead>\n",
       "  <tbody>\n",
       "    <tr>\n",
       "      <th>GAS6</th>\n",
       "      <td>0.000000</td>\n",
       "      <td>0.0</td>\n",
       "      <td>0.039438</td>\n",
       "      <td>0.0</td>\n",
       "      <td>0.050476</td>\n",
       "      <td>0.000000</td>\n",
       "      <td>0.0</td>\n",
       "      <td>0.000000</td>\n",
       "      <td>0.590949</td>\n",
       "      <td>0.000000</td>\n",
       "      <td>...</td>\n",
       "      <td>0.050125</td>\n",
       "      <td>0.00000</td>\n",
       "      <td>0.033407</td>\n",
       "      <td>0.000000</td>\n",
       "      <td>0.000000</td>\n",
       "      <td>0.005963</td>\n",
       "      <td>0.347362</td>\n",
       "      <td>0.0</td>\n",
       "      <td>0.000000</td>\n",
       "      <td>0.000000</td>\n",
       "    </tr>\n",
       "    <tr>\n",
       "      <th>MMP14</th>\n",
       "      <td>0.000000</td>\n",
       "      <td>0.0</td>\n",
       "      <td>0.000000</td>\n",
       "      <td>0.0</td>\n",
       "      <td>0.070072</td>\n",
       "      <td>0.000000</td>\n",
       "      <td>0.0</td>\n",
       "      <td>0.004904</td>\n",
       "      <td>1.720179</td>\n",
       "      <td>2.423595</td>\n",
       "      <td>...</td>\n",
       "      <td>0.000000</td>\n",
       "      <td>0.00000</td>\n",
       "      <td>0.001007</td>\n",
       "      <td>0.000000</td>\n",
       "      <td>0.035747</td>\n",
       "      <td>0.000000</td>\n",
       "      <td>0.000000</td>\n",
       "      <td>0.0</td>\n",
       "      <td>0.014978</td>\n",
       "      <td>0.000000</td>\n",
       "    </tr>\n",
       "    <tr>\n",
       "      <th>DSP</th>\n",
       "      <td>0.000000</td>\n",
       "      <td>0.0</td>\n",
       "      <td>0.000000</td>\n",
       "      <td>0.0</td>\n",
       "      <td>0.000000</td>\n",
       "      <td>0.041697</td>\n",
       "      <td>0.0</td>\n",
       "      <td>0.005718</td>\n",
       "      <td>0.000000</td>\n",
       "      <td>0.000000</td>\n",
       "      <td>...</td>\n",
       "      <td>0.020853</td>\n",
       "      <td>0.00000</td>\n",
       "      <td>0.000000</td>\n",
       "      <td>0.000000</td>\n",
       "      <td>0.000000</td>\n",
       "      <td>0.005774</td>\n",
       "      <td>0.000000</td>\n",
       "      <td>0.0</td>\n",
       "      <td>0.000000</td>\n",
       "      <td>0.416405</td>\n",
       "    </tr>\n",
       "    <tr>\n",
       "      <th>MARCKSL1</th>\n",
       "      <td>0.305212</td>\n",
       "      <td>0.0</td>\n",
       "      <td>0.000000</td>\n",
       "      <td>0.0</td>\n",
       "      <td>0.000000</td>\n",
       "      <td>0.000000</td>\n",
       "      <td>0.0</td>\n",
       "      <td>0.000000</td>\n",
       "      <td>0.161843</td>\n",
       "      <td>0.149471</td>\n",
       "      <td>...</td>\n",
       "      <td>0.027134</td>\n",
       "      <td>0.05272</td>\n",
       "      <td>0.000000</td>\n",
       "      <td>0.030189</td>\n",
       "      <td>0.060884</td>\n",
       "      <td>0.000000</td>\n",
       "      <td>0.000000</td>\n",
       "      <td>0.0</td>\n",
       "      <td>0.000000</td>\n",
       "      <td>0.448480</td>\n",
       "    </tr>\n",
       "    <tr>\n",
       "      <th>SPARC</th>\n",
       "      <td>0.000000</td>\n",
       "      <td>0.0</td>\n",
       "      <td>0.000000</td>\n",
       "      <td>0.0</td>\n",
       "      <td>0.000000</td>\n",
       "      <td>0.000000</td>\n",
       "      <td>0.0</td>\n",
       "      <td>0.000000</td>\n",
       "      <td>0.000000</td>\n",
       "      <td>0.014014</td>\n",
       "      <td>...</td>\n",
       "      <td>0.000000</td>\n",
       "      <td>0.00000</td>\n",
       "      <td>0.000000</td>\n",
       "      <td>0.000000</td>\n",
       "      <td>0.000000</td>\n",
       "      <td>0.000000</td>\n",
       "      <td>0.067779</td>\n",
       "      <td>0.0</td>\n",
       "      <td>0.122417</td>\n",
       "      <td>0.062665</td>\n",
       "    </tr>\n",
       "  </tbody>\n",
       "</table>\n",
       "<p>5 rows × 987 columns</p>\n",
       "</div>"
      ],
      "text/plain": [
       "               LV1  LV2       LV3  LV4       LV5       LV6  LV7       LV8  \\\n",
       "GAS6      0.000000  0.0  0.039438  0.0  0.050476  0.000000  0.0  0.000000   \n",
       "MMP14     0.000000  0.0  0.000000  0.0  0.070072  0.000000  0.0  0.004904   \n",
       "DSP       0.000000  0.0  0.000000  0.0  0.000000  0.041697  0.0  0.005718   \n",
       "MARCKSL1  0.305212  0.0  0.000000  0.0  0.000000  0.000000  0.0  0.000000   \n",
       "SPARC     0.000000  0.0  0.000000  0.0  0.000000  0.000000  0.0  0.000000   \n",
       "\n",
       "               LV9      LV10  ...     LV978    LV979     LV980     LV981  \\\n",
       "GAS6      0.590949  0.000000  ...  0.050125  0.00000  0.033407  0.000000   \n",
       "MMP14     1.720179  2.423595  ...  0.000000  0.00000  0.001007  0.000000   \n",
       "DSP       0.000000  0.000000  ...  0.020853  0.00000  0.000000  0.000000   \n",
       "MARCKSL1  0.161843  0.149471  ...  0.027134  0.05272  0.000000  0.030189   \n",
       "SPARC     0.000000  0.014014  ...  0.000000  0.00000  0.000000  0.000000   \n",
       "\n",
       "             LV982     LV983     LV984  LV985     LV986     LV987  \n",
       "GAS6      0.000000  0.005963  0.347362    0.0  0.000000  0.000000  \n",
       "MMP14     0.035747  0.000000  0.000000    0.0  0.014978  0.000000  \n",
       "DSP       0.000000  0.005774  0.000000    0.0  0.000000  0.416405  \n",
       "MARCKSL1  0.060884  0.000000  0.000000    0.0  0.000000  0.448480  \n",
       "SPARC     0.000000  0.000000  0.067779    0.0  0.122417  0.062665  \n",
       "\n",
       "[5 rows x 987 columns]"
      ]
     },
     "execution_count": 29,
     "metadata": {},
     "output_type": "execute_result"
    }
   ],
   "source": [
    "multiplier_model_matrix_df.head()"
   ]
  },
  {
   "cell_type": "code",
   "execution_count": 30,
   "metadata": {
    "execution": {
     "iopub.execute_input": "2021-07-30T15:49:25.809016Z",
     "iopub.status.busy": "2021-07-30T15:49:25.808572Z",
     "iopub.status.idle": "2021-07-30T15:49:25.817244Z",
     "shell.execute_reply": "2021-07-30T15:49:25.816876Z"
    },
    "papermill": {
     "duration": 0.049773,
     "end_time": "2021-07-30T15:49:25.817327",
     "exception": false,
     "start_time": "2021-07-30T15:49:25.767554",
     "status": "completed"
    },
    "tags": []
   },
   "outputs": [],
   "source": [
    "# make sure I'm seeing the same when loaded with R\n",
    "assert multiplier_model_matrix_df.loc[\"GAS6\", \"LV2\"] == 0\n",
    "assert multiplier_model_matrix_df.loc[\"GAS6\", \"LV3\"] == 0.039437739697954444\n",
    "assert multiplier_model_matrix_df.loc[\"GAS6\", \"LV984\"] == 0.3473620915326928\n",
    "assert multiplier_model_matrix_df.loc[\"GAS6\", \"LV987\"] == 0\n",
    "\n",
    "assert multiplier_model_matrix_df.loc[\"SPARC\", \"LV981\"] == 0\n",
    "assert multiplier_model_matrix_df.loc[\"SPARC\", \"LV986\"].round(8) == 0.12241734"
   ]
  },
  {
   "cell_type": "markdown",
   "metadata": {
    "papermill": {
     "duration": 0.038492,
     "end_time": "2021-07-30T15:49:25.894893",
     "exception": false,
     "start_time": "2021-07-30T15:49:25.856401",
     "status": "completed"
    },
    "tags": []
   },
   "source": [
    "## Save"
   ]
  },
  {
   "cell_type": "markdown",
   "metadata": {
    "papermill": {
     "duration": 0.038017,
     "end_time": "2021-07-30T15:49:25.970769",
     "exception": false,
     "start_time": "2021-07-30T15:49:25.932752",
     "status": "completed"
    },
    "tags": []
   },
   "source": [
    "### Pickle format"
   ]
  },
  {
   "cell_type": "code",
   "execution_count": 31,
   "metadata": {
    "execution": {
     "iopub.execute_input": "2021-07-30T15:49:26.049753Z",
     "iopub.status.busy": "2021-07-30T15:49:26.049383Z",
     "iopub.status.idle": "2021-07-30T15:49:26.057529Z",
     "shell.execute_reply": "2021-07-30T15:49:26.057237Z"
    },
    "papermill": {
     "duration": 0.04896,
     "end_time": "2021-07-30T15:49:26.057614",
     "exception": false,
     "start_time": "2021-07-30T15:49:26.008654",
     "status": "completed"
    },
    "tags": []
   },
   "outputs": [
    {
     "data": {
      "text/plain": [
       "PosixPath('/home/miltondp/projects/labs/greenelab/phenoplier/base/data/multiplier/multiplier_model_z.pkl')"
      ]
     },
     "metadata": {},
     "output_type": "display_data"
    }
   ],
   "source": [
    "output_file = conf.MULTIPLIER[\"MODEL_Z_MATRIX_FILE\"]\n",
    "display(output_file)"
   ]
  },
  {
   "cell_type": "code",
   "execution_count": 32,
   "metadata": {
    "execution": {
     "iopub.execute_input": "2021-07-30T15:49:26.138962Z",
     "iopub.status.busy": "2021-07-30T15:49:26.138595Z",
     "iopub.status.idle": "2021-07-30T15:49:26.403781Z",
     "shell.execute_reply": "2021-07-30T15:49:26.402523Z"
    },
    "papermill": {
     "duration": 0.306534,
     "end_time": "2021-07-30T15:49:26.404114",
     "exception": false,
     "start_time": "2021-07-30T15:49:26.097580",
     "status": "completed"
    },
    "tags": []
   },
   "outputs": [],
   "source": [
    "multiplier_model_matrix_df.to_pickle(output_file)"
   ]
  },
  {
   "cell_type": "markdown",
   "metadata": {
    "papermill": {
     "duration": 0.039012,
     "end_time": "2021-07-30T15:49:26.517064",
     "exception": false,
     "start_time": "2021-07-30T15:49:26.478052",
     "status": "completed"
    },
    "tags": []
   },
   "source": [
    "### RDS format"
   ]
  },
  {
   "cell_type": "code",
   "execution_count": 33,
   "metadata": {
    "execution": {
     "iopub.execute_input": "2021-07-30T15:49:26.597797Z",
     "iopub.status.busy": "2021-07-30T15:49:26.597427Z",
     "iopub.status.idle": "2021-07-30T15:49:26.605052Z",
     "shell.execute_reply": "2021-07-30T15:49:26.605365Z"
    },
    "papermill": {
     "duration": 0.049577,
     "end_time": "2021-07-30T15:49:26.605471",
     "exception": false,
     "start_time": "2021-07-30T15:49:26.555894",
     "status": "completed"
    },
    "tags": []
   },
   "outputs": [
    {
     "data": {
      "text/plain": [
       "PosixPath('/home/miltondp/projects/labs/greenelab/phenoplier/base/data/multiplier/multiplier_model_z.rds')"
      ]
     },
     "metadata": {},
     "output_type": "display_data"
    }
   ],
   "source": [
    "output_rds_file = output_file.with_suffix(\".rds\")\n",
    "display(output_rds_file)"
   ]
  },
  {
   "cell_type": "code",
   "execution_count": 34,
   "metadata": {
    "execution": {
     "iopub.execute_input": "2021-07-30T15:49:26.688387Z",
     "iopub.status.busy": "2021-07-30T15:49:26.688018Z",
     "iopub.status.idle": "2021-07-30T15:49:28.461649Z",
     "shell.execute_reply": "2021-07-30T15:49:28.461276Z"
    },
    "papermill": {
     "duration": 1.815367,
     "end_time": "2021-07-30T15:49:28.461732",
     "exception": false,
     "start_time": "2021-07-30T15:49:26.646365",
     "status": "completed"
    },
    "tags": []
   },
   "outputs": [
    {
     "data": {
      "text/plain": [
       "<rpy2.rinterface_lib.sexp.NULLType object at 0x7f9ab88f0d00> [RTYPES.NILSXP]"
      ]
     },
     "execution_count": 34,
     "metadata": {},
     "output_type": "execute_result"
    }
   ],
   "source": [
    "saveRDS(multiplier_model_matrix, str(output_rds_file))"
   ]
  },
  {
   "cell_type": "markdown",
   "metadata": {
    "papermill": {
     "duration": 0.039519,
     "end_time": "2021-07-30T15:49:28.541403",
     "exception": false,
     "start_time": "2021-07-30T15:49:28.501884",
     "status": "completed"
    },
    "tags": []
   },
   "source": [
    "### Text format"
   ]
  },
  {
   "cell_type": "code",
   "execution_count": 35,
   "metadata": {
    "execution": {
     "iopub.execute_input": "2021-07-30T15:49:28.624008Z",
     "iopub.status.busy": "2021-07-30T15:49:28.623646Z",
     "iopub.status.idle": "2021-07-30T15:49:28.631839Z",
     "shell.execute_reply": "2021-07-30T15:49:28.631539Z"
    },
    "papermill": {
     "duration": 0.051188,
     "end_time": "2021-07-30T15:49:28.631926",
     "exception": false,
     "start_time": "2021-07-30T15:49:28.580738",
     "status": "completed"
    },
    "tags": []
   },
   "outputs": [
    {
     "data": {
      "text/plain": [
       "PosixPath('/home/miltondp/projects/labs/greenelab/phenoplier/base/data/multiplier/multiplier_model_z.tsv.gz')"
      ]
     },
     "metadata": {},
     "output_type": "display_data"
    }
   ],
   "source": [
    "# tsv format\n",
    "output_text_file = output_file.with_suffix(\".tsv.gz\")\n",
    "display(output_text_file)"
   ]
  },
  {
   "cell_type": "code",
   "execution_count": 36,
   "metadata": {
    "execution": {
     "iopub.execute_input": "2021-07-30T15:49:28.714933Z",
     "iopub.status.busy": "2021-07-30T15:49:28.714573Z",
     "iopub.status.idle": "2021-07-30T15:49:48.398964Z",
     "shell.execute_reply": "2021-07-30T15:49:48.398639Z"
    },
    "papermill": {
     "duration": 19.726209,
     "end_time": "2021-07-30T15:49:48.399049",
     "exception": false,
     "start_time": "2021-07-30T15:49:28.672840",
     "status": "completed"
    },
    "tags": []
   },
   "outputs": [],
   "source": [
    "multiplier_model_matrix_df.to_csv(\n",
    "    output_text_file, sep=\"\\t\", index=True, float_format=\"%.5e\"\n",
    ")"
   ]
  },
  {
   "cell_type": "markdown",
   "metadata": {
    "papermill": {
     "duration": 0.039183,
     "end_time": "2021-07-30T15:49:48.478053",
     "exception": false,
     "start_time": "2021-07-30T15:49:48.438870",
     "status": "completed"
    },
    "tags": []
   },
   "source": [
    "# Matrix B (latent space; LVs x samples)"
   ]
  },
  {
   "cell_type": "code",
   "execution_count": 37,
   "metadata": {
    "execution": {
     "iopub.execute_input": "2021-07-30T15:49:48.559350Z",
     "iopub.status.busy": "2021-07-30T15:49:48.558987Z",
     "iopub.status.idle": "2021-07-30T15:49:48.566680Z",
     "shell.execute_reply": "2021-07-30T15:49:48.566316Z"
    },
    "papermill": {
     "duration": 0.049564,
     "end_time": "2021-07-30T15:49:48.566764",
     "exception": false,
     "start_time": "2021-07-30T15:49:48.517200",
     "status": "completed"
    },
    "tags": []
   },
   "outputs": [],
   "source": [
    "multiplier_model_matrix = multiplier_full_model.rx2(\"B\")"
   ]
  },
  {
   "cell_type": "code",
   "execution_count": 38,
   "metadata": {
    "execution": {
     "iopub.execute_input": "2021-07-30T15:49:48.649008Z",
     "iopub.status.busy": "2021-07-30T15:49:48.648598Z",
     "iopub.status.idle": "2021-07-30T15:49:48.657175Z",
     "shell.execute_reply": "2021-07-30T15:49:48.656762Z"
    },
    "papermill": {
     "duration": 0.050447,
     "end_time": "2021-07-30T15:49:48.657260",
     "exception": false,
     "start_time": "2021-07-30T15:49:48.606813",
     "status": "completed"
    },
    "tags": []
   },
   "outputs": [
    {
     "data": {
      "text/html": [
       "\n",
       "        <span>FloatMatrix with 36550584 elements.</span>\n",
       "        <table>\n",
       "        <tbody>\n",
       "          <tr>\n",
       "          \n",
       "            <td>\n",
       "            -0.059297\n",
       "            </td>\n",
       "          \n",
       "            <td>\n",
       "            0.006213\n",
       "            </td>\n",
       "          \n",
       "            <td>\n",
       "            -0.026105\n",
       "            </td>\n",
       "          \n",
       "            <td>\n",
       "            ...\n",
       "            </td>\n",
       "          \n",
       "            <td>\n",
       "            -0.104375\n",
       "            </td>\n",
       "          \n",
       "            <td>\n",
       "            -0.015785\n",
       "            </td>\n",
       "          \n",
       "            <td>\n",
       "            -0.024907\n",
       "            </td>\n",
       "          \n",
       "          </tr>\n",
       "        </tbody>\n",
       "        </table>\n",
       "        "
      ],
      "text/plain": [
       "R object with classes: ('matrix',) mapped to:\n",
       "[-0.059297, 0.006213, -0.026105, -0.022080, ..., -0.090562, -0.104375, -0.015785, -0.024907]"
      ]
     },
     "execution_count": 38,
     "metadata": {},
     "output_type": "execute_result"
    }
   ],
   "source": [
    "multiplier_model_matrix"
   ]
  },
  {
   "cell_type": "code",
   "execution_count": 39,
   "metadata": {
    "execution": {
     "iopub.execute_input": "2021-07-30T15:49:48.741512Z",
     "iopub.status.busy": "2021-07-30T15:49:48.741121Z",
     "iopub.status.idle": "2021-07-30T15:49:48.749847Z",
     "shell.execute_reply": "2021-07-30T15:49:48.749514Z"
    },
    "papermill": {
     "duration": 0.051856,
     "end_time": "2021-07-30T15:49:48.749937",
     "exception": false,
     "start_time": "2021-07-30T15:49:48.698081",
     "status": "completed"
    },
    "tags": []
   },
   "outputs": [
    {
     "data": {
      "text/html": [
       "\n",
       "        <span>StrVector with 987 elements.</span>\n",
       "        <table>\n",
       "        <tbody>\n",
       "          <tr>\n",
       "          \n",
       "            <td>\n",
       "            '1,REACTO...\n",
       "            </td>\n",
       "          \n",
       "            <td>\n",
       "            '2,SVM Mo...\n",
       "            </td>\n",
       "          \n",
       "            <td>\n",
       "            '3,REACTO...\n",
       "            </td>\n",
       "          \n",
       "            <td>\n",
       "            ...\n",
       "            </td>\n",
       "          \n",
       "            <td>\n",
       "            '985,IRIS...\n",
       "            </td>\n",
       "          \n",
       "            <td>\n",
       "            'LV 986'\n",
       "            </td>\n",
       "          \n",
       "            <td>\n",
       "            'LV 987'\n",
       "            </td>\n",
       "          \n",
       "          </tr>\n",
       "        </tbody>\n",
       "        </table>\n",
       "        "
      ],
      "text/plain": [
       "R object with classes: ('character',) mapped to:\n",
       "['1,REACTO..., '2,SVM Mo..., '3,REACTO..., '4,REACTO..., ..., 'LV 984', '985,IRIS..., 'LV 986', 'LV 987']"
      ]
     },
     "execution_count": 39,
     "metadata": {},
     "output_type": "execute_result"
    }
   ],
   "source": [
    "multiplier_model_matrix.rownames"
   ]
  },
  {
   "cell_type": "code",
   "execution_count": 40,
   "metadata": {
    "execution": {
     "iopub.execute_input": "2021-07-30T15:49:48.835759Z",
     "iopub.status.busy": "2021-07-30T15:49:48.835404Z",
     "iopub.status.idle": "2021-07-30T15:49:48.844250Z",
     "shell.execute_reply": "2021-07-30T15:49:48.843882Z"
    },
    "papermill": {
     "duration": 0.051497,
     "end_time": "2021-07-30T15:49:48.844334",
     "exception": false,
     "start_time": "2021-07-30T15:49:48.792837",
     "status": "completed"
    },
    "tags": []
   },
   "outputs": [
    {
     "data": {
      "text/html": [
       "\n",
       "        <span>StrVector with 37032 elements.</span>\n",
       "        <table>\n",
       "        <tbody>\n",
       "          <tr>\n",
       "          \n",
       "            <td>\n",
       "            'SRP00059...\n",
       "            </td>\n",
       "          \n",
       "            <td>\n",
       "            'SRP00059...\n",
       "            </td>\n",
       "          \n",
       "            <td>\n",
       "            'SRP00059...\n",
       "            </td>\n",
       "          \n",
       "            <td>\n",
       "            ...\n",
       "            </td>\n",
       "          \n",
       "            <td>\n",
       "            'SRP03559...\n",
       "            </td>\n",
       "          \n",
       "            <td>\n",
       "            'SRP03559...\n",
       "            </td>\n",
       "          \n",
       "            <td>\n",
       "            'SRP03559...\n",
       "            </td>\n",
       "          \n",
       "          </tr>\n",
       "        </tbody>\n",
       "        </table>\n",
       "        "
      ],
      "text/plain": [
       "R object with classes: ('character',) mapped to:\n",
       "['SRP00059..., 'SRP00059..., 'SRP00059..., 'SRP00059..., ..., 'SRP03559..., 'SRP03559..., 'SRP03559..., 'SRP03559...]"
      ]
     },
     "execution_count": 40,
     "metadata": {},
     "output_type": "execute_result"
    }
   ],
   "source": [
    "multiplier_model_matrix.colnames"
   ]
  },
  {
   "cell_type": "code",
   "execution_count": 41,
   "metadata": {
    "execution": {
     "iopub.execute_input": "2021-07-30T15:49:48.929475Z",
     "iopub.status.busy": "2021-07-30T15:49:48.929100Z",
     "iopub.status.idle": "2021-07-30T15:49:48.990444Z",
     "shell.execute_reply": "2021-07-30T15:49:48.990754Z"
    },
    "papermill": {
     "duration": 0.104702,
     "end_time": "2021-07-30T15:49:48.990870",
     "exception": false,
     "start_time": "2021-07-30T15:49:48.886168",
     "status": "completed"
    },
    "tags": []
   },
   "outputs": [],
   "source": [
    "with localconverter(ro.default_converter + pandas2ri.converter):\n",
    "    multiplier_model_matrix_values = ro.conversion.rpy2py(multiplier_model_matrix)"
   ]
  },
  {
   "cell_type": "code",
   "execution_count": 42,
   "metadata": {
    "execution": {
     "iopub.execute_input": "2021-07-30T15:49:49.077362Z",
     "iopub.status.busy": "2021-07-30T15:49:49.076999Z",
     "iopub.status.idle": "2021-07-30T15:49:49.167065Z",
     "shell.execute_reply": "2021-07-30T15:49:49.166754Z"
    },
    "papermill": {
     "duration": 0.133381,
     "end_time": "2021-07-30T15:49:49.167152",
     "exception": false,
     "start_time": "2021-07-30T15:49:49.033771",
     "status": "completed"
    },
    "tags": []
   },
   "outputs": [],
   "source": [
    "multiplier_model_matrix_df = pd.DataFrame(\n",
    "    data=multiplier_model_matrix_values,\n",
    "    #    Look like the rows have a special meaning, so no overriding it.\n",
    "    #    index=[f'LV{i}' for i in range(1, multiplier_model_matrix.nrow + 1)],\n",
    "    index=multiplier_model_matrix.rownames,\n",
    "    columns=multiplier_model_matrix.colnames,\n",
    ")"
   ]
  },
  {
   "cell_type": "code",
   "execution_count": 43,
   "metadata": {
    "execution": {
     "iopub.execute_input": "2021-07-30T15:49:49.253416Z",
     "iopub.status.busy": "2021-07-30T15:49:49.253056Z",
     "iopub.status.idle": "2021-07-30T15:49:49.261310Z",
     "shell.execute_reply": "2021-07-30T15:49:49.260942Z"
    },
    "papermill": {
     "duration": 0.05199,
     "end_time": "2021-07-30T15:49:49.261393",
     "exception": false,
     "start_time": "2021-07-30T15:49:49.209403",
     "status": "completed"
    },
    "tags": []
   },
   "outputs": [
    {
     "data": {
      "text/plain": [
       "(987, 37032)"
      ]
     },
     "metadata": {},
     "output_type": "display_data"
    }
   ],
   "source": [
    "display(multiplier_model_matrix_df.shape)\n",
    "assert multiplier_model_matrix_df.shape == (987, 37032)"
   ]
  },
  {
   "cell_type": "code",
   "execution_count": 44,
   "metadata": {
    "execution": {
     "iopub.execute_input": "2021-07-30T15:49:49.350671Z",
     "iopub.status.busy": "2021-07-30T15:49:49.350268Z",
     "iopub.status.idle": "2021-07-30T15:49:49.375842Z",
     "shell.execute_reply": "2021-07-30T15:49:49.375518Z"
    },
    "papermill": {
     "duration": 0.071774,
     "end_time": "2021-07-30T15:49:49.375931",
     "exception": false,
     "start_time": "2021-07-30T15:49:49.304157",
     "status": "completed"
    },
    "tags": []
   },
   "outputs": [
    {
     "data": {
      "text/html": [
       "<div>\n",
       "<style scoped>\n",
       "    .dataframe tbody tr th:only-of-type {\n",
       "        vertical-align: middle;\n",
       "    }\n",
       "\n",
       "    .dataframe tbody tr th {\n",
       "        vertical-align: top;\n",
       "    }\n",
       "\n",
       "    .dataframe thead th {\n",
       "        text-align: right;\n",
       "    }\n",
       "</style>\n",
       "<table border=\"1\" class=\"dataframe\">\n",
       "  <thead>\n",
       "    <tr style=\"text-align: right;\">\n",
       "      <th></th>\n",
       "      <th>SRP000599.SRR013549</th>\n",
       "      <th>SRP000599.SRR013550</th>\n",
       "      <th>SRP000599.SRR013551</th>\n",
       "      <th>SRP000599.SRR013552</th>\n",
       "      <th>SRP000599.SRR013553</th>\n",
       "      <th>SRP000599.SRR013554</th>\n",
       "      <th>SRP000599.SRR013555</th>\n",
       "      <th>SRP000599.SRR013556</th>\n",
       "      <th>SRP000599.SRR013557</th>\n",
       "      <th>SRP000599.SRR013558</th>\n",
       "      <th>...</th>\n",
       "      <th>SRP035599.SRR1139372</th>\n",
       "      <th>SRP035599.SRR1139393</th>\n",
       "      <th>SRP035599.SRR1139388</th>\n",
       "      <th>SRP035599.SRR1139378</th>\n",
       "      <th>SRP035599.SRR1139399</th>\n",
       "      <th>SRP035599.SRR1139386</th>\n",
       "      <th>SRP035599.SRR1139375</th>\n",
       "      <th>SRP035599.SRR1139382</th>\n",
       "      <th>SRP035599.SRR1139356</th>\n",
       "      <th>SRP035599.SRR1139370</th>\n",
       "    </tr>\n",
       "  </thead>\n",
       "  <tbody>\n",
       "    <tr>\n",
       "      <th>1,REACTOME_MRNA_SPLICING</th>\n",
       "      <td>-0.059297</td>\n",
       "      <td>-0.047909</td>\n",
       "      <td>-0.049366</td>\n",
       "      <td>-0.065078</td>\n",
       "      <td>-0.036394</td>\n",
       "      <td>-0.046433</td>\n",
       "      <td>-0.040980</td>\n",
       "      <td>-0.040068</td>\n",
       "      <td>-0.046137</td>\n",
       "      <td>-0.048548</td>\n",
       "      <td>...</td>\n",
       "      <td>0.028220</td>\n",
       "      <td>0.035137</td>\n",
       "      <td>0.065077</td>\n",
       "      <td>0.078144</td>\n",
       "      <td>0.092362</td>\n",
       "      <td>0.069042</td>\n",
       "      <td>0.090914</td>\n",
       "      <td>0.096341</td>\n",
       "      <td>0.131115</td>\n",
       "      <td>0.171751</td>\n",
       "    </tr>\n",
       "    <tr>\n",
       "      <th>2,SVM Monocytes</th>\n",
       "      <td>0.006213</td>\n",
       "      <td>0.003625</td>\n",
       "      <td>0.006605</td>\n",
       "      <td>0.009258</td>\n",
       "      <td>0.005061</td>\n",
       "      <td>0.004133</td>\n",
       "      <td>0.008950</td>\n",
       "      <td>0.007227</td>\n",
       "      <td>0.007241</td>\n",
       "      <td>0.005710</td>\n",
       "      <td>...</td>\n",
       "      <td>-0.050455</td>\n",
       "      <td>-0.034502</td>\n",
       "      <td>-0.033640</td>\n",
       "      <td>-0.049702</td>\n",
       "      <td>-0.037426</td>\n",
       "      <td>-0.050070</td>\n",
       "      <td>-0.022575</td>\n",
       "      <td>-0.055091</td>\n",
       "      <td>-0.056869</td>\n",
       "      <td>-0.018073</td>\n",
       "    </tr>\n",
       "    <tr>\n",
       "      <th>3,REACTOME_TRANSMISSION_ACROSS_CHEMICAL_SYNAPSES</th>\n",
       "      <td>-0.026105</td>\n",
       "      <td>-0.032232</td>\n",
       "      <td>-0.020621</td>\n",
       "      <td>-0.027599</td>\n",
       "      <td>-0.035248</td>\n",
       "      <td>-0.038701</td>\n",
       "      <td>-0.032527</td>\n",
       "      <td>-0.030593</td>\n",
       "      <td>-0.028937</td>\n",
       "      <td>-0.027406</td>\n",
       "      <td>...</td>\n",
       "      <td>-0.028610</td>\n",
       "      <td>-0.033450</td>\n",
       "      <td>-0.030583</td>\n",
       "      <td>-0.032399</td>\n",
       "      <td>-0.029365</td>\n",
       "      <td>-0.025406</td>\n",
       "      <td>-0.033657</td>\n",
       "      <td>-0.031318</td>\n",
       "      <td>-0.030924</td>\n",
       "      <td>-0.027869</td>\n",
       "    </tr>\n",
       "    <tr>\n",
       "      <th>4,REACTOME_NEURONAL_SYSTEM</th>\n",
       "      <td>-0.022080</td>\n",
       "      <td>-0.008971</td>\n",
       "      <td>-0.020342</td>\n",
       "      <td>-0.016260</td>\n",
       "      <td>-0.003023</td>\n",
       "      <td>0.002443</td>\n",
       "      <td>-0.020458</td>\n",
       "      <td>-0.023735</td>\n",
       "      <td>-0.021581</td>\n",
       "      <td>-0.022478</td>\n",
       "      <td>...</td>\n",
       "      <td>-0.037122</td>\n",
       "      <td>-0.029658</td>\n",
       "      <td>-0.036350</td>\n",
       "      <td>-0.039254</td>\n",
       "      <td>-0.035205</td>\n",
       "      <td>-0.036345</td>\n",
       "      <td>-0.034514</td>\n",
       "      <td>-0.035926</td>\n",
       "      <td>-0.040358</td>\n",
       "      <td>-0.031131</td>\n",
       "    </tr>\n",
       "    <tr>\n",
       "      <th>LV 5</th>\n",
       "      <td>0.007663</td>\n",
       "      <td>0.007036</td>\n",
       "      <td>0.006608</td>\n",
       "      <td>0.003446</td>\n",
       "      <td>0.006341</td>\n",
       "      <td>0.007106</td>\n",
       "      <td>0.007930</td>\n",
       "      <td>0.009164</td>\n",
       "      <td>0.008024</td>\n",
       "      <td>0.007938</td>\n",
       "      <td>...</td>\n",
       "      <td>-0.003056</td>\n",
       "      <td>-0.004784</td>\n",
       "      <td>-0.004352</td>\n",
       "      <td>-0.004160</td>\n",
       "      <td>-0.001085</td>\n",
       "      <td>-0.001884</td>\n",
       "      <td>-0.003561</td>\n",
       "      <td>-0.003546</td>\n",
       "      <td>-0.012107</td>\n",
       "      <td>-0.001193</td>\n",
       "    </tr>\n",
       "  </tbody>\n",
       "</table>\n",
       "<p>5 rows × 37032 columns</p>\n",
       "</div>"
      ],
      "text/plain": [
       "                                                  SRP000599.SRR013549  \\\n",
       "1,REACTOME_MRNA_SPLICING                                    -0.059297   \n",
       "2,SVM Monocytes                                              0.006213   \n",
       "3,REACTOME_TRANSMISSION_ACROSS_CHEMICAL_SYNAPSES            -0.026105   \n",
       "4,REACTOME_NEURONAL_SYSTEM                                  -0.022080   \n",
       "LV 5                                                         0.007663   \n",
       "\n",
       "                                                  SRP000599.SRR013550  \\\n",
       "1,REACTOME_MRNA_SPLICING                                    -0.047909   \n",
       "2,SVM Monocytes                                              0.003625   \n",
       "3,REACTOME_TRANSMISSION_ACROSS_CHEMICAL_SYNAPSES            -0.032232   \n",
       "4,REACTOME_NEURONAL_SYSTEM                                  -0.008971   \n",
       "LV 5                                                         0.007036   \n",
       "\n",
       "                                                  SRP000599.SRR013551  \\\n",
       "1,REACTOME_MRNA_SPLICING                                    -0.049366   \n",
       "2,SVM Monocytes                                              0.006605   \n",
       "3,REACTOME_TRANSMISSION_ACROSS_CHEMICAL_SYNAPSES            -0.020621   \n",
       "4,REACTOME_NEURONAL_SYSTEM                                  -0.020342   \n",
       "LV 5                                                         0.006608   \n",
       "\n",
       "                                                  SRP000599.SRR013552  \\\n",
       "1,REACTOME_MRNA_SPLICING                                    -0.065078   \n",
       "2,SVM Monocytes                                              0.009258   \n",
       "3,REACTOME_TRANSMISSION_ACROSS_CHEMICAL_SYNAPSES            -0.027599   \n",
       "4,REACTOME_NEURONAL_SYSTEM                                  -0.016260   \n",
       "LV 5                                                         0.003446   \n",
       "\n",
       "                                                  SRP000599.SRR013553  \\\n",
       "1,REACTOME_MRNA_SPLICING                                    -0.036394   \n",
       "2,SVM Monocytes                                              0.005061   \n",
       "3,REACTOME_TRANSMISSION_ACROSS_CHEMICAL_SYNAPSES            -0.035248   \n",
       "4,REACTOME_NEURONAL_SYSTEM                                  -0.003023   \n",
       "LV 5                                                         0.006341   \n",
       "\n",
       "                                                  SRP000599.SRR013554  \\\n",
       "1,REACTOME_MRNA_SPLICING                                    -0.046433   \n",
       "2,SVM Monocytes                                              0.004133   \n",
       "3,REACTOME_TRANSMISSION_ACROSS_CHEMICAL_SYNAPSES            -0.038701   \n",
       "4,REACTOME_NEURONAL_SYSTEM                                   0.002443   \n",
       "LV 5                                                         0.007106   \n",
       "\n",
       "                                                  SRP000599.SRR013555  \\\n",
       "1,REACTOME_MRNA_SPLICING                                    -0.040980   \n",
       "2,SVM Monocytes                                              0.008950   \n",
       "3,REACTOME_TRANSMISSION_ACROSS_CHEMICAL_SYNAPSES            -0.032527   \n",
       "4,REACTOME_NEURONAL_SYSTEM                                  -0.020458   \n",
       "LV 5                                                         0.007930   \n",
       "\n",
       "                                                  SRP000599.SRR013556  \\\n",
       "1,REACTOME_MRNA_SPLICING                                    -0.040068   \n",
       "2,SVM Monocytes                                              0.007227   \n",
       "3,REACTOME_TRANSMISSION_ACROSS_CHEMICAL_SYNAPSES            -0.030593   \n",
       "4,REACTOME_NEURONAL_SYSTEM                                  -0.023735   \n",
       "LV 5                                                         0.009164   \n",
       "\n",
       "                                                  SRP000599.SRR013557  \\\n",
       "1,REACTOME_MRNA_SPLICING                                    -0.046137   \n",
       "2,SVM Monocytes                                              0.007241   \n",
       "3,REACTOME_TRANSMISSION_ACROSS_CHEMICAL_SYNAPSES            -0.028937   \n",
       "4,REACTOME_NEURONAL_SYSTEM                                  -0.021581   \n",
       "LV 5                                                         0.008024   \n",
       "\n",
       "                                                  SRP000599.SRR013558  ...  \\\n",
       "1,REACTOME_MRNA_SPLICING                                    -0.048548  ...   \n",
       "2,SVM Monocytes                                              0.005710  ...   \n",
       "3,REACTOME_TRANSMISSION_ACROSS_CHEMICAL_SYNAPSES            -0.027406  ...   \n",
       "4,REACTOME_NEURONAL_SYSTEM                                  -0.022478  ...   \n",
       "LV 5                                                         0.007938  ...   \n",
       "\n",
       "                                                  SRP035599.SRR1139372  \\\n",
       "1,REACTOME_MRNA_SPLICING                                      0.028220   \n",
       "2,SVM Monocytes                                              -0.050455   \n",
       "3,REACTOME_TRANSMISSION_ACROSS_CHEMICAL_SYNAPSES             -0.028610   \n",
       "4,REACTOME_NEURONAL_SYSTEM                                   -0.037122   \n",
       "LV 5                                                         -0.003056   \n",
       "\n",
       "                                                  SRP035599.SRR1139393  \\\n",
       "1,REACTOME_MRNA_SPLICING                                      0.035137   \n",
       "2,SVM Monocytes                                              -0.034502   \n",
       "3,REACTOME_TRANSMISSION_ACROSS_CHEMICAL_SYNAPSES             -0.033450   \n",
       "4,REACTOME_NEURONAL_SYSTEM                                   -0.029658   \n",
       "LV 5                                                         -0.004784   \n",
       "\n",
       "                                                  SRP035599.SRR1139388  \\\n",
       "1,REACTOME_MRNA_SPLICING                                      0.065077   \n",
       "2,SVM Monocytes                                              -0.033640   \n",
       "3,REACTOME_TRANSMISSION_ACROSS_CHEMICAL_SYNAPSES             -0.030583   \n",
       "4,REACTOME_NEURONAL_SYSTEM                                   -0.036350   \n",
       "LV 5                                                         -0.004352   \n",
       "\n",
       "                                                  SRP035599.SRR1139378  \\\n",
       "1,REACTOME_MRNA_SPLICING                                      0.078144   \n",
       "2,SVM Monocytes                                              -0.049702   \n",
       "3,REACTOME_TRANSMISSION_ACROSS_CHEMICAL_SYNAPSES             -0.032399   \n",
       "4,REACTOME_NEURONAL_SYSTEM                                   -0.039254   \n",
       "LV 5                                                         -0.004160   \n",
       "\n",
       "                                                  SRP035599.SRR1139399  \\\n",
       "1,REACTOME_MRNA_SPLICING                                      0.092362   \n",
       "2,SVM Monocytes                                              -0.037426   \n",
       "3,REACTOME_TRANSMISSION_ACROSS_CHEMICAL_SYNAPSES             -0.029365   \n",
       "4,REACTOME_NEURONAL_SYSTEM                                   -0.035205   \n",
       "LV 5                                                         -0.001085   \n",
       "\n",
       "                                                  SRP035599.SRR1139386  \\\n",
       "1,REACTOME_MRNA_SPLICING                                      0.069042   \n",
       "2,SVM Monocytes                                              -0.050070   \n",
       "3,REACTOME_TRANSMISSION_ACROSS_CHEMICAL_SYNAPSES             -0.025406   \n",
       "4,REACTOME_NEURONAL_SYSTEM                                   -0.036345   \n",
       "LV 5                                                         -0.001884   \n",
       "\n",
       "                                                  SRP035599.SRR1139375  \\\n",
       "1,REACTOME_MRNA_SPLICING                                      0.090914   \n",
       "2,SVM Monocytes                                              -0.022575   \n",
       "3,REACTOME_TRANSMISSION_ACROSS_CHEMICAL_SYNAPSES             -0.033657   \n",
       "4,REACTOME_NEURONAL_SYSTEM                                   -0.034514   \n",
       "LV 5                                                         -0.003561   \n",
       "\n",
       "                                                  SRP035599.SRR1139382  \\\n",
       "1,REACTOME_MRNA_SPLICING                                      0.096341   \n",
       "2,SVM Monocytes                                              -0.055091   \n",
       "3,REACTOME_TRANSMISSION_ACROSS_CHEMICAL_SYNAPSES             -0.031318   \n",
       "4,REACTOME_NEURONAL_SYSTEM                                   -0.035926   \n",
       "LV 5                                                         -0.003546   \n",
       "\n",
       "                                                  SRP035599.SRR1139356  \\\n",
       "1,REACTOME_MRNA_SPLICING                                      0.131115   \n",
       "2,SVM Monocytes                                              -0.056869   \n",
       "3,REACTOME_TRANSMISSION_ACROSS_CHEMICAL_SYNAPSES             -0.030924   \n",
       "4,REACTOME_NEURONAL_SYSTEM                                   -0.040358   \n",
       "LV 5                                                         -0.012107   \n",
       "\n",
       "                                                  SRP035599.SRR1139370  \n",
       "1,REACTOME_MRNA_SPLICING                                      0.171751  \n",
       "2,SVM Monocytes                                              -0.018073  \n",
       "3,REACTOME_TRANSMISSION_ACROSS_CHEMICAL_SYNAPSES             -0.027869  \n",
       "4,REACTOME_NEURONAL_SYSTEM                                   -0.031131  \n",
       "LV 5                                                         -0.001193  \n",
       "\n",
       "[5 rows x 37032 columns]"
      ]
     },
     "execution_count": 44,
     "metadata": {},
     "output_type": "execute_result"
    }
   ],
   "source": [
    "multiplier_model_matrix_df.head()"
   ]
  },
  {
   "cell_type": "code",
   "execution_count": 45,
   "metadata": {
    "execution": {
     "iopub.execute_input": "2021-07-30T15:49:49.464200Z",
     "iopub.status.busy": "2021-07-30T15:49:49.463828Z",
     "iopub.status.idle": "2021-07-30T15:49:49.472545Z",
     "shell.execute_reply": "2021-07-30T15:49:49.472179Z"
    },
    "papermill": {
     "duration": 0.053783,
     "end_time": "2021-07-30T15:49:49.472628",
     "exception": false,
     "start_time": "2021-07-30T15:49:49.418845",
     "status": "completed"
    },
    "tags": []
   },
   "outputs": [],
   "source": [
    "# make sure I'm seeing the same when loaded with R\n",
    "assert (\n",
    "    multiplier_model_matrix_df.loc[\n",
    "        \"1,REACTOME_MRNA_SPLICING\", \"SRP000599.SRR013549\"\n",
    "    ].round(9)\n",
    "    == -0.059296689\n",
    ")\n",
    "assert (\n",
    "    multiplier_model_matrix_df.loc[\n",
    "        \"1,REACTOME_MRNA_SPLICING\", \"SRP000599.SRR013553\"\n",
    "    ].round(9)\n",
    "    == -0.036394186\n",
    ")\n",
    "\n",
    "assert (\n",
    "    multiplier_model_matrix_df.loc[\"2,SVM Monocytes\", \"SRP000599.SRR013549\"].round(9)\n",
    "    == 0.006212678\n",
    ")\n",
    "assert (\n",
    "    multiplier_model_matrix_df.loc[\"2,SVM Monocytes\", \"SRP004637.SRR073776\"].round(9)\n",
    "    == -0.008800153\n",
    ")\n",
    "\n",
    "assert (\n",
    "    multiplier_model_matrix_df.loc[\"LV 9\", \"SRP004637.SRR073774\"].round(9)\n",
    "    == 0.092318955\n",
    ")\n",
    "assert (\n",
    "    multiplier_model_matrix_df.loc[\"LV 9\", \"SRP004637.SRR073776\"].round(9)\n",
    "    == 0.100114294\n",
    ")"
   ]
  },
  {
   "cell_type": "markdown",
   "metadata": {
    "papermill": {
     "duration": 0.041584,
     "end_time": "2021-07-30T15:49:49.556392",
     "exception": false,
     "start_time": "2021-07-30T15:49:49.514808",
     "status": "completed"
    },
    "tags": []
   },
   "source": [
    "## Make sure no GTEx samples are included"
   ]
  },
  {
   "cell_type": "code",
   "execution_count": 46,
   "metadata": {
    "execution": {
     "iopub.execute_input": "2021-07-30T15:49:49.642915Z",
     "iopub.status.busy": "2021-07-30T15:49:49.642551Z",
     "iopub.status.idle": "2021-07-30T15:49:49.658275Z",
     "shell.execute_reply": "2021-07-30T15:49:49.657900Z"
    },
    "papermill": {
     "duration": 0.059973,
     "end_time": "2021-07-30T15:49:49.658359",
     "exception": false,
     "start_time": "2021-07-30T15:49:49.598386",
     "status": "completed"
    },
    "tags": []
   },
   "outputs": [],
   "source": [
    "# Test search string first\n",
    "_tmp = multiplier_model_matrix_df.columns.str.contains(\"SRP000599.\", regex=False)\n",
    "assert _tmp[0]\n",
    "assert _tmp[1]\n",
    "assert not _tmp[-1]"
   ]
  },
  {
   "cell_type": "code",
   "execution_count": 47,
   "metadata": {
    "execution": {
     "iopub.execute_input": "2021-07-30T15:49:49.744473Z",
     "iopub.status.busy": "2021-07-30T15:49:49.744102Z",
     "iopub.status.idle": "2021-07-30T15:49:49.753020Z",
     "shell.execute_reply": "2021-07-30T15:49:49.752660Z"
    },
    "papermill": {
     "duration": 0.052536,
     "end_time": "2021-07-30T15:49:49.753119",
     "exception": false,
     "start_time": "2021-07-30T15:49:49.700583",
     "status": "completed"
    },
    "tags": []
   },
   "outputs": [],
   "source": [
    "GTEX_ACCESSION_CODE = \"SRP012682\""
   ]
  },
  {
   "cell_type": "code",
   "execution_count": 48,
   "metadata": {
    "execution": {
     "iopub.execute_input": "2021-07-30T15:49:49.841344Z",
     "iopub.status.busy": "2021-07-30T15:49:49.840980Z",
     "iopub.status.idle": "2021-07-30T15:49:49.854453Z",
     "shell.execute_reply": "2021-07-30T15:49:49.854072Z"
    },
    "papermill": {
     "duration": 0.057564,
     "end_time": "2021-07-30T15:49:49.854541",
     "exception": false,
     "start_time": "2021-07-30T15:49:49.796977",
     "status": "completed"
    },
    "tags": []
   },
   "outputs": [],
   "source": [
    "_tmp = multiplier_model_matrix_df.columns.str.contains(GTEX_ACCESSION_CODE, regex=False)\n",
    "assert not _tmp.any()"
   ]
  },
  {
   "cell_type": "markdown",
   "metadata": {
    "papermill": {
     "duration": 0.041636,
     "end_time": "2021-07-30T15:49:49.938728",
     "exception": false,
     "start_time": "2021-07-30T15:49:49.897092",
     "status": "completed"
    },
    "tags": []
   },
   "source": [
    "## Save"
   ]
  },
  {
   "cell_type": "markdown",
   "metadata": {
    "papermill": {
     "duration": 0.04191,
     "end_time": "2021-07-30T15:49:50.022933",
     "exception": false,
     "start_time": "2021-07-30T15:49:49.981023",
     "status": "completed"
    },
    "tags": []
   },
   "source": [
    "### Pickle format"
   ]
  },
  {
   "cell_type": "code",
   "execution_count": 49,
   "metadata": {
    "execution": {
     "iopub.execute_input": "2021-07-30T15:49:50.109120Z",
     "iopub.status.busy": "2021-07-30T15:49:50.108733Z",
     "iopub.status.idle": "2021-07-30T15:49:50.116925Z",
     "shell.execute_reply": "2021-07-30T15:49:50.116509Z"
    },
    "papermill": {
     "duration": 0.051822,
     "end_time": "2021-07-30T15:49:50.117004",
     "exception": false,
     "start_time": "2021-07-30T15:49:50.065182",
     "status": "completed"
    },
    "tags": []
   },
   "outputs": [
    {
     "data": {
      "text/plain": [
       "PosixPath('/home/miltondp/projects/labs/greenelab/phenoplier/base/data/multiplier/multiplier_model_b.pkl')"
      ]
     },
     "metadata": {},
     "output_type": "display_data"
    }
   ],
   "source": [
    "output_file = conf.MULTIPLIER[\"MODEL_B_MATRIX_FILE\"]\n",
    "display(output_file)"
   ]
  },
  {
   "cell_type": "code",
   "execution_count": 50,
   "metadata": {
    "execution": {
     "iopub.execute_input": "2021-07-30T15:49:50.204095Z",
     "iopub.status.busy": "2021-07-30T15:49:50.203728Z",
     "iopub.status.idle": "2021-07-30T15:49:51.764426Z",
     "shell.execute_reply": "2021-07-30T15:49:51.762834Z"
    },
    "papermill": {
     "duration": 1.605414,
     "end_time": "2021-07-30T15:49:51.764773",
     "exception": false,
     "start_time": "2021-07-30T15:49:50.159359",
     "status": "completed"
    },
    "tags": []
   },
   "outputs": [],
   "source": [
    "multiplier_model_matrix_df.to_pickle(output_file)"
   ]
  },
  {
   "cell_type": "markdown",
   "metadata": {
    "papermill": {
     "duration": 0.042537,
     "end_time": "2021-07-30T15:49:51.853625",
     "exception": false,
     "start_time": "2021-07-30T15:49:51.811088",
     "status": "completed"
    },
    "tags": []
   },
   "source": [
    "### RDS format"
   ]
  },
  {
   "cell_type": "code",
   "execution_count": 51,
   "metadata": {
    "execution": {
     "iopub.execute_input": "2021-07-30T15:49:51.940660Z",
     "iopub.status.busy": "2021-07-30T15:49:51.940296Z",
     "iopub.status.idle": "2021-07-30T15:49:51.948462Z",
     "shell.execute_reply": "2021-07-30T15:49:51.948010Z"
    },
    "papermill": {
     "duration": 0.052789,
     "end_time": "2021-07-30T15:49:51.948542",
     "exception": false,
     "start_time": "2021-07-30T15:49:51.895753",
     "status": "completed"
    },
    "tags": []
   },
   "outputs": [
    {
     "data": {
      "text/plain": [
       "PosixPath('/home/miltondp/projects/labs/greenelab/phenoplier/base/data/multiplier/multiplier_model_b.rds')"
      ]
     },
     "metadata": {},
     "output_type": "display_data"
    }
   ],
   "source": [
    "output_rds_file = output_file.with_suffix(\".rds\")\n",
    "display(output_rds_file)"
   ]
  },
  {
   "cell_type": "code",
   "execution_count": 52,
   "metadata": {
    "execution": {
     "iopub.execute_input": "2021-07-30T15:49:52.036022Z",
     "iopub.status.busy": "2021-07-30T15:49:52.035662Z",
     "iopub.status.idle": "2021-07-30T15:50:04.249802Z",
     "shell.execute_reply": "2021-07-30T15:50:04.249470Z"
    },
    "papermill": {
     "duration": 12.25892,
     "end_time": "2021-07-30T15:50:04.249883",
     "exception": false,
     "start_time": "2021-07-30T15:49:51.990963",
     "status": "completed"
    },
    "tags": []
   },
   "outputs": [
    {
     "data": {
      "text/plain": [
       "<rpy2.rinterface_lib.sexp.NULLType object at 0x7f9ab88f0d00> [RTYPES.NILSXP]"
      ]
     },
     "execution_count": 52,
     "metadata": {},
     "output_type": "execute_result"
    }
   ],
   "source": [
    "saveRDS(multiplier_model_matrix, str(output_rds_file))"
   ]
  },
  {
   "cell_type": "markdown",
   "metadata": {
    "papermill": {
     "duration": 0.042565,
     "end_time": "2021-07-30T15:50:04.336186",
     "exception": false,
     "start_time": "2021-07-30T15:50:04.293621",
     "status": "completed"
    },
    "tags": []
   },
   "source": [
    "### Text format"
   ]
  },
  {
   "cell_type": "code",
   "execution_count": 53,
   "metadata": {
    "execution": {
     "iopub.execute_input": "2021-07-30T15:50:04.427646Z",
     "iopub.status.busy": "2021-07-30T15:50:04.427271Z",
     "iopub.status.idle": "2021-07-30T15:50:04.435095Z",
     "shell.execute_reply": "2021-07-30T15:50:04.434768Z"
    },
    "papermill": {
     "duration": 0.056518,
     "end_time": "2021-07-30T15:50:04.435179",
     "exception": false,
     "start_time": "2021-07-30T15:50:04.378661",
     "status": "completed"
    },
    "tags": []
   },
   "outputs": [
    {
     "data": {
      "text/plain": [
       "PosixPath('/home/miltondp/projects/labs/greenelab/phenoplier/base/data/multiplier/multiplier_model_b.tsv.gz')"
      ]
     },
     "metadata": {},
     "output_type": "display_data"
    }
   ],
   "source": [
    "# tsv format\n",
    "output_text_file = output_file.with_suffix(\".tsv.gz\")\n",
    "display(output_text_file)"
   ]
  },
  {
   "cell_type": "code",
   "execution_count": 54,
   "metadata": {
    "execution": {
     "iopub.execute_input": "2021-07-30T15:50:04.524809Z",
     "iopub.status.busy": "2021-07-30T15:50:04.524396Z",
     "iopub.status.idle": "2021-07-30T15:53:47.360001Z",
     "shell.execute_reply": "2021-07-30T15:53:47.359651Z"
    },
    "papermill": {
     "duration": 222.881335,
     "end_time": "2021-07-30T15:53:47.360084",
     "exception": false,
     "start_time": "2021-07-30T15:50:04.478749",
     "status": "completed"
    },
    "tags": []
   },
   "outputs": [],
   "source": [
    "multiplier_model_matrix_df.to_csv(\n",
    "    output_text_file, sep=\"\\t\", index=True, float_format=\"%.5e\"\n",
    ")"
   ]
  },
  {
   "cell_type": "markdown",
   "metadata": {
    "papermill": {
     "duration": 0.04302,
     "end_time": "2021-07-30T15:53:47.446006",
     "exception": false,
     "start_time": "2021-07-30T15:53:47.402986",
     "status": "completed"
    },
    "tags": []
   },
   "source": [
    "# Matrix U (gene sets x LVs)"
   ]
  },
  {
   "cell_type": "code",
   "execution_count": 55,
   "metadata": {
    "execution": {
     "iopub.execute_input": "2021-07-30T15:53:47.534468Z",
     "iopub.status.busy": "2021-07-30T15:53:47.534083Z",
     "iopub.status.idle": "2021-07-30T15:53:47.541972Z",
     "shell.execute_reply": "2021-07-30T15:53:47.541623Z"
    },
    "papermill": {
     "duration": 0.053083,
     "end_time": "2021-07-30T15:53:47.542061",
     "exception": false,
     "start_time": "2021-07-30T15:53:47.488978",
     "status": "completed"
    },
    "tags": []
   },
   "outputs": [],
   "source": [
    "multiplier_model_matrix = multiplier_full_model.rx2(\"U\")"
   ]
  },
  {
   "cell_type": "code",
   "execution_count": 56,
   "metadata": {
    "execution": {
     "iopub.execute_input": "2021-07-30T15:53:47.631286Z",
     "iopub.status.busy": "2021-07-30T15:53:47.630930Z",
     "iopub.status.idle": "2021-07-30T15:53:47.639723Z",
     "shell.execute_reply": "2021-07-30T15:53:47.639367Z"
    },
    "papermill": {
     "duration": 0.053943,
     "end_time": "2021-07-30T15:53:47.639805",
     "exception": false,
     "start_time": "2021-07-30T15:53:47.585862",
     "status": "completed"
    },
    "tags": []
   },
   "outputs": [
    {
     "data": {
      "text/html": [
       "\n",
       "        <span>FloatMatrix with 619836 elements.</span>\n",
       "        <table>\n",
       "        <tbody>\n",
       "          <tr>\n",
       "          \n",
       "            <td>\n",
       "            0.000000\n",
       "            </td>\n",
       "          \n",
       "            <td>\n",
       "            0.000000\n",
       "            </td>\n",
       "          \n",
       "            <td>\n",
       "            0.000000\n",
       "            </td>\n",
       "          \n",
       "            <td>\n",
       "            ...\n",
       "            </td>\n",
       "          \n",
       "            <td>\n",
       "            0.000000\n",
       "            </td>\n",
       "          \n",
       "            <td>\n",
       "            0.000000\n",
       "            </td>\n",
       "          \n",
       "            <td>\n",
       "            0.000000\n",
       "            </td>\n",
       "          \n",
       "          </tr>\n",
       "        </tbody>\n",
       "        </table>\n",
       "        "
      ],
      "text/plain": [
       "R object with classes: ('matrix',) mapped to:\n",
       "[0.000000, 0.000000, 0.000000, 0.000000, ..., 0.000000, 0.000000, 0.000000, 0.000000]"
      ]
     },
     "execution_count": 56,
     "metadata": {},
     "output_type": "execute_result"
    }
   ],
   "source": [
    "multiplier_model_matrix"
   ]
  },
  {
   "cell_type": "code",
   "execution_count": 57,
   "metadata": {
    "execution": {
     "iopub.execute_input": "2021-07-30T15:53:47.728697Z",
     "iopub.status.busy": "2021-07-30T15:53:47.728331Z",
     "iopub.status.idle": "2021-07-30T15:53:47.738026Z",
     "shell.execute_reply": "2021-07-30T15:53:47.737657Z"
    },
    "papermill": {
     "duration": 0.055349,
     "end_time": "2021-07-30T15:53:47.738109",
     "exception": false,
     "start_time": "2021-07-30T15:53:47.682760",
     "status": "completed"
    },
    "tags": []
   },
   "outputs": [
    {
     "data": {
      "text/html": [
       "\n",
       "        <span>StrVector with 628 elements.</span>\n",
       "        <table>\n",
       "        <tbody>\n",
       "          <tr>\n",
       "          \n",
       "            <td>\n",
       "            'IRIS_Bce...\n",
       "            </td>\n",
       "          \n",
       "            <td>\n",
       "            'IRIS_Bce...\n",
       "            </td>\n",
       "          \n",
       "            <td>\n",
       "            'IRIS_Bce...\n",
       "            </td>\n",
       "          \n",
       "            <td>\n",
       "            ...\n",
       "            </td>\n",
       "          \n",
       "            <td>\n",
       "            'PID_BCR_...\n",
       "            </td>\n",
       "          \n",
       "            <td>\n",
       "            'PID_TELO...\n",
       "            </td>\n",
       "          \n",
       "            <td>\n",
       "            'PID_PI3K...\n",
       "            </td>\n",
       "          \n",
       "          </tr>\n",
       "        </tbody>\n",
       "        </table>\n",
       "        "
      ],
      "text/plain": [
       "R object with classes: ('character',) mapped to:\n",
       "['IRIS_Bce..., 'IRIS_Bce..., 'IRIS_Bce..., 'IRIS_CD4..., ..., 'REACTOME..., 'PID_BCR_..., 'PID_TELO..., 'PID_PI3K...]"
      ]
     },
     "execution_count": 57,
     "metadata": {},
     "output_type": "execute_result"
    }
   ],
   "source": [
    "multiplier_model_matrix.rownames"
   ]
  },
  {
   "cell_type": "code",
   "execution_count": 58,
   "metadata": {
    "execution": {
     "iopub.execute_input": "2021-07-30T15:53:47.827263Z",
     "iopub.status.busy": "2021-07-30T15:53:47.826908Z",
     "iopub.status.idle": "2021-07-30T15:53:47.835695Z",
     "shell.execute_reply": "2021-07-30T15:53:47.835338Z"
    },
    "papermill": {
     "duration": 0.053881,
     "end_time": "2021-07-30T15:53:47.835776",
     "exception": false,
     "start_time": "2021-07-30T15:53:47.781895",
     "status": "completed"
    },
    "tags": []
   },
   "outputs": [
    {
     "data": {
      "text/html": [
       "\n",
       "        <span>StrVector with 987 elements.</span>\n",
       "        <table>\n",
       "        <tbody>\n",
       "          <tr>\n",
       "          \n",
       "            <td>\n",
       "            'LV1'\n",
       "            </td>\n",
       "          \n",
       "            <td>\n",
       "            'LV2'\n",
       "            </td>\n",
       "          \n",
       "            <td>\n",
       "            'LV3'\n",
       "            </td>\n",
       "          \n",
       "            <td>\n",
       "            ...\n",
       "            </td>\n",
       "          \n",
       "            <td>\n",
       "            'LV985'\n",
       "            </td>\n",
       "          \n",
       "            <td>\n",
       "            'LV986'\n",
       "            </td>\n",
       "          \n",
       "            <td>\n",
       "            'LV987'\n",
       "            </td>\n",
       "          \n",
       "          </tr>\n",
       "        </tbody>\n",
       "        </table>\n",
       "        "
      ],
      "text/plain": [
       "R object with classes: ('character',) mapped to:\n",
       "['LV1', 'LV2', 'LV3', 'LV4', ..., 'LV984', 'LV985', 'LV986', 'LV987']"
      ]
     },
     "execution_count": 58,
     "metadata": {},
     "output_type": "execute_result"
    }
   ],
   "source": [
    "multiplier_model_matrix.colnames"
   ]
  },
  {
   "cell_type": "code",
   "execution_count": 59,
   "metadata": {
    "execution": {
     "iopub.execute_input": "2021-07-30T15:53:47.925559Z",
     "iopub.status.busy": "2021-07-30T15:53:47.925189Z",
     "iopub.status.idle": "2021-07-30T15:53:47.933030Z",
     "shell.execute_reply": "2021-07-30T15:53:47.933326Z"
    },
    "papermill": {
     "duration": 0.053915,
     "end_time": "2021-07-30T15:53:47.933429",
     "exception": false,
     "start_time": "2021-07-30T15:53:47.879514",
     "status": "completed"
    },
    "tags": []
   },
   "outputs": [],
   "source": [
    "with localconverter(ro.default_converter + pandas2ri.converter):\n",
    "    multiplier_model_matrix_values = ro.conversion.rpy2py(multiplier_model_matrix)"
   ]
  },
  {
   "cell_type": "code",
   "execution_count": 60,
   "metadata": {
    "execution": {
     "iopub.execute_input": "2021-07-30T15:53:48.024039Z",
     "iopub.status.busy": "2021-07-30T15:53:48.023668Z",
     "iopub.status.idle": "2021-07-30T15:53:48.035254Z",
     "shell.execute_reply": "2021-07-30T15:53:48.034879Z"
    },
    "papermill": {
     "duration": 0.057409,
     "end_time": "2021-07-30T15:53:48.035336",
     "exception": false,
     "start_time": "2021-07-30T15:53:47.977927",
     "status": "completed"
    },
    "tags": []
   },
   "outputs": [],
   "source": [
    "multiplier_model_matrix_df = pd.DataFrame(\n",
    "    data=multiplier_model_matrix_values,\n",
    "    index=multiplier_model_matrix.rownames,\n",
    "    columns=multiplier_model_matrix.colnames,\n",
    ")"
   ]
  },
  {
   "cell_type": "code",
   "execution_count": 61,
   "metadata": {
    "execution": {
     "iopub.execute_input": "2021-07-30T15:53:48.126065Z",
     "iopub.status.busy": "2021-07-30T15:53:48.125704Z",
     "iopub.status.idle": "2021-07-30T15:53:48.134543Z",
     "shell.execute_reply": "2021-07-30T15:53:48.134247Z"
    },
    "papermill": {
     "duration": 0.05445,
     "end_time": "2021-07-30T15:53:48.134627",
     "exception": false,
     "start_time": "2021-07-30T15:53:48.080177",
     "status": "completed"
    },
    "tags": []
   },
   "outputs": [
    {
     "data": {
      "text/plain": [
       "(628, 987)"
      ]
     },
     "metadata": {},
     "output_type": "display_data"
    }
   ],
   "source": [
    "display(multiplier_model_matrix_df.shape)\n",
    "assert multiplier_model_matrix_df.shape == (628, 987)"
   ]
  },
  {
   "cell_type": "code",
   "execution_count": 62,
   "metadata": {
    "execution": {
     "iopub.execute_input": "2021-07-30T15:53:48.226631Z",
     "iopub.status.busy": "2021-07-30T15:53:48.226262Z",
     "iopub.status.idle": "2021-07-30T15:53:48.246858Z",
     "shell.execute_reply": "2021-07-30T15:53:48.246561Z"
    },
    "papermill": {
     "duration": 0.067626,
     "end_time": "2021-07-30T15:53:48.246941",
     "exception": false,
     "start_time": "2021-07-30T15:53:48.179315",
     "status": "completed"
    },
    "tags": []
   },
   "outputs": [
    {
     "data": {
      "text/html": [
       "<div>\n",
       "<style scoped>\n",
       "    .dataframe tbody tr th:only-of-type {\n",
       "        vertical-align: middle;\n",
       "    }\n",
       "\n",
       "    .dataframe tbody tr th {\n",
       "        vertical-align: top;\n",
       "    }\n",
       "\n",
       "    .dataframe thead th {\n",
       "        text-align: right;\n",
       "    }\n",
       "</style>\n",
       "<table border=\"1\" class=\"dataframe\">\n",
       "  <thead>\n",
       "    <tr style=\"text-align: right;\">\n",
       "      <th></th>\n",
       "      <th>LV1</th>\n",
       "      <th>LV2</th>\n",
       "      <th>LV3</th>\n",
       "      <th>LV4</th>\n",
       "      <th>LV5</th>\n",
       "      <th>LV6</th>\n",
       "      <th>LV7</th>\n",
       "      <th>LV8</th>\n",
       "      <th>LV9</th>\n",
       "      <th>LV10</th>\n",
       "      <th>...</th>\n",
       "      <th>LV978</th>\n",
       "      <th>LV979</th>\n",
       "      <th>LV980</th>\n",
       "      <th>LV981</th>\n",
       "      <th>LV982</th>\n",
       "      <th>LV983</th>\n",
       "      <th>LV984</th>\n",
       "      <th>LV985</th>\n",
       "      <th>LV986</th>\n",
       "      <th>LV987</th>\n",
       "    </tr>\n",
       "  </thead>\n",
       "  <tbody>\n",
       "    <tr>\n",
       "      <th>IRIS_Bcell-Memory_IgG_IgA</th>\n",
       "      <td>0.0</td>\n",
       "      <td>0.0</td>\n",
       "      <td>0.0</td>\n",
       "      <td>0.0</td>\n",
       "      <td>0.0</td>\n",
       "      <td>0.0</td>\n",
       "      <td>0.0</td>\n",
       "      <td>0.0</td>\n",
       "      <td>0.0</td>\n",
       "      <td>0.0</td>\n",
       "      <td>...</td>\n",
       "      <td>0.0</td>\n",
       "      <td>0.0</td>\n",
       "      <td>0.0</td>\n",
       "      <td>0.0</td>\n",
       "      <td>0.0</td>\n",
       "      <td>0.0</td>\n",
       "      <td>0.0</td>\n",
       "      <td>0.0</td>\n",
       "      <td>0.0</td>\n",
       "      <td>0.0</td>\n",
       "    </tr>\n",
       "    <tr>\n",
       "      <th>IRIS_Bcell-Memory_IgM</th>\n",
       "      <td>0.0</td>\n",
       "      <td>0.0</td>\n",
       "      <td>0.0</td>\n",
       "      <td>0.0</td>\n",
       "      <td>0.0</td>\n",
       "      <td>0.0</td>\n",
       "      <td>0.0</td>\n",
       "      <td>0.0</td>\n",
       "      <td>0.0</td>\n",
       "      <td>0.0</td>\n",
       "      <td>...</td>\n",
       "      <td>0.0</td>\n",
       "      <td>0.0</td>\n",
       "      <td>0.0</td>\n",
       "      <td>0.0</td>\n",
       "      <td>0.0</td>\n",
       "      <td>0.0</td>\n",
       "      <td>0.0</td>\n",
       "      <td>0.0</td>\n",
       "      <td>0.0</td>\n",
       "      <td>0.0</td>\n",
       "    </tr>\n",
       "    <tr>\n",
       "      <th>IRIS_Bcell-naive</th>\n",
       "      <td>0.0</td>\n",
       "      <td>0.0</td>\n",
       "      <td>0.0</td>\n",
       "      <td>0.0</td>\n",
       "      <td>0.0</td>\n",
       "      <td>0.0</td>\n",
       "      <td>0.0</td>\n",
       "      <td>0.0</td>\n",
       "      <td>0.0</td>\n",
       "      <td>0.0</td>\n",
       "      <td>...</td>\n",
       "      <td>0.0</td>\n",
       "      <td>0.0</td>\n",
       "      <td>0.0</td>\n",
       "      <td>0.0</td>\n",
       "      <td>0.0</td>\n",
       "      <td>0.0</td>\n",
       "      <td>0.0</td>\n",
       "      <td>0.0</td>\n",
       "      <td>0.0</td>\n",
       "      <td>0.0</td>\n",
       "    </tr>\n",
       "    <tr>\n",
       "      <th>IRIS_CD4Tcell-N0</th>\n",
       "      <td>0.0</td>\n",
       "      <td>0.0</td>\n",
       "      <td>0.0</td>\n",
       "      <td>0.0</td>\n",
       "      <td>0.0</td>\n",
       "      <td>0.0</td>\n",
       "      <td>0.0</td>\n",
       "      <td>0.0</td>\n",
       "      <td>0.0</td>\n",
       "      <td>0.0</td>\n",
       "      <td>...</td>\n",
       "      <td>0.0</td>\n",
       "      <td>0.0</td>\n",
       "      <td>0.0</td>\n",
       "      <td>0.0</td>\n",
       "      <td>0.0</td>\n",
       "      <td>0.0</td>\n",
       "      <td>0.0</td>\n",
       "      <td>0.0</td>\n",
       "      <td>0.0</td>\n",
       "      <td>0.0</td>\n",
       "    </tr>\n",
       "    <tr>\n",
       "      <th>IRIS_CD4Tcell-Th1-restimulated12hour</th>\n",
       "      <td>0.0</td>\n",
       "      <td>0.0</td>\n",
       "      <td>0.0</td>\n",
       "      <td>0.0</td>\n",
       "      <td>0.0</td>\n",
       "      <td>0.0</td>\n",
       "      <td>0.0</td>\n",
       "      <td>0.0</td>\n",
       "      <td>0.0</td>\n",
       "      <td>0.0</td>\n",
       "      <td>...</td>\n",
       "      <td>0.0</td>\n",
       "      <td>0.0</td>\n",
       "      <td>0.0</td>\n",
       "      <td>0.0</td>\n",
       "      <td>0.0</td>\n",
       "      <td>0.0</td>\n",
       "      <td>0.0</td>\n",
       "      <td>0.0</td>\n",
       "      <td>0.0</td>\n",
       "      <td>0.0</td>\n",
       "    </tr>\n",
       "  </tbody>\n",
       "</table>\n",
       "<p>5 rows × 987 columns</p>\n",
       "</div>"
      ],
      "text/plain": [
       "                                      LV1  LV2  LV3  LV4  LV5  LV6  LV7  LV8  \\\n",
       "IRIS_Bcell-Memory_IgG_IgA             0.0  0.0  0.0  0.0  0.0  0.0  0.0  0.0   \n",
       "IRIS_Bcell-Memory_IgM                 0.0  0.0  0.0  0.0  0.0  0.0  0.0  0.0   \n",
       "IRIS_Bcell-naive                      0.0  0.0  0.0  0.0  0.0  0.0  0.0  0.0   \n",
       "IRIS_CD4Tcell-N0                      0.0  0.0  0.0  0.0  0.0  0.0  0.0  0.0   \n",
       "IRIS_CD4Tcell-Th1-restimulated12hour  0.0  0.0  0.0  0.0  0.0  0.0  0.0  0.0   \n",
       "\n",
       "                                      LV9  LV10  ...  LV978  LV979  LV980  \\\n",
       "IRIS_Bcell-Memory_IgG_IgA             0.0   0.0  ...    0.0    0.0    0.0   \n",
       "IRIS_Bcell-Memory_IgM                 0.0   0.0  ...    0.0    0.0    0.0   \n",
       "IRIS_Bcell-naive                      0.0   0.0  ...    0.0    0.0    0.0   \n",
       "IRIS_CD4Tcell-N0                      0.0   0.0  ...    0.0    0.0    0.0   \n",
       "IRIS_CD4Tcell-Th1-restimulated12hour  0.0   0.0  ...    0.0    0.0    0.0   \n",
       "\n",
       "                                      LV981  LV982  LV983  LV984  LV985  \\\n",
       "IRIS_Bcell-Memory_IgG_IgA               0.0    0.0    0.0    0.0    0.0   \n",
       "IRIS_Bcell-Memory_IgM                   0.0    0.0    0.0    0.0    0.0   \n",
       "IRIS_Bcell-naive                        0.0    0.0    0.0    0.0    0.0   \n",
       "IRIS_CD4Tcell-N0                        0.0    0.0    0.0    0.0    0.0   \n",
       "IRIS_CD4Tcell-Th1-restimulated12hour    0.0    0.0    0.0    0.0    0.0   \n",
       "\n",
       "                                      LV986  LV987  \n",
       "IRIS_Bcell-Memory_IgG_IgA               0.0    0.0  \n",
       "IRIS_Bcell-Memory_IgM                   0.0    0.0  \n",
       "IRIS_Bcell-naive                        0.0    0.0  \n",
       "IRIS_CD4Tcell-N0                        0.0    0.0  \n",
       "IRIS_CD4Tcell-Th1-restimulated12hour    0.0    0.0  \n",
       "\n",
       "[5 rows x 987 columns]"
      ]
     },
     "execution_count": 62,
     "metadata": {},
     "output_type": "execute_result"
    }
   ],
   "source": [
    "multiplier_model_matrix_df.head()"
   ]
  },
  {
   "cell_type": "code",
   "execution_count": 63,
   "metadata": {
    "execution": {
     "iopub.execute_input": "2021-07-30T15:53:48.345464Z",
     "iopub.status.busy": "2021-07-30T15:53:48.345096Z",
     "iopub.status.idle": "2021-07-30T15:53:48.353345Z",
     "shell.execute_reply": "2021-07-30T15:53:48.352974Z"
    },
    "papermill": {
     "duration": 0.05813,
     "end_time": "2021-07-30T15:53:48.353430",
     "exception": false,
     "start_time": "2021-07-30T15:53:48.295300",
     "status": "completed"
    },
    "tags": []
   },
   "outputs": [],
   "source": [
    "# make sure I'm seeing the same when loaded with R\n",
    "assert multiplier_model_matrix_df.loc[\"IRIS_Bcell-Memory_IgG_IgA\", \"LV1\"] == 0\n",
    "assert (\n",
    "    multiplier_model_matrix_df.loc[\"IRIS_Bcell-Memory_IgG_IgA\", \"LV898\"].round(7)\n",
    "    == 0.5327689\n",
    ")\n",
    "assert (\n",
    "    multiplier_model_matrix_df.loc[\"IRIS_Bcell-Memory_IgG_IgA\", \"LV977\"].round(7)\n",
    "    == 0.1000158\n",
    ")\n",
    "assert multiplier_model_matrix_df.loc[\"IRIS_Bcell-Memory_IgG_IgA\", \"LV986\"] == 0\n",
    "assert multiplier_model_matrix_df.loc[\"IRIS_Bcell-Memory_IgG_IgA\", \"LV987\"] == 0\n",
    "\n",
    "assert (\n",
    "    multiplier_model_matrix_df.loc[\"IRIS_Bcell-naive\", \"LV851\"].round(8) == 0.01330388\n",
    ")\n",
    "assert multiplier_model_matrix_df.loc[\"IRIS_Bcell-naive\", \"LV977\"].round(7) == 0.3966446"
   ]
  },
  {
   "cell_type": "markdown",
   "metadata": {
    "papermill": {
     "duration": 0.044326,
     "end_time": "2021-07-30T15:53:48.442639",
     "exception": false,
     "start_time": "2021-07-30T15:53:48.398313",
     "status": "completed"
    },
    "tags": []
   },
   "source": [
    "## Save"
   ]
  },
  {
   "cell_type": "markdown",
   "metadata": {
    "papermill": {
     "duration": 0.044609,
     "end_time": "2021-07-30T15:53:48.532364",
     "exception": false,
     "start_time": "2021-07-30T15:53:48.487755",
     "status": "completed"
    },
    "tags": []
   },
   "source": [
    "### Pickle format"
   ]
  },
  {
   "cell_type": "code",
   "execution_count": 64,
   "metadata": {
    "execution": {
     "iopub.execute_input": "2021-07-30T15:53:48.625302Z",
     "iopub.status.busy": "2021-07-30T15:53:48.624932Z",
     "iopub.status.idle": "2021-07-30T15:53:48.633469Z",
     "shell.execute_reply": "2021-07-30T15:53:48.633141Z"
    },
    "papermill": {
     "duration": 0.056082,
     "end_time": "2021-07-30T15:53:48.633556",
     "exception": false,
     "start_time": "2021-07-30T15:53:48.577474",
     "status": "completed"
    },
    "tags": []
   },
   "outputs": [
    {
     "data": {
      "text/plain": [
       "PosixPath('/home/miltondp/projects/labs/greenelab/phenoplier/base/data/multiplier/multiplier_model_u.pkl')"
      ]
     },
     "metadata": {},
     "output_type": "display_data"
    }
   ],
   "source": [
    "output_file = conf.MULTIPLIER[\"MODEL_U_MATRIX_FILE\"]\n",
    "display(output_file)"
   ]
  },
  {
   "cell_type": "code",
   "execution_count": 65,
   "metadata": {
    "execution": {
     "iopub.execute_input": "2021-07-30T15:53:48.726990Z",
     "iopub.status.busy": "2021-07-30T15:53:48.726637Z",
     "iopub.status.idle": "2021-07-30T15:53:48.738005Z",
     "shell.execute_reply": "2021-07-30T15:53:48.737677Z"
    },
    "papermill": {
     "duration": 0.059377,
     "end_time": "2021-07-30T15:53:48.738090",
     "exception": false,
     "start_time": "2021-07-30T15:53:48.678713",
     "status": "completed"
    },
    "tags": []
   },
   "outputs": [],
   "source": [
    "multiplier_model_matrix_df.to_pickle(output_file)"
   ]
  },
  {
   "cell_type": "markdown",
   "metadata": {
    "papermill": {
     "duration": 0.044562,
     "end_time": "2021-07-30T15:53:48.828023",
     "exception": false,
     "start_time": "2021-07-30T15:53:48.783461",
     "status": "completed"
    },
    "tags": []
   },
   "source": [
    "### RDS format"
   ]
  },
  {
   "cell_type": "code",
   "execution_count": 66,
   "metadata": {
    "execution": {
     "iopub.execute_input": "2021-07-30T15:53:48.919764Z",
     "iopub.status.busy": "2021-07-30T15:53:48.919395Z",
     "iopub.status.idle": "2021-07-30T15:53:48.927735Z",
     "shell.execute_reply": "2021-07-30T15:53:48.927371Z"
    },
    "papermill": {
     "duration": 0.055166,
     "end_time": "2021-07-30T15:53:48.927819",
     "exception": false,
     "start_time": "2021-07-30T15:53:48.872653",
     "status": "completed"
    },
    "tags": []
   },
   "outputs": [
    {
     "data": {
      "text/plain": [
       "PosixPath('/home/miltondp/projects/labs/greenelab/phenoplier/base/data/multiplier/multiplier_model_u.rds')"
      ]
     },
     "metadata": {},
     "output_type": "display_data"
    }
   ],
   "source": [
    "output_rds_file = output_file.with_suffix(\".rds\")\n",
    "display(output_rds_file)"
   ]
  },
  {
   "cell_type": "code",
   "execution_count": 67,
   "metadata": {
    "execution": {
     "iopub.execute_input": "2021-07-30T15:53:49.022427Z",
     "iopub.status.busy": "2021-07-30T15:53:49.022038Z",
     "iopub.status.idle": "2021-07-30T15:53:49.073928Z",
     "shell.execute_reply": "2021-07-30T15:53:49.073557Z"
    },
    "papermill": {
     "duration": 0.099869,
     "end_time": "2021-07-30T15:53:49.074011",
     "exception": false,
     "start_time": "2021-07-30T15:53:48.974142",
     "status": "completed"
    },
    "tags": []
   },
   "outputs": [
    {
     "data": {
      "text/plain": [
       "<rpy2.rinterface_lib.sexp.NULLType object at 0x7f9ab88f0d00> [RTYPES.NILSXP]"
      ]
     },
     "execution_count": 67,
     "metadata": {},
     "output_type": "execute_result"
    }
   ],
   "source": [
    "saveRDS(multiplier_model_matrix, str(output_rds_file))"
   ]
  },
  {
   "cell_type": "markdown",
   "metadata": {
    "papermill": {
     "duration": 0.045509,
     "end_time": "2021-07-30T15:53:49.165908",
     "exception": false,
     "start_time": "2021-07-30T15:53:49.120399",
     "status": "completed"
    },
    "tags": []
   },
   "source": [
    "### Text format"
   ]
  },
  {
   "cell_type": "code",
   "execution_count": 68,
   "metadata": {
    "execution": {
     "iopub.execute_input": "2021-07-30T15:53:49.259612Z",
     "iopub.status.busy": "2021-07-30T15:53:49.259232Z",
     "iopub.status.idle": "2021-07-30T15:53:49.267672Z",
     "shell.execute_reply": "2021-07-30T15:53:49.267300Z"
    },
    "papermill": {
     "duration": 0.05642,
     "end_time": "2021-07-30T15:53:49.267755",
     "exception": false,
     "start_time": "2021-07-30T15:53:49.211335",
     "status": "completed"
    },
    "tags": []
   },
   "outputs": [
    {
     "data": {
      "text/plain": [
       "PosixPath('/home/miltondp/projects/labs/greenelab/phenoplier/base/data/multiplier/multiplier_model_u.tsv.gz')"
      ]
     },
     "metadata": {},
     "output_type": "display_data"
    }
   ],
   "source": [
    "# tsv format\n",
    "output_text_file = output_file.with_suffix(\".tsv.gz\")\n",
    "display(output_text_file)"
   ]
  },
  {
   "cell_type": "code",
   "execution_count": 69,
   "metadata": {
    "execution": {
     "iopub.execute_input": "2021-07-30T15:53:49.368257Z",
     "iopub.status.busy": "2021-07-30T15:53:49.367898Z",
     "iopub.status.idle": "2021-07-30T15:53:50.146918Z",
     "shell.execute_reply": "2021-07-30T15:53:50.146533Z"
    },
    "papermill": {
     "duration": 0.827983,
     "end_time": "2021-07-30T15:53:50.147053",
     "exception": false,
     "start_time": "2021-07-30T15:53:49.319070",
     "status": "completed"
    },
    "tags": []
   },
   "outputs": [],
   "source": [
    "multiplier_model_matrix_df.to_csv(\n",
    "    output_text_file, sep=\"\\t\", index=True, float_format=\"%.5e\"\n",
    ")"
   ]
  },
  {
   "cell_type": "markdown",
   "metadata": {
    "papermill": {
     "duration": 0.045802,
     "end_time": "2021-07-30T15:53:50.239345",
     "exception": false,
     "start_time": "2021-07-30T15:53:50.193543",
     "status": "completed"
    },
    "tags": []
   },
   "source": [
    "# Matrix U - AUC"
   ]
  },
  {
   "cell_type": "code",
   "execution_count": 70,
   "metadata": {
    "execution": {
     "iopub.execute_input": "2021-07-30T15:53:50.338954Z",
     "iopub.status.busy": "2021-07-30T15:53:50.338598Z",
     "iopub.status.idle": "2021-07-30T15:53:50.346173Z",
     "shell.execute_reply": "2021-07-30T15:53:50.345851Z"
    },
    "papermill": {
     "duration": 0.060026,
     "end_time": "2021-07-30T15:53:50.346259",
     "exception": false,
     "start_time": "2021-07-30T15:53:50.286233",
     "status": "completed"
    },
    "tags": []
   },
   "outputs": [],
   "source": [
    "multiplier_model_matrix = multiplier_full_model.rx2(\"Uauc\")"
   ]
  },
  {
   "cell_type": "code",
   "execution_count": 71,
   "metadata": {
    "execution": {
     "iopub.execute_input": "2021-07-30T15:53:50.440323Z",
     "iopub.status.busy": "2021-07-30T15:53:50.439971Z",
     "iopub.status.idle": "2021-07-30T15:53:50.448603Z",
     "shell.execute_reply": "2021-07-30T15:53:50.448254Z"
    },
    "papermill": {
     "duration": 0.056237,
     "end_time": "2021-07-30T15:53:50.448687",
     "exception": false,
     "start_time": "2021-07-30T15:53:50.392450",
     "status": "completed"
    },
    "tags": []
   },
   "outputs": [
    {
     "data": {
      "text/html": [
       "\n",
       "        <span>FloatMatrix with 619836 elements.</span>\n",
       "        <table>\n",
       "        <tbody>\n",
       "          <tr>\n",
       "          \n",
       "            <td>\n",
       "            0.000000\n",
       "            </td>\n",
       "          \n",
       "            <td>\n",
       "            0.000000\n",
       "            </td>\n",
       "          \n",
       "            <td>\n",
       "            0.000000\n",
       "            </td>\n",
       "          \n",
       "            <td>\n",
       "            ...\n",
       "            </td>\n",
       "          \n",
       "            <td>\n",
       "            0.000000\n",
       "            </td>\n",
       "          \n",
       "            <td>\n",
       "            0.000000\n",
       "            </td>\n",
       "          \n",
       "            <td>\n",
       "            0.000000\n",
       "            </td>\n",
       "          \n",
       "          </tr>\n",
       "        </tbody>\n",
       "        </table>\n",
       "        "
      ],
      "text/plain": [
       "R object with classes: ('matrix',) mapped to:\n",
       "[0.000000, 0.000000, 0.000000, 0.000000, ..., 0.000000, 0.000000, 0.000000, 0.000000]"
      ]
     },
     "execution_count": 71,
     "metadata": {},
     "output_type": "execute_result"
    }
   ],
   "source": [
    "multiplier_model_matrix"
   ]
  },
  {
   "cell_type": "code",
   "execution_count": 72,
   "metadata": {
    "execution": {
     "iopub.execute_input": "2021-07-30T15:53:50.543450Z",
     "iopub.status.busy": "2021-07-30T15:53:50.543096Z",
     "iopub.status.idle": "2021-07-30T15:53:50.552135Z",
     "shell.execute_reply": "2021-07-30T15:53:50.551738Z"
    },
    "papermill": {
     "duration": 0.057152,
     "end_time": "2021-07-30T15:53:50.552228",
     "exception": false,
     "start_time": "2021-07-30T15:53:50.495076",
     "status": "completed"
    },
    "tags": []
   },
   "outputs": [
    {
     "data": {
      "text/html": [
       "\n",
       "        <span>StrVector with 628 elements.</span>\n",
       "        <table>\n",
       "        <tbody>\n",
       "          <tr>\n",
       "          \n",
       "            <td>\n",
       "            'IRIS_Bce...\n",
       "            </td>\n",
       "          \n",
       "            <td>\n",
       "            'IRIS_Bce...\n",
       "            </td>\n",
       "          \n",
       "            <td>\n",
       "            'IRIS_Bce...\n",
       "            </td>\n",
       "          \n",
       "            <td>\n",
       "            ...\n",
       "            </td>\n",
       "          \n",
       "            <td>\n",
       "            'PID_BCR_...\n",
       "            </td>\n",
       "          \n",
       "            <td>\n",
       "            'PID_TELO...\n",
       "            </td>\n",
       "          \n",
       "            <td>\n",
       "            'PID_PI3K...\n",
       "            </td>\n",
       "          \n",
       "          </tr>\n",
       "        </tbody>\n",
       "        </table>\n",
       "        "
      ],
      "text/plain": [
       "R object with classes: ('character',) mapped to:\n",
       "['IRIS_Bce..., 'IRIS_Bce..., 'IRIS_Bce..., 'IRIS_CD4..., ..., 'REACTOME..., 'PID_BCR_..., 'PID_TELO..., 'PID_PI3K...]"
      ]
     },
     "execution_count": 72,
     "metadata": {},
     "output_type": "execute_result"
    }
   ],
   "source": [
    "multiplier_model_matrix.rownames"
   ]
  },
  {
   "cell_type": "code",
   "execution_count": 73,
   "metadata": {
    "execution": {
     "iopub.execute_input": "2021-07-30T15:53:50.650379Z",
     "iopub.status.busy": "2021-07-30T15:53:50.650020Z",
     "iopub.status.idle": "2021-07-30T15:53:50.658760Z",
     "shell.execute_reply": "2021-07-30T15:53:50.658403Z"
    },
    "papermill": {
     "duration": 0.057615,
     "end_time": "2021-07-30T15:53:50.658842",
     "exception": false,
     "start_time": "2021-07-30T15:53:50.601227",
     "status": "completed"
    },
    "tags": []
   },
   "outputs": [
    {
     "data": {
      "text/html": [
       "\n",
       "        <span>StrVector with 987 elements.</span>\n",
       "        <table>\n",
       "        <tbody>\n",
       "          <tr>\n",
       "          \n",
       "            <td>\n",
       "            'LV1'\n",
       "            </td>\n",
       "          \n",
       "            <td>\n",
       "            'LV2'\n",
       "            </td>\n",
       "          \n",
       "            <td>\n",
       "            'LV3'\n",
       "            </td>\n",
       "          \n",
       "            <td>\n",
       "            ...\n",
       "            </td>\n",
       "          \n",
       "            <td>\n",
       "            'LV985'\n",
       "            </td>\n",
       "          \n",
       "            <td>\n",
       "            'LV986'\n",
       "            </td>\n",
       "          \n",
       "            <td>\n",
       "            'LV987'\n",
       "            </td>\n",
       "          \n",
       "          </tr>\n",
       "        </tbody>\n",
       "        </table>\n",
       "        "
      ],
      "text/plain": [
       "R object with classes: ('character',) mapped to:\n",
       "['LV1', 'LV2', 'LV3', 'LV4', ..., 'LV984', 'LV985', 'LV986', 'LV987']"
      ]
     },
     "execution_count": 73,
     "metadata": {},
     "output_type": "execute_result"
    }
   ],
   "source": [
    "multiplier_model_matrix.colnames"
   ]
  },
  {
   "cell_type": "code",
   "execution_count": 74,
   "metadata": {
    "execution": {
     "iopub.execute_input": "2021-07-30T15:53:50.755869Z",
     "iopub.status.busy": "2021-07-30T15:53:50.755501Z",
     "iopub.status.idle": "2021-07-30T15:53:50.763625Z",
     "shell.execute_reply": "2021-07-30T15:53:50.763252Z"
    },
    "papermill": {
     "duration": 0.057358,
     "end_time": "2021-07-30T15:53:50.763711",
     "exception": false,
     "start_time": "2021-07-30T15:53:50.706353",
     "status": "completed"
    },
    "tags": []
   },
   "outputs": [],
   "source": [
    "with localconverter(ro.default_converter + pandas2ri.converter):\n",
    "    multiplier_model_matrix_values = ro.conversion.rpy2py(multiplier_model_matrix)"
   ]
  },
  {
   "cell_type": "code",
   "execution_count": 75,
   "metadata": {
    "execution": {
     "iopub.execute_input": "2021-07-30T15:53:50.860398Z",
     "iopub.status.busy": "2021-07-30T15:53:50.860043Z",
     "iopub.status.idle": "2021-07-30T15:53:50.871395Z",
     "shell.execute_reply": "2021-07-30T15:53:50.871021Z"
    },
    "papermill": {
     "duration": 0.060503,
     "end_time": "2021-07-30T15:53:50.871479",
     "exception": false,
     "start_time": "2021-07-30T15:53:50.810976",
     "status": "completed"
    },
    "tags": []
   },
   "outputs": [],
   "source": [
    "multiplier_model_matrix_df = pd.DataFrame(\n",
    "    data=multiplier_model_matrix_values,\n",
    "    index=multiplier_model_matrix.rownames,\n",
    "    columns=multiplier_model_matrix.colnames,\n",
    ")"
   ]
  },
  {
   "cell_type": "code",
   "execution_count": 76,
   "metadata": {
    "execution": {
     "iopub.execute_input": "2021-07-30T15:53:50.968454Z",
     "iopub.status.busy": "2021-07-30T15:53:50.968095Z",
     "iopub.status.idle": "2021-07-30T15:53:50.976496Z",
     "shell.execute_reply": "2021-07-30T15:53:50.976126Z"
    },
    "papermill": {
     "duration": 0.057436,
     "end_time": "2021-07-30T15:53:50.976580",
     "exception": false,
     "start_time": "2021-07-30T15:53:50.919144",
     "status": "completed"
    },
    "tags": []
   },
   "outputs": [
    {
     "data": {
      "text/plain": [
       "(628, 987)"
      ]
     },
     "metadata": {},
     "output_type": "display_data"
    }
   ],
   "source": [
    "display(multiplier_model_matrix_df.shape)\n",
    "assert multiplier_model_matrix_df.shape == (628, 987)"
   ]
  },
  {
   "cell_type": "code",
   "execution_count": 77,
   "metadata": {
    "execution": {
     "iopub.execute_input": "2021-07-30T15:53:51.072857Z",
     "iopub.status.busy": "2021-07-30T15:53:51.072449Z",
     "iopub.status.idle": "2021-07-30T15:53:51.092997Z",
     "shell.execute_reply": "2021-07-30T15:53:51.092585Z"
    },
    "papermill": {
     "duration": 0.069323,
     "end_time": "2021-07-30T15:53:51.093080",
     "exception": false,
     "start_time": "2021-07-30T15:53:51.023757",
     "status": "completed"
    },
    "tags": []
   },
   "outputs": [
    {
     "data": {
      "text/html": [
       "<div>\n",
       "<style scoped>\n",
       "    .dataframe tbody tr th:only-of-type {\n",
       "        vertical-align: middle;\n",
       "    }\n",
       "\n",
       "    .dataframe tbody tr th {\n",
       "        vertical-align: top;\n",
       "    }\n",
       "\n",
       "    .dataframe thead th {\n",
       "        text-align: right;\n",
       "    }\n",
       "</style>\n",
       "<table border=\"1\" class=\"dataframe\">\n",
       "  <thead>\n",
       "    <tr style=\"text-align: right;\">\n",
       "      <th></th>\n",
       "      <th>LV1</th>\n",
       "      <th>LV2</th>\n",
       "      <th>LV3</th>\n",
       "      <th>LV4</th>\n",
       "      <th>LV5</th>\n",
       "      <th>LV6</th>\n",
       "      <th>LV7</th>\n",
       "      <th>LV8</th>\n",
       "      <th>LV9</th>\n",
       "      <th>LV10</th>\n",
       "      <th>...</th>\n",
       "      <th>LV978</th>\n",
       "      <th>LV979</th>\n",
       "      <th>LV980</th>\n",
       "      <th>LV981</th>\n",
       "      <th>LV982</th>\n",
       "      <th>LV983</th>\n",
       "      <th>LV984</th>\n",
       "      <th>LV985</th>\n",
       "      <th>LV986</th>\n",
       "      <th>LV987</th>\n",
       "    </tr>\n",
       "  </thead>\n",
       "  <tbody>\n",
       "    <tr>\n",
       "      <th>IRIS_Bcell-Memory_IgG_IgA</th>\n",
       "      <td>0.0</td>\n",
       "      <td>0.0</td>\n",
       "      <td>0.0</td>\n",
       "      <td>0.0</td>\n",
       "      <td>0.0</td>\n",
       "      <td>0.0</td>\n",
       "      <td>0.0</td>\n",
       "      <td>0.0</td>\n",
       "      <td>0.0</td>\n",
       "      <td>0.0</td>\n",
       "      <td>...</td>\n",
       "      <td>0.0</td>\n",
       "      <td>0.0</td>\n",
       "      <td>0.0</td>\n",
       "      <td>0.0</td>\n",
       "      <td>0.0</td>\n",
       "      <td>0.0</td>\n",
       "      <td>0.0</td>\n",
       "      <td>0.0</td>\n",
       "      <td>0.0</td>\n",
       "      <td>0.0</td>\n",
       "    </tr>\n",
       "    <tr>\n",
       "      <th>IRIS_Bcell-Memory_IgM</th>\n",
       "      <td>0.0</td>\n",
       "      <td>0.0</td>\n",
       "      <td>0.0</td>\n",
       "      <td>0.0</td>\n",
       "      <td>0.0</td>\n",
       "      <td>0.0</td>\n",
       "      <td>0.0</td>\n",
       "      <td>0.0</td>\n",
       "      <td>0.0</td>\n",
       "      <td>0.0</td>\n",
       "      <td>...</td>\n",
       "      <td>0.0</td>\n",
       "      <td>0.0</td>\n",
       "      <td>0.0</td>\n",
       "      <td>0.0</td>\n",
       "      <td>0.0</td>\n",
       "      <td>0.0</td>\n",
       "      <td>0.0</td>\n",
       "      <td>0.0</td>\n",
       "      <td>0.0</td>\n",
       "      <td>0.0</td>\n",
       "    </tr>\n",
       "    <tr>\n",
       "      <th>IRIS_Bcell-naive</th>\n",
       "      <td>0.0</td>\n",
       "      <td>0.0</td>\n",
       "      <td>0.0</td>\n",
       "      <td>0.0</td>\n",
       "      <td>0.0</td>\n",
       "      <td>0.0</td>\n",
       "      <td>0.0</td>\n",
       "      <td>0.0</td>\n",
       "      <td>0.0</td>\n",
       "      <td>0.0</td>\n",
       "      <td>...</td>\n",
       "      <td>0.0</td>\n",
       "      <td>0.0</td>\n",
       "      <td>0.0</td>\n",
       "      <td>0.0</td>\n",
       "      <td>0.0</td>\n",
       "      <td>0.0</td>\n",
       "      <td>0.0</td>\n",
       "      <td>0.0</td>\n",
       "      <td>0.0</td>\n",
       "      <td>0.0</td>\n",
       "    </tr>\n",
       "    <tr>\n",
       "      <th>IRIS_CD4Tcell-N0</th>\n",
       "      <td>0.0</td>\n",
       "      <td>0.0</td>\n",
       "      <td>0.0</td>\n",
       "      <td>0.0</td>\n",
       "      <td>0.0</td>\n",
       "      <td>0.0</td>\n",
       "      <td>0.0</td>\n",
       "      <td>0.0</td>\n",
       "      <td>0.0</td>\n",
       "      <td>0.0</td>\n",
       "      <td>...</td>\n",
       "      <td>0.0</td>\n",
       "      <td>0.0</td>\n",
       "      <td>0.0</td>\n",
       "      <td>0.0</td>\n",
       "      <td>0.0</td>\n",
       "      <td>0.0</td>\n",
       "      <td>0.0</td>\n",
       "      <td>0.0</td>\n",
       "      <td>0.0</td>\n",
       "      <td>0.0</td>\n",
       "    </tr>\n",
       "    <tr>\n",
       "      <th>IRIS_CD4Tcell-Th1-restimulated12hour</th>\n",
       "      <td>0.0</td>\n",
       "      <td>0.0</td>\n",
       "      <td>0.0</td>\n",
       "      <td>0.0</td>\n",
       "      <td>0.0</td>\n",
       "      <td>0.0</td>\n",
       "      <td>0.0</td>\n",
       "      <td>0.0</td>\n",
       "      <td>0.0</td>\n",
       "      <td>0.0</td>\n",
       "      <td>...</td>\n",
       "      <td>0.0</td>\n",
       "      <td>0.0</td>\n",
       "      <td>0.0</td>\n",
       "      <td>0.0</td>\n",
       "      <td>0.0</td>\n",
       "      <td>0.0</td>\n",
       "      <td>0.0</td>\n",
       "      <td>0.0</td>\n",
       "      <td>0.0</td>\n",
       "      <td>0.0</td>\n",
       "    </tr>\n",
       "  </tbody>\n",
       "</table>\n",
       "<p>5 rows × 987 columns</p>\n",
       "</div>"
      ],
      "text/plain": [
       "                                      LV1  LV2  LV3  LV4  LV5  LV6  LV7  LV8  \\\n",
       "IRIS_Bcell-Memory_IgG_IgA             0.0  0.0  0.0  0.0  0.0  0.0  0.0  0.0   \n",
       "IRIS_Bcell-Memory_IgM                 0.0  0.0  0.0  0.0  0.0  0.0  0.0  0.0   \n",
       "IRIS_Bcell-naive                      0.0  0.0  0.0  0.0  0.0  0.0  0.0  0.0   \n",
       "IRIS_CD4Tcell-N0                      0.0  0.0  0.0  0.0  0.0  0.0  0.0  0.0   \n",
       "IRIS_CD4Tcell-Th1-restimulated12hour  0.0  0.0  0.0  0.0  0.0  0.0  0.0  0.0   \n",
       "\n",
       "                                      LV9  LV10  ...  LV978  LV979  LV980  \\\n",
       "IRIS_Bcell-Memory_IgG_IgA             0.0   0.0  ...    0.0    0.0    0.0   \n",
       "IRIS_Bcell-Memory_IgM                 0.0   0.0  ...    0.0    0.0    0.0   \n",
       "IRIS_Bcell-naive                      0.0   0.0  ...    0.0    0.0    0.0   \n",
       "IRIS_CD4Tcell-N0                      0.0   0.0  ...    0.0    0.0    0.0   \n",
       "IRIS_CD4Tcell-Th1-restimulated12hour  0.0   0.0  ...    0.0    0.0    0.0   \n",
       "\n",
       "                                      LV981  LV982  LV983  LV984  LV985  \\\n",
       "IRIS_Bcell-Memory_IgG_IgA               0.0    0.0    0.0    0.0    0.0   \n",
       "IRIS_Bcell-Memory_IgM                   0.0    0.0    0.0    0.0    0.0   \n",
       "IRIS_Bcell-naive                        0.0    0.0    0.0    0.0    0.0   \n",
       "IRIS_CD4Tcell-N0                        0.0    0.0    0.0    0.0    0.0   \n",
       "IRIS_CD4Tcell-Th1-restimulated12hour    0.0    0.0    0.0    0.0    0.0   \n",
       "\n",
       "                                      LV986  LV987  \n",
       "IRIS_Bcell-Memory_IgG_IgA               0.0    0.0  \n",
       "IRIS_Bcell-Memory_IgM                   0.0    0.0  \n",
       "IRIS_Bcell-naive                        0.0    0.0  \n",
       "IRIS_CD4Tcell-N0                        0.0    0.0  \n",
       "IRIS_CD4Tcell-Th1-restimulated12hour    0.0    0.0  \n",
       "\n",
       "[5 rows x 987 columns]"
      ]
     },
     "execution_count": 77,
     "metadata": {},
     "output_type": "execute_result"
    }
   ],
   "source": [
    "multiplier_model_matrix_df.head()"
   ]
  },
  {
   "cell_type": "code",
   "execution_count": 78,
   "metadata": {
    "execution": {
     "iopub.execute_input": "2021-07-30T15:53:51.191971Z",
     "iopub.status.busy": "2021-07-30T15:53:51.191553Z",
     "iopub.status.idle": "2021-07-30T15:53:51.199590Z",
     "shell.execute_reply": "2021-07-30T15:53:51.199213Z"
    },
    "papermill": {
     "duration": 0.05864,
     "end_time": "2021-07-30T15:53:51.199676",
     "exception": false,
     "start_time": "2021-07-30T15:53:51.141036",
     "status": "completed"
    },
    "tags": []
   },
   "outputs": [],
   "source": [
    "# make sure I'm seeing the same when loaded with R\n",
    "assert multiplier_model_matrix_df.loc[\"PID_FASPATHWAY\", \"LV136\"] == 0\n",
    "assert (\n",
    "    multiplier_model_matrix_df.loc[\"PID_INTEGRIN1_PATHWAY\", \"LV136\"].round(7)\n",
    "    == 0.8832853\n",
    ")\n",
    "assert (\n",
    "    multiplier_model_matrix_df.loc[\"REACTOME_COLLAGEN_FORMATION\", \"LV136\"].round(7)\n",
    "    == 0.8707412\n",
    ")\n",
    "\n",
    "assert multiplier_model_matrix_df.loc[\"PID_FASPATHWAY\", \"LV603\"] == 0\n",
    "assert (\n",
    "    multiplier_model_matrix_df.loc[\"IRIS_Neutrophil-Resting\", \"LV603\"].round(7)\n",
    "    == 0.9057506\n",
    ")\n",
    "assert multiplier_model_matrix_df.loc[\"SVM Neutrophils\", \"LV603\"].round(7) == 0.9797889"
   ]
  },
  {
   "cell_type": "markdown",
   "metadata": {
    "papermill": {
     "duration": 0.049163,
     "end_time": "2021-07-30T15:53:51.297543",
     "exception": false,
     "start_time": "2021-07-30T15:53:51.248380",
     "status": "completed"
    },
    "tags": []
   },
   "source": [
    "## Save"
   ]
  },
  {
   "cell_type": "markdown",
   "metadata": {
    "papermill": {
     "duration": 0.047308,
     "end_time": "2021-07-30T15:53:51.396662",
     "exception": false,
     "start_time": "2021-07-30T15:53:51.349354",
     "status": "completed"
    },
    "tags": []
   },
   "source": [
    "### Pickle format"
   ]
  },
  {
   "cell_type": "code",
   "execution_count": 79,
   "metadata": {
    "execution": {
     "iopub.execute_input": "2021-07-30T15:53:51.493505Z",
     "iopub.status.busy": "2021-07-30T15:53:51.493145Z",
     "iopub.status.idle": "2021-07-30T15:53:51.501435Z",
     "shell.execute_reply": "2021-07-30T15:53:51.501070Z"
    },
    "papermill": {
     "duration": 0.057892,
     "end_time": "2021-07-30T15:53:51.501519",
     "exception": false,
     "start_time": "2021-07-30T15:53:51.443627",
     "status": "completed"
    },
    "tags": []
   },
   "outputs": [
    {
     "data": {
      "text/plain": [
       "PosixPath('/home/miltondp/projects/labs/greenelab/phenoplier/base/data/multiplier/multiplier_model_u_auc.pkl')"
      ]
     },
     "metadata": {},
     "output_type": "display_data"
    }
   ],
   "source": [
    "output_file = conf.MULTIPLIER[\"MODEL_U_AUC_MATRIX_FILE\"]\n",
    "display(output_file)"
   ]
  },
  {
   "cell_type": "code",
   "execution_count": 80,
   "metadata": {
    "execution": {
     "iopub.execute_input": "2021-07-30T15:53:51.601363Z",
     "iopub.status.busy": "2021-07-30T15:53:51.600996Z",
     "iopub.status.idle": "2021-07-30T15:53:51.612351Z",
     "shell.execute_reply": "2021-07-30T15:53:51.611983Z"
    },
    "papermill": {
     "duration": 0.062326,
     "end_time": "2021-07-30T15:53:51.612439",
     "exception": false,
     "start_time": "2021-07-30T15:53:51.550113",
     "status": "completed"
    },
    "tags": []
   },
   "outputs": [],
   "source": [
    "multiplier_model_matrix_df.to_pickle(output_file)"
   ]
  },
  {
   "cell_type": "markdown",
   "metadata": {
    "papermill": {
     "duration": 0.047732,
     "end_time": "2021-07-30T15:53:51.708655",
     "exception": false,
     "start_time": "2021-07-30T15:53:51.660923",
     "status": "completed"
    },
    "tags": []
   },
   "source": [
    "### RDS format"
   ]
  },
  {
   "cell_type": "code",
   "execution_count": 81,
   "metadata": {
    "execution": {
     "iopub.execute_input": "2021-07-30T15:53:51.806292Z",
     "iopub.status.busy": "2021-07-30T15:53:51.805931Z",
     "iopub.status.idle": "2021-07-30T15:53:51.814135Z",
     "shell.execute_reply": "2021-07-30T15:53:51.813769Z"
    },
    "papermill": {
     "duration": 0.057877,
     "end_time": "2021-07-30T15:53:51.814218",
     "exception": false,
     "start_time": "2021-07-30T15:53:51.756341",
     "status": "completed"
    },
    "tags": []
   },
   "outputs": [
    {
     "data": {
      "text/plain": [
       "PosixPath('/home/miltondp/projects/labs/greenelab/phenoplier/base/data/multiplier/multiplier_model_u_auc.rds')"
      ]
     },
     "metadata": {},
     "output_type": "display_data"
    }
   ],
   "source": [
    "output_rds_file = output_file.with_suffix(\".rds\")\n",
    "display(output_rds_file)"
   ]
  },
  {
   "cell_type": "code",
   "execution_count": 82,
   "metadata": {
    "execution": {
     "iopub.execute_input": "2021-07-30T15:53:51.911658Z",
     "iopub.status.busy": "2021-07-30T15:53:51.911305Z",
     "iopub.status.idle": "2021-07-30T15:53:51.962970Z",
     "shell.execute_reply": "2021-07-30T15:53:51.962609Z"
    },
    "papermill": {
     "duration": 0.101028,
     "end_time": "2021-07-30T15:53:51.963054",
     "exception": false,
     "start_time": "2021-07-30T15:53:51.862026",
     "status": "completed"
    },
    "tags": []
   },
   "outputs": [
    {
     "data": {
      "text/plain": [
       "<rpy2.rinterface_lib.sexp.NULLType object at 0x7f9ab88f0d00> [RTYPES.NILSXP]"
      ]
     },
     "execution_count": 82,
     "metadata": {},
     "output_type": "execute_result"
    }
   ],
   "source": [
    "saveRDS(multiplier_model_matrix, str(output_rds_file))"
   ]
  },
  {
   "cell_type": "markdown",
   "metadata": {
    "papermill": {
     "duration": 0.048032,
     "end_time": "2021-07-30T15:53:52.059407",
     "exception": false,
     "start_time": "2021-07-30T15:53:52.011375",
     "status": "completed"
    },
    "tags": []
   },
   "source": [
    "### Text format"
   ]
  },
  {
   "cell_type": "code",
   "execution_count": 83,
   "metadata": {
    "execution": {
     "iopub.execute_input": "2021-07-30T15:53:52.158384Z",
     "iopub.status.busy": "2021-07-30T15:53:52.158024Z",
     "iopub.status.idle": "2021-07-30T15:53:52.166947Z",
     "shell.execute_reply": "2021-07-30T15:53:52.166600Z"
    },
    "papermill": {
     "duration": 0.059391,
     "end_time": "2021-07-30T15:53:52.167026",
     "exception": false,
     "start_time": "2021-07-30T15:53:52.107635",
     "status": "completed"
    },
    "tags": []
   },
   "outputs": [
    {
     "data": {
      "text/plain": [
       "PosixPath('/home/miltondp/projects/labs/greenelab/phenoplier/base/data/multiplier/multiplier_model_u_auc.tsv.gz')"
      ]
     },
     "metadata": {},
     "output_type": "display_data"
    }
   ],
   "source": [
    "# tsv format\n",
    "output_text_file = output_file.with_suffix(\".tsv.gz\")\n",
    "display(output_text_file)"
   ]
  },
  {
   "cell_type": "code",
   "execution_count": 84,
   "metadata": {
    "execution": {
     "iopub.execute_input": "2021-07-30T15:53:52.265414Z",
     "iopub.status.busy": "2021-07-30T15:53:52.265047Z",
     "iopub.status.idle": "2021-07-30T15:53:53.043303Z",
     "shell.execute_reply": "2021-07-30T15:53:53.042994Z"
    },
    "papermill": {
     "duration": 0.828466,
     "end_time": "2021-07-30T15:53:53.043389",
     "exception": false,
     "start_time": "2021-07-30T15:53:52.214923",
     "status": "completed"
    },
    "tags": []
   },
   "outputs": [],
   "source": [
    "multiplier_model_matrix_df.to_csv(\n",
    "    output_text_file, sep=\"\\t\", index=True, float_format=\"%.5e\"\n",
    ")"
   ]
  },
  {
   "cell_type": "markdown",
   "metadata": {
    "papermill": {
     "duration": 0.048002,
     "end_time": "2021-07-30T15:53:53.139684",
     "exception": false,
     "start_time": "2021-07-30T15:53:53.091682",
     "status": "completed"
    },
    "tags": []
   },
   "source": [
    "# Model metadata"
   ]
  },
  {
   "cell_type": "code",
   "execution_count": 85,
   "metadata": {
    "execution": {
     "iopub.execute_input": "2021-07-30T15:53:53.238629Z",
     "iopub.status.busy": "2021-07-30T15:53:53.238273Z",
     "iopub.status.idle": "2021-07-30T15:53:53.246686Z",
     "shell.execute_reply": "2021-07-30T15:53:53.246337Z"
    },
    "papermill": {
     "duration": 0.058983,
     "end_time": "2021-07-30T15:53:53.246766",
     "exception": false,
     "start_time": "2021-07-30T15:53:53.187783",
     "status": "completed"
    },
    "tags": []
   },
   "outputs": [
    {
     "data": {
      "text/plain": [
       "['residual',\n",
       " 'B',\n",
       " 'Z',\n",
       " 'U',\n",
       " 'C',\n",
       " 'numActPath',\n",
       " 'L1',\n",
       " 'L2',\n",
       " 'L3',\n",
       " 'heldOutGenes',\n",
       " 'withPrior',\n",
       " 'Uauc',\n",
       " 'Up',\n",
       " 'summary']"
      ]
     },
     "metadata": {},
     "output_type": "display_data"
    }
   ],
   "source": [
    "model_names = list(multiplier_full_model.names)\n",
    "display(model_names)"
   ]
  },
  {
   "cell_type": "code",
   "execution_count": 86,
   "metadata": {
    "execution": {
     "iopub.execute_input": "2021-07-30T15:53:53.353539Z",
     "iopub.status.busy": "2021-07-30T15:53:53.353155Z",
     "iopub.status.idle": "2021-07-30T15:53:53.360549Z",
     "shell.execute_reply": "2021-07-30T15:53:53.360874Z"
    },
    "papermill": {
     "duration": 0.064262,
     "end_time": "2021-07-30T15:53:53.360980",
     "exception": false,
     "start_time": "2021-07-30T15:53:53.296718",
     "status": "completed"
    },
    "tags": []
   },
   "outputs": [],
   "source": [
    "with localconverter(ro.default_converter + pandas2ri.converter):\n",
    "    model_metadata = {\n",
    "        k: ro.conversion.rpy2py(multiplier_full_model.rx2(k))[0]\n",
    "        for k in (\"L1\", \"L2\", \"L3\")\n",
    "    }"
   ]
  },
  {
   "cell_type": "code",
   "execution_count": 87,
   "metadata": {
    "execution": {
     "iopub.execute_input": "2021-07-30T15:53:53.461504Z",
     "iopub.status.busy": "2021-07-30T15:53:53.461121Z",
     "iopub.status.idle": "2021-07-30T15:53:53.469034Z",
     "shell.execute_reply": "2021-07-30T15:53:53.469333Z"
    },
    "papermill": {
     "duration": 0.058935,
     "end_time": "2021-07-30T15:53:53.469434",
     "exception": false,
     "start_time": "2021-07-30T15:53:53.410499",
     "status": "completed"
    },
    "tags": []
   },
   "outputs": [
    {
     "data": {
      "text/plain": [
       "{'L1': 120.5660870071812, 'L2': 241.1321740143624, 'L3': 0.012696760842460974}"
      ]
     },
     "execution_count": 87,
     "metadata": {},
     "output_type": "execute_result"
    }
   ],
   "source": [
    "model_metadata"
   ]
  },
  {
   "cell_type": "code",
   "execution_count": 88,
   "metadata": {
    "execution": {
     "iopub.execute_input": "2021-07-30T15:53:53.570762Z",
     "iopub.status.busy": "2021-07-30T15:53:53.570397Z",
     "iopub.status.idle": "2021-07-30T15:53:53.577942Z",
     "shell.execute_reply": "2021-07-30T15:53:53.577604Z"
    },
    "papermill": {
     "duration": 0.058897,
     "end_time": "2021-07-30T15:53:53.578033",
     "exception": false,
     "start_time": "2021-07-30T15:53:53.519136",
     "status": "completed"
    },
    "tags": []
   },
   "outputs": [],
   "source": [
    "assert len(model_metadata) == 3"
   ]
  },
  {
   "cell_type": "code",
   "execution_count": 89,
   "metadata": {
    "execution": {
     "iopub.execute_input": "2021-07-30T15:53:53.680944Z",
     "iopub.status.busy": "2021-07-30T15:53:53.680524Z",
     "iopub.status.idle": "2021-07-30T15:53:53.687814Z",
     "shell.execute_reply": "2021-07-30T15:53:53.687418Z"
    },
    "papermill": {
     "duration": 0.058424,
     "end_time": "2021-07-30T15:53:53.687898",
     "exception": false,
     "start_time": "2021-07-30T15:53:53.629474",
     "status": "completed"
    },
    "tags": []
   },
   "outputs": [],
   "source": [
    "assert model_metadata[\"L2\"] == 241.1321740143624"
   ]
  },
  {
   "cell_type": "markdown",
   "metadata": {
    "papermill": {
     "duration": 0.048673,
     "end_time": "2021-07-30T15:53:53.786272",
     "exception": false,
     "start_time": "2021-07-30T15:53:53.737599",
     "status": "completed"
    },
    "tags": []
   },
   "source": [
    "## Save"
   ]
  },
  {
   "cell_type": "markdown",
   "metadata": {
    "papermill": {
     "duration": 0.04876,
     "end_time": "2021-07-30T15:53:53.883719",
     "exception": false,
     "start_time": "2021-07-30T15:53:53.834959",
     "status": "completed"
    },
    "tags": []
   },
   "source": [
    "### Pickle format"
   ]
  },
  {
   "cell_type": "code",
   "execution_count": 90,
   "metadata": {
    "execution": {
     "iopub.execute_input": "2021-07-30T15:53:53.983446Z",
     "iopub.status.busy": "2021-07-30T15:53:53.983044Z",
     "iopub.status.idle": "2021-07-30T15:53:53.991109Z",
     "shell.execute_reply": "2021-07-30T15:53:53.990744Z"
    },
    "papermill": {
     "duration": 0.059244,
     "end_time": "2021-07-30T15:53:53.991192",
     "exception": false,
     "start_time": "2021-07-30T15:53:53.931948",
     "status": "completed"
    },
    "tags": []
   },
   "outputs": [
    {
     "data": {
      "text/plain": [
       "PosixPath('/home/miltondp/projects/labs/greenelab/phenoplier/base/data/multiplier/multiplier_model_metadata.pkl')"
      ]
     },
     "metadata": {},
     "output_type": "display_data"
    }
   ],
   "source": [
    "output_file = conf.MULTIPLIER[\"MODEL_METADATA_FILE\"]\n",
    "display(output_file)"
   ]
  },
  {
   "cell_type": "code",
   "execution_count": 91,
   "metadata": {
    "execution": {
     "iopub.execute_input": "2021-07-30T15:53:54.093237Z",
     "iopub.status.busy": "2021-07-30T15:53:54.092877Z",
     "iopub.status.idle": "2021-07-30T15:53:54.100337Z",
     "shell.execute_reply": "2021-07-30T15:53:54.099971Z"
    },
    "papermill": {
     "duration": 0.058931,
     "end_time": "2021-07-30T15:53:54.100418",
     "exception": false,
     "start_time": "2021-07-30T15:53:54.041487",
     "status": "completed"
    },
    "tags": []
   },
   "outputs": [],
   "source": [
    "with open(output_file, \"wb\") as handle:\n",
    "    pickle.dump(model_metadata, handle, protocol=pickle.HIGHEST_PROTOCOL)"
   ]
  },
  {
   "cell_type": "markdown",
   "metadata": {
    "papermill": {
     "duration": 0.049273,
     "end_time": "2021-07-30T15:53:54.199087",
     "exception": false,
     "start_time": "2021-07-30T15:53:54.149814",
     "status": "completed"
    },
    "tags": []
   },
   "source": [
    "### RDS format"
   ]
  },
  {
   "cell_type": "code",
   "execution_count": 92,
   "metadata": {
    "execution": {
     "iopub.execute_input": "2021-07-30T15:53:54.301261Z",
     "iopub.status.busy": "2021-07-30T15:53:54.300844Z",
     "iopub.status.idle": "2021-07-30T15:53:54.309313Z",
     "shell.execute_reply": "2021-07-30T15:53:54.309675Z"
    },
    "papermill": {
     "duration": 0.06138,
     "end_time": "2021-07-30T15:53:54.309814",
     "exception": false,
     "start_time": "2021-07-30T15:53:54.248434",
     "status": "completed"
    },
    "tags": []
   },
   "outputs": [
    {
     "data": {
      "text/plain": [
       "PosixPath('/home/miltondp/projects/labs/greenelab/phenoplier/base/data/multiplier/multiplier_model_metadata.rds')"
      ]
     },
     "metadata": {},
     "output_type": "display_data"
    }
   ],
   "source": [
    "output_rds_file = output_file.with_suffix(\".rds\")\n",
    "display(output_rds_file)"
   ]
  },
  {
   "cell_type": "code",
   "execution_count": 93,
   "metadata": {
    "execution": {
     "iopub.execute_input": "2021-07-30T15:53:54.417230Z",
     "iopub.status.busy": "2021-07-30T15:53:54.416869Z",
     "iopub.status.idle": "2021-07-30T15:53:54.424330Z",
     "shell.execute_reply": "2021-07-30T15:53:54.423971Z"
    },
    "papermill": {
     "duration": 0.059155,
     "end_time": "2021-07-30T15:53:54.424412",
     "exception": false,
     "start_time": "2021-07-30T15:53:54.365257",
     "status": "completed"
    },
    "tags": []
   },
   "outputs": [],
   "source": [
    "# convert numpy.float64 to standard float objects\n",
    "rds_list = ro.ListVector({k: float(v) for k, v in model_metadata.items()})"
   ]
  },
  {
   "cell_type": "code",
   "execution_count": 94,
   "metadata": {
    "execution": {
     "iopub.execute_input": "2021-07-30T15:53:54.550088Z",
     "iopub.status.busy": "2021-07-30T15:53:54.549675Z",
     "iopub.status.idle": "2021-07-30T15:53:54.558303Z",
     "shell.execute_reply": "2021-07-30T15:53:54.558570Z"
    },
    "papermill": {
     "duration": 0.065757,
     "end_time": "2021-07-30T15:53:54.558671",
     "exception": false,
     "start_time": "2021-07-30T15:53:54.492914",
     "status": "completed"
    },
    "tags": []
   },
   "outputs": [
    {
     "data": {
      "text/html": [
       "\n",
       "        <span>ListVector with 3 elements.</span>\n",
       "        <table>\n",
       "        <tbody>\n",
       "        \n",
       "          <tr>\n",
       "            <th>\n",
       "            L1\n",
       "            </th>\n",
       "            <td>\n",
       "            <rpy2.rinterface.FloatSexpVector object at 0x7f9af139e7c0> [RTYPES.REALSXP]\n",
       "            </td>\n",
       "          </tr>\n",
       "        \n",
       "          <tr>\n",
       "            <th>\n",
       "            L2\n",
       "            </th>\n",
       "            <td>\n",
       "            <rpy2.rinterface.FloatSexpVector object at 0x7f9ab8106400> [RTYPES.REALSXP]\n",
       "            </td>\n",
       "          </tr>\n",
       "        \n",
       "          <tr>\n",
       "            <th>\n",
       "            L3\n",
       "            </th>\n",
       "            <td>\n",
       "            <rpy2.rinterface.FloatSexpVector object at 0x7f9ab7f5d9c0> [RTYPES.REALSXP]\n",
       "            </td>\n",
       "          </tr>\n",
       "        \n",
       "        </tbody>\n",
       "        </table>\n",
       "        "
      ],
      "text/plain": [
       "R object with classes: ('list',) mapped to:\n",
       "[FloatSexpVector, FloatSexpVector, FloatSexpVector]\n",
       "  L1: <class 'rpy2.rinterface.FloatSexpVector'>\n",
       "  <rpy2.rinterface.FloatSexpVector object at 0x7f9a142aa240> [RTYPES.REALSXP]\n",
       "  L2: <class 'rpy2.rinterface.FloatSexpVector'>\n",
       "  <rpy2.rinterface.FloatSexpVector object at 0x7f9a142aa600> [RTYPES.REALSXP]\n",
       "  L3: <class 'rpy2.rinterface.FloatSexpVector'>\n",
       "  <rpy2.rinterface.FloatSexpVector object at 0x7f9a142aad00> [RTYPES.REALSXP]"
      ]
     },
     "execution_count": 94,
     "metadata": {},
     "output_type": "execute_result"
    }
   ],
   "source": [
    "rds_list"
   ]
  },
  {
   "cell_type": "code",
   "execution_count": 95,
   "metadata": {
    "execution": {
     "iopub.execute_input": "2021-07-30T15:53:54.662215Z",
     "iopub.status.busy": "2021-07-30T15:53:54.661845Z",
     "iopub.status.idle": "2021-07-30T15:53:54.670532Z",
     "shell.execute_reply": "2021-07-30T15:53:54.670182Z"
    },
    "papermill": {
     "duration": 0.061219,
     "end_time": "2021-07-30T15:53:54.670612",
     "exception": false,
     "start_time": "2021-07-30T15:53:54.609393",
     "status": "completed"
    },
    "tags": []
   },
   "outputs": [
    {
     "data": {
      "text/plain": [
       "<rpy2.rinterface_lib.sexp.NULLType object at 0x7f9ab88f0d00> [RTYPES.NILSXP]"
      ]
     },
     "execution_count": 95,
     "metadata": {},
     "output_type": "execute_result"
    }
   ],
   "source": [
    "saveRDS(rds_list, str(output_rds_file))"
   ]
  },
  {
   "cell_type": "markdown",
   "metadata": {
    "papermill": {
     "duration": 0.050498,
     "end_time": "2021-07-30T15:53:54.774134",
     "exception": false,
     "start_time": "2021-07-30T15:53:54.723636",
     "status": "completed"
    },
    "tags": []
   },
   "source": [
    "### Text format"
   ]
  },
  {
   "cell_type": "code",
   "execution_count": 96,
   "metadata": {
    "execution": {
     "iopub.execute_input": "2021-07-30T15:53:54.878672Z",
     "iopub.status.busy": "2021-07-30T15:53:54.878312Z",
     "iopub.status.idle": "2021-07-30T15:53:54.887154Z",
     "shell.execute_reply": "2021-07-30T15:53:54.886786Z"
    },
    "papermill": {
     "duration": 0.062312,
     "end_time": "2021-07-30T15:53:54.887236",
     "exception": false,
     "start_time": "2021-07-30T15:53:54.824924",
     "status": "completed"
    },
    "tags": []
   },
   "outputs": [],
   "source": [
    "multiplier_model_matrix_df = (\n",
    "    pd.Series(model_metadata)\n",
    "    .reset_index()\n",
    "    .rename(columns={\"index\": \"parameter\", 0: \"value\"})\n",
    ")"
   ]
  },
  {
   "cell_type": "code",
   "execution_count": 97,
   "metadata": {
    "execution": {
     "iopub.execute_input": "2021-07-30T15:53:54.992078Z",
     "iopub.status.busy": "2021-07-30T15:53:54.991716Z",
     "iopub.status.idle": "2021-07-30T15:53:55.002010Z",
     "shell.execute_reply": "2021-07-30T15:53:55.001652Z"
    },
    "papermill": {
     "duration": 0.063314,
     "end_time": "2021-07-30T15:53:55.002091",
     "exception": false,
     "start_time": "2021-07-30T15:53:54.938777",
     "status": "completed"
    },
    "tags": []
   },
   "outputs": [
    {
     "data": {
      "text/html": [
       "<div>\n",
       "<style scoped>\n",
       "    .dataframe tbody tr th:only-of-type {\n",
       "        vertical-align: middle;\n",
       "    }\n",
       "\n",
       "    .dataframe tbody tr th {\n",
       "        vertical-align: top;\n",
       "    }\n",
       "\n",
       "    .dataframe thead th {\n",
       "        text-align: right;\n",
       "    }\n",
       "</style>\n",
       "<table border=\"1\" class=\"dataframe\">\n",
       "  <thead>\n",
       "    <tr style=\"text-align: right;\">\n",
       "      <th></th>\n",
       "      <th>parameter</th>\n",
       "      <th>value</th>\n",
       "    </tr>\n",
       "  </thead>\n",
       "  <tbody>\n",
       "    <tr>\n",
       "      <th>0</th>\n",
       "      <td>L1</td>\n",
       "      <td>120.566087</td>\n",
       "    </tr>\n",
       "    <tr>\n",
       "      <th>1</th>\n",
       "      <td>L2</td>\n",
       "      <td>241.132174</td>\n",
       "    </tr>\n",
       "    <tr>\n",
       "      <th>2</th>\n",
       "      <td>L3</td>\n",
       "      <td>0.012697</td>\n",
       "    </tr>\n",
       "  </tbody>\n",
       "</table>\n",
       "</div>"
      ],
      "text/plain": [
       "  parameter       value\n",
       "0        L1  120.566087\n",
       "1        L2  241.132174\n",
       "2        L3    0.012697"
      ]
     },
     "execution_count": 97,
     "metadata": {},
     "output_type": "execute_result"
    }
   ],
   "source": [
    "multiplier_model_matrix_df"
   ]
  },
  {
   "cell_type": "code",
   "execution_count": 98,
   "metadata": {
    "execution": {
     "iopub.execute_input": "2021-07-30T15:53:55.107540Z",
     "iopub.status.busy": "2021-07-30T15:53:55.107180Z",
     "iopub.status.idle": "2021-07-30T15:53:55.115346Z",
     "shell.execute_reply": "2021-07-30T15:53:55.114990Z"
    },
    "papermill": {
     "duration": 0.06164,
     "end_time": "2021-07-30T15:53:55.115428",
     "exception": false,
     "start_time": "2021-07-30T15:53:55.053788",
     "status": "completed"
    },
    "tags": []
   },
   "outputs": [
    {
     "data": {
      "text/plain": [
       "PosixPath('/home/miltondp/projects/labs/greenelab/phenoplier/base/data/multiplier/multiplier_model_metadata.tsv.gz')"
      ]
     },
     "metadata": {},
     "output_type": "display_data"
    }
   ],
   "source": [
    "# tsv format\n",
    "output_text_file = output_file.with_suffix(\".tsv.gz\")\n",
    "display(output_text_file)"
   ]
  },
  {
   "cell_type": "code",
   "execution_count": 99,
   "metadata": {
    "execution": {
     "iopub.execute_input": "2021-07-30T15:53:55.221010Z",
     "iopub.status.busy": "2021-07-30T15:53:55.220604Z",
     "iopub.status.idle": "2021-07-30T15:53:55.228860Z",
     "shell.execute_reply": "2021-07-30T15:53:55.228442Z"
    },
    "papermill": {
     "duration": 0.061792,
     "end_time": "2021-07-30T15:53:55.228943",
     "exception": false,
     "start_time": "2021-07-30T15:53:55.167151",
     "status": "completed"
    },
    "tags": []
   },
   "outputs": [],
   "source": [
    "multiplier_model_matrix_df.to_csv(\n",
    "    output_text_file,\n",
    "    sep=\"\\t\",\n",
    "    index=False,\n",
    ")"
   ]
  },
  {
   "cell_type": "code",
   "execution_count": null,
   "metadata": {
    "papermill": {
     "duration": 0.054662,
     "end_time": "2021-07-30T15:53:55.335754",
     "exception": false,
     "start_time": "2021-07-30T15:53:55.281092",
     "status": "completed"
    },
    "tags": []
   },
   "outputs": [],
   "source": []
  }
 ],
 "metadata": {
  "jupytext": {
   "cell_metadata_filter": "all,-execution,-papermill,-trusted",
   "formats": "ipynb,py//py:percent"
  },
  "kernelspec": {
   "display_name": "Python 3",
   "language": "python",
   "name": "python3"
  },
  "language_info": {
   "codemirror_mode": {
    "name": "ipython",
    "version": 3
   },
   "file_extension": ".py",
   "mimetype": "text/x-python",
   "name": "python",
   "nbconvert_exporter": "python",
   "pygments_lexer": "ipython3",
   "version": "3.8.8"
  },
  "papermill": {
   "default_parameters": {},
   "duration": 289.934345,
   "end_time": "2021-07-30T15:53:55.893973",
   "environment_variables": {},
   "exception": null,
   "input_path": "01_preprocessing/005-multiplier_recount2_models.ipynb",
   "output_path": "01_preprocessing/005-multiplier_recount2_models.run.ipynb",
   "parameters": {},
   "start_time": "2021-07-30T15:49:05.959628",
   "version": "2.2.2"
  },
  "toc-autonumbering": true,
  "toc-showtags": false
 },
 "nbformat": 4,
 "nbformat_minor": 4
}
