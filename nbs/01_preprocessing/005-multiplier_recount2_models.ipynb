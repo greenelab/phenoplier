{
 "cells": [
  {
   "cell_type": "markdown",
   "metadata": {
    "papermill": {
     "duration": 0.035202,
     "end_time": "2020-12-11T19:38:57.032018",
     "exception": false,
     "start_time": "2020-12-11T19:38:56.996816",
     "status": "completed"
    },
    "tags": []
   },
   "source": [
    "# Description"
   ]
  },
  {
   "cell_type": "markdown",
   "metadata": {
    "papermill": {
     "duration": 0.033614,
     "end_time": "2020-12-11T19:38:57.094708",
     "exception": false,
     "start_time": "2020-12-11T19:38:57.061094",
     "status": "completed"
    },
    "tags": []
   },
   "source": [
    "This notebook reads all matrices from the MultiPLIER model (https://github.com/greenelab/multi-plier) trained in recount2, like gene loadings (Z) or the\n",
    "latent space (B), and saves them into a Python friendly format (Pandas DataFrames in pickle format for faster/easier loading, and tsv for universal access)."
   ]
  },
  {
   "cell_type": "markdown",
   "metadata": {
    "papermill": {
     "duration": 0.034075,
     "end_time": "2020-12-11T19:38:57.163995",
     "exception": false,
     "start_time": "2020-12-11T19:38:57.129920",
     "status": "completed"
    },
    "tags": []
   },
   "source": [
    "# Modules loading"
   ]
  },
  {
   "cell_type": "code",
   "execution_count": 1,
   "metadata": {
    "execution": {
     "iopub.execute_input": "2020-12-11T19:38:57.236820Z",
     "iopub.status.busy": "2020-12-11T19:38:57.236273Z",
     "iopub.status.idle": "2020-12-11T19:38:57.245120Z",
     "shell.execute_reply": "2020-12-11T19:38:57.245446Z"
    },
    "papermill": {
     "duration": 0.047071,
     "end_time": "2020-12-11T19:38:57.245671",
     "exception": false,
     "start_time": "2020-12-11T19:38:57.198600",
     "status": "completed"
    },
    "tags": []
   },
   "outputs": [],
   "source": [
    "%load_ext autoreload\n",
    "%autoreload 2"
   ]
  },
  {
   "cell_type": "code",
   "execution_count": 2,
   "metadata": {
    "execution": {
     "iopub.execute_input": "2020-12-11T19:38:57.313868Z",
     "iopub.status.busy": "2020-12-11T19:38:57.313472Z",
     "iopub.status.idle": "2020-12-11T19:38:57.718483Z",
     "shell.execute_reply": "2020-12-11T19:38:57.718107Z"
    },
    "papermill": {
     "duration": 0.440539,
     "end_time": "2020-12-11T19:38:57.718601",
     "exception": false,
     "start_time": "2020-12-11T19:38:57.278062",
     "status": "completed"
    },
    "tags": []
   },
   "outputs": [],
   "source": [
    "import pickle\n",
    "\n",
    "import numpy as np\n",
    "import pandas as pd\n",
    "from IPython.display import display\n",
    "\n",
    "import rpy2.robjects as ro\n",
    "from rpy2.robjects import pandas2ri\n",
    "from rpy2.robjects.conversion import localconverter\n",
    "\n",
    "import conf"
   ]
  },
  {
   "cell_type": "code",
   "execution_count": 3,
   "metadata": {
    "execution": {
     "iopub.execute_input": "2020-12-11T19:38:57.791233Z",
     "iopub.status.busy": "2020-12-11T19:38:57.790803Z",
     "iopub.status.idle": "2020-12-11T19:38:57.801715Z",
     "shell.execute_reply": "2020-12-11T19:38:57.801248Z"
    },
    "papermill": {
     "duration": 0.04964,
     "end_time": "2020-12-11T19:38:57.801819",
     "exception": false,
     "start_time": "2020-12-11T19:38:57.752179",
     "status": "completed"
    },
    "tags": []
   },
   "outputs": [],
   "source": [
    "readRDS = ro.r[\"readRDS\"]"
   ]
  },
  {
   "cell_type": "markdown",
   "metadata": {
    "papermill": {
     "duration": 0.036232,
     "end_time": "2020-12-11T19:38:57.872759",
     "exception": false,
     "start_time": "2020-12-11T19:38:57.836527",
     "status": "completed"
    },
    "tags": []
   },
   "source": [
    "# Read MultiPLIER model"
   ]
  },
  {
   "cell_type": "code",
   "execution_count": 4,
   "metadata": {
    "execution": {
     "iopub.execute_input": "2020-12-11T19:38:57.946976Z",
     "iopub.status.busy": "2020-12-11T19:38:57.946489Z",
     "iopub.status.idle": "2020-12-11T19:38:57.960731Z",
     "shell.execute_reply": "2020-12-11T19:38:57.961075Z"
    },
    "papermill": {
     "duration": 0.052637,
     "end_time": "2020-12-11T19:38:57.961238",
     "exception": false,
     "start_time": "2020-12-11T19:38:57.908601",
     "status": "completed"
    },
    "tags": []
   },
   "outputs": [
    {
     "data": {
      "text/plain": [
       "PosixPath('/home/miltondp/projects/labs/greenelab/phenoplier/base/data/multiplier/recount_PLIER_model.RDS')"
      ]
     },
     "execution_count": 4,
     "metadata": {},
     "output_type": "execute_result"
    }
   ],
   "source": [
    "conf.MULTIPLIER[\"RECOUNT2_MODEL_FILE\"]"
   ]
  },
  {
   "cell_type": "code",
   "execution_count": 5,
   "metadata": {
    "execution": {
     "iopub.execute_input": "2020-12-11T19:38:58.032309Z",
     "iopub.status.busy": "2020-12-11T19:38:58.031843Z",
     "iopub.status.idle": "2020-12-11T19:39:14.376972Z",
     "shell.execute_reply": "2020-12-11T19:39:14.377305Z"
    },
    "papermill": {
     "duration": 16.382883,
     "end_time": "2020-12-11T19:39:14.377420",
     "exception": false,
     "start_time": "2020-12-11T19:38:57.994537",
     "status": "completed"
    },
    "tags": []
   },
   "outputs": [],
   "source": [
    "multiplier_full_model = readRDS(str(conf.MULTIPLIER[\"RECOUNT2_MODEL_FILE\"]))"
   ]
  },
  {
   "cell_type": "markdown",
   "metadata": {
    "papermill": {
     "duration": 0.03215,
     "end_time": "2020-12-11T19:39:14.442532",
     "exception": false,
     "start_time": "2020-12-11T19:39:14.410382",
     "status": "completed"
    },
    "tags": []
   },
   "source": [
    "# Summary matrix"
   ]
  },
  {
   "cell_type": "code",
   "execution_count": 6,
   "metadata": {
    "execution": {
     "iopub.execute_input": "2020-12-11T19:39:14.518135Z",
     "iopub.status.busy": "2020-12-11T19:39:14.517708Z",
     "iopub.status.idle": "2020-12-11T19:39:14.519034Z",
     "shell.execute_reply": "2020-12-11T19:39:14.519363Z"
    },
    "papermill": {
     "duration": 0.04465,
     "end_time": "2020-12-11T19:39:14.519475",
     "exception": false,
     "start_time": "2020-12-11T19:39:14.474825",
     "status": "completed"
    },
    "tags": []
   },
   "outputs": [],
   "source": [
    "multiplier_model_matrix = multiplier_full_model.rx2(\"summary\")"
   ]
  },
  {
   "cell_type": "code",
   "execution_count": 7,
   "metadata": {
    "execution": {
     "iopub.execute_input": "2020-12-11T19:39:14.594487Z",
     "iopub.status.busy": "2020-12-11T19:39:14.594040Z",
     "iopub.status.idle": "2020-12-11T19:39:14.604697Z",
     "shell.execute_reply": "2020-12-11T19:39:14.604336Z"
    },
    "papermill": {
     "duration": 0.049884,
     "end_time": "2020-12-11T19:39:14.604830",
     "exception": false,
     "start_time": "2020-12-11T19:39:14.554946",
     "status": "completed"
    },
    "tags": []
   },
   "outputs": [
    {
     "data": {
      "text/html": [
       "\n",
       "        <span>R/rpy2 DataFrame (2157 x 5)</span>\n",
       "        <table>\n",
       "          <thead>\n",
       "            <tr>\n",
       "              \n",
       "              <th>pathway</th>\n",
       "              \n",
       "              <th>LV index</th>\n",
       "              \n",
       "              <th>AUC</th>\n",
       "              \n",
       "              <th>p-value</th>\n",
       "              \n",
       "              <th>FDR</th>\n",
       "              \n",
       "            </tr>\n",
       "          </thead>\n",
       "          <tbody>\n",
       "          \n",
       "          <tr>\n",
       "            \n",
       "            <td>\n",
       "              ...\n",
       "            </td>\n",
       "            \n",
       "            <td>\n",
       "              ...\n",
       "            </td>\n",
       "            \n",
       "            <td>\n",
       "              ...\n",
       "            </td>\n",
       "            \n",
       "            <td>\n",
       "              ...\n",
       "            </td>\n",
       "            \n",
       "            <td>\n",
       "              ...\n",
       "            </td>\n",
       "            \n",
       "          </tr>\n",
       "          \n",
       "          </tbody>\n",
       "        </table>\n",
       "    "
      ],
      "text/plain": [
       "R object with classes: ('data.frame',) mapped to:\n",
       "[StrSexp..., StrSexp..., FloatSe..., FloatSe..., FloatSe...]\n",
       "  pathway: <class 'rpy2.rinterface_lib.sexp.StrSexpVector'>\n",
       "  <rpy2.rinterface_lib.sexp.StrSexpVector object at 0x7fbe7d938a80> [RTYPES.STRSXP]\n",
       "  LV index: <class 'rpy2.rinterface_lib.sexp.StrSexpVector'>\n",
       "  <rpy2.rinterface_lib.sexp.StrSexpVector object at 0x7fbe7d938ac0> [RTYPES.STRSXP]\n",
       "  AUC: <class 'rpy2.rinterface.FloatSexpVector'>\n",
       "  <rpy2.rinterface.FloatSexpVector object at 0x7fbe7d938d80> [RTYPES.REALSXP]\n",
       "  p-value: <class 'rpy2.rinterface.FloatSexpVector'>\n",
       "  <rpy2.rinterface.FloatSexpVector object at 0x7fbe7e121540> [RTYPES.REALSXP]\n",
       "  FDR: <class 'rpy2.rinterface.FloatSexpVector'>\n",
       "  <rpy2.rinterface.FloatSexpVector object at 0x7fbe7d8bd200> [RTYPES.REALSXP]"
      ]
     },
     "execution_count": 7,
     "metadata": {},
     "output_type": "execute_result"
    }
   ],
   "source": [
    "multiplier_model_matrix"
   ]
  },
  {
   "cell_type": "code",
   "execution_count": 8,
   "metadata": {
    "execution": {
     "iopub.execute_input": "2020-12-11T19:39:14.678480Z",
     "iopub.status.busy": "2020-12-11T19:39:14.677992Z",
     "iopub.status.idle": "2020-12-11T19:39:14.687929Z",
     "shell.execute_reply": "2020-12-11T19:39:14.687511Z"
    },
    "papermill": {
     "duration": 0.049572,
     "end_time": "2020-12-11T19:39:14.688033",
     "exception": false,
     "start_time": "2020-12-11T19:39:14.638461",
     "status": "completed"
    },
    "tags": []
   },
   "outputs": [
    {
     "data": {
      "text/html": [
       "\n",
       "        <span>StrVector with 2157 elements.</span>\n",
       "        <table>\n",
       "        <tbody>\n",
       "          <tr>\n",
       "          \n",
       "            <td>\n",
       "            '1'\n",
       "            </td>\n",
       "          \n",
       "            <td>\n",
       "            '2'\n",
       "            </td>\n",
       "          \n",
       "            <td>\n",
       "            '3'\n",
       "            </td>\n",
       "          \n",
       "            <td>\n",
       "            ...\n",
       "            </td>\n",
       "          \n",
       "            <td>\n",
       "            '2155'\n",
       "            </td>\n",
       "          \n",
       "            <td>\n",
       "            '2156'\n",
       "            </td>\n",
       "          \n",
       "            <td>\n",
       "            '2157'\n",
       "            </td>\n",
       "          \n",
       "          </tr>\n",
       "        </tbody>\n",
       "        </table>\n",
       "        "
      ],
      "text/plain": [
       "R object with classes: ('character',) mapped to:\n",
       "['1', '2', '3', '4', ..., '2154', '2155', '2156', '2157']"
      ]
     },
     "execution_count": 8,
     "metadata": {},
     "output_type": "execute_result"
    }
   ],
   "source": [
    "multiplier_model_matrix.rownames"
   ]
  },
  {
   "cell_type": "code",
   "execution_count": 9,
   "metadata": {
    "execution": {
     "iopub.execute_input": "2020-12-11T19:39:14.764208Z",
     "iopub.status.busy": "2020-12-11T19:39:14.763754Z",
     "iopub.status.idle": "2020-12-11T19:39:14.772478Z",
     "shell.execute_reply": "2020-12-11T19:39:14.772171Z"
    },
    "papermill": {
     "duration": 0.049,
     "end_time": "2020-12-11T19:39:14.772568",
     "exception": false,
     "start_time": "2020-12-11T19:39:14.723568",
     "status": "completed"
    },
    "tags": []
   },
   "outputs": [
    {
     "data": {
      "text/html": [
       "\n",
       "        <span>StrVector with 5 elements.</span>\n",
       "        <table>\n",
       "        <tbody>\n",
       "          <tr>\n",
       "          \n",
       "            <td>\n",
       "            'pathway'\n",
       "            </td>\n",
       "          \n",
       "            <td>\n",
       "            'LV ind...\n",
       "            </td>\n",
       "          \n",
       "            <td>\n",
       "            'AUC'\n",
       "            </td>\n",
       "          \n",
       "            <td>\n",
       "            'p-value'\n",
       "            </td>\n",
       "          \n",
       "            <td>\n",
       "            'FDR'\n",
       "            </td>\n",
       "          \n",
       "          </tr>\n",
       "        </tbody>\n",
       "        </table>\n",
       "        "
      ],
      "text/plain": [
       "R object with classes: ('character',) mapped to:\n",
       "['pathway', 'LV ind..., 'AUC', 'p-value', 'FDR']"
      ]
     },
     "execution_count": 9,
     "metadata": {},
     "output_type": "execute_result"
    }
   ],
   "source": [
    "multiplier_model_matrix.colnames"
   ]
  },
  {
   "cell_type": "code",
   "execution_count": 10,
   "metadata": {
    "execution": {
     "iopub.execute_input": "2020-12-11T19:39:14.845932Z",
     "iopub.status.busy": "2020-12-11T19:39:14.845434Z",
     "iopub.status.idle": "2020-12-11T19:39:14.903730Z",
     "shell.execute_reply": "2020-12-11T19:39:14.903371Z"
    },
    "papermill": {
     "duration": 0.098289,
     "end_time": "2020-12-11T19:39:14.903824",
     "exception": false,
     "start_time": "2020-12-11T19:39:14.805535",
     "status": "completed"
    },
    "tags": []
   },
   "outputs": [],
   "source": [
    "with localconverter(ro.default_converter + pandas2ri.converter):\n",
    "    multiplier_model_matrix_values = ro.conversion.rpy2py(multiplier_model_matrix)"
   ]
  },
  {
   "cell_type": "code",
   "execution_count": 11,
   "metadata": {
    "execution": {
     "iopub.execute_input": "2020-12-11T19:39:14.976741Z",
     "iopub.status.busy": "2020-12-11T19:39:14.976279Z",
     "iopub.status.idle": "2020-12-11T19:39:14.985048Z",
     "shell.execute_reply": "2020-12-11T19:39:14.985419Z"
    },
    "papermill": {
     "duration": 0.04842,
     "end_time": "2020-12-11T19:39:14.985572",
     "exception": false,
     "start_time": "2020-12-11T19:39:14.937152",
     "status": "completed"
    },
    "tags": []
   },
   "outputs": [],
   "source": [
    "multiplier_model_matrix_df = pd.DataFrame(\n",
    "    data=multiplier_model_matrix_values,\n",
    "    #     index=multiplier_model_matrix.rownames,\n",
    "    columns=multiplier_model_matrix.colnames,\n",
    ")"
   ]
  },
  {
   "cell_type": "code",
   "execution_count": 12,
   "metadata": {
    "execution": {
     "iopub.execute_input": "2020-12-11T19:39:15.054463Z",
     "iopub.status.busy": "2020-12-11T19:39:15.054074Z",
     "iopub.status.idle": "2020-12-11T19:39:15.063146Z",
     "shell.execute_reply": "2020-12-11T19:39:15.062717Z"
    },
    "papermill": {
     "duration": 0.044433,
     "end_time": "2020-12-11T19:39:15.063265",
     "exception": false,
     "start_time": "2020-12-11T19:39:15.018832",
     "status": "completed"
    },
    "tags": []
   },
   "outputs": [
    {
     "data": {
      "text/plain": [
       "(2157, 5)"
      ]
     },
     "metadata": {},
     "output_type": "display_data"
    }
   ],
   "source": [
    "display(multiplier_model_matrix_df.shape)\n",
    "assert multiplier_model_matrix_df.shape == (2157, 5)"
   ]
  },
  {
   "cell_type": "code",
   "execution_count": 13,
   "metadata": {
    "execution": {
     "iopub.execute_input": "2020-12-11T19:39:15.134782Z",
     "iopub.status.busy": "2020-12-11T19:39:15.134310Z",
     "iopub.status.idle": "2020-12-11T19:39:15.149339Z",
     "shell.execute_reply": "2020-12-11T19:39:15.148955Z"
    },
    "lines_to_next_cell": 1,
    "papermill": {
     "duration": 0.052815,
     "end_time": "2020-12-11T19:39:15.149429",
     "exception": false,
     "start_time": "2020-12-11T19:39:15.096614",
     "status": "completed"
    },
    "tags": []
   },
   "outputs": [
    {
     "data": {
      "text/html": [
       "<div>\n",
       "<style scoped>\n",
       "    .dataframe tbody tr th:only-of-type {\n",
       "        vertical-align: middle;\n",
       "    }\n",
       "\n",
       "    .dataframe tbody tr th {\n",
       "        vertical-align: top;\n",
       "    }\n",
       "\n",
       "    .dataframe thead th {\n",
       "        text-align: right;\n",
       "    }\n",
       "</style>\n",
       "<table border=\"1\" class=\"dataframe\">\n",
       "  <thead>\n",
       "    <tr style=\"text-align: right;\">\n",
       "      <th></th>\n",
       "      <th>pathway</th>\n",
       "      <th>LV index</th>\n",
       "      <th>AUC</th>\n",
       "      <th>p-value</th>\n",
       "      <th>FDR</th>\n",
       "    </tr>\n",
       "  </thead>\n",
       "  <tbody>\n",
       "    <tr>\n",
       "      <th>1</th>\n",
       "      <td>KEGG_LYSINE_DEGRADATION</td>\n",
       "      <td>1</td>\n",
       "      <td>0.388059</td>\n",
       "      <td>0.866078</td>\n",
       "      <td>0.956005</td>\n",
       "    </tr>\n",
       "    <tr>\n",
       "      <th>2</th>\n",
       "      <td>REACTOME_MRNA_SPLICING</td>\n",
       "      <td>1</td>\n",
       "      <td>0.733057</td>\n",
       "      <td>0.000048</td>\n",
       "      <td>0.000582</td>\n",
       "    </tr>\n",
       "    <tr>\n",
       "      <th>3</th>\n",
       "      <td>MIPS_NOP56P_ASSOCIATED_PRE_RRNA_COMPLEX</td>\n",
       "      <td>1</td>\n",
       "      <td>0.680555</td>\n",
       "      <td>0.001628</td>\n",
       "      <td>0.011366</td>\n",
       "    </tr>\n",
       "    <tr>\n",
       "      <th>4</th>\n",
       "      <td>KEGG_DNA_REPLICATION</td>\n",
       "      <td>1</td>\n",
       "      <td>0.549473</td>\n",
       "      <td>0.312155</td>\n",
       "      <td>0.539951</td>\n",
       "    </tr>\n",
       "    <tr>\n",
       "      <th>5</th>\n",
       "      <td>PID_MYC_ACTIVPATHWAY</td>\n",
       "      <td>1</td>\n",
       "      <td>0.639303</td>\n",
       "      <td>0.021702</td>\n",
       "      <td>0.083739</td>\n",
       "    </tr>\n",
       "  </tbody>\n",
       "</table>\n",
       "</div>"
      ],
      "text/plain": [
       "                                   pathway LV index       AUC   p-value  \\\n",
       "1                  KEGG_LYSINE_DEGRADATION        1  0.388059  0.866078   \n",
       "2                   REACTOME_MRNA_SPLICING        1  0.733057  0.000048   \n",
       "3  MIPS_NOP56P_ASSOCIATED_PRE_RRNA_COMPLEX        1  0.680555  0.001628   \n",
       "4                     KEGG_DNA_REPLICATION        1  0.549473  0.312155   \n",
       "5                     PID_MYC_ACTIVPATHWAY        1  0.639303  0.021702   \n",
       "\n",
       "        FDR  \n",
       "1  0.956005  \n",
       "2  0.000582  \n",
       "3  0.011366  \n",
       "4  0.539951  \n",
       "5  0.083739  "
      ]
     },
     "execution_count": 13,
     "metadata": {},
     "output_type": "execute_result"
    }
   ],
   "source": [
    "multiplier_model_matrix_df.head()"
   ]
  },
  {
   "cell_type": "code",
   "execution_count": 14,
   "metadata": {
    "execution": {
     "iopub.execute_input": "2020-12-11T19:39:15.229238Z",
     "iopub.status.busy": "2020-12-11T19:39:15.228775Z",
     "iopub.status.idle": "2020-12-11T19:39:15.241269Z",
     "shell.execute_reply": "2020-12-11T19:39:15.240880Z"
    },
    "papermill": {
     "duration": 0.054884,
     "end_time": "2020-12-11T19:39:15.241390",
     "exception": false,
     "start_time": "2020-12-11T19:39:15.186506",
     "status": "completed"
    },
    "tags": []
   },
   "outputs": [],
   "source": [
    "def to_scinum(x):\n",
    "    return np.format_float_scientific(x, 6)\n",
    "\n",
    "\n",
    "# make sure I'm seeing the same when loaded with R\n",
    "_tmp = multiplier_model_matrix_df.set_index([\"pathway\", \"LV index\"])\n",
    "\n",
    "assert _tmp.loc[(\"KEGG_LYSINE_DEGRADATION\", \"1\")][\"AUC\"].round(7) == 0.3880591\n",
    "assert (\n",
    "    to_scinum(_tmp.loc[(\"KEGG_LYSINE_DEGRADATION\", \"1\")][\"p-value\"]) == \"8.660782e-01\"\n",
    ")\n",
    "assert _tmp.loc[(\"KEGG_LYSINE_DEGRADATION\", \"1\")][\"FDR\"].round(10) == 0.9560054810\n",
    "\n",
    "assert _tmp.loc[(\"IRIS_Monocyte-Day0\", \"2\")][\"AUC\"].round(7) == 0.8900356\n",
    "assert to_scinum(_tmp.loc[(\"IRIS_Monocyte-Day0\", \"2\")][\"p-value\"]) == \"4.315812e-25\"\n",
    "assert to_scinum(_tmp.loc[(\"IRIS_Monocyte-Day0\", \"2\")][\"FDR\"]) == \"1.329887e-22\""
   ]
  },
  {
   "cell_type": "markdown",
   "metadata": {
    "papermill": {
     "duration": 0.038565,
     "end_time": "2020-12-11T19:39:15.318329",
     "exception": false,
     "start_time": "2020-12-11T19:39:15.279764",
     "status": "completed"
    },
    "tags": []
   },
   "source": [
    "## Save"
   ]
  },
  {
   "cell_type": "markdown",
   "metadata": {
    "papermill": {
     "duration": 0.033841,
     "end_time": "2020-12-11T19:39:15.387129",
     "exception": false,
     "start_time": "2020-12-11T19:39:15.353288",
     "status": "completed"
    },
    "tags": []
   },
   "source": [
    "### Pickle format"
   ]
  },
  {
   "cell_type": "code",
   "execution_count": 15,
   "metadata": {
    "execution": {
     "iopub.execute_input": "2020-12-11T19:39:15.457926Z",
     "iopub.status.busy": "2020-12-11T19:39:15.457465Z",
     "iopub.status.idle": "2020-12-11T19:39:15.466479Z",
     "shell.execute_reply": "2020-12-11T19:39:15.466077Z"
    },
    "papermill": {
     "duration": 0.045747,
     "end_time": "2020-12-11T19:39:15.466572",
     "exception": false,
     "start_time": "2020-12-11T19:39:15.420825",
     "status": "completed"
    },
    "tags": []
   },
   "outputs": [
    {
     "data": {
      "text/plain": [
       "PosixPath('/home/miltondp/projects/labs/greenelab/phenoplier/base/data/multiplier/multiplier_model_summary.pkl')"
      ]
     },
     "metadata": {},
     "output_type": "display_data"
    }
   ],
   "source": [
    "output_file = conf.MULTIPLIER[\"MODEL_SUMMARY_FILE\"]\n",
    "display(output_file)"
   ]
  },
  {
   "cell_type": "code",
   "execution_count": 16,
   "metadata": {
    "execution": {
     "iopub.execute_input": "2020-12-11T19:39:15.541338Z",
     "iopub.status.busy": "2020-12-11T19:39:15.540874Z",
     "iopub.status.idle": "2020-12-11T19:39:15.550698Z",
     "shell.execute_reply": "2020-12-11T19:39:15.551033Z"
    },
    "papermill": {
     "duration": 0.048945,
     "end_time": "2020-12-11T19:39:15.551161",
     "exception": false,
     "start_time": "2020-12-11T19:39:15.502216",
     "status": "completed"
    },
    "tags": []
   },
   "outputs": [],
   "source": [
    "multiplier_model_matrix_df.to_pickle(output_file)"
   ]
  },
  {
   "cell_type": "markdown",
   "metadata": {
    "papermill": {
     "duration": 0.037667,
     "end_time": "2020-12-11T19:39:15.624858",
     "exception": false,
     "start_time": "2020-12-11T19:39:15.587191",
     "status": "completed"
    },
    "tags": []
   },
   "source": [
    "### Text format"
   ]
  },
  {
   "cell_type": "code",
   "execution_count": 17,
   "metadata": {
    "execution": {
     "iopub.execute_input": "2020-12-11T19:39:15.702385Z",
     "iopub.status.busy": "2020-12-11T19:39:15.701916Z",
     "iopub.status.idle": "2020-12-11T19:39:15.710825Z",
     "shell.execute_reply": "2020-12-11T19:39:15.711116Z"
    },
    "papermill": {
     "duration": 0.049166,
     "end_time": "2020-12-11T19:39:15.711232",
     "exception": false,
     "start_time": "2020-12-11T19:39:15.662066",
     "status": "completed"
    },
    "tags": []
   },
   "outputs": [
    {
     "data": {
      "text/plain": [
       "PosixPath('/home/miltondp/projects/labs/greenelab/phenoplier/base/data/multiplier/multiplier_model_summary.tsv.gz')"
      ]
     },
     "metadata": {},
     "output_type": "display_data"
    }
   ],
   "source": [
    "# tsv format\n",
    "output_text_file = output_file.with_suffix(\".tsv.gz\")\n",
    "display(output_text_file)"
   ]
  },
  {
   "cell_type": "code",
   "execution_count": 18,
   "metadata": {
    "execution": {
     "iopub.execute_input": "2020-12-11T19:39:15.787865Z",
     "iopub.status.busy": "2020-12-11T19:39:15.787390Z",
     "iopub.status.idle": "2020-12-11T19:39:15.830103Z",
     "shell.execute_reply": "2020-12-11T19:39:15.829675Z"
    },
    "papermill": {
     "duration": 0.080274,
     "end_time": "2020-12-11T19:39:15.830199",
     "exception": false,
     "start_time": "2020-12-11T19:39:15.749925",
     "status": "completed"
    },
    "tags": []
   },
   "outputs": [],
   "source": [
    "multiplier_model_matrix_df.to_csv(\n",
    "    output_text_file, sep=\"\\t\", index=False, float_format=\"%.5e\"\n",
    ")"
   ]
  },
  {
   "cell_type": "markdown",
   "metadata": {
    "papermill": {
     "duration": 0.032908,
     "end_time": "2020-12-11T19:39:15.900357",
     "exception": false,
     "start_time": "2020-12-11T19:39:15.867449",
     "status": "completed"
    },
    "tags": []
   },
   "source": [
    "# Matrix Z (loadings; genes x LVs)"
   ]
  },
  {
   "cell_type": "code",
   "execution_count": 19,
   "metadata": {
    "execution": {
     "iopub.execute_input": "2020-12-11T19:39:15.973090Z",
     "iopub.status.busy": "2020-12-11T19:39:15.972701Z",
     "iopub.status.idle": "2020-12-11T19:39:15.980997Z",
     "shell.execute_reply": "2020-12-11T19:39:15.980615Z"
    },
    "papermill": {
     "duration": 0.045421,
     "end_time": "2020-12-11T19:39:15.981091",
     "exception": false,
     "start_time": "2020-12-11T19:39:15.935670",
     "status": "completed"
    },
    "tags": []
   },
   "outputs": [],
   "source": [
    "multiplier_model_matrix = multiplier_full_model.rx2(\"Z\")"
   ]
  },
  {
   "cell_type": "code",
   "execution_count": 20,
   "metadata": {
    "execution": {
     "iopub.execute_input": "2020-12-11T19:39:16.054405Z",
     "iopub.status.busy": "2020-12-11T19:39:16.053947Z",
     "iopub.status.idle": "2020-12-11T19:39:16.064968Z",
     "shell.execute_reply": "2020-12-11T19:39:16.065339Z"
    },
    "papermill": {
     "duration": 0.048899,
     "end_time": "2020-12-11T19:39:16.065493",
     "exception": false,
     "start_time": "2020-12-11T19:39:16.016594",
     "status": "completed"
    },
    "tags": []
   },
   "outputs": [
    {
     "data": {
      "text/html": [
       "\n",
       "        <span>FloatMatrix with 6662250 elements.</span>\n",
       "        <table>\n",
       "        <tbody>\n",
       "          <tr>\n",
       "          \n",
       "            <td>\n",
       "            0.000000\n",
       "            </td>\n",
       "          \n",
       "            <td>\n",
       "            0.000000\n",
       "            </td>\n",
       "          \n",
       "            <td>\n",
       "            0.000000\n",
       "            </td>\n",
       "          \n",
       "            <td>\n",
       "            ...\n",
       "            </td>\n",
       "          \n",
       "            <td>\n",
       "            0.003215\n",
       "            </td>\n",
       "          \n",
       "            <td>\n",
       "            0.042435\n",
       "            </td>\n",
       "          \n",
       "            <td>\n",
       "            0.287909\n",
       "            </td>\n",
       "          \n",
       "          </tr>\n",
       "        </tbody>\n",
       "        </table>\n",
       "        "
      ],
      "text/plain": [
       "R object with classes: ('matrix',) mapped to:\n",
       "[0.000000, 0.000000, 0.000000, 0.305212, ..., 0.031268, 0.003215, 0.042435, 0.287909]"
      ]
     },
     "execution_count": 20,
     "metadata": {},
     "output_type": "execute_result"
    }
   ],
   "source": [
    "multiplier_model_matrix"
   ]
  },
  {
   "cell_type": "code",
   "execution_count": 21,
   "metadata": {
    "execution": {
     "iopub.execute_input": "2020-12-11T19:39:16.139200Z",
     "iopub.status.busy": "2020-12-11T19:39:16.138734Z",
     "iopub.status.idle": "2020-12-11T19:39:16.148548Z",
     "shell.execute_reply": "2020-12-11T19:39:16.148203Z"
    },
    "papermill": {
     "duration": 0.047816,
     "end_time": "2020-12-11T19:39:16.148638",
     "exception": false,
     "start_time": "2020-12-11T19:39:16.100822",
     "status": "completed"
    },
    "tags": []
   },
   "outputs": [
    {
     "data": {
      "text/html": [
       "\n",
       "        <span>StrVector with 6750 elements.</span>\n",
       "        <table>\n",
       "        <tbody>\n",
       "          <tr>\n",
       "          \n",
       "            <td>\n",
       "            'GAS6'\n",
       "            </td>\n",
       "          \n",
       "            <td>\n",
       "            'MMP14'\n",
       "            </td>\n",
       "          \n",
       "            <td>\n",
       "            'DSP'\n",
       "            </td>\n",
       "          \n",
       "            <td>\n",
       "            ...\n",
       "            </td>\n",
       "          \n",
       "            <td>\n",
       "            'PLEKHG6'\n",
       "            </td>\n",
       "          \n",
       "            <td>\n",
       "            'GNGT2'\n",
       "            </td>\n",
       "          \n",
       "            <td>\n",
       "            'SERPINH1'\n",
       "            </td>\n",
       "          \n",
       "          </tr>\n",
       "        </tbody>\n",
       "        </table>\n",
       "        "
      ],
      "text/plain": [
       "R object with classes: ('character',) mapped to:\n",
       "['GAS6', 'MMP14', 'DSP', 'MARCKSL1', ..., 'NFIB', 'PLEKHG6', 'GNGT2', 'SERPINH1']"
      ]
     },
     "execution_count": 21,
     "metadata": {},
     "output_type": "execute_result"
    }
   ],
   "source": [
    "multiplier_model_matrix.rownames"
   ]
  },
  {
   "cell_type": "code",
   "execution_count": 22,
   "metadata": {
    "execution": {
     "iopub.execute_input": "2020-12-11T19:39:16.230873Z",
     "iopub.status.busy": "2020-12-11T19:39:16.230458Z",
     "iopub.status.idle": "2020-12-11T19:39:16.237404Z",
     "shell.execute_reply": "2020-12-11T19:39:16.236886Z"
    },
    "papermill": {
     "duration": 0.050111,
     "end_time": "2020-12-11T19:39:16.237498",
     "exception": false,
     "start_time": "2020-12-11T19:39:16.187387",
     "status": "completed"
    },
    "tags": []
   },
   "outputs": [
    {
     "data": {
      "text/plain": [
       "<rpy2.rinterface_lib.sexp.NULLType object at 0x7fbe7e1213c0> [RTYPES.NILSXP]"
      ]
     },
     "execution_count": 22,
     "metadata": {},
     "output_type": "execute_result"
    }
   ],
   "source": [
    "multiplier_model_matrix.colnames"
   ]
  },
  {
   "cell_type": "code",
   "execution_count": 23,
   "metadata": {
    "execution": {
     "iopub.execute_input": "2020-12-11T19:39:16.318038Z",
     "iopub.status.busy": "2020-12-11T19:39:16.317551Z",
     "iopub.status.idle": "2020-12-11T19:39:16.337214Z",
     "shell.execute_reply": "2020-12-11T19:39:16.336848Z"
    },
    "papermill": {
     "duration": 0.062776,
     "end_time": "2020-12-11T19:39:16.337311",
     "exception": false,
     "start_time": "2020-12-11T19:39:16.274535",
     "status": "completed"
    },
    "tags": []
   },
   "outputs": [],
   "source": [
    "with localconverter(ro.default_converter + pandas2ri.converter):\n",
    "    multiplier_model_matrix_values = ro.conversion.rpy2py(multiplier_model_matrix)"
   ]
  },
  {
   "cell_type": "code",
   "execution_count": 24,
   "metadata": {
    "execution": {
     "iopub.execute_input": "2020-12-11T19:39:16.417263Z",
     "iopub.status.busy": "2020-12-11T19:39:16.416811Z",
     "iopub.status.idle": "2020-12-11T19:39:16.445814Z",
     "shell.execute_reply": "2020-12-11T19:39:16.445454Z"
    },
    "papermill": {
     "duration": 0.071621,
     "end_time": "2020-12-11T19:39:16.445935",
     "exception": false,
     "start_time": "2020-12-11T19:39:16.374314",
     "status": "completed"
    },
    "tags": []
   },
   "outputs": [],
   "source": [
    "multiplier_model_matrix_df = pd.DataFrame(\n",
    "    data=multiplier_model_matrix_values,\n",
    "    index=multiplier_model_matrix.rownames,\n",
    "    columns=[f\"LV{i}\" for i in range(1, multiplier_model_matrix.ncol + 1)],\n",
    ")"
   ]
  },
  {
   "cell_type": "code",
   "execution_count": 25,
   "metadata": {
    "execution": {
     "iopub.execute_input": "2020-12-11T19:39:16.528252Z",
     "iopub.status.busy": "2020-12-11T19:39:16.527853Z",
     "iopub.status.idle": "2020-12-11T19:39:16.535740Z",
     "shell.execute_reply": "2020-12-11T19:39:16.536030Z"
    },
    "papermill": {
     "duration": 0.049779,
     "end_time": "2020-12-11T19:39:16.536144",
     "exception": false,
     "start_time": "2020-12-11T19:39:16.486365",
     "status": "completed"
    },
    "tags": []
   },
   "outputs": [
    {
     "data": {
      "text/plain": [
       "(6750, 987)"
      ]
     },
     "metadata": {},
     "output_type": "display_data"
    }
   ],
   "source": [
    "display(multiplier_model_matrix_df.shape)\n",
    "assert multiplier_model_matrix_df.shape == (6750, 987)"
   ]
  },
  {
   "cell_type": "code",
   "execution_count": 26,
   "metadata": {
    "execution": {
     "iopub.execute_input": "2020-12-11T19:39:16.616553Z",
     "iopub.status.busy": "2020-12-11T19:39:16.616099Z",
     "iopub.status.idle": "2020-12-11T19:39:16.637915Z",
     "shell.execute_reply": "2020-12-11T19:39:16.638293Z"
    },
    "papermill": {
     "duration": 0.065021,
     "end_time": "2020-12-11T19:39:16.638433",
     "exception": false,
     "start_time": "2020-12-11T19:39:16.573412",
     "status": "completed"
    },
    "tags": []
   },
   "outputs": [
    {
     "data": {
      "text/html": [
       "<div>\n",
       "<style scoped>\n",
       "    .dataframe tbody tr th:only-of-type {\n",
       "        vertical-align: middle;\n",
       "    }\n",
       "\n",
       "    .dataframe tbody tr th {\n",
       "        vertical-align: top;\n",
       "    }\n",
       "\n",
       "    .dataframe thead th {\n",
       "        text-align: right;\n",
       "    }\n",
       "</style>\n",
       "<table border=\"1\" class=\"dataframe\">\n",
       "  <thead>\n",
       "    <tr style=\"text-align: right;\">\n",
       "      <th></th>\n",
       "      <th>LV1</th>\n",
       "      <th>LV2</th>\n",
       "      <th>LV3</th>\n",
       "      <th>LV4</th>\n",
       "      <th>LV5</th>\n",
       "      <th>LV6</th>\n",
       "      <th>LV7</th>\n",
       "      <th>LV8</th>\n",
       "      <th>LV9</th>\n",
       "      <th>LV10</th>\n",
       "      <th>...</th>\n",
       "      <th>LV978</th>\n",
       "      <th>LV979</th>\n",
       "      <th>LV980</th>\n",
       "      <th>LV981</th>\n",
       "      <th>LV982</th>\n",
       "      <th>LV983</th>\n",
       "      <th>LV984</th>\n",
       "      <th>LV985</th>\n",
       "      <th>LV986</th>\n",
       "      <th>LV987</th>\n",
       "    </tr>\n",
       "  </thead>\n",
       "  <tbody>\n",
       "    <tr>\n",
       "      <th>GAS6</th>\n",
       "      <td>0.000000</td>\n",
       "      <td>0.0</td>\n",
       "      <td>0.039438</td>\n",
       "      <td>0.0</td>\n",
       "      <td>0.050476</td>\n",
       "      <td>0.000000</td>\n",
       "      <td>0.0</td>\n",
       "      <td>0.000000</td>\n",
       "      <td>0.590949</td>\n",
       "      <td>0.000000</td>\n",
       "      <td>...</td>\n",
       "      <td>0.050125</td>\n",
       "      <td>0.00000</td>\n",
       "      <td>0.033407</td>\n",
       "      <td>0.000000</td>\n",
       "      <td>0.000000</td>\n",
       "      <td>0.005963</td>\n",
       "      <td>0.347362</td>\n",
       "      <td>0.0</td>\n",
       "      <td>0.000000</td>\n",
       "      <td>0.000000</td>\n",
       "    </tr>\n",
       "    <tr>\n",
       "      <th>MMP14</th>\n",
       "      <td>0.000000</td>\n",
       "      <td>0.0</td>\n",
       "      <td>0.000000</td>\n",
       "      <td>0.0</td>\n",
       "      <td>0.070072</td>\n",
       "      <td>0.000000</td>\n",
       "      <td>0.0</td>\n",
       "      <td>0.004904</td>\n",
       "      <td>1.720179</td>\n",
       "      <td>2.423595</td>\n",
       "      <td>...</td>\n",
       "      <td>0.000000</td>\n",
       "      <td>0.00000</td>\n",
       "      <td>0.001007</td>\n",
       "      <td>0.000000</td>\n",
       "      <td>0.035747</td>\n",
       "      <td>0.000000</td>\n",
       "      <td>0.000000</td>\n",
       "      <td>0.0</td>\n",
       "      <td>0.014978</td>\n",
       "      <td>0.000000</td>\n",
       "    </tr>\n",
       "    <tr>\n",
       "      <th>DSP</th>\n",
       "      <td>0.000000</td>\n",
       "      <td>0.0</td>\n",
       "      <td>0.000000</td>\n",
       "      <td>0.0</td>\n",
       "      <td>0.000000</td>\n",
       "      <td>0.041697</td>\n",
       "      <td>0.0</td>\n",
       "      <td>0.005718</td>\n",
       "      <td>0.000000</td>\n",
       "      <td>0.000000</td>\n",
       "      <td>...</td>\n",
       "      <td>0.020853</td>\n",
       "      <td>0.00000</td>\n",
       "      <td>0.000000</td>\n",
       "      <td>0.000000</td>\n",
       "      <td>0.000000</td>\n",
       "      <td>0.005774</td>\n",
       "      <td>0.000000</td>\n",
       "      <td>0.0</td>\n",
       "      <td>0.000000</td>\n",
       "      <td>0.416405</td>\n",
       "    </tr>\n",
       "    <tr>\n",
       "      <th>MARCKSL1</th>\n",
       "      <td>0.305212</td>\n",
       "      <td>0.0</td>\n",
       "      <td>0.000000</td>\n",
       "      <td>0.0</td>\n",
       "      <td>0.000000</td>\n",
       "      <td>0.000000</td>\n",
       "      <td>0.0</td>\n",
       "      <td>0.000000</td>\n",
       "      <td>0.161843</td>\n",
       "      <td>0.149471</td>\n",
       "      <td>...</td>\n",
       "      <td>0.027134</td>\n",
       "      <td>0.05272</td>\n",
       "      <td>0.000000</td>\n",
       "      <td>0.030189</td>\n",
       "      <td>0.060884</td>\n",
       "      <td>0.000000</td>\n",
       "      <td>0.000000</td>\n",
       "      <td>0.0</td>\n",
       "      <td>0.000000</td>\n",
       "      <td>0.448480</td>\n",
       "    </tr>\n",
       "    <tr>\n",
       "      <th>SPARC</th>\n",
       "      <td>0.000000</td>\n",
       "      <td>0.0</td>\n",
       "      <td>0.000000</td>\n",
       "      <td>0.0</td>\n",
       "      <td>0.000000</td>\n",
       "      <td>0.000000</td>\n",
       "      <td>0.0</td>\n",
       "      <td>0.000000</td>\n",
       "      <td>0.000000</td>\n",
       "      <td>0.014014</td>\n",
       "      <td>...</td>\n",
       "      <td>0.000000</td>\n",
       "      <td>0.00000</td>\n",
       "      <td>0.000000</td>\n",
       "      <td>0.000000</td>\n",
       "      <td>0.000000</td>\n",
       "      <td>0.000000</td>\n",
       "      <td>0.067779</td>\n",
       "      <td>0.0</td>\n",
       "      <td>0.122417</td>\n",
       "      <td>0.062665</td>\n",
       "    </tr>\n",
       "  </tbody>\n",
       "</table>\n",
       "<p>5 rows × 987 columns</p>\n",
       "</div>"
      ],
      "text/plain": [
       "               LV1  LV2       LV3  LV4       LV5       LV6  LV7       LV8  \\\n",
       "GAS6      0.000000  0.0  0.039438  0.0  0.050476  0.000000  0.0  0.000000   \n",
       "MMP14     0.000000  0.0  0.000000  0.0  0.070072  0.000000  0.0  0.004904   \n",
       "DSP       0.000000  0.0  0.000000  0.0  0.000000  0.041697  0.0  0.005718   \n",
       "MARCKSL1  0.305212  0.0  0.000000  0.0  0.000000  0.000000  0.0  0.000000   \n",
       "SPARC     0.000000  0.0  0.000000  0.0  0.000000  0.000000  0.0  0.000000   \n",
       "\n",
       "               LV9      LV10  ...     LV978    LV979     LV980     LV981  \\\n",
       "GAS6      0.590949  0.000000  ...  0.050125  0.00000  0.033407  0.000000   \n",
       "MMP14     1.720179  2.423595  ...  0.000000  0.00000  0.001007  0.000000   \n",
       "DSP       0.000000  0.000000  ...  0.020853  0.00000  0.000000  0.000000   \n",
       "MARCKSL1  0.161843  0.149471  ...  0.027134  0.05272  0.000000  0.030189   \n",
       "SPARC     0.000000  0.014014  ...  0.000000  0.00000  0.000000  0.000000   \n",
       "\n",
       "             LV982     LV983     LV984  LV985     LV986     LV987  \n",
       "GAS6      0.000000  0.005963  0.347362    0.0  0.000000  0.000000  \n",
       "MMP14     0.035747  0.000000  0.000000    0.0  0.014978  0.000000  \n",
       "DSP       0.000000  0.005774  0.000000    0.0  0.000000  0.416405  \n",
       "MARCKSL1  0.060884  0.000000  0.000000    0.0  0.000000  0.448480  \n",
       "SPARC     0.000000  0.000000  0.067779    0.0  0.122417  0.062665  \n",
       "\n",
       "[5 rows x 987 columns]"
      ]
     },
     "execution_count": 26,
     "metadata": {},
     "output_type": "execute_result"
    }
   ],
   "source": [
    "multiplier_model_matrix_df.head()"
   ]
  },
  {
   "cell_type": "code",
   "execution_count": 27,
   "metadata": {
    "execution": {
     "iopub.execute_input": "2020-12-11T19:39:16.719912Z",
     "iopub.status.busy": "2020-12-11T19:39:16.719536Z",
     "iopub.status.idle": "2020-12-11T19:39:16.728872Z",
     "shell.execute_reply": "2020-12-11T19:39:16.728444Z"
    },
    "papermill": {
     "duration": 0.048534,
     "end_time": "2020-12-11T19:39:16.728965",
     "exception": false,
     "start_time": "2020-12-11T19:39:16.680431",
     "status": "completed"
    },
    "tags": []
   },
   "outputs": [],
   "source": [
    "# make sure I'm seeing the same when loaded with R\n",
    "assert multiplier_model_matrix_df.loc[\"GAS6\", \"LV2\"] == 0\n",
    "assert multiplier_model_matrix_df.loc[\"GAS6\", \"LV3\"] == 0.039437739697954444\n",
    "assert multiplier_model_matrix_df.loc[\"GAS6\", \"LV984\"] == 0.3473620915326928\n",
    "assert multiplier_model_matrix_df.loc[\"GAS6\", \"LV987\"] == 0\n",
    "\n",
    "assert multiplier_model_matrix_df.loc[\"SPARC\", \"LV981\"] == 0\n",
    "assert multiplier_model_matrix_df.loc[\"SPARC\", \"LV986\"].round(8) == 0.12241734"
   ]
  },
  {
   "cell_type": "markdown",
   "metadata": {
    "papermill": {
     "duration": 0.040581,
     "end_time": "2020-12-11T19:39:16.811043",
     "exception": false,
     "start_time": "2020-12-11T19:39:16.770462",
     "status": "completed"
    },
    "tags": []
   },
   "source": [
    "## Save"
   ]
  },
  {
   "cell_type": "markdown",
   "metadata": {
    "papermill": {
     "duration": 0.036342,
     "end_time": "2020-12-11T19:39:16.884763",
     "exception": false,
     "start_time": "2020-12-11T19:39:16.848421",
     "status": "completed"
    },
    "tags": []
   },
   "source": [
    "### Pickle format"
   ]
  },
  {
   "cell_type": "code",
   "execution_count": 28,
   "metadata": {
    "execution": {
     "iopub.execute_input": "2020-12-11T19:39:16.985770Z",
     "iopub.status.busy": "2020-12-11T19:39:16.985308Z",
     "iopub.status.idle": "2020-12-11T19:39:16.990072Z",
     "shell.execute_reply": "2020-12-11T19:39:16.989747Z"
    },
    "papermill": {
     "duration": 0.049306,
     "end_time": "2020-12-11T19:39:16.990168",
     "exception": false,
     "start_time": "2020-12-11T19:39:16.940862",
     "status": "completed"
    },
    "tags": []
   },
   "outputs": [
    {
     "data": {
      "text/plain": [
       "PosixPath('/home/miltondp/projects/labs/greenelab/phenoplier/base/data/multiplier/multiplier_model_z.pkl')"
      ]
     },
     "metadata": {},
     "output_type": "display_data"
    }
   ],
   "source": [
    "output_file = conf.MULTIPLIER[\"MODEL_Z_MATRIX_FILE\"]\n",
    "display(output_file)"
   ]
  },
  {
   "cell_type": "code",
   "execution_count": 29,
   "metadata": {
    "execution": {
     "iopub.execute_input": "2020-12-11T19:39:17.077498Z",
     "iopub.status.busy": "2020-12-11T19:39:17.068202Z",
     "iopub.status.idle": "2020-12-11T19:39:17.423535Z",
     "shell.execute_reply": "2020-12-11T19:39:17.421957Z"
    },
    "papermill": {
     "duration": 0.395266,
     "end_time": "2020-12-11T19:39:17.423883",
     "exception": false,
     "start_time": "2020-12-11T19:39:17.028617",
     "status": "completed"
    },
    "tags": []
   },
   "outputs": [],
   "source": [
    "multiplier_model_matrix_df.to_pickle(output_file)"
   ]
  },
  {
   "cell_type": "markdown",
   "metadata": {
    "papermill": {
     "duration": 0.040015,
     "end_time": "2020-12-11T19:39:17.534793",
     "exception": false,
     "start_time": "2020-12-11T19:39:17.494778",
     "status": "completed"
    },
    "tags": []
   },
   "source": [
    "### Text format"
   ]
  },
  {
   "cell_type": "code",
   "execution_count": 30,
   "metadata": {
    "execution": {
     "iopub.execute_input": "2020-12-11T19:39:17.618949Z",
     "iopub.status.busy": "2020-12-11T19:39:17.618479Z",
     "iopub.status.idle": "2020-12-11T19:39:17.628287Z",
     "shell.execute_reply": "2020-12-11T19:39:17.627826Z"
    },
    "papermill": {
     "duration": 0.052925,
     "end_time": "2020-12-11T19:39:17.628391",
     "exception": false,
     "start_time": "2020-12-11T19:39:17.575466",
     "status": "completed"
    },
    "tags": []
   },
   "outputs": [
    {
     "data": {
      "text/plain": [
       "PosixPath('/home/miltondp/projects/labs/greenelab/phenoplier/base/data/multiplier/multiplier_model_z.tsv.gz')"
      ]
     },
     "metadata": {},
     "output_type": "display_data"
    }
   ],
   "source": [
    "# tsv format\n",
    "output_text_file = output_file.with_suffix(\".tsv.gz\")\n",
    "display(output_text_file)"
   ]
  },
  {
   "cell_type": "code",
   "execution_count": 31,
   "metadata": {
    "execution": {
     "iopub.execute_input": "2020-12-11T19:39:17.709875Z",
     "iopub.status.busy": "2020-12-11T19:39:17.709437Z",
     "iopub.status.idle": "2020-12-11T19:39:40.699142Z",
     "shell.execute_reply": "2020-12-11T19:39:40.698695Z"
    },
    "papermill": {
     "duration": 23.032027,
     "end_time": "2020-12-11T19:39:40.699238",
     "exception": false,
     "start_time": "2020-12-11T19:39:17.667211",
     "status": "completed"
    },
    "tags": []
   },
   "outputs": [],
   "source": [
    "multiplier_model_matrix_df.to_csv(\n",
    "    output_text_file, sep=\"\\t\", index=True, float_format=\"%.5e\"\n",
    ")"
   ]
  },
  {
   "cell_type": "markdown",
   "metadata": {
    "papermill": {
     "duration": 0.039187,
     "end_time": "2020-12-11T19:39:40.776211",
     "exception": false,
     "start_time": "2020-12-11T19:39:40.737024",
     "status": "completed"
    },
    "tags": []
   },
   "source": [
    "# Matrix B (latent space; LVs x samples)"
   ]
  },
  {
   "cell_type": "code",
   "execution_count": 32,
   "metadata": {
    "execution": {
     "iopub.execute_input": "2020-12-11T19:39:40.859566Z",
     "iopub.status.busy": "2020-12-11T19:39:40.859143Z",
     "iopub.status.idle": "2020-12-11T19:39:40.868517Z",
     "shell.execute_reply": "2020-12-11T19:39:40.868118Z"
    },
    "papermill": {
     "duration": 0.052229,
     "end_time": "2020-12-11T19:39:40.868641",
     "exception": false,
     "start_time": "2020-12-11T19:39:40.816412",
     "status": "completed"
    },
    "tags": []
   },
   "outputs": [],
   "source": [
    "multiplier_model_matrix = multiplier_full_model.rx2(\"B\")"
   ]
  },
  {
   "cell_type": "code",
   "execution_count": 33,
   "metadata": {
    "execution": {
     "iopub.execute_input": "2020-12-11T19:39:40.953118Z",
     "iopub.status.busy": "2020-12-11T19:39:40.952679Z",
     "iopub.status.idle": "2020-12-11T19:39:40.961417Z",
     "shell.execute_reply": "2020-12-11T19:39:40.961089Z"
    },
    "papermill": {
     "duration": 0.050927,
     "end_time": "2020-12-11T19:39:40.961508",
     "exception": false,
     "start_time": "2020-12-11T19:39:40.910581",
     "status": "completed"
    },
    "tags": []
   },
   "outputs": [
    {
     "data": {
      "text/html": [
       "\n",
       "        <span>FloatMatrix with 36550584 elements.</span>\n",
       "        <table>\n",
       "        <tbody>\n",
       "          <tr>\n",
       "          \n",
       "            <td>\n",
       "            -0.059297\n",
       "            </td>\n",
       "          \n",
       "            <td>\n",
       "            0.006213\n",
       "            </td>\n",
       "          \n",
       "            <td>\n",
       "            -0.026105\n",
       "            </td>\n",
       "          \n",
       "            <td>\n",
       "            ...\n",
       "            </td>\n",
       "          \n",
       "            <td>\n",
       "            -0.104375\n",
       "            </td>\n",
       "          \n",
       "            <td>\n",
       "            -0.015785\n",
       "            </td>\n",
       "          \n",
       "            <td>\n",
       "            -0.024907\n",
       "            </td>\n",
       "          \n",
       "          </tr>\n",
       "        </tbody>\n",
       "        </table>\n",
       "        "
      ],
      "text/plain": [
       "R object with classes: ('matrix',) mapped to:\n",
       "[-0.059297, 0.006213, -0.026105, -0.022080, ..., -0.090562, -0.104375, -0.015785, -0.024907]"
      ]
     },
     "execution_count": 33,
     "metadata": {},
     "output_type": "execute_result"
    }
   ],
   "source": [
    "multiplier_model_matrix"
   ]
  },
  {
   "cell_type": "code",
   "execution_count": 34,
   "metadata": {
    "execution": {
     "iopub.execute_input": "2020-12-11T19:39:41.040157Z",
     "iopub.status.busy": "2020-12-11T19:39:41.039737Z",
     "iopub.status.idle": "2020-12-11T19:39:41.050179Z",
     "shell.execute_reply": "2020-12-11T19:39:41.050522Z"
    },
    "papermill": {
     "duration": 0.050953,
     "end_time": "2020-12-11T19:39:41.050675",
     "exception": false,
     "start_time": "2020-12-11T19:39:40.999722",
     "status": "completed"
    },
    "tags": []
   },
   "outputs": [
    {
     "data": {
      "text/html": [
       "\n",
       "        <span>StrVector with 987 elements.</span>\n",
       "        <table>\n",
       "        <tbody>\n",
       "          <tr>\n",
       "          \n",
       "            <td>\n",
       "            '1,REACTO...\n",
       "            </td>\n",
       "          \n",
       "            <td>\n",
       "            '2,SVM Mo...\n",
       "            </td>\n",
       "          \n",
       "            <td>\n",
       "            '3,REACTO...\n",
       "            </td>\n",
       "          \n",
       "            <td>\n",
       "            ...\n",
       "            </td>\n",
       "          \n",
       "            <td>\n",
       "            '985,IRIS...\n",
       "            </td>\n",
       "          \n",
       "            <td>\n",
       "            'LV 986'\n",
       "            </td>\n",
       "          \n",
       "            <td>\n",
       "            'LV 987'\n",
       "            </td>\n",
       "          \n",
       "          </tr>\n",
       "        </tbody>\n",
       "        </table>\n",
       "        "
      ],
      "text/plain": [
       "R object with classes: ('character',) mapped to:\n",
       "['1,REACTO..., '2,SVM Mo..., '3,REACTO..., '4,REACTO..., ..., 'LV 984', '985,IRIS..., 'LV 986', 'LV 987']"
      ]
     },
     "execution_count": 34,
     "metadata": {},
     "output_type": "execute_result"
    }
   ],
   "source": [
    "multiplier_model_matrix.rownames"
   ]
  },
  {
   "cell_type": "code",
   "execution_count": 35,
   "metadata": {
    "execution": {
     "iopub.execute_input": "2020-12-11T19:39:41.132837Z",
     "iopub.status.busy": "2020-12-11T19:39:41.132337Z",
     "iopub.status.idle": "2020-12-11T19:39:41.141978Z",
     "shell.execute_reply": "2020-12-11T19:39:41.141622Z"
    },
    "papermill": {
     "duration": 0.050586,
     "end_time": "2020-12-11T19:39:41.142068",
     "exception": false,
     "start_time": "2020-12-11T19:39:41.091482",
     "status": "completed"
    },
    "tags": []
   },
   "outputs": [
    {
     "data": {
      "text/html": [
       "\n",
       "        <span>StrVector with 37032 elements.</span>\n",
       "        <table>\n",
       "        <tbody>\n",
       "          <tr>\n",
       "          \n",
       "            <td>\n",
       "            'SRP00059...\n",
       "            </td>\n",
       "          \n",
       "            <td>\n",
       "            'SRP00059...\n",
       "            </td>\n",
       "          \n",
       "            <td>\n",
       "            'SRP00059...\n",
       "            </td>\n",
       "          \n",
       "            <td>\n",
       "            ...\n",
       "            </td>\n",
       "          \n",
       "            <td>\n",
       "            'SRP03559...\n",
       "            </td>\n",
       "          \n",
       "            <td>\n",
       "            'SRP03559...\n",
       "            </td>\n",
       "          \n",
       "            <td>\n",
       "            'SRP03559...\n",
       "            </td>\n",
       "          \n",
       "          </tr>\n",
       "        </tbody>\n",
       "        </table>\n",
       "        "
      ],
      "text/plain": [
       "R object with classes: ('character',) mapped to:\n",
       "['SRP00059..., 'SRP00059..., 'SRP00059..., 'SRP00059..., ..., 'SRP03559..., 'SRP03559..., 'SRP03559..., 'SRP03559...]"
      ]
     },
     "execution_count": 35,
     "metadata": {},
     "output_type": "execute_result"
    }
   ],
   "source": [
    "multiplier_model_matrix.colnames"
   ]
  },
  {
   "cell_type": "code",
   "execution_count": 36,
   "metadata": {
    "execution": {
     "iopub.execute_input": "2020-12-11T19:39:41.223511Z",
     "iopub.status.busy": "2020-12-11T19:39:41.223053Z",
     "iopub.status.idle": "2020-12-11T19:39:41.286745Z",
     "shell.execute_reply": "2020-12-11T19:39:41.286385Z"
    },
    "papermill": {
     "duration": 0.105374,
     "end_time": "2020-12-11T19:39:41.286844",
     "exception": false,
     "start_time": "2020-12-11T19:39:41.181470",
     "status": "completed"
    },
    "tags": []
   },
   "outputs": [],
   "source": [
    "with localconverter(ro.default_converter + pandas2ri.converter):\n",
    "    multiplier_model_matrix_values = ro.conversion.rpy2py(multiplier_model_matrix)"
   ]
  },
  {
   "cell_type": "code",
   "execution_count": 37,
   "metadata": {
    "execution": {
     "iopub.execute_input": "2020-12-11T19:39:41.373776Z",
     "iopub.status.busy": "2020-12-11T19:39:41.373291Z",
     "iopub.status.idle": "2020-12-11T19:39:41.481129Z",
     "shell.execute_reply": "2020-12-11T19:39:41.480631Z"
    },
    "papermill": {
     "duration": 0.152769,
     "end_time": "2020-12-11T19:39:41.481247",
     "exception": false,
     "start_time": "2020-12-11T19:39:41.328478",
     "status": "completed"
    },
    "tags": []
   },
   "outputs": [],
   "source": [
    "multiplier_model_matrix_df = pd.DataFrame(\n",
    "    data=multiplier_model_matrix_values,\n",
    "    #    Look like the rows have a special meaning, so no overriding it.\n",
    "    #    index=[f'LV{i}' for i in range(1, multiplier_model_matrix.nrow + 1)],\n",
    "    index=multiplier_model_matrix.rownames,\n",
    "    columns=multiplier_model_matrix.colnames,\n",
    ")"
   ]
  },
  {
   "cell_type": "code",
   "execution_count": 38,
   "metadata": {
    "execution": {
     "iopub.execute_input": "2020-12-11T19:39:41.568641Z",
     "iopub.status.busy": "2020-12-11T19:39:41.568179Z",
     "iopub.status.idle": "2020-12-11T19:39:41.577557Z",
     "shell.execute_reply": "2020-12-11T19:39:41.577899Z"
    },
    "papermill": {
     "duration": 0.054712,
     "end_time": "2020-12-11T19:39:41.578015",
     "exception": false,
     "start_time": "2020-12-11T19:39:41.523303",
     "status": "completed"
    },
    "tags": []
   },
   "outputs": [
    {
     "data": {
      "text/plain": [
       "(987, 37032)"
      ]
     },
     "metadata": {},
     "output_type": "display_data"
    }
   ],
   "source": [
    "display(multiplier_model_matrix_df.shape)\n",
    "assert multiplier_model_matrix_df.shape == (987, 37032)"
   ]
  },
  {
   "cell_type": "code",
   "execution_count": 39,
   "metadata": {
    "execution": {
     "iopub.execute_input": "2020-12-11T19:39:41.663282Z",
     "iopub.status.busy": "2020-12-11T19:39:41.662859Z",
     "iopub.status.idle": "2020-12-11T19:39:41.687285Z",
     "shell.execute_reply": "2020-12-11T19:39:41.686927Z"
    },
    "papermill": {
     "duration": 0.068808,
     "end_time": "2020-12-11T19:39:41.687376",
     "exception": false,
     "start_time": "2020-12-11T19:39:41.618568",
     "status": "completed"
    },
    "tags": []
   },
   "outputs": [
    {
     "data": {
      "text/html": [
       "<div>\n",
       "<style scoped>\n",
       "    .dataframe tbody tr th:only-of-type {\n",
       "        vertical-align: middle;\n",
       "    }\n",
       "\n",
       "    .dataframe tbody tr th {\n",
       "        vertical-align: top;\n",
       "    }\n",
       "\n",
       "    .dataframe thead th {\n",
       "        text-align: right;\n",
       "    }\n",
       "</style>\n",
       "<table border=\"1\" class=\"dataframe\">\n",
       "  <thead>\n",
       "    <tr style=\"text-align: right;\">\n",
       "      <th></th>\n",
       "      <th>SRP000599.SRR013549</th>\n",
       "      <th>SRP000599.SRR013550</th>\n",
       "      <th>SRP000599.SRR013551</th>\n",
       "      <th>SRP000599.SRR013552</th>\n",
       "      <th>SRP000599.SRR013553</th>\n",
       "      <th>SRP000599.SRR013554</th>\n",
       "      <th>SRP000599.SRR013555</th>\n",
       "      <th>SRP000599.SRR013556</th>\n",
       "      <th>SRP000599.SRR013557</th>\n",
       "      <th>SRP000599.SRR013558</th>\n",
       "      <th>...</th>\n",
       "      <th>SRP035599.SRR1139372</th>\n",
       "      <th>SRP035599.SRR1139393</th>\n",
       "      <th>SRP035599.SRR1139388</th>\n",
       "      <th>SRP035599.SRR1139378</th>\n",
       "      <th>SRP035599.SRR1139399</th>\n",
       "      <th>SRP035599.SRR1139386</th>\n",
       "      <th>SRP035599.SRR1139375</th>\n",
       "      <th>SRP035599.SRR1139382</th>\n",
       "      <th>SRP035599.SRR1139356</th>\n",
       "      <th>SRP035599.SRR1139370</th>\n",
       "    </tr>\n",
       "  </thead>\n",
       "  <tbody>\n",
       "    <tr>\n",
       "      <th>1,REACTOME_MRNA_SPLICING</th>\n",
       "      <td>-0.059297</td>\n",
       "      <td>-0.047909</td>\n",
       "      <td>-0.049366</td>\n",
       "      <td>-0.065078</td>\n",
       "      <td>-0.036394</td>\n",
       "      <td>-0.046433</td>\n",
       "      <td>-0.040980</td>\n",
       "      <td>-0.040068</td>\n",
       "      <td>-0.046137</td>\n",
       "      <td>-0.048548</td>\n",
       "      <td>...</td>\n",
       "      <td>0.028220</td>\n",
       "      <td>0.035137</td>\n",
       "      <td>0.065077</td>\n",
       "      <td>0.078144</td>\n",
       "      <td>0.092362</td>\n",
       "      <td>0.069042</td>\n",
       "      <td>0.090914</td>\n",
       "      <td>0.096341</td>\n",
       "      <td>0.131115</td>\n",
       "      <td>0.171751</td>\n",
       "    </tr>\n",
       "    <tr>\n",
       "      <th>2,SVM Monocytes</th>\n",
       "      <td>0.006213</td>\n",
       "      <td>0.003625</td>\n",
       "      <td>0.006605</td>\n",
       "      <td>0.009258</td>\n",
       "      <td>0.005061</td>\n",
       "      <td>0.004133</td>\n",
       "      <td>0.008950</td>\n",
       "      <td>0.007227</td>\n",
       "      <td>0.007241</td>\n",
       "      <td>0.005710</td>\n",
       "      <td>...</td>\n",
       "      <td>-0.050455</td>\n",
       "      <td>-0.034502</td>\n",
       "      <td>-0.033640</td>\n",
       "      <td>-0.049702</td>\n",
       "      <td>-0.037426</td>\n",
       "      <td>-0.050070</td>\n",
       "      <td>-0.022575</td>\n",
       "      <td>-0.055091</td>\n",
       "      <td>-0.056869</td>\n",
       "      <td>-0.018073</td>\n",
       "    </tr>\n",
       "    <tr>\n",
       "      <th>3,REACTOME_TRANSMISSION_ACROSS_CHEMICAL_SYNAPSES</th>\n",
       "      <td>-0.026105</td>\n",
       "      <td>-0.032232</td>\n",
       "      <td>-0.020621</td>\n",
       "      <td>-0.027599</td>\n",
       "      <td>-0.035248</td>\n",
       "      <td>-0.038701</td>\n",
       "      <td>-0.032527</td>\n",
       "      <td>-0.030593</td>\n",
       "      <td>-0.028937</td>\n",
       "      <td>-0.027406</td>\n",
       "      <td>...</td>\n",
       "      <td>-0.028610</td>\n",
       "      <td>-0.033450</td>\n",
       "      <td>-0.030583</td>\n",
       "      <td>-0.032399</td>\n",
       "      <td>-0.029365</td>\n",
       "      <td>-0.025406</td>\n",
       "      <td>-0.033657</td>\n",
       "      <td>-0.031318</td>\n",
       "      <td>-0.030924</td>\n",
       "      <td>-0.027869</td>\n",
       "    </tr>\n",
       "    <tr>\n",
       "      <th>4,REACTOME_NEURONAL_SYSTEM</th>\n",
       "      <td>-0.022080</td>\n",
       "      <td>-0.008971</td>\n",
       "      <td>-0.020342</td>\n",
       "      <td>-0.016260</td>\n",
       "      <td>-0.003023</td>\n",
       "      <td>0.002443</td>\n",
       "      <td>-0.020458</td>\n",
       "      <td>-0.023735</td>\n",
       "      <td>-0.021581</td>\n",
       "      <td>-0.022478</td>\n",
       "      <td>...</td>\n",
       "      <td>-0.037122</td>\n",
       "      <td>-0.029658</td>\n",
       "      <td>-0.036350</td>\n",
       "      <td>-0.039254</td>\n",
       "      <td>-0.035205</td>\n",
       "      <td>-0.036345</td>\n",
       "      <td>-0.034514</td>\n",
       "      <td>-0.035926</td>\n",
       "      <td>-0.040358</td>\n",
       "      <td>-0.031131</td>\n",
       "    </tr>\n",
       "    <tr>\n",
       "      <th>LV 5</th>\n",
       "      <td>0.007663</td>\n",
       "      <td>0.007036</td>\n",
       "      <td>0.006608</td>\n",
       "      <td>0.003446</td>\n",
       "      <td>0.006341</td>\n",
       "      <td>0.007106</td>\n",
       "      <td>0.007930</td>\n",
       "      <td>0.009164</td>\n",
       "      <td>0.008024</td>\n",
       "      <td>0.007938</td>\n",
       "      <td>...</td>\n",
       "      <td>-0.003056</td>\n",
       "      <td>-0.004784</td>\n",
       "      <td>-0.004352</td>\n",
       "      <td>-0.004160</td>\n",
       "      <td>-0.001085</td>\n",
       "      <td>-0.001884</td>\n",
       "      <td>-0.003561</td>\n",
       "      <td>-0.003546</td>\n",
       "      <td>-0.012107</td>\n",
       "      <td>-0.001193</td>\n",
       "    </tr>\n",
       "  </tbody>\n",
       "</table>\n",
       "<p>5 rows × 37032 columns</p>\n",
       "</div>"
      ],
      "text/plain": [
       "                                                  SRP000599.SRR013549  \\\n",
       "1,REACTOME_MRNA_SPLICING                                    -0.059297   \n",
       "2,SVM Monocytes                                              0.006213   \n",
       "3,REACTOME_TRANSMISSION_ACROSS_CHEMICAL_SYNAPSES            -0.026105   \n",
       "4,REACTOME_NEURONAL_SYSTEM                                  -0.022080   \n",
       "LV 5                                                         0.007663   \n",
       "\n",
       "                                                  SRP000599.SRR013550  \\\n",
       "1,REACTOME_MRNA_SPLICING                                    -0.047909   \n",
       "2,SVM Monocytes                                              0.003625   \n",
       "3,REACTOME_TRANSMISSION_ACROSS_CHEMICAL_SYNAPSES            -0.032232   \n",
       "4,REACTOME_NEURONAL_SYSTEM                                  -0.008971   \n",
       "LV 5                                                         0.007036   \n",
       "\n",
       "                                                  SRP000599.SRR013551  \\\n",
       "1,REACTOME_MRNA_SPLICING                                    -0.049366   \n",
       "2,SVM Monocytes                                              0.006605   \n",
       "3,REACTOME_TRANSMISSION_ACROSS_CHEMICAL_SYNAPSES            -0.020621   \n",
       "4,REACTOME_NEURONAL_SYSTEM                                  -0.020342   \n",
       "LV 5                                                         0.006608   \n",
       "\n",
       "                                                  SRP000599.SRR013552  \\\n",
       "1,REACTOME_MRNA_SPLICING                                    -0.065078   \n",
       "2,SVM Monocytes                                              0.009258   \n",
       "3,REACTOME_TRANSMISSION_ACROSS_CHEMICAL_SYNAPSES            -0.027599   \n",
       "4,REACTOME_NEURONAL_SYSTEM                                  -0.016260   \n",
       "LV 5                                                         0.003446   \n",
       "\n",
       "                                                  SRP000599.SRR013553  \\\n",
       "1,REACTOME_MRNA_SPLICING                                    -0.036394   \n",
       "2,SVM Monocytes                                              0.005061   \n",
       "3,REACTOME_TRANSMISSION_ACROSS_CHEMICAL_SYNAPSES            -0.035248   \n",
       "4,REACTOME_NEURONAL_SYSTEM                                  -0.003023   \n",
       "LV 5                                                         0.006341   \n",
       "\n",
       "                                                  SRP000599.SRR013554  \\\n",
       "1,REACTOME_MRNA_SPLICING                                    -0.046433   \n",
       "2,SVM Monocytes                                              0.004133   \n",
       "3,REACTOME_TRANSMISSION_ACROSS_CHEMICAL_SYNAPSES            -0.038701   \n",
       "4,REACTOME_NEURONAL_SYSTEM                                   0.002443   \n",
       "LV 5                                                         0.007106   \n",
       "\n",
       "                                                  SRP000599.SRR013555  \\\n",
       "1,REACTOME_MRNA_SPLICING                                    -0.040980   \n",
       "2,SVM Monocytes                                              0.008950   \n",
       "3,REACTOME_TRANSMISSION_ACROSS_CHEMICAL_SYNAPSES            -0.032527   \n",
       "4,REACTOME_NEURONAL_SYSTEM                                  -0.020458   \n",
       "LV 5                                                         0.007930   \n",
       "\n",
       "                                                  SRP000599.SRR013556  \\\n",
       "1,REACTOME_MRNA_SPLICING                                    -0.040068   \n",
       "2,SVM Monocytes                                              0.007227   \n",
       "3,REACTOME_TRANSMISSION_ACROSS_CHEMICAL_SYNAPSES            -0.030593   \n",
       "4,REACTOME_NEURONAL_SYSTEM                                  -0.023735   \n",
       "LV 5                                                         0.009164   \n",
       "\n",
       "                                                  SRP000599.SRR013557  \\\n",
       "1,REACTOME_MRNA_SPLICING                                    -0.046137   \n",
       "2,SVM Monocytes                                              0.007241   \n",
       "3,REACTOME_TRANSMISSION_ACROSS_CHEMICAL_SYNAPSES            -0.028937   \n",
       "4,REACTOME_NEURONAL_SYSTEM                                  -0.021581   \n",
       "LV 5                                                         0.008024   \n",
       "\n",
       "                                                  SRP000599.SRR013558  ...  \\\n",
       "1,REACTOME_MRNA_SPLICING                                    -0.048548  ...   \n",
       "2,SVM Monocytes                                              0.005710  ...   \n",
       "3,REACTOME_TRANSMISSION_ACROSS_CHEMICAL_SYNAPSES            -0.027406  ...   \n",
       "4,REACTOME_NEURONAL_SYSTEM                                  -0.022478  ...   \n",
       "LV 5                                                         0.007938  ...   \n",
       "\n",
       "                                                  SRP035599.SRR1139372  \\\n",
       "1,REACTOME_MRNA_SPLICING                                      0.028220   \n",
       "2,SVM Monocytes                                              -0.050455   \n",
       "3,REACTOME_TRANSMISSION_ACROSS_CHEMICAL_SYNAPSES             -0.028610   \n",
       "4,REACTOME_NEURONAL_SYSTEM                                   -0.037122   \n",
       "LV 5                                                         -0.003056   \n",
       "\n",
       "                                                  SRP035599.SRR1139393  \\\n",
       "1,REACTOME_MRNA_SPLICING                                      0.035137   \n",
       "2,SVM Monocytes                                              -0.034502   \n",
       "3,REACTOME_TRANSMISSION_ACROSS_CHEMICAL_SYNAPSES             -0.033450   \n",
       "4,REACTOME_NEURONAL_SYSTEM                                   -0.029658   \n",
       "LV 5                                                         -0.004784   \n",
       "\n",
       "                                                  SRP035599.SRR1139388  \\\n",
       "1,REACTOME_MRNA_SPLICING                                      0.065077   \n",
       "2,SVM Monocytes                                              -0.033640   \n",
       "3,REACTOME_TRANSMISSION_ACROSS_CHEMICAL_SYNAPSES             -0.030583   \n",
       "4,REACTOME_NEURONAL_SYSTEM                                   -0.036350   \n",
       "LV 5                                                         -0.004352   \n",
       "\n",
       "                                                  SRP035599.SRR1139378  \\\n",
       "1,REACTOME_MRNA_SPLICING                                      0.078144   \n",
       "2,SVM Monocytes                                              -0.049702   \n",
       "3,REACTOME_TRANSMISSION_ACROSS_CHEMICAL_SYNAPSES             -0.032399   \n",
       "4,REACTOME_NEURONAL_SYSTEM                                   -0.039254   \n",
       "LV 5                                                         -0.004160   \n",
       "\n",
       "                                                  SRP035599.SRR1139399  \\\n",
       "1,REACTOME_MRNA_SPLICING                                      0.092362   \n",
       "2,SVM Monocytes                                              -0.037426   \n",
       "3,REACTOME_TRANSMISSION_ACROSS_CHEMICAL_SYNAPSES             -0.029365   \n",
       "4,REACTOME_NEURONAL_SYSTEM                                   -0.035205   \n",
       "LV 5                                                         -0.001085   \n",
       "\n",
       "                                                  SRP035599.SRR1139386  \\\n",
       "1,REACTOME_MRNA_SPLICING                                      0.069042   \n",
       "2,SVM Monocytes                                              -0.050070   \n",
       "3,REACTOME_TRANSMISSION_ACROSS_CHEMICAL_SYNAPSES             -0.025406   \n",
       "4,REACTOME_NEURONAL_SYSTEM                                   -0.036345   \n",
       "LV 5                                                         -0.001884   \n",
       "\n",
       "                                                  SRP035599.SRR1139375  \\\n",
       "1,REACTOME_MRNA_SPLICING                                      0.090914   \n",
       "2,SVM Monocytes                                              -0.022575   \n",
       "3,REACTOME_TRANSMISSION_ACROSS_CHEMICAL_SYNAPSES             -0.033657   \n",
       "4,REACTOME_NEURONAL_SYSTEM                                   -0.034514   \n",
       "LV 5                                                         -0.003561   \n",
       "\n",
       "                                                  SRP035599.SRR1139382  \\\n",
       "1,REACTOME_MRNA_SPLICING                                      0.096341   \n",
       "2,SVM Monocytes                                              -0.055091   \n",
       "3,REACTOME_TRANSMISSION_ACROSS_CHEMICAL_SYNAPSES             -0.031318   \n",
       "4,REACTOME_NEURONAL_SYSTEM                                   -0.035926   \n",
       "LV 5                                                         -0.003546   \n",
       "\n",
       "                                                  SRP035599.SRR1139356  \\\n",
       "1,REACTOME_MRNA_SPLICING                                      0.131115   \n",
       "2,SVM Monocytes                                              -0.056869   \n",
       "3,REACTOME_TRANSMISSION_ACROSS_CHEMICAL_SYNAPSES             -0.030924   \n",
       "4,REACTOME_NEURONAL_SYSTEM                                   -0.040358   \n",
       "LV 5                                                         -0.012107   \n",
       "\n",
       "                                                  SRP035599.SRR1139370  \n",
       "1,REACTOME_MRNA_SPLICING                                      0.171751  \n",
       "2,SVM Monocytes                                              -0.018073  \n",
       "3,REACTOME_TRANSMISSION_ACROSS_CHEMICAL_SYNAPSES             -0.027869  \n",
       "4,REACTOME_NEURONAL_SYSTEM                                   -0.031131  \n",
       "LV 5                                                         -0.001193  \n",
       "\n",
       "[5 rows x 37032 columns]"
      ]
     },
     "execution_count": 39,
     "metadata": {},
     "output_type": "execute_result"
    }
   ],
   "source": [
    "multiplier_model_matrix_df.head()"
   ]
  },
  {
   "cell_type": "code",
   "execution_count": 40,
   "metadata": {
    "execution": {
     "iopub.execute_input": "2020-12-11T19:39:41.773619Z",
     "iopub.status.busy": "2020-12-11T19:39:41.773162Z",
     "iopub.status.idle": "2020-12-11T19:39:41.783863Z",
     "shell.execute_reply": "2020-12-11T19:39:41.783495Z"
    },
    "papermill": {
     "duration": 0.056089,
     "end_time": "2020-12-11T19:39:41.784010",
     "exception": false,
     "start_time": "2020-12-11T19:39:41.727921",
     "status": "completed"
    },
    "tags": []
   },
   "outputs": [],
   "source": [
    "# make sure I'm seeing the same when loaded with R\n",
    "assert (\n",
    "    multiplier_model_matrix_df.loc[\n",
    "        \"1,REACTOME_MRNA_SPLICING\", \"SRP000599.SRR013549\"\n",
    "    ].round(9)\n",
    "    == -0.059296689\n",
    ")\n",
    "assert (\n",
    "    multiplier_model_matrix_df.loc[\n",
    "        \"1,REACTOME_MRNA_SPLICING\", \"SRP000599.SRR013553\"\n",
    "    ].round(9)\n",
    "    == -0.036394186\n",
    ")\n",
    "\n",
    "assert (\n",
    "    multiplier_model_matrix_df.loc[\"2,SVM Monocytes\", \"SRP000599.SRR013549\"].round(9)\n",
    "    == 0.006212678\n",
    ")\n",
    "assert (\n",
    "    multiplier_model_matrix_df.loc[\"2,SVM Monocytes\", \"SRP004637.SRR073776\"].round(9)\n",
    "    == -0.008800153\n",
    ")\n",
    "\n",
    "assert (\n",
    "    multiplier_model_matrix_df.loc[\"LV 9\", \"SRP004637.SRR073774\"].round(9)\n",
    "    == 0.092318955\n",
    ")\n",
    "assert (\n",
    "    multiplier_model_matrix_df.loc[\"LV 9\", \"SRP004637.SRR073776\"].round(9)\n",
    "    == 0.100114294\n",
    ")"
   ]
  },
  {
   "cell_type": "markdown",
   "metadata": {
    "papermill": {
     "duration": 0.042631,
     "end_time": "2020-12-11T19:39:41.870012",
     "exception": false,
     "start_time": "2020-12-11T19:39:41.827381",
     "status": "completed"
    },
    "tags": []
   },
   "source": [
    "## Make sure no GTEx samples are included"
   ]
  },
  {
   "cell_type": "code",
   "execution_count": 41,
   "metadata": {
    "execution": {
     "iopub.execute_input": "2020-12-11T19:39:41.954371Z",
     "iopub.status.busy": "2020-12-11T19:39:41.953936Z",
     "iopub.status.idle": "2020-12-11T19:39:41.971858Z",
     "shell.execute_reply": "2020-12-11T19:39:41.971451Z"
    },
    "papermill": {
     "duration": 0.061794,
     "end_time": "2020-12-11T19:39:41.971980",
     "exception": false,
     "start_time": "2020-12-11T19:39:41.910186",
     "status": "completed"
    },
    "tags": []
   },
   "outputs": [],
   "source": [
    "# Test search string first\n",
    "_tmp = multiplier_model_matrix_df.columns.str.contains(\"SRP000599.\", regex=False)\n",
    "assert _tmp[0]\n",
    "assert _tmp[1]\n",
    "assert not _tmp[-1]"
   ]
  },
  {
   "cell_type": "code",
   "execution_count": 42,
   "metadata": {
    "execution": {
     "iopub.execute_input": "2020-12-11T19:39:42.062303Z",
     "iopub.status.busy": "2020-12-11T19:39:42.061823Z",
     "iopub.status.idle": "2020-12-11T19:39:42.069919Z",
     "shell.execute_reply": "2020-12-11T19:39:42.070302Z"
    },
    "papermill": {
     "duration": 0.057108,
     "end_time": "2020-12-11T19:39:42.070428",
     "exception": false,
     "start_time": "2020-12-11T19:39:42.013320",
     "status": "completed"
    },
    "tags": []
   },
   "outputs": [],
   "source": [
    "GTEX_ACCESSION_CODE = \"SRP012682\""
   ]
  },
  {
   "cell_type": "code",
   "execution_count": 43,
   "metadata": {
    "execution": {
     "iopub.execute_input": "2020-12-11T19:39:42.156473Z",
     "iopub.status.busy": "2020-12-11T19:39:42.156049Z",
     "iopub.status.idle": "2020-12-11T19:39:42.171489Z",
     "shell.execute_reply": "2020-12-11T19:39:42.171059Z"
    },
    "papermill": {
     "duration": 0.05974,
     "end_time": "2020-12-11T19:39:42.171583",
     "exception": false,
     "start_time": "2020-12-11T19:39:42.111843",
     "status": "completed"
    },
    "tags": []
   },
   "outputs": [],
   "source": [
    "_tmp = multiplier_model_matrix_df.columns.str.contains(GTEX_ACCESSION_CODE, regex=False)\n",
    "assert not _tmp.any()"
   ]
  },
  {
   "cell_type": "markdown",
   "metadata": {
    "papermill": {
     "duration": 0.044868,
     "end_time": "2020-12-11T19:39:42.258789",
     "exception": false,
     "start_time": "2020-12-11T19:39:42.213921",
     "status": "completed"
    },
    "tags": []
   },
   "source": [
    "## Save"
   ]
  },
  {
   "cell_type": "markdown",
   "metadata": {
    "papermill": {
     "duration": 0.039846,
     "end_time": "2020-12-11T19:39:42.342131",
     "exception": false,
     "start_time": "2020-12-11T19:39:42.302285",
     "status": "completed"
    },
    "tags": []
   },
   "source": [
    "### Pickle format"
   ]
  },
  {
   "cell_type": "code",
   "execution_count": 44,
   "metadata": {
    "execution": {
     "iopub.execute_input": "2020-12-11T19:39:42.425296Z",
     "iopub.status.busy": "2020-12-11T19:39:42.424644Z",
     "iopub.status.idle": "2020-12-11T19:39:42.434576Z",
     "shell.execute_reply": "2020-12-11T19:39:42.434196Z"
    },
    "papermill": {
     "duration": 0.052194,
     "end_time": "2020-12-11T19:39:42.434666",
     "exception": false,
     "start_time": "2020-12-11T19:39:42.382472",
     "status": "completed"
    },
    "tags": []
   },
   "outputs": [
    {
     "data": {
      "text/plain": [
       "PosixPath('/home/miltondp/projects/labs/greenelab/phenoplier/base/data/multiplier/multiplier_model_b.pkl')"
      ]
     },
     "metadata": {},
     "output_type": "display_data"
    }
   ],
   "source": [
    "output_file = conf.MULTIPLIER[\"MODEL_B_MATRIX_FILE\"]\n",
    "display(output_file)"
   ]
  },
  {
   "cell_type": "code",
   "execution_count": 45,
   "metadata": {
    "execution": {
     "iopub.execute_input": "2020-12-11T19:39:42.533527Z",
     "iopub.status.busy": "2020-12-11T19:39:42.521141Z",
     "iopub.status.idle": "2020-12-11T19:39:44.235575Z",
     "shell.execute_reply": "2020-12-11T19:39:44.234007Z"
    },
    "papermill": {
     "duration": 1.759511,
     "end_time": "2020-12-11T19:39:44.235917",
     "exception": false,
     "start_time": "2020-12-11T19:39:42.476406",
     "status": "completed"
    },
    "tags": []
   },
   "outputs": [],
   "source": [
    "multiplier_model_matrix_df.to_pickle(output_file)"
   ]
  },
  {
   "cell_type": "markdown",
   "metadata": {
    "papermill": {
     "duration": 0.042269,
     "end_time": "2020-12-11T19:39:44.320075",
     "exception": false,
     "start_time": "2020-12-11T19:39:44.277806",
     "status": "completed"
    },
    "tags": []
   },
   "source": [
    "### Text format"
   ]
  },
  {
   "cell_type": "code",
   "execution_count": 46,
   "metadata": {
    "execution": {
     "iopub.execute_input": "2020-12-11T19:39:44.411998Z",
     "iopub.status.busy": "2020-12-11T19:39:44.411563Z",
     "iopub.status.idle": "2020-12-11T19:39:44.419919Z",
     "shell.execute_reply": "2020-12-11T19:39:44.420303Z"
    },
    "papermill": {
     "duration": 0.054972,
     "end_time": "2020-12-11T19:39:44.420416",
     "exception": false,
     "start_time": "2020-12-11T19:39:44.365444",
     "status": "completed"
    },
    "tags": []
   },
   "outputs": [
    {
     "data": {
      "text/plain": [
       "PosixPath('/home/miltondp/projects/labs/greenelab/phenoplier/base/data/multiplier/multiplier_model_b.tsv.gz')"
      ]
     },
     "metadata": {},
     "output_type": "display_data"
    }
   ],
   "source": [
    "# tsv format\n",
    "output_text_file = output_file.with_suffix(\".tsv.gz\")\n",
    "display(output_text_file)"
   ]
  },
  {
   "cell_type": "code",
   "execution_count": 47,
   "metadata": {
    "execution": {
     "iopub.execute_input": "2020-12-11T19:39:44.508146Z",
     "iopub.status.busy": "2020-12-11T19:39:44.507751Z",
     "iopub.status.idle": "2020-12-11T19:44:01.427389Z",
     "shell.execute_reply": "2020-12-11T19:44:01.426802Z"
    },
    "papermill": {
     "duration": 256.964658,
     "end_time": "2020-12-11T19:44:01.427507",
     "exception": false,
     "start_time": "2020-12-11T19:39:44.462849",
     "status": "completed"
    },
    "tags": []
   },
   "outputs": [],
   "source": [
    "multiplier_model_matrix_df.to_csv(\n",
    "    output_text_file, sep=\"\\t\", index=True, float_format=\"%.5e\"\n",
    ")"
   ]
  },
  {
   "cell_type": "markdown",
   "metadata": {
    "papermill": {
     "duration": 0.041108,
     "end_time": "2020-12-11T19:44:01.515007",
     "exception": false,
     "start_time": "2020-12-11T19:44:01.473899",
     "status": "completed"
    },
    "tags": []
   },
   "source": [
    "# Matrix U (gene sets x LVs)"
   ]
  },
  {
   "cell_type": "code",
   "execution_count": 48,
   "metadata": {
    "execution": {
     "iopub.execute_input": "2020-12-11T19:44:01.603727Z",
     "iopub.status.busy": "2020-12-11T19:44:01.603338Z",
     "iopub.status.idle": "2020-12-11T19:44:01.626466Z",
     "shell.execute_reply": "2020-12-11T19:44:01.626748Z"
    },
    "papermill": {
     "duration": 0.07025,
     "end_time": "2020-12-11T19:44:01.626859",
     "exception": false,
     "start_time": "2020-12-11T19:44:01.556609",
     "status": "completed"
    },
    "tags": []
   },
   "outputs": [],
   "source": [
    "multiplier_model_matrix = multiplier_full_model.rx2(\"U\")"
   ]
  },
  {
   "cell_type": "code",
   "execution_count": 49,
   "metadata": {
    "execution": {
     "iopub.execute_input": "2020-12-11T19:44:01.717798Z",
     "iopub.status.busy": "2020-12-11T19:44:01.717331Z",
     "iopub.status.idle": "2020-12-11T19:44:01.724408Z",
     "shell.execute_reply": "2020-12-11T19:44:01.724002Z"
    },
    "papermill": {
     "duration": 0.054521,
     "end_time": "2020-12-11T19:44:01.724500",
     "exception": false,
     "start_time": "2020-12-11T19:44:01.669979",
     "status": "completed"
    },
    "tags": []
   },
   "outputs": [
    {
     "data": {
      "text/html": [
       "\n",
       "        <span>FloatMatrix with 619836 elements.</span>\n",
       "        <table>\n",
       "        <tbody>\n",
       "          <tr>\n",
       "          \n",
       "            <td>\n",
       "            0.000000\n",
       "            </td>\n",
       "          \n",
       "            <td>\n",
       "            0.000000\n",
       "            </td>\n",
       "          \n",
       "            <td>\n",
       "            0.000000\n",
       "            </td>\n",
       "          \n",
       "            <td>\n",
       "            ...\n",
       "            </td>\n",
       "          \n",
       "            <td>\n",
       "            0.000000\n",
       "            </td>\n",
       "          \n",
       "            <td>\n",
       "            0.000000\n",
       "            </td>\n",
       "          \n",
       "            <td>\n",
       "            0.000000\n",
       "            </td>\n",
       "          \n",
       "          </tr>\n",
       "        </tbody>\n",
       "        </table>\n",
       "        "
      ],
      "text/plain": [
       "R object with classes: ('matrix',) mapped to:\n",
       "[0.000000, 0.000000, 0.000000, 0.000000, ..., 0.000000, 0.000000, 0.000000, 0.000000]"
      ]
     },
     "execution_count": 49,
     "metadata": {},
     "output_type": "execute_result"
    }
   ],
   "source": [
    "multiplier_model_matrix"
   ]
  },
  {
   "cell_type": "code",
   "execution_count": 50,
   "metadata": {
    "execution": {
     "iopub.execute_input": "2020-12-11T19:44:01.814050Z",
     "iopub.status.busy": "2020-12-11T19:44:01.813577Z",
     "iopub.status.idle": "2020-12-11T19:44:01.822309Z",
     "shell.execute_reply": "2020-12-11T19:44:01.822632Z"
    },
    "papermill": {
     "duration": 0.055965,
     "end_time": "2020-12-11T19:44:01.822749",
     "exception": false,
     "start_time": "2020-12-11T19:44:01.766784",
     "status": "completed"
    },
    "tags": []
   },
   "outputs": [
    {
     "data": {
      "text/html": [
       "\n",
       "        <span>StrVector with 628 elements.</span>\n",
       "        <table>\n",
       "        <tbody>\n",
       "          <tr>\n",
       "          \n",
       "            <td>\n",
       "            'IRIS_Bce...\n",
       "            </td>\n",
       "          \n",
       "            <td>\n",
       "            'IRIS_Bce...\n",
       "            </td>\n",
       "          \n",
       "            <td>\n",
       "            'IRIS_Bce...\n",
       "            </td>\n",
       "          \n",
       "            <td>\n",
       "            ...\n",
       "            </td>\n",
       "          \n",
       "            <td>\n",
       "            'PID_BCR_...\n",
       "            </td>\n",
       "          \n",
       "            <td>\n",
       "            'PID_TELO...\n",
       "            </td>\n",
       "          \n",
       "            <td>\n",
       "            'PID_PI3K...\n",
       "            </td>\n",
       "          \n",
       "          </tr>\n",
       "        </tbody>\n",
       "        </table>\n",
       "        "
      ],
      "text/plain": [
       "R object with classes: ('character',) mapped to:\n",
       "['IRIS_Bce..., 'IRIS_Bce..., 'IRIS_Bce..., 'IRIS_CD4..., ..., 'REACTOME..., 'PID_BCR_..., 'PID_TELO..., 'PID_PI3K...]"
      ]
     },
     "execution_count": 50,
     "metadata": {},
     "output_type": "execute_result"
    }
   ],
   "source": [
    "multiplier_model_matrix.rownames"
   ]
  },
  {
   "cell_type": "code",
   "execution_count": 51,
   "metadata": {
    "execution": {
     "iopub.execute_input": "2020-12-11T19:44:01.912247Z",
     "iopub.status.busy": "2020-12-11T19:44:01.911873Z",
     "iopub.status.idle": "2020-12-11T19:44:01.921741Z",
     "shell.execute_reply": "2020-12-11T19:44:01.921373Z"
    },
    "papermill": {
     "duration": 0.055982,
     "end_time": "2020-12-11T19:44:01.921861",
     "exception": false,
     "start_time": "2020-12-11T19:44:01.865879",
     "status": "completed"
    },
    "tags": []
   },
   "outputs": [
    {
     "data": {
      "text/html": [
       "\n",
       "        <span>StrVector with 987 elements.</span>\n",
       "        <table>\n",
       "        <tbody>\n",
       "          <tr>\n",
       "          \n",
       "            <td>\n",
       "            'LV1'\n",
       "            </td>\n",
       "          \n",
       "            <td>\n",
       "            'LV2'\n",
       "            </td>\n",
       "          \n",
       "            <td>\n",
       "            'LV3'\n",
       "            </td>\n",
       "          \n",
       "            <td>\n",
       "            ...\n",
       "            </td>\n",
       "          \n",
       "            <td>\n",
       "            'LV985'\n",
       "            </td>\n",
       "          \n",
       "            <td>\n",
       "            'LV986'\n",
       "            </td>\n",
       "          \n",
       "            <td>\n",
       "            'LV987'\n",
       "            </td>\n",
       "          \n",
       "          </tr>\n",
       "        </tbody>\n",
       "        </table>\n",
       "        "
      ],
      "text/plain": [
       "R object with classes: ('character',) mapped to:\n",
       "['LV1', 'LV2', 'LV3', 'LV4', ..., 'LV984', 'LV985', 'LV986', 'LV987']"
      ]
     },
     "execution_count": 51,
     "metadata": {},
     "output_type": "execute_result"
    }
   ],
   "source": [
    "multiplier_model_matrix.colnames"
   ]
  },
  {
   "cell_type": "code",
   "execution_count": 52,
   "metadata": {
    "execution": {
     "iopub.execute_input": "2020-12-11T19:44:02.014050Z",
     "iopub.status.busy": "2020-12-11T19:44:02.013606Z",
     "iopub.status.idle": "2020-12-11T19:44:02.023298Z",
     "shell.execute_reply": "2020-12-11T19:44:02.022856Z"
    },
    "papermill": {
     "duration": 0.057576,
     "end_time": "2020-12-11T19:44:02.023402",
     "exception": false,
     "start_time": "2020-12-11T19:44:01.965826",
     "status": "completed"
    },
    "tags": []
   },
   "outputs": [],
   "source": [
    "with localconverter(ro.default_converter + pandas2ri.converter):\n",
    "    multiplier_model_matrix_values = ro.conversion.rpy2py(multiplier_model_matrix)"
   ]
  },
  {
   "cell_type": "code",
   "execution_count": 53,
   "metadata": {
    "execution": {
     "iopub.execute_input": "2020-12-11T19:44:02.115377Z",
     "iopub.status.busy": "2020-12-11T19:44:02.114944Z",
     "iopub.status.idle": "2020-12-11T19:44:02.127263Z",
     "shell.execute_reply": "2020-12-11T19:44:02.127605Z"
    },
    "papermill": {
     "duration": 0.059161,
     "end_time": "2020-12-11T19:44:02.127735",
     "exception": false,
     "start_time": "2020-12-11T19:44:02.068574",
     "status": "completed"
    },
    "tags": []
   },
   "outputs": [],
   "source": [
    "multiplier_model_matrix_df = pd.DataFrame(\n",
    "    data=multiplier_model_matrix_values,\n",
    "    index=multiplier_model_matrix.rownames,\n",
    "    columns=multiplier_model_matrix.colnames,\n",
    ")"
   ]
  },
  {
   "cell_type": "code",
   "execution_count": 54,
   "metadata": {
    "execution": {
     "iopub.execute_input": "2020-12-11T19:44:02.217953Z",
     "iopub.status.busy": "2020-12-11T19:44:02.217519Z",
     "iopub.status.idle": "2020-12-11T19:44:02.226781Z",
     "shell.execute_reply": "2020-12-11T19:44:02.227123Z"
    },
    "papermill": {
     "duration": 0.056394,
     "end_time": "2020-12-11T19:44:02.227248",
     "exception": false,
     "start_time": "2020-12-11T19:44:02.170854",
     "status": "completed"
    },
    "tags": []
   },
   "outputs": [
    {
     "data": {
      "text/plain": [
       "(628, 987)"
      ]
     },
     "metadata": {},
     "output_type": "display_data"
    }
   ],
   "source": [
    "display(multiplier_model_matrix_df.shape)\n",
    "assert multiplier_model_matrix_df.shape == (628, 987)"
   ]
  },
  {
   "cell_type": "code",
   "execution_count": 55,
   "metadata": {
    "execution": {
     "iopub.execute_input": "2020-12-11T19:44:02.319445Z",
     "iopub.status.busy": "2020-12-11T19:44:02.318970Z",
     "iopub.status.idle": "2020-12-11T19:44:02.343554Z",
     "shell.execute_reply": "2020-12-11T19:44:02.343114Z"
    },
    "papermill": {
     "duration": 0.072031,
     "end_time": "2020-12-11T19:44:02.343648",
     "exception": false,
     "start_time": "2020-12-11T19:44:02.271617",
     "status": "completed"
    },
    "tags": []
   },
   "outputs": [
    {
     "data": {
      "text/html": [
       "<div>\n",
       "<style scoped>\n",
       "    .dataframe tbody tr th:only-of-type {\n",
       "        vertical-align: middle;\n",
       "    }\n",
       "\n",
       "    .dataframe tbody tr th {\n",
       "        vertical-align: top;\n",
       "    }\n",
       "\n",
       "    .dataframe thead th {\n",
       "        text-align: right;\n",
       "    }\n",
       "</style>\n",
       "<table border=\"1\" class=\"dataframe\">\n",
       "  <thead>\n",
       "    <tr style=\"text-align: right;\">\n",
       "      <th></th>\n",
       "      <th>LV1</th>\n",
       "      <th>LV2</th>\n",
       "      <th>LV3</th>\n",
       "      <th>LV4</th>\n",
       "      <th>LV5</th>\n",
       "      <th>LV6</th>\n",
       "      <th>LV7</th>\n",
       "      <th>LV8</th>\n",
       "      <th>LV9</th>\n",
       "      <th>LV10</th>\n",
       "      <th>...</th>\n",
       "      <th>LV978</th>\n",
       "      <th>LV979</th>\n",
       "      <th>LV980</th>\n",
       "      <th>LV981</th>\n",
       "      <th>LV982</th>\n",
       "      <th>LV983</th>\n",
       "      <th>LV984</th>\n",
       "      <th>LV985</th>\n",
       "      <th>LV986</th>\n",
       "      <th>LV987</th>\n",
       "    </tr>\n",
       "  </thead>\n",
       "  <tbody>\n",
       "    <tr>\n",
       "      <th>IRIS_Bcell-Memory_IgG_IgA</th>\n",
       "      <td>0.0</td>\n",
       "      <td>0.0</td>\n",
       "      <td>0.0</td>\n",
       "      <td>0.0</td>\n",
       "      <td>0.0</td>\n",
       "      <td>0.0</td>\n",
       "      <td>0.0</td>\n",
       "      <td>0.0</td>\n",
       "      <td>0.0</td>\n",
       "      <td>0.0</td>\n",
       "      <td>...</td>\n",
       "      <td>0.0</td>\n",
       "      <td>0.0</td>\n",
       "      <td>0.0</td>\n",
       "      <td>0.0</td>\n",
       "      <td>0.0</td>\n",
       "      <td>0.0</td>\n",
       "      <td>0.0</td>\n",
       "      <td>0.0</td>\n",
       "      <td>0.0</td>\n",
       "      <td>0.0</td>\n",
       "    </tr>\n",
       "    <tr>\n",
       "      <th>IRIS_Bcell-Memory_IgM</th>\n",
       "      <td>0.0</td>\n",
       "      <td>0.0</td>\n",
       "      <td>0.0</td>\n",
       "      <td>0.0</td>\n",
       "      <td>0.0</td>\n",
       "      <td>0.0</td>\n",
       "      <td>0.0</td>\n",
       "      <td>0.0</td>\n",
       "      <td>0.0</td>\n",
       "      <td>0.0</td>\n",
       "      <td>...</td>\n",
       "      <td>0.0</td>\n",
       "      <td>0.0</td>\n",
       "      <td>0.0</td>\n",
       "      <td>0.0</td>\n",
       "      <td>0.0</td>\n",
       "      <td>0.0</td>\n",
       "      <td>0.0</td>\n",
       "      <td>0.0</td>\n",
       "      <td>0.0</td>\n",
       "      <td>0.0</td>\n",
       "    </tr>\n",
       "    <tr>\n",
       "      <th>IRIS_Bcell-naive</th>\n",
       "      <td>0.0</td>\n",
       "      <td>0.0</td>\n",
       "      <td>0.0</td>\n",
       "      <td>0.0</td>\n",
       "      <td>0.0</td>\n",
       "      <td>0.0</td>\n",
       "      <td>0.0</td>\n",
       "      <td>0.0</td>\n",
       "      <td>0.0</td>\n",
       "      <td>0.0</td>\n",
       "      <td>...</td>\n",
       "      <td>0.0</td>\n",
       "      <td>0.0</td>\n",
       "      <td>0.0</td>\n",
       "      <td>0.0</td>\n",
       "      <td>0.0</td>\n",
       "      <td>0.0</td>\n",
       "      <td>0.0</td>\n",
       "      <td>0.0</td>\n",
       "      <td>0.0</td>\n",
       "      <td>0.0</td>\n",
       "    </tr>\n",
       "    <tr>\n",
       "      <th>IRIS_CD4Tcell-N0</th>\n",
       "      <td>0.0</td>\n",
       "      <td>0.0</td>\n",
       "      <td>0.0</td>\n",
       "      <td>0.0</td>\n",
       "      <td>0.0</td>\n",
       "      <td>0.0</td>\n",
       "      <td>0.0</td>\n",
       "      <td>0.0</td>\n",
       "      <td>0.0</td>\n",
       "      <td>0.0</td>\n",
       "      <td>...</td>\n",
       "      <td>0.0</td>\n",
       "      <td>0.0</td>\n",
       "      <td>0.0</td>\n",
       "      <td>0.0</td>\n",
       "      <td>0.0</td>\n",
       "      <td>0.0</td>\n",
       "      <td>0.0</td>\n",
       "      <td>0.0</td>\n",
       "      <td>0.0</td>\n",
       "      <td>0.0</td>\n",
       "    </tr>\n",
       "    <tr>\n",
       "      <th>IRIS_CD4Tcell-Th1-restimulated12hour</th>\n",
       "      <td>0.0</td>\n",
       "      <td>0.0</td>\n",
       "      <td>0.0</td>\n",
       "      <td>0.0</td>\n",
       "      <td>0.0</td>\n",
       "      <td>0.0</td>\n",
       "      <td>0.0</td>\n",
       "      <td>0.0</td>\n",
       "      <td>0.0</td>\n",
       "      <td>0.0</td>\n",
       "      <td>...</td>\n",
       "      <td>0.0</td>\n",
       "      <td>0.0</td>\n",
       "      <td>0.0</td>\n",
       "      <td>0.0</td>\n",
       "      <td>0.0</td>\n",
       "      <td>0.0</td>\n",
       "      <td>0.0</td>\n",
       "      <td>0.0</td>\n",
       "      <td>0.0</td>\n",
       "      <td>0.0</td>\n",
       "    </tr>\n",
       "  </tbody>\n",
       "</table>\n",
       "<p>5 rows × 987 columns</p>\n",
       "</div>"
      ],
      "text/plain": [
       "                                      LV1  LV2  LV3  LV4  LV5  LV6  LV7  LV8  \\\n",
       "IRIS_Bcell-Memory_IgG_IgA             0.0  0.0  0.0  0.0  0.0  0.0  0.0  0.0   \n",
       "IRIS_Bcell-Memory_IgM                 0.0  0.0  0.0  0.0  0.0  0.0  0.0  0.0   \n",
       "IRIS_Bcell-naive                      0.0  0.0  0.0  0.0  0.0  0.0  0.0  0.0   \n",
       "IRIS_CD4Tcell-N0                      0.0  0.0  0.0  0.0  0.0  0.0  0.0  0.0   \n",
       "IRIS_CD4Tcell-Th1-restimulated12hour  0.0  0.0  0.0  0.0  0.0  0.0  0.0  0.0   \n",
       "\n",
       "                                      LV9  LV10  ...  LV978  LV979  LV980  \\\n",
       "IRIS_Bcell-Memory_IgG_IgA             0.0   0.0  ...    0.0    0.0    0.0   \n",
       "IRIS_Bcell-Memory_IgM                 0.0   0.0  ...    0.0    0.0    0.0   \n",
       "IRIS_Bcell-naive                      0.0   0.0  ...    0.0    0.0    0.0   \n",
       "IRIS_CD4Tcell-N0                      0.0   0.0  ...    0.0    0.0    0.0   \n",
       "IRIS_CD4Tcell-Th1-restimulated12hour  0.0   0.0  ...    0.0    0.0    0.0   \n",
       "\n",
       "                                      LV981  LV982  LV983  LV984  LV985  \\\n",
       "IRIS_Bcell-Memory_IgG_IgA               0.0    0.0    0.0    0.0    0.0   \n",
       "IRIS_Bcell-Memory_IgM                   0.0    0.0    0.0    0.0    0.0   \n",
       "IRIS_Bcell-naive                        0.0    0.0    0.0    0.0    0.0   \n",
       "IRIS_CD4Tcell-N0                        0.0    0.0    0.0    0.0    0.0   \n",
       "IRIS_CD4Tcell-Th1-restimulated12hour    0.0    0.0    0.0    0.0    0.0   \n",
       "\n",
       "                                      LV986  LV987  \n",
       "IRIS_Bcell-Memory_IgG_IgA               0.0    0.0  \n",
       "IRIS_Bcell-Memory_IgM                   0.0    0.0  \n",
       "IRIS_Bcell-naive                        0.0    0.0  \n",
       "IRIS_CD4Tcell-N0                        0.0    0.0  \n",
       "IRIS_CD4Tcell-Th1-restimulated12hour    0.0    0.0  \n",
       "\n",
       "[5 rows x 987 columns]"
      ]
     },
     "execution_count": 55,
     "metadata": {},
     "output_type": "execute_result"
    }
   ],
   "source": [
    "multiplier_model_matrix_df.head()"
   ]
  },
  {
   "cell_type": "code",
   "execution_count": 56,
   "metadata": {
    "execution": {
     "iopub.execute_input": "2020-12-11T19:44:02.437885Z",
     "iopub.status.busy": "2020-12-11T19:44:02.437490Z",
     "iopub.status.idle": "2020-12-11T19:44:02.447081Z",
     "shell.execute_reply": "2020-12-11T19:44:02.446648Z"
    },
    "papermill": {
     "duration": 0.058652,
     "end_time": "2020-12-11T19:44:02.447173",
     "exception": false,
     "start_time": "2020-12-11T19:44:02.388521",
     "status": "completed"
    },
    "tags": []
   },
   "outputs": [],
   "source": [
    "# make sure I'm seeing the same when loaded with R\n",
    "assert multiplier_model_matrix_df.loc[\"IRIS_Bcell-Memory_IgG_IgA\", \"LV1\"] == 0\n",
    "assert (\n",
    "    multiplier_model_matrix_df.loc[\"IRIS_Bcell-Memory_IgG_IgA\", \"LV898\"].round(7)\n",
    "    == 0.5327689\n",
    ")\n",
    "assert (\n",
    "    multiplier_model_matrix_df.loc[\"IRIS_Bcell-Memory_IgG_IgA\", \"LV977\"].round(7)\n",
    "    == 0.1000158\n",
    ")\n",
    "assert multiplier_model_matrix_df.loc[\"IRIS_Bcell-Memory_IgG_IgA\", \"LV986\"] == 0\n",
    "assert multiplier_model_matrix_df.loc[\"IRIS_Bcell-Memory_IgG_IgA\", \"LV987\"] == 0\n",
    "\n",
    "assert (\n",
    "    multiplier_model_matrix_df.loc[\"IRIS_Bcell-naive\", \"LV851\"].round(8) == 0.01330388\n",
    ")\n",
    "assert multiplier_model_matrix_df.loc[\"IRIS_Bcell-naive\", \"LV977\"].round(7) == 0.3966446"
   ]
  },
  {
   "cell_type": "markdown",
   "metadata": {
    "papermill": {
     "duration": 0.045336,
     "end_time": "2020-12-11T19:44:02.535247",
     "exception": false,
     "start_time": "2020-12-11T19:44:02.489911",
     "status": "completed"
    },
    "tags": []
   },
   "source": [
    "## Save"
   ]
  },
  {
   "cell_type": "markdown",
   "metadata": {
    "papermill": {
     "duration": 0.042505,
     "end_time": "2020-12-11T19:44:02.623123",
     "exception": false,
     "start_time": "2020-12-11T19:44:02.580618",
     "status": "completed"
    },
    "tags": []
   },
   "source": [
    "### Pickle format"
   ]
  },
  {
   "cell_type": "code",
   "execution_count": 57,
   "metadata": {
    "execution": {
     "iopub.execute_input": "2020-12-11T19:44:02.717332Z",
     "iopub.status.busy": "2020-12-11T19:44:02.716866Z",
     "iopub.status.idle": "2020-12-11T19:44:02.725180Z",
     "shell.execute_reply": "2020-12-11T19:44:02.725549Z"
    },
    "papermill": {
     "duration": 0.055742,
     "end_time": "2020-12-11T19:44:02.725677",
     "exception": false,
     "start_time": "2020-12-11T19:44:02.669935",
     "status": "completed"
    },
    "tags": []
   },
   "outputs": [
    {
     "data": {
      "text/plain": [
       "PosixPath('/home/miltondp/projects/labs/greenelab/phenoplier/base/data/multiplier/multiplier_model_u.pkl')"
      ]
     },
     "metadata": {},
     "output_type": "display_data"
    }
   ],
   "source": [
    "output_file = conf.MULTIPLIER[\"MODEL_U_MATRIX_FILE\"]\n",
    "display(output_file)"
   ]
  },
  {
   "cell_type": "code",
   "execution_count": 58,
   "metadata": {
    "execution": {
     "iopub.execute_input": "2020-12-11T19:44:02.817615Z",
     "iopub.status.busy": "2020-12-11T19:44:02.817140Z",
     "iopub.status.idle": "2020-12-11T19:44:02.829556Z",
     "shell.execute_reply": "2020-12-11T19:44:02.829937Z"
    },
    "papermill": {
     "duration": 0.060419,
     "end_time": "2020-12-11T19:44:02.830063",
     "exception": false,
     "start_time": "2020-12-11T19:44:02.769644",
     "status": "completed"
    },
    "tags": []
   },
   "outputs": [],
   "source": [
    "multiplier_model_matrix_df.to_pickle(output_file)"
   ]
  },
  {
   "cell_type": "markdown",
   "metadata": {
    "papermill": {
     "duration": 0.044823,
     "end_time": "2020-12-11T19:44:02.917961",
     "exception": false,
     "start_time": "2020-12-11T19:44:02.873138",
     "status": "completed"
    },
    "tags": []
   },
   "source": [
    "### Text format"
   ]
  },
  {
   "cell_type": "code",
   "execution_count": 59,
   "metadata": {
    "execution": {
     "iopub.execute_input": "2020-12-11T19:44:03.009434Z",
     "iopub.status.busy": "2020-12-11T19:44:03.009041Z",
     "iopub.status.idle": "2020-12-11T19:44:03.018385Z",
     "shell.execute_reply": "2020-12-11T19:44:03.017958Z"
    },
    "papermill": {
     "duration": 0.05739,
     "end_time": "2020-12-11T19:44:03.018476",
     "exception": false,
     "start_time": "2020-12-11T19:44:02.961086",
     "status": "completed"
    },
    "tags": []
   },
   "outputs": [
    {
     "data": {
      "text/plain": [
       "PosixPath('/home/miltondp/projects/labs/greenelab/phenoplier/base/data/multiplier/multiplier_model_u.tsv.gz')"
      ]
     },
     "metadata": {},
     "output_type": "display_data"
    }
   ],
   "source": [
    "# tsv format\n",
    "output_text_file = output_file.with_suffix(\".tsv.gz\")\n",
    "display(output_text_file)"
   ]
  },
  {
   "cell_type": "code",
   "execution_count": 60,
   "metadata": {
    "execution": {
     "iopub.execute_input": "2020-12-11T19:44:03.107658Z",
     "iopub.status.busy": "2020-12-11T19:44:03.107213Z",
     "iopub.status.idle": "2020-12-11T19:44:04.053933Z",
     "shell.execute_reply": "2020-12-11T19:44:04.053261Z"
    },
    "papermill": {
     "duration": 0.991982,
     "end_time": "2020-12-11T19:44:04.054046",
     "exception": false,
     "start_time": "2020-12-11T19:44:03.062064",
     "status": "completed"
    },
    "tags": []
   },
   "outputs": [],
   "source": [
    "multiplier_model_matrix_df.to_csv(\n",
    "    output_text_file, sep=\"\\t\", index=True, float_format=\"%.5e\"\n",
    ")"
   ]
  },
  {
   "cell_type": "markdown",
   "metadata": {
    "papermill": {
     "duration": 0.043725,
     "end_time": "2020-12-11T19:44:04.142180",
     "exception": false,
     "start_time": "2020-12-11T19:44:04.098455",
     "status": "completed"
    },
    "tags": []
   },
   "source": [
    "# Matrix U - AUC"
   ]
  },
  {
   "cell_type": "code",
   "execution_count": 61,
   "metadata": {
    "execution": {
     "iopub.execute_input": "2020-12-11T19:44:04.237651Z",
     "iopub.status.busy": "2020-12-11T19:44:04.237164Z",
     "iopub.status.idle": "2020-12-11T19:44:04.245248Z",
     "shell.execute_reply": "2020-12-11T19:44:04.245607Z"
    },
    "papermill": {
     "duration": 0.057623,
     "end_time": "2020-12-11T19:44:04.245775",
     "exception": false,
     "start_time": "2020-12-11T19:44:04.188152",
     "status": "completed"
    },
    "tags": []
   },
   "outputs": [],
   "source": [
    "multiplier_model_matrix = multiplier_full_model.rx2(\"Uauc\")"
   ]
  },
  {
   "cell_type": "code",
   "execution_count": 62,
   "metadata": {
    "execution": {
     "iopub.execute_input": "2020-12-11T19:44:04.337276Z",
     "iopub.status.busy": "2020-12-11T19:44:04.336892Z",
     "iopub.status.idle": "2020-12-11T19:44:04.346199Z",
     "shell.execute_reply": "2020-12-11T19:44:04.345741Z"
    },
    "papermill": {
     "duration": 0.055288,
     "end_time": "2020-12-11T19:44:04.346342",
     "exception": false,
     "start_time": "2020-12-11T19:44:04.291054",
     "status": "completed"
    },
    "tags": []
   },
   "outputs": [
    {
     "data": {
      "text/html": [
       "\n",
       "        <span>FloatMatrix with 619836 elements.</span>\n",
       "        <table>\n",
       "        <tbody>\n",
       "          <tr>\n",
       "          \n",
       "            <td>\n",
       "            0.000000\n",
       "            </td>\n",
       "          \n",
       "            <td>\n",
       "            0.000000\n",
       "            </td>\n",
       "          \n",
       "            <td>\n",
       "            0.000000\n",
       "            </td>\n",
       "          \n",
       "            <td>\n",
       "            ...\n",
       "            </td>\n",
       "          \n",
       "            <td>\n",
       "            0.000000\n",
       "            </td>\n",
       "          \n",
       "            <td>\n",
       "            0.000000\n",
       "            </td>\n",
       "          \n",
       "            <td>\n",
       "            0.000000\n",
       "            </td>\n",
       "          \n",
       "          </tr>\n",
       "        </tbody>\n",
       "        </table>\n",
       "        "
      ],
      "text/plain": [
       "R object with classes: ('matrix',) mapped to:\n",
       "[0.000000, 0.000000, 0.000000, 0.000000, ..., 0.000000, 0.000000, 0.000000, 0.000000]"
      ]
     },
     "execution_count": 62,
     "metadata": {},
     "output_type": "execute_result"
    }
   ],
   "source": [
    "multiplier_model_matrix"
   ]
  },
  {
   "cell_type": "code",
   "execution_count": 63,
   "metadata": {
    "execution": {
     "iopub.execute_input": "2020-12-11T19:44:04.447156Z",
     "iopub.status.busy": "2020-12-11T19:44:04.446748Z",
     "iopub.status.idle": "2020-12-11T19:44:04.456255Z",
     "shell.execute_reply": "2020-12-11T19:44:04.456550Z"
    },
    "papermill": {
     "duration": 0.061386,
     "end_time": "2020-12-11T19:44:04.456681",
     "exception": false,
     "start_time": "2020-12-11T19:44:04.395295",
     "status": "completed"
    },
    "tags": []
   },
   "outputs": [
    {
     "data": {
      "text/html": [
       "\n",
       "        <span>StrVector with 628 elements.</span>\n",
       "        <table>\n",
       "        <tbody>\n",
       "          <tr>\n",
       "          \n",
       "            <td>\n",
       "            'IRIS_Bce...\n",
       "            </td>\n",
       "          \n",
       "            <td>\n",
       "            'IRIS_Bce...\n",
       "            </td>\n",
       "          \n",
       "            <td>\n",
       "            'IRIS_Bce...\n",
       "            </td>\n",
       "          \n",
       "            <td>\n",
       "            ...\n",
       "            </td>\n",
       "          \n",
       "            <td>\n",
       "            'PID_BCR_...\n",
       "            </td>\n",
       "          \n",
       "            <td>\n",
       "            'PID_TELO...\n",
       "            </td>\n",
       "          \n",
       "            <td>\n",
       "            'PID_PI3K...\n",
       "            </td>\n",
       "          \n",
       "          </tr>\n",
       "        </tbody>\n",
       "        </table>\n",
       "        "
      ],
      "text/plain": [
       "R object with classes: ('character',) mapped to:\n",
       "['IRIS_Bce..., 'IRIS_Bce..., 'IRIS_Bce..., 'IRIS_CD4..., ..., 'REACTOME..., 'PID_BCR_..., 'PID_TELO..., 'PID_PI3K...]"
      ]
     },
     "execution_count": 63,
     "metadata": {},
     "output_type": "execute_result"
    }
   ],
   "source": [
    "multiplier_model_matrix.rownames"
   ]
  },
  {
   "cell_type": "code",
   "execution_count": 64,
   "metadata": {
    "execution": {
     "iopub.execute_input": "2020-12-11T19:44:04.550590Z",
     "iopub.status.busy": "2020-12-11T19:44:04.550176Z",
     "iopub.status.idle": "2020-12-11T19:44:04.564472Z",
     "shell.execute_reply": "2020-12-11T19:44:04.564095Z"
    },
    "papermill": {
     "duration": 0.063247,
     "end_time": "2020-12-11T19:44:04.564569",
     "exception": false,
     "start_time": "2020-12-11T19:44:04.501322",
     "status": "completed"
    },
    "tags": []
   },
   "outputs": [
    {
     "data": {
      "text/html": [
       "\n",
       "        <span>StrVector with 987 elements.</span>\n",
       "        <table>\n",
       "        <tbody>\n",
       "          <tr>\n",
       "          \n",
       "            <td>\n",
       "            'LV1'\n",
       "            </td>\n",
       "          \n",
       "            <td>\n",
       "            'LV2'\n",
       "            </td>\n",
       "          \n",
       "            <td>\n",
       "            'LV3'\n",
       "            </td>\n",
       "          \n",
       "            <td>\n",
       "            ...\n",
       "            </td>\n",
       "          \n",
       "            <td>\n",
       "            'LV985'\n",
       "            </td>\n",
       "          \n",
       "            <td>\n",
       "            'LV986'\n",
       "            </td>\n",
       "          \n",
       "            <td>\n",
       "            'LV987'\n",
       "            </td>\n",
       "          \n",
       "          </tr>\n",
       "        </tbody>\n",
       "        </table>\n",
       "        "
      ],
      "text/plain": [
       "R object with classes: ('character',) mapped to:\n",
       "['LV1', 'LV2', 'LV3', 'LV4', ..., 'LV984', 'LV985', 'LV986', 'LV987']"
      ]
     },
     "execution_count": 64,
     "metadata": {},
     "output_type": "execute_result"
    }
   ],
   "source": [
    "multiplier_model_matrix.colnames"
   ]
  },
  {
   "cell_type": "code",
   "execution_count": 65,
   "metadata": {
    "execution": {
     "iopub.execute_input": "2020-12-11T19:44:04.665311Z",
     "iopub.status.busy": "2020-12-11T19:44:04.664865Z",
     "iopub.status.idle": "2020-12-11T19:44:04.680921Z",
     "shell.execute_reply": "2020-12-11T19:44:04.680503Z"
    },
    "papermill": {
     "duration": 0.067938,
     "end_time": "2020-12-11T19:44:04.681014",
     "exception": false,
     "start_time": "2020-12-11T19:44:04.613076",
     "status": "completed"
    },
    "tags": []
   },
   "outputs": [],
   "source": [
    "with localconverter(ro.default_converter + pandas2ri.converter):\n",
    "    multiplier_model_matrix_values = ro.conversion.rpy2py(multiplier_model_matrix)"
   ]
  },
  {
   "cell_type": "code",
   "execution_count": 66,
   "metadata": {
    "execution": {
     "iopub.execute_input": "2020-12-11T19:44:04.777912Z",
     "iopub.status.busy": "2020-12-11T19:44:04.777509Z",
     "iopub.status.idle": "2020-12-11T19:44:04.791310Z",
     "shell.execute_reply": "2020-12-11T19:44:04.790887Z"
    },
    "papermill": {
     "duration": 0.063649,
     "end_time": "2020-12-11T19:44:04.791405",
     "exception": false,
     "start_time": "2020-12-11T19:44:04.727756",
     "status": "completed"
    },
    "tags": []
   },
   "outputs": [],
   "source": [
    "multiplier_model_matrix_df = pd.DataFrame(\n",
    "    data=multiplier_model_matrix_values,\n",
    "    index=multiplier_model_matrix.rownames,\n",
    "    columns=multiplier_model_matrix.colnames,\n",
    ")"
   ]
  },
  {
   "cell_type": "code",
   "execution_count": 67,
   "metadata": {
    "execution": {
     "iopub.execute_input": "2020-12-11T19:44:04.888896Z",
     "iopub.status.busy": "2020-12-11T19:44:04.888464Z",
     "iopub.status.idle": "2020-12-11T19:44:04.896771Z",
     "shell.execute_reply": "2020-12-11T19:44:04.896362Z"
    },
    "papermill": {
     "duration": 0.059872,
     "end_time": "2020-12-11T19:44:04.896863",
     "exception": false,
     "start_time": "2020-12-11T19:44:04.836991",
     "status": "completed"
    },
    "tags": []
   },
   "outputs": [
    {
     "data": {
      "text/plain": [
       "(628, 987)"
      ]
     },
     "metadata": {},
     "output_type": "display_data"
    }
   ],
   "source": [
    "display(multiplier_model_matrix_df.shape)\n",
    "assert multiplier_model_matrix_df.shape == (628, 987)"
   ]
  },
  {
   "cell_type": "code",
   "execution_count": 68,
   "metadata": {
    "execution": {
     "iopub.execute_input": "2020-12-11T19:44:04.990223Z",
     "iopub.status.busy": "2020-12-11T19:44:04.989754Z",
     "iopub.status.idle": "2020-12-11T19:44:05.014446Z",
     "shell.execute_reply": "2020-12-11T19:44:05.014020Z"
    },
    "papermill": {
     "duration": 0.072738,
     "end_time": "2020-12-11T19:44:05.014535",
     "exception": false,
     "start_time": "2020-12-11T19:44:04.941797",
     "status": "completed"
    },
    "tags": []
   },
   "outputs": [
    {
     "data": {
      "text/html": [
       "<div>\n",
       "<style scoped>\n",
       "    .dataframe tbody tr th:only-of-type {\n",
       "        vertical-align: middle;\n",
       "    }\n",
       "\n",
       "    .dataframe tbody tr th {\n",
       "        vertical-align: top;\n",
       "    }\n",
       "\n",
       "    .dataframe thead th {\n",
       "        text-align: right;\n",
       "    }\n",
       "</style>\n",
       "<table border=\"1\" class=\"dataframe\">\n",
       "  <thead>\n",
       "    <tr style=\"text-align: right;\">\n",
       "      <th></th>\n",
       "      <th>LV1</th>\n",
       "      <th>LV2</th>\n",
       "      <th>LV3</th>\n",
       "      <th>LV4</th>\n",
       "      <th>LV5</th>\n",
       "      <th>LV6</th>\n",
       "      <th>LV7</th>\n",
       "      <th>LV8</th>\n",
       "      <th>LV9</th>\n",
       "      <th>LV10</th>\n",
       "      <th>...</th>\n",
       "      <th>LV978</th>\n",
       "      <th>LV979</th>\n",
       "      <th>LV980</th>\n",
       "      <th>LV981</th>\n",
       "      <th>LV982</th>\n",
       "      <th>LV983</th>\n",
       "      <th>LV984</th>\n",
       "      <th>LV985</th>\n",
       "      <th>LV986</th>\n",
       "      <th>LV987</th>\n",
       "    </tr>\n",
       "  </thead>\n",
       "  <tbody>\n",
       "    <tr>\n",
       "      <th>IRIS_Bcell-Memory_IgG_IgA</th>\n",
       "      <td>0.0</td>\n",
       "      <td>0.0</td>\n",
       "      <td>0.0</td>\n",
       "      <td>0.0</td>\n",
       "      <td>0.0</td>\n",
       "      <td>0.0</td>\n",
       "      <td>0.0</td>\n",
       "      <td>0.0</td>\n",
       "      <td>0.0</td>\n",
       "      <td>0.0</td>\n",
       "      <td>...</td>\n",
       "      <td>0.0</td>\n",
       "      <td>0.0</td>\n",
       "      <td>0.0</td>\n",
       "      <td>0.0</td>\n",
       "      <td>0.0</td>\n",
       "      <td>0.0</td>\n",
       "      <td>0.0</td>\n",
       "      <td>0.0</td>\n",
       "      <td>0.0</td>\n",
       "      <td>0.0</td>\n",
       "    </tr>\n",
       "    <tr>\n",
       "      <th>IRIS_Bcell-Memory_IgM</th>\n",
       "      <td>0.0</td>\n",
       "      <td>0.0</td>\n",
       "      <td>0.0</td>\n",
       "      <td>0.0</td>\n",
       "      <td>0.0</td>\n",
       "      <td>0.0</td>\n",
       "      <td>0.0</td>\n",
       "      <td>0.0</td>\n",
       "      <td>0.0</td>\n",
       "      <td>0.0</td>\n",
       "      <td>...</td>\n",
       "      <td>0.0</td>\n",
       "      <td>0.0</td>\n",
       "      <td>0.0</td>\n",
       "      <td>0.0</td>\n",
       "      <td>0.0</td>\n",
       "      <td>0.0</td>\n",
       "      <td>0.0</td>\n",
       "      <td>0.0</td>\n",
       "      <td>0.0</td>\n",
       "      <td>0.0</td>\n",
       "    </tr>\n",
       "    <tr>\n",
       "      <th>IRIS_Bcell-naive</th>\n",
       "      <td>0.0</td>\n",
       "      <td>0.0</td>\n",
       "      <td>0.0</td>\n",
       "      <td>0.0</td>\n",
       "      <td>0.0</td>\n",
       "      <td>0.0</td>\n",
       "      <td>0.0</td>\n",
       "      <td>0.0</td>\n",
       "      <td>0.0</td>\n",
       "      <td>0.0</td>\n",
       "      <td>...</td>\n",
       "      <td>0.0</td>\n",
       "      <td>0.0</td>\n",
       "      <td>0.0</td>\n",
       "      <td>0.0</td>\n",
       "      <td>0.0</td>\n",
       "      <td>0.0</td>\n",
       "      <td>0.0</td>\n",
       "      <td>0.0</td>\n",
       "      <td>0.0</td>\n",
       "      <td>0.0</td>\n",
       "    </tr>\n",
       "    <tr>\n",
       "      <th>IRIS_CD4Tcell-N0</th>\n",
       "      <td>0.0</td>\n",
       "      <td>0.0</td>\n",
       "      <td>0.0</td>\n",
       "      <td>0.0</td>\n",
       "      <td>0.0</td>\n",
       "      <td>0.0</td>\n",
       "      <td>0.0</td>\n",
       "      <td>0.0</td>\n",
       "      <td>0.0</td>\n",
       "      <td>0.0</td>\n",
       "      <td>...</td>\n",
       "      <td>0.0</td>\n",
       "      <td>0.0</td>\n",
       "      <td>0.0</td>\n",
       "      <td>0.0</td>\n",
       "      <td>0.0</td>\n",
       "      <td>0.0</td>\n",
       "      <td>0.0</td>\n",
       "      <td>0.0</td>\n",
       "      <td>0.0</td>\n",
       "      <td>0.0</td>\n",
       "    </tr>\n",
       "    <tr>\n",
       "      <th>IRIS_CD4Tcell-Th1-restimulated12hour</th>\n",
       "      <td>0.0</td>\n",
       "      <td>0.0</td>\n",
       "      <td>0.0</td>\n",
       "      <td>0.0</td>\n",
       "      <td>0.0</td>\n",
       "      <td>0.0</td>\n",
       "      <td>0.0</td>\n",
       "      <td>0.0</td>\n",
       "      <td>0.0</td>\n",
       "      <td>0.0</td>\n",
       "      <td>...</td>\n",
       "      <td>0.0</td>\n",
       "      <td>0.0</td>\n",
       "      <td>0.0</td>\n",
       "      <td>0.0</td>\n",
       "      <td>0.0</td>\n",
       "      <td>0.0</td>\n",
       "      <td>0.0</td>\n",
       "      <td>0.0</td>\n",
       "      <td>0.0</td>\n",
       "      <td>0.0</td>\n",
       "    </tr>\n",
       "  </tbody>\n",
       "</table>\n",
       "<p>5 rows × 987 columns</p>\n",
       "</div>"
      ],
      "text/plain": [
       "                                      LV1  LV2  LV3  LV4  LV5  LV6  LV7  LV8  \\\n",
       "IRIS_Bcell-Memory_IgG_IgA             0.0  0.0  0.0  0.0  0.0  0.0  0.0  0.0   \n",
       "IRIS_Bcell-Memory_IgM                 0.0  0.0  0.0  0.0  0.0  0.0  0.0  0.0   \n",
       "IRIS_Bcell-naive                      0.0  0.0  0.0  0.0  0.0  0.0  0.0  0.0   \n",
       "IRIS_CD4Tcell-N0                      0.0  0.0  0.0  0.0  0.0  0.0  0.0  0.0   \n",
       "IRIS_CD4Tcell-Th1-restimulated12hour  0.0  0.0  0.0  0.0  0.0  0.0  0.0  0.0   \n",
       "\n",
       "                                      LV9  LV10  ...  LV978  LV979  LV980  \\\n",
       "IRIS_Bcell-Memory_IgG_IgA             0.0   0.0  ...    0.0    0.0    0.0   \n",
       "IRIS_Bcell-Memory_IgM                 0.0   0.0  ...    0.0    0.0    0.0   \n",
       "IRIS_Bcell-naive                      0.0   0.0  ...    0.0    0.0    0.0   \n",
       "IRIS_CD4Tcell-N0                      0.0   0.0  ...    0.0    0.0    0.0   \n",
       "IRIS_CD4Tcell-Th1-restimulated12hour  0.0   0.0  ...    0.0    0.0    0.0   \n",
       "\n",
       "                                      LV981  LV982  LV983  LV984  LV985  \\\n",
       "IRIS_Bcell-Memory_IgG_IgA               0.0    0.0    0.0    0.0    0.0   \n",
       "IRIS_Bcell-Memory_IgM                   0.0    0.0    0.0    0.0    0.0   \n",
       "IRIS_Bcell-naive                        0.0    0.0    0.0    0.0    0.0   \n",
       "IRIS_CD4Tcell-N0                        0.0    0.0    0.0    0.0    0.0   \n",
       "IRIS_CD4Tcell-Th1-restimulated12hour    0.0    0.0    0.0    0.0    0.0   \n",
       "\n",
       "                                      LV986  LV987  \n",
       "IRIS_Bcell-Memory_IgG_IgA               0.0    0.0  \n",
       "IRIS_Bcell-Memory_IgM                   0.0    0.0  \n",
       "IRIS_Bcell-naive                        0.0    0.0  \n",
       "IRIS_CD4Tcell-N0                        0.0    0.0  \n",
       "IRIS_CD4Tcell-Th1-restimulated12hour    0.0    0.0  \n",
       "\n",
       "[5 rows x 987 columns]"
      ]
     },
     "execution_count": 68,
     "metadata": {},
     "output_type": "execute_result"
    }
   ],
   "source": [
    "multiplier_model_matrix_df.head()"
   ]
  },
  {
   "cell_type": "code",
   "execution_count": 69,
   "metadata": {
    "execution": {
     "iopub.execute_input": "2020-12-11T19:44:05.116547Z",
     "iopub.status.busy": "2020-12-11T19:44:05.116048Z",
     "iopub.status.idle": "2020-12-11T19:44:05.125002Z",
     "shell.execute_reply": "2020-12-11T19:44:05.125409Z"
    },
    "papermill": {
     "duration": 0.062455,
     "end_time": "2020-12-11T19:44:05.125527",
     "exception": false,
     "start_time": "2020-12-11T19:44:05.063072",
     "status": "completed"
    },
    "tags": []
   },
   "outputs": [],
   "source": [
    "# make sure I'm seeing the same when loaded with R\n",
    "assert multiplier_model_matrix_df.loc[\"PID_FASPATHWAY\", \"LV136\"] == 0\n",
    "assert (\n",
    "    multiplier_model_matrix_df.loc[\"PID_INTEGRIN1_PATHWAY\", \"LV136\"].round(7)\n",
    "    == 0.8832853\n",
    ")\n",
    "assert (\n",
    "    multiplier_model_matrix_df.loc[\"REACTOME_COLLAGEN_FORMATION\", \"LV136\"].round(7)\n",
    "    == 0.8707412\n",
    ")\n",
    "\n",
    "assert multiplier_model_matrix_df.loc[\"PID_FASPATHWAY\", \"LV603\"] == 0\n",
    "assert (\n",
    "    multiplier_model_matrix_df.loc[\"IRIS_Neutrophil-Resting\", \"LV603\"].round(7)\n",
    "    == 0.9057506\n",
    ")\n",
    "assert multiplier_model_matrix_df.loc[\"SVM Neutrophils\", \"LV603\"].round(7) == 0.9797889"
   ]
  },
  {
   "cell_type": "markdown",
   "metadata": {
    "papermill": {
     "duration": 0.048929,
     "end_time": "2020-12-11T19:44:05.223281",
     "exception": false,
     "start_time": "2020-12-11T19:44:05.174352",
     "status": "completed"
    },
    "tags": []
   },
   "source": [
    "## Save"
   ]
  },
  {
   "cell_type": "markdown",
   "metadata": {
    "papermill": {
     "duration": 0.048077,
     "end_time": "2020-12-11T19:44:05.320598",
     "exception": false,
     "start_time": "2020-12-11T19:44:05.272521",
     "status": "completed"
    },
    "tags": []
   },
   "source": [
    "### Pickle format"
   ]
  },
  {
   "cell_type": "code",
   "execution_count": 70,
   "metadata": {
    "execution": {
     "iopub.execute_input": "2020-12-11T19:44:05.424846Z",
     "iopub.status.busy": "2020-12-11T19:44:05.418474Z",
     "iopub.status.idle": "2020-12-11T19:44:05.427869Z",
     "shell.execute_reply": "2020-12-11T19:44:05.427445Z"
    },
    "papermill": {
     "duration": 0.059755,
     "end_time": "2020-12-11T19:44:05.427984",
     "exception": false,
     "start_time": "2020-12-11T19:44:05.368229",
     "status": "completed"
    },
    "tags": []
   },
   "outputs": [
    {
     "data": {
      "text/plain": [
       "PosixPath('/home/miltondp/projects/labs/greenelab/phenoplier/base/data/multiplier/multiplier_model_u_auc.pkl')"
      ]
     },
     "metadata": {},
     "output_type": "display_data"
    }
   ],
   "source": [
    "output_file = conf.MULTIPLIER[\"MODEL_U_AUC_MATRIX_FILE\"]\n",
    "display(output_file)"
   ]
  },
  {
   "cell_type": "code",
   "execution_count": 71,
   "metadata": {
    "execution": {
     "iopub.execute_input": "2020-12-11T19:44:05.527080Z",
     "iopub.status.busy": "2020-12-11T19:44:05.526632Z",
     "iopub.status.idle": "2020-12-11T19:44:05.574066Z",
     "shell.execute_reply": "2020-12-11T19:44:05.574692Z"
    },
    "papermill": {
     "duration": 0.09867,
     "end_time": "2020-12-11T19:44:05.574910",
     "exception": false,
     "start_time": "2020-12-11T19:44:05.476240",
     "status": "completed"
    },
    "tags": []
   },
   "outputs": [],
   "source": [
    "multiplier_model_matrix_df.to_pickle(output_file)"
   ]
  },
  {
   "cell_type": "markdown",
   "metadata": {
    "papermill": {
     "duration": 0.049531,
     "end_time": "2020-12-11T19:44:05.683625",
     "exception": false,
     "start_time": "2020-12-11T19:44:05.634094",
     "status": "completed"
    },
    "tags": []
   },
   "source": [
    "### Text format"
   ]
  },
  {
   "cell_type": "code",
   "execution_count": 72,
   "metadata": {
    "execution": {
     "iopub.execute_input": "2020-12-11T19:44:05.782122Z",
     "iopub.status.busy": "2020-12-11T19:44:05.781669Z",
     "iopub.status.idle": "2020-12-11T19:44:05.791228Z",
     "shell.execute_reply": "2020-12-11T19:44:05.790902Z"
    },
    "papermill": {
     "duration": 0.058633,
     "end_time": "2020-12-11T19:44:05.791317",
     "exception": false,
     "start_time": "2020-12-11T19:44:05.732684",
     "status": "completed"
    },
    "tags": []
   },
   "outputs": [
    {
     "data": {
      "text/plain": [
       "PosixPath('/home/miltondp/projects/labs/greenelab/phenoplier/base/data/multiplier/multiplier_model_u_auc.tsv.gz')"
      ]
     },
     "metadata": {},
     "output_type": "display_data"
    }
   ],
   "source": [
    "# tsv format\n",
    "output_text_file = output_file.with_suffix(\".tsv.gz\")\n",
    "display(output_text_file)"
   ]
  },
  {
   "cell_type": "code",
   "execution_count": 73,
   "metadata": {
    "execution": {
     "iopub.execute_input": "2020-12-11T19:44:05.898579Z",
     "iopub.status.busy": "2020-12-11T19:44:05.898120Z",
     "iopub.status.idle": "2020-12-11T19:44:06.833021Z",
     "shell.execute_reply": "2020-12-11T19:44:06.832592Z"
    },
    "papermill": {
     "duration": 0.986528,
     "end_time": "2020-12-11T19:44:06.833127",
     "exception": false,
     "start_time": "2020-12-11T19:44:05.846599",
     "status": "completed"
    },
    "tags": []
   },
   "outputs": [],
   "source": [
    "multiplier_model_matrix_df.to_csv(\n",
    "    output_text_file, sep=\"\\t\", index=True, float_format=\"%.5e\"\n",
    ")"
   ]
  },
  {
   "cell_type": "markdown",
   "metadata": {
    "papermill": {
     "duration": 0.047323,
     "end_time": "2020-12-11T19:44:06.926908",
     "exception": false,
     "start_time": "2020-12-11T19:44:06.879585",
     "status": "completed"
    },
    "tags": []
   },
   "source": [
    "# Model metadata"
   ]
  },
  {
   "cell_type": "code",
   "execution_count": 74,
   "metadata": {
    "execution": {
     "iopub.execute_input": "2020-12-11T19:44:07.020999Z",
     "iopub.status.busy": "2020-12-11T19:44:07.020502Z",
     "iopub.status.idle": "2020-12-11T19:44:07.030560Z",
     "shell.execute_reply": "2020-12-11T19:44:07.030170Z"
    },
    "papermill": {
     "duration": 0.061014,
     "end_time": "2020-12-11T19:44:07.030653",
     "exception": false,
     "start_time": "2020-12-11T19:44:06.969639",
     "status": "completed"
    },
    "tags": []
   },
   "outputs": [
    {
     "data": {
      "text/plain": [
       "['residual',\n",
       " 'B',\n",
       " 'Z',\n",
       " 'U',\n",
       " 'C',\n",
       " 'numActPath',\n",
       " 'L1',\n",
       " 'L2',\n",
       " 'L3',\n",
       " 'heldOutGenes',\n",
       " 'withPrior',\n",
       " 'Uauc',\n",
       " 'Up',\n",
       " 'summary']"
      ]
     },
     "metadata": {},
     "output_type": "display_data"
    }
   ],
   "source": [
    "model_names = list(multiplier_full_model.names)\n",
    "display(model_names)"
   ]
  },
  {
   "cell_type": "code",
   "execution_count": 75,
   "metadata": {
    "execution": {
     "iopub.execute_input": "2020-12-11T19:44:07.130437Z",
     "iopub.status.busy": "2020-12-11T19:44:07.129962Z",
     "iopub.status.idle": "2020-12-11T19:44:07.138870Z",
     "shell.execute_reply": "2020-12-11T19:44:07.139232Z"
    },
    "papermill": {
     "duration": 0.06223,
     "end_time": "2020-12-11T19:44:07.139355",
     "exception": false,
     "start_time": "2020-12-11T19:44:07.077125",
     "status": "completed"
    },
    "tags": []
   },
   "outputs": [],
   "source": [
    "with localconverter(ro.default_converter + pandas2ri.converter):\n",
    "    model_metadata = {\n",
    "        k: ro.conversion.rpy2py(multiplier_full_model.rx2(k))[0]\n",
    "        for k in (\"L1\", \"L2\", \"L3\")\n",
    "    }"
   ]
  },
  {
   "cell_type": "code",
   "execution_count": 76,
   "metadata": {
    "execution": {
     "iopub.execute_input": "2020-12-11T19:44:07.241217Z",
     "iopub.status.busy": "2020-12-11T19:44:07.240741Z",
     "iopub.status.idle": "2020-12-11T19:44:07.249866Z",
     "shell.execute_reply": "2020-12-11T19:44:07.249439Z"
    },
    "papermill": {
     "duration": 0.060263,
     "end_time": "2020-12-11T19:44:07.249957",
     "exception": false,
     "start_time": "2020-12-11T19:44:07.189694",
     "status": "completed"
    },
    "tags": []
   },
   "outputs": [
    {
     "data": {
      "text/plain": [
       "{'L1': 120.5660870071812, 'L2': 241.1321740143624, 'L3': 0.012696760842460974}"
      ]
     },
     "execution_count": 76,
     "metadata": {},
     "output_type": "execute_result"
    }
   ],
   "source": [
    "model_metadata"
   ]
  },
  {
   "cell_type": "code",
   "execution_count": 77,
   "metadata": {
    "execution": {
     "iopub.execute_input": "2020-12-11T19:44:07.351542Z",
     "iopub.status.busy": "2020-12-11T19:44:07.345283Z",
     "iopub.status.idle": "2020-12-11T19:44:07.353817Z",
     "shell.execute_reply": "2020-12-11T19:44:07.353429Z"
    },
    "papermill": {
     "duration": 0.057641,
     "end_time": "2020-12-11T19:44:07.353936",
     "exception": false,
     "start_time": "2020-12-11T19:44:07.296295",
     "status": "completed"
    },
    "tags": []
   },
   "outputs": [],
   "source": [
    "assert len(model_metadata) == 3"
   ]
  },
  {
   "cell_type": "code",
   "execution_count": 78,
   "metadata": {
    "execution": {
     "iopub.execute_input": "2020-12-11T19:44:07.464257Z",
     "iopub.status.busy": "2020-12-11T19:44:07.457734Z",
     "iopub.status.idle": "2020-12-11T19:44:07.466481Z",
     "shell.execute_reply": "2020-12-11T19:44:07.466062Z"
    },
    "papermill": {
     "duration": 0.062973,
     "end_time": "2020-12-11T19:44:07.466573",
     "exception": false,
     "start_time": "2020-12-11T19:44:07.403600",
     "status": "completed"
    },
    "tags": []
   },
   "outputs": [],
   "source": [
    "assert model_metadata[\"L2\"] == 241.1321740143624"
   ]
  },
  {
   "cell_type": "markdown",
   "metadata": {
    "papermill": {
     "duration": 0.047722,
     "end_time": "2020-12-11T19:44:07.560905",
     "exception": false,
     "start_time": "2020-12-11T19:44:07.513183",
     "status": "completed"
    },
    "tags": []
   },
   "source": [
    "## Save"
   ]
  },
  {
   "cell_type": "markdown",
   "metadata": {
    "papermill": {
     "duration": 0.052588,
     "end_time": "2020-12-11T19:44:07.665959",
     "exception": false,
     "start_time": "2020-12-11T19:44:07.613371",
     "status": "completed"
    },
    "tags": []
   },
   "source": [
    "### Pickle format"
   ]
  },
  {
   "cell_type": "code",
   "execution_count": 79,
   "metadata": {
    "execution": {
     "iopub.execute_input": "2020-12-11T19:44:07.768363Z",
     "iopub.status.busy": "2020-12-11T19:44:07.767884Z",
     "iopub.status.idle": "2020-12-11T19:44:07.777200Z",
     "shell.execute_reply": "2020-12-11T19:44:07.776787Z"
    },
    "papermill": {
     "duration": 0.061729,
     "end_time": "2020-12-11T19:44:07.777316",
     "exception": false,
     "start_time": "2020-12-11T19:44:07.715587",
     "status": "completed"
    },
    "tags": []
   },
   "outputs": [
    {
     "data": {
      "text/plain": [
       "PosixPath('/home/miltondp/projects/labs/greenelab/phenoplier/base/data/multiplier/multiplier_model_metadata.pkl')"
      ]
     },
     "metadata": {},
     "output_type": "display_data"
    }
   ],
   "source": [
    "output_file = conf.MULTIPLIER[\"MODEL_METADATA_FILE\"]\n",
    "display(output_file)"
   ]
  },
  {
   "cell_type": "code",
   "execution_count": 80,
   "metadata": {
    "execution": {
     "iopub.execute_input": "2020-12-11T19:44:07.882360Z",
     "iopub.status.busy": "2020-12-11T19:44:07.881935Z",
     "iopub.status.idle": "2020-12-11T19:44:07.903702Z",
     "shell.execute_reply": "2020-12-11T19:44:07.903308Z"
    },
    "papermill": {
     "duration": 0.075861,
     "end_time": "2020-12-11T19:44:07.903833",
     "exception": false,
     "start_time": "2020-12-11T19:44:07.827972",
     "status": "completed"
    },
    "tags": []
   },
   "outputs": [],
   "source": [
    "with open(output_file, \"wb\") as handle:\n",
    "    pickle.dump(model_metadata, handle, protocol=pickle.HIGHEST_PROTOCOL)"
   ]
  },
  {
   "cell_type": "markdown",
   "metadata": {
    "papermill": {
     "duration": 0.04649,
     "end_time": "2020-12-11T19:44:07.998581",
     "exception": false,
     "start_time": "2020-12-11T19:44:07.952091",
     "status": "completed"
    },
    "tags": []
   },
   "source": [
    "### Text format"
   ]
  },
  {
   "cell_type": "code",
   "execution_count": 81,
   "metadata": {
    "execution": {
     "iopub.execute_input": "2020-12-11T19:44:08.101454Z",
     "iopub.status.busy": "2020-12-11T19:44:08.101060Z",
     "iopub.status.idle": "2020-12-11T19:44:08.110195Z",
     "shell.execute_reply": "2020-12-11T19:44:08.110534Z"
    },
    "papermill": {
     "duration": 0.06331,
     "end_time": "2020-12-11T19:44:08.110655",
     "exception": false,
     "start_time": "2020-12-11T19:44:08.047345",
     "status": "completed"
    },
    "tags": []
   },
   "outputs": [],
   "source": [
    "multiplier_model_matrix_df = (\n",
    "    pd.Series(model_metadata)\n",
    "    .reset_index()\n",
    "    .rename(columns={\"index\": \"parameter\", 0: \"value\"})\n",
    ")"
   ]
  },
  {
   "cell_type": "code",
   "execution_count": 82,
   "metadata": {
    "execution": {
     "iopub.execute_input": "2020-12-11T19:44:08.210972Z",
     "iopub.status.busy": "2020-12-11T19:44:08.210580Z",
     "iopub.status.idle": "2020-12-11T19:44:08.220740Z",
     "shell.execute_reply": "2020-12-11T19:44:08.221091Z"
    },
    "papermill": {
     "duration": 0.061877,
     "end_time": "2020-12-11T19:44:08.221207",
     "exception": false,
     "start_time": "2020-12-11T19:44:08.159330",
     "status": "completed"
    },
    "tags": []
   },
   "outputs": [
    {
     "data": {
      "text/html": [
       "<div>\n",
       "<style scoped>\n",
       "    .dataframe tbody tr th:only-of-type {\n",
       "        vertical-align: middle;\n",
       "    }\n",
       "\n",
       "    .dataframe tbody tr th {\n",
       "        vertical-align: top;\n",
       "    }\n",
       "\n",
       "    .dataframe thead th {\n",
       "        text-align: right;\n",
       "    }\n",
       "</style>\n",
       "<table border=\"1\" class=\"dataframe\">\n",
       "  <thead>\n",
       "    <tr style=\"text-align: right;\">\n",
       "      <th></th>\n",
       "      <th>parameter</th>\n",
       "      <th>value</th>\n",
       "    </tr>\n",
       "  </thead>\n",
       "  <tbody>\n",
       "    <tr>\n",
       "      <th>0</th>\n",
       "      <td>L1</td>\n",
       "      <td>120.566087</td>\n",
       "    </tr>\n",
       "    <tr>\n",
       "      <th>1</th>\n",
       "      <td>L2</td>\n",
       "      <td>241.132174</td>\n",
       "    </tr>\n",
       "    <tr>\n",
       "      <th>2</th>\n",
       "      <td>L3</td>\n",
       "      <td>0.012697</td>\n",
       "    </tr>\n",
       "  </tbody>\n",
       "</table>\n",
       "</div>"
      ],
      "text/plain": [
       "  parameter       value\n",
       "0        L1  120.566087\n",
       "1        L2  241.132174\n",
       "2        L3    0.012697"
      ]
     },
     "execution_count": 82,
     "metadata": {},
     "output_type": "execute_result"
    }
   ],
   "source": [
    "multiplier_model_matrix_df"
   ]
  },
  {
   "cell_type": "code",
   "execution_count": 83,
   "metadata": {
    "execution": {
     "iopub.execute_input": "2020-12-11T19:44:08.325133Z",
     "iopub.status.busy": "2020-12-11T19:44:08.324729Z",
     "iopub.status.idle": "2020-12-11T19:44:08.333349Z",
     "shell.execute_reply": "2020-12-11T19:44:08.332991Z"
    },
    "papermill": {
     "duration": 0.059519,
     "end_time": "2020-12-11T19:44:08.333470",
     "exception": false,
     "start_time": "2020-12-11T19:44:08.273951",
     "status": "completed"
    },
    "tags": []
   },
   "outputs": [
    {
     "data": {
      "text/plain": [
       "PosixPath('/home/miltondp/projects/labs/greenelab/phenoplier/base/data/multiplier/multiplier_model_metadata.tsv.gz')"
      ]
     },
     "metadata": {},
     "output_type": "display_data"
    }
   ],
   "source": [
    "# tsv format\n",
    "output_text_file = output_file.with_suffix(\".tsv.gz\")\n",
    "display(output_text_file)"
   ]
  },
  {
   "cell_type": "code",
   "execution_count": 84,
   "metadata": {
    "execution": {
     "iopub.execute_input": "2020-12-11T19:44:08.433833Z",
     "iopub.status.busy": "2020-12-11T19:44:08.433373Z",
     "iopub.status.idle": "2020-12-11T19:44:08.443683Z",
     "shell.execute_reply": "2020-12-11T19:44:08.443241Z"
    },
    "papermill": {
     "duration": 0.062168,
     "end_time": "2020-12-11T19:44:08.443778",
     "exception": false,
     "start_time": "2020-12-11T19:44:08.381610",
     "status": "completed"
    },
    "tags": []
   },
   "outputs": [],
   "source": [
    "multiplier_model_matrix_df.to_csv(\n",
    "    output_text_file,\n",
    "    sep=\"\\t\",\n",
    "    index=False,\n",
    "    #     float_format=\"%.5e\"\n",
    ")"
   ]
  },
  {
   "cell_type": "code",
   "execution_count": null,
   "metadata": {
    "papermill": {
     "duration": 0.053112,
     "end_time": "2020-12-11T19:44:08.548750",
     "exception": false,
     "start_time": "2020-12-11T19:44:08.495638",
     "status": "completed"
    },
    "tags": []
   },
   "outputs": [],
   "source": []
  }
 ],
 "metadata": {
  "jupytext": {
   "cell_metadata_filter": "all,-execution,-papermill",
   "formats": "ipynb,py//py:percent"
  },
  "kernelspec": {
   "display_name": "Python 3",
   "language": "python",
   "name": "python3"
  },
  "language_info": {
   "codemirror_mode": {
    "name": "ipython",
    "version": 3
   },
   "file_extension": ".py",
   "mimetype": "text/x-python",
   "name": "python",
   "nbconvert_exporter": "python",
   "pygments_lexer": "ipython3",
   "version": "3.8.6"
  },
  "papermill": {
   "default_parameters": {},
   "duration": 312.928149,
   "end_time": "2020-12-11T19:44:09.109740",
   "environment_variables": {},
   "exception": null,
   "input_path": "01_preprocessing/005-multiplier_recount2_models.ipynb",
   "output_path": "01_preprocessing/005-multiplier_recount2_models.run.ipynb",
   "parameters": {},
   "start_time": "2020-12-11T19:38:56.181591",
   "version": "2.2.2"
  },
  "toc-autonumbering": true,
  "toc-showtags": false
 },
 "nbformat": 4,
 "nbformat_minor": 4
}
