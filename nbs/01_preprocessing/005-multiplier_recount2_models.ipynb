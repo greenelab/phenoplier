{
 "cells": [
  {
   "cell_type": "markdown",
   "metadata": {
    "papermill": {
     "duration": 0.072566,
     "end_time": "2021-03-08T16:37:51.279078",
     "exception": false,
     "start_time": "2021-03-08T16:37:51.206512",
     "status": "completed"
    },
    "tags": []
   },
   "source": [
    "# Description"
   ]
  },
  {
   "cell_type": "markdown",
   "metadata": {
    "papermill": {
     "duration": 0.033603,
     "end_time": "2021-03-08T16:37:51.347096",
     "exception": false,
     "start_time": "2021-03-08T16:37:51.313493",
     "status": "completed"
    },
    "tags": []
   },
   "source": [
    "This notebook reads all matrices from the MultiPLIER model (https://github.com/greenelab/multi-plier) trained in recount2, like gene loadings (Z) or the\n",
    "latent space (B), and saves them into a Python friendly format (Pandas DataFrames in pickle format for faster/easier loading, and tsv for universal access)."
   ]
  },
  {
   "cell_type": "markdown",
   "metadata": {
    "papermill": {
     "duration": 0.033711,
     "end_time": "2021-03-08T16:37:51.414274",
     "exception": false,
     "start_time": "2021-03-08T16:37:51.380563",
     "status": "completed"
    },
    "tags": []
   },
   "source": [
    "# Modules loading"
   ]
  },
  {
   "cell_type": "code",
   "execution_count": 1,
   "metadata": {
    "papermill": {
     "duration": 0.047722,
     "end_time": "2021-03-08T16:37:51.496059",
     "exception": false,
     "start_time": "2021-03-08T16:37:51.448337",
     "status": "completed"
    },
    "tags": []
   },
   "outputs": [],
   "source": [
    "%load_ext autoreload\n",
    "%autoreload 2"
   ]
  },
  {
   "cell_type": "code",
   "execution_count": 2,
   "metadata": {
    "papermill": {
     "duration": 0.407008,
     "end_time": "2021-03-08T16:37:51.938690",
     "exception": false,
     "start_time": "2021-03-08T16:37:51.531682",
     "status": "completed"
    },
    "tags": []
   },
   "outputs": [],
   "source": [
    "import pickle\n",
    "from shutil import copyfile\n",
    "\n",
    "import numpy as np\n",
    "import pandas as pd\n",
    "from IPython.display import display\n",
    "\n",
    "import rpy2.robjects as ro\n",
    "from rpy2.robjects import pandas2ri\n",
    "from rpy2.robjects.conversion import localconverter\n",
    "\n",
    "import conf\n",
    "from utils import get_git_repository_path"
   ]
  },
  {
   "cell_type": "code",
   "execution_count": 3,
   "metadata": {
    "papermill": {
     "duration": 0.045348,
     "end_time": "2021-03-08T16:37:52.018632",
     "exception": false,
     "start_time": "2021-03-08T16:37:51.973284",
     "status": "completed"
    },
    "tags": []
   },
   "outputs": [],
   "source": [
    "readRDS = ro.r[\"readRDS\"]"
   ]
  },
  {
   "cell_type": "code",
   "execution_count": 4,
   "metadata": {
    "papermill": {
     "duration": 0.045348,
     "end_time": "2021-03-08T16:37:52.018632",
     "exception": false,
     "start_time": "2021-03-08T16:37:51.973284",
     "status": "completed"
    },
    "tags": []
   },
   "outputs": [],
   "source": [
    "saveRDS = ro.r[\"saveRDS\"]"
   ]
  },
  {
   "cell_type": "markdown",
   "metadata": {
    "papermill": {
     "duration": 0.033711,
     "end_time": "2021-03-08T16:37:51.414274",
     "exception": false,
     "start_time": "2021-03-08T16:37:51.380563",
     "status": "completed"
    },
    "tags": []
   },
   "source": [
    "# Settings"
   ]
  },
  {
   "cell_type": "code",
   "execution_count": 5,
   "metadata": {},
   "outputs": [
    {
     "data": {
      "text/plain": [
       "PosixPath('/home/miltondp/projects/labs/greenelab/phenoplier/data')"
      ]
     },
     "metadata": {},
     "output_type": "display_data"
    }
   ],
   "source": [
    "DELIVERABLES_BASE_DIR = get_git_repository_path() / \"data\"\n",
    "display(DELIVERABLES_BASE_DIR)"
   ]
  },
  {
   "cell_type": "code",
   "execution_count": 6,
   "metadata": {},
   "outputs": [
    {
     "data": {
      "text/plain": [
       "PosixPath('/home/miltondp/projects/labs/greenelab/phenoplier/data/multiplier')"
      ]
     },
     "metadata": {},
     "output_type": "display_data"
    }
   ],
   "source": [
    "OUTPUT_DIR = DELIVERABLES_BASE_DIR / \"multiplier\"\n",
    "OUTPUT_DIR.mkdir(parents=True, exist_ok=True)\n",
    "display(OUTPUT_DIR)"
   ]
  },
  {
   "cell_type": "markdown",
   "metadata": {
    "papermill": {
     "duration": 0.033511,
     "end_time": "2021-03-08T16:37:52.085952",
     "exception": false,
     "start_time": "2021-03-08T16:37:52.052441",
     "status": "completed"
    },
    "tags": []
   },
   "source": [
    "# Read MultiPLIER model"
   ]
  },
  {
   "cell_type": "code",
   "execution_count": 7,
   "metadata": {
    "papermill": {
     "duration": 0.048967,
     "end_time": "2021-03-08T16:37:52.168947",
     "exception": false,
     "start_time": "2021-03-08T16:37:52.119980",
     "status": "completed"
    },
    "tags": []
   },
   "outputs": [
    {
     "data": {
      "text/plain": [
       "PosixPath('/media/miltondp/Elements1/projects/phenoplier/data/multiplier/recount_PLIER_model.RDS')"
      ]
     },
     "execution_count": 7,
     "metadata": {},
     "output_type": "execute_result"
    }
   ],
   "source": [
    "conf.MULTIPLIER[\"RECOUNT2_MODEL_FILE\"]"
   ]
  },
  {
   "cell_type": "code",
   "execution_count": 8,
   "metadata": {
    "papermill": {
     "duration": 14.288517,
     "end_time": "2021-03-08T16:38:06.492202",
     "exception": false,
     "start_time": "2021-03-08T16:37:52.203685",
     "status": "completed"
    },
    "tags": []
   },
   "outputs": [],
   "source": [
    "multiplier_full_model = readRDS(str(conf.MULTIPLIER[\"RECOUNT2_MODEL_FILE\"]))"
   ]
  },
  {
   "cell_type": "markdown",
   "metadata": {
    "papermill": {
     "duration": 0.035609,
     "end_time": "2021-03-08T16:38:06.562724",
     "exception": false,
     "start_time": "2021-03-08T16:38:06.527115",
     "status": "completed"
    },
    "tags": []
   },
   "source": [
    "# Summary matrix"
   ]
  },
  {
   "cell_type": "code",
   "execution_count": 9,
   "metadata": {
    "papermill": {
     "duration": 0.045115,
     "end_time": "2021-03-08T16:38:06.642258",
     "exception": false,
     "start_time": "2021-03-08T16:38:06.597143",
     "status": "completed"
    },
    "tags": []
   },
   "outputs": [],
   "source": [
    "multiplier_model_matrix = multiplier_full_model.rx2(\"summary\")"
   ]
  },
  {
   "cell_type": "code",
   "execution_count": 10,
   "metadata": {
    "papermill": {
     "duration": 0.046153,
     "end_time": "2021-03-08T16:38:06.724086",
     "exception": false,
     "start_time": "2021-03-08T16:38:06.677933",
     "status": "completed"
    },
    "tags": []
   },
   "outputs": [
    {
     "data": {
      "text/html": [
       "\n",
       "        <span>R/rpy2 DataFrame (2157 x 5)</span>\n",
       "        <table>\n",
       "          <thead>\n",
       "            <tr>\n",
       "              \n",
       "              <th>pathway</th>\n",
       "              \n",
       "              <th>LV index</th>\n",
       "              \n",
       "              <th>AUC</th>\n",
       "              \n",
       "              <th>p-value</th>\n",
       "              \n",
       "              <th>FDR</th>\n",
       "              \n",
       "            </tr>\n",
       "          </thead>\n",
       "          <tbody>\n",
       "          \n",
       "          <tr>\n",
       "            \n",
       "            <td>\n",
       "              ...\n",
       "            </td>\n",
       "            \n",
       "            <td>\n",
       "              ...\n",
       "            </td>\n",
       "            \n",
       "            <td>\n",
       "              ...\n",
       "            </td>\n",
       "            \n",
       "            <td>\n",
       "              ...\n",
       "            </td>\n",
       "            \n",
       "            <td>\n",
       "              ...\n",
       "            </td>\n",
       "            \n",
       "          </tr>\n",
       "          \n",
       "          </tbody>\n",
       "        </table>\n",
       "    "
      ],
      "text/plain": [
       "R object with classes: ('data.frame',) mapped to:\n",
       "[StrSexp..., StrSexp..., FloatSe..., FloatSe..., FloatSe...]\n",
       "  pathway: <class 'rpy2.rinterface_lib.sexp.StrSexpVector'>\n",
       "  <rpy2.rinterface_lib.sexp.StrSexpVector object at 0x7f63e4ec7d80> [RTYPES.STRSXP]\n",
       "  LV index: <class 'rpy2.rinterface_lib.sexp.StrSexpVector'>\n",
       "  <rpy2.rinterface_lib.sexp.StrSexpVector object at 0x7f63e4ec7dc0> [RTYPES.STRSXP]\n",
       "  AUC: <class 'rpy2.rinterface.FloatSexpVector'>\n",
       "  <rpy2.rinterface.FloatSexpVector object at 0x7f63e4ec7f40> [RTYPES.REALSXP]\n",
       "  p-value: <class 'rpy2.rinterface.FloatSexpVector'>\n",
       "  <rpy2.rinterface.FloatSexpVector object at 0x7f63e4f5b3c0> [RTYPES.REALSXP]\n",
       "  FDR: <class 'rpy2.rinterface.FloatSexpVector'>\n",
       "  <rpy2.rinterface.FloatSexpVector object at 0x7f63e4ecb180> [RTYPES.REALSXP]"
      ]
     },
     "execution_count": 10,
     "metadata": {},
     "output_type": "execute_result"
    }
   ],
   "source": [
    "multiplier_model_matrix"
   ]
  },
  {
   "cell_type": "code",
   "execution_count": 11,
   "metadata": {
    "papermill": {
     "duration": 0.046185,
     "end_time": "2021-03-08T16:38:06.806320",
     "exception": false,
     "start_time": "2021-03-08T16:38:06.760135",
     "status": "completed"
    },
    "tags": []
   },
   "outputs": [
    {
     "data": {
      "text/html": [
       "\n",
       "        <span>StrVector with 2157 elements.</span>\n",
       "        <table>\n",
       "        <tbody>\n",
       "          <tr>\n",
       "          \n",
       "            <td>\n",
       "            '1'\n",
       "            </td>\n",
       "          \n",
       "            <td>\n",
       "            '2'\n",
       "            </td>\n",
       "          \n",
       "            <td>\n",
       "            '3'\n",
       "            </td>\n",
       "          \n",
       "            <td>\n",
       "            ...\n",
       "            </td>\n",
       "          \n",
       "            <td>\n",
       "            '2155'\n",
       "            </td>\n",
       "          \n",
       "            <td>\n",
       "            '2156'\n",
       "            </td>\n",
       "          \n",
       "            <td>\n",
       "            '2157'\n",
       "            </td>\n",
       "          \n",
       "          </tr>\n",
       "        </tbody>\n",
       "        </table>\n",
       "        "
      ],
      "text/plain": [
       "R object with classes: ('character',) mapped to:\n",
       "['1', '2', '3', '4', ..., '2154', '2155', '2156', '2157']"
      ]
     },
     "execution_count": 11,
     "metadata": {},
     "output_type": "execute_result"
    }
   ],
   "source": [
    "multiplier_model_matrix.rownames"
   ]
  },
  {
   "cell_type": "code",
   "execution_count": 12,
   "metadata": {
    "papermill": {
     "duration": 0.046002,
     "end_time": "2021-03-08T16:38:06.886973",
     "exception": false,
     "start_time": "2021-03-08T16:38:06.840971",
     "status": "completed"
    },
    "tags": []
   },
   "outputs": [
    {
     "data": {
      "text/html": [
       "\n",
       "        <span>StrVector with 5 elements.</span>\n",
       "        <table>\n",
       "        <tbody>\n",
       "          <tr>\n",
       "          \n",
       "            <td>\n",
       "            'pathway'\n",
       "            </td>\n",
       "          \n",
       "            <td>\n",
       "            'LV ind...\n",
       "            </td>\n",
       "          \n",
       "            <td>\n",
       "            'AUC'\n",
       "            </td>\n",
       "          \n",
       "            <td>\n",
       "            'p-value'\n",
       "            </td>\n",
       "          \n",
       "            <td>\n",
       "            'FDR'\n",
       "            </td>\n",
       "          \n",
       "          </tr>\n",
       "        </tbody>\n",
       "        </table>\n",
       "        "
      ],
      "text/plain": [
       "R object with classes: ('character',) mapped to:\n",
       "['pathway', 'LV ind..., 'AUC', 'p-value', 'FDR']"
      ]
     },
     "execution_count": 12,
     "metadata": {},
     "output_type": "execute_result"
    }
   ],
   "source": [
    "multiplier_model_matrix.colnames"
   ]
  },
  {
   "cell_type": "code",
   "execution_count": 13,
   "metadata": {
    "papermill": {
     "duration": 0.090389,
     "end_time": "2021-03-08T16:38:07.013564",
     "exception": false,
     "start_time": "2021-03-08T16:38:06.923175",
     "status": "completed"
    },
    "tags": []
   },
   "outputs": [],
   "source": [
    "with localconverter(ro.default_converter + pandas2ri.converter):\n",
    "    multiplier_model_matrix_values = ro.conversion.rpy2py(multiplier_model_matrix)"
   ]
  },
  {
   "cell_type": "code",
   "execution_count": 14,
   "metadata": {
    "papermill": {
     "duration": 0.046219,
     "end_time": "2021-03-08T16:38:07.094745",
     "exception": false,
     "start_time": "2021-03-08T16:38:07.048526",
     "status": "completed"
    },
    "tags": []
   },
   "outputs": [],
   "source": [
    "multiplier_model_matrix_df = pd.DataFrame(\n",
    "    data=multiplier_model_matrix_values,\n",
    "    #     index=multiplier_model_matrix.rownames,\n",
    "    columns=multiplier_model_matrix.colnames,\n",
    ")"
   ]
  },
  {
   "cell_type": "code",
   "execution_count": 15,
   "metadata": {
    "papermill": {
     "duration": 0.046899,
     "end_time": "2021-03-08T16:38:07.177028",
     "exception": false,
     "start_time": "2021-03-08T16:38:07.130129",
     "status": "completed"
    },
    "tags": []
   },
   "outputs": [
    {
     "data": {
      "text/plain": [
       "(2157, 5)"
      ]
     },
     "metadata": {},
     "output_type": "display_data"
    }
   ],
   "source": [
    "display(multiplier_model_matrix_df.shape)\n",
    "assert multiplier_model_matrix_df.shape == (2157, 5)"
   ]
  },
  {
   "cell_type": "code",
   "execution_count": 16,
   "metadata": {
    "lines_to_next_cell": 1,
    "papermill": {
     "duration": 0.050131,
     "end_time": "2021-03-08T16:38:07.262243",
     "exception": false,
     "start_time": "2021-03-08T16:38:07.212112",
     "status": "completed"
    },
    "tags": []
   },
   "outputs": [
    {
     "data": {
      "text/html": [
       "<div>\n",
       "<style scoped>\n",
       "    .dataframe tbody tr th:only-of-type {\n",
       "        vertical-align: middle;\n",
       "    }\n",
       "\n",
       "    .dataframe tbody tr th {\n",
       "        vertical-align: top;\n",
       "    }\n",
       "\n",
       "    .dataframe thead th {\n",
       "        text-align: right;\n",
       "    }\n",
       "</style>\n",
       "<table border=\"1\" class=\"dataframe\">\n",
       "  <thead>\n",
       "    <tr style=\"text-align: right;\">\n",
       "      <th></th>\n",
       "      <th>pathway</th>\n",
       "      <th>LV index</th>\n",
       "      <th>AUC</th>\n",
       "      <th>p-value</th>\n",
       "      <th>FDR</th>\n",
       "    </tr>\n",
       "  </thead>\n",
       "  <tbody>\n",
       "    <tr>\n",
       "      <th>1</th>\n",
       "      <td>KEGG_LYSINE_DEGRADATION</td>\n",
       "      <td>1</td>\n",
       "      <td>0.388059</td>\n",
       "      <td>0.866078</td>\n",
       "      <td>0.956005</td>\n",
       "    </tr>\n",
       "    <tr>\n",
       "      <th>2</th>\n",
       "      <td>REACTOME_MRNA_SPLICING</td>\n",
       "      <td>1</td>\n",
       "      <td>0.733057</td>\n",
       "      <td>0.000048</td>\n",
       "      <td>0.000582</td>\n",
       "    </tr>\n",
       "    <tr>\n",
       "      <th>3</th>\n",
       "      <td>MIPS_NOP56P_ASSOCIATED_PRE_RRNA_COMPLEX</td>\n",
       "      <td>1</td>\n",
       "      <td>0.680555</td>\n",
       "      <td>0.001628</td>\n",
       "      <td>0.011366</td>\n",
       "    </tr>\n",
       "    <tr>\n",
       "      <th>4</th>\n",
       "      <td>KEGG_DNA_REPLICATION</td>\n",
       "      <td>1</td>\n",
       "      <td>0.549473</td>\n",
       "      <td>0.312155</td>\n",
       "      <td>0.539951</td>\n",
       "    </tr>\n",
       "    <tr>\n",
       "      <th>5</th>\n",
       "      <td>PID_MYC_ACTIVPATHWAY</td>\n",
       "      <td>1</td>\n",
       "      <td>0.639303</td>\n",
       "      <td>0.021702</td>\n",
       "      <td>0.083739</td>\n",
       "    </tr>\n",
       "  </tbody>\n",
       "</table>\n",
       "</div>"
      ],
      "text/plain": [
       "                                   pathway LV index       AUC   p-value  \\\n",
       "1                  KEGG_LYSINE_DEGRADATION        1  0.388059  0.866078   \n",
       "2                   REACTOME_MRNA_SPLICING        1  0.733057  0.000048   \n",
       "3  MIPS_NOP56P_ASSOCIATED_PRE_RRNA_COMPLEX        1  0.680555  0.001628   \n",
       "4                     KEGG_DNA_REPLICATION        1  0.549473  0.312155   \n",
       "5                     PID_MYC_ACTIVPATHWAY        1  0.639303  0.021702   \n",
       "\n",
       "        FDR  \n",
       "1  0.956005  \n",
       "2  0.000582  \n",
       "3  0.011366  \n",
       "4  0.539951  \n",
       "5  0.083739  "
      ]
     },
     "execution_count": 16,
     "metadata": {},
     "output_type": "execute_result"
    }
   ],
   "source": [
    "multiplier_model_matrix_df.head()"
   ]
  },
  {
   "cell_type": "code",
   "execution_count": 17,
   "metadata": {
    "papermill": {
     "duration": 0.051222,
     "end_time": "2021-03-08T16:38:07.349020",
     "exception": false,
     "start_time": "2021-03-08T16:38:07.297798",
     "status": "completed"
    },
    "tags": []
   },
   "outputs": [],
   "source": [
    "def to_scinum(x):\n",
    "    return np.format_float_scientific(x, 6)\n",
    "\n",
    "\n",
    "# make sure I'm seeing the same when loaded with R\n",
    "_tmp = multiplier_model_matrix_df.set_index([\"pathway\", \"LV index\"])\n",
    "\n",
    "assert _tmp.loc[(\"KEGG_LYSINE_DEGRADATION\", \"1\")][\"AUC\"].round(7) == 0.3880591\n",
    "assert (\n",
    "    to_scinum(_tmp.loc[(\"KEGG_LYSINE_DEGRADATION\", \"1\")][\"p-value\"]) == \"8.660782e-01\"\n",
    ")\n",
    "assert _tmp.loc[(\"KEGG_LYSINE_DEGRADATION\", \"1\")][\"FDR\"].round(10) == 0.9560054810\n",
    "\n",
    "assert _tmp.loc[(\"IRIS_Monocyte-Day0\", \"2\")][\"AUC\"].round(7) == 0.8900356\n",
    "assert to_scinum(_tmp.loc[(\"IRIS_Monocyte-Day0\", \"2\")][\"p-value\"]) == \"4.315812e-25\"\n",
    "assert to_scinum(_tmp.loc[(\"IRIS_Monocyte-Day0\", \"2\")][\"FDR\"]) == \"1.329887e-22\""
   ]
  },
  {
   "cell_type": "markdown",
   "metadata": {
    "papermill": {
     "duration": 0.034612,
     "end_time": "2021-03-08T16:38:07.418966",
     "exception": false,
     "start_time": "2021-03-08T16:38:07.384354",
     "status": "completed"
    },
    "tags": []
   },
   "source": [
    "## Save"
   ]
  },
  {
   "cell_type": "markdown",
   "metadata": {
    "papermill": {
     "duration": 0.034568,
     "end_time": "2021-03-08T16:38:07.488567",
     "exception": false,
     "start_time": "2021-03-08T16:38:07.453999",
     "status": "completed"
    },
    "tags": []
   },
   "source": [
    "### Pickle format"
   ]
  },
  {
   "cell_type": "code",
   "execution_count": 18,
   "metadata": {
    "papermill": {
     "duration": 0.048654,
     "end_time": "2021-03-08T16:38:07.572197",
     "exception": false,
     "start_time": "2021-03-08T16:38:07.523543",
     "status": "completed"
    },
    "tags": []
   },
   "outputs": [
    {
     "data": {
      "text/plain": [
       "PosixPath('/home/miltondp/projects/labs/greenelab/phenoplier/bases_data/base_orig/data/multiplier/multiplier_model_summary.pkl')"
      ]
     },
     "metadata": {},
     "output_type": "display_data"
    }
   ],
   "source": [
    "output_file = conf.MULTIPLIER[\"MODEL_SUMMARY_FILE\"]\n",
    "display(output_file)"
   ]
  },
  {
   "cell_type": "code",
   "execution_count": 19,
   "metadata": {
    "papermill": {
     "duration": 0.053018,
     "end_time": "2021-03-08T16:38:07.680603",
     "exception": false,
     "start_time": "2021-03-08T16:38:07.627585",
     "status": "completed"
    },
    "tags": []
   },
   "outputs": [],
   "source": [
    "multiplier_model_matrix_df.to_pickle(output_file)"
   ]
  },
  {
   "cell_type": "code",
   "execution_count": 20,
   "metadata": {
    "papermill": {
     "duration": 0.053341,
     "end_time": "2021-03-08T16:37:14.523482",
     "exception": false,
     "start_time": "2021-03-08T16:37:14.470141",
     "status": "completed"
    },
    "tags": []
   },
   "outputs": [
    {
     "data": {
      "text/plain": [
       "PosixPath('/home/miltondp/projects/labs/greenelab/phenoplier/data/multiplier/multiplier_model_summary.pkl')"
      ]
     },
     "execution_count": 20,
     "metadata": {},
     "output_type": "execute_result"
    }
   ],
   "source": [
    "# copy to deliverables folder\n",
    "copyfile(\n",
    "    output_file,\n",
    "    OUTPUT_DIR / output_file.name,\n",
    ")"
   ]
  },
  {
   "cell_type": "markdown",
   "metadata": {
    "papermill": {
     "duration": 0.034568,
     "end_time": "2021-03-08T16:38:07.488567",
     "exception": false,
     "start_time": "2021-03-08T16:38:07.453999",
     "status": "completed"
    },
    "tags": []
   },
   "source": [
    "### RDS format"
   ]
  },
  {
   "cell_type": "code",
   "execution_count": 21,
   "metadata": {
    "papermill": {
     "duration": 0.048654,
     "end_time": "2021-03-08T16:38:07.572197",
     "exception": false,
     "start_time": "2021-03-08T16:38:07.523543",
     "status": "completed"
    },
    "tags": []
   },
   "outputs": [
    {
     "data": {
      "text/plain": [
       "PosixPath('/home/miltondp/projects/labs/greenelab/phenoplier/bases_data/base_orig/data/multiplier/multiplier_model_summary.rds')"
      ]
     },
     "metadata": {},
     "output_type": "display_data"
    }
   ],
   "source": [
    "output_rds_file = output_file.with_suffix(\".rds\")\n",
    "display(output_rds_file)"
   ]
  },
  {
   "cell_type": "code",
   "execution_count": 22,
   "metadata": {},
   "outputs": [
    {
     "data": {
      "text/plain": [
       "<rpy2.rinterface_lib.sexp.NULLType object at 0x7fa4a1c29140> [RTYPES.NILSXP]"
      ]
     },
     "execution_count": 22,
     "metadata": {},
     "output_type": "execute_result"
    }
   ],
   "source": [
    "saveRDS(multiplier_model_matrix, str(output_rds_file))"
   ]
  },
  {
   "cell_type": "code",
   "execution_count": 23,
   "metadata": {
    "papermill": {
     "duration": 0.053341,
     "end_time": "2021-03-08T16:37:14.523482",
     "exception": false,
     "start_time": "2021-03-08T16:37:14.470141",
     "status": "completed"
    },
    "tags": []
   },
   "outputs": [
    {
     "data": {
      "text/plain": [
       "PosixPath('/home/miltondp/projects/labs/greenelab/phenoplier/data/multiplier/multiplier_model_summary.rds')"
      ]
     },
     "execution_count": 23,
     "metadata": {},
     "output_type": "execute_result"
    }
   ],
   "source": [
    "# copy to deliverables folder\n",
    "copyfile(\n",
    "    output_rds_file,\n",
    "    OUTPUT_DIR / output_rds_file.name,\n",
    ")"
   ]
  },
  {
   "cell_type": "markdown",
   "metadata": {
    "papermill": {
     "duration": 0.034596,
     "end_time": "2021-03-08T16:38:07.752044",
     "exception": false,
     "start_time": "2021-03-08T16:38:07.717448",
     "status": "completed"
    },
    "tags": []
   },
   "source": [
    "### Text format"
   ]
  },
  {
   "cell_type": "code",
   "execution_count": 24,
   "metadata": {
    "papermill": {
     "duration": 0.046508,
     "end_time": "2021-03-08T16:38:07.833967",
     "exception": false,
     "start_time": "2021-03-08T16:38:07.787459",
     "status": "completed"
    },
    "tags": []
   },
   "outputs": [
    {
     "data": {
      "text/plain": [
       "PosixPath('/home/miltondp/projects/labs/greenelab/phenoplier/bases_data/base_orig/data/multiplier/multiplier_model_summary.tsv.gz')"
      ]
     },
     "metadata": {},
     "output_type": "display_data"
    }
   ],
   "source": [
    "# tsv format\n",
    "output_text_file = output_file.with_suffix(\".tsv.gz\")\n",
    "display(output_text_file)"
   ]
  },
  {
   "cell_type": "code",
   "execution_count": 25,
   "metadata": {
    "papermill": {
     "duration": 0.07577,
     "end_time": "2021-03-08T16:38:07.946265",
     "exception": false,
     "start_time": "2021-03-08T16:38:07.870495",
     "status": "completed"
    },
    "tags": []
   },
   "outputs": [],
   "source": [
    "multiplier_model_matrix_df.to_csv(\n",
    "    output_text_file, sep=\"\\t\", index=False, float_format=\"%.5e\"\n",
    ")"
   ]
  },
  {
   "cell_type": "code",
   "execution_count": 26,
   "metadata": {
    "papermill": {
     "duration": 0.053341,
     "end_time": "2021-03-08T16:37:14.523482",
     "exception": false,
     "start_time": "2021-03-08T16:37:14.470141",
     "status": "completed"
    },
    "tags": []
   },
   "outputs": [
    {
     "data": {
      "text/plain": [
       "PosixPath('/home/miltondp/projects/labs/greenelab/phenoplier/data/multiplier/multiplier_model_summary.tsv.gz')"
      ]
     },
     "execution_count": 26,
     "metadata": {},
     "output_type": "execute_result"
    }
   ],
   "source": [
    "# copy to deliverables folder\n",
    "copyfile(\n",
    "    output_text_file,\n",
    "    OUTPUT_DIR / output_text_file.name,\n",
    ")"
   ]
  },
  {
   "cell_type": "markdown",
   "metadata": {
    "papermill": {
     "duration": 0.035541,
     "end_time": "2021-03-08T16:38:08.018388",
     "exception": false,
     "start_time": "2021-03-08T16:38:07.982847",
     "status": "completed"
    },
    "tags": []
   },
   "source": [
    "# Matrix Z (loadings; genes x LVs)"
   ]
  },
  {
   "cell_type": "code",
   "execution_count": 23,
   "metadata": {
    "papermill": {
     "duration": 0.046511,
     "end_time": "2021-03-08T16:38:08.100515",
     "exception": false,
     "start_time": "2021-03-08T16:38:08.054004",
     "status": "completed"
    },
    "tags": []
   },
   "outputs": [],
   "source": [
    "multiplier_model_matrix = multiplier_full_model.rx2(\"Z\")"
   ]
  },
  {
   "cell_type": "code",
   "execution_count": 24,
   "metadata": {
    "papermill": {
     "duration": 0.046811,
     "end_time": "2021-03-08T16:38:08.183346",
     "exception": false,
     "start_time": "2021-03-08T16:38:08.136535",
     "status": "completed"
    },
    "tags": []
   },
   "outputs": [
    {
     "data": {
      "text/html": [
       "\n",
       "        <span>FloatMatrix with 6662250 elements.</span>\n",
       "        <table>\n",
       "        <tbody>\n",
       "          <tr>\n",
       "          \n",
       "            <td>\n",
       "            0.000000\n",
       "            </td>\n",
       "          \n",
       "            <td>\n",
       "            0.000000\n",
       "            </td>\n",
       "          \n",
       "            <td>\n",
       "            0.000000\n",
       "            </td>\n",
       "          \n",
       "            <td>\n",
       "            ...\n",
       "            </td>\n",
       "          \n",
       "            <td>\n",
       "            0.003215\n",
       "            </td>\n",
       "          \n",
       "            <td>\n",
       "            0.042435\n",
       "            </td>\n",
       "          \n",
       "            <td>\n",
       "            0.287909\n",
       "            </td>\n",
       "          \n",
       "          </tr>\n",
       "        </tbody>\n",
       "        </table>\n",
       "        "
      ],
      "text/plain": [
       "R object with classes: ('matrix',) mapped to:\n",
       "[0.000000, 0.000000, 0.000000, 0.305212, ..., 0.031268, 0.003215, 0.042435, 0.287909]"
      ]
     },
     "execution_count": 24,
     "metadata": {},
     "output_type": "execute_result"
    }
   ],
   "source": [
    "multiplier_model_matrix"
   ]
  },
  {
   "cell_type": "code",
   "execution_count": 25,
   "metadata": {
    "papermill": {
     "duration": 0.0468,
     "end_time": "2021-03-08T16:38:08.266413",
     "exception": false,
     "start_time": "2021-03-08T16:38:08.219613",
     "status": "completed"
    },
    "tags": []
   },
   "outputs": [
    {
     "data": {
      "text/html": [
       "\n",
       "        <span>StrVector with 6750 elements.</span>\n",
       "        <table>\n",
       "        <tbody>\n",
       "          <tr>\n",
       "          \n",
       "            <td>\n",
       "            'GAS6'\n",
       "            </td>\n",
       "          \n",
       "            <td>\n",
       "            'MMP14'\n",
       "            </td>\n",
       "          \n",
       "            <td>\n",
       "            'DSP'\n",
       "            </td>\n",
       "          \n",
       "            <td>\n",
       "            ...\n",
       "            </td>\n",
       "          \n",
       "            <td>\n",
       "            'PLEKHG6'\n",
       "            </td>\n",
       "          \n",
       "            <td>\n",
       "            'GNGT2'\n",
       "            </td>\n",
       "          \n",
       "            <td>\n",
       "            'SERPINH1'\n",
       "            </td>\n",
       "          \n",
       "          </tr>\n",
       "        </tbody>\n",
       "        </table>\n",
       "        "
      ],
      "text/plain": [
       "R object with classes: ('character',) mapped to:\n",
       "['GAS6', 'MMP14', 'DSP', 'MARCKSL1', ..., 'NFIB', 'PLEKHG6', 'GNGT2', 'SERPINH1']"
      ]
     },
     "execution_count": 25,
     "metadata": {},
     "output_type": "execute_result"
    }
   ],
   "source": [
    "multiplier_model_matrix.rownames"
   ]
  },
  {
   "cell_type": "code",
   "execution_count": 26,
   "metadata": {
    "papermill": {
     "duration": 0.046743,
     "end_time": "2021-03-08T16:38:08.349982",
     "exception": false,
     "start_time": "2021-03-08T16:38:08.303239",
     "status": "completed"
    },
    "tags": []
   },
   "outputs": [
    {
     "data": {
      "text/plain": [
       "<rpy2.rinterface_lib.sexp.NULLType object at 0x7f988ce29040> [RTYPES.NILSXP]"
      ]
     },
     "execution_count": 26,
     "metadata": {},
     "output_type": "execute_result"
    }
   ],
   "source": [
    "multiplier_model_matrix.colnames"
   ]
  },
  {
   "cell_type": "code",
   "execution_count": 27,
   "metadata": {
    "papermill": {
     "duration": 0.056006,
     "end_time": "2021-03-08T16:38:08.443069",
     "exception": false,
     "start_time": "2021-03-08T16:38:08.387063",
     "status": "completed"
    },
    "tags": []
   },
   "outputs": [],
   "source": [
    "with localconverter(ro.default_converter + pandas2ri.converter):\n",
    "    multiplier_model_matrix_values = ro.conversion.rpy2py(multiplier_model_matrix)"
   ]
  },
  {
   "cell_type": "code",
   "execution_count": 28,
   "metadata": {
    "papermill": {
     "duration": 0.064056,
     "end_time": "2021-03-08T16:38:08.544185",
     "exception": false,
     "start_time": "2021-03-08T16:38:08.480129",
     "status": "completed"
    },
    "tags": []
   },
   "outputs": [],
   "source": [
    "multiplier_model_matrix_df = pd.DataFrame(\n",
    "    data=multiplier_model_matrix_values,\n",
    "    index=multiplier_model_matrix.rownames,\n",
    "    columns=[f\"LV{i}\" for i in range(1, multiplier_model_matrix.ncol + 1)],\n",
    ")"
   ]
  },
  {
   "cell_type": "code",
   "execution_count": 29,
   "metadata": {
    "papermill": {
     "duration": 0.047485,
     "end_time": "2021-03-08T16:38:08.629968",
     "exception": false,
     "start_time": "2021-03-08T16:38:08.582483",
     "status": "completed"
    },
    "tags": []
   },
   "outputs": [
    {
     "data": {
      "text/plain": [
       "(6750, 987)"
      ]
     },
     "metadata": {},
     "output_type": "display_data"
    }
   ],
   "source": [
    "display(multiplier_model_matrix_df.shape)\n",
    "assert multiplier_model_matrix_df.shape == (6750, 987)"
   ]
  },
  {
   "cell_type": "code",
   "execution_count": 30,
   "metadata": {
    "papermill": {
     "duration": 0.059186,
     "end_time": "2021-03-08T16:38:08.726369",
     "exception": false,
     "start_time": "2021-03-08T16:38:08.667183",
     "status": "completed"
    },
    "tags": []
   },
   "outputs": [
    {
     "data": {
      "text/html": [
       "<div>\n",
       "<style scoped>\n",
       "    .dataframe tbody tr th:only-of-type {\n",
       "        vertical-align: middle;\n",
       "    }\n",
       "\n",
       "    .dataframe tbody tr th {\n",
       "        vertical-align: top;\n",
       "    }\n",
       "\n",
       "    .dataframe thead th {\n",
       "        text-align: right;\n",
       "    }\n",
       "</style>\n",
       "<table border=\"1\" class=\"dataframe\">\n",
       "  <thead>\n",
       "    <tr style=\"text-align: right;\">\n",
       "      <th></th>\n",
       "      <th>LV1</th>\n",
       "      <th>LV2</th>\n",
       "      <th>LV3</th>\n",
       "      <th>LV4</th>\n",
       "      <th>LV5</th>\n",
       "      <th>LV6</th>\n",
       "      <th>LV7</th>\n",
       "      <th>LV8</th>\n",
       "      <th>LV9</th>\n",
       "      <th>LV10</th>\n",
       "      <th>...</th>\n",
       "      <th>LV978</th>\n",
       "      <th>LV979</th>\n",
       "      <th>LV980</th>\n",
       "      <th>LV981</th>\n",
       "      <th>LV982</th>\n",
       "      <th>LV983</th>\n",
       "      <th>LV984</th>\n",
       "      <th>LV985</th>\n",
       "      <th>LV986</th>\n",
       "      <th>LV987</th>\n",
       "    </tr>\n",
       "  </thead>\n",
       "  <tbody>\n",
       "    <tr>\n",
       "      <th>GAS6</th>\n",
       "      <td>0.000000</td>\n",
       "      <td>0.0</td>\n",
       "      <td>0.039438</td>\n",
       "      <td>0.0</td>\n",
       "      <td>0.050476</td>\n",
       "      <td>0.000000</td>\n",
       "      <td>0.0</td>\n",
       "      <td>0.000000</td>\n",
       "      <td>0.590949</td>\n",
       "      <td>0.000000</td>\n",
       "      <td>...</td>\n",
       "      <td>0.050125</td>\n",
       "      <td>0.00000</td>\n",
       "      <td>0.033407</td>\n",
       "      <td>0.000000</td>\n",
       "      <td>0.000000</td>\n",
       "      <td>0.005963</td>\n",
       "      <td>0.347362</td>\n",
       "      <td>0.0</td>\n",
       "      <td>0.000000</td>\n",
       "      <td>0.000000</td>\n",
       "    </tr>\n",
       "    <tr>\n",
       "      <th>MMP14</th>\n",
       "      <td>0.000000</td>\n",
       "      <td>0.0</td>\n",
       "      <td>0.000000</td>\n",
       "      <td>0.0</td>\n",
       "      <td>0.070072</td>\n",
       "      <td>0.000000</td>\n",
       "      <td>0.0</td>\n",
       "      <td>0.004904</td>\n",
       "      <td>1.720179</td>\n",
       "      <td>2.423595</td>\n",
       "      <td>...</td>\n",
       "      <td>0.000000</td>\n",
       "      <td>0.00000</td>\n",
       "      <td>0.001007</td>\n",
       "      <td>0.000000</td>\n",
       "      <td>0.035747</td>\n",
       "      <td>0.000000</td>\n",
       "      <td>0.000000</td>\n",
       "      <td>0.0</td>\n",
       "      <td>0.014978</td>\n",
       "      <td>0.000000</td>\n",
       "    </tr>\n",
       "    <tr>\n",
       "      <th>DSP</th>\n",
       "      <td>0.000000</td>\n",
       "      <td>0.0</td>\n",
       "      <td>0.000000</td>\n",
       "      <td>0.0</td>\n",
       "      <td>0.000000</td>\n",
       "      <td>0.041697</td>\n",
       "      <td>0.0</td>\n",
       "      <td>0.005718</td>\n",
       "      <td>0.000000</td>\n",
       "      <td>0.000000</td>\n",
       "      <td>...</td>\n",
       "      <td>0.020853</td>\n",
       "      <td>0.00000</td>\n",
       "      <td>0.000000</td>\n",
       "      <td>0.000000</td>\n",
       "      <td>0.000000</td>\n",
       "      <td>0.005774</td>\n",
       "      <td>0.000000</td>\n",
       "      <td>0.0</td>\n",
       "      <td>0.000000</td>\n",
       "      <td>0.416405</td>\n",
       "    </tr>\n",
       "    <tr>\n",
       "      <th>MARCKSL1</th>\n",
       "      <td>0.305212</td>\n",
       "      <td>0.0</td>\n",
       "      <td>0.000000</td>\n",
       "      <td>0.0</td>\n",
       "      <td>0.000000</td>\n",
       "      <td>0.000000</td>\n",
       "      <td>0.0</td>\n",
       "      <td>0.000000</td>\n",
       "      <td>0.161843</td>\n",
       "      <td>0.149471</td>\n",
       "      <td>...</td>\n",
       "      <td>0.027134</td>\n",
       "      <td>0.05272</td>\n",
       "      <td>0.000000</td>\n",
       "      <td>0.030189</td>\n",
       "      <td>0.060884</td>\n",
       "      <td>0.000000</td>\n",
       "      <td>0.000000</td>\n",
       "      <td>0.0</td>\n",
       "      <td>0.000000</td>\n",
       "      <td>0.448480</td>\n",
       "    </tr>\n",
       "    <tr>\n",
       "      <th>SPARC</th>\n",
       "      <td>0.000000</td>\n",
       "      <td>0.0</td>\n",
       "      <td>0.000000</td>\n",
       "      <td>0.0</td>\n",
       "      <td>0.000000</td>\n",
       "      <td>0.000000</td>\n",
       "      <td>0.0</td>\n",
       "      <td>0.000000</td>\n",
       "      <td>0.000000</td>\n",
       "      <td>0.014014</td>\n",
       "      <td>...</td>\n",
       "      <td>0.000000</td>\n",
       "      <td>0.00000</td>\n",
       "      <td>0.000000</td>\n",
       "      <td>0.000000</td>\n",
       "      <td>0.000000</td>\n",
       "      <td>0.000000</td>\n",
       "      <td>0.067779</td>\n",
       "      <td>0.0</td>\n",
       "      <td>0.122417</td>\n",
       "      <td>0.062665</td>\n",
       "    </tr>\n",
       "  </tbody>\n",
       "</table>\n",
       "<p>5 rows × 987 columns</p>\n",
       "</div>"
      ],
      "text/plain": [
       "               LV1  LV2       LV3  LV4       LV5       LV6  LV7       LV8  \\\n",
       "GAS6      0.000000  0.0  0.039438  0.0  0.050476  0.000000  0.0  0.000000   \n",
       "MMP14     0.000000  0.0  0.000000  0.0  0.070072  0.000000  0.0  0.004904   \n",
       "DSP       0.000000  0.0  0.000000  0.0  0.000000  0.041697  0.0  0.005718   \n",
       "MARCKSL1  0.305212  0.0  0.000000  0.0  0.000000  0.000000  0.0  0.000000   \n",
       "SPARC     0.000000  0.0  0.000000  0.0  0.000000  0.000000  0.0  0.000000   \n",
       "\n",
       "               LV9      LV10  ...     LV978    LV979     LV980     LV981  \\\n",
       "GAS6      0.590949  0.000000  ...  0.050125  0.00000  0.033407  0.000000   \n",
       "MMP14     1.720179  2.423595  ...  0.000000  0.00000  0.001007  0.000000   \n",
       "DSP       0.000000  0.000000  ...  0.020853  0.00000  0.000000  0.000000   \n",
       "MARCKSL1  0.161843  0.149471  ...  0.027134  0.05272  0.000000  0.030189   \n",
       "SPARC     0.000000  0.014014  ...  0.000000  0.00000  0.000000  0.000000   \n",
       "\n",
       "             LV982     LV983     LV984  LV985     LV986     LV987  \n",
       "GAS6      0.000000  0.005963  0.347362    0.0  0.000000  0.000000  \n",
       "MMP14     0.035747  0.000000  0.000000    0.0  0.014978  0.000000  \n",
       "DSP       0.000000  0.005774  0.000000    0.0  0.000000  0.416405  \n",
       "MARCKSL1  0.060884  0.000000  0.000000    0.0  0.000000  0.448480  \n",
       "SPARC     0.000000  0.000000  0.067779    0.0  0.122417  0.062665  \n",
       "\n",
       "[5 rows x 987 columns]"
      ]
     },
     "execution_count": 30,
     "metadata": {},
     "output_type": "execute_result"
    }
   ],
   "source": [
    "multiplier_model_matrix_df.head()"
   ]
  },
  {
   "cell_type": "code",
   "execution_count": 31,
   "metadata": {
    "papermill": {
     "duration": 0.048639,
     "end_time": "2021-03-08T16:38:08.813414",
     "exception": false,
     "start_time": "2021-03-08T16:38:08.764775",
     "status": "completed"
    },
    "tags": []
   },
   "outputs": [],
   "source": [
    "# make sure I'm seeing the same when loaded with R\n",
    "assert multiplier_model_matrix_df.loc[\"GAS6\", \"LV2\"] == 0\n",
    "assert multiplier_model_matrix_df.loc[\"GAS6\", \"LV3\"] == 0.039437739697954444\n",
    "assert multiplier_model_matrix_df.loc[\"GAS6\", \"LV984\"] == 0.3473620915326928\n",
    "assert multiplier_model_matrix_df.loc[\"GAS6\", \"LV987\"] == 0\n",
    "\n",
    "assert multiplier_model_matrix_df.loc[\"SPARC\", \"LV981\"] == 0\n",
    "assert multiplier_model_matrix_df.loc[\"SPARC\", \"LV986\"].round(8) == 0.12241734"
   ]
  },
  {
   "cell_type": "markdown",
   "metadata": {
    "papermill": {
     "duration": 0.036776,
     "end_time": "2021-03-08T16:38:08.887807",
     "exception": false,
     "start_time": "2021-03-08T16:38:08.851031",
     "status": "completed"
    },
    "tags": []
   },
   "source": [
    "## Save"
   ]
  },
  {
   "cell_type": "markdown",
   "metadata": {
    "papermill": {
     "duration": 0.03652,
     "end_time": "2021-03-08T16:38:08.961112",
     "exception": false,
     "start_time": "2021-03-08T16:38:08.924592",
     "status": "completed"
    },
    "tags": []
   },
   "source": [
    "### Pickle format"
   ]
  },
  {
   "cell_type": "code",
   "execution_count": 32,
   "metadata": {
    "papermill": {
     "duration": 0.047024,
     "end_time": "2021-03-08T16:38:09.044912",
     "exception": false,
     "start_time": "2021-03-08T16:38:08.997888",
     "status": "completed"
    },
    "tags": []
   },
   "outputs": [
    {
     "data": {
      "text/plain": [
       "PosixPath('/home/miltondp/projects/labs/greenelab/phenoplier/bases_data/base_orig/data/multiplier/multiplier_model_z.pkl')"
      ]
     },
     "metadata": {},
     "output_type": "display_data"
    }
   ],
   "source": [
    "output_file = conf.MULTIPLIER[\"MODEL_Z_MATRIX_FILE\"]\n",
    "display(output_file)"
   ]
  },
  {
   "cell_type": "code",
   "execution_count": 33,
   "metadata": {
    "papermill": {
     "duration": 0.301391,
     "end_time": "2021-03-08T16:38:09.383436",
     "exception": false,
     "start_time": "2021-03-08T16:38:09.082045",
     "status": "completed"
    },
    "tags": []
   },
   "outputs": [],
   "source": [
    "multiplier_model_matrix_df.to_pickle(output_file)"
   ]
  },
  {
   "cell_type": "code",
   "execution_count": 26,
   "metadata": {
    "papermill": {
     "duration": 0.053341,
     "end_time": "2021-03-08T16:37:14.523482",
     "exception": false,
     "start_time": "2021-03-08T16:37:14.470141",
     "status": "completed"
    },
    "tags": []
   },
   "outputs": [
    {
     "data": {
      "text/plain": [
       "PosixPath('/home/miltondp/projects/labs/greenelab/phenoplier/data/multiplier/multiplier_model_summary.tsv.gz')"
      ]
     },
     "execution_count": 26,
     "metadata": {},
     "output_type": "execute_result"
    }
   ],
   "source": [
    "# copy to deliverables folder\n",
    "copyfile(\n",
    "    output_file,\n",
    "    OUTPUT_DIR / output_file.name,\n",
    ")"
   ]
  },
  {
   "cell_type": "markdown",
   "metadata": {
    "papermill": {
     "duration": 0.034568,
     "end_time": "2021-03-08T16:38:07.488567",
     "exception": false,
     "start_time": "2021-03-08T16:38:07.453999",
     "status": "completed"
    },
    "tags": []
   },
   "source": [
    "### RDS format"
   ]
  },
  {
   "cell_type": "code",
   "execution_count": 34,
   "metadata": {
    "papermill": {
     "duration": 0.048654,
     "end_time": "2021-03-08T16:38:07.572197",
     "exception": false,
     "start_time": "2021-03-08T16:38:07.523543",
     "status": "completed"
    },
    "tags": []
   },
   "outputs": [
    {
     "data": {
      "text/plain": [
       "PosixPath('/home/miltondp/projects/labs/greenelab/phenoplier/bases_data/base_orig/data/multiplier/multiplier_model_z.rds')"
      ]
     },
     "metadata": {},
     "output_type": "display_data"
    }
   ],
   "source": [
    "output_rds_file = output_file.with_suffix(\".rds\")\n",
    "display(output_rds_file)"
   ]
  },
  {
   "cell_type": "code",
   "execution_count": 35,
   "metadata": {},
   "outputs": [
    {
     "data": {
      "text/plain": [
       "<rpy2.rinterface_lib.sexp.NULLType object at 0x7f988ce29040> [RTYPES.NILSXP]"
      ]
     },
     "execution_count": 35,
     "metadata": {},
     "output_type": "execute_result"
    }
   ],
   "source": [
    "saveRDS(multiplier_model_matrix, str(output_rds_file))"
   ]
  },
  {
   "cell_type": "code",
   "execution_count": 26,
   "metadata": {
    "papermill": {
     "duration": 0.053341,
     "end_time": "2021-03-08T16:37:14.523482",
     "exception": false,
     "start_time": "2021-03-08T16:37:14.470141",
     "status": "completed"
    },
    "tags": []
   },
   "outputs": [
    {
     "data": {
      "text/plain": [
       "PosixPath('/home/miltondp/projects/labs/greenelab/phenoplier/data/multiplier/multiplier_model_summary.tsv.gz')"
      ]
     },
     "execution_count": 26,
     "metadata": {},
     "output_type": "execute_result"
    }
   ],
   "source": [
    "# copy to deliverables folder\n",
    "copyfile(\n",
    "    output_rds_file,\n",
    "    OUTPUT_DIR / output_rds_file.name,\n",
    ")"
   ]
  },
  {
   "cell_type": "markdown",
   "metadata": {
    "papermill": {
     "duration": 0.036715,
     "end_time": "2021-03-08T16:38:09.458593",
     "exception": false,
     "start_time": "2021-03-08T16:38:09.421878",
     "status": "completed"
    },
    "tags": []
   },
   "source": [
    "### Text format"
   ]
  },
  {
   "cell_type": "code",
   "execution_count": 36,
   "metadata": {
    "papermill": {
     "duration": 0.049886,
     "end_time": "2021-03-08T16:38:09.545564",
     "exception": false,
     "start_time": "2021-03-08T16:38:09.495678",
     "status": "completed"
    },
    "tags": []
   },
   "outputs": [
    {
     "data": {
      "text/plain": [
       "PosixPath('/home/miltondp/projects/labs/greenelab/phenoplier/bases_data/base_orig/data/multiplier/multiplier_model_z.tsv.gz')"
      ]
     },
     "metadata": {},
     "output_type": "display_data"
    }
   ],
   "source": [
    "# tsv format\n",
    "output_text_file = output_file.with_suffix(\".tsv.gz\")\n",
    "display(output_text_file)"
   ]
  },
  {
   "cell_type": "code",
   "execution_count": 37,
   "metadata": {
    "papermill": {
     "duration": 20.286671,
     "end_time": "2021-03-08T16:38:29.871809",
     "exception": false,
     "start_time": "2021-03-08T16:38:09.585138",
     "status": "completed"
    },
    "tags": []
   },
   "outputs": [],
   "source": [
    "multiplier_model_matrix_df.to_csv(\n",
    "    output_text_file, sep=\"\\t\", index=True, float_format=\"%.5e\"\n",
    ")"
   ]
  },
  {
   "cell_type": "code",
   "execution_count": 26,
   "metadata": {
    "papermill": {
     "duration": 0.053341,
     "end_time": "2021-03-08T16:37:14.523482",
     "exception": false,
     "start_time": "2021-03-08T16:37:14.470141",
     "status": "completed"
    },
    "tags": []
   },
   "outputs": [
    {
     "data": {
      "text/plain": [
       "PosixPath('/home/miltondp/projects/labs/greenelab/phenoplier/data/multiplier/multiplier_model_summary.tsv.gz')"
      ]
     },
     "execution_count": 26,
     "metadata": {},
     "output_type": "execute_result"
    }
   ],
   "source": [
    "# copy to deliverables folder\n",
    "copyfile(\n",
    "    output_text_file,\n",
    "    OUTPUT_DIR / output_text_file.name,\n",
    ")"
   ]
  },
  {
   "cell_type": "markdown",
   "metadata": {
    "papermill": {
     "duration": 0.036685,
     "end_time": "2021-03-08T16:38:29.946816",
     "exception": false,
     "start_time": "2021-03-08T16:38:29.910131",
     "status": "completed"
    },
    "tags": []
   },
   "source": [
    "# Matrix B (latent space; LVs x samples)"
   ]
  },
  {
   "cell_type": "code",
   "execution_count": 38,
   "metadata": {
    "papermill": {
     "duration": 0.049899,
     "end_time": "2021-03-08T16:38:30.034010",
     "exception": false,
     "start_time": "2021-03-08T16:38:29.984111",
     "status": "completed"
    },
    "tags": []
   },
   "outputs": [],
   "source": [
    "multiplier_model_matrix = multiplier_full_model.rx2(\"B\")"
   ]
  },
  {
   "cell_type": "code",
   "execution_count": 39,
   "metadata": {
    "papermill": {
     "duration": 0.048666,
     "end_time": "2021-03-08T16:38:30.121498",
     "exception": false,
     "start_time": "2021-03-08T16:38:30.072832",
     "status": "completed"
    },
    "tags": []
   },
   "outputs": [
    {
     "data": {
      "text/html": [
       "\n",
       "        <span>FloatMatrix with 36550584 elements.</span>\n",
       "        <table>\n",
       "        <tbody>\n",
       "          <tr>\n",
       "          \n",
       "            <td>\n",
       "            -0.059297\n",
       "            </td>\n",
       "          \n",
       "            <td>\n",
       "            0.006213\n",
       "            </td>\n",
       "          \n",
       "            <td>\n",
       "            -0.026105\n",
       "            </td>\n",
       "          \n",
       "            <td>\n",
       "            ...\n",
       "            </td>\n",
       "          \n",
       "            <td>\n",
       "            -0.104375\n",
       "            </td>\n",
       "          \n",
       "            <td>\n",
       "            -0.015785\n",
       "            </td>\n",
       "          \n",
       "            <td>\n",
       "            -0.024907\n",
       "            </td>\n",
       "          \n",
       "          </tr>\n",
       "        </tbody>\n",
       "        </table>\n",
       "        "
      ],
      "text/plain": [
       "R object with classes: ('matrix',) mapped to:\n",
       "[-0.059297, 0.006213, -0.026105, -0.022080, ..., -0.090562, -0.104375, -0.015785, -0.024907]"
      ]
     },
     "execution_count": 39,
     "metadata": {},
     "output_type": "execute_result"
    }
   ],
   "source": [
    "multiplier_model_matrix"
   ]
  },
  {
   "cell_type": "code",
   "execution_count": 40,
   "metadata": {
    "papermill": {
     "duration": 0.049656,
     "end_time": "2021-03-08T16:38:30.210300",
     "exception": false,
     "start_time": "2021-03-08T16:38:30.160644",
     "status": "completed"
    },
    "tags": []
   },
   "outputs": [
    {
     "data": {
      "text/html": [
       "\n",
       "        <span>StrVector with 987 elements.</span>\n",
       "        <table>\n",
       "        <tbody>\n",
       "          <tr>\n",
       "          \n",
       "            <td>\n",
       "            '1,REACTO...\n",
       "            </td>\n",
       "          \n",
       "            <td>\n",
       "            '2,SVM Mo...\n",
       "            </td>\n",
       "          \n",
       "            <td>\n",
       "            '3,REACTO...\n",
       "            </td>\n",
       "          \n",
       "            <td>\n",
       "            ...\n",
       "            </td>\n",
       "          \n",
       "            <td>\n",
       "            '985,IRIS...\n",
       "            </td>\n",
       "          \n",
       "            <td>\n",
       "            'LV 986'\n",
       "            </td>\n",
       "          \n",
       "            <td>\n",
       "            'LV 987'\n",
       "            </td>\n",
       "          \n",
       "          </tr>\n",
       "        </tbody>\n",
       "        </table>\n",
       "        "
      ],
      "text/plain": [
       "R object with classes: ('character',) mapped to:\n",
       "['1,REACTO..., '2,SVM Mo..., '3,REACTO..., '4,REACTO..., ..., 'LV 984', '985,IRIS..., 'LV 986', 'LV 987']"
      ]
     },
     "execution_count": 40,
     "metadata": {},
     "output_type": "execute_result"
    }
   ],
   "source": [
    "multiplier_model_matrix.rownames"
   ]
  },
  {
   "cell_type": "code",
   "execution_count": 41,
   "metadata": {
    "papermill": {
     "duration": 0.048606,
     "end_time": "2021-03-08T16:38:30.297026",
     "exception": false,
     "start_time": "2021-03-08T16:38:30.248420",
     "status": "completed"
    },
    "tags": []
   },
   "outputs": [
    {
     "data": {
      "text/html": [
       "\n",
       "        <span>StrVector with 37032 elements.</span>\n",
       "        <table>\n",
       "        <tbody>\n",
       "          <tr>\n",
       "          \n",
       "            <td>\n",
       "            'SRP00059...\n",
       "            </td>\n",
       "          \n",
       "            <td>\n",
       "            'SRP00059...\n",
       "            </td>\n",
       "          \n",
       "            <td>\n",
       "            'SRP00059...\n",
       "            </td>\n",
       "          \n",
       "            <td>\n",
       "            ...\n",
       "            </td>\n",
       "          \n",
       "            <td>\n",
       "            'SRP03559...\n",
       "            </td>\n",
       "          \n",
       "            <td>\n",
       "            'SRP03559...\n",
       "            </td>\n",
       "          \n",
       "            <td>\n",
       "            'SRP03559...\n",
       "            </td>\n",
       "          \n",
       "          </tr>\n",
       "        </tbody>\n",
       "        </table>\n",
       "        "
      ],
      "text/plain": [
       "R object with classes: ('character',) mapped to:\n",
       "['SRP00059..., 'SRP00059..., 'SRP00059..., 'SRP00059..., ..., 'SRP03559..., 'SRP03559..., 'SRP03559..., 'SRP03559...]"
      ]
     },
     "execution_count": 41,
     "metadata": {},
     "output_type": "execute_result"
    }
   ],
   "source": [
    "multiplier_model_matrix.colnames"
   ]
  },
  {
   "cell_type": "code",
   "execution_count": 42,
   "metadata": {
    "papermill": {
     "duration": 0.100727,
     "end_time": "2021-03-08T16:38:30.435015",
     "exception": false,
     "start_time": "2021-03-08T16:38:30.334288",
     "status": "completed"
    },
    "tags": []
   },
   "outputs": [],
   "source": [
    "with localconverter(ro.default_converter + pandas2ri.converter):\n",
    "    multiplier_model_matrix_values = ro.conversion.rpy2py(multiplier_model_matrix)"
   ]
  },
  {
   "cell_type": "code",
   "execution_count": 43,
   "metadata": {
    "papermill": {
     "duration": 0.131566,
     "end_time": "2021-03-08T16:38:30.606440",
     "exception": false,
     "start_time": "2021-03-08T16:38:30.474874",
     "status": "completed"
    },
    "tags": []
   },
   "outputs": [],
   "source": [
    "multiplier_model_matrix_df = pd.DataFrame(\n",
    "    data=multiplier_model_matrix_values,\n",
    "    #    Look like the rows have a special meaning, so no overriding it.\n",
    "    #    index=[f'LV{i}' for i in range(1, multiplier_model_matrix.nrow + 1)],\n",
    "    index=multiplier_model_matrix.rownames,\n",
    "    columns=multiplier_model_matrix.colnames,\n",
    ")"
   ]
  },
  {
   "cell_type": "code",
   "execution_count": 44,
   "metadata": {
    "papermill": {
     "duration": 0.049604,
     "end_time": "2021-03-08T16:38:30.697170",
     "exception": false,
     "start_time": "2021-03-08T16:38:30.647566",
     "status": "completed"
    },
    "tags": []
   },
   "outputs": [
    {
     "data": {
      "text/plain": [
       "(987, 37032)"
      ]
     },
     "metadata": {},
     "output_type": "display_data"
    }
   ],
   "source": [
    "display(multiplier_model_matrix_df.shape)\n",
    "assert multiplier_model_matrix_df.shape == (987, 37032)"
   ]
  },
  {
   "cell_type": "code",
   "execution_count": 45,
   "metadata": {
    "papermill": {
     "duration": 0.064136,
     "end_time": "2021-03-08T16:38:30.799342",
     "exception": false,
     "start_time": "2021-03-08T16:38:30.735206",
     "status": "completed"
    },
    "tags": []
   },
   "outputs": [
    {
     "data": {
      "text/html": [
       "<div>\n",
       "<style scoped>\n",
       "    .dataframe tbody tr th:only-of-type {\n",
       "        vertical-align: middle;\n",
       "    }\n",
       "\n",
       "    .dataframe tbody tr th {\n",
       "        vertical-align: top;\n",
       "    }\n",
       "\n",
       "    .dataframe thead th {\n",
       "        text-align: right;\n",
       "    }\n",
       "</style>\n",
       "<table border=\"1\" class=\"dataframe\">\n",
       "  <thead>\n",
       "    <tr style=\"text-align: right;\">\n",
       "      <th></th>\n",
       "      <th>SRP000599.SRR013549</th>\n",
       "      <th>SRP000599.SRR013550</th>\n",
       "      <th>SRP000599.SRR013551</th>\n",
       "      <th>SRP000599.SRR013552</th>\n",
       "      <th>SRP000599.SRR013553</th>\n",
       "      <th>SRP000599.SRR013554</th>\n",
       "      <th>SRP000599.SRR013555</th>\n",
       "      <th>SRP000599.SRR013556</th>\n",
       "      <th>SRP000599.SRR013557</th>\n",
       "      <th>SRP000599.SRR013558</th>\n",
       "      <th>...</th>\n",
       "      <th>SRP035599.SRR1139372</th>\n",
       "      <th>SRP035599.SRR1139393</th>\n",
       "      <th>SRP035599.SRR1139388</th>\n",
       "      <th>SRP035599.SRR1139378</th>\n",
       "      <th>SRP035599.SRR1139399</th>\n",
       "      <th>SRP035599.SRR1139386</th>\n",
       "      <th>SRP035599.SRR1139375</th>\n",
       "      <th>SRP035599.SRR1139382</th>\n",
       "      <th>SRP035599.SRR1139356</th>\n",
       "      <th>SRP035599.SRR1139370</th>\n",
       "    </tr>\n",
       "  </thead>\n",
       "  <tbody>\n",
       "    <tr>\n",
       "      <th>1,REACTOME_MRNA_SPLICING</th>\n",
       "      <td>-0.059297</td>\n",
       "      <td>-0.047909</td>\n",
       "      <td>-0.049366</td>\n",
       "      <td>-0.065078</td>\n",
       "      <td>-0.036394</td>\n",
       "      <td>-0.046433</td>\n",
       "      <td>-0.040980</td>\n",
       "      <td>-0.040068</td>\n",
       "      <td>-0.046137</td>\n",
       "      <td>-0.048548</td>\n",
       "      <td>...</td>\n",
       "      <td>0.028220</td>\n",
       "      <td>0.035137</td>\n",
       "      <td>0.065077</td>\n",
       "      <td>0.078144</td>\n",
       "      <td>0.092362</td>\n",
       "      <td>0.069042</td>\n",
       "      <td>0.090914</td>\n",
       "      <td>0.096341</td>\n",
       "      <td>0.131115</td>\n",
       "      <td>0.171751</td>\n",
       "    </tr>\n",
       "    <tr>\n",
       "      <th>2,SVM Monocytes</th>\n",
       "      <td>0.006213</td>\n",
       "      <td>0.003625</td>\n",
       "      <td>0.006605</td>\n",
       "      <td>0.009258</td>\n",
       "      <td>0.005061</td>\n",
       "      <td>0.004133</td>\n",
       "      <td>0.008950</td>\n",
       "      <td>0.007227</td>\n",
       "      <td>0.007241</td>\n",
       "      <td>0.005710</td>\n",
       "      <td>...</td>\n",
       "      <td>-0.050455</td>\n",
       "      <td>-0.034502</td>\n",
       "      <td>-0.033640</td>\n",
       "      <td>-0.049702</td>\n",
       "      <td>-0.037426</td>\n",
       "      <td>-0.050070</td>\n",
       "      <td>-0.022575</td>\n",
       "      <td>-0.055091</td>\n",
       "      <td>-0.056869</td>\n",
       "      <td>-0.018073</td>\n",
       "    </tr>\n",
       "    <tr>\n",
       "      <th>3,REACTOME_TRANSMISSION_ACROSS_CHEMICAL_SYNAPSES</th>\n",
       "      <td>-0.026105</td>\n",
       "      <td>-0.032232</td>\n",
       "      <td>-0.020621</td>\n",
       "      <td>-0.027599</td>\n",
       "      <td>-0.035248</td>\n",
       "      <td>-0.038701</td>\n",
       "      <td>-0.032527</td>\n",
       "      <td>-0.030593</td>\n",
       "      <td>-0.028937</td>\n",
       "      <td>-0.027406</td>\n",
       "      <td>...</td>\n",
       "      <td>-0.028610</td>\n",
       "      <td>-0.033450</td>\n",
       "      <td>-0.030583</td>\n",
       "      <td>-0.032399</td>\n",
       "      <td>-0.029365</td>\n",
       "      <td>-0.025406</td>\n",
       "      <td>-0.033657</td>\n",
       "      <td>-0.031318</td>\n",
       "      <td>-0.030924</td>\n",
       "      <td>-0.027869</td>\n",
       "    </tr>\n",
       "    <tr>\n",
       "      <th>4,REACTOME_NEURONAL_SYSTEM</th>\n",
       "      <td>-0.022080</td>\n",
       "      <td>-0.008971</td>\n",
       "      <td>-0.020342</td>\n",
       "      <td>-0.016260</td>\n",
       "      <td>-0.003023</td>\n",
       "      <td>0.002443</td>\n",
       "      <td>-0.020458</td>\n",
       "      <td>-0.023735</td>\n",
       "      <td>-0.021581</td>\n",
       "      <td>-0.022478</td>\n",
       "      <td>...</td>\n",
       "      <td>-0.037122</td>\n",
       "      <td>-0.029658</td>\n",
       "      <td>-0.036350</td>\n",
       "      <td>-0.039254</td>\n",
       "      <td>-0.035205</td>\n",
       "      <td>-0.036345</td>\n",
       "      <td>-0.034514</td>\n",
       "      <td>-0.035926</td>\n",
       "      <td>-0.040358</td>\n",
       "      <td>-0.031131</td>\n",
       "    </tr>\n",
       "    <tr>\n",
       "      <th>LV 5</th>\n",
       "      <td>0.007663</td>\n",
       "      <td>0.007036</td>\n",
       "      <td>0.006608</td>\n",
       "      <td>0.003446</td>\n",
       "      <td>0.006341</td>\n",
       "      <td>0.007106</td>\n",
       "      <td>0.007930</td>\n",
       "      <td>0.009164</td>\n",
       "      <td>0.008024</td>\n",
       "      <td>0.007938</td>\n",
       "      <td>...</td>\n",
       "      <td>-0.003056</td>\n",
       "      <td>-0.004784</td>\n",
       "      <td>-0.004352</td>\n",
       "      <td>-0.004160</td>\n",
       "      <td>-0.001085</td>\n",
       "      <td>-0.001884</td>\n",
       "      <td>-0.003561</td>\n",
       "      <td>-0.003546</td>\n",
       "      <td>-0.012107</td>\n",
       "      <td>-0.001193</td>\n",
       "    </tr>\n",
       "  </tbody>\n",
       "</table>\n",
       "<p>5 rows × 37032 columns</p>\n",
       "</div>"
      ],
      "text/plain": [
       "                                                  SRP000599.SRR013549  \\\n",
       "1,REACTOME_MRNA_SPLICING                                    -0.059297   \n",
       "2,SVM Monocytes                                              0.006213   \n",
       "3,REACTOME_TRANSMISSION_ACROSS_CHEMICAL_SYNAPSES            -0.026105   \n",
       "4,REACTOME_NEURONAL_SYSTEM                                  -0.022080   \n",
       "LV 5                                                         0.007663   \n",
       "\n",
       "                                                  SRP000599.SRR013550  \\\n",
       "1,REACTOME_MRNA_SPLICING                                    -0.047909   \n",
       "2,SVM Monocytes                                              0.003625   \n",
       "3,REACTOME_TRANSMISSION_ACROSS_CHEMICAL_SYNAPSES            -0.032232   \n",
       "4,REACTOME_NEURONAL_SYSTEM                                  -0.008971   \n",
       "LV 5                                                         0.007036   \n",
       "\n",
       "                                                  SRP000599.SRR013551  \\\n",
       "1,REACTOME_MRNA_SPLICING                                    -0.049366   \n",
       "2,SVM Monocytes                                              0.006605   \n",
       "3,REACTOME_TRANSMISSION_ACROSS_CHEMICAL_SYNAPSES            -0.020621   \n",
       "4,REACTOME_NEURONAL_SYSTEM                                  -0.020342   \n",
       "LV 5                                                         0.006608   \n",
       "\n",
       "                                                  SRP000599.SRR013552  \\\n",
       "1,REACTOME_MRNA_SPLICING                                    -0.065078   \n",
       "2,SVM Monocytes                                              0.009258   \n",
       "3,REACTOME_TRANSMISSION_ACROSS_CHEMICAL_SYNAPSES            -0.027599   \n",
       "4,REACTOME_NEURONAL_SYSTEM                                  -0.016260   \n",
       "LV 5                                                         0.003446   \n",
       "\n",
       "                                                  SRP000599.SRR013553  \\\n",
       "1,REACTOME_MRNA_SPLICING                                    -0.036394   \n",
       "2,SVM Monocytes                                              0.005061   \n",
       "3,REACTOME_TRANSMISSION_ACROSS_CHEMICAL_SYNAPSES            -0.035248   \n",
       "4,REACTOME_NEURONAL_SYSTEM                                  -0.003023   \n",
       "LV 5                                                         0.006341   \n",
       "\n",
       "                                                  SRP000599.SRR013554  \\\n",
       "1,REACTOME_MRNA_SPLICING                                    -0.046433   \n",
       "2,SVM Monocytes                                              0.004133   \n",
       "3,REACTOME_TRANSMISSION_ACROSS_CHEMICAL_SYNAPSES            -0.038701   \n",
       "4,REACTOME_NEURONAL_SYSTEM                                   0.002443   \n",
       "LV 5                                                         0.007106   \n",
       "\n",
       "                                                  SRP000599.SRR013555  \\\n",
       "1,REACTOME_MRNA_SPLICING                                    -0.040980   \n",
       "2,SVM Monocytes                                              0.008950   \n",
       "3,REACTOME_TRANSMISSION_ACROSS_CHEMICAL_SYNAPSES            -0.032527   \n",
       "4,REACTOME_NEURONAL_SYSTEM                                  -0.020458   \n",
       "LV 5                                                         0.007930   \n",
       "\n",
       "                                                  SRP000599.SRR013556  \\\n",
       "1,REACTOME_MRNA_SPLICING                                    -0.040068   \n",
       "2,SVM Monocytes                                              0.007227   \n",
       "3,REACTOME_TRANSMISSION_ACROSS_CHEMICAL_SYNAPSES            -0.030593   \n",
       "4,REACTOME_NEURONAL_SYSTEM                                  -0.023735   \n",
       "LV 5                                                         0.009164   \n",
       "\n",
       "                                                  SRP000599.SRR013557  \\\n",
       "1,REACTOME_MRNA_SPLICING                                    -0.046137   \n",
       "2,SVM Monocytes                                              0.007241   \n",
       "3,REACTOME_TRANSMISSION_ACROSS_CHEMICAL_SYNAPSES            -0.028937   \n",
       "4,REACTOME_NEURONAL_SYSTEM                                  -0.021581   \n",
       "LV 5                                                         0.008024   \n",
       "\n",
       "                                                  SRP000599.SRR013558  ...  \\\n",
       "1,REACTOME_MRNA_SPLICING                                    -0.048548  ...   \n",
       "2,SVM Monocytes                                              0.005710  ...   \n",
       "3,REACTOME_TRANSMISSION_ACROSS_CHEMICAL_SYNAPSES            -0.027406  ...   \n",
       "4,REACTOME_NEURONAL_SYSTEM                                  -0.022478  ...   \n",
       "LV 5                                                         0.007938  ...   \n",
       "\n",
       "                                                  SRP035599.SRR1139372  \\\n",
       "1,REACTOME_MRNA_SPLICING                                      0.028220   \n",
       "2,SVM Monocytes                                              -0.050455   \n",
       "3,REACTOME_TRANSMISSION_ACROSS_CHEMICAL_SYNAPSES             -0.028610   \n",
       "4,REACTOME_NEURONAL_SYSTEM                                   -0.037122   \n",
       "LV 5                                                         -0.003056   \n",
       "\n",
       "                                                  SRP035599.SRR1139393  \\\n",
       "1,REACTOME_MRNA_SPLICING                                      0.035137   \n",
       "2,SVM Monocytes                                              -0.034502   \n",
       "3,REACTOME_TRANSMISSION_ACROSS_CHEMICAL_SYNAPSES             -0.033450   \n",
       "4,REACTOME_NEURONAL_SYSTEM                                   -0.029658   \n",
       "LV 5                                                         -0.004784   \n",
       "\n",
       "                                                  SRP035599.SRR1139388  \\\n",
       "1,REACTOME_MRNA_SPLICING                                      0.065077   \n",
       "2,SVM Monocytes                                              -0.033640   \n",
       "3,REACTOME_TRANSMISSION_ACROSS_CHEMICAL_SYNAPSES             -0.030583   \n",
       "4,REACTOME_NEURONAL_SYSTEM                                   -0.036350   \n",
       "LV 5                                                         -0.004352   \n",
       "\n",
       "                                                  SRP035599.SRR1139378  \\\n",
       "1,REACTOME_MRNA_SPLICING                                      0.078144   \n",
       "2,SVM Monocytes                                              -0.049702   \n",
       "3,REACTOME_TRANSMISSION_ACROSS_CHEMICAL_SYNAPSES             -0.032399   \n",
       "4,REACTOME_NEURONAL_SYSTEM                                   -0.039254   \n",
       "LV 5                                                         -0.004160   \n",
       "\n",
       "                                                  SRP035599.SRR1139399  \\\n",
       "1,REACTOME_MRNA_SPLICING                                      0.092362   \n",
       "2,SVM Monocytes                                              -0.037426   \n",
       "3,REACTOME_TRANSMISSION_ACROSS_CHEMICAL_SYNAPSES             -0.029365   \n",
       "4,REACTOME_NEURONAL_SYSTEM                                   -0.035205   \n",
       "LV 5                                                         -0.001085   \n",
       "\n",
       "                                                  SRP035599.SRR1139386  \\\n",
       "1,REACTOME_MRNA_SPLICING                                      0.069042   \n",
       "2,SVM Monocytes                                              -0.050070   \n",
       "3,REACTOME_TRANSMISSION_ACROSS_CHEMICAL_SYNAPSES             -0.025406   \n",
       "4,REACTOME_NEURONAL_SYSTEM                                   -0.036345   \n",
       "LV 5                                                         -0.001884   \n",
       "\n",
       "                                                  SRP035599.SRR1139375  \\\n",
       "1,REACTOME_MRNA_SPLICING                                      0.090914   \n",
       "2,SVM Monocytes                                              -0.022575   \n",
       "3,REACTOME_TRANSMISSION_ACROSS_CHEMICAL_SYNAPSES             -0.033657   \n",
       "4,REACTOME_NEURONAL_SYSTEM                                   -0.034514   \n",
       "LV 5                                                         -0.003561   \n",
       "\n",
       "                                                  SRP035599.SRR1139382  \\\n",
       "1,REACTOME_MRNA_SPLICING                                      0.096341   \n",
       "2,SVM Monocytes                                              -0.055091   \n",
       "3,REACTOME_TRANSMISSION_ACROSS_CHEMICAL_SYNAPSES             -0.031318   \n",
       "4,REACTOME_NEURONAL_SYSTEM                                   -0.035926   \n",
       "LV 5                                                         -0.003546   \n",
       "\n",
       "                                                  SRP035599.SRR1139356  \\\n",
       "1,REACTOME_MRNA_SPLICING                                      0.131115   \n",
       "2,SVM Monocytes                                              -0.056869   \n",
       "3,REACTOME_TRANSMISSION_ACROSS_CHEMICAL_SYNAPSES             -0.030924   \n",
       "4,REACTOME_NEURONAL_SYSTEM                                   -0.040358   \n",
       "LV 5                                                         -0.012107   \n",
       "\n",
       "                                                  SRP035599.SRR1139370  \n",
       "1,REACTOME_MRNA_SPLICING                                      0.171751  \n",
       "2,SVM Monocytes                                              -0.018073  \n",
       "3,REACTOME_TRANSMISSION_ACROSS_CHEMICAL_SYNAPSES             -0.027869  \n",
       "4,REACTOME_NEURONAL_SYSTEM                                   -0.031131  \n",
       "LV 5                                                         -0.001193  \n",
       "\n",
       "[5 rows x 37032 columns]"
      ]
     },
     "execution_count": 45,
     "metadata": {},
     "output_type": "execute_result"
    }
   ],
   "source": [
    "multiplier_model_matrix_df.head()"
   ]
  },
  {
   "cell_type": "code",
   "execution_count": 46,
   "metadata": {
    "papermill": {
     "duration": 0.05078,
     "end_time": "2021-03-08T16:38:30.889856",
     "exception": false,
     "start_time": "2021-03-08T16:38:30.839076",
     "status": "completed"
    },
    "tags": []
   },
   "outputs": [],
   "source": [
    "# make sure I'm seeing the same when loaded with R\n",
    "assert (\n",
    "    multiplier_model_matrix_df.loc[\n",
    "        \"1,REACTOME_MRNA_SPLICING\", \"SRP000599.SRR013549\"\n",
    "    ].round(9)\n",
    "    == -0.059296689\n",
    ")\n",
    "assert (\n",
    "    multiplier_model_matrix_df.loc[\n",
    "        \"1,REACTOME_MRNA_SPLICING\", \"SRP000599.SRR013553\"\n",
    "    ].round(9)\n",
    "    == -0.036394186\n",
    ")\n",
    "\n",
    "assert (\n",
    "    multiplier_model_matrix_df.loc[\"2,SVM Monocytes\", \"SRP000599.SRR013549\"].round(9)\n",
    "    == 0.006212678\n",
    ")\n",
    "assert (\n",
    "    multiplier_model_matrix_df.loc[\"2,SVM Monocytes\", \"SRP004637.SRR073776\"].round(9)\n",
    "    == -0.008800153\n",
    ")\n",
    "\n",
    "assert (\n",
    "    multiplier_model_matrix_df.loc[\"LV 9\", \"SRP004637.SRR073774\"].round(9)\n",
    "    == 0.092318955\n",
    ")\n",
    "assert (\n",
    "    multiplier_model_matrix_df.loc[\"LV 9\", \"SRP004637.SRR073776\"].round(9)\n",
    "    == 0.100114294\n",
    ")"
   ]
  },
  {
   "cell_type": "markdown",
   "metadata": {
    "papermill": {
     "duration": 0.038517,
     "end_time": "2021-03-08T16:38:30.968565",
     "exception": false,
     "start_time": "2021-03-08T16:38:30.930048",
     "status": "completed"
    },
    "tags": []
   },
   "source": [
    "## Make sure no GTEx samples are included"
   ]
  },
  {
   "cell_type": "code",
   "execution_count": 47,
   "metadata": {
    "papermill": {
     "duration": 0.057307,
     "end_time": "2021-03-08T16:38:31.064258",
     "exception": false,
     "start_time": "2021-03-08T16:38:31.006951",
     "status": "completed"
    },
    "tags": []
   },
   "outputs": [],
   "source": [
    "# Test search string first\n",
    "_tmp = multiplier_model_matrix_df.columns.str.contains(\"SRP000599.\", regex=False)\n",
    "assert _tmp[0]\n",
    "assert _tmp[1]\n",
    "assert not _tmp[-1]"
   ]
  },
  {
   "cell_type": "code",
   "execution_count": 48,
   "metadata": {
    "papermill": {
     "duration": 0.04888,
     "end_time": "2021-03-08T16:38:31.152160",
     "exception": false,
     "start_time": "2021-03-08T16:38:31.103280",
     "status": "completed"
    },
    "tags": []
   },
   "outputs": [],
   "source": [
    "GTEX_ACCESSION_CODE = \"SRP012682\""
   ]
  },
  {
   "cell_type": "code",
   "execution_count": 49,
   "metadata": {
    "papermill": {
     "duration": 0.054888,
     "end_time": "2021-03-08T16:38:31.246532",
     "exception": false,
     "start_time": "2021-03-08T16:38:31.191644",
     "status": "completed"
    },
    "tags": []
   },
   "outputs": [],
   "source": [
    "_tmp = multiplier_model_matrix_df.columns.str.contains(GTEX_ACCESSION_CODE, regex=False)\n",
    "assert not _tmp.any()"
   ]
  },
  {
   "cell_type": "markdown",
   "metadata": {
    "papermill": {
     "duration": 0.038423,
     "end_time": "2021-03-08T16:38:31.324127",
     "exception": false,
     "start_time": "2021-03-08T16:38:31.285704",
     "status": "completed"
    },
    "tags": []
   },
   "source": [
    "## Save"
   ]
  },
  {
   "cell_type": "markdown",
   "metadata": {
    "papermill": {
     "duration": 0.038073,
     "end_time": "2021-03-08T16:38:31.400519",
     "exception": false,
     "start_time": "2021-03-08T16:38:31.362446",
     "status": "completed"
    },
    "tags": []
   },
   "source": [
    "### Pickle format"
   ]
  },
  {
   "cell_type": "code",
   "execution_count": 50,
   "metadata": {
    "papermill": {
     "duration": 0.049814,
     "end_time": "2021-03-08T16:38:31.488932",
     "exception": false,
     "start_time": "2021-03-08T16:38:31.439118",
     "status": "completed"
    },
    "tags": []
   },
   "outputs": [
    {
     "data": {
      "text/plain": [
       "PosixPath('/home/miltondp/projects/labs/greenelab/phenoplier/bases_data/base_orig/data/multiplier/multiplier_model_b.pkl')"
      ]
     },
     "metadata": {},
     "output_type": "display_data"
    }
   ],
   "source": [
    "output_file = conf.MULTIPLIER[\"MODEL_B_MATRIX_FILE\"]\n",
    "display(output_file)"
   ]
  },
  {
   "cell_type": "code",
   "execution_count": 51,
   "metadata": {
    "papermill": {
     "duration": 1.709155,
     "end_time": "2021-03-08T16:38:33.236660",
     "exception": false,
     "start_time": "2021-03-08T16:38:31.527505",
     "status": "completed"
    },
    "tags": []
   },
   "outputs": [],
   "source": [
    "multiplier_model_matrix_df.to_pickle(output_file)"
   ]
  },
  {
   "cell_type": "code",
   "execution_count": 26,
   "metadata": {
    "papermill": {
     "duration": 0.053341,
     "end_time": "2021-03-08T16:37:14.523482",
     "exception": false,
     "start_time": "2021-03-08T16:37:14.470141",
     "status": "completed"
    },
    "tags": []
   },
   "outputs": [
    {
     "data": {
      "text/plain": [
       "PosixPath('/home/miltondp/projects/labs/greenelab/phenoplier/data/multiplier/multiplier_model_summary.tsv.gz')"
      ]
     },
     "execution_count": 26,
     "metadata": {},
     "output_type": "execute_result"
    }
   ],
   "source": [
    "# copy to deliverables folder\n",
    "copyfile(\n",
    "    output_file,\n",
    "    OUTPUT_DIR / output_file.name,\n",
    ")"
   ]
  },
  {
   "cell_type": "markdown",
   "metadata": {
    "papermill": {
     "duration": 0.034568,
     "end_time": "2021-03-08T16:38:07.488567",
     "exception": false,
     "start_time": "2021-03-08T16:38:07.453999",
     "status": "completed"
    },
    "tags": []
   },
   "source": [
    "### RDS format"
   ]
  },
  {
   "cell_type": "code",
   "execution_count": 52,
   "metadata": {
    "papermill": {
     "duration": 0.048654,
     "end_time": "2021-03-08T16:38:07.572197",
     "exception": false,
     "start_time": "2021-03-08T16:38:07.523543",
     "status": "completed"
    },
    "tags": []
   },
   "outputs": [
    {
     "data": {
      "text/plain": [
       "PosixPath('/home/miltondp/projects/labs/greenelab/phenoplier/bases_data/base_orig/data/multiplier/multiplier_model_b.rds')"
      ]
     },
     "metadata": {},
     "output_type": "display_data"
    }
   ],
   "source": [
    "output_rds_file = output_file.with_suffix(\".rds\")\n",
    "display(output_rds_file)"
   ]
  },
  {
   "cell_type": "code",
   "execution_count": 53,
   "metadata": {},
   "outputs": [
    {
     "data": {
      "text/plain": [
       "<rpy2.rinterface_lib.sexp.NULLType object at 0x7f988ce29040> [RTYPES.NILSXP]"
      ]
     },
     "execution_count": 53,
     "metadata": {},
     "output_type": "execute_result"
    }
   ],
   "source": [
    "saveRDS(multiplier_model_matrix, str(output_rds_file))"
   ]
  },
  {
   "cell_type": "code",
   "execution_count": 26,
   "metadata": {
    "papermill": {
     "duration": 0.053341,
     "end_time": "2021-03-08T16:37:14.523482",
     "exception": false,
     "start_time": "2021-03-08T16:37:14.470141",
     "status": "completed"
    },
    "tags": []
   },
   "outputs": [
    {
     "data": {
      "text/plain": [
       "PosixPath('/home/miltondp/projects/labs/greenelab/phenoplier/data/multiplier/multiplier_model_summary.tsv.gz')"
      ]
     },
     "execution_count": 26,
     "metadata": {},
     "output_type": "execute_result"
    }
   ],
   "source": [
    "# copy to deliverables folder\n",
    "copyfile(\n",
    "    output_rds_file,\n",
    "    OUTPUT_DIR / output_rds_file.name,\n",
    ")"
   ]
  },
  {
   "cell_type": "markdown",
   "metadata": {
    "papermill": {
     "duration": 0.038356,
     "end_time": "2021-03-08T16:38:33.315323",
     "exception": false,
     "start_time": "2021-03-08T16:38:33.276967",
     "status": "completed"
    },
    "tags": []
   },
   "source": [
    "### Text format"
   ]
  },
  {
   "cell_type": "code",
   "execution_count": 54,
   "metadata": {
    "papermill": {
     "duration": 0.050006,
     "end_time": "2021-03-08T16:38:33.403722",
     "exception": false,
     "start_time": "2021-03-08T16:38:33.353716",
     "status": "completed"
    },
    "tags": []
   },
   "outputs": [
    {
     "data": {
      "text/plain": [
       "PosixPath('/home/miltondp/projects/labs/greenelab/phenoplier/bases_data/base_orig/data/multiplier/multiplier_model_b.tsv.gz')"
      ]
     },
     "metadata": {},
     "output_type": "display_data"
    }
   ],
   "source": [
    "# tsv format\n",
    "output_text_file = output_file.with_suffix(\".tsv.gz\")\n",
    "display(output_text_file)"
   ]
  },
  {
   "cell_type": "code",
   "execution_count": 55,
   "metadata": {
    "papermill": {
     "duration": 225.335348,
     "end_time": "2021-03-08T16:42:18.778019",
     "exception": false,
     "start_time": "2021-03-08T16:38:33.442671",
     "status": "completed"
    },
    "tags": []
   },
   "outputs": [],
   "source": [
    "multiplier_model_matrix_df.to_csv(\n",
    "    output_text_file, sep=\"\\t\", index=True, float_format=\"%.5e\"\n",
    ")"
   ]
  },
  {
   "cell_type": "code",
   "execution_count": 26,
   "metadata": {
    "papermill": {
     "duration": 0.053341,
     "end_time": "2021-03-08T16:37:14.523482",
     "exception": false,
     "start_time": "2021-03-08T16:37:14.470141",
     "status": "completed"
    },
    "tags": []
   },
   "outputs": [
    {
     "data": {
      "text/plain": [
       "PosixPath('/home/miltondp/projects/labs/greenelab/phenoplier/data/multiplier/multiplier_model_summary.tsv.gz')"
      ]
     },
     "execution_count": 26,
     "metadata": {},
     "output_type": "execute_result"
    }
   ],
   "source": [
    "# copy to deliverables folder\n",
    "copyfile(\n",
    "    output_text_file,\n",
    "    OUTPUT_DIR / output_text_file.name,\n",
    ")"
   ]
  },
  {
   "cell_type": "markdown",
   "metadata": {
    "papermill": {
     "duration": 0.039846,
     "end_time": "2021-03-08T16:42:18.857699",
     "exception": false,
     "start_time": "2021-03-08T16:42:18.817853",
     "status": "completed"
    },
    "tags": []
   },
   "source": [
    "# Matrix U (gene sets x LVs)"
   ]
  },
  {
   "cell_type": "code",
   "execution_count": 57,
   "metadata": {
    "papermill": {
     "duration": 0.049735,
     "end_time": "2021-03-08T16:42:18.946774",
     "exception": false,
     "start_time": "2021-03-08T16:42:18.897039",
     "status": "completed"
    },
    "tags": []
   },
   "outputs": [],
   "source": [
    "multiplier_model_matrix = multiplier_full_model.rx2(\"U\")"
   ]
  },
  {
   "cell_type": "code",
   "execution_count": 58,
   "metadata": {
    "papermill": {
     "duration": 0.050323,
     "end_time": "2021-03-08T16:42:19.036651",
     "exception": false,
     "start_time": "2021-03-08T16:42:18.986328",
     "status": "completed"
    },
    "tags": []
   },
   "outputs": [
    {
     "data": {
      "text/html": [
       "\n",
       "        <span>FloatMatrix with 619836 elements.</span>\n",
       "        <table>\n",
       "        <tbody>\n",
       "          <tr>\n",
       "          \n",
       "            <td>\n",
       "            0.000000\n",
       "            </td>\n",
       "          \n",
       "            <td>\n",
       "            0.000000\n",
       "            </td>\n",
       "          \n",
       "            <td>\n",
       "            0.000000\n",
       "            </td>\n",
       "          \n",
       "            <td>\n",
       "            ...\n",
       "            </td>\n",
       "          \n",
       "            <td>\n",
       "            0.000000\n",
       "            </td>\n",
       "          \n",
       "            <td>\n",
       "            0.000000\n",
       "            </td>\n",
       "          \n",
       "            <td>\n",
       "            0.000000\n",
       "            </td>\n",
       "          \n",
       "          </tr>\n",
       "        </tbody>\n",
       "        </table>\n",
       "        "
      ],
      "text/plain": [
       "R object with classes: ('matrix',) mapped to:\n",
       "[0.000000, 0.000000, 0.000000, 0.000000, ..., 0.000000, 0.000000, 0.000000, 0.000000]"
      ]
     },
     "execution_count": 58,
     "metadata": {},
     "output_type": "execute_result"
    }
   ],
   "source": [
    "multiplier_model_matrix"
   ]
  },
  {
   "cell_type": "code",
   "execution_count": 59,
   "metadata": {
    "papermill": {
     "duration": 0.050357,
     "end_time": "2021-03-08T16:42:19.126781",
     "exception": false,
     "start_time": "2021-03-08T16:42:19.076424",
     "status": "completed"
    },
    "tags": []
   },
   "outputs": [
    {
     "data": {
      "text/html": [
       "\n",
       "        <span>StrVector with 628 elements.</span>\n",
       "        <table>\n",
       "        <tbody>\n",
       "          <tr>\n",
       "          \n",
       "            <td>\n",
       "            'IRIS_Bce...\n",
       "            </td>\n",
       "          \n",
       "            <td>\n",
       "            'IRIS_Bce...\n",
       "            </td>\n",
       "          \n",
       "            <td>\n",
       "            'IRIS_Bce...\n",
       "            </td>\n",
       "          \n",
       "            <td>\n",
       "            ...\n",
       "            </td>\n",
       "          \n",
       "            <td>\n",
       "            'PID_BCR_...\n",
       "            </td>\n",
       "          \n",
       "            <td>\n",
       "            'PID_TELO...\n",
       "            </td>\n",
       "          \n",
       "            <td>\n",
       "            'PID_PI3K...\n",
       "            </td>\n",
       "          \n",
       "          </tr>\n",
       "        </tbody>\n",
       "        </table>\n",
       "        "
      ],
      "text/plain": [
       "R object with classes: ('character',) mapped to:\n",
       "['IRIS_Bce..., 'IRIS_Bce..., 'IRIS_Bce..., 'IRIS_CD4..., ..., 'REACTOME..., 'PID_BCR_..., 'PID_TELO..., 'PID_PI3K...]"
      ]
     },
     "execution_count": 59,
     "metadata": {},
     "output_type": "execute_result"
    }
   ],
   "source": [
    "multiplier_model_matrix.rownames"
   ]
  },
  {
   "cell_type": "code",
   "execution_count": 60,
   "metadata": {
    "papermill": {
     "duration": 0.05006,
     "end_time": "2021-03-08T16:42:19.216398",
     "exception": false,
     "start_time": "2021-03-08T16:42:19.166338",
     "status": "completed"
    },
    "tags": []
   },
   "outputs": [
    {
     "data": {
      "text/html": [
       "\n",
       "        <span>StrVector with 987 elements.</span>\n",
       "        <table>\n",
       "        <tbody>\n",
       "          <tr>\n",
       "          \n",
       "            <td>\n",
       "            'LV1'\n",
       "            </td>\n",
       "          \n",
       "            <td>\n",
       "            'LV2'\n",
       "            </td>\n",
       "          \n",
       "            <td>\n",
       "            'LV3'\n",
       "            </td>\n",
       "          \n",
       "            <td>\n",
       "            ...\n",
       "            </td>\n",
       "          \n",
       "            <td>\n",
       "            'LV985'\n",
       "            </td>\n",
       "          \n",
       "            <td>\n",
       "            'LV986'\n",
       "            </td>\n",
       "          \n",
       "            <td>\n",
       "            'LV987'\n",
       "            </td>\n",
       "          \n",
       "          </tr>\n",
       "        </tbody>\n",
       "        </table>\n",
       "        "
      ],
      "text/plain": [
       "R object with classes: ('character',) mapped to:\n",
       "['LV1', 'LV2', 'LV3', 'LV4', ..., 'LV984', 'LV985', 'LV986', 'LV987']"
      ]
     },
     "execution_count": 60,
     "metadata": {},
     "output_type": "execute_result"
    }
   ],
   "source": [
    "multiplier_model_matrix.colnames"
   ]
  },
  {
   "cell_type": "code",
   "execution_count": 61,
   "metadata": {
    "papermill": {
     "duration": 0.050424,
     "end_time": "2021-03-08T16:42:19.307058",
     "exception": false,
     "start_time": "2021-03-08T16:42:19.256634",
     "status": "completed"
    },
    "tags": []
   },
   "outputs": [],
   "source": [
    "with localconverter(ro.default_converter + pandas2ri.converter):\n",
    "    multiplier_model_matrix_values = ro.conversion.rpy2py(multiplier_model_matrix)"
   ]
  },
  {
   "cell_type": "code",
   "execution_count": 62,
   "metadata": {
    "papermill": {
     "duration": 0.053562,
     "end_time": "2021-03-08T16:42:19.400365",
     "exception": false,
     "start_time": "2021-03-08T16:42:19.346803",
     "status": "completed"
    },
    "tags": []
   },
   "outputs": [],
   "source": [
    "multiplier_model_matrix_df = pd.DataFrame(\n",
    "    data=multiplier_model_matrix_values,\n",
    "    index=multiplier_model_matrix.rownames,\n",
    "    columns=multiplier_model_matrix.colnames,\n",
    ")"
   ]
  },
  {
   "cell_type": "code",
   "execution_count": 63,
   "metadata": {
    "papermill": {
     "duration": 0.051021,
     "end_time": "2021-03-08T16:42:19.491875",
     "exception": false,
     "start_time": "2021-03-08T16:42:19.440854",
     "status": "completed"
    },
    "tags": []
   },
   "outputs": [
    {
     "data": {
      "text/plain": [
       "(628, 987)"
      ]
     },
     "metadata": {},
     "output_type": "display_data"
    }
   ],
   "source": [
    "display(multiplier_model_matrix_df.shape)\n",
    "assert multiplier_model_matrix_df.shape == (628, 987)"
   ]
  },
  {
   "cell_type": "code",
   "execution_count": 64,
   "metadata": {
    "papermill": {
     "duration": 0.064773,
     "end_time": "2021-03-08T16:42:19.599753",
     "exception": false,
     "start_time": "2021-03-08T16:42:19.534980",
     "status": "completed"
    },
    "tags": []
   },
   "outputs": [
    {
     "data": {
      "text/html": [
       "<div>\n",
       "<style scoped>\n",
       "    .dataframe tbody tr th:only-of-type {\n",
       "        vertical-align: middle;\n",
       "    }\n",
       "\n",
       "    .dataframe tbody tr th {\n",
       "        vertical-align: top;\n",
       "    }\n",
       "\n",
       "    .dataframe thead th {\n",
       "        text-align: right;\n",
       "    }\n",
       "</style>\n",
       "<table border=\"1\" class=\"dataframe\">\n",
       "  <thead>\n",
       "    <tr style=\"text-align: right;\">\n",
       "      <th></th>\n",
       "      <th>LV1</th>\n",
       "      <th>LV2</th>\n",
       "      <th>LV3</th>\n",
       "      <th>LV4</th>\n",
       "      <th>LV5</th>\n",
       "      <th>LV6</th>\n",
       "      <th>LV7</th>\n",
       "      <th>LV8</th>\n",
       "      <th>LV9</th>\n",
       "      <th>LV10</th>\n",
       "      <th>...</th>\n",
       "      <th>LV978</th>\n",
       "      <th>LV979</th>\n",
       "      <th>LV980</th>\n",
       "      <th>LV981</th>\n",
       "      <th>LV982</th>\n",
       "      <th>LV983</th>\n",
       "      <th>LV984</th>\n",
       "      <th>LV985</th>\n",
       "      <th>LV986</th>\n",
       "      <th>LV987</th>\n",
       "    </tr>\n",
       "  </thead>\n",
       "  <tbody>\n",
       "    <tr>\n",
       "      <th>IRIS_Bcell-Memory_IgG_IgA</th>\n",
       "      <td>0.0</td>\n",
       "      <td>0.0</td>\n",
       "      <td>0.0</td>\n",
       "      <td>0.0</td>\n",
       "      <td>0.0</td>\n",
       "      <td>0.0</td>\n",
       "      <td>0.0</td>\n",
       "      <td>0.0</td>\n",
       "      <td>0.0</td>\n",
       "      <td>0.0</td>\n",
       "      <td>...</td>\n",
       "      <td>0.0</td>\n",
       "      <td>0.0</td>\n",
       "      <td>0.0</td>\n",
       "      <td>0.0</td>\n",
       "      <td>0.0</td>\n",
       "      <td>0.0</td>\n",
       "      <td>0.0</td>\n",
       "      <td>0.0</td>\n",
       "      <td>0.0</td>\n",
       "      <td>0.0</td>\n",
       "    </tr>\n",
       "    <tr>\n",
       "      <th>IRIS_Bcell-Memory_IgM</th>\n",
       "      <td>0.0</td>\n",
       "      <td>0.0</td>\n",
       "      <td>0.0</td>\n",
       "      <td>0.0</td>\n",
       "      <td>0.0</td>\n",
       "      <td>0.0</td>\n",
       "      <td>0.0</td>\n",
       "      <td>0.0</td>\n",
       "      <td>0.0</td>\n",
       "      <td>0.0</td>\n",
       "      <td>...</td>\n",
       "      <td>0.0</td>\n",
       "      <td>0.0</td>\n",
       "      <td>0.0</td>\n",
       "      <td>0.0</td>\n",
       "      <td>0.0</td>\n",
       "      <td>0.0</td>\n",
       "      <td>0.0</td>\n",
       "      <td>0.0</td>\n",
       "      <td>0.0</td>\n",
       "      <td>0.0</td>\n",
       "    </tr>\n",
       "    <tr>\n",
       "      <th>IRIS_Bcell-naive</th>\n",
       "      <td>0.0</td>\n",
       "      <td>0.0</td>\n",
       "      <td>0.0</td>\n",
       "      <td>0.0</td>\n",
       "      <td>0.0</td>\n",
       "      <td>0.0</td>\n",
       "      <td>0.0</td>\n",
       "      <td>0.0</td>\n",
       "      <td>0.0</td>\n",
       "      <td>0.0</td>\n",
       "      <td>...</td>\n",
       "      <td>0.0</td>\n",
       "      <td>0.0</td>\n",
       "      <td>0.0</td>\n",
       "      <td>0.0</td>\n",
       "      <td>0.0</td>\n",
       "      <td>0.0</td>\n",
       "      <td>0.0</td>\n",
       "      <td>0.0</td>\n",
       "      <td>0.0</td>\n",
       "      <td>0.0</td>\n",
       "    </tr>\n",
       "    <tr>\n",
       "      <th>IRIS_CD4Tcell-N0</th>\n",
       "      <td>0.0</td>\n",
       "      <td>0.0</td>\n",
       "      <td>0.0</td>\n",
       "      <td>0.0</td>\n",
       "      <td>0.0</td>\n",
       "      <td>0.0</td>\n",
       "      <td>0.0</td>\n",
       "      <td>0.0</td>\n",
       "      <td>0.0</td>\n",
       "      <td>0.0</td>\n",
       "      <td>...</td>\n",
       "      <td>0.0</td>\n",
       "      <td>0.0</td>\n",
       "      <td>0.0</td>\n",
       "      <td>0.0</td>\n",
       "      <td>0.0</td>\n",
       "      <td>0.0</td>\n",
       "      <td>0.0</td>\n",
       "      <td>0.0</td>\n",
       "      <td>0.0</td>\n",
       "      <td>0.0</td>\n",
       "    </tr>\n",
       "    <tr>\n",
       "      <th>IRIS_CD4Tcell-Th1-restimulated12hour</th>\n",
       "      <td>0.0</td>\n",
       "      <td>0.0</td>\n",
       "      <td>0.0</td>\n",
       "      <td>0.0</td>\n",
       "      <td>0.0</td>\n",
       "      <td>0.0</td>\n",
       "      <td>0.0</td>\n",
       "      <td>0.0</td>\n",
       "      <td>0.0</td>\n",
       "      <td>0.0</td>\n",
       "      <td>...</td>\n",
       "      <td>0.0</td>\n",
       "      <td>0.0</td>\n",
       "      <td>0.0</td>\n",
       "      <td>0.0</td>\n",
       "      <td>0.0</td>\n",
       "      <td>0.0</td>\n",
       "      <td>0.0</td>\n",
       "      <td>0.0</td>\n",
       "      <td>0.0</td>\n",
       "      <td>0.0</td>\n",
       "    </tr>\n",
       "  </tbody>\n",
       "</table>\n",
       "<p>5 rows × 987 columns</p>\n",
       "</div>"
      ],
      "text/plain": [
       "                                      LV1  LV2  LV3  LV4  LV5  LV6  LV7  LV8  \\\n",
       "IRIS_Bcell-Memory_IgG_IgA             0.0  0.0  0.0  0.0  0.0  0.0  0.0  0.0   \n",
       "IRIS_Bcell-Memory_IgM                 0.0  0.0  0.0  0.0  0.0  0.0  0.0  0.0   \n",
       "IRIS_Bcell-naive                      0.0  0.0  0.0  0.0  0.0  0.0  0.0  0.0   \n",
       "IRIS_CD4Tcell-N0                      0.0  0.0  0.0  0.0  0.0  0.0  0.0  0.0   \n",
       "IRIS_CD4Tcell-Th1-restimulated12hour  0.0  0.0  0.0  0.0  0.0  0.0  0.0  0.0   \n",
       "\n",
       "                                      LV9  LV10  ...  LV978  LV979  LV980  \\\n",
       "IRIS_Bcell-Memory_IgG_IgA             0.0   0.0  ...    0.0    0.0    0.0   \n",
       "IRIS_Bcell-Memory_IgM                 0.0   0.0  ...    0.0    0.0    0.0   \n",
       "IRIS_Bcell-naive                      0.0   0.0  ...    0.0    0.0    0.0   \n",
       "IRIS_CD4Tcell-N0                      0.0   0.0  ...    0.0    0.0    0.0   \n",
       "IRIS_CD4Tcell-Th1-restimulated12hour  0.0   0.0  ...    0.0    0.0    0.0   \n",
       "\n",
       "                                      LV981  LV982  LV983  LV984  LV985  \\\n",
       "IRIS_Bcell-Memory_IgG_IgA               0.0    0.0    0.0    0.0    0.0   \n",
       "IRIS_Bcell-Memory_IgM                   0.0    0.0    0.0    0.0    0.0   \n",
       "IRIS_Bcell-naive                        0.0    0.0    0.0    0.0    0.0   \n",
       "IRIS_CD4Tcell-N0                        0.0    0.0    0.0    0.0    0.0   \n",
       "IRIS_CD4Tcell-Th1-restimulated12hour    0.0    0.0    0.0    0.0    0.0   \n",
       "\n",
       "                                      LV986  LV987  \n",
       "IRIS_Bcell-Memory_IgG_IgA               0.0    0.0  \n",
       "IRIS_Bcell-Memory_IgM                   0.0    0.0  \n",
       "IRIS_Bcell-naive                        0.0    0.0  \n",
       "IRIS_CD4Tcell-N0                        0.0    0.0  \n",
       "IRIS_CD4Tcell-Th1-restimulated12hour    0.0    0.0  \n",
       "\n",
       "[5 rows x 987 columns]"
      ]
     },
     "execution_count": 64,
     "metadata": {},
     "output_type": "execute_result"
    }
   ],
   "source": [
    "multiplier_model_matrix_df.head()"
   ]
  },
  {
   "cell_type": "code",
   "execution_count": 65,
   "metadata": {
    "papermill": {
     "duration": 0.052134,
     "end_time": "2021-03-08T16:42:19.692795",
     "exception": false,
     "start_time": "2021-03-08T16:42:19.640661",
     "status": "completed"
    },
    "tags": []
   },
   "outputs": [],
   "source": [
    "# make sure I'm seeing the same when loaded with R\n",
    "assert multiplier_model_matrix_df.loc[\"IRIS_Bcell-Memory_IgG_IgA\", \"LV1\"] == 0\n",
    "assert (\n",
    "    multiplier_model_matrix_df.loc[\"IRIS_Bcell-Memory_IgG_IgA\", \"LV898\"].round(7)\n",
    "    == 0.5327689\n",
    ")\n",
    "assert (\n",
    "    multiplier_model_matrix_df.loc[\"IRIS_Bcell-Memory_IgG_IgA\", \"LV977\"].round(7)\n",
    "    == 0.1000158\n",
    ")\n",
    "assert multiplier_model_matrix_df.loc[\"IRIS_Bcell-Memory_IgG_IgA\", \"LV986\"] == 0\n",
    "assert multiplier_model_matrix_df.loc[\"IRIS_Bcell-Memory_IgG_IgA\", \"LV987\"] == 0\n",
    "\n",
    "assert (\n",
    "    multiplier_model_matrix_df.loc[\"IRIS_Bcell-naive\", \"LV851\"].round(8) == 0.01330388\n",
    ")\n",
    "assert multiplier_model_matrix_df.loc[\"IRIS_Bcell-naive\", \"LV977\"].round(7) == 0.3966446"
   ]
  },
  {
   "cell_type": "markdown",
   "metadata": {
    "papermill": {
     "duration": 0.0403,
     "end_time": "2021-03-08T16:42:19.774725",
     "exception": false,
     "start_time": "2021-03-08T16:42:19.734425",
     "status": "completed"
    },
    "tags": []
   },
   "source": [
    "## Save"
   ]
  },
  {
   "cell_type": "markdown",
   "metadata": {
    "papermill": {
     "duration": 0.04028,
     "end_time": "2021-03-08T16:42:19.855055",
     "exception": false,
     "start_time": "2021-03-08T16:42:19.814775",
     "status": "completed"
    },
    "tags": []
   },
   "source": [
    "### Pickle format"
   ]
  },
  {
   "cell_type": "code",
   "execution_count": 66,
   "metadata": {
    "papermill": {
     "duration": 0.051808,
     "end_time": "2021-03-08T16:42:19.947998",
     "exception": false,
     "start_time": "2021-03-08T16:42:19.896190",
     "status": "completed"
    },
    "tags": []
   },
   "outputs": [
    {
     "data": {
      "text/plain": [
       "PosixPath('/home/miltondp/projects/labs/greenelab/phenoplier/bases_data/base_orig/data/multiplier/multiplier_model_u.pkl')"
      ]
     },
     "metadata": {},
     "output_type": "display_data"
    }
   ],
   "source": [
    "output_file = conf.MULTIPLIER[\"MODEL_U_MATRIX_FILE\"]\n",
    "display(output_file)"
   ]
  },
  {
   "cell_type": "code",
   "execution_count": 67,
   "metadata": {
    "papermill": {
     "duration": 0.055177,
     "end_time": "2021-03-08T16:42:20.043853",
     "exception": false,
     "start_time": "2021-03-08T16:42:19.988676",
     "status": "completed"
    },
    "tags": []
   },
   "outputs": [],
   "source": [
    "multiplier_model_matrix_df.to_pickle(output_file)"
   ]
  },
  {
   "cell_type": "code",
   "execution_count": 26,
   "metadata": {
    "papermill": {
     "duration": 0.053341,
     "end_time": "2021-03-08T16:37:14.523482",
     "exception": false,
     "start_time": "2021-03-08T16:37:14.470141",
     "status": "completed"
    },
    "tags": []
   },
   "outputs": [
    {
     "data": {
      "text/plain": [
       "PosixPath('/home/miltondp/projects/labs/greenelab/phenoplier/data/multiplier/multiplier_model_summary.tsv.gz')"
      ]
     },
     "execution_count": 26,
     "metadata": {},
     "output_type": "execute_result"
    }
   ],
   "source": [
    "# copy to deliverables folder\n",
    "copyfile(\n",
    "    output_file,\n",
    "    OUTPUT_DIR / output_file.name,\n",
    ")"
   ]
  },
  {
   "cell_type": "markdown",
   "metadata": {
    "papermill": {
     "duration": 0.034568,
     "end_time": "2021-03-08T16:38:07.488567",
     "exception": false,
     "start_time": "2021-03-08T16:38:07.453999",
     "status": "completed"
    },
    "tags": []
   },
   "source": [
    "### RDS format"
   ]
  },
  {
   "cell_type": "code",
   "execution_count": 68,
   "metadata": {
    "papermill": {
     "duration": 0.048654,
     "end_time": "2021-03-08T16:38:07.572197",
     "exception": false,
     "start_time": "2021-03-08T16:38:07.523543",
     "status": "completed"
    },
    "tags": []
   },
   "outputs": [
    {
     "data": {
      "text/plain": [
       "PosixPath('/home/miltondp/projects/labs/greenelab/phenoplier/bases_data/base_orig/data/multiplier/multiplier_model_u.rds')"
      ]
     },
     "metadata": {},
     "output_type": "display_data"
    }
   ],
   "source": [
    "output_rds_file = output_file.with_suffix(\".rds\")\n",
    "display(output_rds_file)"
   ]
  },
  {
   "cell_type": "code",
   "execution_count": 69,
   "metadata": {},
   "outputs": [
    {
     "data": {
      "text/plain": [
       "<rpy2.rinterface_lib.sexp.NULLType object at 0x7f988ce29040> [RTYPES.NILSXP]"
      ]
     },
     "execution_count": 69,
     "metadata": {},
     "output_type": "execute_result"
    }
   ],
   "source": [
    "saveRDS(multiplier_model_matrix, str(output_rds_file))"
   ]
  },
  {
   "cell_type": "code",
   "execution_count": 26,
   "metadata": {
    "papermill": {
     "duration": 0.053341,
     "end_time": "2021-03-08T16:37:14.523482",
     "exception": false,
     "start_time": "2021-03-08T16:37:14.470141",
     "status": "completed"
    },
    "tags": []
   },
   "outputs": [
    {
     "data": {
      "text/plain": [
       "PosixPath('/home/miltondp/projects/labs/greenelab/phenoplier/data/multiplier/multiplier_model_summary.tsv.gz')"
      ]
     },
     "execution_count": 26,
     "metadata": {},
     "output_type": "execute_result"
    }
   ],
   "source": [
    "# copy to deliverables folder\n",
    "copyfile(\n",
    "    output_rds_file,\n",
    "    OUTPUT_DIR / output_rds_file.name,\n",
    ")"
   ]
  },
  {
   "cell_type": "markdown",
   "metadata": {
    "papermill": {
     "duration": 0.040615,
     "end_time": "2021-03-08T16:42:20.125424",
     "exception": false,
     "start_time": "2021-03-08T16:42:20.084809",
     "status": "completed"
    },
    "tags": []
   },
   "source": [
    "### Text format"
   ]
  },
  {
   "cell_type": "code",
   "execution_count": 70,
   "metadata": {
    "papermill": {
     "duration": 0.050892,
     "end_time": "2021-03-08T16:42:20.216402",
     "exception": false,
     "start_time": "2021-03-08T16:42:20.165510",
     "status": "completed"
    },
    "tags": []
   },
   "outputs": [
    {
     "data": {
      "text/plain": [
       "PosixPath('/home/miltondp/projects/labs/greenelab/phenoplier/bases_data/base_orig/data/multiplier/multiplier_model_u.tsv.gz')"
      ]
     },
     "metadata": {},
     "output_type": "display_data"
    }
   ],
   "source": [
    "# tsv format\n",
    "output_text_file = output_file.with_suffix(\".tsv.gz\")\n",
    "display(output_text_file)"
   ]
  },
  {
   "cell_type": "code",
   "execution_count": 71,
   "metadata": {
    "papermill": {
     "duration": 0.86339,
     "end_time": "2021-03-08T16:42:21.120741",
     "exception": false,
     "start_time": "2021-03-08T16:42:20.257351",
     "status": "completed"
    },
    "tags": []
   },
   "outputs": [],
   "source": [
    "multiplier_model_matrix_df.to_csv(\n",
    "    output_text_file, sep=\"\\t\", index=True, float_format=\"%.5e\"\n",
    ")"
   ]
  },
  {
   "cell_type": "code",
   "execution_count": 26,
   "metadata": {
    "papermill": {
     "duration": 0.053341,
     "end_time": "2021-03-08T16:37:14.523482",
     "exception": false,
     "start_time": "2021-03-08T16:37:14.470141",
     "status": "completed"
    },
    "tags": []
   },
   "outputs": [
    {
     "data": {
      "text/plain": [
       "PosixPath('/home/miltondp/projects/labs/greenelab/phenoplier/data/multiplier/multiplier_model_summary.tsv.gz')"
      ]
     },
     "execution_count": 26,
     "metadata": {},
     "output_type": "execute_result"
    }
   ],
   "source": [
    "# copy to deliverables folder\n",
    "copyfile(\n",
    "    output_text_file,\n",
    "    OUTPUT_DIR / output_text_file.name,\n",
    ")"
   ]
  },
  {
   "cell_type": "markdown",
   "metadata": {
    "papermill": {
     "duration": 0.040302,
     "end_time": "2021-03-08T16:42:21.202045",
     "exception": false,
     "start_time": "2021-03-08T16:42:21.161743",
     "status": "completed"
    },
    "tags": []
   },
   "source": [
    "# Matrix U - AUC"
   ]
  },
  {
   "cell_type": "code",
   "execution_count": 72,
   "metadata": {
    "papermill": {
     "duration": 0.049939,
     "end_time": "2021-03-08T16:42:21.292658",
     "exception": false,
     "start_time": "2021-03-08T16:42:21.242719",
     "status": "completed"
    },
    "tags": []
   },
   "outputs": [],
   "source": [
    "multiplier_model_matrix = multiplier_full_model.rx2(\"Uauc\")"
   ]
  },
  {
   "cell_type": "code",
   "execution_count": 73,
   "metadata": {
    "papermill": {
     "duration": 0.051331,
     "end_time": "2021-03-08T16:42:21.385115",
     "exception": false,
     "start_time": "2021-03-08T16:42:21.333784",
     "status": "completed"
    },
    "tags": []
   },
   "outputs": [
    {
     "data": {
      "text/html": [
       "\n",
       "        <span>FloatMatrix with 619836 elements.</span>\n",
       "        <table>\n",
       "        <tbody>\n",
       "          <tr>\n",
       "          \n",
       "            <td>\n",
       "            0.000000\n",
       "            </td>\n",
       "          \n",
       "            <td>\n",
       "            0.000000\n",
       "            </td>\n",
       "          \n",
       "            <td>\n",
       "            0.000000\n",
       "            </td>\n",
       "          \n",
       "            <td>\n",
       "            ...\n",
       "            </td>\n",
       "          \n",
       "            <td>\n",
       "            0.000000\n",
       "            </td>\n",
       "          \n",
       "            <td>\n",
       "            0.000000\n",
       "            </td>\n",
       "          \n",
       "            <td>\n",
       "            0.000000\n",
       "            </td>\n",
       "          \n",
       "          </tr>\n",
       "        </tbody>\n",
       "        </table>\n",
       "        "
      ],
      "text/plain": [
       "R object with classes: ('matrix',) mapped to:\n",
       "[0.000000, 0.000000, 0.000000, 0.000000, ..., 0.000000, 0.000000, 0.000000, 0.000000]"
      ]
     },
     "execution_count": 73,
     "metadata": {},
     "output_type": "execute_result"
    }
   ],
   "source": [
    "multiplier_model_matrix"
   ]
  },
  {
   "cell_type": "code",
   "execution_count": 74,
   "metadata": {
    "papermill": {
     "duration": 0.052598,
     "end_time": "2021-03-08T16:42:21.479471",
     "exception": false,
     "start_time": "2021-03-08T16:42:21.426873",
     "status": "completed"
    },
    "tags": []
   },
   "outputs": [
    {
     "data": {
      "text/html": [
       "\n",
       "        <span>StrVector with 628 elements.</span>\n",
       "        <table>\n",
       "        <tbody>\n",
       "          <tr>\n",
       "          \n",
       "            <td>\n",
       "            'IRIS_Bce...\n",
       "            </td>\n",
       "          \n",
       "            <td>\n",
       "            'IRIS_Bce...\n",
       "            </td>\n",
       "          \n",
       "            <td>\n",
       "            'IRIS_Bce...\n",
       "            </td>\n",
       "          \n",
       "            <td>\n",
       "            ...\n",
       "            </td>\n",
       "          \n",
       "            <td>\n",
       "            'PID_BCR_...\n",
       "            </td>\n",
       "          \n",
       "            <td>\n",
       "            'PID_TELO...\n",
       "            </td>\n",
       "          \n",
       "            <td>\n",
       "            'PID_PI3K...\n",
       "            </td>\n",
       "          \n",
       "          </tr>\n",
       "        </tbody>\n",
       "        </table>\n",
       "        "
      ],
      "text/plain": [
       "R object with classes: ('character',) mapped to:\n",
       "['IRIS_Bce..., 'IRIS_Bce..., 'IRIS_Bce..., 'IRIS_CD4..., ..., 'REACTOME..., 'PID_BCR_..., 'PID_TELO..., 'PID_PI3K...]"
      ]
     },
     "execution_count": 74,
     "metadata": {},
     "output_type": "execute_result"
    }
   ],
   "source": [
    "multiplier_model_matrix.rownames"
   ]
  },
  {
   "cell_type": "code",
   "execution_count": 75,
   "metadata": {
    "papermill": {
     "duration": 0.060353,
     "end_time": "2021-03-08T16:42:21.599412",
     "exception": false,
     "start_time": "2021-03-08T16:42:21.539059",
     "status": "completed"
    },
    "tags": []
   },
   "outputs": [
    {
     "data": {
      "text/html": [
       "\n",
       "        <span>StrVector with 987 elements.</span>\n",
       "        <table>\n",
       "        <tbody>\n",
       "          <tr>\n",
       "          \n",
       "            <td>\n",
       "            'LV1'\n",
       "            </td>\n",
       "          \n",
       "            <td>\n",
       "            'LV2'\n",
       "            </td>\n",
       "          \n",
       "            <td>\n",
       "            'LV3'\n",
       "            </td>\n",
       "          \n",
       "            <td>\n",
       "            ...\n",
       "            </td>\n",
       "          \n",
       "            <td>\n",
       "            'LV985'\n",
       "            </td>\n",
       "          \n",
       "            <td>\n",
       "            'LV986'\n",
       "            </td>\n",
       "          \n",
       "            <td>\n",
       "            'LV987'\n",
       "            </td>\n",
       "          \n",
       "          </tr>\n",
       "        </tbody>\n",
       "        </table>\n",
       "        "
      ],
      "text/plain": [
       "R object with classes: ('character',) mapped to:\n",
       "['LV1', 'LV2', 'LV3', 'LV4', ..., 'LV984', 'LV985', 'LV986', 'LV987']"
      ]
     },
     "execution_count": 75,
     "metadata": {},
     "output_type": "execute_result"
    }
   ],
   "source": [
    "multiplier_model_matrix.colnames"
   ]
  },
  {
   "cell_type": "code",
   "execution_count": 76,
   "metadata": {
    "papermill": {
     "duration": 0.053378,
     "end_time": "2021-03-08T16:42:21.694753",
     "exception": false,
     "start_time": "2021-03-08T16:42:21.641375",
     "status": "completed"
    },
    "tags": []
   },
   "outputs": [],
   "source": [
    "with localconverter(ro.default_converter + pandas2ri.converter):\n",
    "    multiplier_model_matrix_values = ro.conversion.rpy2py(multiplier_model_matrix)"
   ]
  },
  {
   "cell_type": "code",
   "execution_count": 77,
   "metadata": {
    "papermill": {
     "duration": 0.056458,
     "end_time": "2021-03-08T16:42:21.794433",
     "exception": false,
     "start_time": "2021-03-08T16:42:21.737975",
     "status": "completed"
    },
    "tags": []
   },
   "outputs": [],
   "source": [
    "multiplier_model_matrix_df = pd.DataFrame(\n",
    "    data=multiplier_model_matrix_values,\n",
    "    index=multiplier_model_matrix.rownames,\n",
    "    columns=multiplier_model_matrix.colnames,\n",
    ")"
   ]
  },
  {
   "cell_type": "code",
   "execution_count": 78,
   "metadata": {
    "papermill": {
     "duration": 0.052284,
     "end_time": "2021-03-08T16:42:21.888437",
     "exception": false,
     "start_time": "2021-03-08T16:42:21.836153",
     "status": "completed"
    },
    "tags": []
   },
   "outputs": [
    {
     "data": {
      "text/plain": [
       "(628, 987)"
      ]
     },
     "metadata": {},
     "output_type": "display_data"
    }
   ],
   "source": [
    "display(multiplier_model_matrix_df.shape)\n",
    "assert multiplier_model_matrix_df.shape == (628, 987)"
   ]
  },
  {
   "cell_type": "code",
   "execution_count": 79,
   "metadata": {
    "papermill": {
     "duration": 0.064626,
     "end_time": "2021-03-08T16:42:21.995368",
     "exception": false,
     "start_time": "2021-03-08T16:42:21.930742",
     "status": "completed"
    },
    "tags": []
   },
   "outputs": [
    {
     "data": {
      "text/html": [
       "<div>\n",
       "<style scoped>\n",
       "    .dataframe tbody tr th:only-of-type {\n",
       "        vertical-align: middle;\n",
       "    }\n",
       "\n",
       "    .dataframe tbody tr th {\n",
       "        vertical-align: top;\n",
       "    }\n",
       "\n",
       "    .dataframe thead th {\n",
       "        text-align: right;\n",
       "    }\n",
       "</style>\n",
       "<table border=\"1\" class=\"dataframe\">\n",
       "  <thead>\n",
       "    <tr style=\"text-align: right;\">\n",
       "      <th></th>\n",
       "      <th>LV1</th>\n",
       "      <th>LV2</th>\n",
       "      <th>LV3</th>\n",
       "      <th>LV4</th>\n",
       "      <th>LV5</th>\n",
       "      <th>LV6</th>\n",
       "      <th>LV7</th>\n",
       "      <th>LV8</th>\n",
       "      <th>LV9</th>\n",
       "      <th>LV10</th>\n",
       "      <th>...</th>\n",
       "      <th>LV978</th>\n",
       "      <th>LV979</th>\n",
       "      <th>LV980</th>\n",
       "      <th>LV981</th>\n",
       "      <th>LV982</th>\n",
       "      <th>LV983</th>\n",
       "      <th>LV984</th>\n",
       "      <th>LV985</th>\n",
       "      <th>LV986</th>\n",
       "      <th>LV987</th>\n",
       "    </tr>\n",
       "  </thead>\n",
       "  <tbody>\n",
       "    <tr>\n",
       "      <th>IRIS_Bcell-Memory_IgG_IgA</th>\n",
       "      <td>0.0</td>\n",
       "      <td>0.0</td>\n",
       "      <td>0.0</td>\n",
       "      <td>0.0</td>\n",
       "      <td>0.0</td>\n",
       "      <td>0.0</td>\n",
       "      <td>0.0</td>\n",
       "      <td>0.0</td>\n",
       "      <td>0.0</td>\n",
       "      <td>0.0</td>\n",
       "      <td>...</td>\n",
       "      <td>0.0</td>\n",
       "      <td>0.0</td>\n",
       "      <td>0.0</td>\n",
       "      <td>0.0</td>\n",
       "      <td>0.0</td>\n",
       "      <td>0.0</td>\n",
       "      <td>0.0</td>\n",
       "      <td>0.0</td>\n",
       "      <td>0.0</td>\n",
       "      <td>0.0</td>\n",
       "    </tr>\n",
       "    <tr>\n",
       "      <th>IRIS_Bcell-Memory_IgM</th>\n",
       "      <td>0.0</td>\n",
       "      <td>0.0</td>\n",
       "      <td>0.0</td>\n",
       "      <td>0.0</td>\n",
       "      <td>0.0</td>\n",
       "      <td>0.0</td>\n",
       "      <td>0.0</td>\n",
       "      <td>0.0</td>\n",
       "      <td>0.0</td>\n",
       "      <td>0.0</td>\n",
       "      <td>...</td>\n",
       "      <td>0.0</td>\n",
       "      <td>0.0</td>\n",
       "      <td>0.0</td>\n",
       "      <td>0.0</td>\n",
       "      <td>0.0</td>\n",
       "      <td>0.0</td>\n",
       "      <td>0.0</td>\n",
       "      <td>0.0</td>\n",
       "      <td>0.0</td>\n",
       "      <td>0.0</td>\n",
       "    </tr>\n",
       "    <tr>\n",
       "      <th>IRIS_Bcell-naive</th>\n",
       "      <td>0.0</td>\n",
       "      <td>0.0</td>\n",
       "      <td>0.0</td>\n",
       "      <td>0.0</td>\n",
       "      <td>0.0</td>\n",
       "      <td>0.0</td>\n",
       "      <td>0.0</td>\n",
       "      <td>0.0</td>\n",
       "      <td>0.0</td>\n",
       "      <td>0.0</td>\n",
       "      <td>...</td>\n",
       "      <td>0.0</td>\n",
       "      <td>0.0</td>\n",
       "      <td>0.0</td>\n",
       "      <td>0.0</td>\n",
       "      <td>0.0</td>\n",
       "      <td>0.0</td>\n",
       "      <td>0.0</td>\n",
       "      <td>0.0</td>\n",
       "      <td>0.0</td>\n",
       "      <td>0.0</td>\n",
       "    </tr>\n",
       "    <tr>\n",
       "      <th>IRIS_CD4Tcell-N0</th>\n",
       "      <td>0.0</td>\n",
       "      <td>0.0</td>\n",
       "      <td>0.0</td>\n",
       "      <td>0.0</td>\n",
       "      <td>0.0</td>\n",
       "      <td>0.0</td>\n",
       "      <td>0.0</td>\n",
       "      <td>0.0</td>\n",
       "      <td>0.0</td>\n",
       "      <td>0.0</td>\n",
       "      <td>...</td>\n",
       "      <td>0.0</td>\n",
       "      <td>0.0</td>\n",
       "      <td>0.0</td>\n",
       "      <td>0.0</td>\n",
       "      <td>0.0</td>\n",
       "      <td>0.0</td>\n",
       "      <td>0.0</td>\n",
       "      <td>0.0</td>\n",
       "      <td>0.0</td>\n",
       "      <td>0.0</td>\n",
       "    </tr>\n",
       "    <tr>\n",
       "      <th>IRIS_CD4Tcell-Th1-restimulated12hour</th>\n",
       "      <td>0.0</td>\n",
       "      <td>0.0</td>\n",
       "      <td>0.0</td>\n",
       "      <td>0.0</td>\n",
       "      <td>0.0</td>\n",
       "      <td>0.0</td>\n",
       "      <td>0.0</td>\n",
       "      <td>0.0</td>\n",
       "      <td>0.0</td>\n",
       "      <td>0.0</td>\n",
       "      <td>...</td>\n",
       "      <td>0.0</td>\n",
       "      <td>0.0</td>\n",
       "      <td>0.0</td>\n",
       "      <td>0.0</td>\n",
       "      <td>0.0</td>\n",
       "      <td>0.0</td>\n",
       "      <td>0.0</td>\n",
       "      <td>0.0</td>\n",
       "      <td>0.0</td>\n",
       "      <td>0.0</td>\n",
       "    </tr>\n",
       "  </tbody>\n",
       "</table>\n",
       "<p>5 rows × 987 columns</p>\n",
       "</div>"
      ],
      "text/plain": [
       "                                      LV1  LV2  LV3  LV4  LV5  LV6  LV7  LV8  \\\n",
       "IRIS_Bcell-Memory_IgG_IgA             0.0  0.0  0.0  0.0  0.0  0.0  0.0  0.0   \n",
       "IRIS_Bcell-Memory_IgM                 0.0  0.0  0.0  0.0  0.0  0.0  0.0  0.0   \n",
       "IRIS_Bcell-naive                      0.0  0.0  0.0  0.0  0.0  0.0  0.0  0.0   \n",
       "IRIS_CD4Tcell-N0                      0.0  0.0  0.0  0.0  0.0  0.0  0.0  0.0   \n",
       "IRIS_CD4Tcell-Th1-restimulated12hour  0.0  0.0  0.0  0.0  0.0  0.0  0.0  0.0   \n",
       "\n",
       "                                      LV9  LV10  ...  LV978  LV979  LV980  \\\n",
       "IRIS_Bcell-Memory_IgG_IgA             0.0   0.0  ...    0.0    0.0    0.0   \n",
       "IRIS_Bcell-Memory_IgM                 0.0   0.0  ...    0.0    0.0    0.0   \n",
       "IRIS_Bcell-naive                      0.0   0.0  ...    0.0    0.0    0.0   \n",
       "IRIS_CD4Tcell-N0                      0.0   0.0  ...    0.0    0.0    0.0   \n",
       "IRIS_CD4Tcell-Th1-restimulated12hour  0.0   0.0  ...    0.0    0.0    0.0   \n",
       "\n",
       "                                      LV981  LV982  LV983  LV984  LV985  \\\n",
       "IRIS_Bcell-Memory_IgG_IgA               0.0    0.0    0.0    0.0    0.0   \n",
       "IRIS_Bcell-Memory_IgM                   0.0    0.0    0.0    0.0    0.0   \n",
       "IRIS_Bcell-naive                        0.0    0.0    0.0    0.0    0.0   \n",
       "IRIS_CD4Tcell-N0                        0.0    0.0    0.0    0.0    0.0   \n",
       "IRIS_CD4Tcell-Th1-restimulated12hour    0.0    0.0    0.0    0.0    0.0   \n",
       "\n",
       "                                      LV986  LV987  \n",
       "IRIS_Bcell-Memory_IgG_IgA               0.0    0.0  \n",
       "IRIS_Bcell-Memory_IgM                   0.0    0.0  \n",
       "IRIS_Bcell-naive                        0.0    0.0  \n",
       "IRIS_CD4Tcell-N0                        0.0    0.0  \n",
       "IRIS_CD4Tcell-Th1-restimulated12hour    0.0    0.0  \n",
       "\n",
       "[5 rows x 987 columns]"
      ]
     },
     "execution_count": 79,
     "metadata": {},
     "output_type": "execute_result"
    }
   ],
   "source": [
    "multiplier_model_matrix_df.head()"
   ]
  },
  {
   "cell_type": "code",
   "execution_count": 80,
   "metadata": {
    "papermill": {
     "duration": 0.053944,
     "end_time": "2021-03-08T16:42:22.092164",
     "exception": false,
     "start_time": "2021-03-08T16:42:22.038220",
     "status": "completed"
    },
    "tags": []
   },
   "outputs": [],
   "source": [
    "# make sure I'm seeing the same when loaded with R\n",
    "assert multiplier_model_matrix_df.loc[\"PID_FASPATHWAY\", \"LV136\"] == 0\n",
    "assert (\n",
    "    multiplier_model_matrix_df.loc[\"PID_INTEGRIN1_PATHWAY\", \"LV136\"].round(7)\n",
    "    == 0.8832853\n",
    ")\n",
    "assert (\n",
    "    multiplier_model_matrix_df.loc[\"REACTOME_COLLAGEN_FORMATION\", \"LV136\"].round(7)\n",
    "    == 0.8707412\n",
    ")\n",
    "\n",
    "assert multiplier_model_matrix_df.loc[\"PID_FASPATHWAY\", \"LV603\"] == 0\n",
    "assert (\n",
    "    multiplier_model_matrix_df.loc[\"IRIS_Neutrophil-Resting\", \"LV603\"].round(7)\n",
    "    == 0.9057506\n",
    ")\n",
    "assert multiplier_model_matrix_df.loc[\"SVM Neutrophils\", \"LV603\"].round(7) == 0.9797889"
   ]
  },
  {
   "cell_type": "markdown",
   "metadata": {
    "papermill": {
     "duration": 0.041926,
     "end_time": "2021-03-08T16:42:22.176752",
     "exception": false,
     "start_time": "2021-03-08T16:42:22.134826",
     "status": "completed"
    },
    "tags": []
   },
   "source": [
    "## Save"
   ]
  },
  {
   "cell_type": "markdown",
   "metadata": {
    "papermill": {
     "duration": 0.042351,
     "end_time": "2021-03-08T16:42:22.261012",
     "exception": false,
     "start_time": "2021-03-08T16:42:22.218661",
     "status": "completed"
    },
    "tags": []
   },
   "source": [
    "### Pickle format"
   ]
  },
  {
   "cell_type": "code",
   "execution_count": 81,
   "metadata": {
    "papermill": {
     "duration": 0.053128,
     "end_time": "2021-03-08T16:42:22.356467",
     "exception": false,
     "start_time": "2021-03-08T16:42:22.303339",
     "status": "completed"
    },
    "tags": []
   },
   "outputs": [
    {
     "data": {
      "text/plain": [
       "PosixPath('/home/miltondp/projects/labs/greenelab/phenoplier/bases_data/base_orig/data/multiplier/multiplier_model_u_auc.pkl')"
      ]
     },
     "metadata": {},
     "output_type": "display_data"
    }
   ],
   "source": [
    "output_file = conf.MULTIPLIER[\"MODEL_U_AUC_MATRIX_FILE\"]\n",
    "display(output_file)"
   ]
  },
  {
   "cell_type": "code",
   "execution_count": 82,
   "metadata": {
    "papermill": {
     "duration": 0.056978,
     "end_time": "2021-03-08T16:42:22.456350",
     "exception": false,
     "start_time": "2021-03-08T16:42:22.399372",
     "status": "completed"
    },
    "tags": []
   },
   "outputs": [],
   "source": [
    "multiplier_model_matrix_df.to_pickle(output_file)"
   ]
  },
  {
   "cell_type": "code",
   "execution_count": 26,
   "metadata": {
    "papermill": {
     "duration": 0.053341,
     "end_time": "2021-03-08T16:37:14.523482",
     "exception": false,
     "start_time": "2021-03-08T16:37:14.470141",
     "status": "completed"
    },
    "tags": []
   },
   "outputs": [
    {
     "data": {
      "text/plain": [
       "PosixPath('/home/miltondp/projects/labs/greenelab/phenoplier/data/multiplier/multiplier_model_summary.tsv.gz')"
      ]
     },
     "execution_count": 26,
     "metadata": {},
     "output_type": "execute_result"
    }
   ],
   "source": [
    "# copy to deliverables folder\n",
    "copyfile(\n",
    "    output_file,\n",
    "    OUTPUT_DIR / output_file.name,\n",
    ")"
   ]
  },
  {
   "cell_type": "markdown",
   "metadata": {
    "papermill": {
     "duration": 0.034568,
     "end_time": "2021-03-08T16:38:07.488567",
     "exception": false,
     "start_time": "2021-03-08T16:38:07.453999",
     "status": "completed"
    },
    "tags": []
   },
   "source": [
    "### RDS format"
   ]
  },
  {
   "cell_type": "code",
   "execution_count": 83,
   "metadata": {
    "papermill": {
     "duration": 0.048654,
     "end_time": "2021-03-08T16:38:07.572197",
     "exception": false,
     "start_time": "2021-03-08T16:38:07.523543",
     "status": "completed"
    },
    "tags": []
   },
   "outputs": [
    {
     "data": {
      "text/plain": [
       "PosixPath('/home/miltondp/projects/labs/greenelab/phenoplier/bases_data/base_orig/data/multiplier/multiplier_model_u_auc.rds')"
      ]
     },
     "metadata": {},
     "output_type": "display_data"
    }
   ],
   "source": [
    "output_rds_file = output_file.with_suffix(\".rds\")\n",
    "display(output_rds_file)"
   ]
  },
  {
   "cell_type": "code",
   "execution_count": 84,
   "metadata": {},
   "outputs": [
    {
     "data": {
      "text/plain": [
       "<rpy2.rinterface_lib.sexp.NULLType object at 0x7f988ce29040> [RTYPES.NILSXP]"
      ]
     },
     "execution_count": 84,
     "metadata": {},
     "output_type": "execute_result"
    }
   ],
   "source": [
    "saveRDS(multiplier_model_matrix, str(output_rds_file))"
   ]
  },
  {
   "cell_type": "code",
   "execution_count": 26,
   "metadata": {
    "papermill": {
     "duration": 0.053341,
     "end_time": "2021-03-08T16:37:14.523482",
     "exception": false,
     "start_time": "2021-03-08T16:37:14.470141",
     "status": "completed"
    },
    "tags": []
   },
   "outputs": [
    {
     "data": {
      "text/plain": [
       "PosixPath('/home/miltondp/projects/labs/greenelab/phenoplier/data/multiplier/multiplier_model_summary.tsv.gz')"
      ]
     },
     "execution_count": 26,
     "metadata": {},
     "output_type": "execute_result"
    }
   ],
   "source": [
    "# copy to deliverables folder\n",
    "copyfile(\n",
    "    output_rds_file,\n",
    "    OUTPUT_DIR / output_rds_file.name,\n",
    ")"
   ]
  },
  {
   "cell_type": "markdown",
   "metadata": {
    "papermill": {
     "duration": 0.043319,
     "end_time": "2021-03-08T16:42:22.542270",
     "exception": false,
     "start_time": "2021-03-08T16:42:22.498951",
     "status": "completed"
    },
    "tags": []
   },
   "source": [
    "### Text format"
   ]
  },
  {
   "cell_type": "code",
   "execution_count": 85,
   "metadata": {
    "papermill": {
     "duration": 0.05371,
     "end_time": "2021-03-08T16:42:22.640504",
     "exception": false,
     "start_time": "2021-03-08T16:42:22.586794",
     "status": "completed"
    },
    "tags": []
   },
   "outputs": [
    {
     "data": {
      "text/plain": [
       "PosixPath('/home/miltondp/projects/labs/greenelab/phenoplier/bases_data/base_orig/data/multiplier/multiplier_model_u_auc.tsv.gz')"
      ]
     },
     "metadata": {},
     "output_type": "display_data"
    }
   ],
   "source": [
    "# tsv format\n",
    "output_text_file = output_file.with_suffix(\".tsv.gz\")\n",
    "display(output_text_file)"
   ]
  },
  {
   "cell_type": "code",
   "execution_count": 86,
   "metadata": {
    "papermill": {
     "duration": 0.863714,
     "end_time": "2021-03-08T16:42:23.547469",
     "exception": false,
     "start_time": "2021-03-08T16:42:22.683755",
     "status": "completed"
    },
    "tags": []
   },
   "outputs": [],
   "source": [
    "multiplier_model_matrix_df.to_csv(\n",
    "    output_text_file, sep=\"\\t\", index=True, float_format=\"%.5e\"\n",
    ")"
   ]
  },
  {
   "cell_type": "code",
   "execution_count": 26,
   "metadata": {
    "papermill": {
     "duration": 0.053341,
     "end_time": "2021-03-08T16:37:14.523482",
     "exception": false,
     "start_time": "2021-03-08T16:37:14.470141",
     "status": "completed"
    },
    "tags": []
   },
   "outputs": [
    {
     "data": {
      "text/plain": [
       "PosixPath('/home/miltondp/projects/labs/greenelab/phenoplier/data/multiplier/multiplier_model_summary.tsv.gz')"
      ]
     },
     "execution_count": 26,
     "metadata": {},
     "output_type": "execute_result"
    }
   ],
   "source": [
    "# copy to deliverables folder\n",
    "copyfile(\n",
    "    output_text_file,\n",
    "    OUTPUT_DIR / output_text_file.name,\n",
    ")"
   ]
  },
  {
   "cell_type": "markdown",
   "metadata": {
    "papermill": {
     "duration": 0.042284,
     "end_time": "2021-03-08T16:42:23.634027",
     "exception": false,
     "start_time": "2021-03-08T16:42:23.591743",
     "status": "completed"
    },
    "tags": []
   },
   "source": [
    "# Model metadata"
   ]
  },
  {
   "cell_type": "code",
   "execution_count": 87,
   "metadata": {
    "papermill": {
     "duration": 0.053819,
     "end_time": "2021-03-08T16:42:23.730125",
     "exception": false,
     "start_time": "2021-03-08T16:42:23.676306",
     "status": "completed"
    },
    "tags": []
   },
   "outputs": [
    {
     "data": {
      "text/plain": [
       "['residual',\n",
       " 'B',\n",
       " 'Z',\n",
       " 'U',\n",
       " 'C',\n",
       " 'numActPath',\n",
       " 'L1',\n",
       " 'L2',\n",
       " 'L3',\n",
       " 'heldOutGenes',\n",
       " 'withPrior',\n",
       " 'Uauc',\n",
       " 'Up',\n",
       " 'summary']"
      ]
     },
     "metadata": {},
     "output_type": "display_data"
    }
   ],
   "source": [
    "model_names = list(multiplier_full_model.names)\n",
    "display(model_names)"
   ]
  },
  {
   "cell_type": "code",
   "execution_count": 88,
   "metadata": {
    "papermill": {
     "duration": 0.053475,
     "end_time": "2021-03-08T16:42:23.827362",
     "exception": false,
     "start_time": "2021-03-08T16:42:23.773887",
     "status": "completed"
    },
    "tags": []
   },
   "outputs": [],
   "source": [
    "with localconverter(ro.default_converter + pandas2ri.converter):\n",
    "    model_metadata = {\n",
    "        k: ro.conversion.rpy2py(multiplier_full_model.rx2(k))[0]\n",
    "        for k in (\"L1\", \"L2\", \"L3\")\n",
    "    }"
   ]
  },
  {
   "cell_type": "code",
   "execution_count": 89,
   "metadata": {
    "papermill": {
     "duration": 0.053767,
     "end_time": "2021-03-08T16:42:23.924577",
     "exception": false,
     "start_time": "2021-03-08T16:42:23.870810",
     "status": "completed"
    },
    "tags": []
   },
   "outputs": [
    {
     "data": {
      "text/plain": [
       "{'L1': 120.5660870071812, 'L2': 241.1321740143624, 'L3': 0.012696760842460974}"
      ]
     },
     "execution_count": 89,
     "metadata": {},
     "output_type": "execute_result"
    }
   ],
   "source": [
    "model_metadata"
   ]
  },
  {
   "cell_type": "code",
   "execution_count": 90,
   "metadata": {
    "papermill": {
     "duration": 0.052354,
     "end_time": "2021-03-08T16:42:24.020472",
     "exception": false,
     "start_time": "2021-03-08T16:42:23.968118",
     "status": "completed"
    },
    "tags": []
   },
   "outputs": [],
   "source": [
    "assert len(model_metadata) == 3"
   ]
  },
  {
   "cell_type": "code",
   "execution_count": 91,
   "metadata": {
    "papermill": {
     "duration": 0.052728,
     "end_time": "2021-03-08T16:42:24.116574",
     "exception": false,
     "start_time": "2021-03-08T16:42:24.063846",
     "status": "completed"
    },
    "tags": []
   },
   "outputs": [],
   "source": [
    "assert model_metadata[\"L2\"] == 241.1321740143624"
   ]
  },
  {
   "cell_type": "markdown",
   "metadata": {
    "papermill": {
     "duration": 0.042285,
     "end_time": "2021-03-08T16:42:24.202003",
     "exception": false,
     "start_time": "2021-03-08T16:42:24.159718",
     "status": "completed"
    },
    "tags": []
   },
   "source": [
    "## Save"
   ]
  },
  {
   "cell_type": "markdown",
   "metadata": {
    "papermill": {
     "duration": 0.042597,
     "end_time": "2021-03-08T16:42:24.287654",
     "exception": false,
     "start_time": "2021-03-08T16:42:24.245057",
     "status": "completed"
    },
    "tags": []
   },
   "source": [
    "### Pickle format"
   ]
  },
  {
   "cell_type": "code",
   "execution_count": 92,
   "metadata": {
    "papermill": {
     "duration": 0.05349,
     "end_time": "2021-03-08T16:42:24.384165",
     "exception": false,
     "start_time": "2021-03-08T16:42:24.330675",
     "status": "completed"
    },
    "tags": []
   },
   "outputs": [
    {
     "data": {
      "text/plain": [
       "PosixPath('/home/miltondp/projects/labs/greenelab/phenoplier/bases_data/base_orig/data/multiplier/multiplier_model_metadata.pkl')"
      ]
     },
     "metadata": {},
     "output_type": "display_data"
    }
   ],
   "source": [
    "output_file = conf.MULTIPLIER[\"MODEL_METADATA_FILE\"]\n",
    "display(output_file)"
   ]
  },
  {
   "cell_type": "code",
   "execution_count": 93,
   "metadata": {
    "papermill": {
     "duration": 0.053019,
     "end_time": "2021-03-08T16:42:24.481421",
     "exception": false,
     "start_time": "2021-03-08T16:42:24.428402",
     "status": "completed"
    },
    "tags": []
   },
   "outputs": [],
   "source": [
    "with open(output_file, \"wb\") as handle:\n",
    "    pickle.dump(model_metadata, handle, protocol=pickle.HIGHEST_PROTOCOL)"
   ]
  },
  {
   "cell_type": "code",
   "execution_count": 26,
   "metadata": {
    "papermill": {
     "duration": 0.053341,
     "end_time": "2021-03-08T16:37:14.523482",
     "exception": false,
     "start_time": "2021-03-08T16:37:14.470141",
     "status": "completed"
    },
    "tags": []
   },
   "outputs": [
    {
     "data": {
      "text/plain": [
       "PosixPath('/home/miltondp/projects/labs/greenelab/phenoplier/data/multiplier/multiplier_model_summary.tsv.gz')"
      ]
     },
     "execution_count": 26,
     "metadata": {},
     "output_type": "execute_result"
    }
   ],
   "source": [
    "# copy to deliverables folder\n",
    "copyfile(\n",
    "    output_file,\n",
    "    OUTPUT_DIR / output_file.name,\n",
    ")"
   ]
  },
  {
   "cell_type": "markdown",
   "metadata": {
    "papermill": {
     "duration": 0.034568,
     "end_time": "2021-03-08T16:38:07.488567",
     "exception": false,
     "start_time": "2021-03-08T16:38:07.453999",
     "status": "completed"
    },
    "tags": []
   },
   "source": [
    "### RDS format"
   ]
  },
  {
   "cell_type": "code",
   "execution_count": 94,
   "metadata": {
    "papermill": {
     "duration": 0.048654,
     "end_time": "2021-03-08T16:38:07.572197",
     "exception": false,
     "start_time": "2021-03-08T16:38:07.523543",
     "status": "completed"
    },
    "tags": []
   },
   "outputs": [
    {
     "data": {
      "text/plain": [
       "PosixPath('/home/miltondp/projects/labs/greenelab/phenoplier/bases_data/base_orig/data/multiplier/multiplier_model_metadata.rds')"
      ]
     },
     "metadata": {},
     "output_type": "display_data"
    }
   ],
   "source": [
    "output_rds_file = output_file.with_suffix(\".rds\")\n",
    "display(output_rds_file)"
   ]
  },
  {
   "cell_type": "code",
   "execution_count": 118,
   "metadata": {},
   "outputs": [],
   "source": [
    "# convert numpy.float64 to standard float objects\n",
    "rds_list = ro.ListVector({k: float(v) for k, v in model_metadata.items()})"
   ]
  },
  {
   "cell_type": "code",
   "execution_count": 119,
   "metadata": {},
   "outputs": [
    {
     "data": {
      "text/html": [
       "\n",
       "        <span>ListVector with 3 elements.</span>\n",
       "        <table>\n",
       "        <tbody>\n",
       "        \n",
       "          <tr>\n",
       "            <th>\n",
       "            L1\n",
       "            </th>\n",
       "            <td>\n",
       "            <rpy2.rinterface.FloatSexpVector object at 0x7f979d3ae400> [RTYPES.REALSXP]\n",
       "            </td>\n",
       "          </tr>\n",
       "        \n",
       "          <tr>\n",
       "            <th>\n",
       "            L2\n",
       "            </th>\n",
       "            <td>\n",
       "            <rpy2.rinterface.FloatSexpVector object at 0x7f979d3ae780> [RTYPES.REALSXP]\n",
       "            </td>\n",
       "          </tr>\n",
       "        \n",
       "          <tr>\n",
       "            <th>\n",
       "            L3\n",
       "            </th>\n",
       "            <td>\n",
       "            <rpy2.rinterface.FloatSexpVector object at 0x7f979d3ae580> [RTYPES.REALSXP]\n",
       "            </td>\n",
       "          </tr>\n",
       "        \n",
       "        </tbody>\n",
       "        </table>\n",
       "        "
      ],
      "text/plain": [
       "R object with classes: ('list',) mapped to:\n",
       "[FloatSexpVector, FloatSexpVector, FloatSexpVector]\n",
       "  L1: <class 'rpy2.rinterface.FloatSexpVector'>\n",
       "  <rpy2.rinterface.FloatSexpVector object at 0x7f979d39e0c0> [RTYPES.REALSXP]\n",
       "  L2: <class 'rpy2.rinterface.FloatSexpVector'>\n",
       "  <rpy2.rinterface.FloatSexpVector object at 0x7f979d39e140> [RTYPES.REALSXP]\n",
       "  L3: <class 'rpy2.rinterface.FloatSexpVector'>\n",
       "  <rpy2.rinterface.FloatSexpVector object at 0x7f979d39e1c0> [RTYPES.REALSXP]"
      ]
     },
     "execution_count": 119,
     "metadata": {},
     "output_type": "execute_result"
    }
   ],
   "source": [
    "rds_list"
   ]
  },
  {
   "cell_type": "code",
   "execution_count": 120,
   "metadata": {},
   "outputs": [
    {
     "data": {
      "text/plain": [
       "<rpy2.rinterface_lib.sexp.NULLType object at 0x7f988ce29040> [RTYPES.NILSXP]"
      ]
     },
     "execution_count": 120,
     "metadata": {},
     "output_type": "execute_result"
    }
   ],
   "source": [
    "saveRDS(rds_list, str(output_rds_file))"
   ]
  },
  {
   "cell_type": "code",
   "execution_count": 26,
   "metadata": {
    "papermill": {
     "duration": 0.053341,
     "end_time": "2021-03-08T16:37:14.523482",
     "exception": false,
     "start_time": "2021-03-08T16:37:14.470141",
     "status": "completed"
    },
    "tags": []
   },
   "outputs": [
    {
     "data": {
      "text/plain": [
       "PosixPath('/home/miltondp/projects/labs/greenelab/phenoplier/data/multiplier/multiplier_model_summary.tsv.gz')"
      ]
     },
     "execution_count": 26,
     "metadata": {},
     "output_type": "execute_result"
    }
   ],
   "source": [
    "# copy to deliverables folder\n",
    "copyfile(\n",
    "    output_rds_file,\n",
    "    OUTPUT_DIR / output_rds_file.name,\n",
    ")"
   ]
  },
  {
   "cell_type": "markdown",
   "metadata": {
    "papermill": {
     "duration": 0.045877,
     "end_time": "2021-03-08T16:42:24.571084",
     "exception": false,
     "start_time": "2021-03-08T16:42:24.525207",
     "status": "completed"
    },
    "tags": []
   },
   "source": [
    "### Text format"
   ]
  },
  {
   "cell_type": "code",
   "execution_count": 121,
   "metadata": {
    "papermill": {
     "duration": 0.054739,
     "end_time": "2021-03-08T16:42:24.670228",
     "exception": false,
     "start_time": "2021-03-08T16:42:24.615489",
     "status": "completed"
    },
    "tags": []
   },
   "outputs": [],
   "source": [
    "multiplier_model_matrix_df = (\n",
    "    pd.Series(model_metadata)\n",
    "    .reset_index()\n",
    "    .rename(columns={\"index\": \"parameter\", 0: \"value\"})\n",
    ")"
   ]
  },
  {
   "cell_type": "code",
   "execution_count": 122,
   "metadata": {
    "papermill": {
     "duration": 0.055903,
     "end_time": "2021-03-08T16:42:24.770974",
     "exception": false,
     "start_time": "2021-03-08T16:42:24.715071",
     "status": "completed"
    },
    "tags": []
   },
   "outputs": [
    {
     "data": {
      "text/html": [
       "<div>\n",
       "<style scoped>\n",
       "    .dataframe tbody tr th:only-of-type {\n",
       "        vertical-align: middle;\n",
       "    }\n",
       "\n",
       "    .dataframe tbody tr th {\n",
       "        vertical-align: top;\n",
       "    }\n",
       "\n",
       "    .dataframe thead th {\n",
       "        text-align: right;\n",
       "    }\n",
       "</style>\n",
       "<table border=\"1\" class=\"dataframe\">\n",
       "  <thead>\n",
       "    <tr style=\"text-align: right;\">\n",
       "      <th></th>\n",
       "      <th>parameter</th>\n",
       "      <th>value</th>\n",
       "    </tr>\n",
       "  </thead>\n",
       "  <tbody>\n",
       "    <tr>\n",
       "      <th>0</th>\n",
       "      <td>L1</td>\n",
       "      <td>120.566087</td>\n",
       "    </tr>\n",
       "    <tr>\n",
       "      <th>1</th>\n",
       "      <td>L2</td>\n",
       "      <td>241.132174</td>\n",
       "    </tr>\n",
       "    <tr>\n",
       "      <th>2</th>\n",
       "      <td>L3</td>\n",
       "      <td>0.012697</td>\n",
       "    </tr>\n",
       "  </tbody>\n",
       "</table>\n",
       "</div>"
      ],
      "text/plain": [
       "  parameter       value\n",
       "0        L1  120.566087\n",
       "1        L2  241.132174\n",
       "2        L3    0.012697"
      ]
     },
     "execution_count": 122,
     "metadata": {},
     "output_type": "execute_result"
    }
   ],
   "source": [
    "multiplier_model_matrix_df"
   ]
  },
  {
   "cell_type": "code",
   "execution_count": 123,
   "metadata": {
    "papermill": {
     "duration": 0.054137,
     "end_time": "2021-03-08T16:42:24.868855",
     "exception": false,
     "start_time": "2021-03-08T16:42:24.814718",
     "status": "completed"
    },
    "tags": []
   },
   "outputs": [
    {
     "data": {
      "text/plain": [
       "PosixPath('/home/miltondp/projects/labs/greenelab/phenoplier/bases_data/base_orig/data/multiplier/multiplier_model_metadata.tsv.gz')"
      ]
     },
     "metadata": {},
     "output_type": "display_data"
    }
   ],
   "source": [
    "# tsv format\n",
    "output_text_file = output_file.with_suffix(\".tsv.gz\")\n",
    "display(output_text_file)"
   ]
  },
  {
   "cell_type": "code",
   "execution_count": 125,
   "metadata": {
    "papermill": {
     "duration": 0.054801,
     "end_time": "2021-03-08T16:42:24.967409",
     "exception": false,
     "start_time": "2021-03-08T16:42:24.912608",
     "status": "completed"
    },
    "tags": []
   },
   "outputs": [],
   "source": [
    "multiplier_model_matrix_df.to_csv(\n",
    "    output_text_file,\n",
    "    sep=\"\\t\",\n",
    "    index=False,\n",
    ")"
   ]
  },
  {
   "cell_type": "code",
   "execution_count": 26,
   "metadata": {
    "papermill": {
     "duration": 0.053341,
     "end_time": "2021-03-08T16:37:14.523482",
     "exception": false,
     "start_time": "2021-03-08T16:37:14.470141",
     "status": "completed"
    },
    "tags": []
   },
   "outputs": [
    {
     "data": {
      "text/plain": [
       "PosixPath('/home/miltondp/projects/labs/greenelab/phenoplier/data/multiplier/multiplier_model_summary.tsv.gz')"
      ]
     },
     "execution_count": 26,
     "metadata": {},
     "output_type": "execute_result"
    }
   ],
   "source": [
    "# copy to deliverables folder\n",
    "copyfile(\n",
    "    output_text_file,\n",
    "    OUTPUT_DIR / output_text_file.name,\n",
    ")"
   ]
  },
  {
   "cell_type": "code",
   "execution_count": null,
   "metadata": {
    "papermill": {
     "duration": 0.042999,
     "end_time": "2021-03-08T16:42:25.054095",
     "exception": false,
     "start_time": "2021-03-08T16:42:25.011096",
     "status": "completed"
    },
    "tags": []
   },
   "outputs": [],
   "source": []
  }
 ],
 "metadata": {
  "jupytext": {
   "cell_metadata_filter": "all,-execution,-papermill,-trusted",
   "formats": "ipynb,py//py:percent"
  },
  "kernelspec": {
   "display_name": "Python 3",
   "language": "python",
   "name": "python3"
  },
  "language_info": {
   "codemirror_mode": {
    "name": "ipython",
    "version": 3
   },
   "file_extension": ".py",
   "mimetype": "text/x-python",
   "name": "python",
   "nbconvert_exporter": "python",
   "pygments_lexer": "ipython3",
   "version": "3.8.8"
  },
  "papermill": {
   "default_parameters": {},
   "duration": 276.297738,
   "end_time": "2021-03-08T16:42:26.695932",
   "environment_variables": {},
   "exception": null,
   "input_path": "01_preprocessing/005-multiplier_recount2_models.ipynb",
   "output_path": "01_preprocessing/005-multiplier_recount2_models.run.ipynb",
   "parameters": {},
   "start_time": "2021-03-08T16:37:50.398194",
   "version": "2.2.2"
  },
  "toc-autonumbering": true,
  "toc-showtags": false
 },
 "nbformat": 4,
 "nbformat_minor": 4
}
