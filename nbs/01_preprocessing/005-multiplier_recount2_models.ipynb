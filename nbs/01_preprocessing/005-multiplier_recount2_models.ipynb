{
 "cells": [
  {
   "cell_type": "markdown",
   "metadata": {
    "papermill": {
     "duration": 0.045534,
     "end_time": "2021-07-31T02:45:22.898288",
     "exception": false,
     "start_time": "2021-07-31T02:45:22.852754",
     "status": "completed"
    },
    "tags": []
   },
   "source": [
    "# Description"
   ]
  },
  {
   "cell_type": "markdown",
   "metadata": {
    "papermill": {
     "duration": 0.047537,
     "end_time": "2021-07-31T02:45:22.984838",
     "exception": false,
     "start_time": "2021-07-31T02:45:22.937301",
     "status": "completed"
    },
    "tags": []
   },
   "source": [
    "This notebook reads all matrices from the MultiPLIER model (https://github.com/greenelab/multi-plier) trained in recount2, like gene loadings (Z) or the\n",
    "latent space (B), and saves them into a Python friendly format (Pandas DataFrames in pickle format for faster/easier loading, and tsv for universal access)."
   ]
  },
  {
   "cell_type": "markdown",
   "metadata": {
    "papermill": {
     "duration": 0.039105,
     "end_time": "2021-07-31T02:45:23.065882",
     "exception": false,
     "start_time": "2021-07-31T02:45:23.026777",
     "status": "completed"
    },
    "tags": []
   },
   "source": [
    "# Modules loading"
   ]
  },
  {
   "cell_type": "code",
   "execution_count": 1,
   "metadata": {
    "execution": {
     "iopub.execute_input": "2021-07-31T02:45:23.151288Z",
     "iopub.status.busy": "2021-07-31T02:45:23.150920Z",
     "iopub.status.idle": "2021-07-31T02:45:23.158622Z",
     "shell.execute_reply": "2021-07-31T02:45:23.158191Z"
    },
    "papermill": {
     "duration": 0.052853,
     "end_time": "2021-07-31T02:45:23.158714",
     "exception": false,
     "start_time": "2021-07-31T02:45:23.105861",
     "status": "completed"
    },
    "tags": []
   },
   "outputs": [],
   "source": [
    "%load_ext autoreload\n",
    "%autoreload 2"
   ]
  },
  {
   "cell_type": "code",
   "execution_count": 2,
   "metadata": {
    "execution": {
     "iopub.execute_input": "2021-07-31T02:45:23.241144Z",
     "iopub.status.busy": "2021-07-31T02:45:23.240773Z",
     "iopub.status.idle": "2021-07-31T02:45:23.632887Z",
     "shell.execute_reply": "2021-07-31T02:45:23.632454Z"
    },
    "papermill": {
     "duration": 0.43384,
     "end_time": "2021-07-31T02:45:23.632973",
     "exception": false,
     "start_time": "2021-07-31T02:45:23.199133",
     "status": "completed"
    },
    "tags": []
   },
   "outputs": [],
   "source": [
    "import pickle\n",
    "from shutil import copyfile\n",
    "\n",
    "import numpy as np\n",
    "import pandas as pd\n",
    "from IPython.display import display\n",
    "\n",
    "import rpy2.robjects as ro\n",
    "from rpy2.robjects import pandas2ri\n",
    "from rpy2.robjects.conversion import localconverter\n",
    "\n",
    "import conf\n",
    "from utils import get_git_repository_path"
   ]
  },
  {
   "cell_type": "code",
   "execution_count": 3,
   "metadata": {
    "execution": {
     "iopub.execute_input": "2021-07-31T02:45:23.717222Z",
     "iopub.status.busy": "2021-07-31T02:45:23.716861Z",
     "iopub.status.idle": "2021-07-31T02:45:23.725533Z",
     "shell.execute_reply": "2021-07-31T02:45:23.725153Z"
    },
    "papermill": {
     "duration": 0.050955,
     "end_time": "2021-07-31T02:45:23.725620",
     "exception": false,
     "start_time": "2021-07-31T02:45:23.674665",
     "status": "completed"
    },
    "tags": []
   },
   "outputs": [],
   "source": [
    "readRDS = ro.r[\"readRDS\"]"
   ]
  },
  {
   "cell_type": "code",
   "execution_count": 4,
   "metadata": {
    "execution": {
     "iopub.execute_input": "2021-07-31T02:45:23.807782Z",
     "iopub.status.busy": "2021-07-31T02:45:23.807424Z",
     "iopub.status.idle": "2021-07-31T02:45:23.815315Z",
     "shell.execute_reply": "2021-07-31T02:45:23.814941Z"
    },
    "papermill": {
     "duration": 0.049878,
     "end_time": "2021-07-31T02:45:23.815403",
     "exception": false,
     "start_time": "2021-07-31T02:45:23.765525",
     "status": "completed"
    },
    "tags": []
   },
   "outputs": [],
   "source": [
    "saveRDS = ro.r[\"saveRDS\"]"
   ]
  },
  {
   "cell_type": "markdown",
   "metadata": {
    "papermill": {
     "duration": 0.039288,
     "end_time": "2021-07-31T02:45:23.894066",
     "exception": false,
     "start_time": "2021-07-31T02:45:23.854778",
     "status": "completed"
    },
    "tags": []
   },
   "source": [
    "# Settings"
   ]
  },
  {
   "cell_type": "code",
   "execution_count": 5,
   "metadata": {
    "execution": {
     "iopub.execute_input": "2021-07-31T02:45:23.978956Z",
     "iopub.status.busy": "2021-07-31T02:45:23.978551Z",
     "iopub.status.idle": "2021-07-31T02:45:24.001126Z",
     "shell.execute_reply": "2021-07-31T02:45:24.000635Z"
    },
    "papermill": {
     "duration": 0.067893,
     "end_time": "2021-07-31T02:45:24.001230",
     "exception": false,
     "start_time": "2021-07-31T02:45:23.933337",
     "status": "completed"
    },
    "tags": []
   },
   "outputs": [
    {
     "data": {
      "text/plain": [
       "PosixPath('/home/miltondp/projects/labs/greenelab/phenoplier/data')"
      ]
     },
     "metadata": {},
     "output_type": "display_data"
    }
   ],
   "source": [
    "DELIVERABLES_BASE_DIR = get_git_repository_path() / \"data\"\n",
    "display(DELIVERABLES_BASE_DIR)"
   ]
  },
  {
   "cell_type": "code",
   "execution_count": 6,
   "metadata": {
    "execution": {
     "iopub.execute_input": "2021-07-31T02:45:24.092007Z",
     "iopub.status.busy": "2021-07-31T02:45:24.091637Z",
     "iopub.status.idle": "2021-07-31T02:45:24.101402Z",
     "shell.execute_reply": "2021-07-31T02:45:24.101109Z"
    },
    "papermill": {
     "duration": 0.052562,
     "end_time": "2021-07-31T02:45:24.101487",
     "exception": false,
     "start_time": "2021-07-31T02:45:24.048925",
     "status": "completed"
    },
    "tags": []
   },
   "outputs": [
    {
     "data": {
      "text/plain": [
       "PosixPath('/home/miltondp/projects/labs/greenelab/phenoplier/data/multiplier')"
      ]
     },
     "metadata": {},
     "output_type": "display_data"
    }
   ],
   "source": [
    "OUTPUT_DIR = DELIVERABLES_BASE_DIR / \"multiplier\"\n",
    "OUTPUT_DIR.mkdir(parents=True, exist_ok=True)\n",
    "display(OUTPUT_DIR)"
   ]
  },
  {
   "cell_type": "markdown",
   "metadata": {
    "papermill": {
     "duration": 0.039586,
     "end_time": "2021-07-31T02:45:24.181339",
     "exception": false,
     "start_time": "2021-07-31T02:45:24.141753",
     "status": "completed"
    },
    "tags": []
   },
   "source": [
    "# Read MultiPLIER model"
   ]
  },
  {
   "cell_type": "code",
   "execution_count": 7,
   "metadata": {
    "execution": {
     "iopub.execute_input": "2021-07-31T02:45:24.263090Z",
     "iopub.status.busy": "2021-07-31T02:45:24.262719Z",
     "iopub.status.idle": "2021-07-31T02:45:24.271011Z",
     "shell.execute_reply": "2021-07-31T02:45:24.270631Z"
    },
    "papermill": {
     "duration": 0.050219,
     "end_time": "2021-07-31T02:45:24.271097",
     "exception": false,
     "start_time": "2021-07-31T02:45:24.220878",
     "status": "completed"
    },
    "tags": []
   },
   "outputs": [
    {
     "data": {
      "text/plain": [
       "PosixPath('/home/miltondp/projects/labs/greenelab/phenoplier/base/data/multiplier/recount_PLIER_model.RDS')"
      ]
     },
     "execution_count": 7,
     "metadata": {},
     "output_type": "execute_result"
    }
   ],
   "source": [
    "conf.MULTIPLIER[\"RECOUNT2_MODEL_FILE\"]"
   ]
  },
  {
   "cell_type": "code",
   "execution_count": 8,
   "metadata": {
    "execution": {
     "iopub.execute_input": "2021-07-31T02:45:24.354916Z",
     "iopub.status.busy": "2021-07-31T02:45:24.354556Z",
     "iopub.status.idle": "2021-07-31T02:45:38.621652Z",
     "shell.execute_reply": "2021-07-31T02:45:38.621262Z"
    },
    "papermill": {
     "duration": 14.309548,
     "end_time": "2021-07-31T02:45:38.621737",
     "exception": false,
     "start_time": "2021-07-31T02:45:24.312189",
     "status": "completed"
    },
    "tags": []
   },
   "outputs": [],
   "source": [
    "multiplier_full_model = readRDS(str(conf.MULTIPLIER[\"RECOUNT2_MODEL_FILE\"]))"
   ]
  },
  {
   "cell_type": "markdown",
   "metadata": {
    "papermill": {
     "duration": 0.04023,
     "end_time": "2021-07-31T02:45:38.702541",
     "exception": false,
     "start_time": "2021-07-31T02:45:38.662311",
     "status": "completed"
    },
    "tags": []
   },
   "source": [
    "# Summary matrix"
   ]
  },
  {
   "cell_type": "code",
   "execution_count": 9,
   "metadata": {
    "execution": {
     "iopub.execute_input": "2021-07-31T02:45:38.786366Z",
     "iopub.status.busy": "2021-07-31T02:45:38.786003Z",
     "iopub.status.idle": "2021-07-31T02:45:38.793730Z",
     "shell.execute_reply": "2021-07-31T02:45:38.793433Z"
    },
    "papermill": {
     "duration": 0.051143,
     "end_time": "2021-07-31T02:45:38.793814",
     "exception": false,
     "start_time": "2021-07-31T02:45:38.742671",
     "status": "completed"
    },
    "tags": []
   },
   "outputs": [],
   "source": [
    "multiplier_model_matrix = multiplier_full_model.rx2(\"summary\")"
   ]
  },
  {
   "cell_type": "code",
   "execution_count": 10,
   "metadata": {
    "execution": {
     "iopub.execute_input": "2021-07-31T02:45:38.877729Z",
     "iopub.status.busy": "2021-07-31T02:45:38.877356Z",
     "iopub.status.idle": "2021-07-31T02:45:38.886710Z",
     "shell.execute_reply": "2021-07-31T02:45:38.886337Z"
    },
    "papermill": {
     "duration": 0.052131,
     "end_time": "2021-07-31T02:45:38.886795",
     "exception": false,
     "start_time": "2021-07-31T02:45:38.834664",
     "status": "completed"
    },
    "tags": []
   },
   "outputs": [
    {
     "data": {
      "text/html": [
       "\n",
       "        <span>R/rpy2 DataFrame (2157 x 5)</span>\n",
       "        <table>\n",
       "          <thead>\n",
       "            <tr>\n",
       "              \n",
       "              <th>pathway</th>\n",
       "              \n",
       "              <th>LV index</th>\n",
       "              \n",
       "              <th>AUC</th>\n",
       "              \n",
       "              <th>p-value</th>\n",
       "              \n",
       "              <th>FDR</th>\n",
       "              \n",
       "            </tr>\n",
       "          </thead>\n",
       "          <tbody>\n",
       "          \n",
       "          <tr>\n",
       "            \n",
       "            <td>\n",
       "              ...\n",
       "            </td>\n",
       "            \n",
       "            <td>\n",
       "              ...\n",
       "            </td>\n",
       "            \n",
       "            <td>\n",
       "              ...\n",
       "            </td>\n",
       "            \n",
       "            <td>\n",
       "              ...\n",
       "            </td>\n",
       "            \n",
       "            <td>\n",
       "              ...\n",
       "            </td>\n",
       "            \n",
       "          </tr>\n",
       "          \n",
       "          </tbody>\n",
       "        </table>\n",
       "    "
      ],
      "text/plain": [
       "R object with classes: ('data.frame',) mapped to:\n",
       "[StrSexp..., StrSexp..., FloatSe..., FloatSe..., FloatSe...]\n",
       "  pathway: <class 'rpy2.rinterface_lib.sexp.StrSexpVector'>\n",
       "  <rpy2.rinterface_lib.sexp.StrSexpVector object at 0x7f9821055ec0> [RTYPES.STRSXP]\n",
       "  LV index: <class 'rpy2.rinterface_lib.sexp.StrSexpVector'>\n",
       "  <rpy2.rinterface_lib.sexp.StrSexpVector object at 0x7f98210b20c0> [RTYPES.STRSXP]\n",
       "  AUC: <class 'rpy2.rinterface.FloatSexpVector'>\n",
       "  <rpy2.rinterface.FloatSexpVector object at 0x7f98210b2440> [RTYPES.REALSXP]\n",
       "  p-value: <class 'rpy2.rinterface.FloatSexpVector'>\n",
       "  <rpy2.rinterface.FloatSexpVector object at 0x7f97eb83a400> [RTYPES.REALSXP]\n",
       "  FDR: <class 'rpy2.rinterface.FloatSexpVector'>\n",
       "  <rpy2.rinterface.FloatSexpVector object at 0x7f98210b2440> [RTYPES.REALSXP]"
      ]
     },
     "execution_count": 10,
     "metadata": {},
     "output_type": "execute_result"
    }
   ],
   "source": [
    "multiplier_model_matrix"
   ]
  },
  {
   "cell_type": "code",
   "execution_count": 11,
   "metadata": {
    "execution": {
     "iopub.execute_input": "2021-07-31T02:45:39.008867Z",
     "iopub.status.busy": "2021-07-31T02:45:39.008467Z",
     "iopub.status.idle": "2021-07-31T02:45:39.018499Z",
     "shell.execute_reply": "2021-07-31T02:45:39.018105Z"
    },
    "papermill": {
     "duration": 0.05308,
     "end_time": "2021-07-31T02:45:39.018603",
     "exception": false,
     "start_time": "2021-07-31T02:45:38.965523",
     "status": "completed"
    },
    "tags": []
   },
   "outputs": [
    {
     "data": {
      "text/html": [
       "\n",
       "        <span>StrVector with 2157 elements.</span>\n",
       "        <table>\n",
       "        <tbody>\n",
       "          <tr>\n",
       "          \n",
       "            <td>\n",
       "            '1'\n",
       "            </td>\n",
       "          \n",
       "            <td>\n",
       "            '2'\n",
       "            </td>\n",
       "          \n",
       "            <td>\n",
       "            '3'\n",
       "            </td>\n",
       "          \n",
       "            <td>\n",
       "            ...\n",
       "            </td>\n",
       "          \n",
       "            <td>\n",
       "            '2155'\n",
       "            </td>\n",
       "          \n",
       "            <td>\n",
       "            '2156'\n",
       "            </td>\n",
       "          \n",
       "            <td>\n",
       "            '2157'\n",
       "            </td>\n",
       "          \n",
       "          </tr>\n",
       "        </tbody>\n",
       "        </table>\n",
       "        "
      ],
      "text/plain": [
       "R object with classes: ('character',) mapped to:\n",
       "['1', '2', '3', '4', ..., '2154', '2155', '2156', '2157']"
      ]
     },
     "execution_count": 11,
     "metadata": {},
     "output_type": "execute_result"
    }
   ],
   "source": [
    "multiplier_model_matrix.rownames"
   ]
  },
  {
   "cell_type": "code",
   "execution_count": 12,
   "metadata": {
    "execution": {
     "iopub.execute_input": "2021-07-31T02:45:39.108113Z",
     "iopub.status.busy": "2021-07-31T02:45:39.107746Z",
     "iopub.status.idle": "2021-07-31T02:45:39.116609Z",
     "shell.execute_reply": "2021-07-31T02:45:39.116239Z"
    },
    "papermill": {
     "duration": 0.051873,
     "end_time": "2021-07-31T02:45:39.116699",
     "exception": false,
     "start_time": "2021-07-31T02:45:39.064826",
     "status": "completed"
    },
    "tags": []
   },
   "outputs": [
    {
     "data": {
      "text/html": [
       "\n",
       "        <span>StrVector with 5 elements.</span>\n",
       "        <table>\n",
       "        <tbody>\n",
       "          <tr>\n",
       "          \n",
       "            <td>\n",
       "            'pathway'\n",
       "            </td>\n",
       "          \n",
       "            <td>\n",
       "            'LV ind...\n",
       "            </td>\n",
       "          \n",
       "            <td>\n",
       "            'AUC'\n",
       "            </td>\n",
       "          \n",
       "            <td>\n",
       "            'p-value'\n",
       "            </td>\n",
       "          \n",
       "            <td>\n",
       "            'FDR'\n",
       "            </td>\n",
       "          \n",
       "          </tr>\n",
       "        </tbody>\n",
       "        </table>\n",
       "        "
      ],
      "text/plain": [
       "R object with classes: ('character',) mapped to:\n",
       "['pathway', 'LV ind..., 'AUC', 'p-value', 'FDR']"
      ]
     },
     "execution_count": 12,
     "metadata": {},
     "output_type": "execute_result"
    }
   ],
   "source": [
    "multiplier_model_matrix.colnames"
   ]
  },
  {
   "cell_type": "code",
   "execution_count": 13,
   "metadata": {
    "execution": {
     "iopub.execute_input": "2021-07-31T02:45:39.226642Z",
     "iopub.status.busy": "2021-07-31T02:45:39.226281Z",
     "iopub.status.idle": "2021-07-31T02:45:39.278526Z",
     "shell.execute_reply": "2021-07-31T02:45:39.278146Z"
    },
    "papermill": {
     "duration": 0.101075,
     "end_time": "2021-07-31T02:45:39.278614",
     "exception": false,
     "start_time": "2021-07-31T02:45:39.177539",
     "status": "completed"
    },
    "tags": []
   },
   "outputs": [],
   "source": [
    "with localconverter(ro.default_converter + pandas2ri.converter):\n",
    "    multiplier_model_matrix_values = ro.conversion.rpy2py(multiplier_model_matrix)"
   ]
  },
  {
   "cell_type": "code",
   "execution_count": 14,
   "metadata": {
    "execution": {
     "iopub.execute_input": "2021-07-31T02:45:39.363923Z",
     "iopub.status.busy": "2021-07-31T02:45:39.363560Z",
     "iopub.status.idle": "2021-07-31T02:45:39.371550Z",
     "shell.execute_reply": "2021-07-31T02:45:39.371190Z"
    },
    "papermill": {
     "duration": 0.051579,
     "end_time": "2021-07-31T02:45:39.371633",
     "exception": false,
     "start_time": "2021-07-31T02:45:39.320054",
     "status": "completed"
    },
    "tags": []
   },
   "outputs": [],
   "source": [
    "multiplier_model_matrix_df = pd.DataFrame(\n",
    "    data=multiplier_model_matrix_values,\n",
    "    #     index=multiplier_model_matrix.rownames,\n",
    "    columns=multiplier_model_matrix.colnames,\n",
    ")"
   ]
  },
  {
   "cell_type": "code",
   "execution_count": 15,
   "metadata": {
    "execution": {
     "iopub.execute_input": "2021-07-31T02:45:39.458506Z",
     "iopub.status.busy": "2021-07-31T02:45:39.458146Z",
     "iopub.status.idle": "2021-07-31T02:45:39.466566Z",
     "shell.execute_reply": "2021-07-31T02:45:39.466197Z"
    },
    "papermill": {
     "duration": 0.052431,
     "end_time": "2021-07-31T02:45:39.466651",
     "exception": false,
     "start_time": "2021-07-31T02:45:39.414220",
     "status": "completed"
    },
    "tags": []
   },
   "outputs": [
    {
     "data": {
      "text/plain": [
       "(2157, 5)"
      ]
     },
     "metadata": {},
     "output_type": "display_data"
    }
   ],
   "source": [
    "display(multiplier_model_matrix_df.shape)\n",
    "assert multiplier_model_matrix_df.shape == (2157, 5)"
   ]
  },
  {
   "cell_type": "code",
   "execution_count": 16,
   "metadata": {
    "execution": {
     "iopub.execute_input": "2021-07-31T02:45:39.553292Z",
     "iopub.status.busy": "2021-07-31T02:45:39.552932Z",
     "iopub.status.idle": "2021-07-31T02:45:39.565896Z",
     "shell.execute_reply": "2021-07-31T02:45:39.565600Z"
    },
    "lines_to_next_cell": 1,
    "papermill": {
     "duration": 0.056765,
     "end_time": "2021-07-31T02:45:39.565982",
     "exception": false,
     "start_time": "2021-07-31T02:45:39.509217",
     "status": "completed"
    },
    "tags": []
   },
   "outputs": [
    {
     "data": {
      "text/html": [
       "<div>\n",
       "<style scoped>\n",
       "    .dataframe tbody tr th:only-of-type {\n",
       "        vertical-align: middle;\n",
       "    }\n",
       "\n",
       "    .dataframe tbody tr th {\n",
       "        vertical-align: top;\n",
       "    }\n",
       "\n",
       "    .dataframe thead th {\n",
       "        text-align: right;\n",
       "    }\n",
       "</style>\n",
       "<table border=\"1\" class=\"dataframe\">\n",
       "  <thead>\n",
       "    <tr style=\"text-align: right;\">\n",
       "      <th></th>\n",
       "      <th>pathway</th>\n",
       "      <th>LV index</th>\n",
       "      <th>AUC</th>\n",
       "      <th>p-value</th>\n",
       "      <th>FDR</th>\n",
       "    </tr>\n",
       "  </thead>\n",
       "  <tbody>\n",
       "    <tr>\n",
       "      <th>1</th>\n",
       "      <td>KEGG_LYSINE_DEGRADATION</td>\n",
       "      <td>1</td>\n",
       "      <td>0.388059</td>\n",
       "      <td>0.866078</td>\n",
       "      <td>0.956005</td>\n",
       "    </tr>\n",
       "    <tr>\n",
       "      <th>2</th>\n",
       "      <td>REACTOME_MRNA_SPLICING</td>\n",
       "      <td>1</td>\n",
       "      <td>0.733057</td>\n",
       "      <td>0.000048</td>\n",
       "      <td>0.000582</td>\n",
       "    </tr>\n",
       "    <tr>\n",
       "      <th>3</th>\n",
       "      <td>MIPS_NOP56P_ASSOCIATED_PRE_RRNA_COMPLEX</td>\n",
       "      <td>1</td>\n",
       "      <td>0.680555</td>\n",
       "      <td>0.001628</td>\n",
       "      <td>0.011366</td>\n",
       "    </tr>\n",
       "    <tr>\n",
       "      <th>4</th>\n",
       "      <td>KEGG_DNA_REPLICATION</td>\n",
       "      <td>1</td>\n",
       "      <td>0.549473</td>\n",
       "      <td>0.312155</td>\n",
       "      <td>0.539951</td>\n",
       "    </tr>\n",
       "    <tr>\n",
       "      <th>5</th>\n",
       "      <td>PID_MYC_ACTIVPATHWAY</td>\n",
       "      <td>1</td>\n",
       "      <td>0.639303</td>\n",
       "      <td>0.021702</td>\n",
       "      <td>0.083739</td>\n",
       "    </tr>\n",
       "  </tbody>\n",
       "</table>\n",
       "</div>"
      ],
      "text/plain": [
       "                                   pathway LV index       AUC   p-value  \\\n",
       "1                  KEGG_LYSINE_DEGRADATION        1  0.388059  0.866078   \n",
       "2                   REACTOME_MRNA_SPLICING        1  0.733057  0.000048   \n",
       "3  MIPS_NOP56P_ASSOCIATED_PRE_RRNA_COMPLEX        1  0.680555  0.001628   \n",
       "4                     KEGG_DNA_REPLICATION        1  0.549473  0.312155   \n",
       "5                     PID_MYC_ACTIVPATHWAY        1  0.639303  0.021702   \n",
       "\n",
       "        FDR  \n",
       "1  0.956005  \n",
       "2  0.000582  \n",
       "3  0.011366  \n",
       "4  0.539951  \n",
       "5  0.083739  "
      ]
     },
     "execution_count": 16,
     "metadata": {},
     "output_type": "execute_result"
    }
   ],
   "source": [
    "multiplier_model_matrix_df.head()"
   ]
  },
  {
   "cell_type": "code",
   "execution_count": 17,
   "metadata": {
    "execution": {
     "iopub.execute_input": "2021-07-31T02:45:39.655592Z",
     "iopub.status.busy": "2021-07-31T02:45:39.655210Z",
     "iopub.status.idle": "2021-07-31T02:45:39.666911Z",
     "shell.execute_reply": "2021-07-31T02:45:39.666536Z"
    },
    "papermill": {
     "duration": 0.058105,
     "end_time": "2021-07-31T02:45:39.666995",
     "exception": false,
     "start_time": "2021-07-31T02:45:39.608890",
     "status": "completed"
    },
    "tags": []
   },
   "outputs": [],
   "source": [
    "def to_scinum(x):\n",
    "    return np.format_float_scientific(x, 6)\n",
    "\n",
    "\n",
    "# make sure I'm seeing the same when loaded with R\n",
    "_tmp = multiplier_model_matrix_df.set_index([\"pathway\", \"LV index\"])\n",
    "\n",
    "assert _tmp.loc[(\"KEGG_LYSINE_DEGRADATION\", \"1\")][\"AUC\"].round(7) == 0.3880591\n",
    "assert (\n",
    "    to_scinum(_tmp.loc[(\"KEGG_LYSINE_DEGRADATION\", \"1\")][\"p-value\"]) == \"8.660782e-01\"\n",
    ")\n",
    "assert _tmp.loc[(\"KEGG_LYSINE_DEGRADATION\", \"1\")][\"FDR\"].round(10) == 0.9560054810\n",
    "\n",
    "assert _tmp.loc[(\"IRIS_Monocyte-Day0\", \"2\")][\"AUC\"].round(7) == 0.8900356\n",
    "assert to_scinum(_tmp.loc[(\"IRIS_Monocyte-Day0\", \"2\")][\"p-value\"]) == \"4.315812e-25\"\n",
    "assert to_scinum(_tmp.loc[(\"IRIS_Monocyte-Day0\", \"2\")][\"FDR\"]) == \"1.329887e-22\""
   ]
  },
  {
   "cell_type": "markdown",
   "metadata": {
    "papermill": {
     "duration": 0.042,
     "end_time": "2021-07-31T02:45:39.751112",
     "exception": false,
     "start_time": "2021-07-31T02:45:39.709112",
     "status": "completed"
    },
    "tags": []
   },
   "source": [
    "## Save"
   ]
  },
  {
   "cell_type": "markdown",
   "metadata": {
    "papermill": {
     "duration": 0.041846,
     "end_time": "2021-07-31T02:45:39.835700",
     "exception": false,
     "start_time": "2021-07-31T02:45:39.793854",
     "status": "completed"
    },
    "tags": []
   },
   "source": [
    "### Pickle format"
   ]
  },
  {
   "cell_type": "code",
   "execution_count": 18,
   "metadata": {
    "execution": {
     "iopub.execute_input": "2021-07-31T02:45:39.922072Z",
     "iopub.status.busy": "2021-07-31T02:45:39.921712Z",
     "iopub.status.idle": "2021-07-31T02:45:39.930104Z",
     "shell.execute_reply": "2021-07-31T02:45:39.929735Z"
    },
    "papermill": {
     "duration": 0.052533,
     "end_time": "2021-07-31T02:45:39.930189",
     "exception": false,
     "start_time": "2021-07-31T02:45:39.877656",
     "status": "completed"
    },
    "tags": []
   },
   "outputs": [
    {
     "data": {
      "text/plain": [
       "PosixPath('/home/miltondp/projects/labs/greenelab/phenoplier/base/data/multiplier/multiplier_model_summary.pkl')"
      ]
     },
     "metadata": {},
     "output_type": "display_data"
    }
   ],
   "source": [
    "output_file = conf.MULTIPLIER[\"MODEL_SUMMARY_FILE\"]\n",
    "display(output_file)"
   ]
  },
  {
   "cell_type": "code",
   "execution_count": 19,
   "metadata": {
    "execution": {
     "iopub.execute_input": "2021-07-31T02:45:40.017716Z",
     "iopub.status.busy": "2021-07-31T02:45:40.017341Z",
     "iopub.status.idle": "2021-07-31T02:45:40.026485Z",
     "shell.execute_reply": "2021-07-31T02:45:40.026065Z"
    },
    "papermill": {
     "duration": 0.053833,
     "end_time": "2021-07-31T02:45:40.026591",
     "exception": false,
     "start_time": "2021-07-31T02:45:39.972758",
     "status": "completed"
    },
    "tags": []
   },
   "outputs": [],
   "source": [
    "multiplier_model_matrix_df.to_pickle(output_file)"
   ]
  },
  {
   "cell_type": "code",
   "execution_count": 20,
   "metadata": {
    "execution": {
     "iopub.execute_input": "2021-07-31T02:45:40.120910Z",
     "iopub.status.busy": "2021-07-31T02:45:40.120500Z",
     "iopub.status.idle": "2021-07-31T02:45:40.129090Z",
     "shell.execute_reply": "2021-07-31T02:45:40.128703Z"
    },
    "papermill": {
     "duration": 0.054185,
     "end_time": "2021-07-31T02:45:40.129177",
     "exception": false,
     "start_time": "2021-07-31T02:45:40.074992",
     "status": "completed"
    },
    "tags": []
   },
   "outputs": [
    {
     "data": {
      "text/plain": [
       "PosixPath('/home/miltondp/projects/labs/greenelab/phenoplier/data/multiplier/multiplier_model_summary.pkl')"
      ]
     },
     "execution_count": 20,
     "metadata": {},
     "output_type": "execute_result"
    }
   ],
   "source": [
    "# copy to deliverables folder\n",
    "copyfile(\n",
    "    output_file,\n",
    "    OUTPUT_DIR / output_file.name,\n",
    ")"
   ]
  },
  {
   "cell_type": "markdown",
   "metadata": {
    "papermill": {
     "duration": 0.041802,
     "end_time": "2021-07-31T02:45:40.214755",
     "exception": false,
     "start_time": "2021-07-31T02:45:40.172953",
     "status": "completed"
    },
    "tags": []
   },
   "source": [
    "### RDS format"
   ]
  },
  {
   "cell_type": "code",
   "execution_count": 21,
   "metadata": {
    "execution": {
     "iopub.execute_input": "2021-07-31T02:45:40.302460Z",
     "iopub.status.busy": "2021-07-31T02:45:40.302097Z",
     "iopub.status.idle": "2021-07-31T02:45:40.310339Z",
     "shell.execute_reply": "2021-07-31T02:45:40.309966Z"
    },
    "papermill": {
     "duration": 0.0533,
     "end_time": "2021-07-31T02:45:40.310424",
     "exception": false,
     "start_time": "2021-07-31T02:45:40.257124",
     "status": "completed"
    },
    "tags": []
   },
   "outputs": [
    {
     "data": {
      "text/plain": [
       "PosixPath('/home/miltondp/projects/labs/greenelab/phenoplier/base/data/multiplier/multiplier_model_summary.rds')"
      ]
     },
     "metadata": {},
     "output_type": "display_data"
    }
   ],
   "source": [
    "output_rds_file = output_file.with_suffix(\".rds\")\n",
    "display(output_rds_file)"
   ]
  },
  {
   "cell_type": "code",
   "execution_count": 22,
   "metadata": {
    "execution": {
     "iopub.execute_input": "2021-07-31T02:45:40.400036Z",
     "iopub.status.busy": "2021-07-31T02:45:40.399672Z",
     "iopub.status.idle": "2021-07-31T02:45:40.413110Z",
     "shell.execute_reply": "2021-07-31T02:45:40.412718Z"
    },
    "papermill": {
     "duration": 0.058186,
     "end_time": "2021-07-31T02:45:40.413191",
     "exception": false,
     "start_time": "2021-07-31T02:45:40.355005",
     "status": "completed"
    },
    "tags": []
   },
   "outputs": [
    {
     "data": {
      "text/plain": [
       "<rpy2.rinterface_lib.sexp.NULLType object at 0x7f97ec165dc0> [RTYPES.NILSXP]"
      ]
     },
     "execution_count": 22,
     "metadata": {},
     "output_type": "execute_result"
    }
   ],
   "source": [
    "saveRDS(multiplier_model_matrix, str(output_rds_file))"
   ]
  },
  {
   "cell_type": "code",
   "execution_count": 23,
   "metadata": {
    "execution": {
     "iopub.execute_input": "2021-07-31T02:45:40.501173Z",
     "iopub.status.busy": "2021-07-31T02:45:40.500813Z",
     "iopub.status.idle": "2021-07-31T02:45:40.509617Z",
     "shell.execute_reply": "2021-07-31T02:45:40.509244Z"
    },
    "papermill": {
     "duration": 0.053377,
     "end_time": "2021-07-31T02:45:40.509700",
     "exception": false,
     "start_time": "2021-07-31T02:45:40.456323",
     "status": "completed"
    },
    "tags": []
   },
   "outputs": [
    {
     "data": {
      "text/plain": [
       "PosixPath('/home/miltondp/projects/labs/greenelab/phenoplier/data/multiplier/multiplier_model_summary.rds')"
      ]
     },
     "execution_count": 23,
     "metadata": {},
     "output_type": "execute_result"
    }
   ],
   "source": [
    "# copy to deliverables folder\n",
    "copyfile(\n",
    "    output_rds_file,\n",
    "    OUTPUT_DIR / output_rds_file.name,\n",
    ")"
   ]
  },
  {
   "cell_type": "markdown",
   "metadata": {
    "papermill": {
     "duration": 0.043554,
     "end_time": "2021-07-31T02:45:40.598009",
     "exception": false,
     "start_time": "2021-07-31T02:45:40.554455",
     "status": "completed"
    },
    "tags": []
   },
   "source": [
    "### Text format"
   ]
  },
  {
   "cell_type": "code",
   "execution_count": 24,
   "metadata": {
    "execution": {
     "iopub.execute_input": "2021-07-31T02:45:40.687299Z",
     "iopub.status.busy": "2021-07-31T02:45:40.686925Z",
     "iopub.status.idle": "2021-07-31T02:45:40.695986Z",
     "shell.execute_reply": "2021-07-31T02:45:40.695614Z"
    },
    "papermill": {
     "duration": 0.05488,
     "end_time": "2021-07-31T02:45:40.696072",
     "exception": false,
     "start_time": "2021-07-31T02:45:40.641192",
     "status": "completed"
    },
    "tags": []
   },
   "outputs": [
    {
     "data": {
      "text/plain": [
       "PosixPath('/home/miltondp/projects/labs/greenelab/phenoplier/base/data/multiplier/multiplier_model_summary.tsv.gz')"
      ]
     },
     "metadata": {},
     "output_type": "display_data"
    }
   ],
   "source": [
    "# tsv format\n",
    "output_text_file = output_file.with_suffix(\".tsv.gz\")\n",
    "display(output_text_file)"
   ]
  },
  {
   "cell_type": "code",
   "execution_count": 25,
   "metadata": {
    "execution": {
     "iopub.execute_input": "2021-07-31T02:45:40.787062Z",
     "iopub.status.busy": "2021-07-31T02:45:40.786646Z",
     "iopub.status.idle": "2021-07-31T02:45:40.857549Z",
     "shell.execute_reply": "2021-07-31T02:45:40.857202Z"
    },
    "papermill": {
     "duration": 0.117667,
     "end_time": "2021-07-31T02:45:40.857647",
     "exception": false,
     "start_time": "2021-07-31T02:45:40.739980",
     "status": "completed"
    },
    "tags": []
   },
   "outputs": [],
   "source": [
    "multiplier_model_matrix_df.to_csv(\n",
    "    output_text_file, sep=\"\\t\", index=False, float_format=\"%.5e\"\n",
    ")"
   ]
  },
  {
   "cell_type": "code",
   "execution_count": 26,
   "metadata": {
    "execution": {
     "iopub.execute_input": "2021-07-31T02:45:40.950186Z",
     "iopub.status.busy": "2021-07-31T02:45:40.949817Z",
     "iopub.status.idle": "2021-07-31T02:45:40.958097Z",
     "shell.execute_reply": "2021-07-31T02:45:40.957727Z"
    },
    "papermill": {
     "duration": 0.054155,
     "end_time": "2021-07-31T02:45:40.958183",
     "exception": false,
     "start_time": "2021-07-31T02:45:40.904028",
     "status": "completed"
    },
    "tags": []
   },
   "outputs": [
    {
     "data": {
      "text/plain": [
       "PosixPath('/home/miltondp/projects/labs/greenelab/phenoplier/data/multiplier/multiplier_model_summary.tsv.gz')"
      ]
     },
     "execution_count": 26,
     "metadata": {},
     "output_type": "execute_result"
    }
   ],
   "source": [
    "# copy to deliverables folder\n",
    "copyfile(\n",
    "    output_text_file,\n",
    "    OUTPUT_DIR / output_text_file.name,\n",
    ")"
   ]
  },
  {
   "cell_type": "markdown",
   "metadata": {
    "papermill": {
     "duration": 0.046633,
     "end_time": "2021-07-31T02:45:41.050238",
     "exception": false,
     "start_time": "2021-07-31T02:45:41.003605",
     "status": "completed"
    },
    "tags": []
   },
   "source": [
    "# Matrix Z (loadings; genes x LVs)"
   ]
  },
  {
   "cell_type": "code",
   "execution_count": 27,
   "metadata": {
    "execution": {
     "iopub.execute_input": "2021-07-31T02:45:41.141397Z",
     "iopub.status.busy": "2021-07-31T02:45:41.141012Z",
     "iopub.status.idle": "2021-07-31T02:45:41.149063Z",
     "shell.execute_reply": "2021-07-31T02:45:41.148648Z"
    },
    "papermill": {
     "duration": 0.05457,
     "end_time": "2021-07-31T02:45:41.149147",
     "exception": false,
     "start_time": "2021-07-31T02:45:41.094577",
     "status": "completed"
    },
    "tags": []
   },
   "outputs": [],
   "source": [
    "multiplier_model_matrix = multiplier_full_model.rx2(\"Z\")"
   ]
  },
  {
   "cell_type": "code",
   "execution_count": 28,
   "metadata": {
    "execution": {
     "iopub.execute_input": "2021-07-31T02:45:41.239677Z",
     "iopub.status.busy": "2021-07-31T02:45:41.239308Z",
     "iopub.status.idle": "2021-07-31T02:45:41.248160Z",
     "shell.execute_reply": "2021-07-31T02:45:41.247735Z"
    },
    "papermill": {
     "duration": 0.055429,
     "end_time": "2021-07-31T02:45:41.248243",
     "exception": false,
     "start_time": "2021-07-31T02:45:41.192814",
     "status": "completed"
    },
    "tags": []
   },
   "outputs": [
    {
     "data": {
      "text/html": [
       "\n",
       "        <span>FloatMatrix with 6662250 elements.</span>\n",
       "        <table>\n",
       "        <tbody>\n",
       "          <tr>\n",
       "          \n",
       "            <td>\n",
       "            0.000000\n",
       "            </td>\n",
       "          \n",
       "            <td>\n",
       "            0.000000\n",
       "            </td>\n",
       "          \n",
       "            <td>\n",
       "            0.000000\n",
       "            </td>\n",
       "          \n",
       "            <td>\n",
       "            ...\n",
       "            </td>\n",
       "          \n",
       "            <td>\n",
       "            0.003215\n",
       "            </td>\n",
       "          \n",
       "            <td>\n",
       "            0.042435\n",
       "            </td>\n",
       "          \n",
       "            <td>\n",
       "            0.287909\n",
       "            </td>\n",
       "          \n",
       "          </tr>\n",
       "        </tbody>\n",
       "        </table>\n",
       "        "
      ],
      "text/plain": [
       "R object with classes: ('matrix',) mapped to:\n",
       "[0.000000, 0.000000, 0.000000, 0.305212, ..., 0.031268, 0.003215, 0.042435, 0.287909]"
      ]
     },
     "execution_count": 28,
     "metadata": {},
     "output_type": "execute_result"
    }
   ],
   "source": [
    "multiplier_model_matrix"
   ]
  },
  {
   "cell_type": "code",
   "execution_count": 29,
   "metadata": {
    "execution": {
     "iopub.execute_input": "2021-07-31T02:45:41.339975Z",
     "iopub.status.busy": "2021-07-31T02:45:41.339613Z",
     "iopub.status.idle": "2021-07-31T02:45:41.348565Z",
     "shell.execute_reply": "2021-07-31T02:45:41.348213Z"
    },
    "papermill": {
     "duration": 0.055548,
     "end_time": "2021-07-31T02:45:41.348646",
     "exception": false,
     "start_time": "2021-07-31T02:45:41.293098",
     "status": "completed"
    },
    "tags": []
   },
   "outputs": [
    {
     "data": {
      "text/html": [
       "\n",
       "        <span>StrVector with 6750 elements.</span>\n",
       "        <table>\n",
       "        <tbody>\n",
       "          <tr>\n",
       "          \n",
       "            <td>\n",
       "            'GAS6'\n",
       "            </td>\n",
       "          \n",
       "            <td>\n",
       "            'MMP14'\n",
       "            </td>\n",
       "          \n",
       "            <td>\n",
       "            'DSP'\n",
       "            </td>\n",
       "          \n",
       "            <td>\n",
       "            ...\n",
       "            </td>\n",
       "          \n",
       "            <td>\n",
       "            'PLEKHG6'\n",
       "            </td>\n",
       "          \n",
       "            <td>\n",
       "            'GNGT2'\n",
       "            </td>\n",
       "          \n",
       "            <td>\n",
       "            'SERPINH1'\n",
       "            </td>\n",
       "          \n",
       "          </tr>\n",
       "        </tbody>\n",
       "        </table>\n",
       "        "
      ],
      "text/plain": [
       "R object with classes: ('character',) mapped to:\n",
       "['GAS6', 'MMP14', 'DSP', 'MARCKSL1', ..., 'NFIB', 'PLEKHG6', 'GNGT2', 'SERPINH1']"
      ]
     },
     "execution_count": 29,
     "metadata": {},
     "output_type": "execute_result"
    }
   ],
   "source": [
    "multiplier_model_matrix.rownames"
   ]
  },
  {
   "cell_type": "code",
   "execution_count": 30,
   "metadata": {
    "execution": {
     "iopub.execute_input": "2021-07-31T02:45:41.441265Z",
     "iopub.status.busy": "2021-07-31T02:45:41.440892Z",
     "iopub.status.idle": "2021-07-31T02:45:41.449488Z",
     "shell.execute_reply": "2021-07-31T02:45:41.449110Z"
    },
    "papermill": {
     "duration": 0.055907,
     "end_time": "2021-07-31T02:45:41.449572",
     "exception": false,
     "start_time": "2021-07-31T02:45:41.393665",
     "status": "completed"
    },
    "tags": []
   },
   "outputs": [
    {
     "data": {
      "text/plain": [
       "<rpy2.rinterface_lib.sexp.NULLType object at 0x7f97ec165dc0> [RTYPES.NILSXP]"
      ]
     },
     "execution_count": 30,
     "metadata": {},
     "output_type": "execute_result"
    }
   ],
   "source": [
    "multiplier_model_matrix.colnames"
   ]
  },
  {
   "cell_type": "code",
   "execution_count": 31,
   "metadata": {
    "execution": {
     "iopub.execute_input": "2021-07-31T02:45:41.541985Z",
     "iopub.status.busy": "2021-07-31T02:45:41.541622Z",
     "iopub.status.idle": "2021-07-31T02:45:41.558623Z",
     "shell.execute_reply": "2021-07-31T02:45:41.558896Z"
    },
    "papermill": {
     "duration": 0.063881,
     "end_time": "2021-07-31T02:45:41.559003",
     "exception": false,
     "start_time": "2021-07-31T02:45:41.495122",
     "status": "completed"
    },
    "tags": []
   },
   "outputs": [],
   "source": [
    "with localconverter(ro.default_converter + pandas2ri.converter):\n",
    "    multiplier_model_matrix_values = ro.conversion.rpy2py(multiplier_model_matrix)"
   ]
  },
  {
   "cell_type": "code",
   "execution_count": 32,
   "metadata": {
    "execution": {
     "iopub.execute_input": "2021-07-31T02:45:41.653243Z",
     "iopub.status.busy": "2021-07-31T02:45:41.652878Z",
     "iopub.status.idle": "2021-07-31T02:45:41.676102Z",
     "shell.execute_reply": "2021-07-31T02:45:41.675686Z"
    },
    "papermill": {
     "duration": 0.071166,
     "end_time": "2021-07-31T02:45:41.676212",
     "exception": false,
     "start_time": "2021-07-31T02:45:41.605046",
     "status": "completed"
    },
    "tags": []
   },
   "outputs": [],
   "source": [
    "multiplier_model_matrix_df = pd.DataFrame(\n",
    "    data=multiplier_model_matrix_values,\n",
    "    index=multiplier_model_matrix.rownames,\n",
    "    columns=[f\"LV{i}\" for i in range(1, multiplier_model_matrix.ncol + 1)],\n",
    ")"
   ]
  },
  {
   "cell_type": "code",
   "execution_count": 33,
   "metadata": {
    "execution": {
     "iopub.execute_input": "2021-07-31T02:45:41.771872Z",
     "iopub.status.busy": "2021-07-31T02:45:41.771512Z",
     "iopub.status.idle": "2021-07-31T02:45:41.779819Z",
     "shell.execute_reply": "2021-07-31T02:45:41.780134Z"
    },
    "papermill": {
     "duration": 0.057111,
     "end_time": "2021-07-31T02:45:41.780240",
     "exception": false,
     "start_time": "2021-07-31T02:45:41.723129",
     "status": "completed"
    },
    "tags": []
   },
   "outputs": [
    {
     "data": {
      "text/plain": [
       "(6750, 987)"
      ]
     },
     "metadata": {},
     "output_type": "display_data"
    }
   ],
   "source": [
    "display(multiplier_model_matrix_df.shape)\n",
    "assert multiplier_model_matrix_df.shape == (6750, 987)"
   ]
  },
  {
   "cell_type": "code",
   "execution_count": 34,
   "metadata": {
    "execution": {
     "iopub.execute_input": "2021-07-31T02:45:41.874740Z",
     "iopub.status.busy": "2021-07-31T02:45:41.874380Z",
     "iopub.status.idle": "2021-07-31T02:45:41.894180Z",
     "shell.execute_reply": "2021-07-31T02:45:41.893773Z"
    },
    "papermill": {
     "duration": 0.067502,
     "end_time": "2021-07-31T02:45:41.894270",
     "exception": false,
     "start_time": "2021-07-31T02:45:41.826768",
     "status": "completed"
    },
    "tags": []
   },
   "outputs": [
    {
     "data": {
      "text/html": [
       "<div>\n",
       "<style scoped>\n",
       "    .dataframe tbody tr th:only-of-type {\n",
       "        vertical-align: middle;\n",
       "    }\n",
       "\n",
       "    .dataframe tbody tr th {\n",
       "        vertical-align: top;\n",
       "    }\n",
       "\n",
       "    .dataframe thead th {\n",
       "        text-align: right;\n",
       "    }\n",
       "</style>\n",
       "<table border=\"1\" class=\"dataframe\">\n",
       "  <thead>\n",
       "    <tr style=\"text-align: right;\">\n",
       "      <th></th>\n",
       "      <th>LV1</th>\n",
       "      <th>LV2</th>\n",
       "      <th>LV3</th>\n",
       "      <th>LV4</th>\n",
       "      <th>LV5</th>\n",
       "      <th>LV6</th>\n",
       "      <th>LV7</th>\n",
       "      <th>LV8</th>\n",
       "      <th>LV9</th>\n",
       "      <th>LV10</th>\n",
       "      <th>...</th>\n",
       "      <th>LV978</th>\n",
       "      <th>LV979</th>\n",
       "      <th>LV980</th>\n",
       "      <th>LV981</th>\n",
       "      <th>LV982</th>\n",
       "      <th>LV983</th>\n",
       "      <th>LV984</th>\n",
       "      <th>LV985</th>\n",
       "      <th>LV986</th>\n",
       "      <th>LV987</th>\n",
       "    </tr>\n",
       "  </thead>\n",
       "  <tbody>\n",
       "    <tr>\n",
       "      <th>GAS6</th>\n",
       "      <td>0.000000</td>\n",
       "      <td>0.0</td>\n",
       "      <td>0.039438</td>\n",
       "      <td>0.0</td>\n",
       "      <td>0.050476</td>\n",
       "      <td>0.000000</td>\n",
       "      <td>0.0</td>\n",
       "      <td>0.000000</td>\n",
       "      <td>0.590949</td>\n",
       "      <td>0.000000</td>\n",
       "      <td>...</td>\n",
       "      <td>0.050125</td>\n",
       "      <td>0.00000</td>\n",
       "      <td>0.033407</td>\n",
       "      <td>0.000000</td>\n",
       "      <td>0.000000</td>\n",
       "      <td>0.005963</td>\n",
       "      <td>0.347362</td>\n",
       "      <td>0.0</td>\n",
       "      <td>0.000000</td>\n",
       "      <td>0.000000</td>\n",
       "    </tr>\n",
       "    <tr>\n",
       "      <th>MMP14</th>\n",
       "      <td>0.000000</td>\n",
       "      <td>0.0</td>\n",
       "      <td>0.000000</td>\n",
       "      <td>0.0</td>\n",
       "      <td>0.070072</td>\n",
       "      <td>0.000000</td>\n",
       "      <td>0.0</td>\n",
       "      <td>0.004904</td>\n",
       "      <td>1.720179</td>\n",
       "      <td>2.423595</td>\n",
       "      <td>...</td>\n",
       "      <td>0.000000</td>\n",
       "      <td>0.00000</td>\n",
       "      <td>0.001007</td>\n",
       "      <td>0.000000</td>\n",
       "      <td>0.035747</td>\n",
       "      <td>0.000000</td>\n",
       "      <td>0.000000</td>\n",
       "      <td>0.0</td>\n",
       "      <td>0.014978</td>\n",
       "      <td>0.000000</td>\n",
       "    </tr>\n",
       "    <tr>\n",
       "      <th>DSP</th>\n",
       "      <td>0.000000</td>\n",
       "      <td>0.0</td>\n",
       "      <td>0.000000</td>\n",
       "      <td>0.0</td>\n",
       "      <td>0.000000</td>\n",
       "      <td>0.041697</td>\n",
       "      <td>0.0</td>\n",
       "      <td>0.005718</td>\n",
       "      <td>0.000000</td>\n",
       "      <td>0.000000</td>\n",
       "      <td>...</td>\n",
       "      <td>0.020853</td>\n",
       "      <td>0.00000</td>\n",
       "      <td>0.000000</td>\n",
       "      <td>0.000000</td>\n",
       "      <td>0.000000</td>\n",
       "      <td>0.005774</td>\n",
       "      <td>0.000000</td>\n",
       "      <td>0.0</td>\n",
       "      <td>0.000000</td>\n",
       "      <td>0.416405</td>\n",
       "    </tr>\n",
       "    <tr>\n",
       "      <th>MARCKSL1</th>\n",
       "      <td>0.305212</td>\n",
       "      <td>0.0</td>\n",
       "      <td>0.000000</td>\n",
       "      <td>0.0</td>\n",
       "      <td>0.000000</td>\n",
       "      <td>0.000000</td>\n",
       "      <td>0.0</td>\n",
       "      <td>0.000000</td>\n",
       "      <td>0.161843</td>\n",
       "      <td>0.149471</td>\n",
       "      <td>...</td>\n",
       "      <td>0.027134</td>\n",
       "      <td>0.05272</td>\n",
       "      <td>0.000000</td>\n",
       "      <td>0.030189</td>\n",
       "      <td>0.060884</td>\n",
       "      <td>0.000000</td>\n",
       "      <td>0.000000</td>\n",
       "      <td>0.0</td>\n",
       "      <td>0.000000</td>\n",
       "      <td>0.448480</td>\n",
       "    </tr>\n",
       "    <tr>\n",
       "      <th>SPARC</th>\n",
       "      <td>0.000000</td>\n",
       "      <td>0.0</td>\n",
       "      <td>0.000000</td>\n",
       "      <td>0.0</td>\n",
       "      <td>0.000000</td>\n",
       "      <td>0.000000</td>\n",
       "      <td>0.0</td>\n",
       "      <td>0.000000</td>\n",
       "      <td>0.000000</td>\n",
       "      <td>0.014014</td>\n",
       "      <td>...</td>\n",
       "      <td>0.000000</td>\n",
       "      <td>0.00000</td>\n",
       "      <td>0.000000</td>\n",
       "      <td>0.000000</td>\n",
       "      <td>0.000000</td>\n",
       "      <td>0.000000</td>\n",
       "      <td>0.067779</td>\n",
       "      <td>0.0</td>\n",
       "      <td>0.122417</td>\n",
       "      <td>0.062665</td>\n",
       "    </tr>\n",
       "  </tbody>\n",
       "</table>\n",
       "<p>5 rows × 987 columns</p>\n",
       "</div>"
      ],
      "text/plain": [
       "               LV1  LV2       LV3  LV4       LV5       LV6  LV7       LV8  \\\n",
       "GAS6      0.000000  0.0  0.039438  0.0  0.050476  0.000000  0.0  0.000000   \n",
       "MMP14     0.000000  0.0  0.000000  0.0  0.070072  0.000000  0.0  0.004904   \n",
       "DSP       0.000000  0.0  0.000000  0.0  0.000000  0.041697  0.0  0.005718   \n",
       "MARCKSL1  0.305212  0.0  0.000000  0.0  0.000000  0.000000  0.0  0.000000   \n",
       "SPARC     0.000000  0.0  0.000000  0.0  0.000000  0.000000  0.0  0.000000   \n",
       "\n",
       "               LV9      LV10  ...     LV978    LV979     LV980     LV981  \\\n",
       "GAS6      0.590949  0.000000  ...  0.050125  0.00000  0.033407  0.000000   \n",
       "MMP14     1.720179  2.423595  ...  0.000000  0.00000  0.001007  0.000000   \n",
       "DSP       0.000000  0.000000  ...  0.020853  0.00000  0.000000  0.000000   \n",
       "MARCKSL1  0.161843  0.149471  ...  0.027134  0.05272  0.000000  0.030189   \n",
       "SPARC     0.000000  0.014014  ...  0.000000  0.00000  0.000000  0.000000   \n",
       "\n",
       "             LV982     LV983     LV984  LV985     LV986     LV987  \n",
       "GAS6      0.000000  0.005963  0.347362    0.0  0.000000  0.000000  \n",
       "MMP14     0.035747  0.000000  0.000000    0.0  0.014978  0.000000  \n",
       "DSP       0.000000  0.005774  0.000000    0.0  0.000000  0.416405  \n",
       "MARCKSL1  0.060884  0.000000  0.000000    0.0  0.000000  0.448480  \n",
       "SPARC     0.000000  0.000000  0.067779    0.0  0.122417  0.062665  \n",
       "\n",
       "[5 rows x 987 columns]"
      ]
     },
     "execution_count": 34,
     "metadata": {},
     "output_type": "execute_result"
    }
   ],
   "source": [
    "multiplier_model_matrix_df.head()"
   ]
  },
  {
   "cell_type": "code",
   "execution_count": 35,
   "metadata": {
    "execution": {
     "iopub.execute_input": "2021-07-31T02:45:41.992686Z",
     "iopub.status.busy": "2021-07-31T02:45:41.992295Z",
     "iopub.status.idle": "2021-07-31T02:45:42.001314Z",
     "shell.execute_reply": "2021-07-31T02:45:42.000945Z"
    },
    "papermill": {
     "duration": 0.058522,
     "end_time": "2021-07-31T02:45:42.001400",
     "exception": false,
     "start_time": "2021-07-31T02:45:41.942878",
     "status": "completed"
    },
    "tags": []
   },
   "outputs": [],
   "source": [
    "# make sure I'm seeing the same when loaded with R\n",
    "assert multiplier_model_matrix_df.loc[\"GAS6\", \"LV2\"] == 0\n",
    "assert multiplier_model_matrix_df.loc[\"GAS6\", \"LV3\"] == 0.039437739697954444\n",
    "assert multiplier_model_matrix_df.loc[\"GAS6\", \"LV984\"] == 0.3473620915326928\n",
    "assert multiplier_model_matrix_df.loc[\"GAS6\", \"LV987\"] == 0\n",
    "\n",
    "assert multiplier_model_matrix_df.loc[\"SPARC\", \"LV981\"] == 0\n",
    "assert multiplier_model_matrix_df.loc[\"SPARC\", \"LV986\"].round(8) == 0.12241734"
   ]
  },
  {
   "cell_type": "markdown",
   "metadata": {
    "papermill": {
     "duration": 0.048027,
     "end_time": "2021-07-31T02:45:42.098918",
     "exception": false,
     "start_time": "2021-07-31T02:45:42.050891",
     "status": "completed"
    },
    "tags": []
   },
   "source": [
    "## Save"
   ]
  },
  {
   "cell_type": "markdown",
   "metadata": {
    "papermill": {
     "duration": 0.046862,
     "end_time": "2021-07-31T02:45:42.192435",
     "exception": false,
     "start_time": "2021-07-31T02:45:42.145573",
     "status": "completed"
    },
    "tags": []
   },
   "source": [
    "### Pickle format"
   ]
  },
  {
   "cell_type": "code",
   "execution_count": 36,
   "metadata": {
    "execution": {
     "iopub.execute_input": "2021-07-31T02:45:42.287990Z",
     "iopub.status.busy": "2021-07-31T02:45:42.287629Z",
     "iopub.status.idle": "2021-07-31T02:45:42.296244Z",
     "shell.execute_reply": "2021-07-31T02:45:42.295879Z"
    },
    "papermill": {
     "duration": 0.057736,
     "end_time": "2021-07-31T02:45:42.296328",
     "exception": false,
     "start_time": "2021-07-31T02:45:42.238592",
     "status": "completed"
    },
    "tags": []
   },
   "outputs": [
    {
     "data": {
      "text/plain": [
       "PosixPath('/home/miltondp/projects/labs/greenelab/phenoplier/base/data/multiplier/multiplier_model_z.pkl')"
      ]
     },
     "metadata": {},
     "output_type": "display_data"
    }
   ],
   "source": [
    "output_file = conf.MULTIPLIER[\"MODEL_Z_MATRIX_FILE\"]\n",
    "display(output_file)"
   ]
  },
  {
   "cell_type": "code",
   "execution_count": 37,
   "metadata": {
    "execution": {
     "iopub.execute_input": "2021-07-31T02:45:42.391680Z",
     "iopub.status.busy": "2021-07-31T02:45:42.391307Z",
     "iopub.status.idle": "2021-07-31T02:45:42.659820Z",
     "shell.execute_reply": "2021-07-31T02:45:42.658263Z"
    },
    "papermill": {
     "duration": 0.317343,
     "end_time": "2021-07-31T02:45:42.660151",
     "exception": false,
     "start_time": "2021-07-31T02:45:42.342808",
     "status": "completed"
    },
    "tags": []
   },
   "outputs": [],
   "source": [
    "multiplier_model_matrix_df.to_pickle(output_file)"
   ]
  },
  {
   "cell_type": "code",
   "execution_count": 38,
   "metadata": {
    "execution": {
     "iopub.execute_input": "2021-07-31T02:45:42.788722Z",
     "iopub.status.busy": "2021-07-31T02:45:42.788328Z",
     "iopub.status.idle": "2021-07-31T02:45:42.824401Z",
     "shell.execute_reply": "2021-07-31T02:45:42.823981Z"
    },
    "papermill": {
     "duration": 0.084917,
     "end_time": "2021-07-31T02:45:42.824496",
     "exception": false,
     "start_time": "2021-07-31T02:45:42.739579",
     "status": "completed"
    },
    "tags": []
   },
   "outputs": [
    {
     "data": {
      "text/plain": [
       "PosixPath('/home/miltondp/projects/labs/greenelab/phenoplier/data/multiplier/multiplier_model_z.pkl')"
      ]
     },
     "execution_count": 38,
     "metadata": {},
     "output_type": "execute_result"
    }
   ],
   "source": [
    "# copy to deliverables folder\n",
    "copyfile(\n",
    "    output_file,\n",
    "    OUTPUT_DIR / output_file.name,\n",
    ")"
   ]
  },
  {
   "cell_type": "markdown",
   "metadata": {
    "papermill": {
     "duration": 0.046291,
     "end_time": "2021-07-31T02:45:42.920454",
     "exception": false,
     "start_time": "2021-07-31T02:45:42.874163",
     "status": "completed"
    },
    "tags": []
   },
   "source": [
    "### RDS format"
   ]
  },
  {
   "cell_type": "code",
   "execution_count": 39,
   "metadata": {
    "execution": {
     "iopub.execute_input": "2021-07-31T02:45:43.017298Z",
     "iopub.status.busy": "2021-07-31T02:45:43.016925Z",
     "iopub.status.idle": "2021-07-31T02:45:43.025253Z",
     "shell.execute_reply": "2021-07-31T02:45:43.024891Z"
    },
    "papermill": {
     "duration": 0.05794,
     "end_time": "2021-07-31T02:45:43.025337",
     "exception": false,
     "start_time": "2021-07-31T02:45:42.967397",
     "status": "completed"
    },
    "tags": []
   },
   "outputs": [
    {
     "data": {
      "text/plain": [
       "PosixPath('/home/miltondp/projects/labs/greenelab/phenoplier/base/data/multiplier/multiplier_model_z.rds')"
      ]
     },
     "metadata": {},
     "output_type": "display_data"
    }
   ],
   "source": [
    "output_rds_file = output_file.with_suffix(\".rds\")\n",
    "display(output_rds_file)"
   ]
  },
  {
   "cell_type": "code",
   "execution_count": 40,
   "metadata": {
    "execution": {
     "iopub.execute_input": "2021-07-31T02:45:43.127744Z",
     "iopub.status.busy": "2021-07-31T02:45:43.127387Z",
     "iopub.status.idle": "2021-07-31T02:45:45.031447Z",
     "shell.execute_reply": "2021-07-31T02:45:45.030192Z"
    },
    "papermill": {
     "duration": 1.953897,
     "end_time": "2021-07-31T02:45:45.031784",
     "exception": false,
     "start_time": "2021-07-31T02:45:43.077887",
     "status": "completed"
    },
    "tags": []
   },
   "outputs": [
    {
     "data": {
      "text/plain": [
       "<rpy2.rinterface_lib.sexp.NULLType object at 0x7f97ec165dc0> [RTYPES.NILSXP]"
      ]
     },
     "execution_count": 40,
     "metadata": {},
     "output_type": "execute_result"
    }
   ],
   "source": [
    "saveRDS(multiplier_model_matrix, str(output_rds_file))"
   ]
  },
  {
   "cell_type": "code",
   "execution_count": 41,
   "metadata": {
    "execution": {
     "iopub.execute_input": "2021-07-31T02:45:45.136379Z",
     "iopub.status.busy": "2021-07-31T02:45:45.136016Z",
     "iopub.status.idle": "2021-07-31T02:45:45.156318Z",
     "shell.execute_reply": "2021-07-31T02:45:45.156005Z"
    },
    "papermill": {
     "duration": 0.069872,
     "end_time": "2021-07-31T02:45:45.156408",
     "exception": false,
     "start_time": "2021-07-31T02:45:45.086536",
     "status": "completed"
    },
    "tags": []
   },
   "outputs": [
    {
     "data": {
      "text/plain": [
       "PosixPath('/home/miltondp/projects/labs/greenelab/phenoplier/data/multiplier/multiplier_model_z.rds')"
      ]
     },
     "execution_count": 41,
     "metadata": {},
     "output_type": "execute_result"
    }
   ],
   "source": [
    "# copy to deliverables folder\n",
    "copyfile(\n",
    "    output_rds_file,\n",
    "    OUTPUT_DIR / output_rds_file.name,\n",
    ")"
   ]
  },
  {
   "cell_type": "markdown",
   "metadata": {
    "papermill": {
     "duration": 0.046764,
     "end_time": "2021-07-31T02:45:45.250432",
     "exception": false,
     "start_time": "2021-07-31T02:45:45.203668",
     "status": "completed"
    },
    "tags": []
   },
   "source": [
    "### Text format"
   ]
  },
  {
   "cell_type": "code",
   "execution_count": 42,
   "metadata": {
    "execution": {
     "iopub.execute_input": "2021-07-31T02:45:45.347991Z",
     "iopub.status.busy": "2021-07-31T02:45:45.347617Z",
     "iopub.status.idle": "2021-07-31T02:45:45.355795Z",
     "shell.execute_reply": "2021-07-31T02:45:45.355476Z"
    },
    "papermill": {
     "duration": 0.057688,
     "end_time": "2021-07-31T02:45:45.355878",
     "exception": false,
     "start_time": "2021-07-31T02:45:45.298190",
     "status": "completed"
    },
    "tags": []
   },
   "outputs": [
    {
     "data": {
      "text/plain": [
       "PosixPath('/home/miltondp/projects/labs/greenelab/phenoplier/base/data/multiplier/multiplier_model_z.tsv.gz')"
      ]
     },
     "metadata": {},
     "output_type": "display_data"
    }
   ],
   "source": [
    "# tsv format\n",
    "output_text_file = output_file.with_suffix(\".tsv.gz\")\n",
    "display(output_text_file)"
   ]
  },
  {
   "cell_type": "code",
   "execution_count": 43,
   "metadata": {
    "execution": {
     "iopub.execute_input": "2021-07-31T02:45:45.454764Z",
     "iopub.status.busy": "2021-07-31T02:45:45.454399Z",
     "iopub.status.idle": "2021-07-31T02:46:05.378030Z",
     "shell.execute_reply": "2021-07-31T02:46:05.377696Z"
    },
    "papermill": {
     "duration": 19.973682,
     "end_time": "2021-07-31T02:46:05.378118",
     "exception": false,
     "start_time": "2021-07-31T02:45:45.404436",
     "status": "completed"
    },
    "tags": []
   },
   "outputs": [],
   "source": [
    "multiplier_model_matrix_df.to_csv(\n",
    "    output_text_file, sep=\"\\t\", index=True, float_format=\"%.5e\"\n",
    ")"
   ]
  },
  {
   "cell_type": "code",
   "execution_count": 44,
   "metadata": {
    "execution": {
     "iopub.execute_input": "2021-07-31T02:46:05.475989Z",
     "iopub.status.busy": "2021-07-31T02:46:05.475629Z",
     "iopub.status.idle": "2021-07-31T02:46:05.490678Z",
     "shell.execute_reply": "2021-07-31T02:46:05.490956Z"
    },
    "papermill": {
     "duration": 0.064761,
     "end_time": "2021-07-31T02:46:05.491060",
     "exception": false,
     "start_time": "2021-07-31T02:46:05.426299",
     "status": "completed"
    },
    "tags": []
   },
   "outputs": [
    {
     "data": {
      "text/plain": [
       "PosixPath('/home/miltondp/projects/labs/greenelab/phenoplier/data/multiplier/multiplier_model_z.tsv.gz')"
      ]
     },
     "execution_count": 44,
     "metadata": {},
     "output_type": "execute_result"
    }
   ],
   "source": [
    "# copy to deliverables folder\n",
    "copyfile(\n",
    "    output_text_file,\n",
    "    OUTPUT_DIR / output_text_file.name,\n",
    ")"
   ]
  },
  {
   "cell_type": "markdown",
   "metadata": {
    "papermill": {
     "duration": 0.046832,
     "end_time": "2021-07-31T02:46:05.585291",
     "exception": false,
     "start_time": "2021-07-31T02:46:05.538459",
     "status": "completed"
    },
    "tags": []
   },
   "source": [
    "# Matrix B (latent space; LVs x samples)"
   ]
  },
  {
   "cell_type": "code",
   "execution_count": 45,
   "metadata": {
    "execution": {
     "iopub.execute_input": "2021-07-31T02:46:05.682479Z",
     "iopub.status.busy": "2021-07-31T02:46:05.682106Z",
     "iopub.status.idle": "2021-07-31T02:46:05.689924Z",
     "shell.execute_reply": "2021-07-31T02:46:05.689563Z"
    },
    "papermill": {
     "duration": 0.058024,
     "end_time": "2021-07-31T02:46:05.690007",
     "exception": false,
     "start_time": "2021-07-31T02:46:05.631983",
     "status": "completed"
    },
    "tags": []
   },
   "outputs": [],
   "source": [
    "multiplier_model_matrix = multiplier_full_model.rx2(\"B\")"
   ]
  },
  {
   "cell_type": "code",
   "execution_count": 46,
   "metadata": {
    "execution": {
     "iopub.execute_input": "2021-07-31T02:46:05.787809Z",
     "iopub.status.busy": "2021-07-31T02:46:05.787435Z",
     "iopub.status.idle": "2021-07-31T02:46:05.796419Z",
     "shell.execute_reply": "2021-07-31T02:46:05.796046Z"
    },
    "papermill": {
     "duration": 0.058907,
     "end_time": "2021-07-31T02:46:05.796505",
     "exception": false,
     "start_time": "2021-07-31T02:46:05.737598",
     "status": "completed"
    },
    "tags": []
   },
   "outputs": [
    {
     "data": {
      "text/html": [
       "\n",
       "        <span>FloatMatrix with 36550584 elements.</span>\n",
       "        <table>\n",
       "        <tbody>\n",
       "          <tr>\n",
       "          \n",
       "            <td>\n",
       "            -0.059297\n",
       "            </td>\n",
       "          \n",
       "            <td>\n",
       "            0.006213\n",
       "            </td>\n",
       "          \n",
       "            <td>\n",
       "            -0.026105\n",
       "            </td>\n",
       "          \n",
       "            <td>\n",
       "            ...\n",
       "            </td>\n",
       "          \n",
       "            <td>\n",
       "            -0.104375\n",
       "            </td>\n",
       "          \n",
       "            <td>\n",
       "            -0.015785\n",
       "            </td>\n",
       "          \n",
       "            <td>\n",
       "            -0.024907\n",
       "            </td>\n",
       "          \n",
       "          </tr>\n",
       "        </tbody>\n",
       "        </table>\n",
       "        "
      ],
      "text/plain": [
       "R object with classes: ('matrix',) mapped to:\n",
       "[-0.059297, 0.006213, -0.026105, -0.022080, ..., -0.090562, -0.104375, -0.015785, -0.024907]"
      ]
     },
     "execution_count": 46,
     "metadata": {},
     "output_type": "execute_result"
    }
   ],
   "source": [
    "multiplier_model_matrix"
   ]
  },
  {
   "cell_type": "code",
   "execution_count": 47,
   "metadata": {
    "execution": {
     "iopub.execute_input": "2021-07-31T02:46:05.894812Z",
     "iopub.status.busy": "2021-07-31T02:46:05.894457Z",
     "iopub.status.idle": "2021-07-31T02:46:05.903077Z",
     "shell.execute_reply": "2021-07-31T02:46:05.902713Z"
    },
    "papermill": {
     "duration": 0.058342,
     "end_time": "2021-07-31T02:46:05.903159",
     "exception": false,
     "start_time": "2021-07-31T02:46:05.844817",
     "status": "completed"
    },
    "tags": []
   },
   "outputs": [
    {
     "data": {
      "text/html": [
       "\n",
       "        <span>StrVector with 987 elements.</span>\n",
       "        <table>\n",
       "        <tbody>\n",
       "          <tr>\n",
       "          \n",
       "            <td>\n",
       "            '1,REACTO...\n",
       "            </td>\n",
       "          \n",
       "            <td>\n",
       "            '2,SVM Mo...\n",
       "            </td>\n",
       "          \n",
       "            <td>\n",
       "            '3,REACTO...\n",
       "            </td>\n",
       "          \n",
       "            <td>\n",
       "            ...\n",
       "            </td>\n",
       "          \n",
       "            <td>\n",
       "            '985,IRIS...\n",
       "            </td>\n",
       "          \n",
       "            <td>\n",
       "            'LV 986'\n",
       "            </td>\n",
       "          \n",
       "            <td>\n",
       "            'LV 987'\n",
       "            </td>\n",
       "          \n",
       "          </tr>\n",
       "        </tbody>\n",
       "        </table>\n",
       "        "
      ],
      "text/plain": [
       "R object with classes: ('character',) mapped to:\n",
       "['1,REACTO..., '2,SVM Mo..., '3,REACTO..., '4,REACTO..., ..., 'LV 984', '985,IRIS..., 'LV 986', 'LV 987']"
      ]
     },
     "execution_count": 47,
     "metadata": {},
     "output_type": "execute_result"
    }
   ],
   "source": [
    "multiplier_model_matrix.rownames"
   ]
  },
  {
   "cell_type": "code",
   "execution_count": 48,
   "metadata": {
    "execution": {
     "iopub.execute_input": "2021-07-31T02:46:06.003842Z",
     "iopub.status.busy": "2021-07-31T02:46:06.003462Z",
     "iopub.status.idle": "2021-07-31T02:46:06.012583Z",
     "shell.execute_reply": "2021-07-31T02:46:06.012214Z"
    },
    "papermill": {
     "duration": 0.060811,
     "end_time": "2021-07-31T02:46:06.012669",
     "exception": false,
     "start_time": "2021-07-31T02:46:05.951858",
     "status": "completed"
    },
    "tags": []
   },
   "outputs": [
    {
     "data": {
      "text/html": [
       "\n",
       "        <span>StrVector with 37032 elements.</span>\n",
       "        <table>\n",
       "        <tbody>\n",
       "          <tr>\n",
       "          \n",
       "            <td>\n",
       "            'SRP00059...\n",
       "            </td>\n",
       "          \n",
       "            <td>\n",
       "            'SRP00059...\n",
       "            </td>\n",
       "          \n",
       "            <td>\n",
       "            'SRP00059...\n",
       "            </td>\n",
       "          \n",
       "            <td>\n",
       "            ...\n",
       "            </td>\n",
       "          \n",
       "            <td>\n",
       "            'SRP03559...\n",
       "            </td>\n",
       "          \n",
       "            <td>\n",
       "            'SRP03559...\n",
       "            </td>\n",
       "          \n",
       "            <td>\n",
       "            'SRP03559...\n",
       "            </td>\n",
       "          \n",
       "          </tr>\n",
       "        </tbody>\n",
       "        </table>\n",
       "        "
      ],
      "text/plain": [
       "R object with classes: ('character',) mapped to:\n",
       "['SRP00059..., 'SRP00059..., 'SRP00059..., 'SRP00059..., ..., 'SRP03559..., 'SRP03559..., 'SRP03559..., 'SRP03559...]"
      ]
     },
     "execution_count": 48,
     "metadata": {},
     "output_type": "execute_result"
    }
   ],
   "source": [
    "multiplier_model_matrix.colnames"
   ]
  },
  {
   "cell_type": "code",
   "execution_count": 49,
   "metadata": {
    "execution": {
     "iopub.execute_input": "2021-07-31T02:46:06.112631Z",
     "iopub.status.busy": "2021-07-31T02:46:06.112271Z",
     "iopub.status.idle": "2021-07-31T02:46:06.180329Z",
     "shell.execute_reply": "2021-07-31T02:46:06.179951Z"
    },
    "papermill": {
     "duration": 0.118771,
     "end_time": "2021-07-31T02:46:06.180433",
     "exception": false,
     "start_time": "2021-07-31T02:46:06.061662",
     "status": "completed"
    },
    "tags": []
   },
   "outputs": [],
   "source": [
    "with localconverter(ro.default_converter + pandas2ri.converter):\n",
    "    multiplier_model_matrix_values = ro.conversion.rpy2py(multiplier_model_matrix)"
   ]
  },
  {
   "cell_type": "code",
   "execution_count": 50,
   "metadata": {
    "execution": {
     "iopub.execute_input": "2021-07-31T02:46:06.284615Z",
     "iopub.status.busy": "2021-07-31T02:46:06.284248Z",
     "iopub.status.idle": "2021-07-31T02:46:06.372978Z",
     "shell.execute_reply": "2021-07-31T02:46:06.372586Z"
    },
    "papermill": {
     "duration": 0.140542,
     "end_time": "2021-07-31T02:46:06.373066",
     "exception": false,
     "start_time": "2021-07-31T02:46:06.232524",
     "status": "completed"
    },
    "tags": []
   },
   "outputs": [],
   "source": [
    "multiplier_model_matrix_df = pd.DataFrame(\n",
    "    data=multiplier_model_matrix_values,\n",
    "    #    Look like the rows have a special meaning, so no overriding it.\n",
    "    #    index=[f'LV{i}' for i in range(1, multiplier_model_matrix.nrow + 1)],\n",
    "    index=multiplier_model_matrix.rownames,\n",
    "    columns=multiplier_model_matrix.colnames,\n",
    ")"
   ]
  },
  {
   "cell_type": "code",
   "execution_count": 51,
   "metadata": {
    "execution": {
     "iopub.execute_input": "2021-07-31T02:46:06.472139Z",
     "iopub.status.busy": "2021-07-31T02:46:06.471782Z",
     "iopub.status.idle": "2021-07-31T02:46:06.479930Z",
     "shell.execute_reply": "2021-07-31T02:46:06.479571Z"
    },
    "papermill": {
     "duration": 0.058571,
     "end_time": "2021-07-31T02:46:06.480013",
     "exception": false,
     "start_time": "2021-07-31T02:46:06.421442",
     "status": "completed"
    },
    "tags": []
   },
   "outputs": [
    {
     "data": {
      "text/plain": [
       "(987, 37032)"
      ]
     },
     "metadata": {},
     "output_type": "display_data"
    }
   ],
   "source": [
    "display(multiplier_model_matrix_df.shape)\n",
    "assert multiplier_model_matrix_df.shape == (987, 37032)"
   ]
  },
  {
   "cell_type": "code",
   "execution_count": 52,
   "metadata": {
    "execution": {
     "iopub.execute_input": "2021-07-31T02:46:06.579757Z",
     "iopub.status.busy": "2021-07-31T02:46:06.579400Z",
     "iopub.status.idle": "2021-07-31T02:46:06.602361Z",
     "shell.execute_reply": "2021-07-31T02:46:06.602047Z"
    },
    "papermill": {
     "duration": 0.07381,
     "end_time": "2021-07-31T02:46:06.602444",
     "exception": false,
     "start_time": "2021-07-31T02:46:06.528634",
     "status": "completed"
    },
    "tags": []
   },
   "outputs": [
    {
     "data": {
      "text/html": [
       "<div>\n",
       "<style scoped>\n",
       "    .dataframe tbody tr th:only-of-type {\n",
       "        vertical-align: middle;\n",
       "    }\n",
       "\n",
       "    .dataframe tbody tr th {\n",
       "        vertical-align: top;\n",
       "    }\n",
       "\n",
       "    .dataframe thead th {\n",
       "        text-align: right;\n",
       "    }\n",
       "</style>\n",
       "<table border=\"1\" class=\"dataframe\">\n",
       "  <thead>\n",
       "    <tr style=\"text-align: right;\">\n",
       "      <th></th>\n",
       "      <th>SRP000599.SRR013549</th>\n",
       "      <th>SRP000599.SRR013550</th>\n",
       "      <th>SRP000599.SRR013551</th>\n",
       "      <th>SRP000599.SRR013552</th>\n",
       "      <th>SRP000599.SRR013553</th>\n",
       "      <th>SRP000599.SRR013554</th>\n",
       "      <th>SRP000599.SRR013555</th>\n",
       "      <th>SRP000599.SRR013556</th>\n",
       "      <th>SRP000599.SRR013557</th>\n",
       "      <th>SRP000599.SRR013558</th>\n",
       "      <th>...</th>\n",
       "      <th>SRP035599.SRR1139372</th>\n",
       "      <th>SRP035599.SRR1139393</th>\n",
       "      <th>SRP035599.SRR1139388</th>\n",
       "      <th>SRP035599.SRR1139378</th>\n",
       "      <th>SRP035599.SRR1139399</th>\n",
       "      <th>SRP035599.SRR1139386</th>\n",
       "      <th>SRP035599.SRR1139375</th>\n",
       "      <th>SRP035599.SRR1139382</th>\n",
       "      <th>SRP035599.SRR1139356</th>\n",
       "      <th>SRP035599.SRR1139370</th>\n",
       "    </tr>\n",
       "  </thead>\n",
       "  <tbody>\n",
       "    <tr>\n",
       "      <th>1,REACTOME_MRNA_SPLICING</th>\n",
       "      <td>-0.059297</td>\n",
       "      <td>-0.047909</td>\n",
       "      <td>-0.049366</td>\n",
       "      <td>-0.065078</td>\n",
       "      <td>-0.036394</td>\n",
       "      <td>-0.046433</td>\n",
       "      <td>-0.040980</td>\n",
       "      <td>-0.040068</td>\n",
       "      <td>-0.046137</td>\n",
       "      <td>-0.048548</td>\n",
       "      <td>...</td>\n",
       "      <td>0.028220</td>\n",
       "      <td>0.035137</td>\n",
       "      <td>0.065077</td>\n",
       "      <td>0.078144</td>\n",
       "      <td>0.092362</td>\n",
       "      <td>0.069042</td>\n",
       "      <td>0.090914</td>\n",
       "      <td>0.096341</td>\n",
       "      <td>0.131115</td>\n",
       "      <td>0.171751</td>\n",
       "    </tr>\n",
       "    <tr>\n",
       "      <th>2,SVM Monocytes</th>\n",
       "      <td>0.006213</td>\n",
       "      <td>0.003625</td>\n",
       "      <td>0.006605</td>\n",
       "      <td>0.009258</td>\n",
       "      <td>0.005061</td>\n",
       "      <td>0.004133</td>\n",
       "      <td>0.008950</td>\n",
       "      <td>0.007227</td>\n",
       "      <td>0.007241</td>\n",
       "      <td>0.005710</td>\n",
       "      <td>...</td>\n",
       "      <td>-0.050455</td>\n",
       "      <td>-0.034502</td>\n",
       "      <td>-0.033640</td>\n",
       "      <td>-0.049702</td>\n",
       "      <td>-0.037426</td>\n",
       "      <td>-0.050070</td>\n",
       "      <td>-0.022575</td>\n",
       "      <td>-0.055091</td>\n",
       "      <td>-0.056869</td>\n",
       "      <td>-0.018073</td>\n",
       "    </tr>\n",
       "    <tr>\n",
       "      <th>3,REACTOME_TRANSMISSION_ACROSS_CHEMICAL_SYNAPSES</th>\n",
       "      <td>-0.026105</td>\n",
       "      <td>-0.032232</td>\n",
       "      <td>-0.020621</td>\n",
       "      <td>-0.027599</td>\n",
       "      <td>-0.035248</td>\n",
       "      <td>-0.038701</td>\n",
       "      <td>-0.032527</td>\n",
       "      <td>-0.030593</td>\n",
       "      <td>-0.028937</td>\n",
       "      <td>-0.027406</td>\n",
       "      <td>...</td>\n",
       "      <td>-0.028610</td>\n",
       "      <td>-0.033450</td>\n",
       "      <td>-0.030583</td>\n",
       "      <td>-0.032399</td>\n",
       "      <td>-0.029365</td>\n",
       "      <td>-0.025406</td>\n",
       "      <td>-0.033657</td>\n",
       "      <td>-0.031318</td>\n",
       "      <td>-0.030924</td>\n",
       "      <td>-0.027869</td>\n",
       "    </tr>\n",
       "    <tr>\n",
       "      <th>4,REACTOME_NEURONAL_SYSTEM</th>\n",
       "      <td>-0.022080</td>\n",
       "      <td>-0.008971</td>\n",
       "      <td>-0.020342</td>\n",
       "      <td>-0.016260</td>\n",
       "      <td>-0.003023</td>\n",
       "      <td>0.002443</td>\n",
       "      <td>-0.020458</td>\n",
       "      <td>-0.023735</td>\n",
       "      <td>-0.021581</td>\n",
       "      <td>-0.022478</td>\n",
       "      <td>...</td>\n",
       "      <td>-0.037122</td>\n",
       "      <td>-0.029658</td>\n",
       "      <td>-0.036350</td>\n",
       "      <td>-0.039254</td>\n",
       "      <td>-0.035205</td>\n",
       "      <td>-0.036345</td>\n",
       "      <td>-0.034514</td>\n",
       "      <td>-0.035926</td>\n",
       "      <td>-0.040358</td>\n",
       "      <td>-0.031131</td>\n",
       "    </tr>\n",
       "    <tr>\n",
       "      <th>LV 5</th>\n",
       "      <td>0.007663</td>\n",
       "      <td>0.007036</td>\n",
       "      <td>0.006608</td>\n",
       "      <td>0.003446</td>\n",
       "      <td>0.006341</td>\n",
       "      <td>0.007106</td>\n",
       "      <td>0.007930</td>\n",
       "      <td>0.009164</td>\n",
       "      <td>0.008024</td>\n",
       "      <td>0.007938</td>\n",
       "      <td>...</td>\n",
       "      <td>-0.003056</td>\n",
       "      <td>-0.004784</td>\n",
       "      <td>-0.004352</td>\n",
       "      <td>-0.004160</td>\n",
       "      <td>-0.001085</td>\n",
       "      <td>-0.001884</td>\n",
       "      <td>-0.003561</td>\n",
       "      <td>-0.003546</td>\n",
       "      <td>-0.012107</td>\n",
       "      <td>-0.001193</td>\n",
       "    </tr>\n",
       "  </tbody>\n",
       "</table>\n",
       "<p>5 rows × 37032 columns</p>\n",
       "</div>"
      ],
      "text/plain": [
       "                                                  SRP000599.SRR013549  \\\n",
       "1,REACTOME_MRNA_SPLICING                                    -0.059297   \n",
       "2,SVM Monocytes                                              0.006213   \n",
       "3,REACTOME_TRANSMISSION_ACROSS_CHEMICAL_SYNAPSES            -0.026105   \n",
       "4,REACTOME_NEURONAL_SYSTEM                                  -0.022080   \n",
       "LV 5                                                         0.007663   \n",
       "\n",
       "                                                  SRP000599.SRR013550  \\\n",
       "1,REACTOME_MRNA_SPLICING                                    -0.047909   \n",
       "2,SVM Monocytes                                              0.003625   \n",
       "3,REACTOME_TRANSMISSION_ACROSS_CHEMICAL_SYNAPSES            -0.032232   \n",
       "4,REACTOME_NEURONAL_SYSTEM                                  -0.008971   \n",
       "LV 5                                                         0.007036   \n",
       "\n",
       "                                                  SRP000599.SRR013551  \\\n",
       "1,REACTOME_MRNA_SPLICING                                    -0.049366   \n",
       "2,SVM Monocytes                                              0.006605   \n",
       "3,REACTOME_TRANSMISSION_ACROSS_CHEMICAL_SYNAPSES            -0.020621   \n",
       "4,REACTOME_NEURONAL_SYSTEM                                  -0.020342   \n",
       "LV 5                                                         0.006608   \n",
       "\n",
       "                                                  SRP000599.SRR013552  \\\n",
       "1,REACTOME_MRNA_SPLICING                                    -0.065078   \n",
       "2,SVM Monocytes                                              0.009258   \n",
       "3,REACTOME_TRANSMISSION_ACROSS_CHEMICAL_SYNAPSES            -0.027599   \n",
       "4,REACTOME_NEURONAL_SYSTEM                                  -0.016260   \n",
       "LV 5                                                         0.003446   \n",
       "\n",
       "                                                  SRP000599.SRR013553  \\\n",
       "1,REACTOME_MRNA_SPLICING                                    -0.036394   \n",
       "2,SVM Monocytes                                              0.005061   \n",
       "3,REACTOME_TRANSMISSION_ACROSS_CHEMICAL_SYNAPSES            -0.035248   \n",
       "4,REACTOME_NEURONAL_SYSTEM                                  -0.003023   \n",
       "LV 5                                                         0.006341   \n",
       "\n",
       "                                                  SRP000599.SRR013554  \\\n",
       "1,REACTOME_MRNA_SPLICING                                    -0.046433   \n",
       "2,SVM Monocytes                                              0.004133   \n",
       "3,REACTOME_TRANSMISSION_ACROSS_CHEMICAL_SYNAPSES            -0.038701   \n",
       "4,REACTOME_NEURONAL_SYSTEM                                   0.002443   \n",
       "LV 5                                                         0.007106   \n",
       "\n",
       "                                                  SRP000599.SRR013555  \\\n",
       "1,REACTOME_MRNA_SPLICING                                    -0.040980   \n",
       "2,SVM Monocytes                                              0.008950   \n",
       "3,REACTOME_TRANSMISSION_ACROSS_CHEMICAL_SYNAPSES            -0.032527   \n",
       "4,REACTOME_NEURONAL_SYSTEM                                  -0.020458   \n",
       "LV 5                                                         0.007930   \n",
       "\n",
       "                                                  SRP000599.SRR013556  \\\n",
       "1,REACTOME_MRNA_SPLICING                                    -0.040068   \n",
       "2,SVM Monocytes                                              0.007227   \n",
       "3,REACTOME_TRANSMISSION_ACROSS_CHEMICAL_SYNAPSES            -0.030593   \n",
       "4,REACTOME_NEURONAL_SYSTEM                                  -0.023735   \n",
       "LV 5                                                         0.009164   \n",
       "\n",
       "                                                  SRP000599.SRR013557  \\\n",
       "1,REACTOME_MRNA_SPLICING                                    -0.046137   \n",
       "2,SVM Monocytes                                              0.007241   \n",
       "3,REACTOME_TRANSMISSION_ACROSS_CHEMICAL_SYNAPSES            -0.028937   \n",
       "4,REACTOME_NEURONAL_SYSTEM                                  -0.021581   \n",
       "LV 5                                                         0.008024   \n",
       "\n",
       "                                                  SRP000599.SRR013558  ...  \\\n",
       "1,REACTOME_MRNA_SPLICING                                    -0.048548  ...   \n",
       "2,SVM Monocytes                                              0.005710  ...   \n",
       "3,REACTOME_TRANSMISSION_ACROSS_CHEMICAL_SYNAPSES            -0.027406  ...   \n",
       "4,REACTOME_NEURONAL_SYSTEM                                  -0.022478  ...   \n",
       "LV 5                                                         0.007938  ...   \n",
       "\n",
       "                                                  SRP035599.SRR1139372  \\\n",
       "1,REACTOME_MRNA_SPLICING                                      0.028220   \n",
       "2,SVM Monocytes                                              -0.050455   \n",
       "3,REACTOME_TRANSMISSION_ACROSS_CHEMICAL_SYNAPSES             -0.028610   \n",
       "4,REACTOME_NEURONAL_SYSTEM                                   -0.037122   \n",
       "LV 5                                                         -0.003056   \n",
       "\n",
       "                                                  SRP035599.SRR1139393  \\\n",
       "1,REACTOME_MRNA_SPLICING                                      0.035137   \n",
       "2,SVM Monocytes                                              -0.034502   \n",
       "3,REACTOME_TRANSMISSION_ACROSS_CHEMICAL_SYNAPSES             -0.033450   \n",
       "4,REACTOME_NEURONAL_SYSTEM                                   -0.029658   \n",
       "LV 5                                                         -0.004784   \n",
       "\n",
       "                                                  SRP035599.SRR1139388  \\\n",
       "1,REACTOME_MRNA_SPLICING                                      0.065077   \n",
       "2,SVM Monocytes                                              -0.033640   \n",
       "3,REACTOME_TRANSMISSION_ACROSS_CHEMICAL_SYNAPSES             -0.030583   \n",
       "4,REACTOME_NEURONAL_SYSTEM                                   -0.036350   \n",
       "LV 5                                                         -0.004352   \n",
       "\n",
       "                                                  SRP035599.SRR1139378  \\\n",
       "1,REACTOME_MRNA_SPLICING                                      0.078144   \n",
       "2,SVM Monocytes                                              -0.049702   \n",
       "3,REACTOME_TRANSMISSION_ACROSS_CHEMICAL_SYNAPSES             -0.032399   \n",
       "4,REACTOME_NEURONAL_SYSTEM                                   -0.039254   \n",
       "LV 5                                                         -0.004160   \n",
       "\n",
       "                                                  SRP035599.SRR1139399  \\\n",
       "1,REACTOME_MRNA_SPLICING                                      0.092362   \n",
       "2,SVM Monocytes                                              -0.037426   \n",
       "3,REACTOME_TRANSMISSION_ACROSS_CHEMICAL_SYNAPSES             -0.029365   \n",
       "4,REACTOME_NEURONAL_SYSTEM                                   -0.035205   \n",
       "LV 5                                                         -0.001085   \n",
       "\n",
       "                                                  SRP035599.SRR1139386  \\\n",
       "1,REACTOME_MRNA_SPLICING                                      0.069042   \n",
       "2,SVM Monocytes                                              -0.050070   \n",
       "3,REACTOME_TRANSMISSION_ACROSS_CHEMICAL_SYNAPSES             -0.025406   \n",
       "4,REACTOME_NEURONAL_SYSTEM                                   -0.036345   \n",
       "LV 5                                                         -0.001884   \n",
       "\n",
       "                                                  SRP035599.SRR1139375  \\\n",
       "1,REACTOME_MRNA_SPLICING                                      0.090914   \n",
       "2,SVM Monocytes                                              -0.022575   \n",
       "3,REACTOME_TRANSMISSION_ACROSS_CHEMICAL_SYNAPSES             -0.033657   \n",
       "4,REACTOME_NEURONAL_SYSTEM                                   -0.034514   \n",
       "LV 5                                                         -0.003561   \n",
       "\n",
       "                                                  SRP035599.SRR1139382  \\\n",
       "1,REACTOME_MRNA_SPLICING                                      0.096341   \n",
       "2,SVM Monocytes                                              -0.055091   \n",
       "3,REACTOME_TRANSMISSION_ACROSS_CHEMICAL_SYNAPSES             -0.031318   \n",
       "4,REACTOME_NEURONAL_SYSTEM                                   -0.035926   \n",
       "LV 5                                                         -0.003546   \n",
       "\n",
       "                                                  SRP035599.SRR1139356  \\\n",
       "1,REACTOME_MRNA_SPLICING                                      0.131115   \n",
       "2,SVM Monocytes                                              -0.056869   \n",
       "3,REACTOME_TRANSMISSION_ACROSS_CHEMICAL_SYNAPSES             -0.030924   \n",
       "4,REACTOME_NEURONAL_SYSTEM                                   -0.040358   \n",
       "LV 5                                                         -0.012107   \n",
       "\n",
       "                                                  SRP035599.SRR1139370  \n",
       "1,REACTOME_MRNA_SPLICING                                      0.171751  \n",
       "2,SVM Monocytes                                              -0.018073  \n",
       "3,REACTOME_TRANSMISSION_ACROSS_CHEMICAL_SYNAPSES             -0.027869  \n",
       "4,REACTOME_NEURONAL_SYSTEM                                   -0.031131  \n",
       "LV 5                                                         -0.001193  \n",
       "\n",
       "[5 rows x 37032 columns]"
      ]
     },
     "execution_count": 52,
     "metadata": {},
     "output_type": "execute_result"
    }
   ],
   "source": [
    "multiplier_model_matrix_df.head()"
   ]
  },
  {
   "cell_type": "code",
   "execution_count": 53,
   "metadata": {
    "execution": {
     "iopub.execute_input": "2021-07-31T02:46:06.706603Z",
     "iopub.status.busy": "2021-07-31T02:46:06.706225Z",
     "iopub.status.idle": "2021-07-31T02:46:06.714593Z",
     "shell.execute_reply": "2021-07-31T02:46:06.714884Z"
    },
    "papermill": {
     "duration": 0.062118,
     "end_time": "2021-07-31T02:46:06.714987",
     "exception": false,
     "start_time": "2021-07-31T02:46:06.652869",
     "status": "completed"
    },
    "tags": []
   },
   "outputs": [],
   "source": [
    "# make sure I'm seeing the same when loaded with R\n",
    "assert (\n",
    "    multiplier_model_matrix_df.loc[\n",
    "        \"1,REACTOME_MRNA_SPLICING\", \"SRP000599.SRR013549\"\n",
    "    ].round(9)\n",
    "    == -0.059296689\n",
    ")\n",
    "assert (\n",
    "    multiplier_model_matrix_df.loc[\n",
    "        \"1,REACTOME_MRNA_SPLICING\", \"SRP000599.SRR013553\"\n",
    "    ].round(9)\n",
    "    == -0.036394186\n",
    ")\n",
    "\n",
    "assert (\n",
    "    multiplier_model_matrix_df.loc[\"2,SVM Monocytes\", \"SRP000599.SRR013549\"].round(9)\n",
    "    == 0.006212678\n",
    ")\n",
    "assert (\n",
    "    multiplier_model_matrix_df.loc[\"2,SVM Monocytes\", \"SRP004637.SRR073776\"].round(9)\n",
    "    == -0.008800153\n",
    ")\n",
    "\n",
    "assert (\n",
    "    multiplier_model_matrix_df.loc[\"LV 9\", \"SRP004637.SRR073774\"].round(9)\n",
    "    == 0.092318955\n",
    ")\n",
    "assert (\n",
    "    multiplier_model_matrix_df.loc[\"LV 9\", \"SRP004637.SRR073776\"].round(9)\n",
    "    == 0.100114294\n",
    ")"
   ]
  },
  {
   "cell_type": "markdown",
   "metadata": {
    "papermill": {
     "duration": 0.048355,
     "end_time": "2021-07-31T02:46:06.812981",
     "exception": false,
     "start_time": "2021-07-31T02:46:06.764626",
     "status": "completed"
    },
    "tags": []
   },
   "source": [
    "## Make sure no GTEx samples are included"
   ]
  },
  {
   "cell_type": "code",
   "execution_count": 54,
   "metadata": {
    "execution": {
     "iopub.execute_input": "2021-07-31T02:46:06.913472Z",
     "iopub.status.busy": "2021-07-31T02:46:06.913080Z",
     "iopub.status.idle": "2021-07-31T02:46:06.928834Z",
     "shell.execute_reply": "2021-07-31T02:46:06.928402Z"
    },
    "papermill": {
     "duration": 0.067369,
     "end_time": "2021-07-31T02:46:06.928921",
     "exception": false,
     "start_time": "2021-07-31T02:46:06.861552",
     "status": "completed"
    },
    "tags": []
   },
   "outputs": [],
   "source": [
    "# Test search string first\n",
    "_tmp = multiplier_model_matrix_df.columns.str.contains(\"SRP000599.\", regex=False)\n",
    "assert _tmp[0]\n",
    "assert _tmp[1]\n",
    "assert not _tmp[-1]"
   ]
  },
  {
   "cell_type": "code",
   "execution_count": 55,
   "metadata": {
    "execution": {
     "iopub.execute_input": "2021-07-31T02:46:07.033414Z",
     "iopub.status.busy": "2021-07-31T02:46:07.033058Z",
     "iopub.status.idle": "2021-07-31T02:46:07.040640Z",
     "shell.execute_reply": "2021-07-31T02:46:07.040267Z"
    },
    "papermill": {
     "duration": 0.059842,
     "end_time": "2021-07-31T02:46:07.040763",
     "exception": false,
     "start_time": "2021-07-31T02:46:06.980921",
     "status": "completed"
    },
    "tags": []
   },
   "outputs": [],
   "source": [
    "GTEX_ACCESSION_CODE = \"SRP012682\""
   ]
  },
  {
   "cell_type": "code",
   "execution_count": 56,
   "metadata": {
    "execution": {
     "iopub.execute_input": "2021-07-31T02:46:07.145847Z",
     "iopub.status.busy": "2021-07-31T02:46:07.145416Z",
     "iopub.status.idle": "2021-07-31T02:46:07.160137Z",
     "shell.execute_reply": "2021-07-31T02:46:07.159797Z"
    },
    "papermill": {
     "duration": 0.069443,
     "end_time": "2021-07-31T02:46:07.160233",
     "exception": false,
     "start_time": "2021-07-31T02:46:07.090790",
     "status": "completed"
    },
    "tags": []
   },
   "outputs": [],
   "source": [
    "_tmp = multiplier_model_matrix_df.columns.str.contains(GTEX_ACCESSION_CODE, regex=False)\n",
    "assert not _tmp.any()"
   ]
  },
  {
   "cell_type": "markdown",
   "metadata": {
    "papermill": {
     "duration": 0.050185,
     "end_time": "2021-07-31T02:46:07.261744",
     "exception": false,
     "start_time": "2021-07-31T02:46:07.211559",
     "status": "completed"
    },
    "tags": []
   },
   "source": [
    "## Save"
   ]
  },
  {
   "cell_type": "markdown",
   "metadata": {
    "papermill": {
     "duration": 0.049472,
     "end_time": "2021-07-31T02:46:07.360215",
     "exception": false,
     "start_time": "2021-07-31T02:46:07.310743",
     "status": "completed"
    },
    "tags": []
   },
   "source": [
    "### Pickle format"
   ]
  },
  {
   "cell_type": "code",
   "execution_count": 57,
   "metadata": {
    "execution": {
     "iopub.execute_input": "2021-07-31T02:46:07.461722Z",
     "iopub.status.busy": "2021-07-31T02:46:07.461336Z",
     "iopub.status.idle": "2021-07-31T02:46:07.469492Z",
     "shell.execute_reply": "2021-07-31T02:46:07.469122Z"
    },
    "papermill": {
     "duration": 0.060118,
     "end_time": "2021-07-31T02:46:07.469577",
     "exception": false,
     "start_time": "2021-07-31T02:46:07.409459",
     "status": "completed"
    },
    "tags": []
   },
   "outputs": [
    {
     "data": {
      "text/plain": [
       "PosixPath('/home/miltondp/projects/labs/greenelab/phenoplier/base/data/multiplier/multiplier_model_b.pkl')"
      ]
     },
     "metadata": {},
     "output_type": "display_data"
    }
   ],
   "source": [
    "output_file = conf.MULTIPLIER[\"MODEL_B_MATRIX_FILE\"]\n",
    "display(output_file)"
   ]
  },
  {
   "cell_type": "code",
   "execution_count": 58,
   "metadata": {
    "execution": {
     "iopub.execute_input": "2021-07-31T02:46:07.571714Z",
     "iopub.status.busy": "2021-07-31T02:46:07.571357Z",
     "iopub.status.idle": "2021-07-31T02:46:09.225116Z",
     "shell.execute_reply": "2021-07-31T02:46:09.223515Z"
    },
    "papermill": {
     "duration": 1.706174,
     "end_time": "2021-07-31T02:46:09.225449",
     "exception": false,
     "start_time": "2021-07-31T02:46:07.519275",
     "status": "completed"
    },
    "tags": []
   },
   "outputs": [],
   "source": [
    "multiplier_model_matrix_df.to_pickle(output_file)"
   ]
  },
  {
   "cell_type": "code",
   "execution_count": 59,
   "metadata": {
    "execution": {
     "iopub.execute_input": "2021-07-31T02:46:09.361435Z",
     "iopub.status.busy": "2021-07-31T02:46:09.361065Z",
     "iopub.status.idle": "2021-07-31T02:46:09.519793Z",
     "shell.execute_reply": "2021-07-31T02:46:09.519349Z"
    },
    "papermill": {
     "duration": 0.211399,
     "end_time": "2021-07-31T02:46:09.519887",
     "exception": false,
     "start_time": "2021-07-31T02:46:09.308488",
     "status": "completed"
    },
    "tags": []
   },
   "outputs": [
    {
     "data": {
      "text/plain": [
       "PosixPath('/home/miltondp/projects/labs/greenelab/phenoplier/data/multiplier/multiplier_model_b.pkl')"
      ]
     },
     "execution_count": 59,
     "metadata": {},
     "output_type": "execute_result"
    }
   ],
   "source": [
    "# copy to deliverables folder\n",
    "copyfile(\n",
    "    output_file,\n",
    "    OUTPUT_DIR / output_file.name,\n",
    ")"
   ]
  },
  {
   "cell_type": "markdown",
   "metadata": {
    "papermill": {
     "duration": 0.049351,
     "end_time": "2021-07-31T02:46:09.621012",
     "exception": false,
     "start_time": "2021-07-31T02:46:09.571661",
     "status": "completed"
    },
    "tags": []
   },
   "source": [
    "### RDS format"
   ]
  },
  {
   "cell_type": "code",
   "execution_count": 60,
   "metadata": {
    "execution": {
     "iopub.execute_input": "2021-07-31T02:46:09.722376Z",
     "iopub.status.busy": "2021-07-31T02:46:09.721998Z",
     "iopub.status.idle": "2021-07-31T02:46:09.729589Z",
     "shell.execute_reply": "2021-07-31T02:46:09.729876Z"
    },
    "papermill": {
     "duration": 0.059682,
     "end_time": "2021-07-31T02:46:09.729977",
     "exception": false,
     "start_time": "2021-07-31T02:46:09.670295",
     "status": "completed"
    },
    "tags": []
   },
   "outputs": [
    {
     "data": {
      "text/plain": [
       "PosixPath('/home/miltondp/projects/labs/greenelab/phenoplier/base/data/multiplier/multiplier_model_b.rds')"
      ]
     },
     "metadata": {},
     "output_type": "display_data"
    }
   ],
   "source": [
    "output_rds_file = output_file.with_suffix(\".rds\")\n",
    "display(output_rds_file)"
   ]
  },
  {
   "cell_type": "code",
   "execution_count": 61,
   "metadata": {
    "execution": {
     "iopub.execute_input": "2021-07-31T02:46:09.832071Z",
     "iopub.status.busy": "2021-07-31T02:46:09.831716Z",
     "iopub.status.idle": "2021-07-31T02:46:22.036352Z",
     "shell.execute_reply": "2021-07-31T02:46:22.035042Z"
    },
    "papermill": {
     "duration": 12.256526,
     "end_time": "2021-07-31T02:46:22.036674",
     "exception": false,
     "start_time": "2021-07-31T02:46:09.780148",
     "status": "completed"
    },
    "tags": []
   },
   "outputs": [
    {
     "data": {
      "text/plain": [
       "<rpy2.rinterface_lib.sexp.NULLType object at 0x7f97ec165dc0> [RTYPES.NILSXP]"
      ]
     },
     "execution_count": 61,
     "metadata": {},
     "output_type": "execute_result"
    }
   ],
   "source": [
    "saveRDS(multiplier_model_matrix, str(output_rds_file))"
   ]
  },
  {
   "cell_type": "code",
   "execution_count": 62,
   "metadata": {
    "execution": {
     "iopub.execute_input": "2021-07-31T02:46:22.141775Z",
     "iopub.status.busy": "2021-07-31T02:46:22.141417Z",
     "iopub.status.idle": "2021-07-31T02:46:22.298329Z",
     "shell.execute_reply": "2021-07-31T02:46:22.298632Z"
    },
    "papermill": {
     "duration": 0.209984,
     "end_time": "2021-07-31T02:46:22.298746",
     "exception": false,
     "start_time": "2021-07-31T02:46:22.088762",
     "status": "completed"
    },
    "tags": []
   },
   "outputs": [
    {
     "data": {
      "text/plain": [
       "PosixPath('/home/miltondp/projects/labs/greenelab/phenoplier/data/multiplier/multiplier_model_b.rds')"
      ]
     },
     "execution_count": 62,
     "metadata": {},
     "output_type": "execute_result"
    }
   ],
   "source": [
    "# copy to deliverables folder\n",
    "copyfile(\n",
    "    output_rds_file,\n",
    "    OUTPUT_DIR / output_rds_file.name,\n",
    ")"
   ]
  },
  {
   "cell_type": "markdown",
   "metadata": {
    "papermill": {
     "duration": 0.050947,
     "end_time": "2021-07-31T02:46:22.402366",
     "exception": false,
     "start_time": "2021-07-31T02:46:22.351419",
     "status": "completed"
    },
    "tags": []
   },
   "source": [
    "### Text format"
   ]
  },
  {
   "cell_type": "code",
   "execution_count": 63,
   "metadata": {
    "execution": {
     "iopub.execute_input": "2021-07-31T02:46:22.508053Z",
     "iopub.status.busy": "2021-07-31T02:46:22.507692Z",
     "iopub.status.idle": "2021-07-31T02:46:22.515999Z",
     "shell.execute_reply": "2021-07-31T02:46:22.515631Z"
    },
    "papermill": {
     "duration": 0.062445,
     "end_time": "2021-07-31T02:46:22.516082",
     "exception": false,
     "start_time": "2021-07-31T02:46:22.453637",
     "status": "completed"
    },
    "tags": []
   },
   "outputs": [
    {
     "data": {
      "text/plain": [
       "PosixPath('/home/miltondp/projects/labs/greenelab/phenoplier/base/data/multiplier/multiplier_model_b.tsv.gz')"
      ]
     },
     "metadata": {},
     "output_type": "display_data"
    }
   ],
   "source": [
    "# tsv format\n",
    "output_text_file = output_file.with_suffix(\".tsv.gz\")\n",
    "display(output_text_file)"
   ]
  },
  {
   "cell_type": "code",
   "execution_count": 64,
   "metadata": {
    "execution": {
     "iopub.execute_input": "2021-07-31T02:46:22.620289Z",
     "iopub.status.busy": "2021-07-31T02:46:22.619889Z",
     "iopub.status.idle": "2021-07-31T02:50:00.894616Z",
     "shell.execute_reply": "2021-07-31T02:50:00.894311Z"
    },
    "papermill": {
     "duration": 218.327593,
     "end_time": "2021-07-31T02:50:00.894704",
     "exception": false,
     "start_time": "2021-07-31T02:46:22.567111",
     "status": "completed"
    },
    "tags": []
   },
   "outputs": [],
   "source": [
    "multiplier_model_matrix_df.to_csv(\n",
    "    output_text_file, sep=\"\\t\", index=True, float_format=\"%.5e\"\n",
    ")"
   ]
  },
  {
   "cell_type": "code",
   "execution_count": 65,
   "metadata": {
    "execution": {
     "iopub.execute_input": "2021-07-31T02:50:01.001129Z",
     "iopub.status.busy": "2021-07-31T02:50:01.000712Z",
     "iopub.status.idle": "2021-07-31T02:50:01.093624Z",
     "shell.execute_reply": "2021-07-31T02:50:01.094004Z"
    },
    "papermill": {
     "duration": 0.147582,
     "end_time": "2021-07-31T02:50:01.094132",
     "exception": false,
     "start_time": "2021-07-31T02:50:00.946550",
     "status": "completed"
    },
    "tags": []
   },
   "outputs": [
    {
     "data": {
      "text/plain": [
       "PosixPath('/home/miltondp/projects/labs/greenelab/phenoplier/data/multiplier/multiplier_model_b.tsv.gz')"
      ]
     },
     "execution_count": 65,
     "metadata": {},
     "output_type": "execute_result"
    }
   ],
   "source": [
    "# copy to deliverables folder\n",
    "copyfile(\n",
    "    output_text_file,\n",
    "    OUTPUT_DIR / output_text_file.name,\n",
    ")"
   ]
  },
  {
   "cell_type": "markdown",
   "metadata": {
    "papermill": {
     "duration": 0.052261,
     "end_time": "2021-07-31T02:50:01.202042",
     "exception": false,
     "start_time": "2021-07-31T02:50:01.149781",
     "status": "completed"
    },
    "tags": []
   },
   "source": [
    "# Matrix U (gene sets x LVs)"
   ]
  },
  {
   "cell_type": "code",
   "execution_count": 66,
   "metadata": {
    "execution": {
     "iopub.execute_input": "2021-07-31T02:50:01.306740Z",
     "iopub.status.busy": "2021-07-31T02:50:01.306369Z",
     "iopub.status.idle": "2021-07-31T02:50:01.314291Z",
     "shell.execute_reply": "2021-07-31T02:50:01.313919Z"
    },
    "papermill": {
     "duration": 0.061479,
     "end_time": "2021-07-31T02:50:01.314375",
     "exception": false,
     "start_time": "2021-07-31T02:50:01.252896",
     "status": "completed"
    },
    "tags": []
   },
   "outputs": [],
   "source": [
    "multiplier_model_matrix = multiplier_full_model.rx2(\"U\")"
   ]
  },
  {
   "cell_type": "code",
   "execution_count": 67,
   "metadata": {
    "execution": {
     "iopub.execute_input": "2021-07-31T02:50:01.420644Z",
     "iopub.status.busy": "2021-07-31T02:50:01.420266Z",
     "iopub.status.idle": "2021-07-31T02:50:01.428895Z",
     "shell.execute_reply": "2021-07-31T02:50:01.428470Z"
    },
    "papermill": {
     "duration": 0.062458,
     "end_time": "2021-07-31T02:50:01.428980",
     "exception": false,
     "start_time": "2021-07-31T02:50:01.366522",
     "status": "completed"
    },
    "tags": []
   },
   "outputs": [
    {
     "data": {
      "text/html": [
       "\n",
       "        <span>FloatMatrix with 619836 elements.</span>\n",
       "        <table>\n",
       "        <tbody>\n",
       "          <tr>\n",
       "          \n",
       "            <td>\n",
       "            0.000000\n",
       "            </td>\n",
       "          \n",
       "            <td>\n",
       "            0.000000\n",
       "            </td>\n",
       "          \n",
       "            <td>\n",
       "            0.000000\n",
       "            </td>\n",
       "          \n",
       "            <td>\n",
       "            ...\n",
       "            </td>\n",
       "          \n",
       "            <td>\n",
       "            0.000000\n",
       "            </td>\n",
       "          \n",
       "            <td>\n",
       "            0.000000\n",
       "            </td>\n",
       "          \n",
       "            <td>\n",
       "            0.000000\n",
       "            </td>\n",
       "          \n",
       "          </tr>\n",
       "        </tbody>\n",
       "        </table>\n",
       "        "
      ],
      "text/plain": [
       "R object with classes: ('matrix',) mapped to:\n",
       "[0.000000, 0.000000, 0.000000, 0.000000, ..., 0.000000, 0.000000, 0.000000, 0.000000]"
      ]
     },
     "execution_count": 67,
     "metadata": {},
     "output_type": "execute_result"
    }
   ],
   "source": [
    "multiplier_model_matrix"
   ]
  },
  {
   "cell_type": "code",
   "execution_count": 68,
   "metadata": {
    "execution": {
     "iopub.execute_input": "2021-07-31T02:50:01.535038Z",
     "iopub.status.busy": "2021-07-31T02:50:01.534682Z",
     "iopub.status.idle": "2021-07-31T02:50:01.543122Z",
     "shell.execute_reply": "2021-07-31T02:50:01.542800Z"
    },
    "papermill": {
     "duration": 0.061872,
     "end_time": "2021-07-31T02:50:01.543207",
     "exception": false,
     "start_time": "2021-07-31T02:50:01.481335",
     "status": "completed"
    },
    "tags": []
   },
   "outputs": [
    {
     "data": {
      "text/html": [
       "\n",
       "        <span>StrVector with 628 elements.</span>\n",
       "        <table>\n",
       "        <tbody>\n",
       "          <tr>\n",
       "          \n",
       "            <td>\n",
       "            'IRIS_Bce...\n",
       "            </td>\n",
       "          \n",
       "            <td>\n",
       "            'IRIS_Bce...\n",
       "            </td>\n",
       "          \n",
       "            <td>\n",
       "            'IRIS_Bce...\n",
       "            </td>\n",
       "          \n",
       "            <td>\n",
       "            ...\n",
       "            </td>\n",
       "          \n",
       "            <td>\n",
       "            'PID_BCR_...\n",
       "            </td>\n",
       "          \n",
       "            <td>\n",
       "            'PID_TELO...\n",
       "            </td>\n",
       "          \n",
       "            <td>\n",
       "            'PID_PI3K...\n",
       "            </td>\n",
       "          \n",
       "          </tr>\n",
       "        </tbody>\n",
       "        </table>\n",
       "        "
      ],
      "text/plain": [
       "R object with classes: ('character',) mapped to:\n",
       "['IRIS_Bce..., 'IRIS_Bce..., 'IRIS_Bce..., 'IRIS_CD4..., ..., 'REACTOME..., 'PID_BCR_..., 'PID_TELO..., 'PID_PI3K...]"
      ]
     },
     "execution_count": 68,
     "metadata": {},
     "output_type": "execute_result"
    }
   ],
   "source": [
    "multiplier_model_matrix.rownames"
   ]
  },
  {
   "cell_type": "code",
   "execution_count": 69,
   "metadata": {
    "execution": {
     "iopub.execute_input": "2021-07-31T02:50:01.650817Z",
     "iopub.status.busy": "2021-07-31T02:50:01.650450Z",
     "iopub.status.idle": "2021-07-31T02:50:01.659270Z",
     "shell.execute_reply": "2021-07-31T02:50:01.658915Z"
    },
    "papermill": {
     "duration": 0.063301,
     "end_time": "2021-07-31T02:50:01.659354",
     "exception": false,
     "start_time": "2021-07-31T02:50:01.596053",
     "status": "completed"
    },
    "tags": []
   },
   "outputs": [
    {
     "data": {
      "text/html": [
       "\n",
       "        <span>StrVector with 987 elements.</span>\n",
       "        <table>\n",
       "        <tbody>\n",
       "          <tr>\n",
       "          \n",
       "            <td>\n",
       "            'LV1'\n",
       "            </td>\n",
       "          \n",
       "            <td>\n",
       "            'LV2'\n",
       "            </td>\n",
       "          \n",
       "            <td>\n",
       "            'LV3'\n",
       "            </td>\n",
       "          \n",
       "            <td>\n",
       "            ...\n",
       "            </td>\n",
       "          \n",
       "            <td>\n",
       "            'LV985'\n",
       "            </td>\n",
       "          \n",
       "            <td>\n",
       "            'LV986'\n",
       "            </td>\n",
       "          \n",
       "            <td>\n",
       "            'LV987'\n",
       "            </td>\n",
       "          \n",
       "          </tr>\n",
       "        </tbody>\n",
       "        </table>\n",
       "        "
      ],
      "text/plain": [
       "R object with classes: ('character',) mapped to:\n",
       "['LV1', 'LV2', 'LV3', 'LV4', ..., 'LV984', 'LV985', 'LV986', 'LV987']"
      ]
     },
     "execution_count": 69,
     "metadata": {},
     "output_type": "execute_result"
    }
   ],
   "source": [
    "multiplier_model_matrix.colnames"
   ]
  },
  {
   "cell_type": "code",
   "execution_count": 70,
   "metadata": {
    "execution": {
     "iopub.execute_input": "2021-07-31T02:50:01.784997Z",
     "iopub.status.busy": "2021-07-31T02:50:01.784530Z",
     "iopub.status.idle": "2021-07-31T02:50:01.794338Z",
     "shell.execute_reply": "2021-07-31T02:50:01.793876Z"
    },
    "papermill": {
     "duration": 0.082367,
     "end_time": "2021-07-31T02:50:01.794443",
     "exception": false,
     "start_time": "2021-07-31T02:50:01.712076",
     "status": "completed"
    },
    "tags": []
   },
   "outputs": [],
   "source": [
    "with localconverter(ro.default_converter + pandas2ri.converter):\n",
    "    multiplier_model_matrix_values = ro.conversion.rpy2py(multiplier_model_matrix)"
   ]
  },
  {
   "cell_type": "code",
   "execution_count": 71,
   "metadata": {
    "execution": {
     "iopub.execute_input": "2021-07-31T02:50:01.905223Z",
     "iopub.status.busy": "2021-07-31T02:50:01.904866Z",
     "iopub.status.idle": "2021-07-31T02:50:01.916210Z",
     "shell.execute_reply": "2021-07-31T02:50:01.915838Z"
    },
    "papermill": {
     "duration": 0.065479,
     "end_time": "2021-07-31T02:50:01.916295",
     "exception": false,
     "start_time": "2021-07-31T02:50:01.850816",
     "status": "completed"
    },
    "tags": []
   },
   "outputs": [],
   "source": [
    "multiplier_model_matrix_df = pd.DataFrame(\n",
    "    data=multiplier_model_matrix_values,\n",
    "    index=multiplier_model_matrix.rownames,\n",
    "    columns=multiplier_model_matrix.colnames,\n",
    ")"
   ]
  },
  {
   "cell_type": "code",
   "execution_count": 72,
   "metadata": {
    "execution": {
     "iopub.execute_input": "2021-07-31T02:50:02.024568Z",
     "iopub.status.busy": "2021-07-31T02:50:02.024211Z",
     "iopub.status.idle": "2021-07-31T02:50:02.032612Z",
     "shell.execute_reply": "2021-07-31T02:50:02.032251Z"
    },
    "papermill": {
     "duration": 0.062797,
     "end_time": "2021-07-31T02:50:02.032717",
     "exception": false,
     "start_time": "2021-07-31T02:50:01.969920",
     "status": "completed"
    },
    "tags": []
   },
   "outputs": [
    {
     "data": {
      "text/plain": [
       "(628, 987)"
      ]
     },
     "metadata": {},
     "output_type": "display_data"
    }
   ],
   "source": [
    "display(multiplier_model_matrix_df.shape)\n",
    "assert multiplier_model_matrix_df.shape == (628, 987)"
   ]
  },
  {
   "cell_type": "code",
   "execution_count": 73,
   "metadata": {
    "execution": {
     "iopub.execute_input": "2021-07-31T02:50:02.147529Z",
     "iopub.status.busy": "2021-07-31T02:50:02.147155Z",
     "iopub.status.idle": "2021-07-31T02:50:02.167819Z",
     "shell.execute_reply": "2021-07-31T02:50:02.167454Z"
    },
    "papermill": {
     "duration": 0.077691,
     "end_time": "2021-07-31T02:50:02.167904",
     "exception": false,
     "start_time": "2021-07-31T02:50:02.090213",
     "status": "completed"
    },
    "tags": []
   },
   "outputs": [
    {
     "data": {
      "text/html": [
       "<div>\n",
       "<style scoped>\n",
       "    .dataframe tbody tr th:only-of-type {\n",
       "        vertical-align: middle;\n",
       "    }\n",
       "\n",
       "    .dataframe tbody tr th {\n",
       "        vertical-align: top;\n",
       "    }\n",
       "\n",
       "    .dataframe thead th {\n",
       "        text-align: right;\n",
       "    }\n",
       "</style>\n",
       "<table border=\"1\" class=\"dataframe\">\n",
       "  <thead>\n",
       "    <tr style=\"text-align: right;\">\n",
       "      <th></th>\n",
       "      <th>LV1</th>\n",
       "      <th>LV2</th>\n",
       "      <th>LV3</th>\n",
       "      <th>LV4</th>\n",
       "      <th>LV5</th>\n",
       "      <th>LV6</th>\n",
       "      <th>LV7</th>\n",
       "      <th>LV8</th>\n",
       "      <th>LV9</th>\n",
       "      <th>LV10</th>\n",
       "      <th>...</th>\n",
       "      <th>LV978</th>\n",
       "      <th>LV979</th>\n",
       "      <th>LV980</th>\n",
       "      <th>LV981</th>\n",
       "      <th>LV982</th>\n",
       "      <th>LV983</th>\n",
       "      <th>LV984</th>\n",
       "      <th>LV985</th>\n",
       "      <th>LV986</th>\n",
       "      <th>LV987</th>\n",
       "    </tr>\n",
       "  </thead>\n",
       "  <tbody>\n",
       "    <tr>\n",
       "      <th>IRIS_Bcell-Memory_IgG_IgA</th>\n",
       "      <td>0.0</td>\n",
       "      <td>0.0</td>\n",
       "      <td>0.0</td>\n",
       "      <td>0.0</td>\n",
       "      <td>0.0</td>\n",
       "      <td>0.0</td>\n",
       "      <td>0.0</td>\n",
       "      <td>0.0</td>\n",
       "      <td>0.0</td>\n",
       "      <td>0.0</td>\n",
       "      <td>...</td>\n",
       "      <td>0.0</td>\n",
       "      <td>0.0</td>\n",
       "      <td>0.0</td>\n",
       "      <td>0.0</td>\n",
       "      <td>0.0</td>\n",
       "      <td>0.0</td>\n",
       "      <td>0.0</td>\n",
       "      <td>0.0</td>\n",
       "      <td>0.0</td>\n",
       "      <td>0.0</td>\n",
       "    </tr>\n",
       "    <tr>\n",
       "      <th>IRIS_Bcell-Memory_IgM</th>\n",
       "      <td>0.0</td>\n",
       "      <td>0.0</td>\n",
       "      <td>0.0</td>\n",
       "      <td>0.0</td>\n",
       "      <td>0.0</td>\n",
       "      <td>0.0</td>\n",
       "      <td>0.0</td>\n",
       "      <td>0.0</td>\n",
       "      <td>0.0</td>\n",
       "      <td>0.0</td>\n",
       "      <td>...</td>\n",
       "      <td>0.0</td>\n",
       "      <td>0.0</td>\n",
       "      <td>0.0</td>\n",
       "      <td>0.0</td>\n",
       "      <td>0.0</td>\n",
       "      <td>0.0</td>\n",
       "      <td>0.0</td>\n",
       "      <td>0.0</td>\n",
       "      <td>0.0</td>\n",
       "      <td>0.0</td>\n",
       "    </tr>\n",
       "    <tr>\n",
       "      <th>IRIS_Bcell-naive</th>\n",
       "      <td>0.0</td>\n",
       "      <td>0.0</td>\n",
       "      <td>0.0</td>\n",
       "      <td>0.0</td>\n",
       "      <td>0.0</td>\n",
       "      <td>0.0</td>\n",
       "      <td>0.0</td>\n",
       "      <td>0.0</td>\n",
       "      <td>0.0</td>\n",
       "      <td>0.0</td>\n",
       "      <td>...</td>\n",
       "      <td>0.0</td>\n",
       "      <td>0.0</td>\n",
       "      <td>0.0</td>\n",
       "      <td>0.0</td>\n",
       "      <td>0.0</td>\n",
       "      <td>0.0</td>\n",
       "      <td>0.0</td>\n",
       "      <td>0.0</td>\n",
       "      <td>0.0</td>\n",
       "      <td>0.0</td>\n",
       "    </tr>\n",
       "    <tr>\n",
       "      <th>IRIS_CD4Tcell-N0</th>\n",
       "      <td>0.0</td>\n",
       "      <td>0.0</td>\n",
       "      <td>0.0</td>\n",
       "      <td>0.0</td>\n",
       "      <td>0.0</td>\n",
       "      <td>0.0</td>\n",
       "      <td>0.0</td>\n",
       "      <td>0.0</td>\n",
       "      <td>0.0</td>\n",
       "      <td>0.0</td>\n",
       "      <td>...</td>\n",
       "      <td>0.0</td>\n",
       "      <td>0.0</td>\n",
       "      <td>0.0</td>\n",
       "      <td>0.0</td>\n",
       "      <td>0.0</td>\n",
       "      <td>0.0</td>\n",
       "      <td>0.0</td>\n",
       "      <td>0.0</td>\n",
       "      <td>0.0</td>\n",
       "      <td>0.0</td>\n",
       "    </tr>\n",
       "    <tr>\n",
       "      <th>IRIS_CD4Tcell-Th1-restimulated12hour</th>\n",
       "      <td>0.0</td>\n",
       "      <td>0.0</td>\n",
       "      <td>0.0</td>\n",
       "      <td>0.0</td>\n",
       "      <td>0.0</td>\n",
       "      <td>0.0</td>\n",
       "      <td>0.0</td>\n",
       "      <td>0.0</td>\n",
       "      <td>0.0</td>\n",
       "      <td>0.0</td>\n",
       "      <td>...</td>\n",
       "      <td>0.0</td>\n",
       "      <td>0.0</td>\n",
       "      <td>0.0</td>\n",
       "      <td>0.0</td>\n",
       "      <td>0.0</td>\n",
       "      <td>0.0</td>\n",
       "      <td>0.0</td>\n",
       "      <td>0.0</td>\n",
       "      <td>0.0</td>\n",
       "      <td>0.0</td>\n",
       "    </tr>\n",
       "  </tbody>\n",
       "</table>\n",
       "<p>5 rows × 987 columns</p>\n",
       "</div>"
      ],
      "text/plain": [
       "                                      LV1  LV2  LV3  LV4  LV5  LV6  LV7  LV8  \\\n",
       "IRIS_Bcell-Memory_IgG_IgA             0.0  0.0  0.0  0.0  0.0  0.0  0.0  0.0   \n",
       "IRIS_Bcell-Memory_IgM                 0.0  0.0  0.0  0.0  0.0  0.0  0.0  0.0   \n",
       "IRIS_Bcell-naive                      0.0  0.0  0.0  0.0  0.0  0.0  0.0  0.0   \n",
       "IRIS_CD4Tcell-N0                      0.0  0.0  0.0  0.0  0.0  0.0  0.0  0.0   \n",
       "IRIS_CD4Tcell-Th1-restimulated12hour  0.0  0.0  0.0  0.0  0.0  0.0  0.0  0.0   \n",
       "\n",
       "                                      LV9  LV10  ...  LV978  LV979  LV980  \\\n",
       "IRIS_Bcell-Memory_IgG_IgA             0.0   0.0  ...    0.0    0.0    0.0   \n",
       "IRIS_Bcell-Memory_IgM                 0.0   0.0  ...    0.0    0.0    0.0   \n",
       "IRIS_Bcell-naive                      0.0   0.0  ...    0.0    0.0    0.0   \n",
       "IRIS_CD4Tcell-N0                      0.0   0.0  ...    0.0    0.0    0.0   \n",
       "IRIS_CD4Tcell-Th1-restimulated12hour  0.0   0.0  ...    0.0    0.0    0.0   \n",
       "\n",
       "                                      LV981  LV982  LV983  LV984  LV985  \\\n",
       "IRIS_Bcell-Memory_IgG_IgA               0.0    0.0    0.0    0.0    0.0   \n",
       "IRIS_Bcell-Memory_IgM                   0.0    0.0    0.0    0.0    0.0   \n",
       "IRIS_Bcell-naive                        0.0    0.0    0.0    0.0    0.0   \n",
       "IRIS_CD4Tcell-N0                        0.0    0.0    0.0    0.0    0.0   \n",
       "IRIS_CD4Tcell-Th1-restimulated12hour    0.0    0.0    0.0    0.0    0.0   \n",
       "\n",
       "                                      LV986  LV987  \n",
       "IRIS_Bcell-Memory_IgG_IgA               0.0    0.0  \n",
       "IRIS_Bcell-Memory_IgM                   0.0    0.0  \n",
       "IRIS_Bcell-naive                        0.0    0.0  \n",
       "IRIS_CD4Tcell-N0                        0.0    0.0  \n",
       "IRIS_CD4Tcell-Th1-restimulated12hour    0.0    0.0  \n",
       "\n",
       "[5 rows x 987 columns]"
      ]
     },
     "execution_count": 73,
     "metadata": {},
     "output_type": "execute_result"
    }
   ],
   "source": [
    "multiplier_model_matrix_df.head()"
   ]
  },
  {
   "cell_type": "code",
   "execution_count": 74,
   "metadata": {
    "execution": {
     "iopub.execute_input": "2021-07-31T02:50:02.280511Z",
     "iopub.status.busy": "2021-07-31T02:50:02.280139Z",
     "iopub.status.idle": "2021-07-31T02:50:02.288278Z",
     "shell.execute_reply": "2021-07-31T02:50:02.287896Z"
    },
    "papermill": {
     "duration": 0.06524,
     "end_time": "2021-07-31T02:50:02.288366",
     "exception": false,
     "start_time": "2021-07-31T02:50:02.223126",
     "status": "completed"
    },
    "tags": []
   },
   "outputs": [],
   "source": [
    "# make sure I'm seeing the same when loaded with R\n",
    "assert multiplier_model_matrix_df.loc[\"IRIS_Bcell-Memory_IgG_IgA\", \"LV1\"] == 0\n",
    "assert (\n",
    "    multiplier_model_matrix_df.loc[\"IRIS_Bcell-Memory_IgG_IgA\", \"LV898\"].round(7)\n",
    "    == 0.5327689\n",
    ")\n",
    "assert (\n",
    "    multiplier_model_matrix_df.loc[\"IRIS_Bcell-Memory_IgG_IgA\", \"LV977\"].round(7)\n",
    "    == 0.1000158\n",
    ")\n",
    "assert multiplier_model_matrix_df.loc[\"IRIS_Bcell-Memory_IgG_IgA\", \"LV986\"] == 0\n",
    "assert multiplier_model_matrix_df.loc[\"IRIS_Bcell-Memory_IgG_IgA\", \"LV987\"] == 0\n",
    "\n",
    "assert (\n",
    "    multiplier_model_matrix_df.loc[\"IRIS_Bcell-naive\", \"LV851\"].round(8) == 0.01330388\n",
    ")\n",
    "assert multiplier_model_matrix_df.loc[\"IRIS_Bcell-naive\", \"LV977\"].round(7) == 0.3966446"
   ]
  },
  {
   "cell_type": "markdown",
   "metadata": {
    "papermill": {
     "duration": 0.053295,
     "end_time": "2021-07-31T02:50:02.395503",
     "exception": false,
     "start_time": "2021-07-31T02:50:02.342208",
     "status": "completed"
    },
    "tags": []
   },
   "source": [
    "## Save"
   ]
  },
  {
   "cell_type": "markdown",
   "metadata": {
    "papermill": {
     "duration": 0.053439,
     "end_time": "2021-07-31T02:50:02.502994",
     "exception": false,
     "start_time": "2021-07-31T02:50:02.449555",
     "status": "completed"
    },
    "tags": []
   },
   "source": [
    "### Pickle format"
   ]
  },
  {
   "cell_type": "code",
   "execution_count": 75,
   "metadata": {
    "execution": {
     "iopub.execute_input": "2021-07-31T02:50:02.611762Z",
     "iopub.status.busy": "2021-07-31T02:50:02.611406Z",
     "iopub.status.idle": "2021-07-31T02:50:02.619813Z",
     "shell.execute_reply": "2021-07-31T02:50:02.619451Z"
    },
    "papermill": {
     "duration": 0.064095,
     "end_time": "2021-07-31T02:50:02.619896",
     "exception": false,
     "start_time": "2021-07-31T02:50:02.555801",
     "status": "completed"
    },
    "tags": []
   },
   "outputs": [
    {
     "data": {
      "text/plain": [
       "PosixPath('/home/miltondp/projects/labs/greenelab/phenoplier/base/data/multiplier/multiplier_model_u.pkl')"
      ]
     },
     "metadata": {},
     "output_type": "display_data"
    }
   ],
   "source": [
    "output_file = conf.MULTIPLIER[\"MODEL_U_MATRIX_FILE\"]\n",
    "display(output_file)"
   ]
  },
  {
   "cell_type": "code",
   "execution_count": 76,
   "metadata": {
    "execution": {
     "iopub.execute_input": "2021-07-31T02:50:02.730454Z",
     "iopub.status.busy": "2021-07-31T02:50:02.730086Z",
     "iopub.status.idle": "2021-07-31T02:50:02.742145Z",
     "shell.execute_reply": "2021-07-31T02:50:02.742455Z"
    },
    "papermill": {
     "duration": 0.068633,
     "end_time": "2021-07-31T02:50:02.742575",
     "exception": false,
     "start_time": "2021-07-31T02:50:02.673942",
     "status": "completed"
    },
    "tags": []
   },
   "outputs": [],
   "source": [
    "multiplier_model_matrix_df.to_pickle(output_file)"
   ]
  },
  {
   "cell_type": "code",
   "execution_count": 77,
   "metadata": {
    "execution": {
     "iopub.execute_input": "2021-07-31T02:50:02.854430Z",
     "iopub.status.busy": "2021-07-31T02:50:02.854073Z",
     "iopub.status.idle": "2021-07-31T02:50:02.865001Z",
     "shell.execute_reply": "2021-07-31T02:50:02.865288Z"
    },
    "papermill": {
     "duration": 0.0672,
     "end_time": "2021-07-31T02:50:02.865388",
     "exception": false,
     "start_time": "2021-07-31T02:50:02.798188",
     "status": "completed"
    },
    "tags": []
   },
   "outputs": [
    {
     "data": {
      "text/plain": [
       "PosixPath('/home/miltondp/projects/labs/greenelab/phenoplier/data/multiplier/multiplier_model_u.pkl')"
      ]
     },
     "execution_count": 77,
     "metadata": {},
     "output_type": "execute_result"
    }
   ],
   "source": [
    "# copy to deliverables folder\n",
    "copyfile(\n",
    "    output_file,\n",
    "    OUTPUT_DIR / output_file.name,\n",
    ")"
   ]
  },
  {
   "cell_type": "markdown",
   "metadata": {
    "papermill": {
     "duration": 0.054372,
     "end_time": "2021-07-31T02:50:02.974572",
     "exception": false,
     "start_time": "2021-07-31T02:50:02.920200",
     "status": "completed"
    },
    "tags": []
   },
   "source": [
    "### RDS format"
   ]
  },
  {
   "cell_type": "code",
   "execution_count": 78,
   "metadata": {
    "execution": {
     "iopub.execute_input": "2021-07-31T02:50:03.087959Z",
     "iopub.status.busy": "2021-07-31T02:50:03.086774Z",
     "iopub.status.idle": "2021-07-31T02:50:03.095549Z",
     "shell.execute_reply": "2021-07-31T02:50:03.095144Z"
    },
    "papermill": {
     "duration": 0.067331,
     "end_time": "2021-07-31T02:50:03.095641",
     "exception": false,
     "start_time": "2021-07-31T02:50:03.028310",
     "status": "completed"
    },
    "tags": []
   },
   "outputs": [
    {
     "data": {
      "text/plain": [
       "PosixPath('/home/miltondp/projects/labs/greenelab/phenoplier/base/data/multiplier/multiplier_model_u.rds')"
      ]
     },
     "metadata": {},
     "output_type": "display_data"
    }
   ],
   "source": [
    "output_rds_file = output_file.with_suffix(\".rds\")\n",
    "display(output_rds_file)"
   ]
  },
  {
   "cell_type": "code",
   "execution_count": 79,
   "metadata": {
    "execution": {
     "iopub.execute_input": "2021-07-31T02:50:03.209302Z",
     "iopub.status.busy": "2021-07-31T02:50:03.208938Z",
     "iopub.status.idle": "2021-07-31T02:50:03.260895Z",
     "shell.execute_reply": "2021-07-31T02:50:03.260459Z"
    },
    "papermill": {
     "duration": 0.109005,
     "end_time": "2021-07-31T02:50:03.260979",
     "exception": false,
     "start_time": "2021-07-31T02:50:03.151974",
     "status": "completed"
    },
    "tags": []
   },
   "outputs": [
    {
     "data": {
      "text/plain": [
       "<rpy2.rinterface_lib.sexp.NULLType object at 0x7f97ec165dc0> [RTYPES.NILSXP]"
      ]
     },
     "execution_count": 79,
     "metadata": {},
     "output_type": "execute_result"
    }
   ],
   "source": [
    "saveRDS(multiplier_model_matrix, str(output_rds_file))"
   ]
  },
  {
   "cell_type": "code",
   "execution_count": 80,
   "metadata": {
    "execution": {
     "iopub.execute_input": "2021-07-31T02:50:03.375021Z",
     "iopub.status.busy": "2021-07-31T02:50:03.374663Z",
     "iopub.status.idle": "2021-07-31T02:50:03.383179Z",
     "shell.execute_reply": "2021-07-31T02:50:03.382796Z"
    },
    "papermill": {
     "duration": 0.065998,
     "end_time": "2021-07-31T02:50:03.383267",
     "exception": false,
     "start_time": "2021-07-31T02:50:03.317269",
     "status": "completed"
    },
    "tags": []
   },
   "outputs": [
    {
     "data": {
      "text/plain": [
       "PosixPath('/home/miltondp/projects/labs/greenelab/phenoplier/data/multiplier/multiplier_model_u.rds')"
      ]
     },
     "execution_count": 80,
     "metadata": {},
     "output_type": "execute_result"
    }
   ],
   "source": [
    "# copy to deliverables folder\n",
    "copyfile(\n",
    "    output_rds_file,\n",
    "    OUTPUT_DIR / output_rds_file.name,\n",
    ")"
   ]
  },
  {
   "cell_type": "markdown",
   "metadata": {
    "papermill": {
     "duration": 0.054704,
     "end_time": "2021-07-31T02:50:03.492487",
     "exception": false,
     "start_time": "2021-07-31T02:50:03.437783",
     "status": "completed"
    },
    "tags": []
   },
   "source": [
    "### Text format"
   ]
  },
  {
   "cell_type": "code",
   "execution_count": 81,
   "metadata": {
    "execution": {
     "iopub.execute_input": "2021-07-31T02:50:03.603776Z",
     "iopub.status.busy": "2021-07-31T02:50:03.603416Z",
     "iopub.status.idle": "2021-07-31T02:50:03.611668Z",
     "shell.execute_reply": "2021-07-31T02:50:03.611306Z"
    },
    "papermill": {
     "duration": 0.065359,
     "end_time": "2021-07-31T02:50:03.611749",
     "exception": false,
     "start_time": "2021-07-31T02:50:03.546390",
     "status": "completed"
    },
    "tags": []
   },
   "outputs": [
    {
     "data": {
      "text/plain": [
       "PosixPath('/home/miltondp/projects/labs/greenelab/phenoplier/base/data/multiplier/multiplier_model_u.tsv.gz')"
      ]
     },
     "metadata": {},
     "output_type": "display_data"
    }
   ],
   "source": [
    "# tsv format\n",
    "output_text_file = output_file.with_suffix(\".tsv.gz\")\n",
    "display(output_text_file)"
   ]
  },
  {
   "cell_type": "code",
   "execution_count": 82,
   "metadata": {
    "execution": {
     "iopub.execute_input": "2021-07-31T02:50:03.724863Z",
     "iopub.status.busy": "2021-07-31T02:50:03.724436Z",
     "iopub.status.idle": "2021-07-31T02:50:04.516900Z",
     "shell.execute_reply": "2021-07-31T02:50:04.516478Z"
    },
    "papermill": {
     "duration": 0.849908,
     "end_time": "2021-07-31T02:50:04.516988",
     "exception": false,
     "start_time": "2021-07-31T02:50:03.667080",
     "status": "completed"
    },
    "tags": []
   },
   "outputs": [],
   "source": [
    "multiplier_model_matrix_df.to_csv(\n",
    "    output_text_file, sep=\"\\t\", index=True, float_format=\"%.5e\"\n",
    ")"
   ]
  },
  {
   "cell_type": "code",
   "execution_count": 83,
   "metadata": {
    "execution": {
     "iopub.execute_input": "2021-07-31T02:50:04.631746Z",
     "iopub.status.busy": "2021-07-31T02:50:04.631386Z",
     "iopub.status.idle": "2021-07-31T02:50:04.639945Z",
     "shell.execute_reply": "2021-07-31T02:50:04.639576Z"
    },
    "papermill": {
     "duration": 0.066628,
     "end_time": "2021-07-31T02:50:04.640028",
     "exception": false,
     "start_time": "2021-07-31T02:50:04.573400",
     "status": "completed"
    },
    "tags": []
   },
   "outputs": [
    {
     "data": {
      "text/plain": [
       "PosixPath('/home/miltondp/projects/labs/greenelab/phenoplier/data/multiplier/multiplier_model_u.tsv.gz')"
      ]
     },
     "execution_count": 83,
     "metadata": {},
     "output_type": "execute_result"
    }
   ],
   "source": [
    "# copy to deliverables folder\n",
    "copyfile(\n",
    "    output_text_file,\n",
    "    OUTPUT_DIR / output_text_file.name,\n",
    ")"
   ]
  },
  {
   "cell_type": "markdown",
   "metadata": {
    "papermill": {
     "duration": 0.05445,
     "end_time": "2021-07-31T02:50:04.750170",
     "exception": false,
     "start_time": "2021-07-31T02:50:04.695720",
     "status": "completed"
    },
    "tags": []
   },
   "source": [
    "# Matrix U - AUC"
   ]
  },
  {
   "cell_type": "code",
   "execution_count": 84,
   "metadata": {
    "execution": {
     "iopub.execute_input": "2021-07-31T02:50:04.863901Z",
     "iopub.status.busy": "2021-07-31T02:50:04.863529Z",
     "iopub.status.idle": "2021-07-31T02:50:04.870675Z",
     "shell.execute_reply": "2021-07-31T02:50:04.871005Z"
    },
    "papermill": {
     "duration": 0.065589,
     "end_time": "2021-07-31T02:50:04.871110",
     "exception": false,
     "start_time": "2021-07-31T02:50:04.805521",
     "status": "completed"
    },
    "tags": []
   },
   "outputs": [],
   "source": [
    "multiplier_model_matrix = multiplier_full_model.rx2(\"Uauc\")"
   ]
  },
  {
   "cell_type": "code",
   "execution_count": 85,
   "metadata": {
    "execution": {
     "iopub.execute_input": "2021-07-31T02:50:04.984593Z",
     "iopub.status.busy": "2021-07-31T02:50:04.984204Z",
     "iopub.status.idle": "2021-07-31T02:50:04.992928Z",
     "shell.execute_reply": "2021-07-31T02:50:04.992509Z"
    },
    "papermill": {
     "duration": 0.065983,
     "end_time": "2021-07-31T02:50:04.993011",
     "exception": false,
     "start_time": "2021-07-31T02:50:04.927028",
     "status": "completed"
    },
    "tags": []
   },
   "outputs": [
    {
     "data": {
      "text/html": [
       "\n",
       "        <span>FloatMatrix with 619836 elements.</span>\n",
       "        <table>\n",
       "        <tbody>\n",
       "          <tr>\n",
       "          \n",
       "            <td>\n",
       "            0.000000\n",
       "            </td>\n",
       "          \n",
       "            <td>\n",
       "            0.000000\n",
       "            </td>\n",
       "          \n",
       "            <td>\n",
       "            0.000000\n",
       "            </td>\n",
       "          \n",
       "            <td>\n",
       "            ...\n",
       "            </td>\n",
       "          \n",
       "            <td>\n",
       "            0.000000\n",
       "            </td>\n",
       "          \n",
       "            <td>\n",
       "            0.000000\n",
       "            </td>\n",
       "          \n",
       "            <td>\n",
       "            0.000000\n",
       "            </td>\n",
       "          \n",
       "          </tr>\n",
       "        </tbody>\n",
       "        </table>\n",
       "        "
      ],
      "text/plain": [
       "R object with classes: ('matrix',) mapped to:\n",
       "[0.000000, 0.000000, 0.000000, 0.000000, ..., 0.000000, 0.000000, 0.000000, 0.000000]"
      ]
     },
     "execution_count": 85,
     "metadata": {},
     "output_type": "execute_result"
    }
   ],
   "source": [
    "multiplier_model_matrix"
   ]
  },
  {
   "cell_type": "code",
   "execution_count": 86,
   "metadata": {
    "execution": {
     "iopub.execute_input": "2021-07-31T02:50:05.111399Z",
     "iopub.status.busy": "2021-07-31T02:50:05.111021Z",
     "iopub.status.idle": "2021-07-31T02:50:05.119572Z",
     "shell.execute_reply": "2021-07-31T02:50:05.119863Z"
    },
    "papermill": {
     "duration": 0.071158,
     "end_time": "2021-07-31T02:50:05.119974",
     "exception": false,
     "start_time": "2021-07-31T02:50:05.048816",
     "status": "completed"
    },
    "tags": []
   },
   "outputs": [
    {
     "data": {
      "text/html": [
       "\n",
       "        <span>StrVector with 628 elements.</span>\n",
       "        <table>\n",
       "        <tbody>\n",
       "          <tr>\n",
       "          \n",
       "            <td>\n",
       "            'IRIS_Bce...\n",
       "            </td>\n",
       "          \n",
       "            <td>\n",
       "            'IRIS_Bce...\n",
       "            </td>\n",
       "          \n",
       "            <td>\n",
       "            'IRIS_Bce...\n",
       "            </td>\n",
       "          \n",
       "            <td>\n",
       "            ...\n",
       "            </td>\n",
       "          \n",
       "            <td>\n",
       "            'PID_BCR_...\n",
       "            </td>\n",
       "          \n",
       "            <td>\n",
       "            'PID_TELO...\n",
       "            </td>\n",
       "          \n",
       "            <td>\n",
       "            'PID_PI3K...\n",
       "            </td>\n",
       "          \n",
       "          </tr>\n",
       "        </tbody>\n",
       "        </table>\n",
       "        "
      ],
      "text/plain": [
       "R object with classes: ('character',) mapped to:\n",
       "['IRIS_Bce..., 'IRIS_Bce..., 'IRIS_Bce..., 'IRIS_CD4..., ..., 'REACTOME..., 'PID_BCR_..., 'PID_TELO..., 'PID_PI3K...]"
      ]
     },
     "execution_count": 86,
     "metadata": {},
     "output_type": "execute_result"
    }
   ],
   "source": [
    "multiplier_model_matrix.rownames"
   ]
  },
  {
   "cell_type": "code",
   "execution_count": 87,
   "metadata": {
    "execution": {
     "iopub.execute_input": "2021-07-31T02:50:05.236504Z",
     "iopub.status.busy": "2021-07-31T02:50:05.236132Z",
     "iopub.status.idle": "2021-07-31T02:50:05.245022Z",
     "shell.execute_reply": "2021-07-31T02:50:05.244588Z"
    },
    "papermill": {
     "duration": 0.068498,
     "end_time": "2021-07-31T02:50:05.245105",
     "exception": false,
     "start_time": "2021-07-31T02:50:05.176607",
     "status": "completed"
    },
    "tags": []
   },
   "outputs": [
    {
     "data": {
      "text/html": [
       "\n",
       "        <span>StrVector with 987 elements.</span>\n",
       "        <table>\n",
       "        <tbody>\n",
       "          <tr>\n",
       "          \n",
       "            <td>\n",
       "            'LV1'\n",
       "            </td>\n",
       "          \n",
       "            <td>\n",
       "            'LV2'\n",
       "            </td>\n",
       "          \n",
       "            <td>\n",
       "            'LV3'\n",
       "            </td>\n",
       "          \n",
       "            <td>\n",
       "            ...\n",
       "            </td>\n",
       "          \n",
       "            <td>\n",
       "            'LV985'\n",
       "            </td>\n",
       "          \n",
       "            <td>\n",
       "            'LV986'\n",
       "            </td>\n",
       "          \n",
       "            <td>\n",
       "            'LV987'\n",
       "            </td>\n",
       "          \n",
       "          </tr>\n",
       "        </tbody>\n",
       "        </table>\n",
       "        "
      ],
      "text/plain": [
       "R object with classes: ('character',) mapped to:\n",
       "['LV1', 'LV2', 'LV3', 'LV4', ..., 'LV984', 'LV985', 'LV986', 'LV987']"
      ]
     },
     "execution_count": 87,
     "metadata": {},
     "output_type": "execute_result"
    }
   ],
   "source": [
    "multiplier_model_matrix.colnames"
   ]
  },
  {
   "cell_type": "code",
   "execution_count": 88,
   "metadata": {
    "execution": {
     "iopub.execute_input": "2021-07-31T02:50:05.362908Z",
     "iopub.status.busy": "2021-07-31T02:50:05.362549Z",
     "iopub.status.idle": "2021-07-31T02:50:05.370848Z",
     "shell.execute_reply": "2021-07-31T02:50:05.370483Z"
    },
    "papermill": {
     "duration": 0.067282,
     "end_time": "2021-07-31T02:50:05.370930",
     "exception": false,
     "start_time": "2021-07-31T02:50:05.303648",
     "status": "completed"
    },
    "tags": []
   },
   "outputs": [],
   "source": [
    "with localconverter(ro.default_converter + pandas2ri.converter):\n",
    "    multiplier_model_matrix_values = ro.conversion.rpy2py(multiplier_model_matrix)"
   ]
  },
  {
   "cell_type": "code",
   "execution_count": 89,
   "metadata": {
    "execution": {
     "iopub.execute_input": "2021-07-31T02:50:05.485416Z",
     "iopub.status.busy": "2021-07-31T02:50:05.485051Z",
     "iopub.status.idle": "2021-07-31T02:50:05.496605Z",
     "shell.execute_reply": "2021-07-31T02:50:05.496213Z"
    },
    "papermill": {
     "duration": 0.069848,
     "end_time": "2021-07-31T02:50:05.496705",
     "exception": false,
     "start_time": "2021-07-31T02:50:05.426857",
     "status": "completed"
    },
    "tags": []
   },
   "outputs": [],
   "source": [
    "multiplier_model_matrix_df = pd.DataFrame(\n",
    "    data=multiplier_model_matrix_values,\n",
    "    index=multiplier_model_matrix.rownames,\n",
    "    columns=multiplier_model_matrix.colnames,\n",
    ")"
   ]
  },
  {
   "cell_type": "code",
   "execution_count": 90,
   "metadata": {
    "execution": {
     "iopub.execute_input": "2021-07-31T02:50:05.615154Z",
     "iopub.status.busy": "2021-07-31T02:50:05.614797Z",
     "iopub.status.idle": "2021-07-31T02:50:05.623123Z",
     "shell.execute_reply": "2021-07-31T02:50:05.622750Z"
    },
    "papermill": {
     "duration": 0.067563,
     "end_time": "2021-07-31T02:50:05.623209",
     "exception": false,
     "start_time": "2021-07-31T02:50:05.555646",
     "status": "completed"
    },
    "tags": []
   },
   "outputs": [
    {
     "data": {
      "text/plain": [
       "(628, 987)"
      ]
     },
     "metadata": {},
     "output_type": "display_data"
    }
   ],
   "source": [
    "display(multiplier_model_matrix_df.shape)\n",
    "assert multiplier_model_matrix_df.shape == (628, 987)"
   ]
  },
  {
   "cell_type": "code",
   "execution_count": 91,
   "metadata": {
    "execution": {
     "iopub.execute_input": "2021-07-31T02:50:05.737953Z",
     "iopub.status.busy": "2021-07-31T02:50:05.737593Z",
     "iopub.status.idle": "2021-07-31T02:50:05.758165Z",
     "shell.execute_reply": "2021-07-31T02:50:05.757786Z"
    },
    "papermill": {
     "duration": 0.078768,
     "end_time": "2021-07-31T02:50:05.758258",
     "exception": false,
     "start_time": "2021-07-31T02:50:05.679490",
     "status": "completed"
    },
    "tags": []
   },
   "outputs": [
    {
     "data": {
      "text/html": [
       "<div>\n",
       "<style scoped>\n",
       "    .dataframe tbody tr th:only-of-type {\n",
       "        vertical-align: middle;\n",
       "    }\n",
       "\n",
       "    .dataframe tbody tr th {\n",
       "        vertical-align: top;\n",
       "    }\n",
       "\n",
       "    .dataframe thead th {\n",
       "        text-align: right;\n",
       "    }\n",
       "</style>\n",
       "<table border=\"1\" class=\"dataframe\">\n",
       "  <thead>\n",
       "    <tr style=\"text-align: right;\">\n",
       "      <th></th>\n",
       "      <th>LV1</th>\n",
       "      <th>LV2</th>\n",
       "      <th>LV3</th>\n",
       "      <th>LV4</th>\n",
       "      <th>LV5</th>\n",
       "      <th>LV6</th>\n",
       "      <th>LV7</th>\n",
       "      <th>LV8</th>\n",
       "      <th>LV9</th>\n",
       "      <th>LV10</th>\n",
       "      <th>...</th>\n",
       "      <th>LV978</th>\n",
       "      <th>LV979</th>\n",
       "      <th>LV980</th>\n",
       "      <th>LV981</th>\n",
       "      <th>LV982</th>\n",
       "      <th>LV983</th>\n",
       "      <th>LV984</th>\n",
       "      <th>LV985</th>\n",
       "      <th>LV986</th>\n",
       "      <th>LV987</th>\n",
       "    </tr>\n",
       "  </thead>\n",
       "  <tbody>\n",
       "    <tr>\n",
       "      <th>IRIS_Bcell-Memory_IgG_IgA</th>\n",
       "      <td>0.0</td>\n",
       "      <td>0.0</td>\n",
       "      <td>0.0</td>\n",
       "      <td>0.0</td>\n",
       "      <td>0.0</td>\n",
       "      <td>0.0</td>\n",
       "      <td>0.0</td>\n",
       "      <td>0.0</td>\n",
       "      <td>0.0</td>\n",
       "      <td>0.0</td>\n",
       "      <td>...</td>\n",
       "      <td>0.0</td>\n",
       "      <td>0.0</td>\n",
       "      <td>0.0</td>\n",
       "      <td>0.0</td>\n",
       "      <td>0.0</td>\n",
       "      <td>0.0</td>\n",
       "      <td>0.0</td>\n",
       "      <td>0.0</td>\n",
       "      <td>0.0</td>\n",
       "      <td>0.0</td>\n",
       "    </tr>\n",
       "    <tr>\n",
       "      <th>IRIS_Bcell-Memory_IgM</th>\n",
       "      <td>0.0</td>\n",
       "      <td>0.0</td>\n",
       "      <td>0.0</td>\n",
       "      <td>0.0</td>\n",
       "      <td>0.0</td>\n",
       "      <td>0.0</td>\n",
       "      <td>0.0</td>\n",
       "      <td>0.0</td>\n",
       "      <td>0.0</td>\n",
       "      <td>0.0</td>\n",
       "      <td>...</td>\n",
       "      <td>0.0</td>\n",
       "      <td>0.0</td>\n",
       "      <td>0.0</td>\n",
       "      <td>0.0</td>\n",
       "      <td>0.0</td>\n",
       "      <td>0.0</td>\n",
       "      <td>0.0</td>\n",
       "      <td>0.0</td>\n",
       "      <td>0.0</td>\n",
       "      <td>0.0</td>\n",
       "    </tr>\n",
       "    <tr>\n",
       "      <th>IRIS_Bcell-naive</th>\n",
       "      <td>0.0</td>\n",
       "      <td>0.0</td>\n",
       "      <td>0.0</td>\n",
       "      <td>0.0</td>\n",
       "      <td>0.0</td>\n",
       "      <td>0.0</td>\n",
       "      <td>0.0</td>\n",
       "      <td>0.0</td>\n",
       "      <td>0.0</td>\n",
       "      <td>0.0</td>\n",
       "      <td>...</td>\n",
       "      <td>0.0</td>\n",
       "      <td>0.0</td>\n",
       "      <td>0.0</td>\n",
       "      <td>0.0</td>\n",
       "      <td>0.0</td>\n",
       "      <td>0.0</td>\n",
       "      <td>0.0</td>\n",
       "      <td>0.0</td>\n",
       "      <td>0.0</td>\n",
       "      <td>0.0</td>\n",
       "    </tr>\n",
       "    <tr>\n",
       "      <th>IRIS_CD4Tcell-N0</th>\n",
       "      <td>0.0</td>\n",
       "      <td>0.0</td>\n",
       "      <td>0.0</td>\n",
       "      <td>0.0</td>\n",
       "      <td>0.0</td>\n",
       "      <td>0.0</td>\n",
       "      <td>0.0</td>\n",
       "      <td>0.0</td>\n",
       "      <td>0.0</td>\n",
       "      <td>0.0</td>\n",
       "      <td>...</td>\n",
       "      <td>0.0</td>\n",
       "      <td>0.0</td>\n",
       "      <td>0.0</td>\n",
       "      <td>0.0</td>\n",
       "      <td>0.0</td>\n",
       "      <td>0.0</td>\n",
       "      <td>0.0</td>\n",
       "      <td>0.0</td>\n",
       "      <td>0.0</td>\n",
       "      <td>0.0</td>\n",
       "    </tr>\n",
       "    <tr>\n",
       "      <th>IRIS_CD4Tcell-Th1-restimulated12hour</th>\n",
       "      <td>0.0</td>\n",
       "      <td>0.0</td>\n",
       "      <td>0.0</td>\n",
       "      <td>0.0</td>\n",
       "      <td>0.0</td>\n",
       "      <td>0.0</td>\n",
       "      <td>0.0</td>\n",
       "      <td>0.0</td>\n",
       "      <td>0.0</td>\n",
       "      <td>0.0</td>\n",
       "      <td>...</td>\n",
       "      <td>0.0</td>\n",
       "      <td>0.0</td>\n",
       "      <td>0.0</td>\n",
       "      <td>0.0</td>\n",
       "      <td>0.0</td>\n",
       "      <td>0.0</td>\n",
       "      <td>0.0</td>\n",
       "      <td>0.0</td>\n",
       "      <td>0.0</td>\n",
       "      <td>0.0</td>\n",
       "    </tr>\n",
       "  </tbody>\n",
       "</table>\n",
       "<p>5 rows × 987 columns</p>\n",
       "</div>"
      ],
      "text/plain": [
       "                                      LV1  LV2  LV3  LV4  LV5  LV6  LV7  LV8  \\\n",
       "IRIS_Bcell-Memory_IgG_IgA             0.0  0.0  0.0  0.0  0.0  0.0  0.0  0.0   \n",
       "IRIS_Bcell-Memory_IgM                 0.0  0.0  0.0  0.0  0.0  0.0  0.0  0.0   \n",
       "IRIS_Bcell-naive                      0.0  0.0  0.0  0.0  0.0  0.0  0.0  0.0   \n",
       "IRIS_CD4Tcell-N0                      0.0  0.0  0.0  0.0  0.0  0.0  0.0  0.0   \n",
       "IRIS_CD4Tcell-Th1-restimulated12hour  0.0  0.0  0.0  0.0  0.0  0.0  0.0  0.0   \n",
       "\n",
       "                                      LV9  LV10  ...  LV978  LV979  LV980  \\\n",
       "IRIS_Bcell-Memory_IgG_IgA             0.0   0.0  ...    0.0    0.0    0.0   \n",
       "IRIS_Bcell-Memory_IgM                 0.0   0.0  ...    0.0    0.0    0.0   \n",
       "IRIS_Bcell-naive                      0.0   0.0  ...    0.0    0.0    0.0   \n",
       "IRIS_CD4Tcell-N0                      0.0   0.0  ...    0.0    0.0    0.0   \n",
       "IRIS_CD4Tcell-Th1-restimulated12hour  0.0   0.0  ...    0.0    0.0    0.0   \n",
       "\n",
       "                                      LV981  LV982  LV983  LV984  LV985  \\\n",
       "IRIS_Bcell-Memory_IgG_IgA               0.0    0.0    0.0    0.0    0.0   \n",
       "IRIS_Bcell-Memory_IgM                   0.0    0.0    0.0    0.0    0.0   \n",
       "IRIS_Bcell-naive                        0.0    0.0    0.0    0.0    0.0   \n",
       "IRIS_CD4Tcell-N0                        0.0    0.0    0.0    0.0    0.0   \n",
       "IRIS_CD4Tcell-Th1-restimulated12hour    0.0    0.0    0.0    0.0    0.0   \n",
       "\n",
       "                                      LV986  LV987  \n",
       "IRIS_Bcell-Memory_IgG_IgA               0.0    0.0  \n",
       "IRIS_Bcell-Memory_IgM                   0.0    0.0  \n",
       "IRIS_Bcell-naive                        0.0    0.0  \n",
       "IRIS_CD4Tcell-N0                        0.0    0.0  \n",
       "IRIS_CD4Tcell-Th1-restimulated12hour    0.0    0.0  \n",
       "\n",
       "[5 rows x 987 columns]"
      ]
     },
     "execution_count": 91,
     "metadata": {},
     "output_type": "execute_result"
    }
   ],
   "source": [
    "multiplier_model_matrix_df.head()"
   ]
  },
  {
   "cell_type": "code",
   "execution_count": 92,
   "metadata": {
    "execution": {
     "iopub.execute_input": "2021-07-31T02:50:05.876950Z",
     "iopub.status.busy": "2021-07-31T02:50:05.876525Z",
     "iopub.status.idle": "2021-07-31T02:50:05.884642Z",
     "shell.execute_reply": "2021-07-31T02:50:05.884274Z"
    },
    "papermill": {
     "duration": 0.068467,
     "end_time": "2021-07-31T02:50:05.884771",
     "exception": false,
     "start_time": "2021-07-31T02:50:05.816304",
     "status": "completed"
    },
    "tags": []
   },
   "outputs": [],
   "source": [
    "# make sure I'm seeing the same when loaded with R\n",
    "assert multiplier_model_matrix_df.loc[\"PID_FASPATHWAY\", \"LV136\"] == 0\n",
    "assert (\n",
    "    multiplier_model_matrix_df.loc[\"PID_INTEGRIN1_PATHWAY\", \"LV136\"].round(7)\n",
    "    == 0.8832853\n",
    ")\n",
    "assert (\n",
    "    multiplier_model_matrix_df.loc[\"REACTOME_COLLAGEN_FORMATION\", \"LV136\"].round(7)\n",
    "    == 0.8707412\n",
    ")\n",
    "\n",
    "assert multiplier_model_matrix_df.loc[\"PID_FASPATHWAY\", \"LV603\"] == 0\n",
    "assert (\n",
    "    multiplier_model_matrix_df.loc[\"IRIS_Neutrophil-Resting\", \"LV603\"].round(7)\n",
    "    == 0.9057506\n",
    ")\n",
    "assert multiplier_model_matrix_df.loc[\"SVM Neutrophils\", \"LV603\"].round(7) == 0.9797889"
   ]
  },
  {
   "cell_type": "markdown",
   "metadata": {
    "papermill": {
     "duration": 0.056658,
     "end_time": "2021-07-31T02:50:05.999451",
     "exception": false,
     "start_time": "2021-07-31T02:50:05.942793",
     "status": "completed"
    },
    "tags": []
   },
   "source": [
    "## Save"
   ]
  },
  {
   "cell_type": "markdown",
   "metadata": {
    "papermill": {
     "duration": 0.061219,
     "end_time": "2021-07-31T02:50:06.116825",
     "exception": false,
     "start_time": "2021-07-31T02:50:06.055606",
     "status": "completed"
    },
    "tags": []
   },
   "source": [
    "### Pickle format"
   ]
  },
  {
   "cell_type": "code",
   "execution_count": 93,
   "metadata": {
    "execution": {
     "iopub.execute_input": "2021-07-31T02:50:06.235338Z",
     "iopub.status.busy": "2021-07-31T02:50:06.234980Z",
     "iopub.status.idle": "2021-07-31T02:50:06.243524Z",
     "shell.execute_reply": "2021-07-31T02:50:06.243153Z"
    },
    "papermill": {
     "duration": 0.068286,
     "end_time": "2021-07-31T02:50:06.243607",
     "exception": false,
     "start_time": "2021-07-31T02:50:06.175321",
     "status": "completed"
    },
    "tags": []
   },
   "outputs": [
    {
     "data": {
      "text/plain": [
       "PosixPath('/home/miltondp/projects/labs/greenelab/phenoplier/base/data/multiplier/multiplier_model_u_auc.pkl')"
      ]
     },
     "metadata": {},
     "output_type": "display_data"
    }
   ],
   "source": [
    "output_file = conf.MULTIPLIER[\"MODEL_U_AUC_MATRIX_FILE\"]\n",
    "display(output_file)"
   ]
  },
  {
   "cell_type": "code",
   "execution_count": 94,
   "metadata": {
    "execution": {
     "iopub.execute_input": "2021-07-31T02:50:06.361907Z",
     "iopub.status.busy": "2021-07-31T02:50:06.361547Z",
     "iopub.status.idle": "2021-07-31T02:50:06.397459Z",
     "shell.execute_reply": "2021-07-31T02:50:06.397040Z"
    },
    "papermill": {
     "duration": 0.095273,
     "end_time": "2021-07-31T02:50:06.397553",
     "exception": false,
     "start_time": "2021-07-31T02:50:06.302280",
     "status": "completed"
    },
    "tags": []
   },
   "outputs": [],
   "source": [
    "multiplier_model_matrix_df.to_pickle(output_file)"
   ]
  },
  {
   "cell_type": "code",
   "execution_count": 95,
   "metadata": {
    "execution": {
     "iopub.execute_input": "2021-07-31T02:50:06.517236Z",
     "iopub.status.busy": "2021-07-31T02:50:06.516869Z",
     "iopub.status.idle": "2021-07-31T02:50:06.527784Z",
     "shell.execute_reply": "2021-07-31T02:50:06.527411Z"
    },
    "papermill": {
     "duration": 0.070276,
     "end_time": "2021-07-31T02:50:06.527868",
     "exception": false,
     "start_time": "2021-07-31T02:50:06.457592",
     "status": "completed"
    },
    "tags": []
   },
   "outputs": [
    {
     "data": {
      "text/plain": [
       "PosixPath('/home/miltondp/projects/labs/greenelab/phenoplier/data/multiplier/multiplier_model_u_auc.pkl')"
      ]
     },
     "execution_count": 95,
     "metadata": {},
     "output_type": "execute_result"
    }
   ],
   "source": [
    "# copy to deliverables folder\n",
    "copyfile(\n",
    "    output_file,\n",
    "    OUTPUT_DIR / output_file.name,\n",
    ")"
   ]
  },
  {
   "cell_type": "markdown",
   "metadata": {
    "papermill": {
     "duration": 0.056925,
     "end_time": "2021-07-31T02:50:06.642750",
     "exception": false,
     "start_time": "2021-07-31T02:50:06.585825",
     "status": "completed"
    },
    "tags": []
   },
   "source": [
    "### RDS format"
   ]
  },
  {
   "cell_type": "code",
   "execution_count": 96,
   "metadata": {
    "execution": {
     "iopub.execute_input": "2021-07-31T02:50:06.781440Z",
     "iopub.status.busy": "2021-07-31T02:50:06.780975Z",
     "iopub.status.idle": "2021-07-31T02:50:06.790153Z",
     "shell.execute_reply": "2021-07-31T02:50:06.790501Z"
    },
    "papermill": {
     "duration": 0.089834,
     "end_time": "2021-07-31T02:50:06.790629",
     "exception": false,
     "start_time": "2021-07-31T02:50:06.700795",
     "status": "completed"
    },
    "tags": []
   },
   "outputs": [
    {
     "data": {
      "text/plain": [
       "PosixPath('/home/miltondp/projects/labs/greenelab/phenoplier/base/data/multiplier/multiplier_model_u_auc.rds')"
      ]
     },
     "metadata": {},
     "output_type": "display_data"
    }
   ],
   "source": [
    "output_rds_file = output_file.with_suffix(\".rds\")\n",
    "display(output_rds_file)"
   ]
  },
  {
   "cell_type": "code",
   "execution_count": 97,
   "metadata": {
    "execution": {
     "iopub.execute_input": "2021-07-31T02:50:06.912626Z",
     "iopub.status.busy": "2021-07-31T02:50:06.912250Z",
     "iopub.status.idle": "2021-07-31T02:50:06.963902Z",
     "shell.execute_reply": "2021-07-31T02:50:06.963533Z"
    },
    "papermill": {
     "duration": 0.111343,
     "end_time": "2021-07-31T02:50:06.963986",
     "exception": false,
     "start_time": "2021-07-31T02:50:06.852643",
     "status": "completed"
    },
    "tags": []
   },
   "outputs": [
    {
     "data": {
      "text/plain": [
       "<rpy2.rinterface_lib.sexp.NULLType object at 0x7f97ec165dc0> [RTYPES.NILSXP]"
      ]
     },
     "execution_count": 97,
     "metadata": {},
     "output_type": "execute_result"
    }
   ],
   "source": [
    "saveRDS(multiplier_model_matrix, str(output_rds_file))"
   ]
  },
  {
   "cell_type": "code",
   "execution_count": 98,
   "metadata": {
    "execution": {
     "iopub.execute_input": "2021-07-31T02:50:07.088594Z",
     "iopub.status.busy": "2021-07-31T02:50:07.082334Z",
     "iopub.status.idle": "2021-07-31T02:50:07.094152Z",
     "shell.execute_reply": "2021-07-31T02:50:07.093724Z"
    },
    "papermill": {
     "duration": 0.071859,
     "end_time": "2021-07-31T02:50:07.094262",
     "exception": false,
     "start_time": "2021-07-31T02:50:07.022403",
     "status": "completed"
    },
    "tags": []
   },
   "outputs": [
    {
     "data": {
      "text/plain": [
       "PosixPath('/home/miltondp/projects/labs/greenelab/phenoplier/data/multiplier/multiplier_model_u_auc.rds')"
      ]
     },
     "execution_count": 98,
     "metadata": {},
     "output_type": "execute_result"
    }
   ],
   "source": [
    "# copy to deliverables folder\n",
    "copyfile(\n",
    "    output_rds_file,\n",
    "    OUTPUT_DIR / output_rds_file.name,\n",
    ")"
   ]
  },
  {
   "cell_type": "markdown",
   "metadata": {
    "papermill": {
     "duration": 0.057854,
     "end_time": "2021-07-31T02:50:07.215505",
     "exception": false,
     "start_time": "2021-07-31T02:50:07.157651",
     "status": "completed"
    },
    "tags": []
   },
   "source": [
    "### Text format"
   ]
  },
  {
   "cell_type": "code",
   "execution_count": 99,
   "metadata": {
    "execution": {
     "iopub.execute_input": "2021-07-31T02:50:07.334893Z",
     "iopub.status.busy": "2021-07-31T02:50:07.334535Z",
     "iopub.status.idle": "2021-07-31T02:50:07.342965Z",
     "shell.execute_reply": "2021-07-31T02:50:07.342598Z"
    },
    "papermill": {
     "duration": 0.068446,
     "end_time": "2021-07-31T02:50:07.343050",
     "exception": false,
     "start_time": "2021-07-31T02:50:07.274604",
     "status": "completed"
    },
    "tags": []
   },
   "outputs": [
    {
     "data": {
      "text/plain": [
       "PosixPath('/home/miltondp/projects/labs/greenelab/phenoplier/base/data/multiplier/multiplier_model_u_auc.tsv.gz')"
      ]
     },
     "metadata": {},
     "output_type": "display_data"
    }
   ],
   "source": [
    "# tsv format\n",
    "output_text_file = output_file.with_suffix(\".tsv.gz\")\n",
    "display(output_text_file)"
   ]
  },
  {
   "cell_type": "code",
   "execution_count": 100,
   "metadata": {
    "execution": {
     "iopub.execute_input": "2021-07-31T02:50:07.463614Z",
     "iopub.status.busy": "2021-07-31T02:50:07.463259Z",
     "iopub.status.idle": "2021-07-31T02:50:08.241338Z",
     "shell.execute_reply": "2021-07-31T02:50:08.241632Z"
    },
    "papermill": {
     "duration": 0.839592,
     "end_time": "2021-07-31T02:50:08.241738",
     "exception": false,
     "start_time": "2021-07-31T02:50:07.402146",
     "status": "completed"
    },
    "tags": []
   },
   "outputs": [],
   "source": [
    "multiplier_model_matrix_df.to_csv(\n",
    "    output_text_file, sep=\"\\t\", index=True, float_format=\"%.5e\"\n",
    ")"
   ]
  },
  {
   "cell_type": "code",
   "execution_count": 101,
   "metadata": {
    "execution": {
     "iopub.execute_input": "2021-07-31T02:50:08.361965Z",
     "iopub.status.busy": "2021-07-31T02:50:08.361607Z",
     "iopub.status.idle": "2021-07-31T02:50:08.370256Z",
     "shell.execute_reply": "2021-07-31T02:50:08.369889Z"
    },
    "papermill": {
     "duration": 0.069405,
     "end_time": "2021-07-31T02:50:08.370341",
     "exception": false,
     "start_time": "2021-07-31T02:50:08.300936",
     "status": "completed"
    },
    "tags": []
   },
   "outputs": [
    {
     "data": {
      "text/plain": [
       "PosixPath('/home/miltondp/projects/labs/greenelab/phenoplier/data/multiplier/multiplier_model_u_auc.tsv.gz')"
      ]
     },
     "execution_count": 101,
     "metadata": {},
     "output_type": "execute_result"
    }
   ],
   "source": [
    "# copy to deliverables folder\n",
    "copyfile(\n",
    "    output_text_file,\n",
    "    OUTPUT_DIR / output_text_file.name,\n",
    ")"
   ]
  },
  {
   "cell_type": "markdown",
   "metadata": {
    "papermill": {
     "duration": 0.05888,
     "end_time": "2021-07-31T02:50:08.489253",
     "exception": false,
     "start_time": "2021-07-31T02:50:08.430373",
     "status": "completed"
    },
    "tags": []
   },
   "source": [
    "# Model metadata"
   ]
  },
  {
   "cell_type": "code",
   "execution_count": 102,
   "metadata": {
    "execution": {
     "iopub.execute_input": "2021-07-31T02:50:08.609005Z",
     "iopub.status.busy": "2021-07-31T02:50:08.608586Z",
     "iopub.status.idle": "2021-07-31T02:50:08.617358Z",
     "shell.execute_reply": "2021-07-31T02:50:08.617026Z"
    },
    "papermill": {
     "duration": 0.070009,
     "end_time": "2021-07-31T02:50:08.617441",
     "exception": false,
     "start_time": "2021-07-31T02:50:08.547432",
     "status": "completed"
    },
    "tags": []
   },
   "outputs": [
    {
     "data": {
      "text/plain": [
       "['residual',\n",
       " 'B',\n",
       " 'Z',\n",
       " 'U',\n",
       " 'C',\n",
       " 'numActPath',\n",
       " 'L1',\n",
       " 'L2',\n",
       " 'L3',\n",
       " 'heldOutGenes',\n",
       " 'withPrior',\n",
       " 'Uauc',\n",
       " 'Up',\n",
       " 'summary']"
      ]
     },
     "metadata": {},
     "output_type": "display_data"
    }
   ],
   "source": [
    "model_names = list(multiplier_full_model.names)\n",
    "display(model_names)"
   ]
  },
  {
   "cell_type": "code",
   "execution_count": 103,
   "metadata": {
    "execution": {
     "iopub.execute_input": "2021-07-31T02:50:08.739992Z",
     "iopub.status.busy": "2021-07-31T02:50:08.739636Z",
     "iopub.status.idle": "2021-07-31T02:50:08.747701Z",
     "shell.execute_reply": "2021-07-31T02:50:08.747337Z"
    },
    "papermill": {
     "duration": 0.069543,
     "end_time": "2021-07-31T02:50:08.747785",
     "exception": false,
     "start_time": "2021-07-31T02:50:08.678242",
     "status": "completed"
    },
    "tags": []
   },
   "outputs": [],
   "source": [
    "with localconverter(ro.default_converter + pandas2ri.converter):\n",
    "    model_metadata = {\n",
    "        k: ro.conversion.rpy2py(multiplier_full_model.rx2(k))[0]\n",
    "        for k in (\"L1\", \"L2\", \"L3\")\n",
    "    }"
   ]
  },
  {
   "cell_type": "code",
   "execution_count": 104,
   "metadata": {
    "execution": {
     "iopub.execute_input": "2021-07-31T02:50:08.869285Z",
     "iopub.status.busy": "2021-07-31T02:50:08.868928Z",
     "iopub.status.idle": "2021-07-31T02:50:08.877326Z",
     "shell.execute_reply": "2021-07-31T02:50:08.876967Z"
    },
    "papermill": {
     "duration": 0.069763,
     "end_time": "2021-07-31T02:50:08.877409",
     "exception": false,
     "start_time": "2021-07-31T02:50:08.807646",
     "status": "completed"
    },
    "tags": []
   },
   "outputs": [
    {
     "data": {
      "text/plain": [
       "{'L1': 120.5660870071812, 'L2': 241.1321740143624, 'L3': 0.012696760842460974}"
      ]
     },
     "execution_count": 104,
     "metadata": {},
     "output_type": "execute_result"
    }
   ],
   "source": [
    "model_metadata"
   ]
  },
  {
   "cell_type": "code",
   "execution_count": 105,
   "metadata": {
    "execution": {
     "iopub.execute_input": "2021-07-31T02:50:08.998648Z",
     "iopub.status.busy": "2021-07-31T02:50:08.998287Z",
     "iopub.status.idle": "2021-07-31T02:50:09.005187Z",
     "shell.execute_reply": "2021-07-31T02:50:09.005462Z"
    },
    "papermill": {
     "duration": 0.069267,
     "end_time": "2021-07-31T02:50:09.005567",
     "exception": false,
     "start_time": "2021-07-31T02:50:08.936300",
     "status": "completed"
    },
    "tags": []
   },
   "outputs": [],
   "source": [
    "assert len(model_metadata) == 3"
   ]
  },
  {
   "cell_type": "code",
   "execution_count": 106,
   "metadata": {
    "execution": {
     "iopub.execute_input": "2021-07-31T02:50:09.130677Z",
     "iopub.status.busy": "2021-07-31T02:50:09.130310Z",
     "iopub.status.idle": "2021-07-31T02:50:09.137743Z",
     "shell.execute_reply": "2021-07-31T02:50:09.137420Z"
    },
    "papermill": {
     "duration": 0.072161,
     "end_time": "2021-07-31T02:50:09.137830",
     "exception": false,
     "start_time": "2021-07-31T02:50:09.065669",
     "status": "completed"
    },
    "tags": []
   },
   "outputs": [],
   "source": [
    "assert model_metadata[\"L2\"] == 241.1321740143624"
   ]
  },
  {
   "cell_type": "markdown",
   "metadata": {
    "papermill": {
     "duration": 0.058746,
     "end_time": "2021-07-31T02:50:09.256629",
     "exception": false,
     "start_time": "2021-07-31T02:50:09.197883",
     "status": "completed"
    },
    "tags": []
   },
   "source": [
    "## Save"
   ]
  },
  {
   "cell_type": "markdown",
   "metadata": {
    "papermill": {
     "duration": 0.058563,
     "end_time": "2021-07-31T02:50:09.374125",
     "exception": false,
     "start_time": "2021-07-31T02:50:09.315562",
     "status": "completed"
    },
    "tags": []
   },
   "source": [
    "### Pickle format"
   ]
  },
  {
   "cell_type": "code",
   "execution_count": 107,
   "metadata": {
    "execution": {
     "iopub.execute_input": "2021-07-31T02:50:09.495487Z",
     "iopub.status.busy": "2021-07-31T02:50:09.495134Z",
     "iopub.status.idle": "2021-07-31T02:50:09.503660Z",
     "shell.execute_reply": "2021-07-31T02:50:09.503293Z"
    },
    "papermill": {
     "duration": 0.07086,
     "end_time": "2021-07-31T02:50:09.503745",
     "exception": false,
     "start_time": "2021-07-31T02:50:09.432885",
     "status": "completed"
    },
    "tags": []
   },
   "outputs": [
    {
     "data": {
      "text/plain": [
       "PosixPath('/home/miltondp/projects/labs/greenelab/phenoplier/base/data/multiplier/multiplier_model_metadata.pkl')"
      ]
     },
     "metadata": {},
     "output_type": "display_data"
    }
   ],
   "source": [
    "output_file = conf.MULTIPLIER[\"MODEL_METADATA_FILE\"]\n",
    "display(output_file)"
   ]
  },
  {
   "cell_type": "code",
   "execution_count": 108,
   "metadata": {
    "execution": {
     "iopub.execute_input": "2021-07-31T02:50:09.626521Z",
     "iopub.status.busy": "2021-07-31T02:50:09.626154Z",
     "iopub.status.idle": "2021-07-31T02:50:09.633450Z",
     "shell.execute_reply": "2021-07-31T02:50:09.633737Z"
    },
    "papermill": {
     "duration": 0.070245,
     "end_time": "2021-07-31T02:50:09.633841",
     "exception": false,
     "start_time": "2021-07-31T02:50:09.563596",
     "status": "completed"
    },
    "tags": []
   },
   "outputs": [],
   "source": [
    "with open(output_file, \"wb\") as handle:\n",
    "    pickle.dump(model_metadata, handle, protocol=pickle.HIGHEST_PROTOCOL)"
   ]
  },
  {
   "cell_type": "code",
   "execution_count": 109,
   "metadata": {
    "execution": {
     "iopub.execute_input": "2021-07-31T02:50:09.755346Z",
     "iopub.status.busy": "2021-07-31T02:50:09.754978Z",
     "iopub.status.idle": "2021-07-31T02:50:09.763874Z",
     "shell.execute_reply": "2021-07-31T02:50:09.763507Z"
    },
    "papermill": {
     "duration": 0.070208,
     "end_time": "2021-07-31T02:50:09.763960",
     "exception": false,
     "start_time": "2021-07-31T02:50:09.693752",
     "status": "completed"
    },
    "tags": []
   },
   "outputs": [
    {
     "data": {
      "text/plain": [
       "PosixPath('/home/miltondp/projects/labs/greenelab/phenoplier/data/multiplier/multiplier_model_metadata.pkl')"
      ]
     },
     "execution_count": 109,
     "metadata": {},
     "output_type": "execute_result"
    }
   ],
   "source": [
    "# copy to deliverables folder\n",
    "copyfile(\n",
    "    output_file,\n",
    "    OUTPUT_DIR / output_file.name,\n",
    ")"
   ]
  },
  {
   "cell_type": "markdown",
   "metadata": {
    "papermill": {
     "duration": 0.060348,
     "end_time": "2021-07-31T02:50:09.884901",
     "exception": false,
     "start_time": "2021-07-31T02:50:09.824553",
     "status": "completed"
    },
    "tags": []
   },
   "source": [
    "### RDS format"
   ]
  },
  {
   "cell_type": "code",
   "execution_count": 110,
   "metadata": {
    "execution": {
     "iopub.execute_input": "2021-07-31T02:50:10.006128Z",
     "iopub.status.busy": "2021-07-31T02:50:10.005772Z",
     "iopub.status.idle": "2021-07-31T02:50:10.013531Z",
     "shell.execute_reply": "2021-07-31T02:50:10.013807Z"
    },
    "papermill": {
     "duration": 0.069675,
     "end_time": "2021-07-31T02:50:10.013914",
     "exception": false,
     "start_time": "2021-07-31T02:50:09.944239",
     "status": "completed"
    },
    "tags": []
   },
   "outputs": [
    {
     "data": {
      "text/plain": [
       "PosixPath('/home/miltondp/projects/labs/greenelab/phenoplier/base/data/multiplier/multiplier_model_metadata.rds')"
      ]
     },
     "metadata": {},
     "output_type": "display_data"
    }
   ],
   "source": [
    "output_rds_file = output_file.with_suffix(\".rds\")\n",
    "display(output_rds_file)"
   ]
  },
  {
   "cell_type": "code",
   "execution_count": 111,
   "metadata": {
    "execution": {
     "iopub.execute_input": "2021-07-31T02:50:10.142674Z",
     "iopub.status.busy": "2021-07-31T02:50:10.142316Z",
     "iopub.status.idle": "2021-07-31T02:50:10.149793Z",
     "shell.execute_reply": "2021-07-31T02:50:10.149482Z"
    },
    "papermill": {
     "duration": 0.075193,
     "end_time": "2021-07-31T02:50:10.149881",
     "exception": false,
     "start_time": "2021-07-31T02:50:10.074688",
     "status": "completed"
    },
    "tags": []
   },
   "outputs": [],
   "source": [
    "# convert numpy.float64 to standard float objects\n",
    "rds_list = ro.ListVector({k: float(v) for k, v in model_metadata.items()})"
   ]
  },
  {
   "cell_type": "code",
   "execution_count": 112,
   "metadata": {
    "execution": {
     "iopub.execute_input": "2021-07-31T02:50:10.273940Z",
     "iopub.status.busy": "2021-07-31T02:50:10.273551Z",
     "iopub.status.idle": "2021-07-31T02:50:10.282917Z",
     "shell.execute_reply": "2021-07-31T02:50:10.282560Z"
    },
    "papermill": {
     "duration": 0.072032,
     "end_time": "2021-07-31T02:50:10.283000",
     "exception": false,
     "start_time": "2021-07-31T02:50:10.210968",
     "status": "completed"
    },
    "tags": []
   },
   "outputs": [
    {
     "data": {
      "text/html": [
       "\n",
       "        <span>ListVector with 3 elements.</span>\n",
       "        <table>\n",
       "        <tbody>\n",
       "        \n",
       "          <tr>\n",
       "            <th>\n",
       "            L1\n",
       "            </th>\n",
       "            <td>\n",
       "            <rpy2.rinterface.FloatSexpVector object at 0x7f9746dc6500> [RTYPES.REALSXP]\n",
       "            </td>\n",
       "          </tr>\n",
       "        \n",
       "          <tr>\n",
       "            <th>\n",
       "            L2\n",
       "            </th>\n",
       "            <td>\n",
       "            <rpy2.rinterface.FloatSexpVector object at 0x7f9746dc6240> [RTYPES.REALSXP]\n",
       "            </td>\n",
       "          </tr>\n",
       "        \n",
       "          <tr>\n",
       "            <th>\n",
       "            L3\n",
       "            </th>\n",
       "            <td>\n",
       "            <rpy2.rinterface.FloatSexpVector object at 0x7f9746dc63c0> [RTYPES.REALSXP]\n",
       "            </td>\n",
       "          </tr>\n",
       "        \n",
       "        </tbody>\n",
       "        </table>\n",
       "        "
      ],
      "text/plain": [
       "R object with classes: ('list',) mapped to:\n",
       "[FloatSexpVector, FloatSexpVector, FloatSexpVector]\n",
       "  L1: <class 'rpy2.rinterface.FloatSexpVector'>\n",
       "  <rpy2.rinterface.FloatSexpVector object at 0x7f9746dc6700> [RTYPES.REALSXP]\n",
       "  L2: <class 'rpy2.rinterface.FloatSexpVector'>\n",
       "  <rpy2.rinterface.FloatSexpVector object at 0x7f9746dc66c0> [RTYPES.REALSXP]\n",
       "  L3: <class 'rpy2.rinterface.FloatSexpVector'>\n",
       "  <rpy2.rinterface.FloatSexpVector object at 0x7f9746dc6500> [RTYPES.REALSXP]"
      ]
     },
     "execution_count": 112,
     "metadata": {},
     "output_type": "execute_result"
    }
   ],
   "source": [
    "rds_list"
   ]
  },
  {
   "cell_type": "code",
   "execution_count": 113,
   "metadata": {
    "execution": {
     "iopub.execute_input": "2021-07-31T02:50:10.407148Z",
     "iopub.status.busy": "2021-07-31T02:50:10.406793Z",
     "iopub.status.idle": "2021-07-31T02:50:10.415467Z",
     "shell.execute_reply": "2021-07-31T02:50:10.415100Z"
    },
    "papermill": {
     "duration": 0.07143,
     "end_time": "2021-07-31T02:50:10.415553",
     "exception": false,
     "start_time": "2021-07-31T02:50:10.344123",
     "status": "completed"
    },
    "tags": []
   },
   "outputs": [
    {
     "data": {
      "text/plain": [
       "<rpy2.rinterface_lib.sexp.NULLType object at 0x7f97ec165dc0> [RTYPES.NILSXP]"
      ]
     },
     "execution_count": 113,
     "metadata": {},
     "output_type": "execute_result"
    }
   ],
   "source": [
    "saveRDS(rds_list, str(output_rds_file))"
   ]
  },
  {
   "cell_type": "code",
   "execution_count": 114,
   "metadata": {
    "execution": {
     "iopub.execute_input": "2021-07-31T02:50:10.540034Z",
     "iopub.status.busy": "2021-07-31T02:50:10.539676Z",
     "iopub.status.idle": "2021-07-31T02:50:10.548082Z",
     "shell.execute_reply": "2021-07-31T02:50:10.547725Z"
    },
    "papermill": {
     "duration": 0.071042,
     "end_time": "2021-07-31T02:50:10.548164",
     "exception": false,
     "start_time": "2021-07-31T02:50:10.477122",
     "status": "completed"
    },
    "tags": []
   },
   "outputs": [
    {
     "data": {
      "text/plain": [
       "PosixPath('/home/miltondp/projects/labs/greenelab/phenoplier/data/multiplier/multiplier_model_metadata.rds')"
      ]
     },
     "execution_count": 114,
     "metadata": {},
     "output_type": "execute_result"
    }
   ],
   "source": [
    "# copy to deliverables folder\n",
    "copyfile(\n",
    "    output_rds_file,\n",
    "    OUTPUT_DIR / output_rds_file.name,\n",
    ")"
   ]
  },
  {
   "cell_type": "markdown",
   "metadata": {
    "papermill": {
     "duration": 0.060129,
     "end_time": "2021-07-31T02:50:10.669681",
     "exception": false,
     "start_time": "2021-07-31T02:50:10.609552",
     "status": "completed"
    },
    "tags": []
   },
   "source": [
    "### Text format"
   ]
  },
  {
   "cell_type": "code",
   "execution_count": 115,
   "metadata": {
    "execution": {
     "iopub.execute_input": "2021-07-31T02:50:10.793613Z",
     "iopub.status.busy": "2021-07-31T02:50:10.793257Z",
     "iopub.status.idle": "2021-07-31T02:50:10.802587Z",
     "shell.execute_reply": "2021-07-31T02:50:10.802185Z"
    },
    "papermill": {
     "duration": 0.072831,
     "end_time": "2021-07-31T02:50:10.802685",
     "exception": false,
     "start_time": "2021-07-31T02:50:10.729854",
     "status": "completed"
    },
    "tags": []
   },
   "outputs": [],
   "source": [
    "multiplier_model_matrix_df = (\n",
    "    pd.Series(model_metadata)\n",
    "    .reset_index()\n",
    "    .rename(columns={\"index\": \"parameter\", 0: \"value\"})\n",
    ")"
   ]
  },
  {
   "cell_type": "code",
   "execution_count": 116,
   "metadata": {
    "execution": {
     "iopub.execute_input": "2021-07-31T02:50:10.928938Z",
     "iopub.status.busy": "2021-07-31T02:50:10.928519Z",
     "iopub.status.idle": "2021-07-31T02:50:10.938760Z",
     "shell.execute_reply": "2021-07-31T02:50:10.938409Z"
    },
    "papermill": {
     "duration": 0.072936,
     "end_time": "2021-07-31T02:50:10.938842",
     "exception": false,
     "start_time": "2021-07-31T02:50:10.865906",
     "status": "completed"
    },
    "tags": []
   },
   "outputs": [
    {
     "data": {
      "text/html": [
       "<div>\n",
       "<style scoped>\n",
       "    .dataframe tbody tr th:only-of-type {\n",
       "        vertical-align: middle;\n",
       "    }\n",
       "\n",
       "    .dataframe tbody tr th {\n",
       "        vertical-align: top;\n",
       "    }\n",
       "\n",
       "    .dataframe thead th {\n",
       "        text-align: right;\n",
       "    }\n",
       "</style>\n",
       "<table border=\"1\" class=\"dataframe\">\n",
       "  <thead>\n",
       "    <tr style=\"text-align: right;\">\n",
       "      <th></th>\n",
       "      <th>parameter</th>\n",
       "      <th>value</th>\n",
       "    </tr>\n",
       "  </thead>\n",
       "  <tbody>\n",
       "    <tr>\n",
       "      <th>0</th>\n",
       "      <td>L1</td>\n",
       "      <td>120.566087</td>\n",
       "    </tr>\n",
       "    <tr>\n",
       "      <th>1</th>\n",
       "      <td>L2</td>\n",
       "      <td>241.132174</td>\n",
       "    </tr>\n",
       "    <tr>\n",
       "      <th>2</th>\n",
       "      <td>L3</td>\n",
       "      <td>0.012697</td>\n",
       "    </tr>\n",
       "  </tbody>\n",
       "</table>\n",
       "</div>"
      ],
      "text/plain": [
       "  parameter       value\n",
       "0        L1  120.566087\n",
       "1        L2  241.132174\n",
       "2        L3    0.012697"
      ]
     },
     "execution_count": 116,
     "metadata": {},
     "output_type": "execute_result"
    }
   ],
   "source": [
    "multiplier_model_matrix_df"
   ]
  },
  {
   "cell_type": "code",
   "execution_count": 117,
   "metadata": {
    "execution": {
     "iopub.execute_input": "2021-07-31T02:50:11.063434Z",
     "iopub.status.busy": "2021-07-31T02:50:11.063078Z",
     "iopub.status.idle": "2021-07-31T02:50:11.071380Z",
     "shell.execute_reply": "2021-07-31T02:50:11.071014Z"
    },
    "papermill": {
     "duration": 0.07114,
     "end_time": "2021-07-31T02:50:11.071463",
     "exception": false,
     "start_time": "2021-07-31T02:50:11.000323",
     "status": "completed"
    },
    "tags": []
   },
   "outputs": [
    {
     "data": {
      "text/plain": [
       "PosixPath('/home/miltondp/projects/labs/greenelab/phenoplier/base/data/multiplier/multiplier_model_metadata.tsv.gz')"
      ]
     },
     "metadata": {},
     "output_type": "display_data"
    }
   ],
   "source": [
    "# tsv format\n",
    "output_text_file = output_file.with_suffix(\".tsv.gz\")\n",
    "display(output_text_file)"
   ]
  },
  {
   "cell_type": "code",
   "execution_count": 118,
   "metadata": {
    "execution": {
     "iopub.execute_input": "2021-07-31T02:50:11.203149Z",
     "iopub.status.busy": "2021-07-31T02:50:11.202793Z",
     "iopub.status.idle": "2021-07-31T02:50:11.210976Z",
     "shell.execute_reply": "2021-07-31T02:50:11.210620Z"
    },
    "papermill": {
     "duration": 0.073206,
     "end_time": "2021-07-31T02:50:11.211058",
     "exception": false,
     "start_time": "2021-07-31T02:50:11.137852",
     "status": "completed"
    },
    "tags": []
   },
   "outputs": [],
   "source": [
    "multiplier_model_matrix_df.to_csv(\n",
    "    output_text_file,\n",
    "    sep=\"\\t\",\n",
    "    index=False,\n",
    ")"
   ]
  },
  {
   "cell_type": "code",
   "execution_count": 119,
   "metadata": {
    "execution": {
     "iopub.execute_input": "2021-07-31T02:50:11.337113Z",
     "iopub.status.busy": "2021-07-31T02:50:11.336726Z",
     "iopub.status.idle": "2021-07-31T02:50:11.345370Z",
     "shell.execute_reply": "2021-07-31T02:50:11.345002Z"
    },
    "papermill": {
     "duration": 0.072021,
     "end_time": "2021-07-31T02:50:11.345455",
     "exception": false,
     "start_time": "2021-07-31T02:50:11.273434",
     "status": "completed"
    },
    "tags": []
   },
   "outputs": [
    {
     "data": {
      "text/plain": [
       "PosixPath('/home/miltondp/projects/labs/greenelab/phenoplier/data/multiplier/multiplier_model_metadata.tsv.gz')"
      ]
     },
     "execution_count": 119,
     "metadata": {},
     "output_type": "execute_result"
    }
   ],
   "source": [
    "# copy to deliverables folder\n",
    "copyfile(\n",
    "    output_text_file,\n",
    "    OUTPUT_DIR / output_text_file.name,\n",
    ")"
   ]
  },
  {
   "cell_type": "code",
   "execution_count": null,
   "metadata": {
    "papermill": {
     "duration": 0.061585,
     "end_time": "2021-07-31T02:50:11.469694",
     "exception": false,
     "start_time": "2021-07-31T02:50:11.408109",
     "status": "completed"
    },
    "tags": []
   },
   "outputs": [],
   "source": []
  }
 ],
 "metadata": {
  "jupytext": {
   "cell_metadata_filter": "all,-execution,-papermill,-trusted",
   "formats": "ipynb,py//py:percent"
  },
  "kernelspec": {
   "display_name": "Python 3",
   "language": "python",
   "name": "python3"
  },
  "language_info": {
   "codemirror_mode": {
    "name": "ipython",
    "version": 3
   },
   "file_extension": ".py",
   "mimetype": "text/x-python",
   "name": "python",
   "nbconvert_exporter": "python",
   "pygments_lexer": "ipython3",
   "version": "3.8.8"
  },
  "papermill": {
   "default_parameters": {},
   "duration": 290.284365,
   "end_time": "2021-07-31T02:50:12.137127",
   "environment_variables": {},
   "exception": null,
   "input_path": "01_preprocessing/005-multiplier_recount2_models.ipynb",
   "output_path": "01_preprocessing/005-multiplier_recount2_models.run.ipynb",
   "parameters": {},
   "start_time": "2021-07-31T02:45:21.852762",
   "version": "2.2.2"
  },
  "toc-autonumbering": true,
  "toc-showtags": false
 },
 "nbformat": 4,
 "nbformat_minor": 4
}
