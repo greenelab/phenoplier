{
 "cells": [
  {
   "cell_type": "markdown",
   "metadata": {
    "papermill": {
     "duration": 0.018713,
     "end_time": "2021-03-18T03:02:27.945700",
     "exception": false,
     "start_time": "2021-03-18T03:02:27.926987",
     "status": "completed"
    },
    "tags": []
   },
   "source": [
    "# Description"
   ]
  },
  {
   "cell_type": "markdown",
   "metadata": {
    "papermill": {
     "duration": 0.013259,
     "end_time": "2021-03-18T03:02:27.972392",
     "exception": false,
     "start_time": "2021-03-18T03:02:27.959133",
     "status": "completed"
    },
    "tags": []
   },
   "source": [
    "It uses the PhenomeXcan traits to EFO mapping files to group traits that end up having the same EFO label. Currently, this only combines the S-MultiXcan results (z-scores) using the [Stouffer method](https://en.wikipedia.org/wiki/Fisher%27s_method#Relation_to_Stouffer's_Z-score_method) (implemented in functions `get_weights` and `_combine_z_scores` below)."
   ]
  },
  {
   "cell_type": "markdown",
   "metadata": {
    "papermill": {
     "duration": 0.013382,
     "end_time": "2021-03-18T03:02:27.999530",
     "exception": false,
     "start_time": "2021-03-18T03:02:27.986148",
     "status": "completed"
    },
    "tags": []
   },
   "source": [
    "# Modules loading"
   ]
  },
  {
   "cell_type": "code",
   "execution_count": 1,
   "metadata": {
    "execution": {
     "iopub.execute_input": "2021-03-18T03:02:28.031707Z",
     "iopub.status.busy": "2021-03-18T03:02:28.031341Z",
     "iopub.status.idle": "2021-03-18T03:02:28.038894Z",
     "shell.execute_reply": "2021-03-18T03:02:28.038481Z"
    },
    "papermill": {
     "duration": 0.026248,
     "end_time": "2021-03-18T03:02:28.038982",
     "exception": false,
     "start_time": "2021-03-18T03:02:28.012734",
     "status": "completed"
    },
    "tags": []
   },
   "outputs": [],
   "source": [
    "%load_ext autoreload\n",
    "%autoreload 2"
   ]
  },
  {
   "cell_type": "code",
   "execution_count": 2,
   "metadata": {
    "execution": {
     "iopub.execute_input": "2021-03-18T03:02:28.069318Z",
     "iopub.status.busy": "2021-03-18T03:02:28.068959Z",
     "iopub.status.idle": "2021-03-18T03:02:28.440041Z",
     "shell.execute_reply": "2021-03-18T03:02:28.439584Z"
    },
    "papermill": {
     "duration": 0.387036,
     "end_time": "2021-03-18T03:02:28.440140",
     "exception": false,
     "start_time": "2021-03-18T03:02:28.053104",
     "status": "completed"
    },
    "tags": []
   },
   "outputs": [],
   "source": [
    "from IPython.display import display\n",
    "import numpy as np\n",
    "import pandas as pd\n",
    "\n",
    "import conf\n",
    "from data.cache import read_data\n",
    "from entity import Trait"
   ]
  },
  {
   "cell_type": "markdown",
   "metadata": {
    "papermill": {
     "duration": 0.01533,
     "end_time": "2021-03-18T03:02:28.471541",
     "exception": false,
     "start_time": "2021-03-18T03:02:28.456211",
     "status": "completed"
    },
    "tags": []
   },
   "source": [
    "# Load S-MultiXcan results"
   ]
  },
  {
   "cell_type": "code",
   "execution_count": 3,
   "metadata": {
    "execution": {
     "iopub.execute_input": "2021-03-18T03:02:28.501373Z",
     "iopub.status.busy": "2021-03-18T03:02:28.501016Z",
     "iopub.status.idle": "2021-03-18T03:02:28.839644Z",
     "shell.execute_reply": "2021-03-18T03:02:28.839174Z"
    },
    "papermill": {
     "duration": 0.354606,
     "end_time": "2021-03-18T03:02:28.839747",
     "exception": false,
     "start_time": "2021-03-18T03:02:28.485141",
     "status": "completed"
    },
    "tags": []
   },
   "outputs": [],
   "source": [
    "smultixcan_zscores = read_data(conf.PHENOMEXCAN[\"SMULTIXCAN_MASHR_ZSCORES_FILE\"])"
   ]
  },
  {
   "cell_type": "code",
   "execution_count": 4,
   "metadata": {
    "execution": {
     "iopub.execute_input": "2021-03-18T03:02:28.874910Z",
     "iopub.status.busy": "2021-03-18T03:02:28.874540Z",
     "iopub.status.idle": "2021-03-18T03:02:28.886011Z",
     "shell.execute_reply": "2021-03-18T03:02:28.886295Z"
    },
    "papermill": {
     "duration": 0.029198,
     "end_time": "2021-03-18T03:02:28.886397",
     "exception": false,
     "start_time": "2021-03-18T03:02:28.857199",
     "status": "completed"
    },
    "tags": []
   },
   "outputs": [
    {
     "data": {
      "text/plain": [
       "(22515, 4091)"
      ]
     },
     "execution_count": 4,
     "metadata": {},
     "output_type": "execute_result"
    }
   ],
   "source": [
    "smultixcan_zscores.shape"
   ]
  },
  {
   "cell_type": "code",
   "execution_count": 5,
   "metadata": {
    "execution": {
     "iopub.execute_input": "2021-03-18T03:02:28.918887Z",
     "iopub.status.busy": "2021-03-18T03:02:28.918525Z",
     "iopub.status.idle": "2021-03-18T03:02:28.939881Z",
     "shell.execute_reply": "2021-03-18T03:02:28.939508Z"
    },
    "papermill": {
     "duration": 0.038185,
     "end_time": "2021-03-18T03:02:28.939963",
     "exception": false,
     "start_time": "2021-03-18T03:02:28.901778",
     "status": "completed"
    },
    "tags": []
   },
   "outputs": [
    {
     "data": {
      "text/html": [
       "<div>\n",
       "<style scoped>\n",
       "    .dataframe tbody tr th:only-of-type {\n",
       "        vertical-align: middle;\n",
       "    }\n",
       "\n",
       "    .dataframe tbody tr th {\n",
       "        vertical-align: top;\n",
       "    }\n",
       "\n",
       "    .dataframe thead th {\n",
       "        text-align: right;\n",
       "    }\n",
       "</style>\n",
       "<table border=\"1\" class=\"dataframe\">\n",
       "  <thead>\n",
       "    <tr style=\"text-align: right;\">\n",
       "      <th></th>\n",
       "      <th>20096_1-Size_of_red_wine_glass_drunk_small_125ml</th>\n",
       "      <th>2345-Ever_had_bowel_cancer_screening</th>\n",
       "      <th>N49-Diagnoses_main_ICD10_N49_Inflammatory_disorders_of_male_genital_organs_not_elsewhere_classified</th>\n",
       "      <th>100011_raw-Iron</th>\n",
       "      <th>5221-Index_of_best_refractometry_result_right</th>\n",
       "      <th>20003_1141150624-Treatmentmedication_code_zomig_25mg_tablet</th>\n",
       "      <th>S69-Diagnoses_main_ICD10_S69_Other_and_unspecified_injuries_of_wrist_and_hand</th>\n",
       "      <th>20024_1136-Job_code_deduced_Information_and_communication_technology_managers</th>\n",
       "      <th>20002_1385-Noncancer_illness_code_selfreported_allergy_or_anaphylactic_reaction_to_food</th>\n",
       "      <th>G6_SLEEPAPNO-Sleep_apnoea</th>\n",
       "      <th>...</th>\n",
       "      <th>Astle_et_al_2016_Sum_basophil_neutrophil_counts</th>\n",
       "      <th>RA_OKADA_TRANS_ETHNIC</th>\n",
       "      <th>pgc.scz2</th>\n",
       "      <th>PGC_ADHD_EUR_2017</th>\n",
       "      <th>MAGIC_FastingGlucose</th>\n",
       "      <th>Astle_et_al_2016_Red_blood_cell_count</th>\n",
       "      <th>SSGAC_Depressive_Symptoms</th>\n",
       "      <th>BCAC_ER_positive_BreastCancer_EUR</th>\n",
       "      <th>IBD.EUR.Inflammatory_Bowel_Disease</th>\n",
       "      <th>Astle_et_al_2016_High_light_scatter_reticulocyte_count</th>\n",
       "    </tr>\n",
       "    <tr>\n",
       "      <th>gene_name</th>\n",
       "      <th></th>\n",
       "      <th></th>\n",
       "      <th></th>\n",
       "      <th></th>\n",
       "      <th></th>\n",
       "      <th></th>\n",
       "      <th></th>\n",
       "      <th></th>\n",
       "      <th></th>\n",
       "      <th></th>\n",
       "      <th></th>\n",
       "      <th></th>\n",
       "      <th></th>\n",
       "      <th></th>\n",
       "      <th></th>\n",
       "      <th></th>\n",
       "      <th></th>\n",
       "      <th></th>\n",
       "      <th></th>\n",
       "      <th></th>\n",
       "      <th></th>\n",
       "    </tr>\n",
       "  </thead>\n",
       "  <tbody>\n",
       "    <tr>\n",
       "      <th>ENSG00000000419</th>\n",
       "      <td>0.169468</td>\n",
       "      <td>0.102558</td>\n",
       "      <td>0.239545</td>\n",
       "      <td>0.887758</td>\n",
       "      <td>1.313448</td>\n",
       "      <td>1.472148</td>\n",
       "      <td>0.726160</td>\n",
       "      <td>1.516367</td>\n",
       "      <td>1.299771</td>\n",
       "      <td>1.068093</td>\n",
       "      <td>...</td>\n",
       "      <td>0.813014</td>\n",
       "      <td>0.275993</td>\n",
       "      <td>0.510834</td>\n",
       "      <td>0.024717</td>\n",
       "      <td>0.430951</td>\n",
       "      <td>0.824314</td>\n",
       "      <td>0.367414</td>\n",
       "      <td>1.377624</td>\n",
       "      <td>0.738444</td>\n",
       "      <td>0.298259</td>\n",
       "    </tr>\n",
       "    <tr>\n",
       "      <th>ENSG00000000457</th>\n",
       "      <td>1.358856</td>\n",
       "      <td>1.846875</td>\n",
       "      <td>0.139324</td>\n",
       "      <td>0.129530</td>\n",
       "      <td>0.757757</td>\n",
       "      <td>1.103979</td>\n",
       "      <td>0.612418</td>\n",
       "      <td>1.822327</td>\n",
       "      <td>2.035372</td>\n",
       "      <td>1.008058</td>\n",
       "      <td>...</td>\n",
       "      <td>1.441795</td>\n",
       "      <td>0.654791</td>\n",
       "      <td>2.545653</td>\n",
       "      <td>1.202984</td>\n",
       "      <td>0.514244</td>\n",
       "      <td>0.237223</td>\n",
       "      <td>0.414171</td>\n",
       "      <td>0.101731</td>\n",
       "      <td>1.012735</td>\n",
       "      <td>0.945167</td>\n",
       "    </tr>\n",
       "    <tr>\n",
       "      <th>ENSG00000000460</th>\n",
       "      <td>0.151008</td>\n",
       "      <td>1.173202</td>\n",
       "      <td>1.179426</td>\n",
       "      <td>0.571656</td>\n",
       "      <td>0.098771</td>\n",
       "      <td>0.221072</td>\n",
       "      <td>0.276415</td>\n",
       "      <td>0.461381</td>\n",
       "      <td>0.855502</td>\n",
       "      <td>0.201876</td>\n",
       "      <td>...</td>\n",
       "      <td>0.668962</td>\n",
       "      <td>0.300040</td>\n",
       "      <td>0.541782</td>\n",
       "      <td>1.033308</td>\n",
       "      <td>0.482261</td>\n",
       "      <td>0.695624</td>\n",
       "      <td>0.336480</td>\n",
       "      <td>0.083316</td>\n",
       "      <td>3.493196</td>\n",
       "      <td>0.991948</td>\n",
       "    </tr>\n",
       "    <tr>\n",
       "      <th>ENSG00000000938</th>\n",
       "      <td>1.302722</td>\n",
       "      <td>0.841524</td>\n",
       "      <td>1.578926</td>\n",
       "      <td>0.721340</td>\n",
       "      <td>0.139314</td>\n",
       "      <td>4.387016</td>\n",
       "      <td>0.125959</td>\n",
       "      <td>1.247123</td>\n",
       "      <td>0.215124</td>\n",
       "      <td>0.892083</td>\n",
       "      <td>...</td>\n",
       "      <td>0.126657</td>\n",
       "      <td>0.048048</td>\n",
       "      <td>1.886356</td>\n",
       "      <td>0.540496</td>\n",
       "      <td>0.127524</td>\n",
       "      <td>1.494501</td>\n",
       "      <td>0.056432</td>\n",
       "      <td>1.704863</td>\n",
       "      <td>1.351619</td>\n",
       "      <td>1.027297</td>\n",
       "    </tr>\n",
       "    <tr>\n",
       "      <th>ENSG00000000971</th>\n",
       "      <td>1.338813</td>\n",
       "      <td>0.262339</td>\n",
       "      <td>0.689379</td>\n",
       "      <td>1.702019</td>\n",
       "      <td>0.325859</td>\n",
       "      <td>0.063161</td>\n",
       "      <td>1.141126</td>\n",
       "      <td>0.882682</td>\n",
       "      <td>0.035533</td>\n",
       "      <td>1.810191</td>\n",
       "      <td>...</td>\n",
       "      <td>0.858497</td>\n",
       "      <td>1.675562</td>\n",
       "      <td>2.319072</td>\n",
       "      <td>1.598721</td>\n",
       "      <td>0.162958</td>\n",
       "      <td>0.005703</td>\n",
       "      <td>3.004544</td>\n",
       "      <td>0.803669</td>\n",
       "      <td>0.444266</td>\n",
       "      <td>0.165671</td>\n",
       "    </tr>\n",
       "  </tbody>\n",
       "</table>\n",
       "<p>5 rows × 4091 columns</p>\n",
       "</div>"
      ],
      "text/plain": [
       "                 20096_1-Size_of_red_wine_glass_drunk_small_125ml  \\\n",
       "gene_name                                                           \n",
       "ENSG00000000419                                          0.169468   \n",
       "ENSG00000000457                                          1.358856   \n",
       "ENSG00000000460                                          0.151008   \n",
       "ENSG00000000938                                          1.302722   \n",
       "ENSG00000000971                                          1.338813   \n",
       "\n",
       "                 2345-Ever_had_bowel_cancer_screening  \\\n",
       "gene_name                                               \n",
       "ENSG00000000419                              0.102558   \n",
       "ENSG00000000457                              1.846875   \n",
       "ENSG00000000460                              1.173202   \n",
       "ENSG00000000938                              0.841524   \n",
       "ENSG00000000971                              0.262339   \n",
       "\n",
       "                 N49-Diagnoses_main_ICD10_N49_Inflammatory_disorders_of_male_genital_organs_not_elsewhere_classified  \\\n",
       "gene_name                                                                                                              \n",
       "ENSG00000000419                                           0.239545                                                     \n",
       "ENSG00000000457                                           0.139324                                                     \n",
       "ENSG00000000460                                           1.179426                                                     \n",
       "ENSG00000000938                                           1.578926                                                     \n",
       "ENSG00000000971                                           0.689379                                                     \n",
       "\n",
       "                 100011_raw-Iron  \\\n",
       "gene_name                          \n",
       "ENSG00000000419         0.887758   \n",
       "ENSG00000000457         0.129530   \n",
       "ENSG00000000460         0.571656   \n",
       "ENSG00000000938         0.721340   \n",
       "ENSG00000000971         1.702019   \n",
       "\n",
       "                 5221-Index_of_best_refractometry_result_right  \\\n",
       "gene_name                                                        \n",
       "ENSG00000000419                                       1.313448   \n",
       "ENSG00000000457                                       0.757757   \n",
       "ENSG00000000460                                       0.098771   \n",
       "ENSG00000000938                                       0.139314   \n",
       "ENSG00000000971                                       0.325859   \n",
       "\n",
       "                 20003_1141150624-Treatmentmedication_code_zomig_25mg_tablet  \\\n",
       "gene_name                                                                      \n",
       "ENSG00000000419                                           1.472148             \n",
       "ENSG00000000457                                           1.103979             \n",
       "ENSG00000000460                                           0.221072             \n",
       "ENSG00000000938                                           4.387016             \n",
       "ENSG00000000971                                           0.063161             \n",
       "\n",
       "                 S69-Diagnoses_main_ICD10_S69_Other_and_unspecified_injuries_of_wrist_and_hand  \\\n",
       "gene_name                                                                                        \n",
       "ENSG00000000419                                           0.726160                               \n",
       "ENSG00000000457                                           0.612418                               \n",
       "ENSG00000000460                                           0.276415                               \n",
       "ENSG00000000938                                           0.125959                               \n",
       "ENSG00000000971                                           1.141126                               \n",
       "\n",
       "                 20024_1136-Job_code_deduced_Information_and_communication_technology_managers  \\\n",
       "gene_name                                                                                        \n",
       "ENSG00000000419                                           1.516367                               \n",
       "ENSG00000000457                                           1.822327                               \n",
       "ENSG00000000460                                           0.461381                               \n",
       "ENSG00000000938                                           1.247123                               \n",
       "ENSG00000000971                                           0.882682                               \n",
       "\n",
       "                 20002_1385-Noncancer_illness_code_selfreported_allergy_or_anaphylactic_reaction_to_food  \\\n",
       "gene_name                                                                                                  \n",
       "ENSG00000000419                                           1.299771                                         \n",
       "ENSG00000000457                                           2.035372                                         \n",
       "ENSG00000000460                                           0.855502                                         \n",
       "ENSG00000000938                                           0.215124                                         \n",
       "ENSG00000000971                                           0.035533                                         \n",
       "\n",
       "                 G6_SLEEPAPNO-Sleep_apnoea  ...  \\\n",
       "gene_name                                   ...   \n",
       "ENSG00000000419                   1.068093  ...   \n",
       "ENSG00000000457                   1.008058  ...   \n",
       "ENSG00000000460                   0.201876  ...   \n",
       "ENSG00000000938                   0.892083  ...   \n",
       "ENSG00000000971                   1.810191  ...   \n",
       "\n",
       "                 Astle_et_al_2016_Sum_basophil_neutrophil_counts  \\\n",
       "gene_name                                                          \n",
       "ENSG00000000419                                         0.813014   \n",
       "ENSG00000000457                                         1.441795   \n",
       "ENSG00000000460                                         0.668962   \n",
       "ENSG00000000938                                         0.126657   \n",
       "ENSG00000000971                                         0.858497   \n",
       "\n",
       "                 RA_OKADA_TRANS_ETHNIC  pgc.scz2  PGC_ADHD_EUR_2017  \\\n",
       "gene_name                                                             \n",
       "ENSG00000000419               0.275993  0.510834           0.024717   \n",
       "ENSG00000000457               0.654791  2.545653           1.202984   \n",
       "ENSG00000000460               0.300040  0.541782           1.033308   \n",
       "ENSG00000000938               0.048048  1.886356           0.540496   \n",
       "ENSG00000000971               1.675562  2.319072           1.598721   \n",
       "\n",
       "                 MAGIC_FastingGlucose  Astle_et_al_2016_Red_blood_cell_count  \\\n",
       "gene_name                                                                      \n",
       "ENSG00000000419              0.430951                               0.824314   \n",
       "ENSG00000000457              0.514244                               0.237223   \n",
       "ENSG00000000460              0.482261                               0.695624   \n",
       "ENSG00000000938              0.127524                               1.494501   \n",
       "ENSG00000000971              0.162958                               0.005703   \n",
       "\n",
       "                 SSGAC_Depressive_Symptoms  BCAC_ER_positive_BreastCancer_EUR  \\\n",
       "gene_name                                                                       \n",
       "ENSG00000000419                   0.367414                           1.377624   \n",
       "ENSG00000000457                   0.414171                           0.101731   \n",
       "ENSG00000000460                   0.336480                           0.083316   \n",
       "ENSG00000000938                   0.056432                           1.704863   \n",
       "ENSG00000000971                   3.004544                           0.803669   \n",
       "\n",
       "                 IBD.EUR.Inflammatory_Bowel_Disease  \\\n",
       "gene_name                                             \n",
       "ENSG00000000419                            0.738444   \n",
       "ENSG00000000457                            1.012735   \n",
       "ENSG00000000460                            3.493196   \n",
       "ENSG00000000938                            1.351619   \n",
       "ENSG00000000971                            0.444266   \n",
       "\n",
       "                 Astle_et_al_2016_High_light_scatter_reticulocyte_count  \n",
       "gene_name                                                                \n",
       "ENSG00000000419                                           0.298259       \n",
       "ENSG00000000457                                           0.945167       \n",
       "ENSG00000000460                                           0.991948       \n",
       "ENSG00000000938                                           1.027297       \n",
       "ENSG00000000971                                           0.165671       \n",
       "\n",
       "[5 rows x 4091 columns]"
      ]
     },
     "execution_count": 5,
     "metadata": {},
     "output_type": "execute_result"
    }
   ],
   "source": [
    "smultixcan_zscores.head()"
   ]
  },
  {
   "cell_type": "code",
   "execution_count": 6,
   "metadata": {
    "execution": {
     "iopub.execute_input": "2021-03-18T03:02:28.972614Z",
     "iopub.status.busy": "2021-03-18T03:02:28.972260Z",
     "iopub.status.idle": "2021-03-18T03:02:34.021357Z",
     "shell.execute_reply": "2021-03-18T03:02:34.020985Z"
    },
    "papermill": {
     "duration": 5.066012,
     "end_time": "2021-03-18T03:02:34.021441",
     "exception": false,
     "start_time": "2021-03-18T03:02:28.955429",
     "status": "completed"
    },
    "tags": []
   },
   "outputs": [
    {
     "data": {
      "text/plain": [
       "count             91055810.0\n",
       "mean      0.8548868013440799\n",
       "std       0.7207745082616361\n",
       "min                      0.0\n",
       "25%      0.33468240503293545\n",
       "50%       0.7071672980795678\n",
       "75%       1.2090944428758905\n",
       "max                     40.0\n",
       "dtype: object"
      ]
     },
     "execution_count": 6,
     "metadata": {},
     "output_type": "execute_result"
    }
   ],
   "source": [
    "pd.Series(smultixcan_zscores.values.flatten()).describe().apply(str)"
   ]
  },
  {
   "cell_type": "markdown",
   "metadata": {
    "papermill": {
     "duration": 0.014685,
     "end_time": "2021-03-18T03:02:34.052148",
     "exception": false,
     "start_time": "2021-03-18T03:02:34.037463",
     "status": "completed"
    },
    "tags": []
   },
   "source": [
    "# Get PhenomeXcan traits"
   ]
  },
  {
   "cell_type": "code",
   "execution_count": 7,
   "metadata": {
    "execution": {
     "iopub.execute_input": "2021-03-18T03:02:34.084755Z",
     "iopub.status.busy": "2021-03-18T03:02:34.084360Z",
     "iopub.status.idle": "2021-03-18T03:02:34.627163Z",
     "shell.execute_reply": "2021-03-18T03:02:34.626788Z"
    },
    "papermill": {
     "duration": 0.560192,
     "end_time": "2021-03-18T03:02:34.627246",
     "exception": false,
     "start_time": "2021-03-18T03:02:34.067054",
     "status": "completed"
    },
    "tags": []
   },
   "outputs": [],
   "source": [
    "phenomexcan_fullcode_to_traits = {\n",
    "    (trait_obj := Trait.get_trait(full_code=trait_name)).full_code: trait_obj\n",
    "    for trait_name in smultixcan_zscores.columns\n",
    "}"
   ]
  },
  {
   "cell_type": "code",
   "execution_count": 8,
   "metadata": {
    "execution": {
     "iopub.execute_input": "2021-03-18T03:02:34.659263Z",
     "iopub.status.busy": "2021-03-18T03:02:34.658910Z",
     "iopub.status.idle": "2021-03-18T03:02:34.666721Z",
     "shell.execute_reply": "2021-03-18T03:02:34.666366Z"
    },
    "papermill": {
     "duration": 0.024672,
     "end_time": "2021-03-18T03:02:34.666800",
     "exception": false,
     "start_time": "2021-03-18T03:02:34.642128",
     "status": "completed"
    },
    "tags": []
   },
   "outputs": [
    {
     "data": {
      "text/plain": [
       "4091"
      ]
     },
     "execution_count": 8,
     "metadata": {},
     "output_type": "execute_result"
    }
   ],
   "source": [
    "len(phenomexcan_fullcode_to_traits)"
   ]
  },
  {
   "cell_type": "code",
   "execution_count": 9,
   "metadata": {
    "execution": {
     "iopub.execute_input": "2021-03-18T03:02:34.700219Z",
     "iopub.status.busy": "2021-03-18T03:02:34.699864Z",
     "iopub.status.idle": "2021-03-18T03:02:34.707018Z",
     "shell.execute_reply": "2021-03-18T03:02:34.706650Z"
    },
    "papermill": {
     "duration": 0.024627,
     "end_time": "2021-03-18T03:02:34.707099",
     "exception": false,
     "start_time": "2021-03-18T03:02:34.682472",
     "status": "completed"
    },
    "tags": []
   },
   "outputs": [],
   "source": [
    "assert len(phenomexcan_fullcode_to_traits) == smultixcan_zscores.columns.shape[0]"
   ]
  },
  {
   "cell_type": "markdown",
   "metadata": {
    "papermill": {
     "duration": 0.015354,
     "end_time": "2021-03-18T03:02:34.738360",
     "exception": false,
     "start_time": "2021-03-18T03:02:34.723006",
     "status": "completed"
    },
    "tags": []
   },
   "source": [
    "# Change/combine traits in S-MultiXcan results"
   ]
  },
  {
   "cell_type": "code",
   "execution_count": 10,
   "metadata": {
    "execution": {
     "iopub.execute_input": "2021-03-18T03:02:34.771314Z",
     "iopub.status.busy": "2021-03-18T03:02:34.770955Z",
     "iopub.status.idle": "2021-03-18T03:02:34.784517Z",
     "shell.execute_reply": "2021-03-18T03:02:34.784149Z"
    },
    "papermill": {
     "duration": 0.031078,
     "end_time": "2021-03-18T03:02:34.784600",
     "exception": false,
     "start_time": "2021-03-18T03:02:34.753522",
     "status": "completed"
    },
    "tags": []
   },
   "outputs": [],
   "source": [
    "traits_sample_size = pd.DataFrame(\n",
    "    [\n",
    "        {\n",
    "            \"fullcode\": fc,\n",
    "            \"n_cases\": t.n_cases,\n",
    "            \"n_controls\": t.n_controls,\n",
    "            \"n\": t.n,\n",
    "        }\n",
    "        for fc, t in phenomexcan_fullcode_to_traits.items()\n",
    "    ]\n",
    ")"
   ]
  },
  {
   "cell_type": "code",
   "execution_count": 11,
   "metadata": {
    "execution": {
     "iopub.execute_input": "2021-03-18T03:02:34.817165Z",
     "iopub.status.busy": "2021-03-18T03:02:34.816805Z",
     "iopub.status.idle": "2021-03-18T03:02:34.824627Z",
     "shell.execute_reply": "2021-03-18T03:02:34.824261Z"
    },
    "papermill": {
     "duration": 0.024941,
     "end_time": "2021-03-18T03:02:34.824730",
     "exception": false,
     "start_time": "2021-03-18T03:02:34.799789",
     "status": "completed"
    },
    "tags": []
   },
   "outputs": [
    {
     "data": {
      "text/plain": [
       "(4091, 4)"
      ]
     },
     "execution_count": 11,
     "metadata": {},
     "output_type": "execute_result"
    }
   ],
   "source": [
    "traits_sample_size.shape"
   ]
  },
  {
   "cell_type": "code",
   "execution_count": 12,
   "metadata": {
    "execution": {
     "iopub.execute_input": "2021-03-18T03:02:34.858541Z",
     "iopub.status.busy": "2021-03-18T03:02:34.858172Z",
     "iopub.status.idle": "2021-03-18T03:02:34.869218Z",
     "shell.execute_reply": "2021-03-18T03:02:34.868848Z"
    },
    "papermill": {
     "duration": 0.028716,
     "end_time": "2021-03-18T03:02:34.869301",
     "exception": false,
     "start_time": "2021-03-18T03:02:34.840585",
     "status": "completed"
    },
    "tags": []
   },
   "outputs": [
    {
     "data": {
      "text/html": [
       "<div>\n",
       "<style scoped>\n",
       "    .dataframe tbody tr th:only-of-type {\n",
       "        vertical-align: middle;\n",
       "    }\n",
       "\n",
       "    .dataframe tbody tr th {\n",
       "        vertical-align: top;\n",
       "    }\n",
       "\n",
       "    .dataframe thead th {\n",
       "        text-align: right;\n",
       "    }\n",
       "</style>\n",
       "<table border=\"1\" class=\"dataframe\">\n",
       "  <thead>\n",
       "    <tr style=\"text-align: right;\">\n",
       "      <th></th>\n",
       "      <th>fullcode</th>\n",
       "      <th>n_cases</th>\n",
       "      <th>n_controls</th>\n",
       "      <th>n</th>\n",
       "    </tr>\n",
       "  </thead>\n",
       "  <tbody>\n",
       "    <tr>\n",
       "      <th>0</th>\n",
       "      <td>20096_1-Size_of_red_wine_glass_drunk_small_125ml</td>\n",
       "      <td>3078.0</td>\n",
       "      <td>48349.0</td>\n",
       "      <td>51427</td>\n",
       "    </tr>\n",
       "    <tr>\n",
       "      <th>1</th>\n",
       "      <td>2345-Ever_had_bowel_cancer_screening</td>\n",
       "      <td>114475.0</td>\n",
       "      <td>240878.0</td>\n",
       "      <td>355353</td>\n",
       "    </tr>\n",
       "    <tr>\n",
       "      <th>2</th>\n",
       "      <td>N49-Diagnoses_main_ICD10_N49_Inflammatory_diso...</td>\n",
       "      <td>121.0</td>\n",
       "      <td>361073.0</td>\n",
       "      <td>361194</td>\n",
       "    </tr>\n",
       "    <tr>\n",
       "      <th>3</th>\n",
       "      <td>100011_raw-Iron</td>\n",
       "      <td>NaN</td>\n",
       "      <td>NaN</td>\n",
       "      <td>51453</td>\n",
       "    </tr>\n",
       "    <tr>\n",
       "      <th>4</th>\n",
       "      <td>5221-Index_of_best_refractometry_result_right</td>\n",
       "      <td>NaN</td>\n",
       "      <td>NaN</td>\n",
       "      <td>77983</td>\n",
       "    </tr>\n",
       "  </tbody>\n",
       "</table>\n",
       "</div>"
      ],
      "text/plain": [
       "                                            fullcode   n_cases  n_controls  \\\n",
       "0   20096_1-Size_of_red_wine_glass_drunk_small_125ml    3078.0     48349.0   \n",
       "1               2345-Ever_had_bowel_cancer_screening  114475.0    240878.0   \n",
       "2  N49-Diagnoses_main_ICD10_N49_Inflammatory_diso...     121.0    361073.0   \n",
       "3                                    100011_raw-Iron       NaN         NaN   \n",
       "4      5221-Index_of_best_refractometry_result_right       NaN         NaN   \n",
       "\n",
       "        n  \n",
       "0   51427  \n",
       "1  355353  \n",
       "2  361194  \n",
       "3   51453  \n",
       "4   77983  "
      ]
     },
     "execution_count": 12,
     "metadata": {},
     "output_type": "execute_result"
    }
   ],
   "source": [
    "traits_sample_size.head()"
   ]
  },
  {
   "cell_type": "code",
   "execution_count": 13,
   "metadata": {
    "execution": {
     "iopub.execute_input": "2021-03-18T03:02:34.906598Z",
     "iopub.status.busy": "2021-03-18T03:02:34.906208Z",
     "iopub.status.idle": "2021-03-18T03:02:34.913894Z",
     "shell.execute_reply": "2021-03-18T03:02:34.913501Z"
    },
    "papermill": {
     "duration": 0.028303,
     "end_time": "2021-03-18T03:02:34.914041",
     "exception": false,
     "start_time": "2021-03-18T03:02:34.885738",
     "status": "completed"
    },
    "tags": []
   },
   "outputs": [],
   "source": [
    "def get_weights(traits_fullcodes):\n",
    "    \"\"\"\n",
    "    This function takes a list of PhenomeXcan traits that map to the same EFO label, and returns their weights using sample sizes\n",
    "    from GWASs. In the case of binary traits (i.e. diseases) the formula is:\n",
    "        (n_cases / n_controls) * sqrt(n)\n",
    "    where n=n_cases+n_controls\n",
    "    In case of continuous traits (such as height) it is sqrt(n)\n",
    "    \"\"\"\n",
    "    return np.array(\n",
    "        [\n",
    "            (t.n_cases / t.n_controls) * np.sqrt(t.n)\n",
    "            if not pd.isnull((t := phenomexcan_fullcode_to_traits[trait_name]).n_cases)\n",
    "            and not pd.isnull(t.n_controls)\n",
    "            else np.sqrt(t.n)\n",
    "            for trait_name in traits_fullcodes\n",
    "        ]\n",
    "    )\n",
    "\n",
    "\n",
    "def _combine_z_scores(x):\n",
    "    \"\"\"\n",
    "    Combines PhenomeXcan traits that map to the same EFO label using the Stouffer's Z-score method:\n",
    "    https://en.wikipedia.org/wiki/Fisher%27s_method#Relation_to_Stouffer's_Z-score_method\n",
    "\n",
    "    It uses weights for each traits, which are computed with function get_weights.\n",
    "\n",
    "    Args:\n",
    "        x: a pandas.DataFrame with PhenomeXcan traits in the columns, and genes in the rows. Values are z-scores of association in S-MultiXcan.\n",
    "\n",
    "    Returns:\n",
    "        pandas.Series for all genes and the single EFO label for which all traits in x map to. Values are the combined z-scores.\n",
    "    \"\"\"\n",
    "    # combine z-scores using Stouffer's method\n",
    "    weights = get_weights(x.columns)\n",
    "    numerator = (x * weights).sum(1)\n",
    "    denominator = np.sqrt(np.power(weights, 2).sum())\n",
    "    new_data = numerator / denominator\n",
    "\n",
    "    return pd.Series(\n",
    "        data=new_data.values,\n",
    "        index=x.index.copy(),\n",
    "        name=x.columns[0],\n",
    "    )"
   ]
  },
  {
   "cell_type": "markdown",
   "metadata": {
    "papermill": {
     "duration": 0.015397,
     "end_time": "2021-03-18T03:02:34.945243",
     "exception": false,
     "start_time": "2021-03-18T03:02:34.929846",
     "status": "completed"
    },
    "tags": []
   },
   "source": [
    "## Get a list of EFO labels for PhenomeXcan traits"
   ]
  },
  {
   "cell_type": "code",
   "execution_count": 14,
   "metadata": {
    "execution": {
     "iopub.execute_input": "2021-03-18T03:02:34.979109Z",
     "iopub.status.busy": "2021-03-18T03:02:34.978755Z",
     "iopub.status.idle": "2021-03-18T03:02:35.204711Z",
     "shell.execute_reply": "2021-03-18T03:02:35.204337Z"
    },
    "papermill": {
     "duration": 0.243928,
     "end_time": "2021-03-18T03:02:35.204791",
     "exception": false,
     "start_time": "2021-03-18T03:02:34.960863",
     "status": "completed"
    },
    "tags": []
   },
   "outputs": [],
   "source": [
    "traits_efo_labels = [\n",
    "    t.get_efo_info().label\n",
    "    if (t := phenomexcan_fullcode_to_traits[c]).get_efo_info() is not None\n",
    "    else t.full_code\n",
    "    for c in smultixcan_zscores.columns\n",
    "]"
   ]
  },
  {
   "cell_type": "code",
   "execution_count": 15,
   "metadata": {
    "execution": {
     "iopub.execute_input": "2021-03-18T03:02:35.238752Z",
     "iopub.status.busy": "2021-03-18T03:02:35.238389Z",
     "iopub.status.idle": "2021-03-18T03:02:35.246177Z",
     "shell.execute_reply": "2021-03-18T03:02:35.245812Z"
    },
    "papermill": {
     "duration": 0.025748,
     "end_time": "2021-03-18T03:02:35.246260",
     "exception": false,
     "start_time": "2021-03-18T03:02:35.220512",
     "status": "completed"
    },
    "tags": []
   },
   "outputs": [
    {
     "data": {
      "text/plain": [
       "4091"
      ]
     },
     "execution_count": 15,
     "metadata": {},
     "output_type": "execute_result"
    }
   ],
   "source": [
    "len(traits_efo_labels)"
   ]
  },
  {
   "cell_type": "code",
   "execution_count": 16,
   "metadata": {
    "execution": {
     "iopub.execute_input": "2021-03-18T03:02:35.283467Z",
     "iopub.status.busy": "2021-03-18T03:02:35.283095Z",
     "iopub.status.idle": "2021-03-18T03:02:35.291057Z",
     "shell.execute_reply": "2021-03-18T03:02:35.290685Z"
    },
    "papermill": {
     "duration": 0.027443,
     "end_time": "2021-03-18T03:02:35.291139",
     "exception": false,
     "start_time": "2021-03-18T03:02:35.263696",
     "status": "completed"
    },
    "tags": []
   },
   "outputs": [
    {
     "data": {
      "text/plain": [
       "['20096_1-Size_of_red_wine_glass_drunk_small_125ml',\n",
       " '2345-Ever_had_bowel_cancer_screening',\n",
       " 'male reproductive system disease',\n",
       " '100011_raw-Iron',\n",
       " '5221-Index_of_best_refractometry_result_right',\n",
       " '20003_1141150624-Treatmentmedication_code_zomig_25mg_tablet',\n",
       " 'injury',\n",
       " '20024_1136-Job_code_deduced_Information_and_communication_technology_managers',\n",
       " 'food allergy',\n",
       " 'G6_SLEEPAPNO-Sleep_apnoea']"
      ]
     },
     "execution_count": 16,
     "metadata": {},
     "output_type": "execute_result"
    }
   ],
   "source": [
    "traits_efo_labels[:10]"
   ]
  },
  {
   "cell_type": "markdown",
   "metadata": {
    "papermill": {
     "duration": 0.016046,
     "end_time": "2021-03-18T03:02:35.323815",
     "exception": false,
     "start_time": "2021-03-18T03:02:35.307769",
     "status": "completed"
    },
    "tags": []
   },
   "source": [
    "## Combine z-scores for same EFO labels"
   ]
  },
  {
   "cell_type": "code",
   "execution_count": 17,
   "metadata": {
    "execution": {
     "iopub.execute_input": "2021-03-18T03:02:35.358713Z",
     "iopub.status.busy": "2021-03-18T03:02:35.358356Z",
     "iopub.status.idle": "2021-03-18T03:02:42.327604Z",
     "shell.execute_reply": "2021-03-18T03:02:42.327935Z"
    },
    "papermill": {
     "duration": 6.988118,
     "end_time": "2021-03-18T03:02:42.328054",
     "exception": false,
     "start_time": "2021-03-18T03:02:35.339936",
     "status": "completed"
    },
    "tags": []
   },
   "outputs": [],
   "source": [
    "smultixcan_zscores_combined = smultixcan_zscores.groupby(\n",
    "    traits_efo_labels, axis=1\n",
    ").apply(_combine_z_scores)"
   ]
  },
  {
   "cell_type": "code",
   "execution_count": 18,
   "metadata": {
    "execution": {
     "iopub.execute_input": "2021-03-18T03:02:42.366700Z",
     "iopub.status.busy": "2021-03-18T03:02:42.366344Z",
     "iopub.status.idle": "2021-03-18T03:02:42.373857Z",
     "shell.execute_reply": "2021-03-18T03:02:42.373494Z"
    },
    "papermill": {
     "duration": 0.026811,
     "end_time": "2021-03-18T03:02:42.373938",
     "exception": false,
     "start_time": "2021-03-18T03:02:42.347127",
     "status": "completed"
    },
    "tags": []
   },
   "outputs": [
    {
     "data": {
      "text/plain": [
       "(22515, 3752)"
      ]
     },
     "execution_count": 18,
     "metadata": {},
     "output_type": "execute_result"
    }
   ],
   "source": [
    "smultixcan_zscores_combined.shape"
   ]
  },
  {
   "cell_type": "code",
   "execution_count": 19,
   "metadata": {
    "execution": {
     "iopub.execute_input": "2021-03-18T03:02:42.409985Z",
     "iopub.status.busy": "2021-03-18T03:02:42.409635Z",
     "iopub.status.idle": "2021-03-18T03:02:42.429191Z",
     "shell.execute_reply": "2021-03-18T03:02:42.428854Z"
    },
    "papermill": {
     "duration": 0.03837,
     "end_time": "2021-03-18T03:02:42.429272",
     "exception": false,
     "start_time": "2021-03-18T03:02:42.390902",
     "status": "completed"
    },
    "tags": []
   },
   "outputs": [
    {
     "data": {
      "text/html": [
       "<div>\n",
       "<style scoped>\n",
       "    .dataframe tbody tr th:only-of-type {\n",
       "        vertical-align: middle;\n",
       "    }\n",
       "\n",
       "    .dataframe tbody tr th {\n",
       "        vertical-align: top;\n",
       "    }\n",
       "\n",
       "    .dataframe thead th {\n",
       "        text-align: right;\n",
       "    }\n",
       "</style>\n",
       "<table border=\"1\" class=\"dataframe\">\n",
       "  <thead>\n",
       "    <tr style=\"text-align: right;\">\n",
       "      <th></th>\n",
       "      <th>100001_raw-Food_weight</th>\n",
       "      <th>100002_raw-Energy</th>\n",
       "      <th>100003_raw-Protein</th>\n",
       "      <th>100004_raw-Fat</th>\n",
       "      <th>100005_raw-Carbohydrate</th>\n",
       "      <th>100006_raw-Saturated_fat</th>\n",
       "      <th>100007_raw-Polyunsaturated_fat</th>\n",
       "      <th>100008_raw-Total_sugars</th>\n",
       "      <th>100009_raw-Englyst_dietary_fibre</th>\n",
       "      <th>100010-Portion_size</th>\n",
       "      <th>...</th>\n",
       "      <th>visual impairment</th>\n",
       "      <th>vitiligo</th>\n",
       "      <th>vitreous body disease</th>\n",
       "      <th>vocal cord polyp</th>\n",
       "      <th>voice disorders</th>\n",
       "      <th>wellbeing measurement AND family relationship</th>\n",
       "      <th>wheezing</th>\n",
       "      <th>whooping cough</th>\n",
       "      <th>worry measurement</th>\n",
       "      <th>wrist fracture</th>\n",
       "    </tr>\n",
       "    <tr>\n",
       "      <th>gene_name</th>\n",
       "      <th></th>\n",
       "      <th></th>\n",
       "      <th></th>\n",
       "      <th></th>\n",
       "      <th></th>\n",
       "      <th></th>\n",
       "      <th></th>\n",
       "      <th></th>\n",
       "      <th></th>\n",
       "      <th></th>\n",
       "      <th></th>\n",
       "      <th></th>\n",
       "      <th></th>\n",
       "      <th></th>\n",
       "      <th></th>\n",
       "      <th></th>\n",
       "      <th></th>\n",
       "      <th></th>\n",
       "      <th></th>\n",
       "      <th></th>\n",
       "      <th></th>\n",
       "    </tr>\n",
       "  </thead>\n",
       "  <tbody>\n",
       "    <tr>\n",
       "      <th>ENSG00000000419</th>\n",
       "      <td>1.145442</td>\n",
       "      <td>0.724557</td>\n",
       "      <td>0.090876</td>\n",
       "      <td>0.298165</td>\n",
       "      <td>1.134347</td>\n",
       "      <td>1.371138</td>\n",
       "      <td>0.065718</td>\n",
       "      <td>0.794317</td>\n",
       "      <td>0.600342</td>\n",
       "      <td>0.317652</td>\n",
       "      <td>...</td>\n",
       "      <td>0.360518</td>\n",
       "      <td>1.351624</td>\n",
       "      <td>1.157695</td>\n",
       "      <td>0.835289</td>\n",
       "      <td>1.173072</td>\n",
       "      <td>1.337280</td>\n",
       "      <td>1.743822</td>\n",
       "      <td>1.017226</td>\n",
       "      <td>1.512184</td>\n",
       "      <td>0.972241</td>\n",
       "    </tr>\n",
       "    <tr>\n",
       "      <th>ENSG00000000457</th>\n",
       "      <td>0.618066</td>\n",
       "      <td>1.028131</td>\n",
       "      <td>2.218420</td>\n",
       "      <td>0.762584</td>\n",
       "      <td>0.934418</td>\n",
       "      <td>0.192993</td>\n",
       "      <td>1.080230</td>\n",
       "      <td>0.765997</td>\n",
       "      <td>0.375898</td>\n",
       "      <td>0.678731</td>\n",
       "      <td>...</td>\n",
       "      <td>2.134504</td>\n",
       "      <td>0.127830</td>\n",
       "      <td>0.534690</td>\n",
       "      <td>0.120516</td>\n",
       "      <td>0.517464</td>\n",
       "      <td>2.545363</td>\n",
       "      <td>0.673331</td>\n",
       "      <td>2.003092</td>\n",
       "      <td>0.344000</td>\n",
       "      <td>2.033122</td>\n",
       "    </tr>\n",
       "    <tr>\n",
       "      <th>ENSG00000000460</th>\n",
       "      <td>0.515724</td>\n",
       "      <td>0.403596</td>\n",
       "      <td>1.251359</td>\n",
       "      <td>0.433091</td>\n",
       "      <td>0.413466</td>\n",
       "      <td>0.246261</td>\n",
       "      <td>1.236151</td>\n",
       "      <td>0.827430</td>\n",
       "      <td>0.571985</td>\n",
       "      <td>0.782174</td>\n",
       "      <td>...</td>\n",
       "      <td>1.768905</td>\n",
       "      <td>0.992408</td>\n",
       "      <td>0.548215</td>\n",
       "      <td>0.412341</td>\n",
       "      <td>1.499415</td>\n",
       "      <td>1.366780</td>\n",
       "      <td>0.443318</td>\n",
       "      <td>0.417630</td>\n",
       "      <td>0.225934</td>\n",
       "      <td>1.613246</td>\n",
       "    </tr>\n",
       "    <tr>\n",
       "      <th>ENSG00000000938</th>\n",
       "      <td>0.280781</td>\n",
       "      <td>0.253910</td>\n",
       "      <td>0.879148</td>\n",
       "      <td>0.352705</td>\n",
       "      <td>0.051846</td>\n",
       "      <td>0.184212</td>\n",
       "      <td>0.148566</td>\n",
       "      <td>0.009989</td>\n",
       "      <td>0.363751</td>\n",
       "      <td>0.374514</td>\n",
       "      <td>...</td>\n",
       "      <td>0.656552</td>\n",
       "      <td>2.046041</td>\n",
       "      <td>2.746832</td>\n",
       "      <td>0.108211</td>\n",
       "      <td>1.008258</td>\n",
       "      <td>0.755695</td>\n",
       "      <td>0.896228</td>\n",
       "      <td>0.875047</td>\n",
       "      <td>0.476405</td>\n",
       "      <td>1.693057</td>\n",
       "    </tr>\n",
       "    <tr>\n",
       "      <th>ENSG00000000971</th>\n",
       "      <td>0.548127</td>\n",
       "      <td>0.389877</td>\n",
       "      <td>0.723469</td>\n",
       "      <td>1.167250</td>\n",
       "      <td>0.315952</td>\n",
       "      <td>0.324939</td>\n",
       "      <td>1.613932</td>\n",
       "      <td>0.311432</td>\n",
       "      <td>0.333548</td>\n",
       "      <td>1.807243</td>\n",
       "      <td>...</td>\n",
       "      <td>0.260482</td>\n",
       "      <td>0.646204</td>\n",
       "      <td>1.080240</td>\n",
       "      <td>0.678330</td>\n",
       "      <td>1.465358</td>\n",
       "      <td>0.307672</td>\n",
       "      <td>0.118376</td>\n",
       "      <td>1.419812</td>\n",
       "      <td>0.000002</td>\n",
       "      <td>1.040737</td>\n",
       "    </tr>\n",
       "  </tbody>\n",
       "</table>\n",
       "<p>5 rows × 3752 columns</p>\n",
       "</div>"
      ],
      "text/plain": [
       "                 100001_raw-Food_weight  100002_raw-Energy  \\\n",
       "gene_name                                                    \n",
       "ENSG00000000419                1.145442           0.724557   \n",
       "ENSG00000000457                0.618066           1.028131   \n",
       "ENSG00000000460                0.515724           0.403596   \n",
       "ENSG00000000938                0.280781           0.253910   \n",
       "ENSG00000000971                0.548127           0.389877   \n",
       "\n",
       "                 100003_raw-Protein  100004_raw-Fat  100005_raw-Carbohydrate  \\\n",
       "gene_name                                                                      \n",
       "ENSG00000000419            0.090876        0.298165                 1.134347   \n",
       "ENSG00000000457            2.218420        0.762584                 0.934418   \n",
       "ENSG00000000460            1.251359        0.433091                 0.413466   \n",
       "ENSG00000000938            0.879148        0.352705                 0.051846   \n",
       "ENSG00000000971            0.723469        1.167250                 0.315952   \n",
       "\n",
       "                 100006_raw-Saturated_fat  100007_raw-Polyunsaturated_fat  \\\n",
       "gene_name                                                                   \n",
       "ENSG00000000419                  1.371138                        0.065718   \n",
       "ENSG00000000457                  0.192993                        1.080230   \n",
       "ENSG00000000460                  0.246261                        1.236151   \n",
       "ENSG00000000938                  0.184212                        0.148566   \n",
       "ENSG00000000971                  0.324939                        1.613932   \n",
       "\n",
       "                 100008_raw-Total_sugars  100009_raw-Englyst_dietary_fibre  \\\n",
       "gene_name                                                                    \n",
       "ENSG00000000419                 0.794317                          0.600342   \n",
       "ENSG00000000457                 0.765997                          0.375898   \n",
       "ENSG00000000460                 0.827430                          0.571985   \n",
       "ENSG00000000938                 0.009989                          0.363751   \n",
       "ENSG00000000971                 0.311432                          0.333548   \n",
       "\n",
       "                 100010-Portion_size  ...  visual impairment  vitiligo  \\\n",
       "gene_name                             ...                                \n",
       "ENSG00000000419             0.317652  ...           0.360518  1.351624   \n",
       "ENSG00000000457             0.678731  ...           2.134504  0.127830   \n",
       "ENSG00000000460             0.782174  ...           1.768905  0.992408   \n",
       "ENSG00000000938             0.374514  ...           0.656552  2.046041   \n",
       "ENSG00000000971             1.807243  ...           0.260482  0.646204   \n",
       "\n",
       "                 vitreous body disease  vocal cord polyp  voice disorders  \\\n",
       "gene_name                                                                   \n",
       "ENSG00000000419               1.157695          0.835289         1.173072   \n",
       "ENSG00000000457               0.534690          0.120516         0.517464   \n",
       "ENSG00000000460               0.548215          0.412341         1.499415   \n",
       "ENSG00000000938               2.746832          0.108211         1.008258   \n",
       "ENSG00000000971               1.080240          0.678330         1.465358   \n",
       "\n",
       "                 wellbeing measurement AND family relationship  wheezing  \\\n",
       "gene_name                                                                  \n",
       "ENSG00000000419                                       1.337280  1.743822   \n",
       "ENSG00000000457                                       2.545363  0.673331   \n",
       "ENSG00000000460                                       1.366780  0.443318   \n",
       "ENSG00000000938                                       0.755695  0.896228   \n",
       "ENSG00000000971                                       0.307672  0.118376   \n",
       "\n",
       "                 whooping cough  worry measurement  wrist fracture  \n",
       "gene_name                                                           \n",
       "ENSG00000000419        1.017226           1.512184        0.972241  \n",
       "ENSG00000000457        2.003092           0.344000        2.033122  \n",
       "ENSG00000000460        0.417630           0.225934        1.613246  \n",
       "ENSG00000000938        0.875047           0.476405        1.693057  \n",
       "ENSG00000000971        1.419812           0.000002        1.040737  \n",
       "\n",
       "[5 rows x 3752 columns]"
      ]
     },
     "execution_count": 19,
     "metadata": {},
     "output_type": "execute_result"
    }
   ],
   "source": [
    "smultixcan_zscores_combined.head()"
   ]
  },
  {
   "cell_type": "code",
   "execution_count": 20,
   "metadata": {
    "execution": {
     "iopub.execute_input": "2021-03-18T03:02:42.466309Z",
     "iopub.status.busy": "2021-03-18T03:02:42.465957Z",
     "iopub.status.idle": "2021-03-18T03:02:42.530856Z",
     "shell.execute_reply": "2021-03-18T03:02:42.531207Z"
    },
    "papermill": {
     "duration": 0.084196,
     "end_time": "2021-03-18T03:02:42.531336",
     "exception": false,
     "start_time": "2021-03-18T03:02:42.447140",
     "status": "completed"
    },
    "tags": []
   },
   "outputs": [],
   "source": [
    "assert not smultixcan_zscores_combined.isna().any().any()"
   ]
  },
  {
   "cell_type": "markdown",
   "metadata": {
    "papermill": {
     "duration": 0.018976,
     "end_time": "2021-03-18T03:02:42.572384",
     "exception": false,
     "start_time": "2021-03-18T03:02:42.553408",
     "status": "completed"
    },
    "tags": []
   },
   "source": [
    "## Testing"
   ]
  },
  {
   "cell_type": "markdown",
   "metadata": {
    "papermill": {
     "duration": 0.016713,
     "end_time": "2021-03-18T03:02:42.606398",
     "exception": false,
     "start_time": "2021-03-18T03:02:42.589685",
     "status": "completed"
    },
    "tags": []
   },
   "source": [
    "### Stats"
   ]
  },
  {
   "cell_type": "code",
   "execution_count": 21,
   "metadata": {
    "execution": {
     "iopub.execute_input": "2021-03-18T03:02:42.643273Z",
     "iopub.status.busy": "2021-03-18T03:02:42.642918Z",
     "iopub.status.idle": "2021-03-18T03:02:47.133267Z",
     "shell.execute_reply": "2021-03-18T03:02:47.132892Z"
    },
    "papermill": {
     "duration": 4.510164,
     "end_time": "2021-03-18T03:02:47.133349",
     "exception": false,
     "start_time": "2021-03-18T03:02:42.623185",
     "status": "completed"
    },
    "tags": []
   },
   "outputs": [
    {
     "data": {
      "text/plain": [
       "count             84476280.0\n",
       "mean      0.8638967105401182\n",
       "std       0.7355093768129249\n",
       "min                      0.0\n",
       "25%      0.33519032841499646\n",
       "50%       0.7165349117038435\n",
       "75%       1.2250506784524884\n",
       "max       52.732309168781974\n",
       "dtype: object"
      ]
     },
     "metadata": {},
     "output_type": "display_data"
    }
   ],
   "source": [
    "_stats = smultixcan_zscores_combined.stack().describe()\n",
    "display(_stats.apply(str))"
   ]
  },
  {
   "cell_type": "code",
   "execution_count": 22,
   "metadata": {
    "execution": {
     "iopub.execute_input": "2021-03-18T03:02:47.172596Z",
     "iopub.status.busy": "2021-03-18T03:02:47.172233Z",
     "iopub.status.idle": "2021-03-18T03:02:47.179302Z",
     "shell.execute_reply": "2021-03-18T03:02:47.178935Z"
    },
    "papermill": {
     "duration": 0.027897,
     "end_time": "2021-03-18T03:02:47.179387",
     "exception": false,
     "start_time": "2021-03-18T03:02:47.151490",
     "status": "completed"
    },
    "tags": []
   },
   "outputs": [],
   "source": [
    "assert _stats[\"min\"] >= 0.0"
   ]
  },
  {
   "cell_type": "code",
   "execution_count": 23,
   "metadata": {
    "execution": {
     "iopub.execute_input": "2021-03-18T03:02:47.217343Z",
     "iopub.status.busy": "2021-03-18T03:02:47.216994Z",
     "iopub.status.idle": "2021-03-18T03:02:47.224048Z",
     "shell.execute_reply": "2021-03-18T03:02:47.223689Z"
    },
    "papermill": {
     "duration": 0.02664,
     "end_time": "2021-03-18T03:02:47.224129",
     "exception": false,
     "start_time": "2021-03-18T03:02:47.197489",
     "status": "completed"
    },
    "tags": []
   },
   "outputs": [],
   "source": [
    "assert _stats[\"max\"] < 55.0"
   ]
  },
  {
   "cell_type": "markdown",
   "metadata": {
    "papermill": {
     "duration": 0.01712,
     "end_time": "2021-03-18T03:02:47.258529",
     "exception": false,
     "start_time": "2021-03-18T03:02:47.241409",
     "status": "completed"
    },
    "tags": []
   },
   "source": [
    "### EFO label (asthma) which combined three PhenomeXcan traits."
   ]
  },
  {
   "cell_type": "code",
   "execution_count": 24,
   "metadata": {
    "execution": {
     "iopub.execute_input": "2021-03-18T03:02:47.295640Z",
     "iopub.status.busy": "2021-03-18T03:02:47.295287Z",
     "iopub.status.idle": "2021-03-18T03:02:47.302819Z",
     "shell.execute_reply": "2021-03-18T03:02:47.302466Z"
    },
    "papermill": {
     "duration": 0.027143,
     "end_time": "2021-03-18T03:02:47.302913",
     "exception": false,
     "start_time": "2021-03-18T03:02:47.275770",
     "status": "completed"
    },
    "tags": []
   },
   "outputs": [],
   "source": [
    "_asthma_traits = [\n",
    "    \"22127-Doctor_diagnosed_asthma\",\n",
    "    \"20002_1111-Noncancer_illness_code_selfreported_asthma\",\n",
    "    \"J45-Diagnoses_main_ICD10_J45_Asthma\",\n",
    "]"
   ]
  },
  {
   "cell_type": "code",
   "execution_count": 25,
   "metadata": {
    "execution": {
     "iopub.execute_input": "2021-03-18T03:02:47.342738Z",
     "iopub.status.busy": "2021-03-18T03:02:47.342389Z",
     "iopub.status.idle": "2021-03-18T03:02:47.354335Z",
     "shell.execute_reply": "2021-03-18T03:02:47.354636Z"
    },
    "papermill": {
     "duration": 0.032498,
     "end_time": "2021-03-18T03:02:47.354737",
     "exception": false,
     "start_time": "2021-03-18T03:02:47.322239",
     "status": "completed"
    },
    "tags": []
   },
   "outputs": [
    {
     "data": {
      "text/html": [
       "<div>\n",
       "<style scoped>\n",
       "    .dataframe tbody tr th:only-of-type {\n",
       "        vertical-align: middle;\n",
       "    }\n",
       "\n",
       "    .dataframe tbody tr th {\n",
       "        vertical-align: top;\n",
       "    }\n",
       "\n",
       "    .dataframe thead th {\n",
       "        text-align: right;\n",
       "    }\n",
       "</style>\n",
       "<table border=\"1\" class=\"dataframe\">\n",
       "  <thead>\n",
       "    <tr style=\"text-align: right;\">\n",
       "      <th></th>\n",
       "      <th>22127-Doctor_diagnosed_asthma</th>\n",
       "      <th>20002_1111-Noncancer_illness_code_selfreported_asthma</th>\n",
       "      <th>J45-Diagnoses_main_ICD10_J45_Asthma</th>\n",
       "    </tr>\n",
       "    <tr>\n",
       "      <th>gene_name</th>\n",
       "      <th></th>\n",
       "      <th></th>\n",
       "      <th></th>\n",
       "    </tr>\n",
       "  </thead>\n",
       "  <tbody>\n",
       "    <tr>\n",
       "      <th>ENSG00000000419</th>\n",
       "      <td>0.327024</td>\n",
       "      <td>0.707137</td>\n",
       "      <td>0.805021</td>\n",
       "    </tr>\n",
       "    <tr>\n",
       "      <th>ENSG00000000457</th>\n",
       "      <td>1.088281</td>\n",
       "      <td>0.700004</td>\n",
       "      <td>1.214683</td>\n",
       "    </tr>\n",
       "    <tr>\n",
       "      <th>ENSG00000000460</th>\n",
       "      <td>1.520867</td>\n",
       "      <td>0.695085</td>\n",
       "      <td>1.681098</td>\n",
       "    </tr>\n",
       "    <tr>\n",
       "      <th>ENSG00000000938</th>\n",
       "      <td>0.911426</td>\n",
       "      <td>2.321047</td>\n",
       "      <td>0.661209</td>\n",
       "    </tr>\n",
       "    <tr>\n",
       "      <th>ENSG00000000971</th>\n",
       "      <td>0.738320</td>\n",
       "      <td>1.788336</td>\n",
       "      <td>0.701912</td>\n",
       "    </tr>\n",
       "    <tr>\n",
       "      <th>...</th>\n",
       "      <td>...</td>\n",
       "      <td>...</td>\n",
       "      <td>...</td>\n",
       "    </tr>\n",
       "    <tr>\n",
       "      <th>ENSG00000284430</th>\n",
       "      <td>0.965250</td>\n",
       "      <td>0.760152</td>\n",
       "      <td>1.476950</td>\n",
       "    </tr>\n",
       "    <tr>\n",
       "      <th>ENSG00000284452</th>\n",
       "      <td>0.479626</td>\n",
       "      <td>0.508688</td>\n",
       "      <td>1.071783</td>\n",
       "    </tr>\n",
       "    <tr>\n",
       "      <th>ENSG00000284513</th>\n",
       "      <td>1.150067</td>\n",
       "      <td>1.378157</td>\n",
       "      <td>1.326444</td>\n",
       "    </tr>\n",
       "    <tr>\n",
       "      <th>ENSG00000284526</th>\n",
       "      <td>0.302116</td>\n",
       "      <td>0.006106</td>\n",
       "      <td>0.463360</td>\n",
       "    </tr>\n",
       "    <tr>\n",
       "      <th>ENSG00000284552</th>\n",
       "      <td>0.630819</td>\n",
       "      <td>0.063691</td>\n",
       "      <td>0.402880</td>\n",
       "    </tr>\n",
       "  </tbody>\n",
       "</table>\n",
       "<p>22515 rows × 3 columns</p>\n",
       "</div>"
      ],
      "text/plain": [
       "                 22127-Doctor_diagnosed_asthma  \\\n",
       "gene_name                                        \n",
       "ENSG00000000419                       0.327024   \n",
       "ENSG00000000457                       1.088281   \n",
       "ENSG00000000460                       1.520867   \n",
       "ENSG00000000938                       0.911426   \n",
       "ENSG00000000971                       0.738320   \n",
       "...                                        ...   \n",
       "ENSG00000284430                       0.965250   \n",
       "ENSG00000284452                       0.479626   \n",
       "ENSG00000284513                       1.150067   \n",
       "ENSG00000284526                       0.302116   \n",
       "ENSG00000284552                       0.630819   \n",
       "\n",
       "                 20002_1111-Noncancer_illness_code_selfreported_asthma  \\\n",
       "gene_name                                                                \n",
       "ENSG00000000419                                           0.707137       \n",
       "ENSG00000000457                                           0.700004       \n",
       "ENSG00000000460                                           0.695085       \n",
       "ENSG00000000938                                           2.321047       \n",
       "ENSG00000000971                                           1.788336       \n",
       "...                                                            ...       \n",
       "ENSG00000284430                                           0.760152       \n",
       "ENSG00000284452                                           0.508688       \n",
       "ENSG00000284513                                           1.378157       \n",
       "ENSG00000284526                                           0.006106       \n",
       "ENSG00000284552                                           0.063691       \n",
       "\n",
       "                 J45-Diagnoses_main_ICD10_J45_Asthma  \n",
       "gene_name                                             \n",
       "ENSG00000000419                             0.805021  \n",
       "ENSG00000000457                             1.214683  \n",
       "ENSG00000000460                             1.681098  \n",
       "ENSG00000000938                             0.661209  \n",
       "ENSG00000000971                             0.701912  \n",
       "...                                              ...  \n",
       "ENSG00000284430                             1.476950  \n",
       "ENSG00000284452                             1.071783  \n",
       "ENSG00000284513                             1.326444  \n",
       "ENSG00000284526                             0.463360  \n",
       "ENSG00000284552                             0.402880  \n",
       "\n",
       "[22515 rows x 3 columns]"
      ]
     },
     "execution_count": 25,
     "metadata": {},
     "output_type": "execute_result"
    }
   ],
   "source": [
    "smultixcan_zscores[_asthma_traits]"
   ]
  },
  {
   "cell_type": "code",
   "execution_count": 26,
   "metadata": {
    "execution": {
     "iopub.execute_input": "2021-03-18T03:02:47.394819Z",
     "iopub.status.busy": "2021-03-18T03:02:47.394457Z",
     "iopub.status.idle": "2021-03-18T03:02:47.406360Z",
     "shell.execute_reply": "2021-03-18T03:02:47.405974Z"
    },
    "papermill": {
     "duration": 0.032716,
     "end_time": "2021-03-18T03:02:47.406452",
     "exception": false,
     "start_time": "2021-03-18T03:02:47.373736",
     "status": "completed"
    },
    "tags": []
   },
   "outputs": [
    {
     "data": {
      "text/html": [
       "<div>\n",
       "<style scoped>\n",
       "    .dataframe tbody tr th:only-of-type {\n",
       "        vertical-align: middle;\n",
       "    }\n",
       "\n",
       "    .dataframe tbody tr th {\n",
       "        vertical-align: top;\n",
       "    }\n",
       "\n",
       "    .dataframe thead th {\n",
       "        text-align: right;\n",
       "    }\n",
       "</style>\n",
       "<table border=\"1\" class=\"dataframe\">\n",
       "  <thead>\n",
       "    <tr style=\"text-align: right;\">\n",
       "      <th></th>\n",
       "      <th>fullcode</th>\n",
       "      <th>n_cases</th>\n",
       "      <th>n_controls</th>\n",
       "      <th>n</th>\n",
       "    </tr>\n",
       "  </thead>\n",
       "  <tbody>\n",
       "    <tr>\n",
       "      <th>1213</th>\n",
       "      <td>20002_1111-Noncancer_illness_code_selfreported...</td>\n",
       "      <td>41934.0</td>\n",
       "      <td>319207.0</td>\n",
       "      <td>361141</td>\n",
       "    </tr>\n",
       "    <tr>\n",
       "      <th>3485</th>\n",
       "      <td>22127-Doctor_diagnosed_asthma</td>\n",
       "      <td>11717.0</td>\n",
       "      <td>80070.0</td>\n",
       "      <td>91787</td>\n",
       "    </tr>\n",
       "    <tr>\n",
       "      <th>3667</th>\n",
       "      <td>J45-Diagnoses_main_ICD10_J45_Asthma</td>\n",
       "      <td>1693.0</td>\n",
       "      <td>359501.0</td>\n",
       "      <td>361194</td>\n",
       "    </tr>\n",
       "  </tbody>\n",
       "</table>\n",
       "</div>"
      ],
      "text/plain": [
       "                                               fullcode  n_cases  n_controls  \\\n",
       "1213  20002_1111-Noncancer_illness_code_selfreported...  41934.0    319207.0   \n",
       "3485                      22127-Doctor_diagnosed_asthma  11717.0     80070.0   \n",
       "3667                J45-Diagnoses_main_ICD10_J45_Asthma   1693.0    359501.0   \n",
       "\n",
       "           n  \n",
       "1213  361141  \n",
       "3485   91787  \n",
       "3667  361194  "
      ]
     },
     "execution_count": 26,
     "metadata": {},
     "output_type": "execute_result"
    }
   ],
   "source": [
    "traits_sample_size[traits_sample_size[\"fullcode\"].isin(_asthma_traits)]"
   ]
  },
  {
   "cell_type": "code",
   "execution_count": 27,
   "metadata": {
    "execution": {
     "iopub.execute_input": "2021-03-18T03:02:47.447531Z",
     "iopub.status.busy": "2021-03-18T03:02:47.447173Z",
     "iopub.status.idle": "2021-03-18T03:02:47.454905Z",
     "shell.execute_reply": "2021-03-18T03:02:47.454602Z"
    },
    "papermill": {
     "duration": 0.029884,
     "end_time": "2021-03-18T03:02:47.454989",
     "exception": false,
     "start_time": "2021-03-18T03:02:47.425105",
     "status": "completed"
    },
    "tags": []
   },
   "outputs": [],
   "source": [
    "_trait = \"asthma\"\n",
    "\n",
    "_gene = \"ENSG00000000419\"\n",
    "_weights = np.array(\n",
    "    [\n",
    "        ((41934.0 / 319207.0) * np.sqrt(361141)),\n",
    "        ((11717.0 / 80070.0) * np.sqrt(91787)),\n",
    "        ((1693.0 / 359501.0) * np.sqrt(361194)),\n",
    "    ]\n",
    ")\n",
    "assert smultixcan_zscores_combined.loc[_gene, _trait].round(3) == (\n",
    "    (_weights[1] * 0.327024 + _weights[0] * 0.707137 + _weights[2] * 0.805021)\n",
    "    / np.sqrt(_weights[0] ** 2 + _weights[1] ** 2 + _weights[2] ** 2)\n",
    ").round(3)\n",
    "\n",
    "_gene = \"ENSG00000284526\"\n",
    "assert smultixcan_zscores_combined.loc[_gene, _trait].round(3) == (\n",
    "    (_weights[1] * 0.302116 + _weights[0] * 0.006106 + _weights[2] * 0.463360)\n",
    "    / np.sqrt(_weights[0] ** 2 + _weights[1] ** 2 + _weights[2] ** 2)\n",
    ").round(3)"
   ]
  },
  {
   "cell_type": "markdown",
   "metadata": {
    "papermill": {
     "duration": 0.018422,
     "end_time": "2021-03-18T03:02:47.492623",
     "exception": false,
     "start_time": "2021-03-18T03:02:47.474201",
     "status": "completed"
    },
    "tags": []
   },
   "source": [
    "### PhenomeXcan trait which has no EFO label."
   ]
  },
  {
   "cell_type": "code",
   "execution_count": 28,
   "metadata": {
    "execution": {
     "iopub.execute_input": "2021-03-18T03:02:47.531379Z",
     "iopub.status.busy": "2021-03-18T03:02:47.531019Z",
     "iopub.status.idle": "2021-03-18T03:02:47.538095Z",
     "shell.execute_reply": "2021-03-18T03:02:47.537728Z"
    },
    "papermill": {
     "duration": 0.027406,
     "end_time": "2021-03-18T03:02:47.538177",
     "exception": false,
     "start_time": "2021-03-18T03:02:47.510771",
     "status": "completed"
    },
    "tags": []
   },
   "outputs": [],
   "source": [
    "_trait = \"100001_raw-Food_weight\""
   ]
  },
  {
   "cell_type": "code",
   "execution_count": 29,
   "metadata": {
    "execution": {
     "iopub.execute_input": "2021-03-18T03:02:47.578925Z",
     "iopub.status.busy": "2021-03-18T03:02:47.578556Z",
     "iopub.status.idle": "2021-03-18T03:02:47.589438Z",
     "shell.execute_reply": "2021-03-18T03:02:47.589121Z"
    },
    "papermill": {
     "duration": 0.032067,
     "end_time": "2021-03-18T03:02:47.589521",
     "exception": false,
     "start_time": "2021-03-18T03:02:47.557454",
     "status": "completed"
    },
    "tags": []
   },
   "outputs": [
    {
     "data": {
      "text/html": [
       "<div>\n",
       "<style scoped>\n",
       "    .dataframe tbody tr th:only-of-type {\n",
       "        vertical-align: middle;\n",
       "    }\n",
       "\n",
       "    .dataframe tbody tr th {\n",
       "        vertical-align: top;\n",
       "    }\n",
       "\n",
       "    .dataframe thead th {\n",
       "        text-align: right;\n",
       "    }\n",
       "</style>\n",
       "<table border=\"1\" class=\"dataframe\">\n",
       "  <thead>\n",
       "    <tr style=\"text-align: right;\">\n",
       "      <th></th>\n",
       "      <th>fullcode</th>\n",
       "      <th>n_cases</th>\n",
       "      <th>n_controls</th>\n",
       "      <th>n</th>\n",
       "    </tr>\n",
       "  </thead>\n",
       "  <tbody>\n",
       "    <tr>\n",
       "      <th>751</th>\n",
       "      <td>100001_raw-Food_weight</td>\n",
       "      <td>NaN</td>\n",
       "      <td>NaN</td>\n",
       "      <td>51453</td>\n",
       "    </tr>\n",
       "  </tbody>\n",
       "</table>\n",
       "</div>"
      ],
      "text/plain": [
       "                   fullcode  n_cases  n_controls      n\n",
       "751  100001_raw-Food_weight      NaN         NaN  51453"
      ]
     },
     "execution_count": 29,
     "metadata": {},
     "output_type": "execute_result"
    }
   ],
   "source": [
    "traits_sample_size[traits_sample_size[\"fullcode\"].isin((_trait,))]"
   ]
  },
  {
   "cell_type": "code",
   "execution_count": 30,
   "metadata": {
    "execution": {
     "iopub.execute_input": "2021-03-18T03:02:47.629680Z",
     "iopub.status.busy": "2021-03-18T03:02:47.629315Z",
     "iopub.status.idle": "2021-03-18T03:02:47.639122Z",
     "shell.execute_reply": "2021-03-18T03:02:47.638757Z"
    },
    "papermill": {
     "duration": 0.030496,
     "end_time": "2021-03-18T03:02:47.639205",
     "exception": false,
     "start_time": "2021-03-18T03:02:47.608709",
     "status": "completed"
    },
    "tags": []
   },
   "outputs": [
    {
     "data": {
      "text/plain": [
       "gene_name\n",
       "ENSG00000000419    1.145442\n",
       "ENSG00000000457    0.618066\n",
       "ENSG00000000460    0.515724\n",
       "ENSG00000000938    0.280781\n",
       "ENSG00000000971    0.548127\n",
       "                     ...   \n",
       "ENSG00000284430    0.124980\n",
       "ENSG00000284452    1.587903\n",
       "ENSG00000284513    1.522281\n",
       "ENSG00000284526    0.150938\n",
       "ENSG00000284552    1.010143\n",
       "Name: 100001_raw-Food_weight, Length: 22515, dtype: float64"
      ]
     },
     "execution_count": 30,
     "metadata": {},
     "output_type": "execute_result"
    }
   ],
   "source": [
    "smultixcan_zscores[_trait]"
   ]
  },
  {
   "cell_type": "code",
   "execution_count": 31,
   "metadata": {
    "execution": {
     "iopub.execute_input": "2021-03-18T03:02:47.681412Z",
     "iopub.status.busy": "2021-03-18T03:02:47.681052Z",
     "iopub.status.idle": "2021-03-18T03:02:47.688720Z",
     "shell.execute_reply": "2021-03-18T03:02:47.688336Z"
    },
    "papermill": {
     "duration": 0.029922,
     "end_time": "2021-03-18T03:02:47.688827",
     "exception": false,
     "start_time": "2021-03-18T03:02:47.658905",
     "status": "completed"
    },
    "tags": []
   },
   "outputs": [],
   "source": [
    "_gene = \"ENSG00000284513\"\n",
    "_weights = np.array(\n",
    "    [\n",
    "        np.sqrt(51453),\n",
    "    ]\n",
    ")\n",
    "assert smultixcan_zscores_combined.loc[_gene, _trait].round(3) == (\n",
    "    (_weights[0] * 1.522281) / np.sqrt(_weights[0] ** 2)\n",
    ").round(3)\n",
    "\n",
    "_gene = \"ENSG00000000971\"\n",
    "assert smultixcan_zscores_combined.loc[_gene, _trait].round(3) == (\n",
    "    (_weights[0] * 0.548127) / np.sqrt(_weights[0] ** 2)\n",
    ").round(3)"
   ]
  },
  {
   "cell_type": "markdown",
   "metadata": {
    "papermill": {
     "duration": 0.01857,
     "end_time": "2021-03-18T03:02:47.726289",
     "exception": false,
     "start_time": "2021-03-18T03:02:47.707719",
     "status": "completed"
    },
    "tags": []
   },
   "source": [
    "# Save full (all traits, some with EFO, some not)"
   ]
  },
  {
   "cell_type": "code",
   "execution_count": 32,
   "metadata": {
    "execution": {
     "iopub.execute_input": "2021-03-18T03:02:47.766708Z",
     "iopub.status.busy": "2021-03-18T03:02:47.766356Z",
     "iopub.status.idle": "2021-03-18T03:02:47.774304Z",
     "shell.execute_reply": "2021-03-18T03:02:47.773947Z"
    },
    "papermill": {
     "duration": 0.02887,
     "end_time": "2021-03-18T03:02:47.774384",
     "exception": false,
     "start_time": "2021-03-18T03:02:47.745514",
     "status": "completed"
    },
    "tags": []
   },
   "outputs": [
    {
     "data": {
      "text/plain": [
       "(22515, 3752)"
      ]
     },
     "execution_count": 32,
     "metadata": {},
     "output_type": "execute_result"
    }
   ],
   "source": [
    "smultixcan_zscores_combined.shape"
   ]
  },
  {
   "cell_type": "code",
   "execution_count": 33,
   "metadata": {
    "execution": {
     "iopub.execute_input": "2021-03-18T03:02:47.815321Z",
     "iopub.status.busy": "2021-03-18T03:02:47.814940Z",
     "iopub.status.idle": "2021-03-18T03:02:47.835024Z",
     "shell.execute_reply": "2021-03-18T03:02:47.834636Z"
    },
    "papermill": {
     "duration": 0.041508,
     "end_time": "2021-03-18T03:02:47.835107",
     "exception": false,
     "start_time": "2021-03-18T03:02:47.793599",
     "status": "completed"
    },
    "tags": []
   },
   "outputs": [
    {
     "data": {
      "text/html": [
       "<div>\n",
       "<style scoped>\n",
       "    .dataframe tbody tr th:only-of-type {\n",
       "        vertical-align: middle;\n",
       "    }\n",
       "\n",
       "    .dataframe tbody tr th {\n",
       "        vertical-align: top;\n",
       "    }\n",
       "\n",
       "    .dataframe thead th {\n",
       "        text-align: right;\n",
       "    }\n",
       "</style>\n",
       "<table border=\"1\" class=\"dataframe\">\n",
       "  <thead>\n",
       "    <tr style=\"text-align: right;\">\n",
       "      <th></th>\n",
       "      <th>100001_raw-Food_weight</th>\n",
       "      <th>100002_raw-Energy</th>\n",
       "      <th>100003_raw-Protein</th>\n",
       "      <th>100004_raw-Fat</th>\n",
       "      <th>100005_raw-Carbohydrate</th>\n",
       "      <th>100006_raw-Saturated_fat</th>\n",
       "      <th>100007_raw-Polyunsaturated_fat</th>\n",
       "      <th>100008_raw-Total_sugars</th>\n",
       "      <th>100009_raw-Englyst_dietary_fibre</th>\n",
       "      <th>100010-Portion_size</th>\n",
       "      <th>...</th>\n",
       "      <th>visual impairment</th>\n",
       "      <th>vitiligo</th>\n",
       "      <th>vitreous body disease</th>\n",
       "      <th>vocal cord polyp</th>\n",
       "      <th>voice disorders</th>\n",
       "      <th>wellbeing measurement AND family relationship</th>\n",
       "      <th>wheezing</th>\n",
       "      <th>whooping cough</th>\n",
       "      <th>worry measurement</th>\n",
       "      <th>wrist fracture</th>\n",
       "    </tr>\n",
       "    <tr>\n",
       "      <th>gene_name</th>\n",
       "      <th></th>\n",
       "      <th></th>\n",
       "      <th></th>\n",
       "      <th></th>\n",
       "      <th></th>\n",
       "      <th></th>\n",
       "      <th></th>\n",
       "      <th></th>\n",
       "      <th></th>\n",
       "      <th></th>\n",
       "      <th></th>\n",
       "      <th></th>\n",
       "      <th></th>\n",
       "      <th></th>\n",
       "      <th></th>\n",
       "      <th></th>\n",
       "      <th></th>\n",
       "      <th></th>\n",
       "      <th></th>\n",
       "      <th></th>\n",
       "      <th></th>\n",
       "    </tr>\n",
       "  </thead>\n",
       "  <tbody>\n",
       "    <tr>\n",
       "      <th>ENSG00000000419</th>\n",
       "      <td>1.145442</td>\n",
       "      <td>0.724557</td>\n",
       "      <td>0.090876</td>\n",
       "      <td>0.298165</td>\n",
       "      <td>1.134347</td>\n",
       "      <td>1.371138</td>\n",
       "      <td>0.065718</td>\n",
       "      <td>0.794317</td>\n",
       "      <td>0.600342</td>\n",
       "      <td>0.317652</td>\n",
       "      <td>...</td>\n",
       "      <td>0.360518</td>\n",
       "      <td>1.351624</td>\n",
       "      <td>1.157695</td>\n",
       "      <td>0.835289</td>\n",
       "      <td>1.173072</td>\n",
       "      <td>1.337280</td>\n",
       "      <td>1.743822</td>\n",
       "      <td>1.017226</td>\n",
       "      <td>1.512184</td>\n",
       "      <td>0.972241</td>\n",
       "    </tr>\n",
       "    <tr>\n",
       "      <th>ENSG00000000457</th>\n",
       "      <td>0.618066</td>\n",
       "      <td>1.028131</td>\n",
       "      <td>2.218420</td>\n",
       "      <td>0.762584</td>\n",
       "      <td>0.934418</td>\n",
       "      <td>0.192993</td>\n",
       "      <td>1.080230</td>\n",
       "      <td>0.765997</td>\n",
       "      <td>0.375898</td>\n",
       "      <td>0.678731</td>\n",
       "      <td>...</td>\n",
       "      <td>2.134504</td>\n",
       "      <td>0.127830</td>\n",
       "      <td>0.534690</td>\n",
       "      <td>0.120516</td>\n",
       "      <td>0.517464</td>\n",
       "      <td>2.545363</td>\n",
       "      <td>0.673331</td>\n",
       "      <td>2.003092</td>\n",
       "      <td>0.344000</td>\n",
       "      <td>2.033122</td>\n",
       "    </tr>\n",
       "    <tr>\n",
       "      <th>ENSG00000000460</th>\n",
       "      <td>0.515724</td>\n",
       "      <td>0.403596</td>\n",
       "      <td>1.251359</td>\n",
       "      <td>0.433091</td>\n",
       "      <td>0.413466</td>\n",
       "      <td>0.246261</td>\n",
       "      <td>1.236151</td>\n",
       "      <td>0.827430</td>\n",
       "      <td>0.571985</td>\n",
       "      <td>0.782174</td>\n",
       "      <td>...</td>\n",
       "      <td>1.768905</td>\n",
       "      <td>0.992408</td>\n",
       "      <td>0.548215</td>\n",
       "      <td>0.412341</td>\n",
       "      <td>1.499415</td>\n",
       "      <td>1.366780</td>\n",
       "      <td>0.443318</td>\n",
       "      <td>0.417630</td>\n",
       "      <td>0.225934</td>\n",
       "      <td>1.613246</td>\n",
       "    </tr>\n",
       "    <tr>\n",
       "      <th>ENSG00000000938</th>\n",
       "      <td>0.280781</td>\n",
       "      <td>0.253910</td>\n",
       "      <td>0.879148</td>\n",
       "      <td>0.352705</td>\n",
       "      <td>0.051846</td>\n",
       "      <td>0.184212</td>\n",
       "      <td>0.148566</td>\n",
       "      <td>0.009989</td>\n",
       "      <td>0.363751</td>\n",
       "      <td>0.374514</td>\n",
       "      <td>...</td>\n",
       "      <td>0.656552</td>\n",
       "      <td>2.046041</td>\n",
       "      <td>2.746832</td>\n",
       "      <td>0.108211</td>\n",
       "      <td>1.008258</td>\n",
       "      <td>0.755695</td>\n",
       "      <td>0.896228</td>\n",
       "      <td>0.875047</td>\n",
       "      <td>0.476405</td>\n",
       "      <td>1.693057</td>\n",
       "    </tr>\n",
       "    <tr>\n",
       "      <th>ENSG00000000971</th>\n",
       "      <td>0.548127</td>\n",
       "      <td>0.389877</td>\n",
       "      <td>0.723469</td>\n",
       "      <td>1.167250</td>\n",
       "      <td>0.315952</td>\n",
       "      <td>0.324939</td>\n",
       "      <td>1.613932</td>\n",
       "      <td>0.311432</td>\n",
       "      <td>0.333548</td>\n",
       "      <td>1.807243</td>\n",
       "      <td>...</td>\n",
       "      <td>0.260482</td>\n",
       "      <td>0.646204</td>\n",
       "      <td>1.080240</td>\n",
       "      <td>0.678330</td>\n",
       "      <td>1.465358</td>\n",
       "      <td>0.307672</td>\n",
       "      <td>0.118376</td>\n",
       "      <td>1.419812</td>\n",
       "      <td>0.000002</td>\n",
       "      <td>1.040737</td>\n",
       "    </tr>\n",
       "  </tbody>\n",
       "</table>\n",
       "<p>5 rows × 3752 columns</p>\n",
       "</div>"
      ],
      "text/plain": [
       "                 100001_raw-Food_weight  100002_raw-Energy  \\\n",
       "gene_name                                                    \n",
       "ENSG00000000419                1.145442           0.724557   \n",
       "ENSG00000000457                0.618066           1.028131   \n",
       "ENSG00000000460                0.515724           0.403596   \n",
       "ENSG00000000938                0.280781           0.253910   \n",
       "ENSG00000000971                0.548127           0.389877   \n",
       "\n",
       "                 100003_raw-Protein  100004_raw-Fat  100005_raw-Carbohydrate  \\\n",
       "gene_name                                                                      \n",
       "ENSG00000000419            0.090876        0.298165                 1.134347   \n",
       "ENSG00000000457            2.218420        0.762584                 0.934418   \n",
       "ENSG00000000460            1.251359        0.433091                 0.413466   \n",
       "ENSG00000000938            0.879148        0.352705                 0.051846   \n",
       "ENSG00000000971            0.723469        1.167250                 0.315952   \n",
       "\n",
       "                 100006_raw-Saturated_fat  100007_raw-Polyunsaturated_fat  \\\n",
       "gene_name                                                                   \n",
       "ENSG00000000419                  1.371138                        0.065718   \n",
       "ENSG00000000457                  0.192993                        1.080230   \n",
       "ENSG00000000460                  0.246261                        1.236151   \n",
       "ENSG00000000938                  0.184212                        0.148566   \n",
       "ENSG00000000971                  0.324939                        1.613932   \n",
       "\n",
       "                 100008_raw-Total_sugars  100009_raw-Englyst_dietary_fibre  \\\n",
       "gene_name                                                                    \n",
       "ENSG00000000419                 0.794317                          0.600342   \n",
       "ENSG00000000457                 0.765997                          0.375898   \n",
       "ENSG00000000460                 0.827430                          0.571985   \n",
       "ENSG00000000938                 0.009989                          0.363751   \n",
       "ENSG00000000971                 0.311432                          0.333548   \n",
       "\n",
       "                 100010-Portion_size  ...  visual impairment  vitiligo  \\\n",
       "gene_name                             ...                                \n",
       "ENSG00000000419             0.317652  ...           0.360518  1.351624   \n",
       "ENSG00000000457             0.678731  ...           2.134504  0.127830   \n",
       "ENSG00000000460             0.782174  ...           1.768905  0.992408   \n",
       "ENSG00000000938             0.374514  ...           0.656552  2.046041   \n",
       "ENSG00000000971             1.807243  ...           0.260482  0.646204   \n",
       "\n",
       "                 vitreous body disease  vocal cord polyp  voice disorders  \\\n",
       "gene_name                                                                   \n",
       "ENSG00000000419               1.157695          0.835289         1.173072   \n",
       "ENSG00000000457               0.534690          0.120516         0.517464   \n",
       "ENSG00000000460               0.548215          0.412341         1.499415   \n",
       "ENSG00000000938               2.746832          0.108211         1.008258   \n",
       "ENSG00000000971               1.080240          0.678330         1.465358   \n",
       "\n",
       "                 wellbeing measurement AND family relationship  wheezing  \\\n",
       "gene_name                                                                  \n",
       "ENSG00000000419                                       1.337280  1.743822   \n",
       "ENSG00000000457                                       2.545363  0.673331   \n",
       "ENSG00000000460                                       1.366780  0.443318   \n",
       "ENSG00000000938                                       0.755695  0.896228   \n",
       "ENSG00000000971                                       0.307672  0.118376   \n",
       "\n",
       "                 whooping cough  worry measurement  wrist fracture  \n",
       "gene_name                                                           \n",
       "ENSG00000000419        1.017226           1.512184        0.972241  \n",
       "ENSG00000000457        2.003092           0.344000        2.033122  \n",
       "ENSG00000000460        0.417630           0.225934        1.613246  \n",
       "ENSG00000000938        0.875047           0.476405        1.693057  \n",
       "ENSG00000000971        1.419812           0.000002        1.040737  \n",
       "\n",
       "[5 rows x 3752 columns]"
      ]
     },
     "execution_count": 33,
     "metadata": {},
     "output_type": "execute_result"
    }
   ],
   "source": [
    "smultixcan_zscores_combined.head()"
   ]
  },
  {
   "cell_type": "markdown",
   "metadata": {
    "papermill": {
     "duration": 0.019412,
     "end_time": "2021-03-18T03:02:47.874456",
     "exception": false,
     "start_time": "2021-03-18T03:02:47.855044",
     "status": "completed"
    },
    "tags": []
   },
   "source": [
    "## Pickle (binary)"
   ]
  },
  {
   "cell_type": "code",
   "execution_count": 34,
   "metadata": {
    "execution": {
     "iopub.execute_input": "2021-03-18T03:02:47.916095Z",
     "iopub.status.busy": "2021-03-18T03:02:47.915739Z",
     "iopub.status.idle": "2021-03-18T03:02:47.923914Z",
     "shell.execute_reply": "2021-03-18T03:02:47.923546Z"
    },
    "papermill": {
     "duration": 0.030246,
     "end_time": "2021-03-18T03:02:47.923996",
     "exception": false,
     "start_time": "2021-03-18T03:02:47.893750",
     "status": "completed"
    },
    "tags": []
   },
   "outputs": [
    {
     "data": {
      "text/plain": [
       "PosixPath('/home/miltondp/projects/labs/greenelab/phenoplier/base/data/phenomexcan/gene_assoc/smultixcan-efo_partial-mashr-zscores.pkl')"
      ]
     },
     "metadata": {},
     "output_type": "display_data"
    }
   ],
   "source": [
    "output_file = conf.PHENOMEXCAN[\"SMULTIXCAN_EFO_PARTIAL_MASHR_ZSCORES_FILE\"]\n",
    "display(output_file)"
   ]
  },
  {
   "cell_type": "code",
   "execution_count": 35,
   "metadata": {
    "execution": {
     "iopub.execute_input": "2021-03-18T03:02:47.967614Z",
     "iopub.status.busy": "2021-03-18T03:02:47.967266Z",
     "iopub.status.idle": "2021-03-18T03:02:51.722864Z",
     "shell.execute_reply": "2021-03-18T03:02:51.721628Z"
    },
    "papermill": {
     "duration": 3.778177,
     "end_time": "2021-03-18T03:02:51.723191",
     "exception": false,
     "start_time": "2021-03-18T03:02:47.945014",
     "status": "completed"
    },
    "tags": []
   },
   "outputs": [],
   "source": [
    "smultixcan_zscores_combined.to_pickle(output_file)"
   ]
  },
  {
   "cell_type": "markdown",
   "metadata": {
    "papermill": {
     "duration": 0.020226,
     "end_time": "2021-03-18T03:02:51.792009",
     "exception": false,
     "start_time": "2021-03-18T03:02:51.771783",
     "status": "completed"
    },
    "tags": []
   },
   "source": [
    "## TSV (text)"
   ]
  },
  {
   "cell_type": "code",
   "execution_count": 36,
   "metadata": {
    "execution": {
     "iopub.execute_input": "2021-03-18T03:02:51.833990Z",
     "iopub.status.busy": "2021-03-18T03:02:51.833635Z",
     "iopub.status.idle": "2021-03-18T03:02:51.868041Z",
     "shell.execute_reply": "2021-03-18T03:02:51.867657Z"
    },
    "papermill": {
     "duration": 0.056423,
     "end_time": "2021-03-18T03:02:51.868147",
     "exception": false,
     "start_time": "2021-03-18T03:02:51.811724",
     "status": "completed"
    },
    "tags": []
   },
   "outputs": [
    {
     "data": {
      "text/plain": [
       "PosixPath('/home/miltondp/projects/labs/greenelab/phenoplier/base/data/phenomexcan/gene_assoc/smultixcan-efo_partial-mashr-zscores.tsv.gz')"
      ]
     },
     "metadata": {},
     "output_type": "display_data"
    }
   ],
   "source": [
    "# tsv format\n",
    "output_text_file = output_file.with_suffix(\".tsv.gz\")\n",
    "display(output_text_file)"
   ]
  },
  {
   "cell_type": "code",
   "execution_count": 37,
   "metadata": {
    "execution": {
     "iopub.execute_input": "2021-03-18T03:02:51.921710Z",
     "iopub.status.busy": "2021-03-18T03:02:51.921312Z",
     "iopub.status.idle": "2021-03-18T03:09:42.786489Z",
     "shell.execute_reply": "2021-03-18T03:09:42.786124Z"
    },
    "papermill": {
     "duration": 410.891749,
     "end_time": "2021-03-18T03:09:42.786571",
     "exception": false,
     "start_time": "2021-03-18T03:02:51.894822",
     "status": "completed"
    },
    "tags": []
   },
   "outputs": [],
   "source": [
    "smultixcan_zscores_combined.to_csv(\n",
    "    output_text_file, sep=\"\\t\", index=True, float_format=\"%.5e\"\n",
    ")"
   ]
  },
  {
   "cell_type": "code",
   "execution_count": null,
   "metadata": {
    "papermill": {
     "duration": 0.020069,
     "end_time": "2021-03-18T03:09:42.827529",
     "exception": false,
     "start_time": "2021-03-18T03:09:42.807460",
     "status": "completed"
    },
    "tags": []
   },
   "outputs": [],
   "source": []
  }
 ],
 "metadata": {
  "jupytext": {
   "cell_metadata_filter": "all,-execution,-papermill,-trusted",
   "formats": "ipynb,py//py:percent"
  },
  "kernelspec": {
   "display_name": "Python 3",
   "language": "python",
   "name": "python3"
  },
  "language_info": {
   "codemirror_mode": {
    "name": "ipython",
    "version": 3
   },
   "file_extension": ".py",
   "mimetype": "text/x-python",
   "name": "python",
   "nbconvert_exporter": "python",
   "pygments_lexer": "ipython3",
   "version": "3.8.8"
  },
  "papermill": {
   "default_parameters": {},
   "duration": 436.203063,
   "end_time": "2021-03-18T03:09:43.153137",
   "environment_variables": {},
   "exception": null,
   "input_path": "01_preprocessing/010_00-smultixcan_zscores_to_efo.ipynb",
   "output_path": "01_preprocessing/010_00-smultixcan_zscores_to_efo.run.ipynb",
   "parameters": {},
   "start_time": "2021-03-18T03:02:26.950074",
   "version": "2.2.2"
  },
  "toc-autonumbering": true
 },
 "nbformat": 4,
 "nbformat_minor": 4
}
