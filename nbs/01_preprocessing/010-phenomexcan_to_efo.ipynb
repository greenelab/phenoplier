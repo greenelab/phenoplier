{
 "cells": [
  {
   "cell_type": "markdown",
   "metadata": {
    "papermill": {
     "duration": 0.047347,
     "end_time": "2020-12-14T21:24:39.706211",
     "exception": false,
     "start_time": "2020-12-14T21:24:39.658864",
     "status": "completed"
    },
    "tags": []
   },
   "source": [
    "# Description"
   ]
  },
  {
   "cell_type": "markdown",
   "metadata": {},
   "source": [
    "It uses the PhenomeXcan traits to EFO mapping files to group traits that end up having the same EFO label. Currently, this only combines the S-MultiXcan results (z-scores) using the [Stouffer method](https://en.wikipedia.org/wiki/Fisher%27s_method#Relation_to_Stouffer's_Z-score_method) (implemented in functions `get_weights` and `_combine_z_scores` below)."
   ]
  },
  {
   "cell_type": "markdown",
   "metadata": {
    "papermill": {
     "duration": 0.031906,
     "end_time": "2020-12-14T21:24:39.770133",
     "exception": false,
     "start_time": "2020-12-14T21:24:39.738227",
     "status": "completed"
    },
    "tags": []
   },
   "source": [
    "# Modules loading"
   ]
  },
  {
   "cell_type": "code",
   "execution_count": null,
   "metadata": {
    "papermill": {
     "duration": 0.02319,
     "end_time": "2020-12-14T21:24:39.807557",
     "exception": false,
     "start_time": "2020-12-14T21:24:39.784367",
     "status": "completed"
    },
    "tags": []
   },
   "outputs": [],
   "source": [
    "%load_ext autoreload\n",
    "%autoreload 2"
   ]
  },
  {
   "cell_type": "code",
   "execution_count": null,
   "metadata": {
    "papermill": {
     "duration": 0.36702,
     "end_time": "2020-12-14T21:24:40.187800",
     "exception": false,
     "start_time": "2020-12-14T21:24:39.820780",
     "status": "completed"
    },
    "tags": []
   },
   "outputs": [],
   "source": [
    "from IPython.display import display\n",
    "import numpy as np\n",
    "import pandas as pd\n",
    "\n",
    "import conf\n",
    "from data.cache import read_data\n",
    "from entity import Trait"
   ]
  },
  {
   "cell_type": "markdown",
   "metadata": {
    "papermill": {
     "duration": 0.01365,
     "end_time": "2020-12-14T21:24:40.215577",
     "exception": false,
     "start_time": "2020-12-14T21:24:40.201927",
     "status": "completed"
    },
    "tags": []
   },
   "source": [
    "# Load S-MultiXcan results"
   ]
  },
  {
   "cell_type": "code",
   "execution_count": null,
   "metadata": {
    "papermill": {
     "duration": 0.301476,
     "end_time": "2020-12-14T21:24:40.530059",
     "exception": false,
     "start_time": "2020-12-14T21:24:40.228583",
     "status": "completed"
    },
    "tags": []
   },
   "outputs": [],
   "source": [
    "smultixcan_zscores = read_data(conf.PHENOMEXCAN[\"SMULTIXCAN_MASHR_ZSCORES_FILE\"])"
   ]
  },
  {
   "cell_type": "code",
   "execution_count": null,
   "metadata": {
    "papermill": {
     "duration": 0.028251,
     "end_time": "2020-12-14T21:24:40.573779",
     "exception": false,
     "start_time": "2020-12-14T21:24:40.545528",
     "status": "completed"
    },
    "tags": []
   },
   "outputs": [],
   "source": [
    "smultixcan_zscores.shape"
   ]
  },
  {
   "cell_type": "code",
   "execution_count": null,
   "metadata": {
    "papermill": {
     "duration": 0.037367,
     "end_time": "2020-12-14T21:24:40.624901",
     "exception": false,
     "start_time": "2020-12-14T21:24:40.587534",
     "status": "completed"
    },
    "tags": []
   },
   "outputs": [],
   "source": [
    "smultixcan_zscores.head()"
   ]
  },
  {
   "cell_type": "code",
   "execution_count": null,
   "metadata": {},
   "outputs": [],
   "source": [
    "pd.Series(smultixcan_zscores.values.flatten()).describe().apply(str)"
   ]
  },
  {
   "cell_type": "markdown",
   "metadata": {
    "papermill": {
     "duration": 0.013405,
     "end_time": "2020-12-14T21:24:40.652569",
     "exception": false,
     "start_time": "2020-12-14T21:24:40.639164",
     "status": "completed"
    },
    "tags": []
   },
   "source": [
    "# Get PhenomeXcan traits"
   ]
  },
  {
   "cell_type": "code",
   "execution_count": null,
   "metadata": {
    "papermill": {
     "duration": 0.557081,
     "end_time": "2020-12-14T21:24:41.222794",
     "exception": false,
     "start_time": "2020-12-14T21:24:40.665713",
     "status": "completed"
    },
    "tags": []
   },
   "outputs": [],
   "source": [
    "phenomexcan_fullcode_to_traits = {\n",
    "    (trait_obj := Trait.get_trait(full_code=trait_name)).full_code: trait_obj\n",
    "    for trait_name in smultixcan_zscores.columns\n",
    "}"
   ]
  },
  {
   "cell_type": "code",
   "execution_count": null,
   "metadata": {
    "papermill": {
     "duration": 0.023326,
     "end_time": "2020-12-14T21:24:41.259604",
     "exception": false,
     "start_time": "2020-12-14T21:24:41.236278",
     "status": "completed"
    },
    "tags": []
   },
   "outputs": [],
   "source": [
    "len(phenomexcan_fullcode_to_traits)"
   ]
  },
  {
   "cell_type": "code",
   "execution_count": null,
   "metadata": {
    "papermill": {
     "duration": 0.02293,
     "end_time": "2020-12-14T21:24:41.296358",
     "exception": false,
     "start_time": "2020-12-14T21:24:41.273428",
     "status": "completed"
    },
    "tags": []
   },
   "outputs": [],
   "source": [
    "assert len(phenomexcan_fullcode_to_traits) == smultixcan_zscores.columns.shape[0]"
   ]
  },
  {
   "cell_type": "markdown",
   "metadata": {
    "papermill": {
     "duration": 0.014088,
     "end_time": "2020-12-14T21:24:41.324768",
     "exception": false,
     "start_time": "2020-12-14T21:24:41.310680",
     "status": "completed"
    },
    "tags": []
   },
   "source": [
    "# Change/combine traits in S-MultiXcan results"
   ]
  },
  {
   "cell_type": "code",
   "execution_count": null,
   "metadata": {
    "papermill": {
     "duration": 0.029626,
     "end_time": "2020-12-14T21:24:41.367817",
     "exception": false,
     "start_time": "2020-12-14T21:24:41.338191",
     "status": "completed"
    },
    "tags": []
   },
   "outputs": [],
   "source": [
    "traits_sample_size = pd.DataFrame(\n",
    "    [\n",
    "        {\n",
    "            \"fullcode\": fc,\n",
    "            \"n_cases\": t.n_cases,\n",
    "            \"n_controls\": t.n_controls,\n",
    "            \"n\": t.n,\n",
    "        }\n",
    "        for fc, t in phenomexcan_fullcode_to_traits.items()\n",
    "    ]\n",
    ")"
   ]
  },
  {
   "cell_type": "code",
   "execution_count": null,
   "metadata": {
    "papermill": {
     "duration": 0.023718,
     "end_time": "2020-12-14T21:24:41.405440",
     "exception": false,
     "start_time": "2020-12-14T21:24:41.381722",
     "status": "completed"
    },
    "tags": []
   },
   "outputs": [],
   "source": [
    "traits_sample_size.shape"
   ]
  },
  {
   "cell_type": "code",
   "execution_count": null,
   "metadata": {
    "papermill": {
     "duration": 0.027715,
     "end_time": "2020-12-14T21:24:41.447200",
     "exception": false,
     "start_time": "2020-12-14T21:24:41.419485",
     "status": "completed"
    },
    "tags": []
   },
   "outputs": [],
   "source": [
    "traits_sample_size.head()"
   ]
  },
  {
   "cell_type": "code",
   "execution_count": null,
   "metadata": {
    "papermill": {
     "duration": 0.025799,
     "end_time": "2020-12-14T21:24:41.488390",
     "exception": false,
     "start_time": "2020-12-14T21:24:41.462591",
     "status": "completed"
    },
    "tags": []
   },
   "outputs": [],
   "source": [
    "def get_weights(traits_fullcodes):\n",
    "    \"\"\"\n",
    "    This function takes a list of PhenomeXcan traits that map to the same EFO label, and returns their weights using sample sizes\n",
    "    from GWASs. In the case of binary traits (i.e. diseases) the formula is:\n",
    "        (n_cases / n_controls) * sqrt(n)\n",
    "    where n=n_cases+n_controls\n",
    "    In case of continuous traits (such as height) it is sqrt(n)\n",
    "    \"\"\"\n",
    "    return np.array(\n",
    "        [\n",
    "            (t.n_cases / t.n_controls) * np.sqrt(t.n)\n",
    "            if not pd.isnull((t := phenomexcan_fullcode_to_traits[trait_name]).n_cases)\n",
    "            and not pd.isnull(t.n_controls)\n",
    "            else np.sqrt(t.n)\n",
    "            for trait_name in traits_fullcodes\n",
    "        ]\n",
    "    )\n",
    "\n",
    "\n",
    "def _combine_z_scores(x):\n",
    "    \"\"\"\n",
    "    Combines PhenomeXcan traits that map to the same EFO label using the Stouffer's Z-score method:\n",
    "    https://en.wikipedia.org/wiki/Fisher%27s_method#Relation_to_Stouffer's_Z-score_method\n",
    "\n",
    "    It uses weights for each traits, which are computed with function get_weights.\n",
    "\n",
    "    Args:\n",
    "        x: a pandas.DataFrame with PhenomeXcan traits in the columns, and genes in the rows. Values are z-scores of association in S-MultiXcan.\n",
    "\n",
    "    Returns:\n",
    "        pandas.Series for all genes and the single EFO label for which all traits in x map to. Values are the combined z-scores.\n",
    "    \"\"\"\n",
    "    # combine z-scores using Stouffer's method\n",
    "    weights = get_weights(x.columns)\n",
    "    numerator = (x * weights).sum(1)\n",
    "    denominator = np.sqrt(np.power(weights, 2).sum())\n",
    "    new_data = numerator / denominator\n",
    "\n",
    "    return pd.Series(\n",
    "        data=new_data.values,\n",
    "        index=x.index.copy(),\n",
    "        name=x.columns[0],\n",
    "    )"
   ]
  },
  {
   "cell_type": "markdown",
   "metadata": {
    "papermill": {
     "duration": 0.015798,
     "end_time": "2020-12-14T21:24:41.519131",
     "exception": false,
     "start_time": "2020-12-14T21:24:41.503333",
     "status": "completed"
    },
    "tags": []
   },
   "source": [
    "## Get a list of EFO labels for PhenomeXcan traits"
   ]
  },
  {
   "cell_type": "code",
   "execution_count": null,
   "metadata": {
    "papermill": {
     "duration": 2.685565,
     "end_time": "2020-12-14T21:24:44.219103",
     "exception": false,
     "start_time": "2020-12-14T21:24:41.533538",
     "status": "completed"
    },
    "tags": []
   },
   "outputs": [],
   "source": [
    "traits_efo_labels = [\n",
    "    t.get_efo_info().label\n",
    "    if (t := phenomexcan_fullcode_to_traits[c]).get_efo_info() is not None\n",
    "    else t.full_code\n",
    "    for c in smultixcan_zscores.columns\n",
    "]"
   ]
  },
  {
   "cell_type": "code",
   "execution_count": null,
   "metadata": {
    "papermill": {
     "duration": 0.024726,
     "end_time": "2020-12-14T21:24:44.258361",
     "exception": false,
     "start_time": "2020-12-14T21:24:44.233635",
     "status": "completed"
    },
    "tags": []
   },
   "outputs": [],
   "source": [
    "len(traits_efo_labels)"
   ]
  },
  {
   "cell_type": "code",
   "execution_count": null,
   "metadata": {
    "papermill": {
     "duration": 0.025158,
     "end_time": "2020-12-14T21:24:44.298606",
     "exception": false,
     "start_time": "2020-12-14T21:24:44.273448",
     "status": "completed"
    },
    "tags": []
   },
   "outputs": [],
   "source": [
    "traits_efo_labels[:10]"
   ]
  },
  {
   "cell_type": "markdown",
   "metadata": {
    "papermill": {
     "duration": 0.015088,
     "end_time": "2020-12-14T21:24:44.329103",
     "exception": false,
     "start_time": "2020-12-14T21:24:44.314015",
     "status": "completed"
    },
    "tags": []
   },
   "source": [
    "## Combine z-scores for same EFO labels"
   ]
  },
  {
   "cell_type": "code",
   "execution_count": null,
   "metadata": {
    "papermill": {
     "duration": 6.719873,
     "end_time": "2020-12-14T21:24:51.063699",
     "exception": false,
     "start_time": "2020-12-14T21:24:44.343826",
     "status": "completed"
    },
    "tags": []
   },
   "outputs": [],
   "source": [
    "smultixcan_zscores_combined = smultixcan_zscores.groupby(\n",
    "    traits_efo_labels, axis=1\n",
    ").apply(_combine_z_scores)"
   ]
  },
  {
   "cell_type": "code",
   "execution_count": null,
   "metadata": {
    "papermill": {
     "duration": 0.025116,
     "end_time": "2020-12-14T21:24:51.105728",
     "exception": false,
     "start_time": "2020-12-14T21:24:51.080612",
     "status": "completed"
    },
    "tags": []
   },
   "outputs": [],
   "source": [
    "smultixcan_zscores_combined.shape"
   ]
  },
  {
   "cell_type": "code",
   "execution_count": null,
   "metadata": {
    "papermill": {
     "duration": 0.037619,
     "end_time": "2020-12-14T21:24:51.158659",
     "exception": false,
     "start_time": "2020-12-14T21:24:51.121040",
     "status": "completed"
    },
    "tags": []
   },
   "outputs": [],
   "source": [
    "smultixcan_zscores_combined.head()"
   ]
  },
  {
   "cell_type": "code",
   "execution_count": null,
   "metadata": {
    "papermill": {
     "duration": 0.09069,
     "end_time": "2020-12-14T21:24:51.265422",
     "exception": false,
     "start_time": "2020-12-14T21:24:51.174732",
     "status": "completed"
    },
    "tags": []
   },
   "outputs": [],
   "source": [
    "assert not smultixcan_zscores_combined.isna().any().any()"
   ]
  },
  {
   "cell_type": "markdown",
   "metadata": {
    "papermill": {
     "duration": 0.017824,
     "end_time": "2020-12-14T21:24:51.302999",
     "exception": false,
     "start_time": "2020-12-14T21:24:51.285175",
     "status": "completed"
    },
    "tags": []
   },
   "source": [
    "## Testing"
   ]
  },
  {
   "cell_type": "markdown",
   "metadata": {
    "papermill": {
     "duration": 0.015233,
     "end_time": "2020-12-14T21:24:51.333889",
     "exception": false,
     "start_time": "2020-12-14T21:24:51.318656",
     "status": "completed"
    },
    "tags": []
   },
   "source": [
    "### EFO label (asthma) which combined three PhenomeXcan traits."
   ]
  },
  {
   "cell_type": "code",
   "execution_count": null,
   "metadata": {
    "papermill": {
     "duration": 0.025447,
     "end_time": "2020-12-14T21:24:51.374735",
     "exception": false,
     "start_time": "2020-12-14T21:24:51.349288",
     "status": "completed"
    },
    "tags": []
   },
   "outputs": [],
   "source": [
    "_asthma_traits = [\n",
    "    \"22127-Doctor_diagnosed_asthma\",\n",
    "    \"20002_1111-Noncancer_illness_code_selfreported_asthma\",\n",
    "    \"J45-Diagnoses_main_ICD10_J45_Asthma\",\n",
    "]"
   ]
  },
  {
   "cell_type": "code",
   "execution_count": null,
   "metadata": {
    "papermill": {
     "duration": 0.030594,
     "end_time": "2020-12-14T21:24:51.421078",
     "exception": false,
     "start_time": "2020-12-14T21:24:51.390484",
     "status": "completed"
    },
    "tags": []
   },
   "outputs": [],
   "source": [
    "smultixcan_zscores[_asthma_traits]"
   ]
  },
  {
   "cell_type": "code",
   "execution_count": null,
   "metadata": {
    "papermill": {
     "duration": 0.030275,
     "end_time": "2020-12-14T21:24:51.467871",
     "exception": false,
     "start_time": "2020-12-14T21:24:51.437596",
     "status": "completed"
    },
    "tags": []
   },
   "outputs": [],
   "source": [
    "traits_sample_size[traits_sample_size[\"fullcode\"].isin(_asthma_traits)]"
   ]
  },
  {
   "cell_type": "code",
   "execution_count": null,
   "metadata": {
    "papermill": {
     "duration": 0.030206,
     "end_time": "2020-12-14T21:24:51.514718",
     "exception": false,
     "start_time": "2020-12-14T21:24:51.484512",
     "status": "completed"
    },
    "tags": []
   },
   "outputs": [],
   "source": [
    "_trait = \"asthma\"\n",
    "\n",
    "_gene = \"ENSG00000000419\"\n",
    "_weights = np.array(\n",
    "    [\n",
    "        ((41934.0 / 319207.0) * np.sqrt(361141)),\n",
    "        ((11717.0 / 80070.0) * np.sqrt(91787)),\n",
    "        ((1693.0 / 359501.0) * np.sqrt(361194)),\n",
    "    ]\n",
    ")\n",
    "assert smultixcan_zscores_combined.loc[_gene, _trait].round(3) == (\n",
    "    (_weights[1] * 0.327024 + _weights[0] * 0.707137 + _weights[2] * 0.805021)\n",
    "    / np.sqrt(_weights[0] ** 2 + _weights[1] ** 2 + _weights[2] ** 2)\n",
    ").round(3)\n",
    "\n",
    "_gene = \"ENSG00000284526\"\n",
    "assert smultixcan_zscores_combined.loc[_gene, _trait].round(3) == (\n",
    "    (_weights[1] * 0.302116 + _weights[0] * 0.006106 + _weights[2] * 0.463360)\n",
    "    / np.sqrt(_weights[0] ** 2 + _weights[1] ** 2 + _weights[2] ** 2)\n",
    ").round(3)"
   ]
  },
  {
   "cell_type": "markdown",
   "metadata": {
    "papermill": {
     "duration": 0.017625,
     "end_time": "2020-12-14T21:24:51.549048",
     "exception": false,
     "start_time": "2020-12-14T21:24:51.531423",
     "status": "completed"
    },
    "tags": []
   },
   "source": [
    "### PhenomeXcan trait which has no EFO label."
   ]
  },
  {
   "cell_type": "code",
   "execution_count": null,
   "metadata": {
    "papermill": {
     "duration": 0.029284,
     "end_time": "2020-12-14T21:24:51.595943",
     "exception": false,
     "start_time": "2020-12-14T21:24:51.566659",
     "status": "completed"
    },
    "tags": []
   },
   "outputs": [],
   "source": [
    "_trait = \"100001_raw-Food_weight\""
   ]
  },
  {
   "cell_type": "code",
   "execution_count": null,
   "metadata": {
    "papermill": {
     "duration": 0.033309,
     "end_time": "2020-12-14T21:24:51.659574",
     "exception": false,
     "start_time": "2020-12-14T21:24:51.626265",
     "status": "completed"
    },
    "tags": []
   },
   "outputs": [],
   "source": [
    "traits_sample_size[traits_sample_size[\"fullcode\"].isin((_trait,))]"
   ]
  },
  {
   "cell_type": "code",
   "execution_count": null,
   "metadata": {
    "papermill": {
     "duration": 0.029512,
     "end_time": "2020-12-14T21:24:51.706284",
     "exception": false,
     "start_time": "2020-12-14T21:24:51.676772",
     "status": "completed"
    },
    "tags": []
   },
   "outputs": [],
   "source": [
    "smultixcan_zscores[_trait]"
   ]
  },
  {
   "cell_type": "code",
   "execution_count": null,
   "metadata": {
    "papermill": {
     "duration": 0.028189,
     "end_time": "2020-12-14T21:24:51.751962",
     "exception": false,
     "start_time": "2020-12-14T21:24:51.723773",
     "status": "completed"
    },
    "tags": []
   },
   "outputs": [],
   "source": [
    "_gene = \"ENSG00000284513\"\n",
    "_weights = np.array(\n",
    "    [\n",
    "        np.sqrt(51453),\n",
    "    ]\n",
    ")\n",
    "assert smultixcan_zscores_combined.loc[_gene, _trait].round(3) == (\n",
    "    (_weights[0] * 1.522281) / np.sqrt(_weights[0] ** 2)\n",
    ").round(3)\n",
    "\n",
    "_gene = \"ENSG00000000971\"\n",
    "assert smultixcan_zscores_combined.loc[_gene, _trait].round(3) == (\n",
    "    (_weights[0] * 0.548127) / np.sqrt(_weights[0] ** 2)\n",
    ").round(3)"
   ]
  },
  {
   "cell_type": "markdown",
   "metadata": {
    "papermill": {
     "duration": 0.01664,
     "end_time": "2020-12-14T21:24:51.785620",
     "exception": false,
     "start_time": "2020-12-14T21:24:51.768980",
     "status": "completed"
    },
    "tags": []
   },
   "source": [
    "# Save full (all traits, some with EFO, some not)"
   ]
  },
  {
   "cell_type": "code",
   "execution_count": null,
   "metadata": {
    "papermill": {
     "duration": 0.027261,
     "end_time": "2020-12-14T21:24:51.829640",
     "exception": false,
     "start_time": "2020-12-14T21:24:51.802379",
     "status": "completed"
    },
    "tags": []
   },
   "outputs": [],
   "source": [
    "smultixcan_zscores_combined.shape"
   ]
  },
  {
   "cell_type": "code",
   "execution_count": null,
   "metadata": {
    "papermill": {
     "duration": 0.038884,
     "end_time": "2020-12-14T21:24:51.886083",
     "exception": false,
     "start_time": "2020-12-14T21:24:51.847199",
     "status": "completed"
    },
    "tags": []
   },
   "outputs": [],
   "source": [
    "smultixcan_zscores_combined.head()"
   ]
  },
  {
   "cell_type": "markdown",
   "metadata": {
    "papermill": {
     "duration": 0.01755,
     "end_time": "2020-12-14T21:24:51.921427",
     "exception": false,
     "start_time": "2020-12-14T21:24:51.903877",
     "status": "completed"
    },
    "tags": []
   },
   "source": [
    "## Pickle (binary)"
   ]
  },
  {
   "cell_type": "code",
   "execution_count": null,
   "metadata": {
    "papermill": {
     "duration": 0.027635,
     "end_time": "2020-12-14T21:24:51.966659",
     "exception": false,
     "start_time": "2020-12-14T21:24:51.939024",
     "status": "completed"
    },
    "tags": []
   },
   "outputs": [],
   "source": [
    "output_file = conf.PHENOMEXCAN[\"SMULTIXCAN_EFO_PARTIAL_MASHR_ZSCORES_FILE\"]\n",
    "display(output_file)"
   ]
  },
  {
   "cell_type": "code",
   "execution_count": null,
   "metadata": {
    "papermill": {
     "duration": 3.895306,
     "end_time": "2020-12-14T21:24:55.880398",
     "exception": false,
     "start_time": "2020-12-14T21:24:51.985092",
     "status": "completed"
    },
    "tags": []
   },
   "outputs": [],
   "source": [
    "smultixcan_zscores_combined.to_pickle(output_file)"
   ]
  },
  {
   "cell_type": "markdown",
   "metadata": {
    "papermill": {
     "duration": 0.01907,
     "end_time": "2020-12-14T21:24:55.951472",
     "exception": false,
     "start_time": "2020-12-14T21:24:55.932402",
     "status": "completed"
    },
    "tags": []
   },
   "source": [
    "## TSV (text)"
   ]
  },
  {
   "cell_type": "code",
   "execution_count": null,
   "metadata": {
    "papermill": {
     "duration": 0.028317,
     "end_time": "2020-12-14T21:24:55.997571",
     "exception": false,
     "start_time": "2020-12-14T21:24:55.969254",
     "status": "completed"
    },
    "tags": []
   },
   "outputs": [],
   "source": [
    "# tsv format\n",
    "output_text_file = output_file.with_suffix(\".tsv.gz\")\n",
    "display(output_text_file)"
   ]
  },
  {
   "cell_type": "code",
   "execution_count": null,
   "metadata": {
    "papermill": {
     "duration": 392.240426,
     "end_time": "2020-12-14T21:31:28.256860",
     "exception": false,
     "start_time": "2020-12-14T21:24:56.016434",
     "status": "completed"
    },
    "tags": []
   },
   "outputs": [],
   "source": [
    "smultixcan_zscores_combined.to_csv(\n",
    "    output_text_file, sep=\"\\t\", index=True, float_format=\"%.5e\"\n",
    ")"
   ]
  },
  {
   "cell_type": "code",
   "execution_count": null,
   "metadata": {
    "papermill": {
     "duration": 0.01856,
     "end_time": "2020-12-14T21:31:28.294646",
     "exception": false,
     "start_time": "2020-12-14T21:31:28.276086",
     "status": "completed"
    },
    "tags": []
   },
   "outputs": [],
   "source": []
  }
 ],
 "metadata": {
  "jupytext": {
   "cell_metadata_filter": "all,-execution,-papermill,-trusted",
   "formats": "ipynb,py//py:percent"
  },
  "kernelspec": {
   "display_name": "Python 3",
   "language": "python",
   "name": "python3"
  },
  "language_info": {
   "codemirror_mode": {
    "name": "ipython",
    "version": 3
   },
   "file_extension": ".py",
   "mimetype": "text/x-python",
   "name": "python",
   "nbconvert_exporter": "python",
   "pygments_lexer": "ipython3",
   "version": "3.8.8"
  },
  "papermill": {
   "default_parameters": {},
   "duration": 409.739818,
   "end_time": "2020-12-14T21:31:28.618222",
   "environment_variables": {},
   "exception": null,
   "input_path": "01_preprocessing/010-phenomexcan_to_efo.ipynb",
   "output_path": "01_preprocessing/010-phenomexcan_to_efo.run.ipynb",
   "parameters": {},
   "start_time": "2020-12-14T21:24:38.878404",
   "version": "2.2.2"
  },
  "toc-autonumbering": true
 },
 "nbformat": 4,
 "nbformat_minor": 4
}
