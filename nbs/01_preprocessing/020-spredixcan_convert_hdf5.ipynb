{
 "cells": [
  {
   "cell_type": "markdown",
   "metadata": {
    "papermill": {
     "duration": 0.02314,
     "end_time": "2021-04-23T03:19:24.000632",
     "exception": false,
     "start_time": "2021-04-23T03:19:23.977492",
     "status": "completed"
    },
    "tags": []
   },
   "source": [
    "# Description"
   ]
  },
  {
   "cell_type": "markdown",
   "metadata": {
    "papermill": {
     "duration": 0.017745,
     "end_time": "2021-04-23T03:19:24.037233",
     "exception": false,
     "start_time": "2021-04-23T03:19:24.019488",
     "status": "completed"
    },
    "tags": []
   },
   "source": [
    "This notebook reads .h5 files generated in PhenomeXcan by [this notebook](https://github.com/hakyimlab/phenomexcan/blob/master/scripts/100_postprocessing/05_spredixcan.ipynb), and saves one file per tissue with the results in pandas DataFrame format (genes in rows, traits in columns). It saves these in two formats: pickle and tsv.gz\n",
    "\n",
    "The notebook will generate two other folders in the parent of `SPREDIXCAN_H5_FOLDER`: `pkl` and `tsv`\n",
    "\n",
    "**The idea** is to have the data in a friendly format."
   ]
  },
  {
   "cell_type": "markdown",
   "metadata": {
    "papermill": {
     "duration": 0.017783,
     "end_time": "2021-04-23T03:19:24.072985",
     "exception": false,
     "start_time": "2021-04-23T03:19:24.055202",
     "status": "completed"
    },
    "tags": []
   },
   "source": [
    "# Modules loading"
   ]
  },
  {
   "cell_type": "code",
   "execution_count": 1,
   "metadata": {
    "execution": {
     "iopub.execute_input": "2021-04-23T03:19:24.114554Z",
     "iopub.status.busy": "2021-04-23T03:19:24.114201Z",
     "iopub.status.idle": "2021-04-23T03:19:24.128238Z",
     "shell.execute_reply": "2021-04-23T03:19:24.127800Z"
    },
    "papermill": {
     "duration": 0.03736,
     "end_time": "2021-04-23T03:19:24.128335",
     "exception": false,
     "start_time": "2021-04-23T03:19:24.090975",
     "status": "completed"
    },
    "tags": []
   },
   "outputs": [],
   "source": [
    "%load_ext autoreload\n",
    "%autoreload 2"
   ]
  },
  {
   "cell_type": "code",
   "execution_count": 2,
   "metadata": {
    "execution": {
     "iopub.execute_input": "2021-04-23T03:19:24.168374Z",
     "iopub.status.busy": "2021-04-23T03:19:24.167958Z",
     "iopub.status.idle": "2021-04-23T03:19:24.451376Z",
     "shell.execute_reply": "2021-04-23T03:19:24.452794Z"
    },
    "papermill": {
     "duration": 0.306121,
     "end_time": "2021-04-23T03:19:24.453190",
     "exception": false,
     "start_time": "2021-04-23T03:19:24.147069",
     "status": "completed"
    },
    "tags": []
   },
   "outputs": [],
   "source": [
    "from pathlib import Path\n",
    "\n",
    "import numpy as np\n",
    "import pandas as pd\n",
    "\n",
    "import conf\n",
    "from data.cache import read_data\n",
    "from data.hdf5 import simplify_trait_fullcode, HDF5_FILE_PATTERN"
   ]
  },
  {
   "cell_type": "markdown",
   "metadata": {
    "papermill": {
     "duration": 0.020026,
     "end_time": "2021-04-23T03:19:24.517072",
     "exception": false,
     "start_time": "2021-04-23T03:19:24.497046",
     "status": "completed"
    },
    "tags": []
   },
   "source": [
    "# Settings"
   ]
  },
  {
   "cell_type": "code",
   "execution_count": 3,
   "metadata": {
    "execution": {
     "iopub.execute_input": "2021-04-23T03:19:24.557380Z",
     "iopub.status.busy": "2021-04-23T03:19:24.557023Z",
     "iopub.status.idle": "2021-04-23T03:19:24.574109Z",
     "shell.execute_reply": "2021-04-23T03:19:24.574396Z"
    },
    "papermill": {
     "duration": 0.038362,
     "end_time": "2021-04-23T03:19:24.574495",
     "exception": false,
     "start_time": "2021-04-23T03:19:24.536133",
     "status": "completed"
    },
    "tags": []
   },
   "outputs": [
    {
     "data": {
      "text/plain": [
       "PosixPath('/home/miltondp/projects/labs/greenelab/phenoplier/base/data/phenomexcan/gene_assoc/spredixcan/hdf5')"
      ]
     },
     "metadata": {},
     "output_type": "display_data"
    }
   ],
   "source": [
    "SPREDIXCAN_H5_FOLDER = Path(\n",
    "    conf.PHENOMEXCAN[\"SPREDIXCAN_MASHR_ZSCORES_FOLDER\"],\n",
    "    \"hdf5\",\n",
    ")\n",
    "display(SPREDIXCAN_H5_FOLDER)\n",
    "assert SPREDIXCAN_H5_FOLDER.is_dir(), \"The folder does not exist\""
   ]
  },
  {
   "cell_type": "code",
   "execution_count": 4,
   "metadata": {
    "execution": {
     "iopub.execute_input": "2021-04-23T03:19:24.613800Z",
     "iopub.status.busy": "2021-04-23T03:19:24.613449Z",
     "iopub.status.idle": "2021-04-23T03:19:24.621740Z",
     "shell.execute_reply": "2021-04-23T03:19:24.621386Z"
    },
    "papermill": {
     "duration": 0.028686,
     "end_time": "2021-04-23T03:19:24.621820",
     "exception": false,
     "start_time": "2021-04-23T03:19:24.593134",
     "status": "completed"
    },
    "tags": []
   },
   "outputs": [
    {
     "data": {
      "text/plain": [
       "PosixPath('/home/miltondp/projects/labs/greenelab/phenoplier/base/data/phenomexcan/gene_assoc/spredixcan/pkl')"
      ]
     },
     "metadata": {},
     "output_type": "display_data"
    }
   ],
   "source": [
    "spredixcan_pkl_output_folder = Path(SPREDIXCAN_H5_FOLDER.parent, \"pkl\").resolve()\n",
    "spredixcan_pkl_output_folder.mkdir(exist_ok=True)\n",
    "display(spredixcan_pkl_output_folder)"
   ]
  },
  {
   "cell_type": "code",
   "execution_count": 5,
   "metadata": {
    "execution": {
     "iopub.execute_input": "2021-04-23T03:19:24.662458Z",
     "iopub.status.busy": "2021-04-23T03:19:24.662094Z",
     "iopub.status.idle": "2021-04-23T03:19:24.670176Z",
     "shell.execute_reply": "2021-04-23T03:19:24.669811Z"
    },
    "papermill": {
     "duration": 0.029585,
     "end_time": "2021-04-23T03:19:24.670272",
     "exception": false,
     "start_time": "2021-04-23T03:19:24.640687",
     "status": "completed"
    },
    "tags": []
   },
   "outputs": [
    {
     "data": {
      "text/plain": [
       "PosixPath('/home/miltondp/projects/labs/greenelab/phenoplier/base/data/phenomexcan/gene_assoc/spredixcan/tsv')"
      ]
     },
     "metadata": {},
     "output_type": "display_data"
    }
   ],
   "source": [
    "spredixcan_tsv_output_folder = Path(SPREDIXCAN_H5_FOLDER.parent, \"tsv\").resolve()\n",
    "spredixcan_tsv_output_folder.mkdir(exist_ok=True)\n",
    "display(spredixcan_tsv_output_folder)"
   ]
  },
  {
   "cell_type": "markdown",
   "metadata": {
    "papermill": {
     "duration": 0.018906,
     "end_time": "2021-04-23T03:19:24.708770",
     "exception": false,
     "start_time": "2021-04-23T03:19:24.689864",
     "status": "completed"
    },
    "tags": []
   },
   "source": [
    "# Read S-PrediXcan results"
   ]
  },
  {
   "cell_type": "markdown",
   "metadata": {
    "papermill": {
     "duration": 0.018975,
     "end_time": "2021-04-23T03:19:24.746525",
     "exception": false,
     "start_time": "2021-04-23T03:19:24.727550",
     "status": "completed"
    },
    "tags": []
   },
   "source": [
    "## Get list of files"
   ]
  },
  {
   "cell_type": "code",
   "execution_count": 6,
   "metadata": {
    "execution": {
     "iopub.execute_input": "2021-04-23T03:19:24.787594Z",
     "iopub.status.busy": "2021-04-23T03:19:24.787240Z",
     "iopub.status.idle": "2021-04-23T03:19:24.794395Z",
     "shell.execute_reply": "2021-04-23T03:19:24.794090Z"
    },
    "papermill": {
     "duration": 0.028734,
     "end_time": "2021-04-23T03:19:24.794482",
     "exception": false,
     "start_time": "2021-04-23T03:19:24.765748",
     "status": "completed"
    },
    "tags": []
   },
   "outputs": [],
   "source": [
    "from glob import glob"
   ]
  },
  {
   "cell_type": "code",
   "execution_count": 7,
   "metadata": {
    "execution": {
     "iopub.execute_input": "2021-04-23T03:19:24.835080Z",
     "iopub.status.busy": "2021-04-23T03:19:24.834728Z",
     "iopub.status.idle": "2021-04-23T03:19:24.842068Z",
     "shell.execute_reply": "2021-04-23T03:19:24.841768Z"
    },
    "papermill": {
     "duration": 0.028449,
     "end_time": "2021-04-23T03:19:24.842153",
     "exception": false,
     "start_time": "2021-04-23T03:19:24.813704",
     "status": "completed"
    },
    "tags": []
   },
   "outputs": [],
   "source": [
    "spredixcan_files = list(SPREDIXCAN_H5_FOLDER.glob(\"*.h5\"))"
   ]
  },
  {
   "cell_type": "code",
   "execution_count": 8,
   "metadata": {
    "execution": {
     "iopub.execute_input": "2021-04-23T03:19:24.882940Z",
     "iopub.status.busy": "2021-04-23T03:19:24.882575Z",
     "iopub.status.idle": "2021-04-23T03:19:24.890065Z",
     "shell.execute_reply": "2021-04-23T03:19:24.890378Z"
    },
    "papermill": {
     "duration": 0.028956,
     "end_time": "2021-04-23T03:19:24.890480",
     "exception": false,
     "start_time": "2021-04-23T03:19:24.861524",
     "status": "completed"
    },
    "tags": []
   },
   "outputs": [
    {
     "data": {
      "text/plain": [
       "[PosixPath('/home/miltondp/projects/labs/greenelab/phenoplier/base/data/phenomexcan/gene_assoc/spredixcan/hdf5/spredixcan-Vagina-zscore.h5'),\n",
       " PosixPath('/home/miltondp/projects/labs/greenelab/phenoplier/base/data/phenomexcan/gene_assoc/spredixcan/hdf5/spredixcan-Ovary-zscore.h5'),\n",
       " PosixPath('/home/miltondp/projects/labs/greenelab/phenoplier/base/data/phenomexcan/gene_assoc/spredixcan/hdf5/spredixcan-Cells_Cultured_fibroblasts-zscore.h5'),\n",
       " PosixPath('/home/miltondp/projects/labs/greenelab/phenoplier/base/data/phenomexcan/gene_assoc/spredixcan/hdf5/spredixcan-Pituitary-zscore.h5'),\n",
       " PosixPath('/home/miltondp/projects/labs/greenelab/phenoplier/base/data/phenomexcan/gene_assoc/spredixcan/hdf5/spredixcan-Spleen-zscore.h5')]"
      ]
     },
     "metadata": {},
     "output_type": "display_data"
    }
   ],
   "source": [
    "display(spredixcan_files[:5])\n",
    "assert len(spredixcan_files) == 49"
   ]
  },
  {
   "cell_type": "markdown",
   "metadata": {
    "papermill": {
     "duration": 0.01886,
     "end_time": "2021-04-23T03:19:24.928861",
     "exception": false,
     "start_time": "2021-04-23T03:19:24.910001",
     "status": "completed"
    },
    "tags": []
   },
   "source": [
    "## Get tissue name from file list"
   ]
  },
  {
   "cell_type": "code",
   "execution_count": 9,
   "metadata": {
    "execution": {
     "iopub.execute_input": "2021-04-23T03:19:24.969208Z",
     "iopub.status.busy": "2021-04-23T03:19:24.968853Z",
     "iopub.status.idle": "2021-04-23T03:19:24.975804Z",
     "shell.execute_reply": "2021-04-23T03:19:24.975437Z"
    },
    "papermill": {
     "duration": 0.02822,
     "end_time": "2021-04-23T03:19:24.975888",
     "exception": false,
     "start_time": "2021-04-23T03:19:24.947668",
     "status": "completed"
    },
    "tags": []
   },
   "outputs": [],
   "source": [
    "import re"
   ]
  },
  {
   "cell_type": "code",
   "execution_count": 10,
   "metadata": {
    "execution": {
     "iopub.execute_input": "2021-04-23T03:19:25.016571Z",
     "iopub.status.busy": "2021-04-23T03:19:25.016215Z",
     "iopub.status.idle": "2021-04-23T03:19:25.023408Z",
     "shell.execute_reply": "2021-04-23T03:19:25.023043Z"
    },
    "papermill": {
     "duration": 0.02849,
     "end_time": "2021-04-23T03:19:25.023490",
     "exception": false,
     "start_time": "2021-04-23T03:19:24.995000",
     "status": "completed"
    },
    "tags": []
   },
   "outputs": [],
   "source": [
    "# some testing\n",
    "match = re.search(HDF5_FILE_PATTERN, \"spredixcan-Esophagus_Muscularis-zscore.h5\")\n",
    "assert match.group(\"tissue\") == \"Esophagus_Muscularis\"\n",
    "\n",
    "match = re.search(\n",
    "    HDF5_FILE_PATTERN, \"spredixcan-Brain_Anterior_cingulate_cortex_BA24-zscore.h5\"\n",
    ")\n",
    "assert match.group(\"tissue\") == \"Brain_Anterior_cingulate_cortex_BA24\""
   ]
  },
  {
   "cell_type": "markdown",
   "metadata": {
    "papermill": {
     "duration": 0.019608,
     "end_time": "2021-04-23T03:19:25.062918",
     "exception": false,
     "start_time": "2021-04-23T03:19:25.043310",
     "status": "completed"
    },
    "tags": []
   },
   "source": [
    "# Load S-PrediXcan results"
   ]
  },
  {
   "cell_type": "markdown",
   "metadata": {
    "papermill": {
     "duration": 0.019041,
     "end_time": "2021-04-23T03:19:25.100915",
     "exception": false,
     "start_time": "2021-04-23T03:19:25.081874",
     "status": "completed"
    },
    "tags": []
   },
   "source": [
    "## Get all PhenomeXcan trait full codes"
   ]
  },
  {
   "cell_type": "code",
   "execution_count": 11,
   "metadata": {
    "execution": {
     "iopub.execute_input": "2021-04-23T03:19:25.140976Z",
     "iopub.status.busy": "2021-04-23T03:19:25.140563Z",
     "iopub.status.idle": "2021-04-23T03:19:25.436497Z",
     "shell.execute_reply": "2021-04-23T03:19:25.436830Z"
    },
    "papermill": {
     "duration": 0.317156,
     "end_time": "2021-04-23T03:19:25.436949",
     "exception": false,
     "start_time": "2021-04-23T03:19:25.119793",
     "status": "completed"
    },
    "tags": []
   },
   "outputs": [],
   "source": [
    "from entity import Trait"
   ]
  },
  {
   "cell_type": "code",
   "execution_count": 12,
   "metadata": {
    "execution": {
     "iopub.execute_input": "2021-04-23T03:19:25.484169Z",
     "iopub.status.busy": "2021-04-23T03:19:25.483785Z",
     "iopub.status.idle": "2021-04-23T03:19:28.997836Z",
     "shell.execute_reply": "2021-04-23T03:19:28.996484Z"
    },
    "papermill": {
     "duration": 3.537499,
     "end_time": "2021-04-23T03:19:28.998167",
     "exception": false,
     "start_time": "2021-04-23T03:19:25.460668",
     "status": "completed"
    },
    "tags": []
   },
   "outputs": [],
   "source": [
    "all_phenomexcan_traits = {\n",
    "    trait_fullcode\n",
    "    for trait_fullcode in read_data(\n",
    "        conf.PHENOMEXCAN[\"SMULTIXCAN_MASHR_ZSCORES_FILE\"]\n",
    "    ).columns\n",
    "}"
   ]
  },
  {
   "cell_type": "code",
   "execution_count": 13,
   "metadata": {
    "execution": {
     "iopub.execute_input": "2021-04-23T03:19:29.057044Z",
     "iopub.status.busy": "2021-04-23T03:19:29.056646Z",
     "iopub.status.idle": "2021-04-23T03:19:29.064573Z",
     "shell.execute_reply": "2021-04-23T03:19:29.064209Z"
    },
    "papermill": {
     "duration": 0.029812,
     "end_time": "2021-04-23T03:19:29.064655",
     "exception": false,
     "start_time": "2021-04-23T03:19:29.034843",
     "status": "completed"
    },
    "tags": []
   },
   "outputs": [
    {
     "data": {
      "text/plain": [
       "4091"
      ]
     },
     "metadata": {},
     "output_type": "display_data"
    }
   ],
   "source": [
    "display(len(all_phenomexcan_traits))\n",
    "assert len(all_phenomexcan_traits) == 4091"
   ]
  },
  {
   "cell_type": "markdown",
   "metadata": {
    "papermill": {
     "duration": 0.018745,
     "end_time": "2021-04-23T03:19:29.103018",
     "exception": false,
     "start_time": "2021-04-23T03:19:29.084273",
     "status": "completed"
    },
    "tags": []
   },
   "source": [
    "## Read all results"
   ]
  },
  {
   "cell_type": "code",
   "execution_count": 14,
   "metadata": {
    "execution": {
     "iopub.execute_input": "2021-04-23T03:19:29.145542Z",
     "iopub.status.busy": "2021-04-23T03:19:29.145159Z",
     "iopub.status.idle": "2021-04-23T08:24:35.029938Z",
     "shell.execute_reply": "2021-04-23T08:24:35.029449Z"
    },
    "papermill": {
     "duration": 18305.907855,
     "end_time": "2021-04-23T08:24:35.030046",
     "exception": false,
     "start_time": "2021-04-23T03:19:29.122191",
     "status": "completed"
    },
    "tags": []
   },
   "outputs": [
    {
     "name": "stdout",
     "output_type": "stream",
     "text": [
      "0. spredixcan-Vagina-zscore.h5\n"
     ]
    },
    {
     "name": "stdout",
     "output_type": "stream",
     "text": [
      "1. spredixcan-Ovary-zscore.h5\n"
     ]
    },
    {
     "name": "stdout",
     "output_type": "stream",
     "text": [
      "2. spredixcan-Cells_Cultured_fibroblasts-zscore.h5\n"
     ]
    },
    {
     "name": "stdout",
     "output_type": "stream",
     "text": [
      "3. spredixcan-Pituitary-zscore.h5\n"
     ]
    },
    {
     "name": "stdout",
     "output_type": "stream",
     "text": [
      "4. spredixcan-Spleen-zscore.h5\n"
     ]
    },
    {
     "name": "stdout",
     "output_type": "stream",
     "text": [
      "5. spredixcan-Heart_Left_Ventricle-zscore.h5\n"
     ]
    },
    {
     "name": "stdout",
     "output_type": "stream",
     "text": [
      "6. spredixcan-Brain_Substantia_nigra-zscore.h5\n"
     ]
    },
    {
     "name": "stdout",
     "output_type": "stream",
     "text": [
      "7. spredixcan-Brain_Hypothalamus-zscore.h5\n"
     ]
    },
    {
     "name": "stdout",
     "output_type": "stream",
     "text": [
      "8. spredixcan-Artery_Coronary-zscore.h5\n"
     ]
    },
    {
     "name": "stdout",
     "output_type": "stream",
     "text": [
      "9. spredixcan-Liver-zscore.h5\n"
     ]
    },
    {
     "name": "stdout",
     "output_type": "stream",
     "text": [
      "10. spredixcan-Muscle_Skeletal-zscore.h5\n"
     ]
    },
    {
     "name": "stdout",
     "output_type": "stream",
     "text": [
      "11. spredixcan-Artery_Tibial-zscore.h5\n"
     ]
    },
    {
     "name": "stdout",
     "output_type": "stream",
     "text": [
      "12. spredixcan-Esophagus_Gastroesophageal_Junction-zscore.h5\n"
     ]
    },
    {
     "name": "stdout",
     "output_type": "stream",
     "text": [
      "13. spredixcan-Adipose_Visceral_Omentum-zscore.h5\n"
     ]
    },
    {
     "name": "stdout",
     "output_type": "stream",
     "text": [
      "14. spredixcan-Skin_Sun_Exposed_Lower_leg-zscore.h5\n"
     ]
    },
    {
     "name": "stdout",
     "output_type": "stream",
     "text": [
      "15. spredixcan-Stomach-zscore.h5\n"
     ]
    },
    {
     "name": "stdout",
     "output_type": "stream",
     "text": [
      "16. spredixcan-Brain_Spinal_cord_cervical_c-1-zscore.h5\n"
     ]
    },
    {
     "name": "stdout",
     "output_type": "stream",
     "text": [
      "17. spredixcan-Artery_Aorta-zscore.h5\n"
     ]
    },
    {
     "name": "stdout",
     "output_type": "stream",
     "text": [
      "18. spredixcan-Esophagus_Muscularis-zscore.h5\n"
     ]
    },
    {
     "name": "stdout",
     "output_type": "stream",
     "text": [
      "19. spredixcan-Esophagus_Mucosa-zscore.h5\n"
     ]
    },
    {
     "name": "stdout",
     "output_type": "stream",
     "text": [
      "20. spredixcan-Brain_Anterior_cingulate_cortex_BA24-zscore.h5\n"
     ]
    },
    {
     "name": "stdout",
     "output_type": "stream",
     "text": [
      "21. spredixcan-Brain_Cerebellar_Hemisphere-zscore.h5\n"
     ]
    },
    {
     "name": "stdout",
     "output_type": "stream",
     "text": [
      "22. spredixcan-Adipose_Subcutaneous-zscore.h5\n"
     ]
    },
    {
     "name": "stdout",
     "output_type": "stream",
     "text": [
      "23. spredixcan-Brain_Cortex-zscore.h5\n"
     ]
    },
    {
     "name": "stdout",
     "output_type": "stream",
     "text": [
      "24. spredixcan-Pancreas-zscore.h5\n"
     ]
    },
    {
     "name": "stdout",
     "output_type": "stream",
     "text": [
      "25. spredixcan-Brain_Cerebellum-zscore.h5\n"
     ]
    },
    {
     "name": "stdout",
     "output_type": "stream",
     "text": [
      "26. spredixcan-Brain_Nucleus_accumbens_basal_ganglia-zscore.h5\n"
     ]
    },
    {
     "name": "stdout",
     "output_type": "stream",
     "text": [
      "27. spredixcan-Testis-zscore.h5\n"
     ]
    },
    {
     "name": "stdout",
     "output_type": "stream",
     "text": [
      "28. spredixcan-Brain_Hippocampus-zscore.h5\n"
     ]
    },
    {
     "name": "stdout",
     "output_type": "stream",
     "text": [
      "29. spredixcan-Adrenal_Gland-zscore.h5\n"
     ]
    },
    {
     "name": "stdout",
     "output_type": "stream",
     "text": [
      "30. spredixcan-Prostate-zscore.h5\n"
     ]
    },
    {
     "name": "stdout",
     "output_type": "stream",
     "text": [
      "31. spredixcan-Brain_Frontal_Cortex_BA9-zscore.h5\n"
     ]
    },
    {
     "name": "stdout",
     "output_type": "stream",
     "text": [
      "32. spredixcan-Lung-zscore.h5\n"
     ]
    },
    {
     "name": "stdout",
     "output_type": "stream",
     "text": [
      "33. spredixcan-Whole_Blood-zscore.h5\n"
     ]
    },
    {
     "name": "stdout",
     "output_type": "stream",
     "text": [
      "34. spredixcan-Skin_Not_Sun_Exposed_Suprapubic-zscore.h5\n"
     ]
    },
    {
     "name": "stdout",
     "output_type": "stream",
     "text": [
      "35. spredixcan-Colon_Transverse-zscore.h5\n"
     ]
    },
    {
     "name": "stdout",
     "output_type": "stream",
     "text": [
      "36. spredixcan-Brain_Putamen_basal_ganglia-zscore.h5\n"
     ]
    },
    {
     "name": "stdout",
     "output_type": "stream",
     "text": [
      "37. spredixcan-Heart_Atrial_Appendage-zscore.h5\n"
     ]
    },
    {
     "name": "stdout",
     "output_type": "stream",
     "text": [
      "38. spredixcan-Uterus-zscore.h5\n"
     ]
    },
    {
     "name": "stdout",
     "output_type": "stream",
     "text": [
      "39. spredixcan-Nerve_Tibial-zscore.h5\n"
     ]
    },
    {
     "name": "stdout",
     "output_type": "stream",
     "text": [
      "40. spredixcan-Brain_Amygdala-zscore.h5\n"
     ]
    },
    {
     "name": "stdout",
     "output_type": "stream",
     "text": [
      "41. spredixcan-Breast_Mammary_Tissue-zscore.h5\n"
     ]
    },
    {
     "name": "stdout",
     "output_type": "stream",
     "text": [
      "42. spredixcan-Cells_EBV-transformed_lymphocytes-zscore.h5\n"
     ]
    },
    {
     "name": "stdout",
     "output_type": "stream",
     "text": [
      "43. spredixcan-Colon_Sigmoid-zscore.h5\n"
     ]
    },
    {
     "name": "stdout",
     "output_type": "stream",
     "text": [
      "44. spredixcan-Small_Intestine_Terminal_Ileum-zscore.h5\n"
     ]
    },
    {
     "name": "stdout",
     "output_type": "stream",
     "text": [
      "45. spredixcan-Thyroid-zscore.h5\n"
     ]
    },
    {
     "name": "stdout",
     "output_type": "stream",
     "text": [
      "46. spredixcan-Minor_Salivary_Gland-zscore.h5\n"
     ]
    },
    {
     "name": "stdout",
     "output_type": "stream",
     "text": [
      "47. spredixcan-Brain_Caudate_basal_ganglia-zscore.h5\n"
     ]
    },
    {
     "name": "stdout",
     "output_type": "stream",
     "text": [
      "48. spredixcan-Kidney_Cortex-zscore.h5\n"
     ]
    }
   ],
   "source": [
    "for f_idx, f in enumerate(spredixcan_files):\n",
    "    f_tissue = re.search(HDF5_FILE_PATTERN, f.name).group(\"tissue\")\n",
    "    print(f\"{f_idx}. {f.name}\")\n",
    "\n",
    "    with pd.HDFStore(f, mode=\"r\") as store:\n",
    "        traits_keys = list(store.keys())\n",
    "        assert len(traits_keys) == len(all_phenomexcan_traits)\n",
    "\n",
    "        store_data = {}\n",
    "\n",
    "        for trait_fullcode in all_phenomexcan_traits:\n",
    "            trait_hdf5 = simplify_trait_fullcode(trait_fullcode)\n",
    "\n",
    "            trait_data = store[trait_hdf5].rename_axis(\"gene_id\")\n",
    "\n",
    "            store_data[trait_fullcode] = trait_data\n",
    "\n",
    "        df = pd.DataFrame(store_data)\n",
    "        assert df.shape[1] == len(all_phenomexcan_traits)\n",
    "        assert df.index.is_unique\n",
    "\n",
    "        # output filename\n",
    "        output_filename_prefix = f\"spredixcan-mashr-zscores-{f_tissue}\"\n",
    "\n",
    "        # Save pickle\n",
    "        df.to_pickle(\n",
    "            Path(spredixcan_pkl_output_folder, f\"{output_filename_prefix}.pkl\")\n",
    "        )\n",
    "\n",
    "        # Save tsv\n",
    "        df.to_csv(\n",
    "            Path(spredixcan_tsv_output_folder, f\"{output_filename_prefix}.tsv.gz\"),\n",
    "            sep=\"\\t\",\n",
    "            float_format=\"%.5e\",\n",
    "        )"
   ]
  },
  {
   "cell_type": "markdown",
   "metadata": {
    "papermill": {
     "duration": 0.030059,
     "end_time": "2021-04-23T08:24:35.096196",
     "exception": false,
     "start_time": "2021-04-23T08:24:35.066137",
     "status": "completed"
    },
    "tags": []
   },
   "source": [
    "# Testing"
   ]
  },
  {
   "cell_type": "markdown",
   "metadata": {
    "papermill": {
     "duration": 0.028135,
     "end_time": "2021-04-23T08:24:35.152241",
     "exception": false,
     "start_time": "2021-04-23T08:24:35.124106",
     "status": "completed"
    },
    "tags": []
   },
   "source": [
    "## List of traits match those in S-MultiXcan"
   ]
  },
  {
   "cell_type": "code",
   "execution_count": 15,
   "metadata": {
    "execution": {
     "iopub.execute_input": "2021-04-23T08:24:35.214279Z",
     "iopub.status.busy": "2021-04-23T08:24:35.213910Z",
     "iopub.status.idle": "2021-04-23T08:24:35.225478Z",
     "shell.execute_reply": "2021-04-23T08:24:35.225769Z"
    },
    "papermill": {
     "duration": 0.04596,
     "end_time": "2021-04-23T08:24:35.225870",
     "exception": false,
     "start_time": "2021-04-23T08:24:35.179910",
     "status": "completed"
    },
    "tags": []
   },
   "outputs": [
    {
     "data": {
      "text/plain": [
       "Index(['22604_1-Work_hours_lumped_category_15_to_lessthan20_hours',\n",
       "       '22601_54342896-Job_coding_chef_cook_caterer',\n",
       "       '21001_raw-Body_mass_index_BMI',\n",
       "       '2654_6-Nonbutter_spread_type_details_Olive_oil_based_spread_eg_Bertolli',\n",
       "       '40001_C259-Underlying_primary_cause_of_death_ICD10_C259_Pancreas_unspecified',\n",
       "       '4803_11-Tinnitus_Yes_now_most_or_all_of_the_time',\n",
       "       '20090_372-Type_of_fatoil_used_in_cooking_Very_low_fat_polyunsaturated_margarine',\n",
       "       '20002_1625-Noncancer_illness_code_selfreported_cellulitis',\n",
       "       'G57-Diagnoses_main_ICD10_G57_Mononeuropathies_of_lower_limb',\n",
       "       '22601_53142540-Job_coding_heating_engineer_gas_service_engineer_air_conditioning_engineer',\n",
       "       ...\n",
       "       '6152_7-Blood_clot_DVT_bronchitis_emphysema_asthma_rhinitis_eczema_allergy_diagnosed_by_doctor_Blood_clot_in_the_lung',\n",
       "       '5101_raw-6mm_weak_meridian_angle_right',\n",
       "       '22601_41423445-Job_coding_emergency_services_control_roomradio_operatorofficer',\n",
       "       'K22-Diagnoses_main_ICD10_K22_Other_diseases_of_oesophagus',\n",
       "       '20003_1140861954-Treatmentmedication_code_fenofibrate',\n",
       "       '20003_1141188442-Treatmentmedication_code_glucosamine_product',\n",
       "       '20003_1141146428-Treatmentmedication_code_fexofenadine',\n",
       "       '22601_82122605-Job_coding_van_driver_delivery_driver_courier_driver',\n",
       "       'Astle_et_al_2016_Granulocyte_count',\n",
       "       '20003_1140883968-Treatmentmedication_code_carmellose'],\n",
       "      dtype='object', length=4091)"
      ]
     },
     "metadata": {},
     "output_type": "display_data"
    }
   ],
   "source": [
    "_phenomexcan_trait_fullcodes = pd.Index(all_phenomexcan_traits)\n",
    "display(_phenomexcan_trait_fullcodes)\n",
    "assert _phenomexcan_trait_fullcodes.is_unique"
   ]
  },
  {
   "cell_type": "markdown",
   "metadata": {
    "papermill": {
     "duration": 0.026848,
     "end_time": "2021-04-23T08:24:35.281138",
     "exception": false,
     "start_time": "2021-04-23T08:24:35.254290",
     "status": "completed"
    },
    "tags": []
   },
   "source": [
    "### pickle"
   ]
  },
  {
   "cell_type": "code",
   "execution_count": 16,
   "metadata": {
    "execution": {
     "iopub.execute_input": "2021-04-23T08:24:35.339008Z",
     "iopub.status.busy": "2021-04-23T08:24:35.338649Z",
     "iopub.status.idle": "2021-04-23T08:24:37.668708Z",
     "shell.execute_reply": "2021-04-23T08:24:37.667921Z"
    },
    "papermill": {
     "duration": 2.359798,
     "end_time": "2021-04-23T08:24:37.668827",
     "exception": false,
     "start_time": "2021-04-23T08:24:35.309029",
     "status": "completed"
    },
    "tags": []
   },
   "outputs": [],
   "source": [
    "output_filename_prefix = f\"spredixcan-mashr-zscores-Adipose_Subcutaneous\"\n",
    "filepath = Path(spredixcan_pkl_output_folder, f\"{output_filename_prefix}.pkl\")\n",
    "_spredixcan_traits = pd.read_pickle(filepath).columns"
   ]
  },
  {
   "cell_type": "code",
   "execution_count": 17,
   "metadata": {
    "execution": {
     "iopub.execute_input": "2021-04-23T08:24:37.730200Z",
     "iopub.status.busy": "2021-04-23T08:24:37.729841Z",
     "iopub.status.idle": "2021-04-23T08:24:37.738387Z",
     "shell.execute_reply": "2021-04-23T08:24:37.738016Z"
    },
    "papermill": {
     "duration": 0.038805,
     "end_time": "2021-04-23T08:24:37.738471",
     "exception": false,
     "start_time": "2021-04-23T08:24:37.699666",
     "status": "completed"
    },
    "tags": []
   },
   "outputs": [
    {
     "data": {
      "text/plain": [
       "Index(['22604_1-Work_hours_lumped_category_15_to_lessthan20_hours',\n",
       "       '22601_54342896-Job_coding_chef_cook_caterer',\n",
       "       '21001_raw-Body_mass_index_BMI',\n",
       "       '2654_6-Nonbutter_spread_type_details_Olive_oil_based_spread_eg_Bertolli',\n",
       "       '40001_C259-Underlying_primary_cause_of_death_ICD10_C259_Pancreas_unspecified',\n",
       "       '4803_11-Tinnitus_Yes_now_most_or_all_of_the_time',\n",
       "       '20090_372-Type_of_fatoil_used_in_cooking_Very_low_fat_polyunsaturated_margarine',\n",
       "       '20002_1625-Noncancer_illness_code_selfreported_cellulitis',\n",
       "       'G57-Diagnoses_main_ICD10_G57_Mononeuropathies_of_lower_limb',\n",
       "       '22601_53142540-Job_coding_heating_engineer_gas_service_engineer_air_conditioning_engineer',\n",
       "       ...\n",
       "       '6152_7-Blood_clot_DVT_bronchitis_emphysema_asthma_rhinitis_eczema_allergy_diagnosed_by_doctor_Blood_clot_in_the_lung',\n",
       "       '5101_raw-6mm_weak_meridian_angle_right',\n",
       "       '22601_41423445-Job_coding_emergency_services_control_roomradio_operatorofficer',\n",
       "       'K22-Diagnoses_main_ICD10_K22_Other_diseases_of_oesophagus',\n",
       "       '20003_1140861954-Treatmentmedication_code_fenofibrate',\n",
       "       '20003_1141188442-Treatmentmedication_code_glucosamine_product',\n",
       "       '20003_1141146428-Treatmentmedication_code_fexofenadine',\n",
       "       '22601_82122605-Job_coding_van_driver_delivery_driver_courier_driver',\n",
       "       'Astle_et_al_2016_Granulocyte_count',\n",
       "       '20003_1140883968-Treatmentmedication_code_carmellose'],\n",
       "      dtype='object', length=4091)"
      ]
     },
     "execution_count": 17,
     "metadata": {},
     "output_type": "execute_result"
    }
   ],
   "source": [
    "_spredixcan_traits"
   ]
  },
  {
   "cell_type": "code",
   "execution_count": 18,
   "metadata": {
    "execution": {
     "iopub.execute_input": "2021-04-23T08:24:37.797461Z",
     "iopub.status.busy": "2021-04-23T08:24:37.797107Z",
     "iopub.status.idle": "2021-04-23T08:24:37.805182Z",
     "shell.execute_reply": "2021-04-23T08:24:37.804819Z"
    },
    "papermill": {
     "duration": 0.037878,
     "end_time": "2021-04-23T08:24:37.805264",
     "exception": false,
     "start_time": "2021-04-23T08:24:37.767386",
     "status": "completed"
    },
    "tags": []
   },
   "outputs": [],
   "source": [
    "assert _spredixcan_traits.is_unique"
   ]
  },
  {
   "cell_type": "code",
   "execution_count": 19,
   "metadata": {
    "execution": {
     "iopub.execute_input": "2021-04-23T08:24:37.863005Z",
     "iopub.status.busy": "2021-04-23T08:24:37.862648Z",
     "iopub.status.idle": "2021-04-23T08:24:37.871467Z",
     "shell.execute_reply": "2021-04-23T08:24:37.871132Z"
    },
    "papermill": {
     "duration": 0.038632,
     "end_time": "2021-04-23T08:24:37.871550",
     "exception": false,
     "start_time": "2021-04-23T08:24:37.832918",
     "status": "completed"
    },
    "tags": []
   },
   "outputs": [
    {
     "data": {
      "text/plain": [
       "Index(['22604_1-Work_hours_lumped_category_15_to_lessthan20_hours',\n",
       "       '22601_54342896-Job_coding_chef_cook_caterer',\n",
       "       '21001_raw-Body_mass_index_BMI',\n",
       "       '2654_6-Nonbutter_spread_type_details_Olive_oil_based_spread_eg_Bertolli',\n",
       "       '40001_C259-Underlying_primary_cause_of_death_ICD10_C259_Pancreas_unspecified',\n",
       "       '4803_11-Tinnitus_Yes_now_most_or_all_of_the_time',\n",
       "       '20090_372-Type_of_fatoil_used_in_cooking_Very_low_fat_polyunsaturated_margarine',\n",
       "       '20002_1625-Noncancer_illness_code_selfreported_cellulitis',\n",
       "       'G57-Diagnoses_main_ICD10_G57_Mononeuropathies_of_lower_limb',\n",
       "       '22601_53142540-Job_coding_heating_engineer_gas_service_engineer_air_conditioning_engineer',\n",
       "       ...\n",
       "       '6152_7-Blood_clot_DVT_bronchitis_emphysema_asthma_rhinitis_eczema_allergy_diagnosed_by_doctor_Blood_clot_in_the_lung',\n",
       "       '5101_raw-6mm_weak_meridian_angle_right',\n",
       "       '22601_41423445-Job_coding_emergency_services_control_roomradio_operatorofficer',\n",
       "       'K22-Diagnoses_main_ICD10_K22_Other_diseases_of_oesophagus',\n",
       "       '20003_1140861954-Treatmentmedication_code_fenofibrate',\n",
       "       '20003_1141188442-Treatmentmedication_code_glucosamine_product',\n",
       "       '20003_1141146428-Treatmentmedication_code_fexofenadine',\n",
       "       '22601_82122605-Job_coding_van_driver_delivery_driver_courier_driver',\n",
       "       'Astle_et_al_2016_Granulocyte_count',\n",
       "       '20003_1140883968-Treatmentmedication_code_carmellose'],\n",
       "      dtype='object', length=4091)"
      ]
     },
     "metadata": {},
     "output_type": "display_data"
    }
   ],
   "source": [
    "_tmp = _phenomexcan_trait_fullcodes.intersection(_spredixcan_traits)\n",
    "display(_tmp)\n",
    "assert _tmp.shape[0] == _phenomexcan_trait_fullcodes.shape[0]"
   ]
  },
  {
   "cell_type": "markdown",
   "metadata": {
    "papermill": {
     "duration": 0.02767,
     "end_time": "2021-04-23T08:24:37.928387",
     "exception": false,
     "start_time": "2021-04-23T08:24:37.900717",
     "status": "completed"
    },
    "tags": []
   },
   "source": [
    "### tsv.gz"
   ]
  },
  {
   "cell_type": "code",
   "execution_count": 20,
   "metadata": {
    "execution": {
     "iopub.execute_input": "2021-04-23T08:24:37.986304Z",
     "iopub.status.busy": "2021-04-23T08:24:37.985945Z",
     "iopub.status.idle": "2021-04-23T08:24:54.289847Z",
     "shell.execute_reply": "2021-04-23T08:24:54.289462Z"
    },
    "papermill": {
     "duration": 16.334215,
     "end_time": "2021-04-23T08:24:54.289956",
     "exception": false,
     "start_time": "2021-04-23T08:24:37.955741",
     "status": "completed"
    },
    "tags": []
   },
   "outputs": [],
   "source": [
    "output_filename_prefix = f\"spredixcan-mashr-zscores-Adipose_Visceral_Omentum\"\n",
    "filepath = Path(spredixcan_tsv_output_folder, f\"{output_filename_prefix}.tsv.gz\")\n",
    "_spredixcan_traits = pd.read_csv(filepath, sep=\"\\t\", index_col=\"gene_id\").columns"
   ]
  },
  {
   "cell_type": "code",
   "execution_count": 21,
   "metadata": {
    "execution": {
     "iopub.execute_input": "2021-04-23T08:24:54.354896Z",
     "iopub.status.busy": "2021-04-23T08:24:54.354536Z",
     "iopub.status.idle": "2021-04-23T08:24:54.362658Z",
     "shell.execute_reply": "2021-04-23T08:24:54.362939Z"
    },
    "papermill": {
     "duration": 0.038867,
     "end_time": "2021-04-23T08:24:54.363037",
     "exception": false,
     "start_time": "2021-04-23T08:24:54.324170",
     "status": "completed"
    },
    "tags": []
   },
   "outputs": [
    {
     "data": {
      "text/plain": [
       "Index(['22604_1-Work_hours_lumped_category_15_to_lessthan20_hours',\n",
       "       '22601_54342896-Job_coding_chef_cook_caterer',\n",
       "       '21001_raw-Body_mass_index_BMI',\n",
       "       '2654_6-Nonbutter_spread_type_details_Olive_oil_based_spread_eg_Bertolli',\n",
       "       '40001_C259-Underlying_primary_cause_of_death_ICD10_C259_Pancreas_unspecified',\n",
       "       '4803_11-Tinnitus_Yes_now_most_or_all_of_the_time',\n",
       "       '20090_372-Type_of_fatoil_used_in_cooking_Very_low_fat_polyunsaturated_margarine',\n",
       "       '20002_1625-Noncancer_illness_code_selfreported_cellulitis',\n",
       "       'G57-Diagnoses_main_ICD10_G57_Mononeuropathies_of_lower_limb',\n",
       "       '22601_53142540-Job_coding_heating_engineer_gas_service_engineer_air_conditioning_engineer',\n",
       "       ...\n",
       "       '6152_7-Blood_clot_DVT_bronchitis_emphysema_asthma_rhinitis_eczema_allergy_diagnosed_by_doctor_Blood_clot_in_the_lung',\n",
       "       '5101_raw-6mm_weak_meridian_angle_right',\n",
       "       '22601_41423445-Job_coding_emergency_services_control_roomradio_operatorofficer',\n",
       "       'K22-Diagnoses_main_ICD10_K22_Other_diseases_of_oesophagus',\n",
       "       '20003_1140861954-Treatmentmedication_code_fenofibrate',\n",
       "       '20003_1141188442-Treatmentmedication_code_glucosamine_product',\n",
       "       '20003_1141146428-Treatmentmedication_code_fexofenadine',\n",
       "       '22601_82122605-Job_coding_van_driver_delivery_driver_courier_driver',\n",
       "       'Astle_et_al_2016_Granulocyte_count',\n",
       "       '20003_1140883968-Treatmentmedication_code_carmellose'],\n",
       "      dtype='object', length=4091)"
      ]
     },
     "execution_count": 21,
     "metadata": {},
     "output_type": "execute_result"
    }
   ],
   "source": [
    "_spredixcan_traits"
   ]
  },
  {
   "cell_type": "code",
   "execution_count": 22,
   "metadata": {
    "execution": {
     "iopub.execute_input": "2021-04-23T08:24:54.421370Z",
     "iopub.status.busy": "2021-04-23T08:24:54.421007Z",
     "iopub.status.idle": "2021-04-23T08:24:54.428807Z",
     "shell.execute_reply": "2021-04-23T08:24:54.428393Z"
    },
    "papermill": {
     "duration": 0.037572,
     "end_time": "2021-04-23T08:24:54.428890",
     "exception": false,
     "start_time": "2021-04-23T08:24:54.391318",
     "status": "completed"
    },
    "tags": []
   },
   "outputs": [],
   "source": [
    "assert _spredixcan_traits.is_unique"
   ]
  },
  {
   "cell_type": "code",
   "execution_count": 23,
   "metadata": {
    "execution": {
     "iopub.execute_input": "2021-04-23T08:24:54.487444Z",
     "iopub.status.busy": "2021-04-23T08:24:54.487085Z",
     "iopub.status.idle": "2021-04-23T08:24:54.496114Z",
     "shell.execute_reply": "2021-04-23T08:24:54.496393Z"
    },
    "papermill": {
     "duration": 0.039529,
     "end_time": "2021-04-23T08:24:54.496498",
     "exception": false,
     "start_time": "2021-04-23T08:24:54.456969",
     "status": "completed"
    },
    "tags": []
   },
   "outputs": [
    {
     "data": {
      "text/plain": [
       "Index(['22604_1-Work_hours_lumped_category_15_to_lessthan20_hours',\n",
       "       '22601_54342896-Job_coding_chef_cook_caterer',\n",
       "       '21001_raw-Body_mass_index_BMI',\n",
       "       '2654_6-Nonbutter_spread_type_details_Olive_oil_based_spread_eg_Bertolli',\n",
       "       '40001_C259-Underlying_primary_cause_of_death_ICD10_C259_Pancreas_unspecified',\n",
       "       '4803_11-Tinnitus_Yes_now_most_or_all_of_the_time',\n",
       "       '20090_372-Type_of_fatoil_used_in_cooking_Very_low_fat_polyunsaturated_margarine',\n",
       "       '20002_1625-Noncancer_illness_code_selfreported_cellulitis',\n",
       "       'G57-Diagnoses_main_ICD10_G57_Mononeuropathies_of_lower_limb',\n",
       "       '22601_53142540-Job_coding_heating_engineer_gas_service_engineer_air_conditioning_engineer',\n",
       "       ...\n",
       "       '6152_7-Blood_clot_DVT_bronchitis_emphysema_asthma_rhinitis_eczema_allergy_diagnosed_by_doctor_Blood_clot_in_the_lung',\n",
       "       '5101_raw-6mm_weak_meridian_angle_right',\n",
       "       '22601_41423445-Job_coding_emergency_services_control_roomradio_operatorofficer',\n",
       "       'K22-Diagnoses_main_ICD10_K22_Other_diseases_of_oesophagus',\n",
       "       '20003_1140861954-Treatmentmedication_code_fenofibrate',\n",
       "       '20003_1141188442-Treatmentmedication_code_glucosamine_product',\n",
       "       '20003_1141146428-Treatmentmedication_code_fexofenadine',\n",
       "       '22601_82122605-Job_coding_van_driver_delivery_driver_courier_driver',\n",
       "       'Astle_et_al_2016_Granulocyte_count',\n",
       "       '20003_1140883968-Treatmentmedication_code_carmellose'],\n",
       "      dtype='object', length=4091)"
      ]
     },
     "metadata": {},
     "output_type": "display_data"
    }
   ],
   "source": [
    "_tmp = _phenomexcan_trait_fullcodes.intersection(_spredixcan_traits)\n",
    "display(_tmp)\n",
    "assert _tmp.shape[0] == _phenomexcan_trait_fullcodes.shape[0]"
   ]
  },
  {
   "cell_type": "markdown",
   "metadata": {
    "papermill": {
     "duration": 0.027324,
     "end_time": "2021-04-23T08:24:54.552389",
     "exception": false,
     "start_time": "2021-04-23T08:24:54.525065",
     "status": "completed"
    },
    "tags": []
   },
   "source": [
    "## Values"
   ]
  },
  {
   "cell_type": "markdown",
   "metadata": {
    "papermill": {
     "duration": 0.027508,
     "end_time": "2021-04-23T08:24:54.607564",
     "exception": false,
     "start_time": "2021-04-23T08:24:54.580056",
     "status": "completed"
    },
    "tags": []
   },
   "source": [
    "Tests taken from: https://github.com/hakyimlab/phenomexcan/blob/master/scripts/100_postprocessing/05_spredixcan.ipynb"
   ]
  },
  {
   "cell_type": "code",
   "execution_count": 24,
   "metadata": {
    "execution": {
     "iopub.execute_input": "2021-04-23T08:24:54.666088Z",
     "iopub.status.busy": "2021-04-23T08:24:54.665724Z",
     "iopub.status.idle": "2021-04-23T08:24:54.878410Z",
     "shell.execute_reply": "2021-04-23T08:24:54.877945Z"
    },
    "papermill": {
     "duration": 0.24338,
     "end_time": "2021-04-23T08:24:54.878512",
     "exception": false,
     "start_time": "2021-04-23T08:24:54.635132",
     "status": "completed"
    },
    "tags": []
   },
   "outputs": [],
   "source": [
    "# pkl\n",
    "output_filename_prefix = f\"spredixcan-mashr-zscores-Thyroid\"\n",
    "filepath = Path(spredixcan_pkl_output_folder, f\"{output_filename_prefix}.pkl\")\n",
    "df = pd.read_pickle(filepath)[\n",
    "    \"N02-Diagnoses_main_ICD10_N02_Recurrent_and_persistent_haematuria\"\n",
    "]\n",
    "\n",
    "assert df.shape[0] == 15289\n",
    "assert df.loc[\"ENSG00000213965\"] == -3.6753054157625686\n",
    "assert pd.isnull(df.loc[\"ENSG00000198670\"])\n",
    "assert df.loc[\"ENSG00000177025\"] == 4.316259089446458"
   ]
  },
  {
   "cell_type": "code",
   "execution_count": 25,
   "metadata": {
    "execution": {
     "iopub.execute_input": "2021-04-23T08:24:54.941598Z",
     "iopub.status.busy": "2021-04-23T08:24:54.941233Z",
     "iopub.status.idle": "2021-04-23T08:25:11.600149Z",
     "shell.execute_reply": "2021-04-23T08:25:11.599765Z"
    },
    "papermill": {
     "duration": 16.689601,
     "end_time": "2021-04-23T08:25:11.600257",
     "exception": false,
     "start_time": "2021-04-23T08:24:54.910656",
     "status": "completed"
    },
    "tags": []
   },
   "outputs": [],
   "source": [
    "# tsv.gz\n",
    "output_filename_prefix = f\"spredixcan-mashr-zscores-Thyroid\"\n",
    "filepath = Path(spredixcan_tsv_output_folder, f\"{output_filename_prefix}.tsv.gz\")\n",
    "df = pd.read_csv(filepath, sep=\"\\t\", index_col=\"gene_id\")[\n",
    "    \"N02-Diagnoses_main_ICD10_N02_Recurrent_and_persistent_haematuria\"\n",
    "]\n",
    "\n",
    "assert df.shape[0] == 15289\n",
    "assert df.loc[\"ENSG00000213965\"].round(5) == -3.67531\n",
    "assert pd.isnull(df.loc[\"ENSG00000198670\"])\n",
    "assert df.loc[\"ENSG00000177025\"].round(5) == 4.31626"
   ]
  },
  {
   "cell_type": "markdown",
   "metadata": {
    "papermill": {
     "duration": 0.028047,
     "end_time": "2021-04-23T08:25:11.660322",
     "exception": false,
     "start_time": "2021-04-23T08:25:11.632275",
     "status": "completed"
    },
    "tags": []
   },
   "source": [
    "Check if small values in tsv.gz are correctly saved:"
   ]
  },
  {
   "cell_type": "code",
   "execution_count": 26,
   "metadata": {
    "execution": {
     "iopub.execute_input": "2021-04-23T08:25:11.720661Z",
     "iopub.status.busy": "2021-04-23T08:25:11.720288Z",
     "iopub.status.idle": "2021-04-23T08:25:28.054690Z",
     "shell.execute_reply": "2021-04-23T08:25:28.054256Z"
    },
    "papermill": {
     "duration": 16.365751,
     "end_time": "2021-04-23T08:25:28.054796",
     "exception": false,
     "start_time": "2021-04-23T08:25:11.689045",
     "status": "completed"
    },
    "tags": []
   },
   "outputs": [],
   "source": [
    "# tsv.gz\n",
    "output_filename_prefix = f\"spredixcan-mashr-zscores-Adipose_Subcutaneous\"\n",
    "filepath = Path(spredixcan_tsv_output_folder, f\"{output_filename_prefix}.tsv.gz\")\n",
    "df = pd.read_csv(filepath, sep=\"\\t\", index_col=\"gene_id\")\n",
    "\n",
    "assert (\n",
    "    df.loc[\n",
    "        \"ENSG00000002746\",\n",
    "        \"20003_1141153242-Treatmentmedication_code_balsalazide_disodium\",\n",
    "    ].round(5)\n",
    "    == 0.00327\n",
    ")\n",
    "assert df.loc[\"ENSG00000074706\", \"MAGNETIC_HDL.C\"] == 0.00\n",
    "assert (\n",
    "    np.format_float_scientific(\n",
    "        df.loc[\n",
    "            \"ENSG00000164112\",\n",
    "            \"N13-Diagnoses_main_ICD10_N13_Obstructive_and_reflux_uropathy\",\n",
    "        ],\n",
    "        5,\n",
    "    )\n",
    "    == \"-1.80052e-07\"\n",
    ")\n",
    "assert (\n",
    "    np.format_float_scientific(\n",
    "        df.loc[\n",
    "            \"ENSG00000257467\",\n",
    "            \"20411_0-Ever_been_injured_or_injured_someone_else_through_drinking_alcohol_No\",\n",
    "        ],\n",
    "        5,\n",
    "    )\n",
    "    == \"-3.89826e-09\"\n",
    ")"
   ]
  },
  {
   "cell_type": "markdown",
   "metadata": {
    "papermill": {
     "duration": 0.027918,
     "end_time": "2021-04-23T08:25:28.121294",
     "exception": false,
     "start_time": "2021-04-23T08:25:28.093376",
     "status": "completed"
    },
    "tags": []
   },
   "source": [
    "More tests taken from the webapp:"
   ]
  },
  {
   "cell_type": "markdown",
   "metadata": {
    "papermill": {
     "duration": 0.027701,
     "end_time": "2021-04-23T08:25:28.176552",
     "exception": false,
     "start_time": "2021-04-23T08:25:28.148851",
     "status": "completed"
    },
    "tags": []
   },
   "source": [
    "Standing height"
   ]
  },
  {
   "cell_type": "code",
   "execution_count": 27,
   "metadata": {
    "execution": {
     "iopub.execute_input": "2021-04-23T08:25:28.234249Z",
     "iopub.status.busy": "2021-04-23T08:25:28.233892Z",
     "iopub.status.idle": "2021-04-23T08:25:28.402636Z",
     "shell.execute_reply": "2021-04-23T08:25:28.403007Z"
    },
    "papermill": {
     "duration": 0.199171,
     "end_time": "2021-04-23T08:25:28.403131",
     "exception": false,
     "start_time": "2021-04-23T08:25:28.203960",
     "status": "completed"
    },
    "tags": []
   },
   "outputs": [],
   "source": [
    "output_filename_prefix = f\"spredixcan-mashr-zscores-Whole_Blood\"\n",
    "filepath = Path(spredixcan_pkl_output_folder, f\"{output_filename_prefix}.pkl\")\n",
    "_tmp = pd.read_pickle(filepath)[\"50_raw-Standing_height\"]\n",
    "assert _tmp.shape == (12610,)"
   ]
  },
  {
   "cell_type": "code",
   "execution_count": 28,
   "metadata": {
    "execution": {
     "iopub.execute_input": "2021-04-23T08:25:28.465668Z",
     "iopub.status.busy": "2021-04-23T08:25:28.465299Z",
     "iopub.status.idle": "2021-04-23T08:25:28.474539Z",
     "shell.execute_reply": "2021-04-23T08:25:28.474166Z"
    },
    "papermill": {
     "duration": 0.039071,
     "end_time": "2021-04-23T08:25:28.474622",
     "exception": false,
     "start_time": "2021-04-23T08:25:28.435551",
     "status": "completed"
    },
    "tags": []
   },
   "outputs": [],
   "source": [
    "assert _tmp.loc[\"ENSG00000101019\"].round(3) == -34.024"
   ]
  },
  {
   "cell_type": "code",
   "execution_count": 29,
   "metadata": {
    "execution": {
     "iopub.execute_input": "2021-04-23T08:25:28.533601Z",
     "iopub.status.busy": "2021-04-23T08:25:28.533239Z",
     "iopub.status.idle": "2021-04-23T08:25:28.540078Z",
     "shell.execute_reply": "2021-04-23T08:25:28.540365Z"
    },
    "papermill": {
     "duration": 0.037342,
     "end_time": "2021-04-23T08:25:28.540467",
     "exception": false,
     "start_time": "2021-04-23T08:25:28.503125",
     "status": "completed"
    },
    "tags": []
   },
   "outputs": [],
   "source": [
    "assert _tmp.loc[\"ENSG00000109805\"].round(3) == -22.855"
   ]
  },
  {
   "cell_type": "code",
   "execution_count": 30,
   "metadata": {
    "execution": {
     "iopub.execute_input": "2021-04-23T08:25:28.599355Z",
     "iopub.status.busy": "2021-04-23T08:25:28.598988Z",
     "iopub.status.idle": "2021-04-23T08:25:28.606389Z",
     "shell.execute_reply": "2021-04-23T08:25:28.606038Z"
    },
    "papermill": {
     "duration": 0.037507,
     "end_time": "2021-04-23T08:25:28.606469",
     "exception": false,
     "start_time": "2021-04-23T08:25:28.568962",
     "status": "completed"
    },
    "tags": []
   },
   "outputs": [],
   "source": [
    "assert _tmp.loc[\"ENSG00000177311\"].round(3) == 33.819"
   ]
  },
  {
   "cell_type": "code",
   "execution_count": 31,
   "metadata": {
    "execution": {
     "iopub.execute_input": "2021-04-23T08:25:28.664922Z",
     "iopub.status.busy": "2021-04-23T08:25:28.664480Z",
     "iopub.status.idle": "2021-04-23T08:25:42.474817Z",
     "shell.execute_reply": "2021-04-23T08:25:42.475170Z"
    },
    "papermill": {
     "duration": 13.840854,
     "end_time": "2021-04-23T08:25:42.475301",
     "exception": false,
     "start_time": "2021-04-23T08:25:28.634447",
     "status": "completed"
    },
    "tags": []
   },
   "outputs": [],
   "source": [
    "output_filename_prefix = f\"spredixcan-mashr-zscores-Whole_Blood\"\n",
    "filepath = Path(spredixcan_tsv_output_folder, f\"{output_filename_prefix}.tsv.gz\")\n",
    "_tmp = pd.read_csv(filepath, sep=\"\\t\", index_col=\"gene_id\")[\"50_raw-Standing_height\"]\n",
    "assert _tmp.shape == (12610,)"
   ]
  },
  {
   "cell_type": "code",
   "execution_count": 32,
   "metadata": {
    "execution": {
     "iopub.execute_input": "2021-04-23T08:25:42.538560Z",
     "iopub.status.busy": "2021-04-23T08:25:42.538206Z",
     "iopub.status.idle": "2021-04-23T08:25:42.546706Z",
     "shell.execute_reply": "2021-04-23T08:25:42.546332Z"
    },
    "papermill": {
     "duration": 0.038931,
     "end_time": "2021-04-23T08:25:42.546791",
     "exception": false,
     "start_time": "2021-04-23T08:25:42.507860",
     "status": "completed"
    },
    "tags": []
   },
   "outputs": [],
   "source": [
    "assert _tmp.loc[\"ENSG00000101019\"].round(3) == -34.024"
   ]
  },
  {
   "cell_type": "code",
   "execution_count": 33,
   "metadata": {
    "execution": {
     "iopub.execute_input": "2021-04-23T08:25:42.605555Z",
     "iopub.status.busy": "2021-04-23T08:25:42.605186Z",
     "iopub.status.idle": "2021-04-23T08:25:42.612871Z",
     "shell.execute_reply": "2021-04-23T08:25:42.612465Z"
    },
    "papermill": {
     "duration": 0.037849,
     "end_time": "2021-04-23T08:25:42.612953",
     "exception": false,
     "start_time": "2021-04-23T08:25:42.575104",
     "status": "completed"
    },
    "tags": []
   },
   "outputs": [],
   "source": [
    "assert _tmp.loc[\"ENSG00000109805\"].round(3) == -22.855"
   ]
  },
  {
   "cell_type": "code",
   "execution_count": 34,
   "metadata": {
    "execution": {
     "iopub.execute_input": "2021-04-23T08:25:42.671838Z",
     "iopub.status.busy": "2021-04-23T08:25:42.671480Z",
     "iopub.status.idle": "2021-04-23T08:25:42.679066Z",
     "shell.execute_reply": "2021-04-23T08:25:42.678711Z"
    },
    "papermill": {
     "duration": 0.037922,
     "end_time": "2021-04-23T08:25:42.679148",
     "exception": false,
     "start_time": "2021-04-23T08:25:42.641226",
     "status": "completed"
    },
    "tags": []
   },
   "outputs": [],
   "source": [
    "assert _tmp.loc[\"ENSG00000177311\"].round(3) == 33.819"
   ]
  },
  {
   "cell_type": "markdown",
   "metadata": {
    "papermill": {
     "duration": 0.027489,
     "end_time": "2021-04-23T08:25:42.734860",
     "exception": false,
     "start_time": "2021-04-23T08:25:42.707371",
     "status": "completed"
    },
    "tags": []
   },
   "source": [
    "Schizophrenia"
   ]
  },
  {
   "cell_type": "code",
   "execution_count": 35,
   "metadata": {
    "execution": {
     "iopub.execute_input": "2021-04-23T08:25:42.795055Z",
     "iopub.status.busy": "2021-04-23T08:25:42.794697Z",
     "iopub.status.idle": "2021-04-23T08:25:42.966673Z",
     "shell.execute_reply": "2021-04-23T08:25:42.966983Z"
    },
    "papermill": {
     "duration": 0.203188,
     "end_time": "2021-04-23T08:25:42.967111",
     "exception": false,
     "start_time": "2021-04-23T08:25:42.763923",
     "status": "completed"
    },
    "tags": []
   },
   "outputs": [],
   "source": [
    "output_filename_prefix = f\"spredixcan-mashr-zscores-Prostate\"\n",
    "filepath = Path(spredixcan_pkl_output_folder, f\"{output_filename_prefix}.pkl\")\n",
    "_tmp = pd.read_pickle(filepath)[\"pgc.scz2\"]"
   ]
  },
  {
   "cell_type": "code",
   "execution_count": 36,
   "metadata": {
    "execution": {
     "iopub.execute_input": "2021-04-23T08:25:43.028948Z",
     "iopub.status.busy": "2021-04-23T08:25:43.028520Z",
     "iopub.status.idle": "2021-04-23T08:25:43.037643Z",
     "shell.execute_reply": "2021-04-23T08:25:43.037334Z"
    },
    "papermill": {
     "duration": 0.039983,
     "end_time": "2021-04-23T08:25:43.037731",
     "exception": false,
     "start_time": "2021-04-23T08:25:42.997748",
     "status": "completed"
    },
    "tags": []
   },
   "outputs": [],
   "source": [
    "assert _tmp.loc[\"ENSG00000233822\"].round(3) == 10.752"
   ]
  },
  {
   "cell_type": "code",
   "execution_count": 37,
   "metadata": {
    "execution": {
     "iopub.execute_input": "2021-04-23T08:25:43.098448Z",
     "iopub.status.busy": "2021-04-23T08:25:43.098092Z",
     "iopub.status.idle": "2021-04-23T08:25:43.105285Z",
     "shell.execute_reply": "2021-04-23T08:25:43.105558Z"
    },
    "papermill": {
     "duration": 0.038271,
     "end_time": "2021-04-23T08:25:43.105661",
     "exception": false,
     "start_time": "2021-04-23T08:25:43.067390",
     "status": "completed"
    },
    "tags": []
   },
   "outputs": [],
   "source": [
    "assert _tmp.loc[\"ENSG00000137312\"].round(3) == -8.827"
   ]
  },
  {
   "cell_type": "code",
   "execution_count": 38,
   "metadata": {
    "execution": {
     "iopub.execute_input": "2021-04-23T08:25:43.165562Z",
     "iopub.status.busy": "2021-04-23T08:25:43.165197Z",
     "iopub.status.idle": "2021-04-23T08:25:43.172103Z",
     "shell.execute_reply": "2021-04-23T08:25:43.172392Z"
    },
    "papermill": {
     "duration": 0.037969,
     "end_time": "2021-04-23T08:25:43.172492",
     "exception": false,
     "start_time": "2021-04-23T08:25:43.134523",
     "status": "completed"
    },
    "tags": []
   },
   "outputs": [],
   "source": [
    "assert _tmp.loc[\"ENSG00000204257\"].round(3) == -7.965"
   ]
  },
  {
   "cell_type": "code",
   "execution_count": 39,
   "metadata": {
    "execution": {
     "iopub.execute_input": "2021-04-23T08:25:43.233111Z",
     "iopub.status.busy": "2021-04-23T08:25:43.232724Z",
     "iopub.status.idle": "2021-04-23T08:25:58.994438Z",
     "shell.execute_reply": "2021-04-23T08:25:58.994053Z"
    },
    "papermill": {
     "duration": 15.793113,
     "end_time": "2021-04-23T08:25:58.994545",
     "exception": false,
     "start_time": "2021-04-23T08:25:43.201432",
     "status": "completed"
    },
    "tags": []
   },
   "outputs": [],
   "source": [
    "output_filename_prefix = f\"spredixcan-mashr-zscores-Prostate\"\n",
    "filepath = Path(spredixcan_tsv_output_folder, f\"{output_filename_prefix}.tsv.gz\")\n",
    "_tmp = pd.read_csv(filepath, sep=\"\\t\", index_col=\"gene_id\")[\"pgc.scz2\"]"
   ]
  },
  {
   "cell_type": "code",
   "execution_count": 40,
   "metadata": {
    "execution": {
     "iopub.execute_input": "2021-04-23T08:25:59.057511Z",
     "iopub.status.busy": "2021-04-23T08:25:59.057155Z",
     "iopub.status.idle": "2021-04-23T08:25:59.066106Z",
     "shell.execute_reply": "2021-04-23T08:25:59.065725Z"
    },
    "papermill": {
     "duration": 0.039145,
     "end_time": "2021-04-23T08:25:59.066187",
     "exception": false,
     "start_time": "2021-04-23T08:25:59.027042",
     "status": "completed"
    },
    "tags": []
   },
   "outputs": [],
   "source": [
    "assert _tmp.loc[\"ENSG00000233822\"].round(3) == 10.752"
   ]
  },
  {
   "cell_type": "code",
   "execution_count": 41,
   "metadata": {
    "execution": {
     "iopub.execute_input": "2021-04-23T08:25:59.138394Z",
     "iopub.status.busy": "2021-04-23T08:25:59.138028Z",
     "iopub.status.idle": "2021-04-23T08:25:59.145911Z",
     "shell.execute_reply": "2021-04-23T08:25:59.145538Z"
    },
    "papermill": {
     "duration": 0.039253,
     "end_time": "2021-04-23T08:25:59.145996",
     "exception": false,
     "start_time": "2021-04-23T08:25:59.106743",
     "status": "completed"
    },
    "tags": []
   },
   "outputs": [],
   "source": [
    "assert _tmp.loc[\"ENSG00000137312\"].round(3) == -8.827"
   ]
  },
  {
   "cell_type": "code",
   "execution_count": 42,
   "metadata": {
    "execution": {
     "iopub.execute_input": "2021-04-23T08:25:59.205509Z",
     "iopub.status.busy": "2021-04-23T08:25:59.205149Z",
     "iopub.status.idle": "2021-04-23T08:25:59.212489Z",
     "shell.execute_reply": "2021-04-23T08:25:59.212128Z"
    },
    "papermill": {
     "duration": 0.037367,
     "end_time": "2021-04-23T08:25:59.212573",
     "exception": false,
     "start_time": "2021-04-23T08:25:59.175206",
     "status": "completed"
    },
    "tags": []
   },
   "outputs": [],
   "source": [
    "assert _tmp.loc[\"ENSG00000204257\"].round(3) == -7.965"
   ]
  },
  {
   "cell_type": "code",
   "execution_count": null,
   "metadata": {
    "papermill": {
     "duration": 0.027461,
     "end_time": "2021-04-23T08:25:59.268494",
     "exception": false,
     "start_time": "2021-04-23T08:25:59.241033",
     "status": "completed"
    },
    "tags": []
   },
   "outputs": [],
   "source": []
  }
 ],
 "metadata": {
  "jupytext": {
   "cell_metadata_filter": "all,-execution,-trusted",
   "formats": "ipynb,py//py:percent"
  },
  "kernelspec": {
   "display_name": "Python 3",
   "language": "python",
   "name": "python3"
  },
  "language_info": {
   "codemirror_mode": {
    "name": "ipython",
    "version": 3
   },
   "file_extension": ".py",
   "mimetype": "text/x-python",
   "name": "python",
   "nbconvert_exporter": "python",
   "pygments_lexer": "ipython3",
   "version": "3.8.8"
  },
  "papermill": {
   "default_parameters": {},
   "duration": 18397.44879,
   "end_time": "2021-04-23T08:26:00.405191",
   "environment_variables": {},
   "exception": null,
   "input_path": "01_preprocessing/020-spredixcan_convert_hdf5.ipynb",
   "output_path": "01_preprocessing/020-spredixcan_convert_hdf5.run.ipynb",
   "parameters": {},
   "start_time": "2021-04-23T03:19:22.956401",
   "version": "2.2.2"
  }
 },
 "nbformat": 4,
 "nbformat_minor": 4
}
