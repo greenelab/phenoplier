{
 "cells": [
  {
   "cell_type": "markdown",
   "metadata": {
    "papermill": {
     "duration": 0.090218,
     "end_time": "2020-12-18T23:50:38.326556",
     "exception": false,
     "start_time": "2020-12-18T23:50:38.236338",
     "status": "completed"
    },
    "tags": []
   },
   "source": [
    "# Description"
   ]
  },
  {
   "cell_type": "markdown",
   "metadata": {
    "papermill": {
     "duration": 0.050521,
     "end_time": "2020-12-18T23:50:38.468335",
     "exception": false,
     "start_time": "2020-12-18T23:50:38.417814",
     "status": "completed"
    },
    "tags": []
   },
   "source": [
    "This notebook reads .h5 files generated in PhenomeXcan by [this notebook](https://github.com/hakyimlab/phenomexcan/blob/master/scripts/100_postprocessing/05_spredixcan.ipynb), and saves one file per tissue with the results in pandas DataFrame format (genes in rows, traits in columns). It saves these in two formats: pickle and tsv.gz\n",
    "\n",
    "The notebook will generate two other folders in the parent of `SPREDIXCAN_H5_FOLDER`: `pkl` and `tsv`\n",
    "\n",
    "**The idea** is to have the data in a friendly format."
   ]
  },
  {
   "cell_type": "markdown",
   "metadata": {
    "papermill": {
     "duration": 0.016094,
     "end_time": "2020-12-18T23:50:38.502287",
     "exception": false,
     "start_time": "2020-12-18T23:50:38.486193",
     "status": "completed"
    },
    "tags": []
   },
   "source": [
    "# Modules loading"
   ]
  },
  {
   "cell_type": "code",
   "execution_count": 1,
   "metadata": {
    "execution": {
     "iopub.execute_input": "2020-12-18T23:50:38.537534Z",
     "iopub.status.busy": "2020-12-18T23:50:38.537141Z",
     "iopub.status.idle": "2020-12-18T23:50:38.544797Z",
     "shell.execute_reply": "2020-12-18T23:50:38.544378Z"
    },
    "papermill": {
     "duration": 0.026911,
     "end_time": "2020-12-18T23:50:38.544923",
     "exception": false,
     "start_time": "2020-12-18T23:50:38.518012",
     "status": "completed"
    },
    "tags": []
   },
   "outputs": [],
   "source": [
    "%load_ext autoreload\n",
    "%autoreload 2"
   ]
  },
  {
   "cell_type": "code",
   "execution_count": 2,
   "metadata": {
    "execution": {
     "iopub.execute_input": "2020-12-18T23:50:38.581243Z",
     "iopub.status.busy": "2020-12-18T23:50:38.580871Z",
     "iopub.status.idle": "2020-12-18T23:50:38.768342Z",
     "shell.execute_reply": "2020-12-18T23:50:38.768006Z"
    },
    "papermill": {
     "duration": 0.206677,
     "end_time": "2020-12-18T23:50:38.768435",
     "exception": false,
     "start_time": "2020-12-18T23:50:38.561758",
     "status": "completed"
    },
    "tags": []
   },
   "outputs": [],
   "source": [
    "from pathlib import Path\n",
    "\n",
    "import numpy as np\n",
    "import pandas as pd\n",
    "\n",
    "import conf\n",
    "from data.cache import read_data\n",
    "from data.hdf5 import simplify_trait_fullcode, HDF5_FILE_PATTERN"
   ]
  },
  {
   "cell_type": "markdown",
   "metadata": {
    "papermill": {
     "duration": 0.016582,
     "end_time": "2020-12-18T23:50:38.802319",
     "exception": false,
     "start_time": "2020-12-18T23:50:38.785737",
     "status": "completed"
    },
    "tags": []
   },
   "source": [
    "# Settings"
   ]
  },
  {
   "cell_type": "code",
   "execution_count": 3,
   "metadata": {
    "execution": {
     "iopub.execute_input": "2020-12-18T23:50:38.837372Z",
     "iopub.status.busy": "2020-12-18T23:50:38.836990Z",
     "iopub.status.idle": "2020-12-18T23:50:38.849795Z",
     "shell.execute_reply": "2020-12-18T23:50:38.849441Z"
    },
    "papermill": {
     "duration": 0.031439,
     "end_time": "2020-12-18T23:50:38.849882",
     "exception": false,
     "start_time": "2020-12-18T23:50:38.818443",
     "status": "completed"
    },
    "tags": []
   },
   "outputs": [
    {
     "data": {
      "text/plain": [
       "PosixPath('/home/miltondp/projects/labs/greenelab/phenoplier/base/data/phenomexcan/gene_assoc/spredixcan/hdf5')"
      ]
     },
     "metadata": {},
     "output_type": "display_data"
    }
   ],
   "source": [
    "SPREDIXCAN_H5_FOLDER = Path(\n",
    "    conf.PHENOMEXCAN[\"SPREDIXCAN_MASHR_ZSCORES_FOLDER\"],\n",
    "    \"hdf5\",\n",
    ")\n",
    "display(SPREDIXCAN_H5_FOLDER)\n",
    "assert SPREDIXCAN_H5_FOLDER.is_dir(), \"The folder does not exist\""
   ]
  },
  {
   "cell_type": "code",
   "execution_count": 4,
   "metadata": {
    "execution": {
     "iopub.execute_input": "2020-12-18T23:50:38.891134Z",
     "iopub.status.busy": "2020-12-18T23:50:38.890769Z",
     "iopub.status.idle": "2020-12-18T23:50:38.899126Z",
     "shell.execute_reply": "2020-12-18T23:50:38.898743Z"
    },
    "papermill": {
     "duration": 0.027386,
     "end_time": "2020-12-18T23:50:38.899215",
     "exception": false,
     "start_time": "2020-12-18T23:50:38.871829",
     "status": "completed"
    },
    "tags": []
   },
   "outputs": [
    {
     "data": {
      "text/plain": [
       "PosixPath('/home/miltondp/projects/labs/greenelab/phenoplier/base/data/phenomexcan/gene_assoc/spredixcan/pkl')"
      ]
     },
     "metadata": {},
     "output_type": "display_data"
    }
   ],
   "source": [
    "spredixcan_pkl_output_folder = Path(SPREDIXCAN_H5_FOLDER.parent, \"pkl\").resolve()\n",
    "spredixcan_pkl_output_folder.mkdir(exist_ok=True)\n",
    "display(spredixcan_pkl_output_folder)"
   ]
  },
  {
   "cell_type": "code",
   "execution_count": 5,
   "metadata": {
    "execution": {
     "iopub.execute_input": "2020-12-18T23:50:38.935240Z",
     "iopub.status.busy": "2020-12-18T23:50:38.934876Z",
     "iopub.status.idle": "2020-12-18T23:50:38.942537Z",
     "shell.execute_reply": "2020-12-18T23:50:38.942814Z"
    },
    "papermill": {
     "duration": 0.026616,
     "end_time": "2020-12-18T23:50:38.942918",
     "exception": false,
     "start_time": "2020-12-18T23:50:38.916302",
     "status": "completed"
    },
    "tags": []
   },
   "outputs": [
    {
     "data": {
      "text/plain": [
       "PosixPath('/home/miltondp/projects/labs/greenelab/phenoplier/base/data/phenomexcan/gene_assoc/spredixcan/tsv')"
      ]
     },
     "metadata": {},
     "output_type": "display_data"
    }
   ],
   "source": [
    "spredixcan_tsv_output_folder = Path(SPREDIXCAN_H5_FOLDER.parent, \"tsv\").resolve()\n",
    "spredixcan_tsv_output_folder.mkdir(exist_ok=True)\n",
    "display(spredixcan_tsv_output_folder)"
   ]
  },
  {
   "cell_type": "markdown",
   "metadata": {
    "papermill": {
     "duration": 0.017139,
     "end_time": "2020-12-18T23:50:38.977602",
     "exception": false,
     "start_time": "2020-12-18T23:50:38.960463",
     "status": "completed"
    },
    "tags": []
   },
   "source": [
    "# Read S-PrediXcan results"
   ]
  },
  {
   "cell_type": "markdown",
   "metadata": {
    "papermill": {
     "duration": 0.016849,
     "end_time": "2020-12-18T23:50:39.011504",
     "exception": false,
     "start_time": "2020-12-18T23:50:38.994655",
     "status": "completed"
    },
    "tags": []
   },
   "source": [
    "## Get list of files"
   ]
  },
  {
   "cell_type": "code",
   "execution_count": 6,
   "metadata": {
    "execution": {
     "iopub.execute_input": "2020-12-18T23:50:39.047913Z",
     "iopub.status.busy": "2020-12-18T23:50:39.047540Z",
     "iopub.status.idle": "2020-12-18T23:50:39.054753Z",
     "shell.execute_reply": "2020-12-18T23:50:39.054380Z"
    },
    "papermill": {
     "duration": 0.026479,
     "end_time": "2020-12-18T23:50:39.054839",
     "exception": false,
     "start_time": "2020-12-18T23:50:39.028360",
     "status": "completed"
    },
    "tags": []
   },
   "outputs": [],
   "source": [
    "from glob import glob"
   ]
  },
  {
   "cell_type": "code",
   "execution_count": 7,
   "metadata": {
    "execution": {
     "iopub.execute_input": "2020-12-18T23:50:39.092012Z",
     "iopub.status.busy": "2020-12-18T23:50:39.091634Z",
     "iopub.status.idle": "2020-12-18T23:50:39.099075Z",
     "shell.execute_reply": "2020-12-18T23:50:39.098690Z"
    },
    "papermill": {
     "duration": 0.026833,
     "end_time": "2020-12-18T23:50:39.099161",
     "exception": false,
     "start_time": "2020-12-18T23:50:39.072328",
     "status": "completed"
    },
    "tags": []
   },
   "outputs": [],
   "source": [
    "spredixcan_files = list(SPREDIXCAN_H5_FOLDER.glob(\"*.h5\"))"
   ]
  },
  {
   "cell_type": "code",
   "execution_count": 8,
   "metadata": {
    "execution": {
     "iopub.execute_input": "2020-12-18T23:50:39.137384Z",
     "iopub.status.busy": "2020-12-18T23:50:39.137012Z",
     "iopub.status.idle": "2020-12-18T23:50:39.145271Z",
     "shell.execute_reply": "2020-12-18T23:50:39.144876Z"
    },
    "papermill": {
     "duration": 0.028272,
     "end_time": "2020-12-18T23:50:39.145360",
     "exception": false,
     "start_time": "2020-12-18T23:50:39.117088",
     "status": "completed"
    },
    "tags": []
   },
   "outputs": [
    {
     "data": {
      "text/plain": [
       "[PosixPath('/home/miltondp/projects/labs/greenelab/phenoplier/base/data/phenomexcan/gene_assoc/spredixcan/hdf5/spredixcan-Vagina-zscore.h5'),\n",
       " PosixPath('/home/miltondp/projects/labs/greenelab/phenoplier/base/data/phenomexcan/gene_assoc/spredixcan/hdf5/spredixcan-Ovary-zscore.h5'),\n",
       " PosixPath('/home/miltondp/projects/labs/greenelab/phenoplier/base/data/phenomexcan/gene_assoc/spredixcan/hdf5/spredixcan-Cells_Cultured_fibroblasts-zscore.h5'),\n",
       " PosixPath('/home/miltondp/projects/labs/greenelab/phenoplier/base/data/phenomexcan/gene_assoc/spredixcan/hdf5/spredixcan-Pituitary-zscore.h5'),\n",
       " PosixPath('/home/miltondp/projects/labs/greenelab/phenoplier/base/data/phenomexcan/gene_assoc/spredixcan/hdf5/spredixcan-Spleen-zscore.h5')]"
      ]
     },
     "metadata": {},
     "output_type": "display_data"
    }
   ],
   "source": [
    "display(spredixcan_files[:5])\n",
    "assert len(spredixcan_files) == 49"
   ]
  },
  {
   "cell_type": "markdown",
   "metadata": {
    "papermill": {
     "duration": 0.017986,
     "end_time": "2020-12-18T23:50:39.182462",
     "exception": false,
     "start_time": "2020-12-18T23:50:39.164476",
     "status": "completed"
    },
    "tags": []
   },
   "source": [
    "## Get tissue name from file list"
   ]
  },
  {
   "cell_type": "code",
   "execution_count": 9,
   "metadata": {
    "execution": {
     "iopub.execute_input": "2020-12-18T23:50:39.219866Z",
     "iopub.status.busy": "2020-12-18T23:50:39.219494Z",
     "iopub.status.idle": "2020-12-18T23:50:39.226786Z",
     "shell.execute_reply": "2020-12-18T23:50:39.226420Z"
    },
    "papermill": {
     "duration": 0.026917,
     "end_time": "2020-12-18T23:50:39.226872",
     "exception": false,
     "start_time": "2020-12-18T23:50:39.199955",
     "status": "completed"
    },
    "tags": []
   },
   "outputs": [],
   "source": [
    "import re"
   ]
  },
  {
   "cell_type": "code",
   "execution_count": 10,
   "metadata": {
    "execution": {
     "iopub.execute_input": "2020-12-18T23:50:39.265299Z",
     "iopub.status.busy": "2020-12-18T23:50:39.264908Z",
     "iopub.status.idle": "2020-12-18T23:50:39.272391Z",
     "shell.execute_reply": "2020-12-18T23:50:39.272009Z"
    },
    "papermill": {
     "duration": 0.027491,
     "end_time": "2020-12-18T23:50:39.272478",
     "exception": false,
     "start_time": "2020-12-18T23:50:39.244987",
     "status": "completed"
    },
    "tags": []
   },
   "outputs": [],
   "source": [
    "# some testing\n",
    "match = re.search(HDF5_FILE_PATTERN, \"spredixcan-Esophagus_Muscularis-zscore.h5\")\n",
    "assert match.group(\"tissue\") == \"Esophagus_Muscularis\"\n",
    "\n",
    "match = re.search(\n",
    "    HDF5_FILE_PATTERN, \"spredixcan-Brain_Anterior_cingulate_cortex_BA24-zscore.h5\"\n",
    ")\n",
    "assert match.group(\"tissue\") == \"Brain_Anterior_cingulate_cortex_BA24\""
   ]
  },
  {
   "cell_type": "markdown",
   "metadata": {
    "papermill": {
     "duration": 0.017957,
     "end_time": "2020-12-18T23:50:39.308937",
     "exception": false,
     "start_time": "2020-12-18T23:50:39.290980",
     "status": "completed"
    },
    "tags": []
   },
   "source": [
    "# Load S-PrediXcan results"
   ]
  },
  {
   "cell_type": "markdown",
   "metadata": {
    "papermill": {
     "duration": 0.017422,
     "end_time": "2020-12-18T23:50:39.343651",
     "exception": false,
     "start_time": "2020-12-18T23:50:39.326229",
     "status": "completed"
    },
    "tags": []
   },
   "source": [
    "## Get all PhenomeXcan trait full codes"
   ]
  },
  {
   "cell_type": "code",
   "execution_count": 11,
   "metadata": {
    "execution": {
     "iopub.execute_input": "2020-12-18T23:50:39.381059Z",
     "iopub.status.busy": "2020-12-18T23:50:39.380630Z",
     "iopub.status.idle": "2020-12-18T23:50:39.565600Z",
     "shell.execute_reply": "2020-12-18T23:50:39.565920Z"
    },
    "papermill": {
     "duration": 0.204969,
     "end_time": "2020-12-18T23:50:39.566040",
     "exception": false,
     "start_time": "2020-12-18T23:50:39.361071",
     "status": "completed"
    },
    "tags": []
   },
   "outputs": [],
   "source": [
    "from entity import Trait"
   ]
  },
  {
   "cell_type": "code",
   "execution_count": 12,
   "metadata": {
    "execution": {
     "iopub.execute_input": "2020-12-18T23:50:39.605755Z",
     "iopub.status.busy": "2020-12-18T23:50:39.605387Z",
     "iopub.status.idle": "2020-12-18T23:50:39.919361Z",
     "shell.execute_reply": "2020-12-18T23:50:39.918940Z"
    },
    "papermill": {
     "duration": 0.33429,
     "end_time": "2020-12-18T23:50:39.919472",
     "exception": false,
     "start_time": "2020-12-18T23:50:39.585182",
     "status": "completed"
    },
    "tags": []
   },
   "outputs": [],
   "source": [
    "all_phenomexcan_traits = {\n",
    "    trait_fullcode\n",
    "    for trait_fullcode in read_data(\n",
    "        conf.PHENOMEXCAN[\"SMULTIXCAN_MASHR_ZSCORES_FILE\"]\n",
    "    ).columns\n",
    "}"
   ]
  },
  {
   "cell_type": "code",
   "execution_count": 13,
   "metadata": {
    "execution": {
     "iopub.execute_input": "2020-12-18T23:50:39.961596Z",
     "iopub.status.busy": "2020-12-18T23:50:39.961228Z",
     "iopub.status.idle": "2020-12-18T23:50:39.969227Z",
     "shell.execute_reply": "2020-12-18T23:50:39.968880Z"
    },
    "papermill": {
     "duration": 0.028867,
     "end_time": "2020-12-18T23:50:39.969314",
     "exception": false,
     "start_time": "2020-12-18T23:50:39.940447",
     "status": "completed"
    },
    "tags": []
   },
   "outputs": [
    {
     "data": {
      "text/plain": [
       "4091"
      ]
     },
     "metadata": {},
     "output_type": "display_data"
    }
   ],
   "source": [
    "display(len(all_phenomexcan_traits))\n",
    "assert len(all_phenomexcan_traits) == 4091"
   ]
  },
  {
   "cell_type": "markdown",
   "metadata": {
    "papermill": {
     "duration": 0.017718,
     "end_time": "2020-12-18T23:50:40.005136",
     "exception": false,
     "start_time": "2020-12-18T23:50:39.987418",
     "status": "completed"
    },
    "tags": []
   },
   "source": [
    "## Read all results"
   ]
  },
  {
   "cell_type": "code",
   "execution_count": 14,
   "metadata": {
    "execution": {
     "iopub.execute_input": "2020-12-18T23:50:40.045083Z",
     "iopub.status.busy": "2020-12-18T23:50:40.044612Z",
     "iopub.status.idle": "2020-12-19T04:26:23.421886Z",
     "shell.execute_reply": "2020-12-19T04:26:23.421374Z"
    },
    "papermill": {
     "duration": 16543.399286,
     "end_time": "2020-12-19T04:26:23.422002",
     "exception": false,
     "start_time": "2020-12-18T23:50:40.022716",
     "status": "completed"
    },
    "tags": []
   },
   "outputs": [
    {
     "name": "stdout",
     "output_type": "stream",
     "text": [
      "0. spredixcan-Vagina-zscore.h5\n",
      "1. spredixcan-Ovary-zscore.h5\n",
      "2. spredixcan-Cells_Cultured_fibroblasts-zscore.h5\n",
      "3. spredixcan-Pituitary-zscore.h5\n",
      "4. spredixcan-Spleen-zscore.h5\n",
      "5. spredixcan-Heart_Left_Ventricle-zscore.h5\n",
      "6. spredixcan-Brain_Substantia_nigra-zscore.h5\n",
      "7. spredixcan-Brain_Hypothalamus-zscore.h5\n",
      "8. spredixcan-Artery_Coronary-zscore.h5\n",
      "9. spredixcan-Liver-zscore.h5\n",
      "10. spredixcan-Muscle_Skeletal-zscore.h5\n",
      "11. spredixcan-Artery_Tibial-zscore.h5\n",
      "12. spredixcan-Esophagus_Gastroesophageal_Junction-zscore.h5\n",
      "13. spredixcan-Adipose_Visceral_Omentum-zscore.h5\n",
      "14. spredixcan-Skin_Sun_Exposed_Lower_leg-zscore.h5\n",
      "15. spredixcan-Stomach-zscore.h5\n",
      "16. spredixcan-Brain_Spinal_cord_cervical_c-1-zscore.h5\n",
      "17. spredixcan-Artery_Aorta-zscore.h5\n",
      "18. spredixcan-Esophagus_Muscularis-zscore.h5\n",
      "19. spredixcan-Esophagus_Mucosa-zscore.h5\n",
      "20. spredixcan-Brain_Anterior_cingulate_cortex_BA24-zscore.h5\n",
      "21. spredixcan-Brain_Cerebellar_Hemisphere-zscore.h5\n",
      "22. spredixcan-Adipose_Subcutaneous-zscore.h5\n",
      "23. spredixcan-Brain_Cortex-zscore.h5\n",
      "24. spredixcan-Pancreas-zscore.h5\n",
      "25. spredixcan-Brain_Cerebellum-zscore.h5\n",
      "26. spredixcan-Brain_Nucleus_accumbens_basal_ganglia-zscore.h5\n",
      "27. spredixcan-Testis-zscore.h5\n",
      "28. spredixcan-Brain_Hippocampus-zscore.h5\n",
      "29. spredixcan-Adrenal_Gland-zscore.h5\n",
      "30. spredixcan-Prostate-zscore.h5\n",
      "31. spredixcan-Brain_Frontal_Cortex_BA9-zscore.h5\n",
      "32. spredixcan-Lung-zscore.h5\n",
      "33. spredixcan-Whole_Blood-zscore.h5\n",
      "34. spredixcan-Skin_Not_Sun_Exposed_Suprapubic-zscore.h5\n",
      "35. spredixcan-Colon_Transverse-zscore.h5\n",
      "36. spredixcan-Brain_Putamen_basal_ganglia-zscore.h5\n",
      "37. spredixcan-Heart_Atrial_Appendage-zscore.h5\n",
      "38. spredixcan-Uterus-zscore.h5\n",
      "39. spredixcan-Nerve_Tibial-zscore.h5\n",
      "40. spredixcan-Brain_Amygdala-zscore.h5\n",
      "41. spredixcan-Breast_Mammary_Tissue-zscore.h5\n",
      "42. spredixcan-Cells_EBV-transformed_lymphocytes-zscore.h5\n",
      "43. spredixcan-Colon_Sigmoid-zscore.h5\n",
      "44. spredixcan-Small_Intestine_Terminal_Ileum-zscore.h5\n",
      "45. spredixcan-Thyroid-zscore.h5\n",
      "46. spredixcan-Minor_Salivary_Gland-zscore.h5\n",
      "47. spredixcan-Brain_Caudate_basal_ganglia-zscore.h5\n",
      "48. spredixcan-Kidney_Cortex-zscore.h5\n"
     ]
    }
   ],
   "source": [
    "for f_idx, f in enumerate(spredixcan_files):\n",
    "    f_tissue = re.search(HDF5_FILE_PATTERN, f.name).group(\"tissue\")\n",
    "    print(f\"{f_idx}. {f.name}\")\n",
    "\n",
    "    with pd.HDFStore(f, mode=\"r\") as store:\n",
    "        traits_keys = list(store.keys())\n",
    "        assert len(traits_keys) == len(all_phenomexcan_traits)\n",
    "\n",
    "        store_data = {}\n",
    "\n",
    "        for trait_fullcode in all_phenomexcan_traits:\n",
    "            trait_hdf5 = simplify_trait_fullcode(trait_fullcode)\n",
    "\n",
    "            trait_data = store[trait_hdf5].rename_axis(\"gene_id\")\n",
    "\n",
    "            store_data[trait_fullcode] = trait_data\n",
    "\n",
    "        df = pd.DataFrame(store_data)\n",
    "        assert df.shape[1] == len(all_phenomexcan_traits)\n",
    "        assert df.index.is_unique\n",
    "\n",
    "        # output filename\n",
    "        output_filename_prefix = f\"spredixcan-mashr-zscores-{f_tissue}\"\n",
    "\n",
    "        # Save pickle\n",
    "        df.to_pickle(\n",
    "            Path(spredixcan_pkl_output_folder, f\"{output_filename_prefix}.pkl\")\n",
    "        )\n",
    "\n",
    "        # Save tsv\n",
    "        df.to_csv(\n",
    "            Path(spredixcan_tsv_output_folder, f\"{output_filename_prefix}.tsv.gz\"),\n",
    "            sep=\"\\t\",\n",
    "            float_format=\"%.5e\",\n",
    "        )"
   ]
  },
  {
   "cell_type": "markdown",
   "metadata": {
    "papermill": {
     "duration": 0.029082,
     "end_time": "2020-12-19T04:26:23.485688",
     "exception": false,
     "start_time": "2020-12-19T04:26:23.456606",
     "status": "completed"
    },
    "tags": []
   },
   "source": [
    "# Testing"
   ]
  },
  {
   "cell_type": "markdown",
   "metadata": {
    "papermill": {
     "duration": 0.025997,
     "end_time": "2020-12-19T04:26:23.537564",
     "exception": false,
     "start_time": "2020-12-19T04:26:23.511567",
     "status": "completed"
    },
    "tags": []
   },
   "source": [
    "## List of traits match those in S-MultiXcan"
   ]
  },
  {
   "cell_type": "code",
   "execution_count": 15,
   "metadata": {
    "execution": {
     "iopub.execute_input": "2020-12-19T04:26:23.631735Z",
     "iopub.status.busy": "2020-12-19T04:26:23.631299Z",
     "iopub.status.idle": "2020-12-19T04:26:23.641358Z",
     "shell.execute_reply": "2020-12-19T04:26:23.641678Z"
    },
    "papermill": {
     "duration": 0.051068,
     "end_time": "2020-12-19T04:26:23.641801",
     "exception": false,
     "start_time": "2020-12-19T04:26:23.590733",
     "status": "completed"
    },
    "tags": []
   },
   "outputs": [
    {
     "data": {
      "text/plain": [
       "Index(['I9_PHLETHROMBDVTLOW-DVT_of_lower_extremities',\n",
       "       'I71-Diagnoses_main_ICD10_I71_Aortic_aneurysm_and_dissection',\n",
       "       'G62-Diagnoses_main_ICD10_G62_Other_polyneuropathies',\n",
       "       '2395_4-Hairbalding_pattern_Pattern_4',\n",
       "       '20003_1141168590-Treatmentmedication_code_pariet_10mg_ec_tablet',\n",
       "       '4056_raw-Age_stroke_diagnosed',\n",
       "       'M13_FOREIGNBODY-Residual_foreign_body_in_soft_tissue',\n",
       "       '20002_1494-Noncancer_illness_code_selfreported_varicose_veins',\n",
       "       'I85-Diagnoses_main_ICD10_I85_Oesophageal_varices',\n",
       "       '6158_4-Why_reduced_smoking_Financial_reasons',\n",
       "       ...\n",
       "       '41215_0-Detention_categories_Informal_not_formally_detained',\n",
       "       'M76-Diagnoses_main_ICD10_M76_Enthesopathies_of_lower_limb_excluding_foot',\n",
       "       '22601_35633208-Job_coding_vocational_or_industrial_trainerinstructor',\n",
       "       'H7_RETINALDETACH-Retinal_detachments_and_breaks',\n",
       "       '20003_1141172918-Treatmentmedication_code_celluvisc_1_singleuse_eye_drops',\n",
       "       '22601_35643209-Job_coding_careers_adviser_or_vocational_guidance_specialist_placement_advisor',\n",
       "       '20002_1537-Noncancer_illness_code_selfreported_joint_pain',\n",
       "       '20514-Recent_lack_of_interest_or_pleasure_in_doing_things',\n",
       "       '22601_53192534-Job_coding_builder_building_contractor',\n",
       "       '30280_raw-Immature_reticulocyte_fraction'],\n",
       "      dtype='object', length=4091)"
      ]
     },
     "metadata": {},
     "output_type": "display_data"
    }
   ],
   "source": [
    "_phenomexcan_trait_fullcodes = pd.Index(all_phenomexcan_traits)\n",
    "display(_phenomexcan_trait_fullcodes)\n",
    "assert _phenomexcan_trait_fullcodes.is_unique"
   ]
  },
  {
   "cell_type": "markdown",
   "metadata": {
    "papermill": {
     "duration": 0.025616,
     "end_time": "2020-12-19T04:26:23.694724",
     "exception": false,
     "start_time": "2020-12-19T04:26:23.669108",
     "status": "completed"
    },
    "tags": []
   },
   "source": [
    "### pickle"
   ]
  },
  {
   "cell_type": "code",
   "execution_count": 16,
   "metadata": {
    "execution": {
     "iopub.execute_input": "2020-12-19T04:26:23.749657Z",
     "iopub.status.busy": "2020-12-19T04:26:23.749275Z",
     "iopub.status.idle": "2020-12-19T04:26:23.942419Z",
     "shell.execute_reply": "2020-12-19T04:26:23.942069Z"
    },
    "papermill": {
     "duration": 0.222144,
     "end_time": "2020-12-19T04:26:23.942519",
     "exception": false,
     "start_time": "2020-12-19T04:26:23.720375",
     "status": "completed"
    },
    "tags": []
   },
   "outputs": [],
   "source": [
    "output_filename_prefix = f\"spredixcan-mashr-zscores-Adipose_Subcutaneous\"\n",
    "filepath = Path(spredixcan_pkl_output_folder, f\"{output_filename_prefix}.pkl\")\n",
    "_spredixcan_traits = pd.read_pickle(filepath).columns"
   ]
  },
  {
   "cell_type": "code",
   "execution_count": 17,
   "metadata": {
    "execution": {
     "iopub.execute_input": "2020-12-19T04:26:23.998799Z",
     "iopub.status.busy": "2020-12-19T04:26:23.998433Z",
     "iopub.status.idle": "2020-12-19T04:26:24.007567Z",
     "shell.execute_reply": "2020-12-19T04:26:24.007240Z"
    },
    "papermill": {
     "duration": 0.03774,
     "end_time": "2020-12-19T04:26:24.007657",
     "exception": false,
     "start_time": "2020-12-19T04:26:23.969917",
     "status": "completed"
    },
    "tags": []
   },
   "outputs": [
    {
     "data": {
      "text/plain": [
       "Index(['I9_PHLETHROMBDVTLOW-DVT_of_lower_extremities',\n",
       "       'I71-Diagnoses_main_ICD10_I71_Aortic_aneurysm_and_dissection',\n",
       "       'G62-Diagnoses_main_ICD10_G62_Other_polyneuropathies',\n",
       "       '2395_4-Hairbalding_pattern_Pattern_4',\n",
       "       '20003_1141168590-Treatmentmedication_code_pariet_10mg_ec_tablet',\n",
       "       '4056_raw-Age_stroke_diagnosed',\n",
       "       'M13_FOREIGNBODY-Residual_foreign_body_in_soft_tissue',\n",
       "       '20002_1494-Noncancer_illness_code_selfreported_varicose_veins',\n",
       "       'I85-Diagnoses_main_ICD10_I85_Oesophageal_varices',\n",
       "       '6158_4-Why_reduced_smoking_Financial_reasons',\n",
       "       ...\n",
       "       '41215_0-Detention_categories_Informal_not_formally_detained',\n",
       "       'M76-Diagnoses_main_ICD10_M76_Enthesopathies_of_lower_limb_excluding_foot',\n",
       "       '22601_35633208-Job_coding_vocational_or_industrial_trainerinstructor',\n",
       "       'H7_RETINALDETACH-Retinal_detachments_and_breaks',\n",
       "       '20003_1141172918-Treatmentmedication_code_celluvisc_1_singleuse_eye_drops',\n",
       "       '22601_35643209-Job_coding_careers_adviser_or_vocational_guidance_specialist_placement_advisor',\n",
       "       '20002_1537-Noncancer_illness_code_selfreported_joint_pain',\n",
       "       '20514-Recent_lack_of_interest_or_pleasure_in_doing_things',\n",
       "       '22601_53192534-Job_coding_builder_building_contractor',\n",
       "       '30280_raw-Immature_reticulocyte_fraction'],\n",
       "      dtype='object', length=4091)"
      ]
     },
     "execution_count": 17,
     "metadata": {},
     "output_type": "execute_result"
    }
   ],
   "source": [
    "_spredixcan_traits"
   ]
  },
  {
   "cell_type": "code",
   "execution_count": 18,
   "metadata": {
    "execution": {
     "iopub.execute_input": "2020-12-19T04:26:24.063838Z",
     "iopub.status.busy": "2020-12-19T04:26:24.063474Z",
     "iopub.status.idle": "2020-12-19T04:26:24.071888Z",
     "shell.execute_reply": "2020-12-19T04:26:24.071507Z"
    },
    "papermill": {
     "duration": 0.036937,
     "end_time": "2020-12-19T04:26:24.071976",
     "exception": false,
     "start_time": "2020-12-19T04:26:24.035039",
     "status": "completed"
    },
    "tags": []
   },
   "outputs": [],
   "source": [
    "assert _spredixcan_traits.is_unique"
   ]
  },
  {
   "cell_type": "code",
   "execution_count": 19,
   "metadata": {
    "execution": {
     "iopub.execute_input": "2020-12-19T04:26:24.127740Z",
     "iopub.status.busy": "2020-12-19T04:26:24.127373Z",
     "iopub.status.idle": "2020-12-19T04:26:24.137152Z",
     "shell.execute_reply": "2020-12-19T04:26:24.136759Z"
    },
    "papermill": {
     "duration": 0.038609,
     "end_time": "2020-12-19T04:26:24.137243",
     "exception": false,
     "start_time": "2020-12-19T04:26:24.098634",
     "status": "completed"
    },
    "tags": []
   },
   "outputs": [
    {
     "data": {
      "text/plain": [
       "Index(['I9_PHLETHROMBDVTLOW-DVT_of_lower_extremities',\n",
       "       'I71-Diagnoses_main_ICD10_I71_Aortic_aneurysm_and_dissection',\n",
       "       'G62-Diagnoses_main_ICD10_G62_Other_polyneuropathies',\n",
       "       '2395_4-Hairbalding_pattern_Pattern_4',\n",
       "       '20003_1141168590-Treatmentmedication_code_pariet_10mg_ec_tablet',\n",
       "       '4056_raw-Age_stroke_diagnosed',\n",
       "       'M13_FOREIGNBODY-Residual_foreign_body_in_soft_tissue',\n",
       "       '20002_1494-Noncancer_illness_code_selfreported_varicose_veins',\n",
       "       'I85-Diagnoses_main_ICD10_I85_Oesophageal_varices',\n",
       "       '6158_4-Why_reduced_smoking_Financial_reasons',\n",
       "       ...\n",
       "       '41215_0-Detention_categories_Informal_not_formally_detained',\n",
       "       'M76-Diagnoses_main_ICD10_M76_Enthesopathies_of_lower_limb_excluding_foot',\n",
       "       '22601_35633208-Job_coding_vocational_or_industrial_trainerinstructor',\n",
       "       'H7_RETINALDETACH-Retinal_detachments_and_breaks',\n",
       "       '20003_1141172918-Treatmentmedication_code_celluvisc_1_singleuse_eye_drops',\n",
       "       '22601_35643209-Job_coding_careers_adviser_or_vocational_guidance_specialist_placement_advisor',\n",
       "       '20002_1537-Noncancer_illness_code_selfreported_joint_pain',\n",
       "       '20514-Recent_lack_of_interest_or_pleasure_in_doing_things',\n",
       "       '22601_53192534-Job_coding_builder_building_contractor',\n",
       "       '30280_raw-Immature_reticulocyte_fraction'],\n",
       "      dtype='object', length=4091)"
      ]
     },
     "metadata": {},
     "output_type": "display_data"
    }
   ],
   "source": [
    "_tmp = _phenomexcan_trait_fullcodes.intersection(_spredixcan_traits)\n",
    "display(_tmp)\n",
    "assert _tmp.shape[0] == _phenomexcan_trait_fullcodes.shape[0]"
   ]
  },
  {
   "cell_type": "markdown",
   "metadata": {
    "papermill": {
     "duration": 0.026432,
     "end_time": "2020-12-19T04:26:24.192239",
     "exception": false,
     "start_time": "2020-12-19T04:26:24.165807",
     "status": "completed"
    },
    "tags": []
   },
   "source": [
    "### tsv.gz"
   ]
  },
  {
   "cell_type": "code",
   "execution_count": 20,
   "metadata": {
    "execution": {
     "iopub.execute_input": "2020-12-19T04:26:24.248081Z",
     "iopub.status.busy": "2020-12-19T04:26:24.247711Z",
     "iopub.status.idle": "2020-12-19T04:26:40.546822Z",
     "shell.execute_reply": "2020-12-19T04:26:40.547164Z"
    },
    "papermill": {
     "duration": 16.328505,
     "end_time": "2020-12-19T04:26:40.547293",
     "exception": false,
     "start_time": "2020-12-19T04:26:24.218788",
     "status": "completed"
    },
    "tags": []
   },
   "outputs": [],
   "source": [
    "output_filename_prefix = f\"spredixcan-mashr-zscores-Adipose_Visceral_Omentum\"\n",
    "filepath = Path(spredixcan_tsv_output_folder, f\"{output_filename_prefix}.tsv.gz\")\n",
    "_spredixcan_traits = pd.read_csv(filepath, sep=\"\\t\", index_col=\"gene_id\").columns"
   ]
  },
  {
   "cell_type": "code",
   "execution_count": 21,
   "metadata": {
    "execution": {
     "iopub.execute_input": "2020-12-19T04:26:40.605863Z",
     "iopub.status.busy": "2020-12-19T04:26:40.605495Z",
     "iopub.status.idle": "2020-12-19T04:26:40.614669Z",
     "shell.execute_reply": "2020-12-19T04:26:40.614289Z"
    },
    "papermill": {
     "duration": 0.037996,
     "end_time": "2020-12-19T04:26:40.614756",
     "exception": false,
     "start_time": "2020-12-19T04:26:40.576760",
     "status": "completed"
    },
    "tags": []
   },
   "outputs": [
    {
     "data": {
      "text/plain": [
       "Index(['I9_PHLETHROMBDVTLOW-DVT_of_lower_extremities',\n",
       "       'I71-Diagnoses_main_ICD10_I71_Aortic_aneurysm_and_dissection',\n",
       "       'G62-Diagnoses_main_ICD10_G62_Other_polyneuropathies',\n",
       "       '2395_4-Hairbalding_pattern_Pattern_4',\n",
       "       '20003_1141168590-Treatmentmedication_code_pariet_10mg_ec_tablet',\n",
       "       '4056_raw-Age_stroke_diagnosed',\n",
       "       'M13_FOREIGNBODY-Residual_foreign_body_in_soft_tissue',\n",
       "       '20002_1494-Noncancer_illness_code_selfreported_varicose_veins',\n",
       "       'I85-Diagnoses_main_ICD10_I85_Oesophageal_varices',\n",
       "       '6158_4-Why_reduced_smoking_Financial_reasons',\n",
       "       ...\n",
       "       '41215_0-Detention_categories_Informal_not_formally_detained',\n",
       "       'M76-Diagnoses_main_ICD10_M76_Enthesopathies_of_lower_limb_excluding_foot',\n",
       "       '22601_35633208-Job_coding_vocational_or_industrial_trainerinstructor',\n",
       "       'H7_RETINALDETACH-Retinal_detachments_and_breaks',\n",
       "       '20003_1141172918-Treatmentmedication_code_celluvisc_1_singleuse_eye_drops',\n",
       "       '22601_35643209-Job_coding_careers_adviser_or_vocational_guidance_specialist_placement_advisor',\n",
       "       '20002_1537-Noncancer_illness_code_selfreported_joint_pain',\n",
       "       '20514-Recent_lack_of_interest_or_pleasure_in_doing_things',\n",
       "       '22601_53192534-Job_coding_builder_building_contractor',\n",
       "       '30280_raw-Immature_reticulocyte_fraction'],\n",
       "      dtype='object', length=4091)"
      ]
     },
     "execution_count": 21,
     "metadata": {},
     "output_type": "execute_result"
    }
   ],
   "source": [
    "_spredixcan_traits"
   ]
  },
  {
   "cell_type": "code",
   "execution_count": 22,
   "metadata": {
    "execution": {
     "iopub.execute_input": "2020-12-19T04:26:40.671892Z",
     "iopub.status.busy": "2020-12-19T04:26:40.671529Z",
     "iopub.status.idle": "2020-12-19T04:26:40.679590Z",
     "shell.execute_reply": "2020-12-19T04:26:40.679250Z"
    },
    "papermill": {
     "duration": 0.037735,
     "end_time": "2020-12-19T04:26:40.679677",
     "exception": false,
     "start_time": "2020-12-19T04:26:40.641942",
     "status": "completed"
    },
    "tags": []
   },
   "outputs": [],
   "source": [
    "assert _spredixcan_traits.is_unique"
   ]
  },
  {
   "cell_type": "code",
   "execution_count": 23,
   "metadata": {
    "execution": {
     "iopub.execute_input": "2020-12-19T04:26:40.736994Z",
     "iopub.status.busy": "2020-12-19T04:26:40.736577Z",
     "iopub.status.idle": "2020-12-19T04:26:40.745616Z",
     "shell.execute_reply": "2020-12-19T04:26:40.745918Z"
    },
    "papermill": {
     "duration": 0.038634,
     "end_time": "2020-12-19T04:26:40.746025",
     "exception": false,
     "start_time": "2020-12-19T04:26:40.707391",
     "status": "completed"
    },
    "tags": []
   },
   "outputs": [
    {
     "data": {
      "text/plain": [
       "Index(['I9_PHLETHROMBDVTLOW-DVT_of_lower_extremities',\n",
       "       'I71-Diagnoses_main_ICD10_I71_Aortic_aneurysm_and_dissection',\n",
       "       'G62-Diagnoses_main_ICD10_G62_Other_polyneuropathies',\n",
       "       '2395_4-Hairbalding_pattern_Pattern_4',\n",
       "       '20003_1141168590-Treatmentmedication_code_pariet_10mg_ec_tablet',\n",
       "       '4056_raw-Age_stroke_diagnosed',\n",
       "       'M13_FOREIGNBODY-Residual_foreign_body_in_soft_tissue',\n",
       "       '20002_1494-Noncancer_illness_code_selfreported_varicose_veins',\n",
       "       'I85-Diagnoses_main_ICD10_I85_Oesophageal_varices',\n",
       "       '6158_4-Why_reduced_smoking_Financial_reasons',\n",
       "       ...\n",
       "       '41215_0-Detention_categories_Informal_not_formally_detained',\n",
       "       'M76-Diagnoses_main_ICD10_M76_Enthesopathies_of_lower_limb_excluding_foot',\n",
       "       '22601_35633208-Job_coding_vocational_or_industrial_trainerinstructor',\n",
       "       'H7_RETINALDETACH-Retinal_detachments_and_breaks',\n",
       "       '20003_1141172918-Treatmentmedication_code_celluvisc_1_singleuse_eye_drops',\n",
       "       '22601_35643209-Job_coding_careers_adviser_or_vocational_guidance_specialist_placement_advisor',\n",
       "       '20002_1537-Noncancer_illness_code_selfreported_joint_pain',\n",
       "       '20514-Recent_lack_of_interest_or_pleasure_in_doing_things',\n",
       "       '22601_53192534-Job_coding_builder_building_contractor',\n",
       "       '30280_raw-Immature_reticulocyte_fraction'],\n",
       "      dtype='object', length=4091)"
      ]
     },
     "metadata": {},
     "output_type": "display_data"
    }
   ],
   "source": [
    "_tmp = _phenomexcan_trait_fullcodes.intersection(_spredixcan_traits)\n",
    "display(_tmp)\n",
    "assert _tmp.shape[0] == _phenomexcan_trait_fullcodes.shape[0]"
   ]
  },
  {
   "cell_type": "markdown",
   "metadata": {
    "papermill": {
     "duration": 0.02712,
     "end_time": "2020-12-19T04:26:40.801457",
     "exception": false,
     "start_time": "2020-12-19T04:26:40.774337",
     "status": "completed"
    },
    "tags": []
   },
   "source": [
    "## Values"
   ]
  },
  {
   "cell_type": "markdown",
   "metadata": {
    "papermill": {
     "duration": 0.026976,
     "end_time": "2020-12-19T04:26:40.855783",
     "exception": false,
     "start_time": "2020-12-19T04:26:40.828807",
     "status": "completed"
    },
    "tags": []
   },
   "source": [
    "Tests taken from: https://github.com/hakyimlab/phenomexcan/blob/master/scripts/100_postprocessing/05_spredixcan.ipynb"
   ]
  },
  {
   "cell_type": "code",
   "execution_count": 24,
   "metadata": {
    "execution": {
     "iopub.execute_input": "2020-12-19T04:26:40.913155Z",
     "iopub.status.busy": "2020-12-19T04:26:40.912776Z",
     "iopub.status.idle": "2020-12-19T04:26:41.126885Z",
     "shell.execute_reply": "2020-12-19T04:26:41.127247Z"
    },
    "papermill": {
     "duration": 0.2444,
     "end_time": "2020-12-19T04:26:41.127379",
     "exception": false,
     "start_time": "2020-12-19T04:26:40.882979",
     "status": "completed"
    },
    "tags": []
   },
   "outputs": [],
   "source": [
    "# pkl\n",
    "output_filename_prefix = f\"spredixcan-mashr-zscores-Thyroid\"\n",
    "filepath = Path(spredixcan_pkl_output_folder, f\"{output_filename_prefix}.pkl\")\n",
    "df = pd.read_pickle(filepath)[\n",
    "    \"N02-Diagnoses_main_ICD10_N02_Recurrent_and_persistent_haematuria\"\n",
    "]\n",
    "\n",
    "assert df.shape[0] == 15289\n",
    "assert df.loc[\"ENSG00000213965\"] == -3.6753054157625686\n",
    "assert pd.isnull(df.loc[\"ENSG00000198670\"])\n",
    "assert df.loc[\"ENSG00000177025\"] == 4.316259089446458"
   ]
  },
  {
   "cell_type": "code",
   "execution_count": 25,
   "metadata": {
    "execution": {
     "iopub.execute_input": "2020-12-19T04:26:41.189047Z",
     "iopub.status.busy": "2020-12-19T04:26:41.188590Z",
     "iopub.status.idle": "2020-12-19T04:26:58.094145Z",
     "shell.execute_reply": "2020-12-19T04:26:58.093746Z"
    },
    "papermill": {
     "duration": 16.936349,
     "end_time": "2020-12-19T04:26:58.094257",
     "exception": false,
     "start_time": "2020-12-19T04:26:41.157908",
     "status": "completed"
    },
    "tags": []
   },
   "outputs": [],
   "source": [
    "# tsv.gz\n",
    "output_filename_prefix = f\"spredixcan-mashr-zscores-Thyroid\"\n",
    "filepath = Path(spredixcan_tsv_output_folder, f\"{output_filename_prefix}.tsv.gz\")\n",
    "df = pd.read_csv(filepath, sep=\"\\t\", index_col=\"gene_id\")[\n",
    "    \"N02-Diagnoses_main_ICD10_N02_Recurrent_and_persistent_haematuria\"\n",
    "]\n",
    "\n",
    "assert df.shape[0] == 15289\n",
    "assert df.loc[\"ENSG00000213965\"].round(5) == -3.67531\n",
    "assert pd.isnull(df.loc[\"ENSG00000198670\"])\n",
    "assert df.loc[\"ENSG00000177025\"].round(5) == 4.31626"
   ]
  },
  {
   "cell_type": "markdown",
   "metadata": {
    "papermill": {
     "duration": 0.027664,
     "end_time": "2020-12-19T04:26:58.154146",
     "exception": false,
     "start_time": "2020-12-19T04:26:58.126482",
     "status": "completed"
    },
    "tags": []
   },
   "source": [
    "Check if small values in tsv.gz are correctly saved:"
   ]
  },
  {
   "cell_type": "code",
   "execution_count": 26,
   "metadata": {
    "execution": {
     "iopub.execute_input": "2020-12-19T04:26:58.213439Z",
     "iopub.status.busy": "2020-12-19T04:26:58.213056Z",
     "iopub.status.idle": "2020-12-19T04:27:14.646912Z",
     "shell.execute_reply": "2020-12-19T04:27:14.647282Z"
    },
    "papermill": {
     "duration": 16.465154,
     "end_time": "2020-12-19T04:27:14.647412",
     "exception": false,
     "start_time": "2020-12-19T04:26:58.182258",
     "status": "completed"
    },
    "tags": []
   },
   "outputs": [],
   "source": [
    "# tsv.gz\n",
    "output_filename_prefix = f\"spredixcan-mashr-zscores-Adipose_Subcutaneous\"\n",
    "filepath = Path(spredixcan_tsv_output_folder, f\"{output_filename_prefix}.tsv.gz\")\n",
    "df = pd.read_csv(filepath, sep=\"\\t\", index_col=\"gene_id\")\n",
    "\n",
    "assert (\n",
    "    df.loc[\n",
    "        \"ENSG00000002746\",\n",
    "        \"20003_1141153242-Treatmentmedication_code_balsalazide_disodium\",\n",
    "    ].round(5)\n",
    "    == 0.00327\n",
    ")\n",
    "assert df.loc[\"ENSG00000074706\", \"MAGNETIC_HDL.C\"] == 0.00\n",
    "assert (\n",
    "    np.format_float_scientific(\n",
    "        df.loc[\n",
    "            \"ENSG00000164112\",\n",
    "            \"N13-Diagnoses_main_ICD10_N13_Obstructive_and_reflux_uropathy\",\n",
    "        ],\n",
    "        5,\n",
    "    )\n",
    "    == \"-1.80052e-07\"\n",
    ")\n",
    "assert (\n",
    "    np.format_float_scientific(\n",
    "        df.loc[\n",
    "            \"ENSG00000257467\",\n",
    "            \"20411_0-Ever_been_injured_or_injured_someone_else_through_drinking_alcohol_No\",\n",
    "        ],\n",
    "        5,\n",
    "    )\n",
    "    == \"-3.89826e-09\"\n",
    ")"
   ]
  },
  {
   "cell_type": "markdown",
   "metadata": {
    "papermill": {
     "duration": 0.027112,
     "end_time": "2020-12-19T04:27:14.705905",
     "exception": false,
     "start_time": "2020-12-19T04:27:14.678793",
     "status": "completed"
    },
    "tags": []
   },
   "source": [
    "More tests taken from the webapp:"
   ]
  },
  {
   "cell_type": "markdown",
   "metadata": {
    "papermill": {
     "duration": 0.0273,
     "end_time": "2020-12-19T04:27:14.760785",
     "exception": false,
     "start_time": "2020-12-19T04:27:14.733485",
     "status": "completed"
    },
    "tags": []
   },
   "source": [
    "Standing height"
   ]
  },
  {
   "cell_type": "code",
   "execution_count": 27,
   "metadata": {
    "execution": {
     "iopub.execute_input": "2020-12-19T04:27:14.819273Z",
     "iopub.status.busy": "2020-12-19T04:27:14.818905Z",
     "iopub.status.idle": "2020-12-19T04:27:14.978952Z",
     "shell.execute_reply": "2020-12-19T04:27:14.979287Z"
    },
    "papermill": {
     "duration": 0.190563,
     "end_time": "2020-12-19T04:27:14.979411",
     "exception": false,
     "start_time": "2020-12-19T04:27:14.788848",
     "status": "completed"
    },
    "tags": []
   },
   "outputs": [],
   "source": [
    "output_filename_prefix = f\"spredixcan-mashr-zscores-Whole_Blood\"\n",
    "filepath = Path(spredixcan_pkl_output_folder, f\"{output_filename_prefix}.pkl\")\n",
    "_tmp = pd.read_pickle(filepath)[\"50_raw-Standing_height\"]\n",
    "assert _tmp.shape == (12610,)"
   ]
  },
  {
   "cell_type": "code",
   "execution_count": 28,
   "metadata": {
    "execution": {
     "iopub.execute_input": "2020-12-19T04:27:15.039727Z",
     "iopub.status.busy": "2020-12-19T04:27:15.039362Z",
     "iopub.status.idle": "2020-12-19T04:27:15.048417Z",
     "shell.execute_reply": "2020-12-19T04:27:15.048036Z"
    },
    "papermill": {
     "duration": 0.039263,
     "end_time": "2020-12-19T04:27:15.048499",
     "exception": false,
     "start_time": "2020-12-19T04:27:15.009236",
     "status": "completed"
    },
    "tags": []
   },
   "outputs": [],
   "source": [
    "assert _tmp.loc[\"ENSG00000101019\"].round(3) == -34.024"
   ]
  },
  {
   "cell_type": "code",
   "execution_count": 29,
   "metadata": {
    "execution": {
     "iopub.execute_input": "2020-12-19T04:27:15.107472Z",
     "iopub.status.busy": "2020-12-19T04:27:15.107105Z",
     "iopub.status.idle": "2020-12-19T04:27:15.114955Z",
     "shell.execute_reply": "2020-12-19T04:27:15.114575Z"
    },
    "papermill": {
     "duration": 0.038372,
     "end_time": "2020-12-19T04:27:15.115043",
     "exception": false,
     "start_time": "2020-12-19T04:27:15.076671",
     "status": "completed"
    },
    "tags": []
   },
   "outputs": [],
   "source": [
    "assert _tmp.loc[\"ENSG00000109805\"].round(3) == -22.855"
   ]
  },
  {
   "cell_type": "code",
   "execution_count": 30,
   "metadata": {
    "execution": {
     "iopub.execute_input": "2020-12-19T04:27:15.174980Z",
     "iopub.status.busy": "2020-12-19T04:27:15.174611Z",
     "iopub.status.idle": "2020-12-19T04:27:15.182578Z",
     "shell.execute_reply": "2020-12-19T04:27:15.182199Z"
    },
    "papermill": {
     "duration": 0.038249,
     "end_time": "2020-12-19T04:27:15.182664",
     "exception": false,
     "start_time": "2020-12-19T04:27:15.144415",
     "status": "completed"
    },
    "tags": []
   },
   "outputs": [],
   "source": [
    "assert _tmp.loc[\"ENSG00000177311\"].round(3) == 33.819"
   ]
  },
  {
   "cell_type": "code",
   "execution_count": 31,
   "metadata": {
    "execution": {
     "iopub.execute_input": "2020-12-19T04:27:15.242549Z",
     "iopub.status.busy": "2020-12-19T04:27:15.242168Z",
     "iopub.status.idle": "2020-12-19T04:27:29.197837Z",
     "shell.execute_reply": "2020-12-19T04:27:29.198201Z"
    },
    "papermill": {
     "duration": 13.986454,
     "end_time": "2020-12-19T04:27:29.198339",
     "exception": false,
     "start_time": "2020-12-19T04:27:15.211885",
     "status": "completed"
    },
    "tags": []
   },
   "outputs": [],
   "source": [
    "output_filename_prefix = f\"spredixcan-mashr-zscores-Whole_Blood\"\n",
    "filepath = Path(spredixcan_tsv_output_folder, f\"{output_filename_prefix}.tsv.gz\")\n",
    "_tmp = pd.read_csv(filepath, sep=\"\\t\", index_col=\"gene_id\")[\"50_raw-Standing_height\"]\n",
    "assert _tmp.shape == (12610,)"
   ]
  },
  {
   "cell_type": "code",
   "execution_count": 32,
   "metadata": {
    "execution": {
     "iopub.execute_input": "2020-12-19T04:27:29.262690Z",
     "iopub.status.busy": "2020-12-19T04:27:29.262320Z",
     "iopub.status.idle": "2020-12-19T04:27:29.270535Z",
     "shell.execute_reply": "2020-12-19T04:27:29.270815Z"
    },
    "papermill": {
     "duration": 0.039225,
     "end_time": "2020-12-19T04:27:29.270924",
     "exception": false,
     "start_time": "2020-12-19T04:27:29.231699",
     "status": "completed"
    },
    "tags": []
   },
   "outputs": [],
   "source": [
    "assert _tmp.loc[\"ENSG00000101019\"].round(3) == -34.024"
   ]
  },
  {
   "cell_type": "code",
   "execution_count": 33,
   "metadata": {
    "execution": {
     "iopub.execute_input": "2020-12-19T04:27:29.330156Z",
     "iopub.status.busy": "2020-12-19T04:27:29.329781Z",
     "iopub.status.idle": "2020-12-19T04:27:29.337922Z",
     "shell.execute_reply": "2020-12-19T04:27:29.337539Z"
    },
    "papermill": {
     "duration": 0.038623,
     "end_time": "2020-12-19T04:27:29.338009",
     "exception": false,
     "start_time": "2020-12-19T04:27:29.299386",
     "status": "completed"
    },
    "tags": []
   },
   "outputs": [],
   "source": [
    "assert _tmp.loc[\"ENSG00000109805\"].round(3) == -22.855"
   ]
  },
  {
   "cell_type": "code",
   "execution_count": 34,
   "metadata": {
    "execution": {
     "iopub.execute_input": "2020-12-19T04:27:29.397633Z",
     "iopub.status.busy": "2020-12-19T04:27:29.397265Z",
     "iopub.status.idle": "2020-12-19T04:27:29.405125Z",
     "shell.execute_reply": "2020-12-19T04:27:29.404712Z"
    },
    "papermill": {
     "duration": 0.03786,
     "end_time": "2020-12-19T04:27:29.405210",
     "exception": false,
     "start_time": "2020-12-19T04:27:29.367350",
     "status": "completed"
    },
    "tags": []
   },
   "outputs": [],
   "source": [
    "assert _tmp.loc[\"ENSG00000177311\"].round(3) == 33.819"
   ]
  },
  {
   "cell_type": "markdown",
   "metadata": {
    "papermill": {
     "duration": 0.028052,
     "end_time": "2020-12-19T04:27:29.461591",
     "exception": false,
     "start_time": "2020-12-19T04:27:29.433539",
     "status": "completed"
    },
    "tags": []
   },
   "source": [
    "Schizophrenia"
   ]
  },
  {
   "cell_type": "code",
   "execution_count": 35,
   "metadata": {
    "execution": {
     "iopub.execute_input": "2020-12-19T04:27:29.519886Z",
     "iopub.status.busy": "2020-12-19T04:27:29.519516Z",
     "iopub.status.idle": "2020-12-19T04:27:29.702183Z",
     "shell.execute_reply": "2020-12-19T04:27:29.701806Z"
    },
    "papermill": {
     "duration": 0.213025,
     "end_time": "2020-12-19T04:27:29.702289",
     "exception": false,
     "start_time": "2020-12-19T04:27:29.489264",
     "status": "completed"
    },
    "tags": []
   },
   "outputs": [],
   "source": [
    "output_filename_prefix = f\"spredixcan-mashr-zscores-Prostate\"\n",
    "filepath = Path(spredixcan_pkl_output_folder, f\"{output_filename_prefix}.pkl\")\n",
    "_tmp = pd.read_pickle(filepath)[\"pgc.scz2\"]"
   ]
  },
  {
   "cell_type": "code",
   "execution_count": 36,
   "metadata": {
    "execution": {
     "iopub.execute_input": "2020-12-19T04:27:29.764506Z",
     "iopub.status.busy": "2020-12-19T04:27:29.764137Z",
     "iopub.status.idle": "2020-12-19T04:27:29.773243Z",
     "shell.execute_reply": "2020-12-19T04:27:29.773547Z"
    },
    "papermill": {
     "duration": 0.040031,
     "end_time": "2020-12-19T04:27:29.773654",
     "exception": false,
     "start_time": "2020-12-19T04:27:29.733623",
     "status": "completed"
    },
    "tags": []
   },
   "outputs": [],
   "source": [
    "assert _tmp.loc[\"ENSG00000233822\"].round(3) == 10.752"
   ]
  },
  {
   "cell_type": "code",
   "execution_count": 37,
   "metadata": {
    "execution": {
     "iopub.execute_input": "2020-12-19T04:27:29.833478Z",
     "iopub.status.busy": "2020-12-19T04:27:29.833109Z",
     "iopub.status.idle": "2020-12-19T04:27:29.840949Z",
     "shell.execute_reply": "2020-12-19T04:27:29.840532Z"
    },
    "papermill": {
     "duration": 0.038456,
     "end_time": "2020-12-19T04:27:29.841036",
     "exception": false,
     "start_time": "2020-12-19T04:27:29.802580",
     "status": "completed"
    },
    "tags": []
   },
   "outputs": [],
   "source": [
    "assert _tmp.loc[\"ENSG00000137312\"].round(3) == -8.827"
   ]
  },
  {
   "cell_type": "code",
   "execution_count": 38,
   "metadata": {
    "execution": {
     "iopub.execute_input": "2020-12-19T04:27:29.901515Z",
     "iopub.status.busy": "2020-12-19T04:27:29.901145Z",
     "iopub.status.idle": "2020-12-19T04:27:29.908483Z",
     "shell.execute_reply": "2020-12-19T04:27:29.908803Z"
    },
    "papermill": {
     "duration": 0.03823,
     "end_time": "2020-12-19T04:27:29.908907",
     "exception": false,
     "start_time": "2020-12-19T04:27:29.870677",
     "status": "completed"
    },
    "tags": []
   },
   "outputs": [],
   "source": [
    "assert _tmp.loc[\"ENSG00000204257\"].round(3) == -7.965"
   ]
  },
  {
   "cell_type": "code",
   "execution_count": 39,
   "metadata": {
    "execution": {
     "iopub.execute_input": "2020-12-19T04:27:29.969336Z",
     "iopub.status.busy": "2020-12-19T04:27:29.968964Z",
     "iopub.status.idle": "2020-12-19T04:27:45.962455Z",
     "shell.execute_reply": "2020-12-19T04:27:45.962797Z"
    },
    "papermill": {
     "duration": 16.025026,
     "end_time": "2020-12-19T04:27:45.962916",
     "exception": false,
     "start_time": "2020-12-19T04:27:29.937890",
     "status": "completed"
    },
    "tags": []
   },
   "outputs": [],
   "source": [
    "output_filename_prefix = f\"spredixcan-mashr-zscores-Prostate\"\n",
    "filepath = Path(spredixcan_tsv_output_folder, f\"{output_filename_prefix}.tsv.gz\")\n",
    "_tmp = pd.read_csv(filepath, sep=\"\\t\", index_col=\"gene_id\")[\"pgc.scz2\"]"
   ]
  },
  {
   "cell_type": "code",
   "execution_count": 40,
   "metadata": {
    "execution": {
     "iopub.execute_input": "2020-12-19T04:27:46.023869Z",
     "iopub.status.busy": "2020-12-19T04:27:46.023500Z",
     "iopub.status.idle": "2020-12-19T04:27:46.032587Z",
     "shell.execute_reply": "2020-12-19T04:27:46.032199Z"
    },
    "papermill": {
     "duration": 0.03967,
     "end_time": "2020-12-19T04:27:46.032677",
     "exception": false,
     "start_time": "2020-12-19T04:27:45.993007",
     "status": "completed"
    },
    "tags": []
   },
   "outputs": [],
   "source": [
    "assert _tmp.loc[\"ENSG00000233822\"].round(3) == 10.752"
   ]
  },
  {
   "cell_type": "code",
   "execution_count": 41,
   "metadata": {
    "execution": {
     "iopub.execute_input": "2020-12-19T04:27:46.092620Z",
     "iopub.status.busy": "2020-12-19T04:27:46.092254Z",
     "iopub.status.idle": "2020-12-19T04:27:46.100230Z",
     "shell.execute_reply": "2020-12-19T04:27:46.099844Z"
    },
    "papermill": {
     "duration": 0.038588,
     "end_time": "2020-12-19T04:27:46.100316",
     "exception": false,
     "start_time": "2020-12-19T04:27:46.061728",
     "status": "completed"
    },
    "tags": []
   },
   "outputs": [],
   "source": [
    "assert _tmp.loc[\"ENSG00000137312\"].round(3) == -8.827"
   ]
  },
  {
   "cell_type": "code",
   "execution_count": 42,
   "metadata": {
    "execution": {
     "iopub.execute_input": "2020-12-19T04:27:46.161718Z",
     "iopub.status.busy": "2020-12-19T04:27:46.161339Z",
     "iopub.status.idle": "2020-12-19T04:27:46.168760Z",
     "shell.execute_reply": "2020-12-19T04:27:46.169060Z"
    },
    "papermill": {
     "duration": 0.039568,
     "end_time": "2020-12-19T04:27:46.169166",
     "exception": false,
     "start_time": "2020-12-19T04:27:46.129598",
     "status": "completed"
    },
    "tags": []
   },
   "outputs": [],
   "source": [
    "assert _tmp.loc[\"ENSG00000204257\"].round(3) == -7.965"
   ]
  },
  {
   "cell_type": "code",
   "execution_count": null,
   "metadata": {
    "papermill": {
     "duration": 0.028873,
     "end_time": "2020-12-19T04:27:46.227280",
     "exception": false,
     "start_time": "2020-12-19T04:27:46.198407",
     "status": "completed"
    },
    "tags": []
   },
   "outputs": [],
   "source": []
  }
 ],
 "metadata": {
  "jupytext": {
   "cell_metadata_filter": "all,-execution,-trusted",
   "formats": "ipynb,py//py:percent"
  },
  "kernelspec": {
   "display_name": "Python 3",
   "language": "python",
   "name": "python3"
  },
  "language_info": {
   "codemirror_mode": {
    "name": "ipython",
    "version": 3
   },
   "file_extension": ".py",
   "mimetype": "text/x-python",
   "name": "python",
   "nbconvert_exporter": "python",
   "pygments_lexer": "ipython3",
   "version": "3.8.8"
  },
  "papermill": {
   "default_parameters": {},
   "duration": 16629.909585,
   "end_time": "2020-12-19T04:27:47.363933",
   "environment_variables": {},
   "exception": null,
   "input_path": "01_preprocessing/020-spredixcan_convert_hdf5.ipynb",
   "output_path": "01_preprocessing/020-spredixcan_convert_hdf5.run.ipynb",
   "parameters": {},
   "start_time": "2020-12-18T23:50:37.454348",
   "version": "2.2.2"
  }
 },
 "nbformat": 4,
 "nbformat_minor": 4
}
