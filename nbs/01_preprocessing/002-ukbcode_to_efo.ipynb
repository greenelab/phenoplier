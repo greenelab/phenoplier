{
 "cells": [
  {
   "cell_type": "markdown",
   "metadata": {
    "papermill": {
     "duration": 0.068364,
     "end_time": "2020-12-14T21:24:23.427012",
     "exception": false,
     "start_time": "2020-12-14T21:24:23.358648",
     "status": "completed"
    },
    "tags": []
   },
   "source": [
    "# Description"
   ]
  },
  {
   "cell_type": "markdown",
   "metadata": {},
   "source": [
    "It creates a text file with mappings for all traits in PhenomeXcan (many of them are from UK Biobank, and a small set of 42 traits are from other studies) to EFO labels. It also adds a category for each trait, which now contains only one category: `disease` (or empty if not categorized)."
   ]
  },
  {
   "cell_type": "markdown",
   "metadata": {
    "papermill": {
     "duration": 0.031032,
     "end_time": "2020-12-14T21:24:23.491076",
     "exception": false,
     "start_time": "2020-12-14T21:24:23.460044",
     "status": "completed"
    },
    "tags": []
   },
   "source": [
    "# Modules loading"
   ]
  },
  {
   "cell_type": "code",
   "execution_count": 1,
   "metadata": {
    "execution": {
     "iopub.execute_input": "2020-12-14T21:24:23.556873Z",
     "iopub.status.busy": "2020-12-14T21:24:23.556445Z",
     "iopub.status.idle": "2020-12-14T21:24:23.564548Z",
     "shell.execute_reply": "2020-12-14T21:24:23.564096Z"
    },
    "papermill": {
     "duration": 0.042071,
     "end_time": "2020-12-14T21:24:23.564672",
     "exception": false,
     "start_time": "2020-12-14T21:24:23.522601",
     "status": "completed"
    },
    "tags": []
   },
   "outputs": [],
   "source": [
    "%load_ext autoreload\n",
    "%autoreload 2"
   ]
  },
  {
   "cell_type": "code",
   "execution_count": 2,
   "metadata": {
    "execution": {
     "iopub.execute_input": "2020-12-14T21:24:23.630038Z",
     "iopub.status.busy": "2020-12-14T21:24:23.629664Z",
     "iopub.status.idle": "2020-12-14T21:24:23.979090Z",
     "shell.execute_reply": "2020-12-14T21:24:23.978726Z"
    },
    "lines_to_next_cell": 1,
    "papermill": {
     "duration": 0.382904,
     "end_time": "2020-12-14T21:24:23.979193",
     "exception": false,
     "start_time": "2020-12-14T21:24:23.596289",
     "status": "completed"
    },
    "tags": []
   },
   "outputs": [],
   "source": [
    "import re\n",
    "from pathlib import Path\n",
    "from shutil import copyfile\n",
    "\n",
    "from IPython.display import display\n",
    "import pandas as pd\n",
    "import obonet\n",
    "\n",
    "import conf\n",
    "from data.cache import read_data\n",
    "from entity import Trait, GTEXGWASTrait"
   ]
  },
  {
   "cell_type": "markdown",
   "metadata": {
    "papermill": {
     "duration": 0.030998,
     "end_time": "2020-12-14T21:24:24.044044",
     "exception": false,
     "start_time": "2020-12-14T21:24:24.013046",
     "status": "completed"
    },
    "tags": []
   },
   "source": [
    "# Functions"
   ]
  },
  {
   "cell_type": "code",
   "execution_count": 3,
   "metadata": {
    "execution": {
     "iopub.execute_input": "2020-12-14T21:24:24.109047Z",
     "iopub.status.busy": "2020-12-14T21:24:24.108593Z",
     "iopub.status.idle": "2020-12-14T21:24:24.116040Z",
     "shell.execute_reply": "2020-12-14T21:24:24.115655Z"
    },
    "papermill": {
     "duration": 0.041088,
     "end_time": "2020-12-14T21:24:24.116129",
     "exception": false,
     "start_time": "2020-12-14T21:24:24.075041",
     "status": "completed"
    },
    "tags": []
   },
   "outputs": [],
   "source": [
    "def get_parents(graph, node):\n",
    "    for t in graph.successors(node):\n",
    "        yield t\n",
    "\n",
    "\n",
    "def _is_disease_single_node(node):\n",
    "    return node == \"EFO:0000408\"\n",
    "\n",
    "\n",
    "def is_disease(graph, node):\n",
    "    if node not in graph.nodes:\n",
    "        return False\n",
    "\n",
    "    if _is_disease_single_node(node):\n",
    "        return True\n",
    "\n",
    "    for parent_node in get_parents(graph, node):\n",
    "        if is_disease(graph, parent_node):\n",
    "            return True\n",
    "\n",
    "    return False"
   ]
  },
  {
   "cell_type": "markdown",
   "metadata": {
    "papermill": {
     "duration": 0.030818,
     "end_time": "2020-12-14T21:24:24.178525",
     "exception": false,
     "start_time": "2020-12-14T21:24:24.147707",
     "status": "completed"
    },
    "tags": []
   },
   "source": [
    "# Load EFO Ontology"
   ]
  },
  {
   "cell_type": "code",
   "execution_count": 5,
   "metadata": {
    "execution": {
     "iopub.execute_input": "2020-12-14T21:24:24.492254Z",
     "iopub.status.busy": "2020-12-14T21:24:24.491891Z",
     "iopub.status.idle": "2020-12-14T21:24:29.248505Z",
     "shell.execute_reply": "2020-12-14T21:24:29.248097Z"
    },
    "papermill": {
     "duration": 4.790495,
     "end_time": "2020-12-14T21:24:29.248624",
     "exception": false,
     "start_time": "2020-12-14T21:24:24.458129",
     "status": "completed"
    },
    "tags": []
   },
   "outputs": [],
   "source": [
    "url = conf.GENERAL[\"EFO_ONTOLOGY_OBO_FILE\"]\n",
    "graph = obonet.read_obo(url)"
   ]
  },
  {
   "cell_type": "code",
   "execution_count": 6,
   "metadata": {
    "execution": {
     "iopub.execute_input": "2020-12-14T21:24:29.320595Z",
     "iopub.status.busy": "2020-12-14T21:24:29.320229Z",
     "iopub.status.idle": "2020-12-14T21:24:29.333658Z",
     "shell.execute_reply": "2020-12-14T21:24:29.333286Z"
    },
    "papermill": {
     "duration": 0.046482,
     "end_time": "2020-12-14T21:24:29.333747",
     "exception": false,
     "start_time": "2020-12-14T21:24:29.287265",
     "status": "completed"
    },
    "tags": []
   },
   "outputs": [
    {
     "data": {
      "text/plain": [
       "26727"
      ]
     },
     "execution_count": 6,
     "metadata": {},
     "output_type": "execute_result"
    }
   ],
   "source": [
    "# Number of nodes\n",
    "len(graph)"
   ]
  },
  {
   "cell_type": "code",
   "execution_count": 7,
   "metadata": {
    "execution": {
     "iopub.execute_input": "2020-12-14T21:24:29.398869Z",
     "iopub.status.busy": "2020-12-14T21:24:29.398503Z",
     "iopub.status.idle": "2020-12-14T21:24:29.444034Z",
     "shell.execute_reply": "2020-12-14T21:24:29.443607Z"
    },
    "papermill": {
     "duration": 0.078536,
     "end_time": "2020-12-14T21:24:29.444135",
     "exception": false,
     "start_time": "2020-12-14T21:24:29.365599",
     "status": "completed"
    },
    "tags": []
   },
   "outputs": [
    {
     "data": {
      "text/plain": [
       "52865"
      ]
     },
     "execution_count": 7,
     "metadata": {},
     "output_type": "execute_result"
    }
   ],
   "source": [
    "# Number of edges\n",
    "graph.number_of_edges()"
   ]
  },
  {
   "cell_type": "code",
   "execution_count": 8,
   "metadata": {
    "execution": {
     "iopub.execute_input": "2020-12-14T21:24:29.512616Z",
     "iopub.status.busy": "2020-12-14T21:24:29.512249Z",
     "iopub.status.idle": "2020-12-14T21:24:29.521430Z",
     "shell.execute_reply": "2020-12-14T21:24:29.521048Z"
    },
    "papermill": {
     "duration": 0.043067,
     "end_time": "2020-12-14T21:24:29.521520",
     "exception": false,
     "start_time": "2020-12-14T21:24:29.478453",
     "status": "completed"
    },
    "tags": []
   },
   "outputs": [],
   "source": [
    "assert graph.nodes[\"EFO:0000270\"].get(\"name\") == \"asthma\""
   ]
  },
  {
   "cell_type": "markdown",
   "metadata": {
    "papermill": {
     "duration": 0.030502,
     "end_time": "2020-12-14T21:24:29.584244",
     "exception": false,
     "start_time": "2020-12-14T21:24:29.553742",
     "status": "completed"
    },
    "tags": []
   },
   "source": [
    "# Load PhenomeXcan traits"
   ]
  },
  {
   "cell_type": "code",
   "execution_count": 9,
   "metadata": {
    "execution": {
     "iopub.execute_input": "2020-12-14T21:24:29.648849Z",
     "iopub.status.busy": "2020-12-14T21:24:29.648410Z",
     "iopub.status.idle": "2020-12-14T21:24:29.917469Z",
     "shell.execute_reply": "2020-12-14T21:24:29.917098Z"
    },
    "papermill": {
     "duration": 0.302417,
     "end_time": "2020-12-14T21:24:29.917577",
     "exception": false,
     "start_time": "2020-12-14T21:24:29.615160",
     "status": "completed"
    },
    "tags": []
   },
   "outputs": [],
   "source": [
    "phenomexan_traits_names = read_data(\n",
    "    conf.PHENOMEXCAN[\"SMULTIXCAN_MASHR_ZSCORES_FILE\"]\n",
    ").columns.tolist()"
   ]
  },
  {
   "cell_type": "code",
   "execution_count": 10,
   "metadata": {
    "execution": {
     "iopub.execute_input": "2020-12-14T21:24:29.984639Z",
     "iopub.status.busy": "2020-12-14T21:24:29.984275Z",
     "iopub.status.idle": "2020-12-14T21:24:29.993958Z",
     "shell.execute_reply": "2020-12-14T21:24:29.994252Z"
    },
    "papermill": {
     "duration": 0.043262,
     "end_time": "2020-12-14T21:24:29.994357",
     "exception": false,
     "start_time": "2020-12-14T21:24:29.951095",
     "status": "completed"
    },
    "tags": []
   },
   "outputs": [
    {
     "data": {
      "text/plain": [
       "4091"
      ]
     },
     "execution_count": 10,
     "metadata": {},
     "output_type": "execute_result"
    }
   ],
   "source": [
    "len(phenomexan_traits_names)"
   ]
  },
  {
   "cell_type": "code",
   "execution_count": 11,
   "metadata": {
    "execution": {
     "iopub.execute_input": "2020-12-14T21:24:30.060193Z",
     "iopub.status.busy": "2020-12-14T21:24:30.059827Z",
     "iopub.status.idle": "2020-12-14T21:24:30.685415Z",
     "shell.execute_reply": "2020-12-14T21:24:30.685018Z"
    },
    "papermill": {
     "duration": 0.659404,
     "end_time": "2020-12-14T21:24:30.685506",
     "exception": false,
     "start_time": "2020-12-14T21:24:30.026102",
     "status": "completed"
    },
    "tags": []
   },
   "outputs": [],
   "source": [
    "phenomexcan_traits = [Trait.get_trait(full_code=t) for t in phenomexan_traits_names]"
   ]
  },
  {
   "cell_type": "code",
   "execution_count": 12,
   "metadata": {
    "execution": {
     "iopub.execute_input": "2020-12-14T21:24:30.750938Z",
     "iopub.status.busy": "2020-12-14T21:24:30.750564Z",
     "iopub.status.idle": "2020-12-14T21:24:30.759588Z",
     "shell.execute_reply": "2020-12-14T21:24:30.759216Z"
    },
    "papermill": {
     "duration": 0.042602,
     "end_time": "2020-12-14T21:24:30.759676",
     "exception": false,
     "start_time": "2020-12-14T21:24:30.717074",
     "status": "completed"
    },
    "tags": []
   },
   "outputs": [],
   "source": [
    "assert len(phenomexcan_traits) == len(phenomexan_traits_names)"
   ]
  },
  {
   "cell_type": "code",
   "execution_count": 13,
   "metadata": {
    "execution": {
     "iopub.execute_input": "2020-12-14T21:24:30.826280Z",
     "iopub.status.busy": "2020-12-14T21:24:30.825898Z",
     "iopub.status.idle": "2020-12-14T21:24:30.857387Z",
     "shell.execute_reply": "2020-12-14T21:24:30.856999Z"
    },
    "papermill": {
     "duration": 0.064919,
     "end_time": "2020-12-14T21:24:30.857479",
     "exception": false,
     "start_time": "2020-12-14T21:24:30.792560",
     "status": "completed"
    },
    "tags": []
   },
   "outputs": [],
   "source": [
    "phenomexcan_code_to_full_code = {t.code: t.get_plain_name() for t in phenomexcan_traits}"
   ]
  },
  {
   "cell_type": "code",
   "execution_count": 14,
   "metadata": {
    "execution": {
     "iopub.execute_input": "2020-12-14T21:24:30.924225Z",
     "iopub.status.busy": "2020-12-14T21:24:30.923846Z",
     "iopub.status.idle": "2020-12-14T21:24:30.932567Z",
     "shell.execute_reply": "2020-12-14T21:24:30.932899Z"
    },
    "papermill": {
     "duration": 0.042902,
     "end_time": "2020-12-14T21:24:30.933008",
     "exception": false,
     "start_time": "2020-12-14T21:24:30.890106",
     "status": "completed"
    },
    "tags": []
   },
   "outputs": [],
   "source": [
    "assert phenomexcan_code_to_full_code[\"50_raw\"] == \"50_raw-Standing_height\""
   ]
  },
  {
   "cell_type": "markdown",
   "metadata": {
    "papermill": {
     "duration": 0.030861,
     "end_time": "2020-12-14T21:24:30.996071",
     "exception": false,
     "start_time": "2020-12-14T21:24:30.965210",
     "status": "completed"
    },
    "tags": []
   },
   "source": [
    "# Load UKB to EFO mappings"
   ]
  },
  {
   "cell_type": "code",
   "execution_count": 15,
   "metadata": {
    "execution": {
     "iopub.execute_input": "2020-12-14T21:24:31.060920Z",
     "iopub.status.busy": "2020-12-14T21:24:31.060469Z",
     "iopub.status.idle": "2020-12-14T21:24:31.073571Z",
     "shell.execute_reply": "2020-12-14T21:24:31.073241Z"
    },
    "papermill": {
     "duration": 0.046541,
     "end_time": "2020-12-14T21:24:31.073660",
     "exception": false,
     "start_time": "2020-12-14T21:24:31.027119",
     "status": "completed"
    },
    "tags": []
   },
   "outputs": [],
   "source": [
    "ukb_to_efo = read_data(conf.UK_BIOBANK[\"UKBCODE_TO_EFO_MAP_FILE\"])"
   ]
  },
  {
   "cell_type": "code",
   "execution_count": 16,
   "metadata": {
    "execution": {
     "iopub.execute_input": "2020-12-14T21:24:31.139571Z",
     "iopub.status.busy": "2020-12-14T21:24:31.139195Z",
     "iopub.status.idle": "2020-12-14T21:24:31.149618Z",
     "shell.execute_reply": "2020-12-14T21:24:31.149287Z"
    },
    "papermill": {
     "duration": 0.043984,
     "end_time": "2020-12-14T21:24:31.149710",
     "exception": false,
     "start_time": "2020-12-14T21:24:31.105726",
     "status": "completed"
    },
    "tags": []
   },
   "outputs": [
    {
     "data": {
      "text/plain": [
       "(1565, 7)"
      ]
     },
     "execution_count": 16,
     "metadata": {},
     "output_type": "execute_result"
    }
   ],
   "source": [
    "ukb_to_efo.shape"
   ]
  },
  {
   "cell_type": "code",
   "execution_count": 17,
   "metadata": {
    "execution": {
     "iopub.execute_input": "2020-12-14T21:24:31.215137Z",
     "iopub.status.busy": "2020-12-14T21:24:31.214772Z",
     "iopub.status.idle": "2020-12-14T21:24:31.232270Z",
     "shell.execute_reply": "2020-12-14T21:24:31.231925Z"
    },
    "papermill": {
     "duration": 0.050958,
     "end_time": "2020-12-14T21:24:31.232359",
     "exception": false,
     "start_time": "2020-12-14T21:24:31.181401",
     "status": "completed"
    },
    "tags": []
   },
   "outputs": [
    {
     "data": {
      "text/html": [
       "<div>\n",
       "<style scoped>\n",
       "    .dataframe tbody tr th:only-of-type {\n",
       "        vertical-align: middle;\n",
       "    }\n",
       "\n",
       "    .dataframe tbody tr th {\n",
       "        vertical-align: top;\n",
       "    }\n",
       "\n",
       "    .dataframe thead th {\n",
       "        text-align: right;\n",
       "    }\n",
       "</style>\n",
       "<table border=\"1\" class=\"dataframe\">\n",
       "  <thead>\n",
       "    <tr style=\"text-align: right;\">\n",
       "      <th></th>\n",
       "      <th>ZOOMA QUERY</th>\n",
       "      <th>MAPPED_TERM_LABEL</th>\n",
       "      <th>MAPPED_TERM_URI</th>\n",
       "      <th>MAPPING_TYPE</th>\n",
       "      <th>ICD10_CODE/SELF_REPORTED_TRAIT_FIELD_CODE</th>\n",
       "      <th>COMMENTS/TICKET</th>\n",
       "      <th>AI</th>\n",
       "    </tr>\n",
       "  </thead>\n",
       "  <tbody>\n",
       "    <tr>\n",
       "      <th>0</th>\n",
       "      <td>Vascular disorders of intestine</td>\n",
       "      <td>vascular disease</td>\n",
       "      <td>EFO_0004264, EFO_0009431</td>\n",
       "      <td>Broad</td>\n",
       "      <td>K55</td>\n",
       "      <td>DONE</td>\n",
       "      <td>NaN</td>\n",
       "    </tr>\n",
       "    <tr>\n",
       "      <th>1</th>\n",
       "      <td>Gonarthrosis</td>\n",
       "      <td>osteoarthritis || knee</td>\n",
       "      <td>EFO_0004616</td>\n",
       "      <td>Broad</td>\n",
       "      <td>M17</td>\n",
       "      <td>DONE</td>\n",
       "      <td>NaN</td>\n",
       "    </tr>\n",
       "    <tr>\n",
       "      <th>2</th>\n",
       "      <td>Psoriatic and enteropathic arthropathies</td>\n",
       "      <td>psoriatic arthritis</td>\n",
       "      <td>EFO_0003778</td>\n",
       "      <td>? Broad</td>\n",
       "      <td>M07</td>\n",
       "      <td>DONE</td>\n",
       "      <td>NaN</td>\n",
       "    </tr>\n",
       "    <tr>\n",
       "      <th>3</th>\n",
       "      <td>Pain associated with micturition</td>\n",
       "      <td>dysuria</td>\n",
       "      <td>EFO_0003901</td>\n",
       "      <td>? Broad</td>\n",
       "      <td>R30</td>\n",
       "      <td>DONE</td>\n",
       "      <td>NaN</td>\n",
       "    </tr>\n",
       "    <tr>\n",
       "      <th>4</th>\n",
       "      <td>Other mood</td>\n",
       "      <td>mood disorder</td>\n",
       "      <td>EFO_0004247</td>\n",
       "      <td>? Broad</td>\n",
       "      <td>F38</td>\n",
       "      <td>DONE</td>\n",
       "      <td>NaN</td>\n",
       "    </tr>\n",
       "    <tr>\n",
       "      <th>...</th>\n",
       "      <td>...</td>\n",
       "      <td>...</td>\n",
       "      <td>...</td>\n",
       "      <td>...</td>\n",
       "      <td>...</td>\n",
       "      <td>...</td>\n",
       "      <td>...</td>\n",
       "    </tr>\n",
       "    <tr>\n",
       "      <th>1560</th>\n",
       "      <td>Candidiasis</td>\n",
       "      <td>Candidiasis, Invasive</td>\n",
       "      <td>EFO_1001283</td>\n",
       "      <td>Narrow</td>\n",
       "      <td>B37</td>\n",
       "      <td>DONE</td>\n",
       "      <td>NaN</td>\n",
       "    </tr>\n",
       "    <tr>\n",
       "      <th>1561</th>\n",
       "      <td>Other bacterial intestinal infections</td>\n",
       "      <td>intestinal disease||bacterial disease</td>\n",
       "      <td>EFO_0009431||EFO_0000771</td>\n",
       "      <td>Broad</td>\n",
       "      <td>A04</td>\n",
       "      <td>DONE</td>\n",
       "      <td>NaN</td>\n",
       "    </tr>\n",
       "    <tr>\n",
       "      <th>1562</th>\n",
       "      <td>Viral and other specified intestinal infections</td>\n",
       "      <td>intestinal disease||viral disease</td>\n",
       "      <td>EFO_0009431||EFO_0000763</td>\n",
       "      <td>Broad</td>\n",
       "      <td>A08</td>\n",
       "      <td>DONE</td>\n",
       "      <td>NaN</td>\n",
       "    </tr>\n",
       "    <tr>\n",
       "      <th>1563</th>\n",
       "      <td>Other predominantly sexually transmitted disea...</td>\n",
       "      <td>bacterial sexually transmitted disease</td>\n",
       "      <td>EFO_0003955</td>\n",
       "      <td>Narrow</td>\n",
       "      <td>A63</td>\n",
       "      <td>DONE</td>\n",
       "      <td>NaN</td>\n",
       "    </tr>\n",
       "    <tr>\n",
       "      <th>1564</th>\n",
       "      <td>Other disorders of adrenal gland</td>\n",
       "      <td>adrenal gland disease</td>\n",
       "      <td>EFO_0005539</td>\n",
       "      <td>Exact</td>\n",
       "      <td>E27</td>\n",
       "      <td>DONE</td>\n",
       "      <td>NaN</td>\n",
       "    </tr>\n",
       "  </tbody>\n",
       "</table>\n",
       "<p>1565 rows × 7 columns</p>\n",
       "</div>"
      ],
      "text/plain": [
       "                                            ZOOMA QUERY  \\\n",
       "0                       Vascular disorders of intestine   \n",
       "1                                          Gonarthrosis   \n",
       "2              Psoriatic and enteropathic arthropathies   \n",
       "3                      Pain associated with micturition   \n",
       "4                                            Other mood   \n",
       "...                                                 ...   \n",
       "1560                                        Candidiasis   \n",
       "1561              Other bacterial intestinal infections   \n",
       "1562    Viral and other specified intestinal infections   \n",
       "1563  Other predominantly sexually transmitted disea...   \n",
       "1564                   Other disorders of adrenal gland   \n",
       "\n",
       "                           MAPPED_TERM_LABEL           MAPPED_TERM_URI  \\\n",
       "0                           vascular disease  EFO_0004264, EFO_0009431   \n",
       "1                     osteoarthritis || knee               EFO_0004616   \n",
       "2                        psoriatic arthritis               EFO_0003778   \n",
       "3                                    dysuria               EFO_0003901   \n",
       "4                              mood disorder               EFO_0004247   \n",
       "...                                      ...                       ...   \n",
       "1560                   Candidiasis, Invasive               EFO_1001283   \n",
       "1561   intestinal disease||bacterial disease  EFO_0009431||EFO_0000771   \n",
       "1562       intestinal disease||viral disease  EFO_0009431||EFO_0000763   \n",
       "1563  bacterial sexually transmitted disease               EFO_0003955   \n",
       "1564                   adrenal gland disease               EFO_0005539   \n",
       "\n",
       "     MAPPING_TYPE ICD10_CODE/SELF_REPORTED_TRAIT_FIELD_CODE COMMENTS/TICKET  \\\n",
       "0           Broad                                       K55            DONE   \n",
       "1           Broad                                       M17            DONE   \n",
       "2         ? Broad                                       M07            DONE   \n",
       "3         ? Broad                                       R30            DONE   \n",
       "4         ? Broad                                       F38            DONE   \n",
       "...           ...                                       ...             ...   \n",
       "1560       Narrow                                       B37            DONE   \n",
       "1561        Broad                                       A04            DONE   \n",
       "1562        Broad                                       A08            DONE   \n",
       "1563       Narrow                                       A63            DONE   \n",
       "1564        Exact                                       E27            DONE   \n",
       "\n",
       "       AI  \n",
       "0     NaN  \n",
       "1     NaN  \n",
       "2     NaN  \n",
       "3     NaN  \n",
       "4     NaN  \n",
       "...   ...  \n",
       "1560  NaN  \n",
       "1561  NaN  \n",
       "1562  NaN  \n",
       "1563  NaN  \n",
       "1564  NaN  \n",
       "\n",
       "[1565 rows x 7 columns]"
      ]
     },
     "execution_count": 17,
     "metadata": {},
     "output_type": "execute_result"
    }
   ],
   "source": [
    "ukb_to_efo"
   ]
  },
  {
   "cell_type": "code",
   "execution_count": 18,
   "metadata": {
    "execution": {
     "iopub.execute_input": "2020-12-14T21:24:31.300961Z",
     "iopub.status.busy": "2020-12-14T21:24:31.300553Z",
     "iopub.status.idle": "2020-12-14T21:24:31.310975Z",
     "shell.execute_reply": "2020-12-14T21:24:31.310585Z"
    },
    "papermill": {
     "duration": 0.045238,
     "end_time": "2020-12-14T21:24:31.311066",
     "exception": false,
     "start_time": "2020-12-14T21:24:31.265828",
     "status": "completed"
    },
    "tags": []
   },
   "outputs": [],
   "source": [
    "ukb_to_efo = ukb_to_efo.rename(\n",
    "    columns={\n",
    "        \"MAPPED_TERM_LABEL\": \"term_label\",\n",
    "        \"MAPPING_TYPE\": \"mapping_type\",\n",
    "        \"MAPPED_TERM_URI\": \"term_codes\",\n",
    "        \"ICD10_CODE/SELF_REPORTED_TRAIT_FIELD_CODE\": \"ukb_code\",\n",
    "    }\n",
    ")[[\"ukb_code\", \"term_label\", \"term_codes\", \"mapping_type\"]]"
   ]
  },
  {
   "cell_type": "markdown",
   "metadata": {
    "papermill": {
     "duration": 0.031126,
     "end_time": "2020-12-14T21:24:31.374511",
     "exception": false,
     "start_time": "2020-12-14T21:24:31.343385",
     "status": "completed"
    },
    "tags": []
   },
   "source": [
    "## Add GTEx GWAS EFO terms"
   ]
  },
  {
   "cell_type": "code",
   "execution_count": 20,
   "metadata": {
    "execution": {
     "iopub.execute_input": "2020-12-14T21:24:31.519051Z",
     "iopub.status.busy": "2020-12-14T21:24:31.518674Z",
     "iopub.status.idle": "2020-12-14T21:24:31.530688Z",
     "shell.execute_reply": "2020-12-14T21:24:31.530967Z"
    },
    "papermill": {
     "duration": 0.04776,
     "end_time": "2020-12-14T21:24:31.531077",
     "exception": false,
     "start_time": "2020-12-14T21:24:31.483317",
     "status": "completed"
    },
    "tags": []
   },
   "outputs": [],
   "source": [
    "all_gtex_gwas_phenos = [\n",
    "    p for p in phenomexcan_traits if GTEXGWASTrait.is_phenotype_from_study(p.full_code)\n",
    "]"
   ]
  },
  {
   "cell_type": "code",
   "execution_count": 21,
   "metadata": {
    "execution": {
     "iopub.execute_input": "2020-12-14T21:24:31.597448Z",
     "iopub.status.busy": "2020-12-14T21:24:31.597074Z",
     "iopub.status.idle": "2020-12-14T21:24:31.607042Z",
     "shell.execute_reply": "2020-12-14T21:24:31.606735Z"
    },
    "papermill": {
     "duration": 0.04402,
     "end_time": "2020-12-14T21:24:31.607132",
     "exception": false,
     "start_time": "2020-12-14T21:24:31.563112",
     "status": "completed"
    },
    "tags": []
   },
   "outputs": [
    {
     "data": {
      "text/plain": [
       "42"
      ]
     },
     "metadata": {},
     "output_type": "display_data"
    }
   ],
   "source": [
    "_tmp = len(all_gtex_gwas_phenos)\n",
    "display(_tmp)\n",
    "assert _tmp == 42"
   ]
  },
  {
   "cell_type": "code",
   "execution_count": 22,
   "metadata": {
    "execution": {
     "iopub.execute_input": "2020-12-14T21:24:31.673762Z",
     "iopub.status.busy": "2020-12-14T21:24:31.673399Z",
     "iopub.status.idle": "2020-12-14T21:24:31.683518Z",
     "shell.execute_reply": "2020-12-14T21:24:31.683141Z"
    },
    "papermill": {
     "duration": 0.044172,
     "end_time": "2020-12-14T21:24:31.683607",
     "exception": false,
     "start_time": "2020-12-14T21:24:31.639435",
     "status": "completed"
    },
    "tags": []
   },
   "outputs": [
    {
     "data": {
      "text/plain": [
       "[MAGNETIC_LDL.C,\n",
       " BCAC_Overall_BreastCancer_EUR,\n",
       " Astle_et_al_2016_Sum_neutrophil_eosinophil_counts,\n",
       " BCAC_ER_negative_BreastCancer_EUR,\n",
       " MAGNETIC_IDL.TG,\n",
       " Astle_et_al_2016_Eosinophil_counts,\n",
       " Astle_et_al_2016_Reticulocyte_count,\n",
       " Astle_et_al_2016_Lymphocyte_counts,\n",
       " MAGIC_ln_FastingInsulin,\n",
       " EAGLE_Eczema]"
      ]
     },
     "execution_count": 22,
     "metadata": {},
     "output_type": "execute_result"
    }
   ],
   "source": [
    "all_gtex_gwas_phenos[:10]"
   ]
  },
  {
   "cell_type": "code",
   "execution_count": 23,
   "metadata": {
    "execution": {
     "iopub.execute_input": "2020-12-14T21:24:31.751153Z",
     "iopub.status.busy": "2020-12-14T21:24:31.750790Z",
     "iopub.status.idle": "2020-12-14T21:24:31.760129Z",
     "shell.execute_reply": "2020-12-14T21:24:31.759747Z"
    },
    "papermill": {
     "duration": 0.043858,
     "end_time": "2020-12-14T21:24:31.760217",
     "exception": false,
     "start_time": "2020-12-14T21:24:31.716359",
     "status": "completed"
    },
    "tags": []
   },
   "outputs": [],
   "source": [
    "_old_shape = ukb_to_efo.shape"
   ]
  },
  {
   "cell_type": "code",
   "execution_count": 24,
   "metadata": {
    "execution": {
     "iopub.execute_input": "2020-12-14T21:24:31.828841Z",
     "iopub.status.busy": "2020-12-14T21:24:31.828414Z",
     "iopub.status.idle": "2020-12-14T21:24:31.839323Z",
     "shell.execute_reply": "2020-12-14T21:24:31.839636Z"
    },
    "papermill": {
     "duration": 0.045994,
     "end_time": "2020-12-14T21:24:31.839747",
     "exception": false,
     "start_time": "2020-12-14T21:24:31.793753",
     "status": "completed"
    },
    "tags": []
   },
   "outputs": [],
   "source": [
    "ukb_to_efo = ukb_to_efo.append(\n",
    "    pd.DataFrame(\n",
    "        {\n",
    "            \"ukb_code\": [ggp.full_code for ggp in all_gtex_gwas_phenos],\n",
    "            \"term_codes\": [ggp.orig_efo_id for ggp in all_gtex_gwas_phenos],\n",
    "        }\n",
    "    ),\n",
    "    ignore_index=True,\n",
    ")"
   ]
  },
  {
   "cell_type": "code",
   "execution_count": 25,
   "metadata": {
    "execution": {
     "iopub.execute_input": "2020-12-14T21:24:31.908214Z",
     "iopub.status.busy": "2020-12-14T21:24:31.907833Z",
     "iopub.status.idle": "2020-12-14T21:24:31.918747Z",
     "shell.execute_reply": "2020-12-14T21:24:31.919025Z"
    },
    "papermill": {
     "duration": 0.045478,
     "end_time": "2020-12-14T21:24:31.919137",
     "exception": false,
     "start_time": "2020-12-14T21:24:31.873659",
     "status": "completed"
    },
    "tags": []
   },
   "outputs": [],
   "source": [
    "# Fix wrong EFO codes\n",
    "idx = ukb_to_efo[ukb_to_efo[\"ukb_code\"] == \"BCAC_ER_negative_BreastCancer_EUR\"].index\n",
    "ukb_to_efo.loc[idx, \"term_codes\"] = \"EFO_1000650\"\n",
    "\n",
    "idx = ukb_to_efo[ukb_to_efo[\"ukb_code\"] == \"CARDIoGRAM_C4D_CAD_ADDITIVE\"].index\n",
    "ukb_to_efo.loc[idx, \"term_codes\"] = \"EFO_0001645\""
   ]
  },
  {
   "cell_type": "code",
   "execution_count": 26,
   "metadata": {
    "execution": {
     "iopub.execute_input": "2020-12-14T21:24:31.986841Z",
     "iopub.status.busy": "2020-12-14T21:24:31.986479Z",
     "iopub.status.idle": "2020-12-14T21:24:31.995769Z",
     "shell.execute_reply": "2020-12-14T21:24:31.995390Z"
    },
    "papermill": {
     "duration": 0.043949,
     "end_time": "2020-12-14T21:24:31.995858",
     "exception": false,
     "start_time": "2020-12-14T21:24:31.951909",
     "status": "completed"
    },
    "tags": []
   },
   "outputs": [],
   "source": [
    "# ukb_to_efo_maps = ukb_to_efo_maps.dropna(subset=['efo_code'])"
   ]
  },
  {
   "cell_type": "code",
   "execution_count": 27,
   "metadata": {
    "execution": {
     "iopub.execute_input": "2020-12-14T21:24:32.064492Z",
     "iopub.status.busy": "2020-12-14T21:24:32.064116Z",
     "iopub.status.idle": "2020-12-14T21:24:32.074528Z",
     "shell.execute_reply": "2020-12-14T21:24:32.074169Z"
    },
    "papermill": {
     "duration": 0.045119,
     "end_time": "2020-12-14T21:24:32.074613",
     "exception": false,
     "start_time": "2020-12-14T21:24:32.029494",
     "status": "completed"
    },
    "tags": []
   },
   "outputs": [
    {
     "data": {
      "text/plain": [
       "(1607, 4)"
      ]
     },
     "metadata": {},
     "output_type": "display_data"
    }
   ],
   "source": [
    "_tmp = ukb_to_efo.shape\n",
    "display(_tmp)\n",
    "assert _tmp[0] == _old_shape[0] + 42"
   ]
  },
  {
   "cell_type": "markdown",
   "metadata": {
    "papermill": {
     "duration": 0.032492,
     "end_time": "2020-12-14T21:24:32.139801",
     "exception": false,
     "start_time": "2020-12-14T21:24:32.107309",
     "status": "completed"
    },
    "tags": []
   },
   "source": [
    "## Replace values and remove nans"
   ]
  },
  {
   "cell_type": "code",
   "execution_count": 28,
   "metadata": {
    "execution": {
     "iopub.execute_input": "2020-12-14T21:24:32.208902Z",
     "iopub.status.busy": "2020-12-14T21:24:32.208453Z",
     "iopub.status.idle": "2020-12-14T21:24:32.222691Z",
     "shell.execute_reply": "2020-12-14T21:24:32.222980Z"
    },
    "papermill": {
     "duration": 0.050455,
     "end_time": "2020-12-14T21:24:32.223094",
     "exception": false,
     "start_time": "2020-12-14T21:24:32.172639",
     "status": "completed"
    },
    "tags": []
   },
   "outputs": [],
   "source": [
    "ukb_to_efo = ukb_to_efo.replace(\n",
    "    {\n",
    "        \"term_codes\": {\n",
    "            #             '\\|\\|': ', ',\n",
    "            \"_\": \":\",\n",
    "            \"HP0011106\": \"HP:0011106\",\n",
    "        },\n",
    "        #         'efo_name': {\n",
    "        #             '\\|\\|': ', ',\n",
    "        #         }\n",
    "    },\n",
    "    regex=True,\n",
    ")"
   ]
  },
  {
   "cell_type": "code",
   "execution_count": 29,
   "metadata": {
    "execution": {
     "iopub.execute_input": "2020-12-14T21:24:32.291732Z",
     "iopub.status.busy": "2020-12-14T21:24:32.291368Z",
     "iopub.status.idle": "2020-12-14T21:24:32.302754Z",
     "shell.execute_reply": "2020-12-14T21:24:32.302377Z"
    },
    "papermill": {
     "duration": 0.046355,
     "end_time": "2020-12-14T21:24:32.302842",
     "exception": false,
     "start_time": "2020-12-14T21:24:32.256487",
     "status": "completed"
    },
    "tags": []
   },
   "outputs": [],
   "source": [
    "ukb_to_efo = ukb_to_efo.dropna(how=\"all\")"
   ]
  },
  {
   "cell_type": "code",
   "execution_count": 30,
   "metadata": {
    "execution": {
     "iopub.execute_input": "2020-12-14T21:24:32.371322Z",
     "iopub.status.busy": "2020-12-14T21:24:32.370957Z",
     "iopub.status.idle": "2020-12-14T21:24:32.381848Z",
     "shell.execute_reply": "2020-12-14T21:24:32.381540Z"
    },
    "papermill": {
     "duration": 0.045652,
     "end_time": "2020-12-14T21:24:32.381940",
     "exception": false,
     "start_time": "2020-12-14T21:24:32.336288",
     "status": "completed"
    },
    "tags": []
   },
   "outputs": [],
   "source": [
    "ukb_to_efo = ukb_to_efo.dropna(subset=[\"term_codes\"])"
   ]
  },
  {
   "cell_type": "code",
   "execution_count": 31,
   "metadata": {
    "execution": {
     "iopub.execute_input": "2020-12-14T21:24:32.474530Z",
     "iopub.status.busy": "2020-12-14T21:24:32.474108Z",
     "iopub.status.idle": "2020-12-14T21:24:32.484576Z",
     "shell.execute_reply": "2020-12-14T21:24:32.484166Z"
    },
    "papermill": {
     "duration": 0.050745,
     "end_time": "2020-12-14T21:24:32.484673",
     "exception": false,
     "start_time": "2020-12-14T21:24:32.433928",
     "status": "completed"
    },
    "tags": []
   },
   "outputs": [],
   "source": [
    "assert ukb_to_efo[ukb_to_efo[\"term_codes\"].isna()].shape[0] == 0"
   ]
  },
  {
   "cell_type": "code",
   "execution_count": 32,
   "metadata": {
    "execution": {
     "iopub.execute_input": "2020-12-14T21:24:32.553802Z",
     "iopub.status.busy": "2020-12-14T21:24:32.553437Z",
     "iopub.status.idle": "2020-12-14T21:24:32.563885Z",
     "shell.execute_reply": "2020-12-14T21:24:32.563508Z"
    },
    "papermill": {
     "duration": 0.045583,
     "end_time": "2020-12-14T21:24:32.563975",
     "exception": false,
     "start_time": "2020-12-14T21:24:32.518392",
     "status": "completed"
    },
    "tags": []
   },
   "outputs": [],
   "source": [
    "assert ukb_to_efo[ukb_to_efo[\"term_codes\"].str.contains(\"EFO:\")].shape[0] > 0"
   ]
  },
  {
   "cell_type": "code",
   "execution_count": 33,
   "metadata": {
    "execution": {
     "iopub.execute_input": "2020-12-14T21:24:32.632384Z",
     "iopub.status.busy": "2020-12-14T21:24:32.632020Z",
     "iopub.status.idle": "2020-12-14T21:24:32.642332Z",
     "shell.execute_reply": "2020-12-14T21:24:32.641943Z"
    },
    "papermill": {
     "duration": 0.045494,
     "end_time": "2020-12-14T21:24:32.642424",
     "exception": false,
     "start_time": "2020-12-14T21:24:32.596930",
     "status": "completed"
    },
    "tags": []
   },
   "outputs": [],
   "source": [
    "assert ukb_to_efo[ukb_to_efo[\"term_codes\"].str.contains(\"HP:\")].shape[0] > 0"
   ]
  },
  {
   "cell_type": "code",
   "execution_count": 34,
   "metadata": {
    "execution": {
     "iopub.execute_input": "2020-12-14T21:24:32.712123Z",
     "iopub.status.busy": "2020-12-14T21:24:32.711747Z",
     "iopub.status.idle": "2020-12-14T21:24:32.722729Z",
     "shell.execute_reply": "2020-12-14T21:24:32.722362Z"
    },
    "papermill": {
     "duration": 0.046165,
     "end_time": "2020-12-14T21:24:32.722818",
     "exception": false,
     "start_time": "2020-12-14T21:24:32.676653",
     "status": "completed"
    },
    "tags": []
   },
   "outputs": [
    {
     "data": {
      "text/plain": [
       "(1599, 4)"
      ]
     },
     "execution_count": 34,
     "metadata": {},
     "output_type": "execute_result"
    }
   ],
   "source": [
    "ukb_to_efo.shape"
   ]
  },
  {
   "cell_type": "code",
   "execution_count": 35,
   "metadata": {
    "execution": {
     "iopub.execute_input": "2020-12-14T21:24:32.792039Z",
     "iopub.status.busy": "2020-12-14T21:24:32.791673Z",
     "iopub.status.idle": "2020-12-14T21:24:32.805244Z",
     "shell.execute_reply": "2020-12-14T21:24:32.804873Z"
    },
    "papermill": {
     "duration": 0.048948,
     "end_time": "2020-12-14T21:24:32.805334",
     "exception": false,
     "start_time": "2020-12-14T21:24:32.756386",
     "status": "completed"
    },
    "tags": []
   },
   "outputs": [
    {
     "data": {
      "text/html": [
       "<div>\n",
       "<style scoped>\n",
       "    .dataframe tbody tr th:only-of-type {\n",
       "        vertical-align: middle;\n",
       "    }\n",
       "\n",
       "    .dataframe tbody tr th {\n",
       "        vertical-align: top;\n",
       "    }\n",
       "\n",
       "    .dataframe thead th {\n",
       "        text-align: right;\n",
       "    }\n",
       "</style>\n",
       "<table border=\"1\" class=\"dataframe\">\n",
       "  <thead>\n",
       "    <tr style=\"text-align: right;\">\n",
       "      <th></th>\n",
       "      <th>ukb_code</th>\n",
       "      <th>term_label</th>\n",
       "      <th>term_codes</th>\n",
       "      <th>mapping_type</th>\n",
       "    </tr>\n",
       "  </thead>\n",
       "  <tbody>\n",
       "    <tr>\n",
       "      <th>0</th>\n",
       "      <td>K55</td>\n",
       "      <td>vascular disease</td>\n",
       "      <td>EFO:0004264, EFO:0009431</td>\n",
       "      <td>Broad</td>\n",
       "    </tr>\n",
       "    <tr>\n",
       "      <th>1</th>\n",
       "      <td>M17</td>\n",
       "      <td>osteoarthritis || knee</td>\n",
       "      <td>EFO:0004616</td>\n",
       "      <td>Broad</td>\n",
       "    </tr>\n",
       "    <tr>\n",
       "      <th>2</th>\n",
       "      <td>M07</td>\n",
       "      <td>psoriatic arthritis</td>\n",
       "      <td>EFO:0003778</td>\n",
       "      <td>? Broad</td>\n",
       "    </tr>\n",
       "    <tr>\n",
       "      <th>3</th>\n",
       "      <td>R30</td>\n",
       "      <td>dysuria</td>\n",
       "      <td>EFO:0003901</td>\n",
       "      <td>? Broad</td>\n",
       "    </tr>\n",
       "    <tr>\n",
       "      <th>4</th>\n",
       "      <td>F38</td>\n",
       "      <td>mood disorder</td>\n",
       "      <td>EFO:0004247</td>\n",
       "      <td>? Broad</td>\n",
       "    </tr>\n",
       "  </tbody>\n",
       "</table>\n",
       "</div>"
      ],
      "text/plain": [
       "  ukb_code              term_label                term_codes mapping_type\n",
       "0      K55        vascular disease  EFO:0004264, EFO:0009431        Broad\n",
       "1      M17  osteoarthritis || knee               EFO:0004616        Broad\n",
       "2      M07     psoriatic arthritis               EFO:0003778      ? Broad\n",
       "3      R30                 dysuria               EFO:0003901      ? Broad\n",
       "4      F38           mood disorder               EFO:0004247      ? Broad"
      ]
     },
     "execution_count": 35,
     "metadata": {},
     "output_type": "execute_result"
    }
   ],
   "source": [
    "ukb_to_efo.head()"
   ]
  },
  {
   "cell_type": "markdown",
   "metadata": {
    "papermill": {
     "duration": 0.032853,
     "end_time": "2020-12-14T21:24:32.871741",
     "exception": false,
     "start_time": "2020-12-14T21:24:32.838888",
     "status": "completed"
    },
    "tags": []
   },
   "source": [
    "# Add PhenomeXcan code/full code"
   ]
  },
  {
   "cell_type": "code",
   "execution_count": 36,
   "metadata": {
    "execution": {
     "iopub.execute_input": "2020-12-14T21:24:32.940934Z",
     "iopub.status.busy": "2020-12-14T21:24:32.940486Z",
     "iopub.status.idle": "2020-12-14T21:24:32.949654Z",
     "shell.execute_reply": "2020-12-14T21:24:32.949353Z"
    },
    "papermill": {
     "duration": 0.044527,
     "end_time": "2020-12-14T21:24:32.949744",
     "exception": false,
     "start_time": "2020-12-14T21:24:32.905217",
     "status": "completed"
    },
    "tags": []
   },
   "outputs": [],
   "source": [
    "def _get_fullcode(code):\n",
    "    if code in phenomexcan_code_to_full_code:\n",
    "        return phenomexcan_code_to_full_code[code]\n",
    "\n",
    "    return None"
   ]
  },
  {
   "cell_type": "code",
   "execution_count": 37,
   "metadata": {
    "execution": {
     "iopub.execute_input": "2020-12-14T21:24:33.019964Z",
     "iopub.status.busy": "2020-12-14T21:24:33.019596Z",
     "iopub.status.idle": "2020-12-14T21:24:33.030572Z",
     "shell.execute_reply": "2020-12-14T21:24:33.030191Z"
    },
    "papermill": {
     "duration": 0.047032,
     "end_time": "2020-12-14T21:24:33.030662",
     "exception": false,
     "start_time": "2020-12-14T21:24:32.983630",
     "status": "completed"
    },
    "tags": []
   },
   "outputs": [],
   "source": [
    "ukb_to_efo = ukb_to_efo.assign(ukb_fullcode=ukb_to_efo[\"ukb_code\"].apply(_get_fullcode))"
   ]
  },
  {
   "cell_type": "code",
   "execution_count": 38,
   "metadata": {
    "execution": {
     "iopub.execute_input": "2020-12-14T21:24:33.099957Z",
     "iopub.status.busy": "2020-12-14T21:24:33.099579Z",
     "iopub.status.idle": "2020-12-14T21:24:33.109722Z",
     "shell.execute_reply": "2020-12-14T21:24:33.109383Z"
    },
    "papermill": {
     "duration": 0.045802,
     "end_time": "2020-12-14T21:24:33.109811",
     "exception": false,
     "start_time": "2020-12-14T21:24:33.064009",
     "status": "completed"
    },
    "tags": []
   },
   "outputs": [
    {
     "data": {
      "text/plain": [
       "(1599, 5)"
      ]
     },
     "execution_count": 38,
     "metadata": {},
     "output_type": "execute_result"
    }
   ],
   "source": [
    "ukb_to_efo.shape"
   ]
  },
  {
   "cell_type": "code",
   "execution_count": 39,
   "metadata": {
    "execution": {
     "iopub.execute_input": "2020-12-14T21:24:33.179068Z",
     "iopub.status.busy": "2020-12-14T21:24:33.178649Z",
     "iopub.status.idle": "2020-12-14T21:24:33.192634Z",
     "shell.execute_reply": "2020-12-14T21:24:33.192336Z"
    },
    "papermill": {
     "duration": 0.049465,
     "end_time": "2020-12-14T21:24:33.192764",
     "exception": false,
     "start_time": "2020-12-14T21:24:33.143299",
     "status": "completed"
    },
    "tags": []
   },
   "outputs": [
    {
     "data": {
      "text/html": [
       "<div>\n",
       "<style scoped>\n",
       "    .dataframe tbody tr th:only-of-type {\n",
       "        vertical-align: middle;\n",
       "    }\n",
       "\n",
       "    .dataframe tbody tr th {\n",
       "        vertical-align: top;\n",
       "    }\n",
       "\n",
       "    .dataframe thead th {\n",
       "        text-align: right;\n",
       "    }\n",
       "</style>\n",
       "<table border=\"1\" class=\"dataframe\">\n",
       "  <thead>\n",
       "    <tr style=\"text-align: right;\">\n",
       "      <th></th>\n",
       "      <th>ukb_code</th>\n",
       "      <th>term_label</th>\n",
       "      <th>term_codes</th>\n",
       "      <th>mapping_type</th>\n",
       "      <th>ukb_fullcode</th>\n",
       "    </tr>\n",
       "  </thead>\n",
       "  <tbody>\n",
       "    <tr>\n",
       "      <th>0</th>\n",
       "      <td>K55</td>\n",
       "      <td>vascular disease</td>\n",
       "      <td>EFO:0004264, EFO:0009431</td>\n",
       "      <td>Broad</td>\n",
       "      <td>K55-Diagnoses_main_ICD10_K55_Vascular_disorder...</td>\n",
       "    </tr>\n",
       "    <tr>\n",
       "      <th>1</th>\n",
       "      <td>M17</td>\n",
       "      <td>osteoarthritis || knee</td>\n",
       "      <td>EFO:0004616</td>\n",
       "      <td>Broad</td>\n",
       "      <td>M17-Diagnoses_main_ICD10_M17_Gonarthrosis_arth...</td>\n",
       "    </tr>\n",
       "    <tr>\n",
       "      <th>2</th>\n",
       "      <td>M07</td>\n",
       "      <td>psoriatic arthritis</td>\n",
       "      <td>EFO:0003778</td>\n",
       "      <td>? Broad</td>\n",
       "      <td>None</td>\n",
       "    </tr>\n",
       "    <tr>\n",
       "      <th>3</th>\n",
       "      <td>R30</td>\n",
       "      <td>dysuria</td>\n",
       "      <td>EFO:0003901</td>\n",
       "      <td>? Broad</td>\n",
       "      <td>R30-Diagnoses_main_ICD10_R30_Pain_associated_w...</td>\n",
       "    </tr>\n",
       "    <tr>\n",
       "      <th>4</th>\n",
       "      <td>F38</td>\n",
       "      <td>mood disorder</td>\n",
       "      <td>EFO:0004247</td>\n",
       "      <td>? Broad</td>\n",
       "      <td>None</td>\n",
       "    </tr>\n",
       "  </tbody>\n",
       "</table>\n",
       "</div>"
      ],
      "text/plain": [
       "  ukb_code              term_label                term_codes mapping_type  \\\n",
       "0      K55        vascular disease  EFO:0004264, EFO:0009431        Broad   \n",
       "1      M17  osteoarthritis || knee               EFO:0004616        Broad   \n",
       "2      M07     psoriatic arthritis               EFO:0003778      ? Broad   \n",
       "3      R30                 dysuria               EFO:0003901      ? Broad   \n",
       "4      F38           mood disorder               EFO:0004247      ? Broad   \n",
       "\n",
       "                                        ukb_fullcode  \n",
       "0  K55-Diagnoses_main_ICD10_K55_Vascular_disorder...  \n",
       "1  M17-Diagnoses_main_ICD10_M17_Gonarthrosis_arth...  \n",
       "2                                               None  \n",
       "3  R30-Diagnoses_main_ICD10_R30_Pain_associated_w...  \n",
       "4                                               None  "
      ]
     },
     "execution_count": 39,
     "metadata": {},
     "output_type": "execute_result"
    }
   ],
   "source": [
    "ukb_to_efo.head()"
   ]
  },
  {
   "cell_type": "code",
   "execution_count": 40,
   "metadata": {
    "execution": {
     "iopub.execute_input": "2020-12-14T21:24:33.262647Z",
     "iopub.status.busy": "2020-12-14T21:24:33.262272Z",
     "iopub.status.idle": "2020-12-14T21:24:33.273260Z",
     "shell.execute_reply": "2020-12-14T21:24:33.272885Z"
    },
    "papermill": {
     "duration": 0.046841,
     "end_time": "2020-12-14T21:24:33.273347",
     "exception": false,
     "start_time": "2020-12-14T21:24:33.226506",
     "status": "completed"
    },
    "tags": []
   },
   "outputs": [],
   "source": [
    "# remove entries for which we couldn't map a ukb full code\n",
    "ukb_to_efo = ukb_to_efo.dropna(subset=[\"ukb_fullcode\"])"
   ]
  },
  {
   "cell_type": "code",
   "execution_count": 41,
   "metadata": {
    "execution": {
     "iopub.execute_input": "2020-12-14T21:24:33.342750Z",
     "iopub.status.busy": "2020-12-14T21:24:33.342376Z",
     "iopub.status.idle": "2020-12-14T21:24:33.352807Z",
     "shell.execute_reply": "2020-12-14T21:24:33.352398Z"
    },
    "papermill": {
     "duration": 0.045889,
     "end_time": "2020-12-14T21:24:33.352897",
     "exception": false,
     "start_time": "2020-12-14T21:24:33.307008",
     "status": "completed"
    },
    "tags": []
   },
   "outputs": [
    {
     "data": {
      "text/plain": [
       "(1087, 5)"
      ]
     },
     "execution_count": 41,
     "metadata": {},
     "output_type": "execute_result"
    }
   ],
   "source": [
    "ukb_to_efo.shape"
   ]
  },
  {
   "cell_type": "code",
   "execution_count": 42,
   "metadata": {
    "execution": {
     "iopub.execute_input": "2020-12-14T21:24:33.422206Z",
     "iopub.status.busy": "2020-12-14T21:24:33.421842Z",
     "iopub.status.idle": "2020-12-14T21:24:33.433417Z",
     "shell.execute_reply": "2020-12-14T21:24:33.433035Z"
    },
    "papermill": {
     "duration": 0.047055,
     "end_time": "2020-12-14T21:24:33.433506",
     "exception": false,
     "start_time": "2020-12-14T21:24:33.386451",
     "status": "completed"
    },
    "tags": []
   },
   "outputs": [
    {
     "data": {
      "text/plain": [
       "ukb_code         0\n",
       "term_label      43\n",
       "term_codes       0\n",
       "mapping_type    36\n",
       "ukb_fullcode     0\n",
       "dtype: int64"
      ]
     },
     "execution_count": 42,
     "metadata": {},
     "output_type": "execute_result"
    }
   ],
   "source": [
    "ukb_to_efo.isna().sum()"
   ]
  },
  {
   "cell_type": "code",
   "execution_count": 43,
   "metadata": {
    "execution": {
     "iopub.execute_input": "2020-12-14T21:24:33.508435Z",
     "iopub.status.busy": "2020-12-14T21:24:33.507994Z",
     "iopub.status.idle": "2020-12-14T21:24:33.527869Z",
     "shell.execute_reply": "2020-12-14T21:24:33.527544Z"
    },
    "papermill": {
     "duration": 0.059609,
     "end_time": "2020-12-14T21:24:33.527960",
     "exception": false,
     "start_time": "2020-12-14T21:24:33.468351",
     "status": "completed"
    },
    "tags": []
   },
   "outputs": [
    {
     "data": {
      "text/html": [
       "<div>\n",
       "<style scoped>\n",
       "    .dataframe tbody tr th:only-of-type {\n",
       "        vertical-align: middle;\n",
       "    }\n",
       "\n",
       "    .dataframe tbody tr th {\n",
       "        vertical-align: top;\n",
       "    }\n",
       "\n",
       "    .dataframe thead th {\n",
       "        text-align: right;\n",
       "    }\n",
       "</style>\n",
       "<table border=\"1\" class=\"dataframe\">\n",
       "  <thead>\n",
       "    <tr style=\"text-align: right;\">\n",
       "      <th></th>\n",
       "      <th>ukb_code</th>\n",
       "      <th>term_label</th>\n",
       "      <th>term_codes</th>\n",
       "      <th>mapping_type</th>\n",
       "      <th>ukb_fullcode</th>\n",
       "    </tr>\n",
       "  </thead>\n",
       "  <tbody>\n",
       "    <tr>\n",
       "      <th>452</th>\n",
       "      <td>R94</td>\n",
       "      <td>NaN</td>\n",
       "      <td>EFO:0009628</td>\n",
       "      <td>Exact</td>\n",
       "      <td>R94-Diagnoses_main_ICD10_R94_Abnormal_results_...</td>\n",
       "    </tr>\n",
       "    <tr>\n",
       "      <th>1031</th>\n",
       "      <td>1170</td>\n",
       "      <td>NaN</td>\n",
       "      <td>EFO:0009817</td>\n",
       "      <td>Exact</td>\n",
       "      <td>1170-Getting_up_in_morning</td>\n",
       "    </tr>\n",
       "    <tr>\n",
       "      <th>1123</th>\n",
       "      <td>M75</td>\n",
       "      <td>NaN</td>\n",
       "      <td>EFO:0009470</td>\n",
       "      <td>Broad</td>\n",
       "      <td>M75-Diagnoses_main_ICD10_M75_Shoulder_lesions</td>\n",
       "    </tr>\n",
       "    <tr>\n",
       "      <th>1124</th>\n",
       "      <td>O32</td>\n",
       "      <td>NaN</td>\n",
       "      <td>EFO:0009682</td>\n",
       "      <td>Broad</td>\n",
       "      <td>O32-Diagnoses_main_ICD10_O32_Maternal_care_for...</td>\n",
       "    </tr>\n",
       "    <tr>\n",
       "      <th>1126</th>\n",
       "      <td>O34</td>\n",
       "      <td>NaN</td>\n",
       "      <td>EFO:0009682</td>\n",
       "      <td>Broad</td>\n",
       "      <td>O34-Diagnoses_main_ICD10_O34_Maternal_care_for...</td>\n",
       "    </tr>\n",
       "    <tr>\n",
       "      <th>1141</th>\n",
       "      <td>Z76</td>\n",
       "      <td>NaN</td>\n",
       "      <td>EFO:0009786</td>\n",
       "      <td>Broad</td>\n",
       "      <td>Z76-Diagnoses_main_ICD10_Z76_Persons_encounter...</td>\n",
       "    </tr>\n",
       "    <tr>\n",
       "      <th>1142</th>\n",
       "      <td>Z71</td>\n",
       "      <td>NaN</td>\n",
       "      <td>EFO:0009786</td>\n",
       "      <td>Broad</td>\n",
       "      <td>Z71-Diagnoses_main_ICD10_Z71_Persons_encounter...</td>\n",
       "    </tr>\n",
       "    <tr>\n",
       "      <th>1156</th>\n",
       "      <td>Z53</td>\n",
       "      <td>NaN</td>\n",
       "      <td>EFO:0009786</td>\n",
       "      <td>Broad</td>\n",
       "      <td>Z53-Diagnoses_main_ICD10_Z53_Persons_encounter...</td>\n",
       "    </tr>\n",
       "    <tr>\n",
       "      <th>1566</th>\n",
       "      <td>BCAC_Overall_BreastCancer_EUR</td>\n",
       "      <td>NaN</td>\n",
       "      <td>EFO:0005606</td>\n",
       "      <td>NaN</td>\n",
       "      <td>BCAC_Overall_BreastCancer_EUR</td>\n",
       "    </tr>\n",
       "    <tr>\n",
       "      <th>1567</th>\n",
       "      <td>Astle_et_al_2016_Sum_neutrophil_eosinophil_counts</td>\n",
       "      <td>NaN</td>\n",
       "      <td>EFO:0004842</td>\n",
       "      <td>NaN</td>\n",
       "      <td>Astle_et_al_2016_Sum_neutrophil_eosinophil_counts</td>\n",
       "    </tr>\n",
       "    <tr>\n",
       "      <th>1568</th>\n",
       "      <td>BCAC_ER_negative_BreastCancer_EUR</td>\n",
       "      <td>NaN</td>\n",
       "      <td>EFO:1000650</td>\n",
       "      <td>NaN</td>\n",
       "      <td>BCAC_ER_negative_BreastCancer_EUR</td>\n",
       "    </tr>\n",
       "    <tr>\n",
       "      <th>1570</th>\n",
       "      <td>Astle_et_al_2016_Eosinophil_counts</td>\n",
       "      <td>NaN</td>\n",
       "      <td>EFO:0004842</td>\n",
       "      <td>NaN</td>\n",
       "      <td>Astle_et_al_2016_Eosinophil_counts</td>\n",
       "    </tr>\n",
       "    <tr>\n",
       "      <th>1571</th>\n",
       "      <td>Astle_et_al_2016_Reticulocyte_count</td>\n",
       "      <td>NaN</td>\n",
       "      <td>EFO:0007986</td>\n",
       "      <td>NaN</td>\n",
       "      <td>Astle_et_al_2016_Reticulocyte_count</td>\n",
       "    </tr>\n",
       "    <tr>\n",
       "      <th>1572</th>\n",
       "      <td>Astle_et_al_2016_Lymphocyte_counts</td>\n",
       "      <td>NaN</td>\n",
       "      <td>EFO:0004587</td>\n",
       "      <td>NaN</td>\n",
       "      <td>Astle_et_al_2016_Lymphocyte_counts</td>\n",
       "    </tr>\n",
       "    <tr>\n",
       "      <th>1573</th>\n",
       "      <td>MAGIC_ln_FastingInsulin</td>\n",
       "      <td>NaN</td>\n",
       "      <td>EFO:0004466</td>\n",
       "      <td>NaN</td>\n",
       "      <td>MAGIC_ln_FastingInsulin</td>\n",
       "    </tr>\n",
       "    <tr>\n",
       "      <th>1575</th>\n",
       "      <td>IMMUNOBASE_Systemic_lupus_erythematosus_hg19</td>\n",
       "      <td>NaN</td>\n",
       "      <td>EFO:0002690</td>\n",
       "      <td>NaN</td>\n",
       "      <td>IMMUNOBASE_Systemic_lupus_erythematosus_hg19</td>\n",
       "    </tr>\n",
       "    <tr>\n",
       "      <th>1576</th>\n",
       "      <td>CNCR_Insomnia_all</td>\n",
       "      <td>NaN</td>\n",
       "      <td>EFO:0004698</td>\n",
       "      <td>NaN</td>\n",
       "      <td>CNCR_Insomnia_all</td>\n",
       "    </tr>\n",
       "    <tr>\n",
       "      <th>1577</th>\n",
       "      <td>Astle_et_al_2016_Monocyte_count</td>\n",
       "      <td>NaN</td>\n",
       "      <td>EFO:0005091</td>\n",
       "      <td>NaN</td>\n",
       "      <td>Astle_et_al_2016_Monocyte_count</td>\n",
       "    </tr>\n",
       "    <tr>\n",
       "      <th>1578</th>\n",
       "      <td>GEFOS_Forearm</td>\n",
       "      <td>NaN</td>\n",
       "      <td>EFO:0003923</td>\n",
       "      <td>NaN</td>\n",
       "      <td>GEFOS_Forearm</td>\n",
       "    </tr>\n",
       "    <tr>\n",
       "      <th>1579</th>\n",
       "      <td>Astle_et_al_2016_Neutrophil_count</td>\n",
       "      <td>NaN</td>\n",
       "      <td>EFO:0004833</td>\n",
       "      <td>NaN</td>\n",
       "      <td>Astle_et_al_2016_Neutrophil_count</td>\n",
       "    </tr>\n",
       "    <tr>\n",
       "      <th>1580</th>\n",
       "      <td>CARDIoGRAM_C4D_CAD_ADDITIVE</td>\n",
       "      <td>NaN</td>\n",
       "      <td>EFO:0001645</td>\n",
       "      <td>NaN</td>\n",
       "      <td>CARDIoGRAM_C4D_CAD_ADDITIVE</td>\n",
       "    </tr>\n",
       "    <tr>\n",
       "      <th>1581</th>\n",
       "      <td>Astle_et_al_2016_White_blood_cell_count</td>\n",
       "      <td>NaN</td>\n",
       "      <td>EFO:0004308</td>\n",
       "      <td>NaN</td>\n",
       "      <td>Astle_et_al_2016_White_blood_cell_count</td>\n",
       "    </tr>\n",
       "    <tr>\n",
       "      <th>1583</th>\n",
       "      <td>IBD.EUR.Ulcerative_Colitis</td>\n",
       "      <td>NaN</td>\n",
       "      <td>EFO:0003767</td>\n",
       "      <td>NaN</td>\n",
       "      <td>IBD.EUR.Ulcerative_Colitis</td>\n",
       "    </tr>\n",
       "    <tr>\n",
       "      <th>1584</th>\n",
       "      <td>IBD.EUR.Crohns_Disease</td>\n",
       "      <td>NaN</td>\n",
       "      <td>EFO:0003767</td>\n",
       "      <td>NaN</td>\n",
       "      <td>IBD.EUR.Crohns_Disease</td>\n",
       "    </tr>\n",
       "    <tr>\n",
       "      <th>1586</th>\n",
       "      <td>Astle_et_al_2016_Myeloid_white_cell_count</td>\n",
       "      <td>NaN</td>\n",
       "      <td>EFO:0007988</td>\n",
       "      <td>NaN</td>\n",
       "      <td>Astle_et_al_2016_Myeloid_white_cell_count</td>\n",
       "    </tr>\n",
       "    <tr>\n",
       "      <th>1587</th>\n",
       "      <td>Astle_et_al_2016_Granulocyte_count</td>\n",
       "      <td>NaN</td>\n",
       "      <td>EFO:0007987</td>\n",
       "      <td>NaN</td>\n",
       "      <td>Astle_et_al_2016_Granulocyte_count</td>\n",
       "    </tr>\n",
       "    <tr>\n",
       "      <th>1588</th>\n",
       "      <td>IGAP_Alzheimer</td>\n",
       "      <td>NaN</td>\n",
       "      <td>EFO:0000249</td>\n",
       "      <td>NaN</td>\n",
       "      <td>IGAP_Alzheimer</td>\n",
       "    </tr>\n",
       "    <tr>\n",
       "      <th>1589</th>\n",
       "      <td>Astle_et_al_2016_Platelet_count</td>\n",
       "      <td>NaN</td>\n",
       "      <td>EFO:0004309</td>\n",
       "      <td>NaN</td>\n",
       "      <td>Astle_et_al_2016_Platelet_count</td>\n",
       "    </tr>\n",
       "    <tr>\n",
       "      <th>1590</th>\n",
       "      <td>Jones_et_al_2016_SleepDuration</td>\n",
       "      <td>NaN</td>\n",
       "      <td>EFO:0005271</td>\n",
       "      <td>NaN</td>\n",
       "      <td>Jones_et_al_2016_SleepDuration</td>\n",
       "    </tr>\n",
       "    <tr>\n",
       "      <th>1591</th>\n",
       "      <td>Astle_et_al_2016_Sum_eosinophil_basophil_counts</td>\n",
       "      <td>NaN</td>\n",
       "      <td>EFO:0004842</td>\n",
       "      <td>NaN</td>\n",
       "      <td>Astle_et_al_2016_Sum_eosinophil_basophil_counts</td>\n",
       "    </tr>\n",
       "    <tr>\n",
       "      <th>1593</th>\n",
       "      <td>ENIGMA_Intracraneal_Volume</td>\n",
       "      <td>NaN</td>\n",
       "      <td>EFO:0004886</td>\n",
       "      <td>NaN</td>\n",
       "      <td>ENIGMA_Intracraneal_Volume</td>\n",
       "    </tr>\n",
       "    <tr>\n",
       "      <th>1594</th>\n",
       "      <td>GIANT_HEIGHT</td>\n",
       "      <td>NaN</td>\n",
       "      <td>EFO:0004339</td>\n",
       "      <td>NaN</td>\n",
       "      <td>GIANT_HEIGHT</td>\n",
       "    </tr>\n",
       "    <tr>\n",
       "      <th>1595</th>\n",
       "      <td>EGG_BW3_EUR</td>\n",
       "      <td>NaN</td>\n",
       "      <td>EFO:0004344</td>\n",
       "      <td>NaN</td>\n",
       "      <td>EGG_BW3_EUR</td>\n",
       "    </tr>\n",
       "    <tr>\n",
       "      <th>1597</th>\n",
       "      <td>Astle_et_al_2016_Sum_basophil_neutrophil_counts</td>\n",
       "      <td>NaN</td>\n",
       "      <td>EFO:0004833</td>\n",
       "      <td>NaN</td>\n",
       "      <td>Astle_et_al_2016_Sum_basophil_neutrophil_counts</td>\n",
       "    </tr>\n",
       "    <tr>\n",
       "      <th>1598</th>\n",
       "      <td>RA_OKADA_TRANS_ETHNIC</td>\n",
       "      <td>NaN</td>\n",
       "      <td>EFO:0000685</td>\n",
       "      <td>NaN</td>\n",
       "      <td>RA_OKADA_TRANS_ETHNIC</td>\n",
       "    </tr>\n",
       "    <tr>\n",
       "      <th>1599</th>\n",
       "      <td>pgc.scz2</td>\n",
       "      <td>NaN</td>\n",
       "      <td>EFO:0000692</td>\n",
       "      <td>NaN</td>\n",
       "      <td>pgc.scz2</td>\n",
       "    </tr>\n",
       "    <tr>\n",
       "      <th>1600</th>\n",
       "      <td>PGC_ADHD_EUR_2017</td>\n",
       "      <td>NaN</td>\n",
       "      <td>EFO:0003888</td>\n",
       "      <td>NaN</td>\n",
       "      <td>PGC_ADHD_EUR_2017</td>\n",
       "    </tr>\n",
       "    <tr>\n",
       "      <th>1601</th>\n",
       "      <td>MAGIC_FastingGlucose</td>\n",
       "      <td>NaN</td>\n",
       "      <td>EFO:0004465</td>\n",
       "      <td>NaN</td>\n",
       "      <td>MAGIC_FastingGlucose</td>\n",
       "    </tr>\n",
       "    <tr>\n",
       "      <th>1602</th>\n",
       "      <td>Astle_et_al_2016_Red_blood_cell_count</td>\n",
       "      <td>NaN</td>\n",
       "      <td>EFO:0004305</td>\n",
       "      <td>NaN</td>\n",
       "      <td>Astle_et_al_2016_Red_blood_cell_count</td>\n",
       "    </tr>\n",
       "    <tr>\n",
       "      <th>1603</th>\n",
       "      <td>SSGAC_Depressive_Symptoms</td>\n",
       "      <td>NaN</td>\n",
       "      <td>EFO:0007006</td>\n",
       "      <td>NaN</td>\n",
       "      <td>SSGAC_Depressive_Symptoms</td>\n",
       "    </tr>\n",
       "    <tr>\n",
       "      <th>1604</th>\n",
       "      <td>BCAC_ER_positive_BreastCancer_EUR</td>\n",
       "      <td>NaN</td>\n",
       "      <td>EFO:1000649</td>\n",
       "      <td>NaN</td>\n",
       "      <td>BCAC_ER_positive_BreastCancer_EUR</td>\n",
       "    </tr>\n",
       "    <tr>\n",
       "      <th>1605</th>\n",
       "      <td>IBD.EUR.Inflammatory_Bowel_Disease</td>\n",
       "      <td>NaN</td>\n",
       "      <td>EFO:0003767</td>\n",
       "      <td>NaN</td>\n",
       "      <td>IBD.EUR.Inflammatory_Bowel_Disease</td>\n",
       "    </tr>\n",
       "    <tr>\n",
       "      <th>1606</th>\n",
       "      <td>Astle_et_al_2016_High_light_scatter_reticulocy...</td>\n",
       "      <td>NaN</td>\n",
       "      <td>EFO:0007986</td>\n",
       "      <td>NaN</td>\n",
       "      <td>Astle_et_al_2016_High_light_scatter_reticulocy...</td>\n",
       "    </tr>\n",
       "  </tbody>\n",
       "</table>\n",
       "</div>"
      ],
      "text/plain": [
       "                                               ukb_code term_label  \\\n",
       "452                                                 R94        NaN   \n",
       "1031                                               1170        NaN   \n",
       "1123                                                M75        NaN   \n",
       "1124                                                O32        NaN   \n",
       "1126                                                O34        NaN   \n",
       "1141                                                Z76        NaN   \n",
       "1142                                                Z71        NaN   \n",
       "1156                                                Z53        NaN   \n",
       "1566                      BCAC_Overall_BreastCancer_EUR        NaN   \n",
       "1567  Astle_et_al_2016_Sum_neutrophil_eosinophil_counts        NaN   \n",
       "1568                  BCAC_ER_negative_BreastCancer_EUR        NaN   \n",
       "1570                 Astle_et_al_2016_Eosinophil_counts        NaN   \n",
       "1571                Astle_et_al_2016_Reticulocyte_count        NaN   \n",
       "1572                 Astle_et_al_2016_Lymphocyte_counts        NaN   \n",
       "1573                            MAGIC_ln_FastingInsulin        NaN   \n",
       "1575       IMMUNOBASE_Systemic_lupus_erythematosus_hg19        NaN   \n",
       "1576                                  CNCR_Insomnia_all        NaN   \n",
       "1577                    Astle_et_al_2016_Monocyte_count        NaN   \n",
       "1578                                      GEFOS_Forearm        NaN   \n",
       "1579                  Astle_et_al_2016_Neutrophil_count        NaN   \n",
       "1580                        CARDIoGRAM_C4D_CAD_ADDITIVE        NaN   \n",
       "1581            Astle_et_al_2016_White_blood_cell_count        NaN   \n",
       "1583                         IBD.EUR.Ulcerative_Colitis        NaN   \n",
       "1584                             IBD.EUR.Crohns_Disease        NaN   \n",
       "1586          Astle_et_al_2016_Myeloid_white_cell_count        NaN   \n",
       "1587                 Astle_et_al_2016_Granulocyte_count        NaN   \n",
       "1588                                     IGAP_Alzheimer        NaN   \n",
       "1589                    Astle_et_al_2016_Platelet_count        NaN   \n",
       "1590                     Jones_et_al_2016_SleepDuration        NaN   \n",
       "1591    Astle_et_al_2016_Sum_eosinophil_basophil_counts        NaN   \n",
       "1593                         ENIGMA_Intracraneal_Volume        NaN   \n",
       "1594                                       GIANT_HEIGHT        NaN   \n",
       "1595                                        EGG_BW3_EUR        NaN   \n",
       "1597    Astle_et_al_2016_Sum_basophil_neutrophil_counts        NaN   \n",
       "1598                              RA_OKADA_TRANS_ETHNIC        NaN   \n",
       "1599                                           pgc.scz2        NaN   \n",
       "1600                                  PGC_ADHD_EUR_2017        NaN   \n",
       "1601                               MAGIC_FastingGlucose        NaN   \n",
       "1602              Astle_et_al_2016_Red_blood_cell_count        NaN   \n",
       "1603                          SSGAC_Depressive_Symptoms        NaN   \n",
       "1604                  BCAC_ER_positive_BreastCancer_EUR        NaN   \n",
       "1605                 IBD.EUR.Inflammatory_Bowel_Disease        NaN   \n",
       "1606  Astle_et_al_2016_High_light_scatter_reticulocy...        NaN   \n",
       "\n",
       "       term_codes mapping_type  \\\n",
       "452   EFO:0009628        Exact   \n",
       "1031  EFO:0009817        Exact   \n",
       "1123  EFO:0009470        Broad   \n",
       "1124  EFO:0009682        Broad   \n",
       "1126  EFO:0009682        Broad   \n",
       "1141  EFO:0009786        Broad   \n",
       "1142  EFO:0009786        Broad   \n",
       "1156  EFO:0009786        Broad   \n",
       "1566  EFO:0005606          NaN   \n",
       "1567  EFO:0004842          NaN   \n",
       "1568  EFO:1000650          NaN   \n",
       "1570  EFO:0004842          NaN   \n",
       "1571  EFO:0007986          NaN   \n",
       "1572  EFO:0004587          NaN   \n",
       "1573  EFO:0004466          NaN   \n",
       "1575  EFO:0002690          NaN   \n",
       "1576  EFO:0004698          NaN   \n",
       "1577  EFO:0005091          NaN   \n",
       "1578  EFO:0003923          NaN   \n",
       "1579  EFO:0004833          NaN   \n",
       "1580  EFO:0001645          NaN   \n",
       "1581  EFO:0004308          NaN   \n",
       "1583  EFO:0003767          NaN   \n",
       "1584  EFO:0003767          NaN   \n",
       "1586  EFO:0007988          NaN   \n",
       "1587  EFO:0007987          NaN   \n",
       "1588  EFO:0000249          NaN   \n",
       "1589  EFO:0004309          NaN   \n",
       "1590  EFO:0005271          NaN   \n",
       "1591  EFO:0004842          NaN   \n",
       "1593  EFO:0004886          NaN   \n",
       "1594  EFO:0004339          NaN   \n",
       "1595  EFO:0004344          NaN   \n",
       "1597  EFO:0004833          NaN   \n",
       "1598  EFO:0000685          NaN   \n",
       "1599  EFO:0000692          NaN   \n",
       "1600  EFO:0003888          NaN   \n",
       "1601  EFO:0004465          NaN   \n",
       "1602  EFO:0004305          NaN   \n",
       "1603  EFO:0007006          NaN   \n",
       "1604  EFO:1000649          NaN   \n",
       "1605  EFO:0003767          NaN   \n",
       "1606  EFO:0007986          NaN   \n",
       "\n",
       "                                           ukb_fullcode  \n",
       "452   R94-Diagnoses_main_ICD10_R94_Abnormal_results_...  \n",
       "1031                         1170-Getting_up_in_morning  \n",
       "1123      M75-Diagnoses_main_ICD10_M75_Shoulder_lesions  \n",
       "1124  O32-Diagnoses_main_ICD10_O32_Maternal_care_for...  \n",
       "1126  O34-Diagnoses_main_ICD10_O34_Maternal_care_for...  \n",
       "1141  Z76-Diagnoses_main_ICD10_Z76_Persons_encounter...  \n",
       "1142  Z71-Diagnoses_main_ICD10_Z71_Persons_encounter...  \n",
       "1156  Z53-Diagnoses_main_ICD10_Z53_Persons_encounter...  \n",
       "1566                      BCAC_Overall_BreastCancer_EUR  \n",
       "1567  Astle_et_al_2016_Sum_neutrophil_eosinophil_counts  \n",
       "1568                  BCAC_ER_negative_BreastCancer_EUR  \n",
       "1570                 Astle_et_al_2016_Eosinophil_counts  \n",
       "1571                Astle_et_al_2016_Reticulocyte_count  \n",
       "1572                 Astle_et_al_2016_Lymphocyte_counts  \n",
       "1573                            MAGIC_ln_FastingInsulin  \n",
       "1575       IMMUNOBASE_Systemic_lupus_erythematosus_hg19  \n",
       "1576                                  CNCR_Insomnia_all  \n",
       "1577                    Astle_et_al_2016_Monocyte_count  \n",
       "1578                                      GEFOS_Forearm  \n",
       "1579                  Astle_et_al_2016_Neutrophil_count  \n",
       "1580                        CARDIoGRAM_C4D_CAD_ADDITIVE  \n",
       "1581            Astle_et_al_2016_White_blood_cell_count  \n",
       "1583                         IBD.EUR.Ulcerative_Colitis  \n",
       "1584                             IBD.EUR.Crohns_Disease  \n",
       "1586          Astle_et_al_2016_Myeloid_white_cell_count  \n",
       "1587                 Astle_et_al_2016_Granulocyte_count  \n",
       "1588                                     IGAP_Alzheimer  \n",
       "1589                    Astle_et_al_2016_Platelet_count  \n",
       "1590                     Jones_et_al_2016_SleepDuration  \n",
       "1591    Astle_et_al_2016_Sum_eosinophil_basophil_counts  \n",
       "1593                         ENIGMA_Intracraneal_Volume  \n",
       "1594                                       GIANT_HEIGHT  \n",
       "1595                                        EGG_BW3_EUR  \n",
       "1597    Astle_et_al_2016_Sum_basophil_neutrophil_counts  \n",
       "1598                              RA_OKADA_TRANS_ETHNIC  \n",
       "1599                                           pgc.scz2  \n",
       "1600                                  PGC_ADHD_EUR_2017  \n",
       "1601                               MAGIC_FastingGlucose  \n",
       "1602              Astle_et_al_2016_Red_blood_cell_count  \n",
       "1603                          SSGAC_Depressive_Symptoms  \n",
       "1604                  BCAC_ER_positive_BreastCancer_EUR  \n",
       "1605                 IBD.EUR.Inflammatory_Bowel_Disease  \n",
       "1606  Astle_et_al_2016_High_light_scatter_reticulocy...  "
      ]
     },
     "execution_count": 43,
     "metadata": {},
     "output_type": "execute_result"
    }
   ],
   "source": [
    "# for these ones we need to query the original EFO ontology\n",
    "ukb_to_efo[ukb_to_efo[\"term_label\"].isna()]"
   ]
  },
  {
   "cell_type": "markdown",
   "metadata": {
    "papermill": {
     "duration": 0.03529,
     "end_time": "2020-12-14T21:24:33.599391",
     "exception": false,
     "start_time": "2020-12-14T21:24:33.564101",
     "status": "completed"
    },
    "tags": []
   },
   "source": [
    "# Load EFO labels and xrefs"
   ]
  },
  {
   "cell_type": "code",
   "execution_count": 44,
   "metadata": {
    "execution": {
     "iopub.execute_input": "2020-12-14T21:24:33.671402Z",
     "iopub.status.busy": "2020-12-14T21:24:33.671031Z",
     "iopub.status.idle": "2020-12-14T21:24:33.728351Z",
     "shell.execute_reply": "2020-12-14T21:24:33.727876Z"
    },
    "papermill": {
     "duration": 0.094413,
     "end_time": "2020-12-14T21:24:33.728463",
     "exception": false,
     "start_time": "2020-12-14T21:24:33.634050",
     "status": "completed"
    },
    "tags": []
   },
   "outputs": [],
   "source": [
    "term_id_to_label = (\n",
    "    read_data(conf.GENERAL[\"TERM_ID_LABEL_FILE\"])[[\"term_id\", \"label\"]]\n",
    "    .dropna()\n",
    "    .set_index(\"term_id\")[\"label\"]\n",
    "    .to_dict()\n",
    ")"
   ]
  },
  {
   "cell_type": "code",
   "execution_count": 45,
   "metadata": {
    "execution": {
     "iopub.execute_input": "2020-12-14T21:24:33.804194Z",
     "iopub.status.busy": "2020-12-14T21:24:33.803813Z",
     "iopub.status.idle": "2020-12-14T21:24:33.813977Z",
     "shell.execute_reply": "2020-12-14T21:24:33.813618Z"
    },
    "papermill": {
     "duration": 0.047694,
     "end_time": "2020-12-14T21:24:33.814061",
     "exception": false,
     "start_time": "2020-12-14T21:24:33.766367",
     "status": "completed"
    },
    "tags": []
   },
   "outputs": [
    {
     "data": {
      "text/plain": [
       "26698"
      ]
     },
     "execution_count": 45,
     "metadata": {},
     "output_type": "execute_result"
    }
   ],
   "source": [
    "len(term_id_to_label)"
   ]
  },
  {
   "cell_type": "code",
   "execution_count": 46,
   "metadata": {
    "execution": {
     "iopub.execute_input": "2020-12-14T21:24:33.887071Z",
     "iopub.status.busy": "2020-12-14T21:24:33.886704Z",
     "iopub.status.idle": "2020-12-14T21:24:33.895975Z",
     "shell.execute_reply": "2020-12-14T21:24:33.895591Z"
    },
    "papermill": {
     "duration": 0.046866,
     "end_time": "2020-12-14T21:24:33.896066",
     "exception": false,
     "start_time": "2020-12-14T21:24:33.849200",
     "status": "completed"
    },
    "tags": []
   },
   "outputs": [],
   "source": [
    "# see if efo code with missing label in term_id_to_label is here\n",
    "assert term_id_to_label[\"EFO:0009628\"] == \"abnormal result of function studies\"\n",
    "assert term_id_to_label[\"EFO:0005606\"] == \"family history of breast cancer\""
   ]
  },
  {
   "cell_type": "code",
   "execution_count": 47,
   "metadata": {
    "execution": {
     "iopub.execute_input": "2020-12-14T21:24:33.969281Z",
     "iopub.status.busy": "2020-12-14T21:24:33.968900Z",
     "iopub.status.idle": "2020-12-14T21:24:33.977893Z",
     "shell.execute_reply": "2020-12-14T21:24:33.977508Z"
    },
    "papermill": {
     "duration": 0.046792,
     "end_time": "2020-12-14T21:24:33.977983",
     "exception": false,
     "start_time": "2020-12-14T21:24:33.931191",
     "status": "completed"
    },
    "tags": []
   },
   "outputs": [],
   "source": [
    "assert term_id_to_label[\"EFO:0004616\"] == \"osteoarthritis, knee\""
   ]
  },
  {
   "cell_type": "code",
   "execution_count": 48,
   "metadata": {
    "execution": {
     "iopub.execute_input": "2020-12-14T21:24:34.051977Z",
     "iopub.status.busy": "2020-12-14T21:24:34.051598Z",
     "iopub.status.idle": "2020-12-14T21:24:34.320574Z",
     "shell.execute_reply": "2020-12-14T21:24:34.320120Z"
    },
    "papermill": {
     "duration": 0.306919,
     "end_time": "2020-12-14T21:24:34.320685",
     "exception": false,
     "start_time": "2020-12-14T21:24:34.013766",
     "status": "completed"
    },
    "tags": []
   },
   "outputs": [],
   "source": [
    "# get current labels for old EFO codes\n",
    "term_id_xrefs = read_data(\n",
    "    conf.GENERAL[\"TERM_ID_XREFS_FILE\"]\n",
    ")  # [['label', 'EFO']].dropna().set_index('EFO')[['label']]"
   ]
  },
  {
   "cell_type": "code",
   "execution_count": 49,
   "metadata": {
    "execution": {
     "iopub.execute_input": "2020-12-14T21:24:34.400956Z",
     "iopub.status.busy": "2020-12-14T21:24:34.400527Z",
     "iopub.status.idle": "2020-12-14T21:24:34.411414Z",
     "shell.execute_reply": "2020-12-14T21:24:34.411044Z"
    },
    "papermill": {
     "duration": 0.047999,
     "end_time": "2020-12-14T21:24:34.411502",
     "exception": false,
     "start_time": "2020-12-14T21:24:34.363503",
     "status": "completed"
    },
    "tags": []
   },
   "outputs": [
    {
     "data": {
      "text/plain": [
       "target_id_type    category\n",
       "target_id         category\n",
       "dtype: object"
      ]
     },
     "execution_count": 49,
     "metadata": {},
     "output_type": "execute_result"
    }
   ],
   "source": [
    "term_id_xrefs.dtypes"
   ]
  },
  {
   "cell_type": "code",
   "execution_count": 50,
   "metadata": {
    "execution": {
     "iopub.execute_input": "2020-12-14T21:24:34.485565Z",
     "iopub.status.busy": "2020-12-14T21:24:34.485163Z",
     "iopub.status.idle": "2020-12-14T21:24:34.496773Z",
     "shell.execute_reply": "2020-12-14T21:24:34.496342Z"
    },
    "papermill": {
     "duration": 0.050494,
     "end_time": "2020-12-14T21:24:34.496866",
     "exception": false,
     "start_time": "2020-12-14T21:24:34.446372",
     "status": "completed"
    },
    "tags": []
   },
   "outputs": [
    {
     "data": {
      "text/plain": [
       "(104094, 2)"
      ]
     },
     "execution_count": 50,
     "metadata": {},
     "output_type": "execute_result"
    }
   ],
   "source": [
    "term_id_xrefs.shape"
   ]
  },
  {
   "cell_type": "code",
   "execution_count": 51,
   "metadata": {
    "execution": {
     "iopub.execute_input": "2020-12-14T21:24:34.571042Z",
     "iopub.status.busy": "2020-12-14T21:24:34.570669Z",
     "iopub.status.idle": "2020-12-14T21:24:34.582908Z",
     "shell.execute_reply": "2020-12-14T21:24:34.583217Z"
    },
    "papermill": {
     "duration": 0.05031,
     "end_time": "2020-12-14T21:24:34.583325",
     "exception": false,
     "start_time": "2020-12-14T21:24:34.533015",
     "status": "completed"
    },
    "tags": []
   },
   "outputs": [
    {
     "data": {
      "text/html": [
       "<div>\n",
       "<style scoped>\n",
       "    .dataframe tbody tr th:only-of-type {\n",
       "        vertical-align: middle;\n",
       "    }\n",
       "\n",
       "    .dataframe tbody tr th {\n",
       "        vertical-align: top;\n",
       "    }\n",
       "\n",
       "    .dataframe thead th {\n",
       "        text-align: right;\n",
       "    }\n",
       "</style>\n",
       "<table border=\"1\" class=\"dataframe\">\n",
       "  <thead>\n",
       "    <tr style=\"text-align: right;\">\n",
       "      <th></th>\n",
       "      <th>target_id_type</th>\n",
       "      <th>target_id</th>\n",
       "    </tr>\n",
       "    <tr>\n",
       "      <th>term_id</th>\n",
       "      <th></th>\n",
       "      <th></th>\n",
       "    </tr>\n",
       "  </thead>\n",
       "  <tbody>\n",
       "    <tr>\n",
       "      <th>EFO:1001070</th>\n",
       "      <td>DOID</td>\n",
       "      <td>DOID:233</td>\n",
       "    </tr>\n",
       "    <tr>\n",
       "      <th>EFO:1001070</th>\n",
       "      <td>ICD9</td>\n",
       "      <td>ICD9:017.30</td>\n",
       "    </tr>\n",
       "    <tr>\n",
       "      <th>EFO:1001070</th>\n",
       "      <td>ICD9</td>\n",
       "      <td>ICD9:017.32</td>\n",
       "    </tr>\n",
       "    <tr>\n",
       "      <th>EFO:1001070</th>\n",
       "      <td>MESH</td>\n",
       "      <td>MESH:D014392</td>\n",
       "    </tr>\n",
       "    <tr>\n",
       "      <th>EFO:1001070</th>\n",
       "      <td>MONDO</td>\n",
       "      <td>MONDO:0006876</td>\n",
       "    </tr>\n",
       "  </tbody>\n",
       "</table>\n",
       "</div>"
      ],
      "text/plain": [
       "            target_id_type      target_id\n",
       "term_id                                  \n",
       "EFO:1001070           DOID       DOID:233\n",
       "EFO:1001070           ICD9    ICD9:017.30\n",
       "EFO:1001070           ICD9    ICD9:017.32\n",
       "EFO:1001070           MESH   MESH:D014392\n",
       "EFO:1001070          MONDO  MONDO:0006876"
      ]
     },
     "execution_count": 51,
     "metadata": {},
     "output_type": "execute_result"
    }
   ],
   "source": [
    "term_id_xrefs.head()"
   ]
  },
  {
   "cell_type": "code",
   "execution_count": 52,
   "metadata": {
    "execution": {
     "iopub.execute_input": "2020-12-14T21:24:34.658206Z",
     "iopub.status.busy": "2020-12-14T21:24:34.657836Z",
     "iopub.status.idle": "2020-12-14T21:24:34.687711Z",
     "shell.execute_reply": "2020-12-14T21:24:34.687323Z"
    },
    "papermill": {
     "duration": 0.068648,
     "end_time": "2020-12-14T21:24:34.687801",
     "exception": false,
     "start_time": "2020-12-14T21:24:34.619153",
     "status": "completed"
    },
    "tags": []
   },
   "outputs": [
    {
     "data": {
      "text/plain": [
       "'EFO:0008598'"
      ]
     },
     "metadata": {},
     "output_type": "display_data"
    }
   ],
   "source": [
    "# see if for an old efo code we get the current efo label\n",
    "new_efo_code = term_id_xrefs[term_id_xrefs[\"target_id\"] == \"EFO:1000673\"].index[0]\n",
    "display(new_efo_code)\n",
    "assert term_id_to_label[new_efo_code] == \"autoimmune bullous skin disease\""
   ]
  },
  {
   "cell_type": "markdown",
   "metadata": {
    "papermill": {
     "duration": 0.035634,
     "end_time": "2020-12-14T21:24:34.759833",
     "exception": false,
     "start_time": "2020-12-14T21:24:34.724199",
     "status": "completed"
    },
    "tags": []
   },
   "source": [
    "# Add new EFO label"
   ]
  },
  {
   "cell_type": "markdown",
   "metadata": {},
   "source": [
    "## Functions"
   ]
  },
  {
   "cell_type": "code",
   "execution_count": 53,
   "metadata": {
    "execution": {
     "iopub.execute_input": "2020-12-14T21:24:34.835557Z",
     "iopub.status.busy": "2020-12-14T21:24:34.835169Z",
     "iopub.status.idle": "2020-12-14T21:24:34.845156Z",
     "shell.execute_reply": "2020-12-14T21:24:34.844766Z"
    },
    "lines_to_next_cell": 1,
    "papermill": {
     "duration": 0.049529,
     "end_time": "2020-12-14T21:24:34.845247",
     "exception": false,
     "start_time": "2020-12-14T21:24:34.795718",
     "status": "completed"
    },
    "tags": []
   },
   "outputs": [],
   "source": [
    "term_pattern = re.compile(r\"\\w+:\\w+\")\n",
    "\n",
    "\n",
    "def _add_term_labels(row):\n",
    "    term_ids = row[\"term_codes\"]\n",
    "\n",
    "    matches = term_pattern.findall(term_ids)\n",
    "\n",
    "    labels = []\n",
    "    for m in matches:\n",
    "        if m in term_id_to_label:\n",
    "            new_label = term_id_to_label[m]\n",
    "        else:\n",
    "            other_xrefs = term_id_xrefs[term_id_xrefs[\"target_id\"] == m]\n",
    "            if other_xrefs.shape[0] == 1:\n",
    "                new_label = term_id_to_label[other_xrefs.index[0]]\n",
    "            elif other_xrefs.shape[0] > 1:\n",
    "                new_label = term_id_to_label[other_xrefs.index[0]]\n",
    "            elif not pd.isnull(row[\"term_label\"]):\n",
    "                new_label = row[\"term_label\"]\n",
    "            else:\n",
    "                continue\n",
    "\n",
    "        labels.append(new_label.lower())\n",
    "\n",
    "    return \" AND \".join(labels)\n"
   ]
  },
  {
   "cell_type": "markdown",
   "metadata": {},
   "source": [
    "## Apply"
   ]
  },
  {
   "cell_type": "code",
   "execution_count": 56,
   "metadata": {
    "execution": {
     "iopub.execute_input": "2020-12-14T21:24:35.113570Z",
     "iopub.status.busy": "2020-12-14T21:24:35.113203Z",
     "iopub.status.idle": "2020-12-14T21:24:35.168373Z",
     "shell.execute_reply": "2020-12-14T21:24:35.167980Z"
    },
    "papermill": {
     "duration": 0.093161,
     "end_time": "2020-12-14T21:24:35.168464",
     "exception": false,
     "start_time": "2020-12-14T21:24:35.075303",
     "status": "completed"
    },
    "tags": []
   },
   "outputs": [],
   "source": [
    "ukb_to_efo = ukb_to_efo.assign(\n",
    "    current_term_label=ukb_to_efo.apply(_add_term_labels, axis=1)\n",
    ")"
   ]
  },
  {
   "cell_type": "code",
   "execution_count": 57,
   "metadata": {
    "execution": {
     "iopub.execute_input": "2020-12-14T21:24:35.241907Z",
     "iopub.status.busy": "2020-12-14T21:24:35.241530Z",
     "iopub.status.idle": "2020-12-14T21:24:35.252067Z",
     "shell.execute_reply": "2020-12-14T21:24:35.251692Z"
    },
    "papermill": {
     "duration": 0.048117,
     "end_time": "2020-12-14T21:24:35.252156",
     "exception": false,
     "start_time": "2020-12-14T21:24:35.204039",
     "status": "completed"
    },
    "tags": []
   },
   "outputs": [
    {
     "data": {
      "text/plain": [
       "(1087, 6)"
      ]
     },
     "execution_count": 57,
     "metadata": {},
     "output_type": "execute_result"
    }
   ],
   "source": [
    "ukb_to_efo.shape"
   ]
  },
  {
   "cell_type": "code",
   "execution_count": 58,
   "metadata": {
    "execution": {
     "iopub.execute_input": "2020-12-14T21:24:35.326618Z",
     "iopub.status.busy": "2020-12-14T21:24:35.326246Z",
     "iopub.status.idle": "2020-12-14T21:24:35.340557Z",
     "shell.execute_reply": "2020-12-14T21:24:35.340175Z"
    },
    "papermill": {
     "duration": 0.052045,
     "end_time": "2020-12-14T21:24:35.340648",
     "exception": false,
     "start_time": "2020-12-14T21:24:35.288603",
     "status": "completed"
    },
    "tags": []
   },
   "outputs": [
    {
     "data": {
      "text/html": [
       "<div>\n",
       "<style scoped>\n",
       "    .dataframe tbody tr th:only-of-type {\n",
       "        vertical-align: middle;\n",
       "    }\n",
       "\n",
       "    .dataframe tbody tr th {\n",
       "        vertical-align: top;\n",
       "    }\n",
       "\n",
       "    .dataframe thead th {\n",
       "        text-align: right;\n",
       "    }\n",
       "</style>\n",
       "<table border=\"1\" class=\"dataframe\">\n",
       "  <thead>\n",
       "    <tr style=\"text-align: right;\">\n",
       "      <th></th>\n",
       "      <th>ukb_code</th>\n",
       "      <th>term_label</th>\n",
       "      <th>term_codes</th>\n",
       "      <th>mapping_type</th>\n",
       "      <th>ukb_fullcode</th>\n",
       "      <th>current_term_label</th>\n",
       "    </tr>\n",
       "  </thead>\n",
       "  <tbody>\n",
       "    <tr>\n",
       "      <th>0</th>\n",
       "      <td>K55</td>\n",
       "      <td>vascular disease</td>\n",
       "      <td>EFO:0004264, EFO:0009431</td>\n",
       "      <td>Broad</td>\n",
       "      <td>K55-Diagnoses_main_ICD10_K55_Vascular_disorder...</td>\n",
       "      <td>vascular disease AND intestinal disease</td>\n",
       "    </tr>\n",
       "    <tr>\n",
       "      <th>1</th>\n",
       "      <td>M17</td>\n",
       "      <td>osteoarthritis || knee</td>\n",
       "      <td>EFO:0004616</td>\n",
       "      <td>Broad</td>\n",
       "      <td>M17-Diagnoses_main_ICD10_M17_Gonarthrosis_arth...</td>\n",
       "      <td>osteoarthritis, knee</td>\n",
       "    </tr>\n",
       "    <tr>\n",
       "      <th>3</th>\n",
       "      <td>R30</td>\n",
       "      <td>dysuria</td>\n",
       "      <td>EFO:0003901</td>\n",
       "      <td>? Broad</td>\n",
       "      <td>R30-Diagnoses_main_ICD10_R30_Pain_associated_w...</td>\n",
       "      <td>dysuria</td>\n",
       "    </tr>\n",
       "    <tr>\n",
       "      <th>5</th>\n",
       "      <td>O60</td>\n",
       "      <td>premature birth</td>\n",
       "      <td>EFO:0003917</td>\n",
       "      <td>? Exact</td>\n",
       "      <td>O60-Diagnoses_main_ICD10_O60_Preterm_delivery</td>\n",
       "      <td>premature birth</td>\n",
       "    </tr>\n",
       "    <tr>\n",
       "      <th>7</th>\n",
       "      <td>S64</td>\n",
       "      <td>carpal tunnel syndrome</td>\n",
       "      <td>EFO:0004143</td>\n",
       "      <td>? Narrow</td>\n",
       "      <td>S64-Diagnoses_main_ICD10_S64_Injury_of_nerves_...</td>\n",
       "      <td>carpal tunnel syndrome</td>\n",
       "    </tr>\n",
       "  </tbody>\n",
       "</table>\n",
       "</div>"
      ],
      "text/plain": [
       "  ukb_code              term_label                term_codes mapping_type  \\\n",
       "0      K55        vascular disease  EFO:0004264, EFO:0009431        Broad   \n",
       "1      M17  osteoarthritis || knee               EFO:0004616        Broad   \n",
       "3      R30                 dysuria               EFO:0003901      ? Broad   \n",
       "5      O60         premature birth               EFO:0003917      ? Exact   \n",
       "7      S64  carpal tunnel syndrome               EFO:0004143     ? Narrow   \n",
       "\n",
       "                                        ukb_fullcode  \\\n",
       "0  K55-Diagnoses_main_ICD10_K55_Vascular_disorder...   \n",
       "1  M17-Diagnoses_main_ICD10_M17_Gonarthrosis_arth...   \n",
       "3  R30-Diagnoses_main_ICD10_R30_Pain_associated_w...   \n",
       "5      O60-Diagnoses_main_ICD10_O60_Preterm_delivery   \n",
       "7  S64-Diagnoses_main_ICD10_S64_Injury_of_nerves_...   \n",
       "\n",
       "                        current_term_label  \n",
       "0  vascular disease AND intestinal disease  \n",
       "1                     osteoarthritis, knee  \n",
       "3                                  dysuria  \n",
       "5                          premature birth  \n",
       "7                   carpal tunnel syndrome  "
      ]
     },
     "execution_count": 58,
     "metadata": {},
     "output_type": "execute_result"
    }
   ],
   "source": [
    "ukb_to_efo.head()"
   ]
  },
  {
   "cell_type": "markdown",
   "metadata": {
    "papermill": {
     "duration": 0.035862,
     "end_time": "2020-12-14T21:24:35.413784",
     "exception": false,
     "start_time": "2020-12-14T21:24:35.377922",
     "status": "completed"
    },
    "tags": []
   },
   "source": [
    "# Add categories"
   ]
  },
  {
   "cell_type": "markdown",
   "metadata": {
    "papermill": {
     "duration": 0.038166,
     "end_time": "2020-12-14T21:24:35.488832",
     "exception": false,
     "start_time": "2020-12-14T21:24:35.450666",
     "status": "completed"
    },
    "tags": []
   },
   "source": [
    "It only adds Disease for now"
   ]
  },
  {
   "cell_type": "code",
   "execution_count": 59,
   "metadata": {
    "execution": {
     "iopub.execute_input": "2020-12-14T21:24:35.566344Z",
     "iopub.status.busy": "2020-12-14T21:24:35.565927Z",
     "iopub.status.idle": "2020-12-14T21:24:35.575375Z",
     "shell.execute_reply": "2020-12-14T21:24:35.574996Z"
    },
    "papermill": {
     "duration": 0.049049,
     "end_time": "2020-12-14T21:24:35.575465",
     "exception": false,
     "start_time": "2020-12-14T21:24:35.526416",
     "status": "completed"
    },
    "tags": []
   },
   "outputs": [],
   "source": [
    "def _get_disease_category(row):\n",
    "    term_ids = row[\"term_codes\"]\n",
    "\n",
    "    matches = term_pattern.findall(term_ids)\n",
    "\n",
    "    for m in matches:\n",
    "        if is_disease(graph, m):\n",
    "            return \"disease\"\n",
    "\n",
    "    return None"
   ]
  },
  {
   "cell_type": "code",
   "execution_count": 60,
   "metadata": {
    "execution": {
     "iopub.execute_input": "2020-12-14T21:24:35.651520Z",
     "iopub.status.busy": "2020-12-14T21:24:35.651150Z",
     "iopub.status.idle": "2020-12-14T21:24:35.682484Z",
     "shell.execute_reply": "2020-12-14T21:24:35.682769Z"
    },
    "papermill": {
     "duration": 0.070816,
     "end_time": "2020-12-14T21:24:35.682881",
     "exception": false,
     "start_time": "2020-12-14T21:24:35.612065",
     "status": "completed"
    },
    "tags": []
   },
   "outputs": [],
   "source": [
    "ukb_to_efo = ukb_to_efo.assign(category=ukb_to_efo.apply(_get_disease_category, axis=1))"
   ]
  },
  {
   "cell_type": "code",
   "execution_count": 61,
   "metadata": {
    "execution": {
     "iopub.execute_input": "2020-12-14T21:24:35.758889Z",
     "iopub.status.busy": "2020-12-14T21:24:35.758522Z",
     "iopub.status.idle": "2020-12-14T21:24:35.773440Z",
     "shell.execute_reply": "2020-12-14T21:24:35.773055Z"
    },
    "papermill": {
     "duration": 0.053911,
     "end_time": "2020-12-14T21:24:35.773530",
     "exception": false,
     "start_time": "2020-12-14T21:24:35.719619",
     "status": "completed"
    },
    "tags": []
   },
   "outputs": [
    {
     "data": {
      "text/html": [
       "<div>\n",
       "<style scoped>\n",
       "    .dataframe tbody tr th:only-of-type {\n",
       "        vertical-align: middle;\n",
       "    }\n",
       "\n",
       "    .dataframe tbody tr th {\n",
       "        vertical-align: top;\n",
       "    }\n",
       "\n",
       "    .dataframe thead th {\n",
       "        text-align: right;\n",
       "    }\n",
       "</style>\n",
       "<table border=\"1\" class=\"dataframe\">\n",
       "  <thead>\n",
       "    <tr style=\"text-align: right;\">\n",
       "      <th></th>\n",
       "      <th>ukb_code</th>\n",
       "      <th>term_label</th>\n",
       "      <th>term_codes</th>\n",
       "      <th>mapping_type</th>\n",
       "      <th>ukb_fullcode</th>\n",
       "      <th>current_term_label</th>\n",
       "      <th>category</th>\n",
       "    </tr>\n",
       "  </thead>\n",
       "  <tbody>\n",
       "    <tr>\n",
       "      <th>0</th>\n",
       "      <td>K55</td>\n",
       "      <td>vascular disease</td>\n",
       "      <td>EFO:0004264, EFO:0009431</td>\n",
       "      <td>Broad</td>\n",
       "      <td>K55-Diagnoses_main_ICD10_K55_Vascular_disorder...</td>\n",
       "      <td>vascular disease AND intestinal disease</td>\n",
       "      <td>disease</td>\n",
       "    </tr>\n",
       "    <tr>\n",
       "      <th>1</th>\n",
       "      <td>M17</td>\n",
       "      <td>osteoarthritis || knee</td>\n",
       "      <td>EFO:0004616</td>\n",
       "      <td>Broad</td>\n",
       "      <td>M17-Diagnoses_main_ICD10_M17_Gonarthrosis_arth...</td>\n",
       "      <td>osteoarthritis, knee</td>\n",
       "      <td>disease</td>\n",
       "    </tr>\n",
       "    <tr>\n",
       "      <th>3</th>\n",
       "      <td>R30</td>\n",
       "      <td>dysuria</td>\n",
       "      <td>EFO:0003901</td>\n",
       "      <td>? Broad</td>\n",
       "      <td>R30-Diagnoses_main_ICD10_R30_Pain_associated_w...</td>\n",
       "      <td>dysuria</td>\n",
       "      <td>None</td>\n",
       "    </tr>\n",
       "    <tr>\n",
       "      <th>5</th>\n",
       "      <td>O60</td>\n",
       "      <td>premature birth</td>\n",
       "      <td>EFO:0003917</td>\n",
       "      <td>? Exact</td>\n",
       "      <td>O60-Diagnoses_main_ICD10_O60_Preterm_delivery</td>\n",
       "      <td>premature birth</td>\n",
       "      <td>None</td>\n",
       "    </tr>\n",
       "    <tr>\n",
       "      <th>7</th>\n",
       "      <td>S64</td>\n",
       "      <td>carpal tunnel syndrome</td>\n",
       "      <td>EFO:0004143</td>\n",
       "      <td>? Narrow</td>\n",
       "      <td>S64-Diagnoses_main_ICD10_S64_Injury_of_nerves_...</td>\n",
       "      <td>carpal tunnel syndrome</td>\n",
       "      <td>disease</td>\n",
       "    </tr>\n",
       "  </tbody>\n",
       "</table>\n",
       "</div>"
      ],
      "text/plain": [
       "  ukb_code              term_label                term_codes mapping_type  \\\n",
       "0      K55        vascular disease  EFO:0004264, EFO:0009431        Broad   \n",
       "1      M17  osteoarthritis || knee               EFO:0004616        Broad   \n",
       "3      R30                 dysuria               EFO:0003901      ? Broad   \n",
       "5      O60         premature birth               EFO:0003917      ? Exact   \n",
       "7      S64  carpal tunnel syndrome               EFO:0004143     ? Narrow   \n",
       "\n",
       "                                        ukb_fullcode  \\\n",
       "0  K55-Diagnoses_main_ICD10_K55_Vascular_disorder...   \n",
       "1  M17-Diagnoses_main_ICD10_M17_Gonarthrosis_arth...   \n",
       "3  R30-Diagnoses_main_ICD10_R30_Pain_associated_w...   \n",
       "5      O60-Diagnoses_main_ICD10_O60_Preterm_delivery   \n",
       "7  S64-Diagnoses_main_ICD10_S64_Injury_of_nerves_...   \n",
       "\n",
       "                        current_term_label category  \n",
       "0  vascular disease AND intestinal disease  disease  \n",
       "1                     osteoarthritis, knee  disease  \n",
       "3                                  dysuria     None  \n",
       "5                          premature birth     None  \n",
       "7                   carpal tunnel syndrome  disease  "
      ]
     },
     "execution_count": 61,
     "metadata": {},
     "output_type": "execute_result"
    }
   ],
   "source": [
    "ukb_to_efo.head()"
   ]
  },
  {
   "cell_type": "code",
   "execution_count": 62,
   "metadata": {
    "execution": {
     "iopub.execute_input": "2020-12-14T21:24:35.851456Z",
     "iopub.status.busy": "2020-12-14T21:24:35.851088Z",
     "iopub.status.idle": "2020-12-14T21:24:35.861880Z",
     "shell.execute_reply": "2020-12-14T21:24:35.861500Z"
    },
    "papermill": {
     "duration": 0.050223,
     "end_time": "2020-12-14T21:24:35.861970",
     "exception": false,
     "start_time": "2020-12-14T21:24:35.811747",
     "status": "completed"
    },
    "tags": []
   },
   "outputs": [
    {
     "data": {
      "text/plain": [
       "(810, 7)"
      ]
     },
     "execution_count": 62,
     "metadata": {},
     "output_type": "execute_result"
    }
   ],
   "source": [
    "ukb_to_efo[ukb_to_efo[\"category\"] == \"disease\"].shape"
   ]
  },
  {
   "cell_type": "code",
   "execution_count": 63,
   "metadata": {
    "execution": {
     "iopub.execute_input": "2020-12-14T21:24:35.937497Z",
     "iopub.status.busy": "2020-12-14T21:24:35.937123Z",
     "iopub.status.idle": "2020-12-14T21:24:35.949575Z",
     "shell.execute_reply": "2020-12-14T21:24:35.949264Z"
    },
    "papermill": {
     "duration": 0.051226,
     "end_time": "2020-12-14T21:24:35.949668",
     "exception": false,
     "start_time": "2020-12-14T21:24:35.898442",
     "status": "completed"
    },
    "tags": []
   },
   "outputs": [
    {
     "data": {
      "text/plain": [
       "injury                           9\n",
       "emotional symptom measurement    8\n",
       "pregnancy disorder               8\n",
       "skin disease                     6\n",
       "bone disease                     6\n",
       "                                ..\n",
       "nervous system disease           1\n",
       "seasonal allergic rhinitis       1\n",
       "osteonecrosis                    1\n",
       "hordeolum                        1\n",
       "jaw disease                      1\n",
       "Name: current_term_label, Length: 539, dtype: int64"
      ]
     },
     "execution_count": 63,
     "metadata": {},
     "output_type": "execute_result"
    }
   ],
   "source": [
    "_tmp = ukb_to_efo[ukb_to_efo[\"category\"] == \"disease\"]\n",
    "_tmp[\"current_term_label\"].value_counts()"
   ]
  },
  {
   "cell_type": "markdown",
   "metadata": {
    "papermill": {
     "duration": 0.036316,
     "end_time": "2020-12-14T21:24:36.022534",
     "exception": false,
     "start_time": "2020-12-14T21:24:35.986218",
     "status": "completed"
    },
    "tags": []
   },
   "source": [
    "# Testing"
   ]
  },
  {
   "cell_type": "code",
   "execution_count": 64,
   "metadata": {
    "execution": {
     "iopub.execute_input": "2020-12-14T21:24:36.097702Z",
     "iopub.status.busy": "2020-12-14T21:24:36.097332Z",
     "iopub.status.idle": "2020-12-14T21:24:36.113087Z",
     "shell.execute_reply": "2020-12-14T21:24:36.112667Z"
    },
    "papermill": {
     "duration": 0.054541,
     "end_time": "2020-12-14T21:24:36.113175",
     "exception": false,
     "start_time": "2020-12-14T21:24:36.058634",
     "status": "completed"
    },
    "tags": []
   },
   "outputs": [
    {
     "data": {
      "text/html": [
       "<div>\n",
       "<style scoped>\n",
       "    .dataframe tbody tr th:only-of-type {\n",
       "        vertical-align: middle;\n",
       "    }\n",
       "\n",
       "    .dataframe tbody tr th {\n",
       "        vertical-align: top;\n",
       "    }\n",
       "\n",
       "    .dataframe thead th {\n",
       "        text-align: right;\n",
       "    }\n",
       "</style>\n",
       "<table border=\"1\" class=\"dataframe\">\n",
       "  <thead>\n",
       "    <tr style=\"text-align: right;\">\n",
       "      <th></th>\n",
       "      <th>ukb_code</th>\n",
       "      <th>term_label</th>\n",
       "      <th>term_codes</th>\n",
       "      <th>mapping_type</th>\n",
       "      <th>ukb_fullcode</th>\n",
       "      <th>current_term_label</th>\n",
       "      <th>category</th>\n",
       "    </tr>\n",
       "  </thead>\n",
       "  <tbody>\n",
       "    <tr>\n",
       "      <th>118</th>\n",
       "      <td>J46</td>\n",
       "      <td>status asthmaticus</td>\n",
       "      <td>EFO:0008590</td>\n",
       "      <td>Exact</td>\n",
       "      <td>J46-Diagnoses_main_ICD10_J46_Status_asthmaticus</td>\n",
       "      <td>status asthmaticus</td>\n",
       "      <td>disease</td>\n",
       "    </tr>\n",
       "    <tr>\n",
       "      <th>611</th>\n",
       "      <td>22127</td>\n",
       "      <td>asthma</td>\n",
       "      <td>EFO:0000270</td>\n",
       "      <td>Exact</td>\n",
       "      <td>22127-Doctor_diagnosed_asthma</td>\n",
       "      <td>asthma</td>\n",
       "      <td>disease</td>\n",
       "    </tr>\n",
       "    <tr>\n",
       "      <th>681</th>\n",
       "      <td>20002_1111</td>\n",
       "      <td>asthma</td>\n",
       "      <td>EFO:0000270</td>\n",
       "      <td>Exact</td>\n",
       "      <td>20002_1111-Noncancer_illness_code_selfreported...</td>\n",
       "      <td>asthma</td>\n",
       "      <td>disease</td>\n",
       "    </tr>\n",
       "    <tr>\n",
       "      <th>1193</th>\n",
       "      <td>J45</td>\n",
       "      <td>asthma</td>\n",
       "      <td>EFO:0000270</td>\n",
       "      <td>Exact</td>\n",
       "      <td>J45-Diagnoses_main_ICD10_J45_Asthma</td>\n",
       "      <td>asthma</td>\n",
       "      <td>disease</td>\n",
       "    </tr>\n",
       "  </tbody>\n",
       "</table>\n",
       "</div>"
      ],
      "text/plain": [
       "        ukb_code          term_label   term_codes mapping_type  \\\n",
       "118          J46  status asthmaticus  EFO:0008590        Exact   \n",
       "611        22127              asthma  EFO:0000270        Exact   \n",
       "681   20002_1111              asthma  EFO:0000270        Exact   \n",
       "1193         J45              asthma  EFO:0000270        Exact   \n",
       "\n",
       "                                           ukb_fullcode  current_term_label  \\\n",
       "118     J46-Diagnoses_main_ICD10_J46_Status_asthmaticus  status asthmaticus   \n",
       "611                       22127-Doctor_diagnosed_asthma              asthma   \n",
       "681   20002_1111-Noncancer_illness_code_selfreported...              asthma   \n",
       "1193                J45-Diagnoses_main_ICD10_J45_Asthma              asthma   \n",
       "\n",
       "     category  \n",
       "118   disease  \n",
       "611   disease  \n",
       "681   disease  \n",
       "1193  disease  "
      ]
     },
     "metadata": {},
     "output_type": "display_data"
    }
   ],
   "source": [
    "# asthma exists\n",
    "_tmp = ukb_to_efo[ukb_to_efo[\"current_term_label\"].str.lower().str.contains(\"asthma\")]\n",
    "display(_tmp)\n",
    "assert _tmp.shape[0] >= 4"
   ]
  },
  {
   "cell_type": "code",
   "execution_count": 65,
   "metadata": {
    "execution": {
     "iopub.execute_input": "2020-12-14T21:24:36.190482Z",
     "iopub.status.busy": "2020-12-14T21:24:36.190099Z",
     "iopub.status.idle": "2020-12-14T21:24:36.205378Z",
     "shell.execute_reply": "2020-12-14T21:24:36.205683Z"
    },
    "papermill": {
     "duration": 0.05549,
     "end_time": "2020-12-14T21:24:36.205794",
     "exception": false,
     "start_time": "2020-12-14T21:24:36.150304",
     "status": "completed"
    },
    "tags": []
   },
   "outputs": [
    {
     "data": {
      "text/html": [
       "<div>\n",
       "<style scoped>\n",
       "    .dataframe tbody tr th:only-of-type {\n",
       "        vertical-align: middle;\n",
       "    }\n",
       "\n",
       "    .dataframe tbody tr th {\n",
       "        vertical-align: top;\n",
       "    }\n",
       "\n",
       "    .dataframe thead th {\n",
       "        text-align: right;\n",
       "    }\n",
       "</style>\n",
       "<table border=\"1\" class=\"dataframe\">\n",
       "  <thead>\n",
       "    <tr style=\"text-align: right;\">\n",
       "      <th></th>\n",
       "      <th>ukb_code</th>\n",
       "      <th>term_label</th>\n",
       "      <th>term_codes</th>\n",
       "      <th>mapping_type</th>\n",
       "      <th>ukb_fullcode</th>\n",
       "      <th>current_term_label</th>\n",
       "      <th>category</th>\n",
       "    </tr>\n",
       "  </thead>\n",
       "  <tbody>\n",
       "    <tr>\n",
       "      <th>1112</th>\n",
       "      <td>20002_1454</td>\n",
       "      <td>bullous skin disease</td>\n",
       "      <td>EFO:1000673</td>\n",
       "      <td>Narrow</td>\n",
       "      <td>20002_1454-Noncancer_illness_code_selfreported...</td>\n",
       "      <td>autoimmune bullous skin disease</td>\n",
       "      <td>None</td>\n",
       "    </tr>\n",
       "  </tbody>\n",
       "</table>\n",
       "</div>"
      ],
      "text/plain": [
       "        ukb_code            term_label   term_codes mapping_type  \\\n",
       "1112  20002_1454  bullous skin disease  EFO:1000673       Narrow   \n",
       "\n",
       "                                           ukb_fullcode  \\\n",
       "1112  20002_1454-Noncancer_illness_code_selfreported...   \n",
       "\n",
       "                   current_term_label category  \n",
       "1112  autoimmune bullous skin disease     None  "
      ]
     },
     "metadata": {},
     "output_type": "display_data"
    }
   ],
   "source": [
    "# check if old EFO labels are updated in orig_efo_names\n",
    "# _tmp = ukb_to_efo.dropna()\n",
    "_tmp = ukb_to_efo[ukb_to_efo[\"term_codes\"].str.contains(\"EFO:1000673\")]\n",
    "display(_tmp)\n",
    "_tmp = _tmp.iloc[0]\n",
    "assert _tmp[\"term_label\"] == \"bullous skin disease\"\n",
    "assert _tmp[\"current_term_label\"] == \"autoimmune bullous skin disease\""
   ]
  },
  {
   "cell_type": "code",
   "execution_count": 66,
   "metadata": {
    "execution": {
     "iopub.execute_input": "2020-12-14T21:24:36.284020Z",
     "iopub.status.busy": "2020-12-14T21:24:36.283641Z",
     "iopub.status.idle": "2020-12-14T21:24:36.294445Z",
     "shell.execute_reply": "2020-12-14T21:24:36.294074Z"
    },
    "papermill": {
     "duration": 0.050357,
     "end_time": "2020-12-14T21:24:36.294533",
     "exception": false,
     "start_time": "2020-12-14T21:24:36.244176",
     "status": "completed"
    },
    "tags": []
   },
   "outputs": [],
   "source": [
    "_tmp = ukb_to_efo.isna().sum()\n",
    "assert _tmp.loc[\"ukb_fullcode\"] == 0\n",
    "assert _tmp.loc[\"term_codes\"] == 0\n",
    "assert _tmp.loc[\"current_term_label\"] == 0"
   ]
  },
  {
   "cell_type": "code",
   "execution_count": 67,
   "metadata": {
    "execution": {
     "iopub.execute_input": "2020-12-14T21:24:36.372460Z",
     "iopub.status.busy": "2020-12-14T21:24:36.372088Z",
     "iopub.status.idle": "2020-12-14T21:24:36.393708Z",
     "shell.execute_reply": "2020-12-14T21:24:36.393356Z"
    },
    "papermill": {
     "duration": 0.06156,
     "end_time": "2020-12-14T21:24:36.393800",
     "exception": false,
     "start_time": "2020-12-14T21:24:36.332240",
     "status": "completed"
    },
    "tags": []
   },
   "outputs": [
    {
     "data": {
      "text/html": [
       "<div>\n",
       "<style scoped>\n",
       "    .dataframe tbody tr th:only-of-type {\n",
       "        vertical-align: middle;\n",
       "    }\n",
       "\n",
       "    .dataframe tbody tr th {\n",
       "        vertical-align: top;\n",
       "    }\n",
       "\n",
       "    .dataframe thead th {\n",
       "        text-align: right;\n",
       "    }\n",
       "</style>\n",
       "<table border=\"1\" class=\"dataframe\">\n",
       "  <thead>\n",
       "    <tr style=\"text-align: right;\">\n",
       "      <th></th>\n",
       "      <th>ukb_code</th>\n",
       "      <th>term_label</th>\n",
       "      <th>term_codes</th>\n",
       "      <th>mapping_type</th>\n",
       "      <th>ukb_fullcode</th>\n",
       "      <th>current_term_label</th>\n",
       "      <th>category</th>\n",
       "    </tr>\n",
       "  </thead>\n",
       "  <tbody>\n",
       "    <tr>\n",
       "      <th>452</th>\n",
       "      <td>R94</td>\n",
       "      <td>NaN</td>\n",
       "      <td>EFO:0009628</td>\n",
       "      <td>Exact</td>\n",
       "      <td>R94-Diagnoses_main_ICD10_R94_Abnormal_results_...</td>\n",
       "      <td>abnormal result of function studies</td>\n",
       "      <td>None</td>\n",
       "    </tr>\n",
       "    <tr>\n",
       "      <th>1031</th>\n",
       "      <td>1170</td>\n",
       "      <td>NaN</td>\n",
       "      <td>EFO:0009817</td>\n",
       "      <td>Exact</td>\n",
       "      <td>1170-Getting_up_in_morning</td>\n",
       "      <td>ease of getting up in the morning, self-reported</td>\n",
       "      <td>None</td>\n",
       "    </tr>\n",
       "    <tr>\n",
       "      <th>1123</th>\n",
       "      <td>M75</td>\n",
       "      <td>NaN</td>\n",
       "      <td>EFO:0009470</td>\n",
       "      <td>Broad</td>\n",
       "      <td>M75-Diagnoses_main_ICD10_M75_Shoulder_lesions</td>\n",
       "      <td>soft tissue disease</td>\n",
       "      <td>disease</td>\n",
       "    </tr>\n",
       "    <tr>\n",
       "      <th>1124</th>\n",
       "      <td>O32</td>\n",
       "      <td>NaN</td>\n",
       "      <td>EFO:0009682</td>\n",
       "      <td>Broad</td>\n",
       "      <td>O32-Diagnoses_main_ICD10_O32_Maternal_care_for...</td>\n",
       "      <td>pregnancy disorder</td>\n",
       "      <td>disease</td>\n",
       "    </tr>\n",
       "    <tr>\n",
       "      <th>1126</th>\n",
       "      <td>O34</td>\n",
       "      <td>NaN</td>\n",
       "      <td>EFO:0009682</td>\n",
       "      <td>Broad</td>\n",
       "      <td>O34-Diagnoses_main_ICD10_O34_Maternal_care_for...</td>\n",
       "      <td>pregnancy disorder</td>\n",
       "      <td>disease</td>\n",
       "    </tr>\n",
       "    <tr>\n",
       "      <th>1141</th>\n",
       "      <td>Z76</td>\n",
       "      <td>NaN</td>\n",
       "      <td>EFO:0009786</td>\n",
       "      <td>Broad</td>\n",
       "      <td>Z76-Diagnoses_main_ICD10_Z76_Persons_encounter...</td>\n",
       "      <td>encounter with health service</td>\n",
       "      <td>None</td>\n",
       "    </tr>\n",
       "    <tr>\n",
       "      <th>1142</th>\n",
       "      <td>Z71</td>\n",
       "      <td>NaN</td>\n",
       "      <td>EFO:0009786</td>\n",
       "      <td>Broad</td>\n",
       "      <td>Z71-Diagnoses_main_ICD10_Z71_Persons_encounter...</td>\n",
       "      <td>encounter with health service</td>\n",
       "      <td>None</td>\n",
       "    </tr>\n",
       "    <tr>\n",
       "      <th>1156</th>\n",
       "      <td>Z53</td>\n",
       "      <td>NaN</td>\n",
       "      <td>EFO:0009786</td>\n",
       "      <td>Broad</td>\n",
       "      <td>Z53-Diagnoses_main_ICD10_Z53_Persons_encounter...</td>\n",
       "      <td>encounter with health service</td>\n",
       "      <td>None</td>\n",
       "    </tr>\n",
       "    <tr>\n",
       "      <th>1566</th>\n",
       "      <td>BCAC_Overall_BreastCancer_EUR</td>\n",
       "      <td>NaN</td>\n",
       "      <td>EFO:0005606</td>\n",
       "      <td>NaN</td>\n",
       "      <td>BCAC_Overall_BreastCancer_EUR</td>\n",
       "      <td>family history of breast cancer</td>\n",
       "      <td>disease</td>\n",
       "    </tr>\n",
       "    <tr>\n",
       "      <th>1567</th>\n",
       "      <td>Astle_et_al_2016_Sum_neutrophil_eosinophil_counts</td>\n",
       "      <td>NaN</td>\n",
       "      <td>EFO:0004842</td>\n",
       "      <td>NaN</td>\n",
       "      <td>Astle_et_al_2016_Sum_neutrophil_eosinophil_counts</td>\n",
       "      <td>eosinophil count</td>\n",
       "      <td>None</td>\n",
       "    </tr>\n",
       "    <tr>\n",
       "      <th>1568</th>\n",
       "      <td>BCAC_ER_negative_BreastCancer_EUR</td>\n",
       "      <td>NaN</td>\n",
       "      <td>EFO:1000650</td>\n",
       "      <td>NaN</td>\n",
       "      <td>BCAC_ER_negative_BreastCancer_EUR</td>\n",
       "      <td>estrogen-receptor negative breast cancer</td>\n",
       "      <td>disease</td>\n",
       "    </tr>\n",
       "    <tr>\n",
       "      <th>1570</th>\n",
       "      <td>Astle_et_al_2016_Eosinophil_counts</td>\n",
       "      <td>NaN</td>\n",
       "      <td>EFO:0004842</td>\n",
       "      <td>NaN</td>\n",
       "      <td>Astle_et_al_2016_Eosinophil_counts</td>\n",
       "      <td>eosinophil count</td>\n",
       "      <td>None</td>\n",
       "    </tr>\n",
       "    <tr>\n",
       "      <th>1571</th>\n",
       "      <td>Astle_et_al_2016_Reticulocyte_count</td>\n",
       "      <td>NaN</td>\n",
       "      <td>EFO:0007986</td>\n",
       "      <td>NaN</td>\n",
       "      <td>Astle_et_al_2016_Reticulocyte_count</td>\n",
       "      <td>reticulocyte count</td>\n",
       "      <td>None</td>\n",
       "    </tr>\n",
       "    <tr>\n",
       "      <th>1572</th>\n",
       "      <td>Astle_et_al_2016_Lymphocyte_counts</td>\n",
       "      <td>NaN</td>\n",
       "      <td>EFO:0004587</td>\n",
       "      <td>NaN</td>\n",
       "      <td>Astle_et_al_2016_Lymphocyte_counts</td>\n",
       "      <td>lymphocyte count</td>\n",
       "      <td>disease</td>\n",
       "    </tr>\n",
       "    <tr>\n",
       "      <th>1573</th>\n",
       "      <td>MAGIC_ln_FastingInsulin</td>\n",
       "      <td>NaN</td>\n",
       "      <td>EFO:0004466</td>\n",
       "      <td>NaN</td>\n",
       "      <td>MAGIC_ln_FastingInsulin</td>\n",
       "      <td>fasting blood insulin measurement</td>\n",
       "      <td>disease</td>\n",
       "    </tr>\n",
       "    <tr>\n",
       "      <th>1575</th>\n",
       "      <td>IMMUNOBASE_Systemic_lupus_erythematosus_hg19</td>\n",
       "      <td>NaN</td>\n",
       "      <td>EFO:0002690</td>\n",
       "      <td>NaN</td>\n",
       "      <td>IMMUNOBASE_Systemic_lupus_erythematosus_hg19</td>\n",
       "      <td>systemic lupus erythematosus</td>\n",
       "      <td>disease</td>\n",
       "    </tr>\n",
       "    <tr>\n",
       "      <th>1576</th>\n",
       "      <td>CNCR_Insomnia_all</td>\n",
       "      <td>NaN</td>\n",
       "      <td>EFO:0004698</td>\n",
       "      <td>NaN</td>\n",
       "      <td>CNCR_Insomnia_all</td>\n",
       "      <td>insomnia</td>\n",
       "      <td>disease</td>\n",
       "    </tr>\n",
       "    <tr>\n",
       "      <th>1577</th>\n",
       "      <td>Astle_et_al_2016_Monocyte_count</td>\n",
       "      <td>NaN</td>\n",
       "      <td>EFO:0005091</td>\n",
       "      <td>NaN</td>\n",
       "      <td>Astle_et_al_2016_Monocyte_count</td>\n",
       "      <td>monocyte count</td>\n",
       "      <td>None</td>\n",
       "    </tr>\n",
       "    <tr>\n",
       "      <th>1578</th>\n",
       "      <td>GEFOS_Forearm</td>\n",
       "      <td>NaN</td>\n",
       "      <td>EFO:0003923</td>\n",
       "      <td>NaN</td>\n",
       "      <td>GEFOS_Forearm</td>\n",
       "      <td>bone density</td>\n",
       "      <td>disease</td>\n",
       "    </tr>\n",
       "    <tr>\n",
       "      <th>1579</th>\n",
       "      <td>Astle_et_al_2016_Neutrophil_count</td>\n",
       "      <td>NaN</td>\n",
       "      <td>EFO:0004833</td>\n",
       "      <td>NaN</td>\n",
       "      <td>Astle_et_al_2016_Neutrophil_count</td>\n",
       "      <td>neutrophil count</td>\n",
       "      <td>None</td>\n",
       "    </tr>\n",
       "    <tr>\n",
       "      <th>1580</th>\n",
       "      <td>CARDIoGRAM_C4D_CAD_ADDITIVE</td>\n",
       "      <td>NaN</td>\n",
       "      <td>EFO:0001645</td>\n",
       "      <td>NaN</td>\n",
       "      <td>CARDIoGRAM_C4D_CAD_ADDITIVE</td>\n",
       "      <td>coronary artery disease</td>\n",
       "      <td>disease</td>\n",
       "    </tr>\n",
       "    <tr>\n",
       "      <th>1581</th>\n",
       "      <td>Astle_et_al_2016_White_blood_cell_count</td>\n",
       "      <td>NaN</td>\n",
       "      <td>EFO:0004308</td>\n",
       "      <td>NaN</td>\n",
       "      <td>Astle_et_al_2016_White_blood_cell_count</td>\n",
       "      <td>leukocyte count</td>\n",
       "      <td>None</td>\n",
       "    </tr>\n",
       "    <tr>\n",
       "      <th>1583</th>\n",
       "      <td>IBD.EUR.Ulcerative_Colitis</td>\n",
       "      <td>NaN</td>\n",
       "      <td>EFO:0003767</td>\n",
       "      <td>NaN</td>\n",
       "      <td>IBD.EUR.Ulcerative_Colitis</td>\n",
       "      <td>inflammatory bowel disease</td>\n",
       "      <td>disease</td>\n",
       "    </tr>\n",
       "    <tr>\n",
       "      <th>1584</th>\n",
       "      <td>IBD.EUR.Crohns_Disease</td>\n",
       "      <td>NaN</td>\n",
       "      <td>EFO:0003767</td>\n",
       "      <td>NaN</td>\n",
       "      <td>IBD.EUR.Crohns_Disease</td>\n",
       "      <td>inflammatory bowel disease</td>\n",
       "      <td>disease</td>\n",
       "    </tr>\n",
       "    <tr>\n",
       "      <th>1586</th>\n",
       "      <td>Astle_et_al_2016_Myeloid_white_cell_count</td>\n",
       "      <td>NaN</td>\n",
       "      <td>EFO:0007988</td>\n",
       "      <td>NaN</td>\n",
       "      <td>Astle_et_al_2016_Myeloid_white_cell_count</td>\n",
       "      <td>myeloid white cell count</td>\n",
       "      <td>None</td>\n",
       "    </tr>\n",
       "    <tr>\n",
       "      <th>1587</th>\n",
       "      <td>Astle_et_al_2016_Granulocyte_count</td>\n",
       "      <td>NaN</td>\n",
       "      <td>EFO:0007987</td>\n",
       "      <td>NaN</td>\n",
       "      <td>Astle_et_al_2016_Granulocyte_count</td>\n",
       "      <td>granulocyte count</td>\n",
       "      <td>None</td>\n",
       "    </tr>\n",
       "    <tr>\n",
       "      <th>1588</th>\n",
       "      <td>IGAP_Alzheimer</td>\n",
       "      <td>NaN</td>\n",
       "      <td>EFO:0000249</td>\n",
       "      <td>NaN</td>\n",
       "      <td>IGAP_Alzheimer</td>\n",
       "      <td>alzheimer's disease</td>\n",
       "      <td>disease</td>\n",
       "    </tr>\n",
       "    <tr>\n",
       "      <th>1589</th>\n",
       "      <td>Astle_et_al_2016_Platelet_count</td>\n",
       "      <td>NaN</td>\n",
       "      <td>EFO:0004309</td>\n",
       "      <td>NaN</td>\n",
       "      <td>Astle_et_al_2016_Platelet_count</td>\n",
       "      <td>platelet count</td>\n",
       "      <td>None</td>\n",
       "    </tr>\n",
       "    <tr>\n",
       "      <th>1590</th>\n",
       "      <td>Jones_et_al_2016_SleepDuration</td>\n",
       "      <td>NaN</td>\n",
       "      <td>EFO:0005271</td>\n",
       "      <td>NaN</td>\n",
       "      <td>Jones_et_al_2016_SleepDuration</td>\n",
       "      <td>sleep duration</td>\n",
       "      <td>None</td>\n",
       "    </tr>\n",
       "    <tr>\n",
       "      <th>1591</th>\n",
       "      <td>Astle_et_al_2016_Sum_eosinophil_basophil_counts</td>\n",
       "      <td>NaN</td>\n",
       "      <td>EFO:0004842</td>\n",
       "      <td>NaN</td>\n",
       "      <td>Astle_et_al_2016_Sum_eosinophil_basophil_counts</td>\n",
       "      <td>eosinophil count</td>\n",
       "      <td>None</td>\n",
       "    </tr>\n",
       "    <tr>\n",
       "      <th>1593</th>\n",
       "      <td>ENIGMA_Intracraneal_Volume</td>\n",
       "      <td>NaN</td>\n",
       "      <td>EFO:0004886</td>\n",
       "      <td>NaN</td>\n",
       "      <td>ENIGMA_Intracraneal_Volume</td>\n",
       "      <td>intracranial volume measurement</td>\n",
       "      <td>None</td>\n",
       "    </tr>\n",
       "    <tr>\n",
       "      <th>1594</th>\n",
       "      <td>GIANT_HEIGHT</td>\n",
       "      <td>NaN</td>\n",
       "      <td>EFO:0004339</td>\n",
       "      <td>NaN</td>\n",
       "      <td>GIANT_HEIGHT</td>\n",
       "      <td>body height</td>\n",
       "      <td>None</td>\n",
       "    </tr>\n",
       "    <tr>\n",
       "      <th>1595</th>\n",
       "      <td>EGG_BW3_EUR</td>\n",
       "      <td>NaN</td>\n",
       "      <td>EFO:0004344</td>\n",
       "      <td>NaN</td>\n",
       "      <td>EGG_BW3_EUR</td>\n",
       "      <td>birth weight</td>\n",
       "      <td>None</td>\n",
       "    </tr>\n",
       "    <tr>\n",
       "      <th>1597</th>\n",
       "      <td>Astle_et_al_2016_Sum_basophil_neutrophil_counts</td>\n",
       "      <td>NaN</td>\n",
       "      <td>EFO:0004833</td>\n",
       "      <td>NaN</td>\n",
       "      <td>Astle_et_al_2016_Sum_basophil_neutrophil_counts</td>\n",
       "      <td>neutrophil count</td>\n",
       "      <td>None</td>\n",
       "    </tr>\n",
       "    <tr>\n",
       "      <th>1598</th>\n",
       "      <td>RA_OKADA_TRANS_ETHNIC</td>\n",
       "      <td>NaN</td>\n",
       "      <td>EFO:0000685</td>\n",
       "      <td>NaN</td>\n",
       "      <td>RA_OKADA_TRANS_ETHNIC</td>\n",
       "      <td>rheumatoid arthritis</td>\n",
       "      <td>disease</td>\n",
       "    </tr>\n",
       "    <tr>\n",
       "      <th>1599</th>\n",
       "      <td>pgc.scz2</td>\n",
       "      <td>NaN</td>\n",
       "      <td>EFO:0000692</td>\n",
       "      <td>NaN</td>\n",
       "      <td>pgc.scz2</td>\n",
       "      <td>schizophrenia</td>\n",
       "      <td>disease</td>\n",
       "    </tr>\n",
       "    <tr>\n",
       "      <th>1600</th>\n",
       "      <td>PGC_ADHD_EUR_2017</td>\n",
       "      <td>NaN</td>\n",
       "      <td>EFO:0003888</td>\n",
       "      <td>NaN</td>\n",
       "      <td>PGC_ADHD_EUR_2017</td>\n",
       "      <td>attention deficit hyperactivity disorder</td>\n",
       "      <td>disease</td>\n",
       "    </tr>\n",
       "    <tr>\n",
       "      <th>1601</th>\n",
       "      <td>MAGIC_FastingGlucose</td>\n",
       "      <td>NaN</td>\n",
       "      <td>EFO:0004465</td>\n",
       "      <td>NaN</td>\n",
       "      <td>MAGIC_FastingGlucose</td>\n",
       "      <td>fasting blood glucose measurement</td>\n",
       "      <td>disease</td>\n",
       "    </tr>\n",
       "    <tr>\n",
       "      <th>1602</th>\n",
       "      <td>Astle_et_al_2016_Red_blood_cell_count</td>\n",
       "      <td>NaN</td>\n",
       "      <td>EFO:0004305</td>\n",
       "      <td>NaN</td>\n",
       "      <td>Astle_et_al_2016_Red_blood_cell_count</td>\n",
       "      <td>erythrocyte count</td>\n",
       "      <td>None</td>\n",
       "    </tr>\n",
       "    <tr>\n",
       "      <th>1603</th>\n",
       "      <td>SSGAC_Depressive_Symptoms</td>\n",
       "      <td>NaN</td>\n",
       "      <td>EFO:0007006</td>\n",
       "      <td>NaN</td>\n",
       "      <td>SSGAC_Depressive_Symptoms</td>\n",
       "      <td>depressive symptom measurement</td>\n",
       "      <td>disease</td>\n",
       "    </tr>\n",
       "    <tr>\n",
       "      <th>1604</th>\n",
       "      <td>BCAC_ER_positive_BreastCancer_EUR</td>\n",
       "      <td>NaN</td>\n",
       "      <td>EFO:1000649</td>\n",
       "      <td>NaN</td>\n",
       "      <td>BCAC_ER_positive_BreastCancer_EUR</td>\n",
       "      <td>estrogen-receptor positive breast cancer</td>\n",
       "      <td>disease</td>\n",
       "    </tr>\n",
       "    <tr>\n",
       "      <th>1605</th>\n",
       "      <td>IBD.EUR.Inflammatory_Bowel_Disease</td>\n",
       "      <td>NaN</td>\n",
       "      <td>EFO:0003767</td>\n",
       "      <td>NaN</td>\n",
       "      <td>IBD.EUR.Inflammatory_Bowel_Disease</td>\n",
       "      <td>inflammatory bowel disease</td>\n",
       "      <td>disease</td>\n",
       "    </tr>\n",
       "    <tr>\n",
       "      <th>1606</th>\n",
       "      <td>Astle_et_al_2016_High_light_scatter_reticulocy...</td>\n",
       "      <td>NaN</td>\n",
       "      <td>EFO:0007986</td>\n",
       "      <td>NaN</td>\n",
       "      <td>Astle_et_al_2016_High_light_scatter_reticulocy...</td>\n",
       "      <td>reticulocyte count</td>\n",
       "      <td>None</td>\n",
       "    </tr>\n",
       "  </tbody>\n",
       "</table>\n",
       "</div>"
      ],
      "text/plain": [
       "                                               ukb_code term_label  \\\n",
       "452                                                 R94        NaN   \n",
       "1031                                               1170        NaN   \n",
       "1123                                                M75        NaN   \n",
       "1124                                                O32        NaN   \n",
       "1126                                                O34        NaN   \n",
       "1141                                                Z76        NaN   \n",
       "1142                                                Z71        NaN   \n",
       "1156                                                Z53        NaN   \n",
       "1566                      BCAC_Overall_BreastCancer_EUR        NaN   \n",
       "1567  Astle_et_al_2016_Sum_neutrophil_eosinophil_counts        NaN   \n",
       "1568                  BCAC_ER_negative_BreastCancer_EUR        NaN   \n",
       "1570                 Astle_et_al_2016_Eosinophil_counts        NaN   \n",
       "1571                Astle_et_al_2016_Reticulocyte_count        NaN   \n",
       "1572                 Astle_et_al_2016_Lymphocyte_counts        NaN   \n",
       "1573                            MAGIC_ln_FastingInsulin        NaN   \n",
       "1575       IMMUNOBASE_Systemic_lupus_erythematosus_hg19        NaN   \n",
       "1576                                  CNCR_Insomnia_all        NaN   \n",
       "1577                    Astle_et_al_2016_Monocyte_count        NaN   \n",
       "1578                                      GEFOS_Forearm        NaN   \n",
       "1579                  Astle_et_al_2016_Neutrophil_count        NaN   \n",
       "1580                        CARDIoGRAM_C4D_CAD_ADDITIVE        NaN   \n",
       "1581            Astle_et_al_2016_White_blood_cell_count        NaN   \n",
       "1583                         IBD.EUR.Ulcerative_Colitis        NaN   \n",
       "1584                             IBD.EUR.Crohns_Disease        NaN   \n",
       "1586          Astle_et_al_2016_Myeloid_white_cell_count        NaN   \n",
       "1587                 Astle_et_al_2016_Granulocyte_count        NaN   \n",
       "1588                                     IGAP_Alzheimer        NaN   \n",
       "1589                    Astle_et_al_2016_Platelet_count        NaN   \n",
       "1590                     Jones_et_al_2016_SleepDuration        NaN   \n",
       "1591    Astle_et_al_2016_Sum_eosinophil_basophil_counts        NaN   \n",
       "1593                         ENIGMA_Intracraneal_Volume        NaN   \n",
       "1594                                       GIANT_HEIGHT        NaN   \n",
       "1595                                        EGG_BW3_EUR        NaN   \n",
       "1597    Astle_et_al_2016_Sum_basophil_neutrophil_counts        NaN   \n",
       "1598                              RA_OKADA_TRANS_ETHNIC        NaN   \n",
       "1599                                           pgc.scz2        NaN   \n",
       "1600                                  PGC_ADHD_EUR_2017        NaN   \n",
       "1601                               MAGIC_FastingGlucose        NaN   \n",
       "1602              Astle_et_al_2016_Red_blood_cell_count        NaN   \n",
       "1603                          SSGAC_Depressive_Symptoms        NaN   \n",
       "1604                  BCAC_ER_positive_BreastCancer_EUR        NaN   \n",
       "1605                 IBD.EUR.Inflammatory_Bowel_Disease        NaN   \n",
       "1606  Astle_et_al_2016_High_light_scatter_reticulocy...        NaN   \n",
       "\n",
       "       term_codes mapping_type  \\\n",
       "452   EFO:0009628        Exact   \n",
       "1031  EFO:0009817        Exact   \n",
       "1123  EFO:0009470        Broad   \n",
       "1124  EFO:0009682        Broad   \n",
       "1126  EFO:0009682        Broad   \n",
       "1141  EFO:0009786        Broad   \n",
       "1142  EFO:0009786        Broad   \n",
       "1156  EFO:0009786        Broad   \n",
       "1566  EFO:0005606          NaN   \n",
       "1567  EFO:0004842          NaN   \n",
       "1568  EFO:1000650          NaN   \n",
       "1570  EFO:0004842          NaN   \n",
       "1571  EFO:0007986          NaN   \n",
       "1572  EFO:0004587          NaN   \n",
       "1573  EFO:0004466          NaN   \n",
       "1575  EFO:0002690          NaN   \n",
       "1576  EFO:0004698          NaN   \n",
       "1577  EFO:0005091          NaN   \n",
       "1578  EFO:0003923          NaN   \n",
       "1579  EFO:0004833          NaN   \n",
       "1580  EFO:0001645          NaN   \n",
       "1581  EFO:0004308          NaN   \n",
       "1583  EFO:0003767          NaN   \n",
       "1584  EFO:0003767          NaN   \n",
       "1586  EFO:0007988          NaN   \n",
       "1587  EFO:0007987          NaN   \n",
       "1588  EFO:0000249          NaN   \n",
       "1589  EFO:0004309          NaN   \n",
       "1590  EFO:0005271          NaN   \n",
       "1591  EFO:0004842          NaN   \n",
       "1593  EFO:0004886          NaN   \n",
       "1594  EFO:0004339          NaN   \n",
       "1595  EFO:0004344          NaN   \n",
       "1597  EFO:0004833          NaN   \n",
       "1598  EFO:0000685          NaN   \n",
       "1599  EFO:0000692          NaN   \n",
       "1600  EFO:0003888          NaN   \n",
       "1601  EFO:0004465          NaN   \n",
       "1602  EFO:0004305          NaN   \n",
       "1603  EFO:0007006          NaN   \n",
       "1604  EFO:1000649          NaN   \n",
       "1605  EFO:0003767          NaN   \n",
       "1606  EFO:0007986          NaN   \n",
       "\n",
       "                                           ukb_fullcode  \\\n",
       "452   R94-Diagnoses_main_ICD10_R94_Abnormal_results_...   \n",
       "1031                         1170-Getting_up_in_morning   \n",
       "1123      M75-Diagnoses_main_ICD10_M75_Shoulder_lesions   \n",
       "1124  O32-Diagnoses_main_ICD10_O32_Maternal_care_for...   \n",
       "1126  O34-Diagnoses_main_ICD10_O34_Maternal_care_for...   \n",
       "1141  Z76-Diagnoses_main_ICD10_Z76_Persons_encounter...   \n",
       "1142  Z71-Diagnoses_main_ICD10_Z71_Persons_encounter...   \n",
       "1156  Z53-Diagnoses_main_ICD10_Z53_Persons_encounter...   \n",
       "1566                      BCAC_Overall_BreastCancer_EUR   \n",
       "1567  Astle_et_al_2016_Sum_neutrophil_eosinophil_counts   \n",
       "1568                  BCAC_ER_negative_BreastCancer_EUR   \n",
       "1570                 Astle_et_al_2016_Eosinophil_counts   \n",
       "1571                Astle_et_al_2016_Reticulocyte_count   \n",
       "1572                 Astle_et_al_2016_Lymphocyte_counts   \n",
       "1573                            MAGIC_ln_FastingInsulin   \n",
       "1575       IMMUNOBASE_Systemic_lupus_erythematosus_hg19   \n",
       "1576                                  CNCR_Insomnia_all   \n",
       "1577                    Astle_et_al_2016_Monocyte_count   \n",
       "1578                                      GEFOS_Forearm   \n",
       "1579                  Astle_et_al_2016_Neutrophil_count   \n",
       "1580                        CARDIoGRAM_C4D_CAD_ADDITIVE   \n",
       "1581            Astle_et_al_2016_White_blood_cell_count   \n",
       "1583                         IBD.EUR.Ulcerative_Colitis   \n",
       "1584                             IBD.EUR.Crohns_Disease   \n",
       "1586          Astle_et_al_2016_Myeloid_white_cell_count   \n",
       "1587                 Astle_et_al_2016_Granulocyte_count   \n",
       "1588                                     IGAP_Alzheimer   \n",
       "1589                    Astle_et_al_2016_Platelet_count   \n",
       "1590                     Jones_et_al_2016_SleepDuration   \n",
       "1591    Astle_et_al_2016_Sum_eosinophil_basophil_counts   \n",
       "1593                         ENIGMA_Intracraneal_Volume   \n",
       "1594                                       GIANT_HEIGHT   \n",
       "1595                                        EGG_BW3_EUR   \n",
       "1597    Astle_et_al_2016_Sum_basophil_neutrophil_counts   \n",
       "1598                              RA_OKADA_TRANS_ETHNIC   \n",
       "1599                                           pgc.scz2   \n",
       "1600                                  PGC_ADHD_EUR_2017   \n",
       "1601                               MAGIC_FastingGlucose   \n",
       "1602              Astle_et_al_2016_Red_blood_cell_count   \n",
       "1603                          SSGAC_Depressive_Symptoms   \n",
       "1604                  BCAC_ER_positive_BreastCancer_EUR   \n",
       "1605                 IBD.EUR.Inflammatory_Bowel_Disease   \n",
       "1606  Astle_et_al_2016_High_light_scatter_reticulocy...   \n",
       "\n",
       "                                    current_term_label category  \n",
       "452                abnormal result of function studies     None  \n",
       "1031  ease of getting up in the morning, self-reported     None  \n",
       "1123                               soft tissue disease  disease  \n",
       "1124                                pregnancy disorder  disease  \n",
       "1126                                pregnancy disorder  disease  \n",
       "1141                     encounter with health service     None  \n",
       "1142                     encounter with health service     None  \n",
       "1156                     encounter with health service     None  \n",
       "1566                   family history of breast cancer  disease  \n",
       "1567                                  eosinophil count     None  \n",
       "1568          estrogen-receptor negative breast cancer  disease  \n",
       "1570                                  eosinophil count     None  \n",
       "1571                                reticulocyte count     None  \n",
       "1572                                  lymphocyte count  disease  \n",
       "1573                 fasting blood insulin measurement  disease  \n",
       "1575                      systemic lupus erythematosus  disease  \n",
       "1576                                          insomnia  disease  \n",
       "1577                                    monocyte count     None  \n",
       "1578                                      bone density  disease  \n",
       "1579                                  neutrophil count     None  \n",
       "1580                           coronary artery disease  disease  \n",
       "1581                                   leukocyte count     None  \n",
       "1583                        inflammatory bowel disease  disease  \n",
       "1584                        inflammatory bowel disease  disease  \n",
       "1586                          myeloid white cell count     None  \n",
       "1587                                 granulocyte count     None  \n",
       "1588                               alzheimer's disease  disease  \n",
       "1589                                    platelet count     None  \n",
       "1590                                    sleep duration     None  \n",
       "1591                                  eosinophil count     None  \n",
       "1593                   intracranial volume measurement     None  \n",
       "1594                                       body height     None  \n",
       "1595                                      birth weight     None  \n",
       "1597                                  neutrophil count     None  \n",
       "1598                              rheumatoid arthritis  disease  \n",
       "1599                                     schizophrenia  disease  \n",
       "1600          attention deficit hyperactivity disorder  disease  \n",
       "1601                 fasting blood glucose measurement  disease  \n",
       "1602                                 erythrocyte count     None  \n",
       "1603                    depressive symptom measurement  disease  \n",
       "1604          estrogen-receptor positive breast cancer  disease  \n",
       "1605                        inflammatory bowel disease  disease  \n",
       "1606                                reticulocyte count     None  "
      ]
     },
     "metadata": {},
     "output_type": "display_data"
    }
   ],
   "source": [
    "# check all nan term labels now have non-empty current labels\n",
    "_tmp = ukb_to_efo[ukb_to_efo[\"term_label\"].isna()]\n",
    "display(_tmp)\n",
    "assert _tmp[_tmp[\"current_term_label\"].isna()].shape[0] == 0\n",
    "assert _tmp[_tmp[\"current_term_label\"].str.strip().str.len() == 0].shape[0] == 0"
   ]
  },
  {
   "cell_type": "code",
   "execution_count": 68,
   "metadata": {
    "execution": {
     "iopub.execute_input": "2020-12-14T21:24:36.474206Z",
     "iopub.status.busy": "2020-12-14T21:24:36.473834Z",
     "iopub.status.idle": "2020-12-14T21:24:36.488028Z",
     "shell.execute_reply": "2020-12-14T21:24:36.487569Z"
    },
    "papermill": {
     "duration": 0.055272,
     "end_time": "2020-12-14T21:24:36.488141",
     "exception": false,
     "start_time": "2020-12-14T21:24:36.432869",
     "status": "completed"
    },
    "tags": []
   },
   "outputs": [
    {
     "data": {
      "text/html": [
       "<div>\n",
       "<style scoped>\n",
       "    .dataframe tbody tr th:only-of-type {\n",
       "        vertical-align: middle;\n",
       "    }\n",
       "\n",
       "    .dataframe tbody tr th {\n",
       "        vertical-align: top;\n",
       "    }\n",
       "\n",
       "    .dataframe thead th {\n",
       "        text-align: right;\n",
       "    }\n",
       "</style>\n",
       "<table border=\"1\" class=\"dataframe\">\n",
       "  <thead>\n",
       "    <tr style=\"text-align: right;\">\n",
       "      <th></th>\n",
       "      <th>ukb_code</th>\n",
       "      <th>term_label</th>\n",
       "      <th>term_codes</th>\n",
       "      <th>mapping_type</th>\n",
       "      <th>ukb_fullcode</th>\n",
       "      <th>current_term_label</th>\n",
       "      <th>category</th>\n",
       "    </tr>\n",
       "  </thead>\n",
       "  <tbody>\n",
       "  </tbody>\n",
       "</table>\n",
       "</div>"
      ],
      "text/plain": [
       "Empty DataFrame\n",
       "Columns: [ukb_code, term_label, term_codes, mapping_type, ukb_fullcode, current_term_label, category]\n",
       "Index: []"
      ]
     },
     "execution_count": 68,
     "metadata": {},
     "output_type": "execute_result"
    }
   ],
   "source": [
    "ukb_to_efo[(ukb_to_efo[\"current_term_label\"].str.strip().str.len() == 0)]"
   ]
  },
  {
   "cell_type": "code",
   "execution_count": 69,
   "metadata": {
    "execution": {
     "iopub.execute_input": "2020-12-14T21:24:36.570178Z",
     "iopub.status.busy": "2020-12-14T21:24:36.569805Z",
     "iopub.status.idle": "2020-12-14T21:24:36.580670Z",
     "shell.execute_reply": "2020-12-14T21:24:36.580342Z"
    },
    "papermill": {
     "duration": 0.052713,
     "end_time": "2020-12-14T21:24:36.580833",
     "exception": false,
     "start_time": "2020-12-14T21:24:36.528120",
     "status": "completed"
    },
    "tags": []
   },
   "outputs": [],
   "source": [
    "# check there are no null/empty current term labels\n",
    "assert (\n",
    "    ukb_to_efo[\n",
    "        ukb_to_efo[\"current_term_label\"].isna()\n",
    "        | (ukb_to_efo[\"current_term_label\"].str.strip().str.len() == 0)\n",
    "    ].shape[0]\n",
    "    == 0\n",
    ")"
   ]
  },
  {
   "cell_type": "code",
   "execution_count": 70,
   "metadata": {
    "execution": {
     "iopub.execute_input": "2020-12-14T21:24:36.661794Z",
     "iopub.status.busy": "2020-12-14T21:24:36.661414Z",
     "iopub.status.idle": "2020-12-14T21:24:36.679071Z",
     "shell.execute_reply": "2020-12-14T21:24:36.678690Z"
    },
    "papermill": {
     "duration": 0.058794,
     "end_time": "2020-12-14T21:24:36.679161",
     "exception": false,
     "start_time": "2020-12-14T21:24:36.620367",
     "status": "completed"
    },
    "tags": []
   },
   "outputs": [
    {
     "data": {
      "text/html": [
       "<div>\n",
       "<style scoped>\n",
       "    .dataframe tbody tr th:only-of-type {\n",
       "        vertical-align: middle;\n",
       "    }\n",
       "\n",
       "    .dataframe tbody tr th {\n",
       "        vertical-align: top;\n",
       "    }\n",
       "\n",
       "    .dataframe thead th {\n",
       "        text-align: right;\n",
       "    }\n",
       "</style>\n",
       "<table border=\"1\" class=\"dataframe\">\n",
       "  <thead>\n",
       "    <tr style=\"text-align: right;\">\n",
       "      <th></th>\n",
       "      <th>ukb_code</th>\n",
       "      <th>term_label</th>\n",
       "      <th>term_codes</th>\n",
       "      <th>mapping_type</th>\n",
       "      <th>ukb_fullcode</th>\n",
       "      <th>current_term_label</th>\n",
       "      <th>category</th>\n",
       "    </tr>\n",
       "  </thead>\n",
       "  <tbody>\n",
       "    <tr>\n",
       "      <th>0</th>\n",
       "      <td>K55</td>\n",
       "      <td>vascular disease</td>\n",
       "      <td>EFO:0004264, EFO:0009431</td>\n",
       "      <td>Broad</td>\n",
       "      <td>K55-Diagnoses_main_ICD10_K55_Vascular_disorder...</td>\n",
       "      <td>vascular disease AND intestinal disease</td>\n",
       "      <td>disease</td>\n",
       "    </tr>\n",
       "    <tr>\n",
       "      <th>1</th>\n",
       "      <td>M17</td>\n",
       "      <td>osteoarthritis || knee</td>\n",
       "      <td>EFO:0004616</td>\n",
       "      <td>Broad</td>\n",
       "      <td>M17-Diagnoses_main_ICD10_M17_Gonarthrosis_arth...</td>\n",
       "      <td>osteoarthritis, knee</td>\n",
       "      <td>disease</td>\n",
       "    </tr>\n",
       "    <tr>\n",
       "      <th>21</th>\n",
       "      <td>Z85</td>\n",
       "      <td>neoplasm' (covers benign + malignant; otherwis...</td>\n",
       "      <td>EFO:0000616</td>\n",
       "      <td>Broad</td>\n",
       "      <td>Z85-Diagnoses_main_ICD10_Z85_Personal_history_...</td>\n",
       "      <td>neoplasm</td>\n",
       "      <td>disease</td>\n",
       "    </tr>\n",
       "    <tr>\n",
       "      <th>27</th>\n",
       "      <td>Z34</td>\n",
       "      <td>pregnancy'</td>\n",
       "      <td>EFO:0002950</td>\n",
       "      <td>Broad</td>\n",
       "      <td>Z34-Diagnoses_main_ICD10_Z34_Supervision_of_no...</td>\n",
       "      <td>pregnancy</td>\n",
       "      <td>None</td>\n",
       "    </tr>\n",
       "    <tr>\n",
       "      <th>67</th>\n",
       "      <td>H52</td>\n",
       "      <td>Abnormality of refraction</td>\n",
       "      <td>HP:0000539</td>\n",
       "      <td>Broad</td>\n",
       "      <td>H52-Diagnoses_main_ICD10_H52_Disorders_of_refr...</td>\n",
       "      <td>abnormality of refraction</td>\n",
       "      <td>None</td>\n",
       "    </tr>\n",
       "    <tr>\n",
       "      <th>...</th>\n",
       "      <td>...</td>\n",
       "      <td>...</td>\n",
       "      <td>...</td>\n",
       "      <td>...</td>\n",
       "      <td>...</td>\n",
       "      <td>...</td>\n",
       "      <td>...</td>\n",
       "    </tr>\n",
       "    <tr>\n",
       "      <th>1602</th>\n",
       "      <td>Astle_et_al_2016_Red_blood_cell_count</td>\n",
       "      <td>NaN</td>\n",
       "      <td>EFO:0004305</td>\n",
       "      <td>NaN</td>\n",
       "      <td>Astle_et_al_2016_Red_blood_cell_count</td>\n",
       "      <td>erythrocyte count</td>\n",
       "      <td>None</td>\n",
       "    </tr>\n",
       "    <tr>\n",
       "      <th>1603</th>\n",
       "      <td>SSGAC_Depressive_Symptoms</td>\n",
       "      <td>NaN</td>\n",
       "      <td>EFO:0007006</td>\n",
       "      <td>NaN</td>\n",
       "      <td>SSGAC_Depressive_Symptoms</td>\n",
       "      <td>depressive symptom measurement</td>\n",
       "      <td>disease</td>\n",
       "    </tr>\n",
       "    <tr>\n",
       "      <th>1604</th>\n",
       "      <td>BCAC_ER_positive_BreastCancer_EUR</td>\n",
       "      <td>NaN</td>\n",
       "      <td>EFO:1000649</td>\n",
       "      <td>NaN</td>\n",
       "      <td>BCAC_ER_positive_BreastCancer_EUR</td>\n",
       "      <td>estrogen-receptor positive breast cancer</td>\n",
       "      <td>disease</td>\n",
       "    </tr>\n",
       "    <tr>\n",
       "      <th>1605</th>\n",
       "      <td>IBD.EUR.Inflammatory_Bowel_Disease</td>\n",
       "      <td>NaN</td>\n",
       "      <td>EFO:0003767</td>\n",
       "      <td>NaN</td>\n",
       "      <td>IBD.EUR.Inflammatory_Bowel_Disease</td>\n",
       "      <td>inflammatory bowel disease</td>\n",
       "      <td>disease</td>\n",
       "    </tr>\n",
       "    <tr>\n",
       "      <th>1606</th>\n",
       "      <td>Astle_et_al_2016_High_light_scatter_reticulocy...</td>\n",
       "      <td>NaN</td>\n",
       "      <td>EFO:0007986</td>\n",
       "      <td>NaN</td>\n",
       "      <td>Astle_et_al_2016_High_light_scatter_reticulocy...</td>\n",
       "      <td>reticulocyte count</td>\n",
       "      <td>None</td>\n",
       "    </tr>\n",
       "  </tbody>\n",
       "</table>\n",
       "<p>266 rows × 7 columns</p>\n",
       "</div>"
      ],
      "text/plain": [
       "                                               ukb_code  \\\n",
       "0                                                   K55   \n",
       "1                                                   M17   \n",
       "21                                                  Z85   \n",
       "27                                                  Z34   \n",
       "67                                                  H52   \n",
       "...                                                 ...   \n",
       "1602              Astle_et_al_2016_Red_blood_cell_count   \n",
       "1603                          SSGAC_Depressive_Symptoms   \n",
       "1604                  BCAC_ER_positive_BreastCancer_EUR   \n",
       "1605                 IBD.EUR.Inflammatory_Bowel_Disease   \n",
       "1606  Astle_et_al_2016_High_light_scatter_reticulocy...   \n",
       "\n",
       "                                             term_label  \\\n",
       "0                                      vascular disease   \n",
       "1                                osteoarthritis || knee   \n",
       "21    neoplasm' (covers benign + malignant; otherwis...   \n",
       "27                                           pregnancy'   \n",
       "67                            Abnormality of refraction   \n",
       "...                                                 ...   \n",
       "1602                                                NaN   \n",
       "1603                                                NaN   \n",
       "1604                                                NaN   \n",
       "1605                                                NaN   \n",
       "1606                                                NaN   \n",
       "\n",
       "                    term_codes mapping_type  \\\n",
       "0     EFO:0004264, EFO:0009431        Broad   \n",
       "1                  EFO:0004616        Broad   \n",
       "21                 EFO:0000616        Broad   \n",
       "27                 EFO:0002950        Broad   \n",
       "67                  HP:0000539        Broad   \n",
       "...                        ...          ...   \n",
       "1602               EFO:0004305          NaN   \n",
       "1603               EFO:0007006          NaN   \n",
       "1604               EFO:1000649          NaN   \n",
       "1605               EFO:0003767          NaN   \n",
       "1606               EFO:0007986          NaN   \n",
       "\n",
       "                                           ukb_fullcode  \\\n",
       "0     K55-Diagnoses_main_ICD10_K55_Vascular_disorder...   \n",
       "1     M17-Diagnoses_main_ICD10_M17_Gonarthrosis_arth...   \n",
       "21    Z85-Diagnoses_main_ICD10_Z85_Personal_history_...   \n",
       "27    Z34-Diagnoses_main_ICD10_Z34_Supervision_of_no...   \n",
       "67    H52-Diagnoses_main_ICD10_H52_Disorders_of_refr...   \n",
       "...                                                 ...   \n",
       "1602              Astle_et_al_2016_Red_blood_cell_count   \n",
       "1603                          SSGAC_Depressive_Symptoms   \n",
       "1604                  BCAC_ER_positive_BreastCancer_EUR   \n",
       "1605                 IBD.EUR.Inflammatory_Bowel_Disease   \n",
       "1606  Astle_et_al_2016_High_light_scatter_reticulocy...   \n",
       "\n",
       "                            current_term_label category  \n",
       "0      vascular disease AND intestinal disease  disease  \n",
       "1                         osteoarthritis, knee  disease  \n",
       "21                                    neoplasm  disease  \n",
       "27                                   pregnancy     None  \n",
       "67                   abnormality of refraction     None  \n",
       "...                                        ...      ...  \n",
       "1602                         erythrocyte count     None  \n",
       "1603            depressive symptom measurement  disease  \n",
       "1604  estrogen-receptor positive breast cancer  disease  \n",
       "1605                inflammatory bowel disease  disease  \n",
       "1606                        reticulocyte count     None  \n",
       "\n",
       "[266 rows x 7 columns]"
      ]
     },
     "execution_count": 70,
     "metadata": {},
     "output_type": "execute_result"
    }
   ],
   "source": [
    "# How many entries have an term_label that differs from current_term_label?\n",
    "ukb_to_efo[ukb_to_efo[\"term_label\"] != ukb_to_efo[\"current_term_label\"]]"
   ]
  },
  {
   "cell_type": "code",
   "execution_count": 71,
   "metadata": {
    "execution": {
     "iopub.execute_input": "2020-12-14T21:24:36.759540Z",
     "iopub.status.busy": "2020-12-14T21:24:36.759169Z",
     "iopub.status.idle": "2020-12-14T21:24:36.782431Z",
     "shell.execute_reply": "2020-12-14T21:24:36.782715Z"
    },
    "papermill": {
     "duration": 0.064808,
     "end_time": "2020-12-14T21:24:36.782826",
     "exception": false,
     "start_time": "2020-12-14T21:24:36.718018",
     "status": "completed"
    },
    "tags": []
   },
   "outputs": [
    {
     "data": {
      "text/plain": [
       "(46, 7)"
      ]
     },
     "metadata": {},
     "output_type": "display_data"
    },
    {
     "data": {
      "text/html": [
       "<div>\n",
       "<style scoped>\n",
       "    .dataframe tbody tr th:only-of-type {\n",
       "        vertical-align: middle;\n",
       "    }\n",
       "\n",
       "    .dataframe tbody tr th {\n",
       "        vertical-align: top;\n",
       "    }\n",
       "\n",
       "    .dataframe thead th {\n",
       "        text-align: right;\n",
       "    }\n",
       "</style>\n",
       "<table border=\"1\" class=\"dataframe\">\n",
       "  <thead>\n",
       "    <tr style=\"text-align: right;\">\n",
       "      <th></th>\n",
       "      <th>ukb_code</th>\n",
       "      <th>term_label</th>\n",
       "      <th>term_codes</th>\n",
       "      <th>mapping_type</th>\n",
       "      <th>ukb_fullcode</th>\n",
       "      <th>current_term_label</th>\n",
       "      <th>category</th>\n",
       "    </tr>\n",
       "  </thead>\n",
       "  <tbody>\n",
       "    <tr>\n",
       "      <th>0</th>\n",
       "      <td>K55</td>\n",
       "      <td>vascular disease</td>\n",
       "      <td>EFO:0004264, EFO:0009431</td>\n",
       "      <td>Broad</td>\n",
       "      <td>K55-Diagnoses_main_ICD10_K55_Vascular_disorder...</td>\n",
       "      <td>vascular disease AND intestinal disease</td>\n",
       "      <td>disease</td>\n",
       "    </tr>\n",
       "    <tr>\n",
       "      <th>162</th>\n",
       "      <td>E23</td>\n",
       "      <td>hypopituitarism, pituitary gland disease</td>\n",
       "      <td>EFO:0001380, EFO:0009607</td>\n",
       "      <td>Exact</td>\n",
       "      <td>E23-Diagnoses_main_ICD10_E23_Hypofunction_and_...</td>\n",
       "      <td>hypopituitarism AND pituitary gland disease</td>\n",
       "      <td>disease</td>\n",
       "    </tr>\n",
       "    <tr>\n",
       "      <th>346</th>\n",
       "      <td>I80</td>\n",
       "      <td>phlebitis || Thrombophlebitis</td>\n",
       "      <td>EFO:1001395, HP:0004418</td>\n",
       "      <td>Exact</td>\n",
       "      <td>I80-Diagnoses_main_ICD10_I80_Phlebitis_and_thr...</td>\n",
       "      <td>phlebitis AND thrombophlebitis</td>\n",
       "      <td>disease</td>\n",
       "    </tr>\n",
       "    <tr>\n",
       "      <th>584</th>\n",
       "      <td>3404</td>\n",
       "      <td>shoulder pain  || neck pain</td>\n",
       "      <td>HP:0030834, HP:0030833</td>\n",
       "      <td>Broad</td>\n",
       "      <td>3404-Neckshoulder_pain_for_3_months</td>\n",
       "      <td>shoulder pain AND neck pain</td>\n",
       "      <td>None</td>\n",
       "    </tr>\n",
       "    <tr>\n",
       "      <th>590</th>\n",
       "      <td>3799</td>\n",
       "      <td>headache disorder  || headache</td>\n",
       "      <td>EFO:0009550, HP:0002315</td>\n",
       "      <td>Exact</td>\n",
       "      <td>3799-Headaches_for_3_months</td>\n",
       "      <td>headache disorder AND headache</td>\n",
       "      <td>disease</td>\n",
       "    </tr>\n",
       "    <tr>\n",
       "      <th>693</th>\n",
       "      <td>20002_1139</td>\n",
       "      <td>esophagitis  || Barrett's esophagus</td>\n",
       "      <td>HP:0100633, EFO:0000280</td>\n",
       "      <td>Exact</td>\n",
       "      <td>20002_1139-Noncancer_illness_code_selfreported...</td>\n",
       "      <td>esophagitis AND barrett's esophagus</td>\n",
       "      <td>disease</td>\n",
       "    </tr>\n",
       "    <tr>\n",
       "      <th>701</th>\n",
       "      <td>20002_1162</td>\n",
       "      <td>gallstones  || cholelithiasis</td>\n",
       "      <td>EFO:0004210, EFO:0004799</td>\n",
       "      <td>Exact</td>\n",
       "      <td>20002_1162-Noncancer_illness_code_selfreported...</td>\n",
       "      <td>gallstones AND cholelithiasis</td>\n",
       "      <td>disease</td>\n",
       "    </tr>\n",
       "    <tr>\n",
       "      <th>708</th>\n",
       "      <td>20002_1197</td>\n",
       "      <td>nephrolithiasis  || ureterolithiasis  || bladd...</td>\n",
       "      <td>EFO:0004253, EFO:1001228, EFO:1000839</td>\n",
       "      <td>Exact</td>\n",
       "      <td>20002_1197-Noncancer_illness_code_selfreported...</td>\n",
       "      <td>nephrolithiasis AND ureterolithiasis AND bladd...</td>\n",
       "      <td>disease</td>\n",
       "    </tr>\n",
       "    <tr>\n",
       "      <th>715</th>\n",
       "      <td>20002_1225</td>\n",
       "      <td>hyperthyroidism  || thyrotoxicosis</td>\n",
       "      <td>EFO:0009189, EFO:0009190</td>\n",
       "      <td>Exact</td>\n",
       "      <td>20002_1225-Noncancer_illness_code_selfreported...</td>\n",
       "      <td>hyperthyroidism AND thyrotoxicosis</td>\n",
       "      <td>disease</td>\n",
       "    </tr>\n",
       "    <tr>\n",
       "      <th>716</th>\n",
       "      <td>20002_1226</td>\n",
       "      <td>hypothyroidism  || myxedema</td>\n",
       "      <td>EFO:0004705, EFO:1001055</td>\n",
       "      <td>Exact</td>\n",
       "      <td>20002_1226-Noncancer_illness_code_selfreported...</td>\n",
       "      <td>hypothyroidism AND myxedema</td>\n",
       "      <td>disease</td>\n",
       "    </tr>\n",
       "    <tr>\n",
       "      <th>734</th>\n",
       "      <td>20002_1282</td>\n",
       "      <td>retinal artery occlusion  || retinal vein occl...</td>\n",
       "      <td>EFO:1001154, EFO:1001157</td>\n",
       "      <td>Exact</td>\n",
       "      <td>20002_1282-Noncancer_illness_code_selfreported...</td>\n",
       "      <td>retinal artery occlusion AND retinal vein occl...</td>\n",
       "      <td>disease</td>\n",
       "    </tr>\n",
       "    <tr>\n",
       "      <th>744</th>\n",
       "      <td>20002_1322</td>\n",
       "      <td>myositis  || myopathy</td>\n",
       "      <td>EFO:0000783, EFO:0004145</td>\n",
       "      <td>Exact</td>\n",
       "      <td>20002_1322-Noncancer_illness_code_selfreported...</td>\n",
       "      <td>myositis AND myopathy</td>\n",
       "      <td>disease</td>\n",
       "    </tr>\n",
       "    <tr>\n",
       "      <th>764</th>\n",
       "      <td>20002_1384</td>\n",
       "      <td>scleroderma  || systemic scleroderma</td>\n",
       "      <td>EFO:1001993, EFO:0000717</td>\n",
       "      <td>Exact</td>\n",
       "      <td>20002_1384-Noncancer_illness_code_selfreported...</td>\n",
       "      <td>scleroderma AND systemic scleroderma</td>\n",
       "      <td>disease</td>\n",
       "    </tr>\n",
       "    <tr>\n",
       "      <th>766</th>\n",
       "      <td>20002_1387</td>\n",
       "      <td>seasonal allergic rhinitis  || allergic rhinitis</td>\n",
       "      <td>EFO:0003956, EFO:0005854</td>\n",
       "      <td>Exact</td>\n",
       "      <td>20002_1387-Noncancer_illness_code_selfreported...</td>\n",
       "      <td>seasonal allergic rhinitis AND allergic rhinitis</td>\n",
       "      <td>disease</td>\n",
       "    </tr>\n",
       "    <tr>\n",
       "      <th>787</th>\n",
       "      <td>20002_1439</td>\n",
       "      <td>HIV infection  || AIDS</td>\n",
       "      <td>EFO:0000764, EFO:0000765</td>\n",
       "      <td>Exact</td>\n",
       "      <td>20002_1439-Noncancer_illness_code_selfreported...</td>\n",
       "      <td>hiv infection AND aids</td>\n",
       "      <td>disease</td>\n",
       "    </tr>\n",
       "    <tr>\n",
       "      <th>829</th>\n",
       "      <td>20002_1509</td>\n",
       "      <td>gastroenteritis  || dysentery</td>\n",
       "      <td>EFO:1001463, EFO:1001869</td>\n",
       "      <td>Exact</td>\n",
       "      <td>20002_1509-Noncancer_illness_code_selfreported...</td>\n",
       "      <td>gastroenteritis AND dysentery</td>\n",
       "      <td>disease</td>\n",
       "    </tr>\n",
       "    <tr>\n",
       "      <th>866</th>\n",
       "      <td>20002_1567</td>\n",
       "      <td>infectious mononucleosis  || Epstein-Barr viru...</td>\n",
       "      <td>EFO:0007326, EFO:0000769</td>\n",
       "      <td>Exact</td>\n",
       "      <td>20002_1567-Noncancer_illness_code_selfreported...</td>\n",
       "      <td>infectious mononucleosis AND epstein-barr viru...</td>\n",
       "      <td>disease</td>\n",
       "    </tr>\n",
       "    <tr>\n",
       "      <th>894</th>\n",
       "      <td>20002_1619</td>\n",
       "      <td>tendinopathy  || tenosynovitis</td>\n",
       "      <td>EFO:1001434, EFO:1001435</td>\n",
       "      <td>Exact</td>\n",
       "      <td>20002_1619-Noncancer_illness_code_selfreported...</td>\n",
       "      <td>tendinopathy AND tenosynovitis</td>\n",
       "      <td>disease</td>\n",
       "    </tr>\n",
       "    <tr>\n",
       "      <th>931</th>\n",
       "      <td>4559</td>\n",
       "      <td>wellbeing measurement  || family relaitonship</td>\n",
       "      <td>EFO:0007869, EFO:0004424</td>\n",
       "      <td>Broad</td>\n",
       "      <td>4559-Family_relationship_satisfaction</td>\n",
       "      <td>wellbeing measurement AND family relationship</td>\n",
       "      <td>disease</td>\n",
       "    </tr>\n",
       "    <tr>\n",
       "      <th>936</th>\n",
       "      <td>20002_1136</td>\n",
       "      <td>liver disease  || biliary tract disease  || pa...</td>\n",
       "      <td>EFO:0001421, EFO:0009534, EFO:0009605</td>\n",
       "      <td>Exact</td>\n",
       "      <td>20002_1136-Noncancer_illness_code_selfreported...</td>\n",
       "      <td>liver disease AND biliary tract disease AND pa...</td>\n",
       "      <td>disease</td>\n",
       "    </tr>\n",
       "    <tr>\n",
       "      <th>953</th>\n",
       "      <td>20002_1648</td>\n",
       "      <td>femur fracture  || hip fracture</td>\n",
       "      <td>EFO:0008553, EFO:0003964</td>\n",
       "      <td>Broad</td>\n",
       "      <td>20002_1648-Noncancer_illness_code_selfreported...</td>\n",
       "      <td>femur fracture AND hip fracture</td>\n",
       "      <td>disease</td>\n",
       "    </tr>\n",
       "    <tr>\n",
       "      <th>956</th>\n",
       "      <td>20002_1651</td>\n",
       "      <td>ankle fracture  || lower extremity fracture</td>\n",
       "      <td>EFO:0009615, EFO:0009512</td>\n",
       "      <td>Exact</td>\n",
       "      <td>20002_1651-Noncancer_illness_code_selfreported...</td>\n",
       "      <td>ankle fracture AND lower extremity fracture</td>\n",
       "      <td>disease</td>\n",
       "    </tr>\n",
       "    <tr>\n",
       "      <th>961</th>\n",
       "      <td>2395_2</td>\n",
       "      <td>androgenic alopecia  || balding measurement</td>\n",
       "      <td>EFO:0004191, EFO:0007825</td>\n",
       "      <td>Broad</td>\n",
       "      <td>2395_2-Hairbalding_pattern_Pattern_2</td>\n",
       "      <td>androgenetic alopecia AND balding measurement</td>\n",
       "      <td>disease</td>\n",
       "    </tr>\n",
       "    <tr>\n",
       "      <th>962</th>\n",
       "      <td>2395_3</td>\n",
       "      <td>androgenic alopecia  || balding measurement</td>\n",
       "      <td>EFO:0004191, EFO:0007825</td>\n",
       "      <td>Broad</td>\n",
       "      <td>2395_3-Hairbalding_pattern_Pattern_3</td>\n",
       "      <td>androgenetic alopecia AND balding measurement</td>\n",
       "      <td>disease</td>\n",
       "    </tr>\n",
       "    <tr>\n",
       "      <th>963</th>\n",
       "      <td>2395_4</td>\n",
       "      <td>androgenic alopecia  || balding measurement</td>\n",
       "      <td>EFO:0004191, EFO:0007825</td>\n",
       "      <td>Broad</td>\n",
       "      <td>2395_4-Hairbalding_pattern_Pattern_4</td>\n",
       "      <td>androgenetic alopecia AND balding measurement</td>\n",
       "      <td>disease</td>\n",
       "    </tr>\n",
       "    <tr>\n",
       "      <th>968</th>\n",
       "      <td>1220</td>\n",
       "      <td>excessive daytime sleepiness  || narcolepsy wi...</td>\n",
       "      <td>EFO:0007875, EFO:0005855</td>\n",
       "      <td>Exact</td>\n",
       "      <td>1220-Daytime_dozing_sleeping_narcolepsy</td>\n",
       "      <td>excessive daytime sleepiness measurement AND n...</td>\n",
       "      <td>disease</td>\n",
       "    </tr>\n",
       "    <tr>\n",
       "      <th>990</th>\n",
       "      <td>20001_1068</td>\n",
       "      <td>sarcoma  || fibrosarcoma</td>\n",
       "      <td>EFO:0000691, EFO:0002087</td>\n",
       "      <td>Exact</td>\n",
       "      <td>20001_1068-Cancer_code_selfreported_sarcomafib...</td>\n",
       "      <td>sarcoma AND fibrosarcoma</td>\n",
       "      <td>disease</td>\n",
       "    </tr>\n",
       "    <tr>\n",
       "      <th>1004</th>\n",
       "      <td>20002_1287</td>\n",
       "      <td>anxiety  || panic disorder</td>\n",
       "      <td>EFO:0005230, EFO:0004262</td>\n",
       "      <td>Exact</td>\n",
       "      <td>20002_1287-Noncancer_illness_code_selfreported...</td>\n",
       "      <td>anxiety AND panic disorder</td>\n",
       "      <td>disease</td>\n",
       "    </tr>\n",
       "    <tr>\n",
       "      <th>1072</th>\n",
       "      <td>5663</td>\n",
       "      <td>manic episode measurement||irritability measur...</td>\n",
       "      <td>EFO:0007705||EFO:0009594</td>\n",
       "      <td>Exact</td>\n",
       "      <td>5663-Length_of_longest_manicirritable_episode</td>\n",
       "      <td>manic episode measurement AND irritability mea...</td>\n",
       "      <td>disease</td>\n",
       "    </tr>\n",
       "    <tr>\n",
       "      <th>1073</th>\n",
       "      <td>5674</td>\n",
       "      <td>manic episode measurement||irritability measur...</td>\n",
       "      <td>EFO:0007705||EFO:0009594</td>\n",
       "      <td>Exact</td>\n",
       "      <td>5674-Severity_of_manicirritable_episodes</td>\n",
       "      <td>manic episode measurement AND irritability mea...</td>\n",
       "      <td>disease</td>\n",
       "    </tr>\n",
       "    <tr>\n",
       "      <th>1248</th>\n",
       "      <td>N43</td>\n",
       "      <td>testicular hydrocele || spermatocele EFO_1001189</td>\n",
       "      <td>EFO:1001859, EFO:1001189</td>\n",
       "      <td>Broad</td>\n",
       "      <td>N43-Diagnoses_main_ICD10_N43_Hydrocele_and_spe...</td>\n",
       "      <td>testicular hydrocele AND spermatocele</td>\n",
       "      <td>disease</td>\n",
       "    </tr>\n",
       "    <tr>\n",
       "      <th>1298</th>\n",
       "      <td>A09</td>\n",
       "      <td>diarrhoea||gastroenteritis</td>\n",
       "      <td>EFO:1001463, EFO:1001463</td>\n",
       "      <td>Broad</td>\n",
       "      <td>A09-Diagnoses_main_ICD10_A09_Diarrhoea_and_gas...</td>\n",
       "      <td>gastroenteritis AND gastroenteritis</td>\n",
       "      <td>disease</td>\n",
       "    </tr>\n",
       "    <tr>\n",
       "      <th>1305</th>\n",
       "      <td>Z52</td>\n",
       "      <td>organ donor||tissue donor</td>\n",
       "      <td>EFO:0009634, EFO:0009633</td>\n",
       "      <td>Exact</td>\n",
       "      <td>Z52-Diagnoses_main_ICD10_Z52_Donors_of_organs_...</td>\n",
       "      <td>organ donor AND tissue donor</td>\n",
       "      <td>None</td>\n",
       "    </tr>\n",
       "    <tr>\n",
       "      <th>1333</th>\n",
       "      <td>S91</td>\n",
       "      <td>ankle injury||skin wound</td>\n",
       "      <td>EFO:1002021||EFO:0005756</td>\n",
       "      <td>Broad</td>\n",
       "      <td>S91-Diagnoses_main_ICD10_S91_Open_wound_of_ank...</td>\n",
       "      <td>ankle injury AND skin wound</td>\n",
       "      <td>disease</td>\n",
       "    </tr>\n",
       "    <tr>\n",
       "      <th>1345</th>\n",
       "      <td>S63</td>\n",
       "      <td>dislocation||sprain</td>\n",
       "      <td>EFO:0009521||EFO:0009582</td>\n",
       "      <td>Broad</td>\n",
       "      <td>S63-Diagnoses_main_ICD10_S63_Dislocation_sprai...</td>\n",
       "      <td>dislocation AND sprain</td>\n",
       "      <td>disease</td>\n",
       "    </tr>\n",
       "    <tr>\n",
       "      <th>1351</th>\n",
       "      <td>S43</td>\n",
       "      <td>dislocation||sprain</td>\n",
       "      <td>EFO:0009521||EFO:0009582</td>\n",
       "      <td>Broad</td>\n",
       "      <td>S43-Diagnoses_main_ICD10_S43_Dislocation_sprai...</td>\n",
       "      <td>dislocation AND sprain</td>\n",
       "      <td>disease</td>\n",
       "    </tr>\n",
       "    <tr>\n",
       "      <th>1374</th>\n",
       "      <td>R53</td>\n",
       "      <td>fatigue||malaise</td>\n",
       "      <td>HP:0012378 | EFO:0009641</td>\n",
       "      <td>Exact</td>\n",
       "      <td>R53-Diagnoses_main_ICD10_R53_Malaise_and_fatigue</td>\n",
       "      <td>fatigue AND malaise</td>\n",
       "      <td>None</td>\n",
       "    </tr>\n",
       "    <tr>\n",
       "      <th>1380</th>\n",
       "      <td>R29</td>\n",
       "      <td>abnormality of the musculature||abnormality of...</td>\n",
       "      <td>HP:0003011||HP:0000924||HP:0000707</td>\n",
       "      <td>Broad</td>\n",
       "      <td>R29-Diagnoses_main_ICD10_R29_Other_symptoms_an...</td>\n",
       "      <td>abnormality of the musculature AND abnormality...</td>\n",
       "      <td>None</td>\n",
       "    </tr>\n",
       "    <tr>\n",
       "      <th>1386</th>\n",
       "      <td>R09</td>\n",
       "      <td>abnormality of the respiratory system||abnorma...</td>\n",
       "      <td>HP:0002086||HP:0001626</td>\n",
       "      <td>Broad</td>\n",
       "      <td>R09-Diagnoses_main_ICD10_R09_Other_symptoms_an...</td>\n",
       "      <td>abnormality of the respiratory system AND abno...</td>\n",
       "      <td>None</td>\n",
       "    </tr>\n",
       "    <tr>\n",
       "      <th>1392</th>\n",
       "      <td>O13</td>\n",
       "      <td>preeclampsia||proteinuria</td>\n",
       "      <td>EFO:0000668||HP:0000093</td>\n",
       "      <td>Broad</td>\n",
       "      <td>O13-Diagnoses_main_ICD10_O13_Gestational_pregn...</td>\n",
       "      <td>preeclampsia AND proteinuria</td>\n",
       "      <td>disease</td>\n",
       "    </tr>\n",
       "    <tr>\n",
       "      <th>1458</th>\n",
       "      <td>M95</td>\n",
       "      <td>musculoskeletal system disease | connective ti...</td>\n",
       "      <td>EFO:0009676 | EFO:1001986</td>\n",
       "      <td>Exact</td>\n",
       "      <td>M95-Diagnoses_main_ICD10_M95_Other_acquired_de...</td>\n",
       "      <td>musculoskeletal system disease AND connective ...</td>\n",
       "      <td>disease</td>\n",
       "    </tr>\n",
       "    <tr>\n",
       "      <th>1478</th>\n",
       "      <td>K62</td>\n",
       "      <td>anus disease||rectal disease</td>\n",
       "      <td>EFO:0009660 | EFO:0009685</td>\n",
       "      <td>Exact</td>\n",
       "      <td>K62-Diagnoses_main_ICD10_K62_Other_diseases_of...</td>\n",
       "      <td>anus disease AND rectal disease</td>\n",
       "      <td>disease</td>\n",
       "    </tr>\n",
       "    <tr>\n",
       "      <th>1520</th>\n",
       "      <td>H92</td>\n",
       "      <td>ear pain||otitis media with effusion</td>\n",
       "      <td>HP:0030766 | EFO:0007415</td>\n",
       "      <td>Exact</td>\n",
       "      <td>H92-Diagnoses_main_ICD10_H92_Otalgia_and_effus...</td>\n",
       "      <td>ear pain AND otitis media with effusion</td>\n",
       "      <td>disease</td>\n",
       "    </tr>\n",
       "    <tr>\n",
       "      <th>1549</th>\n",
       "      <td>D47</td>\n",
       "      <td>lymphoid neoplasm||common hematopoietic neoplasm</td>\n",
       "      <td>EFO:0001642||EFO:1000201</td>\n",
       "      <td>Exact</td>\n",
       "      <td>D47-Diagnoses_main_ICD10_D47_Other_neoplasms_o...</td>\n",
       "      <td>lymphoid neoplasm AND common hematopoietic neo...</td>\n",
       "      <td>disease</td>\n",
       "    </tr>\n",
       "    <tr>\n",
       "      <th>1561</th>\n",
       "      <td>A04</td>\n",
       "      <td>intestinal disease||bacterial disease</td>\n",
       "      <td>EFO:0009431||EFO:0000771</td>\n",
       "      <td>Broad</td>\n",
       "      <td>A04-Diagnoses_main_ICD10_A04_Other_bacterial_i...</td>\n",
       "      <td>intestinal disease AND bacterial disease</td>\n",
       "      <td>disease</td>\n",
       "    </tr>\n",
       "    <tr>\n",
       "      <th>1562</th>\n",
       "      <td>A08</td>\n",
       "      <td>intestinal disease||viral disease</td>\n",
       "      <td>EFO:0009431||EFO:0000763</td>\n",
       "      <td>Broad</td>\n",
       "      <td>A08-Diagnoses_main_ICD10_A08_Viral_and_other_s...</td>\n",
       "      <td>intestinal disease AND viral disease</td>\n",
       "      <td>disease</td>\n",
       "    </tr>\n",
       "  </tbody>\n",
       "</table>\n",
       "</div>"
      ],
      "text/plain": [
       "        ukb_code                                         term_label  \\\n",
       "0            K55                                   vascular disease   \n",
       "162          E23           hypopituitarism, pituitary gland disease   \n",
       "346          I80                      phlebitis || Thrombophlebitis   \n",
       "584         3404                        shoulder pain  || neck pain   \n",
       "590         3799                     headache disorder  || headache   \n",
       "693   20002_1139                esophagitis  || Barrett's esophagus   \n",
       "701   20002_1162                      gallstones  || cholelithiasis   \n",
       "708   20002_1197  nephrolithiasis  || ureterolithiasis  || bladd...   \n",
       "715   20002_1225                 hyperthyroidism  || thyrotoxicosis   \n",
       "716   20002_1226                        hypothyroidism  || myxedema   \n",
       "734   20002_1282  retinal artery occlusion  || retinal vein occl...   \n",
       "744   20002_1322                              myositis  || myopathy   \n",
       "764   20002_1384               scleroderma  || systemic scleroderma   \n",
       "766   20002_1387   seasonal allergic rhinitis  || allergic rhinitis   \n",
       "787   20002_1439                             HIV infection  || AIDS   \n",
       "829   20002_1509                      gastroenteritis  || dysentery   \n",
       "866   20002_1567  infectious mononucleosis  || Epstein-Barr viru...   \n",
       "894   20002_1619                     tendinopathy  || tenosynovitis   \n",
       "931         4559      wellbeing measurement  || family relaitonship   \n",
       "936   20002_1136  liver disease  || biliary tract disease  || pa...   \n",
       "953   20002_1648                    femur fracture  || hip fracture   \n",
       "956   20002_1651        ankle fracture  || lower extremity fracture   \n",
       "961       2395_2        androgenic alopecia  || balding measurement   \n",
       "962       2395_3        androgenic alopecia  || balding measurement   \n",
       "963       2395_4        androgenic alopecia  || balding measurement   \n",
       "968         1220  excessive daytime sleepiness  || narcolepsy wi...   \n",
       "990   20001_1068                           sarcoma  || fibrosarcoma   \n",
       "1004  20002_1287                         anxiety  || panic disorder   \n",
       "1072        5663  manic episode measurement||irritability measur...   \n",
       "1073        5674  manic episode measurement||irritability measur...   \n",
       "1248         N43   testicular hydrocele || spermatocele EFO_1001189   \n",
       "1298         A09                         diarrhoea||gastroenteritis   \n",
       "1305         Z52                          organ donor||tissue donor   \n",
       "1333         S91                           ankle injury||skin wound   \n",
       "1345         S63                                dislocation||sprain   \n",
       "1351         S43                                dislocation||sprain   \n",
       "1374         R53                                   fatigue||malaise   \n",
       "1380         R29  abnormality of the musculature||abnormality of...   \n",
       "1386         R09  abnormality of the respiratory system||abnorma...   \n",
       "1392         O13                          preeclampsia||proteinuria   \n",
       "1458         M95  musculoskeletal system disease | connective ti...   \n",
       "1478         K62                       anus disease||rectal disease   \n",
       "1520         H92               ear pain||otitis media with effusion   \n",
       "1549         D47   lymphoid neoplasm||common hematopoietic neoplasm   \n",
       "1561         A04              intestinal disease||bacterial disease   \n",
       "1562         A08                  intestinal disease||viral disease   \n",
       "\n",
       "                                 term_codes mapping_type  \\\n",
       "0                  EFO:0004264, EFO:0009431        Broad   \n",
       "162                EFO:0001380, EFO:0009607        Exact   \n",
       "346                 EFO:1001395, HP:0004418        Exact   \n",
       "584                  HP:0030834, HP:0030833        Broad   \n",
       "590                 EFO:0009550, HP:0002315        Exact   \n",
       "693                 HP:0100633, EFO:0000280        Exact   \n",
       "701                EFO:0004210, EFO:0004799        Exact   \n",
       "708   EFO:0004253, EFO:1001228, EFO:1000839        Exact   \n",
       "715                EFO:0009189, EFO:0009190        Exact   \n",
       "716                EFO:0004705, EFO:1001055        Exact   \n",
       "734                EFO:1001154, EFO:1001157        Exact   \n",
       "744                EFO:0000783, EFO:0004145        Exact   \n",
       "764                EFO:1001993, EFO:0000717        Exact   \n",
       "766                EFO:0003956, EFO:0005854        Exact   \n",
       "787                EFO:0000764, EFO:0000765        Exact   \n",
       "829                EFO:1001463, EFO:1001869        Exact   \n",
       "866                EFO:0007326, EFO:0000769        Exact   \n",
       "894                EFO:1001434, EFO:1001435        Exact   \n",
       "931                EFO:0007869, EFO:0004424        Broad   \n",
       "936   EFO:0001421, EFO:0009534, EFO:0009605        Exact   \n",
       "953                EFO:0008553, EFO:0003964        Broad   \n",
       "956                EFO:0009615, EFO:0009512        Exact   \n",
       "961                EFO:0004191, EFO:0007825        Broad   \n",
       "962                EFO:0004191, EFO:0007825        Broad   \n",
       "963                EFO:0004191, EFO:0007825        Broad   \n",
       "968                EFO:0007875, EFO:0005855        Exact   \n",
       "990                EFO:0000691, EFO:0002087        Exact   \n",
       "1004               EFO:0005230, EFO:0004262        Exact   \n",
       "1072               EFO:0007705||EFO:0009594        Exact   \n",
       "1073               EFO:0007705||EFO:0009594        Exact   \n",
       "1248               EFO:1001859, EFO:1001189        Broad   \n",
       "1298               EFO:1001463, EFO:1001463        Broad   \n",
       "1305               EFO:0009634, EFO:0009633        Exact   \n",
       "1333               EFO:1002021||EFO:0005756        Broad   \n",
       "1345               EFO:0009521||EFO:0009582        Broad   \n",
       "1351               EFO:0009521||EFO:0009582        Broad   \n",
       "1374               HP:0012378 | EFO:0009641        Exact   \n",
       "1380     HP:0003011||HP:0000924||HP:0000707        Broad   \n",
       "1386                 HP:0002086||HP:0001626        Broad   \n",
       "1392                EFO:0000668||HP:0000093        Broad   \n",
       "1458              EFO:0009676 | EFO:1001986        Exact   \n",
       "1478              EFO:0009660 | EFO:0009685        Exact   \n",
       "1520               HP:0030766 | EFO:0007415        Exact   \n",
       "1549               EFO:0001642||EFO:1000201        Exact   \n",
       "1561               EFO:0009431||EFO:0000771        Broad   \n",
       "1562               EFO:0009431||EFO:0000763        Broad   \n",
       "\n",
       "                                           ukb_fullcode  \\\n",
       "0     K55-Diagnoses_main_ICD10_K55_Vascular_disorder...   \n",
       "162   E23-Diagnoses_main_ICD10_E23_Hypofunction_and_...   \n",
       "346   I80-Diagnoses_main_ICD10_I80_Phlebitis_and_thr...   \n",
       "584                 3404-Neckshoulder_pain_for_3_months   \n",
       "590                         3799-Headaches_for_3_months   \n",
       "693   20002_1139-Noncancer_illness_code_selfreported...   \n",
       "701   20002_1162-Noncancer_illness_code_selfreported...   \n",
       "708   20002_1197-Noncancer_illness_code_selfreported...   \n",
       "715   20002_1225-Noncancer_illness_code_selfreported...   \n",
       "716   20002_1226-Noncancer_illness_code_selfreported...   \n",
       "734   20002_1282-Noncancer_illness_code_selfreported...   \n",
       "744   20002_1322-Noncancer_illness_code_selfreported...   \n",
       "764   20002_1384-Noncancer_illness_code_selfreported...   \n",
       "766   20002_1387-Noncancer_illness_code_selfreported...   \n",
       "787   20002_1439-Noncancer_illness_code_selfreported...   \n",
       "829   20002_1509-Noncancer_illness_code_selfreported...   \n",
       "866   20002_1567-Noncancer_illness_code_selfreported...   \n",
       "894   20002_1619-Noncancer_illness_code_selfreported...   \n",
       "931               4559-Family_relationship_satisfaction   \n",
       "936   20002_1136-Noncancer_illness_code_selfreported...   \n",
       "953   20002_1648-Noncancer_illness_code_selfreported...   \n",
       "956   20002_1651-Noncancer_illness_code_selfreported...   \n",
       "961                2395_2-Hairbalding_pattern_Pattern_2   \n",
       "962                2395_3-Hairbalding_pattern_Pattern_3   \n",
       "963                2395_4-Hairbalding_pattern_Pattern_4   \n",
       "968             1220-Daytime_dozing_sleeping_narcolepsy   \n",
       "990   20001_1068-Cancer_code_selfreported_sarcomafib...   \n",
       "1004  20002_1287-Noncancer_illness_code_selfreported...   \n",
       "1072      5663-Length_of_longest_manicirritable_episode   \n",
       "1073           5674-Severity_of_manicirritable_episodes   \n",
       "1248  N43-Diagnoses_main_ICD10_N43_Hydrocele_and_spe...   \n",
       "1298  A09-Diagnoses_main_ICD10_A09_Diarrhoea_and_gas...   \n",
       "1305  Z52-Diagnoses_main_ICD10_Z52_Donors_of_organs_...   \n",
       "1333  S91-Diagnoses_main_ICD10_S91_Open_wound_of_ank...   \n",
       "1345  S63-Diagnoses_main_ICD10_S63_Dislocation_sprai...   \n",
       "1351  S43-Diagnoses_main_ICD10_S43_Dislocation_sprai...   \n",
       "1374   R53-Diagnoses_main_ICD10_R53_Malaise_and_fatigue   \n",
       "1380  R29-Diagnoses_main_ICD10_R29_Other_symptoms_an...   \n",
       "1386  R09-Diagnoses_main_ICD10_R09_Other_symptoms_an...   \n",
       "1392  O13-Diagnoses_main_ICD10_O13_Gestational_pregn...   \n",
       "1458  M95-Diagnoses_main_ICD10_M95_Other_acquired_de...   \n",
       "1478  K62-Diagnoses_main_ICD10_K62_Other_diseases_of...   \n",
       "1520  H92-Diagnoses_main_ICD10_H92_Otalgia_and_effus...   \n",
       "1549  D47-Diagnoses_main_ICD10_D47_Other_neoplasms_o...   \n",
       "1561  A04-Diagnoses_main_ICD10_A04_Other_bacterial_i...   \n",
       "1562  A08-Diagnoses_main_ICD10_A08_Viral_and_other_s...   \n",
       "\n",
       "                                     current_term_label category  \n",
       "0               vascular disease AND intestinal disease  disease  \n",
       "162         hypopituitarism AND pituitary gland disease  disease  \n",
       "346                      phlebitis AND thrombophlebitis  disease  \n",
       "584                         shoulder pain AND neck pain     None  \n",
       "590                      headache disorder AND headache  disease  \n",
       "693                 esophagitis AND barrett's esophagus  disease  \n",
       "701                       gallstones AND cholelithiasis  disease  \n",
       "708   nephrolithiasis AND ureterolithiasis AND bladd...  disease  \n",
       "715                  hyperthyroidism AND thyrotoxicosis  disease  \n",
       "716                         hypothyroidism AND myxedema  disease  \n",
       "734   retinal artery occlusion AND retinal vein occl...  disease  \n",
       "744                               myositis AND myopathy  disease  \n",
       "764                scleroderma AND systemic scleroderma  disease  \n",
       "766    seasonal allergic rhinitis AND allergic rhinitis  disease  \n",
       "787                              hiv infection AND aids  disease  \n",
       "829                       gastroenteritis AND dysentery  disease  \n",
       "866   infectious mononucleosis AND epstein-barr viru...  disease  \n",
       "894                      tendinopathy AND tenosynovitis  disease  \n",
       "931       wellbeing measurement AND family relationship  disease  \n",
       "936   liver disease AND biliary tract disease AND pa...  disease  \n",
       "953                     femur fracture AND hip fracture  disease  \n",
       "956         ankle fracture AND lower extremity fracture  disease  \n",
       "961       androgenetic alopecia AND balding measurement  disease  \n",
       "962       androgenetic alopecia AND balding measurement  disease  \n",
       "963       androgenetic alopecia AND balding measurement  disease  \n",
       "968   excessive daytime sleepiness measurement AND n...  disease  \n",
       "990                            sarcoma AND fibrosarcoma  disease  \n",
       "1004                         anxiety AND panic disorder  disease  \n",
       "1072  manic episode measurement AND irritability mea...  disease  \n",
       "1073  manic episode measurement AND irritability mea...  disease  \n",
       "1248              testicular hydrocele AND spermatocele  disease  \n",
       "1298                gastroenteritis AND gastroenteritis  disease  \n",
       "1305                       organ donor AND tissue donor     None  \n",
       "1333                        ankle injury AND skin wound  disease  \n",
       "1345                             dislocation AND sprain  disease  \n",
       "1351                             dislocation AND sprain  disease  \n",
       "1374                                fatigue AND malaise     None  \n",
       "1380  abnormality of the musculature AND abnormality...     None  \n",
       "1386  abnormality of the respiratory system AND abno...     None  \n",
       "1392                       preeclampsia AND proteinuria  disease  \n",
       "1458  musculoskeletal system disease AND connective ...  disease  \n",
       "1478                    anus disease AND rectal disease  disease  \n",
       "1520            ear pain AND otitis media with effusion  disease  \n",
       "1549  lymphoid neoplasm AND common hematopoietic neo...  disease  \n",
       "1561           intestinal disease AND bacterial disease  disease  \n",
       "1562               intestinal disease AND viral disease  disease  "
      ]
     },
     "metadata": {},
     "output_type": "display_data"
    }
   ],
   "source": [
    "# How many entries comprise more than one EFO codes?\n",
    "_tmp = ukb_to_efo[ukb_to_efo[\"current_term_label\"].str.contains(\" AND \")]\n",
    "display(_tmp.shape)\n",
    "display(_tmp)"
   ]
  },
  {
   "cell_type": "code",
   "execution_count": 72,
   "metadata": {
    "execution": {
     "iopub.execute_input": "2020-12-14T21:24:36.867811Z",
     "iopub.status.busy": "2020-12-14T21:24:36.867436Z",
     "iopub.status.idle": "2020-12-14T21:24:36.878684Z",
     "shell.execute_reply": "2020-12-14T21:24:36.878290Z"
    },
    "papermill": {
     "duration": 0.054422,
     "end_time": "2020-12-14T21:24:36.878778",
     "exception": false,
     "start_time": "2020-12-14T21:24:36.824356",
     "status": "completed"
    },
    "tags": []
   },
   "outputs": [
    {
     "data": {
      "text/plain": [
       "Exact       623\n",
       "Broad       379\n",
       "Narrow       38\n",
       "?             7\n",
       "Narrow?       1\n",
       "? Broad       1\n",
       "? Narrow      1\n",
       "? Exact       1\n",
       "Name: mapping_type, dtype: int64"
      ]
     },
     "execution_count": 72,
     "metadata": {},
     "output_type": "execute_result"
    }
   ],
   "source": [
    "ukb_to_efo[\"mapping_type\"].value_counts()"
   ]
  },
  {
   "cell_type": "code",
   "execution_count": 73,
   "metadata": {
    "execution": {
     "iopub.execute_input": "2020-12-14T21:24:36.962240Z",
     "iopub.status.busy": "2020-12-14T21:24:36.961866Z",
     "iopub.status.idle": "2020-12-14T21:24:36.974477Z",
     "shell.execute_reply": "2020-12-14T21:24:36.974097Z"
    },
    "papermill": {
     "duration": 0.055562,
     "end_time": "2020-12-14T21:24:36.974567",
     "exception": false,
     "start_time": "2020-12-14T21:24:36.919005",
     "status": "completed"
    },
    "tags": []
   },
   "outputs": [
    {
     "data": {
      "text/plain": [
       "emphysema                                                    4\n",
       "cardiac arrhythmia                                           4\n",
       "hearing loss                                                 3\n",
       "asthma                                                       3\n",
       "joint disease                                                3\n",
       "                                                            ..\n",
       "laryngeal disease                                            1\n",
       "infectious mononucleosis AND epstein-barr virus infection    1\n",
       "intestinal disease                                           1\n",
       "celiac disease                                               1\n",
       "breast hypertrophy                                           1\n",
       "Name: current_term_label, Length: 516, dtype: int64"
      ]
     },
     "execution_count": 73,
     "metadata": {},
     "output_type": "execute_result"
    }
   ],
   "source": [
    "ukb_to_efo[ukb_to_efo[\"mapping_type\"] == \"Exact\"][\"current_term_label\"].value_counts()"
   ]
  },
  {
   "cell_type": "code",
   "execution_count": 74,
   "metadata": {
    "execution": {
     "iopub.execute_input": "2020-12-14T21:24:37.062410Z",
     "iopub.status.busy": "2020-12-14T21:24:37.062038Z",
     "iopub.status.idle": "2020-12-14T21:24:37.073901Z",
     "shell.execute_reply": "2020-12-14T21:24:37.073594Z"
    },
    "papermill": {
     "duration": 0.054585,
     "end_time": "2020-12-14T21:24:37.073994",
     "exception": false,
     "start_time": "2020-12-14T21:24:37.019409",
     "status": "completed"
    },
    "tags": []
   },
   "outputs": [
    {
     "data": {
      "text/plain": [
       "injury                           9\n",
       "emotional symptom measurement    8\n",
       "pregnancy disorder               8\n",
       "encounter with health service    7\n",
       "checkup                          7\n",
       "                                ..\n",
       "smoking behavior                 1\n",
       "viral meningitis                 1\n",
       "bilateral oophorectomy           1\n",
       "abortion                         1\n",
       "breast hypertrophy               1\n",
       "Name: current_term_label, Length: 743, dtype: int64"
      ]
     },
     "execution_count": 74,
     "metadata": {},
     "output_type": "execute_result"
    }
   ],
   "source": [
    "ukb_to_efo[\"current_term_label\"].value_counts()"
   ]
  },
  {
   "cell_type": "code",
   "execution_count": 75,
   "metadata": {
    "execution": {
     "iopub.execute_input": "2020-12-14T21:24:37.159458Z",
     "iopub.status.busy": "2020-12-14T21:24:37.159091Z",
     "iopub.status.idle": "2020-12-14T21:24:37.174452Z",
     "shell.execute_reply": "2020-12-14T21:24:37.174071Z"
    },
    "papermill": {
     "duration": 0.059395,
     "end_time": "2020-12-14T21:24:37.174540",
     "exception": false,
     "start_time": "2020-12-14T21:24:37.115145",
     "status": "completed"
    },
    "tags": []
   },
   "outputs": [
    {
     "data": {
      "text/html": [
       "<div>\n",
       "<style scoped>\n",
       "    .dataframe tbody tr th:only-of-type {\n",
       "        vertical-align: middle;\n",
       "    }\n",
       "\n",
       "    .dataframe tbody tr th {\n",
       "        vertical-align: top;\n",
       "    }\n",
       "\n",
       "    .dataframe thead th {\n",
       "        text-align: right;\n",
       "    }\n",
       "</style>\n",
       "<table border=\"1\" class=\"dataframe\">\n",
       "  <thead>\n",
       "    <tr style=\"text-align: right;\">\n",
       "      <th></th>\n",
       "      <th>ukb_code</th>\n",
       "      <th>term_label</th>\n",
       "      <th>term_codes</th>\n",
       "      <th>mapping_type</th>\n",
       "      <th>ukb_fullcode</th>\n",
       "      <th>current_term_label</th>\n",
       "      <th>category</th>\n",
       "    </tr>\n",
       "  </thead>\n",
       "  <tbody>\n",
       "    <tr>\n",
       "      <th>914</th>\n",
       "      <td>1930</td>\n",
       "      <td>emotional symptom measurement</td>\n",
       "      <td>EFO:0007803</td>\n",
       "      <td>Broad</td>\n",
       "      <td>1930-Miserableness</td>\n",
       "      <td>emotional symptom measurement</td>\n",
       "      <td>disease</td>\n",
       "    </tr>\n",
       "    <tr>\n",
       "      <th>915</th>\n",
       "      <td>1950</td>\n",
       "      <td>emotional symptom measurement</td>\n",
       "      <td>EFO:0007803</td>\n",
       "      <td>Broad</td>\n",
       "      <td>1950-Sensitivity_hurt_feelings</td>\n",
       "      <td>emotional symptom measurement</td>\n",
       "      <td>disease</td>\n",
       "    </tr>\n",
       "    <tr>\n",
       "      <th>916</th>\n",
       "      <td>1960</td>\n",
       "      <td>emotional symptom measurement</td>\n",
       "      <td>EFO:0007803</td>\n",
       "      <td>Broad</td>\n",
       "      <td>1960-Fedup_feelings</td>\n",
       "      <td>emotional symptom measurement</td>\n",
       "      <td>disease</td>\n",
       "    </tr>\n",
       "    <tr>\n",
       "      <th>917</th>\n",
       "      <td>1970</td>\n",
       "      <td>emotional symptom measurement</td>\n",
       "      <td>EFO:0007803</td>\n",
       "      <td>Broad</td>\n",
       "      <td>1970-Nervous_feelings</td>\n",
       "      <td>emotional symptom measurement</td>\n",
       "      <td>disease</td>\n",
       "    </tr>\n",
       "    <tr>\n",
       "      <th>918</th>\n",
       "      <td>2030</td>\n",
       "      <td>emotional symptom measurement</td>\n",
       "      <td>EFO:0007803</td>\n",
       "      <td>Broad</td>\n",
       "      <td>2030-Guilty_feelings</td>\n",
       "      <td>emotional symptom measurement</td>\n",
       "      <td>disease</td>\n",
       "    </tr>\n",
       "    <tr>\n",
       "      <th>974</th>\n",
       "      <td>2050</td>\n",
       "      <td>emotional symptom measurement</td>\n",
       "      <td>EFO:0007803</td>\n",
       "      <td>Broad</td>\n",
       "      <td>2050-Frequency_of_depressed_mood_in_last_2_weeks</td>\n",
       "      <td>emotional symptom measurement</td>\n",
       "      <td>disease</td>\n",
       "    </tr>\n",
       "    <tr>\n",
       "      <th>975</th>\n",
       "      <td>2060</td>\n",
       "      <td>emotional symptom measurement</td>\n",
       "      <td>EFO:0007803</td>\n",
       "      <td>Broad</td>\n",
       "      <td>2060-Frequency_of_unenthusiasm_disinterest_in_...</td>\n",
       "      <td>emotional symptom measurement</td>\n",
       "      <td>disease</td>\n",
       "    </tr>\n",
       "    <tr>\n",
       "      <th>1058</th>\n",
       "      <td>4526</td>\n",
       "      <td>emotional symptom measurement</td>\n",
       "      <td>EFO:0007803</td>\n",
       "      <td>Broad</td>\n",
       "      <td>4526-Happiness</td>\n",
       "      <td>emotional symptom measurement</td>\n",
       "      <td>disease</td>\n",
       "    </tr>\n",
       "  </tbody>\n",
       "</table>\n",
       "</div>"
      ],
      "text/plain": [
       "     ukb_code                     term_label   term_codes mapping_type  \\\n",
       "914      1930  emotional symptom measurement  EFO:0007803        Broad   \n",
       "915      1950  emotional symptom measurement  EFO:0007803        Broad   \n",
       "916      1960  emotional symptom measurement  EFO:0007803        Broad   \n",
       "917      1970  emotional symptom measurement  EFO:0007803        Broad   \n",
       "918      2030  emotional symptom measurement  EFO:0007803        Broad   \n",
       "974      2050  emotional symptom measurement  EFO:0007803        Broad   \n",
       "975      2060  emotional symptom measurement  EFO:0007803        Broad   \n",
       "1058     4526  emotional symptom measurement  EFO:0007803        Broad   \n",
       "\n",
       "                                           ukb_fullcode  \\\n",
       "914                                  1930-Miserableness   \n",
       "915                      1950-Sensitivity_hurt_feelings   \n",
       "916                                 1960-Fedup_feelings   \n",
       "917                               1970-Nervous_feelings   \n",
       "918                                2030-Guilty_feelings   \n",
       "974    2050-Frequency_of_depressed_mood_in_last_2_weeks   \n",
       "975   2060-Frequency_of_unenthusiasm_disinterest_in_...   \n",
       "1058                                     4526-Happiness   \n",
       "\n",
       "                 current_term_label category  \n",
       "914   emotional symptom measurement  disease  \n",
       "915   emotional symptom measurement  disease  \n",
       "916   emotional symptom measurement  disease  \n",
       "917   emotional symptom measurement  disease  \n",
       "918   emotional symptom measurement  disease  \n",
       "974   emotional symptom measurement  disease  \n",
       "975   emotional symptom measurement  disease  \n",
       "1058  emotional symptom measurement  disease  "
      ]
     },
     "execution_count": 75,
     "metadata": {},
     "output_type": "execute_result"
    }
   ],
   "source": [
    "ukb_to_efo[ukb_to_efo[\"current_term_label\"] == \"emotional symptom measurement\"]"
   ]
  },
  {
   "cell_type": "code",
   "execution_count": 76,
   "metadata": {
    "execution": {
     "iopub.execute_input": "2020-12-14T21:24:37.261912Z",
     "iopub.status.busy": "2020-12-14T21:24:37.261542Z",
     "iopub.status.idle": "2020-12-14T21:24:37.277032Z",
     "shell.execute_reply": "2020-12-14T21:24:37.276686Z"
    },
    "papermill": {
     "duration": 0.059722,
     "end_time": "2020-12-14T21:24:37.277125",
     "exception": false,
     "start_time": "2020-12-14T21:24:37.217403",
     "status": "completed"
    },
    "tags": []
   },
   "outputs": [
    {
     "data": {
      "text/html": [
       "<div>\n",
       "<style scoped>\n",
       "    .dataframe tbody tr th:only-of-type {\n",
       "        vertical-align: middle;\n",
       "    }\n",
       "\n",
       "    .dataframe tbody tr th {\n",
       "        vertical-align: top;\n",
       "    }\n",
       "\n",
       "    .dataframe thead th {\n",
       "        text-align: right;\n",
       "    }\n",
       "</style>\n",
       "<table border=\"1\" class=\"dataframe\">\n",
       "  <thead>\n",
       "    <tr style=\"text-align: right;\">\n",
       "      <th></th>\n",
       "      <th>ukb_code</th>\n",
       "      <th>term_label</th>\n",
       "      <th>term_codes</th>\n",
       "      <th>mapping_type</th>\n",
       "      <th>ukb_fullcode</th>\n",
       "      <th>current_term_label</th>\n",
       "      <th>category</th>\n",
       "    </tr>\n",
       "  </thead>\n",
       "  <tbody>\n",
       "    <tr>\n",
       "      <th>1311</th>\n",
       "      <td>T79</td>\n",
       "      <td>complication</td>\n",
       "      <td>EFO:0009888</td>\n",
       "      <td>Broad</td>\n",
       "      <td>T79-Diagnoses_main_ICD10_T79_Certain_early_com...</td>\n",
       "      <td>trauma complication</td>\n",
       "      <td>disease</td>\n",
       "    </tr>\n",
       "    <tr>\n",
       "      <th>1329</th>\n",
       "      <td>T79</td>\n",
       "      <td>complication</td>\n",
       "      <td>EFO:0009518</td>\n",
       "      <td>Broad</td>\n",
       "      <td>T79-Diagnoses_main_ICD10_T79_Certain_early_com...</td>\n",
       "      <td>complication</td>\n",
       "      <td>disease</td>\n",
       "    </tr>\n",
       "    <tr>\n",
       "      <th>1441</th>\n",
       "      <td>M48</td>\n",
       "      <td>-</td>\n",
       "      <td>EFO:0004260</td>\n",
       "      <td>Broad</td>\n",
       "      <td>M48-Diagnoses_main_ICD10_M48_Other_spondylopat...</td>\n",
       "      <td>bone disease</td>\n",
       "      <td>disease</td>\n",
       "    </tr>\n",
       "    <tr>\n",
       "      <th>1442</th>\n",
       "      <td>M53</td>\n",
       "      <td>-</td>\n",
       "      <td>EFO:0009676</td>\n",
       "      <td>Broad</td>\n",
       "      <td>M53-Diagnoses_main_ICD10_M53_Other_dorsopathie...</td>\n",
       "      <td>musculoskeletal system disease</td>\n",
       "      <td>disease</td>\n",
       "    </tr>\n",
       "    <tr>\n",
       "      <th>1443</th>\n",
       "      <td>M48</td>\n",
       "      <td>spondyloarthropathy</td>\n",
       "      <td>EFO:0004260</td>\n",
       "      <td>Broad</td>\n",
       "      <td>M48-Diagnoses_main_ICD10_M48_Other_spondylopat...</td>\n",
       "      <td>bone disease</td>\n",
       "      <td>disease</td>\n",
       "    </tr>\n",
       "    <tr>\n",
       "      <th>1445</th>\n",
       "      <td>M53</td>\n",
       "      <td>back pain</td>\n",
       "      <td>EFO:0009676</td>\n",
       "      <td>Broad</td>\n",
       "      <td>M53-Diagnoses_main_ICD10_M53_Other_dorsopathie...</td>\n",
       "      <td>musculoskeletal system disease</td>\n",
       "      <td>disease</td>\n",
       "    </tr>\n",
       "  </tbody>\n",
       "</table>\n",
       "</div>"
      ],
      "text/plain": [
       "     ukb_code           term_label   term_codes mapping_type  \\\n",
       "1311      T79         complication  EFO:0009888        Broad   \n",
       "1329      T79         complication  EFO:0009518        Broad   \n",
       "1441      M48                    -  EFO:0004260        Broad   \n",
       "1442      M53                    -  EFO:0009676        Broad   \n",
       "1443      M48  spondyloarthropathy  EFO:0004260        Broad   \n",
       "1445      M53            back pain  EFO:0009676        Broad   \n",
       "\n",
       "                                           ukb_fullcode  \\\n",
       "1311  T79-Diagnoses_main_ICD10_T79_Certain_early_com...   \n",
       "1329  T79-Diagnoses_main_ICD10_T79_Certain_early_com...   \n",
       "1441  M48-Diagnoses_main_ICD10_M48_Other_spondylopat...   \n",
       "1442  M53-Diagnoses_main_ICD10_M53_Other_dorsopathie...   \n",
       "1443  M48-Diagnoses_main_ICD10_M48_Other_spondylopat...   \n",
       "1445  M53-Diagnoses_main_ICD10_M53_Other_dorsopathie...   \n",
       "\n",
       "                  current_term_label category  \n",
       "1311             trauma complication  disease  \n",
       "1329                    complication  disease  \n",
       "1441                    bone disease  disease  \n",
       "1442  musculoskeletal system disease  disease  \n",
       "1443                    bone disease  disease  \n",
       "1445  musculoskeletal system disease  disease  "
      ]
     },
     "execution_count": 76,
     "metadata": {},
     "output_type": "execute_result"
    }
   ],
   "source": [
    "ukb_to_efo[ukb_to_efo[\"ukb_fullcode\"].duplicated(False)]"
   ]
  },
  {
   "cell_type": "code",
   "execution_count": 77,
   "metadata": {
    "execution": {
     "iopub.execute_input": "2020-12-14T21:24:37.362948Z",
     "iopub.status.busy": "2020-12-14T21:24:37.362560Z",
     "iopub.status.idle": "2020-12-14T21:24:37.373483Z",
     "shell.execute_reply": "2020-12-14T21:24:37.373098Z"
    },
    "papermill": {
     "duration": 0.055363,
     "end_time": "2020-12-14T21:24:37.373572",
     "exception": false,
     "start_time": "2020-12-14T21:24:37.318209",
     "status": "completed"
    },
    "tags": []
   },
   "outputs": [
    {
     "data": {
      "text/plain": [
       "['T79-Diagnoses_main_ICD10_T79_Certain_early_complications_of_trauma_not_elsewhere_classified',\n",
       " 'T79-Diagnoses_main_ICD10_T79_Certain_early_complications_of_trauma_not_elsewhere_classified',\n",
       " 'M48-Diagnoses_main_ICD10_M48_Other_spondylopathies',\n",
       " 'M53-Diagnoses_main_ICD10_M53_Other_dorsopathies_not_elsewhere_classified',\n",
       " 'M48-Diagnoses_main_ICD10_M48_Other_spondylopathies',\n",
       " 'M53-Diagnoses_main_ICD10_M53_Other_dorsopathies_not_elsewhere_classified']"
      ]
     },
     "execution_count": 77,
     "metadata": {},
     "output_type": "execute_result"
    }
   ],
   "source": [
    "ukb_to_efo[ukb_to_efo[\"ukb_fullcode\"].duplicated(False)][\"ukb_fullcode\"].tolist()"
   ]
  },
  {
   "cell_type": "code",
   "execution_count": 78,
   "metadata": {
    "execution": {
     "iopub.execute_input": "2020-12-14T21:24:37.459490Z",
     "iopub.status.busy": "2020-12-14T21:24:37.459121Z",
     "iopub.status.idle": "2020-12-14T21:24:37.469339Z",
     "shell.execute_reply": "2020-12-14T21:24:37.468959Z"
    },
    "papermill": {
     "duration": 0.054069,
     "end_time": "2020-12-14T21:24:37.469428",
     "exception": false,
     "start_time": "2020-12-14T21:24:37.415359",
     "status": "completed"
    },
    "tags": []
   },
   "outputs": [],
   "source": [
    "# Fix duplicated ukb_fullcode entries with different current_term_labels\n",
    "idx = ukb_to_efo[\n",
    "    ukb_to_efo[\"ukb_fullcode\"]\n",
    "    == \"T79-Diagnoses_main_ICD10_T79_Certain_early_complications_of_trauma_not_elsewhere_classified\"\n",
    "].index\n",
    "ukb_to_efo.loc[idx, \"current_term_label\"] = \"complication\""
   ]
  },
  {
   "cell_type": "code",
   "execution_count": 79,
   "metadata": {
    "execution": {
     "iopub.execute_input": "2020-12-14T21:24:37.558732Z",
     "iopub.status.busy": "2020-12-14T21:24:37.558352Z",
     "iopub.status.idle": "2020-12-14T21:24:37.568904Z",
     "shell.execute_reply": "2020-12-14T21:24:37.568420Z"
    },
    "papermill": {
     "duration": 0.055716,
     "end_time": "2020-12-14T21:24:37.568994",
     "exception": false,
     "start_time": "2020-12-14T21:24:37.513278",
     "status": "completed"
    },
    "tags": []
   },
   "outputs": [],
   "source": [
    "assert ukb_to_efo[ukb_to_efo[\"mapping_type\"] == \"Exact\"][\"ukb_fullcode\"].is_unique"
   ]
  },
  {
   "cell_type": "code",
   "execution_count": 80,
   "metadata": {
    "execution": {
     "iopub.execute_input": "2020-12-14T21:24:37.654654Z",
     "iopub.status.busy": "2020-12-14T21:24:37.654292Z",
     "iopub.status.idle": "2020-12-14T21:24:37.669099Z",
     "shell.execute_reply": "2020-12-14T21:24:37.668660Z"
    },
    "papermill": {
     "duration": 0.058752,
     "end_time": "2020-12-14T21:24:37.669188",
     "exception": false,
     "start_time": "2020-12-14T21:24:37.610436",
     "status": "completed"
    },
    "tags": []
   },
   "outputs": [],
   "source": [
    "_tmp = (\n",
    "    ukb_to_efo.groupby([\"ukb_fullcode\", \"current_term_label\"])\n",
    "    .count()\n",
    "    .reset_index()[[\"ukb_fullcode\", \"current_term_label\"]]\n",
    ")\n",
    "assert not _tmp.duplicated().any()"
   ]
  },
  {
   "cell_type": "markdown",
   "metadata": {
    "papermill": {
     "duration": 0.041566,
     "end_time": "2020-12-14T21:24:37.752274",
     "exception": false,
     "start_time": "2020-12-14T21:24:37.710708",
     "status": "completed"
    },
    "tags": []
   },
   "source": [
    "# Save"
   ]
  },
  {
   "cell_type": "markdown",
   "metadata": {},
   "source": [
    "## In main data folder"
   ]
  },
  {
   "cell_type": "code",
   "execution_count": 81,
   "metadata": {
    "execution": {
     "iopub.execute_input": "2020-12-14T21:24:37.838155Z",
     "iopub.status.busy": "2020-12-14T21:24:37.837787Z",
     "iopub.status.idle": "2020-12-14T21:24:37.853229Z",
     "shell.execute_reply": "2020-12-14T21:24:37.852843Z"
    },
    "papermill": {
     "duration": 0.059995,
     "end_time": "2020-12-14T21:24:37.853320",
     "exception": false,
     "start_time": "2020-12-14T21:24:37.793325",
     "status": "completed"
    },
    "tags": []
   },
   "outputs": [
    {
     "data": {
      "text/plain": [
       "PosixPath('/home/miltondp/projects/labs/greenelab/phenoplier/base/data/phenomexcan/phenomexcan_traits_fullcode_to_efo.tsv')"
      ]
     },
     "metadata": {},
     "output_type": "display_data"
    }
   ],
   "source": [
    "outfile = conf.PHENOMEXCAN[\"TRAITS_FULLCODE_TO_EFO_MAP_FILE\"]\n",
    "display(outfile)\n",
    "\n",
    "ukb_to_efo.to_csv(outfile, sep=\"\\t\", index=False)"
   ]
  },
  {
   "cell_type": "markdown",
   "metadata": {},
   "source": [
    "## In libs/data folder"
   ]
  },
  {
   "cell_type": "markdown",
   "metadata": {},
   "source": [
    "Since this file (`outfile`) is used by the Trait class to return EFO codes/labels for PhenomeXcan traits, it is copied also to a source code folder and it is supposed to be versioned."
   ]
  },
  {
   "cell_type": "code",
   "execution_count": null,
   "metadata": {},
   "outputs": [],
   "source": [
    "display(Trait.UKB_TO_EFO_MAP_FILE)"
   ]
  },
  {
   "cell_type": "code",
   "execution_count": null,
   "metadata": {
    "papermill": {
     "duration": 0.041717,
     "end_time": "2020-12-14T21:24:37.936675",
     "exception": false,
     "start_time": "2020-12-14T21:24:37.894958",
     "status": "completed"
    },
    "tags": []
   },
   "outputs": [],
   "source": [
    "copyfile(\n",
    "    outfile,\n",
    "    Trait.UKB_TO_EFO_MAP_FILE,\n",
    ")"
   ]
  }
 ],
 "metadata": {
  "jupytext": {
   "formats": "ipynb,py//py:percent"
  },
  "kernelspec": {
   "display_name": "Python 3",
   "language": "python",
   "name": "python3"
  },
  "language_info": {
   "codemirror_mode": {
    "name": "ipython",
    "version": 3
   },
   "file_extension": ".py",
   "mimetype": "text/x-python",
   "name": "python",
   "nbconvert_exporter": "python",
   "pygments_lexer": "ipython3",
   "version": "3.8.6"
  },
  "papermill": {
   "default_parameters": {},
   "duration": 15.926966,
   "end_time": "2020-12-14T21:24:38.486703",
   "environment_variables": {},
   "exception": null,
   "input_path": "01_preprocessing/002-ukbcode_to_efo.ipynb",
   "output_path": "01_preprocessing/002-ukbcode_to_efo.run.ipynb",
   "parameters": {},
   "start_time": "2020-12-14T21:24:22.559737",
   "version": "2.2.2"
  }
 },
 "nbformat": 4,
 "nbformat_minor": 4
}
