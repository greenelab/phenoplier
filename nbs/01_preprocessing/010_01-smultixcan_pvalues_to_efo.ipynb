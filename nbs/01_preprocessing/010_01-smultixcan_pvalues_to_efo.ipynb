{
 "cells": [
  {
   "cell_type": "markdown",
   "metadata": {
    "papermill": {
     "duration": 0.049493,
     "end_time": "2021-03-18T03:09:45.151876",
     "exception": false,
     "start_time": "2021-03-18T03:09:45.102383",
     "status": "completed"
    },
    "tags": []
   },
   "source": [
    "# Description"
   ]
  },
  {
   "cell_type": "markdown",
   "metadata": {
    "papermill": {
     "duration": 0.023464,
     "end_time": "2021-03-18T03:09:45.198961",
     "exception": false,
     "start_time": "2021-03-18T03:09:45.175497",
     "status": "completed"
    },
    "tags": []
   },
   "source": [
    "It uses the PhenomeXcan traits to EFO mapping files to group traits that end up having the same EFO label. This only combines the S-MultiXcan results (p-values) by taking the minimum p-value across all traits with the same EFO label."
   ]
  },
  {
   "cell_type": "markdown",
   "metadata": {
    "papermill": {
     "duration": 0.023817,
     "end_time": "2021-03-18T03:09:45.246445",
     "exception": false,
     "start_time": "2021-03-18T03:09:45.222628",
     "status": "completed"
    },
    "tags": []
   },
   "source": [
    "# Modules loading"
   ]
  },
  {
   "cell_type": "code",
   "execution_count": 1,
   "metadata": {
    "execution": {
     "iopub.execute_input": "2021-03-18T03:09:45.299991Z",
     "iopub.status.busy": "2021-03-18T03:09:45.299617Z",
     "iopub.status.idle": "2021-03-18T03:09:45.307009Z",
     "shell.execute_reply": "2021-03-18T03:09:45.306578Z"
    },
    "papermill": {
     "duration": 0.036926,
     "end_time": "2021-03-18T03:09:45.307103",
     "exception": false,
     "start_time": "2021-03-18T03:09:45.270177",
     "status": "completed"
    },
    "tags": []
   },
   "outputs": [],
   "source": [
    "%load_ext autoreload\n",
    "%autoreload 2"
   ]
  },
  {
   "cell_type": "code",
   "execution_count": 2,
   "metadata": {
    "execution": {
     "iopub.execute_input": "2021-03-18T03:09:45.358878Z",
     "iopub.status.busy": "2021-03-18T03:09:45.358504Z",
     "iopub.status.idle": "2021-03-18T03:09:45.714168Z",
     "shell.execute_reply": "2021-03-18T03:09:45.714483Z"
    },
    "papermill": {
     "duration": 0.3824,
     "end_time": "2021-03-18T03:09:45.714602",
     "exception": false,
     "start_time": "2021-03-18T03:09:45.332202",
     "status": "completed"
    },
    "tags": []
   },
   "outputs": [],
   "source": [
    "from IPython.display import display\n",
    "import numpy as np\n",
    "import pandas as pd\n",
    "\n",
    "import conf\n",
    "from data.cache import read_data\n",
    "from entity import Trait"
   ]
  },
  {
   "cell_type": "markdown",
   "metadata": {
    "papermill": {
     "duration": 0.023792,
     "end_time": "2021-03-18T03:09:45.764392",
     "exception": false,
     "start_time": "2021-03-18T03:09:45.740600",
     "status": "completed"
    },
    "tags": []
   },
   "source": [
    "# Load S-MultiXcan"
   ]
  },
  {
   "cell_type": "markdown",
   "metadata": {
    "papermill": {
     "duration": 0.02349,
     "end_time": "2021-03-18T03:09:45.811486",
     "exception": false,
     "start_time": "2021-03-18T03:09:45.787996",
     "status": "completed"
    },
    "tags": []
   },
   "source": [
    "## z-scores (EFO-mapped)"
   ]
  },
  {
   "cell_type": "code",
   "execution_count": 3,
   "metadata": {
    "execution": {
     "iopub.execute_input": "2021-03-18T03:09:45.860984Z",
     "iopub.status.busy": "2021-03-18T03:09:45.860567Z",
     "iopub.status.idle": "2021-03-18T03:09:46.128849Z",
     "shell.execute_reply": "2021-03-18T03:09:46.128468Z"
    },
    "papermill": {
     "duration": 0.294142,
     "end_time": "2021-03-18T03:09:46.128954",
     "exception": false,
     "start_time": "2021-03-18T03:09:45.834812",
     "status": "completed"
    },
    "tags": []
   },
   "outputs": [],
   "source": [
    "smultixcan_zscores_combined = read_data(\n",
    "    conf.PHENOMEXCAN[\"SMULTIXCAN_EFO_PARTIAL_MASHR_ZSCORES_FILE\"]\n",
    ")"
   ]
  },
  {
   "cell_type": "code",
   "execution_count": 4,
   "metadata": {
    "execution": {
     "iopub.execute_input": "2021-03-18T03:09:46.183093Z",
     "iopub.status.busy": "2021-03-18T03:09:46.182731Z",
     "iopub.status.idle": "2021-03-18T03:09:46.194450Z",
     "shell.execute_reply": "2021-03-18T03:09:46.194075Z"
    },
    "papermill": {
     "duration": 0.038193,
     "end_time": "2021-03-18T03:09:46.194537",
     "exception": false,
     "start_time": "2021-03-18T03:09:46.156344",
     "status": "completed"
    },
    "tags": []
   },
   "outputs": [
    {
     "data": {
      "text/plain": [
       "(22515, 3752)"
      ]
     },
     "execution_count": 4,
     "metadata": {},
     "output_type": "execute_result"
    }
   ],
   "source": [
    "smultixcan_zscores_combined.shape"
   ]
  },
  {
   "cell_type": "code",
   "execution_count": 5,
   "metadata": {
    "execution": {
     "iopub.execute_input": "2021-03-18T03:09:46.245474Z",
     "iopub.status.busy": "2021-03-18T03:09:46.245097Z",
     "iopub.status.idle": "2021-03-18T03:09:46.265876Z",
     "shell.execute_reply": "2021-03-18T03:09:46.265499Z"
    },
    "papermill": {
     "duration": 0.047029,
     "end_time": "2021-03-18T03:09:46.265975",
     "exception": false,
     "start_time": "2021-03-18T03:09:46.218946",
     "status": "completed"
    },
    "tags": []
   },
   "outputs": [
    {
     "data": {
      "text/html": [
       "<div>\n",
       "<style scoped>\n",
       "    .dataframe tbody tr th:only-of-type {\n",
       "        vertical-align: middle;\n",
       "    }\n",
       "\n",
       "    .dataframe tbody tr th {\n",
       "        vertical-align: top;\n",
       "    }\n",
       "\n",
       "    .dataframe thead th {\n",
       "        text-align: right;\n",
       "    }\n",
       "</style>\n",
       "<table border=\"1\" class=\"dataframe\">\n",
       "  <thead>\n",
       "    <tr style=\"text-align: right;\">\n",
       "      <th></th>\n",
       "      <th>100001_raw-Food_weight</th>\n",
       "      <th>100002_raw-Energy</th>\n",
       "      <th>100003_raw-Protein</th>\n",
       "      <th>100004_raw-Fat</th>\n",
       "      <th>100005_raw-Carbohydrate</th>\n",
       "      <th>100006_raw-Saturated_fat</th>\n",
       "      <th>100007_raw-Polyunsaturated_fat</th>\n",
       "      <th>100008_raw-Total_sugars</th>\n",
       "      <th>100009_raw-Englyst_dietary_fibre</th>\n",
       "      <th>100010-Portion_size</th>\n",
       "      <th>...</th>\n",
       "      <th>visual impairment</th>\n",
       "      <th>vitiligo</th>\n",
       "      <th>vitreous body disease</th>\n",
       "      <th>vocal cord polyp</th>\n",
       "      <th>voice disorders</th>\n",
       "      <th>wellbeing measurement AND family relationship</th>\n",
       "      <th>wheezing</th>\n",
       "      <th>whooping cough</th>\n",
       "      <th>worry measurement</th>\n",
       "      <th>wrist fracture</th>\n",
       "    </tr>\n",
       "    <tr>\n",
       "      <th>gene_name</th>\n",
       "      <th></th>\n",
       "      <th></th>\n",
       "      <th></th>\n",
       "      <th></th>\n",
       "      <th></th>\n",
       "      <th></th>\n",
       "      <th></th>\n",
       "      <th></th>\n",
       "      <th></th>\n",
       "      <th></th>\n",
       "      <th></th>\n",
       "      <th></th>\n",
       "      <th></th>\n",
       "      <th></th>\n",
       "      <th></th>\n",
       "      <th></th>\n",
       "      <th></th>\n",
       "      <th></th>\n",
       "      <th></th>\n",
       "      <th></th>\n",
       "      <th></th>\n",
       "    </tr>\n",
       "  </thead>\n",
       "  <tbody>\n",
       "    <tr>\n",
       "      <th>ENSG00000000419</th>\n",
       "      <td>1.145442</td>\n",
       "      <td>0.724557</td>\n",
       "      <td>0.090876</td>\n",
       "      <td>0.298165</td>\n",
       "      <td>1.134347</td>\n",
       "      <td>1.371138</td>\n",
       "      <td>0.065718</td>\n",
       "      <td>0.794317</td>\n",
       "      <td>0.600342</td>\n",
       "      <td>0.317652</td>\n",
       "      <td>...</td>\n",
       "      <td>0.360518</td>\n",
       "      <td>1.351624</td>\n",
       "      <td>1.157695</td>\n",
       "      <td>0.835289</td>\n",
       "      <td>1.173072</td>\n",
       "      <td>1.337280</td>\n",
       "      <td>1.743822</td>\n",
       "      <td>1.017226</td>\n",
       "      <td>1.512184</td>\n",
       "      <td>0.972241</td>\n",
       "    </tr>\n",
       "    <tr>\n",
       "      <th>ENSG00000000457</th>\n",
       "      <td>0.618066</td>\n",
       "      <td>1.028131</td>\n",
       "      <td>2.218420</td>\n",
       "      <td>0.762584</td>\n",
       "      <td>0.934418</td>\n",
       "      <td>0.192993</td>\n",
       "      <td>1.080230</td>\n",
       "      <td>0.765997</td>\n",
       "      <td>0.375898</td>\n",
       "      <td>0.678731</td>\n",
       "      <td>...</td>\n",
       "      <td>2.134504</td>\n",
       "      <td>0.127830</td>\n",
       "      <td>0.534690</td>\n",
       "      <td>0.120516</td>\n",
       "      <td>0.517464</td>\n",
       "      <td>2.545363</td>\n",
       "      <td>0.673331</td>\n",
       "      <td>2.003092</td>\n",
       "      <td>0.344000</td>\n",
       "      <td>2.033122</td>\n",
       "    </tr>\n",
       "    <tr>\n",
       "      <th>ENSG00000000460</th>\n",
       "      <td>0.515724</td>\n",
       "      <td>0.403596</td>\n",
       "      <td>1.251359</td>\n",
       "      <td>0.433091</td>\n",
       "      <td>0.413466</td>\n",
       "      <td>0.246261</td>\n",
       "      <td>1.236151</td>\n",
       "      <td>0.827430</td>\n",
       "      <td>0.571985</td>\n",
       "      <td>0.782174</td>\n",
       "      <td>...</td>\n",
       "      <td>1.768905</td>\n",
       "      <td>0.992408</td>\n",
       "      <td>0.548215</td>\n",
       "      <td>0.412341</td>\n",
       "      <td>1.499415</td>\n",
       "      <td>1.366780</td>\n",
       "      <td>0.443318</td>\n",
       "      <td>0.417630</td>\n",
       "      <td>0.225934</td>\n",
       "      <td>1.613246</td>\n",
       "    </tr>\n",
       "    <tr>\n",
       "      <th>ENSG00000000938</th>\n",
       "      <td>0.280781</td>\n",
       "      <td>0.253910</td>\n",
       "      <td>0.879148</td>\n",
       "      <td>0.352705</td>\n",
       "      <td>0.051846</td>\n",
       "      <td>0.184212</td>\n",
       "      <td>0.148566</td>\n",
       "      <td>0.009989</td>\n",
       "      <td>0.363751</td>\n",
       "      <td>0.374514</td>\n",
       "      <td>...</td>\n",
       "      <td>0.656552</td>\n",
       "      <td>2.046041</td>\n",
       "      <td>2.746832</td>\n",
       "      <td>0.108211</td>\n",
       "      <td>1.008258</td>\n",
       "      <td>0.755695</td>\n",
       "      <td>0.896228</td>\n",
       "      <td>0.875047</td>\n",
       "      <td>0.476405</td>\n",
       "      <td>1.693057</td>\n",
       "    </tr>\n",
       "    <tr>\n",
       "      <th>ENSG00000000971</th>\n",
       "      <td>0.548127</td>\n",
       "      <td>0.389877</td>\n",
       "      <td>0.723469</td>\n",
       "      <td>1.167250</td>\n",
       "      <td>0.315952</td>\n",
       "      <td>0.324939</td>\n",
       "      <td>1.613932</td>\n",
       "      <td>0.311432</td>\n",
       "      <td>0.333548</td>\n",
       "      <td>1.807243</td>\n",
       "      <td>...</td>\n",
       "      <td>0.260482</td>\n",
       "      <td>0.646204</td>\n",
       "      <td>1.080240</td>\n",
       "      <td>0.678330</td>\n",
       "      <td>1.465358</td>\n",
       "      <td>0.307672</td>\n",
       "      <td>0.118376</td>\n",
       "      <td>1.419812</td>\n",
       "      <td>0.000002</td>\n",
       "      <td>1.040737</td>\n",
       "    </tr>\n",
       "  </tbody>\n",
       "</table>\n",
       "<p>5 rows × 3752 columns</p>\n",
       "</div>"
      ],
      "text/plain": [
       "                 100001_raw-Food_weight  100002_raw-Energy  \\\n",
       "gene_name                                                    \n",
       "ENSG00000000419                1.145442           0.724557   \n",
       "ENSG00000000457                0.618066           1.028131   \n",
       "ENSG00000000460                0.515724           0.403596   \n",
       "ENSG00000000938                0.280781           0.253910   \n",
       "ENSG00000000971                0.548127           0.389877   \n",
       "\n",
       "                 100003_raw-Protein  100004_raw-Fat  100005_raw-Carbohydrate  \\\n",
       "gene_name                                                                      \n",
       "ENSG00000000419            0.090876        0.298165                 1.134347   \n",
       "ENSG00000000457            2.218420        0.762584                 0.934418   \n",
       "ENSG00000000460            1.251359        0.433091                 0.413466   \n",
       "ENSG00000000938            0.879148        0.352705                 0.051846   \n",
       "ENSG00000000971            0.723469        1.167250                 0.315952   \n",
       "\n",
       "                 100006_raw-Saturated_fat  100007_raw-Polyunsaturated_fat  \\\n",
       "gene_name                                                                   \n",
       "ENSG00000000419                  1.371138                        0.065718   \n",
       "ENSG00000000457                  0.192993                        1.080230   \n",
       "ENSG00000000460                  0.246261                        1.236151   \n",
       "ENSG00000000938                  0.184212                        0.148566   \n",
       "ENSG00000000971                  0.324939                        1.613932   \n",
       "\n",
       "                 100008_raw-Total_sugars  100009_raw-Englyst_dietary_fibre  \\\n",
       "gene_name                                                                    \n",
       "ENSG00000000419                 0.794317                          0.600342   \n",
       "ENSG00000000457                 0.765997                          0.375898   \n",
       "ENSG00000000460                 0.827430                          0.571985   \n",
       "ENSG00000000938                 0.009989                          0.363751   \n",
       "ENSG00000000971                 0.311432                          0.333548   \n",
       "\n",
       "                 100010-Portion_size  ...  visual impairment  vitiligo  \\\n",
       "gene_name                             ...                                \n",
       "ENSG00000000419             0.317652  ...           0.360518  1.351624   \n",
       "ENSG00000000457             0.678731  ...           2.134504  0.127830   \n",
       "ENSG00000000460             0.782174  ...           1.768905  0.992408   \n",
       "ENSG00000000938             0.374514  ...           0.656552  2.046041   \n",
       "ENSG00000000971             1.807243  ...           0.260482  0.646204   \n",
       "\n",
       "                 vitreous body disease  vocal cord polyp  voice disorders  \\\n",
       "gene_name                                                                   \n",
       "ENSG00000000419               1.157695          0.835289         1.173072   \n",
       "ENSG00000000457               0.534690          0.120516         0.517464   \n",
       "ENSG00000000460               0.548215          0.412341         1.499415   \n",
       "ENSG00000000938               2.746832          0.108211         1.008258   \n",
       "ENSG00000000971               1.080240          0.678330         1.465358   \n",
       "\n",
       "                 wellbeing measurement AND family relationship  wheezing  \\\n",
       "gene_name                                                                  \n",
       "ENSG00000000419                                       1.337280  1.743822   \n",
       "ENSG00000000457                                       2.545363  0.673331   \n",
       "ENSG00000000460                                       1.366780  0.443318   \n",
       "ENSG00000000938                                       0.755695  0.896228   \n",
       "ENSG00000000971                                       0.307672  0.118376   \n",
       "\n",
       "                 whooping cough  worry measurement  wrist fracture  \n",
       "gene_name                                                           \n",
       "ENSG00000000419        1.017226           1.512184        0.972241  \n",
       "ENSG00000000457        2.003092           0.344000        2.033122  \n",
       "ENSG00000000460        0.417630           0.225934        1.613246  \n",
       "ENSG00000000938        0.875047           0.476405        1.693057  \n",
       "ENSG00000000971        1.419812           0.000002        1.040737  \n",
       "\n",
       "[5 rows x 3752 columns]"
      ]
     },
     "execution_count": 5,
     "metadata": {},
     "output_type": "execute_result"
    }
   ],
   "source": [
    "smultixcan_zscores_combined.head()"
   ]
  },
  {
   "cell_type": "markdown",
   "metadata": {
    "papermill": {
     "duration": 0.024369,
     "end_time": "2021-03-18T03:09:46.316160",
     "exception": false,
     "start_time": "2021-03-18T03:09:46.291791",
     "status": "completed"
    },
    "tags": []
   },
   "source": [
    "## p-values (original)"
   ]
  },
  {
   "cell_type": "code",
   "execution_count": 6,
   "metadata": {
    "execution": {
     "iopub.execute_input": "2021-03-18T03:09:46.368269Z",
     "iopub.status.busy": "2021-03-18T03:09:46.367904Z",
     "iopub.status.idle": "2021-03-18T03:09:46.685302Z",
     "shell.execute_reply": "2021-03-18T03:09:46.684862Z"
    },
    "papermill": {
     "duration": 0.344089,
     "end_time": "2021-03-18T03:09:46.685407",
     "exception": false,
     "start_time": "2021-03-18T03:09:46.341318",
     "status": "completed"
    },
    "tags": []
   },
   "outputs": [],
   "source": [
    "smultixcan_pvalues = read_data(conf.PHENOMEXCAN[\"SMULTIXCAN_MASHR_PVALUES_FILE\"])"
   ]
  },
  {
   "cell_type": "code",
   "execution_count": 7,
   "metadata": {
    "execution": {
     "iopub.execute_input": "2021-03-18T03:09:46.741224Z",
     "iopub.status.busy": "2021-03-18T03:09:46.740832Z",
     "iopub.status.idle": "2021-03-18T03:09:46.748612Z",
     "shell.execute_reply": "2021-03-18T03:09:46.748236Z"
    },
    "papermill": {
     "duration": 0.034661,
     "end_time": "2021-03-18T03:09:46.748717",
     "exception": false,
     "start_time": "2021-03-18T03:09:46.714056",
     "status": "completed"
    },
    "tags": []
   },
   "outputs": [
    {
     "data": {
      "text/plain": [
       "(22515, 4091)"
      ]
     },
     "execution_count": 7,
     "metadata": {},
     "output_type": "execute_result"
    }
   ],
   "source": [
    "smultixcan_pvalues.shape"
   ]
  },
  {
   "cell_type": "code",
   "execution_count": 8,
   "metadata": {
    "execution": {
     "iopub.execute_input": "2021-03-18T03:09:46.800680Z",
     "iopub.status.busy": "2021-03-18T03:09:46.800325Z",
     "iopub.status.idle": "2021-03-18T03:09:46.820477Z",
     "shell.execute_reply": "2021-03-18T03:09:46.820101Z"
    },
    "papermill": {
     "duration": 0.04687,
     "end_time": "2021-03-18T03:09:46.820560",
     "exception": false,
     "start_time": "2021-03-18T03:09:46.773690",
     "status": "completed"
    },
    "tags": []
   },
   "outputs": [
    {
     "data": {
      "text/html": [
       "<div>\n",
       "<style scoped>\n",
       "    .dataframe tbody tr th:only-of-type {\n",
       "        vertical-align: middle;\n",
       "    }\n",
       "\n",
       "    .dataframe tbody tr th {\n",
       "        vertical-align: top;\n",
       "    }\n",
       "\n",
       "    .dataframe thead th {\n",
       "        text-align: right;\n",
       "    }\n",
       "</style>\n",
       "<table border=\"1\" class=\"dataframe\">\n",
       "  <thead>\n",
       "    <tr style=\"text-align: right;\">\n",
       "      <th></th>\n",
       "      <th>20096_1-Size_of_red_wine_glass_drunk_small_125ml</th>\n",
       "      <th>2345-Ever_had_bowel_cancer_screening</th>\n",
       "      <th>N49-Diagnoses_main_ICD10_N49_Inflammatory_disorders_of_male_genital_organs_not_elsewhere_classified</th>\n",
       "      <th>100011_raw-Iron</th>\n",
       "      <th>5221-Index_of_best_refractometry_result_right</th>\n",
       "      <th>20003_1141150624-Treatmentmedication_code_zomig_25mg_tablet</th>\n",
       "      <th>S69-Diagnoses_main_ICD10_S69_Other_and_unspecified_injuries_of_wrist_and_hand</th>\n",
       "      <th>20024_1136-Job_code_deduced_Information_and_communication_technology_managers</th>\n",
       "      <th>20002_1385-Noncancer_illness_code_selfreported_allergy_or_anaphylactic_reaction_to_food</th>\n",
       "      <th>G6_SLEEPAPNO-Sleep_apnoea</th>\n",
       "      <th>...</th>\n",
       "      <th>Astle_et_al_2016_Sum_basophil_neutrophil_counts</th>\n",
       "      <th>RA_OKADA_TRANS_ETHNIC</th>\n",
       "      <th>pgc.scz2</th>\n",
       "      <th>PGC_ADHD_EUR_2017</th>\n",
       "      <th>MAGIC_FastingGlucose</th>\n",
       "      <th>Astle_et_al_2016_Red_blood_cell_count</th>\n",
       "      <th>SSGAC_Depressive_Symptoms</th>\n",
       "      <th>BCAC_ER_positive_BreastCancer_EUR</th>\n",
       "      <th>IBD.EUR.Inflammatory_Bowel_Disease</th>\n",
       "      <th>Astle_et_al_2016_High_light_scatter_reticulocyte_count</th>\n",
       "    </tr>\n",
       "    <tr>\n",
       "      <th>gene_name</th>\n",
       "      <th></th>\n",
       "      <th></th>\n",
       "      <th></th>\n",
       "      <th></th>\n",
       "      <th></th>\n",
       "      <th></th>\n",
       "      <th></th>\n",
       "      <th></th>\n",
       "      <th></th>\n",
       "      <th></th>\n",
       "      <th></th>\n",
       "      <th></th>\n",
       "      <th></th>\n",
       "      <th></th>\n",
       "      <th></th>\n",
       "      <th></th>\n",
       "      <th></th>\n",
       "      <th></th>\n",
       "      <th></th>\n",
       "      <th></th>\n",
       "      <th></th>\n",
       "    </tr>\n",
       "  </thead>\n",
       "  <tbody>\n",
       "    <tr>\n",
       "      <th>ENSG00000000419</th>\n",
       "      <td>0.865429</td>\n",
       "      <td>0.918314</td>\n",
       "      <td>0.810683</td>\n",
       "      <td>0.374671</td>\n",
       "      <td>0.189032</td>\n",
       "      <td>0.140981</td>\n",
       "      <td>0.467741</td>\n",
       "      <td>0.129427</td>\n",
       "      <td>0.193680</td>\n",
       "      <td>0.285479</td>\n",
       "      <td>...</td>\n",
       "      <td>0.416210</td>\n",
       "      <td>0.782554</td>\n",
       "      <td>0.609467</td>\n",
       "      <td>0.980281</td>\n",
       "      <td>0.666504</td>\n",
       "      <td>0.409761</td>\n",
       "      <td>0.713310</td>\n",
       "      <td>0.168319</td>\n",
       "      <td>0.460244</td>\n",
       "      <td>0.765506</td>\n",
       "    </tr>\n",
       "    <tr>\n",
       "      <th>ENSG00000000457</th>\n",
       "      <td>0.174192</td>\n",
       "      <td>0.064765</td>\n",
       "      <td>0.889194</td>\n",
       "      <td>0.896938</td>\n",
       "      <td>0.448596</td>\n",
       "      <td>0.269602</td>\n",
       "      <td>0.540261</td>\n",
       "      <td>0.068405</td>\n",
       "      <td>0.041813</td>\n",
       "      <td>0.313427</td>\n",
       "      <td>...</td>\n",
       "      <td>0.149360</td>\n",
       "      <td>0.512603</td>\n",
       "      <td>0.010907</td>\n",
       "      <td>0.228982</td>\n",
       "      <td>0.607081</td>\n",
       "      <td>0.812484</td>\n",
       "      <td>0.678749</td>\n",
       "      <td>0.918971</td>\n",
       "      <td>0.311187</td>\n",
       "      <td>0.344574</td>\n",
       "    </tr>\n",
       "    <tr>\n",
       "      <th>ENSG00000000460</th>\n",
       "      <td>0.879969</td>\n",
       "      <td>0.240715</td>\n",
       "      <td>0.238228</td>\n",
       "      <td>0.567555</td>\n",
       "      <td>0.921320</td>\n",
       "      <td>0.825036</td>\n",
       "      <td>0.782230</td>\n",
       "      <td>0.644525</td>\n",
       "      <td>0.392273</td>\n",
       "      <td>0.840014</td>\n",
       "      <td>...</td>\n",
       "      <td>0.503520</td>\n",
       "      <td>0.764147</td>\n",
       "      <td>0.587969</td>\n",
       "      <td>0.301460</td>\n",
       "      <td>0.629621</td>\n",
       "      <td>0.486664</td>\n",
       "      <td>0.736509</td>\n",
       "      <td>0.933600</td>\n",
       "      <td>0.000477</td>\n",
       "      <td>0.321223</td>\n",
       "    </tr>\n",
       "    <tr>\n",
       "      <th>ENSG00000000938</th>\n",
       "      <td>0.192670</td>\n",
       "      <td>0.400054</td>\n",
       "      <td>0.114353</td>\n",
       "      <td>0.470700</td>\n",
       "      <td>0.889202</td>\n",
       "      <td>0.000011</td>\n",
       "      <td>0.899764</td>\n",
       "      <td>0.212352</td>\n",
       "      <td>0.829671</td>\n",
       "      <td>0.372348</td>\n",
       "      <td>...</td>\n",
       "      <td>0.899212</td>\n",
       "      <td>0.961678</td>\n",
       "      <td>0.059247</td>\n",
       "      <td>0.588855</td>\n",
       "      <td>0.898525</td>\n",
       "      <td>0.135045</td>\n",
       "      <td>0.954998</td>\n",
       "      <td>0.088220</td>\n",
       "      <td>0.176497</td>\n",
       "      <td>0.304281</td>\n",
       "    </tr>\n",
       "    <tr>\n",
       "      <th>ENSG00000000971</th>\n",
       "      <td>0.180632</td>\n",
       "      <td>0.793060</td>\n",
       "      <td>0.490585</td>\n",
       "      <td>0.088752</td>\n",
       "      <td>0.744531</td>\n",
       "      <td>0.949639</td>\n",
       "      <td>0.253817</td>\n",
       "      <td>0.377408</td>\n",
       "      <td>0.971655</td>\n",
       "      <td>0.070266</td>\n",
       "      <td>...</td>\n",
       "      <td>0.390618</td>\n",
       "      <td>0.093824</td>\n",
       "      <td>0.020391</td>\n",
       "      <td>0.109883</td>\n",
       "      <td>0.870551</td>\n",
       "      <td>0.995450</td>\n",
       "      <td>0.002660</td>\n",
       "      <td>0.421588</td>\n",
       "      <td>0.656851</td>\n",
       "      <td>0.868416</td>\n",
       "    </tr>\n",
       "  </tbody>\n",
       "</table>\n",
       "<p>5 rows × 4091 columns</p>\n",
       "</div>"
      ],
      "text/plain": [
       "                 20096_1-Size_of_red_wine_glass_drunk_small_125ml  \\\n",
       "gene_name                                                           \n",
       "ENSG00000000419                                          0.865429   \n",
       "ENSG00000000457                                          0.174192   \n",
       "ENSG00000000460                                          0.879969   \n",
       "ENSG00000000938                                          0.192670   \n",
       "ENSG00000000971                                          0.180632   \n",
       "\n",
       "                 2345-Ever_had_bowel_cancer_screening  \\\n",
       "gene_name                                               \n",
       "ENSG00000000419                              0.918314   \n",
       "ENSG00000000457                              0.064765   \n",
       "ENSG00000000460                              0.240715   \n",
       "ENSG00000000938                              0.400054   \n",
       "ENSG00000000971                              0.793060   \n",
       "\n",
       "                 N49-Diagnoses_main_ICD10_N49_Inflammatory_disorders_of_male_genital_organs_not_elsewhere_classified  \\\n",
       "gene_name                                                                                                              \n",
       "ENSG00000000419                                           0.810683                                                     \n",
       "ENSG00000000457                                           0.889194                                                     \n",
       "ENSG00000000460                                           0.238228                                                     \n",
       "ENSG00000000938                                           0.114353                                                     \n",
       "ENSG00000000971                                           0.490585                                                     \n",
       "\n",
       "                 100011_raw-Iron  \\\n",
       "gene_name                          \n",
       "ENSG00000000419         0.374671   \n",
       "ENSG00000000457         0.896938   \n",
       "ENSG00000000460         0.567555   \n",
       "ENSG00000000938         0.470700   \n",
       "ENSG00000000971         0.088752   \n",
       "\n",
       "                 5221-Index_of_best_refractometry_result_right  \\\n",
       "gene_name                                                        \n",
       "ENSG00000000419                                       0.189032   \n",
       "ENSG00000000457                                       0.448596   \n",
       "ENSG00000000460                                       0.921320   \n",
       "ENSG00000000938                                       0.889202   \n",
       "ENSG00000000971                                       0.744531   \n",
       "\n",
       "                 20003_1141150624-Treatmentmedication_code_zomig_25mg_tablet  \\\n",
       "gene_name                                                                      \n",
       "ENSG00000000419                                           0.140981             \n",
       "ENSG00000000457                                           0.269602             \n",
       "ENSG00000000460                                           0.825036             \n",
       "ENSG00000000938                                           0.000011             \n",
       "ENSG00000000971                                           0.949639             \n",
       "\n",
       "                 S69-Diagnoses_main_ICD10_S69_Other_and_unspecified_injuries_of_wrist_and_hand  \\\n",
       "gene_name                                                                                        \n",
       "ENSG00000000419                                           0.467741                               \n",
       "ENSG00000000457                                           0.540261                               \n",
       "ENSG00000000460                                           0.782230                               \n",
       "ENSG00000000938                                           0.899764                               \n",
       "ENSG00000000971                                           0.253817                               \n",
       "\n",
       "                 20024_1136-Job_code_deduced_Information_and_communication_technology_managers  \\\n",
       "gene_name                                                                                        \n",
       "ENSG00000000419                                           0.129427                               \n",
       "ENSG00000000457                                           0.068405                               \n",
       "ENSG00000000460                                           0.644525                               \n",
       "ENSG00000000938                                           0.212352                               \n",
       "ENSG00000000971                                           0.377408                               \n",
       "\n",
       "                 20002_1385-Noncancer_illness_code_selfreported_allergy_or_anaphylactic_reaction_to_food  \\\n",
       "gene_name                                                                                                  \n",
       "ENSG00000000419                                           0.193680                                         \n",
       "ENSG00000000457                                           0.041813                                         \n",
       "ENSG00000000460                                           0.392273                                         \n",
       "ENSG00000000938                                           0.829671                                         \n",
       "ENSG00000000971                                           0.971655                                         \n",
       "\n",
       "                 G6_SLEEPAPNO-Sleep_apnoea  ...  \\\n",
       "gene_name                                   ...   \n",
       "ENSG00000000419                   0.285479  ...   \n",
       "ENSG00000000457                   0.313427  ...   \n",
       "ENSG00000000460                   0.840014  ...   \n",
       "ENSG00000000938                   0.372348  ...   \n",
       "ENSG00000000971                   0.070266  ...   \n",
       "\n",
       "                 Astle_et_al_2016_Sum_basophil_neutrophil_counts  \\\n",
       "gene_name                                                          \n",
       "ENSG00000000419                                         0.416210   \n",
       "ENSG00000000457                                         0.149360   \n",
       "ENSG00000000460                                         0.503520   \n",
       "ENSG00000000938                                         0.899212   \n",
       "ENSG00000000971                                         0.390618   \n",
       "\n",
       "                 RA_OKADA_TRANS_ETHNIC  pgc.scz2  PGC_ADHD_EUR_2017  \\\n",
       "gene_name                                                             \n",
       "ENSG00000000419               0.782554  0.609467           0.980281   \n",
       "ENSG00000000457               0.512603  0.010907           0.228982   \n",
       "ENSG00000000460               0.764147  0.587969           0.301460   \n",
       "ENSG00000000938               0.961678  0.059247           0.588855   \n",
       "ENSG00000000971               0.093824  0.020391           0.109883   \n",
       "\n",
       "                 MAGIC_FastingGlucose  Astle_et_al_2016_Red_blood_cell_count  \\\n",
       "gene_name                                                                      \n",
       "ENSG00000000419              0.666504                               0.409761   \n",
       "ENSG00000000457              0.607081                               0.812484   \n",
       "ENSG00000000460              0.629621                               0.486664   \n",
       "ENSG00000000938              0.898525                               0.135045   \n",
       "ENSG00000000971              0.870551                               0.995450   \n",
       "\n",
       "                 SSGAC_Depressive_Symptoms  BCAC_ER_positive_BreastCancer_EUR  \\\n",
       "gene_name                                                                       \n",
       "ENSG00000000419                   0.713310                           0.168319   \n",
       "ENSG00000000457                   0.678749                           0.918971   \n",
       "ENSG00000000460                   0.736509                           0.933600   \n",
       "ENSG00000000938                   0.954998                           0.088220   \n",
       "ENSG00000000971                   0.002660                           0.421588   \n",
       "\n",
       "                 IBD.EUR.Inflammatory_Bowel_Disease  \\\n",
       "gene_name                                             \n",
       "ENSG00000000419                            0.460244   \n",
       "ENSG00000000457                            0.311187   \n",
       "ENSG00000000460                            0.000477   \n",
       "ENSG00000000938                            0.176497   \n",
       "ENSG00000000971                            0.656851   \n",
       "\n",
       "                 Astle_et_al_2016_High_light_scatter_reticulocyte_count  \n",
       "gene_name                                                                \n",
       "ENSG00000000419                                           0.765506       \n",
       "ENSG00000000457                                           0.344574       \n",
       "ENSG00000000460                                           0.321223       \n",
       "ENSG00000000938                                           0.304281       \n",
       "ENSG00000000971                                           0.868416       \n",
       "\n",
       "[5 rows x 4091 columns]"
      ]
     },
     "execution_count": 8,
     "metadata": {},
     "output_type": "execute_result"
    }
   ],
   "source": [
    "smultixcan_pvalues.head()"
   ]
  },
  {
   "cell_type": "markdown",
   "metadata": {
    "papermill": {
     "duration": 0.024747,
     "end_time": "2021-03-18T03:09:46.871703",
     "exception": false,
     "start_time": "2021-03-18T03:09:46.846956",
     "status": "completed"
    },
    "tags": []
   },
   "source": [
    "# Get PhenomeXcan traits"
   ]
  },
  {
   "cell_type": "code",
   "execution_count": 9,
   "metadata": {
    "execution": {
     "iopub.execute_input": "2021-03-18T03:09:46.924418Z",
     "iopub.status.busy": "2021-03-18T03:09:46.924052Z",
     "iopub.status.idle": "2021-03-18T03:09:47.466604Z",
     "shell.execute_reply": "2021-03-18T03:09:47.466208Z"
    },
    "papermill": {
     "duration": 0.56976,
     "end_time": "2021-03-18T03:09:47.466691",
     "exception": false,
     "start_time": "2021-03-18T03:09:46.896931",
     "status": "completed"
    },
    "tags": []
   },
   "outputs": [],
   "source": [
    "phenomexcan_fullcode_to_traits = {\n",
    "    (trait_obj := Trait.get_trait(full_code=trait_name)).full_code: trait_obj\n",
    "    for trait_name in smultixcan_pvalues.columns\n",
    "}"
   ]
  },
  {
   "cell_type": "code",
   "execution_count": 10,
   "metadata": {
    "execution": {
     "iopub.execute_input": "2021-03-18T03:09:47.520246Z",
     "iopub.status.busy": "2021-03-18T03:09:47.519876Z",
     "iopub.status.idle": "2021-03-18T03:09:47.527389Z",
     "shell.execute_reply": "2021-03-18T03:09:47.527670Z"
    },
    "papermill": {
     "duration": 0.03551,
     "end_time": "2021-03-18T03:09:47.527778",
     "exception": false,
     "start_time": "2021-03-18T03:09:47.492268",
     "status": "completed"
    },
    "tags": []
   },
   "outputs": [
    {
     "data": {
      "text/plain": [
       "4091"
      ]
     },
     "execution_count": 10,
     "metadata": {},
     "output_type": "execute_result"
    }
   ],
   "source": [
    "len(phenomexcan_fullcode_to_traits)"
   ]
  },
  {
   "cell_type": "code",
   "execution_count": 11,
   "metadata": {
    "execution": {
     "iopub.execute_input": "2021-03-18T03:09:47.582838Z",
     "iopub.status.busy": "2021-03-18T03:09:47.582478Z",
     "iopub.status.idle": "2021-03-18T03:09:47.589155Z",
     "shell.execute_reply": "2021-03-18T03:09:47.589462Z"
    },
    "papermill": {
     "duration": 0.035472,
     "end_time": "2021-03-18T03:09:47.589571",
     "exception": false,
     "start_time": "2021-03-18T03:09:47.554099",
     "status": "completed"
    },
    "tags": []
   },
   "outputs": [],
   "source": [
    "assert len(phenomexcan_fullcode_to_traits) == smultixcan_pvalues.columns.shape[0]"
   ]
  },
  {
   "cell_type": "markdown",
   "metadata": {
    "papermill": {
     "duration": 0.025122,
     "end_time": "2021-03-18T03:09:47.640302",
     "exception": false,
     "start_time": "2021-03-18T03:09:47.615180",
     "status": "completed"
    },
    "tags": []
   },
   "source": [
    "# Change/combine traits in S-MultiXcan results"
   ]
  },
  {
   "cell_type": "markdown",
   "metadata": {
    "papermill": {
     "duration": 0.024764,
     "end_time": "2021-03-18T03:09:47.690300",
     "exception": false,
     "start_time": "2021-03-18T03:09:47.665536",
     "status": "completed"
    },
    "tags": []
   },
   "source": [
    "## Get a list of EFO labels for PhenomeXcan traits"
   ]
  },
  {
   "cell_type": "code",
   "execution_count": 12,
   "metadata": {
    "execution": {
     "iopub.execute_input": "2021-03-18T03:09:47.743643Z",
     "iopub.status.busy": "2021-03-18T03:09:47.743279Z",
     "iopub.status.idle": "2021-03-18T03:09:47.969061Z",
     "shell.execute_reply": "2021-03-18T03:09:47.968670Z"
    },
    "papermill": {
     "duration": 0.2534,
     "end_time": "2021-03-18T03:09:47.969151",
     "exception": false,
     "start_time": "2021-03-18T03:09:47.715751",
     "status": "completed"
    },
    "tags": []
   },
   "outputs": [],
   "source": [
    "traits_efo_labels = [\n",
    "    t.get_efo_info().label\n",
    "    if (t := phenomexcan_fullcode_to_traits[c]).get_efo_info() is not None\n",
    "    else t.full_code\n",
    "    for c in smultixcan_pvalues.columns\n",
    "]"
   ]
  },
  {
   "cell_type": "code",
   "execution_count": 13,
   "metadata": {
    "execution": {
     "iopub.execute_input": "2021-03-18T03:09:48.024316Z",
     "iopub.status.busy": "2021-03-18T03:09:48.023946Z",
     "iopub.status.idle": "2021-03-18T03:09:48.032158Z",
     "shell.execute_reply": "2021-03-18T03:09:48.031785Z"
    },
    "papermill": {
     "duration": 0.036464,
     "end_time": "2021-03-18T03:09:48.032244",
     "exception": false,
     "start_time": "2021-03-18T03:09:47.995780",
     "status": "completed"
    },
    "tags": []
   },
   "outputs": [
    {
     "data": {
      "text/plain": [
       "4091"
      ]
     },
     "execution_count": 13,
     "metadata": {},
     "output_type": "execute_result"
    }
   ],
   "source": [
    "len(traits_efo_labels)"
   ]
  },
  {
   "cell_type": "code",
   "execution_count": 14,
   "metadata": {
    "execution": {
     "iopub.execute_input": "2021-03-18T03:09:48.086360Z",
     "iopub.status.busy": "2021-03-18T03:09:48.085988Z",
     "iopub.status.idle": "2021-03-18T03:09:48.094053Z",
     "shell.execute_reply": "2021-03-18T03:09:48.093679Z"
    },
    "papermill": {
     "duration": 0.036123,
     "end_time": "2021-03-18T03:09:48.094139",
     "exception": false,
     "start_time": "2021-03-18T03:09:48.058016",
     "status": "completed"
    },
    "tags": []
   },
   "outputs": [
    {
     "data": {
      "text/plain": [
       "['20096_1-Size_of_red_wine_glass_drunk_small_125ml',\n",
       " '2345-Ever_had_bowel_cancer_screening',\n",
       " 'male reproductive system disease',\n",
       " '100011_raw-Iron',\n",
       " '5221-Index_of_best_refractometry_result_right',\n",
       " '20003_1141150624-Treatmentmedication_code_zomig_25mg_tablet',\n",
       " 'injury',\n",
       " '20024_1136-Job_code_deduced_Information_and_communication_technology_managers',\n",
       " 'food allergy',\n",
       " 'G6_SLEEPAPNO-Sleep_apnoea']"
      ]
     },
     "execution_count": 14,
     "metadata": {},
     "output_type": "execute_result"
    }
   ],
   "source": [
    "traits_efo_labels[:10]"
   ]
  },
  {
   "cell_type": "markdown",
   "metadata": {
    "papermill": {
     "duration": 0.025582,
     "end_time": "2021-03-18T03:09:48.145797",
     "exception": false,
     "start_time": "2021-03-18T03:09:48.120215",
     "status": "completed"
    },
    "tags": []
   },
   "source": [
    "## Get `min(p-value)` for same EFO labels"
   ]
  },
  {
   "cell_type": "code",
   "execution_count": 15,
   "metadata": {
    "execution": {
     "iopub.execute_input": "2021-03-18T03:09:48.198758Z",
     "iopub.status.busy": "2021-03-18T03:09:48.198397Z",
     "iopub.status.idle": "2021-03-18T03:09:49.027759Z",
     "shell.execute_reply": "2021-03-18T03:09:49.028162Z"
    },
    "papermill": {
     "duration": 0.8572,
     "end_time": "2021-03-18T03:09:49.028299",
     "exception": false,
     "start_time": "2021-03-18T03:09:48.171099",
     "status": "completed"
    },
    "tags": []
   },
   "outputs": [],
   "source": [
    "smultixcan_pvalues_combined = smultixcan_pvalues.groupby(\n",
    "    traits_efo_labels, axis=1\n",
    ").min()"
   ]
  },
  {
   "cell_type": "code",
   "execution_count": 16,
   "metadata": {
    "execution": {
     "iopub.execute_input": "2021-03-18T03:09:49.088171Z",
     "iopub.status.busy": "2021-03-18T03:09:49.087795Z",
     "iopub.status.idle": "2021-03-18T03:09:49.095874Z",
     "shell.execute_reply": "2021-03-18T03:09:49.095509Z"
    },
    "papermill": {
     "duration": 0.036435,
     "end_time": "2021-03-18T03:09:49.095958",
     "exception": false,
     "start_time": "2021-03-18T03:09:49.059523",
     "status": "completed"
    },
    "tags": []
   },
   "outputs": [
    {
     "data": {
      "text/plain": [
       "(22515, 3752)"
      ]
     },
     "execution_count": 16,
     "metadata": {},
     "output_type": "execute_result"
    }
   ],
   "source": [
    "smultixcan_pvalues_combined.shape"
   ]
  },
  {
   "cell_type": "code",
   "execution_count": 17,
   "metadata": {
    "execution": {
     "iopub.execute_input": "2021-03-18T03:09:49.149619Z",
     "iopub.status.busy": "2021-03-18T03:09:49.149258Z",
     "iopub.status.idle": "2021-03-18T03:09:49.168949Z",
     "shell.execute_reply": "2021-03-18T03:09:49.168531Z"
    },
    "papermill": {
     "duration": 0.04723,
     "end_time": "2021-03-18T03:09:49.169036",
     "exception": false,
     "start_time": "2021-03-18T03:09:49.121806",
     "status": "completed"
    },
    "tags": []
   },
   "outputs": [
    {
     "data": {
      "text/html": [
       "<div>\n",
       "<style scoped>\n",
       "    .dataframe tbody tr th:only-of-type {\n",
       "        vertical-align: middle;\n",
       "    }\n",
       "\n",
       "    .dataframe tbody tr th {\n",
       "        vertical-align: top;\n",
       "    }\n",
       "\n",
       "    .dataframe thead th {\n",
       "        text-align: right;\n",
       "    }\n",
       "</style>\n",
       "<table border=\"1\" class=\"dataframe\">\n",
       "  <thead>\n",
       "    <tr style=\"text-align: right;\">\n",
       "      <th></th>\n",
       "      <th>100001_raw-Food_weight</th>\n",
       "      <th>100002_raw-Energy</th>\n",
       "      <th>100003_raw-Protein</th>\n",
       "      <th>100004_raw-Fat</th>\n",
       "      <th>100005_raw-Carbohydrate</th>\n",
       "      <th>100006_raw-Saturated_fat</th>\n",
       "      <th>100007_raw-Polyunsaturated_fat</th>\n",
       "      <th>100008_raw-Total_sugars</th>\n",
       "      <th>100009_raw-Englyst_dietary_fibre</th>\n",
       "      <th>100010-Portion_size</th>\n",
       "      <th>...</th>\n",
       "      <th>visual impairment</th>\n",
       "      <th>vitiligo</th>\n",
       "      <th>vitreous body disease</th>\n",
       "      <th>vocal cord polyp</th>\n",
       "      <th>voice disorders</th>\n",
       "      <th>wellbeing measurement AND family relationship</th>\n",
       "      <th>wheezing</th>\n",
       "      <th>whooping cough</th>\n",
       "      <th>worry measurement</th>\n",
       "      <th>wrist fracture</th>\n",
       "    </tr>\n",
       "    <tr>\n",
       "      <th>gene_name</th>\n",
       "      <th></th>\n",
       "      <th></th>\n",
       "      <th></th>\n",
       "      <th></th>\n",
       "      <th></th>\n",
       "      <th></th>\n",
       "      <th></th>\n",
       "      <th></th>\n",
       "      <th></th>\n",
       "      <th></th>\n",
       "      <th></th>\n",
       "      <th></th>\n",
       "      <th></th>\n",
       "      <th></th>\n",
       "      <th></th>\n",
       "      <th></th>\n",
       "      <th></th>\n",
       "      <th></th>\n",
       "      <th></th>\n",
       "      <th></th>\n",
       "      <th></th>\n",
       "    </tr>\n",
       "  </thead>\n",
       "  <tbody>\n",
       "    <tr>\n",
       "      <th>ENSG00000000419</th>\n",
       "      <td>0.252026</td>\n",
       "      <td>0.468724</td>\n",
       "      <td>0.927591</td>\n",
       "      <td>0.765578</td>\n",
       "      <td>0.256649</td>\n",
       "      <td>0.170332</td>\n",
       "      <td>0.947602</td>\n",
       "      <td>0.427011</td>\n",
       "      <td>0.548278</td>\n",
       "      <td>0.750749</td>\n",
       "      <td>...</td>\n",
       "      <td>0.718460</td>\n",
       "      <td>0.176496</td>\n",
       "      <td>0.246989</td>\n",
       "      <td>0.403555</td>\n",
       "      <td>0.240767</td>\n",
       "      <td>0.181131</td>\n",
       "      <td>0.081190</td>\n",
       "      <td>0.309046</td>\n",
       "      <td>0.130487</td>\n",
       "      <td>0.274762</td>\n",
       "    </tr>\n",
       "    <tr>\n",
       "      <th>ENSG00000000457</th>\n",
       "      <td>0.536532</td>\n",
       "      <td>0.303888</td>\n",
       "      <td>0.026526</td>\n",
       "      <td>0.445712</td>\n",
       "      <td>0.350088</td>\n",
       "      <td>0.846965</td>\n",
       "      <td>0.280040</td>\n",
       "      <td>0.443678</td>\n",
       "      <td>0.706993</td>\n",
       "      <td>0.497308</td>\n",
       "      <td>...</td>\n",
       "      <td>0.032802</td>\n",
       "      <td>0.898283</td>\n",
       "      <td>0.592864</td>\n",
       "      <td>0.904074</td>\n",
       "      <td>0.604832</td>\n",
       "      <td>0.010916</td>\n",
       "      <td>0.500737</td>\n",
       "      <td>0.045167</td>\n",
       "      <td>0.730846</td>\n",
       "      <td>0.107098</td>\n",
       "    </tr>\n",
       "    <tr>\n",
       "      <th>ENSG00000000460</th>\n",
       "      <td>0.606047</td>\n",
       "      <td>0.686510</td>\n",
       "      <td>0.210803</td>\n",
       "      <td>0.664948</td>\n",
       "      <td>0.679265</td>\n",
       "      <td>0.805480</td>\n",
       "      <td>0.216403</td>\n",
       "      <td>0.407993</td>\n",
       "      <td>0.567332</td>\n",
       "      <td>0.434112</td>\n",
       "      <td>...</td>\n",
       "      <td>0.076910</td>\n",
       "      <td>0.320999</td>\n",
       "      <td>0.583544</td>\n",
       "      <td>0.680090</td>\n",
       "      <td>0.133766</td>\n",
       "      <td>0.171694</td>\n",
       "      <td>0.657535</td>\n",
       "      <td>0.676218</td>\n",
       "      <td>0.821253</td>\n",
       "      <td>0.165486</td>\n",
       "    </tr>\n",
       "    <tr>\n",
       "      <th>ENSG00000000938</th>\n",
       "      <td>0.778878</td>\n",
       "      <td>0.799565</td>\n",
       "      <td>0.379321</td>\n",
       "      <td>0.724310</td>\n",
       "      <td>0.958652</td>\n",
       "      <td>0.853847</td>\n",
       "      <td>0.881896</td>\n",
       "      <td>0.992030</td>\n",
       "      <td>0.716044</td>\n",
       "      <td>0.708022</td>\n",
       "      <td>...</td>\n",
       "      <td>0.511469</td>\n",
       "      <td>0.040752</td>\n",
       "      <td>0.006017</td>\n",
       "      <td>0.913828</td>\n",
       "      <td>0.313331</td>\n",
       "      <td>0.449832</td>\n",
       "      <td>0.370131</td>\n",
       "      <td>0.381548</td>\n",
       "      <td>0.633786</td>\n",
       "      <td>0.091551</td>\n",
       "    </tr>\n",
       "    <tr>\n",
       "      <th>ENSG00000000971</th>\n",
       "      <td>0.583604</td>\n",
       "      <td>0.696627</td>\n",
       "      <td>0.469392</td>\n",
       "      <td>0.243110</td>\n",
       "      <td>0.752039</td>\n",
       "      <td>0.745227</td>\n",
       "      <td>0.106542</td>\n",
       "      <td>0.755472</td>\n",
       "      <td>0.738720</td>\n",
       "      <td>0.070724</td>\n",
       "      <td>...</td>\n",
       "      <td>0.794492</td>\n",
       "      <td>0.518148</td>\n",
       "      <td>0.280036</td>\n",
       "      <td>0.497563</td>\n",
       "      <td>0.142823</td>\n",
       "      <td>0.758332</td>\n",
       "      <td>0.905770</td>\n",
       "      <td>0.155662</td>\n",
       "      <td>0.999998</td>\n",
       "      <td>0.332345</td>\n",
       "    </tr>\n",
       "  </tbody>\n",
       "</table>\n",
       "<p>5 rows × 3752 columns</p>\n",
       "</div>"
      ],
      "text/plain": [
       "                 100001_raw-Food_weight  100002_raw-Energy  \\\n",
       "gene_name                                                    \n",
       "ENSG00000000419                0.252026           0.468724   \n",
       "ENSG00000000457                0.536532           0.303888   \n",
       "ENSG00000000460                0.606047           0.686510   \n",
       "ENSG00000000938                0.778878           0.799565   \n",
       "ENSG00000000971                0.583604           0.696627   \n",
       "\n",
       "                 100003_raw-Protein  100004_raw-Fat  100005_raw-Carbohydrate  \\\n",
       "gene_name                                                                      \n",
       "ENSG00000000419            0.927591        0.765578                 0.256649   \n",
       "ENSG00000000457            0.026526        0.445712                 0.350088   \n",
       "ENSG00000000460            0.210803        0.664948                 0.679265   \n",
       "ENSG00000000938            0.379321        0.724310                 0.958652   \n",
       "ENSG00000000971            0.469392        0.243110                 0.752039   \n",
       "\n",
       "                 100006_raw-Saturated_fat  100007_raw-Polyunsaturated_fat  \\\n",
       "gene_name                                                                   \n",
       "ENSG00000000419                  0.170332                        0.947602   \n",
       "ENSG00000000457                  0.846965                        0.280040   \n",
       "ENSG00000000460                  0.805480                        0.216403   \n",
       "ENSG00000000938                  0.853847                        0.881896   \n",
       "ENSG00000000971                  0.745227                        0.106542   \n",
       "\n",
       "                 100008_raw-Total_sugars  100009_raw-Englyst_dietary_fibre  \\\n",
       "gene_name                                                                    \n",
       "ENSG00000000419                 0.427011                          0.548278   \n",
       "ENSG00000000457                 0.443678                          0.706993   \n",
       "ENSG00000000460                 0.407993                          0.567332   \n",
       "ENSG00000000938                 0.992030                          0.716044   \n",
       "ENSG00000000971                 0.755472                          0.738720   \n",
       "\n",
       "                 100010-Portion_size  ...  visual impairment  vitiligo  \\\n",
       "gene_name                             ...                                \n",
       "ENSG00000000419             0.750749  ...           0.718460  0.176496   \n",
       "ENSG00000000457             0.497308  ...           0.032802  0.898283   \n",
       "ENSG00000000460             0.434112  ...           0.076910  0.320999   \n",
       "ENSG00000000938             0.708022  ...           0.511469  0.040752   \n",
       "ENSG00000000971             0.070724  ...           0.794492  0.518148   \n",
       "\n",
       "                 vitreous body disease  vocal cord polyp  voice disorders  \\\n",
       "gene_name                                                                   \n",
       "ENSG00000000419               0.246989          0.403555         0.240767   \n",
       "ENSG00000000457               0.592864          0.904074         0.604832   \n",
       "ENSG00000000460               0.583544          0.680090         0.133766   \n",
       "ENSG00000000938               0.006017          0.913828         0.313331   \n",
       "ENSG00000000971               0.280036          0.497563         0.142823   \n",
       "\n",
       "                 wellbeing measurement AND family relationship  wheezing  \\\n",
       "gene_name                                                                  \n",
       "ENSG00000000419                                       0.181131  0.081190   \n",
       "ENSG00000000457                                       0.010916  0.500737   \n",
       "ENSG00000000460                                       0.171694  0.657535   \n",
       "ENSG00000000938                                       0.449832  0.370131   \n",
       "ENSG00000000971                                       0.758332  0.905770   \n",
       "\n",
       "                 whooping cough  worry measurement  wrist fracture  \n",
       "gene_name                                                           \n",
       "ENSG00000000419        0.309046           0.130487        0.274762  \n",
       "ENSG00000000457        0.045167           0.730846        0.107098  \n",
       "ENSG00000000460        0.676218           0.821253        0.165486  \n",
       "ENSG00000000938        0.381548           0.633786        0.091551  \n",
       "ENSG00000000971        0.155662           0.999998        0.332345  \n",
       "\n",
       "[5 rows x 3752 columns]"
      ]
     },
     "execution_count": 17,
     "metadata": {},
     "output_type": "execute_result"
    }
   ],
   "source": [
    "smultixcan_pvalues_combined.head()"
   ]
  },
  {
   "cell_type": "markdown",
   "metadata": {
    "papermill": {
     "duration": 0.025887,
     "end_time": "2021-03-18T03:09:49.222100",
     "exception": false,
     "start_time": "2021-03-18T03:09:49.196213",
     "status": "completed"
    },
    "tags": []
   },
   "source": [
    "### Keep same order of genes and traits as in `z_scores` data"
   ]
  },
  {
   "cell_type": "code",
   "execution_count": 18,
   "metadata": {
    "execution": {
     "iopub.execute_input": "2021-03-18T03:09:49.276437Z",
     "iopub.status.busy": "2021-03-18T03:09:49.276071Z",
     "iopub.status.idle": "2021-03-18T03:09:49.290291Z",
     "shell.execute_reply": "2021-03-18T03:09:49.289913Z"
    },
    "papermill": {
     "duration": 0.042239,
     "end_time": "2021-03-18T03:09:49.290379",
     "exception": false,
     "start_time": "2021-03-18T03:09:49.248140",
     "status": "completed"
    },
    "tags": []
   },
   "outputs": [],
   "source": [
    "assert set(smultixcan_pvalues_combined.index) == set(smultixcan_zscores_combined.index)"
   ]
  },
  {
   "cell_type": "code",
   "execution_count": 19,
   "metadata": {
    "execution": {
     "iopub.execute_input": "2021-03-18T03:09:49.346995Z",
     "iopub.status.busy": "2021-03-18T03:09:49.346625Z",
     "iopub.status.idle": "2021-03-18T03:09:49.354728Z",
     "shell.execute_reply": "2021-03-18T03:09:49.354359Z"
    },
    "papermill": {
     "duration": 0.037049,
     "end_time": "2021-03-18T03:09:49.354812",
     "exception": false,
     "start_time": "2021-03-18T03:09:49.317763",
     "status": "completed"
    },
    "tags": []
   },
   "outputs": [],
   "source": [
    "assert set(smultixcan_pvalues_combined.columns) == set(\n",
    "    smultixcan_zscores_combined.columns\n",
    ")"
   ]
  },
  {
   "cell_type": "code",
   "execution_count": 20,
   "metadata": {
    "execution": {
     "iopub.execute_input": "2021-03-18T03:09:49.409923Z",
     "iopub.status.busy": "2021-03-18T03:09:49.409564Z",
     "iopub.status.idle": "2021-03-18T03:09:49.730284Z",
     "shell.execute_reply": "2021-03-18T03:09:49.729964Z"
    },
    "papermill": {
     "duration": 0.348997,
     "end_time": "2021-03-18T03:09:49.730375",
     "exception": false,
     "start_time": "2021-03-18T03:09:49.381378",
     "status": "completed"
    },
    "tags": []
   },
   "outputs": [],
   "source": [
    "smultixcan_pvalues_combined = smultixcan_pvalues_combined.loc[\n",
    "    smultixcan_zscores_combined.index, smultixcan_zscores_combined.columns\n",
    "]"
   ]
  },
  {
   "cell_type": "code",
   "execution_count": 21,
   "metadata": {
    "execution": {
     "iopub.execute_input": "2021-03-18T03:09:49.785555Z",
     "iopub.status.busy": "2021-03-18T03:09:49.785195Z",
     "iopub.status.idle": "2021-03-18T03:09:49.793083Z",
     "shell.execute_reply": "2021-03-18T03:09:49.792684Z"
    },
    "papermill": {
     "duration": 0.036078,
     "end_time": "2021-03-18T03:09:49.793169",
     "exception": false,
     "start_time": "2021-03-18T03:09:49.757091",
     "status": "completed"
    },
    "tags": []
   },
   "outputs": [
    {
     "data": {
      "text/plain": [
       "(22515, 3752)"
      ]
     },
     "execution_count": 21,
     "metadata": {},
     "output_type": "execute_result"
    }
   ],
   "source": [
    "smultixcan_pvalues_combined.shape"
   ]
  },
  {
   "cell_type": "markdown",
   "metadata": {
    "papermill": {
     "duration": 0.026114,
     "end_time": "2021-03-18T03:09:49.845924",
     "exception": false,
     "start_time": "2021-03-18T03:09:49.819810",
     "status": "completed"
    },
    "tags": []
   },
   "source": [
    "### Do we have NaN values?"
   ]
  },
  {
   "cell_type": "code",
   "execution_count": 22,
   "metadata": {
    "execution": {
     "iopub.execute_input": "2021-03-18T03:09:49.900660Z",
     "iopub.status.busy": "2021-03-18T03:09:49.900300Z",
     "iopub.status.idle": "2021-03-18T03:09:49.967261Z",
     "shell.execute_reply": "2021-03-18T03:09:49.967613Z"
    },
    "papermill": {
     "duration": 0.095761,
     "end_time": "2021-03-18T03:09:49.967744",
     "exception": false,
     "start_time": "2021-03-18T03:09:49.871983",
     "status": "completed"
    },
    "tags": []
   },
   "outputs": [
    {
     "data": {
      "text/plain": [
       "True"
      ]
     },
     "execution_count": 22,
     "metadata": {},
     "output_type": "execute_result"
    }
   ],
   "source": [
    "smultixcan_pvalues_combined.isna().any().any()"
   ]
  },
  {
   "cell_type": "code",
   "execution_count": 23,
   "metadata": {
    "execution": {
     "iopub.execute_input": "2021-03-18T03:09:50.030854Z",
     "iopub.status.busy": "2021-03-18T03:09:50.030494Z",
     "iopub.status.idle": "2021-03-18T03:09:50.194662Z",
     "shell.execute_reply": "2021-03-18T03:09:50.194298Z"
    },
    "papermill": {
     "duration": 0.194225,
     "end_time": "2021-03-18T03:09:50.194748",
     "exception": false,
     "start_time": "2021-03-18T03:09:50.000523",
     "status": "completed"
    },
    "tags": []
   },
   "outputs": [
    {
     "data": {
      "text/plain": [
       "100001_raw-Food_weight                           260\n",
       "100002_raw-Energy                                260\n",
       "100003_raw-Protein                               260\n",
       "100004_raw-Fat                                   260\n",
       "100005_raw-Carbohydrate                          260\n",
       "                                                ... \n",
       "wellbeing measurement AND family relationship    260\n",
       "wheezing                                         260\n",
       "whooping cough                                   260\n",
       "worry measurement                                260\n",
       "wrist fracture                                   260\n",
       "Length: 3752, dtype: int64"
      ]
     },
     "execution_count": 23,
     "metadata": {},
     "output_type": "execute_result"
    }
   ],
   "source": [
    "smultixcan_pvalues_combined.isna().sum()"
   ]
  },
  {
   "cell_type": "code",
   "execution_count": 24,
   "metadata": {
    "execution": {
     "iopub.execute_input": "2021-03-18T03:09:50.250388Z",
     "iopub.status.busy": "2021-03-18T03:09:50.250028Z",
     "iopub.status.idle": "2021-03-18T03:09:50.583934Z",
     "shell.execute_reply": "2021-03-18T03:09:50.583555Z"
    },
    "papermill": {
     "duration": 0.362389,
     "end_time": "2021-03-18T03:09:50.584022",
     "exception": false,
     "start_time": "2021-03-18T03:09:50.221633",
     "status": "completed"
    },
    "tags": []
   },
   "outputs": [
    {
     "data": {
      "text/plain": [
       "(22195, 3752)"
      ]
     },
     "execution_count": 24,
     "metadata": {},
     "output_type": "execute_result"
    }
   ],
   "source": [
    "smultixcan_pvalues_combined.dropna(axis=0).shape"
   ]
  },
  {
   "cell_type": "markdown",
   "metadata": {
    "papermill": {
     "duration": 0.027503,
     "end_time": "2021-03-18T03:09:50.638647",
     "exception": false,
     "start_time": "2021-03-18T03:09:50.611144",
     "status": "completed"
    },
    "tags": []
   },
   "source": [
    "### Are we getting those NaN values from `z-scores == 0`?"
   ]
  },
  {
   "cell_type": "code",
   "execution_count": 25,
   "metadata": {
    "execution": {
     "iopub.execute_input": "2021-03-18T03:09:50.695286Z",
     "iopub.status.busy": "2021-03-18T03:09:50.694927Z",
     "iopub.status.idle": "2021-03-18T03:09:51.054357Z",
     "shell.execute_reply": "2021-03-18T03:09:51.053900Z"
    },
    "papermill": {
     "duration": 0.38889,
     "end_time": "2021-03-18T03:09:51.054461",
     "exception": false,
     "start_time": "2021-03-18T03:09:50.665571",
     "status": "completed"
    },
    "tags": []
   },
   "outputs": [
    {
     "data": {
      "text/plain": [
       "(22515, 3752)"
      ]
     },
     "metadata": {},
     "output_type": "display_data"
    },
    {
     "data": {
      "text/plain": [
       "(965771,)"
      ]
     },
     "metadata": {},
     "output_type": "display_data"
    }
   ],
   "source": [
    "zscores_zeros = (smultixcan_zscores_combined == 0.0).values\n",
    "display(zscores_zeros.shape)\n",
    "\n",
    "zscore_zeros_idx = np.where(zscores_zeros)\n",
    "display(zscore_zeros_idx[0].shape)"
   ]
  },
  {
   "cell_type": "code",
   "execution_count": 26,
   "metadata": {
    "execution": {
     "iopub.execute_input": "2021-03-18T03:09:51.114226Z",
     "iopub.status.busy": "2021-03-18T03:09:51.113868Z",
     "iopub.status.idle": "2021-03-18T03:09:51.462625Z",
     "shell.execute_reply": "2021-03-18T03:09:51.462941Z"
    },
    "papermill": {
     "duration": 0.378515,
     "end_time": "2021-03-18T03:09:51.463061",
     "exception": false,
     "start_time": "2021-03-18T03:09:51.084546",
     "status": "completed"
    },
    "tags": []
   },
   "outputs": [
    {
     "data": {
      "text/plain": [
       "(22515, 3752)"
      ]
     },
     "metadata": {},
     "output_type": "display_data"
    },
    {
     "data": {
      "text/plain": [
       "(965604,)"
      ]
     },
     "metadata": {},
     "output_type": "display_data"
    }
   ],
   "source": [
    "pvalues_nans = (smultixcan_pvalues_combined.isna()).values\n",
    "display(pvalues_nans.shape)\n",
    "\n",
    "pvalues_nans_idx = np.where(pvalues_nans)\n",
    "display(pvalues_nans_idx[0].shape)"
   ]
  },
  {
   "cell_type": "code",
   "execution_count": 27,
   "metadata": {
    "execution": {
     "iopub.execute_input": "2021-03-18T03:09:51.522515Z",
     "iopub.status.busy": "2021-03-18T03:09:51.522148Z",
     "iopub.status.idle": "2021-03-18T03:09:51.618241Z",
     "shell.execute_reply": "2021-03-18T03:09:51.617871Z"
    },
    "papermill": {
     "duration": 0.125819,
     "end_time": "2021-03-18T03:09:51.618327",
     "exception": false,
     "start_time": "2021-03-18T03:09:51.492508",
     "status": "completed"
    },
    "tags": []
   },
   "outputs": [
    {
     "data": {
      "text/plain": [
       "False"
      ]
     },
     "execution_count": 27,
     "metadata": {},
     "output_type": "execute_result"
    }
   ],
   "source": [
    "np.array_equal(zscores_zeros, pvalues_nans)"
   ]
  },
  {
   "cell_type": "markdown",
   "metadata": {
    "papermill": {
     "duration": 0.032689,
     "end_time": "2021-03-18T03:09:51.698108",
     "exception": false,
     "start_time": "2021-03-18T03:09:51.665419",
     "status": "completed"
    },
    "tags": []
   },
   "source": [
    "NaN pvalues do not exactly match zero z-scores. Let's see what's going on"
   ]
  },
  {
   "cell_type": "code",
   "execution_count": 28,
   "metadata": {
    "execution": {
     "iopub.execute_input": "2021-03-18T03:09:51.756833Z",
     "iopub.status.busy": "2021-03-18T03:09:51.756407Z",
     "iopub.status.idle": "2021-03-18T03:09:52.109853Z",
     "shell.execute_reply": "2021-03-18T03:09:52.110173Z"
    },
    "papermill": {
     "duration": 0.383829,
     "end_time": "2021-03-18T03:09:52.110294",
     "exception": false,
     "start_time": "2021-03-18T03:09:51.726465",
     "status": "completed"
    },
    "tags": []
   },
   "outputs": [
    {
     "data": {
      "text/plain": [
       "(array([  437,  1921,  2823,  2978,  3034,  3153,  3513,  4534,  4699,\n",
       "         5029,  5137,  5161,  5521,  6020,  6158,  6986,  7642,  7761,\n",
       "         8343,  9249,  9374, 10667, 10946, 11163, 11364, 11389, 11761,\n",
       "        11852, 11930, 12027, 12263, 12533, 12661, 12693, 12956, 12991,\n",
       "        13184, 13509, 13654, 13877, 14020, 14490, 14685, 14758, 14943,\n",
       "        15105, 15228, 15356, 15453, 15492, 15494, 15649, 16744, 16770,\n",
       "        16802, 16952, 16963, 17017, 17092, 17125, 17149, 17217, 17223,\n",
       "        17264, 17266, 17328, 17439, 17443, 17449, 17461, 17503, 17508,\n",
       "        17520, 17536, 17546, 17568, 17672, 17681, 17724, 17758, 17803,\n",
       "        17929, 17993, 18001, 18010, 18108, 18184, 18238, 18247, 18286,\n",
       "        18337, 18356, 18373, 18384, 18385, 18494, 18529, 18603, 18732,\n",
       "        18862, 18866, 18881, 19028, 19085, 19107, 19119, 19124, 19154,\n",
       "        19172, 19218, 19226, 19272, 19331, 19345, 19356, 19365, 19367,\n",
       "        19423, 19441, 19457, 19476, 19492, 19501, 19529, 19606, 19615,\n",
       "        19658, 19669, 19685, 19746, 19777, 19790, 19824, 19936, 19947,\n",
       "        19951, 19987, 20013, 20014, 20041, 20050, 20104, 20136, 20143,\n",
       "        20152, 20153, 20180, 20306, 20318, 20468, 20497, 20629, 20685,\n",
       "        20810, 20828, 20861, 20879, 20922, 20951, 21058, 21419, 21459,\n",
       "        21490, 22163, 22319, 22475, 22488]),\n",
       " array([2981, 2981, 2981, 2981, 2981, 2981, 3244, 2981, 2981, 2981, 2981,\n",
       "        2981, 2981, 2981, 2981, 2981, 2981, 3268, 2981, 2981, 2981, 2981,\n",
       "        3268, 2981, 2981, 2981, 2981, 2981, 2981, 2981, 3268, 2981, 2981,\n",
       "        2981, 2981, 2981, 2981, 2981, 2981, 2981, 2981, 3081, 3050, 2981,\n",
       "        3268, 2981, 3269, 2981, 2981, 2981, 2981, 3268, 2981, 2981, 2981,\n",
       "        2981, 2981, 2981, 2981, 2981, 2981, 2981, 2981, 2981, 2981, 2981,\n",
       "        2981, 2981, 3269, 2981, 2981, 2981, 2788, 2981, 2981, 2981, 2981,\n",
       "        2981, 2981, 2981, 2981, 2981, 2981, 2981, 2981, 2981, 2981, 2981,\n",
       "        2981, 2981, 2981, 2981, 2981, 2981, 2981, 2981, 2981, 2981, 2981,\n",
       "        2981, 2981, 2981, 2981, 3268, 2981, 2981, 2981, 2981, 2981, 2981,\n",
       "        2981, 2981, 2981, 2981, 2981, 2981, 2788, 2981, 2981, 2981, 3269,\n",
       "        2981, 2981, 2981, 2981, 2981, 2981, 3268, 2981, 3268, 2981, 2981,\n",
       "        2981, 2981, 2981, 2981, 2981, 2981, 2981, 3269, 3268, 2981, 2981,\n",
       "        2981, 2981, 2981, 2981, 2981, 2981, 2981, 2981, 2981, 2981, 2981,\n",
       "        2981, 2981, 2981, 2788, 2981, 2981, 2981, 2981, 2981, 2981, 2981,\n",
       "        2981, 2981]))"
      ]
     },
     "metadata": {},
     "output_type": "display_data"
    }
   ],
   "source": [
    "non_equal_idxs = np.where(zscores_zeros != pvalues_nans)\n",
    "display(non_equal_idxs)"
   ]
  },
  {
   "cell_type": "code",
   "execution_count": 29,
   "metadata": {
    "execution": {
     "iopub.execute_input": "2021-03-18T03:09:52.171222Z",
     "iopub.status.busy": "2021-03-18T03:09:52.170840Z",
     "iopub.status.idle": "2021-03-18T03:09:52.178417Z",
     "shell.execute_reply": "2021-03-18T03:09:52.178761Z"
    },
    "papermill": {
     "duration": 0.03854,
     "end_time": "2021-03-18T03:09:52.178861",
     "exception": false,
     "start_time": "2021-03-18T03:09:52.140321",
     "status": "completed"
    },
    "tags": []
   },
   "outputs": [
    {
     "data": {
      "text/plain": [
       "((167,), (167,))"
      ]
     },
     "execution_count": 29,
     "metadata": {},
     "output_type": "execute_result"
    }
   ],
   "source": [
    "non_equal_idxs[0].shape, non_equal_idxs[1].shape"
   ]
  },
  {
   "cell_type": "markdown",
   "metadata": {
    "papermill": {
     "duration": 0.028242,
     "end_time": "2021-03-18T03:09:52.235392",
     "exception": false,
     "start_time": "2021-03-18T03:09:52.207150",
     "status": "completed"
    },
    "tags": []
   },
   "source": [
    "`z-scores` and `p-values` data version differ in just a few positions, so it is mostly because of `z_scores == 0.0`"
   ]
  },
  {
   "cell_type": "markdown",
   "metadata": {
    "papermill": {
     "duration": 0.027882,
     "end_time": "2021-03-18T03:09:52.291687",
     "exception": false,
     "start_time": "2021-03-18T03:09:52.263805",
     "status": "completed"
    },
    "tags": []
   },
   "source": [
    "### What's in the differing positions?"
   ]
  },
  {
   "cell_type": "code",
   "execution_count": 30,
   "metadata": {
    "execution": {
     "iopub.execute_input": "2021-03-18T03:09:52.350810Z",
     "iopub.status.busy": "2021-03-18T03:09:52.350433Z",
     "iopub.status.idle": "2021-03-18T03:09:52.366076Z",
     "shell.execute_reply": "2021-03-18T03:09:52.365680Z"
    },
    "papermill": {
     "duration": 0.046491,
     "end_time": "2021-03-18T03:09:52.366188",
     "exception": false,
     "start_time": "2021-03-18T03:09:52.319697",
     "status": "completed"
    },
    "tags": []
   },
   "outputs": [],
   "source": [
    "zscores_values = smultixcan_zscores_combined.iloc[non_equal_idxs].stack()"
   ]
  },
  {
   "cell_type": "code",
   "execution_count": 31,
   "metadata": {
    "execution": {
     "iopub.execute_input": "2021-03-18T03:09:52.432963Z",
     "iopub.status.busy": "2021-03-18T03:09:52.432538Z",
     "iopub.status.idle": "2021-03-18T03:09:52.440675Z",
     "shell.execute_reply": "2021-03-18T03:09:52.440271Z"
    },
    "papermill": {
     "duration": 0.038509,
     "end_time": "2021-03-18T03:09:52.440788",
     "exception": false,
     "start_time": "2021-03-18T03:09:52.402279",
     "status": "completed"
    },
    "tags": []
   },
   "outputs": [
    {
     "data": {
      "text/plain": [
       "(27889,)"
      ]
     },
     "execution_count": 31,
     "metadata": {},
     "output_type": "execute_result"
    }
   ],
   "source": [
    "zscores_values.shape"
   ]
  },
  {
   "cell_type": "code",
   "execution_count": 32,
   "metadata": {
    "execution": {
     "iopub.execute_input": "2021-03-18T03:09:52.501104Z",
     "iopub.status.busy": "2021-03-18T03:09:52.500698Z",
     "iopub.status.idle": "2021-03-18T03:09:52.509223Z",
     "shell.execute_reply": "2021-03-18T03:09:52.509506Z"
    },
    "papermill": {
     "duration": 0.039218,
     "end_time": "2021-03-18T03:09:52.509615",
     "exception": false,
     "start_time": "2021-03-18T03:09:52.470397",
     "status": "completed"
    },
    "tags": []
   },
   "outputs": [
    {
     "data": {
      "text/plain": [
       "gene_name                                    \n",
       "ENSG00000029363  SSGAC_Education_Years_Pooled    0.0\n",
       "                 SSGAC_Education_Years_Pooled    0.0\n",
       "                 SSGAC_Education_Years_Pooled    0.0\n",
       "                 SSGAC_Education_Years_Pooled    0.0\n",
       "                 SSGAC_Education_Years_Pooled    0.0\n",
       "dtype: float64"
      ]
     },
     "execution_count": 32,
     "metadata": {},
     "output_type": "execute_result"
    }
   ],
   "source": [
    "zscores_values.head()"
   ]
  },
  {
   "cell_type": "code",
   "execution_count": 33,
   "metadata": {
    "execution": {
     "iopub.execute_input": "2021-03-18T03:09:52.569330Z",
     "iopub.status.busy": "2021-03-18T03:09:52.568972Z",
     "iopub.status.idle": "2021-03-18T03:09:52.579946Z",
     "shell.execute_reply": "2021-03-18T03:09:52.579571Z"
    },
    "papermill": {
     "duration": 0.04179,
     "end_time": "2021-03-18T03:09:52.580032",
     "exception": false,
     "start_time": "2021-03-18T03:09:52.538242",
     "status": "completed"
    },
    "tags": []
   },
   "outputs": [
    {
     "data": {
      "text/plain": [
       "count    27889.000000\n",
       "mean         0.234956\n",
       "std          0.656286\n",
       "min          0.000000\n",
       "25%          0.000000\n",
       "50%          0.000000\n",
       "75%          0.000000\n",
       "max          5.391299\n",
       "dtype: float64"
      ]
     },
     "execution_count": 33,
     "metadata": {},
     "output_type": "execute_result"
    }
   ],
   "source": [
    "zscores_values.describe()"
   ]
  },
  {
   "cell_type": "code",
   "execution_count": 34,
   "metadata": {
    "execution": {
     "iopub.execute_input": "2021-03-18T03:09:52.641145Z",
     "iopub.status.busy": "2021-03-18T03:09:52.640685Z",
     "iopub.status.idle": "2021-03-18T03:09:52.651768Z",
     "shell.execute_reply": "2021-03-18T03:09:52.652044Z"
    },
    "papermill": {
     "duration": 0.042166,
     "end_time": "2021-03-18T03:09:52.652149",
     "exception": false,
     "start_time": "2021-03-18T03:09:52.609983",
     "status": "completed"
    },
    "tags": []
   },
   "outputs": [
    {
     "data": {
      "text/plain": [
       "gene_name                                         \n",
       "ENSG00000143032  SSGAC_Education_Years_Pooled         5.391299\n",
       "                 SSGAC_Education_Years_Pooled         5.391299\n",
       "                 SSGAC_Education_Years_Pooled         5.391299\n",
       "                 SSGAC_Education_Years_Pooled         5.391299\n",
       "                 SSGAC_Education_Years_Pooled         5.391299\n",
       "                                                        ...   \n",
       "ENSG00000250078  fasting blood glucose measurement    0.000000\n",
       "                 fasting blood glucose measurement    0.000000\n",
       "                 fasting blood glucose measurement    0.000000\n",
       "                 fasting blood glucose measurement    0.000000\n",
       "ENSG00000029363  SSGAC_Education_Years_Pooled         0.000000\n",
       "Length: 27889, dtype: float64"
      ]
     },
     "execution_count": 34,
     "metadata": {},
     "output_type": "execute_result"
    }
   ],
   "source": [
    "zscores_values.sort_values(ascending=False)"
   ]
  },
  {
   "cell_type": "code",
   "execution_count": 35,
   "metadata": {
    "execution": {
     "iopub.execute_input": "2021-03-18T03:09:52.713137Z",
     "iopub.status.busy": "2021-03-18T03:09:52.712762Z",
     "iopub.status.idle": "2021-03-18T03:09:52.725742Z",
     "shell.execute_reply": "2021-03-18T03:09:52.725374Z"
    },
    "papermill": {
     "duration": 0.044155,
     "end_time": "2021-03-18T03:09:52.725849",
     "exception": false,
     "start_time": "2021-03-18T03:09:52.681694",
     "status": "completed"
    },
    "tags": []
   },
   "outputs": [],
   "source": [
    "pvalues_values = smultixcan_pvalues_combined.iloc[non_equal_idxs].stack()"
   ]
  },
  {
   "cell_type": "code",
   "execution_count": 36,
   "metadata": {
    "execution": {
     "iopub.execute_input": "2021-03-18T03:09:52.789776Z",
     "iopub.status.busy": "2021-03-18T03:09:52.789418Z",
     "iopub.status.idle": "2021-03-18T03:09:52.797268Z",
     "shell.execute_reply": "2021-03-18T03:09:52.796895Z"
    },
    "papermill": {
     "duration": 0.039124,
     "end_time": "2021-03-18T03:09:52.797355",
     "exception": false,
     "start_time": "2021-03-18T03:09:52.758231",
     "status": "completed"
    },
    "tags": []
   },
   "outputs": [
    {
     "data": {
      "text/plain": [
       "(27879,)"
      ]
     },
     "execution_count": 36,
     "metadata": {},
     "output_type": "execute_result"
    }
   ],
   "source": [
    "pvalues_values.shape"
   ]
  },
  {
   "cell_type": "code",
   "execution_count": 37,
   "metadata": {
    "execution": {
     "iopub.execute_input": "2021-03-18T03:09:52.858049Z",
     "iopub.status.busy": "2021-03-18T03:09:52.857677Z",
     "iopub.status.idle": "2021-03-18T03:09:52.866824Z",
     "shell.execute_reply": "2021-03-18T03:09:52.866459Z"
    },
    "papermill": {
     "duration": 0.040074,
     "end_time": "2021-03-18T03:09:52.866908",
     "exception": false,
     "start_time": "2021-03-18T03:09:52.826834",
     "status": "completed"
    },
    "tags": []
   },
   "outputs": [
    {
     "data": {
      "text/plain": [
       "gene_name                                    \n",
       "ENSG00000029363  SSGAC_Education_Years_Pooled    1.0\n",
       "                 SSGAC_Education_Years_Pooled    1.0\n",
       "                 SSGAC_Education_Years_Pooled    1.0\n",
       "                 SSGAC_Education_Years_Pooled    1.0\n",
       "                 SSGAC_Education_Years_Pooled    1.0\n",
       "dtype: float64"
      ]
     },
     "execution_count": 37,
     "metadata": {},
     "output_type": "execute_result"
    }
   ],
   "source": [
    "pvalues_values.head()"
   ]
  },
  {
   "cell_type": "code",
   "execution_count": 38,
   "metadata": {
    "execution": {
     "iopub.execute_input": "2021-03-18T03:09:52.927750Z",
     "iopub.status.busy": "2021-03-18T03:09:52.927389Z",
     "iopub.status.idle": "2021-03-18T03:09:52.937814Z",
     "shell.execute_reply": "2021-03-18T03:09:52.937489Z"
    },
    "papermill": {
     "duration": 0.041724,
     "end_time": "2021-03-18T03:09:52.937899",
     "exception": false,
     "start_time": "2021-03-18T03:09:52.896175",
     "status": "completed"
    },
    "tags": []
   },
   "outputs": [
    {
     "data": {
      "text/plain": [
       "count    2.787900e+04\n",
       "mean     8.779993e-01\n",
       "std      2.725342e-01\n",
       "min      6.995008e-08\n",
       "25%      1.000000e+00\n",
       "50%      1.000000e+00\n",
       "75%      1.000000e+00\n",
       "max      1.000000e+00\n",
       "dtype: float64"
      ]
     },
     "execution_count": 38,
     "metadata": {},
     "output_type": "execute_result"
    }
   ],
   "source": [
    "pvalues_values.describe()"
   ]
  },
  {
   "cell_type": "code",
   "execution_count": 39,
   "metadata": {
    "execution": {
     "iopub.execute_input": "2021-03-18T03:09:53.002417Z",
     "iopub.status.busy": "2021-03-18T03:09:53.002012Z",
     "iopub.status.idle": "2021-03-18T03:09:53.014193Z",
     "shell.execute_reply": "2021-03-18T03:09:53.013800Z"
    },
    "papermill": {
     "duration": 0.045558,
     "end_time": "2021-03-18T03:09:53.014284",
     "exception": false,
     "start_time": "2021-03-18T03:09:52.968726",
     "status": "completed"
    },
    "tags": []
   },
   "outputs": [
    {
     "data": {
      "text/plain": [
       "gene_name                                    \n",
       "ENSG00000283648  SSGAC_Education_Years_Pooled    1.000000e+00\n",
       "ENSG00000227930  SSGAC_Education_Years_Pooled    1.000000e+00\n",
       "                 SSGAC_Education_Years_Pooled    1.000000e+00\n",
       "                 SSGAC_Education_Years_Pooled    1.000000e+00\n",
       "                 SSGAC_Education_Years_Pooled    1.000000e+00\n",
       "                                                     ...     \n",
       "ENSG00000143032  SSGAC_Education_Years_Pooled    6.995008e-08\n",
       "                 SSGAC_Education_Years_Pooled    6.995008e-08\n",
       "                 SSGAC_Education_Years_Pooled    6.995008e-08\n",
       "                 SSGAC_Education_Years_Pooled    6.995008e-08\n",
       "                 SSGAC_Education_Years_Pooled    6.995008e-08\n",
       "Length: 27879, dtype: float64"
      ]
     },
     "execution_count": 39,
     "metadata": {},
     "output_type": "execute_result"
    }
   ],
   "source": [
    "pvalues_values.sort_values(ascending=False)"
   ]
  },
  {
   "cell_type": "markdown",
   "metadata": {
    "papermill": {
     "duration": 0.031784,
     "end_time": "2021-03-18T03:09:53.079977",
     "exception": false,
     "start_time": "2021-03-18T03:09:53.048193",
     "status": "completed"
    },
    "tags": []
   },
   "source": [
    "## Testing"
   ]
  },
  {
   "cell_type": "markdown",
   "metadata": {
    "papermill": {
     "duration": 0.028905,
     "end_time": "2021-03-18T03:09:53.138556",
     "exception": false,
     "start_time": "2021-03-18T03:09:53.109651",
     "status": "completed"
    },
    "tags": []
   },
   "source": [
    "### Stats"
   ]
  },
  {
   "cell_type": "code",
   "execution_count": 40,
   "metadata": {
    "execution": {
     "iopub.execute_input": "2021-03-18T03:09:53.199786Z",
     "iopub.status.busy": "2021-03-18T03:09:53.199427Z",
     "iopub.status.idle": "2021-03-18T03:09:57.593732Z",
     "shell.execute_reply": "2021-03-18T03:09:57.593357Z"
    },
    "papermill": {
     "duration": 4.425605,
     "end_time": "2021-03-18T03:09:57.593818",
     "exception": false,
     "start_time": "2021-03-18T03:09:53.168213",
     "status": "completed"
    },
    "tags": []
   },
   "outputs": [
    {
     "data": {
      "text/plain": [
       "count             83510676.0\n",
       "mean     0.47207421615035794\n",
       "std       0.2937895450160361\n",
       "min                   1e-320\n",
       "25%      0.21284248873443484\n",
       "50%      0.46160010110866134\n",
       "75%       0.7248518311255727\n",
       "max                      1.0\n",
       "dtype: object"
      ]
     },
     "metadata": {},
     "output_type": "display_data"
    }
   ],
   "source": [
    "_stats = smultixcan_pvalues_combined.stack().describe()\n",
    "display(_stats.apply(str))"
   ]
  },
  {
   "cell_type": "code",
   "execution_count": 41,
   "metadata": {
    "execution": {
     "iopub.execute_input": "2021-03-18T03:09:57.656146Z",
     "iopub.status.busy": "2021-03-18T03:09:57.655782Z",
     "iopub.status.idle": "2021-03-18T03:09:57.662900Z",
     "shell.execute_reply": "2021-03-18T03:09:57.662469Z"
    },
    "papermill": {
     "duration": 0.038759,
     "end_time": "2021-03-18T03:09:57.662987",
     "exception": false,
     "start_time": "2021-03-18T03:09:57.624228",
     "status": "completed"
    },
    "tags": []
   },
   "outputs": [],
   "source": [
    "assert _stats[\"min\"] > 0.0"
   ]
  },
  {
   "cell_type": "code",
   "execution_count": 42,
   "metadata": {
    "execution": {
     "iopub.execute_input": "2021-03-18T03:09:57.725587Z",
     "iopub.status.busy": "2021-03-18T03:09:57.725215Z",
     "iopub.status.idle": "2021-03-18T03:09:57.732497Z",
     "shell.execute_reply": "2021-03-18T03:09:57.732131Z"
    },
    "papermill": {
     "duration": 0.039196,
     "end_time": "2021-03-18T03:09:57.732582",
     "exception": false,
     "start_time": "2021-03-18T03:09:57.693386",
     "status": "completed"
    },
    "tags": []
   },
   "outputs": [],
   "source": [
    "assert _stats[\"max\"] <= 1.0"
   ]
  },
  {
   "cell_type": "markdown",
   "metadata": {
    "papermill": {
     "duration": 0.029678,
     "end_time": "2021-03-18T03:09:57.792332",
     "exception": false,
     "start_time": "2021-03-18T03:09:57.762654",
     "status": "completed"
    },
    "tags": []
   },
   "source": [
    "### Same traits as in z-scores version"
   ]
  },
  {
   "cell_type": "code",
   "execution_count": 43,
   "metadata": {
    "execution": {
     "iopub.execute_input": "2021-03-18T03:09:57.854856Z",
     "iopub.status.busy": "2021-03-18T03:09:57.854487Z",
     "iopub.status.idle": "2021-03-18T03:09:57.861778Z",
     "shell.execute_reply": "2021-03-18T03:09:57.861412Z"
    },
    "papermill": {
     "duration": 0.039704,
     "end_time": "2021-03-18T03:09:57.861863",
     "exception": false,
     "start_time": "2021-03-18T03:09:57.822159",
     "status": "completed"
    },
    "tags": []
   },
   "outputs": [],
   "source": [
    "assert smultixcan_pvalues_combined.index.equals(smultixcan_zscores_combined.index)"
   ]
  },
  {
   "cell_type": "code",
   "execution_count": 44,
   "metadata": {
    "execution": {
     "iopub.execute_input": "2021-03-18T03:09:57.925093Z",
     "iopub.status.busy": "2021-03-18T03:09:57.924663Z",
     "iopub.status.idle": "2021-03-18T03:09:57.931765Z",
     "shell.execute_reply": "2021-03-18T03:09:57.931389Z"
    },
    "papermill": {
     "duration": 0.039348,
     "end_time": "2021-03-18T03:09:57.931850",
     "exception": false,
     "start_time": "2021-03-18T03:09:57.892502",
     "status": "completed"
    },
    "tags": []
   },
   "outputs": [],
   "source": [
    "assert smultixcan_pvalues_combined.columns.equals(smultixcan_zscores_combined.columns)"
   ]
  },
  {
   "cell_type": "markdown",
   "metadata": {
    "papermill": {
     "duration": 0.030392,
     "end_time": "2021-03-18T03:09:57.993107",
     "exception": false,
     "start_time": "2021-03-18T03:09:57.962715",
     "status": "completed"
    },
    "tags": []
   },
   "source": [
    "### EFO label (asthma) which combined three PhenomeXcan traits."
   ]
  },
  {
   "cell_type": "code",
   "execution_count": 45,
   "metadata": {
    "execution": {
     "iopub.execute_input": "2021-03-18T03:09:58.058839Z",
     "iopub.status.busy": "2021-03-18T03:09:58.058470Z",
     "iopub.status.idle": "2021-03-18T03:09:58.065484Z",
     "shell.execute_reply": "2021-03-18T03:09:58.065107Z"
    },
    "papermill": {
     "duration": 0.040284,
     "end_time": "2021-03-18T03:09:58.065570",
     "exception": false,
     "start_time": "2021-03-18T03:09:58.025286",
     "status": "completed"
    },
    "tags": []
   },
   "outputs": [],
   "source": [
    "_asthma_traits = [\n",
    "    \"22127-Doctor_diagnosed_asthma\",\n",
    "    \"20002_1111-Noncancer_illness_code_selfreported_asthma\",\n",
    "    \"J45-Diagnoses_main_ICD10_J45_Asthma\",\n",
    "]"
   ]
  },
  {
   "cell_type": "code",
   "execution_count": 46,
   "metadata": {
    "execution": {
     "iopub.execute_input": "2021-03-18T03:09:58.129325Z",
     "iopub.status.busy": "2021-03-18T03:09:58.128963Z",
     "iopub.status.idle": "2021-03-18T03:09:58.141188Z",
     "shell.execute_reply": "2021-03-18T03:09:58.141490Z"
    },
    "papermill": {
     "duration": 0.044672,
     "end_time": "2021-03-18T03:09:58.141597",
     "exception": false,
     "start_time": "2021-03-18T03:09:58.096925",
     "status": "completed"
    },
    "tags": []
   },
   "outputs": [
    {
     "data": {
      "text/html": [
       "<div>\n",
       "<style scoped>\n",
       "    .dataframe tbody tr th:only-of-type {\n",
       "        vertical-align: middle;\n",
       "    }\n",
       "\n",
       "    .dataframe tbody tr th {\n",
       "        vertical-align: top;\n",
       "    }\n",
       "\n",
       "    .dataframe thead th {\n",
       "        text-align: right;\n",
       "    }\n",
       "</style>\n",
       "<table border=\"1\" class=\"dataframe\">\n",
       "  <thead>\n",
       "    <tr style=\"text-align: right;\">\n",
       "      <th></th>\n",
       "      <th>22127-Doctor_diagnosed_asthma</th>\n",
       "      <th>20002_1111-Noncancer_illness_code_selfreported_asthma</th>\n",
       "      <th>J45-Diagnoses_main_ICD10_J45_Asthma</th>\n",
       "    </tr>\n",
       "    <tr>\n",
       "      <th>gene_name</th>\n",
       "      <th></th>\n",
       "      <th></th>\n",
       "      <th></th>\n",
       "    </tr>\n",
       "  </thead>\n",
       "  <tbody>\n",
       "    <tr>\n",
       "      <th>ENSG00000000419</th>\n",
       "      <td>0.743650</td>\n",
       "      <td>0.479481</td>\n",
       "      <td>0.420807</td>\n",
       "    </tr>\n",
       "    <tr>\n",
       "      <th>ENSG00000000457</th>\n",
       "      <td>0.276471</td>\n",
       "      <td>0.483925</td>\n",
       "      <td>0.224487</td>\n",
       "    </tr>\n",
       "    <tr>\n",
       "      <th>ENSG00000000460</th>\n",
       "      <td>0.128293</td>\n",
       "      <td>0.487002</td>\n",
       "      <td>0.092744</td>\n",
       "    </tr>\n",
       "    <tr>\n",
       "      <th>ENSG00000000938</th>\n",
       "      <td>0.362071</td>\n",
       "      <td>0.020284</td>\n",
       "      <td>0.508478</td>\n",
       "    </tr>\n",
       "    <tr>\n",
       "      <th>ENSG00000000971</th>\n",
       "      <td>0.460320</td>\n",
       "      <td>0.073722</td>\n",
       "      <td>0.482734</td>\n",
       "    </tr>\n",
       "    <tr>\n",
       "      <th>...</th>\n",
       "      <td>...</td>\n",
       "      <td>...</td>\n",
       "      <td>...</td>\n",
       "    </tr>\n",
       "    <tr>\n",
       "      <th>ENSG00000284430</th>\n",
       "      <td>0.334419</td>\n",
       "      <td>0.447163</td>\n",
       "      <td>0.139689</td>\n",
       "    </tr>\n",
       "    <tr>\n",
       "      <th>ENSG00000284452</th>\n",
       "      <td>0.631494</td>\n",
       "      <td>0.610971</td>\n",
       "      <td>0.283818</td>\n",
       "    </tr>\n",
       "    <tr>\n",
       "      <th>ENSG00000284513</th>\n",
       "      <td>0.250116</td>\n",
       "      <td>0.168155</td>\n",
       "      <td>0.184693</td>\n",
       "    </tr>\n",
       "    <tr>\n",
       "      <th>ENSG00000284526</th>\n",
       "      <td>0.762563</td>\n",
       "      <td>0.995128</td>\n",
       "      <td>0.643106</td>\n",
       "    </tr>\n",
       "    <tr>\n",
       "      <th>ENSG00000284552</th>\n",
       "      <td>0.528159</td>\n",
       "      <td>0.949216</td>\n",
       "      <td>0.687036</td>\n",
       "    </tr>\n",
       "  </tbody>\n",
       "</table>\n",
       "<p>22515 rows × 3 columns</p>\n",
       "</div>"
      ],
      "text/plain": [
       "                 22127-Doctor_diagnosed_asthma  \\\n",
       "gene_name                                        \n",
       "ENSG00000000419                       0.743650   \n",
       "ENSG00000000457                       0.276471   \n",
       "ENSG00000000460                       0.128293   \n",
       "ENSG00000000938                       0.362071   \n",
       "ENSG00000000971                       0.460320   \n",
       "...                                        ...   \n",
       "ENSG00000284430                       0.334419   \n",
       "ENSG00000284452                       0.631494   \n",
       "ENSG00000284513                       0.250116   \n",
       "ENSG00000284526                       0.762563   \n",
       "ENSG00000284552                       0.528159   \n",
       "\n",
       "                 20002_1111-Noncancer_illness_code_selfreported_asthma  \\\n",
       "gene_name                                                                \n",
       "ENSG00000000419                                           0.479481       \n",
       "ENSG00000000457                                           0.483925       \n",
       "ENSG00000000460                                           0.487002       \n",
       "ENSG00000000938                                           0.020284       \n",
       "ENSG00000000971                                           0.073722       \n",
       "...                                                            ...       \n",
       "ENSG00000284430                                           0.447163       \n",
       "ENSG00000284452                                           0.610971       \n",
       "ENSG00000284513                                           0.168155       \n",
       "ENSG00000284526                                           0.995128       \n",
       "ENSG00000284552                                           0.949216       \n",
       "\n",
       "                 J45-Diagnoses_main_ICD10_J45_Asthma  \n",
       "gene_name                                             \n",
       "ENSG00000000419                             0.420807  \n",
       "ENSG00000000457                             0.224487  \n",
       "ENSG00000000460                             0.092744  \n",
       "ENSG00000000938                             0.508478  \n",
       "ENSG00000000971                             0.482734  \n",
       "...                                              ...  \n",
       "ENSG00000284430                             0.139689  \n",
       "ENSG00000284452                             0.283818  \n",
       "ENSG00000284513                             0.184693  \n",
       "ENSG00000284526                             0.643106  \n",
       "ENSG00000284552                             0.687036  \n",
       "\n",
       "[22515 rows x 3 columns]"
      ]
     },
     "execution_count": 46,
     "metadata": {},
     "output_type": "execute_result"
    }
   ],
   "source": [
    "smultixcan_pvalues[_asthma_traits]"
   ]
  },
  {
   "cell_type": "code",
   "execution_count": 47,
   "metadata": {
    "execution": {
     "iopub.execute_input": "2021-03-18T03:09:58.205198Z",
     "iopub.status.busy": "2021-03-18T03:09:58.204829Z",
     "iopub.status.idle": "2021-03-18T03:09:58.217295Z",
     "shell.execute_reply": "2021-03-18T03:09:58.217578Z"
    },
    "papermill": {
     "duration": 0.045836,
     "end_time": "2021-03-18T03:09:58.217686",
     "exception": false,
     "start_time": "2021-03-18T03:09:58.171850",
     "status": "completed"
    },
    "tags": []
   },
   "outputs": [
    {
     "data": {
      "text/html": [
       "<div>\n",
       "<style scoped>\n",
       "    .dataframe tbody tr th:only-of-type {\n",
       "        vertical-align: middle;\n",
       "    }\n",
       "\n",
       "    .dataframe tbody tr th {\n",
       "        vertical-align: top;\n",
       "    }\n",
       "\n",
       "    .dataframe thead th {\n",
       "        text-align: right;\n",
       "    }\n",
       "</style>\n",
       "<table border=\"1\" class=\"dataframe\">\n",
       "  <thead>\n",
       "    <tr style=\"text-align: right;\">\n",
       "      <th></th>\n",
       "      <th>22127-Doctor_diagnosed_asthma</th>\n",
       "      <th>20002_1111-Noncancer_illness_code_selfreported_asthma</th>\n",
       "      <th>J45-Diagnoses_main_ICD10_J45_Asthma</th>\n",
       "    </tr>\n",
       "    <tr>\n",
       "      <th>gene_name</th>\n",
       "      <th></th>\n",
       "      <th></th>\n",
       "      <th></th>\n",
       "    </tr>\n",
       "  </thead>\n",
       "  <tbody>\n",
       "    <tr>\n",
       "      <th>ENSG00000077327</th>\n",
       "      <td>NaN</td>\n",
       "      <td>NaN</td>\n",
       "      <td>NaN</td>\n",
       "    </tr>\n",
       "    <tr>\n",
       "      <th>ENSG00000107187</th>\n",
       "      <td>NaN</td>\n",
       "      <td>NaN</td>\n",
       "      <td>NaN</td>\n",
       "    </tr>\n",
       "    <tr>\n",
       "      <th>ENSG00000109181</th>\n",
       "      <td>NaN</td>\n",
       "      <td>NaN</td>\n",
       "      <td>NaN</td>\n",
       "    </tr>\n",
       "    <tr>\n",
       "      <th>ENSG00000117262</th>\n",
       "      <td>NaN</td>\n",
       "      <td>NaN</td>\n",
       "      <td>NaN</td>\n",
       "    </tr>\n",
       "    <tr>\n",
       "      <th>ENSG00000117281</th>\n",
       "      <td>NaN</td>\n",
       "      <td>NaN</td>\n",
       "      <td>NaN</td>\n",
       "    </tr>\n",
       "    <tr>\n",
       "      <th>...</th>\n",
       "      <td>...</td>\n",
       "      <td>...</td>\n",
       "      <td>...</td>\n",
       "    </tr>\n",
       "    <tr>\n",
       "      <th>ENSG00000282160</th>\n",
       "      <td>NaN</td>\n",
       "      <td>NaN</td>\n",
       "      <td>NaN</td>\n",
       "    </tr>\n",
       "    <tr>\n",
       "      <th>ENSG00000282940</th>\n",
       "      <td>NaN</td>\n",
       "      <td>NaN</td>\n",
       "      <td>NaN</td>\n",
       "    </tr>\n",
       "    <tr>\n",
       "      <th>ENSG00000283095</th>\n",
       "      <td>NaN</td>\n",
       "      <td>NaN</td>\n",
       "      <td>NaN</td>\n",
       "    </tr>\n",
       "    <tr>\n",
       "      <th>ENSG00000283324</th>\n",
       "      <td>NaN</td>\n",
       "      <td>NaN</td>\n",
       "      <td>NaN</td>\n",
       "    </tr>\n",
       "    <tr>\n",
       "      <th>ENSG00000283378</th>\n",
       "      <td>NaN</td>\n",
       "      <td>NaN</td>\n",
       "      <td>NaN</td>\n",
       "    </tr>\n",
       "  </tbody>\n",
       "</table>\n",
       "<p>260 rows × 3 columns</p>\n",
       "</div>"
      ],
      "text/plain": [
       "                 22127-Doctor_diagnosed_asthma  \\\n",
       "gene_name                                        \n",
       "ENSG00000077327                            NaN   \n",
       "ENSG00000107187                            NaN   \n",
       "ENSG00000109181                            NaN   \n",
       "ENSG00000117262                            NaN   \n",
       "ENSG00000117281                            NaN   \n",
       "...                                        ...   \n",
       "ENSG00000282160                            NaN   \n",
       "ENSG00000282940                            NaN   \n",
       "ENSG00000283095                            NaN   \n",
       "ENSG00000283324                            NaN   \n",
       "ENSG00000283378                            NaN   \n",
       "\n",
       "                 20002_1111-Noncancer_illness_code_selfreported_asthma  \\\n",
       "gene_name                                                                \n",
       "ENSG00000077327                                                NaN       \n",
       "ENSG00000107187                                                NaN       \n",
       "ENSG00000109181                                                NaN       \n",
       "ENSG00000117262                                                NaN       \n",
       "ENSG00000117281                                                NaN       \n",
       "...                                                            ...       \n",
       "ENSG00000282160                                                NaN       \n",
       "ENSG00000282940                                                NaN       \n",
       "ENSG00000283095                                                NaN       \n",
       "ENSG00000283324                                                NaN       \n",
       "ENSG00000283378                                                NaN       \n",
       "\n",
       "                 J45-Diagnoses_main_ICD10_J45_Asthma  \n",
       "gene_name                                             \n",
       "ENSG00000077327                                  NaN  \n",
       "ENSG00000107187                                  NaN  \n",
       "ENSG00000109181                                  NaN  \n",
       "ENSG00000117262                                  NaN  \n",
       "ENSG00000117281                                  NaN  \n",
       "...                                              ...  \n",
       "ENSG00000282160                                  NaN  \n",
       "ENSG00000282940                                  NaN  \n",
       "ENSG00000283095                                  NaN  \n",
       "ENSG00000283324                                  NaN  \n",
       "ENSG00000283378                                  NaN  \n",
       "\n",
       "[260 rows x 3 columns]"
      ]
     },
     "metadata": {},
     "output_type": "display_data"
    }
   ],
   "source": [
    "_tmp = smultixcan_pvalues[_asthma_traits]\n",
    "display(_tmp[_tmp.isna().any(axis=1)])"
   ]
  },
  {
   "cell_type": "code",
   "execution_count": 48,
   "metadata": {
    "execution": {
     "iopub.execute_input": "2021-03-18T03:09:58.283871Z",
     "iopub.status.busy": "2021-03-18T03:09:58.283488Z",
     "iopub.status.idle": "2021-03-18T03:09:58.291256Z",
     "shell.execute_reply": "2021-03-18T03:09:58.290884Z"
    },
    "papermill": {
     "duration": 0.040965,
     "end_time": "2021-03-18T03:09:58.291341",
     "exception": false,
     "start_time": "2021-03-18T03:09:58.250376",
     "status": "completed"
    },
    "tags": []
   },
   "outputs": [],
   "source": [
    "_trait = \"asthma\"\n",
    "\n",
    "_gene = \"ENSG00000000419\"\n",
    "assert smultixcan_pvalues_combined.loc[_gene, _trait].round(3) == 0.421\n",
    "\n",
    "_gene = \"ENSG00000284526\"\n",
    "assert smultixcan_pvalues_combined.loc[_gene, _trait].round(3) == 0.643\n",
    "\n",
    "_gene = \"ENSG00000000938\"\n",
    "assert smultixcan_pvalues_combined.loc[_gene, _trait].round(3) == 0.020\n",
    "\n",
    "_gene = \"ENSG00000077327\"\n",
    "assert pd.isnull(smultixcan_pvalues_combined.loc[_gene, _trait])"
   ]
  },
  {
   "cell_type": "markdown",
   "metadata": {
    "papermill": {
     "duration": 0.0305,
     "end_time": "2021-03-18T03:09:58.352551",
     "exception": false,
     "start_time": "2021-03-18T03:09:58.322051",
     "status": "completed"
    },
    "tags": []
   },
   "source": [
    "### PhenomeXcan trait which has no EFO label."
   ]
  },
  {
   "cell_type": "code",
   "execution_count": 49,
   "metadata": {
    "execution": {
     "iopub.execute_input": "2021-03-18T03:09:58.416938Z",
     "iopub.status.busy": "2021-03-18T03:09:58.416509Z",
     "iopub.status.idle": "2021-03-18T03:09:58.423590Z",
     "shell.execute_reply": "2021-03-18T03:09:58.423210Z"
    },
    "papermill": {
     "duration": 0.040149,
     "end_time": "2021-03-18T03:09:58.423676",
     "exception": false,
     "start_time": "2021-03-18T03:09:58.383527",
     "status": "completed"
    },
    "tags": []
   },
   "outputs": [],
   "source": [
    "_trait = \"100001_raw-Food_weight\""
   ]
  },
  {
   "cell_type": "code",
   "execution_count": 50,
   "metadata": {
    "execution": {
     "iopub.execute_input": "2021-03-18T03:09:58.488270Z",
     "iopub.status.busy": "2021-03-18T03:09:58.487903Z",
     "iopub.status.idle": "2021-03-18T03:09:58.497618Z",
     "shell.execute_reply": "2021-03-18T03:09:58.497294Z"
    },
    "papermill": {
     "duration": 0.043427,
     "end_time": "2021-03-18T03:09:58.497705",
     "exception": false,
     "start_time": "2021-03-18T03:09:58.454278",
     "status": "completed"
    },
    "tags": []
   },
   "outputs": [
    {
     "data": {
      "text/plain": [
       "gene_name\n",
       "ENSG00000000419    0.252026\n",
       "ENSG00000000457    0.536532\n",
       "ENSG00000000460    0.606047\n",
       "ENSG00000000938    0.778878\n",
       "ENSG00000000971    0.583604\n",
       "                     ...   \n",
       "ENSG00000284430    0.900540\n",
       "ENSG00000284452    0.112308\n",
       "ENSG00000284513    0.127939\n",
       "ENSG00000284526    0.880024\n",
       "ENSG00000284552    0.312427\n",
       "Name: 100001_raw-Food_weight, Length: 22515, dtype: float64"
      ]
     },
     "execution_count": 50,
     "metadata": {},
     "output_type": "execute_result"
    }
   ],
   "source": [
    "smultixcan_pvalues[_trait]"
   ]
  },
  {
   "cell_type": "code",
   "execution_count": 51,
   "metadata": {
    "execution": {
     "iopub.execute_input": "2021-03-18T03:09:58.562715Z",
     "iopub.status.busy": "2021-03-18T03:09:58.562350Z",
     "iopub.status.idle": "2021-03-18T03:09:58.569383Z",
     "shell.execute_reply": "2021-03-18T03:09:58.569660Z"
    },
    "papermill": {
     "duration": 0.040349,
     "end_time": "2021-03-18T03:09:58.569765",
     "exception": false,
     "start_time": "2021-03-18T03:09:58.529416",
     "status": "completed"
    },
    "tags": []
   },
   "outputs": [],
   "source": [
    "_gene = \"ENSG00000284513\"\n",
    "assert smultixcan_pvalues_combined.loc[_gene, _trait].round(3) == 0.128\n",
    "\n",
    "_gene = \"ENSG00000000971\"\n",
    "assert smultixcan_pvalues_combined.loc[_gene, _trait].round(3) == 0.584"
   ]
  },
  {
   "cell_type": "markdown",
   "metadata": {
    "papermill": {
     "duration": 0.030241,
     "end_time": "2021-03-18T03:09:58.631548",
     "exception": false,
     "start_time": "2021-03-18T03:09:58.601307",
     "status": "completed"
    },
    "tags": []
   },
   "source": [
    "# Save full (all traits, some with EFO, some not)"
   ]
  },
  {
   "cell_type": "code",
   "execution_count": 52,
   "metadata": {
    "execution": {
     "iopub.execute_input": "2021-03-18T03:09:58.695519Z",
     "iopub.status.busy": "2021-03-18T03:09:58.695156Z",
     "iopub.status.idle": "2021-03-18T03:09:58.703138Z",
     "shell.execute_reply": "2021-03-18T03:09:58.702795Z"
    },
    "papermill": {
     "duration": 0.040808,
     "end_time": "2021-03-18T03:09:58.703223",
     "exception": false,
     "start_time": "2021-03-18T03:09:58.662415",
     "status": "completed"
    },
    "tags": []
   },
   "outputs": [
    {
     "data": {
      "text/plain": [
       "(22515, 3752)"
      ]
     },
     "execution_count": 52,
     "metadata": {},
     "output_type": "execute_result"
    }
   ],
   "source": [
    "smultixcan_pvalues_combined.shape"
   ]
  },
  {
   "cell_type": "code",
   "execution_count": 53,
   "metadata": {
    "execution": {
     "iopub.execute_input": "2021-03-18T03:09:58.768131Z",
     "iopub.status.busy": "2021-03-18T03:09:58.767771Z",
     "iopub.status.idle": "2021-03-18T03:09:58.786824Z",
     "shell.execute_reply": "2021-03-18T03:09:58.786516Z"
    },
    "papermill": {
     "duration": 0.052245,
     "end_time": "2021-03-18T03:09:58.786914",
     "exception": false,
     "start_time": "2021-03-18T03:09:58.734669",
     "status": "completed"
    },
    "tags": []
   },
   "outputs": [
    {
     "data": {
      "text/html": [
       "<div>\n",
       "<style scoped>\n",
       "    .dataframe tbody tr th:only-of-type {\n",
       "        vertical-align: middle;\n",
       "    }\n",
       "\n",
       "    .dataframe tbody tr th {\n",
       "        vertical-align: top;\n",
       "    }\n",
       "\n",
       "    .dataframe thead th {\n",
       "        text-align: right;\n",
       "    }\n",
       "</style>\n",
       "<table border=\"1\" class=\"dataframe\">\n",
       "  <thead>\n",
       "    <tr style=\"text-align: right;\">\n",
       "      <th></th>\n",
       "      <th>100001_raw-Food_weight</th>\n",
       "      <th>100002_raw-Energy</th>\n",
       "      <th>100003_raw-Protein</th>\n",
       "      <th>100004_raw-Fat</th>\n",
       "      <th>100005_raw-Carbohydrate</th>\n",
       "      <th>100006_raw-Saturated_fat</th>\n",
       "      <th>100007_raw-Polyunsaturated_fat</th>\n",
       "      <th>100008_raw-Total_sugars</th>\n",
       "      <th>100009_raw-Englyst_dietary_fibre</th>\n",
       "      <th>100010-Portion_size</th>\n",
       "      <th>...</th>\n",
       "      <th>visual impairment</th>\n",
       "      <th>vitiligo</th>\n",
       "      <th>vitreous body disease</th>\n",
       "      <th>vocal cord polyp</th>\n",
       "      <th>voice disorders</th>\n",
       "      <th>wellbeing measurement AND family relationship</th>\n",
       "      <th>wheezing</th>\n",
       "      <th>whooping cough</th>\n",
       "      <th>worry measurement</th>\n",
       "      <th>wrist fracture</th>\n",
       "    </tr>\n",
       "    <tr>\n",
       "      <th>gene_name</th>\n",
       "      <th></th>\n",
       "      <th></th>\n",
       "      <th></th>\n",
       "      <th></th>\n",
       "      <th></th>\n",
       "      <th></th>\n",
       "      <th></th>\n",
       "      <th></th>\n",
       "      <th></th>\n",
       "      <th></th>\n",
       "      <th></th>\n",
       "      <th></th>\n",
       "      <th></th>\n",
       "      <th></th>\n",
       "      <th></th>\n",
       "      <th></th>\n",
       "      <th></th>\n",
       "      <th></th>\n",
       "      <th></th>\n",
       "      <th></th>\n",
       "      <th></th>\n",
       "    </tr>\n",
       "  </thead>\n",
       "  <tbody>\n",
       "    <tr>\n",
       "      <th>ENSG00000000419</th>\n",
       "      <td>0.252026</td>\n",
       "      <td>0.468724</td>\n",
       "      <td>0.927591</td>\n",
       "      <td>0.765578</td>\n",
       "      <td>0.256649</td>\n",
       "      <td>0.170332</td>\n",
       "      <td>0.947602</td>\n",
       "      <td>0.427011</td>\n",
       "      <td>0.548278</td>\n",
       "      <td>0.750749</td>\n",
       "      <td>...</td>\n",
       "      <td>0.718460</td>\n",
       "      <td>0.176496</td>\n",
       "      <td>0.246989</td>\n",
       "      <td>0.403555</td>\n",
       "      <td>0.240767</td>\n",
       "      <td>0.181131</td>\n",
       "      <td>0.081190</td>\n",
       "      <td>0.309046</td>\n",
       "      <td>0.130487</td>\n",
       "      <td>0.274762</td>\n",
       "    </tr>\n",
       "    <tr>\n",
       "      <th>ENSG00000000457</th>\n",
       "      <td>0.536532</td>\n",
       "      <td>0.303888</td>\n",
       "      <td>0.026526</td>\n",
       "      <td>0.445712</td>\n",
       "      <td>0.350088</td>\n",
       "      <td>0.846965</td>\n",
       "      <td>0.280040</td>\n",
       "      <td>0.443678</td>\n",
       "      <td>0.706993</td>\n",
       "      <td>0.497308</td>\n",
       "      <td>...</td>\n",
       "      <td>0.032802</td>\n",
       "      <td>0.898283</td>\n",
       "      <td>0.592864</td>\n",
       "      <td>0.904074</td>\n",
       "      <td>0.604832</td>\n",
       "      <td>0.010916</td>\n",
       "      <td>0.500737</td>\n",
       "      <td>0.045167</td>\n",
       "      <td>0.730846</td>\n",
       "      <td>0.107098</td>\n",
       "    </tr>\n",
       "    <tr>\n",
       "      <th>ENSG00000000460</th>\n",
       "      <td>0.606047</td>\n",
       "      <td>0.686510</td>\n",
       "      <td>0.210803</td>\n",
       "      <td>0.664948</td>\n",
       "      <td>0.679265</td>\n",
       "      <td>0.805480</td>\n",
       "      <td>0.216403</td>\n",
       "      <td>0.407993</td>\n",
       "      <td>0.567332</td>\n",
       "      <td>0.434112</td>\n",
       "      <td>...</td>\n",
       "      <td>0.076910</td>\n",
       "      <td>0.320999</td>\n",
       "      <td>0.583544</td>\n",
       "      <td>0.680090</td>\n",
       "      <td>0.133766</td>\n",
       "      <td>0.171694</td>\n",
       "      <td>0.657535</td>\n",
       "      <td>0.676218</td>\n",
       "      <td>0.821253</td>\n",
       "      <td>0.165486</td>\n",
       "    </tr>\n",
       "    <tr>\n",
       "      <th>ENSG00000000938</th>\n",
       "      <td>0.778878</td>\n",
       "      <td>0.799565</td>\n",
       "      <td>0.379321</td>\n",
       "      <td>0.724310</td>\n",
       "      <td>0.958652</td>\n",
       "      <td>0.853847</td>\n",
       "      <td>0.881896</td>\n",
       "      <td>0.992030</td>\n",
       "      <td>0.716044</td>\n",
       "      <td>0.708022</td>\n",
       "      <td>...</td>\n",
       "      <td>0.511469</td>\n",
       "      <td>0.040752</td>\n",
       "      <td>0.006017</td>\n",
       "      <td>0.913828</td>\n",
       "      <td>0.313331</td>\n",
       "      <td>0.449832</td>\n",
       "      <td>0.370131</td>\n",
       "      <td>0.381548</td>\n",
       "      <td>0.633786</td>\n",
       "      <td>0.091551</td>\n",
       "    </tr>\n",
       "    <tr>\n",
       "      <th>ENSG00000000971</th>\n",
       "      <td>0.583604</td>\n",
       "      <td>0.696627</td>\n",
       "      <td>0.469392</td>\n",
       "      <td>0.243110</td>\n",
       "      <td>0.752039</td>\n",
       "      <td>0.745227</td>\n",
       "      <td>0.106542</td>\n",
       "      <td>0.755472</td>\n",
       "      <td>0.738720</td>\n",
       "      <td>0.070724</td>\n",
       "      <td>...</td>\n",
       "      <td>0.794492</td>\n",
       "      <td>0.518148</td>\n",
       "      <td>0.280036</td>\n",
       "      <td>0.497563</td>\n",
       "      <td>0.142823</td>\n",
       "      <td>0.758332</td>\n",
       "      <td>0.905770</td>\n",
       "      <td>0.155662</td>\n",
       "      <td>0.999998</td>\n",
       "      <td>0.332345</td>\n",
       "    </tr>\n",
       "  </tbody>\n",
       "</table>\n",
       "<p>5 rows × 3752 columns</p>\n",
       "</div>"
      ],
      "text/plain": [
       "                 100001_raw-Food_weight  100002_raw-Energy  \\\n",
       "gene_name                                                    \n",
       "ENSG00000000419                0.252026           0.468724   \n",
       "ENSG00000000457                0.536532           0.303888   \n",
       "ENSG00000000460                0.606047           0.686510   \n",
       "ENSG00000000938                0.778878           0.799565   \n",
       "ENSG00000000971                0.583604           0.696627   \n",
       "\n",
       "                 100003_raw-Protein  100004_raw-Fat  100005_raw-Carbohydrate  \\\n",
       "gene_name                                                                      \n",
       "ENSG00000000419            0.927591        0.765578                 0.256649   \n",
       "ENSG00000000457            0.026526        0.445712                 0.350088   \n",
       "ENSG00000000460            0.210803        0.664948                 0.679265   \n",
       "ENSG00000000938            0.379321        0.724310                 0.958652   \n",
       "ENSG00000000971            0.469392        0.243110                 0.752039   \n",
       "\n",
       "                 100006_raw-Saturated_fat  100007_raw-Polyunsaturated_fat  \\\n",
       "gene_name                                                                   \n",
       "ENSG00000000419                  0.170332                        0.947602   \n",
       "ENSG00000000457                  0.846965                        0.280040   \n",
       "ENSG00000000460                  0.805480                        0.216403   \n",
       "ENSG00000000938                  0.853847                        0.881896   \n",
       "ENSG00000000971                  0.745227                        0.106542   \n",
       "\n",
       "                 100008_raw-Total_sugars  100009_raw-Englyst_dietary_fibre  \\\n",
       "gene_name                                                                    \n",
       "ENSG00000000419                 0.427011                          0.548278   \n",
       "ENSG00000000457                 0.443678                          0.706993   \n",
       "ENSG00000000460                 0.407993                          0.567332   \n",
       "ENSG00000000938                 0.992030                          0.716044   \n",
       "ENSG00000000971                 0.755472                          0.738720   \n",
       "\n",
       "                 100010-Portion_size  ...  visual impairment  vitiligo  \\\n",
       "gene_name                             ...                                \n",
       "ENSG00000000419             0.750749  ...           0.718460  0.176496   \n",
       "ENSG00000000457             0.497308  ...           0.032802  0.898283   \n",
       "ENSG00000000460             0.434112  ...           0.076910  0.320999   \n",
       "ENSG00000000938             0.708022  ...           0.511469  0.040752   \n",
       "ENSG00000000971             0.070724  ...           0.794492  0.518148   \n",
       "\n",
       "                 vitreous body disease  vocal cord polyp  voice disorders  \\\n",
       "gene_name                                                                   \n",
       "ENSG00000000419               0.246989          0.403555         0.240767   \n",
       "ENSG00000000457               0.592864          0.904074         0.604832   \n",
       "ENSG00000000460               0.583544          0.680090         0.133766   \n",
       "ENSG00000000938               0.006017          0.913828         0.313331   \n",
       "ENSG00000000971               0.280036          0.497563         0.142823   \n",
       "\n",
       "                 wellbeing measurement AND family relationship  wheezing  \\\n",
       "gene_name                                                                  \n",
       "ENSG00000000419                                       0.181131  0.081190   \n",
       "ENSG00000000457                                       0.010916  0.500737   \n",
       "ENSG00000000460                                       0.171694  0.657535   \n",
       "ENSG00000000938                                       0.449832  0.370131   \n",
       "ENSG00000000971                                       0.758332  0.905770   \n",
       "\n",
       "                 whooping cough  worry measurement  wrist fracture  \n",
       "gene_name                                                           \n",
       "ENSG00000000419        0.309046           0.130487        0.274762  \n",
       "ENSG00000000457        0.045167           0.730846        0.107098  \n",
       "ENSG00000000460        0.676218           0.821253        0.165486  \n",
       "ENSG00000000938        0.381548           0.633786        0.091551  \n",
       "ENSG00000000971        0.155662           0.999998        0.332345  \n",
       "\n",
       "[5 rows x 3752 columns]"
      ]
     },
     "execution_count": 53,
     "metadata": {},
     "output_type": "execute_result"
    }
   ],
   "source": [
    "smultixcan_pvalues_combined.head()"
   ]
  },
  {
   "cell_type": "markdown",
   "metadata": {
    "papermill": {
     "duration": 0.030782,
     "end_time": "2021-03-18T03:09:58.849553",
     "exception": false,
     "start_time": "2021-03-18T03:09:58.818771",
     "status": "completed"
    },
    "tags": []
   },
   "source": [
    "## Pickle (binary)"
   ]
  },
  {
   "cell_type": "code",
   "execution_count": 54,
   "metadata": {
    "execution": {
     "iopub.execute_input": "2021-03-18T03:09:58.914310Z",
     "iopub.status.busy": "2021-03-18T03:09:58.913945Z",
     "iopub.status.idle": "2021-03-18T03:09:58.921735Z",
     "shell.execute_reply": "2021-03-18T03:09:58.921394Z"
    },
    "papermill": {
     "duration": 0.041216,
     "end_time": "2021-03-18T03:09:58.921818",
     "exception": false,
     "start_time": "2021-03-18T03:09:58.880602",
     "status": "completed"
    },
    "tags": []
   },
   "outputs": [
    {
     "data": {
      "text/plain": [
       "PosixPath('/home/miltondp/projects/labs/greenelab/phenoplier/base/data/phenomexcan/gene_assoc/smultixcan-efo_partial-mashr-pvalues.pkl')"
      ]
     },
     "metadata": {},
     "output_type": "display_data"
    }
   ],
   "source": [
    "output_file = conf.PHENOMEXCAN[\"SMULTIXCAN_EFO_PARTIAL_MASHR_PVALUES_FILE\"]\n",
    "display(output_file)"
   ]
  },
  {
   "cell_type": "code",
   "execution_count": 55,
   "metadata": {
    "execution": {
     "iopub.execute_input": "2021-03-18T03:09:58.988267Z",
     "iopub.status.busy": "2021-03-18T03:09:58.987890Z",
     "iopub.status.idle": "2021-03-18T03:10:02.613989Z",
     "shell.execute_reply": "2021-03-18T03:10:02.612678Z"
    },
    "papermill": {
     "duration": 3.66051,
     "end_time": "2021-03-18T03:10:02.614333",
     "exception": false,
     "start_time": "2021-03-18T03:09:58.953823",
     "status": "completed"
    },
    "tags": []
   },
   "outputs": [],
   "source": [
    "smultixcan_pvalues_combined.to_pickle(output_file)"
   ]
  },
  {
   "cell_type": "markdown",
   "metadata": {
    "papermill": {
     "duration": 0.031202,
     "end_time": "2021-03-18T03:10:02.680986",
     "exception": false,
     "start_time": "2021-03-18T03:10:02.649784",
     "status": "completed"
    },
    "tags": []
   },
   "source": [
    "## TSV (text)"
   ]
  },
  {
   "cell_type": "code",
   "execution_count": 56,
   "metadata": {
    "execution": {
     "iopub.execute_input": "2021-03-18T03:10:02.746345Z",
     "iopub.status.busy": "2021-03-18T03:10:02.745983Z",
     "iopub.status.idle": "2021-03-18T03:10:02.753809Z",
     "shell.execute_reply": "2021-03-18T03:10:02.753439Z"
    },
    "papermill": {
     "duration": 0.041557,
     "end_time": "2021-03-18T03:10:02.753892",
     "exception": false,
     "start_time": "2021-03-18T03:10:02.712335",
     "status": "completed"
    },
    "tags": []
   },
   "outputs": [
    {
     "data": {
      "text/plain": [
       "PosixPath('/home/miltondp/projects/labs/greenelab/phenoplier/base/data/phenomexcan/gene_assoc/smultixcan-efo_partial-mashr-pvalues.tsv.gz')"
      ]
     },
     "metadata": {},
     "output_type": "display_data"
    }
   ],
   "source": [
    "# tsv format\n",
    "output_text_file = output_file.with_suffix(\".tsv.gz\")\n",
    "display(output_text_file)"
   ]
  },
  {
   "cell_type": "code",
   "execution_count": 57,
   "metadata": {
    "execution": {
     "iopub.execute_input": "2021-03-18T03:10:02.821208Z",
     "iopub.status.busy": "2021-03-18T03:10:02.820841Z",
     "iopub.status.idle": "2021-03-18T03:17:41.170323Z",
     "shell.execute_reply": "2021-03-18T03:17:41.170629Z"
    },
    "papermill": {
     "duration": 458.384274,
     "end_time": "2021-03-18T03:17:41.170740",
     "exception": false,
     "start_time": "2021-03-18T03:10:02.786466",
     "status": "completed"
    },
    "tags": []
   },
   "outputs": [],
   "source": [
    "smultixcan_pvalues_combined.to_csv(\n",
    "    output_text_file, sep=\"\\t\", index=True, float_format=\"%.5e\"\n",
    ")"
   ]
  },
  {
   "cell_type": "code",
   "execution_count": null,
   "metadata": {
    "papermill": {
     "duration": 0.031829,
     "end_time": "2021-03-18T03:17:41.235520",
     "exception": false,
     "start_time": "2021-03-18T03:17:41.203691",
     "status": "completed"
    },
    "tags": []
   },
   "outputs": [],
   "source": []
  }
 ],
 "metadata": {
  "jupytext": {
   "cell_metadata_filter": "all,-execution,-papermill,-trusted",
   "formats": "ipynb,py//py:percent"
  },
  "kernelspec": {
   "display_name": "Python 3",
   "language": "python",
   "name": "python3"
  },
  "language_info": {
   "codemirror_mode": {
    "name": "ipython",
    "version": 3
   },
   "file_extension": ".py",
   "mimetype": "text/x-python",
   "name": "python",
   "nbconvert_exporter": "python",
   "pygments_lexer": "ipython3",
   "version": "3.8.8"
  },
  "papermill": {
   "default_parameters": {},
   "duration": 478.319598,
   "end_time": "2021-03-18T03:17:42.442077",
   "environment_variables": {},
   "exception": null,
   "input_path": "01_preprocessing/010_01-smultixcan_pvalues_to_efo.ipynb",
   "output_path": "01_preprocessing/010_01-smultixcan_pvalues_to_efo.run.ipynb",
   "parameters": {},
   "start_time": "2021-03-18T03:09:44.122479",
   "version": "2.2.2"
  },
  "toc-autonumbering": true
 },
 "nbformat": 4,
 "nbformat_minor": 4
}
