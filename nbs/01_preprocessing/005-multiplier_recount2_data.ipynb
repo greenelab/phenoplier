{
 "cells": [
  {
   "cell_type": "markdown",
   "metadata": {
    "papermill": {
     "duration": 0.022218,
     "end_time": "2020-12-11T19:38:19.360502",
     "exception": false,
     "start_time": "2020-12-11T19:38:19.338284",
     "status": "completed"
    },
    "tags": []
   },
   "source": [
    "# Description"
   ]
  },
  {
   "cell_type": "markdown",
   "metadata": {
    "papermill": {
     "duration": 0.01972,
     "end_time": "2020-12-11T19:38:19.401864",
     "exception": false,
     "start_time": "2020-12-11T19:38:19.382144",
     "status": "completed"
    },
    "tags": []
   },
   "source": [
    "This notebook reads 1) the normalized gene expression and 2) pathways from the data processed by\n",
    "MultiPLIER scripts (https://github.com/greenelab/multi-plier) and saves it into a more friendly Python\n",
    "format (Pandas DataFrames as pickle files)."
   ]
  },
  {
   "cell_type": "markdown",
   "metadata": {
    "papermill": {
     "duration": 0.021045,
     "end_time": "2020-12-11T19:38:19.444093",
     "exception": false,
     "start_time": "2020-12-11T19:38:19.423048",
     "status": "completed"
    },
    "tags": []
   },
   "source": [
    "# Modules loading"
   ]
  },
  {
   "cell_type": "code",
   "execution_count": 1,
   "metadata": {
    "execution": {
     "iopub.execute_input": "2020-12-11T19:38:19.490266Z",
     "iopub.status.busy": "2020-12-11T19:38:19.489798Z",
     "iopub.status.idle": "2020-12-11T19:38:19.499126Z",
     "shell.execute_reply": "2020-12-11T19:38:19.498583Z"
    },
    "papermill": {
     "duration": 0.03402,
     "end_time": "2020-12-11T19:38:19.499293",
     "exception": false,
     "start_time": "2020-12-11T19:38:19.465273",
     "status": "completed"
    },
    "tags": []
   },
   "outputs": [],
   "source": [
    "%load_ext autoreload\n",
    "%autoreload 2"
   ]
  },
  {
   "cell_type": "code",
   "execution_count": 2,
   "metadata": {
    "execution": {
     "iopub.execute_input": "2020-12-11T19:38:19.546343Z",
     "iopub.status.busy": "2020-12-11T19:38:19.545824Z",
     "iopub.status.idle": "2020-12-11T19:38:19.946709Z",
     "shell.execute_reply": "2020-12-11T19:38:19.946144Z"
    },
    "papermill": {
     "duration": 0.425798,
     "end_time": "2020-12-11T19:38:19.946829",
     "exception": false,
     "start_time": "2020-12-11T19:38:19.521031",
     "status": "completed"
    },
    "tags": []
   },
   "outputs": [],
   "source": [
    "from pathlib import Path\n",
    "import pickle\n",
    "\n",
    "import numpy as np\n",
    "import pandas as pd\n",
    "\n",
    "import rpy2.robjects as ro\n",
    "from rpy2.robjects import pandas2ri\n",
    "from rpy2.robjects.conversion import localconverter\n",
    "\n",
    "import conf"
   ]
  },
  {
   "cell_type": "code",
   "execution_count": 3,
   "metadata": {
    "execution": {
     "iopub.execute_input": "2020-12-11T19:38:19.990348Z",
     "iopub.status.busy": "2020-12-11T19:38:19.989893Z",
     "iopub.status.idle": "2020-12-11T19:38:19.999817Z",
     "shell.execute_reply": "2020-12-11T19:38:20.000117Z"
    },
    "papermill": {
     "duration": 0.033184,
     "end_time": "2020-12-11T19:38:20.000236",
     "exception": false,
     "start_time": "2020-12-11T19:38:19.967052",
     "status": "completed"
    },
    "tags": []
   },
   "outputs": [],
   "source": [
    "readRDS = ro.r['readRDS']"
   ]
  },
  {
   "cell_type": "markdown",
   "metadata": {
    "papermill": {
     "duration": 0.021169,
     "end_time": "2020-12-11T19:38:20.042593",
     "exception": false,
     "start_time": "2020-12-11T19:38:20.021424",
     "status": "completed"
    },
    "tags": []
   },
   "source": [
    "# Read entire recount data prep file"
   ]
  },
  {
   "cell_type": "code",
   "execution_count": 4,
   "metadata": {
    "execution": {
     "iopub.execute_input": "2020-12-11T19:38:20.087058Z",
     "iopub.status.busy": "2020-12-11T19:38:20.086620Z",
     "iopub.status.idle": "2020-12-11T19:38:20.099391Z",
     "shell.execute_reply": "2020-12-11T19:38:20.099004Z"
    },
    "papermill": {
     "duration": 0.036725,
     "end_time": "2020-12-11T19:38:20.099487",
     "exception": false,
     "start_time": "2020-12-11T19:38:20.062762",
     "status": "completed"
    },
    "tags": []
   },
   "outputs": [
    {
     "data": {
      "text/plain": [
       "PosixPath('/home/miltondp/projects/labs/greenelab/phenoplier/base/data/recount2/recount_data_prep_PLIER.RDS')"
      ]
     },
     "execution_count": 4,
     "metadata": {},
     "output_type": "execute_result"
    }
   ],
   "source": [
    "conf.RECOUNT2['PREPROCESSED_GENE_EXPRESSION_FILE']"
   ]
  },
  {
   "cell_type": "code",
   "execution_count": 5,
   "metadata": {
    "execution": {
     "iopub.execute_input": "2020-12-11T19:38:20.141905Z",
     "iopub.status.busy": "2020-12-11T19:38:20.141442Z",
     "iopub.status.idle": "2020-12-11T19:38:34.722703Z",
     "shell.execute_reply": "2020-12-11T19:38:34.723088Z"
    },
    "papermill": {
     "duration": 14.604403,
     "end_time": "2020-12-11T19:38:34.723232",
     "exception": false,
     "start_time": "2020-12-11T19:38:20.118829",
     "status": "completed"
    },
    "tags": []
   },
   "outputs": [],
   "source": [
    "recount_data_prep = readRDS(str(\n",
    "    conf.RECOUNT2['PREPROCESSED_GENE_EXPRESSION_FILE']\n",
    "))"
   ]
  },
  {
   "cell_type": "markdown",
   "metadata": {
    "papermill": {
     "duration": 0.021429,
     "end_time": "2020-12-11T19:38:34.765353",
     "exception": false,
     "start_time": "2020-12-11T19:38:34.743924",
     "status": "completed"
    },
    "tags": []
   },
   "source": [
    "# Read recount2 gene expression data"
   ]
  },
  {
   "cell_type": "code",
   "execution_count": 6,
   "metadata": {
    "execution": {
     "iopub.execute_input": "2020-12-11T19:38:34.809271Z",
     "iopub.status.busy": "2020-12-11T19:38:34.808774Z",
     "iopub.status.idle": "2020-12-11T19:38:34.817283Z",
     "shell.execute_reply": "2020-12-11T19:38:34.816817Z"
    },
    "papermill": {
     "duration": 0.031272,
     "end_time": "2020-12-11T19:38:34.817440",
     "exception": false,
     "start_time": "2020-12-11T19:38:34.786168",
     "status": "completed"
    },
    "tags": []
   },
   "outputs": [],
   "source": [
    "recount2_rpkl_cm = recount_data_prep.rx2('rpkm.cm')"
   ]
  },
  {
   "cell_type": "code",
   "execution_count": 7,
   "metadata": {
    "execution": {
     "iopub.execute_input": "2020-12-11T19:38:34.860440Z",
     "iopub.status.busy": "2020-12-11T19:38:34.859976Z",
     "iopub.status.idle": "2020-12-11T19:38:34.875114Z",
     "shell.execute_reply": "2020-12-11T19:38:34.875400Z"
    },
    "papermill": {
     "duration": 0.037961,
     "end_time": "2020-12-11T19:38:34.875512",
     "exception": false,
     "start_time": "2020-12-11T19:38:34.837551",
     "status": "completed"
    },
    "tags": []
   },
   "outputs": [
    {
     "data": {
      "text/html": [
       "\n",
       "        <span>R/rpy2 DataFrame (6750 x 37032)</span>\n",
       "        <table>\n",
       "          <thead>\n",
       "            <tr>\n",
       "              \n",
       "              <th>SRP000599.SRR013549</th>\n",
       "              \n",
       "              <th>SRP000599.SRR013550</th>\n",
       "              \n",
       "              <th>SRP000599.SRR013551</th>\n",
       "              \n",
       "              <th>...</th>\n",
       "              \n",
       "              <th>SRP035599.SRR1139382</th>\n",
       "              \n",
       "              <th>SRP035599.SRR1139356</th>\n",
       "              \n",
       "              <th>SRP035599.SRR1139370</th>\n",
       "              \n",
       "            </tr>\n",
       "          </thead>\n",
       "          <tbody>\n",
       "          \n",
       "          <tr>\n",
       "            \n",
       "            <td>\n",
       "              -0.312500\n",
       "            </td>\n",
       "            \n",
       "            <td>\n",
       "              -0.312931\n",
       "            </td>\n",
       "            \n",
       "            <td>\n",
       "              -0.312931\n",
       "            </td>\n",
       "            \n",
       "            <td>\n",
       "              ...\n",
       "            </td>\n",
       "            \n",
       "            <td>\n",
       "              -0.300220\n",
       "            </td>\n",
       "            \n",
       "            <td>\n",
       "              -0.297667\n",
       "            </td>\n",
       "            \n",
       "            <td>\n",
       "              -0.310151\n",
       "            </td>\n",
       "            \n",
       "          </tr>\n",
       "          \n",
       "          <tr>\n",
       "            \n",
       "            <td>\n",
       "              -0.328279\n",
       "            </td>\n",
       "            \n",
       "            <td>\n",
       "              -0.328279\n",
       "            </td>\n",
       "            \n",
       "            <td>\n",
       "              -0.328279\n",
       "            </td>\n",
       "            \n",
       "            <td>\n",
       "              \n",
       "            </td>\n",
       "            \n",
       "            <td>\n",
       "              -0.326339\n",
       "            </td>\n",
       "            \n",
       "            <td>\n",
       "              -0.322127\n",
       "            </td>\n",
       "            \n",
       "            <td>\n",
       "              -0.327438\n",
       "            </td>\n",
       "            \n",
       "          </tr>\n",
       "          \n",
       "          <tr>\n",
       "            \n",
       "            <td>\n",
       "              -0.286319\n",
       "            </td>\n",
       "            \n",
       "            <td>\n",
       "              -0.286859\n",
       "            </td>\n",
       "            \n",
       "            <td>\n",
       "              -0.286859\n",
       "            </td>\n",
       "            \n",
       "            <td>\n",
       "              \n",
       "            </td>\n",
       "            \n",
       "            <td>\n",
       "              -0.286671\n",
       "            </td>\n",
       "            \n",
       "            <td>\n",
       "              -0.286859\n",
       "            </td>\n",
       "            \n",
       "            <td>\n",
       "              -0.286740\n",
       "            </td>\n",
       "            \n",
       "          </tr>\n",
       "          \n",
       "          <tr>\n",
       "            \n",
       "            <td>\n",
       "              -0.536646\n",
       "            </td>\n",
       "            \n",
       "            <td>\n",
       "              -0.536646\n",
       "            </td>\n",
       "            \n",
       "            <td>\n",
       "              -0.536646\n",
       "            </td>\n",
       "            \n",
       "            <td>\n",
       "              \n",
       "            </td>\n",
       "            \n",
       "            <td>\n",
       "              2.458255\n",
       "            </td>\n",
       "            \n",
       "            <td>\n",
       "              2.919662\n",
       "            </td>\n",
       "            \n",
       "            <td>\n",
       "              1.410846\n",
       "            </td>\n",
       "            \n",
       "          </tr>\n",
       "          \n",
       "          <tr>\n",
       "            \n",
       "            <td>\n",
       "              ...\n",
       "            </td>\n",
       "            \n",
       "            <td>\n",
       "              ...\n",
       "            </td>\n",
       "            \n",
       "            <td>\n",
       "              ...\n",
       "            </td>\n",
       "            \n",
       "            <td>\n",
       "              \n",
       "            </td>\n",
       "            \n",
       "            <td>\n",
       "              ...\n",
       "            </td>\n",
       "            \n",
       "            <td>\n",
       "              ...\n",
       "            </td>\n",
       "            \n",
       "            <td>\n",
       "              ...\n",
       "            </td>\n",
       "            \n",
       "          </tr>\n",
       "          \n",
       "          <tr>\n",
       "            \n",
       "            <td>\n",
       "              -0.142179\n",
       "            </td>\n",
       "            \n",
       "            <td>\n",
       "              -0.142384\n",
       "            </td>\n",
       "            \n",
       "            <td>\n",
       "              -0.140314\n",
       "            </td>\n",
       "            \n",
       "            <td>\n",
       "              \n",
       "            </td>\n",
       "            \n",
       "            <td>\n",
       "              -0.139339\n",
       "            </td>\n",
       "            \n",
       "            <td>\n",
       "              -0.142384\n",
       "            </td>\n",
       "            \n",
       "            <td>\n",
       "              -0.142232\n",
       "            </td>\n",
       "            \n",
       "          </tr>\n",
       "          \n",
       "          <tr>\n",
       "            \n",
       "            <td>\n",
       "              -0.349886\n",
       "            </td>\n",
       "            \n",
       "            <td>\n",
       "              -0.349886\n",
       "            </td>\n",
       "            \n",
       "            <td>\n",
       "              -0.349886\n",
       "            </td>\n",
       "            \n",
       "            <td>\n",
       "              \n",
       "            </td>\n",
       "            \n",
       "            <td>\n",
       "              -0.264224\n",
       "            </td>\n",
       "            \n",
       "            <td>\n",
       "              0.020815\n",
       "            </td>\n",
       "            \n",
       "            <td>\n",
       "              -0.324208\n",
       "            </td>\n",
       "            \n",
       "          </tr>\n",
       "          \n",
       "          <tr>\n",
       "            \n",
       "            <td>\n",
       "              -0.085582\n",
       "            </td>\n",
       "            \n",
       "            <td>\n",
       "              -0.085582\n",
       "            </td>\n",
       "            \n",
       "            <td>\n",
       "              -0.085582\n",
       "            </td>\n",
       "            \n",
       "            <td>\n",
       "              \n",
       "            </td>\n",
       "            \n",
       "            <td>\n",
       "              0.603333\n",
       "            </td>\n",
       "            \n",
       "            <td>\n",
       "              0.915213\n",
       "            </td>\n",
       "            \n",
       "            <td>\n",
       "              1.788489\n",
       "            </td>\n",
       "            \n",
       "          </tr>\n",
       "          \n",
       "          <tr>\n",
       "            \n",
       "            <td>\n",
       "              -0.567112\n",
       "            </td>\n",
       "            \n",
       "            <td>\n",
       "              -0.569146\n",
       "            </td>\n",
       "            \n",
       "            <td>\n",
       "              -0.569146\n",
       "            </td>\n",
       "            \n",
       "            <td>\n",
       "              \n",
       "            </td>\n",
       "            \n",
       "            <td>\n",
       "              -0.455832\n",
       "            </td>\n",
       "            \n",
       "            <td>\n",
       "              -0.378093\n",
       "            </td>\n",
       "            \n",
       "            <td>\n",
       "              -0.491513\n",
       "            </td>\n",
       "            \n",
       "          </tr>\n",
       "          \n",
       "          </tbody>\n",
       "        </table>\n",
       "    "
      ],
      "text/plain": [
       "R object with classes: ('data.frame',) mapped to:\n",
       "[FloatSexp..., FloatSexp..., FloatSexp..., FloatSexp..., ..., FloatSexp..., FloatSexp..., FloatSexp..., FloatSexp...]\n",
       "  SRP000599.SRR013549: <class 'rpy2.robjects.vectors.FloatVector'>\n",
       "  R object with classes: ('numeric',) mapped to:\n",
       "[-0.312500, -0.328279, -0.286319, -0.536646, ..., -0.142179, -0.349886, -0.085582, -0.567112]\n",
       "  SRP000599.SRR013550: <class 'rpy2.robjects.vectors.FloatVector'>\n",
       "  R object with classes: ('numeric',) mapped to:\n",
       "[-0.312931, -0.328279, -0.286859, -0.536646, ..., -0.142384, -0.349886, -0.085582, -0.569146]\n",
       "  SRP000599.SRR013551: <class 'rpy2.robjects.vectors.FloatVector'>\n",
       "  R object with classes: ('numeric',) mapped to:\n",
       "[-0.312931, -0.328279, -0.286859, -0.536646, ..., -0.140314, -0.349886, -0.085582, -0.569146]\n",
       "  SRP000599.SRR013552: <class 'rpy2.robjects.vectors.FloatVector'>\n",
       "  R object with classes: ('numeric',) mapped to:\n",
       "[-0.312931, -0.328279, -0.286859, -0.536646, ..., -0.142384, -0.349886, -0.085582, -0.569146]\n",
       "...\n",
       "  SRP000599.SRR013554: <class 'rpy2.robjects.vectors.FloatVector'>\n",
       "  R object with classes: ('numeric',) mapped to:\n",
       "[-0.309599, -0.326375, -0.286859, 1.507099, ..., -0.142304, -0.149655, 1.280258, -0.340927]\n",
       "  SRP000599.SRR013555: <class 'rpy2.robjects.vectors.FloatVector'>\n",
       "  R object with classes: ('numeric',) mapped to:\n",
       "[-0.300220, -0.326339, -0.286671, 2.458255, ..., -0.139339, -0.264224, 0.603333, -0.455832]\n",
       "  SRP000599.SRR013556: <class 'rpy2.robjects.vectors.FloatVector'>\n",
       "  R object with classes: ('numeric',) mapped to:\n",
       "[-0.297667, -0.322127, -0.286859, 2.919662, ..., -0.142384, 0.020815, 0.915213, -0.378093]\n",
       "  SRP000599.SRR013557: <class 'rpy2.robjects.vectors.FloatVector'>\n",
       "  R object with classes: ('numeric',) mapped to:\n",
       "[-0.310151, -0.327438, -0.286740, 1.410846, ..., -0.142232, -0.324208, 1.788489, -0.491513]"
      ]
     },
     "execution_count": 7,
     "metadata": {},
     "output_type": "execute_result"
    }
   ],
   "source": [
    "recount2_rpkl_cm"
   ]
  },
  {
   "cell_type": "code",
   "execution_count": 8,
   "metadata": {
    "execution": {
     "iopub.execute_input": "2020-12-11T19:38:34.916768Z",
     "iopub.status.busy": "2020-12-11T19:38:34.916353Z",
     "iopub.status.idle": "2020-12-11T19:38:34.925301Z",
     "shell.execute_reply": "2020-12-11T19:38:34.924856Z"
    },
    "papermill": {
     "duration": 0.029763,
     "end_time": "2020-12-11T19:38:34.925395",
     "exception": false,
     "start_time": "2020-12-11T19:38:34.895632",
     "status": "completed"
    },
    "tags": []
   },
   "outputs": [
    {
     "data": {
      "text/html": [
       "\n",
       "        <span>StrVector with 6750 elements.</span>\n",
       "        <table>\n",
       "        <tbody>\n",
       "          <tr>\n",
       "          \n",
       "            <td>\n",
       "            'GAS6'\n",
       "            </td>\n",
       "          \n",
       "            <td>\n",
       "            'MMP14'\n",
       "            </td>\n",
       "          \n",
       "            <td>\n",
       "            'DSP'\n",
       "            </td>\n",
       "          \n",
       "            <td>\n",
       "            ...\n",
       "            </td>\n",
       "          \n",
       "            <td>\n",
       "            'PLEKHG6'\n",
       "            </td>\n",
       "          \n",
       "            <td>\n",
       "            'GNGT2'\n",
       "            </td>\n",
       "          \n",
       "            <td>\n",
       "            'SERPINH1'\n",
       "            </td>\n",
       "          \n",
       "          </tr>\n",
       "        </tbody>\n",
       "        </table>\n",
       "        "
      ],
      "text/plain": [
       "R object with classes: ('character',) mapped to:\n",
       "['GAS6', 'MMP14', 'DSP', 'MARCKSL1', ..., 'NFIB', 'PLEKHG6', 'GNGT2', 'SERPINH1']"
      ]
     },
     "execution_count": 8,
     "metadata": {},
     "output_type": "execute_result"
    }
   ],
   "source": [
    "recount2_rpkl_cm.rownames"
   ]
  },
  {
   "cell_type": "code",
   "execution_count": 9,
   "metadata": {
    "execution": {
     "iopub.execute_input": "2020-12-11T19:38:34.967732Z",
     "iopub.status.busy": "2020-12-11T19:38:34.967337Z",
     "iopub.status.idle": "2020-12-11T19:38:34.977310Z",
     "shell.execute_reply": "2020-12-11T19:38:34.977643Z"
    },
    "papermill": {
     "duration": 0.032618,
     "end_time": "2020-12-11T19:38:34.977783",
     "exception": false,
     "start_time": "2020-12-11T19:38:34.945165",
     "status": "completed"
    },
    "tags": []
   },
   "outputs": [
    {
     "data": {
      "text/html": [
       "\n",
       "        <span>StrVector with 37032 elements.</span>\n",
       "        <table>\n",
       "        <tbody>\n",
       "          <tr>\n",
       "          \n",
       "            <td>\n",
       "            'SRP00059...\n",
       "            </td>\n",
       "          \n",
       "            <td>\n",
       "            'SRP00059...\n",
       "            </td>\n",
       "          \n",
       "            <td>\n",
       "            'SRP00059...\n",
       "            </td>\n",
       "          \n",
       "            <td>\n",
       "            ...\n",
       "            </td>\n",
       "          \n",
       "            <td>\n",
       "            'SRP03559...\n",
       "            </td>\n",
       "          \n",
       "            <td>\n",
       "            'SRP03559...\n",
       "            </td>\n",
       "          \n",
       "            <td>\n",
       "            'SRP03559...\n",
       "            </td>\n",
       "          \n",
       "          </tr>\n",
       "        </tbody>\n",
       "        </table>\n",
       "        "
      ],
      "text/plain": [
       "R object with classes: ('character',) mapped to:\n",
       "['SRP00059..., 'SRP00059..., 'SRP00059..., 'SRP00059..., ..., 'SRP03559..., 'SRP03559..., 'SRP03559..., 'SRP03559...]"
      ]
     },
     "execution_count": 9,
     "metadata": {},
     "output_type": "execute_result"
    }
   ],
   "source": [
    "recount2_rpkl_cm.colnames"
   ]
  },
  {
   "cell_type": "code",
   "execution_count": 10,
   "metadata": {
    "execution": {
     "iopub.execute_input": "2020-12-11T19:38:35.024064Z",
     "iopub.status.busy": "2020-12-11T19:38:35.023610Z",
     "iopub.status.idle": "2020-12-11T19:38:39.923694Z",
     "shell.execute_reply": "2020-12-11T19:38:39.924001Z"
    },
    "papermill": {
     "duration": 4.924062,
     "end_time": "2020-12-11T19:38:39.924121",
     "exception": false,
     "start_time": "2020-12-11T19:38:35.000059",
     "status": "completed"
    },
    "tags": []
   },
   "outputs": [],
   "source": [
    "with localconverter(ro.default_converter + pandas2ri.converter):\n",
    "  recount2_rpkl_cm = ro.conversion.rpy2py(recount2_rpkl_cm)"
   ]
  },
  {
   "cell_type": "code",
   "execution_count": 11,
   "metadata": {
    "execution": {
     "iopub.execute_input": "2020-12-11T19:38:39.968993Z",
     "iopub.status.busy": "2020-12-11T19:38:39.968558Z",
     "iopub.status.idle": "2020-12-11T19:38:39.976496Z",
     "shell.execute_reply": "2020-12-11T19:38:39.976007Z"
    },
    "papermill": {
     "duration": 0.029254,
     "end_time": "2020-12-11T19:38:39.976592",
     "exception": false,
     "start_time": "2020-12-11T19:38:39.947338",
     "status": "completed"
    },
    "tags": []
   },
   "outputs": [],
   "source": [
    "# recount2_rpkl_cm = pd.DataFrame(\n",
    "#     data=pandas2ri.ri2py(recount2_rpkl_cm).values,\n",
    "#     index=recount2_rpkl_cm.rownames,\n",
    "#     columns=recount2_rpkl_cm.colnames,\n",
    "# )"
   ]
  },
  {
   "cell_type": "code",
   "execution_count": 12,
   "metadata": {
    "execution": {
     "iopub.execute_input": "2020-12-11T19:38:40.019770Z",
     "iopub.status.busy": "2020-12-11T19:38:40.019401Z",
     "iopub.status.idle": "2020-12-11T19:38:40.027744Z",
     "shell.execute_reply": "2020-12-11T19:38:40.027358Z"
    },
    "papermill": {
     "duration": 0.031644,
     "end_time": "2020-12-11T19:38:40.027865",
     "exception": false,
     "start_time": "2020-12-11T19:38:39.996221",
     "status": "completed"
    },
    "tags": []
   },
   "outputs": [],
   "source": [
    "assert recount2_rpkl_cm.shape == (6750, 37032)"
   ]
  },
  {
   "cell_type": "code",
   "execution_count": 13,
   "metadata": {
    "execution": {
     "iopub.execute_input": "2020-12-11T19:38:40.074968Z",
     "iopub.status.busy": "2020-12-11T19:38:40.074605Z",
     "iopub.status.idle": "2020-12-11T19:38:40.082903Z",
     "shell.execute_reply": "2020-12-11T19:38:40.082534Z"
    },
    "papermill": {
     "duration": 0.032357,
     "end_time": "2020-12-11T19:38:40.082991",
     "exception": false,
     "start_time": "2020-12-11T19:38:40.050634",
     "status": "completed"
    },
    "tags": []
   },
   "outputs": [
    {
     "data": {
      "text/plain": [
       "(6750, 37032)"
      ]
     },
     "execution_count": 13,
     "metadata": {},
     "output_type": "execute_result"
    }
   ],
   "source": [
    "recount2_rpkl_cm.shape"
   ]
  },
  {
   "cell_type": "code",
   "execution_count": 14,
   "metadata": {
    "execution": {
     "iopub.execute_input": "2020-12-11T19:38:40.131443Z",
     "iopub.status.busy": "2020-12-11T19:38:40.130975Z",
     "iopub.status.idle": "2020-12-11T19:38:40.158575Z",
     "shell.execute_reply": "2020-12-11T19:38:40.158190Z"
    },
    "papermill": {
     "duration": 0.053342,
     "end_time": "2020-12-11T19:38:40.158696",
     "exception": false,
     "start_time": "2020-12-11T19:38:40.105354",
     "status": "completed"
    },
    "tags": []
   },
   "outputs": [
    {
     "data": {
      "text/html": [
       "<div>\n",
       "<style scoped>\n",
       "    .dataframe tbody tr th:only-of-type {\n",
       "        vertical-align: middle;\n",
       "    }\n",
       "\n",
       "    .dataframe tbody tr th {\n",
       "        vertical-align: top;\n",
       "    }\n",
       "\n",
       "    .dataframe thead th {\n",
       "        text-align: right;\n",
       "    }\n",
       "</style>\n",
       "<table border=\"1\" class=\"dataframe\">\n",
       "  <thead>\n",
       "    <tr style=\"text-align: right;\">\n",
       "      <th></th>\n",
       "      <th>SRP000599.SRR013549</th>\n",
       "      <th>SRP000599.SRR013550</th>\n",
       "      <th>SRP000599.SRR013551</th>\n",
       "      <th>SRP000599.SRR013552</th>\n",
       "      <th>SRP000599.SRR013553</th>\n",
       "      <th>SRP000599.SRR013554</th>\n",
       "      <th>SRP000599.SRR013555</th>\n",
       "      <th>SRP000599.SRR013556</th>\n",
       "      <th>SRP000599.SRR013557</th>\n",
       "      <th>SRP000599.SRR013558</th>\n",
       "      <th>...</th>\n",
       "      <th>SRP035599.SRR1139372</th>\n",
       "      <th>SRP035599.SRR1139393</th>\n",
       "      <th>SRP035599.SRR1139388</th>\n",
       "      <th>SRP035599.SRR1139378</th>\n",
       "      <th>SRP035599.SRR1139399</th>\n",
       "      <th>SRP035599.SRR1139386</th>\n",
       "      <th>SRP035599.SRR1139375</th>\n",
       "      <th>SRP035599.SRR1139382</th>\n",
       "      <th>SRP035599.SRR1139356</th>\n",
       "      <th>SRP035599.SRR1139370</th>\n",
       "    </tr>\n",
       "  </thead>\n",
       "  <tbody>\n",
       "    <tr>\n",
       "      <th>GAS6</th>\n",
       "      <td>-0.312500</td>\n",
       "      <td>-0.312931</td>\n",
       "      <td>-0.312931</td>\n",
       "      <td>-0.312931</td>\n",
       "      <td>-0.312931</td>\n",
       "      <td>-0.308253</td>\n",
       "      <td>-0.312931</td>\n",
       "      <td>-0.312931</td>\n",
       "      <td>-0.312931</td>\n",
       "      <td>-0.312931</td>\n",
       "      <td>...</td>\n",
       "      <td>-0.301711</td>\n",
       "      <td>-0.305581</td>\n",
       "      <td>-0.303344</td>\n",
       "      <td>-0.297800</td>\n",
       "      <td>-0.307122</td>\n",
       "      <td>-0.285499</td>\n",
       "      <td>-0.309599</td>\n",
       "      <td>-0.300220</td>\n",
       "      <td>-0.297667</td>\n",
       "      <td>-0.310151</td>\n",
       "    </tr>\n",
       "    <tr>\n",
       "      <th>MMP14</th>\n",
       "      <td>-0.328279</td>\n",
       "      <td>-0.328279</td>\n",
       "      <td>-0.328279</td>\n",
       "      <td>-0.328279</td>\n",
       "      <td>-0.328279</td>\n",
       "      <td>-0.328279</td>\n",
       "      <td>-0.328279</td>\n",
       "      <td>-0.328279</td>\n",
       "      <td>-0.328279</td>\n",
       "      <td>-0.325140</td>\n",
       "      <td>...</td>\n",
       "      <td>-0.314587</td>\n",
       "      <td>-0.322952</td>\n",
       "      <td>-0.326439</td>\n",
       "      <td>-0.325994</td>\n",
       "      <td>-0.326272</td>\n",
       "      <td>-0.322523</td>\n",
       "      <td>-0.326375</td>\n",
       "      <td>-0.326339</td>\n",
       "      <td>-0.322127</td>\n",
       "      <td>-0.327438</td>\n",
       "    </tr>\n",
       "    <tr>\n",
       "      <th>DSP</th>\n",
       "      <td>-0.286319</td>\n",
       "      <td>-0.286859</td>\n",
       "      <td>-0.286859</td>\n",
       "      <td>-0.286859</td>\n",
       "      <td>-0.286859</td>\n",
       "      <td>-0.286859</td>\n",
       "      <td>-0.277195</td>\n",
       "      <td>-0.256862</td>\n",
       "      <td>-0.278790</td>\n",
       "      <td>-0.269701</td>\n",
       "      <td>...</td>\n",
       "      <td>-0.286859</td>\n",
       "      <td>-0.286859</td>\n",
       "      <td>-0.286745</td>\n",
       "      <td>-0.286688</td>\n",
       "      <td>-0.286725</td>\n",
       "      <td>-0.286529</td>\n",
       "      <td>-0.286859</td>\n",
       "      <td>-0.286671</td>\n",
       "      <td>-0.286859</td>\n",
       "      <td>-0.286740</td>\n",
       "    </tr>\n",
       "    <tr>\n",
       "      <th>MARCKSL1</th>\n",
       "      <td>-0.536646</td>\n",
       "      <td>-0.536646</td>\n",
       "      <td>-0.536646</td>\n",
       "      <td>-0.536646</td>\n",
       "      <td>-0.536646</td>\n",
       "      <td>-0.536646</td>\n",
       "      <td>-0.536646</td>\n",
       "      <td>-0.536646</td>\n",
       "      <td>-0.536646</td>\n",
       "      <td>-0.536646</td>\n",
       "      <td>...</td>\n",
       "      <td>0.807663</td>\n",
       "      <td>1.294564</td>\n",
       "      <td>1.527655</td>\n",
       "      <td>1.404788</td>\n",
       "      <td>1.047931</td>\n",
       "      <td>0.892119</td>\n",
       "      <td>1.507099</td>\n",
       "      <td>2.458255</td>\n",
       "      <td>2.919662</td>\n",
       "      <td>1.410846</td>\n",
       "    </tr>\n",
       "    <tr>\n",
       "      <th>SPARC</th>\n",
       "      <td>-0.370498</td>\n",
       "      <td>-0.370498</td>\n",
       "      <td>-0.369171</td>\n",
       "      <td>-0.370498</td>\n",
       "      <td>-0.370498</td>\n",
       "      <td>-0.370498</td>\n",
       "      <td>-0.370498</td>\n",
       "      <td>-0.370498</td>\n",
       "      <td>-0.370498</td>\n",
       "      <td>-0.370498</td>\n",
       "      <td>...</td>\n",
       "      <td>-0.345409</td>\n",
       "      <td>-0.310750</td>\n",
       "      <td>-0.348120</td>\n",
       "      <td>-0.356938</td>\n",
       "      <td>-0.355206</td>\n",
       "      <td>-0.366197</td>\n",
       "      <td>-0.351174</td>\n",
       "      <td>-0.363703</td>\n",
       "      <td>-0.350825</td>\n",
       "      <td>-0.360762</td>\n",
       "    </tr>\n",
       "  </tbody>\n",
       "</table>\n",
       "<p>5 rows × 37032 columns</p>\n",
       "</div>"
      ],
      "text/plain": [
       "          SRP000599.SRR013549  SRP000599.SRR013550  SRP000599.SRR013551  \\\n",
       "GAS6                -0.312500            -0.312931            -0.312931   \n",
       "MMP14               -0.328279            -0.328279            -0.328279   \n",
       "DSP                 -0.286319            -0.286859            -0.286859   \n",
       "MARCKSL1            -0.536646            -0.536646            -0.536646   \n",
       "SPARC               -0.370498            -0.370498            -0.369171   \n",
       "\n",
       "          SRP000599.SRR013552  SRP000599.SRR013553  SRP000599.SRR013554  \\\n",
       "GAS6                -0.312931            -0.312931            -0.308253   \n",
       "MMP14               -0.328279            -0.328279            -0.328279   \n",
       "DSP                 -0.286859            -0.286859            -0.286859   \n",
       "MARCKSL1            -0.536646            -0.536646            -0.536646   \n",
       "SPARC               -0.370498            -0.370498            -0.370498   \n",
       "\n",
       "          SRP000599.SRR013555  SRP000599.SRR013556  SRP000599.SRR013557  \\\n",
       "GAS6                -0.312931            -0.312931            -0.312931   \n",
       "MMP14               -0.328279            -0.328279            -0.328279   \n",
       "DSP                 -0.277195            -0.256862            -0.278790   \n",
       "MARCKSL1            -0.536646            -0.536646            -0.536646   \n",
       "SPARC               -0.370498            -0.370498            -0.370498   \n",
       "\n",
       "          SRP000599.SRR013558  ...  SRP035599.SRR1139372  \\\n",
       "GAS6                -0.312931  ...             -0.301711   \n",
       "MMP14               -0.325140  ...             -0.314587   \n",
       "DSP                 -0.269701  ...             -0.286859   \n",
       "MARCKSL1            -0.536646  ...              0.807663   \n",
       "SPARC               -0.370498  ...             -0.345409   \n",
       "\n",
       "          SRP035599.SRR1139393  SRP035599.SRR1139388  SRP035599.SRR1139378  \\\n",
       "GAS6                 -0.305581             -0.303344             -0.297800   \n",
       "MMP14                -0.322952             -0.326439             -0.325994   \n",
       "DSP                  -0.286859             -0.286745             -0.286688   \n",
       "MARCKSL1              1.294564              1.527655              1.404788   \n",
       "SPARC                -0.310750             -0.348120             -0.356938   \n",
       "\n",
       "          SRP035599.SRR1139399  SRP035599.SRR1139386  SRP035599.SRR1139375  \\\n",
       "GAS6                 -0.307122             -0.285499             -0.309599   \n",
       "MMP14                -0.326272             -0.322523             -0.326375   \n",
       "DSP                  -0.286725             -0.286529             -0.286859   \n",
       "MARCKSL1              1.047931              0.892119              1.507099   \n",
       "SPARC                -0.355206             -0.366197             -0.351174   \n",
       "\n",
       "          SRP035599.SRR1139382  SRP035599.SRR1139356  SRP035599.SRR1139370  \n",
       "GAS6                 -0.300220             -0.297667             -0.310151  \n",
       "MMP14                -0.326339             -0.322127             -0.327438  \n",
       "DSP                  -0.286671             -0.286859             -0.286740  \n",
       "MARCKSL1              2.458255              2.919662              1.410846  \n",
       "SPARC                -0.363703             -0.350825             -0.360762  \n",
       "\n",
       "[5 rows x 37032 columns]"
      ]
     },
     "execution_count": 14,
     "metadata": {},
     "output_type": "execute_result"
    }
   ],
   "source": [
    "recount2_rpkl_cm.head()"
   ]
  },
  {
   "cell_type": "markdown",
   "metadata": {
    "papermill": {
     "duration": 0.022322,
     "end_time": "2020-12-11T19:38:40.202899",
     "exception": false,
     "start_time": "2020-12-11T19:38:40.180577",
     "status": "completed"
    },
    "tags": []
   },
   "source": [
    "## Testing"
   ]
  },
  {
   "cell_type": "markdown",
   "metadata": {
    "papermill": {
     "duration": 0.022454,
     "end_time": "2020-12-11T19:38:40.248543",
     "exception": false,
     "start_time": "2020-12-11T19:38:40.226089",
     "status": "completed"
    },
    "tags": []
   },
   "source": [
    "Test whether what I load from a plain R session is the same as in here."
   ]
  },
  {
   "cell_type": "code",
   "execution_count": 15,
   "metadata": {
    "execution": {
     "iopub.execute_input": "2020-12-11T19:38:40.296700Z",
     "iopub.status.busy": "2020-12-11T19:38:40.296262Z",
     "iopub.status.idle": "2020-12-11T19:38:40.307620Z",
     "shell.execute_reply": "2020-12-11T19:38:40.307237Z"
    },
    "papermill": {
     "duration": 0.036367,
     "end_time": "2020-12-11T19:38:40.307711",
     "exception": false,
     "start_time": "2020-12-11T19:38:40.271344",
     "status": "completed"
    },
    "tags": []
   },
   "outputs": [
    {
     "data": {
      "text/plain": [
       "-0.3124999764074366"
      ]
     },
     "execution_count": 15,
     "metadata": {},
     "output_type": "execute_result"
    }
   ],
   "source": [
    "recount2_rpkl_cm.loc['GAS6', 'SRP000599.SRR013549']"
   ]
  },
  {
   "cell_type": "code",
   "execution_count": 16,
   "metadata": {
    "execution": {
     "iopub.execute_input": "2020-12-11T19:38:40.356088Z",
     "iopub.status.busy": "2020-12-11T19:38:40.355642Z",
     "iopub.status.idle": "2020-12-11T19:38:40.366046Z",
     "shell.execute_reply": "2020-12-11T19:38:40.366362Z"
    },
    "papermill": {
     "duration": 0.037225,
     "end_time": "2020-12-11T19:38:40.366492",
     "exception": false,
     "start_time": "2020-12-11T19:38:40.329267",
     "status": "completed"
    },
    "tags": []
   },
   "outputs": [],
   "source": [
    "assert recount2_rpkl_cm.loc['GAS6', 'SRP000599.SRR013549'].round(4) == -0.3125"
   ]
  },
  {
   "cell_type": "code",
   "execution_count": 17,
   "metadata": {
    "execution": {
     "iopub.execute_input": "2020-12-11T19:38:40.414813Z",
     "iopub.status.busy": "2020-12-11T19:38:40.414374Z",
     "iopub.status.idle": "2020-12-11T19:38:40.423085Z",
     "shell.execute_reply": "2020-12-11T19:38:40.422654Z"
    },
    "papermill": {
     "duration": 0.033094,
     "end_time": "2020-12-11T19:38:40.423206",
     "exception": false,
     "start_time": "2020-12-11T19:38:40.390112",
     "status": "completed"
    },
    "tags": []
   },
   "outputs": [],
   "source": [
    "assert recount2_rpkl_cm.loc['GAS6', 'SRP045352.SRR1539229'].round(7) == -0.2843801"
   ]
  },
  {
   "cell_type": "code",
   "execution_count": 18,
   "metadata": {
    "execution": {
     "iopub.execute_input": "2020-12-11T19:38:40.472680Z",
     "iopub.status.busy": "2020-12-11T19:38:40.472250Z",
     "iopub.status.idle": "2020-12-11T19:38:40.480974Z",
     "shell.execute_reply": "2020-12-11T19:38:40.480567Z"
    },
    "papermill": {
     "duration": 0.034978,
     "end_time": "2020-12-11T19:38:40.481111",
     "exception": false,
     "start_time": "2020-12-11T19:38:40.446133",
     "status": "completed"
    },
    "tags": []
   },
   "outputs": [],
   "source": [
    "assert recount2_rpkl_cm.loc['CFL2', 'SRP056840.SRR1951636'].round(7) == -0.3412832"
   ]
  },
  {
   "cell_type": "code",
   "execution_count": 19,
   "metadata": {
    "execution": {
     "iopub.execute_input": "2020-12-11T19:38:40.527118Z",
     "iopub.status.busy": "2020-12-11T19:38:40.526678Z",
     "iopub.status.idle": "2020-12-11T19:38:40.536279Z",
     "shell.execute_reply": "2020-12-11T19:38:40.535802Z"
    },
    "papermill": {
     "duration": 0.033706,
     "end_time": "2020-12-11T19:38:40.536369",
     "exception": false,
     "start_time": "2020-12-11T19:38:40.502663",
     "status": "completed"
    },
    "tags": []
   },
   "outputs": [
    {
     "data": {
      "text/plain": [
       "-0.49388522390959116"
      ]
     },
     "execution_count": 19,
     "metadata": {},
     "output_type": "execute_result"
    }
   ],
   "source": [
    "recount2_rpkl_cm.iloc[9, 16]"
   ]
  },
  {
   "cell_type": "code",
   "execution_count": 20,
   "metadata": {
    "execution": {
     "iopub.execute_input": "2020-12-11T19:38:40.591958Z",
     "iopub.status.busy": "2020-12-11T19:38:40.585663Z",
     "iopub.status.idle": "2020-12-11T19:38:40.593417Z",
     "shell.execute_reply": "2020-12-11T19:38:40.593758Z"
    },
    "papermill": {
     "duration": 0.033955,
     "end_time": "2020-12-11T19:38:40.593874",
     "exception": false,
     "start_time": "2020-12-11T19:38:40.559919",
     "status": "completed"
    },
    "tags": []
   },
   "outputs": [],
   "source": [
    "assert recount2_rpkl_cm.iloc[9, 16].round(7) == -0.4938852"
   ]
  },
  {
   "cell_type": "markdown",
   "metadata": {
    "papermill": {
     "duration": 0.02355,
     "end_time": "2020-12-11T19:38:40.639322",
     "exception": false,
     "start_time": "2020-12-11T19:38:40.615772",
     "status": "completed"
    },
    "tags": []
   },
   "source": [
    "## Save"
   ]
  },
  {
   "cell_type": "code",
   "execution_count": 21,
   "metadata": {
    "execution": {
     "iopub.execute_input": "2020-12-11T19:38:40.686482Z",
     "iopub.status.busy": "2020-12-11T19:38:40.686085Z",
     "iopub.status.idle": "2020-12-11T19:38:40.694751Z",
     "shell.execute_reply": "2020-12-11T19:38:40.695123Z"
    },
    "papermill": {
     "duration": 0.033325,
     "end_time": "2020-12-11T19:38:40.695236",
     "exception": false,
     "start_time": "2020-12-11T19:38:40.661911",
     "status": "completed"
    },
    "tags": []
   },
   "outputs": [
    {
     "data": {
      "text/plain": [
       "PosixPath('/home/miltondp/projects/labs/greenelab/phenoplier/base/data/recount2/recount_data_prep_PLIER.pkl')"
      ]
     },
     "metadata": {},
     "output_type": "display_data"
    }
   ],
   "source": [
    "output_filename = Path(\n",
    "    conf.RECOUNT2['BASE_DIR'],\n",
    "    'recount_data_prep_PLIER.pkl'\n",
    ").resolve()\n",
    "\n",
    "display(output_filename)"
   ]
  },
  {
   "cell_type": "code",
   "execution_count": 22,
   "metadata": {
    "execution": {
     "iopub.execute_input": "2020-12-11T19:38:40.744468Z",
     "iopub.status.busy": "2020-12-11T19:38:40.744039Z",
     "iopub.status.idle": "2020-12-11T19:38:52.825084Z",
     "shell.execute_reply": "2020-12-11T19:38:52.823459Z"
    },
    "papermill": {
     "duration": 12.10829,
     "end_time": "2020-12-11T19:38:52.825435",
     "exception": false,
     "start_time": "2020-12-11T19:38:40.717145",
     "status": "completed"
    },
    "tags": []
   },
   "outputs": [],
   "source": [
    "recount2_rpkl_cm.to_pickle(output_filename)"
   ]
  },
  {
   "cell_type": "code",
   "execution_count": 23,
   "metadata": {
    "execution": {
     "iopub.execute_input": "2020-12-11T19:38:52.873678Z",
     "iopub.status.busy": "2020-12-11T19:38:52.873225Z",
     "iopub.status.idle": "2020-12-11T19:38:52.881083Z",
     "shell.execute_reply": "2020-12-11T19:38:52.881425Z"
    },
    "papermill": {
     "duration": 0.033803,
     "end_time": "2020-12-11T19:38:52.881567",
     "exception": false,
     "start_time": "2020-12-11T19:38:52.847764",
     "status": "completed"
    },
    "tags": []
   },
   "outputs": [],
   "source": [
    "# from utils.hdf5 import simplify_string_for_hdf5"
   ]
  },
  {
   "cell_type": "code",
   "execution_count": 24,
   "metadata": {
    "execution": {
     "iopub.execute_input": "2020-12-11T19:38:52.931951Z",
     "iopub.status.busy": "2020-12-11T19:38:52.931546Z",
     "iopub.status.idle": "2020-12-11T19:38:52.940136Z",
     "shell.execute_reply": "2020-12-11T19:38:52.939690Z"
    },
    "papermill": {
     "duration": 0.034516,
     "end_time": "2020-12-11T19:38:52.940283",
     "exception": false,
     "start_time": "2020-12-11T19:38:52.905767",
     "status": "completed"
    },
    "tags": []
   },
   "outputs": [],
   "source": [
    "# output_filename = os.path.join(conf.DATA_DIR, 'recount_data_prep_PLIER.h5')\n",
    "# display(output_filename)"
   ]
  },
  {
   "cell_type": "code",
   "execution_count": 25,
   "metadata": {
    "execution": {
     "iopub.execute_input": "2020-12-11T19:38:52.992185Z",
     "iopub.status.busy": "2020-12-11T19:38:52.991730Z",
     "iopub.status.idle": "2020-12-11T19:38:52.999857Z",
     "shell.execute_reply": "2020-12-11T19:38:53.000187Z"
    },
    "papermill": {
     "duration": 0.035502,
     "end_time": "2020-12-11T19:38:53.000315",
     "exception": false,
     "start_time": "2020-12-11T19:38:52.964813",
     "status": "completed"
    },
    "tags": []
   },
   "outputs": [],
   "source": [
    "# with pd.HDFStore(output_filename, mode='w', complevel=1) as store:\n",
    "#     for idx, gene in enumerate(recount2_rpkl_cm.index):\n",
    "#         if idx % 100:\n",
    "#             print(f'', flush=True, end='')\n",
    "        \n",
    "#         clean_gene = simplify_string_for_hdf5(gene)\n",
    "#         store[clean_gene] = recount2_rpkl_cm.loc[gene]"
   ]
  },
  {
   "cell_type": "code",
   "execution_count": 26,
   "metadata": {
    "execution": {
     "iopub.execute_input": "2020-12-11T19:38:53.051340Z",
     "iopub.status.busy": "2020-12-11T19:38:53.050923Z",
     "iopub.status.idle": "2020-12-11T19:38:53.059453Z",
     "shell.execute_reply": "2020-12-11T19:38:53.059789Z"
    },
    "papermill": {
     "duration": 0.035287,
     "end_time": "2020-12-11T19:38:53.059907",
     "exception": false,
     "start_time": "2020-12-11T19:38:53.024620",
     "status": "completed"
    },
    "tags": []
   },
   "outputs": [],
   "source": [
    "del recount2_rpkl_cm"
   ]
  },
  {
   "cell_type": "markdown",
   "metadata": {
    "papermill": {
     "duration": 0.02293,
     "end_time": "2020-12-11T19:38:53.105200",
     "exception": false,
     "start_time": "2020-12-11T19:38:53.082270",
     "status": "completed"
    },
    "tags": []
   },
   "source": [
    "# Read recount2 pathways"
   ]
  },
  {
   "cell_type": "code",
   "execution_count": 27,
   "metadata": {
    "execution": {
     "iopub.execute_input": "2020-12-11T19:38:53.154246Z",
     "iopub.status.busy": "2020-12-11T19:38:53.153875Z",
     "iopub.status.idle": "2020-12-11T19:38:53.161452Z",
     "shell.execute_reply": "2020-12-11T19:38:53.161067Z"
    },
    "papermill": {
     "duration": 0.033127,
     "end_time": "2020-12-11T19:38:53.161545",
     "exception": false,
     "start_time": "2020-12-11T19:38:53.128418",
     "status": "completed"
    },
    "tags": []
   },
   "outputs": [],
   "source": [
    "recount2_all_paths_cm = recount_data_prep.rx2('all.paths.cm')"
   ]
  },
  {
   "cell_type": "code",
   "execution_count": 28,
   "metadata": {
    "execution": {
     "iopub.execute_input": "2020-12-11T19:38:53.207517Z",
     "iopub.status.busy": "2020-12-11T19:38:53.207053Z",
     "iopub.status.idle": "2020-12-11T19:38:53.216333Z",
     "shell.execute_reply": "2020-12-11T19:38:53.215903Z"
    },
    "papermill": {
     "duration": 0.034734,
     "end_time": "2020-12-11T19:38:53.216452",
     "exception": false,
     "start_time": "2020-12-11T19:38:53.181718",
     "status": "completed"
    },
    "tags": []
   },
   "outputs": [
    {
     "data": {
      "text/html": [
       "\n",
       "        <span>FloatMatrix with 4239000 elements.</span>\n",
       "        <table>\n",
       "        <tbody>\n",
       "          <tr>\n",
       "          \n",
       "            <td>\n",
       "            0.000000\n",
       "            </td>\n",
       "          \n",
       "            <td>\n",
       "            0.000000\n",
       "            </td>\n",
       "          \n",
       "            <td>\n",
       "            0.000000\n",
       "            </td>\n",
       "          \n",
       "            <td>\n",
       "            ...\n",
       "            </td>\n",
       "          \n",
       "            <td>\n",
       "            0.000000\n",
       "            </td>\n",
       "          \n",
       "            <td>\n",
       "            0.000000\n",
       "            </td>\n",
       "          \n",
       "            <td>\n",
       "            0.000000\n",
       "            </td>\n",
       "          \n",
       "          </tr>\n",
       "        </tbody>\n",
       "        </table>\n",
       "        "
      ],
      "text/plain": [
       "R object with classes: ('matrix',) mapped to:\n",
       "[0.000000, 0.000000, 0.000000, 0.000000, ..., 0.000000, 0.000000, 0.000000, 0.000000]"
      ]
     },
     "execution_count": 28,
     "metadata": {},
     "output_type": "execute_result"
    }
   ],
   "source": [
    "recount2_all_paths_cm"
   ]
  },
  {
   "cell_type": "code",
   "execution_count": 29,
   "metadata": {
    "execution": {
     "iopub.execute_input": "2020-12-11T19:38:53.268333Z",
     "iopub.status.busy": "2020-12-11T19:38:53.267871Z",
     "iopub.status.idle": "2020-12-11T19:38:53.277265Z",
     "shell.execute_reply": "2020-12-11T19:38:53.277635Z"
    },
    "papermill": {
     "duration": 0.036663,
     "end_time": "2020-12-11T19:38:53.277759",
     "exception": false,
     "start_time": "2020-12-11T19:38:53.241096",
     "status": "completed"
    },
    "tags": []
   },
   "outputs": [
    {
     "data": {
      "text/html": [
       "\n",
       "        <span>StrVector with 6750 elements.</span>\n",
       "        <table>\n",
       "        <tbody>\n",
       "          <tr>\n",
       "          \n",
       "            <td>\n",
       "            'GAS6'\n",
       "            </td>\n",
       "          \n",
       "            <td>\n",
       "            'MMP14'\n",
       "            </td>\n",
       "          \n",
       "            <td>\n",
       "            'DSP'\n",
       "            </td>\n",
       "          \n",
       "            <td>\n",
       "            ...\n",
       "            </td>\n",
       "          \n",
       "            <td>\n",
       "            'PLEKHG6'\n",
       "            </td>\n",
       "          \n",
       "            <td>\n",
       "            'GNGT2'\n",
       "            </td>\n",
       "          \n",
       "            <td>\n",
       "            'SERPINH1'\n",
       "            </td>\n",
       "          \n",
       "          </tr>\n",
       "        </tbody>\n",
       "        </table>\n",
       "        "
      ],
      "text/plain": [
       "R object with classes: ('character',) mapped to:\n",
       "['GAS6', 'MMP14', 'DSP', 'MARCKSL1', ..., 'NFIB', 'PLEKHG6', 'GNGT2', 'SERPINH1']"
      ]
     },
     "execution_count": 29,
     "metadata": {},
     "output_type": "execute_result"
    }
   ],
   "source": [
    "recount2_all_paths_cm.rownames"
   ]
  },
  {
   "cell_type": "code",
   "execution_count": 30,
   "metadata": {
    "execution": {
     "iopub.execute_input": "2020-12-11T19:38:53.325314Z",
     "iopub.status.busy": "2020-12-11T19:38:53.324829Z",
     "iopub.status.idle": "2020-12-11T19:38:53.334450Z",
     "shell.execute_reply": "2020-12-11T19:38:53.334822Z"
    },
    "papermill": {
     "duration": 0.034523,
     "end_time": "2020-12-11T19:38:53.334975",
     "exception": false,
     "start_time": "2020-12-11T19:38:53.300452",
     "status": "completed"
    },
    "tags": []
   },
   "outputs": [
    {
     "data": {
      "text/html": [
       "\n",
       "        <span>StrVector with 628 elements.</span>\n",
       "        <table>\n",
       "        <tbody>\n",
       "          <tr>\n",
       "          \n",
       "            <td>\n",
       "            'IRIS_Bce...\n",
       "            </td>\n",
       "          \n",
       "            <td>\n",
       "            'IRIS_Bce...\n",
       "            </td>\n",
       "          \n",
       "            <td>\n",
       "            'IRIS_Bce...\n",
       "            </td>\n",
       "          \n",
       "            <td>\n",
       "            ...\n",
       "            </td>\n",
       "          \n",
       "            <td>\n",
       "            'PID_BCR_...\n",
       "            </td>\n",
       "          \n",
       "            <td>\n",
       "            'PID_TELO...\n",
       "            </td>\n",
       "          \n",
       "            <td>\n",
       "            'PID_PI3K...\n",
       "            </td>\n",
       "          \n",
       "          </tr>\n",
       "        </tbody>\n",
       "        </table>\n",
       "        "
      ],
      "text/plain": [
       "R object with classes: ('character',) mapped to:\n",
       "['IRIS_Bce..., 'IRIS_Bce..., 'IRIS_Bce..., 'IRIS_CD4..., ..., 'REACTOME..., 'PID_BCR_..., 'PID_TELO..., 'PID_PI3K...]"
      ]
     },
     "execution_count": 30,
     "metadata": {},
     "output_type": "execute_result"
    }
   ],
   "source": [
    "recount2_all_paths_cm.colnames"
   ]
  },
  {
   "cell_type": "code",
   "execution_count": 31,
   "metadata": {
    "execution": {
     "iopub.execute_input": "2020-12-11T19:38:53.381997Z",
     "iopub.status.busy": "2020-12-11T19:38:53.381619Z",
     "iopub.status.idle": "2020-12-11T19:38:53.392528Z",
     "shell.execute_reply": "2020-12-11T19:38:53.392144Z"
    },
    "papermill": {
     "duration": 0.033812,
     "end_time": "2020-12-11T19:38:53.392628",
     "exception": false,
     "start_time": "2020-12-11T19:38:53.358816",
     "status": "completed"
    },
    "tags": []
   },
   "outputs": [],
   "source": [
    "with localconverter(ro.default_converter + pandas2ri.converter):\n",
    "  recount2_all_paths_cm_values = ro.conversion.rpy2py(recount2_all_paths_cm)"
   ]
  },
  {
   "cell_type": "code",
   "execution_count": 32,
   "metadata": {
    "execution": {
     "iopub.execute_input": "2020-12-11T19:38:53.441214Z",
     "iopub.status.busy": "2020-12-11T19:38:53.440747Z",
     "iopub.status.idle": "2020-12-11T19:38:53.449549Z",
     "shell.execute_reply": "2020-12-11T19:38:53.449210Z"
    },
    "papermill": {
     "duration": 0.03371,
     "end_time": "2020-12-11T19:38:53.449644",
     "exception": false,
     "start_time": "2020-12-11T19:38:53.415934",
     "status": "completed"
    },
    "tags": []
   },
   "outputs": [
    {
     "data": {
      "text/plain": [
       "array([[0., 0., 0., ..., 0., 0., 0.],\n",
       "       [0., 0., 0., ..., 0., 0., 0.],\n",
       "       [0., 0., 1., ..., 0., 0., 0.],\n",
       "       ...,\n",
       "       [0., 0., 0., ..., 0., 0., 0.],\n",
       "       [0., 0., 0., ..., 0., 0., 0.],\n",
       "       [0., 0., 0., ..., 0., 0., 0.]])"
      ]
     },
     "execution_count": 32,
     "metadata": {},
     "output_type": "execute_result"
    }
   ],
   "source": [
    "recount2_all_paths_cm_values"
   ]
  },
  {
   "cell_type": "code",
   "execution_count": 33,
   "metadata": {
    "execution": {
     "iopub.execute_input": "2020-12-11T19:38:53.499559Z",
     "iopub.status.busy": "2020-12-11T19:38:53.499103Z",
     "iopub.status.idle": "2020-12-11T19:38:53.530100Z",
     "shell.execute_reply": "2020-12-11T19:38:53.529666Z"
    },
    "papermill": {
     "duration": 0.057297,
     "end_time": "2020-12-11T19:38:53.530196",
     "exception": false,
     "start_time": "2020-12-11T19:38:53.472899",
     "status": "completed"
    },
    "tags": []
   },
   "outputs": [],
   "source": [
    "recount2_all_paths_cm = pd.DataFrame(\n",
    "    data=recount2_all_paths_cm_values,\n",
    "    index=recount2_all_paths_cm.rownames,\n",
    "    columns=recount2_all_paths_cm.colnames,\n",
    "    dtype=bool,\n",
    ")"
   ]
  },
  {
   "cell_type": "code",
   "execution_count": 34,
   "metadata": {
    "execution": {
     "iopub.execute_input": "2020-12-11T19:38:53.577509Z",
     "iopub.status.busy": "2020-12-11T19:38:53.577101Z",
     "iopub.status.idle": "2020-12-11T19:38:53.585689Z",
     "shell.execute_reply": "2020-12-11T19:38:53.585266Z"
    },
    "papermill": {
     "duration": 0.033083,
     "end_time": "2020-12-11T19:38:53.585809",
     "exception": false,
     "start_time": "2020-12-11T19:38:53.552726",
     "status": "completed"
    },
    "tags": []
   },
   "outputs": [],
   "source": [
    "assert recount2_all_paths_cm.shape == (6750, 628)"
   ]
  },
  {
   "cell_type": "code",
   "execution_count": 35,
   "metadata": {
    "execution": {
     "iopub.execute_input": "2020-12-11T19:38:53.639375Z",
     "iopub.status.busy": "2020-12-11T19:38:53.638868Z",
     "iopub.status.idle": "2020-12-11T19:38:53.648304Z",
     "shell.execute_reply": "2020-12-11T19:38:53.647858Z"
    },
    "papermill": {
     "duration": 0.037111,
     "end_time": "2020-12-11T19:38:53.648423",
     "exception": false,
     "start_time": "2020-12-11T19:38:53.611312",
     "status": "completed"
    },
    "tags": []
   },
   "outputs": [
    {
     "data": {
      "text/plain": [
       "(6750, 628)"
      ]
     },
     "execution_count": 35,
     "metadata": {},
     "output_type": "execute_result"
    }
   ],
   "source": [
    "recount2_all_paths_cm.shape"
   ]
  },
  {
   "cell_type": "code",
   "execution_count": 36,
   "metadata": {
    "execution": {
     "iopub.execute_input": "2020-12-11T19:38:53.696798Z",
     "iopub.status.busy": "2020-12-11T19:38:53.696366Z",
     "iopub.status.idle": "2020-12-11T19:38:53.705605Z",
     "shell.execute_reply": "2020-12-11T19:38:53.705901Z"
    },
    "papermill": {
     "duration": 0.035042,
     "end_time": "2020-12-11T19:38:53.706016",
     "exception": false,
     "start_time": "2020-12-11T19:38:53.670974",
     "status": "completed"
    },
    "tags": []
   },
   "outputs": [
    {
     "data": {
      "text/plain": [
       "array([dtype('bool')], dtype=object)"
      ]
     },
     "execution_count": 36,
     "metadata": {},
     "output_type": "execute_result"
    }
   ],
   "source": [
    "recount2_all_paths_cm.dtypes.unique()"
   ]
  },
  {
   "cell_type": "code",
   "execution_count": 37,
   "metadata": {
    "execution": {
     "iopub.execute_input": "2020-12-11T19:38:53.755557Z",
     "iopub.status.busy": "2020-12-11T19:38:53.755194Z",
     "iopub.status.idle": "2020-12-11T19:38:53.776028Z",
     "shell.execute_reply": "2020-12-11T19:38:53.775609Z"
    },
    "papermill": {
     "duration": 0.045969,
     "end_time": "2020-12-11T19:38:53.776152",
     "exception": false,
     "start_time": "2020-12-11T19:38:53.730183",
     "status": "completed"
    },
    "tags": []
   },
   "outputs": [
    {
     "data": {
      "text/html": [
       "<div>\n",
       "<style scoped>\n",
       "    .dataframe tbody tr th:only-of-type {\n",
       "        vertical-align: middle;\n",
       "    }\n",
       "\n",
       "    .dataframe tbody tr th {\n",
       "        vertical-align: top;\n",
       "    }\n",
       "\n",
       "    .dataframe thead th {\n",
       "        text-align: right;\n",
       "    }\n",
       "</style>\n",
       "<table border=\"1\" class=\"dataframe\">\n",
       "  <thead>\n",
       "    <tr style=\"text-align: right;\">\n",
       "      <th></th>\n",
       "      <th>IRIS_Bcell-Memory_IgG_IgA</th>\n",
       "      <th>IRIS_Bcell-Memory_IgM</th>\n",
       "      <th>IRIS_Bcell-naive</th>\n",
       "      <th>IRIS_CD4Tcell-N0</th>\n",
       "      <th>IRIS_CD4Tcell-Th1-restimulated12hour</th>\n",
       "      <th>IRIS_CD4Tcell-Th1-restimulated48hour</th>\n",
       "      <th>IRIS_CD4Tcell-Th2-restimulated12hour</th>\n",
       "      <th>IRIS_CD4Tcell-Th2-restimulated48hour</th>\n",
       "      <th>IRIS_CD8Tcell-N0</th>\n",
       "      <th>IRIS_DendriticCell-Control</th>\n",
       "      <th>...</th>\n",
       "      <th>KEGG_GNRH_SIGNALING_PATHWAY</th>\n",
       "      <th>KEGG_BASAL_TRANSCRIPTION_FACTORS</th>\n",
       "      <th>REACTOME_SYNTHESIS_OF_DNA</th>\n",
       "      <th>KEGG_HEMATOPOIETIC_CELL_LINEAGE</th>\n",
       "      <th>KEGG_T_CELL_RECEPTOR_SIGNALING_PATHWAY</th>\n",
       "      <th>PID_IL4_2PATHWAY</th>\n",
       "      <th>REACTOME_SIGNALING_BY_THE_B_CELL_RECEPTOR_BCR</th>\n",
       "      <th>PID_BCR_5PATHWAY</th>\n",
       "      <th>PID_TELOMERASEPATHWAY</th>\n",
       "      <th>PID_PI3KPLCTRKPATHWAY</th>\n",
       "    </tr>\n",
       "  </thead>\n",
       "  <tbody>\n",
       "    <tr>\n",
       "      <th>GAS6</th>\n",
       "      <td>False</td>\n",
       "      <td>False</td>\n",
       "      <td>False</td>\n",
       "      <td>False</td>\n",
       "      <td>False</td>\n",
       "      <td>False</td>\n",
       "      <td>False</td>\n",
       "      <td>False</td>\n",
       "      <td>False</td>\n",
       "      <td>True</td>\n",
       "      <td>...</td>\n",
       "      <td>False</td>\n",
       "      <td>False</td>\n",
       "      <td>False</td>\n",
       "      <td>False</td>\n",
       "      <td>False</td>\n",
       "      <td>False</td>\n",
       "      <td>False</td>\n",
       "      <td>False</td>\n",
       "      <td>False</td>\n",
       "      <td>False</td>\n",
       "    </tr>\n",
       "    <tr>\n",
       "      <th>MMP14</th>\n",
       "      <td>False</td>\n",
       "      <td>False</td>\n",
       "      <td>False</td>\n",
       "      <td>False</td>\n",
       "      <td>False</td>\n",
       "      <td>False</td>\n",
       "      <td>False</td>\n",
       "      <td>False</td>\n",
       "      <td>False</td>\n",
       "      <td>False</td>\n",
       "      <td>...</td>\n",
       "      <td>True</td>\n",
       "      <td>False</td>\n",
       "      <td>False</td>\n",
       "      <td>False</td>\n",
       "      <td>False</td>\n",
       "      <td>False</td>\n",
       "      <td>False</td>\n",
       "      <td>False</td>\n",
       "      <td>False</td>\n",
       "      <td>False</td>\n",
       "    </tr>\n",
       "    <tr>\n",
       "      <th>DSP</th>\n",
       "      <td>False</td>\n",
       "      <td>False</td>\n",
       "      <td>True</td>\n",
       "      <td>False</td>\n",
       "      <td>False</td>\n",
       "      <td>False</td>\n",
       "      <td>False</td>\n",
       "      <td>False</td>\n",
       "      <td>False</td>\n",
       "      <td>False</td>\n",
       "      <td>...</td>\n",
       "      <td>False</td>\n",
       "      <td>False</td>\n",
       "      <td>False</td>\n",
       "      <td>False</td>\n",
       "      <td>False</td>\n",
       "      <td>False</td>\n",
       "      <td>False</td>\n",
       "      <td>False</td>\n",
       "      <td>False</td>\n",
       "      <td>False</td>\n",
       "    </tr>\n",
       "    <tr>\n",
       "      <th>MARCKSL1</th>\n",
       "      <td>False</td>\n",
       "      <td>False</td>\n",
       "      <td>False</td>\n",
       "      <td>False</td>\n",
       "      <td>False</td>\n",
       "      <td>False</td>\n",
       "      <td>False</td>\n",
       "      <td>False</td>\n",
       "      <td>False</td>\n",
       "      <td>False</td>\n",
       "      <td>...</td>\n",
       "      <td>False</td>\n",
       "      <td>False</td>\n",
       "      <td>False</td>\n",
       "      <td>False</td>\n",
       "      <td>False</td>\n",
       "      <td>False</td>\n",
       "      <td>False</td>\n",
       "      <td>False</td>\n",
       "      <td>False</td>\n",
       "      <td>False</td>\n",
       "    </tr>\n",
       "    <tr>\n",
       "      <th>SPARC</th>\n",
       "      <td>False</td>\n",
       "      <td>False</td>\n",
       "      <td>False</td>\n",
       "      <td>False</td>\n",
       "      <td>False</td>\n",
       "      <td>False</td>\n",
       "      <td>False</td>\n",
       "      <td>False</td>\n",
       "      <td>False</td>\n",
       "      <td>False</td>\n",
       "      <td>...</td>\n",
       "      <td>False</td>\n",
       "      <td>False</td>\n",
       "      <td>False</td>\n",
       "      <td>False</td>\n",
       "      <td>False</td>\n",
       "      <td>False</td>\n",
       "      <td>False</td>\n",
       "      <td>False</td>\n",
       "      <td>False</td>\n",
       "      <td>False</td>\n",
       "    </tr>\n",
       "  </tbody>\n",
       "</table>\n",
       "<p>5 rows × 628 columns</p>\n",
       "</div>"
      ],
      "text/plain": [
       "          IRIS_Bcell-Memory_IgG_IgA  IRIS_Bcell-Memory_IgM  IRIS_Bcell-naive  \\\n",
       "GAS6                          False                  False             False   \n",
       "MMP14                         False                  False             False   \n",
       "DSP                           False                  False              True   \n",
       "MARCKSL1                      False                  False             False   \n",
       "SPARC                         False                  False             False   \n",
       "\n",
       "          IRIS_CD4Tcell-N0  IRIS_CD4Tcell-Th1-restimulated12hour  \\\n",
       "GAS6                 False                                 False   \n",
       "MMP14                False                                 False   \n",
       "DSP                  False                                 False   \n",
       "MARCKSL1             False                                 False   \n",
       "SPARC                False                                 False   \n",
       "\n",
       "          IRIS_CD4Tcell-Th1-restimulated48hour  \\\n",
       "GAS6                                     False   \n",
       "MMP14                                    False   \n",
       "DSP                                      False   \n",
       "MARCKSL1                                 False   \n",
       "SPARC                                    False   \n",
       "\n",
       "          IRIS_CD4Tcell-Th2-restimulated12hour  \\\n",
       "GAS6                                     False   \n",
       "MMP14                                    False   \n",
       "DSP                                      False   \n",
       "MARCKSL1                                 False   \n",
       "SPARC                                    False   \n",
       "\n",
       "          IRIS_CD4Tcell-Th2-restimulated48hour  IRIS_CD8Tcell-N0  \\\n",
       "GAS6                                     False             False   \n",
       "MMP14                                    False             False   \n",
       "DSP                                      False             False   \n",
       "MARCKSL1                                 False             False   \n",
       "SPARC                                    False             False   \n",
       "\n",
       "          IRIS_DendriticCell-Control  ...  KEGG_GNRH_SIGNALING_PATHWAY  \\\n",
       "GAS6                            True  ...                        False   \n",
       "MMP14                          False  ...                         True   \n",
       "DSP                            False  ...                        False   \n",
       "MARCKSL1                       False  ...                        False   \n",
       "SPARC                          False  ...                        False   \n",
       "\n",
       "          KEGG_BASAL_TRANSCRIPTION_FACTORS  REACTOME_SYNTHESIS_OF_DNA  \\\n",
       "GAS6                                 False                      False   \n",
       "MMP14                                False                      False   \n",
       "DSP                                  False                      False   \n",
       "MARCKSL1                             False                      False   \n",
       "SPARC                                False                      False   \n",
       "\n",
       "          KEGG_HEMATOPOIETIC_CELL_LINEAGE  \\\n",
       "GAS6                                False   \n",
       "MMP14                               False   \n",
       "DSP                                 False   \n",
       "MARCKSL1                            False   \n",
       "SPARC                               False   \n",
       "\n",
       "          KEGG_T_CELL_RECEPTOR_SIGNALING_PATHWAY  PID_IL4_2PATHWAY  \\\n",
       "GAS6                                       False             False   \n",
       "MMP14                                      False             False   \n",
       "DSP                                        False             False   \n",
       "MARCKSL1                                   False             False   \n",
       "SPARC                                      False             False   \n",
       "\n",
       "          REACTOME_SIGNALING_BY_THE_B_CELL_RECEPTOR_BCR  PID_BCR_5PATHWAY  \\\n",
       "GAS6                                              False             False   \n",
       "MMP14                                             False             False   \n",
       "DSP                                               False             False   \n",
       "MARCKSL1                                          False             False   \n",
       "SPARC                                             False             False   \n",
       "\n",
       "          PID_TELOMERASEPATHWAY  PID_PI3KPLCTRKPATHWAY  \n",
       "GAS6                      False                  False  \n",
       "MMP14                     False                  False  \n",
       "DSP                       False                  False  \n",
       "MARCKSL1                  False                  False  \n",
       "SPARC                     False                  False  \n",
       "\n",
       "[5 rows x 628 columns]"
      ]
     },
     "execution_count": 37,
     "metadata": {},
     "output_type": "execute_result"
    }
   ],
   "source": [
    "recount2_all_paths_cm.head()"
   ]
  },
  {
   "cell_type": "markdown",
   "metadata": {
    "papermill": {
     "duration": 0.024673,
     "end_time": "2020-12-11T19:38:53.824854",
     "exception": false,
     "start_time": "2020-12-11T19:38:53.800181",
     "status": "completed"
    },
    "tags": []
   },
   "source": [
    "## Testing"
   ]
  },
  {
   "cell_type": "code",
   "execution_count": 38,
   "metadata": {
    "execution": {
     "iopub.execute_input": "2020-12-11T19:38:53.878459Z",
     "iopub.status.busy": "2020-12-11T19:38:53.877990Z",
     "iopub.status.idle": "2020-12-11T19:38:53.888769Z",
     "shell.execute_reply": "2020-12-11T19:38:53.888265Z"
    },
    "papermill": {
     "duration": 0.038699,
     "end_time": "2020-12-11T19:38:53.888908",
     "exception": false,
     "start_time": "2020-12-11T19:38:53.850209",
     "status": "completed"
    },
    "tags": []
   },
   "outputs": [
    {
     "data": {
      "text/plain": [
       "False"
      ]
     },
     "execution_count": 38,
     "metadata": {},
     "output_type": "execute_result"
    }
   ],
   "source": [
    "recount2_all_paths_cm.loc['CTSD', 'REACTOME_SCFSKP2_MEDIATED_DEGRADATION_OF_P27_P21']"
   ]
  },
  {
   "cell_type": "code",
   "execution_count": 39,
   "metadata": {
    "execution": {
     "iopub.execute_input": "2020-12-11T19:38:53.938708Z",
     "iopub.status.busy": "2020-12-11T19:38:53.938283Z",
     "iopub.status.idle": "2020-12-11T19:38:53.945731Z",
     "shell.execute_reply": "2020-12-11T19:38:53.946081Z"
    },
    "papermill": {
     "duration": 0.033672,
     "end_time": "2020-12-11T19:38:53.946226",
     "exception": false,
     "start_time": "2020-12-11T19:38:53.912554",
     "status": "completed"
    },
    "tags": []
   },
   "outputs": [],
   "source": [
    "assert not recount2_all_paths_cm.loc['CTSD', 'REACTOME_SCFSKP2_MEDIATED_DEGRADATION_OF_P27_P21']"
   ]
  },
  {
   "cell_type": "code",
   "execution_count": 40,
   "metadata": {
    "execution": {
     "iopub.execute_input": "2020-12-11T19:38:53.998682Z",
     "iopub.status.busy": "2020-12-11T19:38:53.998299Z",
     "iopub.status.idle": "2020-12-11T19:38:54.007199Z",
     "shell.execute_reply": "2020-12-11T19:38:54.006808Z"
    },
    "papermill": {
     "duration": 0.036356,
     "end_time": "2020-12-11T19:38:54.007293",
     "exception": false,
     "start_time": "2020-12-11T19:38:53.970937",
     "status": "completed"
    },
    "tags": []
   },
   "outputs": [],
   "source": [
    "assert recount2_all_paths_cm.loc['CTSD', 'PID_P53DOWNSTREAMPATHWAY']"
   ]
  },
  {
   "cell_type": "code",
   "execution_count": 41,
   "metadata": {
    "execution": {
     "iopub.execute_input": "2020-12-11T19:38:54.060066Z",
     "iopub.status.busy": "2020-12-11T19:38:54.059651Z",
     "iopub.status.idle": "2020-12-11T19:38:54.068358Z",
     "shell.execute_reply": "2020-12-11T19:38:54.067933Z"
    },
    "papermill": {
     "duration": 0.03624,
     "end_time": "2020-12-11T19:38:54.068482",
     "exception": false,
     "start_time": "2020-12-11T19:38:54.032242",
     "status": "completed"
    },
    "tags": []
   },
   "outputs": [],
   "source": [
    "assert recount2_all_paths_cm.loc['MMP14', 'PID_HIF2PATHWAY']"
   ]
  },
  {
   "cell_type": "markdown",
   "metadata": {
    "papermill": {
     "duration": 0.023676,
     "end_time": "2020-12-11T19:38:54.117344",
     "exception": false,
     "start_time": "2020-12-11T19:38:54.093668",
     "status": "completed"
    },
    "tags": []
   },
   "source": [
    "## Save"
   ]
  },
  {
   "cell_type": "code",
   "execution_count": 42,
   "metadata": {
    "execution": {
     "iopub.execute_input": "2020-12-11T19:38:54.186856Z",
     "iopub.status.busy": "2020-12-11T19:38:54.186459Z",
     "iopub.status.idle": "2020-12-11T19:38:54.195216Z",
     "shell.execute_reply": "2020-12-11T19:38:54.194808Z"
    },
    "papermill": {
     "duration": 0.036,
     "end_time": "2020-12-11T19:38:54.195313",
     "exception": false,
     "start_time": "2020-12-11T19:38:54.159313",
     "status": "completed"
    },
    "tags": []
   },
   "outputs": [
    {
     "data": {
      "text/plain": [
       "PosixPath('/home/miltondp/projects/labs/greenelab/phenoplier/base/data/recount2/recount_all_paths_cm.pkl')"
      ]
     },
     "metadata": {},
     "output_type": "display_data"
    }
   ],
   "source": [
    "output_filename = Path(\n",
    "    conf.RECOUNT2['BASE_DIR'],\n",
    "    'recount_all_paths_cm.pkl'\n",
    ").resolve()\n",
    "\n",
    "display(output_filename)"
   ]
  },
  {
   "cell_type": "code",
   "execution_count": 43,
   "metadata": {
    "execution": {
     "iopub.execute_input": "2020-12-11T19:38:54.248017Z",
     "iopub.status.busy": "2020-12-11T19:38:54.247580Z",
     "iopub.status.idle": "2020-12-11T19:38:54.260845Z",
     "shell.execute_reply": "2020-12-11T19:38:54.260472Z"
    },
    "papermill": {
     "duration": 0.042406,
     "end_time": "2020-12-11T19:38:54.260937",
     "exception": false,
     "start_time": "2020-12-11T19:38:54.218531",
     "status": "completed"
    },
    "tags": []
   },
   "outputs": [],
   "source": [
    "recount2_all_paths_cm.to_pickle(output_filename)"
   ]
  },
  {
   "cell_type": "code",
   "execution_count": 44,
   "metadata": {
    "execution": {
     "iopub.execute_input": "2020-12-11T19:38:54.310234Z",
     "iopub.status.busy": "2020-12-11T19:38:54.309870Z",
     "iopub.status.idle": "2020-12-11T19:38:54.318321Z",
     "shell.execute_reply": "2020-12-11T19:38:54.317893Z"
    },
    "papermill": {
     "duration": 0.032979,
     "end_time": "2020-12-11T19:38:54.318417",
     "exception": false,
     "start_time": "2020-12-11T19:38:54.285438",
     "status": "completed"
    },
    "tags": []
   },
   "outputs": [],
   "source": [
    "del recount2_all_paths_cm"
   ]
  },
  {
   "cell_type": "code",
   "execution_count": null,
   "metadata": {
    "papermill": {
     "duration": 0.025328,
     "end_time": "2020-12-11T19:38:54.368143",
     "exception": false,
     "start_time": "2020-12-11T19:38:54.342815",
     "status": "completed"
    },
    "tags": []
   },
   "outputs": [],
   "source": []
  }
 ],
 "metadata": {
  "kernelspec": {
   "display_name": "Python 3",
   "language": "python",
   "name": "python3"
  },
  "language_info": {
   "codemirror_mode": {
    "name": "ipython",
    "version": 3
   },
   "file_extension": ".py",
   "mimetype": "text/x-python",
   "name": "python",
   "nbconvert_exporter": "python",
   "pygments_lexer": "ipython3",
   "version": "3.8.6"
  },
  "papermill": {
   "default_parameters": {},
   "duration": 37.241077,
   "end_time": "2020-12-11T19:38:55.769471",
   "environment_variables": {},
   "exception": null,
   "input_path": "01_preprocessing/005-multiplier_recount2_data.ipynb",
   "output_path": "01_preprocessing/005-multiplier_recount2_data.run.ipynb",
   "parameters": {},
   "start_time": "2020-12-11T19:38:18.528394",
   "version": "2.2.2"
  }
 },
 "nbformat": 4,
 "nbformat_minor": 4
}