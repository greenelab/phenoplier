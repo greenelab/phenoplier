{
 "cells": [
  {
   "cell_type": "markdown",
   "metadata": {
    "papermill": {
     "duration": 0.022155,
     "end_time": "2021-03-08T16:37:17.100883",
     "exception": false,
     "start_time": "2021-03-08T16:37:17.078728",
     "status": "completed"
    },
    "tags": []
   },
   "source": [
    "# Description"
   ]
  },
  {
   "cell_type": "markdown",
   "metadata": {
    "papermill": {
     "duration": 0.017874,
     "end_time": "2021-03-08T16:37:17.136545",
     "exception": false,
     "start_time": "2021-03-08T16:37:17.118671",
     "status": "completed"
    },
    "tags": []
   },
   "source": [
    "This notebook reads 1) the normalized gene expression and 2) pathways from the data processed by\n",
    "MultiPLIER scripts (https://github.com/greenelab/multi-plier) and saves it into a more friendly Python\n",
    "format (Pandas DataFrames as pickle files)."
   ]
  },
  {
   "cell_type": "markdown",
   "metadata": {
    "papermill": {
     "duration": 0.017534,
     "end_time": "2021-03-08T16:37:17.171885",
     "exception": false,
     "start_time": "2021-03-08T16:37:17.154351",
     "status": "completed"
    },
    "tags": []
   },
   "source": [
    "# Modules loading"
   ]
  },
  {
   "cell_type": "code",
   "execution_count": 1,
   "metadata": {
    "execution": {
     "iopub.execute_input": "2021-03-08T16:37:17.210754Z",
     "iopub.status.busy": "2021-03-08T16:37:17.210377Z",
     "iopub.status.idle": "2021-03-08T16:37:17.218250Z",
     "shell.execute_reply": "2021-03-08T16:37:17.217811Z"
    },
    "papermill": {
     "duration": 0.028774,
     "end_time": "2021-03-08T16:37:17.218372",
     "exception": false,
     "start_time": "2021-03-08T16:37:17.189598",
     "status": "completed"
    },
    "tags": []
   },
   "outputs": [],
   "source": [
    "%load_ext autoreload\n",
    "%autoreload 2"
   ]
  },
  {
   "cell_type": "code",
   "execution_count": 2,
   "metadata": {
    "execution": {
     "iopub.execute_input": "2021-03-08T16:37:17.257217Z",
     "iopub.status.busy": "2021-03-08T16:37:17.256824Z",
     "iopub.status.idle": "2021-03-08T16:37:17.628462Z",
     "shell.execute_reply": "2021-03-08T16:37:17.628143Z"
    },
    "papermill": {
     "duration": 0.392169,
     "end_time": "2021-03-08T16:37:17.628556",
     "exception": false,
     "start_time": "2021-03-08T16:37:17.236387",
     "status": "completed"
    },
    "tags": []
   },
   "outputs": [],
   "source": [
    "from pathlib import Path\n",
    "\n",
    "from IPython.display import display\n",
    "import pandas as pd\n",
    "\n",
    "import rpy2.robjects as ro\n",
    "from rpy2.robjects import pandas2ri\n",
    "from rpy2.robjects.conversion import localconverter\n",
    "\n",
    "import conf"
   ]
  },
  {
   "cell_type": "code",
   "execution_count": 3,
   "metadata": {
    "execution": {
     "iopub.execute_input": "2021-03-08T16:37:17.667273Z",
     "iopub.status.busy": "2021-03-08T16:37:17.666904Z",
     "iopub.status.idle": "2021-03-08T16:37:17.675854Z",
     "shell.execute_reply": "2021-03-08T16:37:17.675469Z"
    },
    "papermill": {
     "duration": 0.029197,
     "end_time": "2021-03-08T16:37:17.675943",
     "exception": false,
     "start_time": "2021-03-08T16:37:17.646746",
     "status": "completed"
    },
    "tags": []
   },
   "outputs": [],
   "source": [
    "readRDS = ro.r[\"readRDS\"]"
   ]
  },
  {
   "cell_type": "markdown",
   "metadata": {
    "papermill": {
     "duration": 0.017605,
     "end_time": "2021-03-08T16:37:17.712219",
     "exception": false,
     "start_time": "2021-03-08T16:37:17.694614",
     "status": "completed"
    },
    "tags": []
   },
   "source": [
    "# Read entire recount data prep file"
   ]
  },
  {
   "cell_type": "code",
   "execution_count": 4,
   "metadata": {
    "execution": {
     "iopub.execute_input": "2021-03-08T16:37:17.749488Z",
     "iopub.status.busy": "2021-03-08T16:37:17.749130Z",
     "iopub.status.idle": "2021-03-08T16:37:17.761496Z",
     "shell.execute_reply": "2021-03-08T16:37:17.761788Z"
    },
    "papermill": {
     "duration": 0.032212,
     "end_time": "2021-03-08T16:37:17.761894",
     "exception": false,
     "start_time": "2021-03-08T16:37:17.729682",
     "status": "completed"
    },
    "tags": []
   },
   "outputs": [
    {
     "data": {
      "text/plain": [
       "PosixPath('/home/miltondp/projects/labs/greenelab/phenoplier/base/data/recount2/recount_data_prep_PLIER.RDS')"
      ]
     },
     "execution_count": 4,
     "metadata": {},
     "output_type": "execute_result"
    }
   ],
   "source": [
    "conf.RECOUNT2[\"PREPROCESSED_GENE_EXPRESSION_FILE\"]"
   ]
  },
  {
   "cell_type": "code",
   "execution_count": 5,
   "metadata": {
    "execution": {
     "iopub.execute_input": "2021-03-08T16:37:17.800961Z",
     "iopub.status.busy": "2021-03-08T16:37:17.800518Z",
     "iopub.status.idle": "2021-03-08T16:37:30.357458Z",
     "shell.execute_reply": "2021-03-08T16:37:30.357116Z"
    },
    "papermill": {
     "duration": 12.577199,
     "end_time": "2021-03-08T16:37:30.357546",
     "exception": false,
     "start_time": "2021-03-08T16:37:17.780347",
     "status": "completed"
    },
    "tags": []
   },
   "outputs": [],
   "source": [
    "recount_data_prep = readRDS(str(conf.RECOUNT2[\"PREPROCESSED_GENE_EXPRESSION_FILE\"]))"
   ]
  },
  {
   "cell_type": "markdown",
   "metadata": {
    "papermill": {
     "duration": 0.020604,
     "end_time": "2021-03-08T16:37:30.396574",
     "exception": false,
     "start_time": "2021-03-08T16:37:30.375970",
     "status": "completed"
    },
    "tags": []
   },
   "source": [
    "# Read recount2 gene expression data"
   ]
  },
  {
   "cell_type": "code",
   "execution_count": 6,
   "metadata": {
    "execution": {
     "iopub.execute_input": "2021-03-08T16:37:30.436570Z",
     "iopub.status.busy": "2021-03-08T16:37:30.436207Z",
     "iopub.status.idle": "2021-03-08T16:37:30.444123Z",
     "shell.execute_reply": "2021-03-08T16:37:30.443753Z"
    },
    "papermill": {
     "duration": 0.028801,
     "end_time": "2021-03-08T16:37:30.444211",
     "exception": false,
     "start_time": "2021-03-08T16:37:30.415410",
     "status": "completed"
    },
    "tags": []
   },
   "outputs": [],
   "source": [
    "recount2_rpkl_cm = recount_data_prep.rx2(\"rpkm.cm\")"
   ]
  },
  {
   "cell_type": "code",
   "execution_count": 7,
   "metadata": {
    "execution": {
     "iopub.execute_input": "2021-03-08T16:37:30.482916Z",
     "iopub.status.busy": "2021-03-08T16:37:30.482544Z",
     "iopub.status.idle": "2021-03-08T16:37:30.496249Z",
     "shell.execute_reply": "2021-03-08T16:37:30.495927Z"
    },
    "papermill": {
     "duration": 0.033686,
     "end_time": "2021-03-08T16:37:30.496337",
     "exception": false,
     "start_time": "2021-03-08T16:37:30.462651",
     "status": "completed"
    },
    "tags": []
   },
   "outputs": [
    {
     "data": {
      "text/html": [
       "\n",
       "        <span>R/rpy2 DataFrame (6750 x 37032)</span>\n",
       "        <table>\n",
       "          <thead>\n",
       "            <tr>\n",
       "              \n",
       "              <th>SRP000599.SRR013549</th>\n",
       "              \n",
       "              <th>SRP000599.SRR013550</th>\n",
       "              \n",
       "              <th>SRP000599.SRR013551</th>\n",
       "              \n",
       "              <th>...</th>\n",
       "              \n",
       "              <th>SRP035599.SRR1139382</th>\n",
       "              \n",
       "              <th>SRP035599.SRR1139356</th>\n",
       "              \n",
       "              <th>SRP035599.SRR1139370</th>\n",
       "              \n",
       "            </tr>\n",
       "          </thead>\n",
       "          <tbody>\n",
       "          \n",
       "          <tr>\n",
       "            \n",
       "            <td>\n",
       "              -0.312500\n",
       "            </td>\n",
       "            \n",
       "            <td>\n",
       "              -0.312931\n",
       "            </td>\n",
       "            \n",
       "            <td>\n",
       "              -0.312931\n",
       "            </td>\n",
       "            \n",
       "            <td>\n",
       "              ...\n",
       "            </td>\n",
       "            \n",
       "            <td>\n",
       "              -0.300220\n",
       "            </td>\n",
       "            \n",
       "            <td>\n",
       "              -0.297667\n",
       "            </td>\n",
       "            \n",
       "            <td>\n",
       "              -0.310151\n",
       "            </td>\n",
       "            \n",
       "          </tr>\n",
       "          \n",
       "          <tr>\n",
       "            \n",
       "            <td>\n",
       "              -0.328279\n",
       "            </td>\n",
       "            \n",
       "            <td>\n",
       "              -0.328279\n",
       "            </td>\n",
       "            \n",
       "            <td>\n",
       "              -0.328279\n",
       "            </td>\n",
       "            \n",
       "            <td>\n",
       "              \n",
       "            </td>\n",
       "            \n",
       "            <td>\n",
       "              -0.326339\n",
       "            </td>\n",
       "            \n",
       "            <td>\n",
       "              -0.322127\n",
       "            </td>\n",
       "            \n",
       "            <td>\n",
       "              -0.327438\n",
       "            </td>\n",
       "            \n",
       "          </tr>\n",
       "          \n",
       "          <tr>\n",
       "            \n",
       "            <td>\n",
       "              -0.286319\n",
       "            </td>\n",
       "            \n",
       "            <td>\n",
       "              -0.286859\n",
       "            </td>\n",
       "            \n",
       "            <td>\n",
       "              -0.286859\n",
       "            </td>\n",
       "            \n",
       "            <td>\n",
       "              \n",
       "            </td>\n",
       "            \n",
       "            <td>\n",
       "              -0.286671\n",
       "            </td>\n",
       "            \n",
       "            <td>\n",
       "              -0.286859\n",
       "            </td>\n",
       "            \n",
       "            <td>\n",
       "              -0.286740\n",
       "            </td>\n",
       "            \n",
       "          </tr>\n",
       "          \n",
       "          <tr>\n",
       "            \n",
       "            <td>\n",
       "              -0.536646\n",
       "            </td>\n",
       "            \n",
       "            <td>\n",
       "              -0.536646\n",
       "            </td>\n",
       "            \n",
       "            <td>\n",
       "              -0.536646\n",
       "            </td>\n",
       "            \n",
       "            <td>\n",
       "              \n",
       "            </td>\n",
       "            \n",
       "            <td>\n",
       "              2.458255\n",
       "            </td>\n",
       "            \n",
       "            <td>\n",
       "              2.919662\n",
       "            </td>\n",
       "            \n",
       "            <td>\n",
       "              1.410846\n",
       "            </td>\n",
       "            \n",
       "          </tr>\n",
       "          \n",
       "          <tr>\n",
       "            \n",
       "            <td>\n",
       "              ...\n",
       "            </td>\n",
       "            \n",
       "            <td>\n",
       "              ...\n",
       "            </td>\n",
       "            \n",
       "            <td>\n",
       "              ...\n",
       "            </td>\n",
       "            \n",
       "            <td>\n",
       "              \n",
       "            </td>\n",
       "            \n",
       "            <td>\n",
       "              ...\n",
       "            </td>\n",
       "            \n",
       "            <td>\n",
       "              ...\n",
       "            </td>\n",
       "            \n",
       "            <td>\n",
       "              ...\n",
       "            </td>\n",
       "            \n",
       "          </tr>\n",
       "          \n",
       "          <tr>\n",
       "            \n",
       "            <td>\n",
       "              -0.142179\n",
       "            </td>\n",
       "            \n",
       "            <td>\n",
       "              -0.142384\n",
       "            </td>\n",
       "            \n",
       "            <td>\n",
       "              -0.140314\n",
       "            </td>\n",
       "            \n",
       "            <td>\n",
       "              \n",
       "            </td>\n",
       "            \n",
       "            <td>\n",
       "              -0.139339\n",
       "            </td>\n",
       "            \n",
       "            <td>\n",
       "              -0.142384\n",
       "            </td>\n",
       "            \n",
       "            <td>\n",
       "              -0.142232\n",
       "            </td>\n",
       "            \n",
       "          </tr>\n",
       "          \n",
       "          <tr>\n",
       "            \n",
       "            <td>\n",
       "              -0.349886\n",
       "            </td>\n",
       "            \n",
       "            <td>\n",
       "              -0.349886\n",
       "            </td>\n",
       "            \n",
       "            <td>\n",
       "              -0.349886\n",
       "            </td>\n",
       "            \n",
       "            <td>\n",
       "              \n",
       "            </td>\n",
       "            \n",
       "            <td>\n",
       "              -0.264224\n",
       "            </td>\n",
       "            \n",
       "            <td>\n",
       "              0.020815\n",
       "            </td>\n",
       "            \n",
       "            <td>\n",
       "              -0.324208\n",
       "            </td>\n",
       "            \n",
       "          </tr>\n",
       "          \n",
       "          <tr>\n",
       "            \n",
       "            <td>\n",
       "              -0.085582\n",
       "            </td>\n",
       "            \n",
       "            <td>\n",
       "              -0.085582\n",
       "            </td>\n",
       "            \n",
       "            <td>\n",
       "              -0.085582\n",
       "            </td>\n",
       "            \n",
       "            <td>\n",
       "              \n",
       "            </td>\n",
       "            \n",
       "            <td>\n",
       "              0.603333\n",
       "            </td>\n",
       "            \n",
       "            <td>\n",
       "              0.915213\n",
       "            </td>\n",
       "            \n",
       "            <td>\n",
       "              1.788489\n",
       "            </td>\n",
       "            \n",
       "          </tr>\n",
       "          \n",
       "          <tr>\n",
       "            \n",
       "            <td>\n",
       "              -0.567112\n",
       "            </td>\n",
       "            \n",
       "            <td>\n",
       "              -0.569146\n",
       "            </td>\n",
       "            \n",
       "            <td>\n",
       "              -0.569146\n",
       "            </td>\n",
       "            \n",
       "            <td>\n",
       "              \n",
       "            </td>\n",
       "            \n",
       "            <td>\n",
       "              -0.455832\n",
       "            </td>\n",
       "            \n",
       "            <td>\n",
       "              -0.378093\n",
       "            </td>\n",
       "            \n",
       "            <td>\n",
       "              -0.491513\n",
       "            </td>\n",
       "            \n",
       "          </tr>\n",
       "          \n",
       "          </tbody>\n",
       "        </table>\n",
       "    "
      ],
      "text/plain": [
       "R object with classes: ('data.frame',) mapped to:\n",
       "[FloatSexp..., FloatSexp..., FloatSexp..., FloatSexp..., ..., FloatSexp..., FloatSexp..., FloatSexp..., FloatSexp...]\n",
       "  SRP000599.SRR013549: <class 'rpy2.robjects.vectors.FloatVector'>\n",
       "  R object with classes: ('numeric',) mapped to:\n",
       "[-0.312500, -0.328279, -0.286319, -0.536646, ..., -0.142179, -0.349886, -0.085582, -0.567112]\n",
       "  SRP000599.SRR013550: <class 'rpy2.robjects.vectors.FloatVector'>\n",
       "  R object with classes: ('numeric',) mapped to:\n",
       "[-0.312931, -0.328279, -0.286859, -0.536646, ..., -0.142384, -0.349886, -0.085582, -0.569146]\n",
       "  SRP000599.SRR013551: <class 'rpy2.robjects.vectors.FloatVector'>\n",
       "  R object with classes: ('numeric',) mapped to:\n",
       "[-0.312931, -0.328279, -0.286859, -0.536646, ..., -0.140314, -0.349886, -0.085582, -0.569146]\n",
       "  SRP000599.SRR013552: <class 'rpy2.robjects.vectors.FloatVector'>\n",
       "  R object with classes: ('numeric',) mapped to:\n",
       "[-0.312931, -0.328279, -0.286859, -0.536646, ..., -0.142384, -0.349886, -0.085582, -0.569146]\n",
       "...\n",
       "  SRP000599.SRR013554: <class 'rpy2.robjects.vectors.FloatVector'>\n",
       "  R object with classes: ('numeric',) mapped to:\n",
       "[-0.309599, -0.326375, -0.286859, 1.507099, ..., -0.142304, -0.149655, 1.280258, -0.340927]\n",
       "  SRP000599.SRR013555: <class 'rpy2.robjects.vectors.FloatVector'>\n",
       "  R object with classes: ('numeric',) mapped to:\n",
       "[-0.300220, -0.326339, -0.286671, 2.458255, ..., -0.139339, -0.264224, 0.603333, -0.455832]\n",
       "  SRP000599.SRR013556: <class 'rpy2.robjects.vectors.FloatVector'>\n",
       "  R object with classes: ('numeric',) mapped to:\n",
       "[-0.297667, -0.322127, -0.286859, 2.919662, ..., -0.142384, 0.020815, 0.915213, -0.378093]\n",
       "  SRP000599.SRR013557: <class 'rpy2.robjects.vectors.FloatVector'>\n",
       "  R object with classes: ('numeric',) mapped to:\n",
       "[-0.310151, -0.327438, -0.286740, 1.410846, ..., -0.142232, -0.324208, 1.788489, -0.491513]"
      ]
     },
     "execution_count": 7,
     "metadata": {},
     "output_type": "execute_result"
    }
   ],
   "source": [
    "recount2_rpkl_cm"
   ]
  },
  {
   "cell_type": "code",
   "execution_count": 8,
   "metadata": {
    "execution": {
     "iopub.execute_input": "2021-03-08T16:37:30.536119Z",
     "iopub.status.busy": "2021-03-08T16:37:30.535760Z",
     "iopub.status.idle": "2021-03-08T16:37:30.544630Z",
     "shell.execute_reply": "2021-03-08T16:37:30.544254Z"
    },
    "papermill": {
     "duration": 0.029515,
     "end_time": "2021-03-08T16:37:30.544751",
     "exception": false,
     "start_time": "2021-03-08T16:37:30.515236",
     "status": "completed"
    },
    "tags": []
   },
   "outputs": [
    {
     "data": {
      "text/html": [
       "\n",
       "        <span>StrVector with 6750 elements.</span>\n",
       "        <table>\n",
       "        <tbody>\n",
       "          <tr>\n",
       "          \n",
       "            <td>\n",
       "            'GAS6'\n",
       "            </td>\n",
       "          \n",
       "            <td>\n",
       "            'MMP14'\n",
       "            </td>\n",
       "          \n",
       "            <td>\n",
       "            'DSP'\n",
       "            </td>\n",
       "          \n",
       "            <td>\n",
       "            ...\n",
       "            </td>\n",
       "          \n",
       "            <td>\n",
       "            'PLEKHG6'\n",
       "            </td>\n",
       "          \n",
       "            <td>\n",
       "            'GNGT2'\n",
       "            </td>\n",
       "          \n",
       "            <td>\n",
       "            'SERPINH1'\n",
       "            </td>\n",
       "          \n",
       "          </tr>\n",
       "        </tbody>\n",
       "        </table>\n",
       "        "
      ],
      "text/plain": [
       "R object with classes: ('character',) mapped to:\n",
       "['GAS6', 'MMP14', 'DSP', 'MARCKSL1', ..., 'NFIB', 'PLEKHG6', 'GNGT2', 'SERPINH1']"
      ]
     },
     "execution_count": 8,
     "metadata": {},
     "output_type": "execute_result"
    }
   ],
   "source": [
    "recount2_rpkl_cm.rownames"
   ]
  },
  {
   "cell_type": "code",
   "execution_count": 9,
   "metadata": {
    "execution": {
     "iopub.execute_input": "2021-03-08T16:37:30.585579Z",
     "iopub.status.busy": "2021-03-08T16:37:30.585209Z",
     "iopub.status.idle": "2021-03-08T16:37:30.594097Z",
     "shell.execute_reply": "2021-03-08T16:37:30.593725Z"
    },
    "papermill": {
     "duration": 0.029974,
     "end_time": "2021-03-08T16:37:30.594184",
     "exception": false,
     "start_time": "2021-03-08T16:37:30.564210",
     "status": "completed"
    },
    "tags": []
   },
   "outputs": [
    {
     "data": {
      "text/html": [
       "\n",
       "        <span>StrVector with 37032 elements.</span>\n",
       "        <table>\n",
       "        <tbody>\n",
       "          <tr>\n",
       "          \n",
       "            <td>\n",
       "            'SRP00059...\n",
       "            </td>\n",
       "          \n",
       "            <td>\n",
       "            'SRP00059...\n",
       "            </td>\n",
       "          \n",
       "            <td>\n",
       "            'SRP00059...\n",
       "            </td>\n",
       "          \n",
       "            <td>\n",
       "            ...\n",
       "            </td>\n",
       "          \n",
       "            <td>\n",
       "            'SRP03559...\n",
       "            </td>\n",
       "          \n",
       "            <td>\n",
       "            'SRP03559...\n",
       "            </td>\n",
       "          \n",
       "            <td>\n",
       "            'SRP03559...\n",
       "            </td>\n",
       "          \n",
       "          </tr>\n",
       "        </tbody>\n",
       "        </table>\n",
       "        "
      ],
      "text/plain": [
       "R object with classes: ('character',) mapped to:\n",
       "['SRP00059..., 'SRP00059..., 'SRP00059..., 'SRP00059..., ..., 'SRP03559..., 'SRP03559..., 'SRP03559..., 'SRP03559...]"
      ]
     },
     "execution_count": 9,
     "metadata": {},
     "output_type": "execute_result"
    }
   ],
   "source": [
    "recount2_rpkl_cm.colnames"
   ]
  },
  {
   "cell_type": "code",
   "execution_count": 10,
   "metadata": {
    "execution": {
     "iopub.execute_input": "2021-03-08T16:37:30.635519Z",
     "iopub.status.busy": "2021-03-08T16:37:30.635151Z",
     "iopub.status.idle": "2021-03-08T16:37:34.941778Z",
     "shell.execute_reply": "2021-03-08T16:37:34.942089Z"
    },
    "papermill": {
     "duration": 4.32837,
     "end_time": "2021-03-08T16:37:34.942212",
     "exception": false,
     "start_time": "2021-03-08T16:37:30.613842",
     "status": "completed"
    },
    "tags": []
   },
   "outputs": [],
   "source": [
    "with localconverter(ro.default_converter + pandas2ri.converter):\n",
    "    recount2_rpkl_cm = ro.conversion.rpy2py(recount2_rpkl_cm)"
   ]
  },
  {
   "cell_type": "code",
   "execution_count": 11,
   "metadata": {
    "execution": {
     "iopub.execute_input": "2021-03-08T16:37:34.983575Z",
     "iopub.status.busy": "2021-03-08T16:37:34.983217Z",
     "iopub.status.idle": "2021-03-08T16:37:34.990744Z",
     "shell.execute_reply": "2021-03-08T16:37:34.990368Z"
    },
    "papermill": {
     "duration": 0.02847,
     "end_time": "2021-03-08T16:37:34.990833",
     "exception": false,
     "start_time": "2021-03-08T16:37:34.962363",
     "status": "completed"
    },
    "tags": []
   },
   "outputs": [],
   "source": [
    "assert recount2_rpkl_cm.shape == (6750, 37032)"
   ]
  },
  {
   "cell_type": "code",
   "execution_count": 12,
   "metadata": {
    "execution": {
     "iopub.execute_input": "2021-03-08T16:37:35.032072Z",
     "iopub.status.busy": "2021-03-08T16:37:35.031697Z",
     "iopub.status.idle": "2021-03-08T16:37:35.040133Z",
     "shell.execute_reply": "2021-03-08T16:37:35.039756Z"
    },
    "papermill": {
     "duration": 0.029474,
     "end_time": "2021-03-08T16:37:35.040220",
     "exception": false,
     "start_time": "2021-03-08T16:37:35.010746",
     "status": "completed"
    },
    "tags": []
   },
   "outputs": [
    {
     "data": {
      "text/plain": [
       "(6750, 37032)"
      ]
     },
     "execution_count": 12,
     "metadata": {},
     "output_type": "execute_result"
    }
   ],
   "source": [
    "recount2_rpkl_cm.shape"
   ]
  },
  {
   "cell_type": "code",
   "execution_count": 13,
   "metadata": {
    "execution": {
     "iopub.execute_input": "2021-03-08T16:37:35.081068Z",
     "iopub.status.busy": "2021-03-08T16:37:35.080673Z",
     "iopub.status.idle": "2021-03-08T16:37:35.104227Z",
     "shell.execute_reply": "2021-03-08T16:37:35.103919Z"
    },
    "papermill": {
     "duration": 0.04476,
     "end_time": "2021-03-08T16:37:35.104316",
     "exception": false,
     "start_time": "2021-03-08T16:37:35.059556",
     "status": "completed"
    },
    "tags": []
   },
   "outputs": [
    {
     "data": {
      "text/html": [
       "<div>\n",
       "<style scoped>\n",
       "    .dataframe tbody tr th:only-of-type {\n",
       "        vertical-align: middle;\n",
       "    }\n",
       "\n",
       "    .dataframe tbody tr th {\n",
       "        vertical-align: top;\n",
       "    }\n",
       "\n",
       "    .dataframe thead th {\n",
       "        text-align: right;\n",
       "    }\n",
       "</style>\n",
       "<table border=\"1\" class=\"dataframe\">\n",
       "  <thead>\n",
       "    <tr style=\"text-align: right;\">\n",
       "      <th></th>\n",
       "      <th>SRP000599.SRR013549</th>\n",
       "      <th>SRP000599.SRR013550</th>\n",
       "      <th>SRP000599.SRR013551</th>\n",
       "      <th>SRP000599.SRR013552</th>\n",
       "      <th>SRP000599.SRR013553</th>\n",
       "      <th>SRP000599.SRR013554</th>\n",
       "      <th>SRP000599.SRR013555</th>\n",
       "      <th>SRP000599.SRR013556</th>\n",
       "      <th>SRP000599.SRR013557</th>\n",
       "      <th>SRP000599.SRR013558</th>\n",
       "      <th>...</th>\n",
       "      <th>SRP035599.SRR1139372</th>\n",
       "      <th>SRP035599.SRR1139393</th>\n",
       "      <th>SRP035599.SRR1139388</th>\n",
       "      <th>SRP035599.SRR1139378</th>\n",
       "      <th>SRP035599.SRR1139399</th>\n",
       "      <th>SRP035599.SRR1139386</th>\n",
       "      <th>SRP035599.SRR1139375</th>\n",
       "      <th>SRP035599.SRR1139382</th>\n",
       "      <th>SRP035599.SRR1139356</th>\n",
       "      <th>SRP035599.SRR1139370</th>\n",
       "    </tr>\n",
       "  </thead>\n",
       "  <tbody>\n",
       "    <tr>\n",
       "      <th>GAS6</th>\n",
       "      <td>-0.312500</td>\n",
       "      <td>-0.312931</td>\n",
       "      <td>-0.312931</td>\n",
       "      <td>-0.312931</td>\n",
       "      <td>-0.312931</td>\n",
       "      <td>-0.308253</td>\n",
       "      <td>-0.312931</td>\n",
       "      <td>-0.312931</td>\n",
       "      <td>-0.312931</td>\n",
       "      <td>-0.312931</td>\n",
       "      <td>...</td>\n",
       "      <td>-0.301711</td>\n",
       "      <td>-0.305581</td>\n",
       "      <td>-0.303344</td>\n",
       "      <td>-0.297800</td>\n",
       "      <td>-0.307122</td>\n",
       "      <td>-0.285499</td>\n",
       "      <td>-0.309599</td>\n",
       "      <td>-0.300220</td>\n",
       "      <td>-0.297667</td>\n",
       "      <td>-0.310151</td>\n",
       "    </tr>\n",
       "    <tr>\n",
       "      <th>MMP14</th>\n",
       "      <td>-0.328279</td>\n",
       "      <td>-0.328279</td>\n",
       "      <td>-0.328279</td>\n",
       "      <td>-0.328279</td>\n",
       "      <td>-0.328279</td>\n",
       "      <td>-0.328279</td>\n",
       "      <td>-0.328279</td>\n",
       "      <td>-0.328279</td>\n",
       "      <td>-0.328279</td>\n",
       "      <td>-0.325140</td>\n",
       "      <td>...</td>\n",
       "      <td>-0.314587</td>\n",
       "      <td>-0.322952</td>\n",
       "      <td>-0.326439</td>\n",
       "      <td>-0.325994</td>\n",
       "      <td>-0.326272</td>\n",
       "      <td>-0.322523</td>\n",
       "      <td>-0.326375</td>\n",
       "      <td>-0.326339</td>\n",
       "      <td>-0.322127</td>\n",
       "      <td>-0.327438</td>\n",
       "    </tr>\n",
       "    <tr>\n",
       "      <th>DSP</th>\n",
       "      <td>-0.286319</td>\n",
       "      <td>-0.286859</td>\n",
       "      <td>-0.286859</td>\n",
       "      <td>-0.286859</td>\n",
       "      <td>-0.286859</td>\n",
       "      <td>-0.286859</td>\n",
       "      <td>-0.277195</td>\n",
       "      <td>-0.256862</td>\n",
       "      <td>-0.278790</td>\n",
       "      <td>-0.269701</td>\n",
       "      <td>...</td>\n",
       "      <td>-0.286859</td>\n",
       "      <td>-0.286859</td>\n",
       "      <td>-0.286745</td>\n",
       "      <td>-0.286688</td>\n",
       "      <td>-0.286725</td>\n",
       "      <td>-0.286529</td>\n",
       "      <td>-0.286859</td>\n",
       "      <td>-0.286671</td>\n",
       "      <td>-0.286859</td>\n",
       "      <td>-0.286740</td>\n",
       "    </tr>\n",
       "    <tr>\n",
       "      <th>MARCKSL1</th>\n",
       "      <td>-0.536646</td>\n",
       "      <td>-0.536646</td>\n",
       "      <td>-0.536646</td>\n",
       "      <td>-0.536646</td>\n",
       "      <td>-0.536646</td>\n",
       "      <td>-0.536646</td>\n",
       "      <td>-0.536646</td>\n",
       "      <td>-0.536646</td>\n",
       "      <td>-0.536646</td>\n",
       "      <td>-0.536646</td>\n",
       "      <td>...</td>\n",
       "      <td>0.807663</td>\n",
       "      <td>1.294564</td>\n",
       "      <td>1.527655</td>\n",
       "      <td>1.404788</td>\n",
       "      <td>1.047931</td>\n",
       "      <td>0.892119</td>\n",
       "      <td>1.507099</td>\n",
       "      <td>2.458255</td>\n",
       "      <td>2.919662</td>\n",
       "      <td>1.410846</td>\n",
       "    </tr>\n",
       "    <tr>\n",
       "      <th>SPARC</th>\n",
       "      <td>-0.370498</td>\n",
       "      <td>-0.370498</td>\n",
       "      <td>-0.369171</td>\n",
       "      <td>-0.370498</td>\n",
       "      <td>-0.370498</td>\n",
       "      <td>-0.370498</td>\n",
       "      <td>-0.370498</td>\n",
       "      <td>-0.370498</td>\n",
       "      <td>-0.370498</td>\n",
       "      <td>-0.370498</td>\n",
       "      <td>...</td>\n",
       "      <td>-0.345409</td>\n",
       "      <td>-0.310750</td>\n",
       "      <td>-0.348120</td>\n",
       "      <td>-0.356938</td>\n",
       "      <td>-0.355206</td>\n",
       "      <td>-0.366197</td>\n",
       "      <td>-0.351174</td>\n",
       "      <td>-0.363703</td>\n",
       "      <td>-0.350825</td>\n",
       "      <td>-0.360762</td>\n",
       "    </tr>\n",
       "  </tbody>\n",
       "</table>\n",
       "<p>5 rows × 37032 columns</p>\n",
       "</div>"
      ],
      "text/plain": [
       "          SRP000599.SRR013549  SRP000599.SRR013550  SRP000599.SRR013551  \\\n",
       "GAS6                -0.312500            -0.312931            -0.312931   \n",
       "MMP14               -0.328279            -0.328279            -0.328279   \n",
       "DSP                 -0.286319            -0.286859            -0.286859   \n",
       "MARCKSL1            -0.536646            -0.536646            -0.536646   \n",
       "SPARC               -0.370498            -0.370498            -0.369171   \n",
       "\n",
       "          SRP000599.SRR013552  SRP000599.SRR013553  SRP000599.SRR013554  \\\n",
       "GAS6                -0.312931            -0.312931            -0.308253   \n",
       "MMP14               -0.328279            -0.328279            -0.328279   \n",
       "DSP                 -0.286859            -0.286859            -0.286859   \n",
       "MARCKSL1            -0.536646            -0.536646            -0.536646   \n",
       "SPARC               -0.370498            -0.370498            -0.370498   \n",
       "\n",
       "          SRP000599.SRR013555  SRP000599.SRR013556  SRP000599.SRR013557  \\\n",
       "GAS6                -0.312931            -0.312931            -0.312931   \n",
       "MMP14               -0.328279            -0.328279            -0.328279   \n",
       "DSP                 -0.277195            -0.256862            -0.278790   \n",
       "MARCKSL1            -0.536646            -0.536646            -0.536646   \n",
       "SPARC               -0.370498            -0.370498            -0.370498   \n",
       "\n",
       "          SRP000599.SRR013558  ...  SRP035599.SRR1139372  \\\n",
       "GAS6                -0.312931  ...             -0.301711   \n",
       "MMP14               -0.325140  ...             -0.314587   \n",
       "DSP                 -0.269701  ...             -0.286859   \n",
       "MARCKSL1            -0.536646  ...              0.807663   \n",
       "SPARC               -0.370498  ...             -0.345409   \n",
       "\n",
       "          SRP035599.SRR1139393  SRP035599.SRR1139388  SRP035599.SRR1139378  \\\n",
       "GAS6                 -0.305581             -0.303344             -0.297800   \n",
       "MMP14                -0.322952             -0.326439             -0.325994   \n",
       "DSP                  -0.286859             -0.286745             -0.286688   \n",
       "MARCKSL1              1.294564              1.527655              1.404788   \n",
       "SPARC                -0.310750             -0.348120             -0.356938   \n",
       "\n",
       "          SRP035599.SRR1139399  SRP035599.SRR1139386  SRP035599.SRR1139375  \\\n",
       "GAS6                 -0.307122             -0.285499             -0.309599   \n",
       "MMP14                -0.326272             -0.322523             -0.326375   \n",
       "DSP                  -0.286725             -0.286529             -0.286859   \n",
       "MARCKSL1              1.047931              0.892119              1.507099   \n",
       "SPARC                -0.355206             -0.366197             -0.351174   \n",
       "\n",
       "          SRP035599.SRR1139382  SRP035599.SRR1139356  SRP035599.SRR1139370  \n",
       "GAS6                 -0.300220             -0.297667             -0.310151  \n",
       "MMP14                -0.326339             -0.322127             -0.327438  \n",
       "DSP                  -0.286671             -0.286859             -0.286740  \n",
       "MARCKSL1              2.458255              2.919662              1.410846  \n",
       "SPARC                -0.363703             -0.350825             -0.360762  \n",
       "\n",
       "[5 rows x 37032 columns]"
      ]
     },
     "execution_count": 13,
     "metadata": {},
     "output_type": "execute_result"
    }
   ],
   "source": [
    "recount2_rpkl_cm.head()"
   ]
  },
  {
   "cell_type": "markdown",
   "metadata": {
    "papermill": {
     "duration": 0.01969,
     "end_time": "2021-03-08T16:37:35.144012",
     "exception": false,
     "start_time": "2021-03-08T16:37:35.124322",
     "status": "completed"
    },
    "tags": []
   },
   "source": [
    "## Testing"
   ]
  },
  {
   "cell_type": "markdown",
   "metadata": {
    "papermill": {
     "duration": 0.019043,
     "end_time": "2021-03-08T16:37:35.182391",
     "exception": false,
     "start_time": "2021-03-08T16:37:35.163348",
     "status": "completed"
    },
    "tags": []
   },
   "source": [
    "Test whether what I load from a plain R session is the same as in here."
   ]
  },
  {
   "cell_type": "code",
   "execution_count": 14,
   "metadata": {
    "execution": {
     "iopub.execute_input": "2021-03-08T16:37:35.223468Z",
     "iopub.status.busy": "2021-03-08T16:37:35.223091Z",
     "iopub.status.idle": "2021-03-08T16:37:35.233331Z",
     "shell.execute_reply": "2021-03-08T16:37:35.232957Z"
    },
    "papermill": {
     "duration": 0.031893,
     "end_time": "2021-03-08T16:37:35.233419",
     "exception": false,
     "start_time": "2021-03-08T16:37:35.201526",
     "status": "completed"
    },
    "tags": []
   },
   "outputs": [
    {
     "data": {
      "text/plain": [
       "-0.3124999764074366"
      ]
     },
     "execution_count": 14,
     "metadata": {},
     "output_type": "execute_result"
    }
   ],
   "source": [
    "recount2_rpkl_cm.loc[\"GAS6\", \"SRP000599.SRR013549\"]"
   ]
  },
  {
   "cell_type": "code",
   "execution_count": 15,
   "metadata": {
    "execution": {
     "iopub.execute_input": "2021-03-08T16:37:35.276419Z",
     "iopub.status.busy": "2021-03-08T16:37:35.276039Z",
     "iopub.status.idle": "2021-03-08T16:37:35.283670Z",
     "shell.execute_reply": "2021-03-08T16:37:35.283303Z"
    },
    "papermill": {
     "duration": 0.029753,
     "end_time": "2021-03-08T16:37:35.283756",
     "exception": false,
     "start_time": "2021-03-08T16:37:35.254003",
     "status": "completed"
    },
    "tags": []
   },
   "outputs": [],
   "source": [
    "assert recount2_rpkl_cm.loc[\"GAS6\", \"SRP000599.SRR013549\"].round(4) == -0.3125"
   ]
  },
  {
   "cell_type": "code",
   "execution_count": 16,
   "metadata": {
    "execution": {
     "iopub.execute_input": "2021-03-08T16:37:35.325569Z",
     "iopub.status.busy": "2021-03-08T16:37:35.325196Z",
     "iopub.status.idle": "2021-03-08T16:37:35.332178Z",
     "shell.execute_reply": "2021-03-08T16:37:35.332462Z"
    },
    "papermill": {
     "duration": 0.029046,
     "end_time": "2021-03-08T16:37:35.332573",
     "exception": false,
     "start_time": "2021-03-08T16:37:35.303527",
     "status": "completed"
    },
    "tags": []
   },
   "outputs": [],
   "source": [
    "assert recount2_rpkl_cm.loc[\"GAS6\", \"SRP045352.SRR1539229\"].round(7) == -0.2843801"
   ]
  },
  {
   "cell_type": "code",
   "execution_count": 17,
   "metadata": {
    "execution": {
     "iopub.execute_input": "2021-03-08T16:37:35.375478Z",
     "iopub.status.busy": "2021-03-08T16:37:35.375110Z",
     "iopub.status.idle": "2021-03-08T16:37:35.382910Z",
     "shell.execute_reply": "2021-03-08T16:37:35.382540Z"
    },
    "papermill": {
     "duration": 0.029984,
     "end_time": "2021-03-08T16:37:35.382995",
     "exception": false,
     "start_time": "2021-03-08T16:37:35.353011",
     "status": "completed"
    },
    "tags": []
   },
   "outputs": [],
   "source": [
    "assert recount2_rpkl_cm.loc[\"CFL2\", \"SRP056840.SRR1951636\"].round(7) == -0.3412832"
   ]
  },
  {
   "cell_type": "code",
   "execution_count": 18,
   "metadata": {
    "execution": {
     "iopub.execute_input": "2021-03-08T16:37:35.428659Z",
     "iopub.status.busy": "2021-03-08T16:37:35.428267Z",
     "iopub.status.idle": "2021-03-08T16:37:35.437228Z",
     "shell.execute_reply": "2021-03-08T16:37:35.436873Z"
    },
    "papermill": {
     "duration": 0.03238,
     "end_time": "2021-03-08T16:37:35.437326",
     "exception": false,
     "start_time": "2021-03-08T16:37:35.404946",
     "status": "completed"
    },
    "tags": []
   },
   "outputs": [
    {
     "data": {
      "text/plain": [
       "-0.49388522390959116"
      ]
     },
     "execution_count": 18,
     "metadata": {},
     "output_type": "execute_result"
    }
   ],
   "source": [
    "recount2_rpkl_cm.iloc[9, 16]"
   ]
  },
  {
   "cell_type": "code",
   "execution_count": 19,
   "metadata": {
    "execution": {
     "iopub.execute_input": "2021-03-08T16:37:35.481280Z",
     "iopub.status.busy": "2021-03-08T16:37:35.480914Z",
     "iopub.status.idle": "2021-03-08T16:37:35.489122Z",
     "shell.execute_reply": "2021-03-08T16:37:35.488409Z"
    },
    "papermill": {
     "duration": 0.03057,
     "end_time": "2021-03-08T16:37:35.489214",
     "exception": false,
     "start_time": "2021-03-08T16:37:35.458644",
     "status": "completed"
    },
    "tags": []
   },
   "outputs": [],
   "source": [
    "assert recount2_rpkl_cm.iloc[9, 16].round(7) == -0.4938852"
   ]
  },
  {
   "cell_type": "markdown",
   "metadata": {
    "papermill": {
     "duration": 0.02,
     "end_time": "2021-03-08T16:37:35.529822",
     "exception": false,
     "start_time": "2021-03-08T16:37:35.509822",
     "status": "completed"
    },
    "tags": []
   },
   "source": [
    "## Save"
   ]
  },
  {
   "cell_type": "markdown",
   "metadata": {
    "papermill": {
     "duration": 0.019754,
     "end_time": "2021-03-08T16:37:35.569091",
     "exception": false,
     "start_time": "2021-03-08T16:37:35.549337",
     "status": "completed"
    },
    "tags": []
   },
   "source": [
    "### Pickle format (binary)"
   ]
  },
  {
   "cell_type": "code",
   "execution_count": 20,
   "metadata": {
    "execution": {
     "iopub.execute_input": "2021-03-08T16:37:35.610890Z",
     "iopub.status.busy": "2021-03-08T16:37:35.610526Z",
     "iopub.status.idle": "2021-03-08T16:37:35.619262Z",
     "shell.execute_reply": "2021-03-08T16:37:35.618897Z"
    },
    "papermill": {
     "duration": 0.030753,
     "end_time": "2021-03-08T16:37:35.619349",
     "exception": false,
     "start_time": "2021-03-08T16:37:35.588596",
     "status": "completed"
    },
    "tags": []
   },
   "outputs": [
    {
     "data": {
      "text/plain": [
       "PosixPath('/home/miltondp/projects/labs/greenelab/phenoplier/base/data/recount2/recount_data_prep_PLIER.pkl')"
      ]
     },
     "metadata": {},
     "output_type": "display_data"
    }
   ],
   "source": [
    "output_filename = Path(\n",
    "    conf.RECOUNT2[\"BASE_DIR\"], \"recount_data_prep_PLIER.pkl\"\n",
    ").resolve()\n",
    "\n",
    "display(output_filename)"
   ]
  },
  {
   "cell_type": "code",
   "execution_count": 21,
   "metadata": {
    "execution": {
     "iopub.execute_input": "2021-03-08T16:37:35.662660Z",
     "iopub.status.busy": "2021-03-08T16:37:35.662289Z",
     "iopub.status.idle": "2021-03-08T16:37:47.317524Z",
     "shell.execute_reply": "2021-03-08T16:37:47.316236Z"
    },
    "papermill": {
     "duration": 11.678047,
     "end_time": "2021-03-08T16:37:47.317882",
     "exception": false,
     "start_time": "2021-03-08T16:37:35.639835",
     "status": "completed"
    },
    "tags": []
   },
   "outputs": [],
   "source": [
    "recount2_rpkl_cm.to_pickle(output_filename)"
   ]
  },
  {
   "cell_type": "markdown",
   "metadata": {
    "papermill": {
     "duration": 0.020508,
     "end_time": "2021-03-08T16:37:47.393587",
     "exception": false,
     "start_time": "2021-03-08T16:37:47.373079",
     "status": "completed"
    },
    "tags": []
   },
   "source": [
    "### HDF5 format (binary)"
   ]
  },
  {
   "cell_type": "markdown",
   "metadata": {
    "papermill": {
     "duration": 0.019788,
     "end_time": "2021-03-08T16:37:47.433195",
     "exception": false,
     "start_time": "2021-03-08T16:37:47.413407",
     "status": "completed"
    },
    "tags": []
   },
   "source": [
    "This code is now commented out, but it might be helpful in the future if we wanted to save this data in HDF5 for more efficient access."
   ]
  },
  {
   "cell_type": "code",
   "execution_count": 22,
   "metadata": {
    "execution": {
     "iopub.execute_input": "2021-03-08T16:37:47.478202Z",
     "iopub.status.busy": "2021-03-08T16:37:47.477830Z",
     "iopub.status.idle": "2021-03-08T16:37:47.484825Z",
     "shell.execute_reply": "2021-03-08T16:37:47.485164Z"
    },
    "papermill": {
     "duration": 0.030346,
     "end_time": "2021-03-08T16:37:47.485287",
     "exception": false,
     "start_time": "2021-03-08T16:37:47.454941",
     "status": "completed"
    },
    "tags": []
   },
   "outputs": [],
   "source": [
    "# from utils.hdf5 import simplify_string_for_hdf5"
   ]
  },
  {
   "cell_type": "code",
   "execution_count": 23,
   "metadata": {
    "execution": {
     "iopub.execute_input": "2021-03-08T16:37:47.529809Z",
     "iopub.status.busy": "2021-03-08T16:37:47.529447Z",
     "iopub.status.idle": "2021-03-08T16:37:47.536316Z",
     "shell.execute_reply": "2021-03-08T16:37:47.536609Z"
    },
    "papermill": {
     "duration": 0.029127,
     "end_time": "2021-03-08T16:37:47.536752",
     "exception": false,
     "start_time": "2021-03-08T16:37:47.507625",
     "status": "completed"
    },
    "tags": []
   },
   "outputs": [],
   "source": [
    "# output_filename = os.path.join(conf.DATA_DIR, 'recount_data_prep_PLIER.h5')\n",
    "# display(output_filename)"
   ]
  },
  {
   "cell_type": "code",
   "execution_count": 24,
   "metadata": {
    "execution": {
     "iopub.execute_input": "2021-03-08T16:37:47.580498Z",
     "iopub.status.busy": "2021-03-08T16:37:47.580136Z",
     "iopub.status.idle": "2021-03-08T16:37:47.586808Z",
     "shell.execute_reply": "2021-03-08T16:37:47.587107Z"
    },
    "papermill": {
     "duration": 0.029475,
     "end_time": "2021-03-08T16:37:47.587215",
     "exception": false,
     "start_time": "2021-03-08T16:37:47.557740",
     "status": "completed"
    },
    "tags": []
   },
   "outputs": [],
   "source": [
    "# with pd.HDFStore(output_filename, mode='w', complevel=1) as store:\n",
    "#     for idx, gene in enumerate(recount2_rpkl_cm.index):\n",
    "#         if idx % 100:\n",
    "#             print(f'', flush=True, end='')\n",
    "\n",
    "#         clean_gene = simplify_string_for_hdf5(gene)\n",
    "#         store[clean_gene] = recount2_rpkl_cm.loc[gene]"
   ]
  },
  {
   "cell_type": "code",
   "execution_count": 25,
   "metadata": {
    "execution": {
     "iopub.execute_input": "2021-03-08T16:37:47.630210Z",
     "iopub.status.busy": "2021-03-08T16:37:47.629837Z",
     "iopub.status.idle": "2021-03-08T16:37:47.636912Z",
     "shell.execute_reply": "2021-03-08T16:37:47.637207Z"
    },
    "papermill": {
     "duration": 0.029562,
     "end_time": "2021-03-08T16:37:47.637313",
     "exception": false,
     "start_time": "2021-03-08T16:37:47.607751",
     "status": "completed"
    },
    "tags": []
   },
   "outputs": [],
   "source": [
    "# delete the object to save memory\n",
    "del recount2_rpkl_cm"
   ]
  },
  {
   "cell_type": "markdown",
   "metadata": {
    "papermill": {
     "duration": 0.019671,
     "end_time": "2021-03-08T16:37:47.677184",
     "exception": false,
     "start_time": "2021-03-08T16:37:47.657513",
     "status": "completed"
    },
    "tags": []
   },
   "source": [
    "# Read recount2 pathways"
   ]
  },
  {
   "cell_type": "code",
   "execution_count": 26,
   "metadata": {
    "execution": {
     "iopub.execute_input": "2021-03-08T16:37:47.719056Z",
     "iopub.status.busy": "2021-03-08T16:37:47.718692Z",
     "iopub.status.idle": "2021-03-08T16:37:47.726057Z",
     "shell.execute_reply": "2021-03-08T16:37:47.726337Z"
    },
    "papermill": {
     "duration": 0.029522,
     "end_time": "2021-03-08T16:37:47.726448",
     "exception": false,
     "start_time": "2021-03-08T16:37:47.696926",
     "status": "completed"
    },
    "tags": []
   },
   "outputs": [],
   "source": [
    "recount2_all_paths_cm = recount_data_prep.rx2(\"all.paths.cm\")"
   ]
  },
  {
   "cell_type": "code",
   "execution_count": 27,
   "metadata": {
    "execution": {
     "iopub.execute_input": "2021-03-08T16:37:47.768945Z",
     "iopub.status.busy": "2021-03-08T16:37:47.768505Z",
     "iopub.status.idle": "2021-03-08T16:37:47.777383Z",
     "shell.execute_reply": "2021-03-08T16:37:47.777012Z"
    },
    "papermill": {
     "duration": 0.030812,
     "end_time": "2021-03-08T16:37:47.777471",
     "exception": false,
     "start_time": "2021-03-08T16:37:47.746659",
     "status": "completed"
    },
    "tags": []
   },
   "outputs": [
    {
     "data": {
      "text/html": [
       "\n",
       "        <span>FloatMatrix with 4239000 elements.</span>\n",
       "        <table>\n",
       "        <tbody>\n",
       "          <tr>\n",
       "          \n",
       "            <td>\n",
       "            0.000000\n",
       "            </td>\n",
       "          \n",
       "            <td>\n",
       "            0.000000\n",
       "            </td>\n",
       "          \n",
       "            <td>\n",
       "            0.000000\n",
       "            </td>\n",
       "          \n",
       "            <td>\n",
       "            ...\n",
       "            </td>\n",
       "          \n",
       "            <td>\n",
       "            0.000000\n",
       "            </td>\n",
       "          \n",
       "            <td>\n",
       "            0.000000\n",
       "            </td>\n",
       "          \n",
       "            <td>\n",
       "            0.000000\n",
       "            </td>\n",
       "          \n",
       "          </tr>\n",
       "        </tbody>\n",
       "        </table>\n",
       "        "
      ],
      "text/plain": [
       "R object with classes: ('matrix',) mapped to:\n",
       "[0.000000, 0.000000, 0.000000, 0.000000, ..., 0.000000, 0.000000, 0.000000, 0.000000]"
      ]
     },
     "execution_count": 27,
     "metadata": {},
     "output_type": "execute_result"
    }
   ],
   "source": [
    "recount2_all_paths_cm"
   ]
  },
  {
   "cell_type": "code",
   "execution_count": 28,
   "metadata": {
    "execution": {
     "iopub.execute_input": "2021-03-08T16:37:47.821226Z",
     "iopub.status.busy": "2021-03-08T16:37:47.820867Z",
     "iopub.status.idle": "2021-03-08T16:37:47.829346Z",
     "shell.execute_reply": "2021-03-08T16:37:47.829629Z"
    },
    "papermill": {
     "duration": 0.031235,
     "end_time": "2021-03-08T16:37:47.829740",
     "exception": false,
     "start_time": "2021-03-08T16:37:47.798505",
     "status": "completed"
    },
    "tags": []
   },
   "outputs": [
    {
     "data": {
      "text/html": [
       "\n",
       "        <span>StrVector with 6750 elements.</span>\n",
       "        <table>\n",
       "        <tbody>\n",
       "          <tr>\n",
       "          \n",
       "            <td>\n",
       "            'GAS6'\n",
       "            </td>\n",
       "          \n",
       "            <td>\n",
       "            'MMP14'\n",
       "            </td>\n",
       "          \n",
       "            <td>\n",
       "            'DSP'\n",
       "            </td>\n",
       "          \n",
       "            <td>\n",
       "            ...\n",
       "            </td>\n",
       "          \n",
       "            <td>\n",
       "            'PLEKHG6'\n",
       "            </td>\n",
       "          \n",
       "            <td>\n",
       "            'GNGT2'\n",
       "            </td>\n",
       "          \n",
       "            <td>\n",
       "            'SERPINH1'\n",
       "            </td>\n",
       "          \n",
       "          </tr>\n",
       "        </tbody>\n",
       "        </table>\n",
       "        "
      ],
      "text/plain": [
       "R object with classes: ('character',) mapped to:\n",
       "['GAS6', 'MMP14', 'DSP', 'MARCKSL1', ..., 'NFIB', 'PLEKHG6', 'GNGT2', 'SERPINH1']"
      ]
     },
     "execution_count": 28,
     "metadata": {},
     "output_type": "execute_result"
    }
   ],
   "source": [
    "recount2_all_paths_cm.rownames"
   ]
  },
  {
   "cell_type": "code",
   "execution_count": 29,
   "metadata": {
    "execution": {
     "iopub.execute_input": "2021-03-08T16:37:47.873764Z",
     "iopub.status.busy": "2021-03-08T16:37:47.873373Z",
     "iopub.status.idle": "2021-03-08T16:37:47.882455Z",
     "shell.execute_reply": "2021-03-08T16:37:47.882091Z"
    },
    "papermill": {
     "duration": 0.031631,
     "end_time": "2021-03-08T16:37:47.882541",
     "exception": false,
     "start_time": "2021-03-08T16:37:47.850910",
     "status": "completed"
    },
    "tags": []
   },
   "outputs": [
    {
     "data": {
      "text/html": [
       "\n",
       "        <span>StrVector with 628 elements.</span>\n",
       "        <table>\n",
       "        <tbody>\n",
       "          <tr>\n",
       "          \n",
       "            <td>\n",
       "            'IRIS_Bce...\n",
       "            </td>\n",
       "          \n",
       "            <td>\n",
       "            'IRIS_Bce...\n",
       "            </td>\n",
       "          \n",
       "            <td>\n",
       "            'IRIS_Bce...\n",
       "            </td>\n",
       "          \n",
       "            <td>\n",
       "            ...\n",
       "            </td>\n",
       "          \n",
       "            <td>\n",
       "            'PID_BCR_...\n",
       "            </td>\n",
       "          \n",
       "            <td>\n",
       "            'PID_TELO...\n",
       "            </td>\n",
       "          \n",
       "            <td>\n",
       "            'PID_PI3K...\n",
       "            </td>\n",
       "          \n",
       "          </tr>\n",
       "        </tbody>\n",
       "        </table>\n",
       "        "
      ],
      "text/plain": [
       "R object with classes: ('character',) mapped to:\n",
       "['IRIS_Bce..., 'IRIS_Bce..., 'IRIS_Bce..., 'IRIS_CD4..., ..., 'REACTOME..., 'PID_BCR_..., 'PID_TELO..., 'PID_PI3K...]"
      ]
     },
     "execution_count": 29,
     "metadata": {},
     "output_type": "execute_result"
    }
   ],
   "source": [
    "recount2_all_paths_cm.colnames"
   ]
  },
  {
   "cell_type": "code",
   "execution_count": 30,
   "metadata": {
    "execution": {
     "iopub.execute_input": "2021-03-08T16:37:47.925691Z",
     "iopub.status.busy": "2021-03-08T16:37:47.925333Z",
     "iopub.status.idle": "2021-03-08T16:37:47.936073Z",
     "shell.execute_reply": "2021-03-08T16:37:47.935683Z"
    },
    "papermill": {
     "duration": 0.033191,
     "end_time": "2021-03-08T16:37:47.936171",
     "exception": false,
     "start_time": "2021-03-08T16:37:47.902980",
     "status": "completed"
    },
    "tags": []
   },
   "outputs": [],
   "source": [
    "with localconverter(ro.default_converter + pandas2ri.converter):\n",
    "    recount2_all_paths_cm_values = ro.conversion.rpy2py(recount2_all_paths_cm)"
   ]
  },
  {
   "cell_type": "code",
   "execution_count": 31,
   "metadata": {
    "execution": {
     "iopub.execute_input": "2021-03-08T16:37:47.981471Z",
     "iopub.status.busy": "2021-03-08T16:37:47.981099Z",
     "iopub.status.idle": "2021-03-08T16:37:47.989899Z",
     "shell.execute_reply": "2021-03-08T16:37:47.989522Z"
    },
    "papermill": {
     "duration": 0.031619,
     "end_time": "2021-03-08T16:37:47.989988",
     "exception": false,
     "start_time": "2021-03-08T16:37:47.958369",
     "status": "completed"
    },
    "tags": []
   },
   "outputs": [
    {
     "data": {
      "text/plain": [
       "array([[0., 0., 0., ..., 0., 0., 0.],\n",
       "       [0., 0., 0., ..., 0., 0., 0.],\n",
       "       [0., 0., 1., ..., 0., 0., 0.],\n",
       "       ...,\n",
       "       [0., 0., 0., ..., 0., 0., 0.],\n",
       "       [0., 0., 0., ..., 0., 0., 0.],\n",
       "       [0., 0., 0., ..., 0., 0., 0.]])"
      ]
     },
     "execution_count": 31,
     "metadata": {},
     "output_type": "execute_result"
    }
   ],
   "source": [
    "recount2_all_paths_cm_values"
   ]
  },
  {
   "cell_type": "code",
   "execution_count": 32,
   "metadata": {
    "execution": {
     "iopub.execute_input": "2021-03-08T16:37:48.034463Z",
     "iopub.status.busy": "2021-03-08T16:37:48.034088Z",
     "iopub.status.idle": "2021-03-08T16:37:48.063118Z",
     "shell.execute_reply": "2021-03-08T16:37:48.062810Z"
    },
    "papermill": {
     "duration": 0.052012,
     "end_time": "2021-03-08T16:37:48.063210",
     "exception": false,
     "start_time": "2021-03-08T16:37:48.011198",
     "status": "completed"
    },
    "tags": []
   },
   "outputs": [],
   "source": [
    "recount2_all_paths_cm = pd.DataFrame(\n",
    "    data=recount2_all_paths_cm_values,\n",
    "    index=recount2_all_paths_cm.rownames,\n",
    "    columns=recount2_all_paths_cm.colnames,\n",
    "    dtype=bool,\n",
    ")"
   ]
  },
  {
   "cell_type": "code",
   "execution_count": 33,
   "metadata": {
    "execution": {
     "iopub.execute_input": "2021-03-08T16:37:48.108280Z",
     "iopub.status.busy": "2021-03-08T16:37:48.107924Z",
     "iopub.status.idle": "2021-03-08T16:37:48.115585Z",
     "shell.execute_reply": "2021-03-08T16:37:48.115198Z"
    },
    "papermill": {
     "duration": 0.030822,
     "end_time": "2021-03-08T16:37:48.115677",
     "exception": false,
     "start_time": "2021-03-08T16:37:48.084855",
     "status": "completed"
    },
    "tags": []
   },
   "outputs": [],
   "source": [
    "assert recount2_all_paths_cm.shape == (6750, 628)"
   ]
  },
  {
   "cell_type": "code",
   "execution_count": 34,
   "metadata": {
    "execution": {
     "iopub.execute_input": "2021-03-08T16:37:48.161295Z",
     "iopub.status.busy": "2021-03-08T16:37:48.160928Z",
     "iopub.status.idle": "2021-03-08T16:37:48.169116Z",
     "shell.execute_reply": "2021-03-08T16:37:48.168750Z"
    },
    "papermill": {
     "duration": 0.031506,
     "end_time": "2021-03-08T16:37:48.169202",
     "exception": false,
     "start_time": "2021-03-08T16:37:48.137696",
     "status": "completed"
    },
    "tags": []
   },
   "outputs": [
    {
     "data": {
      "text/plain": [
       "(6750, 628)"
      ]
     },
     "execution_count": 34,
     "metadata": {},
     "output_type": "execute_result"
    }
   ],
   "source": [
    "recount2_all_paths_cm.shape"
   ]
  },
  {
   "cell_type": "code",
   "execution_count": 35,
   "metadata": {
    "execution": {
     "iopub.execute_input": "2021-03-08T16:37:48.214644Z",
     "iopub.status.busy": "2021-03-08T16:37:48.214279Z",
     "iopub.status.idle": "2021-03-08T16:37:48.222948Z",
     "shell.execute_reply": "2021-03-08T16:37:48.222587Z"
    },
    "papermill": {
     "duration": 0.032141,
     "end_time": "2021-03-08T16:37:48.223033",
     "exception": false,
     "start_time": "2021-03-08T16:37:48.190892",
     "status": "completed"
    },
    "tags": []
   },
   "outputs": [
    {
     "data": {
      "text/plain": [
       "array([dtype('bool')], dtype=object)"
      ]
     },
     "execution_count": 35,
     "metadata": {},
     "output_type": "execute_result"
    }
   ],
   "source": [
    "recount2_all_paths_cm.dtypes.unique()"
   ]
  },
  {
   "cell_type": "code",
   "execution_count": 36,
   "metadata": {
    "execution": {
     "iopub.execute_input": "2021-03-08T16:37:48.268452Z",
     "iopub.status.busy": "2021-03-08T16:37:48.268093Z",
     "iopub.status.idle": "2021-03-08T16:37:48.288361Z",
     "shell.execute_reply": "2021-03-08T16:37:48.288643Z"
    },
    "papermill": {
     "duration": 0.044435,
     "end_time": "2021-03-08T16:37:48.288815",
     "exception": false,
     "start_time": "2021-03-08T16:37:48.244380",
     "status": "completed"
    },
    "tags": []
   },
   "outputs": [
    {
     "data": {
      "text/html": [
       "<div>\n",
       "<style scoped>\n",
       "    .dataframe tbody tr th:only-of-type {\n",
       "        vertical-align: middle;\n",
       "    }\n",
       "\n",
       "    .dataframe tbody tr th {\n",
       "        vertical-align: top;\n",
       "    }\n",
       "\n",
       "    .dataframe thead th {\n",
       "        text-align: right;\n",
       "    }\n",
       "</style>\n",
       "<table border=\"1\" class=\"dataframe\">\n",
       "  <thead>\n",
       "    <tr style=\"text-align: right;\">\n",
       "      <th></th>\n",
       "      <th>IRIS_Bcell-Memory_IgG_IgA</th>\n",
       "      <th>IRIS_Bcell-Memory_IgM</th>\n",
       "      <th>IRIS_Bcell-naive</th>\n",
       "      <th>IRIS_CD4Tcell-N0</th>\n",
       "      <th>IRIS_CD4Tcell-Th1-restimulated12hour</th>\n",
       "      <th>IRIS_CD4Tcell-Th1-restimulated48hour</th>\n",
       "      <th>IRIS_CD4Tcell-Th2-restimulated12hour</th>\n",
       "      <th>IRIS_CD4Tcell-Th2-restimulated48hour</th>\n",
       "      <th>IRIS_CD8Tcell-N0</th>\n",
       "      <th>IRIS_DendriticCell-Control</th>\n",
       "      <th>...</th>\n",
       "      <th>KEGG_GNRH_SIGNALING_PATHWAY</th>\n",
       "      <th>KEGG_BASAL_TRANSCRIPTION_FACTORS</th>\n",
       "      <th>REACTOME_SYNTHESIS_OF_DNA</th>\n",
       "      <th>KEGG_HEMATOPOIETIC_CELL_LINEAGE</th>\n",
       "      <th>KEGG_T_CELL_RECEPTOR_SIGNALING_PATHWAY</th>\n",
       "      <th>PID_IL4_2PATHWAY</th>\n",
       "      <th>REACTOME_SIGNALING_BY_THE_B_CELL_RECEPTOR_BCR</th>\n",
       "      <th>PID_BCR_5PATHWAY</th>\n",
       "      <th>PID_TELOMERASEPATHWAY</th>\n",
       "      <th>PID_PI3KPLCTRKPATHWAY</th>\n",
       "    </tr>\n",
       "  </thead>\n",
       "  <tbody>\n",
       "    <tr>\n",
       "      <th>GAS6</th>\n",
       "      <td>False</td>\n",
       "      <td>False</td>\n",
       "      <td>False</td>\n",
       "      <td>False</td>\n",
       "      <td>False</td>\n",
       "      <td>False</td>\n",
       "      <td>False</td>\n",
       "      <td>False</td>\n",
       "      <td>False</td>\n",
       "      <td>True</td>\n",
       "      <td>...</td>\n",
       "      <td>False</td>\n",
       "      <td>False</td>\n",
       "      <td>False</td>\n",
       "      <td>False</td>\n",
       "      <td>False</td>\n",
       "      <td>False</td>\n",
       "      <td>False</td>\n",
       "      <td>False</td>\n",
       "      <td>False</td>\n",
       "      <td>False</td>\n",
       "    </tr>\n",
       "    <tr>\n",
       "      <th>MMP14</th>\n",
       "      <td>False</td>\n",
       "      <td>False</td>\n",
       "      <td>False</td>\n",
       "      <td>False</td>\n",
       "      <td>False</td>\n",
       "      <td>False</td>\n",
       "      <td>False</td>\n",
       "      <td>False</td>\n",
       "      <td>False</td>\n",
       "      <td>False</td>\n",
       "      <td>...</td>\n",
       "      <td>True</td>\n",
       "      <td>False</td>\n",
       "      <td>False</td>\n",
       "      <td>False</td>\n",
       "      <td>False</td>\n",
       "      <td>False</td>\n",
       "      <td>False</td>\n",
       "      <td>False</td>\n",
       "      <td>False</td>\n",
       "      <td>False</td>\n",
       "    </tr>\n",
       "    <tr>\n",
       "      <th>DSP</th>\n",
       "      <td>False</td>\n",
       "      <td>False</td>\n",
       "      <td>True</td>\n",
       "      <td>False</td>\n",
       "      <td>False</td>\n",
       "      <td>False</td>\n",
       "      <td>False</td>\n",
       "      <td>False</td>\n",
       "      <td>False</td>\n",
       "      <td>False</td>\n",
       "      <td>...</td>\n",
       "      <td>False</td>\n",
       "      <td>False</td>\n",
       "      <td>False</td>\n",
       "      <td>False</td>\n",
       "      <td>False</td>\n",
       "      <td>False</td>\n",
       "      <td>False</td>\n",
       "      <td>False</td>\n",
       "      <td>False</td>\n",
       "      <td>False</td>\n",
       "    </tr>\n",
       "    <tr>\n",
       "      <th>MARCKSL1</th>\n",
       "      <td>False</td>\n",
       "      <td>False</td>\n",
       "      <td>False</td>\n",
       "      <td>False</td>\n",
       "      <td>False</td>\n",
       "      <td>False</td>\n",
       "      <td>False</td>\n",
       "      <td>False</td>\n",
       "      <td>False</td>\n",
       "      <td>False</td>\n",
       "      <td>...</td>\n",
       "      <td>False</td>\n",
       "      <td>False</td>\n",
       "      <td>False</td>\n",
       "      <td>False</td>\n",
       "      <td>False</td>\n",
       "      <td>False</td>\n",
       "      <td>False</td>\n",
       "      <td>False</td>\n",
       "      <td>False</td>\n",
       "      <td>False</td>\n",
       "    </tr>\n",
       "    <tr>\n",
       "      <th>SPARC</th>\n",
       "      <td>False</td>\n",
       "      <td>False</td>\n",
       "      <td>False</td>\n",
       "      <td>False</td>\n",
       "      <td>False</td>\n",
       "      <td>False</td>\n",
       "      <td>False</td>\n",
       "      <td>False</td>\n",
       "      <td>False</td>\n",
       "      <td>False</td>\n",
       "      <td>...</td>\n",
       "      <td>False</td>\n",
       "      <td>False</td>\n",
       "      <td>False</td>\n",
       "      <td>False</td>\n",
       "      <td>False</td>\n",
       "      <td>False</td>\n",
       "      <td>False</td>\n",
       "      <td>False</td>\n",
       "      <td>False</td>\n",
       "      <td>False</td>\n",
       "    </tr>\n",
       "  </tbody>\n",
       "</table>\n",
       "<p>5 rows × 628 columns</p>\n",
       "</div>"
      ],
      "text/plain": [
       "          IRIS_Bcell-Memory_IgG_IgA  IRIS_Bcell-Memory_IgM  IRIS_Bcell-naive  \\\n",
       "GAS6                          False                  False             False   \n",
       "MMP14                         False                  False             False   \n",
       "DSP                           False                  False              True   \n",
       "MARCKSL1                      False                  False             False   \n",
       "SPARC                         False                  False             False   \n",
       "\n",
       "          IRIS_CD4Tcell-N0  IRIS_CD4Tcell-Th1-restimulated12hour  \\\n",
       "GAS6                 False                                 False   \n",
       "MMP14                False                                 False   \n",
       "DSP                  False                                 False   \n",
       "MARCKSL1             False                                 False   \n",
       "SPARC                False                                 False   \n",
       "\n",
       "          IRIS_CD4Tcell-Th1-restimulated48hour  \\\n",
       "GAS6                                     False   \n",
       "MMP14                                    False   \n",
       "DSP                                      False   \n",
       "MARCKSL1                                 False   \n",
       "SPARC                                    False   \n",
       "\n",
       "          IRIS_CD4Tcell-Th2-restimulated12hour  \\\n",
       "GAS6                                     False   \n",
       "MMP14                                    False   \n",
       "DSP                                      False   \n",
       "MARCKSL1                                 False   \n",
       "SPARC                                    False   \n",
       "\n",
       "          IRIS_CD4Tcell-Th2-restimulated48hour  IRIS_CD8Tcell-N0  \\\n",
       "GAS6                                     False             False   \n",
       "MMP14                                    False             False   \n",
       "DSP                                      False             False   \n",
       "MARCKSL1                                 False             False   \n",
       "SPARC                                    False             False   \n",
       "\n",
       "          IRIS_DendriticCell-Control  ...  KEGG_GNRH_SIGNALING_PATHWAY  \\\n",
       "GAS6                            True  ...                        False   \n",
       "MMP14                          False  ...                         True   \n",
       "DSP                            False  ...                        False   \n",
       "MARCKSL1                       False  ...                        False   \n",
       "SPARC                          False  ...                        False   \n",
       "\n",
       "          KEGG_BASAL_TRANSCRIPTION_FACTORS  REACTOME_SYNTHESIS_OF_DNA  \\\n",
       "GAS6                                 False                      False   \n",
       "MMP14                                False                      False   \n",
       "DSP                                  False                      False   \n",
       "MARCKSL1                             False                      False   \n",
       "SPARC                                False                      False   \n",
       "\n",
       "          KEGG_HEMATOPOIETIC_CELL_LINEAGE  \\\n",
       "GAS6                                False   \n",
       "MMP14                               False   \n",
       "DSP                                 False   \n",
       "MARCKSL1                            False   \n",
       "SPARC                               False   \n",
       "\n",
       "          KEGG_T_CELL_RECEPTOR_SIGNALING_PATHWAY  PID_IL4_2PATHWAY  \\\n",
       "GAS6                                       False             False   \n",
       "MMP14                                      False             False   \n",
       "DSP                                        False             False   \n",
       "MARCKSL1                                   False             False   \n",
       "SPARC                                      False             False   \n",
       "\n",
       "          REACTOME_SIGNALING_BY_THE_B_CELL_RECEPTOR_BCR  PID_BCR_5PATHWAY  \\\n",
       "GAS6                                              False             False   \n",
       "MMP14                                             False             False   \n",
       "DSP                                               False             False   \n",
       "MARCKSL1                                          False             False   \n",
       "SPARC                                             False             False   \n",
       "\n",
       "          PID_TELOMERASEPATHWAY  PID_PI3KPLCTRKPATHWAY  \n",
       "GAS6                      False                  False  \n",
       "MMP14                     False                  False  \n",
       "DSP                       False                  False  \n",
       "MARCKSL1                  False                  False  \n",
       "SPARC                     False                  False  \n",
       "\n",
       "[5 rows x 628 columns]"
      ]
     },
     "execution_count": 36,
     "metadata": {},
     "output_type": "execute_result"
    }
   ],
   "source": [
    "recount2_all_paths_cm.head()"
   ]
  },
  {
   "cell_type": "markdown",
   "metadata": {
    "papermill": {
     "duration": 0.021291,
     "end_time": "2021-03-08T16:37:48.331801",
     "exception": false,
     "start_time": "2021-03-08T16:37:48.310510",
     "status": "completed"
    },
    "tags": []
   },
   "source": [
    "## Testing"
   ]
  },
  {
   "cell_type": "code",
   "execution_count": 37,
   "metadata": {
    "execution": {
     "iopub.execute_input": "2021-03-08T16:37:48.401778Z",
     "iopub.status.busy": "2021-03-08T16:37:48.401341Z",
     "iopub.status.idle": "2021-03-08T16:37:48.410865Z",
     "shell.execute_reply": "2021-03-08T16:37:48.411217Z"
    },
    "papermill": {
     "duration": 0.039808,
     "end_time": "2021-03-08T16:37:48.411341",
     "exception": false,
     "start_time": "2021-03-08T16:37:48.371533",
     "status": "completed"
    },
    "tags": []
   },
   "outputs": [
    {
     "data": {
      "text/plain": [
       "False"
      ]
     },
     "execution_count": 37,
     "metadata": {},
     "output_type": "execute_result"
    }
   ],
   "source": [
    "recount2_all_paths_cm.loc[\"CTSD\", \"REACTOME_SCFSKP2_MEDIATED_DEGRADATION_OF_P27_P21\"]"
   ]
  },
  {
   "cell_type": "code",
   "execution_count": 38,
   "metadata": {
    "execution": {
     "iopub.execute_input": "2021-03-08T16:37:48.460844Z",
     "iopub.status.busy": "2021-03-08T16:37:48.460421Z",
     "iopub.status.idle": "2021-03-08T16:37:48.468449Z",
     "shell.execute_reply": "2021-03-08T16:37:48.468086Z"
    },
    "papermill": {
     "duration": 0.033542,
     "end_time": "2021-03-08T16:37:48.468545",
     "exception": false,
     "start_time": "2021-03-08T16:37:48.435003",
     "status": "completed"
    },
    "tags": []
   },
   "outputs": [],
   "source": [
    "assert not recount2_all_paths_cm.loc[\n",
    "    \"CTSD\", \"REACTOME_SCFSKP2_MEDIATED_DEGRADATION_OF_P27_P21\"\n",
    "]"
   ]
  },
  {
   "cell_type": "code",
   "execution_count": 39,
   "metadata": {
    "execution": {
     "iopub.execute_input": "2021-03-08T16:37:48.519000Z",
     "iopub.status.busy": "2021-03-08T16:37:48.518620Z",
     "iopub.status.idle": "2021-03-08T16:37:48.526267Z",
     "shell.execute_reply": "2021-03-08T16:37:48.525910Z"
    },
    "papermill": {
     "duration": 0.033364,
     "end_time": "2021-03-08T16:37:48.526359",
     "exception": false,
     "start_time": "2021-03-08T16:37:48.492995",
     "status": "completed"
    },
    "tags": []
   },
   "outputs": [],
   "source": [
    "assert recount2_all_paths_cm.loc[\"CTSD\", \"PID_P53DOWNSTREAMPATHWAY\"]"
   ]
  },
  {
   "cell_type": "code",
   "execution_count": 40,
   "metadata": {
    "execution": {
     "iopub.execute_input": "2021-03-08T16:37:48.574202Z",
     "iopub.status.busy": "2021-03-08T16:37:48.573841Z",
     "iopub.status.idle": "2021-03-08T16:37:48.580974Z",
     "shell.execute_reply": "2021-03-08T16:37:48.581270Z"
    },
    "papermill": {
     "duration": 0.031761,
     "end_time": "2021-03-08T16:37:48.581376",
     "exception": false,
     "start_time": "2021-03-08T16:37:48.549615",
     "status": "completed"
    },
    "tags": []
   },
   "outputs": [],
   "source": [
    "assert recount2_all_paths_cm.loc[\"MMP14\", \"PID_HIF2PATHWAY\"]"
   ]
  },
  {
   "cell_type": "markdown",
   "metadata": {
    "papermill": {
     "duration": 0.021617,
     "end_time": "2021-03-08T16:37:48.624904",
     "exception": false,
     "start_time": "2021-03-08T16:37:48.603287",
     "status": "completed"
    },
    "tags": []
   },
   "source": [
    "## Save"
   ]
  },
  {
   "cell_type": "markdown",
   "metadata": {
    "papermill": {
     "duration": 0.042597,
     "end_time": "2021-03-08T16:42:24.287654",
     "exception": false,
     "start_time": "2021-03-08T16:42:24.245057",
     "status": "completed"
    },
    "tags": []
   },
   "source": [
    "### Pickle format"
   ]
  },
  {
   "cell_type": "code",
   "execution_count": 41,
   "metadata": {
    "execution": {
     "iopub.execute_input": "2021-03-08T16:37:48.670936Z",
     "iopub.status.busy": "2021-03-08T16:37:48.670567Z",
     "iopub.status.idle": "2021-03-08T16:37:48.679010Z",
     "shell.execute_reply": "2021-03-08T16:37:48.678634Z"
    },
    "papermill": {
     "duration": 0.032591,
     "end_time": "2021-03-08T16:37:48.679100",
     "exception": false,
     "start_time": "2021-03-08T16:37:48.646509",
     "status": "completed"
    },
    "tags": []
   },
   "outputs": [
    {
     "data": {
      "text/plain": [
       "PosixPath('/home/miltondp/projects/labs/greenelab/phenoplier/base/data/recount2/recount_all_paths_cm.pkl')"
      ]
     },
     "metadata": {},
     "output_type": "display_data"
    }
   ],
   "source": [
    "output_filename = Path(conf.RECOUNT2[\"BASE_DIR\"], \"recount_all_paths_cm.pkl\").resolve()\n",
    "display(output_filename)"
   ]
  },
  {
   "cell_type": "code",
   "execution_count": 42,
   "metadata": {
    "execution": {
     "iopub.execute_input": "2021-03-08T16:37:48.726167Z",
     "iopub.status.busy": "2021-03-08T16:37:48.725796Z",
     "iopub.status.idle": "2021-03-08T16:37:48.737779Z",
     "shell.execute_reply": "2021-03-08T16:37:48.737424Z"
    },
    "papermill": {
     "duration": 0.036232,
     "end_time": "2021-03-08T16:37:48.737870",
     "exception": false,
     "start_time": "2021-03-08T16:37:48.701638",
     "status": "completed"
    },
    "tags": []
   },
   "outputs": [],
   "source": [
    "recount2_all_paths_cm.to_pickle(output_filename)"
   ]
  },
  {
   "cell_type": "markdown",
   "metadata": {
    "papermill": {
     "duration": 0.045877,
     "end_time": "2021-03-08T16:42:24.571084",
     "exception": false,
     "start_time": "2021-03-08T16:42:24.525207",
     "status": "completed"
    },
    "tags": []
   },
   "source": [
    "### Text format"
   ]
  },
  {
   "cell_type": "code",
   "execution_count": 72,
   "metadata": {
    "execution": {
     "iopub.execute_input": "2021-03-08T16:42:22.632133Z",
     "iopub.status.busy": "2021-03-08T16:42:22.631764Z",
     "iopub.status.idle": "2021-03-08T16:42:22.640419Z",
     "shell.execute_reply": "2021-03-08T16:42:22.640059Z"
    },
    "papermill": {
     "duration": 0.05371,
     "end_time": "2021-03-08T16:42:22.640504",
     "exception": false,
     "start_time": "2021-03-08T16:42:22.586794",
     "status": "completed"
    },
    "tags": []
   },
   "outputs": [
    {
     "data": {
      "text/plain": [
       "PosixPath('/home/miltondp/projects/labs/greenelab/phenoplier/base/data/multiplier/multiplier_model_u_auc.tsv.gz')"
      ]
     },
     "metadata": {},
     "output_type": "display_data"
    }
   ],
   "source": [
    "# tsv format\n",
    "output_text_file = output_filename.with_suffix(\".tsv.gz\")\n",
    "display(output_text_file)"
   ]
  },
  {
   "cell_type": "code",
   "execution_count": null,
   "metadata": {},
   "outputs": [],
   "source": [
    "recount2_all_paths_cm.astype(\"int\").head()"
   ]
  },
  {
   "cell_type": "code",
   "execution_count": 73,
   "metadata": {
    "execution": {
     "iopub.execute_input": "2021-03-08T16:42:22.730431Z",
     "iopub.status.busy": "2021-03-08T16:42:22.730025Z",
     "iopub.status.idle": "2021-03-08T16:42:23.547010Z",
     "shell.execute_reply": "2021-03-08T16:42:23.547346Z"
    },
    "papermill": {
     "duration": 0.863714,
     "end_time": "2021-03-08T16:42:23.547469",
     "exception": false,
     "start_time": "2021-03-08T16:42:22.683755",
     "status": "completed"
    },
    "tags": []
   },
   "outputs": [],
   "source": [
    "recount2_all_paths_cm.astype(\"int\").to_csv(\n",
    "    output_text_file, sep=\"\\t\", index=True, float_format=\"%.5e\"\n",
    ")"
   ]
  },
  {
   "cell_type": "code",
   "execution_count": null,
   "metadata": {
    "papermill": {
     "duration": 0.021834,
     "end_time": "2021-03-08T16:37:48.836004",
     "exception": false,
     "start_time": "2021-03-08T16:37:48.814170",
     "status": "completed"
    },
    "tags": []
   },
   "outputs": [],
   "source": []
  }
 ],
 "metadata": {
  "jupytext": {
   "cell_metadata_filter": "all,-execution,-papermill,-trusted",
   "formats": "ipynb,py//py:percent"
  },
  "kernelspec": {
   "display_name": "Python 3",
   "language": "python",
   "name": "python3"
  },
  "language_info": {
   "codemirror_mode": {
    "name": "ipython",
    "version": 3
   },
   "file_extension": ".py",
   "mimetype": "text/x-python",
   "name": "python",
   "nbconvert_exporter": "python",
   "pygments_lexer": "ipython3",
   "version": "3.8.8"
  },
  "papermill": {
   "default_parameters": {},
   "duration": 33.184106,
   "end_time": "2021-03-08T16:37:49.464089",
   "environment_variables": {},
   "exception": null,
   "input_path": "01_preprocessing/005-multiplier_recount2_data.ipynb",
   "output_path": "01_preprocessing/005-multiplier_recount2_data.run.ipynb",
   "parameters": {},
   "start_time": "2021-03-08T16:37:16.279983",
   "version": "2.2.2"
  }
 },
 "nbformat": 4,
 "nbformat_minor": 4
}
