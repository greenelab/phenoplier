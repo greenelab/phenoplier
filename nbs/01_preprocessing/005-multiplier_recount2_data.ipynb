{
 "cells": [
  {
   "cell_type": "markdown",
   "metadata": {
    "papermill": {
     "duration": 0.022996,
     "end_time": "2021-07-30T15:48:30.520557",
     "exception": false,
     "start_time": "2021-07-30T15:48:30.497561",
     "status": "completed"
    },
    "tags": []
   },
   "source": [
    "# Description"
   ]
  },
  {
   "cell_type": "markdown",
   "metadata": {
    "papermill": {
     "duration": 0.019181,
     "end_time": "2021-07-30T15:48:30.558793",
     "exception": false,
     "start_time": "2021-07-30T15:48:30.539612",
     "status": "completed"
    },
    "tags": []
   },
   "source": [
    "This notebook reads 1) the normalized gene expression and 2) pathways from the data processed by\n",
    "MultiPLIER scripts (https://github.com/greenelab/multi-plier) and saves it into a more friendly Python\n",
    "format (Pandas DataFrames as pickle files)."
   ]
  },
  {
   "cell_type": "markdown",
   "metadata": {
    "papermill": {
     "duration": 0.018858,
     "end_time": "2021-07-30T15:48:30.596738",
     "exception": false,
     "start_time": "2021-07-30T15:48:30.577880",
     "status": "completed"
    },
    "tags": []
   },
   "source": [
    "# Modules loading"
   ]
  },
  {
   "cell_type": "code",
   "execution_count": 1,
   "metadata": {
    "execution": {
     "iopub.execute_input": "2021-07-30T15:48:30.641282Z",
     "iopub.status.busy": "2021-07-30T15:48:30.640903Z",
     "iopub.status.idle": "2021-07-30T15:48:30.648480Z",
     "shell.execute_reply": "2021-07-30T15:48:30.648127Z"
    },
    "papermill": {
     "duration": 0.032332,
     "end_time": "2021-07-30T15:48:30.648569",
     "exception": false,
     "start_time": "2021-07-30T15:48:30.616237",
     "status": "completed"
    },
    "tags": []
   },
   "outputs": [],
   "source": [
    "%load_ext autoreload\n",
    "%autoreload 2"
   ]
  },
  {
   "cell_type": "code",
   "execution_count": 2,
   "metadata": {
    "execution": {
     "iopub.execute_input": "2021-07-30T15:48:30.690598Z",
     "iopub.status.busy": "2021-07-30T15:48:30.690239Z",
     "iopub.status.idle": "2021-07-30T15:48:31.069580Z",
     "shell.execute_reply": "2021-07-30T15:48:31.069144Z"
    },
    "papermill": {
     "duration": 0.401379,
     "end_time": "2021-07-30T15:48:31.069674",
     "exception": false,
     "start_time": "2021-07-30T15:48:30.668295",
     "status": "completed"
    },
    "tags": []
   },
   "outputs": [],
   "source": [
    "from pathlib import Path\n",
    "\n",
    "from IPython.display import display\n",
    "import pandas as pd\n",
    "\n",
    "import rpy2.robjects as ro\n",
    "from rpy2.robjects import pandas2ri\n",
    "from rpy2.robjects.conversion import localconverter\n",
    "\n",
    "import conf"
   ]
  },
  {
   "cell_type": "code",
   "execution_count": 3,
   "metadata": {
    "execution": {
     "iopub.execute_input": "2021-07-30T15:48:31.116493Z",
     "iopub.status.busy": "2021-07-30T15:48:31.116118Z",
     "iopub.status.idle": "2021-07-30T15:48:31.125419Z",
     "shell.execute_reply": "2021-07-30T15:48:31.125015Z"
    },
    "papermill": {
     "duration": 0.033582,
     "end_time": "2021-07-30T15:48:31.125509",
     "exception": false,
     "start_time": "2021-07-30T15:48:31.091927",
     "status": "completed"
    },
    "tags": []
   },
   "outputs": [],
   "source": [
    "readRDS = ro.r[\"readRDS\"]"
   ]
  },
  {
   "cell_type": "code",
   "execution_count": 4,
   "metadata": {
    "execution": {
     "iopub.execute_input": "2021-07-30T15:48:31.170191Z",
     "iopub.status.busy": "2021-07-30T15:48:31.169840Z",
     "iopub.status.idle": "2021-07-30T15:48:31.177403Z",
     "shell.execute_reply": "2021-07-30T15:48:31.177705Z"
    },
    "papermill": {
     "duration": 0.030234,
     "end_time": "2021-07-30T15:48:31.177804",
     "exception": false,
     "start_time": "2021-07-30T15:48:31.147570",
     "status": "completed"
    },
    "tags": []
   },
   "outputs": [],
   "source": [
    "saveRDS = ro.r[\"saveRDS\"]"
   ]
  },
  {
   "cell_type": "markdown",
   "metadata": {
    "papermill": {
     "duration": 0.019226,
     "end_time": "2021-07-30T15:48:31.216860",
     "exception": false,
     "start_time": "2021-07-30T15:48:31.197634",
     "status": "completed"
    },
    "tags": []
   },
   "source": [
    "# Read entire recount data prep file"
   ]
  },
  {
   "cell_type": "code",
   "execution_count": 5,
   "metadata": {
    "execution": {
     "iopub.execute_input": "2021-07-30T15:48:31.258476Z",
     "iopub.status.busy": "2021-07-30T15:48:31.258124Z",
     "iopub.status.idle": "2021-07-30T15:48:31.270334Z",
     "shell.execute_reply": "2021-07-30T15:48:31.269959Z"
    },
    "papermill": {
     "duration": 0.034412,
     "end_time": "2021-07-30T15:48:31.270418",
     "exception": false,
     "start_time": "2021-07-30T15:48:31.236006",
     "status": "completed"
    },
    "tags": []
   },
   "outputs": [
    {
     "data": {
      "text/plain": [
       "PosixPath('/home/miltondp/projects/labs/greenelab/phenoplier/base/data/recount2/recount_data_prep_PLIER.RDS')"
      ]
     },
     "execution_count": 5,
     "metadata": {},
     "output_type": "execute_result"
    }
   ],
   "source": [
    "conf.RECOUNT2[\"PREPROCESSED_GENE_EXPRESSION_FILE\"]"
   ]
  },
  {
   "cell_type": "code",
   "execution_count": 6,
   "metadata": {
    "execution": {
     "iopub.execute_input": "2021-07-30T15:48:31.313825Z",
     "iopub.status.busy": "2021-07-30T15:48:31.313470Z",
     "iopub.status.idle": "2021-07-30T15:48:43.820086Z",
     "shell.execute_reply": "2021-07-30T15:48:43.819711Z"
    },
    "papermill": {
     "duration": 12.52879,
     "end_time": "2021-07-30T15:48:43.820172",
     "exception": false,
     "start_time": "2021-07-30T15:48:31.291382",
     "status": "completed"
    },
    "tags": []
   },
   "outputs": [],
   "source": [
    "recount_data_prep = readRDS(str(conf.RECOUNT2[\"PREPROCESSED_GENE_EXPRESSION_FILE\"]))"
   ]
  },
  {
   "cell_type": "markdown",
   "metadata": {
    "papermill": {
     "duration": 0.019483,
     "end_time": "2021-07-30T15:48:43.859122",
     "exception": false,
     "start_time": "2021-07-30T15:48:43.839639",
     "status": "completed"
    },
    "tags": []
   },
   "source": [
    "# Read recount2 gene expression data"
   ]
  },
  {
   "cell_type": "code",
   "execution_count": 7,
   "metadata": {
    "execution": {
     "iopub.execute_input": "2021-07-30T15:48:43.900289Z",
     "iopub.status.busy": "2021-07-30T15:48:43.899923Z",
     "iopub.status.idle": "2021-07-30T15:48:43.907774Z",
     "shell.execute_reply": "2021-07-30T15:48:43.907380Z"
    },
    "papermill": {
     "duration": 0.029275,
     "end_time": "2021-07-30T15:48:43.907860",
     "exception": false,
     "start_time": "2021-07-30T15:48:43.878585",
     "status": "completed"
    },
    "tags": []
   },
   "outputs": [],
   "source": [
    "recount2_rpkl_cm = recount_data_prep.rx2(\"rpkm.cm\")"
   ]
  },
  {
   "cell_type": "code",
   "execution_count": 8,
   "metadata": {
    "execution": {
     "iopub.execute_input": "2021-07-30T15:48:43.951007Z",
     "iopub.status.busy": "2021-07-30T15:48:43.950647Z",
     "iopub.status.idle": "2021-07-30T15:48:43.963729Z",
     "shell.execute_reply": "2021-07-30T15:48:43.963363Z"
    },
    "papermill": {
     "duration": 0.035381,
     "end_time": "2021-07-30T15:48:43.963811",
     "exception": false,
     "start_time": "2021-07-30T15:48:43.928430",
     "status": "completed"
    },
    "tags": []
   },
   "outputs": [
    {
     "data": {
      "text/html": [
       "\n",
       "        <span>R/rpy2 DataFrame (6750 x 37032)</span>\n",
       "        <table>\n",
       "          <thead>\n",
       "            <tr>\n",
       "              \n",
       "              <th>SRP000599.SRR013549</th>\n",
       "              \n",
       "              <th>SRP000599.SRR013550</th>\n",
       "              \n",
       "              <th>SRP000599.SRR013551</th>\n",
       "              \n",
       "              <th>...</th>\n",
       "              \n",
       "              <th>SRP035599.SRR1139382</th>\n",
       "              \n",
       "              <th>SRP035599.SRR1139356</th>\n",
       "              \n",
       "              <th>SRP035599.SRR1139370</th>\n",
       "              \n",
       "            </tr>\n",
       "          </thead>\n",
       "          <tbody>\n",
       "          \n",
       "          <tr>\n",
       "            \n",
       "            <td>\n",
       "              -0.312500\n",
       "            </td>\n",
       "            \n",
       "            <td>\n",
       "              -0.312931\n",
       "            </td>\n",
       "            \n",
       "            <td>\n",
       "              -0.312931\n",
       "            </td>\n",
       "            \n",
       "            <td>\n",
       "              ...\n",
       "            </td>\n",
       "            \n",
       "            <td>\n",
       "              -0.300220\n",
       "            </td>\n",
       "            \n",
       "            <td>\n",
       "              -0.297667\n",
       "            </td>\n",
       "            \n",
       "            <td>\n",
       "              -0.310151\n",
       "            </td>\n",
       "            \n",
       "          </tr>\n",
       "          \n",
       "          <tr>\n",
       "            \n",
       "            <td>\n",
       "              -0.328279\n",
       "            </td>\n",
       "            \n",
       "            <td>\n",
       "              -0.328279\n",
       "            </td>\n",
       "            \n",
       "            <td>\n",
       "              -0.328279\n",
       "            </td>\n",
       "            \n",
       "            <td>\n",
       "              \n",
       "            </td>\n",
       "            \n",
       "            <td>\n",
       "              -0.326339\n",
       "            </td>\n",
       "            \n",
       "            <td>\n",
       "              -0.322127\n",
       "            </td>\n",
       "            \n",
       "            <td>\n",
       "              -0.327438\n",
       "            </td>\n",
       "            \n",
       "          </tr>\n",
       "          \n",
       "          <tr>\n",
       "            \n",
       "            <td>\n",
       "              -0.286319\n",
       "            </td>\n",
       "            \n",
       "            <td>\n",
       "              -0.286859\n",
       "            </td>\n",
       "            \n",
       "            <td>\n",
       "              -0.286859\n",
       "            </td>\n",
       "            \n",
       "            <td>\n",
       "              \n",
       "            </td>\n",
       "            \n",
       "            <td>\n",
       "              -0.286671\n",
       "            </td>\n",
       "            \n",
       "            <td>\n",
       "              -0.286859\n",
       "            </td>\n",
       "            \n",
       "            <td>\n",
       "              -0.286740\n",
       "            </td>\n",
       "            \n",
       "          </tr>\n",
       "          \n",
       "          <tr>\n",
       "            \n",
       "            <td>\n",
       "              -0.536646\n",
       "            </td>\n",
       "            \n",
       "            <td>\n",
       "              -0.536646\n",
       "            </td>\n",
       "            \n",
       "            <td>\n",
       "              -0.536646\n",
       "            </td>\n",
       "            \n",
       "            <td>\n",
       "              \n",
       "            </td>\n",
       "            \n",
       "            <td>\n",
       "              2.458255\n",
       "            </td>\n",
       "            \n",
       "            <td>\n",
       "              2.919662\n",
       "            </td>\n",
       "            \n",
       "            <td>\n",
       "              1.410846\n",
       "            </td>\n",
       "            \n",
       "          </tr>\n",
       "          \n",
       "          <tr>\n",
       "            \n",
       "            <td>\n",
       "              ...\n",
       "            </td>\n",
       "            \n",
       "            <td>\n",
       "              ...\n",
       "            </td>\n",
       "            \n",
       "            <td>\n",
       "              ...\n",
       "            </td>\n",
       "            \n",
       "            <td>\n",
       "              \n",
       "            </td>\n",
       "            \n",
       "            <td>\n",
       "              ...\n",
       "            </td>\n",
       "            \n",
       "            <td>\n",
       "              ...\n",
       "            </td>\n",
       "            \n",
       "            <td>\n",
       "              ...\n",
       "            </td>\n",
       "            \n",
       "          </tr>\n",
       "          \n",
       "          <tr>\n",
       "            \n",
       "            <td>\n",
       "              -0.142179\n",
       "            </td>\n",
       "            \n",
       "            <td>\n",
       "              -0.142384\n",
       "            </td>\n",
       "            \n",
       "            <td>\n",
       "              -0.140314\n",
       "            </td>\n",
       "            \n",
       "            <td>\n",
       "              \n",
       "            </td>\n",
       "            \n",
       "            <td>\n",
       "              -0.139339\n",
       "            </td>\n",
       "            \n",
       "            <td>\n",
       "              -0.142384\n",
       "            </td>\n",
       "            \n",
       "            <td>\n",
       "              -0.142232\n",
       "            </td>\n",
       "            \n",
       "          </tr>\n",
       "          \n",
       "          <tr>\n",
       "            \n",
       "            <td>\n",
       "              -0.349886\n",
       "            </td>\n",
       "            \n",
       "            <td>\n",
       "              -0.349886\n",
       "            </td>\n",
       "            \n",
       "            <td>\n",
       "              -0.349886\n",
       "            </td>\n",
       "            \n",
       "            <td>\n",
       "              \n",
       "            </td>\n",
       "            \n",
       "            <td>\n",
       "              -0.264224\n",
       "            </td>\n",
       "            \n",
       "            <td>\n",
       "              0.020815\n",
       "            </td>\n",
       "            \n",
       "            <td>\n",
       "              -0.324208\n",
       "            </td>\n",
       "            \n",
       "          </tr>\n",
       "          \n",
       "          <tr>\n",
       "            \n",
       "            <td>\n",
       "              -0.085582\n",
       "            </td>\n",
       "            \n",
       "            <td>\n",
       "              -0.085582\n",
       "            </td>\n",
       "            \n",
       "            <td>\n",
       "              -0.085582\n",
       "            </td>\n",
       "            \n",
       "            <td>\n",
       "              \n",
       "            </td>\n",
       "            \n",
       "            <td>\n",
       "              0.603333\n",
       "            </td>\n",
       "            \n",
       "            <td>\n",
       "              0.915213\n",
       "            </td>\n",
       "            \n",
       "            <td>\n",
       "              1.788489\n",
       "            </td>\n",
       "            \n",
       "          </tr>\n",
       "          \n",
       "          <tr>\n",
       "            \n",
       "            <td>\n",
       "              -0.567112\n",
       "            </td>\n",
       "            \n",
       "            <td>\n",
       "              -0.569146\n",
       "            </td>\n",
       "            \n",
       "            <td>\n",
       "              -0.569146\n",
       "            </td>\n",
       "            \n",
       "            <td>\n",
       "              \n",
       "            </td>\n",
       "            \n",
       "            <td>\n",
       "              -0.455832\n",
       "            </td>\n",
       "            \n",
       "            <td>\n",
       "              -0.378093\n",
       "            </td>\n",
       "            \n",
       "            <td>\n",
       "              -0.491513\n",
       "            </td>\n",
       "            \n",
       "          </tr>\n",
       "          \n",
       "          </tbody>\n",
       "        </table>\n",
       "    "
      ],
      "text/plain": [
       "R object with classes: ('data.frame',) mapped to:\n",
       "[FloatSexp..., FloatSexp..., FloatSexp..., FloatSexp..., ..., FloatSexp..., FloatSexp..., FloatSexp..., FloatSexp...]\n",
       "  SRP000599.SRR013549: <class 'rpy2.robjects.vectors.FloatVector'>\n",
       "  R object with classes: ('numeric',) mapped to:\n",
       "[-0.312500, -0.328279, -0.286319, -0.536646, ..., -0.142179, -0.349886, -0.085582, -0.567112]\n",
       "  SRP000599.SRR013550: <class 'rpy2.robjects.vectors.FloatVector'>\n",
       "  R object with classes: ('numeric',) mapped to:\n",
       "[-0.312931, -0.328279, -0.286859, -0.536646, ..., -0.142384, -0.349886, -0.085582, -0.569146]\n",
       "  SRP000599.SRR013551: <class 'rpy2.robjects.vectors.FloatVector'>\n",
       "  R object with classes: ('numeric',) mapped to:\n",
       "[-0.312931, -0.328279, -0.286859, -0.536646, ..., -0.140314, -0.349886, -0.085582, -0.569146]\n",
       "  SRP000599.SRR013552: <class 'rpy2.robjects.vectors.FloatVector'>\n",
       "  R object with classes: ('numeric',) mapped to:\n",
       "[-0.312931, -0.328279, -0.286859, -0.536646, ..., -0.142384, -0.349886, -0.085582, -0.569146]\n",
       "...\n",
       "  SRP000599.SRR013554: <class 'rpy2.robjects.vectors.FloatVector'>\n",
       "  R object with classes: ('numeric',) mapped to:\n",
       "[-0.309599, -0.326375, -0.286859, 1.507099, ..., -0.142304, -0.149655, 1.280258, -0.340927]\n",
       "  SRP000599.SRR013555: <class 'rpy2.robjects.vectors.FloatVector'>\n",
       "  R object with classes: ('numeric',) mapped to:\n",
       "[-0.300220, -0.326339, -0.286671, 2.458255, ..., -0.139339, -0.264224, 0.603333, -0.455832]\n",
       "  SRP000599.SRR013556: <class 'rpy2.robjects.vectors.FloatVector'>\n",
       "  R object with classes: ('numeric',) mapped to:\n",
       "[-0.297667, -0.322127, -0.286859, 2.919662, ..., -0.142384, 0.020815, 0.915213, -0.378093]\n",
       "  SRP000599.SRR013557: <class 'rpy2.robjects.vectors.FloatVector'>\n",
       "  R object with classes: ('numeric',) mapped to:\n",
       "[-0.310151, -0.327438, -0.286740, 1.410846, ..., -0.142232, -0.324208, 1.788489, -0.491513]"
      ]
     },
     "execution_count": 8,
     "metadata": {},
     "output_type": "execute_result"
    }
   ],
   "source": [
    "recount2_rpkl_cm"
   ]
  },
  {
   "cell_type": "code",
   "execution_count": 9,
   "metadata": {
    "execution": {
     "iopub.execute_input": "2021-07-30T15:48:44.005934Z",
     "iopub.status.busy": "2021-07-30T15:48:44.005568Z",
     "iopub.status.idle": "2021-07-30T15:48:44.014534Z",
     "shell.execute_reply": "2021-07-30T15:48:44.014169Z"
    },
    "papermill": {
     "duration": 0.03086,
     "end_time": "2021-07-30T15:48:44.014617",
     "exception": false,
     "start_time": "2021-07-30T15:48:43.983757",
     "status": "completed"
    },
    "tags": []
   },
   "outputs": [
    {
     "data": {
      "text/html": [
       "\n",
       "        <span>StrVector with 6750 elements.</span>\n",
       "        <table>\n",
       "        <tbody>\n",
       "          <tr>\n",
       "          \n",
       "            <td>\n",
       "            'GAS6'\n",
       "            </td>\n",
       "          \n",
       "            <td>\n",
       "            'MMP14'\n",
       "            </td>\n",
       "          \n",
       "            <td>\n",
       "            'DSP'\n",
       "            </td>\n",
       "          \n",
       "            <td>\n",
       "            ...\n",
       "            </td>\n",
       "          \n",
       "            <td>\n",
       "            'PLEKHG6'\n",
       "            </td>\n",
       "          \n",
       "            <td>\n",
       "            'GNGT2'\n",
       "            </td>\n",
       "          \n",
       "            <td>\n",
       "            'SERPINH1'\n",
       "            </td>\n",
       "          \n",
       "          </tr>\n",
       "        </tbody>\n",
       "        </table>\n",
       "        "
      ],
      "text/plain": [
       "R object with classes: ('character',) mapped to:\n",
       "['GAS6', 'MMP14', 'DSP', 'MARCKSL1', ..., 'NFIB', 'PLEKHG6', 'GNGT2', 'SERPINH1']"
      ]
     },
     "execution_count": 9,
     "metadata": {},
     "output_type": "execute_result"
    }
   ],
   "source": [
    "recount2_rpkl_cm.rownames"
   ]
  },
  {
   "cell_type": "code",
   "execution_count": 10,
   "metadata": {
    "execution": {
     "iopub.execute_input": "2021-07-30T15:48:44.058593Z",
     "iopub.status.busy": "2021-07-30T15:48:44.058241Z",
     "iopub.status.idle": "2021-07-30T15:48:44.067276Z",
     "shell.execute_reply": "2021-07-30T15:48:44.066939Z"
    },
    "papermill": {
     "duration": 0.031593,
     "end_time": "2021-07-30T15:48:44.067376",
     "exception": false,
     "start_time": "2021-07-30T15:48:44.035783",
     "status": "completed"
    },
    "tags": []
   },
   "outputs": [
    {
     "data": {
      "text/html": [
       "\n",
       "        <span>StrVector with 37032 elements.</span>\n",
       "        <table>\n",
       "        <tbody>\n",
       "          <tr>\n",
       "          \n",
       "            <td>\n",
       "            'SRP00059...\n",
       "            </td>\n",
       "          \n",
       "            <td>\n",
       "            'SRP00059...\n",
       "            </td>\n",
       "          \n",
       "            <td>\n",
       "            'SRP00059...\n",
       "            </td>\n",
       "          \n",
       "            <td>\n",
       "            ...\n",
       "            </td>\n",
       "          \n",
       "            <td>\n",
       "            'SRP03559...\n",
       "            </td>\n",
       "          \n",
       "            <td>\n",
       "            'SRP03559...\n",
       "            </td>\n",
       "          \n",
       "            <td>\n",
       "            'SRP03559...\n",
       "            </td>\n",
       "          \n",
       "          </tr>\n",
       "        </tbody>\n",
       "        </table>\n",
       "        "
      ],
      "text/plain": [
       "R object with classes: ('character',) mapped to:\n",
       "['SRP00059..., 'SRP00059..., 'SRP00059..., 'SRP00059..., ..., 'SRP03559..., 'SRP03559..., 'SRP03559..., 'SRP03559...]"
      ]
     },
     "execution_count": 10,
     "metadata": {},
     "output_type": "execute_result"
    }
   ],
   "source": [
    "recount2_rpkl_cm.colnames"
   ]
  },
  {
   "cell_type": "code",
   "execution_count": 11,
   "metadata": {
    "execution": {
     "iopub.execute_input": "2021-07-30T15:48:44.117522Z",
     "iopub.status.busy": "2021-07-30T15:48:44.117110Z",
     "iopub.status.idle": "2021-07-30T15:48:48.290619Z",
     "shell.execute_reply": "2021-07-30T15:48:48.290960Z"
    },
    "papermill": {
     "duration": 4.198435,
     "end_time": "2021-07-30T15:48:48.291076",
     "exception": false,
     "start_time": "2021-07-30T15:48:44.092641",
     "status": "completed"
    },
    "tags": []
   },
   "outputs": [],
   "source": [
    "with localconverter(ro.default_converter + pandas2ri.converter):\n",
    "    recount2_rpkl_cm = ro.conversion.rpy2py(recount2_rpkl_cm)"
   ]
  },
  {
   "cell_type": "code",
   "execution_count": 12,
   "metadata": {
    "execution": {
     "iopub.execute_input": "2021-07-30T15:48:48.337290Z",
     "iopub.status.busy": "2021-07-30T15:48:48.336923Z",
     "iopub.status.idle": "2021-07-30T15:48:48.344191Z",
     "shell.execute_reply": "2021-07-30T15:48:48.343835Z"
    },
    "papermill": {
     "duration": 0.030555,
     "end_time": "2021-07-30T15:48:48.344273",
     "exception": false,
     "start_time": "2021-07-30T15:48:48.313718",
     "status": "completed"
    },
    "tags": []
   },
   "outputs": [],
   "source": [
    "assert recount2_rpkl_cm.shape == (6750, 37032)"
   ]
  },
  {
   "cell_type": "code",
   "execution_count": 13,
   "metadata": {
    "execution": {
     "iopub.execute_input": "2021-07-30T15:48:48.388828Z",
     "iopub.status.busy": "2021-07-30T15:48:48.388433Z",
     "iopub.status.idle": "2021-07-30T15:48:48.396610Z",
     "shell.execute_reply": "2021-07-30T15:48:48.396242Z"
    },
    "papermill": {
     "duration": 0.031391,
     "end_time": "2021-07-30T15:48:48.396701",
     "exception": false,
     "start_time": "2021-07-30T15:48:48.365310",
     "status": "completed"
    },
    "tags": []
   },
   "outputs": [
    {
     "data": {
      "text/plain": [
       "(6750, 37032)"
      ]
     },
     "execution_count": 13,
     "metadata": {},
     "output_type": "execute_result"
    }
   ],
   "source": [
    "recount2_rpkl_cm.shape"
   ]
  },
  {
   "cell_type": "code",
   "execution_count": 14,
   "metadata": {
    "execution": {
     "iopub.execute_input": "2021-07-30T15:48:48.441549Z",
     "iopub.status.busy": "2021-07-30T15:48:48.441197Z",
     "iopub.status.idle": "2021-07-30T15:48:48.465343Z",
     "shell.execute_reply": "2021-07-30T15:48:48.464972Z"
    },
    "papermill": {
     "duration": 0.047079,
     "end_time": "2021-07-30T15:48:48.465427",
     "exception": false,
     "start_time": "2021-07-30T15:48:48.418348",
     "status": "completed"
    },
    "tags": []
   },
   "outputs": [
    {
     "data": {
      "text/html": [
       "<div>\n",
       "<style scoped>\n",
       "    .dataframe tbody tr th:only-of-type {\n",
       "        vertical-align: middle;\n",
       "    }\n",
       "\n",
       "    .dataframe tbody tr th {\n",
       "        vertical-align: top;\n",
       "    }\n",
       "\n",
       "    .dataframe thead th {\n",
       "        text-align: right;\n",
       "    }\n",
       "</style>\n",
       "<table border=\"1\" class=\"dataframe\">\n",
       "  <thead>\n",
       "    <tr style=\"text-align: right;\">\n",
       "      <th></th>\n",
       "      <th>SRP000599.SRR013549</th>\n",
       "      <th>SRP000599.SRR013550</th>\n",
       "      <th>SRP000599.SRR013551</th>\n",
       "      <th>SRP000599.SRR013552</th>\n",
       "      <th>SRP000599.SRR013553</th>\n",
       "      <th>SRP000599.SRR013554</th>\n",
       "      <th>SRP000599.SRR013555</th>\n",
       "      <th>SRP000599.SRR013556</th>\n",
       "      <th>SRP000599.SRR013557</th>\n",
       "      <th>SRP000599.SRR013558</th>\n",
       "      <th>...</th>\n",
       "      <th>SRP035599.SRR1139372</th>\n",
       "      <th>SRP035599.SRR1139393</th>\n",
       "      <th>SRP035599.SRR1139388</th>\n",
       "      <th>SRP035599.SRR1139378</th>\n",
       "      <th>SRP035599.SRR1139399</th>\n",
       "      <th>SRP035599.SRR1139386</th>\n",
       "      <th>SRP035599.SRR1139375</th>\n",
       "      <th>SRP035599.SRR1139382</th>\n",
       "      <th>SRP035599.SRR1139356</th>\n",
       "      <th>SRP035599.SRR1139370</th>\n",
       "    </tr>\n",
       "  </thead>\n",
       "  <tbody>\n",
       "    <tr>\n",
       "      <th>GAS6</th>\n",
       "      <td>-0.312500</td>\n",
       "      <td>-0.312931</td>\n",
       "      <td>-0.312931</td>\n",
       "      <td>-0.312931</td>\n",
       "      <td>-0.312931</td>\n",
       "      <td>-0.308253</td>\n",
       "      <td>-0.312931</td>\n",
       "      <td>-0.312931</td>\n",
       "      <td>-0.312931</td>\n",
       "      <td>-0.312931</td>\n",
       "      <td>...</td>\n",
       "      <td>-0.301711</td>\n",
       "      <td>-0.305581</td>\n",
       "      <td>-0.303344</td>\n",
       "      <td>-0.297800</td>\n",
       "      <td>-0.307122</td>\n",
       "      <td>-0.285499</td>\n",
       "      <td>-0.309599</td>\n",
       "      <td>-0.300220</td>\n",
       "      <td>-0.297667</td>\n",
       "      <td>-0.310151</td>\n",
       "    </tr>\n",
       "    <tr>\n",
       "      <th>MMP14</th>\n",
       "      <td>-0.328279</td>\n",
       "      <td>-0.328279</td>\n",
       "      <td>-0.328279</td>\n",
       "      <td>-0.328279</td>\n",
       "      <td>-0.328279</td>\n",
       "      <td>-0.328279</td>\n",
       "      <td>-0.328279</td>\n",
       "      <td>-0.328279</td>\n",
       "      <td>-0.328279</td>\n",
       "      <td>-0.325140</td>\n",
       "      <td>...</td>\n",
       "      <td>-0.314587</td>\n",
       "      <td>-0.322952</td>\n",
       "      <td>-0.326439</td>\n",
       "      <td>-0.325994</td>\n",
       "      <td>-0.326272</td>\n",
       "      <td>-0.322523</td>\n",
       "      <td>-0.326375</td>\n",
       "      <td>-0.326339</td>\n",
       "      <td>-0.322127</td>\n",
       "      <td>-0.327438</td>\n",
       "    </tr>\n",
       "    <tr>\n",
       "      <th>DSP</th>\n",
       "      <td>-0.286319</td>\n",
       "      <td>-0.286859</td>\n",
       "      <td>-0.286859</td>\n",
       "      <td>-0.286859</td>\n",
       "      <td>-0.286859</td>\n",
       "      <td>-0.286859</td>\n",
       "      <td>-0.277195</td>\n",
       "      <td>-0.256862</td>\n",
       "      <td>-0.278790</td>\n",
       "      <td>-0.269701</td>\n",
       "      <td>...</td>\n",
       "      <td>-0.286859</td>\n",
       "      <td>-0.286859</td>\n",
       "      <td>-0.286745</td>\n",
       "      <td>-0.286688</td>\n",
       "      <td>-0.286725</td>\n",
       "      <td>-0.286529</td>\n",
       "      <td>-0.286859</td>\n",
       "      <td>-0.286671</td>\n",
       "      <td>-0.286859</td>\n",
       "      <td>-0.286740</td>\n",
       "    </tr>\n",
       "    <tr>\n",
       "      <th>MARCKSL1</th>\n",
       "      <td>-0.536646</td>\n",
       "      <td>-0.536646</td>\n",
       "      <td>-0.536646</td>\n",
       "      <td>-0.536646</td>\n",
       "      <td>-0.536646</td>\n",
       "      <td>-0.536646</td>\n",
       "      <td>-0.536646</td>\n",
       "      <td>-0.536646</td>\n",
       "      <td>-0.536646</td>\n",
       "      <td>-0.536646</td>\n",
       "      <td>...</td>\n",
       "      <td>0.807663</td>\n",
       "      <td>1.294564</td>\n",
       "      <td>1.527655</td>\n",
       "      <td>1.404788</td>\n",
       "      <td>1.047931</td>\n",
       "      <td>0.892119</td>\n",
       "      <td>1.507099</td>\n",
       "      <td>2.458255</td>\n",
       "      <td>2.919662</td>\n",
       "      <td>1.410846</td>\n",
       "    </tr>\n",
       "    <tr>\n",
       "      <th>SPARC</th>\n",
       "      <td>-0.370498</td>\n",
       "      <td>-0.370498</td>\n",
       "      <td>-0.369171</td>\n",
       "      <td>-0.370498</td>\n",
       "      <td>-0.370498</td>\n",
       "      <td>-0.370498</td>\n",
       "      <td>-0.370498</td>\n",
       "      <td>-0.370498</td>\n",
       "      <td>-0.370498</td>\n",
       "      <td>-0.370498</td>\n",
       "      <td>...</td>\n",
       "      <td>-0.345409</td>\n",
       "      <td>-0.310750</td>\n",
       "      <td>-0.348120</td>\n",
       "      <td>-0.356938</td>\n",
       "      <td>-0.355206</td>\n",
       "      <td>-0.366197</td>\n",
       "      <td>-0.351174</td>\n",
       "      <td>-0.363703</td>\n",
       "      <td>-0.350825</td>\n",
       "      <td>-0.360762</td>\n",
       "    </tr>\n",
       "  </tbody>\n",
       "</table>\n",
       "<p>5 rows × 37032 columns</p>\n",
       "</div>"
      ],
      "text/plain": [
       "          SRP000599.SRR013549  SRP000599.SRR013550  SRP000599.SRR013551  \\\n",
       "GAS6                -0.312500            -0.312931            -0.312931   \n",
       "MMP14               -0.328279            -0.328279            -0.328279   \n",
       "DSP                 -0.286319            -0.286859            -0.286859   \n",
       "MARCKSL1            -0.536646            -0.536646            -0.536646   \n",
       "SPARC               -0.370498            -0.370498            -0.369171   \n",
       "\n",
       "          SRP000599.SRR013552  SRP000599.SRR013553  SRP000599.SRR013554  \\\n",
       "GAS6                -0.312931            -0.312931            -0.308253   \n",
       "MMP14               -0.328279            -0.328279            -0.328279   \n",
       "DSP                 -0.286859            -0.286859            -0.286859   \n",
       "MARCKSL1            -0.536646            -0.536646            -0.536646   \n",
       "SPARC               -0.370498            -0.370498            -0.370498   \n",
       "\n",
       "          SRP000599.SRR013555  SRP000599.SRR013556  SRP000599.SRR013557  \\\n",
       "GAS6                -0.312931            -0.312931            -0.312931   \n",
       "MMP14               -0.328279            -0.328279            -0.328279   \n",
       "DSP                 -0.277195            -0.256862            -0.278790   \n",
       "MARCKSL1            -0.536646            -0.536646            -0.536646   \n",
       "SPARC               -0.370498            -0.370498            -0.370498   \n",
       "\n",
       "          SRP000599.SRR013558  ...  SRP035599.SRR1139372  \\\n",
       "GAS6                -0.312931  ...             -0.301711   \n",
       "MMP14               -0.325140  ...             -0.314587   \n",
       "DSP                 -0.269701  ...             -0.286859   \n",
       "MARCKSL1            -0.536646  ...              0.807663   \n",
       "SPARC               -0.370498  ...             -0.345409   \n",
       "\n",
       "          SRP035599.SRR1139393  SRP035599.SRR1139388  SRP035599.SRR1139378  \\\n",
       "GAS6                 -0.305581             -0.303344             -0.297800   \n",
       "MMP14                -0.322952             -0.326439             -0.325994   \n",
       "DSP                  -0.286859             -0.286745             -0.286688   \n",
       "MARCKSL1              1.294564              1.527655              1.404788   \n",
       "SPARC                -0.310750             -0.348120             -0.356938   \n",
       "\n",
       "          SRP035599.SRR1139399  SRP035599.SRR1139386  SRP035599.SRR1139375  \\\n",
       "GAS6                 -0.307122             -0.285499             -0.309599   \n",
       "MMP14                -0.326272             -0.322523             -0.326375   \n",
       "DSP                  -0.286725             -0.286529             -0.286859   \n",
       "MARCKSL1              1.047931              0.892119              1.507099   \n",
       "SPARC                -0.355206             -0.366197             -0.351174   \n",
       "\n",
       "          SRP035599.SRR1139382  SRP035599.SRR1139356  SRP035599.SRR1139370  \n",
       "GAS6                 -0.300220             -0.297667             -0.310151  \n",
       "MMP14                -0.326339             -0.322127             -0.327438  \n",
       "DSP                  -0.286671             -0.286859             -0.286740  \n",
       "MARCKSL1              2.458255              2.919662              1.410846  \n",
       "SPARC                -0.363703             -0.350825             -0.360762  \n",
       "\n",
       "[5 rows x 37032 columns]"
      ]
     },
     "execution_count": 14,
     "metadata": {},
     "output_type": "execute_result"
    }
   ],
   "source": [
    "recount2_rpkl_cm.head()"
   ]
  },
  {
   "cell_type": "markdown",
   "metadata": {
    "papermill": {
     "duration": 0.020769,
     "end_time": "2021-07-30T15:48:48.507994",
     "exception": false,
     "start_time": "2021-07-30T15:48:48.487225",
     "status": "completed"
    },
    "tags": []
   },
   "source": [
    "## Testing"
   ]
  },
  {
   "cell_type": "markdown",
   "metadata": {
    "papermill": {
     "duration": 0.020896,
     "end_time": "2021-07-30T15:48:48.549662",
     "exception": false,
     "start_time": "2021-07-30T15:48:48.528766",
     "status": "completed"
    },
    "tags": []
   },
   "source": [
    "Test whether what I load from a plain R session is the same as in here."
   ]
  },
  {
   "cell_type": "code",
   "execution_count": 15,
   "metadata": {
    "execution": {
     "iopub.execute_input": "2021-07-30T15:48:48.593961Z",
     "iopub.status.busy": "2021-07-30T15:48:48.593605Z",
     "iopub.status.idle": "2021-07-30T15:48:48.603303Z",
     "shell.execute_reply": "2021-07-30T15:48:48.602936Z"
    },
    "papermill": {
     "duration": 0.032779,
     "end_time": "2021-07-30T15:48:48.603387",
     "exception": false,
     "start_time": "2021-07-30T15:48:48.570608",
     "status": "completed"
    },
    "tags": []
   },
   "outputs": [
    {
     "data": {
      "text/plain": [
       "-0.3124999764074366"
      ]
     },
     "execution_count": 15,
     "metadata": {},
     "output_type": "execute_result"
    }
   ],
   "source": [
    "recount2_rpkl_cm.loc[\"GAS6\", \"SRP000599.SRR013549\"]"
   ]
  },
  {
   "cell_type": "code",
   "execution_count": 16,
   "metadata": {
    "execution": {
     "iopub.execute_input": "2021-07-30T15:48:48.649669Z",
     "iopub.status.busy": "2021-07-30T15:48:48.649297Z",
     "iopub.status.idle": "2021-07-30T15:48:48.656772Z",
     "shell.execute_reply": "2021-07-30T15:48:48.656406Z"
    },
    "papermill": {
     "duration": 0.031241,
     "end_time": "2021-07-30T15:48:48.656871",
     "exception": false,
     "start_time": "2021-07-30T15:48:48.625630",
     "status": "completed"
    },
    "tags": []
   },
   "outputs": [],
   "source": [
    "assert recount2_rpkl_cm.loc[\"GAS6\", \"SRP000599.SRR013549\"].round(4) == -0.3125"
   ]
  },
  {
   "cell_type": "code",
   "execution_count": 17,
   "metadata": {
    "execution": {
     "iopub.execute_input": "2021-07-30T15:48:48.703273Z",
     "iopub.status.busy": "2021-07-30T15:48:48.702916Z",
     "iopub.status.idle": "2021-07-30T15:48:48.710539Z",
     "shell.execute_reply": "2021-07-30T15:48:48.710171Z"
    },
    "papermill": {
     "duration": 0.031473,
     "end_time": "2021-07-30T15:48:48.710621",
     "exception": false,
     "start_time": "2021-07-30T15:48:48.679148",
     "status": "completed"
    },
    "tags": []
   },
   "outputs": [],
   "source": [
    "assert recount2_rpkl_cm.loc[\"GAS6\", \"SRP045352.SRR1539229\"].round(7) == -0.2843801"
   ]
  },
  {
   "cell_type": "code",
   "execution_count": 18,
   "metadata": {
    "execution": {
     "iopub.execute_input": "2021-07-30T15:48:48.757441Z",
     "iopub.status.busy": "2021-07-30T15:48:48.757083Z",
     "iopub.status.idle": "2021-07-30T15:48:48.764831Z",
     "shell.execute_reply": "2021-07-30T15:48:48.764407Z"
    },
    "papermill": {
     "duration": 0.031585,
     "end_time": "2021-07-30T15:48:48.764913",
     "exception": false,
     "start_time": "2021-07-30T15:48:48.733328",
     "status": "completed"
    },
    "tags": []
   },
   "outputs": [],
   "source": [
    "assert recount2_rpkl_cm.loc[\"CFL2\", \"SRP056840.SRR1951636\"].round(7) == -0.3412832"
   ]
  },
  {
   "cell_type": "code",
   "execution_count": 19,
   "metadata": {
    "execution": {
     "iopub.execute_input": "2021-07-30T15:48:48.810754Z",
     "iopub.status.busy": "2021-07-30T15:48:48.810388Z",
     "iopub.status.idle": "2021-07-30T15:48:48.818815Z",
     "shell.execute_reply": "2021-07-30T15:48:48.818462Z"
    },
    "papermill": {
     "duration": 0.03279,
     "end_time": "2021-07-30T15:48:48.818896",
     "exception": false,
     "start_time": "2021-07-30T15:48:48.786106",
     "status": "completed"
    },
    "tags": []
   },
   "outputs": [
    {
     "data": {
      "text/plain": [
       "-0.49388522390959116"
      ]
     },
     "execution_count": 19,
     "metadata": {},
     "output_type": "execute_result"
    }
   ],
   "source": [
    "recount2_rpkl_cm.iloc[9, 16]"
   ]
  },
  {
   "cell_type": "code",
   "execution_count": 20,
   "metadata": {
    "execution": {
     "iopub.execute_input": "2021-07-30T15:48:48.866262Z",
     "iopub.status.busy": "2021-07-30T15:48:48.865909Z",
     "iopub.status.idle": "2021-07-30T15:48:48.873501Z",
     "shell.execute_reply": "2021-07-30T15:48:48.873141Z"
    },
    "papermill": {
     "duration": 0.031912,
     "end_time": "2021-07-30T15:48:48.873582",
     "exception": false,
     "start_time": "2021-07-30T15:48:48.841670",
     "status": "completed"
    },
    "tags": []
   },
   "outputs": [],
   "source": [
    "assert recount2_rpkl_cm.iloc[9, 16].round(7) == -0.4938852"
   ]
  },
  {
   "cell_type": "markdown",
   "metadata": {
    "papermill": {
     "duration": 0.021229,
     "end_time": "2021-07-30T15:48:48.916784",
     "exception": false,
     "start_time": "2021-07-30T15:48:48.895555",
     "status": "completed"
    },
    "tags": []
   },
   "source": [
    "## Save"
   ]
  },
  {
   "cell_type": "markdown",
   "metadata": {
    "papermill": {
     "duration": 0.021439,
     "end_time": "2021-07-30T15:48:48.959343",
     "exception": false,
     "start_time": "2021-07-30T15:48:48.937904",
     "status": "completed"
    },
    "tags": []
   },
   "source": [
    "### Pickle format (binary)"
   ]
  },
  {
   "cell_type": "code",
   "execution_count": 21,
   "metadata": {
    "execution": {
     "iopub.execute_input": "2021-07-30T15:48:49.004510Z",
     "iopub.status.busy": "2021-07-30T15:48:49.004152Z",
     "iopub.status.idle": "2021-07-30T15:48:49.012415Z",
     "shell.execute_reply": "2021-07-30T15:48:49.012727Z"
    },
    "papermill": {
     "duration": 0.0322,
     "end_time": "2021-07-30T15:48:49.012840",
     "exception": false,
     "start_time": "2021-07-30T15:48:48.980640",
     "status": "completed"
    },
    "tags": []
   },
   "outputs": [
    {
     "data": {
      "text/plain": [
       "PosixPath('/home/miltondp/projects/labs/greenelab/phenoplier/base/data/recount2/recount_data_prep_PLIER.pkl')"
      ]
     },
     "metadata": {},
     "output_type": "display_data"
    }
   ],
   "source": [
    "output_filename = Path(\n",
    "    conf.RECOUNT2[\"BASE_DIR\"], \"recount_data_prep_PLIER.pkl\"\n",
    ").resolve()\n",
    "\n",
    "display(output_filename)"
   ]
  },
  {
   "cell_type": "code",
   "execution_count": 22,
   "metadata": {
    "execution": {
     "iopub.execute_input": "2021-07-30T15:48:49.058623Z",
     "iopub.status.busy": "2021-07-30T15:48:49.058268Z",
     "iopub.status.idle": "2021-07-30T15:49:00.548301Z",
     "shell.execute_reply": "2021-07-30T15:49:00.546776Z"
    },
    "papermill": {
     "duration": 11.514026,
     "end_time": "2021-07-30T15:49:00.548623",
     "exception": false,
     "start_time": "2021-07-30T15:48:49.034597",
     "status": "completed"
    },
    "tags": []
   },
   "outputs": [],
   "source": [
    "recount2_rpkl_cm.to_pickle(output_filename)"
   ]
  },
  {
   "cell_type": "markdown",
   "metadata": {
    "papermill": {
     "duration": 0.021689,
     "end_time": "2021-07-30T15:49:00.623197",
     "exception": false,
     "start_time": "2021-07-30T15:49:00.601508",
     "status": "completed"
    },
    "tags": []
   },
   "source": [
    "### HDF5 format (binary)"
   ]
  },
  {
   "cell_type": "markdown",
   "metadata": {
    "papermill": {
     "duration": 0.021455,
     "end_time": "2021-07-30T15:49:00.666083",
     "exception": false,
     "start_time": "2021-07-30T15:49:00.644628",
     "status": "completed"
    },
    "tags": []
   },
   "source": [
    "This code is now commented out, but it might be helpful in the future if we wanted to save this data in HDF5 for more efficient access."
   ]
  },
  {
   "cell_type": "code",
   "execution_count": 23,
   "metadata": {
    "execution": {
     "iopub.execute_input": "2021-07-30T15:49:00.710887Z",
     "iopub.status.busy": "2021-07-30T15:49:00.710530Z",
     "iopub.status.idle": "2021-07-30T15:49:00.717569Z",
     "shell.execute_reply": "2021-07-30T15:49:00.717254Z"
    },
    "papermill": {
     "duration": 0.030296,
     "end_time": "2021-07-30T15:49:00.717653",
     "exception": false,
     "start_time": "2021-07-30T15:49:00.687357",
     "status": "completed"
    },
    "tags": []
   },
   "outputs": [],
   "source": [
    "# from utils.hdf5 import simplify_string_for_hdf5"
   ]
  },
  {
   "cell_type": "code",
   "execution_count": 24,
   "metadata": {
    "execution": {
     "iopub.execute_input": "2021-07-30T15:49:00.764044Z",
     "iopub.status.busy": "2021-07-30T15:49:00.763678Z",
     "iopub.status.idle": "2021-07-30T15:49:00.770463Z",
     "shell.execute_reply": "2021-07-30T15:49:00.770730Z"
    },
    "papermill": {
     "duration": 0.030877,
     "end_time": "2021-07-30T15:49:00.770830",
     "exception": false,
     "start_time": "2021-07-30T15:49:00.739953",
     "status": "completed"
    },
    "tags": []
   },
   "outputs": [],
   "source": [
    "# output_filename = os.path.join(conf.DATA_DIR, 'recount_data_prep_PLIER.h5')\n",
    "# display(output_filename)"
   ]
  },
  {
   "cell_type": "code",
   "execution_count": 25,
   "metadata": {
    "execution": {
     "iopub.execute_input": "2021-07-30T15:49:00.816339Z",
     "iopub.status.busy": "2021-07-30T15:49:00.815986Z",
     "iopub.status.idle": "2021-07-30T15:49:00.822656Z",
     "shell.execute_reply": "2021-07-30T15:49:00.822922Z"
    },
    "papermill": {
     "duration": 0.030516,
     "end_time": "2021-07-30T15:49:00.823020",
     "exception": false,
     "start_time": "2021-07-30T15:49:00.792504",
     "status": "completed"
    },
    "tags": []
   },
   "outputs": [],
   "source": [
    "# with pd.HDFStore(output_filename, mode='w', complevel=1) as store:\n",
    "#     for idx, gene in enumerate(recount2_rpkl_cm.index):\n",
    "#         if idx % 100:\n",
    "#             print(f'', flush=True, end='')\n",
    "\n",
    "#         clean_gene = simplify_string_for_hdf5(gene)\n",
    "#         store[clean_gene] = recount2_rpkl_cm.loc[gene]"
   ]
  },
  {
   "cell_type": "code",
   "execution_count": 26,
   "metadata": {
    "execution": {
     "iopub.execute_input": "2021-07-30T15:49:00.868674Z",
     "iopub.status.busy": "2021-07-30T15:49:00.868306Z",
     "iopub.status.idle": "2021-07-30T15:49:00.875320Z",
     "shell.execute_reply": "2021-07-30T15:49:00.875613Z"
    },
    "papermill": {
     "duration": 0.031192,
     "end_time": "2021-07-30T15:49:00.875716",
     "exception": false,
     "start_time": "2021-07-30T15:49:00.844524",
     "status": "completed"
    },
    "tags": []
   },
   "outputs": [],
   "source": [
    "# delete the object to save memory\n",
    "del recount2_rpkl_cm"
   ]
  },
  {
   "cell_type": "markdown",
   "metadata": {
    "papermill": {
     "duration": 0.02131,
     "end_time": "2021-07-30T15:49:00.919008",
     "exception": false,
     "start_time": "2021-07-30T15:49:00.897698",
     "status": "completed"
    },
    "tags": []
   },
   "source": [
    "# Read recount2 pathways"
   ]
  },
  {
   "cell_type": "code",
   "execution_count": 27,
   "metadata": {
    "execution": {
     "iopub.execute_input": "2021-07-30T15:49:00.964397Z",
     "iopub.status.busy": "2021-07-30T15:49:00.964033Z",
     "iopub.status.idle": "2021-07-30T15:49:00.971249Z",
     "shell.execute_reply": "2021-07-30T15:49:00.971536Z"
    },
    "papermill": {
     "duration": 0.031237,
     "end_time": "2021-07-30T15:49:00.971636",
     "exception": false,
     "start_time": "2021-07-30T15:49:00.940399",
     "status": "completed"
    },
    "tags": []
   },
   "outputs": [],
   "source": [
    "recount2_all_paths_cm = recount_data_prep.rx2(\"all.paths.cm\")"
   ]
  },
  {
   "cell_type": "code",
   "execution_count": 28,
   "metadata": {
    "execution": {
     "iopub.execute_input": "2021-07-30T15:49:01.019785Z",
     "iopub.status.busy": "2021-07-30T15:49:01.019435Z",
     "iopub.status.idle": "2021-07-30T15:49:01.027885Z",
     "shell.execute_reply": "2021-07-30T15:49:01.027550Z"
    },
    "papermill": {
     "duration": 0.033711,
     "end_time": "2021-07-30T15:49:01.027968",
     "exception": false,
     "start_time": "2021-07-30T15:49:00.994257",
     "status": "completed"
    },
    "tags": []
   },
   "outputs": [
    {
     "data": {
      "text/html": [
       "\n",
       "        <span>FloatMatrix with 4239000 elements.</span>\n",
       "        <table>\n",
       "        <tbody>\n",
       "          <tr>\n",
       "          \n",
       "            <td>\n",
       "            0.000000\n",
       "            </td>\n",
       "          \n",
       "            <td>\n",
       "            0.000000\n",
       "            </td>\n",
       "          \n",
       "            <td>\n",
       "            0.000000\n",
       "            </td>\n",
       "          \n",
       "            <td>\n",
       "            ...\n",
       "            </td>\n",
       "          \n",
       "            <td>\n",
       "            0.000000\n",
       "            </td>\n",
       "          \n",
       "            <td>\n",
       "            0.000000\n",
       "            </td>\n",
       "          \n",
       "            <td>\n",
       "            0.000000\n",
       "            </td>\n",
       "          \n",
       "          </tr>\n",
       "        </tbody>\n",
       "        </table>\n",
       "        "
      ],
      "text/plain": [
       "R object with classes: ('matrix',) mapped to:\n",
       "[0.000000, 0.000000, 0.000000, 0.000000, ..., 0.000000, 0.000000, 0.000000, 0.000000]"
      ]
     },
     "execution_count": 28,
     "metadata": {},
     "output_type": "execute_result"
    }
   ],
   "source": [
    "recount2_all_paths_cm"
   ]
  },
  {
   "cell_type": "code",
   "execution_count": 29,
   "metadata": {
    "execution": {
     "iopub.execute_input": "2021-07-30T15:49:01.074605Z",
     "iopub.status.busy": "2021-07-30T15:49:01.074254Z",
     "iopub.status.idle": "2021-07-30T15:49:01.082911Z",
     "shell.execute_reply": "2021-07-30T15:49:01.082542Z"
    },
    "papermill": {
     "duration": 0.032647,
     "end_time": "2021-07-30T15:49:01.082997",
     "exception": false,
     "start_time": "2021-07-30T15:49:01.050350",
     "status": "completed"
    },
    "tags": []
   },
   "outputs": [
    {
     "data": {
      "text/html": [
       "\n",
       "        <span>StrVector with 6750 elements.</span>\n",
       "        <table>\n",
       "        <tbody>\n",
       "          <tr>\n",
       "          \n",
       "            <td>\n",
       "            'GAS6'\n",
       "            </td>\n",
       "          \n",
       "            <td>\n",
       "            'MMP14'\n",
       "            </td>\n",
       "          \n",
       "            <td>\n",
       "            'DSP'\n",
       "            </td>\n",
       "          \n",
       "            <td>\n",
       "            ...\n",
       "            </td>\n",
       "          \n",
       "            <td>\n",
       "            'PLEKHG6'\n",
       "            </td>\n",
       "          \n",
       "            <td>\n",
       "            'GNGT2'\n",
       "            </td>\n",
       "          \n",
       "            <td>\n",
       "            'SERPINH1'\n",
       "            </td>\n",
       "          \n",
       "          </tr>\n",
       "        </tbody>\n",
       "        </table>\n",
       "        "
      ],
      "text/plain": [
       "R object with classes: ('character',) mapped to:\n",
       "['GAS6', 'MMP14', 'DSP', 'MARCKSL1', ..., 'NFIB', 'PLEKHG6', 'GNGT2', 'SERPINH1']"
      ]
     },
     "execution_count": 29,
     "metadata": {},
     "output_type": "execute_result"
    }
   ],
   "source": [
    "recount2_all_paths_cm.rownames"
   ]
  },
  {
   "cell_type": "code",
   "execution_count": 30,
   "metadata": {
    "execution": {
     "iopub.execute_input": "2021-07-30T15:49:01.152489Z",
     "iopub.status.busy": "2021-07-30T15:49:01.152024Z",
     "iopub.status.idle": "2021-07-30T15:49:01.162355Z",
     "shell.execute_reply": "2021-07-30T15:49:01.161952Z"
    },
    "papermill": {
     "duration": 0.056753,
     "end_time": "2021-07-30T15:49:01.162460",
     "exception": false,
     "start_time": "2021-07-30T15:49:01.105707",
     "status": "completed"
    },
    "tags": []
   },
   "outputs": [
    {
     "data": {
      "text/html": [
       "\n",
       "        <span>StrVector with 628 elements.</span>\n",
       "        <table>\n",
       "        <tbody>\n",
       "          <tr>\n",
       "          \n",
       "            <td>\n",
       "            'IRIS_Bce...\n",
       "            </td>\n",
       "          \n",
       "            <td>\n",
       "            'IRIS_Bce...\n",
       "            </td>\n",
       "          \n",
       "            <td>\n",
       "            'IRIS_Bce...\n",
       "            </td>\n",
       "          \n",
       "            <td>\n",
       "            ...\n",
       "            </td>\n",
       "          \n",
       "            <td>\n",
       "            'PID_BCR_...\n",
       "            </td>\n",
       "          \n",
       "            <td>\n",
       "            'PID_TELO...\n",
       "            </td>\n",
       "          \n",
       "            <td>\n",
       "            'PID_PI3K...\n",
       "            </td>\n",
       "          \n",
       "          </tr>\n",
       "        </tbody>\n",
       "        </table>\n",
       "        "
      ],
      "text/plain": [
       "R object with classes: ('character',) mapped to:\n",
       "['IRIS_Bce..., 'IRIS_Bce..., 'IRIS_Bce..., 'IRIS_CD4..., ..., 'REACTOME..., 'PID_BCR_..., 'PID_TELO..., 'PID_PI3K...]"
      ]
     },
     "execution_count": 30,
     "metadata": {},
     "output_type": "execute_result"
    }
   ],
   "source": [
    "recount2_all_paths_cm.colnames"
   ]
  },
  {
   "cell_type": "code",
   "execution_count": 31,
   "metadata": {
    "execution": {
     "iopub.execute_input": "2021-07-30T15:49:01.216523Z",
     "iopub.status.busy": "2021-07-30T15:49:01.216173Z",
     "iopub.status.idle": "2021-07-30T15:49:01.226635Z",
     "shell.execute_reply": "2021-07-30T15:49:01.226936Z"
    },
    "papermill": {
     "duration": 0.036641,
     "end_time": "2021-07-30T15:49:01.227050",
     "exception": false,
     "start_time": "2021-07-30T15:49:01.190409",
     "status": "completed"
    },
    "tags": []
   },
   "outputs": [],
   "source": [
    "with localconverter(ro.default_converter + pandas2ri.converter):\n",
    "    recount2_all_paths_cm_values = ro.conversion.rpy2py(recount2_all_paths_cm)"
   ]
  },
  {
   "cell_type": "code",
   "execution_count": 32,
   "metadata": {
    "execution": {
     "iopub.execute_input": "2021-07-30T15:49:01.279112Z",
     "iopub.status.busy": "2021-07-30T15:49:01.278734Z",
     "iopub.status.idle": "2021-07-30T15:49:01.287368Z",
     "shell.execute_reply": "2021-07-30T15:49:01.286998Z"
    },
    "papermill": {
     "duration": 0.034185,
     "end_time": "2021-07-30T15:49:01.287454",
     "exception": false,
     "start_time": "2021-07-30T15:49:01.253269",
     "status": "completed"
    },
    "tags": []
   },
   "outputs": [
    {
     "data": {
      "text/plain": [
       "array([[0., 0., 0., ..., 0., 0., 0.],\n",
       "       [0., 0., 0., ..., 0., 0., 0.],\n",
       "       [0., 0., 1., ..., 0., 0., 0.],\n",
       "       ...,\n",
       "       [0., 0., 0., ..., 0., 0., 0.],\n",
       "       [0., 0., 0., ..., 0., 0., 0.],\n",
       "       [0., 0., 0., ..., 0., 0., 0.]])"
      ]
     },
     "execution_count": 32,
     "metadata": {},
     "output_type": "execute_result"
    }
   ],
   "source": [
    "recount2_all_paths_cm_values"
   ]
  },
  {
   "cell_type": "code",
   "execution_count": 33,
   "metadata": {
    "execution": {
     "iopub.execute_input": "2021-07-30T15:49:01.336202Z",
     "iopub.status.busy": "2021-07-30T15:49:01.335826Z",
     "iopub.status.idle": "2021-07-30T15:49:01.364100Z",
     "shell.execute_reply": "2021-07-30T15:49:01.364375Z"
    },
    "papermill": {
     "duration": 0.053537,
     "end_time": "2021-07-30T15:49:01.364495",
     "exception": false,
     "start_time": "2021-07-30T15:49:01.310958",
     "status": "completed"
    },
    "tags": []
   },
   "outputs": [],
   "source": [
    "recount2_all_paths_cm_df = pd.DataFrame(\n",
    "    data=recount2_all_paths_cm_values,\n",
    "    index=recount2_all_paths_cm.rownames,\n",
    "    columns=recount2_all_paths_cm.colnames,\n",
    "    dtype=bool,\n",
    ")"
   ]
  },
  {
   "cell_type": "code",
   "execution_count": 34,
   "metadata": {
    "execution": {
     "iopub.execute_input": "2021-07-30T15:49:01.414461Z",
     "iopub.status.busy": "2021-07-30T15:49:01.414091Z",
     "iopub.status.idle": "2021-07-30T15:49:01.421557Z",
     "shell.execute_reply": "2021-07-30T15:49:01.421175Z"
    },
    "papermill": {
     "duration": 0.033495,
     "end_time": "2021-07-30T15:49:01.421643",
     "exception": false,
     "start_time": "2021-07-30T15:49:01.388148",
     "status": "completed"
    },
    "tags": []
   },
   "outputs": [],
   "source": [
    "assert recount2_all_paths_cm_df.shape == (6750, 628)"
   ]
  },
  {
   "cell_type": "code",
   "execution_count": 35,
   "metadata": {
    "execution": {
     "iopub.execute_input": "2021-07-30T15:49:01.471440Z",
     "iopub.status.busy": "2021-07-30T15:49:01.471086Z",
     "iopub.status.idle": "2021-07-30T15:49:01.479336Z",
     "shell.execute_reply": "2021-07-30T15:49:01.478988Z"
    },
    "papermill": {
     "duration": 0.033293,
     "end_time": "2021-07-30T15:49:01.479415",
     "exception": false,
     "start_time": "2021-07-30T15:49:01.446122",
     "status": "completed"
    },
    "tags": []
   },
   "outputs": [
    {
     "data": {
      "text/plain": [
       "(6750, 628)"
      ]
     },
     "execution_count": 35,
     "metadata": {},
     "output_type": "execute_result"
    }
   ],
   "source": [
    "recount2_all_paths_cm_df.shape"
   ]
  },
  {
   "cell_type": "code",
   "execution_count": 36,
   "metadata": {
    "execution": {
     "iopub.execute_input": "2021-07-30T15:49:01.527483Z",
     "iopub.status.busy": "2021-07-30T15:49:01.527124Z",
     "iopub.status.idle": "2021-07-30T15:49:01.535215Z",
     "shell.execute_reply": "2021-07-30T15:49:01.535485Z"
    },
    "papermill": {
     "duration": 0.033388,
     "end_time": "2021-07-30T15:49:01.535587",
     "exception": false,
     "start_time": "2021-07-30T15:49:01.502199",
     "status": "completed"
    },
    "tags": []
   },
   "outputs": [
    {
     "data": {
      "text/plain": [
       "array([dtype('bool')], dtype=object)"
      ]
     },
     "execution_count": 36,
     "metadata": {},
     "output_type": "execute_result"
    }
   ],
   "source": [
    "recount2_all_paths_cm_df.dtypes.unique()"
   ]
  },
  {
   "cell_type": "code",
   "execution_count": 37,
   "metadata": {
    "execution": {
     "iopub.execute_input": "2021-07-30T15:49:01.584328Z",
     "iopub.status.busy": "2021-07-30T15:49:01.583973Z",
     "iopub.status.idle": "2021-07-30T15:49:01.604622Z",
     "shell.execute_reply": "2021-07-30T15:49:01.604260Z"
    },
    "papermill": {
     "duration": 0.045771,
     "end_time": "2021-07-30T15:49:01.604728",
     "exception": false,
     "start_time": "2021-07-30T15:49:01.558957",
     "status": "completed"
    },
    "tags": []
   },
   "outputs": [
    {
     "data": {
      "text/html": [
       "<div>\n",
       "<style scoped>\n",
       "    .dataframe tbody tr th:only-of-type {\n",
       "        vertical-align: middle;\n",
       "    }\n",
       "\n",
       "    .dataframe tbody tr th {\n",
       "        vertical-align: top;\n",
       "    }\n",
       "\n",
       "    .dataframe thead th {\n",
       "        text-align: right;\n",
       "    }\n",
       "</style>\n",
       "<table border=\"1\" class=\"dataframe\">\n",
       "  <thead>\n",
       "    <tr style=\"text-align: right;\">\n",
       "      <th></th>\n",
       "      <th>IRIS_Bcell-Memory_IgG_IgA</th>\n",
       "      <th>IRIS_Bcell-Memory_IgM</th>\n",
       "      <th>IRIS_Bcell-naive</th>\n",
       "      <th>IRIS_CD4Tcell-N0</th>\n",
       "      <th>IRIS_CD4Tcell-Th1-restimulated12hour</th>\n",
       "      <th>IRIS_CD4Tcell-Th1-restimulated48hour</th>\n",
       "      <th>IRIS_CD4Tcell-Th2-restimulated12hour</th>\n",
       "      <th>IRIS_CD4Tcell-Th2-restimulated48hour</th>\n",
       "      <th>IRIS_CD8Tcell-N0</th>\n",
       "      <th>IRIS_DendriticCell-Control</th>\n",
       "      <th>...</th>\n",
       "      <th>KEGG_GNRH_SIGNALING_PATHWAY</th>\n",
       "      <th>KEGG_BASAL_TRANSCRIPTION_FACTORS</th>\n",
       "      <th>REACTOME_SYNTHESIS_OF_DNA</th>\n",
       "      <th>KEGG_HEMATOPOIETIC_CELL_LINEAGE</th>\n",
       "      <th>KEGG_T_CELL_RECEPTOR_SIGNALING_PATHWAY</th>\n",
       "      <th>PID_IL4_2PATHWAY</th>\n",
       "      <th>REACTOME_SIGNALING_BY_THE_B_CELL_RECEPTOR_BCR</th>\n",
       "      <th>PID_BCR_5PATHWAY</th>\n",
       "      <th>PID_TELOMERASEPATHWAY</th>\n",
       "      <th>PID_PI3KPLCTRKPATHWAY</th>\n",
       "    </tr>\n",
       "  </thead>\n",
       "  <tbody>\n",
       "    <tr>\n",
       "      <th>GAS6</th>\n",
       "      <td>False</td>\n",
       "      <td>False</td>\n",
       "      <td>False</td>\n",
       "      <td>False</td>\n",
       "      <td>False</td>\n",
       "      <td>False</td>\n",
       "      <td>False</td>\n",
       "      <td>False</td>\n",
       "      <td>False</td>\n",
       "      <td>True</td>\n",
       "      <td>...</td>\n",
       "      <td>False</td>\n",
       "      <td>False</td>\n",
       "      <td>False</td>\n",
       "      <td>False</td>\n",
       "      <td>False</td>\n",
       "      <td>False</td>\n",
       "      <td>False</td>\n",
       "      <td>False</td>\n",
       "      <td>False</td>\n",
       "      <td>False</td>\n",
       "    </tr>\n",
       "    <tr>\n",
       "      <th>MMP14</th>\n",
       "      <td>False</td>\n",
       "      <td>False</td>\n",
       "      <td>False</td>\n",
       "      <td>False</td>\n",
       "      <td>False</td>\n",
       "      <td>False</td>\n",
       "      <td>False</td>\n",
       "      <td>False</td>\n",
       "      <td>False</td>\n",
       "      <td>False</td>\n",
       "      <td>...</td>\n",
       "      <td>True</td>\n",
       "      <td>False</td>\n",
       "      <td>False</td>\n",
       "      <td>False</td>\n",
       "      <td>False</td>\n",
       "      <td>False</td>\n",
       "      <td>False</td>\n",
       "      <td>False</td>\n",
       "      <td>False</td>\n",
       "      <td>False</td>\n",
       "    </tr>\n",
       "    <tr>\n",
       "      <th>DSP</th>\n",
       "      <td>False</td>\n",
       "      <td>False</td>\n",
       "      <td>True</td>\n",
       "      <td>False</td>\n",
       "      <td>False</td>\n",
       "      <td>False</td>\n",
       "      <td>False</td>\n",
       "      <td>False</td>\n",
       "      <td>False</td>\n",
       "      <td>False</td>\n",
       "      <td>...</td>\n",
       "      <td>False</td>\n",
       "      <td>False</td>\n",
       "      <td>False</td>\n",
       "      <td>False</td>\n",
       "      <td>False</td>\n",
       "      <td>False</td>\n",
       "      <td>False</td>\n",
       "      <td>False</td>\n",
       "      <td>False</td>\n",
       "      <td>False</td>\n",
       "    </tr>\n",
       "    <tr>\n",
       "      <th>MARCKSL1</th>\n",
       "      <td>False</td>\n",
       "      <td>False</td>\n",
       "      <td>False</td>\n",
       "      <td>False</td>\n",
       "      <td>False</td>\n",
       "      <td>False</td>\n",
       "      <td>False</td>\n",
       "      <td>False</td>\n",
       "      <td>False</td>\n",
       "      <td>False</td>\n",
       "      <td>...</td>\n",
       "      <td>False</td>\n",
       "      <td>False</td>\n",
       "      <td>False</td>\n",
       "      <td>False</td>\n",
       "      <td>False</td>\n",
       "      <td>False</td>\n",
       "      <td>False</td>\n",
       "      <td>False</td>\n",
       "      <td>False</td>\n",
       "      <td>False</td>\n",
       "    </tr>\n",
       "    <tr>\n",
       "      <th>SPARC</th>\n",
       "      <td>False</td>\n",
       "      <td>False</td>\n",
       "      <td>False</td>\n",
       "      <td>False</td>\n",
       "      <td>False</td>\n",
       "      <td>False</td>\n",
       "      <td>False</td>\n",
       "      <td>False</td>\n",
       "      <td>False</td>\n",
       "      <td>False</td>\n",
       "      <td>...</td>\n",
       "      <td>False</td>\n",
       "      <td>False</td>\n",
       "      <td>False</td>\n",
       "      <td>False</td>\n",
       "      <td>False</td>\n",
       "      <td>False</td>\n",
       "      <td>False</td>\n",
       "      <td>False</td>\n",
       "      <td>False</td>\n",
       "      <td>False</td>\n",
       "    </tr>\n",
       "  </tbody>\n",
       "</table>\n",
       "<p>5 rows × 628 columns</p>\n",
       "</div>"
      ],
      "text/plain": [
       "          IRIS_Bcell-Memory_IgG_IgA  IRIS_Bcell-Memory_IgM  IRIS_Bcell-naive  \\\n",
       "GAS6                          False                  False             False   \n",
       "MMP14                         False                  False             False   \n",
       "DSP                           False                  False              True   \n",
       "MARCKSL1                      False                  False             False   \n",
       "SPARC                         False                  False             False   \n",
       "\n",
       "          IRIS_CD4Tcell-N0  IRIS_CD4Tcell-Th1-restimulated12hour  \\\n",
       "GAS6                 False                                 False   \n",
       "MMP14                False                                 False   \n",
       "DSP                  False                                 False   \n",
       "MARCKSL1             False                                 False   \n",
       "SPARC                False                                 False   \n",
       "\n",
       "          IRIS_CD4Tcell-Th1-restimulated48hour  \\\n",
       "GAS6                                     False   \n",
       "MMP14                                    False   \n",
       "DSP                                      False   \n",
       "MARCKSL1                                 False   \n",
       "SPARC                                    False   \n",
       "\n",
       "          IRIS_CD4Tcell-Th2-restimulated12hour  \\\n",
       "GAS6                                     False   \n",
       "MMP14                                    False   \n",
       "DSP                                      False   \n",
       "MARCKSL1                                 False   \n",
       "SPARC                                    False   \n",
       "\n",
       "          IRIS_CD4Tcell-Th2-restimulated48hour  IRIS_CD8Tcell-N0  \\\n",
       "GAS6                                     False             False   \n",
       "MMP14                                    False             False   \n",
       "DSP                                      False             False   \n",
       "MARCKSL1                                 False             False   \n",
       "SPARC                                    False             False   \n",
       "\n",
       "          IRIS_DendriticCell-Control  ...  KEGG_GNRH_SIGNALING_PATHWAY  \\\n",
       "GAS6                            True  ...                        False   \n",
       "MMP14                          False  ...                         True   \n",
       "DSP                            False  ...                        False   \n",
       "MARCKSL1                       False  ...                        False   \n",
       "SPARC                          False  ...                        False   \n",
       "\n",
       "          KEGG_BASAL_TRANSCRIPTION_FACTORS  REACTOME_SYNTHESIS_OF_DNA  \\\n",
       "GAS6                                 False                      False   \n",
       "MMP14                                False                      False   \n",
       "DSP                                  False                      False   \n",
       "MARCKSL1                             False                      False   \n",
       "SPARC                                False                      False   \n",
       "\n",
       "          KEGG_HEMATOPOIETIC_CELL_LINEAGE  \\\n",
       "GAS6                                False   \n",
       "MMP14                               False   \n",
       "DSP                                 False   \n",
       "MARCKSL1                            False   \n",
       "SPARC                               False   \n",
       "\n",
       "          KEGG_T_CELL_RECEPTOR_SIGNALING_PATHWAY  PID_IL4_2PATHWAY  \\\n",
       "GAS6                                       False             False   \n",
       "MMP14                                      False             False   \n",
       "DSP                                        False             False   \n",
       "MARCKSL1                                   False             False   \n",
       "SPARC                                      False             False   \n",
       "\n",
       "          REACTOME_SIGNALING_BY_THE_B_CELL_RECEPTOR_BCR  PID_BCR_5PATHWAY  \\\n",
       "GAS6                                              False             False   \n",
       "MMP14                                             False             False   \n",
       "DSP                                               False             False   \n",
       "MARCKSL1                                          False             False   \n",
       "SPARC                                             False             False   \n",
       "\n",
       "          PID_TELOMERASEPATHWAY  PID_PI3KPLCTRKPATHWAY  \n",
       "GAS6                      False                  False  \n",
       "MMP14                     False                  False  \n",
       "DSP                       False                  False  \n",
       "MARCKSL1                  False                  False  \n",
       "SPARC                     False                  False  \n",
       "\n",
       "[5 rows x 628 columns]"
      ]
     },
     "execution_count": 37,
     "metadata": {},
     "output_type": "execute_result"
    }
   ],
   "source": [
    "recount2_all_paths_cm_df.head()"
   ]
  },
  {
   "cell_type": "markdown",
   "metadata": {
    "papermill": {
     "duration": 0.023201,
     "end_time": "2021-07-30T15:49:01.651740",
     "exception": false,
     "start_time": "2021-07-30T15:49:01.628539",
     "status": "completed"
    },
    "tags": []
   },
   "source": [
    "## Testing"
   ]
  },
  {
   "cell_type": "code",
   "execution_count": 38,
   "metadata": {
    "execution": {
     "iopub.execute_input": "2021-07-30T15:49:01.700381Z",
     "iopub.status.busy": "2021-07-30T15:49:01.700022Z",
     "iopub.status.idle": "2021-07-30T15:49:01.709027Z",
     "shell.execute_reply": "2021-07-30T15:49:01.708618Z"
    },
    "papermill": {
     "duration": 0.034383,
     "end_time": "2021-07-30T15:49:01.709110",
     "exception": false,
     "start_time": "2021-07-30T15:49:01.674727",
     "status": "completed"
    },
    "tags": []
   },
   "outputs": [
    {
     "data": {
      "text/plain": [
       "False"
      ]
     },
     "execution_count": 38,
     "metadata": {},
     "output_type": "execute_result"
    }
   ],
   "source": [
    "recount2_all_paths_cm_df.loc[\"CTSD\", \"REACTOME_SCFSKP2_MEDIATED_DEGRADATION_OF_P27_P21\"]"
   ]
  },
  {
   "cell_type": "code",
   "execution_count": 39,
   "metadata": {
    "execution": {
     "iopub.execute_input": "2021-07-30T15:49:01.758976Z",
     "iopub.status.busy": "2021-07-30T15:49:01.758606Z",
     "iopub.status.idle": "2021-07-30T15:49:01.765415Z",
     "shell.execute_reply": "2021-07-30T15:49:01.765707Z"
    },
    "papermill": {
     "duration": 0.033225,
     "end_time": "2021-07-30T15:49:01.765808",
     "exception": false,
     "start_time": "2021-07-30T15:49:01.732583",
     "status": "completed"
    },
    "tags": []
   },
   "outputs": [],
   "source": [
    "assert not recount2_all_paths_cm_df.loc[\n",
    "    \"CTSD\", \"REACTOME_SCFSKP2_MEDIATED_DEGRADATION_OF_P27_P21\"\n",
    "]"
   ]
  },
  {
   "cell_type": "code",
   "execution_count": 40,
   "metadata": {
    "execution": {
     "iopub.execute_input": "2021-07-30T15:49:01.814937Z",
     "iopub.status.busy": "2021-07-30T15:49:01.814580Z",
     "iopub.status.idle": "2021-07-30T15:49:01.821938Z",
     "shell.execute_reply": "2021-07-30T15:49:01.821565Z"
    },
    "papermill": {
     "duration": 0.032611,
     "end_time": "2021-07-30T15:49:01.822023",
     "exception": false,
     "start_time": "2021-07-30T15:49:01.789412",
     "status": "completed"
    },
    "tags": []
   },
   "outputs": [],
   "source": [
    "assert recount2_all_paths_cm_df.loc[\"CTSD\", \"PID_P53DOWNSTREAMPATHWAY\"]"
   ]
  },
  {
   "cell_type": "code",
   "execution_count": 41,
   "metadata": {
    "execution": {
     "iopub.execute_input": "2021-07-30T15:49:01.873013Z",
     "iopub.status.busy": "2021-07-30T15:49:01.872614Z",
     "iopub.status.idle": "2021-07-30T15:49:01.879798Z",
     "shell.execute_reply": "2021-07-30T15:49:01.879477Z"
    },
    "papermill": {
     "duration": 0.033273,
     "end_time": "2021-07-30T15:49:01.879883",
     "exception": false,
     "start_time": "2021-07-30T15:49:01.846610",
     "status": "completed"
    },
    "tags": []
   },
   "outputs": [],
   "source": [
    "assert recount2_all_paths_cm_df.loc[\"MMP14\", \"PID_HIF2PATHWAY\"]"
   ]
  },
  {
   "cell_type": "markdown",
   "metadata": {
    "papermill": {
     "duration": 0.023482,
     "end_time": "2021-07-30T15:49:01.928107",
     "exception": false,
     "start_time": "2021-07-30T15:49:01.904625",
     "status": "completed"
    },
    "tags": []
   },
   "source": [
    "## Save"
   ]
  },
  {
   "cell_type": "markdown",
   "metadata": {
    "papermill": {
     "duration": 0.023429,
     "end_time": "2021-07-30T15:49:01.975074",
     "exception": false,
     "start_time": "2021-07-30T15:49:01.951645",
     "status": "completed"
    },
    "tags": []
   },
   "source": [
    "### Pickle format"
   ]
  },
  {
   "cell_type": "code",
   "execution_count": 42,
   "metadata": {
    "execution": {
     "iopub.execute_input": "2021-07-30T15:49:02.024293Z",
     "iopub.status.busy": "2021-07-30T15:49:02.023926Z",
     "iopub.status.idle": "2021-07-30T15:49:02.032358Z",
     "shell.execute_reply": "2021-07-30T15:49:02.031989Z"
    },
    "papermill": {
     "duration": 0.034147,
     "end_time": "2021-07-30T15:49:02.032443",
     "exception": false,
     "start_time": "2021-07-30T15:49:01.998296",
     "status": "completed"
    },
    "tags": []
   },
   "outputs": [
    {
     "data": {
      "text/plain": [
       "PosixPath('/home/miltondp/projects/labs/greenelab/phenoplier/base/data/recount2/recount_all_paths_cm.pkl')"
      ]
     },
     "metadata": {},
     "output_type": "display_data"
    }
   ],
   "source": [
    "output_filename = Path(conf.RECOUNT2[\"BASE_DIR\"], \"recount_all_paths_cm.pkl\").resolve()\n",
    "display(output_filename)"
   ]
  },
  {
   "cell_type": "code",
   "execution_count": 43,
   "metadata": {
    "execution": {
     "iopub.execute_input": "2021-07-30T15:49:02.082914Z",
     "iopub.status.busy": "2021-07-30T15:49:02.082547Z",
     "iopub.status.idle": "2021-07-30T15:49:02.094476Z",
     "shell.execute_reply": "2021-07-30T15:49:02.094142Z"
    },
    "papermill": {
     "duration": 0.03818,
     "end_time": "2021-07-30T15:49:02.094568",
     "exception": false,
     "start_time": "2021-07-30T15:49:02.056388",
     "status": "completed"
    },
    "tags": []
   },
   "outputs": [],
   "source": [
    "recount2_all_paths_cm_df.to_pickle(output_filename)"
   ]
  },
  {
   "cell_type": "markdown",
   "metadata": {
    "papermill": {
     "duration": 0.025225,
     "end_time": "2021-07-30T15:49:02.144574",
     "exception": false,
     "start_time": "2021-07-30T15:49:02.119349",
     "status": "completed"
    },
    "tags": []
   },
   "source": [
    "### RDS format"
   ]
  },
  {
   "cell_type": "code",
   "execution_count": 44,
   "metadata": {
    "execution": {
     "iopub.execute_input": "2021-07-30T15:49:02.200119Z",
     "iopub.status.busy": "2021-07-30T15:49:02.199764Z",
     "iopub.status.idle": "2021-07-30T15:49:02.207691Z",
     "shell.execute_reply": "2021-07-30T15:49:02.207326Z"
    },
    "papermill": {
     "duration": 0.035149,
     "end_time": "2021-07-30T15:49:02.207775",
     "exception": false,
     "start_time": "2021-07-30T15:49:02.172626",
     "status": "completed"
    },
    "tags": []
   },
   "outputs": [
    {
     "data": {
      "text/plain": [
       "PosixPath('/home/miltondp/projects/labs/greenelab/phenoplier/base/data/recount2/recount_all_paths_cm.rds')"
      ]
     },
     "metadata": {},
     "output_type": "display_data"
    }
   ],
   "source": [
    "output_rds_file = output_filename.with_suffix(\".rds\")\n",
    "display(output_rds_file)"
   ]
  },
  {
   "cell_type": "code",
   "execution_count": 45,
   "metadata": {
    "execution": {
     "iopub.execute_input": "2021-07-30T15:49:02.258598Z",
     "iopub.status.busy": "2021-07-30T15:49:02.258236Z",
     "iopub.status.idle": "2021-07-30T15:49:02.531316Z",
     "shell.execute_reply": "2021-07-30T15:49:02.530956Z"
    },
    "papermill": {
     "duration": 0.299374,
     "end_time": "2021-07-30T15:49:02.531399",
     "exception": false,
     "start_time": "2021-07-30T15:49:02.232025",
     "status": "completed"
    },
    "tags": []
   },
   "outputs": [
    {
     "data": {
      "text/plain": [
       "<rpy2.rinterface_lib.sexp.NULLType object at 0x7ff3bcdc9b80> [RTYPES.NILSXP]"
      ]
     },
     "execution_count": 45,
     "metadata": {},
     "output_type": "execute_result"
    }
   ],
   "source": [
    "saveRDS(recount2_all_paths_cm, str(output_rds_file))"
   ]
  },
  {
   "cell_type": "markdown",
   "metadata": {
    "papermill": {
     "duration": 0.024062,
     "end_time": "2021-07-30T15:49:02.579772",
     "exception": false,
     "start_time": "2021-07-30T15:49:02.555710",
     "status": "completed"
    },
    "tags": []
   },
   "source": [
    "### Text format"
   ]
  },
  {
   "cell_type": "code",
   "execution_count": 46,
   "metadata": {
    "execution": {
     "iopub.execute_input": "2021-07-30T15:49:02.629819Z",
     "iopub.status.busy": "2021-07-30T15:49:02.629458Z",
     "iopub.status.idle": "2021-07-30T15:49:02.637456Z",
     "shell.execute_reply": "2021-07-30T15:49:02.637140Z"
    },
    "papermill": {
     "duration": 0.034154,
     "end_time": "2021-07-30T15:49:02.637539",
     "exception": false,
     "start_time": "2021-07-30T15:49:02.603385",
     "status": "completed"
    },
    "tags": []
   },
   "outputs": [
    {
     "data": {
      "text/plain": [
       "PosixPath('/home/miltondp/projects/labs/greenelab/phenoplier/base/data/recount2/recount_all_paths_cm.tsv.gz')"
      ]
     },
     "metadata": {},
     "output_type": "display_data"
    }
   ],
   "source": [
    "# tsv format\n",
    "output_text_file = output_filename.with_suffix(\".tsv.gz\")\n",
    "display(output_text_file)"
   ]
  },
  {
   "cell_type": "code",
   "execution_count": 47,
   "metadata": {
    "execution": {
     "iopub.execute_input": "2021-07-30T15:49:02.689142Z",
     "iopub.status.busy": "2021-07-30T15:49:02.688757Z",
     "iopub.status.idle": "2021-07-30T15:49:02.707009Z",
     "shell.execute_reply": "2021-07-30T15:49:02.706641Z"
    },
    "papermill": {
     "duration": 0.044761,
     "end_time": "2021-07-30T15:49:02.707092",
     "exception": false,
     "start_time": "2021-07-30T15:49:02.662331",
     "status": "completed"
    },
    "tags": []
   },
   "outputs": [
    {
     "data": {
      "text/html": [
       "<div>\n",
       "<style scoped>\n",
       "    .dataframe tbody tr th:only-of-type {\n",
       "        vertical-align: middle;\n",
       "    }\n",
       "\n",
       "    .dataframe tbody tr th {\n",
       "        vertical-align: top;\n",
       "    }\n",
       "\n",
       "    .dataframe thead th {\n",
       "        text-align: right;\n",
       "    }\n",
       "</style>\n",
       "<table border=\"1\" class=\"dataframe\">\n",
       "  <thead>\n",
       "    <tr style=\"text-align: right;\">\n",
       "      <th></th>\n",
       "      <th>IRIS_Bcell-Memory_IgG_IgA</th>\n",
       "      <th>IRIS_Bcell-Memory_IgM</th>\n",
       "      <th>IRIS_Bcell-naive</th>\n",
       "      <th>IRIS_CD4Tcell-N0</th>\n",
       "      <th>IRIS_CD4Tcell-Th1-restimulated12hour</th>\n",
       "      <th>IRIS_CD4Tcell-Th1-restimulated48hour</th>\n",
       "      <th>IRIS_CD4Tcell-Th2-restimulated12hour</th>\n",
       "      <th>IRIS_CD4Tcell-Th2-restimulated48hour</th>\n",
       "      <th>IRIS_CD8Tcell-N0</th>\n",
       "      <th>IRIS_DendriticCell-Control</th>\n",
       "      <th>...</th>\n",
       "      <th>KEGG_GNRH_SIGNALING_PATHWAY</th>\n",
       "      <th>KEGG_BASAL_TRANSCRIPTION_FACTORS</th>\n",
       "      <th>REACTOME_SYNTHESIS_OF_DNA</th>\n",
       "      <th>KEGG_HEMATOPOIETIC_CELL_LINEAGE</th>\n",
       "      <th>KEGG_T_CELL_RECEPTOR_SIGNALING_PATHWAY</th>\n",
       "      <th>PID_IL4_2PATHWAY</th>\n",
       "      <th>REACTOME_SIGNALING_BY_THE_B_CELL_RECEPTOR_BCR</th>\n",
       "      <th>PID_BCR_5PATHWAY</th>\n",
       "      <th>PID_TELOMERASEPATHWAY</th>\n",
       "      <th>PID_PI3KPLCTRKPATHWAY</th>\n",
       "    </tr>\n",
       "  </thead>\n",
       "  <tbody>\n",
       "    <tr>\n",
       "      <th>GAS6</th>\n",
       "      <td>0</td>\n",
       "      <td>0</td>\n",
       "      <td>0</td>\n",
       "      <td>0</td>\n",
       "      <td>0</td>\n",
       "      <td>0</td>\n",
       "      <td>0</td>\n",
       "      <td>0</td>\n",
       "      <td>0</td>\n",
       "      <td>1</td>\n",
       "      <td>...</td>\n",
       "      <td>0</td>\n",
       "      <td>0</td>\n",
       "      <td>0</td>\n",
       "      <td>0</td>\n",
       "      <td>0</td>\n",
       "      <td>0</td>\n",
       "      <td>0</td>\n",
       "      <td>0</td>\n",
       "      <td>0</td>\n",
       "      <td>0</td>\n",
       "    </tr>\n",
       "    <tr>\n",
       "      <th>MMP14</th>\n",
       "      <td>0</td>\n",
       "      <td>0</td>\n",
       "      <td>0</td>\n",
       "      <td>0</td>\n",
       "      <td>0</td>\n",
       "      <td>0</td>\n",
       "      <td>0</td>\n",
       "      <td>0</td>\n",
       "      <td>0</td>\n",
       "      <td>0</td>\n",
       "      <td>...</td>\n",
       "      <td>1</td>\n",
       "      <td>0</td>\n",
       "      <td>0</td>\n",
       "      <td>0</td>\n",
       "      <td>0</td>\n",
       "      <td>0</td>\n",
       "      <td>0</td>\n",
       "      <td>0</td>\n",
       "      <td>0</td>\n",
       "      <td>0</td>\n",
       "    </tr>\n",
       "    <tr>\n",
       "      <th>DSP</th>\n",
       "      <td>0</td>\n",
       "      <td>0</td>\n",
       "      <td>1</td>\n",
       "      <td>0</td>\n",
       "      <td>0</td>\n",
       "      <td>0</td>\n",
       "      <td>0</td>\n",
       "      <td>0</td>\n",
       "      <td>0</td>\n",
       "      <td>0</td>\n",
       "      <td>...</td>\n",
       "      <td>0</td>\n",
       "      <td>0</td>\n",
       "      <td>0</td>\n",
       "      <td>0</td>\n",
       "      <td>0</td>\n",
       "      <td>0</td>\n",
       "      <td>0</td>\n",
       "      <td>0</td>\n",
       "      <td>0</td>\n",
       "      <td>0</td>\n",
       "    </tr>\n",
       "    <tr>\n",
       "      <th>MARCKSL1</th>\n",
       "      <td>0</td>\n",
       "      <td>0</td>\n",
       "      <td>0</td>\n",
       "      <td>0</td>\n",
       "      <td>0</td>\n",
       "      <td>0</td>\n",
       "      <td>0</td>\n",
       "      <td>0</td>\n",
       "      <td>0</td>\n",
       "      <td>0</td>\n",
       "      <td>...</td>\n",
       "      <td>0</td>\n",
       "      <td>0</td>\n",
       "      <td>0</td>\n",
       "      <td>0</td>\n",
       "      <td>0</td>\n",
       "      <td>0</td>\n",
       "      <td>0</td>\n",
       "      <td>0</td>\n",
       "      <td>0</td>\n",
       "      <td>0</td>\n",
       "    </tr>\n",
       "    <tr>\n",
       "      <th>SPARC</th>\n",
       "      <td>0</td>\n",
       "      <td>0</td>\n",
       "      <td>0</td>\n",
       "      <td>0</td>\n",
       "      <td>0</td>\n",
       "      <td>0</td>\n",
       "      <td>0</td>\n",
       "      <td>0</td>\n",
       "      <td>0</td>\n",
       "      <td>0</td>\n",
       "      <td>...</td>\n",
       "      <td>0</td>\n",
       "      <td>0</td>\n",
       "      <td>0</td>\n",
       "      <td>0</td>\n",
       "      <td>0</td>\n",
       "      <td>0</td>\n",
       "      <td>0</td>\n",
       "      <td>0</td>\n",
       "      <td>0</td>\n",
       "      <td>0</td>\n",
       "    </tr>\n",
       "  </tbody>\n",
       "</table>\n",
       "<p>5 rows × 628 columns</p>\n",
       "</div>"
      ],
      "text/plain": [
       "          IRIS_Bcell-Memory_IgG_IgA  IRIS_Bcell-Memory_IgM  IRIS_Bcell-naive  \\\n",
       "GAS6                              0                      0                 0   \n",
       "MMP14                             0                      0                 0   \n",
       "DSP                               0                      0                 1   \n",
       "MARCKSL1                          0                      0                 0   \n",
       "SPARC                             0                      0                 0   \n",
       "\n",
       "          IRIS_CD4Tcell-N0  IRIS_CD4Tcell-Th1-restimulated12hour  \\\n",
       "GAS6                     0                                     0   \n",
       "MMP14                    0                                     0   \n",
       "DSP                      0                                     0   \n",
       "MARCKSL1                 0                                     0   \n",
       "SPARC                    0                                     0   \n",
       "\n",
       "          IRIS_CD4Tcell-Th1-restimulated48hour  \\\n",
       "GAS6                                         0   \n",
       "MMP14                                        0   \n",
       "DSP                                          0   \n",
       "MARCKSL1                                     0   \n",
       "SPARC                                        0   \n",
       "\n",
       "          IRIS_CD4Tcell-Th2-restimulated12hour  \\\n",
       "GAS6                                         0   \n",
       "MMP14                                        0   \n",
       "DSP                                          0   \n",
       "MARCKSL1                                     0   \n",
       "SPARC                                        0   \n",
       "\n",
       "          IRIS_CD4Tcell-Th2-restimulated48hour  IRIS_CD8Tcell-N0  \\\n",
       "GAS6                                         0                 0   \n",
       "MMP14                                        0                 0   \n",
       "DSP                                          0                 0   \n",
       "MARCKSL1                                     0                 0   \n",
       "SPARC                                        0                 0   \n",
       "\n",
       "          IRIS_DendriticCell-Control  ...  KEGG_GNRH_SIGNALING_PATHWAY  \\\n",
       "GAS6                               1  ...                            0   \n",
       "MMP14                              0  ...                            1   \n",
       "DSP                                0  ...                            0   \n",
       "MARCKSL1                           0  ...                            0   \n",
       "SPARC                              0  ...                            0   \n",
       "\n",
       "          KEGG_BASAL_TRANSCRIPTION_FACTORS  REACTOME_SYNTHESIS_OF_DNA  \\\n",
       "GAS6                                     0                          0   \n",
       "MMP14                                    0                          0   \n",
       "DSP                                      0                          0   \n",
       "MARCKSL1                                 0                          0   \n",
       "SPARC                                    0                          0   \n",
       "\n",
       "          KEGG_HEMATOPOIETIC_CELL_LINEAGE  \\\n",
       "GAS6                                    0   \n",
       "MMP14                                   0   \n",
       "DSP                                     0   \n",
       "MARCKSL1                                0   \n",
       "SPARC                                   0   \n",
       "\n",
       "          KEGG_T_CELL_RECEPTOR_SIGNALING_PATHWAY  PID_IL4_2PATHWAY  \\\n",
       "GAS6                                           0                 0   \n",
       "MMP14                                          0                 0   \n",
       "DSP                                            0                 0   \n",
       "MARCKSL1                                       0                 0   \n",
       "SPARC                                          0                 0   \n",
       "\n",
       "          REACTOME_SIGNALING_BY_THE_B_CELL_RECEPTOR_BCR  PID_BCR_5PATHWAY  \\\n",
       "GAS6                                                  0                 0   \n",
       "MMP14                                                 0                 0   \n",
       "DSP                                                   0                 0   \n",
       "MARCKSL1                                              0                 0   \n",
       "SPARC                                                 0                 0   \n",
       "\n",
       "          PID_TELOMERASEPATHWAY  PID_PI3KPLCTRKPATHWAY  \n",
       "GAS6                          0                      0  \n",
       "MMP14                         0                      0  \n",
       "DSP                           0                      0  \n",
       "MARCKSL1                      0                      0  \n",
       "SPARC                         0                      0  \n",
       "\n",
       "[5 rows x 628 columns]"
      ]
     },
     "execution_count": 47,
     "metadata": {},
     "output_type": "execute_result"
    }
   ],
   "source": [
    "recount2_all_paths_cm_df.astype(\"int\").head()"
   ]
  },
  {
   "cell_type": "code",
   "execution_count": 48,
   "metadata": {
    "execution": {
     "iopub.execute_input": "2021-07-30T15:49:02.761733Z",
     "iopub.status.busy": "2021-07-30T15:49:02.761360Z",
     "iopub.status.idle": "2021-07-30T15:49:03.467805Z",
     "shell.execute_reply": "2021-07-30T15:49:03.467421Z"
    },
    "papermill": {
     "duration": 0.734921,
     "end_time": "2021-07-30T15:49:03.467892",
     "exception": false,
     "start_time": "2021-07-30T15:49:02.732971",
     "status": "completed"
    },
    "tags": []
   },
   "outputs": [],
   "source": [
    "recount2_all_paths_cm_df.astype(\"int\").to_csv(\n",
    "    output_text_file, sep=\"\\t\", index=True, float_format=\"%.5e\"\n",
    ")"
   ]
  },
  {
   "cell_type": "code",
   "execution_count": null,
   "metadata": {
    "papermill": {
     "duration": 0.024453,
     "end_time": "2021-07-30T15:49:03.517521",
     "exception": false,
     "start_time": "2021-07-30T15:49:03.493068",
     "status": "completed"
    },
    "tags": []
   },
   "outputs": [],
   "source": []
  }
 ],
 "metadata": {
  "jupytext": {
   "cell_metadata_filter": "all,-execution,-papermill,-trusted",
   "formats": "ipynb,py//py:percent"
  },
  "kernelspec": {
   "display_name": "Python 3",
   "language": "python",
   "name": "python3"
  },
  "language_info": {
   "codemirror_mode": {
    "name": "ipython",
    "version": 3
   },
   "file_extension": ".py",
   "mimetype": "text/x-python",
   "name": "python",
   "nbconvert_exporter": "python",
   "pygments_lexer": "ipython3",
   "version": "3.8.8"
  },
  "papermill": {
   "default_parameters": {},
   "duration": 34.728191,
   "end_time": "2021-07-30T15:49:04.247791",
   "environment_variables": {},
   "exception": null,
   "input_path": "01_preprocessing/005-multiplier_recount2_data.ipynb",
   "output_path": "01_preprocessing/005-multiplier_recount2_data.run.ipynb",
   "parameters": {},
   "start_time": "2021-07-30T15:48:29.519600",
   "version": "2.2.2"
  }
 },
 "nbformat": 4,
 "nbformat_minor": 4
}
