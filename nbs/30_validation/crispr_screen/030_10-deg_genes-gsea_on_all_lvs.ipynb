{
 "cells": [
  {
   "cell_type": "markdown",
   "metadata": {},
   "source": [
    "# Module loading"
   ]
  },
  {
   "cell_type": "code",
   "execution_count": 1,
   "metadata": {},
   "outputs": [
    {
     "name": "stderr",
     "output_type": "stream",
     "text": [
      "\n",
      "Attaching package: ‘dplyr’\n",
      "\n",
      "\n",
      "The following objects are masked from ‘package:stats’:\n",
      "\n",
      "    filter, lag\n",
      "\n",
      "\n",
      "The following objects are masked from ‘package:base’:\n",
      "\n",
      "    intersect, setdiff, setequal, union\n",
      "\n",
      "\n"
     ]
    }
   ],
   "source": [
    "library(IRdisplay)\n",
    "library(readr)\n",
    "library(fgsea)\n",
    "library(dplyr)\n",
    "library(reticulate)"
   ]
  },
  {
   "cell_type": "code",
   "execution_count": 2,
   "metadata": {},
   "outputs": [],
   "source": [
    "pd <- import(\"pandas\")"
   ]
  },
  {
   "cell_type": "markdown",
   "metadata": {},
   "source": [
    "# Settings"
   ]
  },
  {
   "cell_type": "code",
   "execution_count": 3,
   "metadata": {},
   "outputs": [],
   "source": [
    "CRISPR_DATA_DIR <- Sys.getenv(\"PHENOPLIER_CRISPR_BASE_DIR\")"
   ]
  },
  {
   "cell_type": "code",
   "execution_count": 4,
   "metadata": {},
   "outputs": [
    {
     "data": {
      "text/html": [
       "'/home/miltondp/projects/labs/greenelab/phenoplier/base/data/crispr_screen'"
      ],
      "text/latex": [
       "'/home/miltondp/projects/labs/greenelab/phenoplier/base/data/crispr\\_screen'"
      ],
      "text/markdown": [
       "'/home/miltondp/projects/labs/greenelab/phenoplier/base/data/crispr_screen'"
      ],
      "text/plain": [
       "[1] \"/home/miltondp/projects/labs/greenelab/phenoplier/base/data/crispr_screen\""
      ]
     },
     "metadata": {},
     "output_type": "display_data"
    }
   ],
   "source": [
    "CRISPR_DATA_DIR"
   ]
  },
  {
   "cell_type": "markdown",
   "metadata": {},
   "source": [
    "# Data loading"
   ]
  },
  {
   "cell_type": "markdown",
   "metadata": {},
   "source": [
    "## Lipids gene sets"
   ]
  },
  {
   "cell_type": "code",
   "execution_count": 5,
   "metadata": {},
   "outputs": [
    {
     "data": {
      "text/html": [
       "'/home/miltondp/projects/labs/greenelab/phenoplier/base/data/crispr_screen/lipid_DEG.csv'"
      ],
      "text/latex": [
       "'/home/miltondp/projects/labs/greenelab/phenoplier/base/data/crispr\\_screen/lipid\\_DEG.csv'"
      ],
      "text/markdown": [
       "'/home/miltondp/projects/labs/greenelab/phenoplier/base/data/crispr_screen/lipid_DEG.csv'"
      ],
      "text/plain": [
       "[1] \"/home/miltondp/projects/labs/greenelab/phenoplier/base/data/crispr_screen/lipid_DEG.csv\""
      ]
     },
     "metadata": {},
     "output_type": "display_data"
    }
   ],
   "source": [
    "input_file <- Sys.getenv(\"PHENOPLIER_CRISPR_LIPIDS_GENE_SETS_FILE\")\n",
    "display(input_file)"
   ]
  },
  {
   "cell_type": "code",
   "execution_count": 6,
   "metadata": {},
   "outputs": [
    {
     "name": "stderr",
     "output_type": "stream",
     "text": [
      "\n",
      "\u001b[36m──\u001b[39m \u001b[1m\u001b[1mColumn specification\u001b[1m\u001b[22m \u001b[36m─────────────────────────────────────────────────────────────────────────────────────────────────────────────────────────────────────────────────────────────────────────────────────────────────────────────────\u001b[39m\n",
      "cols(\n",
      "  gene_name = \u001b[31mcol_character()\u001b[39m,\n",
      "  GFPLow_vs_UnSorted.log2FC = \u001b[32mcol_double()\u001b[39m,\n",
      "  GFPLow_vs_UnSorted.FDR = \u001b[32mcol_double()\u001b[39m,\n",
      "  GFPLow_vs_UnSorted.DEG = \u001b[33mcol_logical()\u001b[39m,\n",
      "  GFPHigh_vs_UnSorted.log2FC = \u001b[32mcol_double()\u001b[39m,\n",
      "  GFPHigh_vs_UnSorted.FDR = \u001b[32mcol_double()\u001b[39m,\n",
      "  GFPHigh_vs_UnSorted.DEG = \u001b[33mcol_logical()\u001b[39m,\n",
      "  GFPHigh_vs_GFPLow.log2FC = \u001b[32mcol_double()\u001b[39m,\n",
      "  GFPHigh_vs_GFPLow.FDR = \u001b[32mcol_double()\u001b[39m,\n",
      "  GFPHigh_vs_GFPLow.DEG = \u001b[33mcol_logical()\u001b[39m,\n",
      "  `lipid effect` = \u001b[31mcol_character()\u001b[39m,\n",
      "  rank = \u001b[32mcol_double()\u001b[39m\n",
      ")\n",
      "\n",
      "\n"
     ]
    }
   ],
   "source": [
    "all_genes_ranked <- read_csv(input_file)"
   ]
  },
  {
   "cell_type": "code",
   "execution_count": 7,
   "metadata": {},
   "outputs": [],
   "source": [
    "orig_deg_gene_sets <- list()\n",
    "\n",
    "for (r in unique(all_genes_ranked$rank)) {\n",
    "    if (r == 0) {\n",
    "        next\n",
    "    }\n",
    "    \n",
    "    data <- all_genes_ranked[all_genes_ranked$rank == r,]\n",
    "    #q <- quantile(data, 0.50, names=FALSE)\n",
    "    \n",
    "    orig_deg_gene_sets[[paste0(\"gene_set_\", r)]] <- data$gene_name\n",
    "}"
   ]
  },
  {
   "cell_type": "code",
   "execution_count": 8,
   "metadata": {},
   "outputs": [
    {
     "data": {
      "text/html": [
       "6"
      ],
      "text/latex": [
       "6"
      ],
      "text/markdown": [
       "6"
      ],
      "text/plain": [
       "[1] 6"
      ]
     },
     "metadata": {},
     "output_type": "display_data"
    }
   ],
   "source": [
    "length(orig_deg_gene_sets)"
   ]
  },
  {
   "cell_type": "markdown",
   "metadata": {},
   "source": [
    "### Combine gene sets into \"increase lipids\" and \"decrease lipids\""
   ]
  },
  {
   "cell_type": "code",
   "execution_count": 30,
   "metadata": {},
   "outputs": [],
   "source": [
    "deg_gene_sets <- list()"
   ]
  },
  {
   "cell_type": "code",
   "execution_count": 31,
   "metadata": {},
   "outputs": [],
   "source": [
    "# genes that increase lipids\n",
    "deg_gene_sets[[\"gene_set_increase\"]] <- c(\n",
    "    orig_deg_gene_sets[[\"gene_set_2\"]],\n",
    "    orig_deg_gene_sets[[\"gene_set_3\"]]\n",
    ")"
   ]
  },
  {
   "cell_type": "code",
   "execution_count": 32,
   "metadata": {},
   "outputs": [],
   "source": [
    "# genes that decrease lipids\n",
    "deg_gene_sets[[\"gene_set_decrease\"]] <- c(\n",
    "    orig_deg_gene_sets[[\"gene_set_-2\"]],\n",
    "    orig_deg_gene_sets[[\"gene_set_-3\"]]\n",
    ")"
   ]
  },
  {
   "cell_type": "code",
   "execution_count": 33,
   "metadata": {},
   "outputs": [
    {
     "data": {
      "text/html": [
       "2"
      ],
      "text/latex": [
       "2"
      ],
      "text/markdown": [
       "2"
      ],
      "text/plain": [
       "[1] 2"
      ]
     },
     "metadata": {},
     "output_type": "display_data"
    }
   ],
   "source": [
    "length(deg_gene_sets)"
   ]
  },
  {
   "cell_type": "code",
   "execution_count": 37,
   "metadata": {},
   "outputs": [
    {
     "data": {
      "text/html": [
       "175"
      ],
      "text/latex": [
       "175"
      ],
      "text/markdown": [
       "175"
      ],
      "text/plain": [
       "[1] 175"
      ]
     },
     "metadata": {},
     "output_type": "display_data"
    }
   ],
   "source": [
    "length(deg_gene_sets[[\"gene_set_increase\"]])"
   ]
  },
  {
   "cell_type": "code",
   "execution_count": 38,
   "metadata": {},
   "outputs": [
    {
     "data": {
      "text/html": [
       "96"
      ],
      "text/latex": [
       "96"
      ],
      "text/markdown": [
       "96"
      ],
      "text/plain": [
       "[1] 96"
      ]
     },
     "metadata": {},
     "output_type": "display_data"
    }
   ],
   "source": [
    "length(deg_gene_sets[[\"gene_set_decrease\"]])"
   ]
  },
  {
   "cell_type": "code",
   "execution_count": 34,
   "metadata": {},
   "outputs": [],
   "source": [
    "# test new increase set\n",
    "new_set <- deg_gene_sets[[\"gene_set_increase\"]]\n",
    "expected_set <- union(\n",
    "    orig_deg_gene_sets[[\"gene_set_2\"]],\n",
    "    orig_deg_gene_sets[[\"gene_set_3\"]]\n",
    ")\n",
    "\n",
    "stopifnot(length(new_set) == length(unique(new_set)))\n",
    "\n",
    "stopifnot(\n",
    "    length(new_set) == \n",
    "    length(\n",
    "        intersect(\n",
    "            new_set,\n",
    "            expected_set\n",
    "        )\n",
    "    )\n",
    ")"
   ]
  },
  {
   "cell_type": "code",
   "execution_count": 39,
   "metadata": {},
   "outputs": [],
   "source": [
    "# test new decrease set\n",
    "new_set <- deg_gene_sets[[\"gene_set_decrease\"]]\n",
    "expected_set <- union(\n",
    "    orig_deg_gene_sets[[\"gene_set_-2\"]],\n",
    "    orig_deg_gene_sets[[\"gene_set_-3\"]]\n",
    ")\n",
    "\n",
    "stopifnot(length(new_set) == length(unique(new_set)))\n",
    "\n",
    "stopifnot(\n",
    "    length(new_set) == \n",
    "    length(\n",
    "        intersect(\n",
    "            new_set,\n",
    "            expected_set\n",
    "        )\n",
    "    )\n",
    ")"
   ]
  },
  {
   "cell_type": "markdown",
   "metadata": {},
   "source": [
    "## MultiPLIER Z"
   ]
  },
  {
   "cell_type": "code",
   "execution_count": 10,
   "metadata": {},
   "outputs": [],
   "source": [
    "multiplier_z = pd$read_pickle(\n",
    "    Sys.getenv(\"PHENOPLIER_MULTIPLIER_MODEL_Z_MATRIX_FILE\")\n",
    ")"
   ]
  },
  {
   "cell_type": "code",
   "execution_count": 11,
   "metadata": {},
   "outputs": [
    {
     "data": {
      "text/html": [
       "<style>\n",
       ".list-inline {list-style: none; margin:0; padding: 0}\n",
       ".list-inline>li {display: inline-block}\n",
       ".list-inline>li:not(:last-child)::after {content: \"\\00b7\"; padding: 0 .5ex}\n",
       "</style>\n",
       "<ol class=list-inline><li>6750</li><li>987</li></ol>\n"
      ],
      "text/latex": [
       "\\begin{enumerate*}\n",
       "\\item 6750\n",
       "\\item 987\n",
       "\\end{enumerate*}\n"
      ],
      "text/markdown": [
       "1. 6750\n",
       "2. 987\n",
       "\n",
       "\n"
      ],
      "text/plain": [
       "[1] 6750  987"
      ]
     },
     "metadata": {},
     "output_type": "display_data"
    }
   ],
   "source": [
    "dim(multiplier_z)"
   ]
  },
  {
   "cell_type": "code",
   "execution_count": 12,
   "metadata": {},
   "outputs": [
    {
     "data": {
      "text/html": [
       "<table class=\"dataframe\">\n",
       "<caption>A data.frame: 6 × 987</caption>\n",
       "<thead>\n",
       "\t<tr><th></th><th scope=col>LV1</th><th scope=col>LV2</th><th scope=col>LV3</th><th scope=col>LV4</th><th scope=col>LV5</th><th scope=col>LV6</th><th scope=col>LV7</th><th scope=col>LV8</th><th scope=col>LV9</th><th scope=col>LV10</th><th scope=col>⋯</th><th scope=col>LV978</th><th scope=col>LV979</th><th scope=col>LV980</th><th scope=col>LV981</th><th scope=col>LV982</th><th scope=col>LV983</th><th scope=col>LV984</th><th scope=col>LV985</th><th scope=col>LV986</th><th scope=col>LV987</th></tr>\n",
       "\t<tr><th></th><th scope=col>&lt;dbl&gt;</th><th scope=col>&lt;dbl&gt;</th><th scope=col>&lt;dbl&gt;</th><th scope=col>&lt;dbl&gt;</th><th scope=col>&lt;dbl&gt;</th><th scope=col>&lt;dbl&gt;</th><th scope=col>&lt;dbl&gt;</th><th scope=col>&lt;dbl&gt;</th><th scope=col>&lt;dbl&gt;</th><th scope=col>&lt;dbl&gt;</th><th scope=col>⋯</th><th scope=col>&lt;dbl&gt;</th><th scope=col>&lt;dbl&gt;</th><th scope=col>&lt;dbl&gt;</th><th scope=col>&lt;dbl&gt;</th><th scope=col>&lt;dbl&gt;</th><th scope=col>&lt;dbl&gt;</th><th scope=col>&lt;dbl&gt;</th><th scope=col>&lt;dbl&gt;</th><th scope=col>&lt;dbl&gt;</th><th scope=col>&lt;dbl&gt;</th></tr>\n",
       "</thead>\n",
       "<tbody>\n",
       "\t<tr><th scope=row>GAS6</th><td>0.0000000</td><td>0</td><td>0.03943774</td><td>0</td><td>0.05047625</td><td>0.00000000</td><td>0.0000000</td><td>0.000000000</td><td>0.5909494</td><td>0.00000000</td><td>⋯</td><td>0.05012510</td><td>0.00000000</td><td>0.033407371</td><td>0.00000000</td><td>0.00000000</td><td>0.0059633917</td><td>0.34736209</td><td>0</td><td>0.00000000</td><td>0.00000000</td></tr>\n",
       "\t<tr><th scope=row>MMP14</th><td>0.0000000</td><td>0</td><td>0.00000000</td><td>0</td><td>0.07007159</td><td>0.00000000</td><td>0.0000000</td><td>0.004904131</td><td>1.7201788</td><td>2.42359463</td><td>⋯</td><td>0.00000000</td><td>0.00000000</td><td>0.001007286</td><td>0.00000000</td><td>0.03574724</td><td>0.0000000000</td><td>0.00000000</td><td>0</td><td>0.01497801</td><td>0.00000000</td></tr>\n",
       "\t<tr><th scope=row>DSP</th><td>0.0000000</td><td>0</td><td>0.00000000</td><td>0</td><td>0.00000000</td><td>0.04169683</td><td>0.0000000</td><td>0.005718149</td><td>0.0000000</td><td>0.00000000</td><td>⋯</td><td>0.02085321</td><td>0.00000000</td><td>0.000000000</td><td>0.00000000</td><td>0.00000000</td><td>0.0057744399</td><td>0.00000000</td><td>0</td><td>0.00000000</td><td>0.41640455</td></tr>\n",
       "\t<tr><th scope=row>MARCKSL1</th><td>0.3052117</td><td>0</td><td>0.00000000</td><td>0</td><td>0.00000000</td><td>0.00000000</td><td>0.0000000</td><td>0.000000000</td><td>0.1618435</td><td>0.14947148</td><td>⋯</td><td>0.02713418</td><td>0.05271997</td><td>0.000000000</td><td>0.03018947</td><td>0.06088351</td><td>0.0000000000</td><td>0.00000000</td><td>0</td><td>0.00000000</td><td>0.44847996</td></tr>\n",
       "\t<tr><th scope=row>SPARC</th><td>0.0000000</td><td>0</td><td>0.00000000</td><td>0</td><td>0.00000000</td><td>0.00000000</td><td>0.0000000</td><td>0.000000000</td><td>0.0000000</td><td>0.01401441</td><td>⋯</td><td>0.00000000</td><td>0.00000000</td><td>0.000000000</td><td>0.00000000</td><td>0.00000000</td><td>0.0000000000</td><td>0.06777859</td><td>0</td><td>0.12241734</td><td>0.06266490</td></tr>\n",
       "\t<tr><th scope=row>CTSD</th><td>0.2778532</td><td>0</td><td>0.06459781</td><td>0</td><td>0.00000000</td><td>0.00000000</td><td>0.4694809</td><td>0.099949232</td><td>0.9717295</td><td>0.43334911</td><td>⋯</td><td>0.00000000</td><td>0.01907577</td><td>0.008904815</td><td>0.00000000</td><td>0.00000000</td><td>0.0007222884</td><td>0.00000000</td><td>0</td><td>0.00000000</td><td>0.06193245</td></tr>\n",
       "</tbody>\n",
       "</table>\n"
      ],
      "text/latex": [
       "A data.frame: 6 × 987\n",
       "\\begin{tabular}{r|lllllllllllllllllllll}\n",
       "  & LV1 & LV2 & LV3 & LV4 & LV5 & LV6 & LV7 & LV8 & LV9 & LV10 & ⋯ & LV978 & LV979 & LV980 & LV981 & LV982 & LV983 & LV984 & LV985 & LV986 & LV987\\\\\n",
       "  & <dbl> & <dbl> & <dbl> & <dbl> & <dbl> & <dbl> & <dbl> & <dbl> & <dbl> & <dbl> & ⋯ & <dbl> & <dbl> & <dbl> & <dbl> & <dbl> & <dbl> & <dbl> & <dbl> & <dbl> & <dbl>\\\\\n",
       "\\hline\n",
       "\tGAS6 & 0.0000000 & 0 & 0.03943774 & 0 & 0.05047625 & 0.00000000 & 0.0000000 & 0.000000000 & 0.5909494 & 0.00000000 & ⋯ & 0.05012510 & 0.00000000 & 0.033407371 & 0.00000000 & 0.00000000 & 0.0059633917 & 0.34736209 & 0 & 0.00000000 & 0.00000000\\\\\n",
       "\tMMP14 & 0.0000000 & 0 & 0.00000000 & 0 & 0.07007159 & 0.00000000 & 0.0000000 & 0.004904131 & 1.7201788 & 2.42359463 & ⋯ & 0.00000000 & 0.00000000 & 0.001007286 & 0.00000000 & 0.03574724 & 0.0000000000 & 0.00000000 & 0 & 0.01497801 & 0.00000000\\\\\n",
       "\tDSP & 0.0000000 & 0 & 0.00000000 & 0 & 0.00000000 & 0.04169683 & 0.0000000 & 0.005718149 & 0.0000000 & 0.00000000 & ⋯ & 0.02085321 & 0.00000000 & 0.000000000 & 0.00000000 & 0.00000000 & 0.0057744399 & 0.00000000 & 0 & 0.00000000 & 0.41640455\\\\\n",
       "\tMARCKSL1 & 0.3052117 & 0 & 0.00000000 & 0 & 0.00000000 & 0.00000000 & 0.0000000 & 0.000000000 & 0.1618435 & 0.14947148 & ⋯ & 0.02713418 & 0.05271997 & 0.000000000 & 0.03018947 & 0.06088351 & 0.0000000000 & 0.00000000 & 0 & 0.00000000 & 0.44847996\\\\\n",
       "\tSPARC & 0.0000000 & 0 & 0.00000000 & 0 & 0.00000000 & 0.00000000 & 0.0000000 & 0.000000000 & 0.0000000 & 0.01401441 & ⋯ & 0.00000000 & 0.00000000 & 0.000000000 & 0.00000000 & 0.00000000 & 0.0000000000 & 0.06777859 & 0 & 0.12241734 & 0.06266490\\\\\n",
       "\tCTSD & 0.2778532 & 0 & 0.06459781 & 0 & 0.00000000 & 0.00000000 & 0.4694809 & 0.099949232 & 0.9717295 & 0.43334911 & ⋯ & 0.00000000 & 0.01907577 & 0.008904815 & 0.00000000 & 0.00000000 & 0.0007222884 & 0.00000000 & 0 & 0.00000000 & 0.06193245\\\\\n",
       "\\end{tabular}\n"
      ],
      "text/markdown": [
       "\n",
       "A data.frame: 6 × 987\n",
       "\n",
       "| <!--/--> | LV1 &lt;dbl&gt; | LV2 &lt;dbl&gt; | LV3 &lt;dbl&gt; | LV4 &lt;dbl&gt; | LV5 &lt;dbl&gt; | LV6 &lt;dbl&gt; | LV7 &lt;dbl&gt; | LV8 &lt;dbl&gt; | LV9 &lt;dbl&gt; | LV10 &lt;dbl&gt; | ⋯ ⋯ | LV978 &lt;dbl&gt; | LV979 &lt;dbl&gt; | LV980 &lt;dbl&gt; | LV981 &lt;dbl&gt; | LV982 &lt;dbl&gt; | LV983 &lt;dbl&gt; | LV984 &lt;dbl&gt; | LV985 &lt;dbl&gt; | LV986 &lt;dbl&gt; | LV987 &lt;dbl&gt; |\n",
       "|---|---|---|---|---|---|---|---|---|---|---|---|---|---|---|---|---|---|---|---|---|---|\n",
       "| GAS6 | 0.0000000 | 0 | 0.03943774 | 0 | 0.05047625 | 0.00000000 | 0.0000000 | 0.000000000 | 0.5909494 | 0.00000000 | ⋯ | 0.05012510 | 0.00000000 | 0.033407371 | 0.00000000 | 0.00000000 | 0.0059633917 | 0.34736209 | 0 | 0.00000000 | 0.00000000 |\n",
       "| MMP14 | 0.0000000 | 0 | 0.00000000 | 0 | 0.07007159 | 0.00000000 | 0.0000000 | 0.004904131 | 1.7201788 | 2.42359463 | ⋯ | 0.00000000 | 0.00000000 | 0.001007286 | 0.00000000 | 0.03574724 | 0.0000000000 | 0.00000000 | 0 | 0.01497801 | 0.00000000 |\n",
       "| DSP | 0.0000000 | 0 | 0.00000000 | 0 | 0.00000000 | 0.04169683 | 0.0000000 | 0.005718149 | 0.0000000 | 0.00000000 | ⋯ | 0.02085321 | 0.00000000 | 0.000000000 | 0.00000000 | 0.00000000 | 0.0057744399 | 0.00000000 | 0 | 0.00000000 | 0.41640455 |\n",
       "| MARCKSL1 | 0.3052117 | 0 | 0.00000000 | 0 | 0.00000000 | 0.00000000 | 0.0000000 | 0.000000000 | 0.1618435 | 0.14947148 | ⋯ | 0.02713418 | 0.05271997 | 0.000000000 | 0.03018947 | 0.06088351 | 0.0000000000 | 0.00000000 | 0 | 0.00000000 | 0.44847996 |\n",
       "| SPARC | 0.0000000 | 0 | 0.00000000 | 0 | 0.00000000 | 0.00000000 | 0.0000000 | 0.000000000 | 0.0000000 | 0.01401441 | ⋯ | 0.00000000 | 0.00000000 | 0.000000000 | 0.00000000 | 0.00000000 | 0.0000000000 | 0.06777859 | 0 | 0.12241734 | 0.06266490 |\n",
       "| CTSD | 0.2778532 | 0 | 0.06459781 | 0 | 0.00000000 | 0.00000000 | 0.4694809 | 0.099949232 | 0.9717295 | 0.43334911 | ⋯ | 0.00000000 | 0.01907577 | 0.008904815 | 0.00000000 | 0.00000000 | 0.0007222884 | 0.00000000 | 0 | 0.00000000 | 0.06193245 |\n",
       "\n"
      ],
      "text/plain": [
       "         LV1       LV2 LV3        LV4 LV5        LV6        LV7      \n",
       "GAS6     0.0000000 0   0.03943774 0   0.05047625 0.00000000 0.0000000\n",
       "MMP14    0.0000000 0   0.00000000 0   0.07007159 0.00000000 0.0000000\n",
       "DSP      0.0000000 0   0.00000000 0   0.00000000 0.04169683 0.0000000\n",
       "MARCKSL1 0.3052117 0   0.00000000 0   0.00000000 0.00000000 0.0000000\n",
       "SPARC    0.0000000 0   0.00000000 0   0.00000000 0.00000000 0.0000000\n",
       "CTSD     0.2778532 0   0.06459781 0   0.00000000 0.00000000 0.4694809\n",
       "         LV8         LV9       LV10       ⋯ LV978      LV979      LV980      \n",
       "GAS6     0.000000000 0.5909494 0.00000000 ⋯ 0.05012510 0.00000000 0.033407371\n",
       "MMP14    0.004904131 1.7201788 2.42359463 ⋯ 0.00000000 0.00000000 0.001007286\n",
       "DSP      0.005718149 0.0000000 0.00000000 ⋯ 0.02085321 0.00000000 0.000000000\n",
       "MARCKSL1 0.000000000 0.1618435 0.14947148 ⋯ 0.02713418 0.05271997 0.000000000\n",
       "SPARC    0.000000000 0.0000000 0.01401441 ⋯ 0.00000000 0.00000000 0.000000000\n",
       "CTSD     0.099949232 0.9717295 0.43334911 ⋯ 0.00000000 0.01907577 0.008904815\n",
       "         LV981      LV982      LV983        LV984      LV985 LV986     \n",
       "GAS6     0.00000000 0.00000000 0.0059633917 0.34736209 0     0.00000000\n",
       "MMP14    0.00000000 0.03574724 0.0000000000 0.00000000 0     0.01497801\n",
       "DSP      0.00000000 0.00000000 0.0057744399 0.00000000 0     0.00000000\n",
       "MARCKSL1 0.03018947 0.06088351 0.0000000000 0.00000000 0     0.00000000\n",
       "SPARC    0.00000000 0.00000000 0.0000000000 0.06777859 0     0.12241734\n",
       "CTSD     0.00000000 0.00000000 0.0007222884 0.00000000 0     0.00000000\n",
       "         LV987     \n",
       "GAS6     0.00000000\n",
       "MMP14    0.00000000\n",
       "DSP      0.41640455\n",
       "MARCKSL1 0.44847996\n",
       "SPARC    0.06266490\n",
       "CTSD     0.06193245"
      ]
     },
     "metadata": {},
     "output_type": "display_data"
    }
   ],
   "source": [
    "head(multiplier_z)"
   ]
  },
  {
   "cell_type": "markdown",
   "metadata": {},
   "source": [
    "# Prepare LVs list"
   ]
  },
  {
   "cell_type": "code",
   "execution_count": 13,
   "metadata": {},
   "outputs": [],
   "source": [
    "lvs = list()\n",
    "z_gene_names <- rownames(multiplier_z)\n",
    "\n",
    "for (cidx in 1:ncol(multiplier_z)) {\n",
    "    data <- multiplier_z[, cidx]\n",
    "    names(data) <- z_gene_names\n",
    "    # q <- quantile(data, 0.75, names=FALSE)\n",
    "    q <- 0.0\n",
    "    \n",
    "    lvs[[paste0(\"LV\", cidx)]] <- data[data > q]\n",
    "}"
   ]
  },
  {
   "cell_type": "markdown",
   "metadata": {},
   "source": [
    "# Compute enrichment on all LVs"
   ]
  },
  {
   "cell_type": "code",
   "execution_count": 14,
   "metadata": {},
   "outputs": [],
   "source": [
    "n_reps = 10"
   ]
  },
  {
   "cell_type": "code",
   "execution_count": 15,
   "metadata": {},
   "outputs": [],
   "source": [
    "set.seed(0)"
   ]
  },
  {
   "cell_type": "code",
   "execution_count": 16,
   "metadata": {},
   "outputs": [],
   "source": [
    "results = list()\n",
    "\n",
    "for (lv in names(lvs)) {\n",
    "    repetitions = list()\n",
    "    \n",
    "    for (i in 1:n_reps) {\n",
    "        rep_res <- fgsea(pathways = deg_gene_sets, stats = lvs[[lv]], scoreType = \"pos\", eps = 0.0)[order(pval), ]\n",
    "        rep_res[, \"leadingEdge\"] <- sapply(rep_res$leadingEdge, paste, collapse=\",\")\n",
    "        rep_res[, \"lv\"] <- lv\n",
    "        rep_res[, \"rep_idx\"] <- i\n",
    "        \n",
    "        repetitions[[i]] <- rep_res\n",
    "    }\n",
    "    \n",
    "    res <- do.call(rbind, repetitions)\n",
    "\n",
    "    results[[lv]] <- res\n",
    "}"
   ]
  },
  {
   "cell_type": "code",
   "execution_count": 17,
   "metadata": {},
   "outputs": [
    {
     "data": {
      "text/html": [
       "3"
      ],
      "text/latex": [
       "3"
      ],
      "text/markdown": [
       "3"
      ],
      "text/plain": [
       "[1] 3"
      ]
     },
     "metadata": {},
     "output_type": "display_data"
    }
   ],
   "source": [
    "length(results)"
   ]
  },
  {
   "cell_type": "code",
   "execution_count": 18,
   "metadata": {},
   "outputs": [],
   "source": [
    "df <- do.call(rbind, results)"
   ]
  },
  {
   "cell_type": "code",
   "execution_count": 19,
   "metadata": {},
   "outputs": [
    {
     "data": {
      "text/html": [
       "<style>\n",
       ".list-inline {list-style: none; margin:0; padding: 0}\n",
       ".list-inline>li {display: inline-block}\n",
       ".list-inline>li:not(:last-child)::after {content: \"\\00b7\"; padding: 0 .5ex}\n",
       "</style>\n",
       "<ol class=list-inline><li>60</li><li>10</li></ol>\n"
      ],
      "text/latex": [
       "\\begin{enumerate*}\n",
       "\\item 60\n",
       "\\item 10\n",
       "\\end{enumerate*}\n"
      ],
      "text/markdown": [
       "1. 60\n",
       "2. 10\n",
       "\n",
       "\n"
      ],
      "text/plain": [
       "[1] 60 10"
      ]
     },
     "metadata": {},
     "output_type": "display_data"
    }
   ],
   "source": [
    "dim(df)"
   ]
  },
  {
   "cell_type": "code",
   "execution_count": 20,
   "metadata": {},
   "outputs": [
    {
     "data": {
      "text/html": [
       "<table class=\"dataframe\">\n",
       "<caption>A data.table: 6 × 10</caption>\n",
       "<thead>\n",
       "\t<tr><th scope=col>pathway</th><th scope=col>pval</th><th scope=col>padj</th><th scope=col>log2err</th><th scope=col>ES</th><th scope=col>NES</th><th scope=col>size</th><th scope=col>leadingEdge</th><th scope=col>lv</th><th scope=col>rep_idx</th></tr>\n",
       "\t<tr><th scope=col>&lt;chr&gt;</th><th scope=col>&lt;dbl&gt;</th><th scope=col>&lt;dbl&gt;</th><th scope=col>&lt;dbl&gt;</th><th scope=col>&lt;dbl&gt;</th><th scope=col>&lt;dbl&gt;</th><th scope=col>&lt;int&gt;</th><th scope=col>&lt;chr&gt;</th><th scope=col>&lt;chr&gt;</th><th scope=col>&lt;int&gt;</th></tr>\n",
       "</thead>\n",
       "<tbody>\n",
       "\t<tr><td>gene_set_decrease_-2_and_-3</td><td>0.1848152</td><td>0.2357642</td><td>0.09592068</td><td>0.5784179</td><td>1.126666</td><td>35</td><td>PTBP1,KEAP1,PEX14,DLST,PCYT2,MAD2L2,GLRX5,OGDH,UBE2J2,CSK                                                                             </td><td>LV1</td><td>1</td></tr>\n",
       "\t<tr><td>gene_set_increase_2_and_3  </td><td>0.2357642</td><td>0.2357642</td><td>0.08220549</td><td>0.5391549</td><td>1.076511</td><td>63</td><td>CHERP,RANGAP1,HNRNPL,RPS2,E4F1,TAF1C,GATAD2A,SAFB,TAF6,FBL,LSM4,SUPT5H,CHD4,PFDN6,SLC35B2,USP39,POLR3E,POLR2C,RPLP0,SREBF2,ACACA,RPL18</td><td>LV1</td><td>1</td></tr>\n",
       "\t<tr><td>gene_set_decrease_-2_and_-3</td><td>0.1988012</td><td>0.2517483</td><td>0.09167952</td><td>0.5784179</td><td>1.123767</td><td>35</td><td>PTBP1,KEAP1,PEX14,DLST,PCYT2,MAD2L2,GLRX5,OGDH,UBE2J2,CSK                                                                             </td><td>LV1</td><td>2</td></tr>\n",
       "\t<tr><td>gene_set_increase_2_and_3  </td><td>0.2517483</td><td>0.2517483</td><td>0.07871138</td><td>0.5391549</td><td>1.078565</td><td>63</td><td>CHERP,RANGAP1,HNRNPL,RPS2,E4F1,TAF1C,GATAD2A,SAFB,TAF6,FBL,LSM4,SUPT5H,CHD4,PFDN6,SLC35B2,USP39,POLR3E,POLR2C,RPLP0,SREBF2,ACACA,RPL18</td><td>LV1</td><td>2</td></tr>\n",
       "\t<tr><td>gene_set_decrease_-2_and_-3</td><td>0.1628372</td><td>0.2157842</td><td>0.10357633</td><td>0.5784179</td><td>1.137180</td><td>35</td><td>PTBP1,KEAP1,PEX14,DLST,PCYT2,MAD2L2,GLRX5,OGDH,UBE2J2,CSK                                                                             </td><td>LV1</td><td>3</td></tr>\n",
       "\t<tr><td>gene_set_increase_2_and_3  </td><td>0.2157842</td><td>0.2157842</td><td>0.08705159</td><td>0.5391549</td><td>1.087494</td><td>63</td><td>CHERP,RANGAP1,HNRNPL,RPS2,E4F1,TAF1C,GATAD2A,SAFB,TAF6,FBL,LSM4,SUPT5H,CHD4,PFDN6,SLC35B2,USP39,POLR3E,POLR2C,RPLP0,SREBF2,ACACA,RPL18</td><td>LV1</td><td>3</td></tr>\n",
       "</tbody>\n",
       "</table>\n"
      ],
      "text/latex": [
       "A data.table: 6 × 10\n",
       "\\begin{tabular}{llllllllll}\n",
       " pathway & pval & padj & log2err & ES & NES & size & leadingEdge & lv & rep\\_idx\\\\\n",
       " <chr> & <dbl> & <dbl> & <dbl> & <dbl> & <dbl> & <int> & <chr> & <chr> & <int>\\\\\n",
       "\\hline\n",
       "\t gene\\_set\\_decrease\\_-2\\_and\\_-3 & 0.1848152 & 0.2357642 & 0.09592068 & 0.5784179 & 1.126666 & 35 & PTBP1,KEAP1,PEX14,DLST,PCYT2,MAD2L2,GLRX5,OGDH,UBE2J2,CSK                                                                              & LV1 & 1\\\\\n",
       "\t gene\\_set\\_increase\\_2\\_and\\_3   & 0.2357642 & 0.2357642 & 0.08220549 & 0.5391549 & 1.076511 & 63 & CHERP,RANGAP1,HNRNPL,RPS2,E4F1,TAF1C,GATAD2A,SAFB,TAF6,FBL,LSM4,SUPT5H,CHD4,PFDN6,SLC35B2,USP39,POLR3E,POLR2C,RPLP0,SREBF2,ACACA,RPL18 & LV1 & 1\\\\\n",
       "\t gene\\_set\\_decrease\\_-2\\_and\\_-3 & 0.1988012 & 0.2517483 & 0.09167952 & 0.5784179 & 1.123767 & 35 & PTBP1,KEAP1,PEX14,DLST,PCYT2,MAD2L2,GLRX5,OGDH,UBE2J2,CSK                                                                              & LV1 & 2\\\\\n",
       "\t gene\\_set\\_increase\\_2\\_and\\_3   & 0.2517483 & 0.2517483 & 0.07871138 & 0.5391549 & 1.078565 & 63 & CHERP,RANGAP1,HNRNPL,RPS2,E4F1,TAF1C,GATAD2A,SAFB,TAF6,FBL,LSM4,SUPT5H,CHD4,PFDN6,SLC35B2,USP39,POLR3E,POLR2C,RPLP0,SREBF2,ACACA,RPL18 & LV1 & 2\\\\\n",
       "\t gene\\_set\\_decrease\\_-2\\_and\\_-3 & 0.1628372 & 0.2157842 & 0.10357633 & 0.5784179 & 1.137180 & 35 & PTBP1,KEAP1,PEX14,DLST,PCYT2,MAD2L2,GLRX5,OGDH,UBE2J2,CSK                                                                              & LV1 & 3\\\\\n",
       "\t gene\\_set\\_increase\\_2\\_and\\_3   & 0.2157842 & 0.2157842 & 0.08705159 & 0.5391549 & 1.087494 & 63 & CHERP,RANGAP1,HNRNPL,RPS2,E4F1,TAF1C,GATAD2A,SAFB,TAF6,FBL,LSM4,SUPT5H,CHD4,PFDN6,SLC35B2,USP39,POLR3E,POLR2C,RPLP0,SREBF2,ACACA,RPL18 & LV1 & 3\\\\\n",
       "\\end{tabular}\n"
      ],
      "text/markdown": [
       "\n",
       "A data.table: 6 × 10\n",
       "\n",
       "| pathway &lt;chr&gt; | pval &lt;dbl&gt; | padj &lt;dbl&gt; | log2err &lt;dbl&gt; | ES &lt;dbl&gt; | NES &lt;dbl&gt; | size &lt;int&gt; | leadingEdge &lt;chr&gt; | lv &lt;chr&gt; | rep_idx &lt;int&gt; |\n",
       "|---|---|---|---|---|---|---|---|---|---|\n",
       "| gene_set_decrease_-2_and_-3 | 0.1848152 | 0.2357642 | 0.09592068 | 0.5784179 | 1.126666 | 35 | PTBP1,KEAP1,PEX14,DLST,PCYT2,MAD2L2,GLRX5,OGDH,UBE2J2,CSK                                                                              | LV1 | 1 |\n",
       "| gene_set_increase_2_and_3   | 0.2357642 | 0.2357642 | 0.08220549 | 0.5391549 | 1.076511 | 63 | CHERP,RANGAP1,HNRNPL,RPS2,E4F1,TAF1C,GATAD2A,SAFB,TAF6,FBL,LSM4,SUPT5H,CHD4,PFDN6,SLC35B2,USP39,POLR3E,POLR2C,RPLP0,SREBF2,ACACA,RPL18 | LV1 | 1 |\n",
       "| gene_set_decrease_-2_and_-3 | 0.1988012 | 0.2517483 | 0.09167952 | 0.5784179 | 1.123767 | 35 | PTBP1,KEAP1,PEX14,DLST,PCYT2,MAD2L2,GLRX5,OGDH,UBE2J2,CSK                                                                              | LV1 | 2 |\n",
       "| gene_set_increase_2_and_3   | 0.2517483 | 0.2517483 | 0.07871138 | 0.5391549 | 1.078565 | 63 | CHERP,RANGAP1,HNRNPL,RPS2,E4F1,TAF1C,GATAD2A,SAFB,TAF6,FBL,LSM4,SUPT5H,CHD4,PFDN6,SLC35B2,USP39,POLR3E,POLR2C,RPLP0,SREBF2,ACACA,RPL18 | LV1 | 2 |\n",
       "| gene_set_decrease_-2_and_-3 | 0.1628372 | 0.2157842 | 0.10357633 | 0.5784179 | 1.137180 | 35 | PTBP1,KEAP1,PEX14,DLST,PCYT2,MAD2L2,GLRX5,OGDH,UBE2J2,CSK                                                                              | LV1 | 3 |\n",
       "| gene_set_increase_2_and_3   | 0.2157842 | 0.2157842 | 0.08705159 | 0.5391549 | 1.087494 | 63 | CHERP,RANGAP1,HNRNPL,RPS2,E4F1,TAF1C,GATAD2A,SAFB,TAF6,FBL,LSM4,SUPT5H,CHD4,PFDN6,SLC35B2,USP39,POLR3E,POLR2C,RPLP0,SREBF2,ACACA,RPL18 | LV1 | 3 |\n",
       "\n"
      ],
      "text/plain": [
       "  pathway                     pval      padj      log2err    ES        NES     \n",
       "1 gene_set_decrease_-2_and_-3 0.1848152 0.2357642 0.09592068 0.5784179 1.126666\n",
       "2 gene_set_increase_2_and_3   0.2357642 0.2357642 0.08220549 0.5391549 1.076511\n",
       "3 gene_set_decrease_-2_and_-3 0.1988012 0.2517483 0.09167952 0.5784179 1.123767\n",
       "4 gene_set_increase_2_and_3   0.2517483 0.2517483 0.07871138 0.5391549 1.078565\n",
       "5 gene_set_decrease_-2_and_-3 0.1628372 0.2157842 0.10357633 0.5784179 1.137180\n",
       "6 gene_set_increase_2_and_3   0.2157842 0.2157842 0.08705159 0.5391549 1.087494\n",
       "  size\n",
       "1 35  \n",
       "2 63  \n",
       "3 35  \n",
       "4 63  \n",
       "5 35  \n",
       "6 63  \n",
       "  leadingEdge                                                                                                                           \n",
       "1 PTBP1,KEAP1,PEX14,DLST,PCYT2,MAD2L2,GLRX5,OGDH,UBE2J2,CSK                                                                             \n",
       "2 CHERP,RANGAP1,HNRNPL,RPS2,E4F1,TAF1C,GATAD2A,SAFB,TAF6,FBL,LSM4,SUPT5H,CHD4,PFDN6,SLC35B2,USP39,POLR3E,POLR2C,RPLP0,SREBF2,ACACA,RPL18\n",
       "3 PTBP1,KEAP1,PEX14,DLST,PCYT2,MAD2L2,GLRX5,OGDH,UBE2J2,CSK                                                                             \n",
       "4 CHERP,RANGAP1,HNRNPL,RPS2,E4F1,TAF1C,GATAD2A,SAFB,TAF6,FBL,LSM4,SUPT5H,CHD4,PFDN6,SLC35B2,USP39,POLR3E,POLR2C,RPLP0,SREBF2,ACACA,RPL18\n",
       "5 PTBP1,KEAP1,PEX14,DLST,PCYT2,MAD2L2,GLRX5,OGDH,UBE2J2,CSK                                                                             \n",
       "6 CHERP,RANGAP1,HNRNPL,RPS2,E4F1,TAF1C,GATAD2A,SAFB,TAF6,FBL,LSM4,SUPT5H,CHD4,PFDN6,SLC35B2,USP39,POLR3E,POLR2C,RPLP0,SREBF2,ACACA,RPL18\n",
       "  lv  rep_idx\n",
       "1 LV1 1      \n",
       "2 LV1 1      \n",
       "3 LV1 2      \n",
       "4 LV1 2      \n",
       "5 LV1 3      \n",
       "6 LV1 3      "
      ]
     },
     "metadata": {},
     "output_type": "display_data"
    }
   ],
   "source": [
    "head(df)"
   ]
  },
  {
   "cell_type": "markdown",
   "metadata": {},
   "source": [
    "## Save"
   ]
  },
  {
   "cell_type": "code",
   "execution_count": 22,
   "metadata": {},
   "outputs": [
    {
     "data": {
      "text/html": [
       "'/home/miltondp/projects/labs/greenelab/phenoplier/base/data/crispr_screen/fsgea-all_lvs.tsv'"
      ],
      "text/latex": [
       "'/home/miltondp/projects/labs/greenelab/phenoplier/base/data/crispr\\_screen/fsgea-all\\_lvs.tsv'"
      ],
      "text/markdown": [
       "'/home/miltondp/projects/labs/greenelab/phenoplier/base/data/crispr_screen/fsgea-all_lvs.tsv'"
      ],
      "text/plain": [
       "[1] \"/home/miltondp/projects/labs/greenelab/phenoplier/base/data/crispr_screen/fsgea-all_lvs.tsv\""
      ]
     },
     "metadata": {},
     "output_type": "display_data"
    }
   ],
   "source": [
    "output_file <- file.path(CRISPR_DATA_DIR, \"fsgea-all_lvs.tsv\")\n",
    "display(output_file)"
   ]
  },
  {
   "cell_type": "code",
   "execution_count": 23,
   "metadata": {},
   "outputs": [],
   "source": [
    "write_tsv(df, output_file)"
   ]
  },
  {
   "cell_type": "markdown",
   "metadata": {},
   "source": [
    "# Quick analyses"
   ]
  },
  {
   "cell_type": "markdown",
   "metadata": {},
   "source": [
    "## See how one LV looks like"
   ]
  },
  {
   "cell_type": "code",
   "execution_count": 36,
   "metadata": {},
   "outputs": [
    {
     "data": {
      "text/html": [
       "<table class=\"dataframe\">\n",
       "<caption>A data.table: 10 × 10</caption>\n",
       "<thead>\n",
       "\t<tr><th scope=col>pathway</th><th scope=col>pval</th><th scope=col>padj</th><th scope=col>log2err</th><th scope=col>ES</th><th scope=col>NES</th><th scope=col>size</th><th scope=col>leadingEdge</th><th scope=col>lv</th><th scope=col>rep_idx</th></tr>\n",
       "\t<tr><th scope=col>&lt;chr&gt;</th><th scope=col>&lt;dbl&gt;</th><th scope=col>&lt;dbl&gt;</th><th scope=col>&lt;dbl&gt;</th><th scope=col>&lt;dbl&gt;</th><th scope=col>&lt;dbl&gt;</th><th scope=col>&lt;int&gt;</th><th scope=col>&lt;chr&gt;</th><th scope=col>&lt;chr&gt;</th><th scope=col>&lt;int&gt;</th></tr>\n",
       "</thead>\n",
       "<tbody>\n",
       "\t<tr><td>gene_set_increase_2_and_3</td><td>0.10489510</td><td>0.10489510</td><td>0.1335550</td><td>0.7069861</td><td>1.480363</td><td>40</td><td>PCBP1,IGF1R,UXT,SNRPD1,GTF2H1</td><td>LV100</td><td> 3</td></tr>\n",
       "\t<tr><td>gene_set_increase_2_and_3</td><td>0.10289710</td><td>0.10289710</td><td>0.1350020</td><td>0.7069861</td><td>1.478466</td><td>40</td><td>PCBP1,IGF1R,UXT,SNRPD1,GTF2H1</td><td>LV100</td><td> 5</td></tr>\n",
       "\t<tr><td>gene_set_increase_2_and_3</td><td>0.10289710</td><td>0.10289710</td><td>0.1350020</td><td>0.7069861</td><td>1.481544</td><td>40</td><td>PCBP1,IGF1R,UXT,SNRPD1,GTF2H1</td><td>LV100</td><td> 7</td></tr>\n",
       "\t<tr><td>gene_set_increase_2_and_3</td><td>0.10189810</td><td>0.10189810</td><td>0.1357409</td><td>0.7069861</td><td>1.461778</td><td>40</td><td>PCBP1,IGF1R,UXT,SNRPD1,GTF2H1</td><td>LV100</td><td> 6</td></tr>\n",
       "\t<tr><td>gene_set_increase_2_and_3</td><td>0.10189810</td><td>0.10189810</td><td>0.1357409</td><td>0.7069861</td><td>1.477454</td><td>40</td><td>PCBP1,IGF1R,UXT,SNRPD1,GTF2H1</td><td>LV100</td><td> 9</td></tr>\n",
       "\t<tr><td>gene_set_increase_2_and_3</td><td>0.09790210</td><td>0.09790210</td><td>0.1388051</td><td>0.7069861</td><td>1.494823</td><td>40</td><td>PCBP1,IGF1R,UXT,SNRPD1,GTF2H1</td><td>LV100</td><td> 8</td></tr>\n",
       "\t<tr><td>gene_set_increase_2_and_3</td><td>0.09490509</td><td>0.09490509</td><td>0.1412251</td><td>0.7069861</td><td>1.504016</td><td>40</td><td>PCBP1,IGF1R,UXT,SNRPD1,GTF2H1</td><td>LV100</td><td> 4</td></tr>\n",
       "\t<tr><td>gene_set_increase_2_and_3</td><td>0.08991009</td><td>0.08991009</td><td>0.1455161</td><td>0.7069861</td><td>1.482328</td><td>40</td><td>PCBP1,IGF1R,UXT,SNRPD1,GTF2H1</td><td>LV100</td><td> 1</td></tr>\n",
       "\t<tr><td>gene_set_increase_2_and_3</td><td>0.08891109</td><td>0.08891109</td><td>0.1464162</td><td>0.7069861</td><td>1.484432</td><td>40</td><td>PCBP1,IGF1R,UXT,SNRPD1,GTF2H1</td><td>LV100</td><td> 2</td></tr>\n",
       "\t<tr><td>gene_set_increase_2_and_3</td><td>0.08591409</td><td>0.08591409</td><td>0.1492075</td><td>0.7069861</td><td>1.490424</td><td>40</td><td>PCBP1,IGF1R,UXT,SNRPD1,GTF2H1</td><td>LV100</td><td>10</td></tr>\n",
       "</tbody>\n",
       "</table>\n"
      ],
      "text/latex": [
       "A data.table: 10 × 10\n",
       "\\begin{tabular}{llllllllll}\n",
       " pathway & pval & padj & log2err & ES & NES & size & leadingEdge & lv & rep\\_idx\\\\\n",
       " <chr> & <dbl> & <dbl> & <dbl> & <dbl> & <dbl> & <int> & <chr> & <chr> & <int>\\\\\n",
       "\\hline\n",
       "\t gene\\_set\\_increase\\_2\\_and\\_3 & 0.10489510 & 0.10489510 & 0.1335550 & 0.7069861 & 1.480363 & 40 & PCBP1,IGF1R,UXT,SNRPD1,GTF2H1 & LV100 &  3\\\\\n",
       "\t gene\\_set\\_increase\\_2\\_and\\_3 & 0.10289710 & 0.10289710 & 0.1350020 & 0.7069861 & 1.478466 & 40 & PCBP1,IGF1R,UXT,SNRPD1,GTF2H1 & LV100 &  5\\\\\n",
       "\t gene\\_set\\_increase\\_2\\_and\\_3 & 0.10289710 & 0.10289710 & 0.1350020 & 0.7069861 & 1.481544 & 40 & PCBP1,IGF1R,UXT,SNRPD1,GTF2H1 & LV100 &  7\\\\\n",
       "\t gene\\_set\\_increase\\_2\\_and\\_3 & 0.10189810 & 0.10189810 & 0.1357409 & 0.7069861 & 1.461778 & 40 & PCBP1,IGF1R,UXT,SNRPD1,GTF2H1 & LV100 &  6\\\\\n",
       "\t gene\\_set\\_increase\\_2\\_and\\_3 & 0.10189810 & 0.10189810 & 0.1357409 & 0.7069861 & 1.477454 & 40 & PCBP1,IGF1R,UXT,SNRPD1,GTF2H1 & LV100 &  9\\\\\n",
       "\t gene\\_set\\_increase\\_2\\_and\\_3 & 0.09790210 & 0.09790210 & 0.1388051 & 0.7069861 & 1.494823 & 40 & PCBP1,IGF1R,UXT,SNRPD1,GTF2H1 & LV100 &  8\\\\\n",
       "\t gene\\_set\\_increase\\_2\\_and\\_3 & 0.09490509 & 0.09490509 & 0.1412251 & 0.7069861 & 1.504016 & 40 & PCBP1,IGF1R,UXT,SNRPD1,GTF2H1 & LV100 &  4\\\\\n",
       "\t gene\\_set\\_increase\\_2\\_and\\_3 & 0.08991009 & 0.08991009 & 0.1455161 & 0.7069861 & 1.482328 & 40 & PCBP1,IGF1R,UXT,SNRPD1,GTF2H1 & LV100 &  1\\\\\n",
       "\t gene\\_set\\_increase\\_2\\_and\\_3 & 0.08891109 & 0.08891109 & 0.1464162 & 0.7069861 & 1.484432 & 40 & PCBP1,IGF1R,UXT,SNRPD1,GTF2H1 & LV100 &  2\\\\\n",
       "\t gene\\_set\\_increase\\_2\\_and\\_3 & 0.08591409 & 0.08591409 & 0.1492075 & 0.7069861 & 1.490424 & 40 & PCBP1,IGF1R,UXT,SNRPD1,GTF2H1 & LV100 & 10\\\\\n",
       "\\end{tabular}\n"
      ],
      "text/markdown": [
       "\n",
       "A data.table: 10 × 10\n",
       "\n",
       "| pathway &lt;chr&gt; | pval &lt;dbl&gt; | padj &lt;dbl&gt; | log2err &lt;dbl&gt; | ES &lt;dbl&gt; | NES &lt;dbl&gt; | size &lt;int&gt; | leadingEdge &lt;chr&gt; | lv &lt;chr&gt; | rep_idx &lt;int&gt; |\n",
       "|---|---|---|---|---|---|---|---|---|---|\n",
       "| gene_set_increase_2_and_3 | 0.10489510 | 0.10489510 | 0.1335550 | 0.7069861 | 1.480363 | 40 | PCBP1,IGF1R,UXT,SNRPD1,GTF2H1 | LV100 |  3 |\n",
       "| gene_set_increase_2_and_3 | 0.10289710 | 0.10289710 | 0.1350020 | 0.7069861 | 1.478466 | 40 | PCBP1,IGF1R,UXT,SNRPD1,GTF2H1 | LV100 |  5 |\n",
       "| gene_set_increase_2_and_3 | 0.10289710 | 0.10289710 | 0.1350020 | 0.7069861 | 1.481544 | 40 | PCBP1,IGF1R,UXT,SNRPD1,GTF2H1 | LV100 |  7 |\n",
       "| gene_set_increase_2_and_3 | 0.10189810 | 0.10189810 | 0.1357409 | 0.7069861 | 1.461778 | 40 | PCBP1,IGF1R,UXT,SNRPD1,GTF2H1 | LV100 |  6 |\n",
       "| gene_set_increase_2_and_3 | 0.10189810 | 0.10189810 | 0.1357409 | 0.7069861 | 1.477454 | 40 | PCBP1,IGF1R,UXT,SNRPD1,GTF2H1 | LV100 |  9 |\n",
       "| gene_set_increase_2_and_3 | 0.09790210 | 0.09790210 | 0.1388051 | 0.7069861 | 1.494823 | 40 | PCBP1,IGF1R,UXT,SNRPD1,GTF2H1 | LV100 |  8 |\n",
       "| gene_set_increase_2_and_3 | 0.09490509 | 0.09490509 | 0.1412251 | 0.7069861 | 1.504016 | 40 | PCBP1,IGF1R,UXT,SNRPD1,GTF2H1 | LV100 |  4 |\n",
       "| gene_set_increase_2_and_3 | 0.08991009 | 0.08991009 | 0.1455161 | 0.7069861 | 1.482328 | 40 | PCBP1,IGF1R,UXT,SNRPD1,GTF2H1 | LV100 |  1 |\n",
       "| gene_set_increase_2_and_3 | 0.08891109 | 0.08891109 | 0.1464162 | 0.7069861 | 1.484432 | 40 | PCBP1,IGF1R,UXT,SNRPD1,GTF2H1 | LV100 |  2 |\n",
       "| gene_set_increase_2_and_3 | 0.08591409 | 0.08591409 | 0.1492075 | 0.7069861 | 1.490424 | 40 | PCBP1,IGF1R,UXT,SNRPD1,GTF2H1 | LV100 | 10 |\n",
       "\n"
      ],
      "text/plain": [
       "   pathway                   pval       padj       log2err   ES        NES     \n",
       "1  gene_set_increase_2_and_3 0.10489510 0.10489510 0.1335550 0.7069861 1.480363\n",
       "2  gene_set_increase_2_and_3 0.10289710 0.10289710 0.1350020 0.7069861 1.478466\n",
       "3  gene_set_increase_2_and_3 0.10289710 0.10289710 0.1350020 0.7069861 1.481544\n",
       "4  gene_set_increase_2_and_3 0.10189810 0.10189810 0.1357409 0.7069861 1.461778\n",
       "5  gene_set_increase_2_and_3 0.10189810 0.10189810 0.1357409 0.7069861 1.477454\n",
       "6  gene_set_increase_2_and_3 0.09790210 0.09790210 0.1388051 0.7069861 1.494823\n",
       "7  gene_set_increase_2_and_3 0.09490509 0.09490509 0.1412251 0.7069861 1.504016\n",
       "8  gene_set_increase_2_and_3 0.08991009 0.08991009 0.1455161 0.7069861 1.482328\n",
       "9  gene_set_increase_2_and_3 0.08891109 0.08891109 0.1464162 0.7069861 1.484432\n",
       "10 gene_set_increase_2_and_3 0.08591409 0.08591409 0.1492075 0.7069861 1.490424\n",
       "   size leadingEdge                   lv    rep_idx\n",
       "1  40   PCBP1,IGF1R,UXT,SNRPD1,GTF2H1 LV100  3     \n",
       "2  40   PCBP1,IGF1R,UXT,SNRPD1,GTF2H1 LV100  5     \n",
       "3  40   PCBP1,IGF1R,UXT,SNRPD1,GTF2H1 LV100  7     \n",
       "4  40   PCBP1,IGF1R,UXT,SNRPD1,GTF2H1 LV100  6     \n",
       "5  40   PCBP1,IGF1R,UXT,SNRPD1,GTF2H1 LV100  9     \n",
       "6  40   PCBP1,IGF1R,UXT,SNRPD1,GTF2H1 LV100  8     \n",
       "7  40   PCBP1,IGF1R,UXT,SNRPD1,GTF2H1 LV100  4     \n",
       "8  40   PCBP1,IGF1R,UXT,SNRPD1,GTF2H1 LV100  1     \n",
       "9  40   PCBP1,IGF1R,UXT,SNRPD1,GTF2H1 LV100  2     \n",
       "10 40   PCBP1,IGF1R,UXT,SNRPD1,GTF2H1 LV100 10     "
      ]
     },
     "metadata": {},
     "output_type": "display_data"
    }
   ],
   "source": [
    "df %>% filter(lv == \"LV100\" & pathway == \"gene_set_increase_2_and_3\") %>% arrange(desc(padj))"
   ]
  },
  {
   "cell_type": "markdown",
   "metadata": {},
   "source": [
    "## Show significant LVs"
   ]
  },
  {
   "cell_type": "code",
   "execution_count": 44,
   "metadata": {},
   "outputs": [
    {
     "name": "stderr",
     "output_type": "stream",
     "text": [
      "`summarise()` has grouped output by 'lv'. You can override using the `.groups` argument.\n",
      "\n"
     ]
    }
   ],
   "source": [
    "df_signif <- df %>% group_by(lv, pathway) %>% summarize(max_padj = max(padj)) %>% filter(max_padj < 0.05)"
   ]
  },
  {
   "cell_type": "code",
   "execution_count": null,
   "metadata": {},
   "outputs": [],
   "source": [
    "length(df_signif)"
   ]
  },
  {
   "cell_type": "code",
   "execution_count": 52,
   "metadata": {},
   "outputs": [
    {
     "data": {
      "text/html": [
       "<table class=\"dataframe\">\n",
       "<caption>A grouped_df: 51 × 3</caption>\n",
       "<thead>\n",
       "\t<tr><th scope=col>lv</th><th scope=col>pathway</th><th scope=col>max_padj</th></tr>\n",
       "\t<tr><th scope=col>&lt;chr&gt;</th><th scope=col>&lt;chr&gt;</th><th scope=col>&lt;dbl&gt;</th></tr>\n",
       "</thead>\n",
       "<tbody>\n",
       "\t<tr><td>LV707</td><td>gene_set_increase_2_and_3  </td><td>3.477712e-07</td></tr>\n",
       "\t<tr><td>LV678</td><td>gene_set_decrease_-2_and_-3</td><td>5.210582e-07</td></tr>\n",
       "\t<tr><td>LV905</td><td>gene_set_increase_2_and_3  </td><td>8.587291e-05</td></tr>\n",
       "\t<tr><td>LV915</td><td>gene_set_increase_2_and_3  </td><td>1.274721e-04</td></tr>\n",
       "\t<tr><td>LV750</td><td>gene_set_increase_2_and_3  </td><td>1.126546e-03</td></tr>\n",
       "\t<tr><td>LV341</td><td>gene_set_increase_2_and_3  </td><td>1.566165e-03</td></tr>\n",
       "\t<tr><td>LV64 </td><td>gene_set_decrease_-2_and_-3</td><td>2.411481e-03</td></tr>\n",
       "\t<tr><td>LV897</td><td>gene_set_decrease_-2_and_-3</td><td>3.221430e-03</td></tr>\n",
       "\t<tr><td>LV575</td><td>gene_set_decrease_-2_and_-3</td><td>8.551656e-03</td></tr>\n",
       "\t<tr><td>LV310</td><td>gene_set_increase_2_and_3  </td><td>9.146540e-03</td></tr>\n",
       "\t<tr><td>LV48 </td><td>gene_set_increase_2_and_3  </td><td>1.107992e-02</td></tr>\n",
       "\t<tr><td>LV736</td><td>gene_set_decrease_-2_and_-3</td><td>1.152608e-02</td></tr>\n",
       "\t<tr><td>LV509</td><td>gene_set_increase_2_and_3  </td><td>1.390563e-02</td></tr>\n",
       "\t<tr><td>LV467</td><td>gene_set_increase_2_and_3  </td><td>1.987797e-02</td></tr>\n",
       "\t<tr><td>LV64 </td><td>gene_set_increase_2_and_3  </td><td>2.027652e-02</td></tr>\n",
       "\t<tr><td>LV490</td><td>gene_set_increase_2_and_3  </td><td>2.406273e-02</td></tr>\n",
       "\t<tr><td>LV550</td><td>gene_set_increase_2_and_3  </td><td>2.436164e-02</td></tr>\n",
       "\t<tr><td>LV621</td><td>gene_set_increase_2_and_3  </td><td>2.495947e-02</td></tr>\n",
       "\t<tr><td>LV157</td><td>gene_set_decrease_-2_and_-3</td><td>2.585620e-02</td></tr>\n",
       "\t<tr><td>LV421</td><td>gene_set_decrease_-2_and_-3</td><td>2.585620e-02</td></tr>\n",
       "\t<tr><td>LV469</td><td>gene_set_decrease_-2_and_-3</td><td>2.764968e-02</td></tr>\n",
       "\t<tr><td>LV250</td><td>gene_set_decrease_-2_and_-3</td><td>2.854642e-02</td></tr>\n",
       "\t<tr><td>LV420</td><td>gene_set_decrease_-2_and_-3</td><td>2.974207e-02</td></tr>\n",
       "\t<tr><td>LV558</td><td>gene_set_decrease_-2_and_-3</td><td>3.094066e-02</td></tr>\n",
       "\t<tr><td>LV630</td><td>gene_set_decrease_-2_and_-3</td><td>3.154143e-02</td></tr>\n",
       "\t<tr><td>LV750</td><td>gene_set_decrease_-2_and_-3</td><td>3.169719e-02</td></tr>\n",
       "\t<tr><td>LV99 </td><td>gene_set_decrease_-2_and_-3</td><td>3.274298e-02</td></tr>\n",
       "\t<tr><td>LV415</td><td>gene_set_increase_2_and_3  </td><td>3.334375e-02</td></tr>\n",
       "\t<tr><td>LV504</td><td>gene_set_increase_2_and_3  </td><td>3.334375e-02</td></tr>\n",
       "\t<tr><td>LV775</td><td>gene_set_increase_2_and_3  </td><td>3.334375e-02</td></tr>\n",
       "\t<tr><td>LV494</td><td>gene_set_increase_2_and_3  </td><td>3.454529e-02</td></tr>\n",
       "\t<tr><td>LV507</td><td>gene_set_increase_2_and_3  </td><td>3.454529e-02</td></tr>\n",
       "\t<tr><td>LV676</td><td>gene_set_decrease_-2_and_-3</td><td>3.454529e-02</td></tr>\n",
       "\t<tr><td>LV775</td><td>gene_set_decrease_-2_and_-3</td><td>3.496503e-02</td></tr>\n",
       "\t<tr><td>LV399</td><td>gene_set_increase_2_and_3  </td><td>3.574684e-02</td></tr>\n",
       "\t<tr><td>LV246</td><td>gene_set_increase_2_and_3  </td><td>3.634761e-02</td></tr>\n",
       "\t<tr><td>LV120</td><td>gene_set_increase_2_and_3  </td><td>3.694839e-02</td></tr>\n",
       "\t<tr><td>LV122</td><td>gene_set_increase_2_and_3  </td><td>3.754916e-02</td></tr>\n",
       "\t<tr><td>LV131</td><td>gene_set_decrease_-2_and_-3</td><td>3.814993e-02</td></tr>\n",
       "\t<tr><td>LV489</td><td>gene_set_increase_2_and_3  </td><td>3.935148e-02</td></tr>\n",
       "\t<tr><td>LV199</td><td>gene_set_decrease_-2_and_-3</td><td>3.995226e-02</td></tr>\n",
       "\t<tr><td>LV515</td><td>gene_set_increase_2_and_3  </td><td>4.115381e-02</td></tr>\n",
       "\t<tr><td>LV896</td><td>gene_set_decrease_-2_and_-3</td><td>4.235536e-02</td></tr>\n",
       "\t<tr><td>LV783</td><td>gene_set_decrease_-2_and_-3</td><td>4.256451e-02</td></tr>\n",
       "\t<tr><td>LV783</td><td>gene_set_increase_2_and_3  </td><td>4.256451e-02</td></tr>\n",
       "\t<tr><td>LV467</td><td>gene_set_decrease_-2_and_-3</td><td>4.495504e-02</td></tr>\n",
       "\t<tr><td>LV498</td><td>gene_set_decrease_-2_and_-3</td><td>4.535923e-02</td></tr>\n",
       "\t<tr><td>LV768</td><td>gene_set_increase_2_and_3  </td><td>4.776234e-02</td></tr>\n",
       "\t<tr><td>LV515</td><td>gene_set_decrease_-2_and_-3</td><td>4.795205e-02</td></tr>\n",
       "\t<tr><td>LV343</td><td>gene_set_decrease_-2_and_-3</td><td>4.956467e-02</td></tr>\n",
       "\t<tr><td>LV577</td><td>gene_set_increase_2_and_3  </td><td>4.995005e-02</td></tr>\n",
       "</tbody>\n",
       "</table>\n"
      ],
      "text/latex": [
       "A grouped\\_df: 51 × 3\n",
       "\\begin{tabular}{lll}\n",
       " lv & pathway & max\\_padj\\\\\n",
       " <chr> & <chr> & <dbl>\\\\\n",
       "\\hline\n",
       "\t LV707 & gene\\_set\\_increase\\_2\\_and\\_3   & 3.477712e-07\\\\\n",
       "\t LV678 & gene\\_set\\_decrease\\_-2\\_and\\_-3 & 5.210582e-07\\\\\n",
       "\t LV905 & gene\\_set\\_increase\\_2\\_and\\_3   & 8.587291e-05\\\\\n",
       "\t LV915 & gene\\_set\\_increase\\_2\\_and\\_3   & 1.274721e-04\\\\\n",
       "\t LV750 & gene\\_set\\_increase\\_2\\_and\\_3   & 1.126546e-03\\\\\n",
       "\t LV341 & gene\\_set\\_increase\\_2\\_and\\_3   & 1.566165e-03\\\\\n",
       "\t LV64  & gene\\_set\\_decrease\\_-2\\_and\\_-3 & 2.411481e-03\\\\\n",
       "\t LV897 & gene\\_set\\_decrease\\_-2\\_and\\_-3 & 3.221430e-03\\\\\n",
       "\t LV575 & gene\\_set\\_decrease\\_-2\\_and\\_-3 & 8.551656e-03\\\\\n",
       "\t LV310 & gene\\_set\\_increase\\_2\\_and\\_3   & 9.146540e-03\\\\\n",
       "\t LV48  & gene\\_set\\_increase\\_2\\_and\\_3   & 1.107992e-02\\\\\n",
       "\t LV736 & gene\\_set\\_decrease\\_-2\\_and\\_-3 & 1.152608e-02\\\\\n",
       "\t LV509 & gene\\_set\\_increase\\_2\\_and\\_3   & 1.390563e-02\\\\\n",
       "\t LV467 & gene\\_set\\_increase\\_2\\_and\\_3   & 1.987797e-02\\\\\n",
       "\t LV64  & gene\\_set\\_increase\\_2\\_and\\_3   & 2.027652e-02\\\\\n",
       "\t LV490 & gene\\_set\\_increase\\_2\\_and\\_3   & 2.406273e-02\\\\\n",
       "\t LV550 & gene\\_set\\_increase\\_2\\_and\\_3   & 2.436164e-02\\\\\n",
       "\t LV621 & gene\\_set\\_increase\\_2\\_and\\_3   & 2.495947e-02\\\\\n",
       "\t LV157 & gene\\_set\\_decrease\\_-2\\_and\\_-3 & 2.585620e-02\\\\\n",
       "\t LV421 & gene\\_set\\_decrease\\_-2\\_and\\_-3 & 2.585620e-02\\\\\n",
       "\t LV469 & gene\\_set\\_decrease\\_-2\\_and\\_-3 & 2.764968e-02\\\\\n",
       "\t LV250 & gene\\_set\\_decrease\\_-2\\_and\\_-3 & 2.854642e-02\\\\\n",
       "\t LV420 & gene\\_set\\_decrease\\_-2\\_and\\_-3 & 2.974207e-02\\\\\n",
       "\t LV558 & gene\\_set\\_decrease\\_-2\\_and\\_-3 & 3.094066e-02\\\\\n",
       "\t LV630 & gene\\_set\\_decrease\\_-2\\_and\\_-3 & 3.154143e-02\\\\\n",
       "\t LV750 & gene\\_set\\_decrease\\_-2\\_and\\_-3 & 3.169719e-02\\\\\n",
       "\t LV99  & gene\\_set\\_decrease\\_-2\\_and\\_-3 & 3.274298e-02\\\\\n",
       "\t LV415 & gene\\_set\\_increase\\_2\\_and\\_3   & 3.334375e-02\\\\\n",
       "\t LV504 & gene\\_set\\_increase\\_2\\_and\\_3   & 3.334375e-02\\\\\n",
       "\t LV775 & gene\\_set\\_increase\\_2\\_and\\_3   & 3.334375e-02\\\\\n",
       "\t LV494 & gene\\_set\\_increase\\_2\\_and\\_3   & 3.454529e-02\\\\\n",
       "\t LV507 & gene\\_set\\_increase\\_2\\_and\\_3   & 3.454529e-02\\\\\n",
       "\t LV676 & gene\\_set\\_decrease\\_-2\\_and\\_-3 & 3.454529e-02\\\\\n",
       "\t LV775 & gene\\_set\\_decrease\\_-2\\_and\\_-3 & 3.496503e-02\\\\\n",
       "\t LV399 & gene\\_set\\_increase\\_2\\_and\\_3   & 3.574684e-02\\\\\n",
       "\t LV246 & gene\\_set\\_increase\\_2\\_and\\_3   & 3.634761e-02\\\\\n",
       "\t LV120 & gene\\_set\\_increase\\_2\\_and\\_3   & 3.694839e-02\\\\\n",
       "\t LV122 & gene\\_set\\_increase\\_2\\_and\\_3   & 3.754916e-02\\\\\n",
       "\t LV131 & gene\\_set\\_decrease\\_-2\\_and\\_-3 & 3.814993e-02\\\\\n",
       "\t LV489 & gene\\_set\\_increase\\_2\\_and\\_3   & 3.935148e-02\\\\\n",
       "\t LV199 & gene\\_set\\_decrease\\_-2\\_and\\_-3 & 3.995226e-02\\\\\n",
       "\t LV515 & gene\\_set\\_increase\\_2\\_and\\_3   & 4.115381e-02\\\\\n",
       "\t LV896 & gene\\_set\\_decrease\\_-2\\_and\\_-3 & 4.235536e-02\\\\\n",
       "\t LV783 & gene\\_set\\_decrease\\_-2\\_and\\_-3 & 4.256451e-02\\\\\n",
       "\t LV783 & gene\\_set\\_increase\\_2\\_and\\_3   & 4.256451e-02\\\\\n",
       "\t LV467 & gene\\_set\\_decrease\\_-2\\_and\\_-3 & 4.495504e-02\\\\\n",
       "\t LV498 & gene\\_set\\_decrease\\_-2\\_and\\_-3 & 4.535923e-02\\\\\n",
       "\t LV768 & gene\\_set\\_increase\\_2\\_and\\_3   & 4.776234e-02\\\\\n",
       "\t LV515 & gene\\_set\\_decrease\\_-2\\_and\\_-3 & 4.795205e-02\\\\\n",
       "\t LV343 & gene\\_set\\_decrease\\_-2\\_and\\_-3 & 4.956467e-02\\\\\n",
       "\t LV577 & gene\\_set\\_increase\\_2\\_and\\_3   & 4.995005e-02\\\\\n",
       "\\end{tabular}\n"
      ],
      "text/markdown": [
       "\n",
       "A grouped_df: 51 × 3\n",
       "\n",
       "| lv &lt;chr&gt; | pathway &lt;chr&gt; | max_padj &lt;dbl&gt; |\n",
       "|---|---|---|\n",
       "| LV707 | gene_set_increase_2_and_3   | 3.477712e-07 |\n",
       "| LV678 | gene_set_decrease_-2_and_-3 | 5.210582e-07 |\n",
       "| LV905 | gene_set_increase_2_and_3   | 8.587291e-05 |\n",
       "| LV915 | gene_set_increase_2_and_3   | 1.274721e-04 |\n",
       "| LV750 | gene_set_increase_2_and_3   | 1.126546e-03 |\n",
       "| LV341 | gene_set_increase_2_and_3   | 1.566165e-03 |\n",
       "| LV64  | gene_set_decrease_-2_and_-3 | 2.411481e-03 |\n",
       "| LV897 | gene_set_decrease_-2_and_-3 | 3.221430e-03 |\n",
       "| LV575 | gene_set_decrease_-2_and_-3 | 8.551656e-03 |\n",
       "| LV310 | gene_set_increase_2_and_3   | 9.146540e-03 |\n",
       "| LV48  | gene_set_increase_2_and_3   | 1.107992e-02 |\n",
       "| LV736 | gene_set_decrease_-2_and_-3 | 1.152608e-02 |\n",
       "| LV509 | gene_set_increase_2_and_3   | 1.390563e-02 |\n",
       "| LV467 | gene_set_increase_2_and_3   | 1.987797e-02 |\n",
       "| LV64  | gene_set_increase_2_and_3   | 2.027652e-02 |\n",
       "| LV490 | gene_set_increase_2_and_3   | 2.406273e-02 |\n",
       "| LV550 | gene_set_increase_2_and_3   | 2.436164e-02 |\n",
       "| LV621 | gene_set_increase_2_and_3   | 2.495947e-02 |\n",
       "| LV157 | gene_set_decrease_-2_and_-3 | 2.585620e-02 |\n",
       "| LV421 | gene_set_decrease_-2_and_-3 | 2.585620e-02 |\n",
       "| LV469 | gene_set_decrease_-2_and_-3 | 2.764968e-02 |\n",
       "| LV250 | gene_set_decrease_-2_and_-3 | 2.854642e-02 |\n",
       "| LV420 | gene_set_decrease_-2_and_-3 | 2.974207e-02 |\n",
       "| LV558 | gene_set_decrease_-2_and_-3 | 3.094066e-02 |\n",
       "| LV630 | gene_set_decrease_-2_and_-3 | 3.154143e-02 |\n",
       "| LV750 | gene_set_decrease_-2_and_-3 | 3.169719e-02 |\n",
       "| LV99  | gene_set_decrease_-2_and_-3 | 3.274298e-02 |\n",
       "| LV415 | gene_set_increase_2_and_3   | 3.334375e-02 |\n",
       "| LV504 | gene_set_increase_2_and_3   | 3.334375e-02 |\n",
       "| LV775 | gene_set_increase_2_and_3   | 3.334375e-02 |\n",
       "| LV494 | gene_set_increase_2_and_3   | 3.454529e-02 |\n",
       "| LV507 | gene_set_increase_2_and_3   | 3.454529e-02 |\n",
       "| LV676 | gene_set_decrease_-2_and_-3 | 3.454529e-02 |\n",
       "| LV775 | gene_set_decrease_-2_and_-3 | 3.496503e-02 |\n",
       "| LV399 | gene_set_increase_2_and_3   | 3.574684e-02 |\n",
       "| LV246 | gene_set_increase_2_and_3   | 3.634761e-02 |\n",
       "| LV120 | gene_set_increase_2_and_3   | 3.694839e-02 |\n",
       "| LV122 | gene_set_increase_2_and_3   | 3.754916e-02 |\n",
       "| LV131 | gene_set_decrease_-2_and_-3 | 3.814993e-02 |\n",
       "| LV489 | gene_set_increase_2_and_3   | 3.935148e-02 |\n",
       "| LV199 | gene_set_decrease_-2_and_-3 | 3.995226e-02 |\n",
       "| LV515 | gene_set_increase_2_and_3   | 4.115381e-02 |\n",
       "| LV896 | gene_set_decrease_-2_and_-3 | 4.235536e-02 |\n",
       "| LV783 | gene_set_decrease_-2_and_-3 | 4.256451e-02 |\n",
       "| LV783 | gene_set_increase_2_and_3   | 4.256451e-02 |\n",
       "| LV467 | gene_set_decrease_-2_and_-3 | 4.495504e-02 |\n",
       "| LV498 | gene_set_decrease_-2_and_-3 | 4.535923e-02 |\n",
       "| LV768 | gene_set_increase_2_and_3   | 4.776234e-02 |\n",
       "| LV515 | gene_set_decrease_-2_and_-3 | 4.795205e-02 |\n",
       "| LV343 | gene_set_decrease_-2_and_-3 | 4.956467e-02 |\n",
       "| LV577 | gene_set_increase_2_and_3   | 4.995005e-02 |\n",
       "\n"
      ],
      "text/plain": [
       "   lv    pathway                     max_padj    \n",
       "1  LV707 gene_set_increase_2_and_3   3.477712e-07\n",
       "2  LV678 gene_set_decrease_-2_and_-3 5.210582e-07\n",
       "3  LV905 gene_set_increase_2_and_3   8.587291e-05\n",
       "4  LV915 gene_set_increase_2_and_3   1.274721e-04\n",
       "5  LV750 gene_set_increase_2_and_3   1.126546e-03\n",
       "6  LV341 gene_set_increase_2_and_3   1.566165e-03\n",
       "7  LV64  gene_set_decrease_-2_and_-3 2.411481e-03\n",
       "8  LV897 gene_set_decrease_-2_and_-3 3.221430e-03\n",
       "9  LV575 gene_set_decrease_-2_and_-3 8.551656e-03\n",
       "10 LV310 gene_set_increase_2_and_3   9.146540e-03\n",
       "11 LV48  gene_set_increase_2_and_3   1.107992e-02\n",
       "12 LV736 gene_set_decrease_-2_and_-3 1.152608e-02\n",
       "13 LV509 gene_set_increase_2_and_3   1.390563e-02\n",
       "14 LV467 gene_set_increase_2_and_3   1.987797e-02\n",
       "15 LV64  gene_set_increase_2_and_3   2.027652e-02\n",
       "16 LV490 gene_set_increase_2_and_3   2.406273e-02\n",
       "17 LV550 gene_set_increase_2_and_3   2.436164e-02\n",
       "18 LV621 gene_set_increase_2_and_3   2.495947e-02\n",
       "19 LV157 gene_set_decrease_-2_and_-3 2.585620e-02\n",
       "20 LV421 gene_set_decrease_-2_and_-3 2.585620e-02\n",
       "21 LV469 gene_set_decrease_-2_and_-3 2.764968e-02\n",
       "22 LV250 gene_set_decrease_-2_and_-3 2.854642e-02\n",
       "23 LV420 gene_set_decrease_-2_and_-3 2.974207e-02\n",
       "24 LV558 gene_set_decrease_-2_and_-3 3.094066e-02\n",
       "25 LV630 gene_set_decrease_-2_and_-3 3.154143e-02\n",
       "26 LV750 gene_set_decrease_-2_and_-3 3.169719e-02\n",
       "27 LV99  gene_set_decrease_-2_and_-3 3.274298e-02\n",
       "28 LV415 gene_set_increase_2_and_3   3.334375e-02\n",
       "29 LV504 gene_set_increase_2_and_3   3.334375e-02\n",
       "30 LV775 gene_set_increase_2_and_3   3.334375e-02\n",
       "31 LV494 gene_set_increase_2_and_3   3.454529e-02\n",
       "32 LV507 gene_set_increase_2_and_3   3.454529e-02\n",
       "33 LV676 gene_set_decrease_-2_and_-3 3.454529e-02\n",
       "34 LV775 gene_set_decrease_-2_and_-3 3.496503e-02\n",
       "35 LV399 gene_set_increase_2_and_3   3.574684e-02\n",
       "36 LV246 gene_set_increase_2_and_3   3.634761e-02\n",
       "37 LV120 gene_set_increase_2_and_3   3.694839e-02\n",
       "38 LV122 gene_set_increase_2_and_3   3.754916e-02\n",
       "39 LV131 gene_set_decrease_-2_and_-3 3.814993e-02\n",
       "40 LV489 gene_set_increase_2_and_3   3.935148e-02\n",
       "41 LV199 gene_set_decrease_-2_and_-3 3.995226e-02\n",
       "42 LV515 gene_set_increase_2_and_3   4.115381e-02\n",
       "43 LV896 gene_set_decrease_-2_and_-3 4.235536e-02\n",
       "44 LV783 gene_set_decrease_-2_and_-3 4.256451e-02\n",
       "45 LV783 gene_set_increase_2_and_3   4.256451e-02\n",
       "46 LV467 gene_set_decrease_-2_and_-3 4.495504e-02\n",
       "47 LV498 gene_set_decrease_-2_and_-3 4.535923e-02\n",
       "48 LV768 gene_set_increase_2_and_3   4.776234e-02\n",
       "49 LV515 gene_set_decrease_-2_and_-3 4.795205e-02\n",
       "50 LV343 gene_set_decrease_-2_and_-3 4.956467e-02\n",
       "51 LV577 gene_set_increase_2_and_3   4.995005e-02"
      ]
     },
     "metadata": {},
     "output_type": "display_data"
    }
   ],
   "source": [
    "df_signif %>% arrange(max_padj)"
   ]
  },
  {
   "cell_type": "code",
   "execution_count": null,
   "metadata": {},
   "outputs": [],
   "source": []
  }
 ],
 "metadata": {
  "jupytext": {
   "cell_metadata_filter": "all,-execution,-papermill,-trusted",
   "formats": "ipynb,py//R:percent"
  },
  "kernelspec": {
   "display_name": "R",
   "language": "R",
   "name": "ir"
  },
  "language_info": {
   "codemirror_mode": "r",
   "file_extension": ".r",
   "mimetype": "text/x-r-source",
   "name": "R",
   "pygments_lexer": "r",
   "version": "3.6.3"
  },
  "toc-autonumbering": true
 },
 "nbformat": 4,
 "nbformat_minor": 4
}
