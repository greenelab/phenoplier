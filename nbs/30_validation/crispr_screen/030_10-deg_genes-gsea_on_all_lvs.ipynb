{
 "cells": [
  {
   "cell_type": "markdown",
   "metadata": {},
   "source": [
    "# Module loading"
   ]
  },
  {
   "cell_type": "code",
   "execution_count": null,
   "metadata": {},
   "outputs": [],
   "source": [
    "library(IRdisplay)\n",
    "library(readr)\n",
    "library(fgsea)\n",
    "library(dplyr)\n",
    "library(reticulate)"
   ]
  },
  {
   "cell_type": "code",
   "execution_count": null,
   "metadata": {},
   "outputs": [],
   "source": [
    "pd <- import(\"pandas\")"
   ]
  },
  {
   "cell_type": "markdown",
   "metadata": {},
   "source": [
    "# Settings"
   ]
  },
  {
   "cell_type": "code",
   "execution_count": null,
   "metadata": {},
   "outputs": [],
   "source": [
    "OUTPUT_DIR <- Sys.getenv(\"PHENOPLIER_RESULTS_CRISPR_ANALYSES_BASE_DIR\")"
   ]
  },
  {
   "cell_type": "code",
   "execution_count": null,
   "metadata": {},
   "outputs": [],
   "source": [
    "OUTPUT_DIR"
   ]
  },
  {
   "cell_type": "code",
   "execution_count": null,
   "metadata": {},
   "outputs": [],
   "source": [
    "dir.create(OUTPUT_DIR, recursive=TRUE)"
   ]
  },
  {
   "cell_type": "markdown",
   "metadata": {},
   "source": [
    "# Data loading"
   ]
  },
  {
   "cell_type": "markdown",
   "metadata": {},
   "source": [
    "## Lipids gene sets"
   ]
  },
  {
   "cell_type": "code",
   "execution_count": null,
   "metadata": {},
   "outputs": [],
   "source": [
    "input_file <- Sys.getenv(\"PHENOPLIER_CRISPR_LIPIDS_GENE_SETS_FILE\")\n",
    "display(input_file)"
   ]
  },
  {
   "cell_type": "code",
   "execution_count": null,
   "metadata": {},
   "outputs": [],
   "source": [
    "all_genes_ranked <- read_csv(input_file)"
   ]
  },
  {
   "cell_type": "code",
   "execution_count": null,
   "metadata": {},
   "outputs": [],
   "source": [
    "orig_deg_gene_sets <- list()\n",
    "\n",
    "for (r in unique(all_genes_ranked$rank)) {\n",
    "    if (r == 0) {\n",
    "        next\n",
    "    }\n",
    "    \n",
    "    data <- all_genes_ranked[all_genes_ranked$rank == r,]\n",
    "    #q <- quantile(data, 0.50, names=FALSE)\n",
    "    \n",
    "    orig_deg_gene_sets[[paste0(\"gene_set_\", r)]] <- data$gene_name\n",
    "}"
   ]
  },
  {
   "cell_type": "code",
   "execution_count": null,
   "metadata": {},
   "outputs": [],
   "source": [
    "length(orig_deg_gene_sets)"
   ]
  },
  {
   "cell_type": "markdown",
   "metadata": {},
   "source": [
    "### Combine gene sets into \"increase lipids\" and \"decrease lipids\""
   ]
  },
  {
   "cell_type": "code",
   "execution_count": null,
   "metadata": {},
   "outputs": [],
   "source": [
    "deg_gene_sets <- list()"
   ]
  },
  {
   "cell_type": "code",
   "execution_count": null,
   "metadata": {},
   "outputs": [],
   "source": [
    "# genes that increase lipids\n",
    "deg_gene_sets[[\"gene_set_increase\"]] <- c(\n",
    "    orig_deg_gene_sets[[\"gene_set_2\"]],\n",
    "    orig_deg_gene_sets[[\"gene_set_3\"]]\n",
    ")"
   ]
  },
  {
   "cell_type": "code",
   "execution_count": null,
   "metadata": {},
   "outputs": [],
   "source": [
    "# genes that decrease lipids\n",
    "deg_gene_sets[[\"gene_set_decrease\"]] <- c(\n",
    "    orig_deg_gene_sets[[\"gene_set_-2\"]],\n",
    "    orig_deg_gene_sets[[\"gene_set_-3\"]]\n",
    ")"
   ]
  },
  {
   "cell_type": "code",
   "execution_count": null,
   "metadata": {},
   "outputs": [],
   "source": [
    "length(deg_gene_sets)"
   ]
  },
  {
   "cell_type": "code",
   "execution_count": null,
   "metadata": {},
   "outputs": [],
   "source": [
    "length(deg_gene_sets[[\"gene_set_increase\"]])"
   ]
  },
  {
   "cell_type": "code",
   "execution_count": null,
   "metadata": {},
   "outputs": [],
   "source": [
    "length(deg_gene_sets[[\"gene_set_decrease\"]])"
   ]
  },
  {
   "cell_type": "code",
   "execution_count": null,
   "metadata": {},
   "outputs": [],
   "source": [
    "# test new increase set\n",
    "new_set <- deg_gene_sets[[\"gene_set_increase\"]]\n",
    "expected_set <- union(\n",
    "    orig_deg_gene_sets[[\"gene_set_2\"]],\n",
    "    orig_deg_gene_sets[[\"gene_set_3\"]]\n",
    ")\n",
    "\n",
    "stopifnot(length(new_set) == length(unique(new_set)))\n",
    "\n",
    "stopifnot(\n",
    "    length(new_set) == \n",
    "    length(\n",
    "        intersect(\n",
    "            new_set,\n",
    "            expected_set\n",
    "        )\n",
    "    )\n",
    ")"
   ]
  },
  {
   "cell_type": "code",
   "execution_count": null,
   "metadata": {},
   "outputs": [],
   "source": [
    "# test new decrease set\n",
    "new_set <- deg_gene_sets[[\"gene_set_decrease\"]]\n",
    "expected_set <- union(\n",
    "    orig_deg_gene_sets[[\"gene_set_-2\"]],\n",
    "    orig_deg_gene_sets[[\"gene_set_-3\"]]\n",
    ")\n",
    "\n",
    "stopifnot(length(new_set) == length(unique(new_set)))\n",
    "\n",
    "stopifnot(\n",
    "    length(new_set) == \n",
    "    length(\n",
    "        intersect(\n",
    "            new_set,\n",
    "            expected_set\n",
    "        )\n",
    "    )\n",
    ")"
   ]
  },
  {
   "cell_type": "markdown",
   "metadata": {},
   "source": [
    "## MultiPLIER Z"
   ]
  },
  {
   "cell_type": "code",
   "execution_count": null,
   "metadata": {},
   "outputs": [],
   "source": [
    "multiplier_z = pd$read_pickle(\n",
    "    Sys.getenv(\"PHENOPLIER_MULTIPLIER_MODEL_Z_MATRIX_FILE\")\n",
    ")"
   ]
  },
  {
   "cell_type": "code",
   "execution_count": null,
   "metadata": {},
   "outputs": [],
   "source": [
    "dim(multiplier_z)"
   ]
  },
  {
   "cell_type": "code",
   "execution_count": null,
   "metadata": {},
   "outputs": [],
   "source": [
    "head(multiplier_z)"
   ]
  },
  {
   "cell_type": "markdown",
   "metadata": {},
   "source": [
    "# Prepare LVs list"
   ]
  },
  {
   "cell_type": "code",
   "execution_count": null,
   "metadata": {},
   "outputs": [],
   "source": [
    "lvs = list()\n",
    "z_gene_names <- rownames(multiplier_z)\n",
    "\n",
    "for (cidx in 1:ncol(multiplier_z)) {\n",
    "    data <- multiplier_z[, cidx]\n",
    "    names(data) <- z_gene_names\n",
    "    # q <- quantile(data, 0.75, names=FALSE)\n",
    "    q <- 0.0\n",
    "    \n",
    "    lvs[[paste0(\"LV\", cidx)]] <- data[data > q]\n",
    "}"
   ]
  },
  {
   "cell_type": "markdown",
   "metadata": {},
   "source": [
    "# Compute enrichment on all LVs"
   ]
  },
  {
   "cell_type": "code",
   "execution_count": null,
   "metadata": {},
   "outputs": [],
   "source": [
    "n_reps = 10"
   ]
  },
  {
   "cell_type": "code",
   "execution_count": null,
   "metadata": {},
   "outputs": [],
   "source": [
    "set.seed(0)"
   ]
  },
  {
   "cell_type": "code",
   "execution_count": null,
   "metadata": {},
   "outputs": [],
   "source": [
    "results = list()\n",
    "\n",
    "for (lv in names(lvs)) {\n",
    "    repetitions = list()\n",
    "    \n",
    "    for (i in 1:n_reps) {\n",
    "        rep_res <- fgsea(pathways = deg_gene_sets, stats = lvs[[lv]], scoreType = \"pos\", eps = 0.0)[order(pval), ]\n",
    "        rep_res[, \"leadingEdge\"] <- sapply(rep_res$leadingEdge, paste, collapse=\",\")\n",
    "        rep_res[, \"lv\"] <- lv\n",
    "        rep_res[, \"rep_idx\"] <- i\n",
    "        \n",
    "        repetitions[[i]] <- rep_res\n",
    "    }\n",
    "    \n",
    "    res <- do.call(rbind, repetitions)\n",
    "\n",
    "    results[[lv]] <- res\n",
    "}"
   ]
  },
  {
   "cell_type": "code",
   "execution_count": null,
   "metadata": {},
   "outputs": [],
   "source": [
    "length(results)"
   ]
  },
  {
   "cell_type": "code",
   "execution_count": null,
   "metadata": {},
   "outputs": [],
   "source": [
    "df <- do.call(rbind, results)"
   ]
  },
  {
   "cell_type": "code",
   "execution_count": null,
   "metadata": {},
   "outputs": [],
   "source": [
    "dim(df)"
   ]
  },
  {
   "cell_type": "code",
   "execution_count": null,
   "metadata": {},
   "outputs": [],
   "source": [
    "head(df)"
   ]
  },
  {
   "cell_type": "markdown",
   "metadata": {},
   "source": [
    "## Save"
   ]
  },
  {
   "cell_type": "code",
   "execution_count": null,
   "metadata": {},
   "outputs": [],
   "source": [
    "output_file <- file.path(OUTPUT_DIR, \"fgsea-all_lvs.tsv\")\n",
    "display(output_file)"
   ]
  },
  {
   "cell_type": "code",
   "execution_count": null,
   "metadata": {},
   "outputs": [],
   "source": [
    "write_tsv(df, output_file)"
   ]
  },
  {
   "cell_type": "markdown",
   "metadata": {},
   "source": [
    "# Quick analyses/tests"
   ]
  },
  {
   "cell_type": "markdown",
   "metadata": {},
   "source": [
    "## See how one LV looks like"
   ]
  },
  {
   "cell_type": "code",
   "execution_count": null,
   "metadata": {},
   "outputs": [],
   "source": [
    "df %>% filter(lv == \"LV100\" & pathway == \"gene_set_increase\") %>% arrange(desc(padj))"
   ]
  },
  {
   "cell_type": "markdown",
   "metadata": {},
   "source": [
    "## Show significant LVs"
   ]
  },
  {
   "cell_type": "code",
   "execution_count": null,
   "metadata": {},
   "outputs": [],
   "source": [
    "df_signif <- df %>% group_by(lv, pathway) %>% summarize(max_padj = max(padj)) %>% filter(max_padj < 0.05)"
   ]
  },
  {
   "cell_type": "code",
   "execution_count": null,
   "metadata": {},
   "outputs": [],
   "source": [
    "nrow(df_signif)"
   ]
  },
  {
   "cell_type": "code",
   "execution_count": null,
   "metadata": {},
   "outputs": [],
   "source": [
    "stopifnot(nrow(df_signif) > 500)"
   ]
  },
  {
   "cell_type": "code",
   "execution_count": null,
   "metadata": {},
   "outputs": [],
   "source": [
    "df_signif %>% arrange(max_padj)"
   ]
  },
  {
   "cell_type": "code",
   "execution_count": null,
   "metadata": {},
   "outputs": [],
   "source": []
  }
 ],
 "metadata": {
  "jupytext": {
   "cell_metadata_filter": "all,-execution,-papermill,-trusted",
   "formats": "ipynb,py//R:percent"
  },
  "kernelspec": {
   "display_name": "R",
   "language": "R",
   "name": "ir"
  },
  "language_info": {
   "codemirror_mode": "r",
   "file_extension": ".r",
   "mimetype": "text/x-r-source",
   "name": "R",
   "pygments_lexer": "r",
   "version": "3.6.3"
  },
  "toc-autonumbering": true
 },
 "nbformat": 4,
 "nbformat_minor": 4
}
