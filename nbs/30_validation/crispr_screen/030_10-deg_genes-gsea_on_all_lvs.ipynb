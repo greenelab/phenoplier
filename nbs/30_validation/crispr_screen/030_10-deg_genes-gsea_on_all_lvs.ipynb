{
 "cells": [
  {
   "cell_type": "markdown",
   "metadata": {
    "papermill": {
     "duration": 0.019635,
     "end_time": "2021-05-21T13:42:22.818732",
     "exception": false,
     "start_time": "2021-05-21T13:42:22.799097",
     "status": "completed"
    },
    "tags": []
   },
   "source": [
    "# Module loading"
   ]
  },
  {
   "cell_type": "code",
   "execution_count": 1,
   "metadata": {
    "execution": {
     "iopub.execute_input": "2021-05-21T13:42:22.854058Z",
     "iopub.status.busy": "2021-05-21T13:42:22.852126Z",
     "iopub.status.idle": "2021-05-21T13:42:24.743339Z",
     "shell.execute_reply": "2021-05-21T13:42:24.742532Z"
    },
    "papermill": {
     "duration": 1.909082,
     "end_time": "2021-05-21T13:42:24.743473",
     "exception": false,
     "start_time": "2021-05-21T13:42:22.834391",
     "status": "completed"
    },
    "tags": []
   },
   "outputs": [
    {
     "name": "stderr",
     "output_type": "stream",
     "text": [
      "\n",
      "Attaching package: ‘dplyr’\n",
      "\n",
      "\n",
      "The following objects are masked from ‘package:stats’:\n",
      "\n",
      "    filter, lag\n",
      "\n",
      "\n",
      "The following objects are masked from ‘package:base’:\n",
      "\n",
      "    intersect, setdiff, setequal, union\n",
      "\n",
      "\n",
      "── \u001b[1mAttaching packages\u001b[22m ─────────────────────────────────────── tidyverse 1.3.1 ──\n",
      "\n",
      "\u001b[32m✔\u001b[39m \u001b[34mggplot2\u001b[39m 3.3.3     \u001b[32m✔\u001b[39m \u001b[34mpurrr  \u001b[39m 0.3.4\n",
      "\u001b[32m✔\u001b[39m \u001b[34mtibble \u001b[39m 3.1.1     \u001b[32m✔\u001b[39m \u001b[34mstringr\u001b[39m 1.4.0\n",
      "\u001b[32m✔\u001b[39m \u001b[34mtidyr  \u001b[39m 1.1.3     \u001b[32m✔\u001b[39m \u001b[34mforcats\u001b[39m 0.5.1\n",
      "\n",
      "── \u001b[1mConflicts\u001b[22m ────────────────────────────────────────── tidyverse_conflicts() ──\n",
      "\u001b[31m✖\u001b[39m \u001b[34mdplyr\u001b[39m::\u001b[32mfilter()\u001b[39m masks \u001b[34mstats\u001b[39m::filter()\n",
      "\u001b[31m✖\u001b[39m \u001b[34mdplyr\u001b[39m::\u001b[32mlag()\u001b[39m    masks \u001b[34mstats\u001b[39m::lag()\n",
      "\n"
     ]
    }
   ],
   "source": [
    "library(IRdisplay)\n",
    "library(readr)\n",
    "library(fgsea)\n",
    "library(dplyr)\n",
    "library(tidyverse)\n",
    "library(reticulate)"
   ]
  },
  {
   "cell_type": "code",
   "execution_count": 2,
   "metadata": {
    "execution": {
     "iopub.execute_input": "2021-05-21T13:42:24.803335Z",
     "iopub.status.busy": "2021-05-21T13:42:24.784163Z",
     "iopub.status.idle": "2021-05-21T13:42:25.659739Z",
     "shell.execute_reply": "2021-05-21T13:42:25.658906Z"
    },
    "papermill": {
     "duration": 0.896077,
     "end_time": "2021-05-21T13:42:25.659967",
     "exception": false,
     "start_time": "2021-05-21T13:42:24.763890",
     "status": "completed"
    },
    "tags": []
   },
   "outputs": [],
   "source": [
    "pd <- import(\"pandas\")"
   ]
  },
  {
   "cell_type": "markdown",
   "metadata": {
    "papermill": {
     "duration": 0.01717,
     "end_time": "2021-05-21T13:42:25.695916",
     "exception": false,
     "start_time": "2021-05-21T13:42:25.678746",
     "status": "completed"
    },
    "tags": []
   },
   "source": [
    "# Settings"
   ]
  },
  {
   "cell_type": "code",
   "execution_count": 3,
   "metadata": {
    "execution": {
     "iopub.execute_input": "2021-05-21T13:42:25.732676Z",
     "iopub.status.busy": "2021-05-21T13:42:25.731698Z",
     "iopub.status.idle": "2021-05-21T13:42:25.740476Z",
     "shell.execute_reply": "2021-05-21T13:42:25.739636Z"
    },
    "papermill": {
     "duration": 0.027682,
     "end_time": "2021-05-21T13:42:25.740561",
     "exception": false,
     "start_time": "2021-05-21T13:42:25.712879",
     "status": "completed"
    },
    "tags": []
   },
   "outputs": [],
   "source": [
    "OUTPUT_DIR <- Sys.getenv(\"PHENOPLIER_RESULTS_CRISPR_ANALYSES_BASE_DIR\")"
   ]
  },
  {
   "cell_type": "code",
   "execution_count": 4,
   "metadata": {
    "execution": {
     "iopub.execute_input": "2021-05-21T13:42:25.777537Z",
     "iopub.status.busy": "2021-05-21T13:42:25.776486Z",
     "iopub.status.idle": "2021-05-21T13:42:25.787964Z",
     "shell.execute_reply": "2021-05-21T13:42:25.787060Z"
    },
    "papermill": {
     "duration": 0.030455,
     "end_time": "2021-05-21T13:42:25.788046",
     "exception": false,
     "start_time": "2021-05-21T13:42:25.757591",
     "status": "completed"
    },
    "tags": []
   },
   "outputs": [
    {
     "data": {
      "text/html": [
       "'/home/miltondp/projects/labs/greenelab/phenoplier/base/results/crispr_analyses'"
      ],
      "text/latex": [
       "'/home/miltondp/projects/labs/greenelab/phenoplier/base/results/crispr\\_analyses'"
      ],
      "text/markdown": [
       "'/home/miltondp/projects/labs/greenelab/phenoplier/base/results/crispr_analyses'"
      ],
      "text/plain": [
       "[1] \"/home/miltondp/projects/labs/greenelab/phenoplier/base/results/crispr_analyses\""
      ]
     },
     "metadata": {},
     "output_type": "display_data"
    }
   ],
   "source": [
    "OUTPUT_DIR"
   ]
  },
  {
   "cell_type": "code",
   "execution_count": 5,
   "metadata": {
    "execution": {
     "iopub.execute_input": "2021-05-21T13:42:25.825602Z",
     "iopub.status.busy": "2021-05-21T13:42:25.824645Z",
     "iopub.status.idle": "2021-05-21T13:42:25.833017Z",
     "shell.execute_reply": "2021-05-21T13:42:25.832197Z"
    },
    "papermill": {
     "duration": 0.027491,
     "end_time": "2021-05-21T13:42:25.833101",
     "exception": false,
     "start_time": "2021-05-21T13:42:25.805610",
     "status": "completed"
    },
    "tags": []
   },
   "outputs": [],
   "source": [
    "dir.create(OUTPUT_DIR, recursive=TRUE)"
   ]
  },
  {
   "cell_type": "markdown",
   "metadata": {
    "papermill": {
     "duration": 0.016959,
     "end_time": "2021-05-21T13:42:25.867651",
     "exception": false,
     "start_time": "2021-05-21T13:42:25.850692",
     "status": "completed"
    },
    "tags": []
   },
   "source": [
    "# Data loading"
   ]
  },
  {
   "cell_type": "markdown",
   "metadata": {
    "papermill": {
     "duration": 0.017024,
     "end_time": "2021-05-21T13:42:25.901681",
     "exception": false,
     "start_time": "2021-05-21T13:42:25.884657",
     "status": "completed"
    },
    "tags": []
   },
   "source": [
    "## Lipids gene sets"
   ]
  },
  {
   "cell_type": "code",
   "execution_count": 6,
   "metadata": {
    "execution": {
     "iopub.execute_input": "2021-05-21T13:42:25.938957Z",
     "iopub.status.busy": "2021-05-21T13:42:25.937972Z",
     "iopub.status.idle": "2021-05-21T13:42:25.949337Z",
     "shell.execute_reply": "2021-05-21T13:42:25.948388Z"
    },
    "papermill": {
     "duration": 0.030682,
     "end_time": "2021-05-21T13:42:25.949421",
     "exception": false,
     "start_time": "2021-05-21T13:42:25.918739",
     "status": "completed"
    },
    "tags": []
   },
   "outputs": [
    {
     "data": {
      "text/html": [
       "'/home/miltondp/projects/labs/greenelab/phenoplier/base/data/crispr_screen/lipid_DEG.csv'"
      ],
      "text/latex": [
       "'/home/miltondp/projects/labs/greenelab/phenoplier/base/data/crispr\\_screen/lipid\\_DEG.csv'"
      ],
      "text/markdown": [
       "'/home/miltondp/projects/labs/greenelab/phenoplier/base/data/crispr_screen/lipid_DEG.csv'"
      ],
      "text/plain": [
       "[1] \"/home/miltondp/projects/labs/greenelab/phenoplier/base/data/crispr_screen/lipid_DEG.csv\""
      ]
     },
     "metadata": {},
     "output_type": "display_data"
    }
   ],
   "source": [
    "input_file <- Sys.getenv(\"PHENOPLIER_CRISPR_LIPIDS_GENE_SETS_FILE\")\n",
    "display(input_file)"
   ]
  },
  {
   "cell_type": "code",
   "execution_count": 7,
   "metadata": {
    "execution": {
     "iopub.execute_input": "2021-05-21T13:42:25.988177Z",
     "iopub.status.busy": "2021-05-21T13:42:25.987122Z",
     "iopub.status.idle": "2021-05-21T13:42:26.043698Z",
     "shell.execute_reply": "2021-05-21T13:42:26.042819Z"
    },
    "papermill": {
     "duration": 0.076717,
     "end_time": "2021-05-21T13:42:26.043786",
     "exception": false,
     "start_time": "2021-05-21T13:42:25.967069",
     "status": "completed"
    },
    "tags": []
   },
   "outputs": [
    {
     "name": "stderr",
     "output_type": "stream",
     "text": [
      "\n",
      "\u001b[36m──\u001b[39m \u001b[1m\u001b[1mColumn specification\u001b[1m\u001b[22m \u001b[36m────────────────────────────────────────────────────────\u001b[39m\n",
      "cols(\n",
      "  gene_name = \u001b[31mcol_character()\u001b[39m,\n",
      "  GFPLow_vs_UnSorted.log2FC = \u001b[32mcol_double()\u001b[39m,\n",
      "  GFPLow_vs_UnSorted.FDR = \u001b[32mcol_double()\u001b[39m,\n",
      "  GFPLow_vs_UnSorted.DEG = \u001b[33mcol_logical()\u001b[39m,\n",
      "  GFPHigh_vs_UnSorted.log2FC = \u001b[32mcol_double()\u001b[39m,\n",
      "  GFPHigh_vs_UnSorted.FDR = \u001b[32mcol_double()\u001b[39m,\n",
      "  GFPHigh_vs_UnSorted.DEG = \u001b[33mcol_logical()\u001b[39m,\n",
      "  GFPHigh_vs_GFPLow.log2FC = \u001b[32mcol_double()\u001b[39m,\n",
      "  GFPHigh_vs_GFPLow.FDR = \u001b[32mcol_double()\u001b[39m,\n",
      "  GFPHigh_vs_GFPLow.DEG = \u001b[33mcol_logical()\u001b[39m,\n",
      "  `lipid effect` = \u001b[31mcol_character()\u001b[39m,\n",
      "  rank = \u001b[32mcol_double()\u001b[39m\n",
      ")\n",
      "\n",
      "\n"
     ]
    }
   ],
   "source": [
    "all_genes_ranked <- read_csv(input_file)"
   ]
  },
  {
   "cell_type": "code",
   "execution_count": 8,
   "metadata": {
    "execution": {
     "iopub.execute_input": "2021-05-21T13:42:26.083177Z",
     "iopub.status.busy": "2021-05-21T13:42:26.082215Z",
     "iopub.status.idle": "2021-05-21T13:42:26.098697Z",
     "shell.execute_reply": "2021-05-21T13:42:26.097905Z"
    },
    "papermill": {
     "duration": 0.036726,
     "end_time": "2021-05-21T13:42:26.098780",
     "exception": false,
     "start_time": "2021-05-21T13:42:26.062054",
     "status": "completed"
    },
    "tags": []
   },
   "outputs": [],
   "source": [
    "orig_deg_gene_sets <- list()\n",
    "\n",
    "for (r in unique(all_genes_ranked$rank)) {\n",
    "    if (r == 0) {\n",
    "        next\n",
    "    }\n",
    "    \n",
    "    data <- all_genes_ranked[all_genes_ranked$rank == r,]\n",
    "    #q <- quantile(data, 0.50, names=FALSE)\n",
    "    \n",
    "    orig_deg_gene_sets[[paste0(\"gene_set_\", r)]] <- data$gene_name\n",
    "}"
   ]
  },
  {
   "cell_type": "code",
   "execution_count": 9,
   "metadata": {
    "execution": {
     "iopub.execute_input": "2021-05-21T13:42:26.137873Z",
     "iopub.status.busy": "2021-05-21T13:42:26.136929Z",
     "iopub.status.idle": "2021-05-21T13:42:26.147222Z",
     "shell.execute_reply": "2021-05-21T13:42:26.146281Z"
    },
    "papermill": {
     "duration": 0.030275,
     "end_time": "2021-05-21T13:42:26.147307",
     "exception": false,
     "start_time": "2021-05-21T13:42:26.117032",
     "status": "completed"
    },
    "tags": []
   },
   "outputs": [
    {
     "data": {
      "text/html": [
       "6"
      ],
      "text/latex": [
       "6"
      ],
      "text/markdown": [
       "6"
      ],
      "text/plain": [
       "[1] 6"
      ]
     },
     "metadata": {},
     "output_type": "display_data"
    }
   ],
   "source": [
    "length(orig_deg_gene_sets)"
   ]
  },
  {
   "cell_type": "markdown",
   "metadata": {
    "papermill": {
     "duration": 0.017914,
     "end_time": "2021-05-21T13:42:26.183624",
     "exception": false,
     "start_time": "2021-05-21T13:42:26.165710",
     "status": "completed"
    },
    "tags": []
   },
   "source": [
    "### Combine gene sets into \"increase lipids\" and \"decrease lipids\""
   ]
  },
  {
   "cell_type": "code",
   "execution_count": 10,
   "metadata": {
    "execution": {
     "iopub.execute_input": "2021-05-21T13:42:26.223307Z",
     "iopub.status.busy": "2021-05-21T13:42:26.222360Z",
     "iopub.status.idle": "2021-05-21T13:42:26.230599Z",
     "shell.execute_reply": "2021-05-21T13:42:26.229771Z"
    },
    "papermill": {
     "duration": 0.028694,
     "end_time": "2021-05-21T13:42:26.230684",
     "exception": false,
     "start_time": "2021-05-21T13:42:26.201990",
     "status": "completed"
    },
    "tags": []
   },
   "outputs": [],
   "source": [
    "deg_gene_sets <- list()"
   ]
  },
  {
   "cell_type": "code",
   "execution_count": 11,
   "metadata": {
    "execution": {
     "iopub.execute_input": "2021-05-21T13:42:26.269973Z",
     "iopub.status.busy": "2021-05-21T13:42:26.269076Z",
     "iopub.status.idle": "2021-05-21T13:42:26.277610Z",
     "shell.execute_reply": "2021-05-21T13:42:26.276727Z"
    },
    "papermill": {
     "duration": 0.028691,
     "end_time": "2021-05-21T13:42:26.277695",
     "exception": false,
     "start_time": "2021-05-21T13:42:26.249004",
     "status": "completed"
    },
    "tags": []
   },
   "outputs": [],
   "source": [
    "# genes that increase lipids\n",
    "deg_gene_sets[[\"gene_set_increase\"]] <- c(\n",
    "    orig_deg_gene_sets[[\"gene_set_2\"]],\n",
    "    orig_deg_gene_sets[[\"gene_set_3\"]]\n",
    ")"
   ]
  },
  {
   "cell_type": "code",
   "execution_count": 12,
   "metadata": {
    "execution": {
     "iopub.execute_input": "2021-05-21T13:42:26.317339Z",
     "iopub.status.busy": "2021-05-21T13:42:26.316357Z",
     "iopub.status.idle": "2021-05-21T13:42:26.324894Z",
     "shell.execute_reply": "2021-05-21T13:42:26.324026Z"
    },
    "papermill": {
     "duration": 0.029027,
     "end_time": "2021-05-21T13:42:26.324980",
     "exception": false,
     "start_time": "2021-05-21T13:42:26.295953",
     "status": "completed"
    },
    "tags": []
   },
   "outputs": [],
   "source": [
    "# genes that decrease lipids\n",
    "deg_gene_sets[[\"gene_set_decrease\"]] <- c(\n",
    "    orig_deg_gene_sets[[\"gene_set_-2\"]],\n",
    "    orig_deg_gene_sets[[\"gene_set_-3\"]]\n",
    ")"
   ]
  },
  {
   "cell_type": "code",
   "execution_count": 13,
   "metadata": {
    "execution": {
     "iopub.execute_input": "2021-05-21T13:42:26.364402Z",
     "iopub.status.busy": "2021-05-21T13:42:26.363441Z",
     "iopub.status.idle": "2021-05-21T13:42:26.373653Z",
     "shell.execute_reply": "2021-05-21T13:42:26.372659Z"
    },
    "papermill": {
     "duration": 0.030358,
     "end_time": "2021-05-21T13:42:26.373737",
     "exception": false,
     "start_time": "2021-05-21T13:42:26.343379",
     "status": "completed"
    },
    "tags": []
   },
   "outputs": [
    {
     "data": {
      "text/html": [
       "2"
      ],
      "text/latex": [
       "2"
      ],
      "text/markdown": [
       "2"
      ],
      "text/plain": [
       "[1] 2"
      ]
     },
     "metadata": {},
     "output_type": "display_data"
    }
   ],
   "source": [
    "length(deg_gene_sets)"
   ]
  },
  {
   "cell_type": "code",
   "execution_count": 14,
   "metadata": {
    "execution": {
     "iopub.execute_input": "2021-05-21T13:42:26.414246Z",
     "iopub.status.busy": "2021-05-21T13:42:26.413231Z",
     "iopub.status.idle": "2021-05-21T13:42:26.423516Z",
     "shell.execute_reply": "2021-05-21T13:42:26.422557Z"
    },
    "papermill": {
     "duration": 0.031182,
     "end_time": "2021-05-21T13:42:26.423598",
     "exception": false,
     "start_time": "2021-05-21T13:42:26.392416",
     "status": "completed"
    },
    "tags": []
   },
   "outputs": [
    {
     "data": {
      "text/html": [
       "175"
      ],
      "text/latex": [
       "175"
      ],
      "text/markdown": [
       "175"
      ],
      "text/plain": [
       "[1] 175"
      ]
     },
     "metadata": {},
     "output_type": "display_data"
    }
   ],
   "source": [
    "length(deg_gene_sets[[\"gene_set_increase\"]])"
   ]
  },
  {
   "cell_type": "code",
   "execution_count": 15,
   "metadata": {
    "execution": {
     "iopub.execute_input": "2021-05-21T13:42:26.466815Z",
     "iopub.status.busy": "2021-05-21T13:42:26.465810Z",
     "iopub.status.idle": "2021-05-21T13:42:26.475298Z",
     "shell.execute_reply": "2021-05-21T13:42:26.474474Z"
    },
    "papermill": {
     "duration": 0.032545,
     "end_time": "2021-05-21T13:42:26.475400",
     "exception": false,
     "start_time": "2021-05-21T13:42:26.442855",
     "status": "completed"
    },
    "tags": []
   },
   "outputs": [],
   "source": [
    "stopifnot(length(deg_gene_sets[[\"gene_set_increase\"]]) == 175)"
   ]
  },
  {
   "cell_type": "code",
   "execution_count": 16,
   "metadata": {
    "execution": {
     "iopub.execute_input": "2021-05-21T13:42:26.520174Z",
     "iopub.status.busy": "2021-05-21T13:42:26.519259Z",
     "iopub.status.idle": "2021-05-21T13:42:26.529471Z",
     "shell.execute_reply": "2021-05-21T13:42:26.528556Z"
    },
    "papermill": {
     "duration": 0.032301,
     "end_time": "2021-05-21T13:42:26.529561",
     "exception": false,
     "start_time": "2021-05-21T13:42:26.497260",
     "status": "completed"
    },
    "tags": []
   },
   "outputs": [
    {
     "data": {
      "text/html": [
       "96"
      ],
      "text/latex": [
       "96"
      ],
      "text/markdown": [
       "96"
      ],
      "text/plain": [
       "[1] 96"
      ]
     },
     "metadata": {},
     "output_type": "display_data"
    }
   ],
   "source": [
    "length(deg_gene_sets[[\"gene_set_decrease\"]])"
   ]
  },
  {
   "cell_type": "code",
   "execution_count": 17,
   "metadata": {
    "execution": {
     "iopub.execute_input": "2021-05-21T13:42:26.571280Z",
     "iopub.status.busy": "2021-05-21T13:42:26.570282Z",
     "iopub.status.idle": "2021-05-21T13:42:26.578774Z",
     "shell.execute_reply": "2021-05-21T13:42:26.577962Z"
    },
    "papermill": {
     "duration": 0.029641,
     "end_time": "2021-05-21T13:42:26.578870",
     "exception": false,
     "start_time": "2021-05-21T13:42:26.549229",
     "status": "completed"
    },
    "tags": []
   },
   "outputs": [],
   "source": [
    "stopifnot(length(deg_gene_sets[[\"gene_set_decrease\"]]) == 96)"
   ]
  },
  {
   "cell_type": "code",
   "execution_count": 18,
   "metadata": {
    "execution": {
     "iopub.execute_input": "2021-05-21T13:42:26.621976Z",
     "iopub.status.busy": "2021-05-21T13:42:26.621076Z",
     "iopub.status.idle": "2021-05-21T13:42:26.633062Z",
     "shell.execute_reply": "2021-05-21T13:42:26.632317Z"
    },
    "papermill": {
     "duration": 0.033953,
     "end_time": "2021-05-21T13:42:26.633146",
     "exception": false,
     "start_time": "2021-05-21T13:42:26.599193",
     "status": "completed"
    },
    "tags": []
   },
   "outputs": [],
   "source": [
    "# test new increase set\n",
    "new_set <- deg_gene_sets[[\"gene_set_increase\"]]\n",
    "expected_set <- union(\n",
    "    orig_deg_gene_sets[[\"gene_set_2\"]],\n",
    "    orig_deg_gene_sets[[\"gene_set_3\"]]\n",
    ")\n",
    "\n",
    "stopifnot(length(new_set) == length(unique(new_set)))\n",
    "\n",
    "stopifnot(\n",
    "    length(new_set) == \n",
    "    length(\n",
    "        intersect(\n",
    "            new_set,\n",
    "            expected_set\n",
    "        )\n",
    "    )\n",
    ")"
   ]
  },
  {
   "cell_type": "code",
   "execution_count": 19,
   "metadata": {
    "execution": {
     "iopub.execute_input": "2021-05-21T13:42:26.674156Z",
     "iopub.status.busy": "2021-05-21T13:42:26.673292Z",
     "iopub.status.idle": "2021-05-21T13:42:26.685029Z",
     "shell.execute_reply": "2021-05-21T13:42:26.684376Z"
    },
    "papermill": {
     "duration": 0.032805,
     "end_time": "2021-05-21T13:42:26.685113",
     "exception": false,
     "start_time": "2021-05-21T13:42:26.652308",
     "status": "completed"
    },
    "tags": []
   },
   "outputs": [],
   "source": [
    "# test new decrease set\n",
    "new_set <- deg_gene_sets[[\"gene_set_decrease\"]]\n",
    "expected_set <- union(\n",
    "    orig_deg_gene_sets[[\"gene_set_-2\"]],\n",
    "    orig_deg_gene_sets[[\"gene_set_-3\"]]\n",
    ")\n",
    "\n",
    "stopifnot(length(new_set) == length(unique(new_set)))\n",
    "\n",
    "stopifnot(\n",
    "    length(new_set) == \n",
    "    length(\n",
    "        intersect(\n",
    "            new_set,\n",
    "            expected_set\n",
    "        )\n",
    "    )\n",
    ")"
   ]
  },
  {
   "cell_type": "markdown",
   "metadata": {
    "papermill": {
     "duration": 0.018823,
     "end_time": "2021-05-21T13:42:26.723490",
     "exception": false,
     "start_time": "2021-05-21T13:42:26.704667",
     "status": "completed"
    },
    "tags": []
   },
   "source": [
    "## MultiPLIER Z"
   ]
  },
  {
   "cell_type": "code",
   "execution_count": 20,
   "metadata": {
    "execution": {
     "iopub.execute_input": "2021-05-21T13:42:26.763879Z",
     "iopub.status.busy": "2021-05-21T13:42:26.763040Z",
     "iopub.status.idle": "2021-05-21T13:42:27.104823Z",
     "shell.execute_reply": "2021-05-21T13:42:27.103981Z"
    },
    "papermill": {
     "duration": 0.362744,
     "end_time": "2021-05-21T13:42:27.104924",
     "exception": false,
     "start_time": "2021-05-21T13:42:26.742180",
     "status": "completed"
    },
    "tags": []
   },
   "outputs": [],
   "source": [
    "multiplier_z = pd$read_pickle(\n",
    "    Sys.getenv(\"PHENOPLIER_MULTIPLIER_MODEL_Z_MATRIX_FILE\")\n",
    ")"
   ]
  },
  {
   "cell_type": "code",
   "execution_count": 21,
   "metadata": {
    "execution": {
     "iopub.execute_input": "2021-05-21T13:42:27.148011Z",
     "iopub.status.busy": "2021-05-21T13:42:27.147193Z",
     "iopub.status.idle": "2021-05-21T13:42:27.156092Z",
     "shell.execute_reply": "2021-05-21T13:42:27.155317Z"
    },
    "papermill": {
     "duration": 0.029948,
     "end_time": "2021-05-21T13:42:27.156175",
     "exception": false,
     "start_time": "2021-05-21T13:42:27.126227",
     "status": "completed"
    },
    "tags": []
   },
   "outputs": [
    {
     "data": {
      "text/html": [
       "<style>\n",
       ".list-inline {list-style: none; margin:0; padding: 0}\n",
       ".list-inline>li {display: inline-block}\n",
       ".list-inline>li:not(:last-child)::after {content: \"\\00b7\"; padding: 0 .5ex}\n",
       "</style>\n",
       "<ol class=list-inline><li>6750</li><li>987</li></ol>\n"
      ],
      "text/latex": [
       "\\begin{enumerate*}\n",
       "\\item 6750\n",
       "\\item 987\n",
       "\\end{enumerate*}\n"
      ],
      "text/markdown": [
       "1. 6750\n",
       "2. 987\n",
       "\n",
       "\n"
      ],
      "text/plain": [
       "[1] 6750  987"
      ]
     },
     "metadata": {},
     "output_type": "display_data"
    }
   ],
   "source": [
    "dim(multiplier_z)"
   ]
  },
  {
   "cell_type": "code",
   "execution_count": 22,
   "metadata": {
    "execution": {
     "iopub.execute_input": "2021-05-21T13:42:27.197819Z",
     "iopub.status.busy": "2021-05-21T13:42:27.197008Z",
     "iopub.status.idle": "2021-05-21T13:42:27.275913Z",
     "shell.execute_reply": "2021-05-21T13:42:27.275038Z"
    },
    "papermill": {
     "duration": 0.100211,
     "end_time": "2021-05-21T13:42:27.275996",
     "exception": false,
     "start_time": "2021-05-21T13:42:27.175785",
     "status": "completed"
    },
    "tags": []
   },
   "outputs": [
    {
     "data": {
      "text/html": [
       "<table class=\"dataframe\">\n",
       "<caption>A data.frame: 6 × 987</caption>\n",
       "<thead>\n",
       "\t<tr><th></th><th scope=col>LV1</th><th scope=col>LV2</th><th scope=col>LV3</th><th scope=col>LV4</th><th scope=col>LV5</th><th scope=col>LV6</th><th scope=col>LV7</th><th scope=col>LV8</th><th scope=col>LV9</th><th scope=col>LV10</th><th scope=col>⋯</th><th scope=col>LV978</th><th scope=col>LV979</th><th scope=col>LV980</th><th scope=col>LV981</th><th scope=col>LV982</th><th scope=col>LV983</th><th scope=col>LV984</th><th scope=col>LV985</th><th scope=col>LV986</th><th scope=col>LV987</th></tr>\n",
       "\t<tr><th></th><th scope=col>&lt;dbl&gt;</th><th scope=col>&lt;dbl&gt;</th><th scope=col>&lt;dbl&gt;</th><th scope=col>&lt;dbl&gt;</th><th scope=col>&lt;dbl&gt;</th><th scope=col>&lt;dbl&gt;</th><th scope=col>&lt;dbl&gt;</th><th scope=col>&lt;dbl&gt;</th><th scope=col>&lt;dbl&gt;</th><th scope=col>&lt;dbl&gt;</th><th scope=col>⋯</th><th scope=col>&lt;dbl&gt;</th><th scope=col>&lt;dbl&gt;</th><th scope=col>&lt;dbl&gt;</th><th scope=col>&lt;dbl&gt;</th><th scope=col>&lt;dbl&gt;</th><th scope=col>&lt;dbl&gt;</th><th scope=col>&lt;dbl&gt;</th><th scope=col>&lt;dbl&gt;</th><th scope=col>&lt;dbl&gt;</th><th scope=col>&lt;dbl&gt;</th></tr>\n",
       "</thead>\n",
       "<tbody>\n",
       "\t<tr><th scope=row>GAS6</th><td>0.0000000</td><td>0</td><td>0.03943774</td><td>0</td><td>0.05047625</td><td>0.00000000</td><td>0.0000000</td><td>0.000000000</td><td>0.5909494</td><td>0.00000000</td><td>⋯</td><td>0.05012510</td><td>0.00000000</td><td>0.033407371</td><td>0.00000000</td><td>0.00000000</td><td>0.0059633917</td><td>0.34736209</td><td>0</td><td>0.00000000</td><td>0.00000000</td></tr>\n",
       "\t<tr><th scope=row>MMP14</th><td>0.0000000</td><td>0</td><td>0.00000000</td><td>0</td><td>0.07007159</td><td>0.00000000</td><td>0.0000000</td><td>0.004904131</td><td>1.7201788</td><td>2.42359463</td><td>⋯</td><td>0.00000000</td><td>0.00000000</td><td>0.001007286</td><td>0.00000000</td><td>0.03574724</td><td>0.0000000000</td><td>0.00000000</td><td>0</td><td>0.01497801</td><td>0.00000000</td></tr>\n",
       "\t<tr><th scope=row>DSP</th><td>0.0000000</td><td>0</td><td>0.00000000</td><td>0</td><td>0.00000000</td><td>0.04169683</td><td>0.0000000</td><td>0.005718149</td><td>0.0000000</td><td>0.00000000</td><td>⋯</td><td>0.02085321</td><td>0.00000000</td><td>0.000000000</td><td>0.00000000</td><td>0.00000000</td><td>0.0057744399</td><td>0.00000000</td><td>0</td><td>0.00000000</td><td>0.41640455</td></tr>\n",
       "\t<tr><th scope=row>MARCKSL1</th><td>0.3052117</td><td>0</td><td>0.00000000</td><td>0</td><td>0.00000000</td><td>0.00000000</td><td>0.0000000</td><td>0.000000000</td><td>0.1618435</td><td>0.14947148</td><td>⋯</td><td>0.02713418</td><td>0.05271997</td><td>0.000000000</td><td>0.03018947</td><td>0.06088351</td><td>0.0000000000</td><td>0.00000000</td><td>0</td><td>0.00000000</td><td>0.44847996</td></tr>\n",
       "\t<tr><th scope=row>SPARC</th><td>0.0000000</td><td>0</td><td>0.00000000</td><td>0</td><td>0.00000000</td><td>0.00000000</td><td>0.0000000</td><td>0.000000000</td><td>0.0000000</td><td>0.01401441</td><td>⋯</td><td>0.00000000</td><td>0.00000000</td><td>0.000000000</td><td>0.00000000</td><td>0.00000000</td><td>0.0000000000</td><td>0.06777859</td><td>0</td><td>0.12241734</td><td>0.06266490</td></tr>\n",
       "\t<tr><th scope=row>CTSD</th><td>0.2778532</td><td>0</td><td>0.06459781</td><td>0</td><td>0.00000000</td><td>0.00000000</td><td>0.4694809</td><td>0.099949232</td><td>0.9717295</td><td>0.43334911</td><td>⋯</td><td>0.00000000</td><td>0.01907577</td><td>0.008904815</td><td>0.00000000</td><td>0.00000000</td><td>0.0007222884</td><td>0.00000000</td><td>0</td><td>0.00000000</td><td>0.06193245</td></tr>\n",
       "</tbody>\n",
       "</table>\n"
      ],
      "text/latex": [
       "A data.frame: 6 × 987\n",
       "\\begin{tabular}{r|lllllllllllllllllllll}\n",
       "  & LV1 & LV2 & LV3 & LV4 & LV5 & LV6 & LV7 & LV8 & LV9 & LV10 & ⋯ & LV978 & LV979 & LV980 & LV981 & LV982 & LV983 & LV984 & LV985 & LV986 & LV987\\\\\n",
       "  & <dbl> & <dbl> & <dbl> & <dbl> & <dbl> & <dbl> & <dbl> & <dbl> & <dbl> & <dbl> & ⋯ & <dbl> & <dbl> & <dbl> & <dbl> & <dbl> & <dbl> & <dbl> & <dbl> & <dbl> & <dbl>\\\\\n",
       "\\hline\n",
       "\tGAS6 & 0.0000000 & 0 & 0.03943774 & 0 & 0.05047625 & 0.00000000 & 0.0000000 & 0.000000000 & 0.5909494 & 0.00000000 & ⋯ & 0.05012510 & 0.00000000 & 0.033407371 & 0.00000000 & 0.00000000 & 0.0059633917 & 0.34736209 & 0 & 0.00000000 & 0.00000000\\\\\n",
       "\tMMP14 & 0.0000000 & 0 & 0.00000000 & 0 & 0.07007159 & 0.00000000 & 0.0000000 & 0.004904131 & 1.7201788 & 2.42359463 & ⋯ & 0.00000000 & 0.00000000 & 0.001007286 & 0.00000000 & 0.03574724 & 0.0000000000 & 0.00000000 & 0 & 0.01497801 & 0.00000000\\\\\n",
       "\tDSP & 0.0000000 & 0 & 0.00000000 & 0 & 0.00000000 & 0.04169683 & 0.0000000 & 0.005718149 & 0.0000000 & 0.00000000 & ⋯ & 0.02085321 & 0.00000000 & 0.000000000 & 0.00000000 & 0.00000000 & 0.0057744399 & 0.00000000 & 0 & 0.00000000 & 0.41640455\\\\\n",
       "\tMARCKSL1 & 0.3052117 & 0 & 0.00000000 & 0 & 0.00000000 & 0.00000000 & 0.0000000 & 0.000000000 & 0.1618435 & 0.14947148 & ⋯ & 0.02713418 & 0.05271997 & 0.000000000 & 0.03018947 & 0.06088351 & 0.0000000000 & 0.00000000 & 0 & 0.00000000 & 0.44847996\\\\\n",
       "\tSPARC & 0.0000000 & 0 & 0.00000000 & 0 & 0.00000000 & 0.00000000 & 0.0000000 & 0.000000000 & 0.0000000 & 0.01401441 & ⋯ & 0.00000000 & 0.00000000 & 0.000000000 & 0.00000000 & 0.00000000 & 0.0000000000 & 0.06777859 & 0 & 0.12241734 & 0.06266490\\\\\n",
       "\tCTSD & 0.2778532 & 0 & 0.06459781 & 0 & 0.00000000 & 0.00000000 & 0.4694809 & 0.099949232 & 0.9717295 & 0.43334911 & ⋯ & 0.00000000 & 0.01907577 & 0.008904815 & 0.00000000 & 0.00000000 & 0.0007222884 & 0.00000000 & 0 & 0.00000000 & 0.06193245\\\\\n",
       "\\end{tabular}\n"
      ],
      "text/markdown": [
       "\n",
       "A data.frame: 6 × 987\n",
       "\n",
       "| <!--/--> | LV1 &lt;dbl&gt; | LV2 &lt;dbl&gt; | LV3 &lt;dbl&gt; | LV4 &lt;dbl&gt; | LV5 &lt;dbl&gt; | LV6 &lt;dbl&gt; | LV7 &lt;dbl&gt; | LV8 &lt;dbl&gt; | LV9 &lt;dbl&gt; | LV10 &lt;dbl&gt; | ⋯ ⋯ | LV978 &lt;dbl&gt; | LV979 &lt;dbl&gt; | LV980 &lt;dbl&gt; | LV981 &lt;dbl&gt; | LV982 &lt;dbl&gt; | LV983 &lt;dbl&gt; | LV984 &lt;dbl&gt; | LV985 &lt;dbl&gt; | LV986 &lt;dbl&gt; | LV987 &lt;dbl&gt; |\n",
       "|---|---|---|---|---|---|---|---|---|---|---|---|---|---|---|---|---|---|---|---|---|---|\n",
       "| GAS6 | 0.0000000 | 0 | 0.03943774 | 0 | 0.05047625 | 0.00000000 | 0.0000000 | 0.000000000 | 0.5909494 | 0.00000000 | ⋯ | 0.05012510 | 0.00000000 | 0.033407371 | 0.00000000 | 0.00000000 | 0.0059633917 | 0.34736209 | 0 | 0.00000000 | 0.00000000 |\n",
       "| MMP14 | 0.0000000 | 0 | 0.00000000 | 0 | 0.07007159 | 0.00000000 | 0.0000000 | 0.004904131 | 1.7201788 | 2.42359463 | ⋯ | 0.00000000 | 0.00000000 | 0.001007286 | 0.00000000 | 0.03574724 | 0.0000000000 | 0.00000000 | 0 | 0.01497801 | 0.00000000 |\n",
       "| DSP | 0.0000000 | 0 | 0.00000000 | 0 | 0.00000000 | 0.04169683 | 0.0000000 | 0.005718149 | 0.0000000 | 0.00000000 | ⋯ | 0.02085321 | 0.00000000 | 0.000000000 | 0.00000000 | 0.00000000 | 0.0057744399 | 0.00000000 | 0 | 0.00000000 | 0.41640455 |\n",
       "| MARCKSL1 | 0.3052117 | 0 | 0.00000000 | 0 | 0.00000000 | 0.00000000 | 0.0000000 | 0.000000000 | 0.1618435 | 0.14947148 | ⋯ | 0.02713418 | 0.05271997 | 0.000000000 | 0.03018947 | 0.06088351 | 0.0000000000 | 0.00000000 | 0 | 0.00000000 | 0.44847996 |\n",
       "| SPARC | 0.0000000 | 0 | 0.00000000 | 0 | 0.00000000 | 0.00000000 | 0.0000000 | 0.000000000 | 0.0000000 | 0.01401441 | ⋯ | 0.00000000 | 0.00000000 | 0.000000000 | 0.00000000 | 0.00000000 | 0.0000000000 | 0.06777859 | 0 | 0.12241734 | 0.06266490 |\n",
       "| CTSD | 0.2778532 | 0 | 0.06459781 | 0 | 0.00000000 | 0.00000000 | 0.4694809 | 0.099949232 | 0.9717295 | 0.43334911 | ⋯ | 0.00000000 | 0.01907577 | 0.008904815 | 0.00000000 | 0.00000000 | 0.0007222884 | 0.00000000 | 0 | 0.00000000 | 0.06193245 |\n",
       "\n"
      ],
      "text/plain": [
       "         LV1       LV2 LV3        LV4 LV5        LV6        LV7      \n",
       "GAS6     0.0000000 0   0.03943774 0   0.05047625 0.00000000 0.0000000\n",
       "MMP14    0.0000000 0   0.00000000 0   0.07007159 0.00000000 0.0000000\n",
       "DSP      0.0000000 0   0.00000000 0   0.00000000 0.04169683 0.0000000\n",
       "MARCKSL1 0.3052117 0   0.00000000 0   0.00000000 0.00000000 0.0000000\n",
       "SPARC    0.0000000 0   0.00000000 0   0.00000000 0.00000000 0.0000000\n",
       "CTSD     0.2778532 0   0.06459781 0   0.00000000 0.00000000 0.4694809\n",
       "         LV8         LV9       LV10       ⋯ LV978      LV979      LV980      \n",
       "GAS6     0.000000000 0.5909494 0.00000000 ⋯ 0.05012510 0.00000000 0.033407371\n",
       "MMP14    0.004904131 1.7201788 2.42359463 ⋯ 0.00000000 0.00000000 0.001007286\n",
       "DSP      0.005718149 0.0000000 0.00000000 ⋯ 0.02085321 0.00000000 0.000000000\n",
       "MARCKSL1 0.000000000 0.1618435 0.14947148 ⋯ 0.02713418 0.05271997 0.000000000\n",
       "SPARC    0.000000000 0.0000000 0.01401441 ⋯ 0.00000000 0.00000000 0.000000000\n",
       "CTSD     0.099949232 0.9717295 0.43334911 ⋯ 0.00000000 0.01907577 0.008904815\n",
       "         LV981      LV982      LV983        LV984      LV985 LV986     \n",
       "GAS6     0.00000000 0.00000000 0.0059633917 0.34736209 0     0.00000000\n",
       "MMP14    0.00000000 0.03574724 0.0000000000 0.00000000 0     0.01497801\n",
       "DSP      0.00000000 0.00000000 0.0057744399 0.00000000 0     0.00000000\n",
       "MARCKSL1 0.03018947 0.06088351 0.0000000000 0.00000000 0     0.00000000\n",
       "SPARC    0.00000000 0.00000000 0.0000000000 0.06777859 0     0.12241734\n",
       "CTSD     0.00000000 0.00000000 0.0007222884 0.00000000 0     0.00000000\n",
       "         LV987     \n",
       "GAS6     0.00000000\n",
       "MMP14    0.00000000\n",
       "DSP      0.41640455\n",
       "MARCKSL1 0.44847996\n",
       "SPARC    0.06266490\n",
       "CTSD     0.06193245"
      ]
     },
     "metadata": {},
     "output_type": "display_data"
    }
   ],
   "source": [
    "head(multiplier_z)"
   ]
  },
  {
   "cell_type": "markdown",
   "metadata": {
    "papermill": {
     "duration": 0.020081,
     "end_time": "2021-05-21T13:42:27.316345",
     "exception": false,
     "start_time": "2021-05-21T13:42:27.296264",
     "status": "completed"
    },
    "tags": []
   },
   "source": [
    "# Prepare LVs list"
   ]
  },
  {
   "cell_type": "code",
   "execution_count": 23,
   "metadata": {
    "execution": {
     "iopub.execute_input": "2021-05-21T13:42:27.358818Z",
     "iopub.status.busy": "2021-05-21T13:42:27.357953Z",
     "iopub.status.idle": "2021-05-21T13:42:27.806860Z",
     "shell.execute_reply": "2021-05-21T13:42:27.806088Z"
    },
    "papermill": {
     "duration": 0.471028,
     "end_time": "2021-05-21T13:42:27.806959",
     "exception": false,
     "start_time": "2021-05-21T13:42:27.335931",
     "status": "completed"
    },
    "tags": []
   },
   "outputs": [],
   "source": [
    "lvs = list()\n",
    "z_gene_names <- rownames(multiplier_z)\n",
    "\n",
    "for (cidx in 1:ncol(multiplier_z)) {\n",
    "    data <- multiplier_z[, cidx]\n",
    "    names(data) <- z_gene_names\n",
    "    # q <- quantile(data, 0.75, names=FALSE)\n",
    "    q <- 0.0\n",
    "    \n",
    "    lvs[[paste0(\"LV\", cidx)]] <- data[data > q]\n",
    "}"
   ]
  },
  {
   "cell_type": "code",
   "execution_count": 24,
   "metadata": {
    "execution": {
     "iopub.execute_input": "2021-05-21T13:42:27.851373Z",
     "iopub.status.busy": "2021-05-21T13:42:27.850586Z",
     "iopub.status.idle": "2021-05-21T13:42:27.860488Z",
     "shell.execute_reply": "2021-05-21T13:42:27.859716Z"
    },
    "papermill": {
     "duration": 0.031526,
     "end_time": "2021-05-21T13:42:27.860568",
     "exception": false,
     "start_time": "2021-05-21T13:42:27.829042",
     "status": "completed"
    },
    "tags": []
   },
   "outputs": [
    {
     "data": {
      "text/html": [
       "987"
      ],
      "text/latex": [
       "987"
      ],
      "text/markdown": [
       "987"
      ],
      "text/plain": [
       "[1] 987"
      ]
     },
     "metadata": {},
     "output_type": "display_data"
    }
   ],
   "source": [
    "display(length(lvs))\n",
    "stopifnot(length(lvs) == 987)"
   ]
  },
  {
   "cell_type": "markdown",
   "metadata": {
    "papermill": {
     "duration": 0.020271,
     "end_time": "2021-05-21T13:42:27.901156",
     "exception": false,
     "start_time": "2021-05-21T13:42:27.880885",
     "status": "completed"
    },
    "tags": []
   },
   "source": [
    "# Compute enrichment on all LVs"
   ]
  },
  {
   "cell_type": "code",
   "execution_count": 25,
   "metadata": {
    "execution": {
     "iopub.execute_input": "2021-05-21T13:42:27.944362Z",
     "iopub.status.busy": "2021-05-21T13:42:27.943569Z",
     "iopub.status.idle": "2021-05-21T13:42:27.950705Z",
     "shell.execute_reply": "2021-05-21T13:42:27.949979Z"
    },
    "papermill": {
     "duration": 0.029346,
     "end_time": "2021-05-21T13:42:27.950789",
     "exception": false,
     "start_time": "2021-05-21T13:42:27.921443",
     "status": "completed"
    },
    "tags": []
   },
   "outputs": [],
   "source": [
    "n_reps = 10"
   ]
  },
  {
   "cell_type": "code",
   "execution_count": 26,
   "metadata": {
    "execution": {
     "iopub.execute_input": "2021-05-21T13:42:27.994692Z",
     "iopub.status.busy": "2021-05-21T13:42:27.993866Z",
     "iopub.status.idle": "2021-05-21T13:42:28.001194Z",
     "shell.execute_reply": "2021-05-21T13:42:28.000480Z"
    },
    "papermill": {
     "duration": 0.029868,
     "end_time": "2021-05-21T13:42:28.001277",
     "exception": false,
     "start_time": "2021-05-21T13:42:27.971409",
     "status": "completed"
    },
    "tags": []
   },
   "outputs": [],
   "source": [
    "set.seed(0)"
   ]
  },
  {
   "cell_type": "code",
   "execution_count": 27,
   "metadata": {
    "execution": {
     "iopub.execute_input": "2021-05-21T13:42:28.044645Z",
     "iopub.status.busy": "2021-05-21T13:42:28.043830Z",
     "iopub.status.idle": "2021-05-21T13:46:05.179074Z",
     "shell.execute_reply": "2021-05-21T13:46:05.178359Z"
    },
    "papermill": {
     "duration": 217.15747,
     "end_time": "2021-05-21T13:46:05.179162",
     "exception": false,
     "start_time": "2021-05-21T13:42:28.021692",
     "status": "completed"
    },
    "tags": []
   },
   "outputs": [],
   "source": [
    "results = list()\n",
    "\n",
    "for (lv in names(lvs)) {\n",
    "    repetitions = list()\n",
    "    \n",
    "    for (i in 1:n_reps) {\n",
    "        rep_res <- fgsea(pathways = deg_gene_sets, stats = lvs[[lv]], scoreType = \"pos\", eps = 0.0)[order(pval), ]\n",
    "        rep_res[, \"lv\"] <- lv\n",
    "        rep_res[, \"rep_idx\"] <- i\n",
    "        \n",
    "        repetitions[[i]] <- rep_res\n",
    "    }\n",
    "    \n",
    "    res <- do.call(rbind, repetitions)\n",
    "\n",
    "    results[[lv]] <- res\n",
    "}"
   ]
  },
  {
   "cell_type": "code",
   "execution_count": 28,
   "metadata": {
    "execution": {
     "iopub.execute_input": "2021-05-21T13:46:05.225988Z",
     "iopub.status.busy": "2021-05-21T13:46:05.225080Z",
     "iopub.status.idle": "2021-05-21T13:46:05.234582Z",
     "shell.execute_reply": "2021-05-21T13:46:05.233779Z"
    },
    "papermill": {
     "duration": 0.032108,
     "end_time": "2021-05-21T13:46:05.234667",
     "exception": false,
     "start_time": "2021-05-21T13:46:05.202559",
     "status": "completed"
    },
    "tags": []
   },
   "outputs": [
    {
     "data": {
      "text/html": [
       "987"
      ],
      "text/latex": [
       "987"
      ],
      "text/markdown": [
       "987"
      ],
      "text/plain": [
       "[1] 987"
      ]
     },
     "metadata": {},
     "output_type": "display_data"
    }
   ],
   "source": [
    "length(results)"
   ]
  },
  {
   "cell_type": "code",
   "execution_count": 29,
   "metadata": {
    "execution": {
     "iopub.execute_input": "2021-05-21T13:46:05.281427Z",
     "iopub.status.busy": "2021-05-21T13:46:05.280467Z",
     "iopub.status.idle": "2021-05-21T13:46:05.294410Z",
     "shell.execute_reply": "2021-05-21T13:46:05.293671Z"
    },
    "papermill": {
     "duration": 0.037523,
     "end_time": "2021-05-21T13:46:05.294500",
     "exception": false,
     "start_time": "2021-05-21T13:46:05.256977",
     "status": "completed"
    },
    "tags": []
   },
   "outputs": [],
   "source": [
    "df <- do.call(rbind, results)"
   ]
  },
  {
   "cell_type": "code",
   "execution_count": 30,
   "metadata": {
    "execution": {
     "iopub.execute_input": "2021-05-21T13:46:05.343601Z",
     "iopub.status.busy": "2021-05-21T13:46:05.342669Z",
     "iopub.status.idle": "2021-05-21T13:46:05.483617Z",
     "shell.execute_reply": "2021-05-21T13:46:05.482889Z"
    },
    "papermill": {
     "duration": 0.166321,
     "end_time": "2021-05-21T13:46:05.483707",
     "exception": false,
     "start_time": "2021-05-21T13:46:05.317386",
     "status": "completed"
    },
    "tags": []
   },
   "outputs": [],
   "source": [
    "df <- df %>% mutate(leadingEdge = map_chr(leadingEdge, toString))"
   ]
  },
  {
   "cell_type": "code",
   "execution_count": 31,
   "metadata": {
    "execution": {
     "iopub.execute_input": "2021-05-21T13:46:05.530223Z",
     "iopub.status.busy": "2021-05-21T13:46:05.529396Z",
     "iopub.status.idle": "2021-05-21T13:46:05.538516Z",
     "shell.execute_reply": "2021-05-21T13:46:05.537739Z"
    },
    "papermill": {
     "duration": 0.032897,
     "end_time": "2021-05-21T13:46:05.538600",
     "exception": false,
     "start_time": "2021-05-21T13:46:05.505703",
     "status": "completed"
    },
    "tags": []
   },
   "outputs": [
    {
     "data": {
      "text/html": [
       "<style>\n",
       ".list-inline {list-style: none; margin:0; padding: 0}\n",
       ".list-inline>li {display: inline-block}\n",
       ".list-inline>li:not(:last-child)::after {content: \"\\00b7\"; padding: 0 .5ex}\n",
       "</style>\n",
       "<ol class=list-inline><li>19730</li><li>10</li></ol>\n"
      ],
      "text/latex": [
       "\\begin{enumerate*}\n",
       "\\item 19730\n",
       "\\item 10\n",
       "\\end{enumerate*}\n"
      ],
      "text/markdown": [
       "1. 19730\n",
       "2. 10\n",
       "\n",
       "\n"
      ],
      "text/plain": [
       "[1] 19730    10"
      ]
     },
     "metadata": {},
     "output_type": "display_data"
    }
   ],
   "source": [
    "dim(df)"
   ]
  },
  {
   "cell_type": "code",
   "execution_count": 32,
   "metadata": {
    "execution": {
     "iopub.execute_input": "2021-05-21T13:46:05.584306Z",
     "iopub.status.busy": "2021-05-21T13:46:05.583477Z",
     "iopub.status.idle": "2021-05-21T13:46:05.599535Z",
     "shell.execute_reply": "2021-05-21T13:46:05.598745Z"
    },
    "papermill": {
     "duration": 0.039331,
     "end_time": "2021-05-21T13:46:05.599619",
     "exception": false,
     "start_time": "2021-05-21T13:46:05.560288",
     "status": "completed"
    },
    "tags": []
   },
   "outputs": [
    {
     "data": {
      "text/html": [
       "<table class=\"dataframe\">\n",
       "<caption>A data.table: 6 × 10</caption>\n",
       "<thead>\n",
       "\t<tr><th scope=col>pathway</th><th scope=col>pval</th><th scope=col>padj</th><th scope=col>log2err</th><th scope=col>ES</th><th scope=col>NES</th><th scope=col>size</th><th scope=col>leadingEdge</th><th scope=col>lv</th><th scope=col>rep_idx</th></tr>\n",
       "\t<tr><th scope=col>&lt;chr&gt;</th><th scope=col>&lt;dbl&gt;</th><th scope=col>&lt;dbl&gt;</th><th scope=col>&lt;dbl&gt;</th><th scope=col>&lt;dbl&gt;</th><th scope=col>&lt;dbl&gt;</th><th scope=col>&lt;int&gt;</th><th scope=col>&lt;chr&gt;</th><th scope=col>&lt;chr&gt;</th><th scope=col>&lt;int&gt;</th></tr>\n",
       "</thead>\n",
       "<tbody>\n",
       "\t<tr><td>gene_set_decrease</td><td>0.1848152</td><td>0.2357642</td><td>0.09592068</td><td>0.5784179</td><td>1.126666</td><td>35</td><td>PTBP1, KEAP1, PEX14, DLST, PCYT2, MAD2L2, GLRX5, OGDH, UBE2J2, CSK                                                                                         </td><td>LV1</td><td>1</td></tr>\n",
       "\t<tr><td>gene_set_increase</td><td>0.2357642</td><td>0.2357642</td><td>0.08220549</td><td>0.5391549</td><td>1.076511</td><td>63</td><td>CHERP, RANGAP1, HNRNPL, RPS2, E4F1, TAF1C, GATAD2A, SAFB, TAF6, FBL, LSM4, SUPT5H, CHD4, PFDN6, SLC35B2, USP39, POLR3E, POLR2C, RPLP0, SREBF2, ACACA, RPL18</td><td>LV1</td><td>1</td></tr>\n",
       "\t<tr><td>gene_set_decrease</td><td>0.1988012</td><td>0.2517483</td><td>0.09167952</td><td>0.5784179</td><td>1.123767</td><td>35</td><td>PTBP1, KEAP1, PEX14, DLST, PCYT2, MAD2L2, GLRX5, OGDH, UBE2J2, CSK                                                                                         </td><td>LV1</td><td>2</td></tr>\n",
       "\t<tr><td>gene_set_increase</td><td>0.2517483</td><td>0.2517483</td><td>0.07871138</td><td>0.5391549</td><td>1.078565</td><td>63</td><td>CHERP, RANGAP1, HNRNPL, RPS2, E4F1, TAF1C, GATAD2A, SAFB, TAF6, FBL, LSM4, SUPT5H, CHD4, PFDN6, SLC35B2, USP39, POLR3E, POLR2C, RPLP0, SREBF2, ACACA, RPL18</td><td>LV1</td><td>2</td></tr>\n",
       "\t<tr><td>gene_set_decrease</td><td>0.1628372</td><td>0.2157842</td><td>0.10357633</td><td>0.5784179</td><td>1.137180</td><td>35</td><td>PTBP1, KEAP1, PEX14, DLST, PCYT2, MAD2L2, GLRX5, OGDH, UBE2J2, CSK                                                                                         </td><td>LV1</td><td>3</td></tr>\n",
       "\t<tr><td>gene_set_increase</td><td>0.2157842</td><td>0.2157842</td><td>0.08705159</td><td>0.5391549</td><td>1.087494</td><td>63</td><td>CHERP, RANGAP1, HNRNPL, RPS2, E4F1, TAF1C, GATAD2A, SAFB, TAF6, FBL, LSM4, SUPT5H, CHD4, PFDN6, SLC35B2, USP39, POLR3E, POLR2C, RPLP0, SREBF2, ACACA, RPL18</td><td>LV1</td><td>3</td></tr>\n",
       "</tbody>\n",
       "</table>\n"
      ],
      "text/latex": [
       "A data.table: 6 × 10\n",
       "\\begin{tabular}{llllllllll}\n",
       " pathway & pval & padj & log2err & ES & NES & size & leadingEdge & lv & rep\\_idx\\\\\n",
       " <chr> & <dbl> & <dbl> & <dbl> & <dbl> & <dbl> & <int> & <chr> & <chr> & <int>\\\\\n",
       "\\hline\n",
       "\t gene\\_set\\_decrease & 0.1848152 & 0.2357642 & 0.09592068 & 0.5784179 & 1.126666 & 35 & PTBP1, KEAP1, PEX14, DLST, PCYT2, MAD2L2, GLRX5, OGDH, UBE2J2, CSK                                                                                          & LV1 & 1\\\\\n",
       "\t gene\\_set\\_increase & 0.2357642 & 0.2357642 & 0.08220549 & 0.5391549 & 1.076511 & 63 & CHERP, RANGAP1, HNRNPL, RPS2, E4F1, TAF1C, GATAD2A, SAFB, TAF6, FBL, LSM4, SUPT5H, CHD4, PFDN6, SLC35B2, USP39, POLR3E, POLR2C, RPLP0, SREBF2, ACACA, RPL18 & LV1 & 1\\\\\n",
       "\t gene\\_set\\_decrease & 0.1988012 & 0.2517483 & 0.09167952 & 0.5784179 & 1.123767 & 35 & PTBP1, KEAP1, PEX14, DLST, PCYT2, MAD2L2, GLRX5, OGDH, UBE2J2, CSK                                                                                          & LV1 & 2\\\\\n",
       "\t gene\\_set\\_increase & 0.2517483 & 0.2517483 & 0.07871138 & 0.5391549 & 1.078565 & 63 & CHERP, RANGAP1, HNRNPL, RPS2, E4F1, TAF1C, GATAD2A, SAFB, TAF6, FBL, LSM4, SUPT5H, CHD4, PFDN6, SLC35B2, USP39, POLR3E, POLR2C, RPLP0, SREBF2, ACACA, RPL18 & LV1 & 2\\\\\n",
       "\t gene\\_set\\_decrease & 0.1628372 & 0.2157842 & 0.10357633 & 0.5784179 & 1.137180 & 35 & PTBP1, KEAP1, PEX14, DLST, PCYT2, MAD2L2, GLRX5, OGDH, UBE2J2, CSK                                                                                          & LV1 & 3\\\\\n",
       "\t gene\\_set\\_increase & 0.2157842 & 0.2157842 & 0.08705159 & 0.5391549 & 1.087494 & 63 & CHERP, RANGAP1, HNRNPL, RPS2, E4F1, TAF1C, GATAD2A, SAFB, TAF6, FBL, LSM4, SUPT5H, CHD4, PFDN6, SLC35B2, USP39, POLR3E, POLR2C, RPLP0, SREBF2, ACACA, RPL18 & LV1 & 3\\\\\n",
       "\\end{tabular}\n"
      ],
      "text/markdown": [
       "\n",
       "A data.table: 6 × 10\n",
       "\n",
       "| pathway &lt;chr&gt; | pval &lt;dbl&gt; | padj &lt;dbl&gt; | log2err &lt;dbl&gt; | ES &lt;dbl&gt; | NES &lt;dbl&gt; | size &lt;int&gt; | leadingEdge &lt;chr&gt; | lv &lt;chr&gt; | rep_idx &lt;int&gt; |\n",
       "|---|---|---|---|---|---|---|---|---|---|\n",
       "| gene_set_decrease | 0.1848152 | 0.2357642 | 0.09592068 | 0.5784179 | 1.126666 | 35 | PTBP1, KEAP1, PEX14, DLST, PCYT2, MAD2L2, GLRX5, OGDH, UBE2J2, CSK                                                                                          | LV1 | 1 |\n",
       "| gene_set_increase | 0.2357642 | 0.2357642 | 0.08220549 | 0.5391549 | 1.076511 | 63 | CHERP, RANGAP1, HNRNPL, RPS2, E4F1, TAF1C, GATAD2A, SAFB, TAF6, FBL, LSM4, SUPT5H, CHD4, PFDN6, SLC35B2, USP39, POLR3E, POLR2C, RPLP0, SREBF2, ACACA, RPL18 | LV1 | 1 |\n",
       "| gene_set_decrease | 0.1988012 | 0.2517483 | 0.09167952 | 0.5784179 | 1.123767 | 35 | PTBP1, KEAP1, PEX14, DLST, PCYT2, MAD2L2, GLRX5, OGDH, UBE2J2, CSK                                                                                          | LV1 | 2 |\n",
       "| gene_set_increase | 0.2517483 | 0.2517483 | 0.07871138 | 0.5391549 | 1.078565 | 63 | CHERP, RANGAP1, HNRNPL, RPS2, E4F1, TAF1C, GATAD2A, SAFB, TAF6, FBL, LSM4, SUPT5H, CHD4, PFDN6, SLC35B2, USP39, POLR3E, POLR2C, RPLP0, SREBF2, ACACA, RPL18 | LV1 | 2 |\n",
       "| gene_set_decrease | 0.1628372 | 0.2157842 | 0.10357633 | 0.5784179 | 1.137180 | 35 | PTBP1, KEAP1, PEX14, DLST, PCYT2, MAD2L2, GLRX5, OGDH, UBE2J2, CSK                                                                                          | LV1 | 3 |\n",
       "| gene_set_increase | 0.2157842 | 0.2157842 | 0.08705159 | 0.5391549 | 1.087494 | 63 | CHERP, RANGAP1, HNRNPL, RPS2, E4F1, TAF1C, GATAD2A, SAFB, TAF6, FBL, LSM4, SUPT5H, CHD4, PFDN6, SLC35B2, USP39, POLR3E, POLR2C, RPLP0, SREBF2, ACACA, RPL18 | LV1 | 3 |\n",
       "\n"
      ],
      "text/plain": [
       "  pathway           pval      padj      log2err    ES        NES      size\n",
       "1 gene_set_decrease 0.1848152 0.2357642 0.09592068 0.5784179 1.126666 35  \n",
       "2 gene_set_increase 0.2357642 0.2357642 0.08220549 0.5391549 1.076511 63  \n",
       "3 gene_set_decrease 0.1988012 0.2517483 0.09167952 0.5784179 1.123767 35  \n",
       "4 gene_set_increase 0.2517483 0.2517483 0.07871138 0.5391549 1.078565 63  \n",
       "5 gene_set_decrease 0.1628372 0.2157842 0.10357633 0.5784179 1.137180 35  \n",
       "6 gene_set_increase 0.2157842 0.2157842 0.08705159 0.5391549 1.087494 63  \n",
       "  leadingEdge                                                                                                                                                \n",
       "1 PTBP1, KEAP1, PEX14, DLST, PCYT2, MAD2L2, GLRX5, OGDH, UBE2J2, CSK                                                                                         \n",
       "2 CHERP, RANGAP1, HNRNPL, RPS2, E4F1, TAF1C, GATAD2A, SAFB, TAF6, FBL, LSM4, SUPT5H, CHD4, PFDN6, SLC35B2, USP39, POLR3E, POLR2C, RPLP0, SREBF2, ACACA, RPL18\n",
       "3 PTBP1, KEAP1, PEX14, DLST, PCYT2, MAD2L2, GLRX5, OGDH, UBE2J2, CSK                                                                                         \n",
       "4 CHERP, RANGAP1, HNRNPL, RPS2, E4F1, TAF1C, GATAD2A, SAFB, TAF6, FBL, LSM4, SUPT5H, CHD4, PFDN6, SLC35B2, USP39, POLR3E, POLR2C, RPLP0, SREBF2, ACACA, RPL18\n",
       "5 PTBP1, KEAP1, PEX14, DLST, PCYT2, MAD2L2, GLRX5, OGDH, UBE2J2, CSK                                                                                         \n",
       "6 CHERP, RANGAP1, HNRNPL, RPS2, E4F1, TAF1C, GATAD2A, SAFB, TAF6, FBL, LSM4, SUPT5H, CHD4, PFDN6, SLC35B2, USP39, POLR3E, POLR2C, RPLP0, SREBF2, ACACA, RPL18\n",
       "  lv  rep_idx\n",
       "1 LV1 1      \n",
       "2 LV1 1      \n",
       "3 LV1 2      \n",
       "4 LV1 2      \n",
       "5 LV1 3      \n",
       "6 LV1 3      "
      ]
     },
     "metadata": {},
     "output_type": "display_data"
    }
   ],
   "source": [
    "head(df)"
   ]
  },
  {
   "cell_type": "markdown",
   "metadata": {
    "papermill": {
     "duration": 0.022141,
     "end_time": "2021-05-21T13:46:05.644438",
     "exception": false,
     "start_time": "2021-05-21T13:46:05.622297",
     "status": "completed"
    },
    "tags": []
   },
   "source": [
    "## Save"
   ]
  },
  {
   "cell_type": "code",
   "execution_count": 33,
   "metadata": {
    "execution": {
     "iopub.execute_input": "2021-05-21T13:46:05.691392Z",
     "iopub.status.busy": "2021-05-21T13:46:05.690569Z",
     "iopub.status.idle": "2021-05-21T13:46:05.700866Z",
     "shell.execute_reply": "2021-05-21T13:46:05.699969Z"
    },
    "papermill": {
     "duration": 0.034274,
     "end_time": "2021-05-21T13:46:05.700948",
     "exception": false,
     "start_time": "2021-05-21T13:46:05.666674",
     "status": "completed"
    },
    "tags": []
   },
   "outputs": [
    {
     "data": {
      "text/html": [
       "'/home/miltondp/projects/labs/greenelab/phenoplier/base/results/crispr_analyses/fgsea-all_lvs.tsv'"
      ],
      "text/latex": [
       "'/home/miltondp/projects/labs/greenelab/phenoplier/base/results/crispr\\_analyses/fgsea-all\\_lvs.tsv'"
      ],
      "text/markdown": [
       "'/home/miltondp/projects/labs/greenelab/phenoplier/base/results/crispr_analyses/fgsea-all_lvs.tsv'"
      ],
      "text/plain": [
       "[1] \"/home/miltondp/projects/labs/greenelab/phenoplier/base/results/crispr_analyses/fgsea-all_lvs.tsv\""
      ]
     },
     "metadata": {},
     "output_type": "display_data"
    }
   ],
   "source": [
    "output_file <- file.path(OUTPUT_DIR, \"fgsea-all_lvs.tsv\")\n",
    "display(output_file)"
   ]
  },
  {
   "cell_type": "code",
   "execution_count": 34,
   "metadata": {
    "execution": {
     "iopub.execute_input": "2021-05-21T13:46:05.748195Z",
     "iopub.status.busy": "2021-05-21T13:46:05.747365Z",
     "iopub.status.idle": "2021-05-21T13:46:05.844309Z",
     "shell.execute_reply": "2021-05-21T13:46:05.843572Z"
    },
    "papermill": {
     "duration": 0.121104,
     "end_time": "2021-05-21T13:46:05.844394",
     "exception": false,
     "start_time": "2021-05-21T13:46:05.723290",
     "status": "completed"
    },
    "tags": []
   },
   "outputs": [],
   "source": [
    "write_tsv(df, output_file)"
   ]
  },
  {
   "cell_type": "markdown",
   "metadata": {
    "papermill": {
     "duration": 0.021615,
     "end_time": "2021-05-21T13:46:05.888132",
     "exception": false,
     "start_time": "2021-05-21T13:46:05.866517",
     "status": "completed"
    },
    "tags": []
   },
   "source": [
    "# Quick analyses/tests"
   ]
  },
  {
   "cell_type": "markdown",
   "metadata": {
    "papermill": {
     "duration": 0.022453,
     "end_time": "2021-05-21T13:46:05.932884",
     "exception": false,
     "start_time": "2021-05-21T13:46:05.910431",
     "status": "completed"
    },
    "tags": []
   },
   "source": [
    "## See how one LV looks like"
   ]
  },
  {
   "cell_type": "code",
   "execution_count": 35,
   "metadata": {
    "execution": {
     "iopub.execute_input": "2021-05-21T13:46:05.980086Z",
     "iopub.status.busy": "2021-05-21T13:46:05.979237Z",
     "iopub.status.idle": "2021-05-21T13:46:05.999661Z",
     "shell.execute_reply": "2021-05-21T13:46:05.998829Z"
    },
    "papermill": {
     "duration": 0.044652,
     "end_time": "2021-05-21T13:46:05.999746",
     "exception": false,
     "start_time": "2021-05-21T13:46:05.955094",
     "status": "completed"
    },
    "tags": []
   },
   "outputs": [
    {
     "data": {
      "text/html": [
       "<table class=\"dataframe\">\n",
       "<caption>A data.table: 10 × 10</caption>\n",
       "<thead>\n",
       "\t<tr><th scope=col>pathway</th><th scope=col>pval</th><th scope=col>padj</th><th scope=col>log2err</th><th scope=col>ES</th><th scope=col>NES</th><th scope=col>size</th><th scope=col>leadingEdge</th><th scope=col>lv</th><th scope=col>rep_idx</th></tr>\n",
       "\t<tr><th scope=col>&lt;chr&gt;</th><th scope=col>&lt;dbl&gt;</th><th scope=col>&lt;dbl&gt;</th><th scope=col>&lt;dbl&gt;</th><th scope=col>&lt;dbl&gt;</th><th scope=col>&lt;dbl&gt;</th><th scope=col>&lt;int&gt;</th><th scope=col>&lt;chr&gt;</th><th scope=col>&lt;chr&gt;</th><th scope=col>&lt;int&gt;</th></tr>\n",
       "</thead>\n",
       "<tbody>\n",
       "\t<tr><td>gene_set_increase</td><td>0.10489510</td><td>0.10489510</td><td>0.1335550</td><td>0.7069861</td><td>1.480363</td><td>40</td><td>PCBP1, IGF1R, UXT, SNRPD1, GTF2H1</td><td>LV100</td><td> 3</td></tr>\n",
       "\t<tr><td>gene_set_increase</td><td>0.10289710</td><td>0.10289710</td><td>0.1350020</td><td>0.7069861</td><td>1.478466</td><td>40</td><td>PCBP1, IGF1R, UXT, SNRPD1, GTF2H1</td><td>LV100</td><td> 5</td></tr>\n",
       "\t<tr><td>gene_set_increase</td><td>0.10289710</td><td>0.10289710</td><td>0.1350020</td><td>0.7069861</td><td>1.481544</td><td>40</td><td>PCBP1, IGF1R, UXT, SNRPD1, GTF2H1</td><td>LV100</td><td> 7</td></tr>\n",
       "\t<tr><td>gene_set_increase</td><td>0.10189810</td><td>0.10189810</td><td>0.1357409</td><td>0.7069861</td><td>1.461778</td><td>40</td><td>PCBP1, IGF1R, UXT, SNRPD1, GTF2H1</td><td>LV100</td><td> 6</td></tr>\n",
       "\t<tr><td>gene_set_increase</td><td>0.10189810</td><td>0.10189810</td><td>0.1357409</td><td>0.7069861</td><td>1.477454</td><td>40</td><td>PCBP1, IGF1R, UXT, SNRPD1, GTF2H1</td><td>LV100</td><td> 9</td></tr>\n",
       "\t<tr><td>gene_set_increase</td><td>0.09790210</td><td>0.09790210</td><td>0.1388051</td><td>0.7069861</td><td>1.494823</td><td>40</td><td>PCBP1, IGF1R, UXT, SNRPD1, GTF2H1</td><td>LV100</td><td> 8</td></tr>\n",
       "\t<tr><td>gene_set_increase</td><td>0.09490509</td><td>0.09490509</td><td>0.1412251</td><td>0.7069861</td><td>1.504016</td><td>40</td><td>PCBP1, IGF1R, UXT, SNRPD1, GTF2H1</td><td>LV100</td><td> 4</td></tr>\n",
       "\t<tr><td>gene_set_increase</td><td>0.08991009</td><td>0.08991009</td><td>0.1455161</td><td>0.7069861</td><td>1.482328</td><td>40</td><td>PCBP1, IGF1R, UXT, SNRPD1, GTF2H1</td><td>LV100</td><td> 1</td></tr>\n",
       "\t<tr><td>gene_set_increase</td><td>0.08891109</td><td>0.08891109</td><td>0.1464162</td><td>0.7069861</td><td>1.484432</td><td>40</td><td>PCBP1, IGF1R, UXT, SNRPD1, GTF2H1</td><td>LV100</td><td> 2</td></tr>\n",
       "\t<tr><td>gene_set_increase</td><td>0.08591409</td><td>0.08591409</td><td>0.1492075</td><td>0.7069861</td><td>1.490424</td><td>40</td><td>PCBP1, IGF1R, UXT, SNRPD1, GTF2H1</td><td>LV100</td><td>10</td></tr>\n",
       "</tbody>\n",
       "</table>\n"
      ],
      "text/latex": [
       "A data.table: 10 × 10\n",
       "\\begin{tabular}{llllllllll}\n",
       " pathway & pval & padj & log2err & ES & NES & size & leadingEdge & lv & rep\\_idx\\\\\n",
       " <chr> & <dbl> & <dbl> & <dbl> & <dbl> & <dbl> & <int> & <chr> & <chr> & <int>\\\\\n",
       "\\hline\n",
       "\t gene\\_set\\_increase & 0.10489510 & 0.10489510 & 0.1335550 & 0.7069861 & 1.480363 & 40 & PCBP1, IGF1R, UXT, SNRPD1, GTF2H1 & LV100 &  3\\\\\n",
       "\t gene\\_set\\_increase & 0.10289710 & 0.10289710 & 0.1350020 & 0.7069861 & 1.478466 & 40 & PCBP1, IGF1R, UXT, SNRPD1, GTF2H1 & LV100 &  5\\\\\n",
       "\t gene\\_set\\_increase & 0.10289710 & 0.10289710 & 0.1350020 & 0.7069861 & 1.481544 & 40 & PCBP1, IGF1R, UXT, SNRPD1, GTF2H1 & LV100 &  7\\\\\n",
       "\t gene\\_set\\_increase & 0.10189810 & 0.10189810 & 0.1357409 & 0.7069861 & 1.461778 & 40 & PCBP1, IGF1R, UXT, SNRPD1, GTF2H1 & LV100 &  6\\\\\n",
       "\t gene\\_set\\_increase & 0.10189810 & 0.10189810 & 0.1357409 & 0.7069861 & 1.477454 & 40 & PCBP1, IGF1R, UXT, SNRPD1, GTF2H1 & LV100 &  9\\\\\n",
       "\t gene\\_set\\_increase & 0.09790210 & 0.09790210 & 0.1388051 & 0.7069861 & 1.494823 & 40 & PCBP1, IGF1R, UXT, SNRPD1, GTF2H1 & LV100 &  8\\\\\n",
       "\t gene\\_set\\_increase & 0.09490509 & 0.09490509 & 0.1412251 & 0.7069861 & 1.504016 & 40 & PCBP1, IGF1R, UXT, SNRPD1, GTF2H1 & LV100 &  4\\\\\n",
       "\t gene\\_set\\_increase & 0.08991009 & 0.08991009 & 0.1455161 & 0.7069861 & 1.482328 & 40 & PCBP1, IGF1R, UXT, SNRPD1, GTF2H1 & LV100 &  1\\\\\n",
       "\t gene\\_set\\_increase & 0.08891109 & 0.08891109 & 0.1464162 & 0.7069861 & 1.484432 & 40 & PCBP1, IGF1R, UXT, SNRPD1, GTF2H1 & LV100 &  2\\\\\n",
       "\t gene\\_set\\_increase & 0.08591409 & 0.08591409 & 0.1492075 & 0.7069861 & 1.490424 & 40 & PCBP1, IGF1R, UXT, SNRPD1, GTF2H1 & LV100 & 10\\\\\n",
       "\\end{tabular}\n"
      ],
      "text/markdown": [
       "\n",
       "A data.table: 10 × 10\n",
       "\n",
       "| pathway &lt;chr&gt; | pval &lt;dbl&gt; | padj &lt;dbl&gt; | log2err &lt;dbl&gt; | ES &lt;dbl&gt; | NES &lt;dbl&gt; | size &lt;int&gt; | leadingEdge &lt;chr&gt; | lv &lt;chr&gt; | rep_idx &lt;int&gt; |\n",
       "|---|---|---|---|---|---|---|---|---|---|\n",
       "| gene_set_increase | 0.10489510 | 0.10489510 | 0.1335550 | 0.7069861 | 1.480363 | 40 | PCBP1, IGF1R, UXT, SNRPD1, GTF2H1 | LV100 |  3 |\n",
       "| gene_set_increase | 0.10289710 | 0.10289710 | 0.1350020 | 0.7069861 | 1.478466 | 40 | PCBP1, IGF1R, UXT, SNRPD1, GTF2H1 | LV100 |  5 |\n",
       "| gene_set_increase | 0.10289710 | 0.10289710 | 0.1350020 | 0.7069861 | 1.481544 | 40 | PCBP1, IGF1R, UXT, SNRPD1, GTF2H1 | LV100 |  7 |\n",
       "| gene_set_increase | 0.10189810 | 0.10189810 | 0.1357409 | 0.7069861 | 1.461778 | 40 | PCBP1, IGF1R, UXT, SNRPD1, GTF2H1 | LV100 |  6 |\n",
       "| gene_set_increase | 0.10189810 | 0.10189810 | 0.1357409 | 0.7069861 | 1.477454 | 40 | PCBP1, IGF1R, UXT, SNRPD1, GTF2H1 | LV100 |  9 |\n",
       "| gene_set_increase | 0.09790210 | 0.09790210 | 0.1388051 | 0.7069861 | 1.494823 | 40 | PCBP1, IGF1R, UXT, SNRPD1, GTF2H1 | LV100 |  8 |\n",
       "| gene_set_increase | 0.09490509 | 0.09490509 | 0.1412251 | 0.7069861 | 1.504016 | 40 | PCBP1, IGF1R, UXT, SNRPD1, GTF2H1 | LV100 |  4 |\n",
       "| gene_set_increase | 0.08991009 | 0.08991009 | 0.1455161 | 0.7069861 | 1.482328 | 40 | PCBP1, IGF1R, UXT, SNRPD1, GTF2H1 | LV100 |  1 |\n",
       "| gene_set_increase | 0.08891109 | 0.08891109 | 0.1464162 | 0.7069861 | 1.484432 | 40 | PCBP1, IGF1R, UXT, SNRPD1, GTF2H1 | LV100 |  2 |\n",
       "| gene_set_increase | 0.08591409 | 0.08591409 | 0.1492075 | 0.7069861 | 1.490424 | 40 | PCBP1, IGF1R, UXT, SNRPD1, GTF2H1 | LV100 | 10 |\n",
       "\n"
      ],
      "text/plain": [
       "   pathway           pval       padj       log2err   ES        NES      size\n",
       "1  gene_set_increase 0.10489510 0.10489510 0.1335550 0.7069861 1.480363 40  \n",
       "2  gene_set_increase 0.10289710 0.10289710 0.1350020 0.7069861 1.478466 40  \n",
       "3  gene_set_increase 0.10289710 0.10289710 0.1350020 0.7069861 1.481544 40  \n",
       "4  gene_set_increase 0.10189810 0.10189810 0.1357409 0.7069861 1.461778 40  \n",
       "5  gene_set_increase 0.10189810 0.10189810 0.1357409 0.7069861 1.477454 40  \n",
       "6  gene_set_increase 0.09790210 0.09790210 0.1388051 0.7069861 1.494823 40  \n",
       "7  gene_set_increase 0.09490509 0.09490509 0.1412251 0.7069861 1.504016 40  \n",
       "8  gene_set_increase 0.08991009 0.08991009 0.1455161 0.7069861 1.482328 40  \n",
       "9  gene_set_increase 0.08891109 0.08891109 0.1464162 0.7069861 1.484432 40  \n",
       "10 gene_set_increase 0.08591409 0.08591409 0.1492075 0.7069861 1.490424 40  \n",
       "   leadingEdge                       lv    rep_idx\n",
       "1  PCBP1, IGF1R, UXT, SNRPD1, GTF2H1 LV100  3     \n",
       "2  PCBP1, IGF1R, UXT, SNRPD1, GTF2H1 LV100  5     \n",
       "3  PCBP1, IGF1R, UXT, SNRPD1, GTF2H1 LV100  7     \n",
       "4  PCBP1, IGF1R, UXT, SNRPD1, GTF2H1 LV100  6     \n",
       "5  PCBP1, IGF1R, UXT, SNRPD1, GTF2H1 LV100  9     \n",
       "6  PCBP1, IGF1R, UXT, SNRPD1, GTF2H1 LV100  8     \n",
       "7  PCBP1, IGF1R, UXT, SNRPD1, GTF2H1 LV100  4     \n",
       "8  PCBP1, IGF1R, UXT, SNRPD1, GTF2H1 LV100  1     \n",
       "9  PCBP1, IGF1R, UXT, SNRPD1, GTF2H1 LV100  2     \n",
       "10 PCBP1, IGF1R, UXT, SNRPD1, GTF2H1 LV100 10     "
      ]
     },
     "metadata": {},
     "output_type": "display_data"
    }
   ],
   "source": [
    "df %>% filter(lv == \"LV100\" & pathway == \"gene_set_increase\") %>% arrange(desc(padj))"
   ]
  },
  {
   "cell_type": "markdown",
   "metadata": {
    "papermill": {
     "duration": 0.022562,
     "end_time": "2021-05-21T13:46:06.045732",
     "exception": false,
     "start_time": "2021-05-21T13:46:06.023170",
     "status": "completed"
    },
    "tags": []
   },
   "source": [
    "## Show significant LVs"
   ]
  },
  {
   "cell_type": "code",
   "execution_count": 36,
   "metadata": {
    "execution": {
     "iopub.execute_input": "2021-05-21T13:46:06.094052Z",
     "iopub.status.busy": "2021-05-21T13:46:06.093211Z",
     "iopub.status.idle": "2021-05-21T13:46:06.121474Z",
     "shell.execute_reply": "2021-05-21T13:46:06.120653Z"
    },
    "papermill": {
     "duration": 0.053346,
     "end_time": "2021-05-21T13:46:06.121564",
     "exception": false,
     "start_time": "2021-05-21T13:46:06.068218",
     "status": "completed"
    },
    "tags": []
   },
   "outputs": [
    {
     "name": "stderr",
     "output_type": "stream",
     "text": [
      "`summarise()` has grouped output by 'lv'. You can override using the `.groups` argument.\n",
      "\n"
     ]
    }
   ],
   "source": [
    "df_signif <- df %>% group_by(lv, pathway) %>% summarize(max_pval = max(pval)) %>% filter(max_pval < 0.05)"
   ]
  },
  {
   "cell_type": "code",
   "execution_count": 37,
   "metadata": {
    "execution": {
     "iopub.execute_input": "2021-05-21T13:46:06.172075Z",
     "iopub.status.busy": "2021-05-21T13:46:06.171221Z",
     "iopub.status.idle": "2021-05-21T13:46:06.191277Z",
     "shell.execute_reply": "2021-05-21T13:46:06.189848Z"
    },
    "papermill": {
     "duration": 0.045576,
     "end_time": "2021-05-21T13:46:06.191384",
     "exception": false,
     "start_time": "2021-05-21T13:46:06.145808",
     "status": "completed"
    },
    "tags": []
   },
   "outputs": [
    {
     "data": {
      "text/html": [
       "112"
      ],
      "text/latex": [
       "112"
      ],
      "text/markdown": [
       "112"
      ],
      "text/plain": [
       "[1] 112"
      ]
     },
     "metadata": {},
     "output_type": "display_data"
    }
   ],
   "source": [
    "nrow(df_signif)"
   ]
  },
  {
   "cell_type": "code",
   "execution_count": 38,
   "metadata": {
    "execution": {
     "iopub.execute_input": "2021-05-21T13:46:06.248536Z",
     "iopub.status.busy": "2021-05-21T13:46:06.247282Z",
     "iopub.status.idle": "2021-05-21T13:46:06.256202Z",
     "shell.execute_reply": "2021-05-21T13:46:06.255427Z"
    },
    "papermill": {
     "duration": 0.036275,
     "end_time": "2021-05-21T13:46:06.256309",
     "exception": false,
     "start_time": "2021-05-21T13:46:06.220034",
     "status": "completed"
    },
    "tags": []
   },
   "outputs": [],
   "source": [
    "stopifnot(nrow(df_signif) > 50)"
   ]
  },
  {
   "cell_type": "code",
   "execution_count": 39,
   "metadata": {
    "execution": {
     "iopub.execute_input": "2021-05-21T13:46:06.307635Z",
     "iopub.status.busy": "2021-05-21T13:46:06.306730Z",
     "iopub.status.idle": "2021-05-21T13:46:06.360174Z",
     "shell.execute_reply": "2021-05-21T13:46:06.359146Z"
    },
    "papermill": {
     "duration": 0.079601,
     "end_time": "2021-05-21T13:46:06.360284",
     "exception": false,
     "start_time": "2021-05-21T13:46:06.280683",
     "status": "completed"
    },
    "tags": []
   },
   "outputs": [
    {
     "data": {
      "text/html": [
       "<table class=\"dataframe\">\n",
       "<caption>A grouped_df: 112 × 3</caption>\n",
       "<thead>\n",
       "\t<tr><th scope=col>lv</th><th scope=col>pathway</th><th scope=col>max_pval</th></tr>\n",
       "\t<tr><th scope=col>&lt;chr&gt;</th><th scope=col>&lt;chr&gt;</th><th scope=col>&lt;dbl&gt;</th></tr>\n",
       "</thead>\n",
       "<tbody>\n",
       "\t<tr><td>LV707</td><td>gene_set_increase</td><td>1.738856e-07</td></tr>\n",
       "\t<tr><td>LV678</td><td>gene_set_decrease</td><td>2.605291e-07</td></tr>\n",
       "\t<tr><td>LV905</td><td>gene_set_increase</td><td>4.293645e-05</td></tr>\n",
       "\t<tr><td>LV915</td><td>gene_set_increase</td><td>6.373604e-05</td></tr>\n",
       "\t<tr><td>LV750</td><td>gene_set_increase</td><td>5.632729e-04</td></tr>\n",
       "\t<tr><td>LV341</td><td>gene_set_increase</td><td>7.830825e-04</td></tr>\n",
       "\t<tr><td>LV64 </td><td>gene_set_decrease</td><td>1.205740e-03</td></tr>\n",
       "\t<tr><td>LV897</td><td>gene_set_decrease</td><td>1.610715e-03</td></tr>\n",
       "\t<tr><td>LV575</td><td>gene_set_decrease</td><td>4.275828e-03</td></tr>\n",
       "\t<tr><td>LV310</td><td>gene_set_increase</td><td>4.573270e-03</td></tr>\n",
       "\t<tr><td>LV48 </td><td>gene_set_increase</td><td>5.539958e-03</td></tr>\n",
       "\t<tr><td>LV736</td><td>gene_set_decrease</td><td>5.763040e-03</td></tr>\n",
       "\t<tr><td>LV509</td><td>gene_set_increase</td><td>6.952814e-03</td></tr>\n",
       "\t<tr><td>LV467</td><td>gene_set_increase</td><td>9.938984e-03</td></tr>\n",
       "\t<tr><td>LV490</td><td>gene_set_increase</td><td>1.203137e-02</td></tr>\n",
       "\t<tr><td>LV550</td><td>gene_set_increase</td><td>1.218082e-02</td></tr>\n",
       "\t<tr><td>LV621</td><td>gene_set_increase</td><td>1.247973e-02</td></tr>\n",
       "\t<tr><td>LV157</td><td>gene_set_decrease</td><td>1.292810e-02</td></tr>\n",
       "\t<tr><td>LV421</td><td>gene_set_decrease</td><td>1.292810e-02</td></tr>\n",
       "\t<tr><td>LV469</td><td>gene_set_decrease</td><td>1.382484e-02</td></tr>\n",
       "\t<tr><td>LV250</td><td>gene_set_decrease</td><td>1.427321e-02</td></tr>\n",
       "\t<tr><td>LV420</td><td>gene_set_decrease</td><td>1.487103e-02</td></tr>\n",
       "\t<tr><td>LV558</td><td>gene_set_decrease</td><td>1.547033e-02</td></tr>\n",
       "\t<tr><td>LV630</td><td>gene_set_decrease</td><td>1.577072e-02</td></tr>\n",
       "\t<tr><td>LV99 </td><td>gene_set_decrease</td><td>1.637149e-02</td></tr>\n",
       "\t<tr><td>LV415</td><td>gene_set_increase</td><td>1.667187e-02</td></tr>\n",
       "\t<tr><td>LV504</td><td>gene_set_increase</td><td>1.667187e-02</td></tr>\n",
       "\t<tr><td>LV494</td><td>gene_set_increase</td><td>1.727265e-02</td></tr>\n",
       "\t<tr><td>LV507</td><td>gene_set_increase</td><td>1.727265e-02</td></tr>\n",
       "\t<tr><td>LV676</td><td>gene_set_decrease</td><td>1.727265e-02</td></tr>\n",
       "\t<tr><td>⋮</td><td>⋮</td><td>⋮</td></tr>\n",
       "\t<tr><td>LV635</td><td>gene_set_increase</td><td>0.04075329</td></tr>\n",
       "\t<tr><td>LV442</td><td>gene_set_increase</td><td>0.04095904</td></tr>\n",
       "\t<tr><td>LV85 </td><td>gene_set_increase</td><td>0.04095904</td></tr>\n",
       "\t<tr><td>LV311</td><td>gene_set_decrease</td><td>0.04135703</td></tr>\n",
       "\t<tr><td>LV783</td><td>gene_set_increase</td><td>0.04256451</td></tr>\n",
       "\t<tr><td>LV100</td><td>gene_set_decrease</td><td>0.04295704</td></tr>\n",
       "\t<tr><td>LV326</td><td>gene_set_decrease</td><td>0.04295704</td></tr>\n",
       "\t<tr><td>LV590</td><td>gene_set_decrease</td><td>0.04377200</td></tr>\n",
       "\t<tr><td>LV467</td><td>gene_set_decrease</td><td>0.04495504</td></tr>\n",
       "\t<tr><td>LV751</td><td>gene_set_decrease</td><td>0.04497948</td></tr>\n",
       "\t<tr><td>LV425</td><td>gene_set_increase</td><td>0.04595405</td></tr>\n",
       "\t<tr><td>LV814</td><td>gene_set_decrease</td><td>0.04595405</td></tr>\n",
       "\t<tr><td>LV88 </td><td>gene_set_decrease</td><td>0.04595405</td></tr>\n",
       "\t<tr><td>LV717</td><td>gene_set_increase</td><td>0.04618697</td></tr>\n",
       "\t<tr><td>LV305</td><td>gene_set_decrease</td><td>0.04695305</td></tr>\n",
       "\t<tr><td>LV336</td><td>gene_set_decrease</td><td>0.04695305</td></tr>\n",
       "\t<tr><td>LV607</td><td>gene_set_decrease</td><td>0.04695305</td></tr>\n",
       "\t<tr><td>LV760</td><td>gene_set_increase</td><td>0.04695305</td></tr>\n",
       "\t<tr><td>LV971</td><td>gene_set_increase</td><td>0.04695305</td></tr>\n",
       "\t<tr><td>LV342</td><td>gene_set_decrease</td><td>0.04795205</td></tr>\n",
       "\t<tr><td>LV514</td><td>gene_set_increase</td><td>0.04795205</td></tr>\n",
       "\t<tr><td>LV515</td><td>gene_set_decrease</td><td>0.04795205</td></tr>\n",
       "\t<tr><td>LV667</td><td>gene_set_increase</td><td>0.04795205</td></tr>\n",
       "\t<tr><td>LV648</td><td>gene_set_increase</td><td>0.04799819</td></tr>\n",
       "\t<tr><td>LV811</td><td>gene_set_decrease</td><td>0.04799819</td></tr>\n",
       "\t<tr><td>LV356</td><td>gene_set_decrease</td><td>0.04895105</td></tr>\n",
       "\t<tr><td>LV502</td><td>gene_set_decrease</td><td>0.04895105</td></tr>\n",
       "\t<tr><td>LV687</td><td>gene_set_increase</td><td>0.04995005</td></tr>\n",
       "\t<tr><td>LV830</td><td>gene_set_increase</td><td>0.04995005</td></tr>\n",
       "\t<tr><td>LV838</td><td>gene_set_decrease</td><td>0.04995005</td></tr>\n",
       "</tbody>\n",
       "</table>\n"
      ],
      "text/latex": [
       "A grouped\\_df: 112 × 3\n",
       "\\begin{tabular}{lll}\n",
       " lv & pathway & max\\_pval\\\\\n",
       " <chr> & <chr> & <dbl>\\\\\n",
       "\\hline\n",
       "\t LV707 & gene\\_set\\_increase & 1.738856e-07\\\\\n",
       "\t LV678 & gene\\_set\\_decrease & 2.605291e-07\\\\\n",
       "\t LV905 & gene\\_set\\_increase & 4.293645e-05\\\\\n",
       "\t LV915 & gene\\_set\\_increase & 6.373604e-05\\\\\n",
       "\t LV750 & gene\\_set\\_increase & 5.632729e-04\\\\\n",
       "\t LV341 & gene\\_set\\_increase & 7.830825e-04\\\\\n",
       "\t LV64  & gene\\_set\\_decrease & 1.205740e-03\\\\\n",
       "\t LV897 & gene\\_set\\_decrease & 1.610715e-03\\\\\n",
       "\t LV575 & gene\\_set\\_decrease & 4.275828e-03\\\\\n",
       "\t LV310 & gene\\_set\\_increase & 4.573270e-03\\\\\n",
       "\t LV48  & gene\\_set\\_increase & 5.539958e-03\\\\\n",
       "\t LV736 & gene\\_set\\_decrease & 5.763040e-03\\\\\n",
       "\t LV509 & gene\\_set\\_increase & 6.952814e-03\\\\\n",
       "\t LV467 & gene\\_set\\_increase & 9.938984e-03\\\\\n",
       "\t LV490 & gene\\_set\\_increase & 1.203137e-02\\\\\n",
       "\t LV550 & gene\\_set\\_increase & 1.218082e-02\\\\\n",
       "\t LV621 & gene\\_set\\_increase & 1.247973e-02\\\\\n",
       "\t LV157 & gene\\_set\\_decrease & 1.292810e-02\\\\\n",
       "\t LV421 & gene\\_set\\_decrease & 1.292810e-02\\\\\n",
       "\t LV469 & gene\\_set\\_decrease & 1.382484e-02\\\\\n",
       "\t LV250 & gene\\_set\\_decrease & 1.427321e-02\\\\\n",
       "\t LV420 & gene\\_set\\_decrease & 1.487103e-02\\\\\n",
       "\t LV558 & gene\\_set\\_decrease & 1.547033e-02\\\\\n",
       "\t LV630 & gene\\_set\\_decrease & 1.577072e-02\\\\\n",
       "\t LV99  & gene\\_set\\_decrease & 1.637149e-02\\\\\n",
       "\t LV415 & gene\\_set\\_increase & 1.667187e-02\\\\\n",
       "\t LV504 & gene\\_set\\_increase & 1.667187e-02\\\\\n",
       "\t LV494 & gene\\_set\\_increase & 1.727265e-02\\\\\n",
       "\t LV507 & gene\\_set\\_increase & 1.727265e-02\\\\\n",
       "\t LV676 & gene\\_set\\_decrease & 1.727265e-02\\\\\n",
       "\t ⋮ & ⋮ & ⋮\\\\\n",
       "\t LV635 & gene\\_set\\_increase & 0.04075329\\\\\n",
       "\t LV442 & gene\\_set\\_increase & 0.04095904\\\\\n",
       "\t LV85  & gene\\_set\\_increase & 0.04095904\\\\\n",
       "\t LV311 & gene\\_set\\_decrease & 0.04135703\\\\\n",
       "\t LV783 & gene\\_set\\_increase & 0.04256451\\\\\n",
       "\t LV100 & gene\\_set\\_decrease & 0.04295704\\\\\n",
       "\t LV326 & gene\\_set\\_decrease & 0.04295704\\\\\n",
       "\t LV590 & gene\\_set\\_decrease & 0.04377200\\\\\n",
       "\t LV467 & gene\\_set\\_decrease & 0.04495504\\\\\n",
       "\t LV751 & gene\\_set\\_decrease & 0.04497948\\\\\n",
       "\t LV425 & gene\\_set\\_increase & 0.04595405\\\\\n",
       "\t LV814 & gene\\_set\\_decrease & 0.04595405\\\\\n",
       "\t LV88  & gene\\_set\\_decrease & 0.04595405\\\\\n",
       "\t LV717 & gene\\_set\\_increase & 0.04618697\\\\\n",
       "\t LV305 & gene\\_set\\_decrease & 0.04695305\\\\\n",
       "\t LV336 & gene\\_set\\_decrease & 0.04695305\\\\\n",
       "\t LV607 & gene\\_set\\_decrease & 0.04695305\\\\\n",
       "\t LV760 & gene\\_set\\_increase & 0.04695305\\\\\n",
       "\t LV971 & gene\\_set\\_increase & 0.04695305\\\\\n",
       "\t LV342 & gene\\_set\\_decrease & 0.04795205\\\\\n",
       "\t LV514 & gene\\_set\\_increase & 0.04795205\\\\\n",
       "\t LV515 & gene\\_set\\_decrease & 0.04795205\\\\\n",
       "\t LV667 & gene\\_set\\_increase & 0.04795205\\\\\n",
       "\t LV648 & gene\\_set\\_increase & 0.04799819\\\\\n",
       "\t LV811 & gene\\_set\\_decrease & 0.04799819\\\\\n",
       "\t LV356 & gene\\_set\\_decrease & 0.04895105\\\\\n",
       "\t LV502 & gene\\_set\\_decrease & 0.04895105\\\\\n",
       "\t LV687 & gene\\_set\\_increase & 0.04995005\\\\\n",
       "\t LV830 & gene\\_set\\_increase & 0.04995005\\\\\n",
       "\t LV838 & gene\\_set\\_decrease & 0.04995005\\\\\n",
       "\\end{tabular}\n"
      ],
      "text/markdown": [
       "\n",
       "A grouped_df: 112 × 3\n",
       "\n",
       "| lv &lt;chr&gt; | pathway &lt;chr&gt; | max_pval &lt;dbl&gt; |\n",
       "|---|---|---|\n",
       "| LV707 | gene_set_increase | 1.738856e-07 |\n",
       "| LV678 | gene_set_decrease | 2.605291e-07 |\n",
       "| LV905 | gene_set_increase | 4.293645e-05 |\n",
       "| LV915 | gene_set_increase | 6.373604e-05 |\n",
       "| LV750 | gene_set_increase | 5.632729e-04 |\n",
       "| LV341 | gene_set_increase | 7.830825e-04 |\n",
       "| LV64  | gene_set_decrease | 1.205740e-03 |\n",
       "| LV897 | gene_set_decrease | 1.610715e-03 |\n",
       "| LV575 | gene_set_decrease | 4.275828e-03 |\n",
       "| LV310 | gene_set_increase | 4.573270e-03 |\n",
       "| LV48  | gene_set_increase | 5.539958e-03 |\n",
       "| LV736 | gene_set_decrease | 5.763040e-03 |\n",
       "| LV509 | gene_set_increase | 6.952814e-03 |\n",
       "| LV467 | gene_set_increase | 9.938984e-03 |\n",
       "| LV490 | gene_set_increase | 1.203137e-02 |\n",
       "| LV550 | gene_set_increase | 1.218082e-02 |\n",
       "| LV621 | gene_set_increase | 1.247973e-02 |\n",
       "| LV157 | gene_set_decrease | 1.292810e-02 |\n",
       "| LV421 | gene_set_decrease | 1.292810e-02 |\n",
       "| LV469 | gene_set_decrease | 1.382484e-02 |\n",
       "| LV250 | gene_set_decrease | 1.427321e-02 |\n",
       "| LV420 | gene_set_decrease | 1.487103e-02 |\n",
       "| LV558 | gene_set_decrease | 1.547033e-02 |\n",
       "| LV630 | gene_set_decrease | 1.577072e-02 |\n",
       "| LV99  | gene_set_decrease | 1.637149e-02 |\n",
       "| LV415 | gene_set_increase | 1.667187e-02 |\n",
       "| LV504 | gene_set_increase | 1.667187e-02 |\n",
       "| LV494 | gene_set_increase | 1.727265e-02 |\n",
       "| LV507 | gene_set_increase | 1.727265e-02 |\n",
       "| LV676 | gene_set_decrease | 1.727265e-02 |\n",
       "| ⋮ | ⋮ | ⋮ |\n",
       "| LV635 | gene_set_increase | 0.04075329 |\n",
       "| LV442 | gene_set_increase | 0.04095904 |\n",
       "| LV85  | gene_set_increase | 0.04095904 |\n",
       "| LV311 | gene_set_decrease | 0.04135703 |\n",
       "| LV783 | gene_set_increase | 0.04256451 |\n",
       "| LV100 | gene_set_decrease | 0.04295704 |\n",
       "| LV326 | gene_set_decrease | 0.04295704 |\n",
       "| LV590 | gene_set_decrease | 0.04377200 |\n",
       "| LV467 | gene_set_decrease | 0.04495504 |\n",
       "| LV751 | gene_set_decrease | 0.04497948 |\n",
       "| LV425 | gene_set_increase | 0.04595405 |\n",
       "| LV814 | gene_set_decrease | 0.04595405 |\n",
       "| LV88  | gene_set_decrease | 0.04595405 |\n",
       "| LV717 | gene_set_increase | 0.04618697 |\n",
       "| LV305 | gene_set_decrease | 0.04695305 |\n",
       "| LV336 | gene_set_decrease | 0.04695305 |\n",
       "| LV607 | gene_set_decrease | 0.04695305 |\n",
       "| LV760 | gene_set_increase | 0.04695305 |\n",
       "| LV971 | gene_set_increase | 0.04695305 |\n",
       "| LV342 | gene_set_decrease | 0.04795205 |\n",
       "| LV514 | gene_set_increase | 0.04795205 |\n",
       "| LV515 | gene_set_decrease | 0.04795205 |\n",
       "| LV667 | gene_set_increase | 0.04795205 |\n",
       "| LV648 | gene_set_increase | 0.04799819 |\n",
       "| LV811 | gene_set_decrease | 0.04799819 |\n",
       "| LV356 | gene_set_decrease | 0.04895105 |\n",
       "| LV502 | gene_set_decrease | 0.04895105 |\n",
       "| LV687 | gene_set_increase | 0.04995005 |\n",
       "| LV830 | gene_set_increase | 0.04995005 |\n",
       "| LV838 | gene_set_decrease | 0.04995005 |\n",
       "\n"
      ],
      "text/plain": [
       "    lv    pathway           max_pval    \n",
       "1   LV707 gene_set_increase 1.738856e-07\n",
       "2   LV678 gene_set_decrease 2.605291e-07\n",
       "3   LV905 gene_set_increase 4.293645e-05\n",
       "4   LV915 gene_set_increase 6.373604e-05\n",
       "5   LV750 gene_set_increase 5.632729e-04\n",
       "6   LV341 gene_set_increase 7.830825e-04\n",
       "7   LV64  gene_set_decrease 1.205740e-03\n",
       "8   LV897 gene_set_decrease 1.610715e-03\n",
       "9   LV575 gene_set_decrease 4.275828e-03\n",
       "10  LV310 gene_set_increase 4.573270e-03\n",
       "11  LV48  gene_set_increase 5.539958e-03\n",
       "12  LV736 gene_set_decrease 5.763040e-03\n",
       "13  LV509 gene_set_increase 6.952814e-03\n",
       "14  LV467 gene_set_increase 9.938984e-03\n",
       "15  LV490 gene_set_increase 1.203137e-02\n",
       "16  LV550 gene_set_increase 1.218082e-02\n",
       "17  LV621 gene_set_increase 1.247973e-02\n",
       "18  LV157 gene_set_decrease 1.292810e-02\n",
       "19  LV421 gene_set_decrease 1.292810e-02\n",
       "20  LV469 gene_set_decrease 1.382484e-02\n",
       "21  LV250 gene_set_decrease 1.427321e-02\n",
       "22  LV420 gene_set_decrease 1.487103e-02\n",
       "23  LV558 gene_set_decrease 1.547033e-02\n",
       "24  LV630 gene_set_decrease 1.577072e-02\n",
       "25  LV99  gene_set_decrease 1.637149e-02\n",
       "26  LV415 gene_set_increase 1.667187e-02\n",
       "27  LV504 gene_set_increase 1.667187e-02\n",
       "28  LV494 gene_set_increase 1.727265e-02\n",
       "29  LV507 gene_set_increase 1.727265e-02\n",
       "30  LV676 gene_set_decrease 1.727265e-02\n",
       "⋮   ⋮     ⋮                 ⋮           \n",
       "83  LV635 gene_set_increase 0.04075329  \n",
       "84  LV442 gene_set_increase 0.04095904  \n",
       "85  LV85  gene_set_increase 0.04095904  \n",
       "86  LV311 gene_set_decrease 0.04135703  \n",
       "87  LV783 gene_set_increase 0.04256451  \n",
       "88  LV100 gene_set_decrease 0.04295704  \n",
       "89  LV326 gene_set_decrease 0.04295704  \n",
       "90  LV590 gene_set_decrease 0.04377200  \n",
       "91  LV467 gene_set_decrease 0.04495504  \n",
       "92  LV751 gene_set_decrease 0.04497948  \n",
       "93  LV425 gene_set_increase 0.04595405  \n",
       "94  LV814 gene_set_decrease 0.04595405  \n",
       "95  LV88  gene_set_decrease 0.04595405  \n",
       "96  LV717 gene_set_increase 0.04618697  \n",
       "97  LV305 gene_set_decrease 0.04695305  \n",
       "98  LV336 gene_set_decrease 0.04695305  \n",
       "99  LV607 gene_set_decrease 0.04695305  \n",
       "100 LV760 gene_set_increase 0.04695305  \n",
       "101 LV971 gene_set_increase 0.04695305  \n",
       "102 LV342 gene_set_decrease 0.04795205  \n",
       "103 LV514 gene_set_increase 0.04795205  \n",
       "104 LV515 gene_set_decrease 0.04795205  \n",
       "105 LV667 gene_set_increase 0.04795205  \n",
       "106 LV648 gene_set_increase 0.04799819  \n",
       "107 LV811 gene_set_decrease 0.04799819  \n",
       "108 LV356 gene_set_decrease 0.04895105  \n",
       "109 LV502 gene_set_decrease 0.04895105  \n",
       "110 LV687 gene_set_increase 0.04995005  \n",
       "111 LV830 gene_set_increase 0.04995005  \n",
       "112 LV838 gene_set_decrease 0.04995005  "
      ]
     },
     "metadata": {},
     "output_type": "display_data"
    }
   ],
   "source": [
    "df_signif %>% arrange(max_pval)"
   ]
  },
  {
   "cell_type": "code",
   "execution_count": null,
   "metadata": {
    "papermill": {
     "duration": 0.02416,
     "end_time": "2021-05-21T13:46:06.414071",
     "exception": false,
     "start_time": "2021-05-21T13:46:06.389911",
     "status": "completed"
    },
    "tags": []
   },
   "outputs": [],
   "source": []
  }
 ],
 "metadata": {
  "jupytext": {
   "cell_metadata_filter": "all,-execution,-papermill,-trusted",
   "formats": "ipynb,py//R:percent"
  },
  "kernelspec": {
   "display_name": "R",
   "language": "R",
   "name": "ir"
  },
  "language_info": {
   "codemirror_mode": "r",
   "file_extension": ".r",
   "mimetype": "text/x-r-source",
   "name": "R",
   "pygments_lexer": "r",
   "version": "3.6.3"
  },
  "papermill": {
   "default_parameters": {},
   "duration": 224.766001,
   "end_time": "2021-05-21T13:46:06.545614",
   "environment_variables": {},
   "exception": null,
   "input_path": "30_validation/crispr_screen/030_10-deg_genes-gsea_on_all_lvs.ipynb",
   "output_path": "30_validation/crispr_screen/030_10-deg_genes-gsea_on_all_lvs.run.ipynb",
   "parameters": {},
   "start_time": "2021-05-21T13:42:21.779613",
   "version": "2.2.2"
  },
  "toc-autonumbering": true
 },
 "nbformat": 4,
 "nbformat_minor": 4
}
