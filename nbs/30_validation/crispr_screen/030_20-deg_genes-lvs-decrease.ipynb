{
 "cells": [
  {
   "cell_type": "markdown",
   "metadata": {
    "papermill": {
     "duration": 0.017763,
     "end_time": "2021-03-25T19:58:24.876508",
     "exception": false,
     "start_time": "2021-03-25T19:58:24.858745",
     "status": "completed"
    },
    "tags": []
   },
   "source": [
    "# Description"
   ]
  },
  {
   "cell_type": "markdown",
   "metadata": {
    "papermill": {
     "duration": 0.014264,
     "end_time": "2021-03-25T19:58:24.907191",
     "exception": false,
     "start_time": "2021-03-25T19:58:24.892927",
     "status": "completed"
    },
    "tags": []
   },
   "source": [
    "TODO"
   ]
  },
  {
   "cell_type": "markdown",
   "metadata": {
    "papermill": {
     "duration": 0.013597,
     "end_time": "2021-03-25T19:58:24.934766",
     "exception": false,
     "start_time": "2021-03-25T19:58:24.921169",
     "status": "completed"
    },
    "tags": []
   },
   "source": [
    "# Modules loading"
   ]
  },
  {
   "cell_type": "code",
   "execution_count": 1,
   "metadata": {
    "execution": {
     "iopub.execute_input": "2021-03-25T19:58:24.968137Z",
     "iopub.status.busy": "2021-03-25T19:58:24.967769Z",
     "iopub.status.idle": "2021-03-25T19:58:24.975708Z",
     "shell.execute_reply": "2021-03-25T19:58:24.975291Z"
    },
    "papermill": {
     "duration": 0.027352,
     "end_time": "2021-03-25T19:58:24.975797",
     "exception": false,
     "start_time": "2021-03-25T19:58:24.948445",
     "status": "completed"
    },
    "tags": []
   },
   "outputs": [],
   "source": [
    "%load_ext autoreload\n",
    "%autoreload 2"
   ]
  },
  {
   "cell_type": "code",
   "execution_count": 2,
   "metadata": {
    "execution": {
     "iopub.execute_input": "2021-03-25T19:58:25.006611Z",
     "iopub.status.busy": "2021-03-25T19:58:25.006232Z",
     "iopub.status.idle": "2021-03-25T19:58:25.366243Z",
     "shell.execute_reply": "2021-03-25T19:58:25.365903Z"
    },
    "papermill": {
     "duration": 0.376361,
     "end_time": "2021-03-25T19:58:25.366343",
     "exception": false,
     "start_time": "2021-03-25T19:58:24.989982",
     "status": "completed"
    },
    "tags": []
   },
   "outputs": [],
   "source": [
    "from pathlib import Path\n",
    "\n",
    "import pandas as pd\n",
    "from IPython.display import HTML\n",
    "\n",
    "from entity import Trait\n",
    "from data.cache import read_data\n",
    "import conf"
   ]
  },
  {
   "cell_type": "markdown",
   "metadata": {
    "papermill": {
     "duration": 0.014722,
     "end_time": "2021-03-25T19:58:25.396511",
     "exception": false,
     "start_time": "2021-03-25T19:58:25.381789",
     "status": "completed"
    },
    "tags": []
   },
   "source": [
    "# Settings"
   ]
  },
  {
   "cell_type": "code",
   "execution_count": 3,
   "metadata": {
    "execution": {
     "iopub.execute_input": "2021-03-25T19:58:25.426542Z",
     "iopub.status.busy": "2021-03-25T19:58:25.426181Z",
     "iopub.status.idle": "2021-03-25T19:58:25.433426Z",
     "shell.execute_reply": "2021-03-25T19:58:25.433056Z"
    },
    "papermill": {
     "duration": 0.02308,
     "end_time": "2021-03-25T19:58:25.433533",
     "exception": false,
     "start_time": "2021-03-25T19:58:25.410453",
     "status": "completed"
    },
    "tags": []
   },
   "outputs": [],
   "source": [
    "EXPERIMENT_NAME = \"lv\"\n",
    "LIPIDS_GENE_SET = \"gene_set_decrease\""
   ]
  },
  {
   "cell_type": "code",
   "execution_count": 4,
   "metadata": {
    "execution": {
     "iopub.execute_input": "2021-03-25T19:58:25.464419Z",
     "iopub.status.busy": "2021-03-25T19:58:25.464061Z",
     "iopub.status.idle": "2021-03-25T19:58:25.475985Z",
     "shell.execute_reply": "2021-03-25T19:58:25.475603Z"
    },
    "papermill": {
     "duration": 0.028512,
     "end_time": "2021-03-25T19:58:25.476068",
     "exception": false,
     "start_time": "2021-03-25T19:58:25.447556",
     "status": "completed"
    },
    "tags": []
   },
   "outputs": [
    {
     "data": {
      "text/plain": [
       "PosixPath('/home/miltondp/projects/labs/greenelab/phenoplier/base/results/crispr_analyses/lv-gene_set_decrease')"
      ]
     },
     "metadata": {},
     "output_type": "display_data"
    }
   ],
   "source": [
    "OUTPUT_DIR = Path(\n",
    "    conf.RESULTS[\"CRISPR_ANALYSES\"][\"BASE_DIR\"], f\"{EXPERIMENT_NAME}-{LIPIDS_GENE_SET}\"\n",
    ")\n",
    "OUTPUT_DIR.mkdir(exist_ok=True, parents=True)\n",
    "display(OUTPUT_DIR)"
   ]
  },
  {
   "cell_type": "markdown",
   "metadata": {
    "papermill": {
     "duration": 0.014136,
     "end_time": "2021-03-25T19:58:25.505153",
     "exception": false,
     "start_time": "2021-03-25T19:58:25.491017",
     "status": "completed"
    },
    "tags": []
   },
   "source": [
    "# Data loading"
   ]
  },
  {
   "cell_type": "markdown",
   "metadata": {
    "papermill": {
     "duration": 0.013967,
     "end_time": "2021-03-25T19:58:25.533209",
     "exception": false,
     "start_time": "2021-03-25T19:58:25.519242",
     "status": "completed"
    },
    "tags": []
   },
   "source": [
    "## PhenomeXcan projection"
   ]
  },
  {
   "cell_type": "code",
   "execution_count": 5,
   "metadata": {
    "execution": {
     "iopub.execute_input": "2021-03-25T19:58:25.564224Z",
     "iopub.status.busy": "2021-03-25T19:58:25.563856Z",
     "iopub.status.idle": "2021-03-25T19:58:25.572191Z",
     "shell.execute_reply": "2021-03-25T19:58:25.571832Z"
    },
    "papermill": {
     "duration": 0.025001,
     "end_time": "2021-03-25T19:58:25.572271",
     "exception": false,
     "start_time": "2021-03-25T19:58:25.547270",
     "status": "completed"
    },
    "tags": []
   },
   "outputs": [
    {
     "data": {
      "text/plain": [
       "PosixPath('/home/miltondp/projects/labs/greenelab/phenoplier/base/results/projections/projection-smultixcan-efo_partial-mashr-zscores.pkl')"
      ]
     },
     "metadata": {},
     "output_type": "display_data"
    }
   ],
   "source": [
    "input_filepath = Path(\n",
    "    conf.RESULTS[\"PROJECTIONS_DIR\"],\n",
    "    \"projection-smultixcan-efo_partial-mashr-zscores.pkl\",\n",
    ").resolve()\n",
    "display(input_filepath)"
   ]
  },
  {
   "cell_type": "code",
   "execution_count": 6,
   "metadata": {
    "execution": {
     "iopub.execute_input": "2021-03-25T19:58:25.604879Z",
     "iopub.status.busy": "2021-03-25T19:58:25.604477Z",
     "iopub.status.idle": "2021-03-25T19:58:25.625100Z",
     "shell.execute_reply": "2021-03-25T19:58:25.624741Z"
    },
    "papermill": {
     "duration": 0.03795,
     "end_time": "2021-03-25T19:58:25.625193",
     "exception": false,
     "start_time": "2021-03-25T19:58:25.587243",
     "status": "completed"
    },
    "tags": []
   },
   "outputs": [],
   "source": [
    "phenomexcan_data = pd.read_pickle(input_filepath).T"
   ]
  },
  {
   "cell_type": "code",
   "execution_count": 7,
   "metadata": {
    "execution": {
     "iopub.execute_input": "2021-03-25T19:58:25.660403Z",
     "iopub.status.busy": "2021-03-25T19:58:25.660050Z",
     "iopub.status.idle": "2021-03-25T19:58:25.667915Z",
     "shell.execute_reply": "2021-03-25T19:58:25.667519Z"
    },
    "papermill": {
     "duration": 0.026145,
     "end_time": "2021-03-25T19:58:25.667996",
     "exception": false,
     "start_time": "2021-03-25T19:58:25.641851",
     "status": "completed"
    },
    "tags": []
   },
   "outputs": [
    {
     "data": {
      "text/plain": [
       "(3752, 987)"
      ]
     },
     "execution_count": 7,
     "metadata": {},
     "output_type": "execute_result"
    }
   ],
   "source": [
    "phenomexcan_data.shape"
   ]
  },
  {
   "cell_type": "code",
   "execution_count": 8,
   "metadata": {
    "execution": {
     "iopub.execute_input": "2021-03-25T19:58:25.701017Z",
     "iopub.status.busy": "2021-03-25T19:58:25.700628Z",
     "iopub.status.idle": "2021-03-25T19:58:25.720780Z",
     "shell.execute_reply": "2021-03-25T19:58:25.720441Z"
    },
    "papermill": {
     "duration": 0.037437,
     "end_time": "2021-03-25T19:58:25.720866",
     "exception": false,
     "start_time": "2021-03-25T19:58:25.683429",
     "status": "completed"
    },
    "tags": []
   },
   "outputs": [
    {
     "data": {
      "text/html": [
       "<div>\n",
       "<style scoped>\n",
       "    .dataframe tbody tr th:only-of-type {\n",
       "        vertical-align: middle;\n",
       "    }\n",
       "\n",
       "    .dataframe tbody tr th {\n",
       "        vertical-align: top;\n",
       "    }\n",
       "\n",
       "    .dataframe thead th {\n",
       "        text-align: right;\n",
       "    }\n",
       "</style>\n",
       "<table border=\"1\" class=\"dataframe\">\n",
       "  <thead>\n",
       "    <tr style=\"text-align: right;\">\n",
       "      <th></th>\n",
       "      <th>LV1</th>\n",
       "      <th>LV2</th>\n",
       "      <th>LV3</th>\n",
       "      <th>LV4</th>\n",
       "      <th>LV5</th>\n",
       "      <th>LV6</th>\n",
       "      <th>LV7</th>\n",
       "      <th>LV8</th>\n",
       "      <th>LV9</th>\n",
       "      <th>LV10</th>\n",
       "      <th>...</th>\n",
       "      <th>LV978</th>\n",
       "      <th>LV979</th>\n",
       "      <th>LV980</th>\n",
       "      <th>LV981</th>\n",
       "      <th>LV982</th>\n",
       "      <th>LV983</th>\n",
       "      <th>LV984</th>\n",
       "      <th>LV985</th>\n",
       "      <th>LV986</th>\n",
       "      <th>LV987</th>\n",
       "    </tr>\n",
       "  </thead>\n",
       "  <tbody>\n",
       "    <tr>\n",
       "      <th>100001_raw-Food_weight</th>\n",
       "      <td>-0.021292</td>\n",
       "      <td>0.056061</td>\n",
       "      <td>0.001650</td>\n",
       "      <td>0.026265</td>\n",
       "      <td>-0.015616</td>\n",
       "      <td>0.040333</td>\n",
       "      <td>-0.012050</td>\n",
       "      <td>0.027985</td>\n",
       "      <td>0.021028</td>\n",
       "      <td>0.027118</td>\n",
       "      <td>...</td>\n",
       "      <td>0.033575</td>\n",
       "      <td>0.051033</td>\n",
       "      <td>-0.038899</td>\n",
       "      <td>0.084371</td>\n",
       "      <td>0.027174</td>\n",
       "      <td>-0.032639</td>\n",
       "      <td>0.015128</td>\n",
       "      <td>-0.018430</td>\n",
       "      <td>0.016253</td>\n",
       "      <td>-0.021666</td>\n",
       "    </tr>\n",
       "    <tr>\n",
       "      <th>100002_raw-Energy</th>\n",
       "      <td>-0.046815</td>\n",
       "      <td>-0.009864</td>\n",
       "      <td>-0.004262</td>\n",
       "      <td>-0.007235</td>\n",
       "      <td>0.010799</td>\n",
       "      <td>0.021540</td>\n",
       "      <td>0.008009</td>\n",
       "      <td>0.025354</td>\n",
       "      <td>0.009816</td>\n",
       "      <td>0.041230</td>\n",
       "      <td>...</td>\n",
       "      <td>0.006675</td>\n",
       "      <td>0.022421</td>\n",
       "      <td>-0.014042</td>\n",
       "      <td>0.002723</td>\n",
       "      <td>0.066739</td>\n",
       "      <td>-0.031207</td>\n",
       "      <td>-0.001040</td>\n",
       "      <td>0.050533</td>\n",
       "      <td>-0.007979</td>\n",
       "      <td>-0.017742</td>\n",
       "    </tr>\n",
       "    <tr>\n",
       "      <th>100003_raw-Protein</th>\n",
       "      <td>-0.021585</td>\n",
       "      <td>-0.028888</td>\n",
       "      <td>0.019211</td>\n",
       "      <td>0.004304</td>\n",
       "      <td>0.017792</td>\n",
       "      <td>0.023804</td>\n",
       "      <td>-0.001246</td>\n",
       "      <td>0.023492</td>\n",
       "      <td>0.007045</td>\n",
       "      <td>-0.002453</td>\n",
       "      <td>...</td>\n",
       "      <td>0.029808</td>\n",
       "      <td>0.030413</td>\n",
       "      <td>-0.065487</td>\n",
       "      <td>0.000143</td>\n",
       "      <td>0.001568</td>\n",
       "      <td>-0.027622</td>\n",
       "      <td>-0.006422</td>\n",
       "      <td>0.040084</td>\n",
       "      <td>-0.008175</td>\n",
       "      <td>-0.014154</td>\n",
       "    </tr>\n",
       "    <tr>\n",
       "      <th>100004_raw-Fat</th>\n",
       "      <td>-0.030324</td>\n",
       "      <td>-0.053573</td>\n",
       "      <td>0.007484</td>\n",
       "      <td>-0.042464</td>\n",
       "      <td>0.010591</td>\n",
       "      <td>0.031777</td>\n",
       "      <td>0.007824</td>\n",
       "      <td>0.018422</td>\n",
       "      <td>-0.027632</td>\n",
       "      <td>0.028237</td>\n",
       "      <td>...</td>\n",
       "      <td>0.017412</td>\n",
       "      <td>0.018589</td>\n",
       "      <td>0.003284</td>\n",
       "      <td>-0.004189</td>\n",
       "      <td>0.040693</td>\n",
       "      <td>-0.036318</td>\n",
       "      <td>0.019393</td>\n",
       "      <td>0.029495</td>\n",
       "      <td>-0.015966</td>\n",
       "      <td>-0.002160</td>\n",
       "    </tr>\n",
       "    <tr>\n",
       "      <th>100005_raw-Carbohydrate</th>\n",
       "      <td>-0.017773</td>\n",
       "      <td>0.006951</td>\n",
       "      <td>0.004548</td>\n",
       "      <td>-0.001093</td>\n",
       "      <td>0.001972</td>\n",
       "      <td>-0.005518</td>\n",
       "      <td>0.033477</td>\n",
       "      <td>0.017333</td>\n",
       "      <td>0.040532</td>\n",
       "      <td>0.029409</td>\n",
       "      <td>...</td>\n",
       "      <td>-0.007403</td>\n",
       "      <td>-0.000781</td>\n",
       "      <td>0.006414</td>\n",
       "      <td>0.009671</td>\n",
       "      <td>0.034106</td>\n",
       "      <td>-0.008757</td>\n",
       "      <td>0.022819</td>\n",
       "      <td>0.055545</td>\n",
       "      <td>0.005864</td>\n",
       "      <td>-0.055875</td>\n",
       "    </tr>\n",
       "  </tbody>\n",
       "</table>\n",
       "<p>5 rows × 987 columns</p>\n",
       "</div>"
      ],
      "text/plain": [
       "                              LV1       LV2       LV3       LV4       LV5  \\\n",
       "100001_raw-Food_weight  -0.021292  0.056061  0.001650  0.026265 -0.015616   \n",
       "100002_raw-Energy       -0.046815 -0.009864 -0.004262 -0.007235  0.010799   \n",
       "100003_raw-Protein      -0.021585 -0.028888  0.019211  0.004304  0.017792   \n",
       "100004_raw-Fat          -0.030324 -0.053573  0.007484 -0.042464  0.010591   \n",
       "100005_raw-Carbohydrate -0.017773  0.006951  0.004548 -0.001093  0.001972   \n",
       "\n",
       "                              LV6       LV7       LV8       LV9      LV10  \\\n",
       "100001_raw-Food_weight   0.040333 -0.012050  0.027985  0.021028  0.027118   \n",
       "100002_raw-Energy        0.021540  0.008009  0.025354  0.009816  0.041230   \n",
       "100003_raw-Protein       0.023804 -0.001246  0.023492  0.007045 -0.002453   \n",
       "100004_raw-Fat           0.031777  0.007824  0.018422 -0.027632  0.028237   \n",
       "100005_raw-Carbohydrate -0.005518  0.033477  0.017333  0.040532  0.029409   \n",
       "\n",
       "                         ...     LV978     LV979     LV980     LV981  \\\n",
       "100001_raw-Food_weight   ...  0.033575  0.051033 -0.038899  0.084371   \n",
       "100002_raw-Energy        ...  0.006675  0.022421 -0.014042  0.002723   \n",
       "100003_raw-Protein       ...  0.029808  0.030413 -0.065487  0.000143   \n",
       "100004_raw-Fat           ...  0.017412  0.018589  0.003284 -0.004189   \n",
       "100005_raw-Carbohydrate  ... -0.007403 -0.000781  0.006414  0.009671   \n",
       "\n",
       "                            LV982     LV983     LV984     LV985     LV986  \\\n",
       "100001_raw-Food_weight   0.027174 -0.032639  0.015128 -0.018430  0.016253   \n",
       "100002_raw-Energy        0.066739 -0.031207 -0.001040  0.050533 -0.007979   \n",
       "100003_raw-Protein       0.001568 -0.027622 -0.006422  0.040084 -0.008175   \n",
       "100004_raw-Fat           0.040693 -0.036318  0.019393  0.029495 -0.015966   \n",
       "100005_raw-Carbohydrate  0.034106 -0.008757  0.022819  0.055545  0.005864   \n",
       "\n",
       "                            LV987  \n",
       "100001_raw-Food_weight  -0.021666  \n",
       "100002_raw-Energy       -0.017742  \n",
       "100003_raw-Protein      -0.014154  \n",
       "100004_raw-Fat          -0.002160  \n",
       "100005_raw-Carbohydrate -0.055875  \n",
       "\n",
       "[5 rows x 987 columns]"
      ]
     },
     "execution_count": 8,
     "metadata": {},
     "output_type": "execute_result"
    }
   ],
   "source": [
    "phenomexcan_data.head()"
   ]
  },
  {
   "cell_type": "markdown",
   "metadata": {
    "papermill": {
     "duration": 0.01535,
     "end_time": "2021-03-25T19:58:25.752468",
     "exception": false,
     "start_time": "2021-03-25T19:58:25.737118",
     "status": "completed"
    },
    "tags": []
   },
   "source": [
    "## LVs enrichment on DEG from CRISPR screen"
   ]
  },
  {
   "cell_type": "code",
   "execution_count": 9,
   "metadata": {
    "execution": {
     "iopub.execute_input": "2021-03-25T19:58:25.785826Z",
     "iopub.status.busy": "2021-03-25T19:58:25.785464Z",
     "iopub.status.idle": "2021-03-25T19:58:25.821940Z",
     "shell.execute_reply": "2021-03-25T19:58:25.821608Z"
    },
    "papermill": {
     "duration": 0.054155,
     "end_time": "2021-03-25T19:58:25.822036",
     "exception": false,
     "start_time": "2021-03-25T19:58:25.767881",
     "status": "completed"
    },
    "tags": []
   },
   "outputs": [],
   "source": [
    "deg_enrich = pd.read_csv(\n",
    "    Path(conf.RESULTS[\"CRISPR_ANALYSES\"][\"BASE_DIR\"], \"fgsea-all_lvs.tsv\").resolve(),\n",
    "    sep=\"\\t\",\n",
    ")"
   ]
  },
  {
   "cell_type": "code",
   "execution_count": 10,
   "metadata": {
    "execution": {
     "iopub.execute_input": "2021-03-25T19:58:25.855952Z",
     "iopub.status.busy": "2021-03-25T19:58:25.855558Z",
     "iopub.status.idle": "2021-03-25T19:58:25.865961Z",
     "shell.execute_reply": "2021-03-25T19:58:25.866303Z"
    },
    "papermill": {
     "duration": 0.02872,
     "end_time": "2021-03-25T19:58:25.866434",
     "exception": false,
     "start_time": "2021-03-25T19:58:25.837714",
     "status": "completed"
    },
    "tags": []
   },
   "outputs": [
    {
     "data": {
      "text/plain": [
       "(19730, 10)"
      ]
     },
     "execution_count": 10,
     "metadata": {},
     "output_type": "execute_result"
    }
   ],
   "source": [
    "deg_enrich.shape"
   ]
  },
  {
   "cell_type": "code",
   "execution_count": 11,
   "metadata": {
    "execution": {
     "iopub.execute_input": "2021-03-25T19:58:25.903472Z",
     "iopub.status.busy": "2021-03-25T19:58:25.903097Z",
     "iopub.status.idle": "2021-03-25T19:58:25.917159Z",
     "shell.execute_reply": "2021-03-25T19:58:25.916788Z"
    },
    "papermill": {
     "duration": 0.032748,
     "end_time": "2021-03-25T19:58:25.917246",
     "exception": false,
     "start_time": "2021-03-25T19:58:25.884498",
     "status": "completed"
    },
    "tags": []
   },
   "outputs": [
    {
     "data": {
      "text/html": [
       "<div>\n",
       "<style scoped>\n",
       "    .dataframe tbody tr th:only-of-type {\n",
       "        vertical-align: middle;\n",
       "    }\n",
       "\n",
       "    .dataframe tbody tr th {\n",
       "        vertical-align: top;\n",
       "    }\n",
       "\n",
       "    .dataframe thead th {\n",
       "        text-align: right;\n",
       "    }\n",
       "</style>\n",
       "<table border=\"1\" class=\"dataframe\">\n",
       "  <thead>\n",
       "    <tr style=\"text-align: right;\">\n",
       "      <th></th>\n",
       "      <th>pathway</th>\n",
       "      <th>pval</th>\n",
       "      <th>padj</th>\n",
       "      <th>log2err</th>\n",
       "      <th>ES</th>\n",
       "      <th>NES</th>\n",
       "      <th>size</th>\n",
       "      <th>leadingEdge</th>\n",
       "      <th>lv</th>\n",
       "      <th>rep_idx</th>\n",
       "    </tr>\n",
       "  </thead>\n",
       "  <tbody>\n",
       "    <tr>\n",
       "      <th>0</th>\n",
       "      <td>gene_set_decrease</td>\n",
       "      <td>0.184815</td>\n",
       "      <td>0.235764</td>\n",
       "      <td>0.095921</td>\n",
       "      <td>0.578418</td>\n",
       "      <td>1.126666</td>\n",
       "      <td>35</td>\n",
       "      <td>PTBP1,KEAP1,PEX14,DLST,PCYT2,MAD2L2,GLRX5,OGDH...</td>\n",
       "      <td>LV1</td>\n",
       "      <td>1</td>\n",
       "    </tr>\n",
       "    <tr>\n",
       "      <th>1</th>\n",
       "      <td>gene_set_increase</td>\n",
       "      <td>0.235764</td>\n",
       "      <td>0.235764</td>\n",
       "      <td>0.082205</td>\n",
       "      <td>0.539155</td>\n",
       "      <td>1.076511</td>\n",
       "      <td>63</td>\n",
       "      <td>CHERP,RANGAP1,HNRNPL,RPS2,E4F1,TAF1C,GATAD2A,S...</td>\n",
       "      <td>LV1</td>\n",
       "      <td>1</td>\n",
       "    </tr>\n",
       "    <tr>\n",
       "      <th>2</th>\n",
       "      <td>gene_set_decrease</td>\n",
       "      <td>0.198801</td>\n",
       "      <td>0.251748</td>\n",
       "      <td>0.091680</td>\n",
       "      <td>0.578418</td>\n",
       "      <td>1.123767</td>\n",
       "      <td>35</td>\n",
       "      <td>PTBP1,KEAP1,PEX14,DLST,PCYT2,MAD2L2,GLRX5,OGDH...</td>\n",
       "      <td>LV1</td>\n",
       "      <td>2</td>\n",
       "    </tr>\n",
       "    <tr>\n",
       "      <th>3</th>\n",
       "      <td>gene_set_increase</td>\n",
       "      <td>0.251748</td>\n",
       "      <td>0.251748</td>\n",
       "      <td>0.078711</td>\n",
       "      <td>0.539155</td>\n",
       "      <td>1.078565</td>\n",
       "      <td>63</td>\n",
       "      <td>CHERP,RANGAP1,HNRNPL,RPS2,E4F1,TAF1C,GATAD2A,S...</td>\n",
       "      <td>LV1</td>\n",
       "      <td>2</td>\n",
       "    </tr>\n",
       "    <tr>\n",
       "      <th>4</th>\n",
       "      <td>gene_set_decrease</td>\n",
       "      <td>0.162837</td>\n",
       "      <td>0.215784</td>\n",
       "      <td>0.103576</td>\n",
       "      <td>0.578418</td>\n",
       "      <td>1.137180</td>\n",
       "      <td>35</td>\n",
       "      <td>PTBP1,KEAP1,PEX14,DLST,PCYT2,MAD2L2,GLRX5,OGDH...</td>\n",
       "      <td>LV1</td>\n",
       "      <td>3</td>\n",
       "    </tr>\n",
       "  </tbody>\n",
       "</table>\n",
       "</div>"
      ],
      "text/plain": [
       "             pathway      pval      padj   log2err        ES       NES  size  \\\n",
       "0  gene_set_decrease  0.184815  0.235764  0.095921  0.578418  1.126666    35   \n",
       "1  gene_set_increase  0.235764  0.235764  0.082205  0.539155  1.076511    63   \n",
       "2  gene_set_decrease  0.198801  0.251748  0.091680  0.578418  1.123767    35   \n",
       "3  gene_set_increase  0.251748  0.251748  0.078711  0.539155  1.078565    63   \n",
       "4  gene_set_decrease  0.162837  0.215784  0.103576  0.578418  1.137180    35   \n",
       "\n",
       "                                         leadingEdge   lv  rep_idx  \n",
       "0  PTBP1,KEAP1,PEX14,DLST,PCYT2,MAD2L2,GLRX5,OGDH...  LV1        1  \n",
       "1  CHERP,RANGAP1,HNRNPL,RPS2,E4F1,TAF1C,GATAD2A,S...  LV1        1  \n",
       "2  PTBP1,KEAP1,PEX14,DLST,PCYT2,MAD2L2,GLRX5,OGDH...  LV1        2  \n",
       "3  CHERP,RANGAP1,HNRNPL,RPS2,E4F1,TAF1C,GATAD2A,S...  LV1        2  \n",
       "4  PTBP1,KEAP1,PEX14,DLST,PCYT2,MAD2L2,GLRX5,OGDH...  LV1        3  "
      ]
     },
     "execution_count": 11,
     "metadata": {},
     "output_type": "execute_result"
    }
   ],
   "source": [
    "deg_enrich.head()"
   ]
  },
  {
   "cell_type": "code",
   "execution_count": 12,
   "metadata": {
    "execution": {
     "iopub.execute_input": "2021-03-25T19:58:25.952662Z",
     "iopub.status.busy": "2021-03-25T19:58:25.952292Z",
     "iopub.status.idle": "2021-03-25T19:58:26.106584Z",
     "shell.execute_reply": "2021-03-25T19:58:26.106249Z"
    },
    "papermill": {
     "duration": 0.172409,
     "end_time": "2021-03-25T19:58:26.106669",
     "exception": false,
     "start_time": "2021-03-25T19:58:25.934260",
     "status": "completed"
    },
    "tags": []
   },
   "outputs": [],
   "source": [
    "deg_enrich_max_idx = deg_enrich.groupby([\"lv\", \"pathway\"])[\"padj\"].idxmax()"
   ]
  },
  {
   "cell_type": "code",
   "execution_count": 13,
   "metadata": {
    "execution": {
     "iopub.execute_input": "2021-03-25T19:58:26.142249Z",
     "iopub.status.busy": "2021-03-25T19:58:26.141876Z",
     "iopub.status.idle": "2021-03-25T19:58:26.157210Z",
     "shell.execute_reply": "2021-03-25T19:58:26.156828Z"
    },
    "papermill": {
     "duration": 0.034183,
     "end_time": "2021-03-25T19:58:26.157295",
     "exception": false,
     "start_time": "2021-03-25T19:58:26.123112",
     "status": "completed"
    },
    "tags": []
   },
   "outputs": [
    {
     "data": {
      "text/plain": [
       "(1973, 10)"
      ]
     },
     "metadata": {},
     "output_type": "display_data"
    },
    {
     "data": {
      "text/html": [
       "<div>\n",
       "<style scoped>\n",
       "    .dataframe tbody tr th:only-of-type {\n",
       "        vertical-align: middle;\n",
       "    }\n",
       "\n",
       "    .dataframe tbody tr th {\n",
       "        vertical-align: top;\n",
       "    }\n",
       "\n",
       "    .dataframe thead th {\n",
       "        text-align: right;\n",
       "    }\n",
       "</style>\n",
       "<table border=\"1\" class=\"dataframe\">\n",
       "  <thead>\n",
       "    <tr style=\"text-align: right;\">\n",
       "      <th></th>\n",
       "      <th>pathway</th>\n",
       "      <th>pval</th>\n",
       "      <th>padj</th>\n",
       "      <th>log2err</th>\n",
       "      <th>ES</th>\n",
       "      <th>NES</th>\n",
       "      <th>size</th>\n",
       "      <th>leadingEdge</th>\n",
       "      <th>lv</th>\n",
       "      <th>rep_idx</th>\n",
       "    </tr>\n",
       "  </thead>\n",
       "  <tbody>\n",
       "    <tr>\n",
       "      <th>0</th>\n",
       "      <td>gene_set_decrease</td>\n",
       "      <td>0.198801</td>\n",
       "      <td>0.251748</td>\n",
       "      <td>0.091680</td>\n",
       "      <td>0.578418</td>\n",
       "      <td>1.123767</td>\n",
       "      <td>35</td>\n",
       "      <td>PTBP1,KEAP1,PEX14,DLST,PCYT2,MAD2L2,GLRX5,OGDH...</td>\n",
       "      <td>LV1</td>\n",
       "      <td>2</td>\n",
       "    </tr>\n",
       "    <tr>\n",
       "      <th>1</th>\n",
       "      <td>gene_set_increase</td>\n",
       "      <td>0.251748</td>\n",
       "      <td>0.251748</td>\n",
       "      <td>0.078711</td>\n",
       "      <td>0.539155</td>\n",
       "      <td>1.078565</td>\n",
       "      <td>63</td>\n",
       "      <td>CHERP,RANGAP1,HNRNPL,RPS2,E4F1,TAF1C,GATAD2A,S...</td>\n",
       "      <td>LV1</td>\n",
       "      <td>2</td>\n",
       "    </tr>\n",
       "    <tr>\n",
       "      <th>2</th>\n",
       "      <td>gene_set_decrease</td>\n",
       "      <td>0.941059</td>\n",
       "      <td>1.000000</td>\n",
       "      <td>0.011418</td>\n",
       "      <td>0.434799</td>\n",
       "      <td>0.691607</td>\n",
       "      <td>20</td>\n",
       "      <td>VDR,ACVR1B,KEAP1,NDUFV2,PEX14,NDUFS3,WDR26</td>\n",
       "      <td>LV10</td>\n",
       "      <td>2</td>\n",
       "    </tr>\n",
       "    <tr>\n",
       "      <th>3</th>\n",
       "      <td>gene_set_increase</td>\n",
       "      <td>1.000000</td>\n",
       "      <td>1.000000</td>\n",
       "      <td>0.000000</td>\n",
       "      <td>0.236619</td>\n",
       "      <td>0.378164</td>\n",
       "      <td>25</td>\n",
       "      <td>USP39,SRP19,ZNF3,RPL18,RPS19,RAP1GDS1,CHD4,UBL...</td>\n",
       "      <td>LV10</td>\n",
       "      <td>2</td>\n",
       "    </tr>\n",
       "    <tr>\n",
       "      <th>4</th>\n",
       "      <td>gene_set_decrease</td>\n",
       "      <td>0.042957</td>\n",
       "      <td>0.085914</td>\n",
       "      <td>0.216543</td>\n",
       "      <td>0.831205</td>\n",
       "      <td>1.711885</td>\n",
       "      <td>27</td>\n",
       "      <td>NDUFB7,PTBP1,RRAGC,PPP2R2B,SQLE</td>\n",
       "      <td>LV100</td>\n",
       "      <td>6</td>\n",
       "    </tr>\n",
       "  </tbody>\n",
       "</table>\n",
       "</div>"
      ],
      "text/plain": [
       "             pathway      pval      padj   log2err        ES       NES  size  \\\n",
       "0  gene_set_decrease  0.198801  0.251748  0.091680  0.578418  1.123767    35   \n",
       "1  gene_set_increase  0.251748  0.251748  0.078711  0.539155  1.078565    63   \n",
       "2  gene_set_decrease  0.941059  1.000000  0.011418  0.434799  0.691607    20   \n",
       "3  gene_set_increase  1.000000  1.000000  0.000000  0.236619  0.378164    25   \n",
       "4  gene_set_decrease  0.042957  0.085914  0.216543  0.831205  1.711885    27   \n",
       "\n",
       "                                         leadingEdge     lv  rep_idx  \n",
       "0  PTBP1,KEAP1,PEX14,DLST,PCYT2,MAD2L2,GLRX5,OGDH...    LV1        2  \n",
       "1  CHERP,RANGAP1,HNRNPL,RPS2,E4F1,TAF1C,GATAD2A,S...    LV1        2  \n",
       "2         VDR,ACVR1B,KEAP1,NDUFV2,PEX14,NDUFS3,WDR26   LV10        2  \n",
       "3  USP39,SRP19,ZNF3,RPL18,RPS19,RAP1GDS1,CHD4,UBL...   LV10        2  \n",
       "4                    NDUFB7,PTBP1,RRAGC,PPP2R2B,SQLE  LV100        6  "
      ]
     },
     "metadata": {},
     "output_type": "display_data"
    }
   ],
   "source": [
    "deg_enrich = deg_enrich.loc[deg_enrich_max_idx].reset_index(drop=True)\n",
    "display(deg_enrich.shape)\n",
    "display(deg_enrich.head())"
   ]
  },
  {
   "cell_type": "markdown",
   "metadata": {
    "papermill": {
     "duration": 0.017012,
     "end_time": "2021-03-25T19:58:26.192119",
     "exception": false,
     "start_time": "2021-03-25T19:58:26.175107",
     "status": "completed"
    },
    "tags": []
   },
   "source": [
    "## MultiPLIER summary"
   ]
  },
  {
   "cell_type": "code",
   "execution_count": 14,
   "metadata": {
    "execution": {
     "iopub.execute_input": "2021-03-25T19:58:26.228464Z",
     "iopub.status.busy": "2021-03-25T19:58:26.228091Z",
     "iopub.status.idle": "2021-03-25T19:58:26.237306Z",
     "shell.execute_reply": "2021-03-25T19:58:26.236886Z"
    },
    "papermill": {
     "duration": 0.028461,
     "end_time": "2021-03-25T19:58:26.237390",
     "exception": false,
     "start_time": "2021-03-25T19:58:26.208929",
     "status": "completed"
    },
    "tags": []
   },
   "outputs": [],
   "source": [
    "multiplier_model_summary = read_data(conf.MULTIPLIER[\"MODEL_SUMMARY_FILE\"])"
   ]
  },
  {
   "cell_type": "code",
   "execution_count": 15,
   "metadata": {
    "execution": {
     "iopub.execute_input": "2021-03-25T19:58:26.275277Z",
     "iopub.status.busy": "2021-03-25T19:58:26.274924Z",
     "iopub.status.idle": "2021-03-25T19:58:26.282725Z",
     "shell.execute_reply": "2021-03-25T19:58:26.282429Z"
    },
    "papermill": {
     "duration": 0.027568,
     "end_time": "2021-03-25T19:58:26.282809",
     "exception": false,
     "start_time": "2021-03-25T19:58:26.255241",
     "status": "completed"
    },
    "tags": []
   },
   "outputs": [
    {
     "data": {
      "text/plain": [
       "(2157, 5)"
      ]
     },
     "execution_count": 15,
     "metadata": {},
     "output_type": "execute_result"
    }
   ],
   "source": [
    "multiplier_model_summary.shape"
   ]
  },
  {
   "cell_type": "code",
   "execution_count": 16,
   "metadata": {
    "execution": {
     "iopub.execute_input": "2021-03-25T19:58:26.320236Z",
     "iopub.status.busy": "2021-03-25T19:58:26.319881Z",
     "iopub.status.idle": "2021-03-25T19:58:26.331580Z",
     "shell.execute_reply": "2021-03-25T19:58:26.331235Z"
    },
    "papermill": {
     "duration": 0.031335,
     "end_time": "2021-03-25T19:58:26.331663",
     "exception": false,
     "start_time": "2021-03-25T19:58:26.300328",
     "status": "completed"
    },
    "tags": []
   },
   "outputs": [
    {
     "data": {
      "text/html": [
       "<div>\n",
       "<style scoped>\n",
       "    .dataframe tbody tr th:only-of-type {\n",
       "        vertical-align: middle;\n",
       "    }\n",
       "\n",
       "    .dataframe tbody tr th {\n",
       "        vertical-align: top;\n",
       "    }\n",
       "\n",
       "    .dataframe thead th {\n",
       "        text-align: right;\n",
       "    }\n",
       "</style>\n",
       "<table border=\"1\" class=\"dataframe\">\n",
       "  <thead>\n",
       "    <tr style=\"text-align: right;\">\n",
       "      <th></th>\n",
       "      <th>pathway</th>\n",
       "      <th>LV index</th>\n",
       "      <th>AUC</th>\n",
       "      <th>p-value</th>\n",
       "      <th>FDR</th>\n",
       "    </tr>\n",
       "  </thead>\n",
       "  <tbody>\n",
       "    <tr>\n",
       "      <th>1</th>\n",
       "      <td>KEGG_LYSINE_DEGRADATION</td>\n",
       "      <td>1</td>\n",
       "      <td>0.388059</td>\n",
       "      <td>0.866078</td>\n",
       "      <td>0.956005</td>\n",
       "    </tr>\n",
       "    <tr>\n",
       "      <th>2</th>\n",
       "      <td>REACTOME_MRNA_SPLICING</td>\n",
       "      <td>1</td>\n",
       "      <td>0.733057</td>\n",
       "      <td>0.000048</td>\n",
       "      <td>0.000582</td>\n",
       "    </tr>\n",
       "    <tr>\n",
       "      <th>3</th>\n",
       "      <td>MIPS_NOP56P_ASSOCIATED_PRE_RRNA_COMPLEX</td>\n",
       "      <td>1</td>\n",
       "      <td>0.680555</td>\n",
       "      <td>0.001628</td>\n",
       "      <td>0.011366</td>\n",
       "    </tr>\n",
       "    <tr>\n",
       "      <th>4</th>\n",
       "      <td>KEGG_DNA_REPLICATION</td>\n",
       "      <td>1</td>\n",
       "      <td>0.549473</td>\n",
       "      <td>0.312155</td>\n",
       "      <td>0.539951</td>\n",
       "    </tr>\n",
       "    <tr>\n",
       "      <th>5</th>\n",
       "      <td>PID_MYC_ACTIVPATHWAY</td>\n",
       "      <td>1</td>\n",
       "      <td>0.639303</td>\n",
       "      <td>0.021702</td>\n",
       "      <td>0.083739</td>\n",
       "    </tr>\n",
       "  </tbody>\n",
       "</table>\n",
       "</div>"
      ],
      "text/plain": [
       "                                   pathway LV index       AUC   p-value  \\\n",
       "1                  KEGG_LYSINE_DEGRADATION        1  0.388059  0.866078   \n",
       "2                   REACTOME_MRNA_SPLICING        1  0.733057  0.000048   \n",
       "3  MIPS_NOP56P_ASSOCIATED_PRE_RRNA_COMPLEX        1  0.680555  0.001628   \n",
       "4                     KEGG_DNA_REPLICATION        1  0.549473  0.312155   \n",
       "5                     PID_MYC_ACTIVPATHWAY        1  0.639303  0.021702   \n",
       "\n",
       "        FDR  \n",
       "1  0.956005  \n",
       "2  0.000582  \n",
       "3  0.011366  \n",
       "4  0.539951  \n",
       "5  0.083739  "
      ]
     },
     "execution_count": 16,
     "metadata": {},
     "output_type": "execute_result"
    }
   ],
   "source": [
    "multiplier_model_summary.head()"
   ]
  },
  {
   "cell_type": "markdown",
   "metadata": {
    "papermill": {
     "duration": 0.017682,
     "end_time": "2021-03-25T19:58:26.367484",
     "exception": false,
     "start_time": "2021-03-25T19:58:26.349802",
     "status": "completed"
    },
    "tags": []
   },
   "source": [
    "# Analysis"
   ]
  },
  {
   "cell_type": "code",
   "execution_count": 17,
   "metadata": {
    "execution": {
     "iopub.execute_input": "2021-03-25T19:58:26.404053Z",
     "iopub.status.busy": "2021-03-25T19:58:26.403697Z",
     "iopub.status.idle": "2021-03-25T19:58:26.412807Z",
     "shell.execute_reply": "2021-03-25T19:58:26.412399Z"
    },
    "papermill": {
     "duration": 0.028585,
     "end_time": "2021-03-25T19:58:26.412885",
     "exception": false,
     "start_time": "2021-03-25T19:58:26.384300",
     "status": "completed"
    },
    "tags": []
   },
   "outputs": [],
   "source": [
    "df = deg_enrich[\n",
    "    deg_enrich[\"pathway\"].isin((LIPIDS_GENE_SET,)) & (deg_enrich[\"padj\"] < 0.05)\n",
    "].sort_values(\"padj\", ascending=True)"
   ]
  },
  {
   "cell_type": "code",
   "execution_count": 18,
   "metadata": {
    "execution": {
     "iopub.execute_input": "2021-03-25T19:58:26.449914Z",
     "iopub.status.busy": "2021-03-25T19:58:26.449555Z",
     "iopub.status.idle": "2021-03-25T19:58:26.457849Z",
     "shell.execute_reply": "2021-03-25T19:58:26.457489Z"
    },
    "papermill": {
     "duration": 0.027868,
     "end_time": "2021-03-25T19:58:26.457929",
     "exception": false,
     "start_time": "2021-03-25T19:58:26.430061",
     "status": "completed"
    },
    "tags": []
   },
   "outputs": [
    {
     "data": {
      "text/plain": [
       "(24, 10)"
      ]
     },
     "execution_count": 18,
     "metadata": {},
     "output_type": "execute_result"
    }
   ],
   "source": [
    "df.shape"
   ]
  },
  {
   "cell_type": "code",
   "execution_count": 19,
   "metadata": {
    "execution": {
     "iopub.execute_input": "2021-03-25T19:58:26.495847Z",
     "iopub.status.busy": "2021-03-25T19:58:26.495495Z",
     "iopub.status.idle": "2021-03-25T19:58:26.512204Z",
     "shell.execute_reply": "2021-03-25T19:58:26.511825Z"
    },
    "papermill": {
     "duration": 0.036619,
     "end_time": "2021-03-25T19:58:26.512290",
     "exception": false,
     "start_time": "2021-03-25T19:58:26.475671",
     "status": "completed"
    },
    "tags": []
   },
   "outputs": [
    {
     "data": {
      "text/html": [
       "<div>\n",
       "<style scoped>\n",
       "    .dataframe tbody tr th:only-of-type {\n",
       "        vertical-align: middle;\n",
       "    }\n",
       "\n",
       "    .dataframe tbody tr th {\n",
       "        vertical-align: top;\n",
       "    }\n",
       "\n",
       "    .dataframe thead th {\n",
       "        text-align: right;\n",
       "    }\n",
       "</style>\n",
       "<table border=\"1\" class=\"dataframe\">\n",
       "  <thead>\n",
       "    <tr style=\"text-align: right;\">\n",
       "      <th></th>\n",
       "      <th>pathway</th>\n",
       "      <th>pval</th>\n",
       "      <th>padj</th>\n",
       "      <th>log2err</th>\n",
       "      <th>ES</th>\n",
       "      <th>NES</th>\n",
       "      <th>size</th>\n",
       "      <th>leadingEdge</th>\n",
       "      <th>lv</th>\n",
       "      <th>rep_idx</th>\n",
       "    </tr>\n",
       "  </thead>\n",
       "  <tbody>\n",
       "    <tr>\n",
       "      <th>1283</th>\n",
       "      <td>gene_set_decrease</td>\n",
       "      <td>2.605291e-07</td>\n",
       "      <td>5.210582e-07</td>\n",
       "      <td>0.674963</td>\n",
       "      <td>0.858542</td>\n",
       "      <td>1.636153</td>\n",
       "      <td>43</td>\n",
       "      <td>NDUFA4,COX6A1,ATP5O,NDUFB10,COX5A,NDUFS3,NDUFB...</td>\n",
       "      <td>LV678</td>\n",
       "      <td>3</td>\n",
       "    </tr>\n",
       "    <tr>\n",
       "      <th>1199</th>\n",
       "      <td>gene_set_decrease</td>\n",
       "      <td>1.205740e-03</td>\n",
       "      <td>2.411481e-03</td>\n",
       "      <td>0.455060</td>\n",
       "      <td>0.753059</td>\n",
       "      <td>1.430708</td>\n",
       "      <td>35</td>\n",
       "      <td>PEX14,COX17,NDUFS3,ATP5O,COX6A1,DLST,NDUFB7,ND...</td>\n",
       "      <td>LV64</td>\n",
       "      <td>2</td>\n",
       "    </tr>\n",
       "    <tr>\n",
       "      <th>1769</th>\n",
       "      <td>gene_set_decrease</td>\n",
       "      <td>1.610715e-03</td>\n",
       "      <td>3.221430e-03</td>\n",
       "      <td>0.455060</td>\n",
       "      <td>0.807492</td>\n",
       "      <td>1.596196</td>\n",
       "      <td>25</td>\n",
       "      <td>NDUFA4,PEX14,STX18,OGDH,COX6A1,COX17,PIK3R1,ND...</td>\n",
       "      <td>LV897</td>\n",
       "      <td>3</td>\n",
       "    </tr>\n",
       "    <tr>\n",
       "      <th>1055</th>\n",
       "      <td>gene_set_decrease</td>\n",
       "      <td>4.275828e-03</td>\n",
       "      <td>8.551656e-03</td>\n",
       "      <td>0.407018</td>\n",
       "      <td>0.897219</td>\n",
       "      <td>1.742375</td>\n",
       "      <td>23</td>\n",
       "      <td>CSK,MRPS12</td>\n",
       "      <td>LV575</td>\n",
       "      <td>4</td>\n",
       "    </tr>\n",
       "    <tr>\n",
       "      <th>1413</th>\n",
       "      <td>gene_set_decrease</td>\n",
       "      <td>5.763040e-03</td>\n",
       "      <td>1.152608e-02</td>\n",
       "      <td>0.407018</td>\n",
       "      <td>0.936411</td>\n",
       "      <td>1.741728</td>\n",
       "      <td>19</td>\n",
       "      <td>COX7C,NDUFS6,FLCN,COX5A,NDUFS2</td>\n",
       "      <td>LV736</td>\n",
       "      <td>3</td>\n",
       "    </tr>\n",
       "    <tr>\n",
       "      <th>128</th>\n",
       "      <td>gene_set_decrease</td>\n",
       "      <td>1.292810e-02</td>\n",
       "      <td>2.585620e-02</td>\n",
       "      <td>0.380730</td>\n",
       "      <td>0.956940</td>\n",
       "      <td>1.978260</td>\n",
       "      <td>23</td>\n",
       "      <td>NDUFV2,PEX14</td>\n",
       "      <td>LV157</td>\n",
       "      <td>10</td>\n",
       "    </tr>\n",
       "    <tr>\n",
       "      <th>716</th>\n",
       "      <td>gene_set_decrease</td>\n",
       "      <td>1.292810e-02</td>\n",
       "      <td>2.585620e-02</td>\n",
       "      <td>0.380730</td>\n",
       "      <td>0.895733</td>\n",
       "      <td>1.629462</td>\n",
       "      <td>24</td>\n",
       "      <td>PPP2R2B,MAD2L2,NDUFB7,NDUFA4,ATP5O,NDUFB10,COX...</td>\n",
       "      <td>LV421</td>\n",
       "      <td>6</td>\n",
       "    </tr>\n",
       "    <tr>\n",
       "      <th>819</th>\n",
       "      <td>gene_set_decrease</td>\n",
       "      <td>1.382484e-02</td>\n",
       "      <td>2.764968e-02</td>\n",
       "      <td>0.380730</td>\n",
       "      <td>0.861892</td>\n",
       "      <td>1.603471</td>\n",
       "      <td>20</td>\n",
       "      <td>UBE2J2,NDUFS6,NDUFB3,KEAP1,VDR</td>\n",
       "      <td>LV469</td>\n",
       "      <td>3</td>\n",
       "    </tr>\n",
       "    <tr>\n",
       "      <th>336</th>\n",
       "      <td>gene_set_decrease</td>\n",
       "      <td>1.427321e-02</td>\n",
       "      <td>2.854642e-02</td>\n",
       "      <td>0.380730</td>\n",
       "      <td>0.943348</td>\n",
       "      <td>1.766959</td>\n",
       "      <td>20</td>\n",
       "      <td>PNPLA2,STX18,SQLE</td>\n",
       "      <td>LV250</td>\n",
       "      <td>3</td>\n",
       "    </tr>\n",
       "    <tr>\n",
       "      <th>714</th>\n",
       "      <td>gene_set_decrease</td>\n",
       "      <td>1.487103e-02</td>\n",
       "      <td>2.974207e-02</td>\n",
       "      <td>0.380730</td>\n",
       "      <td>0.868343</td>\n",
       "      <td>1.592683</td>\n",
       "      <td>25</td>\n",
       "      <td>VDR,UBE2J2,NDUFB9,TAOK1,ATP5O,NDUFA4,NDUFV2</td>\n",
       "      <td>LV420</td>\n",
       "      <td>4</td>\n",
       "    </tr>\n",
       "    <tr>\n",
       "      <th>1017</th>\n",
       "      <td>gene_set_decrease</td>\n",
       "      <td>1.547033e-02</td>\n",
       "      <td>3.094066e-02</td>\n",
       "      <td>0.380730</td>\n",
       "      <td>0.895892</td>\n",
       "      <td>1.812439</td>\n",
       "      <td>29</td>\n",
       "      <td>AGPAT3,UBE2J2,MBOAT1,COX7C,NDUFS6</td>\n",
       "      <td>LV558</td>\n",
       "      <td>3</td>\n",
       "    </tr>\n",
       "    <tr>\n",
       "      <th>1179</th>\n",
       "      <td>gene_set_decrease</td>\n",
       "      <td>1.577072e-02</td>\n",
       "      <td>3.154143e-02</td>\n",
       "      <td>0.352488</td>\n",
       "      <td>0.832996</td>\n",
       "      <td>1.606757</td>\n",
       "      <td>24</td>\n",
       "      <td>TP53,COX5A,NDUFB10,NDUFA4,SQLE,MAD2L2</td>\n",
       "      <td>LV630</td>\n",
       "      <td>2</td>\n",
       "    </tr>\n",
       "    <tr>\n",
       "      <th>1445</th>\n",
       "      <td>gene_set_decrease</td>\n",
       "      <td>3.169719e-02</td>\n",
       "      <td>3.169719e-02</td>\n",
       "      <td>0.321776</td>\n",
       "      <td>0.804644</td>\n",
       "      <td>1.284151</td>\n",
       "      <td>26</td>\n",
       "      <td>NDUFA4,ATP5O,COX6A1,COX17,NDUFB4,NDUFB9,NDUFB3...</td>\n",
       "      <td>LV750</td>\n",
       "      <td>2</td>\n",
       "    </tr>\n",
       "    <tr>\n",
       "      <th>1971</th>\n",
       "      <td>gene_set_decrease</td>\n",
       "      <td>1.637149e-02</td>\n",
       "      <td>3.274298e-02</td>\n",
       "      <td>0.352488</td>\n",
       "      <td>0.987631</td>\n",
       "      <td>2.009690</td>\n",
       "      <td>14</td>\n",
       "      <td>EGLN1,CTNNB1</td>\n",
       "      <td>LV99</td>\n",
       "      <td>8</td>\n",
       "    </tr>\n",
       "    <tr>\n",
       "      <th>1279</th>\n",
       "      <td>gene_set_decrease</td>\n",
       "      <td>1.727265e-02</td>\n",
       "      <td>3.454529e-02</td>\n",
       "      <td>0.352488</td>\n",
       "      <td>0.716031</td>\n",
       "      <td>1.493468</td>\n",
       "      <td>28</td>\n",
       "      <td>ABHD5,NDUFS3,PPP2R2B,MAD2L2,DDX3X,NDUFB7,STX18...</td>\n",
       "      <td>LV676</td>\n",
       "      <td>2</td>\n",
       "    </tr>\n",
       "    <tr>\n",
       "      <th>1499</th>\n",
       "      <td>gene_set_decrease</td>\n",
       "      <td>3.496503e-02</td>\n",
       "      <td>3.496503e-02</td>\n",
       "      <td>0.241340</td>\n",
       "      <td>0.818808</td>\n",
       "      <td>1.546869</td>\n",
       "      <td>26</td>\n",
       "      <td>NDUFS3,NDUFS6,MAD2L2,COX6A1,COX17</td>\n",
       "      <td>LV775</td>\n",
       "      <td>1</td>\n",
       "    </tr>\n",
       "    <tr>\n",
       "      <th>72</th>\n",
       "      <td>gene_set_decrease</td>\n",
       "      <td>1.907497e-02</td>\n",
       "      <td>3.814993e-02</td>\n",
       "      <td>0.352488</td>\n",
       "      <td>0.710666</td>\n",
       "      <td>1.279065</td>\n",
       "      <td>32</td>\n",
       "      <td>PCYT2,NDUFV2,PEX14,KEAP1,OGDH,STX18,DLST,DDX3X...</td>\n",
       "      <td>LV131</td>\n",
       "      <td>2</td>\n",
       "    </tr>\n",
       "    <tr>\n",
       "      <th>220</th>\n",
       "      <td>gene_set_decrease</td>\n",
       "      <td>1.997613e-02</td>\n",
       "      <td>3.995226e-02</td>\n",
       "      <td>0.352488</td>\n",
       "      <td>0.871793</td>\n",
       "      <td>1.683806</td>\n",
       "      <td>23</td>\n",
       "      <td>NDUFS6,FBXW7,CSGALNACT1,TCF7L2,KEAP1,COX7C</td>\n",
       "      <td>LV199</td>\n",
       "      <td>7</td>\n",
       "    </tr>\n",
       "    <tr>\n",
       "      <th>1767</th>\n",
       "      <td>gene_set_decrease</td>\n",
       "      <td>2.117768e-02</td>\n",
       "      <td>4.235536e-02</td>\n",
       "      <td>0.352488</td>\n",
       "      <td>0.783852</td>\n",
       "      <td>1.390520</td>\n",
       "      <td>28</td>\n",
       "      <td>MBNL3,WDR26,GLRX5,FBXW7</td>\n",
       "      <td>LV896</td>\n",
       "      <td>8</td>\n",
       "    </tr>\n",
       "    <tr>\n",
       "      <th>1517</th>\n",
       "      <td>gene_set_decrease</td>\n",
       "      <td>2.177845e-02</td>\n",
       "      <td>4.256451e-02</td>\n",
       "      <td>0.352488</td>\n",
       "      <td>0.841880</td>\n",
       "      <td>1.701069</td>\n",
       "      <td>24</td>\n",
       "      <td>RRAGC,ATP5O,TCF7L2</td>\n",
       "      <td>LV783</td>\n",
       "      <td>8</td>\n",
       "    </tr>\n",
       "    <tr>\n",
       "      <th>815</th>\n",
       "      <td>gene_set_decrease</td>\n",
       "      <td>4.495504e-02</td>\n",
       "      <td>4.495504e-02</td>\n",
       "      <td>0.211400</td>\n",
       "      <td>0.823649</td>\n",
       "      <td>1.598942</td>\n",
       "      <td>24</td>\n",
       "      <td>NDUFB7,PTBP1,VDR,FLCN,NDUFS2</td>\n",
       "      <td>LV467</td>\n",
       "      <td>4</td>\n",
       "    </tr>\n",
       "    <tr>\n",
       "      <th>883</th>\n",
       "      <td>gene_set_decrease</td>\n",
       "      <td>2.267962e-02</td>\n",
       "      <td>4.535923e-02</td>\n",
       "      <td>0.352488</td>\n",
       "      <td>0.882188</td>\n",
       "      <td>1.665072</td>\n",
       "      <td>29</td>\n",
       "      <td>QRSL1,NDUFS6,NDUFS3,TP53</td>\n",
       "      <td>LV498</td>\n",
       "      <td>6</td>\n",
       "    </tr>\n",
       "    <tr>\n",
       "      <th>923</th>\n",
       "      <td>gene_set_decrease</td>\n",
       "      <td>4.795205e-02</td>\n",
       "      <td>4.795205e-02</td>\n",
       "      <td>0.204295</td>\n",
       "      <td>0.840434</td>\n",
       "      <td>1.756068</td>\n",
       "      <td>21</td>\n",
       "      <td>TP53,COX17</td>\n",
       "      <td>LV515</td>\n",
       "      <td>6</td>\n",
       "    </tr>\n",
       "    <tr>\n",
       "      <th>542</th>\n",
       "      <td>gene_set_decrease</td>\n",
       "      <td>2.478233e-02</td>\n",
       "      <td>4.956467e-02</td>\n",
       "      <td>0.352488</td>\n",
       "      <td>0.928797</td>\n",
       "      <td>1.714716</td>\n",
       "      <td>18</td>\n",
       "      <td>ZKSCAN3,NAA38,NDUFB3,NDUFB10,ACVR1B</td>\n",
       "      <td>LV343</td>\n",
       "      <td>4</td>\n",
       "    </tr>\n",
       "  </tbody>\n",
       "</table>\n",
       "</div>"
      ],
      "text/plain": [
       "                pathway          pval          padj   log2err        ES  \\\n",
       "1283  gene_set_decrease  2.605291e-07  5.210582e-07  0.674963  0.858542   \n",
       "1199  gene_set_decrease  1.205740e-03  2.411481e-03  0.455060  0.753059   \n",
       "1769  gene_set_decrease  1.610715e-03  3.221430e-03  0.455060  0.807492   \n",
       "1055  gene_set_decrease  4.275828e-03  8.551656e-03  0.407018  0.897219   \n",
       "1413  gene_set_decrease  5.763040e-03  1.152608e-02  0.407018  0.936411   \n",
       "128   gene_set_decrease  1.292810e-02  2.585620e-02  0.380730  0.956940   \n",
       "716   gene_set_decrease  1.292810e-02  2.585620e-02  0.380730  0.895733   \n",
       "819   gene_set_decrease  1.382484e-02  2.764968e-02  0.380730  0.861892   \n",
       "336   gene_set_decrease  1.427321e-02  2.854642e-02  0.380730  0.943348   \n",
       "714   gene_set_decrease  1.487103e-02  2.974207e-02  0.380730  0.868343   \n",
       "1017  gene_set_decrease  1.547033e-02  3.094066e-02  0.380730  0.895892   \n",
       "1179  gene_set_decrease  1.577072e-02  3.154143e-02  0.352488  0.832996   \n",
       "1445  gene_set_decrease  3.169719e-02  3.169719e-02  0.321776  0.804644   \n",
       "1971  gene_set_decrease  1.637149e-02  3.274298e-02  0.352488  0.987631   \n",
       "1279  gene_set_decrease  1.727265e-02  3.454529e-02  0.352488  0.716031   \n",
       "1499  gene_set_decrease  3.496503e-02  3.496503e-02  0.241340  0.818808   \n",
       "72    gene_set_decrease  1.907497e-02  3.814993e-02  0.352488  0.710666   \n",
       "220   gene_set_decrease  1.997613e-02  3.995226e-02  0.352488  0.871793   \n",
       "1767  gene_set_decrease  2.117768e-02  4.235536e-02  0.352488  0.783852   \n",
       "1517  gene_set_decrease  2.177845e-02  4.256451e-02  0.352488  0.841880   \n",
       "815   gene_set_decrease  4.495504e-02  4.495504e-02  0.211400  0.823649   \n",
       "883   gene_set_decrease  2.267962e-02  4.535923e-02  0.352488  0.882188   \n",
       "923   gene_set_decrease  4.795205e-02  4.795205e-02  0.204295  0.840434   \n",
       "542   gene_set_decrease  2.478233e-02  4.956467e-02  0.352488  0.928797   \n",
       "\n",
       "           NES  size                                        leadingEdge  \\\n",
       "1283  1.636153    43  NDUFA4,COX6A1,ATP5O,NDUFB10,COX5A,NDUFS3,NDUFB...   \n",
       "1199  1.430708    35  PEX14,COX17,NDUFS3,ATP5O,COX6A1,DLST,NDUFB7,ND...   \n",
       "1769  1.596196    25  NDUFA4,PEX14,STX18,OGDH,COX6A1,COX17,PIK3R1,ND...   \n",
       "1055  1.742375    23                                         CSK,MRPS12   \n",
       "1413  1.741728    19                     COX7C,NDUFS6,FLCN,COX5A,NDUFS2   \n",
       "128   1.978260    23                                       NDUFV2,PEX14   \n",
       "716   1.629462    24  PPP2R2B,MAD2L2,NDUFB7,NDUFA4,ATP5O,NDUFB10,COX...   \n",
       "819   1.603471    20                     UBE2J2,NDUFS6,NDUFB3,KEAP1,VDR   \n",
       "336   1.766959    20                                  PNPLA2,STX18,SQLE   \n",
       "714   1.592683    25        VDR,UBE2J2,NDUFB9,TAOK1,ATP5O,NDUFA4,NDUFV2   \n",
       "1017  1.812439    29                  AGPAT3,UBE2J2,MBOAT1,COX7C,NDUFS6   \n",
       "1179  1.606757    24              TP53,COX5A,NDUFB10,NDUFA4,SQLE,MAD2L2   \n",
       "1445  1.284151    26  NDUFA4,ATP5O,COX6A1,COX17,NDUFB4,NDUFB9,NDUFB3...   \n",
       "1971  2.009690    14                                       EGLN1,CTNNB1   \n",
       "1279  1.493468    28  ABHD5,NDUFS3,PPP2R2B,MAD2L2,DDX3X,NDUFB7,STX18...   \n",
       "1499  1.546869    26                  NDUFS3,NDUFS6,MAD2L2,COX6A1,COX17   \n",
       "72    1.279065    32  PCYT2,NDUFV2,PEX14,KEAP1,OGDH,STX18,DLST,DDX3X...   \n",
       "220   1.683806    23         NDUFS6,FBXW7,CSGALNACT1,TCF7L2,KEAP1,COX7C   \n",
       "1767  1.390520    28                            MBNL3,WDR26,GLRX5,FBXW7   \n",
       "1517  1.701069    24                                 RRAGC,ATP5O,TCF7L2   \n",
       "815   1.598942    24                       NDUFB7,PTBP1,VDR,FLCN,NDUFS2   \n",
       "883   1.665072    29                           QRSL1,NDUFS6,NDUFS3,TP53   \n",
       "923   1.756068    21                                         TP53,COX17   \n",
       "542   1.714716    18                ZKSCAN3,NAA38,NDUFB3,NDUFB10,ACVR1B   \n",
       "\n",
       "         lv  rep_idx  \n",
       "1283  LV678        3  \n",
       "1199   LV64        2  \n",
       "1769  LV897        3  \n",
       "1055  LV575        4  \n",
       "1413  LV736        3  \n",
       "128   LV157       10  \n",
       "716   LV421        6  \n",
       "819   LV469        3  \n",
       "336   LV250        3  \n",
       "714   LV420        4  \n",
       "1017  LV558        3  \n",
       "1179  LV630        2  \n",
       "1445  LV750        2  \n",
       "1971   LV99        8  \n",
       "1279  LV676        2  \n",
       "1499  LV775        1  \n",
       "72    LV131        2  \n",
       "220   LV199        7  \n",
       "1767  LV896        8  \n",
       "1517  LV783        8  \n",
       "815   LV467        4  \n",
       "883   LV498        6  \n",
       "923   LV515        6  \n",
       "542   LV343        4  "
      ]
     },
     "execution_count": 19,
     "metadata": {},
     "output_type": "execute_result"
    }
   ],
   "source": [
    "df"
   ]
  },
  {
   "cell_type": "code",
   "execution_count": 20,
   "metadata": {
    "execution": {
     "iopub.execute_input": "2021-03-25T19:58:26.551893Z",
     "iopub.status.busy": "2021-03-25T19:58:26.551536Z",
     "iopub.status.idle": "2021-03-25T19:58:26.558967Z",
     "shell.execute_reply": "2021-03-25T19:58:26.558599Z"
    },
    "papermill": {
     "duration": 0.027961,
     "end_time": "2021-03-25T19:58:26.559051",
     "exception": false,
     "start_time": "2021-03-25T19:58:26.531090",
     "status": "completed"
    },
    "tags": []
   },
   "outputs": [],
   "source": [
    "important_lvs = df[\"lv\"].unique()"
   ]
  },
  {
   "cell_type": "code",
   "execution_count": 21,
   "metadata": {
    "execution": {
     "iopub.execute_input": "2021-03-25T19:58:26.599450Z",
     "iopub.status.busy": "2021-03-25T19:58:26.599095Z",
     "iopub.status.idle": "2021-03-25T19:58:26.607707Z",
     "shell.execute_reply": "2021-03-25T19:58:26.607340Z"
    },
    "papermill": {
     "duration": 0.029637,
     "end_time": "2021-03-25T19:58:26.607790",
     "exception": false,
     "start_time": "2021-03-25T19:58:26.578153",
     "status": "completed"
    },
    "tags": []
   },
   "outputs": [
    {
     "data": {
      "text/plain": [
       "(24,)"
      ]
     },
     "metadata": {},
     "output_type": "display_data"
    }
   ],
   "source": [
    "display(important_lvs.shape)\n",
    "assert important_lvs.shape[0] == 24"
   ]
  },
  {
   "cell_type": "code",
   "execution_count": 22,
   "metadata": {
    "execution": {
     "iopub.execute_input": "2021-03-25T19:58:26.648276Z",
     "iopub.status.busy": "2021-03-25T19:58:26.647908Z",
     "iopub.status.idle": "2021-03-25T19:58:26.655590Z",
     "shell.execute_reply": "2021-03-25T19:58:26.655865Z"
    },
    "papermill": {
     "duration": 0.028851,
     "end_time": "2021-03-25T19:58:26.655968",
     "exception": false,
     "start_time": "2021-03-25T19:58:26.627117",
     "status": "completed"
    },
    "tags": []
   },
   "outputs": [
    {
     "data": {
      "text/plain": [
       "array(['LV678', 'LV64', 'LV897', 'LV575', 'LV736', 'LV157', 'LV421',\n",
       "       'LV469', 'LV250', 'LV420', 'LV558', 'LV630', 'LV750', 'LV99',\n",
       "       'LV676', 'LV775', 'LV131', 'LV199', 'LV896', 'LV783', 'LV467',\n",
       "       'LV498', 'LV515', 'LV343'], dtype=object)"
      ]
     },
     "execution_count": 22,
     "metadata": {},
     "output_type": "execute_result"
    }
   ],
   "source": [
    "important_lvs"
   ]
  },
  {
   "cell_type": "markdown",
   "metadata": {
    "papermill": {
     "duration": 0.018895,
     "end_time": "2021-03-25T19:58:26.694297",
     "exception": false,
     "start_time": "2021-03-25T19:58:26.675402",
     "status": "completed"
    },
    "tags": []
   },
   "source": [
    "# Get top traits and pathways"
   ]
  },
  {
   "cell_type": "code",
   "execution_count": 23,
   "metadata": {
    "execution": {
     "iopub.execute_input": "2021-03-25T19:58:26.734532Z",
     "iopub.status.busy": "2021-03-25T19:58:26.734154Z",
     "iopub.status.idle": "2021-03-25T19:58:26.774916Z",
     "shell.execute_reply": "2021-03-25T19:58:26.774539Z"
    },
    "papermill": {
     "duration": 0.062072,
     "end_time": "2021-03-25T19:58:26.774996",
     "exception": false,
     "start_time": "2021-03-25T19:58:26.712924",
     "status": "completed"
    },
    "tags": []
   },
   "outputs": [],
   "source": [
    "pathways = []\n",
    "traits = []\n",
    "\n",
    "for lv in important_lvs:\n",
    "    _tmp = multiplier_model_summary[\n",
    "        (multiplier_model_summary[\"LV index\"] == lv[2:])\n",
    "        & (\n",
    "            (multiplier_model_summary[\"FDR\"] < 0.05)\n",
    "            | (multiplier_model_summary[\"AUC\"] > 0.75)\n",
    "        )\n",
    "    ]\n",
    "    pathways.extend(_tmp[\"pathway\"].tolist())\n",
    "\n",
    "    _tmp = phenomexcan_data[lv]\n",
    "    _tmp = _tmp[_tmp > 0.0].sort_values(ascending=False)\n",
    "\n",
    "    #     _tmp = _tmp.head(50)\n",
    "    traits.append(_tmp)"
   ]
  },
  {
   "cell_type": "markdown",
   "metadata": {
    "papermill": {
     "duration": 0.018237,
     "end_time": "2021-03-25T19:58:26.811809",
     "exception": false,
     "start_time": "2021-03-25T19:58:26.793572",
     "status": "completed"
    },
    "tags": []
   },
   "source": [
    "## Pathways"
   ]
  },
  {
   "cell_type": "code",
   "execution_count": 24,
   "metadata": {
    "execution": {
     "iopub.execute_input": "2021-03-25T19:58:26.851380Z",
     "iopub.status.busy": "2021-03-25T19:58:26.851015Z",
     "iopub.status.idle": "2021-03-25T19:58:26.860338Z",
     "shell.execute_reply": "2021-03-25T19:58:26.860628Z"
    },
    "papermill": {
     "duration": 0.030445,
     "end_time": "2021-03-25T19:58:26.860768",
     "exception": false,
     "start_time": "2021-03-25T19:58:26.830323",
     "status": "completed"
    },
    "tags": []
   },
   "outputs": [
    {
     "data": {
      "text/plain": [
       "KEGG_OXIDATIVE_PHOSPHORYLATION                                                                                                2\n",
       "REACTOME_TCA_CYCLE_AND_RESPIRATORY_ELECTRON_TRANSPORT                                                                         2\n",
       "REACTOME_RESPIRATORY_ELECTRON_TRANSPORT_ATP_SYNTHESIS_BY_CHEMIOSMOTIC_COUPLING_AND_HEAT_PRODUCTION_BY_UNCOUPLING_PROTEINS_    1\n",
       "REACTOME_MITOCHONDRIAL_PROTEIN_IMPORT                                                                                         1\n",
       "REACTOME_RESPIRATORY_ELECTRON_TRANSPORT                                                                                       1\n",
       "PID_ATR_PATHWAY                                                                                                               1\n",
       "KEGG_RIBOSOME                                                                                                                 1\n",
       "REACTOME_SRP_DEPENDENT_COTRANSLATIONAL_PROTEIN_TARGETING_TO_MEMBRANE                                                          1\n",
       "MIPS_55S_RIBOSOME_MITOCHONDRIAL                                                                                               1\n",
       "dtype: int64"
      ]
     },
     "metadata": {},
     "output_type": "display_data"
    }
   ],
   "source": [
    "pathways_df = pd.Series(pathways).value_counts()\n",
    "display(pathways_df)"
   ]
  },
  {
   "cell_type": "code",
   "execution_count": 25,
   "metadata": {
    "execution": {
     "iopub.execute_input": "2021-03-25T19:58:26.903959Z",
     "iopub.status.busy": "2021-03-25T19:58:26.903572Z",
     "iopub.status.idle": "2021-03-25T19:58:26.911215Z",
     "shell.execute_reply": "2021-03-25T19:58:26.911497Z"
    },
    "papermill": {
     "duration": 0.030177,
     "end_time": "2021-03-25T19:58:26.911602",
     "exception": false,
     "start_time": "2021-03-25T19:58:26.881425",
     "status": "completed"
    },
    "tags": []
   },
   "outputs": [
    {
     "data": {
      "text/plain": [
       "PosixPath('/home/miltondp/projects/labs/greenelab/phenoplier/base/results/crispr_analyses/lv-gene_set_decrease/pathways_counts.pkl')"
      ]
     },
     "metadata": {},
     "output_type": "display_data"
    }
   ],
   "source": [
    "output_file = Path(OUTPUT_DIR, \"pathways_counts.pkl\").resolve()\n",
    "display(output_file)"
   ]
  },
  {
   "cell_type": "code",
   "execution_count": 26,
   "metadata": {
    "execution": {
     "iopub.execute_input": "2021-03-25T19:58:26.953712Z",
     "iopub.status.busy": "2021-03-25T19:58:26.953363Z",
     "iopub.status.idle": "2021-03-25T19:58:26.961003Z",
     "shell.execute_reply": "2021-03-25T19:58:26.960573Z"
    },
    "papermill": {
     "duration": 0.029461,
     "end_time": "2021-03-25T19:58:26.961085",
     "exception": false,
     "start_time": "2021-03-25T19:58:26.931624",
     "status": "completed"
    },
    "tags": []
   },
   "outputs": [],
   "source": [
    "pathways_df.to_pickle(output_file)"
   ]
  },
  {
   "cell_type": "markdown",
   "metadata": {
    "papermill": {
     "duration": 0.019135,
     "end_time": "2021-03-25T19:58:26.999926",
     "exception": false,
     "start_time": "2021-03-25T19:58:26.980791",
     "status": "completed"
    },
    "tags": []
   },
   "source": [
    "## Traits"
   ]
  },
  {
   "cell_type": "code",
   "execution_count": 27,
   "metadata": {
    "execution": {
     "iopub.execute_input": "2021-03-25T19:58:27.040963Z",
     "iopub.status.busy": "2021-03-25T19:58:27.040532Z",
     "iopub.status.idle": "2021-03-25T19:58:27.060580Z",
     "shell.execute_reply": "2021-03-25T19:58:27.060189Z"
    },
    "papermill": {
     "duration": 0.041906,
     "end_time": "2021-03-25T19:58:27.060665",
     "exception": false,
     "start_time": "2021-03-25T19:58:27.018759",
     "status": "completed"
    },
    "tags": []
   },
   "outputs": [],
   "source": [
    "traits_df = (\n",
    "    pd.concat(traits)\n",
    "    .reset_index()\n",
    "    .groupby(\"index\")\n",
    "    .sum()\n",
    "    .sort_values(0, ascending=False)\n",
    "    .reset_index()\n",
    ").rename(columns={\"index\": \"trait\", 0: \"value\"})"
   ]
  },
  {
   "cell_type": "code",
   "execution_count": 28,
   "metadata": {
    "execution": {
     "iopub.execute_input": "2021-03-25T19:58:27.102716Z",
     "iopub.status.busy": "2021-03-25T19:58:27.102350Z",
     "iopub.status.idle": "2021-03-25T19:58:28.906134Z",
     "shell.execute_reply": "2021-03-25T19:58:28.905756Z"
    },
    "papermill": {
     "duration": 1.825395,
     "end_time": "2021-03-25T19:58:28.906218",
     "exception": false,
     "start_time": "2021-03-25T19:58:27.080823",
     "status": "completed"
    },
    "tags": []
   },
   "outputs": [],
   "source": [
    "# add trait category\n",
    "trait_code_to_trait_obj = [\n",
    "    Trait.get_trait(full_code=t)\n",
    "    if not Trait.is_efo_label(t)\n",
    "    else Trait.get_traits_from_efo(t)\n",
    "    for t in traits_df[\"trait\"]\n",
    "]"
   ]
  },
  {
   "cell_type": "code",
   "execution_count": 29,
   "metadata": {
    "execution": {
     "iopub.execute_input": "2021-03-25T19:58:28.948792Z",
     "iopub.status.busy": "2021-03-25T19:58:28.948384Z",
     "iopub.status.idle": "2021-03-25T19:58:29.542545Z",
     "shell.execute_reply": "2021-03-25T19:58:29.542164Z"
    },
    "papermill": {
     "duration": 0.61628,
     "end_time": "2021-03-25T19:58:29.542628",
     "exception": false,
     "start_time": "2021-03-25T19:58:28.926348",
     "status": "completed"
    },
    "tags": []
   },
   "outputs": [],
   "source": [
    "traits_df = traits_df.assign(\n",
    "    category=[\n",
    "        t.category if not isinstance(t, list) else t[0].category\n",
    "        for t in trait_code_to_trait_obj\n",
    "    ]\n",
    ")"
   ]
  },
  {
   "cell_type": "code",
   "execution_count": 30,
   "metadata": {
    "execution": {
     "iopub.execute_input": "2021-03-25T19:58:29.584578Z",
     "iopub.status.busy": "2021-03-25T19:58:29.584225Z",
     "iopub.status.idle": "2021-03-25T19:58:29.592223Z",
     "shell.execute_reply": "2021-03-25T19:58:29.591857Z"
    },
    "papermill": {
     "duration": 0.029585,
     "end_time": "2021-03-25T19:58:29.592305",
     "exception": false,
     "start_time": "2021-03-25T19:58:29.562720",
     "status": "completed"
    },
    "tags": []
   },
   "outputs": [
    {
     "data": {
      "text/plain": [
       "(3752, 3)"
      ]
     },
     "execution_count": 30,
     "metadata": {},
     "output_type": "execute_result"
    }
   ],
   "source": [
    "traits_df.shape"
   ]
  },
  {
   "cell_type": "code",
   "execution_count": 31,
   "metadata": {
    "execution": {
     "iopub.execute_input": "2021-03-25T19:58:29.633390Z",
     "iopub.status.busy": "2021-03-25T19:58:29.633032Z",
     "iopub.status.idle": "2021-03-25T19:58:29.643459Z",
     "shell.execute_reply": "2021-03-25T19:58:29.643089Z"
    },
    "papermill": {
     "duration": 0.03172,
     "end_time": "2021-03-25T19:58:29.643542",
     "exception": false,
     "start_time": "2021-03-25T19:58:29.611822",
     "status": "completed"
    },
    "tags": []
   },
   "outputs": [
    {
     "data": {
      "text/html": [
       "<div>\n",
       "<style scoped>\n",
       "    .dataframe tbody tr th:only-of-type {\n",
       "        vertical-align: middle;\n",
       "    }\n",
       "\n",
       "    .dataframe tbody tr th {\n",
       "        vertical-align: top;\n",
       "    }\n",
       "\n",
       "    .dataframe thead th {\n",
       "        text-align: right;\n",
       "    }\n",
       "</style>\n",
       "<table border=\"1\" class=\"dataframe\">\n",
       "  <thead>\n",
       "    <tr style=\"text-align: right;\">\n",
       "      <th></th>\n",
       "      <th>trait</th>\n",
       "      <th>value</th>\n",
       "      <th>category</th>\n",
       "    </tr>\n",
       "  </thead>\n",
       "  <tbody>\n",
       "    <tr>\n",
       "      <th>0</th>\n",
       "      <td>celiac disease</td>\n",
       "      <td>0.776903</td>\n",
       "      <td>Diseases (gastrointestinal/abdominal)</td>\n",
       "    </tr>\n",
       "    <tr>\n",
       "      <th>1</th>\n",
       "      <td>4079_raw-Diastolic_blood_pressure_automated_re...</td>\n",
       "      <td>0.722681</td>\n",
       "      <td>Blood pressure</td>\n",
       "    </tr>\n",
       "    <tr>\n",
       "      <th>2</th>\n",
       "      <td>30280_raw-Immature_reticulocyte_fraction</td>\n",
       "      <td>0.696531</td>\n",
       "      <td>Blood count</td>\n",
       "    </tr>\n",
       "    <tr>\n",
       "      <th>3</th>\n",
       "      <td>20003_1140888390-Treatmentmedication_code_ferr...</td>\n",
       "      <td>0.696229</td>\n",
       "      <td>Medications</td>\n",
       "    </tr>\n",
       "    <tr>\n",
       "      <th>4</th>\n",
       "      <td>6150_100-Vascularheart_problems_diagnosed_by_d...</td>\n",
       "      <td>0.660706</td>\n",
       "      <td>Diseases (cardiovascular)</td>\n",
       "    </tr>\n",
       "  </tbody>\n",
       "</table>\n",
       "</div>"
      ],
      "text/plain": [
       "                                               trait     value  \\\n",
       "0                                     celiac disease  0.776903   \n",
       "1  4079_raw-Diastolic_blood_pressure_automated_re...  0.722681   \n",
       "2           30280_raw-Immature_reticulocyte_fraction  0.696531   \n",
       "3  20003_1140888390-Treatmentmedication_code_ferr...  0.696229   \n",
       "4  6150_100-Vascularheart_problems_diagnosed_by_d...  0.660706   \n",
       "\n",
       "                                category  \n",
       "0  Diseases (gastrointestinal/abdominal)  \n",
       "1                         Blood pressure  \n",
       "2                            Blood count  \n",
       "3                            Medications  \n",
       "4              Diseases (cardiovascular)  "
      ]
     },
     "execution_count": 31,
     "metadata": {},
     "output_type": "execute_result"
    }
   ],
   "source": [
    "traits_df.head()"
   ]
  },
  {
   "cell_type": "code",
   "execution_count": 32,
   "metadata": {
    "execution": {
     "iopub.execute_input": "2021-03-25T19:58:29.686216Z",
     "iopub.status.busy": "2021-03-25T19:58:29.685856Z",
     "iopub.status.idle": "2021-03-25T19:58:29.693849Z",
     "shell.execute_reply": "2021-03-25T19:58:29.693490Z"
    },
    "papermill": {
     "duration": 0.030237,
     "end_time": "2021-03-25T19:58:29.693929",
     "exception": false,
     "start_time": "2021-03-25T19:58:29.663692",
     "status": "completed"
    },
    "tags": []
   },
   "outputs": [
    {
     "data": {
      "text/plain": [
       "PosixPath('/home/miltondp/projects/labs/greenelab/phenoplier/base/results/crispr_analyses/lv-gene_set_decrease/traits.pkl')"
      ]
     },
     "metadata": {},
     "output_type": "display_data"
    }
   ],
   "source": [
    "output_file = Path(OUTPUT_DIR, \"traits.pkl\").resolve()\n",
    "display(output_file)"
   ]
  },
  {
   "cell_type": "code",
   "execution_count": 33,
   "metadata": {
    "execution": {
     "iopub.execute_input": "2021-03-25T19:58:29.737393Z",
     "iopub.status.busy": "2021-03-25T19:58:29.737038Z",
     "iopub.status.idle": "2021-03-25T19:58:29.745654Z",
     "shell.execute_reply": "2021-03-25T19:58:29.745338Z"
    },
    "papermill": {
     "duration": 0.030835,
     "end_time": "2021-03-25T19:58:29.745743",
     "exception": false,
     "start_time": "2021-03-25T19:58:29.714908",
     "status": "completed"
    },
    "tags": []
   },
   "outputs": [],
   "source": [
    "traits_df.to_pickle(output_file)"
   ]
  },
  {
   "cell_type": "markdown",
   "metadata": {
    "papermill": {
     "duration": 0.020667,
     "end_time": "2021-03-25T19:58:29.787276",
     "exception": false,
     "start_time": "2021-03-25T19:58:29.766609",
     "status": "completed"
    },
    "tags": []
   },
   "source": [
    "# Summary"
   ]
  },
  {
   "cell_type": "code",
   "execution_count": 34,
   "metadata": {
    "execution": {
     "iopub.execute_input": "2021-03-25T19:58:29.830073Z",
     "iopub.status.busy": "2021-03-25T19:58:29.829710Z",
     "iopub.status.idle": "2021-03-25T19:58:29.837030Z",
     "shell.execute_reply": "2021-03-25T19:58:29.836623Z"
    },
    "papermill": {
     "duration": 0.029705,
     "end_time": "2021-03-25T19:58:29.837113",
     "exception": false,
     "start_time": "2021-03-25T19:58:29.807408",
     "status": "completed"
    },
    "tags": []
   },
   "outputs": [],
   "source": [
    "top_traits = traits_df.head(100)"
   ]
  },
  {
   "cell_type": "code",
   "execution_count": 35,
   "metadata": {
    "execution": {
     "iopub.execute_input": "2021-03-25T19:58:29.883432Z",
     "iopub.status.busy": "2021-03-25T19:58:29.882253Z",
     "iopub.status.idle": "2021-03-25T19:58:29.901020Z",
     "shell.execute_reply": "2021-03-25T19:58:29.900666Z"
    },
    "papermill": {
     "duration": 0.04314,
     "end_time": "2021-03-25T19:58:29.901104",
     "exception": false,
     "start_time": "2021-03-25T19:58:29.857964",
     "status": "completed"
    },
    "tags": []
   },
   "outputs": [
    {
     "data": {
      "text/html": [
       "<div>\n",
       "<style scoped>\n",
       "    .dataframe tbody tr th:only-of-type {\n",
       "        vertical-align: middle;\n",
       "    }\n",
       "\n",
       "    .dataframe tbody tr th {\n",
       "        vertical-align: top;\n",
       "    }\n",
       "\n",
       "    .dataframe thead th {\n",
       "        text-align: right;\n",
       "    }\n",
       "</style>\n",
       "<table border=\"1\" class=\"dataframe\">\n",
       "  <thead>\n",
       "    <tr style=\"text-align: right;\">\n",
       "      <th></th>\n",
       "      <th>trait</th>\n",
       "      <th>value</th>\n",
       "      <th>category</th>\n",
       "    </tr>\n",
       "  </thead>\n",
       "  <tbody>\n",
       "    <tr>\n",
       "      <th>0</th>\n",
       "      <td>celiac disease</td>\n",
       "      <td>0.776903</td>\n",
       "      <td>Diseases (gastrointestinal/abdominal)</td>\n",
       "    </tr>\n",
       "    <tr>\n",
       "      <th>1</th>\n",
       "      <td>4079_raw-Diastolic_blood_pressure_automated_reading</td>\n",
       "      <td>0.722681</td>\n",
       "      <td>Blood pressure</td>\n",
       "    </tr>\n",
       "    <tr>\n",
       "      <th>2</th>\n",
       "      <td>30280_raw-Immature_reticulocyte_fraction</td>\n",
       "      <td>0.696531</td>\n",
       "      <td>Blood count</td>\n",
       "    </tr>\n",
       "    <tr>\n",
       "      <th>3</th>\n",
       "      <td>20003_1140888390-Treatmentmedication_code_ferrous_salt_product</td>\n",
       "      <td>0.696229</td>\n",
       "      <td>Medications</td>\n",
       "    </tr>\n",
       "    <tr>\n",
       "      <th>4</th>\n",
       "      <td>6150_100-Vascularheart_problems_diagnosed_by_doctor_None_of_the_above</td>\n",
       "      <td>0.660706</td>\n",
       "      <td>Diseases (cardiovascular)</td>\n",
       "    </tr>\n",
       "    <tr>\n",
       "      <th>5</th>\n",
       "      <td>30110_raw-Platelet_distribution_width</td>\n",
       "      <td>0.647184</td>\n",
       "      <td>Blood count</td>\n",
       "    </tr>\n",
       "    <tr>\n",
       "      <th>6</th>\n",
       "      <td>I9_UAP-Unstable_angina_pectoris</td>\n",
       "      <td>0.646180</td>\n",
       "      <td>Diseases (FinnGen)</td>\n",
       "    </tr>\n",
       "    <tr>\n",
       "      <th>7</th>\n",
       "      <td>6150_4-Vascularheart_problems_diagnosed_by_doctor_High_blood_pressure</td>\n",
       "      <td>0.633882</td>\n",
       "      <td>Diseases (cardiovascular)</td>\n",
       "    </tr>\n",
       "    <tr>\n",
       "      <th>8</th>\n",
       "      <td>30170-Nucleated_red_blood_cell_count</td>\n",
       "      <td>0.618583</td>\n",
       "      <td>Blood count</td>\n",
       "    </tr>\n",
       "    <tr>\n",
       "      <th>9</th>\n",
       "      <td>malabsorption syndrome</td>\n",
       "      <td>0.615291</td>\n",
       "      <td>Diseases (ICD10 main)</td>\n",
       "    </tr>\n",
       "    <tr>\n",
       "      <th>10</th>\n",
       "      <td>K11_COELIAC-Coeliac_disease</td>\n",
       "      <td>0.614442</td>\n",
       "      <td>Diseases (FinnGen)</td>\n",
       "    </tr>\n",
       "    <tr>\n",
       "      <th>11</th>\n",
       "      <td>hypertension</td>\n",
       "      <td>0.612161</td>\n",
       "      <td>Diseases (cardiovascular)</td>\n",
       "    </tr>\n",
       "    <tr>\n",
       "      <th>12</th>\n",
       "      <td>30230-Nucleated_red_blood_cell_percentage</td>\n",
       "      <td>0.611398</td>\n",
       "      <td>Blood count</td>\n",
       "    </tr>\n",
       "    <tr>\n",
       "      <th>13</th>\n",
       "      <td>age at first facial hair</td>\n",
       "      <td>0.604095</td>\n",
       "      <td>Male-specific factors</td>\n",
       "    </tr>\n",
       "    <tr>\n",
       "      <th>14</th>\n",
       "      <td>20003_1140888366-Treatmentmedication_code_thiamine_preparation</td>\n",
       "      <td>0.595872</td>\n",
       "      <td>Medications</td>\n",
       "    </tr>\n",
       "    <tr>\n",
       "      <th>15</th>\n",
       "      <td>atherosclerosis</td>\n",
       "      <td>0.594194</td>\n",
       "      <td>Diseases (ICD10 main)</td>\n",
       "    </tr>\n",
       "    <tr>\n",
       "      <th>16</th>\n",
       "      <td>leukocyte count</td>\n",
       "      <td>0.590772</td>\n",
       "      <td>Blood</td>\n",
       "    </tr>\n",
       "    <tr>\n",
       "      <th>17</th>\n",
       "      <td>20003_1140851812-Treatmentmedication_code_gtn_400micrograms_spray</td>\n",
       "      <td>0.586070</td>\n",
       "      <td>Medications</td>\n",
       "    </tr>\n",
       "    <tr>\n",
       "      <th>18</th>\n",
       "      <td>20003_1141157132-Treatmentmedication_code_singulair_10mg_tablet</td>\n",
       "      <td>0.585853</td>\n",
       "      <td>Medications</td>\n",
       "    </tr>\n",
       "    <tr>\n",
       "      <th>19</th>\n",
       "      <td>3476-Difficulty_not_smoking_for_1_day</td>\n",
       "      <td>0.582263</td>\n",
       "      <td>Smoking</td>\n",
       "    </tr>\n",
       "    <tr>\n",
       "      <th>20</th>\n",
       "      <td>30260_raw-Mean_reticulocyte_volume</td>\n",
       "      <td>0.581731</td>\n",
       "      <td>Blood count</td>\n",
       "    </tr>\n",
       "    <tr>\n",
       "      <th>21</th>\n",
       "      <td>C_OTHER_SKIN-Other_malignant_neoplasms_of_skin</td>\n",
       "      <td>0.581328</td>\n",
       "      <td>Diseases (FinnGen)</td>\n",
       "    </tr>\n",
       "    <tr>\n",
       "      <th>22</th>\n",
       "      <td>767_raw-Length_of_working_week_for_main_job</td>\n",
       "      <td>0.581030</td>\n",
       "      <td>Employment</td>\n",
       "    </tr>\n",
       "    <tr>\n",
       "      <th>23</th>\n",
       "      <td>102_raw-Pulse_rate_automated_reading</td>\n",
       "      <td>0.576578</td>\n",
       "      <td>Blood pressure</td>\n",
       "    </tr>\n",
       "    <tr>\n",
       "      <th>24</th>\n",
       "      <td>1418_3-Milk_type_used_Skimmed</td>\n",
       "      <td>0.576438</td>\n",
       "      <td>Diet</td>\n",
       "    </tr>\n",
       "    <tr>\n",
       "      <th>25</th>\n",
       "      <td>4080_raw-Systolic_blood_pressure_automated_reading</td>\n",
       "      <td>0.576415</td>\n",
       "      <td>Blood pressure</td>\n",
       "    </tr>\n",
       "    <tr>\n",
       "      <th>26</th>\n",
       "      <td>20079_4-Dayofweek_questionnaire_completion_requested_Thursday</td>\n",
       "      <td>0.575779</td>\n",
       "      <td>Diet questionnaire performance</td>\n",
       "    </tr>\n",
       "    <tr>\n",
       "      <th>27</th>\n",
       "      <td>20003_1140861936-Treatmentmedication_code_questran_4gsachet_powder</td>\n",
       "      <td>0.574406</td>\n",
       "      <td>Medications</td>\n",
       "    </tr>\n",
       "    <tr>\n",
       "      <th>28</th>\n",
       "      <td>20003_1140884672-Treatmentmedication_code_fludrocortisone</td>\n",
       "      <td>0.570429</td>\n",
       "      <td>Medications</td>\n",
       "    </tr>\n",
       "    <tr>\n",
       "      <th>29</th>\n",
       "      <td>30050_raw-Mean_corpuscular_haemoglobin</td>\n",
       "      <td>0.570040</td>\n",
       "      <td>Blood count</td>\n",
       "    </tr>\n",
       "    <tr>\n",
       "      <th>30</th>\n",
       "      <td>myeloid white cell count</td>\n",
       "      <td>0.569032</td>\n",
       "      <td>Blood</td>\n",
       "    </tr>\n",
       "    <tr>\n",
       "      <th>31</th>\n",
       "      <td>30040_raw-Mean_corpuscular_volume</td>\n",
       "      <td>0.568884</td>\n",
       "      <td>Blood count</td>\n",
       "    </tr>\n",
       "    <tr>\n",
       "      <th>32</th>\n",
       "      <td>C3_SKIN-Malignant_neoplasm_of_skin</td>\n",
       "      <td>0.568443</td>\n",
       "      <td>Diseases (FinnGen)</td>\n",
       "    </tr>\n",
       "    <tr>\n",
       "      <th>33</th>\n",
       "      <td>C_SKIN</td>\n",
       "      <td>0.568443</td>\n",
       "      <td>Diseases (FinnGen)</td>\n",
       "    </tr>\n",
       "    <tr>\n",
       "      <th>34</th>\n",
       "      <td>20003_1140882910-Treatmentmedication_code_daktacort_cream</td>\n",
       "      <td>0.566470</td>\n",
       "      <td>Medications</td>\n",
       "    </tr>\n",
       "    <tr>\n",
       "      <th>35</th>\n",
       "      <td>23108_raw-Impedance_of_leg_left</td>\n",
       "      <td>0.562905</td>\n",
       "      <td>Impedance measures</td>\n",
       "    </tr>\n",
       "    <tr>\n",
       "      <th>36</th>\n",
       "      <td>20003_1140888386-Treatmentmedication_code_iron_product</td>\n",
       "      <td>0.561646</td>\n",
       "      <td>Medications</td>\n",
       "    </tr>\n",
       "    <tr>\n",
       "      <th>37</th>\n",
       "      <td>1418_4-Milk_type_used_Soya</td>\n",
       "      <td>0.560497</td>\n",
       "      <td>Diet</td>\n",
       "    </tr>\n",
       "    <tr>\n",
       "      <th>38</th>\n",
       "      <td>granulocyte count</td>\n",
       "      <td>0.559858</td>\n",
       "      <td>Blood</td>\n",
       "    </tr>\n",
       "    <tr>\n",
       "      <th>39</th>\n",
       "      <td>30000_raw-White_blood_cell_leukocyte_count</td>\n",
       "      <td>0.556974</td>\n",
       "      <td>Blood count</td>\n",
       "    </tr>\n",
       "    <tr>\n",
       "      <th>40</th>\n",
       "      <td>sum of neutrophil and eosinophil counts</td>\n",
       "      <td>0.556021</td>\n",
       "      <td>Blood</td>\n",
       "    </tr>\n",
       "    <tr>\n",
       "      <th>41</th>\n",
       "      <td>30140_raw-Neutrophill_count</td>\n",
       "      <td>0.552830</td>\n",
       "      <td>Blood count</td>\n",
       "    </tr>\n",
       "    <tr>\n",
       "      <th>42</th>\n",
       "      <td>20079_2-Dayofweek_questionnaire_completion_requested_Tuesday</td>\n",
       "      <td>0.552815</td>\n",
       "      <td>Diet questionnaire performance</td>\n",
       "    </tr>\n",
       "    <tr>\n",
       "      <th>43</th>\n",
       "      <td>23107_raw-Impedance_of_leg_right</td>\n",
       "      <td>0.552571</td>\n",
       "      <td>Impedance measures</td>\n",
       "    </tr>\n",
       "    <tr>\n",
       "      <th>44</th>\n",
       "      <td>22506_112-Tobacco_smoking_Occasionally</td>\n",
       "      <td>0.550412</td>\n",
       "      <td>Medical information</td>\n",
       "    </tr>\n",
       "    <tr>\n",
       "      <th>45</th>\n",
       "      <td>constipation</td>\n",
       "      <td>0.545498</td>\n",
       "      <td>Diseases (gastrointestinal/abdominal)</td>\n",
       "    </tr>\n",
       "    <tr>\n",
       "      <th>46</th>\n",
       "      <td>I9_AVBLOCK-AVblock</td>\n",
       "      <td>0.545419</td>\n",
       "      <td>Diseases (FinnGen)</td>\n",
       "    </tr>\n",
       "    <tr>\n",
       "      <th>47</th>\n",
       "      <td>30300_raw-High_light_scatter_reticulocyte_count</td>\n",
       "      <td>0.544050</td>\n",
       "      <td>Blood count</td>\n",
       "    </tr>\n",
       "    <tr>\n",
       "      <th>48</th>\n",
       "      <td>20107_11-Illnesses_of_father_Parkinsons_disease</td>\n",
       "      <td>0.541840</td>\n",
       "      <td>Family history</td>\n",
       "    </tr>\n",
       "    <tr>\n",
       "      <th>49</th>\n",
       "      <td>bundle branch block</td>\n",
       "      <td>0.539081</td>\n",
       "      <td>Diseases (ICD10 main)</td>\n",
       "    </tr>\n",
       "    <tr>\n",
       "      <th>50</th>\n",
       "      <td>40001_C169-Underlying_primary_cause_of_death_ICD10_C169_Stomach_unspecified</td>\n",
       "      <td>0.537307</td>\n",
       "      <td>Death register</td>\n",
       "    </tr>\n",
       "    <tr>\n",
       "      <th>51</th>\n",
       "      <td>6153_2-Medication_for_cholesterol_blood_pressure_diabetes_or_take_exogenous_hormones_Blood_pressure_medication</td>\n",
       "      <td>0.535411</td>\n",
       "      <td>Medication</td>\n",
       "    </tr>\n",
       "    <tr>\n",
       "      <th>52</th>\n",
       "      <td>22617_8114-Job_SOC_coding_Chemical_and_related_process_operatives</td>\n",
       "      <td>0.531808</td>\n",
       "      <td>Employment history</td>\n",
       "    </tr>\n",
       "    <tr>\n",
       "      <th>53</th>\n",
       "      <td>20090_360-Type_of_fatoil_used_in_cooking_Spreadable_butter</td>\n",
       "      <td>0.527742</td>\n",
       "      <td>Spreads/sauces/cooking oils yesterday</td>\n",
       "    </tr>\n",
       "    <tr>\n",
       "      <th>54</th>\n",
       "      <td>22617_3232-Job_SOC_coding_Housing_and_welfare_officers</td>\n",
       "      <td>0.526430</td>\n",
       "      <td>Employment history</td>\n",
       "    </tr>\n",
       "    <tr>\n",
       "      <th>55</th>\n",
       "      <td>22617_2444-Job_SOC_coding_Clergy</td>\n",
       "      <td>0.526205</td>\n",
       "      <td>Employment history</td>\n",
       "    </tr>\n",
       "    <tr>\n",
       "      <th>56</th>\n",
       "      <td>eye disease</td>\n",
       "      <td>0.525077</td>\n",
       "      <td>Diseases (neurology/eye/psychiatry)</td>\n",
       "    </tr>\n",
       "    <tr>\n",
       "      <th>57</th>\n",
       "      <td>sum of basophil and neutrophil counts</td>\n",
       "      <td>0.523174</td>\n",
       "      <td>Blood</td>\n",
       "    </tr>\n",
       "    <tr>\n",
       "      <th>58</th>\n",
       "      <td>II_NEOPLASM-Neoplasms</td>\n",
       "      <td>0.521542</td>\n",
       "      <td>Diseases (FinnGen)</td>\n",
       "    </tr>\n",
       "    <tr>\n",
       "      <th>59</th>\n",
       "      <td>20003_1140862086-Treatmentmedication_code_salamol_100micrograms_inhaler</td>\n",
       "      <td>0.521422</td>\n",
       "      <td>Medications</td>\n",
       "    </tr>\n",
       "    <tr>\n",
       "      <th>60</th>\n",
       "      <td>20411_1-Ever_been_injured_or_injured_someone_else_through_drinking_alcohol_Yes_but_not_in_the_last_year</td>\n",
       "      <td>0.521400</td>\n",
       "      <td>Alcohol use</td>\n",
       "    </tr>\n",
       "    <tr>\n",
       "      <th>61</th>\n",
       "      <td>DM_PERIPHATHERO-Peripheral_atherosclerosis</td>\n",
       "      <td>0.520464</td>\n",
       "      <td>Diseases (FinnGen)</td>\n",
       "    </tr>\n",
       "    <tr>\n",
       "      <th>62</th>\n",
       "      <td>6164_2-Types_of_physical_activity_in_last_4_weeks_Other_exercises_eg_swimming_cycling_keep_fit_bowling</td>\n",
       "      <td>0.519835</td>\n",
       "      <td>Physical activity</td>\n",
       "    </tr>\n",
       "    <tr>\n",
       "      <th>63</th>\n",
       "      <td>neutrophil count</td>\n",
       "      <td>0.518732</td>\n",
       "      <td>Blood</td>\n",
       "    </tr>\n",
       "    <tr>\n",
       "      <th>64</th>\n",
       "      <td>103060-Poultry_intake</td>\n",
       "      <td>0.518036</td>\n",
       "      <td>Meat/fish yesterday</td>\n",
       "    </tr>\n",
       "    <tr>\n",
       "      <th>65</th>\n",
       "      <td>22614_1-Worked_with_pesticides_Sometimes</td>\n",
       "      <td>0.516223</td>\n",
       "      <td>Employment history</td>\n",
       "    </tr>\n",
       "    <tr>\n",
       "      <th>66</th>\n",
       "      <td>I9_CONDUCTIO-Conduction_disorders</td>\n",
       "      <td>0.515467</td>\n",
       "      <td>Diseases (FinnGen)</td>\n",
       "    </tr>\n",
       "    <tr>\n",
       "      <th>67</th>\n",
       "      <td>22617_1232-Job_SOC_coding_Garage_managers_and_proprietors</td>\n",
       "      <td>0.514888</td>\n",
       "      <td>Employment history</td>\n",
       "    </tr>\n",
       "    <tr>\n",
       "      <th>68</th>\n",
       "      <td>20463-Ever_heard_an_unreal_voice</td>\n",
       "      <td>0.512827</td>\n",
       "      <td>Unusual and psychotic experiences</td>\n",
       "    </tr>\n",
       "    <tr>\n",
       "      <th>69</th>\n",
       "      <td>2877_3-Type_of_tobacco_previously_smoked_Cigars_or_pipes</td>\n",
       "      <td>0.511946</td>\n",
       "      <td>Smoking</td>\n",
       "    </tr>\n",
       "    <tr>\n",
       "      <th>70</th>\n",
       "      <td>4803_14-Tinnitus_Yes_but_not_now_but_have_in_the_past</td>\n",
       "      <td>0.507381</td>\n",
       "      <td>Hearing</td>\n",
       "    </tr>\n",
       "    <tr>\n",
       "      <th>71</th>\n",
       "      <td>104460-Banana_intake</td>\n",
       "      <td>0.507173</td>\n",
       "      <td>Fruit/vegetables yesterday</td>\n",
       "    </tr>\n",
       "    <tr>\n",
       "      <th>72</th>\n",
       "      <td>SFN-Small_fibre_neuropathy</td>\n",
       "      <td>0.506619</td>\n",
       "      <td>Diseases (FinnGen)</td>\n",
       "    </tr>\n",
       "    <tr>\n",
       "      <th>73</th>\n",
       "      <td>hormone replacement therapy</td>\n",
       "      <td>0.504959</td>\n",
       "      <td>Female-specific factors</td>\n",
       "    </tr>\n",
       "    <tr>\n",
       "      <th>74</th>\n",
       "      <td>adrenocortical insufficiency</td>\n",
       "      <td>0.504081</td>\n",
       "      <td>Diseases (endocrine/diabetes)</td>\n",
       "    </tr>\n",
       "    <tr>\n",
       "      <th>75</th>\n",
       "      <td>22601_24443114-Job_coding_clergymanwoman_any_religious_officerleader</td>\n",
       "      <td>0.503761</td>\n",
       "      <td>Employment history</td>\n",
       "    </tr>\n",
       "    <tr>\n",
       "      <th>76</th>\n",
       "      <td>4990-FI6_conditional_arithmetic</td>\n",
       "      <td>0.503661</td>\n",
       "      <td>Fluid intelligence / reasoning</td>\n",
       "    </tr>\n",
       "    <tr>\n",
       "      <th>77</th>\n",
       "      <td>30290_raw-High_light_scatter_reticulocyte_percentage</td>\n",
       "      <td>0.503232</td>\n",
       "      <td>Blood count</td>\n",
       "    </tr>\n",
       "    <tr>\n",
       "      <th>78</th>\n",
       "      <td>20003_1197-Treatmentmedication_code_evening_primrose_oil_product</td>\n",
       "      <td>0.501303</td>\n",
       "      <td>Medications</td>\n",
       "    </tr>\n",
       "    <tr>\n",
       "      <th>79</th>\n",
       "      <td>tibia fracture</td>\n",
       "      <td>0.500464</td>\n",
       "      <td>Diseases (musculoskeletal/trauma)</td>\n",
       "    </tr>\n",
       "    <tr>\n",
       "      <th>80</th>\n",
       "      <td>20003_1141180314-Treatmentmedication_code_ibandronic_acid</td>\n",
       "      <td>0.500052</td>\n",
       "      <td>Medications</td>\n",
       "    </tr>\n",
       "    <tr>\n",
       "      <th>81</th>\n",
       "      <td>22503_raw-Years_of_cough_on_most_days</td>\n",
       "      <td>0.499099</td>\n",
       "      <td>Medical information</td>\n",
       "    </tr>\n",
       "    <tr>\n",
       "      <th>82</th>\n",
       "      <td>Jones_et_al_2016_Chronotype</td>\n",
       "      <td>0.498442</td>\n",
       "      <td>Psychiatric-neurologic</td>\n",
       "    </tr>\n",
       "    <tr>\n",
       "      <th>83</th>\n",
       "      <td>100920_2105-Type_milk_consumed_soya_with_calcium</td>\n",
       "      <td>0.497657</td>\n",
       "      <td>Milk/eggs/cheese yesterday</td>\n",
       "    </tr>\n",
       "    <tr>\n",
       "      <th>84</th>\n",
       "      <td>100016_raw-Potassium</td>\n",
       "      <td>0.496709</td>\n",
       "      <td>Estimated nutrients yesterday</td>\n",
       "    </tr>\n",
       "    <tr>\n",
       "      <th>85</th>\n",
       "      <td>816-Job_involves_heavy_manual_or_physical_work</td>\n",
       "      <td>0.496570</td>\n",
       "      <td>Employment</td>\n",
       "    </tr>\n",
       "    <tr>\n",
       "      <th>86</th>\n",
       "      <td>H7_EPIPHORA-Epiphora</td>\n",
       "      <td>0.495391</td>\n",
       "      <td>Diseases (FinnGen)</td>\n",
       "    </tr>\n",
       "    <tr>\n",
       "      <th>87</th>\n",
       "      <td>20003_1141180936-Treatmentmedication_code_calcium_carbonatecolecalciferol_125g5micrograms_tablet</td>\n",
       "      <td>0.494953</td>\n",
       "      <td>Medications</td>\n",
       "    </tr>\n",
       "    <tr>\n",
       "      <th>88</th>\n",
       "      <td>23113_raw-Leg_fatfree_mass_right</td>\n",
       "      <td>0.494106</td>\n",
       "      <td>Impedance measures</td>\n",
       "    </tr>\n",
       "    <tr>\n",
       "      <th>89</th>\n",
       "      <td>20003_1141153032-Treatmentmedication_code_zanidip_10mg_tablet</td>\n",
       "      <td>0.493988</td>\n",
       "      <td>Medications</td>\n",
       "    </tr>\n",
       "    <tr>\n",
       "      <th>90</th>\n",
       "      <td>3872_raw-Age_of_primiparous_women_at_birth_of_child</td>\n",
       "      <td>0.493925</td>\n",
       "      <td>Female-specific factors</td>\n",
       "    </tr>\n",
       "    <tr>\n",
       "      <th>91</th>\n",
       "      <td>3536_raw-Age_started_hormonereplacement_therapy_HRT</td>\n",
       "      <td>0.492772</td>\n",
       "      <td>Female-specific factors</td>\n",
       "    </tr>\n",
       "    <tr>\n",
       "      <th>92</th>\n",
       "      <td>22601_71233339-Job_coding_roundsman_or_woman_van_salesperson_ice_cream_seller_milkman_mobile_shop_salesperson</td>\n",
       "      <td>0.492401</td>\n",
       "      <td>Employment history</td>\n",
       "    </tr>\n",
       "    <tr>\n",
       "      <th>93</th>\n",
       "      <td>5992-ECG_phase_duration</td>\n",
       "      <td>0.491543</td>\n",
       "      <td>ECG during exercise</td>\n",
       "    </tr>\n",
       "    <tr>\n",
       "      <th>94</th>\n",
       "      <td>4825-Noisy_workplace</td>\n",
       "      <td>0.490722</td>\n",
       "      <td>Hearing</td>\n",
       "    </tr>\n",
       "    <tr>\n",
       "      <th>95</th>\n",
       "      <td>23114_raw-Leg_predicted_mass_right</td>\n",
       "      <td>0.490343</td>\n",
       "      <td>Impedance measures</td>\n",
       "    </tr>\n",
       "    <tr>\n",
       "      <th>96</th>\n",
       "      <td>23125_raw-Arm_fatfree_mass_left</td>\n",
       "      <td>0.489414</td>\n",
       "      <td>Impedance measures</td>\n",
       "    </tr>\n",
       "    <tr>\n",
       "      <th>97</th>\n",
       "      <td>20003_1140879802-Treatmentmedication_code_amlodipine</td>\n",
       "      <td>0.489125</td>\n",
       "      <td>Medications</td>\n",
       "    </tr>\n",
       "    <tr>\n",
       "      <th>98</th>\n",
       "      <td>22617_1233-Job_SOC_coding_Hairdressing_and_beauty_salon_managers_and_proprietors</td>\n",
       "      <td>0.488501</td>\n",
       "      <td>Employment history</td>\n",
       "    </tr>\n",
       "    <tr>\n",
       "      <th>99</th>\n",
       "      <td>22617_3563-Job_SOC_coding_Vocational_and_industrial_trainers_and_instructors</td>\n",
       "      <td>0.487699</td>\n",
       "      <td>Employment history</td>\n",
       "    </tr>\n",
       "  </tbody>\n",
       "</table>\n",
       "</div>"
      ],
      "text/plain": [
       "                                                                                                             trait  \\\n",
       "0                                                                                                   celiac disease   \n",
       "1                                                              4079_raw-Diastolic_blood_pressure_automated_reading   \n",
       "2                                                                         30280_raw-Immature_reticulocyte_fraction   \n",
       "3                                                   20003_1140888390-Treatmentmedication_code_ferrous_salt_product   \n",
       "4                                            6150_100-Vascularheart_problems_diagnosed_by_doctor_None_of_the_above   \n",
       "5                                                                            30110_raw-Platelet_distribution_width   \n",
       "6                                                                                  I9_UAP-Unstable_angina_pectoris   \n",
       "7                                            6150_4-Vascularheart_problems_diagnosed_by_doctor_High_blood_pressure   \n",
       "8                                                                             30170-Nucleated_red_blood_cell_count   \n",
       "9                                                                                           malabsorption syndrome   \n",
       "10                                                                                     K11_COELIAC-Coeliac_disease   \n",
       "11                                                                                                    hypertension   \n",
       "12                                                                       30230-Nucleated_red_blood_cell_percentage   \n",
       "13                                                                                        age at first facial hair   \n",
       "14                                                  20003_1140888366-Treatmentmedication_code_thiamine_preparation   \n",
       "15                                                                                                 atherosclerosis   \n",
       "16                                                                                                 leukocyte count   \n",
       "17                                               20003_1140851812-Treatmentmedication_code_gtn_400micrograms_spray   \n",
       "18                                                 20003_1141157132-Treatmentmedication_code_singulair_10mg_tablet   \n",
       "19                                                                           3476-Difficulty_not_smoking_for_1_day   \n",
       "20                                                                              30260_raw-Mean_reticulocyte_volume   \n",
       "21                                                                  C_OTHER_SKIN-Other_malignant_neoplasms_of_skin   \n",
       "22                                                                     767_raw-Length_of_working_week_for_main_job   \n",
       "23                                                                            102_raw-Pulse_rate_automated_reading   \n",
       "24                                                                                   1418_3-Milk_type_used_Skimmed   \n",
       "25                                                              4080_raw-Systolic_blood_pressure_automated_reading   \n",
       "26                                                   20079_4-Dayofweek_questionnaire_completion_requested_Thursday   \n",
       "27                                              20003_1140861936-Treatmentmedication_code_questran_4gsachet_powder   \n",
       "28                                                       20003_1140884672-Treatmentmedication_code_fludrocortisone   \n",
       "29                                                                          30050_raw-Mean_corpuscular_haemoglobin   \n",
       "30                                                                                        myeloid white cell count   \n",
       "31                                                                               30040_raw-Mean_corpuscular_volume   \n",
       "32                                                                              C3_SKIN-Malignant_neoplasm_of_skin   \n",
       "33                                                                                                          C_SKIN   \n",
       "34                                                       20003_1140882910-Treatmentmedication_code_daktacort_cream   \n",
       "35                                                                                 23108_raw-Impedance_of_leg_left   \n",
       "36                                                          20003_1140888386-Treatmentmedication_code_iron_product   \n",
       "37                                                                                      1418_4-Milk_type_used_Soya   \n",
       "38                                                                                               granulocyte count   \n",
       "39                                                                      30000_raw-White_blood_cell_leukocyte_count   \n",
       "40                                                                         sum of neutrophil and eosinophil counts   \n",
       "41                                                                                     30140_raw-Neutrophill_count   \n",
       "42                                                    20079_2-Dayofweek_questionnaire_completion_requested_Tuesday   \n",
       "43                                                                                23107_raw-Impedance_of_leg_right   \n",
       "44                                                                          22506_112-Tobacco_smoking_Occasionally   \n",
       "45                                                                                                    constipation   \n",
       "46                                                                                              I9_AVBLOCK-AVblock   \n",
       "47                                                                 30300_raw-High_light_scatter_reticulocyte_count   \n",
       "48                                                                 20107_11-Illnesses_of_father_Parkinsons_disease   \n",
       "49                                                                                             bundle branch block   \n",
       "50                                     40001_C169-Underlying_primary_cause_of_death_ICD10_C169_Stomach_unspecified   \n",
       "51  6153_2-Medication_for_cholesterol_blood_pressure_diabetes_or_take_exogenous_hormones_Blood_pressure_medication   \n",
       "52                                               22617_8114-Job_SOC_coding_Chemical_and_related_process_operatives   \n",
       "53                                                      20090_360-Type_of_fatoil_used_in_cooking_Spreadable_butter   \n",
       "54                                                          22617_3232-Job_SOC_coding_Housing_and_welfare_officers   \n",
       "55                                                                                22617_2444-Job_SOC_coding_Clergy   \n",
       "56                                                                                                     eye disease   \n",
       "57                                                                           sum of basophil and neutrophil counts   \n",
       "58                                                                                           II_NEOPLASM-Neoplasms   \n",
       "59                                         20003_1140862086-Treatmentmedication_code_salamol_100micrograms_inhaler   \n",
       "60         20411_1-Ever_been_injured_or_injured_someone_else_through_drinking_alcohol_Yes_but_not_in_the_last_year   \n",
       "61                                                                      DM_PERIPHATHERO-Peripheral_atherosclerosis   \n",
       "62          6164_2-Types_of_physical_activity_in_last_4_weeks_Other_exercises_eg_swimming_cycling_keep_fit_bowling   \n",
       "63                                                                                                neutrophil count   \n",
       "64                                                                                           103060-Poultry_intake   \n",
       "65                                                                        22614_1-Worked_with_pesticides_Sometimes   \n",
       "66                                                                               I9_CONDUCTIO-Conduction_disorders   \n",
       "67                                                       22617_1232-Job_SOC_coding_Garage_managers_and_proprietors   \n",
       "68                                                                                20463-Ever_heard_an_unreal_voice   \n",
       "69                                                        2877_3-Type_of_tobacco_previously_smoked_Cigars_or_pipes   \n",
       "70                                                           4803_14-Tinnitus_Yes_but_not_now_but_have_in_the_past   \n",
       "71                                                                                            104460-Banana_intake   \n",
       "72                                                                                      SFN-Small_fibre_neuropathy   \n",
       "73                                                                                     hormone replacement therapy   \n",
       "74                                                                                    adrenocortical insufficiency   \n",
       "75                                            22601_24443114-Job_coding_clergymanwoman_any_religious_officerleader   \n",
       "76                                                                                 4990-FI6_conditional_arithmetic   \n",
       "77                                                            30290_raw-High_light_scatter_reticulocyte_percentage   \n",
       "78                                                20003_1197-Treatmentmedication_code_evening_primrose_oil_product   \n",
       "79                                                                                                  tibia fracture   \n",
       "80                                                       20003_1141180314-Treatmentmedication_code_ibandronic_acid   \n",
       "81                                                                           22503_raw-Years_of_cough_on_most_days   \n",
       "82                                                                                     Jones_et_al_2016_Chronotype   \n",
       "83                                                                100920_2105-Type_milk_consumed_soya_with_calcium   \n",
       "84                                                                                            100016_raw-Potassium   \n",
       "85                                                                  816-Job_involves_heavy_manual_or_physical_work   \n",
       "86                                                                                            H7_EPIPHORA-Epiphora   \n",
       "87                20003_1141180936-Treatmentmedication_code_calcium_carbonatecolecalciferol_125g5micrograms_tablet   \n",
       "88                                                                                23113_raw-Leg_fatfree_mass_right   \n",
       "89                                                   20003_1141153032-Treatmentmedication_code_zanidip_10mg_tablet   \n",
       "90                                                             3872_raw-Age_of_primiparous_women_at_birth_of_child   \n",
       "91                                                             3536_raw-Age_started_hormonereplacement_therapy_HRT   \n",
       "92   22601_71233339-Job_coding_roundsman_or_woman_van_salesperson_ice_cream_seller_milkman_mobile_shop_salesperson   \n",
       "93                                                                                         5992-ECG_phase_duration   \n",
       "94                                                                                            4825-Noisy_workplace   \n",
       "95                                                                              23114_raw-Leg_predicted_mass_right   \n",
       "96                                                                                 23125_raw-Arm_fatfree_mass_left   \n",
       "97                                                            20003_1140879802-Treatmentmedication_code_amlodipine   \n",
       "98                                22617_1233-Job_SOC_coding_Hairdressing_and_beauty_salon_managers_and_proprietors   \n",
       "99                                    22617_3563-Job_SOC_coding_Vocational_and_industrial_trainers_and_instructors   \n",
       "\n",
       "       value                               category  \n",
       "0   0.776903  Diseases (gastrointestinal/abdominal)  \n",
       "1   0.722681                         Blood pressure  \n",
       "2   0.696531                            Blood count  \n",
       "3   0.696229                            Medications  \n",
       "4   0.660706              Diseases (cardiovascular)  \n",
       "5   0.647184                            Blood count  \n",
       "6   0.646180                     Diseases (FinnGen)  \n",
       "7   0.633882              Diseases (cardiovascular)  \n",
       "8   0.618583                            Blood count  \n",
       "9   0.615291                  Diseases (ICD10 main)  \n",
       "10  0.614442                     Diseases (FinnGen)  \n",
       "11  0.612161              Diseases (cardiovascular)  \n",
       "12  0.611398                            Blood count  \n",
       "13  0.604095                  Male-specific factors  \n",
       "14  0.595872                            Medications  \n",
       "15  0.594194                  Diseases (ICD10 main)  \n",
       "16  0.590772                                  Blood  \n",
       "17  0.586070                            Medications  \n",
       "18  0.585853                            Medications  \n",
       "19  0.582263                                Smoking  \n",
       "20  0.581731                            Blood count  \n",
       "21  0.581328                     Diseases (FinnGen)  \n",
       "22  0.581030                             Employment  \n",
       "23  0.576578                         Blood pressure  \n",
       "24  0.576438                                   Diet  \n",
       "25  0.576415                         Blood pressure  \n",
       "26  0.575779         Diet questionnaire performance  \n",
       "27  0.574406                            Medications  \n",
       "28  0.570429                            Medications  \n",
       "29  0.570040                            Blood count  \n",
       "30  0.569032                                  Blood  \n",
       "31  0.568884                            Blood count  \n",
       "32  0.568443                     Diseases (FinnGen)  \n",
       "33  0.568443                     Diseases (FinnGen)  \n",
       "34  0.566470                            Medications  \n",
       "35  0.562905                     Impedance measures  \n",
       "36  0.561646                            Medications  \n",
       "37  0.560497                                   Diet  \n",
       "38  0.559858                                  Blood  \n",
       "39  0.556974                            Blood count  \n",
       "40  0.556021                                  Blood  \n",
       "41  0.552830                            Blood count  \n",
       "42  0.552815         Diet questionnaire performance  \n",
       "43  0.552571                     Impedance measures  \n",
       "44  0.550412                    Medical information  \n",
       "45  0.545498  Diseases (gastrointestinal/abdominal)  \n",
       "46  0.545419                     Diseases (FinnGen)  \n",
       "47  0.544050                            Blood count  \n",
       "48  0.541840                         Family history  \n",
       "49  0.539081                  Diseases (ICD10 main)  \n",
       "50  0.537307                         Death register  \n",
       "51  0.535411                             Medication  \n",
       "52  0.531808                     Employment history  \n",
       "53  0.527742  Spreads/sauces/cooking oils yesterday  \n",
       "54  0.526430                     Employment history  \n",
       "55  0.526205                     Employment history  \n",
       "56  0.525077    Diseases (neurology/eye/psychiatry)  \n",
       "57  0.523174                                  Blood  \n",
       "58  0.521542                     Diseases (FinnGen)  \n",
       "59  0.521422                            Medications  \n",
       "60  0.521400                            Alcohol use  \n",
       "61  0.520464                     Diseases (FinnGen)  \n",
       "62  0.519835                      Physical activity  \n",
       "63  0.518732                                  Blood  \n",
       "64  0.518036                    Meat/fish yesterday  \n",
       "65  0.516223                     Employment history  \n",
       "66  0.515467                     Diseases (FinnGen)  \n",
       "67  0.514888                     Employment history  \n",
       "68  0.512827      Unusual and psychotic experiences  \n",
       "69  0.511946                                Smoking  \n",
       "70  0.507381                                Hearing  \n",
       "71  0.507173             Fruit/vegetables yesterday  \n",
       "72  0.506619                     Diseases (FinnGen)  \n",
       "73  0.504959                Female-specific factors  \n",
       "74  0.504081          Diseases (endocrine/diabetes)  \n",
       "75  0.503761                     Employment history  \n",
       "76  0.503661         Fluid intelligence / reasoning  \n",
       "77  0.503232                            Blood count  \n",
       "78  0.501303                            Medications  \n",
       "79  0.500464      Diseases (musculoskeletal/trauma)  \n",
       "80  0.500052                            Medications  \n",
       "81  0.499099                    Medical information  \n",
       "82  0.498442                 Psychiatric-neurologic  \n",
       "83  0.497657             Milk/eggs/cheese yesterday  \n",
       "84  0.496709          Estimated nutrients yesterday  \n",
       "85  0.496570                             Employment  \n",
       "86  0.495391                     Diseases (FinnGen)  \n",
       "87  0.494953                            Medications  \n",
       "88  0.494106                     Impedance measures  \n",
       "89  0.493988                            Medications  \n",
       "90  0.493925                Female-specific factors  \n",
       "91  0.492772                Female-specific factors  \n",
       "92  0.492401                     Employment history  \n",
       "93  0.491543                    ECG during exercise  \n",
       "94  0.490722                                Hearing  \n",
       "95  0.490343                     Impedance measures  \n",
       "96  0.489414                     Impedance measures  \n",
       "97  0.489125                            Medications  \n",
       "98  0.488501                     Employment history  \n",
       "99  0.487699                     Employment history  "
      ]
     },
     "metadata": {},
     "output_type": "display_data"
    }
   ],
   "source": [
    "with pd.option_context(\n",
    "    \"display.max_rows\", None, \"display.max_columns\", None, \"max_colwidth\", None\n",
    "):\n",
    "    display(top_traits)"
   ]
  },
  {
   "cell_type": "markdown",
   "metadata": {
    "papermill": {
     "duration": 0.021433,
     "end_time": "2021-03-25T19:58:29.945250",
     "exception": false,
     "start_time": "2021-03-25T19:58:29.923817",
     "status": "completed"
    },
    "tags": []
   },
   "source": [
    "# Summary using trait categories"
   ]
  },
  {
   "cell_type": "code",
   "execution_count": 36,
   "metadata": {
    "execution": {
     "iopub.execute_input": "2021-03-25T19:58:29.991120Z",
     "iopub.status.busy": "2021-03-25T19:58:29.990758Z",
     "iopub.status.idle": "2021-03-25T19:58:29.999955Z",
     "shell.execute_reply": "2021-03-25T19:58:29.999646Z"
    },
    "papermill": {
     "duration": 0.033225,
     "end_time": "2021-03-25T19:58:30.000040",
     "exception": false,
     "start_time": "2021-03-25T19:58:29.966815",
     "status": "completed"
    },
    "tags": []
   },
   "outputs": [],
   "source": [
    "top_traits_categories = (\n",
    "    top_traits.groupby(\"category\")\n",
    "    .mean()\n",
    "    .sort_values(\"value\", ascending=False)\n",
    "    .reset_index()\n",
    ")"
   ]
  },
  {
   "cell_type": "code",
   "execution_count": 37,
   "metadata": {
    "execution": {
     "iopub.execute_input": "2021-03-25T19:58:30.045928Z",
     "iopub.status.busy": "2021-03-25T19:58:30.045575Z",
     "iopub.status.idle": "2021-03-25T19:58:30.055716Z",
     "shell.execute_reply": "2021-03-25T19:58:30.055352Z"
    },
    "papermill": {
     "duration": 0.033814,
     "end_time": "2021-03-25T19:58:30.055798",
     "exception": false,
     "start_time": "2021-03-25T19:58:30.021984",
     "status": "completed"
    },
    "tags": []
   },
   "outputs": [
    {
     "data": {
      "text/html": [
       "<div>\n",
       "<style scoped>\n",
       "    .dataframe tbody tr th:only-of-type {\n",
       "        vertical-align: middle;\n",
       "    }\n",
       "\n",
       "    .dataframe tbody tr th {\n",
       "        vertical-align: top;\n",
       "    }\n",
       "\n",
       "    .dataframe thead th {\n",
       "        text-align: right;\n",
       "    }\n",
       "</style>\n",
       "<table border=\"1\" class=\"dataframe\">\n",
       "  <thead>\n",
       "    <tr style=\"text-align: right;\">\n",
       "      <th></th>\n",
       "      <th>category</th>\n",
       "      <th>value</th>\n",
       "    </tr>\n",
       "  </thead>\n",
       "  <tbody>\n",
       "    <tr>\n",
       "      <th>0</th>\n",
       "      <td>Diseases (gastrointestinal/abdominal)</td>\n",
       "      <td>0.661201</td>\n",
       "    </tr>\n",
       "    <tr>\n",
       "      <th>1</th>\n",
       "      <td>Diseases (cardiovascular)</td>\n",
       "      <td>0.635583</td>\n",
       "    </tr>\n",
       "    <tr>\n",
       "      <th>2</th>\n",
       "      <td>Blood pressure</td>\n",
       "      <td>0.625225</td>\n",
       "    </tr>\n",
       "    <tr>\n",
       "      <th>3</th>\n",
       "      <td>Male-specific factors</td>\n",
       "      <td>0.604095</td>\n",
       "    </tr>\n",
       "    <tr>\n",
       "      <th>4</th>\n",
       "      <td>Blood count</td>\n",
       "      <td>0.586494</td>\n",
       "    </tr>\n",
       "  </tbody>\n",
       "</table>\n",
       "</div>"
      ],
      "text/plain": [
       "                                category     value\n",
       "0  Diseases (gastrointestinal/abdominal)  0.661201\n",
       "1              Diseases (cardiovascular)  0.635583\n",
       "2                         Blood pressure  0.625225\n",
       "3                  Male-specific factors  0.604095\n",
       "4                            Blood count  0.586494"
      ]
     },
     "execution_count": 37,
     "metadata": {},
     "output_type": "execute_result"
    }
   ],
   "source": [
    "top_traits_categories.head()"
   ]
  },
  {
   "cell_type": "code",
   "execution_count": 38,
   "metadata": {
    "execution": {
     "iopub.execute_input": "2021-03-25T19:58:30.103051Z",
     "iopub.status.busy": "2021-03-25T19:58:30.102699Z",
     "iopub.status.idle": "2021-03-25T19:58:30.114451Z",
     "shell.execute_reply": "2021-03-25T19:58:30.114143Z"
    },
    "papermill": {
     "duration": 0.035869,
     "end_time": "2021-03-25T19:58:30.114531",
     "exception": false,
     "start_time": "2021-03-25T19:58:30.078662",
     "status": "completed"
    },
    "tags": []
   },
   "outputs": [
    {
     "data": {
      "text/html": [
       "<div>\n",
       "<style scoped>\n",
       "    .dataframe tbody tr th:only-of-type {\n",
       "        vertical-align: middle;\n",
       "    }\n",
       "\n",
       "    .dataframe tbody tr th {\n",
       "        vertical-align: top;\n",
       "    }\n",
       "\n",
       "    .dataframe thead th {\n",
       "        text-align: right;\n",
       "    }\n",
       "</style>\n",
       "<table border=\"1\" class=\"dataframe\">\n",
       "  <thead>\n",
       "    <tr style=\"text-align: right;\">\n",
       "      <th></th>\n",
       "      <th>category</th>\n",
       "      <th>value</th>\n",
       "    </tr>\n",
       "  </thead>\n",
       "  <tbody>\n",
       "    <tr>\n",
       "      <th>0</th>\n",
       "      <td>Diseases (gastrointestinal/abdominal)</td>\n",
       "      <td>0.661201</td>\n",
       "    </tr>\n",
       "    <tr>\n",
       "      <th>1</th>\n",
       "      <td>Diseases (cardiovascular)</td>\n",
       "      <td>0.635583</td>\n",
       "    </tr>\n",
       "    <tr>\n",
       "      <th>2</th>\n",
       "      <td>Blood pressure</td>\n",
       "      <td>0.625225</td>\n",
       "    </tr>\n",
       "    <tr>\n",
       "      <th>3</th>\n",
       "      <td>Male-specific factors</td>\n",
       "      <td>0.604095</td>\n",
       "    </tr>\n",
       "    <tr>\n",
       "      <th>4</th>\n",
       "      <td>Blood count</td>\n",
       "      <td>0.586494</td>\n",
       "    </tr>\n",
       "    <tr>\n",
       "      <th>5</th>\n",
       "      <td>Diseases (ICD10 main)</td>\n",
       "      <td>0.582856</td>\n",
       "    </tr>\n",
       "    <tr>\n",
       "      <th>6</th>\n",
       "      <td>Diet</td>\n",
       "      <td>0.568468</td>\n",
       "    </tr>\n",
       "    <tr>\n",
       "      <th>7</th>\n",
       "      <td>Diet questionnaire performance</td>\n",
       "      <td>0.564297</td>\n",
       "    </tr>\n",
       "    <tr>\n",
       "      <th>8</th>\n",
       "      <td>Diseases (FinnGen)</td>\n",
       "      <td>0.553067</td>\n",
       "    </tr>\n",
       "    <tr>\n",
       "      <th>9</th>\n",
       "      <td>Blood</td>\n",
       "      <td>0.552932</td>\n",
       "    </tr>\n",
       "    <tr>\n",
       "      <th>10</th>\n",
       "      <td>Medications</td>\n",
       "      <td>0.552701</td>\n",
       "    </tr>\n",
       "    <tr>\n",
       "      <th>11</th>\n",
       "      <td>Smoking</td>\n",
       "      <td>0.547104</td>\n",
       "    </tr>\n",
       "    <tr>\n",
       "      <th>12</th>\n",
       "      <td>Family history</td>\n",
       "      <td>0.541840</td>\n",
       "    </tr>\n",
       "    <tr>\n",
       "      <th>13</th>\n",
       "      <td>Employment</td>\n",
       "      <td>0.538800</td>\n",
       "    </tr>\n",
       "    <tr>\n",
       "      <th>14</th>\n",
       "      <td>Death register</td>\n",
       "      <td>0.537307</td>\n",
       "    </tr>\n",
       "    <tr>\n",
       "      <th>15</th>\n",
       "      <td>Medication</td>\n",
       "      <td>0.535411</td>\n",
       "    </tr>\n",
       "    <tr>\n",
       "      <th>16</th>\n",
       "      <td>Spreads/sauces/cooking oils yesterday</td>\n",
       "      <td>0.527742</td>\n",
       "    </tr>\n",
       "    <tr>\n",
       "      <th>17</th>\n",
       "      <td>Diseases (neurology/eye/psychiatry)</td>\n",
       "      <td>0.525077</td>\n",
       "    </tr>\n",
       "    <tr>\n",
       "      <th>18</th>\n",
       "      <td>Medical information</td>\n",
       "      <td>0.524756</td>\n",
       "    </tr>\n",
       "    <tr>\n",
       "      <th>19</th>\n",
       "      <td>Alcohol use</td>\n",
       "      <td>0.521400</td>\n",
       "    </tr>\n",
       "    <tr>\n",
       "      <th>20</th>\n",
       "      <td>Physical activity</td>\n",
       "      <td>0.519835</td>\n",
       "    </tr>\n",
       "    <tr>\n",
       "      <th>21</th>\n",
       "      <td>Meat/fish yesterday</td>\n",
       "      <td>0.518036</td>\n",
       "    </tr>\n",
       "    <tr>\n",
       "      <th>22</th>\n",
       "      <td>Impedance measures</td>\n",
       "      <td>0.517868</td>\n",
       "    </tr>\n",
       "    <tr>\n",
       "      <th>23</th>\n",
       "      <td>Unusual and psychotic experiences</td>\n",
       "      <td>0.512827</td>\n",
       "    </tr>\n",
       "    <tr>\n",
       "      <th>24</th>\n",
       "      <td>Employment history</td>\n",
       "      <td>0.509769</td>\n",
       "    </tr>\n",
       "    <tr>\n",
       "      <th>25</th>\n",
       "      <td>Fruit/vegetables yesterday</td>\n",
       "      <td>0.507173</td>\n",
       "    </tr>\n",
       "    <tr>\n",
       "      <th>26</th>\n",
       "      <td>Diseases (endocrine/diabetes)</td>\n",
       "      <td>0.504081</td>\n",
       "    </tr>\n",
       "    <tr>\n",
       "      <th>27</th>\n",
       "      <td>Fluid intelligence / reasoning</td>\n",
       "      <td>0.503661</td>\n",
       "    </tr>\n",
       "    <tr>\n",
       "      <th>28</th>\n",
       "      <td>Diseases (musculoskeletal/trauma)</td>\n",
       "      <td>0.500464</td>\n",
       "    </tr>\n",
       "    <tr>\n",
       "      <th>29</th>\n",
       "      <td>Hearing</td>\n",
       "      <td>0.499052</td>\n",
       "    </tr>\n",
       "    <tr>\n",
       "      <th>30</th>\n",
       "      <td>Psychiatric-neurologic</td>\n",
       "      <td>0.498442</td>\n",
       "    </tr>\n",
       "    <tr>\n",
       "      <th>31</th>\n",
       "      <td>Milk/eggs/cheese yesterday</td>\n",
       "      <td>0.497657</td>\n",
       "    </tr>\n",
       "    <tr>\n",
       "      <th>32</th>\n",
       "      <td>Female-specific factors</td>\n",
       "      <td>0.497219</td>\n",
       "    </tr>\n",
       "    <tr>\n",
       "      <th>33</th>\n",
       "      <td>Estimated nutrients yesterday</td>\n",
       "      <td>0.496709</td>\n",
       "    </tr>\n",
       "    <tr>\n",
       "      <th>34</th>\n",
       "      <td>ECG during exercise</td>\n",
       "      <td>0.491543</td>\n",
       "    </tr>\n",
       "  </tbody>\n",
       "</table>\n",
       "</div>"
      ],
      "text/plain": [
       "                                 category     value\n",
       "0   Diseases (gastrointestinal/abdominal)  0.661201\n",
       "1               Diseases (cardiovascular)  0.635583\n",
       "2                          Blood pressure  0.625225\n",
       "3                   Male-specific factors  0.604095\n",
       "4                             Blood count  0.586494\n",
       "5                   Diseases (ICD10 main)  0.582856\n",
       "6                                    Diet  0.568468\n",
       "7          Diet questionnaire performance  0.564297\n",
       "8                      Diseases (FinnGen)  0.553067\n",
       "9                                   Blood  0.552932\n",
       "10                            Medications  0.552701\n",
       "11                                Smoking  0.547104\n",
       "12                         Family history  0.541840\n",
       "13                             Employment  0.538800\n",
       "14                         Death register  0.537307\n",
       "15                             Medication  0.535411\n",
       "16  Spreads/sauces/cooking oils yesterday  0.527742\n",
       "17    Diseases (neurology/eye/psychiatry)  0.525077\n",
       "18                    Medical information  0.524756\n",
       "19                            Alcohol use  0.521400\n",
       "20                      Physical activity  0.519835\n",
       "21                    Meat/fish yesterday  0.518036\n",
       "22                     Impedance measures  0.517868\n",
       "23      Unusual and psychotic experiences  0.512827\n",
       "24                     Employment history  0.509769\n",
       "25             Fruit/vegetables yesterday  0.507173\n",
       "26          Diseases (endocrine/diabetes)  0.504081\n",
       "27         Fluid intelligence / reasoning  0.503661\n",
       "28      Diseases (musculoskeletal/trauma)  0.500464\n",
       "29                                Hearing  0.499052\n",
       "30                 Psychiatric-neurologic  0.498442\n",
       "31             Milk/eggs/cheese yesterday  0.497657\n",
       "32                Female-specific factors  0.497219\n",
       "33          Estimated nutrients yesterday  0.496709\n",
       "34                    ECG during exercise  0.491543"
      ]
     },
     "metadata": {},
     "output_type": "display_data"
    }
   ],
   "source": [
    "with pd.option_context(\n",
    "    \"display.max_rows\", None, \"display.max_columns\", None, \"max_colwidth\", None\n",
    "):\n",
    "    display(top_traits_categories)"
   ]
  },
  {
   "cell_type": "code",
   "execution_count": 39,
   "metadata": {
    "execution": {
     "iopub.execute_input": "2021-03-25T19:58:30.164022Z",
     "iopub.status.busy": "2021-03-25T19:58:30.163656Z",
     "iopub.status.idle": "2021-03-25T19:58:30.282867Z",
     "shell.execute_reply": "2021-03-25T19:58:30.282493Z"
    },
    "papermill": {
     "duration": 0.145653,
     "end_time": "2021-03-25T19:58:30.282951",
     "exception": false,
     "start_time": "2021-03-25T19:58:30.137298",
     "status": "completed"
    },
    "tags": []
   },
   "outputs": [
    {
     "data": {
      "text/html": [
       "<h2>Diseases (gastrointestinal/abdominal)</h2>"
      ],
      "text/plain": [
       "<IPython.core.display.HTML object>"
      ]
     },
     "metadata": {},
     "output_type": "display_data"
    },
    {
     "data": {
      "text/plain": [
       "trait\n",
       "constipation      0.545498\n",
       "celiac disease    0.776903\n",
       "Name: value, dtype: float64"
      ]
     },
     "metadata": {},
     "output_type": "display_data"
    },
    {
     "data": {
      "text/html": [
       "<h2>Diseases (cardiovascular)</h2>"
      ],
      "text/plain": [
       "<IPython.core.display.HTML object>"
      ]
     },
     "metadata": {},
     "output_type": "display_data"
    },
    {
     "data": {
      "text/plain": [
       "trait\n",
       "hypertension                                                             0.612161\n",
       "6150_4-Vascularheart_problems_diagnosed_by_doctor_High_blood_pressure    0.633882\n",
       "6150_100-Vascularheart_problems_diagnosed_by_doctor_None_of_the_above    0.660706\n",
       "Name: value, dtype: float64"
      ]
     },
     "metadata": {},
     "output_type": "display_data"
    },
    {
     "data": {
      "text/html": [
       "<h2>Blood pressure</h2>"
      ],
      "text/plain": [
       "<IPython.core.display.HTML object>"
      ]
     },
     "metadata": {},
     "output_type": "display_data"
    },
    {
     "data": {
      "text/plain": [
       "trait\n",
       "4080_raw-Systolic_blood_pressure_automated_reading     0.576415\n",
       "102_raw-Pulse_rate_automated_reading                   0.576578\n",
       "4079_raw-Diastolic_blood_pressure_automated_reading    0.722681\n",
       "Name: value, dtype: float64"
      ]
     },
     "metadata": {},
     "output_type": "display_data"
    },
    {
     "data": {
      "text/html": [
       "<h2>Male-specific factors</h2>"
      ],
      "text/plain": [
       "<IPython.core.display.HTML object>"
      ]
     },
     "metadata": {},
     "output_type": "display_data"
    },
    {
     "data": {
      "text/plain": [
       "trait\n",
       "age at first facial hair    0.604095\n",
       "Name: value, dtype: float64"
      ]
     },
     "metadata": {},
     "output_type": "display_data"
    },
    {
     "data": {
      "text/html": [
       "<h2>Blood count</h2>"
      ],
      "text/plain": [
       "<IPython.core.display.HTML object>"
      ]
     },
     "metadata": {},
     "output_type": "display_data"
    },
    {
     "data": {
      "text/plain": [
       "trait\n",
       "30290_raw-High_light_scatter_reticulocyte_percentage    0.503232\n",
       "30300_raw-High_light_scatter_reticulocyte_count         0.544050\n",
       "30140_raw-Neutrophill_count                             0.552830\n",
       "30000_raw-White_blood_cell_leukocyte_count              0.556974\n",
       "30040_raw-Mean_corpuscular_volume                       0.568884\n",
       "30050_raw-Mean_corpuscular_haemoglobin                  0.570040\n",
       "30260_raw-Mean_reticulocyte_volume                      0.581731\n",
       "30230-Nucleated_red_blood_cell_percentage               0.611398\n",
       "30170-Nucleated_red_blood_cell_count                    0.618583\n",
       "30110_raw-Platelet_distribution_width                   0.647184\n",
       "30280_raw-Immature_reticulocyte_fraction                0.696531\n",
       "Name: value, dtype: float64"
      ]
     },
     "metadata": {},
     "output_type": "display_data"
    },
    {
     "data": {
      "text/html": [
       "<h2>Diseases (ICD10 main)</h2>"
      ],
      "text/plain": [
       "<IPython.core.display.HTML object>"
      ]
     },
     "metadata": {},
     "output_type": "display_data"
    },
    {
     "data": {
      "text/plain": [
       "trait\n",
       "bundle branch block       0.539081\n",
       "atherosclerosis           0.594194\n",
       "malabsorption syndrome    0.615291\n",
       "Name: value, dtype: float64"
      ]
     },
     "metadata": {},
     "output_type": "display_data"
    },
    {
     "data": {
      "text/html": [
       "<h2>Diet</h2>"
      ],
      "text/plain": [
       "<IPython.core.display.HTML object>"
      ]
     },
     "metadata": {},
     "output_type": "display_data"
    },
    {
     "data": {
      "text/plain": [
       "trait\n",
       "1418_4-Milk_type_used_Soya       0.560497\n",
       "1418_3-Milk_type_used_Skimmed    0.576438\n",
       "Name: value, dtype: float64"
      ]
     },
     "metadata": {},
     "output_type": "display_data"
    },
    {
     "data": {
      "text/html": [
       "<h2>Diet questionnaire performance</h2>"
      ],
      "text/plain": [
       "<IPython.core.display.HTML object>"
      ]
     },
     "metadata": {},
     "output_type": "display_data"
    },
    {
     "data": {
      "text/plain": [
       "trait\n",
       "20079_2-Dayofweek_questionnaire_completion_requested_Tuesday     0.552815\n",
       "20079_4-Dayofweek_questionnaire_completion_requested_Thursday    0.575779\n",
       "Name: value, dtype: float64"
      ]
     },
     "metadata": {},
     "output_type": "display_data"
    },
    {
     "data": {
      "text/html": [
       "<h2>Diseases (FinnGen)</h2>"
      ],
      "text/plain": [
       "<IPython.core.display.HTML object>"
      ]
     },
     "metadata": {},
     "output_type": "display_data"
    },
    {
     "data": {
      "text/plain": [
       "trait\n",
       "H7_EPIPHORA-Epiphora                              0.495391\n",
       "SFN-Small_fibre_neuropathy                        0.506619\n",
       "I9_CONDUCTIO-Conduction_disorders                 0.515467\n",
       "DM_PERIPHATHERO-Peripheral_atherosclerosis        0.520464\n",
       "II_NEOPLASM-Neoplasms                             0.521542\n",
       "I9_AVBLOCK-AVblock                                0.545419\n",
       "C3_SKIN-Malignant_neoplasm_of_skin                0.568443\n",
       "C_SKIN                                            0.568443\n",
       "C_OTHER_SKIN-Other_malignant_neoplasms_of_skin    0.581328\n",
       "K11_COELIAC-Coeliac_disease                       0.614442\n",
       "I9_UAP-Unstable_angina_pectoris                   0.646180\n",
       "Name: value, dtype: float64"
      ]
     },
     "metadata": {},
     "output_type": "display_data"
    },
    {
     "data": {
      "text/html": [
       "<h2>Blood</h2>"
      ],
      "text/plain": [
       "<IPython.core.display.HTML object>"
      ]
     },
     "metadata": {},
     "output_type": "display_data"
    },
    {
     "data": {
      "text/plain": [
       "trait\n",
       "neutrophil count                           0.518732\n",
       "sum of basophil and neutrophil counts      0.523174\n",
       "sum of neutrophil and eosinophil counts    0.556021\n",
       "granulocyte count                          0.559858\n",
       "myeloid white cell count                   0.569032\n",
       "leukocyte count                            0.590772\n",
       "Name: value, dtype: float64"
      ]
     },
     "metadata": {},
     "output_type": "display_data"
    },
    {
     "data": {
      "text/html": [
       "<h2>Medications</h2>"
      ],
      "text/plain": [
       "<IPython.core.display.HTML object>"
      ]
     },
     "metadata": {},
     "output_type": "display_data"
    },
    {
     "data": {
      "text/plain": [
       "trait\n",
       "20003_1140879802-Treatmentmedication_code_amlodipine                                                0.489125\n",
       "20003_1141153032-Treatmentmedication_code_zanidip_10mg_tablet                                       0.493988\n",
       "20003_1141180936-Treatmentmedication_code_calcium_carbonatecolecalciferol_125g5micrograms_tablet    0.494953\n",
       "20003_1141180314-Treatmentmedication_code_ibandronic_acid                                           0.500052\n",
       "20003_1197-Treatmentmedication_code_evening_primrose_oil_product                                    0.501303\n",
       "20003_1140862086-Treatmentmedication_code_salamol_100micrograms_inhaler                             0.521422\n",
       "20003_1140888386-Treatmentmedication_code_iron_product                                              0.561646\n",
       "20003_1140882910-Treatmentmedication_code_daktacort_cream                                           0.566470\n",
       "20003_1140884672-Treatmentmedication_code_fludrocortisone                                           0.570429\n",
       "20003_1140861936-Treatmentmedication_code_questran_4gsachet_powder                                  0.574406\n",
       "20003_1141157132-Treatmentmedication_code_singulair_10mg_tablet                                     0.585853\n",
       "20003_1140851812-Treatmentmedication_code_gtn_400micrograms_spray                                   0.586070\n",
       "20003_1140888366-Treatmentmedication_code_thiamine_preparation                                      0.595872\n",
       "20003_1140888390-Treatmentmedication_code_ferrous_salt_product                                      0.696229\n",
       "Name: value, dtype: float64"
      ]
     },
     "metadata": {},
     "output_type": "display_data"
    },
    {
     "data": {
      "text/html": [
       "<h2>Smoking</h2>"
      ],
      "text/plain": [
       "<IPython.core.display.HTML object>"
      ]
     },
     "metadata": {},
     "output_type": "display_data"
    },
    {
     "data": {
      "text/plain": [
       "trait\n",
       "2877_3-Type_of_tobacco_previously_smoked_Cigars_or_pipes    0.511946\n",
       "3476-Difficulty_not_smoking_for_1_day                       0.582263\n",
       "Name: value, dtype: float64"
      ]
     },
     "metadata": {},
     "output_type": "display_data"
    },
    {
     "data": {
      "text/html": [
       "<h2>Family history</h2>"
      ],
      "text/plain": [
       "<IPython.core.display.HTML object>"
      ]
     },
     "metadata": {},
     "output_type": "display_data"
    },
    {
     "data": {
      "text/plain": [
       "trait\n",
       "20107_11-Illnesses_of_father_Parkinsons_disease    0.54184\n",
       "Name: value, dtype: float64"
      ]
     },
     "metadata": {},
     "output_type": "display_data"
    },
    {
     "data": {
      "text/html": [
       "<h2>Employment</h2>"
      ],
      "text/plain": [
       "<IPython.core.display.HTML object>"
      ]
     },
     "metadata": {},
     "output_type": "display_data"
    },
    {
     "data": {
      "text/plain": [
       "trait\n",
       "816-Job_involves_heavy_manual_or_physical_work    0.49657\n",
       "767_raw-Length_of_working_week_for_main_job       0.58103\n",
       "Name: value, dtype: float64"
      ]
     },
     "metadata": {},
     "output_type": "display_data"
    },
    {
     "data": {
      "text/html": [
       "<h2>Death register</h2>"
      ],
      "text/plain": [
       "<IPython.core.display.HTML object>"
      ]
     },
     "metadata": {},
     "output_type": "display_data"
    },
    {
     "data": {
      "text/plain": [
       "trait\n",
       "40001_C169-Underlying_primary_cause_of_death_ICD10_C169_Stomach_unspecified    0.537307\n",
       "Name: value, dtype: float64"
      ]
     },
     "metadata": {},
     "output_type": "display_data"
    },
    {
     "data": {
      "text/html": [
       "<h2>Medication</h2>"
      ],
      "text/plain": [
       "<IPython.core.display.HTML object>"
      ]
     },
     "metadata": {},
     "output_type": "display_data"
    },
    {
     "data": {
      "text/plain": [
       "trait\n",
       "6153_2-Medication_for_cholesterol_blood_pressure_diabetes_or_take_exogenous_hormones_Blood_pressure_medication    0.535411\n",
       "Name: value, dtype: float64"
      ]
     },
     "metadata": {},
     "output_type": "display_data"
    },
    {
     "data": {
      "text/html": [
       "<h2>Spreads/sauces/cooking oils yesterday</h2>"
      ],
      "text/plain": [
       "<IPython.core.display.HTML object>"
      ]
     },
     "metadata": {},
     "output_type": "display_data"
    },
    {
     "data": {
      "text/plain": [
       "trait\n",
       "20090_360-Type_of_fatoil_used_in_cooking_Spreadable_butter    0.527742\n",
       "Name: value, dtype: float64"
      ]
     },
     "metadata": {},
     "output_type": "display_data"
    },
    {
     "data": {
      "text/html": [
       "<h2>Diseases (neurology/eye/psychiatry)</h2>"
      ],
      "text/plain": [
       "<IPython.core.display.HTML object>"
      ]
     },
     "metadata": {},
     "output_type": "display_data"
    },
    {
     "data": {
      "text/plain": [
       "trait\n",
       "eye disease    0.525077\n",
       "Name: value, dtype: float64"
      ]
     },
     "metadata": {},
     "output_type": "display_data"
    },
    {
     "data": {
      "text/html": [
       "<h2>Medical information</h2>"
      ],
      "text/plain": [
       "<IPython.core.display.HTML object>"
      ]
     },
     "metadata": {},
     "output_type": "display_data"
    },
    {
     "data": {
      "text/plain": [
       "trait\n",
       "22503_raw-Years_of_cough_on_most_days     0.499099\n",
       "22506_112-Tobacco_smoking_Occasionally    0.550412\n",
       "Name: value, dtype: float64"
      ]
     },
     "metadata": {},
     "output_type": "display_data"
    },
    {
     "data": {
      "text/html": [
       "<h2>Alcohol use</h2>"
      ],
      "text/plain": [
       "<IPython.core.display.HTML object>"
      ]
     },
     "metadata": {},
     "output_type": "display_data"
    },
    {
     "data": {
      "text/plain": [
       "trait\n",
       "20411_1-Ever_been_injured_or_injured_someone_else_through_drinking_alcohol_Yes_but_not_in_the_last_year    0.5214\n",
       "Name: value, dtype: float64"
      ]
     },
     "metadata": {},
     "output_type": "display_data"
    },
    {
     "data": {
      "text/html": [
       "<h2>Physical activity</h2>"
      ],
      "text/plain": [
       "<IPython.core.display.HTML object>"
      ]
     },
     "metadata": {},
     "output_type": "display_data"
    },
    {
     "data": {
      "text/plain": [
       "trait\n",
       "6164_2-Types_of_physical_activity_in_last_4_weeks_Other_exercises_eg_swimming_cycling_keep_fit_bowling    0.519835\n",
       "Name: value, dtype: float64"
      ]
     },
     "metadata": {},
     "output_type": "display_data"
    },
    {
     "data": {
      "text/html": [
       "<h2>Meat/fish yesterday</h2>"
      ],
      "text/plain": [
       "<IPython.core.display.HTML object>"
      ]
     },
     "metadata": {},
     "output_type": "display_data"
    },
    {
     "data": {
      "text/plain": [
       "trait\n",
       "103060-Poultry_intake    0.518036\n",
       "Name: value, dtype: float64"
      ]
     },
     "metadata": {},
     "output_type": "display_data"
    },
    {
     "data": {
      "text/html": [
       "<h2>Impedance measures</h2>"
      ],
      "text/plain": [
       "<IPython.core.display.HTML object>"
      ]
     },
     "metadata": {},
     "output_type": "display_data"
    },
    {
     "data": {
      "text/plain": [
       "trait\n",
       "23125_raw-Arm_fatfree_mass_left       0.489414\n",
       "23114_raw-Leg_predicted_mass_right    0.490343\n",
       "23113_raw-Leg_fatfree_mass_right      0.494106\n",
       "23107_raw-Impedance_of_leg_right      0.552571\n",
       "23108_raw-Impedance_of_leg_left       0.562905\n",
       "Name: value, dtype: float64"
      ]
     },
     "metadata": {},
     "output_type": "display_data"
    },
    {
     "data": {
      "text/html": [
       "<h2>Unusual and psychotic experiences</h2>"
      ],
      "text/plain": [
       "<IPython.core.display.HTML object>"
      ]
     },
     "metadata": {},
     "output_type": "display_data"
    },
    {
     "data": {
      "text/plain": [
       "trait\n",
       "20463-Ever_heard_an_unreal_voice    0.512827\n",
       "Name: value, dtype: float64"
      ]
     },
     "metadata": {},
     "output_type": "display_data"
    },
    {
     "data": {
      "text/html": [
       "<h2>Employment history</h2>"
      ],
      "text/plain": [
       "<IPython.core.display.HTML object>"
      ]
     },
     "metadata": {},
     "output_type": "display_data"
    },
    {
     "data": {
      "text/plain": [
       "trait\n",
       "22617_3563-Job_SOC_coding_Vocational_and_industrial_trainers_and_instructors                                     0.487699\n",
       "22617_1233-Job_SOC_coding_Hairdressing_and_beauty_salon_managers_and_proprietors                                 0.488501\n",
       "22601_71233339-Job_coding_roundsman_or_woman_van_salesperson_ice_cream_seller_milkman_mobile_shop_salesperson    0.492401\n",
       "22601_24443114-Job_coding_clergymanwoman_any_religious_officerleader                                             0.503761\n",
       "22617_1232-Job_SOC_coding_Garage_managers_and_proprietors                                                        0.514888\n",
       "22614_1-Worked_with_pesticides_Sometimes                                                                         0.516223\n",
       "22617_2444-Job_SOC_coding_Clergy                                                                                 0.526205\n",
       "22617_3232-Job_SOC_coding_Housing_and_welfare_officers                                                           0.526430\n",
       "22617_8114-Job_SOC_coding_Chemical_and_related_process_operatives                                                0.531808\n",
       "Name: value, dtype: float64"
      ]
     },
     "metadata": {},
     "output_type": "display_data"
    },
    {
     "data": {
      "text/html": [
       "<h2>Fruit/vegetables yesterday</h2>"
      ],
      "text/plain": [
       "<IPython.core.display.HTML object>"
      ]
     },
     "metadata": {},
     "output_type": "display_data"
    },
    {
     "data": {
      "text/plain": [
       "trait\n",
       "104460-Banana_intake    0.507173\n",
       "Name: value, dtype: float64"
      ]
     },
     "metadata": {},
     "output_type": "display_data"
    },
    {
     "data": {
      "text/html": [
       "<h2>Diseases (endocrine/diabetes)</h2>"
      ],
      "text/plain": [
       "<IPython.core.display.HTML object>"
      ]
     },
     "metadata": {},
     "output_type": "display_data"
    },
    {
     "data": {
      "text/plain": [
       "trait\n",
       "adrenocortical insufficiency    0.504081\n",
       "Name: value, dtype: float64"
      ]
     },
     "metadata": {},
     "output_type": "display_data"
    },
    {
     "data": {
      "text/html": [
       "<h2>Fluid intelligence / reasoning</h2>"
      ],
      "text/plain": [
       "<IPython.core.display.HTML object>"
      ]
     },
     "metadata": {},
     "output_type": "display_data"
    },
    {
     "data": {
      "text/plain": [
       "trait\n",
       "4990-FI6_conditional_arithmetic    0.503661\n",
       "Name: value, dtype: float64"
      ]
     },
     "metadata": {},
     "output_type": "display_data"
    },
    {
     "data": {
      "text/html": [
       "<h2>Diseases (musculoskeletal/trauma)</h2>"
      ],
      "text/plain": [
       "<IPython.core.display.HTML object>"
      ]
     },
     "metadata": {},
     "output_type": "display_data"
    },
    {
     "data": {
      "text/plain": [
       "trait\n",
       "tibia fracture    0.500464\n",
       "Name: value, dtype: float64"
      ]
     },
     "metadata": {},
     "output_type": "display_data"
    },
    {
     "data": {
      "text/html": [
       "<h2>Hearing</h2>"
      ],
      "text/plain": [
       "<IPython.core.display.HTML object>"
      ]
     },
     "metadata": {},
     "output_type": "display_data"
    },
    {
     "data": {
      "text/plain": [
       "trait\n",
       "4825-Noisy_workplace                                     0.490722\n",
       "4803_14-Tinnitus_Yes_but_not_now_but_have_in_the_past    0.507381\n",
       "Name: value, dtype: float64"
      ]
     },
     "metadata": {},
     "output_type": "display_data"
    },
    {
     "data": {
      "text/html": [
       "<h2>Psychiatric-neurologic</h2>"
      ],
      "text/plain": [
       "<IPython.core.display.HTML object>"
      ]
     },
     "metadata": {},
     "output_type": "display_data"
    },
    {
     "data": {
      "text/plain": [
       "trait\n",
       "Jones_et_al_2016_Chronotype    0.498442\n",
       "Name: value, dtype: float64"
      ]
     },
     "metadata": {},
     "output_type": "display_data"
    },
    {
     "data": {
      "text/html": [
       "<h2>Milk/eggs/cheese yesterday</h2>"
      ],
      "text/plain": [
       "<IPython.core.display.HTML object>"
      ]
     },
     "metadata": {},
     "output_type": "display_data"
    },
    {
     "data": {
      "text/plain": [
       "trait\n",
       "100920_2105-Type_milk_consumed_soya_with_calcium    0.497657\n",
       "Name: value, dtype: float64"
      ]
     },
     "metadata": {},
     "output_type": "display_data"
    },
    {
     "data": {
      "text/html": [
       "<h2>Female-specific factors</h2>"
      ],
      "text/plain": [
       "<IPython.core.display.HTML object>"
      ]
     },
     "metadata": {},
     "output_type": "display_data"
    },
    {
     "data": {
      "text/plain": [
       "trait\n",
       "3536_raw-Age_started_hormonereplacement_therapy_HRT    0.492772\n",
       "3872_raw-Age_of_primiparous_women_at_birth_of_child    0.493925\n",
       "hormone replacement therapy                            0.504959\n",
       "Name: value, dtype: float64"
      ]
     },
     "metadata": {},
     "output_type": "display_data"
    },
    {
     "data": {
      "text/html": [
       "<h2>Estimated nutrients yesterday</h2>"
      ],
      "text/plain": [
       "<IPython.core.display.HTML object>"
      ]
     },
     "metadata": {},
     "output_type": "display_data"
    },
    {
     "data": {
      "text/plain": [
       "trait\n",
       "100016_raw-Potassium    0.496709\n",
       "Name: value, dtype: float64"
      ]
     },
     "metadata": {},
     "output_type": "display_data"
    },
    {
     "data": {
      "text/html": [
       "<h2>ECG during exercise</h2>"
      ],
      "text/plain": [
       "<IPython.core.display.HTML object>"
      ]
     },
     "metadata": {},
     "output_type": "display_data"
    },
    {
     "data": {
      "text/plain": [
       "trait\n",
       "5992-ECG_phase_duration    0.491543\n",
       "Name: value, dtype: float64"
      ]
     },
     "metadata": {},
     "output_type": "display_data"
    }
   ],
   "source": [
    "for row_idx, row in top_traits_categories.iterrows():\n",
    "    category = row[\"category\"]\n",
    "    display(HTML(f\"<h2>{category}</h2>\"))\n",
    "\n",
    "    _df = (\n",
    "        top_traits[top_traits[\"category\"] == category]\n",
    "        .groupby(\"trait\")[\"value\"]\n",
    "        .mean()\n",
    "        .sort_values()\n",
    "    )\n",
    "    display(_df)"
   ]
  },
  {
   "cell_type": "code",
   "execution_count": null,
   "metadata": {
    "papermill": {
     "duration": 0.037738,
     "end_time": "2021-03-25T19:58:30.359435",
     "exception": false,
     "start_time": "2021-03-25T19:58:30.321697",
     "status": "completed"
    },
    "tags": []
   },
   "outputs": [],
   "source": []
  }
 ],
 "metadata": {
  "jupytext": {
   "cell_metadata_filter": "all,-execution,-papermill,-trusted",
   "formats": "ipynb,py//py:percent"
  },
  "kernelspec": {
   "display_name": "Python 3",
   "language": "python",
   "name": "python3"
  },
  "language_info": {
   "codemirror_mode": {
    "name": "ipython",
    "version": 3
   },
   "file_extension": ".py",
   "mimetype": "text/x-python",
   "name": "python",
   "nbconvert_exporter": "python",
   "pygments_lexer": "ipython3",
   "version": "3.8.8"
  },
  "papermill": {
   "default_parameters": {},
   "duration": 6.753955,
   "end_time": "2021-03-25T19:58:30.704079",
   "environment_variables": {},
   "exception": null,
   "input_path": "30_validation/crispr_screen/030_20-deg_genes-lvs-decrease.ipynb",
   "output_path": "30_validation/crispr_screen/030_20-deg_genes-lvs-decrease.run.ipynb",
   "parameters": {},
   "start_time": "2021-03-25T19:58:23.950124",
   "version": "2.2.2"
  },
  "toc-autonumbering": true
 },
 "nbformat": 4,
 "nbformat_minor": 4
}
