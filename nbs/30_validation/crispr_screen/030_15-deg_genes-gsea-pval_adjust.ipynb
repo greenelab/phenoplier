{
 "cells": [
  {
   "cell_type": "markdown",
   "metadata": {
    "papermill": {
     "duration": 0.036906,
     "end_time": "2021-05-21T13:46:09.456566",
     "exception": false,
     "start_time": "2021-05-21T13:46:09.419660",
     "status": "completed"
    },
    "tags": []
   },
   "source": [
    "# Description"
   ]
  },
  {
   "cell_type": "markdown",
   "metadata": {
    "papermill": {
     "duration": 0.00963,
     "end_time": "2021-05-21T13:46:09.483128",
     "exception": false,
     "start_time": "2021-05-21T13:46:09.473498",
     "status": "completed"
    },
    "tags": []
   },
   "source": [
    "TODO"
   ]
  },
  {
   "cell_type": "markdown",
   "metadata": {
    "papermill": {
     "duration": 0.008183,
     "end_time": "2021-05-21T13:46:09.499531",
     "exception": false,
     "start_time": "2021-05-21T13:46:09.491348",
     "status": "completed"
    },
    "tags": []
   },
   "source": [
    "# Modules loading"
   ]
  },
  {
   "cell_type": "code",
   "execution_count": 1,
   "metadata": {
    "execution": {
     "iopub.execute_input": "2021-05-21T13:46:09.522287Z",
     "iopub.status.busy": "2021-05-21T13:46:09.521913Z",
     "iopub.status.idle": "2021-05-21T13:46:09.529566Z",
     "shell.execute_reply": "2021-05-21T13:46:09.529152Z"
    },
    "papermill": {
     "duration": 0.021597,
     "end_time": "2021-05-21T13:46:09.529655",
     "exception": false,
     "start_time": "2021-05-21T13:46:09.508058",
     "status": "completed"
    },
    "tags": []
   },
   "outputs": [],
   "source": [
    "%load_ext autoreload\n",
    "%autoreload 2"
   ]
  },
  {
   "cell_type": "code",
   "execution_count": 2,
   "metadata": {
    "execution": {
     "iopub.execute_input": "2021-05-21T13:46:09.549759Z",
     "iopub.status.busy": "2021-05-21T13:46:09.549392Z",
     "iopub.status.idle": "2021-05-21T13:46:09.949076Z",
     "shell.execute_reply": "2021-05-21T13:46:09.948687Z"
    },
    "papermill": {
     "duration": 0.410558,
     "end_time": "2021-05-21T13:46:09.949179",
     "exception": false,
     "start_time": "2021-05-21T13:46:09.538621",
     "status": "completed"
    },
    "tags": []
   },
   "outputs": [],
   "source": [
    "from pathlib import Path\n",
    "\n",
    "import numpy as np\n",
    "import pandas as pd\n",
    "from IPython.display import HTML\n",
    "from statsmodels.stats.multitest import multipletests\n",
    "\n",
    "from entity import Trait\n",
    "from data.cache import read_data\n",
    "import conf"
   ]
  },
  {
   "cell_type": "markdown",
   "metadata": {
    "papermill": {
     "duration": 0.009391,
     "end_time": "2021-05-21T13:46:09.968856",
     "exception": false,
     "start_time": "2021-05-21T13:46:09.959465",
     "status": "completed"
    },
    "tags": []
   },
   "source": [
    "# Settings"
   ]
  },
  {
   "cell_type": "code",
   "execution_count": 3,
   "metadata": {
    "execution": {
     "iopub.execute_input": "2021-05-21T13:46:09.990191Z",
     "iopub.status.busy": "2021-05-21T13:46:09.989837Z",
     "iopub.status.idle": "2021-05-21T13:46:09.997445Z",
     "shell.execute_reply": "2021-05-21T13:46:09.997118Z"
    },
    "papermill": {
     "duration": 0.01909,
     "end_time": "2021-05-21T13:46:09.997531",
     "exception": false,
     "start_time": "2021-05-21T13:46:09.978441",
     "status": "completed"
    },
    "tags": []
   },
   "outputs": [],
   "source": [
    "FGSEA_INPUT_FILEPATH = Path(\n",
    "    conf.RESULTS[\"CRISPR_ANALYSES\"][\"BASE_DIR\"], \"fgsea-all_lvs.tsv\"\n",
    ").resolve()"
   ]
  },
  {
   "cell_type": "markdown",
   "metadata": {
    "papermill": {
     "duration": 0.008456,
     "end_time": "2021-05-21T13:46:10.015165",
     "exception": false,
     "start_time": "2021-05-21T13:46:10.006709",
     "status": "completed"
    },
    "tags": []
   },
   "source": [
    "# Data loading"
   ]
  },
  {
   "cell_type": "markdown",
   "metadata": {
    "papermill": {
     "duration": 0.008261,
     "end_time": "2021-05-21T13:46:10.032210",
     "exception": false,
     "start_time": "2021-05-21T13:46:10.023949",
     "status": "completed"
    },
    "tags": []
   },
   "source": [
    "## LVs enrichment on DEG from CRISPR screen"
   ]
  },
  {
   "cell_type": "code",
   "execution_count": 4,
   "metadata": {
    "execution": {
     "iopub.execute_input": "2021-05-21T13:46:10.051466Z",
     "iopub.status.busy": "2021-05-21T13:46:10.051112Z",
     "iopub.status.idle": "2021-05-21T13:46:10.089236Z",
     "shell.execute_reply": "2021-05-21T13:46:10.089527Z"
    },
    "papermill": {
     "duration": 0.049025,
     "end_time": "2021-05-21T13:46:10.089631",
     "exception": false,
     "start_time": "2021-05-21T13:46:10.040606",
     "status": "completed"
    },
    "tags": []
   },
   "outputs": [],
   "source": [
    "deg_enrich = pd.read_csv(\n",
    "    FGSEA_INPUT_FILEPATH,\n",
    "    sep=\"\\t\",\n",
    ").drop(columns=[\"padj\"])"
   ]
  },
  {
   "cell_type": "code",
   "execution_count": 5,
   "metadata": {
    "execution": {
     "iopub.execute_input": "2021-05-21T13:46:10.109824Z",
     "iopub.status.busy": "2021-05-21T13:46:10.109472Z",
     "iopub.status.idle": "2021-05-21T13:46:10.121274Z",
     "shell.execute_reply": "2021-05-21T13:46:10.120960Z"
    },
    "papermill": {
     "duration": 0.022606,
     "end_time": "2021-05-21T13:46:10.121355",
     "exception": false,
     "start_time": "2021-05-21T13:46:10.098749",
     "status": "completed"
    },
    "tags": []
   },
   "outputs": [
    {
     "data": {
      "text/plain": [
       "(19730, 9)"
      ]
     },
     "execution_count": 5,
     "metadata": {},
     "output_type": "execute_result"
    }
   ],
   "source": [
    "deg_enrich.shape"
   ]
  },
  {
   "cell_type": "code",
   "execution_count": 6,
   "metadata": {
    "execution": {
     "iopub.execute_input": "2021-05-21T13:46:10.141812Z",
     "iopub.status.busy": "2021-05-21T13:46:10.141461Z",
     "iopub.status.idle": "2021-05-21T13:46:10.179665Z",
     "shell.execute_reply": "2021-05-21T13:46:10.180016Z"
    },
    "papermill": {
     "duration": 0.049555,
     "end_time": "2021-05-21T13:46:10.180144",
     "exception": false,
     "start_time": "2021-05-21T13:46:10.130589",
     "status": "completed"
    },
    "tags": []
   },
   "outputs": [
    {
     "data": {
      "text/html": [
       "<div>\n",
       "<style scoped>\n",
       "    .dataframe tbody tr th:only-of-type {\n",
       "        vertical-align: middle;\n",
       "    }\n",
       "\n",
       "    .dataframe tbody tr th {\n",
       "        vertical-align: top;\n",
       "    }\n",
       "\n",
       "    .dataframe thead th {\n",
       "        text-align: right;\n",
       "    }\n",
       "</style>\n",
       "<table border=\"1\" class=\"dataframe\">\n",
       "  <thead>\n",
       "    <tr style=\"text-align: right;\">\n",
       "      <th></th>\n",
       "      <th>pathway</th>\n",
       "      <th>pval</th>\n",
       "      <th>log2err</th>\n",
       "      <th>ES</th>\n",
       "      <th>NES</th>\n",
       "      <th>size</th>\n",
       "      <th>leadingEdge</th>\n",
       "      <th>lv</th>\n",
       "      <th>rep_idx</th>\n",
       "    </tr>\n",
       "  </thead>\n",
       "  <tbody>\n",
       "    <tr>\n",
       "      <th>0</th>\n",
       "      <td>gene_set_decrease</td>\n",
       "      <td>0.184815</td>\n",
       "      <td>0.095921</td>\n",
       "      <td>0.578418</td>\n",
       "      <td>1.126666</td>\n",
       "      <td>35</td>\n",
       "      <td>PTBP1, KEAP1, PEX14, DLST, PCYT2, MAD2L2, GLRX...</td>\n",
       "      <td>LV1</td>\n",
       "      <td>1</td>\n",
       "    </tr>\n",
       "    <tr>\n",
       "      <th>1</th>\n",
       "      <td>gene_set_increase</td>\n",
       "      <td>0.235764</td>\n",
       "      <td>0.082205</td>\n",
       "      <td>0.539155</td>\n",
       "      <td>1.076511</td>\n",
       "      <td>63</td>\n",
       "      <td>CHERP, RANGAP1, HNRNPL, RPS2, E4F1, TAF1C, GAT...</td>\n",
       "      <td>LV1</td>\n",
       "      <td>1</td>\n",
       "    </tr>\n",
       "    <tr>\n",
       "      <th>2</th>\n",
       "      <td>gene_set_decrease</td>\n",
       "      <td>0.198801</td>\n",
       "      <td>0.091680</td>\n",
       "      <td>0.578418</td>\n",
       "      <td>1.123767</td>\n",
       "      <td>35</td>\n",
       "      <td>PTBP1, KEAP1, PEX14, DLST, PCYT2, MAD2L2, GLRX...</td>\n",
       "      <td>LV1</td>\n",
       "      <td>2</td>\n",
       "    </tr>\n",
       "    <tr>\n",
       "      <th>3</th>\n",
       "      <td>gene_set_increase</td>\n",
       "      <td>0.251748</td>\n",
       "      <td>0.078711</td>\n",
       "      <td>0.539155</td>\n",
       "      <td>1.078565</td>\n",
       "      <td>63</td>\n",
       "      <td>CHERP, RANGAP1, HNRNPL, RPS2, E4F1, TAF1C, GAT...</td>\n",
       "      <td>LV1</td>\n",
       "      <td>2</td>\n",
       "    </tr>\n",
       "    <tr>\n",
       "      <th>4</th>\n",
       "      <td>gene_set_decrease</td>\n",
       "      <td>0.162837</td>\n",
       "      <td>0.103576</td>\n",
       "      <td>0.578418</td>\n",
       "      <td>1.137180</td>\n",
       "      <td>35</td>\n",
       "      <td>PTBP1, KEAP1, PEX14, DLST, PCYT2, MAD2L2, GLRX...</td>\n",
       "      <td>LV1</td>\n",
       "      <td>3</td>\n",
       "    </tr>\n",
       "  </tbody>\n",
       "</table>\n",
       "</div>"
      ],
      "text/plain": [
       "             pathway      pval   log2err        ES       NES  size  \\\n",
       "0  gene_set_decrease  0.184815  0.095921  0.578418  1.126666    35   \n",
       "1  gene_set_increase  0.235764  0.082205  0.539155  1.076511    63   \n",
       "2  gene_set_decrease  0.198801  0.091680  0.578418  1.123767    35   \n",
       "3  gene_set_increase  0.251748  0.078711  0.539155  1.078565    63   \n",
       "4  gene_set_decrease  0.162837  0.103576  0.578418  1.137180    35   \n",
       "\n",
       "                                         leadingEdge   lv  rep_idx  \n",
       "0  PTBP1, KEAP1, PEX14, DLST, PCYT2, MAD2L2, GLRX...  LV1        1  \n",
       "1  CHERP, RANGAP1, HNRNPL, RPS2, E4F1, TAF1C, GAT...  LV1        1  \n",
       "2  PTBP1, KEAP1, PEX14, DLST, PCYT2, MAD2L2, GLRX...  LV1        2  \n",
       "3  CHERP, RANGAP1, HNRNPL, RPS2, E4F1, TAF1C, GAT...  LV1        2  \n",
       "4  PTBP1, KEAP1, PEX14, DLST, PCYT2, MAD2L2, GLRX...  LV1        3  "
      ]
     },
     "execution_count": 6,
     "metadata": {},
     "output_type": "execute_result"
    }
   ],
   "source": [
    "deg_enrich.head()"
   ]
  },
  {
   "cell_type": "code",
   "execution_count": 7,
   "metadata": {
    "execution": {
     "iopub.execute_input": "2021-05-21T13:46:10.206885Z",
     "iopub.status.busy": "2021-05-21T13:46:10.206448Z",
     "iopub.status.idle": "2021-05-21T13:46:10.222792Z",
     "shell.execute_reply": "2021-05-21T13:46:10.223121Z"
    },
    "papermill": {
     "duration": 0.031115,
     "end_time": "2021-05-21T13:46:10.223244",
     "exception": false,
     "start_time": "2021-05-21T13:46:10.192129",
     "status": "completed"
    },
    "tags": []
   },
   "outputs": [],
   "source": [
    "deg_enrich = deg_enrich.dropna()"
   ]
  },
  {
   "cell_type": "code",
   "execution_count": 8,
   "metadata": {
    "execution": {
     "iopub.execute_input": "2021-05-21T13:46:10.248026Z",
     "iopub.status.busy": "2021-05-21T13:46:10.247602Z",
     "iopub.status.idle": "2021-05-21T13:46:10.414529Z",
     "shell.execute_reply": "2021-05-21T13:46:10.414149Z"
    },
    "papermill": {
     "duration": 0.18019,
     "end_time": "2021-05-21T13:46:10.414615",
     "exception": false,
     "start_time": "2021-05-21T13:46:10.234425",
     "status": "completed"
    },
    "tags": []
   },
   "outputs": [],
   "source": [
    "# for each lv/pathway pair we ran fgsea 10 times; here take the maximum pvalue (least significant) among those runs\n",
    "deg_enrich_max_idx = deg_enrich.groupby([\"lv\", \"pathway\"])[\"pval\"].idxmax()"
   ]
  },
  {
   "cell_type": "code",
   "execution_count": 9,
   "metadata": {
    "execution": {
     "iopub.execute_input": "2021-05-21T13:46:10.436165Z",
     "iopub.status.busy": "2021-05-21T13:46:10.435801Z",
     "iopub.status.idle": "2021-05-21T13:46:10.452056Z",
     "shell.execute_reply": "2021-05-21T13:46:10.451684Z"
    },
    "papermill": {
     "duration": 0.027693,
     "end_time": "2021-05-21T13:46:10.452139",
     "exception": false,
     "start_time": "2021-05-21T13:46:10.424446",
     "status": "completed"
    },
    "tags": []
   },
   "outputs": [
    {
     "data": {
      "text/plain": [
       "(1973, 9)"
      ]
     },
     "metadata": {},
     "output_type": "display_data"
    },
    {
     "data": {
      "text/html": [
       "<div>\n",
       "<style scoped>\n",
       "    .dataframe tbody tr th:only-of-type {\n",
       "        vertical-align: middle;\n",
       "    }\n",
       "\n",
       "    .dataframe tbody tr th {\n",
       "        vertical-align: top;\n",
       "    }\n",
       "\n",
       "    .dataframe thead th {\n",
       "        text-align: right;\n",
       "    }\n",
       "</style>\n",
       "<table border=\"1\" class=\"dataframe\">\n",
       "  <thead>\n",
       "    <tr style=\"text-align: right;\">\n",
       "      <th></th>\n",
       "      <th>pathway</th>\n",
       "      <th>pval</th>\n",
       "      <th>log2err</th>\n",
       "      <th>ES</th>\n",
       "      <th>NES</th>\n",
       "      <th>size</th>\n",
       "      <th>leadingEdge</th>\n",
       "      <th>lv</th>\n",
       "      <th>rep_idx</th>\n",
       "    </tr>\n",
       "  </thead>\n",
       "  <tbody>\n",
       "    <tr>\n",
       "      <th>0</th>\n",
       "      <td>gene_set_decrease</td>\n",
       "      <td>0.198801</td>\n",
       "      <td>0.091680</td>\n",
       "      <td>0.578418</td>\n",
       "      <td>1.123767</td>\n",
       "      <td>35</td>\n",
       "      <td>PTBP1, KEAP1, PEX14, DLST, PCYT2, MAD2L2, GLRX...</td>\n",
       "      <td>LV1</td>\n",
       "      <td>2</td>\n",
       "    </tr>\n",
       "    <tr>\n",
       "      <th>1</th>\n",
       "      <td>gene_set_increase</td>\n",
       "      <td>0.251748</td>\n",
       "      <td>0.078711</td>\n",
       "      <td>0.539155</td>\n",
       "      <td>1.078565</td>\n",
       "      <td>63</td>\n",
       "      <td>CHERP, RANGAP1, HNRNPL, RPS2, E4F1, TAF1C, GAT...</td>\n",
       "      <td>LV1</td>\n",
       "      <td>2</td>\n",
       "    </tr>\n",
       "    <tr>\n",
       "      <th>2</th>\n",
       "      <td>gene_set_decrease</td>\n",
       "      <td>0.963037</td>\n",
       "      <td>0.008938</td>\n",
       "      <td>0.434799</td>\n",
       "      <td>0.678421</td>\n",
       "      <td>20</td>\n",
       "      <td>VDR, ACVR1B, KEAP1, NDUFV2, PEX14, NDUFS3, WDR26</td>\n",
       "      <td>LV10</td>\n",
       "      <td>5</td>\n",
       "    </tr>\n",
       "    <tr>\n",
       "      <th>3</th>\n",
       "      <td>gene_set_increase</td>\n",
       "      <td>1.000000</td>\n",
       "      <td>0.000000</td>\n",
       "      <td>0.236619</td>\n",
       "      <td>0.378164</td>\n",
       "      <td>25</td>\n",
       "      <td>USP39, SRP19, ZNF3, RPL18, RPS19, RAP1GDS1, CH...</td>\n",
       "      <td>LV10</td>\n",
       "      <td>2</td>\n",
       "    </tr>\n",
       "    <tr>\n",
       "      <th>4</th>\n",
       "      <td>gene_set_decrease</td>\n",
       "      <td>0.042957</td>\n",
       "      <td>0.216543</td>\n",
       "      <td>0.831205</td>\n",
       "      <td>1.711885</td>\n",
       "      <td>27</td>\n",
       "      <td>NDUFB7, PTBP1, RRAGC, PPP2R2B, SQLE</td>\n",
       "      <td>LV100</td>\n",
       "      <td>6</td>\n",
       "    </tr>\n",
       "  </tbody>\n",
       "</table>\n",
       "</div>"
      ],
      "text/plain": [
       "             pathway      pval   log2err        ES       NES  size  \\\n",
       "0  gene_set_decrease  0.198801  0.091680  0.578418  1.123767    35   \n",
       "1  gene_set_increase  0.251748  0.078711  0.539155  1.078565    63   \n",
       "2  gene_set_decrease  0.963037  0.008938  0.434799  0.678421    20   \n",
       "3  gene_set_increase  1.000000  0.000000  0.236619  0.378164    25   \n",
       "4  gene_set_decrease  0.042957  0.216543  0.831205  1.711885    27   \n",
       "\n",
       "                                         leadingEdge     lv  rep_idx  \n",
       "0  PTBP1, KEAP1, PEX14, DLST, PCYT2, MAD2L2, GLRX...    LV1        2  \n",
       "1  CHERP, RANGAP1, HNRNPL, RPS2, E4F1, TAF1C, GAT...    LV1        2  \n",
       "2   VDR, ACVR1B, KEAP1, NDUFV2, PEX14, NDUFS3, WDR26   LV10        5  \n",
       "3  USP39, SRP19, ZNF3, RPL18, RPS19, RAP1GDS1, CH...   LV10        2  \n",
       "4                NDUFB7, PTBP1, RRAGC, PPP2R2B, SQLE  LV100        6  "
      ]
     },
     "metadata": {},
     "output_type": "display_data"
    }
   ],
   "source": [
    "deg_enrich = deg_enrich.loc[deg_enrich_max_idx].reset_index(drop=True)\n",
    "display(deg_enrich.shape)\n",
    "display(deg_enrich.head())"
   ]
  },
  {
   "cell_type": "markdown",
   "metadata": {
    "papermill": {
     "duration": 0.00992,
     "end_time": "2021-05-21T13:46:10.472357",
     "exception": false,
     "start_time": "2021-05-21T13:46:10.462437",
     "status": "completed"
    },
    "tags": []
   },
   "source": [
    "## MultiPLIER summary"
   ]
  },
  {
   "cell_type": "code",
   "execution_count": 10,
   "metadata": {
    "execution": {
     "iopub.execute_input": "2021-05-21T13:46:10.494239Z",
     "iopub.status.busy": "2021-05-21T13:46:10.493877Z",
     "iopub.status.idle": "2021-05-21T13:46:10.501239Z",
     "shell.execute_reply": "2021-05-21T13:46:10.500883Z"
    },
    "papermill": {
     "duration": 0.019282,
     "end_time": "2021-05-21T13:46:10.501319",
     "exception": false,
     "start_time": "2021-05-21T13:46:10.482037",
     "status": "completed"
    },
    "tags": []
   },
   "outputs": [],
   "source": [
    "# multiplier_model_summary = read_data(conf.MULTIPLIER[\"MODEL_SUMMARY_FILE\"])"
   ]
  },
  {
   "cell_type": "code",
   "execution_count": 11,
   "metadata": {
    "execution": {
     "iopub.execute_input": "2021-05-21T13:46:10.523502Z",
     "iopub.status.busy": "2021-05-21T13:46:10.523152Z",
     "iopub.status.idle": "2021-05-21T13:46:10.530338Z",
     "shell.execute_reply": "2021-05-21T13:46:10.530605Z"
    },
    "papermill": {
     "duration": 0.019232,
     "end_time": "2021-05-21T13:46:10.530705",
     "exception": false,
     "start_time": "2021-05-21T13:46:10.511473",
     "status": "completed"
    },
    "tags": []
   },
   "outputs": [],
   "source": [
    "# multiplier_model_summary.shape"
   ]
  },
  {
   "cell_type": "code",
   "execution_count": 12,
   "metadata": {
    "execution": {
     "iopub.execute_input": "2021-05-21T13:46:10.553262Z",
     "iopub.status.busy": "2021-05-21T13:46:10.552890Z",
     "iopub.status.idle": "2021-05-21T13:46:10.560453Z",
     "shell.execute_reply": "2021-05-21T13:46:10.560120Z"
    },
    "papermill": {
     "duration": 0.019458,
     "end_time": "2021-05-21T13:46:10.560534",
     "exception": false,
     "start_time": "2021-05-21T13:46:10.541076",
     "status": "completed"
    },
    "tags": []
   },
   "outputs": [],
   "source": [
    "# multiplier_model_summary.head()"
   ]
  },
  {
   "cell_type": "markdown",
   "metadata": {
    "papermill": {
     "duration": 0.01031,
     "end_time": "2021-05-21T13:46:10.581422",
     "exception": false,
     "start_time": "2021-05-21T13:46:10.571112",
     "status": "completed"
    },
    "tags": []
   },
   "source": [
    "# Adjust p-values"
   ]
  },
  {
   "cell_type": "code",
   "execution_count": 13,
   "metadata": {
    "execution": {
     "iopub.execute_input": "2021-05-21T13:46:10.604004Z",
     "iopub.status.busy": "2021-05-21T13:46:10.603652Z",
     "iopub.status.idle": "2021-05-21T13:46:10.611707Z",
     "shell.execute_reply": "2021-05-21T13:46:10.611359Z"
    },
    "papermill": {
     "duration": 0.020195,
     "end_time": "2021-05-21T13:46:10.611785",
     "exception": false,
     "start_time": "2021-05-21T13:46:10.591590",
     "status": "completed"
    },
    "tags": []
   },
   "outputs": [],
   "source": [
    "adj_pvals = multipletests(deg_enrich[\"pval\"], alpha=0.05, method=\"fdr_bh\")"
   ]
  },
  {
   "cell_type": "code",
   "execution_count": 14,
   "metadata": {
    "execution": {
     "iopub.execute_input": "2021-05-21T13:46:10.634685Z",
     "iopub.status.busy": "2021-05-21T13:46:10.634335Z",
     "iopub.status.idle": "2021-05-21T13:46:10.643547Z",
     "shell.execute_reply": "2021-05-21T13:46:10.643182Z"
    },
    "papermill": {
     "duration": 0.021155,
     "end_time": "2021-05-21T13:46:10.643631",
     "exception": false,
     "start_time": "2021-05-21T13:46:10.622476",
     "status": "completed"
    },
    "tags": []
   },
   "outputs": [
    {
     "data": {
      "text/plain": [
       "(array([False, False, False, ..., False, False, False]),\n",
       " array([0.75562051, 0.77994705, 1.        , ..., 0.94094348, 0.71867843,\n",
       "        0.91289763]),\n",
       " 2.5997277061207136e-05,\n",
       " 2.5342118601115056e-05)"
      ]
     },
     "execution_count": 14,
     "metadata": {},
     "output_type": "execute_result"
    }
   ],
   "source": [
    "adj_pvals"
   ]
  },
  {
   "cell_type": "code",
   "execution_count": 15,
   "metadata": {
    "execution": {
     "iopub.execute_input": "2021-05-21T13:46:10.667447Z",
     "iopub.status.busy": "2021-05-21T13:46:10.667083Z",
     "iopub.status.idle": "2021-05-21T13:46:10.675154Z",
     "shell.execute_reply": "2021-05-21T13:46:10.675460Z"
    },
    "papermill": {
     "duration": 0.020996,
     "end_time": "2021-05-21T13:46:10.675565",
     "exception": false,
     "start_time": "2021-05-21T13:46:10.654569",
     "status": "completed"
    },
    "tags": []
   },
   "outputs": [
    {
     "data": {
      "text/plain": [
       "4"
      ]
     },
     "execution_count": 15,
     "metadata": {},
     "output_type": "execute_result"
    }
   ],
   "source": [
    "np.sum(adj_pvals[0])"
   ]
  },
  {
   "cell_type": "code",
   "execution_count": 16,
   "metadata": {
    "execution": {
     "iopub.execute_input": "2021-05-21T13:46:10.700053Z",
     "iopub.status.busy": "2021-05-21T13:46:10.699690Z",
     "iopub.status.idle": "2021-05-21T13:46:10.707424Z",
     "shell.execute_reply": "2021-05-21T13:46:10.707710Z"
    },
    "papermill": {
     "duration": 0.021081,
     "end_time": "2021-05-21T13:46:10.707819",
     "exception": false,
     "start_time": "2021-05-21T13:46:10.686738",
     "status": "completed"
    },
    "tags": []
   },
   "outputs": [],
   "source": [
    "deg_enrich = deg_enrich.assign(padj=adj_pvals[1])"
   ]
  },
  {
   "cell_type": "code",
   "execution_count": 17,
   "metadata": {
    "execution": {
     "iopub.execute_input": "2021-05-21T13:46:10.732363Z",
     "iopub.status.busy": "2021-05-21T13:46:10.731986Z",
     "iopub.status.idle": "2021-05-21T13:46:10.745944Z",
     "shell.execute_reply": "2021-05-21T13:46:10.745580Z"
    },
    "papermill": {
     "duration": 0.026938,
     "end_time": "2021-05-21T13:46:10.746026",
     "exception": false,
     "start_time": "2021-05-21T13:46:10.719088",
     "status": "completed"
    },
    "tags": []
   },
   "outputs": [
    {
     "data": {
      "text/html": [
       "<div>\n",
       "<style scoped>\n",
       "    .dataframe tbody tr th:only-of-type {\n",
       "        vertical-align: middle;\n",
       "    }\n",
       "\n",
       "    .dataframe tbody tr th {\n",
       "        vertical-align: top;\n",
       "    }\n",
       "\n",
       "    .dataframe thead th {\n",
       "        text-align: right;\n",
       "    }\n",
       "</style>\n",
       "<table border=\"1\" class=\"dataframe\">\n",
       "  <thead>\n",
       "    <tr style=\"text-align: right;\">\n",
       "      <th></th>\n",
       "      <th>pathway</th>\n",
       "      <th>pval</th>\n",
       "      <th>log2err</th>\n",
       "      <th>ES</th>\n",
       "      <th>NES</th>\n",
       "      <th>size</th>\n",
       "      <th>leadingEdge</th>\n",
       "      <th>lv</th>\n",
       "      <th>rep_idx</th>\n",
       "      <th>padj</th>\n",
       "    </tr>\n",
       "  </thead>\n",
       "  <tbody>\n",
       "    <tr>\n",
       "      <th>0</th>\n",
       "      <td>gene_set_decrease</td>\n",
       "      <td>0.198801</td>\n",
       "      <td>0.091680</td>\n",
       "      <td>0.578418</td>\n",
       "      <td>1.123767</td>\n",
       "      <td>35</td>\n",
       "      <td>PTBP1, KEAP1, PEX14, DLST, PCYT2, MAD2L2, GLRX...</td>\n",
       "      <td>LV1</td>\n",
       "      <td>2</td>\n",
       "      <td>0.755621</td>\n",
       "    </tr>\n",
       "    <tr>\n",
       "      <th>1</th>\n",
       "      <td>gene_set_increase</td>\n",
       "      <td>0.251748</td>\n",
       "      <td>0.078711</td>\n",
       "      <td>0.539155</td>\n",
       "      <td>1.078565</td>\n",
       "      <td>63</td>\n",
       "      <td>CHERP, RANGAP1, HNRNPL, RPS2, E4F1, TAF1C, GAT...</td>\n",
       "      <td>LV1</td>\n",
       "      <td>2</td>\n",
       "      <td>0.779947</td>\n",
       "    </tr>\n",
       "    <tr>\n",
       "      <th>2</th>\n",
       "      <td>gene_set_decrease</td>\n",
       "      <td>0.963037</td>\n",
       "      <td>0.008938</td>\n",
       "      <td>0.434799</td>\n",
       "      <td>0.678421</td>\n",
       "      <td>20</td>\n",
       "      <td>VDR, ACVR1B, KEAP1, NDUFV2, PEX14, NDUFS3, WDR26</td>\n",
       "      <td>LV10</td>\n",
       "      <td>5</td>\n",
       "      <td>1.000000</td>\n",
       "    </tr>\n",
       "    <tr>\n",
       "      <th>3</th>\n",
       "      <td>gene_set_increase</td>\n",
       "      <td>1.000000</td>\n",
       "      <td>0.000000</td>\n",
       "      <td>0.236619</td>\n",
       "      <td>0.378164</td>\n",
       "      <td>25</td>\n",
       "      <td>USP39, SRP19, ZNF3, RPL18, RPS19, RAP1GDS1, CH...</td>\n",
       "      <td>LV10</td>\n",
       "      <td>2</td>\n",
       "      <td>1.000000</td>\n",
       "    </tr>\n",
       "    <tr>\n",
       "      <th>4</th>\n",
       "      <td>gene_set_decrease</td>\n",
       "      <td>0.042957</td>\n",
       "      <td>0.216543</td>\n",
       "      <td>0.831205</td>\n",
       "      <td>1.711885</td>\n",
       "      <td>27</td>\n",
       "      <td>NDUFB7, PTBP1, RRAGC, PPP2R2B, SQLE</td>\n",
       "      <td>LV100</td>\n",
       "      <td>6</td>\n",
       "      <td>0.718678</td>\n",
       "    </tr>\n",
       "  </tbody>\n",
       "</table>\n",
       "</div>"
      ],
      "text/plain": [
       "             pathway      pval   log2err        ES       NES  size  \\\n",
       "0  gene_set_decrease  0.198801  0.091680  0.578418  1.123767    35   \n",
       "1  gene_set_increase  0.251748  0.078711  0.539155  1.078565    63   \n",
       "2  gene_set_decrease  0.963037  0.008938  0.434799  0.678421    20   \n",
       "3  gene_set_increase  1.000000  0.000000  0.236619  0.378164    25   \n",
       "4  gene_set_decrease  0.042957  0.216543  0.831205  1.711885    27   \n",
       "\n",
       "                                         leadingEdge     lv  rep_idx      padj  \n",
       "0  PTBP1, KEAP1, PEX14, DLST, PCYT2, MAD2L2, GLRX...    LV1        2  0.755621  \n",
       "1  CHERP, RANGAP1, HNRNPL, RPS2, E4F1, TAF1C, GAT...    LV1        2  0.779947  \n",
       "2   VDR, ACVR1B, KEAP1, NDUFV2, PEX14, NDUFS3, WDR26   LV10        5  1.000000  \n",
       "3  USP39, SRP19, ZNF3, RPL18, RPS19, RAP1GDS1, CH...   LV10        2  1.000000  \n",
       "4                NDUFB7, PTBP1, RRAGC, PPP2R2B, SQLE  LV100        6  0.718678  "
      ]
     },
     "execution_count": 17,
     "metadata": {},
     "output_type": "execute_result"
    }
   ],
   "source": [
    "deg_enrich.head()"
   ]
  },
  {
   "cell_type": "markdown",
   "metadata": {
    "papermill": {
     "duration": 0.010996,
     "end_time": "2021-05-21T13:46:10.768414",
     "exception": false,
     "start_time": "2021-05-21T13:46:10.757418",
     "status": "completed"
    },
    "tags": []
   },
   "source": [
    "# Analysis"
   ]
  },
  {
   "cell_type": "code",
   "execution_count": 18,
   "metadata": {
    "execution": {
     "iopub.execute_input": "2021-05-21T13:46:10.792856Z",
     "iopub.status.busy": "2021-05-21T13:46:10.792437Z",
     "iopub.status.idle": "2021-05-21T13:46:10.801385Z",
     "shell.execute_reply": "2021-05-21T13:46:10.801019Z"
    },
    "papermill": {
     "duration": 0.022188,
     "end_time": "2021-05-21T13:46:10.801467",
     "exception": false,
     "start_time": "2021-05-21T13:46:10.779279",
     "status": "completed"
    },
    "tags": []
   },
   "outputs": [],
   "source": [
    "df = deg_enrich[(deg_enrich[\"padj\"] < 0.05)].sort_values(\"padj\", ascending=True)"
   ]
  },
  {
   "cell_type": "code",
   "execution_count": 19,
   "metadata": {
    "execution": {
     "iopub.execute_input": "2021-05-21T13:46:10.826198Z",
     "iopub.status.busy": "2021-05-21T13:46:10.825848Z",
     "iopub.status.idle": "2021-05-21T13:46:10.834464Z",
     "shell.execute_reply": "2021-05-21T13:46:10.834129Z"
    },
    "papermill": {
     "duration": 0.022008,
     "end_time": "2021-05-21T13:46:10.834549",
     "exception": false,
     "start_time": "2021-05-21T13:46:10.812541",
     "status": "completed"
    },
    "tags": []
   },
   "outputs": [
    {
     "data": {
      "text/plain": [
       "(4, 10)"
      ]
     },
     "execution_count": 19,
     "metadata": {},
     "output_type": "execute_result"
    }
   ],
   "source": [
    "df.shape"
   ]
  },
  {
   "cell_type": "code",
   "execution_count": 20,
   "metadata": {
    "execution": {
     "iopub.execute_input": "2021-05-21T13:46:10.860271Z",
     "iopub.status.busy": "2021-05-21T13:46:10.859919Z",
     "iopub.status.idle": "2021-05-21T13:46:10.874081Z",
     "shell.execute_reply": "2021-05-21T13:46:10.873713Z"
    },
    "papermill": {
     "duration": 0.027794,
     "end_time": "2021-05-21T13:46:10.874165",
     "exception": false,
     "start_time": "2021-05-21T13:46:10.846371",
     "status": "completed"
    },
    "tags": []
   },
   "outputs": [
    {
     "data": {
      "text/html": [
       "<div>\n",
       "<style scoped>\n",
       "    .dataframe tbody tr th:only-of-type {\n",
       "        vertical-align: middle;\n",
       "    }\n",
       "\n",
       "    .dataframe tbody tr th {\n",
       "        vertical-align: top;\n",
       "    }\n",
       "\n",
       "    .dataframe thead th {\n",
       "        text-align: right;\n",
       "    }\n",
       "</style>\n",
       "<table border=\"1\" class=\"dataframe\">\n",
       "  <thead>\n",
       "    <tr style=\"text-align: right;\">\n",
       "      <th></th>\n",
       "      <th>pathway</th>\n",
       "      <th>pval</th>\n",
       "      <th>log2err</th>\n",
       "      <th>ES</th>\n",
       "      <th>NES</th>\n",
       "      <th>size</th>\n",
       "      <th>leadingEdge</th>\n",
       "      <th>lv</th>\n",
       "      <th>rep_idx</th>\n",
       "      <th>padj</th>\n",
       "    </tr>\n",
       "  </thead>\n",
       "  <tbody>\n",
       "    <tr>\n",
       "      <th>1350</th>\n",
       "      <td>gene_set_increase</td>\n",
       "      <td>1.738856e-07</td>\n",
       "      <td>0.690132</td>\n",
       "      <td>0.905734</td>\n",
       "      <td>1.565818</td>\n",
       "      <td>49</td>\n",
       "      <td>RPS14, RPL31, RPS19, RPS11, RPS6, RPL37, RPSA,...</td>\n",
       "      <td>LV707</td>\n",
       "      <td>3</td>\n",
       "      <td>0.000257</td>\n",
       "    </tr>\n",
       "    <tr>\n",
       "      <th>1283</th>\n",
       "      <td>gene_set_decrease</td>\n",
       "      <td>2.605291e-07</td>\n",
       "      <td>0.674963</td>\n",
       "      <td>0.858542</td>\n",
       "      <td>1.636153</td>\n",
       "      <td>43</td>\n",
       "      <td>NDUFA4, COX6A1, ATP5O, NDUFB10, COX5A, NDUFS3,...</td>\n",
       "      <td>LV678</td>\n",
       "      <td>3</td>\n",
       "      <td>0.000257</td>\n",
       "    </tr>\n",
       "    <tr>\n",
       "      <th>1790</th>\n",
       "      <td>gene_set_increase</td>\n",
       "      <td>4.293645e-05</td>\n",
       "      <td>0.557332</td>\n",
       "      <td>0.732205</td>\n",
       "      <td>1.486815</td>\n",
       "      <td>60</td>\n",
       "      <td>RPS6, RPL6, RPLP0, RPL19, RPL31, RPL7, RPS13, ...</td>\n",
       "      <td>LV905</td>\n",
       "      <td>6</td>\n",
       "      <td>0.028238</td>\n",
       "    </tr>\n",
       "    <tr>\n",
       "      <th>1812</th>\n",
       "      <td>gene_set_increase</td>\n",
       "      <td>6.373604e-05</td>\n",
       "      <td>0.538434</td>\n",
       "      <td>0.627667</td>\n",
       "      <td>1.444149</td>\n",
       "      <td>83</td>\n",
       "      <td>SAFB, LUC7L3, HSP90B1, CHD4, SNRPD3, ISY1, DKC...</td>\n",
       "      <td>LV915</td>\n",
       "      <td>4</td>\n",
       "      <td>0.031438</td>\n",
       "    </tr>\n",
       "  </tbody>\n",
       "</table>\n",
       "</div>"
      ],
      "text/plain": [
       "                pathway          pval   log2err        ES       NES  size  \\\n",
       "1350  gene_set_increase  1.738856e-07  0.690132  0.905734  1.565818    49   \n",
       "1283  gene_set_decrease  2.605291e-07  0.674963  0.858542  1.636153    43   \n",
       "1790  gene_set_increase  4.293645e-05  0.557332  0.732205  1.486815    60   \n",
       "1812  gene_set_increase  6.373604e-05  0.538434  0.627667  1.444149    83   \n",
       "\n",
       "                                            leadingEdge     lv  rep_idx  \\\n",
       "1350  RPS14, RPL31, RPS19, RPS11, RPS6, RPL37, RPSA,...  LV707        3   \n",
       "1283  NDUFA4, COX6A1, ATP5O, NDUFB10, COX5A, NDUFS3,...  LV678        3   \n",
       "1790  RPS6, RPL6, RPLP0, RPL19, RPL31, RPL7, RPS13, ...  LV905        6   \n",
       "1812  SAFB, LUC7L3, HSP90B1, CHD4, SNRPD3, ISY1, DKC...  LV915        4   \n",
       "\n",
       "          padj  \n",
       "1350  0.000257  \n",
       "1283  0.000257  \n",
       "1790  0.028238  \n",
       "1812  0.031438  "
      ]
     },
     "execution_count": 20,
     "metadata": {},
     "output_type": "execute_result"
    }
   ],
   "source": [
    "df.sort_values(\"pval\")"
   ]
  },
  {
   "cell_type": "markdown",
   "metadata": {
    "papermill": {
     "duration": 0.011363,
     "end_time": "2021-05-21T13:46:10.897586",
     "exception": false,
     "start_time": "2021-05-21T13:46:10.886223",
     "status": "completed"
    },
    "tags": []
   },
   "source": [
    "# Save"
   ]
  },
  {
   "cell_type": "code",
   "execution_count": 21,
   "metadata": {
    "execution": {
     "iopub.execute_input": "2021-05-21T13:46:10.923175Z",
     "iopub.status.busy": "2021-05-21T13:46:10.922820Z",
     "iopub.status.idle": "2021-05-21T13:46:10.949468Z",
     "shell.execute_reply": "2021-05-21T13:46:10.949078Z"
    },
    "papermill": {
     "duration": 0.04036,
     "end_time": "2021-05-21T13:46:10.949554",
     "exception": false,
     "start_time": "2021-05-21T13:46:10.909194",
     "status": "completed"
    },
    "tags": []
   },
   "outputs": [],
   "source": [
    "# override the original file with adjusted p-values\n",
    "deg_enrich.to_csv(\n",
    "    FGSEA_INPUT_FILEPATH,\n",
    "    sep=\"\\t\",\n",
    ")"
   ]
  },
  {
   "cell_type": "code",
   "execution_count": null,
   "metadata": {
    "papermill": {
     "duration": 0.011847,
     "end_time": "2021-05-21T13:46:10.973637",
     "exception": false,
     "start_time": "2021-05-21T13:46:10.961790",
     "status": "completed"
    },
    "tags": []
   },
   "outputs": [],
   "source": []
  }
 ],
 "metadata": {
  "jupytext": {
   "cell_metadata_filter": "all,-execution,-papermill,-trusted",
   "formats": "ipynb,py//py:percent"
  },
  "kernelspec": {
   "display_name": "Python 3",
   "language": "python",
   "name": "python3"
  },
  "language_info": {
   "codemirror_mode": {
    "name": "ipython",
    "version": 3
   },
   "file_extension": ".py",
   "mimetype": "text/x-python",
   "name": "python",
   "nbconvert_exporter": "python",
   "pygments_lexer": "ipython3",
   "version": "3.8.8"
  },
  "papermill": {
   "default_parameters": {},
   "duration": 2.84107,
   "end_time": "2021-05-21T13:46:11.292063",
   "environment_variables": {},
   "exception": null,
   "input_path": "30_validation/crispr_screen/030_15-deg_genes-gsea-pval_adjust.ipynb",
   "output_path": "30_validation/crispr_screen/030_15-deg_genes-gsea-pval_adjust.run.ipynb",
   "parameters": {},
   "start_time": "2021-05-21T13:46:08.450993",
   "version": "2.2.2"
  },
  "toc-autonumbering": true
 },
 "nbformat": 4,
 "nbformat_minor": 4
}
