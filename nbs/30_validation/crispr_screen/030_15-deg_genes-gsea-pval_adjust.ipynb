{
 "cells": [
  {
   "cell_type": "markdown",
   "metadata": {
    "papermill": {
     "duration": 0.013393,
     "end_time": "2021-05-21T16:17:59.983722",
     "exception": false,
     "start_time": "2021-05-21T16:17:59.970329",
     "status": "completed"
    },
    "tags": []
   },
   "source": [
    "# Description"
   ]
  },
  {
   "cell_type": "markdown",
   "metadata": {
    "papermill": {
     "duration": 0.009738,
     "end_time": "2021-05-21T16:18:00.004040",
     "exception": false,
     "start_time": "2021-05-21T16:17:59.994302",
     "status": "completed"
    },
    "tags": []
   },
   "source": [
    "TODO"
   ]
  },
  {
   "cell_type": "markdown",
   "metadata": {
    "papermill": {
     "duration": 0.009613,
     "end_time": "2021-05-21T16:18:00.023374",
     "exception": false,
     "start_time": "2021-05-21T16:18:00.013761",
     "status": "completed"
    },
    "tags": []
   },
   "source": [
    "# Modules loading"
   ]
  },
  {
   "cell_type": "code",
   "execution_count": 1,
   "metadata": {
    "execution": {
     "iopub.execute_input": "2021-05-21T16:18:00.048356Z",
     "iopub.status.busy": "2021-05-21T16:18:00.047971Z",
     "iopub.status.idle": "2021-05-21T16:18:00.055270Z",
     "shell.execute_reply": "2021-05-21T16:18:00.055564Z"
    },
    "papermill": {
     "duration": 0.022807,
     "end_time": "2021-05-21T16:18:00.055721",
     "exception": false,
     "start_time": "2021-05-21T16:18:00.032914",
     "status": "completed"
    },
    "tags": []
   },
   "outputs": [],
   "source": [
    "%load_ext autoreload\n",
    "%autoreload 2"
   ]
  },
  {
   "cell_type": "code",
   "execution_count": 2,
   "metadata": {
    "execution": {
     "iopub.execute_input": "2021-05-21T16:18:00.078408Z",
     "iopub.status.busy": "2021-05-21T16:18:00.078045Z",
     "iopub.status.idle": "2021-05-21T16:18:00.474807Z",
     "shell.execute_reply": "2021-05-21T16:18:00.474376Z"
    },
    "papermill": {
     "duration": 0.409089,
     "end_time": "2021-05-21T16:18:00.474902",
     "exception": false,
     "start_time": "2021-05-21T16:18:00.065813",
     "status": "completed"
    },
    "tags": []
   },
   "outputs": [],
   "source": [
    "from pathlib import Path\n",
    "\n",
    "import numpy as np\n",
    "import pandas as pd\n",
    "from IPython.display import HTML\n",
    "from statsmodels.stats.multitest import multipletests\n",
    "\n",
    "from entity import Trait\n",
    "from data.cache import read_data\n",
    "import conf"
   ]
  },
  {
   "cell_type": "markdown",
   "metadata": {
    "papermill": {
     "duration": 0.010303,
     "end_time": "2021-05-21T16:18:00.496394",
     "exception": false,
     "start_time": "2021-05-21T16:18:00.486091",
     "status": "completed"
    },
    "tags": []
   },
   "source": [
    "# Settings"
   ]
  },
  {
   "cell_type": "code",
   "execution_count": 3,
   "metadata": {
    "execution": {
     "iopub.execute_input": "2021-05-21T16:18:00.519627Z",
     "iopub.status.busy": "2021-05-21T16:18:00.519131Z",
     "iopub.status.idle": "2021-05-21T16:18:00.529609Z",
     "shell.execute_reply": "2021-05-21T16:18:00.528938Z"
    },
    "papermill": {
     "duration": 0.022959,
     "end_time": "2021-05-21T16:18:00.529723",
     "exception": false,
     "start_time": "2021-05-21T16:18:00.506764",
     "status": "completed"
    },
    "tags": []
   },
   "outputs": [],
   "source": [
    "FGSEA_INPUT_FILEPATH = Path(\n",
    "    conf.RESULTS[\"CRISPR_ANALYSES\"][\"BASE_DIR\"], \"fgsea-all_lvs.tsv\"\n",
    ").resolve()"
   ]
  },
  {
   "cell_type": "markdown",
   "metadata": {
    "papermill": {
     "duration": 0.011168,
     "end_time": "2021-05-21T16:18:00.553474",
     "exception": false,
     "start_time": "2021-05-21T16:18:00.542306",
     "status": "completed"
    },
    "tags": []
   },
   "source": [
    "# Data loading"
   ]
  },
  {
   "cell_type": "markdown",
   "metadata": {
    "papermill": {
     "duration": 0.009815,
     "end_time": "2021-05-21T16:18:00.573666",
     "exception": false,
     "start_time": "2021-05-21T16:18:00.563851",
     "status": "completed"
    },
    "tags": []
   },
   "source": [
    "## LVs enrichment on DEG from CRISPR screen"
   ]
  },
  {
   "cell_type": "code",
   "execution_count": 4,
   "metadata": {
    "execution": {
     "iopub.execute_input": "2021-05-21T16:18:00.595811Z",
     "iopub.status.busy": "2021-05-21T16:18:00.595452Z",
     "iopub.status.idle": "2021-05-21T16:18:00.633242Z",
     "shell.execute_reply": "2021-05-21T16:18:00.633547Z"
    },
    "papermill": {
     "duration": 0.050168,
     "end_time": "2021-05-21T16:18:00.633652",
     "exception": false,
     "start_time": "2021-05-21T16:18:00.583484",
     "status": "completed"
    },
    "tags": []
   },
   "outputs": [],
   "source": [
    "deg_enrich = pd.read_csv(\n",
    "    FGSEA_INPUT_FILEPATH,\n",
    "    sep=\"\\t\",\n",
    ")"
   ]
  },
  {
   "cell_type": "code",
   "execution_count": 5,
   "metadata": {
    "execution": {
     "iopub.execute_input": "2021-05-21T16:18:00.655731Z",
     "iopub.status.busy": "2021-05-21T16:18:00.655379Z",
     "iopub.status.idle": "2021-05-21T16:18:00.667580Z",
     "shell.execute_reply": "2021-05-21T16:18:00.667209Z"
    },
    "papermill": {
     "duration": 0.023918,
     "end_time": "2021-05-21T16:18:00.667665",
     "exception": false,
     "start_time": "2021-05-21T16:18:00.643747",
     "status": "completed"
    },
    "tags": []
   },
   "outputs": [
    {
     "data": {
      "text/plain": [
       "(19730, 10)"
      ]
     },
     "execution_count": 5,
     "metadata": {},
     "output_type": "execute_result"
    }
   ],
   "source": [
    "deg_enrich.shape"
   ]
  },
  {
   "cell_type": "code",
   "execution_count": 6,
   "metadata": {
    "execution": {
     "iopub.execute_input": "2021-05-21T16:18:00.690335Z",
     "iopub.status.busy": "2021-05-21T16:18:00.689973Z",
     "iopub.status.idle": "2021-05-21T16:18:00.729336Z",
     "shell.execute_reply": "2021-05-21T16:18:00.728958Z"
    },
    "papermill": {
     "duration": 0.051363,
     "end_time": "2021-05-21T16:18:00.729442",
     "exception": false,
     "start_time": "2021-05-21T16:18:00.678079",
     "status": "completed"
    },
    "tags": []
   },
   "outputs": [
    {
     "data": {
      "text/html": [
       "<div>\n",
       "<style scoped>\n",
       "    .dataframe tbody tr th:only-of-type {\n",
       "        vertical-align: middle;\n",
       "    }\n",
       "\n",
       "    .dataframe tbody tr th {\n",
       "        vertical-align: top;\n",
       "    }\n",
       "\n",
       "    .dataframe thead th {\n",
       "        text-align: right;\n",
       "    }\n",
       "</style>\n",
       "<table border=\"1\" class=\"dataframe\">\n",
       "  <thead>\n",
       "    <tr style=\"text-align: right;\">\n",
       "      <th></th>\n",
       "      <th>pathway</th>\n",
       "      <th>pval</th>\n",
       "      <th>padj</th>\n",
       "      <th>log2err</th>\n",
       "      <th>ES</th>\n",
       "      <th>NES</th>\n",
       "      <th>size</th>\n",
       "      <th>leadingEdge</th>\n",
       "      <th>lv</th>\n",
       "      <th>rep_idx</th>\n",
       "    </tr>\n",
       "  </thead>\n",
       "  <tbody>\n",
       "    <tr>\n",
       "      <th>0</th>\n",
       "      <td>gene_set_decrease</td>\n",
       "      <td>0.184815</td>\n",
       "      <td>0.235764</td>\n",
       "      <td>0.095921</td>\n",
       "      <td>0.578418</td>\n",
       "      <td>1.126666</td>\n",
       "      <td>35</td>\n",
       "      <td>PTBP1, KEAP1, PEX14, DLST, PCYT2, MAD2L2, GLRX...</td>\n",
       "      <td>LV1</td>\n",
       "      <td>1</td>\n",
       "    </tr>\n",
       "    <tr>\n",
       "      <th>1</th>\n",
       "      <td>gene_set_increase</td>\n",
       "      <td>0.235764</td>\n",
       "      <td>0.235764</td>\n",
       "      <td>0.082205</td>\n",
       "      <td>0.539155</td>\n",
       "      <td>1.076511</td>\n",
       "      <td>63</td>\n",
       "      <td>CHERP, RANGAP1, HNRNPL, RPS2, E4F1, TAF1C, GAT...</td>\n",
       "      <td>LV1</td>\n",
       "      <td>1</td>\n",
       "    </tr>\n",
       "    <tr>\n",
       "      <th>2</th>\n",
       "      <td>gene_set_decrease</td>\n",
       "      <td>0.198801</td>\n",
       "      <td>0.251748</td>\n",
       "      <td>0.091680</td>\n",
       "      <td>0.578418</td>\n",
       "      <td>1.123767</td>\n",
       "      <td>35</td>\n",
       "      <td>PTBP1, KEAP1, PEX14, DLST, PCYT2, MAD2L2, GLRX...</td>\n",
       "      <td>LV1</td>\n",
       "      <td>2</td>\n",
       "    </tr>\n",
       "    <tr>\n",
       "      <th>3</th>\n",
       "      <td>gene_set_increase</td>\n",
       "      <td>0.251748</td>\n",
       "      <td>0.251748</td>\n",
       "      <td>0.078711</td>\n",
       "      <td>0.539155</td>\n",
       "      <td>1.078565</td>\n",
       "      <td>63</td>\n",
       "      <td>CHERP, RANGAP1, HNRNPL, RPS2, E4F1, TAF1C, GAT...</td>\n",
       "      <td>LV1</td>\n",
       "      <td>2</td>\n",
       "    </tr>\n",
       "    <tr>\n",
       "      <th>4</th>\n",
       "      <td>gene_set_decrease</td>\n",
       "      <td>0.162837</td>\n",
       "      <td>0.215784</td>\n",
       "      <td>0.103576</td>\n",
       "      <td>0.578418</td>\n",
       "      <td>1.137180</td>\n",
       "      <td>35</td>\n",
       "      <td>PTBP1, KEAP1, PEX14, DLST, PCYT2, MAD2L2, GLRX...</td>\n",
       "      <td>LV1</td>\n",
       "      <td>3</td>\n",
       "    </tr>\n",
       "  </tbody>\n",
       "</table>\n",
       "</div>"
      ],
      "text/plain": [
       "             pathway      pval      padj   log2err        ES       NES  size  \\\n",
       "0  gene_set_decrease  0.184815  0.235764  0.095921  0.578418  1.126666    35   \n",
       "1  gene_set_increase  0.235764  0.235764  0.082205  0.539155  1.076511    63   \n",
       "2  gene_set_decrease  0.198801  0.251748  0.091680  0.578418  1.123767    35   \n",
       "3  gene_set_increase  0.251748  0.251748  0.078711  0.539155  1.078565    63   \n",
       "4  gene_set_decrease  0.162837  0.215784  0.103576  0.578418  1.137180    35   \n",
       "\n",
       "                                         leadingEdge   lv  rep_idx  \n",
       "0  PTBP1, KEAP1, PEX14, DLST, PCYT2, MAD2L2, GLRX...  LV1        1  \n",
       "1  CHERP, RANGAP1, HNRNPL, RPS2, E4F1, TAF1C, GAT...  LV1        1  \n",
       "2  PTBP1, KEAP1, PEX14, DLST, PCYT2, MAD2L2, GLRX...  LV1        2  \n",
       "3  CHERP, RANGAP1, HNRNPL, RPS2, E4F1, TAF1C, GAT...  LV1        2  \n",
       "4  PTBP1, KEAP1, PEX14, DLST, PCYT2, MAD2L2, GLRX...  LV1        3  "
      ]
     },
     "execution_count": 6,
     "metadata": {},
     "output_type": "execute_result"
    }
   ],
   "source": [
    "deg_enrich.head()"
   ]
  },
  {
   "cell_type": "code",
   "execution_count": 7,
   "metadata": {
    "execution": {
     "iopub.execute_input": "2021-05-21T16:18:00.758422Z",
     "iopub.status.busy": "2021-05-21T16:18:00.757989Z",
     "iopub.status.idle": "2021-05-21T16:18:00.774137Z",
     "shell.execute_reply": "2021-05-21T16:18:00.774469Z"
    },
    "papermill": {
     "duration": 0.031636,
     "end_time": "2021-05-21T16:18:00.774591",
     "exception": false,
     "start_time": "2021-05-21T16:18:00.742955",
     "status": "completed"
    },
    "tags": []
   },
   "outputs": [],
   "source": [
    "deg_enrich = deg_enrich.dropna()"
   ]
  },
  {
   "cell_type": "code",
   "execution_count": 8,
   "metadata": {
    "execution": {
     "iopub.execute_input": "2021-05-21T16:18:00.803628Z",
     "iopub.status.busy": "2021-05-21T16:18:00.803198Z",
     "iopub.status.idle": "2021-05-21T16:18:00.963613Z",
     "shell.execute_reply": "2021-05-21T16:18:00.962745Z"
    },
    "papermill": {
     "duration": 0.176203,
     "end_time": "2021-05-21T16:18:00.963842",
     "exception": false,
     "start_time": "2021-05-21T16:18:00.787639",
     "status": "completed"
    },
    "tags": []
   },
   "outputs": [],
   "source": [
    "# for each lv/pathway pair we ran fgsea 10 times; here take the maximum pvalue (least significant) among those runs\n",
    "deg_enrich_max_idx = deg_enrich.groupby([\"lv\", \"pathway\"])[\"pval\"].idxmax()"
   ]
  },
  {
   "cell_type": "code",
   "execution_count": 9,
   "metadata": {
    "execution": {
     "iopub.execute_input": "2021-05-21T16:18:00.988552Z",
     "iopub.status.busy": "2021-05-21T16:18:00.988183Z",
     "iopub.status.idle": "2021-05-21T16:18:01.004415Z",
     "shell.execute_reply": "2021-05-21T16:18:01.004098Z"
    },
    "papermill": {
     "duration": 0.028527,
     "end_time": "2021-05-21T16:18:01.004500",
     "exception": false,
     "start_time": "2021-05-21T16:18:00.975973",
     "status": "completed"
    },
    "tags": []
   },
   "outputs": [
    {
     "data": {
      "text/plain": [
       "(1973, 10)"
      ]
     },
     "metadata": {},
     "output_type": "display_data"
    },
    {
     "data": {
      "text/html": [
       "<div>\n",
       "<style scoped>\n",
       "    .dataframe tbody tr th:only-of-type {\n",
       "        vertical-align: middle;\n",
       "    }\n",
       "\n",
       "    .dataframe tbody tr th {\n",
       "        vertical-align: top;\n",
       "    }\n",
       "\n",
       "    .dataframe thead th {\n",
       "        text-align: right;\n",
       "    }\n",
       "</style>\n",
       "<table border=\"1\" class=\"dataframe\">\n",
       "  <thead>\n",
       "    <tr style=\"text-align: right;\">\n",
       "      <th></th>\n",
       "      <th>pathway</th>\n",
       "      <th>pval</th>\n",
       "      <th>padj</th>\n",
       "      <th>log2err</th>\n",
       "      <th>ES</th>\n",
       "      <th>NES</th>\n",
       "      <th>size</th>\n",
       "      <th>leadingEdge</th>\n",
       "      <th>lv</th>\n",
       "      <th>rep_idx</th>\n",
       "    </tr>\n",
       "  </thead>\n",
       "  <tbody>\n",
       "    <tr>\n",
       "      <th>0</th>\n",
       "      <td>gene_set_decrease</td>\n",
       "      <td>0.198801</td>\n",
       "      <td>0.251748</td>\n",
       "      <td>0.091680</td>\n",
       "      <td>0.578418</td>\n",
       "      <td>1.123767</td>\n",
       "      <td>35</td>\n",
       "      <td>PTBP1, KEAP1, PEX14, DLST, PCYT2, MAD2L2, GLRX...</td>\n",
       "      <td>LV1</td>\n",
       "      <td>2</td>\n",
       "    </tr>\n",
       "    <tr>\n",
       "      <th>1</th>\n",
       "      <td>gene_set_increase</td>\n",
       "      <td>0.251748</td>\n",
       "      <td>0.251748</td>\n",
       "      <td>0.078711</td>\n",
       "      <td>0.539155</td>\n",
       "      <td>1.078565</td>\n",
       "      <td>63</td>\n",
       "      <td>CHERP, RANGAP1, HNRNPL, RPS2, E4F1, TAF1C, GAT...</td>\n",
       "      <td>LV1</td>\n",
       "      <td>2</td>\n",
       "    </tr>\n",
       "    <tr>\n",
       "      <th>2</th>\n",
       "      <td>gene_set_decrease</td>\n",
       "      <td>0.963037</td>\n",
       "      <td>0.999001</td>\n",
       "      <td>0.008938</td>\n",
       "      <td>0.434799</td>\n",
       "      <td>0.678421</td>\n",
       "      <td>20</td>\n",
       "      <td>VDR, ACVR1B, KEAP1, NDUFV2, PEX14, NDUFS3, WDR26</td>\n",
       "      <td>LV10</td>\n",
       "      <td>5</td>\n",
       "    </tr>\n",
       "    <tr>\n",
       "      <th>3</th>\n",
       "      <td>gene_set_increase</td>\n",
       "      <td>1.000000</td>\n",
       "      <td>1.000000</td>\n",
       "      <td>0.000000</td>\n",
       "      <td>0.236619</td>\n",
       "      <td>0.378164</td>\n",
       "      <td>25</td>\n",
       "      <td>USP39, SRP19, ZNF3, RPL18, RPS19, RAP1GDS1, CH...</td>\n",
       "      <td>LV10</td>\n",
       "      <td>2</td>\n",
       "    </tr>\n",
       "    <tr>\n",
       "      <th>4</th>\n",
       "      <td>gene_set_decrease</td>\n",
       "      <td>0.042957</td>\n",
       "      <td>0.085914</td>\n",
       "      <td>0.216543</td>\n",
       "      <td>0.831205</td>\n",
       "      <td>1.711885</td>\n",
       "      <td>27</td>\n",
       "      <td>NDUFB7, PTBP1, RRAGC, PPP2R2B, SQLE</td>\n",
       "      <td>LV100</td>\n",
       "      <td>6</td>\n",
       "    </tr>\n",
       "  </tbody>\n",
       "</table>\n",
       "</div>"
      ],
      "text/plain": [
       "             pathway      pval      padj   log2err        ES       NES  size  \\\n",
       "0  gene_set_decrease  0.198801  0.251748  0.091680  0.578418  1.123767    35   \n",
       "1  gene_set_increase  0.251748  0.251748  0.078711  0.539155  1.078565    63   \n",
       "2  gene_set_decrease  0.963037  0.999001  0.008938  0.434799  0.678421    20   \n",
       "3  gene_set_increase  1.000000  1.000000  0.000000  0.236619  0.378164    25   \n",
       "4  gene_set_decrease  0.042957  0.085914  0.216543  0.831205  1.711885    27   \n",
       "\n",
       "                                         leadingEdge     lv  rep_idx  \n",
       "0  PTBP1, KEAP1, PEX14, DLST, PCYT2, MAD2L2, GLRX...    LV1        2  \n",
       "1  CHERP, RANGAP1, HNRNPL, RPS2, E4F1, TAF1C, GAT...    LV1        2  \n",
       "2   VDR, ACVR1B, KEAP1, NDUFV2, PEX14, NDUFS3, WDR26   LV10        5  \n",
       "3  USP39, SRP19, ZNF3, RPL18, RPS19, RAP1GDS1, CH...   LV10        2  \n",
       "4                NDUFB7, PTBP1, RRAGC, PPP2R2B, SQLE  LV100        6  "
      ]
     },
     "metadata": {},
     "output_type": "display_data"
    }
   ],
   "source": [
    "deg_enrich = deg_enrich.loc[deg_enrich_max_idx].reset_index(drop=True)\n",
    "display(deg_enrich.shape)\n",
    "display(deg_enrich.head())"
   ]
  },
  {
   "cell_type": "markdown",
   "metadata": {
    "papermill": {
     "duration": 0.010806,
     "end_time": "2021-05-21T16:18:01.026417",
     "exception": false,
     "start_time": "2021-05-21T16:18:01.015611",
     "status": "completed"
    },
    "tags": []
   },
   "source": [
    "## MultiPLIER summary"
   ]
  },
  {
   "cell_type": "code",
   "execution_count": 10,
   "metadata": {
    "execution": {
     "iopub.execute_input": "2021-05-21T16:18:01.050057Z",
     "iopub.status.busy": "2021-05-21T16:18:01.049703Z",
     "iopub.status.idle": "2021-05-21T16:18:01.057242Z",
     "shell.execute_reply": "2021-05-21T16:18:01.056892Z"
    },
    "papermill": {
     "duration": 0.02006,
     "end_time": "2021-05-21T16:18:01.057322",
     "exception": false,
     "start_time": "2021-05-21T16:18:01.037262",
     "status": "completed"
    },
    "tags": []
   },
   "outputs": [],
   "source": [
    "# multiplier_model_summary = read_data(conf.MULTIPLIER[\"MODEL_SUMMARY_FILE\"])"
   ]
  },
  {
   "cell_type": "code",
   "execution_count": 11,
   "metadata": {
    "execution": {
     "iopub.execute_input": "2021-05-21T16:18:01.081221Z",
     "iopub.status.busy": "2021-05-21T16:18:01.080845Z",
     "iopub.status.idle": "2021-05-21T16:18:01.088570Z",
     "shell.execute_reply": "2021-05-21T16:18:01.088197Z"
    },
    "papermill": {
     "duration": 0.020686,
     "end_time": "2021-05-21T16:18:01.088655",
     "exception": false,
     "start_time": "2021-05-21T16:18:01.067969",
     "status": "completed"
    },
    "tags": []
   },
   "outputs": [],
   "source": [
    "# multiplier_model_summary.shape"
   ]
  },
  {
   "cell_type": "code",
   "execution_count": 12,
   "metadata": {
    "execution": {
     "iopub.execute_input": "2021-05-21T16:18:01.112886Z",
     "iopub.status.busy": "2021-05-21T16:18:01.112411Z",
     "iopub.status.idle": "2021-05-21T16:18:01.120065Z",
     "shell.execute_reply": "2021-05-21T16:18:01.119691Z"
    },
    "papermill": {
     "duration": 0.020285,
     "end_time": "2021-05-21T16:18:01.120149",
     "exception": false,
     "start_time": "2021-05-21T16:18:01.099864",
     "status": "completed"
    },
    "tags": []
   },
   "outputs": [],
   "source": [
    "# multiplier_model_summary.head()"
   ]
  },
  {
   "cell_type": "markdown",
   "metadata": {
    "papermill": {
     "duration": 0.010921,
     "end_time": "2021-05-21T16:18:01.142723",
     "exception": false,
     "start_time": "2021-05-21T16:18:01.131802",
     "status": "completed"
    },
    "tags": []
   },
   "source": [
    "# Adjust p-values"
   ]
  },
  {
   "cell_type": "code",
   "execution_count": 13,
   "metadata": {
    "execution": {
     "iopub.execute_input": "2021-05-21T16:18:01.166660Z",
     "iopub.status.busy": "2021-05-21T16:18:01.166310Z",
     "iopub.status.idle": "2021-05-21T16:18:01.174282Z",
     "shell.execute_reply": "2021-05-21T16:18:01.173879Z"
    },
    "papermill": {
     "duration": 0.020849,
     "end_time": "2021-05-21T16:18:01.174365",
     "exception": false,
     "start_time": "2021-05-21T16:18:01.153516",
     "status": "completed"
    },
    "tags": []
   },
   "outputs": [],
   "source": [
    "adj_pvals = multipletests(deg_enrich[\"pval\"], alpha=0.05, method=\"fdr_bh\")"
   ]
  },
  {
   "cell_type": "code",
   "execution_count": 14,
   "metadata": {
    "execution": {
     "iopub.execute_input": "2021-05-21T16:18:01.198746Z",
     "iopub.status.busy": "2021-05-21T16:18:01.198381Z",
     "iopub.status.idle": "2021-05-21T16:18:01.206853Z",
     "shell.execute_reply": "2021-05-21T16:18:01.207132Z"
    },
    "papermill": {
     "duration": 0.021841,
     "end_time": "2021-05-21T16:18:01.207236",
     "exception": false,
     "start_time": "2021-05-21T16:18:01.185395",
     "status": "completed"
    },
    "tags": []
   },
   "outputs": [
    {
     "data": {
      "text/plain": [
       "(array([False, False, False, ..., False, False, False]),\n",
       " array([0.75562051, 0.77994705, 1.        , ..., 0.94094348, 0.71867843,\n",
       "        0.91289763]),\n",
       " 2.5997277061207136e-05,\n",
       " 2.5342118601115056e-05)"
      ]
     },
     "execution_count": 14,
     "metadata": {},
     "output_type": "execute_result"
    }
   ],
   "source": [
    "adj_pvals"
   ]
  },
  {
   "cell_type": "code",
   "execution_count": 15,
   "metadata": {
    "execution": {
     "iopub.execute_input": "2021-05-21T16:18:01.232155Z",
     "iopub.status.busy": "2021-05-21T16:18:01.231801Z",
     "iopub.status.idle": "2021-05-21T16:18:01.239987Z",
     "shell.execute_reply": "2021-05-21T16:18:01.239670Z"
    },
    "papermill": {
     "duration": 0.021398,
     "end_time": "2021-05-21T16:18:01.240073",
     "exception": false,
     "start_time": "2021-05-21T16:18:01.218675",
     "status": "completed"
    },
    "tags": []
   },
   "outputs": [
    {
     "data": {
      "text/plain": [
       "4"
      ]
     },
     "execution_count": 15,
     "metadata": {},
     "output_type": "execute_result"
    }
   ],
   "source": [
    "np.sum(adj_pvals[0])"
   ]
  },
  {
   "cell_type": "code",
   "execution_count": 16,
   "metadata": {
    "execution": {
     "iopub.execute_input": "2021-05-21T16:18:01.265345Z",
     "iopub.status.busy": "2021-05-21T16:18:01.264979Z",
     "iopub.status.idle": "2021-05-21T16:18:01.273159Z",
     "shell.execute_reply": "2021-05-21T16:18:01.272776Z"
    },
    "papermill": {
     "duration": 0.021818,
     "end_time": "2021-05-21T16:18:01.273257",
     "exception": false,
     "start_time": "2021-05-21T16:18:01.251439",
     "status": "completed"
    },
    "tags": []
   },
   "outputs": [],
   "source": [
    "deg_enrich = deg_enrich.assign(fdr=adj_pvals[1])"
   ]
  },
  {
   "cell_type": "code",
   "execution_count": 17,
   "metadata": {
    "execution": {
     "iopub.execute_input": "2021-05-21T16:18:01.298264Z",
     "iopub.status.busy": "2021-05-21T16:18:01.297911Z",
     "iopub.status.idle": "2021-05-21T16:18:01.312596Z",
     "shell.execute_reply": "2021-05-21T16:18:01.312232Z"
    },
    "papermill": {
     "duration": 0.027865,
     "end_time": "2021-05-21T16:18:01.312680",
     "exception": false,
     "start_time": "2021-05-21T16:18:01.284815",
     "status": "completed"
    },
    "tags": []
   },
   "outputs": [
    {
     "data": {
      "text/html": [
       "<div>\n",
       "<style scoped>\n",
       "    .dataframe tbody tr th:only-of-type {\n",
       "        vertical-align: middle;\n",
       "    }\n",
       "\n",
       "    .dataframe tbody tr th {\n",
       "        vertical-align: top;\n",
       "    }\n",
       "\n",
       "    .dataframe thead th {\n",
       "        text-align: right;\n",
       "    }\n",
       "</style>\n",
       "<table border=\"1\" class=\"dataframe\">\n",
       "  <thead>\n",
       "    <tr style=\"text-align: right;\">\n",
       "      <th></th>\n",
       "      <th>pathway</th>\n",
       "      <th>pval</th>\n",
       "      <th>padj</th>\n",
       "      <th>log2err</th>\n",
       "      <th>ES</th>\n",
       "      <th>NES</th>\n",
       "      <th>size</th>\n",
       "      <th>leadingEdge</th>\n",
       "      <th>lv</th>\n",
       "      <th>rep_idx</th>\n",
       "      <th>fdr</th>\n",
       "    </tr>\n",
       "  </thead>\n",
       "  <tbody>\n",
       "    <tr>\n",
       "      <th>0</th>\n",
       "      <td>gene_set_decrease</td>\n",
       "      <td>0.198801</td>\n",
       "      <td>0.251748</td>\n",
       "      <td>0.091680</td>\n",
       "      <td>0.578418</td>\n",
       "      <td>1.123767</td>\n",
       "      <td>35</td>\n",
       "      <td>PTBP1, KEAP1, PEX14, DLST, PCYT2, MAD2L2, GLRX...</td>\n",
       "      <td>LV1</td>\n",
       "      <td>2</td>\n",
       "      <td>0.755621</td>\n",
       "    </tr>\n",
       "    <tr>\n",
       "      <th>1</th>\n",
       "      <td>gene_set_increase</td>\n",
       "      <td>0.251748</td>\n",
       "      <td>0.251748</td>\n",
       "      <td>0.078711</td>\n",
       "      <td>0.539155</td>\n",
       "      <td>1.078565</td>\n",
       "      <td>63</td>\n",
       "      <td>CHERP, RANGAP1, HNRNPL, RPS2, E4F1, TAF1C, GAT...</td>\n",
       "      <td>LV1</td>\n",
       "      <td>2</td>\n",
       "      <td>0.779947</td>\n",
       "    </tr>\n",
       "    <tr>\n",
       "      <th>2</th>\n",
       "      <td>gene_set_decrease</td>\n",
       "      <td>0.963037</td>\n",
       "      <td>0.999001</td>\n",
       "      <td>0.008938</td>\n",
       "      <td>0.434799</td>\n",
       "      <td>0.678421</td>\n",
       "      <td>20</td>\n",
       "      <td>VDR, ACVR1B, KEAP1, NDUFV2, PEX14, NDUFS3, WDR26</td>\n",
       "      <td>LV10</td>\n",
       "      <td>5</td>\n",
       "      <td>1.000000</td>\n",
       "    </tr>\n",
       "    <tr>\n",
       "      <th>3</th>\n",
       "      <td>gene_set_increase</td>\n",
       "      <td>1.000000</td>\n",
       "      <td>1.000000</td>\n",
       "      <td>0.000000</td>\n",
       "      <td>0.236619</td>\n",
       "      <td>0.378164</td>\n",
       "      <td>25</td>\n",
       "      <td>USP39, SRP19, ZNF3, RPL18, RPS19, RAP1GDS1, CH...</td>\n",
       "      <td>LV10</td>\n",
       "      <td>2</td>\n",
       "      <td>1.000000</td>\n",
       "    </tr>\n",
       "    <tr>\n",
       "      <th>4</th>\n",
       "      <td>gene_set_decrease</td>\n",
       "      <td>0.042957</td>\n",
       "      <td>0.085914</td>\n",
       "      <td>0.216543</td>\n",
       "      <td>0.831205</td>\n",
       "      <td>1.711885</td>\n",
       "      <td>27</td>\n",
       "      <td>NDUFB7, PTBP1, RRAGC, PPP2R2B, SQLE</td>\n",
       "      <td>LV100</td>\n",
       "      <td>6</td>\n",
       "      <td>0.718678</td>\n",
       "    </tr>\n",
       "  </tbody>\n",
       "</table>\n",
       "</div>"
      ],
      "text/plain": [
       "             pathway      pval      padj   log2err        ES       NES  size  \\\n",
       "0  gene_set_decrease  0.198801  0.251748  0.091680  0.578418  1.123767    35   \n",
       "1  gene_set_increase  0.251748  0.251748  0.078711  0.539155  1.078565    63   \n",
       "2  gene_set_decrease  0.963037  0.999001  0.008938  0.434799  0.678421    20   \n",
       "3  gene_set_increase  1.000000  1.000000  0.000000  0.236619  0.378164    25   \n",
       "4  gene_set_decrease  0.042957  0.085914  0.216543  0.831205  1.711885    27   \n",
       "\n",
       "                                         leadingEdge     lv  rep_idx       fdr  \n",
       "0  PTBP1, KEAP1, PEX14, DLST, PCYT2, MAD2L2, GLRX...    LV1        2  0.755621  \n",
       "1  CHERP, RANGAP1, HNRNPL, RPS2, E4F1, TAF1C, GAT...    LV1        2  0.779947  \n",
       "2   VDR, ACVR1B, KEAP1, NDUFV2, PEX14, NDUFS3, WDR26   LV10        5  1.000000  \n",
       "3  USP39, SRP19, ZNF3, RPL18, RPS19, RAP1GDS1, CH...   LV10        2  1.000000  \n",
       "4                NDUFB7, PTBP1, RRAGC, PPP2R2B, SQLE  LV100        6  0.718678  "
      ]
     },
     "execution_count": 17,
     "metadata": {},
     "output_type": "execute_result"
    }
   ],
   "source": [
    "deg_enrich.head()"
   ]
  },
  {
   "cell_type": "markdown",
   "metadata": {
    "papermill": {
     "duration": 0.011336,
     "end_time": "2021-05-21T16:18:01.335863",
     "exception": false,
     "start_time": "2021-05-21T16:18:01.324527",
     "status": "completed"
    },
    "tags": []
   },
   "source": [
    "# Analysis"
   ]
  },
  {
   "cell_type": "code",
   "execution_count": 18,
   "metadata": {
    "execution": {
     "iopub.execute_input": "2021-05-21T16:18:01.361099Z",
     "iopub.status.busy": "2021-05-21T16:18:01.360668Z",
     "iopub.status.idle": "2021-05-21T16:18:01.369443Z",
     "shell.execute_reply": "2021-05-21T16:18:01.369120Z"
    },
    "papermill": {
     "duration": 0.02233,
     "end_time": "2021-05-21T16:18:01.369529",
     "exception": false,
     "start_time": "2021-05-21T16:18:01.347199",
     "status": "completed"
    },
    "tags": []
   },
   "outputs": [],
   "source": [
    "df = deg_enrich[(deg_enrich[\"fdr\"] < 0.05)].sort_values(\"fdr\", ascending=True)"
   ]
  },
  {
   "cell_type": "code",
   "execution_count": 19,
   "metadata": {
    "execution": {
     "iopub.execute_input": "2021-05-21T16:18:01.394994Z",
     "iopub.status.busy": "2021-05-21T16:18:01.394643Z",
     "iopub.status.idle": "2021-05-21T16:18:01.402966Z",
     "shell.execute_reply": "2021-05-21T16:18:01.402648Z"
    },
    "papermill": {
     "duration": 0.021628,
     "end_time": "2021-05-21T16:18:01.403049",
     "exception": false,
     "start_time": "2021-05-21T16:18:01.381421",
     "status": "completed"
    },
    "tags": []
   },
   "outputs": [
    {
     "data": {
      "text/plain": [
       "(4, 11)"
      ]
     },
     "execution_count": 19,
     "metadata": {},
     "output_type": "execute_result"
    }
   ],
   "source": [
    "df.shape"
   ]
  },
  {
   "cell_type": "code",
   "execution_count": 20,
   "metadata": {
    "execution": {
     "iopub.execute_input": "2021-05-21T16:18:01.429305Z",
     "iopub.status.busy": "2021-05-21T16:18:01.428939Z",
     "iopub.status.idle": "2021-05-21T16:18:01.443730Z",
     "shell.execute_reply": "2021-05-21T16:18:01.443363Z"
    },
    "papermill": {
     "duration": 0.028608,
     "end_time": "2021-05-21T16:18:01.443814",
     "exception": false,
     "start_time": "2021-05-21T16:18:01.415206",
     "status": "completed"
    },
    "tags": []
   },
   "outputs": [
    {
     "data": {
      "text/html": [
       "<div>\n",
       "<style scoped>\n",
       "    .dataframe tbody tr th:only-of-type {\n",
       "        vertical-align: middle;\n",
       "    }\n",
       "\n",
       "    .dataframe tbody tr th {\n",
       "        vertical-align: top;\n",
       "    }\n",
       "\n",
       "    .dataframe thead th {\n",
       "        text-align: right;\n",
       "    }\n",
       "</style>\n",
       "<table border=\"1\" class=\"dataframe\">\n",
       "  <thead>\n",
       "    <tr style=\"text-align: right;\">\n",
       "      <th></th>\n",
       "      <th>pathway</th>\n",
       "      <th>pval</th>\n",
       "      <th>padj</th>\n",
       "      <th>log2err</th>\n",
       "      <th>ES</th>\n",
       "      <th>NES</th>\n",
       "      <th>size</th>\n",
       "      <th>leadingEdge</th>\n",
       "      <th>lv</th>\n",
       "      <th>rep_idx</th>\n",
       "      <th>fdr</th>\n",
       "    </tr>\n",
       "  </thead>\n",
       "  <tbody>\n",
       "    <tr>\n",
       "      <th>1283</th>\n",
       "      <td>gene_set_decrease</td>\n",
       "      <td>2.605291e-07</td>\n",
       "      <td>5.210582e-07</td>\n",
       "      <td>0.674963</td>\n",
       "      <td>0.858542</td>\n",
       "      <td>1.636153</td>\n",
       "      <td>43</td>\n",
       "      <td>NDUFA4, COX6A1, ATP5O, NDUFB10, COX5A, NDUFS3,...</td>\n",
       "      <td>LV678</td>\n",
       "      <td>3</td>\n",
       "      <td>0.000257</td>\n",
       "    </tr>\n",
       "    <tr>\n",
       "      <th>1350</th>\n",
       "      <td>gene_set_increase</td>\n",
       "      <td>1.738856e-07</td>\n",
       "      <td>3.477712e-07</td>\n",
       "      <td>0.690132</td>\n",
       "      <td>0.905734</td>\n",
       "      <td>1.565818</td>\n",
       "      <td>49</td>\n",
       "      <td>RPS14, RPL31, RPS19, RPS11, RPS6, RPL37, RPSA,...</td>\n",
       "      <td>LV707</td>\n",
       "      <td>3</td>\n",
       "      <td>0.000257</td>\n",
       "    </tr>\n",
       "    <tr>\n",
       "      <th>1790</th>\n",
       "      <td>gene_set_increase</td>\n",
       "      <td>4.293645e-05</td>\n",
       "      <td>8.587291e-05</td>\n",
       "      <td>0.557332</td>\n",
       "      <td>0.732205</td>\n",
       "      <td>1.486815</td>\n",
       "      <td>60</td>\n",
       "      <td>RPS6, RPL6, RPLP0, RPL19, RPL31, RPL7, RPS13, ...</td>\n",
       "      <td>LV905</td>\n",
       "      <td>6</td>\n",
       "      <td>0.028238</td>\n",
       "    </tr>\n",
       "    <tr>\n",
       "      <th>1812</th>\n",
       "      <td>gene_set_increase</td>\n",
       "      <td>6.373604e-05</td>\n",
       "      <td>1.274721e-04</td>\n",
       "      <td>0.538434</td>\n",
       "      <td>0.627667</td>\n",
       "      <td>1.444149</td>\n",
       "      <td>83</td>\n",
       "      <td>SAFB, LUC7L3, HSP90B1, CHD4, SNRPD3, ISY1, DKC...</td>\n",
       "      <td>LV915</td>\n",
       "      <td>4</td>\n",
       "      <td>0.031438</td>\n",
       "    </tr>\n",
       "  </tbody>\n",
       "</table>\n",
       "</div>"
      ],
      "text/plain": [
       "                pathway          pval          padj   log2err        ES  \\\n",
       "1283  gene_set_decrease  2.605291e-07  5.210582e-07  0.674963  0.858542   \n",
       "1350  gene_set_increase  1.738856e-07  3.477712e-07  0.690132  0.905734   \n",
       "1790  gene_set_increase  4.293645e-05  8.587291e-05  0.557332  0.732205   \n",
       "1812  gene_set_increase  6.373604e-05  1.274721e-04  0.538434  0.627667   \n",
       "\n",
       "           NES  size                                        leadingEdge  \\\n",
       "1283  1.636153    43  NDUFA4, COX6A1, ATP5O, NDUFB10, COX5A, NDUFS3,...   \n",
       "1350  1.565818    49  RPS14, RPL31, RPS19, RPS11, RPS6, RPL37, RPSA,...   \n",
       "1790  1.486815    60  RPS6, RPL6, RPLP0, RPL19, RPL31, RPL7, RPS13, ...   \n",
       "1812  1.444149    83  SAFB, LUC7L3, HSP90B1, CHD4, SNRPD3, ISY1, DKC...   \n",
       "\n",
       "         lv  rep_idx       fdr  \n",
       "1283  LV678        3  0.000257  \n",
       "1350  LV707        3  0.000257  \n",
       "1790  LV905        6  0.028238  \n",
       "1812  LV915        4  0.031438  "
      ]
     },
     "execution_count": 20,
     "metadata": {},
     "output_type": "execute_result"
    }
   ],
   "source": [
    "df.sort_values(\"fdr\")"
   ]
  },
  {
   "cell_type": "markdown",
   "metadata": {
    "papermill": {
     "duration": 0.012069,
     "end_time": "2021-05-21T16:18:01.468356",
     "exception": false,
     "start_time": "2021-05-21T16:18:01.456287",
     "status": "completed"
    },
    "tags": []
   },
   "source": [
    "# Save"
   ]
  },
  {
   "cell_type": "code",
   "execution_count": 21,
   "metadata": {
    "execution": {
     "iopub.execute_input": "2021-05-21T16:18:01.494901Z",
     "iopub.status.busy": "2021-05-21T16:18:01.494547Z",
     "iopub.status.idle": "2021-05-21T16:18:01.525116Z",
     "shell.execute_reply": "2021-05-21T16:18:01.524740Z"
    },
    "papermill": {
     "duration": 0.044775,
     "end_time": "2021-05-21T16:18:01.525237",
     "exception": false,
     "start_time": "2021-05-21T16:18:01.480462",
     "status": "completed"
    },
    "tags": []
   },
   "outputs": [],
   "source": [
    "# override the original file with adjusted p-values\n",
    "deg_enrich.to_csv(\n",
    "    FGSEA_INPUT_FILEPATH,\n",
    "    sep=\"\\t\",\n",
    "    index=False,\n",
    ")"
   ]
  },
  {
   "cell_type": "code",
   "execution_count": null,
   "metadata": {
    "papermill": {
     "duration": 0.014466,
     "end_time": "2021-05-21T16:18:01.555629",
     "exception": false,
     "start_time": "2021-05-21T16:18:01.541163",
     "status": "completed"
    },
    "tags": []
   },
   "outputs": [],
   "source": []
  }
 ],
 "metadata": {
  "jupytext": {
   "cell_metadata_filter": "all,-execution,-papermill,-trusted",
   "formats": "ipynb,py//py:percent"
  },
  "kernelspec": {
   "display_name": "Python 3",
   "language": "python",
   "name": "python3"
  },
  "language_info": {
   "codemirror_mode": {
    "name": "ipython",
    "version": 3
   },
   "file_extension": ".py",
   "mimetype": "text/x-python",
   "name": "python",
   "nbconvert_exporter": "python",
   "pygments_lexer": "ipython3",
   "version": "3.8.8"
  },
  "papermill": {
   "default_parameters": {},
   "duration": 2.86635,
   "end_time": "2021-05-21T16:18:01.874073",
   "environment_variables": {},
   "exception": null,
   "input_path": "30_validation/crispr_screen/030_15-deg_genes-gsea-pval_adjust.ipynb",
   "output_path": "30_validation/crispr_screen/030_15-deg_genes-gsea-pval_adjust.run.ipynb",
   "parameters": {},
   "start_time": "2021-05-21T16:17:59.007723",
   "version": "2.2.2"
  },
  "toc-autonumbering": true
 },
 "nbformat": 4,
 "nbformat_minor": 4
}
