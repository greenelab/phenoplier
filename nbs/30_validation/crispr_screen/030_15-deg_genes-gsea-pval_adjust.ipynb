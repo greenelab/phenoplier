{
 "cells": [
  {
   "cell_type": "markdown",
   "metadata": {
    "papermill": {
     "duration": 0.017763,
     "end_time": "2021-03-25T19:58:24.876508",
     "exception": false,
     "start_time": "2021-03-25T19:58:24.858745",
     "status": "completed"
    },
    "tags": []
   },
   "source": [
    "# Description"
   ]
  },
  {
   "cell_type": "markdown",
   "metadata": {
    "papermill": {
     "duration": 0.014264,
     "end_time": "2021-03-25T19:58:24.907191",
     "exception": false,
     "start_time": "2021-03-25T19:58:24.892927",
     "status": "completed"
    },
    "tags": []
   },
   "source": [
    "TODO"
   ]
  },
  {
   "cell_type": "markdown",
   "metadata": {
    "papermill": {
     "duration": 0.013597,
     "end_time": "2021-03-25T19:58:24.934766",
     "exception": false,
     "start_time": "2021-03-25T19:58:24.921169",
     "status": "completed"
    },
    "tags": []
   },
   "source": [
    "# Modules loading"
   ]
  },
  {
   "cell_type": "code",
   "execution_count": 1,
   "metadata": {
    "papermill": {
     "duration": 0.027352,
     "end_time": "2021-03-25T19:58:24.975797",
     "exception": false,
     "start_time": "2021-03-25T19:58:24.948445",
     "status": "completed"
    },
    "tags": []
   },
   "outputs": [],
   "source": [
    "%load_ext autoreload\n",
    "%autoreload 2"
   ]
  },
  {
   "cell_type": "code",
   "execution_count": 2,
   "metadata": {
    "papermill": {
     "duration": 0.376361,
     "end_time": "2021-03-25T19:58:25.366343",
     "exception": false,
     "start_time": "2021-03-25T19:58:24.989982",
     "status": "completed"
    },
    "tags": []
   },
   "outputs": [],
   "source": [
    "from pathlib import Path\n",
    "\n",
    "import numpy as np\n",
    "import pandas as pd\n",
    "from IPython.display import HTML\n",
    "from statsmodels.stats.multitest import multipletests\n",
    "\n",
    "from entity import Trait\n",
    "from data.cache import read_data\n",
    "import conf"
   ]
  },
  {
   "cell_type": "markdown",
   "metadata": {
    "papermill": {
     "duration": 0.014722,
     "end_time": "2021-03-25T19:58:25.396511",
     "exception": false,
     "start_time": "2021-03-25T19:58:25.381789",
     "status": "completed"
    },
    "tags": []
   },
   "source": [
    "# Settings"
   ]
  },
  {
   "cell_type": "code",
   "execution_count": 3,
   "metadata": {},
   "outputs": [],
   "source": [
    "FGSEA_INPUT_FILEPATH = Path(\n",
    "    conf.RESULTS[\"CRISPR_ANALYSES\"][\"BASE_DIR\"], \"fgsea-all_lvs.tsv\"\n",
    ").resolve()"
   ]
  },
  {
   "cell_type": "markdown",
   "metadata": {
    "papermill": {
     "duration": 0.014136,
     "end_time": "2021-03-25T19:58:25.505153",
     "exception": false,
     "start_time": "2021-03-25T19:58:25.491017",
     "status": "completed"
    },
    "tags": []
   },
   "source": [
    "# Data loading"
   ]
  },
  {
   "cell_type": "markdown",
   "metadata": {
    "papermill": {
     "duration": 0.01535,
     "end_time": "2021-03-25T19:58:25.752468",
     "exception": false,
     "start_time": "2021-03-25T19:58:25.737118",
     "status": "completed"
    },
    "tags": []
   },
   "source": [
    "## LVs enrichment on DEG from CRISPR screen"
   ]
  },
  {
   "cell_type": "code",
   "execution_count": 4,
   "metadata": {
    "papermill": {
     "duration": 0.054155,
     "end_time": "2021-03-25T19:58:25.822036",
     "exception": false,
     "start_time": "2021-03-25T19:58:25.767881",
     "status": "completed"
    },
    "tags": []
   },
   "outputs": [],
   "source": [
    "deg_enrich = pd.read_csv(\n",
    "    FGSEA_INPUT_FILEPATH,\n",
    "    sep=\"\\t\",\n",
    ").drop(columns=[\"padj\"])"
   ]
  },
  {
   "cell_type": "code",
   "execution_count": 5,
   "metadata": {
    "papermill": {
     "duration": 0.02872,
     "end_time": "2021-03-25T19:58:25.866434",
     "exception": false,
     "start_time": "2021-03-25T19:58:25.837714",
     "status": "completed"
    },
    "tags": []
   },
   "outputs": [
    {
     "data": {
      "text/plain": [
       "(1973, 9)"
      ]
     },
     "execution_count": 5,
     "metadata": {},
     "output_type": "execute_result"
    }
   ],
   "source": [
    "deg_enrich.shape"
   ]
  },
  {
   "cell_type": "code",
   "execution_count": 6,
   "metadata": {
    "papermill": {
     "duration": 0.032748,
     "end_time": "2021-03-25T19:58:25.917246",
     "exception": false,
     "start_time": "2021-03-25T19:58:25.884498",
     "status": "completed"
    },
    "tags": []
   },
   "outputs": [
    {
     "data": {
      "text/html": [
       "<div>\n",
       "<style scoped>\n",
       "    .dataframe tbody tr th:only-of-type {\n",
       "        vertical-align: middle;\n",
       "    }\n",
       "\n",
       "    .dataframe tbody tr th {\n",
       "        vertical-align: top;\n",
       "    }\n",
       "\n",
       "    .dataframe thead th {\n",
       "        text-align: right;\n",
       "    }\n",
       "</style>\n",
       "<table border=\"1\" class=\"dataframe\">\n",
       "  <thead>\n",
       "    <tr style=\"text-align: right;\">\n",
       "      <th></th>\n",
       "      <th>pathway</th>\n",
       "      <th>pval</th>\n",
       "      <th>log2err</th>\n",
       "      <th>ES</th>\n",
       "      <th>NES</th>\n",
       "      <th>size</th>\n",
       "      <th>leadingEdge</th>\n",
       "      <th>lv</th>\n",
       "      <th>rep_idx</th>\n",
       "    </tr>\n",
       "  </thead>\n",
       "  <tbody>\n",
       "    <tr>\n",
       "      <th>0</th>\n",
       "      <td>gene_set_decrease</td>\n",
       "      <td>0.184815</td>\n",
       "      <td>0.095921</td>\n",
       "      <td>0.578418</td>\n",
       "      <td>1.126666</td>\n",
       "      <td>35</td>\n",
       "      <td>PTBP1, KEAP1, PEX14, DLST, PCYT2, MAD2L2, GLRX...</td>\n",
       "      <td>LV1</td>\n",
       "      <td>1</td>\n",
       "    </tr>\n",
       "    <tr>\n",
       "      <th>1</th>\n",
       "      <td>gene_set_increase</td>\n",
       "      <td>0.235764</td>\n",
       "      <td>0.082205</td>\n",
       "      <td>0.539155</td>\n",
       "      <td>1.076511</td>\n",
       "      <td>63</td>\n",
       "      <td>CHERP, RANGAP1, HNRNPL, RPS2, E4F1, TAF1C, GAT...</td>\n",
       "      <td>LV1</td>\n",
       "      <td>1</td>\n",
       "    </tr>\n",
       "    <tr>\n",
       "      <th>2</th>\n",
       "      <td>gene_set_decrease</td>\n",
       "      <td>0.879397</td>\n",
       "      <td>0.017313</td>\n",
       "      <td>0.464502</td>\n",
       "      <td>0.749023</td>\n",
       "      <td>13</td>\n",
       "      <td>MBOAT1, ACVR1B, CSK, TCF7L2, TAZ, OGDH</td>\n",
       "      <td>LV2</td>\n",
       "      <td>1</td>\n",
       "    </tr>\n",
       "    <tr>\n",
       "      <th>3</th>\n",
       "      <td>gene_set_increase</td>\n",
       "      <td>NaN</td>\n",
       "      <td>NaN</td>\n",
       "      <td>-0.300857</td>\n",
       "      <td>NaN</td>\n",
       "      <td>18</td>\n",
       "      <td>CSTF3, NOP56, USP39, LUC7L3, RPS28, MED8, RPS1...</td>\n",
       "      <td>LV2</td>\n",
       "      <td>1</td>\n",
       "    </tr>\n",
       "    <tr>\n",
       "      <th>4</th>\n",
       "      <td>gene_set_decrease</td>\n",
       "      <td>0.806194</td>\n",
       "      <td>0.022370</td>\n",
       "      <td>0.518921</td>\n",
       "      <td>0.872645</td>\n",
       "      <td>28</td>\n",
       "      <td>ACVR1B, PPP2R2B, FBXW7, PIK3R1, PEX14, NDUFA4,...</td>\n",
       "      <td>LV3</td>\n",
       "      <td>1</td>\n",
       "    </tr>\n",
       "  </tbody>\n",
       "</table>\n",
       "</div>"
      ],
      "text/plain": [
       "             pathway      pval   log2err        ES       NES  size  \\\n",
       "0  gene_set_decrease  0.184815  0.095921  0.578418  1.126666    35   \n",
       "1  gene_set_increase  0.235764  0.082205  0.539155  1.076511    63   \n",
       "2  gene_set_decrease  0.879397  0.017313  0.464502  0.749023    13   \n",
       "3  gene_set_increase       NaN       NaN -0.300857       NaN    18   \n",
       "4  gene_set_decrease  0.806194  0.022370  0.518921  0.872645    28   \n",
       "\n",
       "                                         leadingEdge   lv  rep_idx  \n",
       "0  PTBP1, KEAP1, PEX14, DLST, PCYT2, MAD2L2, GLRX...  LV1        1  \n",
       "1  CHERP, RANGAP1, HNRNPL, RPS2, E4F1, TAF1C, GAT...  LV1        1  \n",
       "2             MBOAT1, ACVR1B, CSK, TCF7L2, TAZ, OGDH  LV2        1  \n",
       "3  CSTF3, NOP56, USP39, LUC7L3, RPS28, MED8, RPS1...  LV2        1  \n",
       "4  ACVR1B, PPP2R2B, FBXW7, PIK3R1, PEX14, NDUFA4,...  LV3        1  "
      ]
     },
     "execution_count": 6,
     "metadata": {},
     "output_type": "execute_result"
    }
   ],
   "source": [
    "deg_enrich.head()"
   ]
  },
  {
   "cell_type": "code",
   "execution_count": 7,
   "metadata": {},
   "outputs": [],
   "source": [
    "deg_enrich = deg_enrich.dropna()"
   ]
  },
  {
   "cell_type": "code",
   "execution_count": 8,
   "metadata": {
    "papermill": {
     "duration": 0.172409,
     "end_time": "2021-03-25T19:58:26.106669",
     "exception": false,
     "start_time": "2021-03-25T19:58:25.934260",
     "status": "completed"
    },
    "tags": []
   },
   "outputs": [],
   "source": [
    "# for each lv/pathway pair we ran fgsea 10 times; here take the maximum pvalue (least significant) among those runs\n",
    "deg_enrich_max_idx = deg_enrich.groupby([\"lv\", \"pathway\"])[\"pval\"].idxmax()"
   ]
  },
  {
   "cell_type": "code",
   "execution_count": 9,
   "metadata": {
    "papermill": {
     "duration": 0.034183,
     "end_time": "2021-03-25T19:58:26.157295",
     "exception": false,
     "start_time": "2021-03-25T19:58:26.123112",
     "status": "completed"
    },
    "tags": []
   },
   "outputs": [
    {
     "data": {
      "text/plain": [
       "(1966, 9)"
      ]
     },
     "metadata": {},
     "output_type": "display_data"
    },
    {
     "data": {
      "text/html": [
       "<div>\n",
       "<style scoped>\n",
       "    .dataframe tbody tr th:only-of-type {\n",
       "        vertical-align: middle;\n",
       "    }\n",
       "\n",
       "    .dataframe tbody tr th {\n",
       "        vertical-align: top;\n",
       "    }\n",
       "\n",
       "    .dataframe thead th {\n",
       "        text-align: right;\n",
       "    }\n",
       "</style>\n",
       "<table border=\"1\" class=\"dataframe\">\n",
       "  <thead>\n",
       "    <tr style=\"text-align: right;\">\n",
       "      <th></th>\n",
       "      <th>pathway</th>\n",
       "      <th>pval</th>\n",
       "      <th>log2err</th>\n",
       "      <th>ES</th>\n",
       "      <th>NES</th>\n",
       "      <th>size</th>\n",
       "      <th>leadingEdge</th>\n",
       "      <th>lv</th>\n",
       "      <th>rep_idx</th>\n",
       "    </tr>\n",
       "  </thead>\n",
       "  <tbody>\n",
       "    <tr>\n",
       "      <th>0</th>\n",
       "      <td>gene_set_decrease</td>\n",
       "      <td>0.184815</td>\n",
       "      <td>0.095921</td>\n",
       "      <td>0.578418</td>\n",
       "      <td>1.126666</td>\n",
       "      <td>35</td>\n",
       "      <td>PTBP1, KEAP1, PEX14, DLST, PCYT2, MAD2L2, GLRX...</td>\n",
       "      <td>LV1</td>\n",
       "      <td>1</td>\n",
       "    </tr>\n",
       "    <tr>\n",
       "      <th>1</th>\n",
       "      <td>gene_set_increase</td>\n",
       "      <td>0.235764</td>\n",
       "      <td>0.082205</td>\n",
       "      <td>0.539155</td>\n",
       "      <td>1.076511</td>\n",
       "      <td>63</td>\n",
       "      <td>CHERP, RANGAP1, HNRNPL, RPS2, E4F1, TAF1C, GAT...</td>\n",
       "      <td>LV1</td>\n",
       "      <td>1</td>\n",
       "    </tr>\n",
       "    <tr>\n",
       "      <th>2</th>\n",
       "      <td>gene_set_decrease</td>\n",
       "      <td>0.945000</td>\n",
       "      <td>0.011106</td>\n",
       "      <td>0.434799</td>\n",
       "      <td>0.689950</td>\n",
       "      <td>20</td>\n",
       "      <td>VDR, ACVR1B, KEAP1, NDUFV2, PEX14, NDUFS3, WDR26</td>\n",
       "      <td>LV10</td>\n",
       "      <td>1</td>\n",
       "    </tr>\n",
       "    <tr>\n",
       "      <th>3</th>\n",
       "      <td>gene_set_decrease</td>\n",
       "      <td>0.027027</td>\n",
       "      <td>0.276501</td>\n",
       "      <td>0.831205</td>\n",
       "      <td>1.736761</td>\n",
       "      <td>27</td>\n",
       "      <td>NDUFB7, PTBP1, RRAGC, PPP2R2B, SQLE</td>\n",
       "      <td>LV100</td>\n",
       "      <td>1</td>\n",
       "    </tr>\n",
       "    <tr>\n",
       "      <th>4</th>\n",
       "      <td>gene_set_increase</td>\n",
       "      <td>0.100899</td>\n",
       "      <td>0.136490</td>\n",
       "      <td>0.706986</td>\n",
       "      <td>1.467907</td>\n",
       "      <td>40</td>\n",
       "      <td>PCBP1, IGF1R, UXT, SNRPD1, GTF2H1</td>\n",
       "      <td>LV100</td>\n",
       "      <td>1</td>\n",
       "    </tr>\n",
       "  </tbody>\n",
       "</table>\n",
       "</div>"
      ],
      "text/plain": [
       "             pathway      pval   log2err        ES       NES  size  \\\n",
       "0  gene_set_decrease  0.184815  0.095921  0.578418  1.126666    35   \n",
       "1  gene_set_increase  0.235764  0.082205  0.539155  1.076511    63   \n",
       "2  gene_set_decrease  0.945000  0.011106  0.434799  0.689950    20   \n",
       "3  gene_set_decrease  0.027027  0.276501  0.831205  1.736761    27   \n",
       "4  gene_set_increase  0.100899  0.136490  0.706986  1.467907    40   \n",
       "\n",
       "                                         leadingEdge     lv  rep_idx  \n",
       "0  PTBP1, KEAP1, PEX14, DLST, PCYT2, MAD2L2, GLRX...    LV1        1  \n",
       "1  CHERP, RANGAP1, HNRNPL, RPS2, E4F1, TAF1C, GAT...    LV1        1  \n",
       "2   VDR, ACVR1B, KEAP1, NDUFV2, PEX14, NDUFS3, WDR26   LV10        1  \n",
       "3                NDUFB7, PTBP1, RRAGC, PPP2R2B, SQLE  LV100        1  \n",
       "4                  PCBP1, IGF1R, UXT, SNRPD1, GTF2H1  LV100        1  "
      ]
     },
     "metadata": {},
     "output_type": "display_data"
    }
   ],
   "source": [
    "deg_enrich = deg_enrich.loc[deg_enrich_max_idx].reset_index(drop=True)\n",
    "display(deg_enrich.shape)\n",
    "display(deg_enrich.head())"
   ]
  },
  {
   "cell_type": "markdown",
   "metadata": {
    "papermill": {
     "duration": 0.017012,
     "end_time": "2021-03-25T19:58:26.192119",
     "exception": false,
     "start_time": "2021-03-25T19:58:26.175107",
     "status": "completed"
    },
    "tags": []
   },
   "source": [
    "## MultiPLIER summary"
   ]
  },
  {
   "cell_type": "code",
   "execution_count": 10,
   "metadata": {
    "papermill": {
     "duration": 0.028461,
     "end_time": "2021-03-25T19:58:26.237390",
     "exception": false,
     "start_time": "2021-03-25T19:58:26.208929",
     "status": "completed"
    },
    "tags": []
   },
   "outputs": [],
   "source": [
    "# multiplier_model_summary = read_data(conf.MULTIPLIER[\"MODEL_SUMMARY_FILE\"])"
   ]
  },
  {
   "cell_type": "code",
   "execution_count": 11,
   "metadata": {
    "papermill": {
     "duration": 0.027568,
     "end_time": "2021-03-25T19:58:26.282809",
     "exception": false,
     "start_time": "2021-03-25T19:58:26.255241",
     "status": "completed"
    },
    "tags": []
   },
   "outputs": [],
   "source": [
    "# multiplier_model_summary.shape"
   ]
  },
  {
   "cell_type": "code",
   "execution_count": 12,
   "metadata": {
    "papermill": {
     "duration": 0.031335,
     "end_time": "2021-03-25T19:58:26.331663",
     "exception": false,
     "start_time": "2021-03-25T19:58:26.300328",
     "status": "completed"
    },
    "tags": []
   },
   "outputs": [],
   "source": [
    "# multiplier_model_summary.head()"
   ]
  },
  {
   "cell_type": "markdown",
   "metadata": {
    "papermill": {
     "duration": 0.017682,
     "end_time": "2021-03-25T19:58:26.367484",
     "exception": false,
     "start_time": "2021-03-25T19:58:26.349802",
     "status": "completed"
    },
    "tags": []
   },
   "source": [
    "# Adjust p-values"
   ]
  },
  {
   "cell_type": "code",
   "execution_count": 13,
   "metadata": {},
   "outputs": [],
   "source": [
    "adj_pvals = multipletests(deg_enrich[\"pval\"], alpha=0.05, method=\"fdr_bh\")"
   ]
  },
  {
   "cell_type": "code",
   "execution_count": 14,
   "metadata": {},
   "outputs": [
    {
     "data": {
      "text/plain": [
       "(array([False, False, False, ..., False, False, False]),\n",
       " array([0.68522993, 0.70804322, 1.        , ..., 0.89093706, 0.54570796,\n",
       "        0.86760812]),\n",
       " 2.6089839912368795e-05,\n",
       " 2.5432349949135303e-05)"
      ]
     },
     "execution_count": 14,
     "metadata": {},
     "output_type": "execute_result"
    }
   ],
   "source": [
    "adj_pvals"
   ]
  },
  {
   "cell_type": "code",
   "execution_count": 15,
   "metadata": {},
   "outputs": [
    {
     "data": {
      "text/plain": [
       "4"
      ]
     },
     "execution_count": 15,
     "metadata": {},
     "output_type": "execute_result"
    }
   ],
   "source": [
    "np.sum(adj_pvals[0])"
   ]
  },
  {
   "cell_type": "code",
   "execution_count": 16,
   "metadata": {},
   "outputs": [],
   "source": [
    "deg_enrich = deg_enrich.assign(padj=adj_pvals[1])"
   ]
  },
  {
   "cell_type": "code",
   "execution_count": 17,
   "metadata": {},
   "outputs": [
    {
     "data": {
      "text/html": [
       "<div>\n",
       "<style scoped>\n",
       "    .dataframe tbody tr th:only-of-type {\n",
       "        vertical-align: middle;\n",
       "    }\n",
       "\n",
       "    .dataframe tbody tr th {\n",
       "        vertical-align: top;\n",
       "    }\n",
       "\n",
       "    .dataframe thead th {\n",
       "        text-align: right;\n",
       "    }\n",
       "</style>\n",
       "<table border=\"1\" class=\"dataframe\">\n",
       "  <thead>\n",
       "    <tr style=\"text-align: right;\">\n",
       "      <th></th>\n",
       "      <th>pathway</th>\n",
       "      <th>pval</th>\n",
       "      <th>log2err</th>\n",
       "      <th>ES</th>\n",
       "      <th>NES</th>\n",
       "      <th>size</th>\n",
       "      <th>leadingEdge</th>\n",
       "      <th>lv</th>\n",
       "      <th>rep_idx</th>\n",
       "      <th>padj</th>\n",
       "    </tr>\n",
       "  </thead>\n",
       "  <tbody>\n",
       "    <tr>\n",
       "      <th>0</th>\n",
       "      <td>gene_set_decrease</td>\n",
       "      <td>0.184815</td>\n",
       "      <td>0.095921</td>\n",
       "      <td>0.578418</td>\n",
       "      <td>1.126666</td>\n",
       "      <td>35</td>\n",
       "      <td>PTBP1, KEAP1, PEX14, DLST, PCYT2, MAD2L2, GLRX...</td>\n",
       "      <td>LV1</td>\n",
       "      <td>1</td>\n",
       "      <td>0.685230</td>\n",
       "    </tr>\n",
       "    <tr>\n",
       "      <th>1</th>\n",
       "      <td>gene_set_increase</td>\n",
       "      <td>0.235764</td>\n",
       "      <td>0.082205</td>\n",
       "      <td>0.539155</td>\n",
       "      <td>1.076511</td>\n",
       "      <td>63</td>\n",
       "      <td>CHERP, RANGAP1, HNRNPL, RPS2, E4F1, TAF1C, GAT...</td>\n",
       "      <td>LV1</td>\n",
       "      <td>1</td>\n",
       "      <td>0.708043</td>\n",
       "    </tr>\n",
       "    <tr>\n",
       "      <th>2</th>\n",
       "      <td>gene_set_decrease</td>\n",
       "      <td>0.945000</td>\n",
       "      <td>0.011106</td>\n",
       "      <td>0.434799</td>\n",
       "      <td>0.689950</td>\n",
       "      <td>20</td>\n",
       "      <td>VDR, ACVR1B, KEAP1, NDUFV2, PEX14, NDUFS3, WDR26</td>\n",
       "      <td>LV10</td>\n",
       "      <td>1</td>\n",
       "      <td>1.000000</td>\n",
       "    </tr>\n",
       "    <tr>\n",
       "      <th>3</th>\n",
       "      <td>gene_set_decrease</td>\n",
       "      <td>0.027027</td>\n",
       "      <td>0.276501</td>\n",
       "      <td>0.831205</td>\n",
       "      <td>1.736761</td>\n",
       "      <td>27</td>\n",
       "      <td>NDUFB7, PTBP1, RRAGC, PPP2R2B, SQLE</td>\n",
       "      <td>LV100</td>\n",
       "      <td>1</td>\n",
       "      <td>0.638514</td>\n",
       "    </tr>\n",
       "    <tr>\n",
       "      <th>4</th>\n",
       "      <td>gene_set_increase</td>\n",
       "      <td>0.100899</td>\n",
       "      <td>0.136490</td>\n",
       "      <td>0.706986</td>\n",
       "      <td>1.467907</td>\n",
       "      <td>40</td>\n",
       "      <td>PCBP1, IGF1R, UXT, SNRPD1, GTF2H1</td>\n",
       "      <td>LV100</td>\n",
       "      <td>1</td>\n",
       "      <td>0.646958</td>\n",
       "    </tr>\n",
       "  </tbody>\n",
       "</table>\n",
       "</div>"
      ],
      "text/plain": [
       "             pathway      pval   log2err        ES       NES  size  \\\n",
       "0  gene_set_decrease  0.184815  0.095921  0.578418  1.126666    35   \n",
       "1  gene_set_increase  0.235764  0.082205  0.539155  1.076511    63   \n",
       "2  gene_set_decrease  0.945000  0.011106  0.434799  0.689950    20   \n",
       "3  gene_set_decrease  0.027027  0.276501  0.831205  1.736761    27   \n",
       "4  gene_set_increase  0.100899  0.136490  0.706986  1.467907    40   \n",
       "\n",
       "                                         leadingEdge     lv  rep_idx      padj  \n",
       "0  PTBP1, KEAP1, PEX14, DLST, PCYT2, MAD2L2, GLRX...    LV1        1  0.685230  \n",
       "1  CHERP, RANGAP1, HNRNPL, RPS2, E4F1, TAF1C, GAT...    LV1        1  0.708043  \n",
       "2   VDR, ACVR1B, KEAP1, NDUFV2, PEX14, NDUFS3, WDR26   LV10        1  1.000000  \n",
       "3                NDUFB7, PTBP1, RRAGC, PPP2R2B, SQLE  LV100        1  0.638514  \n",
       "4                  PCBP1, IGF1R, UXT, SNRPD1, GTF2H1  LV100        1  0.646958  "
      ]
     },
     "execution_count": 17,
     "metadata": {},
     "output_type": "execute_result"
    }
   ],
   "source": [
    "deg_enrich.head()"
   ]
  },
  {
   "cell_type": "markdown",
   "metadata": {
    "papermill": {
     "duration": 0.017682,
     "end_time": "2021-03-25T19:58:26.367484",
     "exception": false,
     "start_time": "2021-03-25T19:58:26.349802",
     "status": "completed"
    },
    "tags": []
   },
   "source": [
    "# Analysis"
   ]
  },
  {
   "cell_type": "code",
   "execution_count": 18,
   "metadata": {
    "papermill": {
     "duration": 0.028585,
     "end_time": "2021-03-25T19:58:26.412885",
     "exception": false,
     "start_time": "2021-03-25T19:58:26.384300",
     "status": "completed"
    },
    "tags": []
   },
   "outputs": [],
   "source": [
    "df = deg_enrich[(deg_enrich[\"padj\"] < 0.05)].sort_values(\"padj\", ascending=True)"
   ]
  },
  {
   "cell_type": "code",
   "execution_count": 19,
   "metadata": {
    "papermill": {
     "duration": 0.027868,
     "end_time": "2021-03-25T19:58:26.457929",
     "exception": false,
     "start_time": "2021-03-25T19:58:26.430061",
     "status": "completed"
    },
    "tags": []
   },
   "outputs": [
    {
     "data": {
      "text/plain": [
       "(4, 10)"
      ]
     },
     "execution_count": 19,
     "metadata": {},
     "output_type": "execute_result"
    }
   ],
   "source": [
    "df.shape"
   ]
  },
  {
   "cell_type": "code",
   "execution_count": 20,
   "metadata": {
    "papermill": {
     "duration": 0.036619,
     "end_time": "2021-03-25T19:58:26.512290",
     "exception": false,
     "start_time": "2021-03-25T19:58:26.475671",
     "status": "completed"
    },
    "tags": []
   },
   "outputs": [
    {
     "data": {
      "text/html": [
       "<div>\n",
       "<style scoped>\n",
       "    .dataframe tbody tr th:only-of-type {\n",
       "        vertical-align: middle;\n",
       "    }\n",
       "\n",
       "    .dataframe tbody tr th {\n",
       "        vertical-align: top;\n",
       "    }\n",
       "\n",
       "    .dataframe thead th {\n",
       "        text-align: right;\n",
       "    }\n",
       "</style>\n",
       "<table border=\"1\" class=\"dataframe\">\n",
       "  <thead>\n",
       "    <tr style=\"text-align: right;\">\n",
       "      <th></th>\n",
       "      <th>pathway</th>\n",
       "      <th>pval</th>\n",
       "      <th>log2err</th>\n",
       "      <th>ES</th>\n",
       "      <th>NES</th>\n",
       "      <th>size</th>\n",
       "      <th>leadingEdge</th>\n",
       "      <th>lv</th>\n",
       "      <th>rep_idx</th>\n",
       "      <th>padj</th>\n",
       "    </tr>\n",
       "  </thead>\n",
       "  <tbody>\n",
       "    <tr>\n",
       "      <th>1279</th>\n",
       "      <td>gene_set_decrease</td>\n",
       "      <td>8.966156e-08</td>\n",
       "      <td>0.704976</td>\n",
       "      <td>0.858542</td>\n",
       "      <td>1.642519</td>\n",
       "      <td>43</td>\n",
       "      <td>NDUFA4, COX6A1, ATP5O, NDUFB10, COX5A, NDUFS3,...</td>\n",
       "      <td>LV678</td>\n",
       "      <td>1</td>\n",
       "      <td>0.000111</td>\n",
       "    </tr>\n",
       "    <tr>\n",
       "      <th>1344</th>\n",
       "      <td>gene_set_increase</td>\n",
       "      <td>1.127631e-07</td>\n",
       "      <td>0.704976</td>\n",
       "      <td>0.905734</td>\n",
       "      <td>1.567693</td>\n",
       "      <td>49</td>\n",
       "      <td>RPS14, RPL31, RPS19, RPS11, RPS6, RPL37, RPSA,...</td>\n",
       "      <td>LV707</td>\n",
       "      <td>1</td>\n",
       "      <td>0.000111</td>\n",
       "    </tr>\n",
       "    <tr>\n",
       "      <th>1783</th>\n",
       "      <td>gene_set_increase</td>\n",
       "      <td>1.187932e-05</td>\n",
       "      <td>0.593325</td>\n",
       "      <td>0.732205</td>\n",
       "      <td>1.485856</td>\n",
       "      <td>60</td>\n",
       "      <td>RPS6, RPL6, RPLP0, RPL19, RPL31, RPL7, RPS13, ...</td>\n",
       "      <td>LV905</td>\n",
       "      <td>1</td>\n",
       "      <td>0.007785</td>\n",
       "    </tr>\n",
       "    <tr>\n",
       "      <th>1805</th>\n",
       "      <td>gene_set_increase</td>\n",
       "      <td>7.163235e-05</td>\n",
       "      <td>0.538434</td>\n",
       "      <td>0.627667</td>\n",
       "      <td>1.459288</td>\n",
       "      <td>83</td>\n",
       "      <td>SAFB, LUC7L3, HSP90B1, CHD4, SNRPD3, ISY1, DKC...</td>\n",
       "      <td>LV915</td>\n",
       "      <td>1</td>\n",
       "      <td>0.035207</td>\n",
       "    </tr>\n",
       "  </tbody>\n",
       "</table>\n",
       "</div>"
      ],
      "text/plain": [
       "                pathway          pval   log2err        ES       NES  size  \\\n",
       "1279  gene_set_decrease  8.966156e-08  0.704976  0.858542  1.642519    43   \n",
       "1344  gene_set_increase  1.127631e-07  0.704976  0.905734  1.567693    49   \n",
       "1783  gene_set_increase  1.187932e-05  0.593325  0.732205  1.485856    60   \n",
       "1805  gene_set_increase  7.163235e-05  0.538434  0.627667  1.459288    83   \n",
       "\n",
       "                                            leadingEdge     lv  rep_idx  \\\n",
       "1279  NDUFA4, COX6A1, ATP5O, NDUFB10, COX5A, NDUFS3,...  LV678        1   \n",
       "1344  RPS14, RPL31, RPS19, RPS11, RPS6, RPL37, RPSA,...  LV707        1   \n",
       "1783  RPS6, RPL6, RPLP0, RPL19, RPL31, RPL7, RPS13, ...  LV905        1   \n",
       "1805  SAFB, LUC7L3, HSP90B1, CHD4, SNRPD3, ISY1, DKC...  LV915        1   \n",
       "\n",
       "          padj  \n",
       "1279  0.000111  \n",
       "1344  0.000111  \n",
       "1783  0.007785  \n",
       "1805  0.035207  "
      ]
     },
     "execution_count": 20,
     "metadata": {},
     "output_type": "execute_result"
    }
   ],
   "source": [
    "df.sort_values(\"pval\")"
   ]
  },
  {
   "cell_type": "markdown",
   "metadata": {
    "papermill": {
     "duration": 0.018895,
     "end_time": "2021-03-25T19:58:26.694297",
     "exception": false,
     "start_time": "2021-03-25T19:58:26.675402",
     "status": "completed"
    },
    "tags": []
   },
   "source": [
    "# Save"
   ]
  },
  {
   "cell_type": "code",
   "execution_count": 22,
   "metadata": {
    "papermill": {
     "duration": 0.037738,
     "end_time": "2021-03-25T19:58:30.359435",
     "exception": false,
     "start_time": "2021-03-25T19:58:30.321697",
     "status": "completed"
    },
    "tags": []
   },
   "outputs": [],
   "source": [
    "# override the original file with adjusted p-values\n",
    "deg_enrich.to_csv(\n",
    "    FGSEA_INPUT_FILEPATH,\n",
    "    sep=\"\\t\",\n",
    ")"
   ]
  },
  {
   "cell_type": "code",
   "execution_count": null,
   "metadata": {},
   "outputs": [],
   "source": []
  }
 ],
 "metadata": {
  "jupytext": {
   "cell_metadata_filter": "all,-execution,-papermill,-trusted",
   "formats": "ipynb,py//py:percent"
  },
  "kernelspec": {
   "display_name": "Python 3",
   "language": "python",
   "name": "python3"
  },
  "language_info": {
   "codemirror_mode": {
    "name": "ipython",
    "version": 3
   },
   "file_extension": ".py",
   "mimetype": "text/x-python",
   "name": "python",
   "nbconvert_exporter": "python",
   "pygments_lexer": "ipython3",
   "version": "3.8.8"
  },
  "papermill": {
   "default_parameters": {},
   "duration": 6.753955,
   "end_time": "2021-03-25T19:58:30.704079",
   "environment_variables": {},
   "exception": null,
   "input_path": "30_validation/crispr_screen/030_20-deg_genes-lvs-decrease.ipynb",
   "output_path": "30_validation/crispr_screen/030_20-deg_genes-lvs-decrease.run.ipynb",
   "parameters": {},
   "start_time": "2021-03-25T19:58:23.950124",
   "version": "2.2.2"
  },
  "toc-autonumbering": true
 },
 "nbformat": 4,
 "nbformat_minor": 4
}
