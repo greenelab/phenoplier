{
 "cells": [
  {
   "cell_type": "code",
   "execution_count": 1,
   "metadata": {},
   "outputs": [],
   "source": [
    "library(readr)\n",
    "library(fgsea)\n",
    "library(readr)"
   ]
  },
  {
   "cell_type": "code",
   "execution_count": 2,
   "metadata": {},
   "outputs": [
    {
     "name": "stderr",
     "output_type": "stream",
     "text": [
      "\n",
      "\u001b[36m──\u001b[39m \u001b[1m\u001b[1mColumn specification\u001b[1m\u001b[22m \u001b[36m─────────────────────────────────────────────────────────────────────────────────────────────────────────────────────────────────────────────────────────────────────────────────────────────────────────────────\u001b[39m\n",
      "cols(\n",
      "  gene_name = \u001b[31mcol_character()\u001b[39m,\n",
      "  GFPLow_vs_UnSorted.log2FC = \u001b[32mcol_double()\u001b[39m,\n",
      "  GFPLow_vs_UnSorted.FDR = \u001b[32mcol_double()\u001b[39m,\n",
      "  GFPLow_vs_UnSorted.DEG = \u001b[33mcol_logical()\u001b[39m,\n",
      "  GFPHigh_vs_UnSorted.log2FC = \u001b[32mcol_double()\u001b[39m,\n",
      "  GFPHigh_vs_UnSorted.FDR = \u001b[32mcol_double()\u001b[39m,\n",
      "  GFPHigh_vs_UnSorted.DEG = \u001b[33mcol_logical()\u001b[39m,\n",
      "  GFPHigh_vs_GFPLow.log2FC = \u001b[32mcol_double()\u001b[39m,\n",
      "  GFPHigh_vs_GFPLow.FDR = \u001b[32mcol_double()\u001b[39m,\n",
      "  GFPHigh_vs_GFPLow.DEG = \u001b[33mcol_logical()\u001b[39m,\n",
      "  `lipid effect` = \u001b[31mcol_character()\u001b[39m,\n",
      "  rank = \u001b[32mcol_double()\u001b[39m\n",
      ")\n",
      "\n",
      "\n"
     ]
    }
   ],
   "source": [
    "all_genes_ranked <- read_csv(\"/home/miltondp/projects/labs/greenelab/phenoplier/base/data/crispr_screen/lipid_DEG.csv\")"
   ]
  },
  {
   "cell_type": "code",
   "execution_count": 3,
   "metadata": {},
   "outputs": [],
   "source": [
    "deg_gene_sets = list()\n",
    "\n",
    "for (r in unique(all_genes_ranked$rank)) {\n",
    "    if (r == 0) {\n",
    "        next\n",
    "    }\n",
    "    \n",
    "    data <- all_genes_ranked[all_genes_ranked$rank == r,]\n",
    "    #q <- quantile(data, 0.50, names=FALSE)\n",
    "    \n",
    "    deg_gene_sets[[paste0(\"gene_set_\", r)]] <- data$gene_name\n",
    "}"
   ]
  },
  {
   "cell_type": "code",
   "execution_count": 4,
   "metadata": {},
   "outputs": [],
   "source": [
    "# MultiPLIER LVs\n",
    "multiplier_z = readRDS(\"/media/miltondp/Elements1/projects/multiplier/recount2_PLIER_data/recount_PLIER_model.RDS\")$Z\n",
    "\n",
    "lvs = list()\n",
    "for (cidx in 1:ncol(multiplier_z)) {\n",
    "    data <- multiplier_z[, cidx]\n",
    "    # q <- quantile(data, 0.75, names=FALSE)\n",
    "    q <- 0.0\n",
    "    \n",
    "    lvs[[paste0(\"LV\", cidx)]] <- data[data > q]\n",
    "}"
   ]
  },
  {
   "cell_type": "markdown",
   "metadata": {},
   "source": [
    "# Compute enrichment on all LVs"
   ]
  },
  {
   "cell_type": "code",
   "execution_count": 5,
   "metadata": {},
   "outputs": [],
   "source": [
    "results = list()"
   ]
  },
  {
   "cell_type": "code",
   "execution_count": 6,
   "metadata": {},
   "outputs": [],
   "source": [
    "set.seed(42)"
   ]
  },
  {
   "cell_type": "code",
   "execution_count": 7,
   "metadata": {},
   "outputs": [],
   "source": [
    "for (lv in names(lvs)) {\n",
    "    res <- fgsea(pathways = deg_gene_sets, stats = lvs[[lv]], scoreType = \"pos\", eps = 0.0)[order(pval), ]\n",
    "    res[, \"leadingEdge\"] <- sapply(res$leadingEdge, paste, collapse=\",\")\n",
    "    res[, \"lv\"] <- lv\n",
    "    results[[lv]] <- res\n",
    "}"
   ]
  },
  {
   "cell_type": "code",
   "execution_count": 8,
   "metadata": {},
   "outputs": [
    {
     "data": {
      "text/html": [
       "987"
      ],
      "text/latex": [
       "987"
      ],
      "text/markdown": [
       "987"
      ],
      "text/plain": [
       "[1] 987"
      ]
     },
     "metadata": {},
     "output_type": "display_data"
    }
   ],
   "source": [
    "length(results)"
   ]
  },
  {
   "cell_type": "code",
   "execution_count": 9,
   "metadata": {},
   "outputs": [],
   "source": [
    "df <- do.call(rbind, results)"
   ]
  },
  {
   "cell_type": "code",
   "execution_count": 10,
   "metadata": {},
   "outputs": [
    {
     "data": {
      "text/html": [
       "<style>\n",
       ".list-inline {list-style: none; margin:0; padding: 0}\n",
       ".list-inline>li {display: inline-block}\n",
       ".list-inline>li:not(:last-child)::after {content: \"\\00b7\"; padding: 0 .5ex}\n",
       "</style>\n",
       "<ol class=list-inline><li>5640</li><li>9</li></ol>\n"
      ],
      "text/latex": [
       "\\begin{enumerate*}\n",
       "\\item 5640\n",
       "\\item 9\n",
       "\\end{enumerate*}\n"
      ],
      "text/markdown": [
       "1. 5640\n",
       "2. 9\n",
       "\n",
       "\n"
      ],
      "text/plain": [
       "[1] 5640    9"
      ]
     },
     "metadata": {},
     "output_type": "display_data"
    }
   ],
   "source": [
    "dim(df)"
   ]
  },
  {
   "cell_type": "code",
   "execution_count": 11,
   "metadata": {},
   "outputs": [
    {
     "data": {
      "text/html": [
       "<table class=\"dataframe\">\n",
       "<caption>A data.table: 6 × 9</caption>\n",
       "<thead>\n",
       "\t<tr><th scope=col>pathway</th><th scope=col>pval</th><th scope=col>padj</th><th scope=col>log2err</th><th scope=col>ES</th><th scope=col>NES</th><th scope=col>size</th><th scope=col>leadingEdge</th><th scope=col>lv</th></tr>\n",
       "\t<tr><th scope=col>&lt;chr&gt;</th><th scope=col>&lt;dbl&gt;</th><th scope=col>&lt;dbl&gt;</th><th scope=col>&lt;dbl&gt;</th><th scope=col>&lt;dbl&gt;</th><th scope=col>&lt;dbl&gt;</th><th scope=col>&lt;int&gt;</th><th scope=col>&lt;chr&gt;</th><th scope=col>&lt;chr&gt;</th></tr>\n",
       "</thead>\n",
       "<tbody>\n",
       "\t<tr><td>gene_set_-3</td><td>0.1078921</td><td>0.3860140</td><td>0.13145761</td><td>0.8275148</td><td>1.435243</td><td> 3</td><td>PCYT2,UBE2J2                                                                                                              </td><td>LV1</td></tr>\n",
       "\t<tr><td>gene_set_2 </td><td>0.2047952</td><td>0.3860140</td><td>0.08998608</td><td>0.5427601</td><td>1.092387</td><td>61</td><td>CHERP,RANGAP1,HNRNPL,RPS2,E4F1,TAF1C,GATAD2A,SAFB,TAF6,FBL,LSM4,SUPT5H,CHD4,PFDN6,SLC35B2,USP39,POLR3E,POLR2C,RPLP0,SREBF2</td><td>LV1</td></tr>\n",
       "\t<tr><td>gene_set_-2</td><td>0.2517483</td><td>0.3860140</td><td>0.07871138</td><td>0.5667829</td><td>1.102627</td><td>32</td><td>PTBP1,KEAP1,PEX14,DLST,MAD2L2,GLRX5,OGDH                                                                                  </td><td>LV1</td></tr>\n",
       "\t<tr><td>gene_set_1 </td><td>0.2877123</td><td>0.3860140</td><td>0.07182763</td><td>0.5578354</td><td>1.082663</td><td>31</td><td>MYBBP1A,ESPL1,PLOD3,CDKN2A,BRF1,SF3B3,ACO2,GMPS,XRCC6,NUP85                                                               </td><td>LV1</td></tr>\n",
       "\t<tr><td>gene_set_3 </td><td>0.3216783</td><td>0.3860140</td><td>0.06628422</td><td>0.7130726</td><td>1.292976</td><td> 2</td><td>ACACA,MBTPS1                                                                                                              </td><td>LV1</td></tr>\n",
       "\t<tr><td>gene_set_-1</td><td>0.6073926</td><td>0.6073926</td><td>0.03668504</td><td>0.5223079</td><td>0.960734</td><td>12</td><td>SREBF1,ATP5B,ABCA2,MAML1,GNA15,TTC38                                                                                      </td><td>LV1</td></tr>\n",
       "</tbody>\n",
       "</table>\n"
      ],
      "text/latex": [
       "A data.table: 6 × 9\n",
       "\\begin{tabular}{lllllllll}\n",
       " pathway & pval & padj & log2err & ES & NES & size & leadingEdge & lv\\\\\n",
       " <chr> & <dbl> & <dbl> & <dbl> & <dbl> & <dbl> & <int> & <chr> & <chr>\\\\\n",
       "\\hline\n",
       "\t gene\\_set\\_-3 & 0.1078921 & 0.3860140 & 0.13145761 & 0.8275148 & 1.435243 &  3 & PCYT2,UBE2J2                                                                                                               & LV1\\\\\n",
       "\t gene\\_set\\_2  & 0.2047952 & 0.3860140 & 0.08998608 & 0.5427601 & 1.092387 & 61 & CHERP,RANGAP1,HNRNPL,RPS2,E4F1,TAF1C,GATAD2A,SAFB,TAF6,FBL,LSM4,SUPT5H,CHD4,PFDN6,SLC35B2,USP39,POLR3E,POLR2C,RPLP0,SREBF2 & LV1\\\\\n",
       "\t gene\\_set\\_-2 & 0.2517483 & 0.3860140 & 0.07871138 & 0.5667829 & 1.102627 & 32 & PTBP1,KEAP1,PEX14,DLST,MAD2L2,GLRX5,OGDH                                                                                   & LV1\\\\\n",
       "\t gene\\_set\\_1  & 0.2877123 & 0.3860140 & 0.07182763 & 0.5578354 & 1.082663 & 31 & MYBBP1A,ESPL1,PLOD3,CDKN2A,BRF1,SF3B3,ACO2,GMPS,XRCC6,NUP85                                                                & LV1\\\\\n",
       "\t gene\\_set\\_3  & 0.3216783 & 0.3860140 & 0.06628422 & 0.7130726 & 1.292976 &  2 & ACACA,MBTPS1                                                                                                               & LV1\\\\\n",
       "\t gene\\_set\\_-1 & 0.6073926 & 0.6073926 & 0.03668504 & 0.5223079 & 0.960734 & 12 & SREBF1,ATP5B,ABCA2,MAML1,GNA15,TTC38                                                                                       & LV1\\\\\n",
       "\\end{tabular}\n"
      ],
      "text/markdown": [
       "\n",
       "A data.table: 6 × 9\n",
       "\n",
       "| pathway &lt;chr&gt; | pval &lt;dbl&gt; | padj &lt;dbl&gt; | log2err &lt;dbl&gt; | ES &lt;dbl&gt; | NES &lt;dbl&gt; | size &lt;int&gt; | leadingEdge &lt;chr&gt; | lv &lt;chr&gt; |\n",
       "|---|---|---|---|---|---|---|---|---|\n",
       "| gene_set_-3 | 0.1078921 | 0.3860140 | 0.13145761 | 0.8275148 | 1.435243 |  3 | PCYT2,UBE2J2                                                                                                               | LV1 |\n",
       "| gene_set_2  | 0.2047952 | 0.3860140 | 0.08998608 | 0.5427601 | 1.092387 | 61 | CHERP,RANGAP1,HNRNPL,RPS2,E4F1,TAF1C,GATAD2A,SAFB,TAF6,FBL,LSM4,SUPT5H,CHD4,PFDN6,SLC35B2,USP39,POLR3E,POLR2C,RPLP0,SREBF2 | LV1 |\n",
       "| gene_set_-2 | 0.2517483 | 0.3860140 | 0.07871138 | 0.5667829 | 1.102627 | 32 | PTBP1,KEAP1,PEX14,DLST,MAD2L2,GLRX5,OGDH                                                                                   | LV1 |\n",
       "| gene_set_1  | 0.2877123 | 0.3860140 | 0.07182763 | 0.5578354 | 1.082663 | 31 | MYBBP1A,ESPL1,PLOD3,CDKN2A,BRF1,SF3B3,ACO2,GMPS,XRCC6,NUP85                                                                | LV1 |\n",
       "| gene_set_3  | 0.3216783 | 0.3860140 | 0.06628422 | 0.7130726 | 1.292976 |  2 | ACACA,MBTPS1                                                                                                               | LV1 |\n",
       "| gene_set_-1 | 0.6073926 | 0.6073926 | 0.03668504 | 0.5223079 | 0.960734 | 12 | SREBF1,ATP5B,ABCA2,MAML1,GNA15,TTC38                                                                                       | LV1 |\n",
       "\n"
      ],
      "text/plain": [
       "  pathway     pval      padj      log2err    ES        NES      size\n",
       "1 gene_set_-3 0.1078921 0.3860140 0.13145761 0.8275148 1.435243  3  \n",
       "2 gene_set_2  0.2047952 0.3860140 0.08998608 0.5427601 1.092387 61  \n",
       "3 gene_set_-2 0.2517483 0.3860140 0.07871138 0.5667829 1.102627 32  \n",
       "4 gene_set_1  0.2877123 0.3860140 0.07182763 0.5578354 1.082663 31  \n",
       "5 gene_set_3  0.3216783 0.3860140 0.06628422 0.7130726 1.292976  2  \n",
       "6 gene_set_-1 0.6073926 0.6073926 0.03668504 0.5223079 0.960734 12  \n",
       "  leadingEdge                                                                                                               \n",
       "1 PCYT2,UBE2J2                                                                                                              \n",
       "2 CHERP,RANGAP1,HNRNPL,RPS2,E4F1,TAF1C,GATAD2A,SAFB,TAF6,FBL,LSM4,SUPT5H,CHD4,PFDN6,SLC35B2,USP39,POLR3E,POLR2C,RPLP0,SREBF2\n",
       "3 PTBP1,KEAP1,PEX14,DLST,MAD2L2,GLRX5,OGDH                                                                                  \n",
       "4 MYBBP1A,ESPL1,PLOD3,CDKN2A,BRF1,SF3B3,ACO2,GMPS,XRCC6,NUP85                                                               \n",
       "5 ACACA,MBTPS1                                                                                                              \n",
       "6 SREBF1,ATP5B,ABCA2,MAML1,GNA15,TTC38                                                                                      \n",
       "  lv \n",
       "1 LV1\n",
       "2 LV1\n",
       "3 LV1\n",
       "4 LV1\n",
       "5 LV1\n",
       "6 LV1"
      ]
     },
     "metadata": {},
     "output_type": "display_data"
    }
   ],
   "source": [
    "head(df)"
   ]
  },
  {
   "cell_type": "code",
   "execution_count": 12,
   "metadata": {},
   "outputs": [],
   "source": [
    "write_tsv(df, \"/home/miltondp/projects/labs/greenelab/phenoplier/base/data/crispr_screen/fsgea-all_lvs.tsv\")"
   ]
  },
  {
   "cell_type": "markdown",
   "metadata": {},
   "source": [
    "# Quick analyses"
   ]
  },
  {
   "cell_type": "code",
   "execution_count": 13,
   "metadata": {},
   "outputs": [],
   "source": [
    "df_signif <- df[df$padj < 0.05]"
   ]
  },
  {
   "cell_type": "code",
   "execution_count": 14,
   "metadata": {},
   "outputs": [
    {
     "data": {
      "text/html": [
       "<style>\n",
       ".list-inline {list-style: none; margin:0; padding: 0}\n",
       ".list-inline>li {display: inline-block}\n",
       ".list-inline>li:not(:last-child)::after {content: \"\\00b7\"; padding: 0 .5ex}\n",
       "</style>\n",
       "<ol class=list-inline><li>72</li><li>9</li></ol>\n"
      ],
      "text/latex": [
       "\\begin{enumerate*}\n",
       "\\item 72\n",
       "\\item 9\n",
       "\\end{enumerate*}\n"
      ],
      "text/markdown": [
       "1. 72\n",
       "2. 9\n",
       "\n",
       "\n"
      ],
      "text/plain": [
       "[1] 72  9"
      ]
     },
     "metadata": {},
     "output_type": "display_data"
    }
   ],
   "source": [
    "dim(df_signif)"
   ]
  },
  {
   "cell_type": "code",
   "execution_count": 15,
   "metadata": {},
   "outputs": [
    {
     "data": {
      "text/html": [
       "<table class=\"dataframe\">\n",
       "<caption>A data.table: 72 × 9</caption>\n",
       "<thead>\n",
       "\t<tr><th scope=col>pathway</th><th scope=col>pval</th><th scope=col>padj</th><th scope=col>log2err</th><th scope=col>ES</th><th scope=col>NES</th><th scope=col>size</th><th scope=col>leadingEdge</th><th scope=col>lv</th></tr>\n",
       "\t<tr><th scope=col>&lt;chr&gt;</th><th scope=col>&lt;dbl&gt;</th><th scope=col>&lt;dbl&gt;</th><th scope=col>&lt;dbl&gt;</th><th scope=col>&lt;dbl&gt;</th><th scope=col>&lt;dbl&gt;</th><th scope=col>&lt;int&gt;</th><th scope=col>&lt;chr&gt;</th><th scope=col>&lt;chr&gt;</th></tr>\n",
       "</thead>\n",
       "<tbody>\n",
       "\t<tr><td>gene_set_2 </td><td>1.317321e-07</td><td>6.586606e-07</td><td>0.6901325</td><td>0.9057343</td><td>1.548676</td><td>49</td><td>RPS14,RPL31,RPS19,RPS11,RPS6,RPL37,RPSA,RPL18,RPL35A,RPL34,RPL6,RPS2,RPL7,RPS13,RPS28,RPLP0,RPL19,RPS27A,RPL13,RPS16,FBL,UXT                                                                                                                                                            </td><td>LV707</td></tr>\n",
       "\t<tr><td>gene_set_-2</td><td>1.380551e-07</td><td>8.283308e-07</td><td>0.6901325</td><td>0.8658895</td><td>1.643107</td><td>39</td><td>NDUFA4,COX6A1,ATP5O,NDUFB10,COX5A,NDUFS3,NDUFB7,NDUFS2,NDUFV2,NDUFB4,NDUFB3,NDUFB9,COX17,COX7C,NDUFS6,MAD2L2,NAA38                                                                                                                                                                      </td><td>LV678</td></tr>\n",
       "\t<tr><td>gene_set_-3</td><td>4.942689e-06</td><td>2.965613e-05</td><td>0.6105269</td><td>0.9992990</td><td>1.816439</td><td> 2</td><td>PTEN,FBXW7                                                                                                                                                                                                                                                                              </td><td>LV612</td></tr>\n",
       "\t<tr><td>gene_set_2 </td><td>9.656318e-06</td><td>4.828159e-05</td><td>0.5933255</td><td>0.7361145</td><td>1.503917</td><td>57</td><td>RPS6,RPL6,RPLP0,RPL19,RPL31,RPL7,RPS13,RPS2,RPSA,RPS16,RPS14,FBL,RPS11,RPL37,RPL35A,RPL13,LUC7L3,RPL18,SRP72                                                                                                                                                                            </td><td>LV905</td></tr>\n",
       "\t<tr><td>gene_set_-1</td><td>4.293645e-05</td><td>1.288094e-04</td><td>0.5573322</td><td>0.9180109</td><td>1.691415</td><td>14</td><td>NDUFB8,NDUFAB1,ATP5B,ATP6AP1                                                                                                                                                                                                                                                            </td><td>LV678</td></tr>\n",
       "\t<tr><td>gene_set_2 </td><td>2.192123e-05</td><td>1.315274e-04</td><td>0.5756103</td><td>0.6324956</td><td>1.463891</td><td>81</td><td>SAFB,LUC7L3,HSP90B1,CHD4,SNRPD3,ISY1,DKC1,PFDN6,USP39,HNRNPL,HNRNPH1,SUPT5H,RPL6,CHERP,FBL,UBA2,EIF5,RPL37,RPL7,SRP72,XPO1,RPL19,SNRPD1,LSM4,CSTF3,RPS6,POLR2K,PFDN2,RPL31,RANGAP1,POLR2C,OSBP,POLR2F,RPS11,GTF2B,GATAD2A,POLR2L,GTF2H1,RPL35A,TAF1C,OTUD5,RPL34,EXOC3,ERCC3,PCBP1,SRP54</td><td>LV915</td></tr>\n",
       "\t<tr><td>gene_set_1 </td><td>6.035192e-05</td><td>1.810558e-04</td><td>0.5573322</td><td>0.6800128</td><td>1.535791</td><td>51</td><td>TPR,DDX21,SRSF7,XRCC6,CTNNBL1,SMC2,MYBBP1A,SF3B3,SMNDC1,PNN,RBM28,NUP85,GARS,UXS1,GMPS,DDX20,ESPL1,TCP1,PPIL1,RPS23,RPL4,NPEPPS,EIF2B4,HARS,FAU                                                                                                                                         </td><td>LV915</td></tr>\n",
       "\t<tr><td>gene_set_1 </td><td>1.417049e-04</td><td>8.502296e-04</td><td>0.5188481</td><td>0.8363970</td><td>1.643409</td><td>30</td><td>ABCG2,DDIT3,BMPR2,SSH1,UXS1,SERPINB6,CHKA,SRSF7                                                                                                                                                                                                                                         </td><td>LV821</td></tr>\n",
       "\t<tr><td>gene_set_2 </td><td>3.121505e-04</td><td>1.872903e-03</td><td>0.4984931</td><td>0.8042415</td><td>1.288432</td><td>60</td><td>RPL34,RPL35A,RPL31,RPS13,RPS6,RPL6,RPL7,UBL5,RPS16,POLR2K,RPS28,RPS19,RPL19,RPL37,RPS27A,RPLP0,SNRPD3,RPS11,RPS14,SEC61G,SRP19                                                                                                                                                          </td><td>LV750</td></tr>\n",
       "\t<tr><td>gene_set_2 </td><td>3.577192e-04</td><td>2.146315e-03</td><td>0.4984931</td><td>0.9719958</td><td>1.959109</td><td>32</td><td>ZNF3,MDM2,RPS6                                                                                                                                                                                                                                                                          </td><td>LV341</td></tr>\n",
       "\t<tr><td>gene_set_-3</td><td>9.480305e-04</td><td>4.740153e-03</td><td>0.4772708</td><td>0.9993500</td><td>1.984083</td><td> 1</td><td>FBXW7                                                                                                                                                                                                                                                                                   </td><td>LV520</td></tr>\n",
       "\t<tr><td>gene_set_-2</td><td>8.471939e-04</td><td>5.083163e-03</td><td>0.4772708</td><td>0.7564764</td><td>1.434406</td><td>33</td><td>PEX14,COX17,NDUFS3,ATP5O,COX6A1,DLST,NDUFB7,NDUFB9,OGDH                                                                                                                                                                                                                                 </td><td>LV64 </td></tr>\n",
       "\t<tr><td>gene_set_1 </td><td>9.848461e-04</td><td>5.909077e-03</td><td>0.4550599</td><td>0.7986703</td><td>1.658780</td><td>26</td><td>PSMB4,TPR,NPEPPS                                                                                                                                                                                                                                                                        </td><td>LV333</td></tr>\n",
       "\t<tr><td>gene_set_-2</td><td>1.187332e-03</td><td>5.936662e-03</td><td>0.4550599</td><td>0.9399930</td><td>1.776056</td><td>18</td><td>COX7C,NDUFS6,FLCN,COX5A,NDUFS2                                                                                                                                                                                                                                                          </td><td>LV736</td></tr>\n",
       "\t<tr><td>gene_set_-2</td><td>1.132109e-03</td><td>6.792653e-03</td><td>0.4550599</td><td>0.9160755</td><td>1.790158</td><td>20</td><td>CSK,MRPS12                                                                                                                                                                                                                                                                              </td><td>LV575</td></tr>\n",
       "\t<tr><td>gene_set_1 </td><td>1.389819e-03</td><td>6.949097e-03</td><td>0.4550599</td><td>0.8880584</td><td>1.689481</td><td>31</td><td>CHKA,HARS,UXS1,RPS23                                                                                                                                                                                                                                                                    </td><td>LV259</td></tr>\n",
       "\t<tr><td>gene_set_3 </td><td>1.316188e-03</td><td>7.897127e-03</td><td>0.4550599</td><td>0.9948409</td><td>1.849973</td><td> 2</td><td>DGAT2,ACACA                                                                                                                                                                                                                                                                             </td><td>LV246</td></tr>\n",
       "\t<tr><td>gene_set_1 </td><td>1.518675e-03</td><td>9.112051e-03</td><td>0.4550599</td><td>0.6418589</td><td>1.408827</td><td>47</td><td>PSMB4,PSMA2,PSMA5,HARS,TCP1,XRCC6,CTNNBL1,ACOX2,MLX,NUP85,EIF2B4,SSR4,GARS,NPEPPS,SRSF7,SF3B3,PPIL1,GMPS,CARS,ACO2,PRIM1,DDX21,SERPINB6,FAU,MED21,UXS1,RPL4,RPL27                                                                                                                       </td><td>LV70 </td></tr>\n",
       "\t<tr><td>gene_set_-1</td><td>1.721163e-03</td><td>1.032698e-02</td><td>0.4550599</td><td>0.9902846</td><td>1.942827</td><td>12</td><td>PRR16,ZFP36L1,GNA15,TADA2B                                                                                                                                                                                                                                                              </td><td>LV115</td></tr>\n",
       "\t<tr><td>gene_set_1 </td><td>1.979419e-03</td><td>1.187651e-02</td><td>0.4317077</td><td>0.7130117</td><td>1.534040</td><td>40</td><td>GARS,CARS,DDIT3,HARS,DDX21,ESPL1,MYBBP1A,TPR,PRIM1,SF3B3,DHPS                                                                                                                                                                                                                           </td><td>LV161</td></tr>\n",
       "\t<tr><td>gene_set_2 </td><td>2.053414e-03</td><td>1.232048e-02</td><td>0.4317077</td><td>0.7333670</td><td>1.326193</td><td>48</td><td>LSM4,RPS6,POLR2L,NHP2,NAPA,SLC35B2,PFDN6,MED8,RPS16,HSP90B1,RPSA,PFDN2,RPL31,RPL13,RPLP0,POLR2C,E4F1,AP2S1,RPL35A,OSBP,RPS28,TAF1C,ACTR1A                                                                                                                                               </td><td>LV509</td></tr>\n",
       "\t<tr><td>gene_set_-3</td><td>2.090411e-03</td><td>1.254247e-02</td><td>0.4317077</td><td>0.9877092</td><td>1.832219</td><td> 4</td><td>UBE2J2,FBXW7                                                                                                                                                                                                                                                                            </td><td>LV484</td></tr>\n",
       "\t<tr><td>gene_set_-2</td><td>2.090411e-03</td><td>1.254247e-02</td><td>0.4317077</td><td>0.8104306</td><td>1.559017</td><td>22</td><td>NDUFA4,PEX14,STX18,OGDH,COX6A1,COX17,PIK3R1,NDUFB3,PPP2R2B,ATP5O,FLCN,NAA38                                                                                                                                                                                                             </td><td>LV897</td></tr>\n",
       "\t<tr><td>gene_set_1 </td><td>2.201404e-03</td><td>1.320842e-02</td><td>0.4317077</td><td>0.9222871</td><td>1.619190</td><td>31</td><td>PPIL1,DDX20,DHPS,PSMA5,TCP1,NPEPPS                                                                                                                                                                                                                                                      </td><td>LV190</td></tr>\n",
       "\t<tr><td>gene_set_-2</td><td>2.349394e-03</td><td>1.409636e-02</td><td>0.4317077</td><td>0.9056335</td><td>1.640113</td><td>22</td><td>PPP2R2B,MAD2L2,NDUFB7,NDUFA4,ATP5O,NDUFB10,COX6A1,CTNNB1,OGDH                                                                                                                                                                                                                           </td><td>LV421</td></tr>\n",
       "\t<tr><td>gene_set_-3</td><td>2.904358e-03</td><td>1.452179e-02</td><td>0.4317077</td><td>0.9877469</td><td>1.848431</td><td> 3</td><td>FBXW7,UBE2J2                                                                                                                                                                                                                                                                            </td><td>LV423</td></tr>\n",
       "\t<tr><td>gene_set_1 </td><td>2.645375e-03</td><td>1.587225e-02</td><td>0.4317077</td><td>0.8400268</td><td>1.686726</td><td>33</td><td>MLX,TCP1,FAU,XRCC6,SSR4,UXS1,DDIT3,NUP85,PNN,SMC2                                                                                                                                                                                                                                       </td><td>LV525</td></tr>\n",
       "\t<tr><td>gene_set_1 </td><td>7.027175e-03</td><td>1.756794e-02</td><td>0.4070179</td><td>0.7027955</td><td>1.405084</td><td>32</td><td>RPL4,RPS23,DDX21,MYBBP1A,RPL27,SERPINB6,ICAM3,RBM28,PRIM1,XRCC6,HHEX,PNN,TCP1,CTNNBL1,GMPS                                                                                                                                                                                              </td><td>LV905</td></tr>\n",
       "\t<tr><td>gene_set_3 </td><td>3.163342e-03</td><td>1.898005e-02</td><td>0.4317077</td><td>0.9873660</td><td>1.698624</td><td> 2</td><td>DGAT2,MBTPS1                                                                                                                                                                                                                                                                            </td><td>LV22 </td></tr>\n",
       "\t<tr><td>gene_set_1 </td><td>3.237338e-03</td><td>1.942403e-02</td><td>0.4317077</td><td>0.9069858</td><td>1.919926</td><td>32</td><td>RPL27,SSR4,DDX21,CROT,TPR,PAFAH1B1                                                                                                                                                                                                                                                      </td><td>LV349</td></tr>\n",
       "\t<tr><td>⋮</td><td>⋮</td><td>⋮</td><td>⋮</td><td>⋮</td><td>⋮</td><td>⋮</td><td>⋮</td><td>⋮</td></tr>\n",
       "\t<tr><td>gene_set_1 </td><td>0.004870712</td><td>0.02922427</td><td>0.4070179</td><td>0.8782069</td><td>1.351290</td><td>16</td><td>ICAM3,FADD                                                                                                          </td><td>LV7  </td></tr>\n",
       "\t<tr><td>gene_set_2 </td><td>0.004945072</td><td>0.02967043</td><td>0.4070179</td><td>0.8789933</td><td>1.707492</td><td>39</td><td>SUPT5H,RPS28,RPS27A,FERMT2,GTF2H1,HSP90B1,POLR2L,POLR2C,POLR2K,POLR2F,VPS53,USP39                                   </td><td>LV550</td></tr>\n",
       "\t<tr><td>gene_set_3 </td><td>0.005019433</td><td>0.03011660</td><td>0.4070179</td><td>0.9864988</td><td>1.772990</td><td> 2</td><td>ACACA,MBTPS1                                                                                                        </td><td>LV189</td></tr>\n",
       "\t<tr><td>gene_set_2 </td><td>0.005093794</td><td>0.03056276</td><td>0.4070179</td><td>0.8726837</td><td>1.790161</td><td>50</td><td>RPS16,USP39,CRKL                                                                                                    </td><td>LV504</td></tr>\n",
       "\t<tr><td>gene_set_-3</td><td>0.005093794</td><td>0.03056276</td><td>0.4070179</td><td>0.9848501</td><td>1.819005</td><td> 2</td><td>TCF7L2,PTEN                                                                                                         </td><td>LV938</td></tr>\n",
       "\t<tr><td>gene_set_-1</td><td>0.005168154</td><td>0.03100893</td><td>0.4070179</td><td>0.9485403</td><td>1.758037</td><td> 7</td><td>NDUFAB1,ZFP36L2,ASB9,PDE4B                                                                                          </td><td>LV181</td></tr>\n",
       "\t<tr><td>gene_set_2 </td><td>0.005391236</td><td>0.03234742</td><td>0.4070179</td><td>0.8877838</td><td>1.644194</td><td>34</td><td>FNTA,RPS27A,RPS28,RPL7,RPS14                                                                                        </td><td>LV358</td></tr>\n",
       "\t<tr><td>gene_set_1 </td><td>0.006432288</td><td>0.03250715</td><td>0.4070179</td><td>0.9196825</td><td>1.581328</td><td>26</td><td>PEX7,NUP85,FAU                                                                                                      </td><td>LV137</td></tr>\n",
       "\t<tr><td>gene_set_-1</td><td>0.010835718</td><td>0.03250715</td><td>0.3807304</td><td>0.9362232</td><td>1.657404</td><td>14</td><td>ALKBH3,NDUFAB1,ZFP36L2,SREBF1                                                                                       </td><td>LV137</td></tr>\n",
       "\t<tr><td>gene_set_3 </td><td>0.005539958</td><td>0.03323975</td><td>0.4070179</td><td>0.9945192</td><td>1.914957</td><td> 1</td><td>ACACA                                                                                                               </td><td>LV607</td></tr>\n",
       "\t<tr><td>gene_set_2 </td><td>0.006804092</td><td>0.03402046</td><td>0.4070179</td><td>0.8518034</td><td>1.668507</td><td>37</td><td>SNRPD1,PCBP1,CHERP,POLR3E,PFDN2                                                                                     </td><td>LV467</td></tr>\n",
       "\t<tr><td>gene_set_2 </td><td>0.005688679</td><td>0.03413208</td><td>0.4070179</td><td>0.6801874</td><td>1.414212</td><td>41</td><td>PFDN6,SRP72,NHP2,POLR2L,RPS2,LUC7L3,AP2S1,RPL35A,LSM4,RPL31,NAPA,DKC1,RANGAP1,E4F1,RPL6,SLC33A1,ACTR1A,RPL13        </td><td>LV122</td></tr>\n",
       "\t<tr><td>gene_set_1 </td><td>0.005911762</td><td>0.03547057</td><td>0.4070179</td><td>0.8780517</td><td>1.387965</td><td>16</td><td>HHEX,DERL3                                                                                                          </td><td>LV977</td></tr>\n",
       "\t<tr><td>gene_set_-1</td><td>0.006060483</td><td>0.03636290</td><td>0.4070179</td><td>0.9154694</td><td>1.706236</td><td>13</td><td>ALKBH3,ZNF583                                                                                                       </td><td>LV686</td></tr>\n",
       "\t<tr><td>gene_set_-3</td><td>0.006060483</td><td>0.03636290</td><td>0.4070179</td><td>0.9443505</td><td>1.722531</td><td> 3</td><td>UBE2J2,FBXW7                                                                                                        </td><td>LV797</td></tr>\n",
       "\t<tr><td>gene_set_1 </td><td>0.006209205</td><td>0.03725523</td><td>0.4070179</td><td>0.6176136</td><td>1.329050</td><td>41</td><td>DHPS,EIF2B4,HARS,NUP85,CTNNBL1,DDIT3,RBM28,CARS,SF3B3,ACOX2,NPEPPS,ACO2,SRSF7,MED21,SERPINB6,CROT,PAFAH1B1,MED14,MLX</td><td>LV739</td></tr>\n",
       "\t<tr><td>gene_set_1 </td><td>0.006283566</td><td>0.03770139</td><td>0.4070179</td><td>0.8030911</td><td>1.542448</td><td>21</td><td>ACO2,OLIG1,SMC2,SSH1,MLX,NUP85                                                                                      </td><td>LV596</td></tr>\n",
       "\t<tr><td>gene_set_-3</td><td>0.006283566</td><td>0.03770139</td><td>0.4070179</td><td>0.9674772</td><td>1.779845</td><td> 3</td><td>FBXW7,TCF7L2                                                                                                        </td><td>LV615</td></tr>\n",
       "\t<tr><td>gene_set_-2</td><td>0.006581009</td><td>0.03948606</td><td>0.4070179</td><td>0.8342816</td><td>1.603803</td><td>23</td><td>TP53,COX5A,NDUFB10,NDUFA4,SQLE,MAD2L2                                                                               </td><td>LV630</td></tr>\n",
       "\t<tr><td>gene_set_-3</td><td>0.006655370</td><td>0.03993222</td><td>0.4070179</td><td>0.9708559</td><td>1.808020</td><td> 3</td><td>UBE2J2,PCYT2                                                                                                        </td><td>LV469</td></tr>\n",
       "\t<tr><td>gene_set_2 </td><td>0.014123752</td><td>0.04017776</td><td>0.3807304</td><td>0.8407099</td><td>1.610592</td><td>43</td><td>GATAD2A,CHERP,TAF6,RPS28,RPL35A,AP2S1,PFDN2,ERCC3,SNRPD1,RPS11                                                      </td><td>LV415</td></tr>\n",
       "\t<tr><td>gene_set_1 </td><td>0.016071103</td><td>0.04017776</td><td>0.3524879</td><td>0.8831400</td><td>1.704566</td><td>23</td><td>MYBBP1A,CROT,SSR4                                                                                                   </td><td>LV415</td></tr>\n",
       "\t<tr><td>gene_set_-1</td><td>0.006878453</td><td>0.04127072</td><td>0.4070179</td><td>0.8631081</td><td>1.615913</td><td>11</td><td>NDUFAB1,ABCA2,NLRP3                                                                                                 </td><td>LV265</td></tr>\n",
       "\t<tr><td>gene_set_-2</td><td>0.010686262</td><td>0.04274505</td><td>0.3807304</td><td>0.9569402</td><td>1.970085</td><td>23</td><td>NDUFV2,PEX14                                                                                                        </td><td>LV157</td></tr>\n",
       "\t<tr><td>gene_set_2 </td><td>0.007175897</td><td>0.04305538</td><td>0.4070179</td><td>0.8041942</td><td>1.609501</td><td>44</td><td>UBL5,XPO1,RPS14,EIF5,DKC1,HSP90B1,GATAD2A,PFDN6,RPS16                                                               </td><td>LV490</td></tr>\n",
       "\t<tr><td>gene_set_-2</td><td>0.007697156</td><td>0.04618294</td><td>0.4070179</td><td>0.9640904</td><td>1.934249</td><td>16</td><td>MRPL17,NDUFS3                                                                                                       </td><td>LV240</td></tr>\n",
       "\t<tr><td>gene_set_-3</td><td>0.007697156</td><td>0.04618294</td><td>0.4070179</td><td>0.9942474</td><td>1.944363</td><td> 1</td><td>FBXW7                                                                                                               </td><td>LV512</td></tr>\n",
       "\t<tr><td>gene_set_1 </td><td>0.015470332</td><td>0.04641100</td><td>0.3807304</td><td>0.8561235</td><td>1.565872</td><td>22</td><td>SAMM50,PNN,PSMB4                                                                                                    </td><td>LV469</td></tr>\n",
       "\t<tr><td>gene_set_3 </td><td>0.007846611</td><td>0.04707967</td><td>0.3807304</td><td>0.9927690</td><td>2.001007</td><td> 1</td><td>ACACA                                                                                                               </td><td>LV890</td></tr>\n",
       "\t<tr><td>gene_set_-3</td><td>0.007996066</td><td>0.04797639</td><td>0.3807304</td><td>0.9678125</td><td>1.801738</td><td> 3</td><td>UBE2J2,TCF7L2                                                                                                       </td><td>LV491</td></tr>\n",
       "</tbody>\n",
       "</table>\n"
      ],
      "text/latex": [
       "A data.table: 72 × 9\n",
       "\\begin{tabular}{lllllllll}\n",
       " pathway & pval & padj & log2err & ES & NES & size & leadingEdge & lv\\\\\n",
       " <chr> & <dbl> & <dbl> & <dbl> & <dbl> & <dbl> & <int> & <chr> & <chr>\\\\\n",
       "\\hline\n",
       "\t gene\\_set\\_2  & 1.317321e-07 & 6.586606e-07 & 0.6901325 & 0.9057343 & 1.548676 & 49 & RPS14,RPL31,RPS19,RPS11,RPS6,RPL37,RPSA,RPL18,RPL35A,RPL34,RPL6,RPS2,RPL7,RPS13,RPS28,RPLP0,RPL19,RPS27A,RPL13,RPS16,FBL,UXT                                                                                                                                                             & LV707\\\\\n",
       "\t gene\\_set\\_-2 & 1.380551e-07 & 8.283308e-07 & 0.6901325 & 0.8658895 & 1.643107 & 39 & NDUFA4,COX6A1,ATP5O,NDUFB10,COX5A,NDUFS3,NDUFB7,NDUFS2,NDUFV2,NDUFB4,NDUFB3,NDUFB9,COX17,COX7C,NDUFS6,MAD2L2,NAA38                                                                                                                                                                       & LV678\\\\\n",
       "\t gene\\_set\\_-3 & 4.942689e-06 & 2.965613e-05 & 0.6105269 & 0.9992990 & 1.816439 &  2 & PTEN,FBXW7                                                                                                                                                                                                                                                                               & LV612\\\\\n",
       "\t gene\\_set\\_2  & 9.656318e-06 & 4.828159e-05 & 0.5933255 & 0.7361145 & 1.503917 & 57 & RPS6,RPL6,RPLP0,RPL19,RPL31,RPL7,RPS13,RPS2,RPSA,RPS16,RPS14,FBL,RPS11,RPL37,RPL35A,RPL13,LUC7L3,RPL18,SRP72                                                                                                                                                                             & LV905\\\\\n",
       "\t gene\\_set\\_-1 & 4.293645e-05 & 1.288094e-04 & 0.5573322 & 0.9180109 & 1.691415 & 14 & NDUFB8,NDUFAB1,ATP5B,ATP6AP1                                                                                                                                                                                                                                                             & LV678\\\\\n",
       "\t gene\\_set\\_2  & 2.192123e-05 & 1.315274e-04 & 0.5756103 & 0.6324956 & 1.463891 & 81 & SAFB,LUC7L3,HSP90B1,CHD4,SNRPD3,ISY1,DKC1,PFDN6,USP39,HNRNPL,HNRNPH1,SUPT5H,RPL6,CHERP,FBL,UBA2,EIF5,RPL37,RPL7,SRP72,XPO1,RPL19,SNRPD1,LSM4,CSTF3,RPS6,POLR2K,PFDN2,RPL31,RANGAP1,POLR2C,OSBP,POLR2F,RPS11,GTF2B,GATAD2A,POLR2L,GTF2H1,RPL35A,TAF1C,OTUD5,RPL34,EXOC3,ERCC3,PCBP1,SRP54 & LV915\\\\\n",
       "\t gene\\_set\\_1  & 6.035192e-05 & 1.810558e-04 & 0.5573322 & 0.6800128 & 1.535791 & 51 & TPR,DDX21,SRSF7,XRCC6,CTNNBL1,SMC2,MYBBP1A,SF3B3,SMNDC1,PNN,RBM28,NUP85,GARS,UXS1,GMPS,DDX20,ESPL1,TCP1,PPIL1,RPS23,RPL4,NPEPPS,EIF2B4,HARS,FAU                                                                                                                                          & LV915\\\\\n",
       "\t gene\\_set\\_1  & 1.417049e-04 & 8.502296e-04 & 0.5188481 & 0.8363970 & 1.643409 & 30 & ABCG2,DDIT3,BMPR2,SSH1,UXS1,SERPINB6,CHKA,SRSF7                                                                                                                                                                                                                                          & LV821\\\\\n",
       "\t gene\\_set\\_2  & 3.121505e-04 & 1.872903e-03 & 0.4984931 & 0.8042415 & 1.288432 & 60 & RPL34,RPL35A,RPL31,RPS13,RPS6,RPL6,RPL7,UBL5,RPS16,POLR2K,RPS28,RPS19,RPL19,RPL37,RPS27A,RPLP0,SNRPD3,RPS11,RPS14,SEC61G,SRP19                                                                                                                                                           & LV750\\\\\n",
       "\t gene\\_set\\_2  & 3.577192e-04 & 2.146315e-03 & 0.4984931 & 0.9719958 & 1.959109 & 32 & ZNF3,MDM2,RPS6                                                                                                                                                                                                                                                                           & LV341\\\\\n",
       "\t gene\\_set\\_-3 & 9.480305e-04 & 4.740153e-03 & 0.4772708 & 0.9993500 & 1.984083 &  1 & FBXW7                                                                                                                                                                                                                                                                                    & LV520\\\\\n",
       "\t gene\\_set\\_-2 & 8.471939e-04 & 5.083163e-03 & 0.4772708 & 0.7564764 & 1.434406 & 33 & PEX14,COX17,NDUFS3,ATP5O,COX6A1,DLST,NDUFB7,NDUFB9,OGDH                                                                                                                                                                                                                                  & LV64 \\\\\n",
       "\t gene\\_set\\_1  & 9.848461e-04 & 5.909077e-03 & 0.4550599 & 0.7986703 & 1.658780 & 26 & PSMB4,TPR,NPEPPS                                                                                                                                                                                                                                                                         & LV333\\\\\n",
       "\t gene\\_set\\_-2 & 1.187332e-03 & 5.936662e-03 & 0.4550599 & 0.9399930 & 1.776056 & 18 & COX7C,NDUFS6,FLCN,COX5A,NDUFS2                                                                                                                                                                                                                                                           & LV736\\\\\n",
       "\t gene\\_set\\_-2 & 1.132109e-03 & 6.792653e-03 & 0.4550599 & 0.9160755 & 1.790158 & 20 & CSK,MRPS12                                                                                                                                                                                                                                                                               & LV575\\\\\n",
       "\t gene\\_set\\_1  & 1.389819e-03 & 6.949097e-03 & 0.4550599 & 0.8880584 & 1.689481 & 31 & CHKA,HARS,UXS1,RPS23                                                                                                                                                                                                                                                                     & LV259\\\\\n",
       "\t gene\\_set\\_3  & 1.316188e-03 & 7.897127e-03 & 0.4550599 & 0.9948409 & 1.849973 &  2 & DGAT2,ACACA                                                                                                                                                                                                                                                                              & LV246\\\\\n",
       "\t gene\\_set\\_1  & 1.518675e-03 & 9.112051e-03 & 0.4550599 & 0.6418589 & 1.408827 & 47 & PSMB4,PSMA2,PSMA5,HARS,TCP1,XRCC6,CTNNBL1,ACOX2,MLX,NUP85,EIF2B4,SSR4,GARS,NPEPPS,SRSF7,SF3B3,PPIL1,GMPS,CARS,ACO2,PRIM1,DDX21,SERPINB6,FAU,MED21,UXS1,RPL4,RPL27                                                                                                                        & LV70 \\\\\n",
       "\t gene\\_set\\_-1 & 1.721163e-03 & 1.032698e-02 & 0.4550599 & 0.9902846 & 1.942827 & 12 & PRR16,ZFP36L1,GNA15,TADA2B                                                                                                                                                                                                                                                               & LV115\\\\\n",
       "\t gene\\_set\\_1  & 1.979419e-03 & 1.187651e-02 & 0.4317077 & 0.7130117 & 1.534040 & 40 & GARS,CARS,DDIT3,HARS,DDX21,ESPL1,MYBBP1A,TPR,PRIM1,SF3B3,DHPS                                                                                                                                                                                                                            & LV161\\\\\n",
       "\t gene\\_set\\_2  & 2.053414e-03 & 1.232048e-02 & 0.4317077 & 0.7333670 & 1.326193 & 48 & LSM4,RPS6,POLR2L,NHP2,NAPA,SLC35B2,PFDN6,MED8,RPS16,HSP90B1,RPSA,PFDN2,RPL31,RPL13,RPLP0,POLR2C,E4F1,AP2S1,RPL35A,OSBP,RPS28,TAF1C,ACTR1A                                                                                                                                                & LV509\\\\\n",
       "\t gene\\_set\\_-3 & 2.090411e-03 & 1.254247e-02 & 0.4317077 & 0.9877092 & 1.832219 &  4 & UBE2J2,FBXW7                                                                                                                                                                                                                                                                             & LV484\\\\\n",
       "\t gene\\_set\\_-2 & 2.090411e-03 & 1.254247e-02 & 0.4317077 & 0.8104306 & 1.559017 & 22 & NDUFA4,PEX14,STX18,OGDH,COX6A1,COX17,PIK3R1,NDUFB3,PPP2R2B,ATP5O,FLCN,NAA38                                                                                                                                                                                                              & LV897\\\\\n",
       "\t gene\\_set\\_1  & 2.201404e-03 & 1.320842e-02 & 0.4317077 & 0.9222871 & 1.619190 & 31 & PPIL1,DDX20,DHPS,PSMA5,TCP1,NPEPPS                                                                                                                                                                                                                                                       & LV190\\\\\n",
       "\t gene\\_set\\_-2 & 2.349394e-03 & 1.409636e-02 & 0.4317077 & 0.9056335 & 1.640113 & 22 & PPP2R2B,MAD2L2,NDUFB7,NDUFA4,ATP5O,NDUFB10,COX6A1,CTNNB1,OGDH                                                                                                                                                                                                                            & LV421\\\\\n",
       "\t gene\\_set\\_-3 & 2.904358e-03 & 1.452179e-02 & 0.4317077 & 0.9877469 & 1.848431 &  3 & FBXW7,UBE2J2                                                                                                                                                                                                                                                                             & LV423\\\\\n",
       "\t gene\\_set\\_1  & 2.645375e-03 & 1.587225e-02 & 0.4317077 & 0.8400268 & 1.686726 & 33 & MLX,TCP1,FAU,XRCC6,SSR4,UXS1,DDIT3,NUP85,PNN,SMC2                                                                                                                                                                                                                                        & LV525\\\\\n",
       "\t gene\\_set\\_1  & 7.027175e-03 & 1.756794e-02 & 0.4070179 & 0.7027955 & 1.405084 & 32 & RPL4,RPS23,DDX21,MYBBP1A,RPL27,SERPINB6,ICAM3,RBM28,PRIM1,XRCC6,HHEX,PNN,TCP1,CTNNBL1,GMPS                                                                                                                                                                                               & LV905\\\\\n",
       "\t gene\\_set\\_3  & 3.163342e-03 & 1.898005e-02 & 0.4317077 & 0.9873660 & 1.698624 &  2 & DGAT2,MBTPS1                                                                                                                                                                                                                                                                             & LV22 \\\\\n",
       "\t gene\\_set\\_1  & 3.237338e-03 & 1.942403e-02 & 0.4317077 & 0.9069858 & 1.919926 & 32 & RPL27,SSR4,DDX21,CROT,TPR,PAFAH1B1                                                                                                                                                                                                                                                       & LV349\\\\\n",
       "\t ⋮ & ⋮ & ⋮ & ⋮ & ⋮ & ⋮ & ⋮ & ⋮ & ⋮\\\\\n",
       "\t gene\\_set\\_1  & 0.004870712 & 0.02922427 & 0.4070179 & 0.8782069 & 1.351290 & 16 & ICAM3,FADD                                                                                                           & LV7  \\\\\n",
       "\t gene\\_set\\_2  & 0.004945072 & 0.02967043 & 0.4070179 & 0.8789933 & 1.707492 & 39 & SUPT5H,RPS28,RPS27A,FERMT2,GTF2H1,HSP90B1,POLR2L,POLR2C,POLR2K,POLR2F,VPS53,USP39                                    & LV550\\\\\n",
       "\t gene\\_set\\_3  & 0.005019433 & 0.03011660 & 0.4070179 & 0.9864988 & 1.772990 &  2 & ACACA,MBTPS1                                                                                                         & LV189\\\\\n",
       "\t gene\\_set\\_2  & 0.005093794 & 0.03056276 & 0.4070179 & 0.8726837 & 1.790161 & 50 & RPS16,USP39,CRKL                                                                                                     & LV504\\\\\n",
       "\t gene\\_set\\_-3 & 0.005093794 & 0.03056276 & 0.4070179 & 0.9848501 & 1.819005 &  2 & TCF7L2,PTEN                                                                                                          & LV938\\\\\n",
       "\t gene\\_set\\_-1 & 0.005168154 & 0.03100893 & 0.4070179 & 0.9485403 & 1.758037 &  7 & NDUFAB1,ZFP36L2,ASB9,PDE4B                                                                                           & LV181\\\\\n",
       "\t gene\\_set\\_2  & 0.005391236 & 0.03234742 & 0.4070179 & 0.8877838 & 1.644194 & 34 & FNTA,RPS27A,RPS28,RPL7,RPS14                                                                                         & LV358\\\\\n",
       "\t gene\\_set\\_1  & 0.006432288 & 0.03250715 & 0.4070179 & 0.9196825 & 1.581328 & 26 & PEX7,NUP85,FAU                                                                                                       & LV137\\\\\n",
       "\t gene\\_set\\_-1 & 0.010835718 & 0.03250715 & 0.3807304 & 0.9362232 & 1.657404 & 14 & ALKBH3,NDUFAB1,ZFP36L2,SREBF1                                                                                        & LV137\\\\\n",
       "\t gene\\_set\\_3  & 0.005539958 & 0.03323975 & 0.4070179 & 0.9945192 & 1.914957 &  1 & ACACA                                                                                                                & LV607\\\\\n",
       "\t gene\\_set\\_2  & 0.006804092 & 0.03402046 & 0.4070179 & 0.8518034 & 1.668507 & 37 & SNRPD1,PCBP1,CHERP,POLR3E,PFDN2                                                                                      & LV467\\\\\n",
       "\t gene\\_set\\_2  & 0.005688679 & 0.03413208 & 0.4070179 & 0.6801874 & 1.414212 & 41 & PFDN6,SRP72,NHP2,POLR2L,RPS2,LUC7L3,AP2S1,RPL35A,LSM4,RPL31,NAPA,DKC1,RANGAP1,E4F1,RPL6,SLC33A1,ACTR1A,RPL13         & LV122\\\\\n",
       "\t gene\\_set\\_1  & 0.005911762 & 0.03547057 & 0.4070179 & 0.8780517 & 1.387965 & 16 & HHEX,DERL3                                                                                                           & LV977\\\\\n",
       "\t gene\\_set\\_-1 & 0.006060483 & 0.03636290 & 0.4070179 & 0.9154694 & 1.706236 & 13 & ALKBH3,ZNF583                                                                                                        & LV686\\\\\n",
       "\t gene\\_set\\_-3 & 0.006060483 & 0.03636290 & 0.4070179 & 0.9443505 & 1.722531 &  3 & UBE2J2,FBXW7                                                                                                         & LV797\\\\\n",
       "\t gene\\_set\\_1  & 0.006209205 & 0.03725523 & 0.4070179 & 0.6176136 & 1.329050 & 41 & DHPS,EIF2B4,HARS,NUP85,CTNNBL1,DDIT3,RBM28,CARS,SF3B3,ACOX2,NPEPPS,ACO2,SRSF7,MED21,SERPINB6,CROT,PAFAH1B1,MED14,MLX & LV739\\\\\n",
       "\t gene\\_set\\_1  & 0.006283566 & 0.03770139 & 0.4070179 & 0.8030911 & 1.542448 & 21 & ACO2,OLIG1,SMC2,SSH1,MLX,NUP85                                                                                       & LV596\\\\\n",
       "\t gene\\_set\\_-3 & 0.006283566 & 0.03770139 & 0.4070179 & 0.9674772 & 1.779845 &  3 & FBXW7,TCF7L2                                                                                                         & LV615\\\\\n",
       "\t gene\\_set\\_-2 & 0.006581009 & 0.03948606 & 0.4070179 & 0.8342816 & 1.603803 & 23 & TP53,COX5A,NDUFB10,NDUFA4,SQLE,MAD2L2                                                                                & LV630\\\\\n",
       "\t gene\\_set\\_-3 & 0.006655370 & 0.03993222 & 0.4070179 & 0.9708559 & 1.808020 &  3 & UBE2J2,PCYT2                                                                                                         & LV469\\\\\n",
       "\t gene\\_set\\_2  & 0.014123752 & 0.04017776 & 0.3807304 & 0.8407099 & 1.610592 & 43 & GATAD2A,CHERP,TAF6,RPS28,RPL35A,AP2S1,PFDN2,ERCC3,SNRPD1,RPS11                                                       & LV415\\\\\n",
       "\t gene\\_set\\_1  & 0.016071103 & 0.04017776 & 0.3524879 & 0.8831400 & 1.704566 & 23 & MYBBP1A,CROT,SSR4                                                                                                    & LV415\\\\\n",
       "\t gene\\_set\\_-1 & 0.006878453 & 0.04127072 & 0.4070179 & 0.8631081 & 1.615913 & 11 & NDUFAB1,ABCA2,NLRP3                                                                                                  & LV265\\\\\n",
       "\t gene\\_set\\_-2 & 0.010686262 & 0.04274505 & 0.3807304 & 0.9569402 & 1.970085 & 23 & NDUFV2,PEX14                                                                                                         & LV157\\\\\n",
       "\t gene\\_set\\_2  & 0.007175897 & 0.04305538 & 0.4070179 & 0.8041942 & 1.609501 & 44 & UBL5,XPO1,RPS14,EIF5,DKC1,HSP90B1,GATAD2A,PFDN6,RPS16                                                                & LV490\\\\\n",
       "\t gene\\_set\\_-2 & 0.007697156 & 0.04618294 & 0.4070179 & 0.9640904 & 1.934249 & 16 & MRPL17,NDUFS3                                                                                                        & LV240\\\\\n",
       "\t gene\\_set\\_-3 & 0.007697156 & 0.04618294 & 0.4070179 & 0.9942474 & 1.944363 &  1 & FBXW7                                                                                                                & LV512\\\\\n",
       "\t gene\\_set\\_1  & 0.015470332 & 0.04641100 & 0.3807304 & 0.8561235 & 1.565872 & 22 & SAMM50,PNN,PSMB4                                                                                                     & LV469\\\\\n",
       "\t gene\\_set\\_3  & 0.007846611 & 0.04707967 & 0.3807304 & 0.9927690 & 2.001007 &  1 & ACACA                                                                                                                & LV890\\\\\n",
       "\t gene\\_set\\_-3 & 0.007996066 & 0.04797639 & 0.3807304 & 0.9678125 & 1.801738 &  3 & UBE2J2,TCF7L2                                                                                                        & LV491\\\\\n",
       "\\end{tabular}\n"
      ],
      "text/markdown": [
       "\n",
       "A data.table: 72 × 9\n",
       "\n",
       "| pathway &lt;chr&gt; | pval &lt;dbl&gt; | padj &lt;dbl&gt; | log2err &lt;dbl&gt; | ES &lt;dbl&gt; | NES &lt;dbl&gt; | size &lt;int&gt; | leadingEdge &lt;chr&gt; | lv &lt;chr&gt; |\n",
       "|---|---|---|---|---|---|---|---|---|\n",
       "| gene_set_2  | 1.317321e-07 | 6.586606e-07 | 0.6901325 | 0.9057343 | 1.548676 | 49 | RPS14,RPL31,RPS19,RPS11,RPS6,RPL37,RPSA,RPL18,RPL35A,RPL34,RPL6,RPS2,RPL7,RPS13,RPS28,RPLP0,RPL19,RPS27A,RPL13,RPS16,FBL,UXT                                                                                                                                                             | LV707 |\n",
       "| gene_set_-2 | 1.380551e-07 | 8.283308e-07 | 0.6901325 | 0.8658895 | 1.643107 | 39 | NDUFA4,COX6A1,ATP5O,NDUFB10,COX5A,NDUFS3,NDUFB7,NDUFS2,NDUFV2,NDUFB4,NDUFB3,NDUFB9,COX17,COX7C,NDUFS6,MAD2L2,NAA38                                                                                                                                                                       | LV678 |\n",
       "| gene_set_-3 | 4.942689e-06 | 2.965613e-05 | 0.6105269 | 0.9992990 | 1.816439 |  2 | PTEN,FBXW7                                                                                                                                                                                                                                                                               | LV612 |\n",
       "| gene_set_2  | 9.656318e-06 | 4.828159e-05 | 0.5933255 | 0.7361145 | 1.503917 | 57 | RPS6,RPL6,RPLP0,RPL19,RPL31,RPL7,RPS13,RPS2,RPSA,RPS16,RPS14,FBL,RPS11,RPL37,RPL35A,RPL13,LUC7L3,RPL18,SRP72                                                                                                                                                                             | LV905 |\n",
       "| gene_set_-1 | 4.293645e-05 | 1.288094e-04 | 0.5573322 | 0.9180109 | 1.691415 | 14 | NDUFB8,NDUFAB1,ATP5B,ATP6AP1                                                                                                                                                                                                                                                             | LV678 |\n",
       "| gene_set_2  | 2.192123e-05 | 1.315274e-04 | 0.5756103 | 0.6324956 | 1.463891 | 81 | SAFB,LUC7L3,HSP90B1,CHD4,SNRPD3,ISY1,DKC1,PFDN6,USP39,HNRNPL,HNRNPH1,SUPT5H,RPL6,CHERP,FBL,UBA2,EIF5,RPL37,RPL7,SRP72,XPO1,RPL19,SNRPD1,LSM4,CSTF3,RPS6,POLR2K,PFDN2,RPL31,RANGAP1,POLR2C,OSBP,POLR2F,RPS11,GTF2B,GATAD2A,POLR2L,GTF2H1,RPL35A,TAF1C,OTUD5,RPL34,EXOC3,ERCC3,PCBP1,SRP54 | LV915 |\n",
       "| gene_set_1  | 6.035192e-05 | 1.810558e-04 | 0.5573322 | 0.6800128 | 1.535791 | 51 | TPR,DDX21,SRSF7,XRCC6,CTNNBL1,SMC2,MYBBP1A,SF3B3,SMNDC1,PNN,RBM28,NUP85,GARS,UXS1,GMPS,DDX20,ESPL1,TCP1,PPIL1,RPS23,RPL4,NPEPPS,EIF2B4,HARS,FAU                                                                                                                                          | LV915 |\n",
       "| gene_set_1  | 1.417049e-04 | 8.502296e-04 | 0.5188481 | 0.8363970 | 1.643409 | 30 | ABCG2,DDIT3,BMPR2,SSH1,UXS1,SERPINB6,CHKA,SRSF7                                                                                                                                                                                                                                          | LV821 |\n",
       "| gene_set_2  | 3.121505e-04 | 1.872903e-03 | 0.4984931 | 0.8042415 | 1.288432 | 60 | RPL34,RPL35A,RPL31,RPS13,RPS6,RPL6,RPL7,UBL5,RPS16,POLR2K,RPS28,RPS19,RPL19,RPL37,RPS27A,RPLP0,SNRPD3,RPS11,RPS14,SEC61G,SRP19                                                                                                                                                           | LV750 |\n",
       "| gene_set_2  | 3.577192e-04 | 2.146315e-03 | 0.4984931 | 0.9719958 | 1.959109 | 32 | ZNF3,MDM2,RPS6                                                                                                                                                                                                                                                                           | LV341 |\n",
       "| gene_set_-3 | 9.480305e-04 | 4.740153e-03 | 0.4772708 | 0.9993500 | 1.984083 |  1 | FBXW7                                                                                                                                                                                                                                                                                    | LV520 |\n",
       "| gene_set_-2 | 8.471939e-04 | 5.083163e-03 | 0.4772708 | 0.7564764 | 1.434406 | 33 | PEX14,COX17,NDUFS3,ATP5O,COX6A1,DLST,NDUFB7,NDUFB9,OGDH                                                                                                                                                                                                                                  | LV64  |\n",
       "| gene_set_1  | 9.848461e-04 | 5.909077e-03 | 0.4550599 | 0.7986703 | 1.658780 | 26 | PSMB4,TPR,NPEPPS                                                                                                                                                                                                                                                                         | LV333 |\n",
       "| gene_set_-2 | 1.187332e-03 | 5.936662e-03 | 0.4550599 | 0.9399930 | 1.776056 | 18 | COX7C,NDUFS6,FLCN,COX5A,NDUFS2                                                                                                                                                                                                                                                           | LV736 |\n",
       "| gene_set_-2 | 1.132109e-03 | 6.792653e-03 | 0.4550599 | 0.9160755 | 1.790158 | 20 | CSK,MRPS12                                                                                                                                                                                                                                                                               | LV575 |\n",
       "| gene_set_1  | 1.389819e-03 | 6.949097e-03 | 0.4550599 | 0.8880584 | 1.689481 | 31 | CHKA,HARS,UXS1,RPS23                                                                                                                                                                                                                                                                     | LV259 |\n",
       "| gene_set_3  | 1.316188e-03 | 7.897127e-03 | 0.4550599 | 0.9948409 | 1.849973 |  2 | DGAT2,ACACA                                                                                                                                                                                                                                                                              | LV246 |\n",
       "| gene_set_1  | 1.518675e-03 | 9.112051e-03 | 0.4550599 | 0.6418589 | 1.408827 | 47 | PSMB4,PSMA2,PSMA5,HARS,TCP1,XRCC6,CTNNBL1,ACOX2,MLX,NUP85,EIF2B4,SSR4,GARS,NPEPPS,SRSF7,SF3B3,PPIL1,GMPS,CARS,ACO2,PRIM1,DDX21,SERPINB6,FAU,MED21,UXS1,RPL4,RPL27                                                                                                                        | LV70  |\n",
       "| gene_set_-1 | 1.721163e-03 | 1.032698e-02 | 0.4550599 | 0.9902846 | 1.942827 | 12 | PRR16,ZFP36L1,GNA15,TADA2B                                                                                                                                                                                                                                                               | LV115 |\n",
       "| gene_set_1  | 1.979419e-03 | 1.187651e-02 | 0.4317077 | 0.7130117 | 1.534040 | 40 | GARS,CARS,DDIT3,HARS,DDX21,ESPL1,MYBBP1A,TPR,PRIM1,SF3B3,DHPS                                                                                                                                                                                                                            | LV161 |\n",
       "| gene_set_2  | 2.053414e-03 | 1.232048e-02 | 0.4317077 | 0.7333670 | 1.326193 | 48 | LSM4,RPS6,POLR2L,NHP2,NAPA,SLC35B2,PFDN6,MED8,RPS16,HSP90B1,RPSA,PFDN2,RPL31,RPL13,RPLP0,POLR2C,E4F1,AP2S1,RPL35A,OSBP,RPS28,TAF1C,ACTR1A                                                                                                                                                | LV509 |\n",
       "| gene_set_-3 | 2.090411e-03 | 1.254247e-02 | 0.4317077 | 0.9877092 | 1.832219 |  4 | UBE2J2,FBXW7                                                                                                                                                                                                                                                                             | LV484 |\n",
       "| gene_set_-2 | 2.090411e-03 | 1.254247e-02 | 0.4317077 | 0.8104306 | 1.559017 | 22 | NDUFA4,PEX14,STX18,OGDH,COX6A1,COX17,PIK3R1,NDUFB3,PPP2R2B,ATP5O,FLCN,NAA38                                                                                                                                                                                                              | LV897 |\n",
       "| gene_set_1  | 2.201404e-03 | 1.320842e-02 | 0.4317077 | 0.9222871 | 1.619190 | 31 | PPIL1,DDX20,DHPS,PSMA5,TCP1,NPEPPS                                                                                                                                                                                                                                                       | LV190 |\n",
       "| gene_set_-2 | 2.349394e-03 | 1.409636e-02 | 0.4317077 | 0.9056335 | 1.640113 | 22 | PPP2R2B,MAD2L2,NDUFB7,NDUFA4,ATP5O,NDUFB10,COX6A1,CTNNB1,OGDH                                                                                                                                                                                                                            | LV421 |\n",
       "| gene_set_-3 | 2.904358e-03 | 1.452179e-02 | 0.4317077 | 0.9877469 | 1.848431 |  3 | FBXW7,UBE2J2                                                                                                                                                                                                                                                                             | LV423 |\n",
       "| gene_set_1  | 2.645375e-03 | 1.587225e-02 | 0.4317077 | 0.8400268 | 1.686726 | 33 | MLX,TCP1,FAU,XRCC6,SSR4,UXS1,DDIT3,NUP85,PNN,SMC2                                                                                                                                                                                                                                        | LV525 |\n",
       "| gene_set_1  | 7.027175e-03 | 1.756794e-02 | 0.4070179 | 0.7027955 | 1.405084 | 32 | RPL4,RPS23,DDX21,MYBBP1A,RPL27,SERPINB6,ICAM3,RBM28,PRIM1,XRCC6,HHEX,PNN,TCP1,CTNNBL1,GMPS                                                                                                                                                                                               | LV905 |\n",
       "| gene_set_3  | 3.163342e-03 | 1.898005e-02 | 0.4317077 | 0.9873660 | 1.698624 |  2 | DGAT2,MBTPS1                                                                                                                                                                                                                                                                             | LV22  |\n",
       "| gene_set_1  | 3.237338e-03 | 1.942403e-02 | 0.4317077 | 0.9069858 | 1.919926 | 32 | RPL27,SSR4,DDX21,CROT,TPR,PAFAH1B1                                                                                                                                                                                                                                                       | LV349 |\n",
       "| ⋮ | ⋮ | ⋮ | ⋮ | ⋮ | ⋮ | ⋮ | ⋮ | ⋮ |\n",
       "| gene_set_1  | 0.004870712 | 0.02922427 | 0.4070179 | 0.8782069 | 1.351290 | 16 | ICAM3,FADD                                                                                                           | LV7   |\n",
       "| gene_set_2  | 0.004945072 | 0.02967043 | 0.4070179 | 0.8789933 | 1.707492 | 39 | SUPT5H,RPS28,RPS27A,FERMT2,GTF2H1,HSP90B1,POLR2L,POLR2C,POLR2K,POLR2F,VPS53,USP39                                    | LV550 |\n",
       "| gene_set_3  | 0.005019433 | 0.03011660 | 0.4070179 | 0.9864988 | 1.772990 |  2 | ACACA,MBTPS1                                                                                                         | LV189 |\n",
       "| gene_set_2  | 0.005093794 | 0.03056276 | 0.4070179 | 0.8726837 | 1.790161 | 50 | RPS16,USP39,CRKL                                                                                                     | LV504 |\n",
       "| gene_set_-3 | 0.005093794 | 0.03056276 | 0.4070179 | 0.9848501 | 1.819005 |  2 | TCF7L2,PTEN                                                                                                          | LV938 |\n",
       "| gene_set_-1 | 0.005168154 | 0.03100893 | 0.4070179 | 0.9485403 | 1.758037 |  7 | NDUFAB1,ZFP36L2,ASB9,PDE4B                                                                                           | LV181 |\n",
       "| gene_set_2  | 0.005391236 | 0.03234742 | 0.4070179 | 0.8877838 | 1.644194 | 34 | FNTA,RPS27A,RPS28,RPL7,RPS14                                                                                         | LV358 |\n",
       "| gene_set_1  | 0.006432288 | 0.03250715 | 0.4070179 | 0.9196825 | 1.581328 | 26 | PEX7,NUP85,FAU                                                                                                       | LV137 |\n",
       "| gene_set_-1 | 0.010835718 | 0.03250715 | 0.3807304 | 0.9362232 | 1.657404 | 14 | ALKBH3,NDUFAB1,ZFP36L2,SREBF1                                                                                        | LV137 |\n",
       "| gene_set_3  | 0.005539958 | 0.03323975 | 0.4070179 | 0.9945192 | 1.914957 |  1 | ACACA                                                                                                                | LV607 |\n",
       "| gene_set_2  | 0.006804092 | 0.03402046 | 0.4070179 | 0.8518034 | 1.668507 | 37 | SNRPD1,PCBP1,CHERP,POLR3E,PFDN2                                                                                      | LV467 |\n",
       "| gene_set_2  | 0.005688679 | 0.03413208 | 0.4070179 | 0.6801874 | 1.414212 | 41 | PFDN6,SRP72,NHP2,POLR2L,RPS2,LUC7L3,AP2S1,RPL35A,LSM4,RPL31,NAPA,DKC1,RANGAP1,E4F1,RPL6,SLC33A1,ACTR1A,RPL13         | LV122 |\n",
       "| gene_set_1  | 0.005911762 | 0.03547057 | 0.4070179 | 0.8780517 | 1.387965 | 16 | HHEX,DERL3                                                                                                           | LV977 |\n",
       "| gene_set_-1 | 0.006060483 | 0.03636290 | 0.4070179 | 0.9154694 | 1.706236 | 13 | ALKBH3,ZNF583                                                                                                        | LV686 |\n",
       "| gene_set_-3 | 0.006060483 | 0.03636290 | 0.4070179 | 0.9443505 | 1.722531 |  3 | UBE2J2,FBXW7                                                                                                         | LV797 |\n",
       "| gene_set_1  | 0.006209205 | 0.03725523 | 0.4070179 | 0.6176136 | 1.329050 | 41 | DHPS,EIF2B4,HARS,NUP85,CTNNBL1,DDIT3,RBM28,CARS,SF3B3,ACOX2,NPEPPS,ACO2,SRSF7,MED21,SERPINB6,CROT,PAFAH1B1,MED14,MLX | LV739 |\n",
       "| gene_set_1  | 0.006283566 | 0.03770139 | 0.4070179 | 0.8030911 | 1.542448 | 21 | ACO2,OLIG1,SMC2,SSH1,MLX,NUP85                                                                                       | LV596 |\n",
       "| gene_set_-3 | 0.006283566 | 0.03770139 | 0.4070179 | 0.9674772 | 1.779845 |  3 | FBXW7,TCF7L2                                                                                                         | LV615 |\n",
       "| gene_set_-2 | 0.006581009 | 0.03948606 | 0.4070179 | 0.8342816 | 1.603803 | 23 | TP53,COX5A,NDUFB10,NDUFA4,SQLE,MAD2L2                                                                                | LV630 |\n",
       "| gene_set_-3 | 0.006655370 | 0.03993222 | 0.4070179 | 0.9708559 | 1.808020 |  3 | UBE2J2,PCYT2                                                                                                         | LV469 |\n",
       "| gene_set_2  | 0.014123752 | 0.04017776 | 0.3807304 | 0.8407099 | 1.610592 | 43 | GATAD2A,CHERP,TAF6,RPS28,RPL35A,AP2S1,PFDN2,ERCC3,SNRPD1,RPS11                                                       | LV415 |\n",
       "| gene_set_1  | 0.016071103 | 0.04017776 | 0.3524879 | 0.8831400 | 1.704566 | 23 | MYBBP1A,CROT,SSR4                                                                                                    | LV415 |\n",
       "| gene_set_-1 | 0.006878453 | 0.04127072 | 0.4070179 | 0.8631081 | 1.615913 | 11 | NDUFAB1,ABCA2,NLRP3                                                                                                  | LV265 |\n",
       "| gene_set_-2 | 0.010686262 | 0.04274505 | 0.3807304 | 0.9569402 | 1.970085 | 23 | NDUFV2,PEX14                                                                                                         | LV157 |\n",
       "| gene_set_2  | 0.007175897 | 0.04305538 | 0.4070179 | 0.8041942 | 1.609501 | 44 | UBL5,XPO1,RPS14,EIF5,DKC1,HSP90B1,GATAD2A,PFDN6,RPS16                                                                | LV490 |\n",
       "| gene_set_-2 | 0.007697156 | 0.04618294 | 0.4070179 | 0.9640904 | 1.934249 | 16 | MRPL17,NDUFS3                                                                                                        | LV240 |\n",
       "| gene_set_-3 | 0.007697156 | 0.04618294 | 0.4070179 | 0.9942474 | 1.944363 |  1 | FBXW7                                                                                                                | LV512 |\n",
       "| gene_set_1  | 0.015470332 | 0.04641100 | 0.3807304 | 0.8561235 | 1.565872 | 22 | SAMM50,PNN,PSMB4                                                                                                     | LV469 |\n",
       "| gene_set_3  | 0.007846611 | 0.04707967 | 0.3807304 | 0.9927690 | 2.001007 |  1 | ACACA                                                                                                                | LV890 |\n",
       "| gene_set_-3 | 0.007996066 | 0.04797639 | 0.3807304 | 0.9678125 | 1.801738 |  3 | UBE2J2,TCF7L2                                                                                                        | LV491 |\n",
       "\n"
      ],
      "text/plain": [
       "   pathway     pval         padj         log2err   ES        NES      size\n",
       "1  gene_set_2  1.317321e-07 6.586606e-07 0.6901325 0.9057343 1.548676 49  \n",
       "2  gene_set_-2 1.380551e-07 8.283308e-07 0.6901325 0.8658895 1.643107 39  \n",
       "3  gene_set_-3 4.942689e-06 2.965613e-05 0.6105269 0.9992990 1.816439  2  \n",
       "4  gene_set_2  9.656318e-06 4.828159e-05 0.5933255 0.7361145 1.503917 57  \n",
       "5  gene_set_-1 4.293645e-05 1.288094e-04 0.5573322 0.9180109 1.691415 14  \n",
       "6  gene_set_2  2.192123e-05 1.315274e-04 0.5756103 0.6324956 1.463891 81  \n",
       "7  gene_set_1  6.035192e-05 1.810558e-04 0.5573322 0.6800128 1.535791 51  \n",
       "8  gene_set_1  1.417049e-04 8.502296e-04 0.5188481 0.8363970 1.643409 30  \n",
       "9  gene_set_2  3.121505e-04 1.872903e-03 0.4984931 0.8042415 1.288432 60  \n",
       "10 gene_set_2  3.577192e-04 2.146315e-03 0.4984931 0.9719958 1.959109 32  \n",
       "11 gene_set_-3 9.480305e-04 4.740153e-03 0.4772708 0.9993500 1.984083  1  \n",
       "12 gene_set_-2 8.471939e-04 5.083163e-03 0.4772708 0.7564764 1.434406 33  \n",
       "13 gene_set_1  9.848461e-04 5.909077e-03 0.4550599 0.7986703 1.658780 26  \n",
       "14 gene_set_-2 1.187332e-03 5.936662e-03 0.4550599 0.9399930 1.776056 18  \n",
       "15 gene_set_-2 1.132109e-03 6.792653e-03 0.4550599 0.9160755 1.790158 20  \n",
       "16 gene_set_1  1.389819e-03 6.949097e-03 0.4550599 0.8880584 1.689481 31  \n",
       "17 gene_set_3  1.316188e-03 7.897127e-03 0.4550599 0.9948409 1.849973  2  \n",
       "18 gene_set_1  1.518675e-03 9.112051e-03 0.4550599 0.6418589 1.408827 47  \n",
       "19 gene_set_-1 1.721163e-03 1.032698e-02 0.4550599 0.9902846 1.942827 12  \n",
       "20 gene_set_1  1.979419e-03 1.187651e-02 0.4317077 0.7130117 1.534040 40  \n",
       "21 gene_set_2  2.053414e-03 1.232048e-02 0.4317077 0.7333670 1.326193 48  \n",
       "22 gene_set_-3 2.090411e-03 1.254247e-02 0.4317077 0.9877092 1.832219  4  \n",
       "23 gene_set_-2 2.090411e-03 1.254247e-02 0.4317077 0.8104306 1.559017 22  \n",
       "24 gene_set_1  2.201404e-03 1.320842e-02 0.4317077 0.9222871 1.619190 31  \n",
       "25 gene_set_-2 2.349394e-03 1.409636e-02 0.4317077 0.9056335 1.640113 22  \n",
       "26 gene_set_-3 2.904358e-03 1.452179e-02 0.4317077 0.9877469 1.848431  3  \n",
       "27 gene_set_1  2.645375e-03 1.587225e-02 0.4317077 0.8400268 1.686726 33  \n",
       "28 gene_set_1  7.027175e-03 1.756794e-02 0.4070179 0.7027955 1.405084 32  \n",
       "29 gene_set_3  3.163342e-03 1.898005e-02 0.4317077 0.9873660 1.698624  2  \n",
       "30 gene_set_1  3.237338e-03 1.942403e-02 0.4317077 0.9069858 1.919926 32  \n",
       "⋮  ⋮           ⋮            ⋮            ⋮         ⋮         ⋮        ⋮   \n",
       "43 gene_set_1  0.004870712  0.02922427   0.4070179 0.8782069 1.351290 16  \n",
       "44 gene_set_2  0.004945072  0.02967043   0.4070179 0.8789933 1.707492 39  \n",
       "45 gene_set_3  0.005019433  0.03011660   0.4070179 0.9864988 1.772990  2  \n",
       "46 gene_set_2  0.005093794  0.03056276   0.4070179 0.8726837 1.790161 50  \n",
       "47 gene_set_-3 0.005093794  0.03056276   0.4070179 0.9848501 1.819005  2  \n",
       "48 gene_set_-1 0.005168154  0.03100893   0.4070179 0.9485403 1.758037  7  \n",
       "49 gene_set_2  0.005391236  0.03234742   0.4070179 0.8877838 1.644194 34  \n",
       "50 gene_set_1  0.006432288  0.03250715   0.4070179 0.9196825 1.581328 26  \n",
       "51 gene_set_-1 0.010835718  0.03250715   0.3807304 0.9362232 1.657404 14  \n",
       "52 gene_set_3  0.005539958  0.03323975   0.4070179 0.9945192 1.914957  1  \n",
       "53 gene_set_2  0.006804092  0.03402046   0.4070179 0.8518034 1.668507 37  \n",
       "54 gene_set_2  0.005688679  0.03413208   0.4070179 0.6801874 1.414212 41  \n",
       "55 gene_set_1  0.005911762  0.03547057   0.4070179 0.8780517 1.387965 16  \n",
       "56 gene_set_-1 0.006060483  0.03636290   0.4070179 0.9154694 1.706236 13  \n",
       "57 gene_set_-3 0.006060483  0.03636290   0.4070179 0.9443505 1.722531  3  \n",
       "58 gene_set_1  0.006209205  0.03725523   0.4070179 0.6176136 1.329050 41  \n",
       "59 gene_set_1  0.006283566  0.03770139   0.4070179 0.8030911 1.542448 21  \n",
       "60 gene_set_-3 0.006283566  0.03770139   0.4070179 0.9674772 1.779845  3  \n",
       "61 gene_set_-2 0.006581009  0.03948606   0.4070179 0.8342816 1.603803 23  \n",
       "62 gene_set_-3 0.006655370  0.03993222   0.4070179 0.9708559 1.808020  3  \n",
       "63 gene_set_2  0.014123752  0.04017776   0.3807304 0.8407099 1.610592 43  \n",
       "64 gene_set_1  0.016071103  0.04017776   0.3524879 0.8831400 1.704566 23  \n",
       "65 gene_set_-1 0.006878453  0.04127072   0.4070179 0.8631081 1.615913 11  \n",
       "66 gene_set_-2 0.010686262  0.04274505   0.3807304 0.9569402 1.970085 23  \n",
       "67 gene_set_2  0.007175897  0.04305538   0.4070179 0.8041942 1.609501 44  \n",
       "68 gene_set_-2 0.007697156  0.04618294   0.4070179 0.9640904 1.934249 16  \n",
       "69 gene_set_-3 0.007697156  0.04618294   0.4070179 0.9942474 1.944363  1  \n",
       "70 gene_set_1  0.015470332  0.04641100   0.3807304 0.8561235 1.565872 22  \n",
       "71 gene_set_3  0.007846611  0.04707967   0.3807304 0.9927690 2.001007  1  \n",
       "72 gene_set_-3 0.007996066  0.04797639   0.3807304 0.9678125 1.801738  3  \n",
       "   leadingEdge                                                                                                                                                                                                                                                                             \n",
       "1  RPS14,RPL31,RPS19,RPS11,RPS6,RPL37,RPSA,RPL18,RPL35A,RPL34,RPL6,RPS2,RPL7,RPS13,RPS28,RPLP0,RPL19,RPS27A,RPL13,RPS16,FBL,UXT                                                                                                                                                            \n",
       "2  NDUFA4,COX6A1,ATP5O,NDUFB10,COX5A,NDUFS3,NDUFB7,NDUFS2,NDUFV2,NDUFB4,NDUFB3,NDUFB9,COX17,COX7C,NDUFS6,MAD2L2,NAA38                                                                                                                                                                      \n",
       "3  PTEN,FBXW7                                                                                                                                                                                                                                                                              \n",
       "4  RPS6,RPL6,RPLP0,RPL19,RPL31,RPL7,RPS13,RPS2,RPSA,RPS16,RPS14,FBL,RPS11,RPL37,RPL35A,RPL13,LUC7L3,RPL18,SRP72                                                                                                                                                                            \n",
       "5  NDUFB8,NDUFAB1,ATP5B,ATP6AP1                                                                                                                                                                                                                                                            \n",
       "6  SAFB,LUC7L3,HSP90B1,CHD4,SNRPD3,ISY1,DKC1,PFDN6,USP39,HNRNPL,HNRNPH1,SUPT5H,RPL6,CHERP,FBL,UBA2,EIF5,RPL37,RPL7,SRP72,XPO1,RPL19,SNRPD1,LSM4,CSTF3,RPS6,POLR2K,PFDN2,RPL31,RANGAP1,POLR2C,OSBP,POLR2F,RPS11,GTF2B,GATAD2A,POLR2L,GTF2H1,RPL35A,TAF1C,OTUD5,RPL34,EXOC3,ERCC3,PCBP1,SRP54\n",
       "7  TPR,DDX21,SRSF7,XRCC6,CTNNBL1,SMC2,MYBBP1A,SF3B3,SMNDC1,PNN,RBM28,NUP85,GARS,UXS1,GMPS,DDX20,ESPL1,TCP1,PPIL1,RPS23,RPL4,NPEPPS,EIF2B4,HARS,FAU                                                                                                                                         \n",
       "8  ABCG2,DDIT3,BMPR2,SSH1,UXS1,SERPINB6,CHKA,SRSF7                                                                                                                                                                                                                                         \n",
       "9  RPL34,RPL35A,RPL31,RPS13,RPS6,RPL6,RPL7,UBL5,RPS16,POLR2K,RPS28,RPS19,RPL19,RPL37,RPS27A,RPLP0,SNRPD3,RPS11,RPS14,SEC61G,SRP19                                                                                                                                                          \n",
       "10 ZNF3,MDM2,RPS6                                                                                                                                                                                                                                                                          \n",
       "11 FBXW7                                                                                                                                                                                                                                                                                   \n",
       "12 PEX14,COX17,NDUFS3,ATP5O,COX6A1,DLST,NDUFB7,NDUFB9,OGDH                                                                                                                                                                                                                                 \n",
       "13 PSMB4,TPR,NPEPPS                                                                                                                                                                                                                                                                        \n",
       "14 COX7C,NDUFS6,FLCN,COX5A,NDUFS2                                                                                                                                                                                                                                                          \n",
       "15 CSK,MRPS12                                                                                                                                                                                                                                                                              \n",
       "16 CHKA,HARS,UXS1,RPS23                                                                                                                                                                                                                                                                    \n",
       "17 DGAT2,ACACA                                                                                                                                                                                                                                                                             \n",
       "18 PSMB4,PSMA2,PSMA5,HARS,TCP1,XRCC6,CTNNBL1,ACOX2,MLX,NUP85,EIF2B4,SSR4,GARS,NPEPPS,SRSF7,SF3B3,PPIL1,GMPS,CARS,ACO2,PRIM1,DDX21,SERPINB6,FAU,MED21,UXS1,RPL4,RPL27                                                                                                                       \n",
       "19 PRR16,ZFP36L1,GNA15,TADA2B                                                                                                                                                                                                                                                              \n",
       "20 GARS,CARS,DDIT3,HARS,DDX21,ESPL1,MYBBP1A,TPR,PRIM1,SF3B3,DHPS                                                                                                                                                                                                                           \n",
       "21 LSM4,RPS6,POLR2L,NHP2,NAPA,SLC35B2,PFDN6,MED8,RPS16,HSP90B1,RPSA,PFDN2,RPL31,RPL13,RPLP0,POLR2C,E4F1,AP2S1,RPL35A,OSBP,RPS28,TAF1C,ACTR1A                                                                                                                                               \n",
       "22 UBE2J2,FBXW7                                                                                                                                                                                                                                                                            \n",
       "23 NDUFA4,PEX14,STX18,OGDH,COX6A1,COX17,PIK3R1,NDUFB3,PPP2R2B,ATP5O,FLCN,NAA38                                                                                                                                                                                                             \n",
       "24 PPIL1,DDX20,DHPS,PSMA5,TCP1,NPEPPS                                                                                                                                                                                                                                                      \n",
       "25 PPP2R2B,MAD2L2,NDUFB7,NDUFA4,ATP5O,NDUFB10,COX6A1,CTNNB1,OGDH                                                                                                                                                                                                                           \n",
       "26 FBXW7,UBE2J2                                                                                                                                                                                                                                                                            \n",
       "27 MLX,TCP1,FAU,XRCC6,SSR4,UXS1,DDIT3,NUP85,PNN,SMC2                                                                                                                                                                                                                                       \n",
       "28 RPL4,RPS23,DDX21,MYBBP1A,RPL27,SERPINB6,ICAM3,RBM28,PRIM1,XRCC6,HHEX,PNN,TCP1,CTNNBL1,GMPS                                                                                                                                                                                              \n",
       "29 DGAT2,MBTPS1                                                                                                                                                                                                                                                                            \n",
       "30 RPL27,SSR4,DDX21,CROT,TPR,PAFAH1B1                                                                                                                                                                                                                                                      \n",
       "⋮  ⋮                                                                                                                                                                                                                                                                                       \n",
       "43 ICAM3,FADD                                                                                                                                                                                                                                                                              \n",
       "44 SUPT5H,RPS28,RPS27A,FERMT2,GTF2H1,HSP90B1,POLR2L,POLR2C,POLR2K,POLR2F,VPS53,USP39                                                                                                                                                                                                       \n",
       "45 ACACA,MBTPS1                                                                                                                                                                                                                                                                            \n",
       "46 RPS16,USP39,CRKL                                                                                                                                                                                                                                                                        \n",
       "47 TCF7L2,PTEN                                                                                                                                                                                                                                                                             \n",
       "48 NDUFAB1,ZFP36L2,ASB9,PDE4B                                                                                                                                                                                                                                                              \n",
       "49 FNTA,RPS27A,RPS28,RPL7,RPS14                                                                                                                                                                                                                                                            \n",
       "50 PEX7,NUP85,FAU                                                                                                                                                                                                                                                                          \n",
       "51 ALKBH3,NDUFAB1,ZFP36L2,SREBF1                                                                                                                                                                                                                                                           \n",
       "52 ACACA                                                                                                                                                                                                                                                                                   \n",
       "53 SNRPD1,PCBP1,CHERP,POLR3E,PFDN2                                                                                                                                                                                                                                                         \n",
       "54 PFDN6,SRP72,NHP2,POLR2L,RPS2,LUC7L3,AP2S1,RPL35A,LSM4,RPL31,NAPA,DKC1,RANGAP1,E4F1,RPL6,SLC33A1,ACTR1A,RPL13                                                                                                                                                                            \n",
       "55 HHEX,DERL3                                                                                                                                                                                                                                                                              \n",
       "56 ALKBH3,ZNF583                                                                                                                                                                                                                                                                           \n",
       "57 UBE2J2,FBXW7                                                                                                                                                                                                                                                                            \n",
       "58 DHPS,EIF2B4,HARS,NUP85,CTNNBL1,DDIT3,RBM28,CARS,SF3B3,ACOX2,NPEPPS,ACO2,SRSF7,MED21,SERPINB6,CROT,PAFAH1B1,MED14,MLX                                                                                                                                                                    \n",
       "59 ACO2,OLIG1,SMC2,SSH1,MLX,NUP85                                                                                                                                                                                                                                                          \n",
       "60 FBXW7,TCF7L2                                                                                                                                                                                                                                                                            \n",
       "61 TP53,COX5A,NDUFB10,NDUFA4,SQLE,MAD2L2                                                                                                                                                                                                                                                   \n",
       "62 UBE2J2,PCYT2                                                                                                                                                                                                                                                                            \n",
       "63 GATAD2A,CHERP,TAF6,RPS28,RPL35A,AP2S1,PFDN2,ERCC3,SNRPD1,RPS11                                                                                                                                                                                                                          \n",
       "64 MYBBP1A,CROT,SSR4                                                                                                                                                                                                                                                                       \n",
       "65 NDUFAB1,ABCA2,NLRP3                                                                                                                                                                                                                                                                     \n",
       "66 NDUFV2,PEX14                                                                                                                                                                                                                                                                            \n",
       "67 UBL5,XPO1,RPS14,EIF5,DKC1,HSP90B1,GATAD2A,PFDN6,RPS16                                                                                                                                                                                                                                   \n",
       "68 MRPL17,NDUFS3                                                                                                                                                                                                                                                                           \n",
       "69 FBXW7                                                                                                                                                                                                                                                                                   \n",
       "70 SAMM50,PNN,PSMB4                                                                                                                                                                                                                                                                        \n",
       "71 ACACA                                                                                                                                                                                                                                                                                   \n",
       "72 UBE2J2,TCF7L2                                                                                                                                                                                                                                                                           \n",
       "   lv   \n",
       "1  LV707\n",
       "2  LV678\n",
       "3  LV612\n",
       "4  LV905\n",
       "5  LV678\n",
       "6  LV915\n",
       "7  LV915\n",
       "8  LV821\n",
       "9  LV750\n",
       "10 LV341\n",
       "11 LV520\n",
       "12 LV64 \n",
       "13 LV333\n",
       "14 LV736\n",
       "15 LV575\n",
       "16 LV259\n",
       "17 LV246\n",
       "18 LV70 \n",
       "19 LV115\n",
       "20 LV161\n",
       "21 LV509\n",
       "22 LV484\n",
       "23 LV897\n",
       "24 LV190\n",
       "25 LV421\n",
       "26 LV423\n",
       "27 LV525\n",
       "28 LV905\n",
       "29 LV22 \n",
       "30 LV349\n",
       "⋮  ⋮    \n",
       "43 LV7  \n",
       "44 LV550\n",
       "45 LV189\n",
       "46 LV504\n",
       "47 LV938\n",
       "48 LV181\n",
       "49 LV358\n",
       "50 LV137\n",
       "51 LV137\n",
       "52 LV607\n",
       "53 LV467\n",
       "54 LV122\n",
       "55 LV977\n",
       "56 LV686\n",
       "57 LV797\n",
       "58 LV739\n",
       "59 LV596\n",
       "60 LV615\n",
       "61 LV630\n",
       "62 LV469\n",
       "63 LV415\n",
       "64 LV415\n",
       "65 LV265\n",
       "66 LV157\n",
       "67 LV490\n",
       "68 LV240\n",
       "69 LV512\n",
       "70 LV469\n",
       "71 LV890\n",
       "72 LV491"
      ]
     },
     "metadata": {},
     "output_type": "display_data"
    }
   ],
   "source": [
    "df_signif[order(padj),]"
   ]
  },
  {
   "cell_type": "code",
   "execution_count": null,
   "metadata": {},
   "outputs": [],
   "source": []
  }
 ],
 "metadata": {
  "jupytext": {
   "cell_metadata_filter": "all,-execution,-papermill,-trusted",
   "formats": "ipynb,py//R:percent"
  },
  "kernelspec": {
   "display_name": "R",
   "language": "R",
   "name": "ir"
  },
  "language_info": {
   "codemirror_mode": "r",
   "file_extension": ".r",
   "mimetype": "text/x-r-source",
   "name": "R",
   "pygments_lexer": "r",
   "version": "3.6.3"
  }
 },
 "nbformat": 4,
 "nbformat_minor": 4
}
