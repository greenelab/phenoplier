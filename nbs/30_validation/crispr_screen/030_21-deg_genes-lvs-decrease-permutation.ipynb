{
 "cells": [
  {
   "cell_type": "markdown",
   "metadata": {
    "papermill": {
     "duration": 0.021092,
     "end_time": "2021-05-21T18:20:21.023542",
     "exception": false,
     "start_time": "2021-05-21T18:20:21.002450",
     "status": "completed"
    },
    "tags": []
   },
   "source": [
    "# Description"
   ]
  },
  {
   "cell_type": "markdown",
   "metadata": {
    "papermill": {
     "duration": 0.017101,
     "end_time": "2021-05-21T18:20:21.058106",
     "exception": false,
     "start_time": "2021-05-21T18:20:21.041005",
     "status": "completed"
    },
    "tags": []
   },
   "source": [
    "TODO"
   ]
  },
  {
   "cell_type": "markdown",
   "metadata": {
    "papermill": {
     "duration": 0.017089,
     "end_time": "2021-05-21T18:20:21.092406",
     "exception": false,
     "start_time": "2021-05-21T18:20:21.075317",
     "status": "completed"
    },
    "tags": []
   },
   "source": [
    "# Modules loading"
   ]
  },
  {
   "cell_type": "code",
   "execution_count": 1,
   "metadata": {
    "execution": {
     "iopub.execute_input": "2021-05-21T18:20:21.133813Z",
     "iopub.status.busy": "2021-05-21T18:20:21.133441Z",
     "iopub.status.idle": "2021-05-21T18:20:21.140970Z",
     "shell.execute_reply": "2021-05-21T18:20:21.140481Z"
    },
    "papermill": {
     "duration": 0.030854,
     "end_time": "2021-05-21T18:20:21.141059",
     "exception": false,
     "start_time": "2021-05-21T18:20:21.110205",
     "status": "completed"
    },
    "tags": []
   },
   "outputs": [],
   "source": [
    "%load_ext autoreload\n",
    "%autoreload 2"
   ]
  },
  {
   "cell_type": "code",
   "execution_count": 2,
   "metadata": {
    "execution": {
     "iopub.execute_input": "2021-05-21T18:20:21.179421Z",
     "iopub.status.busy": "2021-05-21T18:20:21.179059Z",
     "iopub.status.idle": "2021-05-21T18:20:21.555169Z",
     "shell.execute_reply": "2021-05-21T18:20:21.554757Z"
    },
    "papermill": {
     "duration": 0.396197,
     "end_time": "2021-05-21T18:20:21.555257",
     "exception": false,
     "start_time": "2021-05-21T18:20:21.159060",
     "status": "completed"
    },
    "tags": []
   },
   "outputs": [],
   "source": [
    "import pickle\n",
    "from pathlib import Path\n",
    "\n",
    "import numpy as np\n",
    "import pandas as pd\n",
    "from IPython.display import HTML\n",
    "from tqdm import tqdm\n",
    "\n",
    "from entity import Trait, Gene\n",
    "\n",
    "import conf"
   ]
  },
  {
   "cell_type": "markdown",
   "metadata": {
    "papermill": {
     "duration": 0.018359,
     "end_time": "2021-05-21T18:20:21.592604",
     "exception": false,
     "start_time": "2021-05-21T18:20:21.574245",
     "status": "completed"
    },
    "tags": []
   },
   "source": [
    "# Settings"
   ]
  },
  {
   "cell_type": "code",
   "execution_count": 3,
   "metadata": {
    "execution": {
     "iopub.execute_input": "2021-05-21T18:20:21.630956Z",
     "iopub.status.busy": "2021-05-21T18:20:21.630591Z",
     "iopub.status.idle": "2021-05-21T18:20:21.638018Z",
     "shell.execute_reply": "2021-05-21T18:20:21.637602Z"
    },
    "papermill": {
     "duration": 0.028081,
     "end_time": "2021-05-21T18:20:21.638103",
     "exception": false,
     "start_time": "2021-05-21T18:20:21.610022",
     "status": "completed"
    },
    "tags": []
   },
   "outputs": [],
   "source": [
    "EXPERIMENT_NAME = \"lv\"\n",
    "LIPIDS_GENE_SET = \"gene_set_decrease\""
   ]
  },
  {
   "cell_type": "code",
   "execution_count": 4,
   "metadata": {
    "execution": {
     "iopub.execute_input": "2021-05-21T18:20:21.677262Z",
     "iopub.status.busy": "2021-05-21T18:20:21.676899Z",
     "iopub.status.idle": "2021-05-21T18:20:21.684089Z",
     "shell.execute_reply": "2021-05-21T18:20:21.683719Z"
    },
    "papermill": {
     "duration": 0.027518,
     "end_time": "2021-05-21T18:20:21.684170",
     "exception": false,
     "start_time": "2021-05-21T18:20:21.656652",
     "status": "completed"
    },
    "tags": []
   },
   "outputs": [],
   "source": [
    "RANDOM_SEED = 0\n",
    "N_PERMUTATIONS = 1000\n",
    "N_TOP_TRAITS = 25"
   ]
  },
  {
   "cell_type": "code",
   "execution_count": 5,
   "metadata": {
    "execution": {
     "iopub.execute_input": "2021-05-21T18:20:21.722974Z",
     "iopub.status.busy": "2021-05-21T18:20:21.722609Z",
     "iopub.status.idle": "2021-05-21T18:20:21.734626Z",
     "shell.execute_reply": "2021-05-21T18:20:21.734249Z"
    },
    "papermill": {
     "duration": 0.032324,
     "end_time": "2021-05-21T18:20:21.734708",
     "exception": false,
     "start_time": "2021-05-21T18:20:21.702384",
     "status": "completed"
    },
    "tags": []
   },
   "outputs": [
    {
     "data": {
      "text/plain": [
       "PosixPath('/home/miltondp/projects/labs/greenelab/phenoplier/base/results/crispr_analyses/lv-gene_set_decrease/permutations')"
      ]
     },
     "metadata": {},
     "output_type": "display_data"
    }
   ],
   "source": [
    "OUTPUT_DIR = Path(\n",
    "    conf.RESULTS[\"CRISPR_ANALYSES\"][\"BASE_DIR\"],\n",
    "    f\"{EXPERIMENT_NAME}-{LIPIDS_GENE_SET}\",\n",
    "    \"permutations\",\n",
    ")\n",
    "OUTPUT_DIR.mkdir(exist_ok=True, parents=True)\n",
    "display(OUTPUT_DIR)"
   ]
  },
  {
   "cell_type": "code",
   "execution_count": 6,
   "metadata": {
    "execution": {
     "iopub.execute_input": "2021-05-21T18:20:21.774884Z",
     "iopub.status.busy": "2021-05-21T18:20:21.774508Z",
     "iopub.status.idle": "2021-05-21T18:20:21.781311Z",
     "shell.execute_reply": "2021-05-21T18:20:21.781585Z"
    },
    "papermill": {
     "duration": 0.027889,
     "end_time": "2021-05-21T18:20:21.781684",
     "exception": false,
     "start_time": "2021-05-21T18:20:21.753795",
     "status": "completed"
    },
    "tags": []
   },
   "outputs": [],
   "source": [
    "lipids_related_traits = {\n",
    "    \"celiac disease\",\n",
    "    \"4079_raw-Diastolic_blood_pressure_automated_reading\",\n",
    "    \"6150_100-Vascularheart_problems_diagnosed_by_doctor_None_of_the_above\",\n",
    "    \"I9_UAP-Unstable_angina_pectoris\",\n",
    "    \"6150_4-Vascularheart_problems_diagnosed_by_doctor_High_blood_pressure\",\n",
    "    \"malabsorption syndrome\",\n",
    "    \"K11_COELIAC-Coeliac_disease\",\n",
    "    \"hypertension\",\n",
    "    \"atherosclerosis\",\n",
    "    \"4080_raw-Systolic_blood_pressure_automated_reading\",\n",
    "}"
   ]
  },
  {
   "cell_type": "markdown",
   "metadata": {
    "papermill": {
     "duration": 0.017944,
     "end_time": "2021-05-21T18:20:21.818105",
     "exception": false,
     "start_time": "2021-05-21T18:20:21.800161",
     "status": "completed"
    },
    "tags": []
   },
   "source": [
    "# Data loading"
   ]
  },
  {
   "cell_type": "markdown",
   "metadata": {
    "papermill": {
     "duration": 0.017813,
     "end_time": "2021-05-21T18:20:21.854006",
     "exception": false,
     "start_time": "2021-05-21T18:20:21.836193",
     "status": "completed"
    },
    "tags": []
   },
   "source": [
    "## PhenomeXcan data (S-MultiXcan)"
   ]
  },
  {
   "cell_type": "code",
   "execution_count": 7,
   "metadata": {
    "execution": {
     "iopub.execute_input": "2021-05-21T18:20:21.892540Z",
     "iopub.status.busy": "2021-05-21T18:20:21.892176Z",
     "iopub.status.idle": "2021-05-21T18:20:21.900222Z",
     "shell.execute_reply": "2021-05-21T18:20:21.899846Z"
    },
    "papermill": {
     "duration": 0.028311,
     "end_time": "2021-05-21T18:20:21.900306",
     "exception": false,
     "start_time": "2021-05-21T18:20:21.871995",
     "status": "completed"
    },
    "tags": []
   },
   "outputs": [
    {
     "data": {
      "text/plain": [
       "PosixPath('/home/miltondp/projects/labs/greenelab/phenoplier/base/data/phenomexcan/gene_assoc/smultixcan-efo_partial-mashr-zscores.pkl')"
      ]
     },
     "metadata": {},
     "output_type": "display_data"
    }
   ],
   "source": [
    "smultixcan_results_filename = conf.PHENOMEXCAN[\n",
    "    \"SMULTIXCAN_EFO_PARTIAL_MASHR_ZSCORES_FILE\"\n",
    "]\n",
    "\n",
    "display(smultixcan_results_filename)"
   ]
  },
  {
   "cell_type": "code",
   "execution_count": 8,
   "metadata": {
    "execution": {
     "iopub.execute_input": "2021-05-21T18:20:21.939738Z",
     "iopub.status.busy": "2021-05-21T18:20:21.939334Z",
     "iopub.status.idle": "2021-05-21T18:20:21.947446Z",
     "shell.execute_reply": "2021-05-21T18:20:21.947099Z"
    },
    "papermill": {
     "duration": 0.028399,
     "end_time": "2021-05-21T18:20:21.947534",
     "exception": false,
     "start_time": "2021-05-21T18:20:21.919135",
     "status": "completed"
    },
    "tags": []
   },
   "outputs": [
    {
     "data": {
      "text/plain": [
       "'smultixcan-efo_partial-mashr-zscores'"
      ]
     },
     "metadata": {},
     "output_type": "display_data"
    }
   ],
   "source": [
    "results_filename_stem = smultixcan_results_filename.stem\n",
    "display(results_filename_stem)"
   ]
  },
  {
   "cell_type": "code",
   "execution_count": 9,
   "metadata": {
    "execution": {
     "iopub.execute_input": "2021-05-21T18:20:21.987991Z",
     "iopub.status.busy": "2021-05-21T18:20:21.987621Z",
     "iopub.status.idle": "2021-05-21T18:20:22.254360Z",
     "shell.execute_reply": "2021-05-21T18:20:22.253950Z"
    },
    "papermill": {
     "duration": 0.287479,
     "end_time": "2021-05-21T18:20:22.254459",
     "exception": false,
     "start_time": "2021-05-21T18:20:21.966980",
     "status": "completed"
    },
    "tags": []
   },
   "outputs": [],
   "source": [
    "smultixcan_results = pd.read_pickle(smultixcan_results_filename)"
   ]
  },
  {
   "cell_type": "code",
   "execution_count": 10,
   "metadata": {
    "execution": {
     "iopub.execute_input": "2021-05-21T18:20:22.304676Z",
     "iopub.status.busy": "2021-05-21T18:20:22.304249Z",
     "iopub.status.idle": "2021-05-21T18:20:22.312811Z",
     "shell.execute_reply": "2021-05-21T18:20:22.312397Z"
    },
    "papermill": {
     "duration": 0.034024,
     "end_time": "2021-05-21T18:20:22.312904",
     "exception": false,
     "start_time": "2021-05-21T18:20:22.278880",
     "status": "completed"
    },
    "tags": []
   },
   "outputs": [
    {
     "data": {
      "text/plain": [
       "(22515, 3752)"
      ]
     },
     "execution_count": 10,
     "metadata": {},
     "output_type": "execute_result"
    }
   ],
   "source": [
    "smultixcan_results.shape"
   ]
  },
  {
   "cell_type": "code",
   "execution_count": 11,
   "metadata": {
    "execution": {
     "iopub.execute_input": "2021-05-21T18:20:22.355369Z",
     "iopub.status.busy": "2021-05-21T18:20:22.355005Z",
     "iopub.status.idle": "2021-05-21T18:20:22.375581Z",
     "shell.execute_reply": "2021-05-21T18:20:22.375254Z"
    },
    "papermill": {
     "duration": 0.042176,
     "end_time": "2021-05-21T18:20:22.375665",
     "exception": false,
     "start_time": "2021-05-21T18:20:22.333489",
     "status": "completed"
    },
    "tags": []
   },
   "outputs": [
    {
     "data": {
      "text/html": [
       "<div>\n",
       "<style scoped>\n",
       "    .dataframe tbody tr th:only-of-type {\n",
       "        vertical-align: middle;\n",
       "    }\n",
       "\n",
       "    .dataframe tbody tr th {\n",
       "        vertical-align: top;\n",
       "    }\n",
       "\n",
       "    .dataframe thead th {\n",
       "        text-align: right;\n",
       "    }\n",
       "</style>\n",
       "<table border=\"1\" class=\"dataframe\">\n",
       "  <thead>\n",
       "    <tr style=\"text-align: right;\">\n",
       "      <th></th>\n",
       "      <th>100001_raw-Food_weight</th>\n",
       "      <th>100002_raw-Energy</th>\n",
       "      <th>100003_raw-Protein</th>\n",
       "      <th>100004_raw-Fat</th>\n",
       "      <th>100005_raw-Carbohydrate</th>\n",
       "      <th>100006_raw-Saturated_fat</th>\n",
       "      <th>100007_raw-Polyunsaturated_fat</th>\n",
       "      <th>100008_raw-Total_sugars</th>\n",
       "      <th>100009_raw-Englyst_dietary_fibre</th>\n",
       "      <th>100010-Portion_size</th>\n",
       "      <th>...</th>\n",
       "      <th>visual impairment</th>\n",
       "      <th>vitiligo</th>\n",
       "      <th>vitreous body disease</th>\n",
       "      <th>vocal cord polyp</th>\n",
       "      <th>voice disorders</th>\n",
       "      <th>wellbeing measurement AND family relationship</th>\n",
       "      <th>wheezing</th>\n",
       "      <th>whooping cough</th>\n",
       "      <th>worry measurement</th>\n",
       "      <th>wrist fracture</th>\n",
       "    </tr>\n",
       "    <tr>\n",
       "      <th>gene_name</th>\n",
       "      <th></th>\n",
       "      <th></th>\n",
       "      <th></th>\n",
       "      <th></th>\n",
       "      <th></th>\n",
       "      <th></th>\n",
       "      <th></th>\n",
       "      <th></th>\n",
       "      <th></th>\n",
       "      <th></th>\n",
       "      <th></th>\n",
       "      <th></th>\n",
       "      <th></th>\n",
       "      <th></th>\n",
       "      <th></th>\n",
       "      <th></th>\n",
       "      <th></th>\n",
       "      <th></th>\n",
       "      <th></th>\n",
       "      <th></th>\n",
       "      <th></th>\n",
       "    </tr>\n",
       "  </thead>\n",
       "  <tbody>\n",
       "    <tr>\n",
       "      <th>ENSG00000000419</th>\n",
       "      <td>1.145442</td>\n",
       "      <td>0.724557</td>\n",
       "      <td>0.090876</td>\n",
       "      <td>0.298165</td>\n",
       "      <td>1.134347</td>\n",
       "      <td>1.371138</td>\n",
       "      <td>0.065718</td>\n",
       "      <td>0.794317</td>\n",
       "      <td>0.600342</td>\n",
       "      <td>0.317652</td>\n",
       "      <td>...</td>\n",
       "      <td>0.360518</td>\n",
       "      <td>1.351624</td>\n",
       "      <td>1.157695</td>\n",
       "      <td>0.835289</td>\n",
       "      <td>1.173072</td>\n",
       "      <td>1.337280</td>\n",
       "      <td>1.743822</td>\n",
       "      <td>1.017226</td>\n",
       "      <td>1.512184</td>\n",
       "      <td>0.972241</td>\n",
       "    </tr>\n",
       "    <tr>\n",
       "      <th>ENSG00000000457</th>\n",
       "      <td>0.618066</td>\n",
       "      <td>1.028131</td>\n",
       "      <td>2.218420</td>\n",
       "      <td>0.762584</td>\n",
       "      <td>0.934418</td>\n",
       "      <td>0.192993</td>\n",
       "      <td>1.080230</td>\n",
       "      <td>0.765997</td>\n",
       "      <td>0.375898</td>\n",
       "      <td>0.678731</td>\n",
       "      <td>...</td>\n",
       "      <td>2.134504</td>\n",
       "      <td>0.127830</td>\n",
       "      <td>0.534690</td>\n",
       "      <td>0.120516</td>\n",
       "      <td>0.517464</td>\n",
       "      <td>2.545363</td>\n",
       "      <td>0.673331</td>\n",
       "      <td>2.003092</td>\n",
       "      <td>0.344000</td>\n",
       "      <td>2.033122</td>\n",
       "    </tr>\n",
       "    <tr>\n",
       "      <th>ENSG00000000460</th>\n",
       "      <td>0.515724</td>\n",
       "      <td>0.403596</td>\n",
       "      <td>1.251359</td>\n",
       "      <td>0.433091</td>\n",
       "      <td>0.413466</td>\n",
       "      <td>0.246261</td>\n",
       "      <td>1.236151</td>\n",
       "      <td>0.827430</td>\n",
       "      <td>0.571985</td>\n",
       "      <td>0.782174</td>\n",
       "      <td>...</td>\n",
       "      <td>1.768905</td>\n",
       "      <td>0.992408</td>\n",
       "      <td>0.548215</td>\n",
       "      <td>0.412341</td>\n",
       "      <td>1.499415</td>\n",
       "      <td>1.366780</td>\n",
       "      <td>0.443318</td>\n",
       "      <td>0.417630</td>\n",
       "      <td>0.225934</td>\n",
       "      <td>1.613246</td>\n",
       "    </tr>\n",
       "    <tr>\n",
       "      <th>ENSG00000000938</th>\n",
       "      <td>0.280781</td>\n",
       "      <td>0.253910</td>\n",
       "      <td>0.879148</td>\n",
       "      <td>0.352705</td>\n",
       "      <td>0.051846</td>\n",
       "      <td>0.184212</td>\n",
       "      <td>0.148566</td>\n",
       "      <td>0.009989</td>\n",
       "      <td>0.363751</td>\n",
       "      <td>0.374514</td>\n",
       "      <td>...</td>\n",
       "      <td>0.656552</td>\n",
       "      <td>2.046041</td>\n",
       "      <td>2.746832</td>\n",
       "      <td>0.108211</td>\n",
       "      <td>1.008258</td>\n",
       "      <td>0.755695</td>\n",
       "      <td>0.896228</td>\n",
       "      <td>0.875047</td>\n",
       "      <td>0.476405</td>\n",
       "      <td>1.693057</td>\n",
       "    </tr>\n",
       "    <tr>\n",
       "      <th>ENSG00000000971</th>\n",
       "      <td>0.548127</td>\n",
       "      <td>0.389877</td>\n",
       "      <td>0.723469</td>\n",
       "      <td>1.167250</td>\n",
       "      <td>0.315952</td>\n",
       "      <td>0.324939</td>\n",
       "      <td>1.613932</td>\n",
       "      <td>0.311432</td>\n",
       "      <td>0.333548</td>\n",
       "      <td>1.807243</td>\n",
       "      <td>...</td>\n",
       "      <td>0.260482</td>\n",
       "      <td>0.646204</td>\n",
       "      <td>1.080240</td>\n",
       "      <td>0.678330</td>\n",
       "      <td>1.465358</td>\n",
       "      <td>0.307672</td>\n",
       "      <td>0.118376</td>\n",
       "      <td>1.419812</td>\n",
       "      <td>0.000002</td>\n",
       "      <td>1.040737</td>\n",
       "    </tr>\n",
       "  </tbody>\n",
       "</table>\n",
       "<p>5 rows × 3752 columns</p>\n",
       "</div>"
      ],
      "text/plain": [
       "                 100001_raw-Food_weight  100002_raw-Energy  \\\n",
       "gene_name                                                    \n",
       "ENSG00000000419                1.145442           0.724557   \n",
       "ENSG00000000457                0.618066           1.028131   \n",
       "ENSG00000000460                0.515724           0.403596   \n",
       "ENSG00000000938                0.280781           0.253910   \n",
       "ENSG00000000971                0.548127           0.389877   \n",
       "\n",
       "                 100003_raw-Protein  100004_raw-Fat  100005_raw-Carbohydrate  \\\n",
       "gene_name                                                                      \n",
       "ENSG00000000419            0.090876        0.298165                 1.134347   \n",
       "ENSG00000000457            2.218420        0.762584                 0.934418   \n",
       "ENSG00000000460            1.251359        0.433091                 0.413466   \n",
       "ENSG00000000938            0.879148        0.352705                 0.051846   \n",
       "ENSG00000000971            0.723469        1.167250                 0.315952   \n",
       "\n",
       "                 100006_raw-Saturated_fat  100007_raw-Polyunsaturated_fat  \\\n",
       "gene_name                                                                   \n",
       "ENSG00000000419                  1.371138                        0.065718   \n",
       "ENSG00000000457                  0.192993                        1.080230   \n",
       "ENSG00000000460                  0.246261                        1.236151   \n",
       "ENSG00000000938                  0.184212                        0.148566   \n",
       "ENSG00000000971                  0.324939                        1.613932   \n",
       "\n",
       "                 100008_raw-Total_sugars  100009_raw-Englyst_dietary_fibre  \\\n",
       "gene_name                                                                    \n",
       "ENSG00000000419                 0.794317                          0.600342   \n",
       "ENSG00000000457                 0.765997                          0.375898   \n",
       "ENSG00000000460                 0.827430                          0.571985   \n",
       "ENSG00000000938                 0.009989                          0.363751   \n",
       "ENSG00000000971                 0.311432                          0.333548   \n",
       "\n",
       "                 100010-Portion_size  ...  visual impairment  vitiligo  \\\n",
       "gene_name                             ...                                \n",
       "ENSG00000000419             0.317652  ...           0.360518  1.351624   \n",
       "ENSG00000000457             0.678731  ...           2.134504  0.127830   \n",
       "ENSG00000000460             0.782174  ...           1.768905  0.992408   \n",
       "ENSG00000000938             0.374514  ...           0.656552  2.046041   \n",
       "ENSG00000000971             1.807243  ...           0.260482  0.646204   \n",
       "\n",
       "                 vitreous body disease  vocal cord polyp  voice disorders  \\\n",
       "gene_name                                                                   \n",
       "ENSG00000000419               1.157695          0.835289         1.173072   \n",
       "ENSG00000000457               0.534690          0.120516         0.517464   \n",
       "ENSG00000000460               0.548215          0.412341         1.499415   \n",
       "ENSG00000000938               2.746832          0.108211         1.008258   \n",
       "ENSG00000000971               1.080240          0.678330         1.465358   \n",
       "\n",
       "                 wellbeing measurement AND family relationship  wheezing  \\\n",
       "gene_name                                                                  \n",
       "ENSG00000000419                                       1.337280  1.743822   \n",
       "ENSG00000000457                                       2.545363  0.673331   \n",
       "ENSG00000000460                                       1.366780  0.443318   \n",
       "ENSG00000000938                                       0.755695  0.896228   \n",
       "ENSG00000000971                                       0.307672  0.118376   \n",
       "\n",
       "                 whooping cough  worry measurement  wrist fracture  \n",
       "gene_name                                                           \n",
       "ENSG00000000419        1.017226           1.512184        0.972241  \n",
       "ENSG00000000457        2.003092           0.344000        2.033122  \n",
       "ENSG00000000460        0.417630           0.225934        1.613246  \n",
       "ENSG00000000938        0.875047           0.476405        1.693057  \n",
       "ENSG00000000971        1.419812           0.000002        1.040737  \n",
       "\n",
       "[5 rows x 3752 columns]"
      ]
     },
     "execution_count": 11,
     "metadata": {},
     "output_type": "execute_result"
    }
   ],
   "source": [
    "smultixcan_results.head()"
   ]
  },
  {
   "cell_type": "markdown",
   "metadata": {
    "papermill": {
     "duration": 0.019679,
     "end_time": "2021-05-21T18:20:22.415470",
     "exception": false,
     "start_time": "2021-05-21T18:20:22.395791",
     "status": "completed"
    },
    "tags": []
   },
   "source": [
    "### Gene IDs to Gene names"
   ]
  },
  {
   "cell_type": "code",
   "execution_count": 12,
   "metadata": {
    "execution": {
     "iopub.execute_input": "2021-05-21T18:20:22.457258Z",
     "iopub.status.busy": "2021-05-21T18:20:22.456894Z",
     "iopub.status.idle": "2021-05-21T18:20:22.603210Z",
     "shell.execute_reply": "2021-05-21T18:20:22.602773Z"
    },
    "papermill": {
     "duration": 0.168008,
     "end_time": "2021-05-21T18:20:22.603306",
     "exception": false,
     "start_time": "2021-05-21T18:20:22.435298",
     "status": "completed"
    },
    "tags": []
   },
   "outputs": [],
   "source": [
    "smultixcan_results = smultixcan_results.rename(index=Gene.GENE_ID_TO_NAME_MAP)"
   ]
  },
  {
   "cell_type": "code",
   "execution_count": 13,
   "metadata": {
    "execution": {
     "iopub.execute_input": "2021-05-21T18:20:22.647521Z",
     "iopub.status.busy": "2021-05-21T18:20:22.647157Z",
     "iopub.status.idle": "2021-05-21T18:20:22.654526Z",
     "shell.execute_reply": "2021-05-21T18:20:22.654817Z"
    },
    "papermill": {
     "duration": 0.030051,
     "end_time": "2021-05-21T18:20:22.654922",
     "exception": false,
     "start_time": "2021-05-21T18:20:22.624871",
     "status": "completed"
    },
    "tags": []
   },
   "outputs": [
    {
     "data": {
      "text/plain": [
       "(22515, 3752)"
      ]
     },
     "execution_count": 13,
     "metadata": {},
     "output_type": "execute_result"
    }
   ],
   "source": [
    "smultixcan_results.shape"
   ]
  },
  {
   "cell_type": "code",
   "execution_count": 14,
   "metadata": {
    "execution": {
     "iopub.execute_input": "2021-05-21T18:20:22.697550Z",
     "iopub.status.busy": "2021-05-21T18:20:22.697186Z",
     "iopub.status.idle": "2021-05-21T18:20:22.716555Z",
     "shell.execute_reply": "2021-05-21T18:20:22.716190Z"
    },
    "papermill": {
     "duration": 0.041349,
     "end_time": "2021-05-21T18:20:22.716637",
     "exception": false,
     "start_time": "2021-05-21T18:20:22.675288",
     "status": "completed"
    },
    "tags": []
   },
   "outputs": [
    {
     "data": {
      "text/html": [
       "<div>\n",
       "<style scoped>\n",
       "    .dataframe tbody tr th:only-of-type {\n",
       "        vertical-align: middle;\n",
       "    }\n",
       "\n",
       "    .dataframe tbody tr th {\n",
       "        vertical-align: top;\n",
       "    }\n",
       "\n",
       "    .dataframe thead th {\n",
       "        text-align: right;\n",
       "    }\n",
       "</style>\n",
       "<table border=\"1\" class=\"dataframe\">\n",
       "  <thead>\n",
       "    <tr style=\"text-align: right;\">\n",
       "      <th></th>\n",
       "      <th>100001_raw-Food_weight</th>\n",
       "      <th>100002_raw-Energy</th>\n",
       "      <th>100003_raw-Protein</th>\n",
       "      <th>100004_raw-Fat</th>\n",
       "      <th>100005_raw-Carbohydrate</th>\n",
       "      <th>100006_raw-Saturated_fat</th>\n",
       "      <th>100007_raw-Polyunsaturated_fat</th>\n",
       "      <th>100008_raw-Total_sugars</th>\n",
       "      <th>100009_raw-Englyst_dietary_fibre</th>\n",
       "      <th>100010-Portion_size</th>\n",
       "      <th>...</th>\n",
       "      <th>visual impairment</th>\n",
       "      <th>vitiligo</th>\n",
       "      <th>vitreous body disease</th>\n",
       "      <th>vocal cord polyp</th>\n",
       "      <th>voice disorders</th>\n",
       "      <th>wellbeing measurement AND family relationship</th>\n",
       "      <th>wheezing</th>\n",
       "      <th>whooping cough</th>\n",
       "      <th>worry measurement</th>\n",
       "      <th>wrist fracture</th>\n",
       "    </tr>\n",
       "    <tr>\n",
       "      <th>gene_name</th>\n",
       "      <th></th>\n",
       "      <th></th>\n",
       "      <th></th>\n",
       "      <th></th>\n",
       "      <th></th>\n",
       "      <th></th>\n",
       "      <th></th>\n",
       "      <th></th>\n",
       "      <th></th>\n",
       "      <th></th>\n",
       "      <th></th>\n",
       "      <th></th>\n",
       "      <th></th>\n",
       "      <th></th>\n",
       "      <th></th>\n",
       "      <th></th>\n",
       "      <th></th>\n",
       "      <th></th>\n",
       "      <th></th>\n",
       "      <th></th>\n",
       "      <th></th>\n",
       "    </tr>\n",
       "  </thead>\n",
       "  <tbody>\n",
       "    <tr>\n",
       "      <th>DPM1</th>\n",
       "      <td>1.145442</td>\n",
       "      <td>0.724557</td>\n",
       "      <td>0.090876</td>\n",
       "      <td>0.298165</td>\n",
       "      <td>1.134347</td>\n",
       "      <td>1.371138</td>\n",
       "      <td>0.065718</td>\n",
       "      <td>0.794317</td>\n",
       "      <td>0.600342</td>\n",
       "      <td>0.317652</td>\n",
       "      <td>...</td>\n",
       "      <td>0.360518</td>\n",
       "      <td>1.351624</td>\n",
       "      <td>1.157695</td>\n",
       "      <td>0.835289</td>\n",
       "      <td>1.173072</td>\n",
       "      <td>1.337280</td>\n",
       "      <td>1.743822</td>\n",
       "      <td>1.017226</td>\n",
       "      <td>1.512184</td>\n",
       "      <td>0.972241</td>\n",
       "    </tr>\n",
       "    <tr>\n",
       "      <th>SCYL3</th>\n",
       "      <td>0.618066</td>\n",
       "      <td>1.028131</td>\n",
       "      <td>2.218420</td>\n",
       "      <td>0.762584</td>\n",
       "      <td>0.934418</td>\n",
       "      <td>0.192993</td>\n",
       "      <td>1.080230</td>\n",
       "      <td>0.765997</td>\n",
       "      <td>0.375898</td>\n",
       "      <td>0.678731</td>\n",
       "      <td>...</td>\n",
       "      <td>2.134504</td>\n",
       "      <td>0.127830</td>\n",
       "      <td>0.534690</td>\n",
       "      <td>0.120516</td>\n",
       "      <td>0.517464</td>\n",
       "      <td>2.545363</td>\n",
       "      <td>0.673331</td>\n",
       "      <td>2.003092</td>\n",
       "      <td>0.344000</td>\n",
       "      <td>2.033122</td>\n",
       "    </tr>\n",
       "    <tr>\n",
       "      <th>C1orf112</th>\n",
       "      <td>0.515724</td>\n",
       "      <td>0.403596</td>\n",
       "      <td>1.251359</td>\n",
       "      <td>0.433091</td>\n",
       "      <td>0.413466</td>\n",
       "      <td>0.246261</td>\n",
       "      <td>1.236151</td>\n",
       "      <td>0.827430</td>\n",
       "      <td>0.571985</td>\n",
       "      <td>0.782174</td>\n",
       "      <td>...</td>\n",
       "      <td>1.768905</td>\n",
       "      <td>0.992408</td>\n",
       "      <td>0.548215</td>\n",
       "      <td>0.412341</td>\n",
       "      <td>1.499415</td>\n",
       "      <td>1.366780</td>\n",
       "      <td>0.443318</td>\n",
       "      <td>0.417630</td>\n",
       "      <td>0.225934</td>\n",
       "      <td>1.613246</td>\n",
       "    </tr>\n",
       "    <tr>\n",
       "      <th>FGR</th>\n",
       "      <td>0.280781</td>\n",
       "      <td>0.253910</td>\n",
       "      <td>0.879148</td>\n",
       "      <td>0.352705</td>\n",
       "      <td>0.051846</td>\n",
       "      <td>0.184212</td>\n",
       "      <td>0.148566</td>\n",
       "      <td>0.009989</td>\n",
       "      <td>0.363751</td>\n",
       "      <td>0.374514</td>\n",
       "      <td>...</td>\n",
       "      <td>0.656552</td>\n",
       "      <td>2.046041</td>\n",
       "      <td>2.746832</td>\n",
       "      <td>0.108211</td>\n",
       "      <td>1.008258</td>\n",
       "      <td>0.755695</td>\n",
       "      <td>0.896228</td>\n",
       "      <td>0.875047</td>\n",
       "      <td>0.476405</td>\n",
       "      <td>1.693057</td>\n",
       "    </tr>\n",
       "    <tr>\n",
       "      <th>CFH</th>\n",
       "      <td>0.548127</td>\n",
       "      <td>0.389877</td>\n",
       "      <td>0.723469</td>\n",
       "      <td>1.167250</td>\n",
       "      <td>0.315952</td>\n",
       "      <td>0.324939</td>\n",
       "      <td>1.613932</td>\n",
       "      <td>0.311432</td>\n",
       "      <td>0.333548</td>\n",
       "      <td>1.807243</td>\n",
       "      <td>...</td>\n",
       "      <td>0.260482</td>\n",
       "      <td>0.646204</td>\n",
       "      <td>1.080240</td>\n",
       "      <td>0.678330</td>\n",
       "      <td>1.465358</td>\n",
       "      <td>0.307672</td>\n",
       "      <td>0.118376</td>\n",
       "      <td>1.419812</td>\n",
       "      <td>0.000002</td>\n",
       "      <td>1.040737</td>\n",
       "    </tr>\n",
       "  </tbody>\n",
       "</table>\n",
       "<p>5 rows × 3752 columns</p>\n",
       "</div>"
      ],
      "text/plain": [
       "           100001_raw-Food_weight  100002_raw-Energy  100003_raw-Protein  \\\n",
       "gene_name                                                                  \n",
       "DPM1                     1.145442           0.724557            0.090876   \n",
       "SCYL3                    0.618066           1.028131            2.218420   \n",
       "C1orf112                 0.515724           0.403596            1.251359   \n",
       "FGR                      0.280781           0.253910            0.879148   \n",
       "CFH                      0.548127           0.389877            0.723469   \n",
       "\n",
       "           100004_raw-Fat  100005_raw-Carbohydrate  100006_raw-Saturated_fat  \\\n",
       "gene_name                                                                      \n",
       "DPM1             0.298165                 1.134347                  1.371138   \n",
       "SCYL3            0.762584                 0.934418                  0.192993   \n",
       "C1orf112         0.433091                 0.413466                  0.246261   \n",
       "FGR              0.352705                 0.051846                  0.184212   \n",
       "CFH              1.167250                 0.315952                  0.324939   \n",
       "\n",
       "           100007_raw-Polyunsaturated_fat  100008_raw-Total_sugars  \\\n",
       "gene_name                                                            \n",
       "DPM1                             0.065718                 0.794317   \n",
       "SCYL3                            1.080230                 0.765997   \n",
       "C1orf112                         1.236151                 0.827430   \n",
       "FGR                              0.148566                 0.009989   \n",
       "CFH                              1.613932                 0.311432   \n",
       "\n",
       "           100009_raw-Englyst_dietary_fibre  100010-Portion_size  ...  \\\n",
       "gene_name                                                         ...   \n",
       "DPM1                               0.600342             0.317652  ...   \n",
       "SCYL3                              0.375898             0.678731  ...   \n",
       "C1orf112                           0.571985             0.782174  ...   \n",
       "FGR                                0.363751             0.374514  ...   \n",
       "CFH                                0.333548             1.807243  ...   \n",
       "\n",
       "           visual impairment  vitiligo  vitreous body disease  \\\n",
       "gene_name                                                       \n",
       "DPM1                0.360518  1.351624               1.157695   \n",
       "SCYL3               2.134504  0.127830               0.534690   \n",
       "C1orf112            1.768905  0.992408               0.548215   \n",
       "FGR                 0.656552  2.046041               2.746832   \n",
       "CFH                 0.260482  0.646204               1.080240   \n",
       "\n",
       "           vocal cord polyp  voice disorders  \\\n",
       "gene_name                                      \n",
       "DPM1               0.835289         1.173072   \n",
       "SCYL3              0.120516         0.517464   \n",
       "C1orf112           0.412341         1.499415   \n",
       "FGR                0.108211         1.008258   \n",
       "CFH                0.678330         1.465358   \n",
       "\n",
       "           wellbeing measurement AND family relationship  wheezing  \\\n",
       "gene_name                                                            \n",
       "DPM1                                            1.337280  1.743822   \n",
       "SCYL3                                           2.545363  0.673331   \n",
       "C1orf112                                        1.366780  0.443318   \n",
       "FGR                                             0.755695  0.896228   \n",
       "CFH                                             0.307672  0.118376   \n",
       "\n",
       "           whooping cough  worry measurement  wrist fracture  \n",
       "gene_name                                                     \n",
       "DPM1             1.017226           1.512184        0.972241  \n",
       "SCYL3            2.003092           0.344000        2.033122  \n",
       "C1orf112         0.417630           0.225934        1.613246  \n",
       "FGR              0.875047           0.476405        1.693057  \n",
       "CFH              1.419812           0.000002        1.040737  \n",
       "\n",
       "[5 rows x 3752 columns]"
      ]
     },
     "execution_count": 14,
     "metadata": {},
     "output_type": "execute_result"
    }
   ],
   "source": [
    "smultixcan_results.head()"
   ]
  },
  {
   "cell_type": "markdown",
   "metadata": {
    "papermill": {
     "duration": 0.02006,
     "end_time": "2021-05-21T18:20:22.758072",
     "exception": false,
     "start_time": "2021-05-21T18:20:22.738012",
     "status": "completed"
    },
    "tags": []
   },
   "source": [
    "### Remove duplicated gene entries"
   ]
  },
  {
   "cell_type": "code",
   "execution_count": 15,
   "metadata": {
    "execution": {
     "iopub.execute_input": "2021-05-21T18:20:22.800852Z",
     "iopub.status.busy": "2021-05-21T18:20:22.800423Z",
     "iopub.status.idle": "2021-05-21T18:20:22.812230Z",
     "shell.execute_reply": "2021-05-21T18:20:22.811857Z"
    },
    "papermill": {
     "duration": 0.034249,
     "end_time": "2021-05-21T18:20:22.812312",
     "exception": false,
     "start_time": "2021-05-21T18:20:22.778063",
     "status": "completed"
    },
    "tags": []
   },
   "outputs": [
    {
     "data": {
      "text/plain": [
       "Index(['SPATA13', 'LINC01422', 'LINC00484', 'MAL2', 'GOLGA8M', 'LINC01115',\n",
       "       'LYNX1'],\n",
       "      dtype='object', name='gene_name')"
      ]
     },
     "execution_count": 15,
     "metadata": {},
     "output_type": "execute_result"
    }
   ],
   "source": [
    "smultixcan_results.index[smultixcan_results.index.duplicated(keep=\"first\")]"
   ]
  },
  {
   "cell_type": "code",
   "execution_count": 16,
   "metadata": {
    "execution": {
     "iopub.execute_input": "2021-05-21T18:20:22.856263Z",
     "iopub.status.busy": "2021-05-21T18:20:22.855899Z",
     "iopub.status.idle": "2021-05-21T18:20:23.050914Z",
     "shell.execute_reply": "2021-05-21T18:20:23.050592Z"
    },
    "papermill": {
     "duration": 0.217497,
     "end_time": "2021-05-21T18:20:23.050998",
     "exception": false,
     "start_time": "2021-05-21T18:20:22.833501",
     "status": "completed"
    },
    "tags": []
   },
   "outputs": [],
   "source": [
    "smultixcan_results = smultixcan_results.loc[\n",
    "    ~smultixcan_results.index.duplicated(keep=\"first\")\n",
    "]"
   ]
  },
  {
   "cell_type": "code",
   "execution_count": 17,
   "metadata": {
    "execution": {
     "iopub.execute_input": "2021-05-21T18:20:23.094830Z",
     "iopub.status.busy": "2021-05-21T18:20:23.094471Z",
     "iopub.status.idle": "2021-05-21T18:20:23.102574Z",
     "shell.execute_reply": "2021-05-21T18:20:23.102202Z"
    },
    "papermill": {
     "duration": 0.030654,
     "end_time": "2021-05-21T18:20:23.102658",
     "exception": false,
     "start_time": "2021-05-21T18:20:23.072004",
     "status": "completed"
    },
    "tags": []
   },
   "outputs": [
    {
     "data": {
      "text/plain": [
       "(22508, 3752)"
      ]
     },
     "execution_count": 17,
     "metadata": {},
     "output_type": "execute_result"
    }
   ],
   "source": [
    "smultixcan_results.shape"
   ]
  },
  {
   "cell_type": "markdown",
   "metadata": {
    "papermill": {
     "duration": 0.020884,
     "end_time": "2021-05-21T18:20:23.144913",
     "exception": false,
     "start_time": "2021-05-21T18:20:23.124029",
     "status": "completed"
    },
    "tags": []
   },
   "source": [
    "### Some checks"
   ]
  },
  {
   "cell_type": "code",
   "execution_count": 18,
   "metadata": {
    "execution": {
     "iopub.execute_input": "2021-05-21T18:20:23.188853Z",
     "iopub.status.busy": "2021-05-21T18:20:23.188439Z",
     "iopub.status.idle": "2021-05-21T18:20:23.534707Z",
     "shell.execute_reply": "2021-05-21T18:20:23.534991Z"
    },
    "papermill": {
     "duration": 0.369609,
     "end_time": "2021-05-21T18:20:23.535097",
     "exception": false,
     "start_time": "2021-05-21T18:20:23.165488",
     "status": "completed"
    },
    "tags": []
   },
   "outputs": [],
   "source": [
    "# the data should have no NaN values\n",
    "assert smultixcan_results.shape == smultixcan_results.dropna(how=\"any\").shape"
   ]
  },
  {
   "cell_type": "markdown",
   "metadata": {
    "papermill": {
     "duration": 0.020703,
     "end_time": "2021-05-21T18:20:23.576892",
     "exception": false,
     "start_time": "2021-05-21T18:20:23.556189",
     "status": "completed"
    },
    "tags": []
   },
   "source": [
    "### Standardize S-MultiXcan results"
   ]
  },
  {
   "cell_type": "code",
   "execution_count": 19,
   "metadata": {
    "execution": {
     "iopub.execute_input": "2021-05-21T18:20:23.620975Z",
     "iopub.status.busy": "2021-05-21T18:20:23.620551Z",
     "iopub.status.idle": "2021-05-21T18:20:25.565571Z",
     "shell.execute_reply": "2021-05-21T18:20:25.565182Z"
    },
    "papermill": {
     "duration": 1.967968,
     "end_time": "2021-05-21T18:20:25.565677",
     "exception": false,
     "start_time": "2021-05-21T18:20:23.597709",
     "status": "completed"
    },
    "tags": []
   },
   "outputs": [],
   "source": [
    "_tmp = smultixcan_results.apply(lambda x: x / x.sum())"
   ]
  },
  {
   "cell_type": "code",
   "execution_count": 20,
   "metadata": {
    "execution": {
     "iopub.execute_input": "2021-05-21T18:20:25.616827Z",
     "iopub.status.busy": "2021-05-21T18:20:25.616385Z",
     "iopub.status.idle": "2021-05-21T18:20:25.624378Z",
     "shell.execute_reply": "2021-05-21T18:20:25.623994Z"
    },
    "papermill": {
     "duration": 0.032303,
     "end_time": "2021-05-21T18:20:25.624464",
     "exception": false,
     "start_time": "2021-05-21T18:20:25.592161",
     "status": "completed"
    },
    "tags": []
   },
   "outputs": [
    {
     "data": {
      "text/plain": [
       "(22508, 3752)"
      ]
     },
     "execution_count": 20,
     "metadata": {},
     "output_type": "execute_result"
    }
   ],
   "source": [
    "_tmp.shape"
   ]
  },
  {
   "cell_type": "code",
   "execution_count": 21,
   "metadata": {
    "execution": {
     "iopub.execute_input": "2021-05-21T18:20:25.669508Z",
     "iopub.status.busy": "2021-05-21T18:20:25.669150Z",
     "iopub.status.idle": "2021-05-21T18:20:25.676312Z",
     "shell.execute_reply": "2021-05-21T18:20:25.675944Z"
    },
    "papermill": {
     "duration": 0.03028,
     "end_time": "2021-05-21T18:20:25.676394",
     "exception": false,
     "start_time": "2021-05-21T18:20:25.646114",
     "status": "completed"
    },
    "tags": []
   },
   "outputs": [],
   "source": [
    "assert _tmp.shape == smultixcan_results.shape"
   ]
  },
  {
   "cell_type": "code",
   "execution_count": 22,
   "metadata": {
    "execution": {
     "iopub.execute_input": "2021-05-21T18:20:25.722658Z",
     "iopub.status.busy": "2021-05-21T18:20:25.722282Z",
     "iopub.status.idle": "2021-05-21T18:20:25.730450Z",
     "shell.execute_reply": "2021-05-21T18:20:25.730077Z"
    },
    "papermill": {
     "duration": 0.031945,
     "end_time": "2021-05-21T18:20:25.730536",
     "exception": false,
     "start_time": "2021-05-21T18:20:25.698591",
     "status": "completed"
    },
    "tags": []
   },
   "outputs": [],
   "source": [
    "smultixcan_results = _tmp"
   ]
  },
  {
   "cell_type": "code",
   "execution_count": 23,
   "metadata": {
    "execution": {
     "iopub.execute_input": "2021-05-21T18:20:25.775128Z",
     "iopub.status.busy": "2021-05-21T18:20:25.774757Z",
     "iopub.status.idle": "2021-05-21T18:20:25.793403Z",
     "shell.execute_reply": "2021-05-21T18:20:25.793681Z"
    },
    "papermill": {
     "duration": 0.042021,
     "end_time": "2021-05-21T18:20:25.793784",
     "exception": false,
     "start_time": "2021-05-21T18:20:25.751763",
     "status": "completed"
    },
    "tags": []
   },
   "outputs": [
    {
     "data": {
      "text/html": [
       "<div>\n",
       "<style scoped>\n",
       "    .dataframe tbody tr th:only-of-type {\n",
       "        vertical-align: middle;\n",
       "    }\n",
       "\n",
       "    .dataframe tbody tr th {\n",
       "        vertical-align: top;\n",
       "    }\n",
       "\n",
       "    .dataframe thead th {\n",
       "        text-align: right;\n",
       "    }\n",
       "</style>\n",
       "<table border=\"1\" class=\"dataframe\">\n",
       "  <thead>\n",
       "    <tr style=\"text-align: right;\">\n",
       "      <th></th>\n",
       "      <th>100001_raw-Food_weight</th>\n",
       "      <th>100002_raw-Energy</th>\n",
       "      <th>100003_raw-Protein</th>\n",
       "      <th>100004_raw-Fat</th>\n",
       "      <th>100005_raw-Carbohydrate</th>\n",
       "      <th>100006_raw-Saturated_fat</th>\n",
       "      <th>100007_raw-Polyunsaturated_fat</th>\n",
       "      <th>100008_raw-Total_sugars</th>\n",
       "      <th>100009_raw-Englyst_dietary_fibre</th>\n",
       "      <th>100010-Portion_size</th>\n",
       "      <th>...</th>\n",
       "      <th>visual impairment</th>\n",
       "      <th>vitiligo</th>\n",
       "      <th>vitreous body disease</th>\n",
       "      <th>vocal cord polyp</th>\n",
       "      <th>voice disorders</th>\n",
       "      <th>wellbeing measurement AND family relationship</th>\n",
       "      <th>wheezing</th>\n",
       "      <th>whooping cough</th>\n",
       "      <th>worry measurement</th>\n",
       "      <th>wrist fracture</th>\n",
       "    </tr>\n",
       "    <tr>\n",
       "      <th>gene_name</th>\n",
       "      <th></th>\n",
       "      <th></th>\n",
       "      <th></th>\n",
       "      <th></th>\n",
       "      <th></th>\n",
       "      <th></th>\n",
       "      <th></th>\n",
       "      <th></th>\n",
       "      <th></th>\n",
       "      <th></th>\n",
       "      <th></th>\n",
       "      <th></th>\n",
       "      <th></th>\n",
       "      <th></th>\n",
       "      <th></th>\n",
       "      <th></th>\n",
       "      <th></th>\n",
       "      <th></th>\n",
       "      <th></th>\n",
       "      <th></th>\n",
       "      <th></th>\n",
       "    </tr>\n",
       "  </thead>\n",
       "  <tbody>\n",
       "    <tr>\n",
       "      <th>DPM1</th>\n",
       "      <td>0.000060</td>\n",
       "      <td>0.000039</td>\n",
       "      <td>0.000005</td>\n",
       "      <td>0.000016</td>\n",
       "      <td>0.000061</td>\n",
       "      <td>0.000075</td>\n",
       "      <td>0.000004</td>\n",
       "      <td>4.254814e-05</td>\n",
       "      <td>0.000031</td>\n",
       "      <td>0.000017</td>\n",
       "      <td>...</td>\n",
       "      <td>0.000020</td>\n",
       "      <td>0.000075</td>\n",
       "      <td>0.000064</td>\n",
       "      <td>0.000047</td>\n",
       "      <td>0.000066</td>\n",
       "      <td>0.000066</td>\n",
       "      <td>0.000069</td>\n",
       "      <td>0.000058</td>\n",
       "      <td>6.250232e-05</td>\n",
       "      <td>0.000034</td>\n",
       "    </tr>\n",
       "    <tr>\n",
       "      <th>SCYL3</th>\n",
       "      <td>0.000033</td>\n",
       "      <td>0.000055</td>\n",
       "      <td>0.000119</td>\n",
       "      <td>0.000041</td>\n",
       "      <td>0.000050</td>\n",
       "      <td>0.000011</td>\n",
       "      <td>0.000059</td>\n",
       "      <td>4.103114e-05</td>\n",
       "      <td>0.000020</td>\n",
       "      <td>0.000036</td>\n",
       "      <td>...</td>\n",
       "      <td>0.000118</td>\n",
       "      <td>0.000007</td>\n",
       "      <td>0.000030</td>\n",
       "      <td>0.000007</td>\n",
       "      <td>0.000029</td>\n",
       "      <td>0.000126</td>\n",
       "      <td>0.000027</td>\n",
       "      <td>0.000114</td>\n",
       "      <td>1.421837e-05</td>\n",
       "      <td>0.000070</td>\n",
       "    </tr>\n",
       "    <tr>\n",
       "      <th>C1orf112</th>\n",
       "      <td>0.000027</td>\n",
       "      <td>0.000022</td>\n",
       "      <td>0.000067</td>\n",
       "      <td>0.000023</td>\n",
       "      <td>0.000022</td>\n",
       "      <td>0.000014</td>\n",
       "      <td>0.000067</td>\n",
       "      <td>4.432186e-05</td>\n",
       "      <td>0.000030</td>\n",
       "      <td>0.000041</td>\n",
       "      <td>...</td>\n",
       "      <td>0.000098</td>\n",
       "      <td>0.000055</td>\n",
       "      <td>0.000030</td>\n",
       "      <td>0.000023</td>\n",
       "      <td>0.000084</td>\n",
       "      <td>0.000068</td>\n",
       "      <td>0.000018</td>\n",
       "      <td>0.000024</td>\n",
       "      <td>9.338414e-06</td>\n",
       "      <td>0.000056</td>\n",
       "    </tr>\n",
       "    <tr>\n",
       "      <th>FGR</th>\n",
       "      <td>0.000015</td>\n",
       "      <td>0.000014</td>\n",
       "      <td>0.000047</td>\n",
       "      <td>0.000019</td>\n",
       "      <td>0.000003</td>\n",
       "      <td>0.000010</td>\n",
       "      <td>0.000008</td>\n",
       "      <td>5.350929e-07</td>\n",
       "      <td>0.000019</td>\n",
       "      <td>0.000020</td>\n",
       "      <td>...</td>\n",
       "      <td>0.000036</td>\n",
       "      <td>0.000114</td>\n",
       "      <td>0.000152</td>\n",
       "      <td>0.000006</td>\n",
       "      <td>0.000057</td>\n",
       "      <td>0.000038</td>\n",
       "      <td>0.000035</td>\n",
       "      <td>0.000050</td>\n",
       "      <td>1.969101e-05</td>\n",
       "      <td>0.000058</td>\n",
       "    </tr>\n",
       "    <tr>\n",
       "      <th>CFH</th>\n",
       "      <td>0.000029</td>\n",
       "      <td>0.000021</td>\n",
       "      <td>0.000039</td>\n",
       "      <td>0.000063</td>\n",
       "      <td>0.000017</td>\n",
       "      <td>0.000018</td>\n",
       "      <td>0.000088</td>\n",
       "      <td>1.668206e-05</td>\n",
       "      <td>0.000017</td>\n",
       "      <td>0.000095</td>\n",
       "      <td>...</td>\n",
       "      <td>0.000014</td>\n",
       "      <td>0.000036</td>\n",
       "      <td>0.000060</td>\n",
       "      <td>0.000038</td>\n",
       "      <td>0.000083</td>\n",
       "      <td>0.000015</td>\n",
       "      <td>0.000005</td>\n",
       "      <td>0.000081</td>\n",
       "      <td>8.895497e-11</td>\n",
       "      <td>0.000036</td>\n",
       "    </tr>\n",
       "  </tbody>\n",
       "</table>\n",
       "<p>5 rows × 3752 columns</p>\n",
       "</div>"
      ],
      "text/plain": [
       "           100001_raw-Food_weight  100002_raw-Energy  100003_raw-Protein  \\\n",
       "gene_name                                                                  \n",
       "DPM1                     0.000060           0.000039            0.000005   \n",
       "SCYL3                    0.000033           0.000055            0.000119   \n",
       "C1orf112                 0.000027           0.000022            0.000067   \n",
       "FGR                      0.000015           0.000014            0.000047   \n",
       "CFH                      0.000029           0.000021            0.000039   \n",
       "\n",
       "           100004_raw-Fat  100005_raw-Carbohydrate  100006_raw-Saturated_fat  \\\n",
       "gene_name                                                                      \n",
       "DPM1             0.000016                 0.000061                  0.000075   \n",
       "SCYL3            0.000041                 0.000050                  0.000011   \n",
       "C1orf112         0.000023                 0.000022                  0.000014   \n",
       "FGR              0.000019                 0.000003                  0.000010   \n",
       "CFH              0.000063                 0.000017                  0.000018   \n",
       "\n",
       "           100007_raw-Polyunsaturated_fat  100008_raw-Total_sugars  \\\n",
       "gene_name                                                            \n",
       "DPM1                             0.000004             4.254814e-05   \n",
       "SCYL3                            0.000059             4.103114e-05   \n",
       "C1orf112                         0.000067             4.432186e-05   \n",
       "FGR                              0.000008             5.350929e-07   \n",
       "CFH                              0.000088             1.668206e-05   \n",
       "\n",
       "           100009_raw-Englyst_dietary_fibre  100010-Portion_size  ...  \\\n",
       "gene_name                                                         ...   \n",
       "DPM1                               0.000031             0.000017  ...   \n",
       "SCYL3                              0.000020             0.000036  ...   \n",
       "C1orf112                           0.000030             0.000041  ...   \n",
       "FGR                                0.000019             0.000020  ...   \n",
       "CFH                                0.000017             0.000095  ...   \n",
       "\n",
       "           visual impairment  vitiligo  vitreous body disease  \\\n",
       "gene_name                                                       \n",
       "DPM1                0.000020  0.000075               0.000064   \n",
       "SCYL3               0.000118  0.000007               0.000030   \n",
       "C1orf112            0.000098  0.000055               0.000030   \n",
       "FGR                 0.000036  0.000114               0.000152   \n",
       "CFH                 0.000014  0.000036               0.000060   \n",
       "\n",
       "           vocal cord polyp  voice disorders  \\\n",
       "gene_name                                      \n",
       "DPM1               0.000047         0.000066   \n",
       "SCYL3              0.000007         0.000029   \n",
       "C1orf112           0.000023         0.000084   \n",
       "FGR                0.000006         0.000057   \n",
       "CFH                0.000038         0.000083   \n",
       "\n",
       "           wellbeing measurement AND family relationship  wheezing  \\\n",
       "gene_name                                                            \n",
       "DPM1                                            0.000066  0.000069   \n",
       "SCYL3                                           0.000126  0.000027   \n",
       "C1orf112                                        0.000068  0.000018   \n",
       "FGR                                             0.000038  0.000035   \n",
       "CFH                                             0.000015  0.000005   \n",
       "\n",
       "           whooping cough  worry measurement  wrist fracture  \n",
       "gene_name                                                     \n",
       "DPM1             0.000058       6.250232e-05        0.000034  \n",
       "SCYL3            0.000114       1.421837e-05        0.000070  \n",
       "C1orf112         0.000024       9.338414e-06        0.000056  \n",
       "FGR              0.000050       1.969101e-05        0.000058  \n",
       "CFH              0.000081       8.895497e-11        0.000036  \n",
       "\n",
       "[5 rows x 3752 columns]"
      ]
     },
     "execution_count": 23,
     "metadata": {},
     "output_type": "execute_result"
    }
   ],
   "source": [
    "smultixcan_results.head()"
   ]
  },
  {
   "cell_type": "markdown",
   "metadata": {
    "papermill": {
     "duration": 0.021566,
     "end_time": "2021-05-21T18:20:25.837859",
     "exception": false,
     "start_time": "2021-05-21T18:20:25.816293",
     "status": "completed"
    },
    "tags": []
   },
   "source": [
    "## MultiPLIER Z matrix"
   ]
  },
  {
   "cell_type": "code",
   "execution_count": 24,
   "metadata": {
    "execution": {
     "iopub.execute_input": "2021-05-21T18:20:25.882942Z",
     "iopub.status.busy": "2021-05-21T18:20:25.882580Z",
     "iopub.status.idle": "2021-05-21T18:20:25.898607Z",
     "shell.execute_reply": "2021-05-21T18:20:25.898934Z"
    },
    "papermill": {
     "duration": 0.039986,
     "end_time": "2021-05-21T18:20:25.899052",
     "exception": false,
     "start_time": "2021-05-21T18:20:25.859066",
     "status": "completed"
    },
    "tags": []
   },
   "outputs": [],
   "source": [
    "multiplier_z = pd.read_pickle(conf.MULTIPLIER[\"MODEL_Z_MATRIX_FILE\"])"
   ]
  },
  {
   "cell_type": "code",
   "execution_count": 25,
   "metadata": {
    "execution": {
     "iopub.execute_input": "2021-05-21T18:20:25.947016Z",
     "iopub.status.busy": "2021-05-21T18:20:25.946658Z",
     "iopub.status.idle": "2021-05-21T18:20:25.954095Z",
     "shell.execute_reply": "2021-05-21T18:20:25.954376Z"
    },
    "papermill": {
     "duration": 0.0313,
     "end_time": "2021-05-21T18:20:25.954479",
     "exception": false,
     "start_time": "2021-05-21T18:20:25.923179",
     "status": "completed"
    },
    "tags": []
   },
   "outputs": [
    {
     "data": {
      "text/plain": [
       "(6750, 987)"
      ]
     },
     "execution_count": 25,
     "metadata": {},
     "output_type": "execute_result"
    }
   ],
   "source": [
    "multiplier_z.shape"
   ]
  },
  {
   "cell_type": "code",
   "execution_count": 26,
   "metadata": {
    "execution": {
     "iopub.execute_input": "2021-05-21T18:20:26.001791Z",
     "iopub.status.busy": "2021-05-21T18:20:26.001432Z",
     "iopub.status.idle": "2021-05-21T18:20:26.020545Z",
     "shell.execute_reply": "2021-05-21T18:20:26.020232Z"
    },
    "papermill": {
     "duration": 0.043144,
     "end_time": "2021-05-21T18:20:26.020627",
     "exception": false,
     "start_time": "2021-05-21T18:20:25.977483",
     "status": "completed"
    },
    "tags": []
   },
   "outputs": [
    {
     "data": {
      "text/html": [
       "<div>\n",
       "<style scoped>\n",
       "    .dataframe tbody tr th:only-of-type {\n",
       "        vertical-align: middle;\n",
       "    }\n",
       "\n",
       "    .dataframe tbody tr th {\n",
       "        vertical-align: top;\n",
       "    }\n",
       "\n",
       "    .dataframe thead th {\n",
       "        text-align: right;\n",
       "    }\n",
       "</style>\n",
       "<table border=\"1\" class=\"dataframe\">\n",
       "  <thead>\n",
       "    <tr style=\"text-align: right;\">\n",
       "      <th></th>\n",
       "      <th>LV1</th>\n",
       "      <th>LV2</th>\n",
       "      <th>LV3</th>\n",
       "      <th>LV4</th>\n",
       "      <th>LV5</th>\n",
       "      <th>LV6</th>\n",
       "      <th>LV7</th>\n",
       "      <th>LV8</th>\n",
       "      <th>LV9</th>\n",
       "      <th>LV10</th>\n",
       "      <th>...</th>\n",
       "      <th>LV978</th>\n",
       "      <th>LV979</th>\n",
       "      <th>LV980</th>\n",
       "      <th>LV981</th>\n",
       "      <th>LV982</th>\n",
       "      <th>LV983</th>\n",
       "      <th>LV984</th>\n",
       "      <th>LV985</th>\n",
       "      <th>LV986</th>\n",
       "      <th>LV987</th>\n",
       "    </tr>\n",
       "  </thead>\n",
       "  <tbody>\n",
       "    <tr>\n",
       "      <th>GAS6</th>\n",
       "      <td>0.000000</td>\n",
       "      <td>0.0</td>\n",
       "      <td>0.039438</td>\n",
       "      <td>0.0</td>\n",
       "      <td>0.050476</td>\n",
       "      <td>0.000000</td>\n",
       "      <td>0.0</td>\n",
       "      <td>0.000000</td>\n",
       "      <td>0.590949</td>\n",
       "      <td>0.000000</td>\n",
       "      <td>...</td>\n",
       "      <td>0.050125</td>\n",
       "      <td>0.00000</td>\n",
       "      <td>0.033407</td>\n",
       "      <td>0.000000</td>\n",
       "      <td>0.000000</td>\n",
       "      <td>0.005963</td>\n",
       "      <td>0.347362</td>\n",
       "      <td>0.0</td>\n",
       "      <td>0.000000</td>\n",
       "      <td>0.000000</td>\n",
       "    </tr>\n",
       "    <tr>\n",
       "      <th>MMP14</th>\n",
       "      <td>0.000000</td>\n",
       "      <td>0.0</td>\n",
       "      <td>0.000000</td>\n",
       "      <td>0.0</td>\n",
       "      <td>0.070072</td>\n",
       "      <td>0.000000</td>\n",
       "      <td>0.0</td>\n",
       "      <td>0.004904</td>\n",
       "      <td>1.720179</td>\n",
       "      <td>2.423595</td>\n",
       "      <td>...</td>\n",
       "      <td>0.000000</td>\n",
       "      <td>0.00000</td>\n",
       "      <td>0.001007</td>\n",
       "      <td>0.000000</td>\n",
       "      <td>0.035747</td>\n",
       "      <td>0.000000</td>\n",
       "      <td>0.000000</td>\n",
       "      <td>0.0</td>\n",
       "      <td>0.014978</td>\n",
       "      <td>0.000000</td>\n",
       "    </tr>\n",
       "    <tr>\n",
       "      <th>DSP</th>\n",
       "      <td>0.000000</td>\n",
       "      <td>0.0</td>\n",
       "      <td>0.000000</td>\n",
       "      <td>0.0</td>\n",
       "      <td>0.000000</td>\n",
       "      <td>0.041697</td>\n",
       "      <td>0.0</td>\n",
       "      <td>0.005718</td>\n",
       "      <td>0.000000</td>\n",
       "      <td>0.000000</td>\n",
       "      <td>...</td>\n",
       "      <td>0.020853</td>\n",
       "      <td>0.00000</td>\n",
       "      <td>0.000000</td>\n",
       "      <td>0.000000</td>\n",
       "      <td>0.000000</td>\n",
       "      <td>0.005774</td>\n",
       "      <td>0.000000</td>\n",
       "      <td>0.0</td>\n",
       "      <td>0.000000</td>\n",
       "      <td>0.416405</td>\n",
       "    </tr>\n",
       "    <tr>\n",
       "      <th>MARCKSL1</th>\n",
       "      <td>0.305212</td>\n",
       "      <td>0.0</td>\n",
       "      <td>0.000000</td>\n",
       "      <td>0.0</td>\n",
       "      <td>0.000000</td>\n",
       "      <td>0.000000</td>\n",
       "      <td>0.0</td>\n",
       "      <td>0.000000</td>\n",
       "      <td>0.161843</td>\n",
       "      <td>0.149471</td>\n",
       "      <td>...</td>\n",
       "      <td>0.027134</td>\n",
       "      <td>0.05272</td>\n",
       "      <td>0.000000</td>\n",
       "      <td>0.030189</td>\n",
       "      <td>0.060884</td>\n",
       "      <td>0.000000</td>\n",
       "      <td>0.000000</td>\n",
       "      <td>0.0</td>\n",
       "      <td>0.000000</td>\n",
       "      <td>0.448480</td>\n",
       "    </tr>\n",
       "    <tr>\n",
       "      <th>SPARC</th>\n",
       "      <td>0.000000</td>\n",
       "      <td>0.0</td>\n",
       "      <td>0.000000</td>\n",
       "      <td>0.0</td>\n",
       "      <td>0.000000</td>\n",
       "      <td>0.000000</td>\n",
       "      <td>0.0</td>\n",
       "      <td>0.000000</td>\n",
       "      <td>0.000000</td>\n",
       "      <td>0.014014</td>\n",
       "      <td>...</td>\n",
       "      <td>0.000000</td>\n",
       "      <td>0.00000</td>\n",
       "      <td>0.000000</td>\n",
       "      <td>0.000000</td>\n",
       "      <td>0.000000</td>\n",
       "      <td>0.000000</td>\n",
       "      <td>0.067779</td>\n",
       "      <td>0.0</td>\n",
       "      <td>0.122417</td>\n",
       "      <td>0.062665</td>\n",
       "    </tr>\n",
       "  </tbody>\n",
       "</table>\n",
       "<p>5 rows × 987 columns</p>\n",
       "</div>"
      ],
      "text/plain": [
       "               LV1  LV2       LV3  LV4       LV5       LV6  LV7       LV8  \\\n",
       "GAS6      0.000000  0.0  0.039438  0.0  0.050476  0.000000  0.0  0.000000   \n",
       "MMP14     0.000000  0.0  0.000000  0.0  0.070072  0.000000  0.0  0.004904   \n",
       "DSP       0.000000  0.0  0.000000  0.0  0.000000  0.041697  0.0  0.005718   \n",
       "MARCKSL1  0.305212  0.0  0.000000  0.0  0.000000  0.000000  0.0  0.000000   \n",
       "SPARC     0.000000  0.0  0.000000  0.0  0.000000  0.000000  0.0  0.000000   \n",
       "\n",
       "               LV9      LV10  ...     LV978    LV979     LV980     LV981  \\\n",
       "GAS6      0.590949  0.000000  ...  0.050125  0.00000  0.033407  0.000000   \n",
       "MMP14     1.720179  2.423595  ...  0.000000  0.00000  0.001007  0.000000   \n",
       "DSP       0.000000  0.000000  ...  0.020853  0.00000  0.000000  0.000000   \n",
       "MARCKSL1  0.161843  0.149471  ...  0.027134  0.05272  0.000000  0.030189   \n",
       "SPARC     0.000000  0.014014  ...  0.000000  0.00000  0.000000  0.000000   \n",
       "\n",
       "             LV982     LV983     LV984  LV985     LV986     LV987  \n",
       "GAS6      0.000000  0.005963  0.347362    0.0  0.000000  0.000000  \n",
       "MMP14     0.035747  0.000000  0.000000    0.0  0.014978  0.000000  \n",
       "DSP       0.000000  0.005774  0.000000    0.0  0.000000  0.416405  \n",
       "MARCKSL1  0.060884  0.000000  0.000000    0.0  0.000000  0.448480  \n",
       "SPARC     0.000000  0.000000  0.067779    0.0  0.122417  0.062665  \n",
       "\n",
       "[5 rows x 987 columns]"
      ]
     },
     "execution_count": 26,
     "metadata": {},
     "output_type": "execute_result"
    }
   ],
   "source": [
    "multiplier_z.head()"
   ]
  },
  {
   "cell_type": "markdown",
   "metadata": {
    "papermill": {
     "duration": 0.023575,
     "end_time": "2021-05-21T18:20:26.066776",
     "exception": false,
     "start_time": "2021-05-21T18:20:26.043201",
     "status": "completed"
    },
    "tags": []
   },
   "source": [
    "## PhenomeXcan projection"
   ]
  },
  {
   "cell_type": "code",
   "execution_count": 27,
   "metadata": {
    "execution": {
     "iopub.execute_input": "2021-05-21T18:20:26.118500Z",
     "iopub.status.busy": "2021-05-21T18:20:26.118134Z",
     "iopub.status.idle": "2021-05-21T18:20:26.126309Z",
     "shell.execute_reply": "2021-05-21T18:20:26.126018Z"
    },
    "papermill": {
     "duration": 0.03342,
     "end_time": "2021-05-21T18:20:26.126392",
     "exception": false,
     "start_time": "2021-05-21T18:20:26.092972",
     "status": "completed"
    },
    "tags": []
   },
   "outputs": [
    {
     "data": {
      "text/plain": [
       "PosixPath('/home/miltondp/projects/labs/greenelab/phenoplier/base/results/projections/projection-smultixcan-efo_partial-mashr-zscores.pkl')"
      ]
     },
     "metadata": {},
     "output_type": "display_data"
    }
   ],
   "source": [
    "input_filepath = Path(\n",
    "    conf.RESULTS[\"PROJECTIONS_DIR\"],\n",
    "    \"projection-smultixcan-efo_partial-mashr-zscores.pkl\",\n",
    ").resolve()\n",
    "display(input_filepath)"
   ]
  },
  {
   "cell_type": "code",
   "execution_count": 28,
   "metadata": {
    "execution": {
     "iopub.execute_input": "2021-05-21T18:20:26.174235Z",
     "iopub.status.busy": "2021-05-21T18:20:26.173867Z",
     "iopub.status.idle": "2021-05-21T18:20:26.187691Z",
     "shell.execute_reply": "2021-05-21T18:20:26.187334Z"
    },
    "papermill": {
     "duration": 0.038565,
     "end_time": "2021-05-21T18:20:26.187789",
     "exception": false,
     "start_time": "2021-05-21T18:20:26.149224",
     "status": "completed"
    },
    "tags": []
   },
   "outputs": [],
   "source": [
    "phenomexcan_data = pd.read_pickle(input_filepath).T"
   ]
  },
  {
   "cell_type": "code",
   "execution_count": 29,
   "metadata": {
    "execution": {
     "iopub.execute_input": "2021-05-21T18:20:26.240326Z",
     "iopub.status.busy": "2021-05-21T18:20:26.239961Z",
     "iopub.status.idle": "2021-05-21T18:20:26.247939Z",
     "shell.execute_reply": "2021-05-21T18:20:26.247565Z"
    },
    "papermill": {
     "duration": 0.033496,
     "end_time": "2021-05-21T18:20:26.248022",
     "exception": false,
     "start_time": "2021-05-21T18:20:26.214526",
     "status": "completed"
    },
    "tags": []
   },
   "outputs": [
    {
     "data": {
      "text/plain": [
       "(3752, 987)"
      ]
     },
     "execution_count": 29,
     "metadata": {},
     "output_type": "execute_result"
    }
   ],
   "source": [
    "phenomexcan_data.shape"
   ]
  },
  {
   "cell_type": "code",
   "execution_count": 30,
   "metadata": {
    "execution": {
     "iopub.execute_input": "2021-05-21T18:20:26.297086Z",
     "iopub.status.busy": "2021-05-21T18:20:26.296648Z",
     "iopub.status.idle": "2021-05-21T18:20:26.315495Z",
     "shell.execute_reply": "2021-05-21T18:20:26.315122Z"
    },
    "papermill": {
     "duration": 0.044689,
     "end_time": "2021-05-21T18:20:26.315580",
     "exception": false,
     "start_time": "2021-05-21T18:20:26.270891",
     "status": "completed"
    },
    "tags": []
   },
   "outputs": [
    {
     "data": {
      "text/html": [
       "<div>\n",
       "<style scoped>\n",
       "    .dataframe tbody tr th:only-of-type {\n",
       "        vertical-align: middle;\n",
       "    }\n",
       "\n",
       "    .dataframe tbody tr th {\n",
       "        vertical-align: top;\n",
       "    }\n",
       "\n",
       "    .dataframe thead th {\n",
       "        text-align: right;\n",
       "    }\n",
       "</style>\n",
       "<table border=\"1\" class=\"dataframe\">\n",
       "  <thead>\n",
       "    <tr style=\"text-align: right;\">\n",
       "      <th></th>\n",
       "      <th>LV1</th>\n",
       "      <th>LV2</th>\n",
       "      <th>LV3</th>\n",
       "      <th>LV4</th>\n",
       "      <th>LV5</th>\n",
       "      <th>LV6</th>\n",
       "      <th>LV7</th>\n",
       "      <th>LV8</th>\n",
       "      <th>LV9</th>\n",
       "      <th>LV10</th>\n",
       "      <th>...</th>\n",
       "      <th>LV978</th>\n",
       "      <th>LV979</th>\n",
       "      <th>LV980</th>\n",
       "      <th>LV981</th>\n",
       "      <th>LV982</th>\n",
       "      <th>LV983</th>\n",
       "      <th>LV984</th>\n",
       "      <th>LV985</th>\n",
       "      <th>LV986</th>\n",
       "      <th>LV987</th>\n",
       "    </tr>\n",
       "  </thead>\n",
       "  <tbody>\n",
       "    <tr>\n",
       "      <th>100001_raw-Food_weight</th>\n",
       "      <td>-0.021292</td>\n",
       "      <td>0.056061</td>\n",
       "      <td>0.001650</td>\n",
       "      <td>0.026265</td>\n",
       "      <td>-0.015616</td>\n",
       "      <td>0.040333</td>\n",
       "      <td>-0.012050</td>\n",
       "      <td>0.027985</td>\n",
       "      <td>0.021028</td>\n",
       "      <td>0.027118</td>\n",
       "      <td>...</td>\n",
       "      <td>0.033575</td>\n",
       "      <td>0.051033</td>\n",
       "      <td>-0.038899</td>\n",
       "      <td>0.084371</td>\n",
       "      <td>0.027174</td>\n",
       "      <td>-0.032639</td>\n",
       "      <td>0.015128</td>\n",
       "      <td>-0.018430</td>\n",
       "      <td>0.016253</td>\n",
       "      <td>-0.021666</td>\n",
       "    </tr>\n",
       "    <tr>\n",
       "      <th>100002_raw-Energy</th>\n",
       "      <td>-0.046815</td>\n",
       "      <td>-0.009864</td>\n",
       "      <td>-0.004262</td>\n",
       "      <td>-0.007235</td>\n",
       "      <td>0.010799</td>\n",
       "      <td>0.021540</td>\n",
       "      <td>0.008009</td>\n",
       "      <td>0.025354</td>\n",
       "      <td>0.009816</td>\n",
       "      <td>0.041230</td>\n",
       "      <td>...</td>\n",
       "      <td>0.006675</td>\n",
       "      <td>0.022421</td>\n",
       "      <td>-0.014042</td>\n",
       "      <td>0.002723</td>\n",
       "      <td>0.066739</td>\n",
       "      <td>-0.031207</td>\n",
       "      <td>-0.001040</td>\n",
       "      <td>0.050533</td>\n",
       "      <td>-0.007979</td>\n",
       "      <td>-0.017742</td>\n",
       "    </tr>\n",
       "    <tr>\n",
       "      <th>100003_raw-Protein</th>\n",
       "      <td>-0.021585</td>\n",
       "      <td>-0.028888</td>\n",
       "      <td>0.019211</td>\n",
       "      <td>0.004304</td>\n",
       "      <td>0.017792</td>\n",
       "      <td>0.023804</td>\n",
       "      <td>-0.001246</td>\n",
       "      <td>0.023492</td>\n",
       "      <td>0.007045</td>\n",
       "      <td>-0.002453</td>\n",
       "      <td>...</td>\n",
       "      <td>0.029808</td>\n",
       "      <td>0.030413</td>\n",
       "      <td>-0.065487</td>\n",
       "      <td>0.000143</td>\n",
       "      <td>0.001568</td>\n",
       "      <td>-0.027622</td>\n",
       "      <td>-0.006422</td>\n",
       "      <td>0.040084</td>\n",
       "      <td>-0.008175</td>\n",
       "      <td>-0.014154</td>\n",
       "    </tr>\n",
       "    <tr>\n",
       "      <th>100004_raw-Fat</th>\n",
       "      <td>-0.030324</td>\n",
       "      <td>-0.053573</td>\n",
       "      <td>0.007484</td>\n",
       "      <td>-0.042464</td>\n",
       "      <td>0.010591</td>\n",
       "      <td>0.031777</td>\n",
       "      <td>0.007824</td>\n",
       "      <td>0.018422</td>\n",
       "      <td>-0.027632</td>\n",
       "      <td>0.028237</td>\n",
       "      <td>...</td>\n",
       "      <td>0.017412</td>\n",
       "      <td>0.018589</td>\n",
       "      <td>0.003284</td>\n",
       "      <td>-0.004189</td>\n",
       "      <td>0.040693</td>\n",
       "      <td>-0.036318</td>\n",
       "      <td>0.019393</td>\n",
       "      <td>0.029495</td>\n",
       "      <td>-0.015966</td>\n",
       "      <td>-0.002160</td>\n",
       "    </tr>\n",
       "    <tr>\n",
       "      <th>100005_raw-Carbohydrate</th>\n",
       "      <td>-0.017773</td>\n",
       "      <td>0.006951</td>\n",
       "      <td>0.004548</td>\n",
       "      <td>-0.001093</td>\n",
       "      <td>0.001972</td>\n",
       "      <td>-0.005518</td>\n",
       "      <td>0.033477</td>\n",
       "      <td>0.017333</td>\n",
       "      <td>0.040532</td>\n",
       "      <td>0.029409</td>\n",
       "      <td>...</td>\n",
       "      <td>-0.007403</td>\n",
       "      <td>-0.000781</td>\n",
       "      <td>0.006414</td>\n",
       "      <td>0.009671</td>\n",
       "      <td>0.034106</td>\n",
       "      <td>-0.008757</td>\n",
       "      <td>0.022819</td>\n",
       "      <td>0.055545</td>\n",
       "      <td>0.005864</td>\n",
       "      <td>-0.055875</td>\n",
       "    </tr>\n",
       "  </tbody>\n",
       "</table>\n",
       "<p>5 rows × 987 columns</p>\n",
       "</div>"
      ],
      "text/plain": [
       "                              LV1       LV2       LV3       LV4       LV5  \\\n",
       "100001_raw-Food_weight  -0.021292  0.056061  0.001650  0.026265 -0.015616   \n",
       "100002_raw-Energy       -0.046815 -0.009864 -0.004262 -0.007235  0.010799   \n",
       "100003_raw-Protein      -0.021585 -0.028888  0.019211  0.004304  0.017792   \n",
       "100004_raw-Fat          -0.030324 -0.053573  0.007484 -0.042464  0.010591   \n",
       "100005_raw-Carbohydrate -0.017773  0.006951  0.004548 -0.001093  0.001972   \n",
       "\n",
       "                              LV6       LV7       LV8       LV9      LV10  \\\n",
       "100001_raw-Food_weight   0.040333 -0.012050  0.027985  0.021028  0.027118   \n",
       "100002_raw-Energy        0.021540  0.008009  0.025354  0.009816  0.041230   \n",
       "100003_raw-Protein       0.023804 -0.001246  0.023492  0.007045 -0.002453   \n",
       "100004_raw-Fat           0.031777  0.007824  0.018422 -0.027632  0.028237   \n",
       "100005_raw-Carbohydrate -0.005518  0.033477  0.017333  0.040532  0.029409   \n",
       "\n",
       "                         ...     LV978     LV979     LV980     LV981  \\\n",
       "100001_raw-Food_weight   ...  0.033575  0.051033 -0.038899  0.084371   \n",
       "100002_raw-Energy        ...  0.006675  0.022421 -0.014042  0.002723   \n",
       "100003_raw-Protein       ...  0.029808  0.030413 -0.065487  0.000143   \n",
       "100004_raw-Fat           ...  0.017412  0.018589  0.003284 -0.004189   \n",
       "100005_raw-Carbohydrate  ... -0.007403 -0.000781  0.006414  0.009671   \n",
       "\n",
       "                            LV982     LV983     LV984     LV985     LV986  \\\n",
       "100001_raw-Food_weight   0.027174 -0.032639  0.015128 -0.018430  0.016253   \n",
       "100002_raw-Energy        0.066739 -0.031207 -0.001040  0.050533 -0.007979   \n",
       "100003_raw-Protein       0.001568 -0.027622 -0.006422  0.040084 -0.008175   \n",
       "100004_raw-Fat           0.040693 -0.036318  0.019393  0.029495 -0.015966   \n",
       "100005_raw-Carbohydrate  0.034106 -0.008757  0.022819  0.055545  0.005864   \n",
       "\n",
       "                            LV987  \n",
       "100001_raw-Food_weight  -0.021666  \n",
       "100002_raw-Energy       -0.017742  \n",
       "100003_raw-Protein      -0.014154  \n",
       "100004_raw-Fat          -0.002160  \n",
       "100005_raw-Carbohydrate -0.055875  \n",
       "\n",
       "[5 rows x 987 columns]"
      ]
     },
     "execution_count": 30,
     "metadata": {},
     "output_type": "execute_result"
    }
   ],
   "source": [
    "phenomexcan_data.head()"
   ]
  },
  {
   "cell_type": "markdown",
   "metadata": {
    "papermill": {
     "duration": 0.023092,
     "end_time": "2021-05-21T18:20:26.362730",
     "exception": false,
     "start_time": "2021-05-21T18:20:26.339638",
     "status": "completed"
    },
    "tags": []
   },
   "source": [
    "## LVs enrichment on DEG from CRISPR screen"
   ]
  },
  {
   "cell_type": "code",
   "execution_count": 31,
   "metadata": {
    "execution": {
     "iopub.execute_input": "2021-05-21T18:20:26.411140Z",
     "iopub.status.busy": "2021-05-21T18:20:26.410773Z",
     "iopub.status.idle": "2021-05-21T18:20:26.423147Z",
     "shell.execute_reply": "2021-05-21T18:20:26.422767Z"
    },
    "papermill": {
     "duration": 0.037608,
     "end_time": "2021-05-21T18:20:26.423231",
     "exception": false,
     "start_time": "2021-05-21T18:20:26.385623",
     "status": "completed"
    },
    "tags": []
   },
   "outputs": [],
   "source": [
    "deg_enrich = pd.read_csv(\n",
    "    Path(conf.RESULTS[\"CRISPR_ANALYSES\"][\"BASE_DIR\"], \"fgsea-all_lvs.tsv\").resolve(),\n",
    "    sep=\"\\t\",\n",
    ")"
   ]
  },
  {
   "cell_type": "code",
   "execution_count": 32,
   "metadata": {
    "execution": {
     "iopub.execute_input": "2021-05-21T18:20:26.472628Z",
     "iopub.status.busy": "2021-05-21T18:20:26.472264Z",
     "iopub.status.idle": "2021-05-21T18:20:26.480520Z",
     "shell.execute_reply": "2021-05-21T18:20:26.480141Z"
    },
    "papermill": {
     "duration": 0.034015,
     "end_time": "2021-05-21T18:20:26.480605",
     "exception": false,
     "start_time": "2021-05-21T18:20:26.446590",
     "status": "completed"
    },
    "tags": []
   },
   "outputs": [
    {
     "data": {
      "text/plain": [
       "(1973, 11)"
      ]
     },
     "execution_count": 32,
     "metadata": {},
     "output_type": "execute_result"
    }
   ],
   "source": [
    "deg_enrich.shape"
   ]
  },
  {
   "cell_type": "code",
   "execution_count": 33,
   "metadata": {
    "execution": {
     "iopub.execute_input": "2021-05-21T18:20:26.529939Z",
     "iopub.status.busy": "2021-05-21T18:20:26.529575Z",
     "iopub.status.idle": "2021-05-21T18:20:26.542915Z",
     "shell.execute_reply": "2021-05-21T18:20:26.543196Z"
    },
    "papermill": {
     "duration": 0.039068,
     "end_time": "2021-05-21T18:20:26.543299",
     "exception": false,
     "start_time": "2021-05-21T18:20:26.504231",
     "status": "completed"
    },
    "tags": []
   },
   "outputs": [
    {
     "data": {
      "text/html": [
       "<div>\n",
       "<style scoped>\n",
       "    .dataframe tbody tr th:only-of-type {\n",
       "        vertical-align: middle;\n",
       "    }\n",
       "\n",
       "    .dataframe tbody tr th {\n",
       "        vertical-align: top;\n",
       "    }\n",
       "\n",
       "    .dataframe thead th {\n",
       "        text-align: right;\n",
       "    }\n",
       "</style>\n",
       "<table border=\"1\" class=\"dataframe\">\n",
       "  <thead>\n",
       "    <tr style=\"text-align: right;\">\n",
       "      <th></th>\n",
       "      <th>pathway</th>\n",
       "      <th>pval</th>\n",
       "      <th>padj</th>\n",
       "      <th>log2err</th>\n",
       "      <th>ES</th>\n",
       "      <th>NES</th>\n",
       "      <th>size</th>\n",
       "      <th>leadingEdge</th>\n",
       "      <th>lv</th>\n",
       "      <th>rep_idx</th>\n",
       "      <th>fdr</th>\n",
       "    </tr>\n",
       "  </thead>\n",
       "  <tbody>\n",
       "    <tr>\n",
       "      <th>0</th>\n",
       "      <td>gene_set_decrease</td>\n",
       "      <td>0.198801</td>\n",
       "      <td>0.251748</td>\n",
       "      <td>0.091680</td>\n",
       "      <td>0.578418</td>\n",
       "      <td>1.123767</td>\n",
       "      <td>35</td>\n",
       "      <td>PTBP1, KEAP1, PEX14, DLST, PCYT2, MAD2L2, GLRX...</td>\n",
       "      <td>LV1</td>\n",
       "      <td>2</td>\n",
       "      <td>0.755621</td>\n",
       "    </tr>\n",
       "    <tr>\n",
       "      <th>1</th>\n",
       "      <td>gene_set_increase</td>\n",
       "      <td>0.251748</td>\n",
       "      <td>0.251748</td>\n",
       "      <td>0.078711</td>\n",
       "      <td>0.539155</td>\n",
       "      <td>1.078565</td>\n",
       "      <td>63</td>\n",
       "      <td>CHERP, RANGAP1, HNRNPL, RPS2, E4F1, TAF1C, GAT...</td>\n",
       "      <td>LV1</td>\n",
       "      <td>2</td>\n",
       "      <td>0.779947</td>\n",
       "    </tr>\n",
       "    <tr>\n",
       "      <th>2</th>\n",
       "      <td>gene_set_decrease</td>\n",
       "      <td>0.963037</td>\n",
       "      <td>0.999001</td>\n",
       "      <td>0.008938</td>\n",
       "      <td>0.434799</td>\n",
       "      <td>0.678421</td>\n",
       "      <td>20</td>\n",
       "      <td>VDR, ACVR1B, KEAP1, NDUFV2, PEX14, NDUFS3, WDR26</td>\n",
       "      <td>LV10</td>\n",
       "      <td>5</td>\n",
       "      <td>1.000000</td>\n",
       "    </tr>\n",
       "    <tr>\n",
       "      <th>3</th>\n",
       "      <td>gene_set_increase</td>\n",
       "      <td>1.000000</td>\n",
       "      <td>1.000000</td>\n",
       "      <td>0.000000</td>\n",
       "      <td>0.236619</td>\n",
       "      <td>0.378164</td>\n",
       "      <td>25</td>\n",
       "      <td>USP39, SRP19, ZNF3, RPL18, RPS19, RAP1GDS1, CH...</td>\n",
       "      <td>LV10</td>\n",
       "      <td>2</td>\n",
       "      <td>1.000000</td>\n",
       "    </tr>\n",
       "    <tr>\n",
       "      <th>4</th>\n",
       "      <td>gene_set_decrease</td>\n",
       "      <td>0.042957</td>\n",
       "      <td>0.085914</td>\n",
       "      <td>0.216543</td>\n",
       "      <td>0.831205</td>\n",
       "      <td>1.711885</td>\n",
       "      <td>27</td>\n",
       "      <td>NDUFB7, PTBP1, RRAGC, PPP2R2B, SQLE</td>\n",
       "      <td>LV100</td>\n",
       "      <td>6</td>\n",
       "      <td>0.718678</td>\n",
       "    </tr>\n",
       "  </tbody>\n",
       "</table>\n",
       "</div>"
      ],
      "text/plain": [
       "             pathway      pval      padj   log2err        ES       NES  size  \\\n",
       "0  gene_set_decrease  0.198801  0.251748  0.091680  0.578418  1.123767    35   \n",
       "1  gene_set_increase  0.251748  0.251748  0.078711  0.539155  1.078565    63   \n",
       "2  gene_set_decrease  0.963037  0.999001  0.008938  0.434799  0.678421    20   \n",
       "3  gene_set_increase  1.000000  1.000000  0.000000  0.236619  0.378164    25   \n",
       "4  gene_set_decrease  0.042957  0.085914  0.216543  0.831205  1.711885    27   \n",
       "\n",
       "                                         leadingEdge     lv  rep_idx       fdr  \n",
       "0  PTBP1, KEAP1, PEX14, DLST, PCYT2, MAD2L2, GLRX...    LV1        2  0.755621  \n",
       "1  CHERP, RANGAP1, HNRNPL, RPS2, E4F1, TAF1C, GAT...    LV1        2  0.779947  \n",
       "2   VDR, ACVR1B, KEAP1, NDUFV2, PEX14, NDUFS3, WDR26   LV10        5  1.000000  \n",
       "3  USP39, SRP19, ZNF3, RPL18, RPS19, RAP1GDS1, CH...   LV10        2  1.000000  \n",
       "4                NDUFB7, PTBP1, RRAGC, PPP2R2B, SQLE  LV100        6  0.718678  "
      ]
     },
     "execution_count": 33,
     "metadata": {},
     "output_type": "execute_result"
    }
   ],
   "source": [
    "deg_enrich.head()"
   ]
  },
  {
   "cell_type": "markdown",
   "metadata": {
    "papermill": {
     "duration": 0.04201,
     "end_time": "2021-05-21T18:20:26.609513",
     "exception": false,
     "start_time": "2021-05-21T18:20:26.567503",
     "status": "completed"
    },
    "tags": []
   },
   "source": [
    "## MultiPLIER summary"
   ]
  },
  {
   "cell_type": "code",
   "execution_count": 34,
   "metadata": {
    "execution": {
     "iopub.execute_input": "2021-05-21T18:20:26.666223Z",
     "iopub.status.busy": "2021-05-21T18:20:26.665865Z",
     "iopub.status.idle": "2021-05-21T18:20:26.674454Z",
     "shell.execute_reply": "2021-05-21T18:20:26.674143Z"
    },
    "papermill": {
     "duration": 0.035629,
     "end_time": "2021-05-21T18:20:26.674540",
     "exception": false,
     "start_time": "2021-05-21T18:20:26.638911",
     "status": "completed"
    },
    "tags": []
   },
   "outputs": [],
   "source": [
    "multiplier_model_summary = pd.read_pickle(conf.MULTIPLIER[\"MODEL_SUMMARY_FILE\"])"
   ]
  },
  {
   "cell_type": "code",
   "execution_count": 35,
   "metadata": {
    "execution": {
     "iopub.execute_input": "2021-05-21T18:20:26.725450Z",
     "iopub.status.busy": "2021-05-21T18:20:26.725088Z",
     "iopub.status.idle": "2021-05-21T18:20:26.733067Z",
     "shell.execute_reply": "2021-05-21T18:20:26.732671Z"
    },
    "papermill": {
     "duration": 0.03412,
     "end_time": "2021-05-21T18:20:26.733146",
     "exception": false,
     "start_time": "2021-05-21T18:20:26.699026",
     "status": "completed"
    },
    "tags": []
   },
   "outputs": [
    {
     "data": {
      "text/plain": [
       "(2157, 5)"
      ]
     },
     "execution_count": 35,
     "metadata": {},
     "output_type": "execute_result"
    }
   ],
   "source": [
    "multiplier_model_summary.shape"
   ]
  },
  {
   "cell_type": "code",
   "execution_count": 36,
   "metadata": {
    "execution": {
     "iopub.execute_input": "2021-05-21T18:20:26.784380Z",
     "iopub.status.busy": "2021-05-21T18:20:26.784008Z",
     "iopub.status.idle": "2021-05-21T18:20:26.795625Z",
     "shell.execute_reply": "2021-05-21T18:20:26.795251Z"
    },
    "papermill": {
     "duration": 0.037925,
     "end_time": "2021-05-21T18:20:26.795710",
     "exception": false,
     "start_time": "2021-05-21T18:20:26.757785",
     "status": "completed"
    },
    "tags": []
   },
   "outputs": [
    {
     "data": {
      "text/html": [
       "<div>\n",
       "<style scoped>\n",
       "    .dataframe tbody tr th:only-of-type {\n",
       "        vertical-align: middle;\n",
       "    }\n",
       "\n",
       "    .dataframe tbody tr th {\n",
       "        vertical-align: top;\n",
       "    }\n",
       "\n",
       "    .dataframe thead th {\n",
       "        text-align: right;\n",
       "    }\n",
       "</style>\n",
       "<table border=\"1\" class=\"dataframe\">\n",
       "  <thead>\n",
       "    <tr style=\"text-align: right;\">\n",
       "      <th></th>\n",
       "      <th>pathway</th>\n",
       "      <th>LV index</th>\n",
       "      <th>AUC</th>\n",
       "      <th>p-value</th>\n",
       "      <th>FDR</th>\n",
       "    </tr>\n",
       "  </thead>\n",
       "  <tbody>\n",
       "    <tr>\n",
       "      <th>1</th>\n",
       "      <td>KEGG_LYSINE_DEGRADATION</td>\n",
       "      <td>1</td>\n",
       "      <td>0.388059</td>\n",
       "      <td>0.866078</td>\n",
       "      <td>0.956005</td>\n",
       "    </tr>\n",
       "    <tr>\n",
       "      <th>2</th>\n",
       "      <td>REACTOME_MRNA_SPLICING</td>\n",
       "      <td>1</td>\n",
       "      <td>0.733057</td>\n",
       "      <td>0.000048</td>\n",
       "      <td>0.000582</td>\n",
       "    </tr>\n",
       "    <tr>\n",
       "      <th>3</th>\n",
       "      <td>MIPS_NOP56P_ASSOCIATED_PRE_RRNA_COMPLEX</td>\n",
       "      <td>1</td>\n",
       "      <td>0.680555</td>\n",
       "      <td>0.001628</td>\n",
       "      <td>0.011366</td>\n",
       "    </tr>\n",
       "    <tr>\n",
       "      <th>4</th>\n",
       "      <td>KEGG_DNA_REPLICATION</td>\n",
       "      <td>1</td>\n",
       "      <td>0.549473</td>\n",
       "      <td>0.312155</td>\n",
       "      <td>0.539951</td>\n",
       "    </tr>\n",
       "    <tr>\n",
       "      <th>5</th>\n",
       "      <td>PID_MYC_ACTIVPATHWAY</td>\n",
       "      <td>1</td>\n",
       "      <td>0.639303</td>\n",
       "      <td>0.021702</td>\n",
       "      <td>0.083739</td>\n",
       "    </tr>\n",
       "  </tbody>\n",
       "</table>\n",
       "</div>"
      ],
      "text/plain": [
       "                                   pathway LV index       AUC   p-value  \\\n",
       "1                  KEGG_LYSINE_DEGRADATION        1  0.388059  0.866078   \n",
       "2                   REACTOME_MRNA_SPLICING        1  0.733057  0.000048   \n",
       "3  MIPS_NOP56P_ASSOCIATED_PRE_RRNA_COMPLEX        1  0.680555  0.001628   \n",
       "4                     KEGG_DNA_REPLICATION        1  0.549473  0.312155   \n",
       "5                     PID_MYC_ACTIVPATHWAY        1  0.639303  0.021702   \n",
       "\n",
       "        FDR  \n",
       "1  0.956005  \n",
       "2  0.000582  \n",
       "3  0.011366  \n",
       "4  0.539951  \n",
       "5  0.083739  "
      ]
     },
     "execution_count": 36,
     "metadata": {},
     "output_type": "execute_result"
    }
   ],
   "source": [
    "multiplier_model_summary.head()"
   ]
  },
  {
   "cell_type": "markdown",
   "metadata": {
    "papermill": {
     "duration": 0.024892,
     "end_time": "2021-05-21T18:20:26.845830",
     "exception": false,
     "start_time": "2021-05-21T18:20:26.820938",
     "status": "completed"
    },
    "tags": []
   },
   "source": [
    "# Save list of traits"
   ]
  },
  {
   "cell_type": "code",
   "execution_count": 37,
   "metadata": {
    "execution": {
     "iopub.execute_input": "2021-05-21T18:20:26.898229Z",
     "iopub.status.busy": "2021-05-21T18:20:26.897855Z",
     "iopub.status.idle": "2021-05-21T18:20:26.905931Z",
     "shell.execute_reply": "2021-05-21T18:20:26.905562Z"
    },
    "papermill": {
     "duration": 0.03495,
     "end_time": "2021-05-21T18:20:26.906014",
     "exception": false,
     "start_time": "2021-05-21T18:20:26.871064",
     "status": "completed"
    },
    "tags": []
   },
   "outputs": [
    {
     "data": {
      "text/plain": [
       "PosixPath('/home/miltondp/projects/labs/greenelab/phenoplier/base/results/crispr_analyses/lv-gene_set_decrease/permutations/lipid_traits_list.pkl')"
      ]
     },
     "metadata": {},
     "output_type": "display_data"
    }
   ],
   "source": [
    "output_filepath = OUTPUT_DIR / \"lipid_traits_list.pkl\"\n",
    "display(output_filepath)"
   ]
  },
  {
   "cell_type": "code",
   "execution_count": 38,
   "metadata": {
    "execution": {
     "iopub.execute_input": "2021-05-21T18:20:26.959164Z",
     "iopub.status.busy": "2021-05-21T18:20:26.958797Z",
     "iopub.status.idle": "2021-05-21T18:20:26.966154Z",
     "shell.execute_reply": "2021-05-21T18:20:26.965774Z"
    },
    "papermill": {
     "duration": 0.034431,
     "end_time": "2021-05-21T18:20:26.966239",
     "exception": false,
     "start_time": "2021-05-21T18:20:26.931808",
     "status": "completed"
    },
    "tags": []
   },
   "outputs": [],
   "source": [
    "with open(output_filepath, \"wb\") as handle:\n",
    "    pickle.dump(lipids_related_traits, handle, protocol=pickle.DEFAULT_PROTOCOL)"
   ]
  },
  {
   "cell_type": "markdown",
   "metadata": {
    "papermill": {
     "duration": 0.024745,
     "end_time": "2021-05-21T18:20:27.017096",
     "exception": false,
     "start_time": "2021-05-21T18:20:26.992351",
     "status": "completed"
    },
    "tags": []
   },
   "source": [
    "# Get gene modules under analysis"
   ]
  },
  {
   "cell_type": "code",
   "execution_count": 39,
   "metadata": {
    "execution": {
     "iopub.execute_input": "2021-05-21T18:20:27.069155Z",
     "iopub.status.busy": "2021-05-21T18:20:27.068789Z",
     "iopub.status.idle": "2021-05-21T18:20:27.077225Z",
     "shell.execute_reply": "2021-05-21T18:20:27.076853Z"
    },
    "papermill": {
     "duration": 0.035679,
     "end_time": "2021-05-21T18:20:27.077308",
     "exception": false,
     "start_time": "2021-05-21T18:20:27.041629",
     "status": "completed"
    },
    "tags": []
   },
   "outputs": [],
   "source": [
    "df = deg_enrich[\n",
    "    deg_enrich[\"pathway\"].isin((LIPIDS_GENE_SET,)) & (deg_enrich[\"padj\"] < 0.05)\n",
    "].sort_values(\"padj\", ascending=True)"
   ]
  },
  {
   "cell_type": "code",
   "execution_count": 40,
   "metadata": {
    "execution": {
     "iopub.execute_input": "2021-05-21T18:20:27.130375Z",
     "iopub.status.busy": "2021-05-21T18:20:27.130009Z",
     "iopub.status.idle": "2021-05-21T18:20:27.137946Z",
     "shell.execute_reply": "2021-05-21T18:20:27.137573Z"
    },
    "papermill": {
     "duration": 0.035705,
     "end_time": "2021-05-21T18:20:27.138031",
     "exception": false,
     "start_time": "2021-05-21T18:20:27.102326",
     "status": "completed"
    },
    "tags": []
   },
   "outputs": [
    {
     "data": {
      "text/plain": [
       "(24, 11)"
      ]
     },
     "execution_count": 40,
     "metadata": {},
     "output_type": "execute_result"
    }
   ],
   "source": [
    "df.shape"
   ]
  },
  {
   "cell_type": "code",
   "execution_count": 41,
   "metadata": {
    "execution": {
     "iopub.execute_input": "2021-05-21T18:20:27.191711Z",
     "iopub.status.busy": "2021-05-21T18:20:27.191349Z",
     "iopub.status.idle": "2021-05-21T18:20:27.205405Z",
     "shell.execute_reply": "2021-05-21T18:20:27.205038Z"
    },
    "papermill": {
     "duration": 0.041507,
     "end_time": "2021-05-21T18:20:27.205488",
     "exception": false,
     "start_time": "2021-05-21T18:20:27.163981",
     "status": "completed"
    },
    "tags": []
   },
   "outputs": [
    {
     "data": {
      "text/html": [
       "<div>\n",
       "<style scoped>\n",
       "    .dataframe tbody tr th:only-of-type {\n",
       "        vertical-align: middle;\n",
       "    }\n",
       "\n",
       "    .dataframe tbody tr th {\n",
       "        vertical-align: top;\n",
       "    }\n",
       "\n",
       "    .dataframe thead th {\n",
       "        text-align: right;\n",
       "    }\n",
       "</style>\n",
       "<table border=\"1\" class=\"dataframe\">\n",
       "  <thead>\n",
       "    <tr style=\"text-align: right;\">\n",
       "      <th></th>\n",
       "      <th>pathway</th>\n",
       "      <th>pval</th>\n",
       "      <th>padj</th>\n",
       "      <th>log2err</th>\n",
       "      <th>ES</th>\n",
       "      <th>NES</th>\n",
       "      <th>size</th>\n",
       "      <th>leadingEdge</th>\n",
       "      <th>lv</th>\n",
       "      <th>rep_idx</th>\n",
       "      <th>fdr</th>\n",
       "    </tr>\n",
       "  </thead>\n",
       "  <tbody>\n",
       "    <tr>\n",
       "      <th>1283</th>\n",
       "      <td>gene_set_decrease</td>\n",
       "      <td>2.605291e-07</td>\n",
       "      <td>5.210582e-07</td>\n",
       "      <td>0.674963</td>\n",
       "      <td>0.858542</td>\n",
       "      <td>1.636153</td>\n",
       "      <td>43</td>\n",
       "      <td>NDUFA4, COX6A1, ATP5O, NDUFB10, COX5A, NDUFS3,...</td>\n",
       "      <td>LV678</td>\n",
       "      <td>3</td>\n",
       "      <td>0.000257</td>\n",
       "    </tr>\n",
       "    <tr>\n",
       "      <th>1199</th>\n",
       "      <td>gene_set_decrease</td>\n",
       "      <td>1.205740e-03</td>\n",
       "      <td>2.411481e-03</td>\n",
       "      <td>0.455060</td>\n",
       "      <td>0.753059</td>\n",
       "      <td>1.430708</td>\n",
       "      <td>35</td>\n",
       "      <td>PEX14, COX17, NDUFS3, ATP5O, COX6A1, DLST, NDU...</td>\n",
       "      <td>LV64</td>\n",
       "      <td>2</td>\n",
       "      <td>0.339847</td>\n",
       "    </tr>\n",
       "    <tr>\n",
       "      <th>1769</th>\n",
       "      <td>gene_set_decrease</td>\n",
       "      <td>1.610715e-03</td>\n",
       "      <td>3.221430e-03</td>\n",
       "      <td>0.455060</td>\n",
       "      <td>0.807492</td>\n",
       "      <td>1.596196</td>\n",
       "      <td>25</td>\n",
       "      <td>NDUFA4, PEX14, STX18, OGDH, COX6A1, COX17, PIK...</td>\n",
       "      <td>LV897</td>\n",
       "      <td>3</td>\n",
       "      <td>0.397243</td>\n",
       "    </tr>\n",
       "    <tr>\n",
       "      <th>1055</th>\n",
       "      <td>gene_set_decrease</td>\n",
       "      <td>4.275828e-03</td>\n",
       "      <td>8.551656e-03</td>\n",
       "      <td>0.407018</td>\n",
       "      <td>0.897219</td>\n",
       "      <td>1.742375</td>\n",
       "      <td>23</td>\n",
       "      <td>CSK, MRPS12</td>\n",
       "      <td>LV575</td>\n",
       "      <td>4</td>\n",
       "      <td>0.718678</td>\n",
       "    </tr>\n",
       "    <tr>\n",
       "      <th>1413</th>\n",
       "      <td>gene_set_decrease</td>\n",
       "      <td>5.763040e-03</td>\n",
       "      <td>1.152608e-02</td>\n",
       "      <td>0.407018</td>\n",
       "      <td>0.936411</td>\n",
       "      <td>1.741728</td>\n",
       "      <td>19</td>\n",
       "      <td>COX7C, NDUFS6, FLCN, COX5A, NDUFS2</td>\n",
       "      <td>LV736</td>\n",
       "      <td>3</td>\n",
       "      <td>0.718678</td>\n",
       "    </tr>\n",
       "  </tbody>\n",
       "</table>\n",
       "</div>"
      ],
      "text/plain": [
       "                pathway          pval          padj   log2err        ES  \\\n",
       "1283  gene_set_decrease  2.605291e-07  5.210582e-07  0.674963  0.858542   \n",
       "1199  gene_set_decrease  1.205740e-03  2.411481e-03  0.455060  0.753059   \n",
       "1769  gene_set_decrease  1.610715e-03  3.221430e-03  0.455060  0.807492   \n",
       "1055  gene_set_decrease  4.275828e-03  8.551656e-03  0.407018  0.897219   \n",
       "1413  gene_set_decrease  5.763040e-03  1.152608e-02  0.407018  0.936411   \n",
       "\n",
       "           NES  size                                        leadingEdge  \\\n",
       "1283  1.636153    43  NDUFA4, COX6A1, ATP5O, NDUFB10, COX5A, NDUFS3,...   \n",
       "1199  1.430708    35  PEX14, COX17, NDUFS3, ATP5O, COX6A1, DLST, NDU...   \n",
       "1769  1.596196    25  NDUFA4, PEX14, STX18, OGDH, COX6A1, COX17, PIK...   \n",
       "1055  1.742375    23                                        CSK, MRPS12   \n",
       "1413  1.741728    19                 COX7C, NDUFS6, FLCN, COX5A, NDUFS2   \n",
       "\n",
       "         lv  rep_idx       fdr  \n",
       "1283  LV678        3  0.000257  \n",
       "1199   LV64        2  0.339847  \n",
       "1769  LV897        3  0.397243  \n",
       "1055  LV575        4  0.718678  \n",
       "1413  LV736        3  0.718678  "
      ]
     },
     "execution_count": 41,
     "metadata": {},
     "output_type": "execute_result"
    }
   ],
   "source": [
    "df.head()"
   ]
  },
  {
   "cell_type": "code",
   "execution_count": 42,
   "metadata": {
    "execution": {
     "iopub.execute_input": "2021-05-21T18:20:27.259644Z",
     "iopub.status.busy": "2021-05-21T18:20:27.259182Z",
     "iopub.status.idle": "2021-05-21T18:20:27.266809Z",
     "shell.execute_reply": "2021-05-21T18:20:27.266447Z"
    },
    "papermill": {
     "duration": 0.035243,
     "end_time": "2021-05-21T18:20:27.266888",
     "exception": false,
     "start_time": "2021-05-21T18:20:27.231645",
     "status": "completed"
    },
    "tags": []
   },
   "outputs": [],
   "source": [
    "important_lvs = df[\"lv\"].unique()"
   ]
  },
  {
   "cell_type": "code",
   "execution_count": 43,
   "metadata": {
    "execution": {
     "iopub.execute_input": "2021-05-21T18:20:27.327843Z",
     "iopub.status.busy": "2021-05-21T18:20:27.327443Z",
     "iopub.status.idle": "2021-05-21T18:20:27.335591Z",
     "shell.execute_reply": "2021-05-21T18:20:27.335196Z"
    },
    "papermill": {
     "duration": 0.039907,
     "end_time": "2021-05-21T18:20:27.335679",
     "exception": false,
     "start_time": "2021-05-21T18:20:27.295772",
     "status": "completed"
    },
    "tags": []
   },
   "outputs": [
    {
     "data": {
      "text/plain": [
       "(24,)"
      ]
     },
     "metadata": {},
     "output_type": "display_data"
    }
   ],
   "source": [
    "display(important_lvs.shape)\n",
    "assert important_lvs.shape[0] == 24"
   ]
  },
  {
   "cell_type": "code",
   "execution_count": 44,
   "metadata": {
    "execution": {
     "iopub.execute_input": "2021-05-21T18:20:27.391232Z",
     "iopub.status.busy": "2021-05-21T18:20:27.390868Z",
     "iopub.status.idle": "2021-05-21T18:20:27.399003Z",
     "shell.execute_reply": "2021-05-21T18:20:27.398638Z"
    },
    "papermill": {
     "duration": 0.03633,
     "end_time": "2021-05-21T18:20:27.399083",
     "exception": false,
     "start_time": "2021-05-21T18:20:27.362753",
     "status": "completed"
    },
    "tags": []
   },
   "outputs": [
    {
     "data": {
      "text/plain": [
       "array(['LV678', 'LV64', 'LV897', 'LV575', 'LV736', 'LV157', 'LV421',\n",
       "       'LV469', 'LV250', 'LV420', 'LV558', 'LV630', 'LV750', 'LV99',\n",
       "       'LV676', 'LV775', 'LV131', 'LV199', 'LV896', 'LV783', 'LV467',\n",
       "       'LV498', 'LV515', 'LV343'], dtype=object)"
      ]
     },
     "execution_count": 44,
     "metadata": {},
     "output_type": "execute_result"
    }
   ],
   "source": [
    "important_lvs"
   ]
  },
  {
   "cell_type": "markdown",
   "metadata": {
    "papermill": {
     "duration": 0.02606,
     "end_time": "2021-05-21T18:20:27.451896",
     "exception": false,
     "start_time": "2021-05-21T18:20:27.425836",
     "status": "completed"
    },
    "tags": []
   },
   "source": [
    "# How many genes with nonzero weight on average in these modules?"
   ]
  },
  {
   "cell_type": "code",
   "execution_count": 45,
   "metadata": {
    "execution": {
     "iopub.execute_input": "2021-05-21T18:20:27.506454Z",
     "iopub.status.busy": "2021-05-21T18:20:27.506087Z",
     "iopub.status.idle": "2021-05-21T18:20:27.524334Z",
     "shell.execute_reply": "2021-05-21T18:20:27.523961Z"
    },
    "papermill": {
     "duration": 0.04655,
     "end_time": "2021-05-21T18:20:27.524417",
     "exception": false,
     "start_time": "2021-05-21T18:20:27.477867",
     "status": "completed"
    },
    "tags": []
   },
   "outputs": [
    {
     "data": {
      "text/plain": [
       "count      24.000000\n",
       "mean     2959.708333\n",
       "std       358.184854\n",
       "min      2364.000000\n",
       "25%      2706.750000\n",
       "50%      2897.000000\n",
       "75%      3148.250000\n",
       "max      3695.000000\n",
       "dtype: float64"
      ]
     },
     "execution_count": 45,
     "metadata": {},
     "output_type": "execute_result"
    }
   ],
   "source": [
    "multiplier_z[df[\"lv\"].values].apply(lambda x: x[x > 0].shape[0]).describe()"
   ]
  },
  {
   "cell_type": "markdown",
   "metadata": {
    "papermill": {
     "duration": 0.025765,
     "end_time": "2021-05-21T18:20:27.576443",
     "exception": false,
     "start_time": "2021-05-21T18:20:27.550678",
     "status": "completed"
    },
    "tags": []
   },
   "source": [
    "# How likely is to get relevant traits at the top of these 24 modules?"
   ]
  },
  {
   "cell_type": "code",
   "execution_count": 46,
   "metadata": {
    "execution": {
     "iopub.execute_input": "2021-05-21T18:20:27.630707Z",
     "iopub.status.busy": "2021-05-21T18:20:27.630336Z",
     "iopub.status.idle": "2021-05-21T18:20:27.637478Z",
     "shell.execute_reply": "2021-05-21T18:20:27.637180Z"
    },
    "papermill": {
     "duration": 0.035349,
     "end_time": "2021-05-21T18:20:27.637563",
     "exception": false,
     "start_time": "2021-05-21T18:20:27.602214",
     "status": "completed"
    },
    "tags": []
   },
   "outputs": [],
   "source": [
    "from multiplier import MultiplierProjection"
   ]
  },
  {
   "cell_type": "code",
   "execution_count": 47,
   "metadata": {
    "execution": {
     "iopub.execute_input": "2021-05-21T18:20:27.693547Z",
     "iopub.status.busy": "2021-05-21T18:20:27.693171Z",
     "iopub.status.idle": "2021-05-21T18:20:27.700574Z",
     "shell.execute_reply": "2021-05-21T18:20:27.700193Z"
    },
    "papermill": {
     "duration": 0.036208,
     "end_time": "2021-05-21T18:20:27.700659",
     "exception": false,
     "start_time": "2021-05-21T18:20:27.664451",
     "status": "completed"
    },
    "tags": []
   },
   "outputs": [],
   "source": [
    "np.random.seed(RANDOM_SEED)"
   ]
  },
  {
   "cell_type": "code",
   "execution_count": 48,
   "metadata": {
    "execution": {
     "iopub.execute_input": "2021-05-21T18:20:27.758751Z",
     "iopub.status.busy": "2021-05-21T18:20:27.758369Z",
     "iopub.status.idle": "2021-05-21T19:09:13.994722Z",
     "shell.execute_reply": "2021-05-21T19:09:13.995072Z"
    },
    "papermill": {
     "duration": 2926.267563,
     "end_time": "2021-05-21T19:09:13.995173",
     "exception": false,
     "start_time": "2021-05-21T18:20:27.727610",
     "status": "completed"
    },
    "tags": []
   },
   "outputs": [
    {
     "name": "stderr",
     "output_type": "stream",
     "text": [
      "100%|██████████| 1000/1000 [48:46<00:00,  2.93s/it]\n"
     ]
    }
   ],
   "source": [
    "z = multiplier_z  # .copy()\n",
    "\n",
    "permutation_results = []\n",
    "\n",
    "for i in tqdm(range(N_PERMUTATIONS)):\n",
    "    traits = []\n",
    "\n",
    "    sub_z = z[important_lvs]  # .copy()\n",
    "\n",
    "    # shuffle index\n",
    "    sub_z_index = sub_z.index.tolist()\n",
    "    np.random.shuffle(sub_z_index)\n",
    "    sub_z.index = sub_z_index\n",
    "\n",
    "    new_model_z = z.drop(columns=important_lvs).join(sub_z)\n",
    "    new_model_z = new_model_z.loc[z.index.tolist(), z.columns.tolist()]\n",
    "    assert new_model_z.shape == multiplier_z.shape\n",
    "\n",
    "    mproj = MultiplierProjection()\n",
    "    new_proj = mproj.transform(smultixcan_results, multiplier_model_z=new_model_z)\n",
    "    new_proj = new_proj.T\n",
    "\n",
    "    for lv in important_lvs:\n",
    "        _tmp = new_proj[lv]\n",
    "        _tmp = _tmp[_tmp > 0.0].sort_values(ascending=False)\n",
    "        traits.append(_tmp)\n",
    "\n",
    "    traits_df = (\n",
    "        pd.concat(traits)\n",
    "        .reset_index()\n",
    "        .groupby(\"index\")\n",
    "        .sum()\n",
    "        .sort_values(0, ascending=False)\n",
    "        .reset_index()\n",
    "    ).rename(columns={\"index\": \"trait\", 0: \"value\"})\n",
    "\n",
    "    top_traits = traits_df.head(N_TOP_TRAITS)\n",
    "    permutation_results.append(lipids_related_traits.intersection(top_traits[\"trait\"]))"
   ]
  },
  {
   "cell_type": "markdown",
   "metadata": {
    "papermill": {
     "duration": 0.177884,
     "end_time": "2021-05-21T19:09:14.381847",
     "exception": false,
     "start_time": "2021-05-21T19:09:14.203963",
     "status": "completed"
    },
    "tags": []
   },
   "source": [
    "## Save"
   ]
  },
  {
   "cell_type": "code",
   "execution_count": 49,
   "metadata": {
    "execution": {
     "iopub.execute_input": "2021-05-21T19:09:14.739251Z",
     "iopub.status.busy": "2021-05-21T19:09:14.738898Z",
     "iopub.status.idle": "2021-05-21T19:09:14.746994Z",
     "shell.execute_reply": "2021-05-21T19:09:14.746630Z"
    },
    "papermill": {
     "duration": 0.187874,
     "end_time": "2021-05-21T19:09:14.747076",
     "exception": false,
     "start_time": "2021-05-21T19:09:14.559202",
     "status": "completed"
    },
    "tags": []
   },
   "outputs": [
    {
     "data": {
      "text/plain": [
       "PosixPath('/home/miltondp/projects/labs/greenelab/phenoplier/base/results/crispr_analyses/lv-gene_set_decrease/permutations/permutation_results.pkl')"
      ]
     },
     "metadata": {},
     "output_type": "display_data"
    }
   ],
   "source": [
    "output_filepath = OUTPUT_DIR / \"permutation_results.pkl\"\n",
    "display(output_filepath)"
   ]
  },
  {
   "cell_type": "code",
   "execution_count": 50,
   "metadata": {
    "execution": {
     "iopub.execute_input": "2021-05-21T19:09:15.113037Z",
     "iopub.status.busy": "2021-05-21T19:09:15.112630Z",
     "iopub.status.idle": "2021-05-21T19:09:15.120000Z",
     "shell.execute_reply": "2021-05-21T19:09:15.119632Z"
    },
    "papermill": {
     "duration": 0.193232,
     "end_time": "2021-05-21T19:09:15.120085",
     "exception": false,
     "start_time": "2021-05-21T19:09:14.926853",
     "status": "completed"
    },
    "tags": []
   },
   "outputs": [],
   "source": [
    "with open(output_filepath, \"wb\") as handle:\n",
    "    pickle.dump(permutation_results, handle, protocol=pickle.DEFAULT_PROTOCOL)"
   ]
  },
  {
   "cell_type": "code",
   "execution_count": null,
   "metadata": {
    "papermill": {
     "duration": 0.180117,
     "end_time": "2021-05-21T19:09:15.481313",
     "exception": false,
     "start_time": "2021-05-21T19:09:15.301196",
     "status": "completed"
    },
    "tags": []
   },
   "outputs": [],
   "source": []
  }
 ],
 "metadata": {
  "jupytext": {
   "cell_metadata_filter": "all,-execution,-papermill,-trusted",
   "formats": "ipynb,py//py:percent"
  },
  "kernelspec": {
   "display_name": "Python 3",
   "language": "python",
   "name": "python3"
  },
  "language_info": {
   "codemirror_mode": {
    "name": "ipython",
    "version": 3
   },
   "file_extension": ".py",
   "mimetype": "text/x-python",
   "name": "python",
   "nbconvert_exporter": "python",
   "pygments_lexer": "ipython3",
   "version": "3.8.8"
  },
  "papermill": {
   "default_parameters": {},
   "duration": 2936.848575,
   "end_time": "2021-05-21T19:09:16.927298",
   "environment_variables": {},
   "exception": null,
   "input_path": "30_validation/crispr_screen/030_21-deg_genes-lvs-decrease-permutation.ipynb",
   "output_path": "30_validation/crispr_screen/030_21-deg_genes-lvs-decrease-permutation.run.ipynb",
   "parameters": {},
   "start_time": "2021-05-21T18:20:20.078723",
   "version": "2.2.2"
  },
  "toc-autonumbering": true
 },
 "nbformat": 4,
 "nbformat_minor": 4
}
