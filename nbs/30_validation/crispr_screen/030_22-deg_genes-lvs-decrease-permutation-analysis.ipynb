{
 "cells": [
  {
   "cell_type": "markdown",
   "metadata": {
    "papermill": {
     "duration": 0.017763,
     "end_time": "2021-03-25T19:58:24.876508",
     "exception": false,
     "start_time": "2021-03-25T19:58:24.858745",
     "status": "completed"
    },
    "tags": []
   },
   "source": [
    "# Description"
   ]
  },
  {
   "cell_type": "markdown",
   "metadata": {
    "papermill": {
     "duration": 0.014264,
     "end_time": "2021-03-25T19:58:24.907191",
     "exception": false,
     "start_time": "2021-03-25T19:58:24.892927",
     "status": "completed"
    },
    "tags": []
   },
   "source": [
    "TODO"
   ]
  },
  {
   "cell_type": "markdown",
   "metadata": {
    "papermill": {
     "duration": 0.013597,
     "end_time": "2021-03-25T19:58:24.934766",
     "exception": false,
     "start_time": "2021-03-25T19:58:24.921169",
     "status": "completed"
    },
    "tags": []
   },
   "source": [
    "# Modules loading"
   ]
  },
  {
   "cell_type": "code",
   "execution_count": null,
   "metadata": {
    "papermill": {
     "duration": 0.027352,
     "end_time": "2021-03-25T19:58:24.975797",
     "exception": false,
     "start_time": "2021-03-25T19:58:24.948445",
     "status": "completed"
    },
    "tags": []
   },
   "outputs": [],
   "source": [
    "%load_ext autoreload\n",
    "%autoreload 2"
   ]
  },
  {
   "cell_type": "code",
   "execution_count": null,
   "metadata": {
    "papermill": {
     "duration": 0.376361,
     "end_time": "2021-03-25T19:58:25.366343",
     "exception": false,
     "start_time": "2021-03-25T19:58:24.989982",
     "status": "completed"
    },
    "tags": []
   },
   "outputs": [],
   "source": [
    "import pickle\n",
    "from pathlib import Path\n",
    "\n",
    "import numpy as np\n",
    "import pandas as pd\n",
    "from IPython.display import HTML\n",
    "from tqdm import tqdm\n",
    "\n",
    "from entity import Trait, Gene\n",
    "\n",
    "import conf"
   ]
  },
  {
   "cell_type": "markdown",
   "metadata": {
    "papermill": {
     "duration": 0.014722,
     "end_time": "2021-03-25T19:58:25.396511",
     "exception": false,
     "start_time": "2021-03-25T19:58:25.381789",
     "status": "completed"
    },
    "tags": []
   },
   "source": [
    "# Settings"
   ]
  },
  {
   "cell_type": "code",
   "execution_count": null,
   "metadata": {
    "papermill": {
     "duration": 0.02308,
     "end_time": "2021-03-25T19:58:25.433533",
     "exception": false,
     "start_time": "2021-03-25T19:58:25.410453",
     "status": "completed"
    },
    "tags": []
   },
   "outputs": [],
   "source": [
    "EXPERIMENT_NAME = \"lv\"\n",
    "LIPIDS_GENE_SET = \"gene_set_decrease\""
   ]
  },
  {
   "cell_type": "code",
   "execution_count": null,
   "metadata": {
    "papermill": {
     "duration": 0.028512,
     "end_time": "2021-03-25T19:58:25.476068",
     "exception": false,
     "start_time": "2021-03-25T19:58:25.447556",
     "status": "completed"
    }
   },
   "outputs": [],
   "source": [
    "RANDOM_SEED = 0\n",
    "N_PERMUTATIONS = 1000\n",
    "N_TOP_TRAITS = 25"
   ]
  },
  {
   "cell_type": "code",
   "execution_count": null,
   "metadata": {},
   "outputs": [],
   "source": [
    "OUTPUT_DIR = Path(\n",
    "    conf.RESULTS[\"CRISPR_ANALYSES\"][\"BASE_DIR\"],\n",
    "    f\"{EXPERIMENT_NAME}-{LIPIDS_GENE_SET}\",\n",
    "    \"permutations\",\n",
    ")\n",
    "OUTPUT_DIR.mkdir(exist_ok=True, parents=True)\n",
    "display(OUTPUT_DIR)"
   ]
  },
  {
   "cell_type": "markdown",
   "metadata": {
    "papermill": {
     "duration": 0.014136,
     "end_time": "2021-03-25T19:58:25.505153",
     "exception": false,
     "start_time": "2021-03-25T19:58:25.491017",
     "status": "completed"
    },
    "tags": []
   },
   "source": [
    "# Data loading"
   ]
  },
  {
   "cell_type": "markdown",
   "metadata": {
    "papermill": {
     "duration": 0.01268,
     "end_time": "2021-03-08T19:23:21.612234",
     "exception": false,
     "start_time": "2021-03-08T19:23:21.599554",
     "status": "completed"
    },
    "tags": []
   },
   "source": [
    "## Traits list"
   ]
  },
  {
   "cell_type": "code",
   "execution_count": null,
   "metadata": {},
   "outputs": [],
   "source": [
    "input_filepath = OUTPUT_DIR / \"lipid_traits_list.pkl\"\n",
    "display(input_filepath)"
   ]
  },
  {
   "cell_type": "code",
   "execution_count": null,
   "metadata": {},
   "outputs": [],
   "source": [
    "with open(input_filepath, \"rb\") as handle:\n",
    "    lipids_related_traits = pickle.load(handle)"
   ]
  },
  {
   "cell_type": "code",
   "execution_count": null,
   "metadata": {},
   "outputs": [],
   "source": [
    "lipids_related_traits"
   ]
  },
  {
   "cell_type": "markdown",
   "metadata": {
    "papermill": {
     "duration": 0.01268,
     "end_time": "2021-03-08T19:23:21.612234",
     "exception": false,
     "start_time": "2021-03-08T19:23:21.599554",
     "status": "completed"
    },
    "tags": []
   },
   "source": [
    "## Permutations"
   ]
  },
  {
   "cell_type": "code",
   "execution_count": null,
   "metadata": {},
   "outputs": [],
   "source": [
    "input_filepath = OUTPUT_DIR / \"permutation_results.pkl\"\n",
    "display(input_filepath)"
   ]
  },
  {
   "cell_type": "code",
   "execution_count": null,
   "metadata": {},
   "outputs": [],
   "source": [
    "with open(input_filepath, \"rb\") as handle:\n",
    "    permutation_results = pickle.load(handle)"
   ]
  },
  {
   "cell_type": "code",
   "execution_count": null,
   "metadata": {},
   "outputs": [],
   "source": [
    "df = pd.Series([x for l in permutation_results for x in l])"
   ]
  },
  {
   "cell_type": "code",
   "execution_count": null,
   "metadata": {},
   "outputs": [],
   "source": [
    "with pd.option_context(\n",
    "    \"display.max_rows\", None, \"display.max_columns\", None, \"max_colwidth\", None\n",
    "):\n",
    "    display(df.value_counts())"
   ]
  },
  {
   "cell_type": "markdown",
   "metadata": {
    "papermill": {
     "duration": 0.019135,
     "end_time": "2021-03-25T19:58:26.999926",
     "exception": false,
     "start_time": "2021-03-25T19:58:26.980791",
     "status": "completed"
    },
    "tags": []
   },
   "source": [
    "# p-value"
   ]
  },
  {
   "cell_type": "code",
   "execution_count": null,
   "metadata": {},
   "outputs": [],
   "source": [
    "# in this case we are permisive to compute the p-value, and count cases where at least half of the important traits are among the top\n",
    "pval = (\n",
    "    sum(\n",
    "        [\n",
    "            (i / len(lipids_related_traits)) > 0.50\n",
    "            for i in list(map(len, permutation_results))\n",
    "        ]\n",
    "    )\n",
    "    + 1\n",
    ") / (len(permutation_results) + 1)\n",
    "\n",
    "display(pval)"
   ]
  },
  {
   "cell_type": "code",
   "execution_count": null,
   "metadata": {},
   "outputs": [],
   "source": [
    "assert pval < 0.05"
   ]
  }
 ],
 "metadata": {
  "jupytext": {
   "cell_metadata_filter": "all,-execution,-papermill,-trusted",
   "formats": "ipynb,py//py:percent"
  },
  "kernelspec": {
   "display_name": "Python 3",
   "language": "python",
   "name": "python3"
  },
  "language_info": {
   "codemirror_mode": {
    "name": "ipython",
    "version": 3
   },
   "file_extension": ".py",
   "mimetype": "text/x-python",
   "name": "python",
   "nbconvert_exporter": "python",
   "pygments_lexer": "ipython3",
   "version": "3.8.8"
  },
  "papermill": {
   "default_parameters": {},
   "duration": 6.753955,
   "end_time": "2021-03-25T19:58:30.704079",
   "environment_variables": {},
   "exception": null,
   "input_path": "30_validation/crispr_screen/030_20-deg_genes-lvs-decrease.ipynb",
   "output_path": "30_validation/crispr_screen/030_20-deg_genes-lvs-decrease.run.ipynb",
   "parameters": {},
   "start_time": "2021-03-25T19:58:23.950124",
   "version": "2.2.2"
  },
  "toc-autonumbering": true
 },
 "nbformat": 4,
 "nbformat_minor": 4
}
