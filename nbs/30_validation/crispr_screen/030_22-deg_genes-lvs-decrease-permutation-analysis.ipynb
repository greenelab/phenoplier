{
 "cells": [
  {
   "cell_type": "markdown",
   "metadata": {
    "papermill": {
     "duration": 0.009418,
     "end_time": "2021-05-21T19:09:20.600211",
     "exception": false,
     "start_time": "2021-05-21T19:09:20.590793",
     "status": "completed"
    },
    "tags": []
   },
   "source": [
    "# Description"
   ]
  },
  {
   "cell_type": "markdown",
   "metadata": {
    "papermill": {
     "duration": 0.005846,
     "end_time": "2021-05-21T19:09:20.612349",
     "exception": false,
     "start_time": "2021-05-21T19:09:20.606503",
     "status": "completed"
    },
    "tags": []
   },
   "source": [
    "TODO"
   ]
  },
  {
   "cell_type": "markdown",
   "metadata": {
    "papermill": {
     "duration": 0.005858,
     "end_time": "2021-05-21T19:09:20.624177",
     "exception": false,
     "start_time": "2021-05-21T19:09:20.618319",
     "status": "completed"
    },
    "tags": []
   },
   "source": [
    "# Modules loading"
   ]
  },
  {
   "cell_type": "code",
   "execution_count": 1,
   "metadata": {
    "execution": {
     "iopub.execute_input": "2021-05-21T19:09:20.642612Z",
     "iopub.status.busy": "2021-05-21T19:09:20.642245Z",
     "iopub.status.idle": "2021-05-21T19:09:20.649968Z",
     "shell.execute_reply": "2021-05-21T19:09:20.649541Z"
    },
    "papermill": {
     "duration": 0.019022,
     "end_time": "2021-05-21T19:09:20.650056",
     "exception": false,
     "start_time": "2021-05-21T19:09:20.631034",
     "status": "completed"
    },
    "tags": []
   },
   "outputs": [],
   "source": [
    "%load_ext autoreload\n",
    "%autoreload 2"
   ]
  },
  {
   "cell_type": "code",
   "execution_count": 2,
   "metadata": {
    "execution": {
     "iopub.execute_input": "2021-05-21T19:09:20.665542Z",
     "iopub.status.busy": "2021-05-21T19:09:20.665165Z",
     "iopub.status.idle": "2021-05-21T19:09:21.024668Z",
     "shell.execute_reply": "2021-05-21T19:09:21.024243Z"
    },
    "papermill": {
     "duration": 0.368319,
     "end_time": "2021-05-21T19:09:21.024770",
     "exception": false,
     "start_time": "2021-05-21T19:09:20.656451",
     "status": "completed"
    },
    "tags": []
   },
   "outputs": [],
   "source": [
    "import pickle\n",
    "from pathlib import Path\n",
    "\n",
    "import numpy as np\n",
    "import pandas as pd\n",
    "from IPython.display import HTML\n",
    "from tqdm import tqdm\n",
    "\n",
    "from entity import Trait, Gene\n",
    "\n",
    "import conf"
   ]
  },
  {
   "cell_type": "markdown",
   "metadata": {
    "papermill": {
     "duration": 0.006942,
     "end_time": "2021-05-21T19:09:21.038844",
     "exception": false,
     "start_time": "2021-05-21T19:09:21.031902",
     "status": "completed"
    },
    "tags": []
   },
   "source": [
    "# Settings"
   ]
  },
  {
   "cell_type": "code",
   "execution_count": 3,
   "metadata": {
    "execution": {
     "iopub.execute_input": "2021-05-21T19:09:21.057806Z",
     "iopub.status.busy": "2021-05-21T19:09:21.057329Z",
     "iopub.status.idle": "2021-05-21T19:09:21.065549Z",
     "shell.execute_reply": "2021-05-21T19:09:21.065944Z"
    },
    "papermill": {
     "duration": 0.019127,
     "end_time": "2021-05-21T19:09:21.066069",
     "exception": false,
     "start_time": "2021-05-21T19:09:21.046942",
     "status": "completed"
    },
    "tags": []
   },
   "outputs": [],
   "source": [
    "EXPERIMENT_NAME = \"lv\"\n",
    "LIPIDS_GENE_SET = \"gene_set_decrease\""
   ]
  },
  {
   "cell_type": "code",
   "execution_count": 4,
   "metadata": {
    "execution": {
     "iopub.execute_input": "2021-05-21T19:09:21.083830Z",
     "iopub.status.busy": "2021-05-21T19:09:21.083403Z",
     "iopub.status.idle": "2021-05-21T19:09:21.091125Z",
     "shell.execute_reply": "2021-05-21T19:09:21.091454Z"
    },
    "papermill": {
     "duration": 0.017657,
     "end_time": "2021-05-21T19:09:21.091573",
     "exception": false,
     "start_time": "2021-05-21T19:09:21.073916",
     "status": "completed"
    },
    "tags": []
   },
   "outputs": [],
   "source": [
    "RANDOM_SEED = 0\n",
    "N_PERMUTATIONS = 1000\n",
    "N_TOP_TRAITS = 25"
   ]
  },
  {
   "cell_type": "code",
   "execution_count": 5,
   "metadata": {
    "execution": {
     "iopub.execute_input": "2021-05-21T19:09:21.109290Z",
     "iopub.status.busy": "2021-05-21T19:09:21.108863Z",
     "iopub.status.idle": "2021-05-21T19:09:21.122212Z",
     "shell.execute_reply": "2021-05-21T19:09:21.121859Z"
    },
    "papermill": {
     "duration": 0.023105,
     "end_time": "2021-05-21T19:09:21.122308",
     "exception": false,
     "start_time": "2021-05-21T19:09:21.099203",
     "status": "completed"
    },
    "tags": []
   },
   "outputs": [
    {
     "data": {
      "text/plain": [
       "PosixPath('/home/miltondp/projects/labs/greenelab/phenoplier/base/results/crispr_analyses/lv-gene_set_decrease/permutations')"
      ]
     },
     "metadata": {},
     "output_type": "display_data"
    }
   ],
   "source": [
    "OUTPUT_DIR = Path(\n",
    "    conf.RESULTS[\"CRISPR_ANALYSES\"][\"BASE_DIR\"],\n",
    "    f\"{EXPERIMENT_NAME}-{LIPIDS_GENE_SET}\",\n",
    "    \"permutations\",\n",
    ")\n",
    "OUTPUT_DIR.mkdir(exist_ok=True, parents=True)\n",
    "display(OUTPUT_DIR)"
   ]
  },
  {
   "cell_type": "markdown",
   "metadata": {
    "papermill": {
     "duration": 0.007837,
     "end_time": "2021-05-21T19:09:21.138424",
     "exception": false,
     "start_time": "2021-05-21T19:09:21.130587",
     "status": "completed"
    },
    "tags": []
   },
   "source": [
    "# Data loading"
   ]
  },
  {
   "cell_type": "markdown",
   "metadata": {
    "papermill": {
     "duration": 0.007057,
     "end_time": "2021-05-21T19:09:21.153283",
     "exception": false,
     "start_time": "2021-05-21T19:09:21.146226",
     "status": "completed"
    },
    "tags": []
   },
   "source": [
    "## Traits list"
   ]
  },
  {
   "cell_type": "code",
   "execution_count": 6,
   "metadata": {
    "execution": {
     "iopub.execute_input": "2021-05-21T19:09:21.168648Z",
     "iopub.status.busy": "2021-05-21T19:09:21.168293Z",
     "iopub.status.idle": "2021-05-21T19:09:21.176207Z",
     "shell.execute_reply": "2021-05-21T19:09:21.175848Z"
    },
    "papermill": {
     "duration": 0.016568,
     "end_time": "2021-05-21T19:09:21.176287",
     "exception": false,
     "start_time": "2021-05-21T19:09:21.159719",
     "status": "completed"
    },
    "tags": []
   },
   "outputs": [
    {
     "data": {
      "text/plain": [
       "PosixPath('/home/miltondp/projects/labs/greenelab/phenoplier/base/results/crispr_analyses/lv-gene_set_decrease/permutations/lipid_traits_list.pkl')"
      ]
     },
     "metadata": {},
     "output_type": "display_data"
    }
   ],
   "source": [
    "input_filepath = OUTPUT_DIR / \"lipid_traits_list.pkl\"\n",
    "display(input_filepath)"
   ]
  },
  {
   "cell_type": "code",
   "execution_count": 7,
   "metadata": {
    "execution": {
     "iopub.execute_input": "2021-05-21T19:09:21.192397Z",
     "iopub.status.busy": "2021-05-21T19:09:21.192041Z",
     "iopub.status.idle": "2021-05-21T19:09:21.199270Z",
     "shell.execute_reply": "2021-05-21T19:09:21.198920Z"
    },
    "papermill": {
     "duration": 0.016204,
     "end_time": "2021-05-21T19:09:21.199354",
     "exception": false,
     "start_time": "2021-05-21T19:09:21.183150",
     "status": "completed"
    },
    "tags": []
   },
   "outputs": [],
   "source": [
    "with open(input_filepath, \"rb\") as handle:\n",
    "    lipids_related_traits = pickle.load(handle)"
   ]
  },
  {
   "cell_type": "code",
   "execution_count": 8,
   "metadata": {
    "execution": {
     "iopub.execute_input": "2021-05-21T19:09:21.217485Z",
     "iopub.status.busy": "2021-05-21T19:09:21.217065Z",
     "iopub.status.idle": "2021-05-21T19:09:21.225530Z",
     "shell.execute_reply": "2021-05-21T19:09:21.225112Z"
    },
    "papermill": {
     "duration": 0.018631,
     "end_time": "2021-05-21T19:09:21.225620",
     "exception": false,
     "start_time": "2021-05-21T19:09:21.206989",
     "status": "completed"
    },
    "tags": []
   },
   "outputs": [
    {
     "data": {
      "text/plain": [
       "{'4079_raw-Diastolic_blood_pressure_automated_reading',\n",
       " '4080_raw-Systolic_blood_pressure_automated_reading',\n",
       " '6150_100-Vascularheart_problems_diagnosed_by_doctor_None_of_the_above',\n",
       " '6150_4-Vascularheart_problems_diagnosed_by_doctor_High_blood_pressure',\n",
       " 'I9_UAP-Unstable_angina_pectoris',\n",
       " 'K11_COELIAC-Coeliac_disease',\n",
       " 'atherosclerosis',\n",
       " 'celiac disease',\n",
       " 'hypertension',\n",
       " 'malabsorption syndrome'}"
      ]
     },
     "execution_count": 8,
     "metadata": {},
     "output_type": "execute_result"
    }
   ],
   "source": [
    "lipids_related_traits"
   ]
  },
  {
   "cell_type": "markdown",
   "metadata": {
    "papermill": {
     "duration": 0.007049,
     "end_time": "2021-05-21T19:09:21.240932",
     "exception": false,
     "start_time": "2021-05-21T19:09:21.233883",
     "status": "completed"
    },
    "tags": []
   },
   "source": [
    "## Permutations"
   ]
  },
  {
   "cell_type": "code",
   "execution_count": 9,
   "metadata": {
    "execution": {
     "iopub.execute_input": "2021-05-21T19:09:21.257242Z",
     "iopub.status.busy": "2021-05-21T19:09:21.256882Z",
     "iopub.status.idle": "2021-05-21T19:09:21.264891Z",
     "shell.execute_reply": "2021-05-21T19:09:21.264516Z"
    },
    "papermill": {
     "duration": 0.017179,
     "end_time": "2021-05-21T19:09:21.264973",
     "exception": false,
     "start_time": "2021-05-21T19:09:21.247794",
     "status": "completed"
    },
    "tags": []
   },
   "outputs": [
    {
     "data": {
      "text/plain": [
       "PosixPath('/home/miltondp/projects/labs/greenelab/phenoplier/base/results/crispr_analyses/lv-gene_set_decrease/permutations/permutation_results.pkl')"
      ]
     },
     "metadata": {},
     "output_type": "display_data"
    }
   ],
   "source": [
    "input_filepath = OUTPUT_DIR / \"permutation_results.pkl\"\n",
    "display(input_filepath)"
   ]
  },
  {
   "cell_type": "code",
   "execution_count": 10,
   "metadata": {
    "execution": {
     "iopub.execute_input": "2021-05-21T19:09:21.282417Z",
     "iopub.status.busy": "2021-05-21T19:09:21.282050Z",
     "iopub.status.idle": "2021-05-21T19:09:21.289277Z",
     "shell.execute_reply": "2021-05-21T19:09:21.288903Z"
    },
    "papermill": {
     "duration": 0.016787,
     "end_time": "2021-05-21T19:09:21.289360",
     "exception": false,
     "start_time": "2021-05-21T19:09:21.272573",
     "status": "completed"
    },
    "tags": []
   },
   "outputs": [],
   "source": [
    "with open(input_filepath, \"rb\") as handle:\n",
    "    permutation_results = pickle.load(handle)"
   ]
  },
  {
   "cell_type": "code",
   "execution_count": 11,
   "metadata": {
    "execution": {
     "iopub.execute_input": "2021-05-21T19:09:21.307325Z",
     "iopub.status.busy": "2021-05-21T19:09:21.306959Z",
     "iopub.status.idle": "2021-05-21T19:09:21.314440Z",
     "shell.execute_reply": "2021-05-21T19:09:21.314051Z"
    },
    "papermill": {
     "duration": 0.017385,
     "end_time": "2021-05-21T19:09:21.314527",
     "exception": false,
     "start_time": "2021-05-21T19:09:21.297142",
     "status": "completed"
    },
    "tags": []
   },
   "outputs": [],
   "source": [
    "df = pd.Series([x for l in permutation_results for x in l])"
   ]
  },
  {
   "cell_type": "code",
   "execution_count": 12,
   "metadata": {
    "execution": {
     "iopub.execute_input": "2021-05-21T19:09:21.332820Z",
     "iopub.status.busy": "2021-05-21T19:09:21.332412Z",
     "iopub.status.idle": "2021-05-21T19:09:21.341748Z",
     "shell.execute_reply": "2021-05-21T19:09:21.341365Z"
    },
    "papermill": {
     "duration": 0.019164,
     "end_time": "2021-05-21T19:09:21.341833",
     "exception": false,
     "start_time": "2021-05-21T19:09:21.322669",
     "status": "completed"
    },
    "tags": []
   },
   "outputs": [
    {
     "data": {
      "text/plain": [
       "celiac disease                                                           225\n",
       "K11_COELIAC-Coeliac_disease                                              126\n",
       "malabsorption syndrome                                                   121\n",
       "6150_100-Vascularheart_problems_diagnosed_by_doctor_None_of_the_above     19\n",
       "4080_raw-Systolic_blood_pressure_automated_reading                        19\n",
       "6150_4-Vascularheart_problems_diagnosed_by_doctor_High_blood_pressure     18\n",
       "atherosclerosis                                                           15\n",
       "4079_raw-Diastolic_blood_pressure_automated_reading                       14\n",
       "hypertension                                                              13\n",
       "I9_UAP-Unstable_angina_pectoris                                            9\n",
       "dtype: int64"
      ]
     },
     "metadata": {},
     "output_type": "display_data"
    }
   ],
   "source": [
    "with pd.option_context(\n",
    "    \"display.max_rows\", None, \"display.max_columns\", None, \"max_colwidth\", None\n",
    "):\n",
    "    display(df.value_counts())"
   ]
  },
  {
   "cell_type": "markdown",
   "metadata": {
    "papermill": {
     "duration": 0.007699,
     "end_time": "2021-05-21T19:09:21.357816",
     "exception": false,
     "start_time": "2021-05-21T19:09:21.350117",
     "status": "completed"
    },
    "tags": []
   },
   "source": [
    "# p-value"
   ]
  },
  {
   "cell_type": "code",
   "execution_count": 13,
   "metadata": {
    "execution": {
     "iopub.execute_input": "2021-05-21T19:09:21.376164Z",
     "iopub.status.busy": "2021-05-21T19:09:21.375805Z",
     "iopub.status.idle": "2021-05-21T19:09:21.384021Z",
     "shell.execute_reply": "2021-05-21T19:09:21.383662Z"
    },
    "papermill": {
     "duration": 0.018577,
     "end_time": "2021-05-21T19:09:21.384101",
     "exception": false,
     "start_time": "2021-05-21T19:09:21.365524",
     "status": "completed"
    },
    "tags": []
   },
   "outputs": [
    {
     "data": {
      "text/plain": [
       "0.001998001998001998"
      ]
     },
     "metadata": {},
     "output_type": "display_data"
    }
   ],
   "source": [
    "# in this case we are permisive to compute the p-value, and count cases where at least half of the important traits are among the top\n",
    "pval = (\n",
    "    sum(\n",
    "        [\n",
    "            (i / len(lipids_related_traits)) > 0.50\n",
    "            for i in list(map(len, permutation_results))\n",
    "        ]\n",
    "    )\n",
    "    + 1\n",
    ") / (len(permutation_results) + 1)\n",
    "\n",
    "display(pval)"
   ]
  },
  {
   "cell_type": "code",
   "execution_count": 14,
   "metadata": {
    "execution": {
     "iopub.execute_input": "2021-05-21T19:09:21.402682Z",
     "iopub.status.busy": "2021-05-21T19:09:21.402325Z",
     "iopub.status.idle": "2021-05-21T19:09:21.409191Z",
     "shell.execute_reply": "2021-05-21T19:09:21.408886Z"
    },
    "papermill": {
     "duration": 0.017,
     "end_time": "2021-05-21T19:09:21.409278",
     "exception": false,
     "start_time": "2021-05-21T19:09:21.392278",
     "status": "completed"
    },
    "tags": []
   },
   "outputs": [],
   "source": [
    "assert pval < 0.05"
   ]
  }
 ],
 "metadata": {
  "jupytext": {
   "cell_metadata_filter": "all,-execution,-papermill,-trusted",
   "formats": "ipynb,py//py:percent"
  },
  "kernelspec": {
   "display_name": "Python 3",
   "language": "python",
   "name": "python3"
  },
  "language_info": {
   "codemirror_mode": {
    "name": "ipython",
    "version": 3
   },
   "file_extension": ".py",
   "mimetype": "text/x-python",
   "name": "python",
   "nbconvert_exporter": "python",
   "pygments_lexer": "ipython3",
   "version": "3.8.8"
  },
  "papermill": {
   "default_parameters": {},
   "duration": 2.096201,
   "end_time": "2021-05-21T19:09:21.724738",
   "environment_variables": {},
   "exception": null,
   "input_path": "30_validation/crispr_screen/030_22-deg_genes-lvs-decrease-permutation-analysis.ipynb",
   "output_path": "30_validation/crispr_screen/030_22-deg_genes-lvs-decrease-permutation-analysis.run.ipynb",
   "parameters": {},
   "start_time": "2021-05-21T19:09:19.628537",
   "version": "2.2.2"
  },
  "toc-autonumbering": true
 },
 "nbformat": 4,
 "nbformat_minor": 4
}
