{
 "cells": [
  {
   "cell_type": "markdown",
   "metadata": {
    "papermill": {
     "duration": 0.042425,
     "end_time": "2021-05-21T19:09:24.206978",
     "exception": false,
     "start_time": "2021-05-21T19:09:24.164553",
     "status": "completed"
    },
    "tags": []
   },
   "source": [
    "# Description"
   ]
  },
  {
   "cell_type": "markdown",
   "metadata": {
    "papermill": {
     "duration": 0.013277,
     "end_time": "2021-05-21T19:09:24.233503",
     "exception": false,
     "start_time": "2021-05-21T19:09:24.220226",
     "status": "completed"
    },
    "tags": []
   },
   "source": [
    "TODO"
   ]
  },
  {
   "cell_type": "markdown",
   "metadata": {
    "papermill": {
     "duration": 0.013039,
     "end_time": "2021-05-21T19:09:24.259815",
     "exception": false,
     "start_time": "2021-05-21T19:09:24.246776",
     "status": "completed"
    },
    "tags": []
   },
   "source": [
    "# Modules loading"
   ]
  },
  {
   "cell_type": "code",
   "execution_count": 1,
   "metadata": {
    "execution": {
     "iopub.execute_input": "2021-05-21T19:09:24.292311Z",
     "iopub.status.busy": "2021-05-21T19:09:24.291916Z",
     "iopub.status.idle": "2021-05-21T19:09:24.299850Z",
     "shell.execute_reply": "2021-05-21T19:09:24.299351Z"
    },
    "papermill": {
     "duration": 0.026949,
     "end_time": "2021-05-21T19:09:24.299943",
     "exception": false,
     "start_time": "2021-05-21T19:09:24.272994",
     "status": "completed"
    },
    "tags": []
   },
   "outputs": [],
   "source": [
    "%load_ext autoreload\n",
    "%autoreload 2"
   ]
  },
  {
   "cell_type": "code",
   "execution_count": 2,
   "metadata": {
    "execution": {
     "iopub.execute_input": "2021-05-21T19:09:24.330653Z",
     "iopub.status.busy": "2021-05-21T19:09:24.330261Z",
     "iopub.status.idle": "2021-05-21T19:09:24.694461Z",
     "shell.execute_reply": "2021-05-21T19:09:24.694085Z"
    },
    "papermill": {
     "duration": 0.38027,
     "end_time": "2021-05-21T19:09:24.694560",
     "exception": false,
     "start_time": "2021-05-21T19:09:24.314290",
     "status": "completed"
    },
    "tags": []
   },
   "outputs": [],
   "source": [
    "from pathlib import Path\n",
    "\n",
    "import pandas as pd\n",
    "from IPython.display import HTML\n",
    "\n",
    "from entity import Trait\n",
    "from data.cache import read_data\n",
    "import conf"
   ]
  },
  {
   "cell_type": "markdown",
   "metadata": {
    "papermill": {
     "duration": 0.014255,
     "end_time": "2021-05-21T19:09:24.724538",
     "exception": false,
     "start_time": "2021-05-21T19:09:24.710283",
     "status": "completed"
    },
    "tags": []
   },
   "source": [
    "# Settings"
   ]
  },
  {
   "cell_type": "code",
   "execution_count": 3,
   "metadata": {
    "execution": {
     "iopub.execute_input": "2021-05-21T19:09:24.753880Z",
     "iopub.status.busy": "2021-05-21T19:09:24.753516Z",
     "iopub.status.idle": "2021-05-21T19:09:24.760790Z",
     "shell.execute_reply": "2021-05-21T19:09:24.760367Z"
    },
    "papermill": {
     "duration": 0.022784,
     "end_time": "2021-05-21T19:09:24.760883",
     "exception": false,
     "start_time": "2021-05-21T19:09:24.738099",
     "status": "completed"
    },
    "tags": []
   },
   "outputs": [],
   "source": [
    "EXPERIMENT_NAME = \"lv\"\n",
    "LIPIDS_GENE_SET = \"gene_set_increase\""
   ]
  },
  {
   "cell_type": "code",
   "execution_count": 4,
   "metadata": {
    "execution": {
     "iopub.execute_input": "2021-05-21T19:09:24.790473Z",
     "iopub.status.busy": "2021-05-21T19:09:24.790105Z",
     "iopub.status.idle": "2021-05-21T19:09:24.802080Z",
     "shell.execute_reply": "2021-05-21T19:09:24.801733Z"
    },
    "papermill": {
     "duration": 0.027759,
     "end_time": "2021-05-21T19:09:24.802164",
     "exception": false,
     "start_time": "2021-05-21T19:09:24.774405",
     "status": "completed"
    },
    "tags": []
   },
   "outputs": [
    {
     "data": {
      "text/plain": [
       "PosixPath('/home/miltondp/projects/labs/greenelab/phenoplier/base/results/crispr_analyses/lv-gene_set_increase')"
      ]
     },
     "metadata": {},
     "output_type": "display_data"
    }
   ],
   "source": [
    "OUTPUT_DIR = Path(\n",
    "    conf.RESULTS[\"CRISPR_ANALYSES\"][\"BASE_DIR\"], f\"{EXPERIMENT_NAME}-{LIPIDS_GENE_SET}\"\n",
    ")\n",
    "OUTPUT_DIR.mkdir(exist_ok=True, parents=True)\n",
    "display(OUTPUT_DIR)"
   ]
  },
  {
   "cell_type": "markdown",
   "metadata": {
    "papermill": {
     "duration": 0.014163,
     "end_time": "2021-05-21T19:09:24.831477",
     "exception": false,
     "start_time": "2021-05-21T19:09:24.817314",
     "status": "completed"
    },
    "tags": []
   },
   "source": [
    "# Data loading"
   ]
  },
  {
   "cell_type": "markdown",
   "metadata": {
    "papermill": {
     "duration": 0.013625,
     "end_time": "2021-05-21T19:09:24.858865",
     "exception": false,
     "start_time": "2021-05-21T19:09:24.845240",
     "status": "completed"
    },
    "tags": []
   },
   "source": [
    "## PhenomeXcan projection"
   ]
  },
  {
   "cell_type": "code",
   "execution_count": 5,
   "metadata": {
    "execution": {
     "iopub.execute_input": "2021-05-21T19:09:24.888865Z",
     "iopub.status.busy": "2021-05-21T19:09:24.888454Z",
     "iopub.status.idle": "2021-05-21T19:09:24.896810Z",
     "shell.execute_reply": "2021-05-21T19:09:24.896389Z"
    },
    "papermill": {
     "duration": 0.024386,
     "end_time": "2021-05-21T19:09:24.896891",
     "exception": false,
     "start_time": "2021-05-21T19:09:24.872505",
     "status": "completed"
    },
    "tags": []
   },
   "outputs": [
    {
     "data": {
      "text/plain": [
       "PosixPath('/home/miltondp/projects/labs/greenelab/phenoplier/base/results/projections/projection-smultixcan-efo_partial-mashr-zscores.pkl')"
      ]
     },
     "metadata": {},
     "output_type": "display_data"
    }
   ],
   "source": [
    "input_filepath = Path(\n",
    "    conf.RESULTS[\"PROJECTIONS_DIR\"],\n",
    "    \"projection-smultixcan-efo_partial-mashr-zscores.pkl\",\n",
    ").resolve()\n",
    "display(input_filepath)"
   ]
  },
  {
   "cell_type": "code",
   "execution_count": 6,
   "metadata": {
    "execution": {
     "iopub.execute_input": "2021-05-21T19:09:24.927861Z",
     "iopub.status.busy": "2021-05-21T19:09:24.927493Z",
     "iopub.status.idle": "2021-05-21T19:09:24.948942Z",
     "shell.execute_reply": "2021-05-21T19:09:24.948505Z"
    },
    "papermill": {
     "duration": 0.037656,
     "end_time": "2021-05-21T19:09:24.949036",
     "exception": false,
     "start_time": "2021-05-21T19:09:24.911380",
     "status": "completed"
    },
    "tags": []
   },
   "outputs": [],
   "source": [
    "phenomexcan_data = pd.read_pickle(input_filepath).T"
   ]
  },
  {
   "cell_type": "code",
   "execution_count": 7,
   "metadata": {
    "execution": {
     "iopub.execute_input": "2021-05-21T19:09:24.984654Z",
     "iopub.status.busy": "2021-05-21T19:09:24.984288Z",
     "iopub.status.idle": "2021-05-21T19:09:24.992275Z",
     "shell.execute_reply": "2021-05-21T19:09:24.991903Z"
    },
    "papermill": {
     "duration": 0.026748,
     "end_time": "2021-05-21T19:09:24.992359",
     "exception": false,
     "start_time": "2021-05-21T19:09:24.965611",
     "status": "completed"
    },
    "tags": []
   },
   "outputs": [
    {
     "data": {
      "text/plain": [
       "(3752, 987)"
      ]
     },
     "execution_count": 7,
     "metadata": {},
     "output_type": "execute_result"
    }
   ],
   "source": [
    "phenomexcan_data.shape"
   ]
  },
  {
   "cell_type": "code",
   "execution_count": 8,
   "metadata": {
    "execution": {
     "iopub.execute_input": "2021-05-21T19:09:25.023926Z",
     "iopub.status.busy": "2021-05-21T19:09:25.023569Z",
     "iopub.status.idle": "2021-05-21T19:09:25.043128Z",
     "shell.execute_reply": "2021-05-21T19:09:25.043434Z"
    },
    "papermill": {
     "duration": 0.036153,
     "end_time": "2021-05-21T19:09:25.043542",
     "exception": false,
     "start_time": "2021-05-21T19:09:25.007389",
     "status": "completed"
    },
    "tags": []
   },
   "outputs": [
    {
     "data": {
      "text/html": [
       "<div>\n",
       "<style scoped>\n",
       "    .dataframe tbody tr th:only-of-type {\n",
       "        vertical-align: middle;\n",
       "    }\n",
       "\n",
       "    .dataframe tbody tr th {\n",
       "        vertical-align: top;\n",
       "    }\n",
       "\n",
       "    .dataframe thead th {\n",
       "        text-align: right;\n",
       "    }\n",
       "</style>\n",
       "<table border=\"1\" class=\"dataframe\">\n",
       "  <thead>\n",
       "    <tr style=\"text-align: right;\">\n",
       "      <th></th>\n",
       "      <th>LV1</th>\n",
       "      <th>LV2</th>\n",
       "      <th>LV3</th>\n",
       "      <th>LV4</th>\n",
       "      <th>LV5</th>\n",
       "      <th>LV6</th>\n",
       "      <th>LV7</th>\n",
       "      <th>LV8</th>\n",
       "      <th>LV9</th>\n",
       "      <th>LV10</th>\n",
       "      <th>...</th>\n",
       "      <th>LV978</th>\n",
       "      <th>LV979</th>\n",
       "      <th>LV980</th>\n",
       "      <th>LV981</th>\n",
       "      <th>LV982</th>\n",
       "      <th>LV983</th>\n",
       "      <th>LV984</th>\n",
       "      <th>LV985</th>\n",
       "      <th>LV986</th>\n",
       "      <th>LV987</th>\n",
       "    </tr>\n",
       "  </thead>\n",
       "  <tbody>\n",
       "    <tr>\n",
       "      <th>100001_raw-Food_weight</th>\n",
       "      <td>-0.021292</td>\n",
       "      <td>0.056061</td>\n",
       "      <td>0.001650</td>\n",
       "      <td>0.026265</td>\n",
       "      <td>-0.015616</td>\n",
       "      <td>0.040333</td>\n",
       "      <td>-0.012050</td>\n",
       "      <td>0.027985</td>\n",
       "      <td>0.021028</td>\n",
       "      <td>0.027118</td>\n",
       "      <td>...</td>\n",
       "      <td>0.033575</td>\n",
       "      <td>0.051033</td>\n",
       "      <td>-0.038899</td>\n",
       "      <td>0.084371</td>\n",
       "      <td>0.027174</td>\n",
       "      <td>-0.032639</td>\n",
       "      <td>0.015128</td>\n",
       "      <td>-0.018430</td>\n",
       "      <td>0.016253</td>\n",
       "      <td>-0.021666</td>\n",
       "    </tr>\n",
       "    <tr>\n",
       "      <th>100002_raw-Energy</th>\n",
       "      <td>-0.046815</td>\n",
       "      <td>-0.009864</td>\n",
       "      <td>-0.004262</td>\n",
       "      <td>-0.007235</td>\n",
       "      <td>0.010799</td>\n",
       "      <td>0.021540</td>\n",
       "      <td>0.008009</td>\n",
       "      <td>0.025354</td>\n",
       "      <td>0.009816</td>\n",
       "      <td>0.041230</td>\n",
       "      <td>...</td>\n",
       "      <td>0.006675</td>\n",
       "      <td>0.022421</td>\n",
       "      <td>-0.014042</td>\n",
       "      <td>0.002723</td>\n",
       "      <td>0.066739</td>\n",
       "      <td>-0.031207</td>\n",
       "      <td>-0.001040</td>\n",
       "      <td>0.050533</td>\n",
       "      <td>-0.007979</td>\n",
       "      <td>-0.017742</td>\n",
       "    </tr>\n",
       "    <tr>\n",
       "      <th>100003_raw-Protein</th>\n",
       "      <td>-0.021585</td>\n",
       "      <td>-0.028888</td>\n",
       "      <td>0.019211</td>\n",
       "      <td>0.004304</td>\n",
       "      <td>0.017792</td>\n",
       "      <td>0.023804</td>\n",
       "      <td>-0.001246</td>\n",
       "      <td>0.023492</td>\n",
       "      <td>0.007045</td>\n",
       "      <td>-0.002453</td>\n",
       "      <td>...</td>\n",
       "      <td>0.029808</td>\n",
       "      <td>0.030413</td>\n",
       "      <td>-0.065487</td>\n",
       "      <td>0.000143</td>\n",
       "      <td>0.001568</td>\n",
       "      <td>-0.027622</td>\n",
       "      <td>-0.006422</td>\n",
       "      <td>0.040084</td>\n",
       "      <td>-0.008175</td>\n",
       "      <td>-0.014154</td>\n",
       "    </tr>\n",
       "    <tr>\n",
       "      <th>100004_raw-Fat</th>\n",
       "      <td>-0.030324</td>\n",
       "      <td>-0.053573</td>\n",
       "      <td>0.007484</td>\n",
       "      <td>-0.042464</td>\n",
       "      <td>0.010591</td>\n",
       "      <td>0.031777</td>\n",
       "      <td>0.007824</td>\n",
       "      <td>0.018422</td>\n",
       "      <td>-0.027632</td>\n",
       "      <td>0.028237</td>\n",
       "      <td>...</td>\n",
       "      <td>0.017412</td>\n",
       "      <td>0.018589</td>\n",
       "      <td>0.003284</td>\n",
       "      <td>-0.004189</td>\n",
       "      <td>0.040693</td>\n",
       "      <td>-0.036318</td>\n",
       "      <td>0.019393</td>\n",
       "      <td>0.029495</td>\n",
       "      <td>-0.015966</td>\n",
       "      <td>-0.002160</td>\n",
       "    </tr>\n",
       "    <tr>\n",
       "      <th>100005_raw-Carbohydrate</th>\n",
       "      <td>-0.017773</td>\n",
       "      <td>0.006951</td>\n",
       "      <td>0.004548</td>\n",
       "      <td>-0.001093</td>\n",
       "      <td>0.001972</td>\n",
       "      <td>-0.005518</td>\n",
       "      <td>0.033477</td>\n",
       "      <td>0.017333</td>\n",
       "      <td>0.040532</td>\n",
       "      <td>0.029409</td>\n",
       "      <td>...</td>\n",
       "      <td>-0.007403</td>\n",
       "      <td>-0.000781</td>\n",
       "      <td>0.006414</td>\n",
       "      <td>0.009671</td>\n",
       "      <td>0.034106</td>\n",
       "      <td>-0.008757</td>\n",
       "      <td>0.022819</td>\n",
       "      <td>0.055545</td>\n",
       "      <td>0.005864</td>\n",
       "      <td>-0.055875</td>\n",
       "    </tr>\n",
       "  </tbody>\n",
       "</table>\n",
       "<p>5 rows × 987 columns</p>\n",
       "</div>"
      ],
      "text/plain": [
       "                              LV1       LV2       LV3       LV4       LV5  \\\n",
       "100001_raw-Food_weight  -0.021292  0.056061  0.001650  0.026265 -0.015616   \n",
       "100002_raw-Energy       -0.046815 -0.009864 -0.004262 -0.007235  0.010799   \n",
       "100003_raw-Protein      -0.021585 -0.028888  0.019211  0.004304  0.017792   \n",
       "100004_raw-Fat          -0.030324 -0.053573  0.007484 -0.042464  0.010591   \n",
       "100005_raw-Carbohydrate -0.017773  0.006951  0.004548 -0.001093  0.001972   \n",
       "\n",
       "                              LV6       LV7       LV8       LV9      LV10  \\\n",
       "100001_raw-Food_weight   0.040333 -0.012050  0.027985  0.021028  0.027118   \n",
       "100002_raw-Energy        0.021540  0.008009  0.025354  0.009816  0.041230   \n",
       "100003_raw-Protein       0.023804 -0.001246  0.023492  0.007045 -0.002453   \n",
       "100004_raw-Fat           0.031777  0.007824  0.018422 -0.027632  0.028237   \n",
       "100005_raw-Carbohydrate -0.005518  0.033477  0.017333  0.040532  0.029409   \n",
       "\n",
       "                         ...     LV978     LV979     LV980     LV981  \\\n",
       "100001_raw-Food_weight   ...  0.033575  0.051033 -0.038899  0.084371   \n",
       "100002_raw-Energy        ...  0.006675  0.022421 -0.014042  0.002723   \n",
       "100003_raw-Protein       ...  0.029808  0.030413 -0.065487  0.000143   \n",
       "100004_raw-Fat           ...  0.017412  0.018589  0.003284 -0.004189   \n",
       "100005_raw-Carbohydrate  ... -0.007403 -0.000781  0.006414  0.009671   \n",
       "\n",
       "                            LV982     LV983     LV984     LV985     LV986  \\\n",
       "100001_raw-Food_weight   0.027174 -0.032639  0.015128 -0.018430  0.016253   \n",
       "100002_raw-Energy        0.066739 -0.031207 -0.001040  0.050533 -0.007979   \n",
       "100003_raw-Protein       0.001568 -0.027622 -0.006422  0.040084 -0.008175   \n",
       "100004_raw-Fat           0.040693 -0.036318  0.019393  0.029495 -0.015966   \n",
       "100005_raw-Carbohydrate  0.034106 -0.008757  0.022819  0.055545  0.005864   \n",
       "\n",
       "                            LV987  \n",
       "100001_raw-Food_weight  -0.021666  \n",
       "100002_raw-Energy       -0.017742  \n",
       "100003_raw-Protein      -0.014154  \n",
       "100004_raw-Fat          -0.002160  \n",
       "100005_raw-Carbohydrate -0.055875  \n",
       "\n",
       "[5 rows x 987 columns]"
      ]
     },
     "execution_count": 8,
     "metadata": {},
     "output_type": "execute_result"
    }
   ],
   "source": [
    "phenomexcan_data.head()"
   ]
  },
  {
   "cell_type": "markdown",
   "metadata": {
    "papermill": {
     "duration": 0.018134,
     "end_time": "2021-05-21T19:09:25.077934",
     "exception": false,
     "start_time": "2021-05-21T19:09:25.059800",
     "status": "completed"
    },
    "tags": []
   },
   "source": [
    "## LVs enrichment on DEG from CRISPR screen"
   ]
  },
  {
   "cell_type": "code",
   "execution_count": 9,
   "metadata": {
    "execution": {
     "iopub.execute_input": "2021-05-21T19:09:25.112633Z",
     "iopub.status.busy": "2021-05-21T19:09:25.112276Z",
     "iopub.status.idle": "2021-05-21T19:09:25.126320Z",
     "shell.execute_reply": "2021-05-21T19:09:25.126609Z"
    },
    "papermill": {
     "duration": 0.032217,
     "end_time": "2021-05-21T19:09:25.126718",
     "exception": false,
     "start_time": "2021-05-21T19:09:25.094501",
     "status": "completed"
    },
    "tags": []
   },
   "outputs": [],
   "source": [
    "deg_enrich = pd.read_csv(\n",
    "    Path(conf.RESULTS[\"CRISPR_ANALYSES\"][\"BASE_DIR\"], \"fgsea-all_lvs.tsv\").resolve(),\n",
    "    sep=\"\\t\",\n",
    ")"
   ]
  },
  {
   "cell_type": "code",
   "execution_count": 10,
   "metadata": {
    "execution": {
     "iopub.execute_input": "2021-05-21T19:09:25.159708Z",
     "iopub.status.busy": "2021-05-21T19:09:25.159353Z",
     "iopub.status.idle": "2021-05-21T19:09:25.166635Z",
     "shell.execute_reply": "2021-05-21T19:09:25.166912Z"
    },
    "papermill": {
     "duration": 0.024948,
     "end_time": "2021-05-21T19:09:25.167016",
     "exception": false,
     "start_time": "2021-05-21T19:09:25.142068",
     "status": "completed"
    },
    "tags": []
   },
   "outputs": [
    {
     "data": {
      "text/plain": [
       "(1973, 11)"
      ]
     },
     "execution_count": 10,
     "metadata": {},
     "output_type": "execute_result"
    }
   ],
   "source": [
    "deg_enrich.shape"
   ]
  },
  {
   "cell_type": "code",
   "execution_count": 11,
   "metadata": {
    "execution": {
     "iopub.execute_input": "2021-05-21T19:09:25.199739Z",
     "iopub.status.busy": "2021-05-21T19:09:25.199376Z",
     "iopub.status.idle": "2021-05-21T19:09:25.213759Z",
     "shell.execute_reply": "2021-05-21T19:09:25.213372Z"
    },
    "papermill": {
     "duration": 0.031413,
     "end_time": "2021-05-21T19:09:25.213845",
     "exception": false,
     "start_time": "2021-05-21T19:09:25.182432",
     "status": "completed"
    },
    "tags": []
   },
   "outputs": [
    {
     "data": {
      "text/html": [
       "<div>\n",
       "<style scoped>\n",
       "    .dataframe tbody tr th:only-of-type {\n",
       "        vertical-align: middle;\n",
       "    }\n",
       "\n",
       "    .dataframe tbody tr th {\n",
       "        vertical-align: top;\n",
       "    }\n",
       "\n",
       "    .dataframe thead th {\n",
       "        text-align: right;\n",
       "    }\n",
       "</style>\n",
       "<table border=\"1\" class=\"dataframe\">\n",
       "  <thead>\n",
       "    <tr style=\"text-align: right;\">\n",
       "      <th></th>\n",
       "      <th>pathway</th>\n",
       "      <th>pval</th>\n",
       "      <th>padj</th>\n",
       "      <th>log2err</th>\n",
       "      <th>ES</th>\n",
       "      <th>NES</th>\n",
       "      <th>size</th>\n",
       "      <th>leadingEdge</th>\n",
       "      <th>lv</th>\n",
       "      <th>rep_idx</th>\n",
       "      <th>fdr</th>\n",
       "    </tr>\n",
       "  </thead>\n",
       "  <tbody>\n",
       "    <tr>\n",
       "      <th>0</th>\n",
       "      <td>gene_set_decrease</td>\n",
       "      <td>0.198801</td>\n",
       "      <td>0.251748</td>\n",
       "      <td>0.091680</td>\n",
       "      <td>0.578418</td>\n",
       "      <td>1.123767</td>\n",
       "      <td>35</td>\n",
       "      <td>PTBP1, KEAP1, PEX14, DLST, PCYT2, MAD2L2, GLRX...</td>\n",
       "      <td>LV1</td>\n",
       "      <td>2</td>\n",
       "      <td>0.755621</td>\n",
       "    </tr>\n",
       "    <tr>\n",
       "      <th>1</th>\n",
       "      <td>gene_set_increase</td>\n",
       "      <td>0.251748</td>\n",
       "      <td>0.251748</td>\n",
       "      <td>0.078711</td>\n",
       "      <td>0.539155</td>\n",
       "      <td>1.078565</td>\n",
       "      <td>63</td>\n",
       "      <td>CHERP, RANGAP1, HNRNPL, RPS2, E4F1, TAF1C, GAT...</td>\n",
       "      <td>LV1</td>\n",
       "      <td>2</td>\n",
       "      <td>0.779947</td>\n",
       "    </tr>\n",
       "    <tr>\n",
       "      <th>2</th>\n",
       "      <td>gene_set_decrease</td>\n",
       "      <td>0.963037</td>\n",
       "      <td>0.999001</td>\n",
       "      <td>0.008938</td>\n",
       "      <td>0.434799</td>\n",
       "      <td>0.678421</td>\n",
       "      <td>20</td>\n",
       "      <td>VDR, ACVR1B, KEAP1, NDUFV2, PEX14, NDUFS3, WDR26</td>\n",
       "      <td>LV10</td>\n",
       "      <td>5</td>\n",
       "      <td>1.000000</td>\n",
       "    </tr>\n",
       "    <tr>\n",
       "      <th>3</th>\n",
       "      <td>gene_set_increase</td>\n",
       "      <td>1.000000</td>\n",
       "      <td>1.000000</td>\n",
       "      <td>0.000000</td>\n",
       "      <td>0.236619</td>\n",
       "      <td>0.378164</td>\n",
       "      <td>25</td>\n",
       "      <td>USP39, SRP19, ZNF3, RPL18, RPS19, RAP1GDS1, CH...</td>\n",
       "      <td>LV10</td>\n",
       "      <td>2</td>\n",
       "      <td>1.000000</td>\n",
       "    </tr>\n",
       "    <tr>\n",
       "      <th>4</th>\n",
       "      <td>gene_set_decrease</td>\n",
       "      <td>0.042957</td>\n",
       "      <td>0.085914</td>\n",
       "      <td>0.216543</td>\n",
       "      <td>0.831205</td>\n",
       "      <td>1.711885</td>\n",
       "      <td>27</td>\n",
       "      <td>NDUFB7, PTBP1, RRAGC, PPP2R2B, SQLE</td>\n",
       "      <td>LV100</td>\n",
       "      <td>6</td>\n",
       "      <td>0.718678</td>\n",
       "    </tr>\n",
       "  </tbody>\n",
       "</table>\n",
       "</div>"
      ],
      "text/plain": [
       "             pathway      pval      padj   log2err        ES       NES  size  \\\n",
       "0  gene_set_decrease  0.198801  0.251748  0.091680  0.578418  1.123767    35   \n",
       "1  gene_set_increase  0.251748  0.251748  0.078711  0.539155  1.078565    63   \n",
       "2  gene_set_decrease  0.963037  0.999001  0.008938  0.434799  0.678421    20   \n",
       "3  gene_set_increase  1.000000  1.000000  0.000000  0.236619  0.378164    25   \n",
       "4  gene_set_decrease  0.042957  0.085914  0.216543  0.831205  1.711885    27   \n",
       "\n",
       "                                         leadingEdge     lv  rep_idx       fdr  \n",
       "0  PTBP1, KEAP1, PEX14, DLST, PCYT2, MAD2L2, GLRX...    LV1        2  0.755621  \n",
       "1  CHERP, RANGAP1, HNRNPL, RPS2, E4F1, TAF1C, GAT...    LV1        2  0.779947  \n",
       "2   VDR, ACVR1B, KEAP1, NDUFV2, PEX14, NDUFS3, WDR26   LV10        5  1.000000  \n",
       "3  USP39, SRP19, ZNF3, RPL18, RPS19, RAP1GDS1, CH...   LV10        2  1.000000  \n",
       "4                NDUFB7, PTBP1, RRAGC, PPP2R2B, SQLE  LV100        6  0.718678  "
      ]
     },
     "execution_count": 11,
     "metadata": {},
     "output_type": "execute_result"
    }
   ],
   "source": [
    "deg_enrich.head()"
   ]
  },
  {
   "cell_type": "markdown",
   "metadata": {
    "papermill": {
     "duration": 0.015297,
     "end_time": "2021-05-21T19:09:25.245453",
     "exception": false,
     "start_time": "2021-05-21T19:09:25.230156",
     "status": "completed"
    },
    "tags": []
   },
   "source": [
    "## MultiPLIER summary"
   ]
  },
  {
   "cell_type": "code",
   "execution_count": 12,
   "metadata": {
    "execution": {
     "iopub.execute_input": "2021-05-21T19:09:25.278794Z",
     "iopub.status.busy": "2021-05-21T19:09:25.278436Z",
     "iopub.status.idle": "2021-05-21T19:09:25.287177Z",
     "shell.execute_reply": "2021-05-21T19:09:25.286807Z"
    },
    "papermill": {
     "duration": 0.02647,
     "end_time": "2021-05-21T19:09:25.287260",
     "exception": false,
     "start_time": "2021-05-21T19:09:25.260790",
     "status": "completed"
    },
    "tags": []
   },
   "outputs": [],
   "source": [
    "multiplier_model_summary = read_data(conf.MULTIPLIER[\"MODEL_SUMMARY_FILE\"])"
   ]
  },
  {
   "cell_type": "code",
   "execution_count": 13,
   "metadata": {
    "execution": {
     "iopub.execute_input": "2021-05-21T19:09:25.320956Z",
     "iopub.status.busy": "2021-05-21T19:09:25.320543Z",
     "iopub.status.idle": "2021-05-21T19:09:25.328513Z",
     "shell.execute_reply": "2021-05-21T19:09:25.328142Z"
    },
    "papermill": {
     "duration": 0.025494,
     "end_time": "2021-05-21T19:09:25.328597",
     "exception": false,
     "start_time": "2021-05-21T19:09:25.303103",
     "status": "completed"
    },
    "tags": []
   },
   "outputs": [
    {
     "data": {
      "text/plain": [
       "(2157, 5)"
      ]
     },
     "execution_count": 13,
     "metadata": {},
     "output_type": "execute_result"
    }
   ],
   "source": [
    "multiplier_model_summary.shape"
   ]
  },
  {
   "cell_type": "code",
   "execution_count": 14,
   "metadata": {
    "execution": {
     "iopub.execute_input": "2021-05-21T19:09:25.363187Z",
     "iopub.status.busy": "2021-05-21T19:09:25.362834Z",
     "iopub.status.idle": "2021-05-21T19:09:25.374555Z",
     "shell.execute_reply": "2021-05-21T19:09:25.374181Z"
    },
    "papermill": {
     "duration": 0.02999,
     "end_time": "2021-05-21T19:09:25.374638",
     "exception": false,
     "start_time": "2021-05-21T19:09:25.344648",
     "status": "completed"
    },
    "tags": []
   },
   "outputs": [
    {
     "data": {
      "text/html": [
       "<div>\n",
       "<style scoped>\n",
       "    .dataframe tbody tr th:only-of-type {\n",
       "        vertical-align: middle;\n",
       "    }\n",
       "\n",
       "    .dataframe tbody tr th {\n",
       "        vertical-align: top;\n",
       "    }\n",
       "\n",
       "    .dataframe thead th {\n",
       "        text-align: right;\n",
       "    }\n",
       "</style>\n",
       "<table border=\"1\" class=\"dataframe\">\n",
       "  <thead>\n",
       "    <tr style=\"text-align: right;\">\n",
       "      <th></th>\n",
       "      <th>pathway</th>\n",
       "      <th>LV index</th>\n",
       "      <th>AUC</th>\n",
       "      <th>p-value</th>\n",
       "      <th>FDR</th>\n",
       "    </tr>\n",
       "  </thead>\n",
       "  <tbody>\n",
       "    <tr>\n",
       "      <th>1</th>\n",
       "      <td>KEGG_LYSINE_DEGRADATION</td>\n",
       "      <td>1</td>\n",
       "      <td>0.388059</td>\n",
       "      <td>0.866078</td>\n",
       "      <td>0.956005</td>\n",
       "    </tr>\n",
       "    <tr>\n",
       "      <th>2</th>\n",
       "      <td>REACTOME_MRNA_SPLICING</td>\n",
       "      <td>1</td>\n",
       "      <td>0.733057</td>\n",
       "      <td>0.000048</td>\n",
       "      <td>0.000582</td>\n",
       "    </tr>\n",
       "    <tr>\n",
       "      <th>3</th>\n",
       "      <td>MIPS_NOP56P_ASSOCIATED_PRE_RRNA_COMPLEX</td>\n",
       "      <td>1</td>\n",
       "      <td>0.680555</td>\n",
       "      <td>0.001628</td>\n",
       "      <td>0.011366</td>\n",
       "    </tr>\n",
       "    <tr>\n",
       "      <th>4</th>\n",
       "      <td>KEGG_DNA_REPLICATION</td>\n",
       "      <td>1</td>\n",
       "      <td>0.549473</td>\n",
       "      <td>0.312155</td>\n",
       "      <td>0.539951</td>\n",
       "    </tr>\n",
       "    <tr>\n",
       "      <th>5</th>\n",
       "      <td>PID_MYC_ACTIVPATHWAY</td>\n",
       "      <td>1</td>\n",
       "      <td>0.639303</td>\n",
       "      <td>0.021702</td>\n",
       "      <td>0.083739</td>\n",
       "    </tr>\n",
       "  </tbody>\n",
       "</table>\n",
       "</div>"
      ],
      "text/plain": [
       "                                   pathway LV index       AUC   p-value  \\\n",
       "1                  KEGG_LYSINE_DEGRADATION        1  0.388059  0.866078   \n",
       "2                   REACTOME_MRNA_SPLICING        1  0.733057  0.000048   \n",
       "3  MIPS_NOP56P_ASSOCIATED_PRE_RRNA_COMPLEX        1  0.680555  0.001628   \n",
       "4                     KEGG_DNA_REPLICATION        1  0.549473  0.312155   \n",
       "5                     PID_MYC_ACTIVPATHWAY        1  0.639303  0.021702   \n",
       "\n",
       "        FDR  \n",
       "1  0.956005  \n",
       "2  0.000582  \n",
       "3  0.011366  \n",
       "4  0.539951  \n",
       "5  0.083739  "
      ]
     },
     "execution_count": 14,
     "metadata": {},
     "output_type": "execute_result"
    }
   ],
   "source": [
    "multiplier_model_summary.head()"
   ]
  },
  {
   "cell_type": "markdown",
   "metadata": {
    "papermill": {
     "duration": 0.015877,
     "end_time": "2021-05-21T19:09:25.407271",
     "exception": false,
     "start_time": "2021-05-21T19:09:25.391394",
     "status": "completed"
    },
    "tags": []
   },
   "source": [
    "# Analysis"
   ]
  },
  {
   "cell_type": "code",
   "execution_count": 15,
   "metadata": {
    "execution": {
     "iopub.execute_input": "2021-05-21T19:09:25.441578Z",
     "iopub.status.busy": "2021-05-21T19:09:25.441219Z",
     "iopub.status.idle": "2021-05-21T19:09:25.452375Z",
     "shell.execute_reply": "2021-05-21T19:09:25.452714Z"
    },
    "papermill": {
     "duration": 0.02964,
     "end_time": "2021-05-21T19:09:25.452833",
     "exception": false,
     "start_time": "2021-05-21T19:09:25.423193",
     "status": "completed"
    },
    "tags": []
   },
   "outputs": [],
   "source": [
    "df = deg_enrich[\n",
    "    deg_enrich[\"pathway\"].isin((LIPIDS_GENE_SET,)) & (deg_enrich[\"padj\"] < 0.05)\n",
    "].sort_values(\"padj\", ascending=True)"
   ]
  },
  {
   "cell_type": "code",
   "execution_count": 16,
   "metadata": {
    "execution": {
     "iopub.execute_input": "2021-05-21T19:09:25.488485Z",
     "iopub.status.busy": "2021-05-21T19:09:25.488126Z",
     "iopub.status.idle": "2021-05-21T19:09:25.495934Z",
     "shell.execute_reply": "2021-05-21T19:09:25.495564Z"
    },
    "papermill": {
     "duration": 0.025817,
     "end_time": "2021-05-21T19:09:25.496019",
     "exception": false,
     "start_time": "2021-05-21T19:09:25.470202",
     "status": "completed"
    },
    "tags": []
   },
   "outputs": [
    {
     "data": {
      "text/plain": [
       "(27, 11)"
      ]
     },
     "execution_count": 16,
     "metadata": {},
     "output_type": "execute_result"
    }
   ],
   "source": [
    "df.shape"
   ]
  },
  {
   "cell_type": "code",
   "execution_count": 17,
   "metadata": {
    "execution": {
     "iopub.execute_input": "2021-05-21T19:09:25.532123Z",
     "iopub.status.busy": "2021-05-21T19:09:25.531769Z",
     "iopub.status.idle": "2021-05-21T19:09:25.545748Z",
     "shell.execute_reply": "2021-05-21T19:09:25.545430Z"
    },
    "papermill": {
     "duration": 0.032946,
     "end_time": "2021-05-21T19:09:25.545833",
     "exception": false,
     "start_time": "2021-05-21T19:09:25.512887",
     "status": "completed"
    },
    "tags": []
   },
   "outputs": [
    {
     "data": {
      "text/html": [
       "<div>\n",
       "<style scoped>\n",
       "    .dataframe tbody tr th:only-of-type {\n",
       "        vertical-align: middle;\n",
       "    }\n",
       "\n",
       "    .dataframe tbody tr th {\n",
       "        vertical-align: top;\n",
       "    }\n",
       "\n",
       "    .dataframe thead th {\n",
       "        text-align: right;\n",
       "    }\n",
       "</style>\n",
       "<table border=\"1\" class=\"dataframe\">\n",
       "  <thead>\n",
       "    <tr style=\"text-align: right;\">\n",
       "      <th></th>\n",
       "      <th>pathway</th>\n",
       "      <th>pval</th>\n",
       "      <th>padj</th>\n",
       "      <th>log2err</th>\n",
       "      <th>ES</th>\n",
       "      <th>NES</th>\n",
       "      <th>size</th>\n",
       "      <th>leadingEdge</th>\n",
       "      <th>lv</th>\n",
       "      <th>rep_idx</th>\n",
       "      <th>fdr</th>\n",
       "    </tr>\n",
       "  </thead>\n",
       "  <tbody>\n",
       "    <tr>\n",
       "      <th>1350</th>\n",
       "      <td>gene_set_increase</td>\n",
       "      <td>1.738856e-07</td>\n",
       "      <td>3.477712e-07</td>\n",
       "      <td>0.690132</td>\n",
       "      <td>0.905734</td>\n",
       "      <td>1.565818</td>\n",
       "      <td>49</td>\n",
       "      <td>RPS14, RPL31, RPS19, RPS11, RPS6, RPL37, RPSA,...</td>\n",
       "      <td>LV707</td>\n",
       "      <td>3</td>\n",
       "      <td>0.000257</td>\n",
       "    </tr>\n",
       "    <tr>\n",
       "      <th>1790</th>\n",
       "      <td>gene_set_increase</td>\n",
       "      <td>4.293645e-05</td>\n",
       "      <td>8.587291e-05</td>\n",
       "      <td>0.557332</td>\n",
       "      <td>0.732205</td>\n",
       "      <td>1.486815</td>\n",
       "      <td>60</td>\n",
       "      <td>RPS6, RPL6, RPLP0, RPL19, RPL31, RPL7, RPS13, ...</td>\n",
       "      <td>LV905</td>\n",
       "      <td>6</td>\n",
       "      <td>0.028238</td>\n",
       "    </tr>\n",
       "    <tr>\n",
       "      <th>1812</th>\n",
       "      <td>gene_set_increase</td>\n",
       "      <td>6.373604e-05</td>\n",
       "      <td>1.274721e-04</td>\n",
       "      <td>0.538434</td>\n",
       "      <td>0.627667</td>\n",
       "      <td>1.444149</td>\n",
       "      <td>83</td>\n",
       "      <td>SAFB, LUC7L3, HSP90B1, CHD4, SNRPD3, ISY1, DKC...</td>\n",
       "      <td>LV915</td>\n",
       "      <td>4</td>\n",
       "      <td>0.031438</td>\n",
       "    </tr>\n",
       "    <tr>\n",
       "      <th>1446</th>\n",
       "      <td>gene_set_increase</td>\n",
       "      <td>5.632729e-04</td>\n",
       "      <td>1.126546e-03</td>\n",
       "      <td>0.477271</td>\n",
       "      <td>0.803565</td>\n",
       "      <td>1.288959</td>\n",
       "      <td>61</td>\n",
       "      <td>RPL34, RPL35A, RPL31, RPS13, RPS6, RPL6, RPL7,...</td>\n",
       "      <td>LV750</td>\n",
       "      <td>8</td>\n",
       "      <td>0.222267</td>\n",
       "    </tr>\n",
       "    <tr>\n",
       "      <th>539</th>\n",
       "      <td>gene_set_increase</td>\n",
       "      <td>7.830825e-04</td>\n",
       "      <td>1.566165e-03</td>\n",
       "      <td>0.477271</td>\n",
       "      <td>0.971974</td>\n",
       "      <td>1.978913</td>\n",
       "      <td>33</td>\n",
       "      <td>ZNF3, MDM2, RPS6</td>\n",
       "      <td>LV341</td>\n",
       "      <td>9</td>\n",
       "      <td>0.257504</td>\n",
       "    </tr>\n",
       "  </tbody>\n",
       "</table>\n",
       "</div>"
      ],
      "text/plain": [
       "                pathway          pval          padj   log2err        ES  \\\n",
       "1350  gene_set_increase  1.738856e-07  3.477712e-07  0.690132  0.905734   \n",
       "1790  gene_set_increase  4.293645e-05  8.587291e-05  0.557332  0.732205   \n",
       "1812  gene_set_increase  6.373604e-05  1.274721e-04  0.538434  0.627667   \n",
       "1446  gene_set_increase  5.632729e-04  1.126546e-03  0.477271  0.803565   \n",
       "539   gene_set_increase  7.830825e-04  1.566165e-03  0.477271  0.971974   \n",
       "\n",
       "           NES  size                                        leadingEdge  \\\n",
       "1350  1.565818    49  RPS14, RPL31, RPS19, RPS11, RPS6, RPL37, RPSA,...   \n",
       "1790  1.486815    60  RPS6, RPL6, RPLP0, RPL19, RPL31, RPL7, RPS13, ...   \n",
       "1812  1.444149    83  SAFB, LUC7L3, HSP90B1, CHD4, SNRPD3, ISY1, DKC...   \n",
       "1446  1.288959    61  RPL34, RPL35A, RPL31, RPS13, RPS6, RPL6, RPL7,...   \n",
       "539   1.978913    33                                   ZNF3, MDM2, RPS6   \n",
       "\n",
       "         lv  rep_idx       fdr  \n",
       "1350  LV707        3  0.000257  \n",
       "1790  LV905        6  0.028238  \n",
       "1812  LV915        4  0.031438  \n",
       "1446  LV750        8  0.222267  \n",
       "539   LV341        9  0.257504  "
      ]
     },
     "execution_count": 17,
     "metadata": {},
     "output_type": "execute_result"
    }
   ],
   "source": [
    "df.head()"
   ]
  },
  {
   "cell_type": "code",
   "execution_count": 18,
   "metadata": {
    "execution": {
     "iopub.execute_input": "2021-05-21T19:09:25.582511Z",
     "iopub.status.busy": "2021-05-21T19:09:25.582157Z",
     "iopub.status.idle": "2021-05-21T19:09:25.589701Z",
     "shell.execute_reply": "2021-05-21T19:09:25.589364Z"
    },
    "papermill": {
     "duration": 0.026615,
     "end_time": "2021-05-21T19:09:25.589789",
     "exception": false,
     "start_time": "2021-05-21T19:09:25.563174",
     "status": "completed"
    },
    "tags": []
   },
   "outputs": [],
   "source": [
    "important_lvs = df[\"lv\"].unique()"
   ]
  },
  {
   "cell_type": "code",
   "execution_count": 19,
   "metadata": {
    "execution": {
     "iopub.execute_input": "2021-05-21T19:09:25.627164Z",
     "iopub.status.busy": "2021-05-21T19:09:25.626811Z",
     "iopub.status.idle": "2021-05-21T19:09:25.634952Z",
     "shell.execute_reply": "2021-05-21T19:09:25.634592Z"
    },
    "papermill": {
     "duration": 0.027527,
     "end_time": "2021-05-21T19:09:25.635035",
     "exception": false,
     "start_time": "2021-05-21T19:09:25.607508",
     "status": "completed"
    },
    "tags": []
   },
   "outputs": [
    {
     "data": {
      "text/plain": [
       "(27,)"
      ]
     },
     "metadata": {},
     "output_type": "display_data"
    }
   ],
   "source": [
    "display(important_lvs.shape)\n",
    "assert important_lvs.shape[0] == 27"
   ]
  },
  {
   "cell_type": "code",
   "execution_count": 20,
   "metadata": {
    "execution": {
     "iopub.execute_input": "2021-05-21T19:09:25.672510Z",
     "iopub.status.busy": "2021-05-21T19:09:25.672153Z",
     "iopub.status.idle": "2021-05-21T19:09:25.680288Z",
     "shell.execute_reply": "2021-05-21T19:09:25.679967Z"
    },
    "papermill": {
     "duration": 0.027623,
     "end_time": "2021-05-21T19:09:25.680372",
     "exception": false,
     "start_time": "2021-05-21T19:09:25.652749",
     "status": "completed"
    },
    "tags": []
   },
   "outputs": [
    {
     "data": {
      "text/plain": [
       "array(['LV707', 'LV905', 'LV915', 'LV750', 'LV341', 'LV310', 'LV48',\n",
       "       'LV509', 'LV467', 'LV64', 'LV490', 'LV550', 'LV621', 'LV775',\n",
       "       'LV415', 'LV504', 'LV507', 'LV494', 'LV399', 'LV246', 'LV120',\n",
       "       'LV122', 'LV515', 'LV489', 'LV783', 'LV768', 'LV577'], dtype=object)"
      ]
     },
     "execution_count": 20,
     "metadata": {},
     "output_type": "execute_result"
    }
   ],
   "source": [
    "important_lvs"
   ]
  },
  {
   "cell_type": "markdown",
   "metadata": {
    "papermill": {
     "duration": 0.017475,
     "end_time": "2021-05-21T19:09:25.715567",
     "exception": false,
     "start_time": "2021-05-21T19:09:25.698092",
     "status": "completed"
    },
    "tags": []
   },
   "source": [
    "# Get top traits and pathways"
   ]
  },
  {
   "cell_type": "code",
   "execution_count": 21,
   "metadata": {
    "execution": {
     "iopub.execute_input": "2021-05-21T19:09:25.753337Z",
     "iopub.status.busy": "2021-05-21T19:09:25.752959Z",
     "iopub.status.idle": "2021-05-21T19:09:25.798839Z",
     "shell.execute_reply": "2021-05-21T19:09:25.798518Z"
    },
    "papermill": {
     "duration": 0.066199,
     "end_time": "2021-05-21T19:09:25.798924",
     "exception": false,
     "start_time": "2021-05-21T19:09:25.732725",
     "status": "completed"
    },
    "tags": []
   },
   "outputs": [],
   "source": [
    "pathways = []\n",
    "traits = []\n",
    "\n",
    "for lv in important_lvs:\n",
    "    _tmp = multiplier_model_summary[\n",
    "        (multiplier_model_summary[\"LV index\"] == lv[2:])\n",
    "        & (\n",
    "            (multiplier_model_summary[\"FDR\"] < 0.05)\n",
    "            | (multiplier_model_summary[\"AUC\"] > 0.75)\n",
    "        )\n",
    "    ]\n",
    "    pathways.extend(_tmp[\"pathway\"].tolist())\n",
    "\n",
    "    _tmp = phenomexcan_data[lv]\n",
    "    _tmp = _tmp[_tmp > 0.0].sort_values(ascending=False)\n",
    "\n",
    "    traits.append(_tmp)"
   ]
  },
  {
   "cell_type": "markdown",
   "metadata": {
    "papermill": {
     "duration": 0.017218,
     "end_time": "2021-05-21T19:09:25.834026",
     "exception": false,
     "start_time": "2021-05-21T19:09:25.816808",
     "status": "completed"
    },
    "tags": []
   },
   "source": [
    "## Pathways"
   ]
  },
  {
   "cell_type": "code",
   "execution_count": 22,
   "metadata": {
    "execution": {
     "iopub.execute_input": "2021-05-21T19:09:25.871063Z",
     "iopub.status.busy": "2021-05-21T19:09:25.870705Z",
     "iopub.status.idle": "2021-05-21T19:09:25.880035Z",
     "shell.execute_reply": "2021-05-21T19:09:25.879661Z"
    },
    "papermill": {
     "duration": 0.02866,
     "end_time": "2021-05-21T19:09:25.880120",
     "exception": false,
     "start_time": "2021-05-21T19:09:25.851460",
     "status": "completed"
    },
    "tags": []
   },
   "outputs": [
    {
     "data": {
      "text/plain": [
       "KEGG_RIBOSOME                                                                                                     3\n",
       "MIPS_RIBOSOME_CYTOPLASMIC                                                                                         2\n",
       "REACTOME_FORMATION_OF_THE_TERNARY_COMPLEX_AND_SUBSEQUENTLY_THE_43S_COMPLEX                                        2\n",
       "REACTOME_METABOLISM_OF_LIPIDS_AND_LIPOPROTEINS                                                                    1\n",
       "REACTOME_TCA_CYCLE_AND_RESPIRATORY_ELECTRON_TRANSPORT                                                             1\n",
       "REACTOME_PEPTIDE_CHAIN_ELONGATION                                                                                 1\n",
       "REACTOME_ACTIVATION_OF_THE_MRNA_UPON_BINDING_OF_THE_CAP_BINDING_COMPLEX_AND_EIFS_AND_SUBSEQUENT_BINDING_TO_43S    1\n",
       "REACTOME_FATTY_ACID_TRIACYLGLYCEROL_AND_KETONE_BODY_METABOLISM                                                    1\n",
       "MIPS_40S_RIBOSOMAL_SUBUNIT_CYTOPLASMIC                                                                            1\n",
       "REACTOME_TRIGLYCERIDE_BIOSYNTHESIS                                                                                1\n",
       "KEGG_PROPANOATE_METABOLISM                                                                                        1\n",
       "MIPS_NOP56P_ASSOCIATED_PRE_RRNA_COMPLEX                                                                           1\n",
       "KEGG_OXIDATIVE_PHOSPHORYLATION                                                                                    1\n",
       "REACTOME_SRP_DEPENDENT_COTRANSLATIONAL_PROTEIN_TARGETING_TO_MEMBRANE                                              1\n",
       "MIPS_SPLICEOSOME                                                                                                  1\n",
       "REACTOME_TRANSLATION                                                                                              1\n",
       "REACTOME_PROCESSING_OF_CAPPED_INTRON_CONTAINING_PRE_MRNA                                                          1\n",
       "MIPS_CEN_COMPLEX                                                                                                  1\n",
       "KEGG_PYRUVATE_METABOLISM                                                                                          1\n",
       "dtype: int64"
      ]
     },
     "metadata": {},
     "output_type": "display_data"
    }
   ],
   "source": [
    "pathways_df = pd.Series(pathways).value_counts()\n",
    "display(pathways_df)"
   ]
  },
  {
   "cell_type": "code",
   "execution_count": 23,
   "metadata": {
    "execution": {
     "iopub.execute_input": "2021-05-21T19:09:25.918216Z",
     "iopub.status.busy": "2021-05-21T19:09:25.917858Z",
     "iopub.status.idle": "2021-05-21T19:09:25.926199Z",
     "shell.execute_reply": "2021-05-21T19:09:25.925796Z"
    },
    "papermill": {
     "duration": 0.028318,
     "end_time": "2021-05-21T19:09:25.926282",
     "exception": false,
     "start_time": "2021-05-21T19:09:25.897964",
     "status": "completed"
    },
    "tags": []
   },
   "outputs": [
    {
     "data": {
      "text/plain": [
       "PosixPath('/home/miltondp/projects/labs/greenelab/phenoplier/base/results/crispr_analyses/lv-gene_set_increase/pathways_counts.pkl')"
      ]
     },
     "metadata": {},
     "output_type": "display_data"
    }
   ],
   "source": [
    "output_file = Path(OUTPUT_DIR, \"pathways_counts.pkl\").resolve()\n",
    "display(output_file)"
   ]
  },
  {
   "cell_type": "code",
   "execution_count": 24,
   "metadata": {
    "execution": {
     "iopub.execute_input": "2021-05-21T19:09:25.964754Z",
     "iopub.status.busy": "2021-05-21T19:09:25.964360Z",
     "iopub.status.idle": "2021-05-21T19:09:25.972000Z",
     "shell.execute_reply": "2021-05-21T19:09:25.971692Z"
    },
    "papermill": {
     "duration": 0.027676,
     "end_time": "2021-05-21T19:09:25.972082",
     "exception": false,
     "start_time": "2021-05-21T19:09:25.944406",
     "status": "completed"
    },
    "tags": []
   },
   "outputs": [],
   "source": [
    "pathways_df.to_pickle(output_file)"
   ]
  },
  {
   "cell_type": "markdown",
   "metadata": {
    "papermill": {
     "duration": 0.017769,
     "end_time": "2021-05-21T19:09:26.007907",
     "exception": false,
     "start_time": "2021-05-21T19:09:25.990138",
     "status": "completed"
    },
    "tags": []
   },
   "source": [
    "## Traits"
   ]
  },
  {
   "cell_type": "code",
   "execution_count": 25,
   "metadata": {
    "execution": {
     "iopub.execute_input": "2021-05-21T19:09:26.046496Z",
     "iopub.status.busy": "2021-05-21T19:09:26.046140Z",
     "iopub.status.idle": "2021-05-21T19:09:26.067170Z",
     "shell.execute_reply": "2021-05-21T19:09:26.067553Z"
    },
    "papermill": {
     "duration": 0.041911,
     "end_time": "2021-05-21T19:09:26.067683",
     "exception": false,
     "start_time": "2021-05-21T19:09:26.025772",
     "status": "completed"
    },
    "tags": []
   },
   "outputs": [],
   "source": [
    "traits_df = (\n",
    "    pd.concat(traits)\n",
    "    .reset_index()\n",
    "    .groupby(\"index\")\n",
    "    .sum()\n",
    "    .sort_values(0, ascending=False)\n",
    "    .reset_index()\n",
    ").rename(columns={\"index\": \"trait\", 0: \"value\"})"
   ]
  },
  {
   "cell_type": "code",
   "execution_count": 26,
   "metadata": {
    "execution": {
     "iopub.execute_input": "2021-05-21T19:09:26.112519Z",
     "iopub.status.busy": "2021-05-21T19:09:26.112133Z",
     "iopub.status.idle": "2021-05-21T19:09:27.937653Z",
     "shell.execute_reply": "2021-05-21T19:09:27.936759Z"
    },
    "papermill": {
     "duration": 1.84758,
     "end_time": "2021-05-21T19:09:27.937879",
     "exception": false,
     "start_time": "2021-05-21T19:09:26.090299",
     "status": "completed"
    },
    "tags": []
   },
   "outputs": [],
   "source": [
    "# add trait category\n",
    "trait_code_to_trait_obj = [\n",
    "    Trait.get_trait(full_code=t)\n",
    "    if not Trait.is_efo_label(t)\n",
    "    else Trait.get_traits_from_efo(t)\n",
    "    for t in traits_df[\"trait\"]\n",
    "]"
   ]
  },
  {
   "cell_type": "code",
   "execution_count": 27,
   "metadata": {
    "execution": {
     "iopub.execute_input": "2021-05-21T19:09:27.977896Z",
     "iopub.status.busy": "2021-05-21T19:09:27.977536Z",
     "iopub.status.idle": "2021-05-21T19:09:28.589874Z",
     "shell.execute_reply": "2021-05-21T19:09:28.589499Z"
    },
    "papermill": {
     "duration": 0.632491,
     "end_time": "2021-05-21T19:09:28.589957",
     "exception": false,
     "start_time": "2021-05-21T19:09:27.957466",
     "status": "completed"
    },
    "tags": []
   },
   "outputs": [],
   "source": [
    "traits_df = traits_df.assign(\n",
    "    category=[\n",
    "        t.category if not isinstance(t, list) else t[0].category\n",
    "        for t in trait_code_to_trait_obj\n",
    "    ]\n",
    ")"
   ]
  },
  {
   "cell_type": "code",
   "execution_count": 28,
   "metadata": {
    "execution": {
     "iopub.execute_input": "2021-05-21T19:09:28.629268Z",
     "iopub.status.busy": "2021-05-21T19:09:28.628909Z",
     "iopub.status.idle": "2021-05-21T19:09:28.636799Z",
     "shell.execute_reply": "2021-05-21T19:09:28.636376Z"
    },
    "papermill": {
     "duration": 0.02827,
     "end_time": "2021-05-21T19:09:28.636884",
     "exception": false,
     "start_time": "2021-05-21T19:09:28.608614",
     "status": "completed"
    },
    "tags": []
   },
   "outputs": [
    {
     "data": {
      "text/plain": [
       "(3752, 3)"
      ]
     },
     "execution_count": 28,
     "metadata": {},
     "output_type": "execute_result"
    }
   ],
   "source": [
    "traits_df.shape"
   ]
  },
  {
   "cell_type": "code",
   "execution_count": 29,
   "metadata": {
    "execution": {
     "iopub.execute_input": "2021-05-21T19:09:28.677445Z",
     "iopub.status.busy": "2021-05-21T19:09:28.677080Z",
     "iopub.status.idle": "2021-05-21T19:09:28.687812Z",
     "shell.execute_reply": "2021-05-21T19:09:28.687431Z"
    },
    "papermill": {
     "duration": 0.031631,
     "end_time": "2021-05-21T19:09:28.687898",
     "exception": false,
     "start_time": "2021-05-21T19:09:28.656267",
     "status": "completed"
    },
    "tags": []
   },
   "outputs": [
    {
     "data": {
      "text/html": [
       "<div>\n",
       "<style scoped>\n",
       "    .dataframe tbody tr th:only-of-type {\n",
       "        vertical-align: middle;\n",
       "    }\n",
       "\n",
       "    .dataframe tbody tr th {\n",
       "        vertical-align: top;\n",
       "    }\n",
       "\n",
       "    .dataframe thead th {\n",
       "        text-align: right;\n",
       "    }\n",
       "</style>\n",
       "<table border=\"1\" class=\"dataframe\">\n",
       "  <thead>\n",
       "    <tr style=\"text-align: right;\">\n",
       "      <th></th>\n",
       "      <th>trait</th>\n",
       "      <th>value</th>\n",
       "      <th>category</th>\n",
       "    </tr>\n",
       "  </thead>\n",
       "  <tbody>\n",
       "    <tr>\n",
       "      <th>0</th>\n",
       "      <td>3143_raw-Ankle_spacing_width</td>\n",
       "      <td>0.837454</td>\n",
       "      <td>Bone-densitometry of heel</td>\n",
       "    </tr>\n",
       "    <tr>\n",
       "      <th>1</th>\n",
       "      <td>4100_raw-Ankle_spacing_width_left</td>\n",
       "      <td>0.806306</td>\n",
       "      <td>Bone-densitometry of heel</td>\n",
       "    </tr>\n",
       "    <tr>\n",
       "      <th>2</th>\n",
       "      <td>4119_raw-Ankle_spacing_width_right</td>\n",
       "      <td>0.784920</td>\n",
       "      <td>Bone-densitometry of heel</td>\n",
       "    </tr>\n",
       "    <tr>\n",
       "      <th>3</th>\n",
       "      <td>22617_1134-Job_SOC_coding_Advertising_and_publ...</td>\n",
       "      <td>0.743409</td>\n",
       "      <td>Employment history</td>\n",
       "    </tr>\n",
       "    <tr>\n",
       "      <th>4</th>\n",
       "      <td>1747_2-Hair_colour_natural_before_greying_Red</td>\n",
       "      <td>0.710902</td>\n",
       "      <td>Sun exposure</td>\n",
       "    </tr>\n",
       "  </tbody>\n",
       "</table>\n",
       "</div>"
      ],
      "text/plain": [
       "                                               trait     value  \\\n",
       "0                       3143_raw-Ankle_spacing_width  0.837454   \n",
       "1                  4100_raw-Ankle_spacing_width_left  0.806306   \n",
       "2                 4119_raw-Ankle_spacing_width_right  0.784920   \n",
       "3  22617_1134-Job_SOC_coding_Advertising_and_publ...  0.743409   \n",
       "4      1747_2-Hair_colour_natural_before_greying_Red  0.710902   \n",
       "\n",
       "                    category  \n",
       "0  Bone-densitometry of heel  \n",
       "1  Bone-densitometry of heel  \n",
       "2  Bone-densitometry of heel  \n",
       "3         Employment history  \n",
       "4               Sun exposure  "
      ]
     },
     "execution_count": 29,
     "metadata": {},
     "output_type": "execute_result"
    }
   ],
   "source": [
    "traits_df.head()"
   ]
  },
  {
   "cell_type": "code",
   "execution_count": 30,
   "metadata": {
    "execution": {
     "iopub.execute_input": "2021-05-21T19:09:28.728010Z",
     "iopub.status.busy": "2021-05-21T19:09:28.727644Z",
     "iopub.status.idle": "2021-05-21T19:09:28.735871Z",
     "shell.execute_reply": "2021-05-21T19:09:28.735514Z"
    },
    "papermill": {
     "duration": 0.028941,
     "end_time": "2021-05-21T19:09:28.735952",
     "exception": false,
     "start_time": "2021-05-21T19:09:28.707011",
     "status": "completed"
    },
    "tags": []
   },
   "outputs": [
    {
     "data": {
      "text/plain": [
       "PosixPath('/home/miltondp/projects/labs/greenelab/phenoplier/base/results/crispr_analyses/lv-gene_set_increase/traits.pkl')"
      ]
     },
     "metadata": {},
     "output_type": "display_data"
    }
   ],
   "source": [
    "output_file = Path(OUTPUT_DIR, \"traits.pkl\").resolve()\n",
    "display(output_file)"
   ]
  },
  {
   "cell_type": "code",
   "execution_count": 31,
   "metadata": {
    "execution": {
     "iopub.execute_input": "2021-05-21T19:09:28.775967Z",
     "iopub.status.busy": "2021-05-21T19:09:28.775600Z",
     "iopub.status.idle": "2021-05-21T19:09:28.784503Z",
     "shell.execute_reply": "2021-05-21T19:09:28.784065Z"
    },
    "papermill": {
     "duration": 0.029738,
     "end_time": "2021-05-21T19:09:28.784590",
     "exception": false,
     "start_time": "2021-05-21T19:09:28.754852",
     "status": "completed"
    },
    "tags": []
   },
   "outputs": [],
   "source": [
    "traits_df.to_pickle(output_file)"
   ]
  },
  {
   "cell_type": "markdown",
   "metadata": {
    "papermill": {
     "duration": 0.019264,
     "end_time": "2021-05-21T19:09:28.823877",
     "exception": false,
     "start_time": "2021-05-21T19:09:28.804613",
     "status": "completed"
    },
    "tags": []
   },
   "source": [
    "# Summary"
   ]
  },
  {
   "cell_type": "code",
   "execution_count": 32,
   "metadata": {
    "execution": {
     "iopub.execute_input": "2021-05-21T19:09:28.864114Z",
     "iopub.status.busy": "2021-05-21T19:09:28.863754Z",
     "iopub.status.idle": "2021-05-21T19:09:28.870941Z",
     "shell.execute_reply": "2021-05-21T19:09:28.870584Z"
    },
    "papermill": {
     "duration": 0.02823,
     "end_time": "2021-05-21T19:09:28.871023",
     "exception": false,
     "start_time": "2021-05-21T19:09:28.842793",
     "status": "completed"
    },
    "tags": []
   },
   "outputs": [],
   "source": [
    "top_traits = traits_df.head(100)"
   ]
  },
  {
   "cell_type": "code",
   "execution_count": 33,
   "metadata": {
    "execution": {
     "iopub.execute_input": "2021-05-21T19:09:28.911986Z",
     "iopub.status.busy": "2021-05-21T19:09:28.911620Z",
     "iopub.status.idle": "2021-05-21T19:09:28.929787Z",
     "shell.execute_reply": "2021-05-21T19:09:28.930086Z"
    },
    "papermill": {
     "duration": 0.040162,
     "end_time": "2021-05-21T19:09:28.930193",
     "exception": false,
     "start_time": "2021-05-21T19:09:28.890031",
     "status": "completed"
    },
    "tags": []
   },
   "outputs": [
    {
     "data": {
      "text/html": [
       "<div>\n",
       "<style scoped>\n",
       "    .dataframe tbody tr th:only-of-type {\n",
       "        vertical-align: middle;\n",
       "    }\n",
       "\n",
       "    .dataframe tbody tr th {\n",
       "        vertical-align: top;\n",
       "    }\n",
       "\n",
       "    .dataframe thead th {\n",
       "        text-align: right;\n",
       "    }\n",
       "</style>\n",
       "<table border=\"1\" class=\"dataframe\">\n",
       "  <thead>\n",
       "    <tr style=\"text-align: right;\">\n",
       "      <th></th>\n",
       "      <th>trait</th>\n",
       "      <th>value</th>\n",
       "      <th>category</th>\n",
       "    </tr>\n",
       "  </thead>\n",
       "  <tbody>\n",
       "    <tr>\n",
       "      <th>0</th>\n",
       "      <td>3143_raw-Ankle_spacing_width</td>\n",
       "      <td>0.837454</td>\n",
       "      <td>Bone-densitometry of heel</td>\n",
       "    </tr>\n",
       "    <tr>\n",
       "      <th>1</th>\n",
       "      <td>4100_raw-Ankle_spacing_width_left</td>\n",
       "      <td>0.806306</td>\n",
       "      <td>Bone-densitometry of heel</td>\n",
       "    </tr>\n",
       "    <tr>\n",
       "      <th>2</th>\n",
       "      <td>4119_raw-Ankle_spacing_width_right</td>\n",
       "      <td>0.784920</td>\n",
       "      <td>Bone-densitometry of heel</td>\n",
       "    </tr>\n",
       "    <tr>\n",
       "      <th>3</th>\n",
       "      <td>22617_1134-Job_SOC_coding_Advertising_and_public_relations_managers</td>\n",
       "      <td>0.743409</td>\n",
       "      <td>Employment history</td>\n",
       "    </tr>\n",
       "    <tr>\n",
       "      <th>4</th>\n",
       "      <td>1747_2-Hair_colour_natural_before_greying_Red</td>\n",
       "      <td>0.710902</td>\n",
       "      <td>Sun exposure</td>\n",
       "    </tr>\n",
       "    <tr>\n",
       "      <th>5</th>\n",
       "      <td>20015_raw-Sitting_height</td>\n",
       "      <td>0.704981</td>\n",
       "      <td>Body size measures</td>\n",
       "    </tr>\n",
       "    <tr>\n",
       "      <th>6</th>\n",
       "      <td>30110_raw-Platelet_distribution_width</td>\n",
       "      <td>0.701949</td>\n",
       "      <td>Blood count</td>\n",
       "    </tr>\n",
       "    <tr>\n",
       "      <th>7</th>\n",
       "      <td>celiac disease</td>\n",
       "      <td>0.685562</td>\n",
       "      <td>Diseases (gastrointestinal/abdominal)</td>\n",
       "    </tr>\n",
       "    <tr>\n",
       "      <th>8</th>\n",
       "      <td>22601_11343224-Job_coding_advertising_or_public_relations_manager_mediapublicity_manager_campaignfundraising_manager</td>\n",
       "      <td>0.683621</td>\n",
       "      <td>Employment history</td>\n",
       "    </tr>\n",
       "    <tr>\n",
       "      <th>9</th>\n",
       "      <td>20153_raw-Forced_expiratory_volume_in_1second_FEV1_predicted</td>\n",
       "      <td>0.678102</td>\n",
       "      <td>Spirometry</td>\n",
       "    </tr>\n",
       "    <tr>\n",
       "      <th>10</th>\n",
       "      <td>3144_raw-Heel_Broadband_ultrasound_attenuation_direct_entry</td>\n",
       "      <td>0.673099</td>\n",
       "      <td>Bone-densitometry of heel</td>\n",
       "    </tr>\n",
       "    <tr>\n",
       "      <th>11</th>\n",
       "      <td>5255_raw-Intraocular_pressure_Goldmanncorrelated_right</td>\n",
       "      <td>0.666034</td>\n",
       "      <td>Intraocular pressure</td>\n",
       "    </tr>\n",
       "    <tr>\n",
       "      <th>12</th>\n",
       "      <td>4849_0-Hearing_test_done_No_I_am_unable_to_do_this</td>\n",
       "      <td>0.662197</td>\n",
       "      <td>Hearing test</td>\n",
       "    </tr>\n",
       "    <tr>\n",
       "      <th>13</th>\n",
       "      <td>rheumatoid arthritis</td>\n",
       "      <td>0.658499</td>\n",
       "      <td>Diseases (ICD10 main)</td>\n",
       "    </tr>\n",
       "    <tr>\n",
       "      <th>14</th>\n",
       "      <td>30070_raw-Red_blood_cell_erythrocyte_distribution_width</td>\n",
       "      <td>0.655730</td>\n",
       "      <td>Blood count</td>\n",
       "    </tr>\n",
       "    <tr>\n",
       "      <th>15</th>\n",
       "      <td>22601_61223105-Job_coding_childminder_au_pair_childrens_nanny</td>\n",
       "      <td>0.652638</td>\n",
       "      <td>Employment history</td>\n",
       "    </tr>\n",
       "    <tr>\n",
       "      <th>16</th>\n",
       "      <td>3148_raw-Heel_bone_mineral_density_BMD</td>\n",
       "      <td>0.649578</td>\n",
       "      <td>Bone-densitometry of heel</td>\n",
       "    </tr>\n",
       "    <tr>\n",
       "      <th>17</th>\n",
       "      <td>3147_raw-Heel_quantitative_ultrasound_index_QUI_direct_entry</td>\n",
       "      <td>0.648512</td>\n",
       "      <td>Bone-densitometry of heel</td>\n",
       "    </tr>\n",
       "    <tr>\n",
       "      <th>18</th>\n",
       "      <td>78_raw-Heel_bone_mineral_density_BMD_Tscore_automated</td>\n",
       "      <td>0.648510</td>\n",
       "      <td>Bone-densitometry of heel</td>\n",
       "    </tr>\n",
       "    <tr>\n",
       "      <th>19</th>\n",
       "      <td>22617_5499-Job_SOC_coding_Hand_craft_occupations_nec</td>\n",
       "      <td>0.628709</td>\n",
       "      <td>Employment history</td>\n",
       "    </tr>\n",
       "    <tr>\n",
       "      <th>20</th>\n",
       "      <td>6147_3-Reason_for_glassescontact_lenses_For_just_readingnear_work_as_you_are_getting_older_called_presbyopia</td>\n",
       "      <td>0.625772</td>\n",
       "      <td>Eyesight</td>\n",
       "    </tr>\n",
       "    <tr>\n",
       "      <th>21</th>\n",
       "      <td>5263_raw-Intraocular_pressure_Goldmanncorrelated_left</td>\n",
       "      <td>0.625523</td>\n",
       "      <td>Intraocular pressure</td>\n",
       "    </tr>\n",
       "    <tr>\n",
       "      <th>22</th>\n",
       "      <td>4196_raw-Pulse_wave_peak_to_peak_time</td>\n",
       "      <td>0.624244</td>\n",
       "      <td>Arterial stiffness</td>\n",
       "    </tr>\n",
       "    <tr>\n",
       "      <th>23</th>\n",
       "      <td>46_raw-Hand_grip_strength_left</td>\n",
       "      <td>0.614967</td>\n",
       "      <td>Hand grip strength</td>\n",
       "    </tr>\n",
       "    <tr>\n",
       "      <th>24</th>\n",
       "      <td>20003_1140910640-Treatmentmedication_code_luteine</td>\n",
       "      <td>0.611399</td>\n",
       "      <td>Medications</td>\n",
       "    </tr>\n",
       "    <tr>\n",
       "      <th>25</th>\n",
       "      <td>20003_1140867444-Treatmentmedication_code_risperidone</td>\n",
       "      <td>0.610184</td>\n",
       "      <td>Medications</td>\n",
       "    </tr>\n",
       "    <tr>\n",
       "      <th>26</th>\n",
       "      <td>M13_PREPATELLARBURSITIS-Prepatellar_bursitis</td>\n",
       "      <td>0.605622</td>\n",
       "      <td>Diseases (FinnGen)</td>\n",
       "    </tr>\n",
       "    <tr>\n",
       "      <th>27</th>\n",
       "      <td>abnormal lung morphology</td>\n",
       "      <td>0.603077</td>\n",
       "      <td>Diseases (ICD10 main)</td>\n",
       "    </tr>\n",
       "    <tr>\n",
       "      <th>28</th>\n",
       "      <td>MAGNETIC_CH2.DB.ratio</td>\n",
       "      <td>0.602741</td>\n",
       "      <td>Cardiometabolic</td>\n",
       "    </tr>\n",
       "    <tr>\n",
       "      <th>29</th>\n",
       "      <td>30100_raw-Mean_platelet_thrombocyte_volume</td>\n",
       "      <td>0.600884</td>\n",
       "      <td>Blood count</td>\n",
       "    </tr>\n",
       "    <tr>\n",
       "      <th>30</th>\n",
       "      <td>50_raw-Standing_height</td>\n",
       "      <td>0.599697</td>\n",
       "      <td>Body size measures</td>\n",
       "    </tr>\n",
       "    <tr>\n",
       "      <th>31</th>\n",
       "      <td>22601_81392831-Job_coding_other_assembler_routine_operative</td>\n",
       "      <td>0.598321</td>\n",
       "      <td>Employment history</td>\n",
       "    </tr>\n",
       "    <tr>\n",
       "      <th>32</th>\n",
       "      <td>30060_raw-Mean_corpuscular_haemoglobin_concentration</td>\n",
       "      <td>0.593378</td>\n",
       "      <td>Blood count</td>\n",
       "    </tr>\n",
       "    <tr>\n",
       "      <th>33</th>\n",
       "      <td>22601_52232942-Job_coding_aircraft_engineer</td>\n",
       "      <td>0.592383</td>\n",
       "      <td>Employment history</td>\n",
       "    </tr>\n",
       "    <tr>\n",
       "      <th>34</th>\n",
       "      <td>22601_11623349-Job_coding_storage_manager_stock_control_manager_container_terminal_manager</td>\n",
       "      <td>0.592383</td>\n",
       "      <td>Employment history</td>\n",
       "    </tr>\n",
       "    <tr>\n",
       "      <th>35</th>\n",
       "      <td>ASTHMA_MODE-Asthma_mode</td>\n",
       "      <td>0.591925</td>\n",
       "      <td>Diseases (FinnGen)</td>\n",
       "    </tr>\n",
       "    <tr>\n",
       "      <th>36</th>\n",
       "      <td>status asthmaticus</td>\n",
       "      <td>0.591925</td>\n",
       "      <td>Diseases (ICD10 main)</td>\n",
       "    </tr>\n",
       "    <tr>\n",
       "      <th>37</th>\n",
       "      <td>20003_1141184726-Treatmentmedication_code_xalacom_000505_eye_drops</td>\n",
       "      <td>0.588410</td>\n",
       "      <td>Medications</td>\n",
       "    </tr>\n",
       "    <tr>\n",
       "      <th>38</th>\n",
       "      <td>AB1_OTHER_BACTERIAL-Other_bacterial_diseases</td>\n",
       "      <td>0.586519</td>\n",
       "      <td>Diseases (FinnGen)</td>\n",
       "    </tr>\n",
       "    <tr>\n",
       "      <th>39</th>\n",
       "      <td>20110_11-Illnesses_of_mother_Parkinsons_disease</td>\n",
       "      <td>0.585634</td>\n",
       "      <td>Family history</td>\n",
       "    </tr>\n",
       "    <tr>\n",
       "      <th>40</th>\n",
       "      <td>20003_1140910512-Treatmentmedication_code_ismo_isosorbide_mononitrate</td>\n",
       "      <td>0.585250</td>\n",
       "      <td>Medications</td>\n",
       "    </tr>\n",
       "    <tr>\n",
       "      <th>41</th>\n",
       "      <td>5254_raw-Intraocular_pressure_cornealcompensated_right</td>\n",
       "      <td>0.584836</td>\n",
       "      <td>Intraocular pressure</td>\n",
       "    </tr>\n",
       "    <tr>\n",
       "      <th>42</th>\n",
       "      <td>sepsis</td>\n",
       "      <td>0.583204</td>\n",
       "      <td>Diseases (infections)</td>\n",
       "    </tr>\n",
       "    <tr>\n",
       "      <th>43</th>\n",
       "      <td>disturbance of skin sensation</td>\n",
       "      <td>0.582346</td>\n",
       "      <td>Diseases (ICD10 main)</td>\n",
       "    </tr>\n",
       "    <tr>\n",
       "      <th>44</th>\n",
       "      <td>5257_raw-Corneal_resistance_factor_right</td>\n",
       "      <td>0.579500</td>\n",
       "      <td>Intraocular pressure</td>\n",
       "    </tr>\n",
       "    <tr>\n",
       "      <th>45</th>\n",
       "      <td>20459-General_happiness_with_own_health</td>\n",
       "      <td>0.576653</td>\n",
       "      <td>Happiness and subjective well-being</td>\n",
       "    </tr>\n",
       "    <tr>\n",
       "      <th>46</th>\n",
       "      <td>22617_8139-Job_SOC_coding_Assemblers_and_routine_operatives_nec</td>\n",
       "      <td>0.575911</td>\n",
       "      <td>Employment history</td>\n",
       "    </tr>\n",
       "    <tr>\n",
       "      <th>47</th>\n",
       "      <td>22617_1162-Job_SOC_coding_Storage_and_warehouse_managers</td>\n",
       "      <td>0.570419</td>\n",
       "      <td>Employment history</td>\n",
       "    </tr>\n",
       "    <tr>\n",
       "      <th>48</th>\n",
       "      <td>20114_9-Illnesses_of_adopted_siblings_Diabetes</td>\n",
       "      <td>0.570010</td>\n",
       "      <td>Family history</td>\n",
       "    </tr>\n",
       "    <tr>\n",
       "      <th>49</th>\n",
       "      <td>47_raw-Hand_grip_strength_right</td>\n",
       "      <td>0.566062</td>\n",
       "      <td>Hand grip strength</td>\n",
       "    </tr>\n",
       "    <tr>\n",
       "      <th>50</th>\n",
       "      <td>infectious mononucleosis AND epstein-barr virus infection</td>\n",
       "      <td>0.565130</td>\n",
       "      <td>Diseases (infections)</td>\n",
       "    </tr>\n",
       "    <tr>\n",
       "      <th>51</th>\n",
       "      <td>22617_5421-Job_SOC_coding_Originators_compositors_and_print_preparers</td>\n",
       "      <td>0.564745</td>\n",
       "      <td>Employment history</td>\n",
       "    </tr>\n",
       "    <tr>\n",
       "      <th>52</th>\n",
       "      <td>4124_raw-Heel_bone_mineral_density_BMD_right</td>\n",
       "      <td>0.564283</td>\n",
       "      <td>Bone-densitometry of heel</td>\n",
       "    </tr>\n",
       "    <tr>\n",
       "      <th>53</th>\n",
       "      <td>23129_raw-Trunk_fatfree_mass</td>\n",
       "      <td>0.564248</td>\n",
       "      <td>Impedance measures</td>\n",
       "    </tr>\n",
       "    <tr>\n",
       "      <th>54</th>\n",
       "      <td>22601_91493353-Job_coding_sales_room_assistant_wine_merchants_cellar_man_orderstock_filler_stockstore_keeper_lorrywarehouse_loadercheckerweigher_goods_porter_customs_attendant</td>\n",
       "      <td>0.562662</td>\n",
       "      <td>Employment history</td>\n",
       "    </tr>\n",
       "    <tr>\n",
       "      <th>55</th>\n",
       "      <td>100890-Milk_added_to_cereal</td>\n",
       "      <td>0.561824</td>\n",
       "      <td>Cereal yesterday</td>\n",
       "    </tr>\n",
       "    <tr>\n",
       "      <th>56</th>\n",
       "      <td>4101_raw-Heel_broadband_ultrasound_attenuation_left</td>\n",
       "      <td>0.560441</td>\n",
       "      <td>Bone-densitometry of heel</td>\n",
       "    </tr>\n",
       "    <tr>\n",
       "      <th>57</th>\n",
       "      <td>22617_3212-Job_SOC_coding_Midwives</td>\n",
       "      <td>0.560433</td>\n",
       "      <td>Employment history</td>\n",
       "    </tr>\n",
       "    <tr>\n",
       "      <th>58</th>\n",
       "      <td>23130_raw-Trunk_predicted_mass</td>\n",
       "      <td>0.558097</td>\n",
       "      <td>Impedance measures</td>\n",
       "    </tr>\n",
       "    <tr>\n",
       "      <th>59</th>\n",
       "      <td>monocyte count</td>\n",
       "      <td>0.557767</td>\n",
       "      <td>Blood</td>\n",
       "    </tr>\n",
       "    <tr>\n",
       "      <th>60</th>\n",
       "      <td>tibia fracture</td>\n",
       "      <td>0.556415</td>\n",
       "      <td>Diseases (musculoskeletal/trauma)</td>\n",
       "    </tr>\n",
       "    <tr>\n",
       "      <th>61</th>\n",
       "      <td>2217_raw-Age_started_wearing_glasses_or_contact_lenses</td>\n",
       "      <td>0.555670</td>\n",
       "      <td>Eyesight</td>\n",
       "    </tr>\n",
       "    <tr>\n",
       "      <th>62</th>\n",
       "      <td>20114_101-Illnesses_of_adopted_siblings_None_of_the_above_group_2</td>\n",
       "      <td>0.555426</td>\n",
       "      <td>Family history</td>\n",
       "    </tr>\n",
       "    <tr>\n",
       "      <th>63</th>\n",
       "      <td>1747_4-Hair_colour_natural_before_greying_Dark_brown</td>\n",
       "      <td>0.555070</td>\n",
       "      <td>Sun exposure</td>\n",
       "    </tr>\n",
       "    <tr>\n",
       "      <th>64</th>\n",
       "      <td>20003_1141152590-Treatmentmedication_code_glimepiride</td>\n",
       "      <td>0.554287</td>\n",
       "      <td>Medications</td>\n",
       "    </tr>\n",
       "    <tr>\n",
       "      <th>65</th>\n",
       "      <td>amputation</td>\n",
       "      <td>0.553705</td>\n",
       "      <td>Diseases (ICD10 main)</td>\n",
       "    </tr>\n",
       "    <tr>\n",
       "      <th>66</th>\n",
       "      <td>4120_raw-Heel_broadband_ultrasound_attenuation_right</td>\n",
       "      <td>0.549412</td>\n",
       "      <td>Bone-densitometry of heel</td>\n",
       "    </tr>\n",
       "    <tr>\n",
       "      <th>67</th>\n",
       "      <td>100670-White_wine_intake</td>\n",
       "      <td>0.545820</td>\n",
       "      <td>Alcoholic beverages yesterday</td>\n",
       "    </tr>\n",
       "    <tr>\n",
       "      <th>68</th>\n",
       "      <td>20111_4-Illnesses_of_siblings_Bowel_cancer</td>\n",
       "      <td>0.544432</td>\n",
       "      <td>Family history</td>\n",
       "    </tr>\n",
       "    <tr>\n",
       "      <th>69</th>\n",
       "      <td>4125_raw-Heel_bone_mineral_density_BMD_Tscore_automated_right</td>\n",
       "      <td>0.542896</td>\n",
       "      <td>Bone-densitometry of heel</td>\n",
       "    </tr>\n",
       "    <tr>\n",
       "      <th>70</th>\n",
       "      <td>4123_raw-Heel_quantitative_ultrasound_index_QUI_direct_entry_right</td>\n",
       "      <td>0.542848</td>\n",
       "      <td>Bone-densitometry of heel</td>\n",
       "    </tr>\n",
       "    <tr>\n",
       "      <th>71</th>\n",
       "      <td>22601_54212886-Job_coding_compositor_originator_lithographic_plate_maker_pasteup_artist_stereotyper_typesetter</td>\n",
       "      <td>0.542170</td>\n",
       "      <td>Employment history</td>\n",
       "    </tr>\n",
       "    <tr>\n",
       "      <th>72</th>\n",
       "      <td>100760-Breakfast_cereal_consumed</td>\n",
       "      <td>0.541244</td>\n",
       "      <td>Cereal yesterday</td>\n",
       "    </tr>\n",
       "    <tr>\n",
       "      <th>73</th>\n",
       "      <td>cesarean section</td>\n",
       "      <td>0.540014</td>\n",
       "      <td>Diseases (ICD10 main)</td>\n",
       "    </tr>\n",
       "    <tr>\n",
       "      <th>74</th>\n",
       "      <td>6147_7-Reason_for_glassescontact_lenses_Other_eye_condition</td>\n",
       "      <td>0.539865</td>\n",
       "      <td>Eyesight</td>\n",
       "    </tr>\n",
       "    <tr>\n",
       "      <th>75</th>\n",
       "      <td>ASTHMA_CHILD-Childhood_asthma_age16</td>\n",
       "      <td>0.539645</td>\n",
       "      <td>Diseases (FinnGen)</td>\n",
       "    </tr>\n",
       "    <tr>\n",
       "      <th>76</th>\n",
       "      <td>J10_ASTHMA-Asthma</td>\n",
       "      <td>0.539645</td>\n",
       "      <td>Diseases (FinnGen)</td>\n",
       "    </tr>\n",
       "    <tr>\n",
       "      <th>77</th>\n",
       "      <td>4105_raw-Heel_bone_mineral_density_BMD_left</td>\n",
       "      <td>0.539167</td>\n",
       "      <td>Bone-densitometry of heel</td>\n",
       "    </tr>\n",
       "    <tr>\n",
       "      <th>78</th>\n",
       "      <td>22601_71293332-Job_coding_advertising_or_sales_representative_demonstrator_estate_agent_negotiator_landproperty_salesman</td>\n",
       "      <td>0.538415</td>\n",
       "      <td>Employment history</td>\n",
       "    </tr>\n",
       "    <tr>\n",
       "      <th>79</th>\n",
       "      <td>4230_raw-Signaltonoiseratio_SNR_of_triplet_left</td>\n",
       "      <td>0.538231</td>\n",
       "      <td>Hearing test</td>\n",
       "    </tr>\n",
       "    <tr>\n",
       "      <th>80</th>\n",
       "      <td>20003_1140877826-Treatmentmedication_code_sodium_bicarbonate</td>\n",
       "      <td>0.537057</td>\n",
       "      <td>Medications</td>\n",
       "    </tr>\n",
       "    <tr>\n",
       "      <th>81</th>\n",
       "      <td>F05-Diagnoses_main_ICD10_F05_Delirium_not_induced_by_alcohol_and_other_psychoactive_substances</td>\n",
       "      <td>0.536900</td>\n",
       "      <td>Diseases (ICD10 main)</td>\n",
       "    </tr>\n",
       "    <tr>\n",
       "      <th>82</th>\n",
       "      <td>ASTHMA_HOSPITAL1-Asthma_hospital_admissions_1</td>\n",
       "      <td>0.534542</td>\n",
       "      <td>Diseases (FinnGen)</td>\n",
       "    </tr>\n",
       "    <tr>\n",
       "      <th>83</th>\n",
       "      <td>3089-Caffeine_drink_within_last_hour</td>\n",
       "      <td>0.533991</td>\n",
       "      <td>Spirometry</td>\n",
       "    </tr>\n",
       "    <tr>\n",
       "      <th>84</th>\n",
       "      <td>2207-Wears_glasses_or_contact_lenses</td>\n",
       "      <td>0.533950</td>\n",
       "      <td>Eyesight</td>\n",
       "    </tr>\n",
       "    <tr>\n",
       "      <th>85</th>\n",
       "      <td>I9_DVTANDPULM-DVT_of_lower_extremities_and_pulmonary_embolism</td>\n",
       "      <td>0.533798</td>\n",
       "      <td>Diseases (FinnGen)</td>\n",
       "    </tr>\n",
       "    <tr>\n",
       "      <th>86</th>\n",
       "      <td>C_ENDOCRINE</td>\n",
       "      <td>0.533240</td>\n",
       "      <td>Diseases (FinnGen)</td>\n",
       "    </tr>\n",
       "    <tr>\n",
       "      <th>87</th>\n",
       "      <td>C3_ENDOCRINE-Malignant_neoplasm_of_endocrine_gland</td>\n",
       "      <td>0.533240</td>\n",
       "      <td>Diseases (FinnGen)</td>\n",
       "    </tr>\n",
       "    <tr>\n",
       "      <th>88</th>\n",
       "      <td>1747_5-Hair_colour_natural_before_greying_Black</td>\n",
       "      <td>0.532979</td>\n",
       "      <td>Sun exposure</td>\n",
       "    </tr>\n",
       "    <tr>\n",
       "      <th>89</th>\n",
       "      <td>intestinal disease AND viral disease</td>\n",
       "      <td>0.532966</td>\n",
       "      <td>Diseases (ICD10 main)</td>\n",
       "    </tr>\n",
       "    <tr>\n",
       "      <th>90</th>\n",
       "      <td>22617_3532-Job_SOC_coding_Brokers</td>\n",
       "      <td>0.532328</td>\n",
       "      <td>Employment history</td>\n",
       "    </tr>\n",
       "    <tr>\n",
       "      <th>91</th>\n",
       "      <td>20003_1140923336-Treatmentmedication_code_cotenidone</td>\n",
       "      <td>0.531951</td>\n",
       "      <td>Medications</td>\n",
       "    </tr>\n",
       "    <tr>\n",
       "      <th>92</th>\n",
       "      <td>30150-Eosinophill_count</td>\n",
       "      <td>0.531736</td>\n",
       "      <td>Blood count</td>\n",
       "    </tr>\n",
       "    <tr>\n",
       "      <th>93</th>\n",
       "      <td>6140_1-Heating_types_in_home_Gas_central_heating</td>\n",
       "      <td>0.531267</td>\n",
       "      <td>Household</td>\n",
       "    </tr>\n",
       "    <tr>\n",
       "      <th>94</th>\n",
       "      <td>5116_raw-3mm_cylindrical_power_right</td>\n",
       "      <td>0.530120</td>\n",
       "      <td>Autorefraction</td>\n",
       "    </tr>\n",
       "    <tr>\n",
       "      <th>95</th>\n",
       "      <td>22601_35343267-Job_coding_financial_adviseragentconsultant_investment_analyst_mortgage_consultant_financier_pension_advisor</td>\n",
       "      <td>0.529860</td>\n",
       "      <td>Employment history</td>\n",
       "    </tr>\n",
       "    <tr>\n",
       "      <th>96</th>\n",
       "      <td>23121_raw-Arm_fatfree_mass_right</td>\n",
       "      <td>0.529099</td>\n",
       "      <td>Impedance measures</td>\n",
       "    </tr>\n",
       "    <tr>\n",
       "      <th>97</th>\n",
       "      <td>22601_24313288-Job_coding_architect_landscape_architectdesigner_structural_designer</td>\n",
       "      <td>0.528960</td>\n",
       "      <td>Employment history</td>\n",
       "    </tr>\n",
       "    <tr>\n",
       "      <th>98</th>\n",
       "      <td>30000_raw-White_blood_cell_leukocyte_count</td>\n",
       "      <td>0.528572</td>\n",
       "      <td>Blood count</td>\n",
       "    </tr>\n",
       "    <tr>\n",
       "      <th>99</th>\n",
       "      <td>100170-Fizzy_drink_intake</td>\n",
       "      <td>0.527881</td>\n",
       "      <td>Hot/cold beverages yesterday</td>\n",
       "    </tr>\n",
       "  </tbody>\n",
       "</table>\n",
       "</div>"
      ],
      "text/plain": [
       "                                                                                                                                                                              trait  \\\n",
       "0                                                                                                                                                      3143_raw-Ankle_spacing_width   \n",
       "1                                                                                                                                                 4100_raw-Ankle_spacing_width_left   \n",
       "2                                                                                                                                                4119_raw-Ankle_spacing_width_right   \n",
       "3                                                                                                               22617_1134-Job_SOC_coding_Advertising_and_public_relations_managers   \n",
       "4                                                                                                                                     1747_2-Hair_colour_natural_before_greying_Red   \n",
       "5                                                                                                                                                          20015_raw-Sitting_height   \n",
       "6                                                                                                                                             30110_raw-Platelet_distribution_width   \n",
       "7                                                                                                                                                                    celiac disease   \n",
       "8                                                              22601_11343224-Job_coding_advertising_or_public_relations_manager_mediapublicity_manager_campaignfundraising_manager   \n",
       "9                                                                                                                      20153_raw-Forced_expiratory_volume_in_1second_FEV1_predicted   \n",
       "10                                                                                                                      3144_raw-Heel_Broadband_ultrasound_attenuation_direct_entry   \n",
       "11                                                                                                                           5255_raw-Intraocular_pressure_Goldmanncorrelated_right   \n",
       "12                                                                                                                               4849_0-Hearing_test_done_No_I_am_unable_to_do_this   \n",
       "13                                                                                                                                                             rheumatoid arthritis   \n",
       "14                                                                                                                          30070_raw-Red_blood_cell_erythrocyte_distribution_width   \n",
       "15                                                                                                                    22601_61223105-Job_coding_childminder_au_pair_childrens_nanny   \n",
       "16                                                                                                                                           3148_raw-Heel_bone_mineral_density_BMD   \n",
       "17                                                                                                                     3147_raw-Heel_quantitative_ultrasound_index_QUI_direct_entry   \n",
       "18                                                                                                                            78_raw-Heel_bone_mineral_density_BMD_Tscore_automated   \n",
       "19                                                                                                                             22617_5499-Job_SOC_coding_Hand_craft_occupations_nec   \n",
       "20                                                                     6147_3-Reason_for_glassescontact_lenses_For_just_readingnear_work_as_you_are_getting_older_called_presbyopia   \n",
       "21                                                                                                                            5263_raw-Intraocular_pressure_Goldmanncorrelated_left   \n",
       "22                                                                                                                                            4196_raw-Pulse_wave_peak_to_peak_time   \n",
       "23                                                                                                                                                   46_raw-Hand_grip_strength_left   \n",
       "24                                                                                                                                20003_1140910640-Treatmentmedication_code_luteine   \n",
       "25                                                                                                                            20003_1140867444-Treatmentmedication_code_risperidone   \n",
       "26                                                                                                                                     M13_PREPATELLARBURSITIS-Prepatellar_bursitis   \n",
       "27                                                                                                                                                         abnormal lung morphology   \n",
       "28                                                                                                                                                            MAGNETIC_CH2.DB.ratio   \n",
       "29                                                                                                                                       30100_raw-Mean_platelet_thrombocyte_volume   \n",
       "30                                                                                                                                                           50_raw-Standing_height   \n",
       "31                                                                                                                      22601_81392831-Job_coding_other_assembler_routine_operative   \n",
       "32                                                                                                                             30060_raw-Mean_corpuscular_haemoglobin_concentration   \n",
       "33                                                                                                                                      22601_52232942-Job_coding_aircraft_engineer   \n",
       "34                                                                                       22601_11623349-Job_coding_storage_manager_stock_control_manager_container_terminal_manager   \n",
       "35                                                                                                                                                          ASTHMA_MODE-Asthma_mode   \n",
       "36                                                                                                                                                               status asthmaticus   \n",
       "37                                                                                                               20003_1141184726-Treatmentmedication_code_xalacom_000505_eye_drops   \n",
       "38                                                                                                                                     AB1_OTHER_BACTERIAL-Other_bacterial_diseases   \n",
       "39                                                                                                                                  20110_11-Illnesses_of_mother_Parkinsons_disease   \n",
       "40                                                                                                            20003_1140910512-Treatmentmedication_code_ismo_isosorbide_mononitrate   \n",
       "41                                                                                                                           5254_raw-Intraocular_pressure_cornealcompensated_right   \n",
       "42                                                                                                                                                                           sepsis   \n",
       "43                                                                                                                                                    disturbance of skin sensation   \n",
       "44                                                                                                                                         5257_raw-Corneal_resistance_factor_right   \n",
       "45                                                                                                                                          20459-General_happiness_with_own_health   \n",
       "46                                                                                                                  22617_8139-Job_SOC_coding_Assemblers_and_routine_operatives_nec   \n",
       "47                                                                                                                         22617_1162-Job_SOC_coding_Storage_and_warehouse_managers   \n",
       "48                                                                                                                                   20114_9-Illnesses_of_adopted_siblings_Diabetes   \n",
       "49                                                                                                                                                  47_raw-Hand_grip_strength_right   \n",
       "50                                                                                                                        infectious mononucleosis AND epstein-barr virus infection   \n",
       "51                                                                                                            22617_5421-Job_SOC_coding_Originators_compositors_and_print_preparers   \n",
       "52                                                                                                                                     4124_raw-Heel_bone_mineral_density_BMD_right   \n",
       "53                                                                                                                                                     23129_raw-Trunk_fatfree_mass   \n",
       "54  22601_91493353-Job_coding_sales_room_assistant_wine_merchants_cellar_man_orderstock_filler_stockstore_keeper_lorrywarehouse_loadercheckerweigher_goods_porter_customs_attendant   \n",
       "55                                                                                                                                                      100890-Milk_added_to_cereal   \n",
       "56                                                                                                                              4101_raw-Heel_broadband_ultrasound_attenuation_left   \n",
       "57                                                                                                                                               22617_3212-Job_SOC_coding_Midwives   \n",
       "58                                                                                                                                                   23130_raw-Trunk_predicted_mass   \n",
       "59                                                                                                                                                                   monocyte count   \n",
       "60                                                                                                                                                                   tibia fracture   \n",
       "61                                                                                                                           2217_raw-Age_started_wearing_glasses_or_contact_lenses   \n",
       "62                                                                                                                20114_101-Illnesses_of_adopted_siblings_None_of_the_above_group_2   \n",
       "63                                                                                                                             1747_4-Hair_colour_natural_before_greying_Dark_brown   \n",
       "64                                                                                                                            20003_1141152590-Treatmentmedication_code_glimepiride   \n",
       "65                                                                                                                                                                       amputation   \n",
       "66                                                                                                                             4120_raw-Heel_broadband_ultrasound_attenuation_right   \n",
       "67                                                                                                                                                         100670-White_wine_intake   \n",
       "68                                                                                                                                       20111_4-Illnesses_of_siblings_Bowel_cancer   \n",
       "69                                                                                                                    4125_raw-Heel_bone_mineral_density_BMD_Tscore_automated_right   \n",
       "70                                                                                                               4123_raw-Heel_quantitative_ultrasound_index_QUI_direct_entry_right   \n",
       "71                                                                   22601_54212886-Job_coding_compositor_originator_lithographic_plate_maker_pasteup_artist_stereotyper_typesetter   \n",
       "72                                                                                                                                                 100760-Breakfast_cereal_consumed   \n",
       "73                                                                                                                                                                 cesarean section   \n",
       "74                                                                                                                      6147_7-Reason_for_glassescontact_lenses_Other_eye_condition   \n",
       "75                                                                                                                                              ASTHMA_CHILD-Childhood_asthma_age16   \n",
       "76                                                                                                                                                                J10_ASTHMA-Asthma   \n",
       "77                                                                                                                                      4105_raw-Heel_bone_mineral_density_BMD_left   \n",
       "78                                                         22601_71293332-Job_coding_advertising_or_sales_representative_demonstrator_estate_agent_negotiator_landproperty_salesman   \n",
       "79                                                                                                                                  4230_raw-Signaltonoiseratio_SNR_of_triplet_left   \n",
       "80                                                                                                                     20003_1140877826-Treatmentmedication_code_sodium_bicarbonate   \n",
       "81                                                                                   F05-Diagnoses_main_ICD10_F05_Delirium_not_induced_by_alcohol_and_other_psychoactive_substances   \n",
       "82                                                                                                                                    ASTHMA_HOSPITAL1-Asthma_hospital_admissions_1   \n",
       "83                                                                                                                                             3089-Caffeine_drink_within_last_hour   \n",
       "84                                                                                                                                             2207-Wears_glasses_or_contact_lenses   \n",
       "85                                                                                                                    I9_DVTANDPULM-DVT_of_lower_extremities_and_pulmonary_embolism   \n",
       "86                                                                                                                                                                      C_ENDOCRINE   \n",
       "87                                                                                                                               C3_ENDOCRINE-Malignant_neoplasm_of_endocrine_gland   \n",
       "88                                                                                                                                  1747_5-Hair_colour_natural_before_greying_Black   \n",
       "89                                                                                                                                             intestinal disease AND viral disease   \n",
       "90                                                                                                                                                22617_3532-Job_SOC_coding_Brokers   \n",
       "91                                                                                                                             20003_1140923336-Treatmentmedication_code_cotenidone   \n",
       "92                                                                                                                                                          30150-Eosinophill_count   \n",
       "93                                                                                                                                 6140_1-Heating_types_in_home_Gas_central_heating   \n",
       "94                                                                                                                                             5116_raw-3mm_cylindrical_power_right   \n",
       "95                                                      22601_35343267-Job_coding_financial_adviseragentconsultant_investment_analyst_mortgage_consultant_financier_pension_advisor   \n",
       "96                                                                                                                                                 23121_raw-Arm_fatfree_mass_right   \n",
       "97                                                                                              22601_24313288-Job_coding_architect_landscape_architectdesigner_structural_designer   \n",
       "98                                                                                                                                       30000_raw-White_blood_cell_leukocyte_count   \n",
       "99                                                                                                                                                        100170-Fizzy_drink_intake   \n",
       "\n",
       "       value                               category  \n",
       "0   0.837454              Bone-densitometry of heel  \n",
       "1   0.806306              Bone-densitometry of heel  \n",
       "2   0.784920              Bone-densitometry of heel  \n",
       "3   0.743409                     Employment history  \n",
       "4   0.710902                           Sun exposure  \n",
       "5   0.704981                     Body size measures  \n",
       "6   0.701949                            Blood count  \n",
       "7   0.685562  Diseases (gastrointestinal/abdominal)  \n",
       "8   0.683621                     Employment history  \n",
       "9   0.678102                             Spirometry  \n",
       "10  0.673099              Bone-densitometry of heel  \n",
       "11  0.666034                   Intraocular pressure  \n",
       "12  0.662197                           Hearing test  \n",
       "13  0.658499                  Diseases (ICD10 main)  \n",
       "14  0.655730                            Blood count  \n",
       "15  0.652638                     Employment history  \n",
       "16  0.649578              Bone-densitometry of heel  \n",
       "17  0.648512              Bone-densitometry of heel  \n",
       "18  0.648510              Bone-densitometry of heel  \n",
       "19  0.628709                     Employment history  \n",
       "20  0.625772                               Eyesight  \n",
       "21  0.625523                   Intraocular pressure  \n",
       "22  0.624244                     Arterial stiffness  \n",
       "23  0.614967                     Hand grip strength  \n",
       "24  0.611399                            Medications  \n",
       "25  0.610184                            Medications  \n",
       "26  0.605622                     Diseases (FinnGen)  \n",
       "27  0.603077                  Diseases (ICD10 main)  \n",
       "28  0.602741                        Cardiometabolic  \n",
       "29  0.600884                            Blood count  \n",
       "30  0.599697                     Body size measures  \n",
       "31  0.598321                     Employment history  \n",
       "32  0.593378                            Blood count  \n",
       "33  0.592383                     Employment history  \n",
       "34  0.592383                     Employment history  \n",
       "35  0.591925                     Diseases (FinnGen)  \n",
       "36  0.591925                  Diseases (ICD10 main)  \n",
       "37  0.588410                            Medications  \n",
       "38  0.586519                     Diseases (FinnGen)  \n",
       "39  0.585634                         Family history  \n",
       "40  0.585250                            Medications  \n",
       "41  0.584836                   Intraocular pressure  \n",
       "42  0.583204                  Diseases (infections)  \n",
       "43  0.582346                  Diseases (ICD10 main)  \n",
       "44  0.579500                   Intraocular pressure  \n",
       "45  0.576653    Happiness and subjective well-being  \n",
       "46  0.575911                     Employment history  \n",
       "47  0.570419                     Employment history  \n",
       "48  0.570010                         Family history  \n",
       "49  0.566062                     Hand grip strength  \n",
       "50  0.565130                  Diseases (infections)  \n",
       "51  0.564745                     Employment history  \n",
       "52  0.564283              Bone-densitometry of heel  \n",
       "53  0.564248                     Impedance measures  \n",
       "54  0.562662                     Employment history  \n",
       "55  0.561824                       Cereal yesterday  \n",
       "56  0.560441              Bone-densitometry of heel  \n",
       "57  0.560433                     Employment history  \n",
       "58  0.558097                     Impedance measures  \n",
       "59  0.557767                                  Blood  \n",
       "60  0.556415      Diseases (musculoskeletal/trauma)  \n",
       "61  0.555670                               Eyesight  \n",
       "62  0.555426                         Family history  \n",
       "63  0.555070                           Sun exposure  \n",
       "64  0.554287                            Medications  \n",
       "65  0.553705                  Diseases (ICD10 main)  \n",
       "66  0.549412              Bone-densitometry of heel  \n",
       "67  0.545820          Alcoholic beverages yesterday  \n",
       "68  0.544432                         Family history  \n",
       "69  0.542896              Bone-densitometry of heel  \n",
       "70  0.542848              Bone-densitometry of heel  \n",
       "71  0.542170                     Employment history  \n",
       "72  0.541244                       Cereal yesterday  \n",
       "73  0.540014                  Diseases (ICD10 main)  \n",
       "74  0.539865                               Eyesight  \n",
       "75  0.539645                     Diseases (FinnGen)  \n",
       "76  0.539645                     Diseases (FinnGen)  \n",
       "77  0.539167              Bone-densitometry of heel  \n",
       "78  0.538415                     Employment history  \n",
       "79  0.538231                           Hearing test  \n",
       "80  0.537057                            Medications  \n",
       "81  0.536900                  Diseases (ICD10 main)  \n",
       "82  0.534542                     Diseases (FinnGen)  \n",
       "83  0.533991                             Spirometry  \n",
       "84  0.533950                               Eyesight  \n",
       "85  0.533798                     Diseases (FinnGen)  \n",
       "86  0.533240                     Diseases (FinnGen)  \n",
       "87  0.533240                     Diseases (FinnGen)  \n",
       "88  0.532979                           Sun exposure  \n",
       "89  0.532966                  Diseases (ICD10 main)  \n",
       "90  0.532328                     Employment history  \n",
       "91  0.531951                            Medications  \n",
       "92  0.531736                            Blood count  \n",
       "93  0.531267                              Household  \n",
       "94  0.530120                         Autorefraction  \n",
       "95  0.529860                     Employment history  \n",
       "96  0.529099                     Impedance measures  \n",
       "97  0.528960                     Employment history  \n",
       "98  0.528572                            Blood count  \n",
       "99  0.527881           Hot/cold beverages yesterday  "
      ]
     },
     "metadata": {},
     "output_type": "display_data"
    }
   ],
   "source": [
    "with pd.option_context(\n",
    "    \"display.max_rows\", None, \"display.max_columns\", None, \"max_colwidth\", None\n",
    "):\n",
    "    display(top_traits)"
   ]
  },
  {
   "cell_type": "markdown",
   "metadata": {
    "papermill": {
     "duration": 0.019981,
     "end_time": "2021-05-21T19:09:28.970977",
     "exception": false,
     "start_time": "2021-05-21T19:09:28.950996",
     "status": "completed"
    },
    "tags": []
   },
   "source": [
    "# Summary using trait categories"
   ]
  },
  {
   "cell_type": "code",
   "execution_count": 34,
   "metadata": {
    "execution": {
     "iopub.execute_input": "2021-05-21T19:09:29.014281Z",
     "iopub.status.busy": "2021-05-21T19:09:29.013922Z",
     "iopub.status.idle": "2021-05-21T19:09:29.023206Z",
     "shell.execute_reply": "2021-05-21T19:09:29.022811Z"
    },
    "papermill": {
     "duration": 0.032055,
     "end_time": "2021-05-21T19:09:29.023300",
     "exception": false,
     "start_time": "2021-05-21T19:09:28.991245",
     "status": "completed"
    },
    "tags": []
   },
   "outputs": [],
   "source": [
    "top_traits_categories = (\n",
    "    top_traits.groupby(\"category\")\n",
    "    .mean()\n",
    "    .sort_values(\"value\", ascending=False)\n",
    "    .reset_index()\n",
    ")"
   ]
  },
  {
   "cell_type": "code",
   "execution_count": 35,
   "metadata": {
    "execution": {
     "iopub.execute_input": "2021-05-21T19:09:29.066812Z",
     "iopub.status.busy": "2021-05-21T19:09:29.066432Z",
     "iopub.status.idle": "2021-05-21T19:09:29.079252Z",
     "shell.execute_reply": "2021-05-21T19:09:29.078539Z"
    },
    "papermill": {
     "duration": 0.035366,
     "end_time": "2021-05-21T19:09:29.079362",
     "exception": false,
     "start_time": "2021-05-21T19:09:29.043996",
     "status": "completed"
    },
    "tags": []
   },
   "outputs": [
    {
     "data": {
      "text/html": [
       "<div>\n",
       "<style scoped>\n",
       "    .dataframe tbody tr th:only-of-type {\n",
       "        vertical-align: middle;\n",
       "    }\n",
       "\n",
       "    .dataframe tbody tr th {\n",
       "        vertical-align: top;\n",
       "    }\n",
       "\n",
       "    .dataframe thead th {\n",
       "        text-align: right;\n",
       "    }\n",
       "</style>\n",
       "<table border=\"1\" class=\"dataframe\">\n",
       "  <thead>\n",
       "    <tr style=\"text-align: right;\">\n",
       "      <th></th>\n",
       "      <th>category</th>\n",
       "      <th>value</th>\n",
       "    </tr>\n",
       "  </thead>\n",
       "  <tbody>\n",
       "    <tr>\n",
       "      <th>0</th>\n",
       "      <td>Diseases (gastrointestinal/abdominal)</td>\n",
       "      <td>0.685562</td>\n",
       "    </tr>\n",
       "    <tr>\n",
       "      <th>1</th>\n",
       "      <td>Body size measures</td>\n",
       "      <td>0.652339</td>\n",
       "    </tr>\n",
       "    <tr>\n",
       "      <th>2</th>\n",
       "      <td>Bone-densitometry of heel</td>\n",
       "      <td>0.642110</td>\n",
       "    </tr>\n",
       "    <tr>\n",
       "      <th>3</th>\n",
       "      <td>Arterial stiffness</td>\n",
       "      <td>0.624244</td>\n",
       "    </tr>\n",
       "    <tr>\n",
       "      <th>4</th>\n",
       "      <td>Intraocular pressure</td>\n",
       "      <td>0.613973</td>\n",
       "    </tr>\n",
       "  </tbody>\n",
       "</table>\n",
       "</div>"
      ],
      "text/plain": [
       "                                category     value\n",
       "0  Diseases (gastrointestinal/abdominal)  0.685562\n",
       "1                     Body size measures  0.652339\n",
       "2              Bone-densitometry of heel  0.642110\n",
       "3                     Arterial stiffness  0.624244\n",
       "4                   Intraocular pressure  0.613973"
      ]
     },
     "execution_count": 35,
     "metadata": {},
     "output_type": "execute_result"
    }
   ],
   "source": [
    "top_traits_categories.head()"
   ]
  },
  {
   "cell_type": "code",
   "execution_count": 36,
   "metadata": {
    "execution": {
     "iopub.execute_input": "2021-05-21T19:09:29.129922Z",
     "iopub.status.busy": "2021-05-21T19:09:29.129563Z",
     "iopub.status.idle": "2021-05-21T19:09:29.141146Z",
     "shell.execute_reply": "2021-05-21T19:09:29.140771Z"
    },
    "papermill": {
     "duration": 0.035621,
     "end_time": "2021-05-21T19:09:29.141231",
     "exception": false,
     "start_time": "2021-05-21T19:09:29.105610",
     "status": "completed"
    },
    "tags": []
   },
   "outputs": [
    {
     "data": {
      "text/html": [
       "<div>\n",
       "<style scoped>\n",
       "    .dataframe tbody tr th:only-of-type {\n",
       "        vertical-align: middle;\n",
       "    }\n",
       "\n",
       "    .dataframe tbody tr th {\n",
       "        vertical-align: top;\n",
       "    }\n",
       "\n",
       "    .dataframe thead th {\n",
       "        text-align: right;\n",
       "    }\n",
       "</style>\n",
       "<table border=\"1\" class=\"dataframe\">\n",
       "  <thead>\n",
       "    <tr style=\"text-align: right;\">\n",
       "      <th></th>\n",
       "      <th>category</th>\n",
       "      <th>value</th>\n",
       "    </tr>\n",
       "  </thead>\n",
       "  <tbody>\n",
       "    <tr>\n",
       "      <th>0</th>\n",
       "      <td>Diseases (gastrointestinal/abdominal)</td>\n",
       "      <td>0.685562</td>\n",
       "    </tr>\n",
       "    <tr>\n",
       "      <th>1</th>\n",
       "      <td>Body size measures</td>\n",
       "      <td>0.652339</td>\n",
       "    </tr>\n",
       "    <tr>\n",
       "      <th>2</th>\n",
       "      <td>Bone-densitometry of heel</td>\n",
       "      <td>0.642110</td>\n",
       "    </tr>\n",
       "    <tr>\n",
       "      <th>3</th>\n",
       "      <td>Arterial stiffness</td>\n",
       "      <td>0.624244</td>\n",
       "    </tr>\n",
       "    <tr>\n",
       "      <th>4</th>\n",
       "      <td>Intraocular pressure</td>\n",
       "      <td>0.613973</td>\n",
       "    </tr>\n",
       "    <tr>\n",
       "      <th>5</th>\n",
       "      <td>Spirometry</td>\n",
       "      <td>0.606046</td>\n",
       "    </tr>\n",
       "    <tr>\n",
       "      <th>6</th>\n",
       "      <td>Cardiometabolic</td>\n",
       "      <td>0.602741</td>\n",
       "    </tr>\n",
       "    <tr>\n",
       "      <th>7</th>\n",
       "      <td>Blood count</td>\n",
       "      <td>0.602042</td>\n",
       "    </tr>\n",
       "    <tr>\n",
       "      <th>8</th>\n",
       "      <td>Hearing test</td>\n",
       "      <td>0.600214</td>\n",
       "    </tr>\n",
       "    <tr>\n",
       "      <th>9</th>\n",
       "      <td>Sun exposure</td>\n",
       "      <td>0.599651</td>\n",
       "    </tr>\n",
       "    <tr>\n",
       "      <th>10</th>\n",
       "      <td>Hand grip strength</td>\n",
       "      <td>0.590514</td>\n",
       "    </tr>\n",
       "    <tr>\n",
       "      <th>11</th>\n",
       "      <td>Employment history</td>\n",
       "      <td>0.588080</td>\n",
       "    </tr>\n",
       "    <tr>\n",
       "      <th>12</th>\n",
       "      <td>Happiness and subjective well-being</td>\n",
       "      <td>0.576653</td>\n",
       "    </tr>\n",
       "    <tr>\n",
       "      <th>13</th>\n",
       "      <td>Diseases (ICD10 main)</td>\n",
       "      <td>0.574929</td>\n",
       "    </tr>\n",
       "    <tr>\n",
       "      <th>14</th>\n",
       "      <td>Diseases (infections)</td>\n",
       "      <td>0.574167</td>\n",
       "    </tr>\n",
       "    <tr>\n",
       "      <th>15</th>\n",
       "      <td>Medications</td>\n",
       "      <td>0.574077</td>\n",
       "    </tr>\n",
       "    <tr>\n",
       "      <th>16</th>\n",
       "      <td>Family history</td>\n",
       "      <td>0.563875</td>\n",
       "    </tr>\n",
       "    <tr>\n",
       "      <th>17</th>\n",
       "      <td>Eyesight</td>\n",
       "      <td>0.563814</td>\n",
       "    </tr>\n",
       "    <tr>\n",
       "      <th>18</th>\n",
       "      <td>Blood</td>\n",
       "      <td>0.557767</td>\n",
       "    </tr>\n",
       "    <tr>\n",
       "      <th>19</th>\n",
       "      <td>Diseases (musculoskeletal/trauma)</td>\n",
       "      <td>0.556415</td>\n",
       "    </tr>\n",
       "    <tr>\n",
       "      <th>20</th>\n",
       "      <td>Diseases (FinnGen)</td>\n",
       "      <td>0.555353</td>\n",
       "    </tr>\n",
       "    <tr>\n",
       "      <th>21</th>\n",
       "      <td>Cereal yesterday</td>\n",
       "      <td>0.551534</td>\n",
       "    </tr>\n",
       "    <tr>\n",
       "      <th>22</th>\n",
       "      <td>Impedance measures</td>\n",
       "      <td>0.550481</td>\n",
       "    </tr>\n",
       "    <tr>\n",
       "      <th>23</th>\n",
       "      <td>Alcoholic beverages yesterday</td>\n",
       "      <td>0.545820</td>\n",
       "    </tr>\n",
       "    <tr>\n",
       "      <th>24</th>\n",
       "      <td>Household</td>\n",
       "      <td>0.531267</td>\n",
       "    </tr>\n",
       "    <tr>\n",
       "      <th>25</th>\n",
       "      <td>Autorefraction</td>\n",
       "      <td>0.530120</td>\n",
       "    </tr>\n",
       "    <tr>\n",
       "      <th>26</th>\n",
       "      <td>Hot/cold beverages yesterday</td>\n",
       "      <td>0.527881</td>\n",
       "    </tr>\n",
       "  </tbody>\n",
       "</table>\n",
       "</div>"
      ],
      "text/plain": [
       "                                 category     value\n",
       "0   Diseases (gastrointestinal/abdominal)  0.685562\n",
       "1                      Body size measures  0.652339\n",
       "2               Bone-densitometry of heel  0.642110\n",
       "3                      Arterial stiffness  0.624244\n",
       "4                    Intraocular pressure  0.613973\n",
       "5                              Spirometry  0.606046\n",
       "6                         Cardiometabolic  0.602741\n",
       "7                             Blood count  0.602042\n",
       "8                            Hearing test  0.600214\n",
       "9                            Sun exposure  0.599651\n",
       "10                     Hand grip strength  0.590514\n",
       "11                     Employment history  0.588080\n",
       "12    Happiness and subjective well-being  0.576653\n",
       "13                  Diseases (ICD10 main)  0.574929\n",
       "14                  Diseases (infections)  0.574167\n",
       "15                            Medications  0.574077\n",
       "16                         Family history  0.563875\n",
       "17                               Eyesight  0.563814\n",
       "18                                  Blood  0.557767\n",
       "19      Diseases (musculoskeletal/trauma)  0.556415\n",
       "20                     Diseases (FinnGen)  0.555353\n",
       "21                       Cereal yesterday  0.551534\n",
       "22                     Impedance measures  0.550481\n",
       "23          Alcoholic beverages yesterday  0.545820\n",
       "24                              Household  0.531267\n",
       "25                         Autorefraction  0.530120\n",
       "26           Hot/cold beverages yesterday  0.527881"
      ]
     },
     "metadata": {},
     "output_type": "display_data"
    }
   ],
   "source": [
    "with pd.option_context(\n",
    "    \"display.max_rows\", None, \"display.max_columns\", None, \"max_colwidth\", None\n",
    "):\n",
    "    display(top_traits_categories)"
   ]
  },
  {
   "cell_type": "code",
   "execution_count": 37,
   "metadata": {
    "execution": {
     "iopub.execute_input": "2021-05-21T19:09:29.188252Z",
     "iopub.status.busy": "2021-05-21T19:09:29.187893Z",
     "iopub.status.idle": "2021-05-21T19:09:29.281023Z",
     "shell.execute_reply": "2021-05-21T19:09:29.280628Z"
    },
    "papermill": {
     "duration": 0.117929,
     "end_time": "2021-05-21T19:09:29.281110",
     "exception": false,
     "start_time": "2021-05-21T19:09:29.163181",
     "status": "completed"
    },
    "tags": []
   },
   "outputs": [
    {
     "data": {
      "text/html": [
       "<h2>Diseases (gastrointestinal/abdominal)</h2>"
      ],
      "text/plain": [
       "<IPython.core.display.HTML object>"
      ]
     },
     "metadata": {},
     "output_type": "display_data"
    },
    {
     "data": {
      "text/plain": [
       "trait\n",
       "celiac disease    0.685562\n",
       "Name: value, dtype: float64"
      ]
     },
     "metadata": {},
     "output_type": "display_data"
    },
    {
     "data": {
      "text/html": [
       "<h2>Body size measures</h2>"
      ],
      "text/plain": [
       "<IPython.core.display.HTML object>"
      ]
     },
     "metadata": {},
     "output_type": "display_data"
    },
    {
     "data": {
      "text/plain": [
       "trait\n",
       "50_raw-Standing_height      0.599697\n",
       "20015_raw-Sitting_height    0.704981\n",
       "Name: value, dtype: float64"
      ]
     },
     "metadata": {},
     "output_type": "display_data"
    },
    {
     "data": {
      "text/html": [
       "<h2>Bone-densitometry of heel</h2>"
      ],
      "text/plain": [
       "<IPython.core.display.HTML object>"
      ]
     },
     "metadata": {},
     "output_type": "display_data"
    },
    {
     "data": {
      "text/plain": [
       "trait\n",
       "4105_raw-Heel_bone_mineral_density_BMD_left                           0.539167\n",
       "4123_raw-Heel_quantitative_ultrasound_index_QUI_direct_entry_right    0.542848\n",
       "4125_raw-Heel_bone_mineral_density_BMD_Tscore_automated_right         0.542896\n",
       "4120_raw-Heel_broadband_ultrasound_attenuation_right                  0.549412\n",
       "4101_raw-Heel_broadband_ultrasound_attenuation_left                   0.560441\n",
       "4124_raw-Heel_bone_mineral_density_BMD_right                          0.564283\n",
       "78_raw-Heel_bone_mineral_density_BMD_Tscore_automated                 0.648510\n",
       "3147_raw-Heel_quantitative_ultrasound_index_QUI_direct_entry          0.648512\n",
       "3148_raw-Heel_bone_mineral_density_BMD                                0.649578\n",
       "3144_raw-Heel_Broadband_ultrasound_attenuation_direct_entry           0.673099\n",
       "4119_raw-Ankle_spacing_width_right                                    0.784920\n",
       "4100_raw-Ankle_spacing_width_left                                     0.806306\n",
       "3143_raw-Ankle_spacing_width                                          0.837454\n",
       "Name: value, dtype: float64"
      ]
     },
     "metadata": {},
     "output_type": "display_data"
    },
    {
     "data": {
      "text/html": [
       "<h2>Arterial stiffness</h2>"
      ],
      "text/plain": [
       "<IPython.core.display.HTML object>"
      ]
     },
     "metadata": {},
     "output_type": "display_data"
    },
    {
     "data": {
      "text/plain": [
       "trait\n",
       "4196_raw-Pulse_wave_peak_to_peak_time    0.624244\n",
       "Name: value, dtype: float64"
      ]
     },
     "metadata": {},
     "output_type": "display_data"
    },
    {
     "data": {
      "text/html": [
       "<h2>Intraocular pressure</h2>"
      ],
      "text/plain": [
       "<IPython.core.display.HTML object>"
      ]
     },
     "metadata": {},
     "output_type": "display_data"
    },
    {
     "data": {
      "text/plain": [
       "trait\n",
       "5257_raw-Corneal_resistance_factor_right                  0.579500\n",
       "5254_raw-Intraocular_pressure_cornealcompensated_right    0.584836\n",
       "5263_raw-Intraocular_pressure_Goldmanncorrelated_left     0.625523\n",
       "5255_raw-Intraocular_pressure_Goldmanncorrelated_right    0.666034\n",
       "Name: value, dtype: float64"
      ]
     },
     "metadata": {},
     "output_type": "display_data"
    },
    {
     "data": {
      "text/html": [
       "<h2>Spirometry</h2>"
      ],
      "text/plain": [
       "<IPython.core.display.HTML object>"
      ]
     },
     "metadata": {},
     "output_type": "display_data"
    },
    {
     "data": {
      "text/plain": [
       "trait\n",
       "3089-Caffeine_drink_within_last_hour                            0.533991\n",
       "20153_raw-Forced_expiratory_volume_in_1second_FEV1_predicted    0.678102\n",
       "Name: value, dtype: float64"
      ]
     },
     "metadata": {},
     "output_type": "display_data"
    },
    {
     "data": {
      "text/html": [
       "<h2>Cardiometabolic</h2>"
      ],
      "text/plain": [
       "<IPython.core.display.HTML object>"
      ]
     },
     "metadata": {},
     "output_type": "display_data"
    },
    {
     "data": {
      "text/plain": [
       "trait\n",
       "MAGNETIC_CH2.DB.ratio    0.602741\n",
       "Name: value, dtype: float64"
      ]
     },
     "metadata": {},
     "output_type": "display_data"
    },
    {
     "data": {
      "text/html": [
       "<h2>Blood count</h2>"
      ],
      "text/plain": [
       "<IPython.core.display.HTML object>"
      ]
     },
     "metadata": {},
     "output_type": "display_data"
    },
    {
     "data": {
      "text/plain": [
       "trait\n",
       "30000_raw-White_blood_cell_leukocyte_count                 0.528572\n",
       "30150-Eosinophill_count                                    0.531736\n",
       "30060_raw-Mean_corpuscular_haemoglobin_concentration       0.593378\n",
       "30100_raw-Mean_platelet_thrombocyte_volume                 0.600884\n",
       "30070_raw-Red_blood_cell_erythrocyte_distribution_width    0.655730\n",
       "30110_raw-Platelet_distribution_width                      0.701949\n",
       "Name: value, dtype: float64"
      ]
     },
     "metadata": {},
     "output_type": "display_data"
    },
    {
     "data": {
      "text/html": [
       "<h2>Hearing test</h2>"
      ],
      "text/plain": [
       "<IPython.core.display.HTML object>"
      ]
     },
     "metadata": {},
     "output_type": "display_data"
    },
    {
     "data": {
      "text/plain": [
       "trait\n",
       "4230_raw-Signaltonoiseratio_SNR_of_triplet_left       0.538231\n",
       "4849_0-Hearing_test_done_No_I_am_unable_to_do_this    0.662197\n",
       "Name: value, dtype: float64"
      ]
     },
     "metadata": {},
     "output_type": "display_data"
    },
    {
     "data": {
      "text/html": [
       "<h2>Sun exposure</h2>"
      ],
      "text/plain": [
       "<IPython.core.display.HTML object>"
      ]
     },
     "metadata": {},
     "output_type": "display_data"
    },
    {
     "data": {
      "text/plain": [
       "trait\n",
       "1747_5-Hair_colour_natural_before_greying_Black         0.532979\n",
       "1747_4-Hair_colour_natural_before_greying_Dark_brown    0.555070\n",
       "1747_2-Hair_colour_natural_before_greying_Red           0.710902\n",
       "Name: value, dtype: float64"
      ]
     },
     "metadata": {},
     "output_type": "display_data"
    },
    {
     "data": {
      "text/html": [
       "<h2>Hand grip strength</h2>"
      ],
      "text/plain": [
       "<IPython.core.display.HTML object>"
      ]
     },
     "metadata": {},
     "output_type": "display_data"
    },
    {
     "data": {
      "text/plain": [
       "trait\n",
       "47_raw-Hand_grip_strength_right    0.566062\n",
       "46_raw-Hand_grip_strength_left     0.614967\n",
       "Name: value, dtype: float64"
      ]
     },
     "metadata": {},
     "output_type": "display_data"
    },
    {
     "data": {
      "text/html": [
       "<h2>Employment history</h2>"
      ],
      "text/plain": [
       "<IPython.core.display.HTML object>"
      ]
     },
     "metadata": {},
     "output_type": "display_data"
    },
    {
     "data": {
      "text/plain": [
       "trait\n",
       "22601_24313288-Job_coding_architect_landscape_architectdesigner_structural_designer                                                                                                0.528960\n",
       "22601_35343267-Job_coding_financial_adviseragentconsultant_investment_analyst_mortgage_consultant_financier_pension_advisor                                                        0.529860\n",
       "22617_3532-Job_SOC_coding_Brokers                                                                                                                                                  0.532328\n",
       "22601_71293332-Job_coding_advertising_or_sales_representative_demonstrator_estate_agent_negotiator_landproperty_salesman                                                           0.538415\n",
       "22601_54212886-Job_coding_compositor_originator_lithographic_plate_maker_pasteup_artist_stereotyper_typesetter                                                                     0.542170\n",
       "22617_3212-Job_SOC_coding_Midwives                                                                                                                                                 0.560433\n",
       "22601_91493353-Job_coding_sales_room_assistant_wine_merchants_cellar_man_orderstock_filler_stockstore_keeper_lorrywarehouse_loadercheckerweigher_goods_porter_customs_attendant    0.562662\n",
       "22617_5421-Job_SOC_coding_Originators_compositors_and_print_preparers                                                                                                              0.564745\n",
       "22617_1162-Job_SOC_coding_Storage_and_warehouse_managers                                                                                                                           0.570419\n",
       "22617_8139-Job_SOC_coding_Assemblers_and_routine_operatives_nec                                                                                                                    0.575911\n",
       "22601_11623349-Job_coding_storage_manager_stock_control_manager_container_terminal_manager                                                                                         0.592383\n",
       "22601_52232942-Job_coding_aircraft_engineer                                                                                                                                        0.592383\n",
       "22601_81392831-Job_coding_other_assembler_routine_operative                                                                                                                        0.598321\n",
       "22617_5499-Job_SOC_coding_Hand_craft_occupations_nec                                                                                                                               0.628709\n",
       "22601_61223105-Job_coding_childminder_au_pair_childrens_nanny                                                                                                                      0.652638\n",
       "22601_11343224-Job_coding_advertising_or_public_relations_manager_mediapublicity_manager_campaignfundraising_manager                                                               0.683621\n",
       "22617_1134-Job_SOC_coding_Advertising_and_public_relations_managers                                                                                                                0.743409\n",
       "Name: value, dtype: float64"
      ]
     },
     "metadata": {},
     "output_type": "display_data"
    },
    {
     "data": {
      "text/html": [
       "<h2>Happiness and subjective well-being</h2>"
      ],
      "text/plain": [
       "<IPython.core.display.HTML object>"
      ]
     },
     "metadata": {},
     "output_type": "display_data"
    },
    {
     "data": {
      "text/plain": [
       "trait\n",
       "20459-General_happiness_with_own_health    0.576653\n",
       "Name: value, dtype: float64"
      ]
     },
     "metadata": {},
     "output_type": "display_data"
    },
    {
     "data": {
      "text/html": [
       "<h2>Diseases (ICD10 main)</h2>"
      ],
      "text/plain": [
       "<IPython.core.display.HTML object>"
      ]
     },
     "metadata": {},
     "output_type": "display_data"
    },
    {
     "data": {
      "text/plain": [
       "trait\n",
       "intestinal disease AND viral disease                                                              0.532966\n",
       "F05-Diagnoses_main_ICD10_F05_Delirium_not_induced_by_alcohol_and_other_psychoactive_substances    0.536900\n",
       "cesarean section                                                                                  0.540014\n",
       "amputation                                                                                        0.553705\n",
       "disturbance of skin sensation                                                                     0.582346\n",
       "status asthmaticus                                                                                0.591925\n",
       "abnormal lung morphology                                                                          0.603077\n",
       "rheumatoid arthritis                                                                              0.658499\n",
       "Name: value, dtype: float64"
      ]
     },
     "metadata": {},
     "output_type": "display_data"
    },
    {
     "data": {
      "text/html": [
       "<h2>Diseases (infections)</h2>"
      ],
      "text/plain": [
       "<IPython.core.display.HTML object>"
      ]
     },
     "metadata": {},
     "output_type": "display_data"
    },
    {
     "data": {
      "text/plain": [
       "trait\n",
       "infectious mononucleosis AND epstein-barr virus infection    0.565130\n",
       "sepsis                                                       0.583204\n",
       "Name: value, dtype: float64"
      ]
     },
     "metadata": {},
     "output_type": "display_data"
    },
    {
     "data": {
      "text/html": [
       "<h2>Medications</h2>"
      ],
      "text/plain": [
       "<IPython.core.display.HTML object>"
      ]
     },
     "metadata": {},
     "output_type": "display_data"
    },
    {
     "data": {
      "text/plain": [
       "trait\n",
       "20003_1140923336-Treatmentmedication_code_cotenidone                     0.531951\n",
       "20003_1140877826-Treatmentmedication_code_sodium_bicarbonate             0.537057\n",
       "20003_1141152590-Treatmentmedication_code_glimepiride                    0.554287\n",
       "20003_1140910512-Treatmentmedication_code_ismo_isosorbide_mononitrate    0.585250\n",
       "20003_1141184726-Treatmentmedication_code_xalacom_000505_eye_drops       0.588410\n",
       "20003_1140867444-Treatmentmedication_code_risperidone                    0.610184\n",
       "20003_1140910640-Treatmentmedication_code_luteine                        0.611399\n",
       "Name: value, dtype: float64"
      ]
     },
     "metadata": {},
     "output_type": "display_data"
    },
    {
     "data": {
      "text/html": [
       "<h2>Family history</h2>"
      ],
      "text/plain": [
       "<IPython.core.display.HTML object>"
      ]
     },
     "metadata": {},
     "output_type": "display_data"
    },
    {
     "data": {
      "text/plain": [
       "trait\n",
       "20111_4-Illnesses_of_siblings_Bowel_cancer                           0.544432\n",
       "20114_101-Illnesses_of_adopted_siblings_None_of_the_above_group_2    0.555426\n",
       "20114_9-Illnesses_of_adopted_siblings_Diabetes                       0.570010\n",
       "20110_11-Illnesses_of_mother_Parkinsons_disease                      0.585634\n",
       "Name: value, dtype: float64"
      ]
     },
     "metadata": {},
     "output_type": "display_data"
    },
    {
     "data": {
      "text/html": [
       "<h2>Eyesight</h2>"
      ],
      "text/plain": [
       "<IPython.core.display.HTML object>"
      ]
     },
     "metadata": {},
     "output_type": "display_data"
    },
    {
     "data": {
      "text/plain": [
       "trait\n",
       "2207-Wears_glasses_or_contact_lenses                                                                            0.533950\n",
       "6147_7-Reason_for_glassescontact_lenses_Other_eye_condition                                                     0.539865\n",
       "2217_raw-Age_started_wearing_glasses_or_contact_lenses                                                          0.555670\n",
       "6147_3-Reason_for_glassescontact_lenses_For_just_readingnear_work_as_you_are_getting_older_called_presbyopia    0.625772\n",
       "Name: value, dtype: float64"
      ]
     },
     "metadata": {},
     "output_type": "display_data"
    },
    {
     "data": {
      "text/html": [
       "<h2>Blood</h2>"
      ],
      "text/plain": [
       "<IPython.core.display.HTML object>"
      ]
     },
     "metadata": {},
     "output_type": "display_data"
    },
    {
     "data": {
      "text/plain": [
       "trait\n",
       "monocyte count    0.557767\n",
       "Name: value, dtype: float64"
      ]
     },
     "metadata": {},
     "output_type": "display_data"
    },
    {
     "data": {
      "text/html": [
       "<h2>Diseases (musculoskeletal/trauma)</h2>"
      ],
      "text/plain": [
       "<IPython.core.display.HTML object>"
      ]
     },
     "metadata": {},
     "output_type": "display_data"
    },
    {
     "data": {
      "text/plain": [
       "trait\n",
       "tibia fracture    0.556415\n",
       "Name: value, dtype: float64"
      ]
     },
     "metadata": {},
     "output_type": "display_data"
    },
    {
     "data": {
      "text/html": [
       "<h2>Diseases (FinnGen)</h2>"
      ],
      "text/plain": [
       "<IPython.core.display.HTML object>"
      ]
     },
     "metadata": {},
     "output_type": "display_data"
    },
    {
     "data": {
      "text/plain": [
       "trait\n",
       "C3_ENDOCRINE-Malignant_neoplasm_of_endocrine_gland               0.533240\n",
       "C_ENDOCRINE                                                      0.533240\n",
       "I9_DVTANDPULM-DVT_of_lower_extremities_and_pulmonary_embolism    0.533798\n",
       "ASTHMA_HOSPITAL1-Asthma_hospital_admissions_1                    0.534542\n",
       "ASTHMA_CHILD-Childhood_asthma_age16                              0.539645\n",
       "J10_ASTHMA-Asthma                                                0.539645\n",
       "AB1_OTHER_BACTERIAL-Other_bacterial_diseases                     0.586519\n",
       "ASTHMA_MODE-Asthma_mode                                          0.591925\n",
       "M13_PREPATELLARBURSITIS-Prepatellar_bursitis                     0.605622\n",
       "Name: value, dtype: float64"
      ]
     },
     "metadata": {},
     "output_type": "display_data"
    },
    {
     "data": {
      "text/html": [
       "<h2>Cereal yesterday</h2>"
      ],
      "text/plain": [
       "<IPython.core.display.HTML object>"
      ]
     },
     "metadata": {},
     "output_type": "display_data"
    },
    {
     "data": {
      "text/plain": [
       "trait\n",
       "100760-Breakfast_cereal_consumed    0.541244\n",
       "100890-Milk_added_to_cereal         0.561824\n",
       "Name: value, dtype: float64"
      ]
     },
     "metadata": {},
     "output_type": "display_data"
    },
    {
     "data": {
      "text/html": [
       "<h2>Impedance measures</h2>"
      ],
      "text/plain": [
       "<IPython.core.display.HTML object>"
      ]
     },
     "metadata": {},
     "output_type": "display_data"
    },
    {
     "data": {
      "text/plain": [
       "trait\n",
       "23121_raw-Arm_fatfree_mass_right    0.529099\n",
       "23130_raw-Trunk_predicted_mass      0.558097\n",
       "23129_raw-Trunk_fatfree_mass        0.564248\n",
       "Name: value, dtype: float64"
      ]
     },
     "metadata": {},
     "output_type": "display_data"
    },
    {
     "data": {
      "text/html": [
       "<h2>Alcoholic beverages yesterday</h2>"
      ],
      "text/plain": [
       "<IPython.core.display.HTML object>"
      ]
     },
     "metadata": {},
     "output_type": "display_data"
    },
    {
     "data": {
      "text/plain": [
       "trait\n",
       "100670-White_wine_intake    0.54582\n",
       "Name: value, dtype: float64"
      ]
     },
     "metadata": {},
     "output_type": "display_data"
    },
    {
     "data": {
      "text/html": [
       "<h2>Household</h2>"
      ],
      "text/plain": [
       "<IPython.core.display.HTML object>"
      ]
     },
     "metadata": {},
     "output_type": "display_data"
    },
    {
     "data": {
      "text/plain": [
       "trait\n",
       "6140_1-Heating_types_in_home_Gas_central_heating    0.531267\n",
       "Name: value, dtype: float64"
      ]
     },
     "metadata": {},
     "output_type": "display_data"
    },
    {
     "data": {
      "text/html": [
       "<h2>Autorefraction</h2>"
      ],
      "text/plain": [
       "<IPython.core.display.HTML object>"
      ]
     },
     "metadata": {},
     "output_type": "display_data"
    },
    {
     "data": {
      "text/plain": [
       "trait\n",
       "5116_raw-3mm_cylindrical_power_right    0.53012\n",
       "Name: value, dtype: float64"
      ]
     },
     "metadata": {},
     "output_type": "display_data"
    },
    {
     "data": {
      "text/html": [
       "<h2>Hot/cold beverages yesterday</h2>"
      ],
      "text/plain": [
       "<IPython.core.display.HTML object>"
      ]
     },
     "metadata": {},
     "output_type": "display_data"
    },
    {
     "data": {
      "text/plain": [
       "trait\n",
       "100170-Fizzy_drink_intake    0.527881\n",
       "Name: value, dtype: float64"
      ]
     },
     "metadata": {},
     "output_type": "display_data"
    }
   ],
   "source": [
    "for row_idx, row in top_traits_categories.iterrows():\n",
    "    category = row[\"category\"]\n",
    "    display(HTML(f\"<h2>{category}</h2>\"))\n",
    "\n",
    "    _df = (\n",
    "        top_traits[top_traits[\"category\"] == category]\n",
    "        .groupby(\"trait\")[\"value\"]\n",
    "        .mean()\n",
    "        .sort_values()\n",
    "    )\n",
    "    display(_df)"
   ]
  },
  {
   "cell_type": "code",
   "execution_count": null,
   "metadata": {
    "papermill": {
     "duration": 0.033209,
     "end_time": "2021-05-21T19:09:29.350369",
     "exception": false,
     "start_time": "2021-05-21T19:09:29.317160",
     "status": "completed"
    },
    "tags": []
   },
   "outputs": [],
   "source": []
  }
 ],
 "metadata": {
  "jupytext": {
   "cell_metadata_filter": "all,-execution,-papermill,-trusted",
   "formats": "ipynb,py//py:percent"
  },
  "kernelspec": {
   "display_name": "Python 3",
   "language": "python",
   "name": "python3"
  },
  "language_info": {
   "codemirror_mode": {
    "name": "ipython",
    "version": 3
   },
   "file_extension": ".py",
   "mimetype": "text/x-python",
   "name": "python",
   "nbconvert_exporter": "python",
   "pygments_lexer": "ipython3",
   "version": "3.8.8"
  },
  "papermill": {
   "default_parameters": {},
   "duration": 6.500433,
   "end_time": "2021-05-21T19:09:29.689571",
   "environment_variables": {},
   "exception": null,
   "input_path": "30_validation/crispr_screen/030_25-deg_genes-lvs-increase.ipynb",
   "output_path": "30_validation/crispr_screen/030_25-deg_genes-lvs-increase.run.ipynb",
   "parameters": {},
   "start_time": "2021-05-21T19:09:23.189138",
   "version": "2.2.2"
  },
  "toc-autonumbering": true
 },
 "nbformat": 4,
 "nbformat_minor": 4
}
