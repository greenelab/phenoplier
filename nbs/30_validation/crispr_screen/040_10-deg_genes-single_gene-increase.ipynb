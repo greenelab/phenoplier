{
 "cells": [
  {
   "cell_type": "markdown",
   "metadata": {
    "papermill": {
     "duration": 0.018768,
     "end_time": "2021-03-25T19:58:49.976078",
     "exception": false,
     "start_time": "2021-03-25T19:58:49.957310",
     "status": "completed"
    },
    "tags": []
   },
   "source": [
    "# Description"
   ]
  },
  {
   "cell_type": "markdown",
   "metadata": {
    "papermill": {
     "duration": 0.014006,
     "end_time": "2021-03-25T19:58:50.005484",
     "exception": false,
     "start_time": "2021-03-25T19:58:49.991478",
     "status": "completed"
    },
    "tags": []
   },
   "source": [
    "TODO"
   ]
  },
  {
   "cell_type": "markdown",
   "metadata": {
    "papermill": {
     "duration": 0.01371,
     "end_time": "2021-03-25T19:58:50.032882",
     "exception": false,
     "start_time": "2021-03-25T19:58:50.019172",
     "status": "completed"
    },
    "tags": []
   },
   "source": [
    "# Modules loading"
   ]
  },
  {
   "cell_type": "code",
   "execution_count": 1,
   "metadata": {
    "execution": {
     "iopub.execute_input": "2021-03-25T19:58:50.066505Z",
     "iopub.status.busy": "2021-03-25T19:58:50.066139Z",
     "iopub.status.idle": "2021-03-25T19:58:50.073483Z",
     "shell.execute_reply": "2021-03-25T19:58:50.073110Z"
    },
    "papermill": {
     "duration": 0.026831,
     "end_time": "2021-03-25T19:58:50.073573",
     "exception": false,
     "start_time": "2021-03-25T19:58:50.046742",
     "status": "completed"
    },
    "tags": []
   },
   "outputs": [],
   "source": [
    "%load_ext autoreload\n",
    "%autoreload 2"
   ]
  },
  {
   "cell_type": "code",
   "execution_count": 2,
   "metadata": {
    "execution": {
     "iopub.execute_input": "2021-03-25T19:58:50.105068Z",
     "iopub.status.busy": "2021-03-25T19:58:50.104645Z",
     "iopub.status.idle": "2021-03-25T19:58:50.461300Z",
     "shell.execute_reply": "2021-03-25T19:58:50.460914Z"
    },
    "papermill": {
     "duration": 0.373186,
     "end_time": "2021-03-25T19:58:50.461392",
     "exception": false,
     "start_time": "2021-03-25T19:58:50.088206",
     "status": "completed"
    },
    "tags": []
   },
   "outputs": [],
   "source": [
    "from pathlib import Path\n",
    "\n",
    "import pandas as pd\n",
    "from IPython.display import HTML\n",
    "\n",
    "from entity import Trait, Gene\n",
    "from data.cache import read_data\n",
    "import conf"
   ]
  },
  {
   "cell_type": "markdown",
   "metadata": {
    "papermill": {
     "duration": 0.014347,
     "end_time": "2021-03-25T19:58:50.491095",
     "exception": false,
     "start_time": "2021-03-25T19:58:50.476748",
     "status": "completed"
    },
    "tags": []
   },
   "source": [
    "# Settings"
   ]
  },
  {
   "cell_type": "code",
   "execution_count": 3,
   "metadata": {
    "execution": {
     "iopub.execute_input": "2021-03-25T19:58:50.521350Z",
     "iopub.status.busy": "2021-03-25T19:58:50.520989Z",
     "iopub.status.idle": "2021-03-25T19:58:50.528218Z",
     "shell.execute_reply": "2021-03-25T19:58:50.527857Z"
    },
    "papermill": {
     "duration": 0.023311,
     "end_time": "2021-03-25T19:58:50.528296",
     "exception": false,
     "start_time": "2021-03-25T19:58:50.504985",
     "status": "completed"
    },
    "tags": []
   },
   "outputs": [],
   "source": [
    "EXPERIMENT_NAME = \"single_gene\"\n",
    "\n",
    "LIPIDS_GENE_SET = \"gene_set_increase\"\n",
    "LIPIDS_GENE_SET_QUERY = \"(rank == 3) | (rank == 2)\""
   ]
  },
  {
   "cell_type": "code",
   "execution_count": 4,
   "metadata": {
    "execution": {
     "iopub.execute_input": "2021-03-25T19:58:50.559377Z",
     "iopub.status.busy": "2021-03-25T19:58:50.559018Z",
     "iopub.status.idle": "2021-03-25T19:58:50.570751Z",
     "shell.execute_reply": "2021-03-25T19:58:50.570447Z"
    },
    "papermill": {
     "duration": 0.028063,
     "end_time": "2021-03-25T19:58:50.570835",
     "exception": false,
     "start_time": "2021-03-25T19:58:50.542772",
     "status": "completed"
    },
    "tags": []
   },
   "outputs": [
    {
     "data": {
      "text/plain": [
       "PosixPath('/home/miltondp/projects/labs/greenelab/phenoplier/base/results/crispr_analyses/single_gene-gene_set_increase')"
      ]
     },
     "metadata": {},
     "output_type": "display_data"
    }
   ],
   "source": [
    "OUTPUT_DIR = Path(\n",
    "    conf.RESULTS[\"CRISPR_ANALYSES\"][\"BASE_DIR\"], f\"{EXPERIMENT_NAME}-{LIPIDS_GENE_SET}\"\n",
    ")\n",
    "OUTPUT_DIR.mkdir(exist_ok=True, parents=True)\n",
    "display(OUTPUT_DIR)"
   ]
  },
  {
   "cell_type": "markdown",
   "metadata": {
    "papermill": {
     "duration": 0.014856,
     "end_time": "2021-03-25T19:58:50.600881",
     "exception": false,
     "start_time": "2021-03-25T19:58:50.586025",
     "status": "completed"
    },
    "tags": []
   },
   "source": [
    "# Data loading"
   ]
  },
  {
   "cell_type": "markdown",
   "metadata": {
    "papermill": {
     "duration": 0.013966,
     "end_time": "2021-03-25T19:58:50.629048",
     "exception": false,
     "start_time": "2021-03-25T19:58:50.615082",
     "status": "completed"
    },
    "tags": []
   },
   "source": [
    "## S-MultiXcan results"
   ]
  },
  {
   "cell_type": "markdown",
   "metadata": {
    "papermill": {
     "duration": 0.014311,
     "end_time": "2021-03-25T19:58:50.657460",
     "exception": false,
     "start_time": "2021-03-25T19:58:50.643149",
     "status": "completed"
    },
    "tags": []
   },
   "source": [
    "### Load"
   ]
  },
  {
   "cell_type": "code",
   "execution_count": 5,
   "metadata": {
    "execution": {
     "iopub.execute_input": "2021-03-25T19:58:50.688230Z",
     "iopub.status.busy": "2021-03-25T19:58:50.687873Z",
     "iopub.status.idle": "2021-03-25T19:58:50.695847Z",
     "shell.execute_reply": "2021-03-25T19:58:50.695482Z"
    },
    "papermill": {
     "duration": 0.024303,
     "end_time": "2021-03-25T19:58:50.695926",
     "exception": false,
     "start_time": "2021-03-25T19:58:50.671623",
     "status": "completed"
    },
    "tags": []
   },
   "outputs": [
    {
     "data": {
      "text/plain": [
       "PosixPath('/home/miltondp/projects/labs/greenelab/phenoplier/base/data/phenomexcan/gene_assoc/smultixcan-efo_partial-mashr-zscores.pkl')"
      ]
     },
     "metadata": {},
     "output_type": "display_data"
    }
   ],
   "source": [
    "smultixcan_results_filename = conf.PHENOMEXCAN[\n",
    "    \"SMULTIXCAN_EFO_PARTIAL_MASHR_ZSCORES_FILE\"\n",
    "]\n",
    "\n",
    "display(smultixcan_results_filename)"
   ]
  },
  {
   "cell_type": "code",
   "execution_count": 6,
   "metadata": {
    "execution": {
     "iopub.execute_input": "2021-03-25T19:58:50.728125Z",
     "iopub.status.busy": "2021-03-25T19:58:50.727766Z",
     "iopub.status.idle": "2021-03-25T19:58:50.995873Z",
     "shell.execute_reply": "2021-03-25T19:58:50.995487Z"
    },
    "papermill": {
     "duration": 0.284776,
     "end_time": "2021-03-25T19:58:50.995978",
     "exception": false,
     "start_time": "2021-03-25T19:58:50.711202",
     "status": "completed"
    },
    "tags": []
   },
   "outputs": [],
   "source": [
    "smultixcan_results = pd.read_pickle(smultixcan_results_filename)"
   ]
  },
  {
   "cell_type": "markdown",
   "metadata": {
    "papermill": {
     "duration": 0.017999,
     "end_time": "2021-03-25T19:58:51.032468",
     "exception": false,
     "start_time": "2021-03-25T19:58:51.014469",
     "status": "completed"
    },
    "tags": []
   },
   "source": [
    "### Rename genes and remove repeated ones"
   ]
  },
  {
   "cell_type": "code",
   "execution_count": 7,
   "metadata": {
    "execution": {
     "iopub.execute_input": "2021-03-25T19:58:51.065845Z",
     "iopub.status.busy": "2021-03-25T19:58:51.065486Z",
     "iopub.status.idle": "2021-03-25T19:58:51.241594Z",
     "shell.execute_reply": "2021-03-25T19:58:51.241223Z"
    },
    "papermill": {
     "duration": 0.193154,
     "end_time": "2021-03-25T19:58:51.241695",
     "exception": false,
     "start_time": "2021-03-25T19:58:51.048541",
     "status": "completed"
    },
    "tags": []
   },
   "outputs": [],
   "source": [
    "smultixcan_results = smultixcan_results.rename(index=Gene.GENE_ID_TO_NAME_MAP)"
   ]
  },
  {
   "cell_type": "code",
   "execution_count": 8,
   "metadata": {
    "execution": {
     "iopub.execute_input": "2021-03-25T19:58:51.278289Z",
     "iopub.status.busy": "2021-03-25T19:58:51.277888Z",
     "iopub.status.idle": "2021-03-25T19:58:51.289928Z",
     "shell.execute_reply": "2021-03-25T19:58:51.289543Z"
    },
    "papermill": {
     "duration": 0.031119,
     "end_time": "2021-03-25T19:58:51.290021",
     "exception": false,
     "start_time": "2021-03-25T19:58:51.258902",
     "status": "completed"
    },
    "tags": []
   },
   "outputs": [
    {
     "data": {
      "text/plain": [
       "Index(['SPATA13', 'LINC01422', 'LINC00484', 'MAL2', 'GOLGA8M', 'LINC01115',\n",
       "       'LYNX1'],\n",
       "      dtype='object', name='gene_name')"
      ]
     },
     "execution_count": 8,
     "metadata": {},
     "output_type": "execute_result"
    }
   ],
   "source": [
    "smultixcan_results.index[smultixcan_results.index.duplicated(keep=\"first\")]"
   ]
  },
  {
   "cell_type": "code",
   "execution_count": 9,
   "metadata": {
    "execution": {
     "iopub.execute_input": "2021-03-25T19:58:51.327327Z",
     "iopub.status.busy": "2021-03-25T19:58:51.326957Z",
     "iopub.status.idle": "2021-03-25T19:58:51.522187Z",
     "shell.execute_reply": "2021-03-25T19:58:51.521854Z"
    },
    "papermill": {
     "duration": 0.214724,
     "end_time": "2021-03-25T19:58:51.522278",
     "exception": false,
     "start_time": "2021-03-25T19:58:51.307554",
     "status": "completed"
    },
    "tags": []
   },
   "outputs": [],
   "source": [
    "smultixcan_results = smultixcan_results.loc[\n",
    "    ~smultixcan_results.index.duplicated(keep=\"first\")\n",
    "]"
   ]
  },
  {
   "cell_type": "code",
   "execution_count": 10,
   "metadata": {
    "execution": {
     "iopub.execute_input": "2021-03-25T19:58:51.555167Z",
     "iopub.status.busy": "2021-03-25T19:58:51.554808Z",
     "iopub.status.idle": "2021-03-25T19:58:51.562989Z",
     "shell.execute_reply": "2021-03-25T19:58:51.562632Z"
    },
    "papermill": {
     "duration": 0.02508,
     "end_time": "2021-03-25T19:58:51.563067",
     "exception": false,
     "start_time": "2021-03-25T19:58:51.537987",
     "status": "completed"
    },
    "tags": []
   },
   "outputs": [
    {
     "data": {
      "text/plain": [
       "(22508, 3752)"
      ]
     },
     "execution_count": 10,
     "metadata": {},
     "output_type": "execute_result"
    }
   ],
   "source": [
    "smultixcan_results.shape"
   ]
  },
  {
   "cell_type": "code",
   "execution_count": 11,
   "metadata": {
    "execution": {
     "iopub.execute_input": "2021-03-25T19:58:51.595871Z",
     "iopub.status.busy": "2021-03-25T19:58:51.595516Z",
     "iopub.status.idle": "2021-03-25T19:58:51.616017Z",
     "shell.execute_reply": "2021-03-25T19:58:51.615698Z"
    },
    "papermill": {
     "duration": 0.037733,
     "end_time": "2021-03-25T19:58:51.616101",
     "exception": false,
     "start_time": "2021-03-25T19:58:51.578368",
     "status": "completed"
    },
    "tags": []
   },
   "outputs": [
    {
     "data": {
      "text/html": [
       "<div>\n",
       "<style scoped>\n",
       "    .dataframe tbody tr th:only-of-type {\n",
       "        vertical-align: middle;\n",
       "    }\n",
       "\n",
       "    .dataframe tbody tr th {\n",
       "        vertical-align: top;\n",
       "    }\n",
       "\n",
       "    .dataframe thead th {\n",
       "        text-align: right;\n",
       "    }\n",
       "</style>\n",
       "<table border=\"1\" class=\"dataframe\">\n",
       "  <thead>\n",
       "    <tr style=\"text-align: right;\">\n",
       "      <th></th>\n",
       "      <th>100001_raw-Food_weight</th>\n",
       "      <th>100002_raw-Energy</th>\n",
       "      <th>100003_raw-Protein</th>\n",
       "      <th>100004_raw-Fat</th>\n",
       "      <th>100005_raw-Carbohydrate</th>\n",
       "      <th>100006_raw-Saturated_fat</th>\n",
       "      <th>100007_raw-Polyunsaturated_fat</th>\n",
       "      <th>100008_raw-Total_sugars</th>\n",
       "      <th>100009_raw-Englyst_dietary_fibre</th>\n",
       "      <th>100010-Portion_size</th>\n",
       "      <th>...</th>\n",
       "      <th>visual impairment</th>\n",
       "      <th>vitiligo</th>\n",
       "      <th>vitreous body disease</th>\n",
       "      <th>vocal cord polyp</th>\n",
       "      <th>voice disorders</th>\n",
       "      <th>wellbeing measurement AND family relationship</th>\n",
       "      <th>wheezing</th>\n",
       "      <th>whooping cough</th>\n",
       "      <th>worry measurement</th>\n",
       "      <th>wrist fracture</th>\n",
       "    </tr>\n",
       "    <tr>\n",
       "      <th>gene_name</th>\n",
       "      <th></th>\n",
       "      <th></th>\n",
       "      <th></th>\n",
       "      <th></th>\n",
       "      <th></th>\n",
       "      <th></th>\n",
       "      <th></th>\n",
       "      <th></th>\n",
       "      <th></th>\n",
       "      <th></th>\n",
       "      <th></th>\n",
       "      <th></th>\n",
       "      <th></th>\n",
       "      <th></th>\n",
       "      <th></th>\n",
       "      <th></th>\n",
       "      <th></th>\n",
       "      <th></th>\n",
       "      <th></th>\n",
       "      <th></th>\n",
       "      <th></th>\n",
       "    </tr>\n",
       "  </thead>\n",
       "  <tbody>\n",
       "    <tr>\n",
       "      <th>DPM1</th>\n",
       "      <td>1.145442</td>\n",
       "      <td>0.724557</td>\n",
       "      <td>0.090876</td>\n",
       "      <td>0.298165</td>\n",
       "      <td>1.134347</td>\n",
       "      <td>1.371138</td>\n",
       "      <td>0.065718</td>\n",
       "      <td>0.794317</td>\n",
       "      <td>0.600342</td>\n",
       "      <td>0.317652</td>\n",
       "      <td>...</td>\n",
       "      <td>0.360518</td>\n",
       "      <td>1.351624</td>\n",
       "      <td>1.157695</td>\n",
       "      <td>0.835289</td>\n",
       "      <td>1.173072</td>\n",
       "      <td>1.337280</td>\n",
       "      <td>1.743822</td>\n",
       "      <td>1.017226</td>\n",
       "      <td>1.512184</td>\n",
       "      <td>0.972241</td>\n",
       "    </tr>\n",
       "    <tr>\n",
       "      <th>SCYL3</th>\n",
       "      <td>0.618066</td>\n",
       "      <td>1.028131</td>\n",
       "      <td>2.218420</td>\n",
       "      <td>0.762584</td>\n",
       "      <td>0.934418</td>\n",
       "      <td>0.192993</td>\n",
       "      <td>1.080230</td>\n",
       "      <td>0.765997</td>\n",
       "      <td>0.375898</td>\n",
       "      <td>0.678731</td>\n",
       "      <td>...</td>\n",
       "      <td>2.134504</td>\n",
       "      <td>0.127830</td>\n",
       "      <td>0.534690</td>\n",
       "      <td>0.120516</td>\n",
       "      <td>0.517464</td>\n",
       "      <td>2.545363</td>\n",
       "      <td>0.673331</td>\n",
       "      <td>2.003092</td>\n",
       "      <td>0.344000</td>\n",
       "      <td>2.033122</td>\n",
       "    </tr>\n",
       "    <tr>\n",
       "      <th>C1orf112</th>\n",
       "      <td>0.515724</td>\n",
       "      <td>0.403596</td>\n",
       "      <td>1.251359</td>\n",
       "      <td>0.433091</td>\n",
       "      <td>0.413466</td>\n",
       "      <td>0.246261</td>\n",
       "      <td>1.236151</td>\n",
       "      <td>0.827430</td>\n",
       "      <td>0.571985</td>\n",
       "      <td>0.782174</td>\n",
       "      <td>...</td>\n",
       "      <td>1.768905</td>\n",
       "      <td>0.992408</td>\n",
       "      <td>0.548215</td>\n",
       "      <td>0.412341</td>\n",
       "      <td>1.499415</td>\n",
       "      <td>1.366780</td>\n",
       "      <td>0.443318</td>\n",
       "      <td>0.417630</td>\n",
       "      <td>0.225934</td>\n",
       "      <td>1.613246</td>\n",
       "    </tr>\n",
       "    <tr>\n",
       "      <th>FGR</th>\n",
       "      <td>0.280781</td>\n",
       "      <td>0.253910</td>\n",
       "      <td>0.879148</td>\n",
       "      <td>0.352705</td>\n",
       "      <td>0.051846</td>\n",
       "      <td>0.184212</td>\n",
       "      <td>0.148566</td>\n",
       "      <td>0.009989</td>\n",
       "      <td>0.363751</td>\n",
       "      <td>0.374514</td>\n",
       "      <td>...</td>\n",
       "      <td>0.656552</td>\n",
       "      <td>2.046041</td>\n",
       "      <td>2.746832</td>\n",
       "      <td>0.108211</td>\n",
       "      <td>1.008258</td>\n",
       "      <td>0.755695</td>\n",
       "      <td>0.896228</td>\n",
       "      <td>0.875047</td>\n",
       "      <td>0.476405</td>\n",
       "      <td>1.693057</td>\n",
       "    </tr>\n",
       "    <tr>\n",
       "      <th>CFH</th>\n",
       "      <td>0.548127</td>\n",
       "      <td>0.389877</td>\n",
       "      <td>0.723469</td>\n",
       "      <td>1.167250</td>\n",
       "      <td>0.315952</td>\n",
       "      <td>0.324939</td>\n",
       "      <td>1.613932</td>\n",
       "      <td>0.311432</td>\n",
       "      <td>0.333548</td>\n",
       "      <td>1.807243</td>\n",
       "      <td>...</td>\n",
       "      <td>0.260482</td>\n",
       "      <td>0.646204</td>\n",
       "      <td>1.080240</td>\n",
       "      <td>0.678330</td>\n",
       "      <td>1.465358</td>\n",
       "      <td>0.307672</td>\n",
       "      <td>0.118376</td>\n",
       "      <td>1.419812</td>\n",
       "      <td>0.000002</td>\n",
       "      <td>1.040737</td>\n",
       "    </tr>\n",
       "  </tbody>\n",
       "</table>\n",
       "<p>5 rows × 3752 columns</p>\n",
       "</div>"
      ],
      "text/plain": [
       "           100001_raw-Food_weight  100002_raw-Energy  100003_raw-Protein  \\\n",
       "gene_name                                                                  \n",
       "DPM1                     1.145442           0.724557            0.090876   \n",
       "SCYL3                    0.618066           1.028131            2.218420   \n",
       "C1orf112                 0.515724           0.403596            1.251359   \n",
       "FGR                      0.280781           0.253910            0.879148   \n",
       "CFH                      0.548127           0.389877            0.723469   \n",
       "\n",
       "           100004_raw-Fat  100005_raw-Carbohydrate  100006_raw-Saturated_fat  \\\n",
       "gene_name                                                                      \n",
       "DPM1             0.298165                 1.134347                  1.371138   \n",
       "SCYL3            0.762584                 0.934418                  0.192993   \n",
       "C1orf112         0.433091                 0.413466                  0.246261   \n",
       "FGR              0.352705                 0.051846                  0.184212   \n",
       "CFH              1.167250                 0.315952                  0.324939   \n",
       "\n",
       "           100007_raw-Polyunsaturated_fat  100008_raw-Total_sugars  \\\n",
       "gene_name                                                            \n",
       "DPM1                             0.065718                 0.794317   \n",
       "SCYL3                            1.080230                 0.765997   \n",
       "C1orf112                         1.236151                 0.827430   \n",
       "FGR                              0.148566                 0.009989   \n",
       "CFH                              1.613932                 0.311432   \n",
       "\n",
       "           100009_raw-Englyst_dietary_fibre  100010-Portion_size  ...  \\\n",
       "gene_name                                                         ...   \n",
       "DPM1                               0.600342             0.317652  ...   \n",
       "SCYL3                              0.375898             0.678731  ...   \n",
       "C1orf112                           0.571985             0.782174  ...   \n",
       "FGR                                0.363751             0.374514  ...   \n",
       "CFH                                0.333548             1.807243  ...   \n",
       "\n",
       "           visual impairment  vitiligo  vitreous body disease  \\\n",
       "gene_name                                                       \n",
       "DPM1                0.360518  1.351624               1.157695   \n",
       "SCYL3               2.134504  0.127830               0.534690   \n",
       "C1orf112            1.768905  0.992408               0.548215   \n",
       "FGR                 0.656552  2.046041               2.746832   \n",
       "CFH                 0.260482  0.646204               1.080240   \n",
       "\n",
       "           vocal cord polyp  voice disorders  \\\n",
       "gene_name                                      \n",
       "DPM1               0.835289         1.173072   \n",
       "SCYL3              0.120516         0.517464   \n",
       "C1orf112           0.412341         1.499415   \n",
       "FGR                0.108211         1.008258   \n",
       "CFH                0.678330         1.465358   \n",
       "\n",
       "           wellbeing measurement AND family relationship  wheezing  \\\n",
       "gene_name                                                            \n",
       "DPM1                                            1.337280  1.743822   \n",
       "SCYL3                                           2.545363  0.673331   \n",
       "C1orf112                                        1.366780  0.443318   \n",
       "FGR                                             0.755695  0.896228   \n",
       "CFH                                             0.307672  0.118376   \n",
       "\n",
       "           whooping cough  worry measurement  wrist fracture  \n",
       "gene_name                                                     \n",
       "DPM1             1.017226           1.512184        0.972241  \n",
       "SCYL3            2.003092           0.344000        2.033122  \n",
       "C1orf112         0.417630           0.225934        1.613246  \n",
       "FGR              0.875047           0.476405        1.693057  \n",
       "CFH              1.419812           0.000002        1.040737  \n",
       "\n",
       "[5 rows x 3752 columns]"
      ]
     },
     "execution_count": 11,
     "metadata": {},
     "output_type": "execute_result"
    }
   ],
   "source": [
    "smultixcan_results.head()"
   ]
  },
  {
   "cell_type": "markdown",
   "metadata": {
    "papermill": {
     "duration": 0.016212,
     "end_time": "2021-03-25T19:58:51.648770",
     "exception": false,
     "start_time": "2021-03-25T19:58:51.632558",
     "status": "completed"
    },
    "tags": []
   },
   "source": [
    "### Standardize by trait"
   ]
  },
  {
   "cell_type": "code",
   "execution_count": 12,
   "metadata": {
    "execution": {
     "iopub.execute_input": "2021-03-25T19:58:51.682682Z",
     "iopub.status.busy": "2021-03-25T19:58:51.682328Z",
     "iopub.status.idle": "2021-03-25T19:58:52.994045Z",
     "shell.execute_reply": "2021-03-25T19:58:52.993636Z"
    },
    "papermill": {
     "duration": 1.329585,
     "end_time": "2021-03-25T19:58:52.994147",
     "exception": false,
     "start_time": "2021-03-25T19:58:51.664562",
     "status": "completed"
    },
    "tags": []
   },
   "outputs": [],
   "source": [
    "_tmp = smultixcan_results.apply(lambda x: x / x.sum())"
   ]
  },
  {
   "cell_type": "code",
   "execution_count": 13,
   "metadata": {
    "execution": {
     "iopub.execute_input": "2021-03-25T19:58:53.036996Z",
     "iopub.status.busy": "2021-03-25T19:58:53.036561Z",
     "iopub.status.idle": "2021-03-25T19:58:53.045394Z",
     "shell.execute_reply": "2021-03-25T19:58:53.045022Z"
    },
    "papermill": {
     "duration": 0.031037,
     "end_time": "2021-03-25T19:58:53.045488",
     "exception": false,
     "start_time": "2021-03-25T19:58:53.014451",
     "status": "completed"
    },
    "tags": []
   },
   "outputs": [
    {
     "data": {
      "text/plain": [
       "(22508, 3752)"
      ]
     },
     "execution_count": 13,
     "metadata": {},
     "output_type": "execute_result"
    }
   ],
   "source": [
    "_tmp.shape"
   ]
  },
  {
   "cell_type": "code",
   "execution_count": 14,
   "metadata": {
    "execution": {
     "iopub.execute_input": "2021-03-25T19:58:53.082638Z",
     "iopub.status.busy": "2021-03-25T19:58:53.082270Z",
     "iopub.status.idle": "2021-03-25T19:58:53.088589Z",
     "shell.execute_reply": "2021-03-25T19:58:53.088903Z"
    },
    "papermill": {
     "duration": 0.025207,
     "end_time": "2021-03-25T19:58:53.089005",
     "exception": false,
     "start_time": "2021-03-25T19:58:53.063798",
     "status": "completed"
    },
    "tags": []
   },
   "outputs": [],
   "source": [
    "assert _tmp.shape == smultixcan_results.shape"
   ]
  },
  {
   "cell_type": "code",
   "execution_count": 15,
   "metadata": {
    "execution": {
     "iopub.execute_input": "2021-03-25T19:58:53.126162Z",
     "iopub.status.busy": "2021-03-25T19:58:53.125794Z",
     "iopub.status.idle": "2021-03-25T19:58:53.135150Z",
     "shell.execute_reply": "2021-03-25T19:58:53.135436Z"
    },
    "papermill": {
     "duration": 0.02978,
     "end_time": "2021-03-25T19:58:53.135543",
     "exception": false,
     "start_time": "2021-03-25T19:58:53.105763",
     "status": "completed"
    },
    "tags": []
   },
   "outputs": [],
   "source": [
    "# some testing\n",
    "_trait = \"body height\"\n",
    "_gene = \"SCYL3\"\n",
    "assert (\n",
    "    _tmp.loc[_gene, _trait]\n",
    "    == smultixcan_results.loc[_gene, _trait] / smultixcan_results[_trait].sum()\n",
    ")\n",
    "\n",
    "_trait = \"100001_raw-Food_weight\"\n",
    "_gene = \"DPM1\"\n",
    "assert (\n",
    "    _tmp.loc[_gene, _trait]\n",
    "    == smultixcan_results.loc[_gene, _trait] / smultixcan_results[_trait].sum()\n",
    ")\n",
    "\n",
    "_trait = \"estrogen-receptor negative breast cancer\"\n",
    "_gene = \"CFH\"\n",
    "assert (\n",
    "    _tmp.loc[_gene, _trait]\n",
    "    == smultixcan_results.loc[_gene, _trait] / smultixcan_results[_trait].sum()\n",
    ")\n",
    "\n",
    "_trait = \"asthma\"\n",
    "_gene = \"C1orf112\"\n",
    "assert (\n",
    "    _tmp.loc[_gene, _trait]\n",
    "    == smultixcan_results.loc[_gene, _trait] / smultixcan_results[_trait].sum()\n",
    ")"
   ]
  },
  {
   "cell_type": "code",
   "execution_count": 16,
   "metadata": {
    "execution": {
     "iopub.execute_input": "2021-03-25T19:58:53.172223Z",
     "iopub.status.busy": "2021-03-25T19:58:53.171854Z",
     "iopub.status.idle": "2021-03-25T19:58:53.178682Z",
     "shell.execute_reply": "2021-03-25T19:58:53.178993Z"
    },
    "papermill": {
     "duration": 0.026201,
     "end_time": "2021-03-25T19:58:53.179092",
     "exception": false,
     "start_time": "2021-03-25T19:58:53.152891",
     "status": "completed"
    },
    "tags": []
   },
   "outputs": [],
   "source": [
    "smultixcan_results = _tmp"
   ]
  },
  {
   "cell_type": "markdown",
   "metadata": {
    "papermill": {
     "duration": 0.01584,
     "end_time": "2021-03-25T19:58:53.211627",
     "exception": false,
     "start_time": "2021-03-25T19:58:53.195787",
     "status": "completed"
    },
    "tags": []
   },
   "source": [
    "## Differentially expressed genes"
   ]
  },
  {
   "cell_type": "markdown",
   "metadata": {
    "papermill": {
     "duration": 0.015581,
     "end_time": "2021-03-25T19:58:53.243151",
     "exception": false,
     "start_time": "2021-03-25T19:58:53.227570",
     "status": "completed"
    },
    "tags": []
   },
   "source": [
    "### Load"
   ]
  },
  {
   "cell_type": "code",
   "execution_count": 17,
   "metadata": {
    "execution": {
     "iopub.execute_input": "2021-03-25T19:58:53.277179Z",
     "iopub.status.busy": "2021-03-25T19:58:53.276794Z",
     "iopub.status.idle": "2021-03-25T19:58:53.285174Z",
     "shell.execute_reply": "2021-03-25T19:58:53.284806Z"
    },
    "papermill": {
     "duration": 0.026369,
     "end_time": "2021-03-25T19:58:53.285256",
     "exception": false,
     "start_time": "2021-03-25T19:58:53.258887",
     "status": "completed"
    },
    "tags": []
   },
   "outputs": [
    {
     "data": {
      "text/plain": [
       "PosixPath('/home/miltondp/projects/labs/greenelab/phenoplier/base/data/crispr_screen/lipid_DEG.csv')"
      ]
     },
     "metadata": {},
     "output_type": "display_data"
    }
   ],
   "source": [
    "input_filepath = Path(conf.CRISPR[\"BASE_DIR\"], \"lipid_DEG.csv\")\n",
    "display(input_filepath)"
   ]
  },
  {
   "cell_type": "code",
   "execution_count": 18,
   "metadata": {
    "execution": {
     "iopub.execute_input": "2021-03-25T19:58:53.320580Z",
     "iopub.status.busy": "2021-03-25T19:58:53.320224Z",
     "iopub.status.idle": "2021-03-25T19:58:53.329483Z",
     "shell.execute_reply": "2021-03-25T19:58:53.329101Z"
    },
    "papermill": {
     "duration": 0.027828,
     "end_time": "2021-03-25T19:58:53.329579",
     "exception": false,
     "start_time": "2021-03-25T19:58:53.301751",
     "status": "completed"
    },
    "tags": []
   },
   "outputs": [],
   "source": [
    "deg_genes = pd.read_csv(input_filepath)"
   ]
  },
  {
   "cell_type": "code",
   "execution_count": 19,
   "metadata": {
    "execution": {
     "iopub.execute_input": "2021-03-25T19:58:53.365481Z",
     "iopub.status.busy": "2021-03-25T19:58:53.365125Z",
     "iopub.status.idle": "2021-03-25T19:58:53.372963Z",
     "shell.execute_reply": "2021-03-25T19:58:53.372534Z"
    },
    "papermill": {
     "duration": 0.026463,
     "end_time": "2021-03-25T19:58:53.373046",
     "exception": false,
     "start_time": "2021-03-25T19:58:53.346583",
     "status": "completed"
    },
    "tags": []
   },
   "outputs": [
    {
     "data": {
      "text/plain": [
       "(462, 12)"
      ]
     },
     "execution_count": 19,
     "metadata": {},
     "output_type": "execute_result"
    }
   ],
   "source": [
    "deg_genes.shape"
   ]
  },
  {
   "cell_type": "code",
   "execution_count": 20,
   "metadata": {
    "execution": {
     "iopub.execute_input": "2021-03-25T19:58:53.409503Z",
     "iopub.status.busy": "2021-03-25T19:58:53.409140Z",
     "iopub.status.idle": "2021-03-25T19:58:53.423901Z",
     "shell.execute_reply": "2021-03-25T19:58:53.423534Z"
    },
    "papermill": {
     "duration": 0.033471,
     "end_time": "2021-03-25T19:58:53.423983",
     "exception": false,
     "start_time": "2021-03-25T19:58:53.390512",
     "status": "completed"
    },
    "tags": []
   },
   "outputs": [
    {
     "data": {
      "text/html": [
       "<div>\n",
       "<style scoped>\n",
       "    .dataframe tbody tr th:only-of-type {\n",
       "        vertical-align: middle;\n",
       "    }\n",
       "\n",
       "    .dataframe tbody tr th {\n",
       "        vertical-align: top;\n",
       "    }\n",
       "\n",
       "    .dataframe thead th {\n",
       "        text-align: right;\n",
       "    }\n",
       "</style>\n",
       "<table border=\"1\" class=\"dataframe\">\n",
       "  <thead>\n",
       "    <tr style=\"text-align: right;\">\n",
       "      <th></th>\n",
       "      <th>gene_name</th>\n",
       "      <th>GFPLow_vs_UnSorted.log2FC</th>\n",
       "      <th>GFPLow_vs_UnSorted.FDR</th>\n",
       "      <th>GFPLow_vs_UnSorted.DEG</th>\n",
       "      <th>GFPHigh_vs_UnSorted.log2FC</th>\n",
       "      <th>GFPHigh_vs_UnSorted.FDR</th>\n",
       "      <th>GFPHigh_vs_UnSorted.DEG</th>\n",
       "      <th>GFPHigh_vs_GFPLow.log2FC</th>\n",
       "      <th>GFPHigh_vs_GFPLow.FDR</th>\n",
       "      <th>GFPHigh_vs_GFPLow.DEG</th>\n",
       "      <th>lipid effect</th>\n",
       "      <th>rank</th>\n",
       "    </tr>\n",
       "  </thead>\n",
       "  <tbody>\n",
       "    <tr>\n",
       "      <th>0</th>\n",
       "      <td>ABCA2</td>\n",
       "      <td>0.558668</td>\n",
       "      <td>0.116008</td>\n",
       "      <td>False</td>\n",
       "      <td>0.784919</td>\n",
       "      <td>0.027128</td>\n",
       "      <td>True</td>\n",
       "      <td>0.226250</td>\n",
       "      <td>0.632691</td>\n",
       "      <td>False</td>\n",
       "      <td>decrease *</td>\n",
       "      <td>-1</td>\n",
       "    </tr>\n",
       "    <tr>\n",
       "      <th>1</th>\n",
       "      <td>ABCB7</td>\n",
       "      <td>0.798525</td>\n",
       "      <td>0.029220</td>\n",
       "      <td>True</td>\n",
       "      <td>-0.238342</td>\n",
       "      <td>0.790778</td>\n",
       "      <td>False</td>\n",
       "      <td>-1.036866</td>\n",
       "      <td>0.000693</td>\n",
       "      <td>True</td>\n",
       "      <td>increase **</td>\n",
       "      <td>2</td>\n",
       "    </tr>\n",
       "    <tr>\n",
       "      <th>2</th>\n",
       "      <td>ABCE1</td>\n",
       "      <td>0.684075</td>\n",
       "      <td>0.047833</td>\n",
       "      <td>True</td>\n",
       "      <td>0.044326</td>\n",
       "      <td>0.975255</td>\n",
       "      <td>False</td>\n",
       "      <td>-0.639750</td>\n",
       "      <td>0.049229</td>\n",
       "      <td>True</td>\n",
       "      <td>increase **</td>\n",
       "      <td>2</td>\n",
       "    </tr>\n",
       "    <tr>\n",
       "      <th>3</th>\n",
       "      <td>ABCG2</td>\n",
       "      <td>0.438126</td>\n",
       "      <td>0.049607</td>\n",
       "      <td>True</td>\n",
       "      <td>0.375550</td>\n",
       "      <td>0.229539</td>\n",
       "      <td>False</td>\n",
       "      <td>-0.062576</td>\n",
       "      <td>0.883678</td>\n",
       "      <td>False</td>\n",
       "      <td>increase *</td>\n",
       "      <td>1</td>\n",
       "    </tr>\n",
       "    <tr>\n",
       "      <th>4</th>\n",
       "      <td>ABHD10</td>\n",
       "      <td>-0.641405</td>\n",
       "      <td>0.009846</td>\n",
       "      <td>True</td>\n",
       "      <td>-0.241943</td>\n",
       "      <td>0.658553</td>\n",
       "      <td>False</td>\n",
       "      <td>0.399461</td>\n",
       "      <td>0.156967</td>\n",
       "      <td>False</td>\n",
       "      <td>decrease *</td>\n",
       "      <td>-1</td>\n",
       "    </tr>\n",
       "  </tbody>\n",
       "</table>\n",
       "</div>"
      ],
      "text/plain": [
       "  gene_name  GFPLow_vs_UnSorted.log2FC  GFPLow_vs_UnSorted.FDR  \\\n",
       "0     ABCA2                   0.558668                0.116008   \n",
       "1     ABCB7                   0.798525                0.029220   \n",
       "2     ABCE1                   0.684075                0.047833   \n",
       "3     ABCG2                   0.438126                0.049607   \n",
       "4    ABHD10                  -0.641405                0.009846   \n",
       "\n",
       "   GFPLow_vs_UnSorted.DEG  GFPHigh_vs_UnSorted.log2FC  \\\n",
       "0                   False                    0.784919   \n",
       "1                    True                   -0.238342   \n",
       "2                    True                    0.044326   \n",
       "3                    True                    0.375550   \n",
       "4                    True                   -0.241943   \n",
       "\n",
       "   GFPHigh_vs_UnSorted.FDR  GFPHigh_vs_UnSorted.DEG  GFPHigh_vs_GFPLow.log2FC  \\\n",
       "0                 0.027128                     True                  0.226250   \n",
       "1                 0.790778                    False                 -1.036866   \n",
       "2                 0.975255                    False                 -0.639750   \n",
       "3                 0.229539                    False                 -0.062576   \n",
       "4                 0.658553                    False                  0.399461   \n",
       "\n",
       "   GFPHigh_vs_GFPLow.FDR  GFPHigh_vs_GFPLow.DEG lipid effect  rank  \n",
       "0               0.632691                  False   decrease *    -1  \n",
       "1               0.000693                   True  increase **     2  \n",
       "2               0.049229                   True  increase **     2  \n",
       "3               0.883678                  False   increase *     1  \n",
       "4               0.156967                  False   decrease *    -1  "
      ]
     },
     "execution_count": 20,
     "metadata": {},
     "output_type": "execute_result"
    }
   ],
   "source": [
    "deg_genes.head()"
   ]
  },
  {
   "cell_type": "markdown",
   "metadata": {
    "papermill": {
     "duration": 0.017197,
     "end_time": "2021-03-25T19:58:53.459231",
     "exception": false,
     "start_time": "2021-03-25T19:58:53.442034",
     "status": "completed"
    },
    "tags": []
   },
   "source": [
    "### Select gene set"
   ]
  },
  {
   "cell_type": "code",
   "execution_count": 21,
   "metadata": {
    "execution": {
     "iopub.execute_input": "2021-03-25T19:58:53.495344Z",
     "iopub.status.busy": "2021-03-25T19:58:53.494988Z",
     "iopub.status.idle": "2021-03-25T19:58:53.504513Z",
     "shell.execute_reply": "2021-03-25T19:58:53.504135Z"
    },
    "papermill": {
     "duration": 0.028539,
     "end_time": "2021-03-25T19:58:53.504609",
     "exception": false,
     "start_time": "2021-03-25T19:58:53.476070",
     "status": "completed"
    },
    "tags": []
   },
   "outputs": [],
   "source": [
    "df = deg_genes.query(LIPIDS_GENE_SET_QUERY)"
   ]
  },
  {
   "cell_type": "code",
   "execution_count": 22,
   "metadata": {
    "execution": {
     "iopub.execute_input": "2021-03-25T19:58:53.542841Z",
     "iopub.status.busy": "2021-03-25T19:58:53.542474Z",
     "iopub.status.idle": "2021-03-25T19:58:53.550044Z",
     "shell.execute_reply": "2021-03-25T19:58:53.550340Z"
    },
    "papermill": {
     "duration": 0.027665,
     "end_time": "2021-03-25T19:58:53.550439",
     "exception": false,
     "start_time": "2021-03-25T19:58:53.522774",
     "status": "completed"
    },
    "tags": []
   },
   "outputs": [
    {
     "data": {
      "text/plain": [
       "(175, 12)"
      ]
     },
     "execution_count": 22,
     "metadata": {},
     "output_type": "execute_result"
    }
   ],
   "source": [
    "df.shape"
   ]
  },
  {
   "cell_type": "code",
   "execution_count": 23,
   "metadata": {
    "execution": {
     "iopub.execute_input": "2021-03-25T19:58:53.587915Z",
     "iopub.status.busy": "2021-03-25T19:58:53.587547Z",
     "iopub.status.idle": "2021-03-25T19:58:53.596649Z",
     "shell.execute_reply": "2021-03-25T19:58:53.596266Z"
    },
    "papermill": {
     "duration": 0.028601,
     "end_time": "2021-03-25T19:58:53.596741",
     "exception": false,
     "start_time": "2021-03-25T19:58:53.568140",
     "status": "completed"
    },
    "tags": []
   },
   "outputs": [
    {
     "data": {
      "text/plain": [
       "175"
      ]
     },
     "metadata": {},
     "output_type": "display_data"
    },
    {
     "data": {
      "text/plain": [
       "['ABCB7',\n",
       " 'ABCE1',\n",
       " 'ABHD13',\n",
       " 'ACACA',\n",
       " 'ACTR1A',\n",
       " 'ACVR1',\n",
       " 'AGPAT6',\n",
       " 'AKIRIN2',\n",
       " 'AP2S1',\n",
       " 'ASCC3']"
      ]
     },
     "metadata": {},
     "output_type": "display_data"
    }
   ],
   "source": [
    "df_genes = df[\"gene_name\"].unique().tolist()\n",
    "\n",
    "display(len(df_genes))\n",
    "display(df_genes[:10])\n",
    "\n",
    "assert len(df_genes) == 175"
   ]
  },
  {
   "cell_type": "code",
   "execution_count": 24,
   "metadata": {
    "execution": {
     "iopub.execute_input": "2021-03-25T19:58:53.636797Z",
     "iopub.status.busy": "2021-03-25T19:58:53.636394Z",
     "iopub.status.idle": "2021-03-25T19:58:53.648173Z",
     "shell.execute_reply": "2021-03-25T19:58:53.647809Z"
    },
    "papermill": {
     "duration": 0.03218,
     "end_time": "2021-03-25T19:58:53.648257",
     "exception": false,
     "start_time": "2021-03-25T19:58:53.616077",
     "status": "completed"
    },
    "tags": []
   },
   "outputs": [
    {
     "data": {
      "text/plain": [
       "164"
      ]
     },
     "metadata": {},
     "output_type": "display_data"
    },
    {
     "data": {
      "text/plain": [
       "['DHX33',\n",
       " 'RPAP3',\n",
       " 'QPCTL',\n",
       " 'TTC27',\n",
       " 'PHF20',\n",
       " 'AP2S1',\n",
       " 'NOP16',\n",
       " 'POLR3E',\n",
       " 'DGAT2',\n",
       " 'RPL18']"
      ]
     },
     "metadata": {},
     "output_type": "display_data"
    }
   ],
   "source": [
    "# keep genes present in S-MultiXcan results\n",
    "df_genes_present = smultixcan_results.index.intersection(df_genes).tolist()\n",
    "\n",
    "display(len(df_genes_present))\n",
    "display(df_genes_present[:10])\n",
    "\n",
    "assert len(df_genes_present) == 164"
   ]
  },
  {
   "cell_type": "markdown",
   "metadata": {
    "papermill": {
     "duration": 0.018716,
     "end_time": "2021-03-25T19:58:53.686758",
     "exception": false,
     "start_time": "2021-03-25T19:58:53.668042",
     "status": "completed"
    },
    "tags": []
   },
   "source": [
    "# Get top traits"
   ]
  },
  {
   "cell_type": "code",
   "execution_count": 25,
   "metadata": {
    "execution": {
     "iopub.execute_input": "2021-03-25T19:58:53.726130Z",
     "iopub.status.busy": "2021-03-25T19:58:53.725772Z",
     "iopub.status.idle": "2021-03-25T19:58:53.862872Z",
     "shell.execute_reply": "2021-03-25T19:58:53.862505Z"
    },
    "papermill": {
     "duration": 0.157725,
     "end_time": "2021-03-25T19:58:53.862953",
     "exception": false,
     "start_time": "2021-03-25T19:58:53.705228",
     "status": "completed"
    },
    "tags": []
   },
   "outputs": [],
   "source": [
    "traits = []\n",
    "\n",
    "for g in df_genes_present:\n",
    "    _tmp = smultixcan_results.loc[g]\n",
    "    _tmp = _tmp[_tmp > 0.0].sort_values(ascending=False)\n",
    "\n",
    "    #     _tmp = _tmp.head(50)\n",
    "    traits.append(_tmp)"
   ]
  },
  {
   "cell_type": "code",
   "execution_count": 26,
   "metadata": {
    "execution": {
     "iopub.execute_input": "2021-03-25T19:58:53.902441Z",
     "iopub.status.busy": "2021-03-25T19:58:53.902072Z",
     "iopub.status.idle": "2021-03-25T19:58:53.997532Z",
     "shell.execute_reply": "2021-03-25T19:58:53.997805Z"
    },
    "papermill": {
     "duration": 0.116635,
     "end_time": "2021-03-25T19:58:53.997909",
     "exception": false,
     "start_time": "2021-03-25T19:58:53.881274",
     "status": "completed"
    },
    "tags": []
   },
   "outputs": [],
   "source": [
    "traits_df = (\n",
    "    pd.concat(traits)\n",
    "    .reset_index()\n",
    "    .groupby(\"index\")\n",
    "    .sum()\n",
    "    .sort_values(0, ascending=False)\n",
    "    .reset_index()\n",
    ").rename(columns={\"index\": \"trait\", 0: \"value\"})"
   ]
  },
  {
   "cell_type": "code",
   "execution_count": 27,
   "metadata": {
    "execution": {
     "iopub.execute_input": "2021-03-25T19:58:54.037256Z",
     "iopub.status.busy": "2021-03-25T19:58:54.036895Z",
     "iopub.status.idle": "2021-03-25T19:58:55.808997Z",
     "shell.execute_reply": "2021-03-25T19:58:55.808124Z"
    },
    "papermill": {
     "duration": 1.79299,
     "end_time": "2021-03-25T19:58:55.809220",
     "exception": false,
     "start_time": "2021-03-25T19:58:54.016230",
     "status": "completed"
    },
    "tags": []
   },
   "outputs": [],
   "source": [
    "# add trait category\n",
    "trait_code_to_trait_obj = [\n",
    "    Trait.get_trait(full_code=t)\n",
    "    if not Trait.is_efo_label(t)\n",
    "    else Trait.get_traits_from_efo(t)\n",
    "    for t in traits_df[\"trait\"]\n",
    "]"
   ]
  },
  {
   "cell_type": "code",
   "execution_count": 28,
   "metadata": {
    "execution": {
     "iopub.execute_input": "2021-03-25T19:58:55.850828Z",
     "iopub.status.busy": "2021-03-25T19:58:55.850470Z",
     "iopub.status.idle": "2021-03-25T19:58:56.433936Z",
     "shell.execute_reply": "2021-03-25T19:58:56.433563Z"
    },
    "papermill": {
     "duration": 0.604144,
     "end_time": "2021-03-25T19:58:56.434017",
     "exception": false,
     "start_time": "2021-03-25T19:58:55.829873",
     "status": "completed"
    },
    "tags": []
   },
   "outputs": [],
   "source": [
    "traits_df = traits_df.assign(\n",
    "    category=[\n",
    "        t.category if not isinstance(t, list) else t[0].category\n",
    "        for t in trait_code_to_trait_obj\n",
    "    ]\n",
    ")"
   ]
  },
  {
   "cell_type": "code",
   "execution_count": 29,
   "metadata": {
    "execution": {
     "iopub.execute_input": "2021-03-25T19:58:56.473475Z",
     "iopub.status.busy": "2021-03-25T19:58:56.473121Z",
     "iopub.status.idle": "2021-03-25T19:58:56.481134Z",
     "shell.execute_reply": "2021-03-25T19:58:56.480777Z"
    },
    "papermill": {
     "duration": 0.028635,
     "end_time": "2021-03-25T19:58:56.481214",
     "exception": false,
     "start_time": "2021-03-25T19:58:56.452579",
     "status": "completed"
    },
    "tags": []
   },
   "outputs": [
    {
     "data": {
      "text/plain": [
       "(3752, 3)"
      ]
     },
     "execution_count": 29,
     "metadata": {},
     "output_type": "execute_result"
    }
   ],
   "source": [
    "traits_df.shape"
   ]
  },
  {
   "cell_type": "code",
   "execution_count": 30,
   "metadata": {
    "execution": {
     "iopub.execute_input": "2021-03-25T19:58:56.521349Z",
     "iopub.status.busy": "2021-03-25T19:58:56.520992Z",
     "iopub.status.idle": "2021-03-25T19:58:56.531644Z",
     "shell.execute_reply": "2021-03-25T19:58:56.531274Z"
    },
    "papermill": {
     "duration": 0.031281,
     "end_time": "2021-03-25T19:58:56.531727",
     "exception": false,
     "start_time": "2021-03-25T19:58:56.500446",
     "status": "completed"
    },
    "tags": []
   },
   "outputs": [
    {
     "data": {
      "text/html": [
       "<div>\n",
       "<style scoped>\n",
       "    .dataframe tbody tr th:only-of-type {\n",
       "        vertical-align: middle;\n",
       "    }\n",
       "\n",
       "    .dataframe tbody tr th {\n",
       "        vertical-align: top;\n",
       "    }\n",
       "\n",
       "    .dataframe thead th {\n",
       "        text-align: right;\n",
       "    }\n",
       "</style>\n",
       "<table border=\"1\" class=\"dataframe\">\n",
       "  <thead>\n",
       "    <tr style=\"text-align: right;\">\n",
       "      <th></th>\n",
       "      <th>trait</th>\n",
       "      <th>value</th>\n",
       "      <th>category</th>\n",
       "    </tr>\n",
       "  </thead>\n",
       "  <tbody>\n",
       "    <tr>\n",
       "      <th>0</th>\n",
       "      <td>30180_raw-Lymphocyte_percentage</td>\n",
       "      <td>0.010133</td>\n",
       "      <td>Blood count</td>\n",
       "    </tr>\n",
       "    <tr>\n",
       "      <th>1</th>\n",
       "      <td>30200_raw-Neutrophill_percentage</td>\n",
       "      <td>0.009718</td>\n",
       "      <td>Blood count</td>\n",
       "    </tr>\n",
       "    <tr>\n",
       "      <th>2</th>\n",
       "      <td>30140_raw-Neutrophill_count</td>\n",
       "      <td>0.009544</td>\n",
       "      <td>Blood count</td>\n",
       "    </tr>\n",
       "    <tr>\n",
       "      <th>3</th>\n",
       "      <td>30010_raw-Red_blood_cell_erythrocyte_count</td>\n",
       "      <td>0.009362</td>\n",
       "      <td>Blood count</td>\n",
       "    </tr>\n",
       "    <tr>\n",
       "      <th>4</th>\n",
       "      <td>lymphocyte count</td>\n",
       "      <td>0.009343</td>\n",
       "      <td>Blood</td>\n",
       "    </tr>\n",
       "  </tbody>\n",
       "</table>\n",
       "</div>"
      ],
      "text/plain": [
       "                                        trait     value     category\n",
       "0             30180_raw-Lymphocyte_percentage  0.010133  Blood count\n",
       "1            30200_raw-Neutrophill_percentage  0.009718  Blood count\n",
       "2                 30140_raw-Neutrophill_count  0.009544  Blood count\n",
       "3  30010_raw-Red_blood_cell_erythrocyte_count  0.009362  Blood count\n",
       "4                            lymphocyte count  0.009343        Blood"
      ]
     },
     "execution_count": 30,
     "metadata": {},
     "output_type": "execute_result"
    }
   ],
   "source": [
    "traits_df.head()"
   ]
  },
  {
   "cell_type": "code",
   "execution_count": 31,
   "metadata": {
    "execution": {
     "iopub.execute_input": "2021-03-25T19:58:56.573962Z",
     "iopub.status.busy": "2021-03-25T19:58:56.573603Z",
     "iopub.status.idle": "2021-03-25T19:58:56.581710Z",
     "shell.execute_reply": "2021-03-25T19:58:56.581358Z"
    },
    "papermill": {
     "duration": 0.030078,
     "end_time": "2021-03-25T19:58:56.581794",
     "exception": false,
     "start_time": "2021-03-25T19:58:56.551716",
     "status": "completed"
    },
    "tags": []
   },
   "outputs": [
    {
     "data": {
      "text/plain": [
       "PosixPath('/home/miltondp/projects/labs/greenelab/phenoplier/base/results/crispr_analyses/single_gene-gene_set_increase/traits.pkl')"
      ]
     },
     "metadata": {},
     "output_type": "display_data"
    }
   ],
   "source": [
    "output_file = Path(OUTPUT_DIR, \"traits.pkl\").resolve()\n",
    "display(output_file)"
   ]
  },
  {
   "cell_type": "code",
   "execution_count": 32,
   "metadata": {
    "execution": {
     "iopub.execute_input": "2021-03-25T19:58:56.624905Z",
     "iopub.status.busy": "2021-03-25T19:58:56.624490Z",
     "iopub.status.idle": "2021-03-25T19:58:56.633128Z",
     "shell.execute_reply": "2021-03-25T19:58:56.632743Z"
    },
    "papermill": {
     "duration": 0.030686,
     "end_time": "2021-03-25T19:58:56.633209",
     "exception": false,
     "start_time": "2021-03-25T19:58:56.602523",
     "status": "completed"
    },
    "tags": []
   },
   "outputs": [],
   "source": [
    "traits_df.to_pickle(output_file)"
   ]
  },
  {
   "cell_type": "markdown",
   "metadata": {
    "papermill": {
     "duration": 0.019662,
     "end_time": "2021-03-25T19:58:56.672845",
     "exception": false,
     "start_time": "2021-03-25T19:58:56.653183",
     "status": "completed"
    },
    "tags": []
   },
   "source": [
    "# Summary"
   ]
  },
  {
   "cell_type": "code",
   "execution_count": 33,
   "metadata": {
    "execution": {
     "iopub.execute_input": "2021-03-25T19:58:56.713791Z",
     "iopub.status.busy": "2021-03-25T19:58:56.713425Z",
     "iopub.status.idle": "2021-03-25T19:58:56.720339Z",
     "shell.execute_reply": "2021-03-25T19:58:56.720010Z"
    },
    "papermill": {
     "duration": 0.028449,
     "end_time": "2021-03-25T19:58:56.720419",
     "exception": false,
     "start_time": "2021-03-25T19:58:56.691970",
     "status": "completed"
    },
    "tags": []
   },
   "outputs": [],
   "source": [
    "top_traits = traits_df.head(100)"
   ]
  },
  {
   "cell_type": "code",
   "execution_count": 34,
   "metadata": {
    "execution": {
     "iopub.execute_input": "2021-03-25T19:58:56.761890Z",
     "iopub.status.busy": "2021-03-25T19:58:56.761514Z",
     "iopub.status.idle": "2021-03-25T19:58:56.779185Z",
     "shell.execute_reply": "2021-03-25T19:58:56.778896Z"
    },
    "papermill": {
     "duration": 0.039257,
     "end_time": "2021-03-25T19:58:56.779268",
     "exception": false,
     "start_time": "2021-03-25T19:58:56.740011",
     "status": "completed"
    },
    "tags": []
   },
   "outputs": [
    {
     "data": {
      "text/html": [
       "<div>\n",
       "<style scoped>\n",
       "    .dataframe tbody tr th:only-of-type {\n",
       "        vertical-align: middle;\n",
       "    }\n",
       "\n",
       "    .dataframe tbody tr th {\n",
       "        vertical-align: top;\n",
       "    }\n",
       "\n",
       "    .dataframe thead th {\n",
       "        text-align: right;\n",
       "    }\n",
       "</style>\n",
       "<table border=\"1\" class=\"dataframe\">\n",
       "  <thead>\n",
       "    <tr style=\"text-align: right;\">\n",
       "      <th></th>\n",
       "      <th>trait</th>\n",
       "      <th>value</th>\n",
       "      <th>category</th>\n",
       "    </tr>\n",
       "  </thead>\n",
       "  <tbody>\n",
       "    <tr>\n",
       "      <th>0</th>\n",
       "      <td>30180_raw-Lymphocyte_percentage</td>\n",
       "      <td>0.010133</td>\n",
       "      <td>Blood count</td>\n",
       "    </tr>\n",
       "    <tr>\n",
       "      <th>1</th>\n",
       "      <td>30200_raw-Neutrophill_percentage</td>\n",
       "      <td>0.009718</td>\n",
       "      <td>Blood count</td>\n",
       "    </tr>\n",
       "    <tr>\n",
       "      <th>2</th>\n",
       "      <td>30140_raw-Neutrophill_count</td>\n",
       "      <td>0.009544</td>\n",
       "      <td>Blood count</td>\n",
       "    </tr>\n",
       "    <tr>\n",
       "      <th>3</th>\n",
       "      <td>30010_raw-Red_blood_cell_erythrocyte_count</td>\n",
       "      <td>0.009362</td>\n",
       "      <td>Blood count</td>\n",
       "    </tr>\n",
       "    <tr>\n",
       "      <th>4</th>\n",
       "      <td>lymphocyte count</td>\n",
       "      <td>0.009343</td>\n",
       "      <td>Blood</td>\n",
       "    </tr>\n",
       "    <tr>\n",
       "      <th>5</th>\n",
       "      <td>23130_raw-Trunk_predicted_mass</td>\n",
       "      <td>0.009334</td>\n",
       "      <td>Impedance measures</td>\n",
       "    </tr>\n",
       "    <tr>\n",
       "      <th>6</th>\n",
       "      <td>23129_raw-Trunk_fatfree_mass</td>\n",
       "      <td>0.009327</td>\n",
       "      <td>Impedance measures</td>\n",
       "    </tr>\n",
       "    <tr>\n",
       "      <th>7</th>\n",
       "      <td>30040_raw-Mean_corpuscular_volume</td>\n",
       "      <td>0.009309</td>\n",
       "      <td>Blood count</td>\n",
       "    </tr>\n",
       "    <tr>\n",
       "      <th>8</th>\n",
       "      <td>30270_raw-Mean_sphered_cell_volume</td>\n",
       "      <td>0.009252</td>\n",
       "      <td>Blood count</td>\n",
       "    </tr>\n",
       "    <tr>\n",
       "      <th>9</th>\n",
       "      <td>30000_raw-White_blood_cell_leukocyte_count</td>\n",
       "      <td>0.009250</td>\n",
       "      <td>Blood count</td>\n",
       "    </tr>\n",
       "    <tr>\n",
       "      <th>10</th>\n",
       "      <td>1717-Skin_colour</td>\n",
       "      <td>0.009208</td>\n",
       "      <td>Sun exposure</td>\n",
       "    </tr>\n",
       "    <tr>\n",
       "      <th>11</th>\n",
       "      <td>23125_raw-Arm_fatfree_mass_left</td>\n",
       "      <td>0.009179</td>\n",
       "      <td>Impedance measures</td>\n",
       "    </tr>\n",
       "    <tr>\n",
       "      <th>12</th>\n",
       "      <td>23110_raw-Impedance_of_arm_left</td>\n",
       "      <td>0.009177</td>\n",
       "      <td>Impedance measures</td>\n",
       "    </tr>\n",
       "    <tr>\n",
       "      <th>13</th>\n",
       "      <td>30260_raw-Mean_reticulocyte_volume</td>\n",
       "      <td>0.009170</td>\n",
       "      <td>Blood count</td>\n",
       "    </tr>\n",
       "    <tr>\n",
       "      <th>14</th>\n",
       "      <td>23102_raw-Whole_body_water_mass</td>\n",
       "      <td>0.009150</td>\n",
       "      <td>Impedance measures</td>\n",
       "    </tr>\n",
       "    <tr>\n",
       "      <th>15</th>\n",
       "      <td>23109_raw-Impedance_of_arm_right</td>\n",
       "      <td>0.009134</td>\n",
       "      <td>Impedance measures</td>\n",
       "    </tr>\n",
       "    <tr>\n",
       "      <th>16</th>\n",
       "      <td>30050_raw-Mean_corpuscular_haemoglobin</td>\n",
       "      <td>0.009132</td>\n",
       "      <td>Blood count</td>\n",
       "    </tr>\n",
       "    <tr>\n",
       "      <th>17</th>\n",
       "      <td>23101_raw-Whole_body_fatfree_mass</td>\n",
       "      <td>0.009124</td>\n",
       "      <td>Impedance measures</td>\n",
       "    </tr>\n",
       "    <tr>\n",
       "      <th>18</th>\n",
       "      <td>23126_raw-Arm_predicted_mass_left</td>\n",
       "      <td>0.009100</td>\n",
       "      <td>Impedance measures</td>\n",
       "    </tr>\n",
       "    <tr>\n",
       "      <th>19</th>\n",
       "      <td>23122_raw-Arm_predicted_mass_right</td>\n",
       "      <td>0.009095</td>\n",
       "      <td>Impedance measures</td>\n",
       "    </tr>\n",
       "    <tr>\n",
       "      <th>20</th>\n",
       "      <td>23121_raw-Arm_fatfree_mass_right</td>\n",
       "      <td>0.009088</td>\n",
       "      <td>Impedance measures</td>\n",
       "    </tr>\n",
       "    <tr>\n",
       "      <th>21</th>\n",
       "      <td>1747_2-Hair_colour_natural_before_greying_Red</td>\n",
       "      <td>0.009072</td>\n",
       "      <td>Sun exposure</td>\n",
       "    </tr>\n",
       "    <tr>\n",
       "      <th>22</th>\n",
       "      <td>1727-Ease_of_skin_tanning</td>\n",
       "      <td>0.009030</td>\n",
       "      <td>Sun exposure</td>\n",
       "    </tr>\n",
       "    <tr>\n",
       "      <th>23</th>\n",
       "      <td>30300_raw-High_light_scatter_reticulocyte_count</td>\n",
       "      <td>0.009012</td>\n",
       "      <td>Blood count</td>\n",
       "    </tr>\n",
       "    <tr>\n",
       "      <th>24</th>\n",
       "      <td>leukocyte count</td>\n",
       "      <td>0.009006</td>\n",
       "      <td>Blood</td>\n",
       "    </tr>\n",
       "    <tr>\n",
       "      <th>25</th>\n",
       "      <td>20015_raw-Sitting_height</td>\n",
       "      <td>0.008996</td>\n",
       "      <td>Body size measures</td>\n",
       "    </tr>\n",
       "    <tr>\n",
       "      <th>26</th>\n",
       "      <td>neutrophil count</td>\n",
       "      <td>0.008952</td>\n",
       "      <td>Blood</td>\n",
       "    </tr>\n",
       "    <tr>\n",
       "      <th>27</th>\n",
       "      <td>sum of basophil and neutrophil counts</td>\n",
       "      <td>0.008950</td>\n",
       "      <td>Blood</td>\n",
       "    </tr>\n",
       "    <tr>\n",
       "      <th>28</th>\n",
       "      <td>3581_raw-Age_at_menopause_last_menstrual_period</td>\n",
       "      <td>0.008947</td>\n",
       "      <td>Female-specific factors</td>\n",
       "    </tr>\n",
       "    <tr>\n",
       "      <th>29</th>\n",
       "      <td>23105_raw-Basal_metabolic_rate</td>\n",
       "      <td>0.008934</td>\n",
       "      <td>Impedance measures</td>\n",
       "    </tr>\n",
       "    <tr>\n",
       "      <th>30</th>\n",
       "      <td>sum of neutrophil and eosinophil counts</td>\n",
       "      <td>0.008931</td>\n",
       "      <td>Blood</td>\n",
       "    </tr>\n",
       "    <tr>\n",
       "      <th>31</th>\n",
       "      <td>rheumatoid arthritis</td>\n",
       "      <td>0.008929</td>\n",
       "      <td>Diseases (ICD10 main)</td>\n",
       "    </tr>\n",
       "    <tr>\n",
       "      <th>32</th>\n",
       "      <td>granulocyte count</td>\n",
       "      <td>0.008919</td>\n",
       "      <td>Blood</td>\n",
       "    </tr>\n",
       "    <tr>\n",
       "      <th>33</th>\n",
       "      <td>myeloid white cell count</td>\n",
       "      <td>0.008897</td>\n",
       "      <td>Blood</td>\n",
       "    </tr>\n",
       "    <tr>\n",
       "      <th>34</th>\n",
       "      <td>body height</td>\n",
       "      <td>0.008895</td>\n",
       "      <td>Early life factors</td>\n",
       "    </tr>\n",
       "    <tr>\n",
       "      <th>35</th>\n",
       "      <td>30250_raw-Reticulocyte_count</td>\n",
       "      <td>0.008877</td>\n",
       "      <td>Blood count</td>\n",
       "    </tr>\n",
       "    <tr>\n",
       "      <th>36</th>\n",
       "      <td>23106_raw-Impedance_of_whole_body</td>\n",
       "      <td>0.008843</td>\n",
       "      <td>Impedance measures</td>\n",
       "    </tr>\n",
       "    <tr>\n",
       "      <th>37</th>\n",
       "      <td>22617_5216-Job_SOC_coding_Pipe_fitters</td>\n",
       "      <td>0.008839</td>\n",
       "      <td>Employment history</td>\n",
       "    </tr>\n",
       "    <tr>\n",
       "      <th>38</th>\n",
       "      <td>2149-Lifetime_number_of_sexual_partners</td>\n",
       "      <td>0.008828</td>\n",
       "      <td>Sexual factors</td>\n",
       "    </tr>\n",
       "    <tr>\n",
       "      <th>39</th>\n",
       "      <td>30090_raw-Platelet_crit</td>\n",
       "      <td>0.008821</td>\n",
       "      <td>Blood count</td>\n",
       "    </tr>\n",
       "    <tr>\n",
       "      <th>40</th>\n",
       "      <td>50_raw-Standing_height</td>\n",
       "      <td>0.008807</td>\n",
       "      <td>Body size measures</td>\n",
       "    </tr>\n",
       "    <tr>\n",
       "      <th>41</th>\n",
       "      <td>30290_raw-High_light_scatter_reticulocyte_percentage</td>\n",
       "      <td>0.008792</td>\n",
       "      <td>Blood count</td>\n",
       "    </tr>\n",
       "    <tr>\n",
       "      <th>42</th>\n",
       "      <td>20153_raw-Forced_expiratory_volume_in_1second_FEV1_predicted</td>\n",
       "      <td>0.008778</td>\n",
       "      <td>Spirometry</td>\n",
       "    </tr>\n",
       "    <tr>\n",
       "      <th>43</th>\n",
       "      <td>30120_raw-Lymphocyte_count</td>\n",
       "      <td>0.008766</td>\n",
       "      <td>Blood count</td>\n",
       "    </tr>\n",
       "    <tr>\n",
       "      <th>44</th>\n",
       "      <td>100920_2102-Type_milk_consumed_semiskimmed</td>\n",
       "      <td>0.008726</td>\n",
       "      <td>Milk/eggs/cheese yesterday</td>\n",
       "    </tr>\n",
       "    <tr>\n",
       "      <th>45</th>\n",
       "      <td>G6_SLEEPAPNO-Sleep_apnoea</td>\n",
       "      <td>0.008716</td>\n",
       "      <td>Diseases (FinnGen)</td>\n",
       "    </tr>\n",
       "    <tr>\n",
       "      <th>46</th>\n",
       "      <td>20022_raw-Birth_weight</td>\n",
       "      <td>0.008715</td>\n",
       "      <td>Early life factors</td>\n",
       "    </tr>\n",
       "    <tr>\n",
       "      <th>47</th>\n",
       "      <td>6177_100-Medication_for_cholesterol_blood_pressure_or_diabetes_None_of_the_above</td>\n",
       "      <td>0.008707</td>\n",
       "      <td>Medication</td>\n",
       "    </tr>\n",
       "    <tr>\n",
       "      <th>48</th>\n",
       "      <td>22617_5111-Job_SOC_coding_Farmers</td>\n",
       "      <td>0.008706</td>\n",
       "      <td>Employment history</td>\n",
       "    </tr>\n",
       "    <tr>\n",
       "      <th>49</th>\n",
       "      <td>20107_101-Illnesses_of_father_None_of_the_above_group_2</td>\n",
       "      <td>0.008693</td>\n",
       "      <td>Family history</td>\n",
       "    </tr>\n",
       "    <tr>\n",
       "      <th>50</th>\n",
       "      <td>22601_51112476-Job_coding_farmer_farming_contractor_herd_manager_smallholder_bailiff</td>\n",
       "      <td>0.008685</td>\n",
       "      <td>Employment history</td>\n",
       "    </tr>\n",
       "    <tr>\n",
       "      <th>51</th>\n",
       "      <td>23113_raw-Leg_fatfree_mass_right</td>\n",
       "      <td>0.008682</td>\n",
       "      <td>Impedance measures</td>\n",
       "    </tr>\n",
       "    <tr>\n",
       "      <th>52</th>\n",
       "      <td>20118_7-Home_area_population_density_urban_or_rural_EnglandWales_Village_less_sparse</td>\n",
       "      <td>0.008681</td>\n",
       "      <td>Reception</td>\n",
       "    </tr>\n",
       "    <tr>\n",
       "      <th>53</th>\n",
       "      <td>23117_raw-Leg_fatfree_mass_left</td>\n",
       "      <td>0.008678</td>\n",
       "      <td>Impedance measures</td>\n",
       "    </tr>\n",
       "    <tr>\n",
       "      <th>54</th>\n",
       "      <td>23118_raw-Leg_predicted_mass_left</td>\n",
       "      <td>0.008672</td>\n",
       "      <td>Impedance measures</td>\n",
       "    </tr>\n",
       "    <tr>\n",
       "      <th>55</th>\n",
       "      <td>23114_raw-Leg_predicted_mass_right</td>\n",
       "      <td>0.008672</td>\n",
       "      <td>Impedance measures</td>\n",
       "    </tr>\n",
       "    <tr>\n",
       "      <th>56</th>\n",
       "      <td>894-Duration_of_moderate_activity</td>\n",
       "      <td>0.008669</td>\n",
       "      <td>Physical activity</td>\n",
       "    </tr>\n",
       "    <tr>\n",
       "      <th>57</th>\n",
       "      <td>4080_raw-Systolic_blood_pressure_automated_reading</td>\n",
       "      <td>0.008668</td>\n",
       "      <td>Blood pressure</td>\n",
       "    </tr>\n",
       "    <tr>\n",
       "      <th>58</th>\n",
       "      <td>20003_1141146188-Treatmentmedication_code_latanoprost</td>\n",
       "      <td>0.008659</td>\n",
       "      <td>Medications</td>\n",
       "    </tr>\n",
       "    <tr>\n",
       "      <th>59</th>\n",
       "      <td>22617_2125-Job_SOC_coding_Chemical_engineers</td>\n",
       "      <td>0.008634</td>\n",
       "      <td>Employment history</td>\n",
       "    </tr>\n",
       "    <tr>\n",
       "      <th>60</th>\n",
       "      <td>22601_21253043-Job_coding_chemical_engineer_plastics_engineer_pharmaceutical_engineer</td>\n",
       "      <td>0.008633</td>\n",
       "      <td>Employment history</td>\n",
       "    </tr>\n",
       "    <tr>\n",
       "      <th>61</th>\n",
       "      <td>30240_raw-Reticulocyte_percentage</td>\n",
       "      <td>0.008619</td>\n",
       "      <td>Blood count</td>\n",
       "    </tr>\n",
       "    <tr>\n",
       "      <th>62</th>\n",
       "      <td>2159-Ever_had_samesex_intercourse</td>\n",
       "      <td>0.008603</td>\n",
       "      <td>Sexual factors</td>\n",
       "    </tr>\n",
       "    <tr>\n",
       "      <th>63</th>\n",
       "      <td>30190_raw-Monocyte_percentage</td>\n",
       "      <td>0.008579</td>\n",
       "      <td>Blood count</td>\n",
       "    </tr>\n",
       "    <tr>\n",
       "      <th>64</th>\n",
       "      <td>20023_raw-Mean_time_to_correctly_identify_matches</td>\n",
       "      <td>0.008578</td>\n",
       "      <td>Reaction time</td>\n",
       "    </tr>\n",
       "    <tr>\n",
       "      <th>65</th>\n",
       "      <td>5610_1-Which_eyes_affected_by_presbyopia_Right_eye</td>\n",
       "      <td>0.008573</td>\n",
       "      <td>Eyesight</td>\n",
       "    </tr>\n",
       "    <tr>\n",
       "      <th>66</th>\n",
       "      <td>attention deficit hyperactivity disorder</td>\n",
       "      <td>0.008568</td>\n",
       "      <td>Psychiatric-neurologic</td>\n",
       "    </tr>\n",
       "    <tr>\n",
       "      <th>67</th>\n",
       "      <td>1448_1-Bread_type_White</td>\n",
       "      <td>0.008566</td>\n",
       "      <td>Diet</td>\n",
       "    </tr>\n",
       "    <tr>\n",
       "      <th>68</th>\n",
       "      <td>SLEEP-Sleep_disorders_combined</td>\n",
       "      <td>0.008566</td>\n",
       "      <td>Diseases (FinnGen)</td>\n",
       "    </tr>\n",
       "    <tr>\n",
       "      <th>69</th>\n",
       "      <td>30160-Basophill_count</td>\n",
       "      <td>0.008565</td>\n",
       "      <td>Blood count</td>\n",
       "    </tr>\n",
       "    <tr>\n",
       "      <th>70</th>\n",
       "      <td>sleep disorder</td>\n",
       "      <td>0.008560</td>\n",
       "      <td>Diseases (ICD10 main)</td>\n",
       "    </tr>\n",
       "    <tr>\n",
       "      <th>71</th>\n",
       "      <td>1528-Water_intake</td>\n",
       "      <td>0.008546</td>\n",
       "      <td>Diet</td>\n",
       "    </tr>\n",
       "    <tr>\n",
       "      <th>72</th>\n",
       "      <td>1379-Lambmutton_intake</td>\n",
       "      <td>0.008545</td>\n",
       "      <td>Diet</td>\n",
       "    </tr>\n",
       "    <tr>\n",
       "      <th>73</th>\n",
       "      <td>2664_4-Reason_for_reducing_amount_of_alcohol_drunk_Financial_reasons</td>\n",
       "      <td>0.008542</td>\n",
       "      <td>Alcohol</td>\n",
       "    </tr>\n",
       "    <tr>\n",
       "      <th>74</th>\n",
       "      <td>30030_raw-Haematocrit_percentage</td>\n",
       "      <td>0.008535</td>\n",
       "      <td>Blood count</td>\n",
       "    </tr>\n",
       "    <tr>\n",
       "      <th>75</th>\n",
       "      <td>20003_1141164086-Treatmentmedication_code_salmeterolfluticasone_propionate</td>\n",
       "      <td>0.008521</td>\n",
       "      <td>Medications</td>\n",
       "    </tr>\n",
       "    <tr>\n",
       "      <th>76</th>\n",
       "      <td>5111_raw-3mm_asymmetry_angle_left</td>\n",
       "      <td>0.008515</td>\n",
       "      <td>Autorefraction</td>\n",
       "    </tr>\n",
       "    <tr>\n",
       "      <th>77</th>\n",
       "      <td>404_raw-Duration_to_first_press_of_snapbutton_in_each_round</td>\n",
       "      <td>0.008497</td>\n",
       "      <td>Reaction time</td>\n",
       "    </tr>\n",
       "    <tr>\n",
       "      <th>78</th>\n",
       "      <td>1478-Salt_added_to_food</td>\n",
       "      <td>0.008497</td>\n",
       "      <td>Diet</td>\n",
       "    </tr>\n",
       "    <tr>\n",
       "      <th>79</th>\n",
       "      <td>30510_raw-Creatinine_enzymatic_in_urine</td>\n",
       "      <td>0.008486</td>\n",
       "      <td>Urine assays</td>\n",
       "    </tr>\n",
       "    <tr>\n",
       "      <th>80</th>\n",
       "      <td>2764_raw-Age_at_last_live_birth</td>\n",
       "      <td>0.008484</td>\n",
       "      <td>Female-specific factors</td>\n",
       "    </tr>\n",
       "    <tr>\n",
       "      <th>81</th>\n",
       "      <td>monocyte count</td>\n",
       "      <td>0.008483</td>\n",
       "      <td>Blood</td>\n",
       "    </tr>\n",
       "    <tr>\n",
       "      <th>82</th>\n",
       "      <td>20003_1141195224-Treatmentmedication_code_formoterol</td>\n",
       "      <td>0.008468</td>\n",
       "      <td>Medications</td>\n",
       "    </tr>\n",
       "    <tr>\n",
       "      <th>83</th>\n",
       "      <td>20003_1140861958-Treatmentmedication_code_simvastatin</td>\n",
       "      <td>0.008466</td>\n",
       "      <td>Medications</td>\n",
       "    </tr>\n",
       "    <tr>\n",
       "      <th>84</th>\n",
       "      <td>6150_2-Vascularheart_problems_diagnosed_by_doctor_Angina</td>\n",
       "      <td>0.008465</td>\n",
       "      <td>Diseases (cardiovascular)</td>\n",
       "    </tr>\n",
       "    <tr>\n",
       "      <th>85</th>\n",
       "      <td>RHEUMA_SEROPOS-Seropositive_rheumatoid_arthritis</td>\n",
       "      <td>0.008457</td>\n",
       "      <td>Diseases (FinnGen)</td>\n",
       "    </tr>\n",
       "    <tr>\n",
       "      <th>86</th>\n",
       "      <td>M13_DUPUTRYEN-Palmar_fascial_fibromatosis_Dupuytren</td>\n",
       "      <td>0.008445</td>\n",
       "      <td>Diseases (FinnGen)</td>\n",
       "    </tr>\n",
       "    <tr>\n",
       "      <th>87</th>\n",
       "      <td>30280_raw-Immature_reticulocyte_fraction</td>\n",
       "      <td>0.008441</td>\n",
       "      <td>Blood count</td>\n",
       "    </tr>\n",
       "    <tr>\n",
       "      <th>88</th>\n",
       "      <td>20003_1141167334-Treatmentmedication_code_colofac100_tablet</td>\n",
       "      <td>0.008433</td>\n",
       "      <td>Medications</td>\n",
       "    </tr>\n",
       "    <tr>\n",
       "      <th>89</th>\n",
       "      <td>30110_raw-Platelet_distribution_width</td>\n",
       "      <td>0.008428</td>\n",
       "      <td>Blood count</td>\n",
       "    </tr>\n",
       "    <tr>\n",
       "      <th>90</th>\n",
       "      <td>1737-Childhood_sunburn_occasions</td>\n",
       "      <td>0.008415</td>\n",
       "      <td>Sun exposure</td>\n",
       "    </tr>\n",
       "    <tr>\n",
       "      <th>91</th>\n",
       "      <td>100018_raw-Retinol</td>\n",
       "      <td>0.008415</td>\n",
       "      <td>Estimated nutrients yesterday</td>\n",
       "    </tr>\n",
       "    <tr>\n",
       "      <th>92</th>\n",
       "      <td>6177_1-Medication_for_cholesterol_blood_pressure_or_diabetes_Cholesterol_lowering_medication</td>\n",
       "      <td>0.008415</td>\n",
       "      <td>Medication</td>\n",
       "    </tr>\n",
       "    <tr>\n",
       "      <th>93</th>\n",
       "      <td>40001_C439-Underlying_primary_cause_of_death_ICD10_C439_Malignant_melanoma_of_skin_unspecified</td>\n",
       "      <td>0.008414</td>\n",
       "      <td>Death register</td>\n",
       "    </tr>\n",
       "    <tr>\n",
       "      <th>94</th>\n",
       "      <td>3894_raw-Age_heart_attack_diagnosed</td>\n",
       "      <td>0.008412</td>\n",
       "      <td>Medical conditions</td>\n",
       "    </tr>\n",
       "    <tr>\n",
       "      <th>95</th>\n",
       "      <td>chronic pain</td>\n",
       "      <td>0.008410</td>\n",
       "      <td>Pain</td>\n",
       "    </tr>\n",
       "    <tr>\n",
       "      <th>96</th>\n",
       "      <td>deep vein thrombosis</td>\n",
       "      <td>0.008404</td>\n",
       "      <td>Diseases (cardiovascular)</td>\n",
       "    </tr>\n",
       "    <tr>\n",
       "      <th>97</th>\n",
       "      <td>1050-Time_spend_outdoors_in_summer</td>\n",
       "      <td>0.008399</td>\n",
       "      <td>Sun exposure</td>\n",
       "    </tr>\n",
       "    <tr>\n",
       "      <th>98</th>\n",
       "      <td>estrogen-receptor negative breast cancer</td>\n",
       "      <td>0.008398</td>\n",
       "      <td>Cancer</td>\n",
       "    </tr>\n",
       "    <tr>\n",
       "      <th>99</th>\n",
       "      <td>20107_1-Illnesses_of_father_Heart_disease</td>\n",
       "      <td>0.008396</td>\n",
       "      <td>Family history</td>\n",
       "    </tr>\n",
       "  </tbody>\n",
       "</table>\n",
       "</div>"
      ],
      "text/plain": [
       "                                                                                             trait  \\\n",
       "0                                                                  30180_raw-Lymphocyte_percentage   \n",
       "1                                                                 30200_raw-Neutrophill_percentage   \n",
       "2                                                                      30140_raw-Neutrophill_count   \n",
       "3                                                       30010_raw-Red_blood_cell_erythrocyte_count   \n",
       "4                                                                                 lymphocyte count   \n",
       "5                                                                   23130_raw-Trunk_predicted_mass   \n",
       "6                                                                     23129_raw-Trunk_fatfree_mass   \n",
       "7                                                                30040_raw-Mean_corpuscular_volume   \n",
       "8                                                               30270_raw-Mean_sphered_cell_volume   \n",
       "9                                                       30000_raw-White_blood_cell_leukocyte_count   \n",
       "10                                                                                1717-Skin_colour   \n",
       "11                                                                 23125_raw-Arm_fatfree_mass_left   \n",
       "12                                                                 23110_raw-Impedance_of_arm_left   \n",
       "13                                                              30260_raw-Mean_reticulocyte_volume   \n",
       "14                                                                 23102_raw-Whole_body_water_mass   \n",
       "15                                                                23109_raw-Impedance_of_arm_right   \n",
       "16                                                          30050_raw-Mean_corpuscular_haemoglobin   \n",
       "17                                                               23101_raw-Whole_body_fatfree_mass   \n",
       "18                                                               23126_raw-Arm_predicted_mass_left   \n",
       "19                                                              23122_raw-Arm_predicted_mass_right   \n",
       "20                                                                23121_raw-Arm_fatfree_mass_right   \n",
       "21                                                   1747_2-Hair_colour_natural_before_greying_Red   \n",
       "22                                                                       1727-Ease_of_skin_tanning   \n",
       "23                                                 30300_raw-High_light_scatter_reticulocyte_count   \n",
       "24                                                                                 leukocyte count   \n",
       "25                                                                        20015_raw-Sitting_height   \n",
       "26                                                                                neutrophil count   \n",
       "27                                                           sum of basophil and neutrophil counts   \n",
       "28                                                 3581_raw-Age_at_menopause_last_menstrual_period   \n",
       "29                                                                  23105_raw-Basal_metabolic_rate   \n",
       "30                                                         sum of neutrophil and eosinophil counts   \n",
       "31                                                                            rheumatoid arthritis   \n",
       "32                                                                               granulocyte count   \n",
       "33                                                                        myeloid white cell count   \n",
       "34                                                                                     body height   \n",
       "35                                                                    30250_raw-Reticulocyte_count   \n",
       "36                                                               23106_raw-Impedance_of_whole_body   \n",
       "37                                                          22617_5216-Job_SOC_coding_Pipe_fitters   \n",
       "38                                                         2149-Lifetime_number_of_sexual_partners   \n",
       "39                                                                         30090_raw-Platelet_crit   \n",
       "40                                                                          50_raw-Standing_height   \n",
       "41                                            30290_raw-High_light_scatter_reticulocyte_percentage   \n",
       "42                                    20153_raw-Forced_expiratory_volume_in_1second_FEV1_predicted   \n",
       "43                                                                      30120_raw-Lymphocyte_count   \n",
       "44                                                      100920_2102-Type_milk_consumed_semiskimmed   \n",
       "45                                                                       G6_SLEEPAPNO-Sleep_apnoea   \n",
       "46                                                                          20022_raw-Birth_weight   \n",
       "47                6177_100-Medication_for_cholesterol_blood_pressure_or_diabetes_None_of_the_above   \n",
       "48                                                               22617_5111-Job_SOC_coding_Farmers   \n",
       "49                                         20107_101-Illnesses_of_father_None_of_the_above_group_2   \n",
       "50            22601_51112476-Job_coding_farmer_farming_contractor_herd_manager_smallholder_bailiff   \n",
       "51                                                                23113_raw-Leg_fatfree_mass_right   \n",
       "52            20118_7-Home_area_population_density_urban_or_rural_EnglandWales_Village_less_sparse   \n",
       "53                                                                 23117_raw-Leg_fatfree_mass_left   \n",
       "54                                                               23118_raw-Leg_predicted_mass_left   \n",
       "55                                                              23114_raw-Leg_predicted_mass_right   \n",
       "56                                                               894-Duration_of_moderate_activity   \n",
       "57                                              4080_raw-Systolic_blood_pressure_automated_reading   \n",
       "58                                           20003_1141146188-Treatmentmedication_code_latanoprost   \n",
       "59                                                    22617_2125-Job_SOC_coding_Chemical_engineers   \n",
       "60           22601_21253043-Job_coding_chemical_engineer_plastics_engineer_pharmaceutical_engineer   \n",
       "61                                                               30240_raw-Reticulocyte_percentage   \n",
       "62                                                               2159-Ever_had_samesex_intercourse   \n",
       "63                                                                   30190_raw-Monocyte_percentage   \n",
       "64                                               20023_raw-Mean_time_to_correctly_identify_matches   \n",
       "65                                              5610_1-Which_eyes_affected_by_presbyopia_Right_eye   \n",
       "66                                                        attention deficit hyperactivity disorder   \n",
       "67                                                                         1448_1-Bread_type_White   \n",
       "68                                                                  SLEEP-Sleep_disorders_combined   \n",
       "69                                                                           30160-Basophill_count   \n",
       "70                                                                                  sleep disorder   \n",
       "71                                                                               1528-Water_intake   \n",
       "72                                                                          1379-Lambmutton_intake   \n",
       "73                            2664_4-Reason_for_reducing_amount_of_alcohol_drunk_Financial_reasons   \n",
       "74                                                                30030_raw-Haematocrit_percentage   \n",
       "75                      20003_1141164086-Treatmentmedication_code_salmeterolfluticasone_propionate   \n",
       "76                                                               5111_raw-3mm_asymmetry_angle_left   \n",
       "77                                     404_raw-Duration_to_first_press_of_snapbutton_in_each_round   \n",
       "78                                                                         1478-Salt_added_to_food   \n",
       "79                                                         30510_raw-Creatinine_enzymatic_in_urine   \n",
       "80                                                                 2764_raw-Age_at_last_live_birth   \n",
       "81                                                                                  monocyte count   \n",
       "82                                            20003_1141195224-Treatmentmedication_code_formoterol   \n",
       "83                                           20003_1140861958-Treatmentmedication_code_simvastatin   \n",
       "84                                        6150_2-Vascularheart_problems_diagnosed_by_doctor_Angina   \n",
       "85                                                RHEUMA_SEROPOS-Seropositive_rheumatoid_arthritis   \n",
       "86                                             M13_DUPUTRYEN-Palmar_fascial_fibromatosis_Dupuytren   \n",
       "87                                                        30280_raw-Immature_reticulocyte_fraction   \n",
       "88                                     20003_1141167334-Treatmentmedication_code_colofac100_tablet   \n",
       "89                                                           30110_raw-Platelet_distribution_width   \n",
       "90                                                                1737-Childhood_sunburn_occasions   \n",
       "91                                                                              100018_raw-Retinol   \n",
       "92    6177_1-Medication_for_cholesterol_blood_pressure_or_diabetes_Cholesterol_lowering_medication   \n",
       "93  40001_C439-Underlying_primary_cause_of_death_ICD10_C439_Malignant_melanoma_of_skin_unspecified   \n",
       "94                                                             3894_raw-Age_heart_attack_diagnosed   \n",
       "95                                                                                    chronic pain   \n",
       "96                                                                            deep vein thrombosis   \n",
       "97                                                              1050-Time_spend_outdoors_in_summer   \n",
       "98                                                        estrogen-receptor negative breast cancer   \n",
       "99                                                       20107_1-Illnesses_of_father_Heart_disease   \n",
       "\n",
       "       value                       category  \n",
       "0   0.010133                    Blood count  \n",
       "1   0.009718                    Blood count  \n",
       "2   0.009544                    Blood count  \n",
       "3   0.009362                    Blood count  \n",
       "4   0.009343                          Blood  \n",
       "5   0.009334             Impedance measures  \n",
       "6   0.009327             Impedance measures  \n",
       "7   0.009309                    Blood count  \n",
       "8   0.009252                    Blood count  \n",
       "9   0.009250                    Blood count  \n",
       "10  0.009208                   Sun exposure  \n",
       "11  0.009179             Impedance measures  \n",
       "12  0.009177             Impedance measures  \n",
       "13  0.009170                    Blood count  \n",
       "14  0.009150             Impedance measures  \n",
       "15  0.009134             Impedance measures  \n",
       "16  0.009132                    Blood count  \n",
       "17  0.009124             Impedance measures  \n",
       "18  0.009100             Impedance measures  \n",
       "19  0.009095             Impedance measures  \n",
       "20  0.009088             Impedance measures  \n",
       "21  0.009072                   Sun exposure  \n",
       "22  0.009030                   Sun exposure  \n",
       "23  0.009012                    Blood count  \n",
       "24  0.009006                          Blood  \n",
       "25  0.008996             Body size measures  \n",
       "26  0.008952                          Blood  \n",
       "27  0.008950                          Blood  \n",
       "28  0.008947        Female-specific factors  \n",
       "29  0.008934             Impedance measures  \n",
       "30  0.008931                          Blood  \n",
       "31  0.008929          Diseases (ICD10 main)  \n",
       "32  0.008919                          Blood  \n",
       "33  0.008897                          Blood  \n",
       "34  0.008895             Early life factors  \n",
       "35  0.008877                    Blood count  \n",
       "36  0.008843             Impedance measures  \n",
       "37  0.008839             Employment history  \n",
       "38  0.008828                 Sexual factors  \n",
       "39  0.008821                    Blood count  \n",
       "40  0.008807             Body size measures  \n",
       "41  0.008792                    Blood count  \n",
       "42  0.008778                     Spirometry  \n",
       "43  0.008766                    Blood count  \n",
       "44  0.008726     Milk/eggs/cheese yesterday  \n",
       "45  0.008716             Diseases (FinnGen)  \n",
       "46  0.008715             Early life factors  \n",
       "47  0.008707                     Medication  \n",
       "48  0.008706             Employment history  \n",
       "49  0.008693                 Family history  \n",
       "50  0.008685             Employment history  \n",
       "51  0.008682             Impedance measures  \n",
       "52  0.008681                      Reception  \n",
       "53  0.008678             Impedance measures  \n",
       "54  0.008672             Impedance measures  \n",
       "55  0.008672             Impedance measures  \n",
       "56  0.008669              Physical activity  \n",
       "57  0.008668                 Blood pressure  \n",
       "58  0.008659                    Medications  \n",
       "59  0.008634             Employment history  \n",
       "60  0.008633             Employment history  \n",
       "61  0.008619                    Blood count  \n",
       "62  0.008603                 Sexual factors  \n",
       "63  0.008579                    Blood count  \n",
       "64  0.008578                  Reaction time  \n",
       "65  0.008573                       Eyesight  \n",
       "66  0.008568         Psychiatric-neurologic  \n",
       "67  0.008566                           Diet  \n",
       "68  0.008566             Diseases (FinnGen)  \n",
       "69  0.008565                    Blood count  \n",
       "70  0.008560          Diseases (ICD10 main)  \n",
       "71  0.008546                           Diet  \n",
       "72  0.008545                           Diet  \n",
       "73  0.008542                        Alcohol  \n",
       "74  0.008535                    Blood count  \n",
       "75  0.008521                    Medications  \n",
       "76  0.008515                 Autorefraction  \n",
       "77  0.008497                  Reaction time  \n",
       "78  0.008497                           Diet  \n",
       "79  0.008486                   Urine assays  \n",
       "80  0.008484        Female-specific factors  \n",
       "81  0.008483                          Blood  \n",
       "82  0.008468                    Medications  \n",
       "83  0.008466                    Medications  \n",
       "84  0.008465      Diseases (cardiovascular)  \n",
       "85  0.008457             Diseases (FinnGen)  \n",
       "86  0.008445             Diseases (FinnGen)  \n",
       "87  0.008441                    Blood count  \n",
       "88  0.008433                    Medications  \n",
       "89  0.008428                    Blood count  \n",
       "90  0.008415                   Sun exposure  \n",
       "91  0.008415  Estimated nutrients yesterday  \n",
       "92  0.008415                     Medication  \n",
       "93  0.008414                 Death register  \n",
       "94  0.008412             Medical conditions  \n",
       "95  0.008410                           Pain  \n",
       "96  0.008404      Diseases (cardiovascular)  \n",
       "97  0.008399                   Sun exposure  \n",
       "98  0.008398                         Cancer  \n",
       "99  0.008396                 Family history  "
      ]
     },
     "metadata": {},
     "output_type": "display_data"
    }
   ],
   "source": [
    "with pd.option_context(\n",
    "    \"display.max_rows\", None, \"display.max_columns\", None, \"max_colwidth\", None\n",
    "):\n",
    "    display(top_traits)"
   ]
  },
  {
   "cell_type": "markdown",
   "metadata": {
    "papermill": {
     "duration": 0.020416,
     "end_time": "2021-03-25T19:58:56.820912",
     "exception": false,
     "start_time": "2021-03-25T19:58:56.800496",
     "status": "completed"
    },
    "tags": []
   },
   "source": [
    "# Summary using trait categories"
   ]
  },
  {
   "cell_type": "code",
   "execution_count": 35,
   "metadata": {
    "execution": {
     "iopub.execute_input": "2021-03-25T19:58:56.864460Z",
     "iopub.status.busy": "2021-03-25T19:58:56.864058Z",
     "iopub.status.idle": "2021-03-25T19:58:56.873396Z",
     "shell.execute_reply": "2021-03-25T19:58:56.873034Z"
    },
    "papermill": {
     "duration": 0.03233,
     "end_time": "2021-03-25T19:58:56.873475",
     "exception": false,
     "start_time": "2021-03-25T19:58:56.841145",
     "status": "completed"
    },
    "tags": []
   },
   "outputs": [],
   "source": [
    "top_traits_categories = (\n",
    "    top_traits.groupby(\"category\")\n",
    "    .mean()\n",
    "    .sort_values(\"value\", ascending=False)\n",
    "    .reset_index()\n",
    ")"
   ]
  },
  {
   "cell_type": "code",
   "execution_count": 36,
   "metadata": {
    "execution": {
     "iopub.execute_input": "2021-03-25T19:58:56.917347Z",
     "iopub.status.busy": "2021-03-25T19:58:56.916984Z",
     "iopub.status.idle": "2021-03-25T19:58:56.927443Z",
     "shell.execute_reply": "2021-03-25T19:58:56.927079Z"
    },
    "papermill": {
     "duration": 0.03301,
     "end_time": "2021-03-25T19:58:56.927527",
     "exception": false,
     "start_time": "2021-03-25T19:58:56.894517",
     "status": "completed"
    },
    "tags": []
   },
   "outputs": [
    {
     "data": {
      "text/html": [
       "<div>\n",
       "<style scoped>\n",
       "    .dataframe tbody tr th:only-of-type {\n",
       "        vertical-align: middle;\n",
       "    }\n",
       "\n",
       "    .dataframe tbody tr th {\n",
       "        vertical-align: top;\n",
       "    }\n",
       "\n",
       "    .dataframe thead th {\n",
       "        text-align: right;\n",
       "    }\n",
       "</style>\n",
       "<table border=\"1\" class=\"dataframe\">\n",
       "  <thead>\n",
       "    <tr style=\"text-align: right;\">\n",
       "      <th></th>\n",
       "      <th>category</th>\n",
       "      <th>value</th>\n",
       "    </tr>\n",
       "  </thead>\n",
       "  <tbody>\n",
       "    <tr>\n",
       "      <th>0</th>\n",
       "      <td>Blood count</td>\n",
       "      <td>0.009015</td>\n",
       "    </tr>\n",
       "    <tr>\n",
       "      <th>1</th>\n",
       "      <td>Impedance measures</td>\n",
       "      <td>0.009012</td>\n",
       "    </tr>\n",
       "    <tr>\n",
       "      <th>2</th>\n",
       "      <td>Blood</td>\n",
       "      <td>0.008935</td>\n",
       "    </tr>\n",
       "    <tr>\n",
       "      <th>3</th>\n",
       "      <td>Body size measures</td>\n",
       "      <td>0.008902</td>\n",
       "    </tr>\n",
       "    <tr>\n",
       "      <th>4</th>\n",
       "      <td>Sun exposure</td>\n",
       "      <td>0.008825</td>\n",
       "    </tr>\n",
       "  </tbody>\n",
       "</table>\n",
       "</div>"
      ],
      "text/plain": [
       "             category     value\n",
       "0         Blood count  0.009015\n",
       "1  Impedance measures  0.009012\n",
       "2               Blood  0.008935\n",
       "3  Body size measures  0.008902\n",
       "4        Sun exposure  0.008825"
      ]
     },
     "execution_count": 36,
     "metadata": {},
     "output_type": "execute_result"
    }
   ],
   "source": [
    "top_traits_categories.head()"
   ]
  },
  {
   "cell_type": "code",
   "execution_count": 37,
   "metadata": {
    "execution": {
     "iopub.execute_input": "2021-03-25T19:58:56.973066Z",
     "iopub.status.busy": "2021-03-25T19:58:56.972656Z",
     "iopub.status.idle": "2021-03-25T19:58:56.984541Z",
     "shell.execute_reply": "2021-03-25T19:58:56.984197Z"
    },
    "papermill": {
     "duration": 0.035566,
     "end_time": "2021-03-25T19:58:56.984639",
     "exception": false,
     "start_time": "2021-03-25T19:58:56.949073",
     "status": "completed"
    },
    "tags": []
   },
   "outputs": [
    {
     "data": {
      "text/html": [
       "<div>\n",
       "<style scoped>\n",
       "    .dataframe tbody tr th:only-of-type {\n",
       "        vertical-align: middle;\n",
       "    }\n",
       "\n",
       "    .dataframe tbody tr th {\n",
       "        vertical-align: top;\n",
       "    }\n",
       "\n",
       "    .dataframe thead th {\n",
       "        text-align: right;\n",
       "    }\n",
       "</style>\n",
       "<table border=\"1\" class=\"dataframe\">\n",
       "  <thead>\n",
       "    <tr style=\"text-align: right;\">\n",
       "      <th></th>\n",
       "      <th>category</th>\n",
       "      <th>value</th>\n",
       "    </tr>\n",
       "  </thead>\n",
       "  <tbody>\n",
       "    <tr>\n",
       "      <th>0</th>\n",
       "      <td>Blood count</td>\n",
       "      <td>0.009015</td>\n",
       "    </tr>\n",
       "    <tr>\n",
       "      <th>1</th>\n",
       "      <td>Impedance measures</td>\n",
       "      <td>0.009012</td>\n",
       "    </tr>\n",
       "    <tr>\n",
       "      <th>2</th>\n",
       "      <td>Blood</td>\n",
       "      <td>0.008935</td>\n",
       "    </tr>\n",
       "    <tr>\n",
       "      <th>3</th>\n",
       "      <td>Body size measures</td>\n",
       "      <td>0.008902</td>\n",
       "    </tr>\n",
       "    <tr>\n",
       "      <th>4</th>\n",
       "      <td>Sun exposure</td>\n",
       "      <td>0.008825</td>\n",
       "    </tr>\n",
       "    <tr>\n",
       "      <th>5</th>\n",
       "      <td>Early life factors</td>\n",
       "      <td>0.008805</td>\n",
       "    </tr>\n",
       "    <tr>\n",
       "      <th>6</th>\n",
       "      <td>Spirometry</td>\n",
       "      <td>0.008778</td>\n",
       "    </tr>\n",
       "    <tr>\n",
       "      <th>7</th>\n",
       "      <td>Diseases (ICD10 main)</td>\n",
       "      <td>0.008744</td>\n",
       "    </tr>\n",
       "    <tr>\n",
       "      <th>8</th>\n",
       "      <td>Milk/eggs/cheese yesterday</td>\n",
       "      <td>0.008726</td>\n",
       "    </tr>\n",
       "    <tr>\n",
       "      <th>9</th>\n",
       "      <td>Female-specific factors</td>\n",
       "      <td>0.008716</td>\n",
       "    </tr>\n",
       "    <tr>\n",
       "      <th>10</th>\n",
       "      <td>Sexual factors</td>\n",
       "      <td>0.008715</td>\n",
       "    </tr>\n",
       "    <tr>\n",
       "      <th>11</th>\n",
       "      <td>Employment history</td>\n",
       "      <td>0.008699</td>\n",
       "    </tr>\n",
       "    <tr>\n",
       "      <th>12</th>\n",
       "      <td>Reception</td>\n",
       "      <td>0.008681</td>\n",
       "    </tr>\n",
       "    <tr>\n",
       "      <th>13</th>\n",
       "      <td>Physical activity</td>\n",
       "      <td>0.008669</td>\n",
       "    </tr>\n",
       "    <tr>\n",
       "      <th>14</th>\n",
       "      <td>Blood pressure</td>\n",
       "      <td>0.008668</td>\n",
       "    </tr>\n",
       "    <tr>\n",
       "      <th>15</th>\n",
       "      <td>Eyesight</td>\n",
       "      <td>0.008573</td>\n",
       "    </tr>\n",
       "    <tr>\n",
       "      <th>16</th>\n",
       "      <td>Psychiatric-neurologic</td>\n",
       "      <td>0.008568</td>\n",
       "    </tr>\n",
       "    <tr>\n",
       "      <th>17</th>\n",
       "      <td>Medication</td>\n",
       "      <td>0.008561</td>\n",
       "    </tr>\n",
       "    <tr>\n",
       "      <th>18</th>\n",
       "      <td>Diseases (FinnGen)</td>\n",
       "      <td>0.008546</td>\n",
       "    </tr>\n",
       "    <tr>\n",
       "      <th>19</th>\n",
       "      <td>Family history</td>\n",
       "      <td>0.008544</td>\n",
       "    </tr>\n",
       "    <tr>\n",
       "      <th>20</th>\n",
       "      <td>Alcohol</td>\n",
       "      <td>0.008542</td>\n",
       "    </tr>\n",
       "    <tr>\n",
       "      <th>21</th>\n",
       "      <td>Diet</td>\n",
       "      <td>0.008538</td>\n",
       "    </tr>\n",
       "    <tr>\n",
       "      <th>22</th>\n",
       "      <td>Reaction time</td>\n",
       "      <td>0.008538</td>\n",
       "    </tr>\n",
       "    <tr>\n",
       "      <th>23</th>\n",
       "      <td>Autorefraction</td>\n",
       "      <td>0.008515</td>\n",
       "    </tr>\n",
       "    <tr>\n",
       "      <th>24</th>\n",
       "      <td>Medications</td>\n",
       "      <td>0.008510</td>\n",
       "    </tr>\n",
       "    <tr>\n",
       "      <th>25</th>\n",
       "      <td>Urine assays</td>\n",
       "      <td>0.008486</td>\n",
       "    </tr>\n",
       "    <tr>\n",
       "      <th>26</th>\n",
       "      <td>Diseases (cardiovascular)</td>\n",
       "      <td>0.008434</td>\n",
       "    </tr>\n",
       "    <tr>\n",
       "      <th>27</th>\n",
       "      <td>Estimated nutrients yesterday</td>\n",
       "      <td>0.008415</td>\n",
       "    </tr>\n",
       "    <tr>\n",
       "      <th>28</th>\n",
       "      <td>Death register</td>\n",
       "      <td>0.008414</td>\n",
       "    </tr>\n",
       "    <tr>\n",
       "      <th>29</th>\n",
       "      <td>Medical conditions</td>\n",
       "      <td>0.008412</td>\n",
       "    </tr>\n",
       "    <tr>\n",
       "      <th>30</th>\n",
       "      <td>Pain</td>\n",
       "      <td>0.008410</td>\n",
       "    </tr>\n",
       "    <tr>\n",
       "      <th>31</th>\n",
       "      <td>Cancer</td>\n",
       "      <td>0.008398</td>\n",
       "    </tr>\n",
       "  </tbody>\n",
       "</table>\n",
       "</div>"
      ],
      "text/plain": [
       "                         category     value\n",
       "0                     Blood count  0.009015\n",
       "1              Impedance measures  0.009012\n",
       "2                           Blood  0.008935\n",
       "3              Body size measures  0.008902\n",
       "4                    Sun exposure  0.008825\n",
       "5              Early life factors  0.008805\n",
       "6                      Spirometry  0.008778\n",
       "7           Diseases (ICD10 main)  0.008744\n",
       "8      Milk/eggs/cheese yesterday  0.008726\n",
       "9         Female-specific factors  0.008716\n",
       "10                 Sexual factors  0.008715\n",
       "11             Employment history  0.008699\n",
       "12                      Reception  0.008681\n",
       "13              Physical activity  0.008669\n",
       "14                 Blood pressure  0.008668\n",
       "15                       Eyesight  0.008573\n",
       "16         Psychiatric-neurologic  0.008568\n",
       "17                     Medication  0.008561\n",
       "18             Diseases (FinnGen)  0.008546\n",
       "19                 Family history  0.008544\n",
       "20                        Alcohol  0.008542\n",
       "21                           Diet  0.008538\n",
       "22                  Reaction time  0.008538\n",
       "23                 Autorefraction  0.008515\n",
       "24                    Medications  0.008510\n",
       "25                   Urine assays  0.008486\n",
       "26      Diseases (cardiovascular)  0.008434\n",
       "27  Estimated nutrients yesterday  0.008415\n",
       "28                 Death register  0.008414\n",
       "29             Medical conditions  0.008412\n",
       "30                           Pain  0.008410\n",
       "31                         Cancer  0.008398"
      ]
     },
     "metadata": {},
     "output_type": "display_data"
    }
   ],
   "source": [
    "with pd.option_context(\n",
    "    \"display.max_rows\", None, \"display.max_columns\", None, \"max_colwidth\", None\n",
    "):\n",
    "    display(top_traits_categories)"
   ]
  },
  {
   "cell_type": "code",
   "execution_count": 38,
   "metadata": {
    "execution": {
     "iopub.execute_input": "2021-03-25T19:58:57.034560Z",
     "iopub.status.busy": "2021-03-25T19:58:57.034121Z",
     "iopub.status.idle": "2021-03-25T19:58:57.152063Z",
     "shell.execute_reply": "2021-03-25T19:58:57.152355Z"
    },
    "papermill": {
     "duration": 0.143888,
     "end_time": "2021-03-25T19:58:57.152454",
     "exception": false,
     "start_time": "2021-03-25T19:58:57.008566",
     "status": "completed"
    },
    "tags": []
   },
   "outputs": [
    {
     "data": {
      "text/html": [
       "<h2>Blood count</h2>"
      ],
      "text/plain": [
       "<IPython.core.display.HTML object>"
      ]
     },
     "metadata": {},
     "output_type": "display_data"
    },
    {
     "data": {
      "text/plain": [
       "trait\n",
       "30110_raw-Platelet_distribution_width                   0.008428\n",
       "30280_raw-Immature_reticulocyte_fraction                0.008441\n",
       "30030_raw-Haematocrit_percentage                        0.008535\n",
       "30160-Basophill_count                                   0.008565\n",
       "30190_raw-Monocyte_percentage                           0.008579\n",
       "30240_raw-Reticulocyte_percentage                       0.008619\n",
       "30120_raw-Lymphocyte_count                              0.008766\n",
       "30290_raw-High_light_scatter_reticulocyte_percentage    0.008792\n",
       "30090_raw-Platelet_crit                                 0.008821\n",
       "30250_raw-Reticulocyte_count                            0.008877\n",
       "30300_raw-High_light_scatter_reticulocyte_count         0.009012\n",
       "30050_raw-Mean_corpuscular_haemoglobin                  0.009132\n",
       "30260_raw-Mean_reticulocyte_volume                      0.009170\n",
       "30000_raw-White_blood_cell_leukocyte_count              0.009250\n",
       "30270_raw-Mean_sphered_cell_volume                      0.009252\n",
       "30040_raw-Mean_corpuscular_volume                       0.009309\n",
       "30010_raw-Red_blood_cell_erythrocyte_count              0.009362\n",
       "30140_raw-Neutrophill_count                             0.009544\n",
       "30200_raw-Neutrophill_percentage                        0.009718\n",
       "30180_raw-Lymphocyte_percentage                         0.010133\n",
       "Name: value, dtype: float64"
      ]
     },
     "metadata": {},
     "output_type": "display_data"
    },
    {
     "data": {
      "text/html": [
       "<h2>Impedance measures</h2>"
      ],
      "text/plain": [
       "<IPython.core.display.HTML object>"
      ]
     },
     "metadata": {},
     "output_type": "display_data"
    },
    {
     "data": {
      "text/plain": [
       "trait\n",
       "23114_raw-Leg_predicted_mass_right    0.008672\n",
       "23118_raw-Leg_predicted_mass_left     0.008672\n",
       "23117_raw-Leg_fatfree_mass_left       0.008678\n",
       "23113_raw-Leg_fatfree_mass_right      0.008682\n",
       "23106_raw-Impedance_of_whole_body     0.008843\n",
       "23105_raw-Basal_metabolic_rate        0.008934\n",
       "23121_raw-Arm_fatfree_mass_right      0.009088\n",
       "23122_raw-Arm_predicted_mass_right    0.009095\n",
       "23126_raw-Arm_predicted_mass_left     0.009100\n",
       "23101_raw-Whole_body_fatfree_mass     0.009124\n",
       "23109_raw-Impedance_of_arm_right      0.009134\n",
       "23102_raw-Whole_body_water_mass       0.009150\n",
       "23110_raw-Impedance_of_arm_left       0.009177\n",
       "23125_raw-Arm_fatfree_mass_left       0.009179\n",
       "23129_raw-Trunk_fatfree_mass          0.009327\n",
       "23130_raw-Trunk_predicted_mass        0.009334\n",
       "Name: value, dtype: float64"
      ]
     },
     "metadata": {},
     "output_type": "display_data"
    },
    {
     "data": {
      "text/html": [
       "<h2>Blood</h2>"
      ],
      "text/plain": [
       "<IPython.core.display.HTML object>"
      ]
     },
     "metadata": {},
     "output_type": "display_data"
    },
    {
     "data": {
      "text/plain": [
       "trait\n",
       "monocyte count                             0.008483\n",
       "myeloid white cell count                   0.008897\n",
       "granulocyte count                          0.008919\n",
       "sum of neutrophil and eosinophil counts    0.008931\n",
       "sum of basophil and neutrophil counts      0.008950\n",
       "neutrophil count                           0.008952\n",
       "leukocyte count                            0.009006\n",
       "lymphocyte count                           0.009343\n",
       "Name: value, dtype: float64"
      ]
     },
     "metadata": {},
     "output_type": "display_data"
    },
    {
     "data": {
      "text/html": [
       "<h2>Body size measures</h2>"
      ],
      "text/plain": [
       "<IPython.core.display.HTML object>"
      ]
     },
     "metadata": {},
     "output_type": "display_data"
    },
    {
     "data": {
      "text/plain": [
       "trait\n",
       "50_raw-Standing_height      0.008807\n",
       "20015_raw-Sitting_height    0.008996\n",
       "Name: value, dtype: float64"
      ]
     },
     "metadata": {},
     "output_type": "display_data"
    },
    {
     "data": {
      "text/html": [
       "<h2>Sun exposure</h2>"
      ],
      "text/plain": [
       "<IPython.core.display.HTML object>"
      ]
     },
     "metadata": {},
     "output_type": "display_data"
    },
    {
     "data": {
      "text/plain": [
       "trait\n",
       "1050-Time_spend_outdoors_in_summer               0.008399\n",
       "1737-Childhood_sunburn_occasions                 0.008415\n",
       "1727-Ease_of_skin_tanning                        0.009030\n",
       "1747_2-Hair_colour_natural_before_greying_Red    0.009072\n",
       "1717-Skin_colour                                 0.009208\n",
       "Name: value, dtype: float64"
      ]
     },
     "metadata": {},
     "output_type": "display_data"
    },
    {
     "data": {
      "text/html": [
       "<h2>Early life factors</h2>"
      ],
      "text/plain": [
       "<IPython.core.display.HTML object>"
      ]
     },
     "metadata": {},
     "output_type": "display_data"
    },
    {
     "data": {
      "text/plain": [
       "trait\n",
       "20022_raw-Birth_weight    0.008715\n",
       "body height               0.008895\n",
       "Name: value, dtype: float64"
      ]
     },
     "metadata": {},
     "output_type": "display_data"
    },
    {
     "data": {
      "text/html": [
       "<h2>Spirometry</h2>"
      ],
      "text/plain": [
       "<IPython.core.display.HTML object>"
      ]
     },
     "metadata": {},
     "output_type": "display_data"
    },
    {
     "data": {
      "text/plain": [
       "trait\n",
       "20153_raw-Forced_expiratory_volume_in_1second_FEV1_predicted    0.008778\n",
       "Name: value, dtype: float64"
      ]
     },
     "metadata": {},
     "output_type": "display_data"
    },
    {
     "data": {
      "text/html": [
       "<h2>Diseases (ICD10 main)</h2>"
      ],
      "text/plain": [
       "<IPython.core.display.HTML object>"
      ]
     },
     "metadata": {},
     "output_type": "display_data"
    },
    {
     "data": {
      "text/plain": [
       "trait\n",
       "sleep disorder          0.008560\n",
       "rheumatoid arthritis    0.008929\n",
       "Name: value, dtype: float64"
      ]
     },
     "metadata": {},
     "output_type": "display_data"
    },
    {
     "data": {
      "text/html": [
       "<h2>Milk/eggs/cheese yesterday</h2>"
      ],
      "text/plain": [
       "<IPython.core.display.HTML object>"
      ]
     },
     "metadata": {},
     "output_type": "display_data"
    },
    {
     "data": {
      "text/plain": [
       "trait\n",
       "100920_2102-Type_milk_consumed_semiskimmed    0.008726\n",
       "Name: value, dtype: float64"
      ]
     },
     "metadata": {},
     "output_type": "display_data"
    },
    {
     "data": {
      "text/html": [
       "<h2>Female-specific factors</h2>"
      ],
      "text/plain": [
       "<IPython.core.display.HTML object>"
      ]
     },
     "metadata": {},
     "output_type": "display_data"
    },
    {
     "data": {
      "text/plain": [
       "trait\n",
       "2764_raw-Age_at_last_live_birth                    0.008484\n",
       "3581_raw-Age_at_menopause_last_menstrual_period    0.008947\n",
       "Name: value, dtype: float64"
      ]
     },
     "metadata": {},
     "output_type": "display_data"
    },
    {
     "data": {
      "text/html": [
       "<h2>Sexual factors</h2>"
      ],
      "text/plain": [
       "<IPython.core.display.HTML object>"
      ]
     },
     "metadata": {},
     "output_type": "display_data"
    },
    {
     "data": {
      "text/plain": [
       "trait\n",
       "2159-Ever_had_samesex_intercourse          0.008603\n",
       "2149-Lifetime_number_of_sexual_partners    0.008828\n",
       "Name: value, dtype: float64"
      ]
     },
     "metadata": {},
     "output_type": "display_data"
    },
    {
     "data": {
      "text/html": [
       "<h2>Employment history</h2>"
      ],
      "text/plain": [
       "<IPython.core.display.HTML object>"
      ]
     },
     "metadata": {},
     "output_type": "display_data"
    },
    {
     "data": {
      "text/plain": [
       "trait\n",
       "22601_21253043-Job_coding_chemical_engineer_plastics_engineer_pharmaceutical_engineer    0.008633\n",
       "22617_2125-Job_SOC_coding_Chemical_engineers                                             0.008634\n",
       "22601_51112476-Job_coding_farmer_farming_contractor_herd_manager_smallholder_bailiff     0.008685\n",
       "22617_5111-Job_SOC_coding_Farmers                                                        0.008706\n",
       "22617_5216-Job_SOC_coding_Pipe_fitters                                                   0.008839\n",
       "Name: value, dtype: float64"
      ]
     },
     "metadata": {},
     "output_type": "display_data"
    },
    {
     "data": {
      "text/html": [
       "<h2>Reception</h2>"
      ],
      "text/plain": [
       "<IPython.core.display.HTML object>"
      ]
     },
     "metadata": {},
     "output_type": "display_data"
    },
    {
     "data": {
      "text/plain": [
       "trait\n",
       "20118_7-Home_area_population_density_urban_or_rural_EnglandWales_Village_less_sparse    0.008681\n",
       "Name: value, dtype: float64"
      ]
     },
     "metadata": {},
     "output_type": "display_data"
    },
    {
     "data": {
      "text/html": [
       "<h2>Physical activity</h2>"
      ],
      "text/plain": [
       "<IPython.core.display.HTML object>"
      ]
     },
     "metadata": {},
     "output_type": "display_data"
    },
    {
     "data": {
      "text/plain": [
       "trait\n",
       "894-Duration_of_moderate_activity    0.008669\n",
       "Name: value, dtype: float64"
      ]
     },
     "metadata": {},
     "output_type": "display_data"
    },
    {
     "data": {
      "text/html": [
       "<h2>Blood pressure</h2>"
      ],
      "text/plain": [
       "<IPython.core.display.HTML object>"
      ]
     },
     "metadata": {},
     "output_type": "display_data"
    },
    {
     "data": {
      "text/plain": [
       "trait\n",
       "4080_raw-Systolic_blood_pressure_automated_reading    0.008668\n",
       "Name: value, dtype: float64"
      ]
     },
     "metadata": {},
     "output_type": "display_data"
    },
    {
     "data": {
      "text/html": [
       "<h2>Eyesight</h2>"
      ],
      "text/plain": [
       "<IPython.core.display.HTML object>"
      ]
     },
     "metadata": {},
     "output_type": "display_data"
    },
    {
     "data": {
      "text/plain": [
       "trait\n",
       "5610_1-Which_eyes_affected_by_presbyopia_Right_eye    0.008573\n",
       "Name: value, dtype: float64"
      ]
     },
     "metadata": {},
     "output_type": "display_data"
    },
    {
     "data": {
      "text/html": [
       "<h2>Psychiatric-neurologic</h2>"
      ],
      "text/plain": [
       "<IPython.core.display.HTML object>"
      ]
     },
     "metadata": {},
     "output_type": "display_data"
    },
    {
     "data": {
      "text/plain": [
       "trait\n",
       "attention deficit hyperactivity disorder    0.008568\n",
       "Name: value, dtype: float64"
      ]
     },
     "metadata": {},
     "output_type": "display_data"
    },
    {
     "data": {
      "text/html": [
       "<h2>Medication</h2>"
      ],
      "text/plain": [
       "<IPython.core.display.HTML object>"
      ]
     },
     "metadata": {},
     "output_type": "display_data"
    },
    {
     "data": {
      "text/plain": [
       "trait\n",
       "6177_1-Medication_for_cholesterol_blood_pressure_or_diabetes_Cholesterol_lowering_medication    0.008415\n",
       "6177_100-Medication_for_cholesterol_blood_pressure_or_diabetes_None_of_the_above                0.008707\n",
       "Name: value, dtype: float64"
      ]
     },
     "metadata": {},
     "output_type": "display_data"
    },
    {
     "data": {
      "text/html": [
       "<h2>Diseases (FinnGen)</h2>"
      ],
      "text/plain": [
       "<IPython.core.display.HTML object>"
      ]
     },
     "metadata": {},
     "output_type": "display_data"
    },
    {
     "data": {
      "text/plain": [
       "trait\n",
       "M13_DUPUTRYEN-Palmar_fascial_fibromatosis_Dupuytren    0.008445\n",
       "RHEUMA_SEROPOS-Seropositive_rheumatoid_arthritis       0.008457\n",
       "SLEEP-Sleep_disorders_combined                         0.008566\n",
       "G6_SLEEPAPNO-Sleep_apnoea                              0.008716\n",
       "Name: value, dtype: float64"
      ]
     },
     "metadata": {},
     "output_type": "display_data"
    },
    {
     "data": {
      "text/html": [
       "<h2>Family history</h2>"
      ],
      "text/plain": [
       "<IPython.core.display.HTML object>"
      ]
     },
     "metadata": {},
     "output_type": "display_data"
    },
    {
     "data": {
      "text/plain": [
       "trait\n",
       "20107_1-Illnesses_of_father_Heart_disease                  0.008396\n",
       "20107_101-Illnesses_of_father_None_of_the_above_group_2    0.008693\n",
       "Name: value, dtype: float64"
      ]
     },
     "metadata": {},
     "output_type": "display_data"
    },
    {
     "data": {
      "text/html": [
       "<h2>Alcohol</h2>"
      ],
      "text/plain": [
       "<IPython.core.display.HTML object>"
      ]
     },
     "metadata": {},
     "output_type": "display_data"
    },
    {
     "data": {
      "text/plain": [
       "trait\n",
       "2664_4-Reason_for_reducing_amount_of_alcohol_drunk_Financial_reasons    0.008542\n",
       "Name: value, dtype: float64"
      ]
     },
     "metadata": {},
     "output_type": "display_data"
    },
    {
     "data": {
      "text/html": [
       "<h2>Diet</h2>"
      ],
      "text/plain": [
       "<IPython.core.display.HTML object>"
      ]
     },
     "metadata": {},
     "output_type": "display_data"
    },
    {
     "data": {
      "text/plain": [
       "trait\n",
       "1478-Salt_added_to_food    0.008497\n",
       "1379-Lambmutton_intake     0.008545\n",
       "1528-Water_intake          0.008546\n",
       "1448_1-Bread_type_White    0.008566\n",
       "Name: value, dtype: float64"
      ]
     },
     "metadata": {},
     "output_type": "display_data"
    },
    {
     "data": {
      "text/html": [
       "<h2>Reaction time</h2>"
      ],
      "text/plain": [
       "<IPython.core.display.HTML object>"
      ]
     },
     "metadata": {},
     "output_type": "display_data"
    },
    {
     "data": {
      "text/plain": [
       "trait\n",
       "404_raw-Duration_to_first_press_of_snapbutton_in_each_round    0.008497\n",
       "20023_raw-Mean_time_to_correctly_identify_matches              0.008578\n",
       "Name: value, dtype: float64"
      ]
     },
     "metadata": {},
     "output_type": "display_data"
    },
    {
     "data": {
      "text/html": [
       "<h2>Autorefraction</h2>"
      ],
      "text/plain": [
       "<IPython.core.display.HTML object>"
      ]
     },
     "metadata": {},
     "output_type": "display_data"
    },
    {
     "data": {
      "text/plain": [
       "trait\n",
       "5111_raw-3mm_asymmetry_angle_left    0.008515\n",
       "Name: value, dtype: float64"
      ]
     },
     "metadata": {},
     "output_type": "display_data"
    },
    {
     "data": {
      "text/html": [
       "<h2>Medications</h2>"
      ],
      "text/plain": [
       "<IPython.core.display.HTML object>"
      ]
     },
     "metadata": {},
     "output_type": "display_data"
    },
    {
     "data": {
      "text/plain": [
       "trait\n",
       "20003_1141167334-Treatmentmedication_code_colofac100_tablet                   0.008433\n",
       "20003_1140861958-Treatmentmedication_code_simvastatin                         0.008466\n",
       "20003_1141195224-Treatmentmedication_code_formoterol                          0.008468\n",
       "20003_1141164086-Treatmentmedication_code_salmeterolfluticasone_propionate    0.008521\n",
       "20003_1141146188-Treatmentmedication_code_latanoprost                         0.008659\n",
       "Name: value, dtype: float64"
      ]
     },
     "metadata": {},
     "output_type": "display_data"
    },
    {
     "data": {
      "text/html": [
       "<h2>Urine assays</h2>"
      ],
      "text/plain": [
       "<IPython.core.display.HTML object>"
      ]
     },
     "metadata": {},
     "output_type": "display_data"
    },
    {
     "data": {
      "text/plain": [
       "trait\n",
       "30510_raw-Creatinine_enzymatic_in_urine    0.008486\n",
       "Name: value, dtype: float64"
      ]
     },
     "metadata": {},
     "output_type": "display_data"
    },
    {
     "data": {
      "text/html": [
       "<h2>Diseases (cardiovascular)</h2>"
      ],
      "text/plain": [
       "<IPython.core.display.HTML object>"
      ]
     },
     "metadata": {},
     "output_type": "display_data"
    },
    {
     "data": {
      "text/plain": [
       "trait\n",
       "deep vein thrombosis                                        0.008404\n",
       "6150_2-Vascularheart_problems_diagnosed_by_doctor_Angina    0.008465\n",
       "Name: value, dtype: float64"
      ]
     },
     "metadata": {},
     "output_type": "display_data"
    },
    {
     "data": {
      "text/html": [
       "<h2>Estimated nutrients yesterday</h2>"
      ],
      "text/plain": [
       "<IPython.core.display.HTML object>"
      ]
     },
     "metadata": {},
     "output_type": "display_data"
    },
    {
     "data": {
      "text/plain": [
       "trait\n",
       "100018_raw-Retinol    0.008415\n",
       "Name: value, dtype: float64"
      ]
     },
     "metadata": {},
     "output_type": "display_data"
    },
    {
     "data": {
      "text/html": [
       "<h2>Death register</h2>"
      ],
      "text/plain": [
       "<IPython.core.display.HTML object>"
      ]
     },
     "metadata": {},
     "output_type": "display_data"
    },
    {
     "data": {
      "text/plain": [
       "trait\n",
       "40001_C439-Underlying_primary_cause_of_death_ICD10_C439_Malignant_melanoma_of_skin_unspecified    0.008414\n",
       "Name: value, dtype: float64"
      ]
     },
     "metadata": {},
     "output_type": "display_data"
    },
    {
     "data": {
      "text/html": [
       "<h2>Medical conditions</h2>"
      ],
      "text/plain": [
       "<IPython.core.display.HTML object>"
      ]
     },
     "metadata": {},
     "output_type": "display_data"
    },
    {
     "data": {
      "text/plain": [
       "trait\n",
       "3894_raw-Age_heart_attack_diagnosed    0.008412\n",
       "Name: value, dtype: float64"
      ]
     },
     "metadata": {},
     "output_type": "display_data"
    },
    {
     "data": {
      "text/html": [
       "<h2>Pain</h2>"
      ],
      "text/plain": [
       "<IPython.core.display.HTML object>"
      ]
     },
     "metadata": {},
     "output_type": "display_data"
    },
    {
     "data": {
      "text/plain": [
       "trait\n",
       "chronic pain    0.00841\n",
       "Name: value, dtype: float64"
      ]
     },
     "metadata": {},
     "output_type": "display_data"
    },
    {
     "data": {
      "text/html": [
       "<h2>Cancer</h2>"
      ],
      "text/plain": [
       "<IPython.core.display.HTML object>"
      ]
     },
     "metadata": {},
     "output_type": "display_data"
    },
    {
     "data": {
      "text/plain": [
       "trait\n",
       "estrogen-receptor negative breast cancer    0.008398\n",
       "Name: value, dtype: float64"
      ]
     },
     "metadata": {},
     "output_type": "display_data"
    }
   ],
   "source": [
    "for row_idx, row in top_traits_categories.iterrows():\n",
    "    category = row[\"category\"]\n",
    "    display(HTML(f\"<h2>{category}</h2>\"))\n",
    "\n",
    "    _df = (\n",
    "        top_traits[top_traits[\"category\"] == category]\n",
    "        .groupby(\"trait\")[\"value\"]\n",
    "        .mean()\n",
    "        .sort_values()\n",
    "    )\n",
    "    display(_df)"
   ]
  },
  {
   "cell_type": "code",
   "execution_count": null,
   "metadata": {
    "papermill": {
     "duration": 0.035479,
     "end_time": "2021-03-25T19:58:57.225328",
     "exception": false,
     "start_time": "2021-03-25T19:58:57.189849",
     "status": "completed"
    },
    "tags": []
   },
   "outputs": [],
   "source": []
  }
 ],
 "metadata": {
  "jupytext": {
   "cell_metadata_filter": "all,-execution,-papermill,-trusted",
   "formats": "ipynb,py//py:percent"
  },
  "kernelspec": {
   "display_name": "Python 3",
   "language": "python",
   "name": "python3"
  },
  "language_info": {
   "codemirror_mode": {
    "name": "ipython",
    "version": 3
   },
   "file_extension": ".py",
   "mimetype": "text/x-python",
   "name": "python",
   "nbconvert_exporter": "python",
   "pygments_lexer": "ipython3",
   "version": "3.8.8"
  },
  "papermill": {
   "default_parameters": {},
   "duration": 8.583062,
   "end_time": "2021-03-25T19:58:57.566737",
   "environment_variables": {},
   "exception": null,
   "input_path": "30_validation/crispr_screen/040_10-deg_genes-single_gene-increase.ipynb",
   "output_path": "30_validation/crispr_screen/040_10-deg_genes-single_gene-increase.run.ipynb",
   "parameters": {},
   "start_time": "2021-03-25T19:58:48.983675",
   "version": "2.2.2"
  },
  "toc-autonumbering": true
 },
 "nbformat": 4,
 "nbformat_minor": 4
}
