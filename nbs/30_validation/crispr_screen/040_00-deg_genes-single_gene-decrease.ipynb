{
 "cells": [
  {
   "cell_type": "markdown",
   "metadata": {
    "papermill": {
     "duration": 0.017834,
     "end_time": "2021-03-25T19:58:40.508198",
     "exception": false,
     "start_time": "2021-03-25T19:58:40.490364",
     "status": "completed"
    },
    "tags": []
   },
   "source": [
    "# Description"
   ]
  },
  {
   "cell_type": "markdown",
   "metadata": {
    "papermill": {
     "duration": 0.013887,
     "end_time": "2021-03-25T19:58:40.535823",
     "exception": false,
     "start_time": "2021-03-25T19:58:40.521936",
     "status": "completed"
    },
    "tags": []
   },
   "source": [
    "TODO"
   ]
  },
  {
   "cell_type": "markdown",
   "metadata": {
    "papermill": {
     "duration": 0.013934,
     "end_time": "2021-03-25T19:58:40.563700",
     "exception": false,
     "start_time": "2021-03-25T19:58:40.549766",
     "status": "completed"
    },
    "tags": []
   },
   "source": [
    "# Modules loading"
   ]
  },
  {
   "cell_type": "code",
   "execution_count": 1,
   "metadata": {
    "execution": {
     "iopub.execute_input": "2021-03-25T19:58:40.597397Z",
     "iopub.status.busy": "2021-03-25T19:58:40.597026Z",
     "iopub.status.idle": "2021-03-25T19:58:40.604632Z",
     "shell.execute_reply": "2021-03-25T19:58:40.604208Z"
    },
    "papermill": {
     "duration": 0.027134,
     "end_time": "2021-03-25T19:58:40.604775",
     "exception": false,
     "start_time": "2021-03-25T19:58:40.577641",
     "status": "completed"
    },
    "tags": []
   },
   "outputs": [],
   "source": [
    "%load_ext autoreload\n",
    "%autoreload 2"
   ]
  },
  {
   "cell_type": "code",
   "execution_count": 2,
   "metadata": {
    "execution": {
     "iopub.execute_input": "2021-03-25T19:58:40.637336Z",
     "iopub.status.busy": "2021-03-25T19:58:40.636972Z",
     "iopub.status.idle": "2021-03-25T19:58:41.005452Z",
     "shell.execute_reply": "2021-03-25T19:58:41.005792Z"
    },
    "papermill": {
     "duration": 0.38609,
     "end_time": "2021-03-25T19:58:41.005916",
     "exception": false,
     "start_time": "2021-03-25T19:58:40.619826",
     "status": "completed"
    },
    "tags": []
   },
   "outputs": [],
   "source": [
    "from pathlib import Path\n",
    "\n",
    "import pandas as pd\n",
    "from IPython.display import HTML\n",
    "\n",
    "from entity import Trait, Gene\n",
    "from data.cache import read_data\n",
    "import conf"
   ]
  },
  {
   "cell_type": "markdown",
   "metadata": {
    "papermill": {
     "duration": 0.014622,
     "end_time": "2021-03-25T19:58:41.036351",
     "exception": false,
     "start_time": "2021-03-25T19:58:41.021729",
     "status": "completed"
    },
    "tags": []
   },
   "source": [
    "# Settings"
   ]
  },
  {
   "cell_type": "code",
   "execution_count": 3,
   "metadata": {
    "execution": {
     "iopub.execute_input": "2021-03-25T19:58:41.067040Z",
     "iopub.status.busy": "2021-03-25T19:58:41.066674Z",
     "iopub.status.idle": "2021-03-25T19:58:41.073891Z",
     "shell.execute_reply": "2021-03-25T19:58:41.073519Z"
    },
    "papermill": {
     "duration": 0.023557,
     "end_time": "2021-03-25T19:58:41.073987",
     "exception": false,
     "start_time": "2021-03-25T19:58:41.050430",
     "status": "completed"
    },
    "tags": []
   },
   "outputs": [],
   "source": [
    "EXPERIMENT_NAME = \"single_gene\"\n",
    "\n",
    "LIPIDS_GENE_SET = \"gene_set_decrease\"\n",
    "LIPIDS_GENE_SET_QUERY = \"(rank == -3) | (rank == -2)\""
   ]
  },
  {
   "cell_type": "code",
   "execution_count": 4,
   "metadata": {
    "execution": {
     "iopub.execute_input": "2021-03-25T19:58:41.105410Z",
     "iopub.status.busy": "2021-03-25T19:58:41.105050Z",
     "iopub.status.idle": "2021-03-25T19:58:41.116784Z",
     "shell.execute_reply": "2021-03-25T19:58:41.116441Z"
    },
    "papermill": {
     "duration": 0.028267,
     "end_time": "2021-03-25T19:58:41.116869",
     "exception": false,
     "start_time": "2021-03-25T19:58:41.088602",
     "status": "completed"
    },
    "tags": []
   },
   "outputs": [
    {
     "data": {
      "text/plain": [
       "PosixPath('/home/miltondp/projects/labs/greenelab/phenoplier/base/results/crispr_analyses/single_gene-gene_set_decrease')"
      ]
     },
     "metadata": {},
     "output_type": "display_data"
    }
   ],
   "source": [
    "OUTPUT_DIR = Path(\n",
    "    conf.RESULTS[\"CRISPR_ANALYSES\"][\"BASE_DIR\"], f\"{EXPERIMENT_NAME}-{LIPIDS_GENE_SET}\"\n",
    ")\n",
    "OUTPUT_DIR.mkdir(exist_ok=True, parents=True)\n",
    "display(OUTPUT_DIR)"
   ]
  },
  {
   "cell_type": "markdown",
   "metadata": {
    "papermill": {
     "duration": 0.014719,
     "end_time": "2021-03-25T19:58:41.146938",
     "exception": false,
     "start_time": "2021-03-25T19:58:41.132219",
     "status": "completed"
    },
    "tags": []
   },
   "source": [
    "# Data loading"
   ]
  },
  {
   "cell_type": "markdown",
   "metadata": {
    "papermill": {
     "duration": 0.014223,
     "end_time": "2021-03-25T19:58:41.175830",
     "exception": false,
     "start_time": "2021-03-25T19:58:41.161607",
     "status": "completed"
    },
    "tags": []
   },
   "source": [
    "## S-MultiXcan results"
   ]
  },
  {
   "cell_type": "markdown",
   "metadata": {
    "papermill": {
     "duration": 0.014289,
     "end_time": "2021-03-25T19:58:41.205069",
     "exception": false,
     "start_time": "2021-03-25T19:58:41.190780",
     "status": "completed"
    },
    "tags": []
   },
   "source": [
    "### Load"
   ]
  },
  {
   "cell_type": "code",
   "execution_count": 5,
   "metadata": {
    "execution": {
     "iopub.execute_input": "2021-03-25T19:58:41.237038Z",
     "iopub.status.busy": "2021-03-25T19:58:41.236634Z",
     "iopub.status.idle": "2021-03-25T19:58:41.244470Z",
     "shell.execute_reply": "2021-03-25T19:58:41.244099Z"
    },
    "papermill": {
     "duration": 0.024789,
     "end_time": "2021-03-25T19:58:41.244552",
     "exception": false,
     "start_time": "2021-03-25T19:58:41.219763",
     "status": "completed"
    },
    "tags": []
   },
   "outputs": [
    {
     "data": {
      "text/plain": [
       "PosixPath('/home/miltondp/projects/labs/greenelab/phenoplier/base/data/phenomexcan/gene_assoc/smultixcan-efo_partial-mashr-zscores.pkl')"
      ]
     },
     "metadata": {},
     "output_type": "display_data"
    }
   ],
   "source": [
    "smultixcan_results_filename = conf.PHENOMEXCAN[\n",
    "    \"SMULTIXCAN_EFO_PARTIAL_MASHR_ZSCORES_FILE\"\n",
    "]\n",
    "\n",
    "display(smultixcan_results_filename)"
   ]
  },
  {
   "cell_type": "code",
   "execution_count": 6,
   "metadata": {
    "execution": {
     "iopub.execute_input": "2021-03-25T19:58:41.277706Z",
     "iopub.status.busy": "2021-03-25T19:58:41.277349Z",
     "iopub.status.idle": "2021-03-25T19:58:41.542888Z",
     "shell.execute_reply": "2021-03-25T19:58:41.543218Z"
    },
    "papermill": {
     "duration": 0.283058,
     "end_time": "2021-03-25T19:58:41.543341",
     "exception": false,
     "start_time": "2021-03-25T19:58:41.260283",
     "status": "completed"
    },
    "tags": []
   },
   "outputs": [],
   "source": [
    "smultixcan_results = pd.read_pickle(smultixcan_results_filename)"
   ]
  },
  {
   "cell_type": "markdown",
   "metadata": {
    "papermill": {
     "duration": 0.014958,
     "end_time": "2021-03-25T19:58:41.575257",
     "exception": false,
     "start_time": "2021-03-25T19:58:41.560299",
     "status": "completed"
    },
    "tags": []
   },
   "source": [
    "### Rename genes and remove repeated ones"
   ]
  },
  {
   "cell_type": "code",
   "execution_count": 7,
   "metadata": {
    "execution": {
     "iopub.execute_input": "2021-03-25T19:58:41.606868Z",
     "iopub.status.busy": "2021-03-25T19:58:41.606516Z",
     "iopub.status.idle": "2021-03-25T19:58:41.784583Z",
     "shell.execute_reply": "2021-03-25T19:58:41.784097Z"
    },
    "papermill": {
     "duration": 0.194931,
     "end_time": "2021-03-25T19:58:41.784706",
     "exception": false,
     "start_time": "2021-03-25T19:58:41.589775",
     "status": "completed"
    },
    "tags": []
   },
   "outputs": [],
   "source": [
    "smultixcan_results = smultixcan_results.rename(index=Gene.GENE_ID_TO_NAME_MAP)"
   ]
  },
  {
   "cell_type": "code",
   "execution_count": 8,
   "metadata": {
    "execution": {
     "iopub.execute_input": "2021-03-25T19:58:41.821108Z",
     "iopub.status.busy": "2021-03-25T19:58:41.820674Z",
     "iopub.status.idle": "2021-03-25T19:58:41.831803Z",
     "shell.execute_reply": "2021-03-25T19:58:41.831407Z"
    },
    "papermill": {
     "duration": 0.029313,
     "end_time": "2021-03-25T19:58:41.831893",
     "exception": false,
     "start_time": "2021-03-25T19:58:41.802580",
     "status": "completed"
    },
    "tags": []
   },
   "outputs": [
    {
     "data": {
      "text/plain": [
       "Index(['SPATA13', 'LINC01422', 'LINC00484', 'MAL2', 'GOLGA8M', 'LINC01115',\n",
       "       'LYNX1'],\n",
       "      dtype='object', name='gene_name')"
      ]
     },
     "execution_count": 8,
     "metadata": {},
     "output_type": "execute_result"
    }
   ],
   "source": [
    "smultixcan_results.index[smultixcan_results.index.duplicated(keep=\"first\")]"
   ]
  },
  {
   "cell_type": "code",
   "execution_count": 9,
   "metadata": {
    "execution": {
     "iopub.execute_input": "2021-03-25T19:58:41.865343Z",
     "iopub.status.busy": "2021-03-25T19:58:41.864983Z",
     "iopub.status.idle": "2021-03-25T19:58:42.067303Z",
     "shell.execute_reply": "2021-03-25T19:58:42.066969Z"
    },
    "papermill": {
     "duration": 0.219683,
     "end_time": "2021-03-25T19:58:42.067397",
     "exception": false,
     "start_time": "2021-03-25T19:58:41.847714",
     "status": "completed"
    },
    "tags": []
   },
   "outputs": [],
   "source": [
    "smultixcan_results = smultixcan_results.loc[\n",
    "    ~smultixcan_results.index.duplicated(keep=\"first\")\n",
    "]"
   ]
  },
  {
   "cell_type": "code",
   "execution_count": 10,
   "metadata": {
    "execution": {
     "iopub.execute_input": "2021-03-25T19:58:42.100487Z",
     "iopub.status.busy": "2021-03-25T19:58:42.100096Z",
     "iopub.status.idle": "2021-03-25T19:58:42.108309Z",
     "shell.execute_reply": "2021-03-25T19:58:42.107934Z"
    },
    "papermill": {
     "duration": 0.025044,
     "end_time": "2021-03-25T19:58:42.108393",
     "exception": false,
     "start_time": "2021-03-25T19:58:42.083349",
     "status": "completed"
    },
    "tags": []
   },
   "outputs": [
    {
     "data": {
      "text/plain": [
       "(22508, 3752)"
      ]
     },
     "execution_count": 10,
     "metadata": {},
     "output_type": "execute_result"
    }
   ],
   "source": [
    "smultixcan_results.shape"
   ]
  },
  {
   "cell_type": "code",
   "execution_count": 11,
   "metadata": {
    "execution": {
     "iopub.execute_input": "2021-03-25T19:58:42.141654Z",
     "iopub.status.busy": "2021-03-25T19:58:42.141288Z",
     "iopub.status.idle": "2021-03-25T19:58:42.162785Z",
     "shell.execute_reply": "2021-03-25T19:58:42.162408Z"
    },
    "papermill": {
     "duration": 0.038724,
     "end_time": "2021-03-25T19:58:42.162868",
     "exception": false,
     "start_time": "2021-03-25T19:58:42.124144",
     "status": "completed"
    },
    "tags": []
   },
   "outputs": [
    {
     "data": {
      "text/html": [
       "<div>\n",
       "<style scoped>\n",
       "    .dataframe tbody tr th:only-of-type {\n",
       "        vertical-align: middle;\n",
       "    }\n",
       "\n",
       "    .dataframe tbody tr th {\n",
       "        vertical-align: top;\n",
       "    }\n",
       "\n",
       "    .dataframe thead th {\n",
       "        text-align: right;\n",
       "    }\n",
       "</style>\n",
       "<table border=\"1\" class=\"dataframe\">\n",
       "  <thead>\n",
       "    <tr style=\"text-align: right;\">\n",
       "      <th></th>\n",
       "      <th>100001_raw-Food_weight</th>\n",
       "      <th>100002_raw-Energy</th>\n",
       "      <th>100003_raw-Protein</th>\n",
       "      <th>100004_raw-Fat</th>\n",
       "      <th>100005_raw-Carbohydrate</th>\n",
       "      <th>100006_raw-Saturated_fat</th>\n",
       "      <th>100007_raw-Polyunsaturated_fat</th>\n",
       "      <th>100008_raw-Total_sugars</th>\n",
       "      <th>100009_raw-Englyst_dietary_fibre</th>\n",
       "      <th>100010-Portion_size</th>\n",
       "      <th>...</th>\n",
       "      <th>visual impairment</th>\n",
       "      <th>vitiligo</th>\n",
       "      <th>vitreous body disease</th>\n",
       "      <th>vocal cord polyp</th>\n",
       "      <th>voice disorders</th>\n",
       "      <th>wellbeing measurement AND family relationship</th>\n",
       "      <th>wheezing</th>\n",
       "      <th>whooping cough</th>\n",
       "      <th>worry measurement</th>\n",
       "      <th>wrist fracture</th>\n",
       "    </tr>\n",
       "    <tr>\n",
       "      <th>gene_name</th>\n",
       "      <th></th>\n",
       "      <th></th>\n",
       "      <th></th>\n",
       "      <th></th>\n",
       "      <th></th>\n",
       "      <th></th>\n",
       "      <th></th>\n",
       "      <th></th>\n",
       "      <th></th>\n",
       "      <th></th>\n",
       "      <th></th>\n",
       "      <th></th>\n",
       "      <th></th>\n",
       "      <th></th>\n",
       "      <th></th>\n",
       "      <th></th>\n",
       "      <th></th>\n",
       "      <th></th>\n",
       "      <th></th>\n",
       "      <th></th>\n",
       "      <th></th>\n",
       "    </tr>\n",
       "  </thead>\n",
       "  <tbody>\n",
       "    <tr>\n",
       "      <th>DPM1</th>\n",
       "      <td>1.145442</td>\n",
       "      <td>0.724557</td>\n",
       "      <td>0.090876</td>\n",
       "      <td>0.298165</td>\n",
       "      <td>1.134347</td>\n",
       "      <td>1.371138</td>\n",
       "      <td>0.065718</td>\n",
       "      <td>0.794317</td>\n",
       "      <td>0.600342</td>\n",
       "      <td>0.317652</td>\n",
       "      <td>...</td>\n",
       "      <td>0.360518</td>\n",
       "      <td>1.351624</td>\n",
       "      <td>1.157695</td>\n",
       "      <td>0.835289</td>\n",
       "      <td>1.173072</td>\n",
       "      <td>1.337280</td>\n",
       "      <td>1.743822</td>\n",
       "      <td>1.017226</td>\n",
       "      <td>1.512184</td>\n",
       "      <td>0.972241</td>\n",
       "    </tr>\n",
       "    <tr>\n",
       "      <th>SCYL3</th>\n",
       "      <td>0.618066</td>\n",
       "      <td>1.028131</td>\n",
       "      <td>2.218420</td>\n",
       "      <td>0.762584</td>\n",
       "      <td>0.934418</td>\n",
       "      <td>0.192993</td>\n",
       "      <td>1.080230</td>\n",
       "      <td>0.765997</td>\n",
       "      <td>0.375898</td>\n",
       "      <td>0.678731</td>\n",
       "      <td>...</td>\n",
       "      <td>2.134504</td>\n",
       "      <td>0.127830</td>\n",
       "      <td>0.534690</td>\n",
       "      <td>0.120516</td>\n",
       "      <td>0.517464</td>\n",
       "      <td>2.545363</td>\n",
       "      <td>0.673331</td>\n",
       "      <td>2.003092</td>\n",
       "      <td>0.344000</td>\n",
       "      <td>2.033122</td>\n",
       "    </tr>\n",
       "    <tr>\n",
       "      <th>C1orf112</th>\n",
       "      <td>0.515724</td>\n",
       "      <td>0.403596</td>\n",
       "      <td>1.251359</td>\n",
       "      <td>0.433091</td>\n",
       "      <td>0.413466</td>\n",
       "      <td>0.246261</td>\n",
       "      <td>1.236151</td>\n",
       "      <td>0.827430</td>\n",
       "      <td>0.571985</td>\n",
       "      <td>0.782174</td>\n",
       "      <td>...</td>\n",
       "      <td>1.768905</td>\n",
       "      <td>0.992408</td>\n",
       "      <td>0.548215</td>\n",
       "      <td>0.412341</td>\n",
       "      <td>1.499415</td>\n",
       "      <td>1.366780</td>\n",
       "      <td>0.443318</td>\n",
       "      <td>0.417630</td>\n",
       "      <td>0.225934</td>\n",
       "      <td>1.613246</td>\n",
       "    </tr>\n",
       "    <tr>\n",
       "      <th>FGR</th>\n",
       "      <td>0.280781</td>\n",
       "      <td>0.253910</td>\n",
       "      <td>0.879148</td>\n",
       "      <td>0.352705</td>\n",
       "      <td>0.051846</td>\n",
       "      <td>0.184212</td>\n",
       "      <td>0.148566</td>\n",
       "      <td>0.009989</td>\n",
       "      <td>0.363751</td>\n",
       "      <td>0.374514</td>\n",
       "      <td>...</td>\n",
       "      <td>0.656552</td>\n",
       "      <td>2.046041</td>\n",
       "      <td>2.746832</td>\n",
       "      <td>0.108211</td>\n",
       "      <td>1.008258</td>\n",
       "      <td>0.755695</td>\n",
       "      <td>0.896228</td>\n",
       "      <td>0.875047</td>\n",
       "      <td>0.476405</td>\n",
       "      <td>1.693057</td>\n",
       "    </tr>\n",
       "    <tr>\n",
       "      <th>CFH</th>\n",
       "      <td>0.548127</td>\n",
       "      <td>0.389877</td>\n",
       "      <td>0.723469</td>\n",
       "      <td>1.167250</td>\n",
       "      <td>0.315952</td>\n",
       "      <td>0.324939</td>\n",
       "      <td>1.613932</td>\n",
       "      <td>0.311432</td>\n",
       "      <td>0.333548</td>\n",
       "      <td>1.807243</td>\n",
       "      <td>...</td>\n",
       "      <td>0.260482</td>\n",
       "      <td>0.646204</td>\n",
       "      <td>1.080240</td>\n",
       "      <td>0.678330</td>\n",
       "      <td>1.465358</td>\n",
       "      <td>0.307672</td>\n",
       "      <td>0.118376</td>\n",
       "      <td>1.419812</td>\n",
       "      <td>0.000002</td>\n",
       "      <td>1.040737</td>\n",
       "    </tr>\n",
       "  </tbody>\n",
       "</table>\n",
       "<p>5 rows × 3752 columns</p>\n",
       "</div>"
      ],
      "text/plain": [
       "           100001_raw-Food_weight  100002_raw-Energy  100003_raw-Protein  \\\n",
       "gene_name                                                                  \n",
       "DPM1                     1.145442           0.724557            0.090876   \n",
       "SCYL3                    0.618066           1.028131            2.218420   \n",
       "C1orf112                 0.515724           0.403596            1.251359   \n",
       "FGR                      0.280781           0.253910            0.879148   \n",
       "CFH                      0.548127           0.389877            0.723469   \n",
       "\n",
       "           100004_raw-Fat  100005_raw-Carbohydrate  100006_raw-Saturated_fat  \\\n",
       "gene_name                                                                      \n",
       "DPM1             0.298165                 1.134347                  1.371138   \n",
       "SCYL3            0.762584                 0.934418                  0.192993   \n",
       "C1orf112         0.433091                 0.413466                  0.246261   \n",
       "FGR              0.352705                 0.051846                  0.184212   \n",
       "CFH              1.167250                 0.315952                  0.324939   \n",
       "\n",
       "           100007_raw-Polyunsaturated_fat  100008_raw-Total_sugars  \\\n",
       "gene_name                                                            \n",
       "DPM1                             0.065718                 0.794317   \n",
       "SCYL3                            1.080230                 0.765997   \n",
       "C1orf112                         1.236151                 0.827430   \n",
       "FGR                              0.148566                 0.009989   \n",
       "CFH                              1.613932                 0.311432   \n",
       "\n",
       "           100009_raw-Englyst_dietary_fibre  100010-Portion_size  ...  \\\n",
       "gene_name                                                         ...   \n",
       "DPM1                               0.600342             0.317652  ...   \n",
       "SCYL3                              0.375898             0.678731  ...   \n",
       "C1orf112                           0.571985             0.782174  ...   \n",
       "FGR                                0.363751             0.374514  ...   \n",
       "CFH                                0.333548             1.807243  ...   \n",
       "\n",
       "           visual impairment  vitiligo  vitreous body disease  \\\n",
       "gene_name                                                       \n",
       "DPM1                0.360518  1.351624               1.157695   \n",
       "SCYL3               2.134504  0.127830               0.534690   \n",
       "C1orf112            1.768905  0.992408               0.548215   \n",
       "FGR                 0.656552  2.046041               2.746832   \n",
       "CFH                 0.260482  0.646204               1.080240   \n",
       "\n",
       "           vocal cord polyp  voice disorders  \\\n",
       "gene_name                                      \n",
       "DPM1               0.835289         1.173072   \n",
       "SCYL3              0.120516         0.517464   \n",
       "C1orf112           0.412341         1.499415   \n",
       "FGR                0.108211         1.008258   \n",
       "CFH                0.678330         1.465358   \n",
       "\n",
       "           wellbeing measurement AND family relationship  wheezing  \\\n",
       "gene_name                                                            \n",
       "DPM1                                            1.337280  1.743822   \n",
       "SCYL3                                           2.545363  0.673331   \n",
       "C1orf112                                        1.366780  0.443318   \n",
       "FGR                                             0.755695  0.896228   \n",
       "CFH                                             0.307672  0.118376   \n",
       "\n",
       "           whooping cough  worry measurement  wrist fracture  \n",
       "gene_name                                                     \n",
       "DPM1             1.017226           1.512184        0.972241  \n",
       "SCYL3            2.003092           0.344000        2.033122  \n",
       "C1orf112         0.417630           0.225934        1.613246  \n",
       "FGR              0.875047           0.476405        1.693057  \n",
       "CFH              1.419812           0.000002        1.040737  \n",
       "\n",
       "[5 rows x 3752 columns]"
      ]
     },
     "execution_count": 11,
     "metadata": {},
     "output_type": "execute_result"
    }
   ],
   "source": [
    "smultixcan_results.head()"
   ]
  },
  {
   "cell_type": "markdown",
   "metadata": {
    "papermill": {
     "duration": 0.015817,
     "end_time": "2021-03-25T19:58:42.195044",
     "exception": false,
     "start_time": "2021-03-25T19:58:42.179227",
     "status": "completed"
    },
    "tags": []
   },
   "source": [
    "### Standardize by trait"
   ]
  },
  {
   "cell_type": "code",
   "execution_count": 12,
   "metadata": {
    "execution": {
     "iopub.execute_input": "2021-03-25T19:58:42.229321Z",
     "iopub.status.busy": "2021-03-25T19:58:42.228933Z",
     "iopub.status.idle": "2021-03-25T19:58:43.533426Z",
     "shell.execute_reply": "2021-03-25T19:58:43.532988Z"
    },
    "papermill": {
     "duration": 1.322873,
     "end_time": "2021-03-25T19:58:43.533530",
     "exception": false,
     "start_time": "2021-03-25T19:58:42.210657",
     "status": "completed"
    },
    "tags": []
   },
   "outputs": [],
   "source": [
    "_tmp = smultixcan_results.apply(lambda x: x / x.sum())"
   ]
  },
  {
   "cell_type": "code",
   "execution_count": 13,
   "metadata": {
    "execution": {
     "iopub.execute_input": "2021-03-25T19:58:43.573060Z",
     "iopub.status.busy": "2021-03-25T19:58:43.572645Z",
     "iopub.status.idle": "2021-03-25T19:58:43.580074Z",
     "shell.execute_reply": "2021-03-25T19:58:43.580361Z"
    },
    "papermill": {
     "duration": 0.027132,
     "end_time": "2021-03-25T19:58:43.580469",
     "exception": false,
     "start_time": "2021-03-25T19:58:43.553337",
     "status": "completed"
    },
    "tags": []
   },
   "outputs": [
    {
     "data": {
      "text/plain": [
       "(22508, 3752)"
      ]
     },
     "execution_count": 13,
     "metadata": {},
     "output_type": "execute_result"
    }
   ],
   "source": [
    "_tmp.shape"
   ]
  },
  {
   "cell_type": "code",
   "execution_count": 14,
   "metadata": {
    "execution": {
     "iopub.execute_input": "2021-03-25T19:58:43.617188Z",
     "iopub.status.busy": "2021-03-25T19:58:43.616832Z",
     "iopub.status.idle": "2021-03-25T19:58:43.623476Z",
     "shell.execute_reply": "2021-03-25T19:58:43.623800Z"
    },
    "papermill": {
     "duration": 0.026118,
     "end_time": "2021-03-25T19:58:43.623904",
     "exception": false,
     "start_time": "2021-03-25T19:58:43.597786",
     "status": "completed"
    },
    "tags": []
   },
   "outputs": [],
   "source": [
    "assert _tmp.shape == smultixcan_results.shape"
   ]
  },
  {
   "cell_type": "code",
   "execution_count": 15,
   "metadata": {
    "execution": {
     "iopub.execute_input": "2021-03-25T19:58:43.660589Z",
     "iopub.status.busy": "2021-03-25T19:58:43.660224Z",
     "iopub.status.idle": "2021-03-25T19:58:43.670167Z",
     "shell.execute_reply": "2021-03-25T19:58:43.669781Z"
    },
    "papermill": {
     "duration": 0.029783,
     "end_time": "2021-03-25T19:58:43.670254",
     "exception": false,
     "start_time": "2021-03-25T19:58:43.640471",
     "status": "completed"
    },
    "tags": []
   },
   "outputs": [],
   "source": [
    "# some testing\n",
    "_trait = \"body height\"\n",
    "_gene = \"SCYL3\"\n",
    "assert (\n",
    "    _tmp.loc[_gene, _trait]\n",
    "    == smultixcan_results.loc[_gene, _trait] / smultixcan_results[_trait].sum()\n",
    ")\n",
    "\n",
    "_trait = \"100001_raw-Food_weight\"\n",
    "_gene = \"DPM1\"\n",
    "assert (\n",
    "    _tmp.loc[_gene, _trait]\n",
    "    == smultixcan_results.loc[_gene, _trait] / smultixcan_results[_trait].sum()\n",
    ")\n",
    "\n",
    "_trait = \"estrogen-receptor negative breast cancer\"\n",
    "_gene = \"CFH\"\n",
    "assert (\n",
    "    _tmp.loc[_gene, _trait]\n",
    "    == smultixcan_results.loc[_gene, _trait] / smultixcan_results[_trait].sum()\n",
    ")\n",
    "\n",
    "_trait = \"asthma\"\n",
    "_gene = \"C1orf112\"\n",
    "assert (\n",
    "    _tmp.loc[_gene, _trait]\n",
    "    == smultixcan_results.loc[_gene, _trait] / smultixcan_results[_trait].sum()\n",
    ")"
   ]
  },
  {
   "cell_type": "code",
   "execution_count": 16,
   "metadata": {
    "execution": {
     "iopub.execute_input": "2021-03-25T19:58:43.706363Z",
     "iopub.status.busy": "2021-03-25T19:58:43.705997Z",
     "iopub.status.idle": "2021-03-25T19:58:43.713060Z",
     "shell.execute_reply": "2021-03-25T19:58:43.712723Z"
    },
    "papermill": {
     "duration": 0.025933,
     "end_time": "2021-03-25T19:58:43.713144",
     "exception": false,
     "start_time": "2021-03-25T19:58:43.687211",
     "status": "completed"
    },
    "tags": []
   },
   "outputs": [],
   "source": [
    "smultixcan_results = _tmp"
   ]
  },
  {
   "cell_type": "markdown",
   "metadata": {
    "papermill": {
     "duration": 0.015712,
     "end_time": "2021-03-25T19:58:43.745859",
     "exception": false,
     "start_time": "2021-03-25T19:58:43.730147",
     "status": "completed"
    },
    "tags": []
   },
   "source": [
    "## Differentially expressed genes"
   ]
  },
  {
   "cell_type": "markdown",
   "metadata": {
    "papermill": {
     "duration": 0.015718,
     "end_time": "2021-03-25T19:58:43.777547",
     "exception": false,
     "start_time": "2021-03-25T19:58:43.761829",
     "status": "completed"
    },
    "tags": []
   },
   "source": [
    "### Load"
   ]
  },
  {
   "cell_type": "code",
   "execution_count": 17,
   "metadata": {
    "execution": {
     "iopub.execute_input": "2021-03-25T19:58:43.811856Z",
     "iopub.status.busy": "2021-03-25T19:58:43.811497Z",
     "iopub.status.idle": "2021-03-25T19:58:43.819662Z",
     "shell.execute_reply": "2021-03-25T19:58:43.819277Z"
    },
    "papermill": {
     "duration": 0.026483,
     "end_time": "2021-03-25T19:58:43.819747",
     "exception": false,
     "start_time": "2021-03-25T19:58:43.793264",
     "status": "completed"
    },
    "tags": []
   },
   "outputs": [
    {
     "data": {
      "text/plain": [
       "PosixPath('/home/miltondp/projects/labs/greenelab/phenoplier/base/data/crispr_screen/lipid_DEG.csv')"
      ]
     },
     "metadata": {},
     "output_type": "display_data"
    }
   ],
   "source": [
    "input_filepath = Path(conf.CRISPR[\"BASE_DIR\"], \"lipid_DEG.csv\")\n",
    "display(input_filepath)"
   ]
  },
  {
   "cell_type": "code",
   "execution_count": 18,
   "metadata": {
    "execution": {
     "iopub.execute_input": "2021-03-25T19:58:43.855402Z",
     "iopub.status.busy": "2021-03-25T19:58:43.855048Z",
     "iopub.status.idle": "2021-03-25T19:58:43.864414Z",
     "shell.execute_reply": "2021-03-25T19:58:43.864051Z"
    },
    "papermill": {
     "duration": 0.028023,
     "end_time": "2021-03-25T19:58:43.864494",
     "exception": false,
     "start_time": "2021-03-25T19:58:43.836471",
     "status": "completed"
    },
    "tags": []
   },
   "outputs": [],
   "source": [
    "deg_genes = pd.read_csv(input_filepath)"
   ]
  },
  {
   "cell_type": "code",
   "execution_count": 19,
   "metadata": {
    "execution": {
     "iopub.execute_input": "2021-03-25T19:58:43.900254Z",
     "iopub.status.busy": "2021-03-25T19:58:43.899889Z",
     "iopub.status.idle": "2021-03-25T19:58:43.907275Z",
     "shell.execute_reply": "2021-03-25T19:58:43.907551Z"
    },
    "papermill": {
     "duration": 0.026596,
     "end_time": "2021-03-25T19:58:43.907655",
     "exception": false,
     "start_time": "2021-03-25T19:58:43.881059",
     "status": "completed"
    },
    "tags": []
   },
   "outputs": [
    {
     "data": {
      "text/plain": [
       "(462, 12)"
      ]
     },
     "execution_count": 19,
     "metadata": {},
     "output_type": "execute_result"
    }
   ],
   "source": [
    "deg_genes.shape"
   ]
  },
  {
   "cell_type": "code",
   "execution_count": 20,
   "metadata": {
    "execution": {
     "iopub.execute_input": "2021-03-25T19:58:43.945326Z",
     "iopub.status.busy": "2021-03-25T19:58:43.944945Z",
     "iopub.status.idle": "2021-03-25T19:58:43.960538Z",
     "shell.execute_reply": "2021-03-25T19:58:43.960155Z"
    },
    "papermill": {
     "duration": 0.035633,
     "end_time": "2021-03-25T19:58:43.960623",
     "exception": false,
     "start_time": "2021-03-25T19:58:43.924990",
     "status": "completed"
    },
    "tags": []
   },
   "outputs": [
    {
     "data": {
      "text/html": [
       "<div>\n",
       "<style scoped>\n",
       "    .dataframe tbody tr th:only-of-type {\n",
       "        vertical-align: middle;\n",
       "    }\n",
       "\n",
       "    .dataframe tbody tr th {\n",
       "        vertical-align: top;\n",
       "    }\n",
       "\n",
       "    .dataframe thead th {\n",
       "        text-align: right;\n",
       "    }\n",
       "</style>\n",
       "<table border=\"1\" class=\"dataframe\">\n",
       "  <thead>\n",
       "    <tr style=\"text-align: right;\">\n",
       "      <th></th>\n",
       "      <th>gene_name</th>\n",
       "      <th>GFPLow_vs_UnSorted.log2FC</th>\n",
       "      <th>GFPLow_vs_UnSorted.FDR</th>\n",
       "      <th>GFPLow_vs_UnSorted.DEG</th>\n",
       "      <th>GFPHigh_vs_UnSorted.log2FC</th>\n",
       "      <th>GFPHigh_vs_UnSorted.FDR</th>\n",
       "      <th>GFPHigh_vs_UnSorted.DEG</th>\n",
       "      <th>GFPHigh_vs_GFPLow.log2FC</th>\n",
       "      <th>GFPHigh_vs_GFPLow.FDR</th>\n",
       "      <th>GFPHigh_vs_GFPLow.DEG</th>\n",
       "      <th>lipid effect</th>\n",
       "      <th>rank</th>\n",
       "    </tr>\n",
       "  </thead>\n",
       "  <tbody>\n",
       "    <tr>\n",
       "      <th>0</th>\n",
       "      <td>ABCA2</td>\n",
       "      <td>0.558668</td>\n",
       "      <td>0.116008</td>\n",
       "      <td>False</td>\n",
       "      <td>0.784919</td>\n",
       "      <td>0.027128</td>\n",
       "      <td>True</td>\n",
       "      <td>0.226250</td>\n",
       "      <td>0.632691</td>\n",
       "      <td>False</td>\n",
       "      <td>decrease *</td>\n",
       "      <td>-1</td>\n",
       "    </tr>\n",
       "    <tr>\n",
       "      <th>1</th>\n",
       "      <td>ABCB7</td>\n",
       "      <td>0.798525</td>\n",
       "      <td>0.029220</td>\n",
       "      <td>True</td>\n",
       "      <td>-0.238342</td>\n",
       "      <td>0.790778</td>\n",
       "      <td>False</td>\n",
       "      <td>-1.036866</td>\n",
       "      <td>0.000693</td>\n",
       "      <td>True</td>\n",
       "      <td>increase **</td>\n",
       "      <td>2</td>\n",
       "    </tr>\n",
       "    <tr>\n",
       "      <th>2</th>\n",
       "      <td>ABCE1</td>\n",
       "      <td>0.684075</td>\n",
       "      <td>0.047833</td>\n",
       "      <td>True</td>\n",
       "      <td>0.044326</td>\n",
       "      <td>0.975255</td>\n",
       "      <td>False</td>\n",
       "      <td>-0.639750</td>\n",
       "      <td>0.049229</td>\n",
       "      <td>True</td>\n",
       "      <td>increase **</td>\n",
       "      <td>2</td>\n",
       "    </tr>\n",
       "    <tr>\n",
       "      <th>3</th>\n",
       "      <td>ABCG2</td>\n",
       "      <td>0.438126</td>\n",
       "      <td>0.049607</td>\n",
       "      <td>True</td>\n",
       "      <td>0.375550</td>\n",
       "      <td>0.229539</td>\n",
       "      <td>False</td>\n",
       "      <td>-0.062576</td>\n",
       "      <td>0.883678</td>\n",
       "      <td>False</td>\n",
       "      <td>increase *</td>\n",
       "      <td>1</td>\n",
       "    </tr>\n",
       "    <tr>\n",
       "      <th>4</th>\n",
       "      <td>ABHD10</td>\n",
       "      <td>-0.641405</td>\n",
       "      <td>0.009846</td>\n",
       "      <td>True</td>\n",
       "      <td>-0.241943</td>\n",
       "      <td>0.658553</td>\n",
       "      <td>False</td>\n",
       "      <td>0.399461</td>\n",
       "      <td>0.156967</td>\n",
       "      <td>False</td>\n",
       "      <td>decrease *</td>\n",
       "      <td>-1</td>\n",
       "    </tr>\n",
       "  </tbody>\n",
       "</table>\n",
       "</div>"
      ],
      "text/plain": [
       "  gene_name  GFPLow_vs_UnSorted.log2FC  GFPLow_vs_UnSorted.FDR  \\\n",
       "0     ABCA2                   0.558668                0.116008   \n",
       "1     ABCB7                   0.798525                0.029220   \n",
       "2     ABCE1                   0.684075                0.047833   \n",
       "3     ABCG2                   0.438126                0.049607   \n",
       "4    ABHD10                  -0.641405                0.009846   \n",
       "\n",
       "   GFPLow_vs_UnSorted.DEG  GFPHigh_vs_UnSorted.log2FC  \\\n",
       "0                   False                    0.784919   \n",
       "1                    True                   -0.238342   \n",
       "2                    True                    0.044326   \n",
       "3                    True                    0.375550   \n",
       "4                    True                   -0.241943   \n",
       "\n",
       "   GFPHigh_vs_UnSorted.FDR  GFPHigh_vs_UnSorted.DEG  GFPHigh_vs_GFPLow.log2FC  \\\n",
       "0                 0.027128                     True                  0.226250   \n",
       "1                 0.790778                    False                 -1.036866   \n",
       "2                 0.975255                    False                 -0.639750   \n",
       "3                 0.229539                    False                 -0.062576   \n",
       "4                 0.658553                    False                  0.399461   \n",
       "\n",
       "   GFPHigh_vs_GFPLow.FDR  GFPHigh_vs_GFPLow.DEG lipid effect  rank  \n",
       "0               0.632691                  False   decrease *    -1  \n",
       "1               0.000693                   True  increase **     2  \n",
       "2               0.049229                   True  increase **     2  \n",
       "3               0.883678                  False   increase *     1  \n",
       "4               0.156967                  False   decrease *    -1  "
      ]
     },
     "execution_count": 20,
     "metadata": {},
     "output_type": "execute_result"
    }
   ],
   "source": [
    "deg_genes.head()"
   ]
  },
  {
   "cell_type": "markdown",
   "metadata": {
    "papermill": {
     "duration": 0.017335,
     "end_time": "2021-03-25T19:58:43.995882",
     "exception": false,
     "start_time": "2021-03-25T19:58:43.978547",
     "status": "completed"
    },
    "tags": []
   },
   "source": [
    "### Select gene set"
   ]
  },
  {
   "cell_type": "code",
   "execution_count": 21,
   "metadata": {
    "execution": {
     "iopub.execute_input": "2021-03-25T19:58:44.032922Z",
     "iopub.status.busy": "2021-03-25T19:58:44.032514Z",
     "iopub.status.idle": "2021-03-25T19:58:44.042391Z",
     "shell.execute_reply": "2021-03-25T19:58:44.042007Z"
    },
    "papermill": {
     "duration": 0.029373,
     "end_time": "2021-03-25T19:58:44.042476",
     "exception": false,
     "start_time": "2021-03-25T19:58:44.013103",
     "status": "completed"
    },
    "tags": []
   },
   "outputs": [],
   "source": [
    "df = deg_genes.query(LIPIDS_GENE_SET_QUERY)"
   ]
  },
  {
   "cell_type": "code",
   "execution_count": 22,
   "metadata": {
    "execution": {
     "iopub.execute_input": "2021-03-25T19:58:44.081017Z",
     "iopub.status.busy": "2021-03-25T19:58:44.080622Z",
     "iopub.status.idle": "2021-03-25T19:58:44.088533Z",
     "shell.execute_reply": "2021-03-25T19:58:44.088160Z"
    },
    "papermill": {
     "duration": 0.027903,
     "end_time": "2021-03-25T19:58:44.088617",
     "exception": false,
     "start_time": "2021-03-25T19:58:44.060714",
     "status": "completed"
    },
    "tags": []
   },
   "outputs": [
    {
     "data": {
      "text/plain": [
       "(96, 12)"
      ]
     },
     "execution_count": 22,
     "metadata": {},
     "output_type": "execute_result"
    }
   ],
   "source": [
    "df.shape"
   ]
  },
  {
   "cell_type": "code",
   "execution_count": 23,
   "metadata": {
    "execution": {
     "iopub.execute_input": "2021-03-25T19:58:44.127740Z",
     "iopub.status.busy": "2021-03-25T19:58:44.127380Z",
     "iopub.status.idle": "2021-03-25T19:58:44.140688Z",
     "shell.execute_reply": "2021-03-25T19:58:44.141019Z"
    },
    "papermill": {
     "duration": 0.033952,
     "end_time": "2021-03-25T19:58:44.141147",
     "exception": false,
     "start_time": "2021-03-25T19:58:44.107195",
     "status": "completed"
    },
    "tags": []
   },
   "outputs": [
    {
     "data": {
      "text/plain": [
       "96"
      ]
     },
     "metadata": {},
     "output_type": "display_data"
    },
    {
     "data": {
      "text/plain": [
       "['ABHD5',\n",
       " 'ACVR1B',\n",
       " 'AGPAT3',\n",
       " 'AMMECR1',\n",
       " 'ARMC12',\n",
       " 'ATP5O',\n",
       " 'BACH1',\n",
       " 'BCL9L',\n",
       " 'BLCAP',\n",
       " 'BMPER']"
      ]
     },
     "metadata": {},
     "output_type": "display_data"
    }
   ],
   "source": [
    "df_genes = df[\"gene_name\"].unique().tolist()\n",
    "\n",
    "display(len(df_genes))\n",
    "display(df_genes[:10])\n",
    "\n",
    "assert len(df_genes) == 96"
   ]
  },
  {
   "cell_type": "code",
   "execution_count": 24,
   "metadata": {
    "execution": {
     "iopub.execute_input": "2021-03-25T19:58:44.180143Z",
     "iopub.status.busy": "2021-03-25T19:58:44.179782Z",
     "iopub.status.idle": "2021-03-25T19:58:44.192933Z",
     "shell.execute_reply": "2021-03-25T19:58:44.193238Z"
    },
    "papermill": {
     "duration": 0.03406,
     "end_time": "2021-03-25T19:58:44.193348",
     "exception": false,
     "start_time": "2021-03-25T19:58:44.159288",
     "status": "completed"
    },
    "tags": []
   },
   "outputs": [
    {
     "data": {
      "text/plain": [
       "85"
      ]
     },
     "metadata": {},
     "output_type": "display_data"
    },
    {
     "data": {
      "text/plain": [
       "['ABHD5',\n",
       " 'PTBP1',\n",
       " 'NDUFB4',\n",
       " 'NFYC',\n",
       " 'LRRC40',\n",
       " 'KEAP1',\n",
       " 'OSBPL8',\n",
       " 'NDUFB7',\n",
       " 'CSK',\n",
       " 'SQLE']"
      ]
     },
     "metadata": {},
     "output_type": "display_data"
    }
   ],
   "source": [
    "# keep genes present in S-MultiXcan results\n",
    "df_genes_present = smultixcan_results.index.intersection(df_genes).tolist()\n",
    "\n",
    "display(len(df_genes_present))\n",
    "display(df_genes_present[:10])\n",
    "\n",
    "assert len(df_genes_present) == 85"
   ]
  },
  {
   "cell_type": "markdown",
   "metadata": {
    "papermill": {
     "duration": 0.01793,
     "end_time": "2021-03-25T19:58:44.231048",
     "exception": false,
     "start_time": "2021-03-25T19:58:44.213118",
     "status": "completed"
    },
    "tags": []
   },
   "source": [
    "# Get top traits"
   ]
  },
  {
   "cell_type": "code",
   "execution_count": 25,
   "metadata": {
    "execution": {
     "iopub.execute_input": "2021-03-25T19:58:44.270901Z",
     "iopub.status.busy": "2021-03-25T19:58:44.270540Z",
     "iopub.status.idle": "2021-03-25T19:58:44.346124Z",
     "shell.execute_reply": "2021-03-25T19:58:44.345769Z"
    },
    "papermill": {
     "duration": 0.096503,
     "end_time": "2021-03-25T19:58:44.346210",
     "exception": false,
     "start_time": "2021-03-25T19:58:44.249707",
     "status": "completed"
    },
    "tags": []
   },
   "outputs": [],
   "source": [
    "traits = []\n",
    "\n",
    "for g in df_genes_present:\n",
    "    _tmp = smultixcan_results.loc[g]\n",
    "    _tmp = _tmp[_tmp > 0.0].sort_values(ascending=False)\n",
    "\n",
    "    #     _tmp = _tmp.head(50)\n",
    "    traits.append(_tmp)"
   ]
  },
  {
   "cell_type": "code",
   "execution_count": 26,
   "metadata": {
    "execution": {
     "iopub.execute_input": "2021-03-25T19:58:44.386534Z",
     "iopub.status.busy": "2021-03-25T19:58:44.386173Z",
     "iopub.status.idle": "2021-03-25T19:58:44.440870Z",
     "shell.execute_reply": "2021-03-25T19:58:44.440453Z"
    },
    "papermill": {
     "duration": 0.075695,
     "end_time": "2021-03-25T19:58:44.440956",
     "exception": false,
     "start_time": "2021-03-25T19:58:44.365261",
     "status": "completed"
    },
    "tags": []
   },
   "outputs": [],
   "source": [
    "traits_df = (\n",
    "    pd.concat(traits)\n",
    "    .reset_index()\n",
    "    .groupby(\"index\")\n",
    "    .sum()\n",
    "    .sort_values(0, ascending=False)\n",
    "    .reset_index()\n",
    ").rename(columns={\"index\": \"trait\", 0: \"value\"})"
   ]
  },
  {
   "cell_type": "code",
   "execution_count": 27,
   "metadata": {
    "execution": {
     "iopub.execute_input": "2021-03-25T19:58:44.481178Z",
     "iopub.status.busy": "2021-03-25T19:58:44.480817Z",
     "iopub.status.idle": "2021-03-25T19:58:46.241785Z",
     "shell.execute_reply": "2021-03-25T19:58:46.241475Z"
    },
    "papermill": {
     "duration": 1.782135,
     "end_time": "2021-03-25T19:58:46.241871",
     "exception": false,
     "start_time": "2021-03-25T19:58:44.459736",
     "status": "completed"
    },
    "tags": []
   },
   "outputs": [],
   "source": [
    "# add trait category\n",
    "trait_code_to_trait_obj = [\n",
    "    Trait.get_trait(full_code=t)\n",
    "    if not Trait.is_efo_label(t)\n",
    "    else Trait.get_traits_from_efo(t)\n",
    "    for t in traits_df[\"trait\"]\n",
    "]"
   ]
  },
  {
   "cell_type": "code",
   "execution_count": 28,
   "metadata": {
    "execution": {
     "iopub.execute_input": "2021-03-25T19:58:46.282888Z",
     "iopub.status.busy": "2021-03-25T19:58:46.282528Z",
     "iopub.status.idle": "2021-03-25T19:58:46.868893Z",
     "shell.execute_reply": "2021-03-25T19:58:46.868517Z"
    },
    "papermill": {
     "duration": 0.607603,
     "end_time": "2021-03-25T19:58:46.868980",
     "exception": false,
     "start_time": "2021-03-25T19:58:46.261377",
     "status": "completed"
    },
    "tags": []
   },
   "outputs": [],
   "source": [
    "traits_df = traits_df.assign(\n",
    "    category=[\n",
    "        t.category if not isinstance(t, list) else t[0].category\n",
    "        for t in trait_code_to_trait_obj\n",
    "    ]\n",
    ")"
   ]
  },
  {
   "cell_type": "code",
   "execution_count": 29,
   "metadata": {
    "execution": {
     "iopub.execute_input": "2021-03-25T19:58:46.909179Z",
     "iopub.status.busy": "2021-03-25T19:58:46.908810Z",
     "iopub.status.idle": "2021-03-25T19:58:46.917024Z",
     "shell.execute_reply": "2021-03-25T19:58:46.916631Z"
    },
    "papermill": {
     "duration": 0.029205,
     "end_time": "2021-03-25T19:58:46.917107",
     "exception": false,
     "start_time": "2021-03-25T19:58:46.887902",
     "status": "completed"
    },
    "tags": []
   },
   "outputs": [
    {
     "data": {
      "text/plain": [
       "(3752, 3)"
      ]
     },
     "execution_count": 29,
     "metadata": {},
     "output_type": "execute_result"
    }
   ],
   "source": [
    "traits_df.shape"
   ]
  },
  {
   "cell_type": "code",
   "execution_count": 30,
   "metadata": {
    "execution": {
     "iopub.execute_input": "2021-03-25T19:58:46.959001Z",
     "iopub.status.busy": "2021-03-25T19:58:46.958624Z",
     "iopub.status.idle": "2021-03-25T19:58:46.969509Z",
     "shell.execute_reply": "2021-03-25T19:58:46.969181Z"
    },
    "papermill": {
     "duration": 0.033415,
     "end_time": "2021-03-25T19:58:46.969597",
     "exception": false,
     "start_time": "2021-03-25T19:58:46.936182",
     "status": "completed"
    },
    "tags": []
   },
   "outputs": [
    {
     "data": {
      "text/html": [
       "<div>\n",
       "<style scoped>\n",
       "    .dataframe tbody tr th:only-of-type {\n",
       "        vertical-align: middle;\n",
       "    }\n",
       "\n",
       "    .dataframe tbody tr th {\n",
       "        vertical-align: top;\n",
       "    }\n",
       "\n",
       "    .dataframe thead th {\n",
       "        text-align: right;\n",
       "    }\n",
       "</style>\n",
       "<table border=\"1\" class=\"dataframe\">\n",
       "  <thead>\n",
       "    <tr style=\"text-align: right;\">\n",
       "      <th></th>\n",
       "      <th>trait</th>\n",
       "      <th>value</th>\n",
       "      <th>category</th>\n",
       "    </tr>\n",
       "  </thead>\n",
       "  <tbody>\n",
       "    <tr>\n",
       "      <th>0</th>\n",
       "      <td>6150_4-Vascularheart_problems_diagnosed_by_doc...</td>\n",
       "      <td>0.005252</td>\n",
       "      <td>Diseases (cardiovascular)</td>\n",
       "    </tr>\n",
       "    <tr>\n",
       "      <th>1</th>\n",
       "      <td>4079_raw-Diastolic_blood_pressure_automated_re...</td>\n",
       "      <td>0.005248</td>\n",
       "      <td>Blood pressure</td>\n",
       "    </tr>\n",
       "    <tr>\n",
       "      <th>2</th>\n",
       "      <td>hypertension</td>\n",
       "      <td>0.005163</td>\n",
       "      <td>Diseases (cardiovascular)</td>\n",
       "    </tr>\n",
       "    <tr>\n",
       "      <th>3</th>\n",
       "      <td>ASTHMA_EOSINOPHIL_SUGG-Suggestive_for_eosinoph...</td>\n",
       "      <td>0.005096</td>\n",
       "      <td>Diseases (FinnGen)</td>\n",
       "    </tr>\n",
       "    <tr>\n",
       "      <th>4</th>\n",
       "      <td>6153_2-Medication_for_cholesterol_blood_pressu...</td>\n",
       "      <td>0.005081</td>\n",
       "      <td>Medication</td>\n",
       "    </tr>\n",
       "  </tbody>\n",
       "</table>\n",
       "</div>"
      ],
      "text/plain": [
       "                                               trait     value  \\\n",
       "0  6150_4-Vascularheart_problems_diagnosed_by_doc...  0.005252   \n",
       "1  4079_raw-Diastolic_blood_pressure_automated_re...  0.005248   \n",
       "2                                       hypertension  0.005163   \n",
       "3  ASTHMA_EOSINOPHIL_SUGG-Suggestive_for_eosinoph...  0.005096   \n",
       "4  6153_2-Medication_for_cholesterol_blood_pressu...  0.005081   \n",
       "\n",
       "                    category  \n",
       "0  Diseases (cardiovascular)  \n",
       "1             Blood pressure  \n",
       "2  Diseases (cardiovascular)  \n",
       "3         Diseases (FinnGen)  \n",
       "4                 Medication  "
      ]
     },
     "execution_count": 30,
     "metadata": {},
     "output_type": "execute_result"
    }
   ],
   "source": [
    "traits_df.head()"
   ]
  },
  {
   "cell_type": "code",
   "execution_count": 31,
   "metadata": {
    "execution": {
     "iopub.execute_input": "2021-03-25T19:58:47.012430Z",
     "iopub.status.busy": "2021-03-25T19:58:47.012071Z",
     "iopub.status.idle": "2021-03-25T19:58:47.020439Z",
     "shell.execute_reply": "2021-03-25T19:58:47.020060Z"
    },
    "papermill": {
     "duration": 0.030117,
     "end_time": "2021-03-25T19:58:47.020524",
     "exception": false,
     "start_time": "2021-03-25T19:58:46.990407",
     "status": "completed"
    },
    "tags": []
   },
   "outputs": [
    {
     "data": {
      "text/plain": [
       "PosixPath('/home/miltondp/projects/labs/greenelab/phenoplier/base/results/crispr_analyses/single_gene-gene_set_decrease/traits.pkl')"
      ]
     },
     "metadata": {},
     "output_type": "display_data"
    }
   ],
   "source": [
    "output_file = Path(OUTPUT_DIR, \"traits.pkl\").resolve()\n",
    "display(output_file)"
   ]
  },
  {
   "cell_type": "code",
   "execution_count": 32,
   "metadata": {
    "execution": {
     "iopub.execute_input": "2021-03-25T19:58:47.062486Z",
     "iopub.status.busy": "2021-03-25T19:58:47.062131Z",
     "iopub.status.idle": "2021-03-25T19:58:47.070593Z",
     "shell.execute_reply": "2021-03-25T19:58:47.070226Z"
    },
    "papermill": {
     "duration": 0.030257,
     "end_time": "2021-03-25T19:58:47.070674",
     "exception": false,
     "start_time": "2021-03-25T19:58:47.040417",
     "status": "completed"
    },
    "tags": []
   },
   "outputs": [],
   "source": [
    "traits_df.to_pickle(output_file)"
   ]
  },
  {
   "cell_type": "markdown",
   "metadata": {
    "papermill": {
     "duration": 0.019338,
     "end_time": "2021-03-25T19:58:47.109554",
     "exception": false,
     "start_time": "2021-03-25T19:58:47.090216",
     "status": "completed"
    },
    "tags": []
   },
   "source": [
    "# Summary"
   ]
  },
  {
   "cell_type": "code",
   "execution_count": 33,
   "metadata": {
    "execution": {
     "iopub.execute_input": "2021-03-25T19:58:47.150616Z",
     "iopub.status.busy": "2021-03-25T19:58:47.150251Z",
     "iopub.status.idle": "2021-03-25T19:58:47.157778Z",
     "shell.execute_reply": "2021-03-25T19:58:47.157412Z"
    },
    "papermill": {
     "duration": 0.028982,
     "end_time": "2021-03-25T19:58:47.157859",
     "exception": false,
     "start_time": "2021-03-25T19:58:47.128877",
     "status": "completed"
    },
    "tags": []
   },
   "outputs": [],
   "source": [
    "top_traits = traits_df.head(100)"
   ]
  },
  {
   "cell_type": "code",
   "execution_count": 34,
   "metadata": {
    "execution": {
     "iopub.execute_input": "2021-03-25T19:58:47.200202Z",
     "iopub.status.busy": "2021-03-25T19:58:47.199830Z",
     "iopub.status.idle": "2021-03-25T19:58:47.218035Z",
     "shell.execute_reply": "2021-03-25T19:58:47.217714Z"
    },
    "papermill": {
     "duration": 0.040247,
     "end_time": "2021-03-25T19:58:47.218119",
     "exception": false,
     "start_time": "2021-03-25T19:58:47.177872",
     "status": "completed"
    },
    "tags": []
   },
   "outputs": [
    {
     "data": {
      "text/html": [
       "<div>\n",
       "<style scoped>\n",
       "    .dataframe tbody tr th:only-of-type {\n",
       "        vertical-align: middle;\n",
       "    }\n",
       "\n",
       "    .dataframe tbody tr th {\n",
       "        vertical-align: top;\n",
       "    }\n",
       "\n",
       "    .dataframe thead th {\n",
       "        text-align: right;\n",
       "    }\n",
       "</style>\n",
       "<table border=\"1\" class=\"dataframe\">\n",
       "  <thead>\n",
       "    <tr style=\"text-align: right;\">\n",
       "      <th></th>\n",
       "      <th>trait</th>\n",
       "      <th>value</th>\n",
       "      <th>category</th>\n",
       "    </tr>\n",
       "  </thead>\n",
       "  <tbody>\n",
       "    <tr>\n",
       "      <th>0</th>\n",
       "      <td>6150_4-Vascularheart_problems_diagnosed_by_doctor_High_blood_pressure</td>\n",
       "      <td>0.005252</td>\n",
       "      <td>Diseases (cardiovascular)</td>\n",
       "    </tr>\n",
       "    <tr>\n",
       "      <th>1</th>\n",
       "      <td>4079_raw-Diastolic_blood_pressure_automated_reading</td>\n",
       "      <td>0.005248</td>\n",
       "      <td>Blood pressure</td>\n",
       "    </tr>\n",
       "    <tr>\n",
       "      <th>2</th>\n",
       "      <td>hypertension</td>\n",
       "      <td>0.005163</td>\n",
       "      <td>Diseases (cardiovascular)</td>\n",
       "    </tr>\n",
       "    <tr>\n",
       "      <th>3</th>\n",
       "      <td>ASTHMA_EOSINOPHIL_SUGG-Suggestive_for_eosinophilic_asthma</td>\n",
       "      <td>0.005096</td>\n",
       "      <td>Diseases (FinnGen)</td>\n",
       "    </tr>\n",
       "    <tr>\n",
       "      <th>4</th>\n",
       "      <td>6153_2-Medication_for_cholesterol_blood_pressure_diabetes_or_take_exogenous_hormones_Blood_pressure_medication</td>\n",
       "      <td>0.005081</td>\n",
       "      <td>Medication</td>\n",
       "    </tr>\n",
       "    <tr>\n",
       "      <th>5</th>\n",
       "      <td>20153_raw-Forced_expiratory_volume_in_1second_FEV1_predicted</td>\n",
       "      <td>0.005032</td>\n",
       "      <td>Spirometry</td>\n",
       "    </tr>\n",
       "    <tr>\n",
       "      <th>6</th>\n",
       "      <td>6150_100-Vascularheart_problems_diagnosed_by_doctor_None_of_the_above</td>\n",
       "      <td>0.005031</td>\n",
       "      <td>Diseases (cardiovascular)</td>\n",
       "    </tr>\n",
       "    <tr>\n",
       "      <th>7</th>\n",
       "      <td>20003_1141191044-Treatmentmedication_code_levothyroxine_sodium</td>\n",
       "      <td>0.004980</td>\n",
       "      <td>Medications</td>\n",
       "    </tr>\n",
       "    <tr>\n",
       "      <th>8</th>\n",
       "      <td>30030_raw-Haematocrit_percentage</td>\n",
       "      <td>0.004969</td>\n",
       "      <td>Blood count</td>\n",
       "    </tr>\n",
       "    <tr>\n",
       "      <th>9</th>\n",
       "      <td>20003_1140860696-Treatmentmedication_code_lisinopril</td>\n",
       "      <td>0.004963</td>\n",
       "      <td>Medications</td>\n",
       "    </tr>\n",
       "    <tr>\n",
       "      <th>10</th>\n",
       "      <td>30020_raw-Haemoglobin_concentration</td>\n",
       "      <td>0.004961</td>\n",
       "      <td>Blood count</td>\n",
       "    </tr>\n",
       "    <tr>\n",
       "      <th>11</th>\n",
       "      <td>22601_41233254-Job_coding_counter_clerk_bank_clerk_cashier_post_office_clerk</td>\n",
       "      <td>0.004909</td>\n",
       "      <td>Employment history</td>\n",
       "    </tr>\n",
       "    <tr>\n",
       "      <th>12</th>\n",
       "      <td>F5_ALCOHOLAC-Acute_alcohol_intoxication</td>\n",
       "      <td>0.004894</td>\n",
       "      <td>Diseases (FinnGen)</td>\n",
       "    </tr>\n",
       "    <tr>\n",
       "      <th>13</th>\n",
       "      <td>4080_raw-Systolic_blood_pressure_automated_reading</td>\n",
       "      <td>0.004890</td>\n",
       "      <td>Blood pressure</td>\n",
       "    </tr>\n",
       "    <tr>\n",
       "      <th>14</th>\n",
       "      <td>30080_raw-Platelet_count</td>\n",
       "      <td>0.004880</td>\n",
       "      <td>Blood count</td>\n",
       "    </tr>\n",
       "    <tr>\n",
       "      <th>15</th>\n",
       "      <td>erythrocyte count</td>\n",
       "      <td>0.004875</td>\n",
       "      <td>Blood</td>\n",
       "    </tr>\n",
       "    <tr>\n",
       "      <th>16</th>\n",
       "      <td>3064_raw-Peak_expiratory_flow_PEF</td>\n",
       "      <td>0.004867</td>\n",
       "      <td>Spirometry</td>\n",
       "    </tr>\n",
       "    <tr>\n",
       "      <th>17</th>\n",
       "      <td>20015_raw-Sitting_height</td>\n",
       "      <td>0.004862</td>\n",
       "      <td>Body size measures</td>\n",
       "    </tr>\n",
       "    <tr>\n",
       "      <th>18</th>\n",
       "      <td>20003_1141194794-Treatmentmedication_code_bendroflumethiazide</td>\n",
       "      <td>0.004852</td>\n",
       "      <td>Medications</td>\n",
       "    </tr>\n",
       "    <tr>\n",
       "      <th>19</th>\n",
       "      <td>2217_raw-Age_started_wearing_glasses_or_contact_lenses</td>\n",
       "      <td>0.004852</td>\n",
       "      <td>Eyesight</td>\n",
       "    </tr>\n",
       "    <tr>\n",
       "      <th>20</th>\n",
       "      <td>body height</td>\n",
       "      <td>0.004843</td>\n",
       "      <td>Early life factors</td>\n",
       "    </tr>\n",
       "    <tr>\n",
       "      <th>21</th>\n",
       "      <td>22607_2-Workplace_very_cold_Often</td>\n",
       "      <td>0.004843</td>\n",
       "      <td>Employment history</td>\n",
       "    </tr>\n",
       "    <tr>\n",
       "      <th>22</th>\n",
       "      <td>1478-Salt_added_to_food</td>\n",
       "      <td>0.004837</td>\n",
       "      <td>Diet</td>\n",
       "    </tr>\n",
       "    <tr>\n",
       "      <th>23</th>\n",
       "      <td>20419-Difficulty_concentrating_during_worst_period_of_anxiety</td>\n",
       "      <td>0.004834</td>\n",
       "      <td>Anxiety</td>\n",
       "    </tr>\n",
       "    <tr>\n",
       "      <th>24</th>\n",
       "      <td>20003_1140884600-Treatmentmedication_code_metformin</td>\n",
       "      <td>0.004812</td>\n",
       "      <td>Medications</td>\n",
       "    </tr>\n",
       "    <tr>\n",
       "      <th>25</th>\n",
       "      <td>22601_51132488-Job_coding_gardener_groundsmangroundswoman_park_keeper_landscape_gardener_greenkeeper_turf_cutter</td>\n",
       "      <td>0.004808</td>\n",
       "      <td>Employment history</td>\n",
       "    </tr>\n",
       "    <tr>\n",
       "      <th>26</th>\n",
       "      <td>50_raw-Standing_height</td>\n",
       "      <td>0.004807</td>\n",
       "      <td>Body size measures</td>\n",
       "    </tr>\n",
       "    <tr>\n",
       "      <th>27</th>\n",
       "      <td>22617_5113-Job_SOC_coding_Gardeners_and_groundsmengroundswomen</td>\n",
       "      <td>0.004798</td>\n",
       "      <td>Employment history</td>\n",
       "    </tr>\n",
       "    <tr>\n",
       "      <th>28</th>\n",
       "      <td>20084_468-Vitamin_andor_mineral_supplement_use_Multivitamin_</td>\n",
       "      <td>0.004794</td>\n",
       "      <td>Vitamin/mineral supplements yesterday</td>\n",
       "    </tr>\n",
       "    <tr>\n",
       "      <th>29</th>\n",
       "      <td>2907-Ever_stopped_smoking_for_6_months</td>\n",
       "      <td>0.004782</td>\n",
       "      <td>Smoking</td>\n",
       "    </tr>\n",
       "    <tr>\n",
       "      <th>30</th>\n",
       "      <td>C3_SKIN-Malignant_neoplasm_of_skin</td>\n",
       "      <td>0.004765</td>\n",
       "      <td>Diseases (FinnGen)</td>\n",
       "    </tr>\n",
       "    <tr>\n",
       "      <th>31</th>\n",
       "      <td>C_SKIN</td>\n",
       "      <td>0.004765</td>\n",
       "      <td>Diseases (FinnGen)</td>\n",
       "    </tr>\n",
       "    <tr>\n",
       "      <th>32</th>\n",
       "      <td>5265_raw-Corneal_resistance_factor_left</td>\n",
       "      <td>0.004762</td>\n",
       "      <td>Intraocular pressure</td>\n",
       "    </tr>\n",
       "    <tr>\n",
       "      <th>33</th>\n",
       "      <td>40001_C920-Underlying_primary_cause_of_death_ICD10_C920_Acute_myeloid_leukaemia</td>\n",
       "      <td>0.004757</td>\n",
       "      <td>Death register</td>\n",
       "    </tr>\n",
       "    <tr>\n",
       "      <th>34</th>\n",
       "      <td>4124_raw-Heel_bone_mineral_density_BMD_right</td>\n",
       "      <td>0.004750</td>\n",
       "      <td>Bone-densitometry of heel</td>\n",
       "    </tr>\n",
       "    <tr>\n",
       "      <th>35</th>\n",
       "      <td>22617_4123-Job_SOC_coding_Counter_clerks</td>\n",
       "      <td>0.004744</td>\n",
       "      <td>Employment history</td>\n",
       "    </tr>\n",
       "    <tr>\n",
       "      <th>36</th>\n",
       "      <td>20022_raw-Birth_weight</td>\n",
       "      <td>0.004740</td>\n",
       "      <td>Early life factors</td>\n",
       "    </tr>\n",
       "    <tr>\n",
       "      <th>37</th>\n",
       "      <td>20003_1140872198-Treatmentmedication_code_sodium_valproate</td>\n",
       "      <td>0.004737</td>\n",
       "      <td>Medications</td>\n",
       "    </tr>\n",
       "    <tr>\n",
       "      <th>38</th>\n",
       "      <td>49_raw-Hip_circumference</td>\n",
       "      <td>0.004735</td>\n",
       "      <td>Body size measures</td>\n",
       "    </tr>\n",
       "    <tr>\n",
       "      <th>39</th>\n",
       "      <td>RHEUMA_SEROPOS-Seropositive_rheumatoid_arthritis</td>\n",
       "      <td>0.004733</td>\n",
       "      <td>Diseases (FinnGen)</td>\n",
       "    </tr>\n",
       "    <tr>\n",
       "      <th>40</th>\n",
       "      <td>20003_1140872492-Treatmentmedication_code_nicotine_product</td>\n",
       "      <td>0.004727</td>\n",
       "      <td>Medications</td>\n",
       "    </tr>\n",
       "    <tr>\n",
       "      <th>41</th>\n",
       "      <td>30260_raw-Mean_reticulocyte_volume</td>\n",
       "      <td>0.004723</td>\n",
       "      <td>Blood count</td>\n",
       "    </tr>\n",
       "    <tr>\n",
       "      <th>42</th>\n",
       "      <td>20003_1140874744-Treatmentmedication_code_gliclazide</td>\n",
       "      <td>0.004720</td>\n",
       "      <td>Medications</td>\n",
       "    </tr>\n",
       "    <tr>\n",
       "      <th>43</th>\n",
       "      <td>mood swings</td>\n",
       "      <td>0.004715</td>\n",
       "      <td>Mental health</td>\n",
       "    </tr>\n",
       "    <tr>\n",
       "      <th>44</th>\n",
       "      <td>23129_raw-Trunk_fatfree_mass</td>\n",
       "      <td>0.004711</td>\n",
       "      <td>Impedance measures</td>\n",
       "    </tr>\n",
       "    <tr>\n",
       "      <th>45</th>\n",
       "      <td>23130_raw-Trunk_predicted_mass</td>\n",
       "      <td>0.004706</td>\n",
       "      <td>Impedance measures</td>\n",
       "    </tr>\n",
       "    <tr>\n",
       "      <th>46</th>\n",
       "      <td>20113_4-Illnesses_of_adopted_mother_Bowel_cancer</td>\n",
       "      <td>0.004697</td>\n",
       "      <td>Family history</td>\n",
       "    </tr>\n",
       "    <tr>\n",
       "      <th>47</th>\n",
       "      <td>4125_raw-Heel_bone_mineral_density_BMD_Tscore_automated_right</td>\n",
       "      <td>0.004697</td>\n",
       "      <td>Bone-densitometry of heel</td>\n",
       "    </tr>\n",
       "    <tr>\n",
       "      <th>48</th>\n",
       "      <td>4123_raw-Heel_quantitative_ultrasound_index_QUI_direct_entry_right</td>\n",
       "      <td>0.004697</td>\n",
       "      <td>Bone-densitometry of heel</td>\n",
       "    </tr>\n",
       "    <tr>\n",
       "      <th>49</th>\n",
       "      <td>46_raw-Hand_grip_strength_left</td>\n",
       "      <td>0.004697</td>\n",
       "      <td>Hand grip strength</td>\n",
       "    </tr>\n",
       "    <tr>\n",
       "      <th>50</th>\n",
       "      <td>J20-Diagnoses_main_ICD10_J20_Acute_bronchitis</td>\n",
       "      <td>0.004678</td>\n",
       "      <td>Diseases (ICD10 main)</td>\n",
       "    </tr>\n",
       "    <tr>\n",
       "      <th>51</th>\n",
       "      <td>hypothyroidism AND myxedema</td>\n",
       "      <td>0.004678</td>\n",
       "      <td>Diseases (endocrine/diabetes)</td>\n",
       "    </tr>\n",
       "    <tr>\n",
       "      <th>52</th>\n",
       "      <td>22507_raw-Age_of_stopping_smoking</td>\n",
       "      <td>0.004675</td>\n",
       "      <td>Medical information</td>\n",
       "    </tr>\n",
       "    <tr>\n",
       "      <th>53</th>\n",
       "      <td>94_raw-Diastolic_blood_pressure_manual_reading</td>\n",
       "      <td>0.004672</td>\n",
       "      <td>Blood pressure</td>\n",
       "    </tr>\n",
       "    <tr>\n",
       "      <th>54</th>\n",
       "      <td>RHEUMA_SEROPOS_OTH-Otherunspecified_seropositiverheumatoid_arthritis</td>\n",
       "      <td>0.004666</td>\n",
       "      <td>Diseases (FinnGen)</td>\n",
       "    </tr>\n",
       "    <tr>\n",
       "      <th>55</th>\n",
       "      <td>1538_1-Major_dietary_changes_in_the_last_5_years_Yes_because_of_illness</td>\n",
       "      <td>0.004664</td>\n",
       "      <td>Diet</td>\n",
       "    </tr>\n",
       "    <tr>\n",
       "      <th>56</th>\n",
       "      <td>3063_raw-Forced_expiratory_volume_in_1second_FEV1</td>\n",
       "      <td>0.004661</td>\n",
       "      <td>Spirometry</td>\n",
       "    </tr>\n",
       "    <tr>\n",
       "      <th>57</th>\n",
       "      <td>6177_2-Medication_for_cholesterol_blood_pressure_or_diabetes_Blood_pressure_medication</td>\n",
       "      <td>0.004657</td>\n",
       "      <td>Medication</td>\n",
       "    </tr>\n",
       "    <tr>\n",
       "      <th>58</th>\n",
       "      <td>1548-Variation_in_diet</td>\n",
       "      <td>0.004655</td>\n",
       "      <td>Diet</td>\n",
       "    </tr>\n",
       "    <tr>\n",
       "      <th>59</th>\n",
       "      <td>30010_raw-Red_blood_cell_erythrocyte_count</td>\n",
       "      <td>0.004655</td>\n",
       "      <td>Blood count</td>\n",
       "    </tr>\n",
       "    <tr>\n",
       "      <th>60</th>\n",
       "      <td>22617_1173-Job_SOC_coding_Senior_officers_in_fire_ambulance_prison_and_related_services</td>\n",
       "      <td>0.004650</td>\n",
       "      <td>Employment history</td>\n",
       "    </tr>\n",
       "    <tr>\n",
       "      <th>61</th>\n",
       "      <td>23101_raw-Whole_body_fatfree_mass</td>\n",
       "      <td>0.004649</td>\n",
       "      <td>Impedance measures</td>\n",
       "    </tr>\n",
       "    <tr>\n",
       "      <th>62</th>\n",
       "      <td>23102_raw-Whole_body_water_mass</td>\n",
       "      <td>0.004649</td>\n",
       "      <td>Impedance measures</td>\n",
       "    </tr>\n",
       "    <tr>\n",
       "      <th>63</th>\n",
       "      <td>20151_raw-Forced_vital_capacity_FVC_Best_measure</td>\n",
       "      <td>0.004648</td>\n",
       "      <td>Spirometry</td>\n",
       "    </tr>\n",
       "    <tr>\n",
       "      <th>64</th>\n",
       "      <td>diabetes mellitus</td>\n",
       "      <td>0.004644</td>\n",
       "      <td>Diseases (ICD10 main)</td>\n",
       "    </tr>\n",
       "    <tr>\n",
       "      <th>65</th>\n",
       "      <td>23121_raw-Arm_fatfree_mass_right</td>\n",
       "      <td>0.004639</td>\n",
       "      <td>Impedance measures</td>\n",
       "    </tr>\n",
       "    <tr>\n",
       "      <th>66</th>\n",
       "      <td>22601_23293031-Job_coding_other_researchers_including_in_broadcasting_journalism_photography_printing_and_publishing</td>\n",
       "      <td>0.004633</td>\n",
       "      <td>Employment history</td>\n",
       "    </tr>\n",
       "    <tr>\n",
       "      <th>67</th>\n",
       "      <td>30000_raw-White_blood_cell_leukocyte_count</td>\n",
       "      <td>0.004632</td>\n",
       "      <td>Blood count</td>\n",
       "    </tr>\n",
       "    <tr>\n",
       "      <th>68</th>\n",
       "      <td>pituitary gland adenoma</td>\n",
       "      <td>0.004632</td>\n",
       "      <td>Diseases (endocrine/diabetes)</td>\n",
       "    </tr>\n",
       "    <tr>\n",
       "      <th>69</th>\n",
       "      <td>pleural empyema</td>\n",
       "      <td>0.004628</td>\n",
       "      <td>Diseases (ICD10 main)</td>\n",
       "    </tr>\n",
       "    <tr>\n",
       "      <th>70</th>\n",
       "      <td>6148_1-Eye_problemsdisorders_Diabetes_related_eye_disease</td>\n",
       "      <td>0.004627</td>\n",
       "      <td>Eyesight</td>\n",
       "    </tr>\n",
       "    <tr>\n",
       "      <th>71</th>\n",
       "      <td>23122_raw-Arm_predicted_mass_right</td>\n",
       "      <td>0.004627</td>\n",
       "      <td>Impedance measures</td>\n",
       "    </tr>\n",
       "    <tr>\n",
       "      <th>72</th>\n",
       "      <td>22617_3119-Job_SOC_coding_Science_and_engineering_technicians_nec</td>\n",
       "      <td>0.004626</td>\n",
       "      <td>Employment history</td>\n",
       "    </tr>\n",
       "    <tr>\n",
       "      <th>73</th>\n",
       "      <td>5540_0-Surgeryamputation_of_toe_or_leg_No</td>\n",
       "      <td>0.004625</td>\n",
       "      <td>Claudication and peripheral artery disease</td>\n",
       "    </tr>\n",
       "    <tr>\n",
       "      <th>74</th>\n",
       "      <td>23113_raw-Leg_fatfree_mass_right</td>\n",
       "      <td>0.004624</td>\n",
       "      <td>Impedance measures</td>\n",
       "    </tr>\n",
       "    <tr>\n",
       "      <th>75</th>\n",
       "      <td>22617_1233-Job_SOC_coding_Hairdressing_and_beauty_salon_managers_and_proprietors</td>\n",
       "      <td>0.004623</td>\n",
       "      <td>Employment history</td>\n",
       "    </tr>\n",
       "    <tr>\n",
       "      <th>76</th>\n",
       "      <td>23118_raw-Leg_predicted_mass_left</td>\n",
       "      <td>0.004621</td>\n",
       "      <td>Impedance measures</td>\n",
       "    </tr>\n",
       "    <tr>\n",
       "      <th>77</th>\n",
       "      <td>23117_raw-Leg_fatfree_mass_left</td>\n",
       "      <td>0.004621</td>\n",
       "      <td>Impedance measures</td>\n",
       "    </tr>\n",
       "    <tr>\n",
       "      <th>78</th>\n",
       "      <td>6158_1-Why_reduced_smoking_Illness_or_ill_health</td>\n",
       "      <td>0.004621</td>\n",
       "      <td>Smoking</td>\n",
       "    </tr>\n",
       "    <tr>\n",
       "      <th>79</th>\n",
       "      <td>3062_raw-Forced_vital_capacity_FVC</td>\n",
       "      <td>0.004619</td>\n",
       "      <td>Spirometry</td>\n",
       "    </tr>\n",
       "    <tr>\n",
       "      <th>80</th>\n",
       "      <td>20003_1140888366-Treatmentmedication_code_thiamine_preparation</td>\n",
       "      <td>0.004617</td>\n",
       "      <td>Medications</td>\n",
       "    </tr>\n",
       "    <tr>\n",
       "      <th>81</th>\n",
       "      <td>1518-Hot_drink_temperature</td>\n",
       "      <td>0.004616</td>\n",
       "      <td>Diet</td>\n",
       "    </tr>\n",
       "    <tr>\n",
       "      <th>82</th>\n",
       "      <td>30100_raw-Mean_platelet_thrombocyte_volume</td>\n",
       "      <td>0.004615</td>\n",
       "      <td>Blood count</td>\n",
       "    </tr>\n",
       "    <tr>\n",
       "      <th>83</th>\n",
       "      <td>XVII_MALFORMAT_ABNORMAL-Congenital_malformations_deformations_and_chromosomal_abnormalities</td>\n",
       "      <td>0.004614</td>\n",
       "      <td>Diseases (FinnGen)</td>\n",
       "    </tr>\n",
       "    <tr>\n",
       "      <th>84</th>\n",
       "      <td>699_raw-Length_of_time_at_current_address</td>\n",
       "      <td>0.004614</td>\n",
       "      <td>Household</td>\n",
       "    </tr>\n",
       "    <tr>\n",
       "      <th>85</th>\n",
       "      <td>23114_raw-Leg_predicted_mass_right</td>\n",
       "      <td>0.004612</td>\n",
       "      <td>Impedance measures</td>\n",
       "    </tr>\n",
       "    <tr>\n",
       "      <th>86</th>\n",
       "      <td>22601_11343224-Job_coding_advertising_or_public_relations_manager_mediapublicity_manager_campaignfundraising_manager</td>\n",
       "      <td>0.004603</td>\n",
       "      <td>Employment history</td>\n",
       "    </tr>\n",
       "    <tr>\n",
       "      <th>87</th>\n",
       "      <td>20003_1140860728-Treatmentmedication_code_quinapril</td>\n",
       "      <td>0.004601</td>\n",
       "      <td>Medications</td>\n",
       "    </tr>\n",
       "    <tr>\n",
       "      <th>88</th>\n",
       "      <td>23105_raw-Basal_metabolic_rate</td>\n",
       "      <td>0.004599</td>\n",
       "      <td>Impedance measures</td>\n",
       "    </tr>\n",
       "    <tr>\n",
       "      <th>89</th>\n",
       "      <td>nasal cavity polyp</td>\n",
       "      <td>0.004595</td>\n",
       "      <td>Diseases (respiratory/ent)</td>\n",
       "    </tr>\n",
       "    <tr>\n",
       "      <th>90</th>\n",
       "      <td>intracranial volume measurement</td>\n",
       "      <td>0.004595</td>\n",
       "      <td>Anthropometric</td>\n",
       "    </tr>\n",
       "    <tr>\n",
       "      <th>91</th>\n",
       "      <td>22601_11123211-Job_coding_director_or_chief_executive_of_private_organisationcompany_company_chairman_or_president_general_manager</td>\n",
       "      <td>0.004589</td>\n",
       "      <td>Employment history</td>\n",
       "    </tr>\n",
       "    <tr>\n",
       "      <th>92</th>\n",
       "      <td>23125_raw-Arm_fatfree_mass_left</td>\n",
       "      <td>0.004588</td>\n",
       "      <td>Impedance measures</td>\n",
       "    </tr>\n",
       "    <tr>\n",
       "      <th>93</th>\n",
       "      <td>cholesteatoma of middle ear</td>\n",
       "      <td>0.004585</td>\n",
       "      <td>Diseases (ICD10 main)</td>\n",
       "    </tr>\n",
       "    <tr>\n",
       "      <th>94</th>\n",
       "      <td>cutaneous melanoma</td>\n",
       "      <td>0.004581</td>\n",
       "      <td>Diseases (ICD10 main)</td>\n",
       "    </tr>\n",
       "    <tr>\n",
       "      <th>95</th>\n",
       "      <td>4105_raw-Heel_bone_mineral_density_BMD_left</td>\n",
       "      <td>0.004578</td>\n",
       "      <td>Bone-densitometry of heel</td>\n",
       "    </tr>\n",
       "    <tr>\n",
       "      <th>96</th>\n",
       "      <td>47_raw-Hand_grip_strength_right</td>\n",
       "      <td>0.004576</td>\n",
       "      <td>Hand grip strength</td>\n",
       "    </tr>\n",
       "    <tr>\n",
       "      <th>97</th>\n",
       "      <td>20127_raw-Neuroticism_score</td>\n",
       "      <td>0.004575</td>\n",
       "      <td>Mental health</td>\n",
       "    </tr>\n",
       "    <tr>\n",
       "      <th>98</th>\n",
       "      <td>20003_1140866280-Treatmentmedication_code_bumetanide</td>\n",
       "      <td>0.004570</td>\n",
       "      <td>Medications</td>\n",
       "    </tr>\n",
       "    <tr>\n",
       "      <th>99</th>\n",
       "      <td>22617_1141-Job_SOC_coding_Quality_assurance_managers</td>\n",
       "      <td>0.004569</td>\n",
       "      <td>Employment history</td>\n",
       "    </tr>\n",
       "  </tbody>\n",
       "</table>\n",
       "</div>"
      ],
      "text/plain": [
       "                                                                                                                                 trait  \\\n",
       "0                                                                6150_4-Vascularheart_problems_diagnosed_by_doctor_High_blood_pressure   \n",
       "1                                                                                  4079_raw-Diastolic_blood_pressure_automated_reading   \n",
       "2                                                                                                                         hypertension   \n",
       "3                                                                            ASTHMA_EOSINOPHIL_SUGG-Suggestive_for_eosinophilic_asthma   \n",
       "4                       6153_2-Medication_for_cholesterol_blood_pressure_diabetes_or_take_exogenous_hormones_Blood_pressure_medication   \n",
       "5                                                                         20153_raw-Forced_expiratory_volume_in_1second_FEV1_predicted   \n",
       "6                                                                6150_100-Vascularheart_problems_diagnosed_by_doctor_None_of_the_above   \n",
       "7                                                                       20003_1141191044-Treatmentmedication_code_levothyroxine_sodium   \n",
       "8                                                                                                     30030_raw-Haematocrit_percentage   \n",
       "9                                                                                 20003_1140860696-Treatmentmedication_code_lisinopril   \n",
       "10                                                                                                 30020_raw-Haemoglobin_concentration   \n",
       "11                                                        22601_41233254-Job_coding_counter_clerk_bank_clerk_cashier_post_office_clerk   \n",
       "12                                                                                             F5_ALCOHOLAC-Acute_alcohol_intoxication   \n",
       "13                                                                                  4080_raw-Systolic_blood_pressure_automated_reading   \n",
       "14                                                                                                            30080_raw-Platelet_count   \n",
       "15                                                                                                                   erythrocyte count   \n",
       "16                                                                                                   3064_raw-Peak_expiratory_flow_PEF   \n",
       "17                                                                                                            20015_raw-Sitting_height   \n",
       "18                                                                       20003_1141194794-Treatmentmedication_code_bendroflumethiazide   \n",
       "19                                                                              2217_raw-Age_started_wearing_glasses_or_contact_lenses   \n",
       "20                                                                                                                         body height   \n",
       "21                                                                                                   22607_2-Workplace_very_cold_Often   \n",
       "22                                                                                                             1478-Salt_added_to_food   \n",
       "23                                                                       20419-Difficulty_concentrating_during_worst_period_of_anxiety   \n",
       "24                                                                                 20003_1140884600-Treatmentmedication_code_metformin   \n",
       "25                    22601_51132488-Job_coding_gardener_groundsmangroundswoman_park_keeper_landscape_gardener_greenkeeper_turf_cutter   \n",
       "26                                                                                                              50_raw-Standing_height   \n",
       "27                                                                      22617_5113-Job_SOC_coding_Gardeners_and_groundsmengroundswomen   \n",
       "28                                                                        20084_468-Vitamin_andor_mineral_supplement_use_Multivitamin_   \n",
       "29                                                                                              2907-Ever_stopped_smoking_for_6_months   \n",
       "30                                                                                                  C3_SKIN-Malignant_neoplasm_of_skin   \n",
       "31                                                                                                                              C_SKIN   \n",
       "32                                                                                             5265_raw-Corneal_resistance_factor_left   \n",
       "33                                                     40001_C920-Underlying_primary_cause_of_death_ICD10_C920_Acute_myeloid_leukaemia   \n",
       "34                                                                                        4124_raw-Heel_bone_mineral_density_BMD_right   \n",
       "35                                                                                            22617_4123-Job_SOC_coding_Counter_clerks   \n",
       "36                                                                                                              20022_raw-Birth_weight   \n",
       "37                                                                          20003_1140872198-Treatmentmedication_code_sodium_valproate   \n",
       "38                                                                                                            49_raw-Hip_circumference   \n",
       "39                                                                                    RHEUMA_SEROPOS-Seropositive_rheumatoid_arthritis   \n",
       "40                                                                          20003_1140872492-Treatmentmedication_code_nicotine_product   \n",
       "41                                                                                                  30260_raw-Mean_reticulocyte_volume   \n",
       "42                                                                                20003_1140874744-Treatmentmedication_code_gliclazide   \n",
       "43                                                                                                                         mood swings   \n",
       "44                                                                                                        23129_raw-Trunk_fatfree_mass   \n",
       "45                                                                                                      23130_raw-Trunk_predicted_mass   \n",
       "46                                                                                    20113_4-Illnesses_of_adopted_mother_Bowel_cancer   \n",
       "47                                                                       4125_raw-Heel_bone_mineral_density_BMD_Tscore_automated_right   \n",
       "48                                                                  4123_raw-Heel_quantitative_ultrasound_index_QUI_direct_entry_right   \n",
       "49                                                                                                      46_raw-Hand_grip_strength_left   \n",
       "50                                                                                       J20-Diagnoses_main_ICD10_J20_Acute_bronchitis   \n",
       "51                                                                                                         hypothyroidism AND myxedema   \n",
       "52                                                                                                   22507_raw-Age_of_stopping_smoking   \n",
       "53                                                                                      94_raw-Diastolic_blood_pressure_manual_reading   \n",
       "54                                                                RHEUMA_SEROPOS_OTH-Otherunspecified_seropositiverheumatoid_arthritis   \n",
       "55                                                             1538_1-Major_dietary_changes_in_the_last_5_years_Yes_because_of_illness   \n",
       "56                                                                                   3063_raw-Forced_expiratory_volume_in_1second_FEV1   \n",
       "57                                              6177_2-Medication_for_cholesterol_blood_pressure_or_diabetes_Blood_pressure_medication   \n",
       "58                                                                                                              1548-Variation_in_diet   \n",
       "59                                                                                          30010_raw-Red_blood_cell_erythrocyte_count   \n",
       "60                                             22617_1173-Job_SOC_coding_Senior_officers_in_fire_ambulance_prison_and_related_services   \n",
       "61                                                                                                   23101_raw-Whole_body_fatfree_mass   \n",
       "62                                                                                                     23102_raw-Whole_body_water_mass   \n",
       "63                                                                                    20151_raw-Forced_vital_capacity_FVC_Best_measure   \n",
       "64                                                                                                                   diabetes mellitus   \n",
       "65                                                                                                    23121_raw-Arm_fatfree_mass_right   \n",
       "66                22601_23293031-Job_coding_other_researchers_including_in_broadcasting_journalism_photography_printing_and_publishing   \n",
       "67                                                                                          30000_raw-White_blood_cell_leukocyte_count   \n",
       "68                                                                                                             pituitary gland adenoma   \n",
       "69                                                                                                                     pleural empyema   \n",
       "70                                                                           6148_1-Eye_problemsdisorders_Diabetes_related_eye_disease   \n",
       "71                                                                                                  23122_raw-Arm_predicted_mass_right   \n",
       "72                                                                   22617_3119-Job_SOC_coding_Science_and_engineering_technicians_nec   \n",
       "73                                                                                           5540_0-Surgeryamputation_of_toe_or_leg_No   \n",
       "74                                                                                                    23113_raw-Leg_fatfree_mass_right   \n",
       "75                                                    22617_1233-Job_SOC_coding_Hairdressing_and_beauty_salon_managers_and_proprietors   \n",
       "76                                                                                                   23118_raw-Leg_predicted_mass_left   \n",
       "77                                                                                                     23117_raw-Leg_fatfree_mass_left   \n",
       "78                                                                                    6158_1-Why_reduced_smoking_Illness_or_ill_health   \n",
       "79                                                                                                  3062_raw-Forced_vital_capacity_FVC   \n",
       "80                                                                      20003_1140888366-Treatmentmedication_code_thiamine_preparation   \n",
       "81                                                                                                          1518-Hot_drink_temperature   \n",
       "82                                                                                          30100_raw-Mean_platelet_thrombocyte_volume   \n",
       "83                                         XVII_MALFORMAT_ABNORMAL-Congenital_malformations_deformations_and_chromosomal_abnormalities   \n",
       "84                                                                                           699_raw-Length_of_time_at_current_address   \n",
       "85                                                                                                  23114_raw-Leg_predicted_mass_right   \n",
       "86                22601_11343224-Job_coding_advertising_or_public_relations_manager_mediapublicity_manager_campaignfundraising_manager   \n",
       "87                                                                                 20003_1140860728-Treatmentmedication_code_quinapril   \n",
       "88                                                                                                      23105_raw-Basal_metabolic_rate   \n",
       "89                                                                                                                  nasal cavity polyp   \n",
       "90                                                                                                     intracranial volume measurement   \n",
       "91  22601_11123211-Job_coding_director_or_chief_executive_of_private_organisationcompany_company_chairman_or_president_general_manager   \n",
       "92                                                                                                     23125_raw-Arm_fatfree_mass_left   \n",
       "93                                                                                                         cholesteatoma of middle ear   \n",
       "94                                                                                                                  cutaneous melanoma   \n",
       "95                                                                                         4105_raw-Heel_bone_mineral_density_BMD_left   \n",
       "96                                                                                                     47_raw-Hand_grip_strength_right   \n",
       "97                                                                                                         20127_raw-Neuroticism_score   \n",
       "98                                                                                20003_1140866280-Treatmentmedication_code_bumetanide   \n",
       "99                                                                                22617_1141-Job_SOC_coding_Quality_assurance_managers   \n",
       "\n",
       "       value                                    category  \n",
       "0   0.005252                   Diseases (cardiovascular)  \n",
       "1   0.005248                              Blood pressure  \n",
       "2   0.005163                   Diseases (cardiovascular)  \n",
       "3   0.005096                          Diseases (FinnGen)  \n",
       "4   0.005081                                  Medication  \n",
       "5   0.005032                                  Spirometry  \n",
       "6   0.005031                   Diseases (cardiovascular)  \n",
       "7   0.004980                                 Medications  \n",
       "8   0.004969                                 Blood count  \n",
       "9   0.004963                                 Medications  \n",
       "10  0.004961                                 Blood count  \n",
       "11  0.004909                          Employment history  \n",
       "12  0.004894                          Diseases (FinnGen)  \n",
       "13  0.004890                              Blood pressure  \n",
       "14  0.004880                                 Blood count  \n",
       "15  0.004875                                       Blood  \n",
       "16  0.004867                                  Spirometry  \n",
       "17  0.004862                          Body size measures  \n",
       "18  0.004852                                 Medications  \n",
       "19  0.004852                                    Eyesight  \n",
       "20  0.004843                          Early life factors  \n",
       "21  0.004843                          Employment history  \n",
       "22  0.004837                                        Diet  \n",
       "23  0.004834                                     Anxiety  \n",
       "24  0.004812                                 Medications  \n",
       "25  0.004808                          Employment history  \n",
       "26  0.004807                          Body size measures  \n",
       "27  0.004798                          Employment history  \n",
       "28  0.004794       Vitamin/mineral supplements yesterday  \n",
       "29  0.004782                                     Smoking  \n",
       "30  0.004765                          Diseases (FinnGen)  \n",
       "31  0.004765                          Diseases (FinnGen)  \n",
       "32  0.004762                        Intraocular pressure  \n",
       "33  0.004757                              Death register  \n",
       "34  0.004750                   Bone-densitometry of heel  \n",
       "35  0.004744                          Employment history  \n",
       "36  0.004740                          Early life factors  \n",
       "37  0.004737                                 Medications  \n",
       "38  0.004735                          Body size measures  \n",
       "39  0.004733                          Diseases (FinnGen)  \n",
       "40  0.004727                                 Medications  \n",
       "41  0.004723                                 Blood count  \n",
       "42  0.004720                                 Medications  \n",
       "43  0.004715                               Mental health  \n",
       "44  0.004711                          Impedance measures  \n",
       "45  0.004706                          Impedance measures  \n",
       "46  0.004697                              Family history  \n",
       "47  0.004697                   Bone-densitometry of heel  \n",
       "48  0.004697                   Bone-densitometry of heel  \n",
       "49  0.004697                          Hand grip strength  \n",
       "50  0.004678                       Diseases (ICD10 main)  \n",
       "51  0.004678               Diseases (endocrine/diabetes)  \n",
       "52  0.004675                         Medical information  \n",
       "53  0.004672                              Blood pressure  \n",
       "54  0.004666                          Diseases (FinnGen)  \n",
       "55  0.004664                                        Diet  \n",
       "56  0.004661                                  Spirometry  \n",
       "57  0.004657                                  Medication  \n",
       "58  0.004655                                        Diet  \n",
       "59  0.004655                                 Blood count  \n",
       "60  0.004650                          Employment history  \n",
       "61  0.004649                          Impedance measures  \n",
       "62  0.004649                          Impedance measures  \n",
       "63  0.004648                                  Spirometry  \n",
       "64  0.004644                       Diseases (ICD10 main)  \n",
       "65  0.004639                          Impedance measures  \n",
       "66  0.004633                          Employment history  \n",
       "67  0.004632                                 Blood count  \n",
       "68  0.004632               Diseases (endocrine/diabetes)  \n",
       "69  0.004628                       Diseases (ICD10 main)  \n",
       "70  0.004627                                    Eyesight  \n",
       "71  0.004627                          Impedance measures  \n",
       "72  0.004626                          Employment history  \n",
       "73  0.004625  Claudication and peripheral artery disease  \n",
       "74  0.004624                          Impedance measures  \n",
       "75  0.004623                          Employment history  \n",
       "76  0.004621                          Impedance measures  \n",
       "77  0.004621                          Impedance measures  \n",
       "78  0.004621                                     Smoking  \n",
       "79  0.004619                                  Spirometry  \n",
       "80  0.004617                                 Medications  \n",
       "81  0.004616                                        Diet  \n",
       "82  0.004615                                 Blood count  \n",
       "83  0.004614                          Diseases (FinnGen)  \n",
       "84  0.004614                                   Household  \n",
       "85  0.004612                          Impedance measures  \n",
       "86  0.004603                          Employment history  \n",
       "87  0.004601                                 Medications  \n",
       "88  0.004599                          Impedance measures  \n",
       "89  0.004595                  Diseases (respiratory/ent)  \n",
       "90  0.004595                              Anthropometric  \n",
       "91  0.004589                          Employment history  \n",
       "92  0.004588                          Impedance measures  \n",
       "93  0.004585                       Diseases (ICD10 main)  \n",
       "94  0.004581                       Diseases (ICD10 main)  \n",
       "95  0.004578                   Bone-densitometry of heel  \n",
       "96  0.004576                          Hand grip strength  \n",
       "97  0.004575                               Mental health  \n",
       "98  0.004570                                 Medications  \n",
       "99  0.004569                          Employment history  "
      ]
     },
     "metadata": {},
     "output_type": "display_data"
    }
   ],
   "source": [
    "with pd.option_context(\n",
    "    \"display.max_rows\", None, \"display.max_columns\", None, \"max_colwidth\", None\n",
    "):\n",
    "    display(top_traits)"
   ]
  },
  {
   "cell_type": "markdown",
   "metadata": {
    "papermill": {
     "duration": 0.021088,
     "end_time": "2021-03-25T19:58:47.260598",
     "exception": false,
     "start_time": "2021-03-25T19:58:47.239510",
     "status": "completed"
    },
    "tags": []
   },
   "source": [
    "# Summary using trait categories"
   ]
  },
  {
   "cell_type": "code",
   "execution_count": 35,
   "metadata": {
    "execution": {
     "iopub.execute_input": "2021-03-25T19:58:47.304926Z",
     "iopub.status.busy": "2021-03-25T19:58:47.304537Z",
     "iopub.status.idle": "2021-03-25T19:58:47.313642Z",
     "shell.execute_reply": "2021-03-25T19:58:47.313322Z"
    },
    "papermill": {
     "duration": 0.032356,
     "end_time": "2021-03-25T19:58:47.313725",
     "exception": false,
     "start_time": "2021-03-25T19:58:47.281369",
     "status": "completed"
    },
    "tags": []
   },
   "outputs": [],
   "source": [
    "top_traits_categories = (\n",
    "    top_traits.groupby(\"category\")\n",
    "    .mean()\n",
    "    .sort_values(\"value\", ascending=False)\n",
    "    .reset_index()\n",
    ")"
   ]
  },
  {
   "cell_type": "code",
   "execution_count": 36,
   "metadata": {
    "execution": {
     "iopub.execute_input": "2021-03-25T19:58:47.359134Z",
     "iopub.status.busy": "2021-03-25T19:58:47.358757Z",
     "iopub.status.idle": "2021-03-25T19:58:47.369055Z",
     "shell.execute_reply": "2021-03-25T19:58:47.368643Z"
    },
    "papermill": {
     "duration": 0.034024,
     "end_time": "2021-03-25T19:58:47.369140",
     "exception": false,
     "start_time": "2021-03-25T19:58:47.335116",
     "status": "completed"
    },
    "tags": []
   },
   "outputs": [
    {
     "data": {
      "text/html": [
       "<div>\n",
       "<style scoped>\n",
       "    .dataframe tbody tr th:only-of-type {\n",
       "        vertical-align: middle;\n",
       "    }\n",
       "\n",
       "    .dataframe tbody tr th {\n",
       "        vertical-align: top;\n",
       "    }\n",
       "\n",
       "    .dataframe thead th {\n",
       "        text-align: right;\n",
       "    }\n",
       "</style>\n",
       "<table border=\"1\" class=\"dataframe\">\n",
       "  <thead>\n",
       "    <tr style=\"text-align: right;\">\n",
       "      <th></th>\n",
       "      <th>category</th>\n",
       "      <th>value</th>\n",
       "    </tr>\n",
       "  </thead>\n",
       "  <tbody>\n",
       "    <tr>\n",
       "      <th>0</th>\n",
       "      <td>Diseases (cardiovascular)</td>\n",
       "      <td>0.005148</td>\n",
       "    </tr>\n",
       "    <tr>\n",
       "      <th>1</th>\n",
       "      <td>Blood pressure</td>\n",
       "      <td>0.004937</td>\n",
       "    </tr>\n",
       "    <tr>\n",
       "      <th>2</th>\n",
       "      <td>Blood</td>\n",
       "      <td>0.004875</td>\n",
       "    </tr>\n",
       "    <tr>\n",
       "      <th>3</th>\n",
       "      <td>Medication</td>\n",
       "      <td>0.004869</td>\n",
       "    </tr>\n",
       "    <tr>\n",
       "      <th>4</th>\n",
       "      <td>Anxiety</td>\n",
       "      <td>0.004834</td>\n",
       "    </tr>\n",
       "  </tbody>\n",
       "</table>\n",
       "</div>"
      ],
      "text/plain": [
       "                    category     value\n",
       "0  Diseases (cardiovascular)  0.005148\n",
       "1             Blood pressure  0.004937\n",
       "2                      Blood  0.004875\n",
       "3                 Medication  0.004869\n",
       "4                    Anxiety  0.004834"
      ]
     },
     "execution_count": 36,
     "metadata": {},
     "output_type": "execute_result"
    }
   ],
   "source": [
    "top_traits_categories.head()"
   ]
  },
  {
   "cell_type": "code",
   "execution_count": 37,
   "metadata": {
    "execution": {
     "iopub.execute_input": "2021-03-25T19:58:47.414517Z",
     "iopub.status.busy": "2021-03-25T19:58:47.414149Z",
     "iopub.status.idle": "2021-03-25T19:58:47.425772Z",
     "shell.execute_reply": "2021-03-25T19:58:47.425399Z"
    },
    "papermill": {
     "duration": 0.035263,
     "end_time": "2021-03-25T19:58:47.425855",
     "exception": false,
     "start_time": "2021-03-25T19:58:47.390592",
     "status": "completed"
    },
    "tags": []
   },
   "outputs": [
    {
     "data": {
      "text/html": [
       "<div>\n",
       "<style scoped>\n",
       "    .dataframe tbody tr th:only-of-type {\n",
       "        vertical-align: middle;\n",
       "    }\n",
       "\n",
       "    .dataframe tbody tr th {\n",
       "        vertical-align: top;\n",
       "    }\n",
       "\n",
       "    .dataframe thead th {\n",
       "        text-align: right;\n",
       "    }\n",
       "</style>\n",
       "<table border=\"1\" class=\"dataframe\">\n",
       "  <thead>\n",
       "    <tr style=\"text-align: right;\">\n",
       "      <th></th>\n",
       "      <th>category</th>\n",
       "      <th>value</th>\n",
       "    </tr>\n",
       "  </thead>\n",
       "  <tbody>\n",
       "    <tr>\n",
       "      <th>0</th>\n",
       "      <td>Diseases (cardiovascular)</td>\n",
       "      <td>0.005148</td>\n",
       "    </tr>\n",
       "    <tr>\n",
       "      <th>1</th>\n",
       "      <td>Blood pressure</td>\n",
       "      <td>0.004937</td>\n",
       "    </tr>\n",
       "    <tr>\n",
       "      <th>2</th>\n",
       "      <td>Blood</td>\n",
       "      <td>0.004875</td>\n",
       "    </tr>\n",
       "    <tr>\n",
       "      <th>3</th>\n",
       "      <td>Medication</td>\n",
       "      <td>0.004869</td>\n",
       "    </tr>\n",
       "    <tr>\n",
       "      <th>4</th>\n",
       "      <td>Anxiety</td>\n",
       "      <td>0.004834</td>\n",
       "    </tr>\n",
       "    <tr>\n",
       "      <th>5</th>\n",
       "      <td>Body size measures</td>\n",
       "      <td>0.004801</td>\n",
       "    </tr>\n",
       "    <tr>\n",
       "      <th>6</th>\n",
       "      <td>Vitamin/mineral supplements yesterday</td>\n",
       "      <td>0.004794</td>\n",
       "    </tr>\n",
       "    <tr>\n",
       "      <th>7</th>\n",
       "      <td>Early life factors</td>\n",
       "      <td>0.004792</td>\n",
       "    </tr>\n",
       "    <tr>\n",
       "      <th>8</th>\n",
       "      <td>Diseases (FinnGen)</td>\n",
       "      <td>0.004790</td>\n",
       "    </tr>\n",
       "    <tr>\n",
       "      <th>9</th>\n",
       "      <td>Blood count</td>\n",
       "      <td>0.004777</td>\n",
       "    </tr>\n",
       "    <tr>\n",
       "      <th>10</th>\n",
       "      <td>Spirometry</td>\n",
       "      <td>0.004766</td>\n",
       "    </tr>\n",
       "    <tr>\n",
       "      <th>11</th>\n",
       "      <td>Intraocular pressure</td>\n",
       "      <td>0.004762</td>\n",
       "    </tr>\n",
       "    <tr>\n",
       "      <th>12</th>\n",
       "      <td>Medications</td>\n",
       "      <td>0.004758</td>\n",
       "    </tr>\n",
       "    <tr>\n",
       "      <th>13</th>\n",
       "      <td>Death register</td>\n",
       "      <td>0.004757</td>\n",
       "    </tr>\n",
       "    <tr>\n",
       "      <th>14</th>\n",
       "      <td>Eyesight</td>\n",
       "      <td>0.004739</td>\n",
       "    </tr>\n",
       "    <tr>\n",
       "      <th>15</th>\n",
       "      <td>Smoking</td>\n",
       "      <td>0.004701</td>\n",
       "    </tr>\n",
       "    <tr>\n",
       "      <th>16</th>\n",
       "      <td>Employment history</td>\n",
       "      <td>0.004699</td>\n",
       "    </tr>\n",
       "    <tr>\n",
       "      <th>17</th>\n",
       "      <td>Family history</td>\n",
       "      <td>0.004697</td>\n",
       "    </tr>\n",
       "    <tr>\n",
       "      <th>18</th>\n",
       "      <td>Diet</td>\n",
       "      <td>0.004693</td>\n",
       "    </tr>\n",
       "    <tr>\n",
       "      <th>19</th>\n",
       "      <td>Bone-densitometry of heel</td>\n",
       "      <td>0.004681</td>\n",
       "    </tr>\n",
       "    <tr>\n",
       "      <th>20</th>\n",
       "      <td>Medical information</td>\n",
       "      <td>0.004675</td>\n",
       "    </tr>\n",
       "    <tr>\n",
       "      <th>21</th>\n",
       "      <td>Diseases (endocrine/diabetes)</td>\n",
       "      <td>0.004655</td>\n",
       "    </tr>\n",
       "    <tr>\n",
       "      <th>22</th>\n",
       "      <td>Mental health</td>\n",
       "      <td>0.004645</td>\n",
       "    </tr>\n",
       "    <tr>\n",
       "      <th>23</th>\n",
       "      <td>Impedance measures</td>\n",
       "      <td>0.004637</td>\n",
       "    </tr>\n",
       "    <tr>\n",
       "      <th>24</th>\n",
       "      <td>Hand grip strength</td>\n",
       "      <td>0.004636</td>\n",
       "    </tr>\n",
       "    <tr>\n",
       "      <th>25</th>\n",
       "      <td>Claudication and peripheral artery disease</td>\n",
       "      <td>0.004625</td>\n",
       "    </tr>\n",
       "    <tr>\n",
       "      <th>26</th>\n",
       "      <td>Diseases (ICD10 main)</td>\n",
       "      <td>0.004623</td>\n",
       "    </tr>\n",
       "    <tr>\n",
       "      <th>27</th>\n",
       "      <td>Household</td>\n",
       "      <td>0.004614</td>\n",
       "    </tr>\n",
       "    <tr>\n",
       "      <th>28</th>\n",
       "      <td>Diseases (respiratory/ent)</td>\n",
       "      <td>0.004595</td>\n",
       "    </tr>\n",
       "    <tr>\n",
       "      <th>29</th>\n",
       "      <td>Anthropometric</td>\n",
       "      <td>0.004595</td>\n",
       "    </tr>\n",
       "  </tbody>\n",
       "</table>\n",
       "</div>"
      ],
      "text/plain": [
       "                                      category     value\n",
       "0                    Diseases (cardiovascular)  0.005148\n",
       "1                               Blood pressure  0.004937\n",
       "2                                        Blood  0.004875\n",
       "3                                   Medication  0.004869\n",
       "4                                      Anxiety  0.004834\n",
       "5                           Body size measures  0.004801\n",
       "6        Vitamin/mineral supplements yesterday  0.004794\n",
       "7                           Early life factors  0.004792\n",
       "8                           Diseases (FinnGen)  0.004790\n",
       "9                                  Blood count  0.004777\n",
       "10                                  Spirometry  0.004766\n",
       "11                        Intraocular pressure  0.004762\n",
       "12                                 Medications  0.004758\n",
       "13                              Death register  0.004757\n",
       "14                                    Eyesight  0.004739\n",
       "15                                     Smoking  0.004701\n",
       "16                          Employment history  0.004699\n",
       "17                              Family history  0.004697\n",
       "18                                        Diet  0.004693\n",
       "19                   Bone-densitometry of heel  0.004681\n",
       "20                         Medical information  0.004675\n",
       "21               Diseases (endocrine/diabetes)  0.004655\n",
       "22                               Mental health  0.004645\n",
       "23                          Impedance measures  0.004637\n",
       "24                          Hand grip strength  0.004636\n",
       "25  Claudication and peripheral artery disease  0.004625\n",
       "26                       Diseases (ICD10 main)  0.004623\n",
       "27                                   Household  0.004614\n",
       "28                  Diseases (respiratory/ent)  0.004595\n",
       "29                              Anthropometric  0.004595"
      ]
     },
     "metadata": {},
     "output_type": "display_data"
    }
   ],
   "source": [
    "with pd.option_context(\n",
    "    \"display.max_rows\", None, \"display.max_columns\", None, \"max_colwidth\", None\n",
    "):\n",
    "    display(top_traits_categories)"
   ]
  },
  {
   "cell_type": "code",
   "execution_count": 38,
   "metadata": {
    "execution": {
     "iopub.execute_input": "2021-03-25T19:58:47.473202Z",
     "iopub.status.busy": "2021-03-25T19:58:47.472827Z",
     "iopub.status.idle": "2021-03-25T19:58:47.572297Z",
     "shell.execute_reply": "2021-03-25T19:58:47.572596Z"
    },
    "papermill": {
     "duration": 0.124533,
     "end_time": "2021-03-25T19:58:47.572711",
     "exception": false,
     "start_time": "2021-03-25T19:58:47.448178",
     "status": "completed"
    },
    "tags": []
   },
   "outputs": [
    {
     "data": {
      "text/html": [
       "<h2>Diseases (cardiovascular)</h2>"
      ],
      "text/plain": [
       "<IPython.core.display.HTML object>"
      ]
     },
     "metadata": {},
     "output_type": "display_data"
    },
    {
     "data": {
      "text/plain": [
       "trait\n",
       "6150_100-Vascularheart_problems_diagnosed_by_doctor_None_of_the_above    0.005031\n",
       "hypertension                                                             0.005163\n",
       "6150_4-Vascularheart_problems_diagnosed_by_doctor_High_blood_pressure    0.005252\n",
       "Name: value, dtype: float64"
      ]
     },
     "metadata": {},
     "output_type": "display_data"
    },
    {
     "data": {
      "text/html": [
       "<h2>Blood pressure</h2>"
      ],
      "text/plain": [
       "<IPython.core.display.HTML object>"
      ]
     },
     "metadata": {},
     "output_type": "display_data"
    },
    {
     "data": {
      "text/plain": [
       "trait\n",
       "94_raw-Diastolic_blood_pressure_manual_reading         0.004672\n",
       "4080_raw-Systolic_blood_pressure_automated_reading     0.004890\n",
       "4079_raw-Diastolic_blood_pressure_automated_reading    0.005248\n",
       "Name: value, dtype: float64"
      ]
     },
     "metadata": {},
     "output_type": "display_data"
    },
    {
     "data": {
      "text/html": [
       "<h2>Blood</h2>"
      ],
      "text/plain": [
       "<IPython.core.display.HTML object>"
      ]
     },
     "metadata": {},
     "output_type": "display_data"
    },
    {
     "data": {
      "text/plain": [
       "trait\n",
       "erythrocyte count    0.004875\n",
       "Name: value, dtype: float64"
      ]
     },
     "metadata": {},
     "output_type": "display_data"
    },
    {
     "data": {
      "text/html": [
       "<h2>Medication</h2>"
      ],
      "text/plain": [
       "<IPython.core.display.HTML object>"
      ]
     },
     "metadata": {},
     "output_type": "display_data"
    },
    {
     "data": {
      "text/plain": [
       "trait\n",
       "6177_2-Medication_for_cholesterol_blood_pressure_or_diabetes_Blood_pressure_medication                            0.004657\n",
       "6153_2-Medication_for_cholesterol_blood_pressure_diabetes_or_take_exogenous_hormones_Blood_pressure_medication    0.005081\n",
       "Name: value, dtype: float64"
      ]
     },
     "metadata": {},
     "output_type": "display_data"
    },
    {
     "data": {
      "text/html": [
       "<h2>Anxiety</h2>"
      ],
      "text/plain": [
       "<IPython.core.display.HTML object>"
      ]
     },
     "metadata": {},
     "output_type": "display_data"
    },
    {
     "data": {
      "text/plain": [
       "trait\n",
       "20419-Difficulty_concentrating_during_worst_period_of_anxiety    0.004834\n",
       "Name: value, dtype: float64"
      ]
     },
     "metadata": {},
     "output_type": "display_data"
    },
    {
     "data": {
      "text/html": [
       "<h2>Body size measures</h2>"
      ],
      "text/plain": [
       "<IPython.core.display.HTML object>"
      ]
     },
     "metadata": {},
     "output_type": "display_data"
    },
    {
     "data": {
      "text/plain": [
       "trait\n",
       "49_raw-Hip_circumference    0.004735\n",
       "50_raw-Standing_height      0.004807\n",
       "20015_raw-Sitting_height    0.004862\n",
       "Name: value, dtype: float64"
      ]
     },
     "metadata": {},
     "output_type": "display_data"
    },
    {
     "data": {
      "text/html": [
       "<h2>Vitamin/mineral supplements yesterday</h2>"
      ],
      "text/plain": [
       "<IPython.core.display.HTML object>"
      ]
     },
     "metadata": {},
     "output_type": "display_data"
    },
    {
     "data": {
      "text/plain": [
       "trait\n",
       "20084_468-Vitamin_andor_mineral_supplement_use_Multivitamin_    0.004794\n",
       "Name: value, dtype: float64"
      ]
     },
     "metadata": {},
     "output_type": "display_data"
    },
    {
     "data": {
      "text/html": [
       "<h2>Early life factors</h2>"
      ],
      "text/plain": [
       "<IPython.core.display.HTML object>"
      ]
     },
     "metadata": {},
     "output_type": "display_data"
    },
    {
     "data": {
      "text/plain": [
       "trait\n",
       "20022_raw-Birth_weight    0.004740\n",
       "body height               0.004843\n",
       "Name: value, dtype: float64"
      ]
     },
     "metadata": {},
     "output_type": "display_data"
    },
    {
     "data": {
      "text/html": [
       "<h2>Diseases (FinnGen)</h2>"
      ],
      "text/plain": [
       "<IPython.core.display.HTML object>"
      ]
     },
     "metadata": {},
     "output_type": "display_data"
    },
    {
     "data": {
      "text/plain": [
       "trait\n",
       "XVII_MALFORMAT_ABNORMAL-Congenital_malformations_deformations_and_chromosomal_abnormalities    0.004614\n",
       "RHEUMA_SEROPOS_OTH-Otherunspecified_seropositiverheumatoid_arthritis                           0.004666\n",
       "RHEUMA_SEROPOS-Seropositive_rheumatoid_arthritis                                               0.004733\n",
       "C3_SKIN-Malignant_neoplasm_of_skin                                                             0.004765\n",
       "C_SKIN                                                                                         0.004765\n",
       "F5_ALCOHOLAC-Acute_alcohol_intoxication                                                        0.004894\n",
       "ASTHMA_EOSINOPHIL_SUGG-Suggestive_for_eosinophilic_asthma                                      0.005096\n",
       "Name: value, dtype: float64"
      ]
     },
     "metadata": {},
     "output_type": "display_data"
    },
    {
     "data": {
      "text/html": [
       "<h2>Blood count</h2>"
      ],
      "text/plain": [
       "<IPython.core.display.HTML object>"
      ]
     },
     "metadata": {},
     "output_type": "display_data"
    },
    {
     "data": {
      "text/plain": [
       "trait\n",
       "30100_raw-Mean_platelet_thrombocyte_volume    0.004615\n",
       "30000_raw-White_blood_cell_leukocyte_count    0.004632\n",
       "30010_raw-Red_blood_cell_erythrocyte_count    0.004655\n",
       "30260_raw-Mean_reticulocyte_volume            0.004723\n",
       "30080_raw-Platelet_count                      0.004880\n",
       "30020_raw-Haemoglobin_concentration           0.004961\n",
       "30030_raw-Haematocrit_percentage              0.004969\n",
       "Name: value, dtype: float64"
      ]
     },
     "metadata": {},
     "output_type": "display_data"
    },
    {
     "data": {
      "text/html": [
       "<h2>Spirometry</h2>"
      ],
      "text/plain": [
       "<IPython.core.display.HTML object>"
      ]
     },
     "metadata": {},
     "output_type": "display_data"
    },
    {
     "data": {
      "text/plain": [
       "trait\n",
       "3062_raw-Forced_vital_capacity_FVC                              0.004619\n",
       "20151_raw-Forced_vital_capacity_FVC_Best_measure                0.004648\n",
       "3063_raw-Forced_expiratory_volume_in_1second_FEV1               0.004661\n",
       "3064_raw-Peak_expiratory_flow_PEF                               0.004867\n",
       "20153_raw-Forced_expiratory_volume_in_1second_FEV1_predicted    0.005032\n",
       "Name: value, dtype: float64"
      ]
     },
     "metadata": {},
     "output_type": "display_data"
    },
    {
     "data": {
      "text/html": [
       "<h2>Intraocular pressure</h2>"
      ],
      "text/plain": [
       "<IPython.core.display.HTML object>"
      ]
     },
     "metadata": {},
     "output_type": "display_data"
    },
    {
     "data": {
      "text/plain": [
       "trait\n",
       "5265_raw-Corneal_resistance_factor_left    0.004762\n",
       "Name: value, dtype: float64"
      ]
     },
     "metadata": {},
     "output_type": "display_data"
    },
    {
     "data": {
      "text/html": [
       "<h2>Medications</h2>"
      ],
      "text/plain": [
       "<IPython.core.display.HTML object>"
      ]
     },
     "metadata": {},
     "output_type": "display_data"
    },
    {
     "data": {
      "text/plain": [
       "trait\n",
       "20003_1140866280-Treatmentmedication_code_bumetanide              0.004570\n",
       "20003_1140860728-Treatmentmedication_code_quinapril               0.004601\n",
       "20003_1140888366-Treatmentmedication_code_thiamine_preparation    0.004617\n",
       "20003_1140874744-Treatmentmedication_code_gliclazide              0.004720\n",
       "20003_1140872492-Treatmentmedication_code_nicotine_product        0.004727\n",
       "20003_1140872198-Treatmentmedication_code_sodium_valproate        0.004737\n",
       "20003_1140884600-Treatmentmedication_code_metformin               0.004812\n",
       "20003_1141194794-Treatmentmedication_code_bendroflumethiazide     0.004852\n",
       "20003_1140860696-Treatmentmedication_code_lisinopril              0.004963\n",
       "20003_1141191044-Treatmentmedication_code_levothyroxine_sodium    0.004980\n",
       "Name: value, dtype: float64"
      ]
     },
     "metadata": {},
     "output_type": "display_data"
    },
    {
     "data": {
      "text/html": [
       "<h2>Death register</h2>"
      ],
      "text/plain": [
       "<IPython.core.display.HTML object>"
      ]
     },
     "metadata": {},
     "output_type": "display_data"
    },
    {
     "data": {
      "text/plain": [
       "trait\n",
       "40001_C920-Underlying_primary_cause_of_death_ICD10_C920_Acute_myeloid_leukaemia    0.004757\n",
       "Name: value, dtype: float64"
      ]
     },
     "metadata": {},
     "output_type": "display_data"
    },
    {
     "data": {
      "text/html": [
       "<h2>Eyesight</h2>"
      ],
      "text/plain": [
       "<IPython.core.display.HTML object>"
      ]
     },
     "metadata": {},
     "output_type": "display_data"
    },
    {
     "data": {
      "text/plain": [
       "trait\n",
       "6148_1-Eye_problemsdisorders_Diabetes_related_eye_disease    0.004627\n",
       "2217_raw-Age_started_wearing_glasses_or_contact_lenses       0.004852\n",
       "Name: value, dtype: float64"
      ]
     },
     "metadata": {},
     "output_type": "display_data"
    },
    {
     "data": {
      "text/html": [
       "<h2>Smoking</h2>"
      ],
      "text/plain": [
       "<IPython.core.display.HTML object>"
      ]
     },
     "metadata": {},
     "output_type": "display_data"
    },
    {
     "data": {
      "text/plain": [
       "trait\n",
       "6158_1-Why_reduced_smoking_Illness_or_ill_health    0.004621\n",
       "2907-Ever_stopped_smoking_for_6_months              0.004782\n",
       "Name: value, dtype: float64"
      ]
     },
     "metadata": {},
     "output_type": "display_data"
    },
    {
     "data": {
      "text/html": [
       "<h2>Employment history</h2>"
      ],
      "text/plain": [
       "<IPython.core.display.HTML object>"
      ]
     },
     "metadata": {},
     "output_type": "display_data"
    },
    {
     "data": {
      "text/plain": [
       "trait\n",
       "22617_1141-Job_SOC_coding_Quality_assurance_managers                                                                                  0.004569\n",
       "22601_11123211-Job_coding_director_or_chief_executive_of_private_organisationcompany_company_chairman_or_president_general_manager    0.004589\n",
       "22601_11343224-Job_coding_advertising_or_public_relations_manager_mediapublicity_manager_campaignfundraising_manager                  0.004603\n",
       "22617_1233-Job_SOC_coding_Hairdressing_and_beauty_salon_managers_and_proprietors                                                      0.004623\n",
       "22617_3119-Job_SOC_coding_Science_and_engineering_technicians_nec                                                                     0.004626\n",
       "22601_23293031-Job_coding_other_researchers_including_in_broadcasting_journalism_photography_printing_and_publishing                  0.004633\n",
       "22617_1173-Job_SOC_coding_Senior_officers_in_fire_ambulance_prison_and_related_services                                               0.004650\n",
       "22617_4123-Job_SOC_coding_Counter_clerks                                                                                              0.004744\n",
       "22617_5113-Job_SOC_coding_Gardeners_and_groundsmengroundswomen                                                                        0.004798\n",
       "22601_51132488-Job_coding_gardener_groundsmangroundswoman_park_keeper_landscape_gardener_greenkeeper_turf_cutter                      0.004808\n",
       "22607_2-Workplace_very_cold_Often                                                                                                     0.004843\n",
       "22601_41233254-Job_coding_counter_clerk_bank_clerk_cashier_post_office_clerk                                                          0.004909\n",
       "Name: value, dtype: float64"
      ]
     },
     "metadata": {},
     "output_type": "display_data"
    },
    {
     "data": {
      "text/html": [
       "<h2>Family history</h2>"
      ],
      "text/plain": [
       "<IPython.core.display.HTML object>"
      ]
     },
     "metadata": {},
     "output_type": "display_data"
    },
    {
     "data": {
      "text/plain": [
       "trait\n",
       "20113_4-Illnesses_of_adopted_mother_Bowel_cancer    0.004697\n",
       "Name: value, dtype: float64"
      ]
     },
     "metadata": {},
     "output_type": "display_data"
    },
    {
     "data": {
      "text/html": [
       "<h2>Diet</h2>"
      ],
      "text/plain": [
       "<IPython.core.display.HTML object>"
      ]
     },
     "metadata": {},
     "output_type": "display_data"
    },
    {
     "data": {
      "text/plain": [
       "trait\n",
       "1518-Hot_drink_temperature                                                 0.004616\n",
       "1548-Variation_in_diet                                                     0.004655\n",
       "1538_1-Major_dietary_changes_in_the_last_5_years_Yes_because_of_illness    0.004664\n",
       "1478-Salt_added_to_food                                                    0.004837\n",
       "Name: value, dtype: float64"
      ]
     },
     "metadata": {},
     "output_type": "display_data"
    },
    {
     "data": {
      "text/html": [
       "<h2>Bone-densitometry of heel</h2>"
      ],
      "text/plain": [
       "<IPython.core.display.HTML object>"
      ]
     },
     "metadata": {},
     "output_type": "display_data"
    },
    {
     "data": {
      "text/plain": [
       "trait\n",
       "4105_raw-Heel_bone_mineral_density_BMD_left                           0.004578\n",
       "4123_raw-Heel_quantitative_ultrasound_index_QUI_direct_entry_right    0.004697\n",
       "4125_raw-Heel_bone_mineral_density_BMD_Tscore_automated_right         0.004697\n",
       "4124_raw-Heel_bone_mineral_density_BMD_right                          0.004750\n",
       "Name: value, dtype: float64"
      ]
     },
     "metadata": {},
     "output_type": "display_data"
    },
    {
     "data": {
      "text/html": [
       "<h2>Medical information</h2>"
      ],
      "text/plain": [
       "<IPython.core.display.HTML object>"
      ]
     },
     "metadata": {},
     "output_type": "display_data"
    },
    {
     "data": {
      "text/plain": [
       "trait\n",
       "22507_raw-Age_of_stopping_smoking    0.004675\n",
       "Name: value, dtype: float64"
      ]
     },
     "metadata": {},
     "output_type": "display_data"
    },
    {
     "data": {
      "text/html": [
       "<h2>Diseases (endocrine/diabetes)</h2>"
      ],
      "text/plain": [
       "<IPython.core.display.HTML object>"
      ]
     },
     "metadata": {},
     "output_type": "display_data"
    },
    {
     "data": {
      "text/plain": [
       "trait\n",
       "pituitary gland adenoma        0.004632\n",
       "hypothyroidism AND myxedema    0.004678\n",
       "Name: value, dtype: float64"
      ]
     },
     "metadata": {},
     "output_type": "display_data"
    },
    {
     "data": {
      "text/html": [
       "<h2>Mental health</h2>"
      ],
      "text/plain": [
       "<IPython.core.display.HTML object>"
      ]
     },
     "metadata": {},
     "output_type": "display_data"
    },
    {
     "data": {
      "text/plain": [
       "trait\n",
       "20127_raw-Neuroticism_score    0.004575\n",
       "mood swings                    0.004715\n",
       "Name: value, dtype: float64"
      ]
     },
     "metadata": {},
     "output_type": "display_data"
    },
    {
     "data": {
      "text/html": [
       "<h2>Impedance measures</h2>"
      ],
      "text/plain": [
       "<IPython.core.display.HTML object>"
      ]
     },
     "metadata": {},
     "output_type": "display_data"
    },
    {
     "data": {
      "text/plain": [
       "trait\n",
       "23125_raw-Arm_fatfree_mass_left       0.004588\n",
       "23105_raw-Basal_metabolic_rate        0.004599\n",
       "23114_raw-Leg_predicted_mass_right    0.004612\n",
       "23117_raw-Leg_fatfree_mass_left       0.004621\n",
       "23118_raw-Leg_predicted_mass_left     0.004621\n",
       "23113_raw-Leg_fatfree_mass_right      0.004624\n",
       "23122_raw-Arm_predicted_mass_right    0.004627\n",
       "23121_raw-Arm_fatfree_mass_right      0.004639\n",
       "23102_raw-Whole_body_water_mass       0.004649\n",
       "23101_raw-Whole_body_fatfree_mass     0.004649\n",
       "23130_raw-Trunk_predicted_mass        0.004706\n",
       "23129_raw-Trunk_fatfree_mass          0.004711\n",
       "Name: value, dtype: float64"
      ]
     },
     "metadata": {},
     "output_type": "display_data"
    },
    {
     "data": {
      "text/html": [
       "<h2>Hand grip strength</h2>"
      ],
      "text/plain": [
       "<IPython.core.display.HTML object>"
      ]
     },
     "metadata": {},
     "output_type": "display_data"
    },
    {
     "data": {
      "text/plain": [
       "trait\n",
       "47_raw-Hand_grip_strength_right    0.004576\n",
       "46_raw-Hand_grip_strength_left     0.004697\n",
       "Name: value, dtype: float64"
      ]
     },
     "metadata": {},
     "output_type": "display_data"
    },
    {
     "data": {
      "text/html": [
       "<h2>Claudication and peripheral artery disease</h2>"
      ],
      "text/plain": [
       "<IPython.core.display.HTML object>"
      ]
     },
     "metadata": {},
     "output_type": "display_data"
    },
    {
     "data": {
      "text/plain": [
       "trait\n",
       "5540_0-Surgeryamputation_of_toe_or_leg_No    0.004625\n",
       "Name: value, dtype: float64"
      ]
     },
     "metadata": {},
     "output_type": "display_data"
    },
    {
     "data": {
      "text/html": [
       "<h2>Diseases (ICD10 main)</h2>"
      ],
      "text/plain": [
       "<IPython.core.display.HTML object>"
      ]
     },
     "metadata": {},
     "output_type": "display_data"
    },
    {
     "data": {
      "text/plain": [
       "trait\n",
       "cutaneous melanoma                               0.004581\n",
       "cholesteatoma of middle ear                      0.004585\n",
       "pleural empyema                                  0.004628\n",
       "diabetes mellitus                                0.004644\n",
       "J20-Diagnoses_main_ICD10_J20_Acute_bronchitis    0.004678\n",
       "Name: value, dtype: float64"
      ]
     },
     "metadata": {},
     "output_type": "display_data"
    },
    {
     "data": {
      "text/html": [
       "<h2>Household</h2>"
      ],
      "text/plain": [
       "<IPython.core.display.HTML object>"
      ]
     },
     "metadata": {},
     "output_type": "display_data"
    },
    {
     "data": {
      "text/plain": [
       "trait\n",
       "699_raw-Length_of_time_at_current_address    0.004614\n",
       "Name: value, dtype: float64"
      ]
     },
     "metadata": {},
     "output_type": "display_data"
    },
    {
     "data": {
      "text/html": [
       "<h2>Diseases (respiratory/ent)</h2>"
      ],
      "text/plain": [
       "<IPython.core.display.HTML object>"
      ]
     },
     "metadata": {},
     "output_type": "display_data"
    },
    {
     "data": {
      "text/plain": [
       "trait\n",
       "nasal cavity polyp    0.004595\n",
       "Name: value, dtype: float64"
      ]
     },
     "metadata": {},
     "output_type": "display_data"
    },
    {
     "data": {
      "text/html": [
       "<h2>Anthropometric</h2>"
      ],
      "text/plain": [
       "<IPython.core.display.HTML object>"
      ]
     },
     "metadata": {},
     "output_type": "display_data"
    },
    {
     "data": {
      "text/plain": [
       "trait\n",
       "intracranial volume measurement    0.004595\n",
       "Name: value, dtype: float64"
      ]
     },
     "metadata": {},
     "output_type": "display_data"
    }
   ],
   "source": [
    "for row_idx, row in top_traits_categories.iterrows():\n",
    "    category = row[\"category\"]\n",
    "    display(HTML(f\"<h2>{category}</h2>\"))\n",
    "\n",
    "    _df = (\n",
    "        top_traits[top_traits[\"category\"] == category]\n",
    "        .groupby(\"trait\")[\"value\"]\n",
    "        .mean()\n",
    "        .sort_values()\n",
    "    )\n",
    "    display(_df)"
   ]
  },
  {
   "cell_type": "code",
   "execution_count": null,
   "metadata": {
    "papermill": {
     "duration": 0.034825,
     "end_time": "2021-03-25T19:58:47.643494",
     "exception": false,
     "start_time": "2021-03-25T19:58:47.608669",
     "status": "completed"
    },
    "tags": []
   },
   "outputs": [],
   "source": []
  }
 ],
 "metadata": {
  "jupytext": {
   "cell_metadata_filter": "all,-execution,-papermill,-trusted",
   "formats": "ipynb,py//py:percent"
  },
  "kernelspec": {
   "display_name": "Python 3",
   "language": "python",
   "name": "python3"
  },
  "language_info": {
   "codemirror_mode": {
    "name": "ipython",
    "version": 3
   },
   "file_extension": ".py",
   "mimetype": "text/x-python",
   "name": "python",
   "nbconvert_exporter": "python",
   "pygments_lexer": "ipython3",
   "version": "3.8.8"
  },
  "papermill": {
   "default_parameters": {},
   "duration": 8.456658,
   "end_time": "2021-03-25T19:58:47.983709",
   "environment_variables": {},
   "exception": null,
   "input_path": "30_validation/crispr_screen/040_00-deg_genes-single_gene-decrease.ipynb",
   "output_path": "30_validation/crispr_screen/040_00-deg_genes-single_gene-decrease.run.ipynb",
   "parameters": {},
   "start_time": "2021-03-25T19:58:39.527051",
   "version": "2.2.2"
  },
  "toc-autonumbering": true
 },
 "nbformat": 4,
 "nbformat_minor": 4
}
