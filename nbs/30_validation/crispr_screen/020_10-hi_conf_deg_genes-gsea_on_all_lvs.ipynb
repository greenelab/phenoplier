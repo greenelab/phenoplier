{
 "cells": [
  {
   "cell_type": "markdown",
   "metadata": {
    "papermill": {
     "duration": 0.017541,
     "end_time": "2021-07-16T16:21:06.793761",
     "exception": false,
     "start_time": "2021-07-16T16:21:06.776220",
     "status": "completed"
    },
    "tags": []
   },
   "source": [
    "# Module loading"
   ]
  },
  {
   "cell_type": "code",
   "execution_count": 1,
   "metadata": {
    "execution": {
     "iopub.execute_input": "2021-07-16T16:21:06.824498Z",
     "iopub.status.busy": "2021-07-16T16:21:06.822691Z",
     "iopub.status.idle": "2021-07-16T16:21:08.716514Z",
     "shell.execute_reply": "2021-07-16T16:21:08.715707Z"
    },
    "papermill": {
     "duration": 1.909531,
     "end_time": "2021-07-16T16:21:08.716648",
     "exception": false,
     "start_time": "2021-07-16T16:21:06.807117",
     "status": "completed"
    },
    "tags": []
   },
   "outputs": [
    {
     "name": "stderr",
     "output_type": "stream",
     "text": [
      "\n",
      "Attaching package: ‘dplyr’\n",
      "\n",
      "\n",
      "The following objects are masked from ‘package:stats’:\n",
      "\n",
      "    filter, lag\n",
      "\n",
      "\n",
      "The following objects are masked from ‘package:base’:\n",
      "\n",
      "    intersect, setdiff, setequal, union\n",
      "\n",
      "\n",
      "── \u001b[1mAttaching packages\u001b[22m ─────────────────────────────────────── tidyverse 1.3.1 ──\n",
      "\n",
      "\u001b[32m✔\u001b[39m \u001b[34mggplot2\u001b[39m 3.3.3     \u001b[32m✔\u001b[39m \u001b[34mpurrr  \u001b[39m 0.3.4\n",
      "\u001b[32m✔\u001b[39m \u001b[34mtibble \u001b[39m 3.1.1     \u001b[32m✔\u001b[39m \u001b[34mstringr\u001b[39m 1.4.0\n",
      "\u001b[32m✔\u001b[39m \u001b[34mtidyr  \u001b[39m 1.1.3     \u001b[32m✔\u001b[39m \u001b[34mforcats\u001b[39m 0.5.1\n",
      "\n",
      "── \u001b[1mConflicts\u001b[22m ────────────────────────────────────────── tidyverse_conflicts() ──\n",
      "\u001b[31m✖\u001b[39m \u001b[34mdplyr\u001b[39m::\u001b[32mfilter()\u001b[39m masks \u001b[34mstats\u001b[39m::filter()\n",
      "\u001b[31m✖\u001b[39m \u001b[34mdplyr\u001b[39m::\u001b[32mlag()\u001b[39m    masks \u001b[34mstats\u001b[39m::lag()\n",
      "\n"
     ]
    }
   ],
   "source": [
    "library(IRdisplay)\n",
    "library(readr)\n",
    "library(fgsea)\n",
    "library(dplyr)\n",
    "library(tidyverse)\n",
    "library(reticulate)"
   ]
  },
  {
   "cell_type": "code",
   "execution_count": 2,
   "metadata": {
    "execution": {
     "iopub.execute_input": "2021-07-16T16:21:08.772073Z",
     "iopub.status.busy": "2021-07-16T16:21:08.752405Z",
     "iopub.status.idle": "2021-07-16T16:21:09.635509Z",
     "shell.execute_reply": "2021-07-16T16:21:09.634657Z"
    },
    "papermill": {
     "duration": 0.900764,
     "end_time": "2021-07-16T16:21:09.635739",
     "exception": false,
     "start_time": "2021-07-16T16:21:08.734975",
     "status": "completed"
    },
    "tags": []
   },
   "outputs": [],
   "source": [
    "pd <- import(\"pandas\")"
   ]
  },
  {
   "cell_type": "markdown",
   "metadata": {
    "papermill": {
     "duration": 0.015644,
     "end_time": "2021-07-16T16:21:09.667983",
     "exception": false,
     "start_time": "2021-07-16T16:21:09.652339",
     "status": "completed"
    },
    "tags": []
   },
   "source": [
    "# Settings"
   ]
  },
  {
   "cell_type": "code",
   "execution_count": 3,
   "metadata": {
    "execution": {
     "iopub.execute_input": "2021-07-16T16:21:09.700506Z",
     "iopub.status.busy": "2021-07-16T16:21:09.699541Z",
     "iopub.status.idle": "2021-07-16T16:21:09.708194Z",
     "shell.execute_reply": "2021-07-16T16:21:09.707367Z"
    },
    "papermill": {
     "duration": 0.02564,
     "end_time": "2021-07-16T16:21:09.708279",
     "exception": false,
     "start_time": "2021-07-16T16:21:09.682639",
     "status": "completed"
    },
    "tags": []
   },
   "outputs": [],
   "source": [
    "OUTPUT_DIR <- Sys.getenv(\"PHENOPLIER_RESULTS_CRISPR_ANALYSES_BASE_DIR\")"
   ]
  },
  {
   "cell_type": "code",
   "execution_count": 4,
   "metadata": {
    "execution": {
     "iopub.execute_input": "2021-07-16T16:21:09.741306Z",
     "iopub.status.busy": "2021-07-16T16:21:09.740317Z",
     "iopub.status.idle": "2021-07-16T16:21:09.751679Z",
     "shell.execute_reply": "2021-07-16T16:21:09.750811Z"
    },
    "papermill": {
     "duration": 0.028405,
     "end_time": "2021-07-16T16:21:09.751763",
     "exception": false,
     "start_time": "2021-07-16T16:21:09.723358",
     "status": "completed"
    },
    "tags": []
   },
   "outputs": [
    {
     "data": {
      "text/html": [
       "'/home/miltondp/projects/labs/greenelab/phenoplier/base/results/crispr_analyses'"
      ],
      "text/latex": [
       "'/home/miltondp/projects/labs/greenelab/phenoplier/base/results/crispr\\_analyses'"
      ],
      "text/markdown": [
       "'/home/miltondp/projects/labs/greenelab/phenoplier/base/results/crispr_analyses'"
      ],
      "text/plain": [
       "[1] \"/home/miltondp/projects/labs/greenelab/phenoplier/base/results/crispr_analyses\""
      ]
     },
     "metadata": {},
     "output_type": "display_data"
    }
   ],
   "source": [
    "OUTPUT_DIR"
   ]
  },
  {
   "cell_type": "code",
   "execution_count": 5,
   "metadata": {
    "execution": {
     "iopub.execute_input": "2021-07-16T16:21:09.787058Z",
     "iopub.status.busy": "2021-07-16T16:21:09.786151Z",
     "iopub.status.idle": "2021-07-16T16:21:09.796166Z",
     "shell.execute_reply": "2021-07-16T16:21:09.795231Z"
    },
    "papermill": {
     "duration": 0.02853,
     "end_time": "2021-07-16T16:21:09.796255",
     "exception": false,
     "start_time": "2021-07-16T16:21:09.767725",
     "status": "completed"
    },
    "tags": []
   },
   "outputs": [
    {
     "name": "stderr",
     "output_type": "stream",
     "text": [
      "Warning message in dir.create(OUTPUT_DIR, recursive = TRUE):\n",
      "“'/home/miltondp/projects/labs/greenelab/phenoplier/base/results/crispr_analyses' already exists”\n"
     ]
    }
   ],
   "source": [
    "dir.create(OUTPUT_DIR, recursive=TRUE)"
   ]
  },
  {
   "cell_type": "markdown",
   "metadata": {
    "papermill": {
     "duration": 0.015623,
     "end_time": "2021-07-16T16:21:09.828274",
     "exception": false,
     "start_time": "2021-07-16T16:21:09.812651",
     "status": "completed"
    },
    "tags": []
   },
   "source": [
    "# Data loading"
   ]
  },
  {
   "cell_type": "markdown",
   "metadata": {
    "papermill": {
     "duration": 0.015698,
     "end_time": "2021-07-16T16:21:09.859629",
     "exception": false,
     "start_time": "2021-07-16T16:21:09.843931",
     "status": "completed"
    },
    "tags": []
   },
   "source": [
    "## Lipids gene sets"
   ]
  },
  {
   "cell_type": "code",
   "execution_count": 6,
   "metadata": {
    "execution": {
     "iopub.execute_input": "2021-07-16T16:21:09.895130Z",
     "iopub.status.busy": "2021-07-16T16:21:09.894196Z",
     "iopub.status.idle": "2021-07-16T16:21:09.905700Z",
     "shell.execute_reply": "2021-07-16T16:21:09.904579Z"
    },
    "papermill": {
     "duration": 0.029545,
     "end_time": "2021-07-16T16:21:09.905787",
     "exception": false,
     "start_time": "2021-07-16T16:21:09.876242",
     "status": "completed"
    },
    "tags": []
   },
   "outputs": [
    {
     "data": {
      "text/html": [
       "'/home/miltondp/projects/labs/greenelab/phenoplier/base/data/crispr_screen/lipid_DEG.csv'"
      ],
      "text/latex": [
       "'/home/miltondp/projects/labs/greenelab/phenoplier/base/data/crispr\\_screen/lipid\\_DEG.csv'"
      ],
      "text/markdown": [
       "'/home/miltondp/projects/labs/greenelab/phenoplier/base/data/crispr_screen/lipid_DEG.csv'"
      ],
      "text/plain": [
       "[1] \"/home/miltondp/projects/labs/greenelab/phenoplier/base/data/crispr_screen/lipid_DEG.csv\""
      ]
     },
     "metadata": {},
     "output_type": "display_data"
    }
   ],
   "source": [
    "input_file <- Sys.getenv(\"PHENOPLIER_CRISPR_LIPIDS_GENE_SETS_FILE\")\n",
    "display(input_file)"
   ]
  },
  {
   "cell_type": "code",
   "execution_count": 7,
   "metadata": {
    "execution": {
     "iopub.execute_input": "2021-07-16T16:21:09.942489Z",
     "iopub.status.busy": "2021-07-16T16:21:09.941098Z",
     "iopub.status.idle": "2021-07-16T16:21:09.999261Z",
     "shell.execute_reply": "2021-07-16T16:21:09.998439Z"
    },
    "papermill": {
     "duration": 0.077216,
     "end_time": "2021-07-16T16:21:09.999471",
     "exception": false,
     "start_time": "2021-07-16T16:21:09.922255",
     "status": "completed"
    },
    "tags": []
   },
   "outputs": [
    {
     "name": "stderr",
     "output_type": "stream",
     "text": [
      "\n",
      "\u001b[36m──\u001b[39m \u001b[1m\u001b[1mColumn specification\u001b[1m\u001b[22m \u001b[36m────────────────────────────────────────────────────────\u001b[39m\n",
      "cols(\n",
      "  gene_name = \u001b[31mcol_character()\u001b[39m,\n",
      "  GFPLow_vs_UnSorted.log2FC = \u001b[32mcol_double()\u001b[39m,\n",
      "  GFPLow_vs_UnSorted.FDR = \u001b[32mcol_double()\u001b[39m,\n",
      "  GFPLow_vs_UnSorted.DEG = \u001b[33mcol_logical()\u001b[39m,\n",
      "  GFPHigh_vs_UnSorted.log2FC = \u001b[32mcol_double()\u001b[39m,\n",
      "  GFPHigh_vs_UnSorted.FDR = \u001b[32mcol_double()\u001b[39m,\n",
      "  GFPHigh_vs_UnSorted.DEG = \u001b[33mcol_logical()\u001b[39m,\n",
      "  GFPHigh_vs_GFPLow.log2FC = \u001b[32mcol_double()\u001b[39m,\n",
      "  GFPHigh_vs_GFPLow.FDR = \u001b[32mcol_double()\u001b[39m,\n",
      "  GFPHigh_vs_GFPLow.DEG = \u001b[33mcol_logical()\u001b[39m,\n",
      "  `lipid effect` = \u001b[31mcol_character()\u001b[39m,\n",
      "  rank = \u001b[32mcol_double()\u001b[39m\n",
      ")\n",
      "\n",
      "\n"
     ]
    }
   ],
   "source": [
    "all_genes_ranked <- read_csv(input_file)"
   ]
  },
  {
   "cell_type": "code",
   "execution_count": 8,
   "metadata": {
    "execution": {
     "iopub.execute_input": "2021-07-16T16:21:10.036665Z",
     "iopub.status.busy": "2021-07-16T16:21:10.035615Z",
     "iopub.status.idle": "2021-07-16T16:21:10.052425Z",
     "shell.execute_reply": "2021-07-16T16:21:10.051620Z"
    },
    "papermill": {
     "duration": 0.036118,
     "end_time": "2021-07-16T16:21:10.052514",
     "exception": false,
     "start_time": "2021-07-16T16:21:10.016396",
     "status": "completed"
    },
    "tags": []
   },
   "outputs": [],
   "source": [
    "orig_deg_gene_sets <- list()\n",
    "\n",
    "for (r in unique(all_genes_ranked$rank)) {\n",
    "    if (r == 0) {\n",
    "        next\n",
    "    }\n",
    "    \n",
    "    data <- all_genes_ranked[all_genes_ranked$rank == r,]\n",
    "    #q <- quantile(data, 0.50, names=FALSE)\n",
    "    \n",
    "    orig_deg_gene_sets[[paste0(\"gene_set_\", r)]] <- data$gene_name\n",
    "}"
   ]
  },
  {
   "cell_type": "code",
   "execution_count": 9,
   "metadata": {
    "execution": {
     "iopub.execute_input": "2021-07-16T16:21:10.089564Z",
     "iopub.status.busy": "2021-07-16T16:21:10.088569Z",
     "iopub.status.idle": "2021-07-16T16:21:10.099086Z",
     "shell.execute_reply": "2021-07-16T16:21:10.098163Z"
    },
    "papermill": {
     "duration": 0.029728,
     "end_time": "2021-07-16T16:21:10.099171",
     "exception": false,
     "start_time": "2021-07-16T16:21:10.069443",
     "status": "completed"
    },
    "tags": []
   },
   "outputs": [
    {
     "data": {
      "text/html": [
       "6"
      ],
      "text/latex": [
       "6"
      ],
      "text/markdown": [
       "6"
      ],
      "text/plain": [
       "[1] 6"
      ]
     },
     "metadata": {},
     "output_type": "display_data"
    }
   ],
   "source": [
    "length(orig_deg_gene_sets)"
   ]
  },
  {
   "cell_type": "markdown",
   "metadata": {
    "papermill": {
     "duration": 0.016828,
     "end_time": "2021-07-16T16:21:10.132791",
     "exception": false,
     "start_time": "2021-07-16T16:21:10.115963",
     "status": "completed"
    },
    "tags": []
   },
   "source": [
    "### Combine gene sets into \"increase lipids\" and \"decrease lipids\""
   ]
  },
  {
   "cell_type": "code",
   "execution_count": 10,
   "metadata": {
    "execution": {
     "iopub.execute_input": "2021-07-16T16:21:10.169835Z",
     "iopub.status.busy": "2021-07-16T16:21:10.168902Z",
     "iopub.status.idle": "2021-07-16T16:21:10.177188Z",
     "shell.execute_reply": "2021-07-16T16:21:10.176304Z"
    },
    "papermill": {
     "duration": 0.027498,
     "end_time": "2021-07-16T16:21:10.177274",
     "exception": false,
     "start_time": "2021-07-16T16:21:10.149776",
     "status": "completed"
    },
    "tags": []
   },
   "outputs": [],
   "source": [
    "deg_gene_sets <- list()"
   ]
  },
  {
   "cell_type": "code",
   "execution_count": 11,
   "metadata": {
    "execution": {
     "iopub.execute_input": "2021-07-16T16:21:10.214181Z",
     "iopub.status.busy": "2021-07-16T16:21:10.213237Z",
     "iopub.status.idle": "2021-07-16T16:21:10.221732Z",
     "shell.execute_reply": "2021-07-16T16:21:10.220951Z"
    },
    "papermill": {
     "duration": 0.027293,
     "end_time": "2021-07-16T16:21:10.221818",
     "exception": false,
     "start_time": "2021-07-16T16:21:10.194525",
     "status": "completed"
    },
    "tags": []
   },
   "outputs": [],
   "source": [
    "# genes that increase lipids\n",
    "deg_gene_sets[[\"gene_set_increase\"]] <- c(\n",
    "#     orig_deg_gene_sets[[\"gene_set_2\"]],\n",
    "    orig_deg_gene_sets[[\"gene_set_3\"]]\n",
    ")"
   ]
  },
  {
   "cell_type": "code",
   "execution_count": 12,
   "metadata": {
    "execution": {
     "iopub.execute_input": "2021-07-16T16:21:10.258342Z",
     "iopub.status.busy": "2021-07-16T16:21:10.257420Z",
     "iopub.status.idle": "2021-07-16T16:21:10.266044Z",
     "shell.execute_reply": "2021-07-16T16:21:10.265214Z"
    },
    "papermill": {
     "duration": 0.027436,
     "end_time": "2021-07-16T16:21:10.266156",
     "exception": false,
     "start_time": "2021-07-16T16:21:10.238720",
     "status": "completed"
    },
    "tags": []
   },
   "outputs": [],
   "source": [
    "# genes that decrease lipids\n",
    "deg_gene_sets[[\"gene_set_decrease\"]] <- c(\n",
    "#     orig_deg_gene_sets[[\"gene_set_-2\"]],\n",
    "    orig_deg_gene_sets[[\"gene_set_-3\"]]\n",
    ")"
   ]
  },
  {
   "cell_type": "code",
   "execution_count": 13,
   "metadata": {
    "execution": {
     "iopub.execute_input": "2021-07-16T16:21:10.303199Z",
     "iopub.status.busy": "2021-07-16T16:21:10.302275Z",
     "iopub.status.idle": "2021-07-16T16:21:10.312609Z",
     "shell.execute_reply": "2021-07-16T16:21:10.311684Z"
    },
    "papermill": {
     "duration": 0.029596,
     "end_time": "2021-07-16T16:21:10.312701",
     "exception": false,
     "start_time": "2021-07-16T16:21:10.283105",
     "status": "completed"
    },
    "tags": []
   },
   "outputs": [
    {
     "data": {
      "text/html": [
       "2"
      ],
      "text/latex": [
       "2"
      ],
      "text/markdown": [
       "2"
      ],
      "text/plain": [
       "[1] 2"
      ]
     },
     "metadata": {},
     "output_type": "display_data"
    }
   ],
   "source": [
    "length(deg_gene_sets)"
   ]
  },
  {
   "cell_type": "code",
   "execution_count": 14,
   "metadata": {
    "execution": {
     "iopub.execute_input": "2021-07-16T16:21:10.351504Z",
     "iopub.status.busy": "2021-07-16T16:21:10.350548Z",
     "iopub.status.idle": "2021-07-16T16:21:10.360936Z",
     "shell.execute_reply": "2021-07-16T16:21:10.359882Z"
    },
    "papermill": {
     "duration": 0.030635,
     "end_time": "2021-07-16T16:21:10.361031",
     "exception": false,
     "start_time": "2021-07-16T16:21:10.330396",
     "status": "completed"
    },
    "tags": []
   },
   "outputs": [
    {
     "data": {
      "text/html": [
       "6"
      ],
      "text/latex": [
       "6"
      ],
      "text/markdown": [
       "6"
      ],
      "text/plain": [
       "[1] 6"
      ]
     },
     "metadata": {},
     "output_type": "display_data"
    }
   ],
   "source": [
    "length(deg_gene_sets[[\"gene_set_increase\"]])"
   ]
  },
  {
   "cell_type": "code",
   "execution_count": 15,
   "metadata": {
    "execution": {
     "iopub.execute_input": "2021-07-16T16:21:10.399903Z",
     "iopub.status.busy": "2021-07-16T16:21:10.398938Z",
     "iopub.status.idle": "2021-07-16T16:21:10.407318Z",
     "shell.execute_reply": "2021-07-16T16:21:10.406456Z"
    },
    "papermill": {
     "duration": 0.028425,
     "end_time": "2021-07-16T16:21:10.407403",
     "exception": false,
     "start_time": "2021-07-16T16:21:10.378978",
     "status": "completed"
    },
    "tags": []
   },
   "outputs": [],
   "source": [
    "stopifnot(length(deg_gene_sets[[\"gene_set_increase\"]]) == 6)"
   ]
  },
  {
   "cell_type": "code",
   "execution_count": 16,
   "metadata": {
    "execution": {
     "iopub.execute_input": "2021-07-16T16:21:10.450535Z",
     "iopub.status.busy": "2021-07-16T16:21:10.449519Z",
     "iopub.status.idle": "2021-07-16T16:21:10.460758Z",
     "shell.execute_reply": "2021-07-16T16:21:10.459776Z"
    },
    "papermill": {
     "duration": 0.034796,
     "end_time": "2021-07-16T16:21:10.460857",
     "exception": false,
     "start_time": "2021-07-16T16:21:10.426061",
     "status": "completed"
    },
    "tags": []
   },
   "outputs": [
    {
     "data": {
      "text/html": [
       "8"
      ],
      "text/latex": [
       "8"
      ],
      "text/markdown": [
       "8"
      ],
      "text/plain": [
       "[1] 8"
      ]
     },
     "metadata": {},
     "output_type": "display_data"
    }
   ],
   "source": [
    "length(deg_gene_sets[[\"gene_set_decrease\"]])"
   ]
  },
  {
   "cell_type": "code",
   "execution_count": 17,
   "metadata": {
    "execution": {
     "iopub.execute_input": "2021-07-16T16:21:10.503475Z",
     "iopub.status.busy": "2021-07-16T16:21:10.502588Z",
     "iopub.status.idle": "2021-07-16T16:21:10.510828Z",
     "shell.execute_reply": "2021-07-16T16:21:10.510059Z"
    },
    "papermill": {
     "duration": 0.028919,
     "end_time": "2021-07-16T16:21:10.510914",
     "exception": false,
     "start_time": "2021-07-16T16:21:10.481995",
     "status": "completed"
    },
    "tags": []
   },
   "outputs": [],
   "source": [
    "stopifnot(length(deg_gene_sets[[\"gene_set_decrease\"]]) == 8)"
   ]
  },
  {
   "cell_type": "code",
   "execution_count": 18,
   "metadata": {
    "execution": {
     "iopub.execute_input": "2021-07-16T16:21:10.550734Z",
     "iopub.status.busy": "2021-07-16T16:21:10.549823Z",
     "iopub.status.idle": "2021-07-16T16:21:10.561889Z",
     "shell.execute_reply": "2021-07-16T16:21:10.561133Z"
    },
    "papermill": {
     "duration": 0.03243,
     "end_time": "2021-07-16T16:21:10.561973",
     "exception": false,
     "start_time": "2021-07-16T16:21:10.529543",
     "status": "completed"
    },
    "tags": []
   },
   "outputs": [],
   "source": [
    "# test new increase set\n",
    "new_set <- deg_gene_sets[[\"gene_set_increase\"]]\n",
    "expected_set <- orig_deg_gene_sets[[\"gene_set_3\"]]\n",
    "\n",
    "stopifnot(length(new_set) == length(unique(new_set)))\n",
    "\n",
    "stopifnot(\n",
    "    length(new_set) == \n",
    "    length(\n",
    "        intersect(\n",
    "            new_set,\n",
    "            expected_set\n",
    "        )\n",
    "    )\n",
    ")"
   ]
  },
  {
   "cell_type": "code",
   "execution_count": 19,
   "metadata": {
    "execution": {
     "iopub.execute_input": "2021-07-16T16:21:10.601685Z",
     "iopub.status.busy": "2021-07-16T16:21:10.600817Z",
     "iopub.status.idle": "2021-07-16T16:21:10.612295Z",
     "shell.execute_reply": "2021-07-16T16:21:10.611583Z"
    },
    "papermill": {
     "duration": 0.031948,
     "end_time": "2021-07-16T16:21:10.612383",
     "exception": false,
     "start_time": "2021-07-16T16:21:10.580435",
     "status": "completed"
    },
    "tags": []
   },
   "outputs": [],
   "source": [
    "# test new decrease set\n",
    "new_set <- deg_gene_sets[[\"gene_set_decrease\"]]\n",
    "expected_set <- orig_deg_gene_sets[[\"gene_set_-3\"]]\n",
    "\n",
    "stopifnot(length(new_set) == length(unique(new_set)))\n",
    "\n",
    "stopifnot(\n",
    "    length(new_set) == \n",
    "    length(\n",
    "        intersect(\n",
    "            new_set,\n",
    "            expected_set\n",
    "        )\n",
    "    )\n",
    ")"
   ]
  },
  {
   "cell_type": "markdown",
   "metadata": {
    "papermill": {
     "duration": 0.017973,
     "end_time": "2021-07-16T16:21:10.648673",
     "exception": false,
     "start_time": "2021-07-16T16:21:10.630700",
     "status": "completed"
    },
    "tags": []
   },
   "source": [
    "## MultiPLIER Z"
   ]
  },
  {
   "cell_type": "code",
   "execution_count": 20,
   "metadata": {
    "execution": {
     "iopub.execute_input": "2021-07-16T16:21:10.688813Z",
     "iopub.status.busy": "2021-07-16T16:21:10.687954Z",
     "iopub.status.idle": "2021-07-16T16:21:11.040220Z",
     "shell.execute_reply": "2021-07-16T16:21:11.039382Z"
    },
    "papermill": {
     "duration": 0.372679,
     "end_time": "2021-07-16T16:21:11.040323",
     "exception": false,
     "start_time": "2021-07-16T16:21:10.667644",
     "status": "completed"
    },
    "tags": []
   },
   "outputs": [],
   "source": [
    "multiplier_z = pd$read_pickle(\n",
    "    Sys.getenv(\"PHENOPLIER_MULTIPLIER_MODEL_Z_MATRIX_FILE\")\n",
    ")"
   ]
  },
  {
   "cell_type": "code",
   "execution_count": 21,
   "metadata": {
    "execution": {
     "iopub.execute_input": "2021-07-16T16:21:11.082578Z",
     "iopub.status.busy": "2021-07-16T16:21:11.081773Z",
     "iopub.status.idle": "2021-07-16T16:21:11.090902Z",
     "shell.execute_reply": "2021-07-16T16:21:11.090104Z"
    },
    "papermill": {
     "duration": 0.029658,
     "end_time": "2021-07-16T16:21:11.090996",
     "exception": false,
     "start_time": "2021-07-16T16:21:11.061338",
     "status": "completed"
    },
    "tags": []
   },
   "outputs": [
    {
     "data": {
      "text/html": [
       "<style>\n",
       ".list-inline {list-style: none; margin:0; padding: 0}\n",
       ".list-inline>li {display: inline-block}\n",
       ".list-inline>li:not(:last-child)::after {content: \"\\00b7\"; padding: 0 .5ex}\n",
       "</style>\n",
       "<ol class=list-inline><li>6750</li><li>987</li></ol>\n"
      ],
      "text/latex": [
       "\\begin{enumerate*}\n",
       "\\item 6750\n",
       "\\item 987\n",
       "\\end{enumerate*}\n"
      ],
      "text/markdown": [
       "1. 6750\n",
       "2. 987\n",
       "\n",
       "\n"
      ],
      "text/plain": [
       "[1] 6750  987"
      ]
     },
     "metadata": {},
     "output_type": "display_data"
    }
   ],
   "source": [
    "dim(multiplier_z)"
   ]
  },
  {
   "cell_type": "code",
   "execution_count": 22,
   "metadata": {
    "execution": {
     "iopub.execute_input": "2021-07-16T16:21:11.131964Z",
     "iopub.status.busy": "2021-07-16T16:21:11.131100Z",
     "iopub.status.idle": "2021-07-16T16:21:11.214079Z",
     "shell.execute_reply": "2021-07-16T16:21:11.213218Z"
    },
    "papermill": {
     "duration": 0.104221,
     "end_time": "2021-07-16T16:21:11.214204",
     "exception": false,
     "start_time": "2021-07-16T16:21:11.109983",
     "status": "completed"
    },
    "tags": []
   },
   "outputs": [
    {
     "data": {
      "text/html": [
       "<table class=\"dataframe\">\n",
       "<caption>A data.frame: 6 × 987</caption>\n",
       "<thead>\n",
       "\t<tr><th></th><th scope=col>LV1</th><th scope=col>LV2</th><th scope=col>LV3</th><th scope=col>LV4</th><th scope=col>LV5</th><th scope=col>LV6</th><th scope=col>LV7</th><th scope=col>LV8</th><th scope=col>LV9</th><th scope=col>LV10</th><th scope=col>⋯</th><th scope=col>LV978</th><th scope=col>LV979</th><th scope=col>LV980</th><th scope=col>LV981</th><th scope=col>LV982</th><th scope=col>LV983</th><th scope=col>LV984</th><th scope=col>LV985</th><th scope=col>LV986</th><th scope=col>LV987</th></tr>\n",
       "\t<tr><th></th><th scope=col>&lt;dbl&gt;</th><th scope=col>&lt;dbl&gt;</th><th scope=col>&lt;dbl&gt;</th><th scope=col>&lt;dbl&gt;</th><th scope=col>&lt;dbl&gt;</th><th scope=col>&lt;dbl&gt;</th><th scope=col>&lt;dbl&gt;</th><th scope=col>&lt;dbl&gt;</th><th scope=col>&lt;dbl&gt;</th><th scope=col>&lt;dbl&gt;</th><th scope=col>⋯</th><th scope=col>&lt;dbl&gt;</th><th scope=col>&lt;dbl&gt;</th><th scope=col>&lt;dbl&gt;</th><th scope=col>&lt;dbl&gt;</th><th scope=col>&lt;dbl&gt;</th><th scope=col>&lt;dbl&gt;</th><th scope=col>&lt;dbl&gt;</th><th scope=col>&lt;dbl&gt;</th><th scope=col>&lt;dbl&gt;</th><th scope=col>&lt;dbl&gt;</th></tr>\n",
       "</thead>\n",
       "<tbody>\n",
       "\t<tr><th scope=row>GAS6</th><td>0.0000000</td><td>0</td><td>0.03943774</td><td>0</td><td>0.05047625</td><td>0.00000000</td><td>0.0000000</td><td>0.000000000</td><td>0.5909494</td><td>0.00000000</td><td>⋯</td><td>0.05012510</td><td>0.00000000</td><td>0.033407371</td><td>0.00000000</td><td>0.00000000</td><td>0.0059633917</td><td>0.34736209</td><td>0</td><td>0.00000000</td><td>0.00000000</td></tr>\n",
       "\t<tr><th scope=row>MMP14</th><td>0.0000000</td><td>0</td><td>0.00000000</td><td>0</td><td>0.07007159</td><td>0.00000000</td><td>0.0000000</td><td>0.004904131</td><td>1.7201788</td><td>2.42359463</td><td>⋯</td><td>0.00000000</td><td>0.00000000</td><td>0.001007286</td><td>0.00000000</td><td>0.03574724</td><td>0.0000000000</td><td>0.00000000</td><td>0</td><td>0.01497801</td><td>0.00000000</td></tr>\n",
       "\t<tr><th scope=row>DSP</th><td>0.0000000</td><td>0</td><td>0.00000000</td><td>0</td><td>0.00000000</td><td>0.04169683</td><td>0.0000000</td><td>0.005718149</td><td>0.0000000</td><td>0.00000000</td><td>⋯</td><td>0.02085321</td><td>0.00000000</td><td>0.000000000</td><td>0.00000000</td><td>0.00000000</td><td>0.0057744399</td><td>0.00000000</td><td>0</td><td>0.00000000</td><td>0.41640455</td></tr>\n",
       "\t<tr><th scope=row>MARCKSL1</th><td>0.3052117</td><td>0</td><td>0.00000000</td><td>0</td><td>0.00000000</td><td>0.00000000</td><td>0.0000000</td><td>0.000000000</td><td>0.1618435</td><td>0.14947148</td><td>⋯</td><td>0.02713418</td><td>0.05271997</td><td>0.000000000</td><td>0.03018947</td><td>0.06088351</td><td>0.0000000000</td><td>0.00000000</td><td>0</td><td>0.00000000</td><td>0.44847996</td></tr>\n",
       "\t<tr><th scope=row>SPARC</th><td>0.0000000</td><td>0</td><td>0.00000000</td><td>0</td><td>0.00000000</td><td>0.00000000</td><td>0.0000000</td><td>0.000000000</td><td>0.0000000</td><td>0.01401441</td><td>⋯</td><td>0.00000000</td><td>0.00000000</td><td>0.000000000</td><td>0.00000000</td><td>0.00000000</td><td>0.0000000000</td><td>0.06777859</td><td>0</td><td>0.12241734</td><td>0.06266490</td></tr>\n",
       "\t<tr><th scope=row>CTSD</th><td>0.2778532</td><td>0</td><td>0.06459781</td><td>0</td><td>0.00000000</td><td>0.00000000</td><td>0.4694809</td><td>0.099949232</td><td>0.9717295</td><td>0.43334911</td><td>⋯</td><td>0.00000000</td><td>0.01907577</td><td>0.008904815</td><td>0.00000000</td><td>0.00000000</td><td>0.0007222884</td><td>0.00000000</td><td>0</td><td>0.00000000</td><td>0.06193245</td></tr>\n",
       "</tbody>\n",
       "</table>\n"
      ],
      "text/latex": [
       "A data.frame: 6 × 987\n",
       "\\begin{tabular}{r|lllllllllllllllllllll}\n",
       "  & LV1 & LV2 & LV3 & LV4 & LV5 & LV6 & LV7 & LV8 & LV9 & LV10 & ⋯ & LV978 & LV979 & LV980 & LV981 & LV982 & LV983 & LV984 & LV985 & LV986 & LV987\\\\\n",
       "  & <dbl> & <dbl> & <dbl> & <dbl> & <dbl> & <dbl> & <dbl> & <dbl> & <dbl> & <dbl> & ⋯ & <dbl> & <dbl> & <dbl> & <dbl> & <dbl> & <dbl> & <dbl> & <dbl> & <dbl> & <dbl>\\\\\n",
       "\\hline\n",
       "\tGAS6 & 0.0000000 & 0 & 0.03943774 & 0 & 0.05047625 & 0.00000000 & 0.0000000 & 0.000000000 & 0.5909494 & 0.00000000 & ⋯ & 0.05012510 & 0.00000000 & 0.033407371 & 0.00000000 & 0.00000000 & 0.0059633917 & 0.34736209 & 0 & 0.00000000 & 0.00000000\\\\\n",
       "\tMMP14 & 0.0000000 & 0 & 0.00000000 & 0 & 0.07007159 & 0.00000000 & 0.0000000 & 0.004904131 & 1.7201788 & 2.42359463 & ⋯ & 0.00000000 & 0.00000000 & 0.001007286 & 0.00000000 & 0.03574724 & 0.0000000000 & 0.00000000 & 0 & 0.01497801 & 0.00000000\\\\\n",
       "\tDSP & 0.0000000 & 0 & 0.00000000 & 0 & 0.00000000 & 0.04169683 & 0.0000000 & 0.005718149 & 0.0000000 & 0.00000000 & ⋯ & 0.02085321 & 0.00000000 & 0.000000000 & 0.00000000 & 0.00000000 & 0.0057744399 & 0.00000000 & 0 & 0.00000000 & 0.41640455\\\\\n",
       "\tMARCKSL1 & 0.3052117 & 0 & 0.00000000 & 0 & 0.00000000 & 0.00000000 & 0.0000000 & 0.000000000 & 0.1618435 & 0.14947148 & ⋯ & 0.02713418 & 0.05271997 & 0.000000000 & 0.03018947 & 0.06088351 & 0.0000000000 & 0.00000000 & 0 & 0.00000000 & 0.44847996\\\\\n",
       "\tSPARC & 0.0000000 & 0 & 0.00000000 & 0 & 0.00000000 & 0.00000000 & 0.0000000 & 0.000000000 & 0.0000000 & 0.01401441 & ⋯ & 0.00000000 & 0.00000000 & 0.000000000 & 0.00000000 & 0.00000000 & 0.0000000000 & 0.06777859 & 0 & 0.12241734 & 0.06266490\\\\\n",
       "\tCTSD & 0.2778532 & 0 & 0.06459781 & 0 & 0.00000000 & 0.00000000 & 0.4694809 & 0.099949232 & 0.9717295 & 0.43334911 & ⋯ & 0.00000000 & 0.01907577 & 0.008904815 & 0.00000000 & 0.00000000 & 0.0007222884 & 0.00000000 & 0 & 0.00000000 & 0.06193245\\\\\n",
       "\\end{tabular}\n"
      ],
      "text/markdown": [
       "\n",
       "A data.frame: 6 × 987\n",
       "\n",
       "| <!--/--> | LV1 &lt;dbl&gt; | LV2 &lt;dbl&gt; | LV3 &lt;dbl&gt; | LV4 &lt;dbl&gt; | LV5 &lt;dbl&gt; | LV6 &lt;dbl&gt; | LV7 &lt;dbl&gt; | LV8 &lt;dbl&gt; | LV9 &lt;dbl&gt; | LV10 &lt;dbl&gt; | ⋯ ⋯ | LV978 &lt;dbl&gt; | LV979 &lt;dbl&gt; | LV980 &lt;dbl&gt; | LV981 &lt;dbl&gt; | LV982 &lt;dbl&gt; | LV983 &lt;dbl&gt; | LV984 &lt;dbl&gt; | LV985 &lt;dbl&gt; | LV986 &lt;dbl&gt; | LV987 &lt;dbl&gt; |\n",
       "|---|---|---|---|---|---|---|---|---|---|---|---|---|---|---|---|---|---|---|---|---|---|\n",
       "| GAS6 | 0.0000000 | 0 | 0.03943774 | 0 | 0.05047625 | 0.00000000 | 0.0000000 | 0.000000000 | 0.5909494 | 0.00000000 | ⋯ | 0.05012510 | 0.00000000 | 0.033407371 | 0.00000000 | 0.00000000 | 0.0059633917 | 0.34736209 | 0 | 0.00000000 | 0.00000000 |\n",
       "| MMP14 | 0.0000000 | 0 | 0.00000000 | 0 | 0.07007159 | 0.00000000 | 0.0000000 | 0.004904131 | 1.7201788 | 2.42359463 | ⋯ | 0.00000000 | 0.00000000 | 0.001007286 | 0.00000000 | 0.03574724 | 0.0000000000 | 0.00000000 | 0 | 0.01497801 | 0.00000000 |\n",
       "| DSP | 0.0000000 | 0 | 0.00000000 | 0 | 0.00000000 | 0.04169683 | 0.0000000 | 0.005718149 | 0.0000000 | 0.00000000 | ⋯ | 0.02085321 | 0.00000000 | 0.000000000 | 0.00000000 | 0.00000000 | 0.0057744399 | 0.00000000 | 0 | 0.00000000 | 0.41640455 |\n",
       "| MARCKSL1 | 0.3052117 | 0 | 0.00000000 | 0 | 0.00000000 | 0.00000000 | 0.0000000 | 0.000000000 | 0.1618435 | 0.14947148 | ⋯ | 0.02713418 | 0.05271997 | 0.000000000 | 0.03018947 | 0.06088351 | 0.0000000000 | 0.00000000 | 0 | 0.00000000 | 0.44847996 |\n",
       "| SPARC | 0.0000000 | 0 | 0.00000000 | 0 | 0.00000000 | 0.00000000 | 0.0000000 | 0.000000000 | 0.0000000 | 0.01401441 | ⋯ | 0.00000000 | 0.00000000 | 0.000000000 | 0.00000000 | 0.00000000 | 0.0000000000 | 0.06777859 | 0 | 0.12241734 | 0.06266490 |\n",
       "| CTSD | 0.2778532 | 0 | 0.06459781 | 0 | 0.00000000 | 0.00000000 | 0.4694809 | 0.099949232 | 0.9717295 | 0.43334911 | ⋯ | 0.00000000 | 0.01907577 | 0.008904815 | 0.00000000 | 0.00000000 | 0.0007222884 | 0.00000000 | 0 | 0.00000000 | 0.06193245 |\n",
       "\n"
      ],
      "text/plain": [
       "         LV1       LV2 LV3        LV4 LV5        LV6        LV7      \n",
       "GAS6     0.0000000 0   0.03943774 0   0.05047625 0.00000000 0.0000000\n",
       "MMP14    0.0000000 0   0.00000000 0   0.07007159 0.00000000 0.0000000\n",
       "DSP      0.0000000 0   0.00000000 0   0.00000000 0.04169683 0.0000000\n",
       "MARCKSL1 0.3052117 0   0.00000000 0   0.00000000 0.00000000 0.0000000\n",
       "SPARC    0.0000000 0   0.00000000 0   0.00000000 0.00000000 0.0000000\n",
       "CTSD     0.2778532 0   0.06459781 0   0.00000000 0.00000000 0.4694809\n",
       "         LV8         LV9       LV10       ⋯ LV978      LV979      LV980      \n",
       "GAS6     0.000000000 0.5909494 0.00000000 ⋯ 0.05012510 0.00000000 0.033407371\n",
       "MMP14    0.004904131 1.7201788 2.42359463 ⋯ 0.00000000 0.00000000 0.001007286\n",
       "DSP      0.005718149 0.0000000 0.00000000 ⋯ 0.02085321 0.00000000 0.000000000\n",
       "MARCKSL1 0.000000000 0.1618435 0.14947148 ⋯ 0.02713418 0.05271997 0.000000000\n",
       "SPARC    0.000000000 0.0000000 0.01401441 ⋯ 0.00000000 0.00000000 0.000000000\n",
       "CTSD     0.099949232 0.9717295 0.43334911 ⋯ 0.00000000 0.01907577 0.008904815\n",
       "         LV981      LV982      LV983        LV984      LV985 LV986     \n",
       "GAS6     0.00000000 0.00000000 0.0059633917 0.34736209 0     0.00000000\n",
       "MMP14    0.00000000 0.03574724 0.0000000000 0.00000000 0     0.01497801\n",
       "DSP      0.00000000 0.00000000 0.0057744399 0.00000000 0     0.00000000\n",
       "MARCKSL1 0.03018947 0.06088351 0.0000000000 0.00000000 0     0.00000000\n",
       "SPARC    0.00000000 0.00000000 0.0000000000 0.06777859 0     0.12241734\n",
       "CTSD     0.00000000 0.00000000 0.0007222884 0.00000000 0     0.00000000\n",
       "         LV987     \n",
       "GAS6     0.00000000\n",
       "MMP14    0.00000000\n",
       "DSP      0.41640455\n",
       "MARCKSL1 0.44847996\n",
       "SPARC    0.06266490\n",
       "CTSD     0.06193245"
      ]
     },
     "metadata": {},
     "output_type": "display_data"
    }
   ],
   "source": [
    "head(multiplier_z)"
   ]
  },
  {
   "cell_type": "markdown",
   "metadata": {
    "papermill": {
     "duration": 0.019231,
     "end_time": "2021-07-16T16:21:11.253027",
     "exception": false,
     "start_time": "2021-07-16T16:21:11.233796",
     "status": "completed"
    },
    "tags": []
   },
   "source": [
    "# Prepare LVs list"
   ]
  },
  {
   "cell_type": "code",
   "execution_count": 23,
   "metadata": {
    "execution": {
     "iopub.execute_input": "2021-07-16T16:21:11.294182Z",
     "iopub.status.busy": "2021-07-16T16:21:11.293336Z",
     "iopub.status.idle": "2021-07-16T16:21:11.324651Z",
     "shell.execute_reply": "2021-07-16T16:21:11.323906Z"
    },
    "papermill": {
     "duration": 0.052738,
     "end_time": "2021-07-16T16:21:11.324796",
     "exception": false,
     "start_time": "2021-07-16T16:21:11.272058",
     "status": "completed"
    },
    "tags": []
   },
   "outputs": [],
   "source": [
    "lvs = list()\n",
    "z_gene_names <- rownames(multiplier_z)\n",
    "\n",
    "for (cidx in 1:ncol(multiplier_z)) {\n",
    "    data <- multiplier_z[, cidx]\n",
    "    names(data) <- z_gene_names\n",
    "    \n",
    "    lvs[[paste0(\"LV\", cidx)]] <- data # [data > 0.0]\n",
    "}"
   ]
  },
  {
   "cell_type": "code",
   "execution_count": 24,
   "metadata": {
    "execution": {
     "iopub.execute_input": "2021-07-16T16:21:11.367311Z",
     "iopub.status.busy": "2021-07-16T16:21:11.366313Z",
     "iopub.status.idle": "2021-07-16T16:21:11.378262Z",
     "shell.execute_reply": "2021-07-16T16:21:11.377331Z"
    },
    "papermill": {
     "duration": 0.033882,
     "end_time": "2021-07-16T16:21:11.378347",
     "exception": false,
     "start_time": "2021-07-16T16:21:11.344465",
     "status": "completed"
    },
    "tags": []
   },
   "outputs": [
    {
     "data": {
      "text/html": [
       "987"
      ],
      "text/latex": [
       "987"
      ],
      "text/markdown": [
       "987"
      ],
      "text/plain": [
       "[1] 987"
      ]
     },
     "metadata": {},
     "output_type": "display_data"
    }
   ],
   "source": [
    "display(length(lvs))\n",
    "stopifnot(length(lvs) == 987)"
   ]
  },
  {
   "cell_type": "markdown",
   "metadata": {
    "papermill": {
     "duration": 0.019832,
     "end_time": "2021-07-16T16:21:11.418384",
     "exception": false,
     "start_time": "2021-07-16T16:21:11.398552",
     "status": "completed"
    },
    "tags": []
   },
   "source": [
    "# Compute enrichment on all LVs"
   ]
  },
  {
   "cell_type": "code",
   "execution_count": 25,
   "metadata": {
    "execution": {
     "iopub.execute_input": "2021-07-16T16:21:11.465426Z",
     "iopub.status.busy": "2021-07-16T16:21:11.464454Z",
     "iopub.status.idle": "2021-07-16T16:21:11.473135Z",
     "shell.execute_reply": "2021-07-16T16:21:11.472269Z"
    },
    "papermill": {
     "duration": 0.033325,
     "end_time": "2021-07-16T16:21:11.473233",
     "exception": false,
     "start_time": "2021-07-16T16:21:11.439908",
     "status": "completed"
    },
    "tags": []
   },
   "outputs": [],
   "source": [
    "n_reps = 10"
   ]
  },
  {
   "cell_type": "code",
   "execution_count": 26,
   "metadata": {
    "execution": {
     "iopub.execute_input": "2021-07-16T16:21:11.517380Z",
     "iopub.status.busy": "2021-07-16T16:21:11.516305Z",
     "iopub.status.idle": "2021-07-16T16:21:11.524943Z",
     "shell.execute_reply": "2021-07-16T16:21:11.523979Z"
    },
    "papermill": {
     "duration": 0.030697,
     "end_time": "2021-07-16T16:21:11.525030",
     "exception": false,
     "start_time": "2021-07-16T16:21:11.494333",
     "status": "completed"
    },
    "tags": []
   },
   "outputs": [],
   "source": [
    "set.seed(0)"
   ]
  },
  {
   "cell_type": "code",
   "execution_count": 27,
   "metadata": {
    "execution": {
     "iopub.execute_input": "2021-07-16T16:21:11.568990Z",
     "iopub.status.busy": "2021-07-16T16:21:11.567934Z",
     "iopub.status.idle": "2021-07-16T16:23:36.971775Z",
     "shell.execute_reply": "2021-07-16T16:23:36.971107Z"
    },
    "papermill": {
     "duration": 145.426641,
     "end_time": "2021-07-16T16:23:36.971867",
     "exception": false,
     "start_time": "2021-07-16T16:21:11.545226",
     "status": "completed"
    },
    "tags": []
   },
   "outputs": [],
   "source": [
    "results = list()\n",
    "\n",
    "for (lv in names(lvs)) {\n",
    "    repetitions = list()\n",
    "    \n",
    "    for (i in 1:n_reps) {\n",
    "        rep_res <- fgsea(pathways = deg_gene_sets, stats = lvs[[lv]], scoreType = \"pos\", eps = 0.0)[order(pval), ]\n",
    "        rep_res[, \"lv\"] <- lv\n",
    "        rep_res[, \"rep_idx\"] <- i\n",
    "        \n",
    "        repetitions[[i]] <- rep_res\n",
    "    }\n",
    "    \n",
    "    res <- do.call(rbind, repetitions)\n",
    "\n",
    "    results[[lv]] <- res\n",
    "}"
   ]
  },
  {
   "cell_type": "code",
   "execution_count": 28,
   "metadata": {
    "execution": {
     "iopub.execute_input": "2021-07-16T16:23:37.903830Z",
     "iopub.status.busy": "2021-07-16T16:23:37.903027Z",
     "iopub.status.idle": "2021-07-16T16:23:37.912995Z",
     "shell.execute_reply": "2021-07-16T16:23:37.912119Z"
    },
    "papermill": {
     "duration": 0.920082,
     "end_time": "2021-07-16T16:23:37.913091",
     "exception": false,
     "start_time": "2021-07-16T16:23:36.993009",
     "status": "completed"
    },
    "tags": []
   },
   "outputs": [
    {
     "data": {
      "text/html": [
       "987"
      ],
      "text/latex": [
       "987"
      ],
      "text/markdown": [
       "987"
      ],
      "text/plain": [
       "[1] 987"
      ]
     },
     "metadata": {},
     "output_type": "display_data"
    }
   ],
   "source": [
    "length(results)"
   ]
  },
  {
   "cell_type": "code",
   "execution_count": 29,
   "metadata": {
    "execution": {
     "iopub.execute_input": "2021-07-16T16:23:37.960039Z",
     "iopub.status.busy": "2021-07-16T16:23:37.959219Z",
     "iopub.status.idle": "2021-07-16T16:23:37.973183Z",
     "shell.execute_reply": "2021-07-16T16:23:37.972414Z"
    },
    "papermill": {
     "duration": 0.037337,
     "end_time": "2021-07-16T16:23:37.973280",
     "exception": false,
     "start_time": "2021-07-16T16:23:37.935943",
     "status": "completed"
    },
    "tags": []
   },
   "outputs": [],
   "source": [
    "df <- do.call(rbind, results)"
   ]
  },
  {
   "cell_type": "code",
   "execution_count": 30,
   "metadata": {
    "execution": {
     "iopub.execute_input": "2021-07-16T16:23:38.022831Z",
     "iopub.status.busy": "2021-07-16T16:23:38.021832Z",
     "iopub.status.idle": "2021-07-16T16:23:38.145609Z",
     "shell.execute_reply": "2021-07-16T16:23:38.144667Z"
    },
    "papermill": {
     "duration": 0.14964,
     "end_time": "2021-07-16T16:23:38.145720",
     "exception": false,
     "start_time": "2021-07-16T16:23:37.996080",
     "status": "completed"
    },
    "tags": []
   },
   "outputs": [],
   "source": [
    "df <- df %>% mutate(leadingEdge = map_chr(leadingEdge, toString))"
   ]
  },
  {
   "cell_type": "code",
   "execution_count": 31,
   "metadata": {
    "execution": {
     "iopub.execute_input": "2021-07-16T16:23:38.194961Z",
     "iopub.status.busy": "2021-07-16T16:23:38.194033Z",
     "iopub.status.idle": "2021-07-16T16:23:38.204053Z",
     "shell.execute_reply": "2021-07-16T16:23:38.203157Z"
    },
    "papermill": {
     "duration": 0.033844,
     "end_time": "2021-07-16T16:23:38.204144",
     "exception": false,
     "start_time": "2021-07-16T16:23:38.170300",
     "status": "completed"
    },
    "tags": []
   },
   "outputs": [
    {
     "data": {
      "text/html": [
       "<style>\n",
       ".list-inline {list-style: none; margin:0; padding: 0}\n",
       ".list-inline>li {display: inline-block}\n",
       ".list-inline>li:not(:last-child)::after {content: \"\\00b7\"; padding: 0 .5ex}\n",
       "</style>\n",
       "<ol class=list-inline><li>19740</li><li>10</li></ol>\n"
      ],
      "text/latex": [
       "\\begin{enumerate*}\n",
       "\\item 19740\n",
       "\\item 10\n",
       "\\end{enumerate*}\n"
      ],
      "text/markdown": [
       "1. 19740\n",
       "2. 10\n",
       "\n",
       "\n"
      ],
      "text/plain": [
       "[1] 19740    10"
      ]
     },
     "metadata": {},
     "output_type": "display_data"
    }
   ],
   "source": [
    "dim(df)"
   ]
  },
  {
   "cell_type": "code",
   "execution_count": 32,
   "metadata": {
    "execution": {
     "iopub.execute_input": "2021-07-16T16:23:38.250558Z",
     "iopub.status.busy": "2021-07-16T16:23:38.249614Z",
     "iopub.status.idle": "2021-07-16T16:23:38.267387Z",
     "shell.execute_reply": "2021-07-16T16:23:38.266481Z"
    },
    "papermill": {
     "duration": 0.041265,
     "end_time": "2021-07-16T16:23:38.267483",
     "exception": false,
     "start_time": "2021-07-16T16:23:38.226218",
     "status": "completed"
    },
    "tags": []
   },
   "outputs": [
    {
     "data": {
      "text/html": [
       "<table class=\"dataframe\">\n",
       "<caption>A data.table: 6 × 10</caption>\n",
       "<thead>\n",
       "\t<tr><th scope=col>pathway</th><th scope=col>pval</th><th scope=col>padj</th><th scope=col>log2err</th><th scope=col>ES</th><th scope=col>NES</th><th scope=col>size</th><th scope=col>leadingEdge</th><th scope=col>lv</th><th scope=col>rep_idx</th></tr>\n",
       "\t<tr><th scope=col>&lt;chr&gt;</th><th scope=col>&lt;dbl&gt;</th><th scope=col>&lt;dbl&gt;</th><th scope=col>&lt;dbl&gt;</th><th scope=col>&lt;dbl&gt;</th><th scope=col>&lt;dbl&gt;</th><th scope=col>&lt;int&gt;</th><th scope=col>&lt;chr&gt;</th><th scope=col>&lt;chr&gt;</th><th scope=col>&lt;int&gt;</th></tr>\n",
       "</thead>\n",
       "<tbody>\n",
       "\t<tr><td>gene_set_decrease</td><td>0.0959041</td><td>0.1918082</td><td>0.14040624</td><td>0.9095092</td><td>1.257073</td><td>5</td><td>PCYT2, UBE2J2, FBXW7</td><td>LV1</td><td>1</td></tr>\n",
       "\t<tr><td>gene_set_increase</td><td>0.2287712</td><td>0.2287712</td><td>0.08383611</td><td>0.8402528</td><td>1.286063</td><td>3</td><td>ACACA, MBTPS1       </td><td>LV1</td><td>1</td></tr>\n",
       "\t<tr><td>gene_set_decrease</td><td>0.1018981</td><td>0.2037962</td><td>0.13574094</td><td>0.9095092</td><td>1.253560</td><td>5</td><td>PCYT2, UBE2J2, FBXW7</td><td>LV1</td><td>2</td></tr>\n",
       "\t<tr><td>gene_set_increase</td><td>0.2857143</td><td>0.2857143</td><td>0.07217980</td><td>0.8402528</td><td>1.258282</td><td>3</td><td>ACACA, MBTPS1       </td><td>LV1</td><td>2</td></tr>\n",
       "\t<tr><td>gene_set_decrease</td><td>0.0979021</td><td>0.1958042</td><td>0.13880511</td><td>0.9095092</td><td>1.260276</td><td>5</td><td>PCYT2, UBE2J2, FBXW7</td><td>LV1</td><td>3</td></tr>\n",
       "\t<tr><td>gene_set_increase</td><td>0.2667333</td><td>0.2667333</td><td>0.07569463</td><td>0.8402528</td><td>1.257656</td><td>3</td><td>ACACA, MBTPS1       </td><td>LV1</td><td>3</td></tr>\n",
       "</tbody>\n",
       "</table>\n"
      ],
      "text/latex": [
       "A data.table: 6 × 10\n",
       "\\begin{tabular}{llllllllll}\n",
       " pathway & pval & padj & log2err & ES & NES & size & leadingEdge & lv & rep\\_idx\\\\\n",
       " <chr> & <dbl> & <dbl> & <dbl> & <dbl> & <dbl> & <int> & <chr> & <chr> & <int>\\\\\n",
       "\\hline\n",
       "\t gene\\_set\\_decrease & 0.0959041 & 0.1918082 & 0.14040624 & 0.9095092 & 1.257073 & 5 & PCYT2, UBE2J2, FBXW7 & LV1 & 1\\\\\n",
       "\t gene\\_set\\_increase & 0.2287712 & 0.2287712 & 0.08383611 & 0.8402528 & 1.286063 & 3 & ACACA, MBTPS1        & LV1 & 1\\\\\n",
       "\t gene\\_set\\_decrease & 0.1018981 & 0.2037962 & 0.13574094 & 0.9095092 & 1.253560 & 5 & PCYT2, UBE2J2, FBXW7 & LV1 & 2\\\\\n",
       "\t gene\\_set\\_increase & 0.2857143 & 0.2857143 & 0.07217980 & 0.8402528 & 1.258282 & 3 & ACACA, MBTPS1        & LV1 & 2\\\\\n",
       "\t gene\\_set\\_decrease & 0.0979021 & 0.1958042 & 0.13880511 & 0.9095092 & 1.260276 & 5 & PCYT2, UBE2J2, FBXW7 & LV1 & 3\\\\\n",
       "\t gene\\_set\\_increase & 0.2667333 & 0.2667333 & 0.07569463 & 0.8402528 & 1.257656 & 3 & ACACA, MBTPS1        & LV1 & 3\\\\\n",
       "\\end{tabular}\n"
      ],
      "text/markdown": [
       "\n",
       "A data.table: 6 × 10\n",
       "\n",
       "| pathway &lt;chr&gt; | pval &lt;dbl&gt; | padj &lt;dbl&gt; | log2err &lt;dbl&gt; | ES &lt;dbl&gt; | NES &lt;dbl&gt; | size &lt;int&gt; | leadingEdge &lt;chr&gt; | lv &lt;chr&gt; | rep_idx &lt;int&gt; |\n",
       "|---|---|---|---|---|---|---|---|---|---|\n",
       "| gene_set_decrease | 0.0959041 | 0.1918082 | 0.14040624 | 0.9095092 | 1.257073 | 5 | PCYT2, UBE2J2, FBXW7 | LV1 | 1 |\n",
       "| gene_set_increase | 0.2287712 | 0.2287712 | 0.08383611 | 0.8402528 | 1.286063 | 3 | ACACA, MBTPS1        | LV1 | 1 |\n",
       "| gene_set_decrease | 0.1018981 | 0.2037962 | 0.13574094 | 0.9095092 | 1.253560 | 5 | PCYT2, UBE2J2, FBXW7 | LV1 | 2 |\n",
       "| gene_set_increase | 0.2857143 | 0.2857143 | 0.07217980 | 0.8402528 | 1.258282 | 3 | ACACA, MBTPS1        | LV1 | 2 |\n",
       "| gene_set_decrease | 0.0979021 | 0.1958042 | 0.13880511 | 0.9095092 | 1.260276 | 5 | PCYT2, UBE2J2, FBXW7 | LV1 | 3 |\n",
       "| gene_set_increase | 0.2667333 | 0.2667333 | 0.07569463 | 0.8402528 | 1.257656 | 3 | ACACA, MBTPS1        | LV1 | 3 |\n",
       "\n"
      ],
      "text/plain": [
       "  pathway           pval      padj      log2err    ES        NES      size\n",
       "1 gene_set_decrease 0.0959041 0.1918082 0.14040624 0.9095092 1.257073 5   \n",
       "2 gene_set_increase 0.2287712 0.2287712 0.08383611 0.8402528 1.286063 3   \n",
       "3 gene_set_decrease 0.1018981 0.2037962 0.13574094 0.9095092 1.253560 5   \n",
       "4 gene_set_increase 0.2857143 0.2857143 0.07217980 0.8402528 1.258282 3   \n",
       "5 gene_set_decrease 0.0979021 0.1958042 0.13880511 0.9095092 1.260276 5   \n",
       "6 gene_set_increase 0.2667333 0.2667333 0.07569463 0.8402528 1.257656 3   \n",
       "  leadingEdge          lv  rep_idx\n",
       "1 PCYT2, UBE2J2, FBXW7 LV1 1      \n",
       "2 ACACA, MBTPS1        LV1 1      \n",
       "3 PCYT2, UBE2J2, FBXW7 LV1 2      \n",
       "4 ACACA, MBTPS1        LV1 2      \n",
       "5 PCYT2, UBE2J2, FBXW7 LV1 3      \n",
       "6 ACACA, MBTPS1        LV1 3      "
      ]
     },
     "metadata": {},
     "output_type": "display_data"
    }
   ],
   "source": [
    "head(df)"
   ]
  },
  {
   "cell_type": "markdown",
   "metadata": {
    "papermill": {
     "duration": 0.021976,
     "end_time": "2021-07-16T16:23:38.314768",
     "exception": false,
     "start_time": "2021-07-16T16:23:38.292792",
     "status": "completed"
    },
    "tags": []
   },
   "source": [
    "## Save"
   ]
  },
  {
   "cell_type": "code",
   "execution_count": 33,
   "metadata": {
    "execution": {
     "iopub.execute_input": "2021-07-16T16:23:38.360172Z",
     "iopub.status.busy": "2021-07-16T16:23:38.359343Z",
     "iopub.status.idle": "2021-07-16T16:23:38.369767Z",
     "shell.execute_reply": "2021-07-16T16:23:38.368961Z"
    },
    "papermill": {
     "duration": 0.033825,
     "end_time": "2021-07-16T16:23:38.369853",
     "exception": false,
     "start_time": "2021-07-16T16:23:38.336028",
     "status": "completed"
    },
    "tags": []
   },
   "outputs": [
    {
     "data": {
      "text/html": [
       "'/home/miltondp/projects/labs/greenelab/phenoplier/base/results/crispr_analyses/fgsea-hi_conf-all_lvs.tsv'"
      ],
      "text/latex": [
       "'/home/miltondp/projects/labs/greenelab/phenoplier/base/results/crispr\\_analyses/fgsea-hi\\_conf-all\\_lvs.tsv'"
      ],
      "text/markdown": [
       "'/home/miltondp/projects/labs/greenelab/phenoplier/base/results/crispr_analyses/fgsea-hi_conf-all_lvs.tsv'"
      ],
      "text/plain": [
       "[1] \"/home/miltondp/projects/labs/greenelab/phenoplier/base/results/crispr_analyses/fgsea-hi_conf-all_lvs.tsv\""
      ]
     },
     "metadata": {},
     "output_type": "display_data"
    }
   ],
   "source": [
    "output_file <- file.path(OUTPUT_DIR, \"fgsea-hi_conf-all_lvs.tsv\")\n",
    "display(output_file)"
   ]
  },
  {
   "cell_type": "code",
   "execution_count": 34,
   "metadata": {
    "execution": {
     "iopub.execute_input": "2021-07-16T16:23:38.416514Z",
     "iopub.status.busy": "2021-07-16T16:23:38.415685Z",
     "iopub.status.idle": "2021-07-16T16:23:38.480132Z",
     "shell.execute_reply": "2021-07-16T16:23:38.479407Z"
    },
    "papermill": {
     "duration": 0.088332,
     "end_time": "2021-07-16T16:23:38.480216",
     "exception": false,
     "start_time": "2021-07-16T16:23:38.391884",
     "status": "completed"
    },
    "tags": []
   },
   "outputs": [],
   "source": [
    "write_tsv(df, output_file)"
   ]
  },
  {
   "cell_type": "markdown",
   "metadata": {
    "papermill": {
     "duration": 0.022174,
     "end_time": "2021-07-16T16:23:38.524964",
     "exception": false,
     "start_time": "2021-07-16T16:23:38.502790",
     "status": "completed"
    },
    "tags": []
   },
   "source": [
    "# Quick analyses/tests"
   ]
  },
  {
   "cell_type": "markdown",
   "metadata": {
    "papermill": {
     "duration": 0.021776,
     "end_time": "2021-07-16T16:23:38.568646",
     "exception": false,
     "start_time": "2021-07-16T16:23:38.546870",
     "status": "completed"
    },
    "tags": []
   },
   "source": [
    "## See how one LV looks like"
   ]
  },
  {
   "cell_type": "code",
   "execution_count": 35,
   "metadata": {
    "execution": {
     "iopub.execute_input": "2021-07-16T16:23:38.615363Z",
     "iopub.status.busy": "2021-07-16T16:23:38.614546Z",
     "iopub.status.idle": "2021-07-16T16:23:38.635549Z",
     "shell.execute_reply": "2021-07-16T16:23:38.634688Z"
    },
    "papermill": {
     "duration": 0.045019,
     "end_time": "2021-07-16T16:23:38.635639",
     "exception": false,
     "start_time": "2021-07-16T16:23:38.590620",
     "status": "completed"
    },
    "tags": []
   },
   "outputs": [
    {
     "data": {
      "text/html": [
       "<table class=\"dataframe\">\n",
       "<caption>A data.table: 10 × 10</caption>\n",
       "<thead>\n",
       "\t<tr><th scope=col>pathway</th><th scope=col>pval</th><th scope=col>padj</th><th scope=col>log2err</th><th scope=col>ES</th><th scope=col>NES</th><th scope=col>size</th><th scope=col>leadingEdge</th><th scope=col>lv</th><th scope=col>rep_idx</th></tr>\n",
       "\t<tr><th scope=col>&lt;chr&gt;</th><th scope=col>&lt;dbl&gt;</th><th scope=col>&lt;dbl&gt;</th><th scope=col>&lt;dbl&gt;</th><th scope=col>&lt;dbl&gt;</th><th scope=col>&lt;dbl&gt;</th><th scope=col>&lt;int&gt;</th><th scope=col>&lt;chr&gt;</th><th scope=col>&lt;chr&gt;</th><th scope=col>&lt;int&gt;</th></tr>\n",
       "</thead>\n",
       "<tbody>\n",
       "\t<tr><td>gene_set_increase</td><td>0.8631369</td><td>0.9080919</td><td>0.01816749</td><td>0.5036312</td><td>0.7534076</td><td>3</td><td>ACACA, MBTPS1, DGAT2</td><td>LV100</td><td> 1</td></tr>\n",
       "\t<tr><td>gene_set_increase</td><td>0.8671329</td><td>0.9070929</td><td>0.01785899</td><td>0.5036312</td><td>0.7542640</td><td>3</td><td>ACACA, MBTPS1, DGAT2</td><td>LV100</td><td> 8</td></tr>\n",
       "\t<tr><td>gene_set_increase</td><td>0.8571429</td><td>0.9030969</td><td>0.01862588</td><td>0.5036312</td><td>0.7604084</td><td>3</td><td>ACACA, MBTPS1, DGAT2</td><td>LV100</td><td> 7</td></tr>\n",
       "\t<tr><td>gene_set_increase</td><td>0.8681319</td><td>0.9020979</td><td>0.01778148</td><td>0.5036312</td><td>0.7576500</td><td>3</td><td>ACACA, MBTPS1, DGAT2</td><td>LV100</td><td> 9</td></tr>\n",
       "\t<tr><td>gene_set_increase</td><td>0.8551449</td><td>0.9010989</td><td>0.01877759</td><td>0.5036312</td><td>0.7623073</td><td>3</td><td>ACACA, MBTPS1, DGAT2</td><td>LV100</td><td> 5</td></tr>\n",
       "\t<tr><td>gene_set_increase</td><td>0.8501499</td><td>0.8961039</td><td>0.01915466</td><td>0.5036312</td><td>0.7620100</td><td>3</td><td>ACACA, MBTPS1, DGAT2</td><td>LV100</td><td> 2</td></tr>\n",
       "\t<tr><td>gene_set_increase</td><td>0.8551449</td><td>0.8961039</td><td>0.01877759</td><td>0.5036312</td><td>0.7678539</td><td>3</td><td>ACACA, MBTPS1, DGAT2</td><td>LV100</td><td> 3</td></tr>\n",
       "\t<tr><td>gene_set_increase</td><td>0.8591409</td><td>0.8951049</td><td>0.01847364</td><td>0.5036312</td><td>0.7515552</td><td>3</td><td>ACACA, MBTPS1, DGAT2</td><td>LV100</td><td>10</td></tr>\n",
       "\t<tr><td>gene_set_increase</td><td>0.8701299</td><td>0.8931069</td><td>0.01762598</td><td>0.5036312</td><td>0.7535733</td><td>3</td><td>ACACA, MBTPS1, DGAT2</td><td>LV100</td><td> 4</td></tr>\n",
       "\t<tr><td>gene_set_increase</td><td>0.8661339</td><td>0.8881119</td><td>0.01793635</td><td>0.5036312</td><td>0.7594586</td><td>3</td><td>ACACA, MBTPS1, DGAT2</td><td>LV100</td><td> 6</td></tr>\n",
       "</tbody>\n",
       "</table>\n"
      ],
      "text/latex": [
       "A data.table: 10 × 10\n",
       "\\begin{tabular}{llllllllll}\n",
       " pathway & pval & padj & log2err & ES & NES & size & leadingEdge & lv & rep\\_idx\\\\\n",
       " <chr> & <dbl> & <dbl> & <dbl> & <dbl> & <dbl> & <int> & <chr> & <chr> & <int>\\\\\n",
       "\\hline\n",
       "\t gene\\_set\\_increase & 0.8631369 & 0.9080919 & 0.01816749 & 0.5036312 & 0.7534076 & 3 & ACACA, MBTPS1, DGAT2 & LV100 &  1\\\\\n",
       "\t gene\\_set\\_increase & 0.8671329 & 0.9070929 & 0.01785899 & 0.5036312 & 0.7542640 & 3 & ACACA, MBTPS1, DGAT2 & LV100 &  8\\\\\n",
       "\t gene\\_set\\_increase & 0.8571429 & 0.9030969 & 0.01862588 & 0.5036312 & 0.7604084 & 3 & ACACA, MBTPS1, DGAT2 & LV100 &  7\\\\\n",
       "\t gene\\_set\\_increase & 0.8681319 & 0.9020979 & 0.01778148 & 0.5036312 & 0.7576500 & 3 & ACACA, MBTPS1, DGAT2 & LV100 &  9\\\\\n",
       "\t gene\\_set\\_increase & 0.8551449 & 0.9010989 & 0.01877759 & 0.5036312 & 0.7623073 & 3 & ACACA, MBTPS1, DGAT2 & LV100 &  5\\\\\n",
       "\t gene\\_set\\_increase & 0.8501499 & 0.8961039 & 0.01915466 & 0.5036312 & 0.7620100 & 3 & ACACA, MBTPS1, DGAT2 & LV100 &  2\\\\\n",
       "\t gene\\_set\\_increase & 0.8551449 & 0.8961039 & 0.01877759 & 0.5036312 & 0.7678539 & 3 & ACACA, MBTPS1, DGAT2 & LV100 &  3\\\\\n",
       "\t gene\\_set\\_increase & 0.8591409 & 0.8951049 & 0.01847364 & 0.5036312 & 0.7515552 & 3 & ACACA, MBTPS1, DGAT2 & LV100 & 10\\\\\n",
       "\t gene\\_set\\_increase & 0.8701299 & 0.8931069 & 0.01762598 & 0.5036312 & 0.7535733 & 3 & ACACA, MBTPS1, DGAT2 & LV100 &  4\\\\\n",
       "\t gene\\_set\\_increase & 0.8661339 & 0.8881119 & 0.01793635 & 0.5036312 & 0.7594586 & 3 & ACACA, MBTPS1, DGAT2 & LV100 &  6\\\\\n",
       "\\end{tabular}\n"
      ],
      "text/markdown": [
       "\n",
       "A data.table: 10 × 10\n",
       "\n",
       "| pathway &lt;chr&gt; | pval &lt;dbl&gt; | padj &lt;dbl&gt; | log2err &lt;dbl&gt; | ES &lt;dbl&gt; | NES &lt;dbl&gt; | size &lt;int&gt; | leadingEdge &lt;chr&gt; | lv &lt;chr&gt; | rep_idx &lt;int&gt; |\n",
       "|---|---|---|---|---|---|---|---|---|---|\n",
       "| gene_set_increase | 0.8631369 | 0.9080919 | 0.01816749 | 0.5036312 | 0.7534076 | 3 | ACACA, MBTPS1, DGAT2 | LV100 |  1 |\n",
       "| gene_set_increase | 0.8671329 | 0.9070929 | 0.01785899 | 0.5036312 | 0.7542640 | 3 | ACACA, MBTPS1, DGAT2 | LV100 |  8 |\n",
       "| gene_set_increase | 0.8571429 | 0.9030969 | 0.01862588 | 0.5036312 | 0.7604084 | 3 | ACACA, MBTPS1, DGAT2 | LV100 |  7 |\n",
       "| gene_set_increase | 0.8681319 | 0.9020979 | 0.01778148 | 0.5036312 | 0.7576500 | 3 | ACACA, MBTPS1, DGAT2 | LV100 |  9 |\n",
       "| gene_set_increase | 0.8551449 | 0.9010989 | 0.01877759 | 0.5036312 | 0.7623073 | 3 | ACACA, MBTPS1, DGAT2 | LV100 |  5 |\n",
       "| gene_set_increase | 0.8501499 | 0.8961039 | 0.01915466 | 0.5036312 | 0.7620100 | 3 | ACACA, MBTPS1, DGAT2 | LV100 |  2 |\n",
       "| gene_set_increase | 0.8551449 | 0.8961039 | 0.01877759 | 0.5036312 | 0.7678539 | 3 | ACACA, MBTPS1, DGAT2 | LV100 |  3 |\n",
       "| gene_set_increase | 0.8591409 | 0.8951049 | 0.01847364 | 0.5036312 | 0.7515552 | 3 | ACACA, MBTPS1, DGAT2 | LV100 | 10 |\n",
       "| gene_set_increase | 0.8701299 | 0.8931069 | 0.01762598 | 0.5036312 | 0.7535733 | 3 | ACACA, MBTPS1, DGAT2 | LV100 |  4 |\n",
       "| gene_set_increase | 0.8661339 | 0.8881119 | 0.01793635 | 0.5036312 | 0.7594586 | 3 | ACACA, MBTPS1, DGAT2 | LV100 |  6 |\n",
       "\n"
      ],
      "text/plain": [
       "   pathway           pval      padj      log2err    ES        NES       size\n",
       "1  gene_set_increase 0.8631369 0.9080919 0.01816749 0.5036312 0.7534076 3   \n",
       "2  gene_set_increase 0.8671329 0.9070929 0.01785899 0.5036312 0.7542640 3   \n",
       "3  gene_set_increase 0.8571429 0.9030969 0.01862588 0.5036312 0.7604084 3   \n",
       "4  gene_set_increase 0.8681319 0.9020979 0.01778148 0.5036312 0.7576500 3   \n",
       "5  gene_set_increase 0.8551449 0.9010989 0.01877759 0.5036312 0.7623073 3   \n",
       "6  gene_set_increase 0.8501499 0.8961039 0.01915466 0.5036312 0.7620100 3   \n",
       "7  gene_set_increase 0.8551449 0.8961039 0.01877759 0.5036312 0.7678539 3   \n",
       "8  gene_set_increase 0.8591409 0.8951049 0.01847364 0.5036312 0.7515552 3   \n",
       "9  gene_set_increase 0.8701299 0.8931069 0.01762598 0.5036312 0.7535733 3   \n",
       "10 gene_set_increase 0.8661339 0.8881119 0.01793635 0.5036312 0.7594586 3   \n",
       "   leadingEdge          lv    rep_idx\n",
       "1  ACACA, MBTPS1, DGAT2 LV100  1     \n",
       "2  ACACA, MBTPS1, DGAT2 LV100  8     \n",
       "3  ACACA, MBTPS1, DGAT2 LV100  7     \n",
       "4  ACACA, MBTPS1, DGAT2 LV100  9     \n",
       "5  ACACA, MBTPS1, DGAT2 LV100  5     \n",
       "6  ACACA, MBTPS1, DGAT2 LV100  2     \n",
       "7  ACACA, MBTPS1, DGAT2 LV100  3     \n",
       "8  ACACA, MBTPS1, DGAT2 LV100 10     \n",
       "9  ACACA, MBTPS1, DGAT2 LV100  4     \n",
       "10 ACACA, MBTPS1, DGAT2 LV100  6     "
      ]
     },
     "metadata": {},
     "output_type": "display_data"
    }
   ],
   "source": [
    "df %>% filter(lv == \"LV100\" & pathway == \"gene_set_increase\") %>% arrange(desc(padj))"
   ]
  },
  {
   "cell_type": "markdown",
   "metadata": {
    "papermill": {
     "duration": 0.02208,
     "end_time": "2021-07-16T16:23:38.681329",
     "exception": false,
     "start_time": "2021-07-16T16:23:38.659249",
     "status": "completed"
    },
    "tags": []
   },
   "source": [
    "## Show significant LVs"
   ]
  },
  {
   "cell_type": "code",
   "execution_count": 36,
   "metadata": {
    "execution": {
     "iopub.execute_input": "2021-07-16T16:23:38.728925Z",
     "iopub.status.busy": "2021-07-16T16:23:38.728025Z",
     "iopub.status.idle": "2021-07-16T16:23:38.774882Z",
     "shell.execute_reply": "2021-07-16T16:23:38.773582Z"
    },
    "papermill": {
     "duration": 0.07127,
     "end_time": "2021-07-16T16:23:38.774989",
     "exception": false,
     "start_time": "2021-07-16T16:23:38.703719",
     "status": "completed"
    },
    "tags": []
   },
   "outputs": [
    {
     "name": "stderr",
     "output_type": "stream",
     "text": [
      "`summarise()` has grouped output by 'lv'. You can override using the `.groups` argument.\n",
      "\n"
     ]
    }
   ],
   "source": [
    "df_signif <- df %>% group_by(lv, pathway) %>% summarize(max_pval = max(pval)) %>% filter(max_pval < 0.05)"
   ]
  },
  {
   "cell_type": "code",
   "execution_count": 37,
   "metadata": {
    "execution": {
     "iopub.execute_input": "2021-07-16T16:23:38.832360Z",
     "iopub.status.busy": "2021-07-16T16:23:38.831148Z",
     "iopub.status.idle": "2021-07-16T16:23:38.845379Z",
     "shell.execute_reply": "2021-07-16T16:23:38.843944Z"
    },
    "papermill": {
     "duration": 0.041029,
     "end_time": "2021-07-16T16:23:38.845487",
     "exception": false,
     "start_time": "2021-07-16T16:23:38.804458",
     "status": "completed"
    },
    "tags": []
   },
   "outputs": [
    {
     "data": {
      "text/html": [
       "66"
      ],
      "text/latex": [
       "66"
      ],
      "text/markdown": [
       "66"
      ],
      "text/plain": [
       "[1] 66"
      ]
     },
     "metadata": {},
     "output_type": "display_data"
    }
   ],
   "source": [
    "nrow(df_signif)"
   ]
  },
  {
   "cell_type": "code",
   "execution_count": 38,
   "metadata": {
    "execution": {
     "iopub.execute_input": "2021-07-16T16:23:38.900192Z",
     "iopub.status.busy": "2021-07-16T16:23:38.899029Z",
     "iopub.status.idle": "2021-07-16T16:23:38.907488Z",
     "shell.execute_reply": "2021-07-16T16:23:38.906681Z"
    },
    "papermill": {
     "duration": 0.0346,
     "end_time": "2021-07-16T16:23:38.907584",
     "exception": false,
     "start_time": "2021-07-16T16:23:38.872984",
     "status": "completed"
    },
    "tags": []
   },
   "outputs": [],
   "source": [
    "stopifnot(nrow(df_signif) > 50)"
   ]
  },
  {
   "cell_type": "code",
   "execution_count": 39,
   "metadata": {
    "execution": {
     "iopub.execute_input": "2021-07-16T16:23:38.958662Z",
     "iopub.status.busy": "2021-07-16T16:23:38.957787Z",
     "iopub.status.idle": "2021-07-16T16:23:39.012078Z",
     "shell.execute_reply": "2021-07-16T16:23:39.011052Z"
    },
    "papermill": {
     "duration": 0.079924,
     "end_time": "2021-07-16T16:23:39.012187",
     "exception": false,
     "start_time": "2021-07-16T16:23:38.932263",
     "status": "completed"
    },
    "tags": []
   },
   "outputs": [
    {
     "data": {
      "text/html": [
       "<table class=\"dataframe\">\n",
       "<caption>A grouped_df: 66 × 3</caption>\n",
       "<thead>\n",
       "\t<tr><th scope=col>lv</th><th scope=col>pathway</th><th scope=col>max_pval</th></tr>\n",
       "\t<tr><th scope=col>&lt;chr&gt;</th><th scope=col>&lt;chr&gt;</th><th scope=col>&lt;dbl&gt;</th></tr>\n",
       "</thead>\n",
       "<tbody>\n",
       "\t<tr><td>LV520</td><td>gene_set_decrease</td><td>0.0005541142</td></tr>\n",
       "\t<tr><td>LV801</td><td>gene_set_decrease</td><td>0.0022014036</td></tr>\n",
       "\t<tr><td>LV512</td><td>gene_set_decrease</td><td>0.0024603865</td></tr>\n",
       "\t<tr><td>LV246</td><td>gene_set_increase</td><td>0.0035333199</td></tr>\n",
       "\t<tr><td>LV612</td><td>gene_set_decrease</td><td>0.0035703176</td></tr>\n",
       "\t<tr><td>LV41 </td><td>gene_set_decrease</td><td>0.0040527472</td></tr>\n",
       "\t<tr><td>LV702</td><td>gene_set_increase</td><td>0.0045732698</td></tr>\n",
       "\t<tr><td>LV607</td><td>gene_set_increase</td><td>0.0058374008</td></tr>\n",
       "\t<tr><td>LV890</td><td>gene_set_increase</td><td>0.0067297311</td></tr>\n",
       "\t<tr><td>LV838</td><td>gene_set_decrease</td><td>0.0069528139</td></tr>\n",
       "\t<tr><td>LV74 </td><td>gene_set_increase</td><td>0.0078466109</td></tr>\n",
       "\t<tr><td>LV302</td><td>gene_set_decrease</td><td>0.0082949755</td></tr>\n",
       "\t<tr><td>LV865</td><td>gene_set_increase</td><td>0.0091917065</td></tr>\n",
       "\t<tr><td>LV959</td><td>gene_set_decrease</td><td>0.0091917065</td></tr>\n",
       "\t<tr><td>LV841</td><td>gene_set_increase</td><td>0.0096400728</td></tr>\n",
       "\t<tr><td>LV777</td><td>gene_set_decrease</td><td>0.0100884395</td></tr>\n",
       "\t<tr><td>LV558</td><td>gene_set_decrease</td><td>0.0111346298</td></tr>\n",
       "\t<tr><td>LV333</td><td>gene_set_decrease</td><td>0.0129281021</td></tr>\n",
       "\t<tr><td>LV938</td><td>gene_set_decrease</td><td>0.0148710337</td></tr>\n",
       "\t<tr><td>LV484</td><td>gene_set_decrease</td><td>0.0175730331</td></tr>\n",
       "\t<tr><td>LV189</td><td>gene_set_increase</td><td>0.0187745797</td></tr>\n",
       "\t<tr><td>LV242</td><td>gene_set_decrease</td><td>0.0196757408</td></tr>\n",
       "\t<tr><td>LV809</td><td>gene_set_decrease</td><td>0.0208772900</td></tr>\n",
       "\t<tr><td>LV47 </td><td>gene_set_increase</td><td>0.0214780652</td></tr>\n",
       "\t<tr><td>LV423</td><td>gene_set_decrease</td><td>0.0238811681</td></tr>\n",
       "\t<tr><td>LV87 </td><td>gene_set_increase</td><td>0.0241815562</td></tr>\n",
       "\t<tr><td>LV872</td><td>gene_set_increase</td><td>0.0247823326</td></tr>\n",
       "\t<tr><td>LV663</td><td>gene_set_decrease</td><td>0.0253831092</td></tr>\n",
       "\t<tr><td>LV474</td><td>gene_set_increase</td><td>0.0259838859</td></tr>\n",
       "\t<tr><td>LV366</td><td>gene_set_increase</td><td>0.0265846627</td></tr>\n",
       "\t<tr><td>⋮</td><td>⋮</td><td>⋮</td></tr>\n",
       "\t<tr><td>LV106</td><td>gene_set_decrease</td><td>0.03396603</td></tr>\n",
       "\t<tr><td>LV797</td><td>gene_set_decrease</td><td>0.03396603</td></tr>\n",
       "\t<tr><td>LV615</td><td>gene_set_decrease</td><td>0.03411214</td></tr>\n",
       "\t<tr><td>LV353</td><td>gene_set_increase</td><td>0.03596404</td></tr>\n",
       "\t<tr><td>LV491</td><td>gene_set_decrease</td><td>0.03596404</td></tr>\n",
       "\t<tr><td>LV891</td><td>gene_set_decrease</td><td>0.03596404</td></tr>\n",
       "\t<tr><td>LV943</td><td>gene_set_decrease</td><td>0.03596404</td></tr>\n",
       "\t<tr><td>LV161</td><td>gene_set_increase</td><td>0.03713084</td></tr>\n",
       "\t<tr><td>LV184</td><td>gene_set_increase</td><td>0.03713084</td></tr>\n",
       "\t<tr><td>LV455</td><td>gene_set_increase</td><td>0.03796204</td></tr>\n",
       "\t<tr><td>LV469</td><td>gene_set_decrease</td><td>0.03796204</td></tr>\n",
       "\t<tr><td>LV120</td><td>gene_set_increase</td><td>0.03894206</td></tr>\n",
       "\t<tr><td>LV477</td><td>gene_set_decrease</td><td>0.03896104</td></tr>\n",
       "\t<tr><td>LV788</td><td>gene_set_decrease</td><td>0.03896104</td></tr>\n",
       "\t<tr><td>LV910</td><td>gene_set_decrease</td><td>0.03896104</td></tr>\n",
       "\t<tr><td>LV250</td><td>gene_set_increase</td><td>0.03996004</td></tr>\n",
       "\t<tr><td>LV410</td><td>gene_set_increase</td><td>0.03996004</td></tr>\n",
       "\t<tr><td>LV545</td><td>gene_set_decrease</td><td>0.04195804</td></tr>\n",
       "\t<tr><td>LV428</td><td>gene_set_decrease</td><td>0.04295704</td></tr>\n",
       "\t<tr><td>LV482</td><td>gene_set_decrease</td><td>0.04295704</td></tr>\n",
       "\t<tr><td>LV495</td><td>gene_set_decrease</td><td>0.04295704</td></tr>\n",
       "\t<tr><td>LV15 </td><td>gene_set_increase</td><td>0.04395604</td></tr>\n",
       "\t<tr><td>LV814</td><td>gene_set_decrease</td><td>0.04395604</td></tr>\n",
       "\t<tr><td>LV831</td><td>gene_set_decrease</td><td>0.04495504</td></tr>\n",
       "\t<tr><td>LV658</td><td>gene_set_increase</td><td>0.04595405</td></tr>\n",
       "\t<tr><td>LV358</td><td>gene_set_decrease</td><td>0.04795205</td></tr>\n",
       "\t<tr><td>LV601</td><td>gene_set_decrease</td><td>0.04895105</td></tr>\n",
       "\t<tr><td>LV947</td><td>gene_set_increase</td><td>0.04895105</td></tr>\n",
       "\t<tr><td>LV322</td><td>gene_set_decrease</td><td>0.04995005</td></tr>\n",
       "\t<tr><td>LV770</td><td>gene_set_decrease</td><td>0.04995005</td></tr>\n",
       "</tbody>\n",
       "</table>\n"
      ],
      "text/latex": [
       "A grouped\\_df: 66 × 3\n",
       "\\begin{tabular}{lll}\n",
       " lv & pathway & max\\_pval\\\\\n",
       " <chr> & <chr> & <dbl>\\\\\n",
       "\\hline\n",
       "\t LV520 & gene\\_set\\_decrease & 0.0005541142\\\\\n",
       "\t LV801 & gene\\_set\\_decrease & 0.0022014036\\\\\n",
       "\t LV512 & gene\\_set\\_decrease & 0.0024603865\\\\\n",
       "\t LV246 & gene\\_set\\_increase & 0.0035333199\\\\\n",
       "\t LV612 & gene\\_set\\_decrease & 0.0035703176\\\\\n",
       "\t LV41  & gene\\_set\\_decrease & 0.0040527472\\\\\n",
       "\t LV702 & gene\\_set\\_increase & 0.0045732698\\\\\n",
       "\t LV607 & gene\\_set\\_increase & 0.0058374008\\\\\n",
       "\t LV890 & gene\\_set\\_increase & 0.0067297311\\\\\n",
       "\t LV838 & gene\\_set\\_decrease & 0.0069528139\\\\\n",
       "\t LV74  & gene\\_set\\_increase & 0.0078466109\\\\\n",
       "\t LV302 & gene\\_set\\_decrease & 0.0082949755\\\\\n",
       "\t LV865 & gene\\_set\\_increase & 0.0091917065\\\\\n",
       "\t LV959 & gene\\_set\\_decrease & 0.0091917065\\\\\n",
       "\t LV841 & gene\\_set\\_increase & 0.0096400728\\\\\n",
       "\t LV777 & gene\\_set\\_decrease & 0.0100884395\\\\\n",
       "\t LV558 & gene\\_set\\_decrease & 0.0111346298\\\\\n",
       "\t LV333 & gene\\_set\\_decrease & 0.0129281021\\\\\n",
       "\t LV938 & gene\\_set\\_decrease & 0.0148710337\\\\\n",
       "\t LV484 & gene\\_set\\_decrease & 0.0175730331\\\\\n",
       "\t LV189 & gene\\_set\\_increase & 0.0187745797\\\\\n",
       "\t LV242 & gene\\_set\\_decrease & 0.0196757408\\\\\n",
       "\t LV809 & gene\\_set\\_decrease & 0.0208772900\\\\\n",
       "\t LV47  & gene\\_set\\_increase & 0.0214780652\\\\\n",
       "\t LV423 & gene\\_set\\_decrease & 0.0238811681\\\\\n",
       "\t LV87  & gene\\_set\\_increase & 0.0241815562\\\\\n",
       "\t LV872 & gene\\_set\\_increase & 0.0247823326\\\\\n",
       "\t LV663 & gene\\_set\\_decrease & 0.0253831092\\\\\n",
       "\t LV474 & gene\\_set\\_increase & 0.0259838859\\\\\n",
       "\t LV366 & gene\\_set\\_increase & 0.0265846627\\\\\n",
       "\t ⋮ & ⋮ & ⋮\\\\\n",
       "\t LV106 & gene\\_set\\_decrease & 0.03396603\\\\\n",
       "\t LV797 & gene\\_set\\_decrease & 0.03396603\\\\\n",
       "\t LV615 & gene\\_set\\_decrease & 0.03411214\\\\\n",
       "\t LV353 & gene\\_set\\_increase & 0.03596404\\\\\n",
       "\t LV491 & gene\\_set\\_decrease & 0.03596404\\\\\n",
       "\t LV891 & gene\\_set\\_decrease & 0.03596404\\\\\n",
       "\t LV943 & gene\\_set\\_decrease & 0.03596404\\\\\n",
       "\t LV161 & gene\\_set\\_increase & 0.03713084\\\\\n",
       "\t LV184 & gene\\_set\\_increase & 0.03713084\\\\\n",
       "\t LV455 & gene\\_set\\_increase & 0.03796204\\\\\n",
       "\t LV469 & gene\\_set\\_decrease & 0.03796204\\\\\n",
       "\t LV120 & gene\\_set\\_increase & 0.03894206\\\\\n",
       "\t LV477 & gene\\_set\\_decrease & 0.03896104\\\\\n",
       "\t LV788 & gene\\_set\\_decrease & 0.03896104\\\\\n",
       "\t LV910 & gene\\_set\\_decrease & 0.03896104\\\\\n",
       "\t LV250 & gene\\_set\\_increase & 0.03996004\\\\\n",
       "\t LV410 & gene\\_set\\_increase & 0.03996004\\\\\n",
       "\t LV545 & gene\\_set\\_decrease & 0.04195804\\\\\n",
       "\t LV428 & gene\\_set\\_decrease & 0.04295704\\\\\n",
       "\t LV482 & gene\\_set\\_decrease & 0.04295704\\\\\n",
       "\t LV495 & gene\\_set\\_decrease & 0.04295704\\\\\n",
       "\t LV15  & gene\\_set\\_increase & 0.04395604\\\\\n",
       "\t LV814 & gene\\_set\\_decrease & 0.04395604\\\\\n",
       "\t LV831 & gene\\_set\\_decrease & 0.04495504\\\\\n",
       "\t LV658 & gene\\_set\\_increase & 0.04595405\\\\\n",
       "\t LV358 & gene\\_set\\_decrease & 0.04795205\\\\\n",
       "\t LV601 & gene\\_set\\_decrease & 0.04895105\\\\\n",
       "\t LV947 & gene\\_set\\_increase & 0.04895105\\\\\n",
       "\t LV322 & gene\\_set\\_decrease & 0.04995005\\\\\n",
       "\t LV770 & gene\\_set\\_decrease & 0.04995005\\\\\n",
       "\\end{tabular}\n"
      ],
      "text/markdown": [
       "\n",
       "A grouped_df: 66 × 3\n",
       "\n",
       "| lv &lt;chr&gt; | pathway &lt;chr&gt; | max_pval &lt;dbl&gt; |\n",
       "|---|---|---|\n",
       "| LV520 | gene_set_decrease | 0.0005541142 |\n",
       "| LV801 | gene_set_decrease | 0.0022014036 |\n",
       "| LV512 | gene_set_decrease | 0.0024603865 |\n",
       "| LV246 | gene_set_increase | 0.0035333199 |\n",
       "| LV612 | gene_set_decrease | 0.0035703176 |\n",
       "| LV41  | gene_set_decrease | 0.0040527472 |\n",
       "| LV702 | gene_set_increase | 0.0045732698 |\n",
       "| LV607 | gene_set_increase | 0.0058374008 |\n",
       "| LV890 | gene_set_increase | 0.0067297311 |\n",
       "| LV838 | gene_set_decrease | 0.0069528139 |\n",
       "| LV74  | gene_set_increase | 0.0078466109 |\n",
       "| LV302 | gene_set_decrease | 0.0082949755 |\n",
       "| LV865 | gene_set_increase | 0.0091917065 |\n",
       "| LV959 | gene_set_decrease | 0.0091917065 |\n",
       "| LV841 | gene_set_increase | 0.0096400728 |\n",
       "| LV777 | gene_set_decrease | 0.0100884395 |\n",
       "| LV558 | gene_set_decrease | 0.0111346298 |\n",
       "| LV333 | gene_set_decrease | 0.0129281021 |\n",
       "| LV938 | gene_set_decrease | 0.0148710337 |\n",
       "| LV484 | gene_set_decrease | 0.0175730331 |\n",
       "| LV189 | gene_set_increase | 0.0187745797 |\n",
       "| LV242 | gene_set_decrease | 0.0196757408 |\n",
       "| LV809 | gene_set_decrease | 0.0208772900 |\n",
       "| LV47  | gene_set_increase | 0.0214780652 |\n",
       "| LV423 | gene_set_decrease | 0.0238811681 |\n",
       "| LV87  | gene_set_increase | 0.0241815562 |\n",
       "| LV872 | gene_set_increase | 0.0247823326 |\n",
       "| LV663 | gene_set_decrease | 0.0253831092 |\n",
       "| LV474 | gene_set_increase | 0.0259838859 |\n",
       "| LV366 | gene_set_increase | 0.0265846627 |\n",
       "| ⋮ | ⋮ | ⋮ |\n",
       "| LV106 | gene_set_decrease | 0.03396603 |\n",
       "| LV797 | gene_set_decrease | 0.03396603 |\n",
       "| LV615 | gene_set_decrease | 0.03411214 |\n",
       "| LV353 | gene_set_increase | 0.03596404 |\n",
       "| LV491 | gene_set_decrease | 0.03596404 |\n",
       "| LV891 | gene_set_decrease | 0.03596404 |\n",
       "| LV943 | gene_set_decrease | 0.03596404 |\n",
       "| LV161 | gene_set_increase | 0.03713084 |\n",
       "| LV184 | gene_set_increase | 0.03713084 |\n",
       "| LV455 | gene_set_increase | 0.03796204 |\n",
       "| LV469 | gene_set_decrease | 0.03796204 |\n",
       "| LV120 | gene_set_increase | 0.03894206 |\n",
       "| LV477 | gene_set_decrease | 0.03896104 |\n",
       "| LV788 | gene_set_decrease | 0.03896104 |\n",
       "| LV910 | gene_set_decrease | 0.03896104 |\n",
       "| LV250 | gene_set_increase | 0.03996004 |\n",
       "| LV410 | gene_set_increase | 0.03996004 |\n",
       "| LV545 | gene_set_decrease | 0.04195804 |\n",
       "| LV428 | gene_set_decrease | 0.04295704 |\n",
       "| LV482 | gene_set_decrease | 0.04295704 |\n",
       "| LV495 | gene_set_decrease | 0.04295704 |\n",
       "| LV15  | gene_set_increase | 0.04395604 |\n",
       "| LV814 | gene_set_decrease | 0.04395604 |\n",
       "| LV831 | gene_set_decrease | 0.04495504 |\n",
       "| LV658 | gene_set_increase | 0.04595405 |\n",
       "| LV358 | gene_set_decrease | 0.04795205 |\n",
       "| LV601 | gene_set_decrease | 0.04895105 |\n",
       "| LV947 | gene_set_increase | 0.04895105 |\n",
       "| LV322 | gene_set_decrease | 0.04995005 |\n",
       "| LV770 | gene_set_decrease | 0.04995005 |\n",
       "\n"
      ],
      "text/plain": [
       "   lv    pathway           max_pval    \n",
       "1  LV520 gene_set_decrease 0.0005541142\n",
       "2  LV801 gene_set_decrease 0.0022014036\n",
       "3  LV512 gene_set_decrease 0.0024603865\n",
       "4  LV246 gene_set_increase 0.0035333199\n",
       "5  LV612 gene_set_decrease 0.0035703176\n",
       "6  LV41  gene_set_decrease 0.0040527472\n",
       "7  LV702 gene_set_increase 0.0045732698\n",
       "8  LV607 gene_set_increase 0.0058374008\n",
       "9  LV890 gene_set_increase 0.0067297311\n",
       "10 LV838 gene_set_decrease 0.0069528139\n",
       "11 LV74  gene_set_increase 0.0078466109\n",
       "12 LV302 gene_set_decrease 0.0082949755\n",
       "13 LV865 gene_set_increase 0.0091917065\n",
       "14 LV959 gene_set_decrease 0.0091917065\n",
       "15 LV841 gene_set_increase 0.0096400728\n",
       "16 LV777 gene_set_decrease 0.0100884395\n",
       "17 LV558 gene_set_decrease 0.0111346298\n",
       "18 LV333 gene_set_decrease 0.0129281021\n",
       "19 LV938 gene_set_decrease 0.0148710337\n",
       "20 LV484 gene_set_decrease 0.0175730331\n",
       "21 LV189 gene_set_increase 0.0187745797\n",
       "22 LV242 gene_set_decrease 0.0196757408\n",
       "23 LV809 gene_set_decrease 0.0208772900\n",
       "24 LV47  gene_set_increase 0.0214780652\n",
       "25 LV423 gene_set_decrease 0.0238811681\n",
       "26 LV87  gene_set_increase 0.0241815562\n",
       "27 LV872 gene_set_increase 0.0247823326\n",
       "28 LV663 gene_set_decrease 0.0253831092\n",
       "29 LV474 gene_set_increase 0.0259838859\n",
       "30 LV366 gene_set_increase 0.0265846627\n",
       "⋮  ⋮     ⋮                 ⋮           \n",
       "37 LV106 gene_set_decrease 0.03396603  \n",
       "38 LV797 gene_set_decrease 0.03396603  \n",
       "39 LV615 gene_set_decrease 0.03411214  \n",
       "40 LV353 gene_set_increase 0.03596404  \n",
       "41 LV491 gene_set_decrease 0.03596404  \n",
       "42 LV891 gene_set_decrease 0.03596404  \n",
       "43 LV943 gene_set_decrease 0.03596404  \n",
       "44 LV161 gene_set_increase 0.03713084  \n",
       "45 LV184 gene_set_increase 0.03713084  \n",
       "46 LV455 gene_set_increase 0.03796204  \n",
       "47 LV469 gene_set_decrease 0.03796204  \n",
       "48 LV120 gene_set_increase 0.03894206  \n",
       "49 LV477 gene_set_decrease 0.03896104  \n",
       "50 LV788 gene_set_decrease 0.03896104  \n",
       "51 LV910 gene_set_decrease 0.03896104  \n",
       "52 LV250 gene_set_increase 0.03996004  \n",
       "53 LV410 gene_set_increase 0.03996004  \n",
       "54 LV545 gene_set_decrease 0.04195804  \n",
       "55 LV428 gene_set_decrease 0.04295704  \n",
       "56 LV482 gene_set_decrease 0.04295704  \n",
       "57 LV495 gene_set_decrease 0.04295704  \n",
       "58 LV15  gene_set_increase 0.04395604  \n",
       "59 LV814 gene_set_decrease 0.04395604  \n",
       "60 LV831 gene_set_decrease 0.04495504  \n",
       "61 LV658 gene_set_increase 0.04595405  \n",
       "62 LV358 gene_set_decrease 0.04795205  \n",
       "63 LV601 gene_set_decrease 0.04895105  \n",
       "64 LV947 gene_set_increase 0.04895105  \n",
       "65 LV322 gene_set_decrease 0.04995005  \n",
       "66 LV770 gene_set_decrease 0.04995005  "
      ]
     },
     "metadata": {},
     "output_type": "display_data"
    }
   ],
   "source": [
    "df_signif %>% arrange(max_pval)"
   ]
  },
  {
   "cell_type": "code",
   "execution_count": null,
   "metadata": {
    "papermill": {
     "duration": 0.026671,
     "end_time": "2021-07-16T16:23:39.070257",
     "exception": false,
     "start_time": "2021-07-16T16:23:39.043586",
     "status": "completed"
    },
    "tags": []
   },
   "outputs": [],
   "source": []
  }
 ],
 "metadata": {
  "jupytext": {
   "cell_metadata_filter": "all,-execution,-papermill,-trusted",
   "formats": "ipynb,py//R:percent"
  },
  "kernelspec": {
   "display_name": "R",
   "language": "R",
   "name": "ir"
  },
  "language_info": {
   "codemirror_mode": "r",
   "file_extension": ".r",
   "mimetype": "text/x-r-source",
   "name": "R",
   "pygments_lexer": "r",
   "version": "3.6.3"
  },
  "papermill": {
   "default_parameters": {},
   "duration": 153.444013,
   "end_time": "2021-07-16T16:23:39.200360",
   "environment_variables": {},
   "exception": null,
   "input_path": "30_validation/crispr_screen/020_10-hi_conf_deg_genes-gsea_on_all_lvs.ipynb",
   "output_path": "30_validation/crispr_screen/020_10-hi_conf_deg_genes-gsea_on_all_lvs.run.ipynb",
   "parameters": {},
   "start_time": "2021-07-16T16:21:05.756347",
   "version": "2.2.2"
  },
  "toc-autonumbering": true
 },
 "nbformat": 4,
 "nbformat_minor": 4
}
