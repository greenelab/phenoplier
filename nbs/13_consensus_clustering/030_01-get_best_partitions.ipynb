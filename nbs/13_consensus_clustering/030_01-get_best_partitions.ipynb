{
 "cells": [
  {
   "cell_type": "markdown",
   "metadata": {
    "papermill": {
     "duration": 0.053594,
     "end_time": "2021-05-09T05:25:20.832943",
     "exception": false,
     "start_time": "2021-05-09T05:25:20.779349",
     "status": "completed"
    },
    "tags": []
   },
   "source": [
    "# Description"
   ]
  },
  {
   "cell_type": "markdown",
   "metadata": {
    "papermill": {
     "duration": 0.016178,
     "end_time": "2021-05-09T05:25:20.867245",
     "exception": false,
     "start_time": "2021-05-09T05:25:20.851067",
     "status": "completed"
    },
    "tags": []
   },
   "source": [
    "It analyzes how consensus partitions generated before agree with the ensemble, and selects the best ones for downstream analyses."
   ]
  },
  {
   "cell_type": "markdown",
   "metadata": {
    "papermill": {
     "duration": 0.016327,
     "end_time": "2021-05-09T05:25:20.899911",
     "exception": false,
     "start_time": "2021-05-09T05:25:20.883584",
     "status": "completed"
    },
    "tags": []
   },
   "source": [
    "# Modules loading"
   ]
  },
  {
   "cell_type": "code",
   "execution_count": 1,
   "metadata": {
    "execution": {
     "iopub.execute_input": "2021-05-09T05:25:20.938358Z",
     "iopub.status.busy": "2021-05-09T05:25:20.937960Z",
     "iopub.status.idle": "2021-05-09T05:25:20.945781Z",
     "shell.execute_reply": "2021-05-09T05:25:20.945361Z"
    },
    "papermill": {
     "duration": 0.029634,
     "end_time": "2021-05-09T05:25:20.945871",
     "exception": false,
     "start_time": "2021-05-09T05:25:20.916237",
     "status": "completed"
    },
    "tags": []
   },
   "outputs": [],
   "source": [
    "%load_ext autoreload\n",
    "%autoreload 2"
   ]
  },
  {
   "cell_type": "code",
   "execution_count": 2,
   "metadata": {
    "execution": {
     "iopub.execute_input": "2021-05-09T05:25:20.982334Z",
     "iopub.status.busy": "2021-05-09T05:25:20.981971Z",
     "iopub.status.idle": "2021-05-09T05:25:21.567768Z",
     "shell.execute_reply": "2021-05-09T05:25:21.567354Z"
    },
    "papermill": {
     "duration": 0.604775,
     "end_time": "2021-05-09T05:25:21.567875",
     "exception": false,
     "start_time": "2021-05-09T05:25:20.963100",
     "status": "completed"
    },
    "tags": []
   },
   "outputs": [],
   "source": [
    "from pathlib import Path\n",
    "from IPython.display import display\n",
    "\n",
    "import pandas as pd\n",
    "import matplotlib.pyplot as plt\n",
    "import seaborn as sns\n",
    "\n",
    "import conf"
   ]
  },
  {
   "cell_type": "markdown",
   "metadata": {
    "papermill": {
     "duration": 0.020522,
     "end_time": "2021-05-09T05:25:21.610725",
     "exception": false,
     "start_time": "2021-05-09T05:25:21.590203",
     "status": "completed"
    },
    "tags": []
   },
   "source": [
    "# Load consensus clustering results"
   ]
  },
  {
   "cell_type": "code",
   "execution_count": 3,
   "metadata": {
    "execution": {
     "iopub.execute_input": "2021-05-09T05:25:21.646812Z",
     "iopub.status.busy": "2021-05-09T05:25:21.646439Z",
     "iopub.status.idle": "2021-05-09T05:25:21.657683Z",
     "shell.execute_reply": "2021-05-09T05:25:21.657315Z"
    },
    "papermill": {
     "duration": 0.030259,
     "end_time": "2021-05-09T05:25:21.657769",
     "exception": false,
     "start_time": "2021-05-09T05:25:21.627510",
     "status": "completed"
    },
    "tags": []
   },
   "outputs": [
    {
     "data": {
      "text/plain": [
       "PosixPath('/home/miltondp/projects/labs/greenelab/phenoplier/base/results/clustering/consensus_clustering')"
      ]
     },
     "metadata": {},
     "output_type": "display_data"
    }
   ],
   "source": [
    "CONSENSUS_CLUSTERING_DIR = Path(\n",
    "    conf.RESULTS[\"CLUSTERING_DIR\"], \"consensus_clustering\"\n",
    ").resolve()\n",
    "\n",
    "display(CONSENSUS_CLUSTERING_DIR)"
   ]
  },
  {
   "cell_type": "code",
   "execution_count": 4,
   "metadata": {
    "execution": {
     "iopub.execute_input": "2021-05-09T05:25:21.695410Z",
     "iopub.status.busy": "2021-05-09T05:25:21.695047Z",
     "iopub.status.idle": "2021-05-09T05:25:21.705033Z",
     "shell.execute_reply": "2021-05-09T05:25:21.704717Z"
    },
    "papermill": {
     "duration": 0.029502,
     "end_time": "2021-05-09T05:25:21.705120",
     "exception": false,
     "start_time": "2021-05-09T05:25:21.675618",
     "status": "completed"
    },
    "tags": []
   },
   "outputs": [
    {
     "data": {
      "text/plain": [
       "PosixPath('/home/miltondp/projects/labs/greenelab/phenoplier/base/results/clustering/consensus_clustering/consensus_clustering_runs.pkl')"
      ]
     },
     "metadata": {},
     "output_type": "display_data"
    }
   ],
   "source": [
    "input_file = Path(CONSENSUS_CLUSTERING_DIR, \"consensus_clustering_runs.pkl\").resolve()\n",
    "display(input_file)"
   ]
  },
  {
   "cell_type": "code",
   "execution_count": 5,
   "metadata": {
    "execution": {
     "iopub.execute_input": "2021-05-09T05:25:21.742221Z",
     "iopub.status.busy": "2021-05-09T05:25:21.741866Z",
     "iopub.status.idle": "2021-05-09T05:25:21.757645Z",
     "shell.execute_reply": "2021-05-09T05:25:21.757946Z"
    },
    "papermill": {
     "duration": 0.035609,
     "end_time": "2021-05-09T05:25:21.758060",
     "exception": false,
     "start_time": "2021-05-09T05:25:21.722451",
     "status": "completed"
    },
    "tags": []
   },
   "outputs": [],
   "source": [
    "consensus_clustering_results = pd.read_pickle(input_file)"
   ]
  },
  {
   "cell_type": "code",
   "execution_count": 6,
   "metadata": {
    "execution": {
     "iopub.execute_input": "2021-05-09T05:25:21.797450Z",
     "iopub.status.busy": "2021-05-09T05:25:21.797091Z",
     "iopub.status.idle": "2021-05-09T05:25:21.806663Z",
     "shell.execute_reply": "2021-05-09T05:25:21.806937Z"
    },
    "papermill": {
     "duration": 0.030221,
     "end_time": "2021-05-09T05:25:21.807040",
     "exception": false,
     "start_time": "2021-05-09T05:25:21.776819",
     "status": "completed"
    },
    "tags": []
   },
   "outputs": [
    {
     "data": {
      "text/plain": [
       "(413, 12)"
      ]
     },
     "execution_count": 6,
     "metadata": {},
     "output_type": "execute_result"
    }
   ],
   "source": [
    "consensus_clustering_results.shape"
   ]
  },
  {
   "cell_type": "code",
   "execution_count": 7,
   "metadata": {
    "execution": {
     "iopub.execute_input": "2021-05-09T05:25:21.844355Z",
     "iopub.status.busy": "2021-05-09T05:25:21.843994Z",
     "iopub.status.idle": "2021-05-09T05:25:21.866326Z",
     "shell.execute_reply": "2021-05-09T05:25:21.865950Z"
    },
    "papermill": {
     "duration": 0.041651,
     "end_time": "2021-05-09T05:25:21.866410",
     "exception": false,
     "start_time": "2021-05-09T05:25:21.824759",
     "status": "completed"
    },
    "tags": []
   },
   "outputs": [
    {
     "data": {
      "text/html": [
       "<div>\n",
       "<style scoped>\n",
       "    .dataframe tbody tr th:only-of-type {\n",
       "        vertical-align: middle;\n",
       "    }\n",
       "\n",
       "    .dataframe tbody tr th {\n",
       "        vertical-align: top;\n",
       "    }\n",
       "\n",
       "    .dataframe thead th {\n",
       "        text-align: right;\n",
       "    }\n",
       "</style>\n",
       "<table border=\"1\" class=\"dataframe\">\n",
       "  <thead>\n",
       "    <tr style=\"text-align: right;\">\n",
       "      <th></th>\n",
       "      <th>method</th>\n",
       "      <th>partition</th>\n",
       "      <th>k</th>\n",
       "      <th>ari_mean</th>\n",
       "      <th>ari_median</th>\n",
       "      <th>ari_std</th>\n",
       "      <th>ami_mean</th>\n",
       "      <th>ami_median</th>\n",
       "      <th>ami_std</th>\n",
       "      <th>nmi_mean</th>\n",
       "      <th>nmi_median</th>\n",
       "      <th>nmi_std</th>\n",
       "    </tr>\n",
       "  </thead>\n",
       "  <tbody>\n",
       "    <tr>\n",
       "      <th>0</th>\n",
       "      <td>eac_average_coassoc_matrix</td>\n",
       "      <td>[0, 0, 0, 0, 0, 0, 0, 0, 0, 0, 0, 0, 0, 0, 0, ...</td>\n",
       "      <td>2</td>\n",
       "      <td>0.093597</td>\n",
       "      <td>0.003101</td>\n",
       "      <td>0.205052</td>\n",
       "      <td>0.100872</td>\n",
       "      <td>0.024092</td>\n",
       "      <td>0.189411</td>\n",
       "      <td>0.102845</td>\n",
       "      <td>0.025732</td>\n",
       "      <td>0.189227</td>\n",
       "    </tr>\n",
       "    <tr>\n",
       "      <th>1</th>\n",
       "      <td>eac_average_coassoc_matrix</td>\n",
       "      <td>[1, 1, 1, 1, 1, 1, 1, 1, 1, 1, 1, 1, 1, 1, 1, ...</td>\n",
       "      <td>3</td>\n",
       "      <td>0.128947</td>\n",
       "      <td>0.006548</td>\n",
       "      <td>0.231204</td>\n",
       "      <td>0.144465</td>\n",
       "      <td>0.044119</td>\n",
       "      <td>0.207788</td>\n",
       "      <td>0.147869</td>\n",
       "      <td>0.047220</td>\n",
       "      <td>0.207265</td>\n",
       "    </tr>\n",
       "    <tr>\n",
       "      <th>2</th>\n",
       "      <td>eac_average_coassoc_matrix</td>\n",
       "      <td>[0, 0, 0, 0, 0, 0, 0, 0, 0, 0, 0, 0, 0, 0, 0, ...</td>\n",
       "      <td>4</td>\n",
       "      <td>0.129013</td>\n",
       "      <td>0.006553</td>\n",
       "      <td>0.231317</td>\n",
       "      <td>0.150614</td>\n",
       "      <td>0.045903</td>\n",
       "      <td>0.215982</td>\n",
       "      <td>0.154811</td>\n",
       "      <td>0.050266</td>\n",
       "      <td>0.215141</td>\n",
       "    </tr>\n",
       "    <tr>\n",
       "      <th>3</th>\n",
       "      <td>eac_average_coassoc_matrix</td>\n",
       "      <td>[0, 0, 0, 0, 0, 0, 0, 0, 0, 0, 0, 0, 0, 0, 0, ...</td>\n",
       "      <td>5</td>\n",
       "      <td>0.197036</td>\n",
       "      <td>0.029424</td>\n",
       "      <td>0.274440</td>\n",
       "      <td>0.239193</td>\n",
       "      <td>0.121544</td>\n",
       "      <td>0.228280</td>\n",
       "      <td>0.244851</td>\n",
       "      <td>0.125635</td>\n",
       "      <td>0.226614</td>\n",
       "    </tr>\n",
       "    <tr>\n",
       "      <th>4</th>\n",
       "      <td>eac_average_coassoc_matrix</td>\n",
       "      <td>[0, 0, 0, 0, 0, 0, 0, 0, 0, 0, 0, 0, 0, 0, 0, ...</td>\n",
       "      <td>6</td>\n",
       "      <td>0.200159</td>\n",
       "      <td>0.031675</td>\n",
       "      <td>0.271337</td>\n",
       "      <td>0.244905</td>\n",
       "      <td>0.131608</td>\n",
       "      <td>0.221766</td>\n",
       "      <td>0.251377</td>\n",
       "      <td>0.137668</td>\n",
       "      <td>0.219759</td>\n",
       "    </tr>\n",
       "  </tbody>\n",
       "</table>\n",
       "</div>"
      ],
      "text/plain": [
       "                       method  \\\n",
       "0  eac_average_coassoc_matrix   \n",
       "1  eac_average_coassoc_matrix   \n",
       "2  eac_average_coassoc_matrix   \n",
       "3  eac_average_coassoc_matrix   \n",
       "4  eac_average_coassoc_matrix   \n",
       "\n",
       "                                           partition  k  ari_mean  ari_median  \\\n",
       "0  [0, 0, 0, 0, 0, 0, 0, 0, 0, 0, 0, 0, 0, 0, 0, ...  2  0.093597    0.003101   \n",
       "1  [1, 1, 1, 1, 1, 1, 1, 1, 1, 1, 1, 1, 1, 1, 1, ...  3  0.128947    0.006548   \n",
       "2  [0, 0, 0, 0, 0, 0, 0, 0, 0, 0, 0, 0, 0, 0, 0, ...  4  0.129013    0.006553   \n",
       "3  [0, 0, 0, 0, 0, 0, 0, 0, 0, 0, 0, 0, 0, 0, 0, ...  5  0.197036    0.029424   \n",
       "4  [0, 0, 0, 0, 0, 0, 0, 0, 0, 0, 0, 0, 0, 0, 0, ...  6  0.200159    0.031675   \n",
       "\n",
       "    ari_std  ami_mean  ami_median   ami_std  nmi_mean  nmi_median   nmi_std  \n",
       "0  0.205052  0.100872    0.024092  0.189411  0.102845    0.025732  0.189227  \n",
       "1  0.231204  0.144465    0.044119  0.207788  0.147869    0.047220  0.207265  \n",
       "2  0.231317  0.150614    0.045903  0.215982  0.154811    0.050266  0.215141  \n",
       "3  0.274440  0.239193    0.121544  0.228280  0.244851    0.125635  0.226614  \n",
       "4  0.271337  0.244905    0.131608  0.221766  0.251377    0.137668  0.219759  "
      ]
     },
     "execution_count": 7,
     "metadata": {},
     "output_type": "execute_result"
    }
   ],
   "source": [
    "consensus_clustering_results.head()"
   ]
  },
  {
   "cell_type": "markdown",
   "metadata": {
    "papermill": {
     "duration": 0.01764,
     "end_time": "2021-05-09T05:25:21.902646",
     "exception": false,
     "start_time": "2021-05-09T05:25:21.885006",
     "status": "completed"
    },
    "tags": []
   },
   "source": [
    "# Explore clustering indexes"
   ]
  },
  {
   "cell_type": "code",
   "execution_count": 8,
   "metadata": {
    "execution": {
     "iopub.execute_input": "2021-05-09T05:25:21.940201Z",
     "iopub.status.busy": "2021-05-09T05:25:21.939837Z",
     "iopub.status.idle": "2021-05-09T05:25:21.990674Z",
     "shell.execute_reply": "2021-05-09T05:25:21.990296Z"
    },
    "papermill": {
     "duration": 0.070787,
     "end_time": "2021-05-09T05:25:21.990758",
     "exception": false,
     "start_time": "2021-05-09T05:25:21.919971",
     "status": "completed"
    },
    "tags": []
   },
   "outputs": [],
   "source": [
    "_col = \"ari_mean\"\n",
    "\n",
    "_best_parts_by_ari = (\n",
    "    consensus_clustering_results.groupby(\"k\")\n",
    "    .apply(lambda x: x.sort_values(_col, ascending=False).head(1))\n",
    "    .sort_values(_col, ascending=False)[[\"method\", \"k\", _col]]\n",
    "    .rename(columns={_col: \"index_value\"})\n",
    ")"
   ]
  },
  {
   "cell_type": "code",
   "execution_count": 9,
   "metadata": {
    "execution": {
     "iopub.execute_input": "2021-05-09T05:25:22.029366Z",
     "iopub.status.busy": "2021-05-09T05:25:22.029000Z",
     "iopub.status.idle": "2021-05-09T05:25:22.075654Z",
     "shell.execute_reply": "2021-05-09T05:25:22.075288Z"
    },
    "papermill": {
     "duration": 0.066976,
     "end_time": "2021-05-09T05:25:22.075736",
     "exception": false,
     "start_time": "2021-05-09T05:25:22.008760",
     "status": "completed"
    },
    "tags": []
   },
   "outputs": [],
   "source": [
    "_col = \"ami_mean\"\n",
    "\n",
    "_best_parts_by_ami = (\n",
    "    consensus_clustering_results.groupby(\"k\")\n",
    "    .apply(lambda x: x.sort_values(_col, ascending=False).head(1))\n",
    "    .sort_values(_col, ascending=False)[[\"method\", \"k\", _col]]\n",
    "    .rename(columns={_col: \"index_value\"})\n",
    ")"
   ]
  },
  {
   "cell_type": "code",
   "execution_count": 10,
   "metadata": {
    "execution": {
     "iopub.execute_input": "2021-05-09T05:25:22.113513Z",
     "iopub.status.busy": "2021-05-09T05:25:22.113137Z",
     "iopub.status.idle": "2021-05-09T05:25:22.160105Z",
     "shell.execute_reply": "2021-05-09T05:25:22.159728Z"
    },
    "papermill": {
     "duration": 0.067002,
     "end_time": "2021-05-09T05:25:22.160191",
     "exception": false,
     "start_time": "2021-05-09T05:25:22.093189",
     "status": "completed"
    },
    "tags": []
   },
   "outputs": [],
   "source": [
    "_col = \"nmi_mean\"\n",
    "\n",
    "_best_parts_by_nmi = (\n",
    "    consensus_clustering_results.groupby(\"k\")\n",
    "    .apply(lambda x: x.sort_values(_col, ascending=False).head(1))\n",
    "    .sort_values(_col, ascending=False)[[\"method\", \"k\", _col]]\n",
    "    .rename(columns={_col: \"index_value\"})\n",
    ")"
   ]
  },
  {
   "cell_type": "code",
   "execution_count": 11,
   "metadata": {
    "execution": {
     "iopub.execute_input": "2021-05-09T05:25:22.198225Z",
     "iopub.status.busy": "2021-05-09T05:25:22.197857Z",
     "iopub.status.idle": "2021-05-09T05:25:22.208303Z",
     "shell.execute_reply": "2021-05-09T05:25:22.207932Z"
    },
    "papermill": {
     "duration": 0.03048,
     "end_time": "2021-05-09T05:25:22.208388",
     "exception": false,
     "start_time": "2021-05-09T05:25:22.177908",
     "status": "completed"
    },
    "tags": []
   },
   "outputs": [
    {
     "data": {
      "text/html": [
       "<svg  width=\"165\" height=\"55\"><rect x=\"0\" y=\"0\" width=\"55\" height=\"55\" style=\"fill:#0173b2;stroke-width:2;stroke:rgb(255,255,255)\"/><rect x=\"55\" y=\"0\" width=\"55\" height=\"55\" style=\"fill:#de8f05;stroke-width:2;stroke:rgb(255,255,255)\"/><rect x=\"110\" y=\"0\" width=\"55\" height=\"55\" style=\"fill:#029e73;stroke-width:2;stroke:rgb(255,255,255)\"/></svg>"
      ],
      "text/plain": [
       "[(0.00392156862745098, 0.45098039215686275, 0.6980392156862745),\n",
       " (0.8705882352941177, 0.5607843137254902, 0.0196078431372549),\n",
       " (0.00784313725490196, 0.6196078431372549, 0.45098039215686275)]"
      ]
     },
     "metadata": {},
     "output_type": "display_data"
    }
   ],
   "source": [
    "_indexes_colors = sns.color_palette(\"colorblind\", 3)\n",
    "display(_indexes_colors)"
   ]
  },
  {
   "cell_type": "code",
   "execution_count": 12,
   "metadata": {
    "execution": {
     "iopub.execute_input": "2021-05-09T05:25:22.249039Z",
     "iopub.status.busy": "2021-05-09T05:25:22.248613Z",
     "iopub.status.idle": "2021-05-09T05:25:24.102967Z",
     "shell.execute_reply": "2021-05-09T05:25:24.103265Z"
    },
    "papermill": {
     "duration": 1.876433,
     "end_time": "2021-05-09T05:25:24.103370",
     "exception": false,
     "start_time": "2021-05-09T05:25:22.226937",
     "status": "completed"
    },
    "tags": []
   },
   "outputs": [
    {
     "data": {
      "image/png": "[encoded data removed]",
      "text/plain": [
       "<Figure size 864x432 with 1 Axes>"
      ]
     },
     "metadata": {},
     "output_type": "display_data"
    }
   ],
   "source": [
    "with sns.plotting_context(\"talk\", font_scale=0.75), sns.axes_style(\n",
    "    \"whitegrid\", {\"grid.linestyle\": \"--\"}\n",
    "):\n",
    "    fig, ax = plt.subplots(figsize=(12, 6))\n",
    "\n",
    "    ax = sns.pointplot(\n",
    "        data=_best_parts_by_ari,\n",
    "        x=\"k\",\n",
    "        y=\"index_value\",\n",
    "        color=_indexes_colors[0],\n",
    "        ci=None,\n",
    "    )\n",
    "    ax = sns.pointplot(\n",
    "        data=_best_parts_by_ami,\n",
    "        x=\"k\",\n",
    "        y=\"index_value\",\n",
    "        color=_indexes_colors[1],\n",
    "        ci=None,\n",
    "    )\n",
    "    ax = sns.pointplot(\n",
    "        data=_best_parts_by_nmi,\n",
    "        x=\"k\",\n",
    "        y=\"index_value\",\n",
    "        color=_indexes_colors[2],\n",
    "        ci=None,\n",
    "    )\n",
    "\n",
    "    ax.set_ylabel(f\"Agreement with ensemble\")\n",
    "    ax.set_xlabel(\"Number of clusters ($k$)\")\n",
    "    ax.set_xticklabels(ax.get_xticklabels(), rotation=45)\n",
    "    plt.legend(labels=[\"ARI\", \"AMI\", \"NMI\"])\n",
    "    plt.grid(True)\n",
    "    plt.tight_layout()"
   ]
  },
  {
   "cell_type": "markdown",
   "metadata": {
    "papermill": {
     "duration": 0.019936,
     "end_time": "2021-05-09T05:25:24.143520",
     "exception": false,
     "start_time": "2021-05-09T05:25:24.123584",
     "status": "completed"
    },
    "tags": []
   },
   "source": [
    "AMI and NMI show the same trend for higher `k`. That's surprising. I would have expected that AMI has the same pattern as ARI, since both are adjusted-for-chance, and should not show higher values for higher `k` as it is expected for a not adjusted-for-chance index as NMI.\n",
    "\n",
    "**CONCLUSION:** I will pick ARI for the follow up analysis."
   ]
  },
  {
   "cell_type": "markdown",
   "metadata": {
    "papermill": {
     "duration": 0.019766,
     "end_time": "2021-05-09T05:25:24.183140",
     "exception": false,
     "start_time": "2021-05-09T05:25:24.163374",
     "status": "completed"
    },
    "tags": []
   },
   "source": [
    "# Explore best partition per k"
   ]
  },
  {
   "cell_type": "code",
   "execution_count": 13,
   "metadata": {
    "execution": {
     "iopub.execute_input": "2021-05-09T05:25:24.225567Z",
     "iopub.status.busy": "2021-05-09T05:25:24.225196Z",
     "iopub.status.idle": "2021-05-09T05:25:24.234826Z",
     "shell.execute_reply": "2021-05-09T05:25:24.234472Z"
    },
    "papermill": {
     "duration": 0.031774,
     "end_time": "2021-05-09T05:25:24.234907",
     "exception": false,
     "start_time": "2021-05-09T05:25:24.203133",
     "status": "completed"
    },
    "tags": []
   },
   "outputs": [],
   "source": [
    "_selected_measure = \"ARI\"\n",
    "_mean_column, _median_column = \"ari_mean\", \"ari_median\""
   ]
  },
  {
   "cell_type": "code",
   "execution_count": 14,
   "metadata": {
    "execution": {
     "iopub.execute_input": "2021-05-09T05:25:24.277742Z",
     "iopub.status.busy": "2021-05-09T05:25:24.277367Z",
     "iopub.status.idle": "2021-05-09T05:25:24.328566Z",
     "shell.execute_reply": "2021-05-09T05:25:24.328207Z"
    },
    "papermill": {
     "duration": 0.073549,
     "end_time": "2021-05-09T05:25:24.328649",
     "exception": false,
     "start_time": "2021-05-09T05:25:24.255100",
     "status": "completed"
    },
    "tags": []
   },
   "outputs": [
    {
     "data": {
      "text/html": [
       "<div>\n",
       "<style scoped>\n",
       "    .dataframe tbody tr th:only-of-type {\n",
       "        vertical-align: middle;\n",
       "    }\n",
       "\n",
       "    .dataframe tbody tr th {\n",
       "        vertical-align: top;\n",
       "    }\n",
       "\n",
       "    .dataframe thead th {\n",
       "        text-align: right;\n",
       "    }\n",
       "</style>\n",
       "<table border=\"1\" class=\"dataframe\">\n",
       "  <thead>\n",
       "    <tr style=\"text-align: right;\">\n",
       "      <th></th>\n",
       "      <th></th>\n",
       "      <th>method</th>\n",
       "      <th>k</th>\n",
       "      <th>ari_mean</th>\n",
       "    </tr>\n",
       "    <tr>\n",
       "      <th>k</th>\n",
       "      <th></th>\n",
       "      <th></th>\n",
       "      <th></th>\n",
       "      <th></th>\n",
       "    </tr>\n",
       "  </thead>\n",
       "  <tbody>\n",
       "    <tr>\n",
       "      <th>8</th>\n",
       "      <th>301</th>\n",
       "      <td>scc_020</td>\n",
       "      <td>8</td>\n",
       "      <td>0.221259</td>\n",
       "    </tr>\n",
       "    <tr>\n",
       "      <th>10</th>\n",
       "      <th>126</th>\n",
       "      <td>scc_025</td>\n",
       "      <td>10</td>\n",
       "      <td>0.221141</td>\n",
       "    </tr>\n",
       "    <tr>\n",
       "      <th>7</th>\n",
       "      <th>300</th>\n",
       "      <td>scc_020</td>\n",
       "      <td>7</td>\n",
       "      <td>0.218083</td>\n",
       "    </tr>\n",
       "    <tr>\n",
       "      <th>6</th>\n",
       "      <th>299</th>\n",
       "      <td>scc_020</td>\n",
       "      <td>6</td>\n",
       "      <td>0.218068</td>\n",
       "    </tr>\n",
       "    <tr>\n",
       "      <th>12</th>\n",
       "      <th>305</th>\n",
       "      <td>scc_020</td>\n",
       "      <td>12</td>\n",
       "      <td>0.217015</td>\n",
       "    </tr>\n",
       "    <tr>\n",
       "      <th>11</th>\n",
       "      <th>304</th>\n",
       "      <td>scc_020</td>\n",
       "      <td>11</td>\n",
       "      <td>0.217009</td>\n",
       "    </tr>\n",
       "    <tr>\n",
       "      <th>9</th>\n",
       "      <th>302</th>\n",
       "      <td>scc_020</td>\n",
       "      <td>9</td>\n",
       "      <td>0.216682</td>\n",
       "    </tr>\n",
       "    <tr>\n",
       "      <th>18</th>\n",
       "      <th>311</th>\n",
       "      <td>scc_020</td>\n",
       "      <td>18</td>\n",
       "      <td>0.213489</td>\n",
       "    </tr>\n",
       "    <tr>\n",
       "      <th>17</th>\n",
       "      <th>310</th>\n",
       "      <td>scc_020</td>\n",
       "      <td>17</td>\n",
       "      <td>0.213258</td>\n",
       "    </tr>\n",
       "    <tr>\n",
       "      <th>16</th>\n",
       "      <th>309</th>\n",
       "      <td>scc_020</td>\n",
       "      <td>16</td>\n",
       "      <td>0.212867</td>\n",
       "    </tr>\n",
       "  </tbody>\n",
       "</table>\n",
       "</div>"
      ],
      "text/plain": [
       "         method   k  ari_mean\n",
       "k                            \n",
       "8  301  scc_020   8  0.221259\n",
       "10 126  scc_025  10  0.221141\n",
       "7  300  scc_020   7  0.218083\n",
       "6  299  scc_020   6  0.218068\n",
       "12 305  scc_020  12  0.217015\n",
       "11 304  scc_020  11  0.217009\n",
       "9  302  scc_020   9  0.216682\n",
       "18 311  scc_020  18  0.213489\n",
       "17 310  scc_020  17  0.213258\n",
       "16 309  scc_020  16  0.212867"
      ]
     },
     "metadata": {},
     "output_type": "display_data"
    }
   ],
   "source": [
    "best_parts_by_mean = (\n",
    "    consensus_clustering_results.groupby(\"k\")\n",
    "    .apply(lambda x: x.sort_values(_mean_column, ascending=False).head(1))\n",
    "    .sort_values(_mean_column, ascending=False)[[\"method\", \"k\", _mean_column]]\n",
    ")\n",
    "display(best_parts_by_mean.head(10))"
   ]
  },
  {
   "cell_type": "code",
   "execution_count": 15,
   "metadata": {
    "execution": {
     "iopub.execute_input": "2021-05-09T05:25:24.372004Z",
     "iopub.status.busy": "2021-05-09T05:25:24.371610Z",
     "iopub.status.idle": "2021-05-09T05:25:24.424707Z",
     "shell.execute_reply": "2021-05-09T05:25:24.424321Z"
    },
    "papermill": {
     "duration": 0.075965,
     "end_time": "2021-05-09T05:25:24.424807",
     "exception": false,
     "start_time": "2021-05-09T05:25:24.348842",
     "status": "completed"
    },
    "tags": []
   },
   "outputs": [
    {
     "data": {
      "text/html": [
       "<div>\n",
       "<style scoped>\n",
       "    .dataframe tbody tr th:only-of-type {\n",
       "        vertical-align: middle;\n",
       "    }\n",
       "\n",
       "    .dataframe tbody tr th {\n",
       "        vertical-align: top;\n",
       "    }\n",
       "\n",
       "    .dataframe thead th {\n",
       "        text-align: right;\n",
       "    }\n",
       "</style>\n",
       "<table border=\"1\" class=\"dataframe\">\n",
       "  <thead>\n",
       "    <tr style=\"text-align: right;\">\n",
       "      <th></th>\n",
       "      <th></th>\n",
       "      <th>method</th>\n",
       "      <th>k</th>\n",
       "      <th>ari_median</th>\n",
       "    </tr>\n",
       "    <tr>\n",
       "      <th>k</th>\n",
       "      <th></th>\n",
       "      <th></th>\n",
       "      <th></th>\n",
       "      <th></th>\n",
       "    </tr>\n",
       "  </thead>\n",
       "  <tbody>\n",
       "    <tr>\n",
       "      <th>14</th>\n",
       "      <th>130</th>\n",
       "      <td>scc_025</td>\n",
       "      <td>14</td>\n",
       "      <td>0.090117</td>\n",
       "    </tr>\n",
       "    <tr>\n",
       "      <th>22</th>\n",
       "      <th>315</th>\n",
       "      <td>scc_020</td>\n",
       "      <td>22</td>\n",
       "      <td>0.090100</td>\n",
       "    </tr>\n",
       "    <tr>\n",
       "      <th>13</th>\n",
       "      <th>129</th>\n",
       "      <td>scc_025</td>\n",
       "      <td>13</td>\n",
       "      <td>0.089920</td>\n",
       "    </tr>\n",
       "    <tr>\n",
       "      <th>12</th>\n",
       "      <th>128</th>\n",
       "      <td>scc_025</td>\n",
       "      <td>12</td>\n",
       "      <td>0.089894</td>\n",
       "    </tr>\n",
       "    <tr>\n",
       "      <th>11</th>\n",
       "      <th>127</th>\n",
       "      <td>scc_025</td>\n",
       "      <td>11</td>\n",
       "      <td>0.089616</td>\n",
       "    </tr>\n",
       "    <tr>\n",
       "      <th>15</th>\n",
       "      <th>131</th>\n",
       "      <td>scc_025</td>\n",
       "      <td>15</td>\n",
       "      <td>0.089346</td>\n",
       "    </tr>\n",
       "    <tr>\n",
       "      <th>7</th>\n",
       "      <th>182</th>\n",
       "      <td>eac_complete_coassoc_matrix</td>\n",
       "      <td>7</td>\n",
       "      <td>0.088937</td>\n",
       "    </tr>\n",
       "    <tr>\n",
       "      <th>6</th>\n",
       "      <th>181</th>\n",
       "      <td>eac_complete_coassoc_matrix</td>\n",
       "      <td>6</td>\n",
       "      <td>0.088920</td>\n",
       "    </tr>\n",
       "    <tr>\n",
       "      <th>8</th>\n",
       "      <th>183</th>\n",
       "      <td>eac_complete_coassoc_matrix</td>\n",
       "      <td>8</td>\n",
       "      <td>0.088831</td>\n",
       "    </tr>\n",
       "    <tr>\n",
       "      <th>9</th>\n",
       "      <th>184</th>\n",
       "      <td>eac_complete_coassoc_matrix</td>\n",
       "      <td>9</td>\n",
       "      <td>0.088777</td>\n",
       "    </tr>\n",
       "  </tbody>\n",
       "</table>\n",
       "</div>"
      ],
      "text/plain": [
       "                             method   k  ari_median\n",
       "k                                                  \n",
       "14 130                      scc_025  14    0.090117\n",
       "22 315                      scc_020  22    0.090100\n",
       "13 129                      scc_025  13    0.089920\n",
       "12 128                      scc_025  12    0.089894\n",
       "11 127                      scc_025  11    0.089616\n",
       "15 131                      scc_025  15    0.089346\n",
       "7  182  eac_complete_coassoc_matrix   7    0.088937\n",
       "6  181  eac_complete_coassoc_matrix   6    0.088920\n",
       "8  183  eac_complete_coassoc_matrix   8    0.088831\n",
       "9  184  eac_complete_coassoc_matrix   9    0.088777"
      ]
     },
     "metadata": {},
     "output_type": "display_data"
    }
   ],
   "source": [
    "best_parts_by_median = (\n",
    "    consensus_clustering_results.groupby(\"k\")\n",
    "    .apply(lambda x: x.sort_values(_median_column, ascending=False).head(1))\n",
    "    .sort_values(_median_column, ascending=False)[[\"method\", \"k\", _median_column]]\n",
    ")\n",
    "display(best_parts_by_median.head(10))"
   ]
  },
  {
   "cell_type": "code",
   "execution_count": 16,
   "metadata": {
    "execution": {
     "iopub.execute_input": "2021-05-09T05:25:24.474952Z",
     "iopub.status.busy": "2021-05-09T05:25:24.474498Z",
     "iopub.status.idle": "2021-05-09T05:25:26.019663Z",
     "shell.execute_reply": "2021-05-09T05:25:26.019964Z"
    },
    "papermill": {
     "duration": 1.573837,
     "end_time": "2021-05-09T05:25:26.020068",
     "exception": false,
     "start_time": "2021-05-09T05:25:24.446231",
     "status": "completed"
    },
    "tags": []
   },
   "outputs": [
    {
     "data": {
      "image/png": "[encoded data removed]",
      "text/plain": [
       "<Figure size 864x432 with 1 Axes>"
      ]
     },
     "metadata": {},
     "output_type": "display_data"
    }
   ],
   "source": [
    "with sns.plotting_context(\"talk\", font_scale=0.75), sns.axes_style(\n",
    "    \"whitegrid\", {\"grid.linestyle\": \"--\"}\n",
    "):\n",
    "    fig, ax = plt.subplots(figsize=(12, 6))\n",
    "\n",
    "    ax = sns.pointplot(\n",
    "        data=best_parts_by_mean,\n",
    "        x=\"k\",\n",
    "        y=_mean_column,\n",
    "        ci=None,\n",
    "        color=_indexes_colors[0],\n",
    "        label=\"Mean\",\n",
    "    )\n",
    "    ax = sns.pointplot(\n",
    "        data=best_parts_by_median,\n",
    "        x=\"k\",\n",
    "        y=_median_column,\n",
    "        ci=None,\n",
    "        color=_indexes_colors[1],\n",
    "        label=\"Median\",\n",
    "        ax=ax,\n",
    "    )\n",
    "    ax.set_ylabel(f\"Agreement with ensemble ({_selected_measure})\")\n",
    "    ax.set_xlabel(\"Number of clusters ($k$)\")\n",
    "    ax.set_xticklabels(ax.get_xticklabels(), rotation=45)\n",
    "    plt.legend(labels=[\"Mean\", \"Median\"])\n",
    "    plt.grid(True)\n",
    "    plt.tight_layout()"
   ]
  },
  {
   "cell_type": "markdown",
   "metadata": {
    "papermill": {
     "duration": 0.022417,
     "end_time": "2021-05-09T05:25:26.065665",
     "exception": false,
     "start_time": "2021-05-09T05:25:26.043248",
     "status": "completed"
    },
    "tags": []
   },
   "source": [
    "Both central tendency measures (the mean and the median) have the same behevior: higher agreement on lower/medium k values, and lower agreement on higher k values."
   ]
  },
  {
   "cell_type": "markdown",
   "metadata": {
    "papermill": {
     "duration": 0.022241,
     "end_time": "2021-05-09T05:25:26.110283",
     "exception": false,
     "start_time": "2021-05-09T05:25:26.088042",
     "status": "completed"
    },
    "tags": []
   },
   "source": [
    "# Which consensus method performs better?"
   ]
  },
  {
   "cell_type": "markdown",
   "metadata": {
    "papermill": {
     "duration": 0.022762,
     "end_time": "2021-05-09T05:25:26.155657",
     "exception": false,
     "start_time": "2021-05-09T05:25:26.132895",
     "status": "completed"
    },
    "tags": []
   },
   "source": [
    "For this comparison, I take the partitions with an agreement higher than the 75th percentile. From this set, I count how many times each method won."
   ]
  },
  {
   "cell_type": "markdown",
   "metadata": {
    "papermill": {
     "duration": 0.022498,
     "end_time": "2021-05-09T05:25:26.200533",
     "exception": false,
     "start_time": "2021-05-09T05:25:26.178035",
     "status": "completed"
    },
    "tags": []
   },
   "source": [
    "## Using best by mean"
   ]
  },
  {
   "cell_type": "code",
   "execution_count": 17,
   "metadata": {
    "execution": {
     "iopub.execute_input": "2021-05-09T05:25:26.247903Z",
     "iopub.status.busy": "2021-05-09T05:25:26.247524Z",
     "iopub.status.idle": "2021-05-09T05:25:26.260009Z",
     "shell.execute_reply": "2021-05-09T05:25:26.259637Z"
    },
    "papermill": {
     "duration": 0.03712,
     "end_time": "2021-05-09T05:25:26.260096",
     "exception": false,
     "start_time": "2021-05-09T05:25:26.222976",
     "status": "completed"
    },
    "tags": []
   },
   "outputs": [
    {
     "data": {
      "text/plain": [
       "count    59.000000\n",
       "mean      0.180896\n",
       "std       0.019937\n",
       "min       0.159729\n",
       "25%       0.167322\n",
       "50%       0.173438\n",
       "75%       0.196895\n",
       "max       0.221259\n",
       "Name: ari_mean, dtype: float64"
      ]
     },
     "metadata": {},
     "output_type": "display_data"
    }
   ],
   "source": [
    "_stats_data = best_parts_by_mean[_mean_column].describe()\n",
    "display(_stats_data)"
   ]
  },
  {
   "cell_type": "code",
   "execution_count": 18,
   "metadata": {
    "execution": {
     "iopub.execute_input": "2021-05-09T05:25:26.308620Z",
     "iopub.status.busy": "2021-05-09T05:25:26.308211Z",
     "iopub.status.idle": "2021-05-09T05:25:26.319916Z",
     "shell.execute_reply": "2021-05-09T05:25:26.319539Z"
    },
    "papermill": {
     "duration": 0.036885,
     "end_time": "2021-05-09T05:25:26.320002",
     "exception": false,
     "start_time": "2021-05-09T05:25:26.283117",
     "status": "completed"
    },
    "tags": []
   },
   "outputs": [
    {
     "data": {
      "text/plain": [
       "scc_020                       12\n",
       "scc_025                        2\n",
       "eac_average_coassoc_matrix     1\n",
       "Name: method, dtype: int64"
      ]
     },
     "execution_count": 18,
     "metadata": {},
     "output_type": "execute_result"
    }
   ],
   "source": [
    "best_parts_by_mean[best_parts_by_mean[_mean_column] > _stats_data[\"75%\"]][\n",
    "    \"method\"\n",
    "].value_counts()"
   ]
  },
  {
   "cell_type": "markdown",
   "metadata": {
    "papermill": {
     "duration": 0.022834,
     "end_time": "2021-05-09T05:25:26.366400",
     "exception": false,
     "start_time": "2021-05-09T05:25:26.343566",
     "status": "completed"
    },
    "tags": []
   },
   "source": [
    "SCC picked the \"best partition\" 14 times, whereas EAC (hierarhical clustering) did it only once."
   ]
  },
  {
   "cell_type": "markdown",
   "metadata": {
    "papermill": {
     "duration": 0.02274,
     "end_time": "2021-05-09T05:25:26.412561",
     "exception": false,
     "start_time": "2021-05-09T05:25:26.389821",
     "status": "completed"
    },
    "tags": []
   },
   "source": [
    "## Using best by median"
   ]
  },
  {
   "cell_type": "code",
   "execution_count": 19,
   "metadata": {
    "execution": {
     "iopub.execute_input": "2021-05-09T05:25:26.465541Z",
     "iopub.status.busy": "2021-05-09T05:25:26.465083Z",
     "iopub.status.idle": "2021-05-09T05:25:26.479664Z",
     "shell.execute_reply": "2021-05-09T05:25:26.479244Z"
    },
    "papermill": {
     "duration": 0.044317,
     "end_time": "2021-05-09T05:25:26.479762",
     "exception": false,
     "start_time": "2021-05-09T05:25:26.435445",
     "status": "completed"
    },
    "tags": []
   },
   "outputs": [
    {
     "data": {
      "text/plain": [
       "count    59.000000\n",
       "mean      0.073920\n",
       "std       0.013813\n",
       "min       0.051845\n",
       "25%       0.057652\n",
       "50%       0.076657\n",
       "75%       0.086586\n",
       "max       0.090117\n",
       "Name: ari_median, dtype: float64"
      ]
     },
     "metadata": {},
     "output_type": "display_data"
    }
   ],
   "source": [
    "_stats_data = best_parts_by_median[_median_column].describe()\n",
    "display(_stats_data)"
   ]
  },
  {
   "cell_type": "code",
   "execution_count": 20,
   "metadata": {
    "execution": {
     "iopub.execute_input": "2021-05-09T05:25:26.532540Z",
     "iopub.status.busy": "2021-05-09T05:25:26.532179Z",
     "iopub.status.idle": "2021-05-09T05:25:26.544009Z",
     "shell.execute_reply": "2021-05-09T05:25:26.543662Z"
    },
    "papermill": {
     "duration": 0.037906,
     "end_time": "2021-05-09T05:25:26.544096",
     "exception": false,
     "start_time": "2021-05-09T05:25:26.506190",
     "status": "completed"
    },
    "tags": []
   },
   "outputs": [
    {
     "data": {
      "text/plain": [
       "scc_025                        6\n",
       "eac_complete_coassoc_matrix    5\n",
       "scc_020                        3\n",
       "scc_030                        1\n",
       "Name: method, dtype: int64"
      ]
     },
     "execution_count": 20,
     "metadata": {},
     "output_type": "execute_result"
    }
   ],
   "source": [
    "best_parts_by_median[best_parts_by_median[_median_column] > _stats_data[\"75%\"]][\n",
    "    \"method\"\n",
    "].value_counts()"
   ]
  },
  {
   "cell_type": "markdown",
   "metadata": {
    "papermill": {
     "duration": 0.023997,
     "end_time": "2021-05-09T05:25:26.593190",
     "exception": false,
     "start_time": "2021-05-09T05:25:26.569193",
     "status": "completed"
    },
    "tags": []
   },
   "source": [
    "If we use the \"best partitions by median\", EAC (HC) picked the best one 5 times, whereas SCC did it 10 times."
   ]
  },
  {
   "cell_type": "markdown",
   "metadata": {
    "papermill": {
     "duration": 0.023217,
     "end_time": "2021-05-09T05:25:26.644623",
     "exception": false,
     "start_time": "2021-05-09T05:25:26.621406",
     "status": "completed"
    },
    "tags": []
   },
   "source": [
    "**CONCLUSION:** we select SCC as the method for follow up analysis."
   ]
  },
  {
   "cell_type": "markdown",
   "metadata": {
    "papermill": {
     "duration": 0.023723,
     "end_time": "2021-05-09T05:25:26.691675",
     "exception": false,
     "start_time": "2021-05-09T05:25:26.667952",
     "status": "completed"
    },
    "tags": []
   },
   "source": [
    "# Select best partition per k"
   ]
  },
  {
   "cell_type": "code",
   "execution_count": 21,
   "metadata": {
    "execution": {
     "iopub.execute_input": "2021-05-09T05:25:26.741308Z",
     "iopub.status.busy": "2021-05-09T05:25:26.740931Z",
     "iopub.status.idle": "2021-05-09T05:25:26.750425Z",
     "shell.execute_reply": "2021-05-09T05:25:26.750066Z"
    },
    "papermill": {
     "duration": 0.035334,
     "end_time": "2021-05-09T05:25:26.750509",
     "exception": false,
     "start_time": "2021-05-09T05:25:26.715175",
     "status": "completed"
    },
    "tags": []
   },
   "outputs": [],
   "source": [
    "_selected_stat = \"Median\"\n",
    "_measure_col = _median_column"
   ]
  },
  {
   "cell_type": "code",
   "execution_count": 22,
   "metadata": {
    "execution": {
     "iopub.execute_input": "2021-05-09T05:25:26.800190Z",
     "iopub.status.busy": "2021-05-09T05:25:26.799829Z",
     "iopub.status.idle": "2021-05-09T05:25:26.846870Z",
     "shell.execute_reply": "2021-05-09T05:25:26.846506Z"
    },
    "papermill": {
     "duration": 0.073068,
     "end_time": "2021-05-09T05:25:26.846951",
     "exception": false,
     "start_time": "2021-05-09T05:25:26.773883",
     "status": "completed"
    },
    "tags": []
   },
   "outputs": [],
   "source": [
    "best_parts = (\n",
    "    consensus_clustering_results[\n",
    "        consensus_clustering_results[\"method\"].str.startswith(\"scc_\")\n",
    "    ]\n",
    "    .groupby(\"k\")\n",
    "    .apply(lambda x: x.sort_values(_measure_col, ascending=False).head(1))\n",
    "    .sort_values(_measure_col, ascending=False)[\n",
    "        [\"method\", \"k\", \"partition\", _measure_col]\n",
    "    ]\n",
    ")"
   ]
  },
  {
   "cell_type": "code",
   "execution_count": 23,
   "metadata": {
    "execution": {
     "iopub.execute_input": "2021-05-09T05:25:26.896235Z",
     "iopub.status.busy": "2021-05-09T05:25:26.895861Z",
     "iopub.status.idle": "2021-05-09T05:25:26.905988Z",
     "shell.execute_reply": "2021-05-09T05:25:26.905609Z"
    },
    "papermill": {
     "duration": 0.035747,
     "end_time": "2021-05-09T05:25:26.906075",
     "exception": false,
     "start_time": "2021-05-09T05:25:26.870328",
     "status": "completed"
    },
    "tags": []
   },
   "outputs": [],
   "source": [
    "best_parts = best_parts.set_index(\"k\")"
   ]
  },
  {
   "cell_type": "code",
   "execution_count": 24,
   "metadata": {
    "execution": {
     "iopub.execute_input": "2021-05-09T05:25:26.957328Z",
     "iopub.status.busy": "2021-05-09T05:25:26.956966Z",
     "iopub.status.idle": "2021-05-09T05:25:26.967189Z",
     "shell.execute_reply": "2021-05-09T05:25:26.966831Z"
    },
    "papermill": {
     "duration": 0.03591,
     "end_time": "2021-05-09T05:25:26.967272",
     "exception": false,
     "start_time": "2021-05-09T05:25:26.931362",
     "status": "completed"
    },
    "tags": []
   },
   "outputs": [
    {
     "data": {
      "text/plain": [
       "(59, 3)"
      ]
     },
     "execution_count": 24,
     "metadata": {},
     "output_type": "execute_result"
    }
   ],
   "source": [
    "best_parts.shape"
   ]
  },
  {
   "cell_type": "code",
   "execution_count": 25,
   "metadata": {
    "execution": {
     "iopub.execute_input": "2021-05-09T05:25:27.017447Z",
     "iopub.status.busy": "2021-05-09T05:25:27.017075Z",
     "iopub.status.idle": "2021-05-09T05:25:27.038907Z",
     "shell.execute_reply": "2021-05-09T05:25:27.038520Z"
    },
    "papermill": {
     "duration": 0.048243,
     "end_time": "2021-05-09T05:25:27.038990",
     "exception": false,
     "start_time": "2021-05-09T05:25:26.990747",
     "status": "completed"
    },
    "tags": []
   },
   "outputs": [
    {
     "data": {
      "text/html": [
       "<div>\n",
       "<style scoped>\n",
       "    .dataframe tbody tr th:only-of-type {\n",
       "        vertical-align: middle;\n",
       "    }\n",
       "\n",
       "    .dataframe tbody tr th {\n",
       "        vertical-align: top;\n",
       "    }\n",
       "\n",
       "    .dataframe thead th {\n",
       "        text-align: right;\n",
       "    }\n",
       "</style>\n",
       "<table border=\"1\" class=\"dataframe\">\n",
       "  <thead>\n",
       "    <tr style=\"text-align: right;\">\n",
       "      <th></th>\n",
       "      <th>method</th>\n",
       "      <th>partition</th>\n",
       "      <th>ari_median</th>\n",
       "    </tr>\n",
       "    <tr>\n",
       "      <th>k</th>\n",
       "      <th></th>\n",
       "      <th></th>\n",
       "      <th></th>\n",
       "    </tr>\n",
       "  </thead>\n",
       "  <tbody>\n",
       "    <tr>\n",
       "      <th>14</th>\n",
       "      <td>scc_025</td>\n",
       "      <td>[0, 0, 0, 0, 0, 0, 0, 0, 0, 0, 0, 0, 0, 0, 0, ...</td>\n",
       "      <td>0.090117</td>\n",
       "    </tr>\n",
       "    <tr>\n",
       "      <th>22</th>\n",
       "      <td>scc_020</td>\n",
       "      <td>[13, 18, 18, 18, 18, 18, 18, 18, 18, 13, 18, 1...</td>\n",
       "      <td>0.090100</td>\n",
       "    </tr>\n",
       "    <tr>\n",
       "      <th>13</th>\n",
       "      <td>scc_025</td>\n",
       "      <td>[0, 0, 0, 0, 0, 0, 0, 0, 0, 0, 0, 0, 0, 0, 0, ...</td>\n",
       "      <td>0.089920</td>\n",
       "    </tr>\n",
       "    <tr>\n",
       "      <th>12</th>\n",
       "      <td>scc_025</td>\n",
       "      <td>[0, 0, 0, 0, 0, 0, 0, 0, 0, 0, 0, 0, 0, 0, 0, ...</td>\n",
       "      <td>0.089894</td>\n",
       "    </tr>\n",
       "    <tr>\n",
       "      <th>11</th>\n",
       "      <td>scc_025</td>\n",
       "      <td>[0, 0, 0, 0, 0, 0, 0, 0, 0, 0, 0, 0, 0, 0, 0, ...</td>\n",
       "      <td>0.089616</td>\n",
       "    </tr>\n",
       "    <tr>\n",
       "      <th>15</th>\n",
       "      <td>scc_025</td>\n",
       "      <td>[0, 0, 0, 0, 0, 0, 0, 0, 0, 0, 0, 0, 0, 0, 0, ...</td>\n",
       "      <td>0.089346</td>\n",
       "    </tr>\n",
       "    <tr>\n",
       "      <th>8</th>\n",
       "      <td>scc_025</td>\n",
       "      <td>[0, 0, 0, 0, 0, 0, 0, 0, 0, 0, 0, 0, 0, 0, 0, ...</td>\n",
       "      <td>0.088678</td>\n",
       "    </tr>\n",
       "    <tr>\n",
       "      <th>16</th>\n",
       "      <td>scc_025</td>\n",
       "      <td>[0, 0, 0, 0, 0, 0, 0, 0, 0, 0, 0, 0, 0, 0, 0, ...</td>\n",
       "      <td>0.088662</td>\n",
       "    </tr>\n",
       "    <tr>\n",
       "      <th>9</th>\n",
       "      <td>scc_025</td>\n",
       "      <td>[8, 8, 8, 8, 8, 8, 8, 8, 8, 8, 8, 8, 8, 8, 8, ...</td>\n",
       "      <td>0.088639</td>\n",
       "    </tr>\n",
       "    <tr>\n",
       "      <th>7</th>\n",
       "      <td>scc_025</td>\n",
       "      <td>[0, 0, 0, 0, 0, 0, 0, 0, 0, 0, 0, 0, 0, 0, 0, ...</td>\n",
       "      <td>0.088480</td>\n",
       "    </tr>\n",
       "  </tbody>\n",
       "</table>\n",
       "</div>"
      ],
      "text/plain": [
       "     method                                          partition  ari_median\n",
       "k                                                                         \n",
       "14  scc_025  [0, 0, 0, 0, 0, 0, 0, 0, 0, 0, 0, 0, 0, 0, 0, ...    0.090117\n",
       "22  scc_020  [13, 18, 18, 18, 18, 18, 18, 18, 18, 13, 18, 1...    0.090100\n",
       "13  scc_025  [0, 0, 0, 0, 0, 0, 0, 0, 0, 0, 0, 0, 0, 0, 0, ...    0.089920\n",
       "12  scc_025  [0, 0, 0, 0, 0, 0, 0, 0, 0, 0, 0, 0, 0, 0, 0, ...    0.089894\n",
       "11  scc_025  [0, 0, 0, 0, 0, 0, 0, 0, 0, 0, 0, 0, 0, 0, 0, ...    0.089616\n",
       "15  scc_025  [0, 0, 0, 0, 0, 0, 0, 0, 0, 0, 0, 0, 0, 0, 0, ...    0.089346\n",
       "8   scc_025  [0, 0, 0, 0, 0, 0, 0, 0, 0, 0, 0, 0, 0, 0, 0, ...    0.088678\n",
       "16  scc_025  [0, 0, 0, 0, 0, 0, 0, 0, 0, 0, 0, 0, 0, 0, 0, ...    0.088662\n",
       "9   scc_025  [8, 8, 8, 8, 8, 8, 8, 8, 8, 8, 8, 8, 8, 8, 8, ...    0.088639\n",
       "7   scc_025  [0, 0, 0, 0, 0, 0, 0, 0, 0, 0, 0, 0, 0, 0, 0, ...    0.088480"
      ]
     },
     "execution_count": 25,
     "metadata": {},
     "output_type": "execute_result"
    }
   ],
   "source": [
    "# show partitions with top values\n",
    "best_parts.head(10)"
   ]
  },
  {
   "cell_type": "code",
   "execution_count": 26,
   "metadata": {
    "execution": {
     "iopub.execute_input": "2021-05-09T05:25:27.089503Z",
     "iopub.status.busy": "2021-05-09T05:25:27.089139Z",
     "iopub.status.idle": "2021-05-09T05:25:27.154548Z",
     "shell.execute_reply": "2021-05-09T05:25:27.154825Z"
    },
    "papermill": {
     "duration": 0.091623,
     "end_time": "2021-05-09T05:25:27.154932",
     "exception": false,
     "start_time": "2021-05-09T05:25:27.063309",
     "status": "completed"
    },
    "tags": []
   },
   "outputs": [
    {
     "data": {
      "text/html": [
       "<div>\n",
       "<style scoped>\n",
       "    .dataframe tbody tr th:only-of-type {\n",
       "        vertical-align: middle;\n",
       "    }\n",
       "\n",
       "    .dataframe tbody tr th {\n",
       "        vertical-align: top;\n",
       "    }\n",
       "\n",
       "    .dataframe thead th {\n",
       "        text-align: right;\n",
       "    }\n",
       "</style>\n",
       "<table border=\"1\" class=\"dataframe\">\n",
       "  <thead>\n",
       "    <tr style=\"text-align: right;\">\n",
       "      <th></th>\n",
       "      <th>method</th>\n",
       "      <th>partition</th>\n",
       "      <th>ari_median</th>\n",
       "    </tr>\n",
       "    <tr>\n",
       "      <th>k</th>\n",
       "      <th></th>\n",
       "      <th></th>\n",
       "      <th></th>\n",
       "    </tr>\n",
       "  </thead>\n",
       "  <tbody>\n",
       "    <tr>\n",
       "      <th>2</th>\n",
       "      <td>scc_050</td>\n",
       "      <td>[1, 1, 1, 0, 0, 0, 0, 0, 1, 0, 1, 1, 0, 1, 0, ...</td>\n",
       "      <td>0.076657</td>\n",
       "    </tr>\n",
       "    <tr>\n",
       "      <th>3</th>\n",
       "      <td>scc_050</td>\n",
       "      <td>[1, 1, 1, 2, 2, 2, 2, 2, 1, 2, 1, 1, 2, 1, 2, ...</td>\n",
       "      <td>0.063797</td>\n",
       "    </tr>\n",
       "    <tr>\n",
       "      <th>4</th>\n",
       "      <td>scc_030</td>\n",
       "      <td>[0, 0, 0, 0, 0, 0, 0, 0, 3, 0, 3, 3, 0, 3, 0, ...</td>\n",
       "      <td>0.085510</td>\n",
       "    </tr>\n",
       "    <tr>\n",
       "      <th>5</th>\n",
       "      <td>scc_030</td>\n",
       "      <td>[0, 0, 0, 0, 0, 0, 0, 0, 4, 0, 4, 4, 0, 0, 0, ...</td>\n",
       "      <td>0.087086</td>\n",
       "    </tr>\n",
       "    <tr>\n",
       "      <th>6</th>\n",
       "      <td>scc_030</td>\n",
       "      <td>[5, 5, 5, 5, 5, 5, 5, 5, 0, 5, 0, 0, 5, 0, 5, ...</td>\n",
       "      <td>0.088032</td>\n",
       "    </tr>\n",
       "    <tr>\n",
       "      <th>7</th>\n",
       "      <td>scc_025</td>\n",
       "      <td>[0, 0, 0, 0, 0, 0, 0, 0, 0, 0, 0, 0, 0, 0, 0, ...</td>\n",
       "      <td>0.088480</td>\n",
       "    </tr>\n",
       "    <tr>\n",
       "      <th>8</th>\n",
       "      <td>scc_025</td>\n",
       "      <td>[0, 0, 0, 0, 0, 0, 0, 0, 0, 0, 0, 0, 0, 0, 0, ...</td>\n",
       "      <td>0.088678</td>\n",
       "    </tr>\n",
       "    <tr>\n",
       "      <th>9</th>\n",
       "      <td>scc_025</td>\n",
       "      <td>[8, 8, 8, 8, 8, 8, 8, 8, 8, 8, 8, 8, 8, 8, 8, ...</td>\n",
       "      <td>0.088639</td>\n",
       "    </tr>\n",
       "    <tr>\n",
       "      <th>10</th>\n",
       "      <td>scc_030</td>\n",
       "      <td>[9, 0, 0, 0, 0, 0, 0, 0, 0, 9, 0, 0, 9, 0, 9, ...</td>\n",
       "      <td>0.051682</td>\n",
       "    </tr>\n",
       "    <tr>\n",
       "      <th>11</th>\n",
       "      <td>scc_025</td>\n",
       "      <td>[0, 0, 0, 0, 0, 0, 0, 0, 0, 0, 0, 0, 0, 0, 0, ...</td>\n",
       "      <td>0.089616</td>\n",
       "    </tr>\n",
       "    <tr>\n",
       "      <th>12</th>\n",
       "      <td>scc_025</td>\n",
       "      <td>[0, 0, 0, 0, 0, 0, 0, 0, 0, 0, 0, 0, 0, 0, 0, ...</td>\n",
       "      <td>0.089894</td>\n",
       "    </tr>\n",
       "    <tr>\n",
       "      <th>13</th>\n",
       "      <td>scc_025</td>\n",
       "      <td>[0, 0, 0, 0, 0, 0, 0, 0, 0, 0, 0, 0, 0, 0, 0, ...</td>\n",
       "      <td>0.089920</td>\n",
       "    </tr>\n",
       "    <tr>\n",
       "      <th>14</th>\n",
       "      <td>scc_025</td>\n",
       "      <td>[0, 0, 0, 0, 0, 0, 0, 0, 0, 0, 0, 0, 0, 0, 0, ...</td>\n",
       "      <td>0.090117</td>\n",
       "    </tr>\n",
       "    <tr>\n",
       "      <th>15</th>\n",
       "      <td>scc_025</td>\n",
       "      <td>[0, 0, 0, 0, 0, 0, 0, 0, 0, 0, 0, 0, 0, 0, 0, ...</td>\n",
       "      <td>0.089346</td>\n",
       "    </tr>\n",
       "    <tr>\n",
       "      <th>16</th>\n",
       "      <td>scc_025</td>\n",
       "      <td>[0, 0, 0, 0, 0, 0, 0, 0, 0, 0, 0, 0, 0, 0, 0, ...</td>\n",
       "      <td>0.088662</td>\n",
       "    </tr>\n",
       "    <tr>\n",
       "      <th>17</th>\n",
       "      <td>scc_025</td>\n",
       "      <td>[14, 14, 14, 14, 14, 14, 14, 14, 14, 14, 14, 1...</td>\n",
       "      <td>0.062636</td>\n",
       "    </tr>\n",
       "    <tr>\n",
       "      <th>18</th>\n",
       "      <td>scc_025</td>\n",
       "      <td>[1, 1, 1, 1, 1, 1, 1, 1, 1, 1, 1, 1, 1, 1, 1, ...</td>\n",
       "      <td>0.069489</td>\n",
       "    </tr>\n",
       "    <tr>\n",
       "      <th>19</th>\n",
       "      <td>scc_025</td>\n",
       "      <td>[17, 17, 17, 17, 17, 17, 17, 17, 17, 17, 17, 1...</td>\n",
       "      <td>0.062454</td>\n",
       "    </tr>\n",
       "    <tr>\n",
       "      <th>20</th>\n",
       "      <td>scc_025</td>\n",
       "      <td>[0, 13, 13, 13, 13, 13, 13, 13, 13, 0, 13, 13,...</td>\n",
       "      <td>0.068349</td>\n",
       "    </tr>\n",
       "    <tr>\n",
       "      <th>21</th>\n",
       "      <td>scc_025</td>\n",
       "      <td>[0, 20, 20, 20, 20, 20, 20, 20, 20, 0, 20, 20,...</td>\n",
       "      <td>0.065418</td>\n",
       "    </tr>\n",
       "    <tr>\n",
       "      <th>22</th>\n",
       "      <td>scc_020</td>\n",
       "      <td>[13, 18, 18, 18, 18, 18, 18, 18, 18, 13, 18, 1...</td>\n",
       "      <td>0.090100</td>\n",
       "    </tr>\n",
       "    <tr>\n",
       "      <th>23</th>\n",
       "      <td>scc_020</td>\n",
       "      <td>[0, 20, 20, 20, 20, 20, 20, 20, 20, 0, 20, 20,...</td>\n",
       "      <td>0.085928</td>\n",
       "    </tr>\n",
       "    <tr>\n",
       "      <th>24</th>\n",
       "      <td>scc_020</td>\n",
       "      <td>[0, 22, 22, 22, 22, 22, 22, 22, 22, 0, 22, 22,...</td>\n",
       "      <td>0.085412</td>\n",
       "    </tr>\n",
       "    <tr>\n",
       "      <th>25</th>\n",
       "      <td>scc_020</td>\n",
       "      <td>[0, 21, 21, 21, 21, 21, 21, 21, 21, 0, 21, 21,...</td>\n",
       "      <td>0.087029</td>\n",
       "    </tr>\n",
       "    <tr>\n",
       "      <th>26</th>\n",
       "      <td>scc_020</td>\n",
       "      <td>[0, 21, 21, 21, 21, 21, 21, 21, 21, 0, 21, 21,...</td>\n",
       "      <td>0.086943</td>\n",
       "    </tr>\n",
       "    <tr>\n",
       "      <th>27</th>\n",
       "      <td>scc_020</td>\n",
       "      <td>[0, 21, 21, 21, 21, 21, 21, 21, 21, 0, 21, 21,...</td>\n",
       "      <td>0.083724</td>\n",
       "    </tr>\n",
       "    <tr>\n",
       "      <th>28</th>\n",
       "      <td>scc_020</td>\n",
       "      <td>[0, 21, 21, 21, 21, 21, 21, 21, 21, 0, 21, 21,...</td>\n",
       "      <td>0.063682</td>\n",
       "    </tr>\n",
       "    <tr>\n",
       "      <th>29</th>\n",
       "      <td>scc_020</td>\n",
       "      <td>[0, 22, 22, 22, 22, 22, 22, 22, 22, 0, 22, 22,...</td>\n",
       "      <td>0.086230</td>\n",
       "    </tr>\n",
       "    <tr>\n",
       "      <th>30</th>\n",
       "      <td>scc_020</td>\n",
       "      <td>[23, 22, 22, 22, 22, 22, 22, 22, 22, 23, 22, 2...</td>\n",
       "      <td>0.067316</td>\n",
       "    </tr>\n",
       "    <tr>\n",
       "      <th>31</th>\n",
       "      <td>scc_020</td>\n",
       "      <td>[23, 25, 25, 25, 25, 25, 25, 25, 25, 23, 25, 2...</td>\n",
       "      <td>0.062043</td>\n",
       "    </tr>\n",
       "    <tr>\n",
       "      <th>32</th>\n",
       "      <td>scc_020</td>\n",
       "      <td>[27, 24, 24, 24, 24, 24, 24, 24, 24, 27, 24, 2...</td>\n",
       "      <td>0.067968</td>\n",
       "    </tr>\n",
       "    <tr>\n",
       "      <th>33</th>\n",
       "      <td>scc_020</td>\n",
       "      <td>[26, 24, 24, 24, 24, 24, 24, 24, 24, 26, 24, 2...</td>\n",
       "      <td>0.063683</td>\n",
       "    </tr>\n",
       "    <tr>\n",
       "      <th>34</th>\n",
       "      <td>scc_020</td>\n",
       "      <td>[0, 24, 24, 24, 24, 24, 24, 24, 24, 0, 24, 24,...</td>\n",
       "      <td>0.071889</td>\n",
       "    </tr>\n",
       "    <tr>\n",
       "      <th>35</th>\n",
       "      <td>scc_020</td>\n",
       "      <td>[0, 24, 24, 24, 24, 24, 24, 24, 24, 0, 24, 24,...</td>\n",
       "      <td>0.075844</td>\n",
       "    </tr>\n",
       "    <tr>\n",
       "      <th>36</th>\n",
       "      <td>scc_020</td>\n",
       "      <td>[33, 28, 28, 28, 28, 28, 28, 28, 28, 33, 28, 2...</td>\n",
       "      <td>0.071622</td>\n",
       "    </tr>\n",
       "    <tr>\n",
       "      <th>37</th>\n",
       "      <td>scc_020</td>\n",
       "      <td>[35, 25, 25, 25, 25, 25, 25, 25, 25, 35, 25, 2...</td>\n",
       "      <td>0.068721</td>\n",
       "    </tr>\n",
       "    <tr>\n",
       "      <th>38</th>\n",
       "      <td>scc_020</td>\n",
       "      <td>[35, 28, 28, 28, 28, 28, 28, 28, 28, 35, 28, 2...</td>\n",
       "      <td>0.070929</td>\n",
       "    </tr>\n",
       "    <tr>\n",
       "      <th>39</th>\n",
       "      <td>scc_020</td>\n",
       "      <td>[29, 26, 26, 26, 26, 26, 26, 26, 26, 29, 26, 2...</td>\n",
       "      <td>0.054226</td>\n",
       "    </tr>\n",
       "    <tr>\n",
       "      <th>40</th>\n",
       "      <td>scc_020</td>\n",
       "      <td>[0, 26, 26, 26, 26, 26, 26, 26, 26, 0, 26, 26,...</td>\n",
       "      <td>0.071269</td>\n",
       "    </tr>\n",
       "    <tr>\n",
       "      <th>41</th>\n",
       "      <td>scc_020</td>\n",
       "      <td>[26, 21, 21, 21, 21, 21, 21, 21, 21, 26, 21, 2...</td>\n",
       "      <td>0.049811</td>\n",
       "    </tr>\n",
       "    <tr>\n",
       "      <th>42</th>\n",
       "      <td>scc_020</td>\n",
       "      <td>[41, 28, 28, 28, 28, 28, 28, 28, 28, 41, 28, 2...</td>\n",
       "      <td>0.050772</td>\n",
       "    </tr>\n",
       "    <tr>\n",
       "      <th>43</th>\n",
       "      <td>scc_020</td>\n",
       "      <td>[0, 23, 23, 23, 23, 23, 23, 23, 23, 0, 23, 23,...</td>\n",
       "      <td>0.041436</td>\n",
       "    </tr>\n",
       "    <tr>\n",
       "      <th>44</th>\n",
       "      <td>scc_020</td>\n",
       "      <td>[31, 18, 18, 18, 18, 18, 18, 18, 18, 31, 18, 1...</td>\n",
       "      <td>0.049140</td>\n",
       "    </tr>\n",
       "    <tr>\n",
       "      <th>45</th>\n",
       "      <td>scc_020</td>\n",
       "      <td>[37, 25, 25, 25, 25, 25, 25, 25, 25, 37, 25, 2...</td>\n",
       "      <td>0.054200</td>\n",
       "    </tr>\n",
       "    <tr>\n",
       "      <th>46</th>\n",
       "      <td>scc_020</td>\n",
       "      <td>[33, 31, 31, 31, 31, 31, 31, 31, 31, 33, 31, 3...</td>\n",
       "      <td>0.064938</td>\n",
       "    </tr>\n",
       "    <tr>\n",
       "      <th>47</th>\n",
       "      <td>scc_020</td>\n",
       "      <td>[34, 28, 28, 28, 28, 28, 28, 28, 28, 34, 28, 2...</td>\n",
       "      <td>0.046735</td>\n",
       "    </tr>\n",
       "    <tr>\n",
       "      <th>48</th>\n",
       "      <td>scc_020</td>\n",
       "      <td>[34, 27, 27, 27, 27, 27, 27, 27, 27, 34, 27, 2...</td>\n",
       "      <td>0.046826</td>\n",
       "    </tr>\n",
       "    <tr>\n",
       "      <th>49</th>\n",
       "      <td>scc_020</td>\n",
       "      <td>[41, 29, 29, 29, 29, 29, 29, 29, 29, 41, 29, 2...</td>\n",
       "      <td>0.044596</td>\n",
       "    </tr>\n",
       "    <tr>\n",
       "      <th>50</th>\n",
       "      <td>scc_020</td>\n",
       "      <td>[46, 33, 33, 33, 33, 33, 33, 33, 33, 46, 33, 3...</td>\n",
       "      <td>0.037696</td>\n",
       "    </tr>\n",
       "    <tr>\n",
       "      <th>51</th>\n",
       "      <td>scc_020</td>\n",
       "      <td>[34, 28, 28, 28, 28, 28, 28, 28, 28, 34, 28, 2...</td>\n",
       "      <td>0.039922</td>\n",
       "    </tr>\n",
       "    <tr>\n",
       "      <th>52</th>\n",
       "      <td>scc_020</td>\n",
       "      <td>[43, 25, 25, 25, 25, 25, 25, 25, 25, 43, 25, 2...</td>\n",
       "      <td>0.039877</td>\n",
       "    </tr>\n",
       "    <tr>\n",
       "      <th>53</th>\n",
       "      <td>scc_020</td>\n",
       "      <td>[48, 23, 23, 23, 23, 23, 23, 23, 23, 48, 23, 2...</td>\n",
       "      <td>0.038601</td>\n",
       "    </tr>\n",
       "    <tr>\n",
       "      <th>54</th>\n",
       "      <td>scc_020</td>\n",
       "      <td>[38, 35, 35, 35, 35, 35, 35, 35, 35, 38, 35, 3...</td>\n",
       "      <td>0.045948</td>\n",
       "    </tr>\n",
       "    <tr>\n",
       "      <th>55</th>\n",
       "      <td>scc_020</td>\n",
       "      <td>[0, 29, 29, 29, 29, 29, 29, 29, 29, 0, 29, 29,...</td>\n",
       "      <td>0.045492</td>\n",
       "    </tr>\n",
       "    <tr>\n",
       "      <th>56</th>\n",
       "      <td>scc_020</td>\n",
       "      <td>[53, 30, 30, 30, 30, 30, 30, 30, 30, 53, 30, 3...</td>\n",
       "      <td>0.052920</td>\n",
       "    </tr>\n",
       "    <tr>\n",
       "      <th>57</th>\n",
       "      <td>scc_020</td>\n",
       "      <td>[49, 40, 40, 40, 40, 40, 40, 40, 40, 49, 40, 4...</td>\n",
       "      <td>0.037393</td>\n",
       "    </tr>\n",
       "    <tr>\n",
       "      <th>58</th>\n",
       "      <td>scc_020</td>\n",
       "      <td>[55, 29, 29, 29, 29, 29, 29, 29, 29, 55, 29, 2...</td>\n",
       "      <td>0.049760</td>\n",
       "    </tr>\n",
       "    <tr>\n",
       "      <th>59</th>\n",
       "      <td>scc_020</td>\n",
       "      <td>[52, 29, 29, 29, 29, 29, 29, 29, 29, 52, 29, 2...</td>\n",
       "      <td>0.033275</td>\n",
       "    </tr>\n",
       "    <tr>\n",
       "      <th>60</th>\n",
       "      <td>scc_020</td>\n",
       "      <td>[53, 24, 24, 24, 24, 24, 24, 24, 24, 53, 24, 2...</td>\n",
       "      <td>0.040134</td>\n",
       "    </tr>\n",
       "  </tbody>\n",
       "</table>\n",
       "</div>"
      ],
      "text/plain": [
       "     method                                          partition  ari_median\n",
       "k                                                                         \n",
       "2   scc_050  [1, 1, 1, 0, 0, 0, 0, 0, 1, 0, 1, 1, 0, 1, 0, ...    0.076657\n",
       "3   scc_050  [1, 1, 1, 2, 2, 2, 2, 2, 1, 2, 1, 1, 2, 1, 2, ...    0.063797\n",
       "4   scc_030  [0, 0, 0, 0, 0, 0, 0, 0, 3, 0, 3, 3, 0, 3, 0, ...    0.085510\n",
       "5   scc_030  [0, 0, 0, 0, 0, 0, 0, 0, 4, 0, 4, 4, 0, 0, 0, ...    0.087086\n",
       "6   scc_030  [5, 5, 5, 5, 5, 5, 5, 5, 0, 5, 0, 0, 5, 0, 5, ...    0.088032\n",
       "7   scc_025  [0, 0, 0, 0, 0, 0, 0, 0, 0, 0, 0, 0, 0, 0, 0, ...    0.088480\n",
       "8   scc_025  [0, 0, 0, 0, 0, 0, 0, 0, 0, 0, 0, 0, 0, 0, 0, ...    0.088678\n",
       "9   scc_025  [8, 8, 8, 8, 8, 8, 8, 8, 8, 8, 8, 8, 8, 8, 8, ...    0.088639\n",
       "10  scc_030  [9, 0, 0, 0, 0, 0, 0, 0, 0, 9, 0, 0, 9, 0, 9, ...    0.051682\n",
       "11  scc_025  [0, 0, 0, 0, 0, 0, 0, 0, 0, 0, 0, 0, 0, 0, 0, ...    0.089616\n",
       "12  scc_025  [0, 0, 0, 0, 0, 0, 0, 0, 0, 0, 0, 0, 0, 0, 0, ...    0.089894\n",
       "13  scc_025  [0, 0, 0, 0, 0, 0, 0, 0, 0, 0, 0, 0, 0, 0, 0, ...    0.089920\n",
       "14  scc_025  [0, 0, 0, 0, 0, 0, 0, 0, 0, 0, 0, 0, 0, 0, 0, ...    0.090117\n",
       "15  scc_025  [0, 0, 0, 0, 0, 0, 0, 0, 0, 0, 0, 0, 0, 0, 0, ...    0.089346\n",
       "16  scc_025  [0, 0, 0, 0, 0, 0, 0, 0, 0, 0, 0, 0, 0, 0, 0, ...    0.088662\n",
       "17  scc_025  [14, 14, 14, 14, 14, 14, 14, 14, 14, 14, 14, 1...    0.062636\n",
       "18  scc_025  [1, 1, 1, 1, 1, 1, 1, 1, 1, 1, 1, 1, 1, 1, 1, ...    0.069489\n",
       "19  scc_025  [17, 17, 17, 17, 17, 17, 17, 17, 17, 17, 17, 1...    0.062454\n",
       "20  scc_025  [0, 13, 13, 13, 13, 13, 13, 13, 13, 0, 13, 13,...    0.068349\n",
       "21  scc_025  [0, 20, 20, 20, 20, 20, 20, 20, 20, 0, 20, 20,...    0.065418\n",
       "22  scc_020  [13, 18, 18, 18, 18, 18, 18, 18, 18, 13, 18, 1...    0.090100\n",
       "23  scc_020  [0, 20, 20, 20, 20, 20, 20, 20, 20, 0, 20, 20,...    0.085928\n",
       "24  scc_020  [0, 22, 22, 22, 22, 22, 22, 22, 22, 0, 22, 22,...    0.085412\n",
       "25  scc_020  [0, 21, 21, 21, 21, 21, 21, 21, 21, 0, 21, 21,...    0.087029\n",
       "26  scc_020  [0, 21, 21, 21, 21, 21, 21, 21, 21, 0, 21, 21,...    0.086943\n",
       "27  scc_020  [0, 21, 21, 21, 21, 21, 21, 21, 21, 0, 21, 21,...    0.083724\n",
       "28  scc_020  [0, 21, 21, 21, 21, 21, 21, 21, 21, 0, 21, 21,...    0.063682\n",
       "29  scc_020  [0, 22, 22, 22, 22, 22, 22, 22, 22, 0, 22, 22,...    0.086230\n",
       "30  scc_020  [23, 22, 22, 22, 22, 22, 22, 22, 22, 23, 22, 2...    0.067316\n",
       "31  scc_020  [23, 25, 25, 25, 25, 25, 25, 25, 25, 23, 25, 2...    0.062043\n",
       "32  scc_020  [27, 24, 24, 24, 24, 24, 24, 24, 24, 27, 24, 2...    0.067968\n",
       "33  scc_020  [26, 24, 24, 24, 24, 24, 24, 24, 24, 26, 24, 2...    0.063683\n",
       "34  scc_020  [0, 24, 24, 24, 24, 24, 24, 24, 24, 0, 24, 24,...    0.071889\n",
       "35  scc_020  [0, 24, 24, 24, 24, 24, 24, 24, 24, 0, 24, 24,...    0.075844\n",
       "36  scc_020  [33, 28, 28, 28, 28, 28, 28, 28, 28, 33, 28, 2...    0.071622\n",
       "37  scc_020  [35, 25, 25, 25, 25, 25, 25, 25, 25, 35, 25, 2...    0.068721\n",
       "38  scc_020  [35, 28, 28, 28, 28, 28, 28, 28, 28, 35, 28, 2...    0.070929\n",
       "39  scc_020  [29, 26, 26, 26, 26, 26, 26, 26, 26, 29, 26, 2...    0.054226\n",
       "40  scc_020  [0, 26, 26, 26, 26, 26, 26, 26, 26, 0, 26, 26,...    0.071269\n",
       "41  scc_020  [26, 21, 21, 21, 21, 21, 21, 21, 21, 26, 21, 2...    0.049811\n",
       "42  scc_020  [41, 28, 28, 28, 28, 28, 28, 28, 28, 41, 28, 2...    0.050772\n",
       "43  scc_020  [0, 23, 23, 23, 23, 23, 23, 23, 23, 0, 23, 23,...    0.041436\n",
       "44  scc_020  [31, 18, 18, 18, 18, 18, 18, 18, 18, 31, 18, 1...    0.049140\n",
       "45  scc_020  [37, 25, 25, 25, 25, 25, 25, 25, 25, 37, 25, 2...    0.054200\n",
       "46  scc_020  [33, 31, 31, 31, 31, 31, 31, 31, 31, 33, 31, 3...    0.064938\n",
       "47  scc_020  [34, 28, 28, 28, 28, 28, 28, 28, 28, 34, 28, 2...    0.046735\n",
       "48  scc_020  [34, 27, 27, 27, 27, 27, 27, 27, 27, 34, 27, 2...    0.046826\n",
       "49  scc_020  [41, 29, 29, 29, 29, 29, 29, 29, 29, 41, 29, 2...    0.044596\n",
       "50  scc_020  [46, 33, 33, 33, 33, 33, 33, 33, 33, 46, 33, 3...    0.037696\n",
       "51  scc_020  [34, 28, 28, 28, 28, 28, 28, 28, 28, 34, 28, 2...    0.039922\n",
       "52  scc_020  [43, 25, 25, 25, 25, 25, 25, 25, 25, 43, 25, 2...    0.039877\n",
       "53  scc_020  [48, 23, 23, 23, 23, 23, 23, 23, 23, 48, 23, 2...    0.038601\n",
       "54  scc_020  [38, 35, 35, 35, 35, 35, 35, 35, 35, 38, 35, 3...    0.045948\n",
       "55  scc_020  [0, 29, 29, 29, 29, 29, 29, 29, 29, 0, 29, 29,...    0.045492\n",
       "56  scc_020  [53, 30, 30, 30, 30, 30, 30, 30, 30, 53, 30, 3...    0.052920\n",
       "57  scc_020  [49, 40, 40, 40, 40, 40, 40, 40, 40, 49, 40, 4...    0.037393\n",
       "58  scc_020  [55, 29, 29, 29, 29, 29, 29, 29, 29, 55, 29, 2...    0.049760\n",
       "59  scc_020  [52, 29, 29, 29, 29, 29, 29, 29, 29, 52, 29, 2...    0.033275\n",
       "60  scc_020  [53, 24, 24, 24, 24, 24, 24, 24, 24, 53, 24, 2...    0.040134"
      ]
     },
     "execution_count": 26,
     "metadata": {},
     "output_type": "execute_result"
    }
   ],
   "source": [
    "best_parts.sort_values(\"k\")"
   ]
  },
  {
   "cell_type": "markdown",
   "metadata": {
    "papermill": {
     "duration": 0.024026,
     "end_time": "2021-05-09T05:25:27.203856",
     "exception": false,
     "start_time": "2021-05-09T05:25:27.179830",
     "status": "completed"
    },
    "tags": []
   },
   "source": [
    "## Select partitions with highest agreement"
   ]
  },
  {
   "cell_type": "markdown",
   "metadata": {
    "papermill": {
     "duration": 0.024284,
     "end_time": "2021-05-09T05:25:27.252240",
     "exception": false,
     "start_time": "2021-05-09T05:25:27.227956",
     "status": "completed"
    },
    "tags": []
   },
   "source": [
    "We do not expect all partitions with different `k` to be good ones. Thus, here I select the partitions with an ensemble agreement that pass a relative high threshold (75th percentile)."
   ]
  },
  {
   "cell_type": "code",
   "execution_count": 27,
   "metadata": {
    "execution": {
     "iopub.execute_input": "2021-05-09T05:25:27.303577Z",
     "iopub.status.busy": "2021-05-09T05:25:27.303210Z",
     "iopub.status.idle": "2021-05-09T05:25:27.315358Z",
     "shell.execute_reply": "2021-05-09T05:25:27.314988Z"
    },
    "papermill": {
     "duration": 0.038998,
     "end_time": "2021-05-09T05:25:27.315444",
     "exception": false,
     "start_time": "2021-05-09T05:25:27.276446",
     "status": "completed"
    },
    "tags": []
   },
   "outputs": [
    {
     "data": {
      "text/plain": [
       "count    59.000000\n",
       "mean      0.066246\n",
       "std       0.018264\n",
       "min       0.033275\n",
       "25%       0.049785\n",
       "50%       0.067316\n",
       "75%       0.086079\n",
       "max       0.090117\n",
       "Name: ari_median, dtype: float64"
      ]
     },
     "metadata": {},
     "output_type": "display_data"
    }
   ],
   "source": [
    "best_parts_stats = best_parts[_measure_col].describe()\n",
    "display(best_parts_stats)"
   ]
  },
  {
   "cell_type": "code",
   "execution_count": 28,
   "metadata": {
    "execution": {
     "iopub.execute_input": "2021-05-09T05:25:27.369066Z",
     "iopub.status.busy": "2021-05-09T05:25:27.368636Z",
     "iopub.status.idle": "2021-05-09T05:25:27.379912Z",
     "shell.execute_reply": "2021-05-09T05:25:27.379540Z"
    },
    "papermill": {
     "duration": 0.039635,
     "end_time": "2021-05-09T05:25:27.379997",
     "exception": false,
     "start_time": "2021-05-09T05:25:27.340362",
     "status": "completed"
    },
    "tags": []
   },
   "outputs": [
    {
     "data": {
      "text/plain": [
       "0.08607907160043715"
      ]
     },
     "metadata": {},
     "output_type": "display_data"
    }
   ],
   "source": [
    "best_threshold = best_parts_stats[\"75%\"]\n",
    "best_threshold_description = \"75th percentile\"\n",
    "display(best_threshold)\n",
    "\n",
    "best_parts = best_parts.assign(\n",
    "    selected=best_parts[_measure_col].apply(lambda x: x >= best_threshold)\n",
    ")"
   ]
  },
  {
   "cell_type": "code",
   "execution_count": 29,
   "metadata": {
    "execution": {
     "iopub.execute_input": "2021-05-09T05:25:27.434244Z",
     "iopub.status.busy": "2021-05-09T05:25:27.433888Z",
     "iopub.status.idle": "2021-05-09T05:25:27.444186Z",
     "shell.execute_reply": "2021-05-09T05:25:27.443819Z"
    },
    "papermill": {
     "duration": 0.037756,
     "end_time": "2021-05-09T05:25:27.444271",
     "exception": false,
     "start_time": "2021-05-09T05:25:27.406515",
     "status": "completed"
    },
    "tags": []
   },
   "outputs": [
    {
     "data": {
      "text/plain": [
       "(59, 4)"
      ]
     },
     "execution_count": 29,
     "metadata": {},
     "output_type": "execute_result"
    }
   ],
   "source": [
    "best_parts.shape"
   ]
  },
  {
   "cell_type": "code",
   "execution_count": 30,
   "metadata": {
    "execution": {
     "iopub.execute_input": "2021-05-09T05:25:27.503694Z",
     "iopub.status.busy": "2021-05-09T05:25:27.503304Z",
     "iopub.status.idle": "2021-05-09T05:25:27.522625Z",
     "shell.execute_reply": "2021-05-09T05:25:27.522219Z"
    },
    "papermill": {
     "duration": 0.051141,
     "end_time": "2021-05-09T05:25:27.522718",
     "exception": false,
     "start_time": "2021-05-09T05:25:27.471577",
     "status": "completed"
    },
    "tags": []
   },
   "outputs": [
    {
     "data": {
      "text/html": [
       "<div>\n",
       "<style scoped>\n",
       "    .dataframe tbody tr th:only-of-type {\n",
       "        vertical-align: middle;\n",
       "    }\n",
       "\n",
       "    .dataframe tbody tr th {\n",
       "        vertical-align: top;\n",
       "    }\n",
       "\n",
       "    .dataframe thead th {\n",
       "        text-align: right;\n",
       "    }\n",
       "</style>\n",
       "<table border=\"1\" class=\"dataframe\">\n",
       "  <thead>\n",
       "    <tr style=\"text-align: right;\">\n",
       "      <th></th>\n",
       "      <th>method</th>\n",
       "      <th>partition</th>\n",
       "      <th>ari_median</th>\n",
       "      <th>selected</th>\n",
       "    </tr>\n",
       "    <tr>\n",
       "      <th>k</th>\n",
       "      <th></th>\n",
       "      <th></th>\n",
       "      <th></th>\n",
       "      <th></th>\n",
       "    </tr>\n",
       "  </thead>\n",
       "  <tbody>\n",
       "    <tr>\n",
       "      <th>14</th>\n",
       "      <td>scc_025</td>\n",
       "      <td>[0, 0, 0, 0, 0, 0, 0, 0, 0, 0, 0, 0, 0, 0, 0, ...</td>\n",
       "      <td>0.090117</td>\n",
       "      <td>True</td>\n",
       "    </tr>\n",
       "    <tr>\n",
       "      <th>22</th>\n",
       "      <td>scc_020</td>\n",
       "      <td>[13, 18, 18, 18, 18, 18, 18, 18, 18, 13, 18, 1...</td>\n",
       "      <td>0.090100</td>\n",
       "      <td>True</td>\n",
       "    </tr>\n",
       "    <tr>\n",
       "      <th>13</th>\n",
       "      <td>scc_025</td>\n",
       "      <td>[0, 0, 0, 0, 0, 0, 0, 0, 0, 0, 0, 0, 0, 0, 0, ...</td>\n",
       "      <td>0.089920</td>\n",
       "      <td>True</td>\n",
       "    </tr>\n",
       "    <tr>\n",
       "      <th>12</th>\n",
       "      <td>scc_025</td>\n",
       "      <td>[0, 0, 0, 0, 0, 0, 0, 0, 0, 0, 0, 0, 0, 0, 0, ...</td>\n",
       "      <td>0.089894</td>\n",
       "      <td>True</td>\n",
       "    </tr>\n",
       "    <tr>\n",
       "      <th>11</th>\n",
       "      <td>scc_025</td>\n",
       "      <td>[0, 0, 0, 0, 0, 0, 0, 0, 0, 0, 0, 0, 0, 0, 0, ...</td>\n",
       "      <td>0.089616</td>\n",
       "      <td>True</td>\n",
       "    </tr>\n",
       "  </tbody>\n",
       "</table>\n",
       "</div>"
      ],
      "text/plain": [
       "     method                                          partition  ari_median  \\\n",
       "k                                                                            \n",
       "14  scc_025  [0, 0, 0, 0, 0, 0, 0, 0, 0, 0, 0, 0, 0, 0, 0, ...    0.090117   \n",
       "22  scc_020  [13, 18, 18, 18, 18, 18, 18, 18, 18, 13, 18, 1...    0.090100   \n",
       "13  scc_025  [0, 0, 0, 0, 0, 0, 0, 0, 0, 0, 0, 0, 0, 0, 0, ...    0.089920   \n",
       "12  scc_025  [0, 0, 0, 0, 0, 0, 0, 0, 0, 0, 0, 0, 0, 0, 0, ...    0.089894   \n",
       "11  scc_025  [0, 0, 0, 0, 0, 0, 0, 0, 0, 0, 0, 0, 0, 0, 0, ...    0.089616   \n",
       "\n",
       "    selected  \n",
       "k             \n",
       "14      True  \n",
       "22      True  \n",
       "13      True  \n",
       "12      True  \n",
       "11      True  "
      ]
     },
     "execution_count": 30,
     "metadata": {},
     "output_type": "execute_result"
    }
   ],
   "source": [
    "best_parts.head()"
   ]
  },
  {
   "cell_type": "markdown",
   "metadata": {
    "papermill": {
     "duration": 0.024716,
     "end_time": "2021-05-09T05:25:27.574165",
     "exception": false,
     "start_time": "2021-05-09T05:25:27.549449",
     "status": "completed"
    },
    "tags": []
   },
   "source": [
    "## Save best partitions per k"
   ]
  },
  {
   "cell_type": "code",
   "execution_count": 31,
   "metadata": {
    "execution": {
     "iopub.execute_input": "2021-05-09T05:25:27.627545Z",
     "iopub.status.busy": "2021-05-09T05:25:27.627187Z",
     "iopub.status.idle": "2021-05-09T05:25:27.637437Z",
     "shell.execute_reply": "2021-05-09T05:25:27.637074Z"
    },
    "papermill": {
     "duration": 0.037771,
     "end_time": "2021-05-09T05:25:27.637518",
     "exception": false,
     "start_time": "2021-05-09T05:25:27.599747",
     "status": "completed"
    },
    "tags": []
   },
   "outputs": [
    {
     "data": {
      "text/plain": [
       "PosixPath('/home/miltondp/projects/labs/greenelab/phenoplier/base/results/clustering/consensus_clustering/best_partitions_by_k.pkl')"
      ]
     },
     "metadata": {},
     "output_type": "display_data"
    }
   ],
   "source": [
    "output_file = Path(CONSENSUS_CLUSTERING_DIR, \"best_partitions_by_k.pkl\").resolve()\n",
    "display(output_file)"
   ]
  },
  {
   "cell_type": "code",
   "execution_count": 32,
   "metadata": {
    "execution": {
     "iopub.execute_input": "2021-05-09T05:25:27.691133Z",
     "iopub.status.busy": "2021-05-09T05:25:27.690774Z",
     "iopub.status.idle": "2021-05-09T05:25:27.701477Z",
     "shell.execute_reply": "2021-05-09T05:25:27.701090Z"
    },
    "papermill": {
     "duration": 0.038658,
     "end_time": "2021-05-09T05:25:27.701564",
     "exception": false,
     "start_time": "2021-05-09T05:25:27.662906",
     "status": "completed"
    },
    "tags": []
   },
   "outputs": [],
   "source": [
    "best_parts.to_pickle(output_file)"
   ]
  },
  {
   "cell_type": "markdown",
   "metadata": {
    "papermill": {
     "duration": 0.025743,
     "end_time": "2021-05-09T05:25:27.754382",
     "exception": false,
     "start_time": "2021-05-09T05:25:27.728639",
     "status": "completed"
    },
    "tags": []
   },
   "source": [
    "# Plot of selected best partitions"
   ]
  },
  {
   "cell_type": "code",
   "execution_count": 33,
   "metadata": {
    "execution": {
     "iopub.execute_input": "2021-05-09T05:25:27.832350Z",
     "iopub.status.busy": "2021-05-09T05:25:27.831957Z",
     "iopub.status.idle": "2021-05-09T05:25:27.850954Z",
     "shell.execute_reply": "2021-05-09T05:25:27.851249Z"
    },
    "papermill": {
     "duration": 0.052325,
     "end_time": "2021-05-09T05:25:27.851360",
     "exception": false,
     "start_time": "2021-05-09T05:25:27.799035",
     "status": "completed"
    },
    "tags": []
   },
   "outputs": [
    {
     "data": {
      "text/html": [
       "<div>\n",
       "<style scoped>\n",
       "    .dataframe tbody tr th:only-of-type {\n",
       "        vertical-align: middle;\n",
       "    }\n",
       "\n",
       "    .dataframe tbody tr th {\n",
       "        vertical-align: top;\n",
       "    }\n",
       "\n",
       "    .dataframe thead th {\n",
       "        text-align: right;\n",
       "    }\n",
       "</style>\n",
       "<table border=\"1\" class=\"dataframe\">\n",
       "  <thead>\n",
       "    <tr style=\"text-align: right;\">\n",
       "      <th></th>\n",
       "      <th>k</th>\n",
       "      <th>method</th>\n",
       "      <th>partition</th>\n",
       "      <th>ari_median</th>\n",
       "      <th>selected</th>\n",
       "    </tr>\n",
       "  </thead>\n",
       "  <tbody>\n",
       "    <tr>\n",
       "      <th>0</th>\n",
       "      <td>14</td>\n",
       "      <td>scc_025</td>\n",
       "      <td>[0, 0, 0, 0, 0, 0, 0, 0, 0, 0, 0, 0, 0, 0, 0, ...</td>\n",
       "      <td>0.090117</td>\n",
       "      <td>True</td>\n",
       "    </tr>\n",
       "    <tr>\n",
       "      <th>1</th>\n",
       "      <td>22</td>\n",
       "      <td>scc_020</td>\n",
       "      <td>[13, 18, 18, 18, 18, 18, 18, 18, 18, 13, 18, 1...</td>\n",
       "      <td>0.090100</td>\n",
       "      <td>True</td>\n",
       "    </tr>\n",
       "    <tr>\n",
       "      <th>2</th>\n",
       "      <td>13</td>\n",
       "      <td>scc_025</td>\n",
       "      <td>[0, 0, 0, 0, 0, 0, 0, 0, 0, 0, 0, 0, 0, 0, 0, ...</td>\n",
       "      <td>0.089920</td>\n",
       "      <td>True</td>\n",
       "    </tr>\n",
       "    <tr>\n",
       "      <th>3</th>\n",
       "      <td>12</td>\n",
       "      <td>scc_025</td>\n",
       "      <td>[0, 0, 0, 0, 0, 0, 0, 0, 0, 0, 0, 0, 0, 0, 0, ...</td>\n",
       "      <td>0.089894</td>\n",
       "      <td>True</td>\n",
       "    </tr>\n",
       "    <tr>\n",
       "      <th>4</th>\n",
       "      <td>11</td>\n",
       "      <td>scc_025</td>\n",
       "      <td>[0, 0, 0, 0, 0, 0, 0, 0, 0, 0, 0, 0, 0, 0, 0, ...</td>\n",
       "      <td>0.089616</td>\n",
       "      <td>True</td>\n",
       "    </tr>\n",
       "  </tbody>\n",
       "</table>\n",
       "</div>"
      ],
      "text/plain": [
       "    k   method                                          partition  ari_median  \\\n",
       "0  14  scc_025  [0, 0, 0, 0, 0, 0, 0, 0, 0, 0, 0, 0, 0, 0, 0, ...    0.090117   \n",
       "1  22  scc_020  [13, 18, 18, 18, 18, 18, 18, 18, 18, 13, 18, 1...    0.090100   \n",
       "2  13  scc_025  [0, 0, 0, 0, 0, 0, 0, 0, 0, 0, 0, 0, 0, 0, 0, ...    0.089920   \n",
       "3  12  scc_025  [0, 0, 0, 0, 0, 0, 0, 0, 0, 0, 0, 0, 0, 0, 0, ...    0.089894   \n",
       "4  11  scc_025  [0, 0, 0, 0, 0, 0, 0, 0, 0, 0, 0, 0, 0, 0, 0, ...    0.089616   \n",
       "\n",
       "   selected  \n",
       "0      True  \n",
       "1      True  \n",
       "2      True  \n",
       "3      True  \n",
       "4      True  "
      ]
     },
     "metadata": {},
     "output_type": "display_data"
    }
   ],
   "source": [
    "plot_data = best_parts.reset_index()\n",
    "display(plot_data.head(5))"
   ]
  },
  {
   "cell_type": "code",
   "execution_count": 34,
   "metadata": {
    "execution": {
     "iopub.execute_input": "2021-05-09T05:25:27.909717Z",
     "iopub.status.busy": "2021-05-09T05:25:27.909346Z",
     "iopub.status.idle": "2021-05-09T05:25:29.527316Z",
     "shell.execute_reply": "2021-05-09T05:25:29.526955Z"
    },
    "papermill": {
     "duration": 1.647541,
     "end_time": "2021-05-09T05:25:29.527397",
     "exception": false,
     "start_time": "2021-05-09T05:25:27.879856",
     "status": "completed"
    },
    "tags": []
   },
   "outputs": [
    {
     "data": {
      "image/png": "[encoded data removed]",
      "text/plain": [
       "<Figure size 864x432 with 1 Axes>"
      ]
     },
     "metadata": {},
     "output_type": "display_data"
    }
   ],
   "source": [
    "with sns.plotting_context(\"talk\", font_scale=0.75), sns.axes_style(\n",
    "    \"whitegrid\", {\"grid.linestyle\": \"--\"}\n",
    "), sns.color_palette(\"muted\"):\n",
    "    current_palette = iter(sns.color_palette())\n",
    "\n",
    "    fig, ax = plt.subplots(figsize=(12, 6))\n",
    "    ax = sns.pointplot(\n",
    "        data=plot_data, x=\"k\", y=_measure_col, color=next(current_palette)\n",
    "    )\n",
    "    ax.axhline(\n",
    "        best_threshold,\n",
    "        ls=\"--\",\n",
    "        color=next(current_palette),\n",
    "        label=best_threshold_description,\n",
    "    )\n",
    "    ax.set_ylabel(f\"Agreement with ensemble\\n({_selected_stat} {_selected_measure})\")\n",
    "    ax.set_xlabel(\"Number of clusters ($k$)\")\n",
    "    ax.set_xticklabels(ax.get_xticklabels(), rotation=45)\n",
    "    plt.legend()\n",
    "    plt.grid(True)\n",
    "    plt.tight_layout()"
   ]
  },
  {
   "cell_type": "markdown",
   "metadata": {
    "papermill": {
     "duration": 0.027617,
     "end_time": "2021-05-09T05:25:29.583312",
     "exception": false,
     "start_time": "2021-05-09T05:25:29.555695",
     "status": "completed"
    },
    "tags": []
   },
   "source": [
    "The horizontal line in the plot is the median of the average agreement value; partitions above that line are marked as selected for downstream analysis"
   ]
  },
  {
   "cell_type": "code",
   "execution_count": 35,
   "metadata": {
    "execution": {
     "iopub.execute_input": "2021-05-09T05:25:29.641582Z",
     "iopub.status.busy": "2021-05-09T05:25:29.641190Z",
     "iopub.status.idle": "2021-05-09T05:25:29.669510Z",
     "shell.execute_reply": "2021-05-09T05:25:29.669126Z"
    },
    "papermill": {
     "duration": 0.058356,
     "end_time": "2021-05-09T05:25:29.669596",
     "exception": false,
     "start_time": "2021-05-09T05:25:29.611240",
     "status": "completed"
    },
    "tags": []
   },
   "outputs": [
    {
     "data": {
      "text/html": [
       "<div>\n",
       "<style scoped>\n",
       "    .dataframe tbody tr th:only-of-type {\n",
       "        vertical-align: middle;\n",
       "    }\n",
       "\n",
       "    .dataframe tbody tr th {\n",
       "        vertical-align: top;\n",
       "    }\n",
       "\n",
       "    .dataframe thead th {\n",
       "        text-align: right;\n",
       "    }\n",
       "</style>\n",
       "<table border=\"1\" class=\"dataframe\">\n",
       "  <thead>\n",
       "    <tr style=\"text-align: right;\">\n",
       "      <th></th>\n",
       "      <th>k</th>\n",
       "      <th>method</th>\n",
       "      <th>partition</th>\n",
       "      <th>ari_median</th>\n",
       "      <th>selected</th>\n",
       "    </tr>\n",
       "  </thead>\n",
       "  <tbody>\n",
       "    <tr>\n",
       "      <th>11</th>\n",
       "      <td>5</td>\n",
       "      <td>scc_030</td>\n",
       "      <td>[0, 0, 0, 0, 0, 0, 0, 0, 4, 0, 4, 4, 0, 0, 0, ...</td>\n",
       "      <td>0.087086</td>\n",
       "      <td>True</td>\n",
       "    </tr>\n",
       "    <tr>\n",
       "      <th>10</th>\n",
       "      <td>6</td>\n",
       "      <td>scc_030</td>\n",
       "      <td>[5, 5, 5, 5, 5, 5, 5, 5, 0, 5, 0, 0, 5, 0, 5, ...</td>\n",
       "      <td>0.088032</td>\n",
       "      <td>True</td>\n",
       "    </tr>\n",
       "    <tr>\n",
       "      <th>9</th>\n",
       "      <td>7</td>\n",
       "      <td>scc_025</td>\n",
       "      <td>[0, 0, 0, 0, 0, 0, 0, 0, 0, 0, 0, 0, 0, 0, 0, ...</td>\n",
       "      <td>0.088480</td>\n",
       "      <td>True</td>\n",
       "    </tr>\n",
       "    <tr>\n",
       "      <th>6</th>\n",
       "      <td>8</td>\n",
       "      <td>scc_025</td>\n",
       "      <td>[0, 0, 0, 0, 0, 0, 0, 0, 0, 0, 0, 0, 0, 0, 0, ...</td>\n",
       "      <td>0.088678</td>\n",
       "      <td>True</td>\n",
       "    </tr>\n",
       "    <tr>\n",
       "      <th>8</th>\n",
       "      <td>9</td>\n",
       "      <td>scc_025</td>\n",
       "      <td>[8, 8, 8, 8, 8, 8, 8, 8, 8, 8, 8, 8, 8, 8, 8, ...</td>\n",
       "      <td>0.088639</td>\n",
       "      <td>True</td>\n",
       "    </tr>\n",
       "    <tr>\n",
       "      <th>4</th>\n",
       "      <td>11</td>\n",
       "      <td>scc_025</td>\n",
       "      <td>[0, 0, 0, 0, 0, 0, 0, 0, 0, 0, 0, 0, 0, 0, 0, ...</td>\n",
       "      <td>0.089616</td>\n",
       "      <td>True</td>\n",
       "    </tr>\n",
       "    <tr>\n",
       "      <th>3</th>\n",
       "      <td>12</td>\n",
       "      <td>scc_025</td>\n",
       "      <td>[0, 0, 0, 0, 0, 0, 0, 0, 0, 0, 0, 0, 0, 0, 0, ...</td>\n",
       "      <td>0.089894</td>\n",
       "      <td>True</td>\n",
       "    </tr>\n",
       "    <tr>\n",
       "      <th>2</th>\n",
       "      <td>13</td>\n",
       "      <td>scc_025</td>\n",
       "      <td>[0, 0, 0, 0, 0, 0, 0, 0, 0, 0, 0, 0, 0, 0, 0, ...</td>\n",
       "      <td>0.089920</td>\n",
       "      <td>True</td>\n",
       "    </tr>\n",
       "    <tr>\n",
       "      <th>0</th>\n",
       "      <td>14</td>\n",
       "      <td>scc_025</td>\n",
       "      <td>[0, 0, 0, 0, 0, 0, 0, 0, 0, 0, 0, 0, 0, 0, 0, ...</td>\n",
       "      <td>0.090117</td>\n",
       "      <td>True</td>\n",
       "    </tr>\n",
       "    <tr>\n",
       "      <th>5</th>\n",
       "      <td>15</td>\n",
       "      <td>scc_025</td>\n",
       "      <td>[0, 0, 0, 0, 0, 0, 0, 0, 0, 0, 0, 0, 0, 0, 0, ...</td>\n",
       "      <td>0.089346</td>\n",
       "      <td>True</td>\n",
       "    </tr>\n",
       "    <tr>\n",
       "      <th>7</th>\n",
       "      <td>16</td>\n",
       "      <td>scc_025</td>\n",
       "      <td>[0, 0, 0, 0, 0, 0, 0, 0, 0, 0, 0, 0, 0, 0, 0, ...</td>\n",
       "      <td>0.088662</td>\n",
       "      <td>True</td>\n",
       "    </tr>\n",
       "    <tr>\n",
       "      <th>1</th>\n",
       "      <td>22</td>\n",
       "      <td>scc_020</td>\n",
       "      <td>[13, 18, 18, 18, 18, 18, 18, 18, 18, 13, 18, 1...</td>\n",
       "      <td>0.090100</td>\n",
       "      <td>True</td>\n",
       "    </tr>\n",
       "    <tr>\n",
       "      <th>12</th>\n",
       "      <td>25</td>\n",
       "      <td>scc_020</td>\n",
       "      <td>[0, 21, 21, 21, 21, 21, 21, 21, 21, 0, 21, 21,...</td>\n",
       "      <td>0.087029</td>\n",
       "      <td>True</td>\n",
       "    </tr>\n",
       "    <tr>\n",
       "      <th>13</th>\n",
       "      <td>26</td>\n",
       "      <td>scc_020</td>\n",
       "      <td>[0, 21, 21, 21, 21, 21, 21, 21, 21, 0, 21, 21,...</td>\n",
       "      <td>0.086943</td>\n",
       "      <td>True</td>\n",
       "    </tr>\n",
       "    <tr>\n",
       "      <th>14</th>\n",
       "      <td>29</td>\n",
       "      <td>scc_020</td>\n",
       "      <td>[0, 22, 22, 22, 22, 22, 22, 22, 22, 0, 22, 22,...</td>\n",
       "      <td>0.086230</td>\n",
       "      <td>True</td>\n",
       "    </tr>\n",
       "  </tbody>\n",
       "</table>\n",
       "</div>"
      ],
      "text/plain": [
       "     k   method                                          partition  \\\n",
       "11   5  scc_030  [0, 0, 0, 0, 0, 0, 0, 0, 4, 0, 4, 4, 0, 0, 0, ...   \n",
       "10   6  scc_030  [5, 5, 5, 5, 5, 5, 5, 5, 0, 5, 0, 0, 5, 0, 5, ...   \n",
       "9    7  scc_025  [0, 0, 0, 0, 0, 0, 0, 0, 0, 0, 0, 0, 0, 0, 0, ...   \n",
       "6    8  scc_025  [0, 0, 0, 0, 0, 0, 0, 0, 0, 0, 0, 0, 0, 0, 0, ...   \n",
       "8    9  scc_025  [8, 8, 8, 8, 8, 8, 8, 8, 8, 8, 8, 8, 8, 8, 8, ...   \n",
       "4   11  scc_025  [0, 0, 0, 0, 0, 0, 0, 0, 0, 0, 0, 0, 0, 0, 0, ...   \n",
       "3   12  scc_025  [0, 0, 0, 0, 0, 0, 0, 0, 0, 0, 0, 0, 0, 0, 0, ...   \n",
       "2   13  scc_025  [0, 0, 0, 0, 0, 0, 0, 0, 0, 0, 0, 0, 0, 0, 0, ...   \n",
       "0   14  scc_025  [0, 0, 0, 0, 0, 0, 0, 0, 0, 0, 0, 0, 0, 0, 0, ...   \n",
       "5   15  scc_025  [0, 0, 0, 0, 0, 0, 0, 0, 0, 0, 0, 0, 0, 0, 0, ...   \n",
       "7   16  scc_025  [0, 0, 0, 0, 0, 0, 0, 0, 0, 0, 0, 0, 0, 0, 0, ...   \n",
       "1   22  scc_020  [13, 18, 18, 18, 18, 18, 18, 18, 18, 13, 18, 1...   \n",
       "12  25  scc_020  [0, 21, 21, 21, 21, 21, 21, 21, 21, 0, 21, 21,...   \n",
       "13  26  scc_020  [0, 21, 21, 21, 21, 21, 21, 21, 21, 0, 21, 21,...   \n",
       "14  29  scc_020  [0, 22, 22, 22, 22, 22, 22, 22, 22, 0, 22, 22,...   \n",
       "\n",
       "    ari_median  selected  \n",
       "11    0.087086      True  \n",
       "10    0.088032      True  \n",
       "9     0.088480      True  \n",
       "6     0.088678      True  \n",
       "8     0.088639      True  \n",
       "4     0.089616      True  \n",
       "3     0.089894      True  \n",
       "2     0.089920      True  \n",
       "0     0.090117      True  \n",
       "5     0.089346      True  \n",
       "7     0.088662      True  \n",
       "1     0.090100      True  \n",
       "12    0.087029      True  \n",
       "13    0.086943      True  \n",
       "14    0.086230      True  "
      ]
     },
     "execution_count": 35,
     "metadata": {},
     "output_type": "execute_result"
    }
   ],
   "source": [
    "# this list shows the selected final partitions, and which methods achieved the highest agreement\n",
    "plot_data[plot_data[\"selected\"]].sort_values(\"k\")"
   ]
  },
  {
   "cell_type": "markdown",
   "metadata": {
    "papermill": {
     "duration": 0.02853,
     "end_time": "2021-05-09T05:25:29.728616",
     "exception": false,
     "start_time": "2021-05-09T05:25:29.700086",
     "status": "completed"
    },
    "tags": []
   },
   "source": [
    "From the two evidence accumulation approaches (EAC) we are using, the spectral clustering based one does it better for almost all `k` values, whereas the hierarchical clustering based approach seems to do a little bit better for lower `k`."
   ]
  },
  {
   "cell_type": "code",
   "execution_count": null,
   "metadata": {
    "papermill": {
     "duration": 0.028188,
     "end_time": "2021-05-09T05:25:29.784797",
     "exception": false,
     "start_time": "2021-05-09T05:25:29.756609",
     "status": "completed"
    },
    "tags": []
   },
   "outputs": [],
   "source": []
  }
 ],
 "metadata": {
  "jupytext": {
   "cell_metadata_filter": "all,-execution,-papermill,-trusted",
   "formats": "ipynb,py//py:percent"
  },
  "kernelspec": {
   "display_name": "Python 3 (ipykernel)",
   "language": "python",
   "name": "python3"
  },
  "language_info": {
   "codemirror_mode": {
    "name": "ipython",
    "version": 3
   },
   "file_extension": ".py",
   "mimetype": "text/x-python",
   "name": "python",
   "nbconvert_exporter": "python",
   "pygments_lexer": "ipython3",
   "version": "3.8.13"
  },
  "papermill": {
   "default_parameters": {},
   "duration": 11.207642,
   "end_time": "2021-05-09T05:25:31.014094",
   "environment_variables": {},
   "exception": null,
   "input_path": "16_consensus_clustering/030_01-get_best_partitions.ipynb",
   "output_path": "16_consensus_clustering/030_01-get_best_partitions.run.ipynb",
   "parameters": {},
   "start_time": "2021-05-09T05:25:19.806452",
   "version": "2.2.2"
  },
  "toc-autonumbering": true,
  "toc-showcode": false,
  "toc-showmarkdowntxt": false,
  "toc-showtags": false
 },
 "nbformat": 4,
 "nbformat_minor": 4
}
