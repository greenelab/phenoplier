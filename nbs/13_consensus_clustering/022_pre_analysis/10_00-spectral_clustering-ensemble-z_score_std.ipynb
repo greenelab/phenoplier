{
 "cells": [
  {
   "cell_type": "markdown",
   "metadata": {
    "papermill": {
     "duration": 0.071299,
     "end_time": "2021-03-11T02:34:11.969108",
     "exception": false,
     "start_time": "2021-03-11T02:34:11.897809",
     "status": "completed"
    },
    "tags": []
   },
   "source": [
    "# Description"
   ]
  },
  {
   "cell_type": "markdown",
   "metadata": {
    "papermill": {
     "duration": 0.033367,
     "end_time": "2021-03-11T02:34:12.036778",
     "exception": false,
     "start_time": "2021-03-11T02:34:12.003411",
     "status": "completed"
    },
    "tags": []
   },
   "source": [
    "This notebook evaluates how a spectral clustering method performs as a consensus function. It takes the coassociation matrix, applies several `delta` values to transform it, and computes different clustering quality measures to assess performance. An optimal `delta` value is chosen, and will be used to perform the full analysis later.\n",
    "\n",
    "This notebook loads the `z_score_std` data version to compute two of the clustering quality measures (Calinski-Harabasz and Davies-Bouldin). The Silhouette score is computed on the ensemble distance matrix (coassociation matrix), so it is not affected by the data loaded. There are other two notebooks that perform exactly the same steps here but using the `pca` and `umap` data versions to compute the quality measures."
   ]
  },
  {
   "cell_type": "markdown",
   "metadata": {
    "papermill": {
     "duration": 0.033632,
     "end_time": "2021-03-11T02:34:12.103837",
     "exception": false,
     "start_time": "2021-03-11T02:34:12.070205",
     "status": "completed"
    },
    "tags": []
   },
   "source": [
    "# Environment variables"
   ]
  },
  {
   "cell_type": "code",
   "execution_count": 1,
   "metadata": {
    "execution": {
     "iopub.execute_input": "2021-03-11T02:34:12.177769Z",
     "iopub.status.busy": "2021-03-11T02:34:12.177388Z",
     "iopub.status.idle": "2021-03-11T02:34:12.188155Z",
     "shell.execute_reply": "2021-03-11T02:34:12.187724Z"
    },
    "papermill": {
     "duration": 0.050096,
     "end_time": "2021-03-11T02:34:12.188249",
     "exception": false,
     "start_time": "2021-03-11T02:34:12.138153",
     "status": "completed"
    },
    "tags": []
   },
   "outputs": [
    {
     "data": {
      "text/plain": [
       "3"
      ]
     },
     "metadata": {},
     "output_type": "display_data"
    }
   ],
   "source": [
    "from IPython.display import display\n",
    "\n",
    "import conf\n",
    "\n",
    "N_JOBS = conf.GENERAL[\"N_JOBS\"]\n",
    "display(N_JOBS)"
   ]
  },
  {
   "cell_type": "code",
   "execution_count": 2,
   "metadata": {
    "execution": {
     "iopub.execute_input": "2021-03-11T02:34:12.262518Z",
     "iopub.status.busy": "2021-03-11T02:34:12.262130Z",
     "iopub.status.idle": "2021-03-11T02:34:12.264631Z",
     "shell.execute_reply": "2021-03-11T02:34:12.264260Z"
    },
    "papermill": {
     "duration": 0.041611,
     "end_time": "2021-03-11T02:34:12.264755",
     "exception": false,
     "start_time": "2021-03-11T02:34:12.223144",
     "status": "completed"
    },
    "tags": []
   },
   "outputs": [
    {
     "name": "stdout",
     "output_type": "stream",
     "text": [
      "env: MKL_NUM_THREADS=3\n",
      "env: OPEN_BLAS_NUM_THREADS=3\n",
      "env: NUMEXPR_NUM_THREADS=3\n",
      "env: OMP_NUM_THREADS=3\n"
     ]
    }
   ],
   "source": [
    "%env MKL_NUM_THREADS=$N_JOBS\n",
    "%env OPEN_BLAS_NUM_THREADS=$N_JOBS\n",
    "%env NUMEXPR_NUM_THREADS=$N_JOBS\n",
    "%env OMP_NUM_THREADS=$N_JOBS"
   ]
  },
  {
   "cell_type": "markdown",
   "metadata": {
    "papermill": {
     "duration": 0.033709,
     "end_time": "2021-03-11T02:34:12.332701",
     "exception": false,
     "start_time": "2021-03-11T02:34:12.298992",
     "status": "completed"
    },
    "tags": []
   },
   "source": [
    "# Modules loading"
   ]
  },
  {
   "cell_type": "code",
   "execution_count": 3,
   "metadata": {
    "execution": {
     "iopub.execute_input": "2021-03-11T02:34:12.403828Z",
     "iopub.status.busy": "2021-03-11T02:34:12.403462Z",
     "iopub.status.idle": "2021-03-11T02:34:12.410897Z",
     "shell.execute_reply": "2021-03-11T02:34:12.410528Z"
    },
    "papermill": {
     "duration": 0.044192,
     "end_time": "2021-03-11T02:34:12.410980",
     "exception": false,
     "start_time": "2021-03-11T02:34:12.366788",
     "status": "completed"
    },
    "tags": []
   },
   "outputs": [],
   "source": [
    "%load_ext autoreload\n",
    "%autoreload 2"
   ]
  },
  {
   "cell_type": "code",
   "execution_count": 4,
   "metadata": {
    "execution": {
     "iopub.execute_input": "2021-03-11T02:34:12.482698Z",
     "iopub.status.busy": "2021-03-11T02:34:12.482330Z",
     "iopub.status.idle": "2021-03-11T02:34:13.061823Z",
     "shell.execute_reply": "2021-03-11T02:34:13.061430Z"
    },
    "papermill": {
     "duration": 0.616041,
     "end_time": "2021-03-11T02:34:13.061933",
     "exception": false,
     "start_time": "2021-03-11T02:34:12.445892",
     "status": "completed"
    },
    "tags": []
   },
   "outputs": [],
   "source": [
    "from pathlib import Path\n",
    "import warnings\n",
    "\n",
    "import numpy as np\n",
    "import pandas as pd\n",
    "import matplotlib.pyplot as plt\n",
    "import seaborn as sns\n",
    "\n",
    "from utils import generate_result_set_name"
   ]
  },
  {
   "cell_type": "markdown",
   "metadata": {
    "papermill": {
     "duration": 0.033976,
     "end_time": "2021-03-11T02:34:13.135581",
     "exception": false,
     "start_time": "2021-03-11T02:34:13.101605",
     "status": "completed"
    },
    "tags": []
   },
   "source": [
    "# Settings"
   ]
  },
  {
   "cell_type": "code",
   "execution_count": 5,
   "metadata": {
    "execution": {
     "iopub.execute_input": "2021-03-11T02:34:13.206385Z",
     "iopub.status.busy": "2021-03-11T02:34:13.206024Z",
     "iopub.status.idle": "2021-03-11T02:34:13.215489Z",
     "shell.execute_reply": "2021-03-11T02:34:13.215167Z"
    },
    "papermill": {
     "duration": 0.045847,
     "end_time": "2021-03-11T02:34:13.215574",
     "exception": false,
     "start_time": "2021-03-11T02:34:13.169727",
     "status": "completed"
    },
    "tags": []
   },
   "outputs": [],
   "source": [
    "INITIAL_RANDOM_STATE = 100000"
   ]
  },
  {
   "cell_type": "code",
   "execution_count": 6,
   "metadata": {
    "execution": {
     "iopub.execute_input": "2021-03-11T02:34:13.286339Z",
     "iopub.status.busy": "2021-03-11T02:34:13.285977Z",
     "iopub.status.idle": "2021-03-11T02:34:13.296406Z",
     "shell.execute_reply": "2021-03-11T02:34:13.296036Z"
    },
    "papermill": {
     "duration": 0.046591,
     "end_time": "2021-03-11T02:34:13.296491",
     "exception": false,
     "start_time": "2021-03-11T02:34:13.249900",
     "status": "completed"
    },
    "tags": []
   },
   "outputs": [
    {
     "data": {
      "text/plain": [
       "PosixPath('/home/miltondp/projects/labs/greenelab/phenoplier/base/results/clustering/consensus_clustering')"
      ]
     },
     "metadata": {},
     "output_type": "display_data"
    }
   ],
   "source": [
    "# output dir for this notebook\n",
    "CONSENSUS_CLUSTERING_DIR = Path(\n",
    "    conf.RESULTS[\"CLUSTERING_DIR\"], \"consensus_clustering\"\n",
    ").resolve()\n",
    "\n",
    "display(CONSENSUS_CLUSTERING_DIR)"
   ]
  },
  {
   "cell_type": "markdown",
   "metadata": {
    "papermill": {
     "duration": 0.034767,
     "end_time": "2021-03-11T02:34:13.365793",
     "exception": false,
     "start_time": "2021-03-11T02:34:13.331026",
     "status": "completed"
    },
    "tags": []
   },
   "source": [
    "# Load data"
   ]
  },
  {
   "cell_type": "code",
   "execution_count": 7,
   "metadata": {
    "execution": {
     "iopub.execute_input": "2021-03-11T02:34:13.437441Z",
     "iopub.status.busy": "2021-03-11T02:34:13.437068Z",
     "iopub.status.idle": "2021-03-11T02:34:13.446753Z",
     "shell.execute_reply": "2021-03-11T02:34:13.446385Z"
    },
    "papermill": {
     "duration": 0.046809,
     "end_time": "2021-03-11T02:34:13.446837",
     "exception": false,
     "start_time": "2021-03-11T02:34:13.400028",
     "status": "completed"
    },
    "tags": []
   },
   "outputs": [],
   "source": [
    "INPUT_SUBSET = \"z_score_std\""
   ]
  },
  {
   "cell_type": "code",
   "execution_count": 8,
   "metadata": {
    "execution": {
     "iopub.execute_input": "2021-03-11T02:34:13.521422Z",
     "iopub.status.busy": "2021-03-11T02:34:13.521041Z",
     "iopub.status.idle": "2021-03-11T02:34:13.530252Z",
     "shell.execute_reply": "2021-03-11T02:34:13.529934Z"
    },
    "papermill": {
     "duration": 0.048635,
     "end_time": "2021-03-11T02:34:13.530343",
     "exception": false,
     "start_time": "2021-03-11T02:34:13.481708",
     "status": "completed"
    },
    "tags": []
   },
   "outputs": [],
   "source": [
    "INPUT_STEM = \"projection-smultixcan-efo_partial-mashr-zscores\""
   ]
  },
  {
   "cell_type": "code",
   "execution_count": 9,
   "metadata": {
    "execution": {
     "iopub.execute_input": "2021-03-11T02:34:13.604642Z",
     "iopub.status.busy": "2021-03-11T02:34:13.604277Z",
     "iopub.status.idle": "2021-03-11T02:34:13.615526Z",
     "shell.execute_reply": "2021-03-11T02:34:13.615159Z"
    },
    "papermill": {
     "duration": 0.048468,
     "end_time": "2021-03-11T02:34:13.615611",
     "exception": false,
     "start_time": "2021-03-11T02:34:13.567143",
     "status": "completed"
    },
    "tags": []
   },
   "outputs": [
    {
     "data": {
      "text/plain": [
       "PosixPath('/home/miltondp/projects/labs/greenelab/phenoplier/base/results/data_transformations/z_score_std/z_score_std-projection-smultixcan-efo_partial-mashr-zscores.pkl')"
      ]
     },
     "metadata": {},
     "output_type": "display_data"
    },
    {
     "data": {
      "text/plain": [
       "'z_score_std-projection-smultixcan-efo_partial-mashr-zscores'"
      ]
     },
     "metadata": {},
     "output_type": "display_data"
    }
   ],
   "source": [
    "input_filepath = Path(\n",
    "    conf.RESULTS[\"DATA_TRANSFORMATIONS_DIR\"],\n",
    "    INPUT_SUBSET,\n",
    "    f\"{INPUT_SUBSET}-{INPUT_STEM}.pkl\",\n",
    ").resolve()\n",
    "display(input_filepath)\n",
    "\n",
    "assert input_filepath.exists(), \"Input file does not exist\"\n",
    "\n",
    "input_filepath_stem = input_filepath.stem\n",
    "display(input_filepath_stem)"
   ]
  },
  {
   "cell_type": "code",
   "execution_count": 10,
   "metadata": {
    "execution": {
     "iopub.execute_input": "2021-03-11T02:34:13.687902Z",
     "iopub.status.busy": "2021-03-11T02:34:13.687540Z",
     "iopub.status.idle": "2021-03-11T02:34:13.711180Z",
     "shell.execute_reply": "2021-03-11T02:34:13.710724Z"
    },
    "papermill": {
     "duration": 0.060549,
     "end_time": "2021-03-11T02:34:13.711280",
     "exception": false,
     "start_time": "2021-03-11T02:34:13.650731",
     "status": "completed"
    },
    "tags": []
   },
   "outputs": [],
   "source": [
    "data = pd.read_pickle(input_filepath)"
   ]
  },
  {
   "cell_type": "code",
   "execution_count": 11,
   "metadata": {
    "execution": {
     "iopub.execute_input": "2021-03-11T02:34:13.786791Z",
     "iopub.status.busy": "2021-03-11T02:34:13.786429Z",
     "iopub.status.idle": "2021-03-11T02:34:13.796694Z",
     "shell.execute_reply": "2021-03-11T02:34:13.796327Z"
    },
    "papermill": {
     "duration": 0.047181,
     "end_time": "2021-03-11T02:34:13.796819",
     "exception": false,
     "start_time": "2021-03-11T02:34:13.749638",
     "status": "completed"
    },
    "tags": []
   },
   "outputs": [
    {
     "data": {
      "text/plain": [
       "(3752, 987)"
      ]
     },
     "execution_count": 11,
     "metadata": {},
     "output_type": "execute_result"
    }
   ],
   "source": [
    "data.shape"
   ]
  },
  {
   "cell_type": "code",
   "execution_count": 12,
   "metadata": {
    "execution": {
     "iopub.execute_input": "2021-03-11T02:34:13.869094Z",
     "iopub.status.busy": "2021-03-11T02:34:13.868664Z",
     "iopub.status.idle": "2021-03-11T02:34:13.891502Z",
     "shell.execute_reply": "2021-03-11T02:34:13.891128Z"
    },
    "papermill": {
     "duration": 0.06011,
     "end_time": "2021-03-11T02:34:13.891587",
     "exception": false,
     "start_time": "2021-03-11T02:34:13.831477",
     "status": "completed"
    },
    "tags": []
   },
   "outputs": [
    {
     "data": {
      "text/html": [
       "<div>\n",
       "<style scoped>\n",
       "    .dataframe tbody tr th:only-of-type {\n",
       "        vertical-align: middle;\n",
       "    }\n",
       "\n",
       "    .dataframe tbody tr th {\n",
       "        vertical-align: top;\n",
       "    }\n",
       "\n",
       "    .dataframe thead th {\n",
       "        text-align: right;\n",
       "    }\n",
       "</style>\n",
       "<table border=\"1\" class=\"dataframe\">\n",
       "  <thead>\n",
       "    <tr style=\"text-align: right;\">\n",
       "      <th></th>\n",
       "      <th>LV1</th>\n",
       "      <th>LV2</th>\n",
       "      <th>LV3</th>\n",
       "      <th>LV4</th>\n",
       "      <th>LV5</th>\n",
       "      <th>LV6</th>\n",
       "      <th>LV7</th>\n",
       "      <th>LV8</th>\n",
       "      <th>LV9</th>\n",
       "      <th>LV10</th>\n",
       "      <th>...</th>\n",
       "      <th>LV978</th>\n",
       "      <th>LV979</th>\n",
       "      <th>LV980</th>\n",
       "      <th>LV981</th>\n",
       "      <th>LV982</th>\n",
       "      <th>LV983</th>\n",
       "      <th>LV984</th>\n",
       "      <th>LV985</th>\n",
       "      <th>LV986</th>\n",
       "      <th>LV987</th>\n",
       "    </tr>\n",
       "  </thead>\n",
       "  <tbody>\n",
       "    <tr>\n",
       "      <th>100001_raw-Food_weight</th>\n",
       "      <td>-0.695006</td>\n",
       "      <td>1.962565</td>\n",
       "      <td>0.057683</td>\n",
       "      <td>0.878731</td>\n",
       "      <td>-0.539977</td>\n",
       "      <td>1.481272</td>\n",
       "      <td>-0.396422</td>\n",
       "      <td>1.090180</td>\n",
       "      <td>0.759223</td>\n",
       "      <td>0.931395</td>\n",
       "      <td>...</td>\n",
       "      <td>1.129784</td>\n",
       "      <td>1.752343</td>\n",
       "      <td>-1.411403</td>\n",
       "      <td>2.823863</td>\n",
       "      <td>0.931116</td>\n",
       "      <td>-1.054519</td>\n",
       "      <td>0.432982</td>\n",
       "      <td>-0.633597</td>\n",
       "      <td>0.554279</td>\n",
       "      <td>-0.642479</td>\n",
       "    </tr>\n",
       "    <tr>\n",
       "      <th>100002_raw-Energy</th>\n",
       "      <td>-1.528127</td>\n",
       "      <td>-0.345309</td>\n",
       "      <td>-0.148953</td>\n",
       "      <td>-0.242060</td>\n",
       "      <td>0.373427</td>\n",
       "      <td>0.791092</td>\n",
       "      <td>0.263477</td>\n",
       "      <td>0.987702</td>\n",
       "      <td>0.354391</td>\n",
       "      <td>1.416059</td>\n",
       "      <td>...</td>\n",
       "      <td>0.224604</td>\n",
       "      <td>0.769882</td>\n",
       "      <td>-0.509482</td>\n",
       "      <td>0.091153</td>\n",
       "      <td>2.286789</td>\n",
       "      <td>-1.008256</td>\n",
       "      <td>-0.029764</td>\n",
       "      <td>1.737229</td>\n",
       "      <td>-0.272107</td>\n",
       "      <td>-0.526125</td>\n",
       "    </tr>\n",
       "    <tr>\n",
       "      <th>100003_raw-Protein</th>\n",
       "      <td>-0.704572</td>\n",
       "      <td>-1.011299</td>\n",
       "      <td>0.671420</td>\n",
       "      <td>0.143991</td>\n",
       "      <td>0.615212</td>\n",
       "      <td>0.874212</td>\n",
       "      <td>-0.040998</td>\n",
       "      <td>0.915170</td>\n",
       "      <td>0.254369</td>\n",
       "      <td>-0.084237</td>\n",
       "      <td>...</td>\n",
       "      <td>1.003019</td>\n",
       "      <td>1.044314</td>\n",
       "      <td>-2.376108</td>\n",
       "      <td>0.004778</td>\n",
       "      <td>0.053714</td>\n",
       "      <td>-0.892447</td>\n",
       "      <td>-0.183800</td>\n",
       "      <td>1.377991</td>\n",
       "      <td>-0.278794</td>\n",
       "      <td>-0.419733</td>\n",
       "    </tr>\n",
       "    <tr>\n",
       "      <th>100004_raw-Fat</th>\n",
       "      <td>-0.989832</td>\n",
       "      <td>-1.875490</td>\n",
       "      <td>0.261555</td>\n",
       "      <td>-1.420719</td>\n",
       "      <td>0.366238</td>\n",
       "      <td>1.167049</td>\n",
       "      <td>0.257387</td>\n",
       "      <td>0.717674</td>\n",
       "      <td>-0.997664</td>\n",
       "      <td>0.969825</td>\n",
       "      <td>...</td>\n",
       "      <td>0.585913</td>\n",
       "      <td>0.638314</td>\n",
       "      <td>0.119139</td>\n",
       "      <td>-0.140204</td>\n",
       "      <td>1.394326</td>\n",
       "      <td>-1.173402</td>\n",
       "      <td>0.555058</td>\n",
       "      <td>1.013982</td>\n",
       "      <td>-0.544506</td>\n",
       "      <td>-0.064061</td>\n",
       "    </tr>\n",
       "    <tr>\n",
       "      <th>100005_raw-Carbohydrate</th>\n",
       "      <td>-0.580143</td>\n",
       "      <td>0.243335</td>\n",
       "      <td>0.158966</td>\n",
       "      <td>-0.036558</td>\n",
       "      <td>0.068176</td>\n",
       "      <td>-0.202639</td>\n",
       "      <td>1.101281</td>\n",
       "      <td>0.675227</td>\n",
       "      <td>1.463432</td>\n",
       "      <td>1.010078</td>\n",
       "      <td>...</td>\n",
       "      <td>-0.249108</td>\n",
       "      <td>-0.026814</td>\n",
       "      <td>0.232713</td>\n",
       "      <td>0.323682</td>\n",
       "      <td>1.168642</td>\n",
       "      <td>-0.282935</td>\n",
       "      <td>0.653105</td>\n",
       "      <td>1.909526</td>\n",
       "      <td>0.199997</td>\n",
       "      <td>-1.656894</td>\n",
       "    </tr>\n",
       "  </tbody>\n",
       "</table>\n",
       "<p>5 rows × 987 columns</p>\n",
       "</div>"
      ],
      "text/plain": [
       "                              LV1       LV2       LV3       LV4       LV5  \\\n",
       "100001_raw-Food_weight  -0.695006  1.962565  0.057683  0.878731 -0.539977   \n",
       "100002_raw-Energy       -1.528127 -0.345309 -0.148953 -0.242060  0.373427   \n",
       "100003_raw-Protein      -0.704572 -1.011299  0.671420  0.143991  0.615212   \n",
       "100004_raw-Fat          -0.989832 -1.875490  0.261555 -1.420719  0.366238   \n",
       "100005_raw-Carbohydrate -0.580143  0.243335  0.158966 -0.036558  0.068176   \n",
       "\n",
       "                              LV6       LV7       LV8       LV9      LV10  \\\n",
       "100001_raw-Food_weight   1.481272 -0.396422  1.090180  0.759223  0.931395   \n",
       "100002_raw-Energy        0.791092  0.263477  0.987702  0.354391  1.416059   \n",
       "100003_raw-Protein       0.874212 -0.040998  0.915170  0.254369 -0.084237   \n",
       "100004_raw-Fat           1.167049  0.257387  0.717674 -0.997664  0.969825   \n",
       "100005_raw-Carbohydrate -0.202639  1.101281  0.675227  1.463432  1.010078   \n",
       "\n",
       "                         ...     LV978     LV979     LV980     LV981  \\\n",
       "100001_raw-Food_weight   ...  1.129784  1.752343 -1.411403  2.823863   \n",
       "100002_raw-Energy        ...  0.224604  0.769882 -0.509482  0.091153   \n",
       "100003_raw-Protein       ...  1.003019  1.044314 -2.376108  0.004778   \n",
       "100004_raw-Fat           ...  0.585913  0.638314  0.119139 -0.140204   \n",
       "100005_raw-Carbohydrate  ... -0.249108 -0.026814  0.232713  0.323682   \n",
       "\n",
       "                            LV982     LV983     LV984     LV985     LV986  \\\n",
       "100001_raw-Food_weight   0.931116 -1.054519  0.432982 -0.633597  0.554279   \n",
       "100002_raw-Energy        2.286789 -1.008256 -0.029764  1.737229 -0.272107   \n",
       "100003_raw-Protein       0.053714 -0.892447 -0.183800  1.377991 -0.278794   \n",
       "100004_raw-Fat           1.394326 -1.173402  0.555058  1.013982 -0.544506   \n",
       "100005_raw-Carbohydrate  1.168642 -0.282935  0.653105  1.909526  0.199997   \n",
       "\n",
       "                            LV987  \n",
       "100001_raw-Food_weight  -0.642479  \n",
       "100002_raw-Energy       -0.526125  \n",
       "100003_raw-Protein      -0.419733  \n",
       "100004_raw-Fat          -0.064061  \n",
       "100005_raw-Carbohydrate -1.656894  \n",
       "\n",
       "[5 rows x 987 columns]"
      ]
     },
     "execution_count": 12,
     "metadata": {},
     "output_type": "execute_result"
    }
   ],
   "source": [
    "data.head()"
   ]
  },
  {
   "cell_type": "code",
   "execution_count": 13,
   "metadata": {
    "execution": {
     "iopub.execute_input": "2021-03-11T02:34:13.965896Z",
     "iopub.status.busy": "2021-03-11T02:34:13.965533Z",
     "iopub.status.idle": "2021-03-11T02:34:13.974970Z",
     "shell.execute_reply": "2021-03-11T02:34:13.974595Z"
    },
    "papermill": {
     "duration": 0.047048,
     "end_time": "2021-03-11T02:34:13.975055",
     "exception": false,
     "start_time": "2021-03-11T02:34:13.928007",
     "status": "completed"
    },
    "tags": []
   },
   "outputs": [],
   "source": [
    "traits = data.index.tolist()"
   ]
  },
  {
   "cell_type": "code",
   "execution_count": 14,
   "metadata": {
    "execution": {
     "iopub.execute_input": "2021-03-11T02:34:14.073179Z",
     "iopub.status.busy": "2021-03-11T02:34:14.072807Z",
     "iopub.status.idle": "2021-03-11T02:34:14.083040Z",
     "shell.execute_reply": "2021-03-11T02:34:14.082656Z"
    },
    "papermill": {
     "duration": 0.054003,
     "end_time": "2021-03-11T02:34:14.083127",
     "exception": false,
     "start_time": "2021-03-11T02:34:14.029124",
     "status": "completed"
    },
    "tags": []
   },
   "outputs": [
    {
     "data": {
      "text/plain": [
       "3752"
      ]
     },
     "execution_count": 14,
     "metadata": {},
     "output_type": "execute_result"
    }
   ],
   "source": [
    "len(traits)"
   ]
  },
  {
   "cell_type": "markdown",
   "metadata": {
    "papermill": {
     "duration": 0.03654,
     "end_time": "2021-03-11T02:34:14.157303",
     "exception": false,
     "start_time": "2021-03-11T02:34:14.120763",
     "status": "completed"
    },
    "tags": []
   },
   "source": [
    "# Load coassociation matrix (ensemble)"
   ]
  },
  {
   "cell_type": "code",
   "execution_count": 15,
   "metadata": {
    "execution": {
     "iopub.execute_input": "2021-03-11T02:34:14.231421Z",
     "iopub.status.busy": "2021-03-11T02:34:14.231037Z",
     "iopub.status.idle": "2021-03-11T02:34:14.241141Z",
     "shell.execute_reply": "2021-03-11T02:34:14.241443Z"
    },
    "papermill": {
     "duration": 0.048527,
     "end_time": "2021-03-11T02:34:14.241548",
     "exception": false,
     "start_time": "2021-03-11T02:34:14.193021",
     "status": "completed"
    },
    "tags": []
   },
   "outputs": [
    {
     "data": {
      "text/plain": [
       "PosixPath('/home/miltondp/projects/labs/greenelab/phenoplier/base/results/clustering/consensus_clustering/ensemble_coassoc_matrix.npy')"
      ]
     },
     "metadata": {},
     "output_type": "display_data"
    }
   ],
   "source": [
    "input_file = Path(CONSENSUS_CLUSTERING_DIR, \"ensemble_coassoc_matrix.npy\").resolve()\n",
    "display(input_file)"
   ]
  },
  {
   "cell_type": "code",
   "execution_count": 16,
   "metadata": {
    "execution": {
     "iopub.execute_input": "2021-03-11T02:34:14.315928Z",
     "iopub.status.busy": "2021-03-11T02:34:14.315568Z",
     "iopub.status.idle": "2021-03-11T02:34:14.346072Z",
     "shell.execute_reply": "2021-03-11T02:34:14.345643Z"
    },
    "papermill": {
     "duration": 0.06859,
     "end_time": "2021-03-11T02:34:14.346170",
     "exception": false,
     "start_time": "2021-03-11T02:34:14.277580",
     "status": "completed"
    },
    "tags": []
   },
   "outputs": [],
   "source": [
    "coassoc_matrix = np.load(input_file)"
   ]
  },
  {
   "cell_type": "code",
   "execution_count": 17,
   "metadata": {
    "execution": {
     "iopub.execute_input": "2021-03-11T02:34:14.423791Z",
     "iopub.status.busy": "2021-03-11T02:34:14.423412Z",
     "iopub.status.idle": "2021-03-11T02:34:14.433196Z",
     "shell.execute_reply": "2021-03-11T02:34:14.433493Z"
    },
    "papermill": {
     "duration": 0.048332,
     "end_time": "2021-03-11T02:34:14.433596",
     "exception": false,
     "start_time": "2021-03-11T02:34:14.385264",
     "status": "completed"
    },
    "tags": []
   },
   "outputs": [],
   "source": [
    "coassoc_matrix = pd.DataFrame(\n",
    "    data=coassoc_matrix,\n",
    "    index=traits,\n",
    "    columns=traits,\n",
    ")"
   ]
  },
  {
   "cell_type": "code",
   "execution_count": 18,
   "metadata": {
    "execution": {
     "iopub.execute_input": "2021-03-11T02:34:14.509342Z",
     "iopub.status.busy": "2021-03-11T02:34:14.508932Z",
     "iopub.status.idle": "2021-03-11T02:34:14.519629Z",
     "shell.execute_reply": "2021-03-11T02:34:14.519230Z"
    },
    "papermill": {
     "duration": 0.049733,
     "end_time": "2021-03-11T02:34:14.519720",
     "exception": false,
     "start_time": "2021-03-11T02:34:14.469987",
     "status": "completed"
    },
    "tags": []
   },
   "outputs": [
    {
     "data": {
      "text/plain": [
       "(3752, 3752)"
      ]
     },
     "execution_count": 18,
     "metadata": {},
     "output_type": "execute_result"
    }
   ],
   "source": [
    "coassoc_matrix.shape"
   ]
  },
  {
   "cell_type": "code",
   "execution_count": 19,
   "metadata": {
    "execution": {
     "iopub.execute_input": "2021-03-11T02:34:14.596066Z",
     "iopub.status.busy": "2021-03-11T02:34:14.595706Z",
     "iopub.status.idle": "2021-03-11T02:34:14.617479Z",
     "shell.execute_reply": "2021-03-11T02:34:14.617151Z"
    },
    "papermill": {
     "duration": 0.059885,
     "end_time": "2021-03-11T02:34:14.617565",
     "exception": false,
     "start_time": "2021-03-11T02:34:14.557680",
     "status": "completed"
    },
    "tags": []
   },
   "outputs": [
    {
     "data": {
      "text/html": [
       "<div>\n",
       "<style scoped>\n",
       "    .dataframe tbody tr th:only-of-type {\n",
       "        vertical-align: middle;\n",
       "    }\n",
       "\n",
       "    .dataframe tbody tr th {\n",
       "        vertical-align: top;\n",
       "    }\n",
       "\n",
       "    .dataframe thead th {\n",
       "        text-align: right;\n",
       "    }\n",
       "</style>\n",
       "<table border=\"1\" class=\"dataframe\">\n",
       "  <thead>\n",
       "    <tr style=\"text-align: right;\">\n",
       "      <th></th>\n",
       "      <th>100001_raw-Food_weight</th>\n",
       "      <th>100002_raw-Energy</th>\n",
       "      <th>100003_raw-Protein</th>\n",
       "      <th>100004_raw-Fat</th>\n",
       "      <th>100005_raw-Carbohydrate</th>\n",
       "      <th>100006_raw-Saturated_fat</th>\n",
       "      <th>100007_raw-Polyunsaturated_fat</th>\n",
       "      <th>100008_raw-Total_sugars</th>\n",
       "      <th>100009_raw-Englyst_dietary_fibre</th>\n",
       "      <th>100010-Portion_size</th>\n",
       "      <th>...</th>\n",
       "      <th>visual impairment</th>\n",
       "      <th>vitiligo</th>\n",
       "      <th>vitreous body disease</th>\n",
       "      <th>vocal cord polyp</th>\n",
       "      <th>voice disorders</th>\n",
       "      <th>wellbeing measurement AND family relationship</th>\n",
       "      <th>wheezing</th>\n",
       "      <th>whooping cough</th>\n",
       "      <th>worry measurement</th>\n",
       "      <th>wrist fracture</th>\n",
       "    </tr>\n",
       "  </thead>\n",
       "  <tbody>\n",
       "    <tr>\n",
       "      <th>100001_raw-Food_weight</th>\n",
       "      <td>0.000000</td>\n",
       "      <td>0.314971</td>\n",
       "      <td>0.328000</td>\n",
       "      <td>0.367543</td>\n",
       "      <td>0.341257</td>\n",
       "      <td>0.369347</td>\n",
       "      <td>0.361951</td>\n",
       "      <td>0.354124</td>\n",
       "      <td>0.330439</td>\n",
       "      <td>0.364853</td>\n",
       "      <td>...</td>\n",
       "      <td>0.461101</td>\n",
       "      <td>0.443161</td>\n",
       "      <td>0.440617</td>\n",
       "      <td>0.442608</td>\n",
       "      <td>0.486303</td>\n",
       "      <td>0.359294</td>\n",
       "      <td>0.430441</td>\n",
       "      <td>0.479511</td>\n",
       "      <td>0.411417</td>\n",
       "      <td>0.644333</td>\n",
       "    </tr>\n",
       "    <tr>\n",
       "      <th>100002_raw-Energy</th>\n",
       "      <td>0.314971</td>\n",
       "      <td>0.000000</td>\n",
       "      <td>0.041534</td>\n",
       "      <td>0.076677</td>\n",
       "      <td>0.049064</td>\n",
       "      <td>0.078977</td>\n",
       "      <td>0.092762</td>\n",
       "      <td>0.068478</td>\n",
       "      <td>0.066438</td>\n",
       "      <td>0.629198</td>\n",
       "      <td>...</td>\n",
       "      <td>0.678784</td>\n",
       "      <td>0.683862</td>\n",
       "      <td>0.661792</td>\n",
       "      <td>0.686445</td>\n",
       "      <td>0.685388</td>\n",
       "      <td>0.616157</td>\n",
       "      <td>0.670675</td>\n",
       "      <td>0.678686</td>\n",
       "      <td>0.648605</td>\n",
       "      <td>0.674960</td>\n",
       "    </tr>\n",
       "    <tr>\n",
       "      <th>100003_raw-Protein</th>\n",
       "      <td>0.328000</td>\n",
       "      <td>0.041534</td>\n",
       "      <td>0.000000</td>\n",
       "      <td>0.102465</td>\n",
       "      <td>0.058421</td>\n",
       "      <td>0.104771</td>\n",
       "      <td>0.117041</td>\n",
       "      <td>0.090390</td>\n",
       "      <td>0.074201</td>\n",
       "      <td>0.639022</td>\n",
       "      <td>...</td>\n",
       "      <td>0.678326</td>\n",
       "      <td>0.688199</td>\n",
       "      <td>0.673446</td>\n",
       "      <td>0.686216</td>\n",
       "      <td>0.670548</td>\n",
       "      <td>0.614560</td>\n",
       "      <td>0.664662</td>\n",
       "      <td>0.664080</td>\n",
       "      <td>0.642204</td>\n",
       "      <td>0.677014</td>\n",
       "    </tr>\n",
       "    <tr>\n",
       "      <th>100004_raw-Fat</th>\n",
       "      <td>0.367543</td>\n",
       "      <td>0.076677</td>\n",
       "      <td>0.102465</td>\n",
       "      <td>0.000000</td>\n",
       "      <td>0.052031</td>\n",
       "      <td>0.005250</td>\n",
       "      <td>0.049015</td>\n",
       "      <td>0.029674</td>\n",
       "      <td>0.107763</td>\n",
       "      <td>0.603838</td>\n",
       "      <td>...</td>\n",
       "      <td>0.652949</td>\n",
       "      <td>0.645971</td>\n",
       "      <td>0.627514</td>\n",
       "      <td>0.654724</td>\n",
       "      <td>0.648858</td>\n",
       "      <td>0.667503</td>\n",
       "      <td>0.711378</td>\n",
       "      <td>0.652214</td>\n",
       "      <td>0.692273</td>\n",
       "      <td>0.646656</td>\n",
       "    </tr>\n",
       "    <tr>\n",
       "      <th>100005_raw-Carbohydrate</th>\n",
       "      <td>0.341257</td>\n",
       "      <td>0.049064</td>\n",
       "      <td>0.058421</td>\n",
       "      <td>0.052031</td>\n",
       "      <td>0.000000</td>\n",
       "      <td>0.055010</td>\n",
       "      <td>0.070316</td>\n",
       "      <td>0.036293</td>\n",
       "      <td>0.097489</td>\n",
       "      <td>0.612063</td>\n",
       "      <td>...</td>\n",
       "      <td>0.661866</td>\n",
       "      <td>0.668112</td>\n",
       "      <td>0.642139</td>\n",
       "      <td>0.667047</td>\n",
       "      <td>0.665525</td>\n",
       "      <td>0.646965</td>\n",
       "      <td>0.701203</td>\n",
       "      <td>0.659288</td>\n",
       "      <td>0.679241</td>\n",
       "      <td>0.653047</td>\n",
       "    </tr>\n",
       "  </tbody>\n",
       "</table>\n",
       "<p>5 rows × 3752 columns</p>\n",
       "</div>"
      ],
      "text/plain": [
       "                         100001_raw-Food_weight  100002_raw-Energy  \\\n",
       "100001_raw-Food_weight                 0.000000           0.314971   \n",
       "100002_raw-Energy                      0.314971           0.000000   \n",
       "100003_raw-Protein                     0.328000           0.041534   \n",
       "100004_raw-Fat                         0.367543           0.076677   \n",
       "100005_raw-Carbohydrate                0.341257           0.049064   \n",
       "\n",
       "                         100003_raw-Protein  100004_raw-Fat  \\\n",
       "100001_raw-Food_weight             0.328000        0.367543   \n",
       "100002_raw-Energy                  0.041534        0.076677   \n",
       "100003_raw-Protein                 0.000000        0.102465   \n",
       "100004_raw-Fat                     0.102465        0.000000   \n",
       "100005_raw-Carbohydrate            0.058421        0.052031   \n",
       "\n",
       "                         100005_raw-Carbohydrate  100006_raw-Saturated_fat  \\\n",
       "100001_raw-Food_weight                  0.341257                  0.369347   \n",
       "100002_raw-Energy                       0.049064                  0.078977   \n",
       "100003_raw-Protein                      0.058421                  0.104771   \n",
       "100004_raw-Fat                          0.052031                  0.005250   \n",
       "100005_raw-Carbohydrate                 0.000000                  0.055010   \n",
       "\n",
       "                         100007_raw-Polyunsaturated_fat  \\\n",
       "100001_raw-Food_weight                         0.361951   \n",
       "100002_raw-Energy                              0.092762   \n",
       "100003_raw-Protein                             0.117041   \n",
       "100004_raw-Fat                                 0.049015   \n",
       "100005_raw-Carbohydrate                        0.070316   \n",
       "\n",
       "                         100008_raw-Total_sugars  \\\n",
       "100001_raw-Food_weight                  0.354124   \n",
       "100002_raw-Energy                       0.068478   \n",
       "100003_raw-Protein                      0.090390   \n",
       "100004_raw-Fat                          0.029674   \n",
       "100005_raw-Carbohydrate                 0.036293   \n",
       "\n",
       "                         100009_raw-Englyst_dietary_fibre  \\\n",
       "100001_raw-Food_weight                           0.330439   \n",
       "100002_raw-Energy                                0.066438   \n",
       "100003_raw-Protein                               0.074201   \n",
       "100004_raw-Fat                                   0.107763   \n",
       "100005_raw-Carbohydrate                          0.097489   \n",
       "\n",
       "                         100010-Portion_size  ...  visual impairment  \\\n",
       "100001_raw-Food_weight              0.364853  ...           0.461101   \n",
       "100002_raw-Energy                   0.629198  ...           0.678784   \n",
       "100003_raw-Protein                  0.639022  ...           0.678326   \n",
       "100004_raw-Fat                      0.603838  ...           0.652949   \n",
       "100005_raw-Carbohydrate             0.612063  ...           0.661866   \n",
       "\n",
       "                         vitiligo  vitreous body disease  vocal cord polyp  \\\n",
       "100001_raw-Food_weight   0.443161               0.440617          0.442608   \n",
       "100002_raw-Energy        0.683862               0.661792          0.686445   \n",
       "100003_raw-Protein       0.688199               0.673446          0.686216   \n",
       "100004_raw-Fat           0.645971               0.627514          0.654724   \n",
       "100005_raw-Carbohydrate  0.668112               0.642139          0.667047   \n",
       "\n",
       "                         voice disorders  \\\n",
       "100001_raw-Food_weight          0.486303   \n",
       "100002_raw-Energy               0.685388   \n",
       "100003_raw-Protein              0.670548   \n",
       "100004_raw-Fat                  0.648858   \n",
       "100005_raw-Carbohydrate         0.665525   \n",
       "\n",
       "                         wellbeing measurement AND family relationship  \\\n",
       "100001_raw-Food_weight                                        0.359294   \n",
       "100002_raw-Energy                                             0.616157   \n",
       "100003_raw-Protein                                            0.614560   \n",
       "100004_raw-Fat                                                0.667503   \n",
       "100005_raw-Carbohydrate                                       0.646965   \n",
       "\n",
       "                         wheezing  whooping cough  worry measurement  \\\n",
       "100001_raw-Food_weight   0.430441        0.479511           0.411417   \n",
       "100002_raw-Energy        0.670675        0.678686           0.648605   \n",
       "100003_raw-Protein       0.664662        0.664080           0.642204   \n",
       "100004_raw-Fat           0.711378        0.652214           0.692273   \n",
       "100005_raw-Carbohydrate  0.701203        0.659288           0.679241   \n",
       "\n",
       "                         wrist fracture  \n",
       "100001_raw-Food_weight         0.644333  \n",
       "100002_raw-Energy              0.674960  \n",
       "100003_raw-Protein             0.677014  \n",
       "100004_raw-Fat                 0.646656  \n",
       "100005_raw-Carbohydrate        0.653047  \n",
       "\n",
       "[5 rows x 3752 columns]"
      ]
     },
     "execution_count": 19,
     "metadata": {},
     "output_type": "execute_result"
    }
   ],
   "source": [
    "coassoc_matrix.head()"
   ]
  },
  {
   "cell_type": "code",
   "execution_count": 20,
   "metadata": {
    "execution": {
     "iopub.execute_input": "2021-03-11T02:34:14.694918Z",
     "iopub.status.busy": "2021-03-11T02:34:14.694567Z",
     "iopub.status.idle": "2021-03-11T02:34:14.704503Z",
     "shell.execute_reply": "2021-03-11T02:34:14.704815Z"
    },
    "papermill": {
     "duration": 0.049665,
     "end_time": "2021-03-11T02:34:14.704941",
     "exception": false,
     "start_time": "2021-03-11T02:34:14.655276",
     "status": "completed"
    },
    "tags": []
   },
   "outputs": [],
   "source": [
    "dist_matrix = coassoc_matrix"
   ]
  },
  {
   "cell_type": "markdown",
   "metadata": {
    "papermill": {
     "duration": 0.036303,
     "end_time": "2021-03-11T02:34:14.779483",
     "exception": false,
     "start_time": "2021-03-11T02:34:14.743180",
     "status": "completed"
    },
    "tags": []
   },
   "source": [
    "# Clustering"
   ]
  },
  {
   "cell_type": "code",
   "execution_count": 21,
   "metadata": {
    "execution": {
     "iopub.execute_input": "2021-03-11T02:34:14.854359Z",
     "iopub.status.busy": "2021-03-11T02:34:14.853982Z",
     "iopub.status.idle": "2021-03-11T02:34:14.979003Z",
     "shell.execute_reply": "2021-03-11T02:34:14.978621Z"
    },
    "papermill": {
     "duration": 0.163405,
     "end_time": "2021-03-11T02:34:14.979090",
     "exception": false,
     "start_time": "2021-03-11T02:34:14.815685",
     "status": "completed"
    },
    "tags": []
   },
   "outputs": [],
   "source": [
    "from sklearn.cluster import SpectralClustering\n",
    "from sklearn.metrics import (\n",
    "    silhouette_score,\n",
    "    calinski_harabasz_score,\n",
    "    davies_bouldin_score,\n",
    ")\n",
    "\n",
    "from clustering.utils import compute_performance"
   ]
  },
  {
   "cell_type": "markdown",
   "metadata": {
    "papermill": {
     "duration": 0.036352,
     "end_time": "2021-03-11T02:34:15.051691",
     "exception": false,
     "start_time": "2021-03-11T02:34:15.015339",
     "status": "completed"
    },
    "tags": []
   },
   "source": [
    "## `delta` parameter (gaussian kernel)"
   ]
  },
  {
   "cell_type": "markdown",
   "metadata": {
    "papermill": {
     "duration": 0.037064,
     "end_time": "2021-03-11T02:34:15.125022",
     "exception": false,
     "start_time": "2021-03-11T02:34:15.087958",
     "status": "completed"
    },
    "tags": []
   },
   "source": [
    "Here I perform some quick tests using different `delta` values for the width of the Gaussian kernel applied to the ensemble distance matrix in (`dist_matrix`)."
   ]
  },
  {
   "cell_type": "markdown",
   "metadata": {
    "papermill": {
     "duration": 0.036903,
     "end_time": "2021-03-11T02:34:15.199680",
     "exception": false,
     "start_time": "2021-03-11T02:34:15.162777",
     "status": "completed"
    },
    "tags": []
   },
   "source": [
    "### `delta=1.0`"
   ]
  },
  {
   "cell_type": "code",
   "execution_count": 22,
   "metadata": {
    "execution": {
     "iopub.execute_input": "2021-03-11T02:34:15.274710Z",
     "iopub.status.busy": "2021-03-11T02:34:15.274333Z",
     "iopub.status.idle": "2021-03-11T02:34:15.284489Z",
     "shell.execute_reply": "2021-03-11T02:34:15.284110Z"
    },
    "papermill": {
     "duration": 0.04901,
     "end_time": "2021-03-11T02:34:15.284576",
     "exception": false,
     "start_time": "2021-03-11T02:34:15.235566",
     "status": "completed"
    },
    "tags": []
   },
   "outputs": [],
   "source": [
    "delta = 1.0"
   ]
  },
  {
   "cell_type": "code",
   "execution_count": 23,
   "metadata": {
    "execution": {
     "iopub.execute_input": "2021-03-11T02:34:15.360458Z",
     "iopub.status.busy": "2021-03-11T02:34:15.360087Z",
     "iopub.status.idle": "2021-03-11T02:34:16.476192Z",
     "shell.execute_reply": "2021-03-11T02:34:16.475847Z"
    },
    "papermill": {
     "duration": 1.155399,
     "end_time": "2021-03-11T02:34:16.476281",
     "exception": false,
     "start_time": "2021-03-11T02:34:15.320882",
     "status": "completed"
    },
    "tags": []
   },
   "outputs": [],
   "source": [
    "with warnings.catch_warnings():\n",
    "    # make sure all warnings are shown to debug the fitting process\n",
    "    warnings.filterwarnings(\"always\")\n",
    "\n",
    "    # Transform the distance matrix (from the ensemble) into a similarity matrix\n",
    "    # by applying a Gaussian kernel (the suggestion is taken from the Notes in\n",
    "    # https://scikit-learn.org/0.23/modules/generated/sklearn.cluster.SpectralClustering.html\n",
    "    sim_matrix = np.exp(-(dist_matrix**2) / (2.0 * delta**2))\n",
    "\n",
    "    clus = SpectralClustering(\n",
    "        eigen_solver=\"arpack\",\n",
    "        #         eigen_tol=1e-3,\n",
    "        n_clusters=2,\n",
    "        n_init=10,\n",
    "        affinity=\"precomputed\",\n",
    "        random_state=INITIAL_RANDOM_STATE,\n",
    "    )\n",
    "\n",
    "    part = clus.fit_predict(sim_matrix)"
   ]
  },
  {
   "cell_type": "code",
   "execution_count": 24,
   "metadata": {
    "execution": {
     "iopub.execute_input": "2021-03-11T02:34:16.556175Z",
     "iopub.status.busy": "2021-03-11T02:34:16.555811Z",
     "iopub.status.idle": "2021-03-11T02:34:16.567784Z",
     "shell.execute_reply": "2021-03-11T02:34:16.567413Z"
    },
    "papermill": {
     "duration": 0.052225,
     "end_time": "2021-03-11T02:34:16.567869",
     "exception": false,
     "start_time": "2021-03-11T02:34:16.515644",
     "status": "completed"
    },
    "tags": []
   },
   "outputs": [
    {
     "data": {
      "text/plain": [
       "0    3130\n",
       "1     622\n",
       "dtype: int64"
      ]
     },
     "execution_count": 24,
     "metadata": {},
     "output_type": "execute_result"
    }
   ],
   "source": [
    "# show number of clusters and their size\n",
    "pd.Series(part).value_counts()"
   ]
  },
  {
   "cell_type": "code",
   "execution_count": 25,
   "metadata": {
    "execution": {
     "iopub.execute_input": "2021-03-11T02:34:16.645035Z",
     "iopub.status.busy": "2021-03-11T02:34:16.644613Z",
     "iopub.status.idle": "2021-03-11T02:34:16.836122Z",
     "shell.execute_reply": "2021-03-11T02:34:16.836500Z"
    },
    "papermill": {
     "duration": 0.231042,
     "end_time": "2021-03-11T02:34:16.836625",
     "exception": false,
     "start_time": "2021-03-11T02:34:16.605583",
     "status": "completed"
    },
    "tags": []
   },
   "outputs": [
    {
     "data": {
      "text/plain": [
       "'Silhouette (higher is better): 0.231'"
      ]
     },
     "metadata": {},
     "output_type": "display_data"
    },
    {
     "data": {
      "text/plain": [
       "'Calinski-Harabasz (higher is better): 41.703'"
      ]
     },
     "metadata": {},
     "output_type": "display_data"
    },
    {
     "data": {
      "text/plain": [
       "'Davies-Bouldin (lower is better): 7.200'"
      ]
     },
     "metadata": {},
     "output_type": "display_data"
    },
    {
     "data": {
      "text/plain": [
       "{'si': 0.23116511015019045, 'ch': 41.70289463157456, 'db': 7.200269868038781}"
      ]
     },
     "execution_count": 25,
     "metadata": {},
     "output_type": "execute_result"
    }
   ],
   "source": [
    "# show some clustering performance measures to assess the quality of the partition\n",
    "compute_performance(data, part, data_distance_matrix=dist_matrix)"
   ]
  },
  {
   "cell_type": "markdown",
   "metadata": {
    "papermill": {
     "duration": 0.039071,
     "end_time": "2021-03-11T02:34:16.918940",
     "exception": false,
     "start_time": "2021-03-11T02:34:16.879869",
     "status": "completed"
    },
    "tags": []
   },
   "source": [
    "For `delta=1.0`, the algorithm works fine with this data version."
   ]
  },
  {
   "cell_type": "markdown",
   "metadata": {
    "papermill": {
     "duration": 0.036917,
     "end_time": "2021-03-11T02:34:16.993310",
     "exception": false,
     "start_time": "2021-03-11T02:34:16.956393",
     "status": "completed"
    },
    "tags": []
   },
   "source": [
    "### `delta>1.0`"
   ]
  },
  {
   "cell_type": "code",
   "execution_count": 26,
   "metadata": {
    "execution": {
     "iopub.execute_input": "2021-03-11T02:34:17.069364Z",
     "iopub.status.busy": "2021-03-11T02:34:17.069001Z",
     "iopub.status.idle": "2021-03-11T02:34:17.079133Z",
     "shell.execute_reply": "2021-03-11T02:34:17.078755Z"
    },
    "papermill": {
     "duration": 0.049275,
     "end_time": "2021-03-11T02:34:17.079220",
     "exception": false,
     "start_time": "2021-03-11T02:34:17.029945",
     "status": "completed"
    },
    "tags": []
   },
   "outputs": [],
   "source": [
    "delta = 5.0"
   ]
  },
  {
   "cell_type": "code",
   "execution_count": 27,
   "metadata": {
    "execution": {
     "iopub.execute_input": "2021-03-11T02:34:17.158458Z",
     "iopub.status.busy": "2021-03-11T02:34:17.158085Z",
     "iopub.status.idle": "2021-03-11T02:34:18.265134Z",
     "shell.execute_reply": "2021-03-11T02:34:18.265425Z"
    },
    "papermill": {
     "duration": 1.147747,
     "end_time": "2021-03-11T02:34:18.265533",
     "exception": false,
     "start_time": "2021-03-11T02:34:17.117786",
     "status": "completed"
    },
    "tags": []
   },
   "outputs": [],
   "source": [
    "with warnings.catch_warnings():\n",
    "    warnings.filterwarnings(\"always\")\n",
    "\n",
    "    sim_matrix = np.exp(-(dist_matrix**2) / (2.0 * delta**2))\n",
    "\n",
    "    clus = SpectralClustering(\n",
    "        eigen_solver=\"arpack\",\n",
    "        #         eigen_tol=1e-3,\n",
    "        n_clusters=2,\n",
    "        n_init=10,\n",
    "        affinity=\"precomputed\",\n",
    "        random_state=INITIAL_RANDOM_STATE,\n",
    "    )\n",
    "\n",
    "    part = clus.fit_predict(sim_matrix)"
   ]
  },
  {
   "cell_type": "code",
   "execution_count": 28,
   "metadata": {
    "execution": {
     "iopub.execute_input": "2021-03-11T02:34:18.341987Z",
     "iopub.status.busy": "2021-03-11T02:34:18.341626Z",
     "iopub.status.idle": "2021-03-11T02:34:18.353846Z",
     "shell.execute_reply": "2021-03-11T02:34:18.353473Z"
    },
    "papermill": {
     "duration": 0.051177,
     "end_time": "2021-03-11T02:34:18.353932",
     "exception": false,
     "start_time": "2021-03-11T02:34:18.302755",
     "status": "completed"
    },
    "tags": []
   },
   "outputs": [
    {
     "data": {
      "text/plain": [
       "1    3125\n",
       "0     627\n",
       "dtype: int64"
      ]
     },
     "execution_count": 28,
     "metadata": {},
     "output_type": "execute_result"
    }
   ],
   "source": [
    "# show number of clusters and their size\n",
    "pd.Series(part).value_counts()"
   ]
  },
  {
   "cell_type": "code",
   "execution_count": 29,
   "metadata": {
    "execution": {
     "iopub.execute_input": "2021-03-11T02:34:18.432160Z",
     "iopub.status.busy": "2021-03-11T02:34:18.431791Z",
     "iopub.status.idle": "2021-03-11T02:34:18.623822Z",
     "shell.execute_reply": "2021-03-11T02:34:18.623445Z"
    },
    "papermill": {
     "duration": 0.231871,
     "end_time": "2021-03-11T02:34:18.623929",
     "exception": false,
     "start_time": "2021-03-11T02:34:18.392058",
     "status": "completed"
    },
    "tags": []
   },
   "outputs": [
    {
     "data": {
      "text/plain": [
       "'Silhouette (higher is better): 0.230'"
      ]
     },
     "metadata": {},
     "output_type": "display_data"
    },
    {
     "data": {
      "text/plain": [
       "'Calinski-Harabasz (higher is better): 41.608'"
      ]
     },
     "metadata": {},
     "output_type": "display_data"
    },
    {
     "data": {
      "text/plain": [
       "'Davies-Bouldin (lower is better): 7.229'"
      ]
     },
     "metadata": {},
     "output_type": "display_data"
    },
    {
     "data": {
      "text/plain": [
       "{'si': 0.23024386632454283, 'ch': 41.607744206625, 'db': 7.229253286612492}"
      ]
     },
     "execution_count": 29,
     "metadata": {},
     "output_type": "execute_result"
    }
   ],
   "source": [
    "compute_performance(data, part, data_distance_matrix=dist_matrix)"
   ]
  },
  {
   "cell_type": "markdown",
   "metadata": {
    "papermill": {
     "duration": 0.039923,
     "end_time": "2021-03-11T02:34:18.707628",
     "exception": false,
     "start_time": "2021-03-11T02:34:18.667705",
     "status": "completed"
    },
    "tags": []
   },
   "source": [
    "For `delta` values larger than `1.0`, all quality measures go slightly down."
   ]
  },
  {
   "cell_type": "markdown",
   "metadata": {
    "papermill": {
     "duration": 0.037501,
     "end_time": "2021-03-11T02:34:18.784037",
     "exception": false,
     "start_time": "2021-03-11T02:34:18.746536",
     "status": "completed"
    },
    "tags": []
   },
   "source": [
    "### `delta<1.0`"
   ]
  },
  {
   "cell_type": "code",
   "execution_count": 30,
   "metadata": {
    "execution": {
     "iopub.execute_input": "2021-03-11T02:34:18.863191Z",
     "iopub.status.busy": "2021-03-11T02:34:18.862804Z",
     "iopub.status.idle": "2021-03-11T02:34:18.873357Z",
     "shell.execute_reply": "2021-03-11T02:34:18.872984Z"
    },
    "papermill": {
     "duration": 0.051293,
     "end_time": "2021-03-11T02:34:18.873441",
     "exception": false,
     "start_time": "2021-03-11T02:34:18.822148",
     "status": "completed"
    },
    "tags": []
   },
   "outputs": [],
   "source": [
    "delta = 0.20"
   ]
  },
  {
   "cell_type": "code",
   "execution_count": 31,
   "metadata": {
    "execution": {
     "iopub.execute_input": "2021-03-11T02:34:18.952722Z",
     "iopub.status.busy": "2021-03-11T02:34:18.952314Z",
     "iopub.status.idle": "2021-03-11T02:34:20.372344Z",
     "shell.execute_reply": "2021-03-11T02:34:20.371942Z"
    },
    "papermill": {
     "duration": 1.461111,
     "end_time": "2021-03-11T02:34:20.372433",
     "exception": false,
     "start_time": "2021-03-11T02:34:18.911322",
     "status": "completed"
    },
    "tags": []
   },
   "outputs": [],
   "source": [
    "with warnings.catch_warnings():\n",
    "    warnings.filterwarnings(\"always\")\n",
    "\n",
    "    sim_matrix = np.exp(-(dist_matrix**2) / (2.0 * delta**2))\n",
    "\n",
    "    clus = SpectralClustering(\n",
    "        eigen_solver=\"arpack\",\n",
    "        #         eigen_tol=1e-3,\n",
    "        n_clusters=2,\n",
    "        n_init=10,\n",
    "        affinity=\"precomputed\",\n",
    "        random_state=INITIAL_RANDOM_STATE,\n",
    "    )\n",
    "\n",
    "    part = clus.fit_predict(sim_matrix)"
   ]
  },
  {
   "cell_type": "code",
   "execution_count": 32,
   "metadata": {
    "execution": {
     "iopub.execute_input": "2021-03-11T02:34:20.452353Z",
     "iopub.status.busy": "2021-03-11T02:34:20.451982Z",
     "iopub.status.idle": "2021-03-11T02:34:20.464118Z",
     "shell.execute_reply": "2021-03-11T02:34:20.463747Z"
    },
    "papermill": {
     "duration": 0.052377,
     "end_time": "2021-03-11T02:34:20.464203",
     "exception": false,
     "start_time": "2021-03-11T02:34:20.411826",
     "status": "completed"
    },
    "tags": []
   },
   "outputs": [
    {
     "data": {
      "text/plain": [
       "0    3740\n",
       "1      12\n",
       "dtype: int64"
      ]
     },
     "execution_count": 32,
     "metadata": {},
     "output_type": "execute_result"
    }
   ],
   "source": [
    "# show number of clusters and their size\n",
    "pd.Series(part).value_counts()"
   ]
  },
  {
   "cell_type": "code",
   "execution_count": 33,
   "metadata": {
    "execution": {
     "iopub.execute_input": "2021-03-11T02:34:20.546864Z",
     "iopub.status.busy": "2021-03-11T02:34:20.546496Z",
     "iopub.status.idle": "2021-03-11T02:34:20.742540Z",
     "shell.execute_reply": "2021-03-11T02:34:20.742922Z"
    },
    "papermill": {
     "duration": 0.239444,
     "end_time": "2021-03-11T02:34:20.743048",
     "exception": false,
     "start_time": "2021-03-11T02:34:20.503604",
     "status": "completed"
    },
    "tags": []
   },
   "outputs": [
    {
     "data": {
      "text/plain": [
       "'Silhouette (higher is better): 0.414'"
      ]
     },
     "metadata": {},
     "output_type": "display_data"
    },
    {
     "data": {
      "text/plain": [
       "'Calinski-Harabasz (higher is better): 16.543'"
      ]
     },
     "metadata": {},
     "output_type": "display_data"
    },
    {
     "data": {
      "text/plain": [
       "'Davies-Bouldin (lower is better): 1.327'"
      ]
     },
     "metadata": {},
     "output_type": "display_data"
    },
    {
     "data": {
      "text/plain": [
       "{'si': 0.4136140722075767, 'ch': 16.54299382474996, 'db': 1.32685451095973}"
      ]
     },
     "execution_count": 33,
     "metadata": {},
     "output_type": "execute_result"
    }
   ],
   "source": [
    "compute_performance(data, part, data_distance_matrix=dist_matrix)"
   ]
  },
  {
   "cell_type": "markdown",
   "metadata": {
    "papermill": {
     "duration": 0.040253,
     "end_time": "2021-03-11T02:34:20.828066",
     "exception": false,
     "start_time": "2021-03-11T02:34:20.787813",
     "status": "completed"
    },
    "tags": []
   },
   "source": [
    "For `delta` values smaller than `1.0`, most quality measures improve."
   ]
  },
  {
   "cell_type": "markdown",
   "metadata": {
    "papermill": {
     "duration": 0.038248,
     "end_time": "2021-03-11T02:34:20.904641",
     "exception": false,
     "start_time": "2021-03-11T02:34:20.866393",
     "status": "completed"
    },
    "tags": []
   },
   "source": [
    "### `delta<<<1.0`"
   ]
  },
  {
   "cell_type": "code",
   "execution_count": 34,
   "metadata": {
    "execution": {
     "iopub.execute_input": "2021-03-11T02:34:20.986036Z",
     "iopub.status.busy": "2021-03-11T02:34:20.985655Z",
     "iopub.status.idle": "2021-03-11T02:34:20.996466Z",
     "shell.execute_reply": "2021-03-11T02:34:20.996085Z"
    },
    "papermill": {
     "duration": 0.052237,
     "end_time": "2021-03-11T02:34:20.996552",
     "exception": false,
     "start_time": "2021-03-11T02:34:20.944315",
     "status": "completed"
    },
    "tags": []
   },
   "outputs": [],
   "source": [
    "delta = 0.10"
   ]
  },
  {
   "cell_type": "code",
   "execution_count": 35,
   "metadata": {
    "execution": {
     "iopub.execute_input": "2021-03-11T02:34:21.078890Z",
     "iopub.status.busy": "2021-03-11T02:34:21.078521Z",
     "iopub.status.idle": "2021-03-11T02:34:24.126202Z",
     "shell.execute_reply": "2021-03-11T02:34:24.126503Z"
    },
    "papermill": {
     "duration": 3.089885,
     "end_time": "2021-03-11T02:34:24.126614",
     "exception": false,
     "start_time": "2021-03-11T02:34:21.036729",
     "status": "completed"
    },
    "tags": []
   },
   "outputs": [],
   "source": [
    "with warnings.catch_warnings():\n",
    "    warnings.filterwarnings(\"always\")\n",
    "\n",
    "    sim_matrix = np.exp(-(dist_matrix**2) / (2.0 * delta**2))\n",
    "\n",
    "    clus = SpectralClustering(\n",
    "        eigen_solver=\"arpack\",\n",
    "        eigen_tol=1e-4,\n",
    "        n_clusters=2,\n",
    "        n_init=10,\n",
    "        affinity=\"precomputed\",\n",
    "        random_state=INITIAL_RANDOM_STATE,\n",
    "    )\n",
    "\n",
    "    part = clus.fit_predict(sim_matrix)"
   ]
  },
  {
   "cell_type": "code",
   "execution_count": 36,
   "metadata": {
    "execution": {
     "iopub.execute_input": "2021-03-11T02:34:24.208945Z",
     "iopub.status.busy": "2021-03-11T02:34:24.208505Z",
     "iopub.status.idle": "2021-03-11T02:34:24.220551Z",
     "shell.execute_reply": "2021-03-11T02:34:24.220178Z"
    },
    "papermill": {
     "duration": 0.052969,
     "end_time": "2021-03-11T02:34:24.220634",
     "exception": false,
     "start_time": "2021-03-11T02:34:24.167665",
     "status": "completed"
    },
    "tags": []
   },
   "outputs": [
    {
     "data": {
      "text/plain": [
       "0    3743\n",
       "1       9\n",
       "dtype: int64"
      ]
     },
     "execution_count": 36,
     "metadata": {},
     "output_type": "execute_result"
    }
   ],
   "source": [
    "# show number of clusters and their size\n",
    "pd.Series(part).value_counts()"
   ]
  },
  {
   "cell_type": "code",
   "execution_count": 37,
   "metadata": {
    "execution": {
     "iopub.execute_input": "2021-03-11T02:34:24.301499Z",
     "iopub.status.busy": "2021-03-11T02:34:24.301127Z",
     "iopub.status.idle": "2021-03-11T02:34:24.488104Z",
     "shell.execute_reply": "2021-03-11T02:34:24.487700Z"
    },
    "papermill": {
     "duration": 0.22853,
     "end_time": "2021-03-11T02:34:24.488209",
     "exception": false,
     "start_time": "2021-03-11T02:34:24.259679",
     "status": "completed"
    },
    "tags": []
   },
   "outputs": [
    {
     "data": {
      "text/plain": [
       "'Silhouette (higher is better): 0.159'"
      ]
     },
     "metadata": {},
     "output_type": "display_data"
    },
    {
     "data": {
      "text/plain": [
       "'Calinski-Harabasz (higher is better): 4.484'"
      ]
     },
     "metadata": {},
     "output_type": "display_data"
    },
    {
     "data": {
      "text/plain": [
       "'Davies-Bouldin (lower is better): 2.418'"
      ]
     },
     "metadata": {},
     "output_type": "display_data"
    },
    {
     "data": {
      "text/plain": [
       "{'si': 0.1585862895845919, 'ch': 4.484084377205804, 'db': 2.4177671082962724}"
      ]
     },
     "execution_count": 37,
     "metadata": {},
     "output_type": "execute_result"
    }
   ],
   "source": [
    "compute_performance(data, part, data_distance_matrix=dist_matrix)"
   ]
  },
  {
   "cell_type": "markdown",
   "metadata": {
    "papermill": {
     "duration": 0.045442,
     "end_time": "2021-03-11T02:34:24.579743",
     "exception": false,
     "start_time": "2021-03-11T02:34:24.534301",
     "status": "completed"
    },
    "tags": []
   },
   "source": [
    "For `delta` values around `0.10` the algorithm does not converge, and I need to force convergence with `eigen_tol=1e-4`.\n",
    "\n",
    "Quality measures in general go down."
   ]
  },
  {
   "cell_type": "markdown",
   "metadata": {
    "papermill": {
     "duration": 0.040122,
     "end_time": "2021-03-11T02:34:24.660769",
     "exception": false,
     "start_time": "2021-03-11T02:34:24.620647",
     "status": "completed"
    },
    "tags": []
   },
   "source": [
    "## More exhaustive test"
   ]
  },
  {
   "cell_type": "markdown",
   "metadata": {
    "papermill": {
     "duration": 0.039913,
     "end_time": "2021-03-11T02:34:24.740807",
     "exception": false,
     "start_time": "2021-03-11T02:34:24.700894",
     "status": "completed"
    },
    "tags": []
   },
   "source": [
    "Here I run some test across several `k` and `delta` values; then I check how results perform with different clustering quality measures."
   ]
  },
  {
   "cell_type": "code",
   "execution_count": 38,
   "metadata": {
    "execution": {
     "iopub.execute_input": "2021-03-11T02:34:24.823207Z",
     "iopub.status.busy": "2021-03-11T02:34:24.822846Z",
     "iopub.status.idle": "2021-03-11T02:34:24.833198Z",
     "shell.execute_reply": "2021-03-11T02:34:24.832831Z"
    },
    "papermill": {
     "duration": 0.052489,
     "end_time": "2021-03-11T02:34:24.833284",
     "exception": false,
     "start_time": "2021-03-11T02:34:24.780795",
     "status": "completed"
    },
    "tags": []
   },
   "outputs": [],
   "source": [
    "from clustering.methods import DeltaSpectralClustering"
   ]
  },
  {
   "cell_type": "code",
   "execution_count": 39,
   "metadata": {
    "execution": {
     "iopub.execute_input": "2021-03-11T02:34:24.918034Z",
     "iopub.status.busy": "2021-03-11T02:34:24.917653Z",
     "iopub.status.idle": "2021-03-11T02:34:24.929308Z",
     "shell.execute_reply": "2021-03-11T02:34:24.928943Z"
    },
    "papermill": {
     "duration": 0.054893,
     "end_time": "2021-03-11T02:34:24.929392",
     "exception": false,
     "start_time": "2021-03-11T02:34:24.874499",
     "status": "completed"
    },
    "tags": []
   },
   "outputs": [
    {
     "data": {
      "text/plain": [
       "{'K_RANGE': [2, 4, 6, 8, 10, 12, 14, 16, 18, 20, 25, 30, 35, 40, 50, 60],\n",
       " 'N_REPS_PER_K': 5,\n",
       " 'KMEANS_N_INIT': 10,\n",
       " 'DELTAS': [5.0, 2.0, 1.0, 0.9, 0.75, 0.5, 0.3, 0.25, 0.2]}"
      ]
     },
     "metadata": {},
     "output_type": "display_data"
    }
   ],
   "source": [
    "CLUSTERING_OPTIONS = {}\n",
    "\n",
    "CLUSTERING_OPTIONS[\"K_RANGE\"] = [\n",
    "    2,\n",
    "    4,\n",
    "    6,\n",
    "    8,\n",
    "    10,\n",
    "    12,\n",
    "    14,\n",
    "    16,\n",
    "    18,\n",
    "    20,\n",
    "    25,\n",
    "    30,\n",
    "    35,\n",
    "    40,\n",
    "    50,\n",
    "    60,\n",
    "]\n",
    "CLUSTERING_OPTIONS[\"N_REPS_PER_K\"] = 5\n",
    "CLUSTERING_OPTIONS[\"KMEANS_N_INIT\"] = 10\n",
    "CLUSTERING_OPTIONS[\"DELTAS\"] = [\n",
    "    5.00,\n",
    "    2.00,\n",
    "    1.00,\n",
    "    0.90,\n",
    "    0.75,\n",
    "    0.50,\n",
    "    0.30,\n",
    "    0.25,\n",
    "    0.20,\n",
    "]\n",
    "\n",
    "display(CLUSTERING_OPTIONS)"
   ]
  },
  {
   "cell_type": "code",
   "execution_count": 40,
   "metadata": {
    "execution": {
     "iopub.execute_input": "2021-03-11T02:34:25.013496Z",
     "iopub.status.busy": "2021-03-11T02:34:25.013116Z",
     "iopub.status.idle": "2021-03-11T02:34:25.026894Z",
     "shell.execute_reply": "2021-03-11T02:34:25.026525Z"
    },
    "papermill": {
     "duration": 0.056762,
     "end_time": "2021-03-11T02:34:25.026977",
     "exception": false,
     "start_time": "2021-03-11T02:34:24.970215",
     "status": "completed"
    },
    "tags": []
   },
   "outputs": [],
   "source": [
    "CLUSTERERS = {}\n",
    "\n",
    "idx = 0\n",
    "random_state = INITIAL_RANDOM_STATE\n",
    "\n",
    "for k in CLUSTERING_OPTIONS[\"K_RANGE\"]:\n",
    "    for delta_value in CLUSTERING_OPTIONS[\"DELTAS\"]:\n",
    "        for i in range(CLUSTERING_OPTIONS[\"N_REPS_PER_K\"]):\n",
    "            clus = DeltaSpectralClustering(\n",
    "                eigen_solver=\"arpack\",\n",
    "                n_clusters=k,\n",
    "                n_init=CLUSTERING_OPTIONS[\"KMEANS_N_INIT\"],\n",
    "                delta=delta_value,\n",
    "                random_state=random_state,\n",
    "            )\n",
    "\n",
    "            method_name = type(clus).__name__\n",
    "            CLUSTERERS[f\"{method_name} #{idx}\"] = clus\n",
    "\n",
    "            random_state = random_state + 1\n",
    "            idx = idx + 1"
   ]
  },
  {
   "cell_type": "code",
   "execution_count": 41,
   "metadata": {
    "execution": {
     "iopub.execute_input": "2021-03-11T02:34:25.110129Z",
     "iopub.status.busy": "2021-03-11T02:34:25.109765Z",
     "iopub.status.idle": "2021-03-11T02:34:25.120924Z",
     "shell.execute_reply": "2021-03-11T02:34:25.120524Z"
    },
    "papermill": {
     "duration": 0.053298,
     "end_time": "2021-03-11T02:34:25.121011",
     "exception": false,
     "start_time": "2021-03-11T02:34:25.067713",
     "status": "completed"
    },
    "tags": []
   },
   "outputs": [
    {
     "data": {
      "text/plain": [
       "720"
      ]
     },
     "metadata": {},
     "output_type": "display_data"
    }
   ],
   "source": [
    "display(len(CLUSTERERS))"
   ]
  },
  {
   "cell_type": "code",
   "execution_count": 42,
   "metadata": {
    "execution": {
     "iopub.execute_input": "2021-03-11T02:34:25.204399Z",
     "iopub.status.busy": "2021-03-11T02:34:25.204022Z",
     "iopub.status.idle": "2021-03-11T02:34:25.217086Z",
     "shell.execute_reply": "2021-03-11T02:34:25.216702Z"
    },
    "papermill": {
     "duration": 0.055234,
     "end_time": "2021-03-11T02:34:25.217170",
     "exception": false,
     "start_time": "2021-03-11T02:34:25.161936",
     "status": "completed"
    },
    "tags": []
   },
   "outputs": [
    {
     "data": {
      "text/plain": [
       "('DeltaSpectralClustering #0', DeltaSpectralClustering(delta=5.0))"
      ]
     },
     "metadata": {},
     "output_type": "display_data"
    },
    {
     "data": {
      "text/plain": [
       "('DeltaSpectralClustering #1', DeltaSpectralClustering(delta=5.0))"
      ]
     },
     "metadata": {},
     "output_type": "display_data"
    }
   ],
   "source": [
    "_iter = iter(CLUSTERERS.items())\n",
    "display(next(_iter))\n",
    "display(next(_iter))"
   ]
  },
  {
   "cell_type": "code",
   "execution_count": 43,
   "metadata": {
    "execution": {
     "iopub.execute_input": "2021-03-11T02:34:25.302063Z",
     "iopub.status.busy": "2021-03-11T02:34:25.301699Z",
     "iopub.status.idle": "2021-03-11T02:34:25.312646Z",
     "shell.execute_reply": "2021-03-11T02:34:25.312272Z"
    },
    "papermill": {
     "duration": 0.053471,
     "end_time": "2021-03-11T02:34:25.312775",
     "exception": false,
     "start_time": "2021-03-11T02:34:25.259304",
     "status": "completed"
    },
    "tags": []
   },
   "outputs": [
    {
     "data": {
      "text/plain": [
       "'DeltaSpectralClustering'"
      ]
     },
     "metadata": {},
     "output_type": "display_data"
    }
   ],
   "source": [
    "clustering_method_name = method_name\n",
    "display(clustering_method_name)"
   ]
  },
  {
   "cell_type": "markdown",
   "metadata": {
    "papermill": {
     "duration": 0.040976,
     "end_time": "2021-03-11T02:34:25.396554",
     "exception": false,
     "start_time": "2021-03-11T02:34:25.355578",
     "status": "completed"
    },
    "tags": []
   },
   "source": [
    "### Generate ensemble"
   ]
  },
  {
   "cell_type": "code",
   "execution_count": 44,
   "metadata": {
    "execution": {
     "iopub.execute_input": "2021-03-11T02:34:25.481472Z",
     "iopub.status.busy": "2021-03-11T02:34:25.481110Z",
     "iopub.status.idle": "2021-03-11T02:34:25.493830Z",
     "shell.execute_reply": "2021-03-11T02:34:25.493457Z"
    },
    "papermill": {
     "duration": 0.056359,
     "end_time": "2021-03-11T02:34:25.493914",
     "exception": false,
     "start_time": "2021-03-11T02:34:25.437555",
     "status": "completed"
    },
    "tags": []
   },
   "outputs": [],
   "source": [
    "import tempfile\n",
    "from clustering.ensembles.utils import generate_ensemble"
   ]
  },
  {
   "cell_type": "code",
   "execution_count": 45,
   "metadata": {
    "execution": {
     "iopub.execute_input": "2021-03-11T02:34:25.583530Z",
     "iopub.status.busy": "2021-03-11T02:34:25.583118Z",
     "iopub.status.idle": "2021-03-11T02:34:25.593537Z",
     "shell.execute_reply": "2021-03-11T02:34:25.593823Z"
    },
    "papermill": {
     "duration": 0.057422,
     "end_time": "2021-03-11T02:34:25.593931",
     "exception": false,
     "start_time": "2021-03-11T02:34:25.536509",
     "status": "completed"
    },
    "tags": []
   },
   "outputs": [],
   "source": [
    "# generate a temporary folder where to store the ensemble and avoid computing it again\n",
    "ensemble_folder = Path(\n",
    "    tempfile.gettempdir(),\n",
    "    \"pre_cluster_analysis\",\n",
    "    clustering_method_name,\n",
    ").resolve()\n",
    "ensemble_folder.mkdir(parents=True, exist_ok=True)"
   ]
  },
  {
   "cell_type": "code",
   "execution_count": 46,
   "metadata": {
    "execution": {
     "iopub.execute_input": "2021-03-11T02:34:25.679379Z",
     "iopub.status.busy": "2021-03-11T02:34:25.679015Z",
     "iopub.status.idle": "2021-03-11T02:34:25.690915Z",
     "shell.execute_reply": "2021-03-11T02:34:25.690543Z"
    },
    "papermill": {
     "duration": 0.055279,
     "end_time": "2021-03-11T02:34:25.691000",
     "exception": false,
     "start_time": "2021-03-11T02:34:25.635721",
     "status": "completed"
    },
    "tags": []
   },
   "outputs": [
    {
     "data": {
      "text/plain": [
       "PosixPath('/tmp/pre_cluster_analysis/DeltaSpectralClustering/ensemble-DELTAS_50_20_10_09_075_05_03_025_02-KMEANS_N_INIT_10-K_RANGE_2_4_6_8_10_12_14_16_18_20_25_30_35_40_50_60-N_REPS_PER_K_5.pkl')"
      ]
     },
     "metadata": {},
     "output_type": "display_data"
    }
   ],
   "source": [
    "ensemble_file = Path(\n",
    "    ensemble_folder,\n",
    "    generate_result_set_name(CLUSTERING_OPTIONS, prefix=\"ensemble-\", suffix=\".pkl\"),\n",
    ")\n",
    "display(ensemble_file)"
   ]
  },
  {
   "cell_type": "code",
   "execution_count": 47,
   "metadata": {
    "execution": {
     "iopub.execute_input": "2021-03-11T02:34:25.778140Z",
     "iopub.status.busy": "2021-03-11T02:34:25.777764Z",
     "iopub.status.idle": "2021-03-11T02:58:46.398201Z",
     "shell.execute_reply": "2021-03-11T02:58:46.397883Z"
    },
    "papermill": {
     "duration": 1460.664544,
     "end_time": "2021-03-11T02:58:46.398284",
     "exception": false,
     "start_time": "2021-03-11T02:34:25.733740",
     "status": "completed"
    },
    "tags": []
   },
   "outputs": [
    {
     "name": "stderr",
     "output_type": "stream",
     "text": [
      "\r",
      "  0%|          | 0/720 [00:00<?, ?it/s]"
     ]
    },
    {
     "name": "stderr",
     "output_type": "stream",
     "text": [
      "\r",
      "  0%|          | 1/720 [00:01<13:14,  1.11s/it]"
     ]
    },
    {
     "name": "stderr",
     "output_type": "stream",
     "text": [
      "\r",
      "  0%|          | 2/720 [00:02<13:11,  1.10s/it]"
     ]
    },
    {
     "name": "stderr",
     "output_type": "stream",
     "text": [
      "\r",
      "  0%|          | 3/720 [00:03<13:11,  1.10s/it]"
     ]
    },
    {
     "name": "stderr",
     "output_type": "stream",
     "text": [
      "\r",
      "  1%|          | 4/720 [00:04<13:08,  1.10s/it]"
     ]
    },
    {
     "name": "stderr",
     "output_type": "stream",
     "text": [
      "\r",
      "  1%|          | 5/720 [00:05<13:07,  1.10s/it]"
     ]
    },
    {
     "name": "stderr",
     "output_type": "stream",
     "text": [
      "\r",
      "  1%|          | 6/720 [00:06<13:05,  1.10s/it]"
     ]
    },
    {
     "name": "stderr",
     "output_type": "stream",
     "text": [
      "\r",
      "  1%|          | 7/720 [00:07<13:04,  1.10s/it]"
     ]
    },
    {
     "name": "stderr",
     "output_type": "stream",
     "text": [
      "\r",
      "  1%|          | 8/720 [00:08<13:04,  1.10s/it]"
     ]
    },
    {
     "name": "stderr",
     "output_type": "stream",
     "text": [
      "\r",
      "  1%|▏         | 9/720 [00:09<13:03,  1.10s/it]"
     ]
    },
    {
     "name": "stderr",
     "output_type": "stream",
     "text": [
      "\r",
      "  1%|▏         | 10/720 [00:11<13:02,  1.10s/it]"
     ]
    },
    {
     "name": "stderr",
     "output_type": "stream",
     "text": [
      "\r",
      "  2%|▏         | 11/720 [00:12<13:00,  1.10s/it]"
     ]
    },
    {
     "name": "stderr",
     "output_type": "stream",
     "text": [
      "\r",
      "  2%|▏         | 12/720 [00:13<12:58,  1.10s/it]"
     ]
    },
    {
     "name": "stderr",
     "output_type": "stream",
     "text": [
      "\r",
      "  2%|▏         | 13/720 [00:14<12:56,  1.10s/it]"
     ]
    },
    {
     "name": "stderr",
     "output_type": "stream",
     "text": [
      "\r",
      "  2%|▏         | 14/720 [00:15<12:54,  1.10s/it]"
     ]
    },
    {
     "name": "stderr",
     "output_type": "stream",
     "text": [
      "\r",
      "  2%|▏         | 15/720 [00:16<12:54,  1.10s/it]"
     ]
    },
    {
     "name": "stderr",
     "output_type": "stream",
     "text": [
      "\r",
      "  2%|▏         | 16/720 [00:17<12:53,  1.10s/it]"
     ]
    },
    {
     "name": "stderr",
     "output_type": "stream",
     "text": [
      "\r",
      "  2%|▏         | 17/720 [00:18<12:53,  1.10s/it]"
     ]
    },
    {
     "name": "stderr",
     "output_type": "stream",
     "text": [
      "\r",
      "  2%|▎         | 18/720 [00:19<12:51,  1.10s/it]"
     ]
    },
    {
     "name": "stderr",
     "output_type": "stream",
     "text": [
      "\r",
      "  3%|▎         | 19/720 [00:20<12:52,  1.10s/it]"
     ]
    },
    {
     "name": "stderr",
     "output_type": "stream",
     "text": [
      "\r",
      "  3%|▎         | 20/720 [00:22<12:50,  1.10s/it]"
     ]
    },
    {
     "name": "stderr",
     "output_type": "stream",
     "text": [
      "\r",
      "  3%|▎         | 21/720 [00:23<12:47,  1.10s/it]"
     ]
    },
    {
     "name": "stderr",
     "output_type": "stream",
     "text": [
      "\r",
      "  3%|▎         | 22/720 [00:24<12:45,  1.10s/it]"
     ]
    },
    {
     "name": "stderr",
     "output_type": "stream",
     "text": [
      "\r",
      "  3%|▎         | 23/720 [00:25<12:43,  1.10s/it]"
     ]
    },
    {
     "name": "stderr",
     "output_type": "stream",
     "text": [
      "\r",
      "  3%|▎         | 24/720 [00:26<12:43,  1.10s/it]"
     ]
    },
    {
     "name": "stderr",
     "output_type": "stream",
     "text": [
      "\r",
      "  3%|▎         | 25/720 [00:27<12:42,  1.10s/it]"
     ]
    },
    {
     "name": "stderr",
     "output_type": "stream",
     "text": [
      "\r",
      "  4%|▎         | 26/720 [00:28<12:40,  1.10s/it]"
     ]
    },
    {
     "name": "stderr",
     "output_type": "stream",
     "text": [
      "\r",
      "  4%|▍         | 27/720 [00:29<12:59,  1.13s/it]"
     ]
    },
    {
     "name": "stderr",
     "output_type": "stream",
     "text": [
      "\r",
      "  4%|▍         | 28/720 [00:30<13:15,  1.15s/it]"
     ]
    },
    {
     "name": "stderr",
     "output_type": "stream",
     "text": [
      "\r",
      "  4%|▍         | 29/720 [00:32<13:26,  1.17s/it]"
     ]
    },
    {
     "name": "stderr",
     "output_type": "stream",
     "text": [
      "\r",
      "  4%|▍         | 30/720 [00:33<13:31,  1.18s/it]"
     ]
    },
    {
     "name": "stderr",
     "output_type": "stream",
     "text": [
      "\r",
      "  4%|▍         | 31/720 [00:34<13:33,  1.18s/it]"
     ]
    },
    {
     "name": "stderr",
     "output_type": "stream",
     "text": [
      "\r",
      "  4%|▍         | 32/720 [00:35<13:35,  1.18s/it]"
     ]
    },
    {
     "name": "stderr",
     "output_type": "stream",
     "text": [
      "\r",
      "  5%|▍         | 33/720 [00:36<13:36,  1.19s/it]"
     ]
    },
    {
     "name": "stderr",
     "output_type": "stream",
     "text": [
      "\r",
      "  5%|▍         | 34/720 [00:38<13:37,  1.19s/it]"
     ]
    },
    {
     "name": "stderr",
     "output_type": "stream",
     "text": [
      "\r",
      "  5%|▍         | 35/720 [00:39<13:37,  1.19s/it]"
     ]
    },
    {
     "name": "stderr",
     "output_type": "stream",
     "text": [
      "\r",
      "  5%|▌         | 36/720 [00:40<13:35,  1.19s/it]"
     ]
    },
    {
     "name": "stderr",
     "output_type": "stream",
     "text": [
      "\r",
      "  5%|▌         | 37/720 [00:41<13:35,  1.19s/it]"
     ]
    },
    {
     "name": "stderr",
     "output_type": "stream",
     "text": [
      "\r",
      "  5%|▌         | 38/720 [00:42<13:37,  1.20s/it]"
     ]
    },
    {
     "name": "stderr",
     "output_type": "stream",
     "text": [
      "\r",
      "  5%|▌         | 39/720 [00:44<13:35,  1.20s/it]"
     ]
    },
    {
     "name": "stderr",
     "output_type": "stream",
     "text": [
      "\r",
      "  6%|▌         | 40/720 [00:45<13:34,  1.20s/it]"
     ]
    },
    {
     "name": "stderr",
     "output_type": "stream",
     "text": [
      "\r",
      "  6%|▌         | 41/720 [00:46<14:15,  1.26s/it]"
     ]
    },
    {
     "name": "stderr",
     "output_type": "stream",
     "text": [
      "\r",
      "  6%|▌         | 42/720 [00:48<14:43,  1.30s/it]"
     ]
    },
    {
     "name": "stderr",
     "output_type": "stream",
     "text": [
      "\r",
      "  6%|▌         | 43/720 [00:49<15:26,  1.37s/it]"
     ]
    },
    {
     "name": "stderr",
     "output_type": "stream",
     "text": [
      "\r",
      "  6%|▌         | 44/720 [00:51<15:35,  1.38s/it]"
     ]
    },
    {
     "name": "stderr",
     "output_type": "stream",
     "text": [
      "\r",
      "  6%|▋         | 45/720 [00:52<16:00,  1.42s/it]"
     ]
    },
    {
     "name": "stderr",
     "output_type": "stream",
     "text": [
      "\r",
      "  6%|▋         | 46/720 [00:53<15:14,  1.36s/it]"
     ]
    },
    {
     "name": "stderr",
     "output_type": "stream",
     "text": [
      "\r",
      "  7%|▋         | 47/720 [00:55<16:12,  1.44s/it]"
     ]
    },
    {
     "name": "stderr",
     "output_type": "stream",
     "text": [
      "\r",
      "  7%|▋         | 48/720 [00:56<15:22,  1.37s/it]"
     ]
    },
    {
     "name": "stderr",
     "output_type": "stream",
     "text": [
      "\r",
      "  7%|▋         | 49/720 [00:57<15:04,  1.35s/it]"
     ]
    },
    {
     "name": "stderr",
     "output_type": "stream",
     "text": [
      "\r",
      "  7%|▋         | 50/720 [00:59<14:35,  1.31s/it]"
     ]
    },
    {
     "name": "stderr",
     "output_type": "stream",
     "text": [
      "\r",
      "  7%|▋         | 51/720 [01:00<14:14,  1.28s/it]"
     ]
    },
    {
     "name": "stderr",
     "output_type": "stream",
     "text": [
      "\r",
      "  7%|▋         | 52/720 [01:01<13:59,  1.26s/it]"
     ]
    },
    {
     "name": "stderr",
     "output_type": "stream",
     "text": [
      "\r",
      "  7%|▋         | 53/720 [01:02<13:47,  1.24s/it]"
     ]
    },
    {
     "name": "stderr",
     "output_type": "stream",
     "text": [
      "\r",
      "  8%|▊         | 54/720 [01:04<15:05,  1.36s/it]"
     ]
    },
    {
     "name": "stderr",
     "output_type": "stream",
     "text": [
      "\r",
      "  8%|▊         | 55/720 [01:05<15:08,  1.37s/it]"
     ]
    },
    {
     "name": "stderr",
     "output_type": "stream",
     "text": [
      "\r",
      "  8%|▊         | 56/720 [01:07<15:24,  1.39s/it]"
     ]
    },
    {
     "name": "stderr",
     "output_type": "stream",
     "text": [
      "\r",
      "  8%|▊         | 57/720 [01:08<15:12,  1.38s/it]"
     ]
    },
    {
     "name": "stderr",
     "output_type": "stream",
     "text": [
      "\r",
      "  8%|▊         | 58/720 [01:09<14:52,  1.35s/it]"
     ]
    },
    {
     "name": "stderr",
     "output_type": "stream",
     "text": [
      "\r",
      "  8%|▊         | 59/720 [01:11<15:57,  1.45s/it]"
     ]
    },
    {
     "name": "stderr",
     "output_type": "stream",
     "text": [
      "\r",
      "  8%|▊         | 60/720 [01:13<15:54,  1.45s/it]"
     ]
    },
    {
     "name": "stderr",
     "output_type": "stream",
     "text": [
      "\r",
      "  8%|▊         | 61/720 [01:14<15:22,  1.40s/it]"
     ]
    },
    {
     "name": "stderr",
     "output_type": "stream",
     "text": [
      "\r",
      "  9%|▊         | 62/720 [01:15<14:57,  1.36s/it]"
     ]
    },
    {
     "name": "stderr",
     "output_type": "stream",
     "text": [
      "\r",
      "  9%|▉         | 63/720 [01:17<15:12,  1.39s/it]"
     ]
    },
    {
     "name": "stderr",
     "output_type": "stream",
     "text": [
      "\r",
      "  9%|▉         | 64/720 [01:18<15:09,  1.39s/it]"
     ]
    },
    {
     "name": "stderr",
     "output_type": "stream",
     "text": [
      "\r",
      "  9%|▉         | 65/720 [01:19<15:40,  1.44s/it]"
     ]
    },
    {
     "name": "stderr",
     "output_type": "stream",
     "text": [
      "\r",
      "  9%|▉         | 66/720 [01:21<15:08,  1.39s/it]"
     ]
    },
    {
     "name": "stderr",
     "output_type": "stream",
     "text": [
      "\r",
      "  9%|▉         | 67/720 [01:22<15:19,  1.41s/it]"
     ]
    },
    {
     "name": "stderr",
     "output_type": "stream",
     "text": [
      "\r",
      "  9%|▉         | 68/720 [01:24<16:04,  1.48s/it]"
     ]
    },
    {
     "name": "stderr",
     "output_type": "stream",
     "text": [
      "\r",
      " 10%|▉         | 69/720 [01:25<15:39,  1.44s/it]"
     ]
    },
    {
     "name": "stderr",
     "output_type": "stream",
     "text": [
      "\r",
      " 10%|▉         | 70/720 [01:26<15:04,  1.39s/it]"
     ]
    },
    {
     "name": "stderr",
     "output_type": "stream",
     "text": [
      "\r",
      " 10%|▉         | 71/720 [01:28<15:22,  1.42s/it]"
     ]
    },
    {
     "name": "stderr",
     "output_type": "stream",
     "text": [
      "\r",
      " 10%|█         | 72/720 [01:30<15:57,  1.48s/it]"
     ]
    },
    {
     "name": "stderr",
     "output_type": "stream",
     "text": [
      "\r",
      " 10%|█         | 73/720 [01:31<15:01,  1.39s/it]"
     ]
    },
    {
     "name": "stderr",
     "output_type": "stream",
     "text": [
      "\r",
      " 10%|█         | 74/720 [01:32<15:33,  1.45s/it]"
     ]
    },
    {
     "name": "stderr",
     "output_type": "stream",
     "text": [
      "\r",
      " 10%|█         | 75/720 [01:34<16:27,  1.53s/it]"
     ]
    },
    {
     "name": "stderr",
     "output_type": "stream",
     "text": [
      "\r",
      " 11%|█         | 76/720 [01:35<15:22,  1.43s/it]"
     ]
    },
    {
     "name": "stderr",
     "output_type": "stream",
     "text": [
      "\r",
      " 11%|█         | 77/720 [01:37<15:31,  1.45s/it]"
     ]
    },
    {
     "name": "stderr",
     "output_type": "stream",
     "text": [
      "\r",
      " 11%|█         | 78/720 [01:38<15:09,  1.42s/it]"
     ]
    },
    {
     "name": "stderr",
     "output_type": "stream",
     "text": [
      "\r",
      " 11%|█         | 79/720 [01:40<15:08,  1.42s/it]"
     ]
    },
    {
     "name": "stderr",
     "output_type": "stream",
     "text": [
      "\r",
      " 11%|█         | 80/720 [01:41<15:04,  1.41s/it]"
     ]
    },
    {
     "name": "stderr",
     "output_type": "stream",
     "text": [
      "\r",
      " 11%|█▏        | 81/720 [01:42<14:43,  1.38s/it]"
     ]
    },
    {
     "name": "stderr",
     "output_type": "stream",
     "text": [
      "\r",
      " 11%|█▏        | 82/720 [01:44<15:11,  1.43s/it]"
     ]
    },
    {
     "name": "stderr",
     "output_type": "stream",
     "text": [
      "\r",
      " 12%|█▏        | 83/720 [01:45<15:13,  1.43s/it]"
     ]
    },
    {
     "name": "stderr",
     "output_type": "stream",
     "text": [
      "\r",
      " 12%|█▏        | 84/720 [01:47<15:34,  1.47s/it]"
     ]
    },
    {
     "name": "stderr",
     "output_type": "stream",
     "text": [
      "\r",
      " 12%|█▏        | 85/720 [01:48<14:57,  1.41s/it]"
     ]
    },
    {
     "name": "stderr",
     "output_type": "stream",
     "text": [
      "\r",
      " 12%|█▏        | 86/720 [01:49<15:03,  1.42s/it]"
     ]
    },
    {
     "name": "stderr",
     "output_type": "stream",
     "text": [
      "\r",
      " 12%|█▏        | 87/720 [01:51<15:40,  1.49s/it]"
     ]
    },
    {
     "name": "stderr",
     "output_type": "stream",
     "text": [
      "\r",
      " 12%|█▏        | 88/720 [01:53<15:46,  1.50s/it]"
     ]
    },
    {
     "name": "stderr",
     "output_type": "stream",
     "text": [
      "\r",
      " 12%|█▏        | 89/720 [01:54<15:38,  1.49s/it]"
     ]
    },
    {
     "name": "stderr",
     "output_type": "stream",
     "text": [
      "\r",
      " 12%|█▎        | 90/720 [01:56<15:38,  1.49s/it]"
     ]
    },
    {
     "name": "stderr",
     "output_type": "stream",
     "text": [
      "\r",
      " 13%|█▎        | 91/720 [01:57<15:26,  1.47s/it]"
     ]
    },
    {
     "name": "stderr",
     "output_type": "stream",
     "text": [
      "\r",
      " 13%|█▎        | 92/720 [01:58<15:14,  1.46s/it]"
     ]
    },
    {
     "name": "stderr",
     "output_type": "stream",
     "text": [
      "\r",
      " 13%|█▎        | 93/720 [02:00<15:43,  1.51s/it]"
     ]
    },
    {
     "name": "stderr",
     "output_type": "stream",
     "text": [
      "\r",
      " 13%|█▎        | 94/720 [02:01<14:57,  1.43s/it]"
     ]
    },
    {
     "name": "stderr",
     "output_type": "stream",
     "text": [
      "\r",
      " 13%|█▎        | 95/720 [02:03<16:00,  1.54s/it]"
     ]
    },
    {
     "name": "stderr",
     "output_type": "stream",
     "text": [
      "\r",
      " 13%|█▎        | 96/720 [02:05<16:35,  1.60s/it]"
     ]
    },
    {
     "name": "stderr",
     "output_type": "stream",
     "text": [
      "\r",
      " 13%|█▎        | 97/720 [02:06<15:46,  1.52s/it]"
     ]
    },
    {
     "name": "stderr",
     "output_type": "stream",
     "text": [
      "\r",
      " 14%|█▎        | 98/720 [02:07<15:00,  1.45s/it]"
     ]
    },
    {
     "name": "stderr",
     "output_type": "stream",
     "text": [
      "\r",
      " 14%|█▍        | 99/720 [02:09<15:17,  1.48s/it]"
     ]
    },
    {
     "name": "stderr",
     "output_type": "stream",
     "text": [
      "\r",
      " 14%|█▍        | 100/720 [02:11<16:16,  1.57s/it]"
     ]
    },
    {
     "name": "stderr",
     "output_type": "stream",
     "text": [
      "\r",
      " 14%|█▍        | 101/720 [02:12<15:35,  1.51s/it]"
     ]
    },
    {
     "name": "stderr",
     "output_type": "stream",
     "text": [
      "\r",
      " 14%|█▍        | 102/720 [02:14<16:14,  1.58s/it]"
     ]
    },
    {
     "name": "stderr",
     "output_type": "stream",
     "text": [
      "\r",
      " 14%|█▍        | 103/720 [02:15<15:45,  1.53s/it]"
     ]
    },
    {
     "name": "stderr",
     "output_type": "stream",
     "text": [
      "\r",
      " 14%|█▍        | 104/720 [02:17<14:57,  1.46s/it]"
     ]
    },
    {
     "name": "stderr",
     "output_type": "stream",
     "text": [
      "\r",
      " 15%|█▍        | 105/720 [02:18<14:38,  1.43s/it]"
     ]
    },
    {
     "name": "stderr",
     "output_type": "stream",
     "text": [
      "\r",
      " 15%|█▍        | 106/720 [02:19<14:23,  1.41s/it]"
     ]
    },
    {
     "name": "stderr",
     "output_type": "stream",
     "text": [
      "\r",
      " 15%|█▍        | 107/720 [02:21<14:19,  1.40s/it]"
     ]
    },
    {
     "name": "stderr",
     "output_type": "stream",
     "text": [
      "\r",
      " 15%|█▌        | 108/720 [02:22<13:54,  1.36s/it]"
     ]
    },
    {
     "name": "stderr",
     "output_type": "stream",
     "text": [
      "\r",
      " 15%|█▌        | 109/720 [02:24<15:21,  1.51s/it]"
     ]
    },
    {
     "name": "stderr",
     "output_type": "stream",
     "text": [
      "\r",
      " 15%|█▌        | 110/720 [02:25<14:37,  1.44s/it]"
     ]
    },
    {
     "name": "stderr",
     "output_type": "stream",
     "text": [
      "\r",
      " 15%|█▌        | 111/720 [02:27<14:47,  1.46s/it]"
     ]
    },
    {
     "name": "stderr",
     "output_type": "stream",
     "text": [
      "\r",
      " 16%|█▌        | 112/720 [02:28<14:43,  1.45s/it]"
     ]
    },
    {
     "name": "stderr",
     "output_type": "stream",
     "text": [
      "\r",
      " 16%|█▌        | 113/720 [02:30<15:11,  1.50s/it]"
     ]
    },
    {
     "name": "stderr",
     "output_type": "stream",
     "text": [
      "\r",
      " 16%|█▌        | 114/720 [02:31<14:47,  1.47s/it]"
     ]
    },
    {
     "name": "stderr",
     "output_type": "stream",
     "text": [
      "\r",
      " 16%|█▌        | 115/720 [02:33<15:58,  1.58s/it]"
     ]
    },
    {
     "name": "stderr",
     "output_type": "stream",
     "text": [
      "\r",
      " 16%|█▌        | 116/720 [02:34<15:31,  1.54s/it]"
     ]
    },
    {
     "name": "stderr",
     "output_type": "stream",
     "text": [
      "\r",
      " 16%|█▋        | 117/720 [02:36<14:40,  1.46s/it]"
     ]
    },
    {
     "name": "stderr",
     "output_type": "stream",
     "text": [
      "\r",
      " 16%|█▋        | 118/720 [02:37<15:19,  1.53s/it]"
     ]
    },
    {
     "name": "stderr",
     "output_type": "stream",
     "text": [
      "\r",
      " 17%|█▋        | 119/720 [02:39<14:29,  1.45s/it]"
     ]
    },
    {
     "name": "stderr",
     "output_type": "stream",
     "text": [
      "\r",
      " 17%|█▋        | 120/720 [02:40<13:57,  1.40s/it]"
     ]
    },
    {
     "name": "stderr",
     "output_type": "stream",
     "text": [
      "\r",
      " 17%|█▋        | 121/720 [02:41<14:13,  1.42s/it]"
     ]
    },
    {
     "name": "stderr",
     "output_type": "stream",
     "text": [
      "\r",
      " 17%|█▋        | 122/720 [02:43<14:33,  1.46s/it]"
     ]
    },
    {
     "name": "stderr",
     "output_type": "stream",
     "text": [
      "\r",
      " 17%|█▋        | 123/720 [02:44<14:38,  1.47s/it]"
     ]
    },
    {
     "name": "stderr",
     "output_type": "stream",
     "text": [
      "\r",
      " 17%|█▋        | 124/720 [02:46<15:05,  1.52s/it]"
     ]
    },
    {
     "name": "stderr",
     "output_type": "stream",
     "text": [
      "\r",
      " 17%|█▋        | 125/720 [02:48<15:32,  1.57s/it]"
     ]
    },
    {
     "name": "stderr",
     "output_type": "stream",
     "text": [
      "\r",
      " 18%|█▊        | 126/720 [02:49<15:12,  1.54s/it]"
     ]
    },
    {
     "name": "stderr",
     "output_type": "stream",
     "text": [
      "\r",
      " 18%|█▊        | 127/720 [02:51<15:47,  1.60s/it]"
     ]
    },
    {
     "name": "stderr",
     "output_type": "stream",
     "text": [
      "\r",
      " 18%|█▊        | 128/720 [02:52<14:59,  1.52s/it]"
     ]
    },
    {
     "name": "stderr",
     "output_type": "stream",
     "text": [
      "\r",
      " 18%|█▊        | 129/720 [02:54<14:57,  1.52s/it]"
     ]
    },
    {
     "name": "stderr",
     "output_type": "stream",
     "text": [
      "\r",
      " 18%|█▊        | 130/720 [02:55<14:50,  1.51s/it]"
     ]
    },
    {
     "name": "stderr",
     "output_type": "stream",
     "text": [
      "\r",
      " 18%|█▊        | 131/720 [02:57<14:19,  1.46s/it]"
     ]
    },
    {
     "name": "stderr",
     "output_type": "stream",
     "text": [
      "\r",
      " 18%|█▊        | 132/720 [02:58<13:46,  1.40s/it]"
     ]
    },
    {
     "name": "stderr",
     "output_type": "stream",
     "text": [
      "\r",
      " 18%|█▊        | 133/720 [02:59<13:50,  1.42s/it]"
     ]
    },
    {
     "name": "stderr",
     "output_type": "stream",
     "text": [
      "\r",
      " 19%|█▊        | 134/720 [03:01<14:03,  1.44s/it]"
     ]
    },
    {
     "name": "stderr",
     "output_type": "stream",
     "text": [
      "\r",
      " 19%|█▉        | 135/720 [03:02<14:04,  1.44s/it]"
     ]
    },
    {
     "name": "stderr",
     "output_type": "stream",
     "text": [
      "\r",
      " 19%|█▉        | 136/720 [03:04<14:25,  1.48s/it]"
     ]
    },
    {
     "name": "stderr",
     "output_type": "stream",
     "text": [
      "\r",
      " 19%|█▉        | 137/720 [03:05<13:53,  1.43s/it]"
     ]
    },
    {
     "name": "stderr",
     "output_type": "stream",
     "text": [
      "\r",
      " 19%|█▉        | 138/720 [03:07<13:52,  1.43s/it]"
     ]
    },
    {
     "name": "stderr",
     "output_type": "stream",
     "text": [
      "\r",
      " 19%|█▉        | 139/720 [03:08<13:33,  1.40s/it]"
     ]
    },
    {
     "name": "stderr",
     "output_type": "stream",
     "text": [
      "\r",
      " 19%|█▉        | 140/720 [03:09<13:58,  1.45s/it]"
     ]
    },
    {
     "name": "stderr",
     "output_type": "stream",
     "text": [
      "\r",
      " 20%|█▉        | 141/720 [03:11<14:53,  1.54s/it]"
     ]
    },
    {
     "name": "stderr",
     "output_type": "stream",
     "text": [
      "\r",
      " 20%|█▉        | 142/720 [03:13<16:10,  1.68s/it]"
     ]
    },
    {
     "name": "stderr",
     "output_type": "stream",
     "text": [
      "\r",
      " 20%|█▉        | 143/720 [03:15<15:08,  1.57s/it]"
     ]
    },
    {
     "name": "stderr",
     "output_type": "stream",
     "text": [
      "\r",
      " 20%|██        | 144/720 [03:16<14:24,  1.50s/it]"
     ]
    },
    {
     "name": "stderr",
     "output_type": "stream",
     "text": [
      "\r",
      " 20%|██        | 145/720 [03:17<14:07,  1.47s/it]"
     ]
    },
    {
     "name": "stderr",
     "output_type": "stream",
     "text": [
      "\r",
      " 20%|██        | 146/720 [03:19<13:55,  1.45s/it]"
     ]
    },
    {
     "name": "stderr",
     "output_type": "stream",
     "text": [
      "\r",
      " 20%|██        | 147/720 [03:20<13:32,  1.42s/it]"
     ]
    },
    {
     "name": "stderr",
     "output_type": "stream",
     "text": [
      "\r",
      " 21%|██        | 148/720 [03:22<14:34,  1.53s/it]"
     ]
    },
    {
     "name": "stderr",
     "output_type": "stream",
     "text": [
      "\r",
      " 21%|██        | 149/720 [03:24<16:07,  1.69s/it]"
     ]
    },
    {
     "name": "stderr",
     "output_type": "stream",
     "text": [
      "\r",
      " 21%|██        | 150/720 [03:25<15:06,  1.59s/it]"
     ]
    },
    {
     "name": "stderr",
     "output_type": "stream",
     "text": [
      "\r",
      " 21%|██        | 151/720 [03:27<16:01,  1.69s/it]"
     ]
    },
    {
     "name": "stderr",
     "output_type": "stream",
     "text": [
      "\r",
      " 21%|██        | 152/720 [03:29<14:59,  1.58s/it]"
     ]
    },
    {
     "name": "stderr",
     "output_type": "stream",
     "text": [
      "\r",
      " 21%|██▏       | 153/720 [03:30<14:15,  1.51s/it]"
     ]
    },
    {
     "name": "stderr",
     "output_type": "stream",
     "text": [
      "\r",
      " 21%|██▏       | 154/720 [03:31<13:47,  1.46s/it]"
     ]
    },
    {
     "name": "stderr",
     "output_type": "stream",
     "text": [
      "\r",
      " 22%|██▏       | 155/720 [03:33<13:40,  1.45s/it]"
     ]
    },
    {
     "name": "stderr",
     "output_type": "stream",
     "text": [
      "\r",
      " 22%|██▏       | 156/720 [03:34<13:30,  1.44s/it]"
     ]
    },
    {
     "name": "stderr",
     "output_type": "stream",
     "text": [
      "\r",
      " 22%|██▏       | 157/720 [03:36<14:09,  1.51s/it]"
     ]
    },
    {
     "name": "stderr",
     "output_type": "stream",
     "text": [
      "\r",
      " 22%|██▏       | 158/720 [03:37<13:38,  1.46s/it]"
     ]
    },
    {
     "name": "stderr",
     "output_type": "stream",
     "text": [
      "\r",
      " 22%|██▏       | 159/720 [03:39<14:10,  1.52s/it]"
     ]
    },
    {
     "name": "stderr",
     "output_type": "stream",
     "text": [
      "\r",
      " 22%|██▏       | 160/720 [03:40<13:50,  1.48s/it]"
     ]
    },
    {
     "name": "stderr",
     "output_type": "stream",
     "text": [
      "\r",
      " 22%|██▏       | 161/720 [03:42<13:53,  1.49s/it]"
     ]
    },
    {
     "name": "stderr",
     "output_type": "stream",
     "text": [
      "\r",
      " 22%|██▎       | 162/720 [03:43<13:26,  1.44s/it]"
     ]
    },
    {
     "name": "stderr",
     "output_type": "stream",
     "text": [
      "\r",
      " 23%|██▎       | 163/720 [03:44<13:09,  1.42s/it]"
     ]
    },
    {
     "name": "stderr",
     "output_type": "stream",
     "text": [
      "\r",
      " 23%|██▎       | 164/720 [03:46<12:53,  1.39s/it]"
     ]
    },
    {
     "name": "stderr",
     "output_type": "stream",
     "text": [
      "\r",
      " 23%|██▎       | 165/720 [03:47<12:42,  1.37s/it]"
     ]
    },
    {
     "name": "stderr",
     "output_type": "stream",
     "text": [
      "\r",
      " 23%|██▎       | 166/720 [03:48<12:52,  1.39s/it]"
     ]
    },
    {
     "name": "stderr",
     "output_type": "stream",
     "text": [
      "\r",
      " 23%|██▎       | 167/720 [03:50<12:32,  1.36s/it]"
     ]
    },
    {
     "name": "stderr",
     "output_type": "stream",
     "text": [
      "\r",
      " 23%|██▎       | 168/720 [03:51<12:17,  1.34s/it]"
     ]
    },
    {
     "name": "stderr",
     "output_type": "stream",
     "text": [
      "\r",
      " 23%|██▎       | 169/720 [03:52<12:37,  1.37s/it]"
     ]
    },
    {
     "name": "stderr",
     "output_type": "stream",
     "text": [
      "\r",
      " 24%|██▎       | 170/720 [03:54<12:30,  1.37s/it]"
     ]
    },
    {
     "name": "stderr",
     "output_type": "stream",
     "text": [
      "\r",
      " 24%|██▍       | 171/720 [03:55<12:20,  1.35s/it]"
     ]
    },
    {
     "name": "stderr",
     "output_type": "stream",
     "text": [
      "\r",
      " 24%|██▍       | 172/720 [03:57<12:45,  1.40s/it]"
     ]
    },
    {
     "name": "stderr",
     "output_type": "stream",
     "text": [
      "\r",
      " 24%|██▍       | 173/720 [03:58<13:18,  1.46s/it]"
     ]
    },
    {
     "name": "stderr",
     "output_type": "stream",
     "text": [
      "\r",
      " 24%|██▍       | 174/720 [04:00<13:03,  1.43s/it]"
     ]
    },
    {
     "name": "stderr",
     "output_type": "stream",
     "text": [
      "\r",
      " 24%|██▍       | 175/720 [04:01<13:30,  1.49s/it]"
     ]
    },
    {
     "name": "stderr",
     "output_type": "stream",
     "text": [
      "\r",
      " 24%|██▍       | 176/720 [04:03<13:32,  1.49s/it]"
     ]
    },
    {
     "name": "stderr",
     "output_type": "stream",
     "text": [
      "\r",
      " 25%|██▍       | 177/720 [04:04<12:59,  1.44s/it]"
     ]
    },
    {
     "name": "stderr",
     "output_type": "stream",
     "text": [
      "\r",
      " 25%|██▍       | 178/720 [04:05<13:04,  1.45s/it]"
     ]
    },
    {
     "name": "stderr",
     "output_type": "stream",
     "text": [
      "\r",
      " 25%|██▍       | 179/720 [04:07<13:26,  1.49s/it]"
     ]
    },
    {
     "name": "stderr",
     "output_type": "stream",
     "text": [
      "\r",
      " 25%|██▌       | 180/720 [04:09<13:26,  1.49s/it]"
     ]
    },
    {
     "name": "stderr",
     "output_type": "stream",
     "text": [
      "\r",
      " 25%|██▌       | 181/720 [04:10<13:21,  1.49s/it]"
     ]
    },
    {
     "name": "stderr",
     "output_type": "stream",
     "text": [
      "\r",
      " 25%|██▌       | 182/720 [04:12<13:41,  1.53s/it]"
     ]
    },
    {
     "name": "stderr",
     "output_type": "stream",
     "text": [
      "\r",
      " 25%|██▌       | 183/720 [04:13<13:27,  1.50s/it]"
     ]
    },
    {
     "name": "stderr",
     "output_type": "stream",
     "text": [
      "\r",
      " 26%|██▌       | 184/720 [04:15<13:22,  1.50s/it]"
     ]
    },
    {
     "name": "stderr",
     "output_type": "stream",
     "text": [
      "\r",
      " 26%|██▌       | 185/720 [04:16<13:13,  1.48s/it]"
     ]
    },
    {
     "name": "stderr",
     "output_type": "stream",
     "text": [
      "\r",
      " 26%|██▌       | 186/720 [04:17<12:59,  1.46s/it]"
     ]
    },
    {
     "name": "stderr",
     "output_type": "stream",
     "text": [
      "\r",
      " 26%|██▌       | 187/720 [04:19<12:58,  1.46s/it]"
     ]
    },
    {
     "name": "stderr",
     "output_type": "stream",
     "text": [
      "\r",
      " 26%|██▌       | 188/720 [04:20<13:10,  1.49s/it]"
     ]
    },
    {
     "name": "stderr",
     "output_type": "stream",
     "text": [
      "\r",
      " 26%|██▋       | 189/720 [04:22<12:51,  1.45s/it]"
     ]
    },
    {
     "name": "stderr",
     "output_type": "stream",
     "text": [
      "\r",
      " 26%|██▋       | 190/720 [04:23<12:36,  1.43s/it]"
     ]
    },
    {
     "name": "stderr",
     "output_type": "stream",
     "text": [
      "\r",
      " 27%|██▋       | 191/720 [04:25<12:41,  1.44s/it]"
     ]
    },
    {
     "name": "stderr",
     "output_type": "stream",
     "text": [
      "\r",
      " 27%|██▋       | 192/720 [04:26<13:29,  1.53s/it]"
     ]
    },
    {
     "name": "stderr",
     "output_type": "stream",
     "text": [
      "\r",
      " 27%|██▋       | 193/720 [04:28<13:19,  1.52s/it]"
     ]
    },
    {
     "name": "stderr",
     "output_type": "stream",
     "text": [
      "\r",
      " 27%|██▋       | 194/720 [04:29<12:57,  1.48s/it]"
     ]
    },
    {
     "name": "stderr",
     "output_type": "stream",
     "text": [
      "\r",
      " 27%|██▋       | 195/720 [04:31<12:42,  1.45s/it]"
     ]
    },
    {
     "name": "stderr",
     "output_type": "stream",
     "text": [
      "\r",
      " 27%|██▋       | 196/720 [04:32<12:56,  1.48s/it]"
     ]
    },
    {
     "name": "stderr",
     "output_type": "stream",
     "text": [
      "\r",
      " 27%|██▋       | 197/720 [04:34<12:54,  1.48s/it]"
     ]
    },
    {
     "name": "stderr",
     "output_type": "stream",
     "text": [
      "\r",
      " 28%|██▊       | 198/720 [04:35<12:38,  1.45s/it]"
     ]
    },
    {
     "name": "stderr",
     "output_type": "stream",
     "text": [
      "\r",
      " 28%|██▊       | 199/720 [04:37<12:37,  1.45s/it]"
     ]
    },
    {
     "name": "stderr",
     "output_type": "stream",
     "text": [
      "\r",
      " 28%|██▊       | 200/720 [04:38<12:24,  1.43s/it]"
     ]
    },
    {
     "name": "stderr",
     "output_type": "stream",
     "text": [
      "\r",
      " 28%|██▊       | 201/720 [04:39<12:13,  1.41s/it]"
     ]
    },
    {
     "name": "stderr",
     "output_type": "stream",
     "text": [
      "\r",
      " 28%|██▊       | 202/720 [04:41<12:06,  1.40s/it]"
     ]
    },
    {
     "name": "stderr",
     "output_type": "stream",
     "text": [
      "\r",
      " 28%|██▊       | 203/720 [04:43<13:18,  1.54s/it]"
     ]
    },
    {
     "name": "stderr",
     "output_type": "stream",
     "text": [
      "\r",
      " 28%|██▊       | 204/720 [04:44<12:51,  1.50s/it]"
     ]
    },
    {
     "name": "stderr",
     "output_type": "stream",
     "text": [
      "\r",
      " 28%|██▊       | 205/720 [04:46<14:25,  1.68s/it]"
     ]
    },
    {
     "name": "stderr",
     "output_type": "stream",
     "text": [
      "\r",
      " 29%|██▊       | 206/720 [04:48<14:28,  1.69s/it]"
     ]
    },
    {
     "name": "stderr",
     "output_type": "stream",
     "text": [
      "\r",
      " 29%|██▉       | 207/720 [04:49<13:39,  1.60s/it]"
     ]
    },
    {
     "name": "stderr",
     "output_type": "stream",
     "text": [
      "\r",
      " 29%|██▉       | 208/720 [04:51<13:27,  1.58s/it]"
     ]
    },
    {
     "name": "stderr",
     "output_type": "stream",
     "text": [
      "\r",
      " 29%|██▉       | 209/720 [04:52<12:53,  1.51s/it]"
     ]
    },
    {
     "name": "stderr",
     "output_type": "stream",
     "text": [
      "\r",
      " 29%|██▉       | 210/720 [04:53<12:30,  1.47s/it]"
     ]
    },
    {
     "name": "stderr",
     "output_type": "stream",
     "text": [
      "\r",
      " 29%|██▉       | 211/720 [04:55<13:13,  1.56s/it]"
     ]
    },
    {
     "name": "stderr",
     "output_type": "stream",
     "text": [
      "\r",
      " 29%|██▉       | 212/720 [04:57<12:58,  1.53s/it]"
     ]
    },
    {
     "name": "stderr",
     "output_type": "stream",
     "text": [
      "\r",
      " 30%|██▉       | 213/720 [04:58<12:43,  1.50s/it]"
     ]
    },
    {
     "name": "stderr",
     "output_type": "stream",
     "text": [
      "\r",
      " 30%|██▉       | 214/720 [05:00<12:53,  1.53s/it]"
     ]
    },
    {
     "name": "stderr",
     "output_type": "stream",
     "text": [
      "\r",
      " 30%|██▉       | 215/720 [05:01<12:29,  1.48s/it]"
     ]
    },
    {
     "name": "stderr",
     "output_type": "stream",
     "text": [
      "\r",
      " 30%|███       | 216/720 [05:03<12:59,  1.55s/it]"
     ]
    },
    {
     "name": "stderr",
     "output_type": "stream",
     "text": [
      "\r",
      " 30%|███       | 217/720 [05:04<12:49,  1.53s/it]"
     ]
    },
    {
     "name": "stderr",
     "output_type": "stream",
     "text": [
      "\r",
      " 30%|███       | 218/720 [05:06<13:18,  1.59s/it]"
     ]
    },
    {
     "name": "stderr",
     "output_type": "stream",
     "text": [
      "\r",
      " 30%|███       | 219/720 [05:08<13:25,  1.61s/it]"
     ]
    },
    {
     "name": "stderr",
     "output_type": "stream",
     "text": [
      "\r",
      " 31%|███       | 220/720 [05:09<13:25,  1.61s/it]"
     ]
    },
    {
     "name": "stderr",
     "output_type": "stream",
     "text": [
      "\r",
      " 31%|███       | 221/720 [05:11<13:08,  1.58s/it]"
     ]
    },
    {
     "name": "stderr",
     "output_type": "stream",
     "text": [
      "\r",
      " 31%|███       | 222/720 [05:12<13:35,  1.64s/it]"
     ]
    },
    {
     "name": "stderr",
     "output_type": "stream",
     "text": [
      "\r",
      " 31%|███       | 223/720 [05:14<13:15,  1.60s/it]"
     ]
    },
    {
     "name": "stderr",
     "output_type": "stream",
     "text": [
      "\r",
      " 31%|███       | 224/720 [05:16<13:47,  1.67s/it]"
     ]
    },
    {
     "name": "stderr",
     "output_type": "stream",
     "text": [
      "\r",
      " 31%|███▏      | 225/720 [05:17<13:20,  1.62s/it]"
     ]
    },
    {
     "name": "stderr",
     "output_type": "stream",
     "text": [
      "\r",
      " 31%|███▏      | 226/720 [05:19<13:08,  1.60s/it]"
     ]
    },
    {
     "name": "stderr",
     "output_type": "stream",
     "text": [
      "\r",
      " 32%|███▏      | 227/720 [05:21<14:03,  1.71s/it]"
     ]
    },
    {
     "name": "stderr",
     "output_type": "stream",
     "text": [
      "\r",
      " 32%|███▏      | 228/720 [05:22<13:22,  1.63s/it]"
     ]
    },
    {
     "name": "stderr",
     "output_type": "stream",
     "text": [
      "\r",
      " 32%|███▏      | 229/720 [05:24<12:58,  1.59s/it]"
     ]
    },
    {
     "name": "stderr",
     "output_type": "stream",
     "text": [
      "\r",
      " 32%|███▏      | 230/720 [05:25<12:40,  1.55s/it]"
     ]
    },
    {
     "name": "stderr",
     "output_type": "stream",
     "text": [
      "\r",
      " 32%|███▏      | 231/720 [05:27<12:43,  1.56s/it]"
     ]
    },
    {
     "name": "stderr",
     "output_type": "stream",
     "text": [
      "\r",
      " 32%|███▏      | 232/720 [05:28<12:36,  1.55s/it]"
     ]
    },
    {
     "name": "stderr",
     "output_type": "stream",
     "text": [
      "\r",
      " 32%|███▏      | 233/720 [05:30<13:51,  1.71s/it]"
     ]
    },
    {
     "name": "stderr",
     "output_type": "stream",
     "text": [
      "\r",
      " 32%|███▎      | 234/720 [05:32<13:31,  1.67s/it]"
     ]
    },
    {
     "name": "stderr",
     "output_type": "stream",
     "text": [
      "\r",
      " 33%|███▎      | 235/720 [05:33<12:53,  1.60s/it]"
     ]
    },
    {
     "name": "stderr",
     "output_type": "stream",
     "text": [
      "\r",
      " 33%|███▎      | 236/720 [05:35<12:31,  1.55s/it]"
     ]
    },
    {
     "name": "stderr",
     "output_type": "stream",
     "text": [
      "\r",
      " 33%|███▎      | 237/720 [05:36<12:26,  1.55s/it]"
     ]
    },
    {
     "name": "stderr",
     "output_type": "stream",
     "text": [
      "\r",
      " 33%|███▎      | 238/720 [05:38<12:22,  1.54s/it]"
     ]
    },
    {
     "name": "stderr",
     "output_type": "stream",
     "text": [
      "\r",
      " 33%|███▎      | 239/720 [05:39<12:19,  1.54s/it]"
     ]
    },
    {
     "name": "stderr",
     "output_type": "stream",
     "text": [
      "\r",
      " 33%|███▎      | 240/720 [05:41<12:06,  1.51s/it]"
     ]
    },
    {
     "name": "stderr",
     "output_type": "stream",
     "text": [
      "\r",
      " 33%|███▎      | 241/720 [05:42<12:05,  1.51s/it]"
     ]
    },
    {
     "name": "stderr",
     "output_type": "stream",
     "text": [
      "\r",
      " 34%|███▎      | 242/720 [05:44<12:54,  1.62s/it]"
     ]
    },
    {
     "name": "stderr",
     "output_type": "stream",
     "text": [
      "\r",
      " 34%|███▍      | 243/720 [05:46<12:28,  1.57s/it]"
     ]
    },
    {
     "name": "stderr",
     "output_type": "stream",
     "text": [
      "\r",
      " 34%|███▍      | 244/720 [05:47<12:08,  1.53s/it]"
     ]
    },
    {
     "name": "stderr",
     "output_type": "stream",
     "text": [
      "\r",
      " 34%|███▍      | 245/720 [05:49<12:43,  1.61s/it]"
     ]
    },
    {
     "name": "stderr",
     "output_type": "stream",
     "text": [
      "\r",
      " 34%|███▍      | 246/720 [05:50<12:18,  1.56s/it]"
     ]
    },
    {
     "name": "stderr",
     "output_type": "stream",
     "text": [
      "\r",
      " 34%|███▍      | 247/720 [05:52<12:22,  1.57s/it]"
     ]
    },
    {
     "name": "stderr",
     "output_type": "stream",
     "text": [
      "\r",
      " 34%|███▍      | 248/720 [05:53<12:02,  1.53s/it]"
     ]
    },
    {
     "name": "stderr",
     "output_type": "stream",
     "text": [
      "\r",
      " 35%|███▍      | 249/720 [05:55<12:09,  1.55s/it]"
     ]
    },
    {
     "name": "stderr",
     "output_type": "stream",
     "text": [
      "\r",
      " 35%|███▍      | 250/720 [05:57<12:42,  1.62s/it]"
     ]
    },
    {
     "name": "stderr",
     "output_type": "stream",
     "text": [
      "\r",
      " 35%|███▍      | 251/720 [05:58<12:27,  1.59s/it]"
     ]
    },
    {
     "name": "stderr",
     "output_type": "stream",
     "text": [
      "\r",
      " 35%|███▌      | 252/720 [06:00<13:00,  1.67s/it]"
     ]
    },
    {
     "name": "stderr",
     "output_type": "stream",
     "text": [
      "\r",
      " 35%|███▌      | 253/720 [06:02<12:46,  1.64s/it]"
     ]
    },
    {
     "name": "stderr",
     "output_type": "stream",
     "text": [
      "\r",
      " 35%|███▌      | 254/720 [06:03<12:18,  1.58s/it]"
     ]
    },
    {
     "name": "stderr",
     "output_type": "stream",
     "text": [
      "\r",
      " 35%|███▌      | 255/720 [06:05<12:19,  1.59s/it]"
     ]
    },
    {
     "name": "stderr",
     "output_type": "stream",
     "text": [
      "\r",
      " 36%|███▌      | 256/720 [06:07<12:36,  1.63s/it]"
     ]
    },
    {
     "name": "stderr",
     "output_type": "stream",
     "text": [
      "\r",
      " 36%|███▌      | 257/720 [06:08<12:18,  1.59s/it]"
     ]
    },
    {
     "name": "stderr",
     "output_type": "stream",
     "text": [
      "\r",
      " 36%|███▌      | 258/720 [06:10<11:53,  1.54s/it]"
     ]
    },
    {
     "name": "stderr",
     "output_type": "stream",
     "text": [
      "\r",
      " 36%|███▌      | 259/720 [06:11<12:08,  1.58s/it]"
     ]
    },
    {
     "name": "stderr",
     "output_type": "stream",
     "text": [
      "\r",
      " 36%|███▌      | 260/720 [06:13<11:46,  1.54s/it]"
     ]
    },
    {
     "name": "stderr",
     "output_type": "stream",
     "text": [
      "\r",
      " 36%|███▋      | 261/720 [06:14<12:10,  1.59s/it]"
     ]
    },
    {
     "name": "stderr",
     "output_type": "stream",
     "text": [
      "\r",
      " 36%|███▋      | 262/720 [06:16<12:10,  1.59s/it]"
     ]
    },
    {
     "name": "stderr",
     "output_type": "stream",
     "text": [
      "\r",
      " 37%|███▋      | 263/720 [06:17<11:43,  1.54s/it]"
     ]
    },
    {
     "name": "stderr",
     "output_type": "stream",
     "text": [
      "\r",
      " 37%|███▋      | 264/720 [06:19<11:24,  1.50s/it]"
     ]
    },
    {
     "name": "stderr",
     "output_type": "stream",
     "text": [
      "\r",
      " 37%|███▋      | 265/720 [06:20<11:34,  1.53s/it]"
     ]
    },
    {
     "name": "stderr",
     "output_type": "stream",
     "text": [
      "\r",
      " 37%|███▋      | 266/720 [06:22<11:42,  1.55s/it]"
     ]
    },
    {
     "name": "stderr",
     "output_type": "stream",
     "text": [
      "\r",
      " 37%|███▋      | 267/720 [06:23<11:27,  1.52s/it]"
     ]
    },
    {
     "name": "stderr",
     "output_type": "stream",
     "text": [
      "\r",
      " 37%|███▋      | 268/720 [06:25<12:18,  1.63s/it]"
     ]
    },
    {
     "name": "stderr",
     "output_type": "stream",
     "text": [
      "\r",
      " 37%|███▋      | 269/720 [06:27<12:28,  1.66s/it]"
     ]
    },
    {
     "name": "stderr",
     "output_type": "stream",
     "text": [
      "\r",
      " 38%|███▊      | 270/720 [06:28<11:58,  1.60s/it]"
     ]
    },
    {
     "name": "stderr",
     "output_type": "stream",
     "text": [
      "\r",
      " 38%|███▊      | 271/720 [06:30<12:46,  1.71s/it]"
     ]
    },
    {
     "name": "stderr",
     "output_type": "stream",
     "text": [
      "\r",
      " 38%|███▊      | 272/720 [06:32<12:19,  1.65s/it]"
     ]
    },
    {
     "name": "stderr",
     "output_type": "stream",
     "text": [
      "\r",
      " 38%|███▊      | 273/720 [06:33<11:53,  1.60s/it]"
     ]
    },
    {
     "name": "stderr",
     "output_type": "stream",
     "text": [
      "\r",
      " 38%|███▊      | 274/720 [06:35<11:53,  1.60s/it]"
     ]
    },
    {
     "name": "stderr",
     "output_type": "stream",
     "text": [
      "\r",
      " 38%|███▊      | 275/720 [06:37<11:41,  1.58s/it]"
     ]
    },
    {
     "name": "stderr",
     "output_type": "stream",
     "text": [
      "\r",
      " 38%|███▊      | 276/720 [06:38<11:24,  1.54s/it]"
     ]
    },
    {
     "name": "stderr",
     "output_type": "stream",
     "text": [
      "\r",
      " 38%|███▊      | 277/720 [06:40<11:35,  1.57s/it]"
     ]
    },
    {
     "name": "stderr",
     "output_type": "stream",
     "text": [
      "\r",
      " 39%|███▊      | 278/720 [06:41<11:35,  1.57s/it]"
     ]
    },
    {
     "name": "stderr",
     "output_type": "stream",
     "text": [
      "\r",
      " 39%|███▉      | 279/720 [06:43<11:17,  1.54s/it]"
     ]
    },
    {
     "name": "stderr",
     "output_type": "stream",
     "text": [
      "\r",
      " 39%|███▉      | 280/720 [06:44<11:07,  1.52s/it]"
     ]
    },
    {
     "name": "stderr",
     "output_type": "stream",
     "text": [
      "\r",
      " 39%|███▉      | 281/720 [06:46<12:12,  1.67s/it]"
     ]
    },
    {
     "name": "stderr",
     "output_type": "stream",
     "text": [
      "\r",
      " 39%|███▉      | 282/720 [06:48<11:46,  1.61s/it]"
     ]
    },
    {
     "name": "stderr",
     "output_type": "stream",
     "text": [
      "\r",
      " 39%|███▉      | 283/720 [06:49<11:25,  1.57s/it]"
     ]
    },
    {
     "name": "stderr",
     "output_type": "stream",
     "text": [
      "\r",
      " 39%|███▉      | 284/720 [06:51<11:30,  1.58s/it]"
     ]
    },
    {
     "name": "stderr",
     "output_type": "stream",
     "text": [
      "\r",
      " 40%|███▉      | 285/720 [06:52<11:14,  1.55s/it]"
     ]
    },
    {
     "name": "stderr",
     "output_type": "stream",
     "text": [
      "\r",
      " 40%|███▉      | 286/720 [06:54<11:38,  1.61s/it]"
     ]
    },
    {
     "name": "stderr",
     "output_type": "stream",
     "text": [
      "\r",
      " 40%|███▉      | 287/720 [06:56<11:57,  1.66s/it]"
     ]
    },
    {
     "name": "stderr",
     "output_type": "stream",
     "text": [
      "\r",
      " 40%|████      | 288/720 [06:57<11:40,  1.62s/it]"
     ]
    },
    {
     "name": "stderr",
     "output_type": "stream",
     "text": [
      "\r",
      " 40%|████      | 289/720 [06:59<11:19,  1.58s/it]"
     ]
    },
    {
     "name": "stderr",
     "output_type": "stream",
     "text": [
      "\r",
      " 40%|████      | 290/720 [07:00<11:21,  1.58s/it]"
     ]
    },
    {
     "name": "stderr",
     "output_type": "stream",
     "text": [
      "\r",
      " 40%|████      | 291/720 [07:02<11:36,  1.62s/it]"
     ]
    },
    {
     "name": "stderr",
     "output_type": "stream",
     "text": [
      "\r",
      " 41%|████      | 292/720 [07:04<11:11,  1.57s/it]"
     ]
    },
    {
     "name": "stderr",
     "output_type": "stream",
     "text": [
      "\r",
      " 41%|████      | 293/720 [07:05<11:09,  1.57s/it]"
     ]
    },
    {
     "name": "stderr",
     "output_type": "stream",
     "text": [
      "\r",
      " 41%|████      | 294/720 [07:07<12:13,  1.72s/it]"
     ]
    },
    {
     "name": "stderr",
     "output_type": "stream",
     "text": [
      "\r",
      " 41%|████      | 295/720 [07:09<11:47,  1.66s/it]"
     ]
    },
    {
     "name": "stderr",
     "output_type": "stream",
     "text": [
      "\r",
      " 41%|████      | 296/720 [07:10<12:02,  1.70s/it]"
     ]
    },
    {
     "name": "stderr",
     "output_type": "stream",
     "text": [
      "\r",
      " 41%|████▏     | 297/720 [07:12<11:44,  1.66s/it]"
     ]
    },
    {
     "name": "stderr",
     "output_type": "stream",
     "text": [
      "\r",
      " 41%|████▏     | 298/720 [07:14<11:17,  1.60s/it]"
     ]
    },
    {
     "name": "stderr",
     "output_type": "stream",
     "text": [
      "\r",
      " 42%|████▏     | 299/720 [07:15<11:13,  1.60s/it]"
     ]
    },
    {
     "name": "stderr",
     "output_type": "stream",
     "text": [
      "\r",
      " 42%|████▏     | 300/720 [07:17<10:55,  1.56s/it]"
     ]
    },
    {
     "name": "stderr",
     "output_type": "stream",
     "text": [
      "\r",
      " 42%|████▏     | 301/720 [07:18<11:31,  1.65s/it]"
     ]
    },
    {
     "name": "stderr",
     "output_type": "stream",
     "text": [
      "\r",
      " 42%|████▏     | 302/720 [07:20<11:29,  1.65s/it]"
     ]
    },
    {
     "name": "stderr",
     "output_type": "stream",
     "text": [
      "\r",
      " 42%|████▏     | 303/720 [07:22<11:07,  1.60s/it]"
     ]
    },
    {
     "name": "stderr",
     "output_type": "stream",
     "text": [
      "\r",
      " 42%|████▏     | 304/720 [07:23<11:39,  1.68s/it]"
     ]
    },
    {
     "name": "stderr",
     "output_type": "stream",
     "text": [
      "\r",
      " 42%|████▏     | 305/720 [07:25<11:14,  1.63s/it]"
     ]
    },
    {
     "name": "stderr",
     "output_type": "stream",
     "text": [
      "\r",
      " 42%|████▎     | 306/720 [07:27<11:46,  1.71s/it]"
     ]
    },
    {
     "name": "stderr",
     "output_type": "stream",
     "text": [
      "\r",
      " 43%|████▎     | 307/720 [07:29<12:23,  1.80s/it]"
     ]
    },
    {
     "name": "stderr",
     "output_type": "stream",
     "text": [
      "\r",
      " 43%|████▎     | 308/720 [07:30<11:41,  1.70s/it]"
     ]
    },
    {
     "name": "stderr",
     "output_type": "stream",
     "text": [
      "\r",
      " 43%|████▎     | 309/720 [07:32<12:00,  1.75s/it]"
     ]
    },
    {
     "name": "stderr",
     "output_type": "stream",
     "text": [
      "\r",
      " 43%|████▎     | 310/720 [07:34<12:02,  1.76s/it]"
     ]
    },
    {
     "name": "stderr",
     "output_type": "stream",
     "text": [
      "\r",
      " 43%|████▎     | 311/720 [07:36<11:45,  1.72s/it]"
     ]
    },
    {
     "name": "stderr",
     "output_type": "stream",
     "text": [
      "\r",
      " 43%|████▎     | 312/720 [07:37<11:45,  1.73s/it]"
     ]
    },
    {
     "name": "stderr",
     "output_type": "stream",
     "text": [
      "\r",
      " 43%|████▎     | 313/720 [07:39<11:28,  1.69s/it]"
     ]
    },
    {
     "name": "stderr",
     "output_type": "stream",
     "text": [
      "\r",
      " 44%|████▎     | 314/720 [07:41<11:35,  1.71s/it]"
     ]
    },
    {
     "name": "stderr",
     "output_type": "stream",
     "text": [
      "\r",
      " 44%|████▍     | 315/720 [07:42<11:24,  1.69s/it]"
     ]
    },
    {
     "name": "stderr",
     "output_type": "stream",
     "text": [
      "\r",
      " 44%|████▍     | 316/720 [07:44<11:19,  1.68s/it]"
     ]
    },
    {
     "name": "stderr",
     "output_type": "stream",
     "text": [
      "\r",
      " 44%|████▍     | 317/720 [07:46<11:18,  1.68s/it]"
     ]
    },
    {
     "name": "stderr",
     "output_type": "stream",
     "text": [
      "\r",
      " 44%|████▍     | 318/720 [07:47<11:19,  1.69s/it]"
     ]
    },
    {
     "name": "stderr",
     "output_type": "stream",
     "text": [
      "\r",
      " 44%|████▍     | 319/720 [07:49<11:15,  1.69s/it]"
     ]
    },
    {
     "name": "stderr",
     "output_type": "stream",
     "text": [
      "\r",
      " 44%|████▍     | 320/720 [07:51<12:03,  1.81s/it]"
     ]
    },
    {
     "name": "stderr",
     "output_type": "stream",
     "text": [
      "\r",
      " 45%|████▍     | 321/720 [07:53<12:48,  1.93s/it]"
     ]
    },
    {
     "name": "stderr",
     "output_type": "stream",
     "text": [
      "\r",
      " 45%|████▍     | 322/720 [07:55<12:44,  1.92s/it]"
     ]
    },
    {
     "name": "stderr",
     "output_type": "stream",
     "text": [
      "\r",
      " 45%|████▍     | 323/720 [07:57<11:54,  1.80s/it]"
     ]
    },
    {
     "name": "stderr",
     "output_type": "stream",
     "text": [
      "\r",
      " 45%|████▌     | 324/720 [07:59<11:43,  1.78s/it]"
     ]
    },
    {
     "name": "stderr",
     "output_type": "stream",
     "text": [
      "\r",
      " 45%|████▌     | 325/720 [08:00<11:13,  1.70s/it]"
     ]
    },
    {
     "name": "stderr",
     "output_type": "stream",
     "text": [
      "\r",
      " 45%|████▌     | 326/720 [08:02<11:51,  1.81s/it]"
     ]
    },
    {
     "name": "stderr",
     "output_type": "stream",
     "text": [
      "\r",
      " 45%|████▌     | 327/720 [08:04<11:25,  1.74s/it]"
     ]
    },
    {
     "name": "stderr",
     "output_type": "stream",
     "text": [
      "\r",
      " 46%|████▌     | 328/720 [08:06<11:29,  1.76s/it]"
     ]
    },
    {
     "name": "stderr",
     "output_type": "stream",
     "text": [
      "\r",
      " 46%|████▌     | 329/720 [08:07<11:01,  1.69s/it]"
     ]
    },
    {
     "name": "stderr",
     "output_type": "stream",
     "text": [
      "\r",
      " 46%|████▌     | 330/720 [08:09<11:49,  1.82s/it]"
     ]
    },
    {
     "name": "stderr",
     "output_type": "stream",
     "text": [
      "\r",
      " 46%|████▌     | 331/720 [08:11<11:14,  1.73s/it]"
     ]
    },
    {
     "name": "stderr",
     "output_type": "stream",
     "text": [
      "\r",
      " 46%|████▌     | 332/720 [08:13<11:59,  1.86s/it]"
     ]
    },
    {
     "name": "stderr",
     "output_type": "stream",
     "text": [
      "\r",
      " 46%|████▋     | 333/720 [08:14<11:36,  1.80s/it]"
     ]
    },
    {
     "name": "stderr",
     "output_type": "stream",
     "text": [
      "\r",
      " 46%|████▋     | 334/720 [08:16<11:13,  1.74s/it]"
     ]
    },
    {
     "name": "stderr",
     "output_type": "stream",
     "text": [
      "\r",
      " 47%|████▋     | 335/720 [08:18<11:06,  1.73s/it]"
     ]
    },
    {
     "name": "stderr",
     "output_type": "stream",
     "text": [
      "\r",
      " 47%|████▋     | 336/720 [08:19<10:45,  1.68s/it]"
     ]
    },
    {
     "name": "stderr",
     "output_type": "stream",
     "text": [
      "\r",
      " 47%|████▋     | 337/720 [08:21<10:37,  1.66s/it]"
     ]
    },
    {
     "name": "stderr",
     "output_type": "stream",
     "text": [
      "\r",
      " 47%|████▋     | 338/720 [08:23<10:28,  1.65s/it]"
     ]
    },
    {
     "name": "stderr",
     "output_type": "stream",
     "text": [
      "\r",
      " 47%|████▋     | 339/720 [08:25<11:11,  1.76s/it]"
     ]
    },
    {
     "name": "stderr",
     "output_type": "stream",
     "text": [
      "\r",
      " 47%|████▋     | 340/720 [08:27<11:29,  1.82s/it]"
     ]
    },
    {
     "name": "stderr",
     "output_type": "stream",
     "text": [
      "\r",
      " 47%|████▋     | 341/720 [08:28<10:53,  1.72s/it]"
     ]
    },
    {
     "name": "stderr",
     "output_type": "stream",
     "text": [
      "\r",
      " 48%|████▊     | 342/720 [08:30<11:15,  1.79s/it]"
     ]
    },
    {
     "name": "stderr",
     "output_type": "stream",
     "text": [
      "\r",
      " 48%|████▊     | 343/720 [08:32<11:00,  1.75s/it]"
     ]
    },
    {
     "name": "stderr",
     "output_type": "stream",
     "text": [
      "\r",
      " 48%|████▊     | 344/720 [08:34<11:26,  1.83s/it]"
     ]
    },
    {
     "name": "stderr",
     "output_type": "stream",
     "text": [
      "\r",
      " 48%|████▊     | 345/720 [08:35<10:59,  1.76s/it]"
     ]
    },
    {
     "name": "stderr",
     "output_type": "stream",
     "text": [
      "\r",
      " 48%|████▊     | 346/720 [08:37<10:35,  1.70s/it]"
     ]
    },
    {
     "name": "stderr",
     "output_type": "stream",
     "text": [
      "\r",
      " 48%|████▊     | 347/720 [08:38<10:26,  1.68s/it]"
     ]
    },
    {
     "name": "stderr",
     "output_type": "stream",
     "text": [
      "\r",
      " 48%|████▊     | 348/720 [08:41<11:04,  1.79s/it]"
     ]
    },
    {
     "name": "stderr",
     "output_type": "stream",
     "text": [
      "\r",
      " 48%|████▊     | 349/720 [08:42<11:11,  1.81s/it]"
     ]
    },
    {
     "name": "stderr",
     "output_type": "stream",
     "text": [
      "\r",
      " 49%|████▊     | 350/720 [08:44<11:19,  1.84s/it]"
     ]
    },
    {
     "name": "stderr",
     "output_type": "stream",
     "text": [
      "\r",
      " 49%|████▉     | 351/720 [08:46<11:23,  1.85s/it]"
     ]
    },
    {
     "name": "stderr",
     "output_type": "stream",
     "text": [
      "\r",
      " 49%|████▉     | 352/720 [08:48<10:42,  1.74s/it]"
     ]
    },
    {
     "name": "stderr",
     "output_type": "stream",
     "text": [
      "\r",
      " 49%|████▉     | 353/720 [08:50<11:12,  1.83s/it]"
     ]
    },
    {
     "name": "stderr",
     "output_type": "stream",
     "text": [
      "\r",
      " 49%|████▉     | 354/720 [08:51<10:50,  1.78s/it]"
     ]
    },
    {
     "name": "stderr",
     "output_type": "stream",
     "text": [
      "\r",
      " 49%|████▉     | 355/720 [08:53<10:40,  1.76s/it]"
     ]
    },
    {
     "name": "stderr",
     "output_type": "stream",
     "text": [
      "\r",
      " 49%|████▉     | 356/720 [08:55<10:26,  1.72s/it]"
     ]
    },
    {
     "name": "stderr",
     "output_type": "stream",
     "text": [
      "\r",
      " 50%|████▉     | 357/720 [08:56<10:05,  1.67s/it]"
     ]
    },
    {
     "name": "stderr",
     "output_type": "stream",
     "text": [
      "\r",
      " 50%|████▉     | 358/720 [08:58<10:14,  1.70s/it]"
     ]
    },
    {
     "name": "stderr",
     "output_type": "stream",
     "text": [
      "\r",
      " 50%|████▉     | 359/720 [09:00<10:30,  1.75s/it]"
     ]
    },
    {
     "name": "stderr",
     "output_type": "stream",
     "text": [
      "\r",
      " 50%|█████     | 360/720 [09:02<10:47,  1.80s/it]"
     ]
    },
    {
     "name": "stderr",
     "output_type": "stream",
     "text": [
      "\r",
      " 50%|█████     | 361/720 [09:03<10:30,  1.76s/it]"
     ]
    },
    {
     "name": "stderr",
     "output_type": "stream",
     "text": [
      "\r",
      " 50%|█████     | 362/720 [09:05<10:07,  1.70s/it]"
     ]
    },
    {
     "name": "stderr",
     "output_type": "stream",
     "text": [
      "\r",
      " 50%|█████     | 363/720 [09:07<10:35,  1.78s/it]"
     ]
    },
    {
     "name": "stderr",
     "output_type": "stream",
     "text": [
      "\r",
      " 51%|█████     | 364/720 [09:09<10:09,  1.71s/it]"
     ]
    },
    {
     "name": "stderr",
     "output_type": "stream",
     "text": [
      "\r",
      " 51%|█████     | 365/720 [09:11<10:37,  1.80s/it]"
     ]
    },
    {
     "name": "stderr",
     "output_type": "stream",
     "text": [
      "\r",
      " 51%|█████     | 366/720 [09:12<10:41,  1.81s/it]"
     ]
    },
    {
     "name": "stderr",
     "output_type": "stream",
     "text": [
      "\r",
      " 51%|█████     | 367/720 [09:14<10:58,  1.87s/it]"
     ]
    },
    {
     "name": "stderr",
     "output_type": "stream",
     "text": [
      "\r",
      " 51%|█████     | 368/720 [09:16<10:30,  1.79s/it]"
     ]
    },
    {
     "name": "stderr",
     "output_type": "stream",
     "text": [
      "\r",
      " 51%|█████▏    | 369/720 [09:18<10:41,  1.83s/it]"
     ]
    },
    {
     "name": "stderr",
     "output_type": "stream",
     "text": [
      "\r",
      " 51%|█████▏    | 370/720 [09:20<10:28,  1.80s/it]"
     ]
    },
    {
     "name": "stderr",
     "output_type": "stream",
     "text": [
      "\r",
      " 52%|█████▏    | 371/720 [09:21<10:00,  1.72s/it]"
     ]
    },
    {
     "name": "stderr",
     "output_type": "stream",
     "text": [
      "\r",
      " 52%|█████▏    | 372/720 [09:23<09:55,  1.71s/it]"
     ]
    },
    {
     "name": "stderr",
     "output_type": "stream",
     "text": [
      "\r",
      " 52%|█████▏    | 373/720 [09:25<10:29,  1.81s/it]"
     ]
    },
    {
     "name": "stderr",
     "output_type": "stream",
     "text": [
      "\r",
      " 52%|█████▏    | 374/720 [09:27<10:17,  1.78s/it]"
     ]
    },
    {
     "name": "stderr",
     "output_type": "stream",
     "text": [
      "\r",
      " 52%|█████▏    | 375/720 [09:29<10:37,  1.85s/it]"
     ]
    },
    {
     "name": "stderr",
     "output_type": "stream",
     "text": [
      "\r",
      " 52%|█████▏    | 376/720 [09:30<10:18,  1.80s/it]"
     ]
    },
    {
     "name": "stderr",
     "output_type": "stream",
     "text": [
      "\r",
      " 52%|█████▏    | 377/720 [09:32<09:49,  1.72s/it]"
     ]
    },
    {
     "name": "stderr",
     "output_type": "stream",
     "text": [
      "\r",
      " 52%|█████▎    | 378/720 [09:33<09:36,  1.69s/it]"
     ]
    },
    {
     "name": "stderr",
     "output_type": "stream",
     "text": [
      "\r",
      " 53%|█████▎    | 379/720 [09:35<09:47,  1.72s/it]"
     ]
    },
    {
     "name": "stderr",
     "output_type": "stream",
     "text": [
      "\r",
      " 53%|█████▎    | 380/720 [09:37<09:35,  1.69s/it]"
     ]
    },
    {
     "name": "stderr",
     "output_type": "stream",
     "text": [
      "\r",
      " 53%|█████▎    | 381/720 [09:39<09:32,  1.69s/it]"
     ]
    },
    {
     "name": "stderr",
     "output_type": "stream",
     "text": [
      "\r",
      " 53%|█████▎    | 382/720 [09:40<09:21,  1.66s/it]"
     ]
    },
    {
     "name": "stderr",
     "output_type": "stream",
     "text": [
      "\r",
      " 53%|█████▎    | 383/720 [09:42<09:54,  1.76s/it]"
     ]
    },
    {
     "name": "stderr",
     "output_type": "stream",
     "text": [
      "\r",
      " 53%|█████▎    | 384/720 [09:44<09:54,  1.77s/it]"
     ]
    },
    {
     "name": "stderr",
     "output_type": "stream",
     "text": [
      "\r",
      " 53%|█████▎    | 385/720 [09:45<09:28,  1.70s/it]"
     ]
    },
    {
     "name": "stderr",
     "output_type": "stream",
     "text": [
      "\r",
      " 54%|█████▎    | 386/720 [09:47<09:24,  1.69s/it]"
     ]
    },
    {
     "name": "stderr",
     "output_type": "stream",
     "text": [
      "\r",
      " 54%|█████▍    | 387/720 [09:49<09:26,  1.70s/it]"
     ]
    },
    {
     "name": "stderr",
     "output_type": "stream",
     "text": [
      "\r",
      " 54%|█████▍    | 388/720 [09:51<09:39,  1.75s/it]"
     ]
    },
    {
     "name": "stderr",
     "output_type": "stream",
     "text": [
      "\r",
      " 54%|█████▍    | 389/720 [09:53<09:52,  1.79s/it]"
     ]
    },
    {
     "name": "stderr",
     "output_type": "stream",
     "text": [
      "\r",
      " 54%|█████▍    | 390/720 [09:55<10:24,  1.89s/it]"
     ]
    },
    {
     "name": "stderr",
     "output_type": "stream",
     "text": [
      "\r",
      " 54%|█████▍    | 391/720 [09:56<09:56,  1.81s/it]"
     ]
    },
    {
     "name": "stderr",
     "output_type": "stream",
     "text": [
      "\r",
      " 54%|█████▍    | 392/720 [09:58<09:46,  1.79s/it]"
     ]
    },
    {
     "name": "stderr",
     "output_type": "stream",
     "text": [
      "\r",
      " 55%|█████▍    | 393/720 [10:00<09:39,  1.77s/it]"
     ]
    },
    {
     "name": "stderr",
     "output_type": "stream",
     "text": [
      "\r",
      " 55%|█████▍    | 394/720 [10:02<09:32,  1.76s/it]"
     ]
    },
    {
     "name": "stderr",
     "output_type": "stream",
     "text": [
      "\r",
      " 55%|█████▍    | 395/720 [10:03<09:17,  1.72s/it]"
     ]
    },
    {
     "name": "stderr",
     "output_type": "stream",
     "text": [
      "\r",
      " 55%|█████▌    | 396/720 [10:05<09:24,  1.74s/it]"
     ]
    },
    {
     "name": "stderr",
     "output_type": "stream",
     "text": [
      "\r",
      " 55%|█████▌    | 397/720 [10:07<09:11,  1.71s/it]"
     ]
    },
    {
     "name": "stderr",
     "output_type": "stream",
     "text": [
      "\r",
      " 55%|█████▌    | 398/720 [10:08<09:20,  1.74s/it]"
     ]
    },
    {
     "name": "stderr",
     "output_type": "stream",
     "text": [
      "\r",
      " 55%|█████▌    | 399/720 [10:10<09:15,  1.73s/it]"
     ]
    },
    {
     "name": "stderr",
     "output_type": "stream",
     "text": [
      "\r",
      " 56%|█████▌    | 400/720 [10:12<09:26,  1.77s/it]"
     ]
    },
    {
     "name": "stderr",
     "output_type": "stream",
     "text": [
      "\r",
      " 56%|█████▌    | 401/720 [10:14<09:06,  1.71s/it]"
     ]
    },
    {
     "name": "stderr",
     "output_type": "stream",
     "text": [
      "\r",
      " 56%|█████▌    | 402/720 [10:15<08:52,  1.68s/it]"
     ]
    },
    {
     "name": "stderr",
     "output_type": "stream",
     "text": [
      "\r",
      " 56%|█████▌    | 403/720 [10:17<09:26,  1.79s/it]"
     ]
    },
    {
     "name": "stderr",
     "output_type": "stream",
     "text": [
      "\r",
      " 56%|█████▌    | 404/720 [10:19<09:27,  1.80s/it]"
     ]
    },
    {
     "name": "stderr",
     "output_type": "stream",
     "text": [
      "\r",
      " 56%|█████▋    | 405/720 [10:21<09:41,  1.85s/it]"
     ]
    },
    {
     "name": "stderr",
     "output_type": "stream",
     "text": [
      "\r",
      " 56%|█████▋    | 406/720 [10:23<09:38,  1.84s/it]"
     ]
    },
    {
     "name": "stderr",
     "output_type": "stream",
     "text": [
      "\r",
      " 57%|█████▋    | 407/720 [10:25<09:22,  1.80s/it]"
     ]
    },
    {
     "name": "stderr",
     "output_type": "stream",
     "text": [
      "\r",
      " 57%|█████▋    | 408/720 [10:27<10:12,  1.96s/it]"
     ]
    },
    {
     "name": "stderr",
     "output_type": "stream",
     "text": [
      "\r",
      " 57%|█████▋    | 409/720 [10:29<10:38,  2.05s/it]"
     ]
    },
    {
     "name": "stderr",
     "output_type": "stream",
     "text": [
      "\r",
      " 57%|█████▋    | 410/720 [10:31<09:53,  1.92s/it]"
     ]
    },
    {
     "name": "stderr",
     "output_type": "stream",
     "text": [
      "\r",
      " 57%|█████▋    | 411/720 [10:33<09:48,  1.90s/it]"
     ]
    },
    {
     "name": "stderr",
     "output_type": "stream",
     "text": [
      "\r",
      " 57%|█████▋    | 412/720 [10:35<10:16,  2.00s/it]"
     ]
    },
    {
     "name": "stderr",
     "output_type": "stream",
     "text": [
      "\r",
      " 57%|█████▋    | 413/720 [10:37<09:53,  1.93s/it]"
     ]
    },
    {
     "name": "stderr",
     "output_type": "stream",
     "text": [
      "\r",
      " 57%|█████▊    | 414/720 [10:38<09:36,  1.89s/it]"
     ]
    },
    {
     "name": "stderr",
     "output_type": "stream",
     "text": [
      "\r",
      " 58%|█████▊    | 415/720 [10:40<09:17,  1.83s/it]"
     ]
    },
    {
     "name": "stderr",
     "output_type": "stream",
     "text": [
      "\r",
      " 58%|█████▊    | 416/720 [10:42<09:01,  1.78s/it]"
     ]
    },
    {
     "name": "stderr",
     "output_type": "stream",
     "text": [
      "\r",
      " 58%|█████▊    | 417/720 [10:44<08:58,  1.78s/it]"
     ]
    },
    {
     "name": "stderr",
     "output_type": "stream",
     "text": [
      "\r",
      " 58%|█████▊    | 418/720 [10:45<08:39,  1.72s/it]"
     ]
    },
    {
     "name": "stderr",
     "output_type": "stream",
     "text": [
      "\r",
      " 58%|█████▊    | 419/720 [10:47<08:35,  1.71s/it]"
     ]
    },
    {
     "name": "stderr",
     "output_type": "stream",
     "text": [
      "\r",
      " 58%|█████▊    | 420/720 [10:48<08:29,  1.70s/it]"
     ]
    },
    {
     "name": "stderr",
     "output_type": "stream",
     "text": [
      "\r",
      " 58%|█████▊    | 421/720 [10:50<08:41,  1.75s/it]"
     ]
    },
    {
     "name": "stderr",
     "output_type": "stream",
     "text": [
      "\r",
      " 59%|█████▊    | 422/720 [10:52<09:10,  1.85s/it]"
     ]
    },
    {
     "name": "stderr",
     "output_type": "stream",
     "text": [
      "\r",
      " 59%|█████▉    | 423/720 [10:54<08:51,  1.79s/it]"
     ]
    },
    {
     "name": "stderr",
     "output_type": "stream",
     "text": [
      "\r",
      " 59%|█████▉    | 424/720 [10:56<08:40,  1.76s/it]"
     ]
    },
    {
     "name": "stderr",
     "output_type": "stream",
     "text": [
      "\r",
      " 59%|█████▉    | 425/720 [10:58<09:32,  1.94s/it]"
     ]
    },
    {
     "name": "stderr",
     "output_type": "stream",
     "text": [
      "\r",
      " 59%|█████▉    | 426/720 [11:00<09:43,  1.99s/it]"
     ]
    },
    {
     "name": "stderr",
     "output_type": "stream",
     "text": [
      "\r",
      " 59%|█████▉    | 427/720 [11:02<09:23,  1.92s/it]"
     ]
    },
    {
     "name": "stderr",
     "output_type": "stream",
     "text": [
      "\r",
      " 59%|█████▉    | 428/720 [11:04<09:17,  1.91s/it]"
     ]
    },
    {
     "name": "stderr",
     "output_type": "stream",
     "text": [
      "\r",
      " 60%|█████▉    | 429/720 [11:06<09:06,  1.88s/it]"
     ]
    },
    {
     "name": "stderr",
     "output_type": "stream",
     "text": [
      "\r",
      " 60%|█████▉    | 430/720 [11:07<08:48,  1.82s/it]"
     ]
    },
    {
     "name": "stderr",
     "output_type": "stream",
     "text": [
      "\r",
      " 60%|█████▉    | 431/720 [11:09<08:42,  1.81s/it]"
     ]
    },
    {
     "name": "stderr",
     "output_type": "stream",
     "text": [
      "\r",
      " 60%|██████    | 432/720 [11:11<08:20,  1.74s/it]"
     ]
    },
    {
     "name": "stderr",
     "output_type": "stream",
     "text": [
      "\r",
      " 60%|██████    | 433/720 [11:12<08:13,  1.72s/it]"
     ]
    },
    {
     "name": "stderr",
     "output_type": "stream",
     "text": [
      "\r",
      " 60%|██████    | 434/720 [11:14<08:29,  1.78s/it]"
     ]
    },
    {
     "name": "stderr",
     "output_type": "stream",
     "text": [
      "\r",
      " 60%|██████    | 435/720 [11:16<08:11,  1.72s/it]"
     ]
    },
    {
     "name": "stderr",
     "output_type": "stream",
     "text": [
      "\r",
      " 61%|██████    | 436/720 [11:18<08:16,  1.75s/it]"
     ]
    },
    {
     "name": "stderr",
     "output_type": "stream",
     "text": [
      "\r",
      " 61%|██████    | 437/720 [11:20<08:19,  1.76s/it]"
     ]
    },
    {
     "name": "stderr",
     "output_type": "stream",
     "text": [
      "\r",
      " 61%|██████    | 438/720 [11:22<08:53,  1.89s/it]"
     ]
    },
    {
     "name": "stderr",
     "output_type": "stream",
     "text": [
      "\r",
      " 61%|██████    | 439/720 [11:23<08:36,  1.84s/it]"
     ]
    },
    {
     "name": "stderr",
     "output_type": "stream",
     "text": [
      "\r",
      " 61%|██████    | 440/720 [11:25<08:37,  1.85s/it]"
     ]
    },
    {
     "name": "stderr",
     "output_type": "stream",
     "text": [
      "\r",
      " 61%|██████▏   | 441/720 [11:27<08:32,  1.84s/it]"
     ]
    },
    {
     "name": "stderr",
     "output_type": "stream",
     "text": [
      "\r",
      " 61%|██████▏   | 442/720 [11:29<08:24,  1.82s/it]"
     ]
    },
    {
     "name": "stderr",
     "output_type": "stream",
     "text": [
      "\r",
      " 62%|██████▏   | 443/720 [11:31<08:11,  1.77s/it]"
     ]
    },
    {
     "name": "stderr",
     "output_type": "stream",
     "text": [
      "\r",
      " 62%|██████▏   | 444/720 [11:32<08:08,  1.77s/it]"
     ]
    },
    {
     "name": "stderr",
     "output_type": "stream",
     "text": [
      "\r",
      " 62%|██████▏   | 445/720 [11:34<08:00,  1.75s/it]"
     ]
    },
    {
     "name": "stderr",
     "output_type": "stream",
     "text": [
      "\r",
      " 62%|██████▏   | 446/720 [11:36<08:00,  1.75s/it]"
     ]
    },
    {
     "name": "stderr",
     "output_type": "stream",
     "text": [
      "\r",
      " 62%|██████▏   | 447/720 [11:38<08:17,  1.82s/it]"
     ]
    },
    {
     "name": "stderr",
     "output_type": "stream",
     "text": [
      "\r",
      " 62%|██████▏   | 448/720 [11:40<08:16,  1.83s/it]"
     ]
    },
    {
     "name": "stderr",
     "output_type": "stream",
     "text": [
      "\r",
      " 62%|██████▏   | 449/720 [11:41<08:04,  1.79s/it]"
     ]
    },
    {
     "name": "stderr",
     "output_type": "stream",
     "text": [
      "\r",
      " 62%|██████▎   | 450/720 [11:43<08:09,  1.81s/it]"
     ]
    },
    {
     "name": "stderr",
     "output_type": "stream",
     "text": [
      "\r",
      " 63%|██████▎   | 451/720 [11:45<08:38,  1.93s/it]"
     ]
    },
    {
     "name": "stderr",
     "output_type": "stream",
     "text": [
      "\r",
      " 63%|██████▎   | 452/720 [11:47<08:20,  1.87s/it]"
     ]
    },
    {
     "name": "stderr",
     "output_type": "stream",
     "text": [
      "\r",
      " 63%|██████▎   | 453/720 [11:49<08:21,  1.88s/it]"
     ]
    },
    {
     "name": "stderr",
     "output_type": "stream",
     "text": [
      "\r",
      " 63%|██████▎   | 454/720 [11:51<08:22,  1.89s/it]"
     ]
    },
    {
     "name": "stderr",
     "output_type": "stream",
     "text": [
      "\r",
      " 63%|██████▎   | 455/720 [11:53<08:15,  1.87s/it]"
     ]
    },
    {
     "name": "stderr",
     "output_type": "stream",
     "text": [
      "\r",
      " 63%|██████▎   | 456/720 [11:55<08:58,  2.04s/it]"
     ]
    },
    {
     "name": "stderr",
     "output_type": "stream",
     "text": [
      "\r",
      " 63%|██████▎   | 457/720 [11:57<09:16,  2.12s/it]"
     ]
    },
    {
     "name": "stderr",
     "output_type": "stream",
     "text": [
      "\r",
      " 64%|██████▎   | 458/720 [11:59<09:06,  2.08s/it]"
     ]
    },
    {
     "name": "stderr",
     "output_type": "stream",
     "text": [
      "\r",
      " 64%|██████▍   | 459/720 [12:02<09:05,  2.09s/it]"
     ]
    },
    {
     "name": "stderr",
     "output_type": "stream",
     "text": [
      "\r",
      " 64%|██████▍   | 460/720 [12:04<09:29,  2.19s/it]"
     ]
    },
    {
     "name": "stderr",
     "output_type": "stream",
     "text": [
      "\r",
      " 64%|██████▍   | 461/720 [12:06<08:58,  2.08s/it]"
     ]
    },
    {
     "name": "stderr",
     "output_type": "stream",
     "text": [
      "\r",
      " 64%|██████▍   | 462/720 [12:08<08:35,  2.00s/it]"
     ]
    },
    {
     "name": "stderr",
     "output_type": "stream",
     "text": [
      "\r",
      " 64%|██████▍   | 463/720 [12:10<09:09,  2.14s/it]"
     ]
    },
    {
     "name": "stderr",
     "output_type": "stream",
     "text": [
      "\r",
      " 64%|██████▍   | 464/720 [12:12<09:13,  2.16s/it]"
     ]
    },
    {
     "name": "stderr",
     "output_type": "stream",
     "text": [
      "\r",
      " 65%|██████▍   | 465/720 [12:14<08:38,  2.03s/it]"
     ]
    },
    {
     "name": "stderr",
     "output_type": "stream",
     "text": [
      "\r",
      " 65%|██████▍   | 466/720 [12:16<09:01,  2.13s/it]"
     ]
    },
    {
     "name": "stderr",
     "output_type": "stream",
     "text": [
      "\r",
      " 65%|██████▍   | 467/720 [12:18<08:48,  2.09s/it]"
     ]
    },
    {
     "name": "stderr",
     "output_type": "stream",
     "text": [
      "\r",
      " 65%|██████▌   | 468/720 [12:20<08:32,  2.03s/it]"
     ]
    },
    {
     "name": "stderr",
     "output_type": "stream",
     "text": [
      "\r",
      " 65%|██████▌   | 469/720 [12:22<08:41,  2.08s/it]"
     ]
    },
    {
     "name": "stderr",
     "output_type": "stream",
     "text": [
      "\r",
      " 65%|██████▌   | 470/720 [12:25<08:40,  2.08s/it]"
     ]
    },
    {
     "name": "stderr",
     "output_type": "stream",
     "text": [
      "\r",
      " 65%|██████▌   | 471/720 [12:27<08:57,  2.16s/it]"
     ]
    },
    {
     "name": "stderr",
     "output_type": "stream",
     "text": [
      "\r",
      " 66%|██████▌   | 472/720 [12:29<08:29,  2.06s/it]"
     ]
    },
    {
     "name": "stderr",
     "output_type": "stream",
     "text": [
      "\r",
      " 66%|██████▌   | 473/720 [12:31<08:51,  2.15s/it]"
     ]
    },
    {
     "name": "stderr",
     "output_type": "stream",
     "text": [
      "\r",
      " 66%|██████▌   | 474/720 [12:33<08:28,  2.07s/it]"
     ]
    },
    {
     "name": "stderr",
     "output_type": "stream",
     "text": [
      "\r",
      " 66%|██████▌   | 475/720 [12:35<08:47,  2.15s/it]"
     ]
    },
    {
     "name": "stderr",
     "output_type": "stream",
     "text": [
      "\r",
      " 66%|██████▌   | 476/720 [12:37<08:19,  2.05s/it]"
     ]
    },
    {
     "name": "stderr",
     "output_type": "stream",
     "text": [
      "\r",
      " 66%|██████▋   | 477/720 [12:39<07:59,  1.98s/it]"
     ]
    },
    {
     "name": "stderr",
     "output_type": "stream",
     "text": [
      "\r",
      " 66%|██████▋   | 478/720 [12:41<07:46,  1.93s/it]"
     ]
    },
    {
     "name": "stderr",
     "output_type": "stream",
     "text": [
      "\r",
      " 67%|██████▋   | 479/720 [12:43<07:36,  1.90s/it]"
     ]
    },
    {
     "name": "stderr",
     "output_type": "stream",
     "text": [
      "\r",
      " 67%|██████▋   | 480/720 [12:45<07:38,  1.91s/it]"
     ]
    },
    {
     "name": "stderr",
     "output_type": "stream",
     "text": [
      "\r",
      " 67%|██████▋   | 481/720 [12:46<07:41,  1.93s/it]"
     ]
    },
    {
     "name": "stderr",
     "output_type": "stream",
     "text": [
      "\r",
      " 67%|██████▋   | 482/720 [12:49<07:47,  1.96s/it]"
     ]
    },
    {
     "name": "stderr",
     "output_type": "stream",
     "text": [
      "\r",
      " 67%|██████▋   | 483/720 [12:50<07:33,  1.91s/it]"
     ]
    },
    {
     "name": "stderr",
     "output_type": "stream",
     "text": [
      "\r",
      " 67%|██████▋   | 484/720 [12:53<07:52,  2.00s/it]"
     ]
    },
    {
     "name": "stderr",
     "output_type": "stream",
     "text": [
      "\r",
      " 67%|██████▋   | 485/720 [12:54<07:35,  1.94s/it]"
     ]
    },
    {
     "name": "stderr",
     "output_type": "stream",
     "text": [
      "\r",
      " 68%|██████▊   | 486/720 [12:56<07:22,  1.89s/it]"
     ]
    },
    {
     "name": "stderr",
     "output_type": "stream",
     "text": [
      "\r",
      " 68%|██████▊   | 487/720 [12:59<07:59,  2.06s/it]"
     ]
    },
    {
     "name": "stderr",
     "output_type": "stream",
     "text": [
      "\r",
      " 68%|██████▊   | 488/720 [13:00<07:37,  1.97s/it]"
     ]
    },
    {
     "name": "stderr",
     "output_type": "stream",
     "text": [
      "\r",
      " 68%|██████▊   | 489/720 [13:02<07:27,  1.94s/it]"
     ]
    },
    {
     "name": "stderr",
     "output_type": "stream",
     "text": [
      "\r",
      " 68%|██████▊   | 490/720 [13:04<07:14,  1.89s/it]"
     ]
    },
    {
     "name": "stderr",
     "output_type": "stream",
     "text": [
      "\r",
      " 68%|██████▊   | 491/720 [13:06<07:10,  1.88s/it]"
     ]
    },
    {
     "name": "stderr",
     "output_type": "stream",
     "text": [
      "\r",
      " 68%|██████▊   | 492/720 [13:08<06:59,  1.84s/it]"
     ]
    },
    {
     "name": "stderr",
     "output_type": "stream",
     "text": [
      "\r",
      " 68%|██████▊   | 493/720 [13:09<06:58,  1.84s/it]"
     ]
    },
    {
     "name": "stderr",
     "output_type": "stream",
     "text": [
      "\r",
      " 69%|██████▊   | 494/720 [13:12<07:23,  1.96s/it]"
     ]
    },
    {
     "name": "stderr",
     "output_type": "stream",
     "text": [
      "\r",
      " 69%|██████▉   | 495/720 [13:13<07:08,  1.91s/it]"
     ]
    },
    {
     "name": "stderr",
     "output_type": "stream",
     "text": [
      "\r",
      " 69%|██████▉   | 496/720 [13:16<07:52,  2.11s/it]"
     ]
    },
    {
     "name": "stderr",
     "output_type": "stream",
     "text": [
      "\r",
      " 69%|██████▉   | 497/720 [13:18<08:15,  2.22s/it]"
     ]
    },
    {
     "name": "stderr",
     "output_type": "stream",
     "text": [
      "\r",
      " 69%|██████▉   | 498/720 [13:21<08:36,  2.33s/it]"
     ]
    },
    {
     "name": "stderr",
     "output_type": "stream",
     "text": [
      "\r",
      " 69%|██████▉   | 499/720 [13:24<08:58,  2.44s/it]"
     ]
    },
    {
     "name": "stderr",
     "output_type": "stream",
     "text": [
      "\r",
      " 69%|██████▉   | 500/720 [13:26<09:04,  2.48s/it]"
     ]
    },
    {
     "name": "stderr",
     "output_type": "stream",
     "text": [
      "\r",
      " 70%|██████▉   | 501/720 [13:29<09:05,  2.49s/it]"
     ]
    },
    {
     "name": "stderr",
     "output_type": "stream",
     "text": [
      "\r",
      " 70%|██████▉   | 502/720 [13:31<09:04,  2.50s/it]"
     ]
    },
    {
     "name": "stderr",
     "output_type": "stream",
     "text": [
      "\r",
      " 70%|██████▉   | 503/720 [13:34<09:07,  2.52s/it]"
     ]
    },
    {
     "name": "stderr",
     "output_type": "stream",
     "text": [
      "\r",
      " 70%|███████   | 504/720 [13:37<09:10,  2.55s/it]"
     ]
    },
    {
     "name": "stderr",
     "output_type": "stream",
     "text": [
      "\r",
      " 70%|███████   | 505/720 [13:39<09:00,  2.51s/it]"
     ]
    },
    {
     "name": "stderr",
     "output_type": "stream",
     "text": [
      "\r",
      " 70%|███████   | 506/720 [13:41<08:56,  2.51s/it]"
     ]
    },
    {
     "name": "stderr",
     "output_type": "stream",
     "text": [
      "\r",
      " 70%|███████   | 507/720 [13:44<09:06,  2.56s/it]"
     ]
    },
    {
     "name": "stderr",
     "output_type": "stream",
     "text": [
      "\r",
      " 71%|███████   | 508/720 [13:47<09:00,  2.55s/it]"
     ]
    },
    {
     "name": "stderr",
     "output_type": "stream",
     "text": [
      "\r",
      " 71%|███████   | 509/720 [13:49<08:55,  2.54s/it]"
     ]
    },
    {
     "name": "stderr",
     "output_type": "stream",
     "text": [
      "\r",
      " 71%|███████   | 510/720 [13:52<08:50,  2.53s/it]"
     ]
    },
    {
     "name": "stderr",
     "output_type": "stream",
     "text": [
      "\r",
      " 71%|███████   | 511/720 [13:54<08:53,  2.55s/it]"
     ]
    },
    {
     "name": "stderr",
     "output_type": "stream",
     "text": [
      "\r",
      " 71%|███████   | 512/720 [13:57<08:46,  2.53s/it]"
     ]
    },
    {
     "name": "stderr",
     "output_type": "stream",
     "text": [
      "\r",
      " 71%|███████▏  | 513/720 [13:59<08:28,  2.46s/it]"
     ]
    },
    {
     "name": "stderr",
     "output_type": "stream",
     "text": [
      "\r",
      " 71%|███████▏  | 514/720 [14:02<08:38,  2.52s/it]"
     ]
    },
    {
     "name": "stderr",
     "output_type": "stream",
     "text": [
      "\r",
      " 72%|███████▏  | 515/720 [14:04<08:36,  2.52s/it]"
     ]
    },
    {
     "name": "stderr",
     "output_type": "stream",
     "text": [
      "\r",
      " 72%|███████▏  | 516/720 [14:07<08:26,  2.48s/it]"
     ]
    },
    {
     "name": "stderr",
     "output_type": "stream",
     "text": [
      "\r",
      " 72%|███████▏  | 517/720 [14:09<08:22,  2.47s/it]"
     ]
    },
    {
     "name": "stderr",
     "output_type": "stream",
     "text": [
      "\r",
      " 72%|███████▏  | 518/720 [14:12<08:15,  2.46s/it]"
     ]
    },
    {
     "name": "stderr",
     "output_type": "stream",
     "text": [
      "\r",
      " 72%|███████▏  | 519/720 [14:14<08:16,  2.47s/it]"
     ]
    },
    {
     "name": "stderr",
     "output_type": "stream",
     "text": [
      "\r",
      " 72%|███████▏  | 520/720 [14:17<08:22,  2.51s/it]"
     ]
    },
    {
     "name": "stderr",
     "output_type": "stream",
     "text": [
      "\r",
      " 72%|███████▏  | 521/720 [14:19<08:14,  2.48s/it]"
     ]
    },
    {
     "name": "stderr",
     "output_type": "stream",
     "text": [
      "\r",
      " 72%|███████▎  | 522/720 [14:21<08:00,  2.43s/it]"
     ]
    },
    {
     "name": "stderr",
     "output_type": "stream",
     "text": [
      "\r",
      " 73%|███████▎  | 523/720 [14:24<07:55,  2.41s/it]"
     ]
    },
    {
     "name": "stderr",
     "output_type": "stream",
     "text": [
      "\r",
      " 73%|███████▎  | 524/720 [14:26<07:53,  2.42s/it]"
     ]
    },
    {
     "name": "stderr",
     "output_type": "stream",
     "text": [
      "\r",
      " 73%|███████▎  | 525/720 [14:29<07:51,  2.42s/it]"
     ]
    },
    {
     "name": "stderr",
     "output_type": "stream",
     "text": [
      "\r",
      " 73%|███████▎  | 526/720 [14:31<07:47,  2.41s/it]"
     ]
    },
    {
     "name": "stderr",
     "output_type": "stream",
     "text": [
      "\r",
      " 73%|███████▎  | 527/720 [14:34<07:52,  2.45s/it]"
     ]
    },
    {
     "name": "stderr",
     "output_type": "stream",
     "text": [
      "\r",
      " 73%|███████▎  | 528/720 [14:36<08:03,  2.52s/it]"
     ]
    },
    {
     "name": "stderr",
     "output_type": "stream",
     "text": [
      "\r",
      " 73%|███████▎  | 529/720 [14:39<07:51,  2.47s/it]"
     ]
    },
    {
     "name": "stderr",
     "output_type": "stream",
     "text": [
      "\r",
      " 74%|███████▎  | 530/720 [14:41<07:37,  2.41s/it]"
     ]
    },
    {
     "name": "stderr",
     "output_type": "stream",
     "text": [
      "\r",
      " 74%|███████▍  | 531/720 [14:43<07:37,  2.42s/it]"
     ]
    },
    {
     "name": "stderr",
     "output_type": "stream",
     "text": [
      "\r",
      " 74%|███████▍  | 532/720 [14:46<07:33,  2.41s/it]"
     ]
    },
    {
     "name": "stderr",
     "output_type": "stream",
     "text": [
      "\r",
      " 74%|███████▍  | 533/720 [14:48<07:30,  2.41s/it]"
     ]
    },
    {
     "name": "stderr",
     "output_type": "stream",
     "text": [
      "\r",
      " 74%|███████▍  | 534/720 [14:50<07:16,  2.35s/it]"
     ]
    },
    {
     "name": "stderr",
     "output_type": "stream",
     "text": [
      "\r",
      " 74%|███████▍  | 535/720 [14:53<07:20,  2.38s/it]"
     ]
    },
    {
     "name": "stderr",
     "output_type": "stream",
     "text": [
      "\r",
      " 74%|███████▍  | 536/720 [14:55<07:26,  2.43s/it]"
     ]
    },
    {
     "name": "stderr",
     "output_type": "stream",
     "text": [
      "\r",
      " 75%|███████▍  | 537/720 [14:58<07:20,  2.41s/it]"
     ]
    },
    {
     "name": "stderr",
     "output_type": "stream",
     "text": [
      "\r",
      " 75%|███████▍  | 538/720 [15:00<07:16,  2.40s/it]"
     ]
    },
    {
     "name": "stderr",
     "output_type": "stream",
     "text": [
      "\r",
      " 75%|███████▍  | 539/720 [15:03<07:23,  2.45s/it]"
     ]
    },
    {
     "name": "stderr",
     "output_type": "stream",
     "text": [
      "\r",
      " 75%|███████▌  | 540/720 [15:05<07:07,  2.37s/it]"
     ]
    },
    {
     "name": "stderr",
     "output_type": "stream",
     "text": [
      "\r",
      " 75%|███████▌  | 541/720 [15:07<07:23,  2.48s/it]"
     ]
    },
    {
     "name": "stderr",
     "output_type": "stream",
     "text": [
      "\r",
      " 75%|███████▌  | 542/720 [15:10<07:31,  2.54s/it]"
     ]
    },
    {
     "name": "stderr",
     "output_type": "stream",
     "text": [
      "\r",
      " 75%|███████▌  | 543/720 [15:13<07:35,  2.57s/it]"
     ]
    },
    {
     "name": "stderr",
     "output_type": "stream",
     "text": [
      "\r",
      " 76%|███████▌  | 544/720 [15:16<07:42,  2.63s/it]"
     ]
    },
    {
     "name": "stderr",
     "output_type": "stream",
     "text": [
      "\r",
      " 76%|███████▌  | 545/720 [15:18<07:45,  2.66s/it]"
     ]
    },
    {
     "name": "stderr",
     "output_type": "stream",
     "text": [
      "\r",
      " 76%|███████▌  | 546/720 [15:21<07:42,  2.66s/it]"
     ]
    },
    {
     "name": "stderr",
     "output_type": "stream",
     "text": [
      "\r",
      " 76%|███████▌  | 547/720 [15:24<07:51,  2.72s/it]"
     ]
    },
    {
     "name": "stderr",
     "output_type": "stream",
     "text": [
      "\r",
      " 76%|███████▌  | 548/720 [15:27<07:57,  2.77s/it]"
     ]
    },
    {
     "name": "stderr",
     "output_type": "stream",
     "text": [
      "\r",
      " 76%|███████▋  | 549/720 [15:30<07:54,  2.77s/it]"
     ]
    },
    {
     "name": "stderr",
     "output_type": "stream",
     "text": [
      "\r",
      " 76%|███████▋  | 550/720 [15:32<07:56,  2.81s/it]"
     ]
    },
    {
     "name": "stderr",
     "output_type": "stream",
     "text": [
      "\r",
      " 77%|███████▋  | 551/720 [15:35<07:57,  2.82s/it]"
     ]
    },
    {
     "name": "stderr",
     "output_type": "stream",
     "text": [
      "\r",
      " 77%|███████▋  | 552/720 [15:38<07:46,  2.78s/it]"
     ]
    },
    {
     "name": "stderr",
     "output_type": "stream",
     "text": [
      "\r",
      " 77%|███████▋  | 553/720 [15:41<07:46,  2.79s/it]"
     ]
    },
    {
     "name": "stderr",
     "output_type": "stream",
     "text": [
      "\r",
      " 77%|███████▋  | 554/720 [15:44<07:43,  2.79s/it]"
     ]
    },
    {
     "name": "stderr",
     "output_type": "stream",
     "text": [
      "\r",
      " 77%|███████▋  | 555/720 [15:46<07:40,  2.79s/it]"
     ]
    },
    {
     "name": "stderr",
     "output_type": "stream",
     "text": [
      "\r",
      " 77%|███████▋  | 556/720 [15:49<07:40,  2.81s/it]"
     ]
    },
    {
     "name": "stderr",
     "output_type": "stream",
     "text": [
      "\r",
      " 77%|███████▋  | 557/720 [15:52<07:38,  2.82s/it]"
     ]
    },
    {
     "name": "stderr",
     "output_type": "stream",
     "text": [
      "\r",
      " 78%|███████▊  | 558/720 [15:55<07:35,  2.81s/it]"
     ]
    },
    {
     "name": "stderr",
     "output_type": "stream",
     "text": [
      "\r",
      " 78%|███████▊  | 559/720 [15:58<07:30,  2.80s/it]"
     ]
    },
    {
     "name": "stderr",
     "output_type": "stream",
     "text": [
      "\r",
      " 78%|███████▊  | 560/720 [16:00<07:30,  2.82s/it]"
     ]
    },
    {
     "name": "stderr",
     "output_type": "stream",
     "text": [
      "\r",
      " 78%|███████▊  | 561/720 [16:03<07:30,  2.83s/it]"
     ]
    },
    {
     "name": "stderr",
     "output_type": "stream",
     "text": [
      "\r",
      " 78%|███████▊  | 562/720 [16:06<07:25,  2.82s/it]"
     ]
    },
    {
     "name": "stderr",
     "output_type": "stream",
     "text": [
      "\r",
      " 78%|███████▊  | 563/720 [16:09<07:22,  2.82s/it]"
     ]
    },
    {
     "name": "stderr",
     "output_type": "stream",
     "text": [
      "\r",
      " 78%|███████▊  | 564/720 [16:12<07:17,  2.81s/it]"
     ]
    },
    {
     "name": "stderr",
     "output_type": "stream",
     "text": [
      "\r",
      " 78%|███████▊  | 565/720 [16:14<07:09,  2.77s/it]"
     ]
    },
    {
     "name": "stderr",
     "output_type": "stream",
     "text": [
      "\r",
      " 79%|███████▊  | 566/720 [16:17<07:03,  2.75s/it]"
     ]
    },
    {
     "name": "stderr",
     "output_type": "stream",
     "text": [
      "\r",
      " 79%|███████▉  | 567/720 [16:20<07:01,  2.76s/it]"
     ]
    },
    {
     "name": "stderr",
     "output_type": "stream",
     "text": [
      "\r",
      " 79%|███████▉  | 568/720 [16:23<06:58,  2.75s/it]"
     ]
    },
    {
     "name": "stderr",
     "output_type": "stream",
     "text": [
      "\r",
      " 79%|███████▉  | 569/720 [16:25<06:56,  2.76s/it]"
     ]
    },
    {
     "name": "stderr",
     "output_type": "stream",
     "text": [
      "\r",
      " 79%|███████▉  | 570/720 [16:28<06:53,  2.76s/it]"
     ]
    },
    {
     "name": "stderr",
     "output_type": "stream",
     "text": [
      "\r",
      " 79%|███████▉  | 571/720 [16:31<06:53,  2.78s/it]"
     ]
    },
    {
     "name": "stderr",
     "output_type": "stream",
     "text": [
      "\r",
      " 79%|███████▉  | 572/720 [16:34<06:48,  2.76s/it]"
     ]
    },
    {
     "name": "stderr",
     "output_type": "stream",
     "text": [
      "\r",
      " 80%|███████▉  | 573/720 [16:37<06:50,  2.79s/it]"
     ]
    },
    {
     "name": "stderr",
     "output_type": "stream",
     "text": [
      "\r",
      " 80%|███████▉  | 574/720 [16:39<06:48,  2.80s/it]"
     ]
    },
    {
     "name": "stderr",
     "output_type": "stream",
     "text": [
      "\r",
      " 80%|███████▉  | 575/720 [16:42<06:46,  2.81s/it]"
     ]
    },
    {
     "name": "stderr",
     "output_type": "stream",
     "text": [
      "\r",
      " 80%|████████  | 576/720 [16:45<06:41,  2.79s/it]"
     ]
    },
    {
     "name": "stderr",
     "output_type": "stream",
     "text": [
      "\r",
      " 80%|████████  | 577/720 [16:48<06:37,  2.78s/it]"
     ]
    },
    {
     "name": "stderr",
     "output_type": "stream",
     "text": [
      "\r",
      " 80%|████████  | 578/720 [16:50<06:35,  2.79s/it]"
     ]
    },
    {
     "name": "stderr",
     "output_type": "stream",
     "text": [
      "\r",
      " 80%|████████  | 579/720 [16:53<06:31,  2.78s/it]"
     ]
    },
    {
     "name": "stderr",
     "output_type": "stream",
     "text": [
      "\r",
      " 81%|████████  | 580/720 [16:56<06:30,  2.79s/it]"
     ]
    },
    {
     "name": "stderr",
     "output_type": "stream",
     "text": [
      "\r",
      " 81%|████████  | 581/720 [16:59<06:27,  2.79s/it]"
     ]
    },
    {
     "name": "stderr",
     "output_type": "stream",
     "text": [
      "\r",
      " 81%|████████  | 582/720 [17:02<06:29,  2.82s/it]"
     ]
    },
    {
     "name": "stderr",
     "output_type": "stream",
     "text": [
      "\r",
      " 81%|████████  | 583/720 [17:04<06:23,  2.80s/it]"
     ]
    },
    {
     "name": "stderr",
     "output_type": "stream",
     "text": [
      "\r",
      " 81%|████████  | 584/720 [17:07<06:21,  2.81s/it]"
     ]
    },
    {
     "name": "stderr",
     "output_type": "stream",
     "text": [
      "\r",
      " 81%|████████▏ | 585/720 [17:10<06:19,  2.81s/it]"
     ]
    },
    {
     "name": "stderr",
     "output_type": "stream",
     "text": [
      "\r",
      " 81%|████████▏ | 586/720 [17:13<06:21,  2.85s/it]"
     ]
    },
    {
     "name": "stderr",
     "output_type": "stream",
     "text": [
      "\r",
      " 82%|████████▏ | 587/720 [17:16<06:21,  2.87s/it]"
     ]
    },
    {
     "name": "stderr",
     "output_type": "stream",
     "text": [
      "\r",
      " 82%|████████▏ | 588/720 [17:19<06:19,  2.87s/it]"
     ]
    },
    {
     "name": "stderr",
     "output_type": "stream",
     "text": [
      "\r",
      " 82%|████████▏ | 589/720 [17:22<06:17,  2.88s/it]"
     ]
    },
    {
     "name": "stderr",
     "output_type": "stream",
     "text": [
      "\r",
      " 82%|████████▏ | 590/720 [17:25<06:11,  2.86s/it]"
     ]
    },
    {
     "name": "stderr",
     "output_type": "stream",
     "text": [
      "\r",
      " 82%|████████▏ | 591/720 [17:27<06:07,  2.85s/it]"
     ]
    },
    {
     "name": "stderr",
     "output_type": "stream",
     "text": [
      "\r",
      " 82%|████████▏ | 592/720 [17:30<05:57,  2.79s/it]"
     ]
    },
    {
     "name": "stderr",
     "output_type": "stream",
     "text": [
      "\r",
      " 82%|████████▏ | 593/720 [17:33<05:58,  2.82s/it]"
     ]
    },
    {
     "name": "stderr",
     "output_type": "stream",
     "text": [
      "\r",
      " 82%|████████▎ | 594/720 [17:36<05:55,  2.82s/it]"
     ]
    },
    {
     "name": "stderr",
     "output_type": "stream",
     "text": [
      "\r",
      " 83%|████████▎ | 595/720 [17:39<05:52,  2.82s/it]"
     ]
    },
    {
     "name": "stderr",
     "output_type": "stream",
     "text": [
      "\r",
      " 83%|████████▎ | 596/720 [17:41<05:52,  2.84s/it]"
     ]
    },
    {
     "name": "stderr",
     "output_type": "stream",
     "text": [
      "\r",
      " 83%|████████▎ | 597/720 [17:45<05:55,  2.89s/it]"
     ]
    },
    {
     "name": "stderr",
     "output_type": "stream",
     "text": [
      "\r",
      " 83%|████████▎ | 598/720 [17:47<05:53,  2.90s/it]"
     ]
    },
    {
     "name": "stderr",
     "output_type": "stream",
     "text": [
      "\r",
      " 83%|████████▎ | 599/720 [17:50<05:44,  2.85s/it]"
     ]
    },
    {
     "name": "stderr",
     "output_type": "stream",
     "text": [
      "\r",
      " 83%|████████▎ | 600/720 [17:53<05:43,  2.86s/it]"
     ]
    },
    {
     "name": "stderr",
     "output_type": "stream",
     "text": [
      "\r",
      " 83%|████████▎ | 601/720 [17:56<05:38,  2.85s/it]"
     ]
    },
    {
     "name": "stderr",
     "output_type": "stream",
     "text": [
      "\r",
      " 84%|████████▎ | 602/720 [17:59<05:38,  2.87s/it]"
     ]
    },
    {
     "name": "stderr",
     "output_type": "stream",
     "text": [
      "\r",
      " 84%|████████▍ | 603/720 [18:02<05:37,  2.88s/it]"
     ]
    },
    {
     "name": "stderr",
     "output_type": "stream",
     "text": [
      "\r",
      " 84%|████████▍ | 604/720 [18:05<05:34,  2.88s/it]"
     ]
    },
    {
     "name": "stderr",
     "output_type": "stream",
     "text": [
      "\r",
      " 84%|████████▍ | 605/720 [18:07<05:32,  2.89s/it]"
     ]
    },
    {
     "name": "stderr",
     "output_type": "stream",
     "text": [
      "\r",
      " 84%|████████▍ | 606/720 [18:10<05:29,  2.89s/it]"
     ]
    },
    {
     "name": "stderr",
     "output_type": "stream",
     "text": [
      "\r",
      " 84%|████████▍ | 607/720 [18:13<05:23,  2.86s/it]"
     ]
    },
    {
     "name": "stderr",
     "output_type": "stream",
     "text": [
      "\r",
      " 84%|████████▍ | 608/720 [18:16<05:21,  2.87s/it]"
     ]
    },
    {
     "name": "stderr",
     "output_type": "stream",
     "text": [
      "\r",
      " 85%|████████▍ | 609/720 [18:19<05:19,  2.88s/it]"
     ]
    },
    {
     "name": "stderr",
     "output_type": "stream",
     "text": [
      "\r",
      " 85%|████████▍ | 610/720 [18:22<05:17,  2.88s/it]"
     ]
    },
    {
     "name": "stderr",
     "output_type": "stream",
     "text": [
      "\r",
      " 85%|████████▍ | 611/720 [18:25<05:14,  2.89s/it]"
     ]
    },
    {
     "name": "stderr",
     "output_type": "stream",
     "text": [
      "\r",
      " 85%|████████▌ | 612/720 [18:28<05:12,  2.90s/it]"
     ]
    },
    {
     "name": "stderr",
     "output_type": "stream",
     "text": [
      "\r",
      " 85%|████████▌ | 613/720 [18:30<05:07,  2.87s/it]"
     ]
    },
    {
     "name": "stderr",
     "output_type": "stream",
     "text": [
      "\r",
      " 85%|████████▌ | 614/720 [18:33<05:04,  2.88s/it]"
     ]
    },
    {
     "name": "stderr",
     "output_type": "stream",
     "text": [
      "\r",
      " 85%|████████▌ | 615/720 [18:36<04:56,  2.82s/it]"
     ]
    },
    {
     "name": "stderr",
     "output_type": "stream",
     "text": [
      "\r",
      " 86%|████████▌ | 616/720 [18:39<04:56,  2.85s/it]"
     ]
    },
    {
     "name": "stderr",
     "output_type": "stream",
     "text": [
      "\r",
      " 86%|████████▌ | 617/720 [18:42<04:52,  2.84s/it]"
     ]
    },
    {
     "name": "stderr",
     "output_type": "stream",
     "text": [
      "\r",
      " 86%|████████▌ | 618/720 [18:45<04:52,  2.87s/it]"
     ]
    },
    {
     "name": "stderr",
     "output_type": "stream",
     "text": [
      "\r",
      " 86%|████████▌ | 619/720 [18:48<04:51,  2.89s/it]"
     ]
    },
    {
     "name": "stderr",
     "output_type": "stream",
     "text": [
      "\r",
      " 86%|████████▌ | 620/720 [18:51<04:50,  2.90s/it]"
     ]
    },
    {
     "name": "stderr",
     "output_type": "stream",
     "text": [
      "\r",
      " 86%|████████▋ | 621/720 [18:54<04:49,  2.92s/it]"
     ]
    },
    {
     "name": "stderr",
     "output_type": "stream",
     "text": [
      "\r",
      " 86%|████████▋ | 622/720 [18:57<04:48,  2.94s/it]"
     ]
    },
    {
     "name": "stderr",
     "output_type": "stream",
     "text": [
      "\r",
      " 87%|████████▋ | 623/720 [19:00<04:46,  2.95s/it]"
     ]
    },
    {
     "name": "stderr",
     "output_type": "stream",
     "text": [
      "\r",
      " 87%|████████▋ | 624/720 [19:02<04:40,  2.92s/it]"
     ]
    },
    {
     "name": "stderr",
     "output_type": "stream",
     "text": [
      "\r",
      " 87%|████████▋ | 625/720 [19:05<04:36,  2.91s/it]"
     ]
    },
    {
     "name": "stderr",
     "output_type": "stream",
     "text": [
      "\r",
      " 87%|████████▋ | 626/720 [19:08<04:36,  2.94s/it]"
     ]
    },
    {
     "name": "stderr",
     "output_type": "stream",
     "text": [
      "\r",
      " 87%|████████▋ | 627/720 [19:11<04:36,  2.97s/it]"
     ]
    },
    {
     "name": "stderr",
     "output_type": "stream",
     "text": [
      "\r",
      " 87%|████████▋ | 628/720 [19:14<04:38,  3.03s/it]"
     ]
    },
    {
     "name": "stderr",
     "output_type": "stream",
     "text": [
      "\r",
      " 87%|████████▋ | 629/720 [19:17<04:35,  3.03s/it]"
     ]
    },
    {
     "name": "stderr",
     "output_type": "stream",
     "text": [
      "\r",
      " 88%|████████▊ | 630/720 [19:20<04:29,  2.99s/it]"
     ]
    },
    {
     "name": "stderr",
     "output_type": "stream",
     "text": [
      "\r",
      " 88%|████████▊ | 631/720 [19:24<04:29,  3.03s/it]"
     ]
    },
    {
     "name": "stderr",
     "output_type": "stream",
     "text": [
      "\r",
      " 88%|████████▊ | 632/720 [19:27<04:29,  3.07s/it]"
     ]
    },
    {
     "name": "stderr",
     "output_type": "stream",
     "text": [
      "\r",
      " 88%|████████▊ | 633/720 [19:30<04:29,  3.09s/it]"
     ]
    },
    {
     "name": "stderr",
     "output_type": "stream",
     "text": [
      "\r",
      " 88%|████████▊ | 634/720 [19:33<04:27,  3.12s/it]"
     ]
    },
    {
     "name": "stderr",
     "output_type": "stream",
     "text": [
      "\r",
      " 88%|████████▊ | 635/720 [19:36<04:26,  3.13s/it]"
     ]
    },
    {
     "name": "stderr",
     "output_type": "stream",
     "text": [
      "\r",
      " 88%|████████▊ | 636/720 [19:39<04:22,  3.13s/it]"
     ]
    },
    {
     "name": "stderr",
     "output_type": "stream",
     "text": [
      "\r",
      " 88%|████████▊ | 637/720 [19:42<04:17,  3.11s/it]"
     ]
    },
    {
     "name": "stderr",
     "output_type": "stream",
     "text": [
      "\r",
      " 89%|████████▊ | 638/720 [19:45<04:16,  3.12s/it]"
     ]
    },
    {
     "name": "stderr",
     "output_type": "stream",
     "text": [
      "\r",
      " 89%|████████▉ | 639/720 [19:49<04:12,  3.11s/it]"
     ]
    },
    {
     "name": "stderr",
     "output_type": "stream",
     "text": [
      "\r",
      " 89%|████████▉ | 640/720 [19:52<04:07,  3.10s/it]"
     ]
    },
    {
     "name": "stderr",
     "output_type": "stream",
     "text": [
      "\r",
      " 89%|████████▉ | 641/720 [19:55<04:06,  3.12s/it]"
     ]
    },
    {
     "name": "stderr",
     "output_type": "stream",
     "text": [
      "\r",
      " 89%|████████▉ | 642/720 [19:58<04:04,  3.13s/it]"
     ]
    },
    {
     "name": "stderr",
     "output_type": "stream",
     "text": [
      "\r",
      " 89%|████████▉ | 643/720 [20:01<04:02,  3.15s/it]"
     ]
    },
    {
     "name": "stderr",
     "output_type": "stream",
     "text": [
      "\r",
      " 89%|████████▉ | 644/720 [20:04<03:58,  3.14s/it]"
     ]
    },
    {
     "name": "stderr",
     "output_type": "stream",
     "text": [
      "\r",
      " 90%|████████▉ | 645/720 [20:07<03:56,  3.15s/it]"
     ]
    },
    {
     "name": "stderr",
     "output_type": "stream",
     "text": [
      "\r",
      " 90%|████████▉ | 646/720 [20:11<03:52,  3.15s/it]"
     ]
    },
    {
     "name": "stderr",
     "output_type": "stream",
     "text": [
      "\r",
      " 90%|████████▉ | 647/720 [20:14<03:48,  3.13s/it]"
     ]
    },
    {
     "name": "stderr",
     "output_type": "stream",
     "text": [
      "\r",
      " 90%|█████████ | 648/720 [20:17<03:46,  3.15s/it]"
     ]
    },
    {
     "name": "stderr",
     "output_type": "stream",
     "text": [
      "\r",
      " 90%|█████████ | 649/720 [20:20<03:43,  3.15s/it]"
     ]
    },
    {
     "name": "stderr",
     "output_type": "stream",
     "text": [
      "\r",
      " 90%|█████████ | 650/720 [20:23<03:40,  3.14s/it]"
     ]
    },
    {
     "name": "stderr",
     "output_type": "stream",
     "text": [
      "\r",
      " 90%|█████████ | 651/720 [20:26<03:38,  3.17s/it]"
     ]
    },
    {
     "name": "stderr",
     "output_type": "stream",
     "text": [
      "\r",
      " 91%|█████████ | 652/720 [20:30<03:35,  3.17s/it]"
     ]
    },
    {
     "name": "stderr",
     "output_type": "stream",
     "text": [
      "\r",
      " 91%|█████████ | 653/720 [20:33<03:31,  3.15s/it]"
     ]
    },
    {
     "name": "stderr",
     "output_type": "stream",
     "text": [
      "\r",
      " 91%|█████████ | 654/720 [20:36<03:28,  3.16s/it]"
     ]
    },
    {
     "name": "stderr",
     "output_type": "stream",
     "text": [
      "\r",
      " 91%|█████████ | 655/720 [20:39<03:25,  3.16s/it]"
     ]
    },
    {
     "name": "stderr",
     "output_type": "stream",
     "text": [
      "\r",
      " 91%|█████████ | 656/720 [20:42<03:21,  3.14s/it]"
     ]
    },
    {
     "name": "stderr",
     "output_type": "stream",
     "text": [
      "\r",
      " 91%|█████████▏| 657/720 [20:45<03:17,  3.14s/it]"
     ]
    },
    {
     "name": "stderr",
     "output_type": "stream",
     "text": [
      "\r",
      " 91%|█████████▏| 658/720 [20:48<03:14,  3.13s/it]"
     ]
    },
    {
     "name": "stderr",
     "output_type": "stream",
     "text": [
      "\r",
      " 92%|█████████▏| 659/720 [20:52<03:12,  3.15s/it]"
     ]
    },
    {
     "name": "stderr",
     "output_type": "stream",
     "text": [
      "\r",
      " 92%|█████████▏| 660/720 [20:55<03:08,  3.14s/it]"
     ]
    },
    {
     "name": "stderr",
     "output_type": "stream",
     "text": [
      "\r",
      " 92%|█████████▏| 661/720 [20:58<03:08,  3.19s/it]"
     ]
    },
    {
     "name": "stderr",
     "output_type": "stream",
     "text": [
      "\r",
      " 92%|█████████▏| 662/720 [21:01<03:05,  3.20s/it]"
     ]
    },
    {
     "name": "stderr",
     "output_type": "stream",
     "text": [
      "\r",
      " 92%|█████████▏| 663/720 [21:04<03:03,  3.21s/it]"
     ]
    },
    {
     "name": "stderr",
     "output_type": "stream",
     "text": [
      "\r",
      " 92%|█████████▏| 664/720 [21:08<03:00,  3.23s/it]"
     ]
    },
    {
     "name": "stderr",
     "output_type": "stream",
     "text": [
      "\r",
      " 92%|█████████▏| 665/720 [21:11<02:58,  3.24s/it]"
     ]
    },
    {
     "name": "stderr",
     "output_type": "stream",
     "text": [
      "\r",
      " 92%|█████████▎| 666/720 [21:14<02:57,  3.29s/it]"
     ]
    },
    {
     "name": "stderr",
     "output_type": "stream",
     "text": [
      "\r",
      " 93%|█████████▎| 667/720 [21:18<02:55,  3.30s/it]"
     ]
    },
    {
     "name": "stderr",
     "output_type": "stream",
     "text": [
      "\r",
      " 93%|█████████▎| 668/720 [21:21<02:53,  3.34s/it]"
     ]
    },
    {
     "name": "stderr",
     "output_type": "stream",
     "text": [
      "\r",
      " 93%|█████████▎| 669/720 [21:24<02:49,  3.32s/it]"
     ]
    },
    {
     "name": "stderr",
     "output_type": "stream",
     "text": [
      "\r",
      " 93%|█████████▎| 670/720 [21:28<02:47,  3.34s/it]"
     ]
    },
    {
     "name": "stderr",
     "output_type": "stream",
     "text": [
      "\r",
      " 93%|█████████▎| 671/720 [21:31<02:42,  3.31s/it]"
     ]
    },
    {
     "name": "stderr",
     "output_type": "stream",
     "text": [
      "\r",
      " 93%|█████████▎| 672/720 [21:34<02:37,  3.29s/it]"
     ]
    },
    {
     "name": "stderr",
     "output_type": "stream",
     "text": [
      "\r",
      " 93%|█████████▎| 673/720 [21:38<02:34,  3.29s/it]"
     ]
    },
    {
     "name": "stderr",
     "output_type": "stream",
     "text": [
      "\r",
      " 94%|█████████▎| 674/720 [21:41<02:30,  3.27s/it]"
     ]
    },
    {
     "name": "stderr",
     "output_type": "stream",
     "text": [
      "\r",
      " 94%|█████████▍| 675/720 [21:44<02:27,  3.27s/it]"
     ]
    },
    {
     "name": "stderr",
     "output_type": "stream",
     "text": [
      "\r",
      " 94%|█████████▍| 676/720 [21:47<02:25,  3.31s/it]"
     ]
    },
    {
     "name": "stderr",
     "output_type": "stream",
     "text": [
      "\r",
      " 94%|█████████▍| 677/720 [21:51<02:23,  3.34s/it]"
     ]
    },
    {
     "name": "stderr",
     "output_type": "stream",
     "text": [
      "\r",
      " 94%|█████████▍| 678/720 [21:54<02:20,  3.35s/it]"
     ]
    },
    {
     "name": "stderr",
     "output_type": "stream",
     "text": [
      "\r",
      " 94%|█████████▍| 679/720 [21:58<02:17,  3.36s/it]"
     ]
    },
    {
     "name": "stderr",
     "output_type": "stream",
     "text": [
      "\r",
      " 94%|█████████▍| 680/720 [22:01<02:14,  3.37s/it]"
     ]
    },
    {
     "name": "stderr",
     "output_type": "stream",
     "text": [
      "\r",
      " 95%|█████████▍| 681/720 [22:04<02:11,  3.38s/it]"
     ]
    },
    {
     "name": "stderr",
     "output_type": "stream",
     "text": [
      "\r",
      " 95%|█████████▍| 682/720 [22:08<02:08,  3.39s/it]"
     ]
    },
    {
     "name": "stderr",
     "output_type": "stream",
     "text": [
      "\r",
      " 95%|█████████▍| 683/720 [22:11<02:05,  3.39s/it]"
     ]
    },
    {
     "name": "stderr",
     "output_type": "stream",
     "text": [
      "\r",
      " 95%|█████████▌| 684/720 [22:15<02:02,  3.40s/it]"
     ]
    },
    {
     "name": "stderr",
     "output_type": "stream",
     "text": [
      "\r",
      " 95%|█████████▌| 685/720 [22:18<01:59,  3.42s/it]"
     ]
    },
    {
     "name": "stderr",
     "output_type": "stream",
     "text": [
      "\r",
      " 95%|█████████▌| 686/720 [22:22<01:56,  3.42s/it]"
     ]
    },
    {
     "name": "stderr",
     "output_type": "stream",
     "text": [
      "\r",
      " 95%|█████████▌| 687/720 [22:25<01:52,  3.42s/it]"
     ]
    },
    {
     "name": "stderr",
     "output_type": "stream",
     "text": [
      "\r",
      " 96%|█████████▌| 688/720 [22:28<01:49,  3.41s/it]"
     ]
    },
    {
     "name": "stderr",
     "output_type": "stream",
     "text": [
      "\r",
      " 96%|█████████▌| 689/720 [22:32<01:45,  3.41s/it]"
     ]
    },
    {
     "name": "stderr",
     "output_type": "stream",
     "text": [
      "\r",
      " 96%|█████████▌| 690/720 [22:35<01:42,  3.42s/it]"
     ]
    },
    {
     "name": "stderr",
     "output_type": "stream",
     "text": [
      "\r",
      " 96%|█████████▌| 691/720 [22:39<01:39,  3.42s/it]"
     ]
    },
    {
     "name": "stderr",
     "output_type": "stream",
     "text": [
      "\r",
      " 96%|█████████▌| 692/720 [22:42<01:35,  3.43s/it]"
     ]
    },
    {
     "name": "stderr",
     "output_type": "stream",
     "text": [
      "\r",
      " 96%|█████████▋| 693/720 [22:45<01:32,  3.42s/it]"
     ]
    },
    {
     "name": "stderr",
     "output_type": "stream",
     "text": [
      "\r",
      " 96%|█████████▋| 694/720 [22:49<01:28,  3.42s/it]"
     ]
    },
    {
     "name": "stderr",
     "output_type": "stream",
     "text": [
      "\r",
      " 97%|█████████▋| 695/720 [22:52<01:25,  3.42s/it]"
     ]
    },
    {
     "name": "stderr",
     "output_type": "stream",
     "text": [
      "\r",
      " 97%|█████████▋| 696/720 [22:56<01:21,  3.41s/it]"
     ]
    },
    {
     "name": "stderr",
     "output_type": "stream",
     "text": [
      "\r",
      " 97%|█████████▋| 697/720 [22:59<01:18,  3.41s/it]"
     ]
    },
    {
     "name": "stderr",
     "output_type": "stream",
     "text": [
      "\r",
      " 97%|█████████▋| 698/720 [23:03<01:15,  3.41s/it]"
     ]
    },
    {
     "name": "stderr",
     "output_type": "stream",
     "text": [
      "\r",
      " 97%|█████████▋| 699/720 [23:06<01:11,  3.42s/it]"
     ]
    },
    {
     "name": "stderr",
     "output_type": "stream",
     "text": [
      "\r",
      " 97%|█████████▋| 700/720 [23:09<01:08,  3.41s/it]"
     ]
    },
    {
     "name": "stderr",
     "output_type": "stream",
     "text": [
      "\r",
      " 97%|█████████▋| 701/720 [23:13<01:04,  3.40s/it]"
     ]
    },
    {
     "name": "stderr",
     "output_type": "stream",
     "text": [
      "\r",
      " 98%|█████████▊| 702/720 [23:16<01:00,  3.39s/it]"
     ]
    },
    {
     "name": "stderr",
     "output_type": "stream",
     "text": [
      "\r",
      " 98%|█████████▊| 703/720 [23:20<00:57,  3.39s/it]"
     ]
    },
    {
     "name": "stderr",
     "output_type": "stream",
     "text": [
      "\r",
      " 98%|█████████▊| 704/720 [23:23<00:53,  3.37s/it]"
     ]
    },
    {
     "name": "stderr",
     "output_type": "stream",
     "text": [
      "\r",
      " 98%|█████████▊| 705/720 [23:26<00:50,  3.39s/it]"
     ]
    },
    {
     "name": "stderr",
     "output_type": "stream",
     "text": [
      "\r",
      " 98%|█████████▊| 706/720 [23:30<00:48,  3.44s/it]"
     ]
    },
    {
     "name": "stderr",
     "output_type": "stream",
     "text": [
      "\r",
      " 98%|█████████▊| 707/720 [23:33<00:45,  3.48s/it]"
     ]
    },
    {
     "name": "stderr",
     "output_type": "stream",
     "text": [
      "\r",
      " 98%|█████████▊| 708/720 [23:37<00:42,  3.51s/it]"
     ]
    },
    {
     "name": "stderr",
     "output_type": "stream",
     "text": [
      "\r",
      " 98%|█████████▊| 709/720 [23:41<00:38,  3.52s/it]"
     ]
    },
    {
     "name": "stderr",
     "output_type": "stream",
     "text": [
      "\r",
      " 99%|█████████▊| 710/720 [23:44<00:35,  3.53s/it]"
     ]
    },
    {
     "name": "stderr",
     "output_type": "stream",
     "text": [
      "\r",
      " 99%|█████████▉| 711/720 [23:48<00:32,  3.58s/it]"
     ]
    },
    {
     "name": "stderr",
     "output_type": "stream",
     "text": [
      "\r",
      " 99%|█████████▉| 712/720 [23:52<00:29,  3.63s/it]"
     ]
    },
    {
     "name": "stderr",
     "output_type": "stream",
     "text": [
      "\r",
      " 99%|█████████▉| 713/720 [23:55<00:25,  3.66s/it]"
     ]
    },
    {
     "name": "stderr",
     "output_type": "stream",
     "text": [
      "\r",
      " 99%|█████████▉| 714/720 [23:59<00:22,  3.69s/it]"
     ]
    },
    {
     "name": "stderr",
     "output_type": "stream",
     "text": [
      "\r",
      " 99%|█████████▉| 715/720 [24:03<00:18,  3.69s/it]"
     ]
    },
    {
     "name": "stderr",
     "output_type": "stream",
     "text": [
      "\r",
      " 99%|█████████▉| 716/720 [24:06<00:14,  3.59s/it]"
     ]
    },
    {
     "name": "stderr",
     "output_type": "stream",
     "text": [
      "\r",
      "100%|█████████▉| 717/720 [24:10<00:10,  3.56s/it]"
     ]
    },
    {
     "name": "stderr",
     "output_type": "stream",
     "text": [
      "\r",
      "100%|█████████▉| 718/720 [24:13<00:07,  3.55s/it]"
     ]
    },
    {
     "name": "stderr",
     "output_type": "stream",
     "text": [
      "\r",
      "100%|█████████▉| 719/720 [24:17<00:03,  3.54s/it]"
     ]
    },
    {
     "name": "stderr",
     "output_type": "stream",
     "text": [
      "\r",
      "100%|██████████| 720/720 [24:20<00:00,  3.52s/it]"
     ]
    },
    {
     "name": "stderr",
     "output_type": "stream",
     "text": [
      "\r",
      "100%|██████████| 720/720 [24:20<00:00,  2.03s/it]"
     ]
    },
    {
     "name": "stderr",
     "output_type": "stream",
     "text": [
      "\n"
     ]
    }
   ],
   "source": [
    "if ensemble_file.exists():\n",
    "    display(\"Ensemble file exists\")\n",
    "    ensemble = pd.read_pickle(ensemble_file)\n",
    "else:\n",
    "    ensemble = generate_ensemble(\n",
    "        dist_matrix,\n",
    "        CLUSTERERS,\n",
    "        attributes=[\"n_clusters\", \"delta\"],\n",
    "    )"
   ]
  },
  {
   "cell_type": "code",
   "execution_count": 48,
   "metadata": {
    "execution": {
     "iopub.execute_input": "2021-03-11T02:58:46.715461Z",
     "iopub.status.busy": "2021-03-11T02:58:46.715092Z",
     "iopub.status.idle": "2021-03-11T02:58:46.726453Z",
     "shell.execute_reply": "2021-03-11T02:58:46.726091Z"
    },
    "papermill": {
     "duration": 0.166711,
     "end_time": "2021-03-11T02:58:46.726536",
     "exception": false,
     "start_time": "2021-03-11T02:58:46.559825",
     "status": "completed"
    },
    "tags": []
   },
   "outputs": [
    {
     "data": {
      "text/plain": [
       "(720, 4)"
      ]
     },
     "execution_count": 48,
     "metadata": {},
     "output_type": "execute_result"
    }
   ],
   "source": [
    "ensemble.shape"
   ]
  },
  {
   "cell_type": "code",
   "execution_count": 49,
   "metadata": {
    "execution": {
     "iopub.execute_input": "2021-03-11T02:58:47.037288Z",
     "iopub.status.busy": "2021-03-11T02:58:47.036931Z",
     "iopub.status.idle": "2021-03-11T02:58:47.055585Z",
     "shell.execute_reply": "2021-03-11T02:58:47.055116Z"
    },
    "papermill": {
     "duration": 0.175932,
     "end_time": "2021-03-11T02:58:47.055681",
     "exception": false,
     "start_time": "2021-03-11T02:58:46.879749",
     "status": "completed"
    },
    "tags": []
   },
   "outputs": [
    {
     "data": {
      "text/html": [
       "<div>\n",
       "<style scoped>\n",
       "    .dataframe tbody tr th:only-of-type {\n",
       "        vertical-align: middle;\n",
       "    }\n",
       "\n",
       "    .dataframe tbody tr th {\n",
       "        vertical-align: top;\n",
       "    }\n",
       "\n",
       "    .dataframe thead th {\n",
       "        text-align: right;\n",
       "    }\n",
       "</style>\n",
       "<table border=\"1\" class=\"dataframe\">\n",
       "  <thead>\n",
       "    <tr style=\"text-align: right;\">\n",
       "      <th></th>\n",
       "      <th>clusterer_params</th>\n",
       "      <th>partition</th>\n",
       "      <th>n_clusters</th>\n",
       "      <th>delta</th>\n",
       "    </tr>\n",
       "    <tr>\n",
       "      <th>clusterer_id</th>\n",
       "      <th></th>\n",
       "      <th></th>\n",
       "      <th></th>\n",
       "      <th></th>\n",
       "    </tr>\n",
       "  </thead>\n",
       "  <tbody>\n",
       "    <tr>\n",
       "      <th>DeltaSpectralClustering #0</th>\n",
       "      <td>{'delta': 5.0}</td>\n",
       "      <td>[0.0, 0.0, 0.0, 1.0, 0.0, 1.0, 1.0, 1.0, 0.0, ...</td>\n",
       "      <td>2</td>\n",
       "      <td>5.0</td>\n",
       "    </tr>\n",
       "    <tr>\n",
       "      <th>DeltaSpectralClustering #1</th>\n",
       "      <td>{'delta': 5.0}</td>\n",
       "      <td>[0.0, 0.0, 0.0, 1.0, 0.0, 1.0, 1.0, 1.0, 0.0, ...</td>\n",
       "      <td>2</td>\n",
       "      <td>5.0</td>\n",
       "    </tr>\n",
       "    <tr>\n",
       "      <th>DeltaSpectralClustering #2</th>\n",
       "      <td>{'delta': 5.0}</td>\n",
       "      <td>[1.0, 1.0, 1.0, 0.0, 1.0, 0.0, 0.0, 0.0, 1.0, ...</td>\n",
       "      <td>2</td>\n",
       "      <td>5.0</td>\n",
       "    </tr>\n",
       "    <tr>\n",
       "      <th>DeltaSpectralClustering #3</th>\n",
       "      <td>{'delta': 5.0}</td>\n",
       "      <td>[0.0, 0.0, 0.0, 1.0, 0.0, 1.0, 1.0, 1.0, 0.0, ...</td>\n",
       "      <td>2</td>\n",
       "      <td>5.0</td>\n",
       "    </tr>\n",
       "    <tr>\n",
       "      <th>DeltaSpectralClustering #4</th>\n",
       "      <td>{'delta': 5.0}</td>\n",
       "      <td>[1.0, 1.0, 1.0, 0.0, 1.0, 0.0, 0.0, 0.0, 1.0, ...</td>\n",
       "      <td>2</td>\n",
       "      <td>5.0</td>\n",
       "    </tr>\n",
       "  </tbody>\n",
       "</table>\n",
       "</div>"
      ],
      "text/plain": [
       "                           clusterer_params  \\\n",
       "clusterer_id                                  \n",
       "DeltaSpectralClustering #0   {'delta': 5.0}   \n",
       "DeltaSpectralClustering #1   {'delta': 5.0}   \n",
       "DeltaSpectralClustering #2   {'delta': 5.0}   \n",
       "DeltaSpectralClustering #3   {'delta': 5.0}   \n",
       "DeltaSpectralClustering #4   {'delta': 5.0}   \n",
       "\n",
       "                                                                    partition  \\\n",
       "clusterer_id                                                                    \n",
       "DeltaSpectralClustering #0  [0.0, 0.0, 0.0, 1.0, 0.0, 1.0, 1.0, 1.0, 0.0, ...   \n",
       "DeltaSpectralClustering #1  [0.0, 0.0, 0.0, 1.0, 0.0, 1.0, 1.0, 1.0, 0.0, ...   \n",
       "DeltaSpectralClustering #2  [1.0, 1.0, 1.0, 0.0, 1.0, 0.0, 0.0, 0.0, 1.0, ...   \n",
       "DeltaSpectralClustering #3  [0.0, 0.0, 0.0, 1.0, 0.0, 1.0, 1.0, 1.0, 0.0, ...   \n",
       "DeltaSpectralClustering #4  [1.0, 1.0, 1.0, 0.0, 1.0, 0.0, 0.0, 0.0, 1.0, ...   \n",
       "\n",
       "                            n_clusters  delta  \n",
       "clusterer_id                                   \n",
       "DeltaSpectralClustering #0           2    5.0  \n",
       "DeltaSpectralClustering #1           2    5.0  \n",
       "DeltaSpectralClustering #2           2    5.0  \n",
       "DeltaSpectralClustering #3           2    5.0  \n",
       "DeltaSpectralClustering #4           2    5.0  "
      ]
     },
     "execution_count": 49,
     "metadata": {},
     "output_type": "execute_result"
    }
   ],
   "source": [
    "ensemble.head()"
   ]
  },
  {
   "cell_type": "code",
   "execution_count": 50,
   "metadata": {
    "execution": {
     "iopub.execute_input": "2021-03-11T02:58:47.367371Z",
     "iopub.status.busy": "2021-03-11T02:58:47.367012Z",
     "iopub.status.idle": "2021-03-11T02:58:47.377869Z",
     "shell.execute_reply": "2021-03-11T02:58:47.377542Z"
    },
    "papermill": {
     "duration": 0.167327,
     "end_time": "2021-03-11T02:58:47.377955",
     "exception": false,
     "start_time": "2021-03-11T02:58:47.210628",
     "status": "completed"
    },
    "tags": []
   },
   "outputs": [],
   "source": [
    "ensemble[\"delta\"] = ensemble[\"delta\"].apply(lambda x: f\"{x:.2f}\")"
   ]
  },
  {
   "cell_type": "code",
   "execution_count": 51,
   "metadata": {
    "execution": {
     "iopub.execute_input": "2021-03-11T02:58:47.693579Z",
     "iopub.status.busy": "2021-03-11T02:58:47.693209Z",
     "iopub.status.idle": "2021-03-11T02:58:47.705252Z",
     "shell.execute_reply": "2021-03-11T02:58:47.705531Z"
    },
    "papermill": {
     "duration": 0.169211,
     "end_time": "2021-03-11T02:58:47.705636",
     "exception": false,
     "start_time": "2021-03-11T02:58:47.536425",
     "status": "completed"
    },
    "tags": []
   },
   "outputs": [
    {
     "data": {
      "text/plain": [
       "60    45\n",
       "50    45\n",
       "40    45\n",
       "35    45\n",
       "30    45\n",
       "25    45\n",
       "20    45\n",
       "18    45\n",
       "16    45\n",
       "14    45\n",
       "12    45\n",
       "10    45\n",
       "8     45\n",
       "6     45\n",
       "4     45\n",
       "2     45\n",
       "Name: n_clusters, dtype: int64"
      ]
     },
     "execution_count": 51,
     "metadata": {},
     "output_type": "execute_result"
    }
   ],
   "source": [
    "ensemble[\"n_clusters\"].value_counts()"
   ]
  },
  {
   "cell_type": "code",
   "execution_count": 52,
   "metadata": {
    "execution": {
     "iopub.execute_input": "2021-03-11T02:58:48.017376Z",
     "iopub.status.busy": "2021-03-11T02:58:48.017013Z",
     "iopub.status.idle": "2021-03-11T02:58:48.028112Z",
     "shell.execute_reply": "2021-03-11T02:58:48.027752Z"
    },
    "papermill": {
     "duration": 0.169002,
     "end_time": "2021-03-11T02:58:48.028197",
     "exception": false,
     "start_time": "2021-03-11T02:58:47.859195",
     "status": "completed"
    },
    "tags": []
   },
   "outputs": [],
   "source": [
    "_tmp = ensemble[\"n_clusters\"].value_counts().unique()\n",
    "assert _tmp.shape[0] == 1\n",
    "assert _tmp[0] == int(\n",
    "    CLUSTERING_OPTIONS[\"N_REPS_PER_K\"] * len(CLUSTERING_OPTIONS[\"DELTAS\"])\n",
    ")"
   ]
  },
  {
   "cell_type": "code",
   "execution_count": 53,
   "metadata": {
    "execution": {
     "iopub.execute_input": "2021-03-11T02:58:48.337472Z",
     "iopub.status.busy": "2021-03-11T02:58:48.337092Z",
     "iopub.status.idle": "2021-03-11T02:58:48.350312Z",
     "shell.execute_reply": "2021-03-11T02:58:48.350010Z"
    },
    "papermill": {
     "duration": 0.168364,
     "end_time": "2021-03-11T02:58:48.350399",
     "exception": false,
     "start_time": "2021-03-11T02:58:48.182035",
     "status": "completed"
    },
    "tags": []
   },
   "outputs": [
    {
     "data": {
      "text/plain": [
       "count    720.000000\n",
       "mean      21.875000\n",
       "std       16.469247\n",
       "min        2.000000\n",
       "25%        9.500000\n",
       "50%       17.000000\n",
       "75%       31.250000\n",
       "max       60.000000\n",
       "Name: n_clusters, dtype: float64"
      ]
     },
     "metadata": {},
     "output_type": "display_data"
    }
   ],
   "source": [
    "ensemble_stats = ensemble[\"n_clusters\"].describe()\n",
    "display(ensemble_stats)"
   ]
  },
  {
   "cell_type": "markdown",
   "metadata": {
    "papermill": {
     "duration": 0.155086,
     "end_time": "2021-03-11T02:58:48.664811",
     "exception": false,
     "start_time": "2021-03-11T02:58:48.509725",
     "status": "completed"
    },
    "tags": []
   },
   "source": [
    "### Testing"
   ]
  },
  {
   "cell_type": "code",
   "execution_count": 54,
   "metadata": {
    "execution": {
     "iopub.execute_input": "2021-03-11T02:58:48.975443Z",
     "iopub.status.busy": "2021-03-11T02:58:48.975086Z",
     "iopub.status.idle": "2021-03-11T02:58:48.985232Z",
     "shell.execute_reply": "2021-03-11T02:58:48.984924Z"
    },
    "papermill": {
     "duration": 0.167229,
     "end_time": "2021-03-11T02:58:48.985322",
     "exception": false,
     "start_time": "2021-03-11T02:58:48.818093",
     "status": "completed"
    },
    "tags": []
   },
   "outputs": [],
   "source": [
    "assert ensemble_stats[\"min\"] > 1"
   ]
  },
  {
   "cell_type": "code",
   "execution_count": 55,
   "metadata": {
    "execution": {
     "iopub.execute_input": "2021-03-11T02:58:49.299457Z",
     "iopub.status.busy": "2021-03-11T02:58:49.299097Z",
     "iopub.status.idle": "2021-03-11T02:58:49.309771Z",
     "shell.execute_reply": "2021-03-11T02:58:49.309393Z"
    },
    "papermill": {
     "duration": 0.16831,
     "end_time": "2021-03-11T02:58:49.309859",
     "exception": false,
     "start_time": "2021-03-11T02:58:49.141549",
     "status": "completed"
    },
    "tags": []
   },
   "outputs": [],
   "source": [
    "assert not ensemble[\"n_clusters\"].isna().any()"
   ]
  },
  {
   "cell_type": "code",
   "execution_count": 56,
   "metadata": {
    "execution": {
     "iopub.execute_input": "2021-03-11T02:58:49.626929Z",
     "iopub.status.busy": "2021-03-11T02:58:49.626570Z",
     "iopub.status.idle": "2021-03-11T02:58:49.636782Z",
     "shell.execute_reply": "2021-03-11T02:58:49.636409Z"
    },
    "papermill": {
     "duration": 0.169238,
     "end_time": "2021-03-11T02:58:49.636908",
     "exception": false,
     "start_time": "2021-03-11T02:58:49.467670",
     "status": "completed"
    },
    "tags": []
   },
   "outputs": [],
   "source": [
    "assert ensemble.shape[0] == len(CLUSTERERS)"
   ]
  },
  {
   "cell_type": "code",
   "execution_count": 57,
   "metadata": {
    "execution": {
     "iopub.execute_input": "2021-03-11T02:58:49.948157Z",
     "iopub.status.busy": "2021-03-11T02:58:49.947797Z",
     "iopub.status.idle": "2021-03-11T02:58:49.999397Z",
     "shell.execute_reply": "2021-03-11T02:58:49.999014Z"
    },
    "papermill": {
     "duration": 0.209195,
     "end_time": "2021-03-11T02:58:49.999483",
     "exception": false,
     "start_time": "2021-03-11T02:58:49.790288",
     "status": "completed"
    },
    "tags": []
   },
   "outputs": [],
   "source": [
    "# all partitions have the right size\n",
    "assert np.all(\n",
    "    [part[\"partition\"].shape[0] == data.shape[0] for idx, part in ensemble.iterrows()]\n",
    ")"
   ]
  },
  {
   "cell_type": "code",
   "execution_count": 58,
   "metadata": {
    "execution": {
     "iopub.execute_input": "2021-03-11T02:58:50.313576Z",
     "iopub.status.busy": "2021-03-11T02:58:50.313199Z",
     "iopub.status.idle": "2021-03-11T02:58:50.372073Z",
     "shell.execute_reply": "2021-03-11T02:58:50.371750Z"
    },
    "papermill": {
     "duration": 0.215924,
     "end_time": "2021-03-11T02:58:50.372157",
     "exception": false,
     "start_time": "2021-03-11T02:58:50.156233",
     "status": "completed"
    },
    "tags": []
   },
   "outputs": [],
   "source": [
    "# no partition has negative clusters (noisy points)\n",
    "assert not np.any([(part[\"partition\"] < 0).any() for idx, part in ensemble.iterrows()])"
   ]
  },
  {
   "cell_type": "code",
   "execution_count": 59,
   "metadata": {
    "execution": {
     "iopub.execute_input": "2021-03-11T02:58:50.692271Z",
     "iopub.status.busy": "2021-03-11T02:58:50.691911Z",
     "iopub.status.idle": "2021-03-11T02:58:50.757541Z",
     "shell.execute_reply": "2021-03-11T02:58:50.757167Z"
    },
    "papermill": {
     "duration": 0.225271,
     "end_time": "2021-03-11T02:58:50.757626",
     "exception": false,
     "start_time": "2021-03-11T02:58:50.532355",
     "status": "completed"
    },
    "tags": []
   },
   "outputs": [
    {
     "data": {
      "text/plain": [
       "clusterer_id\n",
       "DeltaSpectralClustering #0       2\n",
       "DeltaSpectralClustering #1       2\n",
       "DeltaSpectralClustering #2       2\n",
       "DeltaSpectralClustering #3       2\n",
       "DeltaSpectralClustering #4       2\n",
       "                                ..\n",
       "DeltaSpectralClustering #715    60\n",
       "DeltaSpectralClustering #716    60\n",
       "DeltaSpectralClustering #717    60\n",
       "DeltaSpectralClustering #718    60\n",
       "DeltaSpectralClustering #719    60\n",
       "Name: partition, Length: 720, dtype: int64"
      ]
     },
     "metadata": {},
     "output_type": "display_data"
    }
   ],
   "source": [
    "# check that the number of clusters in the partitions are the expected ones\n",
    "_real_k_values = ensemble[\"partition\"].apply(lambda x: np.unique(x).shape[0])\n",
    "display(_real_k_values)\n",
    "assert np.all(ensemble[\"n_clusters\"].values == _real_k_values.values)"
   ]
  },
  {
   "cell_type": "markdown",
   "metadata": {
    "papermill": {
     "duration": 0.155603,
     "end_time": "2021-03-11T02:58:51.067257",
     "exception": false,
     "start_time": "2021-03-11T02:58:50.911654",
     "status": "completed"
    },
    "tags": []
   },
   "source": [
    "### Add clustering quality measures"
   ]
  },
  {
   "cell_type": "code",
   "execution_count": 60,
   "metadata": {
    "execution": {
     "iopub.execute_input": "2021-03-11T02:58:51.379410Z",
     "iopub.status.busy": "2021-03-11T02:58:51.379037Z",
     "iopub.status.idle": "2021-03-11T03:00:56.278864Z",
     "shell.execute_reply": "2021-03-11T03:00:56.278530Z"
    },
    "papermill": {
     "duration": 125.056822,
     "end_time": "2021-03-11T03:00:56.278958",
     "exception": false,
     "start_time": "2021-03-11T02:58:51.222136",
     "status": "completed"
    },
    "tags": []
   },
   "outputs": [],
   "source": [
    "ensemble = ensemble.assign(\n",
    "    si_score=ensemble[\"partition\"].apply(\n",
    "        lambda x: silhouette_score(dist_matrix, x, metric=\"precomputed\")\n",
    "    ),\n",
    "    ch_score=ensemble[\"partition\"].apply(lambda x: calinski_harabasz_score(data, x)),\n",
    "    db_score=ensemble[\"partition\"].apply(lambda x: davies_bouldin_score(data, x)),\n",
    ")"
   ]
  },
  {
   "cell_type": "code",
   "execution_count": 61,
   "metadata": {
    "execution": {
     "iopub.execute_input": "2021-03-11T03:00:57.359264Z",
     "iopub.status.busy": "2021-03-11T03:00:57.357739Z",
     "iopub.status.idle": "2021-03-11T03:00:57.394440Z",
     "shell.execute_reply": "2021-03-11T03:00:57.393663Z"
    },
    "papermill": {
     "duration": 0.955805,
     "end_time": "2021-03-11T03:00:57.394607",
     "exception": false,
     "start_time": "2021-03-11T03:00:56.438802",
     "status": "completed"
    },
    "tags": []
   },
   "outputs": [
    {
     "data": {
      "text/plain": [
       "(720, 7)"
      ]
     },
     "execution_count": 61,
     "metadata": {},
     "output_type": "execute_result"
    }
   ],
   "source": [
    "ensemble.shape"
   ]
  },
  {
   "cell_type": "code",
   "execution_count": 62,
   "metadata": {
    "execution": {
     "iopub.execute_input": "2021-03-11T03:00:57.715098Z",
     "iopub.status.busy": "2021-03-11T03:00:57.714730Z",
     "iopub.status.idle": "2021-03-11T03:00:57.734880Z",
     "shell.execute_reply": "2021-03-11T03:00:57.734502Z"
    },
    "papermill": {
     "duration": 0.178074,
     "end_time": "2021-03-11T03:00:57.734967",
     "exception": false,
     "start_time": "2021-03-11T03:00:57.556893",
     "status": "completed"
    },
    "tags": []
   },
   "outputs": [
    {
     "data": {
      "text/html": [
       "<div>\n",
       "<style scoped>\n",
       "    .dataframe tbody tr th:only-of-type {\n",
       "        vertical-align: middle;\n",
       "    }\n",
       "\n",
       "    .dataframe tbody tr th {\n",
       "        vertical-align: top;\n",
       "    }\n",
       "\n",
       "    .dataframe thead th {\n",
       "        text-align: right;\n",
       "    }\n",
       "</style>\n",
       "<table border=\"1\" class=\"dataframe\">\n",
       "  <thead>\n",
       "    <tr style=\"text-align: right;\">\n",
       "      <th></th>\n",
       "      <th>clusterer_params</th>\n",
       "      <th>partition</th>\n",
       "      <th>n_clusters</th>\n",
       "      <th>delta</th>\n",
       "      <th>si_score</th>\n",
       "      <th>ch_score</th>\n",
       "      <th>db_score</th>\n",
       "    </tr>\n",
       "    <tr>\n",
       "      <th>clusterer_id</th>\n",
       "      <th></th>\n",
       "      <th></th>\n",
       "      <th></th>\n",
       "      <th></th>\n",
       "      <th></th>\n",
       "      <th></th>\n",
       "      <th></th>\n",
       "    </tr>\n",
       "  </thead>\n",
       "  <tbody>\n",
       "    <tr>\n",
       "      <th>DeltaSpectralClustering #0</th>\n",
       "      <td>{'delta': 5.0}</td>\n",
       "      <td>[0.0, 0.0, 0.0, 1.0, 0.0, 1.0, 1.0, 1.0, 0.0, ...</td>\n",
       "      <td>2</td>\n",
       "      <td>5.00</td>\n",
       "      <td>0.230244</td>\n",
       "      <td>41.607744</td>\n",
       "      <td>7.229253</td>\n",
       "    </tr>\n",
       "    <tr>\n",
       "      <th>DeltaSpectralClustering #1</th>\n",
       "      <td>{'delta': 5.0}</td>\n",
       "      <td>[0.0, 0.0, 0.0, 1.0, 0.0, 1.0, 1.0, 1.0, 0.0, ...</td>\n",
       "      <td>2</td>\n",
       "      <td>5.00</td>\n",
       "      <td>0.230244</td>\n",
       "      <td>41.607744</td>\n",
       "      <td>7.229253</td>\n",
       "    </tr>\n",
       "    <tr>\n",
       "      <th>DeltaSpectralClustering #2</th>\n",
       "      <td>{'delta': 5.0}</td>\n",
       "      <td>[1.0, 1.0, 1.0, 0.0, 1.0, 0.0, 0.0, 0.0, 1.0, ...</td>\n",
       "      <td>2</td>\n",
       "      <td>5.00</td>\n",
       "      <td>0.230244</td>\n",
       "      <td>41.607744</td>\n",
       "      <td>7.229253</td>\n",
       "    </tr>\n",
       "    <tr>\n",
       "      <th>DeltaSpectralClustering #3</th>\n",
       "      <td>{'delta': 5.0}</td>\n",
       "      <td>[0.0, 0.0, 0.0, 1.0, 0.0, 1.0, 1.0, 1.0, 0.0, ...</td>\n",
       "      <td>2</td>\n",
       "      <td>5.00</td>\n",
       "      <td>0.230244</td>\n",
       "      <td>41.607744</td>\n",
       "      <td>7.229253</td>\n",
       "    </tr>\n",
       "    <tr>\n",
       "      <th>DeltaSpectralClustering #4</th>\n",
       "      <td>{'delta': 5.0}</td>\n",
       "      <td>[1.0, 1.0, 1.0, 0.0, 1.0, 0.0, 0.0, 0.0, 1.0, ...</td>\n",
       "      <td>2</td>\n",
       "      <td>5.00</td>\n",
       "      <td>0.230244</td>\n",
       "      <td>41.607744</td>\n",
       "      <td>7.229253</td>\n",
       "    </tr>\n",
       "  </tbody>\n",
       "</table>\n",
       "</div>"
      ],
      "text/plain": [
       "                           clusterer_params  \\\n",
       "clusterer_id                                  \n",
       "DeltaSpectralClustering #0   {'delta': 5.0}   \n",
       "DeltaSpectralClustering #1   {'delta': 5.0}   \n",
       "DeltaSpectralClustering #2   {'delta': 5.0}   \n",
       "DeltaSpectralClustering #3   {'delta': 5.0}   \n",
       "DeltaSpectralClustering #4   {'delta': 5.0}   \n",
       "\n",
       "                                                                    partition  \\\n",
       "clusterer_id                                                                    \n",
       "DeltaSpectralClustering #0  [0.0, 0.0, 0.0, 1.0, 0.0, 1.0, 1.0, 1.0, 0.0, ...   \n",
       "DeltaSpectralClustering #1  [0.0, 0.0, 0.0, 1.0, 0.0, 1.0, 1.0, 1.0, 0.0, ...   \n",
       "DeltaSpectralClustering #2  [1.0, 1.0, 1.0, 0.0, 1.0, 0.0, 0.0, 0.0, 1.0, ...   \n",
       "DeltaSpectralClustering #3  [0.0, 0.0, 0.0, 1.0, 0.0, 1.0, 1.0, 1.0, 0.0, ...   \n",
       "DeltaSpectralClustering #4  [1.0, 1.0, 1.0, 0.0, 1.0, 0.0, 0.0, 0.0, 1.0, ...   \n",
       "\n",
       "                            n_clusters delta  si_score   ch_score  db_score  \n",
       "clusterer_id                                                                 \n",
       "DeltaSpectralClustering #0           2  5.00  0.230244  41.607744  7.229253  \n",
       "DeltaSpectralClustering #1           2  5.00  0.230244  41.607744  7.229253  \n",
       "DeltaSpectralClustering #2           2  5.00  0.230244  41.607744  7.229253  \n",
       "DeltaSpectralClustering #3           2  5.00  0.230244  41.607744  7.229253  \n",
       "DeltaSpectralClustering #4           2  5.00  0.230244  41.607744  7.229253  "
      ]
     },
     "execution_count": 62,
     "metadata": {},
     "output_type": "execute_result"
    }
   ],
   "source": [
    "ensemble.head()"
   ]
  },
  {
   "cell_type": "markdown",
   "metadata": {
    "papermill": {
     "duration": 0.157553,
     "end_time": "2021-03-11T03:00:58.047547",
     "exception": false,
     "start_time": "2021-03-11T03:00:57.889994",
     "status": "completed"
    },
    "tags": []
   },
   "source": [
    "### Save"
   ]
  },
  {
   "cell_type": "code",
   "execution_count": 63,
   "metadata": {
    "execution": {
     "iopub.execute_input": "2021-03-11T03:00:58.360078Z",
     "iopub.status.busy": "2021-03-11T03:00:58.359718Z",
     "iopub.status.idle": "2021-03-11T03:00:58.387148Z",
     "shell.execute_reply": "2021-03-11T03:00:58.387471Z"
    },
    "papermill": {
     "duration": 0.185224,
     "end_time": "2021-03-11T03:00:58.387592",
     "exception": false,
     "start_time": "2021-03-11T03:00:58.202368",
     "status": "completed"
    },
    "tags": []
   },
   "outputs": [],
   "source": [
    "ensemble.to_pickle(ensemble_file)"
   ]
  },
  {
   "cell_type": "markdown",
   "metadata": {
    "papermill": {
     "duration": 0.156583,
     "end_time": "2021-03-11T03:00:58.701634",
     "exception": false,
     "start_time": "2021-03-11T03:00:58.545051",
     "status": "completed"
    },
    "tags": []
   },
   "source": [
    "# Cluster quality"
   ]
  },
  {
   "cell_type": "code",
   "execution_count": 64,
   "metadata": {
    "execution": {
     "iopub.execute_input": "2021-03-11T03:00:59.023065Z",
     "iopub.status.busy": "2021-03-11T03:00:59.022668Z",
     "iopub.status.idle": "2021-03-11T03:00:59.048405Z",
     "shell.execute_reply": "2021-03-11T03:00:59.048033Z"
    },
    "papermill": {
     "duration": 0.190311,
     "end_time": "2021-03-11T03:00:59.048489",
     "exception": false,
     "start_time": "2021-03-11T03:00:58.858178",
     "status": "completed"
    },
    "tags": []
   },
   "outputs": [
    {
     "data": {
      "text/html": [
       "<div>\n",
       "<style scoped>\n",
       "    .dataframe tbody tr th:only-of-type {\n",
       "        vertical-align: middle;\n",
       "    }\n",
       "\n",
       "    .dataframe tbody tr th {\n",
       "        vertical-align: top;\n",
       "    }\n",
       "\n",
       "    .dataframe thead th {\n",
       "        text-align: right;\n",
       "    }\n",
       "</style>\n",
       "<table border=\"1\" class=\"dataframe\">\n",
       "  <thead>\n",
       "    <tr style=\"text-align: right;\">\n",
       "      <th></th>\n",
       "      <th></th>\n",
       "      <th>si_score</th>\n",
       "      <th>ch_score</th>\n",
       "      <th>db_score</th>\n",
       "    </tr>\n",
       "    <tr>\n",
       "      <th>n_clusters</th>\n",
       "      <th>delta</th>\n",
       "      <th></th>\n",
       "      <th></th>\n",
       "      <th></th>\n",
       "    </tr>\n",
       "  </thead>\n",
       "  <tbody>\n",
       "    <tr>\n",
       "      <th rowspan=\"9\" valign=\"top\">2</th>\n",
       "      <th>0.20</th>\n",
       "      <td>0.413614</td>\n",
       "      <td>16.542994</td>\n",
       "      <td>1.326855</td>\n",
       "    </tr>\n",
       "    <tr>\n",
       "      <th>0.25</th>\n",
       "      <td>0.413614</td>\n",
       "      <td>16.542994</td>\n",
       "      <td>1.326855</td>\n",
       "    </tr>\n",
       "    <tr>\n",
       "      <th>0.30</th>\n",
       "      <td>0.368615</td>\n",
       "      <td>34.670727</td>\n",
       "      <td>2.425191</td>\n",
       "    </tr>\n",
       "    <tr>\n",
       "      <th>0.50</th>\n",
       "      <td>0.234743</td>\n",
       "      <td>42.049828</td>\n",
       "      <td>7.076596</td>\n",
       "    </tr>\n",
       "    <tr>\n",
       "      <th>0.75</th>\n",
       "      <td>0.231760</td>\n",
       "      <td>41.754969</td>\n",
       "      <td>7.177313</td>\n",
       "    </tr>\n",
       "    <tr>\n",
       "      <th>0.90</th>\n",
       "      <td>0.231284</td>\n",
       "      <td>41.718377</td>\n",
       "      <td>7.194527</td>\n",
       "    </tr>\n",
       "    <tr>\n",
       "      <th>1.00</th>\n",
       "      <td>0.231165</td>\n",
       "      <td>41.702895</td>\n",
       "      <td>7.200270</td>\n",
       "    </tr>\n",
       "    <tr>\n",
       "      <th>2.00</th>\n",
       "      <td>0.230672</td>\n",
       "      <td>41.638151</td>\n",
       "      <td>7.218554</td>\n",
       "    </tr>\n",
       "    <tr>\n",
       "      <th>5.00</th>\n",
       "      <td>0.230244</td>\n",
       "      <td>41.607744</td>\n",
       "      <td>7.229253</td>\n",
       "    </tr>\n",
       "    <tr>\n",
       "      <th rowspan=\"9\" valign=\"top\">4</th>\n",
       "      <th>0.20</th>\n",
       "      <td>0.360273</td>\n",
       "      <td>19.740462</td>\n",
       "      <td>1.690525</td>\n",
       "    </tr>\n",
       "    <tr>\n",
       "      <th>0.25</th>\n",
       "      <td>0.360535</td>\n",
       "      <td>22.942921</td>\n",
       "      <td>1.847986</td>\n",
       "    </tr>\n",
       "    <tr>\n",
       "      <th>0.30</th>\n",
       "      <td>0.242972</td>\n",
       "      <td>26.978885</td>\n",
       "      <td>4.747947</td>\n",
       "    </tr>\n",
       "    <tr>\n",
       "      <th>0.50</th>\n",
       "      <td>0.082288</td>\n",
       "      <td>22.351183</td>\n",
       "      <td>22.864690</td>\n",
       "    </tr>\n",
       "    <tr>\n",
       "      <th>0.75</th>\n",
       "      <td>0.084110</td>\n",
       "      <td>23.120337</td>\n",
       "      <td>23.276366</td>\n",
       "    </tr>\n",
       "    <tr>\n",
       "      <th>0.90</th>\n",
       "      <td>0.083880</td>\n",
       "      <td>22.702688</td>\n",
       "      <td>23.794605</td>\n",
       "    </tr>\n",
       "    <tr>\n",
       "      <th>1.00</th>\n",
       "      <td>0.083580</td>\n",
       "      <td>22.564575</td>\n",
       "      <td>23.781575</td>\n",
       "    </tr>\n",
       "    <tr>\n",
       "      <th>2.00</th>\n",
       "      <td>0.083282</td>\n",
       "      <td>22.442862</td>\n",
       "      <td>23.821061</td>\n",
       "    </tr>\n",
       "    <tr>\n",
       "      <th>5.00</th>\n",
       "      <td>0.083348</td>\n",
       "      <td>22.461277</td>\n",
       "      <td>23.856868</td>\n",
       "    </tr>\n",
       "    <tr>\n",
       "      <th rowspan=\"9\" valign=\"top\">6</th>\n",
       "      <th>0.20</th>\n",
       "      <td>0.366359</td>\n",
       "      <td>20.425972</td>\n",
       "      <td>1.837357</td>\n",
       "    </tr>\n",
       "    <tr>\n",
       "      <th>0.25</th>\n",
       "      <td>0.365797</td>\n",
       "      <td>20.046437</td>\n",
       "      <td>1.746620</td>\n",
       "    </tr>\n",
       "    <tr>\n",
       "      <th>0.30</th>\n",
       "      <td>0.236124</td>\n",
       "      <td>23.135499</td>\n",
       "      <td>4.009738</td>\n",
       "    </tr>\n",
       "    <tr>\n",
       "      <th>0.50</th>\n",
       "      <td>0.109237</td>\n",
       "      <td>12.200735</td>\n",
       "      <td>22.070676</td>\n",
       "    </tr>\n",
       "    <tr>\n",
       "      <th>0.75</th>\n",
       "      <td>0.111349</td>\n",
       "      <td>14.130102</td>\n",
       "      <td>24.115422</td>\n",
       "    </tr>\n",
       "    <tr>\n",
       "      <th>0.90</th>\n",
       "      <td>0.111232</td>\n",
       "      <td>14.113890</td>\n",
       "      <td>24.049769</td>\n",
       "    </tr>\n",
       "    <tr>\n",
       "      <th>1.00</th>\n",
       "      <td>0.111185</td>\n",
       "      <td>14.150510</td>\n",
       "      <td>24.055555</td>\n",
       "    </tr>\n",
       "    <tr>\n",
       "      <th>2.00</th>\n",
       "      <td>0.111246</td>\n",
       "      <td>14.140997</td>\n",
       "      <td>24.089643</td>\n",
       "    </tr>\n",
       "    <tr>\n",
       "      <th>5.00</th>\n",
       "      <td>0.111201</td>\n",
       "      <td>14.136393</td>\n",
       "      <td>24.101181</td>\n",
       "    </tr>\n",
       "    <tr>\n",
       "      <th rowspan=\"9\" valign=\"top\">8</th>\n",
       "      <th>0.20</th>\n",
       "      <td>0.357209</td>\n",
       "      <td>17.387431</td>\n",
       "      <td>1.697888</td>\n",
       "    </tr>\n",
       "    <tr>\n",
       "      <th>0.25</th>\n",
       "      <td>0.236339</td>\n",
       "      <td>19.231336</td>\n",
       "      <td>3.268454</td>\n",
       "    </tr>\n",
       "    <tr>\n",
       "      <th>0.30</th>\n",
       "      <td>0.097090</td>\n",
       "      <td>18.124565</td>\n",
       "      <td>12.077804</td>\n",
       "    </tr>\n",
       "    <tr>\n",
       "      <th>0.50</th>\n",
       "      <td>0.128245</td>\n",
       "      <td>12.591100</td>\n",
       "      <td>20.243977</td>\n",
       "    </tr>\n",
       "    <tr>\n",
       "      <th>0.75</th>\n",
       "      <td>0.130530</td>\n",
       "      <td>12.742945</td>\n",
       "      <td>20.259797</td>\n",
       "    </tr>\n",
       "    <tr>\n",
       "      <th>0.90</th>\n",
       "      <td>0.126823</td>\n",
       "      <td>10.642263</td>\n",
       "      <td>21.268036</td>\n",
       "    </tr>\n",
       "    <tr>\n",
       "      <th>1.00</th>\n",
       "      <td>0.126990</td>\n",
       "      <td>10.626619</td>\n",
       "      <td>21.296968</td>\n",
       "    </tr>\n",
       "    <tr>\n",
       "      <th>2.00</th>\n",
       "      <td>0.126434</td>\n",
       "      <td>10.557087</td>\n",
       "      <td>21.181159</td>\n",
       "    </tr>\n",
       "    <tr>\n",
       "      <th>5.00</th>\n",
       "      <td>0.126459</td>\n",
       "      <td>10.520778</td>\n",
       "      <td>21.183807</td>\n",
       "    </tr>\n",
       "    <tr>\n",
       "      <th rowspan=\"9\" valign=\"top\">10</th>\n",
       "      <th>0.20</th>\n",
       "      <td>0.284170</td>\n",
       "      <td>15.074891</td>\n",
       "      <td>1.757023</td>\n",
       "    </tr>\n",
       "    <tr>\n",
       "      <th>0.25</th>\n",
       "      <td>0.355434</td>\n",
       "      <td>15.219486</td>\n",
       "      <td>1.563548</td>\n",
       "    </tr>\n",
       "    <tr>\n",
       "      <th>0.30</th>\n",
       "      <td>0.124279</td>\n",
       "      <td>13.968309</td>\n",
       "      <td>13.796353</td>\n",
       "    </tr>\n",
       "    <tr>\n",
       "      <th>0.50</th>\n",
       "      <td>0.144429</td>\n",
       "      <td>10.344150</td>\n",
       "      <td>19.132386</td>\n",
       "    </tr>\n",
       "    <tr>\n",
       "      <th>0.75</th>\n",
       "      <td>0.143755</td>\n",
       "      <td>10.236289</td>\n",
       "      <td>19.159049</td>\n",
       "    </tr>\n",
       "    <tr>\n",
       "      <th>0.90</th>\n",
       "      <td>0.143632</td>\n",
       "      <td>10.216391</td>\n",
       "      <td>19.164452</td>\n",
       "    </tr>\n",
       "    <tr>\n",
       "      <th>1.00</th>\n",
       "      <td>0.143715</td>\n",
       "      <td>10.206756</td>\n",
       "      <td>19.140381</td>\n",
       "    </tr>\n",
       "    <tr>\n",
       "      <th>2.00</th>\n",
       "      <td>0.142988</td>\n",
       "      <td>10.197105</td>\n",
       "      <td>19.115426</td>\n",
       "    </tr>\n",
       "    <tr>\n",
       "      <th>5.00</th>\n",
       "      <td>0.143260</td>\n",
       "      <td>10.165703</td>\n",
       "      <td>19.105710</td>\n",
       "    </tr>\n",
       "    <tr>\n",
       "      <th rowspan=\"9\" valign=\"top\">12</th>\n",
       "      <th>0.20</th>\n",
       "      <td>0.285607</td>\n",
       "      <td>14.146016</td>\n",
       "      <td>1.699672</td>\n",
       "    </tr>\n",
       "    <tr>\n",
       "      <th>0.25</th>\n",
       "      <td>0.233302</td>\n",
       "      <td>15.084909</td>\n",
       "      <td>2.615192</td>\n",
       "    </tr>\n",
       "    <tr>\n",
       "      <th>0.30</th>\n",
       "      <td>0.135423</td>\n",
       "      <td>12.607465</td>\n",
       "      <td>13.497259</td>\n",
       "    </tr>\n",
       "    <tr>\n",
       "      <th>0.50</th>\n",
       "      <td>0.150808</td>\n",
       "      <td>8.733372</td>\n",
       "      <td>17.919284</td>\n",
       "    </tr>\n",
       "    <tr>\n",
       "      <th>0.75</th>\n",
       "      <td>0.151032</td>\n",
       "      <td>8.627467</td>\n",
       "      <td>18.067012</td>\n",
       "    </tr>\n",
       "    <tr>\n",
       "      <th>0.90</th>\n",
       "      <td>0.151315</td>\n",
       "      <td>8.576388</td>\n",
       "      <td>18.027533</td>\n",
       "    </tr>\n",
       "    <tr>\n",
       "      <th>1.00</th>\n",
       "      <td>0.151144</td>\n",
       "      <td>8.587486</td>\n",
       "      <td>18.107086</td>\n",
       "    </tr>\n",
       "    <tr>\n",
       "      <th>2.00</th>\n",
       "      <td>0.150650</td>\n",
       "      <td>8.552906</td>\n",
       "      <td>18.104717</td>\n",
       "    </tr>\n",
       "    <tr>\n",
       "      <th>5.00</th>\n",
       "      <td>0.150593</td>\n",
       "      <td>8.548048</td>\n",
       "      <td>18.093403</td>\n",
       "    </tr>\n",
       "    <tr>\n",
       "      <th rowspan=\"9\" valign=\"top\">14</th>\n",
       "      <th>0.20</th>\n",
       "      <td>0.227774</td>\n",
       "      <td>14.151272</td>\n",
       "      <td>2.517564</td>\n",
       "    </tr>\n",
       "    <tr>\n",
       "      <th>0.25</th>\n",
       "      <td>0.231886</td>\n",
       "      <td>14.058889</td>\n",
       "      <td>2.443331</td>\n",
       "    </tr>\n",
       "    <tr>\n",
       "      <th>0.30</th>\n",
       "      <td>0.140035</td>\n",
       "      <td>11.941406</td>\n",
       "      <td>12.132178</td>\n",
       "    </tr>\n",
       "    <tr>\n",
       "      <th>0.50</th>\n",
       "      <td>0.158400</td>\n",
       "      <td>9.761977</td>\n",
       "      <td>15.639972</td>\n",
       "    </tr>\n",
       "    <tr>\n",
       "      <th>0.75</th>\n",
       "      <td>0.152182</td>\n",
       "      <td>7.374205</td>\n",
       "      <td>17.143697</td>\n",
       "    </tr>\n",
       "    <tr>\n",
       "      <th>0.90</th>\n",
       "      <td>0.153292</td>\n",
       "      <td>7.294380</td>\n",
       "      <td>17.146184</td>\n",
       "    </tr>\n",
       "    <tr>\n",
       "      <th>1.00</th>\n",
       "      <td>0.153992</td>\n",
       "      <td>7.253994</td>\n",
       "      <td>17.026560</td>\n",
       "    </tr>\n",
       "    <tr>\n",
       "      <th>2.00</th>\n",
       "      <td>0.153823</td>\n",
       "      <td>6.938585</td>\n",
       "      <td>17.255631</td>\n",
       "    </tr>\n",
       "    <tr>\n",
       "      <th>5.00</th>\n",
       "      <td>0.153659</td>\n",
       "      <td>7.093428</td>\n",
       "      <td>17.113368</td>\n",
       "    </tr>\n",
       "    <tr>\n",
       "      <th rowspan=\"9\" valign=\"top\">16</th>\n",
       "      <th>0.20</th>\n",
       "      <td>0.283238</td>\n",
       "      <td>12.298237</td>\n",
       "      <td>1.729705</td>\n",
       "    </tr>\n",
       "    <tr>\n",
       "      <th>0.25</th>\n",
       "      <td>0.223490</td>\n",
       "      <td>12.777555</td>\n",
       "      <td>2.448653</td>\n",
       "    </tr>\n",
       "    <tr>\n",
       "      <th>0.30</th>\n",
       "      <td>0.144274</td>\n",
       "      <td>11.256034</td>\n",
       "      <td>11.286941</td>\n",
       "    </tr>\n",
       "    <tr>\n",
       "      <th>0.50</th>\n",
       "      <td>0.161586</td>\n",
       "      <td>8.369534</td>\n",
       "      <td>15.176500</td>\n",
       "    </tr>\n",
       "    <tr>\n",
       "      <th>0.75</th>\n",
       "      <td>0.161521</td>\n",
       "      <td>6.373406</td>\n",
       "      <td>16.632005</td>\n",
       "    </tr>\n",
       "    <tr>\n",
       "      <th>0.90</th>\n",
       "      <td>0.160940</td>\n",
       "      <td>6.056925</td>\n",
       "      <td>16.853569</td>\n",
       "    </tr>\n",
       "    <tr>\n",
       "      <th>1.00</th>\n",
       "      <td>0.157733</td>\n",
       "      <td>6.403386</td>\n",
       "      <td>16.609713</td>\n",
       "    </tr>\n",
       "    <tr>\n",
       "      <th>2.00</th>\n",
       "      <td>0.155862</td>\n",
       "      <td>6.419136</td>\n",
       "      <td>16.419681</td>\n",
       "    </tr>\n",
       "    <tr>\n",
       "      <th>5.00</th>\n",
       "      <td>0.161450</td>\n",
       "      <td>6.039358</td>\n",
       "      <td>16.833968</td>\n",
       "    </tr>\n",
       "    <tr>\n",
       "      <th rowspan=\"9\" valign=\"top\">18</th>\n",
       "      <th>0.20</th>\n",
       "      <td>0.249320</td>\n",
       "      <td>11.263819</td>\n",
       "      <td>1.625233</td>\n",
       "    </tr>\n",
       "    <tr>\n",
       "      <th>0.25</th>\n",
       "      <td>0.125457</td>\n",
       "      <td>11.910868</td>\n",
       "      <td>5.787644</td>\n",
       "    </tr>\n",
       "    <tr>\n",
       "      <th>0.30</th>\n",
       "      <td>0.144546</td>\n",
       "      <td>10.692061</td>\n",
       "      <td>10.815542</td>\n",
       "    </tr>\n",
       "    <tr>\n",
       "      <th>0.50</th>\n",
       "      <td>0.166115</td>\n",
       "      <td>7.394531</td>\n",
       "      <td>15.008111</td>\n",
       "    </tr>\n",
       "    <tr>\n",
       "      <th>0.75</th>\n",
       "      <td>0.162603</td>\n",
       "      <td>5.645726</td>\n",
       "      <td>16.245293</td>\n",
       "    </tr>\n",
       "    <tr>\n",
       "      <th>0.90</th>\n",
       "      <td>0.160297</td>\n",
       "      <td>5.556910</td>\n",
       "      <td>16.230812</td>\n",
       "    </tr>\n",
       "    <tr>\n",
       "      <th>1.00</th>\n",
       "      <td>0.161840</td>\n",
       "      <td>5.505517</td>\n",
       "      <td>16.311693</td>\n",
       "    </tr>\n",
       "    <tr>\n",
       "      <th>2.00</th>\n",
       "      <td>0.165377</td>\n",
       "      <td>5.449084</td>\n",
       "      <td>16.404252</td>\n",
       "    </tr>\n",
       "    <tr>\n",
       "      <th>5.00</th>\n",
       "      <td>0.160016</td>\n",
       "      <td>5.403093</td>\n",
       "      <td>16.403437</td>\n",
       "    </tr>\n",
       "    <tr>\n",
       "      <th rowspan=\"9\" valign=\"top\">20</th>\n",
       "      <th>0.20</th>\n",
       "      <td>0.205376</td>\n",
       "      <td>10.798652</td>\n",
       "      <td>1.815994</td>\n",
       "    </tr>\n",
       "    <tr>\n",
       "      <th>0.25</th>\n",
       "      <td>0.103113</td>\n",
       "      <td>11.020767</td>\n",
       "      <td>5.929915</td>\n",
       "    </tr>\n",
       "    <tr>\n",
       "      <th>0.30</th>\n",
       "      <td>0.159514</td>\n",
       "      <td>9.901479</td>\n",
       "      <td>10.548795</td>\n",
       "    </tr>\n",
       "    <tr>\n",
       "      <th>0.50</th>\n",
       "      <td>0.166908</td>\n",
       "      <td>6.786704</td>\n",
       "      <td>14.734527</td>\n",
       "    </tr>\n",
       "    <tr>\n",
       "      <th>0.75</th>\n",
       "      <td>0.168927</td>\n",
       "      <td>5.797583</td>\n",
       "      <td>15.206554</td>\n",
       "    </tr>\n",
       "    <tr>\n",
       "      <th>0.90</th>\n",
       "      <td>0.173561</td>\n",
       "      <td>5.722083</td>\n",
       "      <td>15.318029</td>\n",
       "    </tr>\n",
       "    <tr>\n",
       "      <th>1.00</th>\n",
       "      <td>0.173545</td>\n",
       "      <td>5.742575</td>\n",
       "      <td>15.270381</td>\n",
       "    </tr>\n",
       "    <tr>\n",
       "      <th>2.00</th>\n",
       "      <td>0.166195</td>\n",
       "      <td>5.298519</td>\n",
       "      <td>15.489795</td>\n",
       "    </tr>\n",
       "    <tr>\n",
       "      <th>5.00</th>\n",
       "      <td>0.167234</td>\n",
       "      <td>5.164671</td>\n",
       "      <td>15.722615</td>\n",
       "    </tr>\n",
       "    <tr>\n",
       "      <th rowspan=\"9\" valign=\"top\">25</th>\n",
       "      <th>0.20</th>\n",
       "      <td>0.154849</td>\n",
       "      <td>9.776046</td>\n",
       "      <td>3.148807</td>\n",
       "    </tr>\n",
       "    <tr>\n",
       "      <th>0.25</th>\n",
       "      <td>0.121652</td>\n",
       "      <td>9.265791</td>\n",
       "      <td>6.429839</td>\n",
       "    </tr>\n",
       "    <tr>\n",
       "      <th>0.30</th>\n",
       "      <td>0.166854</td>\n",
       "      <td>8.611146</td>\n",
       "      <td>10.448716</td>\n",
       "    </tr>\n",
       "    <tr>\n",
       "      <th>0.50</th>\n",
       "      <td>0.175948</td>\n",
       "      <td>6.086624</td>\n",
       "      <td>13.610013</td>\n",
       "    </tr>\n",
       "    <tr>\n",
       "      <th>0.75</th>\n",
       "      <td>0.172689</td>\n",
       "      <td>5.758055</td>\n",
       "      <td>13.844766</td>\n",
       "    </tr>\n",
       "    <tr>\n",
       "      <th>0.90</th>\n",
       "      <td>0.167577</td>\n",
       "      <td>5.396709</td>\n",
       "      <td>13.966477</td>\n",
       "    </tr>\n",
       "    <tr>\n",
       "      <th>1.00</th>\n",
       "      <td>0.171615</td>\n",
       "      <td>5.077164</td>\n",
       "      <td>14.215377</td>\n",
       "    </tr>\n",
       "    <tr>\n",
       "      <th>2.00</th>\n",
       "      <td>0.166753</td>\n",
       "      <td>4.945485</td>\n",
       "      <td>14.224770</td>\n",
       "    </tr>\n",
       "    <tr>\n",
       "      <th>5.00</th>\n",
       "      <td>0.167437</td>\n",
       "      <td>4.913238</td>\n",
       "      <td>14.242148</td>\n",
       "    </tr>\n",
       "    <tr>\n",
       "      <th rowspan=\"9\" valign=\"top\">30</th>\n",
       "      <th>0.20</th>\n",
       "      <td>0.114545</td>\n",
       "      <td>8.485304</td>\n",
       "      <td>4.403262</td>\n",
       "    </tr>\n",
       "    <tr>\n",
       "      <th>0.25</th>\n",
       "      <td>0.124820</td>\n",
       "      <td>8.235304</td>\n",
       "      <td>6.941471</td>\n",
       "    </tr>\n",
       "    <tr>\n",
       "      <th>0.30</th>\n",
       "      <td>0.175867</td>\n",
       "      <td>7.663992</td>\n",
       "      <td>9.959729</td>\n",
       "    </tr>\n",
       "    <tr>\n",
       "      <th>0.50</th>\n",
       "      <td>0.175988</td>\n",
       "      <td>5.842064</td>\n",
       "      <td>12.430876</td>\n",
       "    </tr>\n",
       "    <tr>\n",
       "      <th>0.75</th>\n",
       "      <td>0.173396</td>\n",
       "      <td>5.247723</td>\n",
       "      <td>12.993672</td>\n",
       "    </tr>\n",
       "    <tr>\n",
       "      <th>0.90</th>\n",
       "      <td>0.169778</td>\n",
       "      <td>5.135370</td>\n",
       "      <td>13.145408</td>\n",
       "    </tr>\n",
       "    <tr>\n",
       "      <th>1.00</th>\n",
       "      <td>0.167495</td>\n",
       "      <td>5.090752</td>\n",
       "      <td>13.158267</td>\n",
       "    </tr>\n",
       "    <tr>\n",
       "      <th>2.00</th>\n",
       "      <td>0.168811</td>\n",
       "      <td>4.667306</td>\n",
       "      <td>13.363968</td>\n",
       "    </tr>\n",
       "    <tr>\n",
       "      <th>5.00</th>\n",
       "      <td>0.169222</td>\n",
       "      <td>4.600956</td>\n",
       "      <td>13.383076</td>\n",
       "    </tr>\n",
       "    <tr>\n",
       "      <th rowspan=\"9\" valign=\"top\">35</th>\n",
       "      <th>0.20</th>\n",
       "      <td>0.112725</td>\n",
       "      <td>7.689515</td>\n",
       "      <td>5.506202</td>\n",
       "    </tr>\n",
       "    <tr>\n",
       "      <th>0.25</th>\n",
       "      <td>0.148548</td>\n",
       "      <td>7.297704</td>\n",
       "      <td>7.914178</td>\n",
       "    </tr>\n",
       "    <tr>\n",
       "      <th>0.30</th>\n",
       "      <td>0.178691</td>\n",
       "      <td>6.846334</td>\n",
       "      <td>9.750463</td>\n",
       "    </tr>\n",
       "    <tr>\n",
       "      <th>0.50</th>\n",
       "      <td>0.179426</td>\n",
       "      <td>5.710311</td>\n",
       "      <td>11.472085</td>\n",
       "    </tr>\n",
       "    <tr>\n",
       "      <th>0.75</th>\n",
       "      <td>0.173565</td>\n",
       "      <td>5.002994</td>\n",
       "      <td>12.116099</td>\n",
       "    </tr>\n",
       "    <tr>\n",
       "      <th>0.90</th>\n",
       "      <td>0.171960</td>\n",
       "      <td>5.003558</td>\n",
       "      <td>12.038884</td>\n",
       "    </tr>\n",
       "    <tr>\n",
       "      <th>1.00</th>\n",
       "      <td>0.167935</td>\n",
       "      <td>4.875762</td>\n",
       "      <td>12.102341</td>\n",
       "    </tr>\n",
       "    <tr>\n",
       "      <th>2.00</th>\n",
       "      <td>0.165342</td>\n",
       "      <td>4.782212</td>\n",
       "      <td>12.218782</td>\n",
       "    </tr>\n",
       "    <tr>\n",
       "      <th>5.00</th>\n",
       "      <td>0.161624</td>\n",
       "      <td>4.689316</td>\n",
       "      <td>12.349839</td>\n",
       "    </tr>\n",
       "    <tr>\n",
       "      <th rowspan=\"9\" valign=\"top\">40</th>\n",
       "      <th>0.20</th>\n",
       "      <td>0.137873</td>\n",
       "      <td>7.007758</td>\n",
       "      <td>6.189220</td>\n",
       "    </tr>\n",
       "    <tr>\n",
       "      <th>0.25</th>\n",
       "      <td>0.158410</td>\n",
       "      <td>6.648506</td>\n",
       "      <td>7.991330</td>\n",
       "    </tr>\n",
       "    <tr>\n",
       "      <th>0.30</th>\n",
       "      <td>0.190481</td>\n",
       "      <td>6.235980</td>\n",
       "      <td>9.451625</td>\n",
       "    </tr>\n",
       "    <tr>\n",
       "      <th>0.50</th>\n",
       "      <td>0.180397</td>\n",
       "      <td>5.344059</td>\n",
       "      <td>10.913225</td>\n",
       "    </tr>\n",
       "    <tr>\n",
       "      <th>0.75</th>\n",
       "      <td>0.167003</td>\n",
       "      <td>5.038510</td>\n",
       "      <td>11.239348</td>\n",
       "    </tr>\n",
       "    <tr>\n",
       "      <th>0.90</th>\n",
       "      <td>0.169636</td>\n",
       "      <td>4.948436</td>\n",
       "      <td>11.243646</td>\n",
       "    </tr>\n",
       "    <tr>\n",
       "      <th>1.00</th>\n",
       "      <td>0.166127</td>\n",
       "      <td>4.889939</td>\n",
       "      <td>11.256232</td>\n",
       "    </tr>\n",
       "    <tr>\n",
       "      <th>2.00</th>\n",
       "      <td>0.158949</td>\n",
       "      <td>4.674428</td>\n",
       "      <td>11.407379</td>\n",
       "    </tr>\n",
       "    <tr>\n",
       "      <th>5.00</th>\n",
       "      <td>0.155528</td>\n",
       "      <td>4.523869</td>\n",
       "      <td>11.480943</td>\n",
       "    </tr>\n",
       "    <tr>\n",
       "      <th rowspan=\"9\" valign=\"top\">50</th>\n",
       "      <th>0.20</th>\n",
       "      <td>0.135694</td>\n",
       "      <td>6.175425</td>\n",
       "      <td>6.230188</td>\n",
       "    </tr>\n",
       "    <tr>\n",
       "      <th>0.25</th>\n",
       "      <td>0.167368</td>\n",
       "      <td>5.798818</td>\n",
       "      <td>7.741274</td>\n",
       "    </tr>\n",
       "    <tr>\n",
       "      <th>0.30</th>\n",
       "      <td>0.200260</td>\n",
       "      <td>5.634440</td>\n",
       "      <td>8.726322</td>\n",
       "    </tr>\n",
       "    <tr>\n",
       "      <th>0.50</th>\n",
       "      <td>0.169228</td>\n",
       "      <td>4.754217</td>\n",
       "      <td>10.227773</td>\n",
       "    </tr>\n",
       "    <tr>\n",
       "      <th>0.75</th>\n",
       "      <td>0.157111</td>\n",
       "      <td>4.447878</td>\n",
       "      <td>10.396865</td>\n",
       "    </tr>\n",
       "    <tr>\n",
       "      <th>0.90</th>\n",
       "      <td>0.153546</td>\n",
       "      <td>4.404055</td>\n",
       "      <td>10.531321</td>\n",
       "    </tr>\n",
       "    <tr>\n",
       "      <th>1.00</th>\n",
       "      <td>0.158402</td>\n",
       "      <td>4.451811</td>\n",
       "      <td>10.406397</td>\n",
       "    </tr>\n",
       "    <tr>\n",
       "      <th>2.00</th>\n",
       "      <td>0.148342</td>\n",
       "      <td>4.336214</td>\n",
       "      <td>10.505818</td>\n",
       "    </tr>\n",
       "    <tr>\n",
       "      <th>5.00</th>\n",
       "      <td>0.151441</td>\n",
       "      <td>4.266790</td>\n",
       "      <td>10.621190</td>\n",
       "    </tr>\n",
       "    <tr>\n",
       "      <th rowspan=\"9\" valign=\"top\">60</th>\n",
       "      <th>0.20</th>\n",
       "      <td>0.159246</td>\n",
       "      <td>5.572807</td>\n",
       "      <td>6.386899</td>\n",
       "    </tr>\n",
       "    <tr>\n",
       "      <th>0.25</th>\n",
       "      <td>0.199550</td>\n",
       "      <td>5.374695</td>\n",
       "      <td>7.395226</td>\n",
       "    </tr>\n",
       "    <tr>\n",
       "      <th>0.30</th>\n",
       "      <td>0.197261</td>\n",
       "      <td>5.062920</td>\n",
       "      <td>8.152060</td>\n",
       "    </tr>\n",
       "    <tr>\n",
       "      <th>0.50</th>\n",
       "      <td>0.157012</td>\n",
       "      <td>4.564795</td>\n",
       "      <td>9.378106</td>\n",
       "    </tr>\n",
       "    <tr>\n",
       "      <th>0.75</th>\n",
       "      <td>0.147941</td>\n",
       "      <td>4.120547</td>\n",
       "      <td>9.638304</td>\n",
       "    </tr>\n",
       "    <tr>\n",
       "      <th>0.90</th>\n",
       "      <td>0.146499</td>\n",
       "      <td>4.079069</td>\n",
       "      <td>9.716912</td>\n",
       "    </tr>\n",
       "    <tr>\n",
       "      <th>1.00</th>\n",
       "      <td>0.145322</td>\n",
       "      <td>4.085656</td>\n",
       "      <td>9.650849</td>\n",
       "    </tr>\n",
       "    <tr>\n",
       "      <th>2.00</th>\n",
       "      <td>0.132927</td>\n",
       "      <td>3.971686</td>\n",
       "      <td>9.704918</td>\n",
       "    </tr>\n",
       "    <tr>\n",
       "      <th>5.00</th>\n",
       "      <td>0.140429</td>\n",
       "      <td>3.980554</td>\n",
       "      <td>9.731616</td>\n",
       "    </tr>\n",
       "  </tbody>\n",
       "</table>\n",
       "</div>"
      ],
      "text/plain": [
       "                  si_score   ch_score   db_score\n",
       "n_clusters delta                                \n",
       "2          0.20   0.413614  16.542994   1.326855\n",
       "           0.25   0.413614  16.542994   1.326855\n",
       "           0.30   0.368615  34.670727   2.425191\n",
       "           0.50   0.234743  42.049828   7.076596\n",
       "           0.75   0.231760  41.754969   7.177313\n",
       "           0.90   0.231284  41.718377   7.194527\n",
       "           1.00   0.231165  41.702895   7.200270\n",
       "           2.00   0.230672  41.638151   7.218554\n",
       "           5.00   0.230244  41.607744   7.229253\n",
       "4          0.20   0.360273  19.740462   1.690525\n",
       "           0.25   0.360535  22.942921   1.847986\n",
       "           0.30   0.242972  26.978885   4.747947\n",
       "           0.50   0.082288  22.351183  22.864690\n",
       "           0.75   0.084110  23.120337  23.276366\n",
       "           0.90   0.083880  22.702688  23.794605\n",
       "           1.00   0.083580  22.564575  23.781575\n",
       "           2.00   0.083282  22.442862  23.821061\n",
       "           5.00   0.083348  22.461277  23.856868\n",
       "6          0.20   0.366359  20.425972   1.837357\n",
       "           0.25   0.365797  20.046437   1.746620\n",
       "           0.30   0.236124  23.135499   4.009738\n",
       "           0.50   0.109237  12.200735  22.070676\n",
       "           0.75   0.111349  14.130102  24.115422\n",
       "           0.90   0.111232  14.113890  24.049769\n",
       "           1.00   0.111185  14.150510  24.055555\n",
       "           2.00   0.111246  14.140997  24.089643\n",
       "           5.00   0.111201  14.136393  24.101181\n",
       "8          0.20   0.357209  17.387431   1.697888\n",
       "           0.25   0.236339  19.231336   3.268454\n",
       "           0.30   0.097090  18.124565  12.077804\n",
       "           0.50   0.128245  12.591100  20.243977\n",
       "           0.75   0.130530  12.742945  20.259797\n",
       "           0.90   0.126823  10.642263  21.268036\n",
       "           1.00   0.126990  10.626619  21.296968\n",
       "           2.00   0.126434  10.557087  21.181159\n",
       "           5.00   0.126459  10.520778  21.183807\n",
       "10         0.20   0.284170  15.074891   1.757023\n",
       "           0.25   0.355434  15.219486   1.563548\n",
       "           0.30   0.124279  13.968309  13.796353\n",
       "           0.50   0.144429  10.344150  19.132386\n",
       "           0.75   0.143755  10.236289  19.159049\n",
       "           0.90   0.143632  10.216391  19.164452\n",
       "           1.00   0.143715  10.206756  19.140381\n",
       "           2.00   0.142988  10.197105  19.115426\n",
       "           5.00   0.143260  10.165703  19.105710\n",
       "12         0.20   0.285607  14.146016   1.699672\n",
       "           0.25   0.233302  15.084909   2.615192\n",
       "           0.30   0.135423  12.607465  13.497259\n",
       "           0.50   0.150808   8.733372  17.919284\n",
       "           0.75   0.151032   8.627467  18.067012\n",
       "           0.90   0.151315   8.576388  18.027533\n",
       "           1.00   0.151144   8.587486  18.107086\n",
       "           2.00   0.150650   8.552906  18.104717\n",
       "           5.00   0.150593   8.548048  18.093403\n",
       "14         0.20   0.227774  14.151272   2.517564\n",
       "           0.25   0.231886  14.058889   2.443331\n",
       "           0.30   0.140035  11.941406  12.132178\n",
       "           0.50   0.158400   9.761977  15.639972\n",
       "           0.75   0.152182   7.374205  17.143697\n",
       "           0.90   0.153292   7.294380  17.146184\n",
       "           1.00   0.153992   7.253994  17.026560\n",
       "           2.00   0.153823   6.938585  17.255631\n",
       "           5.00   0.153659   7.093428  17.113368\n",
       "16         0.20   0.283238  12.298237   1.729705\n",
       "           0.25   0.223490  12.777555   2.448653\n",
       "           0.30   0.144274  11.256034  11.286941\n",
       "           0.50   0.161586   8.369534  15.176500\n",
       "           0.75   0.161521   6.373406  16.632005\n",
       "           0.90   0.160940   6.056925  16.853569\n",
       "           1.00   0.157733   6.403386  16.609713\n",
       "           2.00   0.155862   6.419136  16.419681\n",
       "           5.00   0.161450   6.039358  16.833968\n",
       "18         0.20   0.249320  11.263819   1.625233\n",
       "           0.25   0.125457  11.910868   5.787644\n",
       "           0.30   0.144546  10.692061  10.815542\n",
       "           0.50   0.166115   7.394531  15.008111\n",
       "           0.75   0.162603   5.645726  16.245293\n",
       "           0.90   0.160297   5.556910  16.230812\n",
       "           1.00   0.161840   5.505517  16.311693\n",
       "           2.00   0.165377   5.449084  16.404252\n",
       "           5.00   0.160016   5.403093  16.403437\n",
       "20         0.20   0.205376  10.798652   1.815994\n",
       "           0.25   0.103113  11.020767   5.929915\n",
       "           0.30   0.159514   9.901479  10.548795\n",
       "           0.50   0.166908   6.786704  14.734527\n",
       "           0.75   0.168927   5.797583  15.206554\n",
       "           0.90   0.173561   5.722083  15.318029\n",
       "           1.00   0.173545   5.742575  15.270381\n",
       "           2.00   0.166195   5.298519  15.489795\n",
       "           5.00   0.167234   5.164671  15.722615\n",
       "25         0.20   0.154849   9.776046   3.148807\n",
       "           0.25   0.121652   9.265791   6.429839\n",
       "           0.30   0.166854   8.611146  10.448716\n",
       "           0.50   0.175948   6.086624  13.610013\n",
       "           0.75   0.172689   5.758055  13.844766\n",
       "           0.90   0.167577   5.396709  13.966477\n",
       "           1.00   0.171615   5.077164  14.215377\n",
       "           2.00   0.166753   4.945485  14.224770\n",
       "           5.00   0.167437   4.913238  14.242148\n",
       "30         0.20   0.114545   8.485304   4.403262\n",
       "           0.25   0.124820   8.235304   6.941471\n",
       "           0.30   0.175867   7.663992   9.959729\n",
       "           0.50   0.175988   5.842064  12.430876\n",
       "           0.75   0.173396   5.247723  12.993672\n",
       "           0.90   0.169778   5.135370  13.145408\n",
       "           1.00   0.167495   5.090752  13.158267\n",
       "           2.00   0.168811   4.667306  13.363968\n",
       "           5.00   0.169222   4.600956  13.383076\n",
       "35         0.20   0.112725   7.689515   5.506202\n",
       "           0.25   0.148548   7.297704   7.914178\n",
       "           0.30   0.178691   6.846334   9.750463\n",
       "           0.50   0.179426   5.710311  11.472085\n",
       "           0.75   0.173565   5.002994  12.116099\n",
       "           0.90   0.171960   5.003558  12.038884\n",
       "           1.00   0.167935   4.875762  12.102341\n",
       "           2.00   0.165342   4.782212  12.218782\n",
       "           5.00   0.161624   4.689316  12.349839\n",
       "40         0.20   0.137873   7.007758   6.189220\n",
       "           0.25   0.158410   6.648506   7.991330\n",
       "           0.30   0.190481   6.235980   9.451625\n",
       "           0.50   0.180397   5.344059  10.913225\n",
       "           0.75   0.167003   5.038510  11.239348\n",
       "           0.90   0.169636   4.948436  11.243646\n",
       "           1.00   0.166127   4.889939  11.256232\n",
       "           2.00   0.158949   4.674428  11.407379\n",
       "           5.00   0.155528   4.523869  11.480943\n",
       "50         0.20   0.135694   6.175425   6.230188\n",
       "           0.25   0.167368   5.798818   7.741274\n",
       "           0.30   0.200260   5.634440   8.726322\n",
       "           0.50   0.169228   4.754217  10.227773\n",
       "           0.75   0.157111   4.447878  10.396865\n",
       "           0.90   0.153546   4.404055  10.531321\n",
       "           1.00   0.158402   4.451811  10.406397\n",
       "           2.00   0.148342   4.336214  10.505818\n",
       "           5.00   0.151441   4.266790  10.621190\n",
       "60         0.20   0.159246   5.572807   6.386899\n",
       "           0.25   0.199550   5.374695   7.395226\n",
       "           0.30   0.197261   5.062920   8.152060\n",
       "           0.50   0.157012   4.564795   9.378106\n",
       "           0.75   0.147941   4.120547   9.638304\n",
       "           0.90   0.146499   4.079069   9.716912\n",
       "           1.00   0.145322   4.085656   9.650849\n",
       "           2.00   0.132927   3.971686   9.704918\n",
       "           5.00   0.140429   3.980554   9.731616"
      ]
     },
     "metadata": {},
     "output_type": "display_data"
    }
   ],
   "source": [
    "with pd.option_context(\"display.max_rows\", None, \"display.max_columns\", None):\n",
    "    _df = ensemble.groupby([\"n_clusters\", \"delta\"]).mean()\n",
    "    display(_df)"
   ]
  },
  {
   "cell_type": "code",
   "execution_count": 65,
   "metadata": {
    "execution": {
     "iopub.execute_input": "2021-03-11T03:00:59.368120Z",
     "iopub.status.busy": "2021-03-11T03:00:59.367754Z",
     "iopub.status.idle": "2021-03-11T03:01:02.662417Z",
     "shell.execute_reply": "2021-03-11T03:01:02.662715Z"
    },
    "papermill": {
     "duration": 3.45611,
     "end_time": "2021-03-11T03:01:02.662818",
     "exception": false,
     "start_time": "2021-03-11T03:00:59.206708",
     "status": "completed"
    },
    "tags": []
   },
   "outputs": [
    {
     "data": {
      "image/png": "[encoded data removed]",
      "text/plain": [
       "<Figure size 1008x432 with 1 Axes>"
      ]
     },
     "metadata": {},
     "output_type": "display_data"
    }
   ],
   "source": [
    "with sns.plotting_context(\"talk\", font_scale=0.75), sns.axes_style(\n",
    "    \"whitegrid\", {\"grid.linestyle\": \"--\"}\n",
    "):\n",
    "    fig = plt.figure(figsize=(14, 6))\n",
    "    ax = sns.pointplot(data=ensemble, x=\"n_clusters\", y=\"si_score\", hue=\"delta\")\n",
    "    ax.set_ylabel(\"Silhouette index\\n(higher is better)\")\n",
    "    ax.set_xlabel(\"Number of clusters ($k$)\")\n",
    "    ax.set_xticklabels(ax.get_xticklabels(), rotation=45)\n",
    "    plt.grid(True)\n",
    "    plt.tight_layout()"
   ]
  },
  {
   "cell_type": "code",
   "execution_count": 66,
   "metadata": {
    "execution": {
     "iopub.execute_input": "2021-03-11T03:01:02.987296Z",
     "iopub.status.busy": "2021-03-11T03:01:02.986924Z",
     "iopub.status.idle": "2021-03-11T03:01:05.908392Z",
     "shell.execute_reply": "2021-03-11T03:01:05.908686Z"
    },
    "papermill": {
     "duration": 3.086204,
     "end_time": "2021-03-11T03:01:05.908824",
     "exception": false,
     "start_time": "2021-03-11T03:01:02.822620",
     "status": "completed"
    },
    "tags": []
   },
   "outputs": [
    {
     "data": {
      "image/png": "[encoded data removed]",
      "text/plain": [
       "<Figure size 1008x432 with 1 Axes>"
      ]
     },
     "metadata": {},
     "output_type": "display_data"
    }
   ],
   "source": [
    "with sns.plotting_context(\"talk\", font_scale=0.75), sns.axes_style(\n",
    "    \"whitegrid\", {\"grid.linestyle\": \"--\"}\n",
    "):\n",
    "    fig = plt.figure(figsize=(14, 6))\n",
    "    ax = sns.pointplot(data=ensemble, x=\"n_clusters\", y=\"ch_score\", hue=\"delta\")\n",
    "    ax.set_ylabel(\"Calinski-Harabasz index\\n(higher is better)\")\n",
    "    ax.set_xlabel(\"Number of clusters ($k$)\")\n",
    "    ax.set_xticklabels(ax.get_xticklabels(), rotation=45)\n",
    "    plt.grid(True)\n",
    "    plt.tight_layout()"
   ]
  },
  {
   "cell_type": "code",
   "execution_count": 67,
   "metadata": {
    "execution": {
     "iopub.execute_input": "2021-03-11T03:01:06.240468Z",
     "iopub.status.busy": "2021-03-11T03:01:06.240105Z",
     "iopub.status.idle": "2021-03-11T03:01:09.209781Z",
     "shell.execute_reply": "2021-03-11T03:01:09.210075Z"
    },
    "papermill": {
     "duration": 3.138118,
     "end_time": "2021-03-11T03:01:09.210178",
     "exception": false,
     "start_time": "2021-03-11T03:01:06.072060",
     "status": "completed"
    },
    "tags": []
   },
   "outputs": [
    {
     "data": {
      "image/png": "[encoded data removed]",
      "text/plain": [
       "<Figure size 1008x432 with 1 Axes>"
      ]
     },
     "metadata": {},
     "output_type": "display_data"
    }
   ],
   "source": [
    "with sns.plotting_context(\"talk\", font_scale=0.75), sns.axes_style(\n",
    "    \"whitegrid\", {\"grid.linestyle\": \"--\"}\n",
    "):\n",
    "    fig = plt.figure(figsize=(14, 6))\n",
    "    ax = sns.pointplot(data=ensemble, x=\"n_clusters\", y=\"db_score\", hue=\"delta\")\n",
    "    ax.set_ylabel(\"Davies-Bouldin index\\n(lower is better)\")\n",
    "    ax.set_xlabel(\"Number of clusters ($k$)\")\n",
    "    ax.set_xticklabels(ax.get_xticklabels(), rotation=45)\n",
    "    plt.grid(True)\n",
    "    plt.tight_layout()"
   ]
  },
  {
   "cell_type": "markdown",
   "metadata": {
    "papermill": {
     "duration": 0.163635,
     "end_time": "2021-03-11T03:01:09.537349",
     "exception": false,
     "start_time": "2021-03-11T03:01:09.373714",
     "status": "completed"
    },
    "tags": []
   },
   "source": [
    "# Stability"
   ]
  },
  {
   "cell_type": "markdown",
   "metadata": {
    "papermill": {
     "duration": 0.165867,
     "end_time": "2021-03-11T03:01:09.870312",
     "exception": false,
     "start_time": "2021-03-11T03:01:09.704445",
     "status": "completed"
    },
    "tags": []
   },
   "source": [
    "## Group ensemble by n_clusters"
   ]
  },
  {
   "cell_type": "code",
   "execution_count": 68,
   "metadata": {
    "execution": {
     "iopub.execute_input": "2021-03-11T03:01:10.200317Z",
     "iopub.status.busy": "2021-03-11T03:01:10.199953Z",
     "iopub.status.idle": "2021-03-11T03:01:10.242880Z",
     "shell.execute_reply": "2021-03-11T03:01:10.242511Z"
    },
    "papermill": {
     "duration": 0.210372,
     "end_time": "2021-03-11T03:01:10.242965",
     "exception": false,
     "start_time": "2021-03-11T03:01:10.032593",
     "status": "completed"
    },
    "tags": []
   },
   "outputs": [],
   "source": [
    "parts = ensemble.groupby([\"delta\", \"n_clusters\"]).apply(\n",
    "    lambda x: np.concatenate(x[\"partition\"].apply(lambda x: x.reshape(1, -1)), axis=0)\n",
    ")"
   ]
  },
  {
   "cell_type": "code",
   "execution_count": 69,
   "metadata": {
    "execution": {
     "iopub.execute_input": "2021-03-11T03:01:10.572480Z",
     "iopub.status.busy": "2021-03-11T03:01:10.572083Z",
     "iopub.status.idle": "2021-03-11T03:01:10.583872Z",
     "shell.execute_reply": "2021-03-11T03:01:10.583501Z"
    },
    "papermill": {
     "duration": 0.178366,
     "end_time": "2021-03-11T03:01:10.583956",
     "exception": false,
     "start_time": "2021-03-11T03:01:10.405590",
     "status": "completed"
    },
    "tags": []
   },
   "outputs": [
    {
     "data": {
      "text/plain": [
       "(144,)"
      ]
     },
     "execution_count": 69,
     "metadata": {},
     "output_type": "execute_result"
    }
   ],
   "source": [
    "parts.shape"
   ]
  },
  {
   "cell_type": "code",
   "execution_count": 70,
   "metadata": {
    "execution": {
     "iopub.execute_input": "2021-03-11T03:01:10.916297Z",
     "iopub.status.busy": "2021-03-11T03:01:10.915927Z",
     "iopub.status.idle": "2021-03-11T03:01:10.938257Z",
     "shell.execute_reply": "2021-03-11T03:01:10.937886Z"
    },
    "papermill": {
     "duration": 0.189171,
     "end_time": "2021-03-11T03:01:10.938343",
     "exception": false,
     "start_time": "2021-03-11T03:01:10.749172",
     "status": "completed"
    },
    "tags": []
   },
   "outputs": [
    {
     "data": {
      "text/plain": [
       "delta  n_clusters\n",
       "0.20   2             [[0.0, 0.0, 0.0, 0.0, 0.0, 0.0, 0.0, 0.0, 0.0,...\n",
       "       4             [[0.0, 0.0, 0.0, 0.0, 0.0, 0.0, 0.0, 0.0, 0.0,...\n",
       "       6             [[0.0, 0.0, 0.0, 0.0, 0.0, 0.0, 0.0, 0.0, 0.0,...\n",
       "       8             [[0.0, 0.0, 0.0, 0.0, 0.0, 0.0, 0.0, 0.0, 0.0,...\n",
       "       10            [[0.0, 0.0, 0.0, 0.0, 0.0, 0.0, 0.0, 0.0, 0.0,...\n",
       "dtype: object"
      ]
     },
     "execution_count": 70,
     "metadata": {},
     "output_type": "execute_result"
    }
   ],
   "source": [
    "parts.head()"
   ]
  },
  {
   "cell_type": "code",
   "execution_count": 71,
   "metadata": {
    "execution": {
     "iopub.execute_input": "2021-03-11T03:01:11.299685Z",
     "iopub.status.busy": "2021-03-11T03:01:11.299313Z",
     "iopub.status.idle": "2021-03-11T03:01:11.311422Z",
     "shell.execute_reply": "2021-03-11T03:01:11.311124Z"
    },
    "papermill": {
     "duration": 0.181795,
     "end_time": "2021-03-11T03:01:11.311507",
     "exception": false,
     "start_time": "2021-03-11T03:01:11.129712",
     "status": "completed"
    },
    "tags": []
   },
   "outputs": [
    {
     "data": {
      "text/plain": [
       "(5, 3752)"
      ]
     },
     "execution_count": 71,
     "metadata": {},
     "output_type": "execute_result"
    }
   ],
   "source": [
    "parts.iloc[0].shape"
   ]
  },
  {
   "cell_type": "code",
   "execution_count": 72,
   "metadata": {
    "execution": {
     "iopub.execute_input": "2021-03-11T03:01:11.643759Z",
     "iopub.status.busy": "2021-03-11T03:01:11.643400Z",
     "iopub.status.idle": "2021-03-11T03:01:11.659863Z",
     "shell.execute_reply": "2021-03-11T03:01:11.659493Z"
    },
    "papermill": {
     "duration": 0.183861,
     "end_time": "2021-03-11T03:01:11.659950",
     "exception": false,
     "start_time": "2021-03-11T03:01:11.476089",
     "status": "completed"
    },
    "tags": []
   },
   "outputs": [],
   "source": [
    "assert np.all(\n",
    "    [\n",
    "        parts.loc[k].shape == (int(CLUSTERING_OPTIONS[\"N_REPS_PER_K\"]), data.shape[0])\n",
    "        for k in parts.index\n",
    "    ]\n",
    ")"
   ]
  },
  {
   "cell_type": "markdown",
   "metadata": {
    "papermill": {
     "duration": 0.162452,
     "end_time": "2021-03-11T03:01:11.986959",
     "exception": false,
     "start_time": "2021-03-11T03:01:11.824507",
     "status": "completed"
    },
    "tags": []
   },
   "source": [
    "## Compute stability"
   ]
  },
  {
   "cell_type": "code",
   "execution_count": 73,
   "metadata": {
    "execution": {
     "iopub.execute_input": "2021-03-11T03:01:12.315316Z",
     "iopub.status.busy": "2021-03-11T03:01:12.314962Z",
     "iopub.status.idle": "2021-03-11T03:01:12.325207Z",
     "shell.execute_reply": "2021-03-11T03:01:12.324848Z"
    },
    "papermill": {
     "duration": 0.175313,
     "end_time": "2021-03-11T03:01:12.325289",
     "exception": false,
     "start_time": "2021-03-11T03:01:12.149976",
     "status": "completed"
    },
    "tags": []
   },
   "outputs": [],
   "source": [
    "from sklearn.metrics import adjusted_rand_score as ari\n",
    "from scipy.spatial.distance import pdist"
   ]
  },
  {
   "cell_type": "code",
   "execution_count": 74,
   "metadata": {
    "execution": {
     "iopub.execute_input": "2021-03-11T03:01:12.652633Z",
     "iopub.status.busy": "2021-03-11T03:01:12.652261Z",
     "iopub.status.idle": "2021-03-11T03:01:13.980116Z",
     "shell.execute_reply": "2021-03-11T03:01:13.979740Z"
    },
    "papermill": {
     "duration": 1.493145,
     "end_time": "2021-03-11T03:01:13.980200",
     "exception": false,
     "start_time": "2021-03-11T03:01:12.487055",
     "status": "completed"
    },
    "tags": []
   },
   "outputs": [],
   "source": [
    "parts_ari = pd.Series(\n",
    "    {k: pdist(parts.loc[k], metric=ari) for k in parts.index}, name=\"n_clusters\"\n",
    ")"
   ]
  },
  {
   "cell_type": "code",
   "execution_count": 75,
   "metadata": {
    "execution": {
     "iopub.execute_input": "2021-03-11T03:01:14.311501Z",
     "iopub.status.busy": "2021-03-11T03:01:14.311091Z",
     "iopub.status.idle": "2021-03-11T03:01:14.325189Z",
     "shell.execute_reply": "2021-03-11T03:01:14.324816Z"
    },
    "papermill": {
     "duration": 0.17994,
     "end_time": "2021-03-11T03:01:14.325271",
     "exception": false,
     "start_time": "2021-03-11T03:01:14.145331",
     "status": "completed"
    },
    "tags": []
   },
   "outputs": [
    {
     "data": {
      "text/plain": [
       "0.20  2     1.0\n",
       "5.00  2     1.0\n",
       "0.30  2     1.0\n",
       "      4     1.0\n",
       "      6     1.0\n",
       "0.25  10    1.0\n",
       "      8     1.0\n",
       "      6     1.0\n",
       "1.00  6     1.0\n",
       "0.25  4     1.0\n",
       "      2     1.0\n",
       "0.20  18    1.0\n",
       "1.00  2     1.0\n",
       "0.25  14    1.0\n",
       "0.20  14    1.0\n",
       "Name: n_clusters, dtype: float64"
      ]
     },
     "metadata": {},
     "output_type": "display_data"
    }
   ],
   "source": [
    "parts_ari_stability = parts_ari.apply(lambda x: x.mean())\n",
    "display(parts_ari_stability.sort_values(ascending=False).head(15))"
   ]
  },
  {
   "cell_type": "code",
   "execution_count": 76,
   "metadata": {
    "execution": {
     "iopub.execute_input": "2021-03-11T03:01:14.654769Z",
     "iopub.status.busy": "2021-03-11T03:01:14.654409Z",
     "iopub.status.idle": "2021-03-11T03:01:14.665930Z",
     "shell.execute_reply": "2021-03-11T03:01:14.666223Z"
    },
    "papermill": {
     "duration": 0.177707,
     "end_time": "2021-03-11T03:01:14.666328",
     "exception": false,
     "start_time": "2021-03-11T03:01:14.488621",
     "status": "completed"
    },
    "tags": []
   },
   "outputs": [],
   "source": [
    "parts_ari_df = pd.DataFrame.from_records(parts_ari.tolist()).set_index(\n",
    "    parts_ari.index.copy()\n",
    ")\n",
    "parts_ari_df.index.rename([\"delta\", \"n_clusters\"], inplace=True)"
   ]
  },
  {
   "cell_type": "code",
   "execution_count": 77,
   "metadata": {
    "execution": {
     "iopub.execute_input": "2021-03-11T03:01:14.994217Z",
     "iopub.status.busy": "2021-03-11T03:01:14.993862Z",
     "iopub.status.idle": "2021-03-11T03:01:15.005262Z",
     "shell.execute_reply": "2021-03-11T03:01:15.004892Z"
    },
    "papermill": {
     "duration": 0.175381,
     "end_time": "2021-03-11T03:01:15.005346",
     "exception": false,
     "start_time": "2021-03-11T03:01:14.829965",
     "status": "completed"
    },
    "tags": []
   },
   "outputs": [
    {
     "data": {
      "text/plain": [
       "(144, 10)"
      ]
     },
     "execution_count": 77,
     "metadata": {},
     "output_type": "execute_result"
    }
   ],
   "source": [
    "parts_ari_df.shape"
   ]
  },
  {
   "cell_type": "code",
   "execution_count": 78,
   "metadata": {
    "execution": {
     "iopub.execute_input": "2021-03-11T03:01:15.338307Z",
     "iopub.status.busy": "2021-03-11T03:01:15.337943Z",
     "iopub.status.idle": "2021-03-11T03:01:15.348654Z",
     "shell.execute_reply": "2021-03-11T03:01:15.348291Z"
    },
    "papermill": {
     "duration": 0.176714,
     "end_time": "2021-03-11T03:01:15.348788",
     "exception": false,
     "start_time": "2021-03-11T03:01:15.172074",
     "status": "completed"
    },
    "tags": []
   },
   "outputs": [],
   "source": [
    "_n_total_parts = int(CLUSTERING_OPTIONS[\"N_REPS_PER_K\"])\n",
    "\n",
    "assert int(_n_total_parts * (_n_total_parts - 1) / 2) == parts_ari_df.shape[1]"
   ]
  },
  {
   "cell_type": "code",
   "execution_count": 79,
   "metadata": {
    "execution": {
     "iopub.execute_input": "2021-03-11T03:01:15.678783Z",
     "iopub.status.busy": "2021-03-11T03:01:15.678429Z",
     "iopub.status.idle": "2021-03-11T03:01:15.697758Z",
     "shell.execute_reply": "2021-03-11T03:01:15.697382Z"
    },
    "papermill": {
     "duration": 0.186217,
     "end_time": "2021-03-11T03:01:15.697845",
     "exception": false,
     "start_time": "2021-03-11T03:01:15.511628",
     "status": "completed"
    },
    "tags": []
   },
   "outputs": [
    {
     "data": {
      "text/html": [
       "<div>\n",
       "<style scoped>\n",
       "    .dataframe tbody tr th:only-of-type {\n",
       "        vertical-align: middle;\n",
       "    }\n",
       "\n",
       "    .dataframe tbody tr th {\n",
       "        vertical-align: top;\n",
       "    }\n",
       "\n",
       "    .dataframe thead th {\n",
       "        text-align: right;\n",
       "    }\n",
       "</style>\n",
       "<table border=\"1\" class=\"dataframe\">\n",
       "  <thead>\n",
       "    <tr style=\"text-align: right;\">\n",
       "      <th></th>\n",
       "      <th></th>\n",
       "      <th>0</th>\n",
       "      <th>1</th>\n",
       "      <th>2</th>\n",
       "      <th>3</th>\n",
       "      <th>4</th>\n",
       "      <th>5</th>\n",
       "      <th>6</th>\n",
       "      <th>7</th>\n",
       "      <th>8</th>\n",
       "      <th>9</th>\n",
       "    </tr>\n",
       "    <tr>\n",
       "      <th>delta</th>\n",
       "      <th>n_clusters</th>\n",
       "      <th></th>\n",
       "      <th></th>\n",
       "      <th></th>\n",
       "      <th></th>\n",
       "      <th></th>\n",
       "      <th></th>\n",
       "      <th></th>\n",
       "      <th></th>\n",
       "      <th></th>\n",
       "      <th></th>\n",
       "    </tr>\n",
       "  </thead>\n",
       "  <tbody>\n",
       "    <tr>\n",
       "      <th rowspan=\"5\" valign=\"top\">0.20</th>\n",
       "      <th>2</th>\n",
       "      <td>1.0</td>\n",
       "      <td>1.0</td>\n",
       "      <td>1.0</td>\n",
       "      <td>1.0</td>\n",
       "      <td>1.0</td>\n",
       "      <td>1.0</td>\n",
       "      <td>1.0</td>\n",
       "      <td>1.0</td>\n",
       "      <td>1.0</td>\n",
       "      <td>1.0</td>\n",
       "    </tr>\n",
       "    <tr>\n",
       "      <th>4</th>\n",
       "      <td>1.0</td>\n",
       "      <td>1.0</td>\n",
       "      <td>1.0</td>\n",
       "      <td>1.0</td>\n",
       "      <td>1.0</td>\n",
       "      <td>1.0</td>\n",
       "      <td>1.0</td>\n",
       "      <td>1.0</td>\n",
       "      <td>1.0</td>\n",
       "      <td>1.0</td>\n",
       "    </tr>\n",
       "    <tr>\n",
       "      <th>6</th>\n",
       "      <td>1.0</td>\n",
       "      <td>1.0</td>\n",
       "      <td>1.0</td>\n",
       "      <td>1.0</td>\n",
       "      <td>1.0</td>\n",
       "      <td>1.0</td>\n",
       "      <td>1.0</td>\n",
       "      <td>1.0</td>\n",
       "      <td>1.0</td>\n",
       "      <td>1.0</td>\n",
       "    </tr>\n",
       "    <tr>\n",
       "      <th>8</th>\n",
       "      <td>1.0</td>\n",
       "      <td>1.0</td>\n",
       "      <td>1.0</td>\n",
       "      <td>1.0</td>\n",
       "      <td>1.0</td>\n",
       "      <td>1.0</td>\n",
       "      <td>1.0</td>\n",
       "      <td>1.0</td>\n",
       "      <td>1.0</td>\n",
       "      <td>1.0</td>\n",
       "    </tr>\n",
       "    <tr>\n",
       "      <th>10</th>\n",
       "      <td>1.0</td>\n",
       "      <td>1.0</td>\n",
       "      <td>1.0</td>\n",
       "      <td>1.0</td>\n",
       "      <td>1.0</td>\n",
       "      <td>1.0</td>\n",
       "      <td>1.0</td>\n",
       "      <td>1.0</td>\n",
       "      <td>1.0</td>\n",
       "      <td>1.0</td>\n",
       "    </tr>\n",
       "  </tbody>\n",
       "</table>\n",
       "</div>"
      ],
      "text/plain": [
       "                    0    1    2    3    4    5    6    7    8    9\n",
       "delta n_clusters                                                  \n",
       "0.20  2           1.0  1.0  1.0  1.0  1.0  1.0  1.0  1.0  1.0  1.0\n",
       "      4           1.0  1.0  1.0  1.0  1.0  1.0  1.0  1.0  1.0  1.0\n",
       "      6           1.0  1.0  1.0  1.0  1.0  1.0  1.0  1.0  1.0  1.0\n",
       "      8           1.0  1.0  1.0  1.0  1.0  1.0  1.0  1.0  1.0  1.0\n",
       "      10          1.0  1.0  1.0  1.0  1.0  1.0  1.0  1.0  1.0  1.0"
      ]
     },
     "execution_count": 79,
     "metadata": {},
     "output_type": "execute_result"
    }
   ],
   "source": [
    "parts_ari_df.head()"
   ]
  },
  {
   "cell_type": "markdown",
   "metadata": {
    "papermill": {
     "duration": 0.167405,
     "end_time": "2021-03-11T03:01:16.029846",
     "exception": false,
     "start_time": "2021-03-11T03:01:15.862441",
     "status": "completed"
    },
    "tags": []
   },
   "source": [
    "## Stability plot"
   ]
  },
  {
   "cell_type": "code",
   "execution_count": 80,
   "metadata": {
    "execution": {
     "iopub.execute_input": "2021-03-11T03:01:16.360630Z",
     "iopub.status.busy": "2021-03-11T03:01:16.360269Z",
     "iopub.status.idle": "2021-03-11T03:01:16.373231Z",
     "shell.execute_reply": "2021-03-11T03:01:16.372851Z"
    },
    "papermill": {
     "duration": 0.179348,
     "end_time": "2021-03-11T03:01:16.373317",
     "exception": false,
     "start_time": "2021-03-11T03:01:16.193969",
     "status": "completed"
    },
    "tags": []
   },
   "outputs": [],
   "source": [
    "parts_ari_df_plot = (\n",
    "    parts_ari_df.stack().reset_index().rename(columns={\"level_2\": \"idx\", 0: \"ari\"})\n",
    ")"
   ]
  },
  {
   "cell_type": "code",
   "execution_count": 81,
   "metadata": {
    "execution": {
     "iopub.execute_input": "2021-03-11T03:01:16.705075Z",
     "iopub.status.busy": "2021-03-11T03:01:16.704673Z",
     "iopub.status.idle": "2021-03-11T03:01:16.716577Z",
     "shell.execute_reply": "2021-03-11T03:01:16.716227Z"
    },
    "papermill": {
     "duration": 0.178537,
     "end_time": "2021-03-11T03:01:16.716658",
     "exception": false,
     "start_time": "2021-03-11T03:01:16.538121",
     "status": "completed"
    },
    "tags": []
   },
   "outputs": [
    {
     "data": {
      "text/plain": [
       "delta          object\n",
       "n_clusters      int64\n",
       "idx             int64\n",
       "ari           float64\n",
       "dtype: object"
      ]
     },
     "execution_count": 81,
     "metadata": {},
     "output_type": "execute_result"
    }
   ],
   "source": [
    "parts_ari_df_plot.dtypes"
   ]
  },
  {
   "cell_type": "code",
   "execution_count": 82,
   "metadata": {
    "execution": {
     "iopub.execute_input": "2021-03-11T03:01:17.052613Z",
     "iopub.status.busy": "2021-03-11T03:01:17.052256Z",
     "iopub.status.idle": "2021-03-11T03:01:17.066960Z",
     "shell.execute_reply": "2021-03-11T03:01:17.066569Z"
    },
    "papermill": {
     "duration": 0.185256,
     "end_time": "2021-03-11T03:01:17.067049",
     "exception": false,
     "start_time": "2021-03-11T03:01:16.881793",
     "status": "completed"
    },
    "tags": []
   },
   "outputs": [
    {
     "data": {
      "text/html": [
       "<div>\n",
       "<style scoped>\n",
       "    .dataframe tbody tr th:only-of-type {\n",
       "        vertical-align: middle;\n",
       "    }\n",
       "\n",
       "    .dataframe tbody tr th {\n",
       "        vertical-align: top;\n",
       "    }\n",
       "\n",
       "    .dataframe thead th {\n",
       "        text-align: right;\n",
       "    }\n",
       "</style>\n",
       "<table border=\"1\" class=\"dataframe\">\n",
       "  <thead>\n",
       "    <tr style=\"text-align: right;\">\n",
       "      <th></th>\n",
       "      <th>delta</th>\n",
       "      <th>n_clusters</th>\n",
       "      <th>idx</th>\n",
       "      <th>ari</th>\n",
       "    </tr>\n",
       "  </thead>\n",
       "  <tbody>\n",
       "    <tr>\n",
       "      <th>0</th>\n",
       "      <td>0.20</td>\n",
       "      <td>2</td>\n",
       "      <td>0</td>\n",
       "      <td>1.0</td>\n",
       "    </tr>\n",
       "    <tr>\n",
       "      <th>1</th>\n",
       "      <td>0.20</td>\n",
       "      <td>2</td>\n",
       "      <td>1</td>\n",
       "      <td>1.0</td>\n",
       "    </tr>\n",
       "    <tr>\n",
       "      <th>2</th>\n",
       "      <td>0.20</td>\n",
       "      <td>2</td>\n",
       "      <td>2</td>\n",
       "      <td>1.0</td>\n",
       "    </tr>\n",
       "    <tr>\n",
       "      <th>3</th>\n",
       "      <td>0.20</td>\n",
       "      <td>2</td>\n",
       "      <td>3</td>\n",
       "      <td>1.0</td>\n",
       "    </tr>\n",
       "    <tr>\n",
       "      <th>4</th>\n",
       "      <td>0.20</td>\n",
       "      <td>2</td>\n",
       "      <td>4</td>\n",
       "      <td>1.0</td>\n",
       "    </tr>\n",
       "  </tbody>\n",
       "</table>\n",
       "</div>"
      ],
      "text/plain": [
       "  delta  n_clusters  idx  ari\n",
       "0  0.20           2    0  1.0\n",
       "1  0.20           2    1  1.0\n",
       "2  0.20           2    2  1.0\n",
       "3  0.20           2    3  1.0\n",
       "4  0.20           2    4  1.0"
      ]
     },
     "execution_count": 82,
     "metadata": {},
     "output_type": "execute_result"
    }
   ],
   "source": [
    "parts_ari_df_plot.head()"
   ]
  },
  {
   "cell_type": "code",
   "execution_count": 83,
   "metadata": {
    "execution": {
     "iopub.execute_input": "2021-03-11T03:01:17.402666Z",
     "iopub.status.busy": "2021-03-11T03:01:17.402307Z",
     "iopub.status.idle": "2021-03-11T03:01:17.427138Z",
     "shell.execute_reply": "2021-03-11T03:01:17.426815Z"
    },
    "papermill": {
     "duration": 0.192723,
     "end_time": "2021-03-11T03:01:17.427224",
     "exception": false,
     "start_time": "2021-03-11T03:01:17.234501",
     "status": "completed"
    },
    "tags": []
   },
   "outputs": [
    {
     "data": {
      "text/html": [
       "<div>\n",
       "<style scoped>\n",
       "    .dataframe tbody tr th:only-of-type {\n",
       "        vertical-align: middle;\n",
       "    }\n",
       "\n",
       "    .dataframe tbody tr th {\n",
       "        vertical-align: top;\n",
       "    }\n",
       "\n",
       "    .dataframe thead th {\n",
       "        text-align: right;\n",
       "    }\n",
       "</style>\n",
       "<table border=\"1\" class=\"dataframe\">\n",
       "  <thead>\n",
       "    <tr style=\"text-align: right;\">\n",
       "      <th></th>\n",
       "      <th></th>\n",
       "      <th>idx</th>\n",
       "      <th>ari</th>\n",
       "    </tr>\n",
       "    <tr>\n",
       "      <th>n_clusters</th>\n",
       "      <th>delta</th>\n",
       "      <th></th>\n",
       "      <th></th>\n",
       "    </tr>\n",
       "  </thead>\n",
       "  <tbody>\n",
       "    <tr>\n",
       "      <th rowspan=\"9\" valign=\"top\">2</th>\n",
       "      <th>0.20</th>\n",
       "      <td>4.5</td>\n",
       "      <td>1.000000</td>\n",
       "    </tr>\n",
       "    <tr>\n",
       "      <th>0.25</th>\n",
       "      <td>4.5</td>\n",
       "      <td>1.000000</td>\n",
       "    </tr>\n",
       "    <tr>\n",
       "      <th>0.30</th>\n",
       "      <td>4.5</td>\n",
       "      <td>1.000000</td>\n",
       "    </tr>\n",
       "    <tr>\n",
       "      <th>0.50</th>\n",
       "      <td>4.5</td>\n",
       "      <td>1.000000</td>\n",
       "    </tr>\n",
       "    <tr>\n",
       "      <th>0.75</th>\n",
       "      <td>4.5</td>\n",
       "      <td>1.000000</td>\n",
       "    </tr>\n",
       "    <tr>\n",
       "      <th>0.90</th>\n",
       "      <td>4.5</td>\n",
       "      <td>1.000000</td>\n",
       "    </tr>\n",
       "    <tr>\n",
       "      <th>1.00</th>\n",
       "      <td>4.5</td>\n",
       "      <td>1.000000</td>\n",
       "    </tr>\n",
       "    <tr>\n",
       "      <th>2.00</th>\n",
       "      <td>4.5</td>\n",
       "      <td>1.000000</td>\n",
       "    </tr>\n",
       "    <tr>\n",
       "      <th>5.00</th>\n",
       "      <td>4.5</td>\n",
       "      <td>1.000000</td>\n",
       "    </tr>\n",
       "    <tr>\n",
       "      <th rowspan=\"9\" valign=\"top\">4</th>\n",
       "      <th>0.20</th>\n",
       "      <td>4.5</td>\n",
       "      <td>1.000000</td>\n",
       "    </tr>\n",
       "    <tr>\n",
       "      <th>0.25</th>\n",
       "      <td>4.5</td>\n",
       "      <td>1.000000</td>\n",
       "    </tr>\n",
       "    <tr>\n",
       "      <th>0.30</th>\n",
       "      <td>4.5</td>\n",
       "      <td>1.000000</td>\n",
       "    </tr>\n",
       "    <tr>\n",
       "      <th>0.50</th>\n",
       "      <td>4.5</td>\n",
       "      <td>0.995016</td>\n",
       "    </tr>\n",
       "    <tr>\n",
       "      <th>0.75</th>\n",
       "      <td>4.5</td>\n",
       "      <td>0.996409</td>\n",
       "    </tr>\n",
       "    <tr>\n",
       "      <th>0.90</th>\n",
       "      <td>4.5</td>\n",
       "      <td>0.995251</td>\n",
       "    </tr>\n",
       "    <tr>\n",
       "      <th>1.00</th>\n",
       "      <td>4.5</td>\n",
       "      <td>0.993463</td>\n",
       "    </tr>\n",
       "    <tr>\n",
       "      <th>2.00</th>\n",
       "      <td>4.5</td>\n",
       "      <td>0.989633</td>\n",
       "    </tr>\n",
       "    <tr>\n",
       "      <th>5.00</th>\n",
       "      <td>4.5</td>\n",
       "      <td>0.993793</td>\n",
       "    </tr>\n",
       "    <tr>\n",
       "      <th rowspan=\"9\" valign=\"top\">6</th>\n",
       "      <th>0.20</th>\n",
       "      <td>4.5</td>\n",
       "      <td>1.000000</td>\n",
       "    </tr>\n",
       "    <tr>\n",
       "      <th>0.25</th>\n",
       "      <td>4.5</td>\n",
       "      <td>1.000000</td>\n",
       "    </tr>\n",
       "    <tr>\n",
       "      <th>0.30</th>\n",
       "      <td>4.5</td>\n",
       "      <td>1.000000</td>\n",
       "    </tr>\n",
       "    <tr>\n",
       "      <th>0.50</th>\n",
       "      <td>4.5</td>\n",
       "      <td>0.999701</td>\n",
       "    </tr>\n",
       "    <tr>\n",
       "      <th>0.75</th>\n",
       "      <td>4.5</td>\n",
       "      <td>0.999543</td>\n",
       "    </tr>\n",
       "    <tr>\n",
       "      <th>0.90</th>\n",
       "      <td>4.5</td>\n",
       "      <td>1.000000</td>\n",
       "    </tr>\n",
       "    <tr>\n",
       "      <th>1.00</th>\n",
       "      <td>4.5</td>\n",
       "      <td>1.000000</td>\n",
       "    </tr>\n",
       "    <tr>\n",
       "      <th>2.00</th>\n",
       "      <td>4.5</td>\n",
       "      <td>0.997624</td>\n",
       "    </tr>\n",
       "    <tr>\n",
       "      <th>5.00</th>\n",
       "      <td>4.5</td>\n",
       "      <td>0.995774</td>\n",
       "    </tr>\n",
       "    <tr>\n",
       "      <th rowspan=\"9\" valign=\"top\">8</th>\n",
       "      <th>0.20</th>\n",
       "      <td>4.5</td>\n",
       "      <td>1.000000</td>\n",
       "    </tr>\n",
       "    <tr>\n",
       "      <th>0.25</th>\n",
       "      <td>4.5</td>\n",
       "      <td>1.000000</td>\n",
       "    </tr>\n",
       "    <tr>\n",
       "      <th>0.30</th>\n",
       "      <td>4.5</td>\n",
       "      <td>0.996005</td>\n",
       "    </tr>\n",
       "    <tr>\n",
       "      <th>0.50</th>\n",
       "      <td>4.5</td>\n",
       "      <td>0.997370</td>\n",
       "    </tr>\n",
       "    <tr>\n",
       "      <th>0.75</th>\n",
       "      <td>4.5</td>\n",
       "      <td>0.985450</td>\n",
       "    </tr>\n",
       "    <tr>\n",
       "      <th>0.90</th>\n",
       "      <td>4.5</td>\n",
       "      <td>0.992212</td>\n",
       "    </tr>\n",
       "    <tr>\n",
       "      <th>1.00</th>\n",
       "      <td>4.5</td>\n",
       "      <td>0.997197</td>\n",
       "    </tr>\n",
       "    <tr>\n",
       "      <th>2.00</th>\n",
       "      <td>4.5</td>\n",
       "      <td>0.999538</td>\n",
       "    </tr>\n",
       "    <tr>\n",
       "      <th>5.00</th>\n",
       "      <td>4.5</td>\n",
       "      <td>0.998535</td>\n",
       "    </tr>\n",
       "    <tr>\n",
       "      <th rowspan=\"9\" valign=\"top\">10</th>\n",
       "      <th>0.20</th>\n",
       "      <td>4.5</td>\n",
       "      <td>1.000000</td>\n",
       "    </tr>\n",
       "    <tr>\n",
       "      <th>0.25</th>\n",
       "      <td>4.5</td>\n",
       "      <td>1.000000</td>\n",
       "    </tr>\n",
       "    <tr>\n",
       "      <th>0.30</th>\n",
       "      <td>4.5</td>\n",
       "      <td>0.996555</td>\n",
       "    </tr>\n",
       "    <tr>\n",
       "      <th>0.50</th>\n",
       "      <td>4.5</td>\n",
       "      <td>0.995465</td>\n",
       "    </tr>\n",
       "    <tr>\n",
       "      <th>0.75</th>\n",
       "      <td>4.5</td>\n",
       "      <td>0.996096</td>\n",
       "    </tr>\n",
       "    <tr>\n",
       "      <th>0.90</th>\n",
       "      <td>4.5</td>\n",
       "      <td>0.994398</td>\n",
       "    </tr>\n",
       "    <tr>\n",
       "      <th>1.00</th>\n",
       "      <td>4.5</td>\n",
       "      <td>0.998752</td>\n",
       "    </tr>\n",
       "    <tr>\n",
       "      <th>2.00</th>\n",
       "      <td>4.5</td>\n",
       "      <td>0.994387</td>\n",
       "    </tr>\n",
       "    <tr>\n",
       "      <th>5.00</th>\n",
       "      <td>4.5</td>\n",
       "      <td>0.999595</td>\n",
       "    </tr>\n",
       "    <tr>\n",
       "      <th rowspan=\"9\" valign=\"top\">12</th>\n",
       "      <th>0.20</th>\n",
       "      <td>4.5</td>\n",
       "      <td>1.000000</td>\n",
       "    </tr>\n",
       "    <tr>\n",
       "      <th>0.25</th>\n",
       "      <td>4.5</td>\n",
       "      <td>0.996986</td>\n",
       "    </tr>\n",
       "    <tr>\n",
       "      <th>0.30</th>\n",
       "      <td>4.5</td>\n",
       "      <td>0.995814</td>\n",
       "    </tr>\n",
       "    <tr>\n",
       "      <th>0.50</th>\n",
       "      <td>4.5</td>\n",
       "      <td>0.966053</td>\n",
       "    </tr>\n",
       "    <tr>\n",
       "      <th>0.75</th>\n",
       "      <td>4.5</td>\n",
       "      <td>0.997645</td>\n",
       "    </tr>\n",
       "    <tr>\n",
       "      <th>0.90</th>\n",
       "      <td>4.5</td>\n",
       "      <td>0.940687</td>\n",
       "    </tr>\n",
       "    <tr>\n",
       "      <th>1.00</th>\n",
       "      <td>4.5</td>\n",
       "      <td>0.998886</td>\n",
       "    </tr>\n",
       "    <tr>\n",
       "      <th>2.00</th>\n",
       "      <td>4.5</td>\n",
       "      <td>0.999034</td>\n",
       "    </tr>\n",
       "    <tr>\n",
       "      <th>5.00</th>\n",
       "      <td>4.5</td>\n",
       "      <td>0.999072</td>\n",
       "    </tr>\n",
       "    <tr>\n",
       "      <th rowspan=\"9\" valign=\"top\">14</th>\n",
       "      <th>0.20</th>\n",
       "      <td>4.5</td>\n",
       "      <td>1.000000</td>\n",
       "    </tr>\n",
       "    <tr>\n",
       "      <th>0.25</th>\n",
       "      <td>4.5</td>\n",
       "      <td>1.000000</td>\n",
       "    </tr>\n",
       "    <tr>\n",
       "      <th>0.30</th>\n",
       "      <td>4.5</td>\n",
       "      <td>0.977275</td>\n",
       "    </tr>\n",
       "    <tr>\n",
       "      <th>0.50</th>\n",
       "      <td>4.5</td>\n",
       "      <td>0.954420</td>\n",
       "    </tr>\n",
       "    <tr>\n",
       "      <th>0.75</th>\n",
       "      <td>4.5</td>\n",
       "      <td>0.951008</td>\n",
       "    </tr>\n",
       "    <tr>\n",
       "      <th>0.90</th>\n",
       "      <td>4.5</td>\n",
       "      <td>0.958302</td>\n",
       "    </tr>\n",
       "    <tr>\n",
       "      <th>1.00</th>\n",
       "      <td>4.5</td>\n",
       "      <td>0.931537</td>\n",
       "    </tr>\n",
       "    <tr>\n",
       "      <th>2.00</th>\n",
       "      <td>4.5</td>\n",
       "      <td>0.924679</td>\n",
       "    </tr>\n",
       "    <tr>\n",
       "      <th>5.00</th>\n",
       "      <td>4.5</td>\n",
       "      <td>0.909378</td>\n",
       "    </tr>\n",
       "    <tr>\n",
       "      <th rowspan=\"9\" valign=\"top\">16</th>\n",
       "      <th>0.20</th>\n",
       "      <td>4.5</td>\n",
       "      <td>0.998646</td>\n",
       "    </tr>\n",
       "    <tr>\n",
       "      <th>0.25</th>\n",
       "      <td>4.5</td>\n",
       "      <td>0.963633</td>\n",
       "    </tr>\n",
       "    <tr>\n",
       "      <th>0.30</th>\n",
       "      <td>4.5</td>\n",
       "      <td>0.755375</td>\n",
       "    </tr>\n",
       "    <tr>\n",
       "      <th>0.50</th>\n",
       "      <td>4.5</td>\n",
       "      <td>0.923160</td>\n",
       "    </tr>\n",
       "    <tr>\n",
       "      <th>0.75</th>\n",
       "      <td>4.5</td>\n",
       "      <td>0.894030</td>\n",
       "    </tr>\n",
       "    <tr>\n",
       "      <th>0.90</th>\n",
       "      <td>4.5</td>\n",
       "      <td>0.920888</td>\n",
       "    </tr>\n",
       "    <tr>\n",
       "      <th>1.00</th>\n",
       "      <td>4.5</td>\n",
       "      <td>0.877274</td>\n",
       "    </tr>\n",
       "    <tr>\n",
       "      <th>2.00</th>\n",
       "      <td>4.5</td>\n",
       "      <td>0.886075</td>\n",
       "    </tr>\n",
       "    <tr>\n",
       "      <th>5.00</th>\n",
       "      <td>4.5</td>\n",
       "      <td>0.910257</td>\n",
       "    </tr>\n",
       "    <tr>\n",
       "      <th rowspan=\"9\" valign=\"top\">18</th>\n",
       "      <th>0.20</th>\n",
       "      <td>4.5</td>\n",
       "      <td>1.000000</td>\n",
       "    </tr>\n",
       "    <tr>\n",
       "      <th>0.25</th>\n",
       "      <td>4.5</td>\n",
       "      <td>0.607794</td>\n",
       "    </tr>\n",
       "    <tr>\n",
       "      <th>0.30</th>\n",
       "      <td>4.5</td>\n",
       "      <td>0.663482</td>\n",
       "    </tr>\n",
       "    <tr>\n",
       "      <th>0.50</th>\n",
       "      <td>4.5</td>\n",
       "      <td>0.910451</td>\n",
       "    </tr>\n",
       "    <tr>\n",
       "      <th>0.75</th>\n",
       "      <td>4.5</td>\n",
       "      <td>0.923336</td>\n",
       "    </tr>\n",
       "    <tr>\n",
       "      <th>0.90</th>\n",
       "      <td>4.5</td>\n",
       "      <td>0.861827</td>\n",
       "    </tr>\n",
       "    <tr>\n",
       "      <th>1.00</th>\n",
       "      <td>4.5</td>\n",
       "      <td>0.895167</td>\n",
       "    </tr>\n",
       "    <tr>\n",
       "      <th>2.00</th>\n",
       "      <td>4.5</td>\n",
       "      <td>0.886727</td>\n",
       "    </tr>\n",
       "    <tr>\n",
       "      <th>5.00</th>\n",
       "      <td>4.5</td>\n",
       "      <td>0.820136</td>\n",
       "    </tr>\n",
       "    <tr>\n",
       "      <th rowspan=\"9\" valign=\"top\">20</th>\n",
       "      <th>0.20</th>\n",
       "      <td>4.5</td>\n",
       "      <td>0.818992</td>\n",
       "    </tr>\n",
       "    <tr>\n",
       "      <th>0.25</th>\n",
       "      <td>4.5</td>\n",
       "      <td>0.377614</td>\n",
       "    </tr>\n",
       "    <tr>\n",
       "      <th>0.30</th>\n",
       "      <td>4.5</td>\n",
       "      <td>0.884252</td>\n",
       "    </tr>\n",
       "    <tr>\n",
       "      <th>0.50</th>\n",
       "      <td>4.5</td>\n",
       "      <td>0.920467</td>\n",
       "    </tr>\n",
       "    <tr>\n",
       "      <th>0.75</th>\n",
       "      <td>4.5</td>\n",
       "      <td>0.902445</td>\n",
       "    </tr>\n",
       "    <tr>\n",
       "      <th>0.90</th>\n",
       "      <td>4.5</td>\n",
       "      <td>0.906791</td>\n",
       "    </tr>\n",
       "    <tr>\n",
       "      <th>1.00</th>\n",
       "      <td>4.5</td>\n",
       "      <td>0.905769</td>\n",
       "    </tr>\n",
       "    <tr>\n",
       "      <th>2.00</th>\n",
       "      <td>4.5</td>\n",
       "      <td>0.882961</td>\n",
       "    </tr>\n",
       "    <tr>\n",
       "      <th>5.00</th>\n",
       "      <td>4.5</td>\n",
       "      <td>0.881380</td>\n",
       "    </tr>\n",
       "    <tr>\n",
       "      <th rowspan=\"9\" valign=\"top\">25</th>\n",
       "      <th>0.20</th>\n",
       "      <td>4.5</td>\n",
       "      <td>0.648555</td>\n",
       "    </tr>\n",
       "    <tr>\n",
       "      <th>0.25</th>\n",
       "      <td>4.5</td>\n",
       "      <td>0.421413</td>\n",
       "    </tr>\n",
       "    <tr>\n",
       "      <th>0.30</th>\n",
       "      <td>4.5</td>\n",
       "      <td>0.897525</td>\n",
       "    </tr>\n",
       "    <tr>\n",
       "      <th>0.50</th>\n",
       "      <td>4.5</td>\n",
       "      <td>0.916856</td>\n",
       "    </tr>\n",
       "    <tr>\n",
       "      <th>0.75</th>\n",
       "      <td>4.5</td>\n",
       "      <td>0.929405</td>\n",
       "    </tr>\n",
       "    <tr>\n",
       "      <th>0.90</th>\n",
       "      <td>4.5</td>\n",
       "      <td>0.914275</td>\n",
       "    </tr>\n",
       "    <tr>\n",
       "      <th>1.00</th>\n",
       "      <td>4.5</td>\n",
       "      <td>0.920034</td>\n",
       "    </tr>\n",
       "    <tr>\n",
       "      <th>2.00</th>\n",
       "      <td>4.5</td>\n",
       "      <td>0.902831</td>\n",
       "    </tr>\n",
       "    <tr>\n",
       "      <th>5.00</th>\n",
       "      <td>4.5</td>\n",
       "      <td>0.897515</td>\n",
       "    </tr>\n",
       "    <tr>\n",
       "      <th rowspan=\"9\" valign=\"top\">30</th>\n",
       "      <th>0.20</th>\n",
       "      <td>4.5</td>\n",
       "      <td>0.318526</td>\n",
       "    </tr>\n",
       "    <tr>\n",
       "      <th>0.25</th>\n",
       "      <td>4.5</td>\n",
       "      <td>0.382700</td>\n",
       "    </tr>\n",
       "    <tr>\n",
       "      <th>0.30</th>\n",
       "      <td>4.5</td>\n",
       "      <td>0.840306</td>\n",
       "    </tr>\n",
       "    <tr>\n",
       "      <th>0.50</th>\n",
       "      <td>4.5</td>\n",
       "      <td>0.900798</td>\n",
       "    </tr>\n",
       "    <tr>\n",
       "      <th>0.75</th>\n",
       "      <td>4.5</td>\n",
       "      <td>0.877014</td>\n",
       "    </tr>\n",
       "    <tr>\n",
       "      <th>0.90</th>\n",
       "      <td>4.5</td>\n",
       "      <td>0.886591</td>\n",
       "    </tr>\n",
       "    <tr>\n",
       "      <th>1.00</th>\n",
       "      <td>4.5</td>\n",
       "      <td>0.870259</td>\n",
       "    </tr>\n",
       "    <tr>\n",
       "      <th>2.00</th>\n",
       "      <td>4.5</td>\n",
       "      <td>0.861140</td>\n",
       "    </tr>\n",
       "    <tr>\n",
       "      <th>5.00</th>\n",
       "      <td>4.5</td>\n",
       "      <td>0.883651</td>\n",
       "    </tr>\n",
       "    <tr>\n",
       "      <th rowspan=\"9\" valign=\"top\">35</th>\n",
       "      <th>0.20</th>\n",
       "      <td>4.5</td>\n",
       "      <td>0.399802</td>\n",
       "    </tr>\n",
       "    <tr>\n",
       "      <th>0.25</th>\n",
       "      <td>4.5</td>\n",
       "      <td>0.514436</td>\n",
       "    </tr>\n",
       "    <tr>\n",
       "      <th>0.30</th>\n",
       "      <td>4.5</td>\n",
       "      <td>0.781016</td>\n",
       "    </tr>\n",
       "    <tr>\n",
       "      <th>0.50</th>\n",
       "      <td>4.5</td>\n",
       "      <td>0.888867</td>\n",
       "    </tr>\n",
       "    <tr>\n",
       "      <th>0.75</th>\n",
       "      <td>4.5</td>\n",
       "      <td>0.855567</td>\n",
       "    </tr>\n",
       "    <tr>\n",
       "      <th>0.90</th>\n",
       "      <td>4.5</td>\n",
       "      <td>0.826902</td>\n",
       "    </tr>\n",
       "    <tr>\n",
       "      <th>1.00</th>\n",
       "      <td>4.5</td>\n",
       "      <td>0.827606</td>\n",
       "    </tr>\n",
       "    <tr>\n",
       "      <th>2.00</th>\n",
       "      <td>4.5</td>\n",
       "      <td>0.830705</td>\n",
       "    </tr>\n",
       "    <tr>\n",
       "      <th>5.00</th>\n",
       "      <td>4.5</td>\n",
       "      <td>0.832460</td>\n",
       "    </tr>\n",
       "    <tr>\n",
       "      <th rowspan=\"9\" valign=\"top\">40</th>\n",
       "      <th>0.20</th>\n",
       "      <td>4.5</td>\n",
       "      <td>0.506255</td>\n",
       "    </tr>\n",
       "    <tr>\n",
       "      <th>0.25</th>\n",
       "      <td>4.5</td>\n",
       "      <td>0.537644</td>\n",
       "    </tr>\n",
       "    <tr>\n",
       "      <th>0.30</th>\n",
       "      <td>4.5</td>\n",
       "      <td>0.923745</td>\n",
       "    </tr>\n",
       "    <tr>\n",
       "      <th>0.50</th>\n",
       "      <td>4.5</td>\n",
       "      <td>0.857288</td>\n",
       "    </tr>\n",
       "    <tr>\n",
       "      <th>0.75</th>\n",
       "      <td>4.5</td>\n",
       "      <td>0.802725</td>\n",
       "    </tr>\n",
       "    <tr>\n",
       "      <th>0.90</th>\n",
       "      <td>4.5</td>\n",
       "      <td>0.836473</td>\n",
       "    </tr>\n",
       "    <tr>\n",
       "      <th>1.00</th>\n",
       "      <td>4.5</td>\n",
       "      <td>0.834522</td>\n",
       "    </tr>\n",
       "    <tr>\n",
       "      <th>2.00</th>\n",
       "      <td>4.5</td>\n",
       "      <td>0.817448</td>\n",
       "    </tr>\n",
       "    <tr>\n",
       "      <th>5.00</th>\n",
       "      <td>4.5</td>\n",
       "      <td>0.802946</td>\n",
       "    </tr>\n",
       "    <tr>\n",
       "      <th rowspan=\"9\" valign=\"top\">50</th>\n",
       "      <th>0.20</th>\n",
       "      <td>4.5</td>\n",
       "      <td>0.354317</td>\n",
       "    </tr>\n",
       "    <tr>\n",
       "      <th>0.25</th>\n",
       "      <td>4.5</td>\n",
       "      <td>0.514739</td>\n",
       "    </tr>\n",
       "    <tr>\n",
       "      <th>0.30</th>\n",
       "      <td>4.5</td>\n",
       "      <td>0.925224</td>\n",
       "    </tr>\n",
       "    <tr>\n",
       "      <th>0.50</th>\n",
       "      <td>4.5</td>\n",
       "      <td>0.826905</td>\n",
       "    </tr>\n",
       "    <tr>\n",
       "      <th>0.75</th>\n",
       "      <td>4.5</td>\n",
       "      <td>0.780891</td>\n",
       "    </tr>\n",
       "    <tr>\n",
       "      <th>0.90</th>\n",
       "      <td>4.5</td>\n",
       "      <td>0.777689</td>\n",
       "    </tr>\n",
       "    <tr>\n",
       "      <th>1.00</th>\n",
       "      <td>4.5</td>\n",
       "      <td>0.791918</td>\n",
       "    </tr>\n",
       "    <tr>\n",
       "      <th>2.00</th>\n",
       "      <td>4.5</td>\n",
       "      <td>0.761678</td>\n",
       "    </tr>\n",
       "    <tr>\n",
       "      <th>5.00</th>\n",
       "      <td>4.5</td>\n",
       "      <td>0.781403</td>\n",
       "    </tr>\n",
       "    <tr>\n",
       "      <th rowspan=\"9\" valign=\"top\">60</th>\n",
       "      <th>0.20</th>\n",
       "      <td>4.5</td>\n",
       "      <td>0.475466</td>\n",
       "    </tr>\n",
       "    <tr>\n",
       "      <th>0.25</th>\n",
       "      <td>4.5</td>\n",
       "      <td>0.769822</td>\n",
       "    </tr>\n",
       "    <tr>\n",
       "      <th>0.30</th>\n",
       "      <td>4.5</td>\n",
       "      <td>0.898998</td>\n",
       "    </tr>\n",
       "    <tr>\n",
       "      <th>0.50</th>\n",
       "      <td>4.5</td>\n",
       "      <td>0.833845</td>\n",
       "    </tr>\n",
       "    <tr>\n",
       "      <th>0.75</th>\n",
       "      <td>4.5</td>\n",
       "      <td>0.767530</td>\n",
       "    </tr>\n",
       "    <tr>\n",
       "      <th>0.90</th>\n",
       "      <td>4.5</td>\n",
       "      <td>0.744737</td>\n",
       "    </tr>\n",
       "    <tr>\n",
       "      <th>1.00</th>\n",
       "      <td>4.5</td>\n",
       "      <td>0.767504</td>\n",
       "    </tr>\n",
       "    <tr>\n",
       "      <th>2.00</th>\n",
       "      <td>4.5</td>\n",
       "      <td>0.758428</td>\n",
       "    </tr>\n",
       "    <tr>\n",
       "      <th>5.00</th>\n",
       "      <td>4.5</td>\n",
       "      <td>0.748307</td>\n",
       "    </tr>\n",
       "  </tbody>\n",
       "</table>\n",
       "</div>"
      ],
      "text/plain": [
       "                  idx       ari\n",
       "n_clusters delta               \n",
       "2          0.20   4.5  1.000000\n",
       "           0.25   4.5  1.000000\n",
       "           0.30   4.5  1.000000\n",
       "           0.50   4.5  1.000000\n",
       "           0.75   4.5  1.000000\n",
       "           0.90   4.5  1.000000\n",
       "           1.00   4.5  1.000000\n",
       "           2.00   4.5  1.000000\n",
       "           5.00   4.5  1.000000\n",
       "4          0.20   4.5  1.000000\n",
       "           0.25   4.5  1.000000\n",
       "           0.30   4.5  1.000000\n",
       "           0.50   4.5  0.995016\n",
       "           0.75   4.5  0.996409\n",
       "           0.90   4.5  0.995251\n",
       "           1.00   4.5  0.993463\n",
       "           2.00   4.5  0.989633\n",
       "           5.00   4.5  0.993793\n",
       "6          0.20   4.5  1.000000\n",
       "           0.25   4.5  1.000000\n",
       "           0.30   4.5  1.000000\n",
       "           0.50   4.5  0.999701\n",
       "           0.75   4.5  0.999543\n",
       "           0.90   4.5  1.000000\n",
       "           1.00   4.5  1.000000\n",
       "           2.00   4.5  0.997624\n",
       "           5.00   4.5  0.995774\n",
       "8          0.20   4.5  1.000000\n",
       "           0.25   4.5  1.000000\n",
       "           0.30   4.5  0.996005\n",
       "           0.50   4.5  0.997370\n",
       "           0.75   4.5  0.985450\n",
       "           0.90   4.5  0.992212\n",
       "           1.00   4.5  0.997197\n",
       "           2.00   4.5  0.999538\n",
       "           5.00   4.5  0.998535\n",
       "10         0.20   4.5  1.000000\n",
       "           0.25   4.5  1.000000\n",
       "           0.30   4.5  0.996555\n",
       "           0.50   4.5  0.995465\n",
       "           0.75   4.5  0.996096\n",
       "           0.90   4.5  0.994398\n",
       "           1.00   4.5  0.998752\n",
       "           2.00   4.5  0.994387\n",
       "           5.00   4.5  0.999595\n",
       "12         0.20   4.5  1.000000\n",
       "           0.25   4.5  0.996986\n",
       "           0.30   4.5  0.995814\n",
       "           0.50   4.5  0.966053\n",
       "           0.75   4.5  0.997645\n",
       "           0.90   4.5  0.940687\n",
       "           1.00   4.5  0.998886\n",
       "           2.00   4.5  0.999034\n",
       "           5.00   4.5  0.999072\n",
       "14         0.20   4.5  1.000000\n",
       "           0.25   4.5  1.000000\n",
       "           0.30   4.5  0.977275\n",
       "           0.50   4.5  0.954420\n",
       "           0.75   4.5  0.951008\n",
       "           0.90   4.5  0.958302\n",
       "           1.00   4.5  0.931537\n",
       "           2.00   4.5  0.924679\n",
       "           5.00   4.5  0.909378\n",
       "16         0.20   4.5  0.998646\n",
       "           0.25   4.5  0.963633\n",
       "           0.30   4.5  0.755375\n",
       "           0.50   4.5  0.923160\n",
       "           0.75   4.5  0.894030\n",
       "           0.90   4.5  0.920888\n",
       "           1.00   4.5  0.877274\n",
       "           2.00   4.5  0.886075\n",
       "           5.00   4.5  0.910257\n",
       "18         0.20   4.5  1.000000\n",
       "           0.25   4.5  0.607794\n",
       "           0.30   4.5  0.663482\n",
       "           0.50   4.5  0.910451\n",
       "           0.75   4.5  0.923336\n",
       "           0.90   4.5  0.861827\n",
       "           1.00   4.5  0.895167\n",
       "           2.00   4.5  0.886727\n",
       "           5.00   4.5  0.820136\n",
       "20         0.20   4.5  0.818992\n",
       "           0.25   4.5  0.377614\n",
       "           0.30   4.5  0.884252\n",
       "           0.50   4.5  0.920467\n",
       "           0.75   4.5  0.902445\n",
       "           0.90   4.5  0.906791\n",
       "           1.00   4.5  0.905769\n",
       "           2.00   4.5  0.882961\n",
       "           5.00   4.5  0.881380\n",
       "25         0.20   4.5  0.648555\n",
       "           0.25   4.5  0.421413\n",
       "           0.30   4.5  0.897525\n",
       "           0.50   4.5  0.916856\n",
       "           0.75   4.5  0.929405\n",
       "           0.90   4.5  0.914275\n",
       "           1.00   4.5  0.920034\n",
       "           2.00   4.5  0.902831\n",
       "           5.00   4.5  0.897515\n",
       "30         0.20   4.5  0.318526\n",
       "           0.25   4.5  0.382700\n",
       "           0.30   4.5  0.840306\n",
       "           0.50   4.5  0.900798\n",
       "           0.75   4.5  0.877014\n",
       "           0.90   4.5  0.886591\n",
       "           1.00   4.5  0.870259\n",
       "           2.00   4.5  0.861140\n",
       "           5.00   4.5  0.883651\n",
       "35         0.20   4.5  0.399802\n",
       "           0.25   4.5  0.514436\n",
       "           0.30   4.5  0.781016\n",
       "           0.50   4.5  0.888867\n",
       "           0.75   4.5  0.855567\n",
       "           0.90   4.5  0.826902\n",
       "           1.00   4.5  0.827606\n",
       "           2.00   4.5  0.830705\n",
       "           5.00   4.5  0.832460\n",
       "40         0.20   4.5  0.506255\n",
       "           0.25   4.5  0.537644\n",
       "           0.30   4.5  0.923745\n",
       "           0.50   4.5  0.857288\n",
       "           0.75   4.5  0.802725\n",
       "           0.90   4.5  0.836473\n",
       "           1.00   4.5  0.834522\n",
       "           2.00   4.5  0.817448\n",
       "           5.00   4.5  0.802946\n",
       "50         0.20   4.5  0.354317\n",
       "           0.25   4.5  0.514739\n",
       "           0.30   4.5  0.925224\n",
       "           0.50   4.5  0.826905\n",
       "           0.75   4.5  0.780891\n",
       "           0.90   4.5  0.777689\n",
       "           1.00   4.5  0.791918\n",
       "           2.00   4.5  0.761678\n",
       "           5.00   4.5  0.781403\n",
       "60         0.20   4.5  0.475466\n",
       "           0.25   4.5  0.769822\n",
       "           0.30   4.5  0.898998\n",
       "           0.50   4.5  0.833845\n",
       "           0.75   4.5  0.767530\n",
       "           0.90   4.5  0.744737\n",
       "           1.00   4.5  0.767504\n",
       "           2.00   4.5  0.758428\n",
       "           5.00   4.5  0.748307"
      ]
     },
     "metadata": {},
     "output_type": "display_data"
    }
   ],
   "source": [
    "with pd.option_context(\"display.max_rows\", None, \"display.max_columns\", None):\n",
    "    _df = parts_ari_df_plot.groupby([\"n_clusters\", \"delta\"]).mean()\n",
    "    display(_df)"
   ]
  },
  {
   "cell_type": "code",
   "execution_count": 84,
   "metadata": {
    "execution": {
     "iopub.execute_input": "2021-03-11T03:01:17.765261Z",
     "iopub.status.busy": "2021-03-11T03:01:17.764790Z",
     "iopub.status.idle": "2021-03-11T03:01:20.752361Z",
     "shell.execute_reply": "2021-03-11T03:01:20.752658Z"
    },
    "papermill": {
     "duration": 3.158508,
     "end_time": "2021-03-11T03:01:20.752770",
     "exception": false,
     "start_time": "2021-03-11T03:01:17.594262",
     "status": "completed"
    },
    "tags": []
   },
   "outputs": [
    {
     "data": {
      "image/png": "[encoded data removed]",
      "text/plain": [
       "<Figure size 1008x432 with 1 Axes>"
      ]
     },
     "metadata": {},
     "output_type": "display_data"
    }
   ],
   "source": [
    "with sns.plotting_context(\"talk\", font_scale=0.75), sns.axes_style(\n",
    "    \"whitegrid\", {\"grid.linestyle\": \"--\"}\n",
    "):\n",
    "    fig = plt.figure(figsize=(14, 6))\n",
    "    ax = sns.pointplot(data=parts_ari_df_plot, x=\"n_clusters\", y=\"ari\", hue=\"delta\")\n",
    "    ax.set_ylabel(\"Average ARI\")\n",
    "    ax.set_xlabel(\"Number of clusters ($k$)\")\n",
    "    ax.set_xticklabels(ax.get_xticklabels(), rotation=45)\n",
    "    plt.grid(True)\n",
    "    plt.tight_layout()"
   ]
  },
  {
   "cell_type": "markdown",
   "metadata": {
    "papermill": {
     "duration": 0.172853,
     "end_time": "2021-03-11T03:01:21.094849",
     "exception": false,
     "start_time": "2021-03-11T03:01:20.921996",
     "status": "completed"
    },
    "tags": []
   },
   "source": [
    "**CONCLUSION:** the best values for the `delta` parameter seem to be `0.20`, `0.25`, `0.30`, and `0.50`. `0.50` seems to yield potentially good results when `n_clusters` is high (see `umap` results)."
   ]
  },
  {
   "cell_type": "code",
   "execution_count": null,
   "metadata": {
    "papermill": {
     "duration": 0.167833,
     "end_time": "2021-03-11T03:01:21.432315",
     "exception": false,
     "start_time": "2021-03-11T03:01:21.264482",
     "status": "completed"
    },
    "tags": []
   },
   "outputs": [],
   "source": []
  }
 ],
 "metadata": {
  "jupytext": {
   "cell_metadata_filter": "all,-execution,-papermill,-trusted",
   "formats": "ipynb,py//py:percent"
  },
  "kernelspec": {
   "display_name": "Python 3",
   "language": "python",
   "name": "python3"
  },
  "language_info": {
   "codemirror_mode": {
    "name": "ipython",
    "version": 3
   },
   "file_extension": ".py",
   "mimetype": "text/x-python",
   "name": "python",
   "nbconvert_exporter": "python",
   "pygments_lexer": "ipython3",
   "version": "3.8.8"
  },
  "papermill": {
   "default_parameters": {},
   "duration": 1631.108716,
   "end_time": "2021-03-11T03:01:22.006906",
   "environment_variables": {},
   "exception": null,
   "input_path": "16_consensus_clustering/022_pre_analysis/10_00-spectral_clustering-ensemble-z_score_std.ipynb",
   "output_path": "16_consensus_clustering/022_pre_analysis/10_00-spectral_clustering-ensemble-z_score_std.run.ipynb",
   "parameters": {},
   "start_time": "2021-03-11T02:34:10.898190",
   "version": "2.2.2"
  },
  "toc-autonumbering": true,
  "toc-showcode": false,
  "toc-showmarkdowntxt": false,
  "toc-showtags": false
 },
 "nbformat": 4,
 "nbformat_minor": 4
}
