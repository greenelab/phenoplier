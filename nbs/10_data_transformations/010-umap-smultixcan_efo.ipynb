{
 "cells": [
  {
   "cell_type": "markdown",
   "metadata": {},
   "source": [
    "# Description"
   ]
  },
  {
   "cell_type": "markdown",
   "metadata": {},
   "source": [
    "It projects input data into a UMAP representation."
   ]
  },
  {
   "cell_type": "markdown",
   "metadata": {},
   "source": [
    "# Modules loading"
   ]
  },
  {
   "cell_type": "code",
   "execution_count": 1,
   "metadata": {},
   "outputs": [],
   "source": [
    "%load_ext autoreload\n",
    "%autoreload 2"
   ]
  },
  {
   "cell_type": "code",
   "execution_count": 2,
   "metadata": {},
   "outputs": [],
   "source": [
    "from pathlib import Path\n",
    "from IPython.display import display\n",
    "\n",
    "import pandas as pd\n",
    "import umap\n",
    "import matplotlib.pyplot as plt\n",
    "import seaborn as sns\n",
    "\n",
    "import conf\n",
    "from utils import generate_result_set_name"
   ]
  },
  {
   "cell_type": "markdown",
   "metadata": {},
   "source": [
    "# Settings"
   ]
  },
  {
   "cell_type": "code",
   "execution_count": 3,
   "metadata": {},
   "outputs": [
    {
     "data": {
      "text/plain": [
       "PosixPath('/media/miltondp/Elements1/projects/phenoplier/data/phenomexcan/gene_assoc/smultixcan-efo_partial-mashr-zscores.pkl')"
      ]
     },
     "metadata": {},
     "output_type": "display_data"
    },
    {
     "data": {
      "text/plain": [
       "'smultixcan-efo_partial-mashr-zscores'"
      ]
     },
     "metadata": {},
     "output_type": "display_data"
    }
   ],
   "source": [
    "INPUT_FILEPATH = Path(\n",
    "    conf.PHENOMEXCAN[\"SMULTIXCAN_EFO_PARTIAL_MASHR_ZSCORES_FILE\"]\n",
    ").resolve()\n",
    "display(INPUT_FILEPATH)\n",
    "\n",
    "input_filepath_stem = INPUT_FILEPATH.stem\n",
    "display(input_filepath_stem)"
   ]
  },
  {
   "cell_type": "code",
   "execution_count": 4,
   "metadata": {},
   "outputs": [],
   "source": [
    "# number of components to use in the dimensionality reduction step\n",
    "DR_OPTIONS = {\n",
    "    'n_components': [5, 10, 20, 30, 40, 50],\n",
    "    'metric': 'euclidean',\n",
    "    'n_neighbors': 15,\n",
    "    'random_state': 0,\n",
    "}"
   ]
  },
  {
   "cell_type": "code",
   "execution_count": 5,
   "metadata": {},
   "outputs": [
    {
     "data": {
      "text/plain": [
       "PosixPath('/media/miltondp/Elements1/projects/phenoplier/results/data_transformations/umap')"
      ]
     },
     "metadata": {},
     "output_type": "display_data"
    }
   ],
   "source": [
    "# output dir for this notebook\n",
    "RESULTS_DIR = Path(\n",
    "    conf.RESULTS[\"DATA_TRANSFORMATIONS_DIR\"],\n",
    "    'umap'\n",
    ").resolve()\n",
    "RESULTS_DIR.mkdir(parents=True, exist_ok=True)\n",
    "\n",
    "display(RESULTS_DIR)"
   ]
  },
  {
   "cell_type": "code",
   "execution_count": 6,
   "metadata": {},
   "outputs": [
    {
     "data": {
      "text/plain": [
       "{'n_components': [5, 10, 20, 30, 40, 50],\n",
       " 'metric': 'euclidean',\n",
       " 'n_neighbors': 15,\n",
       " 'random_state': 0}"
      ]
     },
     "metadata": {},
     "output_type": "display_data"
    }
   ],
   "source": [
    "# dictionary containing all options/settings (used to generate filenames)\n",
    "ALL_OPTIONS = DR_OPTIONS.copy()\n",
    "# ALL_OPTIONS['proj_percentile'] = PERCENTILE_NAME\n",
    "\n",
    "display(ALL_OPTIONS)"
   ]
  },
  {
   "cell_type": "markdown",
   "metadata": {},
   "source": [
    "# Load input file"
   ]
  },
  {
   "cell_type": "code",
   "execution_count": 7,
   "metadata": {},
   "outputs": [],
   "source": [
    "data = pd.read_pickle(INPUT_FILEPATH).T"
   ]
  },
  {
   "cell_type": "code",
   "execution_count": 8,
   "metadata": {},
   "outputs": [
    {
     "data": {
      "text/plain": [
       "(3749, 22515)"
      ]
     },
     "execution_count": 8,
     "metadata": {},
     "output_type": "execute_result"
    }
   ],
   "source": [
    "data.shape"
   ]
  },
  {
   "cell_type": "code",
   "execution_count": 9,
   "metadata": {},
   "outputs": [
    {
     "data": {
      "text/html": [
       "<div>\n",
       "<style scoped>\n",
       "    .dataframe tbody tr th:only-of-type {\n",
       "        vertical-align: middle;\n",
       "    }\n",
       "\n",
       "    .dataframe tbody tr th {\n",
       "        vertical-align: top;\n",
       "    }\n",
       "\n",
       "    .dataframe thead th {\n",
       "        text-align: right;\n",
       "    }\n",
       "</style>\n",
       "<table border=\"1\" class=\"dataframe\">\n",
       "  <thead>\n",
       "    <tr style=\"text-align: right;\">\n",
       "      <th>gene_name</th>\n",
       "      <th>ENSG00000000419</th>\n",
       "      <th>ENSG00000000457</th>\n",
       "      <th>ENSG00000000460</th>\n",
       "      <th>ENSG00000000938</th>\n",
       "      <th>ENSG00000000971</th>\n",
       "      <th>ENSG00000001036</th>\n",
       "      <th>ENSG00000001084</th>\n",
       "      <th>ENSG00000001167</th>\n",
       "      <th>ENSG00000001460</th>\n",
       "      <th>ENSG00000001461</th>\n",
       "      <th>...</th>\n",
       "      <th>ENSG00000284240</th>\n",
       "      <th>ENSG00000284308</th>\n",
       "      <th>ENSG00000284395</th>\n",
       "      <th>ENSG00000284413</th>\n",
       "      <th>ENSG00000284418</th>\n",
       "      <th>ENSG00000284430</th>\n",
       "      <th>ENSG00000284452</th>\n",
       "      <th>ENSG00000284513</th>\n",
       "      <th>ENSG00000284526</th>\n",
       "      <th>ENSG00000284552</th>\n",
       "    </tr>\n",
       "  </thead>\n",
       "  <tbody>\n",
       "    <tr>\n",
       "      <th>100001_raw-Food_weight</th>\n",
       "      <td>1.145442</td>\n",
       "      <td>0.618066</td>\n",
       "      <td>0.515724</td>\n",
       "      <td>0.280781</td>\n",
       "      <td>0.548127</td>\n",
       "      <td>0.045587</td>\n",
       "      <td>0.329995</td>\n",
       "      <td>0.109494</td>\n",
       "      <td>1.356741</td>\n",
       "      <td>1.474255</td>\n",
       "      <td>...</td>\n",
       "      <td>1.490410</td>\n",
       "      <td>0.230329</td>\n",
       "      <td>0.596503</td>\n",
       "      <td>0.519733</td>\n",
       "      <td>2.285074</td>\n",
       "      <td>0.124980</td>\n",
       "      <td>1.587903</td>\n",
       "      <td>1.522281</td>\n",
       "      <td>0.150938</td>\n",
       "      <td>1.010143</td>\n",
       "    </tr>\n",
       "    <tr>\n",
       "      <th>100002_raw-Energy</th>\n",
       "      <td>0.724557</td>\n",
       "      <td>1.028131</td>\n",
       "      <td>0.403596</td>\n",
       "      <td>0.253910</td>\n",
       "      <td>0.389877</td>\n",
       "      <td>0.197393</td>\n",
       "      <td>0.669649</td>\n",
       "      <td>0.041010</td>\n",
       "      <td>0.832120</td>\n",
       "      <td>0.954183</td>\n",
       "      <td>...</td>\n",
       "      <td>1.165679</td>\n",
       "      <td>0.111142</td>\n",
       "      <td>0.084263</td>\n",
       "      <td>1.229913</td>\n",
       "      <td>0.390190</td>\n",
       "      <td>0.505316</td>\n",
       "      <td>0.975901</td>\n",
       "      <td>1.817369</td>\n",
       "      <td>0.756393</td>\n",
       "      <td>0.729526</td>\n",
       "    </tr>\n",
       "    <tr>\n",
       "      <th>100003_raw-Protein</th>\n",
       "      <td>0.090876</td>\n",
       "      <td>2.218420</td>\n",
       "      <td>1.251359</td>\n",
       "      <td>0.879148</td>\n",
       "      <td>0.723469</td>\n",
       "      <td>0.777974</td>\n",
       "      <td>0.207873</td>\n",
       "      <td>0.536609</td>\n",
       "      <td>0.453969</td>\n",
       "      <td>1.286942</td>\n",
       "      <td>...</td>\n",
       "      <td>0.541370</td>\n",
       "      <td>0.734872</td>\n",
       "      <td>0.634674</td>\n",
       "      <td>1.316750</td>\n",
       "      <td>0.761859</td>\n",
       "      <td>1.276888</td>\n",
       "      <td>0.160988</td>\n",
       "      <td>0.346794</td>\n",
       "      <td>0.609476</td>\n",
       "      <td>0.222126</td>\n",
       "    </tr>\n",
       "    <tr>\n",
       "      <th>100004_raw-Fat</th>\n",
       "      <td>0.298165</td>\n",
       "      <td>0.762584</td>\n",
       "      <td>0.433091</td>\n",
       "      <td>0.352705</td>\n",
       "      <td>1.167250</td>\n",
       "      <td>0.578435</td>\n",
       "      <td>0.738983</td>\n",
       "      <td>0.565245</td>\n",
       "      <td>0.397189</td>\n",
       "      <td>0.192279</td>\n",
       "      <td>...</td>\n",
       "      <td>0.867217</td>\n",
       "      <td>0.540941</td>\n",
       "      <td>0.284347</td>\n",
       "      <td>1.661131</td>\n",
       "      <td>0.404078</td>\n",
       "      <td>1.248959</td>\n",
       "      <td>0.799771</td>\n",
       "      <td>1.443097</td>\n",
       "      <td>0.814969</td>\n",
       "      <td>0.545356</td>\n",
       "    </tr>\n",
       "    <tr>\n",
       "      <th>100005_raw-Carbohydrate</th>\n",
       "      <td>1.134347</td>\n",
       "      <td>0.934418</td>\n",
       "      <td>0.413466</td>\n",
       "      <td>0.051846</td>\n",
       "      <td>0.315952</td>\n",
       "      <td>0.046237</td>\n",
       "      <td>1.113674</td>\n",
       "      <td>0.319842</td>\n",
       "      <td>0.965217</td>\n",
       "      <td>0.919779</td>\n",
       "      <td>...</td>\n",
       "      <td>1.747265</td>\n",
       "      <td>0.496178</td>\n",
       "      <td>0.144053</td>\n",
       "      <td>0.701817</td>\n",
       "      <td>0.827677</td>\n",
       "      <td>0.587188</td>\n",
       "      <td>1.089338</td>\n",
       "      <td>2.001502</td>\n",
       "      <td>1.362716</td>\n",
       "      <td>1.490030</td>\n",
       "    </tr>\n",
       "  </tbody>\n",
       "</table>\n",
       "<p>5 rows × 22515 columns</p>\n",
       "</div>"
      ],
      "text/plain": [
       "gene_name                ENSG00000000419  ENSG00000000457  ENSG00000000460  \\\n",
       "100001_raw-Food_weight          1.145442         0.618066         0.515724   \n",
       "100002_raw-Energy               0.724557         1.028131         0.403596   \n",
       "100003_raw-Protein              0.090876         2.218420         1.251359   \n",
       "100004_raw-Fat                  0.298165         0.762584         0.433091   \n",
       "100005_raw-Carbohydrate         1.134347         0.934418         0.413466   \n",
       "\n",
       "gene_name                ENSG00000000938  ENSG00000000971  ENSG00000001036  \\\n",
       "100001_raw-Food_weight          0.280781         0.548127         0.045587   \n",
       "100002_raw-Energy               0.253910         0.389877         0.197393   \n",
       "100003_raw-Protein              0.879148         0.723469         0.777974   \n",
       "100004_raw-Fat                  0.352705         1.167250         0.578435   \n",
       "100005_raw-Carbohydrate         0.051846         0.315952         0.046237   \n",
       "\n",
       "gene_name                ENSG00000001084  ENSG00000001167  ENSG00000001460  \\\n",
       "100001_raw-Food_weight          0.329995         0.109494         1.356741   \n",
       "100002_raw-Energy               0.669649         0.041010         0.832120   \n",
       "100003_raw-Protein              0.207873         0.536609         0.453969   \n",
       "100004_raw-Fat                  0.738983         0.565245         0.397189   \n",
       "100005_raw-Carbohydrate         1.113674         0.319842         0.965217   \n",
       "\n",
       "gene_name                ENSG00000001461  ...  ENSG00000284240  \\\n",
       "100001_raw-Food_weight          1.474255  ...         1.490410   \n",
       "100002_raw-Energy               0.954183  ...         1.165679   \n",
       "100003_raw-Protein              1.286942  ...         0.541370   \n",
       "100004_raw-Fat                  0.192279  ...         0.867217   \n",
       "100005_raw-Carbohydrate         0.919779  ...         1.747265   \n",
       "\n",
       "gene_name                ENSG00000284308  ENSG00000284395  ENSG00000284413  \\\n",
       "100001_raw-Food_weight          0.230329         0.596503         0.519733   \n",
       "100002_raw-Energy               0.111142         0.084263         1.229913   \n",
       "100003_raw-Protein              0.734872         0.634674         1.316750   \n",
       "100004_raw-Fat                  0.540941         0.284347         1.661131   \n",
       "100005_raw-Carbohydrate         0.496178         0.144053         0.701817   \n",
       "\n",
       "gene_name                ENSG00000284418  ENSG00000284430  ENSG00000284452  \\\n",
       "100001_raw-Food_weight          2.285074         0.124980         1.587903   \n",
       "100002_raw-Energy               0.390190         0.505316         0.975901   \n",
       "100003_raw-Protein              0.761859         1.276888         0.160988   \n",
       "100004_raw-Fat                  0.404078         1.248959         0.799771   \n",
       "100005_raw-Carbohydrate         0.827677         0.587188         1.089338   \n",
       "\n",
       "gene_name                ENSG00000284513  ENSG00000284526  ENSG00000284552  \n",
       "100001_raw-Food_weight          1.522281         0.150938         1.010143  \n",
       "100002_raw-Energy               1.817369         0.756393         0.729526  \n",
       "100003_raw-Protein              0.346794         0.609476         0.222126  \n",
       "100004_raw-Fat                  1.443097         0.814969         0.545356  \n",
       "100005_raw-Carbohydrate         2.001502         1.362716         1.490030  \n",
       "\n",
       "[5 rows x 22515 columns]"
      ]
     },
     "execution_count": 9,
     "metadata": {},
     "output_type": "execute_result"
    }
   ],
   "source": [
    "data.head()"
   ]
  },
  {
   "cell_type": "markdown",
   "metadata": {},
   "source": [
    "# UMAP"
   ]
  },
  {
   "cell_type": "code",
   "execution_count": 10,
   "metadata": {},
   "outputs": [],
   "source": [
    "def get_umap_proj(orig_data, options):\n",
    "    umap_obj = umap.UMAP(**{k:v for k, v in options.items() if k in DR_OPTIONS})\n",
    "    umap_obj = umap_obj.fit(orig_data)\n",
    "    umap_data = umap_obj.transform(orig_data)\n",
    "    return pd.DataFrame(\n",
    "        data=umap_data,\n",
    "        index=orig_data.index.copy(),\n",
    "        columns=[f'UMAP{i+1}' for i in range(umap_data.shape[1])]\n",
    "    )"
   ]
  },
  {
   "cell_type": "code",
   "execution_count": 11,
   "metadata": {},
   "outputs": [
    {
     "name": "stdout",
     "output_type": "stream",
     "text": [
      "# components: 5\n"
     ]
    },
    {
     "data": {
      "text/plain": [
       "(3749, 5)"
      ]
     },
     "metadata": {},
     "output_type": "display_data"
    },
    {
     "data": {
      "text/html": [
       "<div>\n",
       "<style scoped>\n",
       "    .dataframe tbody tr th:only-of-type {\n",
       "        vertical-align: middle;\n",
       "    }\n",
       "\n",
       "    .dataframe tbody tr th {\n",
       "        vertical-align: top;\n",
       "    }\n",
       "\n",
       "    .dataframe thead th {\n",
       "        text-align: right;\n",
       "    }\n",
       "</style>\n",
       "<table border=\"1\" class=\"dataframe\">\n",
       "  <thead>\n",
       "    <tr style=\"text-align: right;\">\n",
       "      <th></th>\n",
       "      <th>UMAP1</th>\n",
       "      <th>UMAP2</th>\n",
       "      <th>UMAP3</th>\n",
       "      <th>UMAP4</th>\n",
       "      <th>UMAP5</th>\n",
       "    </tr>\n",
       "  </thead>\n",
       "  <tbody>\n",
       "    <tr>\n",
       "      <th>count</th>\n",
       "      <td>3749.000000</td>\n",
       "      <td>3749.000000</td>\n",
       "      <td>3749.000000</td>\n",
       "      <td>3749.000000</td>\n",
       "      <td>3749.000000</td>\n",
       "    </tr>\n",
       "    <tr>\n",
       "      <th>mean</th>\n",
       "      <td>3.252615</td>\n",
       "      <td>0.633389</td>\n",
       "      <td>-4.734339</td>\n",
       "      <td>-6.253658</td>\n",
       "      <td>-0.160677</td>\n",
       "    </tr>\n",
       "    <tr>\n",
       "      <th>std</th>\n",
       "      <td>0.977179</td>\n",
       "      <td>0.822070</td>\n",
       "      <td>1.435681</td>\n",
       "      <td>1.466053</td>\n",
       "      <td>0.687564</td>\n",
       "    </tr>\n",
       "    <tr>\n",
       "      <th>min</th>\n",
       "      <td>0.249835</td>\n",
       "      <td>-1.615270</td>\n",
       "      <td>-7.048862</td>\n",
       "      <td>-9.041843</td>\n",
       "      <td>-2.109535</td>\n",
       "    </tr>\n",
       "    <tr>\n",
       "      <th>25%</th>\n",
       "      <td>2.856221</td>\n",
       "      <td>0.259234</td>\n",
       "      <td>-5.707329</td>\n",
       "      <td>-6.932757</td>\n",
       "      <td>-0.543586</td>\n",
       "    </tr>\n",
       "    <tr>\n",
       "      <th>50%</th>\n",
       "      <td>3.185971</td>\n",
       "      <td>0.610978</td>\n",
       "      <td>-5.213283</td>\n",
       "      <td>-6.504684</td>\n",
       "      <td>-0.196170</td>\n",
       "    </tr>\n",
       "    <tr>\n",
       "      <th>75%</th>\n",
       "      <td>3.519284</td>\n",
       "      <td>0.985862</td>\n",
       "      <td>-4.235223</td>\n",
       "      <td>-5.860087</td>\n",
       "      <td>0.161880</td>\n",
       "    </tr>\n",
       "    <tr>\n",
       "      <th>max</th>\n",
       "      <td>11.483977</td>\n",
       "      <td>14.233703</td>\n",
       "      <td>4.708987</td>\n",
       "      <td>4.364089</td>\n",
       "      <td>3.257919</td>\n",
       "    </tr>\n",
       "  </tbody>\n",
       "</table>\n",
       "</div>"
      ],
      "text/plain": [
       "             UMAP1        UMAP2        UMAP3        UMAP4        UMAP5\n",
       "count  3749.000000  3749.000000  3749.000000  3749.000000  3749.000000\n",
       "mean      3.252615     0.633389    -4.734339    -6.253658    -0.160677\n",
       "std       0.977179     0.822070     1.435681     1.466053     0.687564\n",
       "min       0.249835    -1.615270    -7.048862    -9.041843    -2.109535\n",
       "25%       2.856221     0.259234    -5.707329    -6.932757    -0.543586\n",
       "50%       3.185971     0.610978    -5.213283    -6.504684    -0.196170\n",
       "75%       3.519284     0.985862    -4.235223    -5.860087     0.161880\n",
       "max      11.483977    14.233703     4.708987     4.364089     3.257919"
      ]
     },
     "metadata": {},
     "output_type": "display_data"
    },
    {
     "data": {
      "text/plain": [
       "PosixPath('/media/miltondp/Elements1/projects/phenoplier/results/data_transformations/umap/umap-smultixcan-efo_partial-mashr-zscores-metric_euclidean-n_components_5-n_neighbors_15-random_state_0.pkl')"
      ]
     },
     "metadata": {},
     "output_type": "display_data"
    },
    {
     "name": "stdout",
     "output_type": "stream",
     "text": [
      "\n",
      "\n",
      "# components: 10\n"
     ]
    },
    {
     "data": {
      "text/plain": [
       "(3749, 10)"
      ]
     },
     "metadata": {},
     "output_type": "display_data"
    },
    {
     "data": {
      "text/html": [
       "<div>\n",
       "<style scoped>\n",
       "    .dataframe tbody tr th:only-of-type {\n",
       "        vertical-align: middle;\n",
       "    }\n",
       "\n",
       "    .dataframe tbody tr th {\n",
       "        vertical-align: top;\n",
       "    }\n",
       "\n",
       "    .dataframe thead th {\n",
       "        text-align: right;\n",
       "    }\n",
       "</style>\n",
       "<table border=\"1\" class=\"dataframe\">\n",
       "  <thead>\n",
       "    <tr style=\"text-align: right;\">\n",
       "      <th></th>\n",
       "      <th>UMAP1</th>\n",
       "      <th>UMAP2</th>\n",
       "      <th>UMAP3</th>\n",
       "      <th>UMAP4</th>\n",
       "      <th>UMAP5</th>\n",
       "    </tr>\n",
       "  </thead>\n",
       "  <tbody>\n",
       "    <tr>\n",
       "      <th>count</th>\n",
       "      <td>3749.000000</td>\n",
       "      <td>3749.000000</td>\n",
       "      <td>3749.000000</td>\n",
       "      <td>3749.000000</td>\n",
       "      <td>3749.000000</td>\n",
       "    </tr>\n",
       "    <tr>\n",
       "      <th>mean</th>\n",
       "      <td>-3.385514</td>\n",
       "      <td>11.781983</td>\n",
       "      <td>11.702998</td>\n",
       "      <td>-1.191766</td>\n",
       "      <td>-0.269153</td>\n",
       "    </tr>\n",
       "    <tr>\n",
       "      <th>std</th>\n",
       "      <td>1.601074</td>\n",
       "      <td>0.776171</td>\n",
       "      <td>0.720756</td>\n",
       "      <td>0.643258</td>\n",
       "      <td>0.460902</td>\n",
       "    </tr>\n",
       "    <tr>\n",
       "      <th>min</th>\n",
       "      <td>-4.901329</td>\n",
       "      <td>-0.788012</td>\n",
       "      <td>4.306539</td>\n",
       "      <td>-3.431091</td>\n",
       "      <td>-1.618921</td>\n",
       "    </tr>\n",
       "    <tr>\n",
       "      <th>25%</th>\n",
       "      <td>-4.229977</td>\n",
       "      <td>11.545250</td>\n",
       "      <td>11.494916</td>\n",
       "      <td>-1.506473</td>\n",
       "      <td>-0.553043</td>\n",
       "    </tr>\n",
       "    <tr>\n",
       "      <th>50%</th>\n",
       "      <td>-3.890360</td>\n",
       "      <td>11.879045</td>\n",
       "      <td>11.837508</td>\n",
       "      <td>-1.227348</td>\n",
       "      <td>-0.307382</td>\n",
       "    </tr>\n",
       "    <tr>\n",
       "      <th>75%</th>\n",
       "      <td>-3.054370</td>\n",
       "      <td>12.151494</td>\n",
       "      <td>12.120855</td>\n",
       "      <td>-0.967469</td>\n",
       "      <td>-0.036653</td>\n",
       "    </tr>\n",
       "    <tr>\n",
       "      <th>max</th>\n",
       "      <td>8.238693</td>\n",
       "      <td>13.077419</td>\n",
       "      <td>12.994085</td>\n",
       "      <td>2.677575</td>\n",
       "      <td>2.133960</td>\n",
       "    </tr>\n",
       "  </tbody>\n",
       "</table>\n",
       "</div>"
      ],
      "text/plain": [
       "             UMAP1        UMAP2        UMAP3        UMAP4        UMAP5\n",
       "count  3749.000000  3749.000000  3749.000000  3749.000000  3749.000000\n",
       "mean     -3.385514    11.781983    11.702998    -1.191766    -0.269153\n",
       "std       1.601074     0.776171     0.720756     0.643258     0.460902\n",
       "min      -4.901329    -0.788012     4.306539    -3.431091    -1.618921\n",
       "25%      -4.229977    11.545250    11.494916    -1.506473    -0.553043\n",
       "50%      -3.890360    11.879045    11.837508    -1.227348    -0.307382\n",
       "75%      -3.054370    12.151494    12.120855    -0.967469    -0.036653\n",
       "max       8.238693    13.077419    12.994085     2.677575     2.133960"
      ]
     },
     "metadata": {},
     "output_type": "display_data"
    },
    {
     "data": {
      "text/plain": [
       "PosixPath('/media/miltondp/Elements1/projects/phenoplier/results/data_transformations/umap/umap-smultixcan-efo_partial-mashr-zscores-metric_euclidean-n_components_10-n_neighbors_15-random_state_0.pkl')"
      ]
     },
     "metadata": {},
     "output_type": "display_data"
    },
    {
     "name": "stdout",
     "output_type": "stream",
     "text": [
      "\n",
      "\n",
      "# components: 20\n"
     ]
    },
    {
     "data": {
      "text/plain": [
       "(3749, 20)"
      ]
     },
     "metadata": {},
     "output_type": "display_data"
    },
    {
     "data": {
      "text/html": [
       "<div>\n",
       "<style scoped>\n",
       "    .dataframe tbody tr th:only-of-type {\n",
       "        vertical-align: middle;\n",
       "    }\n",
       "\n",
       "    .dataframe tbody tr th {\n",
       "        vertical-align: top;\n",
       "    }\n",
       "\n",
       "    .dataframe thead th {\n",
       "        text-align: right;\n",
       "    }\n",
       "</style>\n",
       "<table border=\"1\" class=\"dataframe\">\n",
       "  <thead>\n",
       "    <tr style=\"text-align: right;\">\n",
       "      <th></th>\n",
       "      <th>UMAP1</th>\n",
       "      <th>UMAP2</th>\n",
       "      <th>UMAP3</th>\n",
       "      <th>UMAP4</th>\n",
       "      <th>UMAP5</th>\n",
       "    </tr>\n",
       "  </thead>\n",
       "  <tbody>\n",
       "    <tr>\n",
       "      <th>count</th>\n",
       "      <td>3749.000000</td>\n",
       "      <td>3749.000000</td>\n",
       "      <td>3749.000000</td>\n",
       "      <td>3749.000000</td>\n",
       "      <td>3749.000000</td>\n",
       "    </tr>\n",
       "    <tr>\n",
       "      <th>mean</th>\n",
       "      <td>-0.992039</td>\n",
       "      <td>0.651440</td>\n",
       "      <td>-2.236039</td>\n",
       "      <td>-0.004241</td>\n",
       "      <td>0.547745</td>\n",
       "    </tr>\n",
       "    <tr>\n",
       "      <th>std</th>\n",
       "      <td>1.111902</td>\n",
       "      <td>0.537406</td>\n",
       "      <td>0.588273</td>\n",
       "      <td>0.476805</td>\n",
       "      <td>0.363006</td>\n",
       "    </tr>\n",
       "    <tr>\n",
       "      <th>min</th>\n",
       "      <td>-2.297202</td>\n",
       "      <td>-0.105243</td>\n",
       "      <td>-3.542164</td>\n",
       "      <td>-1.805669</td>\n",
       "      <td>-0.485184</td>\n",
       "    </tr>\n",
       "    <tr>\n",
       "      <th>25%</th>\n",
       "      <td>-1.412976</td>\n",
       "      <td>0.489357</td>\n",
       "      <td>-2.555759</td>\n",
       "      <td>-0.166228</td>\n",
       "      <td>0.360743</td>\n",
       "    </tr>\n",
       "    <tr>\n",
       "      <th>50%</th>\n",
       "      <td>-1.197351</td>\n",
       "      <td>0.652379</td>\n",
       "      <td>-2.334689</td>\n",
       "      <td>0.061306</td>\n",
       "      <td>0.536027</td>\n",
       "    </tr>\n",
       "    <tr>\n",
       "      <th>75%</th>\n",
       "      <td>-0.894200</td>\n",
       "      <td>0.764171</td>\n",
       "      <td>-2.032815</td>\n",
       "      <td>0.229995</td>\n",
       "      <td>0.703449</td>\n",
       "    </tr>\n",
       "    <tr>\n",
       "      <th>max</th>\n",
       "      <td>8.837230</td>\n",
       "      <td>11.313079</td>\n",
       "      <td>4.504565</td>\n",
       "      <td>2.601645</td>\n",
       "      <td>2.839957</td>\n",
       "    </tr>\n",
       "  </tbody>\n",
       "</table>\n",
       "</div>"
      ],
      "text/plain": [
       "             UMAP1        UMAP2        UMAP3        UMAP4        UMAP5\n",
       "count  3749.000000  3749.000000  3749.000000  3749.000000  3749.000000\n",
       "mean     -0.992039     0.651440    -2.236039    -0.004241     0.547745\n",
       "std       1.111902     0.537406     0.588273     0.476805     0.363006\n",
       "min      -2.297202    -0.105243    -3.542164    -1.805669    -0.485184\n",
       "25%      -1.412976     0.489357    -2.555759    -0.166228     0.360743\n",
       "50%      -1.197351     0.652379    -2.334689     0.061306     0.536027\n",
       "75%      -0.894200     0.764171    -2.032815     0.229995     0.703449\n",
       "max       8.837230    11.313079     4.504565     2.601645     2.839957"
      ]
     },
     "metadata": {},
     "output_type": "display_data"
    },
    {
     "data": {
      "text/plain": [
       "PosixPath('/media/miltondp/Elements1/projects/phenoplier/results/data_transformations/umap/umap-smultixcan-efo_partial-mashr-zscores-metric_euclidean-n_components_20-n_neighbors_15-random_state_0.pkl')"
      ]
     },
     "metadata": {},
     "output_type": "display_data"
    },
    {
     "name": "stdout",
     "output_type": "stream",
     "text": [
      "\n",
      "\n",
      "# components: 30\n"
     ]
    },
    {
     "data": {
      "text/plain": [
       "(3749, 30)"
      ]
     },
     "metadata": {},
     "output_type": "display_data"
    },
    {
     "data": {
      "text/html": [
       "<div>\n",
       "<style scoped>\n",
       "    .dataframe tbody tr th:only-of-type {\n",
       "        vertical-align: middle;\n",
       "    }\n",
       "\n",
       "    .dataframe tbody tr th {\n",
       "        vertical-align: top;\n",
       "    }\n",
       "\n",
       "    .dataframe thead th {\n",
       "        text-align: right;\n",
       "    }\n",
       "</style>\n",
       "<table border=\"1\" class=\"dataframe\">\n",
       "  <thead>\n",
       "    <tr style=\"text-align: right;\">\n",
       "      <th></th>\n",
       "      <th>UMAP1</th>\n",
       "      <th>UMAP2</th>\n",
       "      <th>UMAP3</th>\n",
       "      <th>UMAP4</th>\n",
       "      <th>UMAP5</th>\n",
       "    </tr>\n",
       "  </thead>\n",
       "  <tbody>\n",
       "    <tr>\n",
       "      <th>count</th>\n",
       "      <td>3749.000000</td>\n",
       "      <td>3749.000000</td>\n",
       "      <td>3749.000000</td>\n",
       "      <td>3749.000000</td>\n",
       "      <td>3749.000000</td>\n",
       "    </tr>\n",
       "    <tr>\n",
       "      <th>mean</th>\n",
       "      <td>12.507243</td>\n",
       "      <td>10.855247</td>\n",
       "      <td>10.003415</td>\n",
       "      <td>11.732469</td>\n",
       "      <td>10.535384</td>\n",
       "    </tr>\n",
       "    <tr>\n",
       "      <th>std</th>\n",
       "      <td>1.241598</td>\n",
       "      <td>0.648087</td>\n",
       "      <td>0.406464</td>\n",
       "      <td>0.606360</td>\n",
       "      <td>0.398314</td>\n",
       "    </tr>\n",
       "    <tr>\n",
       "      <th>min</th>\n",
       "      <td>2.050032</td>\n",
       "      <td>-1.269892</td>\n",
       "      <td>3.819613</td>\n",
       "      <td>7.413626</td>\n",
       "      <td>8.536633</td>\n",
       "    </tr>\n",
       "    <tr>\n",
       "      <th>25%</th>\n",
       "      <td>12.494047</td>\n",
       "      <td>10.688519</td>\n",
       "      <td>9.893262</td>\n",
       "      <td>11.502682</td>\n",
       "      <td>10.414731</td>\n",
       "    </tr>\n",
       "    <tr>\n",
       "      <th>50%</th>\n",
       "      <td>12.839887</td>\n",
       "      <td>10.940052</td>\n",
       "      <td>10.022593</td>\n",
       "      <td>11.675805</td>\n",
       "      <td>10.617169</td>\n",
       "    </tr>\n",
       "    <tr>\n",
       "      <th>75%</th>\n",
       "      <td>12.990063</td>\n",
       "      <td>11.108652</td>\n",
       "      <td>10.157248</td>\n",
       "      <td>11.895280</td>\n",
       "      <td>10.754359</td>\n",
       "    </tr>\n",
       "    <tr>\n",
       "      <th>max</th>\n",
       "      <td>13.477344</td>\n",
       "      <td>11.623949</td>\n",
       "      <td>10.817350</td>\n",
       "      <td>13.435103</td>\n",
       "      <td>11.403426</td>\n",
       "    </tr>\n",
       "  </tbody>\n",
       "</table>\n",
       "</div>"
      ],
      "text/plain": [
       "             UMAP1        UMAP2        UMAP3        UMAP4        UMAP5\n",
       "count  3749.000000  3749.000000  3749.000000  3749.000000  3749.000000\n",
       "mean     12.507243    10.855247    10.003415    11.732469    10.535384\n",
       "std       1.241598     0.648087     0.406464     0.606360     0.398314\n",
       "min       2.050032    -1.269892     3.819613     7.413626     8.536633\n",
       "25%      12.494047    10.688519     9.893262    11.502682    10.414731\n",
       "50%      12.839887    10.940052    10.022593    11.675805    10.617169\n",
       "75%      12.990063    11.108652    10.157248    11.895280    10.754359\n",
       "max      13.477344    11.623949    10.817350    13.435103    11.403426"
      ]
     },
     "metadata": {},
     "output_type": "display_data"
    },
    {
     "data": {
      "text/plain": [
       "PosixPath('/media/miltondp/Elements1/projects/phenoplier/results/data_transformations/umap/umap-smultixcan-efo_partial-mashr-zscores-metric_euclidean-n_components_30-n_neighbors_15-random_state_0.pkl')"
      ]
     },
     "metadata": {},
     "output_type": "display_data"
    },
    {
     "name": "stdout",
     "output_type": "stream",
     "text": [
      "\n",
      "\n",
      "# components: 40\n"
     ]
    },
    {
     "data": {
      "text/plain": [
       "(3749, 40)"
      ]
     },
     "metadata": {},
     "output_type": "display_data"
    },
    {
     "data": {
      "text/html": [
       "<div>\n",
       "<style scoped>\n",
       "    .dataframe tbody tr th:only-of-type {\n",
       "        vertical-align: middle;\n",
       "    }\n",
       "\n",
       "    .dataframe tbody tr th {\n",
       "        vertical-align: top;\n",
       "    }\n",
       "\n",
       "    .dataframe thead th {\n",
       "        text-align: right;\n",
       "    }\n",
       "</style>\n",
       "<table border=\"1\" class=\"dataframe\">\n",
       "  <thead>\n",
       "    <tr style=\"text-align: right;\">\n",
       "      <th></th>\n",
       "      <th>UMAP1</th>\n",
       "      <th>UMAP2</th>\n",
       "      <th>UMAP3</th>\n",
       "      <th>UMAP4</th>\n",
       "      <th>UMAP5</th>\n",
       "    </tr>\n",
       "  </thead>\n",
       "  <tbody>\n",
       "    <tr>\n",
       "      <th>count</th>\n",
       "      <td>3749.000000</td>\n",
       "      <td>3749.000000</td>\n",
       "      <td>3749.000000</td>\n",
       "      <td>3749.000000</td>\n",
       "      <td>3749.000000</td>\n",
       "    </tr>\n",
       "    <tr>\n",
       "      <th>mean</th>\n",
       "      <td>11.396314</td>\n",
       "      <td>11.343591</td>\n",
       "      <td>11.401268</td>\n",
       "      <td>11.153778</td>\n",
       "      <td>12.100967</td>\n",
       "    </tr>\n",
       "    <tr>\n",
       "      <th>std</th>\n",
       "      <td>1.029006</td>\n",
       "      <td>0.734122</td>\n",
       "      <td>0.468746</td>\n",
       "      <td>0.555436</td>\n",
       "      <td>0.580361</td>\n",
       "    </tr>\n",
       "    <tr>\n",
       "      <th>min</th>\n",
       "      <td>2.070374</td>\n",
       "      <td>-2.610800</td>\n",
       "      <td>5.130984</td>\n",
       "      <td>8.074213</td>\n",
       "      <td>8.974076</td>\n",
       "    </tr>\n",
       "    <tr>\n",
       "      <th>25%</th>\n",
       "      <td>11.348479</td>\n",
       "      <td>11.231630</td>\n",
       "      <td>11.310749</td>\n",
       "      <td>10.894485</td>\n",
       "      <td>12.025827</td>\n",
       "    </tr>\n",
       "    <tr>\n",
       "      <th>50%</th>\n",
       "      <td>11.599537</td>\n",
       "      <td>11.460111</td>\n",
       "      <td>11.466979</td>\n",
       "      <td>11.070588</td>\n",
       "      <td>12.270280</td>\n",
       "    </tr>\n",
       "    <tr>\n",
       "      <th>75%</th>\n",
       "      <td>11.744359</td>\n",
       "      <td>11.607738</td>\n",
       "      <td>11.595957</td>\n",
       "      <td>11.315697</td>\n",
       "      <td>12.403950</td>\n",
       "    </tr>\n",
       "    <tr>\n",
       "      <th>max</th>\n",
       "      <td>12.110102</td>\n",
       "      <td>12.068358</td>\n",
       "      <td>12.009825</td>\n",
       "      <td>13.047127</td>\n",
       "      <td>12.911750</td>\n",
       "    </tr>\n",
       "  </tbody>\n",
       "</table>\n",
       "</div>"
      ],
      "text/plain": [
       "             UMAP1        UMAP2        UMAP3        UMAP4        UMAP5\n",
       "count  3749.000000  3749.000000  3749.000000  3749.000000  3749.000000\n",
       "mean     11.396314    11.343591    11.401268    11.153778    12.100967\n",
       "std       1.029006     0.734122     0.468746     0.555436     0.580361\n",
       "min       2.070374    -2.610800     5.130984     8.074213     8.974076\n",
       "25%      11.348479    11.231630    11.310749    10.894485    12.025827\n",
       "50%      11.599537    11.460111    11.466979    11.070588    12.270280\n",
       "75%      11.744359    11.607738    11.595957    11.315697    12.403950\n",
       "max      12.110102    12.068358    12.009825    13.047127    12.911750"
      ]
     },
     "metadata": {},
     "output_type": "display_data"
    },
    {
     "data": {
      "text/plain": [
       "PosixPath('/media/miltondp/Elements1/projects/phenoplier/results/data_transformations/umap/umap-smultixcan-efo_partial-mashr-zscores-metric_euclidean-n_components_40-n_neighbors_15-random_state_0.pkl')"
      ]
     },
     "metadata": {},
     "output_type": "display_data"
    },
    {
     "name": "stdout",
     "output_type": "stream",
     "text": [
      "\n",
      "\n",
      "# components: 50\n"
     ]
    },
    {
     "data": {
      "text/plain": [
       "(3749, 50)"
      ]
     },
     "metadata": {},
     "output_type": "display_data"
    },
    {
     "data": {
      "text/html": [
       "<div>\n",
       "<style scoped>\n",
       "    .dataframe tbody tr th:only-of-type {\n",
       "        vertical-align: middle;\n",
       "    }\n",
       "\n",
       "    .dataframe tbody tr th {\n",
       "        vertical-align: top;\n",
       "    }\n",
       "\n",
       "    .dataframe thead th {\n",
       "        text-align: right;\n",
       "    }\n",
       "</style>\n",
       "<table border=\"1\" class=\"dataframe\">\n",
       "  <thead>\n",
       "    <tr style=\"text-align: right;\">\n",
       "      <th></th>\n",
       "      <th>UMAP1</th>\n",
       "      <th>UMAP2</th>\n",
       "      <th>UMAP3</th>\n",
       "      <th>UMAP4</th>\n",
       "      <th>UMAP5</th>\n",
       "    </tr>\n",
       "  </thead>\n",
       "  <tbody>\n",
       "    <tr>\n",
       "      <th>count</th>\n",
       "      <td>3749.000000</td>\n",
       "      <td>3749.000000</td>\n",
       "      <td>3749.000000</td>\n",
       "      <td>3749.000000</td>\n",
       "      <td>3749.000000</td>\n",
       "    </tr>\n",
       "    <tr>\n",
       "      <th>mean</th>\n",
       "      <td>11.674576</td>\n",
       "      <td>10.371646</td>\n",
       "      <td>11.158474</td>\n",
       "      <td>11.864619</td>\n",
       "      <td>9.776398</td>\n",
       "    </tr>\n",
       "    <tr>\n",
       "      <th>std</th>\n",
       "      <td>1.005584</td>\n",
       "      <td>0.591366</td>\n",
       "      <td>0.503599</td>\n",
       "      <td>0.649769</td>\n",
       "      <td>0.332357</td>\n",
       "    </tr>\n",
       "    <tr>\n",
       "      <th>min</th>\n",
       "      <td>2.541232</td>\n",
       "      <td>-1.669116</td>\n",
       "      <td>4.016442</td>\n",
       "      <td>7.441638</td>\n",
       "      <td>7.509040</td>\n",
       "    </tr>\n",
       "    <tr>\n",
       "      <th>25%</th>\n",
       "      <td>11.611922</td>\n",
       "      <td>10.280213</td>\n",
       "      <td>11.057518</td>\n",
       "      <td>11.672916</td>\n",
       "      <td>9.677867</td>\n",
       "    </tr>\n",
       "    <tr>\n",
       "      <th>50%</th>\n",
       "      <td>11.862285</td>\n",
       "      <td>10.437992</td>\n",
       "      <td>11.262620</td>\n",
       "      <td>11.831642</td>\n",
       "      <td>9.824313</td>\n",
       "    </tr>\n",
       "    <tr>\n",
       "      <th>75%</th>\n",
       "      <td>12.010863</td>\n",
       "      <td>10.540978</td>\n",
       "      <td>11.369440</td>\n",
       "      <td>12.033896</td>\n",
       "      <td>9.927349</td>\n",
       "    </tr>\n",
       "    <tr>\n",
       "      <th>max</th>\n",
       "      <td>12.800804</td>\n",
       "      <td>10.840425</td>\n",
       "      <td>11.896875</td>\n",
       "      <td>13.577888</td>\n",
       "      <td>10.520713</td>\n",
       "    </tr>\n",
       "  </tbody>\n",
       "</table>\n",
       "</div>"
      ],
      "text/plain": [
       "             UMAP1        UMAP2        UMAP3        UMAP4        UMAP5\n",
       "count  3749.000000  3749.000000  3749.000000  3749.000000  3749.000000\n",
       "mean     11.674576    10.371646    11.158474    11.864619     9.776398\n",
       "std       1.005584     0.591366     0.503599     0.649769     0.332357\n",
       "min       2.541232    -1.669116     4.016442     7.441638     7.509040\n",
       "25%      11.611922    10.280213    11.057518    11.672916     9.677867\n",
       "50%      11.862285    10.437992    11.262620    11.831642     9.824313\n",
       "75%      12.010863    10.540978    11.369440    12.033896     9.927349\n",
       "max      12.800804    10.840425    11.896875    13.577888    10.520713"
      ]
     },
     "metadata": {},
     "output_type": "display_data"
    },
    {
     "data": {
      "text/plain": [
       "PosixPath('/media/miltondp/Elements1/projects/phenoplier/results/data_transformations/umap/umap-smultixcan-efo_partial-mashr-zscores-metric_euclidean-n_components_50-n_neighbors_15-random_state_0.pkl')"
      ]
     },
     "metadata": {},
     "output_type": "display_data"
    },
    {
     "name": "stdout",
     "output_type": "stream",
     "text": [
      "\n",
      "\n"
     ]
    }
   ],
   "source": [
    "# for n_comp, n_neigh in product(DR_OPTIONS['n_components'], DR_OPTIONS['n_neighbors']):\n",
    "for n_comp in DR_OPTIONS['n_components']:\n",
    "    print(f'# components: {n_comp}')\n",
    "    \n",
    "    options = ALL_OPTIONS.copy()\n",
    "    options['n_components'] = n_comp\n",
    "    \n",
    "    dr_data = get_umap_proj(data, options)\n",
    "    \n",
    "    display(dr_data.shape)\n",
    "    assert dr_data.shape == (data.shape[0], n_comp)\n",
    "    \n",
    "    display(dr_data.iloc[:, 0:5].describe())\n",
    "    \n",
    "    # save\n",
    "    output_file = Path(\n",
    "        RESULTS_DIR,\n",
    "        generate_result_set_name(\n",
    "            options,\n",
    "            prefix=f'umap-{input_filepath_stem}-',\n",
    "            suffix='.pkl'\n",
    "        )\n",
    "    ).resolve()\n",
    "    display(output_file)\n",
    "    \n",
    "    dr_data.to_pickle(output_file)\n",
    "    \n",
    "    print('\\n')"
   ]
  },
  {
   "cell_type": "code",
   "execution_count": null,
   "metadata": {},
   "outputs": [],
   "source": []
  }
 ],
 "metadata": {
  "jupytext": {
   "formats": "ipynb,py:percent"
  },
  "kernelspec": {
   "display_name": "Python 3",
   "language": "python",
   "name": "python3"
  },
  "language_info": {
   "codemirror_mode": {
    "name": "ipython",
    "version": 3
   },
   "file_extension": ".py",
   "mimetype": "text/x-python",
   "name": "python",
   "nbconvert_exporter": "python",
   "pygments_lexer": "ipython3",
   "version": "3.8.6"
  },
  "toc-autonumbering": true,
  "toc-showcode": false,
  "toc-showmarkdowntxt": false,
  "toc-showtags": false
 },
 "nbformat": 4,
 "nbformat_minor": 4
}
