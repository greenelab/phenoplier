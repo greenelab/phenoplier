{
 "cells": [
  {
   "cell_type": "markdown",
   "metadata": {
    "papermill": {
     "duration": 0.026057,
     "end_time": "2020-11-24T17:21:52.311430",
     "exception": false,
     "start_time": "2020-11-24T17:21:52.285373",
     "status": "completed"
    },
    "tags": []
   },
   "source": [
    "# Description"
   ]
  },
  {
   "cell_type": "markdown",
   "metadata": {
    "papermill": {
     "duration": 0.008438,
     "end_time": "2020-11-24T17:21:52.335098",
     "exception": false,
     "start_time": "2020-11-24T17:21:52.326660",
     "status": "completed"
    },
    "tags": []
   },
   "source": [
    "It projects input data into a UMAP representation."
   ]
  },
  {
   "cell_type": "markdown",
   "metadata": {
    "papermill": {
     "duration": 0.00559,
     "end_time": "2020-11-24T17:21:52.347490",
     "exception": false,
     "start_time": "2020-11-24T17:21:52.341900",
     "status": "completed"
    },
    "tags": []
   },
   "source": [
    "# Modules loading"
   ]
  },
  {
   "cell_type": "code",
   "execution_count": 1,
   "metadata": {
    "execution": {
     "iopub.execute_input": "2020-11-24T17:21:52.361651Z",
     "iopub.status.busy": "2020-11-24T17:21:52.361268Z",
     "iopub.status.idle": "2020-11-24T17:21:52.369399Z",
     "shell.execute_reply": "2020-11-24T17:21:52.368971Z"
    },
    "papermill": {
     "duration": 0.016615,
     "end_time": "2020-11-24T17:21:52.369526",
     "exception": false,
     "start_time": "2020-11-24T17:21:52.352911",
     "status": "completed"
    },
    "tags": []
   },
   "outputs": [],
   "source": [
    "%load_ext autoreload\n",
    "%autoreload 2"
   ]
  },
  {
   "cell_type": "code",
   "execution_count": 2,
   "metadata": {
    "execution": {
     "iopub.execute_input": "2020-11-24T17:21:52.383714Z",
     "iopub.status.busy": "2020-11-24T17:21:52.383336Z",
     "iopub.status.idle": "2020-11-24T17:21:53.986332Z",
     "shell.execute_reply": "2020-11-24T17:21:53.986674Z"
    },
    "papermill": {
     "duration": 1.61134,
     "end_time": "2020-11-24T17:21:53.986803",
     "exception": false,
     "start_time": "2020-11-24T17:21:52.375463",
     "status": "completed"
    },
    "tags": []
   },
   "outputs": [],
   "source": [
    "from pathlib import Path\n",
    "from IPython.display import display\n",
    "\n",
    "import pandas as pd\n",
    "import umap\n",
    "import matplotlib.pyplot as plt\n",
    "import seaborn as sns\n",
    "\n",
    "import conf\n",
    "from utils import generate_result_set_name"
   ]
  },
  {
   "cell_type": "markdown",
   "metadata": {
    "papermill": {
     "duration": 0.006032,
     "end_time": "2020-11-24T17:21:53.999581",
     "exception": false,
     "start_time": "2020-11-24T17:21:53.993549",
     "status": "completed"
    },
    "tags": []
   },
   "source": [
    "# Settings"
   ]
  },
  {
   "cell_type": "code",
   "execution_count": 3,
   "metadata": {
    "execution": {
     "iopub.execute_input": "2020-11-24T17:21:54.013560Z",
     "iopub.status.busy": "2020-11-24T17:21:54.013194Z",
     "iopub.status.idle": "2020-11-24T17:21:54.026133Z",
     "shell.execute_reply": "2020-11-24T17:21:54.025752Z"
    },
    "papermill": {
     "duration": 0.020705,
     "end_time": "2020-11-24T17:21:54.026224",
     "exception": false,
     "start_time": "2020-11-24T17:21:54.005519",
     "status": "completed"
    },
    "tags": []
   },
   "outputs": [],
   "source": [
    "INPUT_FILEPATH_STEM = 'smultixcan-efo_partial-mashr-zscores'"
   ]
  },
  {
   "cell_type": "code",
   "execution_count": 4,
   "metadata": {
    "execution": {
     "iopub.execute_input": "2020-11-24T17:21:54.040976Z",
     "iopub.status.busy": "2020-11-24T17:21:54.040572Z",
     "iopub.status.idle": "2020-11-24T17:21:54.055340Z",
     "shell.execute_reply": "2020-11-24T17:21:54.054957Z"
    },
    "papermill": {
     "duration": 0.02312,
     "end_time": "2020-11-24T17:21:54.055431",
     "exception": false,
     "start_time": "2020-11-24T17:21:54.032311",
     "status": "completed"
    },
    "tags": []
   },
   "outputs": [
    {
     "data": {
      "text/plain": [
       "PosixPath('/home/miltondp/projects/labs/greenelab/phenoplier/base/results/data_transformations/z_score_std/z_score_std-smultixcan-efo_partial-mashr-zscores.pkl')"
      ]
     },
     "metadata": {},
     "output_type": "display_data"
    },
    {
     "data": {
      "text/plain": [
       "'z_score_std-smultixcan-efo_partial-mashr-zscores'"
      ]
     },
     "metadata": {},
     "output_type": "display_data"
    }
   ],
   "source": [
    "INPUT_FILEPATH = Path(\n",
    "    conf.RESULTS[\"DATA_TRANSFORMATIONS_DIR\"],\n",
    "    'z_score_std',\n",
    "    f'z_score_std-{INPUT_FILEPATH_STEM}.pkl',\n",
    ").resolve()\n",
    "display(INPUT_FILEPATH)\n",
    "\n",
    "input_filepath_stem = INPUT_FILEPATH.stem\n",
    "display(input_filepath_stem)"
   ]
  },
  {
   "cell_type": "code",
   "execution_count": 5,
   "metadata": {
    "execution": {
     "iopub.execute_input": "2020-11-24T17:21:54.072228Z",
     "iopub.status.busy": "2020-11-24T17:21:54.071844Z",
     "iopub.status.idle": "2020-11-24T17:21:54.083690Z",
     "shell.execute_reply": "2020-11-24T17:21:54.083980Z"
    },
    "papermill": {
     "duration": 0.02085,
     "end_time": "2020-11-24T17:21:54.084093",
     "exception": false,
     "start_time": "2020-11-24T17:21:54.063243",
     "status": "completed"
    },
    "tags": []
   },
   "outputs": [],
   "source": [
    "# number of components to use in the dimensionality reduction step\n",
    "DR_OPTIONS = {\n",
    "    'n_components': [5, 10, 20, 30, 40, 50],\n",
    "    'metric': 'euclidean',\n",
    "    'n_neighbors': 15,\n",
    "    'random_state': 0,\n",
    "}"
   ]
  },
  {
   "cell_type": "code",
   "execution_count": 6,
   "metadata": {
    "execution": {
     "iopub.execute_input": "2020-11-24T17:21:54.099616Z",
     "iopub.status.busy": "2020-11-24T17:21:54.099239Z",
     "iopub.status.idle": "2020-11-24T17:21:54.111848Z",
     "shell.execute_reply": "2020-11-24T17:21:54.112151Z"
    },
    "papermill": {
     "duration": 0.021502,
     "end_time": "2020-11-24T17:21:54.112266",
     "exception": false,
     "start_time": "2020-11-24T17:21:54.090764",
     "status": "completed"
    },
    "tags": []
   },
   "outputs": [
    {
     "data": {
      "text/plain": [
       "PosixPath('/home/miltondp/projects/labs/greenelab/phenoplier/base/results/data_transformations/umap')"
      ]
     },
     "metadata": {},
     "output_type": "display_data"
    }
   ],
   "source": [
    "# output dir for this notebook\n",
    "RESULTS_DIR = Path(\n",
    "    conf.RESULTS[\"DATA_TRANSFORMATIONS_DIR\"],\n",
    "    'umap'\n",
    ").resolve()\n",
    "RESULTS_DIR.mkdir(parents=True, exist_ok=True)\n",
    "\n",
    "display(RESULTS_DIR)"
   ]
  },
  {
   "cell_type": "code",
   "execution_count": 7,
   "metadata": {
    "execution": {
     "iopub.execute_input": "2020-11-24T17:21:54.128404Z",
     "iopub.status.busy": "2020-11-24T17:21:54.128023Z",
     "iopub.status.idle": "2020-11-24T17:21:54.141091Z",
     "shell.execute_reply": "2020-11-24T17:21:54.140702Z"
    },
    "papermill": {
     "duration": 0.021907,
     "end_time": "2020-11-24T17:21:54.141181",
     "exception": false,
     "start_time": "2020-11-24T17:21:54.119274",
     "status": "completed"
    },
    "tags": []
   },
   "outputs": [
    {
     "data": {
      "text/plain": [
       "{'n_components': [5, 10, 20, 30, 40, 50],\n",
       " 'metric': 'euclidean',\n",
       " 'n_neighbors': 15,\n",
       " 'random_state': 0}"
      ]
     },
     "metadata": {},
     "output_type": "display_data"
    }
   ],
   "source": [
    "# dictionary containing all options/settings (used to generate filenames)\n",
    "ALL_OPTIONS = DR_OPTIONS.copy()\n",
    "# ALL_OPTIONS['proj_percentile'] = PERCENTILE_NAME\n",
    "\n",
    "display(ALL_OPTIONS)"
   ]
  },
  {
   "cell_type": "markdown",
   "metadata": {
    "papermill": {
     "duration": 0.00705,
     "end_time": "2020-11-24T17:21:54.155441",
     "exception": false,
     "start_time": "2020-11-24T17:21:54.148391",
     "status": "completed"
    },
    "tags": []
   },
   "source": [
    "# Load input file"
   ]
  },
  {
   "cell_type": "code",
   "execution_count": 8,
   "metadata": {
    "execution": {
     "iopub.execute_input": "2020-11-24T17:21:54.171923Z",
     "iopub.status.busy": "2020-11-24T17:21:54.171564Z",
     "iopub.status.idle": "2020-11-24T17:21:54.253517Z",
     "shell.execute_reply": "2020-11-24T17:21:54.253133Z"
    },
    "papermill": {
     "duration": 0.091046,
     "end_time": "2020-11-24T17:21:54.253618",
     "exception": false,
     "start_time": "2020-11-24T17:21:54.162572",
     "status": "completed"
    },
    "tags": []
   },
   "outputs": [],
   "source": [
    "data = pd.read_pickle(INPUT_FILEPATH)"
   ]
  },
  {
   "cell_type": "code",
   "execution_count": 9,
   "metadata": {
    "execution": {
     "iopub.execute_input": "2020-11-24T17:21:54.271450Z",
     "iopub.status.busy": "2020-11-24T17:21:54.271062Z",
     "iopub.status.idle": "2020-11-24T17:21:54.284449Z",
     "shell.execute_reply": "2020-11-24T17:21:54.284089Z"
    },
    "papermill": {
     "duration": 0.022913,
     "end_time": "2020-11-24T17:21:54.284542",
     "exception": false,
     "start_time": "2020-11-24T17:21:54.261629",
     "status": "completed"
    },
    "tags": []
   },
   "outputs": [
    {
     "data": {
      "text/plain": [
       "(3749, 6452)"
      ]
     },
     "execution_count": 9,
     "metadata": {},
     "output_type": "execute_result"
    }
   ],
   "source": [
    "data.shape"
   ]
  },
  {
   "cell_type": "code",
   "execution_count": 10,
   "metadata": {
    "execution": {
     "iopub.execute_input": "2020-11-24T17:21:54.302373Z",
     "iopub.status.busy": "2020-11-24T17:21:54.301980Z",
     "iopub.status.idle": "2020-11-24T17:21:54.329067Z",
     "shell.execute_reply": "2020-11-24T17:21:54.328684Z"
    },
    "papermill": {
     "duration": 0.036785,
     "end_time": "2020-11-24T17:21:54.329153",
     "exception": false,
     "start_time": "2020-11-24T17:21:54.292368",
     "status": "completed"
    },
    "tags": []
   },
   "outputs": [
    {
     "data": {
      "text/html": [
       "<div>\n",
       "<style scoped>\n",
       "    .dataframe tbody tr th:only-of-type {\n",
       "        vertical-align: middle;\n",
       "    }\n",
       "\n",
       "    .dataframe tbody tr th {\n",
       "        vertical-align: top;\n",
       "    }\n",
       "\n",
       "    .dataframe thead th {\n",
       "        text-align: right;\n",
       "    }\n",
       "</style>\n",
       "<table border=\"1\" class=\"dataframe\">\n",
       "  <thead>\n",
       "    <tr style=\"text-align: right;\">\n",
       "      <th>gene_name</th>\n",
       "      <th>ENSG00000183087</th>\n",
       "      <th>ENSG00000157227</th>\n",
       "      <th>ENSG00000096696</th>\n",
       "      <th>ENSG00000175130</th>\n",
       "      <th>ENSG00000113140</th>\n",
       "      <th>ENSG00000117984</th>\n",
       "      <th>ENSG00000116016</th>\n",
       "      <th>ENSG00000129116</th>\n",
       "      <th>ENSG00000134686</th>\n",
       "      <th>ENSG00000108679</th>\n",
       "      <th>...</th>\n",
       "      <th>ENSG00000111716</th>\n",
       "      <th>ENSG00000166796</th>\n",
       "      <th>ENSG00000114331</th>\n",
       "      <th>ENSG00000131584</th>\n",
       "      <th>ENSG00000165410</th>\n",
       "      <th>ENSG00000172757</th>\n",
       "      <th>ENSG00000147862</th>\n",
       "      <th>ENSG00000008323</th>\n",
       "      <th>ENSG00000167083</th>\n",
       "      <th>ENSG00000149257</th>\n",
       "    </tr>\n",
       "  </thead>\n",
       "  <tbody>\n",
       "    <tr>\n",
       "      <th>100001_raw-Food_weight</th>\n",
       "      <td>0.834672</td>\n",
       "      <td>-0.969366</td>\n",
       "      <td>-0.788966</td>\n",
       "      <td>-1.236243</td>\n",
       "      <td>-1.192910</td>\n",
       "      <td>-0.859681</td>\n",
       "      <td>-0.324518</td>\n",
       "      <td>0.880799</td>\n",
       "      <td>-0.152357</td>\n",
       "      <td>-1.109631</td>\n",
       "      <td>...</td>\n",
       "      <td>-0.847934</td>\n",
       "      <td>-1.246339</td>\n",
       "      <td>-1.225673</td>\n",
       "      <td>-0.270551</td>\n",
       "      <td>-0.251339</td>\n",
       "      <td>-0.348636</td>\n",
       "      <td>-0.283083</td>\n",
       "      <td>0.541040</td>\n",
       "      <td>0.412878</td>\n",
       "      <td>0.212180</td>\n",
       "    </tr>\n",
       "    <tr>\n",
       "      <th>100002_raw-Energy</th>\n",
       "      <td>-0.893351</td>\n",
       "      <td>-0.906648</td>\n",
       "      <td>-1.108427</td>\n",
       "      <td>-0.633443</td>\n",
       "      <td>-1.257057</td>\n",
       "      <td>-0.975325</td>\n",
       "      <td>0.100801</td>\n",
       "      <td>-0.814622</td>\n",
       "      <td>0.993700</td>\n",
       "      <td>0.709155</td>\n",
       "      <td>...</td>\n",
       "      <td>1.039015</td>\n",
       "      <td>-0.097355</td>\n",
       "      <td>0.613387</td>\n",
       "      <td>1.297104</td>\n",
       "      <td>-0.646984</td>\n",
       "      <td>-0.642464</td>\n",
       "      <td>0.254638</td>\n",
       "      <td>-0.235577</td>\n",
       "      <td>0.390156</td>\n",
       "      <td>0.875050</td>\n",
       "    </tr>\n",
       "    <tr>\n",
       "      <th>100003_raw-Protein</th>\n",
       "      <td>0.724878</td>\n",
       "      <td>0.367317</td>\n",
       "      <td>-1.100323</td>\n",
       "      <td>-1.304925</td>\n",
       "      <td>-0.735474</td>\n",
       "      <td>-1.178054</td>\n",
       "      <td>0.002718</td>\n",
       "      <td>-0.151997</td>\n",
       "      <td>0.730952</td>\n",
       "      <td>0.949561</td>\n",
       "      <td>...</td>\n",
       "      <td>0.668253</td>\n",
       "      <td>0.381954</td>\n",
       "      <td>0.883388</td>\n",
       "      <td>0.028914</td>\n",
       "      <td>-1.262583</td>\n",
       "      <td>-0.547308</td>\n",
       "      <td>-0.369882</td>\n",
       "      <td>0.725386</td>\n",
       "      <td>0.969339</td>\n",
       "      <td>0.582554</td>\n",
       "    </tr>\n",
       "    <tr>\n",
       "      <th>100004_raw-Fat</th>\n",
       "      <td>-0.273941</td>\n",
       "      <td>-1.113389</td>\n",
       "      <td>-1.176575</td>\n",
       "      <td>-0.461884</td>\n",
       "      <td>-0.947444</td>\n",
       "      <td>-0.213364</td>\n",
       "      <td>-0.169319</td>\n",
       "      <td>-1.092854</td>\n",
       "      <td>0.752200</td>\n",
       "      <td>1.207424</td>\n",
       "      <td>...</td>\n",
       "      <td>0.724525</td>\n",
       "      <td>-0.569374</td>\n",
       "      <td>0.590451</td>\n",
       "      <td>1.656459</td>\n",
       "      <td>-0.081229</td>\n",
       "      <td>-0.290437</td>\n",
       "      <td>0.928900</td>\n",
       "      <td>-0.661822</td>\n",
       "      <td>0.709848</td>\n",
       "      <td>0.600761</td>\n",
       "    </tr>\n",
       "    <tr>\n",
       "      <th>100005_raw-Carbohydrate</th>\n",
       "      <td>-0.925286</td>\n",
       "      <td>-0.186918</td>\n",
       "      <td>-0.488066</td>\n",
       "      <td>-0.682023</td>\n",
       "      <td>-0.746643</td>\n",
       "      <td>-0.262771</td>\n",
       "      <td>-0.261208</td>\n",
       "      <td>-0.513372</td>\n",
       "      <td>0.385347</td>\n",
       "      <td>-0.681057</td>\n",
       "      <td>...</td>\n",
       "      <td>0.692922</td>\n",
       "      <td>-0.029716</td>\n",
       "      <td>0.655211</td>\n",
       "      <td>1.326645</td>\n",
       "      <td>-0.897059</td>\n",
       "      <td>-0.569916</td>\n",
       "      <td>1.393707</td>\n",
       "      <td>-0.189605</td>\n",
       "      <td>-0.369507</td>\n",
       "      <td>0.257153</td>\n",
       "    </tr>\n",
       "  </tbody>\n",
       "</table>\n",
       "<p>5 rows × 6452 columns</p>\n",
       "</div>"
      ],
      "text/plain": [
       "gene_name                ENSG00000183087  ENSG00000157227  ENSG00000096696  \\\n",
       "100001_raw-Food_weight          0.834672        -0.969366        -0.788966   \n",
       "100002_raw-Energy              -0.893351        -0.906648        -1.108427   \n",
       "100003_raw-Protein              0.724878         0.367317        -1.100323   \n",
       "100004_raw-Fat                 -0.273941        -1.113389        -1.176575   \n",
       "100005_raw-Carbohydrate        -0.925286        -0.186918        -0.488066   \n",
       "\n",
       "gene_name                ENSG00000175130  ENSG00000113140  ENSG00000117984  \\\n",
       "100001_raw-Food_weight         -1.236243        -1.192910        -0.859681   \n",
       "100002_raw-Energy              -0.633443        -1.257057        -0.975325   \n",
       "100003_raw-Protein             -1.304925        -0.735474        -1.178054   \n",
       "100004_raw-Fat                 -0.461884        -0.947444        -0.213364   \n",
       "100005_raw-Carbohydrate        -0.682023        -0.746643        -0.262771   \n",
       "\n",
       "gene_name                ENSG00000116016  ENSG00000129116  ENSG00000134686  \\\n",
       "100001_raw-Food_weight         -0.324518         0.880799        -0.152357   \n",
       "100002_raw-Energy               0.100801        -0.814622         0.993700   \n",
       "100003_raw-Protein              0.002718        -0.151997         0.730952   \n",
       "100004_raw-Fat                 -0.169319        -1.092854         0.752200   \n",
       "100005_raw-Carbohydrate        -0.261208        -0.513372         0.385347   \n",
       "\n",
       "gene_name                ENSG00000108679  ...  ENSG00000111716  \\\n",
       "100001_raw-Food_weight         -1.109631  ...        -0.847934   \n",
       "100002_raw-Energy               0.709155  ...         1.039015   \n",
       "100003_raw-Protein              0.949561  ...         0.668253   \n",
       "100004_raw-Fat                  1.207424  ...         0.724525   \n",
       "100005_raw-Carbohydrate        -0.681057  ...         0.692922   \n",
       "\n",
       "gene_name                ENSG00000166796  ENSG00000114331  ENSG00000131584  \\\n",
       "100001_raw-Food_weight         -1.246339        -1.225673        -0.270551   \n",
       "100002_raw-Energy              -0.097355         0.613387         1.297104   \n",
       "100003_raw-Protein              0.381954         0.883388         0.028914   \n",
       "100004_raw-Fat                 -0.569374         0.590451         1.656459   \n",
       "100005_raw-Carbohydrate        -0.029716         0.655211         1.326645   \n",
       "\n",
       "gene_name                ENSG00000165410  ENSG00000172757  ENSG00000147862  \\\n",
       "100001_raw-Food_weight         -0.251339        -0.348636        -0.283083   \n",
       "100002_raw-Energy              -0.646984        -0.642464         0.254638   \n",
       "100003_raw-Protein             -1.262583        -0.547308        -0.369882   \n",
       "100004_raw-Fat                 -0.081229        -0.290437         0.928900   \n",
       "100005_raw-Carbohydrate        -0.897059        -0.569916         1.393707   \n",
       "\n",
       "gene_name                ENSG00000008323  ENSG00000167083  ENSG00000149257  \n",
       "100001_raw-Food_weight          0.541040         0.412878         0.212180  \n",
       "100002_raw-Energy              -0.235577         0.390156         0.875050  \n",
       "100003_raw-Protein              0.725386         0.969339         0.582554  \n",
       "100004_raw-Fat                 -0.661822         0.709848         0.600761  \n",
       "100005_raw-Carbohydrate        -0.189605        -0.369507         0.257153  \n",
       "\n",
       "[5 rows x 6452 columns]"
      ]
     },
     "execution_count": 10,
     "metadata": {},
     "output_type": "execute_result"
    }
   ],
   "source": [
    "data.head()"
   ]
  },
  {
   "cell_type": "markdown",
   "metadata": {
    "papermill": {
     "duration": 0.007399,
     "end_time": "2020-11-24T17:21:54.344288",
     "exception": false,
     "start_time": "2020-11-24T17:21:54.336889",
     "status": "completed"
    },
    "tags": []
   },
   "source": [
    "# UMAP"
   ]
  },
  {
   "cell_type": "code",
   "execution_count": 11,
   "metadata": {
    "execution": {
     "iopub.execute_input": "2020-11-24T17:21:54.362657Z",
     "iopub.status.busy": "2020-11-24T17:21:54.362289Z",
     "iopub.status.idle": "2020-11-24T17:21:54.373908Z",
     "shell.execute_reply": "2020-11-24T17:21:54.374213Z"
    },
    "papermill": {
     "duration": 0.022547,
     "end_time": "2020-11-24T17:21:54.374321",
     "exception": false,
     "start_time": "2020-11-24T17:21:54.351774",
     "status": "completed"
    },
    "tags": []
   },
   "outputs": [],
   "source": [
    "def get_umap_proj(orig_data, options):\n",
    "    umap_options = {k:v for k, v in options.items() if k in DR_OPTIONS}\n",
    "    display(f'UMAP options: {umap_options}')\n",
    "    umap_obj = umap.UMAP(**umap_options)\n",
    "    umap_obj = umap_obj.fit(orig_data)\n",
    "    umap_data = umap_obj.transform(orig_data)\n",
    "    return pd.DataFrame(\n",
    "        data=umap_data,\n",
    "        index=orig_data.index.copy(),\n",
    "        columns=[f'UMAP{i+1}' for i in range(umap_data.shape[1])]\n",
    "    )"
   ]
  },
  {
   "cell_type": "code",
   "execution_count": 12,
   "metadata": {
    "execution": {
     "iopub.execute_input": "2020-11-24T17:21:54.393674Z",
     "iopub.status.busy": "2020-11-24T17:21:54.393275Z",
     "iopub.status.idle": "2020-11-24T17:25:14.899585Z",
     "shell.execute_reply": "2020-11-24T17:25:14.899863Z"
    },
    "papermill": {
     "duration": 200.517647,
     "end_time": "2020-11-24T17:25:14.899973",
     "exception": false,
     "start_time": "2020-11-24T17:21:54.382326",
     "status": "completed"
    },
    "tags": []
   },
   "outputs": [
    {
     "name": "stdout",
     "output_type": "stream",
     "text": [
      "# components: 5\n"
     ]
    },
    {
     "data": {
      "text/plain": [
       "\"UMAP options: {'n_components': 5, 'metric': 'euclidean', 'n_neighbors': 15, 'random_state': 0}\""
      ]
     },
     "metadata": {},
     "output_type": "display_data"
    },
    {
     "data": {
      "text/plain": [
       "(3749, 5)"
      ]
     },
     "metadata": {},
     "output_type": "display_data"
    },
    {
     "data": {
      "text/html": [
       "<div>\n",
       "<style scoped>\n",
       "    .dataframe tbody tr th:only-of-type {\n",
       "        vertical-align: middle;\n",
       "    }\n",
       "\n",
       "    .dataframe tbody tr th {\n",
       "        vertical-align: top;\n",
       "    }\n",
       "\n",
       "    .dataframe thead th {\n",
       "        text-align: right;\n",
       "    }\n",
       "</style>\n",
       "<table border=\"1\" class=\"dataframe\">\n",
       "  <thead>\n",
       "    <tr style=\"text-align: right;\">\n",
       "      <th></th>\n",
       "      <th>UMAP1</th>\n",
       "      <th>UMAP2</th>\n",
       "      <th>UMAP3</th>\n",
       "      <th>UMAP4</th>\n",
       "      <th>UMAP5</th>\n",
       "    </tr>\n",
       "  </thead>\n",
       "  <tbody>\n",
       "    <tr>\n",
       "      <th>count</th>\n",
       "      <td>3749.000000</td>\n",
       "      <td>3749.000000</td>\n",
       "      <td>3749.000000</td>\n",
       "      <td>3749.000000</td>\n",
       "      <td>3749.000000</td>\n",
       "    </tr>\n",
       "    <tr>\n",
       "      <th>mean</th>\n",
       "      <td>9.543938</td>\n",
       "      <td>10.165720</td>\n",
       "      <td>9.601528</td>\n",
       "      <td>11.654917</td>\n",
       "      <td>10.149116</td>\n",
       "    </tr>\n",
       "    <tr>\n",
       "      <th>std</th>\n",
       "      <td>0.826214</td>\n",
       "      <td>0.694550</td>\n",
       "      <td>0.751955</td>\n",
       "      <td>1.428988</td>\n",
       "      <td>1.051570</td>\n",
       "    </tr>\n",
       "    <tr>\n",
       "      <th>min</th>\n",
       "      <td>3.332259</td>\n",
       "      <td>-0.163783</td>\n",
       "      <td>7.697813</td>\n",
       "      <td>3.638116</td>\n",
       "      <td>2.022543</td>\n",
       "    </tr>\n",
       "    <tr>\n",
       "      <th>25%</th>\n",
       "      <td>9.243148</td>\n",
       "      <td>9.866829</td>\n",
       "      <td>9.157655</td>\n",
       "      <td>11.503939</td>\n",
       "      <td>9.784466</td>\n",
       "    </tr>\n",
       "    <tr>\n",
       "      <th>50%</th>\n",
       "      <td>9.561017</td>\n",
       "      <td>10.161626</td>\n",
       "      <td>9.663405</td>\n",
       "      <td>12.009958</td>\n",
       "      <td>10.300212</td>\n",
       "    </tr>\n",
       "    <tr>\n",
       "      <th>75%</th>\n",
       "      <td>9.975659</td>\n",
       "      <td>10.535581</td>\n",
       "      <td>10.080146</td>\n",
       "      <td>12.449842</td>\n",
       "      <td>10.727874</td>\n",
       "    </tr>\n",
       "    <tr>\n",
       "      <th>max</th>\n",
       "      <td>11.436440</td>\n",
       "      <td>11.680159</td>\n",
       "      <td>12.149063</td>\n",
       "      <td>13.714686</td>\n",
       "      <td>12.997172</td>\n",
       "    </tr>\n",
       "  </tbody>\n",
       "</table>\n",
       "</div>"
      ],
      "text/plain": [
       "             UMAP1        UMAP2        UMAP3        UMAP4        UMAP5\n",
       "count  3749.000000  3749.000000  3749.000000  3749.000000  3749.000000\n",
       "mean      9.543938    10.165720     9.601528    11.654917    10.149116\n",
       "std       0.826214     0.694550     0.751955     1.428988     1.051570\n",
       "min       3.332259    -0.163783     7.697813     3.638116     2.022543\n",
       "25%       9.243148     9.866829     9.157655    11.503939     9.784466\n",
       "50%       9.561017    10.161626     9.663405    12.009958    10.300212\n",
       "75%       9.975659    10.535581    10.080146    12.449842    10.727874\n",
       "max      11.436440    11.680159    12.149063    13.714686    12.997172"
      ]
     },
     "metadata": {},
     "output_type": "display_data"
    },
    {
     "data": {
      "text/plain": [
       "PosixPath('/home/miltondp/projects/labs/greenelab/phenoplier/base/results/data_transformations/umap/umap-z_score_std-smultixcan-efo_partial-mashr-zscores-metric_euclidean-n_components_5-n_neighbors_15-random_state_0.pkl')"
      ]
     },
     "metadata": {},
     "output_type": "display_data"
    },
    {
     "name": "stdout",
     "output_type": "stream",
     "text": [
      "\n",
      "\n",
      "# components: 10\n"
     ]
    },
    {
     "data": {
      "text/plain": [
       "\"UMAP options: {'n_components': 10, 'metric': 'euclidean', 'n_neighbors': 15, 'random_state': 0}\""
      ]
     },
     "metadata": {},
     "output_type": "display_data"
    },
    {
     "data": {
      "text/plain": [
       "(3749, 10)"
      ]
     },
     "metadata": {},
     "output_type": "display_data"
    },
    {
     "data": {
      "text/html": [
       "<div>\n",
       "<style scoped>\n",
       "    .dataframe tbody tr th:only-of-type {\n",
       "        vertical-align: middle;\n",
       "    }\n",
       "\n",
       "    .dataframe tbody tr th {\n",
       "        vertical-align: top;\n",
       "    }\n",
       "\n",
       "    .dataframe thead th {\n",
       "        text-align: right;\n",
       "    }\n",
       "</style>\n",
       "<table border=\"1\" class=\"dataframe\">\n",
       "  <thead>\n",
       "    <tr style=\"text-align: right;\">\n",
       "      <th></th>\n",
       "      <th>UMAP1</th>\n",
       "      <th>UMAP2</th>\n",
       "      <th>UMAP3</th>\n",
       "      <th>UMAP4</th>\n",
       "      <th>UMAP5</th>\n",
       "    </tr>\n",
       "  </thead>\n",
       "  <tbody>\n",
       "    <tr>\n",
       "      <th>count</th>\n",
       "      <td>3749.000000</td>\n",
       "      <td>3749.000000</td>\n",
       "      <td>3749.000000</td>\n",
       "      <td>3749.000000</td>\n",
       "      <td>3749.000000</td>\n",
       "    </tr>\n",
       "    <tr>\n",
       "      <th>mean</th>\n",
       "      <td>10.055091</td>\n",
       "      <td>9.345581</td>\n",
       "      <td>1.972606</td>\n",
       "      <td>-0.810811</td>\n",
       "      <td>7.834863</td>\n",
       "    </tr>\n",
       "    <tr>\n",
       "      <th>std</th>\n",
       "      <td>0.759268</td>\n",
       "      <td>0.685186</td>\n",
       "      <td>0.393612</td>\n",
       "      <td>1.094040</td>\n",
       "      <td>0.664199</td>\n",
       "    </tr>\n",
       "    <tr>\n",
       "      <th>min</th>\n",
       "      <td>3.380350</td>\n",
       "      <td>-1.548761</td>\n",
       "      <td>0.423826</td>\n",
       "      <td>-2.543923</td>\n",
       "      <td>3.816696</td>\n",
       "    </tr>\n",
       "    <tr>\n",
       "      <th>25%</th>\n",
       "      <td>9.908750</td>\n",
       "      <td>9.031590</td>\n",
       "      <td>1.687950</td>\n",
       "      <td>-1.356854</td>\n",
       "      <td>7.586656</td>\n",
       "    </tr>\n",
       "    <tr>\n",
       "      <th>50%</th>\n",
       "      <td>10.132289</td>\n",
       "      <td>9.320099</td>\n",
       "      <td>1.986853</td>\n",
       "      <td>-1.059108</td>\n",
       "      <td>7.969265</td>\n",
       "    </tr>\n",
       "    <tr>\n",
       "      <th>75%</th>\n",
       "      <td>10.343075</td>\n",
       "      <td>9.655686</td>\n",
       "      <td>2.255163</td>\n",
       "      <td>-0.661593</td>\n",
       "      <td>8.226859</td>\n",
       "    </tr>\n",
       "    <tr>\n",
       "      <th>max</th>\n",
       "      <td>11.093286</td>\n",
       "      <td>11.379278</td>\n",
       "      <td>3.222786</td>\n",
       "      <td>6.470329</td>\n",
       "      <td>8.994748</td>\n",
       "    </tr>\n",
       "  </tbody>\n",
       "</table>\n",
       "</div>"
      ],
      "text/plain": [
       "             UMAP1        UMAP2        UMAP3        UMAP4        UMAP5\n",
       "count  3749.000000  3749.000000  3749.000000  3749.000000  3749.000000\n",
       "mean     10.055091     9.345581     1.972606    -0.810811     7.834863\n",
       "std       0.759268     0.685186     0.393612     1.094040     0.664199\n",
       "min       3.380350    -1.548761     0.423826    -2.543923     3.816696\n",
       "25%       9.908750     9.031590     1.687950    -1.356854     7.586656\n",
       "50%      10.132289     9.320099     1.986853    -1.059108     7.969265\n",
       "75%      10.343075     9.655686     2.255163    -0.661593     8.226859\n",
       "max      11.093286    11.379278     3.222786     6.470329     8.994748"
      ]
     },
     "metadata": {},
     "output_type": "display_data"
    },
    {
     "data": {
      "text/plain": [
       "PosixPath('/home/miltondp/projects/labs/greenelab/phenoplier/base/results/data_transformations/umap/umap-z_score_std-smultixcan-efo_partial-mashr-zscores-metric_euclidean-n_components_10-n_neighbors_15-random_state_0.pkl')"
      ]
     },
     "metadata": {},
     "output_type": "display_data"
    },
    {
     "name": "stdout",
     "output_type": "stream",
     "text": [
      "\n",
      "\n",
      "# components: 20\n"
     ]
    },
    {
     "data": {
      "text/plain": [
       "\"UMAP options: {'n_components': 20, 'metric': 'euclidean', 'n_neighbors': 15, 'random_state': 0}\""
      ]
     },
     "metadata": {},
     "output_type": "display_data"
    },
    {
     "data": {
      "text/plain": [
       "(3749, 20)"
      ]
     },
     "metadata": {},
     "output_type": "display_data"
    },
    {
     "data": {
      "text/html": [
       "<div>\n",
       "<style scoped>\n",
       "    .dataframe tbody tr th:only-of-type {\n",
       "        vertical-align: middle;\n",
       "    }\n",
       "\n",
       "    .dataframe tbody tr th {\n",
       "        vertical-align: top;\n",
       "    }\n",
       "\n",
       "    .dataframe thead th {\n",
       "        text-align: right;\n",
       "    }\n",
       "</style>\n",
       "<table border=\"1\" class=\"dataframe\">\n",
       "  <thead>\n",
       "    <tr style=\"text-align: right;\">\n",
       "      <th></th>\n",
       "      <th>UMAP1</th>\n",
       "      <th>UMAP2</th>\n",
       "      <th>UMAP3</th>\n",
       "      <th>UMAP4</th>\n",
       "      <th>UMAP5</th>\n",
       "    </tr>\n",
       "  </thead>\n",
       "  <tbody>\n",
       "    <tr>\n",
       "      <th>count</th>\n",
       "      <td>3749.000000</td>\n",
       "      <td>3749.000000</td>\n",
       "      <td>3749.000000</td>\n",
       "      <td>3749.000000</td>\n",
       "      <td>3749.000000</td>\n",
       "    </tr>\n",
       "    <tr>\n",
       "      <th>mean</th>\n",
       "      <td>12.019559</td>\n",
       "      <td>8.970558</td>\n",
       "      <td>10.794836</td>\n",
       "      <td>9.053912</td>\n",
       "      <td>7.513159</td>\n",
       "    </tr>\n",
       "    <tr>\n",
       "      <th>std</th>\n",
       "      <td>1.021337</td>\n",
       "      <td>0.501000</td>\n",
       "      <td>0.418081</td>\n",
       "      <td>0.694764</td>\n",
       "      <td>0.545597</td>\n",
       "    </tr>\n",
       "    <tr>\n",
       "      <th>min</th>\n",
       "      <td>4.233697</td>\n",
       "      <td>0.318696</td>\n",
       "      <td>8.705801</td>\n",
       "      <td>4.026264</td>\n",
       "      <td>3.586336</td>\n",
       "    </tr>\n",
       "    <tr>\n",
       "      <th>25%</th>\n",
       "      <td>12.063798</td>\n",
       "      <td>8.796188</td>\n",
       "      <td>10.629162</td>\n",
       "      <td>8.908910</td>\n",
       "      <td>7.370019</td>\n",
       "    </tr>\n",
       "    <tr>\n",
       "      <th>50%</th>\n",
       "      <td>12.291521</td>\n",
       "      <td>8.970154</td>\n",
       "      <td>10.872267</td>\n",
       "      <td>9.154427</td>\n",
       "      <td>7.598104</td>\n",
       "    </tr>\n",
       "    <tr>\n",
       "      <th>75%</th>\n",
       "      <td>12.469970</td>\n",
       "      <td>9.191380</td>\n",
       "      <td>11.071811</td>\n",
       "      <td>9.390047</td>\n",
       "      <td>7.792161</td>\n",
       "    </tr>\n",
       "    <tr>\n",
       "      <th>max</th>\n",
       "      <td>13.153984</td>\n",
       "      <td>9.990442</td>\n",
       "      <td>11.732347</td>\n",
       "      <td>10.035084</td>\n",
       "      <td>8.466881</td>\n",
       "    </tr>\n",
       "  </tbody>\n",
       "</table>\n",
       "</div>"
      ],
      "text/plain": [
       "             UMAP1        UMAP2        UMAP3        UMAP4        UMAP5\n",
       "count  3749.000000  3749.000000  3749.000000  3749.000000  3749.000000\n",
       "mean     12.019559     8.970558    10.794836     9.053912     7.513159\n",
       "std       1.021337     0.501000     0.418081     0.694764     0.545597\n",
       "min       4.233697     0.318696     8.705801     4.026264     3.586336\n",
       "25%      12.063798     8.796188    10.629162     8.908910     7.370019\n",
       "50%      12.291521     8.970154    10.872267     9.154427     7.598104\n",
       "75%      12.469970     9.191380    11.071811     9.390047     7.792161\n",
       "max      13.153984     9.990442    11.732347    10.035084     8.466881"
      ]
     },
     "metadata": {},
     "output_type": "display_data"
    },
    {
     "data": {
      "text/plain": [
       "PosixPath('/home/miltondp/projects/labs/greenelab/phenoplier/base/results/data_transformations/umap/umap-z_score_std-smultixcan-efo_partial-mashr-zscores-metric_euclidean-n_components_20-n_neighbors_15-random_state_0.pkl')"
      ]
     },
     "metadata": {},
     "output_type": "display_data"
    },
    {
     "name": "stdout",
     "output_type": "stream",
     "text": [
      "\n",
      "\n",
      "# components: 30\n"
     ]
    },
    {
     "data": {
      "text/plain": [
       "\"UMAP options: {'n_components': 30, 'metric': 'euclidean', 'n_neighbors': 15, 'random_state': 0}\""
      ]
     },
     "metadata": {},
     "output_type": "display_data"
    },
    {
     "data": {
      "text/plain": [
       "(3749, 30)"
      ]
     },
     "metadata": {},
     "output_type": "display_data"
    },
    {
     "data": {
      "text/html": [
       "<div>\n",
       "<style scoped>\n",
       "    .dataframe tbody tr th:only-of-type {\n",
       "        vertical-align: middle;\n",
       "    }\n",
       "\n",
       "    .dataframe tbody tr th {\n",
       "        vertical-align: top;\n",
       "    }\n",
       "\n",
       "    .dataframe thead th {\n",
       "        text-align: right;\n",
       "    }\n",
       "</style>\n",
       "<table border=\"1\" class=\"dataframe\">\n",
       "  <thead>\n",
       "    <tr style=\"text-align: right;\">\n",
       "      <th></th>\n",
       "      <th>UMAP1</th>\n",
       "      <th>UMAP2</th>\n",
       "      <th>UMAP3</th>\n",
       "      <th>UMAP4</th>\n",
       "      <th>UMAP5</th>\n",
       "    </tr>\n",
       "  </thead>\n",
       "  <tbody>\n",
       "    <tr>\n",
       "      <th>count</th>\n",
       "      <td>3749.000000</td>\n",
       "      <td>3749.000000</td>\n",
       "      <td>3749.000000</td>\n",
       "      <td>3749.000000</td>\n",
       "      <td>3749.000000</td>\n",
       "    </tr>\n",
       "    <tr>\n",
       "      <th>mean</th>\n",
       "      <td>11.545959</td>\n",
       "      <td>10.843590</td>\n",
       "      <td>12.209373</td>\n",
       "      <td>9.651301</td>\n",
       "      <td>6.104931</td>\n",
       "    </tr>\n",
       "    <tr>\n",
       "      <th>std</th>\n",
       "      <td>1.023025</td>\n",
       "      <td>0.649284</td>\n",
       "      <td>0.502069</td>\n",
       "      <td>0.761134</td>\n",
       "      <td>0.265185</td>\n",
       "    </tr>\n",
       "    <tr>\n",
       "      <th>min</th>\n",
       "      <td>2.865891</td>\n",
       "      <td>-1.496077</td>\n",
       "      <td>8.970568</td>\n",
       "      <td>4.550162</td>\n",
       "      <td>4.628211</td>\n",
       "    </tr>\n",
       "    <tr>\n",
       "      <th>25%</th>\n",
       "      <td>11.548882</td>\n",
       "      <td>10.715927</td>\n",
       "      <td>12.083010</td>\n",
       "      <td>9.622404</td>\n",
       "      <td>5.966662</td>\n",
       "    </tr>\n",
       "    <tr>\n",
       "      <th>50%</th>\n",
       "      <td>11.773587</td>\n",
       "      <td>10.914841</td>\n",
       "      <td>12.273912</td>\n",
       "      <td>9.884900</td>\n",
       "      <td>6.130260</td>\n",
       "    </tr>\n",
       "    <tr>\n",
       "      <th>75%</th>\n",
       "      <td>11.946756</td>\n",
       "      <td>11.082951</td>\n",
       "      <td>12.453206</td>\n",
       "      <td>10.036870</td>\n",
       "      <td>6.274264</td>\n",
       "    </tr>\n",
       "    <tr>\n",
       "      <th>max</th>\n",
       "      <td>12.797460</td>\n",
       "      <td>11.672678</td>\n",
       "      <td>13.643174</td>\n",
       "      <td>10.597328</td>\n",
       "      <td>6.692077</td>\n",
       "    </tr>\n",
       "  </tbody>\n",
       "</table>\n",
       "</div>"
      ],
      "text/plain": [
       "             UMAP1        UMAP2        UMAP3        UMAP4        UMAP5\n",
       "count  3749.000000  3749.000000  3749.000000  3749.000000  3749.000000\n",
       "mean     11.545959    10.843590    12.209373     9.651301     6.104931\n",
       "std       1.023025     0.649284     0.502069     0.761134     0.265185\n",
       "min       2.865891    -1.496077     8.970568     4.550162     4.628211\n",
       "25%      11.548882    10.715927    12.083010     9.622404     5.966662\n",
       "50%      11.773587    10.914841    12.273912     9.884900     6.130260\n",
       "75%      11.946756    11.082951    12.453206    10.036870     6.274264\n",
       "max      12.797460    11.672678    13.643174    10.597328     6.692077"
      ]
     },
     "metadata": {},
     "output_type": "display_data"
    },
    {
     "data": {
      "text/plain": [
       "PosixPath('/home/miltondp/projects/labs/greenelab/phenoplier/base/results/data_transformations/umap/umap-z_score_std-smultixcan-efo_partial-mashr-zscores-metric_euclidean-n_components_30-n_neighbors_15-random_state_0.pkl')"
      ]
     },
     "metadata": {},
     "output_type": "display_data"
    },
    {
     "name": "stdout",
     "output_type": "stream",
     "text": [
      "\n",
      "\n",
      "# components: 40\n"
     ]
    },
    {
     "data": {
      "text/plain": [
       "\"UMAP options: {'n_components': 40, 'metric': 'euclidean', 'n_neighbors': 15, 'random_state': 0}\""
      ]
     },
     "metadata": {},
     "output_type": "display_data"
    },
    {
     "data": {
      "text/plain": [
       "(3749, 40)"
      ]
     },
     "metadata": {},
     "output_type": "display_data"
    },
    {
     "data": {
      "text/html": [
       "<div>\n",
       "<style scoped>\n",
       "    .dataframe tbody tr th:only-of-type {\n",
       "        vertical-align: middle;\n",
       "    }\n",
       "\n",
       "    .dataframe tbody tr th {\n",
       "        vertical-align: top;\n",
       "    }\n",
       "\n",
       "    .dataframe thead th {\n",
       "        text-align: right;\n",
       "    }\n",
       "</style>\n",
       "<table border=\"1\" class=\"dataframe\">\n",
       "  <thead>\n",
       "    <tr style=\"text-align: right;\">\n",
       "      <th></th>\n",
       "      <th>UMAP1</th>\n",
       "      <th>UMAP2</th>\n",
       "      <th>UMAP3</th>\n",
       "      <th>UMAP4</th>\n",
       "      <th>UMAP5</th>\n",
       "    </tr>\n",
       "  </thead>\n",
       "  <tbody>\n",
       "    <tr>\n",
       "      <th>count</th>\n",
       "      <td>3749.000000</td>\n",
       "      <td>3749.000000</td>\n",
       "      <td>3749.000000</td>\n",
       "      <td>3749.000000</td>\n",
       "      <td>3749.000000</td>\n",
       "    </tr>\n",
       "    <tr>\n",
       "      <th>mean</th>\n",
       "      <td>12.817765</td>\n",
       "      <td>10.235202</td>\n",
       "      <td>11.222728</td>\n",
       "      <td>9.841418</td>\n",
       "      <td>6.867486</td>\n",
       "    </tr>\n",
       "    <tr>\n",
       "      <th>std</th>\n",
       "      <td>1.106764</td>\n",
       "      <td>0.576721</td>\n",
       "      <td>0.323367</td>\n",
       "      <td>0.769608</td>\n",
       "      <td>0.404567</td>\n",
       "    </tr>\n",
       "    <tr>\n",
       "      <th>min</th>\n",
       "      <td>4.066474</td>\n",
       "      <td>-1.447158</td>\n",
       "      <td>9.343712</td>\n",
       "      <td>4.563159</td>\n",
       "      <td>3.598579</td>\n",
       "    </tr>\n",
       "    <tr>\n",
       "      <th>25%</th>\n",
       "      <td>12.890082</td>\n",
       "      <td>10.130205</td>\n",
       "      <td>11.138888</td>\n",
       "      <td>9.822404</td>\n",
       "      <td>6.769755</td>\n",
       "    </tr>\n",
       "    <tr>\n",
       "      <th>50%</th>\n",
       "      <td>13.115295</td>\n",
       "      <td>10.278120</td>\n",
       "      <td>11.294712</td>\n",
       "      <td>10.043162</td>\n",
       "      <td>6.927192</td>\n",
       "    </tr>\n",
       "    <tr>\n",
       "      <th>75%</th>\n",
       "      <td>13.267161</td>\n",
       "      <td>10.401900</td>\n",
       "      <td>11.401079</td>\n",
       "      <td>10.202492</td>\n",
       "      <td>7.068208</td>\n",
       "    </tr>\n",
       "    <tr>\n",
       "      <th>max</th>\n",
       "      <td>13.704994</td>\n",
       "      <td>10.877576</td>\n",
       "      <td>11.885241</td>\n",
       "      <td>10.712289</td>\n",
       "      <td>7.504284</td>\n",
       "    </tr>\n",
       "  </tbody>\n",
       "</table>\n",
       "</div>"
      ],
      "text/plain": [
       "             UMAP1        UMAP2        UMAP3        UMAP4        UMAP5\n",
       "count  3749.000000  3749.000000  3749.000000  3749.000000  3749.000000\n",
       "mean     12.817765    10.235202    11.222728     9.841418     6.867486\n",
       "std       1.106764     0.576721     0.323367     0.769608     0.404567\n",
       "min       4.066474    -1.447158     9.343712     4.563159     3.598579\n",
       "25%      12.890082    10.130205    11.138888     9.822404     6.769755\n",
       "50%      13.115295    10.278120    11.294712    10.043162     6.927192\n",
       "75%      13.267161    10.401900    11.401079    10.202492     7.068208\n",
       "max      13.704994    10.877576    11.885241    10.712289     7.504284"
      ]
     },
     "metadata": {},
     "output_type": "display_data"
    },
    {
     "data": {
      "text/plain": [
       "PosixPath('/home/miltondp/projects/labs/greenelab/phenoplier/base/results/data_transformations/umap/umap-z_score_std-smultixcan-efo_partial-mashr-zscores-metric_euclidean-n_components_40-n_neighbors_15-random_state_0.pkl')"
      ]
     },
     "metadata": {},
     "output_type": "display_data"
    },
    {
     "name": "stdout",
     "output_type": "stream",
     "text": [
      "\n",
      "\n",
      "# components: 50\n"
     ]
    },
    {
     "data": {
      "text/plain": [
       "\"UMAP options: {'n_components': 50, 'metric': 'euclidean', 'n_neighbors': 15, 'random_state': 0}\""
      ]
     },
     "metadata": {},
     "output_type": "display_data"
    },
    {
     "data": {
      "text/plain": [
       "(3749, 50)"
      ]
     },
     "metadata": {},
     "output_type": "display_data"
    },
    {
     "data": {
      "text/html": [
       "<div>\n",
       "<style scoped>\n",
       "    .dataframe tbody tr th:only-of-type {\n",
       "        vertical-align: middle;\n",
       "    }\n",
       "\n",
       "    .dataframe tbody tr th {\n",
       "        vertical-align: top;\n",
       "    }\n",
       "\n",
       "    .dataframe thead th {\n",
       "        text-align: right;\n",
       "    }\n",
       "</style>\n",
       "<table border=\"1\" class=\"dataframe\">\n",
       "  <thead>\n",
       "    <tr style=\"text-align: right;\">\n",
       "      <th></th>\n",
       "      <th>UMAP1</th>\n",
       "      <th>UMAP2</th>\n",
       "      <th>UMAP3</th>\n",
       "      <th>UMAP4</th>\n",
       "      <th>UMAP5</th>\n",
       "    </tr>\n",
       "  </thead>\n",
       "  <tbody>\n",
       "    <tr>\n",
       "      <th>count</th>\n",
       "      <td>3749.000000</td>\n",
       "      <td>3749.000000</td>\n",
       "      <td>3749.000000</td>\n",
       "      <td>3749.000000</td>\n",
       "      <td>3749.000000</td>\n",
       "    </tr>\n",
       "    <tr>\n",
       "      <th>mean</th>\n",
       "      <td>12.265738</td>\n",
       "      <td>10.170321</td>\n",
       "      <td>12.591548</td>\n",
       "      <td>9.513645</td>\n",
       "      <td>7.722247</td>\n",
       "    </tr>\n",
       "    <tr>\n",
       "      <th>std</th>\n",
       "      <td>0.972277</td>\n",
       "      <td>0.528322</td>\n",
       "      <td>0.646648</td>\n",
       "      <td>0.715110</td>\n",
       "      <td>0.562670</td>\n",
       "    </tr>\n",
       "    <tr>\n",
       "      <th>min</th>\n",
       "      <td>4.395242</td>\n",
       "      <td>-0.456861</td>\n",
       "      <td>8.751560</td>\n",
       "      <td>3.970074</td>\n",
       "      <td>3.659067</td>\n",
       "    </tr>\n",
       "    <tr>\n",
       "      <th>25%</th>\n",
       "      <td>12.336788</td>\n",
       "      <td>10.060452</td>\n",
       "      <td>12.609579</td>\n",
       "      <td>9.455735</td>\n",
       "      <td>7.656511</td>\n",
       "    </tr>\n",
       "    <tr>\n",
       "      <th>50%</th>\n",
       "      <td>12.501959</td>\n",
       "      <td>10.200792</td>\n",
       "      <td>12.806866</td>\n",
       "      <td>9.676305</td>\n",
       "      <td>7.847810</td>\n",
       "    </tr>\n",
       "    <tr>\n",
       "      <th>75%</th>\n",
       "      <td>12.641078</td>\n",
       "      <td>10.319852</td>\n",
       "      <td>12.907908</td>\n",
       "      <td>9.844992</td>\n",
       "      <td>7.977063</td>\n",
       "    </tr>\n",
       "    <tr>\n",
       "      <th>max</th>\n",
       "      <td>13.250747</td>\n",
       "      <td>10.810098</td>\n",
       "      <td>13.340292</td>\n",
       "      <td>10.558010</td>\n",
       "      <td>8.693202</td>\n",
       "    </tr>\n",
       "  </tbody>\n",
       "</table>\n",
       "</div>"
      ],
      "text/plain": [
       "             UMAP1        UMAP2        UMAP3        UMAP4        UMAP5\n",
       "count  3749.000000  3749.000000  3749.000000  3749.000000  3749.000000\n",
       "mean     12.265738    10.170321    12.591548     9.513645     7.722247\n",
       "std       0.972277     0.528322     0.646648     0.715110     0.562670\n",
       "min       4.395242    -0.456861     8.751560     3.970074     3.659067\n",
       "25%      12.336788    10.060452    12.609579     9.455735     7.656511\n",
       "50%      12.501959    10.200792    12.806866     9.676305     7.847810\n",
       "75%      12.641078    10.319852    12.907908     9.844992     7.977063\n",
       "max      13.250747    10.810098    13.340292    10.558010     8.693202"
      ]
     },
     "metadata": {},
     "output_type": "display_data"
    },
    {
     "data": {
      "text/plain": [
       "PosixPath('/home/miltondp/projects/labs/greenelab/phenoplier/base/results/data_transformations/umap/umap-z_score_std-smultixcan-efo_partial-mashr-zscores-metric_euclidean-n_components_50-n_neighbors_15-random_state_0.pkl')"
      ]
     },
     "metadata": {},
     "output_type": "display_data"
    },
    {
     "name": "stdout",
     "output_type": "stream",
     "text": [
      "\n",
      "\n"
     ]
    }
   ],
   "source": [
    "# for n_comp, n_neigh in product(DR_OPTIONS['n_components'], DR_OPTIONS['n_neighbors']):\n",
    "for n_comp in DR_OPTIONS['n_components']:\n",
    "    print(f'# components: {n_comp}')\n",
    "    \n",
    "    options = ALL_OPTIONS.copy()\n",
    "    options['n_components'] = n_comp\n",
    "    \n",
    "    dr_data = get_umap_proj(data, options)\n",
    "    \n",
    "    display(dr_data.shape)\n",
    "    assert dr_data.shape == (data.shape[0], n_comp)\n",
    "    \n",
    "    display(dr_data.iloc[:, 0:5].describe())\n",
    "    \n",
    "    # save\n",
    "    output_file = Path(\n",
    "        RESULTS_DIR,\n",
    "        generate_result_set_name(\n",
    "            options,\n",
    "            prefix=f'umap-{input_filepath_stem}-',\n",
    "            suffix='.pkl'\n",
    "        )\n",
    "    ).resolve()\n",
    "    display(output_file)\n",
    "    \n",
    "    dr_data.to_pickle(output_file)\n",
    "    \n",
    "    print('\\n')"
   ]
  },
  {
   "cell_type": "code",
   "execution_count": null,
   "metadata": {
    "papermill": {
     "duration": 0.01438,
     "end_time": "2020-11-24T17:25:14.929073",
     "exception": false,
     "start_time": "2020-11-24T17:25:14.914693",
     "status": "completed"
    },
    "tags": []
   },
   "outputs": [],
   "source": []
  }
 ],
 "metadata": {
  "kernelspec": {
   "display_name": "Python 3",
   "language": "python",
   "name": "python3"
  },
  "language_info": {
   "codemirror_mode": {
    "name": "ipython",
    "version": 3
   },
   "file_extension": ".py",
   "mimetype": "text/x-python",
   "name": "python",
   "nbconvert_exporter": "python",
   "pygments_lexer": "ipython3",
   "version": "3.8.6"
  },
  "papermill": {
   "default_parameters": {},
   "duration": 204.043367,
   "end_time": "2020-11-24T17:25:15.551470",
   "environment_variables": {},
   "exception": null,
   "input_path": "10_data_transformations/003_01-umap.ipynb",
   "output_path": "10_data_transformations/003_01-umap.run.ipynb",
   "parameters": {},
   "start_time": "2020-11-24T17:21:51.508103",
   "version": "2.2.2"
  },
  "toc-autonumbering": true,
  "toc-showcode": false,
  "toc-showmarkdowntxt": false,
  "toc-showtags": false
 },
 "nbformat": 4,
 "nbformat_minor": 4
}