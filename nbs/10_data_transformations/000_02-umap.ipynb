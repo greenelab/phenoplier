{
 "cells": [
  {
   "cell_type": "markdown",
   "metadata": {
    "papermill": {
     "duration": 0.025607,
     "end_time": "2020-11-24T17:18:54.663291",
     "exception": false,
     "start_time": "2020-11-24T17:18:54.637684",
     "status": "completed"
    },
    "tags": []
   },
   "source": [
    "# Description"
   ]
  },
  {
   "cell_type": "markdown",
   "metadata": {
    "papermill": {
     "duration": 0.008357,
     "end_time": "2020-11-24T17:18:54.686966",
     "exception": false,
     "start_time": "2020-11-24T17:18:54.678609",
     "status": "completed"
    },
    "tags": []
   },
   "source": [
    "It projects input data into a UMAP representation."
   ]
  },
  {
   "cell_type": "markdown",
   "metadata": {
    "papermill": {
     "duration": 0.005566,
     "end_time": "2020-11-24T17:18:54.699302",
     "exception": false,
     "start_time": "2020-11-24T17:18:54.693736",
     "status": "completed"
    },
    "tags": []
   },
   "source": [
    "# Modules loading"
   ]
  },
  {
   "cell_type": "code",
   "execution_count": 1,
   "metadata": {
    "execution": {
     "iopub.execute_input": "2020-11-24T17:18:54.713561Z",
     "iopub.status.busy": "2020-11-24T17:18:54.713178Z",
     "iopub.status.idle": "2020-11-24T17:18:54.720191Z",
     "shell.execute_reply": "2020-11-24T17:18:54.720480Z"
    },
    "papermill": {
     "duration": 0.015855,
     "end_time": "2020-11-24T17:18:54.720661",
     "exception": false,
     "start_time": "2020-11-24T17:18:54.704806",
     "status": "completed"
    },
    "tags": []
   },
   "outputs": [],
   "source": [
    "%load_ext autoreload\n",
    "%autoreload 2"
   ]
  },
  {
   "cell_type": "code",
   "execution_count": 2,
   "metadata": {
    "execution": {
     "iopub.execute_input": "2020-11-24T17:18:54.734638Z",
     "iopub.status.busy": "2020-11-24T17:18:54.734260Z",
     "iopub.status.idle": "2020-11-24T17:18:56.324092Z",
     "shell.execute_reply": "2020-11-24T17:18:56.323611Z"
    },
    "papermill": {
     "duration": 1.597658,
     "end_time": "2020-11-24T17:18:56.324196",
     "exception": false,
     "start_time": "2020-11-24T17:18:54.726538",
     "status": "completed"
    },
    "tags": []
   },
   "outputs": [],
   "source": [
    "from pathlib import Path\n",
    "from IPython.display import display\n",
    "\n",
    "import pandas as pd\n",
    "import umap\n",
    "import matplotlib.pyplot as plt\n",
    "import seaborn as sns\n",
    "\n",
    "import conf\n",
    "from utils import generate_result_set_name"
   ]
  },
  {
   "cell_type": "markdown",
   "metadata": {
    "papermill": {
     "duration": 0.006081,
     "end_time": "2020-11-24T17:18:56.337008",
     "exception": false,
     "start_time": "2020-11-24T17:18:56.330927",
     "status": "completed"
    },
    "tags": []
   },
   "source": [
    "# Settings"
   ]
  },
  {
   "cell_type": "code",
   "execution_count": 3,
   "metadata": {
    "execution": {
     "iopub.execute_input": "2020-11-24T17:18:56.351921Z",
     "iopub.status.busy": "2020-11-24T17:18:56.351525Z",
     "iopub.status.idle": "2020-11-24T17:18:56.363907Z",
     "shell.execute_reply": "2020-11-24T17:18:56.363504Z"
    },
    "papermill": {
     "duration": 0.021136,
     "end_time": "2020-11-24T17:18:56.364000",
     "exception": false,
     "start_time": "2020-11-24T17:18:56.342864",
     "status": "completed"
    },
    "tags": []
   },
   "outputs": [],
   "source": [
    "INPUT_FILEPATH_STEM = 'diseases_only-projection-smultixcan-efo_partial-mashr-zscores'"
   ]
  },
  {
   "cell_type": "code",
   "execution_count": 4,
   "metadata": {
    "execution": {
     "iopub.execute_input": "2020-11-24T17:18:56.379285Z",
     "iopub.status.busy": "2020-11-24T17:18:56.378879Z",
     "iopub.status.idle": "2020-11-24T17:18:56.394209Z",
     "shell.execute_reply": "2020-11-24T17:18:56.393863Z"
    },
    "papermill": {
     "duration": 0.023984,
     "end_time": "2020-11-24T17:18:56.394303",
     "exception": false,
     "start_time": "2020-11-24T17:18:56.370319",
     "status": "completed"
    },
    "tags": []
   },
   "outputs": [
    {
     "data": {
      "text/plain": [
       "PosixPath('/home/miltondp/projects/labs/greenelab/phenoplier/base/results/data_transformations/z_score_std/z_score_std-diseases_only-projection-smultixcan-efo_partial-mashr-zscores.pkl')"
      ]
     },
     "metadata": {},
     "output_type": "display_data"
    },
    {
     "data": {
      "text/plain": [
       "'z_score_std-diseases_only-projection-smultixcan-efo_partial-mashr-zscores'"
      ]
     },
     "metadata": {},
     "output_type": "display_data"
    }
   ],
   "source": [
    "INPUT_FILEPATH = Path(\n",
    "    conf.RESULTS[\"DATA_TRANSFORMATIONS_DIR\"],\n",
    "    'z_score_std',\n",
    "    f'z_score_std-{INPUT_FILEPATH_STEM}.pkl',\n",
    ").resolve()\n",
    "display(INPUT_FILEPATH)\n",
    "\n",
    "input_filepath_stem = INPUT_FILEPATH.stem\n",
    "display(input_filepath_stem)"
   ]
  },
  {
   "cell_type": "code",
   "execution_count": 5,
   "metadata": {
    "execution": {
     "iopub.execute_input": "2020-11-24T17:18:56.410724Z",
     "iopub.status.busy": "2020-11-24T17:18:56.410326Z",
     "iopub.status.idle": "2020-11-24T17:18:56.422532Z",
     "shell.execute_reply": "2020-11-24T17:18:56.422830Z"
    },
    "papermill": {
     "duration": 0.021818,
     "end_time": "2020-11-24T17:18:56.422946",
     "exception": false,
     "start_time": "2020-11-24T17:18:56.401128",
     "status": "completed"
    },
    "tags": []
   },
   "outputs": [],
   "source": [
    "# number of components to use in the dimensionality reduction step\n",
    "DR_OPTIONS = {\n",
    "    'n_components': [5, 10, 20, 30, 40, 50],\n",
    "    'metric': 'euclidean',\n",
    "    'n_neighbors': 15,\n",
    "    'random_state': 0,\n",
    "}"
   ]
  },
  {
   "cell_type": "code",
   "execution_count": 6,
   "metadata": {
    "execution": {
     "iopub.execute_input": "2020-11-24T17:18:56.438651Z",
     "iopub.status.busy": "2020-11-24T17:18:56.438267Z",
     "iopub.status.idle": "2020-11-24T17:18:56.451393Z",
     "shell.execute_reply": "2020-11-24T17:18:56.451031Z"
    },
    "papermill": {
     "duration": 0.021867,
     "end_time": "2020-11-24T17:18:56.451486",
     "exception": false,
     "start_time": "2020-11-24T17:18:56.429619",
     "status": "completed"
    },
    "tags": []
   },
   "outputs": [
    {
     "data": {
      "text/plain": [
       "PosixPath('/home/miltondp/projects/labs/greenelab/phenoplier/base/results/data_transformations/umap')"
      ]
     },
     "metadata": {},
     "output_type": "display_data"
    }
   ],
   "source": [
    "# output dir for this notebook\n",
    "RESULTS_DIR = Path(\n",
    "    conf.RESULTS[\"DATA_TRANSFORMATIONS_DIR\"],\n",
    "    'umap'\n",
    ").resolve()\n",
    "RESULTS_DIR.mkdir(parents=True, exist_ok=True)\n",
    "\n",
    "display(RESULTS_DIR)"
   ]
  },
  {
   "cell_type": "code",
   "execution_count": 7,
   "metadata": {
    "execution": {
     "iopub.execute_input": "2020-11-24T17:18:56.467893Z",
     "iopub.status.busy": "2020-11-24T17:18:56.467486Z",
     "iopub.status.idle": "2020-11-24T17:18:56.480527Z",
     "shell.execute_reply": "2020-11-24T17:18:56.480178Z"
    },
    "papermill": {
     "duration": 0.022062,
     "end_time": "2020-11-24T17:18:56.480623",
     "exception": false,
     "start_time": "2020-11-24T17:18:56.458561",
     "status": "completed"
    },
    "tags": []
   },
   "outputs": [
    {
     "data": {
      "text/plain": [
       "{'n_components': [5, 10, 20, 30, 40, 50],\n",
       " 'metric': 'euclidean',\n",
       " 'n_neighbors': 15,\n",
       " 'random_state': 0}"
      ]
     },
     "metadata": {},
     "output_type": "display_data"
    }
   ],
   "source": [
    "# dictionary containing all options/settings (used to generate filenames)\n",
    "ALL_OPTIONS = DR_OPTIONS.copy()\n",
    "# ALL_OPTIONS['proj_percentile'] = PERCENTILE_NAME\n",
    "\n",
    "display(ALL_OPTIONS)"
   ]
  },
  {
   "cell_type": "markdown",
   "metadata": {
    "papermill": {
     "duration": 0.00719,
     "end_time": "2020-11-24T17:18:56.495264",
     "exception": false,
     "start_time": "2020-11-24T17:18:56.488074",
     "status": "completed"
    },
    "tags": []
   },
   "source": [
    "# Load input file"
   ]
  },
  {
   "cell_type": "code",
   "execution_count": 8,
   "metadata": {
    "execution": {
     "iopub.execute_input": "2020-11-24T17:18:56.512362Z",
     "iopub.status.busy": "2020-11-24T17:18:56.511995Z",
     "iopub.status.idle": "2020-11-24T17:18:56.526421Z",
     "shell.execute_reply": "2020-11-24T17:18:56.526729Z"
    },
    "papermill": {
     "duration": 0.02434,
     "end_time": "2020-11-24T17:18:56.526847",
     "exception": false,
     "start_time": "2020-11-24T17:18:56.502507",
     "status": "completed"
    },
    "tags": []
   },
   "outputs": [],
   "source": [
    "data = pd.read_pickle(INPUT_FILEPATH)"
   ]
  },
  {
   "cell_type": "code",
   "execution_count": 9,
   "metadata": {
    "execution": {
     "iopub.execute_input": "2020-11-24T17:18:56.544036Z",
     "iopub.status.busy": "2020-11-24T17:18:56.543631Z",
     "iopub.status.idle": "2020-11-24T17:18:56.557544Z",
     "shell.execute_reply": "2020-11-24T17:18:56.557219Z"
    },
    "papermill": {
     "duration": 0.023312,
     "end_time": "2020-11-24T17:18:56.557640",
     "exception": false,
     "start_time": "2020-11-24T17:18:56.534328",
     "status": "completed"
    },
    "tags": []
   },
   "outputs": [
    {
     "data": {
      "text/plain": [
       "(538, 987)"
      ]
     },
     "execution_count": 9,
     "metadata": {},
     "output_type": "execute_result"
    }
   ],
   "source": [
    "data.shape"
   ]
  },
  {
   "cell_type": "code",
   "execution_count": 10,
   "metadata": {
    "execution": {
     "iopub.execute_input": "2020-11-24T17:18:56.575572Z",
     "iopub.status.busy": "2020-11-24T17:18:56.575165Z",
     "iopub.status.idle": "2020-11-24T17:18:56.601459Z",
     "shell.execute_reply": "2020-11-24T17:18:56.601127Z"
    },
    "papermill": {
     "duration": 0.036105,
     "end_time": "2020-11-24T17:18:56.601552",
     "exception": false,
     "start_time": "2020-11-24T17:18:56.565447",
     "status": "completed"
    },
    "tags": []
   },
   "outputs": [
    {
     "data": {
      "text/html": [
       "<div>\n",
       "<style scoped>\n",
       "    .dataframe tbody tr th:only-of-type {\n",
       "        vertical-align: middle;\n",
       "    }\n",
       "\n",
       "    .dataframe tbody tr th {\n",
       "        vertical-align: top;\n",
       "    }\n",
       "\n",
       "    .dataframe thead th {\n",
       "        text-align: right;\n",
       "    }\n",
       "</style>\n",
       "<table border=\"1\" class=\"dataframe\">\n",
       "  <thead>\n",
       "    <tr style=\"text-align: right;\">\n",
       "      <th></th>\n",
       "      <th>LV1</th>\n",
       "      <th>LV2</th>\n",
       "      <th>LV3</th>\n",
       "      <th>LV4</th>\n",
       "      <th>LV5</th>\n",
       "      <th>LV6</th>\n",
       "      <th>LV7</th>\n",
       "      <th>LV8</th>\n",
       "      <th>LV9</th>\n",
       "      <th>LV10</th>\n",
       "      <th>...</th>\n",
       "      <th>LV978</th>\n",
       "      <th>LV979</th>\n",
       "      <th>LV980</th>\n",
       "      <th>LV981</th>\n",
       "      <th>LV982</th>\n",
       "      <th>LV983</th>\n",
       "      <th>LV984</th>\n",
       "      <th>LV985</th>\n",
       "      <th>LV986</th>\n",
       "      <th>LV987</th>\n",
       "    </tr>\n",
       "  </thead>\n",
       "  <tbody>\n",
       "    <tr>\n",
       "      <th>vascular disease AND intestinal disease</th>\n",
       "      <td>0.374886</td>\n",
       "      <td>0.123010</td>\n",
       "      <td>-0.688734</td>\n",
       "      <td>-0.462234</td>\n",
       "      <td>-0.270475</td>\n",
       "      <td>0.765010</td>\n",
       "      <td>1.101153</td>\n",
       "      <td>0.443515</td>\n",
       "      <td>-2.131315</td>\n",
       "      <td>-1.989014</td>\n",
       "      <td>...</td>\n",
       "      <td>-0.084253</td>\n",
       "      <td>0.291335</td>\n",
       "      <td>-0.829496</td>\n",
       "      <td>-0.944208</td>\n",
       "      <td>0.070689</td>\n",
       "      <td>-0.310739</td>\n",
       "      <td>-1.054390</td>\n",
       "      <td>-0.058465</td>\n",
       "      <td>-1.718400</td>\n",
       "      <td>1.318405</td>\n",
       "    </tr>\n",
       "    <tr>\n",
       "      <th>osteoarthritis, knee</th>\n",
       "      <td>-1.006925</td>\n",
       "      <td>-0.523367</td>\n",
       "      <td>-0.205909</td>\n",
       "      <td>0.845292</td>\n",
       "      <td>-0.520447</td>\n",
       "      <td>-1.567783</td>\n",
       "      <td>-1.392684</td>\n",
       "      <td>-0.697141</td>\n",
       "      <td>2.420293</td>\n",
       "      <td>-1.249693</td>\n",
       "      <td>...</td>\n",
       "      <td>-0.859185</td>\n",
       "      <td>0.803672</td>\n",
       "      <td>-0.792661</td>\n",
       "      <td>0.941227</td>\n",
       "      <td>0.038807</td>\n",
       "      <td>-0.335750</td>\n",
       "      <td>-1.109207</td>\n",
       "      <td>0.426400</td>\n",
       "      <td>1.151830</td>\n",
       "      <td>0.396533</td>\n",
       "    </tr>\n",
       "    <tr>\n",
       "      <th>carpal tunnel syndrome</th>\n",
       "      <td>1.113546</td>\n",
       "      <td>0.801889</td>\n",
       "      <td>-0.165020</td>\n",
       "      <td>-0.339000</td>\n",
       "      <td>-1.401320</td>\n",
       "      <td>-0.825885</td>\n",
       "      <td>-1.224864</td>\n",
       "      <td>0.230387</td>\n",
       "      <td>0.477523</td>\n",
       "      <td>1.075486</td>\n",
       "      <td>...</td>\n",
       "      <td>-0.431015</td>\n",
       "      <td>2.656686</td>\n",
       "      <td>-1.755027</td>\n",
       "      <td>1.159056</td>\n",
       "      <td>-0.570832</td>\n",
       "      <td>-0.572341</td>\n",
       "      <td>0.155003</td>\n",
       "      <td>-0.527333</td>\n",
       "      <td>-1.350922</td>\n",
       "      <td>-0.264405</td>\n",
       "    </tr>\n",
       "    <tr>\n",
       "      <th>gastritis</th>\n",
       "      <td>-1.025944</td>\n",
       "      <td>0.108498</td>\n",
       "      <td>0.328317</td>\n",
       "      <td>-0.294424</td>\n",
       "      <td>-1.267212</td>\n",
       "      <td>-1.419151</td>\n",
       "      <td>-1.460856</td>\n",
       "      <td>1.192783</td>\n",
       "      <td>-0.183589</td>\n",
       "      <td>0.019485</td>\n",
       "      <td>...</td>\n",
       "      <td>1.252517</td>\n",
       "      <td>1.402279</td>\n",
       "      <td>1.354473</td>\n",
       "      <td>0.175315</td>\n",
       "      <td>0.654345</td>\n",
       "      <td>-0.761176</td>\n",
       "      <td>0.942745</td>\n",
       "      <td>-0.181810</td>\n",
       "      <td>0.574468</td>\n",
       "      <td>1.381791</td>\n",
       "    </tr>\n",
       "    <tr>\n",
       "      <th>neoplasm</th>\n",
       "      <td>0.400556</td>\n",
       "      <td>0.014828</td>\n",
       "      <td>-0.525315</td>\n",
       "      <td>0.561977</td>\n",
       "      <td>0.252577</td>\n",
       "      <td>-0.734367</td>\n",
       "      <td>0.345537</td>\n",
       "      <td>1.808464</td>\n",
       "      <td>-0.741470</td>\n",
       "      <td>0.529550</td>\n",
       "      <td>...</td>\n",
       "      <td>-0.175486</td>\n",
       "      <td>-0.224286</td>\n",
       "      <td>0.254540</td>\n",
       "      <td>-0.302883</td>\n",
       "      <td>-0.583656</td>\n",
       "      <td>0.798698</td>\n",
       "      <td>0.653916</td>\n",
       "      <td>0.555870</td>\n",
       "      <td>1.097121</td>\n",
       "      <td>-1.205670</td>\n",
       "    </tr>\n",
       "  </tbody>\n",
       "</table>\n",
       "<p>5 rows × 987 columns</p>\n",
       "</div>"
      ],
      "text/plain": [
       "                                              LV1       LV2       LV3  \\\n",
       "vascular disease AND intestinal disease  0.374886  0.123010 -0.688734   \n",
       "osteoarthritis, knee                    -1.006925 -0.523367 -0.205909   \n",
       "carpal tunnel syndrome                   1.113546  0.801889 -0.165020   \n",
       "gastritis                               -1.025944  0.108498  0.328317   \n",
       "neoplasm                                 0.400556  0.014828 -0.525315   \n",
       "\n",
       "                                              LV4       LV5       LV6  \\\n",
       "vascular disease AND intestinal disease -0.462234 -0.270475  0.765010   \n",
       "osteoarthritis, knee                     0.845292 -0.520447 -1.567783   \n",
       "carpal tunnel syndrome                  -0.339000 -1.401320 -0.825885   \n",
       "gastritis                               -0.294424 -1.267212 -1.419151   \n",
       "neoplasm                                 0.561977  0.252577 -0.734367   \n",
       "\n",
       "                                              LV7       LV8       LV9  \\\n",
       "vascular disease AND intestinal disease  1.101153  0.443515 -2.131315   \n",
       "osteoarthritis, knee                    -1.392684 -0.697141  2.420293   \n",
       "carpal tunnel syndrome                  -1.224864  0.230387  0.477523   \n",
       "gastritis                               -1.460856  1.192783 -0.183589   \n",
       "neoplasm                                 0.345537  1.808464 -0.741470   \n",
       "\n",
       "                                             LV10  ...     LV978     LV979  \\\n",
       "vascular disease AND intestinal disease -1.989014  ... -0.084253  0.291335   \n",
       "osteoarthritis, knee                    -1.249693  ... -0.859185  0.803672   \n",
       "carpal tunnel syndrome                   1.075486  ... -0.431015  2.656686   \n",
       "gastritis                                0.019485  ...  1.252517  1.402279   \n",
       "neoplasm                                 0.529550  ... -0.175486 -0.224286   \n",
       "\n",
       "                                            LV980     LV981     LV982  \\\n",
       "vascular disease AND intestinal disease -0.829496 -0.944208  0.070689   \n",
       "osteoarthritis, knee                    -0.792661  0.941227  0.038807   \n",
       "carpal tunnel syndrome                  -1.755027  1.159056 -0.570832   \n",
       "gastritis                                1.354473  0.175315  0.654345   \n",
       "neoplasm                                 0.254540 -0.302883 -0.583656   \n",
       "\n",
       "                                            LV983     LV984     LV985  \\\n",
       "vascular disease AND intestinal disease -0.310739 -1.054390 -0.058465   \n",
       "osteoarthritis, knee                    -0.335750 -1.109207  0.426400   \n",
       "carpal tunnel syndrome                  -0.572341  0.155003 -0.527333   \n",
       "gastritis                               -0.761176  0.942745 -0.181810   \n",
       "neoplasm                                 0.798698  0.653916  0.555870   \n",
       "\n",
       "                                            LV986     LV987  \n",
       "vascular disease AND intestinal disease -1.718400  1.318405  \n",
       "osteoarthritis, knee                     1.151830  0.396533  \n",
       "carpal tunnel syndrome                  -1.350922 -0.264405  \n",
       "gastritis                                0.574468  1.381791  \n",
       "neoplasm                                 1.097121 -1.205670  \n",
       "\n",
       "[5 rows x 987 columns]"
      ]
     },
     "execution_count": 10,
     "metadata": {},
     "output_type": "execute_result"
    }
   ],
   "source": [
    "data.head()"
   ]
  },
  {
   "cell_type": "markdown",
   "metadata": {
    "papermill": {
     "duration": 0.00727,
     "end_time": "2020-11-24T17:18:56.616697",
     "exception": false,
     "start_time": "2020-11-24T17:18:56.609427",
     "status": "completed"
    },
    "tags": []
   },
   "source": [
    "# UMAP"
   ]
  },
  {
   "cell_type": "code",
   "execution_count": 11,
   "metadata": {
    "execution": {
     "iopub.execute_input": "2020-11-24T17:18:56.634928Z",
     "iopub.status.busy": "2020-11-24T17:18:56.634550Z",
     "iopub.status.idle": "2020-11-24T17:18:56.646434Z",
     "shell.execute_reply": "2020-11-24T17:18:56.646720Z"
    },
    "papermill": {
     "duration": 0.022715,
     "end_time": "2020-11-24T17:18:56.646831",
     "exception": false,
     "start_time": "2020-11-24T17:18:56.624116",
     "status": "completed"
    },
    "tags": []
   },
   "outputs": [],
   "source": [
    "def get_umap_proj(orig_data, options):\n",
    "    umap_options = {k:v for k, v in options.items() if k in DR_OPTIONS}\n",
    "    display(f'UMAP options: {umap_options}')\n",
    "    umap_obj = umap.UMAP(**umap_options)\n",
    "    umap_obj = umap_obj.fit(orig_data)\n",
    "    umap_data = umap_obj.transform(orig_data)\n",
    "    return pd.DataFrame(\n",
    "        data=umap_data,\n",
    "        index=orig_data.index.copy(),\n",
    "        columns=[f'UMAP{i+1}' for i in range(umap_data.shape[1])]\n",
    "    )"
   ]
  },
  {
   "cell_type": "code",
   "execution_count": 12,
   "metadata": {
    "execution": {
     "iopub.execute_input": "2020-11-24T17:18:56.666235Z",
     "iopub.status.busy": "2020-11-24T17:18:56.665855Z",
     "iopub.status.idle": "2020-11-24T17:19:13.343636Z",
     "shell.execute_reply": "2020-11-24T17:19:13.343934Z"
    },
    "papermill": {
     "duration": 16.689045,
     "end_time": "2020-11-24T17:19:13.344044",
     "exception": false,
     "start_time": "2020-11-24T17:18:56.654999",
     "status": "completed"
    },
    "tags": []
   },
   "outputs": [
    {
     "name": "stdout",
     "output_type": "stream",
     "text": [
      "# components: 5\n"
     ]
    },
    {
     "data": {
      "text/plain": [
       "\"UMAP options: {'n_components': 5, 'metric': 'euclidean', 'n_neighbors': 15, 'random_state': 0}\""
      ]
     },
     "metadata": {},
     "output_type": "display_data"
    },
    {
     "data": {
      "text/plain": [
       "(538, 5)"
      ]
     },
     "metadata": {},
     "output_type": "display_data"
    },
    {
     "data": {
      "text/html": [
       "<div>\n",
       "<style scoped>\n",
       "    .dataframe tbody tr th:only-of-type {\n",
       "        vertical-align: middle;\n",
       "    }\n",
       "\n",
       "    .dataframe tbody tr th {\n",
       "        vertical-align: top;\n",
       "    }\n",
       "\n",
       "    .dataframe thead th {\n",
       "        text-align: right;\n",
       "    }\n",
       "</style>\n",
       "<table border=\"1\" class=\"dataframe\">\n",
       "  <thead>\n",
       "    <tr style=\"text-align: right;\">\n",
       "      <th></th>\n",
       "      <th>UMAP1</th>\n",
       "      <th>UMAP2</th>\n",
       "      <th>UMAP3</th>\n",
       "      <th>UMAP4</th>\n",
       "      <th>UMAP5</th>\n",
       "    </tr>\n",
       "  </thead>\n",
       "  <tbody>\n",
       "    <tr>\n",
       "      <th>count</th>\n",
       "      <td>538.000000</td>\n",
       "      <td>538.000000</td>\n",
       "      <td>538.000000</td>\n",
       "      <td>538.000000</td>\n",
       "      <td>538.000000</td>\n",
       "    </tr>\n",
       "    <tr>\n",
       "      <th>mean</th>\n",
       "      <td>11.437816</td>\n",
       "      <td>7.258334</td>\n",
       "      <td>8.553856</td>\n",
       "      <td>7.259817</td>\n",
       "      <td>10.623873</td>\n",
       "    </tr>\n",
       "    <tr>\n",
       "      <th>std</th>\n",
       "      <td>1.261588</td>\n",
       "      <td>0.421215</td>\n",
       "      <td>0.805494</td>\n",
       "      <td>1.063132</td>\n",
       "      <td>0.808115</td>\n",
       "    </tr>\n",
       "    <tr>\n",
       "      <th>min</th>\n",
       "      <td>8.840378</td>\n",
       "      <td>6.077176</td>\n",
       "      <td>7.158512</td>\n",
       "      <td>5.649707</td>\n",
       "      <td>8.937119</td>\n",
       "    </tr>\n",
       "    <tr>\n",
       "      <th>25%</th>\n",
       "      <td>10.357782</td>\n",
       "      <td>6.964365</td>\n",
       "      <td>7.947083</td>\n",
       "      <td>6.442074</td>\n",
       "      <td>10.053707</td>\n",
       "    </tr>\n",
       "    <tr>\n",
       "      <th>50%</th>\n",
       "      <td>11.921645</td>\n",
       "      <td>7.314492</td>\n",
       "      <td>8.346437</td>\n",
       "      <td>6.941426</td>\n",
       "      <td>10.778704</td>\n",
       "    </tr>\n",
       "    <tr>\n",
       "      <th>75%</th>\n",
       "      <td>12.387650</td>\n",
       "      <td>7.559110</td>\n",
       "      <td>9.146773</td>\n",
       "      <td>8.120754</td>\n",
       "      <td>11.241063</td>\n",
       "    </tr>\n",
       "    <tr>\n",
       "      <th>max</th>\n",
       "      <td>13.079304</td>\n",
       "      <td>8.221519</td>\n",
       "      <td>10.625927</td>\n",
       "      <td>9.723360</td>\n",
       "      <td>12.013026</td>\n",
       "    </tr>\n",
       "  </tbody>\n",
       "</table>\n",
       "</div>"
      ],
      "text/plain": [
       "            UMAP1       UMAP2       UMAP3       UMAP4       UMAP5\n",
       "count  538.000000  538.000000  538.000000  538.000000  538.000000\n",
       "mean    11.437816    7.258334    8.553856    7.259817   10.623873\n",
       "std      1.261588    0.421215    0.805494    1.063132    0.808115\n",
       "min      8.840378    6.077176    7.158512    5.649707    8.937119\n",
       "25%     10.357782    6.964365    7.947083    6.442074   10.053707\n",
       "50%     11.921645    7.314492    8.346437    6.941426   10.778704\n",
       "75%     12.387650    7.559110    9.146773    8.120754   11.241063\n",
       "max     13.079304    8.221519   10.625927    9.723360   12.013026"
      ]
     },
     "metadata": {},
     "output_type": "display_data"
    },
    {
     "data": {
      "text/plain": [
       "PosixPath('/home/miltondp/projects/labs/greenelab/phenoplier/base/results/data_transformations/umap/umap-z_score_std-diseases_only-projection-smultixcan-efo_partial-mashr-zscores-metric_euclidean-n_components_5-n_neighbors_15-random_state_0.pkl')"
      ]
     },
     "metadata": {},
     "output_type": "display_data"
    },
    {
     "name": "stdout",
     "output_type": "stream",
     "text": [
      "\n",
      "\n",
      "# components: 10\n"
     ]
    },
    {
     "data": {
      "text/plain": [
       "\"UMAP options: {'n_components': 10, 'metric': 'euclidean', 'n_neighbors': 15, 'random_state': 0}\""
      ]
     },
     "metadata": {},
     "output_type": "display_data"
    },
    {
     "data": {
      "text/plain": [
       "(538, 10)"
      ]
     },
     "metadata": {},
     "output_type": "display_data"
    },
    {
     "data": {
      "text/html": [
       "<div>\n",
       "<style scoped>\n",
       "    .dataframe tbody tr th:only-of-type {\n",
       "        vertical-align: middle;\n",
       "    }\n",
       "\n",
       "    .dataframe tbody tr th {\n",
       "        vertical-align: top;\n",
       "    }\n",
       "\n",
       "    .dataframe thead th {\n",
       "        text-align: right;\n",
       "    }\n",
       "</style>\n",
       "<table border=\"1\" class=\"dataframe\">\n",
       "  <thead>\n",
       "    <tr style=\"text-align: right;\">\n",
       "      <th></th>\n",
       "      <th>UMAP1</th>\n",
       "      <th>UMAP2</th>\n",
       "      <th>UMAP3</th>\n",
       "      <th>UMAP4</th>\n",
       "      <th>UMAP5</th>\n",
       "    </tr>\n",
       "  </thead>\n",
       "  <tbody>\n",
       "    <tr>\n",
       "      <th>count</th>\n",
       "      <td>538.000000</td>\n",
       "      <td>538.000000</td>\n",
       "      <td>538.000000</td>\n",
       "      <td>538.000000</td>\n",
       "      <td>538.000000</td>\n",
       "    </tr>\n",
       "    <tr>\n",
       "      <th>mean</th>\n",
       "      <td>9.631227</td>\n",
       "      <td>6.541865</td>\n",
       "      <td>11.123150</td>\n",
       "      <td>8.326889</td>\n",
       "      <td>11.386127</td>\n",
       "    </tr>\n",
       "    <tr>\n",
       "      <th>std</th>\n",
       "      <td>0.829753</td>\n",
       "      <td>0.850887</td>\n",
       "      <td>0.471234</td>\n",
       "      <td>0.471821</td>\n",
       "      <td>1.106293</td>\n",
       "    </tr>\n",
       "    <tr>\n",
       "      <th>min</th>\n",
       "      <td>7.541883</td>\n",
       "      <td>5.166805</td>\n",
       "      <td>10.144130</td>\n",
       "      <td>7.377304</td>\n",
       "      <td>8.961306</td>\n",
       "    </tr>\n",
       "    <tr>\n",
       "      <th>25%</th>\n",
       "      <td>9.000030</td>\n",
       "      <td>5.909348</td>\n",
       "      <td>10.766114</td>\n",
       "      <td>7.915151</td>\n",
       "      <td>10.426965</td>\n",
       "    </tr>\n",
       "    <tr>\n",
       "      <th>50%</th>\n",
       "      <td>9.939340</td>\n",
       "      <td>6.223926</td>\n",
       "      <td>11.126602</td>\n",
       "      <td>8.432833</td>\n",
       "      <td>11.875643</td>\n",
       "    </tr>\n",
       "    <tr>\n",
       "      <th>75%</th>\n",
       "      <td>10.247998</td>\n",
       "      <td>7.282622</td>\n",
       "      <td>11.511865</td>\n",
       "      <td>8.698094</td>\n",
       "      <td>12.165639</td>\n",
       "    </tr>\n",
       "    <tr>\n",
       "      <th>max</th>\n",
       "      <td>10.820827</td>\n",
       "      <td>8.287004</td>\n",
       "      <td>11.979257</td>\n",
       "      <td>9.322357</td>\n",
       "      <td>12.713916</td>\n",
       "    </tr>\n",
       "  </tbody>\n",
       "</table>\n",
       "</div>"
      ],
      "text/plain": [
       "            UMAP1       UMAP2       UMAP3       UMAP4       UMAP5\n",
       "count  538.000000  538.000000  538.000000  538.000000  538.000000\n",
       "mean     9.631227    6.541865   11.123150    8.326889   11.386127\n",
       "std      0.829753    0.850887    0.471234    0.471821    1.106293\n",
       "min      7.541883    5.166805   10.144130    7.377304    8.961306\n",
       "25%      9.000030    5.909348   10.766114    7.915151   10.426965\n",
       "50%      9.939340    6.223926   11.126602    8.432833   11.875643\n",
       "75%     10.247998    7.282622   11.511865    8.698094   12.165639\n",
       "max     10.820827    8.287004   11.979257    9.322357   12.713916"
      ]
     },
     "metadata": {},
     "output_type": "display_data"
    },
    {
     "data": {
      "text/plain": [
       "PosixPath('/home/miltondp/projects/labs/greenelab/phenoplier/base/results/data_transformations/umap/umap-z_score_std-diseases_only-projection-smultixcan-efo_partial-mashr-zscores-metric_euclidean-n_components_10-n_neighbors_15-random_state_0.pkl')"
      ]
     },
     "metadata": {},
     "output_type": "display_data"
    },
    {
     "name": "stdout",
     "output_type": "stream",
     "text": [
      "\n",
      "\n",
      "# components: 20\n"
     ]
    },
    {
     "data": {
      "text/plain": [
       "\"UMAP options: {'n_components': 20, 'metric': 'euclidean', 'n_neighbors': 15, 'random_state': 0}\""
      ]
     },
     "metadata": {},
     "output_type": "display_data"
    },
    {
     "data": {
      "text/plain": [
       "(538, 20)"
      ]
     },
     "metadata": {},
     "output_type": "display_data"
    },
    {
     "data": {
      "text/html": [
       "<div>\n",
       "<style scoped>\n",
       "    .dataframe tbody tr th:only-of-type {\n",
       "        vertical-align: middle;\n",
       "    }\n",
       "\n",
       "    .dataframe tbody tr th {\n",
       "        vertical-align: top;\n",
       "    }\n",
       "\n",
       "    .dataframe thead th {\n",
       "        text-align: right;\n",
       "    }\n",
       "</style>\n",
       "<table border=\"1\" class=\"dataframe\">\n",
       "  <thead>\n",
       "    <tr style=\"text-align: right;\">\n",
       "      <th></th>\n",
       "      <th>UMAP1</th>\n",
       "      <th>UMAP2</th>\n",
       "      <th>UMAP3</th>\n",
       "      <th>UMAP4</th>\n",
       "      <th>UMAP5</th>\n",
       "    </tr>\n",
       "  </thead>\n",
       "  <tbody>\n",
       "    <tr>\n",
       "      <th>count</th>\n",
       "      <td>538.000000</td>\n",
       "      <td>538.000000</td>\n",
       "      <td>538.000000</td>\n",
       "      <td>538.000000</td>\n",
       "      <td>538.000000</td>\n",
       "    </tr>\n",
       "    <tr>\n",
       "      <th>mean</th>\n",
       "      <td>7.978203</td>\n",
       "      <td>8.330149</td>\n",
       "      <td>0.669344</td>\n",
       "      <td>7.080921</td>\n",
       "      <td>8.563838</td>\n",
       "    </tr>\n",
       "    <tr>\n",
       "      <th>std</th>\n",
       "      <td>0.417938</td>\n",
       "      <td>0.502665</td>\n",
       "      <td>0.206541</td>\n",
       "      <td>0.903521</td>\n",
       "      <td>0.602302</td>\n",
       "    </tr>\n",
       "    <tr>\n",
       "      <th>min</th>\n",
       "      <td>7.138039</td>\n",
       "      <td>7.256611</td>\n",
       "      <td>0.141046</td>\n",
       "      <td>5.972370</td>\n",
       "      <td>7.230792</td>\n",
       "    </tr>\n",
       "    <tr>\n",
       "      <th>25%</th>\n",
       "      <td>7.686390</td>\n",
       "      <td>7.956015</td>\n",
       "      <td>0.529338</td>\n",
       "      <td>6.425320</td>\n",
       "      <td>8.061359</td>\n",
       "    </tr>\n",
       "    <tr>\n",
       "      <th>50%</th>\n",
       "      <td>8.074047</td>\n",
       "      <td>8.466843</td>\n",
       "      <td>0.676287</td>\n",
       "      <td>6.687538</td>\n",
       "      <td>8.798797</td>\n",
       "    </tr>\n",
       "    <tr>\n",
       "      <th>75%</th>\n",
       "      <td>8.286745</td>\n",
       "      <td>8.722929</td>\n",
       "      <td>0.821971</td>\n",
       "      <td>7.898454</td>\n",
       "      <td>9.002373</td>\n",
       "    </tr>\n",
       "    <tr>\n",
       "      <th>max</th>\n",
       "      <td>8.852757</td>\n",
       "      <td>9.152013</td>\n",
       "      <td>1.083654</td>\n",
       "      <td>9.176187</td>\n",
       "      <td>9.452862</td>\n",
       "    </tr>\n",
       "  </tbody>\n",
       "</table>\n",
       "</div>"
      ],
      "text/plain": [
       "            UMAP1       UMAP2       UMAP3       UMAP4       UMAP5\n",
       "count  538.000000  538.000000  538.000000  538.000000  538.000000\n",
       "mean     7.978203    8.330149    0.669344    7.080921    8.563838\n",
       "std      0.417938    0.502665    0.206541    0.903521    0.602302\n",
       "min      7.138039    7.256611    0.141046    5.972370    7.230792\n",
       "25%      7.686390    7.956015    0.529338    6.425320    8.061359\n",
       "50%      8.074047    8.466843    0.676287    6.687538    8.798797\n",
       "75%      8.286745    8.722929    0.821971    7.898454    9.002373\n",
       "max      8.852757    9.152013    1.083654    9.176187    9.452862"
      ]
     },
     "metadata": {},
     "output_type": "display_data"
    },
    {
     "data": {
      "text/plain": [
       "PosixPath('/home/miltondp/projects/labs/greenelab/phenoplier/base/results/data_transformations/umap/umap-z_score_std-diseases_only-projection-smultixcan-efo_partial-mashr-zscores-metric_euclidean-n_components_20-n_neighbors_15-random_state_0.pkl')"
      ]
     },
     "metadata": {},
     "output_type": "display_data"
    },
    {
     "name": "stdout",
     "output_type": "stream",
     "text": [
      "\n",
      "\n",
      "# components: 30\n"
     ]
    },
    {
     "data": {
      "text/plain": [
       "\"UMAP options: {'n_components': 30, 'metric': 'euclidean', 'n_neighbors': 15, 'random_state': 0}\""
      ]
     },
     "metadata": {},
     "output_type": "display_data"
    },
    {
     "data": {
      "text/plain": [
       "(538, 30)"
      ]
     },
     "metadata": {},
     "output_type": "display_data"
    },
    {
     "data": {
      "text/html": [
       "<div>\n",
       "<style scoped>\n",
       "    .dataframe tbody tr th:only-of-type {\n",
       "        vertical-align: middle;\n",
       "    }\n",
       "\n",
       "    .dataframe tbody tr th {\n",
       "        vertical-align: top;\n",
       "    }\n",
       "\n",
       "    .dataframe thead th {\n",
       "        text-align: right;\n",
       "    }\n",
       "</style>\n",
       "<table border=\"1\" class=\"dataframe\">\n",
       "  <thead>\n",
       "    <tr style=\"text-align: right;\">\n",
       "      <th></th>\n",
       "      <th>UMAP1</th>\n",
       "      <th>UMAP2</th>\n",
       "      <th>UMAP3</th>\n",
       "      <th>UMAP4</th>\n",
       "      <th>UMAP5</th>\n",
       "    </tr>\n",
       "  </thead>\n",
       "  <tbody>\n",
       "    <tr>\n",
       "      <th>count</th>\n",
       "      <td>538.000000</td>\n",
       "      <td>538.000000</td>\n",
       "      <td>538.000000</td>\n",
       "      <td>538.000000</td>\n",
       "      <td>538.000000</td>\n",
       "    </tr>\n",
       "    <tr>\n",
       "      <th>mean</th>\n",
       "      <td>7.604849</td>\n",
       "      <td>6.608826</td>\n",
       "      <td>1.008004</td>\n",
       "      <td>8.371486</td>\n",
       "      <td>8.122981</td>\n",
       "    </tr>\n",
       "    <tr>\n",
       "      <th>std</th>\n",
       "      <td>0.582060</td>\n",
       "      <td>0.400803</td>\n",
       "      <td>0.305905</td>\n",
       "      <td>0.281669</td>\n",
       "      <td>0.406049</td>\n",
       "    </tr>\n",
       "    <tr>\n",
       "      <th>min</th>\n",
       "      <td>6.189867</td>\n",
       "      <td>5.933766</td>\n",
       "      <td>0.282447</td>\n",
       "      <td>7.787603</td>\n",
       "      <td>7.245853</td>\n",
       "    </tr>\n",
       "    <tr>\n",
       "      <th>25%</th>\n",
       "      <td>7.154149</td>\n",
       "      <td>6.285422</td>\n",
       "      <td>0.784252</td>\n",
       "      <td>8.169620</td>\n",
       "      <td>7.813241</td>\n",
       "    </tr>\n",
       "    <tr>\n",
       "      <th>50%</th>\n",
       "      <td>7.822647</td>\n",
       "      <td>6.482105</td>\n",
       "      <td>0.912976</td>\n",
       "      <td>8.305836</td>\n",
       "      <td>8.270414</td>\n",
       "    </tr>\n",
       "    <tr>\n",
       "      <th>75%</th>\n",
       "      <td>8.022690</td>\n",
       "      <td>6.922755</td>\n",
       "      <td>1.260287</td>\n",
       "      <td>8.591158</td>\n",
       "      <td>8.409465</td>\n",
       "    </tr>\n",
       "    <tr>\n",
       "      <th>max</th>\n",
       "      <td>8.436460</td>\n",
       "      <td>7.451590</td>\n",
       "      <td>1.666053</td>\n",
       "      <td>9.021709</td>\n",
       "      <td>8.870045</td>\n",
       "    </tr>\n",
       "  </tbody>\n",
       "</table>\n",
       "</div>"
      ],
      "text/plain": [
       "            UMAP1       UMAP2       UMAP3       UMAP4       UMAP5\n",
       "count  538.000000  538.000000  538.000000  538.000000  538.000000\n",
       "mean     7.604849    6.608826    1.008004    8.371486    8.122981\n",
       "std      0.582060    0.400803    0.305905    0.281669    0.406049\n",
       "min      6.189867    5.933766    0.282447    7.787603    7.245853\n",
       "25%      7.154149    6.285422    0.784252    8.169620    7.813241\n",
       "50%      7.822647    6.482105    0.912976    8.305836    8.270414\n",
       "75%      8.022690    6.922755    1.260287    8.591158    8.409465\n",
       "max      8.436460    7.451590    1.666053    9.021709    8.870045"
      ]
     },
     "metadata": {},
     "output_type": "display_data"
    },
    {
     "data": {
      "text/plain": [
       "PosixPath('/home/miltondp/projects/labs/greenelab/phenoplier/base/results/data_transformations/umap/umap-z_score_std-diseases_only-projection-smultixcan-efo_partial-mashr-zscores-metric_euclidean-n_components_30-n_neighbors_15-random_state_0.pkl')"
      ]
     },
     "metadata": {},
     "output_type": "display_data"
    },
    {
     "name": "stdout",
     "output_type": "stream",
     "text": [
      "\n",
      "\n",
      "# components: 40\n"
     ]
    },
    {
     "data": {
      "text/plain": [
       "\"UMAP options: {'n_components': 40, 'metric': 'euclidean', 'n_neighbors': 15, 'random_state': 0}\""
      ]
     },
     "metadata": {},
     "output_type": "display_data"
    },
    {
     "data": {
      "text/plain": [
       "(538, 40)"
      ]
     },
     "metadata": {},
     "output_type": "display_data"
    },
    {
     "data": {
      "text/html": [
       "<div>\n",
       "<style scoped>\n",
       "    .dataframe tbody tr th:only-of-type {\n",
       "        vertical-align: middle;\n",
       "    }\n",
       "\n",
       "    .dataframe tbody tr th {\n",
       "        vertical-align: top;\n",
       "    }\n",
       "\n",
       "    .dataframe thead th {\n",
       "        text-align: right;\n",
       "    }\n",
       "</style>\n",
       "<table border=\"1\" class=\"dataframe\">\n",
       "  <thead>\n",
       "    <tr style=\"text-align: right;\">\n",
       "      <th></th>\n",
       "      <th>UMAP1</th>\n",
       "      <th>UMAP2</th>\n",
       "      <th>UMAP3</th>\n",
       "      <th>UMAP4</th>\n",
       "      <th>UMAP5</th>\n",
       "    </tr>\n",
       "  </thead>\n",
       "  <tbody>\n",
       "    <tr>\n",
       "      <th>count</th>\n",
       "      <td>538.000000</td>\n",
       "      <td>538.000000</td>\n",
       "      <td>538.000000</td>\n",
       "      <td>538.000000</td>\n",
       "      <td>538.000000</td>\n",
       "    </tr>\n",
       "    <tr>\n",
       "      <th>mean</th>\n",
       "      <td>8.585965</td>\n",
       "      <td>7.020704</td>\n",
       "      <td>0.568053</td>\n",
       "      <td>8.039467</td>\n",
       "      <td>7.285839</td>\n",
       "    </tr>\n",
       "    <tr>\n",
       "      <th>std</th>\n",
       "      <td>0.610830</td>\n",
       "      <td>0.406266</td>\n",
       "      <td>0.110515</td>\n",
       "      <td>0.410791</td>\n",
       "      <td>0.349692</td>\n",
       "    </tr>\n",
       "    <tr>\n",
       "      <th>min</th>\n",
       "      <td>7.104117</td>\n",
       "      <td>6.440289</td>\n",
       "      <td>0.283630</td>\n",
       "      <td>7.352534</td>\n",
       "      <td>6.692220</td>\n",
       "    </tr>\n",
       "    <tr>\n",
       "      <th>25%</th>\n",
       "      <td>8.132800</td>\n",
       "      <td>6.717357</td>\n",
       "      <td>0.477170</td>\n",
       "      <td>7.738438</td>\n",
       "      <td>7.039521</td>\n",
       "    </tr>\n",
       "    <tr>\n",
       "      <th>50%</th>\n",
       "      <td>8.859916</td>\n",
       "      <td>6.854170</td>\n",
       "      <td>0.575019</td>\n",
       "      <td>7.896289</td>\n",
       "      <td>7.155464</td>\n",
       "    </tr>\n",
       "    <tr>\n",
       "      <th>75%</th>\n",
       "      <td>9.013637</td>\n",
       "      <td>7.361944</td>\n",
       "      <td>0.644533</td>\n",
       "      <td>8.348965</td>\n",
       "      <td>7.540168</td>\n",
       "    </tr>\n",
       "    <tr>\n",
       "      <th>max</th>\n",
       "      <td>9.408032</td>\n",
       "      <td>7.891867</td>\n",
       "      <td>0.899489</td>\n",
       "      <td>9.034426</td>\n",
       "      <td>8.210412</td>\n",
       "    </tr>\n",
       "  </tbody>\n",
       "</table>\n",
       "</div>"
      ],
      "text/plain": [
       "            UMAP1       UMAP2       UMAP3       UMAP4       UMAP5\n",
       "count  538.000000  538.000000  538.000000  538.000000  538.000000\n",
       "mean     8.585965    7.020704    0.568053    8.039467    7.285839\n",
       "std      0.610830    0.406266    0.110515    0.410791    0.349692\n",
       "min      7.104117    6.440289    0.283630    7.352534    6.692220\n",
       "25%      8.132800    6.717357    0.477170    7.738438    7.039521\n",
       "50%      8.859916    6.854170    0.575019    7.896289    7.155464\n",
       "75%      9.013637    7.361944    0.644533    8.348965    7.540168\n",
       "max      9.408032    7.891867    0.899489    9.034426    8.210412"
      ]
     },
     "metadata": {},
     "output_type": "display_data"
    },
    {
     "data": {
      "text/plain": [
       "PosixPath('/home/miltondp/projects/labs/greenelab/phenoplier/base/results/data_transformations/umap/umap-z_score_std-diseases_only-projection-smultixcan-efo_partial-mashr-zscores-metric_euclidean-n_components_40-n_neighbors_15-random_state_0.pkl')"
      ]
     },
     "metadata": {},
     "output_type": "display_data"
    },
    {
     "name": "stdout",
     "output_type": "stream",
     "text": [
      "\n",
      "\n",
      "# components: 50\n"
     ]
    },
    {
     "data": {
      "text/plain": [
       "\"UMAP options: {'n_components': 50, 'metric': 'euclidean', 'n_neighbors': 15, 'random_state': 0}\""
      ]
     },
     "metadata": {},
     "output_type": "display_data"
    },
    {
     "data": {
      "text/plain": [
       "(538, 50)"
      ]
     },
     "metadata": {},
     "output_type": "display_data"
    },
    {
     "data": {
      "text/html": [
       "<div>\n",
       "<style scoped>\n",
       "    .dataframe tbody tr th:only-of-type {\n",
       "        vertical-align: middle;\n",
       "    }\n",
       "\n",
       "    .dataframe tbody tr th {\n",
       "        vertical-align: top;\n",
       "    }\n",
       "\n",
       "    .dataframe thead th {\n",
       "        text-align: right;\n",
       "    }\n",
       "</style>\n",
       "<table border=\"1\" class=\"dataframe\">\n",
       "  <thead>\n",
       "    <tr style=\"text-align: right;\">\n",
       "      <th></th>\n",
       "      <th>UMAP1</th>\n",
       "      <th>UMAP2</th>\n",
       "      <th>UMAP3</th>\n",
       "      <th>UMAP4</th>\n",
       "      <th>UMAP5</th>\n",
       "    </tr>\n",
       "  </thead>\n",
       "  <tbody>\n",
       "    <tr>\n",
       "      <th>count</th>\n",
       "      <td>538.000000</td>\n",
       "      <td>538.000000</td>\n",
       "      <td>538.000000</td>\n",
       "      <td>538.000000</td>\n",
       "      <td>538.000000</td>\n",
       "    </tr>\n",
       "    <tr>\n",
       "      <th>mean</th>\n",
       "      <td>9.074385</td>\n",
       "      <td>7.175883</td>\n",
       "      <td>0.768414</td>\n",
       "      <td>7.287528</td>\n",
       "      <td>6.949073</td>\n",
       "    </tr>\n",
       "    <tr>\n",
       "      <th>std</th>\n",
       "      <td>0.690890</td>\n",
       "      <td>0.205153</td>\n",
       "      <td>0.216760</td>\n",
       "      <td>0.587101</td>\n",
       "      <td>0.373552</td>\n",
       "    </tr>\n",
       "    <tr>\n",
       "      <th>min</th>\n",
       "      <td>7.521629</td>\n",
       "      <td>6.669611</td>\n",
       "      <td>0.348695</td>\n",
       "      <td>6.566720</td>\n",
       "      <td>6.225085</td>\n",
       "    </tr>\n",
       "    <tr>\n",
       "      <th>25%</th>\n",
       "      <td>8.473097</td>\n",
       "      <td>7.010681</td>\n",
       "      <td>0.617193</td>\n",
       "      <td>6.866107</td>\n",
       "      <td>6.662877</td>\n",
       "    </tr>\n",
       "    <tr>\n",
       "      <th>50%</th>\n",
       "      <td>9.409221</td>\n",
       "      <td>7.218916</td>\n",
       "      <td>0.706145</td>\n",
       "      <td>7.002647</td>\n",
       "      <td>6.862087</td>\n",
       "    </tr>\n",
       "    <tr>\n",
       "      <th>75%</th>\n",
       "      <td>9.573189</td>\n",
       "      <td>7.337743</td>\n",
       "      <td>0.926346</td>\n",
       "      <td>7.778113</td>\n",
       "      <td>7.274144</td>\n",
       "    </tr>\n",
       "    <tr>\n",
       "      <th>max</th>\n",
       "      <td>9.818660</td>\n",
       "      <td>7.557064</td>\n",
       "      <td>1.364857</td>\n",
       "      <td>8.614837</td>\n",
       "      <td>7.763055</td>\n",
       "    </tr>\n",
       "  </tbody>\n",
       "</table>\n",
       "</div>"
      ],
      "text/plain": [
       "            UMAP1       UMAP2       UMAP3       UMAP4       UMAP5\n",
       "count  538.000000  538.000000  538.000000  538.000000  538.000000\n",
       "mean     9.074385    7.175883    0.768414    7.287528    6.949073\n",
       "std      0.690890    0.205153    0.216760    0.587101    0.373552\n",
       "min      7.521629    6.669611    0.348695    6.566720    6.225085\n",
       "25%      8.473097    7.010681    0.617193    6.866107    6.662877\n",
       "50%      9.409221    7.218916    0.706145    7.002647    6.862087\n",
       "75%      9.573189    7.337743    0.926346    7.778113    7.274144\n",
       "max      9.818660    7.557064    1.364857    8.614837    7.763055"
      ]
     },
     "metadata": {},
     "output_type": "display_data"
    },
    {
     "data": {
      "text/plain": [
       "PosixPath('/home/miltondp/projects/labs/greenelab/phenoplier/base/results/data_transformations/umap/umap-z_score_std-diseases_only-projection-smultixcan-efo_partial-mashr-zscores-metric_euclidean-n_components_50-n_neighbors_15-random_state_0.pkl')"
      ]
     },
     "metadata": {},
     "output_type": "display_data"
    },
    {
     "name": "stdout",
     "output_type": "stream",
     "text": [
      "\n",
      "\n"
     ]
    }
   ],
   "source": [
    "# for n_comp, n_neigh in product(DR_OPTIONS['n_components'], DR_OPTIONS['n_neighbors']):\n",
    "for n_comp in DR_OPTIONS['n_components']:\n",
    "    print(f'# components: {n_comp}')\n",
    "    \n",
    "    options = ALL_OPTIONS.copy()\n",
    "    options['n_components'] = n_comp\n",
    "    \n",
    "    dr_data = get_umap_proj(data, options)\n",
    "    \n",
    "    display(dr_data.shape)\n",
    "    assert dr_data.shape == (data.shape[0], n_comp)\n",
    "    \n",
    "    display(dr_data.iloc[:, 0:5].describe())\n",
    "    \n",
    "    # save\n",
    "    output_file = Path(\n",
    "        RESULTS_DIR,\n",
    "        generate_result_set_name(\n",
    "            options,\n",
    "            prefix=f'umap-{input_filepath_stem}-',\n",
    "            suffix='.pkl'\n",
    "        )\n",
    "    ).resolve()\n",
    "    display(output_file)\n",
    "    \n",
    "    dr_data.to_pickle(output_file)\n",
    "    \n",
    "    print('\\n')"
   ]
  },
  {
   "cell_type": "code",
   "execution_count": null,
   "metadata": {
    "papermill": {
     "duration": 0.013829,
     "end_time": "2020-11-24T17:19:13.372346",
     "exception": false,
     "start_time": "2020-11-24T17:19:13.358517",
     "status": "completed"
    },
    "tags": []
   },
   "outputs": [],
   "source": []
  }
 ],
 "metadata": {
  "kernelspec": {
   "display_name": "Python 3",
   "language": "python",
   "name": "python3"
  },
  "language_info": {
   "codemirror_mode": {
    "name": "ipython",
    "version": 3
   },
   "file_extension": ".py",
   "mimetype": "text/x-python",
   "name": "python",
   "nbconvert_exporter": "python",
   "pygments_lexer": "ipython3",
   "version": "3.8.6"
  },
  "papermill": {
   "default_parameters": {},
   "duration": 20.129461,
   "end_time": "2020-11-24T17:19:13.994495",
   "environment_variables": {},
   "exception": null,
   "input_path": "10_data_transformations/000_02-umap.ipynb",
   "output_path": "10_data_transformations/000_02-umap.run.ipynb",
   "parameters": {},
   "start_time": "2020-11-24T17:18:53.865034",
   "version": "2.2.2"
  },
  "toc-autonumbering": true,
  "toc-showcode": false,
  "toc-showmarkdowntxt": false,
  "toc-showtags": false
 },
 "nbformat": 4,
 "nbformat_minor": 4
}