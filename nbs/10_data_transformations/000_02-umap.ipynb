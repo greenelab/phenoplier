{
 "cells": [
  {
   "cell_type": "markdown",
   "metadata": {},
   "source": [
    "# Description"
   ]
  },
  {
   "cell_type": "markdown",
   "metadata": {},
   "source": [
    "It projects input data into a UMAP representation."
   ]
  },
  {
   "cell_type": "markdown",
   "metadata": {},
   "source": [
    "# Modules loading"
   ]
  },
  {
   "cell_type": "code",
   "execution_count": 1,
   "metadata": {},
   "outputs": [],
   "source": [
    "%load_ext autoreload\n",
    "%autoreload 2"
   ]
  },
  {
   "cell_type": "code",
   "execution_count": 2,
   "metadata": {},
   "outputs": [],
   "source": [
    "from pathlib import Path\n",
    "from IPython.display import display\n",
    "\n",
    "import pandas as pd\n",
    "import umap\n",
    "import matplotlib.pyplot as plt\n",
    "import seaborn as sns\n",
    "\n",
    "import conf\n",
    "from utils import generate_result_set_name"
   ]
  },
  {
   "cell_type": "markdown",
   "metadata": {},
   "source": [
    "# Settings"
   ]
  },
  {
   "cell_type": "code",
   "execution_count": 3,
   "metadata": {},
   "outputs": [],
   "source": [
    "INPUT_FILEPATH_STEM = 'diseases_only-projection-smultixcan-efo_partial-mashr-zscores'"
   ]
  },
  {
   "cell_type": "code",
   "execution_count": 4,
   "metadata": {},
   "outputs": [
    {
     "data": {
      "text/plain": [
       "PosixPath('/media/miltondp/Elements1/projects/phenoplier/results/data_transformations/z_score_std/z_score_std-diseases_only-projection-smultixcan-efo_partial-mashr-zscores.pkl')"
      ]
     },
     "metadata": {},
     "output_type": "display_data"
    },
    {
     "data": {
      "text/plain": [
       "'z_score_std-diseases_only-projection-smultixcan-efo_partial-mashr-zscores'"
      ]
     },
     "metadata": {},
     "output_type": "display_data"
    }
   ],
   "source": [
    "INPUT_FILEPATH = Path(\n",
    "    conf.RESULTS[\"DATA_TRANSFORMATIONS_DIR\"],\n",
    "    'z_score_std',\n",
    "    f'z_score_std-{INPUT_FILEPATH_STEM}.pkl',\n",
    ").resolve()\n",
    "display(INPUT_FILEPATH)\n",
    "\n",
    "input_filepath_stem = INPUT_FILEPATH.stem\n",
    "display(input_filepath_stem)"
   ]
  },
  {
   "cell_type": "code",
   "execution_count": 5,
   "metadata": {},
   "outputs": [],
   "source": [
    "# number of components to use in the dimensionality reduction step\n",
    "DR_OPTIONS = {\n",
    "    'n_components': [5, 10, 20, 30, 40, 50],\n",
    "    'metric': 'euclidean',\n",
    "    'n_neighbors': 15,\n",
    "    'random_state': 0,\n",
    "}"
   ]
  },
  {
   "cell_type": "code",
   "execution_count": 6,
   "metadata": {},
   "outputs": [
    {
     "data": {
      "text/plain": [
       "PosixPath('/media/miltondp/Elements1/projects/phenoplier/results/data_transformations/umap')"
      ]
     },
     "metadata": {},
     "output_type": "display_data"
    }
   ],
   "source": [
    "# output dir for this notebook\n",
    "RESULTS_DIR = Path(\n",
    "    conf.RESULTS[\"DATA_TRANSFORMATIONS_DIR\"],\n",
    "    'umap'\n",
    ").resolve()\n",
    "RESULTS_DIR.mkdir(parents=True, exist_ok=True)\n",
    "\n",
    "display(RESULTS_DIR)"
   ]
  },
  {
   "cell_type": "code",
   "execution_count": 7,
   "metadata": {},
   "outputs": [
    {
     "data": {
      "text/plain": [
       "{'n_components': [5, 10, 20, 30, 40, 50],\n",
       " 'metric': 'euclidean',\n",
       " 'n_neighbors': 15,\n",
       " 'random_state': 0}"
      ]
     },
     "metadata": {},
     "output_type": "display_data"
    }
   ],
   "source": [
    "# dictionary containing all options/settings (used to generate filenames)\n",
    "ALL_OPTIONS = DR_OPTIONS.copy()\n",
    "# ALL_OPTIONS['proj_percentile'] = PERCENTILE_NAME\n",
    "\n",
    "display(ALL_OPTIONS)"
   ]
  },
  {
   "cell_type": "markdown",
   "metadata": {},
   "source": [
    "# Load input file"
   ]
  },
  {
   "cell_type": "code",
   "execution_count": 8,
   "metadata": {},
   "outputs": [],
   "source": [
    "data = pd.read_pickle(INPUT_FILEPATH)"
   ]
  },
  {
   "cell_type": "code",
   "execution_count": 9,
   "metadata": {},
   "outputs": [
    {
     "data": {
      "text/plain": [
       "(538, 987)"
      ]
     },
     "execution_count": 9,
     "metadata": {},
     "output_type": "execute_result"
    }
   ],
   "source": [
    "data.shape"
   ]
  },
  {
   "cell_type": "code",
   "execution_count": 10,
   "metadata": {},
   "outputs": [
    {
     "data": {
      "text/html": [
       "<div>\n",
       "<style scoped>\n",
       "    .dataframe tbody tr th:only-of-type {\n",
       "        vertical-align: middle;\n",
       "    }\n",
       "\n",
       "    .dataframe tbody tr th {\n",
       "        vertical-align: top;\n",
       "    }\n",
       "\n",
       "    .dataframe thead th {\n",
       "        text-align: right;\n",
       "    }\n",
       "</style>\n",
       "<table border=\"1\" class=\"dataframe\">\n",
       "  <thead>\n",
       "    <tr style=\"text-align: right;\">\n",
       "      <th></th>\n",
       "      <th>LV1</th>\n",
       "      <th>LV2</th>\n",
       "      <th>LV3</th>\n",
       "      <th>LV4</th>\n",
       "      <th>LV5</th>\n",
       "      <th>LV6</th>\n",
       "      <th>LV7</th>\n",
       "      <th>LV8</th>\n",
       "      <th>LV9</th>\n",
       "      <th>LV10</th>\n",
       "      <th>...</th>\n",
       "      <th>LV978</th>\n",
       "      <th>LV979</th>\n",
       "      <th>LV980</th>\n",
       "      <th>LV981</th>\n",
       "      <th>LV982</th>\n",
       "      <th>LV983</th>\n",
       "      <th>LV984</th>\n",
       "      <th>LV985</th>\n",
       "      <th>LV986</th>\n",
       "      <th>LV987</th>\n",
       "    </tr>\n",
       "  </thead>\n",
       "  <tbody>\n",
       "    <tr>\n",
       "      <th>vascular disease AND intestinal disease</th>\n",
       "      <td>0.374886</td>\n",
       "      <td>0.123010</td>\n",
       "      <td>-0.688734</td>\n",
       "      <td>-0.462234</td>\n",
       "      <td>-0.270475</td>\n",
       "      <td>0.765010</td>\n",
       "      <td>1.101153</td>\n",
       "      <td>0.443515</td>\n",
       "      <td>-2.131315</td>\n",
       "      <td>-1.989014</td>\n",
       "      <td>...</td>\n",
       "      <td>-0.084253</td>\n",
       "      <td>0.291335</td>\n",
       "      <td>-0.829496</td>\n",
       "      <td>-0.944208</td>\n",
       "      <td>0.070689</td>\n",
       "      <td>-0.310739</td>\n",
       "      <td>-1.054390</td>\n",
       "      <td>-0.058465</td>\n",
       "      <td>-1.718400</td>\n",
       "      <td>1.318405</td>\n",
       "    </tr>\n",
       "    <tr>\n",
       "      <th>osteoarthritis, knee</th>\n",
       "      <td>-1.006925</td>\n",
       "      <td>-0.523367</td>\n",
       "      <td>-0.205909</td>\n",
       "      <td>0.845292</td>\n",
       "      <td>-0.520447</td>\n",
       "      <td>-1.567783</td>\n",
       "      <td>-1.392684</td>\n",
       "      <td>-0.697141</td>\n",
       "      <td>2.420293</td>\n",
       "      <td>-1.249693</td>\n",
       "      <td>...</td>\n",
       "      <td>-0.859185</td>\n",
       "      <td>0.803672</td>\n",
       "      <td>-0.792661</td>\n",
       "      <td>0.941227</td>\n",
       "      <td>0.038807</td>\n",
       "      <td>-0.335750</td>\n",
       "      <td>-1.109207</td>\n",
       "      <td>0.426400</td>\n",
       "      <td>1.151830</td>\n",
       "      <td>0.396533</td>\n",
       "    </tr>\n",
       "    <tr>\n",
       "      <th>carpal tunnel syndrome</th>\n",
       "      <td>1.113546</td>\n",
       "      <td>0.801889</td>\n",
       "      <td>-0.165020</td>\n",
       "      <td>-0.339000</td>\n",
       "      <td>-1.401320</td>\n",
       "      <td>-0.825885</td>\n",
       "      <td>-1.224864</td>\n",
       "      <td>0.230387</td>\n",
       "      <td>0.477523</td>\n",
       "      <td>1.075486</td>\n",
       "      <td>...</td>\n",
       "      <td>-0.431015</td>\n",
       "      <td>2.656686</td>\n",
       "      <td>-1.755027</td>\n",
       "      <td>1.159056</td>\n",
       "      <td>-0.570832</td>\n",
       "      <td>-0.572341</td>\n",
       "      <td>0.155003</td>\n",
       "      <td>-0.527333</td>\n",
       "      <td>-1.350922</td>\n",
       "      <td>-0.264405</td>\n",
       "    </tr>\n",
       "    <tr>\n",
       "      <th>gastritis</th>\n",
       "      <td>-1.025944</td>\n",
       "      <td>0.108498</td>\n",
       "      <td>0.328317</td>\n",
       "      <td>-0.294424</td>\n",
       "      <td>-1.267212</td>\n",
       "      <td>-1.419151</td>\n",
       "      <td>-1.460856</td>\n",
       "      <td>1.192783</td>\n",
       "      <td>-0.183589</td>\n",
       "      <td>0.019485</td>\n",
       "      <td>...</td>\n",
       "      <td>1.252517</td>\n",
       "      <td>1.402279</td>\n",
       "      <td>1.354473</td>\n",
       "      <td>0.175315</td>\n",
       "      <td>0.654345</td>\n",
       "      <td>-0.761176</td>\n",
       "      <td>0.942745</td>\n",
       "      <td>-0.181810</td>\n",
       "      <td>0.574468</td>\n",
       "      <td>1.381791</td>\n",
       "    </tr>\n",
       "    <tr>\n",
       "      <th>neoplasm</th>\n",
       "      <td>0.400556</td>\n",
       "      <td>0.014828</td>\n",
       "      <td>-0.525315</td>\n",
       "      <td>0.561977</td>\n",
       "      <td>0.252577</td>\n",
       "      <td>-0.734367</td>\n",
       "      <td>0.345537</td>\n",
       "      <td>1.808464</td>\n",
       "      <td>-0.741470</td>\n",
       "      <td>0.529550</td>\n",
       "      <td>...</td>\n",
       "      <td>-0.175486</td>\n",
       "      <td>-0.224286</td>\n",
       "      <td>0.254540</td>\n",
       "      <td>-0.302883</td>\n",
       "      <td>-0.583656</td>\n",
       "      <td>0.798698</td>\n",
       "      <td>0.653916</td>\n",
       "      <td>0.555870</td>\n",
       "      <td>1.097121</td>\n",
       "      <td>-1.205670</td>\n",
       "    </tr>\n",
       "  </tbody>\n",
       "</table>\n",
       "<p>5 rows × 987 columns</p>\n",
       "</div>"
      ],
      "text/plain": [
       "                                              LV1       LV2       LV3  \\\n",
       "vascular disease AND intestinal disease  0.374886  0.123010 -0.688734   \n",
       "osteoarthritis, knee                    -1.006925 -0.523367 -0.205909   \n",
       "carpal tunnel syndrome                   1.113546  0.801889 -0.165020   \n",
       "gastritis                               -1.025944  0.108498  0.328317   \n",
       "neoplasm                                 0.400556  0.014828 -0.525315   \n",
       "\n",
       "                                              LV4       LV5       LV6  \\\n",
       "vascular disease AND intestinal disease -0.462234 -0.270475  0.765010   \n",
       "osteoarthritis, knee                     0.845292 -0.520447 -1.567783   \n",
       "carpal tunnel syndrome                  -0.339000 -1.401320 -0.825885   \n",
       "gastritis                               -0.294424 -1.267212 -1.419151   \n",
       "neoplasm                                 0.561977  0.252577 -0.734367   \n",
       "\n",
       "                                              LV7       LV8       LV9  \\\n",
       "vascular disease AND intestinal disease  1.101153  0.443515 -2.131315   \n",
       "osteoarthritis, knee                    -1.392684 -0.697141  2.420293   \n",
       "carpal tunnel syndrome                  -1.224864  0.230387  0.477523   \n",
       "gastritis                               -1.460856  1.192783 -0.183589   \n",
       "neoplasm                                 0.345537  1.808464 -0.741470   \n",
       "\n",
       "                                             LV10  ...     LV978     LV979  \\\n",
       "vascular disease AND intestinal disease -1.989014  ... -0.084253  0.291335   \n",
       "osteoarthritis, knee                    -1.249693  ... -0.859185  0.803672   \n",
       "carpal tunnel syndrome                   1.075486  ... -0.431015  2.656686   \n",
       "gastritis                                0.019485  ...  1.252517  1.402279   \n",
       "neoplasm                                 0.529550  ... -0.175486 -0.224286   \n",
       "\n",
       "                                            LV980     LV981     LV982  \\\n",
       "vascular disease AND intestinal disease -0.829496 -0.944208  0.070689   \n",
       "osteoarthritis, knee                    -0.792661  0.941227  0.038807   \n",
       "carpal tunnel syndrome                  -1.755027  1.159056 -0.570832   \n",
       "gastritis                                1.354473  0.175315  0.654345   \n",
       "neoplasm                                 0.254540 -0.302883 -0.583656   \n",
       "\n",
       "                                            LV983     LV984     LV985  \\\n",
       "vascular disease AND intestinal disease -0.310739 -1.054390 -0.058465   \n",
       "osteoarthritis, knee                    -0.335750 -1.109207  0.426400   \n",
       "carpal tunnel syndrome                  -0.572341  0.155003 -0.527333   \n",
       "gastritis                               -0.761176  0.942745 -0.181810   \n",
       "neoplasm                                 0.798698  0.653916  0.555870   \n",
       "\n",
       "                                            LV986     LV987  \n",
       "vascular disease AND intestinal disease -1.718400  1.318405  \n",
       "osteoarthritis, knee                     1.151830  0.396533  \n",
       "carpal tunnel syndrome                  -1.350922 -0.264405  \n",
       "gastritis                                0.574468  1.381791  \n",
       "neoplasm                                 1.097121 -1.205670  \n",
       "\n",
       "[5 rows x 987 columns]"
      ]
     },
     "execution_count": 10,
     "metadata": {},
     "output_type": "execute_result"
    }
   ],
   "source": [
    "data.head()"
   ]
  },
  {
   "cell_type": "markdown",
   "metadata": {},
   "source": [
    "# UMAP"
   ]
  },
  {
   "cell_type": "code",
   "execution_count": 11,
   "metadata": {},
   "outputs": [],
   "source": [
    "def get_umap_proj(orig_data, options):\n",
    "    umap_options = {k:v for k, v in options.items() if k in DR_OPTIONS}\n",
    "    display(f'UMAP options: {umap_options}')\n",
    "    umap_obj = umap.UMAP(**umap_options)\n",
    "    umap_obj = umap_obj.fit(orig_data)\n",
    "    umap_data = umap_obj.transform(orig_data)\n",
    "    return pd.DataFrame(\n",
    "        data=umap_data,\n",
    "        index=orig_data.index.copy(),\n",
    "        columns=[f'UMAP{i+1}' for i in range(umap_data.shape[1])]\n",
    "    )"
   ]
  },
  {
   "cell_type": "code",
   "execution_count": 12,
   "metadata": {},
   "outputs": [
    {
     "name": "stdout",
     "output_type": "stream",
     "text": [
      "# components: 5\n"
     ]
    },
    {
     "data": {
      "text/plain": [
       "\"UMAP options: {'n_components': 5, 'metric': 'euclidean', 'n_neighbors': 15, 'random_state': 0}\""
      ]
     },
     "metadata": {},
     "output_type": "display_data"
    },
    {
     "data": {
      "text/plain": [
       "(538, 5)"
      ]
     },
     "metadata": {},
     "output_type": "display_data"
    },
    {
     "data": {
      "text/html": [
       "<div>\n",
       "<style scoped>\n",
       "    .dataframe tbody tr th:only-of-type {\n",
       "        vertical-align: middle;\n",
       "    }\n",
       "\n",
       "    .dataframe tbody tr th {\n",
       "        vertical-align: top;\n",
       "    }\n",
       "\n",
       "    .dataframe thead th {\n",
       "        text-align: right;\n",
       "    }\n",
       "</style>\n",
       "<table border=\"1\" class=\"dataframe\">\n",
       "  <thead>\n",
       "    <tr style=\"text-align: right;\">\n",
       "      <th></th>\n",
       "      <th>UMAP1</th>\n",
       "      <th>UMAP2</th>\n",
       "      <th>UMAP3</th>\n",
       "      <th>UMAP4</th>\n",
       "      <th>UMAP5</th>\n",
       "    </tr>\n",
       "  </thead>\n",
       "  <tbody>\n",
       "    <tr>\n",
       "      <th>count</th>\n",
       "      <td>538.000000</td>\n",
       "      <td>538.000000</td>\n",
       "      <td>538.000000</td>\n",
       "      <td>538.000000</td>\n",
       "      <td>538.000000</td>\n",
       "    </tr>\n",
       "    <tr>\n",
       "      <th>mean</th>\n",
       "      <td>7.969610</td>\n",
       "      <td>4.574231</td>\n",
       "      <td>12.713342</td>\n",
       "      <td>7.108882</td>\n",
       "      <td>9.851263</td>\n",
       "    </tr>\n",
       "    <tr>\n",
       "      <th>std</th>\n",
       "      <td>0.406659</td>\n",
       "      <td>0.877489</td>\n",
       "      <td>1.562392</td>\n",
       "      <td>0.795271</td>\n",
       "      <td>0.473089</td>\n",
       "    </tr>\n",
       "    <tr>\n",
       "      <th>min</th>\n",
       "      <td>6.965586</td>\n",
       "      <td>3.061604</td>\n",
       "      <td>9.060485</td>\n",
       "      <td>5.736965</td>\n",
       "      <td>8.937288</td>\n",
       "    </tr>\n",
       "    <tr>\n",
       "      <th>25%</th>\n",
       "      <td>7.675872</td>\n",
       "      <td>3.913773</td>\n",
       "      <td>11.471681</td>\n",
       "      <td>6.477954</td>\n",
       "      <td>9.443687</td>\n",
       "    </tr>\n",
       "    <tr>\n",
       "      <th>50%</th>\n",
       "      <td>8.002914</td>\n",
       "      <td>4.366972</td>\n",
       "      <td>13.436659</td>\n",
       "      <td>6.964344</td>\n",
       "      <td>9.768209</td>\n",
       "    </tr>\n",
       "    <tr>\n",
       "      <th>75%</th>\n",
       "      <td>8.257460</td>\n",
       "      <td>5.254064</td>\n",
       "      <td>13.865288</td>\n",
       "      <td>7.724038</td>\n",
       "      <td>10.224056</td>\n",
       "    </tr>\n",
       "    <tr>\n",
       "      <th>max</th>\n",
       "      <td>9.106561</td>\n",
       "      <td>6.588826</td>\n",
       "      <td>14.614759</td>\n",
       "      <td>8.692741</td>\n",
       "      <td>11.043744</td>\n",
       "    </tr>\n",
       "  </tbody>\n",
       "</table>\n",
       "</div>"
      ],
      "text/plain": [
       "            UMAP1       UMAP2       UMAP3       UMAP4       UMAP5\n",
       "count  538.000000  538.000000  538.000000  538.000000  538.000000\n",
       "mean     7.969610    4.574231   12.713342    7.108882    9.851263\n",
       "std      0.406659    0.877489    1.562392    0.795271    0.473089\n",
       "min      6.965586    3.061604    9.060485    5.736965    8.937288\n",
       "25%      7.675872    3.913773   11.471681    6.477954    9.443687\n",
       "50%      8.002914    4.366972   13.436659    6.964344    9.768209\n",
       "75%      8.257460    5.254064   13.865288    7.724038   10.224056\n",
       "max      9.106561    6.588826   14.614759    8.692741   11.043744"
      ]
     },
     "metadata": {},
     "output_type": "display_data"
    },
    {
     "data": {
      "text/plain": [
       "PosixPath('/media/miltondp/Elements1/projects/phenoplier/results/data_transformations/umap/umap-z_score_std-diseases_only-projection-smultixcan-efo_partial-mashr-zscores-metric_euclidean-n_components_5-n_neighbors_15-random_state_0.pkl')"
      ]
     },
     "metadata": {},
     "output_type": "display_data"
    },
    {
     "name": "stdout",
     "output_type": "stream",
     "text": [
      "\n",
      "\n",
      "# components: 10\n"
     ]
    },
    {
     "data": {
      "text/plain": [
       "\"UMAP options: {'n_components': 10, 'metric': 'euclidean', 'n_neighbors': 15, 'random_state': 0}\""
      ]
     },
     "metadata": {},
     "output_type": "display_data"
    },
    {
     "data": {
      "text/plain": [
       "(538, 10)"
      ]
     },
     "metadata": {},
     "output_type": "display_data"
    },
    {
     "data": {
      "text/html": [
       "<div>\n",
       "<style scoped>\n",
       "    .dataframe tbody tr th:only-of-type {\n",
       "        vertical-align: middle;\n",
       "    }\n",
       "\n",
       "    .dataframe tbody tr th {\n",
       "        vertical-align: top;\n",
       "    }\n",
       "\n",
       "    .dataframe thead th {\n",
       "        text-align: right;\n",
       "    }\n",
       "</style>\n",
       "<table border=\"1\" class=\"dataframe\">\n",
       "  <thead>\n",
       "    <tr style=\"text-align: right;\">\n",
       "      <th></th>\n",
       "      <th>UMAP1</th>\n",
       "      <th>UMAP2</th>\n",
       "      <th>UMAP3</th>\n",
       "      <th>UMAP4</th>\n",
       "      <th>UMAP5</th>\n",
       "    </tr>\n",
       "  </thead>\n",
       "  <tbody>\n",
       "    <tr>\n",
       "      <th>count</th>\n",
       "      <td>538.000000</td>\n",
       "      <td>538.000000</td>\n",
       "      <td>538.000000</td>\n",
       "      <td>538.000000</td>\n",
       "      <td>538.000000</td>\n",
       "    </tr>\n",
       "    <tr>\n",
       "      <th>mean</th>\n",
       "      <td>10.263988</td>\n",
       "      <td>6.099322</td>\n",
       "      <td>10.310119</td>\n",
       "      <td>5.472342</td>\n",
       "      <td>8.682941</td>\n",
       "    </tr>\n",
       "    <tr>\n",
       "      <th>std</th>\n",
       "      <td>0.998204</td>\n",
       "      <td>0.291843</td>\n",
       "      <td>0.290281</td>\n",
       "      <td>1.061089</td>\n",
       "      <td>0.349931</td>\n",
       "    </tr>\n",
       "    <tr>\n",
       "      <th>min</th>\n",
       "      <td>7.834297</td>\n",
       "      <td>5.231123</td>\n",
       "      <td>9.715877</td>\n",
       "      <td>4.069211</td>\n",
       "      <td>8.010818</td>\n",
       "    </tr>\n",
       "    <tr>\n",
       "      <th>25%</th>\n",
       "      <td>9.440652</td>\n",
       "      <td>5.909181</td>\n",
       "      <td>10.107491</td>\n",
       "      <td>4.679148</td>\n",
       "      <td>8.393363</td>\n",
       "    </tr>\n",
       "    <tr>\n",
       "      <th>50%</th>\n",
       "      <td>10.692434</td>\n",
       "      <td>6.077678</td>\n",
       "      <td>10.295436</td>\n",
       "      <td>5.033515</td>\n",
       "      <td>8.658119</td>\n",
       "    </tr>\n",
       "    <tr>\n",
       "      <th>75%</th>\n",
       "      <td>10.973258</td>\n",
       "      <td>6.288956</td>\n",
       "      <td>10.499251</td>\n",
       "      <td>6.303513</td>\n",
       "      <td>8.934837</td>\n",
       "    </tr>\n",
       "    <tr>\n",
       "      <th>max</th>\n",
       "      <td>11.536099</td>\n",
       "      <td>6.867320</td>\n",
       "      <td>11.057426</td>\n",
       "      <td>7.902147</td>\n",
       "      <td>9.532352</td>\n",
       "    </tr>\n",
       "  </tbody>\n",
       "</table>\n",
       "</div>"
      ],
      "text/plain": [
       "            UMAP1       UMAP2       UMAP3       UMAP4       UMAP5\n",
       "count  538.000000  538.000000  538.000000  538.000000  538.000000\n",
       "mean    10.263988    6.099322   10.310119    5.472342    8.682941\n",
       "std      0.998204    0.291843    0.290281    1.061089    0.349931\n",
       "min      7.834297    5.231123    9.715877    4.069211    8.010818\n",
       "25%      9.440652    5.909181   10.107491    4.679148    8.393363\n",
       "50%     10.692434    6.077678   10.295436    5.033515    8.658119\n",
       "75%     10.973258    6.288956   10.499251    6.303513    8.934837\n",
       "max     11.536099    6.867320   11.057426    7.902147    9.532352"
      ]
     },
     "metadata": {},
     "output_type": "display_data"
    },
    {
     "data": {
      "text/plain": [
       "PosixPath('/media/miltondp/Elements1/projects/phenoplier/results/data_transformations/umap/umap-z_score_std-diseases_only-projection-smultixcan-efo_partial-mashr-zscores-metric_euclidean-n_components_10-n_neighbors_15-random_state_0.pkl')"
      ]
     },
     "metadata": {},
     "output_type": "display_data"
    },
    {
     "name": "stdout",
     "output_type": "stream",
     "text": [
      "\n",
      "\n",
      "# components: 20\n"
     ]
    },
    {
     "data": {
      "text/plain": [
       "\"UMAP options: {'n_components': 20, 'metric': 'euclidean', 'n_neighbors': 15, 'random_state': 0}\""
      ]
     },
     "metadata": {},
     "output_type": "display_data"
    },
    {
     "data": {
      "text/plain": [
       "(538, 20)"
      ]
     },
     "metadata": {},
     "output_type": "display_data"
    },
    {
     "data": {
      "text/html": [
       "<div>\n",
       "<style scoped>\n",
       "    .dataframe tbody tr th:only-of-type {\n",
       "        vertical-align: middle;\n",
       "    }\n",
       "\n",
       "    .dataframe tbody tr th {\n",
       "        vertical-align: top;\n",
       "    }\n",
       "\n",
       "    .dataframe thead th {\n",
       "        text-align: right;\n",
       "    }\n",
       "</style>\n",
       "<table border=\"1\" class=\"dataframe\">\n",
       "  <thead>\n",
       "    <tr style=\"text-align: right;\">\n",
       "      <th></th>\n",
       "      <th>UMAP1</th>\n",
       "      <th>UMAP2</th>\n",
       "      <th>UMAP3</th>\n",
       "      <th>UMAP4</th>\n",
       "      <th>UMAP5</th>\n",
       "    </tr>\n",
       "  </thead>\n",
       "  <tbody>\n",
       "    <tr>\n",
       "      <th>count</th>\n",
       "      <td>538.000000</td>\n",
       "      <td>538.000000</td>\n",
       "      <td>538.000000</td>\n",
       "      <td>538.000000</td>\n",
       "      <td>538.000000</td>\n",
       "    </tr>\n",
       "    <tr>\n",
       "      <th>mean</th>\n",
       "      <td>7.354422</td>\n",
       "      <td>6.238368</td>\n",
       "      <td>0.198971</td>\n",
       "      <td>7.641459</td>\n",
       "      <td>9.150332</td>\n",
       "    </tr>\n",
       "    <tr>\n",
       "      <th>std</th>\n",
       "      <td>0.885932</td>\n",
       "      <td>0.520133</td>\n",
       "      <td>0.213093</td>\n",
       "      <td>0.429021</td>\n",
       "      <td>0.286663</td>\n",
       "    </tr>\n",
       "    <tr>\n",
       "      <th>min</th>\n",
       "      <td>5.086062</td>\n",
       "      <td>5.393691</td>\n",
       "      <td>-0.548934</td>\n",
       "      <td>6.918926</td>\n",
       "      <td>8.421145</td>\n",
       "    </tr>\n",
       "    <tr>\n",
       "      <th>25%</th>\n",
       "      <td>6.537240</td>\n",
       "      <td>5.862307</td>\n",
       "      <td>0.054211</td>\n",
       "      <td>7.318420</td>\n",
       "      <td>8.918267</td>\n",
       "    </tr>\n",
       "    <tr>\n",
       "      <th>50%</th>\n",
       "      <td>7.700912</td>\n",
       "      <td>6.040362</td>\n",
       "      <td>0.220266</td>\n",
       "      <td>7.524281</td>\n",
       "      <td>9.181055</td>\n",
       "    </tr>\n",
       "    <tr>\n",
       "      <th>75%</th>\n",
       "      <td>7.992031</td>\n",
       "      <td>6.681155</td>\n",
       "      <td>0.378360</td>\n",
       "      <td>8.005546</td>\n",
       "      <td>9.355865</td>\n",
       "    </tr>\n",
       "    <tr>\n",
       "      <th>max</th>\n",
       "      <td>8.683851</td>\n",
       "      <td>7.341183</td>\n",
       "      <td>0.631639</td>\n",
       "      <td>8.620175</td>\n",
       "      <td>9.837655</td>\n",
       "    </tr>\n",
       "  </tbody>\n",
       "</table>\n",
       "</div>"
      ],
      "text/plain": [
       "            UMAP1       UMAP2       UMAP3       UMAP4       UMAP5\n",
       "count  538.000000  538.000000  538.000000  538.000000  538.000000\n",
       "mean     7.354422    6.238368    0.198971    7.641459    9.150332\n",
       "std      0.885932    0.520133    0.213093    0.429021    0.286663\n",
       "min      5.086062    5.393691   -0.548934    6.918926    8.421145\n",
       "25%      6.537240    5.862307    0.054211    7.318420    8.918267\n",
       "50%      7.700912    6.040362    0.220266    7.524281    9.181055\n",
       "75%      7.992031    6.681155    0.378360    8.005546    9.355865\n",
       "max      8.683851    7.341183    0.631639    8.620175    9.837655"
      ]
     },
     "metadata": {},
     "output_type": "display_data"
    },
    {
     "data": {
      "text/plain": [
       "PosixPath('/media/miltondp/Elements1/projects/phenoplier/results/data_transformations/umap/umap-z_score_std-diseases_only-projection-smultixcan-efo_partial-mashr-zscores-metric_euclidean-n_components_20-n_neighbors_15-random_state_0.pkl')"
      ]
     },
     "metadata": {},
     "output_type": "display_data"
    },
    {
     "name": "stdout",
     "output_type": "stream",
     "text": [
      "\n",
      "\n",
      "# components: 30\n"
     ]
    },
    {
     "data": {
      "text/plain": [
       "\"UMAP options: {'n_components': 30, 'metric': 'euclidean', 'n_neighbors': 15, 'random_state': 0}\""
      ]
     },
     "metadata": {},
     "output_type": "display_data"
    },
    {
     "data": {
      "text/plain": [
       "(538, 30)"
      ]
     },
     "metadata": {},
     "output_type": "display_data"
    },
    {
     "data": {
      "text/html": [
       "<div>\n",
       "<style scoped>\n",
       "    .dataframe tbody tr th:only-of-type {\n",
       "        vertical-align: middle;\n",
       "    }\n",
       "\n",
       "    .dataframe tbody tr th {\n",
       "        vertical-align: top;\n",
       "    }\n",
       "\n",
       "    .dataframe thead th {\n",
       "        text-align: right;\n",
       "    }\n",
       "</style>\n",
       "<table border=\"1\" class=\"dataframe\">\n",
       "  <thead>\n",
       "    <tr style=\"text-align: right;\">\n",
       "      <th></th>\n",
       "      <th>UMAP1</th>\n",
       "      <th>UMAP2</th>\n",
       "      <th>UMAP3</th>\n",
       "      <th>UMAP4</th>\n",
       "      <th>UMAP5</th>\n",
       "    </tr>\n",
       "  </thead>\n",
       "  <tbody>\n",
       "    <tr>\n",
       "      <th>count</th>\n",
       "      <td>538.000000</td>\n",
       "      <td>538.000000</td>\n",
       "      <td>538.000000</td>\n",
       "      <td>538.000000</td>\n",
       "      <td>538.000000</td>\n",
       "    </tr>\n",
       "    <tr>\n",
       "      <th>mean</th>\n",
       "      <td>9.214407</td>\n",
       "      <td>6.154930</td>\n",
       "      <td>1.578305</td>\n",
       "      <td>8.588137</td>\n",
       "      <td>8.855339</td>\n",
       "    </tr>\n",
       "    <tr>\n",
       "      <th>std</th>\n",
       "      <td>0.869742</td>\n",
       "      <td>0.289568</td>\n",
       "      <td>0.134017</td>\n",
       "      <td>0.348848</td>\n",
       "      <td>0.184242</td>\n",
       "    </tr>\n",
       "    <tr>\n",
       "      <th>min</th>\n",
       "      <td>7.071675</td>\n",
       "      <td>5.613863</td>\n",
       "      <td>1.279797</td>\n",
       "      <td>7.900719</td>\n",
       "      <td>8.492102</td>\n",
       "    </tr>\n",
       "    <tr>\n",
       "      <th>25%</th>\n",
       "      <td>8.514426</td>\n",
       "      <td>5.929752</td>\n",
       "      <td>1.476557</td>\n",
       "      <td>8.262686</td>\n",
       "      <td>8.710660</td>\n",
       "    </tr>\n",
       "    <tr>\n",
       "      <th>50%</th>\n",
       "      <td>9.659132</td>\n",
       "      <td>6.074119</td>\n",
       "      <td>1.560822</td>\n",
       "      <td>8.686519</td>\n",
       "      <td>8.830552</td>\n",
       "    </tr>\n",
       "    <tr>\n",
       "      <th>75%</th>\n",
       "      <td>9.826126</td>\n",
       "      <td>6.376080</td>\n",
       "      <td>1.663226</td>\n",
       "      <td>8.869854</td>\n",
       "      <td>8.977724</td>\n",
       "    </tr>\n",
       "    <tr>\n",
       "      <th>max</th>\n",
       "      <td>10.239880</td>\n",
       "      <td>6.848249</td>\n",
       "      <td>1.959341</td>\n",
       "      <td>9.208960</td>\n",
       "      <td>9.386401</td>\n",
       "    </tr>\n",
       "  </tbody>\n",
       "</table>\n",
       "</div>"
      ],
      "text/plain": [
       "            UMAP1       UMAP2       UMAP3       UMAP4       UMAP5\n",
       "count  538.000000  538.000000  538.000000  538.000000  538.000000\n",
       "mean     9.214407    6.154930    1.578305    8.588137    8.855339\n",
       "std      0.869742    0.289568    0.134017    0.348848    0.184242\n",
       "min      7.071675    5.613863    1.279797    7.900719    8.492102\n",
       "25%      8.514426    5.929752    1.476557    8.262686    8.710660\n",
       "50%      9.659132    6.074119    1.560822    8.686519    8.830552\n",
       "75%      9.826126    6.376080    1.663226    8.869854    8.977724\n",
       "max     10.239880    6.848249    1.959341    9.208960    9.386401"
      ]
     },
     "metadata": {},
     "output_type": "display_data"
    },
    {
     "data": {
      "text/plain": [
       "PosixPath('/media/miltondp/Elements1/projects/phenoplier/results/data_transformations/umap/umap-z_score_std-diseases_only-projection-smultixcan-efo_partial-mashr-zscores-metric_euclidean-n_components_30-n_neighbors_15-random_state_0.pkl')"
      ]
     },
     "metadata": {},
     "output_type": "display_data"
    },
    {
     "name": "stdout",
     "output_type": "stream",
     "text": [
      "\n",
      "\n",
      "# components: 40\n"
     ]
    },
    {
     "data": {
      "text/plain": [
       "\"UMAP options: {'n_components': 40, 'metric': 'euclidean', 'n_neighbors': 15, 'random_state': 0}\""
      ]
     },
     "metadata": {},
     "output_type": "display_data"
    },
    {
     "data": {
      "text/plain": [
       "(538, 40)"
      ]
     },
     "metadata": {},
     "output_type": "display_data"
    },
    {
     "data": {
      "text/html": [
       "<div>\n",
       "<style scoped>\n",
       "    .dataframe tbody tr th:only-of-type {\n",
       "        vertical-align: middle;\n",
       "    }\n",
       "\n",
       "    .dataframe tbody tr th {\n",
       "        vertical-align: top;\n",
       "    }\n",
       "\n",
       "    .dataframe thead th {\n",
       "        text-align: right;\n",
       "    }\n",
       "</style>\n",
       "<table border=\"1\" class=\"dataframe\">\n",
       "  <thead>\n",
       "    <tr style=\"text-align: right;\">\n",
       "      <th></th>\n",
       "      <th>UMAP1</th>\n",
       "      <th>UMAP2</th>\n",
       "      <th>UMAP3</th>\n",
       "      <th>UMAP4</th>\n",
       "      <th>UMAP5</th>\n",
       "    </tr>\n",
       "  </thead>\n",
       "  <tbody>\n",
       "    <tr>\n",
       "      <th>count</th>\n",
       "      <td>538.000000</td>\n",
       "      <td>538.000000</td>\n",
       "      <td>538.000000</td>\n",
       "      <td>538.000000</td>\n",
       "      <td>538.000000</td>\n",
       "    </tr>\n",
       "    <tr>\n",
       "      <th>mean</th>\n",
       "      <td>8.146441</td>\n",
       "      <td>7.761971</td>\n",
       "      <td>-0.047784</td>\n",
       "      <td>8.418512</td>\n",
       "      <td>7.675556</td>\n",
       "    </tr>\n",
       "    <tr>\n",
       "      <th>std</th>\n",
       "      <td>0.473701</td>\n",
       "      <td>0.125247</td>\n",
       "      <td>0.114372</td>\n",
       "      <td>0.100080</td>\n",
       "      <td>0.323692</td>\n",
       "    </tr>\n",
       "    <tr>\n",
       "      <th>min</th>\n",
       "      <td>7.082050</td>\n",
       "      <td>7.412344</td>\n",
       "      <td>-0.358256</td>\n",
       "      <td>8.070831</td>\n",
       "      <td>7.018172</td>\n",
       "    </tr>\n",
       "    <tr>\n",
       "      <th>25%</th>\n",
       "      <td>7.771304</td>\n",
       "      <td>7.669454</td>\n",
       "      <td>-0.136633</td>\n",
       "      <td>8.356688</td>\n",
       "      <td>7.428970</td>\n",
       "    </tr>\n",
       "    <tr>\n",
       "      <th>50%</th>\n",
       "      <td>8.297474</td>\n",
       "      <td>7.761039</td>\n",
       "      <td>-0.058676</td>\n",
       "      <td>8.420005</td>\n",
       "      <td>7.596699</td>\n",
       "    </tr>\n",
       "    <tr>\n",
       "      <th>75%</th>\n",
       "      <td>8.501098</td>\n",
       "      <td>7.843117</td>\n",
       "      <td>0.027200</td>\n",
       "      <td>8.484340</td>\n",
       "      <td>7.884751</td>\n",
       "    </tr>\n",
       "    <tr>\n",
       "      <th>max</th>\n",
       "      <td>8.920479</td>\n",
       "      <td>8.120782</td>\n",
       "      <td>0.361525</td>\n",
       "      <td>8.782947</td>\n",
       "      <td>8.382937</td>\n",
       "    </tr>\n",
       "  </tbody>\n",
       "</table>\n",
       "</div>"
      ],
      "text/plain": [
       "            UMAP1       UMAP2       UMAP3       UMAP4       UMAP5\n",
       "count  538.000000  538.000000  538.000000  538.000000  538.000000\n",
       "mean     8.146441    7.761971   -0.047784    8.418512    7.675556\n",
       "std      0.473701    0.125247    0.114372    0.100080    0.323692\n",
       "min      7.082050    7.412344   -0.358256    8.070831    7.018172\n",
       "25%      7.771304    7.669454   -0.136633    8.356688    7.428970\n",
       "50%      8.297474    7.761039   -0.058676    8.420005    7.596699\n",
       "75%      8.501098    7.843117    0.027200    8.484340    7.884751\n",
       "max      8.920479    8.120782    0.361525    8.782947    8.382937"
      ]
     },
     "metadata": {},
     "output_type": "display_data"
    },
    {
     "data": {
      "text/plain": [
       "PosixPath('/media/miltondp/Elements1/projects/phenoplier/results/data_transformations/umap/umap-z_score_std-diseases_only-projection-smultixcan-efo_partial-mashr-zscores-metric_euclidean-n_components_40-n_neighbors_15-random_state_0.pkl')"
      ]
     },
     "metadata": {},
     "output_type": "display_data"
    },
    {
     "name": "stdout",
     "output_type": "stream",
     "text": [
      "\n",
      "\n",
      "# components: 50\n"
     ]
    },
    {
     "data": {
      "text/plain": [
       "\"UMAP options: {'n_components': 50, 'metric': 'euclidean', 'n_neighbors': 15, 'random_state': 0}\""
      ]
     },
     "metadata": {},
     "output_type": "display_data"
    },
    {
     "data": {
      "text/plain": [
       "(538, 50)"
      ]
     },
     "metadata": {},
     "output_type": "display_data"
    },
    {
     "data": {
      "text/html": [
       "<div>\n",
       "<style scoped>\n",
       "    .dataframe tbody tr th:only-of-type {\n",
       "        vertical-align: middle;\n",
       "    }\n",
       "\n",
       "    .dataframe tbody tr th {\n",
       "        vertical-align: top;\n",
       "    }\n",
       "\n",
       "    .dataframe thead th {\n",
       "        text-align: right;\n",
       "    }\n",
       "</style>\n",
       "<table border=\"1\" class=\"dataframe\">\n",
       "  <thead>\n",
       "    <tr style=\"text-align: right;\">\n",
       "      <th></th>\n",
       "      <th>UMAP1</th>\n",
       "      <th>UMAP2</th>\n",
       "      <th>UMAP3</th>\n",
       "      <th>UMAP4</th>\n",
       "      <th>UMAP5</th>\n",
       "    </tr>\n",
       "  </thead>\n",
       "  <tbody>\n",
       "    <tr>\n",
       "      <th>count</th>\n",
       "      <td>538.000000</td>\n",
       "      <td>538.000000</td>\n",
       "      <td>538.000000</td>\n",
       "      <td>538.000000</td>\n",
       "      <td>538.000000</td>\n",
       "    </tr>\n",
       "    <tr>\n",
       "      <th>mean</th>\n",
       "      <td>7.478360</td>\n",
       "      <td>7.180451</td>\n",
       "      <td>0.199628</td>\n",
       "      <td>8.971105</td>\n",
       "      <td>6.837708</td>\n",
       "    </tr>\n",
       "    <tr>\n",
       "      <th>std</th>\n",
       "      <td>0.470957</td>\n",
       "      <td>0.239597</td>\n",
       "      <td>0.192417</td>\n",
       "      <td>0.156052</td>\n",
       "      <td>0.638597</td>\n",
       "    </tr>\n",
       "    <tr>\n",
       "      <th>min</th>\n",
       "      <td>6.446760</td>\n",
       "      <td>6.688674</td>\n",
       "      <td>-0.193593</td>\n",
       "      <td>8.587032</td>\n",
       "      <td>5.959533</td>\n",
       "    </tr>\n",
       "    <tr>\n",
       "      <th>25%</th>\n",
       "      <td>7.074446</td>\n",
       "      <td>7.000153</td>\n",
       "      <td>0.048597</td>\n",
       "      <td>8.866159</td>\n",
       "      <td>6.389824</td>\n",
       "    </tr>\n",
       "    <tr>\n",
       "      <th>50%</th>\n",
       "      <td>7.681846</td>\n",
       "      <td>7.163648</td>\n",
       "      <td>0.190888</td>\n",
       "      <td>8.962038</td>\n",
       "      <td>6.542828</td>\n",
       "    </tr>\n",
       "    <tr>\n",
       "      <th>75%</th>\n",
       "      <td>7.823059</td>\n",
       "      <td>7.375129</td>\n",
       "      <td>0.337098</td>\n",
       "      <td>9.070706</td>\n",
       "      <td>7.384642</td>\n",
       "    </tr>\n",
       "    <tr>\n",
       "      <th>max</th>\n",
       "      <td>8.075608</td>\n",
       "      <td>7.730057</td>\n",
       "      <td>0.632481</td>\n",
       "      <td>9.387962</td>\n",
       "      <td>8.329343</td>\n",
       "    </tr>\n",
       "  </tbody>\n",
       "</table>\n",
       "</div>"
      ],
      "text/plain": [
       "            UMAP1       UMAP2       UMAP3       UMAP4       UMAP5\n",
       "count  538.000000  538.000000  538.000000  538.000000  538.000000\n",
       "mean     7.478360    7.180451    0.199628    8.971105    6.837708\n",
       "std      0.470957    0.239597    0.192417    0.156052    0.638597\n",
       "min      6.446760    6.688674   -0.193593    8.587032    5.959533\n",
       "25%      7.074446    7.000153    0.048597    8.866159    6.389824\n",
       "50%      7.681846    7.163648    0.190888    8.962038    6.542828\n",
       "75%      7.823059    7.375129    0.337098    9.070706    7.384642\n",
       "max      8.075608    7.730057    0.632481    9.387962    8.329343"
      ]
     },
     "metadata": {},
     "output_type": "display_data"
    },
    {
     "data": {
      "text/plain": [
       "PosixPath('/media/miltondp/Elements1/projects/phenoplier/results/data_transformations/umap/umap-z_score_std-diseases_only-projection-smultixcan-efo_partial-mashr-zscores-metric_euclidean-n_components_50-n_neighbors_15-random_state_0.pkl')"
      ]
     },
     "metadata": {},
     "output_type": "display_data"
    },
    {
     "name": "stdout",
     "output_type": "stream",
     "text": [
      "\n",
      "\n"
     ]
    }
   ],
   "source": [
    "# for n_comp, n_neigh in product(DR_OPTIONS['n_components'], DR_OPTIONS['n_neighbors']):\n",
    "for n_comp in DR_OPTIONS['n_components']:\n",
    "    print(f'# components: {n_comp}')\n",
    "    \n",
    "    options = ALL_OPTIONS.copy()\n",
    "    options['n_components'] = n_comp\n",
    "    \n",
    "    dr_data = get_umap_proj(data, options)\n",
    "    \n",
    "    display(dr_data.shape)\n",
    "    assert dr_data.shape == (data.shape[0], n_comp)\n",
    "    \n",
    "    display(dr_data.iloc[:, 0:5].describe())\n",
    "    \n",
    "    # save\n",
    "    output_file = Path(\n",
    "        RESULTS_DIR,\n",
    "        generate_result_set_name(\n",
    "            options,\n",
    "            prefix=f'umap-{input_filepath_stem}-',\n",
    "            suffix='.pkl'\n",
    "        )\n",
    "    ).resolve()\n",
    "    display(output_file)\n",
    "    \n",
    "    dr_data.to_pickle(output_file)\n",
    "    \n",
    "    print('\\n')"
   ]
  },
  {
   "cell_type": "code",
   "execution_count": null,
   "metadata": {},
   "outputs": [],
   "source": []
  }
 ],
 "metadata": {
  "kernelspec": {
   "display_name": "Python 3",
   "language": "python",
   "name": "python3"
  },
  "language_info": {
   "codemirror_mode": {
    "name": "ipython",
    "version": 3
   },
   "file_extension": ".py",
   "mimetype": "text/x-python",
   "name": "python",
   "nbconvert_exporter": "python",
   "pygments_lexer": "ipython3",
   "version": "3.8.6"
  },
  "toc-autonumbering": true,
  "toc-showcode": false,
  "toc-showmarkdowntxt": false,
  "toc-showtags": false
 },
 "nbformat": 4,
 "nbformat_minor": 4
}
