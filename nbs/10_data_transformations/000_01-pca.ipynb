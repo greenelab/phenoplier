{
 "cells": [
  {
   "cell_type": "markdown",
   "metadata": {
    "papermill": {
     "duration": 0.035971,
     "end_time": "2021-01-12T05:38:07.109033",
     "exception": false,
     "start_time": "2021-01-12T05:38:07.073062",
     "status": "completed"
    },
    "tags": []
   },
   "source": [
    "# Description"
   ]
  },
  {
   "cell_type": "markdown",
   "metadata": {
    "papermill": {
     "duration": 0.009625,
     "end_time": "2021-01-12T05:38:07.129095",
     "exception": false,
     "start_time": "2021-01-12T05:38:07.119470",
     "status": "completed"
    },
    "tags": []
   },
   "source": [
    "It gets the PCA transformation of an input file."
   ]
  },
  {
   "cell_type": "markdown",
   "metadata": {
    "papermill": {
     "duration": 0.00922,
     "end_time": "2021-01-12T05:38:07.147392",
     "exception": false,
     "start_time": "2021-01-12T05:38:07.138172",
     "status": "completed"
    },
    "tags": []
   },
   "source": [
    "# Modules loading"
   ]
  },
  {
   "cell_type": "code",
   "execution_count": 1,
   "metadata": {
    "execution": {
     "iopub.execute_input": "2021-01-12T05:38:07.168687Z",
     "iopub.status.busy": "2021-01-12T05:38:07.168310Z",
     "iopub.status.idle": "2021-01-12T05:38:07.176259Z",
     "shell.execute_reply": "2021-01-12T05:38:07.175865Z"
    },
    "papermill": {
     "duration": 0.020122,
     "end_time": "2021-01-12T05:38:07.176431",
     "exception": false,
     "start_time": "2021-01-12T05:38:07.156309",
     "status": "completed"
    },
    "tags": []
   },
   "outputs": [],
   "source": [
    "%load_ext autoreload\n",
    "%autoreload 2"
   ]
  },
  {
   "cell_type": "code",
   "execution_count": 2,
   "metadata": {
    "execution": {
     "iopub.execute_input": "2021-01-12T05:38:07.197969Z",
     "iopub.status.busy": "2021-01-12T05:38:07.197598Z",
     "iopub.status.idle": "2021-01-12T05:38:07.764873Z",
     "shell.execute_reply": "2021-01-12T05:38:07.764381Z"
    },
    "papermill": {
     "duration": 0.578477,
     "end_time": "2021-01-12T05:38:07.764984",
     "exception": false,
     "start_time": "2021-01-12T05:38:07.186507",
     "status": "completed"
    },
    "tags": []
   },
   "outputs": [],
   "source": [
    "from pathlib import Path\n",
    "from IPython.display import display\n",
    "\n",
    "import pandas as pd\n",
    "import seaborn as sns\n",
    "\n",
    "import conf\n",
    "from utils import generate_result_set_name"
   ]
  },
  {
   "cell_type": "markdown",
   "metadata": {
    "papermill": {
     "duration": 0.011232,
     "end_time": "2021-01-12T05:38:07.787885",
     "exception": false,
     "start_time": "2021-01-12T05:38:07.776653",
     "status": "completed"
    },
    "tags": []
   },
   "source": [
    "# Settings"
   ]
  },
  {
   "cell_type": "markdown",
   "metadata": {
    "papermill": {
     "duration": 0.009739,
     "end_time": "2021-01-12T05:38:07.808610",
     "exception": false,
     "start_time": "2021-01-12T05:38:07.798871",
     "status": "completed"
    },
    "tags": []
   },
   "source": [
    "## Input data"
   ]
  },
  {
   "cell_type": "code",
   "execution_count": 3,
   "metadata": {
    "execution": {
     "iopub.execute_input": "2021-01-12T05:38:07.829141Z",
     "iopub.status.busy": "2021-01-12T05:38:07.828729Z",
     "iopub.status.idle": "2021-01-12T05:38:07.838365Z",
     "shell.execute_reply": "2021-01-12T05:38:07.838669Z"
    },
    "papermill": {
     "duration": 0.021099,
     "end_time": "2021-01-12T05:38:07.838777",
     "exception": false,
     "start_time": "2021-01-12T05:38:07.817678",
     "status": "completed"
    },
    "tags": []
   },
   "outputs": [],
   "source": [
    "INPUT_FILEPATH_STEM = \"projection-smultixcan-efo_partial-mashr-zscores\""
   ]
  },
  {
   "cell_type": "code",
   "execution_count": 4,
   "metadata": {
    "execution": {
     "iopub.execute_input": "2021-01-12T05:38:07.859723Z",
     "iopub.status.busy": "2021-01-12T05:38:07.859350Z",
     "iopub.status.idle": "2021-01-12T05:38:07.871619Z",
     "shell.execute_reply": "2021-01-12T05:38:07.871242Z"
    },
    "papermill": {
     "duration": 0.023694,
     "end_time": "2021-01-12T05:38:07.871707",
     "exception": false,
     "start_time": "2021-01-12T05:38:07.848013",
     "status": "completed"
    },
    "tags": []
   },
   "outputs": [
    {
     "data": {
      "text/plain": [
       "PosixPath('/home/miltondp/projects/labs/greenelab/phenoplier/base3/results/data_transformations/z_score_std/z_score_std-projection-smultixcan-efo_partial-mashr-zscores.pkl')"
      ]
     },
     "metadata": {},
     "output_type": "display_data"
    },
    {
     "data": {
      "text/plain": [
       "'z_score_std-projection-smultixcan-efo_partial-mashr-zscores'"
      ]
     },
     "metadata": {},
     "output_type": "display_data"
    }
   ],
   "source": [
    "INPUT_FILEPATH = Path(\n",
    "    conf.RESULTS[\"DATA_TRANSFORMATIONS_DIR\"],\n",
    "    \"z_score_std\",\n",
    "    f\"z_score_std-{INPUT_FILEPATH_STEM}.pkl\",\n",
    ").resolve()\n",
    "display(INPUT_FILEPATH)\n",
    "\n",
    "input_filepath_stem = INPUT_FILEPATH.stem\n",
    "display(input_filepath_stem)"
   ]
  },
  {
   "cell_type": "markdown",
   "metadata": {
    "papermill": {
     "duration": 0.009164,
     "end_time": "2021-01-12T05:38:07.890439",
     "exception": false,
     "start_time": "2021-01-12T05:38:07.881275",
     "status": "completed"
    },
    "tags": []
   },
   "source": [
    "## Output folder"
   ]
  },
  {
   "cell_type": "code",
   "execution_count": 5,
   "metadata": {
    "execution": {
     "iopub.execute_input": "2021-01-12T05:38:07.911836Z",
     "iopub.status.busy": "2021-01-12T05:38:07.911470Z",
     "iopub.status.idle": "2021-01-12T05:38:07.921839Z",
     "shell.execute_reply": "2021-01-12T05:38:07.922122Z"
    },
    "papermill": {
     "duration": 0.022465,
     "end_time": "2021-01-12T05:38:07.922232",
     "exception": false,
     "start_time": "2021-01-12T05:38:07.899767",
     "status": "completed"
    },
    "tags": []
   },
   "outputs": [
    {
     "data": {
      "text/plain": [
       "PosixPath('/home/miltondp/projects/labs/greenelab/phenoplier/base3/results/data_transformations/pca')"
      ]
     },
     "metadata": {},
     "output_type": "display_data"
    }
   ],
   "source": [
    "# output dir for this notebook\n",
    "RESULTS_DIR = Path(conf.RESULTS[\"DATA_TRANSFORMATIONS_DIR\"], \"pca\").resolve()\n",
    "RESULTS_DIR.mkdir(parents=True, exist_ok=True)\n",
    "\n",
    "display(RESULTS_DIR)"
   ]
  },
  {
   "cell_type": "markdown",
   "metadata": {
    "papermill": {
     "duration": 0.009707,
     "end_time": "2021-01-12T05:38:07.941794",
     "exception": false,
     "start_time": "2021-01-12T05:38:07.932087",
     "status": "completed"
    },
    "tags": []
   },
   "source": [
    "## PCA options"
   ]
  },
  {
   "cell_type": "code",
   "execution_count": 6,
   "metadata": {
    "execution": {
     "iopub.execute_input": "2021-01-12T05:38:07.963391Z",
     "iopub.status.busy": "2021-01-12T05:38:07.963027Z",
     "iopub.status.idle": "2021-01-12T05:38:07.972936Z",
     "shell.execute_reply": "2021-01-12T05:38:07.972514Z"
    },
    "papermill": {
     "duration": 0.021494,
     "end_time": "2021-01-12T05:38:07.973026",
     "exception": false,
     "start_time": "2021-01-12T05:38:07.951532",
     "status": "completed"
    },
    "tags": []
   },
   "outputs": [],
   "source": [
    "# parameters of the dimentionality reduction steps\n",
    "DR_OPTIONS = {\n",
    "    \"n_components\": 50,\n",
    "    \"svd_solver\": \"full\",\n",
    "    \"random_state\": 0,\n",
    "}"
   ]
  },
  {
   "cell_type": "code",
   "execution_count": 7,
   "metadata": {
    "execution": {
     "iopub.execute_input": "2021-01-12T05:38:07.995606Z",
     "iopub.status.busy": "2021-01-12T05:38:07.995228Z",
     "iopub.status.idle": "2021-01-12T05:38:08.005925Z",
     "shell.execute_reply": "2021-01-12T05:38:08.005607Z"
    },
    "papermill": {
     "duration": 0.02247,
     "end_time": "2021-01-12T05:38:08.006018",
     "exception": false,
     "start_time": "2021-01-12T05:38:07.983548",
     "status": "completed"
    },
    "tags": []
   },
   "outputs": [
    {
     "data": {
      "text/plain": [
       "{'n_components': 50, 'svd_solver': 'full', 'random_state': 0}"
      ]
     },
     "metadata": {},
     "output_type": "display_data"
    }
   ],
   "source": [
    "# dictionary containing all options/settings (used to generate filenames)\n",
    "ALL_OPTIONS = DR_OPTIONS.copy()\n",
    "\n",
    "display(ALL_OPTIONS)"
   ]
  },
  {
   "cell_type": "markdown",
   "metadata": {
    "papermill": {
     "duration": 0.011168,
     "end_time": "2021-01-12T05:38:08.028151",
     "exception": false,
     "start_time": "2021-01-12T05:38:08.016983",
     "status": "completed"
    },
    "tags": []
   },
   "source": [
    "# Load input file"
   ]
  },
  {
   "cell_type": "code",
   "execution_count": 8,
   "metadata": {
    "execution": {
     "iopub.execute_input": "2021-01-12T05:38:08.051416Z",
     "iopub.status.busy": "2021-01-12T05:38:08.051055Z",
     "iopub.status.idle": "2021-01-12T05:38:08.074157Z",
     "shell.execute_reply": "2021-01-12T05:38:08.074481Z"
    },
    "papermill": {
     "duration": 0.035467,
     "end_time": "2021-01-12T05:38:08.074606",
     "exception": false,
     "start_time": "2021-01-12T05:38:08.039139",
     "status": "completed"
    },
    "tags": []
   },
   "outputs": [],
   "source": [
    "data = pd.read_pickle(INPUT_FILEPATH)"
   ]
  },
  {
   "cell_type": "code",
   "execution_count": 9,
   "metadata": {
    "execution": {
     "iopub.execute_input": "2021-01-12T05:38:08.098380Z",
     "iopub.status.busy": "2021-01-12T05:38:08.097987Z",
     "iopub.status.idle": "2021-01-12T05:38:08.109446Z",
     "shell.execute_reply": "2021-01-12T05:38:08.109818Z"
    },
    "papermill": {
     "duration": 0.024441,
     "end_time": "2021-01-12T05:38:08.109956",
     "exception": false,
     "start_time": "2021-01-12T05:38:08.085515",
     "status": "completed"
    },
    "tags": []
   },
   "outputs": [
    {
     "data": {
      "text/plain": [
       "(3749, 987)"
      ]
     },
     "metadata": {},
     "output_type": "display_data"
    }
   ],
   "source": [
    "display(data.shape)"
   ]
  },
  {
   "cell_type": "code",
   "execution_count": 10,
   "metadata": {
    "execution": {
     "iopub.execute_input": "2021-01-12T05:38:08.135674Z",
     "iopub.status.busy": "2021-01-12T05:38:08.135290Z",
     "iopub.status.idle": "2021-01-12T05:38:08.160152Z",
     "shell.execute_reply": "2021-01-12T05:38:08.159763Z"
    },
    "papermill": {
     "duration": 0.038112,
     "end_time": "2021-01-12T05:38:08.160242",
     "exception": false,
     "start_time": "2021-01-12T05:38:08.122130",
     "status": "completed"
    },
    "tags": []
   },
   "outputs": [
    {
     "data": {
      "text/html": [
       "<div>\n",
       "<style scoped>\n",
       "    .dataframe tbody tr th:only-of-type {\n",
       "        vertical-align: middle;\n",
       "    }\n",
       "\n",
       "    .dataframe tbody tr th {\n",
       "        vertical-align: top;\n",
       "    }\n",
       "\n",
       "    .dataframe thead th {\n",
       "        text-align: right;\n",
       "    }\n",
       "</style>\n",
       "<table border=\"1\" class=\"dataframe\">\n",
       "  <thead>\n",
       "    <tr style=\"text-align: right;\">\n",
       "      <th></th>\n",
       "      <th>LV1</th>\n",
       "      <th>LV2</th>\n",
       "      <th>LV3</th>\n",
       "      <th>LV4</th>\n",
       "      <th>LV5</th>\n",
       "      <th>LV6</th>\n",
       "      <th>LV7</th>\n",
       "      <th>LV8</th>\n",
       "      <th>LV9</th>\n",
       "      <th>LV10</th>\n",
       "      <th>...</th>\n",
       "      <th>LV978</th>\n",
       "      <th>LV979</th>\n",
       "      <th>LV980</th>\n",
       "      <th>LV981</th>\n",
       "      <th>LV982</th>\n",
       "      <th>LV983</th>\n",
       "      <th>LV984</th>\n",
       "      <th>LV985</th>\n",
       "      <th>LV986</th>\n",
       "      <th>LV987</th>\n",
       "    </tr>\n",
       "  </thead>\n",
       "  <tbody>\n",
       "    <tr>\n",
       "      <th>100001_raw-Food_weight</th>\n",
       "      <td>-0.553743</td>\n",
       "      <td>1.851060</td>\n",
       "      <td>-0.095721</td>\n",
       "      <td>0.931603</td>\n",
       "      <td>-0.515196</td>\n",
       "      <td>1.371264</td>\n",
       "      <td>-0.413165</td>\n",
       "      <td>0.729668</td>\n",
       "      <td>0.546338</td>\n",
       "      <td>0.901153</td>\n",
       "      <td>...</td>\n",
       "      <td>1.148776</td>\n",
       "      <td>1.649018</td>\n",
       "      <td>-1.375952</td>\n",
       "      <td>2.203063</td>\n",
       "      <td>0.810199</td>\n",
       "      <td>-0.987048</td>\n",
       "      <td>0.277710</td>\n",
       "      <td>-0.607613</td>\n",
       "      <td>0.572376</td>\n",
       "      <td>-0.660846</td>\n",
       "    </tr>\n",
       "    <tr>\n",
       "      <th>100002_raw-Energy</th>\n",
       "      <td>-1.313905</td>\n",
       "      <td>-0.421015</td>\n",
       "      <td>-0.310524</td>\n",
       "      <td>-0.201978</td>\n",
       "      <td>0.233028</td>\n",
       "      <td>0.693838</td>\n",
       "      <td>0.084129</td>\n",
       "      <td>0.572439</td>\n",
       "      <td>0.217866</td>\n",
       "      <td>1.296973</td>\n",
       "      <td>...</td>\n",
       "      <td>0.165430</td>\n",
       "      <td>0.799276</td>\n",
       "      <td>-0.361989</td>\n",
       "      <td>-0.008253</td>\n",
       "      <td>2.063780</td>\n",
       "      <td>-0.930765</td>\n",
       "      <td>-0.147007</td>\n",
       "      <td>1.601938</td>\n",
       "      <td>-0.273553</td>\n",
       "      <td>-0.560822</td>\n",
       "    </tr>\n",
       "    <tr>\n",
       "      <th>100003_raw-Protein</th>\n",
       "      <td>-0.645622</td>\n",
       "      <td>-0.997845</td>\n",
       "      <td>0.249039</td>\n",
       "      <td>0.256499</td>\n",
       "      <td>0.422357</td>\n",
       "      <td>0.829189</td>\n",
       "      <td>-0.169004</td>\n",
       "      <td>0.511550</td>\n",
       "      <td>0.002389</td>\n",
       "      <td>-0.057200</td>\n",
       "      <td>...</td>\n",
       "      <td>1.016791</td>\n",
       "      <td>1.019488</td>\n",
       "      <td>-2.148844</td>\n",
       "      <td>-0.065130</td>\n",
       "      <td>0.041052</td>\n",
       "      <td>-0.836118</td>\n",
       "      <td>-0.320571</td>\n",
       "      <td>1.325519</td>\n",
       "      <td>-0.341494</td>\n",
       "      <td>-0.495786</td>\n",
       "    </tr>\n",
       "    <tr>\n",
       "      <th>100004_raw-Fat</th>\n",
       "      <td>-0.913924</td>\n",
       "      <td>-1.837183</td>\n",
       "      <td>0.012095</td>\n",
       "      <td>-1.301315</td>\n",
       "      <td>0.205794</td>\n",
       "      <td>1.129114</td>\n",
       "      <td>0.019985</td>\n",
       "      <td>0.376660</td>\n",
       "      <td>-0.810272</td>\n",
       "      <td>0.843611</td>\n",
       "      <td>...</td>\n",
       "      <td>0.544266</td>\n",
       "      <td>0.576714</td>\n",
       "      <td>0.281731</td>\n",
       "      <td>-0.218963</td>\n",
       "      <td>1.258957</td>\n",
       "      <td>-1.131924</td>\n",
       "      <td>0.378545</td>\n",
       "      <td>0.842047</td>\n",
       "      <td>-0.622194</td>\n",
       "      <td>-0.160058</td>\n",
       "    </tr>\n",
       "    <tr>\n",
       "      <th>100005_raw-Carbohydrate</th>\n",
       "      <td>-0.523004</td>\n",
       "      <td>0.131379</td>\n",
       "      <td>-0.097802</td>\n",
       "      <td>-0.030526</td>\n",
       "      <td>-0.021500</td>\n",
       "      <td>-0.219116</td>\n",
       "      <td>0.668229</td>\n",
       "      <td>0.365700</td>\n",
       "      <td>1.102347</td>\n",
       "      <td>0.845625</td>\n",
       "      <td>...</td>\n",
       "      <td>-0.344740</td>\n",
       "      <td>0.079274</td>\n",
       "      <td>0.253427</td>\n",
       "      <td>0.236474</td>\n",
       "      <td>1.033895</td>\n",
       "      <td>-0.229105</td>\n",
       "      <td>0.364793</td>\n",
       "      <td>1.776714</td>\n",
       "      <td>0.190531</td>\n",
       "      <td>-1.459641</td>\n",
       "    </tr>\n",
       "  </tbody>\n",
       "</table>\n",
       "<p>5 rows × 987 columns</p>\n",
       "</div>"
      ],
      "text/plain": [
       "                              LV1       LV2       LV3       LV4       LV5  \\\n",
       "100001_raw-Food_weight  -0.553743  1.851060 -0.095721  0.931603 -0.515196   \n",
       "100002_raw-Energy       -1.313905 -0.421015 -0.310524 -0.201978  0.233028   \n",
       "100003_raw-Protein      -0.645622 -0.997845  0.249039  0.256499  0.422357   \n",
       "100004_raw-Fat          -0.913924 -1.837183  0.012095 -1.301315  0.205794   \n",
       "100005_raw-Carbohydrate -0.523004  0.131379 -0.097802 -0.030526 -0.021500   \n",
       "\n",
       "                              LV6       LV7       LV8       LV9      LV10  \\\n",
       "100001_raw-Food_weight   1.371264 -0.413165  0.729668  0.546338  0.901153   \n",
       "100002_raw-Energy        0.693838  0.084129  0.572439  0.217866  1.296973   \n",
       "100003_raw-Protein       0.829189 -0.169004  0.511550  0.002389 -0.057200   \n",
       "100004_raw-Fat           1.129114  0.019985  0.376660 -0.810272  0.843611   \n",
       "100005_raw-Carbohydrate -0.219116  0.668229  0.365700  1.102347  0.845625   \n",
       "\n",
       "                         ...     LV978     LV979     LV980     LV981  \\\n",
       "100001_raw-Food_weight   ...  1.148776  1.649018 -1.375952  2.203063   \n",
       "100002_raw-Energy        ...  0.165430  0.799276 -0.361989 -0.008253   \n",
       "100003_raw-Protein       ...  1.016791  1.019488 -2.148844 -0.065130   \n",
       "100004_raw-Fat           ...  0.544266  0.576714  0.281731 -0.218963   \n",
       "100005_raw-Carbohydrate  ... -0.344740  0.079274  0.253427  0.236474   \n",
       "\n",
       "                            LV982     LV983     LV984     LV985     LV986  \\\n",
       "100001_raw-Food_weight   0.810199 -0.987048  0.277710 -0.607613  0.572376   \n",
       "100002_raw-Energy        2.063780 -0.930765 -0.147007  1.601938 -0.273553   \n",
       "100003_raw-Protein       0.041052 -0.836118 -0.320571  1.325519 -0.341494   \n",
       "100004_raw-Fat           1.258957 -1.131924  0.378545  0.842047 -0.622194   \n",
       "100005_raw-Carbohydrate  1.033895 -0.229105  0.364793  1.776714  0.190531   \n",
       "\n",
       "                            LV987  \n",
       "100001_raw-Food_weight  -0.660846  \n",
       "100002_raw-Energy       -0.560822  \n",
       "100003_raw-Protein      -0.495786  \n",
       "100004_raw-Fat          -0.160058  \n",
       "100005_raw-Carbohydrate -1.459641  \n",
       "\n",
       "[5 rows x 987 columns]"
      ]
     },
     "metadata": {},
     "output_type": "display_data"
    }
   ],
   "source": [
    "display(data.head())"
   ]
  },
  {
   "cell_type": "markdown",
   "metadata": {
    "papermill": {
     "duration": 0.010807,
     "end_time": "2021-01-12T05:38:08.182243",
     "exception": false,
     "start_time": "2021-01-12T05:38:08.171436",
     "status": "completed"
    },
    "tags": []
   },
   "source": [
    "# PCA"
   ]
  },
  {
   "cell_type": "code",
   "execution_count": 11,
   "metadata": {
    "execution": {
     "iopub.execute_input": "2021-01-12T05:38:08.205419Z",
     "iopub.status.busy": "2021-01-12T05:38:08.205043Z",
     "iopub.status.idle": "2021-01-12T05:38:08.215805Z",
     "shell.execute_reply": "2021-01-12T05:38:08.215416Z"
    },
    "papermill": {
     "duration": 0.023254,
     "end_time": "2021-01-12T05:38:08.215895",
     "exception": false,
     "start_time": "2021-01-12T05:38:08.192641",
     "status": "completed"
    },
    "tags": []
   },
   "outputs": [],
   "source": [
    "from data.dimreduction import get_pca_proj"
   ]
  },
  {
   "cell_type": "code",
   "execution_count": 12,
   "metadata": {
    "execution": {
     "iopub.execute_input": "2021-01-12T05:38:08.239830Z",
     "iopub.status.busy": "2021-01-12T05:38:08.239453Z",
     "iopub.status.idle": "2021-01-12T05:38:09.089484Z",
     "shell.execute_reply": "2021-01-12T05:38:09.089805Z"
    },
    "papermill": {
     "duration": 0.863099,
     "end_time": "2021-01-12T05:38:09.089919",
     "exception": false,
     "start_time": "2021-01-12T05:38:08.226820",
     "status": "completed"
    },
    "tags": []
   },
   "outputs": [
    {
     "data": {
      "text/plain": [
       "\"PCA object: PCA(n_components=50, random_state=0, svd_solver='full')\""
      ]
     },
     "metadata": {},
     "output_type": "display_data"
    }
   ],
   "source": [
    "dr_data = get_pca_proj(data, DR_OPTIONS)"
   ]
  },
  {
   "cell_type": "code",
   "execution_count": 13,
   "metadata": {
    "execution": {
     "iopub.execute_input": "2021-01-12T05:38:09.125169Z",
     "iopub.status.busy": "2021-01-12T05:38:09.121420Z",
     "iopub.status.idle": "2021-01-12T05:38:09.129106Z",
     "shell.execute_reply": "2021-01-12T05:38:09.129446Z"
    },
    "papermill": {
     "duration": 0.028174,
     "end_time": "2021-01-12T05:38:09.129562",
     "exception": false,
     "start_time": "2021-01-12T05:38:09.101388",
     "status": "completed"
    },
    "tags": []
   },
   "outputs": [
    {
     "data": {
      "text/plain": [
       "(3749, 50)"
      ]
     },
     "metadata": {},
     "output_type": "display_data"
    }
   ],
   "source": [
    "display(dr_data.shape)"
   ]
  },
  {
   "cell_type": "code",
   "execution_count": 14,
   "metadata": {
    "execution": {
     "iopub.execute_input": "2021-01-12T05:38:09.158691Z",
     "iopub.status.busy": "2021-01-12T05:38:09.158283Z",
     "iopub.status.idle": "2021-01-12T05:38:09.182566Z",
     "shell.execute_reply": "2021-01-12T05:38:09.182194Z"
    },
    "papermill": {
     "duration": 0.041429,
     "end_time": "2021-01-12T05:38:09.182653",
     "exception": false,
     "start_time": "2021-01-12T05:38:09.141224",
     "status": "completed"
    },
    "tags": []
   },
   "outputs": [
    {
     "data": {
      "text/html": [
       "<div>\n",
       "<style scoped>\n",
       "    .dataframe tbody tr th:only-of-type {\n",
       "        vertical-align: middle;\n",
       "    }\n",
       "\n",
       "    .dataframe tbody tr th {\n",
       "        vertical-align: top;\n",
       "    }\n",
       "\n",
       "    .dataframe thead th {\n",
       "        text-align: right;\n",
       "    }\n",
       "</style>\n",
       "<table border=\"1\" class=\"dataframe\">\n",
       "  <thead>\n",
       "    <tr style=\"text-align: right;\">\n",
       "      <th></th>\n",
       "      <th>PCA1</th>\n",
       "      <th>PCA2</th>\n",
       "      <th>PCA3</th>\n",
       "      <th>PCA4</th>\n",
       "      <th>PCA5</th>\n",
       "      <th>PCA6</th>\n",
       "      <th>PCA7</th>\n",
       "      <th>PCA8</th>\n",
       "      <th>PCA9</th>\n",
       "      <th>PCA10</th>\n",
       "      <th>...</th>\n",
       "      <th>PCA41</th>\n",
       "      <th>PCA42</th>\n",
       "      <th>PCA43</th>\n",
       "      <th>PCA44</th>\n",
       "      <th>PCA45</th>\n",
       "      <th>PCA46</th>\n",
       "      <th>PCA47</th>\n",
       "      <th>PCA48</th>\n",
       "      <th>PCA49</th>\n",
       "      <th>PCA50</th>\n",
       "    </tr>\n",
       "  </thead>\n",
       "  <tbody>\n",
       "    <tr>\n",
       "      <th>100001_raw-Food_weight</th>\n",
       "      <td>-0.547515</td>\n",
       "      <td>-0.007250</td>\n",
       "      <td>0.245361</td>\n",
       "      <td>0.132424</td>\n",
       "      <td>1.201447</td>\n",
       "      <td>-0.113158</td>\n",
       "      <td>0.048859</td>\n",
       "      <td>1.031679</td>\n",
       "      <td>0.711208</td>\n",
       "      <td>0.126100</td>\n",
       "      <td>...</td>\n",
       "      <td>0.113685</td>\n",
       "      <td>-0.109753</td>\n",
       "      <td>0.178202</td>\n",
       "      <td>-0.487868</td>\n",
       "      <td>1.805920</td>\n",
       "      <td>-0.342611</td>\n",
       "      <td>-0.663712</td>\n",
       "      <td>-1.313987</td>\n",
       "      <td>-1.481707</td>\n",
       "      <td>0.396410</td>\n",
       "    </tr>\n",
       "    <tr>\n",
       "      <th>100002_raw-Energy</th>\n",
       "      <td>-1.570593</td>\n",
       "      <td>-0.618992</td>\n",
       "      <td>-1.223395</td>\n",
       "      <td>1.627321</td>\n",
       "      <td>-0.563860</td>\n",
       "      <td>0.224922</td>\n",
       "      <td>-1.500327</td>\n",
       "      <td>2.045633</td>\n",
       "      <td>-1.665998</td>\n",
       "      <td>-0.180432</td>\n",
       "      <td>...</td>\n",
       "      <td>0.697880</td>\n",
       "      <td>1.412676</td>\n",
       "      <td>2.103988</td>\n",
       "      <td>0.385625</td>\n",
       "      <td>2.386495</td>\n",
       "      <td>-2.939998</td>\n",
       "      <td>-0.978275</td>\n",
       "      <td>-1.893307</td>\n",
       "      <td>-0.259497</td>\n",
       "      <td>0.423264</td>\n",
       "    </tr>\n",
       "    <tr>\n",
       "      <th>100003_raw-Protein</th>\n",
       "      <td>-0.601212</td>\n",
       "      <td>-0.948824</td>\n",
       "      <td>-1.022209</td>\n",
       "      <td>2.438433</td>\n",
       "      <td>-2.062235</td>\n",
       "      <td>0.356202</td>\n",
       "      <td>-1.538038</td>\n",
       "      <td>2.314675</td>\n",
       "      <td>-1.108991</td>\n",
       "      <td>0.318034</td>\n",
       "      <td>...</td>\n",
       "      <td>0.171992</td>\n",
       "      <td>1.351979</td>\n",
       "      <td>0.054404</td>\n",
       "      <td>-0.725132</td>\n",
       "      <td>2.226520</td>\n",
       "      <td>-3.481674</td>\n",
       "      <td>-0.445294</td>\n",
       "      <td>-0.477452</td>\n",
       "      <td>0.237157</td>\n",
       "      <td>1.440867</td>\n",
       "    </tr>\n",
       "    <tr>\n",
       "      <th>100004_raw-Fat</th>\n",
       "      <td>-1.648214</td>\n",
       "      <td>-0.342042</td>\n",
       "      <td>-0.270189</td>\n",
       "      <td>1.683268</td>\n",
       "      <td>-1.222401</td>\n",
       "      <td>0.018349</td>\n",
       "      <td>-0.032824</td>\n",
       "      <td>1.671161</td>\n",
       "      <td>-0.908965</td>\n",
       "      <td>0.224100</td>\n",
       "      <td>...</td>\n",
       "      <td>-0.358812</td>\n",
       "      <td>0.696836</td>\n",
       "      <td>1.072624</td>\n",
       "      <td>0.627951</td>\n",
       "      <td>1.802000</td>\n",
       "      <td>0.174704</td>\n",
       "      <td>0.826319</td>\n",
       "      <td>-0.826992</td>\n",
       "      <td>0.596113</td>\n",
       "      <td>0.620050</td>\n",
       "    </tr>\n",
       "    <tr>\n",
       "      <th>100005_raw-Carbohydrate</th>\n",
       "      <td>-1.867586</td>\n",
       "      <td>-0.006412</td>\n",
       "      <td>-0.303220</td>\n",
       "      <td>0.770958</td>\n",
       "      <td>-0.116822</td>\n",
       "      <td>0.460946</td>\n",
       "      <td>-2.407732</td>\n",
       "      <td>1.534273</td>\n",
       "      <td>-1.930577</td>\n",
       "      <td>0.064621</td>\n",
       "      <td>...</td>\n",
       "      <td>1.332852</td>\n",
       "      <td>1.978032</td>\n",
       "      <td>2.158456</td>\n",
       "      <td>0.831123</td>\n",
       "      <td>1.093202</td>\n",
       "      <td>-3.539033</td>\n",
       "      <td>-0.831862</td>\n",
       "      <td>-0.842298</td>\n",
       "      <td>-0.723072</td>\n",
       "      <td>0.359438</td>\n",
       "    </tr>\n",
       "  </tbody>\n",
       "</table>\n",
       "<p>5 rows × 50 columns</p>\n",
       "</div>"
      ],
      "text/plain": [
       "                             PCA1      PCA2      PCA3      PCA4      PCA5  \\\n",
       "100001_raw-Food_weight  -0.547515 -0.007250  0.245361  0.132424  1.201447   \n",
       "100002_raw-Energy       -1.570593 -0.618992 -1.223395  1.627321 -0.563860   \n",
       "100003_raw-Protein      -0.601212 -0.948824 -1.022209  2.438433 -2.062235   \n",
       "100004_raw-Fat          -1.648214 -0.342042 -0.270189  1.683268 -1.222401   \n",
       "100005_raw-Carbohydrate -1.867586 -0.006412 -0.303220  0.770958 -0.116822   \n",
       "\n",
       "                             PCA6      PCA7      PCA8      PCA9     PCA10  \\\n",
       "100001_raw-Food_weight  -0.113158  0.048859  1.031679  0.711208  0.126100   \n",
       "100002_raw-Energy        0.224922 -1.500327  2.045633 -1.665998 -0.180432   \n",
       "100003_raw-Protein       0.356202 -1.538038  2.314675 -1.108991  0.318034   \n",
       "100004_raw-Fat           0.018349 -0.032824  1.671161 -0.908965  0.224100   \n",
       "100005_raw-Carbohydrate  0.460946 -2.407732  1.534273 -1.930577  0.064621   \n",
       "\n",
       "                         ...     PCA41     PCA42     PCA43     PCA44  \\\n",
       "100001_raw-Food_weight   ...  0.113685 -0.109753  0.178202 -0.487868   \n",
       "100002_raw-Energy        ...  0.697880  1.412676  2.103988  0.385625   \n",
       "100003_raw-Protein       ...  0.171992  1.351979  0.054404 -0.725132   \n",
       "100004_raw-Fat           ... -0.358812  0.696836  1.072624  0.627951   \n",
       "100005_raw-Carbohydrate  ...  1.332852  1.978032  2.158456  0.831123   \n",
       "\n",
       "                            PCA45     PCA46     PCA47     PCA48     PCA49  \\\n",
       "100001_raw-Food_weight   1.805920 -0.342611 -0.663712 -1.313987 -1.481707   \n",
       "100002_raw-Energy        2.386495 -2.939998 -0.978275 -1.893307 -0.259497   \n",
       "100003_raw-Protein       2.226520 -3.481674 -0.445294 -0.477452  0.237157   \n",
       "100004_raw-Fat           1.802000  0.174704  0.826319 -0.826992  0.596113   \n",
       "100005_raw-Carbohydrate  1.093202 -3.539033 -0.831862 -0.842298 -0.723072   \n",
       "\n",
       "                            PCA50  \n",
       "100001_raw-Food_weight   0.396410  \n",
       "100002_raw-Energy        0.423264  \n",
       "100003_raw-Protein       1.440867  \n",
       "100004_raw-Fat           0.620050  \n",
       "100005_raw-Carbohydrate  0.359438  \n",
       "\n",
       "[5 rows x 50 columns]"
      ]
     },
     "metadata": {},
     "output_type": "display_data"
    }
   ],
   "source": [
    "display(dr_data.head())"
   ]
  },
  {
   "cell_type": "markdown",
   "metadata": {
    "papermill": {
     "duration": 0.011653,
     "end_time": "2021-01-12T05:38:09.206776",
     "exception": false,
     "start_time": "2021-01-12T05:38:09.195123",
     "status": "completed"
    },
    "tags": []
   },
   "source": [
    "## Plot"
   ]
  },
  {
   "cell_type": "code",
   "execution_count": 15,
   "metadata": {
    "execution": {
     "iopub.execute_input": "2021-01-12T05:38:09.232561Z",
     "iopub.status.busy": "2021-01-12T05:38:09.232183Z",
     "iopub.status.idle": "2021-01-12T05:38:14.803862Z",
     "shell.execute_reply": "2021-01-12T05:38:14.804233Z"
    },
    "papermill": {
     "duration": 5.585883,
     "end_time": "2021-01-12T05:38:14.804372",
     "exception": false,
     "start_time": "2021-01-12T05:38:09.218489",
     "status": "completed"
    },
    "tags": []
   },
   "outputs": [
    {
     "name": "stderr",
     "output_type": "stream",
     "text": [
      "[2021-01-12 00:38:10,117 - numexpr.utils] INFO: NumExpr defaulting to 4 threads.\n"
     ]
    },
    {
     "data": {
      "image/png": "[encoded data removed]",
      "text/plain": [
       "<Figure size 900x900 with 30 Axes>"
      ]
     },
     "metadata": {
      "needs_background": "light"
     },
     "output_type": "display_data"
    }
   ],
   "source": [
    "g = sns.pairplot(data=dr_data.iloc[:, :5])"
   ]
  },
  {
   "cell_type": "markdown",
   "metadata": {
    "papermill": {
     "duration": 0.017289,
     "end_time": "2021-01-12T05:38:14.840813",
     "exception": false,
     "start_time": "2021-01-12T05:38:14.823524",
     "status": "completed"
    },
    "tags": []
   },
   "source": [
    "# Save"
   ]
  },
  {
   "cell_type": "code",
   "execution_count": 16,
   "metadata": {
    "execution": {
     "iopub.execute_input": "2021-01-12T05:38:14.873597Z",
     "iopub.status.busy": "2021-01-12T05:38:14.873211Z",
     "iopub.status.idle": "2021-01-12T05:38:14.885348Z",
     "shell.execute_reply": "2021-01-12T05:38:14.885626Z"
    },
    "papermill": {
     "duration": 0.029514,
     "end_time": "2021-01-12T05:38:14.885749",
     "exception": false,
     "start_time": "2021-01-12T05:38:14.856235",
     "status": "completed"
    },
    "tags": []
   },
   "outputs": [
    {
     "data": {
      "text/plain": [
       "PosixPath('/home/miltondp/projects/labs/greenelab/phenoplier/base3/results/data_transformations/pca/pca-z_score_std-projection-smultixcan-efo_partial-mashr-zscores-n_components_50-random_state_0-svd_solver_full.pkl')"
      ]
     },
     "metadata": {},
     "output_type": "display_data"
    }
   ],
   "source": [
    "output_file = Path(\n",
    "    RESULTS_DIR,\n",
    "    generate_result_set_name(\n",
    "        ALL_OPTIONS, prefix=f\"pca-{input_filepath_stem}-\", suffix=\".pkl\"\n",
    "    ),\n",
    ").resolve()\n",
    "\n",
    "display(output_file)"
   ]
  },
  {
   "cell_type": "code",
   "execution_count": 17,
   "metadata": {
    "execution": {
     "iopub.execute_input": "2021-01-12T05:38:14.918600Z",
     "iopub.status.busy": "2021-01-12T05:38:14.918233Z",
     "iopub.status.idle": "2021-01-12T05:38:14.930432Z",
     "shell.execute_reply": "2021-01-12T05:38:14.930723Z"
    },
    "papermill": {
     "duration": 0.029773,
     "end_time": "2021-01-12T05:38:14.930835",
     "exception": false,
     "start_time": "2021-01-12T05:38:14.901062",
     "status": "completed"
    },
    "tags": []
   },
   "outputs": [],
   "source": [
    "dr_data.to_pickle(output_file)"
   ]
  },
  {
   "cell_type": "code",
   "execution_count": null,
   "metadata": {
    "papermill": {
     "duration": 0.014539,
     "end_time": "2021-01-12T05:38:14.961118",
     "exception": false,
     "start_time": "2021-01-12T05:38:14.946579",
     "status": "completed"
    },
    "tags": []
   },
   "outputs": [],
   "source": []
  }
 ],
 "metadata": {
  "jupytext": {
   "cell_metadata_filter": "all,-execution,-papermill",
   "formats": "ipynb,py//py:percent"
  },
  "kernelspec": {
   "display_name": "Python 3",
   "language": "python",
   "name": "python3"
  },
  "language_info": {
   "codemirror_mode": {
    "name": "ipython",
    "version": 3
   },
   "file_extension": ".py",
   "mimetype": "text/x-python",
   "name": "python",
   "nbconvert_exporter": "python",
   "pygments_lexer": "ipython3",
   "version": "3.8.6"
  },
  "papermill": {
   "default_parameters": {},
   "duration": 10.186882,
   "end_time": "2021-01-12T05:38:16.485409",
   "environment_variables": {},
   "exception": null,
   "input_path": "10_data_transformations/000_01-pca.ipynb",
   "output_path": "10_data_transformations/000_01-pca.run.ipynb",
   "parameters": {},
   "start_time": "2021-01-12T05:38:06.298527",
   "version": "2.2.2"
  },
  "toc-autonumbering": true,
  "toc-showcode": false,
  "toc-showmarkdowntxt": false,
  "toc-showtags": false
 },
 "nbformat": 4,
 "nbformat_minor": 4
}