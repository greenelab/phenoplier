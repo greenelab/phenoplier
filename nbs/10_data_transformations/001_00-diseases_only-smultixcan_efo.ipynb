{
 "cells": [
  {
   "cell_type": "markdown",
   "metadata": {},
   "source": [
    "# Description"
   ]
  },
  {
   "cell_type": "markdown",
   "metadata": {},
   "source": [
    "It selects diseases only from traits."
   ]
  },
  {
   "cell_type": "markdown",
   "metadata": {},
   "source": [
    "# Modules loading"
   ]
  },
  {
   "cell_type": "code",
   "execution_count": 1,
   "metadata": {},
   "outputs": [],
   "source": [
    "%load_ext autoreload\n",
    "%autoreload 2"
   ]
  },
  {
   "cell_type": "code",
   "execution_count": 2,
   "metadata": {},
   "outputs": [],
   "source": [
    "from pathlib import Path\n",
    "from IPython.display import display\n",
    "\n",
    "import pandas as pd\n",
    "import umap\n",
    "import matplotlib.pyplot as plt\n",
    "import seaborn as sns\n",
    "\n",
    "import conf\n",
    "from utils import generate_result_set_name\n",
    "from data.cache import read_data"
   ]
  },
  {
   "cell_type": "markdown",
   "metadata": {},
   "source": [
    "# Settings"
   ]
  },
  {
   "cell_type": "code",
   "execution_count": 3,
   "metadata": {},
   "outputs": [
    {
     "data": {
      "text/plain": [
       "PosixPath('/media/miltondp/Elements1/projects/phenoplier/data/phenomexcan/gene_assoc/smultixcan-efo_partial-mashr-zscores.pkl')"
      ]
     },
     "metadata": {},
     "output_type": "display_data"
    },
    {
     "data": {
      "text/plain": [
       "'smultixcan-efo_partial-mashr-zscores'"
      ]
     },
     "metadata": {},
     "output_type": "display_data"
    }
   ],
   "source": [
    "INPUT_FILEPATH = Path(\n",
    "    conf.PHENOMEXCAN[\"SMULTIXCAN_EFO_PARTIAL_MASHR_ZSCORES_FILE\"]\n",
    ").resolve()\n",
    "display(INPUT_FILEPATH)\n",
    "\n",
    "input_filepath_stem = INPUT_FILEPATH.stem\n",
    "display(input_filepath_stem)"
   ]
  },
  {
   "cell_type": "code",
   "execution_count": 4,
   "metadata": {},
   "outputs": [
    {
     "data": {
      "text/plain": [
       "PosixPath('/media/miltondp/Elements1/projects/phenoplier/results/data_transformations/traits_selections')"
      ]
     },
     "metadata": {},
     "output_type": "display_data"
    }
   ],
   "source": [
    "# output dir for this notebook\n",
    "RESULTS_DIR = Path(\n",
    "    conf.RESULTS[\"DATA_TRANSFORMATIONS_DIR\"],\n",
    "    'traits_selections'\n",
    ").resolve()\n",
    "RESULTS_DIR.mkdir(parents=True, exist_ok=True)\n",
    "\n",
    "display(RESULTS_DIR)"
   ]
  },
  {
   "cell_type": "markdown",
   "metadata": {},
   "source": [
    "# Load input file"
   ]
  },
  {
   "cell_type": "code",
   "execution_count": 5,
   "metadata": {},
   "outputs": [],
   "source": [
    "data = pd.read_pickle(INPUT_FILEPATH).T"
   ]
  },
  {
   "cell_type": "code",
   "execution_count": 6,
   "metadata": {},
   "outputs": [
    {
     "data": {
      "text/plain": [
       "(3749, 22515)"
      ]
     },
     "execution_count": 6,
     "metadata": {},
     "output_type": "execute_result"
    }
   ],
   "source": [
    "data.shape"
   ]
  },
  {
   "cell_type": "code",
   "execution_count": 7,
   "metadata": {},
   "outputs": [
    {
     "data": {
      "text/html": [
       "<div>\n",
       "<style scoped>\n",
       "    .dataframe tbody tr th:only-of-type {\n",
       "        vertical-align: middle;\n",
       "    }\n",
       "\n",
       "    .dataframe tbody tr th {\n",
       "        vertical-align: top;\n",
       "    }\n",
       "\n",
       "    .dataframe thead th {\n",
       "        text-align: right;\n",
       "    }\n",
       "</style>\n",
       "<table border=\"1\" class=\"dataframe\">\n",
       "  <thead>\n",
       "    <tr style=\"text-align: right;\">\n",
       "      <th>gene_name</th>\n",
       "      <th>ENSG00000000419</th>\n",
       "      <th>ENSG00000000457</th>\n",
       "      <th>ENSG00000000460</th>\n",
       "      <th>ENSG00000000938</th>\n",
       "      <th>ENSG00000000971</th>\n",
       "      <th>ENSG00000001036</th>\n",
       "      <th>ENSG00000001084</th>\n",
       "      <th>ENSG00000001167</th>\n",
       "      <th>ENSG00000001460</th>\n",
       "      <th>ENSG00000001461</th>\n",
       "      <th>...</th>\n",
       "      <th>ENSG00000284240</th>\n",
       "      <th>ENSG00000284308</th>\n",
       "      <th>ENSG00000284395</th>\n",
       "      <th>ENSG00000284413</th>\n",
       "      <th>ENSG00000284418</th>\n",
       "      <th>ENSG00000284430</th>\n",
       "      <th>ENSG00000284452</th>\n",
       "      <th>ENSG00000284513</th>\n",
       "      <th>ENSG00000284526</th>\n",
       "      <th>ENSG00000284552</th>\n",
       "    </tr>\n",
       "  </thead>\n",
       "  <tbody>\n",
       "    <tr>\n",
       "      <th>100001_raw-Food_weight</th>\n",
       "      <td>1.145442</td>\n",
       "      <td>0.618066</td>\n",
       "      <td>0.515724</td>\n",
       "      <td>0.280781</td>\n",
       "      <td>0.548127</td>\n",
       "      <td>0.045587</td>\n",
       "      <td>0.329995</td>\n",
       "      <td>0.109494</td>\n",
       "      <td>1.356741</td>\n",
       "      <td>1.474255</td>\n",
       "      <td>...</td>\n",
       "      <td>1.490410</td>\n",
       "      <td>0.230329</td>\n",
       "      <td>0.596503</td>\n",
       "      <td>0.519733</td>\n",
       "      <td>2.285074</td>\n",
       "      <td>0.124980</td>\n",
       "      <td>1.587903</td>\n",
       "      <td>1.522281</td>\n",
       "      <td>0.150938</td>\n",
       "      <td>1.010143</td>\n",
       "    </tr>\n",
       "    <tr>\n",
       "      <th>100002_raw-Energy</th>\n",
       "      <td>0.724557</td>\n",
       "      <td>1.028131</td>\n",
       "      <td>0.403596</td>\n",
       "      <td>0.253910</td>\n",
       "      <td>0.389877</td>\n",
       "      <td>0.197393</td>\n",
       "      <td>0.669649</td>\n",
       "      <td>0.041010</td>\n",
       "      <td>0.832120</td>\n",
       "      <td>0.954183</td>\n",
       "      <td>...</td>\n",
       "      <td>1.165679</td>\n",
       "      <td>0.111142</td>\n",
       "      <td>0.084263</td>\n",
       "      <td>1.229913</td>\n",
       "      <td>0.390190</td>\n",
       "      <td>0.505316</td>\n",
       "      <td>0.975901</td>\n",
       "      <td>1.817369</td>\n",
       "      <td>0.756393</td>\n",
       "      <td>0.729526</td>\n",
       "    </tr>\n",
       "    <tr>\n",
       "      <th>100003_raw-Protein</th>\n",
       "      <td>0.090876</td>\n",
       "      <td>2.218420</td>\n",
       "      <td>1.251359</td>\n",
       "      <td>0.879148</td>\n",
       "      <td>0.723469</td>\n",
       "      <td>0.777974</td>\n",
       "      <td>0.207873</td>\n",
       "      <td>0.536609</td>\n",
       "      <td>0.453969</td>\n",
       "      <td>1.286942</td>\n",
       "      <td>...</td>\n",
       "      <td>0.541370</td>\n",
       "      <td>0.734872</td>\n",
       "      <td>0.634674</td>\n",
       "      <td>1.316750</td>\n",
       "      <td>0.761859</td>\n",
       "      <td>1.276888</td>\n",
       "      <td>0.160988</td>\n",
       "      <td>0.346794</td>\n",
       "      <td>0.609476</td>\n",
       "      <td>0.222126</td>\n",
       "    </tr>\n",
       "    <tr>\n",
       "      <th>100004_raw-Fat</th>\n",
       "      <td>0.298165</td>\n",
       "      <td>0.762584</td>\n",
       "      <td>0.433091</td>\n",
       "      <td>0.352705</td>\n",
       "      <td>1.167250</td>\n",
       "      <td>0.578435</td>\n",
       "      <td>0.738983</td>\n",
       "      <td>0.565245</td>\n",
       "      <td>0.397189</td>\n",
       "      <td>0.192279</td>\n",
       "      <td>...</td>\n",
       "      <td>0.867217</td>\n",
       "      <td>0.540941</td>\n",
       "      <td>0.284347</td>\n",
       "      <td>1.661131</td>\n",
       "      <td>0.404078</td>\n",
       "      <td>1.248959</td>\n",
       "      <td>0.799771</td>\n",
       "      <td>1.443097</td>\n",
       "      <td>0.814969</td>\n",
       "      <td>0.545356</td>\n",
       "    </tr>\n",
       "    <tr>\n",
       "      <th>100005_raw-Carbohydrate</th>\n",
       "      <td>1.134347</td>\n",
       "      <td>0.934418</td>\n",
       "      <td>0.413466</td>\n",
       "      <td>0.051846</td>\n",
       "      <td>0.315952</td>\n",
       "      <td>0.046237</td>\n",
       "      <td>1.113674</td>\n",
       "      <td>0.319842</td>\n",
       "      <td>0.965217</td>\n",
       "      <td>0.919779</td>\n",
       "      <td>...</td>\n",
       "      <td>1.747265</td>\n",
       "      <td>0.496178</td>\n",
       "      <td>0.144053</td>\n",
       "      <td>0.701817</td>\n",
       "      <td>0.827677</td>\n",
       "      <td>0.587188</td>\n",
       "      <td>1.089338</td>\n",
       "      <td>2.001502</td>\n",
       "      <td>1.362716</td>\n",
       "      <td>1.490030</td>\n",
       "    </tr>\n",
       "  </tbody>\n",
       "</table>\n",
       "<p>5 rows × 22515 columns</p>\n",
       "</div>"
      ],
      "text/plain": [
       "gene_name                ENSG00000000419  ENSG00000000457  ENSG00000000460  \\\n",
       "100001_raw-Food_weight          1.145442         0.618066         0.515724   \n",
       "100002_raw-Energy               0.724557         1.028131         0.403596   \n",
       "100003_raw-Protein              0.090876         2.218420         1.251359   \n",
       "100004_raw-Fat                  0.298165         0.762584         0.433091   \n",
       "100005_raw-Carbohydrate         1.134347         0.934418         0.413466   \n",
       "\n",
       "gene_name                ENSG00000000938  ENSG00000000971  ENSG00000001036  \\\n",
       "100001_raw-Food_weight          0.280781         0.548127         0.045587   \n",
       "100002_raw-Energy               0.253910         0.389877         0.197393   \n",
       "100003_raw-Protein              0.879148         0.723469         0.777974   \n",
       "100004_raw-Fat                  0.352705         1.167250         0.578435   \n",
       "100005_raw-Carbohydrate         0.051846         0.315952         0.046237   \n",
       "\n",
       "gene_name                ENSG00000001084  ENSG00000001167  ENSG00000001460  \\\n",
       "100001_raw-Food_weight          0.329995         0.109494         1.356741   \n",
       "100002_raw-Energy               0.669649         0.041010         0.832120   \n",
       "100003_raw-Protein              0.207873         0.536609         0.453969   \n",
       "100004_raw-Fat                  0.738983         0.565245         0.397189   \n",
       "100005_raw-Carbohydrate         1.113674         0.319842         0.965217   \n",
       "\n",
       "gene_name                ENSG00000001461  ...  ENSG00000284240  \\\n",
       "100001_raw-Food_weight          1.474255  ...         1.490410   \n",
       "100002_raw-Energy               0.954183  ...         1.165679   \n",
       "100003_raw-Protein              1.286942  ...         0.541370   \n",
       "100004_raw-Fat                  0.192279  ...         0.867217   \n",
       "100005_raw-Carbohydrate         0.919779  ...         1.747265   \n",
       "\n",
       "gene_name                ENSG00000284308  ENSG00000284395  ENSG00000284413  \\\n",
       "100001_raw-Food_weight          0.230329         0.596503         0.519733   \n",
       "100002_raw-Energy               0.111142         0.084263         1.229913   \n",
       "100003_raw-Protein              0.734872         0.634674         1.316750   \n",
       "100004_raw-Fat                  0.540941         0.284347         1.661131   \n",
       "100005_raw-Carbohydrate         0.496178         0.144053         0.701817   \n",
       "\n",
       "gene_name                ENSG00000284418  ENSG00000284430  ENSG00000284452  \\\n",
       "100001_raw-Food_weight          2.285074         0.124980         1.587903   \n",
       "100002_raw-Energy               0.390190         0.505316         0.975901   \n",
       "100003_raw-Protein              0.761859         1.276888         0.160988   \n",
       "100004_raw-Fat                  0.404078         1.248959         0.799771   \n",
       "100005_raw-Carbohydrate         0.827677         0.587188         1.089338   \n",
       "\n",
       "gene_name                ENSG00000284513  ENSG00000284526  ENSG00000284552  \n",
       "100001_raw-Food_weight          1.522281         0.150938         1.010143  \n",
       "100002_raw-Energy               1.817369         0.756393         0.729526  \n",
       "100003_raw-Protein              0.346794         0.609476         0.222126  \n",
       "100004_raw-Fat                  1.443097         0.814969         0.545356  \n",
       "100005_raw-Carbohydrate         2.001502         1.362716         1.490030  \n",
       "\n",
       "[5 rows x 22515 columns]"
      ]
     },
     "execution_count": 7,
     "metadata": {},
     "output_type": "execute_result"
    }
   ],
   "source": [
    "data.head()"
   ]
  },
  {
   "cell_type": "markdown",
   "metadata": {},
   "source": [
    "# Select diseases only"
   ]
  },
  {
   "cell_type": "code",
   "execution_count": 8,
   "metadata": {},
   "outputs": [
    {
     "data": {
      "text/plain": [
       "PosixPath('/media/miltondp/Elements1/projects/phenoplier/data/phenomexcan/phenomexcan_traits_fullcode_to_efo.tsv')"
      ]
     },
     "metadata": {},
     "output_type": "display_data"
    }
   ],
   "source": [
    "input_file = conf.PHENOMEXCAN[\"TRAITS_FULLCODE_TO_EFO_MAP_FILE\"]\n",
    "display(input_file)"
   ]
  },
  {
   "cell_type": "code",
   "execution_count": 9,
   "metadata": {},
   "outputs": [],
   "source": [
    "ukb_to_efo_map = read_data(input_file)"
   ]
  },
  {
   "cell_type": "code",
   "execution_count": 10,
   "metadata": {},
   "outputs": [
    {
     "data": {
      "text/plain": [
       "(1087, 7)"
      ]
     },
     "execution_count": 10,
     "metadata": {},
     "output_type": "execute_result"
    }
   ],
   "source": [
    "ukb_to_efo_map.shape"
   ]
  },
  {
   "cell_type": "code",
   "execution_count": 11,
   "metadata": {},
   "outputs": [
    {
     "data": {
      "text/html": [
       "<div>\n",
       "<style scoped>\n",
       "    .dataframe tbody tr th:only-of-type {\n",
       "        vertical-align: middle;\n",
       "    }\n",
       "\n",
       "    .dataframe tbody tr th {\n",
       "        vertical-align: top;\n",
       "    }\n",
       "\n",
       "    .dataframe thead th {\n",
       "        text-align: right;\n",
       "    }\n",
       "</style>\n",
       "<table border=\"1\" class=\"dataframe\">\n",
       "  <thead>\n",
       "    <tr style=\"text-align: right;\">\n",
       "      <th></th>\n",
       "      <th>ukb_code</th>\n",
       "      <th>term_label</th>\n",
       "      <th>term_codes</th>\n",
       "      <th>mapping_type</th>\n",
       "      <th>ukb_fullcode</th>\n",
       "      <th>current_term_label</th>\n",
       "      <th>category</th>\n",
       "    </tr>\n",
       "  </thead>\n",
       "  <tbody>\n",
       "    <tr>\n",
       "      <th>0</th>\n",
       "      <td>K55</td>\n",
       "      <td>vascular disease</td>\n",
       "      <td>EFO:0004264, EFO:0009431</td>\n",
       "      <td>Broad</td>\n",
       "      <td>K55-Diagnoses_main_ICD10_K55_Vascular_disorder...</td>\n",
       "      <td>vascular disease AND intestinal disease</td>\n",
       "      <td>disease</td>\n",
       "    </tr>\n",
       "    <tr>\n",
       "      <th>1</th>\n",
       "      <td>M17</td>\n",
       "      <td>osteoarthritis || knee</td>\n",
       "      <td>EFO:0004616</td>\n",
       "      <td>Broad</td>\n",
       "      <td>M17-Diagnoses_main_ICD10_M17_Gonarthrosis_arth...</td>\n",
       "      <td>osteoarthritis, knee</td>\n",
       "      <td>disease</td>\n",
       "    </tr>\n",
       "    <tr>\n",
       "      <th>2</th>\n",
       "      <td>R30</td>\n",
       "      <td>dysuria</td>\n",
       "      <td>EFO:0003901</td>\n",
       "      <td>? Broad</td>\n",
       "      <td>R30-Diagnoses_main_ICD10_R30_Pain_associated_w...</td>\n",
       "      <td>dysuria</td>\n",
       "      <td>NaN</td>\n",
       "    </tr>\n",
       "    <tr>\n",
       "      <th>3</th>\n",
       "      <td>O60</td>\n",
       "      <td>premature birth</td>\n",
       "      <td>EFO:0003917</td>\n",
       "      <td>? Exact</td>\n",
       "      <td>O60-Diagnoses_main_ICD10_O60_Preterm_delivery</td>\n",
       "      <td>premature birth</td>\n",
       "      <td>NaN</td>\n",
       "    </tr>\n",
       "    <tr>\n",
       "      <th>4</th>\n",
       "      <td>S64</td>\n",
       "      <td>carpal tunnel syndrome</td>\n",
       "      <td>EFO:0004143</td>\n",
       "      <td>? Narrow</td>\n",
       "      <td>S64-Diagnoses_main_ICD10_S64_Injury_of_nerves_...</td>\n",
       "      <td>carpal tunnel syndrome</td>\n",
       "      <td>disease</td>\n",
       "    </tr>\n",
       "  </tbody>\n",
       "</table>\n",
       "</div>"
      ],
      "text/plain": [
       "  ukb_code              term_label                term_codes mapping_type  \\\n",
       "0      K55        vascular disease  EFO:0004264, EFO:0009431        Broad   \n",
       "1      M17  osteoarthritis || knee               EFO:0004616        Broad   \n",
       "2      R30                 dysuria               EFO:0003901      ? Broad   \n",
       "3      O60         premature birth               EFO:0003917      ? Exact   \n",
       "4      S64  carpal tunnel syndrome               EFO:0004143     ? Narrow   \n",
       "\n",
       "                                        ukb_fullcode  \\\n",
       "0  K55-Diagnoses_main_ICD10_K55_Vascular_disorder...   \n",
       "1  M17-Diagnoses_main_ICD10_M17_Gonarthrosis_arth...   \n",
       "2  R30-Diagnoses_main_ICD10_R30_Pain_associated_w...   \n",
       "3      O60-Diagnoses_main_ICD10_O60_Preterm_delivery   \n",
       "4  S64-Diagnoses_main_ICD10_S64_Injury_of_nerves_...   \n",
       "\n",
       "                        current_term_label category  \n",
       "0  vascular disease AND intestinal disease  disease  \n",
       "1                     osteoarthritis, knee  disease  \n",
       "2                                  dysuria      NaN  \n",
       "3                          premature birth      NaN  \n",
       "4                   carpal tunnel syndrome  disease  "
      ]
     },
     "execution_count": 11,
     "metadata": {},
     "output_type": "execute_result"
    }
   ],
   "source": [
    "ukb_to_efo_map.head()"
   ]
  },
  {
   "cell_type": "code",
   "execution_count": 12,
   "metadata": {},
   "outputs": [],
   "source": [
    "efo_diseases = ukb_to_efo_map[ukb_to_efo_map['category'] == 'disease']['current_term_label'].unique()"
   ]
  },
  {
   "cell_type": "code",
   "execution_count": 13,
   "metadata": {},
   "outputs": [
    {
     "data": {
      "text/plain": [
       "(538,)"
      ]
     },
     "execution_count": 13,
     "metadata": {},
     "output_type": "execute_result"
    }
   ],
   "source": [
    "efo_diseases.shape"
   ]
  },
  {
   "cell_type": "code",
   "execution_count": 14,
   "metadata": {},
   "outputs": [],
   "source": [
    "data = data.loc[efo_diseases]"
   ]
  },
  {
   "cell_type": "code",
   "execution_count": 15,
   "metadata": {},
   "outputs": [
    {
     "data": {
      "text/plain": [
       "(538, 22515)"
      ]
     },
     "execution_count": 15,
     "metadata": {},
     "output_type": "execute_result"
    }
   ],
   "source": [
    "data.shape"
   ]
  },
  {
   "cell_type": "code",
   "execution_count": 16,
   "metadata": {},
   "outputs": [
    {
     "data": {
      "text/html": [
       "<div>\n",
       "<style scoped>\n",
       "    .dataframe tbody tr th:only-of-type {\n",
       "        vertical-align: middle;\n",
       "    }\n",
       "\n",
       "    .dataframe tbody tr th {\n",
       "        vertical-align: top;\n",
       "    }\n",
       "\n",
       "    .dataframe thead th {\n",
       "        text-align: right;\n",
       "    }\n",
       "</style>\n",
       "<table border=\"1\" class=\"dataframe\">\n",
       "  <thead>\n",
       "    <tr style=\"text-align: right;\">\n",
       "      <th>gene_name</th>\n",
       "      <th>ENSG00000000419</th>\n",
       "      <th>ENSG00000000457</th>\n",
       "      <th>ENSG00000000460</th>\n",
       "      <th>ENSG00000000938</th>\n",
       "      <th>ENSG00000000971</th>\n",
       "      <th>ENSG00000001036</th>\n",
       "      <th>ENSG00000001084</th>\n",
       "      <th>ENSG00000001167</th>\n",
       "      <th>ENSG00000001460</th>\n",
       "      <th>ENSG00000001461</th>\n",
       "      <th>...</th>\n",
       "      <th>ENSG00000284240</th>\n",
       "      <th>ENSG00000284308</th>\n",
       "      <th>ENSG00000284395</th>\n",
       "      <th>ENSG00000284413</th>\n",
       "      <th>ENSG00000284418</th>\n",
       "      <th>ENSG00000284430</th>\n",
       "      <th>ENSG00000284452</th>\n",
       "      <th>ENSG00000284513</th>\n",
       "      <th>ENSG00000284526</th>\n",
       "      <th>ENSG00000284552</th>\n",
       "    </tr>\n",
       "  </thead>\n",
       "  <tbody>\n",
       "    <tr>\n",
       "      <th>vascular disease AND intestinal disease</th>\n",
       "      <td>1.463849</td>\n",
       "      <td>0.295149</td>\n",
       "      <td>0.862394</td>\n",
       "      <td>0.642430</td>\n",
       "      <td>2.560404</td>\n",
       "      <td>0.276682</td>\n",
       "      <td>1.252690</td>\n",
       "      <td>0.138074</td>\n",
       "      <td>0.253713</td>\n",
       "      <td>0.131490</td>\n",
       "      <td>...</td>\n",
       "      <td>0.238496</td>\n",
       "      <td>1.582408</td>\n",
       "      <td>0.470057</td>\n",
       "      <td>1.212982</td>\n",
       "      <td>1.320907</td>\n",
       "      <td>1.348926</td>\n",
       "      <td>0.925907</td>\n",
       "      <td>0.648023</td>\n",
       "      <td>3.172445</td>\n",
       "      <td>0.658885</td>\n",
       "    </tr>\n",
       "    <tr>\n",
       "      <th>osteoarthritis, knee</th>\n",
       "      <td>1.139573</td>\n",
       "      <td>0.339193</td>\n",
       "      <td>0.063113</td>\n",
       "      <td>0.673883</td>\n",
       "      <td>1.480963</td>\n",
       "      <td>0.029437</td>\n",
       "      <td>0.738344</td>\n",
       "      <td>0.597559</td>\n",
       "      <td>0.310168</td>\n",
       "      <td>0.262036</td>\n",
       "      <td>...</td>\n",
       "      <td>0.144221</td>\n",
       "      <td>0.558024</td>\n",
       "      <td>1.497799</td>\n",
       "      <td>3.391703</td>\n",
       "      <td>0.745621</td>\n",
       "      <td>0.681965</td>\n",
       "      <td>0.577402</td>\n",
       "      <td>0.412460</td>\n",
       "      <td>0.245630</td>\n",
       "      <td>1.401890</td>\n",
       "    </tr>\n",
       "    <tr>\n",
       "      <th>carpal tunnel syndrome</th>\n",
       "      <td>0.918410</td>\n",
       "      <td>0.592007</td>\n",
       "      <td>0.221104</td>\n",
       "      <td>1.875068</td>\n",
       "      <td>0.427498</td>\n",
       "      <td>1.564119</td>\n",
       "      <td>1.739466</td>\n",
       "      <td>0.369079</td>\n",
       "      <td>0.795678</td>\n",
       "      <td>0.811066</td>\n",
       "      <td>...</td>\n",
       "      <td>0.326533</td>\n",
       "      <td>1.521576</td>\n",
       "      <td>0.307704</td>\n",
       "      <td>0.155117</td>\n",
       "      <td>1.459384</td>\n",
       "      <td>0.813065</td>\n",
       "      <td>0.526617</td>\n",
       "      <td>0.618006</td>\n",
       "      <td>0.384546</td>\n",
       "      <td>1.114975</td>\n",
       "    </tr>\n",
       "    <tr>\n",
       "      <th>gastritis</th>\n",
       "      <td>1.616585</td>\n",
       "      <td>0.675119</td>\n",
       "      <td>0.847838</td>\n",
       "      <td>0.976489</td>\n",
       "      <td>0.275587</td>\n",
       "      <td>0.137090</td>\n",
       "      <td>0.246508</td>\n",
       "      <td>1.276920</td>\n",
       "      <td>0.368820</td>\n",
       "      <td>0.205764</td>\n",
       "      <td>...</td>\n",
       "      <td>2.220743</td>\n",
       "      <td>0.934335</td>\n",
       "      <td>0.858603</td>\n",
       "      <td>0.422430</td>\n",
       "      <td>0.221982</td>\n",
       "      <td>0.083101</td>\n",
       "      <td>0.909691</td>\n",
       "      <td>0.539585</td>\n",
       "      <td>1.158575</td>\n",
       "      <td>0.101605</td>\n",
       "    </tr>\n",
       "    <tr>\n",
       "      <th>neoplasm</th>\n",
       "      <td>1.445983</td>\n",
       "      <td>2.245419</td>\n",
       "      <td>1.185771</td>\n",
       "      <td>1.236719</td>\n",
       "      <td>0.298348</td>\n",
       "      <td>0.987865</td>\n",
       "      <td>0.670254</td>\n",
       "      <td>0.563399</td>\n",
       "      <td>1.701640</td>\n",
       "      <td>1.710727</td>\n",
       "      <td>...</td>\n",
       "      <td>1.933531</td>\n",
       "      <td>0.586532</td>\n",
       "      <td>0.324582</td>\n",
       "      <td>0.557693</td>\n",
       "      <td>0.986534</td>\n",
       "      <td>1.205885</td>\n",
       "      <td>1.061329</td>\n",
       "      <td>0.743238</td>\n",
       "      <td>0.591596</td>\n",
       "      <td>0.730569</td>\n",
       "    </tr>\n",
       "  </tbody>\n",
       "</table>\n",
       "<p>5 rows × 22515 columns</p>\n",
       "</div>"
      ],
      "text/plain": [
       "gene_name                                ENSG00000000419  ENSG00000000457  \\\n",
       "vascular disease AND intestinal disease         1.463849         0.295149   \n",
       "osteoarthritis, knee                            1.139573         0.339193   \n",
       "carpal tunnel syndrome                          0.918410         0.592007   \n",
       "gastritis                                       1.616585         0.675119   \n",
       "neoplasm                                        1.445983         2.245419   \n",
       "\n",
       "gene_name                                ENSG00000000460  ENSG00000000938  \\\n",
       "vascular disease AND intestinal disease         0.862394         0.642430   \n",
       "osteoarthritis, knee                            0.063113         0.673883   \n",
       "carpal tunnel syndrome                          0.221104         1.875068   \n",
       "gastritis                                       0.847838         0.976489   \n",
       "neoplasm                                        1.185771         1.236719   \n",
       "\n",
       "gene_name                                ENSG00000000971  ENSG00000001036  \\\n",
       "vascular disease AND intestinal disease         2.560404         0.276682   \n",
       "osteoarthritis, knee                            1.480963         0.029437   \n",
       "carpal tunnel syndrome                          0.427498         1.564119   \n",
       "gastritis                                       0.275587         0.137090   \n",
       "neoplasm                                        0.298348         0.987865   \n",
       "\n",
       "gene_name                                ENSG00000001084  ENSG00000001167  \\\n",
       "vascular disease AND intestinal disease         1.252690         0.138074   \n",
       "osteoarthritis, knee                            0.738344         0.597559   \n",
       "carpal tunnel syndrome                          1.739466         0.369079   \n",
       "gastritis                                       0.246508         1.276920   \n",
       "neoplasm                                        0.670254         0.563399   \n",
       "\n",
       "gene_name                                ENSG00000001460  ENSG00000001461  \\\n",
       "vascular disease AND intestinal disease         0.253713         0.131490   \n",
       "osteoarthritis, knee                            0.310168         0.262036   \n",
       "carpal tunnel syndrome                          0.795678         0.811066   \n",
       "gastritis                                       0.368820         0.205764   \n",
       "neoplasm                                        1.701640         1.710727   \n",
       "\n",
       "gene_name                                ...  ENSG00000284240  \\\n",
       "vascular disease AND intestinal disease  ...         0.238496   \n",
       "osteoarthritis, knee                     ...         0.144221   \n",
       "carpal tunnel syndrome                   ...         0.326533   \n",
       "gastritis                                ...         2.220743   \n",
       "neoplasm                                 ...         1.933531   \n",
       "\n",
       "gene_name                                ENSG00000284308  ENSG00000284395  \\\n",
       "vascular disease AND intestinal disease         1.582408         0.470057   \n",
       "osteoarthritis, knee                            0.558024         1.497799   \n",
       "carpal tunnel syndrome                          1.521576         0.307704   \n",
       "gastritis                                       0.934335         0.858603   \n",
       "neoplasm                                        0.586532         0.324582   \n",
       "\n",
       "gene_name                                ENSG00000284413  ENSG00000284418  \\\n",
       "vascular disease AND intestinal disease         1.212982         1.320907   \n",
       "osteoarthritis, knee                            3.391703         0.745621   \n",
       "carpal tunnel syndrome                          0.155117         1.459384   \n",
       "gastritis                                       0.422430         0.221982   \n",
       "neoplasm                                        0.557693         0.986534   \n",
       "\n",
       "gene_name                                ENSG00000284430  ENSG00000284452  \\\n",
       "vascular disease AND intestinal disease         1.348926         0.925907   \n",
       "osteoarthritis, knee                            0.681965         0.577402   \n",
       "carpal tunnel syndrome                          0.813065         0.526617   \n",
       "gastritis                                       0.083101         0.909691   \n",
       "neoplasm                                        1.205885         1.061329   \n",
       "\n",
       "gene_name                                ENSG00000284513  ENSG00000284526  \\\n",
       "vascular disease AND intestinal disease         0.648023         3.172445   \n",
       "osteoarthritis, knee                            0.412460         0.245630   \n",
       "carpal tunnel syndrome                          0.618006         0.384546   \n",
       "gastritis                                       0.539585         1.158575   \n",
       "neoplasm                                        0.743238         0.591596   \n",
       "\n",
       "gene_name                                ENSG00000284552  \n",
       "vascular disease AND intestinal disease         0.658885  \n",
       "osteoarthritis, knee                            1.401890  \n",
       "carpal tunnel syndrome                          1.114975  \n",
       "gastritis                                       0.101605  \n",
       "neoplasm                                        0.730569  \n",
       "\n",
       "[5 rows x 22515 columns]"
      ]
     },
     "execution_count": 16,
     "metadata": {},
     "output_type": "execute_result"
    }
   ],
   "source": [
    "data.head()"
   ]
  },
  {
   "cell_type": "code",
   "execution_count": 17,
   "metadata": {},
   "outputs": [],
   "source": [
    "assert not data.isna().any().any()"
   ]
  },
  {
   "cell_type": "markdown",
   "metadata": {},
   "source": [
    "# Save"
   ]
  },
  {
   "cell_type": "code",
   "execution_count": 18,
   "metadata": {},
   "outputs": [
    {
     "data": {
      "text/plain": [
       "PosixPath('/media/miltondp/Elements1/projects/phenoplier/results/data_transformations/traits_selections/diseases_only-smultixcan-efo_partial-mashr-zscores.pkl')"
      ]
     },
     "metadata": {},
     "output_type": "display_data"
    }
   ],
   "source": [
    "output_file = Path(\n",
    "    RESULTS_DIR,\n",
    "    f'diseases_only-{input_filepath_stem}.pkl',\n",
    ").resolve()\n",
    "\n",
    "display(output_file)"
   ]
  },
  {
   "cell_type": "code",
   "execution_count": 19,
   "metadata": {},
   "outputs": [],
   "source": [
    "data.to_pickle(output_file)"
   ]
  },
  {
   "cell_type": "code",
   "execution_count": null,
   "metadata": {},
   "outputs": [],
   "source": []
  }
 ],
 "metadata": {
  "kernelspec": {
   "display_name": "Python 3",
   "language": "python",
   "name": "python3"
  },
  "language_info": {
   "codemirror_mode": {
    "name": "ipython",
    "version": 3
   },
   "file_extension": ".py",
   "mimetype": "text/x-python",
   "name": "python",
   "nbconvert_exporter": "python",
   "pygments_lexer": "ipython3",
   "version": "3.8.6"
  },
  "toc-autonumbering": true,
  "toc-showcode": false,
  "toc-showmarkdowntxt": false,
  "toc-showtags": false
 },
 "nbformat": 4,
 "nbformat_minor": 4
}
