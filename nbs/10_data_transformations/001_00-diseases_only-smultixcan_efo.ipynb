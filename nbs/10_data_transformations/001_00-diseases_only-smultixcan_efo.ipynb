{
 "cells": [
  {
   "cell_type": "markdown",
   "metadata": {
    "papermill": {
     "duration": 0.040314,
     "end_time": "2020-11-24T17:19:15.171205",
     "exception": false,
     "start_time": "2020-11-24T17:19:15.130891",
     "status": "completed"
    },
    "tags": []
   },
   "source": [
    "# Description"
   ]
  },
  {
   "cell_type": "markdown",
   "metadata": {
    "papermill": {
     "duration": 0.010525,
     "end_time": "2020-11-24T17:19:15.197663",
     "exception": false,
     "start_time": "2020-11-24T17:19:15.187138",
     "status": "completed"
    },
    "tags": []
   },
   "source": [
    "It selects diseases only from traits."
   ]
  },
  {
   "cell_type": "markdown",
   "metadata": {
    "papermill": {
     "duration": 0.009113,
     "end_time": "2020-11-24T17:19:15.216155",
     "exception": false,
     "start_time": "2020-11-24T17:19:15.207042",
     "status": "completed"
    },
    "tags": []
   },
   "source": [
    "# Modules loading"
   ]
  },
  {
   "cell_type": "code",
   "execution_count": 1,
   "metadata": {
    "execution": {
     "iopub.execute_input": "2020-11-24T17:19:15.239381Z",
     "iopub.status.busy": "2020-11-24T17:19:15.239007Z",
     "iopub.status.idle": "2020-11-24T17:19:15.246898Z",
     "shell.execute_reply": "2020-11-24T17:19:15.246474Z"
    },
    "papermill": {
     "duration": 0.021481,
     "end_time": "2020-11-24T17:19:15.247022",
     "exception": false,
     "start_time": "2020-11-24T17:19:15.225541",
     "status": "completed"
    },
    "tags": []
   },
   "outputs": [],
   "source": [
    "%load_ext autoreload\n",
    "%autoreload 2"
   ]
  },
  {
   "cell_type": "code",
   "execution_count": 2,
   "metadata": {
    "execution": {
     "iopub.execute_input": "2020-11-24T17:19:15.268955Z",
     "iopub.status.busy": "2020-11-24T17:19:15.268501Z",
     "iopub.status.idle": "2020-11-24T17:19:16.865781Z",
     "shell.execute_reply": "2020-11-24T17:19:16.866117Z"
    },
    "papermill": {
     "duration": 1.609571,
     "end_time": "2020-11-24T17:19:16.866248",
     "exception": false,
     "start_time": "2020-11-24T17:19:15.256677",
     "status": "completed"
    },
    "tags": []
   },
   "outputs": [],
   "source": [
    "from pathlib import Path\n",
    "from IPython.display import display\n",
    "\n",
    "import pandas as pd\n",
    "import umap\n",
    "import matplotlib.pyplot as plt\n",
    "import seaborn as sns\n",
    "\n",
    "import conf\n",
    "from utils import generate_result_set_name\n",
    "from data.cache import read_data"
   ]
  },
  {
   "cell_type": "markdown",
   "metadata": {
    "papermill": {
     "duration": 0.010244,
     "end_time": "2020-11-24T17:19:16.887815",
     "exception": false,
     "start_time": "2020-11-24T17:19:16.877571",
     "status": "completed"
    },
    "tags": []
   },
   "source": [
    "# Settings"
   ]
  },
  {
   "cell_type": "code",
   "execution_count": 3,
   "metadata": {
    "execution": {
     "iopub.execute_input": "2020-11-24T17:19:16.909488Z",
     "iopub.status.busy": "2020-11-24T17:19:16.909118Z",
     "iopub.status.idle": "2020-11-24T17:19:16.924279Z",
     "shell.execute_reply": "2020-11-24T17:19:16.923843Z"
    },
    "papermill": {
     "duration": 0.027034,
     "end_time": "2020-11-24T17:19:16.924383",
     "exception": false,
     "start_time": "2020-11-24T17:19:16.897349",
     "status": "completed"
    },
    "tags": []
   },
   "outputs": [
    {
     "data": {
      "text/plain": [
       "PosixPath('/home/miltondp/projects/labs/greenelab/phenoplier/base/data/phenomexcan/gene_assoc/smultixcan-efo_partial-mashr-zscores.pkl')"
      ]
     },
     "metadata": {},
     "output_type": "display_data"
    },
    {
     "data": {
      "text/plain": [
       "'smultixcan-efo_partial-mashr-zscores'"
      ]
     },
     "metadata": {},
     "output_type": "display_data"
    }
   ],
   "source": [
    "INPUT_FILEPATH = Path(\n",
    "    conf.PHENOMEXCAN[\"SMULTIXCAN_EFO_PARTIAL_MASHR_ZSCORES_FILE\"]\n",
    ").resolve()\n",
    "display(INPUT_FILEPATH)\n",
    "\n",
    "input_filepath_stem = INPUT_FILEPATH.stem\n",
    "display(input_filepath_stem)"
   ]
  },
  {
   "cell_type": "code",
   "execution_count": 4,
   "metadata": {
    "execution": {
     "iopub.execute_input": "2020-11-24T17:19:16.949587Z",
     "iopub.status.busy": "2020-11-24T17:19:16.949187Z",
     "iopub.status.idle": "2020-11-24T17:19:16.962959Z",
     "shell.execute_reply": "2020-11-24T17:19:16.962549Z"
    },
    "papermill": {
     "duration": 0.027362,
     "end_time": "2020-11-24T17:19:16.963054",
     "exception": false,
     "start_time": "2020-11-24T17:19:16.935692",
     "status": "completed"
    },
    "tags": []
   },
   "outputs": [
    {
     "data": {
      "text/plain": [
       "PosixPath('/home/miltondp/projects/labs/greenelab/phenoplier/base/results/data_transformations/traits_selections')"
      ]
     },
     "metadata": {},
     "output_type": "display_data"
    }
   ],
   "source": [
    "# output dir for this notebook\n",
    "RESULTS_DIR = Path(\n",
    "    conf.RESULTS[\"DATA_TRANSFORMATIONS_DIR\"],\n",
    "    'traits_selections'\n",
    ").resolve()\n",
    "RESULTS_DIR.mkdir(parents=True, exist_ok=True)\n",
    "\n",
    "display(RESULTS_DIR)"
   ]
  },
  {
   "cell_type": "markdown",
   "metadata": {
    "papermill": {
     "duration": 0.010441,
     "end_time": "2020-11-24T17:19:16.985086",
     "exception": false,
     "start_time": "2020-11-24T17:19:16.974645",
     "status": "completed"
    },
    "tags": []
   },
   "source": [
    "# Load input file"
   ]
  },
  {
   "cell_type": "code",
   "execution_count": 5,
   "metadata": {
    "execution": {
     "iopub.execute_input": "2020-11-24T17:19:17.008173Z",
     "iopub.status.busy": "2020-11-24T17:19:17.007811Z",
     "iopub.status.idle": "2020-11-24T17:19:17.240721Z",
     "shell.execute_reply": "2020-11-24T17:19:17.240314Z"
    },
    "papermill": {
     "duration": 0.245585,
     "end_time": "2020-11-24T17:19:17.240824",
     "exception": false,
     "start_time": "2020-11-24T17:19:16.995239",
     "status": "completed"
    },
    "tags": []
   },
   "outputs": [],
   "source": [
    "data = pd.read_pickle(INPUT_FILEPATH).T"
   ]
  },
  {
   "cell_type": "code",
   "execution_count": 6,
   "metadata": {
    "execution": {
     "iopub.execute_input": "2020-11-24T17:19:17.266044Z",
     "iopub.status.busy": "2020-11-24T17:19:17.265667Z",
     "iopub.status.idle": "2020-11-24T17:19:17.278555Z",
     "shell.execute_reply": "2020-11-24T17:19:17.278841Z"
    },
    "papermill": {
     "duration": 0.026271,
     "end_time": "2020-11-24T17:19:17.278952",
     "exception": false,
     "start_time": "2020-11-24T17:19:17.252681",
     "status": "completed"
    },
    "tags": []
   },
   "outputs": [
    {
     "data": {
      "text/plain": [
       "(3749, 22515)"
      ]
     },
     "execution_count": 6,
     "metadata": {},
     "output_type": "execute_result"
    }
   ],
   "source": [
    "data.shape"
   ]
  },
  {
   "cell_type": "code",
   "execution_count": 7,
   "metadata": {
    "execution": {
     "iopub.execute_input": "2020-11-24T17:19:17.303521Z",
     "iopub.status.busy": "2020-11-24T17:19:17.303143Z",
     "iopub.status.idle": "2020-11-24T17:19:17.331788Z",
     "shell.execute_reply": "2020-11-24T17:19:17.331461Z"
    },
    "papermill": {
     "duration": 0.041666,
     "end_time": "2020-11-24T17:19:17.331891",
     "exception": false,
     "start_time": "2020-11-24T17:19:17.290225",
     "status": "completed"
    },
    "tags": []
   },
   "outputs": [
    {
     "data": {
      "text/html": [
       "<div>\n",
       "<style scoped>\n",
       "    .dataframe tbody tr th:only-of-type {\n",
       "        vertical-align: middle;\n",
       "    }\n",
       "\n",
       "    .dataframe tbody tr th {\n",
       "        vertical-align: top;\n",
       "    }\n",
       "\n",
       "    .dataframe thead th {\n",
       "        text-align: right;\n",
       "    }\n",
       "</style>\n",
       "<table border=\"1\" class=\"dataframe\">\n",
       "  <thead>\n",
       "    <tr style=\"text-align: right;\">\n",
       "      <th>gene_name</th>\n",
       "      <th>ENSG00000000419</th>\n",
       "      <th>ENSG00000000457</th>\n",
       "      <th>ENSG00000000460</th>\n",
       "      <th>ENSG00000000938</th>\n",
       "      <th>ENSG00000000971</th>\n",
       "      <th>ENSG00000001036</th>\n",
       "      <th>ENSG00000001084</th>\n",
       "      <th>ENSG00000001167</th>\n",
       "      <th>ENSG00000001460</th>\n",
       "      <th>ENSG00000001461</th>\n",
       "      <th>...</th>\n",
       "      <th>ENSG00000284240</th>\n",
       "      <th>ENSG00000284308</th>\n",
       "      <th>ENSG00000284395</th>\n",
       "      <th>ENSG00000284413</th>\n",
       "      <th>ENSG00000284418</th>\n",
       "      <th>ENSG00000284430</th>\n",
       "      <th>ENSG00000284452</th>\n",
       "      <th>ENSG00000284513</th>\n",
       "      <th>ENSG00000284526</th>\n",
       "      <th>ENSG00000284552</th>\n",
       "    </tr>\n",
       "  </thead>\n",
       "  <tbody>\n",
       "    <tr>\n",
       "      <th>100001_raw-Food_weight</th>\n",
       "      <td>1.145442</td>\n",
       "      <td>0.618066</td>\n",
       "      <td>0.515724</td>\n",
       "      <td>0.280781</td>\n",
       "      <td>0.548127</td>\n",
       "      <td>0.045587</td>\n",
       "      <td>0.329995</td>\n",
       "      <td>0.109494</td>\n",
       "      <td>1.356741</td>\n",
       "      <td>1.474255</td>\n",
       "      <td>...</td>\n",
       "      <td>1.490410</td>\n",
       "      <td>0.230329</td>\n",
       "      <td>0.596503</td>\n",
       "      <td>0.519733</td>\n",
       "      <td>2.285074</td>\n",
       "      <td>0.124980</td>\n",
       "      <td>1.587903</td>\n",
       "      <td>1.522281</td>\n",
       "      <td>0.150938</td>\n",
       "      <td>1.010143</td>\n",
       "    </tr>\n",
       "    <tr>\n",
       "      <th>100002_raw-Energy</th>\n",
       "      <td>0.724557</td>\n",
       "      <td>1.028131</td>\n",
       "      <td>0.403596</td>\n",
       "      <td>0.253910</td>\n",
       "      <td>0.389877</td>\n",
       "      <td>0.197393</td>\n",
       "      <td>0.669649</td>\n",
       "      <td>0.041010</td>\n",
       "      <td>0.832120</td>\n",
       "      <td>0.954183</td>\n",
       "      <td>...</td>\n",
       "      <td>1.165679</td>\n",
       "      <td>0.111142</td>\n",
       "      <td>0.084263</td>\n",
       "      <td>1.229913</td>\n",
       "      <td>0.390190</td>\n",
       "      <td>0.505316</td>\n",
       "      <td>0.975901</td>\n",
       "      <td>1.817369</td>\n",
       "      <td>0.756393</td>\n",
       "      <td>0.729526</td>\n",
       "    </tr>\n",
       "    <tr>\n",
       "      <th>100003_raw-Protein</th>\n",
       "      <td>0.090876</td>\n",
       "      <td>2.218420</td>\n",
       "      <td>1.251359</td>\n",
       "      <td>0.879148</td>\n",
       "      <td>0.723469</td>\n",
       "      <td>0.777974</td>\n",
       "      <td>0.207873</td>\n",
       "      <td>0.536609</td>\n",
       "      <td>0.453969</td>\n",
       "      <td>1.286942</td>\n",
       "      <td>...</td>\n",
       "      <td>0.541370</td>\n",
       "      <td>0.734872</td>\n",
       "      <td>0.634674</td>\n",
       "      <td>1.316750</td>\n",
       "      <td>0.761859</td>\n",
       "      <td>1.276888</td>\n",
       "      <td>0.160988</td>\n",
       "      <td>0.346794</td>\n",
       "      <td>0.609476</td>\n",
       "      <td>0.222126</td>\n",
       "    </tr>\n",
       "    <tr>\n",
       "      <th>100004_raw-Fat</th>\n",
       "      <td>0.298165</td>\n",
       "      <td>0.762584</td>\n",
       "      <td>0.433091</td>\n",
       "      <td>0.352705</td>\n",
       "      <td>1.167250</td>\n",
       "      <td>0.578435</td>\n",
       "      <td>0.738983</td>\n",
       "      <td>0.565245</td>\n",
       "      <td>0.397189</td>\n",
       "      <td>0.192279</td>\n",
       "      <td>...</td>\n",
       "      <td>0.867217</td>\n",
       "      <td>0.540941</td>\n",
       "      <td>0.284347</td>\n",
       "      <td>1.661131</td>\n",
       "      <td>0.404078</td>\n",
       "      <td>1.248959</td>\n",
       "      <td>0.799771</td>\n",
       "      <td>1.443097</td>\n",
       "      <td>0.814969</td>\n",
       "      <td>0.545356</td>\n",
       "    </tr>\n",
       "    <tr>\n",
       "      <th>100005_raw-Carbohydrate</th>\n",
       "      <td>1.134347</td>\n",
       "      <td>0.934418</td>\n",
       "      <td>0.413466</td>\n",
       "      <td>0.051846</td>\n",
       "      <td>0.315952</td>\n",
       "      <td>0.046237</td>\n",
       "      <td>1.113674</td>\n",
       "      <td>0.319842</td>\n",
       "      <td>0.965217</td>\n",
       "      <td>0.919779</td>\n",
       "      <td>...</td>\n",
       "      <td>1.747265</td>\n",
       "      <td>0.496178</td>\n",
       "      <td>0.144053</td>\n",
       "      <td>0.701817</td>\n",
       "      <td>0.827677</td>\n",
       "      <td>0.587188</td>\n",
       "      <td>1.089338</td>\n",
       "      <td>2.001502</td>\n",
       "      <td>1.362716</td>\n",
       "      <td>1.490030</td>\n",
       "    </tr>\n",
       "  </tbody>\n",
       "</table>\n",
       "<p>5 rows × 22515 columns</p>\n",
       "</div>"
      ],
      "text/plain": [
       "gene_name                ENSG00000000419  ENSG00000000457  ENSG00000000460  \\\n",
       "100001_raw-Food_weight          1.145442         0.618066         0.515724   \n",
       "100002_raw-Energy               0.724557         1.028131         0.403596   \n",
       "100003_raw-Protein              0.090876         2.218420         1.251359   \n",
       "100004_raw-Fat                  0.298165         0.762584         0.433091   \n",
       "100005_raw-Carbohydrate         1.134347         0.934418         0.413466   \n",
       "\n",
       "gene_name                ENSG00000000938  ENSG00000000971  ENSG00000001036  \\\n",
       "100001_raw-Food_weight          0.280781         0.548127         0.045587   \n",
       "100002_raw-Energy               0.253910         0.389877         0.197393   \n",
       "100003_raw-Protein              0.879148         0.723469         0.777974   \n",
       "100004_raw-Fat                  0.352705         1.167250         0.578435   \n",
       "100005_raw-Carbohydrate         0.051846         0.315952         0.046237   \n",
       "\n",
       "gene_name                ENSG00000001084  ENSG00000001167  ENSG00000001460  \\\n",
       "100001_raw-Food_weight          0.329995         0.109494         1.356741   \n",
       "100002_raw-Energy               0.669649         0.041010         0.832120   \n",
       "100003_raw-Protein              0.207873         0.536609         0.453969   \n",
       "100004_raw-Fat                  0.738983         0.565245         0.397189   \n",
       "100005_raw-Carbohydrate         1.113674         0.319842         0.965217   \n",
       "\n",
       "gene_name                ENSG00000001461  ...  ENSG00000284240  \\\n",
       "100001_raw-Food_weight          1.474255  ...         1.490410   \n",
       "100002_raw-Energy               0.954183  ...         1.165679   \n",
       "100003_raw-Protein              1.286942  ...         0.541370   \n",
       "100004_raw-Fat                  0.192279  ...         0.867217   \n",
       "100005_raw-Carbohydrate         0.919779  ...         1.747265   \n",
       "\n",
       "gene_name                ENSG00000284308  ENSG00000284395  ENSG00000284413  \\\n",
       "100001_raw-Food_weight          0.230329         0.596503         0.519733   \n",
       "100002_raw-Energy               0.111142         0.084263         1.229913   \n",
       "100003_raw-Protein              0.734872         0.634674         1.316750   \n",
       "100004_raw-Fat                  0.540941         0.284347         1.661131   \n",
       "100005_raw-Carbohydrate         0.496178         0.144053         0.701817   \n",
       "\n",
       "gene_name                ENSG00000284418  ENSG00000284430  ENSG00000284452  \\\n",
       "100001_raw-Food_weight          2.285074         0.124980         1.587903   \n",
       "100002_raw-Energy               0.390190         0.505316         0.975901   \n",
       "100003_raw-Protein              0.761859         1.276888         0.160988   \n",
       "100004_raw-Fat                  0.404078         1.248959         0.799771   \n",
       "100005_raw-Carbohydrate         0.827677         0.587188         1.089338   \n",
       "\n",
       "gene_name                ENSG00000284513  ENSG00000284526  ENSG00000284552  \n",
       "100001_raw-Food_weight          1.522281         0.150938         1.010143  \n",
       "100002_raw-Energy               1.817369         0.756393         0.729526  \n",
       "100003_raw-Protein              0.346794         0.609476         0.222126  \n",
       "100004_raw-Fat                  1.443097         0.814969         0.545356  \n",
       "100005_raw-Carbohydrate         2.001502         1.362716         1.490030  \n",
       "\n",
       "[5 rows x 22515 columns]"
      ]
     },
     "execution_count": 7,
     "metadata": {},
     "output_type": "execute_result"
    }
   ],
   "source": [
    "data.head()"
   ]
  },
  {
   "cell_type": "markdown",
   "metadata": {
    "papermill": {
     "duration": 0.010767,
     "end_time": "2020-11-24T17:19:17.354230",
     "exception": false,
     "start_time": "2020-11-24T17:19:17.343463",
     "status": "completed"
    },
    "tags": []
   },
   "source": [
    "# Keep only genes in the MultiPLIER model"
   ]
  },
  {
   "cell_type": "code",
   "execution_count": 8,
   "metadata": {
    "execution": {
     "iopub.execute_input": "2020-11-24T17:19:17.378581Z",
     "iopub.status.busy": "2020-11-24T17:19:17.378153Z",
     "iopub.status.idle": "2020-11-24T17:19:17.565367Z",
     "shell.execute_reply": "2020-11-24T17:19:17.565681Z"
    },
    "papermill": {
     "duration": 0.200747,
     "end_time": "2020-11-24T17:19:17.565805",
     "exception": false,
     "start_time": "2020-11-24T17:19:17.365058",
     "status": "completed"
    },
    "tags": []
   },
   "outputs": [],
   "source": [
    "from entity import Gene\n",
    "from multiplier import MultiplierProjection"
   ]
  },
  {
   "cell_type": "code",
   "execution_count": 9,
   "metadata": {
    "execution": {
     "iopub.execute_input": "2020-11-24T17:19:17.592168Z",
     "iopub.status.busy": "2020-11-24T17:19:17.591782Z",
     "iopub.status.idle": "2020-11-24T17:19:17.642396Z",
     "shell.execute_reply": "2020-11-24T17:19:17.642051Z"
    },
    "papermill": {
     "duration": 0.064355,
     "end_time": "2020-11-24T17:19:17.642499",
     "exception": false,
     "start_time": "2020-11-24T17:19:17.578144",
     "status": "completed"
    },
    "tags": []
   },
   "outputs": [],
   "source": [
    "multiplier_genes = \\\n",
    "    MultiplierProjection._read_model_z()\\\n",
    "    .rename(index=Gene.GENE_NAME_TO_ID_MAP).index"
   ]
  },
  {
   "cell_type": "code",
   "execution_count": 10,
   "metadata": {
    "execution": {
     "iopub.execute_input": "2020-11-24T17:19:17.668609Z",
     "iopub.status.busy": "2020-11-24T17:19:17.668251Z",
     "iopub.status.idle": "2020-11-24T17:19:17.683734Z",
     "shell.execute_reply": "2020-11-24T17:19:17.683394Z"
    },
    "papermill": {
     "duration": 0.028969,
     "end_time": "2020-11-24T17:19:17.683836",
     "exception": false,
     "start_time": "2020-11-24T17:19:17.654867",
     "status": "completed"
    },
    "tags": []
   },
   "outputs": [],
   "source": [
    "# common_genes = smultixcan_results.index.intersection(lincs_consensi_drugbank.index)\n",
    "common_genes = multiplier_genes.intersection(data.columns)"
   ]
  },
  {
   "cell_type": "code",
   "execution_count": 11,
   "metadata": {
    "execution": {
     "iopub.execute_input": "2020-11-24T17:19:17.711662Z",
     "iopub.status.busy": "2020-11-24T17:19:17.711261Z",
     "iopub.status.idle": "2020-11-24T17:19:17.724806Z",
     "shell.execute_reply": "2020-11-24T17:19:17.724416Z"
    },
    "papermill": {
     "duration": 0.028184,
     "end_time": "2020-11-24T17:19:17.724896",
     "exception": false,
     "start_time": "2020-11-24T17:19:17.696712",
     "status": "completed"
    },
    "tags": []
   },
   "outputs": [
    {
     "data": {
      "text/plain": [
       "Index(['ENSG00000183087', 'ENSG00000157227', 'ENSG00000096696',\n",
       "       'ENSG00000175130', 'ENSG00000113140', 'ENSG00000117984',\n",
       "       'ENSG00000116016', 'ENSG00000129116', 'ENSG00000134686',\n",
       "       'ENSG00000108679',\n",
       "       ...\n",
       "       'ENSG00000111716', 'ENSG00000166796', 'ENSG00000114331',\n",
       "       'ENSG00000131584', 'ENSG00000165410', 'ENSG00000172757',\n",
       "       'ENSG00000147862', 'ENSG00000008323', 'ENSG00000167083',\n",
       "       'ENSG00000149257'],\n",
       "      dtype='object', length=6452)"
      ]
     },
     "execution_count": 11,
     "metadata": {},
     "output_type": "execute_result"
    }
   ],
   "source": [
    "common_genes"
   ]
  },
  {
   "cell_type": "code",
   "execution_count": 12,
   "metadata": {
    "execution": {
     "iopub.execute_input": "2020-11-24T17:19:17.754269Z",
     "iopub.status.busy": "2020-11-24T17:19:17.751551Z",
     "iopub.status.idle": "2020-11-24T17:19:17.867182Z",
     "shell.execute_reply": "2020-11-24T17:19:17.866667Z"
    },
    "papermill": {
     "duration": 0.130261,
     "end_time": "2020-11-24T17:19:17.867300",
     "exception": false,
     "start_time": "2020-11-24T17:19:17.737039",
     "status": "completed"
    },
    "tags": []
   },
   "outputs": [],
   "source": [
    "data = data[common_genes]"
   ]
  },
  {
   "cell_type": "code",
   "execution_count": 13,
   "metadata": {
    "execution": {
     "iopub.execute_input": "2020-11-24T17:19:17.900468Z",
     "iopub.status.busy": "2020-11-24T17:19:17.900007Z",
     "iopub.status.idle": "2020-11-24T17:19:17.914754Z",
     "shell.execute_reply": "2020-11-24T17:19:17.915103Z"
    },
    "papermill": {
     "duration": 0.032408,
     "end_time": "2020-11-24T17:19:17.915236",
     "exception": false,
     "start_time": "2020-11-24T17:19:17.882828",
     "status": "completed"
    },
    "tags": []
   },
   "outputs": [
    {
     "data": {
      "text/plain": [
       "(3749, 6452)"
      ]
     },
     "execution_count": 13,
     "metadata": {},
     "output_type": "execute_result"
    }
   ],
   "source": [
    "data.shape"
   ]
  },
  {
   "cell_type": "code",
   "execution_count": 14,
   "metadata": {
    "execution": {
     "iopub.execute_input": "2020-11-24T17:19:17.947634Z",
     "iopub.status.busy": "2020-11-24T17:19:17.947266Z",
     "iopub.status.idle": "2020-11-24T17:19:17.987311Z",
     "shell.execute_reply": "2020-11-24T17:19:17.987642Z"
    },
    "papermill": {
     "duration": 0.057172,
     "end_time": "2020-11-24T17:19:17.987771",
     "exception": false,
     "start_time": "2020-11-24T17:19:17.930599",
     "status": "completed"
    },
    "tags": []
   },
   "outputs": [],
   "source": [
    "assert not data.isna().any().any()"
   ]
  },
  {
   "cell_type": "markdown",
   "metadata": {
    "papermill": {
     "duration": 0.0136,
     "end_time": "2020-11-24T17:19:18.015388",
     "exception": false,
     "start_time": "2020-11-24T17:19:18.001788",
     "status": "completed"
    },
    "tags": []
   },
   "source": [
    "# Select diseases only"
   ]
  },
  {
   "cell_type": "code",
   "execution_count": 15,
   "metadata": {
    "execution": {
     "iopub.execute_input": "2020-11-24T17:19:18.042681Z",
     "iopub.status.busy": "2020-11-24T17:19:18.042268Z",
     "iopub.status.idle": "2020-11-24T17:19:18.054801Z",
     "shell.execute_reply": "2020-11-24T17:19:18.054473Z"
    },
    "papermill": {
     "duration": 0.026886,
     "end_time": "2020-11-24T17:19:18.054889",
     "exception": false,
     "start_time": "2020-11-24T17:19:18.028003",
     "status": "completed"
    },
    "tags": []
   },
   "outputs": [
    {
     "data": {
      "text/plain": [
       "PosixPath('/home/miltondp/projects/labs/greenelab/phenoplier/base/data/phenomexcan/phenomexcan_traits_fullcode_to_efo.tsv')"
      ]
     },
     "metadata": {},
     "output_type": "display_data"
    }
   ],
   "source": [
    "input_file = conf.PHENOMEXCAN[\"TRAITS_FULLCODE_TO_EFO_MAP_FILE\"]\n",
    "display(input_file)"
   ]
  },
  {
   "cell_type": "code",
   "execution_count": 16,
   "metadata": {
    "execution": {
     "iopub.execute_input": "2020-11-24T17:19:18.081732Z",
     "iopub.status.busy": "2020-11-24T17:19:18.081361Z",
     "iopub.status.idle": "2020-11-24T17:19:18.096851Z",
     "shell.execute_reply": "2020-11-24T17:19:18.096495Z"
    },
    "papermill": {
     "duration": 0.02976,
     "end_time": "2020-11-24T17:19:18.096942",
     "exception": false,
     "start_time": "2020-11-24T17:19:18.067182",
     "status": "completed"
    },
    "tags": []
   },
   "outputs": [],
   "source": [
    "ukb_to_efo_map = read_data(input_file)"
   ]
  },
  {
   "cell_type": "code",
   "execution_count": 17,
   "metadata": {
    "execution": {
     "iopub.execute_input": "2020-11-24T17:19:18.124368Z",
     "iopub.status.busy": "2020-11-24T17:19:18.123994Z",
     "iopub.status.idle": "2020-11-24T17:19:18.136776Z",
     "shell.execute_reply": "2020-11-24T17:19:18.136367Z"
    },
    "papermill": {
     "duration": 0.027223,
     "end_time": "2020-11-24T17:19:18.136865",
     "exception": false,
     "start_time": "2020-11-24T17:19:18.109642",
     "status": "completed"
    },
    "tags": []
   },
   "outputs": [
    {
     "data": {
      "text/plain": [
       "(1087, 7)"
      ]
     },
     "execution_count": 17,
     "metadata": {},
     "output_type": "execute_result"
    }
   ],
   "source": [
    "ukb_to_efo_map.shape"
   ]
  },
  {
   "cell_type": "code",
   "execution_count": 18,
   "metadata": {
    "execution": {
     "iopub.execute_input": "2020-11-24T17:19:18.164245Z",
     "iopub.status.busy": "2020-11-24T17:19:18.163887Z",
     "iopub.status.idle": "2020-11-24T17:19:18.181392Z",
     "shell.execute_reply": "2020-11-24T17:19:18.181007Z"
    },
    "papermill": {
     "duration": 0.031824,
     "end_time": "2020-11-24T17:19:18.181485",
     "exception": false,
     "start_time": "2020-11-24T17:19:18.149661",
     "status": "completed"
    },
    "tags": []
   },
   "outputs": [
    {
     "data": {
      "text/html": [
       "<div>\n",
       "<style scoped>\n",
       "    .dataframe tbody tr th:only-of-type {\n",
       "        vertical-align: middle;\n",
       "    }\n",
       "\n",
       "    .dataframe tbody tr th {\n",
       "        vertical-align: top;\n",
       "    }\n",
       "\n",
       "    .dataframe thead th {\n",
       "        text-align: right;\n",
       "    }\n",
       "</style>\n",
       "<table border=\"1\" class=\"dataframe\">\n",
       "  <thead>\n",
       "    <tr style=\"text-align: right;\">\n",
       "      <th></th>\n",
       "      <th>ukb_code</th>\n",
       "      <th>term_label</th>\n",
       "      <th>term_codes</th>\n",
       "      <th>mapping_type</th>\n",
       "      <th>ukb_fullcode</th>\n",
       "      <th>current_term_label</th>\n",
       "      <th>category</th>\n",
       "    </tr>\n",
       "  </thead>\n",
       "  <tbody>\n",
       "    <tr>\n",
       "      <th>0</th>\n",
       "      <td>K55</td>\n",
       "      <td>vascular disease</td>\n",
       "      <td>EFO:0004264, EFO:0009431</td>\n",
       "      <td>Broad</td>\n",
       "      <td>K55-Diagnoses_main_ICD10_K55_Vascular_disorder...</td>\n",
       "      <td>vascular disease AND intestinal disease</td>\n",
       "      <td>disease</td>\n",
       "    </tr>\n",
       "    <tr>\n",
       "      <th>1</th>\n",
       "      <td>M17</td>\n",
       "      <td>osteoarthritis || knee</td>\n",
       "      <td>EFO:0004616</td>\n",
       "      <td>Broad</td>\n",
       "      <td>M17-Diagnoses_main_ICD10_M17_Gonarthrosis_arth...</td>\n",
       "      <td>osteoarthritis, knee</td>\n",
       "      <td>disease</td>\n",
       "    </tr>\n",
       "    <tr>\n",
       "      <th>2</th>\n",
       "      <td>R30</td>\n",
       "      <td>dysuria</td>\n",
       "      <td>EFO:0003901</td>\n",
       "      <td>? Broad</td>\n",
       "      <td>R30-Diagnoses_main_ICD10_R30_Pain_associated_w...</td>\n",
       "      <td>dysuria</td>\n",
       "      <td>NaN</td>\n",
       "    </tr>\n",
       "    <tr>\n",
       "      <th>3</th>\n",
       "      <td>O60</td>\n",
       "      <td>premature birth</td>\n",
       "      <td>EFO:0003917</td>\n",
       "      <td>? Exact</td>\n",
       "      <td>O60-Diagnoses_main_ICD10_O60_Preterm_delivery</td>\n",
       "      <td>premature birth</td>\n",
       "      <td>NaN</td>\n",
       "    </tr>\n",
       "    <tr>\n",
       "      <th>4</th>\n",
       "      <td>S64</td>\n",
       "      <td>carpal tunnel syndrome</td>\n",
       "      <td>EFO:0004143</td>\n",
       "      <td>? Narrow</td>\n",
       "      <td>S64-Diagnoses_main_ICD10_S64_Injury_of_nerves_...</td>\n",
       "      <td>carpal tunnel syndrome</td>\n",
       "      <td>disease</td>\n",
       "    </tr>\n",
       "  </tbody>\n",
       "</table>\n",
       "</div>"
      ],
      "text/plain": [
       "  ukb_code              term_label                term_codes mapping_type  \\\n",
       "0      K55        vascular disease  EFO:0004264, EFO:0009431        Broad   \n",
       "1      M17  osteoarthritis || knee               EFO:0004616        Broad   \n",
       "2      R30                 dysuria               EFO:0003901      ? Broad   \n",
       "3      O60         premature birth               EFO:0003917      ? Exact   \n",
       "4      S64  carpal tunnel syndrome               EFO:0004143     ? Narrow   \n",
       "\n",
       "                                        ukb_fullcode  \\\n",
       "0  K55-Diagnoses_main_ICD10_K55_Vascular_disorder...   \n",
       "1  M17-Diagnoses_main_ICD10_M17_Gonarthrosis_arth...   \n",
       "2  R30-Diagnoses_main_ICD10_R30_Pain_associated_w...   \n",
       "3      O60-Diagnoses_main_ICD10_O60_Preterm_delivery   \n",
       "4  S64-Diagnoses_main_ICD10_S64_Injury_of_nerves_...   \n",
       "\n",
       "                        current_term_label category  \n",
       "0  vascular disease AND intestinal disease  disease  \n",
       "1                     osteoarthritis, knee  disease  \n",
       "2                                  dysuria      NaN  \n",
       "3                          premature birth      NaN  \n",
       "4                   carpal tunnel syndrome  disease  "
      ]
     },
     "execution_count": 18,
     "metadata": {},
     "output_type": "execute_result"
    }
   ],
   "source": [
    "ukb_to_efo_map.head()"
   ]
  },
  {
   "cell_type": "code",
   "execution_count": 19,
   "metadata": {
    "execution": {
     "iopub.execute_input": "2020-11-24T17:19:18.210943Z",
     "iopub.status.busy": "2020-11-24T17:19:18.210566Z",
     "iopub.status.idle": "2020-11-24T17:19:18.223816Z",
     "shell.execute_reply": "2020-11-24T17:19:18.223424Z"
    },
    "papermill": {
     "duration": 0.028848,
     "end_time": "2020-11-24T17:19:18.223908",
     "exception": false,
     "start_time": "2020-11-24T17:19:18.195060",
     "status": "completed"
    },
    "tags": []
   },
   "outputs": [],
   "source": [
    "efo_diseases = ukb_to_efo_map[ukb_to_efo_map['category'] == 'disease']['current_term_label'].unique()"
   ]
  },
  {
   "cell_type": "code",
   "execution_count": 20,
   "metadata": {
    "execution": {
     "iopub.execute_input": "2020-11-24T17:19:18.252905Z",
     "iopub.status.busy": "2020-11-24T17:19:18.252514Z",
     "iopub.status.idle": "2020-11-24T17:19:18.265260Z",
     "shell.execute_reply": "2020-11-24T17:19:18.264897Z"
    },
    "papermill": {
     "duration": 0.027803,
     "end_time": "2020-11-24T17:19:18.265346",
     "exception": false,
     "start_time": "2020-11-24T17:19:18.237543",
     "status": "completed"
    },
    "tags": []
   },
   "outputs": [
    {
     "data": {
      "text/plain": [
       "(538,)"
      ]
     },
     "execution_count": 20,
     "metadata": {},
     "output_type": "execute_result"
    }
   ],
   "source": [
    "efo_diseases.shape"
   ]
  },
  {
   "cell_type": "code",
   "execution_count": 21,
   "metadata": {
    "execution": {
     "iopub.execute_input": "2020-11-24T17:19:18.294068Z",
     "iopub.status.busy": "2020-11-24T17:19:18.293711Z",
     "iopub.status.idle": "2020-11-24T17:19:18.311855Z",
     "shell.execute_reply": "2020-11-24T17:19:18.311484Z"
    },
    "papermill": {
     "duration": 0.033311,
     "end_time": "2020-11-24T17:19:18.311950",
     "exception": false,
     "start_time": "2020-11-24T17:19:18.278639",
     "status": "completed"
    },
    "tags": []
   },
   "outputs": [],
   "source": [
    "data = data.loc[efo_diseases]"
   ]
  },
  {
   "cell_type": "code",
   "execution_count": 22,
   "metadata": {
    "execution": {
     "iopub.execute_input": "2020-11-24T17:19:18.342713Z",
     "iopub.status.busy": "2020-11-24T17:19:18.342344Z",
     "iopub.status.idle": "2020-11-24T17:19:18.354511Z",
     "shell.execute_reply": "2020-11-24T17:19:18.354807Z"
    },
    "papermill": {
     "duration": 0.028576,
     "end_time": "2020-11-24T17:19:18.354914",
     "exception": false,
     "start_time": "2020-11-24T17:19:18.326338",
     "status": "completed"
    },
    "tags": []
   },
   "outputs": [
    {
     "data": {
      "text/plain": [
       "(538, 6452)"
      ]
     },
     "execution_count": 22,
     "metadata": {},
     "output_type": "execute_result"
    }
   ],
   "source": [
    "data.shape"
   ]
  },
  {
   "cell_type": "code",
   "execution_count": 23,
   "metadata": {
    "execution": {
     "iopub.execute_input": "2020-11-24T17:19:18.384996Z",
     "iopub.status.busy": "2020-11-24T17:19:18.384576Z",
     "iopub.status.idle": "2020-11-24T17:19:18.409481Z",
     "shell.execute_reply": "2020-11-24T17:19:18.409157Z"
    },
    "papermill": {
     "duration": 0.040915,
     "end_time": "2020-11-24T17:19:18.409571",
     "exception": false,
     "start_time": "2020-11-24T17:19:18.368656",
     "status": "completed"
    },
    "tags": []
   },
   "outputs": [
    {
     "data": {
      "text/html": [
       "<div>\n",
       "<style scoped>\n",
       "    .dataframe tbody tr th:only-of-type {\n",
       "        vertical-align: middle;\n",
       "    }\n",
       "\n",
       "    .dataframe tbody tr th {\n",
       "        vertical-align: top;\n",
       "    }\n",
       "\n",
       "    .dataframe thead th {\n",
       "        text-align: right;\n",
       "    }\n",
       "</style>\n",
       "<table border=\"1\" class=\"dataframe\">\n",
       "  <thead>\n",
       "    <tr style=\"text-align: right;\">\n",
       "      <th>gene_name</th>\n",
       "      <th>ENSG00000183087</th>\n",
       "      <th>ENSG00000157227</th>\n",
       "      <th>ENSG00000096696</th>\n",
       "      <th>ENSG00000175130</th>\n",
       "      <th>ENSG00000113140</th>\n",
       "      <th>ENSG00000117984</th>\n",
       "      <th>ENSG00000116016</th>\n",
       "      <th>ENSG00000129116</th>\n",
       "      <th>ENSG00000134686</th>\n",
       "      <th>ENSG00000108679</th>\n",
       "      <th>...</th>\n",
       "      <th>ENSG00000111716</th>\n",
       "      <th>ENSG00000166796</th>\n",
       "      <th>ENSG00000114331</th>\n",
       "      <th>ENSG00000131584</th>\n",
       "      <th>ENSG00000165410</th>\n",
       "      <th>ENSG00000172757</th>\n",
       "      <th>ENSG00000147862</th>\n",
       "      <th>ENSG00000008323</th>\n",
       "      <th>ENSG00000167083</th>\n",
       "      <th>ENSG00000149257</th>\n",
       "    </tr>\n",
       "  </thead>\n",
       "  <tbody>\n",
       "    <tr>\n",
       "      <th>vascular disease AND intestinal disease</th>\n",
       "      <td>1.508862</td>\n",
       "      <td>1.621723</td>\n",
       "      <td>0.363885</td>\n",
       "      <td>0.853025</td>\n",
       "      <td>0.672102</td>\n",
       "      <td>1.661944</td>\n",
       "      <td>0.065144</td>\n",
       "      <td>0.852891</td>\n",
       "      <td>1.070464</td>\n",
       "      <td>1.646857</td>\n",
       "      <td>...</td>\n",
       "      <td>0.338839</td>\n",
       "      <td>1.045194</td>\n",
       "      <td>0.337591</td>\n",
       "      <td>0.727816</td>\n",
       "      <td>0.919068</td>\n",
       "      <td>1.028998</td>\n",
       "      <td>0.957071</td>\n",
       "      <td>1.032144</td>\n",
       "      <td>0.372147</td>\n",
       "      <td>1.101383</td>\n",
       "    </tr>\n",
       "    <tr>\n",
       "      <th>osteoarthritis, knee</th>\n",
       "      <td>0.293745</td>\n",
       "      <td>2.495255</td>\n",
       "      <td>0.898634</td>\n",
       "      <td>1.097025</td>\n",
       "      <td>0.092686</td>\n",
       "      <td>1.353230</td>\n",
       "      <td>2.329630</td>\n",
       "      <td>0.875087</td>\n",
       "      <td>1.932763</td>\n",
       "      <td>0.830047</td>\n",
       "      <td>...</td>\n",
       "      <td>0.315050</td>\n",
       "      <td>1.740132</td>\n",
       "      <td>0.659764</td>\n",
       "      <td>0.585959</td>\n",
       "      <td>0.745088</td>\n",
       "      <td>0.859034</td>\n",
       "      <td>0.844895</td>\n",
       "      <td>0.577415</td>\n",
       "      <td>1.093594</td>\n",
       "      <td>1.461070</td>\n",
       "    </tr>\n",
       "    <tr>\n",
       "      <th>carpal tunnel syndrome</th>\n",
       "      <td>3.269874</td>\n",
       "      <td>1.031169</td>\n",
       "      <td>1.854991</td>\n",
       "      <td>0.849646</td>\n",
       "      <td>1.193563</td>\n",
       "      <td>0.963425</td>\n",
       "      <td>1.081281</td>\n",
       "      <td>0.583741</td>\n",
       "      <td>0.370495</td>\n",
       "      <td>0.987732</td>\n",
       "      <td>...</td>\n",
       "      <td>1.695482</td>\n",
       "      <td>0.469553</td>\n",
       "      <td>0.525354</td>\n",
       "      <td>1.462587</td>\n",
       "      <td>0.730298</td>\n",
       "      <td>1.266646</td>\n",
       "      <td>0.680878</td>\n",
       "      <td>2.512643</td>\n",
       "      <td>1.943234</td>\n",
       "      <td>0.574996</td>\n",
       "    </tr>\n",
       "    <tr>\n",
       "      <th>gastritis</th>\n",
       "      <td>0.731628</td>\n",
       "      <td>0.922580</td>\n",
       "      <td>0.207440</td>\n",
       "      <td>1.049796</td>\n",
       "      <td>0.237018</td>\n",
       "      <td>0.081444</td>\n",
       "      <td>1.578283</td>\n",
       "      <td>0.635750</td>\n",
       "      <td>1.193168</td>\n",
       "      <td>2.471475</td>\n",
       "      <td>...</td>\n",
       "      <td>1.927164</td>\n",
       "      <td>0.906981</td>\n",
       "      <td>0.535501</td>\n",
       "      <td>1.265527</td>\n",
       "      <td>0.412329</td>\n",
       "      <td>0.474710</td>\n",
       "      <td>0.454023</td>\n",
       "      <td>2.122722</td>\n",
       "      <td>0.842579</td>\n",
       "      <td>1.561910</td>\n",
       "    </tr>\n",
       "    <tr>\n",
       "      <th>neoplasm</th>\n",
       "      <td>3.090460</td>\n",
       "      <td>0.749946</td>\n",
       "      <td>0.479871</td>\n",
       "      <td>1.374612</td>\n",
       "      <td>0.164061</td>\n",
       "      <td>0.385841</td>\n",
       "      <td>0.960421</td>\n",
       "      <td>0.579108</td>\n",
       "      <td>0.311806</td>\n",
       "      <td>0.340309</td>\n",
       "      <td>...</td>\n",
       "      <td>1.405575</td>\n",
       "      <td>1.277434</td>\n",
       "      <td>1.423244</td>\n",
       "      <td>1.400503</td>\n",
       "      <td>0.210456</td>\n",
       "      <td>1.100135</td>\n",
       "      <td>1.864806</td>\n",
       "      <td>1.084138</td>\n",
       "      <td>1.477129</td>\n",
       "      <td>0.925960</td>\n",
       "    </tr>\n",
       "  </tbody>\n",
       "</table>\n",
       "<p>5 rows × 6452 columns</p>\n",
       "</div>"
      ],
      "text/plain": [
       "gene_name                                ENSG00000183087  ENSG00000157227  \\\n",
       "vascular disease AND intestinal disease         1.508862         1.621723   \n",
       "osteoarthritis, knee                            0.293745         2.495255   \n",
       "carpal tunnel syndrome                          3.269874         1.031169   \n",
       "gastritis                                       0.731628         0.922580   \n",
       "neoplasm                                        3.090460         0.749946   \n",
       "\n",
       "gene_name                                ENSG00000096696  ENSG00000175130  \\\n",
       "vascular disease AND intestinal disease         0.363885         0.853025   \n",
       "osteoarthritis, knee                            0.898634         1.097025   \n",
       "carpal tunnel syndrome                          1.854991         0.849646   \n",
       "gastritis                                       0.207440         1.049796   \n",
       "neoplasm                                        0.479871         1.374612   \n",
       "\n",
       "gene_name                                ENSG00000113140  ENSG00000117984  \\\n",
       "vascular disease AND intestinal disease         0.672102         1.661944   \n",
       "osteoarthritis, knee                            0.092686         1.353230   \n",
       "carpal tunnel syndrome                          1.193563         0.963425   \n",
       "gastritis                                       0.237018         0.081444   \n",
       "neoplasm                                        0.164061         0.385841   \n",
       "\n",
       "gene_name                                ENSG00000116016  ENSG00000129116  \\\n",
       "vascular disease AND intestinal disease         0.065144         0.852891   \n",
       "osteoarthritis, knee                            2.329630         0.875087   \n",
       "carpal tunnel syndrome                          1.081281         0.583741   \n",
       "gastritis                                       1.578283         0.635750   \n",
       "neoplasm                                        0.960421         0.579108   \n",
       "\n",
       "gene_name                                ENSG00000134686  ENSG00000108679  \\\n",
       "vascular disease AND intestinal disease         1.070464         1.646857   \n",
       "osteoarthritis, knee                            1.932763         0.830047   \n",
       "carpal tunnel syndrome                          0.370495         0.987732   \n",
       "gastritis                                       1.193168         2.471475   \n",
       "neoplasm                                        0.311806         0.340309   \n",
       "\n",
       "gene_name                                ...  ENSG00000111716  \\\n",
       "vascular disease AND intestinal disease  ...         0.338839   \n",
       "osteoarthritis, knee                     ...         0.315050   \n",
       "carpal tunnel syndrome                   ...         1.695482   \n",
       "gastritis                                ...         1.927164   \n",
       "neoplasm                                 ...         1.405575   \n",
       "\n",
       "gene_name                                ENSG00000166796  ENSG00000114331  \\\n",
       "vascular disease AND intestinal disease         1.045194         0.337591   \n",
       "osteoarthritis, knee                            1.740132         0.659764   \n",
       "carpal tunnel syndrome                          0.469553         0.525354   \n",
       "gastritis                                       0.906981         0.535501   \n",
       "neoplasm                                        1.277434         1.423244   \n",
       "\n",
       "gene_name                                ENSG00000131584  ENSG00000165410  \\\n",
       "vascular disease AND intestinal disease         0.727816         0.919068   \n",
       "osteoarthritis, knee                            0.585959         0.745088   \n",
       "carpal tunnel syndrome                          1.462587         0.730298   \n",
       "gastritis                                       1.265527         0.412329   \n",
       "neoplasm                                        1.400503         0.210456   \n",
       "\n",
       "gene_name                                ENSG00000172757  ENSG00000147862  \\\n",
       "vascular disease AND intestinal disease         1.028998         0.957071   \n",
       "osteoarthritis, knee                            0.859034         0.844895   \n",
       "carpal tunnel syndrome                          1.266646         0.680878   \n",
       "gastritis                                       0.474710         0.454023   \n",
       "neoplasm                                        1.100135         1.864806   \n",
       "\n",
       "gene_name                                ENSG00000008323  ENSG00000167083  \\\n",
       "vascular disease AND intestinal disease         1.032144         0.372147   \n",
       "osteoarthritis, knee                            0.577415         1.093594   \n",
       "carpal tunnel syndrome                          2.512643         1.943234   \n",
       "gastritis                                       2.122722         0.842579   \n",
       "neoplasm                                        1.084138         1.477129   \n",
       "\n",
       "gene_name                                ENSG00000149257  \n",
       "vascular disease AND intestinal disease         1.101383  \n",
       "osteoarthritis, knee                            1.461070  \n",
       "carpal tunnel syndrome                          0.574996  \n",
       "gastritis                                       1.561910  \n",
       "neoplasm                                        0.925960  \n",
       "\n",
       "[5 rows x 6452 columns]"
      ]
     },
     "execution_count": 23,
     "metadata": {},
     "output_type": "execute_result"
    }
   ],
   "source": [
    "data.head()"
   ]
  },
  {
   "cell_type": "code",
   "execution_count": 24,
   "metadata": {
    "execution": {
     "iopub.execute_input": "2020-11-24T17:19:18.439865Z",
     "iopub.status.busy": "2020-11-24T17:19:18.439490Z",
     "iopub.status.idle": "2020-11-24T17:19:18.462665Z",
     "shell.execute_reply": "2020-11-24T17:19:18.462939Z"
    },
    "papermill": {
     "duration": 0.039325,
     "end_time": "2020-11-24T17:19:18.463052",
     "exception": false,
     "start_time": "2020-11-24T17:19:18.423727",
     "status": "completed"
    },
    "tags": []
   },
   "outputs": [],
   "source": [
    "assert not data.isna().any().any()"
   ]
  },
  {
   "cell_type": "markdown",
   "metadata": {
    "papermill": {
     "duration": 0.013744,
     "end_time": "2020-11-24T17:19:18.491142",
     "exception": false,
     "start_time": "2020-11-24T17:19:18.477398",
     "status": "completed"
    },
    "tags": []
   },
   "source": [
    "# Save"
   ]
  },
  {
   "cell_type": "code",
   "execution_count": 25,
   "metadata": {
    "execution": {
     "iopub.execute_input": "2020-11-24T17:19:18.521184Z",
     "iopub.status.busy": "2020-11-24T17:19:18.520816Z",
     "iopub.status.idle": "2020-11-24T17:19:18.533386Z",
     "shell.execute_reply": "2020-11-24T17:19:18.533661Z"
    },
    "papermill": {
     "duration": 0.028924,
     "end_time": "2020-11-24T17:19:18.533771",
     "exception": false,
     "start_time": "2020-11-24T17:19:18.504847",
     "status": "completed"
    },
    "tags": []
   },
   "outputs": [
    {
     "data": {
      "text/plain": [
       "PosixPath('/home/miltondp/projects/labs/greenelab/phenoplier/base/results/data_transformations/traits_selections/diseases_only-smultixcan-efo_partial-mashr-zscores.pkl')"
      ]
     },
     "metadata": {},
     "output_type": "display_data"
    }
   ],
   "source": [
    "output_file = Path(\n",
    "    RESULTS_DIR,\n",
    "    f'diseases_only-{input_filepath_stem}.pkl',\n",
    ").resolve()\n",
    "\n",
    "display(output_file)"
   ]
  },
  {
   "cell_type": "code",
   "execution_count": 26,
   "metadata": {
    "execution": {
     "iopub.execute_input": "2020-11-24T17:19:18.565254Z",
     "iopub.status.busy": "2020-11-24T17:19:18.564885Z",
     "iopub.status.idle": "2020-11-24T17:19:18.604272Z",
     "shell.execute_reply": "2020-11-24T17:19:18.603955Z"
    },
    "papermill": {
     "duration": 0.055777,
     "end_time": "2020-11-24T17:19:18.604366",
     "exception": false,
     "start_time": "2020-11-24T17:19:18.548589",
     "status": "completed"
    },
    "tags": []
   },
   "outputs": [],
   "source": [
    "data.to_pickle(output_file)"
   ]
  },
  {
   "cell_type": "code",
   "execution_count": null,
   "metadata": {
    "papermill": {
     "duration": 0.013992,
     "end_time": "2020-11-24T17:19:18.632987",
     "exception": false,
     "start_time": "2020-11-24T17:19:18.618995",
     "status": "completed"
    },
    "tags": []
   },
   "outputs": [],
   "source": []
  }
 ],
 "metadata": {
  "kernelspec": {
   "display_name": "Python 3",
   "language": "python",
   "name": "python3"
  },
  "language_info": {
   "codemirror_mode": {
    "name": "ipython",
    "version": 3
   },
   "file_extension": ".py",
   "mimetype": "text/x-python",
   "name": "python",
   "nbconvert_exporter": "python",
   "pygments_lexer": "ipython3",
   "version": "3.8.6"
  },
  "papermill": {
   "default_parameters": {},
   "duration": 4.797185,
   "end_time": "2020-11-24T17:19:19.154190",
   "environment_variables": {},
   "exception": null,
   "input_path": "10_data_transformations/001_00-diseases_only-smultixcan_efo.ipynb",
   "output_path": "10_data_transformations/001_00-diseases_only-smultixcan_efo.run.ipynb",
   "parameters": {},
   "start_time": "2020-11-24T17:19:14.357005",
   "version": "2.2.2"
  },
  "toc-autonumbering": true,
  "toc-showcode": false,
  "toc-showmarkdowntxt": false,
  "toc-showtags": false
 },
 "nbformat": 4,
 "nbformat_minor": 4
}