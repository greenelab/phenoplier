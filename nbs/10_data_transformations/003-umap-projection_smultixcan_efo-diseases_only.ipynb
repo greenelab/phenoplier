{
 "cells": [
  {
   "cell_type": "markdown",
   "metadata": {},
   "source": [
    "# Description"
   ]
  },
  {
   "cell_type": "markdown",
   "metadata": {},
   "source": [
    "It projects input data into a UMAP representation of **disease only** traits."
   ]
  },
  {
   "cell_type": "markdown",
   "metadata": {},
   "source": [
    "# Modules loading"
   ]
  },
  {
   "cell_type": "code",
   "execution_count": 1,
   "metadata": {},
   "outputs": [],
   "source": [
    "%load_ext autoreload\n",
    "%autoreload 2"
   ]
  },
  {
   "cell_type": "code",
   "execution_count": 2,
   "metadata": {},
   "outputs": [],
   "source": [
    "from pathlib import Path\n",
    "from IPython.display import display\n",
    "\n",
    "import pandas as pd\n",
    "import umap\n",
    "import matplotlib.pyplot as plt\n",
    "import seaborn as sns\n",
    "\n",
    "import conf\n",
    "from utils import generate_result_set_name\n",
    "from data.cache import read_data"
   ]
  },
  {
   "cell_type": "markdown",
   "metadata": {},
   "source": [
    "# Settings"
   ]
  },
  {
   "cell_type": "code",
   "execution_count": 3,
   "metadata": {},
   "outputs": [
    {
     "data": {
      "text/plain": [
       "PosixPath('/media/miltondp/Elements1/projects/phenoplier/results/data_transformations/traits_selections/diseases_only-projection-smultixcan-efo_partial-mashr-zscores.pkl')"
      ]
     },
     "metadata": {},
     "output_type": "display_data"
    },
    {
     "data": {
      "text/plain": [
       "'diseases_only-projection-smultixcan-efo_partial-mashr-zscores'"
      ]
     },
     "metadata": {},
     "output_type": "display_data"
    }
   ],
   "source": [
    "INPUT_FILEPATH = Path(\n",
    "    conf.RESULTS[\"DATA_TRANSFORMATIONS_DIR\"],\n",
    "    'traits_selections',\n",
    "    'diseases_only-projection-smultixcan-efo_partial-mashr-zscores.pkl'\n",
    ").resolve()\n",
    "display(INPUT_FILEPATH)\n",
    "\n",
    "input_filepath_stem = INPUT_FILEPATH.stem\n",
    "display(input_filepath_stem)"
   ]
  },
  {
   "cell_type": "code",
   "execution_count": 4,
   "metadata": {},
   "outputs": [],
   "source": [
    "# number of components to use in the dimensionality reduction step\n",
    "DR_OPTIONS = {\n",
    "    'n_components': [5, 10, 20, 30, 40, 50],\n",
    "    'metric': 'euclidean',\n",
    "    'n_neighbors': 15,\n",
    "    'random_state': 0,\n",
    "}"
   ]
  },
  {
   "cell_type": "code",
   "execution_count": 5,
   "metadata": {},
   "outputs": [
    {
     "data": {
      "text/plain": [
       "PosixPath('/media/miltondp/Elements1/projects/phenoplier/results/data_transformations/umap')"
      ]
     },
     "metadata": {},
     "output_type": "display_data"
    }
   ],
   "source": [
    "# output dir for this notebook\n",
    "RESULTS_DIR = Path(\n",
    "    conf.RESULTS[\"DATA_TRANSFORMATIONS_DIR\"],\n",
    "    'umap'\n",
    ").resolve()\n",
    "RESULTS_DIR.mkdir(parents=True, exist_ok=True)\n",
    "\n",
    "display(RESULTS_DIR)"
   ]
  },
  {
   "cell_type": "code",
   "execution_count": 6,
   "metadata": {},
   "outputs": [
    {
     "data": {
      "text/plain": [
       "{'n_components': [5, 10, 20, 30, 40, 50],\n",
       " 'metric': 'euclidean',\n",
       " 'n_neighbors': 15,\n",
       " 'random_state': 0}"
      ]
     },
     "metadata": {},
     "output_type": "display_data"
    }
   ],
   "source": [
    "# dictionary containing all options/settings (used to generate filenames)\n",
    "ALL_OPTIONS = DR_OPTIONS.copy()\n",
    "# ALL_OPTIONS['proj_percentile'] = PERCENTILE_NAME\n",
    "\n",
    "display(ALL_OPTIONS)"
   ]
  },
  {
   "cell_type": "markdown",
   "metadata": {},
   "source": [
    "# Load input file"
   ]
  },
  {
   "cell_type": "code",
   "execution_count": 7,
   "metadata": {},
   "outputs": [],
   "source": [
    "data = pd.read_pickle(INPUT_FILEPATH)"
   ]
  },
  {
   "cell_type": "code",
   "execution_count": 8,
   "metadata": {},
   "outputs": [
    {
     "data": {
      "text/plain": [
       "(538, 987)"
      ]
     },
     "execution_count": 8,
     "metadata": {},
     "output_type": "execute_result"
    }
   ],
   "source": [
    "data.shape"
   ]
  },
  {
   "cell_type": "code",
   "execution_count": 9,
   "metadata": {},
   "outputs": [
    {
     "data": {
      "text/html": [
       "<div>\n",
       "<style scoped>\n",
       "    .dataframe tbody tr th:only-of-type {\n",
       "        vertical-align: middle;\n",
       "    }\n",
       "\n",
       "    .dataframe tbody tr th {\n",
       "        vertical-align: top;\n",
       "    }\n",
       "\n",
       "    .dataframe thead th {\n",
       "        text-align: right;\n",
       "    }\n",
       "</style>\n",
       "<table border=\"1\" class=\"dataframe\">\n",
       "  <thead>\n",
       "    <tr style=\"text-align: right;\">\n",
       "      <th></th>\n",
       "      <th>LV1</th>\n",
       "      <th>LV2</th>\n",
       "      <th>LV3</th>\n",
       "      <th>LV4</th>\n",
       "      <th>LV5</th>\n",
       "      <th>LV6</th>\n",
       "      <th>LV7</th>\n",
       "      <th>LV8</th>\n",
       "      <th>LV9</th>\n",
       "      <th>LV10</th>\n",
       "      <th>...</th>\n",
       "      <th>LV978</th>\n",
       "      <th>LV979</th>\n",
       "      <th>LV980</th>\n",
       "      <th>LV981</th>\n",
       "      <th>LV982</th>\n",
       "      <th>LV983</th>\n",
       "      <th>LV984</th>\n",
       "      <th>LV985</th>\n",
       "      <th>LV986</th>\n",
       "      <th>LV987</th>\n",
       "    </tr>\n",
       "  </thead>\n",
       "  <tbody>\n",
       "    <tr>\n",
       "      <th>vascular disease AND intestinal disease</th>\n",
       "      <td>0.014921</td>\n",
       "      <td>0.007221</td>\n",
       "      <td>-0.021297</td>\n",
       "      <td>-0.013469</td>\n",
       "      <td>-0.004764</td>\n",
       "      <td>0.019406</td>\n",
       "      <td>0.034742</td>\n",
       "      <td>0.015188</td>\n",
       "      <td>-0.054239</td>\n",
       "      <td>-0.057495</td>\n",
       "      <td>...</td>\n",
       "      <td>-0.000006</td>\n",
       "      <td>0.009317</td>\n",
       "      <td>-0.021804</td>\n",
       "      <td>-0.025295</td>\n",
       "      <td>0.004658</td>\n",
       "      <td>-0.007537</td>\n",
       "      <td>-0.038976</td>\n",
       "      <td>-0.000494</td>\n",
       "      <td>-0.046299</td>\n",
       "      <td>0.039424</td>\n",
       "    </tr>\n",
       "    <tr>\n",
       "      <th>osteoarthritis, knee</th>\n",
       "      <td>-0.027514</td>\n",
       "      <td>-0.011319</td>\n",
       "      <td>-0.005507</td>\n",
       "      <td>0.024660</td>\n",
       "      <td>-0.012269</td>\n",
       "      <td>-0.037501</td>\n",
       "      <td>-0.041009</td>\n",
       "      <td>-0.018378</td>\n",
       "      <td>0.056720</td>\n",
       "      <td>-0.035201</td>\n",
       "      <td>...</td>\n",
       "      <td>-0.021507</td>\n",
       "      <td>0.023317</td>\n",
       "      <td>-0.020850</td>\n",
       "      <td>0.025021</td>\n",
       "      <td>0.003739</td>\n",
       "      <td>-0.008428</td>\n",
       "      <td>-0.040916</td>\n",
       "      <td>0.012425</td>\n",
       "      <td>0.033130</td>\n",
       "      <td>0.009771</td>\n",
       "    </tr>\n",
       "    <tr>\n",
       "      <th>carpal tunnel syndrome</th>\n",
       "      <td>0.037605</td>\n",
       "      <td>0.026694</td>\n",
       "      <td>-0.004169</td>\n",
       "      <td>-0.009875</td>\n",
       "      <td>-0.038713</td>\n",
       "      <td>-0.019403</td>\n",
       "      <td>-0.035912</td>\n",
       "      <td>0.008916</td>\n",
       "      <td>0.009359</td>\n",
       "      <td>0.034914</td>\n",
       "      <td>...</td>\n",
       "      <td>-0.009627</td>\n",
       "      <td>0.073954</td>\n",
       "      <td>-0.045759</td>\n",
       "      <td>0.030834</td>\n",
       "      <td>-0.013835</td>\n",
       "      <td>-0.016858</td>\n",
       "      <td>0.003820</td>\n",
       "      <td>-0.012988</td>\n",
       "      <td>-0.036130</td>\n",
       "      <td>-0.011489</td>\n",
       "    </tr>\n",
       "    <tr>\n",
       "      <th>gastritis</th>\n",
       "      <td>-0.028098</td>\n",
       "      <td>0.006805</td>\n",
       "      <td>0.011964</td>\n",
       "      <td>-0.008576</td>\n",
       "      <td>-0.034687</td>\n",
       "      <td>-0.033875</td>\n",
       "      <td>-0.043080</td>\n",
       "      <td>0.037237</td>\n",
       "      <td>-0.006757</td>\n",
       "      <td>0.003071</td>\n",
       "      <td>...</td>\n",
       "      <td>0.037084</td>\n",
       "      <td>0.039675</td>\n",
       "      <td>0.034724</td>\n",
       "      <td>0.004581</td>\n",
       "      <td>0.021483</td>\n",
       "      <td>-0.023586</td>\n",
       "      <td>0.031696</td>\n",
       "      <td>-0.003781</td>\n",
       "      <td>0.017152</td>\n",
       "      <td>0.041463</td>\n",
       "    </tr>\n",
       "    <tr>\n",
       "      <th>neoplasm</th>\n",
       "      <td>0.015709</td>\n",
       "      <td>0.004118</td>\n",
       "      <td>-0.015952</td>\n",
       "      <td>0.016398</td>\n",
       "      <td>0.010938</td>\n",
       "      <td>-0.017170</td>\n",
       "      <td>0.011790</td>\n",
       "      <td>0.055354</td>\n",
       "      <td>-0.020357</td>\n",
       "      <td>0.018452</td>\n",
       "      <td>...</td>\n",
       "      <td>-0.002537</td>\n",
       "      <td>-0.004774</td>\n",
       "      <td>0.006254</td>\n",
       "      <td>-0.008180</td>\n",
       "      <td>-0.014205</td>\n",
       "      <td>0.031993</td>\n",
       "      <td>0.021475</td>\n",
       "      <td>0.015875</td>\n",
       "      <td>0.031616</td>\n",
       "      <td>-0.041767</td>\n",
       "    </tr>\n",
       "  </tbody>\n",
       "</table>\n",
       "<p>5 rows × 987 columns</p>\n",
       "</div>"
      ],
      "text/plain": [
       "                                              LV1       LV2       LV3  \\\n",
       "vascular disease AND intestinal disease  0.014921  0.007221 -0.021297   \n",
       "osteoarthritis, knee                    -0.027514 -0.011319 -0.005507   \n",
       "carpal tunnel syndrome                   0.037605  0.026694 -0.004169   \n",
       "gastritis                               -0.028098  0.006805  0.011964   \n",
       "neoplasm                                 0.015709  0.004118 -0.015952   \n",
       "\n",
       "                                              LV4       LV5       LV6  \\\n",
       "vascular disease AND intestinal disease -0.013469 -0.004764  0.019406   \n",
       "osteoarthritis, knee                     0.024660 -0.012269 -0.037501   \n",
       "carpal tunnel syndrome                  -0.009875 -0.038713 -0.019403   \n",
       "gastritis                               -0.008576 -0.034687 -0.033875   \n",
       "neoplasm                                 0.016398  0.010938 -0.017170   \n",
       "\n",
       "                                              LV7       LV8       LV9  \\\n",
       "vascular disease AND intestinal disease  0.034742  0.015188 -0.054239   \n",
       "osteoarthritis, knee                    -0.041009 -0.018378  0.056720   \n",
       "carpal tunnel syndrome                  -0.035912  0.008916  0.009359   \n",
       "gastritis                               -0.043080  0.037237 -0.006757   \n",
       "neoplasm                                 0.011790  0.055354 -0.020357   \n",
       "\n",
       "                                             LV10  ...     LV978     LV979  \\\n",
       "vascular disease AND intestinal disease -0.057495  ... -0.000006  0.009317   \n",
       "osteoarthritis, knee                    -0.035201  ... -0.021507  0.023317   \n",
       "carpal tunnel syndrome                   0.034914  ... -0.009627  0.073954   \n",
       "gastritis                                0.003071  ...  0.037084  0.039675   \n",
       "neoplasm                                 0.018452  ... -0.002537 -0.004774   \n",
       "\n",
       "                                            LV980     LV981     LV982  \\\n",
       "vascular disease AND intestinal disease -0.021804 -0.025295  0.004658   \n",
       "osteoarthritis, knee                    -0.020850  0.025021  0.003739   \n",
       "carpal tunnel syndrome                  -0.045759  0.030834 -0.013835   \n",
       "gastritis                                0.034724  0.004581  0.021483   \n",
       "neoplasm                                 0.006254 -0.008180 -0.014205   \n",
       "\n",
       "                                            LV983     LV984     LV985  \\\n",
       "vascular disease AND intestinal disease -0.007537 -0.038976 -0.000494   \n",
       "osteoarthritis, knee                    -0.008428 -0.040916  0.012425   \n",
       "carpal tunnel syndrome                  -0.016858  0.003820 -0.012988   \n",
       "gastritis                               -0.023586  0.031696 -0.003781   \n",
       "neoplasm                                 0.031993  0.021475  0.015875   \n",
       "\n",
       "                                            LV986     LV987  \n",
       "vascular disease AND intestinal disease -0.046299  0.039424  \n",
       "osteoarthritis, knee                     0.033130  0.009771  \n",
       "carpal tunnel syndrome                  -0.036130 -0.011489  \n",
       "gastritis                                0.017152  0.041463  \n",
       "neoplasm                                 0.031616 -0.041767  \n",
       "\n",
       "[5 rows x 987 columns]"
      ]
     },
     "execution_count": 9,
     "metadata": {},
     "output_type": "execute_result"
    }
   ],
   "source": [
    "data.head()"
   ]
  },
  {
   "cell_type": "markdown",
   "metadata": {},
   "source": [
    "# UMAP"
   ]
  },
  {
   "cell_type": "code",
   "execution_count": 10,
   "metadata": {},
   "outputs": [],
   "source": [
    "def get_umap_proj(orig_data, options):\n",
    "    umap_obj = umap.UMAP(**{k:v for k, v in options.items() if k in DR_OPTIONS})\n",
    "    umap_obj = umap_obj.fit(orig_data)\n",
    "    umap_data = umap_obj.transform(orig_data)\n",
    "    return pd.DataFrame(\n",
    "        data=umap_data,\n",
    "        index=orig_data.index.copy(),\n",
    "        columns=[f'UMAP{i+1}' for i in range(umap_data.shape[1])]\n",
    "    )"
   ]
  },
  {
   "cell_type": "code",
   "execution_count": 11,
   "metadata": {},
   "outputs": [
    {
     "name": "stdout",
     "output_type": "stream",
     "text": [
      "# components: 5\n"
     ]
    },
    {
     "data": {
      "text/plain": [
       "(538, 5)"
      ]
     },
     "metadata": {},
     "output_type": "display_data"
    },
    {
     "data": {
      "text/html": [
       "<div>\n",
       "<style scoped>\n",
       "    .dataframe tbody tr th:only-of-type {\n",
       "        vertical-align: middle;\n",
       "    }\n",
       "\n",
       "    .dataframe tbody tr th {\n",
       "        vertical-align: top;\n",
       "    }\n",
       "\n",
       "    .dataframe thead th {\n",
       "        text-align: right;\n",
       "    }\n",
       "</style>\n",
       "<table border=\"1\" class=\"dataframe\">\n",
       "  <thead>\n",
       "    <tr style=\"text-align: right;\">\n",
       "      <th></th>\n",
       "      <th>UMAP1</th>\n",
       "      <th>UMAP2</th>\n",
       "      <th>UMAP3</th>\n",
       "      <th>UMAP4</th>\n",
       "      <th>UMAP5</th>\n",
       "    </tr>\n",
       "  </thead>\n",
       "  <tbody>\n",
       "    <tr>\n",
       "      <th>count</th>\n",
       "      <td>538.000000</td>\n",
       "      <td>538.000000</td>\n",
       "      <td>538.000000</td>\n",
       "      <td>538.000000</td>\n",
       "      <td>538.000000</td>\n",
       "    </tr>\n",
       "    <tr>\n",
       "      <th>mean</th>\n",
       "      <td>11.698390</td>\n",
       "      <td>6.351459</td>\n",
       "      <td>6.063508</td>\n",
       "      <td>8.715043</td>\n",
       "      <td>8.815549</td>\n",
       "    </tr>\n",
       "    <tr>\n",
       "      <th>std</th>\n",
       "      <td>1.363299</td>\n",
       "      <td>0.579099</td>\n",
       "      <td>1.036406</td>\n",
       "      <td>0.717553</td>\n",
       "      <td>0.536417</td>\n",
       "    </tr>\n",
       "    <tr>\n",
       "      <th>min</th>\n",
       "      <td>8.846291</td>\n",
       "      <td>5.055324</td>\n",
       "      <td>4.505157</td>\n",
       "      <td>6.932583</td>\n",
       "      <td>7.708518</td>\n",
       "    </tr>\n",
       "    <tr>\n",
       "      <th>25%</th>\n",
       "      <td>10.508924</td>\n",
       "      <td>5.894459</td>\n",
       "      <td>5.286444</td>\n",
       "      <td>8.195790</td>\n",
       "      <td>8.400151</td>\n",
       "    </tr>\n",
       "    <tr>\n",
       "      <th>50%</th>\n",
       "      <td>12.259822</td>\n",
       "      <td>6.333099</td>\n",
       "      <td>5.699534</td>\n",
       "      <td>8.797594</td>\n",
       "      <td>8.787123</td>\n",
       "    </tr>\n",
       "    <tr>\n",
       "      <th>75%</th>\n",
       "      <td>12.687287</td>\n",
       "      <td>6.834639</td>\n",
       "      <td>6.943837</td>\n",
       "      <td>9.254248</td>\n",
       "      <td>9.221220</td>\n",
       "    </tr>\n",
       "    <tr>\n",
       "      <th>max</th>\n",
       "      <td>13.536255</td>\n",
       "      <td>7.622207</td>\n",
       "      <td>8.744159</td>\n",
       "      <td>10.114009</td>\n",
       "      <td>10.044185</td>\n",
       "    </tr>\n",
       "  </tbody>\n",
       "</table>\n",
       "</div>"
      ],
      "text/plain": [
       "            UMAP1       UMAP2       UMAP3       UMAP4       UMAP5\n",
       "count  538.000000  538.000000  538.000000  538.000000  538.000000\n",
       "mean    11.698390    6.351459    6.063508    8.715043    8.815549\n",
       "std      1.363299    0.579099    1.036406    0.717553    0.536417\n",
       "min      8.846291    5.055324    4.505157    6.932583    7.708518\n",
       "25%     10.508924    5.894459    5.286444    8.195790    8.400151\n",
       "50%     12.259822    6.333099    5.699534    8.797594    8.787123\n",
       "75%     12.687287    6.834639    6.943837    9.254248    9.221220\n",
       "max     13.536255    7.622207    8.744159   10.114009   10.044185"
      ]
     },
     "metadata": {},
     "output_type": "display_data"
    },
    {
     "data": {
      "text/plain": [
       "PosixPath('/media/miltondp/Elements1/projects/phenoplier/results/data_transformations/umap/umap-diseases_only-projection-smultixcan-efo_partial-mashr-zscores-metric_euclidean-n_components_5-n_neighbors_15-random_state_0.pkl')"
      ]
     },
     "metadata": {},
     "output_type": "display_data"
    },
    {
     "name": "stdout",
     "output_type": "stream",
     "text": [
      "\n",
      "\n",
      "# components: 10\n"
     ]
    },
    {
     "data": {
      "text/plain": [
       "(538, 10)"
      ]
     },
     "metadata": {},
     "output_type": "display_data"
    },
    {
     "data": {
      "text/html": [
       "<div>\n",
       "<style scoped>\n",
       "    .dataframe tbody tr th:only-of-type {\n",
       "        vertical-align: middle;\n",
       "    }\n",
       "\n",
       "    .dataframe tbody tr th {\n",
       "        vertical-align: top;\n",
       "    }\n",
       "\n",
       "    .dataframe thead th {\n",
       "        text-align: right;\n",
       "    }\n",
       "</style>\n",
       "<table border=\"1\" class=\"dataframe\">\n",
       "  <thead>\n",
       "    <tr style=\"text-align: right;\">\n",
       "      <th></th>\n",
       "      <th>UMAP1</th>\n",
       "      <th>UMAP2</th>\n",
       "      <th>UMAP3</th>\n",
       "      <th>UMAP4</th>\n",
       "      <th>UMAP5</th>\n",
       "    </tr>\n",
       "  </thead>\n",
       "  <tbody>\n",
       "    <tr>\n",
       "      <th>count</th>\n",
       "      <td>538.000000</td>\n",
       "      <td>538.000000</td>\n",
       "      <td>538.000000</td>\n",
       "      <td>538.000000</td>\n",
       "      <td>538.000000</td>\n",
       "    </tr>\n",
       "    <tr>\n",
       "      <th>mean</th>\n",
       "      <td>8.980839</td>\n",
       "      <td>5.902012</td>\n",
       "      <td>0.154338</td>\n",
       "      <td>4.647347</td>\n",
       "      <td>9.247462</td>\n",
       "    </tr>\n",
       "    <tr>\n",
       "      <th>std</th>\n",
       "      <td>0.737701</td>\n",
       "      <td>0.316361</td>\n",
       "      <td>0.350059</td>\n",
       "      <td>1.034498</td>\n",
       "      <td>0.414890</td>\n",
       "    </tr>\n",
       "    <tr>\n",
       "      <th>min</th>\n",
       "      <td>7.069083</td>\n",
       "      <td>5.153530</td>\n",
       "      <td>-0.747229</td>\n",
       "      <td>3.158730</td>\n",
       "      <td>8.433452</td>\n",
       "    </tr>\n",
       "    <tr>\n",
       "      <th>25%</th>\n",
       "      <td>8.400496</td>\n",
       "      <td>5.667927</td>\n",
       "      <td>-0.132426</td>\n",
       "      <td>3.889028</td>\n",
       "      <td>8.909946</td>\n",
       "    </tr>\n",
       "    <tr>\n",
       "      <th>50%</th>\n",
       "      <td>9.208768</td>\n",
       "      <td>5.930945</td>\n",
       "      <td>0.144319</td>\n",
       "      <td>4.229660</td>\n",
       "      <td>9.290685</td>\n",
       "    </tr>\n",
       "    <tr>\n",
       "      <th>75%</th>\n",
       "      <td>9.552984</td>\n",
       "      <td>6.137457</td>\n",
       "      <td>0.460004</td>\n",
       "      <td>5.498875</td>\n",
       "      <td>9.532115</td>\n",
       "    </tr>\n",
       "    <tr>\n",
       "      <th>max</th>\n",
       "      <td>10.100342</td>\n",
       "      <td>6.595897</td>\n",
       "      <td>0.902308</td>\n",
       "      <td>7.077068</td>\n",
       "      <td>10.256140</td>\n",
       "    </tr>\n",
       "  </tbody>\n",
       "</table>\n",
       "</div>"
      ],
      "text/plain": [
       "            UMAP1       UMAP2       UMAP3       UMAP4       UMAP5\n",
       "count  538.000000  538.000000  538.000000  538.000000  538.000000\n",
       "mean     8.980839    5.902012    0.154338    4.647347    9.247462\n",
       "std      0.737701    0.316361    0.350059    1.034498    0.414890\n",
       "min      7.069083    5.153530   -0.747229    3.158730    8.433452\n",
       "25%      8.400496    5.667927   -0.132426    3.889028    8.909946\n",
       "50%      9.208768    5.930945    0.144319    4.229660    9.290685\n",
       "75%      9.552984    6.137457    0.460004    5.498875    9.532115\n",
       "max     10.100342    6.595897    0.902308    7.077068   10.256140"
      ]
     },
     "metadata": {},
     "output_type": "display_data"
    },
    {
     "data": {
      "text/plain": [
       "PosixPath('/media/miltondp/Elements1/projects/phenoplier/results/data_transformations/umap/umap-diseases_only-projection-smultixcan-efo_partial-mashr-zscores-metric_euclidean-n_components_10-n_neighbors_15-random_state_0.pkl')"
      ]
     },
     "metadata": {},
     "output_type": "display_data"
    },
    {
     "name": "stdout",
     "output_type": "stream",
     "text": [
      "\n",
      "\n",
      "# components: 20\n"
     ]
    },
    {
     "data": {
      "text/plain": [
       "(538, 20)"
      ]
     },
     "metadata": {},
     "output_type": "display_data"
    },
    {
     "data": {
      "text/html": [
       "<div>\n",
       "<style scoped>\n",
       "    .dataframe tbody tr th:only-of-type {\n",
       "        vertical-align: middle;\n",
       "    }\n",
       "\n",
       "    .dataframe tbody tr th {\n",
       "        vertical-align: top;\n",
       "    }\n",
       "\n",
       "    .dataframe thead th {\n",
       "        text-align: right;\n",
       "    }\n",
       "</style>\n",
       "<table border=\"1\" class=\"dataframe\">\n",
       "  <thead>\n",
       "    <tr style=\"text-align: right;\">\n",
       "      <th></th>\n",
       "      <th>UMAP1</th>\n",
       "      <th>UMAP2</th>\n",
       "      <th>UMAP3</th>\n",
       "      <th>UMAP4</th>\n",
       "      <th>UMAP5</th>\n",
       "    </tr>\n",
       "  </thead>\n",
       "  <tbody>\n",
       "    <tr>\n",
       "      <th>count</th>\n",
       "      <td>538.000000</td>\n",
       "      <td>538.000000</td>\n",
       "      <td>538.000000</td>\n",
       "      <td>538.000000</td>\n",
       "      <td>538.000000</td>\n",
       "    </tr>\n",
       "    <tr>\n",
       "      <th>mean</th>\n",
       "      <td>8.674925</td>\n",
       "      <td>7.149480</td>\n",
       "      <td>2.470582</td>\n",
       "      <td>9.024168</td>\n",
       "      <td>6.822459</td>\n",
       "    </tr>\n",
       "    <tr>\n",
       "      <th>std</th>\n",
       "      <td>0.716936</td>\n",
       "      <td>0.155852</td>\n",
       "      <td>0.662525</td>\n",
       "      <td>0.577149</td>\n",
       "      <td>0.244387</td>\n",
       "    </tr>\n",
       "    <tr>\n",
       "      <th>min</th>\n",
       "      <td>7.068730</td>\n",
       "      <td>6.727529</td>\n",
       "      <td>0.856800</td>\n",
       "      <td>7.723488</td>\n",
       "      <td>6.086979</td>\n",
       "    </tr>\n",
       "    <tr>\n",
       "      <th>25%</th>\n",
       "      <td>8.053979</td>\n",
       "      <td>7.044779</td>\n",
       "      <td>1.878851</td>\n",
       "      <td>8.529346</td>\n",
       "      <td>6.657654</td>\n",
       "    </tr>\n",
       "    <tr>\n",
       "      <th>50%</th>\n",
       "      <td>8.954387</td>\n",
       "      <td>7.147669</td>\n",
       "      <td>2.754720</td>\n",
       "      <td>9.296133</td>\n",
       "      <td>6.849231</td>\n",
       "    </tr>\n",
       "    <tr>\n",
       "      <th>75%</th>\n",
       "      <td>9.218670</td>\n",
       "      <td>7.256415</td>\n",
       "      <td>2.965782</td>\n",
       "      <td>9.433777</td>\n",
       "      <td>7.006309</td>\n",
       "    </tr>\n",
       "    <tr>\n",
       "      <th>max</th>\n",
       "      <td>9.748717</td>\n",
       "      <td>7.580872</td>\n",
       "      <td>3.290337</td>\n",
       "      <td>9.760523</td>\n",
       "      <td>7.294079</td>\n",
       "    </tr>\n",
       "  </tbody>\n",
       "</table>\n",
       "</div>"
      ],
      "text/plain": [
       "            UMAP1       UMAP2       UMAP3       UMAP4       UMAP5\n",
       "count  538.000000  538.000000  538.000000  538.000000  538.000000\n",
       "mean     8.674925    7.149480    2.470582    9.024168    6.822459\n",
       "std      0.716936    0.155852    0.662525    0.577149    0.244387\n",
       "min      7.068730    6.727529    0.856800    7.723488    6.086979\n",
       "25%      8.053979    7.044779    1.878851    8.529346    6.657654\n",
       "50%      8.954387    7.147669    2.754720    9.296133    6.849231\n",
       "75%      9.218670    7.256415    2.965782    9.433777    7.006309\n",
       "max      9.748717    7.580872    3.290337    9.760523    7.294079"
      ]
     },
     "metadata": {},
     "output_type": "display_data"
    },
    {
     "data": {
      "text/plain": [
       "PosixPath('/media/miltondp/Elements1/projects/phenoplier/results/data_transformations/umap/umap-diseases_only-projection-smultixcan-efo_partial-mashr-zscores-metric_euclidean-n_components_20-n_neighbors_15-random_state_0.pkl')"
      ]
     },
     "metadata": {},
     "output_type": "display_data"
    },
    {
     "name": "stdout",
     "output_type": "stream",
     "text": [
      "\n",
      "\n",
      "# components: 30\n"
     ]
    },
    {
     "data": {
      "text/plain": [
       "(538, 30)"
      ]
     },
     "metadata": {},
     "output_type": "display_data"
    },
    {
     "data": {
      "text/html": [
       "<div>\n",
       "<style scoped>\n",
       "    .dataframe tbody tr th:only-of-type {\n",
       "        vertical-align: middle;\n",
       "    }\n",
       "\n",
       "    .dataframe tbody tr th {\n",
       "        vertical-align: top;\n",
       "    }\n",
       "\n",
       "    .dataframe thead th {\n",
       "        text-align: right;\n",
       "    }\n",
       "</style>\n",
       "<table border=\"1\" class=\"dataframe\">\n",
       "  <thead>\n",
       "    <tr style=\"text-align: right;\">\n",
       "      <th></th>\n",
       "      <th>UMAP1</th>\n",
       "      <th>UMAP2</th>\n",
       "      <th>UMAP3</th>\n",
       "      <th>UMAP4</th>\n",
       "      <th>UMAP5</th>\n",
       "    </tr>\n",
       "  </thead>\n",
       "  <tbody>\n",
       "    <tr>\n",
       "      <th>count</th>\n",
       "      <td>538.000000</td>\n",
       "      <td>538.000000</td>\n",
       "      <td>538.000000</td>\n",
       "      <td>538.000000</td>\n",
       "      <td>538.000000</td>\n",
       "    </tr>\n",
       "    <tr>\n",
       "      <th>mean</th>\n",
       "      <td>10.448567</td>\n",
       "      <td>5.826470</td>\n",
       "      <td>-0.323963</td>\n",
       "      <td>7.625603</td>\n",
       "      <td>9.246286</td>\n",
       "    </tr>\n",
       "    <tr>\n",
       "      <th>std</th>\n",
       "      <td>0.708035</td>\n",
       "      <td>0.412532</td>\n",
       "      <td>0.603850</td>\n",
       "      <td>0.168246</td>\n",
       "      <td>0.186903</td>\n",
       "    </tr>\n",
       "    <tr>\n",
       "      <th>min</th>\n",
       "      <td>8.654788</td>\n",
       "      <td>4.982652</td>\n",
       "      <td>-1.127046</td>\n",
       "      <td>7.165621</td>\n",
       "      <td>8.753314</td>\n",
       "    </tr>\n",
       "    <tr>\n",
       "      <th>25%</th>\n",
       "      <td>9.840918</td>\n",
       "      <td>5.539575</td>\n",
       "      <td>-0.741957</td>\n",
       "      <td>7.514384</td>\n",
       "      <td>9.117325</td>\n",
       "    </tr>\n",
       "    <tr>\n",
       "      <th>50%</th>\n",
       "      <td>10.783122</td>\n",
       "      <td>5.668615</td>\n",
       "      <td>-0.583924</td>\n",
       "      <td>7.646608</td>\n",
       "      <td>9.239881</td>\n",
       "    </tr>\n",
       "    <tr>\n",
       "      <th>75%</th>\n",
       "      <td>10.963660</td>\n",
       "      <td>6.191707</td>\n",
       "      <td>0.175815</td>\n",
       "      <td>7.747705</td>\n",
       "      <td>9.377318</td>\n",
       "    </tr>\n",
       "    <tr>\n",
       "      <th>max</th>\n",
       "      <td>11.300587</td>\n",
       "      <td>6.630699</td>\n",
       "      <td>1.137936</td>\n",
       "      <td>8.069474</td>\n",
       "      <td>9.684309</td>\n",
       "    </tr>\n",
       "  </tbody>\n",
       "</table>\n",
       "</div>"
      ],
      "text/plain": [
       "            UMAP1       UMAP2       UMAP3       UMAP4       UMAP5\n",
       "count  538.000000  538.000000  538.000000  538.000000  538.000000\n",
       "mean    10.448567    5.826470   -0.323963    7.625603    9.246286\n",
       "std      0.708035    0.412532    0.603850    0.168246    0.186903\n",
       "min      8.654788    4.982652   -1.127046    7.165621    8.753314\n",
       "25%      9.840918    5.539575   -0.741957    7.514384    9.117325\n",
       "50%     10.783122    5.668615   -0.583924    7.646608    9.239881\n",
       "75%     10.963660    6.191707    0.175815    7.747705    9.377318\n",
       "max     11.300587    6.630699    1.137936    8.069474    9.684309"
      ]
     },
     "metadata": {},
     "output_type": "display_data"
    },
    {
     "data": {
      "text/plain": [
       "PosixPath('/media/miltondp/Elements1/projects/phenoplier/results/data_transformations/umap/umap-diseases_only-projection-smultixcan-efo_partial-mashr-zscores-metric_euclidean-n_components_30-n_neighbors_15-random_state_0.pkl')"
      ]
     },
     "metadata": {},
     "output_type": "display_data"
    },
    {
     "name": "stdout",
     "output_type": "stream",
     "text": [
      "\n",
      "\n",
      "# components: 40\n"
     ]
    },
    {
     "data": {
      "text/plain": [
       "(538, 40)"
      ]
     },
     "metadata": {},
     "output_type": "display_data"
    },
    {
     "data": {
      "text/html": [
       "<div>\n",
       "<style scoped>\n",
       "    .dataframe tbody tr th:only-of-type {\n",
       "        vertical-align: middle;\n",
       "    }\n",
       "\n",
       "    .dataframe tbody tr th {\n",
       "        vertical-align: top;\n",
       "    }\n",
       "\n",
       "    .dataframe thead th {\n",
       "        text-align: right;\n",
       "    }\n",
       "</style>\n",
       "<table border=\"1\" class=\"dataframe\">\n",
       "  <thead>\n",
       "    <tr style=\"text-align: right;\">\n",
       "      <th></th>\n",
       "      <th>UMAP1</th>\n",
       "      <th>UMAP2</th>\n",
       "      <th>UMAP3</th>\n",
       "      <th>UMAP4</th>\n",
       "      <th>UMAP5</th>\n",
       "    </tr>\n",
       "  </thead>\n",
       "  <tbody>\n",
       "    <tr>\n",
       "      <th>count</th>\n",
       "      <td>538.000000</td>\n",
       "      <td>538.000000</td>\n",
       "      <td>538.000000</td>\n",
       "      <td>538.000000</td>\n",
       "      <td>538.000000</td>\n",
       "    </tr>\n",
       "    <tr>\n",
       "      <th>mean</th>\n",
       "      <td>8.570003</td>\n",
       "      <td>6.840653</td>\n",
       "      <td>0.012449</td>\n",
       "      <td>8.653414</td>\n",
       "      <td>7.588523</td>\n",
       "    </tr>\n",
       "    <tr>\n",
       "      <th>std</th>\n",
       "      <td>0.442001</td>\n",
       "      <td>0.258230</td>\n",
       "      <td>0.542797</td>\n",
       "      <td>0.354773</td>\n",
       "      <td>0.249461</td>\n",
       "    </tr>\n",
       "    <tr>\n",
       "      <th>min</th>\n",
       "      <td>7.511904</td>\n",
       "      <td>6.424364</td>\n",
       "      <td>-0.717533</td>\n",
       "      <td>7.707873</td>\n",
       "      <td>7.080948</td>\n",
       "    </tr>\n",
       "    <tr>\n",
       "      <th>25%</th>\n",
       "      <td>8.173218</td>\n",
       "      <td>6.641937</td>\n",
       "      <td>-0.379681</td>\n",
       "      <td>8.366653</td>\n",
       "      <td>7.382907</td>\n",
       "    </tr>\n",
       "    <tr>\n",
       "      <th>50%</th>\n",
       "      <td>8.748106</td>\n",
       "      <td>6.763127</td>\n",
       "      <td>-0.235558</td>\n",
       "      <td>8.783742</td>\n",
       "      <td>7.556041</td>\n",
       "    </tr>\n",
       "    <tr>\n",
       "      <th>75%</th>\n",
       "      <td>8.904224</td>\n",
       "      <td>7.071409</td>\n",
       "      <td>0.489969</td>\n",
       "      <td>8.920159</td>\n",
       "      <td>7.793006</td>\n",
       "    </tr>\n",
       "    <tr>\n",
       "      <th>max</th>\n",
       "      <td>9.295289</td>\n",
       "      <td>7.417861</td>\n",
       "      <td>1.281133</td>\n",
       "      <td>9.225111</td>\n",
       "      <td>8.120114</td>\n",
       "    </tr>\n",
       "  </tbody>\n",
       "</table>\n",
       "</div>"
      ],
      "text/plain": [
       "            UMAP1       UMAP2       UMAP3       UMAP4       UMAP5\n",
       "count  538.000000  538.000000  538.000000  538.000000  538.000000\n",
       "mean     8.570003    6.840653    0.012449    8.653414    7.588523\n",
       "std      0.442001    0.258230    0.542797    0.354773    0.249461\n",
       "min      7.511904    6.424364   -0.717533    7.707873    7.080948\n",
       "25%      8.173218    6.641937   -0.379681    8.366653    7.382907\n",
       "50%      8.748106    6.763127   -0.235558    8.783742    7.556041\n",
       "75%      8.904224    7.071409    0.489969    8.920159    7.793006\n",
       "max      9.295289    7.417861    1.281133    9.225111    8.120114"
      ]
     },
     "metadata": {},
     "output_type": "display_data"
    },
    {
     "data": {
      "text/plain": [
       "PosixPath('/media/miltondp/Elements1/projects/phenoplier/results/data_transformations/umap/umap-diseases_only-projection-smultixcan-efo_partial-mashr-zscores-metric_euclidean-n_components_40-n_neighbors_15-random_state_0.pkl')"
      ]
     },
     "metadata": {},
     "output_type": "display_data"
    },
    {
     "name": "stdout",
     "output_type": "stream",
     "text": [
      "\n",
      "\n",
      "# components: 50\n"
     ]
    },
    {
     "data": {
      "text/plain": [
       "(538, 50)"
      ]
     },
     "metadata": {},
     "output_type": "display_data"
    },
    {
     "data": {
      "text/html": [
       "<div>\n",
       "<style scoped>\n",
       "    .dataframe tbody tr th:only-of-type {\n",
       "        vertical-align: middle;\n",
       "    }\n",
       "\n",
       "    .dataframe tbody tr th {\n",
       "        vertical-align: top;\n",
       "    }\n",
       "\n",
       "    .dataframe thead th {\n",
       "        text-align: right;\n",
       "    }\n",
       "</style>\n",
       "<table border=\"1\" class=\"dataframe\">\n",
       "  <thead>\n",
       "    <tr style=\"text-align: right;\">\n",
       "      <th></th>\n",
       "      <th>UMAP1</th>\n",
       "      <th>UMAP2</th>\n",
       "      <th>UMAP3</th>\n",
       "      <th>UMAP4</th>\n",
       "      <th>UMAP5</th>\n",
       "    </tr>\n",
       "  </thead>\n",
       "  <tbody>\n",
       "    <tr>\n",
       "      <th>count</th>\n",
       "      <td>538.000000</td>\n",
       "      <td>538.000000</td>\n",
       "      <td>538.000000</td>\n",
       "      <td>538.000000</td>\n",
       "      <td>538.000000</td>\n",
       "    </tr>\n",
       "    <tr>\n",
       "      <th>mean</th>\n",
       "      <td>8.132460</td>\n",
       "      <td>7.396153</td>\n",
       "      <td>-0.074768</td>\n",
       "      <td>9.338972</td>\n",
       "      <td>7.771720</td>\n",
       "    </tr>\n",
       "    <tr>\n",
       "      <th>std</th>\n",
       "      <td>0.510653</td>\n",
       "      <td>0.296920</td>\n",
       "      <td>0.577381</td>\n",
       "      <td>0.702729</td>\n",
       "      <td>0.138233</td>\n",
       "    </tr>\n",
       "    <tr>\n",
       "      <th>min</th>\n",
       "      <td>6.978850</td>\n",
       "      <td>6.738666</td>\n",
       "      <td>-0.898324</td>\n",
       "      <td>7.658731</td>\n",
       "      <td>7.463675</td>\n",
       "    </tr>\n",
       "    <tr>\n",
       "      <th>25%</th>\n",
       "      <td>7.717185</td>\n",
       "      <td>7.135725</td>\n",
       "      <td>-0.510513</td>\n",
       "      <td>8.770180</td>\n",
       "      <td>7.660825</td>\n",
       "    </tr>\n",
       "    <tr>\n",
       "      <th>50%</th>\n",
       "      <td>8.373206</td>\n",
       "      <td>7.498573</td>\n",
       "      <td>-0.293383</td>\n",
       "      <td>9.711115</td>\n",
       "      <td>7.772849</td>\n",
       "    </tr>\n",
       "    <tr>\n",
       "      <th>75%</th>\n",
       "      <td>8.495791</td>\n",
       "      <td>7.615594</td>\n",
       "      <td>0.415115</td>\n",
       "      <td>9.832593</td>\n",
       "      <td>7.882412</td>\n",
       "    </tr>\n",
       "    <tr>\n",
       "      <th>max</th>\n",
       "      <td>8.757478</td>\n",
       "      <td>7.887705</td>\n",
       "      <td>1.252994</td>\n",
       "      <td>10.139756</td>\n",
       "      <td>8.098040</td>\n",
       "    </tr>\n",
       "  </tbody>\n",
       "</table>\n",
       "</div>"
      ],
      "text/plain": [
       "            UMAP1       UMAP2       UMAP3       UMAP4       UMAP5\n",
       "count  538.000000  538.000000  538.000000  538.000000  538.000000\n",
       "mean     8.132460    7.396153   -0.074768    9.338972    7.771720\n",
       "std      0.510653    0.296920    0.577381    0.702729    0.138233\n",
       "min      6.978850    6.738666   -0.898324    7.658731    7.463675\n",
       "25%      7.717185    7.135725   -0.510513    8.770180    7.660825\n",
       "50%      8.373206    7.498573   -0.293383    9.711115    7.772849\n",
       "75%      8.495791    7.615594    0.415115    9.832593    7.882412\n",
       "max      8.757478    7.887705    1.252994   10.139756    8.098040"
      ]
     },
     "metadata": {},
     "output_type": "display_data"
    },
    {
     "data": {
      "text/plain": [
       "PosixPath('/media/miltondp/Elements1/projects/phenoplier/results/data_transformations/umap/umap-diseases_only-projection-smultixcan-efo_partial-mashr-zscores-metric_euclidean-n_components_50-n_neighbors_15-random_state_0.pkl')"
      ]
     },
     "metadata": {},
     "output_type": "display_data"
    },
    {
     "name": "stdout",
     "output_type": "stream",
     "text": [
      "\n",
      "\n"
     ]
    }
   ],
   "source": [
    "# for n_comp, n_neigh in product(DR_OPTIONS['n_components'], DR_OPTIONS['n_neighbors']):\n",
    "for n_comp in DR_OPTIONS['n_components']:\n",
    "    print(f'# components: {n_comp}')\n",
    "    \n",
    "    options = ALL_OPTIONS.copy()\n",
    "    options['n_components'] = n_comp\n",
    "    \n",
    "    dr_data = get_umap_proj(data, options)\n",
    "    \n",
    "    display(dr_data.shape)\n",
    "    assert dr_data.shape == (data.shape[0], n_comp)\n",
    "    \n",
    "    display(dr_data.iloc[:, 0:5].describe())\n",
    "    \n",
    "    # save\n",
    "    output_file = Path(\n",
    "        RESULTS_DIR,\n",
    "        generate_result_set_name(\n",
    "            options,\n",
    "            prefix=f'umap-{input_filepath_stem}-',\n",
    "            suffix='.pkl'\n",
    "        )\n",
    "    ).resolve()\n",
    "    display(output_file)\n",
    "    \n",
    "    dr_data.to_pickle(output_file)\n",
    "    \n",
    "    print('\\n')"
   ]
  },
  {
   "cell_type": "code",
   "execution_count": null,
   "metadata": {},
   "outputs": [],
   "source": []
  }
 ],
 "metadata": {
  "jupytext": {
   "formats": "ipynb,py:percent"
  },
  "kernelspec": {
   "display_name": "Python 3",
   "language": "python",
   "name": "python3"
  },
  "language_info": {
   "codemirror_mode": {
    "name": "ipython",
    "version": 3
   },
   "file_extension": ".py",
   "mimetype": "text/x-python",
   "name": "python",
   "nbconvert_exporter": "python",
   "pygments_lexer": "ipython3",
   "version": "3.8.6"
  },
  "toc-autonumbering": true,
  "toc-showcode": false,
  "toc-showmarkdowntxt": false,
  "toc-showtags": false
 },
 "nbformat": 4,
 "nbformat_minor": 4
}
