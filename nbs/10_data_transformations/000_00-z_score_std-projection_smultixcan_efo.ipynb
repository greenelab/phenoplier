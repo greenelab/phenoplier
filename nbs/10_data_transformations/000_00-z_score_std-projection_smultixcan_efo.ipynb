{
 "cells": [
  {
   "cell_type": "markdown",
   "metadata": {
    "papermill": {
     "duration": 0.037233,
     "end_time": "2021-01-12T05:38:03.794671",
     "exception": false,
     "start_time": "2021-01-12T05:38:03.757438",
     "status": "completed"
    },
    "tags": []
   },
   "source": [
    "# Description"
   ]
  },
  {
   "cell_type": "markdown",
   "metadata": {
    "papermill": {
     "duration": 0.009959,
     "end_time": "2021-01-12T05:38:03.820459",
     "exception": false,
     "start_time": "2021-01-12T05:38:03.810500",
     "status": "completed"
    },
    "tags": []
   },
   "source": [
    "It standardize (z-score) S-MultiXcan results projected into the MultiPLIER latent space."
   ]
  },
  {
   "cell_type": "markdown",
   "metadata": {
    "papermill": {
     "duration": 0.008199,
     "end_time": "2021-01-12T05:38:03.836882",
     "exception": false,
     "start_time": "2021-01-12T05:38:03.828683",
     "status": "completed"
    },
    "tags": []
   },
   "source": [
    "# Modules loading"
   ]
  },
  {
   "cell_type": "code",
   "execution_count": 1,
   "metadata": {
    "execution": {
     "iopub.execute_input": "2021-01-12T05:38:03.857028Z",
     "iopub.status.busy": "2021-01-12T05:38:03.856589Z",
     "iopub.status.idle": "2021-01-12T05:38:03.864469Z",
     "shell.execute_reply": "2021-01-12T05:38:03.864044Z"
    },
    "papermill": {
     "duration": 0.019344,
     "end_time": "2021-01-12T05:38:03.864586",
     "exception": false,
     "start_time": "2021-01-12T05:38:03.845242",
     "status": "completed"
    },
    "tags": []
   },
   "outputs": [],
   "source": [
    "%load_ext autoreload\n",
    "%autoreload 2"
   ]
  },
  {
   "cell_type": "code",
   "execution_count": 2,
   "metadata": {
    "execution": {
     "iopub.execute_input": "2021-01-12T05:38:03.885243Z",
     "iopub.status.busy": "2021-01-12T05:38:03.884876Z",
     "iopub.status.idle": "2021-01-12T05:38:04.330769Z",
     "shell.execute_reply": "2021-01-12T05:38:04.330374Z"
    },
    "papermill": {
     "duration": 0.45755,
     "end_time": "2021-01-12T05:38:04.330860",
     "exception": false,
     "start_time": "2021-01-12T05:38:03.873310",
     "status": "completed"
    },
    "tags": []
   },
   "outputs": [],
   "source": [
    "from pathlib import Path\n",
    "from IPython.display import display\n",
    "\n",
    "import numpy as np\n",
    "import pandas as pd\n",
    "from sklearn.preprocessing import scale\n",
    "\n",
    "import conf"
   ]
  },
  {
   "cell_type": "markdown",
   "metadata": {
    "papermill": {
     "duration": 0.008283,
     "end_time": "2021-01-12T05:38:04.347728",
     "exception": false,
     "start_time": "2021-01-12T05:38:04.339445",
     "status": "completed"
    },
    "tags": []
   },
   "source": [
    "# Settings"
   ]
  },
  {
   "cell_type": "markdown",
   "metadata": {
    "papermill": {
     "duration": 0.008111,
     "end_time": "2021-01-12T05:38:04.364263",
     "exception": false,
     "start_time": "2021-01-12T05:38:04.356152",
     "status": "completed"
    },
    "tags": []
   },
   "source": [
    "## Input data"
   ]
  },
  {
   "cell_type": "code",
   "execution_count": 3,
   "metadata": {
    "execution": {
     "iopub.execute_input": "2021-01-12T05:38:04.383400Z",
     "iopub.status.busy": "2021-01-12T05:38:04.383032Z",
     "iopub.status.idle": "2021-01-12T05:38:04.401744Z",
     "shell.execute_reply": "2021-01-12T05:38:04.402046Z"
    },
    "papermill": {
     "duration": 0.02974,
     "end_time": "2021-01-12T05:38:04.402182",
     "exception": false,
     "start_time": "2021-01-12T05:38:04.372442",
     "status": "completed"
    },
    "tags": []
   },
   "outputs": [
    {
     "data": {
      "text/plain": [
       "PosixPath('/home/miltondp/projects/labs/greenelab/phenoplier/base3/results/projections/projection-smultixcan-efo_partial-mashr-zscores.pkl')"
      ]
     },
     "metadata": {},
     "output_type": "display_data"
    },
    {
     "data": {
      "text/plain": [
       "'projection-smultixcan-efo_partial-mashr-zscores'"
      ]
     },
     "metadata": {},
     "output_type": "display_data"
    }
   ],
   "source": [
    "INPUT_FILEPATH = Path(\n",
    "    conf.RESULTS[\"PROJECTIONS_DIR\"],\n",
    "    \"projection-smultixcan-efo_partial-mashr-zscores.pkl\",\n",
    ").resolve()\n",
    "display(INPUT_FILEPATH)\n",
    "\n",
    "input_filepath_stem = INPUT_FILEPATH.stem\n",
    "display(input_filepath_stem)"
   ]
  },
  {
   "cell_type": "markdown",
   "metadata": {
    "papermill": {
     "duration": 0.008667,
     "end_time": "2021-01-12T05:38:04.420015",
     "exception": false,
     "start_time": "2021-01-12T05:38:04.411348",
     "status": "completed"
    },
    "tags": []
   },
   "source": [
    "## Output folder"
   ]
  },
  {
   "cell_type": "code",
   "execution_count": 4,
   "metadata": {
    "execution": {
     "iopub.execute_input": "2021-01-12T05:38:04.440054Z",
     "iopub.status.busy": "2021-01-12T05:38:04.439686Z",
     "iopub.status.idle": "2021-01-12T05:38:04.449762Z",
     "shell.execute_reply": "2021-01-12T05:38:04.449387Z"
    },
    "papermill": {
     "duration": 0.021158,
     "end_time": "2021-01-12T05:38:04.449852",
     "exception": false,
     "start_time": "2021-01-12T05:38:04.428694",
     "status": "completed"
    },
    "tags": []
   },
   "outputs": [
    {
     "data": {
      "text/plain": [
       "PosixPath('/home/miltondp/projects/labs/greenelab/phenoplier/base3/results/data_transformations/z_score_std')"
      ]
     },
     "metadata": {},
     "output_type": "display_data"
    }
   ],
   "source": [
    "# output dir for this notebook\n",
    "RESULTS_DIR = Path(conf.RESULTS[\"DATA_TRANSFORMATIONS_DIR\"], \"z_score_std\").resolve()\n",
    "RESULTS_DIR.mkdir(parents=True, exist_ok=True)\n",
    "\n",
    "display(RESULTS_DIR)"
   ]
  },
  {
   "cell_type": "markdown",
   "metadata": {
    "papermill": {
     "duration": 0.008777,
     "end_time": "2021-01-12T05:38:04.467941",
     "exception": false,
     "start_time": "2021-01-12T05:38:04.459164",
     "status": "completed"
    },
    "tags": []
   },
   "source": [
    "# Load input file"
   ]
  },
  {
   "cell_type": "code",
   "execution_count": 5,
   "metadata": {
    "execution": {
     "iopub.execute_input": "2021-01-12T05:38:04.488076Z",
     "iopub.status.busy": "2021-01-12T05:38:04.487720Z",
     "iopub.status.idle": "2021-01-12T05:38:04.510603Z",
     "shell.execute_reply": "2021-01-12T05:38:04.510260Z"
    },
    "papermill": {
     "duration": 0.033985,
     "end_time": "2021-01-12T05:38:04.510705",
     "exception": false,
     "start_time": "2021-01-12T05:38:04.476720",
     "status": "completed"
    },
    "tags": []
   },
   "outputs": [],
   "source": [
    "data = pd.read_pickle(INPUT_FILEPATH).T"
   ]
  },
  {
   "cell_type": "code",
   "execution_count": 6,
   "metadata": {
    "execution": {
     "iopub.execute_input": "2021-01-12T05:38:04.533295Z",
     "iopub.status.busy": "2021-01-12T05:38:04.532932Z",
     "iopub.status.idle": "2021-01-12T05:38:04.542451Z",
     "shell.execute_reply": "2021-01-12T05:38:04.542740Z"
    },
    "papermill": {
     "duration": 0.021953,
     "end_time": "2021-01-12T05:38:04.542852",
     "exception": false,
     "start_time": "2021-01-12T05:38:04.520899",
     "status": "completed"
    },
    "tags": []
   },
   "outputs": [
    {
     "data": {
      "text/plain": [
       "(3749, 987)"
      ]
     },
     "metadata": {},
     "output_type": "display_data"
    }
   ],
   "source": [
    "display(data.shape)"
   ]
  },
  {
   "cell_type": "code",
   "execution_count": 7,
   "metadata": {
    "execution": {
     "iopub.execute_input": "2021-01-12T05:38:04.563936Z",
     "iopub.status.busy": "2021-01-12T05:38:04.563577Z",
     "iopub.status.idle": "2021-01-12T05:38:04.586227Z",
     "shell.execute_reply": "2021-01-12T05:38:04.585847Z"
    },
    "papermill": {
     "duration": 0.033966,
     "end_time": "2021-01-12T05:38:04.586315",
     "exception": false,
     "start_time": "2021-01-12T05:38:04.552349",
     "status": "completed"
    },
    "tags": []
   },
   "outputs": [
    {
     "data": {
      "text/html": [
       "<div>\n",
       "<style scoped>\n",
       "    .dataframe tbody tr th:only-of-type {\n",
       "        vertical-align: middle;\n",
       "    }\n",
       "\n",
       "    .dataframe tbody tr th {\n",
       "        vertical-align: top;\n",
       "    }\n",
       "\n",
       "    .dataframe thead th {\n",
       "        text-align: right;\n",
       "    }\n",
       "</style>\n",
       "<table border=\"1\" class=\"dataframe\">\n",
       "  <thead>\n",
       "    <tr style=\"text-align: right;\">\n",
       "      <th></th>\n",
       "      <th>LV1</th>\n",
       "      <th>LV2</th>\n",
       "      <th>LV3</th>\n",
       "      <th>LV4</th>\n",
       "      <th>LV5</th>\n",
       "      <th>LV6</th>\n",
       "      <th>LV7</th>\n",
       "      <th>LV8</th>\n",
       "      <th>LV9</th>\n",
       "      <th>LV10</th>\n",
       "      <th>...</th>\n",
       "      <th>LV978</th>\n",
       "      <th>LV979</th>\n",
       "      <th>LV980</th>\n",
       "      <th>LV981</th>\n",
       "      <th>LV982</th>\n",
       "      <th>LV983</th>\n",
       "      <th>LV984</th>\n",
       "      <th>LV985</th>\n",
       "      <th>LV986</th>\n",
       "      <th>LV987</th>\n",
       "    </tr>\n",
       "  </thead>\n",
       "  <tbody>\n",
       "    <tr>\n",
       "      <th>100001_raw-Food_weight</th>\n",
       "      <td>-0.018452</td>\n",
       "      <td>0.052938</td>\n",
       "      <td>-0.003629</td>\n",
       "      <td>0.028359</td>\n",
       "      <td>-0.015500</td>\n",
       "      <td>0.035854</td>\n",
       "      <td>-0.015439</td>\n",
       "      <td>0.023007</td>\n",
       "      <td>0.017368</td>\n",
       "      <td>0.026811</td>\n",
       "      <td>...</td>\n",
       "      <td>0.033560</td>\n",
       "      <td>0.047126</td>\n",
       "      <td>-0.036183</td>\n",
       "      <td>0.068750</td>\n",
       "      <td>0.023462</td>\n",
       "      <td>-0.030111</td>\n",
       "      <td>0.011272</td>\n",
       "      <td>-0.017171</td>\n",
       "      <td>0.016078</td>\n",
       "      <td>-0.022283</td>\n",
       "    </tr>\n",
       "    <tr>\n",
       "      <th>100002_raw-Energy</th>\n",
       "      <td>-0.043782</td>\n",
       "      <td>-0.012041</td>\n",
       "      <td>-0.011772</td>\n",
       "      <td>-0.006148</td>\n",
       "      <td>0.007011</td>\n",
       "      <td>0.018142</td>\n",
       "      <td>0.003144</td>\n",
       "      <td>0.018049</td>\n",
       "      <td>0.006926</td>\n",
       "      <td>0.038587</td>\n",
       "      <td>...</td>\n",
       "      <td>0.004833</td>\n",
       "      <td>0.022842</td>\n",
       "      <td>-0.009519</td>\n",
       "      <td>-0.000258</td>\n",
       "      <td>0.059764</td>\n",
       "      <td>-0.028394</td>\n",
       "      <td>-0.005967</td>\n",
       "      <td>0.045269</td>\n",
       "      <td>-0.007684</td>\n",
       "      <td>-0.018910</td>\n",
       "    </tr>\n",
       "    <tr>\n",
       "      <th>100003_raw-Protein</th>\n",
       "      <td>-0.021514</td>\n",
       "      <td>-0.028537</td>\n",
       "      <td>0.009441</td>\n",
       "      <td>0.007808</td>\n",
       "      <td>0.012707</td>\n",
       "      <td>0.021681</td>\n",
       "      <td>-0.006315</td>\n",
       "      <td>0.016129</td>\n",
       "      <td>0.000076</td>\n",
       "      <td>-0.001702</td>\n",
       "      <td>...</td>\n",
       "      <td>0.029704</td>\n",
       "      <td>0.029135</td>\n",
       "      <td>-0.056508</td>\n",
       "      <td>-0.002032</td>\n",
       "      <td>0.001189</td>\n",
       "      <td>-0.025507</td>\n",
       "      <td>-0.013012</td>\n",
       "      <td>0.037458</td>\n",
       "      <td>-0.009592</td>\n",
       "      <td>-0.016718</td>\n",
       "    </tr>\n",
       "    <tr>\n",
       "      <th>100004_raw-Fat</th>\n",
       "      <td>-0.030454</td>\n",
       "      <td>-0.052542</td>\n",
       "      <td>0.000459</td>\n",
       "      <td>-0.039613</td>\n",
       "      <td>0.006191</td>\n",
       "      <td>0.029523</td>\n",
       "      <td>0.000747</td>\n",
       "      <td>0.011876</td>\n",
       "      <td>-0.025758</td>\n",
       "      <td>0.025099</td>\n",
       "      <td>...</td>\n",
       "      <td>0.015900</td>\n",
       "      <td>0.016482</td>\n",
       "      <td>0.007409</td>\n",
       "      <td>-0.006833</td>\n",
       "      <td>0.036457</td>\n",
       "      <td>-0.034531</td>\n",
       "      <td>0.015365</td>\n",
       "      <td>0.023796</td>\n",
       "      <td>-0.017477</td>\n",
       "      <td>-0.005397</td>\n",
       "    </tr>\n",
       "    <tr>\n",
       "      <th>100005_raw-Carbohydrate</th>\n",
       "      <td>-0.017428</td>\n",
       "      <td>0.003757</td>\n",
       "      <td>-0.003708</td>\n",
       "      <td>-0.000929</td>\n",
       "      <td>-0.000647</td>\n",
       "      <td>-0.005729</td>\n",
       "      <td>0.024970</td>\n",
       "      <td>0.011531</td>\n",
       "      <td>0.035043</td>\n",
       "      <td>0.025159</td>\n",
       "      <td>...</td>\n",
       "      <td>-0.010071</td>\n",
       "      <td>0.002266</td>\n",
       "      <td>0.006664</td>\n",
       "      <td>0.007380</td>\n",
       "      <td>0.029940</td>\n",
       "      <td>-0.006989</td>\n",
       "      <td>0.014807</td>\n",
       "      <td>0.050208</td>\n",
       "      <td>0.005352</td>\n",
       "      <td>-0.049218</td>\n",
       "    </tr>\n",
       "  </tbody>\n",
       "</table>\n",
       "<p>5 rows × 987 columns</p>\n",
       "</div>"
      ],
      "text/plain": [
       "                              LV1       LV2       LV3       LV4       LV5  \\\n",
       "100001_raw-Food_weight  -0.018452  0.052938 -0.003629  0.028359 -0.015500   \n",
       "100002_raw-Energy       -0.043782 -0.012041 -0.011772 -0.006148  0.007011   \n",
       "100003_raw-Protein      -0.021514 -0.028537  0.009441  0.007808  0.012707   \n",
       "100004_raw-Fat          -0.030454 -0.052542  0.000459 -0.039613  0.006191   \n",
       "100005_raw-Carbohydrate -0.017428  0.003757 -0.003708 -0.000929 -0.000647   \n",
       "\n",
       "                              LV6       LV7       LV8       LV9      LV10  \\\n",
       "100001_raw-Food_weight   0.035854 -0.015439  0.023007  0.017368  0.026811   \n",
       "100002_raw-Energy        0.018142  0.003144  0.018049  0.006926  0.038587   \n",
       "100003_raw-Protein       0.021681 -0.006315  0.016129  0.000076 -0.001702   \n",
       "100004_raw-Fat           0.029523  0.000747  0.011876 -0.025758  0.025099   \n",
       "100005_raw-Carbohydrate -0.005729  0.024970  0.011531  0.035043  0.025159   \n",
       "\n",
       "                         ...     LV978     LV979     LV980     LV981  \\\n",
       "100001_raw-Food_weight   ...  0.033560  0.047126 -0.036183  0.068750   \n",
       "100002_raw-Energy        ...  0.004833  0.022842 -0.009519 -0.000258   \n",
       "100003_raw-Protein       ...  0.029704  0.029135 -0.056508 -0.002032   \n",
       "100004_raw-Fat           ...  0.015900  0.016482  0.007409 -0.006833   \n",
       "100005_raw-Carbohydrate  ... -0.010071  0.002266  0.006664  0.007380   \n",
       "\n",
       "                            LV982     LV983     LV984     LV985     LV986  \\\n",
       "100001_raw-Food_weight   0.023462 -0.030111  0.011272 -0.017171  0.016078   \n",
       "100002_raw-Energy        0.059764 -0.028394 -0.005967  0.045269 -0.007684   \n",
       "100003_raw-Protein       0.001189 -0.025507 -0.013012  0.037458 -0.009592   \n",
       "100004_raw-Fat           0.036457 -0.034531  0.015365  0.023796 -0.017477   \n",
       "100005_raw-Carbohydrate  0.029940 -0.006989  0.014807  0.050208  0.005352   \n",
       "\n",
       "                            LV987  \n",
       "100001_raw-Food_weight  -0.022283  \n",
       "100002_raw-Energy       -0.018910  \n",
       "100003_raw-Protein      -0.016718  \n",
       "100004_raw-Fat          -0.005397  \n",
       "100005_raw-Carbohydrate -0.049218  \n",
       "\n",
       "[5 rows x 987 columns]"
      ]
     },
     "metadata": {},
     "output_type": "display_data"
    }
   ],
   "source": [
    "display(data.head())"
   ]
  },
  {
   "cell_type": "markdown",
   "metadata": {
    "papermill": {
     "duration": 0.009485,
     "end_time": "2021-01-12T05:38:04.605640",
     "exception": false,
     "start_time": "2021-01-12T05:38:04.596155",
     "status": "completed"
    },
    "tags": []
   },
   "source": [
    "# z-score standardization"
   ]
  },
  {
   "cell_type": "code",
   "execution_count": 8,
   "metadata": {
    "execution": {
     "iopub.execute_input": "2021-01-12T05:38:04.627105Z",
     "iopub.status.busy": "2021-01-12T05:38:04.626732Z",
     "iopub.status.idle": "2021-01-12T05:38:04.661911Z",
     "shell.execute_reply": "2021-01-12T05:38:04.661536Z"
    },
    "papermill": {
     "duration": 0.046899,
     "end_time": "2021-01-12T05:38:04.662001",
     "exception": false,
     "start_time": "2021-01-12T05:38:04.615102",
     "status": "completed"
    },
    "tags": []
   },
   "outputs": [
    {
     "data": {
      "text/html": [
       "<div>\n",
       "<style scoped>\n",
       "    .dataframe tbody tr th:only-of-type {\n",
       "        vertical-align: middle;\n",
       "    }\n",
       "\n",
       "    .dataframe tbody tr th {\n",
       "        vertical-align: top;\n",
       "    }\n",
       "\n",
       "    .dataframe thead th {\n",
       "        text-align: right;\n",
       "    }\n",
       "</style>\n",
       "<table border=\"1\" class=\"dataframe\">\n",
       "  <thead>\n",
       "    <tr style=\"text-align: right;\">\n",
       "      <th></th>\n",
       "      <th>LV1</th>\n",
       "      <th>LV2</th>\n",
       "      <th>LV3</th>\n",
       "      <th>LV4</th>\n",
       "      <th>LV5</th>\n",
       "      <th>LV6</th>\n",
       "      <th>LV7</th>\n",
       "      <th>LV8</th>\n",
       "      <th>LV9</th>\n",
       "      <th>LV10</th>\n",
       "    </tr>\n",
       "  </thead>\n",
       "  <tbody>\n",
       "    <tr>\n",
       "      <th>count</th>\n",
       "      <td>3749.000000</td>\n",
       "      <td>3.749000e+03</td>\n",
       "      <td>3.749000e+03</td>\n",
       "      <td>3.749000e+03</td>\n",
       "      <td>3.749000e+03</td>\n",
       "      <td>3.749000e+03</td>\n",
       "      <td>3.749000e+03</td>\n",
       "      <td>3.749000e+03</td>\n",
       "      <td>3.749000e+03</td>\n",
       "      <td>3.749000e+03</td>\n",
       "    </tr>\n",
       "    <tr>\n",
       "      <th>mean</th>\n",
       "      <td>0.000000</td>\n",
       "      <td>-7.818055e-18</td>\n",
       "      <td>3.790572e-18</td>\n",
       "      <td>-8.884153e-19</td>\n",
       "      <td>9.476430e-19</td>\n",
       "      <td>-1.273395e-18</td>\n",
       "      <td>-2.132197e-18</td>\n",
       "      <td>-8.291876e-19</td>\n",
       "      <td>4.619760e-18</td>\n",
       "      <td>3.553661e-18</td>\n",
       "    </tr>\n",
       "    <tr>\n",
       "      <th>std</th>\n",
       "      <td>0.033327</td>\n",
       "      <td>2.860283e-02</td>\n",
       "      <td>3.791407e-02</td>\n",
       "      <td>3.044476e-02</td>\n",
       "      <td>3.008916e-02</td>\n",
       "      <td>2.615014e-02</td>\n",
       "      <td>3.737188e-02</td>\n",
       "      <td>3.153450e-02</td>\n",
       "      <td>3.179361e-02</td>\n",
       "      <td>2.975571e-02</td>\n",
       "    </tr>\n",
       "    <tr>\n",
       "      <th>min</th>\n",
       "      <td>-0.182950</td>\n",
       "      <td>-9.410261e-02</td>\n",
       "      <td>-8.970296e-02</td>\n",
       "      <td>-2.330088e-01</td>\n",
       "      <td>-8.127525e-02</td>\n",
       "      <td>-2.021169e-01</td>\n",
       "      <td>-8.845736e-02</td>\n",
       "      <td>-8.158941e-02</td>\n",
       "      <td>-8.224399e-02</td>\n",
       "      <td>-1.225250e-01</td>\n",
       "    </tr>\n",
       "    <tr>\n",
       "      <th>25%</th>\n",
       "      <td>-0.020045</td>\n",
       "      <td>-1.854991e-02</td>\n",
       "      <td>-2.237111e-02</td>\n",
       "      <td>-1.877114e-02</td>\n",
       "      <td>-1.979890e-02</td>\n",
       "      <td>-1.670325e-02</td>\n",
       "      <td>-2.203061e-02</td>\n",
       "      <td>-1.942657e-02</td>\n",
       "      <td>-1.838957e-02</td>\n",
       "      <td>-1.980324e-02</td>\n",
       "    </tr>\n",
       "    <tr>\n",
       "      <th>50%</th>\n",
       "      <td>-0.002603</td>\n",
       "      <td>-1.359580e-03</td>\n",
       "      <td>-5.313336e-03</td>\n",
       "      <td>-2.637242e-04</td>\n",
       "      <td>-2.225820e-03</td>\n",
       "      <td>-1.166629e-04</td>\n",
       "      <td>-4.656835e-03</td>\n",
       "      <td>-3.405316e-03</td>\n",
       "      <td>-3.455237e-03</td>\n",
       "      <td>-1.833973e-03</td>\n",
       "    </tr>\n",
       "    <tr>\n",
       "      <th>75%</th>\n",
       "      <td>0.016455</td>\n",
       "      <td>1.670710e-02</td>\n",
       "      <td>1.344975e-02</td>\n",
       "      <td>1.793625e-02</td>\n",
       "      <td>1.509677e-02</td>\n",
       "      <td>1.648301e-02</td>\n",
       "      <td>1.536048e-02</td>\n",
       "      <td>1.436112e-02</td>\n",
       "      <td>1.348235e-02</td>\n",
       "      <td>1.782587e-02</td>\n",
       "    </tr>\n",
       "    <tr>\n",
       "      <th>max</th>\n",
       "      <td>0.317987</td>\n",
       "      <td>2.425872e-01</td>\n",
       "      <td>3.298316e-01</td>\n",
       "      <td>1.857484e-01</td>\n",
       "      <td>3.089461e-01</td>\n",
       "      <td>1.050431e-01</td>\n",
       "      <td>3.650229e-01</td>\n",
       "      <td>2.703459e-01</td>\n",
       "      <td>3.605632e-01</td>\n",
       "      <td>2.193655e-01</td>\n",
       "    </tr>\n",
       "  </tbody>\n",
       "</table>\n",
       "</div>"
      ],
      "text/plain": [
       "               LV1           LV2           LV3           LV4           LV5  \\\n",
       "count  3749.000000  3.749000e+03  3.749000e+03  3.749000e+03  3.749000e+03   \n",
       "mean      0.000000 -7.818055e-18  3.790572e-18 -8.884153e-19  9.476430e-19   \n",
       "std       0.033327  2.860283e-02  3.791407e-02  3.044476e-02  3.008916e-02   \n",
       "min      -0.182950 -9.410261e-02 -8.970296e-02 -2.330088e-01 -8.127525e-02   \n",
       "25%      -0.020045 -1.854991e-02 -2.237111e-02 -1.877114e-02 -1.979890e-02   \n",
       "50%      -0.002603 -1.359580e-03 -5.313336e-03 -2.637242e-04 -2.225820e-03   \n",
       "75%       0.016455  1.670710e-02  1.344975e-02  1.793625e-02  1.509677e-02   \n",
       "max       0.317987  2.425872e-01  3.298316e-01  1.857484e-01  3.089461e-01   \n",
       "\n",
       "                LV6           LV7           LV8           LV9          LV10  \n",
       "count  3.749000e+03  3.749000e+03  3.749000e+03  3.749000e+03  3.749000e+03  \n",
       "mean  -1.273395e-18 -2.132197e-18 -8.291876e-19  4.619760e-18  3.553661e-18  \n",
       "std    2.615014e-02  3.737188e-02  3.153450e-02  3.179361e-02  2.975571e-02  \n",
       "min   -2.021169e-01 -8.845736e-02 -8.158941e-02 -8.224399e-02 -1.225250e-01  \n",
       "25%   -1.670325e-02 -2.203061e-02 -1.942657e-02 -1.838957e-02 -1.980324e-02  \n",
       "50%   -1.166629e-04 -4.656835e-03 -3.405316e-03 -3.455237e-03 -1.833973e-03  \n",
       "75%    1.648301e-02  1.536048e-02  1.436112e-02  1.348235e-02  1.782587e-02  \n",
       "max    1.050431e-01  3.650229e-01  2.703459e-01  3.605632e-01  2.193655e-01  "
      ]
     },
     "metadata": {},
     "output_type": "display_data"
    }
   ],
   "source": [
    "data_stats = data.iloc[:, :10].describe()\n",
    "display(data_stats)"
   ]
  },
  {
   "cell_type": "code",
   "execution_count": 9,
   "metadata": {
    "execution": {
     "iopub.execute_input": "2021-01-12T05:38:04.685271Z",
     "iopub.status.busy": "2021-01-12T05:38:04.684906Z",
     "iopub.status.idle": "2021-01-12T05:38:04.784414Z",
     "shell.execute_reply": "2021-01-12T05:38:04.784760Z"
    },
    "papermill": {
     "duration": 0.112713,
     "end_time": "2021-01-12T05:38:04.784890",
     "exception": false,
     "start_time": "2021-01-12T05:38:04.672177",
     "status": "completed"
    },
    "tags": []
   },
   "outputs": [],
   "source": [
    "scaled_data = pd.DataFrame(\n",
    "    data=scale(data), index=data.index.copy(), columns=data.columns.copy()\n",
    ")"
   ]
  },
  {
   "cell_type": "code",
   "execution_count": 10,
   "metadata": {
    "execution": {
     "iopub.execute_input": "2021-01-12T05:38:04.810003Z",
     "iopub.status.busy": "2021-01-12T05:38:04.809610Z",
     "iopub.status.idle": "2021-01-12T05:38:04.819220Z",
     "shell.execute_reply": "2021-01-12T05:38:04.819518Z"
    },
    "papermill": {
     "duration": 0.022937,
     "end_time": "2021-01-12T05:38:04.819633",
     "exception": false,
     "start_time": "2021-01-12T05:38:04.796696",
     "status": "completed"
    },
    "tags": []
   },
   "outputs": [
    {
     "data": {
      "text/plain": [
       "(3749, 987)"
      ]
     },
     "metadata": {},
     "output_type": "display_data"
    }
   ],
   "source": [
    "display(scaled_data.shape)"
   ]
  },
  {
   "cell_type": "code",
   "execution_count": 11,
   "metadata": {
    "execution": {
     "iopub.execute_input": "2021-01-12T05:38:04.844516Z",
     "iopub.status.busy": "2021-01-12T05:38:04.844155Z",
     "iopub.status.idle": "2021-01-12T05:38:04.865107Z",
     "shell.execute_reply": "2021-01-12T05:38:04.865403Z"
    },
    "papermill": {
     "duration": 0.03459,
     "end_time": "2021-01-12T05:38:04.865509",
     "exception": false,
     "start_time": "2021-01-12T05:38:04.830919",
     "status": "completed"
    },
    "tags": []
   },
   "outputs": [
    {
     "data": {
      "text/html": [
       "<div>\n",
       "<style scoped>\n",
       "    .dataframe tbody tr th:only-of-type {\n",
       "        vertical-align: middle;\n",
       "    }\n",
       "\n",
       "    .dataframe tbody tr th {\n",
       "        vertical-align: top;\n",
       "    }\n",
       "\n",
       "    .dataframe thead th {\n",
       "        text-align: right;\n",
       "    }\n",
       "</style>\n",
       "<table border=\"1\" class=\"dataframe\">\n",
       "  <thead>\n",
       "    <tr style=\"text-align: right;\">\n",
       "      <th></th>\n",
       "      <th>LV1</th>\n",
       "      <th>LV2</th>\n",
       "      <th>LV3</th>\n",
       "      <th>LV4</th>\n",
       "      <th>LV5</th>\n",
       "      <th>LV6</th>\n",
       "      <th>LV7</th>\n",
       "      <th>LV8</th>\n",
       "      <th>LV9</th>\n",
       "      <th>LV10</th>\n",
       "      <th>...</th>\n",
       "      <th>LV978</th>\n",
       "      <th>LV979</th>\n",
       "      <th>LV980</th>\n",
       "      <th>LV981</th>\n",
       "      <th>LV982</th>\n",
       "      <th>LV983</th>\n",
       "      <th>LV984</th>\n",
       "      <th>LV985</th>\n",
       "      <th>LV986</th>\n",
       "      <th>LV987</th>\n",
       "    </tr>\n",
       "  </thead>\n",
       "  <tbody>\n",
       "    <tr>\n",
       "      <th>100001_raw-Food_weight</th>\n",
       "      <td>-0.553743</td>\n",
       "      <td>1.851060</td>\n",
       "      <td>-0.095721</td>\n",
       "      <td>0.931603</td>\n",
       "      <td>-0.515196</td>\n",
       "      <td>1.371264</td>\n",
       "      <td>-0.413165</td>\n",
       "      <td>0.729668</td>\n",
       "      <td>0.546338</td>\n",
       "      <td>0.901153</td>\n",
       "      <td>...</td>\n",
       "      <td>1.148776</td>\n",
       "      <td>1.649018</td>\n",
       "      <td>-1.375952</td>\n",
       "      <td>2.203063</td>\n",
       "      <td>0.810199</td>\n",
       "      <td>-0.987048</td>\n",
       "      <td>0.277710</td>\n",
       "      <td>-0.607613</td>\n",
       "      <td>0.572376</td>\n",
       "      <td>-0.660846</td>\n",
       "    </tr>\n",
       "    <tr>\n",
       "      <th>100002_raw-Energy</th>\n",
       "      <td>-1.313905</td>\n",
       "      <td>-0.421015</td>\n",
       "      <td>-0.310524</td>\n",
       "      <td>-0.201978</td>\n",
       "      <td>0.233028</td>\n",
       "      <td>0.693838</td>\n",
       "      <td>0.084129</td>\n",
       "      <td>0.572439</td>\n",
       "      <td>0.217866</td>\n",
       "      <td>1.296973</td>\n",
       "      <td>...</td>\n",
       "      <td>0.165430</td>\n",
       "      <td>0.799276</td>\n",
       "      <td>-0.361989</td>\n",
       "      <td>-0.008253</td>\n",
       "      <td>2.063780</td>\n",
       "      <td>-0.930765</td>\n",
       "      <td>-0.147007</td>\n",
       "      <td>1.601938</td>\n",
       "      <td>-0.273553</td>\n",
       "      <td>-0.560822</td>\n",
       "    </tr>\n",
       "    <tr>\n",
       "      <th>100003_raw-Protein</th>\n",
       "      <td>-0.645622</td>\n",
       "      <td>-0.997845</td>\n",
       "      <td>0.249039</td>\n",
       "      <td>0.256499</td>\n",
       "      <td>0.422357</td>\n",
       "      <td>0.829189</td>\n",
       "      <td>-0.169004</td>\n",
       "      <td>0.511550</td>\n",
       "      <td>0.002389</td>\n",
       "      <td>-0.057200</td>\n",
       "      <td>...</td>\n",
       "      <td>1.016791</td>\n",
       "      <td>1.019488</td>\n",
       "      <td>-2.148844</td>\n",
       "      <td>-0.065130</td>\n",
       "      <td>0.041052</td>\n",
       "      <td>-0.836118</td>\n",
       "      <td>-0.320571</td>\n",
       "      <td>1.325519</td>\n",
       "      <td>-0.341494</td>\n",
       "      <td>-0.495786</td>\n",
       "    </tr>\n",
       "    <tr>\n",
       "      <th>100004_raw-Fat</th>\n",
       "      <td>-0.913924</td>\n",
       "      <td>-1.837183</td>\n",
       "      <td>0.012095</td>\n",
       "      <td>-1.301315</td>\n",
       "      <td>0.205794</td>\n",
       "      <td>1.129114</td>\n",
       "      <td>0.019985</td>\n",
       "      <td>0.376660</td>\n",
       "      <td>-0.810272</td>\n",
       "      <td>0.843611</td>\n",
       "      <td>...</td>\n",
       "      <td>0.544266</td>\n",
       "      <td>0.576714</td>\n",
       "      <td>0.281731</td>\n",
       "      <td>-0.218963</td>\n",
       "      <td>1.258957</td>\n",
       "      <td>-1.131924</td>\n",
       "      <td>0.378545</td>\n",
       "      <td>0.842047</td>\n",
       "      <td>-0.622194</td>\n",
       "      <td>-0.160058</td>\n",
       "    </tr>\n",
       "    <tr>\n",
       "      <th>100005_raw-Carbohydrate</th>\n",
       "      <td>-0.523004</td>\n",
       "      <td>0.131379</td>\n",
       "      <td>-0.097802</td>\n",
       "      <td>-0.030526</td>\n",
       "      <td>-0.021500</td>\n",
       "      <td>-0.219116</td>\n",
       "      <td>0.668229</td>\n",
       "      <td>0.365700</td>\n",
       "      <td>1.102347</td>\n",
       "      <td>0.845625</td>\n",
       "      <td>...</td>\n",
       "      <td>-0.344740</td>\n",
       "      <td>0.079274</td>\n",
       "      <td>0.253427</td>\n",
       "      <td>0.236474</td>\n",
       "      <td>1.033895</td>\n",
       "      <td>-0.229105</td>\n",
       "      <td>0.364793</td>\n",
       "      <td>1.776714</td>\n",
       "      <td>0.190531</td>\n",
       "      <td>-1.459641</td>\n",
       "    </tr>\n",
       "  </tbody>\n",
       "</table>\n",
       "<p>5 rows × 987 columns</p>\n",
       "</div>"
      ],
      "text/plain": [
       "                              LV1       LV2       LV3       LV4       LV5  \\\n",
       "100001_raw-Food_weight  -0.553743  1.851060 -0.095721  0.931603 -0.515196   \n",
       "100002_raw-Energy       -1.313905 -0.421015 -0.310524 -0.201978  0.233028   \n",
       "100003_raw-Protein      -0.645622 -0.997845  0.249039  0.256499  0.422357   \n",
       "100004_raw-Fat          -0.913924 -1.837183  0.012095 -1.301315  0.205794   \n",
       "100005_raw-Carbohydrate -0.523004  0.131379 -0.097802 -0.030526 -0.021500   \n",
       "\n",
       "                              LV6       LV7       LV8       LV9      LV10  \\\n",
       "100001_raw-Food_weight   1.371264 -0.413165  0.729668  0.546338  0.901153   \n",
       "100002_raw-Energy        0.693838  0.084129  0.572439  0.217866  1.296973   \n",
       "100003_raw-Protein       0.829189 -0.169004  0.511550  0.002389 -0.057200   \n",
       "100004_raw-Fat           1.129114  0.019985  0.376660 -0.810272  0.843611   \n",
       "100005_raw-Carbohydrate -0.219116  0.668229  0.365700  1.102347  0.845625   \n",
       "\n",
       "                         ...     LV978     LV979     LV980     LV981  \\\n",
       "100001_raw-Food_weight   ...  1.148776  1.649018 -1.375952  2.203063   \n",
       "100002_raw-Energy        ...  0.165430  0.799276 -0.361989 -0.008253   \n",
       "100003_raw-Protein       ...  1.016791  1.019488 -2.148844 -0.065130   \n",
       "100004_raw-Fat           ...  0.544266  0.576714  0.281731 -0.218963   \n",
       "100005_raw-Carbohydrate  ... -0.344740  0.079274  0.253427  0.236474   \n",
       "\n",
       "                            LV982     LV983     LV984     LV985     LV986  \\\n",
       "100001_raw-Food_weight   0.810199 -0.987048  0.277710 -0.607613  0.572376   \n",
       "100002_raw-Energy        2.063780 -0.930765 -0.147007  1.601938 -0.273553   \n",
       "100003_raw-Protein       0.041052 -0.836118 -0.320571  1.325519 -0.341494   \n",
       "100004_raw-Fat           1.258957 -1.131924  0.378545  0.842047 -0.622194   \n",
       "100005_raw-Carbohydrate  1.033895 -0.229105  0.364793  1.776714  0.190531   \n",
       "\n",
       "                            LV987  \n",
       "100001_raw-Food_weight  -0.660846  \n",
       "100002_raw-Energy       -0.560822  \n",
       "100003_raw-Protein      -0.495786  \n",
       "100004_raw-Fat          -0.160058  \n",
       "100005_raw-Carbohydrate -1.459641  \n",
       "\n",
       "[5 rows x 987 columns]"
      ]
     },
     "metadata": {},
     "output_type": "display_data"
    }
   ],
   "source": [
    "display(scaled_data.head())"
   ]
  },
  {
   "cell_type": "code",
   "execution_count": 12,
   "metadata": {
    "execution": {
     "iopub.execute_input": "2021-01-12T05:38:04.889848Z",
     "iopub.status.busy": "2021-01-12T05:38:04.889481Z",
     "iopub.status.idle": "2021-01-12T05:38:04.923518Z",
     "shell.execute_reply": "2021-01-12T05:38:04.923149Z"
    },
    "papermill": {
     "duration": 0.047014,
     "end_time": "2021-01-12T05:38:04.923605",
     "exception": false,
     "start_time": "2021-01-12T05:38:04.876591",
     "status": "completed"
    },
    "tags": []
   },
   "outputs": [
    {
     "data": {
      "text/html": [
       "<div>\n",
       "<style scoped>\n",
       "    .dataframe tbody tr th:only-of-type {\n",
       "        vertical-align: middle;\n",
       "    }\n",
       "\n",
       "    .dataframe tbody tr th {\n",
       "        vertical-align: top;\n",
       "    }\n",
       "\n",
       "    .dataframe thead th {\n",
       "        text-align: right;\n",
       "    }\n",
       "</style>\n",
       "<table border=\"1\" class=\"dataframe\">\n",
       "  <thead>\n",
       "    <tr style=\"text-align: right;\">\n",
       "      <th></th>\n",
       "      <th>LV1</th>\n",
       "      <th>LV2</th>\n",
       "      <th>LV3</th>\n",
       "      <th>LV4</th>\n",
       "      <th>LV5</th>\n",
       "      <th>LV6</th>\n",
       "      <th>LV7</th>\n",
       "      <th>LV8</th>\n",
       "      <th>LV9</th>\n",
       "      <th>LV10</th>\n",
       "    </tr>\n",
       "  </thead>\n",
       "  <tbody>\n",
       "    <tr>\n",
       "      <th>count</th>\n",
       "      <td>3.749000e+03</td>\n",
       "      <td>3.749000e+03</td>\n",
       "      <td>3.749000e+03</td>\n",
       "      <td>3.749000e+03</td>\n",
       "      <td>3.749000e+03</td>\n",
       "      <td>3.749000e+03</td>\n",
       "      <td>3.749000e+03</td>\n",
       "      <td>3.749000e+03</td>\n",
       "      <td>3.749000e+03</td>\n",
       "      <td>3.749000e+03</td>\n",
       "    </tr>\n",
       "    <tr>\n",
       "      <th>mean</th>\n",
       "      <td>7.581144e-18</td>\n",
       "      <td>-7.581144e-18</td>\n",
       "      <td>7.581144e-18</td>\n",
       "      <td>-2.274343e-17</td>\n",
       "      <td>7.581144e-18</td>\n",
       "      <td>-2.274343e-17</td>\n",
       "      <td>7.581144e-18</td>\n",
       "      <td>-3.032458e-17</td>\n",
       "      <td>-7.581144e-18</td>\n",
       "      <td>-3.032458e-17</td>\n",
       "    </tr>\n",
       "    <tr>\n",
       "      <th>std</th>\n",
       "      <td>1.000133e+00</td>\n",
       "      <td>1.000133e+00</td>\n",
       "      <td>1.000133e+00</td>\n",
       "      <td>1.000133e+00</td>\n",
       "      <td>1.000133e+00</td>\n",
       "      <td>1.000133e+00</td>\n",
       "      <td>1.000133e+00</td>\n",
       "      <td>1.000133e+00</td>\n",
       "      <td>1.000133e+00</td>\n",
       "      <td>1.000133e+00</td>\n",
       "    </tr>\n",
       "    <tr>\n",
       "      <th>min</th>\n",
       "      <td>-5.490319e+00</td>\n",
       "      <td>-3.290415e+00</td>\n",
       "      <td>-2.366270e+00</td>\n",
       "      <td>-7.654516e+00</td>\n",
       "      <td>-2.701507e+00</td>\n",
       "      <td>-7.730123e+00</td>\n",
       "      <td>-2.367266e+00</td>\n",
       "      <td>-2.587652e+00</td>\n",
       "      <td>-2.587154e+00</td>\n",
       "      <td>-4.118246e+00</td>\n",
       "    </tr>\n",
       "    <tr>\n",
       "      <th>25%</th>\n",
       "      <td>-6.015400e-01</td>\n",
       "      <td>-6.486207e-01</td>\n",
       "      <td>-5.901263e-01</td>\n",
       "      <td>-6.166463e-01</td>\n",
       "      <td>-6.580954e-01</td>\n",
       "      <td>-6.388294e-01</td>\n",
       "      <td>-5.895756e-01</td>\n",
       "      <td>-6.161241e-01</td>\n",
       "      <td>-5.784817e-01</td>\n",
       "      <td>-6.656160e-01</td>\n",
       "    </tr>\n",
       "    <tr>\n",
       "      <th>50%</th>\n",
       "      <td>-7.812280e-02</td>\n",
       "      <td>-4.753941e-02</td>\n",
       "      <td>-1.401602e-01</td>\n",
       "      <td>-8.663541e-03</td>\n",
       "      <td>-7.398399e-02</td>\n",
       "      <td>-4.461865e-03</td>\n",
       "      <td>-1.246246e-01</td>\n",
       "      <td>-1.080014e-01</td>\n",
       "      <td>-1.086916e-01</td>\n",
       "      <td>-6.164252e-02</td>\n",
       "    </tr>\n",
       "    <tr>\n",
       "      <th>75%</th>\n",
       "      <td>4.938200e-01</td>\n",
       "      <td>5.841844e-01</td>\n",
       "      <td>3.547903e-01</td>\n",
       "      <td>5.892194e-01</td>\n",
       "      <td>5.018014e-01</td>\n",
       "      <td>6.304060e-01</td>\n",
       "      <td>4.110718e-01</td>\n",
       "      <td>4.554706e-01</td>\n",
       "      <td>4.241150e-01</td>\n",
       "      <td>5.991536e-01</td>\n",
       "    </tr>\n",
       "    <tr>\n",
       "      <th>max</th>\n",
       "      <td>9.542784e+00</td>\n",
       "      <td>8.482362e+00</td>\n",
       "      <td>8.700611e+00</td>\n",
       "      <td>6.101977e+00</td>\n",
       "      <td>1.026906e+01</td>\n",
       "      <td>4.017459e+00</td>\n",
       "      <td>9.768617e+00</td>\n",
       "      <td>8.574164e+00</td>\n",
       "      <td>1.134226e+01</td>\n",
       "      <td>7.373197e+00</td>\n",
       "    </tr>\n",
       "  </tbody>\n",
       "</table>\n",
       "</div>"
      ],
      "text/plain": [
       "                LV1           LV2           LV3           LV4           LV5  \\\n",
       "count  3.749000e+03  3.749000e+03  3.749000e+03  3.749000e+03  3.749000e+03   \n",
       "mean   7.581144e-18 -7.581144e-18  7.581144e-18 -2.274343e-17  7.581144e-18   \n",
       "std    1.000133e+00  1.000133e+00  1.000133e+00  1.000133e+00  1.000133e+00   \n",
       "min   -5.490319e+00 -3.290415e+00 -2.366270e+00 -7.654516e+00 -2.701507e+00   \n",
       "25%   -6.015400e-01 -6.486207e-01 -5.901263e-01 -6.166463e-01 -6.580954e-01   \n",
       "50%   -7.812280e-02 -4.753941e-02 -1.401602e-01 -8.663541e-03 -7.398399e-02   \n",
       "75%    4.938200e-01  5.841844e-01  3.547903e-01  5.892194e-01  5.018014e-01   \n",
       "max    9.542784e+00  8.482362e+00  8.700611e+00  6.101977e+00  1.026906e+01   \n",
       "\n",
       "                LV6           LV7           LV8           LV9          LV10  \n",
       "count  3.749000e+03  3.749000e+03  3.749000e+03  3.749000e+03  3.749000e+03  \n",
       "mean  -2.274343e-17  7.581144e-18 -3.032458e-17 -7.581144e-18 -3.032458e-17  \n",
       "std    1.000133e+00  1.000133e+00  1.000133e+00  1.000133e+00  1.000133e+00  \n",
       "min   -7.730123e+00 -2.367266e+00 -2.587652e+00 -2.587154e+00 -4.118246e+00  \n",
       "25%   -6.388294e-01 -5.895756e-01 -6.161241e-01 -5.784817e-01 -6.656160e-01  \n",
       "50%   -4.461865e-03 -1.246246e-01 -1.080014e-01 -1.086916e-01 -6.164252e-02  \n",
       "75%    6.304060e-01  4.110718e-01  4.554706e-01  4.241150e-01  5.991536e-01  \n",
       "max    4.017459e+00  9.768617e+00  8.574164e+00  1.134226e+01  7.373197e+00  "
      ]
     },
     "metadata": {},
     "output_type": "display_data"
    }
   ],
   "source": [
    "scaled_data_stats = scaled_data.iloc[:, :10].describe()\n",
    "display(scaled_data_stats)"
   ]
  },
  {
   "cell_type": "markdown",
   "metadata": {
    "papermill": {
     "duration": 0.011032,
     "end_time": "2021-01-12T05:38:04.945961",
     "exception": false,
     "start_time": "2021-01-12T05:38:04.934929",
     "status": "completed"
    },
    "tags": []
   },
   "source": [
    "## Testing"
   ]
  },
  {
   "cell_type": "code",
   "execution_count": 13,
   "metadata": {
    "execution": {
     "iopub.execute_input": "2021-01-12T05:38:04.970903Z",
     "iopub.status.busy": "2021-01-12T05:38:04.970537Z",
     "iopub.status.idle": "2021-01-12T05:38:04.980219Z",
     "shell.execute_reply": "2021-01-12T05:38:04.979909Z"
    },
    "papermill": {
     "duration": 0.023158,
     "end_time": "2021-01-12T05:38:04.980311",
     "exception": false,
     "start_time": "2021-01-12T05:38:04.957153",
     "status": "completed"
    },
    "tags": []
   },
   "outputs": [],
   "source": [
    "assert np.all(\n",
    "    [\n",
    "        np.isclose(scaled_data_stats.loc[\"mean\", c], 0.0)\n",
    "        for c in scaled_data_stats.columns\n",
    "    ]\n",
    ")"
   ]
  },
  {
   "cell_type": "code",
   "execution_count": 14,
   "metadata": {
    "execution": {
     "iopub.execute_input": "2021-01-12T05:38:05.005991Z",
     "iopub.status.busy": "2021-01-12T05:38:05.005615Z",
     "iopub.status.idle": "2021-01-12T05:38:05.014732Z",
     "shell.execute_reply": "2021-01-12T05:38:05.015037Z"
    },
    "papermill": {
     "duration": 0.023188,
     "end_time": "2021-01-12T05:38:05.015146",
     "exception": false,
     "start_time": "2021-01-12T05:38:04.991958",
     "status": "completed"
    },
    "tags": []
   },
   "outputs": [],
   "source": [
    "assert np.all(\n",
    "    [\n",
    "        np.isclose(scaled_data_stats.loc[\"std\", c], 1.0, atol=1e-03)\n",
    "        for c in scaled_data_stats.columns\n",
    "    ]\n",
    ")"
   ]
  },
  {
   "cell_type": "markdown",
   "metadata": {
    "papermill": {
     "duration": 0.011336,
     "end_time": "2021-01-12T05:38:05.038253",
     "exception": false,
     "start_time": "2021-01-12T05:38:05.026917",
     "status": "completed"
    },
    "tags": []
   },
   "source": [
    "# Save"
   ]
  },
  {
   "cell_type": "code",
   "execution_count": 15,
   "metadata": {
    "execution": {
     "iopub.execute_input": "2021-01-12T05:38:05.062931Z",
     "iopub.status.busy": "2021-01-12T05:38:05.062562Z",
     "iopub.status.idle": "2021-01-12T05:38:05.072790Z",
     "shell.execute_reply": "2021-01-12T05:38:05.072432Z"
    },
    "papermill": {
     "duration": 0.02353,
     "end_time": "2021-01-12T05:38:05.072880",
     "exception": false,
     "start_time": "2021-01-12T05:38:05.049350",
     "status": "completed"
    },
    "tags": []
   },
   "outputs": [
    {
     "data": {
      "text/plain": [
       "PosixPath('/home/miltondp/projects/labs/greenelab/phenoplier/base3/results/data_transformations/z_score_std/z_score_std-projection-smultixcan-efo_partial-mashr-zscores.pkl')"
      ]
     },
     "metadata": {},
     "output_type": "display_data"
    }
   ],
   "source": [
    "output_file = Path(\n",
    "    RESULTS_DIR,\n",
    "    f\"z_score_std-{input_filepath_stem}.pkl\",\n",
    ").resolve()\n",
    "\n",
    "display(output_file)"
   ]
  },
  {
   "cell_type": "code",
   "execution_count": 16,
   "metadata": {
    "execution": {
     "iopub.execute_input": "2021-01-12T05:38:05.101453Z",
     "iopub.status.busy": "2021-01-12T05:38:05.101031Z",
     "iopub.status.idle": "2021-01-12T05:38:05.142512Z",
     "shell.execute_reply": "2021-01-12T05:38:05.142838Z"
    },
    "papermill": {
     "duration": 0.05841,
     "end_time": "2021-01-12T05:38:05.142963",
     "exception": false,
     "start_time": "2021-01-12T05:38:05.084553",
     "status": "completed"
    },
    "tags": []
   },
   "outputs": [],
   "source": [
    "scaled_data.to_pickle(output_file)"
   ]
  },
  {
   "cell_type": "code",
   "execution_count": null,
   "metadata": {
    "papermill": {
     "duration": 0.012205,
     "end_time": "2021-01-12T05:38:05.168060",
     "exception": false,
     "start_time": "2021-01-12T05:38:05.155855",
     "status": "completed"
    },
    "tags": []
   },
   "outputs": [],
   "source": []
  }
 ],
 "metadata": {
  "jupytext": {
   "cell_metadata_filter": "all,-execution,-papermill",
   "formats": "ipynb,py//py:percent"
  },
  "kernelspec": {
   "display_name": "Python 3",
   "language": "python",
   "name": "python3"
  },
  "language_info": {
   "codemirror_mode": {
    "name": "ipython",
    "version": 3
   },
   "file_extension": ".py",
   "mimetype": "text/x-python",
   "name": "python",
   "nbconvert_exporter": "python",
   "pygments_lexer": "ipython3",
   "version": "3.8.6"
  },
  "papermill": {
   "default_parameters": {},
   "duration": 2.518862,
   "end_time": "2021-01-12T05:38:05.486076",
   "environment_variables": {},
   "exception": null,
   "input_path": "10_data_transformations/000_00-z_score_std-projection_smultixcan_efo.ipynb",
   "output_path": "10_data_transformations/000_00-z_score_std-projection_smultixcan_efo.run.ipynb",
   "parameters": {},
   "start_time": "2021-01-12T05:38:02.967214",
   "version": "2.2.2"
  },
  "toc-autonumbering": true,
  "toc-showcode": false,
  "toc-showmarkdowntxt": false,
  "toc-showtags": false
 },
 "nbformat": 4,
 "nbformat_minor": 4
}