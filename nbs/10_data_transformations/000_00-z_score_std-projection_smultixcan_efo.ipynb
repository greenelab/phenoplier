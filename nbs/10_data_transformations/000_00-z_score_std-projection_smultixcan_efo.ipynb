{
 "cells": [
  {
   "cell_type": "markdown",
   "metadata": {
    "papermill": {
     "duration": 0.032696,
     "end_time": "2020-11-24T17:19:45.635271",
     "exception": false,
     "start_time": "2020-11-24T17:19:45.602575",
     "status": "completed"
    },
    "tags": []
   },
   "source": [
    "# Description"
   ]
  },
  {
   "cell_type": "markdown",
   "metadata": {
    "papermill": {
     "duration": 0.009205,
     "end_time": "2020-11-24T17:19:45.659801",
     "exception": false,
     "start_time": "2020-11-24T17:19:45.650596",
     "status": "completed"
    },
    "tags": []
   },
   "source": [
    "It standardize (z-score) S-MultiXcan results projected into the MultiPLIER latent space."
   ]
  },
  {
   "cell_type": "markdown",
   "metadata": {
    "papermill": {
     "duration": 0.006669,
     "end_time": "2020-11-24T17:19:45.673936",
     "exception": false,
     "start_time": "2020-11-24T17:19:45.667267",
     "status": "completed"
    },
    "tags": []
   },
   "source": [
    "# Modules loading"
   ]
  },
  {
   "cell_type": "code",
   "execution_count": null,
   "metadata": {
    "papermill": {
     "duration": 0.017977,
     "end_time": "2020-11-24T17:19:45.699321",
     "exception": false,
     "start_time": "2020-11-24T17:19:45.681344",
     "status": "completed"
    },
    "tags": []
   },
   "outputs": [],
   "source": [
    "%load_ext autoreload\n",
    "%autoreload 2"
   ]
  },
  {
   "cell_type": "code",
   "execution_count": null,
   "metadata": {
    "papermill": {
     "duration": 0.456292,
     "end_time": "2020-11-24T17:19:46.163205",
     "exception": false,
     "start_time": "2020-11-24T17:19:45.706913",
     "status": "completed"
    },
    "tags": []
   },
   "outputs": [],
   "source": [
    "from pathlib import Path\n",
    "from IPython.display import display\n",
    "\n",
    "import numpy as np\n",
    "import pandas as pd\n",
    "from sklearn.preprocessing import scale\n",
    "\n",
    "import conf"
   ]
  },
  {
   "cell_type": "markdown",
   "metadata": {
    "papermill": {
     "duration": 0.007179,
     "end_time": "2020-11-24T17:19:46.178501",
     "exception": false,
     "start_time": "2020-11-24T17:19:46.171322",
     "status": "completed"
    },
    "tags": []
   },
   "source": [
    "# Settings"
   ]
  },
  {
   "cell_type": "markdown",
   "metadata": {},
   "source": [
    "## Input data"
   ]
  },
  {
   "cell_type": "code",
   "execution_count": null,
   "metadata": {
    "papermill": {
     "duration": 0.023895,
     "end_time": "2020-11-24T17:19:46.209576",
     "exception": false,
     "start_time": "2020-11-24T17:19:46.185681",
     "status": "completed"
    },
    "tags": []
   },
   "outputs": [],
   "source": [
    "INPUT_FILEPATH = Path(\n",
    "    conf.RESULTS['PROJECTIONS_DIR'],\n",
    "    'projection-smultixcan-efo_partial-mashr-zscores.pkl'\n",
    ").resolve()\n",
    "display(INPUT_FILEPATH)\n",
    "\n",
    "input_filepath_stem = INPUT_FILEPATH.stem\n",
    "display(input_filepath_stem)"
   ]
  },
  {
   "cell_type": "markdown",
   "metadata": {},
   "source": [
    "## Output folder"
   ]
  },
  {
   "cell_type": "code",
   "execution_count": null,
   "metadata": {
    "papermill": {
     "duration": 0.020185,
     "end_time": "2020-11-24T17:19:46.237746",
     "exception": false,
     "start_time": "2020-11-24T17:19:46.217561",
     "status": "completed"
    },
    "tags": []
   },
   "outputs": [],
   "source": [
    "# output dir for this notebook\n",
    "RESULTS_DIR = Path(\n",
    "    conf.RESULTS[\"DATA_TRANSFORMATIONS_DIR\"],\n",
    "    'z_score_std'\n",
    ").resolve()\n",
    "RESULTS_DIR.mkdir(parents=True, exist_ok=True)\n",
    "\n",
    "display(RESULTS_DIR)"
   ]
  },
  {
   "cell_type": "markdown",
   "metadata": {
    "papermill": {
     "duration": 0.007751,
     "end_time": "2020-11-24T17:19:46.253749",
     "exception": false,
     "start_time": "2020-11-24T17:19:46.245998",
     "status": "completed"
    },
    "tags": []
   },
   "source": [
    "# Load input file"
   ]
  },
  {
   "cell_type": "code",
   "execution_count": null,
   "metadata": {
    "papermill": {
     "duration": 0.032904,
     "end_time": "2020-11-24T17:19:46.294341",
     "exception": false,
     "start_time": "2020-11-24T17:19:46.261437",
     "status": "completed"
    },
    "tags": []
   },
   "outputs": [],
   "source": [
    "data = pd.read_pickle(INPUT_FILEPATH).T"
   ]
  },
  {
   "cell_type": "code",
   "execution_count": null,
   "metadata": {
    "papermill": {
     "duration": 0.020355,
     "end_time": "2020-11-24T17:19:46.323166",
     "exception": false,
     "start_time": "2020-11-24T17:19:46.302811",
     "status": "completed"
    },
    "tags": []
   },
   "outputs": [],
   "source": [
    "display(data.shape)"
   ]
  },
  {
   "cell_type": "code",
   "execution_count": null,
   "metadata": {
    "papermill": {
     "duration": 0.032557,
     "end_time": "2020-11-24T17:19:46.364440",
     "exception": false,
     "start_time": "2020-11-24T17:19:46.331883",
     "status": "completed"
    },
    "tags": []
   },
   "outputs": [],
   "source": [
    "display(data.head())"
   ]
  },
  {
   "cell_type": "markdown",
   "metadata": {
    "papermill": {
     "duration": 0.008458,
     "end_time": "2020-11-24T17:19:46.381772",
     "exception": false,
     "start_time": "2020-11-24T17:19:46.373314",
     "status": "completed"
    },
    "tags": []
   },
   "source": [
    "# z-score standardization"
   ]
  },
  {
   "cell_type": "code",
   "execution_count": null,
   "metadata": {
    "papermill": {
     "duration": 0.045426,
     "end_time": "2020-11-24T17:19:46.435682",
     "exception": false,
     "start_time": "2020-11-24T17:19:46.390256",
     "status": "completed"
    },
    "tags": []
   },
   "outputs": [],
   "source": [
    "data_stats = data.iloc[:, :10].describe()\n",
    "display(data_stats)"
   ]
  },
  {
   "cell_type": "code",
   "execution_count": null,
   "metadata": {
    "papermill": {
     "duration": 0.109919,
     "end_time": "2020-11-24T17:19:46.572515",
     "exception": false,
     "start_time": "2020-11-24T17:19:46.462596",
     "status": "completed"
    },
    "tags": []
   },
   "outputs": [],
   "source": [
    "scaled_data = pd.DataFrame(\n",
    "    data=scale(data),\n",
    "    index=data.index.copy(),\n",
    "    columns=data.columns.copy()\n",
    ")"
   ]
  },
  {
   "cell_type": "code",
   "execution_count": null,
   "metadata": {
    "papermill": {
     "duration": 0.021651,
     "end_time": "2020-11-24T17:19:46.604402",
     "exception": false,
     "start_time": "2020-11-24T17:19:46.582751",
     "status": "completed"
    },
    "tags": []
   },
   "outputs": [],
   "source": [
    "display(scaled_data.shape)"
   ]
  },
  {
   "cell_type": "code",
   "execution_count": null,
   "metadata": {
    "papermill": {
     "duration": 0.033612,
     "end_time": "2020-11-24T17:19:46.648037",
     "exception": false,
     "start_time": "2020-11-24T17:19:46.614425",
     "status": "completed"
    },
    "tags": []
   },
   "outputs": [],
   "source": [
    "display(scaled_data.head())"
   ]
  },
  {
   "cell_type": "code",
   "execution_count": null,
   "metadata": {
    "papermill": {
     "duration": 0.046552,
     "end_time": "2020-11-24T17:19:46.704417",
     "exception": false,
     "start_time": "2020-11-24T17:19:46.657865",
     "status": "completed"
    },
    "tags": []
   },
   "outputs": [],
   "source": [
    "scaled_data_stats = scaled_data.iloc[:,:10].describe()\n",
    "display(scaled_data_stats)"
   ]
  },
  {
   "cell_type": "markdown",
   "metadata": {
    "papermill": {
     "duration": 0.009976,
     "end_time": "2020-11-24T17:19:46.724825",
     "exception": false,
     "start_time": "2020-11-24T17:19:46.714849",
     "status": "completed"
    },
    "tags": []
   },
   "source": [
    "## Testing"
   ]
  },
  {
   "cell_type": "code",
   "execution_count": null,
   "metadata": {
    "papermill": {
     "duration": 0.022239,
     "end_time": "2020-11-24T17:19:46.756935",
     "exception": false,
     "start_time": "2020-11-24T17:19:46.734696",
     "status": "completed"
    },
    "tags": []
   },
   "outputs": [],
   "source": [
    "assert np.all([np.isclose(scaled_data_stats.loc['mean', c], 0.0) for c in scaled_data_stats.columns])"
   ]
  },
  {
   "cell_type": "code",
   "execution_count": null,
   "metadata": {
    "papermill": {
     "duration": 0.022402,
     "end_time": "2020-11-24T17:19:46.789934",
     "exception": false,
     "start_time": "2020-11-24T17:19:46.767532",
     "status": "completed"
    },
    "tags": []
   },
   "outputs": [],
   "source": [
    "assert np.all([np.isclose(scaled_data_stats.loc['std', c], 1.0, atol=1e-03) for c in scaled_data_stats.columns])"
   ]
  },
  {
   "cell_type": "markdown",
   "metadata": {
    "papermill": {
     "duration": 0.010301,
     "end_time": "2020-11-24T17:19:46.810922",
     "exception": false,
     "start_time": "2020-11-24T17:19:46.800621",
     "status": "completed"
    },
    "tags": []
   },
   "source": [
    "# Save"
   ]
  },
  {
   "cell_type": "code",
   "execution_count": null,
   "metadata": {
    "papermill": {
     "duration": 0.021928,
     "end_time": "2020-11-24T17:19:46.842950",
     "exception": false,
     "start_time": "2020-11-24T17:19:46.821022",
     "status": "completed"
    },
    "tags": []
   },
   "outputs": [],
   "source": [
    "output_file = Path(\n",
    "    RESULTS_DIR,\n",
    "    f'z_score_std-{input_filepath_stem}.pkl',\n",
    ").resolve()\n",
    "\n",
    "display(output_file)"
   ]
  },
  {
   "cell_type": "code",
   "execution_count": null,
   "metadata": {
    "papermill": {
     "duration": 0.050691,
     "end_time": "2020-11-24T17:19:46.904562",
     "exception": false,
     "start_time": "2020-11-24T17:19:46.853871",
     "status": "completed"
    },
    "tags": []
   },
   "outputs": [],
   "source": [
    "scaled_data.to_pickle(output_file)"
   ]
  },
  {
   "cell_type": "code",
   "execution_count": null,
   "metadata": {
    "papermill": {
     "duration": 0.010829,
     "end_time": "2020-11-24T17:19:46.926595",
     "exception": false,
     "start_time": "2020-11-24T17:19:46.915766",
     "status": "completed"
    },
    "tags": []
   },
   "outputs": [],
   "source": []
  }
 ],
 "metadata": {
  "kernelspec": {
   "display_name": "Python 3",
   "language": "python",
   "name": "python3"
  },
  "language_info": {
   "codemirror_mode": {
    "name": "ipython",
    "version": 3
   },
   "file_extension": ".py",
   "mimetype": "text/x-python",
   "name": "python",
   "nbconvert_exporter": "python",
   "pygments_lexer": "ipython3",
   "version": "3.8.6"
  },
  "papermill": {
   "default_parameters": {},
   "duration": 2.418756,
   "end_time": "2020-11-24T17:19:47.242355",
   "environment_variables": {},
   "exception": null,
   "input_path": "10_data_transformations/002_00-z_score_std-projection_smultixcan_efo.ipynb",
   "output_path": "10_data_transformations/002_00-z_score_std-projection_smultixcan_efo.run.ipynb",
   "parameters": {},
   "start_time": "2020-11-24T17:19:44.823599",
   "version": "2.2.2"
  },
  "toc-autonumbering": true,
  "toc-showcode": false,
  "toc-showmarkdowntxt": false,
  "toc-showtags": false
 },
 "nbformat": 4,
 "nbformat_minor": 4
}
