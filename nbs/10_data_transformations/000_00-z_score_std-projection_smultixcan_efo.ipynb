{
 "cells": [
  {
   "cell_type": "markdown",
   "metadata": {
    "papermill": {
     "duration": 0.011335,
     "end_time": "2021-03-08T19:23:39.254812",
     "exception": false,
     "start_time": "2021-03-08T19:23:39.243477",
     "status": "completed"
    },
    "tags": []
   },
   "source": [
    "# Description"
   ]
  },
  {
   "cell_type": "markdown",
   "metadata": {
    "papermill": {
     "duration": 0.007247,
     "end_time": "2021-03-08T19:23:39.269422",
     "exception": false,
     "start_time": "2021-03-08T19:23:39.262175",
     "status": "completed"
    },
    "tags": []
   },
   "source": [
    "It standardize (z-score) S-MultiXcan results projected into the MultiPLIER latent space."
   ]
  },
  {
   "cell_type": "markdown",
   "metadata": {
    "papermill": {
     "duration": 0.007314,
     "end_time": "2021-03-08T19:23:39.284128",
     "exception": false,
     "start_time": "2021-03-08T19:23:39.276814",
     "status": "completed"
    },
    "tags": []
   },
   "source": [
    "# Modules loading"
   ]
  },
  {
   "cell_type": "code",
   "execution_count": 1,
   "metadata": {
    "execution": {
     "iopub.execute_input": "2021-03-08T19:23:39.302545Z",
     "iopub.status.busy": "2021-03-08T19:23:39.302172Z",
     "iopub.status.idle": "2021-03-08T19:23:39.310442Z",
     "shell.execute_reply": "2021-03-08T19:23:39.310011Z"
    },
    "papermill": {
     "duration": 0.019024,
     "end_time": "2021-03-08T19:23:39.310564",
     "exception": false,
     "start_time": "2021-03-08T19:23:39.291540",
     "status": "completed"
    },
    "tags": []
   },
   "outputs": [],
   "source": [
    "%load_ext autoreload\n",
    "%autoreload 2"
   ]
  },
  {
   "cell_type": "code",
   "execution_count": 2,
   "metadata": {
    "execution": {
     "iopub.execute_input": "2021-03-08T19:23:39.329471Z",
     "iopub.status.busy": "2021-03-08T19:23:39.329102Z",
     "iopub.status.idle": "2021-03-08T19:23:39.773423Z",
     "shell.execute_reply": "2021-03-08T19:23:39.773042Z"
    },
    "papermill": {
     "duration": 0.454926,
     "end_time": "2021-03-08T19:23:39.773512",
     "exception": false,
     "start_time": "2021-03-08T19:23:39.318586",
     "status": "completed"
    },
    "tags": []
   },
   "outputs": [],
   "source": [
    "from pathlib import Path\n",
    "from IPython.display import display\n",
    "\n",
    "import numpy as np\n",
    "import pandas as pd\n",
    "from sklearn.preprocessing import scale\n",
    "\n",
    "import conf"
   ]
  },
  {
   "cell_type": "markdown",
   "metadata": {
    "papermill": {
     "duration": 0.007373,
     "end_time": "2021-03-08T19:23:39.788511",
     "exception": false,
     "start_time": "2021-03-08T19:23:39.781138",
     "status": "completed"
    },
    "tags": []
   },
   "source": [
    "# Settings"
   ]
  },
  {
   "cell_type": "code",
   "execution_count": 3,
   "metadata": {
    "execution": {
     "iopub.execute_input": "2021-03-08T19:23:39.806630Z",
     "iopub.status.busy": "2021-03-08T19:23:39.806265Z",
     "iopub.status.idle": "2021-03-08T19:23:39.815402Z",
     "shell.execute_reply": "2021-03-08T19:23:39.815102Z"
    },
    "papermill": {
     "duration": 0.019443,
     "end_time": "2021-03-08T19:23:39.815493",
     "exception": false,
     "start_time": "2021-03-08T19:23:39.796050",
     "status": "completed"
    },
    "tags": []
   },
   "outputs": [],
   "source": [
    "np.random.seed(0)"
   ]
  },
  {
   "cell_type": "markdown",
   "metadata": {
    "papermill": {
     "duration": 0.007497,
     "end_time": "2021-03-08T19:23:39.830842",
     "exception": false,
     "start_time": "2021-03-08T19:23:39.823345",
     "status": "completed"
    },
    "tags": []
   },
   "source": [
    "## Input data"
   ]
  },
  {
   "cell_type": "code",
   "execution_count": 4,
   "metadata": {
    "execution": {
     "iopub.execute_input": "2021-03-08T19:23:39.849008Z",
     "iopub.status.busy": "2021-03-08T19:23:39.848591Z",
     "iopub.status.idle": "2021-03-08T19:23:39.863049Z",
     "shell.execute_reply": "2021-03-08T19:23:39.862708Z"
    },
    "papermill": {
     "duration": 0.024614,
     "end_time": "2021-03-08T19:23:39.863140",
     "exception": false,
     "start_time": "2021-03-08T19:23:39.838526",
     "status": "completed"
    },
    "tags": []
   },
   "outputs": [
    {
     "data": {
      "text/plain": [
       "PosixPath('/home/miltondp/projects/labs/greenelab/phenoplier/base/results/projections/projection-smultixcan-efo_partial-mashr-zscores.pkl')"
      ]
     },
     "metadata": {},
     "output_type": "display_data"
    },
    {
     "data": {
      "text/plain": [
       "'projection-smultixcan-efo_partial-mashr-zscores'"
      ]
     },
     "metadata": {},
     "output_type": "display_data"
    }
   ],
   "source": [
    "INPUT_FILEPATH = Path(\n",
    "    conf.RESULTS[\"PROJECTIONS_DIR\"],\n",
    "    \"projection-smultixcan-efo_partial-mashr-zscores.pkl\",\n",
    ").resolve()\n",
    "display(INPUT_FILEPATH)\n",
    "\n",
    "input_filepath_stem = INPUT_FILEPATH.stem\n",
    "display(input_filepath_stem)"
   ]
  },
  {
   "cell_type": "markdown",
   "metadata": {
    "papermill": {
     "duration": 0.008101,
     "end_time": "2021-03-08T19:23:39.879773",
     "exception": false,
     "start_time": "2021-03-08T19:23:39.871672",
     "status": "completed"
    },
    "tags": []
   },
   "source": [
    "## Output folder"
   ]
  },
  {
   "cell_type": "code",
   "execution_count": 5,
   "metadata": {
    "execution": {
     "iopub.execute_input": "2021-03-08T19:23:39.898582Z",
     "iopub.status.busy": "2021-03-08T19:23:39.898190Z",
     "iopub.status.idle": "2021-03-08T19:23:39.908363Z",
     "shell.execute_reply": "2021-03-08T19:23:39.907986Z"
    },
    "papermill": {
     "duration": 0.020664,
     "end_time": "2021-03-08T19:23:39.908452",
     "exception": false,
     "start_time": "2021-03-08T19:23:39.887788",
     "status": "completed"
    },
    "tags": []
   },
   "outputs": [
    {
     "data": {
      "text/plain": [
       "PosixPath('/home/miltondp/projects/labs/greenelab/phenoplier/base/results/data_transformations/z_score_std')"
      ]
     },
     "metadata": {},
     "output_type": "display_data"
    }
   ],
   "source": [
    "# output dir for this notebook\n",
    "RESULTS_DIR = Path(conf.RESULTS[\"DATA_TRANSFORMATIONS_DIR\"], \"z_score_std\").resolve()\n",
    "RESULTS_DIR.mkdir(parents=True, exist_ok=True)\n",
    "\n",
    "display(RESULTS_DIR)"
   ]
  },
  {
   "cell_type": "markdown",
   "metadata": {
    "papermill": {
     "duration": 0.009195,
     "end_time": "2021-03-08T19:23:39.926517",
     "exception": false,
     "start_time": "2021-03-08T19:23:39.917322",
     "status": "completed"
    },
    "tags": []
   },
   "source": [
    "# Load input file"
   ]
  },
  {
   "cell_type": "code",
   "execution_count": 6,
   "metadata": {
    "execution": {
     "iopub.execute_input": "2021-03-08T19:23:39.947610Z",
     "iopub.status.busy": "2021-03-08T19:23:39.947238Z",
     "iopub.status.idle": "2021-03-08T19:23:39.972698Z",
     "shell.execute_reply": "2021-03-08T19:23:39.972313Z"
    },
    "papermill": {
     "duration": 0.036848,
     "end_time": "2021-03-08T19:23:39.972821",
     "exception": false,
     "start_time": "2021-03-08T19:23:39.935973",
     "status": "completed"
    },
    "tags": []
   },
   "outputs": [],
   "source": [
    "data = pd.read_pickle(INPUT_FILEPATH).T"
   ]
  },
  {
   "cell_type": "code",
   "execution_count": 7,
   "metadata": {
    "execution": {
     "iopub.execute_input": "2021-03-08T19:23:39.994586Z",
     "iopub.status.busy": "2021-03-08T19:23:39.994207Z",
     "iopub.status.idle": "2021-03-08T19:23:40.004677Z",
     "shell.execute_reply": "2021-03-08T19:23:40.004270Z"
    },
    "papermill": {
     "duration": 0.021784,
     "end_time": "2021-03-08T19:23:40.004777",
     "exception": false,
     "start_time": "2021-03-08T19:23:39.982993",
     "status": "completed"
    },
    "tags": []
   },
   "outputs": [
    {
     "data": {
      "text/plain": [
       "(3752, 987)"
      ]
     },
     "metadata": {},
     "output_type": "display_data"
    }
   ],
   "source": [
    "display(data.shape)"
   ]
  },
  {
   "cell_type": "code",
   "execution_count": 8,
   "metadata": {
    "execution": {
     "iopub.execute_input": "2021-03-08T19:23:40.027234Z",
     "iopub.status.busy": "2021-03-08T19:23:40.026830Z",
     "iopub.status.idle": "2021-03-08T19:23:40.051347Z",
     "shell.execute_reply": "2021-03-08T19:23:40.050940Z"
    },
    "papermill": {
     "duration": 0.036687,
     "end_time": "2021-03-08T19:23:40.051444",
     "exception": false,
     "start_time": "2021-03-08T19:23:40.014757",
     "status": "completed"
    },
    "tags": []
   },
   "outputs": [
    {
     "data": {
      "text/html": [
       "<div>\n",
       "<style scoped>\n",
       "    .dataframe tbody tr th:only-of-type {\n",
       "        vertical-align: middle;\n",
       "    }\n",
       "\n",
       "    .dataframe tbody tr th {\n",
       "        vertical-align: top;\n",
       "    }\n",
       "\n",
       "    .dataframe thead th {\n",
       "        text-align: right;\n",
       "    }\n",
       "</style>\n",
       "<table border=\"1\" class=\"dataframe\">\n",
       "  <thead>\n",
       "    <tr style=\"text-align: right;\">\n",
       "      <th></th>\n",
       "      <th>LV1</th>\n",
       "      <th>LV2</th>\n",
       "      <th>LV3</th>\n",
       "      <th>LV4</th>\n",
       "      <th>LV5</th>\n",
       "      <th>LV6</th>\n",
       "      <th>LV7</th>\n",
       "      <th>LV8</th>\n",
       "      <th>LV9</th>\n",
       "      <th>LV10</th>\n",
       "      <th>...</th>\n",
       "      <th>LV978</th>\n",
       "      <th>LV979</th>\n",
       "      <th>LV980</th>\n",
       "      <th>LV981</th>\n",
       "      <th>LV982</th>\n",
       "      <th>LV983</th>\n",
       "      <th>LV984</th>\n",
       "      <th>LV985</th>\n",
       "      <th>LV986</th>\n",
       "      <th>LV987</th>\n",
       "    </tr>\n",
       "  </thead>\n",
       "  <tbody>\n",
       "    <tr>\n",
       "      <th>100001_raw-Food_weight</th>\n",
       "      <td>-0.021292</td>\n",
       "      <td>0.056061</td>\n",
       "      <td>0.001650</td>\n",
       "      <td>0.026265</td>\n",
       "      <td>-0.015616</td>\n",
       "      <td>0.040333</td>\n",
       "      <td>-0.012050</td>\n",
       "      <td>0.027985</td>\n",
       "      <td>0.021028</td>\n",
       "      <td>0.027118</td>\n",
       "      <td>...</td>\n",
       "      <td>0.033575</td>\n",
       "      <td>0.051033</td>\n",
       "      <td>-0.038899</td>\n",
       "      <td>0.084371</td>\n",
       "      <td>0.027174</td>\n",
       "      <td>-0.032639</td>\n",
       "      <td>0.015128</td>\n",
       "      <td>-0.018430</td>\n",
       "      <td>0.016253</td>\n",
       "      <td>-0.021666</td>\n",
       "    </tr>\n",
       "    <tr>\n",
       "      <th>100002_raw-Energy</th>\n",
       "      <td>-0.046815</td>\n",
       "      <td>-0.009864</td>\n",
       "      <td>-0.004262</td>\n",
       "      <td>-0.007235</td>\n",
       "      <td>0.010799</td>\n",
       "      <td>0.021540</td>\n",
       "      <td>0.008009</td>\n",
       "      <td>0.025354</td>\n",
       "      <td>0.009816</td>\n",
       "      <td>0.041230</td>\n",
       "      <td>...</td>\n",
       "      <td>0.006675</td>\n",
       "      <td>0.022421</td>\n",
       "      <td>-0.014042</td>\n",
       "      <td>0.002723</td>\n",
       "      <td>0.066739</td>\n",
       "      <td>-0.031207</td>\n",
       "      <td>-0.001040</td>\n",
       "      <td>0.050533</td>\n",
       "      <td>-0.007979</td>\n",
       "      <td>-0.017742</td>\n",
       "    </tr>\n",
       "    <tr>\n",
       "      <th>100003_raw-Protein</th>\n",
       "      <td>-0.021585</td>\n",
       "      <td>-0.028888</td>\n",
       "      <td>0.019211</td>\n",
       "      <td>0.004304</td>\n",
       "      <td>0.017792</td>\n",
       "      <td>0.023804</td>\n",
       "      <td>-0.001246</td>\n",
       "      <td>0.023492</td>\n",
       "      <td>0.007045</td>\n",
       "      <td>-0.002453</td>\n",
       "      <td>...</td>\n",
       "      <td>0.029808</td>\n",
       "      <td>0.030413</td>\n",
       "      <td>-0.065487</td>\n",
       "      <td>0.000143</td>\n",
       "      <td>0.001568</td>\n",
       "      <td>-0.027622</td>\n",
       "      <td>-0.006422</td>\n",
       "      <td>0.040084</td>\n",
       "      <td>-0.008175</td>\n",
       "      <td>-0.014154</td>\n",
       "    </tr>\n",
       "    <tr>\n",
       "      <th>100004_raw-Fat</th>\n",
       "      <td>-0.030324</td>\n",
       "      <td>-0.053573</td>\n",
       "      <td>0.007484</td>\n",
       "      <td>-0.042464</td>\n",
       "      <td>0.010591</td>\n",
       "      <td>0.031777</td>\n",
       "      <td>0.007824</td>\n",
       "      <td>0.018422</td>\n",
       "      <td>-0.027632</td>\n",
       "      <td>0.028237</td>\n",
       "      <td>...</td>\n",
       "      <td>0.017412</td>\n",
       "      <td>0.018589</td>\n",
       "      <td>0.003284</td>\n",
       "      <td>-0.004189</td>\n",
       "      <td>0.040693</td>\n",
       "      <td>-0.036318</td>\n",
       "      <td>0.019393</td>\n",
       "      <td>0.029495</td>\n",
       "      <td>-0.015966</td>\n",
       "      <td>-0.002160</td>\n",
       "    </tr>\n",
       "    <tr>\n",
       "      <th>100005_raw-Carbohydrate</th>\n",
       "      <td>-0.017773</td>\n",
       "      <td>0.006951</td>\n",
       "      <td>0.004548</td>\n",
       "      <td>-0.001093</td>\n",
       "      <td>0.001972</td>\n",
       "      <td>-0.005518</td>\n",
       "      <td>0.033477</td>\n",
       "      <td>0.017333</td>\n",
       "      <td>0.040532</td>\n",
       "      <td>0.029409</td>\n",
       "      <td>...</td>\n",
       "      <td>-0.007403</td>\n",
       "      <td>-0.000781</td>\n",
       "      <td>0.006414</td>\n",
       "      <td>0.009671</td>\n",
       "      <td>0.034106</td>\n",
       "      <td>-0.008757</td>\n",
       "      <td>0.022819</td>\n",
       "      <td>0.055545</td>\n",
       "      <td>0.005864</td>\n",
       "      <td>-0.055875</td>\n",
       "    </tr>\n",
       "  </tbody>\n",
       "</table>\n",
       "<p>5 rows × 987 columns</p>\n",
       "</div>"
      ],
      "text/plain": [
       "                              LV1       LV2       LV3       LV4       LV5  \\\n",
       "100001_raw-Food_weight  -0.021292  0.056061  0.001650  0.026265 -0.015616   \n",
       "100002_raw-Energy       -0.046815 -0.009864 -0.004262 -0.007235  0.010799   \n",
       "100003_raw-Protein      -0.021585 -0.028888  0.019211  0.004304  0.017792   \n",
       "100004_raw-Fat          -0.030324 -0.053573  0.007484 -0.042464  0.010591   \n",
       "100005_raw-Carbohydrate -0.017773  0.006951  0.004548 -0.001093  0.001972   \n",
       "\n",
       "                              LV6       LV7       LV8       LV9      LV10  \\\n",
       "100001_raw-Food_weight   0.040333 -0.012050  0.027985  0.021028  0.027118   \n",
       "100002_raw-Energy        0.021540  0.008009  0.025354  0.009816  0.041230   \n",
       "100003_raw-Protein       0.023804 -0.001246  0.023492  0.007045 -0.002453   \n",
       "100004_raw-Fat           0.031777  0.007824  0.018422 -0.027632  0.028237   \n",
       "100005_raw-Carbohydrate -0.005518  0.033477  0.017333  0.040532  0.029409   \n",
       "\n",
       "                         ...     LV978     LV979     LV980     LV981  \\\n",
       "100001_raw-Food_weight   ...  0.033575  0.051033 -0.038899  0.084371   \n",
       "100002_raw-Energy        ...  0.006675  0.022421 -0.014042  0.002723   \n",
       "100003_raw-Protein       ...  0.029808  0.030413 -0.065487  0.000143   \n",
       "100004_raw-Fat           ...  0.017412  0.018589  0.003284 -0.004189   \n",
       "100005_raw-Carbohydrate  ... -0.007403 -0.000781  0.006414  0.009671   \n",
       "\n",
       "                            LV982     LV983     LV984     LV985     LV986  \\\n",
       "100001_raw-Food_weight   0.027174 -0.032639  0.015128 -0.018430  0.016253   \n",
       "100002_raw-Energy        0.066739 -0.031207 -0.001040  0.050533 -0.007979   \n",
       "100003_raw-Protein       0.001568 -0.027622 -0.006422  0.040084 -0.008175   \n",
       "100004_raw-Fat           0.040693 -0.036318  0.019393  0.029495 -0.015966   \n",
       "100005_raw-Carbohydrate  0.034106 -0.008757  0.022819  0.055545  0.005864   \n",
       "\n",
       "                            LV987  \n",
       "100001_raw-Food_weight  -0.021666  \n",
       "100002_raw-Energy       -0.017742  \n",
       "100003_raw-Protein      -0.014154  \n",
       "100004_raw-Fat          -0.002160  \n",
       "100005_raw-Carbohydrate -0.055875  \n",
       "\n",
       "[5 rows x 987 columns]"
      ]
     },
     "metadata": {},
     "output_type": "display_data"
    }
   ],
   "source": [
    "display(data.head())"
   ]
  },
  {
   "cell_type": "markdown",
   "metadata": {
    "papermill": {
     "duration": 0.010213,
     "end_time": "2021-03-08T19:23:40.072299",
     "exception": false,
     "start_time": "2021-03-08T19:23:40.062086",
     "status": "completed"
    },
    "tags": []
   },
   "source": [
    "# z-score standardization"
   ]
  },
  {
   "cell_type": "code",
   "execution_count": 9,
   "metadata": {
    "execution": {
     "iopub.execute_input": "2021-03-08T19:23:40.093314Z",
     "iopub.status.busy": "2021-03-08T19:23:40.092943Z",
     "iopub.status.idle": "2021-03-08T19:23:40.129067Z",
     "shell.execute_reply": "2021-03-08T19:23:40.128648Z"
    },
    "papermill": {
     "duration": 0.047693,
     "end_time": "2021-03-08T19:23:40.129155",
     "exception": false,
     "start_time": "2021-03-08T19:23:40.081462",
     "status": "completed"
    },
    "tags": []
   },
   "outputs": [
    {
     "data": {
      "text/html": [
       "<div>\n",
       "<style scoped>\n",
       "    .dataframe tbody tr th:only-of-type {\n",
       "        vertical-align: middle;\n",
       "    }\n",
       "\n",
       "    .dataframe tbody tr th {\n",
       "        vertical-align: top;\n",
       "    }\n",
       "\n",
       "    .dataframe thead th {\n",
       "        text-align: right;\n",
       "    }\n",
       "</style>\n",
       "<table border=\"1\" class=\"dataframe\">\n",
       "  <thead>\n",
       "    <tr style=\"text-align: right;\">\n",
       "      <th></th>\n",
       "      <th>LV1</th>\n",
       "      <th>LV2</th>\n",
       "      <th>LV3</th>\n",
       "      <th>LV4</th>\n",
       "      <th>LV5</th>\n",
       "      <th>LV6</th>\n",
       "      <th>LV7</th>\n",
       "      <th>LV8</th>\n",
       "      <th>LV9</th>\n",
       "      <th>LV10</th>\n",
       "    </tr>\n",
       "  </thead>\n",
       "  <tbody>\n",
       "    <tr>\n",
       "      <th>count</th>\n",
       "      <td>3.752000e+03</td>\n",
       "      <td>3.752000e+03</td>\n",
       "      <td>3.752000e+03</td>\n",
       "      <td>3.752000e+03</td>\n",
       "      <td>3.752000e+03</td>\n",
       "      <td>3.752000e+03</td>\n",
       "      <td>3.752000e+03</td>\n",
       "      <td>3.752000e+03</td>\n",
       "      <td>3.752000e+03</td>\n",
       "      <td>3.752000e+03</td>\n",
       "    </tr>\n",
       "    <tr>\n",
       "      <th>mean</th>\n",
       "      <td>-2.603935e-18</td>\n",
       "      <td>7.693443e-18</td>\n",
       "      <td>-3.846722e-19</td>\n",
       "      <td>-9.468853e-19</td>\n",
       "      <td>3.550820e-19</td>\n",
       "      <td>2.603935e-18</td>\n",
       "      <td>2.130492e-18</td>\n",
       "      <td>-3.077377e-18</td>\n",
       "      <td>-4.379345e-18</td>\n",
       "      <td>-1.982541e-18</td>\n",
       "    </tr>\n",
       "    <tr>\n",
       "      <th>std</th>\n",
       "      <td>3.063955e-02</td>\n",
       "      <td>2.856884e-02</td>\n",
       "      <td>2.861655e-02</td>\n",
       "      <td>2.989334e-02</td>\n",
       "      <td>2.892348e-02</td>\n",
       "      <td>2.723226e-02</td>\n",
       "      <td>3.040220e-02</td>\n",
       "      <td>2.567312e-02</td>\n",
       "      <td>2.770053e-02</td>\n",
       "      <td>2.911987e-02</td>\n",
       "    </tr>\n",
       "    <tr>\n",
       "      <th>min</th>\n",
       "      <td>-1.146518e-01</td>\n",
       "      <td>-1.072292e-01</td>\n",
       "      <td>-9.168592e-02</td>\n",
       "      <td>-1.452817e-01</td>\n",
       "      <td>-8.667826e-02</td>\n",
       "      <td>-1.060733e-01</td>\n",
       "      <td>-9.353592e-02</td>\n",
       "      <td>-9.165651e-02</td>\n",
       "      <td>-9.488038e-02</td>\n",
       "      <td>-9.749692e-02</td>\n",
       "    </tr>\n",
       "    <tr>\n",
       "      <th>25%</th>\n",
       "      <td>-1.986454e-02</td>\n",
       "      <td>-1.919182e-02</td>\n",
       "      <td>-1.899159e-02</td>\n",
       "      <td>-1.957128e-02</td>\n",
       "      <td>-1.969083e-02</td>\n",
       "      <td>-1.800094e-02</td>\n",
       "      <td>-2.064351e-02</td>\n",
       "      <td>-1.773037e-02</td>\n",
       "      <td>-1.833890e-02</td>\n",
       "      <td>-1.983394e-02</td>\n",
       "    </tr>\n",
       "    <tr>\n",
       "      <th>50%</th>\n",
       "      <td>-6.645821e-04</td>\n",
       "      <td>-1.334593e-04</td>\n",
       "      <td>-9.511898e-04</td>\n",
       "      <td>4.470145e-04</td>\n",
       "      <td>-8.506998e-04</td>\n",
       "      <td>-5.344013e-04</td>\n",
       "      <td>-8.926870e-04</td>\n",
       "      <td>-6.484810e-04</td>\n",
       "      <td>-1.445903e-03</td>\n",
       "      <td>-4.857271e-04</td>\n",
       "    </tr>\n",
       "    <tr>\n",
       "      <th>75%</th>\n",
       "      <td>1.917887e-02</td>\n",
       "      <td>1.823343e-02</td>\n",
       "      <td>1.815307e-02</td>\n",
       "      <td>1.962423e-02</td>\n",
       "      <td>1.728434e-02</td>\n",
       "      <td>1.804522e-02</td>\n",
       "      <td>1.889462e-02</td>\n",
       "      <td>1.715813e-02</td>\n",
       "      <td>1.649573e-02</td>\n",
       "      <td>1.884798e-02</td>\n",
       "    </tr>\n",
       "    <tr>\n",
       "      <th>max</th>\n",
       "      <td>2.157845e-01</td>\n",
       "      <td>1.309168e-01</td>\n",
       "      <td>1.280702e-01</td>\n",
       "      <td>1.004022e-01</td>\n",
       "      <td>1.592952e-01</td>\n",
       "      <td>1.157216e-01</td>\n",
       "      <td>1.802857e-01</td>\n",
       "      <td>9.777436e-02</td>\n",
       "      <td>1.913541e-01</td>\n",
       "      <td>1.211129e-01</td>\n",
       "    </tr>\n",
       "  </tbody>\n",
       "</table>\n",
       "</div>"
      ],
      "text/plain": [
       "                LV1           LV2           LV3           LV4           LV5  \\\n",
       "count  3.752000e+03  3.752000e+03  3.752000e+03  3.752000e+03  3.752000e+03   \n",
       "mean  -2.603935e-18  7.693443e-18 -3.846722e-19 -9.468853e-19  3.550820e-19   \n",
       "std    3.063955e-02  2.856884e-02  2.861655e-02  2.989334e-02  2.892348e-02   \n",
       "min   -1.146518e-01 -1.072292e-01 -9.168592e-02 -1.452817e-01 -8.667826e-02   \n",
       "25%   -1.986454e-02 -1.919182e-02 -1.899159e-02 -1.957128e-02 -1.969083e-02   \n",
       "50%   -6.645821e-04 -1.334593e-04 -9.511898e-04  4.470145e-04 -8.506998e-04   \n",
       "75%    1.917887e-02  1.823343e-02  1.815307e-02  1.962423e-02  1.728434e-02   \n",
       "max    2.157845e-01  1.309168e-01  1.280702e-01  1.004022e-01  1.592952e-01   \n",
       "\n",
       "                LV6           LV7           LV8           LV9          LV10  \n",
       "count  3.752000e+03  3.752000e+03  3.752000e+03  3.752000e+03  3.752000e+03  \n",
       "mean   2.603935e-18  2.130492e-18 -3.077377e-18 -4.379345e-18 -1.982541e-18  \n",
       "std    2.723226e-02  3.040220e-02  2.567312e-02  2.770053e-02  2.911987e-02  \n",
       "min   -1.060733e-01 -9.353592e-02 -9.165651e-02 -9.488038e-02 -9.749692e-02  \n",
       "25%   -1.800094e-02 -2.064351e-02 -1.773037e-02 -1.833890e-02 -1.983394e-02  \n",
       "50%   -5.344013e-04 -8.926870e-04 -6.484810e-04 -1.445903e-03 -4.857271e-04  \n",
       "75%    1.804522e-02  1.889462e-02  1.715813e-02  1.649573e-02  1.884798e-02  \n",
       "max    1.157216e-01  1.802857e-01  9.777436e-02  1.913541e-01  1.211129e-01  "
      ]
     },
     "metadata": {},
     "output_type": "display_data"
    }
   ],
   "source": [
    "data_stats = data.iloc[:, :10].describe()\n",
    "display(data_stats)"
   ]
  },
  {
   "cell_type": "code",
   "execution_count": 10,
   "metadata": {
    "execution": {
     "iopub.execute_input": "2021-03-08T19:23:40.151268Z",
     "iopub.status.busy": "2021-03-08T19:23:40.150907Z",
     "iopub.status.idle": "2021-03-08T19:23:40.247832Z",
     "shell.execute_reply": "2021-03-08T19:23:40.247419Z"
    },
    "papermill": {
     "duration": 0.108818,
     "end_time": "2021-03-08T19:23:40.247937",
     "exception": false,
     "start_time": "2021-03-08T19:23:40.139119",
     "status": "completed"
    },
    "tags": []
   },
   "outputs": [],
   "source": [
    "scaled_data = pd.DataFrame(\n",
    "    data=scale(data), index=data.index.copy(), columns=data.columns.copy()\n",
    ")"
   ]
  },
  {
   "cell_type": "code",
   "execution_count": 11,
   "metadata": {
    "execution": {
     "iopub.execute_input": "2021-03-08T19:23:40.272481Z",
     "iopub.status.busy": "2021-03-08T19:23:40.272087Z",
     "iopub.status.idle": "2021-03-08T19:23:40.281992Z",
     "shell.execute_reply": "2021-03-08T19:23:40.282305Z"
    },
    "papermill": {
     "duration": 0.022951,
     "end_time": "2021-03-08T19:23:40.282420",
     "exception": false,
     "start_time": "2021-03-08T19:23:40.259469",
     "status": "completed"
    },
    "tags": []
   },
   "outputs": [
    {
     "data": {
      "text/plain": [
       "(3752, 987)"
      ]
     },
     "metadata": {},
     "output_type": "display_data"
    }
   ],
   "source": [
    "display(scaled_data.shape)"
   ]
  },
  {
   "cell_type": "code",
   "execution_count": 12,
   "metadata": {
    "execution": {
     "iopub.execute_input": "2021-03-08T19:23:40.307036Z",
     "iopub.status.busy": "2021-03-08T19:23:40.306664Z",
     "iopub.status.idle": "2021-03-08T19:23:40.328158Z",
     "shell.execute_reply": "2021-03-08T19:23:40.327783Z"
    },
    "papermill": {
     "duration": 0.034673,
     "end_time": "2021-03-08T19:23:40.328248",
     "exception": false,
     "start_time": "2021-03-08T19:23:40.293575",
     "status": "completed"
    },
    "tags": []
   },
   "outputs": [
    {
     "data": {
      "text/html": [
       "<div>\n",
       "<style scoped>\n",
       "    .dataframe tbody tr th:only-of-type {\n",
       "        vertical-align: middle;\n",
       "    }\n",
       "\n",
       "    .dataframe tbody tr th {\n",
       "        vertical-align: top;\n",
       "    }\n",
       "\n",
       "    .dataframe thead th {\n",
       "        text-align: right;\n",
       "    }\n",
       "</style>\n",
       "<table border=\"1\" class=\"dataframe\">\n",
       "  <thead>\n",
       "    <tr style=\"text-align: right;\">\n",
       "      <th></th>\n",
       "      <th>LV1</th>\n",
       "      <th>LV2</th>\n",
       "      <th>LV3</th>\n",
       "      <th>LV4</th>\n",
       "      <th>LV5</th>\n",
       "      <th>LV6</th>\n",
       "      <th>LV7</th>\n",
       "      <th>LV8</th>\n",
       "      <th>LV9</th>\n",
       "      <th>LV10</th>\n",
       "      <th>...</th>\n",
       "      <th>LV978</th>\n",
       "      <th>LV979</th>\n",
       "      <th>LV980</th>\n",
       "      <th>LV981</th>\n",
       "      <th>LV982</th>\n",
       "      <th>LV983</th>\n",
       "      <th>LV984</th>\n",
       "      <th>LV985</th>\n",
       "      <th>LV986</th>\n",
       "      <th>LV987</th>\n",
       "    </tr>\n",
       "  </thead>\n",
       "  <tbody>\n",
       "    <tr>\n",
       "      <th>100001_raw-Food_weight</th>\n",
       "      <td>-0.695006</td>\n",
       "      <td>1.962565</td>\n",
       "      <td>0.057683</td>\n",
       "      <td>0.878731</td>\n",
       "      <td>-0.539977</td>\n",
       "      <td>1.481272</td>\n",
       "      <td>-0.396422</td>\n",
       "      <td>1.090180</td>\n",
       "      <td>0.759223</td>\n",
       "      <td>0.931395</td>\n",
       "      <td>...</td>\n",
       "      <td>1.129784</td>\n",
       "      <td>1.752343</td>\n",
       "      <td>-1.411403</td>\n",
       "      <td>2.823863</td>\n",
       "      <td>0.931116</td>\n",
       "      <td>-1.054519</td>\n",
       "      <td>0.432982</td>\n",
       "      <td>-0.633597</td>\n",
       "      <td>0.554279</td>\n",
       "      <td>-0.642479</td>\n",
       "    </tr>\n",
       "    <tr>\n",
       "      <th>100002_raw-Energy</th>\n",
       "      <td>-1.528127</td>\n",
       "      <td>-0.345309</td>\n",
       "      <td>-0.148953</td>\n",
       "      <td>-0.242060</td>\n",
       "      <td>0.373427</td>\n",
       "      <td>0.791092</td>\n",
       "      <td>0.263477</td>\n",
       "      <td>0.987702</td>\n",
       "      <td>0.354391</td>\n",
       "      <td>1.416059</td>\n",
       "      <td>...</td>\n",
       "      <td>0.224604</td>\n",
       "      <td>0.769882</td>\n",
       "      <td>-0.509482</td>\n",
       "      <td>0.091153</td>\n",
       "      <td>2.286789</td>\n",
       "      <td>-1.008256</td>\n",
       "      <td>-0.029764</td>\n",
       "      <td>1.737229</td>\n",
       "      <td>-0.272107</td>\n",
       "      <td>-0.526125</td>\n",
       "    </tr>\n",
       "    <tr>\n",
       "      <th>100003_raw-Protein</th>\n",
       "      <td>-0.704572</td>\n",
       "      <td>-1.011299</td>\n",
       "      <td>0.671420</td>\n",
       "      <td>0.143991</td>\n",
       "      <td>0.615212</td>\n",
       "      <td>0.874212</td>\n",
       "      <td>-0.040998</td>\n",
       "      <td>0.915170</td>\n",
       "      <td>0.254369</td>\n",
       "      <td>-0.084237</td>\n",
       "      <td>...</td>\n",
       "      <td>1.003019</td>\n",
       "      <td>1.044314</td>\n",
       "      <td>-2.376108</td>\n",
       "      <td>0.004778</td>\n",
       "      <td>0.053714</td>\n",
       "      <td>-0.892447</td>\n",
       "      <td>-0.183800</td>\n",
       "      <td>1.377991</td>\n",
       "      <td>-0.278794</td>\n",
       "      <td>-0.419733</td>\n",
       "    </tr>\n",
       "    <tr>\n",
       "      <th>100004_raw-Fat</th>\n",
       "      <td>-0.989832</td>\n",
       "      <td>-1.875490</td>\n",
       "      <td>0.261555</td>\n",
       "      <td>-1.420719</td>\n",
       "      <td>0.366238</td>\n",
       "      <td>1.167049</td>\n",
       "      <td>0.257387</td>\n",
       "      <td>0.717674</td>\n",
       "      <td>-0.997664</td>\n",
       "      <td>0.969825</td>\n",
       "      <td>...</td>\n",
       "      <td>0.585913</td>\n",
       "      <td>0.638314</td>\n",
       "      <td>0.119139</td>\n",
       "      <td>-0.140204</td>\n",
       "      <td>1.394326</td>\n",
       "      <td>-1.173402</td>\n",
       "      <td>0.555058</td>\n",
       "      <td>1.013982</td>\n",
       "      <td>-0.544506</td>\n",
       "      <td>-0.064061</td>\n",
       "    </tr>\n",
       "    <tr>\n",
       "      <th>100005_raw-Carbohydrate</th>\n",
       "      <td>-0.580143</td>\n",
       "      <td>0.243335</td>\n",
       "      <td>0.158966</td>\n",
       "      <td>-0.036558</td>\n",
       "      <td>0.068176</td>\n",
       "      <td>-0.202639</td>\n",
       "      <td>1.101281</td>\n",
       "      <td>0.675227</td>\n",
       "      <td>1.463432</td>\n",
       "      <td>1.010078</td>\n",
       "      <td>...</td>\n",
       "      <td>-0.249108</td>\n",
       "      <td>-0.026814</td>\n",
       "      <td>0.232713</td>\n",
       "      <td>0.323682</td>\n",
       "      <td>1.168642</td>\n",
       "      <td>-0.282935</td>\n",
       "      <td>0.653105</td>\n",
       "      <td>1.909526</td>\n",
       "      <td>0.199997</td>\n",
       "      <td>-1.656894</td>\n",
       "    </tr>\n",
       "  </tbody>\n",
       "</table>\n",
       "<p>5 rows × 987 columns</p>\n",
       "</div>"
      ],
      "text/plain": [
       "                              LV1       LV2       LV3       LV4       LV5  \\\n",
       "100001_raw-Food_weight  -0.695006  1.962565  0.057683  0.878731 -0.539977   \n",
       "100002_raw-Energy       -1.528127 -0.345309 -0.148953 -0.242060  0.373427   \n",
       "100003_raw-Protein      -0.704572 -1.011299  0.671420  0.143991  0.615212   \n",
       "100004_raw-Fat          -0.989832 -1.875490  0.261555 -1.420719  0.366238   \n",
       "100005_raw-Carbohydrate -0.580143  0.243335  0.158966 -0.036558  0.068176   \n",
       "\n",
       "                              LV6       LV7       LV8       LV9      LV10  \\\n",
       "100001_raw-Food_weight   1.481272 -0.396422  1.090180  0.759223  0.931395   \n",
       "100002_raw-Energy        0.791092  0.263477  0.987702  0.354391  1.416059   \n",
       "100003_raw-Protein       0.874212 -0.040998  0.915170  0.254369 -0.084237   \n",
       "100004_raw-Fat           1.167049  0.257387  0.717674 -0.997664  0.969825   \n",
       "100005_raw-Carbohydrate -0.202639  1.101281  0.675227  1.463432  1.010078   \n",
       "\n",
       "                         ...     LV978     LV979     LV980     LV981  \\\n",
       "100001_raw-Food_weight   ...  1.129784  1.752343 -1.411403  2.823863   \n",
       "100002_raw-Energy        ...  0.224604  0.769882 -0.509482  0.091153   \n",
       "100003_raw-Protein       ...  1.003019  1.044314 -2.376108  0.004778   \n",
       "100004_raw-Fat           ...  0.585913  0.638314  0.119139 -0.140204   \n",
       "100005_raw-Carbohydrate  ... -0.249108 -0.026814  0.232713  0.323682   \n",
       "\n",
       "                            LV982     LV983     LV984     LV985     LV986  \\\n",
       "100001_raw-Food_weight   0.931116 -1.054519  0.432982 -0.633597  0.554279   \n",
       "100002_raw-Energy        2.286789 -1.008256 -0.029764  1.737229 -0.272107   \n",
       "100003_raw-Protein       0.053714 -0.892447 -0.183800  1.377991 -0.278794   \n",
       "100004_raw-Fat           1.394326 -1.173402  0.555058  1.013982 -0.544506   \n",
       "100005_raw-Carbohydrate  1.168642 -0.282935  0.653105  1.909526  0.199997   \n",
       "\n",
       "                            LV987  \n",
       "100001_raw-Food_weight  -0.642479  \n",
       "100002_raw-Energy       -0.526125  \n",
       "100003_raw-Protein      -0.419733  \n",
       "100004_raw-Fat          -0.064061  \n",
       "100005_raw-Carbohydrate -1.656894  \n",
       "\n",
       "[5 rows x 987 columns]"
      ]
     },
     "metadata": {},
     "output_type": "display_data"
    }
   ],
   "source": [
    "display(scaled_data.head())"
   ]
  },
  {
   "cell_type": "code",
   "execution_count": 13,
   "metadata": {
    "execution": {
     "iopub.execute_input": "2021-03-08T19:23:40.352080Z",
     "iopub.status.busy": "2021-03-08T19:23:40.351721Z",
     "iopub.status.idle": "2021-03-08T19:23:40.386939Z",
     "shell.execute_reply": "2021-03-08T19:23:40.386562Z"
    },
    "papermill": {
     "duration": 0.04802,
     "end_time": "2021-03-08T19:23:40.387030",
     "exception": false,
     "start_time": "2021-03-08T19:23:40.339010",
     "status": "completed"
    },
    "tags": []
   },
   "outputs": [
    {
     "data": {
      "text/html": [
       "<div>\n",
       "<style scoped>\n",
       "    .dataframe tbody tr th:only-of-type {\n",
       "        vertical-align: middle;\n",
       "    }\n",
       "\n",
       "    .dataframe tbody tr th {\n",
       "        vertical-align: top;\n",
       "    }\n",
       "\n",
       "    .dataframe thead th {\n",
       "        text-align: right;\n",
       "    }\n",
       "</style>\n",
       "<table border=\"1\" class=\"dataframe\">\n",
       "  <thead>\n",
       "    <tr style=\"text-align: right;\">\n",
       "      <th></th>\n",
       "      <th>LV1</th>\n",
       "      <th>LV2</th>\n",
       "      <th>LV3</th>\n",
       "      <th>LV4</th>\n",
       "      <th>LV5</th>\n",
       "      <th>LV6</th>\n",
       "      <th>LV7</th>\n",
       "      <th>LV8</th>\n",
       "      <th>LV9</th>\n",
       "      <th>LV10</th>\n",
       "    </tr>\n",
       "  </thead>\n",
       "  <tbody>\n",
       "    <tr>\n",
       "      <th>count</th>\n",
       "      <td>3.752000e+03</td>\n",
       "      <td>3.752000e+03</td>\n",
       "      <td>3.752000e+03</td>\n",
       "      <td>3.752000e+03</td>\n",
       "      <td>3.752000e+03</td>\n",
       "      <td>3.752000e+03</td>\n",
       "      <td>3.752000e+03</td>\n",
       "      <td>3.752000e+03</td>\n",
       "      <td>3.752000e+03</td>\n",
       "      <td>3.752000e+03</td>\n",
       "    </tr>\n",
       "    <tr>\n",
       "      <th>mean</th>\n",
       "      <td>-7.575082e-18</td>\n",
       "      <td>1.325639e-17</td>\n",
       "      <td>-1.136262e-17</td>\n",
       "      <td>-7.575082e-18</td>\n",
       "      <td>9.468853e-18</td>\n",
       "      <td>1.136262e-17</td>\n",
       "      <td>1.515016e-17</td>\n",
       "      <td>-3.030033e-17</td>\n",
       "      <td>1.136262e-17</td>\n",
       "      <td>-1.136262e-17</td>\n",
       "    </tr>\n",
       "    <tr>\n",
       "      <th>std</th>\n",
       "      <td>1.000133e+00</td>\n",
       "      <td>1.000133e+00</td>\n",
       "      <td>1.000133e+00</td>\n",
       "      <td>1.000133e+00</td>\n",
       "      <td>1.000133e+00</td>\n",
       "      <td>1.000133e+00</td>\n",
       "      <td>1.000133e+00</td>\n",
       "      <td>1.000133e+00</td>\n",
       "      <td>1.000133e+00</td>\n",
       "      <td>1.000133e+00</td>\n",
       "    </tr>\n",
       "    <tr>\n",
       "      <th>min</th>\n",
       "      <td>-3.742454e+00</td>\n",
       "      <td>-3.753861e+00</td>\n",
       "      <td>-3.204374e+00</td>\n",
       "      <td>-4.860651e+00</td>\n",
       "      <td>-2.997212e+00</td>\n",
       "      <td>-3.895654e+00</td>\n",
       "      <td>-3.077027e+00</td>\n",
       "      <td>-3.570610e+00</td>\n",
       "      <td>-3.425675e+00</td>\n",
       "      <td>-3.348570e+00</td>\n",
       "    </tr>\n",
       "    <tr>\n",
       "      <th>25%</th>\n",
       "      <td>-6.484164e-01</td>\n",
       "      <td>-6.718640e-01</td>\n",
       "      <td>-6.637458e-01</td>\n",
       "      <td>-6.547908e-01</td>\n",
       "      <td>-6.808811e-01</td>\n",
       "      <td>-6.611033e-01</td>\n",
       "      <td>-6.791044e-01</td>\n",
       "      <td>-6.907119e-01</td>\n",
       "      <td>-6.621298e-01</td>\n",
       "      <td>-6.812042e-01</td>\n",
       "    </tr>\n",
       "    <tr>\n",
       "      <th>50%</th>\n",
       "      <td>-2.169323e-02</td>\n",
       "      <td>-4.672121e-03</td>\n",
       "      <td>-3.324358e-02</td>\n",
       "      <td>1.495564e-02</td>\n",
       "      <td>-2.941600e-02</td>\n",
       "      <td>-1.962645e-02</td>\n",
       "      <td>-2.936650e-02</td>\n",
       "      <td>-2.526251e-02</td>\n",
       "      <td>-5.220462e-02</td>\n",
       "      <td>-1.668249e-02</td>\n",
       "    </tr>\n",
       "    <tr>\n",
       "      <th>75%</th>\n",
       "      <td>6.260347e-01</td>\n",
       "      <td>6.383127e-01</td>\n",
       "      <td>6.344400e-01</td>\n",
       "      <td>6.565627e-01</td>\n",
       "      <td>5.976681e-01</td>\n",
       "      <td>6.627296e-01</td>\n",
       "      <td>6.215715e-01</td>\n",
       "      <td>6.684196e-01</td>\n",
       "      <td>5.955815e-01</td>\n",
       "      <td>6.473411e-01</td>\n",
       "    </tr>\n",
       "    <tr>\n",
       "      <th>max</th>\n",
       "      <td>7.043617e+00</td>\n",
       "      <td>4.583115e+00</td>\n",
       "      <td>4.475987e+00</td>\n",
       "      <td>3.359129e+00</td>\n",
       "      <td>5.508202e+00</td>\n",
       "      <td>4.249999e+00</td>\n",
       "      <td>5.930812e+00</td>\n",
       "      <td>3.808940e+00</td>\n",
       "      <td>6.908878e+00</td>\n",
       "      <td>4.159668e+00</td>\n",
       "    </tr>\n",
       "  </tbody>\n",
       "</table>\n",
       "</div>"
      ],
      "text/plain": [
       "                LV1           LV2           LV3           LV4           LV5  \\\n",
       "count  3.752000e+03  3.752000e+03  3.752000e+03  3.752000e+03  3.752000e+03   \n",
       "mean  -7.575082e-18  1.325639e-17 -1.136262e-17 -7.575082e-18  9.468853e-18   \n",
       "std    1.000133e+00  1.000133e+00  1.000133e+00  1.000133e+00  1.000133e+00   \n",
       "min   -3.742454e+00 -3.753861e+00 -3.204374e+00 -4.860651e+00 -2.997212e+00   \n",
       "25%   -6.484164e-01 -6.718640e-01 -6.637458e-01 -6.547908e-01 -6.808811e-01   \n",
       "50%   -2.169323e-02 -4.672121e-03 -3.324358e-02  1.495564e-02 -2.941600e-02   \n",
       "75%    6.260347e-01  6.383127e-01  6.344400e-01  6.565627e-01  5.976681e-01   \n",
       "max    7.043617e+00  4.583115e+00  4.475987e+00  3.359129e+00  5.508202e+00   \n",
       "\n",
       "                LV6           LV7           LV8           LV9          LV10  \n",
       "count  3.752000e+03  3.752000e+03  3.752000e+03  3.752000e+03  3.752000e+03  \n",
       "mean   1.136262e-17  1.515016e-17 -3.030033e-17  1.136262e-17 -1.136262e-17  \n",
       "std    1.000133e+00  1.000133e+00  1.000133e+00  1.000133e+00  1.000133e+00  \n",
       "min   -3.895654e+00 -3.077027e+00 -3.570610e+00 -3.425675e+00 -3.348570e+00  \n",
       "25%   -6.611033e-01 -6.791044e-01 -6.907119e-01 -6.621298e-01 -6.812042e-01  \n",
       "50%   -1.962645e-02 -2.936650e-02 -2.526251e-02 -5.220462e-02 -1.668249e-02  \n",
       "75%    6.627296e-01  6.215715e-01  6.684196e-01  5.955815e-01  6.473411e-01  \n",
       "max    4.249999e+00  5.930812e+00  3.808940e+00  6.908878e+00  4.159668e+00  "
      ]
     },
     "metadata": {},
     "output_type": "display_data"
    }
   ],
   "source": [
    "scaled_data_stats = scaled_data.iloc[:, :10].describe()\n",
    "display(scaled_data_stats)"
   ]
  },
  {
   "cell_type": "markdown",
   "metadata": {
    "papermill": {
     "duration": 0.01106,
     "end_time": "2021-03-08T19:23:40.409518",
     "exception": false,
     "start_time": "2021-03-08T19:23:40.398458",
     "status": "completed"
    },
    "tags": []
   },
   "source": [
    "## Testing"
   ]
  },
  {
   "cell_type": "code",
   "execution_count": 14,
   "metadata": {
    "execution": {
     "iopub.execute_input": "2021-03-08T19:23:40.434119Z",
     "iopub.status.busy": "2021-03-08T19:23:40.433759Z",
     "iopub.status.idle": "2021-03-08T19:23:40.443910Z",
     "shell.execute_reply": "2021-03-08T19:23:40.443531Z"
    },
    "papermill": {
     "duration": 0.023558,
     "end_time": "2021-03-08T19:23:40.443999",
     "exception": false,
     "start_time": "2021-03-08T19:23:40.420441",
     "status": "completed"
    },
    "tags": []
   },
   "outputs": [],
   "source": [
    "assert np.all(\n",
    "    [\n",
    "        np.isclose(scaled_data_stats.loc[\"mean\", c], 0.0)\n",
    "        for c in scaled_data_stats.columns\n",
    "    ]\n",
    ")"
   ]
  },
  {
   "cell_type": "code",
   "execution_count": 15,
   "metadata": {
    "execution": {
     "iopub.execute_input": "2021-03-08T19:23:40.469383Z",
     "iopub.status.busy": "2021-03-08T19:23:40.469006Z",
     "iopub.status.idle": "2021-03-08T19:23:40.478638Z",
     "shell.execute_reply": "2021-03-08T19:23:40.478271Z"
    },
    "papermill": {
     "duration": 0.023155,
     "end_time": "2021-03-08T19:23:40.478752",
     "exception": false,
     "start_time": "2021-03-08T19:23:40.455597",
     "status": "completed"
    },
    "tags": []
   },
   "outputs": [],
   "source": [
    "assert np.all(\n",
    "    [\n",
    "        np.isclose(scaled_data_stats.loc[\"std\", c], 1.0, atol=1e-03)\n",
    "        for c in scaled_data_stats.columns\n",
    "    ]\n",
    ")"
   ]
  },
  {
   "cell_type": "markdown",
   "metadata": {
    "papermill": {
     "duration": 0.011259,
     "end_time": "2021-03-08T19:23:40.501323",
     "exception": false,
     "start_time": "2021-03-08T19:23:40.490064",
     "status": "completed"
    },
    "tags": []
   },
   "source": [
    "# Save"
   ]
  },
  {
   "cell_type": "code",
   "execution_count": 16,
   "metadata": {
    "execution": {
     "iopub.execute_input": "2021-03-08T19:23:40.526387Z",
     "iopub.status.busy": "2021-03-08T19:23:40.526011Z",
     "iopub.status.idle": "2021-03-08T19:23:40.536020Z",
     "shell.execute_reply": "2021-03-08T19:23:40.536323Z"
    },
    "papermill": {
     "duration": 0.02396,
     "end_time": "2021-03-08T19:23:40.536429",
     "exception": false,
     "start_time": "2021-03-08T19:23:40.512469",
     "status": "completed"
    },
    "tags": []
   },
   "outputs": [
    {
     "data": {
      "text/plain": [
       "PosixPath('/home/miltondp/projects/labs/greenelab/phenoplier/base/results/data_transformations/z_score_std/z_score_std-projection-smultixcan-efo_partial-mashr-zscores.pkl')"
      ]
     },
     "metadata": {},
     "output_type": "display_data"
    }
   ],
   "source": [
    "output_file = Path(\n",
    "    RESULTS_DIR,\n",
    "    f\"z_score_std-{input_filepath_stem}.pkl\",\n",
    ").resolve()\n",
    "\n",
    "display(output_file)"
   ]
  },
  {
   "cell_type": "code",
   "execution_count": 17,
   "metadata": {
    "execution": {
     "iopub.execute_input": "2021-03-08T19:23:40.561606Z",
     "iopub.status.busy": "2021-03-08T19:23:40.561235Z",
     "iopub.status.idle": "2021-03-08T19:23:40.711320Z",
     "shell.execute_reply": "2021-03-08T19:23:40.709962Z"
    },
    "papermill": {
     "duration": 0.163728,
     "end_time": "2021-03-08T19:23:40.711669",
     "exception": false,
     "start_time": "2021-03-08T19:23:40.547941",
     "status": "completed"
    },
    "tags": []
   },
   "outputs": [],
   "source": [
    "scaled_data.to_pickle(output_file)"
   ]
  },
  {
   "cell_type": "code",
   "execution_count": null,
   "metadata": {
    "papermill": {
     "duration": 0.015692,
     "end_time": "2021-03-08T19:23:40.768808",
     "exception": false,
     "start_time": "2021-03-08T19:23:40.753116",
     "status": "completed"
    },
    "tags": []
   },
   "outputs": [],
   "source": []
  }
 ],
 "metadata": {
  "jupytext": {
   "cell_metadata_filter": "all,-execution,-papermill,-trusted",
   "formats": "ipynb,py//py:percent"
  },
  "kernelspec": {
   "display_name": "Python 3",
   "language": "python",
   "name": "python3"
  },
  "language_info": {
   "codemirror_mode": {
    "name": "ipython",
    "version": 3
   },
   "file_extension": ".py",
   "mimetype": "text/x-python",
   "name": "python",
   "nbconvert_exporter": "python",
   "pygments_lexer": "ipython3",
   "version": "3.8.6"
  },
  "papermill": {
   "default_parameters": {},
   "duration": 2.616142,
   "end_time": "2021-03-08T19:23:41.086273",
   "environment_variables": {},
   "exception": null,
   "input_path": "10_data_transformations/000_00-z_score_std-projection_smultixcan_efo.ipynb",
   "output_path": "10_data_transformations/000_00-z_score_std-projection_smultixcan_efo.run.ipynb",
   "parameters": {},
   "start_time": "2021-03-08T19:23:38.470131",
   "version": "2.2.2"
  },
  "toc-autonumbering": true,
  "toc-showcode": false,
  "toc-showmarkdowntxt": false,
  "toc-showtags": false
 },
 "nbformat": 4,
 "nbformat_minor": 4
}
