{
 "cells": [
  {
   "cell_type": "markdown",
   "metadata": {},
   "source": [
    "# Description"
   ]
  },
  {
   "cell_type": "markdown",
   "metadata": {},
   "source": [
    "It projects input data into a UMAP representation."
   ]
  },
  {
   "cell_type": "markdown",
   "metadata": {},
   "source": [
    "# Modules loading"
   ]
  },
  {
   "cell_type": "code",
   "execution_count": 1,
   "metadata": {},
   "outputs": [],
   "source": [
    "%load_ext autoreload\n",
    "%autoreload 2"
   ]
  },
  {
   "cell_type": "code",
   "execution_count": 2,
   "metadata": {},
   "outputs": [],
   "source": [
    "from pathlib import Path\n",
    "from IPython.display import display\n",
    "\n",
    "import pandas as pd\n",
    "import umap\n",
    "import matplotlib.pyplot as plt\n",
    "import seaborn as sns\n",
    "\n",
    "import conf\n",
    "from utils import generate_result_set_name"
   ]
  },
  {
   "cell_type": "markdown",
   "metadata": {},
   "source": [
    "# Settings"
   ]
  },
  {
   "cell_type": "code",
   "execution_count": 3,
   "metadata": {},
   "outputs": [],
   "source": [
    "INPUT_FILEPATH_STEM = 'diseases_only-smultixcan-efo_partial-mashr-zscores'"
   ]
  },
  {
   "cell_type": "code",
   "execution_count": 4,
   "metadata": {},
   "outputs": [
    {
     "data": {
      "text/plain": [
       "PosixPath('/media/miltondp/Elements1/projects/phenoplier/results/data_transformations/z_score_std/z_score_std-diseases_only-smultixcan-efo_partial-mashr-zscores.pkl')"
      ]
     },
     "metadata": {},
     "output_type": "display_data"
    },
    {
     "data": {
      "text/plain": [
       "'z_score_std-diseases_only-smultixcan-efo_partial-mashr-zscores'"
      ]
     },
     "metadata": {},
     "output_type": "display_data"
    }
   ],
   "source": [
    "INPUT_FILEPATH = Path(\n",
    "    conf.RESULTS[\"DATA_TRANSFORMATIONS_DIR\"],\n",
    "    'z_score_std',\n",
    "    f'z_score_std-{INPUT_FILEPATH_STEM}.pkl',\n",
    ").resolve()\n",
    "display(INPUT_FILEPATH)\n",
    "\n",
    "input_filepath_stem = INPUT_FILEPATH.stem\n",
    "display(input_filepath_stem)"
   ]
  },
  {
   "cell_type": "code",
   "execution_count": 5,
   "metadata": {},
   "outputs": [],
   "source": [
    "# number of components to use in the dimensionality reduction step\n",
    "DR_OPTIONS = {\n",
    "    'n_components': [5, 10, 20, 30, 40, 50],\n",
    "    'metric': 'euclidean',\n",
    "    'n_neighbors': 15,\n",
    "    'random_state': 0,\n",
    "}"
   ]
  },
  {
   "cell_type": "code",
   "execution_count": 6,
   "metadata": {},
   "outputs": [
    {
     "data": {
      "text/plain": [
       "PosixPath('/media/miltondp/Elements1/projects/phenoplier/results/data_transformations/umap')"
      ]
     },
     "metadata": {},
     "output_type": "display_data"
    }
   ],
   "source": [
    "# output dir for this notebook\n",
    "RESULTS_DIR = Path(\n",
    "    conf.RESULTS[\"DATA_TRANSFORMATIONS_DIR\"],\n",
    "    'umap'\n",
    ").resolve()\n",
    "RESULTS_DIR.mkdir(parents=True, exist_ok=True)\n",
    "\n",
    "display(RESULTS_DIR)"
   ]
  },
  {
   "cell_type": "code",
   "execution_count": 7,
   "metadata": {},
   "outputs": [
    {
     "data": {
      "text/plain": [
       "{'n_components': [5, 10, 20, 30, 40, 50],\n",
       " 'metric': 'euclidean',\n",
       " 'n_neighbors': 15,\n",
       " 'random_state': 0}"
      ]
     },
     "metadata": {},
     "output_type": "display_data"
    }
   ],
   "source": [
    "# dictionary containing all options/settings (used to generate filenames)\n",
    "ALL_OPTIONS = DR_OPTIONS.copy()\n",
    "# ALL_OPTIONS['proj_percentile'] = PERCENTILE_NAME\n",
    "\n",
    "display(ALL_OPTIONS)"
   ]
  },
  {
   "cell_type": "markdown",
   "metadata": {},
   "source": [
    "# Load input file"
   ]
  },
  {
   "cell_type": "code",
   "execution_count": 8,
   "metadata": {},
   "outputs": [],
   "source": [
    "data = pd.read_pickle(INPUT_FILEPATH)"
   ]
  },
  {
   "cell_type": "code",
   "execution_count": 9,
   "metadata": {},
   "outputs": [
    {
     "data": {
      "text/plain": [
       "(538, 6452)"
      ]
     },
     "execution_count": 9,
     "metadata": {},
     "output_type": "execute_result"
    }
   ],
   "source": [
    "data.shape"
   ]
  },
  {
   "cell_type": "code",
   "execution_count": 10,
   "metadata": {},
   "outputs": [
    {
     "data": {
      "text/html": [
       "<div>\n",
       "<style scoped>\n",
       "    .dataframe tbody tr th:only-of-type {\n",
       "        vertical-align: middle;\n",
       "    }\n",
       "\n",
       "    .dataframe tbody tr th {\n",
       "        vertical-align: top;\n",
       "    }\n",
       "\n",
       "    .dataframe thead th {\n",
       "        text-align: right;\n",
       "    }\n",
       "</style>\n",
       "<table border=\"1\" class=\"dataframe\">\n",
       "  <thead>\n",
       "    <tr style=\"text-align: right;\">\n",
       "      <th>gene_name</th>\n",
       "      <th>ENSG00000183087</th>\n",
       "      <th>ENSG00000157227</th>\n",
       "      <th>ENSG00000096696</th>\n",
       "      <th>ENSG00000175130</th>\n",
       "      <th>ENSG00000113140</th>\n",
       "      <th>ENSG00000117984</th>\n",
       "      <th>ENSG00000116016</th>\n",
       "      <th>ENSG00000129116</th>\n",
       "      <th>ENSG00000134686</th>\n",
       "      <th>ENSG00000108679</th>\n",
       "      <th>...</th>\n",
       "      <th>ENSG00000111716</th>\n",
       "      <th>ENSG00000166796</th>\n",
       "      <th>ENSG00000114331</th>\n",
       "      <th>ENSG00000131584</th>\n",
       "      <th>ENSG00000165410</th>\n",
       "      <th>ENSG00000172757</th>\n",
       "      <th>ENSG00000147862</th>\n",
       "      <th>ENSG00000008323</th>\n",
       "      <th>ENSG00000167083</th>\n",
       "      <th>ENSG00000149257</th>\n",
       "    </tr>\n",
       "  </thead>\n",
       "  <tbody>\n",
       "    <tr>\n",
       "      <th>vascular disease AND intestinal disease</th>\n",
       "      <td>0.847454</td>\n",
       "      <td>1.009161</td>\n",
       "      <td>-0.834057</td>\n",
       "      <td>-0.070589</td>\n",
       "      <td>-0.329654</td>\n",
       "      <td>1.339072</td>\n",
       "      <td>-1.317406</td>\n",
       "      <td>-0.153223</td>\n",
       "      <td>0.208080</td>\n",
       "      <td>1.305476</td>\n",
       "      <td>...</td>\n",
       "      <td>-0.862693</td>\n",
       "      <td>0.178475</td>\n",
       "      <td>-0.867851</td>\n",
       "      <td>-0.318883</td>\n",
       "      <td>0.023148</td>\n",
       "      <td>0.121395</td>\n",
       "      <td>0.106954</td>\n",
       "      <td>0.282147</td>\n",
       "      <td>-0.811827</td>\n",
       "      <td>0.413489</td>\n",
       "    </tr>\n",
       "    <tr>\n",
       "      <th>osteoarthritis, knee</th>\n",
       "      <td>-0.949368</td>\n",
       "      <td>2.236648</td>\n",
       "      <td>0.059025</td>\n",
       "      <td>0.312724</td>\n",
       "      <td>-1.303170</td>\n",
       "      <td>0.827997</td>\n",
       "      <td>2.295848</td>\n",
       "      <td>-0.118700</td>\n",
       "      <td>1.478273</td>\n",
       "      <td>-0.048731</td>\n",
       "      <td>...</td>\n",
       "      <td>-0.900876</td>\n",
       "      <td>1.239900</td>\n",
       "      <td>-0.357637</td>\n",
       "      <td>-0.510200</td>\n",
       "      <td>-0.233842</td>\n",
       "      <td>-0.130737</td>\n",
       "      <td>-0.066291</td>\n",
       "      <td>-0.470850</td>\n",
       "      <td>0.133876</td>\n",
       "      <td>0.992046</td>\n",
       "    </tr>\n",
       "    <tr>\n",
       "      <th>carpal tunnel syndrome</th>\n",
       "      <td>3.451503</td>\n",
       "      <td>0.179316</td>\n",
       "      <td>1.656231</td>\n",
       "      <td>-0.075898</td>\n",
       "      <td>0.546487</td>\n",
       "      <td>0.182674</td>\n",
       "      <td>0.303961</td>\n",
       "      <td>-0.571854</td>\n",
       "      <td>-0.822994</td>\n",
       "      <td>0.212698</td>\n",
       "      <td>...</td>\n",
       "      <td>1.314737</td>\n",
       "      <td>-0.700739</td>\n",
       "      <td>-0.570497</td>\n",
       "      <td>0.672079</td>\n",
       "      <td>-0.255689</td>\n",
       "      <td>0.473933</td>\n",
       "      <td>-0.319597</td>\n",
       "      <td>2.733735</td>\n",
       "      <td>1.247620</td>\n",
       "      <td>-0.433203</td>\n",
       "    </tr>\n",
       "    <tr>\n",
       "      <th>gastritis</th>\n",
       "      <td>-0.301861</td>\n",
       "      <td>0.026726</td>\n",
       "      <td>-1.095334</td>\n",
       "      <td>0.238529</td>\n",
       "      <td>-1.060668</td>\n",
       "      <td>-1.277446</td>\n",
       "      <td>1.096986</td>\n",
       "      <td>-0.490961</td>\n",
       "      <td>0.388828</td>\n",
       "      <td>2.672629</td>\n",
       "      <td>...</td>\n",
       "      <td>1.686590</td>\n",
       "      <td>-0.032626</td>\n",
       "      <td>-0.554427</td>\n",
       "      <td>0.406311</td>\n",
       "      <td>-0.725370</td>\n",
       "      <td>-0.700858</td>\n",
       "      <td>-0.669952</td>\n",
       "      <td>2.088057</td>\n",
       "      <td>-0.195165</td>\n",
       "      <td>1.154248</td>\n",
       "    </tr>\n",
       "    <tr>\n",
       "      <th>neoplasm</th>\n",
       "      <td>3.186200</td>\n",
       "      <td>-0.215859</td>\n",
       "      <td>-0.640350</td>\n",
       "      <td>0.748803</td>\n",
       "      <td>-1.183247</td>\n",
       "      <td>-0.773517</td>\n",
       "      <td>0.111114</td>\n",
       "      <td>-0.579060</td>\n",
       "      <td>-0.909444</td>\n",
       "      <td>-0.860679</td>\n",
       "      <td>...</td>\n",
       "      <td>0.849432</td>\n",
       "      <td>0.533190</td>\n",
       "      <td>0.851463</td>\n",
       "      <td>0.588349</td>\n",
       "      <td>-1.023563</td>\n",
       "      <td>0.226923</td>\n",
       "      <td>1.508859</td>\n",
       "      <td>0.368243</td>\n",
       "      <td>0.636630</td>\n",
       "      <td>0.131323</td>\n",
       "    </tr>\n",
       "  </tbody>\n",
       "</table>\n",
       "<p>5 rows × 6452 columns</p>\n",
       "</div>"
      ],
      "text/plain": [
       "gene_name                                ENSG00000183087  ENSG00000157227  \\\n",
       "vascular disease AND intestinal disease         0.847454         1.009161   \n",
       "osteoarthritis, knee                           -0.949368         2.236648   \n",
       "carpal tunnel syndrome                          3.451503         0.179316   \n",
       "gastritis                                      -0.301861         0.026726   \n",
       "neoplasm                                        3.186200        -0.215859   \n",
       "\n",
       "gene_name                                ENSG00000096696  ENSG00000175130  \\\n",
       "vascular disease AND intestinal disease        -0.834057        -0.070589   \n",
       "osteoarthritis, knee                            0.059025         0.312724   \n",
       "carpal tunnel syndrome                          1.656231        -0.075898   \n",
       "gastritis                                      -1.095334         0.238529   \n",
       "neoplasm                                       -0.640350         0.748803   \n",
       "\n",
       "gene_name                                ENSG00000113140  ENSG00000117984  \\\n",
       "vascular disease AND intestinal disease        -0.329654         1.339072   \n",
       "osteoarthritis, knee                           -1.303170         0.827997   \n",
       "carpal tunnel syndrome                          0.546487         0.182674   \n",
       "gastritis                                      -1.060668        -1.277446   \n",
       "neoplasm                                       -1.183247        -0.773517   \n",
       "\n",
       "gene_name                                ENSG00000116016  ENSG00000129116  \\\n",
       "vascular disease AND intestinal disease        -1.317406        -0.153223   \n",
       "osteoarthritis, knee                            2.295848        -0.118700   \n",
       "carpal tunnel syndrome                          0.303961        -0.571854   \n",
       "gastritis                                       1.096986        -0.490961   \n",
       "neoplasm                                        0.111114        -0.579060   \n",
       "\n",
       "gene_name                                ENSG00000134686  ENSG00000108679  \\\n",
       "vascular disease AND intestinal disease         0.208080         1.305476   \n",
       "osteoarthritis, knee                            1.478273        -0.048731   \n",
       "carpal tunnel syndrome                         -0.822994         0.212698   \n",
       "gastritis                                       0.388828         2.672629   \n",
       "neoplasm                                       -0.909444        -0.860679   \n",
       "\n",
       "gene_name                                ...  ENSG00000111716  \\\n",
       "vascular disease AND intestinal disease  ...        -0.862693   \n",
       "osteoarthritis, knee                     ...        -0.900876   \n",
       "carpal tunnel syndrome                   ...         1.314737   \n",
       "gastritis                                ...         1.686590   \n",
       "neoplasm                                 ...         0.849432   \n",
       "\n",
       "gene_name                                ENSG00000166796  ENSG00000114331  \\\n",
       "vascular disease AND intestinal disease         0.178475        -0.867851   \n",
       "osteoarthritis, knee                            1.239900        -0.357637   \n",
       "carpal tunnel syndrome                         -0.700739        -0.570497   \n",
       "gastritis                                      -0.032626        -0.554427   \n",
       "neoplasm                                        0.533190         0.851463   \n",
       "\n",
       "gene_name                                ENSG00000131584  ENSG00000165410  \\\n",
       "vascular disease AND intestinal disease        -0.318883         0.023148   \n",
       "osteoarthritis, knee                           -0.510200        -0.233842   \n",
       "carpal tunnel syndrome                          0.672079        -0.255689   \n",
       "gastritis                                       0.406311        -0.725370   \n",
       "neoplasm                                        0.588349        -1.023563   \n",
       "\n",
       "gene_name                                ENSG00000172757  ENSG00000147862  \\\n",
       "vascular disease AND intestinal disease         0.121395         0.106954   \n",
       "osteoarthritis, knee                           -0.130737        -0.066291   \n",
       "carpal tunnel syndrome                          0.473933        -0.319597   \n",
       "gastritis                                      -0.700858        -0.669952   \n",
       "neoplasm                                        0.226923         1.508859   \n",
       "\n",
       "gene_name                                ENSG00000008323  ENSG00000167083  \\\n",
       "vascular disease AND intestinal disease         0.282147        -0.811827   \n",
       "osteoarthritis, knee                           -0.470850         0.133876   \n",
       "carpal tunnel syndrome                          2.733735         1.247620   \n",
       "gastritis                                       2.088057        -0.195165   \n",
       "neoplasm                                        0.368243         0.636630   \n",
       "\n",
       "gene_name                                ENSG00000149257  \n",
       "vascular disease AND intestinal disease         0.413489  \n",
       "osteoarthritis, knee                            0.992046  \n",
       "carpal tunnel syndrome                         -0.433203  \n",
       "gastritis                                       1.154248  \n",
       "neoplasm                                        0.131323  \n",
       "\n",
       "[5 rows x 6452 columns]"
      ]
     },
     "execution_count": 10,
     "metadata": {},
     "output_type": "execute_result"
    }
   ],
   "source": [
    "data.head()"
   ]
  },
  {
   "cell_type": "markdown",
   "metadata": {},
   "source": [
    "# UMAP"
   ]
  },
  {
   "cell_type": "code",
   "execution_count": 11,
   "metadata": {},
   "outputs": [],
   "source": [
    "def get_umap_proj(orig_data, options):\n",
    "    umap_options = {k:v for k, v in options.items() if k in DR_OPTIONS}\n",
    "    display(f'UMAP options: {umap_options}')\n",
    "    umap_obj = umap.UMAP(**umap_options)\n",
    "    umap_obj = umap_obj.fit(orig_data)\n",
    "    umap_data = umap_obj.transform(orig_data)\n",
    "    return pd.DataFrame(\n",
    "        data=umap_data,\n",
    "        index=orig_data.index.copy(),\n",
    "        columns=[f'UMAP{i+1}' for i in range(umap_data.shape[1])]\n",
    "    )"
   ]
  },
  {
   "cell_type": "code",
   "execution_count": 12,
   "metadata": {},
   "outputs": [
    {
     "name": "stdout",
     "output_type": "stream",
     "text": [
      "# components: 5\n"
     ]
    },
    {
     "data": {
      "text/plain": [
       "\"UMAP options: {'n_components': 5, 'metric': 'euclidean', 'n_neighbors': 15, 'random_state': 0}\""
      ]
     },
     "metadata": {},
     "output_type": "display_data"
    },
    {
     "data": {
      "text/plain": [
       "(538, 5)"
      ]
     },
     "metadata": {},
     "output_type": "display_data"
    },
    {
     "data": {
      "text/html": [
       "<div>\n",
       "<style scoped>\n",
       "    .dataframe tbody tr th:only-of-type {\n",
       "        vertical-align: middle;\n",
       "    }\n",
       "\n",
       "    .dataframe tbody tr th {\n",
       "        vertical-align: top;\n",
       "    }\n",
       "\n",
       "    .dataframe thead th {\n",
       "        text-align: right;\n",
       "    }\n",
       "</style>\n",
       "<table border=\"1\" class=\"dataframe\">\n",
       "  <thead>\n",
       "    <tr style=\"text-align: right;\">\n",
       "      <th></th>\n",
       "      <th>UMAP1</th>\n",
       "      <th>UMAP2</th>\n",
       "      <th>UMAP3</th>\n",
       "      <th>UMAP4</th>\n",
       "      <th>UMAP5</th>\n",
       "    </tr>\n",
       "  </thead>\n",
       "  <tbody>\n",
       "    <tr>\n",
       "      <th>count</th>\n",
       "      <td>538.000000</td>\n",
       "      <td>538.000000</td>\n",
       "      <td>538.000000</td>\n",
       "      <td>538.000000</td>\n",
       "      <td>538.000000</td>\n",
       "    </tr>\n",
       "    <tr>\n",
       "      <th>mean</th>\n",
       "      <td>9.916106</td>\n",
       "      <td>6.716135</td>\n",
       "      <td>4.584635</td>\n",
       "      <td>8.255410</td>\n",
       "      <td>5.665169</td>\n",
       "    </tr>\n",
       "    <tr>\n",
       "      <th>std</th>\n",
       "      <td>2.427202</td>\n",
       "      <td>1.323215</td>\n",
       "      <td>0.595043</td>\n",
       "      <td>0.551621</td>\n",
       "      <td>1.298313</td>\n",
       "    </tr>\n",
       "    <tr>\n",
       "      <th>min</th>\n",
       "      <td>4.604455</td>\n",
       "      <td>4.508282</td>\n",
       "      <td>3.274413</td>\n",
       "      <td>7.229296</td>\n",
       "      <td>3.943371</td>\n",
       "    </tr>\n",
       "    <tr>\n",
       "      <th>25%</th>\n",
       "      <td>7.029998</td>\n",
       "      <td>5.744145</td>\n",
       "      <td>4.100205</td>\n",
       "      <td>7.738104</td>\n",
       "      <td>4.694282</td>\n",
       "    </tr>\n",
       "    <tr>\n",
       "      <th>50%</th>\n",
       "      <td>11.228889</td>\n",
       "      <td>6.157133</td>\n",
       "      <td>4.610241</td>\n",
       "      <td>8.288859</td>\n",
       "      <td>5.102781</td>\n",
       "    </tr>\n",
       "    <tr>\n",
       "      <th>75%</th>\n",
       "      <td>11.679579</td>\n",
       "      <td>8.278051</td>\n",
       "      <td>5.017382</td>\n",
       "      <td>8.714386</td>\n",
       "      <td>7.181852</td>\n",
       "    </tr>\n",
       "    <tr>\n",
       "      <th>max</th>\n",
       "      <td>12.785789</td>\n",
       "      <td>9.396283</td>\n",
       "      <td>6.110092</td>\n",
       "      <td>9.348644</td>\n",
       "      <td>8.177178</td>\n",
       "    </tr>\n",
       "  </tbody>\n",
       "</table>\n",
       "</div>"
      ],
      "text/plain": [
       "            UMAP1       UMAP2       UMAP3       UMAP4       UMAP5\n",
       "count  538.000000  538.000000  538.000000  538.000000  538.000000\n",
       "mean     9.916106    6.716135    4.584635    8.255410    5.665169\n",
       "std      2.427202    1.323215    0.595043    0.551621    1.298313\n",
       "min      4.604455    4.508282    3.274413    7.229296    3.943371\n",
       "25%      7.029998    5.744145    4.100205    7.738104    4.694282\n",
       "50%     11.228889    6.157133    4.610241    8.288859    5.102781\n",
       "75%     11.679579    8.278051    5.017382    8.714386    7.181852\n",
       "max     12.785789    9.396283    6.110092    9.348644    8.177178"
      ]
     },
     "metadata": {},
     "output_type": "display_data"
    },
    {
     "data": {
      "text/plain": [
       "PosixPath('/media/miltondp/Elements1/projects/phenoplier/results/data_transformations/umap/umap-z_score_std-diseases_only-smultixcan-efo_partial-mashr-zscores-metric_euclidean-n_components_5-n_neighbors_15-random_state_0.pkl')"
      ]
     },
     "metadata": {},
     "output_type": "display_data"
    },
    {
     "name": "stdout",
     "output_type": "stream",
     "text": [
      "\n",
      "\n",
      "# components: 10\n"
     ]
    },
    {
     "data": {
      "text/plain": [
       "\"UMAP options: {'n_components': 10, 'metric': 'euclidean', 'n_neighbors': 15, 'random_state': 0}\""
      ]
     },
     "metadata": {},
     "output_type": "display_data"
    },
    {
     "data": {
      "text/plain": [
       "(538, 10)"
      ]
     },
     "metadata": {},
     "output_type": "display_data"
    },
    {
     "data": {
      "text/html": [
       "<div>\n",
       "<style scoped>\n",
       "    .dataframe tbody tr th:only-of-type {\n",
       "        vertical-align: middle;\n",
       "    }\n",
       "\n",
       "    .dataframe tbody tr th {\n",
       "        vertical-align: top;\n",
       "    }\n",
       "\n",
       "    .dataframe thead th {\n",
       "        text-align: right;\n",
       "    }\n",
       "</style>\n",
       "<table border=\"1\" class=\"dataframe\">\n",
       "  <thead>\n",
       "    <tr style=\"text-align: right;\">\n",
       "      <th></th>\n",
       "      <th>UMAP1</th>\n",
       "      <th>UMAP2</th>\n",
       "      <th>UMAP3</th>\n",
       "      <th>UMAP4</th>\n",
       "      <th>UMAP5</th>\n",
       "    </tr>\n",
       "  </thead>\n",
       "  <tbody>\n",
       "    <tr>\n",
       "      <th>count</th>\n",
       "      <td>538.000000</td>\n",
       "      <td>538.000000</td>\n",
       "      <td>538.000000</td>\n",
       "      <td>538.000000</td>\n",
       "      <td>538.000000</td>\n",
       "    </tr>\n",
       "    <tr>\n",
       "      <th>mean</th>\n",
       "      <td>8.687437</td>\n",
       "      <td>6.587051</td>\n",
       "      <td>5.339416</td>\n",
       "      <td>7.245595</td>\n",
       "      <td>5.433805</td>\n",
       "    </tr>\n",
       "    <tr>\n",
       "      <th>std</th>\n",
       "      <td>2.269826</td>\n",
       "      <td>1.008781</td>\n",
       "      <td>0.418648</td>\n",
       "      <td>0.645754</td>\n",
       "      <td>0.274165</td>\n",
       "    </tr>\n",
       "    <tr>\n",
       "      <th>min</th>\n",
       "      <td>3.832593</td>\n",
       "      <td>5.071779</td>\n",
       "      <td>4.540671</td>\n",
       "      <td>6.146819</td>\n",
       "      <td>4.695827</td>\n",
       "    </tr>\n",
       "    <tr>\n",
       "      <th>25%</th>\n",
       "      <td>5.989369</td>\n",
       "      <td>5.859330</td>\n",
       "      <td>4.939342</td>\n",
       "      <td>6.754952</td>\n",
       "      <td>5.267026</td>\n",
       "    </tr>\n",
       "    <tr>\n",
       "      <th>50%</th>\n",
       "      <td>9.994508</td>\n",
       "      <td>6.175226</td>\n",
       "      <td>5.392513</td>\n",
       "      <td>7.042087</td>\n",
       "      <td>5.445654</td>\n",
       "    </tr>\n",
       "    <tr>\n",
       "      <th>75%</th>\n",
       "      <td>10.273606</td>\n",
       "      <td>7.599333</td>\n",
       "      <td>5.677885</td>\n",
       "      <td>7.777954</td>\n",
       "      <td>5.606027</td>\n",
       "    </tr>\n",
       "    <tr>\n",
       "      <th>max</th>\n",
       "      <td>10.886015</td>\n",
       "      <td>9.067617</td>\n",
       "      <td>6.194843</td>\n",
       "      <td>9.115561</td>\n",
       "      <td>6.259279</td>\n",
       "    </tr>\n",
       "  </tbody>\n",
       "</table>\n",
       "</div>"
      ],
      "text/plain": [
       "            UMAP1       UMAP2       UMAP3       UMAP4       UMAP5\n",
       "count  538.000000  538.000000  538.000000  538.000000  538.000000\n",
       "mean     8.687437    6.587051    5.339416    7.245595    5.433805\n",
       "std      2.269826    1.008781    0.418648    0.645754    0.274165\n",
       "min      3.832593    5.071779    4.540671    6.146819    4.695827\n",
       "25%      5.989369    5.859330    4.939342    6.754952    5.267026\n",
       "50%      9.994508    6.175226    5.392513    7.042087    5.445654\n",
       "75%     10.273606    7.599333    5.677885    7.777954    5.606027\n",
       "max     10.886015    9.067617    6.194843    9.115561    6.259279"
      ]
     },
     "metadata": {},
     "output_type": "display_data"
    },
    {
     "data": {
      "text/plain": [
       "PosixPath('/media/miltondp/Elements1/projects/phenoplier/results/data_transformations/umap/umap-z_score_std-diseases_only-smultixcan-efo_partial-mashr-zscores-metric_euclidean-n_components_10-n_neighbors_15-random_state_0.pkl')"
      ]
     },
     "metadata": {},
     "output_type": "display_data"
    },
    {
     "name": "stdout",
     "output_type": "stream",
     "text": [
      "\n",
      "\n",
      "# components: 20\n"
     ]
    },
    {
     "data": {
      "text/plain": [
       "\"UMAP options: {'n_components': 20, 'metric': 'euclidean', 'n_neighbors': 15, 'random_state': 0}\""
      ]
     },
     "metadata": {},
     "output_type": "display_data"
    },
    {
     "data": {
      "text/plain": [
       "(538, 20)"
      ]
     },
     "metadata": {},
     "output_type": "display_data"
    },
    {
     "data": {
      "text/html": [
       "<div>\n",
       "<style scoped>\n",
       "    .dataframe tbody tr th:only-of-type {\n",
       "        vertical-align: middle;\n",
       "    }\n",
       "\n",
       "    .dataframe tbody tr th {\n",
       "        vertical-align: top;\n",
       "    }\n",
       "\n",
       "    .dataframe thead th {\n",
       "        text-align: right;\n",
       "    }\n",
       "</style>\n",
       "<table border=\"1\" class=\"dataframe\">\n",
       "  <thead>\n",
       "    <tr style=\"text-align: right;\">\n",
       "      <th></th>\n",
       "      <th>UMAP1</th>\n",
       "      <th>UMAP2</th>\n",
       "      <th>UMAP3</th>\n",
       "      <th>UMAP4</th>\n",
       "      <th>UMAP5</th>\n",
       "    </tr>\n",
       "  </thead>\n",
       "  <tbody>\n",
       "    <tr>\n",
       "      <th>count</th>\n",
       "      <td>538.000000</td>\n",
       "      <td>538.000000</td>\n",
       "      <td>538.000000</td>\n",
       "      <td>538.000000</td>\n",
       "      <td>538.000000</td>\n",
       "    </tr>\n",
       "    <tr>\n",
       "      <th>mean</th>\n",
       "      <td>7.432445</td>\n",
       "      <td>2.752669</td>\n",
       "      <td>4.304295</td>\n",
       "      <td>8.772450</td>\n",
       "      <td>4.723540</td>\n",
       "    </tr>\n",
       "    <tr>\n",
       "      <th>std</th>\n",
       "      <td>1.966097</td>\n",
       "      <td>0.550718</td>\n",
       "      <td>0.379191</td>\n",
       "      <td>0.432511</td>\n",
       "      <td>0.381021</td>\n",
       "    </tr>\n",
       "    <tr>\n",
       "      <th>min</th>\n",
       "      <td>2.995693</td>\n",
       "      <td>1.649845</td>\n",
       "      <td>3.723641</td>\n",
       "      <td>7.980368</td>\n",
       "      <td>3.788003</td>\n",
       "    </tr>\n",
       "    <tr>\n",
       "      <th>25%</th>\n",
       "      <td>5.060245</td>\n",
       "      <td>2.114124</td>\n",
       "      <td>4.002829</td>\n",
       "      <td>8.447280</td>\n",
       "      <td>4.366280</td>\n",
       "    </tr>\n",
       "    <tr>\n",
       "      <th>50%</th>\n",
       "      <td>8.599894</td>\n",
       "      <td>2.994018</td>\n",
       "      <td>4.180148</td>\n",
       "      <td>8.624469</td>\n",
       "      <td>4.840492</td>\n",
       "    </tr>\n",
       "    <tr>\n",
       "      <th>75%</th>\n",
       "      <td>8.838341</td>\n",
       "      <td>3.176611</td>\n",
       "      <td>4.701052</td>\n",
       "      <td>9.253400</td>\n",
       "      <td>4.995247</td>\n",
       "    </tr>\n",
       "    <tr>\n",
       "      <th>max</th>\n",
       "      <td>9.128508</td>\n",
       "      <td>3.570746</td>\n",
       "      <td>5.110425</td>\n",
       "      <td>9.615664</td>\n",
       "      <td>5.348433</td>\n",
       "    </tr>\n",
       "  </tbody>\n",
       "</table>\n",
       "</div>"
      ],
      "text/plain": [
       "            UMAP1       UMAP2       UMAP3       UMAP4       UMAP5\n",
       "count  538.000000  538.000000  538.000000  538.000000  538.000000\n",
       "mean     7.432445    2.752669    4.304295    8.772450    4.723540\n",
       "std      1.966097    0.550718    0.379191    0.432511    0.381021\n",
       "min      2.995693    1.649845    3.723641    7.980368    3.788003\n",
       "25%      5.060245    2.114124    4.002829    8.447280    4.366280\n",
       "50%      8.599894    2.994018    4.180148    8.624469    4.840492\n",
       "75%      8.838341    3.176611    4.701052    9.253400    4.995247\n",
       "max      9.128508    3.570746    5.110425    9.615664    5.348433"
      ]
     },
     "metadata": {},
     "output_type": "display_data"
    },
    {
     "data": {
      "text/plain": [
       "PosixPath('/media/miltondp/Elements1/projects/phenoplier/results/data_transformations/umap/umap-z_score_std-diseases_only-smultixcan-efo_partial-mashr-zscores-metric_euclidean-n_components_20-n_neighbors_15-random_state_0.pkl')"
      ]
     },
     "metadata": {},
     "output_type": "display_data"
    },
    {
     "name": "stdout",
     "output_type": "stream",
     "text": [
      "\n",
      "\n",
      "# components: 30\n"
     ]
    },
    {
     "data": {
      "text/plain": [
       "\"UMAP options: {'n_components': 30, 'metric': 'euclidean', 'n_neighbors': 15, 'random_state': 0}\""
      ]
     },
     "metadata": {},
     "output_type": "display_data"
    },
    {
     "data": {
      "text/plain": [
       "(538, 30)"
      ]
     },
     "metadata": {},
     "output_type": "display_data"
    },
    {
     "data": {
      "text/html": [
       "<div>\n",
       "<style scoped>\n",
       "    .dataframe tbody tr th:only-of-type {\n",
       "        vertical-align: middle;\n",
       "    }\n",
       "\n",
       "    .dataframe tbody tr th {\n",
       "        vertical-align: top;\n",
       "    }\n",
       "\n",
       "    .dataframe thead th {\n",
       "        text-align: right;\n",
       "    }\n",
       "</style>\n",
       "<table border=\"1\" class=\"dataframe\">\n",
       "  <thead>\n",
       "    <tr style=\"text-align: right;\">\n",
       "      <th></th>\n",
       "      <th>UMAP1</th>\n",
       "      <th>UMAP2</th>\n",
       "      <th>UMAP3</th>\n",
       "      <th>UMAP4</th>\n",
       "      <th>UMAP5</th>\n",
       "    </tr>\n",
       "  </thead>\n",
       "  <tbody>\n",
       "    <tr>\n",
       "      <th>count</th>\n",
       "      <td>538.000000</td>\n",
       "      <td>538.000000</td>\n",
       "      <td>538.000000</td>\n",
       "      <td>538.000000</td>\n",
       "      <td>538.000000</td>\n",
       "    </tr>\n",
       "    <tr>\n",
       "      <th>mean</th>\n",
       "      <td>7.650585</td>\n",
       "      <td>2.487923</td>\n",
       "      <td>4.266134</td>\n",
       "      <td>7.959554</td>\n",
       "      <td>5.350358</td>\n",
       "    </tr>\n",
       "    <tr>\n",
       "      <th>std</th>\n",
       "      <td>1.633021</td>\n",
       "      <td>0.137136</td>\n",
       "      <td>0.161323</td>\n",
       "      <td>0.492473</td>\n",
       "      <td>0.348095</td>\n",
       "    </tr>\n",
       "    <tr>\n",
       "      <th>min</th>\n",
       "      <td>4.033622</td>\n",
       "      <td>2.006037</td>\n",
       "      <td>3.944194</td>\n",
       "      <td>7.184736</td>\n",
       "      <td>4.891445</td>\n",
       "    </tr>\n",
       "    <tr>\n",
       "      <th>25%</th>\n",
       "      <td>5.673139</td>\n",
       "      <td>2.399465</td>\n",
       "      <td>4.136380</td>\n",
       "      <td>7.591557</td>\n",
       "      <td>5.080006</td>\n",
       "    </tr>\n",
       "    <tr>\n",
       "      <th>50%</th>\n",
       "      <td>8.616965</td>\n",
       "      <td>2.504416</td>\n",
       "      <td>4.245038</td>\n",
       "      <td>7.794735</td>\n",
       "      <td>5.219180</td>\n",
       "    </tr>\n",
       "    <tr>\n",
       "      <th>75%</th>\n",
       "      <td>8.796295</td>\n",
       "      <td>2.582121</td>\n",
       "      <td>4.386580</td>\n",
       "      <td>8.464794</td>\n",
       "      <td>5.645280</td>\n",
       "    </tr>\n",
       "    <tr>\n",
       "      <th>max</th>\n",
       "      <td>9.206652</td>\n",
       "      <td>2.816615</td>\n",
       "      <td>4.755887</td>\n",
       "      <td>9.068613</td>\n",
       "      <td>6.346341</td>\n",
       "    </tr>\n",
       "  </tbody>\n",
       "</table>\n",
       "</div>"
      ],
      "text/plain": [
       "            UMAP1       UMAP2       UMAP3       UMAP4       UMAP5\n",
       "count  538.000000  538.000000  538.000000  538.000000  538.000000\n",
       "mean     7.650585    2.487923    4.266134    7.959554    5.350358\n",
       "std      1.633021    0.137136    0.161323    0.492473    0.348095\n",
       "min      4.033622    2.006037    3.944194    7.184736    4.891445\n",
       "25%      5.673139    2.399465    4.136380    7.591557    5.080006\n",
       "50%      8.616965    2.504416    4.245038    7.794735    5.219180\n",
       "75%      8.796295    2.582121    4.386580    8.464794    5.645280\n",
       "max      9.206652    2.816615    4.755887    9.068613    6.346341"
      ]
     },
     "metadata": {},
     "output_type": "display_data"
    },
    {
     "data": {
      "text/plain": [
       "PosixPath('/media/miltondp/Elements1/projects/phenoplier/results/data_transformations/umap/umap-z_score_std-diseases_only-smultixcan-efo_partial-mashr-zscores-metric_euclidean-n_components_30-n_neighbors_15-random_state_0.pkl')"
      ]
     },
     "metadata": {},
     "output_type": "display_data"
    },
    {
     "name": "stdout",
     "output_type": "stream",
     "text": [
      "\n",
      "\n",
      "# components: 40\n"
     ]
    },
    {
     "data": {
      "text/plain": [
       "\"UMAP options: {'n_components': 40, 'metric': 'euclidean', 'n_neighbors': 15, 'random_state': 0}\""
      ]
     },
     "metadata": {},
     "output_type": "display_data"
    },
    {
     "data": {
      "text/plain": [
       "(538, 40)"
      ]
     },
     "metadata": {},
     "output_type": "display_data"
    },
    {
     "data": {
      "text/html": [
       "<div>\n",
       "<style scoped>\n",
       "    .dataframe tbody tr th:only-of-type {\n",
       "        vertical-align: middle;\n",
       "    }\n",
       "\n",
       "    .dataframe tbody tr th {\n",
       "        vertical-align: top;\n",
       "    }\n",
       "\n",
       "    .dataframe thead th {\n",
       "        text-align: right;\n",
       "    }\n",
       "</style>\n",
       "<table border=\"1\" class=\"dataframe\">\n",
       "  <thead>\n",
       "    <tr style=\"text-align: right;\">\n",
       "      <th></th>\n",
       "      <th>UMAP1</th>\n",
       "      <th>UMAP2</th>\n",
       "      <th>UMAP3</th>\n",
       "      <th>UMAP4</th>\n",
       "      <th>UMAP5</th>\n",
       "    </tr>\n",
       "  </thead>\n",
       "  <tbody>\n",
       "    <tr>\n",
       "      <th>count</th>\n",
       "      <td>538.000000</td>\n",
       "      <td>538.000000</td>\n",
       "      <td>538.000000</td>\n",
       "      <td>538.000000</td>\n",
       "      <td>538.000000</td>\n",
       "    </tr>\n",
       "    <tr>\n",
       "      <th>mean</th>\n",
       "      <td>7.179404</td>\n",
       "      <td>2.781799</td>\n",
       "      <td>4.460528</td>\n",
       "      <td>8.910821</td>\n",
       "      <td>5.618299</td>\n",
       "    </tr>\n",
       "    <tr>\n",
       "      <th>std</th>\n",
       "      <td>1.786826</td>\n",
       "      <td>0.277461</td>\n",
       "      <td>0.394350</td>\n",
       "      <td>0.129893</td>\n",
       "      <td>0.540176</td>\n",
       "    </tr>\n",
       "    <tr>\n",
       "      <th>min</th>\n",
       "      <td>3.365756</td>\n",
       "      <td>2.279090</td>\n",
       "      <td>3.826882</td>\n",
       "      <td>8.632036</td>\n",
       "      <td>4.437049</td>\n",
       "    </tr>\n",
       "    <tr>\n",
       "      <th>25%</th>\n",
       "      <td>5.006432</td>\n",
       "      <td>2.576856</td>\n",
       "      <td>4.171919</td>\n",
       "      <td>8.831008</td>\n",
       "      <td>4.982498</td>\n",
       "    </tr>\n",
       "    <tr>\n",
       "      <th>50%</th>\n",
       "      <td>8.237466</td>\n",
       "      <td>2.702696</td>\n",
       "      <td>4.316584</td>\n",
       "      <td>8.897143</td>\n",
       "      <td>5.857323</td>\n",
       "    </tr>\n",
       "    <tr>\n",
       "      <th>75%</th>\n",
       "      <td>8.447595</td>\n",
       "      <td>3.037609</td>\n",
       "      <td>4.848925</td>\n",
       "      <td>8.987631</td>\n",
       "      <td>6.010362</td>\n",
       "    </tr>\n",
       "    <tr>\n",
       "      <th>max</th>\n",
       "      <td>8.866558</td>\n",
       "      <td>3.535369</td>\n",
       "      <td>5.513491</td>\n",
       "      <td>9.278026</td>\n",
       "      <td>6.382192</td>\n",
       "    </tr>\n",
       "  </tbody>\n",
       "</table>\n",
       "</div>"
      ],
      "text/plain": [
       "            UMAP1       UMAP2       UMAP3       UMAP4       UMAP5\n",
       "count  538.000000  538.000000  538.000000  538.000000  538.000000\n",
       "mean     7.179404    2.781799    4.460528    8.910821    5.618299\n",
       "std      1.786826    0.277461    0.394350    0.129893    0.540176\n",
       "min      3.365756    2.279090    3.826882    8.632036    4.437049\n",
       "25%      5.006432    2.576856    4.171919    8.831008    4.982498\n",
       "50%      8.237466    2.702696    4.316584    8.897143    5.857323\n",
       "75%      8.447595    3.037609    4.848925    8.987631    6.010362\n",
       "max      8.866558    3.535369    5.513491    9.278026    6.382192"
      ]
     },
     "metadata": {},
     "output_type": "display_data"
    },
    {
     "data": {
      "text/plain": [
       "PosixPath('/media/miltondp/Elements1/projects/phenoplier/results/data_transformations/umap/umap-z_score_std-diseases_only-smultixcan-efo_partial-mashr-zscores-metric_euclidean-n_components_40-n_neighbors_15-random_state_0.pkl')"
      ]
     },
     "metadata": {},
     "output_type": "display_data"
    },
    {
     "name": "stdout",
     "output_type": "stream",
     "text": [
      "\n",
      "\n",
      "# components: 50\n"
     ]
    },
    {
     "data": {
      "text/plain": [
       "\"UMAP options: {'n_components': 50, 'metric': 'euclidean', 'n_neighbors': 15, 'random_state': 0}\""
      ]
     },
     "metadata": {},
     "output_type": "display_data"
    },
    {
     "data": {
      "text/plain": [
       "(538, 50)"
      ]
     },
     "metadata": {},
     "output_type": "display_data"
    },
    {
     "data": {
      "text/html": [
       "<div>\n",
       "<style scoped>\n",
       "    .dataframe tbody tr th:only-of-type {\n",
       "        vertical-align: middle;\n",
       "    }\n",
       "\n",
       "    .dataframe tbody tr th {\n",
       "        vertical-align: top;\n",
       "    }\n",
       "\n",
       "    .dataframe thead th {\n",
       "        text-align: right;\n",
       "    }\n",
       "</style>\n",
       "<table border=\"1\" class=\"dataframe\">\n",
       "  <thead>\n",
       "    <tr style=\"text-align: right;\">\n",
       "      <th></th>\n",
       "      <th>UMAP1</th>\n",
       "      <th>UMAP2</th>\n",
       "      <th>UMAP3</th>\n",
       "      <th>UMAP4</th>\n",
       "      <th>UMAP5</th>\n",
       "    </tr>\n",
       "  </thead>\n",
       "  <tbody>\n",
       "    <tr>\n",
       "      <th>count</th>\n",
       "      <td>538.000000</td>\n",
       "      <td>538.000000</td>\n",
       "      <td>538.000000</td>\n",
       "      <td>538.000000</td>\n",
       "      <td>538.000000</td>\n",
       "    </tr>\n",
       "    <tr>\n",
       "      <th>mean</th>\n",
       "      <td>7.985046</td>\n",
       "      <td>2.601374</td>\n",
       "      <td>4.829426</td>\n",
       "      <td>8.431797</td>\n",
       "      <td>6.059007</td>\n",
       "    </tr>\n",
       "    <tr>\n",
       "      <th>std</th>\n",
       "      <td>2.297926</td>\n",
       "      <td>0.278715</td>\n",
       "      <td>0.191931</td>\n",
       "      <td>0.181283</td>\n",
       "      <td>0.560595</td>\n",
       "    </tr>\n",
       "    <tr>\n",
       "      <th>min</th>\n",
       "      <td>2.842567</td>\n",
       "      <td>1.874109</td>\n",
       "      <td>4.428329</td>\n",
       "      <td>8.073075</td>\n",
       "      <td>4.749494</td>\n",
       "    </tr>\n",
       "    <tr>\n",
       "      <th>25%</th>\n",
       "      <td>5.216704</td>\n",
       "      <td>2.347823</td>\n",
       "      <td>4.660509</td>\n",
       "      <td>8.297781</td>\n",
       "      <td>5.464290</td>\n",
       "    </tr>\n",
       "    <tr>\n",
       "      <th>50%</th>\n",
       "      <td>9.395594</td>\n",
       "      <td>2.698653</td>\n",
       "      <td>4.820894</td>\n",
       "      <td>8.411202</td>\n",
       "      <td>6.322286</td>\n",
       "    </tr>\n",
       "    <tr>\n",
       "      <th>75%</th>\n",
       "      <td>9.576528</td>\n",
       "      <td>2.803142</td>\n",
       "      <td>4.967501</td>\n",
       "      <td>8.572313</td>\n",
       "      <td>6.481516</td>\n",
       "    </tr>\n",
       "    <tr>\n",
       "      <th>max</th>\n",
       "      <td>10.044398</td>\n",
       "      <td>3.033765</td>\n",
       "      <td>5.325864</td>\n",
       "      <td>8.810924</td>\n",
       "      <td>6.745290</td>\n",
       "    </tr>\n",
       "  </tbody>\n",
       "</table>\n",
       "</div>"
      ],
      "text/plain": [
       "            UMAP1       UMAP2       UMAP3       UMAP4       UMAP5\n",
       "count  538.000000  538.000000  538.000000  538.000000  538.000000\n",
       "mean     7.985046    2.601374    4.829426    8.431797    6.059007\n",
       "std      2.297926    0.278715    0.191931    0.181283    0.560595\n",
       "min      2.842567    1.874109    4.428329    8.073075    4.749494\n",
       "25%      5.216704    2.347823    4.660509    8.297781    5.464290\n",
       "50%      9.395594    2.698653    4.820894    8.411202    6.322286\n",
       "75%      9.576528    2.803142    4.967501    8.572313    6.481516\n",
       "max     10.044398    3.033765    5.325864    8.810924    6.745290"
      ]
     },
     "metadata": {},
     "output_type": "display_data"
    },
    {
     "data": {
      "text/plain": [
       "PosixPath('/media/miltondp/Elements1/projects/phenoplier/results/data_transformations/umap/umap-z_score_std-diseases_only-smultixcan-efo_partial-mashr-zscores-metric_euclidean-n_components_50-n_neighbors_15-random_state_0.pkl')"
      ]
     },
     "metadata": {},
     "output_type": "display_data"
    },
    {
     "name": "stdout",
     "output_type": "stream",
     "text": [
      "\n",
      "\n"
     ]
    }
   ],
   "source": [
    "# for n_comp, n_neigh in product(DR_OPTIONS['n_components'], DR_OPTIONS['n_neighbors']):\n",
    "for n_comp in DR_OPTIONS['n_components']:\n",
    "    print(f'# components: {n_comp}')\n",
    "    \n",
    "    options = ALL_OPTIONS.copy()\n",
    "    options['n_components'] = n_comp\n",
    "    \n",
    "    dr_data = get_umap_proj(data, options)\n",
    "    \n",
    "    display(dr_data.shape)\n",
    "    assert dr_data.shape == (data.shape[0], n_comp)\n",
    "    \n",
    "    display(dr_data.iloc[:, 0:5].describe())\n",
    "    \n",
    "    # save\n",
    "    output_file = Path(\n",
    "        RESULTS_DIR,\n",
    "        generate_result_set_name(\n",
    "            options,\n",
    "            prefix=f'umap-{input_filepath_stem}-',\n",
    "            suffix='.pkl'\n",
    "        )\n",
    "    ).resolve()\n",
    "    display(output_file)\n",
    "    \n",
    "    dr_data.to_pickle(output_file)\n",
    "    \n",
    "    print('\\n')"
   ]
  },
  {
   "cell_type": "code",
   "execution_count": null,
   "metadata": {},
   "outputs": [],
   "source": []
  }
 ],
 "metadata": {
  "kernelspec": {
   "display_name": "Python 3",
   "language": "python",
   "name": "python3"
  },
  "language_info": {
   "codemirror_mode": {
    "name": "ipython",
    "version": 3
   },
   "file_extension": ".py",
   "mimetype": "text/x-python",
   "name": "python",
   "nbconvert_exporter": "python",
   "pygments_lexer": "ipython3",
   "version": "3.8.6"
  },
  "toc-autonumbering": true,
  "toc-showcode": false,
  "toc-showmarkdowntxt": false,
  "toc-showtags": false
 },
 "nbformat": 4,
 "nbformat_minor": 4
}
