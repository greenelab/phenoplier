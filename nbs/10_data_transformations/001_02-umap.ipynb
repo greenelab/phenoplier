{
 "cells": [
  {
   "cell_type": "markdown",
   "metadata": {
    "papermill": {
     "duration": 0.025754,
     "end_time": "2020-11-24T17:19:23.091724",
     "exception": false,
     "start_time": "2020-11-24T17:19:23.065970",
     "status": "completed"
    },
    "tags": []
   },
   "source": [
    "# Description"
   ]
  },
  {
   "cell_type": "markdown",
   "metadata": {
    "papermill": {
     "duration": 0.008315,
     "end_time": "2020-11-24T17:19:23.114946",
     "exception": false,
     "start_time": "2020-11-24T17:19:23.106631",
     "status": "completed"
    },
    "tags": []
   },
   "source": [
    "It projects input data into a UMAP representation."
   ]
  },
  {
   "cell_type": "markdown",
   "metadata": {
    "papermill": {
     "duration": 0.005541,
     "end_time": "2020-11-24T17:19:23.127188",
     "exception": false,
     "start_time": "2020-11-24T17:19:23.121647",
     "status": "completed"
    },
    "tags": []
   },
   "source": [
    "# Modules loading"
   ]
  },
  {
   "cell_type": "code",
   "execution_count": 1,
   "metadata": {
    "execution": {
     "iopub.execute_input": "2020-11-24T17:19:23.141502Z",
     "iopub.status.busy": "2020-11-24T17:19:23.141118Z",
     "iopub.status.idle": "2020-11-24T17:19:23.148890Z",
     "shell.execute_reply": "2020-11-24T17:19:23.148483Z"
    },
    "papermill": {
     "duration": 0.016502,
     "end_time": "2020-11-24T17:19:23.149012",
     "exception": false,
     "start_time": "2020-11-24T17:19:23.132510",
     "status": "completed"
    },
    "tags": []
   },
   "outputs": [],
   "source": [
    "%load_ext autoreload\n",
    "%autoreload 2"
   ]
  },
  {
   "cell_type": "code",
   "execution_count": 2,
   "metadata": {
    "execution": {
     "iopub.execute_input": "2020-11-24T17:19:23.162881Z",
     "iopub.status.busy": "2020-11-24T17:19:23.162510Z",
     "iopub.status.idle": "2020-11-24T17:19:24.745900Z",
     "shell.execute_reply": "2020-11-24T17:19:24.745502Z"
    },
    "papermill": {
     "duration": 1.591223,
     "end_time": "2020-11-24T17:19:24.746002",
     "exception": false,
     "start_time": "2020-11-24T17:19:23.154779",
     "status": "completed"
    },
    "tags": []
   },
   "outputs": [],
   "source": [
    "from pathlib import Path\n",
    "from IPython.display import display\n",
    "\n",
    "import pandas as pd\n",
    "import umap\n",
    "import matplotlib.pyplot as plt\n",
    "import seaborn as sns\n",
    "\n",
    "import conf\n",
    "from utils import generate_result_set_name"
   ]
  },
  {
   "cell_type": "markdown",
   "metadata": {
    "papermill": {
     "duration": 0.006114,
     "end_time": "2020-11-24T17:19:24.758848",
     "exception": false,
     "start_time": "2020-11-24T17:19:24.752734",
     "status": "completed"
    },
    "tags": []
   },
   "source": [
    "# Settings"
   ]
  },
  {
   "cell_type": "code",
   "execution_count": 3,
   "metadata": {
    "execution": {
     "iopub.execute_input": "2020-11-24T17:19:24.773984Z",
     "iopub.status.busy": "2020-11-24T17:19:24.773587Z",
     "iopub.status.idle": "2020-11-24T17:19:24.786514Z",
     "shell.execute_reply": "2020-11-24T17:19:24.786095Z"
    },
    "papermill": {
     "duration": 0.021854,
     "end_time": "2020-11-24T17:19:24.786611",
     "exception": false,
     "start_time": "2020-11-24T17:19:24.764757",
     "status": "completed"
    },
    "tags": []
   },
   "outputs": [],
   "source": [
    "INPUT_FILEPATH_STEM = 'diseases_only-smultixcan-efo_partial-mashr-zscores'"
   ]
  },
  {
   "cell_type": "code",
   "execution_count": 4,
   "metadata": {
    "execution": {
     "iopub.execute_input": "2020-11-24T17:19:24.802143Z",
     "iopub.status.busy": "2020-11-24T17:19:24.801728Z",
     "iopub.status.idle": "2020-11-24T17:19:24.817246Z",
     "shell.execute_reply": "2020-11-24T17:19:24.816843Z"
    },
    "papermill": {
     "duration": 0.024266,
     "end_time": "2020-11-24T17:19:24.817339",
     "exception": false,
     "start_time": "2020-11-24T17:19:24.793073",
     "status": "completed"
    },
    "tags": []
   },
   "outputs": [
    {
     "data": {
      "text/plain": [
       "PosixPath('/home/miltondp/projects/labs/greenelab/phenoplier/base/results/data_transformations/z_score_std/z_score_std-diseases_only-smultixcan-efo_partial-mashr-zscores.pkl')"
      ]
     },
     "metadata": {},
     "output_type": "display_data"
    },
    {
     "data": {
      "text/plain": [
       "'z_score_std-diseases_only-smultixcan-efo_partial-mashr-zscores'"
      ]
     },
     "metadata": {},
     "output_type": "display_data"
    }
   ],
   "source": [
    "INPUT_FILEPATH = Path(\n",
    "    conf.RESULTS[\"DATA_TRANSFORMATIONS_DIR\"],\n",
    "    'z_score_std',\n",
    "    f'z_score_std-{INPUT_FILEPATH_STEM}.pkl',\n",
    ").resolve()\n",
    "display(INPUT_FILEPATH)\n",
    "\n",
    "input_filepath_stem = INPUT_FILEPATH.stem\n",
    "display(input_filepath_stem)"
   ]
  },
  {
   "cell_type": "code",
   "execution_count": 5,
   "metadata": {
    "execution": {
     "iopub.execute_input": "2020-11-24T17:19:24.833854Z",
     "iopub.status.busy": "2020-11-24T17:19:24.833454Z",
     "iopub.status.idle": "2020-11-24T17:19:24.846178Z",
     "shell.execute_reply": "2020-11-24T17:19:24.845849Z"
    },
    "papermill": {
     "duration": 0.02209,
     "end_time": "2020-11-24T17:19:24.846273",
     "exception": false,
     "start_time": "2020-11-24T17:19:24.824183",
     "status": "completed"
    },
    "tags": []
   },
   "outputs": [],
   "source": [
    "# number of components to use in the dimensionality reduction step\n",
    "DR_OPTIONS = {\n",
    "    'n_components': [5, 10, 20, 30, 40, 50],\n",
    "    'metric': 'euclidean',\n",
    "    'n_neighbors': 15,\n",
    "    'random_state': 0,\n",
    "}"
   ]
  },
  {
   "cell_type": "code",
   "execution_count": 6,
   "metadata": {
    "execution": {
     "iopub.execute_input": "2020-11-24T17:19:24.862315Z",
     "iopub.status.busy": "2020-11-24T17:19:24.861917Z",
     "iopub.status.idle": "2020-11-24T17:19:24.875111Z",
     "shell.execute_reply": "2020-11-24T17:19:24.874721Z"
    },
    "papermill": {
     "duration": 0.022106,
     "end_time": "2020-11-24T17:19:24.875211",
     "exception": false,
     "start_time": "2020-11-24T17:19:24.853105",
     "status": "completed"
    },
    "tags": []
   },
   "outputs": [
    {
     "data": {
      "text/plain": [
       "PosixPath('/home/miltondp/projects/labs/greenelab/phenoplier/base/results/data_transformations/umap')"
      ]
     },
     "metadata": {},
     "output_type": "display_data"
    }
   ],
   "source": [
    "# output dir for this notebook\n",
    "RESULTS_DIR = Path(\n",
    "    conf.RESULTS[\"DATA_TRANSFORMATIONS_DIR\"],\n",
    "    'umap'\n",
    ").resolve()\n",
    "RESULTS_DIR.mkdir(parents=True, exist_ok=True)\n",
    "\n",
    "display(RESULTS_DIR)"
   ]
  },
  {
   "cell_type": "code",
   "execution_count": 7,
   "metadata": {
    "execution": {
     "iopub.execute_input": "2020-11-24T17:19:24.891227Z",
     "iopub.status.busy": "2020-11-24T17:19:24.890844Z",
     "iopub.status.idle": "2020-11-24T17:19:24.903803Z",
     "shell.execute_reply": "2020-11-24T17:19:24.903413Z"
    },
    "papermill": {
     "duration": 0.021742,
     "end_time": "2020-11-24T17:19:24.903894",
     "exception": false,
     "start_time": "2020-11-24T17:19:24.882152",
     "status": "completed"
    },
    "tags": []
   },
   "outputs": [
    {
     "data": {
      "text/plain": [
       "{'n_components': [5, 10, 20, 30, 40, 50],\n",
       " 'metric': 'euclidean',\n",
       " 'n_neighbors': 15,\n",
       " 'random_state': 0}"
      ]
     },
     "metadata": {},
     "output_type": "display_data"
    }
   ],
   "source": [
    "# dictionary containing all options/settings (used to generate filenames)\n",
    "ALL_OPTIONS = DR_OPTIONS.copy()\n",
    "# ALL_OPTIONS['proj_percentile'] = PERCENTILE_NAME\n",
    "\n",
    "display(ALL_OPTIONS)"
   ]
  },
  {
   "cell_type": "markdown",
   "metadata": {
    "papermill": {
     "duration": 0.007002,
     "end_time": "2020-11-24T17:19:24.918102",
     "exception": false,
     "start_time": "2020-11-24T17:19:24.911100",
     "status": "completed"
    },
    "tags": []
   },
   "source": [
    "# Load input file"
   ]
  },
  {
   "cell_type": "code",
   "execution_count": 8,
   "metadata": {
    "execution": {
     "iopub.execute_input": "2020-11-24T17:19:24.934080Z",
     "iopub.status.busy": "2020-11-24T17:19:24.933714Z",
     "iopub.status.idle": "2020-11-24T17:19:24.957563Z",
     "shell.execute_reply": "2020-11-24T17:19:24.957110Z"
    },
    "papermill": {
     "duration": 0.032619,
     "end_time": "2020-11-24T17:19:24.957668",
     "exception": false,
     "start_time": "2020-11-24T17:19:24.925049",
     "status": "completed"
    },
    "tags": []
   },
   "outputs": [],
   "source": [
    "data = pd.read_pickle(INPUT_FILEPATH)"
   ]
  },
  {
   "cell_type": "code",
   "execution_count": 9,
   "metadata": {
    "execution": {
     "iopub.execute_input": "2020-11-24T17:19:24.976365Z",
     "iopub.status.busy": "2020-11-24T17:19:24.975942Z",
     "iopub.status.idle": "2020-11-24T17:19:24.989922Z",
     "shell.execute_reply": "2020-11-24T17:19:24.989575Z"
    },
    "papermill": {
     "duration": 0.024234,
     "end_time": "2020-11-24T17:19:24.990023",
     "exception": false,
     "start_time": "2020-11-24T17:19:24.965789",
     "status": "completed"
    },
    "tags": []
   },
   "outputs": [
    {
     "data": {
      "text/plain": [
       "(538, 6452)"
      ]
     },
     "execution_count": 9,
     "metadata": {},
     "output_type": "execute_result"
    }
   ],
   "source": [
    "data.shape"
   ]
  },
  {
   "cell_type": "code",
   "execution_count": 10,
   "metadata": {
    "execution": {
     "iopub.execute_input": "2020-11-24T17:19:25.008722Z",
     "iopub.status.busy": "2020-11-24T17:19:25.008313Z",
     "iopub.status.idle": "2020-11-24T17:19:25.036330Z",
     "shell.execute_reply": "2020-11-24T17:19:25.035953Z"
    },
    "papermill": {
     "duration": 0.038082,
     "end_time": "2020-11-24T17:19:25.036424",
     "exception": false,
     "start_time": "2020-11-24T17:19:24.998342",
     "status": "completed"
    },
    "tags": []
   },
   "outputs": [
    {
     "data": {
      "text/html": [
       "<div>\n",
       "<style scoped>\n",
       "    .dataframe tbody tr th:only-of-type {\n",
       "        vertical-align: middle;\n",
       "    }\n",
       "\n",
       "    .dataframe tbody tr th {\n",
       "        vertical-align: top;\n",
       "    }\n",
       "\n",
       "    .dataframe thead th {\n",
       "        text-align: right;\n",
       "    }\n",
       "</style>\n",
       "<table border=\"1\" class=\"dataframe\">\n",
       "  <thead>\n",
       "    <tr style=\"text-align: right;\">\n",
       "      <th>gene_name</th>\n",
       "      <th>ENSG00000183087</th>\n",
       "      <th>ENSG00000157227</th>\n",
       "      <th>ENSG00000096696</th>\n",
       "      <th>ENSG00000175130</th>\n",
       "      <th>ENSG00000113140</th>\n",
       "      <th>ENSG00000117984</th>\n",
       "      <th>ENSG00000116016</th>\n",
       "      <th>ENSG00000129116</th>\n",
       "      <th>ENSG00000134686</th>\n",
       "      <th>ENSG00000108679</th>\n",
       "      <th>...</th>\n",
       "      <th>ENSG00000111716</th>\n",
       "      <th>ENSG00000166796</th>\n",
       "      <th>ENSG00000114331</th>\n",
       "      <th>ENSG00000131584</th>\n",
       "      <th>ENSG00000165410</th>\n",
       "      <th>ENSG00000172757</th>\n",
       "      <th>ENSG00000147862</th>\n",
       "      <th>ENSG00000008323</th>\n",
       "      <th>ENSG00000167083</th>\n",
       "      <th>ENSG00000149257</th>\n",
       "    </tr>\n",
       "  </thead>\n",
       "  <tbody>\n",
       "    <tr>\n",
       "      <th>vascular disease AND intestinal disease</th>\n",
       "      <td>0.847454</td>\n",
       "      <td>1.009161</td>\n",
       "      <td>-0.834057</td>\n",
       "      <td>-0.070589</td>\n",
       "      <td>-0.329654</td>\n",
       "      <td>1.339072</td>\n",
       "      <td>-1.317406</td>\n",
       "      <td>-0.153223</td>\n",
       "      <td>0.208080</td>\n",
       "      <td>1.305476</td>\n",
       "      <td>...</td>\n",
       "      <td>-0.862693</td>\n",
       "      <td>0.178475</td>\n",
       "      <td>-0.867851</td>\n",
       "      <td>-0.318883</td>\n",
       "      <td>0.023148</td>\n",
       "      <td>0.121395</td>\n",
       "      <td>0.106954</td>\n",
       "      <td>0.282147</td>\n",
       "      <td>-0.811827</td>\n",
       "      <td>0.413489</td>\n",
       "    </tr>\n",
       "    <tr>\n",
       "      <th>osteoarthritis, knee</th>\n",
       "      <td>-0.949368</td>\n",
       "      <td>2.236648</td>\n",
       "      <td>0.059025</td>\n",
       "      <td>0.312724</td>\n",
       "      <td>-1.303170</td>\n",
       "      <td>0.827997</td>\n",
       "      <td>2.295848</td>\n",
       "      <td>-0.118700</td>\n",
       "      <td>1.478273</td>\n",
       "      <td>-0.048731</td>\n",
       "      <td>...</td>\n",
       "      <td>-0.900876</td>\n",
       "      <td>1.239900</td>\n",
       "      <td>-0.357637</td>\n",
       "      <td>-0.510200</td>\n",
       "      <td>-0.233842</td>\n",
       "      <td>-0.130737</td>\n",
       "      <td>-0.066291</td>\n",
       "      <td>-0.470850</td>\n",
       "      <td>0.133876</td>\n",
       "      <td>0.992046</td>\n",
       "    </tr>\n",
       "    <tr>\n",
       "      <th>carpal tunnel syndrome</th>\n",
       "      <td>3.451503</td>\n",
       "      <td>0.179316</td>\n",
       "      <td>1.656231</td>\n",
       "      <td>-0.075898</td>\n",
       "      <td>0.546487</td>\n",
       "      <td>0.182674</td>\n",
       "      <td>0.303961</td>\n",
       "      <td>-0.571854</td>\n",
       "      <td>-0.822994</td>\n",
       "      <td>0.212698</td>\n",
       "      <td>...</td>\n",
       "      <td>1.314737</td>\n",
       "      <td>-0.700739</td>\n",
       "      <td>-0.570497</td>\n",
       "      <td>0.672079</td>\n",
       "      <td>-0.255689</td>\n",
       "      <td>0.473933</td>\n",
       "      <td>-0.319597</td>\n",
       "      <td>2.733735</td>\n",
       "      <td>1.247620</td>\n",
       "      <td>-0.433203</td>\n",
       "    </tr>\n",
       "    <tr>\n",
       "      <th>gastritis</th>\n",
       "      <td>-0.301861</td>\n",
       "      <td>0.026726</td>\n",
       "      <td>-1.095334</td>\n",
       "      <td>0.238529</td>\n",
       "      <td>-1.060668</td>\n",
       "      <td>-1.277446</td>\n",
       "      <td>1.096986</td>\n",
       "      <td>-0.490961</td>\n",
       "      <td>0.388828</td>\n",
       "      <td>2.672629</td>\n",
       "      <td>...</td>\n",
       "      <td>1.686590</td>\n",
       "      <td>-0.032626</td>\n",
       "      <td>-0.554427</td>\n",
       "      <td>0.406311</td>\n",
       "      <td>-0.725370</td>\n",
       "      <td>-0.700858</td>\n",
       "      <td>-0.669952</td>\n",
       "      <td>2.088057</td>\n",
       "      <td>-0.195165</td>\n",
       "      <td>1.154248</td>\n",
       "    </tr>\n",
       "    <tr>\n",
       "      <th>neoplasm</th>\n",
       "      <td>3.186200</td>\n",
       "      <td>-0.215859</td>\n",
       "      <td>-0.640350</td>\n",
       "      <td>0.748803</td>\n",
       "      <td>-1.183247</td>\n",
       "      <td>-0.773517</td>\n",
       "      <td>0.111114</td>\n",
       "      <td>-0.579060</td>\n",
       "      <td>-0.909444</td>\n",
       "      <td>-0.860679</td>\n",
       "      <td>...</td>\n",
       "      <td>0.849432</td>\n",
       "      <td>0.533190</td>\n",
       "      <td>0.851463</td>\n",
       "      <td>0.588349</td>\n",
       "      <td>-1.023563</td>\n",
       "      <td>0.226923</td>\n",
       "      <td>1.508859</td>\n",
       "      <td>0.368243</td>\n",
       "      <td>0.636630</td>\n",
       "      <td>0.131323</td>\n",
       "    </tr>\n",
       "  </tbody>\n",
       "</table>\n",
       "<p>5 rows × 6452 columns</p>\n",
       "</div>"
      ],
      "text/plain": [
       "gene_name                                ENSG00000183087  ENSG00000157227  \\\n",
       "vascular disease AND intestinal disease         0.847454         1.009161   \n",
       "osteoarthritis, knee                           -0.949368         2.236648   \n",
       "carpal tunnel syndrome                          3.451503         0.179316   \n",
       "gastritis                                      -0.301861         0.026726   \n",
       "neoplasm                                        3.186200        -0.215859   \n",
       "\n",
       "gene_name                                ENSG00000096696  ENSG00000175130  \\\n",
       "vascular disease AND intestinal disease        -0.834057        -0.070589   \n",
       "osteoarthritis, knee                            0.059025         0.312724   \n",
       "carpal tunnel syndrome                          1.656231        -0.075898   \n",
       "gastritis                                      -1.095334         0.238529   \n",
       "neoplasm                                       -0.640350         0.748803   \n",
       "\n",
       "gene_name                                ENSG00000113140  ENSG00000117984  \\\n",
       "vascular disease AND intestinal disease        -0.329654         1.339072   \n",
       "osteoarthritis, knee                           -1.303170         0.827997   \n",
       "carpal tunnel syndrome                          0.546487         0.182674   \n",
       "gastritis                                      -1.060668        -1.277446   \n",
       "neoplasm                                       -1.183247        -0.773517   \n",
       "\n",
       "gene_name                                ENSG00000116016  ENSG00000129116  \\\n",
       "vascular disease AND intestinal disease        -1.317406        -0.153223   \n",
       "osteoarthritis, knee                            2.295848        -0.118700   \n",
       "carpal tunnel syndrome                          0.303961        -0.571854   \n",
       "gastritis                                       1.096986        -0.490961   \n",
       "neoplasm                                        0.111114        -0.579060   \n",
       "\n",
       "gene_name                                ENSG00000134686  ENSG00000108679  \\\n",
       "vascular disease AND intestinal disease         0.208080         1.305476   \n",
       "osteoarthritis, knee                            1.478273        -0.048731   \n",
       "carpal tunnel syndrome                         -0.822994         0.212698   \n",
       "gastritis                                       0.388828         2.672629   \n",
       "neoplasm                                       -0.909444        -0.860679   \n",
       "\n",
       "gene_name                                ...  ENSG00000111716  \\\n",
       "vascular disease AND intestinal disease  ...        -0.862693   \n",
       "osteoarthritis, knee                     ...        -0.900876   \n",
       "carpal tunnel syndrome                   ...         1.314737   \n",
       "gastritis                                ...         1.686590   \n",
       "neoplasm                                 ...         0.849432   \n",
       "\n",
       "gene_name                                ENSG00000166796  ENSG00000114331  \\\n",
       "vascular disease AND intestinal disease         0.178475        -0.867851   \n",
       "osteoarthritis, knee                            1.239900        -0.357637   \n",
       "carpal tunnel syndrome                         -0.700739        -0.570497   \n",
       "gastritis                                      -0.032626        -0.554427   \n",
       "neoplasm                                        0.533190         0.851463   \n",
       "\n",
       "gene_name                                ENSG00000131584  ENSG00000165410  \\\n",
       "vascular disease AND intestinal disease        -0.318883         0.023148   \n",
       "osteoarthritis, knee                           -0.510200        -0.233842   \n",
       "carpal tunnel syndrome                          0.672079        -0.255689   \n",
       "gastritis                                       0.406311        -0.725370   \n",
       "neoplasm                                        0.588349        -1.023563   \n",
       "\n",
       "gene_name                                ENSG00000172757  ENSG00000147862  \\\n",
       "vascular disease AND intestinal disease         0.121395         0.106954   \n",
       "osteoarthritis, knee                           -0.130737        -0.066291   \n",
       "carpal tunnel syndrome                          0.473933        -0.319597   \n",
       "gastritis                                      -0.700858        -0.669952   \n",
       "neoplasm                                        0.226923         1.508859   \n",
       "\n",
       "gene_name                                ENSG00000008323  ENSG00000167083  \\\n",
       "vascular disease AND intestinal disease         0.282147        -0.811827   \n",
       "osteoarthritis, knee                           -0.470850         0.133876   \n",
       "carpal tunnel syndrome                          2.733735         1.247620   \n",
       "gastritis                                       2.088057        -0.195165   \n",
       "neoplasm                                        0.368243         0.636630   \n",
       "\n",
       "gene_name                                ENSG00000149257  \n",
       "vascular disease AND intestinal disease         0.413489  \n",
       "osteoarthritis, knee                            0.992046  \n",
       "carpal tunnel syndrome                         -0.433203  \n",
       "gastritis                                       1.154248  \n",
       "neoplasm                                        0.131323  \n",
       "\n",
       "[5 rows x 6452 columns]"
      ]
     },
     "execution_count": 10,
     "metadata": {},
     "output_type": "execute_result"
    }
   ],
   "source": [
    "data.head()"
   ]
  },
  {
   "cell_type": "markdown",
   "metadata": {
    "papermill": {
     "duration": 0.007518,
     "end_time": "2020-11-24T17:19:25.051852",
     "exception": false,
     "start_time": "2020-11-24T17:19:25.044334",
     "status": "completed"
    },
    "tags": []
   },
   "source": [
    "# UMAP"
   ]
  },
  {
   "cell_type": "code",
   "execution_count": 11,
   "metadata": {
    "execution": {
     "iopub.execute_input": "2020-11-24T17:19:25.070580Z",
     "iopub.status.busy": "2020-11-24T17:19:25.070183Z",
     "iopub.status.idle": "2020-11-24T17:19:25.082361Z",
     "shell.execute_reply": "2020-11-24T17:19:25.082012Z"
    },
    "papermill": {
     "duration": 0.022976,
     "end_time": "2020-11-24T17:19:25.082448",
     "exception": false,
     "start_time": "2020-11-24T17:19:25.059472",
     "status": "completed"
    },
    "tags": []
   },
   "outputs": [],
   "source": [
    "def get_umap_proj(orig_data, options):\n",
    "    umap_options = {k:v for k, v in options.items() if k in DR_OPTIONS}\n",
    "    display(f'UMAP options: {umap_options}')\n",
    "    umap_obj = umap.UMAP(**umap_options)\n",
    "    umap_obj = umap_obj.fit(orig_data)\n",
    "    umap_data = umap_obj.transform(orig_data)\n",
    "    return pd.DataFrame(\n",
    "        data=umap_data,\n",
    "        index=orig_data.index.copy(),\n",
    "        columns=[f'UMAP{i+1}' for i in range(umap_data.shape[1])]\n",
    "    )"
   ]
  },
  {
   "cell_type": "code",
   "execution_count": 12,
   "metadata": {
    "execution": {
     "iopub.execute_input": "2020-11-24T17:19:25.101532Z",
     "iopub.status.busy": "2020-11-24T17:19:25.101145Z",
     "iopub.status.idle": "2020-11-24T17:19:43.812811Z",
     "shell.execute_reply": "2020-11-24T17:19:43.812397Z"
    },
    "papermill": {
     "duration": 18.722533,
     "end_time": "2020-11-24T17:19:43.812902",
     "exception": false,
     "start_time": "2020-11-24T17:19:25.090369",
     "status": "completed"
    },
    "tags": []
   },
   "outputs": [
    {
     "name": "stdout",
     "output_type": "stream",
     "text": [
      "# components: 5\n"
     ]
    },
    {
     "data": {
      "text/plain": [
       "\"UMAP options: {'n_components': 5, 'metric': 'euclidean', 'n_neighbors': 15, 'random_state': 0}\""
      ]
     },
     "metadata": {},
     "output_type": "display_data"
    },
    {
     "data": {
      "text/plain": [
       "(538, 5)"
      ]
     },
     "metadata": {},
     "output_type": "display_data"
    },
    {
     "data": {
      "text/html": [
       "<div>\n",
       "<style scoped>\n",
       "    .dataframe tbody tr th:only-of-type {\n",
       "        vertical-align: middle;\n",
       "    }\n",
       "\n",
       "    .dataframe tbody tr th {\n",
       "        vertical-align: top;\n",
       "    }\n",
       "\n",
       "    .dataframe thead th {\n",
       "        text-align: right;\n",
       "    }\n",
       "</style>\n",
       "<table border=\"1\" class=\"dataframe\">\n",
       "  <thead>\n",
       "    <tr style=\"text-align: right;\">\n",
       "      <th></th>\n",
       "      <th>UMAP1</th>\n",
       "      <th>UMAP2</th>\n",
       "      <th>UMAP3</th>\n",
       "      <th>UMAP4</th>\n",
       "      <th>UMAP5</th>\n",
       "    </tr>\n",
       "  </thead>\n",
       "  <tbody>\n",
       "    <tr>\n",
       "      <th>count</th>\n",
       "      <td>538.000000</td>\n",
       "      <td>538.000000</td>\n",
       "      <td>538.000000</td>\n",
       "      <td>538.000000</td>\n",
       "      <td>538.000000</td>\n",
       "    </tr>\n",
       "    <tr>\n",
       "      <th>mean</th>\n",
       "      <td>7.679551</td>\n",
       "      <td>7.936632</td>\n",
       "      <td>3.632716</td>\n",
       "      <td>9.876525</td>\n",
       "      <td>7.316477</td>\n",
       "    </tr>\n",
       "    <tr>\n",
       "      <th>std</th>\n",
       "      <td>2.656788</td>\n",
       "      <td>0.655753</td>\n",
       "      <td>0.391828</td>\n",
       "      <td>0.487032</td>\n",
       "      <td>0.620014</td>\n",
       "    </tr>\n",
       "    <tr>\n",
       "      <th>min</th>\n",
       "      <td>1.815232</td>\n",
       "      <td>6.598701</td>\n",
       "      <td>2.578690</td>\n",
       "      <td>9.074773</td>\n",
       "      <td>6.057494</td>\n",
       "    </tr>\n",
       "    <tr>\n",
       "      <th>25%</th>\n",
       "      <td>4.638641</td>\n",
       "      <td>7.429265</td>\n",
       "      <td>3.398335</td>\n",
       "      <td>9.442492</td>\n",
       "      <td>6.824173</td>\n",
       "    </tr>\n",
       "    <tr>\n",
       "      <th>50%</th>\n",
       "      <td>9.144253</td>\n",
       "      <td>7.852081</td>\n",
       "      <td>3.622641</td>\n",
       "      <td>9.788501</td>\n",
       "      <td>7.294547</td>\n",
       "    </tr>\n",
       "    <tr>\n",
       "      <th>75%</th>\n",
       "      <td>9.579413</td>\n",
       "      <td>8.496892</td>\n",
       "      <td>3.865244</td>\n",
       "      <td>10.249500</td>\n",
       "      <td>7.769266</td>\n",
       "    </tr>\n",
       "    <tr>\n",
       "      <th>max</th>\n",
       "      <td>10.745596</td>\n",
       "      <td>9.309904</td>\n",
       "      <td>4.981396</td>\n",
       "      <td>10.972158</td>\n",
       "      <td>8.810878</td>\n",
       "    </tr>\n",
       "  </tbody>\n",
       "</table>\n",
       "</div>"
      ],
      "text/plain": [
       "            UMAP1       UMAP2       UMAP3       UMAP4       UMAP5\n",
       "count  538.000000  538.000000  538.000000  538.000000  538.000000\n",
       "mean     7.679551    7.936632    3.632716    9.876525    7.316477\n",
       "std      2.656788    0.655753    0.391828    0.487032    0.620014\n",
       "min      1.815232    6.598701    2.578690    9.074773    6.057494\n",
       "25%      4.638641    7.429265    3.398335    9.442492    6.824173\n",
       "50%      9.144253    7.852081    3.622641    9.788501    7.294547\n",
       "75%      9.579413    8.496892    3.865244   10.249500    7.769266\n",
       "max     10.745596    9.309904    4.981396   10.972158    8.810878"
      ]
     },
     "metadata": {},
     "output_type": "display_data"
    },
    {
     "data": {
      "text/plain": [
       "PosixPath('/home/miltondp/projects/labs/greenelab/phenoplier/base/results/data_transformations/umap/umap-z_score_std-diseases_only-smultixcan-efo_partial-mashr-zscores-metric_euclidean-n_components_5-n_neighbors_15-random_state_0.pkl')"
      ]
     },
     "metadata": {},
     "output_type": "display_data"
    },
    {
     "name": "stdout",
     "output_type": "stream",
     "text": [
      "\n",
      "\n",
      "# components: 10\n"
     ]
    },
    {
     "data": {
      "text/plain": [
       "\"UMAP options: {'n_components': 10, 'metric': 'euclidean', 'n_neighbors': 15, 'random_state': 0}\""
      ]
     },
     "metadata": {},
     "output_type": "display_data"
    },
    {
     "data": {
      "text/plain": [
       "(538, 10)"
      ]
     },
     "metadata": {},
     "output_type": "display_data"
    },
    {
     "data": {
      "text/html": [
       "<div>\n",
       "<style scoped>\n",
       "    .dataframe tbody tr th:only-of-type {\n",
       "        vertical-align: middle;\n",
       "    }\n",
       "\n",
       "    .dataframe tbody tr th {\n",
       "        vertical-align: top;\n",
       "    }\n",
       "\n",
       "    .dataframe thead th {\n",
       "        text-align: right;\n",
       "    }\n",
       "</style>\n",
       "<table border=\"1\" class=\"dataframe\">\n",
       "  <thead>\n",
       "    <tr style=\"text-align: right;\">\n",
       "      <th></th>\n",
       "      <th>UMAP1</th>\n",
       "      <th>UMAP2</th>\n",
       "      <th>UMAP3</th>\n",
       "      <th>UMAP4</th>\n",
       "      <th>UMAP5</th>\n",
       "    </tr>\n",
       "  </thead>\n",
       "  <tbody>\n",
       "    <tr>\n",
       "      <th>count</th>\n",
       "      <td>538.000000</td>\n",
       "      <td>538.000000</td>\n",
       "      <td>538.000000</td>\n",
       "      <td>538.000000</td>\n",
       "      <td>538.000000</td>\n",
       "    </tr>\n",
       "    <tr>\n",
       "      <th>mean</th>\n",
       "      <td>7.127672</td>\n",
       "      <td>8.032342</td>\n",
       "      <td>5.547537</td>\n",
       "      <td>6.817735</td>\n",
       "      <td>5.702674</td>\n",
       "    </tr>\n",
       "    <tr>\n",
       "      <th>std</th>\n",
       "      <td>1.757436</td>\n",
       "      <td>0.467890</td>\n",
       "      <td>0.416089</td>\n",
       "      <td>1.963808</td>\n",
       "      <td>0.552181</td>\n",
       "    </tr>\n",
       "    <tr>\n",
       "      <th>min</th>\n",
       "      <td>3.377839</td>\n",
       "      <td>7.110080</td>\n",
       "      <td>4.808387</td>\n",
       "      <td>4.820794</td>\n",
       "      <td>4.322804</td>\n",
       "    </tr>\n",
       "    <tr>\n",
       "      <th>25%</th>\n",
       "      <td>5.011455</td>\n",
       "      <td>7.559957</td>\n",
       "      <td>5.153482</td>\n",
       "      <td>5.437932</td>\n",
       "      <td>5.177649</td>\n",
       "    </tr>\n",
       "    <tr>\n",
       "      <th>50%</th>\n",
       "      <td>8.082147</td>\n",
       "      <td>8.107326</td>\n",
       "      <td>5.594849</td>\n",
       "      <td>5.710630</td>\n",
       "      <td>5.864573</td>\n",
       "    </tr>\n",
       "    <tr>\n",
       "      <th>75%</th>\n",
       "      <td>8.424130</td>\n",
       "      <td>8.441905</td>\n",
       "      <td>5.897865</td>\n",
       "      <td>9.083092</td>\n",
       "      <td>6.096544</td>\n",
       "    </tr>\n",
       "    <tr>\n",
       "      <th>max</th>\n",
       "      <td>8.964018</td>\n",
       "      <td>8.934828</td>\n",
       "      <td>6.497295</td>\n",
       "      <td>11.146702</td>\n",
       "      <td>6.662196</td>\n",
       "    </tr>\n",
       "  </tbody>\n",
       "</table>\n",
       "</div>"
      ],
      "text/plain": [
       "            UMAP1       UMAP2       UMAP3       UMAP4       UMAP5\n",
       "count  538.000000  538.000000  538.000000  538.000000  538.000000\n",
       "mean     7.127672    8.032342    5.547537    6.817735    5.702674\n",
       "std      1.757436    0.467890    0.416089    1.963808    0.552181\n",
       "min      3.377839    7.110080    4.808387    4.820794    4.322804\n",
       "25%      5.011455    7.559957    5.153482    5.437932    5.177649\n",
       "50%      8.082147    8.107326    5.594849    5.710630    5.864573\n",
       "75%      8.424130    8.441905    5.897865    9.083092    6.096544\n",
       "max      8.964018    8.934828    6.497295   11.146702    6.662196"
      ]
     },
     "metadata": {},
     "output_type": "display_data"
    },
    {
     "data": {
      "text/plain": [
       "PosixPath('/home/miltondp/projects/labs/greenelab/phenoplier/base/results/data_transformations/umap/umap-z_score_std-diseases_only-smultixcan-efo_partial-mashr-zscores-metric_euclidean-n_components_10-n_neighbors_15-random_state_0.pkl')"
      ]
     },
     "metadata": {},
     "output_type": "display_data"
    },
    {
     "name": "stdout",
     "output_type": "stream",
     "text": [
      "\n",
      "\n",
      "# components: 20\n"
     ]
    },
    {
     "data": {
      "text/plain": [
       "\"UMAP options: {'n_components': 20, 'metric': 'euclidean', 'n_neighbors': 15, 'random_state': 0}\""
      ]
     },
     "metadata": {},
     "output_type": "display_data"
    },
    {
     "data": {
      "text/plain": [
       "(538, 20)"
      ]
     },
     "metadata": {},
     "output_type": "display_data"
    },
    {
     "data": {
      "text/html": [
       "<div>\n",
       "<style scoped>\n",
       "    .dataframe tbody tr th:only-of-type {\n",
       "        vertical-align: middle;\n",
       "    }\n",
       "\n",
       "    .dataframe tbody tr th {\n",
       "        vertical-align: top;\n",
       "    }\n",
       "\n",
       "    .dataframe thead th {\n",
       "        text-align: right;\n",
       "    }\n",
       "</style>\n",
       "<table border=\"1\" class=\"dataframe\">\n",
       "  <thead>\n",
       "    <tr style=\"text-align: right;\">\n",
       "      <th></th>\n",
       "      <th>UMAP1</th>\n",
       "      <th>UMAP2</th>\n",
       "      <th>UMAP3</th>\n",
       "      <th>UMAP4</th>\n",
       "      <th>UMAP5</th>\n",
       "    </tr>\n",
       "  </thead>\n",
       "  <tbody>\n",
       "    <tr>\n",
       "      <th>count</th>\n",
       "      <td>538.000000</td>\n",
       "      <td>538.000000</td>\n",
       "      <td>538.000000</td>\n",
       "      <td>538.000000</td>\n",
       "      <td>538.000000</td>\n",
       "    </tr>\n",
       "    <tr>\n",
       "      <th>mean</th>\n",
       "      <td>8.115372</td>\n",
       "      <td>2.932507</td>\n",
       "      <td>5.103050</td>\n",
       "      <td>8.423316</td>\n",
       "      <td>4.496166</td>\n",
       "    </tr>\n",
       "    <tr>\n",
       "      <th>std</th>\n",
       "      <td>1.951931</td>\n",
       "      <td>0.334889</td>\n",
       "      <td>0.568414</td>\n",
       "      <td>0.916021</td>\n",
       "      <td>0.323663</td>\n",
       "    </tr>\n",
       "    <tr>\n",
       "      <th>min</th>\n",
       "      <td>3.618614</td>\n",
       "      <td>2.237470</td>\n",
       "      <td>3.896196</td>\n",
       "      <td>7.327308</td>\n",
       "      <td>3.958051</td>\n",
       "    </tr>\n",
       "    <tr>\n",
       "      <th>25%</th>\n",
       "      <td>5.854597</td>\n",
       "      <td>2.646748</td>\n",
       "      <td>4.475454</td>\n",
       "      <td>7.751944</td>\n",
       "      <td>4.235860</td>\n",
       "    </tr>\n",
       "    <tr>\n",
       "      <th>50%</th>\n",
       "      <td>9.300107</td>\n",
       "      <td>2.972522</td>\n",
       "      <td>5.335828</td>\n",
       "      <td>7.983537</td>\n",
       "      <td>4.407367</td>\n",
       "    </tr>\n",
       "    <tr>\n",
       "      <th>75%</th>\n",
       "      <td>9.474627</td>\n",
       "      <td>3.196471</td>\n",
       "      <td>5.536899</td>\n",
       "      <td>9.510640</td>\n",
       "      <td>4.789108</td>\n",
       "    </tr>\n",
       "    <tr>\n",
       "      <th>max</th>\n",
       "      <td>9.780196</td>\n",
       "      <td>3.643408</td>\n",
       "      <td>5.982479</td>\n",
       "      <td>10.478279</td>\n",
       "      <td>5.297492</td>\n",
       "    </tr>\n",
       "  </tbody>\n",
       "</table>\n",
       "</div>"
      ],
      "text/plain": [
       "            UMAP1       UMAP2       UMAP3       UMAP4       UMAP5\n",
       "count  538.000000  538.000000  538.000000  538.000000  538.000000\n",
       "mean     8.115372    2.932507    5.103050    8.423316    4.496166\n",
       "std      1.951931    0.334889    0.568414    0.916021    0.323663\n",
       "min      3.618614    2.237470    3.896196    7.327308    3.958051\n",
       "25%      5.854597    2.646748    4.475454    7.751944    4.235860\n",
       "50%      9.300107    2.972522    5.335828    7.983537    4.407367\n",
       "75%      9.474627    3.196471    5.536899    9.510640    4.789108\n",
       "max      9.780196    3.643408    5.982479   10.478279    5.297492"
      ]
     },
     "metadata": {},
     "output_type": "display_data"
    },
    {
     "data": {
      "text/plain": [
       "PosixPath('/home/miltondp/projects/labs/greenelab/phenoplier/base/results/data_transformations/umap/umap-z_score_std-diseases_only-smultixcan-efo_partial-mashr-zscores-metric_euclidean-n_components_20-n_neighbors_15-random_state_0.pkl')"
      ]
     },
     "metadata": {},
     "output_type": "display_data"
    },
    {
     "name": "stdout",
     "output_type": "stream",
     "text": [
      "\n",
      "\n",
      "# components: 30\n"
     ]
    },
    {
     "data": {
      "text/plain": [
       "\"UMAP options: {'n_components': 30, 'metric': 'euclidean', 'n_neighbors': 15, 'random_state': 0}\""
      ]
     },
     "metadata": {},
     "output_type": "display_data"
    },
    {
     "data": {
      "text/plain": [
       "(538, 30)"
      ]
     },
     "metadata": {},
     "output_type": "display_data"
    },
    {
     "data": {
      "text/html": [
       "<div>\n",
       "<style scoped>\n",
       "    .dataframe tbody tr th:only-of-type {\n",
       "        vertical-align: middle;\n",
       "    }\n",
       "\n",
       "    .dataframe tbody tr th {\n",
       "        vertical-align: top;\n",
       "    }\n",
       "\n",
       "    .dataframe thead th {\n",
       "        text-align: right;\n",
       "    }\n",
       "</style>\n",
       "<table border=\"1\" class=\"dataframe\">\n",
       "  <thead>\n",
       "    <tr style=\"text-align: right;\">\n",
       "      <th></th>\n",
       "      <th>UMAP1</th>\n",
       "      <th>UMAP2</th>\n",
       "      <th>UMAP3</th>\n",
       "      <th>UMAP4</th>\n",
       "      <th>UMAP5</th>\n",
       "    </tr>\n",
       "  </thead>\n",
       "  <tbody>\n",
       "    <tr>\n",
       "      <th>count</th>\n",
       "      <td>538.000000</td>\n",
       "      <td>538.000000</td>\n",
       "      <td>538.000000</td>\n",
       "      <td>538.000000</td>\n",
       "      <td>538.000000</td>\n",
       "    </tr>\n",
       "    <tr>\n",
       "      <th>mean</th>\n",
       "      <td>7.562059</td>\n",
       "      <td>1.884322</td>\n",
       "      <td>3.802493</td>\n",
       "      <td>8.563410</td>\n",
       "      <td>5.143482</td>\n",
       "    </tr>\n",
       "    <tr>\n",
       "      <th>std</th>\n",
       "      <td>1.568490</td>\n",
       "      <td>0.237603</td>\n",
       "      <td>0.577048</td>\n",
       "      <td>0.577803</td>\n",
       "      <td>0.628588</td>\n",
       "    </tr>\n",
       "    <tr>\n",
       "      <th>min</th>\n",
       "      <td>3.993982</td>\n",
       "      <td>1.308651</td>\n",
       "      <td>2.977509</td>\n",
       "      <td>7.828005</td>\n",
       "      <td>4.385872</td>\n",
       "    </tr>\n",
       "    <tr>\n",
       "      <th>25%</th>\n",
       "      <td>5.672941</td>\n",
       "      <td>1.709219</td>\n",
       "      <td>3.366018</td>\n",
       "      <td>8.125050</td>\n",
       "      <td>4.684777</td>\n",
       "    </tr>\n",
       "    <tr>\n",
       "      <th>50%</th>\n",
       "      <td>8.486971</td>\n",
       "      <td>1.881908</td>\n",
       "      <td>3.532596</td>\n",
       "      <td>8.281985</td>\n",
       "      <td>4.823236</td>\n",
       "    </tr>\n",
       "    <tr>\n",
       "      <th>75%</th>\n",
       "      <td>8.655480</td>\n",
       "      <td>2.065340</td>\n",
       "      <td>4.432286</td>\n",
       "      <td>9.253338</td>\n",
       "      <td>5.832460</td>\n",
       "    </tr>\n",
       "    <tr>\n",
       "      <th>max</th>\n",
       "      <td>8.970595</td>\n",
       "      <td>2.463670</td>\n",
       "      <td>5.120800</td>\n",
       "      <td>9.755330</td>\n",
       "      <td>6.648346</td>\n",
       "    </tr>\n",
       "  </tbody>\n",
       "</table>\n",
       "</div>"
      ],
      "text/plain": [
       "            UMAP1       UMAP2       UMAP3       UMAP4       UMAP5\n",
       "count  538.000000  538.000000  538.000000  538.000000  538.000000\n",
       "mean     7.562059    1.884322    3.802493    8.563410    5.143482\n",
       "std      1.568490    0.237603    0.577048    0.577803    0.628588\n",
       "min      3.993982    1.308651    2.977509    7.828005    4.385872\n",
       "25%      5.672941    1.709219    3.366018    8.125050    4.684777\n",
       "50%      8.486971    1.881908    3.532596    8.281985    4.823236\n",
       "75%      8.655480    2.065340    4.432286    9.253338    5.832460\n",
       "max      8.970595    2.463670    5.120800    9.755330    6.648346"
      ]
     },
     "metadata": {},
     "output_type": "display_data"
    },
    {
     "data": {
      "text/plain": [
       "PosixPath('/home/miltondp/projects/labs/greenelab/phenoplier/base/results/data_transformations/umap/umap-z_score_std-diseases_only-smultixcan-efo_partial-mashr-zscores-metric_euclidean-n_components_30-n_neighbors_15-random_state_0.pkl')"
      ]
     },
     "metadata": {},
     "output_type": "display_data"
    },
    {
     "name": "stdout",
     "output_type": "stream",
     "text": [
      "\n",
      "\n",
      "# components: 40\n"
     ]
    },
    {
     "data": {
      "text/plain": [
       "\"UMAP options: {'n_components': 40, 'metric': 'euclidean', 'n_neighbors': 15, 'random_state': 0}\""
      ]
     },
     "metadata": {},
     "output_type": "display_data"
    },
    {
     "data": {
      "text/plain": [
       "(538, 40)"
      ]
     },
     "metadata": {},
     "output_type": "display_data"
    },
    {
     "data": {
      "text/html": [
       "<div>\n",
       "<style scoped>\n",
       "    .dataframe tbody tr th:only-of-type {\n",
       "        vertical-align: middle;\n",
       "    }\n",
       "\n",
       "    .dataframe tbody tr th {\n",
       "        vertical-align: top;\n",
       "    }\n",
       "\n",
       "    .dataframe thead th {\n",
       "        text-align: right;\n",
       "    }\n",
       "</style>\n",
       "<table border=\"1\" class=\"dataframe\">\n",
       "  <thead>\n",
       "    <tr style=\"text-align: right;\">\n",
       "      <th></th>\n",
       "      <th>UMAP1</th>\n",
       "      <th>UMAP2</th>\n",
       "      <th>UMAP3</th>\n",
       "      <th>UMAP4</th>\n",
       "      <th>UMAP5</th>\n",
       "    </tr>\n",
       "  </thead>\n",
       "  <tbody>\n",
       "    <tr>\n",
       "      <th>count</th>\n",
       "      <td>538.000000</td>\n",
       "      <td>538.000000</td>\n",
       "      <td>538.000000</td>\n",
       "      <td>538.000000</td>\n",
       "      <td>538.000000</td>\n",
       "    </tr>\n",
       "    <tr>\n",
       "      <th>mean</th>\n",
       "      <td>7.266353</td>\n",
       "      <td>2.663847</td>\n",
       "      <td>4.668249</td>\n",
       "      <td>8.397497</td>\n",
       "      <td>5.956469</td>\n",
       "    </tr>\n",
       "    <tr>\n",
       "      <th>std</th>\n",
       "      <td>1.625993</td>\n",
       "      <td>0.305332</td>\n",
       "      <td>0.130400</td>\n",
       "      <td>0.360706</td>\n",
       "      <td>0.477562</td>\n",
       "    </tr>\n",
       "    <tr>\n",
       "      <th>min</th>\n",
       "      <td>3.646526</td>\n",
       "      <td>1.772859</td>\n",
       "      <td>4.400087</td>\n",
       "      <td>7.721803</td>\n",
       "      <td>4.973301</td>\n",
       "    </tr>\n",
       "    <tr>\n",
       "      <th>25%</th>\n",
       "      <td>5.330475</td>\n",
       "      <td>2.439738</td>\n",
       "      <td>4.570608</td>\n",
       "      <td>7.990496</td>\n",
       "      <td>5.413934</td>\n",
       "    </tr>\n",
       "    <tr>\n",
       "      <th>50%</th>\n",
       "      <td>8.223419</td>\n",
       "      <td>2.745021</td>\n",
       "      <td>4.656929</td>\n",
       "      <td>8.509551</td>\n",
       "      <td>6.113065</td>\n",
       "    </tr>\n",
       "    <tr>\n",
       "      <th>75%</th>\n",
       "      <td>8.404471</td>\n",
       "      <td>2.868153</td>\n",
       "      <td>4.742877</td>\n",
       "      <td>8.679117</td>\n",
       "      <td>6.327758</td>\n",
       "    </tr>\n",
       "    <tr>\n",
       "      <th>max</th>\n",
       "      <td>8.891572</td>\n",
       "      <td>3.254819</td>\n",
       "      <td>5.036730</td>\n",
       "      <td>9.013394</td>\n",
       "      <td>6.695738</td>\n",
       "    </tr>\n",
       "  </tbody>\n",
       "</table>\n",
       "</div>"
      ],
      "text/plain": [
       "            UMAP1       UMAP2       UMAP3       UMAP4       UMAP5\n",
       "count  538.000000  538.000000  538.000000  538.000000  538.000000\n",
       "mean     7.266353    2.663847    4.668249    8.397497    5.956469\n",
       "std      1.625993    0.305332    0.130400    0.360706    0.477562\n",
       "min      3.646526    1.772859    4.400087    7.721803    4.973301\n",
       "25%      5.330475    2.439738    4.570608    7.990496    5.413934\n",
       "50%      8.223419    2.745021    4.656929    8.509551    6.113065\n",
       "75%      8.404471    2.868153    4.742877    8.679117    6.327758\n",
       "max      8.891572    3.254819    5.036730    9.013394    6.695738"
      ]
     },
     "metadata": {},
     "output_type": "display_data"
    },
    {
     "data": {
      "text/plain": [
       "PosixPath('/home/miltondp/projects/labs/greenelab/phenoplier/base/results/data_transformations/umap/umap-z_score_std-diseases_only-smultixcan-efo_partial-mashr-zscores-metric_euclidean-n_components_40-n_neighbors_15-random_state_0.pkl')"
      ]
     },
     "metadata": {},
     "output_type": "display_data"
    },
    {
     "name": "stdout",
     "output_type": "stream",
     "text": [
      "\n",
      "\n",
      "# components: 50\n"
     ]
    },
    {
     "data": {
      "text/plain": [
       "\"UMAP options: {'n_components': 50, 'metric': 'euclidean', 'n_neighbors': 15, 'random_state': 0}\""
      ]
     },
     "metadata": {},
     "output_type": "display_data"
    },
    {
     "data": {
      "text/plain": [
       "(538, 50)"
      ]
     },
     "metadata": {},
     "output_type": "display_data"
    },
    {
     "data": {
      "text/html": [
       "<div>\n",
       "<style scoped>\n",
       "    .dataframe tbody tr th:only-of-type {\n",
       "        vertical-align: middle;\n",
       "    }\n",
       "\n",
       "    .dataframe tbody tr th {\n",
       "        vertical-align: top;\n",
       "    }\n",
       "\n",
       "    .dataframe thead th {\n",
       "        text-align: right;\n",
       "    }\n",
       "</style>\n",
       "<table border=\"1\" class=\"dataframe\">\n",
       "  <thead>\n",
       "    <tr style=\"text-align: right;\">\n",
       "      <th></th>\n",
       "      <th>UMAP1</th>\n",
       "      <th>UMAP2</th>\n",
       "      <th>UMAP3</th>\n",
       "      <th>UMAP4</th>\n",
       "      <th>UMAP5</th>\n",
       "    </tr>\n",
       "  </thead>\n",
       "  <tbody>\n",
       "    <tr>\n",
       "      <th>count</th>\n",
       "      <td>538.000000</td>\n",
       "      <td>538.000000</td>\n",
       "      <td>538.000000</td>\n",
       "      <td>538.000000</td>\n",
       "      <td>538.000000</td>\n",
       "    </tr>\n",
       "    <tr>\n",
       "      <th>mean</th>\n",
       "      <td>7.731828</td>\n",
       "      <td>2.548878</td>\n",
       "      <td>4.497630</td>\n",
       "      <td>9.170915</td>\n",
       "      <td>5.277064</td>\n",
       "    </tr>\n",
       "    <tr>\n",
       "      <th>std</th>\n",
       "      <td>2.057031</td>\n",
       "      <td>0.306816</td>\n",
       "      <td>0.293413</td>\n",
       "      <td>0.212390</td>\n",
       "      <td>0.106116</td>\n",
       "    </tr>\n",
       "    <tr>\n",
       "      <th>min</th>\n",
       "      <td>3.192575</td>\n",
       "      <td>1.778922</td>\n",
       "      <td>3.808914</td>\n",
       "      <td>8.732730</td>\n",
       "      <td>5.003058</td>\n",
       "    </tr>\n",
       "    <tr>\n",
       "      <th>25%</th>\n",
       "      <td>5.244747</td>\n",
       "      <td>2.266116</td>\n",
       "      <td>4.192042</td>\n",
       "      <td>9.010317</td>\n",
       "      <td>5.203112</td>\n",
       "    </tr>\n",
       "    <tr>\n",
       "      <th>50%</th>\n",
       "      <td>8.982694</td>\n",
       "      <td>2.625825</td>\n",
       "      <td>4.607757</td>\n",
       "      <td>9.139885</td>\n",
       "      <td>5.261964</td>\n",
       "    </tr>\n",
       "    <tr>\n",
       "      <th>75%</th>\n",
       "      <td>9.158877</td>\n",
       "      <td>2.798548</td>\n",
       "      <td>4.726458</td>\n",
       "      <td>9.336854</td>\n",
       "      <td>5.350678</td>\n",
       "    </tr>\n",
       "    <tr>\n",
       "      <th>max</th>\n",
       "      <td>9.570532</td>\n",
       "      <td>3.100802</td>\n",
       "      <td>4.948246</td>\n",
       "      <td>9.702306</td>\n",
       "      <td>5.596568</td>\n",
       "    </tr>\n",
       "  </tbody>\n",
       "</table>\n",
       "</div>"
      ],
      "text/plain": [
       "            UMAP1       UMAP2       UMAP3       UMAP4       UMAP5\n",
       "count  538.000000  538.000000  538.000000  538.000000  538.000000\n",
       "mean     7.731828    2.548878    4.497630    9.170915    5.277064\n",
       "std      2.057031    0.306816    0.293413    0.212390    0.106116\n",
       "min      3.192575    1.778922    3.808914    8.732730    5.003058\n",
       "25%      5.244747    2.266116    4.192042    9.010317    5.203112\n",
       "50%      8.982694    2.625825    4.607757    9.139885    5.261964\n",
       "75%      9.158877    2.798548    4.726458    9.336854    5.350678\n",
       "max      9.570532    3.100802    4.948246    9.702306    5.596568"
      ]
     },
     "metadata": {},
     "output_type": "display_data"
    },
    {
     "data": {
      "text/plain": [
       "PosixPath('/home/miltondp/projects/labs/greenelab/phenoplier/base/results/data_transformations/umap/umap-z_score_std-diseases_only-smultixcan-efo_partial-mashr-zscores-metric_euclidean-n_components_50-n_neighbors_15-random_state_0.pkl')"
      ]
     },
     "metadata": {},
     "output_type": "display_data"
    },
    {
     "name": "stdout",
     "output_type": "stream",
     "text": [
      "\n",
      "\n"
     ]
    }
   ],
   "source": [
    "# for n_comp, n_neigh in product(DR_OPTIONS['n_components'], DR_OPTIONS['n_neighbors']):\n",
    "for n_comp in DR_OPTIONS['n_components']:\n",
    "    print(f'# components: {n_comp}')\n",
    "    \n",
    "    options = ALL_OPTIONS.copy()\n",
    "    options['n_components'] = n_comp\n",
    "    \n",
    "    dr_data = get_umap_proj(data, options)\n",
    "    \n",
    "    display(dr_data.shape)\n",
    "    assert dr_data.shape == (data.shape[0], n_comp)\n",
    "    \n",
    "    display(dr_data.iloc[:, 0:5].describe())\n",
    "    \n",
    "    # save\n",
    "    output_file = Path(\n",
    "        RESULTS_DIR,\n",
    "        generate_result_set_name(\n",
    "            options,\n",
    "            prefix=f'umap-{input_filepath_stem}-',\n",
    "            suffix='.pkl'\n",
    "        )\n",
    "    ).resolve()\n",
    "    display(output_file)\n",
    "    \n",
    "    dr_data.to_pickle(output_file)\n",
    "    \n",
    "    print('\\n')"
   ]
  },
  {
   "cell_type": "code",
   "execution_count": null,
   "metadata": {
    "papermill": {
     "duration": 0.014425,
     "end_time": "2020-11-24T17:19:43.842183",
     "exception": false,
     "start_time": "2020-11-24T17:19:43.827758",
     "status": "completed"
    },
    "tags": []
   },
   "outputs": [],
   "source": []
  }
 ],
 "metadata": {
  "kernelspec": {
   "display_name": "Python 3",
   "language": "python",
   "name": "python3"
  },
  "language_info": {
   "codemirror_mode": {
    "name": "ipython",
    "version": 3
   },
   "file_extension": ".py",
   "mimetype": "text/x-python",
   "name": "python",
   "nbconvert_exporter": "python",
   "pygments_lexer": "ipython3",
   "version": "3.8.6"
  },
  "papermill": {
   "default_parameters": {},
   "duration": 22.173052,
   "end_time": "2020-11-24T17:19:44.464070",
   "environment_variables": {},
   "exception": null,
   "input_path": "10_data_transformations/001_02-umap.ipynb",
   "output_path": "10_data_transformations/001_02-umap.run.ipynb",
   "parameters": {},
   "start_time": "2020-11-24T17:19:22.291018",
   "version": "2.2.2"
  },
  "toc-autonumbering": true,
  "toc-showcode": false,
  "toc-showmarkdowntxt": false,
  "toc-showtags": false
 },
 "nbformat": 4,
 "nbformat_minor": 4
}