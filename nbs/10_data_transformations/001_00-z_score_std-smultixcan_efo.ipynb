{
 "cells": [
  {
   "cell_type": "markdown",
   "metadata": {
    "papermill": {
     "duration": 0.013819,
     "end_time": "2020-11-30T18:33:32.392837",
     "exception": false,
     "start_time": "2020-11-30T18:33:32.379018",
     "status": "completed"
    },
    "tags": []
   },
   "source": [
    "# Description"
   ]
  },
  {
   "cell_type": "markdown",
   "metadata": {
    "papermill": {
     "duration": 0.009126,
     "end_time": "2020-11-30T18:33:32.411397",
     "exception": false,
     "start_time": "2020-11-30T18:33:32.402271",
     "status": "completed"
    },
    "tags": []
   },
   "source": [
    "It standardize (z-score) the raw S-MultiXcan results (no projection into the latent space). It uses the genes present in the MultiPLIER models only."
   ]
  },
  {
   "cell_type": "markdown",
   "metadata": {
    "papermill": {
     "duration": 0.009273,
     "end_time": "2020-11-30T18:33:32.429948",
     "exception": false,
     "start_time": "2020-11-30T18:33:32.420675",
     "status": "completed"
    },
    "tags": []
   },
   "source": [
    "# Modules loading"
   ]
  },
  {
   "cell_type": "code",
   "execution_count": 1,
   "metadata": {
    "execution": {
     "iopub.execute_input": "2020-11-30T18:33:32.451769Z",
     "iopub.status.busy": "2020-11-30T18:33:32.451398Z",
     "iopub.status.idle": "2020-11-30T18:33:32.458981Z",
     "shell.execute_reply": "2020-11-30T18:33:32.458607Z"
    },
    "papermill": {
     "duration": 0.020014,
     "end_time": "2020-11-30T18:33:32.459104",
     "exception": false,
     "start_time": "2020-11-30T18:33:32.439090",
     "status": "completed"
    },
    "tags": []
   },
   "outputs": [],
   "source": [
    "%load_ext autoreload\n",
    "%autoreload 2"
   ]
  },
  {
   "cell_type": "code",
   "execution_count": 2,
   "metadata": {
    "execution": {
     "iopub.execute_input": "2020-11-30T18:33:32.481705Z",
     "iopub.status.busy": "2020-11-30T18:33:32.481328Z",
     "iopub.status.idle": "2020-11-30T18:33:32.925243Z",
     "shell.execute_reply": "2020-11-30T18:33:32.924605Z"
    },
    "papermill": {
     "duration": 0.455572,
     "end_time": "2020-11-30T18:33:32.925345",
     "exception": false,
     "start_time": "2020-11-30T18:33:32.469773",
     "status": "completed"
    },
    "tags": []
   },
   "outputs": [],
   "source": [
    "from pathlib import Path\n",
    "from IPython.display import display\n",
    "\n",
    "import numpy as np\n",
    "import pandas as pd\n",
    "from sklearn.preprocessing import scale\n",
    "\n",
    "import conf"
   ]
  },
  {
   "cell_type": "markdown",
   "metadata": {
    "papermill": {
     "duration": 0.009278,
     "end_time": "2020-11-30T18:33:32.945348",
     "exception": false,
     "start_time": "2020-11-30T18:33:32.936070",
     "status": "completed"
    },
    "tags": []
   },
   "source": [
    "# Settings"
   ]
  },
  {
   "cell_type": "markdown",
   "metadata": {
    "papermill": {
     "duration": 0.009162,
     "end_time": "2020-11-30T18:33:32.963772",
     "exception": false,
     "start_time": "2020-11-30T18:33:32.954610",
     "status": "completed"
    },
    "tags": []
   },
   "source": [
    "## Input data"
   ]
  },
  {
   "cell_type": "code",
   "execution_count": 3,
   "metadata": {
    "execution": {
     "iopub.execute_input": "2020-11-30T18:33:32.985058Z",
     "iopub.status.busy": "2020-11-30T18:33:32.984647Z",
     "iopub.status.idle": "2020-11-30T18:33:32.999314Z",
     "shell.execute_reply": "2020-11-30T18:33:32.998952Z"
    },
    "papermill": {
     "duration": 0.026288,
     "end_time": "2020-11-30T18:33:32.999402",
     "exception": false,
     "start_time": "2020-11-30T18:33:32.973114",
     "status": "completed"
    },
    "tags": []
   },
   "outputs": [
    {
     "data": {
      "text/plain": [
       "PosixPath('/home/miltondp/projects/labs/greenelab/phenoplier/base/data/phenomexcan/gene_assoc/smultixcan-efo_partial-mashr-zscores.pkl')"
      ]
     },
     "metadata": {},
     "output_type": "display_data"
    },
    {
     "data": {
      "text/plain": [
       "'smultixcan-efo_partial-mashr-zscores'"
      ]
     },
     "metadata": {},
     "output_type": "display_data"
    }
   ],
   "source": [
    "INPUT_FILEPATH = Path(\n",
    "    conf.PHENOMEXCAN[\"SMULTIXCAN_EFO_PARTIAL_MASHR_ZSCORES_FILE\"]\n",
    ").resolve()\n",
    "display(INPUT_FILEPATH)\n",
    "\n",
    "input_filepath_stem = INPUT_FILEPATH.stem\n",
    "display(input_filepath_stem)"
   ]
  },
  {
   "cell_type": "markdown",
   "metadata": {
    "papermill": {
     "duration": 0.010001,
     "end_time": "2020-11-30T18:33:33.020108",
     "exception": false,
     "start_time": "2020-11-30T18:33:33.010107",
     "status": "completed"
    },
    "tags": []
   },
   "source": [
    "## Output folder"
   ]
  },
  {
   "cell_type": "code",
   "execution_count": 4,
   "metadata": {
    "execution": {
     "iopub.execute_input": "2020-11-30T18:33:33.042570Z",
     "iopub.status.busy": "2020-11-30T18:33:33.042208Z",
     "iopub.status.idle": "2020-11-30T18:33:33.052271Z",
     "shell.execute_reply": "2020-11-30T18:33:33.051889Z"
    },
    "papermill": {
     "duration": 0.02242,
     "end_time": "2020-11-30T18:33:33.052361",
     "exception": false,
     "start_time": "2020-11-30T18:33:33.029941",
     "status": "completed"
    },
    "tags": []
   },
   "outputs": [
    {
     "data": {
      "text/plain": [
       "PosixPath('/home/miltondp/projects/labs/greenelab/phenoplier/base/results/data_transformations/z_score_std')"
      ]
     },
     "metadata": {},
     "output_type": "display_data"
    }
   ],
   "source": [
    "# output dir for this notebook\n",
    "RESULTS_DIR = Path(\n",
    "    conf.RESULTS[\"DATA_TRANSFORMATIONS_DIR\"],\n",
    "    'z_score_std'\n",
    ").resolve()\n",
    "RESULTS_DIR.mkdir(parents=True, exist_ok=True)\n",
    "\n",
    "display(RESULTS_DIR)"
   ]
  },
  {
   "cell_type": "markdown",
   "metadata": {
    "papermill": {
     "duration": 0.009951,
     "end_time": "2020-11-30T18:33:33.072856",
     "exception": false,
     "start_time": "2020-11-30T18:33:33.062905",
     "status": "completed"
    },
    "tags": []
   },
   "source": [
    "# Load input file"
   ]
  },
  {
   "cell_type": "code",
   "execution_count": 5,
   "metadata": {
    "execution": {
     "iopub.execute_input": "2020-11-30T18:33:33.095947Z",
     "iopub.status.busy": "2020-11-30T18:33:33.095582Z",
     "iopub.status.idle": "2020-11-30T18:33:33.307900Z",
     "shell.execute_reply": "2020-11-30T18:33:33.307511Z"
    },
    "papermill": {
     "duration": 0.225048,
     "end_time": "2020-11-30T18:33:33.308005",
     "exception": false,
     "start_time": "2020-11-30T18:33:33.082957",
     "status": "completed"
    },
    "tags": []
   },
   "outputs": [],
   "source": [
    "data = pd.read_pickle(INPUT_FILEPATH).T"
   ]
  },
  {
   "cell_type": "code",
   "execution_count": 6,
   "metadata": {
    "execution": {
     "iopub.execute_input": "2020-11-30T18:33:33.333837Z",
     "iopub.status.busy": "2020-11-30T18:33:33.333428Z",
     "iopub.status.idle": "2020-11-30T18:33:33.343872Z",
     "shell.execute_reply": "2020-11-30T18:33:33.343536Z"
    },
    "papermill": {
     "duration": 0.024134,
     "end_time": "2020-11-30T18:33:33.343970",
     "exception": false,
     "start_time": "2020-11-30T18:33:33.319836",
     "status": "completed"
    },
    "tags": []
   },
   "outputs": [
    {
     "data": {
      "text/plain": [
       "(3749, 22515)"
      ]
     },
     "metadata": {},
     "output_type": "display_data"
    }
   ],
   "source": [
    "display(data.shape)"
   ]
  },
  {
   "cell_type": "code",
   "execution_count": 7,
   "metadata": {
    "execution": {
     "iopub.execute_input": "2020-11-30T18:33:33.368521Z",
     "iopub.status.busy": "2020-11-30T18:33:33.368165Z",
     "iopub.status.idle": "2020-11-30T18:33:33.393048Z",
     "shell.execute_reply": "2020-11-30T18:33:33.393338Z"
    },
    "papermill": {
     "duration": 0.037881,
     "end_time": "2020-11-30T18:33:33.393451",
     "exception": false,
     "start_time": "2020-11-30T18:33:33.355570",
     "status": "completed"
    },
    "tags": []
   },
   "outputs": [
    {
     "data": {
      "text/html": [
       "<div>\n",
       "<style scoped>\n",
       "    .dataframe tbody tr th:only-of-type {\n",
       "        vertical-align: middle;\n",
       "    }\n",
       "\n",
       "    .dataframe tbody tr th {\n",
       "        vertical-align: top;\n",
       "    }\n",
       "\n",
       "    .dataframe thead th {\n",
       "        text-align: right;\n",
       "    }\n",
       "</style>\n",
       "<table border=\"1\" class=\"dataframe\">\n",
       "  <thead>\n",
       "    <tr style=\"text-align: right;\">\n",
       "      <th>gene_name</th>\n",
       "      <th>ENSG00000000419</th>\n",
       "      <th>ENSG00000000457</th>\n",
       "      <th>ENSG00000000460</th>\n",
       "      <th>ENSG00000000938</th>\n",
       "      <th>ENSG00000000971</th>\n",
       "      <th>ENSG00000001036</th>\n",
       "      <th>ENSG00000001084</th>\n",
       "      <th>ENSG00000001167</th>\n",
       "      <th>ENSG00000001460</th>\n",
       "      <th>ENSG00000001461</th>\n",
       "      <th>...</th>\n",
       "      <th>ENSG00000284240</th>\n",
       "      <th>ENSG00000284308</th>\n",
       "      <th>ENSG00000284395</th>\n",
       "      <th>ENSG00000284413</th>\n",
       "      <th>ENSG00000284418</th>\n",
       "      <th>ENSG00000284430</th>\n",
       "      <th>ENSG00000284452</th>\n",
       "      <th>ENSG00000284513</th>\n",
       "      <th>ENSG00000284526</th>\n",
       "      <th>ENSG00000284552</th>\n",
       "    </tr>\n",
       "  </thead>\n",
       "  <tbody>\n",
       "    <tr>\n",
       "      <th>100001_raw-Food_weight</th>\n",
       "      <td>1.145442</td>\n",
       "      <td>0.618066</td>\n",
       "      <td>0.515724</td>\n",
       "      <td>0.280781</td>\n",
       "      <td>0.548127</td>\n",
       "      <td>0.045587</td>\n",
       "      <td>0.329995</td>\n",
       "      <td>0.109494</td>\n",
       "      <td>1.356741</td>\n",
       "      <td>1.474255</td>\n",
       "      <td>...</td>\n",
       "      <td>1.490410</td>\n",
       "      <td>0.230329</td>\n",
       "      <td>0.596503</td>\n",
       "      <td>0.519733</td>\n",
       "      <td>2.285074</td>\n",
       "      <td>0.124980</td>\n",
       "      <td>1.587903</td>\n",
       "      <td>1.522281</td>\n",
       "      <td>0.150938</td>\n",
       "      <td>1.010143</td>\n",
       "    </tr>\n",
       "    <tr>\n",
       "      <th>100002_raw-Energy</th>\n",
       "      <td>0.724557</td>\n",
       "      <td>1.028131</td>\n",
       "      <td>0.403596</td>\n",
       "      <td>0.253910</td>\n",
       "      <td>0.389877</td>\n",
       "      <td>0.197393</td>\n",
       "      <td>0.669649</td>\n",
       "      <td>0.041010</td>\n",
       "      <td>0.832120</td>\n",
       "      <td>0.954183</td>\n",
       "      <td>...</td>\n",
       "      <td>1.165679</td>\n",
       "      <td>0.111142</td>\n",
       "      <td>0.084263</td>\n",
       "      <td>1.229913</td>\n",
       "      <td>0.390190</td>\n",
       "      <td>0.505316</td>\n",
       "      <td>0.975901</td>\n",
       "      <td>1.817369</td>\n",
       "      <td>0.756393</td>\n",
       "      <td>0.729526</td>\n",
       "    </tr>\n",
       "    <tr>\n",
       "      <th>100003_raw-Protein</th>\n",
       "      <td>0.090876</td>\n",
       "      <td>2.218420</td>\n",
       "      <td>1.251359</td>\n",
       "      <td>0.879148</td>\n",
       "      <td>0.723469</td>\n",
       "      <td>0.777974</td>\n",
       "      <td>0.207873</td>\n",
       "      <td>0.536609</td>\n",
       "      <td>0.453969</td>\n",
       "      <td>1.286942</td>\n",
       "      <td>...</td>\n",
       "      <td>0.541370</td>\n",
       "      <td>0.734872</td>\n",
       "      <td>0.634674</td>\n",
       "      <td>1.316750</td>\n",
       "      <td>0.761859</td>\n",
       "      <td>1.276888</td>\n",
       "      <td>0.160988</td>\n",
       "      <td>0.346794</td>\n",
       "      <td>0.609476</td>\n",
       "      <td>0.222126</td>\n",
       "    </tr>\n",
       "    <tr>\n",
       "      <th>100004_raw-Fat</th>\n",
       "      <td>0.298165</td>\n",
       "      <td>0.762584</td>\n",
       "      <td>0.433091</td>\n",
       "      <td>0.352705</td>\n",
       "      <td>1.167250</td>\n",
       "      <td>0.578435</td>\n",
       "      <td>0.738983</td>\n",
       "      <td>0.565245</td>\n",
       "      <td>0.397189</td>\n",
       "      <td>0.192279</td>\n",
       "      <td>...</td>\n",
       "      <td>0.867217</td>\n",
       "      <td>0.540941</td>\n",
       "      <td>0.284347</td>\n",
       "      <td>1.661131</td>\n",
       "      <td>0.404078</td>\n",
       "      <td>1.248959</td>\n",
       "      <td>0.799771</td>\n",
       "      <td>1.443097</td>\n",
       "      <td>0.814969</td>\n",
       "      <td>0.545356</td>\n",
       "    </tr>\n",
       "    <tr>\n",
       "      <th>100005_raw-Carbohydrate</th>\n",
       "      <td>1.134347</td>\n",
       "      <td>0.934418</td>\n",
       "      <td>0.413466</td>\n",
       "      <td>0.051846</td>\n",
       "      <td>0.315952</td>\n",
       "      <td>0.046237</td>\n",
       "      <td>1.113674</td>\n",
       "      <td>0.319842</td>\n",
       "      <td>0.965217</td>\n",
       "      <td>0.919779</td>\n",
       "      <td>...</td>\n",
       "      <td>1.747265</td>\n",
       "      <td>0.496178</td>\n",
       "      <td>0.144053</td>\n",
       "      <td>0.701817</td>\n",
       "      <td>0.827677</td>\n",
       "      <td>0.587188</td>\n",
       "      <td>1.089338</td>\n",
       "      <td>2.001502</td>\n",
       "      <td>1.362716</td>\n",
       "      <td>1.490030</td>\n",
       "    </tr>\n",
       "  </tbody>\n",
       "</table>\n",
       "<p>5 rows × 22515 columns</p>\n",
       "</div>"
      ],
      "text/plain": [
       "gene_name                ENSG00000000419  ENSG00000000457  ENSG00000000460  \\\n",
       "100001_raw-Food_weight          1.145442         0.618066         0.515724   \n",
       "100002_raw-Energy               0.724557         1.028131         0.403596   \n",
       "100003_raw-Protein              0.090876         2.218420         1.251359   \n",
       "100004_raw-Fat                  0.298165         0.762584         0.433091   \n",
       "100005_raw-Carbohydrate         1.134347         0.934418         0.413466   \n",
       "\n",
       "gene_name                ENSG00000000938  ENSG00000000971  ENSG00000001036  \\\n",
       "100001_raw-Food_weight          0.280781         0.548127         0.045587   \n",
       "100002_raw-Energy               0.253910         0.389877         0.197393   \n",
       "100003_raw-Protein              0.879148         0.723469         0.777974   \n",
       "100004_raw-Fat                  0.352705         1.167250         0.578435   \n",
       "100005_raw-Carbohydrate         0.051846         0.315952         0.046237   \n",
       "\n",
       "gene_name                ENSG00000001084  ENSG00000001167  ENSG00000001460  \\\n",
       "100001_raw-Food_weight          0.329995         0.109494         1.356741   \n",
       "100002_raw-Energy               0.669649         0.041010         0.832120   \n",
       "100003_raw-Protein              0.207873         0.536609         0.453969   \n",
       "100004_raw-Fat                  0.738983         0.565245         0.397189   \n",
       "100005_raw-Carbohydrate         1.113674         0.319842         0.965217   \n",
       "\n",
       "gene_name                ENSG00000001461  ...  ENSG00000284240  \\\n",
       "100001_raw-Food_weight          1.474255  ...         1.490410   \n",
       "100002_raw-Energy               0.954183  ...         1.165679   \n",
       "100003_raw-Protein              1.286942  ...         0.541370   \n",
       "100004_raw-Fat                  0.192279  ...         0.867217   \n",
       "100005_raw-Carbohydrate         0.919779  ...         1.747265   \n",
       "\n",
       "gene_name                ENSG00000284308  ENSG00000284395  ENSG00000284413  \\\n",
       "100001_raw-Food_weight          0.230329         0.596503         0.519733   \n",
       "100002_raw-Energy               0.111142         0.084263         1.229913   \n",
       "100003_raw-Protein              0.734872         0.634674         1.316750   \n",
       "100004_raw-Fat                  0.540941         0.284347         1.661131   \n",
       "100005_raw-Carbohydrate         0.496178         0.144053         0.701817   \n",
       "\n",
       "gene_name                ENSG00000284418  ENSG00000284430  ENSG00000284452  \\\n",
       "100001_raw-Food_weight          2.285074         0.124980         1.587903   \n",
       "100002_raw-Energy               0.390190         0.505316         0.975901   \n",
       "100003_raw-Protein              0.761859         1.276888         0.160988   \n",
       "100004_raw-Fat                  0.404078         1.248959         0.799771   \n",
       "100005_raw-Carbohydrate         0.827677         0.587188         1.089338   \n",
       "\n",
       "gene_name                ENSG00000284513  ENSG00000284526  ENSG00000284552  \n",
       "100001_raw-Food_weight          1.522281         0.150938         1.010143  \n",
       "100002_raw-Energy               1.817369         0.756393         0.729526  \n",
       "100003_raw-Protein              0.346794         0.609476         0.222126  \n",
       "100004_raw-Fat                  1.443097         0.814969         0.545356  \n",
       "100005_raw-Carbohydrate         2.001502         1.362716         1.490030  \n",
       "\n",
       "[5 rows x 22515 columns]"
      ]
     },
     "metadata": {},
     "output_type": "display_data"
    }
   ],
   "source": [
    "display(data.head())"
   ]
  },
  {
   "cell_type": "markdown",
   "metadata": {
    "papermill": {
     "duration": 0.011465,
     "end_time": "2020-11-30T18:33:33.416742",
     "exception": false,
     "start_time": "2020-11-30T18:33:33.405277",
     "status": "completed"
    },
    "tags": []
   },
   "source": [
    "# Keep only genes in the MultiPLIER model"
   ]
  },
  {
   "cell_type": "code",
   "execution_count": 8,
   "metadata": {
    "execution": {
     "iopub.execute_input": "2020-11-30T18:33:33.440997Z",
     "iopub.status.busy": "2020-11-30T18:33:33.440588Z",
     "iopub.status.idle": "2020-11-30T18:33:33.627136Z",
     "shell.execute_reply": "2020-11-30T18:33:33.626770Z"
    },
    "papermill": {
     "duration": 0.199417,
     "end_time": "2020-11-30T18:33:33.627234",
     "exception": false,
     "start_time": "2020-11-30T18:33:33.427817",
     "status": "completed"
    },
    "tags": []
   },
   "outputs": [],
   "source": [
    "from entity import Gene\n",
    "from multiplier import MultiplierProjection"
   ]
  },
  {
   "cell_type": "code",
   "execution_count": 9,
   "metadata": {
    "execution": {
     "iopub.execute_input": "2020-11-30T18:33:33.653615Z",
     "iopub.status.busy": "2020-11-30T18:33:33.653230Z",
     "iopub.status.idle": "2020-11-30T18:33:33.700831Z",
     "shell.execute_reply": "2020-11-30T18:33:33.700456Z"
    },
    "papermill": {
     "duration": 0.061348,
     "end_time": "2020-11-30T18:33:33.700930",
     "exception": false,
     "start_time": "2020-11-30T18:33:33.639582",
     "status": "completed"
    },
    "tags": []
   },
   "outputs": [],
   "source": [
    "multiplier_genes = \\\n",
    "    MultiplierProjection._read_model_z()\\\n",
    "    .rename(index=Gene.GENE_NAME_TO_ID_MAP).index"
   ]
  },
  {
   "cell_type": "code",
   "execution_count": 10,
   "metadata": {
    "execution": {
     "iopub.execute_input": "2020-11-30T18:33:33.727242Z",
     "iopub.status.busy": "2020-11-30T18:33:33.726867Z",
     "iopub.status.idle": "2020-11-30T18:33:33.739934Z",
     "shell.execute_reply": "2020-11-30T18:33:33.739597Z"
    },
    "papermill": {
     "duration": 0.026769,
     "end_time": "2020-11-30T18:33:33.740032",
     "exception": false,
     "start_time": "2020-11-30T18:33:33.713263",
     "status": "completed"
    },
    "tags": []
   },
   "outputs": [],
   "source": [
    "# common_genes = smultixcan_results.index.intersection(lincs_consensi_drugbank.index)\n",
    "common_genes = multiplier_genes.intersection(data.columns)"
   ]
  },
  {
   "cell_type": "code",
   "execution_count": 11,
   "metadata": {
    "execution": {
     "iopub.execute_input": "2020-11-30T18:33:33.766828Z",
     "iopub.status.busy": "2020-11-30T18:33:33.766439Z",
     "iopub.status.idle": "2020-11-30T18:33:33.776911Z",
     "shell.execute_reply": "2020-11-30T18:33:33.777209Z"
    },
    "papermill": {
     "duration": 0.024952,
     "end_time": "2020-11-30T18:33:33.777323",
     "exception": false,
     "start_time": "2020-11-30T18:33:33.752371",
     "status": "completed"
    },
    "tags": []
   },
   "outputs": [
    {
     "data": {
      "text/plain": [
       "Index(['ENSG00000183087', 'ENSG00000157227', 'ENSG00000096696',\n",
       "       'ENSG00000175130', 'ENSG00000113140', 'ENSG00000117984',\n",
       "       'ENSG00000116016', 'ENSG00000129116', 'ENSG00000134686',\n",
       "       'ENSG00000108679',\n",
       "       ...\n",
       "       'ENSG00000111716', 'ENSG00000166796', 'ENSG00000114331',\n",
       "       'ENSG00000131584', 'ENSG00000165410', 'ENSG00000172757',\n",
       "       'ENSG00000147862', 'ENSG00000008323', 'ENSG00000167083',\n",
       "       'ENSG00000149257'],\n",
       "      dtype='object', length=6452)"
      ]
     },
     "metadata": {},
     "output_type": "display_data"
    }
   ],
   "source": [
    "display(common_genes)"
   ]
  },
  {
   "cell_type": "code",
   "execution_count": 12,
   "metadata": {
    "execution": {
     "iopub.execute_input": "2020-11-30T18:33:33.805291Z",
     "iopub.status.busy": "2020-11-30T18:33:33.804931Z",
     "iopub.status.idle": "2020-11-30T18:33:33.941858Z",
     "shell.execute_reply": "2020-11-30T18:33:33.941468Z"
    },
    "papermill": {
     "duration": 0.151948,
     "end_time": "2020-11-30T18:33:33.941969",
     "exception": false,
     "start_time": "2020-11-30T18:33:33.790021",
     "status": "completed"
    },
    "tags": []
   },
   "outputs": [],
   "source": [
    "data = data[common_genes]"
   ]
  },
  {
   "cell_type": "code",
   "execution_count": 13,
   "metadata": {
    "execution": {
     "iopub.execute_input": "2020-11-30T18:33:33.973810Z",
     "iopub.status.busy": "2020-11-30T18:33:33.973366Z",
     "iopub.status.idle": "2020-11-30T18:33:33.984189Z",
     "shell.execute_reply": "2020-11-30T18:33:33.983816Z"
    },
    "papermill": {
     "duration": 0.027531,
     "end_time": "2020-11-30T18:33:33.984284",
     "exception": false,
     "start_time": "2020-11-30T18:33:33.956753",
     "status": "completed"
    },
    "tags": []
   },
   "outputs": [
    {
     "data": {
      "text/plain": [
       "(3749, 6452)"
      ]
     },
     "metadata": {},
     "output_type": "display_data"
    }
   ],
   "source": [
    "display(data.shape)"
   ]
  },
  {
   "cell_type": "code",
   "execution_count": 14,
   "metadata": {
    "execution": {
     "iopub.execute_input": "2020-11-30T18:33:34.012011Z",
     "iopub.status.busy": "2020-11-30T18:33:34.011641Z",
     "iopub.status.idle": "2020-11-30T18:33:34.049021Z",
     "shell.execute_reply": "2020-11-30T18:33:34.048584Z"
    },
    "papermill": {
     "duration": 0.051506,
     "end_time": "2020-11-30T18:33:34.049122",
     "exception": false,
     "start_time": "2020-11-30T18:33:33.997616",
     "status": "completed"
    },
    "tags": []
   },
   "outputs": [],
   "source": [
    "assert not data.isna().any().any()"
   ]
  },
  {
   "cell_type": "markdown",
   "metadata": {
    "papermill": {
     "duration": 0.01363,
     "end_time": "2020-11-30T18:33:34.076794",
     "exception": false,
     "start_time": "2020-11-30T18:33:34.063164",
     "status": "completed"
    },
    "tags": []
   },
   "source": [
    "# z-score standardization"
   ]
  },
  {
   "cell_type": "code",
   "execution_count": 15,
   "metadata": {
    "execution": {
     "iopub.execute_input": "2020-11-30T18:33:34.103556Z",
     "iopub.status.busy": "2020-11-30T18:33:34.103190Z",
     "iopub.status.idle": "2020-11-30T18:33:34.137240Z",
     "shell.execute_reply": "2020-11-30T18:33:34.136820Z"
    },
    "papermill": {
     "duration": 0.048543,
     "end_time": "2020-11-30T18:33:34.137330",
     "exception": false,
     "start_time": "2020-11-30T18:33:34.088787",
     "status": "completed"
    },
    "tags": []
   },
   "outputs": [
    {
     "data": {
      "text/html": [
       "<div>\n",
       "<style scoped>\n",
       "    .dataframe tbody tr th:only-of-type {\n",
       "        vertical-align: middle;\n",
       "    }\n",
       "\n",
       "    .dataframe tbody tr th {\n",
       "        vertical-align: top;\n",
       "    }\n",
       "\n",
       "    .dataframe thead th {\n",
       "        text-align: right;\n",
       "    }\n",
       "</style>\n",
       "<table border=\"1\" class=\"dataframe\">\n",
       "  <thead>\n",
       "    <tr style=\"text-align: right;\">\n",
       "      <th>gene_name</th>\n",
       "      <th>ENSG00000183087</th>\n",
       "      <th>ENSG00000157227</th>\n",
       "      <th>ENSG00000096696</th>\n",
       "      <th>ENSG00000175130</th>\n",
       "      <th>ENSG00000113140</th>\n",
       "      <th>ENSG00000117984</th>\n",
       "      <th>ENSG00000116016</th>\n",
       "      <th>ENSG00000129116</th>\n",
       "      <th>ENSG00000134686</th>\n",
       "      <th>ENSG00000108679</th>\n",
       "    </tr>\n",
       "  </thead>\n",
       "  <tbody>\n",
       "    <tr>\n",
       "      <th>count</th>\n",
       "      <td>3749.000000</td>\n",
       "      <td>3749.000000</td>\n",
       "      <td>3749.000000</td>\n",
       "      <td>3749.000000</td>\n",
       "      <td>3749.000000</td>\n",
       "      <td>3749.000000</td>\n",
       "      <td>3749.000000</td>\n",
       "      <td>3749.000000</td>\n",
       "      <td>3749.000000</td>\n",
       "      <td>3749.000000</td>\n",
       "    </tr>\n",
       "    <tr>\n",
       "      <th>mean</th>\n",
       "      <td>0.869024</td>\n",
       "      <td>0.850735</td>\n",
       "      <td>0.816185</td>\n",
       "      <td>0.814119</td>\n",
       "      <td>0.852497</td>\n",
       "      <td>0.808036</td>\n",
       "      <td>0.877966</td>\n",
       "      <td>0.890302</td>\n",
       "      <td>0.954453</td>\n",
       "      <td>0.840276</td>\n",
       "    </tr>\n",
       "    <tr>\n",
       "      <th>std</th>\n",
       "      <td>0.715009</td>\n",
       "      <td>0.745430</td>\n",
       "      <td>0.634833</td>\n",
       "      <td>0.611010</td>\n",
       "      <td>0.651678</td>\n",
       "      <td>0.608549</td>\n",
       "      <td>0.855598</td>\n",
       "      <td>0.673139</td>\n",
       "      <td>0.976718</td>\n",
       "      <td>0.633642</td>\n",
       "    </tr>\n",
       "    <tr>\n",
       "      <th>min</th>\n",
       "      <td>0.000168</td>\n",
       "      <td>0.000023</td>\n",
       "      <td>0.000261</td>\n",
       "      <td>0.000068</td>\n",
       "      <td>0.000300</td>\n",
       "      <td>0.000113</td>\n",
       "      <td>0.000297</td>\n",
       "      <td>0.000031</td>\n",
       "      <td>0.001149</td>\n",
       "      <td>0.000416</td>\n",
       "    </tr>\n",
       "    <tr>\n",
       "      <th>25%</th>\n",
       "      <td>0.331437</td>\n",
       "      <td>0.317697</td>\n",
       "      <td>0.337163</td>\n",
       "      <td>0.330703</td>\n",
       "      <td>0.328534</td>\n",
       "      <td>0.326538</td>\n",
       "      <td>0.348574</td>\n",
       "      <td>0.360625</td>\n",
       "      <td>0.345557</td>\n",
       "      <td>0.352286</td>\n",
       "    </tr>\n",
       "    <tr>\n",
       "      <th>50%</th>\n",
       "      <td>0.715198</td>\n",
       "      <td>0.689134</td>\n",
       "      <td>0.675318</td>\n",
       "      <td>0.689476</td>\n",
       "      <td>0.709992</td>\n",
       "      <td>0.670569</td>\n",
       "      <td>0.723682</td>\n",
       "      <td>0.749636</td>\n",
       "      <td>0.753889</td>\n",
       "      <td>0.697201</td>\n",
       "    </tr>\n",
       "    <tr>\n",
       "      <th>75%</th>\n",
       "      <td>1.242802</td>\n",
       "      <td>1.193661</td>\n",
       "      <td>1.164237</td>\n",
       "      <td>1.160527</td>\n",
       "      <td>1.238855</td>\n",
       "      <td>1.165987</td>\n",
       "      <td>1.248958</td>\n",
       "      <td>1.288451</td>\n",
       "      <td>1.268230</td>\n",
       "      <td>1.204855</td>\n",
       "    </tr>\n",
       "    <tr>\n",
       "      <th>max</th>\n",
       "      <td>7.466818</td>\n",
       "      <td>7.004718</td>\n",
       "      <td>8.472557</td>\n",
       "      <td>4.231093</td>\n",
       "      <td>4.498332</td>\n",
       "      <td>4.371566</td>\n",
       "      <td>19.356913</td>\n",
       "      <td>6.605218</td>\n",
       "      <td>10.519923</td>\n",
       "      <td>4.731186</td>\n",
       "    </tr>\n",
       "  </tbody>\n",
       "</table>\n",
       "</div>"
      ],
      "text/plain": [
       "gene_name  ENSG00000183087  ENSG00000157227  ENSG00000096696  ENSG00000175130  \\\n",
       "count          3749.000000      3749.000000      3749.000000      3749.000000   \n",
       "mean              0.869024         0.850735         0.816185         0.814119   \n",
       "std               0.715009         0.745430         0.634833         0.611010   \n",
       "min               0.000168         0.000023         0.000261         0.000068   \n",
       "25%               0.331437         0.317697         0.337163         0.330703   \n",
       "50%               0.715198         0.689134         0.675318         0.689476   \n",
       "75%               1.242802         1.193661         1.164237         1.160527   \n",
       "max               7.466818         7.004718         8.472557         4.231093   \n",
       "\n",
       "gene_name  ENSG00000113140  ENSG00000117984  ENSG00000116016  ENSG00000129116  \\\n",
       "count          3749.000000      3749.000000      3749.000000      3749.000000   \n",
       "mean              0.852497         0.808036         0.877966         0.890302   \n",
       "std               0.651678         0.608549         0.855598         0.673139   \n",
       "min               0.000300         0.000113         0.000297         0.000031   \n",
       "25%               0.328534         0.326538         0.348574         0.360625   \n",
       "50%               0.709992         0.670569         0.723682         0.749636   \n",
       "75%               1.238855         1.165987         1.248958         1.288451   \n",
       "max               4.498332         4.371566        19.356913         6.605218   \n",
       "\n",
       "gene_name  ENSG00000134686  ENSG00000108679  \n",
       "count          3749.000000      3749.000000  \n",
       "mean              0.954453         0.840276  \n",
       "std               0.976718         0.633642  \n",
       "min               0.001149         0.000416  \n",
       "25%               0.345557         0.352286  \n",
       "50%               0.753889         0.697201  \n",
       "75%               1.268230         1.204855  \n",
       "max              10.519923         4.731186  "
      ]
     },
     "metadata": {},
     "output_type": "display_data"
    }
   ],
   "source": [
    "data_stats = data.iloc[:, :10].describe()\n",
    "display(data_stats)"
   ]
  },
  {
   "cell_type": "code",
   "execution_count": 16,
   "metadata": {
    "execution": {
     "iopub.execute_input": "2020-11-30T18:33:34.165176Z",
     "iopub.status.busy": "2020-11-30T18:33:34.164811Z",
     "iopub.status.idle": "2020-11-30T18:33:34.733151Z",
     "shell.execute_reply": "2020-11-30T18:33:34.732794Z"
    },
    "papermill": {
     "duration": 0.583268,
     "end_time": "2020-11-30T18:33:34.733252",
     "exception": false,
     "start_time": "2020-11-30T18:33:34.149984",
     "status": "completed"
    },
    "tags": []
   },
   "outputs": [],
   "source": [
    "scaled_data = pd.DataFrame(\n",
    "    data=scale(data),\n",
    "    index=data.index.copy(),\n",
    "    columns=data.columns.copy()\n",
    ")"
   ]
  },
  {
   "cell_type": "code",
   "execution_count": 17,
   "metadata": {
    "execution": {
     "iopub.execute_input": "2020-11-30T18:33:34.762332Z",
     "iopub.status.busy": "2020-11-30T18:33:34.761973Z",
     "iopub.status.idle": "2020-11-30T18:33:34.771779Z",
     "shell.execute_reply": "2020-11-30T18:33:34.771444Z"
    },
    "papermill": {
     "duration": 0.024707,
     "end_time": "2020-11-30T18:33:34.771868",
     "exception": false,
     "start_time": "2020-11-30T18:33:34.747161",
     "status": "completed"
    },
    "tags": []
   },
   "outputs": [
    {
     "data": {
      "text/plain": [
       "(3749, 6452)"
      ]
     },
     "metadata": {},
     "output_type": "display_data"
    }
   ],
   "source": [
    "display(scaled_data.shape)"
   ]
  },
  {
   "cell_type": "code",
   "execution_count": 18,
   "metadata": {
    "execution": {
     "iopub.execute_input": "2020-11-30T18:33:34.800777Z",
     "iopub.status.busy": "2020-11-30T18:33:34.800374Z",
     "iopub.status.idle": "2020-11-30T18:33:34.821322Z",
     "shell.execute_reply": "2020-11-30T18:33:34.821622Z"
    },
    "papermill": {
     "duration": 0.036714,
     "end_time": "2020-11-30T18:33:34.821726",
     "exception": false,
     "start_time": "2020-11-30T18:33:34.785012",
     "status": "completed"
    },
    "tags": []
   },
   "outputs": [
    {
     "data": {
      "text/html": [
       "<div>\n",
       "<style scoped>\n",
       "    .dataframe tbody tr th:only-of-type {\n",
       "        vertical-align: middle;\n",
       "    }\n",
       "\n",
       "    .dataframe tbody tr th {\n",
       "        vertical-align: top;\n",
       "    }\n",
       "\n",
       "    .dataframe thead th {\n",
       "        text-align: right;\n",
       "    }\n",
       "</style>\n",
       "<table border=\"1\" class=\"dataframe\">\n",
       "  <thead>\n",
       "    <tr style=\"text-align: right;\">\n",
       "      <th>gene_name</th>\n",
       "      <th>ENSG00000183087</th>\n",
       "      <th>ENSG00000157227</th>\n",
       "      <th>ENSG00000096696</th>\n",
       "      <th>ENSG00000175130</th>\n",
       "      <th>ENSG00000113140</th>\n",
       "      <th>ENSG00000117984</th>\n",
       "      <th>ENSG00000116016</th>\n",
       "      <th>ENSG00000129116</th>\n",
       "      <th>ENSG00000134686</th>\n",
       "      <th>ENSG00000108679</th>\n",
       "      <th>...</th>\n",
       "      <th>ENSG00000111716</th>\n",
       "      <th>ENSG00000166796</th>\n",
       "      <th>ENSG00000114331</th>\n",
       "      <th>ENSG00000131584</th>\n",
       "      <th>ENSG00000165410</th>\n",
       "      <th>ENSG00000172757</th>\n",
       "      <th>ENSG00000147862</th>\n",
       "      <th>ENSG00000008323</th>\n",
       "      <th>ENSG00000167083</th>\n",
       "      <th>ENSG00000149257</th>\n",
       "    </tr>\n",
       "  </thead>\n",
       "  <tbody>\n",
       "    <tr>\n",
       "      <th>100001_raw-Food_weight</th>\n",
       "      <td>0.834672</td>\n",
       "      <td>-0.969366</td>\n",
       "      <td>-0.788966</td>\n",
       "      <td>-1.236243</td>\n",
       "      <td>-1.192910</td>\n",
       "      <td>-0.859681</td>\n",
       "      <td>-0.324518</td>\n",
       "      <td>0.880799</td>\n",
       "      <td>-0.152357</td>\n",
       "      <td>-1.109631</td>\n",
       "      <td>...</td>\n",
       "      <td>-0.847934</td>\n",
       "      <td>-1.246339</td>\n",
       "      <td>-1.225673</td>\n",
       "      <td>-0.270551</td>\n",
       "      <td>-0.251339</td>\n",
       "      <td>-0.348636</td>\n",
       "      <td>-0.283083</td>\n",
       "      <td>0.541040</td>\n",
       "      <td>0.412878</td>\n",
       "      <td>0.212180</td>\n",
       "    </tr>\n",
       "    <tr>\n",
       "      <th>100002_raw-Energy</th>\n",
       "      <td>-0.893351</td>\n",
       "      <td>-0.906648</td>\n",
       "      <td>-1.108427</td>\n",
       "      <td>-0.633443</td>\n",
       "      <td>-1.257057</td>\n",
       "      <td>-0.975325</td>\n",
       "      <td>0.100801</td>\n",
       "      <td>-0.814622</td>\n",
       "      <td>0.993700</td>\n",
       "      <td>0.709155</td>\n",
       "      <td>...</td>\n",
       "      <td>1.039015</td>\n",
       "      <td>-0.097355</td>\n",
       "      <td>0.613387</td>\n",
       "      <td>1.297104</td>\n",
       "      <td>-0.646984</td>\n",
       "      <td>-0.642464</td>\n",
       "      <td>0.254638</td>\n",
       "      <td>-0.235577</td>\n",
       "      <td>0.390156</td>\n",
       "      <td>0.875050</td>\n",
       "    </tr>\n",
       "    <tr>\n",
       "      <th>100003_raw-Protein</th>\n",
       "      <td>0.724878</td>\n",
       "      <td>0.367317</td>\n",
       "      <td>-1.100323</td>\n",
       "      <td>-1.304925</td>\n",
       "      <td>-0.735474</td>\n",
       "      <td>-1.178054</td>\n",
       "      <td>0.002718</td>\n",
       "      <td>-0.151997</td>\n",
       "      <td>0.730952</td>\n",
       "      <td>0.949561</td>\n",
       "      <td>...</td>\n",
       "      <td>0.668253</td>\n",
       "      <td>0.381954</td>\n",
       "      <td>0.883388</td>\n",
       "      <td>0.028914</td>\n",
       "      <td>-1.262583</td>\n",
       "      <td>-0.547308</td>\n",
       "      <td>-0.369882</td>\n",
       "      <td>0.725386</td>\n",
       "      <td>0.969339</td>\n",
       "      <td>0.582554</td>\n",
       "    </tr>\n",
       "    <tr>\n",
       "      <th>100004_raw-Fat</th>\n",
       "      <td>-0.273941</td>\n",
       "      <td>-1.113389</td>\n",
       "      <td>-1.176575</td>\n",
       "      <td>-0.461884</td>\n",
       "      <td>-0.947444</td>\n",
       "      <td>-0.213364</td>\n",
       "      <td>-0.169319</td>\n",
       "      <td>-1.092854</td>\n",
       "      <td>0.752200</td>\n",
       "      <td>1.207424</td>\n",
       "      <td>...</td>\n",
       "      <td>0.724525</td>\n",
       "      <td>-0.569374</td>\n",
       "      <td>0.590451</td>\n",
       "      <td>1.656459</td>\n",
       "      <td>-0.081229</td>\n",
       "      <td>-0.290437</td>\n",
       "      <td>0.928900</td>\n",
       "      <td>-0.661822</td>\n",
       "      <td>0.709848</td>\n",
       "      <td>0.600761</td>\n",
       "    </tr>\n",
       "    <tr>\n",
       "      <th>100005_raw-Carbohydrate</th>\n",
       "      <td>-0.925286</td>\n",
       "      <td>-0.186918</td>\n",
       "      <td>-0.488066</td>\n",
       "      <td>-0.682023</td>\n",
       "      <td>-0.746643</td>\n",
       "      <td>-0.262771</td>\n",
       "      <td>-0.261208</td>\n",
       "      <td>-0.513372</td>\n",
       "      <td>0.385347</td>\n",
       "      <td>-0.681057</td>\n",
       "      <td>...</td>\n",
       "      <td>0.692922</td>\n",
       "      <td>-0.029716</td>\n",
       "      <td>0.655211</td>\n",
       "      <td>1.326645</td>\n",
       "      <td>-0.897059</td>\n",
       "      <td>-0.569916</td>\n",
       "      <td>1.393707</td>\n",
       "      <td>-0.189605</td>\n",
       "      <td>-0.369507</td>\n",
       "      <td>0.257153</td>\n",
       "    </tr>\n",
       "  </tbody>\n",
       "</table>\n",
       "<p>5 rows × 6452 columns</p>\n",
       "</div>"
      ],
      "text/plain": [
       "gene_name                ENSG00000183087  ENSG00000157227  ENSG00000096696  \\\n",
       "100001_raw-Food_weight          0.834672        -0.969366        -0.788966   \n",
       "100002_raw-Energy              -0.893351        -0.906648        -1.108427   \n",
       "100003_raw-Protein              0.724878         0.367317        -1.100323   \n",
       "100004_raw-Fat                 -0.273941        -1.113389        -1.176575   \n",
       "100005_raw-Carbohydrate        -0.925286        -0.186918        -0.488066   \n",
       "\n",
       "gene_name                ENSG00000175130  ENSG00000113140  ENSG00000117984  \\\n",
       "100001_raw-Food_weight         -1.236243        -1.192910        -0.859681   \n",
       "100002_raw-Energy              -0.633443        -1.257057        -0.975325   \n",
       "100003_raw-Protein             -1.304925        -0.735474        -1.178054   \n",
       "100004_raw-Fat                 -0.461884        -0.947444        -0.213364   \n",
       "100005_raw-Carbohydrate        -0.682023        -0.746643        -0.262771   \n",
       "\n",
       "gene_name                ENSG00000116016  ENSG00000129116  ENSG00000134686  \\\n",
       "100001_raw-Food_weight         -0.324518         0.880799        -0.152357   \n",
       "100002_raw-Energy               0.100801        -0.814622         0.993700   \n",
       "100003_raw-Protein              0.002718        -0.151997         0.730952   \n",
       "100004_raw-Fat                 -0.169319        -1.092854         0.752200   \n",
       "100005_raw-Carbohydrate        -0.261208        -0.513372         0.385347   \n",
       "\n",
       "gene_name                ENSG00000108679  ...  ENSG00000111716  \\\n",
       "100001_raw-Food_weight         -1.109631  ...        -0.847934   \n",
       "100002_raw-Energy               0.709155  ...         1.039015   \n",
       "100003_raw-Protein              0.949561  ...         0.668253   \n",
       "100004_raw-Fat                  1.207424  ...         0.724525   \n",
       "100005_raw-Carbohydrate        -0.681057  ...         0.692922   \n",
       "\n",
       "gene_name                ENSG00000166796  ENSG00000114331  ENSG00000131584  \\\n",
       "100001_raw-Food_weight         -1.246339        -1.225673        -0.270551   \n",
       "100002_raw-Energy              -0.097355         0.613387         1.297104   \n",
       "100003_raw-Protein              0.381954         0.883388         0.028914   \n",
       "100004_raw-Fat                 -0.569374         0.590451         1.656459   \n",
       "100005_raw-Carbohydrate        -0.029716         0.655211         1.326645   \n",
       "\n",
       "gene_name                ENSG00000165410  ENSG00000172757  ENSG00000147862  \\\n",
       "100001_raw-Food_weight         -0.251339        -0.348636        -0.283083   \n",
       "100002_raw-Energy              -0.646984        -0.642464         0.254638   \n",
       "100003_raw-Protein             -1.262583        -0.547308        -0.369882   \n",
       "100004_raw-Fat                 -0.081229        -0.290437         0.928900   \n",
       "100005_raw-Carbohydrate        -0.897059        -0.569916         1.393707   \n",
       "\n",
       "gene_name                ENSG00000008323  ENSG00000167083  ENSG00000149257  \n",
       "100001_raw-Food_weight          0.541040         0.412878         0.212180  \n",
       "100002_raw-Energy              -0.235577         0.390156         0.875050  \n",
       "100003_raw-Protein              0.725386         0.969339         0.582554  \n",
       "100004_raw-Fat                 -0.661822         0.709848         0.600761  \n",
       "100005_raw-Carbohydrate        -0.189605        -0.369507         0.257153  \n",
       "\n",
       "[5 rows x 6452 columns]"
      ]
     },
     "metadata": {},
     "output_type": "display_data"
    }
   ],
   "source": [
    "display(scaled_data.head())"
   ]
  },
  {
   "cell_type": "code",
   "execution_count": 19,
   "metadata": {
    "execution": {
     "iopub.execute_input": "2020-11-30T18:33:34.850959Z",
     "iopub.status.busy": "2020-11-30T18:33:34.850606Z",
     "iopub.status.idle": "2020-11-30T18:33:34.884844Z",
     "shell.execute_reply": "2020-11-30T18:33:34.884434Z"
    },
    "papermill": {
     "duration": 0.049854,
     "end_time": "2020-11-30T18:33:34.884934",
     "exception": false,
     "start_time": "2020-11-30T18:33:34.835080",
     "status": "completed"
    },
    "tags": []
   },
   "outputs": [
    {
     "data": {
      "text/html": [
       "<div>\n",
       "<style scoped>\n",
       "    .dataframe tbody tr th:only-of-type {\n",
       "        vertical-align: middle;\n",
       "    }\n",
       "\n",
       "    .dataframe tbody tr th {\n",
       "        vertical-align: top;\n",
       "    }\n",
       "\n",
       "    .dataframe thead th {\n",
       "        text-align: right;\n",
       "    }\n",
       "</style>\n",
       "<table border=\"1\" class=\"dataframe\">\n",
       "  <thead>\n",
       "    <tr style=\"text-align: right;\">\n",
       "      <th>gene_name</th>\n",
       "      <th>ENSG00000183087</th>\n",
       "      <th>ENSG00000157227</th>\n",
       "      <th>ENSG00000096696</th>\n",
       "      <th>ENSG00000175130</th>\n",
       "      <th>ENSG00000113140</th>\n",
       "      <th>ENSG00000117984</th>\n",
       "      <th>ENSG00000116016</th>\n",
       "      <th>ENSG00000129116</th>\n",
       "      <th>ENSG00000134686</th>\n",
       "      <th>ENSG00000108679</th>\n",
       "    </tr>\n",
       "  </thead>\n",
       "  <tbody>\n",
       "    <tr>\n",
       "      <th>count</th>\n",
       "      <td>3.749000e+03</td>\n",
       "      <td>3.749000e+03</td>\n",
       "      <td>3.749000e+03</td>\n",
       "      <td>3.749000e+03</td>\n",
       "      <td>3.749000e+03</td>\n",
       "      <td>3.749000e+03</td>\n",
       "      <td>3.749000e+03</td>\n",
       "      <td>3.749000e+03</td>\n",
       "      <td>3.749000e+03</td>\n",
       "      <td>3.749000e+03</td>\n",
       "    </tr>\n",
       "    <tr>\n",
       "      <th>mean</th>\n",
       "      <td>-1.645108e-15</td>\n",
       "      <td>-4.105190e-15</td>\n",
       "      <td>-1.281213e-15</td>\n",
       "      <td>6.481878e-16</td>\n",
       "      <td>-1.358920e-15</td>\n",
       "      <td>6.254444e-16</td>\n",
       "      <td>1.440417e-16</td>\n",
       "      <td>1.800522e-16</td>\n",
       "      <td>-4.302299e-16</td>\n",
       "      <td>2.687516e-15</td>\n",
       "    </tr>\n",
       "    <tr>\n",
       "      <th>std</th>\n",
       "      <td>1.000133e+00</td>\n",
       "      <td>1.000133e+00</td>\n",
       "      <td>1.000133e+00</td>\n",
       "      <td>1.000133e+00</td>\n",
       "      <td>1.000133e+00</td>\n",
       "      <td>1.000133e+00</td>\n",
       "      <td>1.000133e+00</td>\n",
       "      <td>1.000133e+00</td>\n",
       "      <td>1.000133e+00</td>\n",
       "      <td>1.000133e+00</td>\n",
       "    </tr>\n",
       "    <tr>\n",
       "      <th>min</th>\n",
       "      <td>-1.215330e+00</td>\n",
       "      <td>-1.141391e+00</td>\n",
       "      <td>-1.285428e+00</td>\n",
       "      <td>-1.332483e+00</td>\n",
       "      <td>-1.307870e+00</td>\n",
       "      <td>-1.327799e+00</td>\n",
       "      <td>-1.025934e+00</td>\n",
       "      <td>-1.322744e+00</td>\n",
       "      <td>-9.761577e-01</td>\n",
       "      <td>-1.325626e+00</td>\n",
       "    </tr>\n",
       "    <tr>\n",
       "      <th>25%</th>\n",
       "      <td>-7.519615e-01</td>\n",
       "      <td>-7.151707e-01</td>\n",
       "      <td>-7.546637e-01</td>\n",
       "      <td>-7.912807e-01</td>\n",
       "      <td>-8.041282e-01</td>\n",
       "      <td>-7.913295e-01</td>\n",
       "      <td>-6.188225e-01</td>\n",
       "      <td>-7.869824e-01</td>\n",
       "      <td>-6.234933e-01</td>\n",
       "      <td>-7.702381e-01</td>\n",
       "    </tr>\n",
       "    <tr>\n",
       "      <th>50%</th>\n",
       "      <td>-2.151678e-01</td>\n",
       "      <td>-2.168181e-01</td>\n",
       "      <td>-2.219250e-01</td>\n",
       "      <td>-2.040230e-01</td>\n",
       "      <td>-2.187022e-01</td>\n",
       "      <td>-2.259242e-01</td>\n",
       "      <td>-1.803475e-01</td>\n",
       "      <td>-2.089995e-01</td>\n",
       "      <td>-2.053719e-01</td>\n",
       "      <td>-2.258285e-01</td>\n",
       "    </tr>\n",
       "    <tr>\n",
       "      <th>75%</th>\n",
       "      <td>5.228289e-01</td>\n",
       "      <td>4.600990e-01</td>\n",
       "      <td>5.483305e-01</td>\n",
       "      <td>5.670197e-01</td>\n",
       "      <td>5.929466e-01</td>\n",
       "      <td>5.882820e-01</td>\n",
       "      <td>4.336633e-01</td>\n",
       "      <td>5.915595e-01</td>\n",
       "      <td>3.212999e-01</td>\n",
       "      <td>5.754475e-01</td>\n",
       "    </tr>\n",
       "    <tr>\n",
       "      <th>max</th>\n",
       "      <td>9.228796e+00</td>\n",
       "      <td>8.256719e+00</td>\n",
       "      <td>1.206206e+01</td>\n",
       "      <td>5.593088e+00</td>\n",
       "      <td>5.595280e+00</td>\n",
       "      <td>5.856560e+00</td>\n",
       "      <td>2.160059e+01</td>\n",
       "      <td>8.491086e+00</td>\n",
       "      <td>9.794785e+00</td>\n",
       "      <td>6.141369e+00</td>\n",
       "    </tr>\n",
       "  </tbody>\n",
       "</table>\n",
       "</div>"
      ],
      "text/plain": [
       "gene_name  ENSG00000183087  ENSG00000157227  ENSG00000096696  ENSG00000175130  \\\n",
       "count         3.749000e+03     3.749000e+03     3.749000e+03     3.749000e+03   \n",
       "mean         -1.645108e-15    -4.105190e-15    -1.281213e-15     6.481878e-16   \n",
       "std           1.000133e+00     1.000133e+00     1.000133e+00     1.000133e+00   \n",
       "min          -1.215330e+00    -1.141391e+00    -1.285428e+00    -1.332483e+00   \n",
       "25%          -7.519615e-01    -7.151707e-01    -7.546637e-01    -7.912807e-01   \n",
       "50%          -2.151678e-01    -2.168181e-01    -2.219250e-01    -2.040230e-01   \n",
       "75%           5.228289e-01     4.600990e-01     5.483305e-01     5.670197e-01   \n",
       "max           9.228796e+00     8.256719e+00     1.206206e+01     5.593088e+00   \n",
       "\n",
       "gene_name  ENSG00000113140  ENSG00000117984  ENSG00000116016  ENSG00000129116  \\\n",
       "count         3.749000e+03     3.749000e+03     3.749000e+03     3.749000e+03   \n",
       "mean         -1.358920e-15     6.254444e-16     1.440417e-16     1.800522e-16   \n",
       "std           1.000133e+00     1.000133e+00     1.000133e+00     1.000133e+00   \n",
       "min          -1.307870e+00    -1.327799e+00    -1.025934e+00    -1.322744e+00   \n",
       "25%          -8.041282e-01    -7.913295e-01    -6.188225e-01    -7.869824e-01   \n",
       "50%          -2.187022e-01    -2.259242e-01    -1.803475e-01    -2.089995e-01   \n",
       "75%           5.929466e-01     5.882820e-01     4.336633e-01     5.915595e-01   \n",
       "max           5.595280e+00     5.856560e+00     2.160059e+01     8.491086e+00   \n",
       "\n",
       "gene_name  ENSG00000134686  ENSG00000108679  \n",
       "count         3.749000e+03     3.749000e+03  \n",
       "mean         -4.302299e-16     2.687516e-15  \n",
       "std           1.000133e+00     1.000133e+00  \n",
       "min          -9.761577e-01    -1.325626e+00  \n",
       "25%          -6.234933e-01    -7.702381e-01  \n",
       "50%          -2.053719e-01    -2.258285e-01  \n",
       "75%           3.212999e-01     5.754475e-01  \n",
       "max           9.794785e+00     6.141369e+00  "
      ]
     },
     "metadata": {},
     "output_type": "display_data"
    }
   ],
   "source": [
    "scaled_data_stats = scaled_data.iloc[:,:10].describe()\n",
    "display(scaled_data_stats)"
   ]
  },
  {
   "cell_type": "markdown",
   "metadata": {
    "papermill": {
     "duration": 0.013677,
     "end_time": "2020-11-30T18:33:34.912758",
     "exception": false,
     "start_time": "2020-11-30T18:33:34.899081",
     "status": "completed"
    },
    "tags": []
   },
   "source": [
    "## Testing"
   ]
  },
  {
   "cell_type": "code",
   "execution_count": 20,
   "metadata": {
    "execution": {
     "iopub.execute_input": "2020-11-30T18:33:34.942724Z",
     "iopub.status.busy": "2020-11-30T18:33:34.942361Z",
     "iopub.status.idle": "2020-11-30T18:33:34.952421Z",
     "shell.execute_reply": "2020-11-30T18:33:34.952043Z"
    },
    "papermill": {
     "duration": 0.026009,
     "end_time": "2020-11-30T18:33:34.952511",
     "exception": false,
     "start_time": "2020-11-30T18:33:34.926502",
     "status": "completed"
    },
    "tags": []
   },
   "outputs": [],
   "source": [
    "assert np.all([np.isclose(scaled_data_stats.loc['mean', c], 0.0) for c in scaled_data_stats.columns])"
   ]
  },
  {
   "cell_type": "code",
   "execution_count": 21,
   "metadata": {
    "execution": {
     "iopub.execute_input": "2020-11-30T18:33:34.983004Z",
     "iopub.status.busy": "2020-11-30T18:33:34.982644Z",
     "iopub.status.idle": "2020-11-30T18:33:34.992581Z",
     "shell.execute_reply": "2020-11-30T18:33:34.992214Z"
    },
    "papermill": {
     "duration": 0.026177,
     "end_time": "2020-11-30T18:33:34.992668",
     "exception": false,
     "start_time": "2020-11-30T18:33:34.966491",
     "status": "completed"
    },
    "tags": []
   },
   "outputs": [],
   "source": [
    "assert np.all([np.isclose(scaled_data_stats.loc['std', c], 1.0, atol=1e-03) for c in scaled_data_stats.columns])"
   ]
  },
  {
   "cell_type": "markdown",
   "metadata": {
    "papermill": {
     "duration": 0.013569,
     "end_time": "2020-11-30T18:33:35.020275",
     "exception": false,
     "start_time": "2020-11-30T18:33:35.006706",
     "status": "completed"
    },
    "tags": []
   },
   "source": [
    "# Save"
   ]
  },
  {
   "cell_type": "code",
   "execution_count": 22,
   "metadata": {
    "execution": {
     "iopub.execute_input": "2020-11-30T18:33:35.050334Z",
     "iopub.status.busy": "2020-11-30T18:33:35.049977Z",
     "iopub.status.idle": "2020-11-30T18:33:35.059905Z",
     "shell.execute_reply": "2020-11-30T18:33:35.059544Z"
    },
    "papermill": {
     "duration": 0.026016,
     "end_time": "2020-11-30T18:33:35.059990",
     "exception": false,
     "start_time": "2020-11-30T18:33:35.033974",
     "status": "completed"
    },
    "tags": []
   },
   "outputs": [
    {
     "data": {
      "text/plain": [
       "PosixPath('/home/miltondp/projects/labs/greenelab/phenoplier/base/results/data_transformations/z_score_std/z_score_std-smultixcan-efo_partial-mashr-zscores.pkl')"
      ]
     },
     "metadata": {},
     "output_type": "display_data"
    }
   ],
   "source": [
    "output_file = Path(\n",
    "    RESULTS_DIR,\n",
    "    f'z_score_std-{input_filepath_stem}.pkl',\n",
    ").resolve()\n",
    "\n",
    "display(output_file)"
   ]
  },
  {
   "cell_type": "code",
   "execution_count": 23,
   "metadata": {
    "execution": {
     "iopub.execute_input": "2020-11-30T18:33:35.090661Z",
     "iopub.status.busy": "2020-11-30T18:33:35.090293Z",
     "iopub.status.idle": "2020-11-30T18:33:35.283501Z",
     "shell.execute_reply": "2020-11-30T18:33:35.283828Z"
    },
    "papermill": {
     "duration": 0.209722,
     "end_time": "2020-11-30T18:33:35.283954",
     "exception": false,
     "start_time": "2020-11-30T18:33:35.074232",
     "status": "completed"
    },
    "tags": []
   },
   "outputs": [],
   "source": [
    "scaled_data.to_pickle(output_file)"
   ]
  },
  {
   "cell_type": "code",
   "execution_count": null,
   "metadata": {
    "papermill": {
     "duration": 0.014767,
     "end_time": "2020-11-30T18:33:35.314411",
     "exception": false,
     "start_time": "2020-11-30T18:33:35.299644",
     "status": "completed"
    },
    "tags": []
   },
   "outputs": [],
   "source": []
  }
 ],
 "metadata": {
  "kernelspec": {
   "display_name": "Python 3",
   "language": "python",
   "name": "python3"
  },
  "language_info": {
   "codemirror_mode": {
    "name": "ipython",
    "version": 3
   },
   "file_extension": ".py",
   "mimetype": "text/x-python",
   "name": "python",
   "nbconvert_exporter": "python",
   "pygments_lexer": "ipython3",
   "version": "3.8.6"
  },
  "papermill": {
   "default_parameters": {},
   "duration": 4.031648,
   "end_time": "2020-11-30T18:33:35.633878",
   "environment_variables": {},
   "exception": null,
   "input_path": "10_data_transformations/001_00-z_score_std-smultixcan_efo.ipynb",
   "output_path": "10_data_transformations/001_00-z_score_std-smultixcan_efo.run.ipynb",
   "parameters": {},
   "start_time": "2020-11-30T18:33:31.602230",
   "version": "2.2.2"
  },
  "toc-autonumbering": true,
  "toc-showcode": false,
  "toc-showmarkdowntxt": false,
  "toc-showtags": false
 },
 "nbformat": 4,
 "nbformat_minor": 4
}