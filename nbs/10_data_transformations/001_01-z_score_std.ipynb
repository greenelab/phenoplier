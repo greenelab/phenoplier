{
 "cells": [
  {
   "cell_type": "markdown",
   "metadata": {
    "papermill": {
     "duration": 0.036384,
     "end_time": "2020-11-24T15:17:13.330145",
     "exception": false,
     "start_time": "2020-11-24T15:17:13.293761",
     "status": "completed"
    },
    "tags": []
   },
   "source": [
    "# Description"
   ]
  },
  {
   "cell_type": "markdown",
   "metadata": {
    "papermill": {
     "duration": 0.009683,
     "end_time": "2020-11-24T15:17:13.354715",
     "exception": false,
     "start_time": "2020-11-24T15:17:13.345032",
     "status": "completed"
    },
    "tags": []
   },
   "source": [
    "It standardizes the features (latent variables) of an input file."
   ]
  },
  {
   "cell_type": "markdown",
   "metadata": {
    "papermill": {
     "duration": 0.008271,
     "end_time": "2020-11-24T15:17:13.371167",
     "exception": false,
     "start_time": "2020-11-24T15:17:13.362896",
     "status": "completed"
    },
    "tags": []
   },
   "source": [
    "# Modules loading"
   ]
  },
  {
   "cell_type": "code",
   "execution_count": 1,
   "metadata": {
    "papermill": {
     "duration": 0.019394,
     "end_time": "2020-11-24T15:17:13.398967",
     "exception": false,
     "start_time": "2020-11-24T15:17:13.379573",
     "status": "completed"
    },
    "tags": []
   },
   "outputs": [],
   "source": [
    "%load_ext autoreload\n",
    "%autoreload 2"
   ]
  },
  {
   "cell_type": "code",
   "execution_count": 2,
   "metadata": {
    "papermill": {
     "duration": 0.459631,
     "end_time": "2020-11-24T15:17:13.867177",
     "exception": false,
     "start_time": "2020-11-24T15:17:13.407546",
     "status": "completed"
    },
    "tags": []
   },
   "outputs": [],
   "source": [
    "from pathlib import Path\n",
    "from IPython.display import display\n",
    "\n",
    "import numpy as np\n",
    "import pandas as pd\n",
    "from sklearn.preprocessing import scale\n",
    "\n",
    "import conf"
   ]
  },
  {
   "cell_type": "markdown",
   "metadata": {
    "papermill": {
     "duration": 0.008197,
     "end_time": "2020-11-24T15:17:13.883910",
     "exception": false,
     "start_time": "2020-11-24T15:17:13.875713",
     "status": "completed"
    },
    "tags": []
   },
   "source": [
    "# Settings"
   ]
  },
  {
   "cell_type": "code",
   "execution_count": 3,
   "metadata": {
    "papermill": {
     "duration": 0.020025,
     "end_time": "2020-11-24T15:17:13.912172",
     "exception": false,
     "start_time": "2020-11-24T15:17:13.892147",
     "status": "completed"
    },
    "tags": []
   },
   "outputs": [],
   "source": [
    "INPUT_FILEPATH_STEM = 'smultixcan-efo_partial-mashr-zscores'"
   ]
  },
  {
   "cell_type": "code",
   "execution_count": 4,
   "metadata": {
    "papermill": {
     "duration": 0.025508,
     "end_time": "2020-11-24T15:17:13.946309",
     "exception": false,
     "start_time": "2020-11-24T15:17:13.920801",
     "status": "completed"
    },
    "tags": []
   },
   "outputs": [
    {
     "data": {
      "text/plain": [
       "PosixPath('/media/miltondp/Elements1/projects/phenoplier/results/data_transformations/traits_selections/diseases_only-smultixcan-efo_partial-mashr-zscores.pkl')"
      ]
     },
     "metadata": {},
     "output_type": "display_data"
    },
    {
     "data": {
      "text/plain": [
       "'diseases_only-smultixcan-efo_partial-mashr-zscores'"
      ]
     },
     "metadata": {},
     "output_type": "display_data"
    }
   ],
   "source": [
    "INPUT_FILEPATH = Path(\n",
    "    conf.RESULTS[\"DATA_TRANSFORMATIONS_DIR\"],\n",
    "    'traits_selections',\n",
    "    f'diseases_only-{INPUT_FILEPATH_STEM}.pkl',\n",
    ").resolve()\n",
    "display(INPUT_FILEPATH)\n",
    "\n",
    "input_filepath_stem = INPUT_FILEPATH.stem\n",
    "display(input_filepath_stem)"
   ]
  },
  {
   "cell_type": "code",
   "execution_count": 5,
   "metadata": {
    "papermill": {
     "duration": 0.021347,
     "end_time": "2020-11-24T15:17:13.976926",
     "exception": false,
     "start_time": "2020-11-24T15:17:13.955579",
     "status": "completed"
    },
    "tags": []
   },
   "outputs": [
    {
     "data": {
      "text/plain": [
       "PosixPath('/media/miltondp/Elements1/projects/phenoplier/results/data_transformations/z_score_std')"
      ]
     },
     "metadata": {},
     "output_type": "display_data"
    }
   ],
   "source": [
    "# output dir for this notebook\n",
    "RESULTS_DIR = Path(\n",
    "    conf.RESULTS[\"DATA_TRANSFORMATIONS_DIR\"],\n",
    "    'z_score_std'\n",
    ").resolve()\n",
    "RESULTS_DIR.mkdir(parents=True, exist_ok=True)\n",
    "\n",
    "display(RESULTS_DIR)"
   ]
  },
  {
   "cell_type": "markdown",
   "metadata": {
    "papermill": {
     "duration": 0.009102,
     "end_time": "2020-11-24T15:17:13.995461",
     "exception": false,
     "start_time": "2020-11-24T15:17:13.986359",
     "status": "completed"
    },
    "tags": []
   },
   "source": [
    "# Load input file"
   ]
  },
  {
   "cell_type": "code",
   "execution_count": 6,
   "metadata": {
    "papermill": {
     "duration": 0.05671,
     "end_time": "2020-11-24T15:17:14.061369",
     "exception": false,
     "start_time": "2020-11-24T15:17:14.004659",
     "status": "completed"
    },
    "tags": []
   },
   "outputs": [],
   "source": [
    "data = pd.read_pickle(INPUT_FILEPATH)"
   ]
  },
  {
   "cell_type": "code",
   "execution_count": 7,
   "metadata": {
    "papermill": {
     "duration": 0.021378,
     "end_time": "2020-11-24T15:17:14.092641",
     "exception": false,
     "start_time": "2020-11-24T15:17:14.071263",
     "status": "completed"
    },
    "tags": []
   },
   "outputs": [
    {
     "data": {
      "text/plain": [
       "(538, 6452)"
      ]
     },
     "execution_count": 7,
     "metadata": {},
     "output_type": "execute_result"
    }
   ],
   "source": [
    "data.shape"
   ]
  },
  {
   "cell_type": "code",
   "execution_count": 8,
   "metadata": {
    "papermill": {
     "duration": 0.037706,
     "end_time": "2020-11-24T15:17:14.140017",
     "exception": false,
     "start_time": "2020-11-24T15:17:14.102311",
     "status": "completed"
    },
    "tags": []
   },
   "outputs": [
    {
     "data": {
      "text/html": [
       "<div>\n",
       "<style scoped>\n",
       "    .dataframe tbody tr th:only-of-type {\n",
       "        vertical-align: middle;\n",
       "    }\n",
       "\n",
       "    .dataframe tbody tr th {\n",
       "        vertical-align: top;\n",
       "    }\n",
       "\n",
       "    .dataframe thead th {\n",
       "        text-align: right;\n",
       "    }\n",
       "</style>\n",
       "<table border=\"1\" class=\"dataframe\">\n",
       "  <thead>\n",
       "    <tr style=\"text-align: right;\">\n",
       "      <th>gene_name</th>\n",
       "      <th>ENSG00000183087</th>\n",
       "      <th>ENSG00000157227</th>\n",
       "      <th>ENSG00000096696</th>\n",
       "      <th>ENSG00000175130</th>\n",
       "      <th>ENSG00000113140</th>\n",
       "      <th>ENSG00000117984</th>\n",
       "      <th>ENSG00000116016</th>\n",
       "      <th>ENSG00000129116</th>\n",
       "      <th>ENSG00000134686</th>\n",
       "      <th>ENSG00000108679</th>\n",
       "      <th>...</th>\n",
       "      <th>ENSG00000111716</th>\n",
       "      <th>ENSG00000166796</th>\n",
       "      <th>ENSG00000114331</th>\n",
       "      <th>ENSG00000131584</th>\n",
       "      <th>ENSG00000165410</th>\n",
       "      <th>ENSG00000172757</th>\n",
       "      <th>ENSG00000147862</th>\n",
       "      <th>ENSG00000008323</th>\n",
       "      <th>ENSG00000167083</th>\n",
       "      <th>ENSG00000149257</th>\n",
       "    </tr>\n",
       "  </thead>\n",
       "  <tbody>\n",
       "    <tr>\n",
       "      <th>vascular disease AND intestinal disease</th>\n",
       "      <td>1.508862</td>\n",
       "      <td>1.621723</td>\n",
       "      <td>0.363885</td>\n",
       "      <td>0.853025</td>\n",
       "      <td>0.672102</td>\n",
       "      <td>1.661944</td>\n",
       "      <td>0.065144</td>\n",
       "      <td>0.852891</td>\n",
       "      <td>1.070464</td>\n",
       "      <td>1.646857</td>\n",
       "      <td>...</td>\n",
       "      <td>0.338839</td>\n",
       "      <td>1.045194</td>\n",
       "      <td>0.337591</td>\n",
       "      <td>0.727816</td>\n",
       "      <td>0.919068</td>\n",
       "      <td>1.028998</td>\n",
       "      <td>0.957071</td>\n",
       "      <td>1.032144</td>\n",
       "      <td>0.372147</td>\n",
       "      <td>1.101383</td>\n",
       "    </tr>\n",
       "    <tr>\n",
       "      <th>osteoarthritis, knee</th>\n",
       "      <td>0.293745</td>\n",
       "      <td>2.495255</td>\n",
       "      <td>0.898634</td>\n",
       "      <td>1.097025</td>\n",
       "      <td>0.092686</td>\n",
       "      <td>1.353230</td>\n",
       "      <td>2.329630</td>\n",
       "      <td>0.875087</td>\n",
       "      <td>1.932763</td>\n",
       "      <td>0.830047</td>\n",
       "      <td>...</td>\n",
       "      <td>0.315050</td>\n",
       "      <td>1.740132</td>\n",
       "      <td>0.659764</td>\n",
       "      <td>0.585959</td>\n",
       "      <td>0.745088</td>\n",
       "      <td>0.859034</td>\n",
       "      <td>0.844895</td>\n",
       "      <td>0.577415</td>\n",
       "      <td>1.093594</td>\n",
       "      <td>1.461070</td>\n",
       "    </tr>\n",
       "    <tr>\n",
       "      <th>carpal tunnel syndrome</th>\n",
       "      <td>3.269874</td>\n",
       "      <td>1.031169</td>\n",
       "      <td>1.854991</td>\n",
       "      <td>0.849646</td>\n",
       "      <td>1.193563</td>\n",
       "      <td>0.963425</td>\n",
       "      <td>1.081281</td>\n",
       "      <td>0.583741</td>\n",
       "      <td>0.370495</td>\n",
       "      <td>0.987732</td>\n",
       "      <td>...</td>\n",
       "      <td>1.695482</td>\n",
       "      <td>0.469553</td>\n",
       "      <td>0.525354</td>\n",
       "      <td>1.462587</td>\n",
       "      <td>0.730298</td>\n",
       "      <td>1.266646</td>\n",
       "      <td>0.680878</td>\n",
       "      <td>2.512643</td>\n",
       "      <td>1.943234</td>\n",
       "      <td>0.574996</td>\n",
       "    </tr>\n",
       "    <tr>\n",
       "      <th>gastritis</th>\n",
       "      <td>0.731628</td>\n",
       "      <td>0.922580</td>\n",
       "      <td>0.207440</td>\n",
       "      <td>1.049796</td>\n",
       "      <td>0.237018</td>\n",
       "      <td>0.081444</td>\n",
       "      <td>1.578283</td>\n",
       "      <td>0.635750</td>\n",
       "      <td>1.193168</td>\n",
       "      <td>2.471475</td>\n",
       "      <td>...</td>\n",
       "      <td>1.927164</td>\n",
       "      <td>0.906981</td>\n",
       "      <td>0.535501</td>\n",
       "      <td>1.265527</td>\n",
       "      <td>0.412329</td>\n",
       "      <td>0.474710</td>\n",
       "      <td>0.454023</td>\n",
       "      <td>2.122722</td>\n",
       "      <td>0.842579</td>\n",
       "      <td>1.561910</td>\n",
       "    </tr>\n",
       "    <tr>\n",
       "      <th>neoplasm</th>\n",
       "      <td>3.090460</td>\n",
       "      <td>0.749946</td>\n",
       "      <td>0.479871</td>\n",
       "      <td>1.374612</td>\n",
       "      <td>0.164061</td>\n",
       "      <td>0.385841</td>\n",
       "      <td>0.960421</td>\n",
       "      <td>0.579108</td>\n",
       "      <td>0.311806</td>\n",
       "      <td>0.340309</td>\n",
       "      <td>...</td>\n",
       "      <td>1.405575</td>\n",
       "      <td>1.277434</td>\n",
       "      <td>1.423244</td>\n",
       "      <td>1.400503</td>\n",
       "      <td>0.210456</td>\n",
       "      <td>1.100135</td>\n",
       "      <td>1.864806</td>\n",
       "      <td>1.084138</td>\n",
       "      <td>1.477129</td>\n",
       "      <td>0.925960</td>\n",
       "    </tr>\n",
       "  </tbody>\n",
       "</table>\n",
       "<p>5 rows × 6452 columns</p>\n",
       "</div>"
      ],
      "text/plain": [
       "gene_name                                ENSG00000183087  ENSG00000157227  \\\n",
       "vascular disease AND intestinal disease         1.508862         1.621723   \n",
       "osteoarthritis, knee                            0.293745         2.495255   \n",
       "carpal tunnel syndrome                          3.269874         1.031169   \n",
       "gastritis                                       0.731628         0.922580   \n",
       "neoplasm                                        3.090460         0.749946   \n",
       "\n",
       "gene_name                                ENSG00000096696  ENSG00000175130  \\\n",
       "vascular disease AND intestinal disease         0.363885         0.853025   \n",
       "osteoarthritis, knee                            0.898634         1.097025   \n",
       "carpal tunnel syndrome                          1.854991         0.849646   \n",
       "gastritis                                       0.207440         1.049796   \n",
       "neoplasm                                        0.479871         1.374612   \n",
       "\n",
       "gene_name                                ENSG00000113140  ENSG00000117984  \\\n",
       "vascular disease AND intestinal disease         0.672102         1.661944   \n",
       "osteoarthritis, knee                            0.092686         1.353230   \n",
       "carpal tunnel syndrome                          1.193563         0.963425   \n",
       "gastritis                                       0.237018         0.081444   \n",
       "neoplasm                                        0.164061         0.385841   \n",
       "\n",
       "gene_name                                ENSG00000116016  ENSG00000129116  \\\n",
       "vascular disease AND intestinal disease         0.065144         0.852891   \n",
       "osteoarthritis, knee                            2.329630         0.875087   \n",
       "carpal tunnel syndrome                          1.081281         0.583741   \n",
       "gastritis                                       1.578283         0.635750   \n",
       "neoplasm                                        0.960421         0.579108   \n",
       "\n",
       "gene_name                                ENSG00000134686  ENSG00000108679  \\\n",
       "vascular disease AND intestinal disease         1.070464         1.646857   \n",
       "osteoarthritis, knee                            1.932763         0.830047   \n",
       "carpal tunnel syndrome                          0.370495         0.987732   \n",
       "gastritis                                       1.193168         2.471475   \n",
       "neoplasm                                        0.311806         0.340309   \n",
       "\n",
       "gene_name                                ...  ENSG00000111716  \\\n",
       "vascular disease AND intestinal disease  ...         0.338839   \n",
       "osteoarthritis, knee                     ...         0.315050   \n",
       "carpal tunnel syndrome                   ...         1.695482   \n",
       "gastritis                                ...         1.927164   \n",
       "neoplasm                                 ...         1.405575   \n",
       "\n",
       "gene_name                                ENSG00000166796  ENSG00000114331  \\\n",
       "vascular disease AND intestinal disease         1.045194         0.337591   \n",
       "osteoarthritis, knee                            1.740132         0.659764   \n",
       "carpal tunnel syndrome                          0.469553         0.525354   \n",
       "gastritis                                       0.906981         0.535501   \n",
       "neoplasm                                        1.277434         1.423244   \n",
       "\n",
       "gene_name                                ENSG00000131584  ENSG00000165410  \\\n",
       "vascular disease AND intestinal disease         0.727816         0.919068   \n",
       "osteoarthritis, knee                            0.585959         0.745088   \n",
       "carpal tunnel syndrome                          1.462587         0.730298   \n",
       "gastritis                                       1.265527         0.412329   \n",
       "neoplasm                                        1.400503         0.210456   \n",
       "\n",
       "gene_name                                ENSG00000172757  ENSG00000147862  \\\n",
       "vascular disease AND intestinal disease         1.028998         0.957071   \n",
       "osteoarthritis, knee                            0.859034         0.844895   \n",
       "carpal tunnel syndrome                          1.266646         0.680878   \n",
       "gastritis                                       0.474710         0.454023   \n",
       "neoplasm                                        1.100135         1.864806   \n",
       "\n",
       "gene_name                                ENSG00000008323  ENSG00000167083  \\\n",
       "vascular disease AND intestinal disease         1.032144         0.372147   \n",
       "osteoarthritis, knee                            0.577415         1.093594   \n",
       "carpal tunnel syndrome                          2.512643         1.943234   \n",
       "gastritis                                       2.122722         0.842579   \n",
       "neoplasm                                        1.084138         1.477129   \n",
       "\n",
       "gene_name                                ENSG00000149257  \n",
       "vascular disease AND intestinal disease         1.101383  \n",
       "osteoarthritis, knee                            1.461070  \n",
       "carpal tunnel syndrome                          0.574996  \n",
       "gastritis                                       1.561910  \n",
       "neoplasm                                        0.925960  \n",
       "\n",
       "[5 rows x 6452 columns]"
      ]
     },
     "execution_count": 8,
     "metadata": {},
     "output_type": "execute_result"
    }
   ],
   "source": [
    "data.head()"
   ]
  },
  {
   "cell_type": "markdown",
   "metadata": {
    "papermill": {
     "duration": 0.009279,
     "end_time": "2020-11-24T15:17:14.159075",
     "exception": false,
     "start_time": "2020-11-24T15:17:14.149796",
     "status": "completed"
    },
    "tags": []
   },
   "source": [
    "# Data preprocessing for clustering"
   ]
  },
  {
   "cell_type": "code",
   "execution_count": 9,
   "metadata": {
    "papermill": {
     "duration": 0.045183,
     "end_time": "2020-11-24T15:17:14.213677",
     "exception": false,
     "start_time": "2020-11-24T15:17:14.168494",
     "status": "completed"
    },
    "tags": []
   },
   "outputs": [
    {
     "data": {
      "text/html": [
       "<div>\n",
       "<style scoped>\n",
       "    .dataframe tbody tr th:only-of-type {\n",
       "        vertical-align: middle;\n",
       "    }\n",
       "\n",
       "    .dataframe tbody tr th {\n",
       "        vertical-align: top;\n",
       "    }\n",
       "\n",
       "    .dataframe thead th {\n",
       "        text-align: right;\n",
       "    }\n",
       "</style>\n",
       "<table border=\"1\" class=\"dataframe\">\n",
       "  <thead>\n",
       "    <tr style=\"text-align: right;\">\n",
       "      <th>gene_name</th>\n",
       "      <th>ENSG00000183087</th>\n",
       "      <th>ENSG00000157227</th>\n",
       "      <th>ENSG00000096696</th>\n",
       "      <th>ENSG00000175130</th>\n",
       "      <th>ENSG00000113140</th>\n",
       "      <th>ENSG00000117984</th>\n",
       "      <th>ENSG00000116016</th>\n",
       "      <th>ENSG00000129116</th>\n",
       "      <th>ENSG00000134686</th>\n",
       "      <th>ENSG00000108679</th>\n",
       "    </tr>\n",
       "  </thead>\n",
       "  <tbody>\n",
       "    <tr>\n",
       "      <th>count</th>\n",
       "      <td>538.000000</td>\n",
       "      <td>538.000000</td>\n",
       "      <td>538.000000</td>\n",
       "      <td>538.000000</td>\n",
       "      <td>538.000000</td>\n",
       "      <td>538.000000</td>\n",
       "      <td>538.000000</td>\n",
       "      <td>538.000000</td>\n",
       "      <td>538.000000</td>\n",
       "      <td>538.000000</td>\n",
       "    </tr>\n",
       "    <tr>\n",
       "      <th>mean</th>\n",
       "      <td>0.935764</td>\n",
       "      <td>0.903561</td>\n",
       "      <td>0.863292</td>\n",
       "      <td>0.897959</td>\n",
       "      <td>0.868305</td>\n",
       "      <td>0.853082</td>\n",
       "      <td>0.890784</td>\n",
       "      <td>0.951402</td>\n",
       "      <td>0.929203</td>\n",
       "      <td>0.859440</td>\n",
       "    </tr>\n",
       "    <tr>\n",
       "      <th>std</th>\n",
       "      <td>0.676888</td>\n",
       "      <td>0.712305</td>\n",
       "      <td>0.599326</td>\n",
       "      <td>0.637146</td>\n",
       "      <td>0.595733</td>\n",
       "      <td>0.604609</td>\n",
       "      <td>0.627300</td>\n",
       "      <td>0.643526</td>\n",
       "      <td>0.679505</td>\n",
       "      <td>0.603726</td>\n",
       "    </tr>\n",
       "    <tr>\n",
       "      <th>min</th>\n",
       "      <td>0.001795</td>\n",
       "      <td>0.001860</td>\n",
       "      <td>0.018206</td>\n",
       "      <td>0.000068</td>\n",
       "      <td>0.003543</td>\n",
       "      <td>0.006888</td>\n",
       "      <td>0.002766</td>\n",
       "      <td>0.000109</td>\n",
       "      <td>0.002864</td>\n",
       "      <td>0.001376</td>\n",
       "    </tr>\n",
       "    <tr>\n",
       "      <th>25%</th>\n",
       "      <td>0.407650</td>\n",
       "      <td>0.368081</td>\n",
       "      <td>0.406369</td>\n",
       "      <td>0.403494</td>\n",
       "      <td>0.376657</td>\n",
       "      <td>0.349378</td>\n",
       "      <td>0.391706</td>\n",
       "      <td>0.436109</td>\n",
       "      <td>0.409570</td>\n",
       "      <td>0.431575</td>\n",
       "    </tr>\n",
       "    <tr>\n",
       "      <th>50%</th>\n",
       "      <td>0.837084</td>\n",
       "      <td>0.754471</td>\n",
       "      <td>0.744194</td>\n",
       "      <td>0.828386</td>\n",
       "      <td>0.751487</td>\n",
       "      <td>0.731933</td>\n",
       "      <td>0.807094</td>\n",
       "      <td>0.853946</td>\n",
       "      <td>0.780332</td>\n",
       "      <td>0.711309</td>\n",
       "    </tr>\n",
       "    <tr>\n",
       "      <th>75%</th>\n",
       "      <td>1.293354</td>\n",
       "      <td>1.258527</td>\n",
       "      <td>1.184544</td>\n",
       "      <td>1.284796</td>\n",
       "      <td>1.245304</td>\n",
       "      <td>1.230868</td>\n",
       "      <td>1.248430</td>\n",
       "      <td>1.324895</td>\n",
       "      <td>1.296129</td>\n",
       "      <td>1.213644</td>\n",
       "    </tr>\n",
       "    <tr>\n",
       "      <th>max</th>\n",
       "      <td>5.088178</td>\n",
       "      <td>6.790776</td>\n",
       "      <td>3.222250</td>\n",
       "      <td>3.552356</td>\n",
       "      <td>3.378371</td>\n",
       "      <td>2.873694</td>\n",
       "      <td>3.815878</td>\n",
       "      <td>3.436513</td>\n",
       "      <td>4.479128</td>\n",
       "      <td>3.048902</td>\n",
       "    </tr>\n",
       "  </tbody>\n",
       "</table>\n",
       "</div>"
      ],
      "text/plain": [
       "gene_name  ENSG00000183087  ENSG00000157227  ENSG00000096696  ENSG00000175130  \\\n",
       "count           538.000000       538.000000       538.000000       538.000000   \n",
       "mean              0.935764         0.903561         0.863292         0.897959   \n",
       "std               0.676888         0.712305         0.599326         0.637146   \n",
       "min               0.001795         0.001860         0.018206         0.000068   \n",
       "25%               0.407650         0.368081         0.406369         0.403494   \n",
       "50%               0.837084         0.754471         0.744194         0.828386   \n",
       "75%               1.293354         1.258527         1.184544         1.284796   \n",
       "max               5.088178         6.790776         3.222250         3.552356   \n",
       "\n",
       "gene_name  ENSG00000113140  ENSG00000117984  ENSG00000116016  ENSG00000129116  \\\n",
       "count           538.000000       538.000000       538.000000       538.000000   \n",
       "mean              0.868305         0.853082         0.890784         0.951402   \n",
       "std               0.595733         0.604609         0.627300         0.643526   \n",
       "min               0.003543         0.006888         0.002766         0.000109   \n",
       "25%               0.376657         0.349378         0.391706         0.436109   \n",
       "50%               0.751487         0.731933         0.807094         0.853946   \n",
       "75%               1.245304         1.230868         1.248430         1.324895   \n",
       "max               3.378371         2.873694         3.815878         3.436513   \n",
       "\n",
       "gene_name  ENSG00000134686  ENSG00000108679  \n",
       "count           538.000000       538.000000  \n",
       "mean              0.929203         0.859440  \n",
       "std               0.679505         0.603726  \n",
       "min               0.002864         0.001376  \n",
       "25%               0.409570         0.431575  \n",
       "50%               0.780332         0.711309  \n",
       "75%               1.296129         1.213644  \n",
       "max               4.479128         3.048902  "
      ]
     },
     "metadata": {},
     "output_type": "display_data"
    }
   ],
   "source": [
    "data_stats = data.iloc[:, :10].describe()\n",
    "display(data_stats)"
   ]
  },
  {
   "cell_type": "markdown",
   "metadata": {
    "papermill": {
     "duration": 0.009939,
     "end_time": "2020-11-24T15:17:14.233826",
     "exception": false,
     "start_time": "2020-11-24T15:17:14.223887",
     "status": "completed"
    },
    "tags": []
   },
   "source": [
    "## Standardize"
   ]
  },
  {
   "cell_type": "code",
   "execution_count": 10,
   "metadata": {
    "papermill": {
     "duration": 0.371855,
     "end_time": "2020-11-24T15:17:14.615875",
     "exception": false,
     "start_time": "2020-11-24T15:17:14.244020",
     "status": "completed"
    },
    "tags": []
   },
   "outputs": [],
   "source": [
    "scaled_data = pd.DataFrame(\n",
    "    data=scale(data),\n",
    "    index=data.index.copy(),\n",
    "    columns=data.columns.copy()\n",
    ")"
   ]
  },
  {
   "cell_type": "code",
   "execution_count": 11,
   "metadata": {
    "papermill": {
     "duration": 0.022517,
     "end_time": "2020-11-24T15:17:14.649767",
     "exception": false,
     "start_time": "2020-11-24T15:17:14.627250",
     "status": "completed"
    },
    "tags": []
   },
   "outputs": [
    {
     "data": {
      "text/plain": [
       "(538, 6452)"
      ]
     },
     "execution_count": 11,
     "metadata": {},
     "output_type": "execute_result"
    }
   ],
   "source": [
    "scaled_data.shape"
   ]
  },
  {
   "cell_type": "code",
   "execution_count": 12,
   "metadata": {
    "papermill": {
     "duration": 0.035869,
     "end_time": "2020-11-24T15:17:14.696397",
     "exception": false,
     "start_time": "2020-11-24T15:17:14.660528",
     "status": "completed"
    },
    "tags": []
   },
   "outputs": [
    {
     "data": {
      "text/html": [
       "<div>\n",
       "<style scoped>\n",
       "    .dataframe tbody tr th:only-of-type {\n",
       "        vertical-align: middle;\n",
       "    }\n",
       "\n",
       "    .dataframe tbody tr th {\n",
       "        vertical-align: top;\n",
       "    }\n",
       "\n",
       "    .dataframe thead th {\n",
       "        text-align: right;\n",
       "    }\n",
       "</style>\n",
       "<table border=\"1\" class=\"dataframe\">\n",
       "  <thead>\n",
       "    <tr style=\"text-align: right;\">\n",
       "      <th>gene_name</th>\n",
       "      <th>ENSG00000183087</th>\n",
       "      <th>ENSG00000157227</th>\n",
       "      <th>ENSG00000096696</th>\n",
       "      <th>ENSG00000175130</th>\n",
       "      <th>ENSG00000113140</th>\n",
       "      <th>ENSG00000117984</th>\n",
       "      <th>ENSG00000116016</th>\n",
       "      <th>ENSG00000129116</th>\n",
       "      <th>ENSG00000134686</th>\n",
       "      <th>ENSG00000108679</th>\n",
       "      <th>...</th>\n",
       "      <th>ENSG00000111716</th>\n",
       "      <th>ENSG00000166796</th>\n",
       "      <th>ENSG00000114331</th>\n",
       "      <th>ENSG00000131584</th>\n",
       "      <th>ENSG00000165410</th>\n",
       "      <th>ENSG00000172757</th>\n",
       "      <th>ENSG00000147862</th>\n",
       "      <th>ENSG00000008323</th>\n",
       "      <th>ENSG00000167083</th>\n",
       "      <th>ENSG00000149257</th>\n",
       "    </tr>\n",
       "  </thead>\n",
       "  <tbody>\n",
       "    <tr>\n",
       "      <th>vascular disease AND intestinal disease</th>\n",
       "      <td>0.847454</td>\n",
       "      <td>1.009161</td>\n",
       "      <td>-0.834057</td>\n",
       "      <td>-0.070589</td>\n",
       "      <td>-0.329654</td>\n",
       "      <td>1.339072</td>\n",
       "      <td>-1.317406</td>\n",
       "      <td>-0.153223</td>\n",
       "      <td>0.208080</td>\n",
       "      <td>1.305476</td>\n",
       "      <td>...</td>\n",
       "      <td>-0.862693</td>\n",
       "      <td>0.178475</td>\n",
       "      <td>-0.867851</td>\n",
       "      <td>-0.318883</td>\n",
       "      <td>0.023148</td>\n",
       "      <td>0.121395</td>\n",
       "      <td>0.106954</td>\n",
       "      <td>0.282147</td>\n",
       "      <td>-0.811827</td>\n",
       "      <td>0.413489</td>\n",
       "    </tr>\n",
       "    <tr>\n",
       "      <th>osteoarthritis, knee</th>\n",
       "      <td>-0.949368</td>\n",
       "      <td>2.236648</td>\n",
       "      <td>0.059025</td>\n",
       "      <td>0.312724</td>\n",
       "      <td>-1.303170</td>\n",
       "      <td>0.827997</td>\n",
       "      <td>2.295848</td>\n",
       "      <td>-0.118700</td>\n",
       "      <td>1.478273</td>\n",
       "      <td>-0.048731</td>\n",
       "      <td>...</td>\n",
       "      <td>-0.900876</td>\n",
       "      <td>1.239900</td>\n",
       "      <td>-0.357637</td>\n",
       "      <td>-0.510200</td>\n",
       "      <td>-0.233842</td>\n",
       "      <td>-0.130737</td>\n",
       "      <td>-0.066291</td>\n",
       "      <td>-0.470850</td>\n",
       "      <td>0.133876</td>\n",
       "      <td>0.992046</td>\n",
       "    </tr>\n",
       "    <tr>\n",
       "      <th>carpal tunnel syndrome</th>\n",
       "      <td>3.451503</td>\n",
       "      <td>0.179316</td>\n",
       "      <td>1.656231</td>\n",
       "      <td>-0.075898</td>\n",
       "      <td>0.546487</td>\n",
       "      <td>0.182674</td>\n",
       "      <td>0.303961</td>\n",
       "      <td>-0.571854</td>\n",
       "      <td>-0.822994</td>\n",
       "      <td>0.212698</td>\n",
       "      <td>...</td>\n",
       "      <td>1.314737</td>\n",
       "      <td>-0.700739</td>\n",
       "      <td>-0.570497</td>\n",
       "      <td>0.672079</td>\n",
       "      <td>-0.255689</td>\n",
       "      <td>0.473933</td>\n",
       "      <td>-0.319597</td>\n",
       "      <td>2.733735</td>\n",
       "      <td>1.247620</td>\n",
       "      <td>-0.433203</td>\n",
       "    </tr>\n",
       "    <tr>\n",
       "      <th>gastritis</th>\n",
       "      <td>-0.301861</td>\n",
       "      <td>0.026726</td>\n",
       "      <td>-1.095334</td>\n",
       "      <td>0.238529</td>\n",
       "      <td>-1.060668</td>\n",
       "      <td>-1.277446</td>\n",
       "      <td>1.096986</td>\n",
       "      <td>-0.490961</td>\n",
       "      <td>0.388828</td>\n",
       "      <td>2.672629</td>\n",
       "      <td>...</td>\n",
       "      <td>1.686590</td>\n",
       "      <td>-0.032626</td>\n",
       "      <td>-0.554427</td>\n",
       "      <td>0.406311</td>\n",
       "      <td>-0.725370</td>\n",
       "      <td>-0.700858</td>\n",
       "      <td>-0.669952</td>\n",
       "      <td>2.088057</td>\n",
       "      <td>-0.195165</td>\n",
       "      <td>1.154248</td>\n",
       "    </tr>\n",
       "    <tr>\n",
       "      <th>neoplasm</th>\n",
       "      <td>3.186200</td>\n",
       "      <td>-0.215859</td>\n",
       "      <td>-0.640350</td>\n",
       "      <td>0.748803</td>\n",
       "      <td>-1.183247</td>\n",
       "      <td>-0.773517</td>\n",
       "      <td>0.111114</td>\n",
       "      <td>-0.579060</td>\n",
       "      <td>-0.909444</td>\n",
       "      <td>-0.860679</td>\n",
       "      <td>...</td>\n",
       "      <td>0.849432</td>\n",
       "      <td>0.533190</td>\n",
       "      <td>0.851463</td>\n",
       "      <td>0.588349</td>\n",
       "      <td>-1.023563</td>\n",
       "      <td>0.226923</td>\n",
       "      <td>1.508859</td>\n",
       "      <td>0.368243</td>\n",
       "      <td>0.636630</td>\n",
       "      <td>0.131323</td>\n",
       "    </tr>\n",
       "  </tbody>\n",
       "</table>\n",
       "<p>5 rows × 6452 columns</p>\n",
       "</div>"
      ],
      "text/plain": [
       "gene_name                                ENSG00000183087  ENSG00000157227  \\\n",
       "vascular disease AND intestinal disease         0.847454         1.009161   \n",
       "osteoarthritis, knee                           -0.949368         2.236648   \n",
       "carpal tunnel syndrome                          3.451503         0.179316   \n",
       "gastritis                                      -0.301861         0.026726   \n",
       "neoplasm                                        3.186200        -0.215859   \n",
       "\n",
       "gene_name                                ENSG00000096696  ENSG00000175130  \\\n",
       "vascular disease AND intestinal disease        -0.834057        -0.070589   \n",
       "osteoarthritis, knee                            0.059025         0.312724   \n",
       "carpal tunnel syndrome                          1.656231        -0.075898   \n",
       "gastritis                                      -1.095334         0.238529   \n",
       "neoplasm                                       -0.640350         0.748803   \n",
       "\n",
       "gene_name                                ENSG00000113140  ENSG00000117984  \\\n",
       "vascular disease AND intestinal disease        -0.329654         1.339072   \n",
       "osteoarthritis, knee                           -1.303170         0.827997   \n",
       "carpal tunnel syndrome                          0.546487         0.182674   \n",
       "gastritis                                      -1.060668        -1.277446   \n",
       "neoplasm                                       -1.183247        -0.773517   \n",
       "\n",
       "gene_name                                ENSG00000116016  ENSG00000129116  \\\n",
       "vascular disease AND intestinal disease        -1.317406        -0.153223   \n",
       "osteoarthritis, knee                            2.295848        -0.118700   \n",
       "carpal tunnel syndrome                          0.303961        -0.571854   \n",
       "gastritis                                       1.096986        -0.490961   \n",
       "neoplasm                                        0.111114        -0.579060   \n",
       "\n",
       "gene_name                                ENSG00000134686  ENSG00000108679  \\\n",
       "vascular disease AND intestinal disease         0.208080         1.305476   \n",
       "osteoarthritis, knee                            1.478273        -0.048731   \n",
       "carpal tunnel syndrome                         -0.822994         0.212698   \n",
       "gastritis                                       0.388828         2.672629   \n",
       "neoplasm                                       -0.909444        -0.860679   \n",
       "\n",
       "gene_name                                ...  ENSG00000111716  \\\n",
       "vascular disease AND intestinal disease  ...        -0.862693   \n",
       "osteoarthritis, knee                     ...        -0.900876   \n",
       "carpal tunnel syndrome                   ...         1.314737   \n",
       "gastritis                                ...         1.686590   \n",
       "neoplasm                                 ...         0.849432   \n",
       "\n",
       "gene_name                                ENSG00000166796  ENSG00000114331  \\\n",
       "vascular disease AND intestinal disease         0.178475        -0.867851   \n",
       "osteoarthritis, knee                            1.239900        -0.357637   \n",
       "carpal tunnel syndrome                         -0.700739        -0.570497   \n",
       "gastritis                                      -0.032626        -0.554427   \n",
       "neoplasm                                        0.533190         0.851463   \n",
       "\n",
       "gene_name                                ENSG00000131584  ENSG00000165410  \\\n",
       "vascular disease AND intestinal disease        -0.318883         0.023148   \n",
       "osteoarthritis, knee                           -0.510200        -0.233842   \n",
       "carpal tunnel syndrome                          0.672079        -0.255689   \n",
       "gastritis                                       0.406311        -0.725370   \n",
       "neoplasm                                        0.588349        -1.023563   \n",
       "\n",
       "gene_name                                ENSG00000172757  ENSG00000147862  \\\n",
       "vascular disease AND intestinal disease         0.121395         0.106954   \n",
       "osteoarthritis, knee                           -0.130737        -0.066291   \n",
       "carpal tunnel syndrome                          0.473933        -0.319597   \n",
       "gastritis                                      -0.700858        -0.669952   \n",
       "neoplasm                                        0.226923         1.508859   \n",
       "\n",
       "gene_name                                ENSG00000008323  ENSG00000167083  \\\n",
       "vascular disease AND intestinal disease         0.282147        -0.811827   \n",
       "osteoarthritis, knee                           -0.470850         0.133876   \n",
       "carpal tunnel syndrome                          2.733735         1.247620   \n",
       "gastritis                                       2.088057        -0.195165   \n",
       "neoplasm                                        0.368243         0.636630   \n",
       "\n",
       "gene_name                                ENSG00000149257  \n",
       "vascular disease AND intestinal disease         0.413489  \n",
       "osteoarthritis, knee                            0.992046  \n",
       "carpal tunnel syndrome                         -0.433203  \n",
       "gastritis                                       1.154248  \n",
       "neoplasm                                        0.131323  \n",
       "\n",
       "[5 rows x 6452 columns]"
      ]
     },
     "execution_count": 12,
     "metadata": {},
     "output_type": "execute_result"
    }
   ],
   "source": [
    "scaled_data.head()"
   ]
  },
  {
   "cell_type": "code",
   "execution_count": 13,
   "metadata": {
    "papermill": {
     "duration": 0.046615,
     "end_time": "2020-11-24T15:17:14.754309",
     "exception": false,
     "start_time": "2020-11-24T15:17:14.707694",
     "status": "completed"
    },
    "tags": []
   },
   "outputs": [
    {
     "data": {
      "text/html": [
       "<div>\n",
       "<style scoped>\n",
       "    .dataframe tbody tr th:only-of-type {\n",
       "        vertical-align: middle;\n",
       "    }\n",
       "\n",
       "    .dataframe tbody tr th {\n",
       "        vertical-align: top;\n",
       "    }\n",
       "\n",
       "    .dataframe thead th {\n",
       "        text-align: right;\n",
       "    }\n",
       "</style>\n",
       "<table border=\"1\" class=\"dataframe\">\n",
       "  <thead>\n",
       "    <tr style=\"text-align: right;\">\n",
       "      <th>gene_name</th>\n",
       "      <th>ENSG00000183087</th>\n",
       "      <th>ENSG00000157227</th>\n",
       "      <th>ENSG00000096696</th>\n",
       "      <th>ENSG00000175130</th>\n",
       "      <th>ENSG00000113140</th>\n",
       "      <th>ENSG00000117984</th>\n",
       "      <th>ENSG00000116016</th>\n",
       "      <th>ENSG00000129116</th>\n",
       "      <th>ENSG00000134686</th>\n",
       "      <th>ENSG00000108679</th>\n",
       "    </tr>\n",
       "  </thead>\n",
       "  <tbody>\n",
       "    <tr>\n",
       "      <th>count</th>\n",
       "      <td>5.380000e+02</td>\n",
       "      <td>5.380000e+02</td>\n",
       "      <td>5.380000e+02</td>\n",
       "      <td>5.380000e+02</td>\n",
       "      <td>5.380000e+02</td>\n",
       "      <td>5.380000e+02</td>\n",
       "      <td>5.380000e+02</td>\n",
       "      <td>5.380000e+02</td>\n",
       "      <td>5.380000e+02</td>\n",
       "      <td>5.380000e+02</td>\n",
       "    </tr>\n",
       "    <tr>\n",
       "      <th>mean</th>\n",
       "      <td>-2.674441e-16</td>\n",
       "      <td>6.075272e-16</td>\n",
       "      <td>9.046873e-16</td>\n",
       "      <td>-2.839530e-16</td>\n",
       "      <td>9.971371e-16</td>\n",
       "      <td>3.433850e-16</td>\n",
       "      <td>-4.820597e-16</td>\n",
       "      <td>2.773494e-16</td>\n",
       "      <td>-1.452783e-16</td>\n",
       "      <td>-1.591457e-15</td>\n",
       "    </tr>\n",
       "    <tr>\n",
       "      <th>std</th>\n",
       "      <td>1.000931e+00</td>\n",
       "      <td>1.000931e+00</td>\n",
       "      <td>1.000931e+00</td>\n",
       "      <td>1.000931e+00</td>\n",
       "      <td>1.000931e+00</td>\n",
       "      <td>1.000931e+00</td>\n",
       "      <td>1.000931e+00</td>\n",
       "      <td>1.000931e+00</td>\n",
       "      <td>1.000931e+00</td>\n",
       "      <td>1.000931e+00</td>\n",
       "    </tr>\n",
       "    <tr>\n",
       "      <th>min</th>\n",
       "      <td>-1.381081e+00</td>\n",
       "      <td>-1.267069e+00</td>\n",
       "      <td>-1.411373e+00</td>\n",
       "      <td>-1.410552e+00</td>\n",
       "      <td>-1.452944e+00</td>\n",
       "      <td>-1.400873e+00</td>\n",
       "      <td>-1.416936e+00</td>\n",
       "      <td>-1.479628e+00</td>\n",
       "      <td>-1.364526e+00</td>\n",
       "      <td>-1.422604e+00</td>\n",
       "    </tr>\n",
       "    <tr>\n",
       "      <th>25%</th>\n",
       "      <td>-7.809334e-01</td>\n",
       "      <td>-7.524550e-01</td>\n",
       "      <td>-7.631052e-01</td>\n",
       "      <td>-7.767848e-01</td>\n",
       "      <td>-8.260515e-01</td>\n",
       "      <td>-8.338810e-01</td>\n",
       "      <td>-7.963371e-01</td>\n",
       "      <td>-8.014798e-01</td>\n",
       "      <td>-7.654346e-01</td>\n",
       "      <td>-7.093673e-01</td>\n",
       "    </tr>\n",
       "    <tr>\n",
       "      <th>50%</th>\n",
       "      <td>-1.459199e-01</td>\n",
       "      <td>-2.094999e-01</td>\n",
       "      <td>-1.989051e-01</td>\n",
       "      <td>-1.092965e-01</td>\n",
       "      <td>-1.962739e-01</td>\n",
       "      <td>-2.005615e-01</td>\n",
       "      <td>-1.335364e-01</td>\n",
       "      <td>-1.515823e-01</td>\n",
       "      <td>-2.192914e-01</td>\n",
       "      <td>-2.455904e-01</td>\n",
       "    </tr>\n",
       "    <tr>\n",
       "      <th>75%</th>\n",
       "      <td>5.287771e-01</td>\n",
       "      <td>4.987990e-01</td>\n",
       "      <td>5.365205e-01</td>\n",
       "      <td>6.077054e-01</td>\n",
       "      <td>6.334212e-01</td>\n",
       "      <td>6.254250e-01</td>\n",
       "      <td>5.706673e-01</td>\n",
       "      <td>5.809260e-01</td>\n",
       "      <td>5.404921e-01</td>\n",
       "      <td>5.872420e-01</td>\n",
       "    </tr>\n",
       "    <tr>\n",
       "      <th>max</th>\n",
       "      <td>6.140272e+00</td>\n",
       "      <td>8.272710e+00</td>\n",
       "      <td>3.939682e+00</td>\n",
       "      <td>4.169953e+00</td>\n",
       "      <td>4.217329e+00</td>\n",
       "      <td>3.345125e+00</td>\n",
       "      <td>4.667331e+00</td>\n",
       "      <td>3.865306e+00</td>\n",
       "      <td>5.229143e+00</td>\n",
       "      <td>3.629959e+00</td>\n",
       "    </tr>\n",
       "  </tbody>\n",
       "</table>\n",
       "</div>"
      ],
      "text/plain": [
       "gene_name  ENSG00000183087  ENSG00000157227  ENSG00000096696  ENSG00000175130  \\\n",
       "count         5.380000e+02     5.380000e+02     5.380000e+02     5.380000e+02   \n",
       "mean         -2.674441e-16     6.075272e-16     9.046873e-16    -2.839530e-16   \n",
       "std           1.000931e+00     1.000931e+00     1.000931e+00     1.000931e+00   \n",
       "min          -1.381081e+00    -1.267069e+00    -1.411373e+00    -1.410552e+00   \n",
       "25%          -7.809334e-01    -7.524550e-01    -7.631052e-01    -7.767848e-01   \n",
       "50%          -1.459199e-01    -2.094999e-01    -1.989051e-01    -1.092965e-01   \n",
       "75%           5.287771e-01     4.987990e-01     5.365205e-01     6.077054e-01   \n",
       "max           6.140272e+00     8.272710e+00     3.939682e+00     4.169953e+00   \n",
       "\n",
       "gene_name  ENSG00000113140  ENSG00000117984  ENSG00000116016  ENSG00000129116  \\\n",
       "count         5.380000e+02     5.380000e+02     5.380000e+02     5.380000e+02   \n",
       "mean          9.971371e-16     3.433850e-16    -4.820597e-16     2.773494e-16   \n",
       "std           1.000931e+00     1.000931e+00     1.000931e+00     1.000931e+00   \n",
       "min          -1.452944e+00    -1.400873e+00    -1.416936e+00    -1.479628e+00   \n",
       "25%          -8.260515e-01    -8.338810e-01    -7.963371e-01    -8.014798e-01   \n",
       "50%          -1.962739e-01    -2.005615e-01    -1.335364e-01    -1.515823e-01   \n",
       "75%           6.334212e-01     6.254250e-01     5.706673e-01     5.809260e-01   \n",
       "max           4.217329e+00     3.345125e+00     4.667331e+00     3.865306e+00   \n",
       "\n",
       "gene_name  ENSG00000134686  ENSG00000108679  \n",
       "count         5.380000e+02     5.380000e+02  \n",
       "mean         -1.452783e-16    -1.591457e-15  \n",
       "std           1.000931e+00     1.000931e+00  \n",
       "min          -1.364526e+00    -1.422604e+00  \n",
       "25%          -7.654346e-01    -7.093673e-01  \n",
       "50%          -2.192914e-01    -2.455904e-01  \n",
       "75%           5.404921e-01     5.872420e-01  \n",
       "max           5.229143e+00     3.629959e+00  "
      ]
     },
     "metadata": {},
     "output_type": "display_data"
    }
   ],
   "source": [
    "scaled_data_stats = scaled_data.iloc[:,:10].describe()\n",
    "display(scaled_data_stats)"
   ]
  },
  {
   "cell_type": "markdown",
   "metadata": {
    "papermill": {
     "duration": 0.011069,
     "end_time": "2020-11-24T15:17:14.776791",
     "exception": false,
     "start_time": "2020-11-24T15:17:14.765722",
     "status": "completed"
    },
    "tags": []
   },
   "source": [
    "## Testing"
   ]
  },
  {
   "cell_type": "code",
   "execution_count": 14,
   "metadata": {
    "papermill": {
     "duration": 0.02417,
     "end_time": "2020-11-24T15:17:14.812157",
     "exception": false,
     "start_time": "2020-11-24T15:17:14.787987",
     "status": "completed"
    },
    "tags": []
   },
   "outputs": [],
   "source": [
    "assert np.all([np.isclose(scaled_data_stats.loc['mean', c], 0.0) for c in scaled_data_stats.columns])"
   ]
  },
  {
   "cell_type": "code",
   "execution_count": 15,
   "metadata": {
    "papermill": {
     "duration": 0.023286,
     "end_time": "2020-11-24T15:17:14.846834",
     "exception": false,
     "start_time": "2020-11-24T15:17:14.823548",
     "status": "completed"
    },
    "tags": []
   },
   "outputs": [],
   "source": [
    "assert np.all([np.isclose(scaled_data_stats.loc['std', c], 1.0, atol=1e-03) for c in scaled_data_stats.columns])"
   ]
  },
  {
   "cell_type": "markdown",
   "metadata": {
    "papermill": {
     "duration": 0.010619,
     "end_time": "2020-11-24T15:17:14.868401",
     "exception": false,
     "start_time": "2020-11-24T15:17:14.857782",
     "status": "completed"
    },
    "tags": []
   },
   "source": [
    "# Save"
   ]
  },
  {
   "cell_type": "code",
   "execution_count": 16,
   "metadata": {
    "papermill": {
     "duration": 0.0236,
     "end_time": "2020-11-24T15:17:14.902674",
     "exception": false,
     "start_time": "2020-11-24T15:17:14.879074",
     "status": "completed"
    },
    "tags": []
   },
   "outputs": [
    {
     "data": {
      "text/plain": [
       "PosixPath('/media/miltondp/Elements1/projects/phenoplier/results/data_transformations/z_score_std/z_score_std-diseases_only-smultixcan-efo_partial-mashr-zscores.pkl')"
      ]
     },
     "metadata": {},
     "output_type": "display_data"
    }
   ],
   "source": [
    "output_file = Path(\n",
    "    RESULTS_DIR,\n",
    "    f'z_score_std-{input_filepath_stem}.pkl',\n",
    ").resolve()\n",
    "\n",
    "display(output_file)"
   ]
  },
  {
   "cell_type": "code",
   "execution_count": 17,
   "metadata": {
    "papermill": {
     "duration": 0.523712,
     "end_time": "2020-11-24T15:17:15.437672",
     "exception": false,
     "start_time": "2020-11-24T15:17:14.913960",
     "status": "completed"
    },
    "tags": []
   },
   "outputs": [],
   "source": [
    "scaled_data.to_pickle(output_file)"
   ]
  },
  {
   "cell_type": "code",
   "execution_count": null,
   "metadata": {
    "papermill": {
     "duration": 0.010923,
     "end_time": "2020-11-24T15:17:15.460875",
     "exception": false,
     "start_time": "2020-11-24T15:17:15.449952",
     "status": "completed"
    },
    "tags": []
   },
   "outputs": [],
   "source": []
  }
 ],
 "metadata": {
  "kernelspec": {
   "display_name": "Python 3",
   "language": "python",
   "name": "python3"
  },
  "language_info": {
   "codemirror_mode": {
    "name": "ipython",
    "version": 3
   },
   "file_extension": ".py",
   "mimetype": "text/x-python",
   "name": "python",
   "nbconvert_exporter": "python",
   "pygments_lexer": "ipython3",
   "version": "3.8.6"
  },
  "papermill": {
   "default_parameters": {},
   "duration": 4.195896,
   "end_time": "2020-11-24T15:17:16.709240",
   "environment_variables": {},
   "exception": null,
   "input_path": "10_data_transformations/001_01-z_score_std-smultixcan_efo.ipynb",
   "output_path": "10_data_transformations/001_01-z_score_std-smultixcan_efo.run.ipynb",
   "parameters": {},
   "start_time": "2020-11-24T15:17:12.513344",
   "version": "2.2.2"
  },
  "toc-autonumbering": true,
  "toc-showcode": false,
  "toc-showmarkdowntxt": false,
  "toc-showtags": false
 },
 "nbformat": 4,
 "nbformat_minor": 4
}
