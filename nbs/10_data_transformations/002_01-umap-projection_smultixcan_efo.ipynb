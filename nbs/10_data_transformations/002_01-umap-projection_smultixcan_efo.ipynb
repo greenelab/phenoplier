{
 "cells": [
  {
   "cell_type": "markdown",
   "metadata": {},
   "source": [
    "# Description"
   ]
  },
  {
   "cell_type": "markdown",
   "metadata": {},
   "source": [
    "It projects input data into a UMAP representation."
   ]
  },
  {
   "cell_type": "markdown",
   "metadata": {},
   "source": [
    "# Modules loading"
   ]
  },
  {
   "cell_type": "code",
   "execution_count": null,
   "metadata": {},
   "outputs": [],
   "source": [
    "%load_ext autoreload\n",
    "%autoreload 2"
   ]
  },
  {
   "cell_type": "code",
   "execution_count": null,
   "metadata": {},
   "outputs": [],
   "source": [
    "from pathlib import Path\n",
    "from IPython.display import display\n",
    "\n",
    "import pandas as pd\n",
    "import umap\n",
    "import matplotlib.pyplot as plt\n",
    "import seaborn as sns\n",
    "\n",
    "import conf\n",
    "from utils import generate_result_set_name"
   ]
  },
  {
   "cell_type": "markdown",
   "metadata": {},
   "source": [
    "# Settings"
   ]
  },
  {
   "cell_type": "code",
   "execution_count": null,
   "metadata": {},
   "outputs": [],
   "source": [
    "INPUT_FILEPATH_STEM = 'projection-smultixcan-efo_partial-mashr-zscores'"
   ]
  },
  {
   "cell_type": "code",
   "execution_count": null,
   "metadata": {},
   "outputs": [],
   "source": [
    "INPUT_FILEPATH = Path(\n",
    "    conf.RESULTS[\"DATA_TRANSFORMATIONS_DIR\"],\n",
    "    'z_score_std',\n",
    "    f'z_score_std-{INPUT_FILEPATH_STEM}.pkl',\n",
    ").resolve()\n",
    "display(INPUT_FILEPATH)\n",
    "\n",
    "input_filepath_stem = INPUT_FILEPATH.stem\n",
    "display(input_filepath_stem)"
   ]
  },
  {
   "cell_type": "code",
   "execution_count": null,
   "metadata": {},
   "outputs": [],
   "source": [
    "# number of components to use in the dimensionality reduction step\n",
    "DR_OPTIONS = {\n",
    "    'n_components': [5, 10, 20, 30, 40, 50],\n",
    "    'metric': 'euclidean',\n",
    "    'n_neighbors': 15,\n",
    "    'random_state': 0,\n",
    "}"
   ]
  },
  {
   "cell_type": "code",
   "execution_count": null,
   "metadata": {},
   "outputs": [],
   "source": [
    "# output dir for this notebook\n",
    "RESULTS_DIR = Path(\n",
    "    conf.RESULTS[\"DATA_TRANSFORMATIONS_DIR\"],\n",
    "    'umap'\n",
    ").resolve()\n",
    "RESULTS_DIR.mkdir(parents=True, exist_ok=True)\n",
    "\n",
    "display(RESULTS_DIR)"
   ]
  },
  {
   "cell_type": "code",
   "execution_count": null,
   "metadata": {},
   "outputs": [],
   "source": [
    "# dictionary containing all options/settings (used to generate filenames)\n",
    "ALL_OPTIONS = DR_OPTIONS.copy()\n",
    "# ALL_OPTIONS['proj_percentile'] = PERCENTILE_NAME\n",
    "\n",
    "display(ALL_OPTIONS)"
   ]
  },
  {
   "cell_type": "markdown",
   "metadata": {},
   "source": [
    "# Load input file"
   ]
  },
  {
   "cell_type": "code",
   "execution_count": null,
   "metadata": {},
   "outputs": [],
   "source": [
    "data = pd.read_pickle(INPUT_FILEPATH)"
   ]
  },
  {
   "cell_type": "code",
   "execution_count": null,
   "metadata": {},
   "outputs": [],
   "source": [
    "data.shape"
   ]
  },
  {
   "cell_type": "code",
   "execution_count": null,
   "metadata": {},
   "outputs": [],
   "source": [
    "data.head()"
   ]
  },
  {
   "cell_type": "markdown",
   "metadata": {},
   "source": [
    "# UMAP"
   ]
  },
  {
   "cell_type": "code",
   "execution_count": null,
   "metadata": {},
   "outputs": [],
   "source": [
    "def get_umap_proj(orig_data, options):\n",
    "    umap_options = {k:v for k, v in options.items() if k in DR_OPTIONS}\n",
    "    display(f'UMAP options: {umap_options}')\n",
    "    umap_obj = umap.UMAP(**umap_options)\n",
    "    umap_obj = umap_obj.fit(orig_data)\n",
    "    umap_data = umap_obj.transform(orig_data)\n",
    "    return pd.DataFrame(\n",
    "        data=umap_data,\n",
    "        index=orig_data.index.copy(),\n",
    "        columns=[f'UMAP{i+1}' for i in range(umap_data.shape[1])]\n",
    "    )"
   ]
  },
  {
   "cell_type": "code",
   "execution_count": null,
   "metadata": {},
   "outputs": [],
   "source": [
    "# for n_comp, n_neigh in product(DR_OPTIONS['n_components'], DR_OPTIONS['n_neighbors']):\n",
    "for n_comp in DR_OPTIONS['n_components']:\n",
    "    print(f'# components: {n_comp}')\n",
    "    \n",
    "    options = ALL_OPTIONS.copy()\n",
    "    options['n_components'] = n_comp\n",
    "    \n",
    "    dr_data = get_umap_proj(data, options)\n",
    "    \n",
    "    display(dr_data.shape)\n",
    "    assert dr_data.shape == (data.shape[0], n_comp)\n",
    "    \n",
    "    display(dr_data.iloc[:, 0:5].describe())\n",
    "    \n",
    "    # save\n",
    "    output_file = Path(\n",
    "        RESULTS_DIR,\n",
    "        generate_result_set_name(\n",
    "            options,\n",
    "            prefix=f'umap-{input_filepath_stem}-',\n",
    "            suffix='.pkl'\n",
    "        )\n",
    "    ).resolve()\n",
    "    display(output_file)\n",
    "    \n",
    "    dr_data.to_pickle(output_file)\n",
    "    \n",
    "    print('\\n')"
   ]
  },
  {
   "cell_type": "code",
   "execution_count": null,
   "metadata": {},
   "outputs": [],
   "source": []
  }
 ],
 "metadata": {
  "kernelspec": {
   "display_name": "Python 3",
   "language": "python",
   "name": "python3"
  },
  "language_info": {
   "codemirror_mode": {
    "name": "ipython",
    "version": 3
   },
   "file_extension": ".py",
   "mimetype": "text/x-python",
   "name": "python",
   "nbconvert_exporter": "python",
   "pygments_lexer": "ipython3",
   "version": "3.8.6"
  },
  "toc-autonumbering": true,
  "toc-showcode": false,
  "toc-showmarkdowntxt": false,
  "toc-showtags": false
 },
 "nbformat": 4,
 "nbformat_minor": 4
}
