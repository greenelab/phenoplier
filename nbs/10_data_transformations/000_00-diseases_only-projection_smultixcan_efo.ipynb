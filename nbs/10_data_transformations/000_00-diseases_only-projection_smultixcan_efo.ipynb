{
 "cells": [
  {
   "cell_type": "markdown",
   "metadata": {
    "papermill": {
     "duration": 0.038123,
     "end_time": "2020-11-24T15:13:22.776981",
     "exception": false,
     "start_time": "2020-11-24T15:13:22.738858",
     "status": "completed"
    },
    "tags": []
   },
   "source": [
    "# Description"
   ]
  },
  {
   "cell_type": "markdown",
   "metadata": {
    "papermill": {
     "duration": 0.010029,
     "end_time": "2020-11-24T15:13:22.802735",
     "exception": false,
     "start_time": "2020-11-24T15:13:22.792706",
     "status": "completed"
    },
    "tags": []
   },
   "source": [
    "It selects diseases only from traits."
   ]
  },
  {
   "cell_type": "markdown",
   "metadata": {
    "papermill": {
     "duration": 0.008593,
     "end_time": "2020-11-24T15:13:22.819942",
     "exception": false,
     "start_time": "2020-11-24T15:13:22.811349",
     "status": "completed"
    },
    "tags": []
   },
   "source": [
    "# Modules loading"
   ]
  },
  {
   "cell_type": "code",
   "execution_count": 1,
   "metadata": {
    "execution": {
     "iopub.execute_input": "2020-11-24T15:13:22.840922Z",
     "iopub.status.busy": "2020-11-24T15:13:22.840483Z",
     "iopub.status.idle": "2020-11-24T15:13:22.848514Z",
     "shell.execute_reply": "2020-11-24T15:13:22.848094Z"
    },
    "papermill": {
     "duration": 0.019851,
     "end_time": "2020-11-24T15:13:22.848635",
     "exception": false,
     "start_time": "2020-11-24T15:13:22.828784",
     "status": "completed"
    },
    "tags": []
   },
   "outputs": [],
   "source": [
    "%load_ext autoreload\n",
    "%autoreload 2"
   ]
  },
  {
   "cell_type": "code",
   "execution_count": 2,
   "metadata": {
    "execution": {
     "iopub.execute_input": "2020-11-24T15:13:22.870270Z",
     "iopub.status.busy": "2020-11-24T15:13:22.869899Z",
     "iopub.status.idle": "2020-11-24T15:13:24.452115Z",
     "shell.execute_reply": "2020-11-24T15:13:24.451731Z"
    },
    "papermill": {
     "duration": 1.593796,
     "end_time": "2020-11-24T15:13:24.452225",
     "exception": false,
     "start_time": "2020-11-24T15:13:22.858429",
     "status": "completed"
    },
    "tags": []
   },
   "outputs": [],
   "source": [
    "from pathlib import Path\n",
    "from IPython.display import display\n",
    "\n",
    "import pandas as pd\n",
    "import umap\n",
    "import matplotlib.pyplot as plt\n",
    "import seaborn as sns\n",
    "\n",
    "import conf\n",
    "from utils import generate_result_set_name\n",
    "from data.cache import read_data"
   ]
  },
  {
   "cell_type": "markdown",
   "metadata": {
    "papermill": {
     "duration": 0.009336,
     "end_time": "2020-11-24T15:13:24.471967",
     "exception": false,
     "start_time": "2020-11-24T15:13:24.462631",
     "status": "completed"
    },
    "tags": []
   },
   "source": [
    "# Settings"
   ]
  },
  {
   "cell_type": "code",
   "execution_count": 3,
   "metadata": {
    "execution": {
     "iopub.execute_input": "2020-11-24T15:13:24.492196Z",
     "iopub.status.busy": "2020-11-24T15:13:24.491830Z",
     "iopub.status.idle": "2020-11-24T15:13:24.507109Z",
     "shell.execute_reply": "2020-11-24T15:13:24.506772Z"
    },
    "papermill": {
     "duration": 0.026295,
     "end_time": "2020-11-24T15:13:24.507200",
     "exception": false,
     "start_time": "2020-11-24T15:13:24.480905",
     "status": "completed"
    },
    "tags": []
   },
   "outputs": [
    {
     "data": {
      "text/plain": [
       "PosixPath('/home/miltondp/projects/labs/greenelab/phenoplier/base/results/projections/projection-smultixcan-efo_partial-mashr-zscores.pkl')"
      ]
     },
     "metadata": {},
     "output_type": "display_data"
    },
    {
     "data": {
      "text/plain": [
       "'projection-smultixcan-efo_partial-mashr-zscores'"
      ]
     },
     "metadata": {},
     "output_type": "display_data"
    }
   ],
   "source": [
    "INPUT_FILEPATH = Path(\n",
    "    conf.RESULTS['PROJECTIONS_DIR'],\n",
    "    'projection-smultixcan-efo_partial-mashr-zscores.pkl'\n",
    ").resolve()\n",
    "display(INPUT_FILEPATH)\n",
    "\n",
    "input_filepath_stem = INPUT_FILEPATH.stem\n",
    "display(input_filepath_stem)"
   ]
  },
  {
   "cell_type": "code",
   "execution_count": 4,
   "metadata": {
    "execution": {
     "iopub.execute_input": "2020-11-24T15:13:24.528778Z",
     "iopub.status.busy": "2020-11-24T15:13:24.528368Z",
     "iopub.status.idle": "2020-11-24T15:13:24.541287Z",
     "shell.execute_reply": "2020-11-24T15:13:24.540874Z"
    },
    "papermill": {
     "duration": 0.024624,
     "end_time": "2020-11-24T15:13:24.541386",
     "exception": false,
     "start_time": "2020-11-24T15:13:24.516762",
     "status": "completed"
    },
    "tags": []
   },
   "outputs": [
    {
     "data": {
      "text/plain": [
       "PosixPath('/home/miltondp/projects/labs/greenelab/phenoplier/base/results/data_transformations/traits_selections')"
      ]
     },
     "metadata": {},
     "output_type": "display_data"
    }
   ],
   "source": [
    "# output dir for this notebook\n",
    "RESULTS_DIR = Path(\n",
    "    conf.RESULTS[\"DATA_TRANSFORMATIONS_DIR\"],\n",
    "    'traits_selections'\n",
    ").resolve()\n",
    "RESULTS_DIR.mkdir(parents=True, exist_ok=True)\n",
    "\n",
    "display(RESULTS_DIR)"
   ]
  },
  {
   "cell_type": "markdown",
   "metadata": {
    "papermill": {
     "duration": 0.010119,
     "end_time": "2020-11-24T15:13:24.561982",
     "exception": false,
     "start_time": "2020-11-24T15:13:24.551863",
     "status": "completed"
    },
    "tags": []
   },
   "source": [
    "# Load input file"
   ]
  },
  {
   "cell_type": "code",
   "execution_count": 5,
   "metadata": {
    "execution": {
     "iopub.execute_input": "2020-11-24T15:13:24.584163Z",
     "iopub.status.busy": "2020-11-24T15:13:24.583799Z",
     "iopub.status.idle": "2020-11-24T15:13:24.609014Z",
     "shell.execute_reply": "2020-11-24T15:13:24.608651Z"
    },
    "papermill": {
     "duration": 0.03713,
     "end_time": "2020-11-24T15:13:24.609118",
     "exception": false,
     "start_time": "2020-11-24T15:13:24.571988",
     "status": "completed"
    },
    "tags": []
   },
   "outputs": [],
   "source": [
    "data = pd.read_pickle(INPUT_FILEPATH).T"
   ]
  },
  {
   "cell_type": "code",
   "execution_count": 6,
   "metadata": {
    "execution": {
     "iopub.execute_input": "2020-11-24T15:13:24.633072Z",
     "iopub.status.busy": "2020-11-24T15:13:24.632639Z",
     "iopub.status.idle": "2020-11-24T15:13:24.646800Z",
     "shell.execute_reply": "2020-11-24T15:13:24.646410Z"
    },
    "papermill": {
     "duration": 0.026992,
     "end_time": "2020-11-24T15:13:24.646900",
     "exception": false,
     "start_time": "2020-11-24T15:13:24.619908",
     "status": "completed"
    },
    "tags": []
   },
   "outputs": [
    {
     "data": {
      "text/plain": [
       "(3749, 987)"
      ]
     },
     "execution_count": 6,
     "metadata": {},
     "output_type": "execute_result"
    }
   ],
   "source": [
    "data.shape"
   ]
  },
  {
   "cell_type": "code",
   "execution_count": 7,
   "metadata": {
    "execution": {
     "iopub.execute_input": "2020-11-24T15:13:24.670679Z",
     "iopub.status.busy": "2020-11-24T15:13:24.670293Z",
     "iopub.status.idle": "2020-11-24T15:13:24.695926Z",
     "shell.execute_reply": "2020-11-24T15:13:24.695546Z"
    },
    "papermill": {
     "duration": 0.0381,
     "end_time": "2020-11-24T15:13:24.696017",
     "exception": false,
     "start_time": "2020-11-24T15:13:24.657917",
     "status": "completed"
    },
    "tags": []
   },
   "outputs": [
    {
     "data": {
      "text/html": [
       "<div>\n",
       "<style scoped>\n",
       "    .dataframe tbody tr th:only-of-type {\n",
       "        vertical-align: middle;\n",
       "    }\n",
       "\n",
       "    .dataframe tbody tr th {\n",
       "        vertical-align: top;\n",
       "    }\n",
       "\n",
       "    .dataframe thead th {\n",
       "        text-align: right;\n",
       "    }\n",
       "</style>\n",
       "<table border=\"1\" class=\"dataframe\">\n",
       "  <thead>\n",
       "    <tr style=\"text-align: right;\">\n",
       "      <th></th>\n",
       "      <th>LV1</th>\n",
       "      <th>LV2</th>\n",
       "      <th>LV3</th>\n",
       "      <th>LV4</th>\n",
       "      <th>LV5</th>\n",
       "      <th>LV6</th>\n",
       "      <th>LV7</th>\n",
       "      <th>LV8</th>\n",
       "      <th>LV9</th>\n",
       "      <th>LV10</th>\n",
       "      <th>...</th>\n",
       "      <th>LV978</th>\n",
       "      <th>LV979</th>\n",
       "      <th>LV980</th>\n",
       "      <th>LV981</th>\n",
       "      <th>LV982</th>\n",
       "      <th>LV983</th>\n",
       "      <th>LV984</th>\n",
       "      <th>LV985</th>\n",
       "      <th>LV986</th>\n",
       "      <th>LV987</th>\n",
       "    </tr>\n",
       "  </thead>\n",
       "  <tbody>\n",
       "    <tr>\n",
       "      <th>100001_raw-Food_weight</th>\n",
       "      <td>-0.018452</td>\n",
       "      <td>0.052938</td>\n",
       "      <td>-0.003629</td>\n",
       "      <td>0.028359</td>\n",
       "      <td>-0.015500</td>\n",
       "      <td>0.035854</td>\n",
       "      <td>-0.015439</td>\n",
       "      <td>0.023007</td>\n",
       "      <td>0.017368</td>\n",
       "      <td>0.026811</td>\n",
       "      <td>...</td>\n",
       "      <td>0.033560</td>\n",
       "      <td>0.047126</td>\n",
       "      <td>-0.036183</td>\n",
       "      <td>0.068750</td>\n",
       "      <td>0.023462</td>\n",
       "      <td>-0.030111</td>\n",
       "      <td>0.011272</td>\n",
       "      <td>-0.017171</td>\n",
       "      <td>0.016078</td>\n",
       "      <td>-0.022283</td>\n",
       "    </tr>\n",
       "    <tr>\n",
       "      <th>100002_raw-Energy</th>\n",
       "      <td>-0.043782</td>\n",
       "      <td>-0.012041</td>\n",
       "      <td>-0.011772</td>\n",
       "      <td>-0.006148</td>\n",
       "      <td>0.007011</td>\n",
       "      <td>0.018142</td>\n",
       "      <td>0.003144</td>\n",
       "      <td>0.018049</td>\n",
       "      <td>0.006926</td>\n",
       "      <td>0.038587</td>\n",
       "      <td>...</td>\n",
       "      <td>0.004833</td>\n",
       "      <td>0.022842</td>\n",
       "      <td>-0.009519</td>\n",
       "      <td>-0.000258</td>\n",
       "      <td>0.059764</td>\n",
       "      <td>-0.028394</td>\n",
       "      <td>-0.005967</td>\n",
       "      <td>0.045269</td>\n",
       "      <td>-0.007684</td>\n",
       "      <td>-0.018910</td>\n",
       "    </tr>\n",
       "    <tr>\n",
       "      <th>100003_raw-Protein</th>\n",
       "      <td>-0.021514</td>\n",
       "      <td>-0.028537</td>\n",
       "      <td>0.009441</td>\n",
       "      <td>0.007808</td>\n",
       "      <td>0.012707</td>\n",
       "      <td>0.021681</td>\n",
       "      <td>-0.006315</td>\n",
       "      <td>0.016129</td>\n",
       "      <td>0.000076</td>\n",
       "      <td>-0.001702</td>\n",
       "      <td>...</td>\n",
       "      <td>0.029704</td>\n",
       "      <td>0.029135</td>\n",
       "      <td>-0.056508</td>\n",
       "      <td>-0.002032</td>\n",
       "      <td>0.001189</td>\n",
       "      <td>-0.025507</td>\n",
       "      <td>-0.013012</td>\n",
       "      <td>0.037458</td>\n",
       "      <td>-0.009592</td>\n",
       "      <td>-0.016718</td>\n",
       "    </tr>\n",
       "    <tr>\n",
       "      <th>100004_raw-Fat</th>\n",
       "      <td>-0.030454</td>\n",
       "      <td>-0.052542</td>\n",
       "      <td>0.000459</td>\n",
       "      <td>-0.039613</td>\n",
       "      <td>0.006191</td>\n",
       "      <td>0.029523</td>\n",
       "      <td>0.000747</td>\n",
       "      <td>0.011876</td>\n",
       "      <td>-0.025758</td>\n",
       "      <td>0.025099</td>\n",
       "      <td>...</td>\n",
       "      <td>0.015900</td>\n",
       "      <td>0.016482</td>\n",
       "      <td>0.007409</td>\n",
       "      <td>-0.006833</td>\n",
       "      <td>0.036457</td>\n",
       "      <td>-0.034531</td>\n",
       "      <td>0.015365</td>\n",
       "      <td>0.023796</td>\n",
       "      <td>-0.017477</td>\n",
       "      <td>-0.005397</td>\n",
       "    </tr>\n",
       "    <tr>\n",
       "      <th>100005_raw-Carbohydrate</th>\n",
       "      <td>-0.017428</td>\n",
       "      <td>0.003757</td>\n",
       "      <td>-0.003708</td>\n",
       "      <td>-0.000929</td>\n",
       "      <td>-0.000647</td>\n",
       "      <td>-0.005729</td>\n",
       "      <td>0.024970</td>\n",
       "      <td>0.011531</td>\n",
       "      <td>0.035043</td>\n",
       "      <td>0.025159</td>\n",
       "      <td>...</td>\n",
       "      <td>-0.010071</td>\n",
       "      <td>0.002266</td>\n",
       "      <td>0.006664</td>\n",
       "      <td>0.007380</td>\n",
       "      <td>0.029940</td>\n",
       "      <td>-0.006989</td>\n",
       "      <td>0.014807</td>\n",
       "      <td>0.050208</td>\n",
       "      <td>0.005352</td>\n",
       "      <td>-0.049218</td>\n",
       "    </tr>\n",
       "  </tbody>\n",
       "</table>\n",
       "<p>5 rows × 987 columns</p>\n",
       "</div>"
      ],
      "text/plain": [
       "                              LV1       LV2       LV3       LV4       LV5  \\\n",
       "100001_raw-Food_weight  -0.018452  0.052938 -0.003629  0.028359 -0.015500   \n",
       "100002_raw-Energy       -0.043782 -0.012041 -0.011772 -0.006148  0.007011   \n",
       "100003_raw-Protein      -0.021514 -0.028537  0.009441  0.007808  0.012707   \n",
       "100004_raw-Fat          -0.030454 -0.052542  0.000459 -0.039613  0.006191   \n",
       "100005_raw-Carbohydrate -0.017428  0.003757 -0.003708 -0.000929 -0.000647   \n",
       "\n",
       "                              LV6       LV7       LV8       LV9      LV10  \\\n",
       "100001_raw-Food_weight   0.035854 -0.015439  0.023007  0.017368  0.026811   \n",
       "100002_raw-Energy        0.018142  0.003144  0.018049  0.006926  0.038587   \n",
       "100003_raw-Protein       0.021681 -0.006315  0.016129  0.000076 -0.001702   \n",
       "100004_raw-Fat           0.029523  0.000747  0.011876 -0.025758  0.025099   \n",
       "100005_raw-Carbohydrate -0.005729  0.024970  0.011531  0.035043  0.025159   \n",
       "\n",
       "                         ...     LV978     LV979     LV980     LV981  \\\n",
       "100001_raw-Food_weight   ...  0.033560  0.047126 -0.036183  0.068750   \n",
       "100002_raw-Energy        ...  0.004833  0.022842 -0.009519 -0.000258   \n",
       "100003_raw-Protein       ...  0.029704  0.029135 -0.056508 -0.002032   \n",
       "100004_raw-Fat           ...  0.015900  0.016482  0.007409 -0.006833   \n",
       "100005_raw-Carbohydrate  ... -0.010071  0.002266  0.006664  0.007380   \n",
       "\n",
       "                            LV982     LV983     LV984     LV985     LV986  \\\n",
       "100001_raw-Food_weight   0.023462 -0.030111  0.011272 -0.017171  0.016078   \n",
       "100002_raw-Energy        0.059764 -0.028394 -0.005967  0.045269 -0.007684   \n",
       "100003_raw-Protein       0.001189 -0.025507 -0.013012  0.037458 -0.009592   \n",
       "100004_raw-Fat           0.036457 -0.034531  0.015365  0.023796 -0.017477   \n",
       "100005_raw-Carbohydrate  0.029940 -0.006989  0.014807  0.050208  0.005352   \n",
       "\n",
       "                            LV987  \n",
       "100001_raw-Food_weight  -0.022283  \n",
       "100002_raw-Energy       -0.018910  \n",
       "100003_raw-Protein      -0.016718  \n",
       "100004_raw-Fat          -0.005397  \n",
       "100005_raw-Carbohydrate -0.049218  \n",
       "\n",
       "[5 rows x 987 columns]"
      ]
     },
     "execution_count": 7,
     "metadata": {},
     "output_type": "execute_result"
    }
   ],
   "source": [
    "data.head()"
   ]
  },
  {
   "cell_type": "markdown",
   "metadata": {
    "papermill": {
     "duration": 0.009939,
     "end_time": "2020-11-24T15:13:24.716221",
     "exception": false,
     "start_time": "2020-11-24T15:13:24.706282",
     "status": "completed"
    },
    "tags": []
   },
   "source": [
    "# Select diseases only"
   ]
  },
  {
   "cell_type": "code",
   "execution_count": 8,
   "metadata": {
    "execution": {
     "iopub.execute_input": "2020-11-24T15:13:24.738592Z",
     "iopub.status.busy": "2020-11-24T15:13:24.738203Z",
     "iopub.status.idle": "2020-11-24T15:13:24.750829Z",
     "shell.execute_reply": "2020-11-24T15:13:24.750447Z"
    },
    "papermill": {
     "duration": 0.024752,
     "end_time": "2020-11-24T15:13:24.750920",
     "exception": false,
     "start_time": "2020-11-24T15:13:24.726168",
     "status": "completed"
    },
    "tags": []
   },
   "outputs": [
    {
     "data": {
      "text/plain": [
       "PosixPath('/home/miltondp/projects/labs/greenelab/phenoplier/base/data/phenomexcan/phenomexcan_traits_fullcode_to_efo.tsv')"
      ]
     },
     "metadata": {},
     "output_type": "display_data"
    }
   ],
   "source": [
    "input_file = conf.PHENOMEXCAN[\"TRAITS_FULLCODE_TO_EFO_MAP_FILE\"]\n",
    "display(input_file)"
   ]
  },
  {
   "cell_type": "code",
   "execution_count": 9,
   "metadata": {
    "execution": {
     "iopub.execute_input": "2020-11-24T15:13:24.774085Z",
     "iopub.status.busy": "2020-11-24T15:13:24.773709Z",
     "iopub.status.idle": "2020-11-24T15:13:24.790656Z",
     "shell.execute_reply": "2020-11-24T15:13:24.790330Z"
    },
    "papermill": {
     "duration": 0.029382,
     "end_time": "2020-11-24T15:13:24.790753",
     "exception": false,
     "start_time": "2020-11-24T15:13:24.761371",
     "status": "completed"
    },
    "tags": []
   },
   "outputs": [],
   "source": [
    "ukb_to_efo_map = read_data(input_file)"
   ]
  },
  {
   "cell_type": "code",
   "execution_count": 10,
   "metadata": {
    "execution": {
     "iopub.execute_input": "2020-11-24T15:13:24.814284Z",
     "iopub.status.busy": "2020-11-24T15:13:24.813902Z",
     "iopub.status.idle": "2020-11-24T15:13:24.826490Z",
     "shell.execute_reply": "2020-11-24T15:13:24.826801Z"
    },
    "papermill": {
     "duration": 0.025376,
     "end_time": "2020-11-24T15:13:24.826920",
     "exception": false,
     "start_time": "2020-11-24T15:13:24.801544",
     "status": "completed"
    },
    "tags": []
   },
   "outputs": [
    {
     "data": {
      "text/plain": [
       "(1087, 7)"
      ]
     },
     "execution_count": 10,
     "metadata": {},
     "output_type": "execute_result"
    }
   ],
   "source": [
    "ukb_to_efo_map.shape"
   ]
  },
  {
   "cell_type": "code",
   "execution_count": 11,
   "metadata": {
    "execution": {
     "iopub.execute_input": "2020-11-24T15:13:24.851718Z",
     "iopub.status.busy": "2020-11-24T15:13:24.851326Z",
     "iopub.status.idle": "2020-11-24T15:13:24.869355Z",
     "shell.execute_reply": "2020-11-24T15:13:24.869026Z"
    },
    "papermill": {
     "duration": 0.031275,
     "end_time": "2020-11-24T15:13:24.869454",
     "exception": false,
     "start_time": "2020-11-24T15:13:24.838179",
     "status": "completed"
    },
    "tags": []
   },
   "outputs": [
    {
     "data": {
      "text/html": [
       "<div>\n",
       "<style scoped>\n",
       "    .dataframe tbody tr th:only-of-type {\n",
       "        vertical-align: middle;\n",
       "    }\n",
       "\n",
       "    .dataframe tbody tr th {\n",
       "        vertical-align: top;\n",
       "    }\n",
       "\n",
       "    .dataframe thead th {\n",
       "        text-align: right;\n",
       "    }\n",
       "</style>\n",
       "<table border=\"1\" class=\"dataframe\">\n",
       "  <thead>\n",
       "    <tr style=\"text-align: right;\">\n",
       "      <th></th>\n",
       "      <th>ukb_code</th>\n",
       "      <th>term_label</th>\n",
       "      <th>term_codes</th>\n",
       "      <th>mapping_type</th>\n",
       "      <th>ukb_fullcode</th>\n",
       "      <th>current_term_label</th>\n",
       "      <th>category</th>\n",
       "    </tr>\n",
       "  </thead>\n",
       "  <tbody>\n",
       "    <tr>\n",
       "      <th>0</th>\n",
       "      <td>K55</td>\n",
       "      <td>vascular disease</td>\n",
       "      <td>EFO:0004264, EFO:0009431</td>\n",
       "      <td>Broad</td>\n",
       "      <td>K55-Diagnoses_main_ICD10_K55_Vascular_disorder...</td>\n",
       "      <td>vascular disease AND intestinal disease</td>\n",
       "      <td>disease</td>\n",
       "    </tr>\n",
       "    <tr>\n",
       "      <th>1</th>\n",
       "      <td>M17</td>\n",
       "      <td>osteoarthritis || knee</td>\n",
       "      <td>EFO:0004616</td>\n",
       "      <td>Broad</td>\n",
       "      <td>M17-Diagnoses_main_ICD10_M17_Gonarthrosis_arth...</td>\n",
       "      <td>osteoarthritis, knee</td>\n",
       "      <td>disease</td>\n",
       "    </tr>\n",
       "    <tr>\n",
       "      <th>2</th>\n",
       "      <td>R30</td>\n",
       "      <td>dysuria</td>\n",
       "      <td>EFO:0003901</td>\n",
       "      <td>? Broad</td>\n",
       "      <td>R30-Diagnoses_main_ICD10_R30_Pain_associated_w...</td>\n",
       "      <td>dysuria</td>\n",
       "      <td>NaN</td>\n",
       "    </tr>\n",
       "    <tr>\n",
       "      <th>3</th>\n",
       "      <td>O60</td>\n",
       "      <td>premature birth</td>\n",
       "      <td>EFO:0003917</td>\n",
       "      <td>? Exact</td>\n",
       "      <td>O60-Diagnoses_main_ICD10_O60_Preterm_delivery</td>\n",
       "      <td>premature birth</td>\n",
       "      <td>NaN</td>\n",
       "    </tr>\n",
       "    <tr>\n",
       "      <th>4</th>\n",
       "      <td>S64</td>\n",
       "      <td>carpal tunnel syndrome</td>\n",
       "      <td>EFO:0004143</td>\n",
       "      <td>? Narrow</td>\n",
       "      <td>S64-Diagnoses_main_ICD10_S64_Injury_of_nerves_...</td>\n",
       "      <td>carpal tunnel syndrome</td>\n",
       "      <td>disease</td>\n",
       "    </tr>\n",
       "  </tbody>\n",
       "</table>\n",
       "</div>"
      ],
      "text/plain": [
       "  ukb_code              term_label                term_codes mapping_type  \\\n",
       "0      K55        vascular disease  EFO:0004264, EFO:0009431        Broad   \n",
       "1      M17  osteoarthritis || knee               EFO:0004616        Broad   \n",
       "2      R30                 dysuria               EFO:0003901      ? Broad   \n",
       "3      O60         premature birth               EFO:0003917      ? Exact   \n",
       "4      S64  carpal tunnel syndrome               EFO:0004143     ? Narrow   \n",
       "\n",
       "                                        ukb_fullcode  \\\n",
       "0  K55-Diagnoses_main_ICD10_K55_Vascular_disorder...   \n",
       "1  M17-Diagnoses_main_ICD10_M17_Gonarthrosis_arth...   \n",
       "2  R30-Diagnoses_main_ICD10_R30_Pain_associated_w...   \n",
       "3      O60-Diagnoses_main_ICD10_O60_Preterm_delivery   \n",
       "4  S64-Diagnoses_main_ICD10_S64_Injury_of_nerves_...   \n",
       "\n",
       "                        current_term_label category  \n",
       "0  vascular disease AND intestinal disease  disease  \n",
       "1                     osteoarthritis, knee  disease  \n",
       "2                                  dysuria      NaN  \n",
       "3                          premature birth      NaN  \n",
       "4                   carpal tunnel syndrome  disease  "
      ]
     },
     "execution_count": 11,
     "metadata": {},
     "output_type": "execute_result"
    }
   ],
   "source": [
    "ukb_to_efo_map.head()"
   ]
  },
  {
   "cell_type": "code",
   "execution_count": 12,
   "metadata": {
    "execution": {
     "iopub.execute_input": "2020-11-24T15:13:24.894857Z",
     "iopub.status.busy": "2020-11-24T15:13:24.894463Z",
     "iopub.status.idle": "2020-11-24T15:13:24.907828Z",
     "shell.execute_reply": "2020-11-24T15:13:24.907430Z"
    },
    "papermill": {
     "duration": 0.026992,
     "end_time": "2020-11-24T15:13:24.907925",
     "exception": false,
     "start_time": "2020-11-24T15:13:24.880933",
     "status": "completed"
    },
    "tags": []
   },
   "outputs": [],
   "source": [
    "efo_diseases = ukb_to_efo_map[ukb_to_efo_map['category'] == 'disease']['current_term_label'].unique()"
   ]
  },
  {
   "cell_type": "code",
   "execution_count": 13,
   "metadata": {
    "execution": {
     "iopub.execute_input": "2020-11-24T15:13:24.933056Z",
     "iopub.status.busy": "2020-11-24T15:13:24.932642Z",
     "iopub.status.idle": "2020-11-24T15:13:24.945768Z",
     "shell.execute_reply": "2020-11-24T15:13:24.945367Z"
    },
    "papermill": {
     "duration": 0.026479,
     "end_time": "2020-11-24T15:13:24.945865",
     "exception": false,
     "start_time": "2020-11-24T15:13:24.919386",
     "status": "completed"
    },
    "tags": []
   },
   "outputs": [
    {
     "data": {
      "text/plain": [
       "(538,)"
      ]
     },
     "execution_count": 13,
     "metadata": {},
     "output_type": "execute_result"
    }
   ],
   "source": [
    "efo_diseases.shape"
   ]
  },
  {
   "cell_type": "code",
   "execution_count": 14,
   "metadata": {
    "execution": {
     "iopub.execute_input": "2020-11-24T15:13:24.971434Z",
     "iopub.status.busy": "2020-11-24T15:13:24.971037Z",
     "iopub.status.idle": "2020-11-24T15:13:24.986590Z",
     "shell.execute_reply": "2020-11-24T15:13:24.986204Z"
    },
    "papermill": {
     "duration": 0.029201,
     "end_time": "2020-11-24T15:13:24.986692",
     "exception": false,
     "start_time": "2020-11-24T15:13:24.957491",
     "status": "completed"
    },
    "tags": []
   },
   "outputs": [],
   "source": [
    "data = data.loc[efo_diseases]"
   ]
  },
  {
   "cell_type": "code",
   "execution_count": 15,
   "metadata": {
    "execution": {
     "iopub.execute_input": "2020-11-24T15:13:25.012285Z",
     "iopub.status.busy": "2020-11-24T15:13:25.011885Z",
     "iopub.status.idle": "2020-11-24T15:13:25.024935Z",
     "shell.execute_reply": "2020-11-24T15:13:25.024599Z"
    },
    "papermill": {
     "duration": 0.026591,
     "end_time": "2020-11-24T15:13:25.025033",
     "exception": false,
     "start_time": "2020-11-24T15:13:24.998442",
     "status": "completed"
    },
    "tags": []
   },
   "outputs": [
    {
     "data": {
      "text/plain": [
       "(538, 987)"
      ]
     },
     "execution_count": 15,
     "metadata": {},
     "output_type": "execute_result"
    }
   ],
   "source": [
    "data.shape"
   ]
  },
  {
   "cell_type": "code",
   "execution_count": 16,
   "metadata": {
    "execution": {
     "iopub.execute_input": "2020-11-24T15:13:25.051003Z",
     "iopub.status.busy": "2020-11-24T15:13:25.050610Z",
     "iopub.status.idle": "2020-11-24T15:13:25.075866Z",
     "shell.execute_reply": "2020-11-24T15:13:25.076167Z"
    },
    "papermill": {
     "duration": 0.039385,
     "end_time": "2020-11-24T15:13:25.076285",
     "exception": false,
     "start_time": "2020-11-24T15:13:25.036900",
     "status": "completed"
    },
    "tags": []
   },
   "outputs": [
    {
     "data": {
      "text/html": [
       "<div>\n",
       "<style scoped>\n",
       "    .dataframe tbody tr th:only-of-type {\n",
       "        vertical-align: middle;\n",
       "    }\n",
       "\n",
       "    .dataframe tbody tr th {\n",
       "        vertical-align: top;\n",
       "    }\n",
       "\n",
       "    .dataframe thead th {\n",
       "        text-align: right;\n",
       "    }\n",
       "</style>\n",
       "<table border=\"1\" class=\"dataframe\">\n",
       "  <thead>\n",
       "    <tr style=\"text-align: right;\">\n",
       "      <th></th>\n",
       "      <th>LV1</th>\n",
       "      <th>LV2</th>\n",
       "      <th>LV3</th>\n",
       "      <th>LV4</th>\n",
       "      <th>LV5</th>\n",
       "      <th>LV6</th>\n",
       "      <th>LV7</th>\n",
       "      <th>LV8</th>\n",
       "      <th>LV9</th>\n",
       "      <th>LV10</th>\n",
       "      <th>...</th>\n",
       "      <th>LV978</th>\n",
       "      <th>LV979</th>\n",
       "      <th>LV980</th>\n",
       "      <th>LV981</th>\n",
       "      <th>LV982</th>\n",
       "      <th>LV983</th>\n",
       "      <th>LV984</th>\n",
       "      <th>LV985</th>\n",
       "      <th>LV986</th>\n",
       "      <th>LV987</th>\n",
       "    </tr>\n",
       "  </thead>\n",
       "  <tbody>\n",
       "    <tr>\n",
       "      <th>vascular disease AND intestinal disease</th>\n",
       "      <td>0.014921</td>\n",
       "      <td>0.007221</td>\n",
       "      <td>-0.021297</td>\n",
       "      <td>-0.013469</td>\n",
       "      <td>-0.004764</td>\n",
       "      <td>0.019406</td>\n",
       "      <td>0.034742</td>\n",
       "      <td>0.015188</td>\n",
       "      <td>-0.054239</td>\n",
       "      <td>-0.057495</td>\n",
       "      <td>...</td>\n",
       "      <td>-0.000006</td>\n",
       "      <td>0.009317</td>\n",
       "      <td>-0.021804</td>\n",
       "      <td>-0.025295</td>\n",
       "      <td>0.004658</td>\n",
       "      <td>-0.007537</td>\n",
       "      <td>-0.038976</td>\n",
       "      <td>-0.000494</td>\n",
       "      <td>-0.046299</td>\n",
       "      <td>0.039424</td>\n",
       "    </tr>\n",
       "    <tr>\n",
       "      <th>osteoarthritis, knee</th>\n",
       "      <td>-0.027514</td>\n",
       "      <td>-0.011319</td>\n",
       "      <td>-0.005507</td>\n",
       "      <td>0.024660</td>\n",
       "      <td>-0.012269</td>\n",
       "      <td>-0.037501</td>\n",
       "      <td>-0.041009</td>\n",
       "      <td>-0.018378</td>\n",
       "      <td>0.056720</td>\n",
       "      <td>-0.035201</td>\n",
       "      <td>...</td>\n",
       "      <td>-0.021507</td>\n",
       "      <td>0.023317</td>\n",
       "      <td>-0.020850</td>\n",
       "      <td>0.025021</td>\n",
       "      <td>0.003739</td>\n",
       "      <td>-0.008428</td>\n",
       "      <td>-0.040916</td>\n",
       "      <td>0.012425</td>\n",
       "      <td>0.033130</td>\n",
       "      <td>0.009771</td>\n",
       "    </tr>\n",
       "    <tr>\n",
       "      <th>carpal tunnel syndrome</th>\n",
       "      <td>0.037605</td>\n",
       "      <td>0.026694</td>\n",
       "      <td>-0.004169</td>\n",
       "      <td>-0.009875</td>\n",
       "      <td>-0.038713</td>\n",
       "      <td>-0.019403</td>\n",
       "      <td>-0.035912</td>\n",
       "      <td>0.008916</td>\n",
       "      <td>0.009359</td>\n",
       "      <td>0.034914</td>\n",
       "      <td>...</td>\n",
       "      <td>-0.009627</td>\n",
       "      <td>0.073954</td>\n",
       "      <td>-0.045759</td>\n",
       "      <td>0.030834</td>\n",
       "      <td>-0.013835</td>\n",
       "      <td>-0.016858</td>\n",
       "      <td>0.003820</td>\n",
       "      <td>-0.012988</td>\n",
       "      <td>-0.036130</td>\n",
       "      <td>-0.011489</td>\n",
       "    </tr>\n",
       "    <tr>\n",
       "      <th>gastritis</th>\n",
       "      <td>-0.028098</td>\n",
       "      <td>0.006805</td>\n",
       "      <td>0.011964</td>\n",
       "      <td>-0.008576</td>\n",
       "      <td>-0.034687</td>\n",
       "      <td>-0.033875</td>\n",
       "      <td>-0.043080</td>\n",
       "      <td>0.037237</td>\n",
       "      <td>-0.006757</td>\n",
       "      <td>0.003071</td>\n",
       "      <td>...</td>\n",
       "      <td>0.037084</td>\n",
       "      <td>0.039675</td>\n",
       "      <td>0.034724</td>\n",
       "      <td>0.004581</td>\n",
       "      <td>0.021483</td>\n",
       "      <td>-0.023586</td>\n",
       "      <td>0.031696</td>\n",
       "      <td>-0.003781</td>\n",
       "      <td>0.017152</td>\n",
       "      <td>0.041463</td>\n",
       "    </tr>\n",
       "    <tr>\n",
       "      <th>neoplasm</th>\n",
       "      <td>0.015709</td>\n",
       "      <td>0.004118</td>\n",
       "      <td>-0.015952</td>\n",
       "      <td>0.016398</td>\n",
       "      <td>0.010938</td>\n",
       "      <td>-0.017170</td>\n",
       "      <td>0.011790</td>\n",
       "      <td>0.055354</td>\n",
       "      <td>-0.020357</td>\n",
       "      <td>0.018452</td>\n",
       "      <td>...</td>\n",
       "      <td>-0.002537</td>\n",
       "      <td>-0.004774</td>\n",
       "      <td>0.006254</td>\n",
       "      <td>-0.008180</td>\n",
       "      <td>-0.014205</td>\n",
       "      <td>0.031993</td>\n",
       "      <td>0.021475</td>\n",
       "      <td>0.015875</td>\n",
       "      <td>0.031616</td>\n",
       "      <td>-0.041767</td>\n",
       "    </tr>\n",
       "  </tbody>\n",
       "</table>\n",
       "<p>5 rows × 987 columns</p>\n",
       "</div>"
      ],
      "text/plain": [
       "                                              LV1       LV2       LV3  \\\n",
       "vascular disease AND intestinal disease  0.014921  0.007221 -0.021297   \n",
       "osteoarthritis, knee                    -0.027514 -0.011319 -0.005507   \n",
       "carpal tunnel syndrome                   0.037605  0.026694 -0.004169   \n",
       "gastritis                               -0.028098  0.006805  0.011964   \n",
       "neoplasm                                 0.015709  0.004118 -0.015952   \n",
       "\n",
       "                                              LV4       LV5       LV6  \\\n",
       "vascular disease AND intestinal disease -0.013469 -0.004764  0.019406   \n",
       "osteoarthritis, knee                     0.024660 -0.012269 -0.037501   \n",
       "carpal tunnel syndrome                  -0.009875 -0.038713 -0.019403   \n",
       "gastritis                               -0.008576 -0.034687 -0.033875   \n",
       "neoplasm                                 0.016398  0.010938 -0.017170   \n",
       "\n",
       "                                              LV7       LV8       LV9  \\\n",
       "vascular disease AND intestinal disease  0.034742  0.015188 -0.054239   \n",
       "osteoarthritis, knee                    -0.041009 -0.018378  0.056720   \n",
       "carpal tunnel syndrome                  -0.035912  0.008916  0.009359   \n",
       "gastritis                               -0.043080  0.037237 -0.006757   \n",
       "neoplasm                                 0.011790  0.055354 -0.020357   \n",
       "\n",
       "                                             LV10  ...     LV978     LV979  \\\n",
       "vascular disease AND intestinal disease -0.057495  ... -0.000006  0.009317   \n",
       "osteoarthritis, knee                    -0.035201  ... -0.021507  0.023317   \n",
       "carpal tunnel syndrome                   0.034914  ... -0.009627  0.073954   \n",
       "gastritis                                0.003071  ...  0.037084  0.039675   \n",
       "neoplasm                                 0.018452  ... -0.002537 -0.004774   \n",
       "\n",
       "                                            LV980     LV981     LV982  \\\n",
       "vascular disease AND intestinal disease -0.021804 -0.025295  0.004658   \n",
       "osteoarthritis, knee                    -0.020850  0.025021  0.003739   \n",
       "carpal tunnel syndrome                  -0.045759  0.030834 -0.013835   \n",
       "gastritis                                0.034724  0.004581  0.021483   \n",
       "neoplasm                                 0.006254 -0.008180 -0.014205   \n",
       "\n",
       "                                            LV983     LV984     LV985  \\\n",
       "vascular disease AND intestinal disease -0.007537 -0.038976 -0.000494   \n",
       "osteoarthritis, knee                    -0.008428 -0.040916  0.012425   \n",
       "carpal tunnel syndrome                  -0.016858  0.003820 -0.012988   \n",
       "gastritis                               -0.023586  0.031696 -0.003781   \n",
       "neoplasm                                 0.031993  0.021475  0.015875   \n",
       "\n",
       "                                            LV986     LV987  \n",
       "vascular disease AND intestinal disease -0.046299  0.039424  \n",
       "osteoarthritis, knee                     0.033130  0.009771  \n",
       "carpal tunnel syndrome                  -0.036130 -0.011489  \n",
       "gastritis                                0.017152  0.041463  \n",
       "neoplasm                                 0.031616 -0.041767  \n",
       "\n",
       "[5 rows x 987 columns]"
      ]
     },
     "execution_count": 16,
     "metadata": {},
     "output_type": "execute_result"
    }
   ],
   "source": [
    "data.head()"
   ]
  },
  {
   "cell_type": "code",
   "execution_count": 17,
   "metadata": {
    "execution": {
     "iopub.execute_input": "2020-11-24T15:13:25.103127Z",
     "iopub.status.busy": "2020-11-24T15:13:25.102733Z",
     "iopub.status.idle": "2020-11-24T15:13:25.117576Z",
     "shell.execute_reply": "2020-11-24T15:13:25.117244Z"
    },
    "papermill": {
     "duration": 0.029087,
     "end_time": "2020-11-24T15:13:25.117674",
     "exception": false,
     "start_time": "2020-11-24T15:13:25.088587",
     "status": "completed"
    },
    "tags": []
   },
   "outputs": [],
   "source": [
    "assert not data.isna().any().any()"
   ]
  },
  {
   "cell_type": "markdown",
   "metadata": {
    "papermill": {
     "duration": 0.011754,
     "end_time": "2020-11-24T15:13:25.141782",
     "exception": false,
     "start_time": "2020-11-24T15:13:25.130028",
     "status": "completed"
    },
    "tags": []
   },
   "source": [
    "# Save"
   ]
  },
  {
   "cell_type": "code",
   "execution_count": 18,
   "metadata": {
    "execution": {
     "iopub.execute_input": "2020-11-24T15:13:25.167758Z",
     "iopub.status.busy": "2020-11-24T15:13:25.167394Z",
     "iopub.status.idle": "2020-11-24T15:13:25.180351Z",
     "shell.execute_reply": "2020-11-24T15:13:25.180025Z"
    },
    "papermill": {
     "duration": 0.026951,
     "end_time": "2020-11-24T15:13:25.180439",
     "exception": false,
     "start_time": "2020-11-24T15:13:25.153488",
     "status": "completed"
    },
    "tags": []
   },
   "outputs": [
    {
     "data": {
      "text/plain": [
       "PosixPath('/home/miltondp/projects/labs/greenelab/phenoplier/base/results/data_transformations/traits_selections/diseases_only-projection-smultixcan-efo_partial-mashr-zscores.pkl')"
      ]
     },
     "metadata": {},
     "output_type": "display_data"
    }
   ],
   "source": [
    "output_file = Path(\n",
    "    RESULTS_DIR,\n",
    "    f'diseases_only-{input_filepath_stem}.pkl',\n",
    ").resolve()\n",
    "\n",
    "display(output_file)"
   ]
  },
  {
   "cell_type": "code",
   "execution_count": 19,
   "metadata": {
    "execution": {
     "iopub.execute_input": "2020-11-24T15:13:25.206405Z",
     "iopub.status.busy": "2020-11-24T15:13:25.206035Z",
     "iopub.status.idle": "2020-11-24T15:13:25.222253Z",
     "shell.execute_reply": "2020-11-24T15:13:25.221851Z"
    },
    "papermill": {
     "duration": 0.030058,
     "end_time": "2020-11-24T15:13:25.222349",
     "exception": false,
     "start_time": "2020-11-24T15:13:25.192291",
     "status": "completed"
    },
    "tags": []
   },
   "outputs": [],
   "source": [
    "data.to_pickle(output_file)"
   ]
  },
  {
   "cell_type": "code",
   "execution_count": null,
   "metadata": {
    "papermill": {
     "duration": 0.012054,
     "end_time": "2020-11-24T15:13:25.246696",
     "exception": false,
     "start_time": "2020-11-24T15:13:25.234642",
     "status": "completed"
    },
    "tags": []
   },
   "outputs": [],
   "source": []
  }
 ],
 "metadata": {
  "kernelspec": {
   "display_name": "Python 3",
   "language": "python",
   "name": "python3"
  },
  "language_info": {
   "codemirror_mode": {
    "name": "ipython",
    "version": 3
   },
   "file_extension": ".py",
   "mimetype": "text/x-python",
   "name": "python",
   "nbconvert_exporter": "python",
   "pygments_lexer": "ipython3",
   "version": "3.8.6"
  },
  "papermill": {
   "default_parameters": {},
   "duration": 3.806792,
   "end_time": "2020-11-24T15:13:25.766452",
   "environment_variables": {},
   "exception": null,
   "input_path": "10_data_transformations/000_00-diseases_only-projection_smultixcan_efo.ipynb",
   "output_path": "10_data_transformations/000_00-diseases_only-projection_smultixcan_efo.run.ipynb",
   "parameters": {},
   "start_time": "2020-11-24T15:13:21.959660",
   "version": "2.2.2"
  },
  "toc-autonumbering": true,
  "toc-showcode": false,
  "toc-showmarkdowntxt": false,
  "toc-showtags": false
 },
 "nbformat": 4,
 "nbformat_minor": 4
}